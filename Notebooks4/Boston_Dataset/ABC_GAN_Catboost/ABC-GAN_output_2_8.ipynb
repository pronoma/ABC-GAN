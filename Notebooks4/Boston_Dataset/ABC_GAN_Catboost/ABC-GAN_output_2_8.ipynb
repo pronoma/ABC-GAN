{
 "cells": [
  {
   "cell_type": "markdown",
   "id": "9f65348c",
   "metadata": {
    "tags": [
     "papermill-error-cell-tag"
    ]
   },
   "source": [
    "<span style=\"color:red; font-family:Helvetica Neue, Helvetica, Arial, sans-serif; font-size:2em;\">An Exception was encountered at '<a href=\"#papermill-error-cell\">In [20]</a>'.</span>"
   ]
  },
  {
   "cell_type": "markdown",
   "id": "622780e6",
   "metadata": {
    "id": "622780e6",
    "papermill": {
     "duration": 0.010307,
     "end_time": "2022-07-22T21:27:12.251212",
     "exception": false,
     "start_time": "2022-07-22T21:27:12.240905",
     "status": "completed"
    },
    "tags": []
   },
   "source": [
    "## Import Libraries "
   ]
  },
  {
   "cell_type": "code",
   "execution_count": 1,
   "id": "a62397e3",
   "metadata": {
    "execution": {
     "iopub.execute_input": "2022-07-22T21:27:12.274916Z",
     "iopub.status.busy": "2022-07-22T21:27:12.273887Z",
     "iopub.status.idle": "2022-07-22T21:27:12.307884Z",
     "shell.execute_reply": "2022-07-22T21:27:12.306551Z"
    },
    "id": "a62397e3",
    "papermill": {
     "duration": 0.05348,
     "end_time": "2022-07-22T21:27:12.312675",
     "exception": false,
     "start_time": "2022-07-22T21:27:12.259195",
     "status": "completed"
    },
    "tags": []
   },
   "outputs": [],
   "source": [
    "import warnings\n",
    "import sys\n",
    "sys.path.insert(0, '../../src')\n",
    "warnings.filterwarnings('ignore')"
   ]
  },
  {
   "cell_type": "code",
   "execution_count": 2,
   "id": "d6a4e155",
   "metadata": {
    "execution": {
     "iopub.execute_input": "2022-07-22T21:27:12.406491Z",
     "iopub.status.busy": "2022-07-22T21:27:12.394916Z",
     "iopub.status.idle": "2022-07-22T21:27:20.132373Z",
     "shell.execute_reply": "2022-07-22T21:27:20.130494Z"
    },
    "id": "d6a4e155",
    "papermill": {
     "duration": 7.814213,
     "end_time": "2022-07-22T21:27:20.135413",
     "exception": false,
     "start_time": "2022-07-22T21:27:12.321200",
     "status": "completed"
    },
    "tags": []
   },
   "outputs": [],
   "source": [
    "import ABC_train_test2\n",
    "import bostonDataset\n",
    "import network\n",
    "import dataset\n",
    "import sanityChecks\n",
    "import torch \n",
    "import scrapbook as sb\n",
    "from statistics import mean \n",
    "import catboost as ctb \n",
    "from sklearn.model_selection import train_test_split\n",
    "from sklearn.metrics import mean_squared_error,mean_absolute_error\n",
    "import numpy as np"
   ]
  },
  {
   "cell_type": "markdown",
   "id": "2fa5b0f7",
   "metadata": {
    "id": "2fa5b0f7",
    "papermill": {
     "duration": 0.008201,
     "end_time": "2022-07-22T21:27:20.151331",
     "exception": false,
     "start_time": "2022-07-22T21:27:20.143130",
     "status": "completed"
    },
    "tags": []
   },
   "source": [
    "## Parameters "
   ]
  },
  {
   "cell_type": "code",
   "execution_count": 3,
   "id": "783186fb",
   "metadata": {
    "execution": {
     "iopub.execute_input": "2022-07-22T21:27:20.182496Z",
     "iopub.status.busy": "2022-07-22T21:27:20.180822Z",
     "iopub.status.idle": "2022-07-22T21:27:20.195908Z",
     "shell.execute_reply": "2022-07-22T21:27:20.189142Z"
    },
    "id": "783186fb",
    "papermill": {
     "duration": 0.043539,
     "end_time": "2022-07-22T21:27:20.204067",
     "exception": false,
     "start_time": "2022-07-22T21:27:20.160528",
     "status": "completed"
    },
    "tags": [
     "parameters"
    ]
   },
   "outputs": [],
   "source": [
    "variance = 1\n",
    "bias = 1 "
   ]
  },
  {
   "cell_type": "code",
   "execution_count": 4,
   "id": "3a104a15",
   "metadata": {
    "execution": {
     "iopub.execute_input": "2022-07-22T21:27:20.221929Z",
     "iopub.status.busy": "2022-07-22T21:27:20.220896Z",
     "iopub.status.idle": "2022-07-22T21:27:20.226287Z",
     "shell.execute_reply": "2022-07-22T21:27:20.225359Z"
    },
    "papermill": {
     "duration": 0.021035,
     "end_time": "2022-07-22T21:27:20.232477",
     "exception": false,
     "start_time": "2022-07-22T21:27:20.211442",
     "status": "completed"
    },
    "tags": [
     "injected-parameters"
    ]
   },
   "outputs": [],
   "source": [
    "# Parameters\n",
    "variance = 0.01\n",
    "bias = 0.01\n"
   ]
  },
  {
   "cell_type": "markdown",
   "id": "391cdbfd",
   "metadata": {
    "id": "391cdbfd",
    "papermill": {
     "duration": 0.03615,
     "end_time": "2022-07-22T21:27:20.282050",
     "exception": false,
     "start_time": "2022-07-22T21:27:20.245900",
     "status": "completed"
    },
    "tags": []
   },
   "source": [
    "## Dataset \n"
   ]
  },
  {
   "cell_type": "code",
   "execution_count": 5,
   "id": "5b51f161",
   "metadata": {
    "execution": {
     "iopub.execute_input": "2022-07-22T21:27:20.302321Z",
     "iopub.status.busy": "2022-07-22T21:27:20.301370Z",
     "iopub.status.idle": "2022-07-22T21:27:20.308865Z",
     "shell.execute_reply": "2022-07-22T21:27:20.306345Z"
    },
    "id": "5b51f161",
    "papermill": {
     "duration": 0.021996,
     "end_time": "2022-07-22T21:27:20.313495",
     "exception": false,
     "start_time": "2022-07-22T21:27:20.291499",
     "status": "completed"
    },
    "tags": []
   },
   "outputs": [],
   "source": [
    "#Parameters \n",
    "n_features = 13\n",
    "n_samples= 506\n",
    "n_target = 1 "
   ]
  },
  {
   "cell_type": "code",
   "execution_count": 6,
   "id": "5d6eced4",
   "metadata": {
    "execution": {
     "iopub.execute_input": "2022-07-22T21:27:20.334462Z",
     "iopub.status.busy": "2022-07-22T21:27:20.333836Z",
     "iopub.status.idle": "2022-07-22T21:27:20.372278Z",
     "shell.execute_reply": "2022-07-22T21:27:20.371122Z"
    },
    "id": "5d6eced4",
    "papermill": {
     "duration": 0.055638,
     "end_time": "2022-07-22T21:27:20.376763",
     "exception": false,
     "start_time": "2022-07-22T21:27:20.321125",
     "status": "completed"
    },
    "tags": []
   },
   "outputs": [
    {
     "name": "stdout",
     "output_type": "stream",
     "text": [
      "         X1        X2        X3        X4        X5        X6        X7  \\\n",
      "0 -0.419782  0.284830 -1.287909 -0.272599 -0.144217  0.413672 -0.120013   \n",
      "1 -0.417339 -0.487722 -0.593381 -0.272599 -0.740262  0.194274  0.367166   \n",
      "2 -0.417342 -0.487722 -0.593381 -0.272599 -0.740262  1.282714 -0.265812   \n",
      "3 -0.416750 -0.487722 -1.306878 -0.272599 -0.835284  1.016303 -0.809889   \n",
      "4 -0.412482 -0.487722 -1.306878 -0.272599 -0.835284  1.228577 -0.511180   \n",
      "\n",
      "         X8        X9       X10       X11       X12       X13         Y  \n",
      "0  0.140214 -0.982843 -0.666608 -1.459000  0.441052 -1.075562  0.159686  \n",
      "1  0.557160 -0.867883 -0.987329 -0.303094  0.441052 -0.492439 -0.101524  \n",
      "2  0.557160 -0.867883 -0.987329 -0.303094  0.396427 -1.208727  1.324247  \n",
      "3  1.077737 -0.752922 -1.106115  0.113032  0.416163 -1.361517  1.182758  \n",
      "4  1.077737 -0.752922 -1.106115  0.113032  0.441052 -1.026501  1.487503  \n"
     ]
    }
   ],
   "source": [
    "X,Y = bostonDataset.boston_data()"
   ]
  },
  {
   "cell_type": "code",
   "execution_count": 7,
   "id": "fe007438",
   "metadata": {
    "execution": {
     "iopub.execute_input": "2022-07-22T21:27:20.570278Z",
     "iopub.status.busy": "2022-07-22T21:27:20.569521Z",
     "iopub.status.idle": "2022-07-22T21:27:20.576353Z",
     "shell.execute_reply": "2022-07-22T21:27:20.574798Z"
    },
    "id": "fe007438",
    "papermill": {
     "duration": 0.147801,
     "end_time": "2022-07-22T21:27:20.628813",
     "exception": false,
     "start_time": "2022-07-22T21:27:20.481012",
     "status": "completed"
    },
    "tags": []
   },
   "outputs": [],
   "source": [
    "#Train test split for dataset \n",
    "X_train,X_test,Y_train,Y_test = train_test_split(X,Y,test_size = 0.2)\n",
    "train_data = dataset.CustomDataset(X_train,Y_train)\n",
    "test_data = dataset.CustomDataset(X_test,Y_test)\n"
   ]
  },
  {
   "cell_type": "markdown",
   "id": "a9a1af34",
   "metadata": {
    "id": "a9a1af34",
    "papermill": {
     "duration": 0.010241,
     "end_time": "2022-07-22T21:27:20.655924",
     "exception": false,
     "start_time": "2022-07-22T21:27:20.645683",
     "status": "completed"
    },
    "tags": []
   },
   "source": [
    "## Training Parameters "
   ]
  },
  {
   "cell_type": "code",
   "execution_count": 8,
   "id": "952b7fc8",
   "metadata": {
    "execution": {
     "iopub.execute_input": "2022-07-22T21:27:20.713271Z",
     "iopub.status.busy": "2022-07-22T21:27:20.712496Z",
     "iopub.status.idle": "2022-07-22T21:27:20.717567Z",
     "shell.execute_reply": "2022-07-22T21:27:20.716650Z"
    },
    "id": "952b7fc8",
    "papermill": {
     "duration": 0.093491,
     "end_time": "2022-07-22T21:27:20.758614",
     "exception": false,
     "start_time": "2022-07-22T21:27:20.665123",
     "status": "completed"
    },
    "tags": []
   },
   "outputs": [],
   "source": [
    "batch_size = 32\n",
    "n_epochs = 1000\n",
    "#Select the device \n",
    "device = torch.device('cuda' if torch.cuda.is_available() else 'cpu')"
   ]
  },
  {
   "cell_type": "markdown",
   "id": "a95e1600",
   "metadata": {
    "id": "a95e1600",
    "papermill": {
     "duration": 0.010281,
     "end_time": "2022-07-22T21:27:20.777805",
     "exception": false,
     "start_time": "2022-07-22T21:27:20.767524",
     "status": "completed"
    },
    "tags": []
   },
   "source": [
    "# ABC Pre-generator Model \n",
    "\n",
    "1. The catboost model is used as a pre-generator model for the ABC-GAN. \n",
    "2. The model is first trained on the entire dataset \n",
    "3. It generats X,Y pairs and we add some Gaussian noise with mean 0 and variance 1 to it which is then feed as input to the generator.\n"
   ]
  },
  {
   "cell_type": "code",
   "execution_count": 9,
   "id": "ff8ce7bd",
   "metadata": {
    "execution": {
     "iopub.execute_input": "2022-07-22T21:27:20.830946Z",
     "iopub.status.busy": "2022-07-22T21:27:20.830037Z",
     "iopub.status.idle": "2022-07-22T21:27:25.184657Z",
     "shell.execute_reply": "2022-07-22T21:27:25.183938Z"
    },
    "id": "ff8ce7bd",
    "papermill": {
     "duration": 4.398556,
     "end_time": "2022-07-22T21:27:25.187583",
     "exception": false,
     "start_time": "2022-07-22T21:27:20.789027",
     "status": "completed"
    },
    "tags": []
   },
   "outputs": [
    {
     "name": "stdout",
     "output_type": "stream",
     "text": [
      "Learning rate set to 0.03548\n",
      "0:\tlearn: 0.9360797\ttotal: 61.4ms\tremaining: 1m 1s\n",
      "1:\tlearn: 0.9161977\ttotal: 63.8ms\tremaining: 31.8s\n",
      "2:\tlearn: 0.8953310\ttotal: 67ms\tremaining: 22.3s\n",
      "3:\tlearn: 0.8797020\ttotal: 69.5ms\tremaining: 17.3s\n",
      "4:\tlearn: 0.8637437\ttotal: 71.9ms\tremaining: 14.3s\n",
      "5:\tlearn: 0.8471767\ttotal: 73.5ms\tremaining: 12.2s\n",
      "6:\tlearn: 0.8320251\ttotal: 75.8ms\tremaining: 10.8s\n",
      "7:\tlearn: 0.8160279\ttotal: 78.1ms\tremaining: 9.69s\n",
      "8:\tlearn: 0.8008045\ttotal: 83ms\tremaining: 9.13s\n",
      "9:\tlearn: 0.7840365\ttotal: 87.1ms\tremaining: 8.63s\n",
      "10:\tlearn: 0.7682714\ttotal: 93.8ms\tremaining: 8.43s\n",
      "11:\tlearn: 0.7559555\ttotal: 98.9ms\tremaining: 8.15s\n",
      "12:\tlearn: 0.7411184\ttotal: 104ms\tremaining: 7.88s\n",
      "13:\tlearn: 0.7269227\ttotal: 109ms\tremaining: 7.68s\n",
      "14:\tlearn: 0.7147521\ttotal: 112ms\tremaining: 7.33s\n",
      "15:\tlearn: 0.7015067\ttotal: 119ms\tremaining: 7.31s\n",
      "16:\tlearn: 0.6902238\ttotal: 123ms\tremaining: 7.14s\n",
      "17:\tlearn: 0.6780241\ttotal: 126ms\tremaining: 6.86s\n",
      "18:\tlearn: 0.6659223\ttotal: 128ms\tremaining: 6.63s\n",
      "19:\tlearn: 0.6541799\ttotal: 131ms\tremaining: 6.41s\n",
      "20:\tlearn: 0.6407932\ttotal: 133ms\tremaining: 6.21s\n",
      "21:\tlearn: 0.6304623\ttotal: 136ms\tremaining: 6.03s\n",
      "22:\tlearn: 0.6220827\ttotal: 138ms\tremaining: 5.86s\n",
      "23:\tlearn: 0.6129222\ttotal: 140ms\tremaining: 5.71s\n",
      "24:\tlearn: 0.6032632\ttotal: 143ms\tremaining: 5.58s\n",
      "25:\tlearn: 0.5940925\ttotal: 147ms\tremaining: 5.49s\n"
     ]
    },
    {
     "name": "stdout",
     "output_type": "stream",
     "text": [
      "26:\tlearn: 0.5859053\ttotal: 153ms\tremaining: 5.52s\n",
      "27:\tlearn: 0.5771129\ttotal: 157ms\tremaining: 5.43s\n",
      "28:\tlearn: 0.5678968\ttotal: 159ms\tremaining: 5.33s\n",
      "29:\tlearn: 0.5575742\ttotal: 162ms\tremaining: 5.23s\n",
      "30:\tlearn: 0.5484900\ttotal: 164ms\tremaining: 5.13s\n",
      "31:\tlearn: 0.5406694\ttotal: 166ms\tremaining: 5.03s\n",
      "32:\tlearn: 0.5340442\ttotal: 169ms\tremaining: 4.97s\n",
      "33:\tlearn: 0.5268695\ttotal: 172ms\tremaining: 4.9s\n",
      "34:\tlearn: 0.5197030\ttotal: 176ms\tremaining: 4.84s\n",
      "35:\tlearn: 0.5124610\ttotal: 186ms\tremaining: 4.98s\n"
     ]
    },
    {
     "name": "stdout",
     "output_type": "stream",
     "text": [
      "36:\tlearn: 0.5058520\ttotal: 299ms\tremaining: 7.79s\n",
      "37:\tlearn: 0.4985889\ttotal: 303ms\tremaining: 7.66s\n",
      "38:\tlearn: 0.4910299\ttotal: 314ms\tremaining: 7.73s\n",
      "39:\tlearn: 0.4840636\ttotal: 319ms\tremaining: 7.66s\n",
      "40:\tlearn: 0.4792267\ttotal: 322ms\tremaining: 7.53s\n",
      "41:\tlearn: 0.4730577\ttotal: 341ms\tremaining: 7.78s\n",
      "42:\tlearn: 0.4690543\ttotal: 342ms\tremaining: 7.61s\n",
      "43:\tlearn: 0.4640360\ttotal: 345ms\tremaining: 7.5s\n",
      "44:\tlearn: 0.4582980\ttotal: 350ms\tremaining: 7.42s\n",
      "45:\tlearn: 0.4535425\ttotal: 355ms\tremaining: 7.36s\n",
      "46:\tlearn: 0.4483452\ttotal: 358ms\tremaining: 7.25s\n",
      "47:\tlearn: 0.4430704\ttotal: 360ms\tremaining: 7.14s\n",
      "48:\tlearn: 0.4376818\ttotal: 363ms\tremaining: 7.05s\n",
      "49:\tlearn: 0.4331612\ttotal: 365ms\tremaining: 6.94s\n",
      "50:\tlearn: 0.4281963\ttotal: 367ms\tremaining: 6.83s\n",
      "51:\tlearn: 0.4228457\ttotal: 371ms\tremaining: 6.76s\n",
      "52:\tlearn: 0.4174772\ttotal: 375ms\tremaining: 6.7s\n",
      "53:\tlearn: 0.4132406\ttotal: 378ms\tremaining: 6.61s\n",
      "54:\tlearn: 0.4079309\ttotal: 382ms\tremaining: 6.56s\n",
      "55:\tlearn: 0.4044424\ttotal: 388ms\tremaining: 6.55s\n",
      "56:\tlearn: 0.3997588\ttotal: 395ms\tremaining: 6.53s\n",
      "57:\tlearn: 0.3956821\ttotal: 409ms\tremaining: 6.64s\n"
     ]
    },
    {
     "name": "stdout",
     "output_type": "stream",
     "text": [
      "58:\tlearn: 0.3929331\ttotal: 444ms\tremaining: 7.09s\n",
      "59:\tlearn: 0.3891198\ttotal: 473ms\tremaining: 7.41s\n",
      "60:\tlearn: 0.3857990\ttotal: 482ms\tremaining: 7.42s\n",
      "61:\tlearn: 0.3828784\ttotal: 488ms\tremaining: 7.38s\n",
      "62:\tlearn: 0.3788651\ttotal: 492ms\tremaining: 7.31s\n",
      "63:\tlearn: 0.3747507\ttotal: 498ms\tremaining: 7.29s\n",
      "64:\tlearn: 0.3703906\ttotal: 503ms\tremaining: 7.24s\n",
      "65:\tlearn: 0.3675794\ttotal: 509ms\tremaining: 7.21s\n",
      "66:\tlearn: 0.3648984\ttotal: 512ms\tremaining: 7.13s\n",
      "67:\tlearn: 0.3622882\ttotal: 515ms\tremaining: 7.06s\n",
      "68:\tlearn: 0.3590725\ttotal: 519ms\tremaining: 7s\n",
      "69:\tlearn: 0.3566851\ttotal: 525ms\tremaining: 6.98s\n",
      "70:\tlearn: 0.3540802\ttotal: 529ms\tremaining: 6.92s\n",
      "71:\tlearn: 0.3518879\ttotal: 533ms\tremaining: 6.87s\n",
      "72:\tlearn: 0.3492156\ttotal: 537ms\tremaining: 6.82s\n",
      "73:\tlearn: 0.3470105\ttotal: 542ms\tremaining: 6.78s\n",
      "74:\tlearn: 0.3439086\ttotal: 546ms\tremaining: 6.73s\n",
      "75:\tlearn: 0.3419377\ttotal: 551ms\tremaining: 6.7s\n",
      "76:\tlearn: 0.3395243\ttotal: 568ms\tremaining: 6.81s\n",
      "77:\tlearn: 0.3366562\ttotal: 574ms\tremaining: 6.78s\n",
      "78:\tlearn: 0.3344922\ttotal: 577ms\tremaining: 6.73s\n",
      "79:\tlearn: 0.3312109\ttotal: 582ms\tremaining: 6.7s\n",
      "80:\tlearn: 0.3286412\ttotal: 586ms\tremaining: 6.65s\n",
      "81:\tlearn: 0.3264929\ttotal: 591ms\tremaining: 6.62s\n",
      "82:\tlearn: 0.3244681\ttotal: 596ms\tremaining: 6.58s\n",
      "83:\tlearn: 0.3227175\ttotal: 607ms\tremaining: 6.62s\n"
     ]
    },
    {
     "name": "stdout",
     "output_type": "stream",
     "text": [
      "84:\tlearn: 0.3202757\ttotal: 619ms\tremaining: 6.66s\n",
      "85:\tlearn: 0.3183793\ttotal: 622ms\tremaining: 6.61s\n",
      "86:\tlearn: 0.3164304\ttotal: 625ms\tremaining: 6.56s\n",
      "87:\tlearn: 0.3142618\ttotal: 626ms\tremaining: 6.49s\n",
      "88:\tlearn: 0.3119208\ttotal: 629ms\tremaining: 6.44s\n",
      "89:\tlearn: 0.3092327\ttotal: 631ms\tremaining: 6.38s\n",
      "90:\tlearn: 0.3077371\ttotal: 637ms\tremaining: 6.36s\n",
      "91:\tlearn: 0.3063472\ttotal: 649ms\tremaining: 6.41s\n",
      "92:\tlearn: 0.3042218\ttotal: 652ms\tremaining: 6.36s\n",
      "93:\tlearn: 0.3024143\ttotal: 665ms\tremaining: 6.41s\n",
      "94:\tlearn: 0.3002485\ttotal: 668ms\tremaining: 6.36s\n",
      "95:\tlearn: 0.2989177\ttotal: 671ms\tremaining: 6.32s\n",
      "96:\tlearn: 0.2973690\ttotal: 677ms\tremaining: 6.3s\n",
      "97:\tlearn: 0.2958285\ttotal: 682ms\tremaining: 6.28s\n",
      "98:\tlearn: 0.2944787\ttotal: 685ms\tremaining: 6.24s\n",
      "99:\tlearn: 0.2928580\ttotal: 689ms\tremaining: 6.2s\n",
      "100:\tlearn: 0.2916062\ttotal: 713ms\tremaining: 6.34s\n",
      "101:\tlearn: 0.2900660\ttotal: 719ms\tremaining: 6.33s\n",
      "102:\tlearn: 0.2889019\ttotal: 723ms\tremaining: 6.29s\n",
      "103:\tlearn: 0.2877328\ttotal: 742ms\tremaining: 6.39s\n",
      "104:\tlearn: 0.2867781\ttotal: 745ms\tremaining: 6.35s\n"
     ]
    },
    {
     "name": "stdout",
     "output_type": "stream",
     "text": [
      "105:\tlearn: 0.2854055\ttotal: 748ms\tremaining: 6.3s\n",
      "106:\tlearn: 0.2831632\ttotal: 750ms\tremaining: 6.26s\n",
      "107:\tlearn: 0.2814310\ttotal: 772ms\tremaining: 6.38s\n",
      "108:\tlearn: 0.2803905\ttotal: 780ms\tremaining: 6.38s\n",
      "109:\tlearn: 0.2794769\ttotal: 783ms\tremaining: 6.34s\n",
      "110:\tlearn: 0.2783843\ttotal: 790ms\tremaining: 6.33s\n",
      "111:\tlearn: 0.2772320\ttotal: 806ms\tremaining: 6.39s\n",
      "112:\tlearn: 0.2757327\ttotal: 813ms\tremaining: 6.38s\n",
      "113:\tlearn: 0.2744180\ttotal: 826ms\tremaining: 6.42s\n"
     ]
    },
    {
     "name": "stdout",
     "output_type": "stream",
     "text": [
      "114:\tlearn: 0.2732947\ttotal: 831ms\tremaining: 6.39s\n",
      "115:\tlearn: 0.2726903\ttotal: 842ms\tremaining: 6.42s\n",
      "116:\tlearn: 0.2713980\ttotal: 856ms\tremaining: 6.46s\n",
      "117:\tlearn: 0.2703189\ttotal: 871ms\tremaining: 6.51s\n",
      "118:\tlearn: 0.2692884\ttotal: 873ms\tremaining: 6.46s\n",
      "119:\tlearn: 0.2683979\ttotal: 875ms\tremaining: 6.42s\n",
      "120:\tlearn: 0.2674558\ttotal: 878ms\tremaining: 6.38s\n",
      "121:\tlearn: 0.2667924\ttotal: 880ms\tremaining: 6.33s\n",
      "122:\tlearn: 0.2655919\ttotal: 883ms\tremaining: 6.3s\n",
      "123:\tlearn: 0.2646013\ttotal: 886ms\tremaining: 6.26s\n",
      "124:\tlearn: 0.2636179\ttotal: 890ms\tremaining: 6.23s\n",
      "125:\tlearn: 0.2627262\ttotal: 893ms\tremaining: 6.19s\n",
      "126:\tlearn: 0.2613314\ttotal: 896ms\tremaining: 6.16s\n",
      "127:\tlearn: 0.2607565\ttotal: 900ms\tremaining: 6.13s\n",
      "128:\tlearn: 0.2596195\ttotal: 903ms\tremaining: 6.1s\n",
      "129:\tlearn: 0.2586658\ttotal: 907ms\tremaining: 6.07s\n",
      "130:\tlearn: 0.2580201\ttotal: 910ms\tremaining: 6.03s\n",
      "131:\tlearn: 0.2569488\ttotal: 912ms\tremaining: 6s\n",
      "132:\tlearn: 0.2558842\ttotal: 915ms\tremaining: 5.96s\n",
      "133:\tlearn: 0.2550380\ttotal: 918ms\tremaining: 5.93s\n",
      "134:\tlearn: 0.2543436\ttotal: 921ms\tremaining: 5.9s\n",
      "135:\tlearn: 0.2534581\ttotal: 924ms\tremaining: 5.87s\n",
      "136:\tlearn: 0.2529624\ttotal: 927ms\tremaining: 5.84s\n",
      "137:\tlearn: 0.2517076\ttotal: 930ms\tremaining: 5.81s\n",
      "138:\tlearn: 0.2507416\ttotal: 933ms\tremaining: 5.78s\n",
      "139:\tlearn: 0.2502513\ttotal: 937ms\tremaining: 5.75s\n",
      "140:\tlearn: 0.2496640\ttotal: 940ms\tremaining: 5.72s\n",
      "141:\tlearn: 0.2489903\ttotal: 943ms\tremaining: 5.7s\n",
      "142:\tlearn: 0.2482381\ttotal: 946ms\tremaining: 5.67s\n",
      "143:\tlearn: 0.2474324\ttotal: 949ms\tremaining: 5.64s\n",
      "144:\tlearn: 0.2468791\ttotal: 952ms\tremaining: 5.61s\n",
      "145:\tlearn: 0.2460503\ttotal: 954ms\tremaining: 5.58s\n",
      "146:\tlearn: 0.2452382\ttotal: 957ms\tremaining: 5.55s\n",
      "147:\tlearn: 0.2442062\ttotal: 959ms\tremaining: 5.52s\n",
      "148:\tlearn: 0.2436615\ttotal: 961ms\tremaining: 5.49s\n",
      "149:\tlearn: 0.2432774\ttotal: 963ms\tremaining: 5.46s\n",
      "150:\tlearn: 0.2426353\ttotal: 967ms\tremaining: 5.44s\n",
      "151:\tlearn: 0.2419861\ttotal: 971ms\tremaining: 5.42s\n",
      "152:\tlearn: 0.2414967\ttotal: 975ms\tremaining: 5.4s\n",
      "153:\tlearn: 0.2412672\ttotal: 978ms\tremaining: 5.37s\n"
     ]
    },
    {
     "name": "stdout",
     "output_type": "stream",
     "text": [
      "154:\tlearn: 0.2407307\ttotal: 983ms\tremaining: 5.36s\n",
      "155:\tlearn: 0.2397516\ttotal: 986ms\tremaining: 5.33s\n",
      "156:\tlearn: 0.2390844\ttotal: 989ms\tremaining: 5.31s\n",
      "157:\tlearn: 0.2383619\ttotal: 996ms\tremaining: 5.3s\n",
      "158:\tlearn: 0.2378143\ttotal: 1000ms\tremaining: 5.29s\n",
      "159:\tlearn: 0.2373916\ttotal: 1s\tremaining: 5.27s\n",
      "160:\tlearn: 0.2366285\ttotal: 1.01s\tremaining: 5.27s\n",
      "161:\tlearn: 0.2364852\ttotal: 1.01s\tremaining: 5.25s\n",
      "162:\tlearn: 0.2358344\ttotal: 1.02s\tremaining: 5.23s\n",
      "163:\tlearn: 0.2355536\ttotal: 1.02s\tremaining: 5.21s\n",
      "164:\tlearn: 0.2348153\ttotal: 1.02s\tremaining: 5.18s\n",
      "165:\tlearn: 0.2342635\ttotal: 1.03s\tremaining: 5.18s\n",
      "166:\tlearn: 0.2337690\ttotal: 1.05s\tremaining: 5.23s\n",
      "167:\tlearn: 0.2327039\ttotal: 1.05s\tremaining: 5.21s\n",
      "168:\tlearn: 0.2323941\ttotal: 1.05s\tremaining: 5.19s\n",
      "169:\tlearn: 0.2320126\ttotal: 1.06s\tremaining: 5.17s\n",
      "170:\tlearn: 0.2316687\ttotal: 1.06s\tremaining: 5.14s\n",
      "171:\tlearn: 0.2310401\ttotal: 1.06s\tremaining: 5.12s\n",
      "172:\tlearn: 0.2307482\ttotal: 1.07s\tremaining: 5.1s\n",
      "173:\tlearn: 0.2300548\ttotal: 1.1s\tremaining: 5.22s\n",
      "174:\tlearn: 0.2295108\ttotal: 1.11s\tremaining: 5.23s\n",
      "175:\tlearn: 0.2291945\ttotal: 1.12s\tremaining: 5.22s\n"
     ]
    },
    {
     "name": "stdout",
     "output_type": "stream",
     "text": [
      "176:\tlearn: 0.2285340\ttotal: 1.14s\tremaining: 5.28s\n",
      "177:\tlearn: 0.2279680\ttotal: 1.16s\tremaining: 5.34s\n",
      "178:\tlearn: 0.2278595\ttotal: 1.16s\tremaining: 5.31s\n",
      "179:\tlearn: 0.2274406\ttotal: 1.16s\tremaining: 5.29s\n",
      "180:\tlearn: 0.2267303\ttotal: 1.16s\tremaining: 5.27s\n",
      "181:\tlearn: 0.2261132\ttotal: 1.17s\tremaining: 5.25s\n",
      "182:\tlearn: 0.2256421\ttotal: 1.17s\tremaining: 5.22s\n",
      "183:\tlearn: 0.2251893\ttotal: 1.17s\tremaining: 5.19s\n",
      "184:\tlearn: 0.2247521\ttotal: 1.17s\tremaining: 5.17s\n",
      "185:\tlearn: 0.2240415\ttotal: 1.17s\tremaining: 5.14s\n",
      "186:\tlearn: 0.2233021\ttotal: 1.18s\tremaining: 5.11s\n",
      "187:\tlearn: 0.2229550\ttotal: 1.18s\tremaining: 5.09s\n",
      "188:\tlearn: 0.2222038\ttotal: 1.18s\tremaining: 5.07s\n",
      "189:\tlearn: 0.2216512\ttotal: 1.18s\tremaining: 5.05s\n",
      "190:\tlearn: 0.2209000\ttotal: 1.19s\tremaining: 5.03s\n",
      "191:\tlearn: 0.2202783\ttotal: 1.19s\tremaining: 5.02s\n",
      "192:\tlearn: 0.2193941\ttotal: 1.21s\tremaining: 5.06s\n",
      "193:\tlearn: 0.2189875\ttotal: 1.22s\tremaining: 5.07s\n",
      "194:\tlearn: 0.2183712\ttotal: 1.22s\tremaining: 5.04s\n",
      "195:\tlearn: 0.2178301\ttotal: 1.23s\tremaining: 5.03s\n",
      "196:\tlearn: 0.2172810\ttotal: 1.23s\tremaining: 5s\n",
      "197:\tlearn: 0.2167098\ttotal: 1.23s\tremaining: 4.98s\n",
      "198:\tlearn: 0.2159310\ttotal: 1.23s\tremaining: 4.97s\n",
      "199:\tlearn: 0.2149656\ttotal: 1.24s\tremaining: 4.95s\n",
      "200:\tlearn: 0.2147294\ttotal: 1.24s\tremaining: 4.93s\n",
      "201:\tlearn: 0.2141810\ttotal: 1.24s\tremaining: 4.91s\n",
      "202:\tlearn: 0.2135901\ttotal: 1.25s\tremaining: 4.89s\n",
      "203:\tlearn: 0.2132795\ttotal: 1.25s\tremaining: 4.87s\n",
      "204:\tlearn: 0.2127761\ttotal: 1.25s\tremaining: 4.85s\n",
      "205:\tlearn: 0.2123777\ttotal: 1.25s\tremaining: 4.83s\n",
      "206:\tlearn: 0.2117811\ttotal: 1.26s\tremaining: 4.81s\n",
      "207:\tlearn: 0.2112101\ttotal: 1.26s\tremaining: 4.79s\n",
      "208:\tlearn: 0.2106459\ttotal: 1.26s\tremaining: 4.77s\n",
      "209:\tlearn: 0.2103347\ttotal: 1.26s\tremaining: 4.75s\n",
      "210:\tlearn: 0.2099973\ttotal: 1.27s\tremaining: 4.73s\n",
      "211:\tlearn: 0.2097555\ttotal: 1.27s\tremaining: 4.71s\n",
      "212:\tlearn: 0.2093262\ttotal: 1.27s\tremaining: 4.7s\n",
      "213:\tlearn: 0.2087910\ttotal: 1.27s\tremaining: 4.68s\n",
      "214:\tlearn: 0.2083925\ttotal: 1.28s\tremaining: 4.66s\n",
      "215:\tlearn: 0.2080501\ttotal: 1.28s\tremaining: 4.65s\n",
      "216:\tlearn: 0.2077259\ttotal: 1.28s\tremaining: 4.63s\n",
      "217:\tlearn: 0.2075118\ttotal: 1.28s\tremaining: 4.61s\n",
      "218:\tlearn: 0.2071238\ttotal: 1.29s\tremaining: 4.59s\n",
      "219:\tlearn: 0.2068276\ttotal: 1.29s\tremaining: 4.58s\n",
      "220:\tlearn: 0.2063168\ttotal: 1.29s\tremaining: 4.56s\n",
      "221:\tlearn: 0.2056862\ttotal: 1.29s\tremaining: 4.54s\n",
      "222:\tlearn: 0.2053173\ttotal: 1.3s\tremaining: 4.52s\n",
      "223:\tlearn: 0.2048312\ttotal: 1.3s\tremaining: 4.51s\n",
      "224:\tlearn: 0.2044911\ttotal: 1.3s\tremaining: 4.49s\n",
      "225:\tlearn: 0.2040334\ttotal: 1.3s\tremaining: 4.47s\n"
     ]
    },
    {
     "name": "stdout",
     "output_type": "stream",
     "text": [
      "226:\tlearn: 0.2036400\ttotal: 1.39s\tremaining: 4.73s\n",
      "227:\tlearn: 0.2031042\ttotal: 1.39s\tremaining: 4.71s\n",
      "228:\tlearn: 0.2026944\ttotal: 1.39s\tremaining: 4.69s\n",
      "229:\tlearn: 0.2023806\ttotal: 1.4s\tremaining: 4.68s\n",
      "230:\tlearn: 0.2021296\ttotal: 1.4s\tremaining: 4.67s\n",
      "231:\tlearn: 0.2018593\ttotal: 1.41s\tremaining: 4.65s\n",
      "232:\tlearn: 0.2012079\ttotal: 1.41s\tremaining: 4.64s\n",
      "233:\tlearn: 0.2007907\ttotal: 1.42s\tremaining: 4.65s\n",
      "234:\tlearn: 0.2004939\ttotal: 1.42s\tremaining: 4.63s\n",
      "235:\tlearn: 0.1998683\ttotal: 1.43s\tremaining: 4.62s\n",
      "236:\tlearn: 0.1994409\ttotal: 1.43s\tremaining: 4.6s\n",
      "237:\tlearn: 0.1990469\ttotal: 1.43s\tremaining: 4.58s\n",
      "238:\tlearn: 0.1986159\ttotal: 1.43s\tremaining: 4.56s\n",
      "239:\tlearn: 0.1982485\ttotal: 1.43s\tremaining: 4.54s\n",
      "240:\tlearn: 0.1977719\ttotal: 1.44s\tremaining: 4.53s\n",
      "241:\tlearn: 0.1972348\ttotal: 1.44s\tremaining: 4.51s\n",
      "242:\tlearn: 0.1966388\ttotal: 1.44s\tremaining: 4.49s\n",
      "243:\tlearn: 0.1964042\ttotal: 1.44s\tremaining: 4.47s\n",
      "244:\tlearn: 0.1958978\ttotal: 1.45s\tremaining: 4.45s\n",
      "245:\tlearn: 0.1953039\ttotal: 1.45s\tremaining: 4.44s\n",
      "246:\tlearn: 0.1949246\ttotal: 1.45s\tremaining: 4.42s\n",
      "247:\tlearn: 0.1943530\ttotal: 1.45s\tremaining: 4.41s\n",
      "248:\tlearn: 0.1939052\ttotal: 1.46s\tremaining: 4.39s\n",
      "249:\tlearn: 0.1933791\ttotal: 1.46s\tremaining: 4.38s\n",
      "250:\tlearn: 0.1929961\ttotal: 1.46s\tremaining: 4.36s\n",
      "251:\tlearn: 0.1926233\ttotal: 1.46s\tremaining: 4.34s\n",
      "252:\tlearn: 0.1923427\ttotal: 1.47s\tremaining: 4.33s\n",
      "253:\tlearn: 0.1919762\ttotal: 1.47s\tremaining: 4.31s\n",
      "254:\tlearn: 0.1916805\ttotal: 1.47s\tremaining: 4.3s\n",
      "255:\tlearn: 0.1913312\ttotal: 1.48s\tremaining: 4.29s\n",
      "256:\tlearn: 0.1910760\ttotal: 1.48s\tremaining: 4.28s\n",
      "257:\tlearn: 0.1908874\ttotal: 1.48s\tremaining: 4.26s\n",
      "258:\tlearn: 0.1905661\ttotal: 1.49s\tremaining: 4.25s\n",
      "259:\tlearn: 0.1903844\ttotal: 1.49s\tremaining: 4.24s\n",
      "260:\tlearn: 0.1900271\ttotal: 1.49s\tremaining: 4.22s\n",
      "261:\tlearn: 0.1898204\ttotal: 1.49s\tremaining: 4.21s\n",
      "262:\tlearn: 0.1894583\ttotal: 1.5s\tremaining: 4.19s\n"
     ]
    },
    {
     "name": "stdout",
     "output_type": "stream",
     "text": [
      "263:\tlearn: 0.1890007\ttotal: 1.5s\tremaining: 4.18s\n",
      "264:\tlearn: 0.1888277\ttotal: 1.5s\tremaining: 4.17s\n",
      "265:\tlearn: 0.1884572\ttotal: 1.5s\tremaining: 4.15s\n",
      "266:\tlearn: 0.1881806\ttotal: 1.51s\tremaining: 4.14s\n",
      "267:\tlearn: 0.1875310\ttotal: 1.51s\tremaining: 4.12s\n",
      "268:\tlearn: 0.1870829\ttotal: 1.51s\tremaining: 4.11s\n",
      "269:\tlearn: 0.1868837\ttotal: 1.51s\tremaining: 4.09s\n",
      "270:\tlearn: 0.1866649\ttotal: 1.52s\tremaining: 4.08s\n",
      "271:\tlearn: 0.1862920\ttotal: 1.52s\tremaining: 4.07s\n",
      "272:\tlearn: 0.1858564\ttotal: 1.52s\tremaining: 4.05s\n",
      "273:\tlearn: 0.1853722\ttotal: 1.52s\tremaining: 4.04s\n",
      "274:\tlearn: 0.1850197\ttotal: 1.53s\tremaining: 4.03s\n",
      "275:\tlearn: 0.1845254\ttotal: 1.53s\tremaining: 4.01s\n",
      "276:\tlearn: 0.1840351\ttotal: 1.53s\tremaining: 4s\n",
      "277:\tlearn: 0.1838476\ttotal: 1.53s\tremaining: 3.98s\n",
      "278:\tlearn: 0.1834112\ttotal: 1.54s\tremaining: 3.98s\n",
      "279:\tlearn: 0.1829507\ttotal: 1.54s\tremaining: 3.96s\n",
      "280:\tlearn: 0.1826054\ttotal: 1.54s\tremaining: 3.95s\n",
      "281:\tlearn: 0.1822333\ttotal: 1.55s\tremaining: 3.94s\n",
      "282:\tlearn: 0.1819008\ttotal: 1.55s\tremaining: 3.93s\n",
      "283:\tlearn: 0.1815105\ttotal: 1.55s\tremaining: 3.91s\n",
      "284:\tlearn: 0.1812619\ttotal: 1.55s\tremaining: 3.9s\n",
      "285:\tlearn: 0.1808792\ttotal: 1.56s\tremaining: 3.88s\n",
      "286:\tlearn: 0.1804712\ttotal: 1.56s\tremaining: 3.87s\n",
      "287:\tlearn: 0.1801990\ttotal: 1.56s\tremaining: 3.86s\n",
      "288:\tlearn: 0.1797426\ttotal: 1.56s\tremaining: 3.85s\n",
      "289:\tlearn: 0.1794486\ttotal: 1.57s\tremaining: 3.83s\n",
      "290:\tlearn: 0.1792258\ttotal: 1.57s\tremaining: 3.82s\n",
      "291:\tlearn: 0.1787385\ttotal: 1.57s\tremaining: 3.81s\n",
      "292:\tlearn: 0.1785598\ttotal: 1.57s\tremaining: 3.79s\n",
      "293:\tlearn: 0.1783547\ttotal: 1.57s\tremaining: 3.78s\n",
      "294:\tlearn: 0.1778205\ttotal: 1.58s\tremaining: 3.77s\n",
      "295:\tlearn: 0.1775724\ttotal: 1.58s\tremaining: 3.76s\n",
      "296:\tlearn: 0.1772015\ttotal: 1.58s\tremaining: 3.75s\n",
      "297:\tlearn: 0.1769781\ttotal: 1.59s\tremaining: 3.74s\n",
      "298:\tlearn: 0.1768293\ttotal: 1.59s\tremaining: 3.73s\n",
      "299:\tlearn: 0.1763819\ttotal: 1.59s\tremaining: 3.71s\n",
      "300:\tlearn: 0.1760391\ttotal: 1.59s\tremaining: 3.7s\n",
      "301:\tlearn: 0.1756623\ttotal: 1.6s\tremaining: 3.69s\n",
      "302:\tlearn: 0.1752676\ttotal: 1.6s\tremaining: 3.68s\n",
      "303:\tlearn: 0.1748210\ttotal: 1.6s\tremaining: 3.67s\n",
      "304:\tlearn: 0.1741928\ttotal: 1.6s\tremaining: 3.65s\n",
      "305:\tlearn: 0.1740515\ttotal: 1.61s\tremaining: 3.64s\n",
      "306:\tlearn: 0.1738020\ttotal: 1.61s\tremaining: 3.63s\n",
      "307:\tlearn: 0.1733656\ttotal: 1.61s\tremaining: 3.62s\n",
      "308:\tlearn: 0.1727397\ttotal: 1.61s\tremaining: 3.61s\n",
      "309:\tlearn: 0.1723729\ttotal: 1.61s\tremaining: 3.6s\n",
      "310:\tlearn: 0.1718713\ttotal: 1.62s\tremaining: 3.59s\n",
      "311:\tlearn: 0.1715153\ttotal: 1.62s\tremaining: 3.58s\n",
      "312:\tlearn: 0.1709801\ttotal: 1.62s\tremaining: 3.56s\n",
      "313:\tlearn: 0.1704919\ttotal: 1.63s\tremaining: 3.55s\n",
      "314:\tlearn: 0.1701165\ttotal: 1.63s\tremaining: 3.54s\n",
      "315:\tlearn: 0.1698718\ttotal: 1.63s\tremaining: 3.53s\n",
      "316:\tlearn: 0.1693267\ttotal: 1.64s\tremaining: 3.52s\n",
      "317:\tlearn: 0.1689211\ttotal: 1.64s\tremaining: 3.51s\n",
      "318:\tlearn: 0.1686263\ttotal: 1.64s\tremaining: 3.5s\n",
      "319:\tlearn: 0.1680279\ttotal: 1.64s\tremaining: 3.49s\n",
      "320:\tlearn: 0.1676498\ttotal: 1.64s\tremaining: 3.48s\n",
      "321:\tlearn: 0.1672171\ttotal: 1.65s\tremaining: 3.47s\n",
      "322:\tlearn: 0.1668943\ttotal: 1.65s\tremaining: 3.46s\n",
      "323:\tlearn: 0.1665476\ttotal: 1.65s\tremaining: 3.45s\n",
      "324:\tlearn: 0.1664167\ttotal: 1.66s\tremaining: 3.44s\n",
      "325:\tlearn: 0.1659732\ttotal: 1.66s\tremaining: 3.43s\n",
      "326:\tlearn: 0.1657422\ttotal: 1.66s\tremaining: 3.42s\n",
      "327:\tlearn: 0.1653520\ttotal: 1.66s\tremaining: 3.4s\n",
      "328:\tlearn: 0.1650277\ttotal: 1.66s\tremaining: 3.4s\n",
      "329:\tlearn: 0.1648218\ttotal: 1.67s\tremaining: 3.38s\n",
      "330:\tlearn: 0.1645621\ttotal: 1.67s\tremaining: 3.37s\n",
      "331:\tlearn: 0.1639853\ttotal: 1.67s\tremaining: 3.36s\n"
     ]
    },
    {
     "name": "stdout",
     "output_type": "stream",
     "text": [
      "332:\tlearn: 0.1635306\ttotal: 1.68s\tremaining: 3.36s\n",
      "333:\tlearn: 0.1629984\ttotal: 1.68s\tremaining: 3.35s\n",
      "334:\tlearn: 0.1626641\ttotal: 1.68s\tremaining: 3.34s\n",
      "335:\tlearn: 0.1623030\ttotal: 1.69s\tremaining: 3.33s\n",
      "336:\tlearn: 0.1618987\ttotal: 1.69s\tremaining: 3.32s\n",
      "337:\tlearn: 0.1615358\ttotal: 1.69s\tremaining: 3.31s\n",
      "338:\tlearn: 0.1612313\ttotal: 1.69s\tremaining: 3.3s\n",
      "339:\tlearn: 0.1607960\ttotal: 1.69s\tremaining: 3.29s\n",
      "340:\tlearn: 0.1603172\ttotal: 1.7s\tremaining: 3.28s\n",
      "341:\tlearn: 0.1597180\ttotal: 1.7s\tremaining: 3.27s\n",
      "342:\tlearn: 0.1591793\ttotal: 1.7s\tremaining: 3.26s\n",
      "343:\tlearn: 0.1587845\ttotal: 1.7s\tremaining: 3.25s\n",
      "344:\tlearn: 0.1584404\ttotal: 1.71s\tremaining: 3.24s\n",
      "345:\tlearn: 0.1581039\ttotal: 1.71s\tremaining: 3.23s\n",
      "346:\tlearn: 0.1576769\ttotal: 1.71s\tremaining: 3.22s\n",
      "347:\tlearn: 0.1571564\ttotal: 1.71s\tremaining: 3.21s\n",
      "348:\tlearn: 0.1567065\ttotal: 1.72s\tremaining: 3.2s\n",
      "349:\tlearn: 0.1563642\ttotal: 1.72s\tremaining: 3.19s\n",
      "350:\tlearn: 0.1559319\ttotal: 1.72s\tremaining: 3.18s\n",
      "351:\tlearn: 0.1556253\ttotal: 1.72s\tremaining: 3.17s\n",
      "352:\tlearn: 0.1551608\ttotal: 1.73s\tremaining: 3.17s\n",
      "353:\tlearn: 0.1547837\ttotal: 1.73s\tremaining: 3.15s\n",
      "354:\tlearn: 0.1543204\ttotal: 1.73s\tremaining: 3.15s\n",
      "355:\tlearn: 0.1541454\ttotal: 1.73s\tremaining: 3.14s\n",
      "356:\tlearn: 0.1537914\ttotal: 1.74s\tremaining: 3.13s\n",
      "357:\tlearn: 0.1533146\ttotal: 1.74s\tremaining: 3.12s\n",
      "358:\tlearn: 0.1528055\ttotal: 1.74s\tremaining: 3.11s\n",
      "359:\tlearn: 0.1527367\ttotal: 1.74s\tremaining: 3.1s\n",
      "360:\tlearn: 0.1522588\ttotal: 1.75s\tremaining: 3.09s\n",
      "361:\tlearn: 0.1519161\ttotal: 1.75s\tremaining: 3.08s\n",
      "362:\tlearn: 0.1514409\ttotal: 1.75s\tremaining: 3.08s\n",
      "363:\tlearn: 0.1511488\ttotal: 1.76s\tremaining: 3.07s\n",
      "364:\tlearn: 0.1507473\ttotal: 1.76s\tremaining: 3.06s\n",
      "365:\tlearn: 0.1503493\ttotal: 1.76s\tremaining: 3.05s\n",
      "366:\tlearn: 0.1500275\ttotal: 1.76s\tremaining: 3.04s\n",
      "367:\tlearn: 0.1496291\ttotal: 1.77s\tremaining: 3.04s\n",
      "368:\tlearn: 0.1492555\ttotal: 1.78s\tremaining: 3.04s\n",
      "369:\tlearn: 0.1488350\ttotal: 1.78s\tremaining: 3.03s\n",
      "370:\tlearn: 0.1486068\ttotal: 1.78s\tremaining: 3.02s\n",
      "371:\tlearn: 0.1481520\ttotal: 1.79s\tremaining: 3.02s\n",
      "372:\tlearn: 0.1478338\ttotal: 1.79s\tremaining: 3.01s\n",
      "373:\tlearn: 0.1475597\ttotal: 1.79s\tremaining: 3s\n",
      "374:\tlearn: 0.1473162\ttotal: 1.79s\tremaining: 2.99s\n",
      "375:\tlearn: 0.1469065\ttotal: 1.8s\tremaining: 2.98s\n",
      "376:\tlearn: 0.1467045\ttotal: 1.8s\tremaining: 2.97s\n",
      "377:\tlearn: 0.1464317\ttotal: 1.8s\tremaining: 2.97s\n",
      "378:\tlearn: 0.1462994\ttotal: 1.81s\tremaining: 2.97s\n",
      "379:\tlearn: 0.1459850\ttotal: 1.81s\tremaining: 2.96s\n",
      "380:\tlearn: 0.1455828\ttotal: 1.82s\tremaining: 2.95s\n",
      "381:\tlearn: 0.1452423\ttotal: 1.82s\tremaining: 2.94s\n",
      "382:\tlearn: 0.1450261\ttotal: 1.82s\tremaining: 2.94s\n",
      "383:\tlearn: 0.1447654\ttotal: 1.82s\tremaining: 2.93s\n",
      "384:\tlearn: 0.1442548\ttotal: 1.83s\tremaining: 2.92s\n",
      "385:\tlearn: 0.1438634\ttotal: 1.83s\tremaining: 2.92s\n",
      "386:\tlearn: 0.1435437\ttotal: 1.83s\tremaining: 2.91s\n",
      "387:\tlearn: 0.1434184\ttotal: 1.84s\tremaining: 2.9s\n",
      "388:\tlearn: 0.1429873\ttotal: 1.84s\tremaining: 2.89s\n",
      "389:\tlearn: 0.1426696\ttotal: 1.84s\tremaining: 2.88s\n",
      "390:\tlearn: 0.1424188\ttotal: 1.84s\tremaining: 2.88s\n"
     ]
    },
    {
     "name": "stdout",
     "output_type": "stream",
     "text": [
      "391:\tlearn: 0.1421785\ttotal: 1.85s\tremaining: 2.87s\n",
      "392:\tlearn: 0.1419643\ttotal: 1.85s\tremaining: 2.86s\n",
      "393:\tlearn: 0.1416280\ttotal: 1.85s\tremaining: 2.85s\n",
      "394:\tlearn: 0.1412914\ttotal: 1.86s\tremaining: 2.84s\n",
      "395:\tlearn: 0.1407938\ttotal: 1.86s\tremaining: 2.83s\n",
      "396:\tlearn: 0.1402861\ttotal: 1.86s\tremaining: 2.83s\n",
      "397:\tlearn: 0.1401968\ttotal: 1.86s\tremaining: 2.82s\n",
      "398:\tlearn: 0.1398480\ttotal: 1.87s\tremaining: 2.81s\n",
      "399:\tlearn: 0.1395444\ttotal: 1.87s\tremaining: 2.81s\n",
      "400:\tlearn: 0.1392443\ttotal: 1.88s\tremaining: 2.8s\n",
      "401:\tlearn: 0.1391787\ttotal: 1.88s\tremaining: 2.8s\n",
      "402:\tlearn: 0.1388744\ttotal: 1.89s\tremaining: 2.79s\n",
      "403:\tlearn: 0.1384969\ttotal: 1.89s\tremaining: 2.79s\n",
      "404:\tlearn: 0.1381857\ttotal: 1.89s\tremaining: 2.78s\n",
      "405:\tlearn: 0.1377765\ttotal: 1.89s\tremaining: 2.77s\n",
      "406:\tlearn: 0.1377072\ttotal: 1.9s\tremaining: 2.76s\n",
      "407:\tlearn: 0.1372640\ttotal: 1.9s\tremaining: 2.76s\n",
      "408:\tlearn: 0.1372056\ttotal: 1.9s\tremaining: 2.75s\n",
      "409:\tlearn: 0.1371687\ttotal: 1.9s\tremaining: 2.74s\n",
      "410:\tlearn: 0.1370836\ttotal: 1.91s\tremaining: 2.73s\n",
      "411:\tlearn: 0.1368275\ttotal: 1.91s\tremaining: 2.73s\n",
      "412:\tlearn: 0.1364846\ttotal: 1.91s\tremaining: 2.72s\n",
      "413:\tlearn: 0.1361674\ttotal: 1.93s\tremaining: 2.73s\n",
      "414:\tlearn: 0.1357665\ttotal: 1.93s\tremaining: 2.72s\n",
      "415:\tlearn: 0.1354240\ttotal: 1.93s\tremaining: 2.71s\n",
      "416:\tlearn: 0.1352548\ttotal: 1.93s\tremaining: 2.7s\n",
      "417:\tlearn: 0.1350713\ttotal: 1.94s\tremaining: 2.69s\n",
      "418:\tlearn: 0.1347170\ttotal: 1.94s\tremaining: 2.69s\n",
      "419:\tlearn: 0.1346790\ttotal: 1.94s\tremaining: 2.68s\n",
      "420:\tlearn: 0.1343727\ttotal: 1.94s\tremaining: 2.67s\n",
      "421:\tlearn: 0.1341834\ttotal: 1.95s\tremaining: 2.67s\n",
      "422:\tlearn: 0.1339368\ttotal: 1.95s\tremaining: 2.66s\n",
      "423:\tlearn: 0.1336808\ttotal: 1.95s\tremaining: 2.65s\n",
      "424:\tlearn: 0.1333265\ttotal: 1.96s\tremaining: 2.65s\n",
      "425:\tlearn: 0.1330904\ttotal: 1.96s\tremaining: 2.64s\n",
      "426:\tlearn: 0.1327613\ttotal: 1.96s\tremaining: 2.63s\n",
      "427:\tlearn: 0.1327121\ttotal: 1.97s\tremaining: 2.63s\n",
      "428:\tlearn: 0.1325201\ttotal: 1.97s\tremaining: 2.62s\n",
      "429:\tlearn: 0.1322479\ttotal: 1.97s\tremaining: 2.61s\n",
      "430:\tlearn: 0.1319920\ttotal: 1.97s\tremaining: 2.6s\n",
      "431:\tlearn: 0.1316929\ttotal: 1.97s\tremaining: 2.59s\n",
      "432:\tlearn: 0.1316384\ttotal: 1.98s\tremaining: 2.59s\n",
      "433:\tlearn: 0.1314541\ttotal: 1.98s\tremaining: 2.58s\n",
      "434:\tlearn: 0.1313678\ttotal: 1.98s\tremaining: 2.57s\n",
      "435:\tlearn: 0.1312949\ttotal: 1.98s\tremaining: 2.56s\n",
      "436:\tlearn: 0.1310162\ttotal: 1.98s\tremaining: 2.55s\n",
      "437:\tlearn: 0.1309409\ttotal: 1.99s\tremaining: 2.55s\n",
      "438:\tlearn: 0.1306899\ttotal: 1.99s\tremaining: 2.54s\n",
      "439:\tlearn: 0.1303603\ttotal: 1.99s\tremaining: 2.53s\n",
      "440:\tlearn: 0.1300568\ttotal: 1.99s\tremaining: 2.52s\n",
      "441:\tlearn: 0.1297614\ttotal: 1.99s\tremaining: 2.52s\n",
      "442:\tlearn: 0.1295635\ttotal: 1.99s\tremaining: 2.51s\n",
      "443:\tlearn: 0.1295168\ttotal: 2s\tremaining: 2.5s\n",
      "444:\tlearn: 0.1293976\ttotal: 2s\tremaining: 2.49s\n",
      "445:\tlearn: 0.1292051\ttotal: 2s\tremaining: 2.48s\n",
      "446:\tlearn: 0.1288884\ttotal: 2s\tremaining: 2.48s\n",
      "447:\tlearn: 0.1288024\ttotal: 2.01s\tremaining: 2.47s\n",
      "448:\tlearn: 0.1286711\ttotal: 2.01s\tremaining: 2.46s\n",
      "449:\tlearn: 0.1284347\ttotal: 2.01s\tremaining: 2.46s\n",
      "450:\tlearn: 0.1281029\ttotal: 2.01s\tremaining: 2.45s\n"
     ]
    },
    {
     "name": "stdout",
     "output_type": "stream",
     "text": [
      "451:\tlearn: 0.1279379\ttotal: 2.02s\tremaining: 2.45s\n",
      "452:\tlearn: 0.1276222\ttotal: 2.02s\tremaining: 2.44s\n",
      "453:\tlearn: 0.1273575\ttotal: 2.02s\tremaining: 2.43s\n",
      "454:\tlearn: 0.1271042\ttotal: 2.02s\tremaining: 2.42s\n",
      "455:\tlearn: 0.1267277\ttotal: 2.03s\tremaining: 2.42s\n",
      "456:\tlearn: 0.1265291\ttotal: 2.03s\tremaining: 2.41s\n",
      "457:\tlearn: 0.1262128\ttotal: 2.03s\tremaining: 2.4s\n",
      "458:\tlearn: 0.1259320\ttotal: 2.04s\tremaining: 2.4s\n",
      "459:\tlearn: 0.1257073\ttotal: 2.04s\tremaining: 2.39s\n",
      "460:\tlearn: 0.1256071\ttotal: 2.04s\tremaining: 2.39s\n",
      "461:\tlearn: 0.1255674\ttotal: 2.04s\tremaining: 2.38s\n",
      "462:\tlearn: 0.1253103\ttotal: 2.04s\tremaining: 2.37s\n",
      "463:\tlearn: 0.1250673\ttotal: 2.05s\tremaining: 2.37s\n",
      "464:\tlearn: 0.1247527\ttotal: 2.05s\tremaining: 2.36s\n",
      "465:\tlearn: 0.1244077\ttotal: 2.05s\tremaining: 2.35s\n",
      "466:\tlearn: 0.1243615\ttotal: 2.06s\tremaining: 2.35s\n",
      "467:\tlearn: 0.1243121\ttotal: 2.06s\tremaining: 2.34s\n",
      "468:\tlearn: 0.1239762\ttotal: 2.06s\tremaining: 2.33s\n",
      "469:\tlearn: 0.1237716\ttotal: 2.06s\tremaining: 2.33s\n",
      "470:\tlearn: 0.1234560\ttotal: 2.06s\tremaining: 2.32s\n",
      "471:\tlearn: 0.1231119\ttotal: 2.07s\tremaining: 2.31s\n",
      "472:\tlearn: 0.1230217\ttotal: 2.07s\tremaining: 2.31s\n",
      "473:\tlearn: 0.1228650\ttotal: 2.07s\tremaining: 2.3s\n",
      "474:\tlearn: 0.1225252\ttotal: 2.08s\tremaining: 2.29s\n",
      "475:\tlearn: 0.1221778\ttotal: 2.08s\tremaining: 2.29s\n",
      "476:\tlearn: 0.1220461\ttotal: 2.08s\tremaining: 2.28s\n",
      "477:\tlearn: 0.1217641\ttotal: 2.08s\tremaining: 2.27s\n",
      "478:\tlearn: 0.1216736\ttotal: 2.08s\tremaining: 2.27s\n",
      "479:\tlearn: 0.1214521\ttotal: 2.09s\tremaining: 2.26s\n",
      "480:\tlearn: 0.1213538\ttotal: 2.09s\tremaining: 2.25s\n",
      "481:\tlearn: 0.1211752\ttotal: 2.09s\tremaining: 2.25s\n",
      "482:\tlearn: 0.1208304\ttotal: 2.1s\tremaining: 2.24s\n",
      "483:\tlearn: 0.1205196\ttotal: 2.1s\tremaining: 2.24s\n",
      "484:\tlearn: 0.1202960\ttotal: 2.1s\tremaining: 2.23s\n",
      "485:\tlearn: 0.1199583\ttotal: 2.1s\tremaining: 2.23s\n",
      "486:\tlearn: 0.1197370\ttotal: 2.11s\tremaining: 2.22s\n",
      "487:\tlearn: 0.1195036\ttotal: 2.11s\tremaining: 2.21s\n",
      "488:\tlearn: 0.1192176\ttotal: 2.11s\tremaining: 2.21s\n",
      "489:\tlearn: 0.1189608\ttotal: 2.11s\tremaining: 2.2s\n",
      "490:\tlearn: 0.1186618\ttotal: 2.12s\tremaining: 2.19s\n",
      "491:\tlearn: 0.1184284\ttotal: 2.12s\tremaining: 2.19s\n",
      "492:\tlearn: 0.1183866\ttotal: 2.12s\tremaining: 2.18s\n",
      "493:\tlearn: 0.1180862\ttotal: 2.12s\tremaining: 2.17s\n",
      "494:\tlearn: 0.1178693\ttotal: 2.12s\tremaining: 2.17s\n",
      "495:\tlearn: 0.1178285\ttotal: 2.13s\tremaining: 2.16s\n",
      "496:\tlearn: 0.1175001\ttotal: 2.13s\tremaining: 2.15s\n",
      "497:\tlearn: 0.1173920\ttotal: 2.13s\tremaining: 2.15s\n",
      "498:\tlearn: 0.1171095\ttotal: 2.13s\tremaining: 2.14s\n",
      "499:\tlearn: 0.1167829\ttotal: 2.13s\tremaining: 2.13s\n",
      "500:\tlearn: 0.1166114\ttotal: 2.14s\tremaining: 2.13s\n",
      "501:\tlearn: 0.1164082\ttotal: 2.14s\tremaining: 2.12s\n",
      "502:\tlearn: 0.1162718\ttotal: 2.14s\tremaining: 2.12s\n",
      "503:\tlearn: 0.1160932\ttotal: 2.14s\tremaining: 2.11s\n",
      "504:\tlearn: 0.1157992\ttotal: 2.14s\tremaining: 2.1s\n",
      "505:\tlearn: 0.1157392\ttotal: 2.15s\tremaining: 2.1s\n",
      "506:\tlearn: 0.1154138\ttotal: 2.15s\tremaining: 2.09s\n",
      "507:\tlearn: 0.1153470\ttotal: 2.15s\tremaining: 2.08s\n",
      "508:\tlearn: 0.1151615\ttotal: 2.15s\tremaining: 2.08s\n",
      "509:\tlearn: 0.1148504\ttotal: 2.15s\tremaining: 2.07s\n",
      "510:\tlearn: 0.1146420\ttotal: 2.15s\tremaining: 2.06s\n",
      "511:\tlearn: 0.1144727\ttotal: 2.16s\tremaining: 2.06s\n",
      "512:\tlearn: 0.1141618\ttotal: 2.16s\tremaining: 2.05s\n",
      "513:\tlearn: 0.1139075\ttotal: 2.16s\tremaining: 2.04s\n",
      "514:\tlearn: 0.1136520\ttotal: 2.16s\tremaining: 2.04s\n",
      "515:\tlearn: 0.1135373\ttotal: 2.17s\tremaining: 2.03s\n",
      "516:\tlearn: 0.1133524\ttotal: 2.17s\tremaining: 2.02s\n",
      "517:\tlearn: 0.1130570\ttotal: 2.17s\tremaining: 2.02s\n",
      "518:\tlearn: 0.1128597\ttotal: 2.17s\tremaining: 2.01s\n",
      "519:\tlearn: 0.1126992\ttotal: 2.17s\tremaining: 2.01s\n",
      "520:\tlearn: 0.1123994\ttotal: 2.18s\tremaining: 2s\n",
      "521:\tlearn: 0.1122525\ttotal: 2.18s\tremaining: 1.99s\n",
      "522:\tlearn: 0.1120148\ttotal: 2.18s\tremaining: 1.99s\n",
      "523:\tlearn: 0.1118696\ttotal: 2.18s\tremaining: 1.98s\n",
      "524:\tlearn: 0.1116372\ttotal: 2.18s\tremaining: 1.98s\n",
      "525:\tlearn: 0.1114985\ttotal: 2.19s\tremaining: 1.97s\n",
      "526:\tlearn: 0.1113324\ttotal: 2.19s\tremaining: 1.96s\n",
      "527:\tlearn: 0.1110673\ttotal: 2.19s\tremaining: 1.96s\n",
      "528:\tlearn: 0.1108795\ttotal: 2.19s\tremaining: 1.95s\n",
      "529:\tlearn: 0.1107469\ttotal: 2.19s\tremaining: 1.95s\n",
      "530:\tlearn: 0.1105625\ttotal: 2.2s\tremaining: 1.94s\n"
     ]
    },
    {
     "name": "stdout",
     "output_type": "stream",
     "text": [
      "531:\tlearn: 0.1103054\ttotal: 2.2s\tremaining: 1.94s\n",
      "532:\tlearn: 0.1102362\ttotal: 2.2s\tremaining: 1.93s\n",
      "533:\tlearn: 0.1099831\ttotal: 2.2s\tremaining: 1.92s\n",
      "534:\tlearn: 0.1096950\ttotal: 2.21s\tremaining: 1.92s\n",
      "535:\tlearn: 0.1096526\ttotal: 2.21s\tremaining: 1.91s\n",
      "536:\tlearn: 0.1094296\ttotal: 2.21s\tremaining: 1.91s\n",
      "537:\tlearn: 0.1091103\ttotal: 2.21s\tremaining: 1.9s\n",
      "538:\tlearn: 0.1087615\ttotal: 2.21s\tremaining: 1.89s\n",
      "539:\tlearn: 0.1085764\ttotal: 2.22s\tremaining: 1.89s\n",
      "540:\tlearn: 0.1085130\ttotal: 2.22s\tremaining: 1.88s\n",
      "541:\tlearn: 0.1083138\ttotal: 2.22s\tremaining: 1.88s\n",
      "542:\tlearn: 0.1081227\ttotal: 2.22s\tremaining: 1.87s\n",
      "543:\tlearn: 0.1078796\ttotal: 2.23s\tremaining: 1.87s\n",
      "544:\tlearn: 0.1076277\ttotal: 2.23s\tremaining: 1.86s\n",
      "545:\tlearn: 0.1074507\ttotal: 2.23s\tremaining: 1.86s\n",
      "546:\tlearn: 0.1072559\ttotal: 2.23s\tremaining: 1.85s\n",
      "547:\tlearn: 0.1070299\ttotal: 2.24s\tremaining: 1.84s\n",
      "548:\tlearn: 0.1068714\ttotal: 2.24s\tremaining: 1.84s\n",
      "549:\tlearn: 0.1066266\ttotal: 2.24s\tremaining: 1.83s\n",
      "550:\tlearn: 0.1063759\ttotal: 2.24s\tremaining: 1.83s\n",
      "551:\tlearn: 0.1062537\ttotal: 2.25s\tremaining: 1.82s\n",
      "552:\tlearn: 0.1059287\ttotal: 2.25s\tremaining: 1.82s\n",
      "553:\tlearn: 0.1057228\ttotal: 2.25s\tremaining: 1.81s\n",
      "554:\tlearn: 0.1054815\ttotal: 2.25s\tremaining: 1.81s\n",
      "555:\tlearn: 0.1052169\ttotal: 2.26s\tremaining: 1.8s\n",
      "556:\tlearn: 0.1050888\ttotal: 2.26s\tremaining: 1.8s\n",
      "557:\tlearn: 0.1049325\ttotal: 2.26s\tremaining: 1.79s\n",
      "558:\tlearn: 0.1047052\ttotal: 2.26s\tremaining: 1.79s\n",
      "559:\tlearn: 0.1045445\ttotal: 2.27s\tremaining: 1.78s\n",
      "560:\tlearn: 0.1043443\ttotal: 2.27s\tremaining: 1.77s\n",
      "561:\tlearn: 0.1040291\ttotal: 2.27s\tremaining: 1.77s\n",
      "562:\tlearn: 0.1037969\ttotal: 2.27s\tremaining: 1.76s\n",
      "563:\tlearn: 0.1037600\ttotal: 2.28s\tremaining: 1.76s\n",
      "564:\tlearn: 0.1035920\ttotal: 2.28s\tremaining: 1.75s\n",
      "565:\tlearn: 0.1034683\ttotal: 2.28s\tremaining: 1.75s\n",
      "566:\tlearn: 0.1033298\ttotal: 2.28s\tremaining: 1.74s\n",
      "567:\tlearn: 0.1031842\ttotal: 2.29s\tremaining: 1.74s\n",
      "568:\tlearn: 0.1029067\ttotal: 2.29s\tremaining: 1.73s\n",
      "569:\tlearn: 0.1026784\ttotal: 2.29s\tremaining: 1.73s\n",
      "570:\tlearn: 0.1025360\ttotal: 2.29s\tremaining: 1.72s\n",
      "571:\tlearn: 0.1023889\ttotal: 2.3s\tremaining: 1.72s\n",
      "572:\tlearn: 0.1021468\ttotal: 2.3s\tremaining: 1.71s\n",
      "573:\tlearn: 0.1020166\ttotal: 2.3s\tremaining: 1.71s\n",
      "574:\tlearn: 0.1018466\ttotal: 2.3s\tremaining: 1.7s\n",
      "575:\tlearn: 0.1016837\ttotal: 2.31s\tremaining: 1.7s\n",
      "576:\tlearn: 0.1015137\ttotal: 2.31s\tremaining: 1.69s\n",
      "577:\tlearn: 0.1012326\ttotal: 2.31s\tremaining: 1.69s\n",
      "578:\tlearn: 0.1010907\ttotal: 2.31s\tremaining: 1.68s\n",
      "579:\tlearn: 0.1009918\ttotal: 2.32s\tremaining: 1.68s\n",
      "580:\tlearn: 0.1009177\ttotal: 2.32s\tremaining: 1.67s\n",
      "581:\tlearn: 0.1007032\ttotal: 2.32s\tremaining: 1.67s\n",
      "582:\tlearn: 0.1006746\ttotal: 2.33s\tremaining: 1.66s\n",
      "583:\tlearn: 0.1005274\ttotal: 2.33s\tremaining: 1.66s\n",
      "584:\tlearn: 0.1003893\ttotal: 2.33s\tremaining: 1.65s\n",
      "585:\tlearn: 0.1002670\ttotal: 2.33s\tremaining: 1.65s\n",
      "586:\tlearn: 0.1000825\ttotal: 2.33s\tremaining: 1.64s\n",
      "587:\tlearn: 0.1000498\ttotal: 2.34s\tremaining: 1.64s\n",
      "588:\tlearn: 0.0998474\ttotal: 2.34s\tremaining: 1.63s\n",
      "589:\tlearn: 0.0997464\ttotal: 2.34s\tremaining: 1.63s\n",
      "590:\tlearn: 0.0994688\ttotal: 2.34s\tremaining: 1.62s\n",
      "591:\tlearn: 0.0993253\ttotal: 2.35s\tremaining: 1.62s\n",
      "592:\tlearn: 0.0991994\ttotal: 2.35s\tremaining: 1.61s\n",
      "593:\tlearn: 0.0988499\ttotal: 2.35s\tremaining: 1.61s\n",
      "594:\tlearn: 0.0986960\ttotal: 2.35s\tremaining: 1.6s\n",
      "595:\tlearn: 0.0985796\ttotal: 2.35s\tremaining: 1.59s\n",
      "596:\tlearn: 0.0983808\ttotal: 2.35s\tremaining: 1.59s\n",
      "597:\tlearn: 0.0982210\ttotal: 2.36s\tremaining: 1.58s\n",
      "598:\tlearn: 0.0979264\ttotal: 2.36s\tremaining: 1.58s\n",
      "599:\tlearn: 0.0978967\ttotal: 2.36s\tremaining: 1.57s\n",
      "600:\tlearn: 0.0977443\ttotal: 2.36s\tremaining: 1.57s\n",
      "601:\tlearn: 0.0975178\ttotal: 2.37s\tremaining: 1.56s\n",
      "602:\tlearn: 0.0973717\ttotal: 2.37s\tremaining: 1.56s\n",
      "603:\tlearn: 0.0971494\ttotal: 2.37s\tremaining: 1.55s\n",
      "604:\tlearn: 0.0969217\ttotal: 2.37s\tremaining: 1.55s\n",
      "605:\tlearn: 0.0968895\ttotal: 2.37s\tremaining: 1.54s\n",
      "606:\tlearn: 0.0966945\ttotal: 2.37s\tremaining: 1.54s\n",
      "607:\tlearn: 0.0964472\ttotal: 2.38s\tremaining: 1.53s\n",
      "608:\tlearn: 0.0962438\ttotal: 2.38s\tremaining: 1.53s\n"
     ]
    },
    {
     "name": "stdout",
     "output_type": "stream",
     "text": [
      "609:\tlearn: 0.0960818\ttotal: 2.39s\tremaining: 1.53s\n",
      "610:\tlearn: 0.0958222\ttotal: 2.39s\tremaining: 1.52s\n",
      "611:\tlearn: 0.0957987\ttotal: 2.4s\tremaining: 1.52s\n",
      "612:\tlearn: 0.0956022\ttotal: 2.4s\tremaining: 1.51s\n",
      "613:\tlearn: 0.0955733\ttotal: 2.4s\tremaining: 1.51s\n",
      "614:\tlearn: 0.0952846\ttotal: 2.4s\tremaining: 1.5s\n",
      "615:\tlearn: 0.0950897\ttotal: 2.4s\tremaining: 1.5s\n",
      "616:\tlearn: 0.0948290\ttotal: 2.4s\tremaining: 1.49s\n",
      "617:\tlearn: 0.0945823\ttotal: 2.41s\tremaining: 1.49s\n",
      "618:\tlearn: 0.0944302\ttotal: 2.41s\tremaining: 1.48s\n",
      "619:\tlearn: 0.0943515\ttotal: 2.41s\tremaining: 1.48s\n",
      "620:\tlearn: 0.0942320\ttotal: 2.41s\tremaining: 1.47s\n",
      "621:\tlearn: 0.0940995\ttotal: 2.41s\tremaining: 1.47s\n",
      "622:\tlearn: 0.0940467\ttotal: 2.42s\tremaining: 1.46s\n",
      "623:\tlearn: 0.0940064\ttotal: 2.42s\tremaining: 1.46s\n",
      "624:\tlearn: 0.0938034\ttotal: 2.42s\tremaining: 1.45s\n",
      "625:\tlearn: 0.0937369\ttotal: 2.42s\tremaining: 1.45s\n",
      "626:\tlearn: 0.0936560\ttotal: 2.42s\tremaining: 1.44s\n",
      "627:\tlearn: 0.0934237\ttotal: 2.43s\tremaining: 1.44s\n",
      "628:\tlearn: 0.0933423\ttotal: 2.43s\tremaining: 1.43s\n",
      "629:\tlearn: 0.0931772\ttotal: 2.43s\tremaining: 1.43s\n",
      "630:\tlearn: 0.0931593\ttotal: 2.43s\tremaining: 1.42s\n",
      "631:\tlearn: 0.0930608\ttotal: 2.44s\tremaining: 1.42s\n",
      "632:\tlearn: 0.0928900\ttotal: 2.44s\tremaining: 1.41s\n",
      "633:\tlearn: 0.0927380\ttotal: 2.44s\tremaining: 1.41s\n",
      "634:\tlearn: 0.0925872\ttotal: 2.44s\tremaining: 1.4s\n",
      "635:\tlearn: 0.0923954\ttotal: 2.45s\tremaining: 1.4s\n",
      "636:\tlearn: 0.0921799\ttotal: 2.45s\tremaining: 1.4s\n",
      "637:\tlearn: 0.0919764\ttotal: 2.45s\tremaining: 1.39s\n",
      "638:\tlearn: 0.0918116\ttotal: 2.45s\tremaining: 1.39s\n",
      "639:\tlearn: 0.0916125\ttotal: 2.46s\tremaining: 1.38s\n",
      "640:\tlearn: 0.0914033\ttotal: 2.46s\tremaining: 1.38s\n",
      "641:\tlearn: 0.0912611\ttotal: 2.46s\tremaining: 1.37s\n",
      "642:\tlearn: 0.0911429\ttotal: 2.46s\tremaining: 1.37s\n",
      "643:\tlearn: 0.0909193\ttotal: 2.47s\tremaining: 1.36s\n",
      "644:\tlearn: 0.0908154\ttotal: 2.47s\tremaining: 1.36s\n",
      "645:\tlearn: 0.0906152\ttotal: 2.47s\tremaining: 1.35s\n",
      "646:\tlearn: 0.0905569\ttotal: 2.47s\tremaining: 1.35s\n",
      "647:\tlearn: 0.0904301\ttotal: 2.48s\tremaining: 1.34s\n",
      "648:\tlearn: 0.0902917\ttotal: 2.48s\tremaining: 1.34s\n",
      "649:\tlearn: 0.0900946\ttotal: 2.48s\tremaining: 1.34s\n",
      "650:\tlearn: 0.0899643\ttotal: 2.48s\tremaining: 1.33s\n",
      "651:\tlearn: 0.0897495\ttotal: 2.49s\tremaining: 1.33s\n",
      "652:\tlearn: 0.0896334\ttotal: 2.49s\tremaining: 1.32s\n",
      "653:\tlearn: 0.0895139\ttotal: 2.49s\tremaining: 1.32s\n",
      "654:\tlearn: 0.0893500\ttotal: 2.5s\tremaining: 1.31s\n",
      "655:\tlearn: 0.0891598\ttotal: 2.5s\tremaining: 1.31s\n",
      "656:\tlearn: 0.0889895\ttotal: 2.5s\tremaining: 1.3s\n",
      "657:\tlearn: 0.0888603\ttotal: 2.5s\tremaining: 1.3s\n",
      "658:\tlearn: 0.0887363\ttotal: 2.5s\tremaining: 1.3s\n",
      "659:\tlearn: 0.0885884\ttotal: 2.51s\tremaining: 1.29s\n",
      "660:\tlearn: 0.0885049\ttotal: 2.51s\tremaining: 1.29s\n",
      "661:\tlearn: 0.0882813\ttotal: 2.51s\tremaining: 1.28s\n",
      "662:\tlearn: 0.0881495\ttotal: 2.52s\tremaining: 1.28s\n",
      "663:\tlearn: 0.0878700\ttotal: 2.52s\tremaining: 1.27s\n",
      "664:\tlearn: 0.0878309\ttotal: 2.52s\tremaining: 1.27s\n",
      "665:\tlearn: 0.0876277\ttotal: 2.52s\tremaining: 1.26s\n",
      "666:\tlearn: 0.0874430\ttotal: 2.52s\tremaining: 1.26s\n",
      "667:\tlearn: 0.0873276\ttotal: 2.53s\tremaining: 1.26s\n",
      "668:\tlearn: 0.0872112\ttotal: 2.53s\tremaining: 1.25s\n",
      "669:\tlearn: 0.0869301\ttotal: 2.53s\tremaining: 1.25s\n",
      "670:\tlearn: 0.0868273\ttotal: 2.53s\tremaining: 1.24s\n",
      "671:\tlearn: 0.0867390\ttotal: 2.54s\tremaining: 1.24s\n",
      "672:\tlearn: 0.0866261\ttotal: 2.54s\tremaining: 1.23s\n",
      "673:\tlearn: 0.0863999\ttotal: 2.54s\tremaining: 1.23s\n",
      "674:\tlearn: 0.0861843\ttotal: 2.54s\tremaining: 1.23s\n",
      "675:\tlearn: 0.0861204\ttotal: 2.55s\tremaining: 1.22s\n",
      "676:\tlearn: 0.0860123\ttotal: 2.55s\tremaining: 1.22s\n",
      "677:\tlearn: 0.0859697\ttotal: 2.55s\tremaining: 1.21s\n",
      "678:\tlearn: 0.0858353\ttotal: 2.56s\tremaining: 1.21s\n",
      "679:\tlearn: 0.0857586\ttotal: 2.56s\tremaining: 1.2s\n",
      "680:\tlearn: 0.0857381\ttotal: 2.56s\tremaining: 1.2s\n",
      "681:\tlearn: 0.0855470\ttotal: 2.56s\tremaining: 1.19s\n",
      "682:\tlearn: 0.0854446\ttotal: 2.56s\tremaining: 1.19s\n",
      "683:\tlearn: 0.0852443\ttotal: 2.56s\tremaining: 1.18s\n",
      "684:\tlearn: 0.0851752\ttotal: 2.57s\tremaining: 1.18s\n"
     ]
    },
    {
     "name": "stdout",
     "output_type": "stream",
     "text": [
      "685:\tlearn: 0.0849423\ttotal: 2.57s\tremaining: 1.18s\n",
      "686:\tlearn: 0.0847458\ttotal: 2.57s\tremaining: 1.17s\n",
      "687:\tlearn: 0.0846521\ttotal: 2.57s\tremaining: 1.17s\n",
      "688:\tlearn: 0.0845134\ttotal: 2.58s\tremaining: 1.16s\n",
      "689:\tlearn: 0.0843972\ttotal: 2.58s\tremaining: 1.16s\n",
      "690:\tlearn: 0.0842631\ttotal: 2.58s\tremaining: 1.15s\n",
      "691:\tlearn: 0.0841433\ttotal: 2.58s\tremaining: 1.15s\n",
      "692:\tlearn: 0.0841057\ttotal: 2.58s\tremaining: 1.15s\n",
      "693:\tlearn: 0.0839891\ttotal: 2.59s\tremaining: 1.14s\n",
      "694:\tlearn: 0.0839461\ttotal: 2.59s\tremaining: 1.14s\n",
      "695:\tlearn: 0.0837995\ttotal: 2.59s\tremaining: 1.13s\n",
      "696:\tlearn: 0.0836801\ttotal: 2.59s\tremaining: 1.13s\n",
      "697:\tlearn: 0.0835675\ttotal: 2.6s\tremaining: 1.12s\n",
      "698:\tlearn: 0.0834528\ttotal: 2.6s\tremaining: 1.12s\n",
      "699:\tlearn: 0.0832552\ttotal: 2.6s\tremaining: 1.11s\n",
      "700:\tlearn: 0.0831164\ttotal: 2.6s\tremaining: 1.11s\n",
      "701:\tlearn: 0.0830216\ttotal: 2.6s\tremaining: 1.1s\n",
      "702:\tlearn: 0.0830052\ttotal: 2.6s\tremaining: 1.1s\n",
      "703:\tlearn: 0.0829410\ttotal: 2.61s\tremaining: 1.1s\n",
      "704:\tlearn: 0.0827285\ttotal: 2.61s\tremaining: 1.09s\n",
      "705:\tlearn: 0.0825588\ttotal: 2.61s\tremaining: 1.09s\n",
      "706:\tlearn: 0.0824361\ttotal: 2.61s\tremaining: 1.08s\n",
      "707:\tlearn: 0.0822731\ttotal: 2.62s\tremaining: 1.08s\n",
      "708:\tlearn: 0.0822164\ttotal: 2.62s\tremaining: 1.07s\n",
      "709:\tlearn: 0.0820170\ttotal: 2.62s\tremaining: 1.07s\n",
      "710:\tlearn: 0.0818939\ttotal: 2.62s\tremaining: 1.06s\n",
      "711:\tlearn: 0.0817529\ttotal: 2.62s\tremaining: 1.06s\n",
      "712:\tlearn: 0.0815979\ttotal: 2.63s\tremaining: 1.06s\n",
      "713:\tlearn: 0.0813985\ttotal: 2.63s\tremaining: 1.05s\n",
      "714:\tlearn: 0.0813354\ttotal: 2.63s\tremaining: 1.05s\n",
      "715:\tlearn: 0.0811680\ttotal: 2.64s\tremaining: 1.04s\n",
      "716:\tlearn: 0.0811098\ttotal: 2.64s\tremaining: 1.04s\n",
      "717:\tlearn: 0.0809667\ttotal: 2.64s\tremaining: 1.04s\n",
      "718:\tlearn: 0.0809242\ttotal: 2.64s\tremaining: 1.03s\n",
      "719:\tlearn: 0.0807587\ttotal: 2.65s\tremaining: 1.03s\n",
      "720:\tlearn: 0.0805515\ttotal: 2.65s\tremaining: 1.02s\n",
      "721:\tlearn: 0.0805313\ttotal: 2.65s\tremaining: 1.02s\n",
      "722:\tlearn: 0.0804293\ttotal: 2.65s\tremaining: 1.02s\n",
      "723:\tlearn: 0.0802462\ttotal: 2.65s\tremaining: 1.01s\n",
      "724:\tlearn: 0.0800529\ttotal: 2.66s\tremaining: 1.01s\n",
      "725:\tlearn: 0.0798774\ttotal: 2.66s\tremaining: 1s\n",
      "726:\tlearn: 0.0796944\ttotal: 2.66s\tremaining: 1s\n",
      "727:\tlearn: 0.0796079\ttotal: 2.67s\tremaining: 996ms\n",
      "728:\tlearn: 0.0795394\ttotal: 2.67s\tremaining: 992ms\n",
      "729:\tlearn: 0.0793675\ttotal: 2.68s\tremaining: 990ms\n",
      "730:\tlearn: 0.0793295\ttotal: 2.68s\tremaining: 986ms\n",
      "731:\tlearn: 0.0792886\ttotal: 2.68s\tremaining: 982ms\n",
      "732:\tlearn: 0.0791298\ttotal: 2.68s\tremaining: 978ms\n",
      "733:\tlearn: 0.0790455\ttotal: 2.69s\tremaining: 973ms\n",
      "734:\tlearn: 0.0788925\ttotal: 2.69s\tremaining: 969ms\n",
      "735:\tlearn: 0.0787407\ttotal: 2.69s\tremaining: 965ms\n",
      "736:\tlearn: 0.0786702\ttotal: 2.69s\tremaining: 961ms\n",
      "737:\tlearn: 0.0786316\ttotal: 2.7s\tremaining: 957ms\n",
      "738:\tlearn: 0.0785660\ttotal: 2.7s\tremaining: 953ms\n",
      "739:\tlearn: 0.0784952\ttotal: 2.7s\tremaining: 950ms\n",
      "740:\tlearn: 0.0783276\ttotal: 2.71s\tremaining: 946ms\n",
      "741:\tlearn: 0.0782336\ttotal: 2.71s\tremaining: 943ms\n",
      "742:\tlearn: 0.0780979\ttotal: 2.71s\tremaining: 939ms\n",
      "743:\tlearn: 0.0780180\ttotal: 2.72s\tremaining: 935ms\n",
      "744:\tlearn: 0.0778982\ttotal: 2.72s\tremaining: 931ms\n",
      "745:\tlearn: 0.0776971\ttotal: 2.72s\tremaining: 927ms\n",
      "746:\tlearn: 0.0776264\ttotal: 2.72s\tremaining: 923ms\n",
      "747:\tlearn: 0.0775274\ttotal: 2.73s\tremaining: 919ms\n",
      "748:\tlearn: 0.0774338\ttotal: 2.73s\tremaining: 915ms\n",
      "749:\tlearn: 0.0772716\ttotal: 2.73s\tremaining: 910ms\n",
      "750:\tlearn: 0.0771849\ttotal: 2.73s\tremaining: 906ms\n",
      "751:\tlearn: 0.0770276\ttotal: 2.74s\tremaining: 902ms\n",
      "752:\tlearn: 0.0769347\ttotal: 2.74s\tremaining: 898ms\n",
      "753:\tlearn: 0.0767971\ttotal: 2.74s\tremaining: 894ms\n"
     ]
    },
    {
     "name": "stdout",
     "output_type": "stream",
     "text": [
      "754:\tlearn: 0.0767116\ttotal: 2.75s\tremaining: 891ms\n",
      "755:\tlearn: 0.0766050\ttotal: 2.75s\tremaining: 887ms\n",
      "756:\tlearn: 0.0764639\ttotal: 2.75s\tremaining: 883ms\n",
      "757:\tlearn: 0.0764245\ttotal: 2.75s\tremaining: 879ms\n",
      "758:\tlearn: 0.0763936\ttotal: 2.75s\tremaining: 875ms\n",
      "759:\tlearn: 0.0762844\ttotal: 2.76s\tremaining: 871ms\n",
      "760:\tlearn: 0.0762496\ttotal: 2.76s\tremaining: 867ms\n",
      "761:\tlearn: 0.0760830\ttotal: 2.76s\tremaining: 863ms\n",
      "762:\tlearn: 0.0758795\ttotal: 2.77s\tremaining: 859ms\n",
      "763:\tlearn: 0.0758056\ttotal: 2.77s\tremaining: 855ms\n",
      "764:\tlearn: 0.0756624\ttotal: 2.77s\tremaining: 851ms\n",
      "765:\tlearn: 0.0755982\ttotal: 2.77s\tremaining: 847ms\n",
      "766:\tlearn: 0.0754671\ttotal: 2.77s\tremaining: 843ms\n",
      "767:\tlearn: 0.0753514\ttotal: 2.77s\tremaining: 838ms\n",
      "768:\tlearn: 0.0752142\ttotal: 2.78s\tremaining: 834ms\n",
      "769:\tlearn: 0.0751217\ttotal: 2.78s\tremaining: 830ms\n",
      "770:\tlearn: 0.0749892\ttotal: 2.78s\tremaining: 826ms\n",
      "771:\tlearn: 0.0749704\ttotal: 2.78s\tremaining: 822ms\n",
      "772:\tlearn: 0.0747928\ttotal: 2.79s\tremaining: 818ms\n",
      "773:\tlearn: 0.0747249\ttotal: 2.79s\tremaining: 814ms\n",
      "774:\tlearn: 0.0746518\ttotal: 2.79s\tremaining: 810ms\n",
      "775:\tlearn: 0.0745775\ttotal: 2.79s\tremaining: 806ms\n",
      "776:\tlearn: 0.0744984\ttotal: 2.79s\tremaining: 802ms\n",
      "777:\tlearn: 0.0742738\ttotal: 2.79s\tremaining: 798ms\n",
      "778:\tlearn: 0.0742173\ttotal: 2.8s\tremaining: 794ms\n",
      "779:\tlearn: 0.0741053\ttotal: 2.8s\tremaining: 789ms\n",
      "780:\tlearn: 0.0739661\ttotal: 2.8s\tremaining: 786ms\n",
      "781:\tlearn: 0.0738736\ttotal: 2.8s\tremaining: 782ms\n",
      "782:\tlearn: 0.0737728\ttotal: 2.81s\tremaining: 778ms\n",
      "783:\tlearn: 0.0736491\ttotal: 2.81s\tremaining: 774ms\n",
      "784:\tlearn: 0.0735560\ttotal: 2.81s\tremaining: 769ms\n",
      "785:\tlearn: 0.0734246\ttotal: 2.81s\tremaining: 765ms\n",
      "786:\tlearn: 0.0733227\ttotal: 2.81s\tremaining: 761ms\n",
      "787:\tlearn: 0.0731155\ttotal: 2.81s\tremaining: 757ms\n",
      "788:\tlearn: 0.0730262\ttotal: 2.82s\tremaining: 753ms\n",
      "789:\tlearn: 0.0729336\ttotal: 2.82s\tremaining: 749ms\n",
      "790:\tlearn: 0.0728173\ttotal: 2.82s\tremaining: 745ms\n",
      "791:\tlearn: 0.0727591\ttotal: 2.82s\tremaining: 741ms\n",
      "792:\tlearn: 0.0726179\ttotal: 2.83s\tremaining: 738ms\n",
      "793:\tlearn: 0.0724417\ttotal: 2.83s\tremaining: 734ms\n",
      "794:\tlearn: 0.0724226\ttotal: 2.83s\tremaining: 730ms\n",
      "795:\tlearn: 0.0723757\ttotal: 2.83s\tremaining: 726ms\n",
      "796:\tlearn: 0.0722530\ttotal: 2.83s\tremaining: 722ms\n",
      "797:\tlearn: 0.0720951\ttotal: 2.83s\tremaining: 718ms\n",
      "798:\tlearn: 0.0720264\ttotal: 2.84s\tremaining: 714ms\n",
      "799:\tlearn: 0.0719008\ttotal: 2.84s\tremaining: 710ms\n",
      "800:\tlearn: 0.0718782\ttotal: 2.84s\tremaining: 706ms\n",
      "801:\tlearn: 0.0717286\ttotal: 2.84s\tremaining: 702ms\n",
      "802:\tlearn: 0.0716443\ttotal: 2.84s\tremaining: 698ms\n",
      "803:\tlearn: 0.0715688\ttotal: 2.85s\tremaining: 694ms\n",
      "804:\tlearn: 0.0714828\ttotal: 2.85s\tremaining: 690ms\n",
      "805:\tlearn: 0.0713749\ttotal: 2.85s\tremaining: 686ms\n",
      "806:\tlearn: 0.0713492\ttotal: 2.85s\tremaining: 682ms\n",
      "807:\tlearn: 0.0712036\ttotal: 2.85s\tremaining: 678ms\n",
      "808:\tlearn: 0.0710497\ttotal: 2.86s\tremaining: 674ms\n",
      "809:\tlearn: 0.0710001\ttotal: 2.86s\tremaining: 670ms\n",
      "810:\tlearn: 0.0708244\ttotal: 2.86s\tremaining: 667ms\n",
      "811:\tlearn: 0.0706918\ttotal: 2.86s\tremaining: 663ms\n",
      "812:\tlearn: 0.0705558\ttotal: 2.87s\tremaining: 659ms\n",
      "813:\tlearn: 0.0705406\ttotal: 2.87s\tremaining: 655ms\n",
      "814:\tlearn: 0.0703783\ttotal: 2.87s\tremaining: 651ms\n",
      "815:\tlearn: 0.0702946\ttotal: 2.87s\tremaining: 648ms\n",
      "816:\tlearn: 0.0702034\ttotal: 2.87s\tremaining: 644ms\n",
      "817:\tlearn: 0.0701377\ttotal: 2.88s\tremaining: 640ms\n",
      "818:\tlearn: 0.0700654\ttotal: 2.88s\tremaining: 636ms\n",
      "819:\tlearn: 0.0700537\ttotal: 2.88s\tremaining: 632ms\n",
      "820:\tlearn: 0.0699955\ttotal: 2.88s\tremaining: 629ms\n",
      "821:\tlearn: 0.0699392\ttotal: 2.89s\tremaining: 625ms\n",
      "822:\tlearn: 0.0699321\ttotal: 2.89s\tremaining: 621ms\n",
      "823:\tlearn: 0.0697444\ttotal: 2.89s\tremaining: 617ms\n",
      "824:\tlearn: 0.0695962\ttotal: 2.89s\tremaining: 614ms\n",
      "825:\tlearn: 0.0695600\ttotal: 2.9s\tremaining: 610ms\n",
      "826:\tlearn: 0.0693940\ttotal: 2.9s\tremaining: 606ms\n",
      "827:\tlearn: 0.0693192\ttotal: 2.9s\tremaining: 603ms\n",
      "828:\tlearn: 0.0691929\ttotal: 2.9s\tremaining: 599ms\n",
      "829:\tlearn: 0.0690543\ttotal: 2.91s\tremaining: 595ms\n",
      "830:\tlearn: 0.0689458\ttotal: 2.91s\tremaining: 592ms\n",
      "831:\tlearn: 0.0687891\ttotal: 2.91s\tremaining: 588ms\n",
      "832:\tlearn: 0.0686025\ttotal: 2.91s\tremaining: 584ms\n",
      "833:\tlearn: 0.0684251\ttotal: 2.92s\tremaining: 581ms\n",
      "834:\tlearn: 0.0682944\ttotal: 2.92s\tremaining: 577ms\n",
      "835:\tlearn: 0.0682541\ttotal: 2.92s\tremaining: 573ms\n"
     ]
    },
    {
     "name": "stdout",
     "output_type": "stream",
     "text": [
      "836:\tlearn: 0.0681287\ttotal: 2.92s\tremaining: 569ms\n",
      "837:\tlearn: 0.0680397\ttotal: 2.93s\tremaining: 566ms\n",
      "838:\tlearn: 0.0678603\ttotal: 2.93s\tremaining: 562ms\n",
      "839:\tlearn: 0.0676709\ttotal: 2.93s\tremaining: 559ms\n",
      "840:\tlearn: 0.0675105\ttotal: 2.94s\tremaining: 555ms\n",
      "841:\tlearn: 0.0674070\ttotal: 2.94s\tremaining: 551ms\n",
      "842:\tlearn: 0.0673143\ttotal: 2.95s\tremaining: 550ms\n",
      "843:\tlearn: 0.0672134\ttotal: 2.95s\tremaining: 546ms\n",
      "844:\tlearn: 0.0670783\ttotal: 2.96s\tremaining: 542ms\n",
      "845:\tlearn: 0.0669635\ttotal: 2.96s\tremaining: 539ms\n",
      "846:\tlearn: 0.0669285\ttotal: 2.96s\tremaining: 535ms\n",
      "847:\tlearn: 0.0667757\ttotal: 2.96s\tremaining: 531ms\n",
      "848:\tlearn: 0.0665912\ttotal: 2.97s\tremaining: 528ms\n",
      "849:\tlearn: 0.0665431\ttotal: 2.97s\tremaining: 524ms\n",
      "850:\tlearn: 0.0664266\ttotal: 2.97s\tremaining: 520ms\n",
      "851:\tlearn: 0.0663073\ttotal: 2.97s\tremaining: 516ms\n",
      "852:\tlearn: 0.0661675\ttotal: 2.97s\tremaining: 513ms\n",
      "853:\tlearn: 0.0660148\ttotal: 2.98s\tremaining: 509ms\n",
      "854:\tlearn: 0.0658460\ttotal: 2.98s\tremaining: 505ms\n",
      "855:\tlearn: 0.0656957\ttotal: 2.98s\tremaining: 501ms\n",
      "856:\tlearn: 0.0655573\ttotal: 2.98s\tremaining: 498ms\n",
      "857:\tlearn: 0.0654072\ttotal: 2.98s\tremaining: 494ms\n",
      "858:\tlearn: 0.0652567\ttotal: 2.99s\tremaining: 490ms\n",
      "859:\tlearn: 0.0651531\ttotal: 2.99s\tremaining: 487ms\n",
      "860:\tlearn: 0.0650796\ttotal: 2.99s\tremaining: 483ms\n",
      "861:\tlearn: 0.0649551\ttotal: 2.99s\tremaining: 479ms\n",
      "862:\tlearn: 0.0649218\ttotal: 2.99s\tremaining: 475ms\n",
      "863:\tlearn: 0.0647878\ttotal: 3s\tremaining: 472ms\n",
      "864:\tlearn: 0.0647217\ttotal: 3s\tremaining: 468ms\n",
      "865:\tlearn: 0.0646057\ttotal: 3s\tremaining: 464ms\n",
      "866:\tlearn: 0.0645371\ttotal: 3s\tremaining: 461ms\n",
      "867:\tlearn: 0.0644402\ttotal: 3s\tremaining: 457ms\n",
      "868:\tlearn: 0.0643626\ttotal: 3.01s\tremaining: 453ms\n",
      "869:\tlearn: 0.0643340\ttotal: 3.01s\tremaining: 450ms\n",
      "870:\tlearn: 0.0642282\ttotal: 3.01s\tremaining: 446ms\n",
      "871:\tlearn: 0.0641278\ttotal: 3.01s\tremaining: 442ms\n",
      "872:\tlearn: 0.0640887\ttotal: 3.01s\tremaining: 439ms\n",
      "873:\tlearn: 0.0640001\ttotal: 3.02s\tremaining: 435ms\n",
      "874:\tlearn: 0.0639188\ttotal: 3.02s\tremaining: 431ms\n",
      "875:\tlearn: 0.0637811\ttotal: 3.02s\tremaining: 428ms\n",
      "876:\tlearn: 0.0636900\ttotal: 3.02s\tremaining: 424ms\n",
      "877:\tlearn: 0.0635978\ttotal: 3.02s\tremaining: 420ms\n",
      "878:\tlearn: 0.0635124\ttotal: 3.02s\tremaining: 416ms\n",
      "879:\tlearn: 0.0633910\ttotal: 3.03s\tremaining: 413ms\n",
      "880:\tlearn: 0.0633575\ttotal: 3.03s\tremaining: 409ms\n",
      "881:\tlearn: 0.0631900\ttotal: 3.03s\tremaining: 406ms\n",
      "882:\tlearn: 0.0631400\ttotal: 3.03s\tremaining: 402ms\n",
      "883:\tlearn: 0.0630500\ttotal: 3.04s\tremaining: 398ms\n",
      "884:\tlearn: 0.0629735\ttotal: 3.04s\tremaining: 395ms\n",
      "885:\tlearn: 0.0628979\ttotal: 3.04s\tremaining: 391ms\n",
      "886:\tlearn: 0.0627903\ttotal: 3.04s\tremaining: 387ms\n",
      "887:\tlearn: 0.0627012\ttotal: 3.04s\tremaining: 384ms\n",
      "888:\tlearn: 0.0626086\ttotal: 3.04s\tremaining: 380ms\n",
      "889:\tlearn: 0.0625608\ttotal: 3.05s\tremaining: 377ms\n",
      "890:\tlearn: 0.0624811\ttotal: 3.05s\tremaining: 373ms\n",
      "891:\tlearn: 0.0623632\ttotal: 3.05s\tremaining: 369ms\n",
      "892:\tlearn: 0.0622318\ttotal: 3.05s\tremaining: 366ms\n",
      "893:\tlearn: 0.0621977\ttotal: 3.05s\tremaining: 362ms\n",
      "894:\tlearn: 0.0621034\ttotal: 3.06s\tremaining: 359ms\n",
      "895:\tlearn: 0.0619997\ttotal: 3.06s\tremaining: 355ms\n",
      "896:\tlearn: 0.0619649\ttotal: 3.06s\tremaining: 351ms\n",
      "897:\tlearn: 0.0619427\ttotal: 3.06s\tremaining: 348ms\n",
      "898:\tlearn: 0.0618885\ttotal: 3.06s\tremaining: 344ms\n",
      "899:\tlearn: 0.0618038\ttotal: 3.06s\tremaining: 341ms\n",
      "900:\tlearn: 0.0616895\ttotal: 3.07s\tremaining: 337ms\n",
      "901:\tlearn: 0.0615865\ttotal: 3.07s\tremaining: 334ms\n",
      "902:\tlearn: 0.0614944\ttotal: 3.07s\tremaining: 330ms\n",
      "903:\tlearn: 0.0614312\ttotal: 3.08s\tremaining: 327ms\n",
      "904:\tlearn: 0.0613495\ttotal: 3.08s\tremaining: 323ms\n",
      "905:\tlearn: 0.0612204\ttotal: 3.08s\tremaining: 319ms\n",
      "906:\tlearn: 0.0611760\ttotal: 3.08s\tremaining: 316ms\n",
      "907:\tlearn: 0.0611241\ttotal: 3.08s\tremaining: 312ms\n",
      "908:\tlearn: 0.0610872\ttotal: 3.08s\tremaining: 309ms\n"
     ]
    },
    {
     "name": "stdout",
     "output_type": "stream",
     "text": [
      "909:\tlearn: 0.0609051\ttotal: 3.09s\tremaining: 306ms\n",
      "910:\tlearn: 0.0607745\ttotal: 3.09s\tremaining: 302ms\n",
      "911:\tlearn: 0.0606216\ttotal: 3.09s\tremaining: 299ms\n",
      "912:\tlearn: 0.0605929\ttotal: 3.1s\tremaining: 295ms\n",
      "913:\tlearn: 0.0605263\ttotal: 3.1s\tremaining: 292ms\n",
      "914:\tlearn: 0.0604451\ttotal: 3.1s\tremaining: 288ms\n",
      "915:\tlearn: 0.0603122\ttotal: 3.1s\tremaining: 285ms\n",
      "916:\tlearn: 0.0601299\ttotal: 3.11s\tremaining: 281ms\n",
      "917:\tlearn: 0.0600589\ttotal: 3.11s\tremaining: 278ms\n",
      "918:\tlearn: 0.0600191\ttotal: 3.11s\tremaining: 274ms\n",
      "919:\tlearn: 0.0599701\ttotal: 3.11s\tremaining: 271ms\n",
      "920:\tlearn: 0.0598759\ttotal: 3.12s\tremaining: 267ms\n",
      "921:\tlearn: 0.0597890\ttotal: 3.12s\tremaining: 264ms\n",
      "922:\tlearn: 0.0596871\ttotal: 3.12s\tremaining: 261ms\n",
      "923:\tlearn: 0.0595922\ttotal: 3.13s\tremaining: 257ms\n",
      "924:\tlearn: 0.0595150\ttotal: 3.13s\tremaining: 254ms\n",
      "925:\tlearn: 0.0594277\ttotal: 3.13s\tremaining: 250ms\n",
      "926:\tlearn: 0.0593155\ttotal: 3.13s\tremaining: 247ms\n",
      "927:\tlearn: 0.0592911\ttotal: 3.13s\tremaining: 243ms\n",
      "928:\tlearn: 0.0592856\ttotal: 3.14s\tremaining: 240ms\n",
      "929:\tlearn: 0.0592251\ttotal: 3.14s\tremaining: 236ms\n",
      "930:\tlearn: 0.0591273\ttotal: 3.14s\tremaining: 233ms\n",
      "931:\tlearn: 0.0590725\ttotal: 3.15s\tremaining: 230ms\n",
      "932:\tlearn: 0.0589857\ttotal: 3.15s\tremaining: 226ms\n",
      "933:\tlearn: 0.0589132\ttotal: 3.15s\tremaining: 223ms\n",
      "934:\tlearn: 0.0588367\ttotal: 3.15s\tremaining: 219ms\n",
      "935:\tlearn: 0.0587782\ttotal: 3.16s\tremaining: 216ms\n",
      "936:\tlearn: 0.0587085\ttotal: 3.16s\tremaining: 212ms\n",
      "937:\tlearn: 0.0586637\ttotal: 3.16s\tremaining: 209ms\n",
      "938:\tlearn: 0.0586022\ttotal: 3.16s\tremaining: 206ms\n",
      "939:\tlearn: 0.0584580\ttotal: 3.17s\tremaining: 202ms\n",
      "940:\tlearn: 0.0583314\ttotal: 3.17s\tremaining: 199ms\n",
      "941:\tlearn: 0.0582870\ttotal: 3.17s\tremaining: 195ms\n",
      "942:\tlearn: 0.0581431\ttotal: 3.17s\tremaining: 192ms\n",
      "943:\tlearn: 0.0580707\ttotal: 3.18s\tremaining: 188ms\n",
      "944:\tlearn: 0.0579855\ttotal: 3.18s\tremaining: 185ms\n",
      "945:\tlearn: 0.0579113\ttotal: 3.18s\tremaining: 182ms\n",
      "946:\tlearn: 0.0578183\ttotal: 3.19s\tremaining: 178ms\n",
      "947:\tlearn: 0.0577917\ttotal: 3.19s\tremaining: 175ms\n",
      "948:\tlearn: 0.0577170\ttotal: 3.19s\tremaining: 172ms\n",
      "949:\tlearn: 0.0575926\ttotal: 3.19s\tremaining: 168ms\n",
      "950:\tlearn: 0.0575711\ttotal: 3.2s\tremaining: 165ms\n",
      "951:\tlearn: 0.0575360\ttotal: 3.2s\tremaining: 161ms\n",
      "952:\tlearn: 0.0574384\ttotal: 3.2s\tremaining: 158ms\n",
      "953:\tlearn: 0.0573024\ttotal: 3.2s\tremaining: 155ms\n"
     ]
    },
    {
     "name": "stdout",
     "output_type": "stream",
     "text": [
      "954:\tlearn: 0.0571515\ttotal: 3.21s\tremaining: 151ms\n",
      "955:\tlearn: 0.0571029\ttotal: 3.21s\tremaining: 148ms\n",
      "956:\tlearn: 0.0570064\ttotal: 3.21s\tremaining: 144ms\n",
      "957:\tlearn: 0.0569253\ttotal: 3.22s\tremaining: 141ms\n",
      "958:\tlearn: 0.0568150\ttotal: 3.22s\tremaining: 138ms\n",
      "959:\tlearn: 0.0567638\ttotal: 3.22s\tremaining: 134ms\n",
      "960:\tlearn: 0.0567001\ttotal: 3.22s\tremaining: 131ms\n",
      "961:\tlearn: 0.0565755\ttotal: 3.23s\tremaining: 127ms\n",
      "962:\tlearn: 0.0565069\ttotal: 3.23s\tremaining: 124ms\n",
      "963:\tlearn: 0.0563684\ttotal: 3.23s\tremaining: 121ms\n",
      "964:\tlearn: 0.0562573\ttotal: 3.23s\tremaining: 117ms\n",
      "965:\tlearn: 0.0562240\ttotal: 3.24s\tremaining: 114ms\n",
      "966:\tlearn: 0.0561962\ttotal: 3.24s\tremaining: 111ms\n",
      "967:\tlearn: 0.0561425\ttotal: 3.24s\tremaining: 107ms\n",
      "968:\tlearn: 0.0559962\ttotal: 3.24s\tremaining: 104ms\n",
      "969:\tlearn: 0.0559582\ttotal: 3.25s\tremaining: 100ms\n",
      "970:\tlearn: 0.0559022\ttotal: 3.25s\tremaining: 97ms\n",
      "971:\tlearn: 0.0557827\ttotal: 3.25s\tremaining: 93.6ms\n",
      "972:\tlearn: 0.0556800\ttotal: 3.25s\tremaining: 90.2ms\n",
      "973:\tlearn: 0.0555977\ttotal: 3.25s\tremaining: 86.8ms\n",
      "974:\tlearn: 0.0555024\ttotal: 3.25s\tremaining: 83.5ms\n",
      "975:\tlearn: 0.0554742\ttotal: 3.26s\tremaining: 80.1ms\n",
      "976:\tlearn: 0.0553832\ttotal: 3.26s\tremaining: 76.8ms\n",
      "977:\tlearn: 0.0553287\ttotal: 3.26s\tremaining: 73.4ms\n",
      "978:\tlearn: 0.0552896\ttotal: 3.26s\tremaining: 70ms\n",
      "979:\tlearn: 0.0551488\ttotal: 3.27s\tremaining: 66.6ms\n",
      "980:\tlearn: 0.0550989\ttotal: 3.27s\tremaining: 63.3ms\n",
      "981:\tlearn: 0.0550067\ttotal: 3.27s\tremaining: 59.9ms\n",
      "982:\tlearn: 0.0549066\ttotal: 3.27s\tremaining: 56.6ms\n",
      "983:\tlearn: 0.0547912\ttotal: 3.27s\tremaining: 53.2ms\n",
      "984:\tlearn: 0.0546633\ttotal: 3.27s\tremaining: 49.9ms\n",
      "985:\tlearn: 0.0546431\ttotal: 3.28s\tremaining: 46.5ms\n",
      "986:\tlearn: 0.0545473\ttotal: 3.28s\tremaining: 43.2ms\n",
      "987:\tlearn: 0.0545431\ttotal: 3.28s\tremaining: 39.8ms\n",
      "988:\tlearn: 0.0545040\ttotal: 3.28s\tremaining: 36.5ms\n",
      "989:\tlearn: 0.0544717\ttotal: 3.28s\tremaining: 33.2ms\n",
      "990:\tlearn: 0.0543885\ttotal: 3.29s\tremaining: 29.8ms\n",
      "991:\tlearn: 0.0542580\ttotal: 3.29s\tremaining: 26.5ms\n",
      "992:\tlearn: 0.0542217\ttotal: 3.29s\tremaining: 23.2ms\n",
      "993:\tlearn: 0.0542139\ttotal: 3.29s\tremaining: 19.9ms\n",
      "994:\tlearn: 0.0541923\ttotal: 3.29s\tremaining: 16.5ms\n",
      "995:\tlearn: 0.0541259\ttotal: 3.29s\tremaining: 13.2ms\n",
      "996:\tlearn: 0.0540441\ttotal: 3.3s\tremaining: 9.92ms\n",
      "997:\tlearn: 0.0540301\ttotal: 3.3s\tremaining: 6.61ms\n",
      "998:\tlearn: 0.0540233\ttotal: 3.3s\tremaining: 3.31ms\n",
      "999:\tlearn: 0.0539150\ttotal: 3.3s\tremaining: 0us\n"
     ]
    },
    {
     "data": {
      "text/plain": [
       "<catboost.core.CatBoostRegressor at 0x7fb4743da6d0>"
      ]
     },
     "execution_count": 9,
     "metadata": {},
     "output_type": "execute_result"
    }
   ],
   "source": [
    "#Train the Model \n",
    "prior_model = ctb.CatBoostRegressor()\n",
    "prior_model.fit(X_train,Y_train)"
   ]
  },
  {
   "cell_type": "code",
   "execution_count": 10,
   "id": "af65dcda",
   "metadata": {
    "execution": {
     "iopub.execute_input": "2022-07-22T21:27:25.211814Z",
     "iopub.status.busy": "2022-07-22T21:27:25.211447Z",
     "iopub.status.idle": "2022-07-22T21:27:25.244663Z",
     "shell.execute_reply": "2022-07-22T21:27:25.243796Z"
    },
    "id": "af65dcda",
    "papermill": {
     "duration": 0.048058,
     "end_time": "2022-07-22T21:27:25.247802",
     "exception": false,
     "start_time": "2022-07-22T21:27:25.199744",
     "status": "completed"
    },
    "tags": []
   },
   "outputs": [
    {
     "data": {
      "application/scrapbook.scrap.json+json": {
       "data": 0.16610391945383265,
       "encoder": "json",
       "name": "Prior Model MSE",
       "version": 1
      }
     },
     "metadata": {
      "scrapbook": {
       "data": true,
       "display": false,
       "name": "Prior Model MSE"
      }
     },
     "output_type": "display_data"
    },
    {
     "data": {
      "application/scrapbook.scrap.json+json": {
       "data": 0.1659025514473141,
       "encoder": "json",
       "name": "ABC Pre-generator MSE",
       "version": 1
      }
     },
     "metadata": {
      "scrapbook": {
       "data": true,
       "display": false,
       "name": "ABC Pre-generator MSE"
      }
     },
     "output_type": "display_data"
    },
    {
     "data": {
      "application/scrapbook.scrap.json+json": {
       "data": 0.2816954507192043,
       "encoder": "json",
       "name": "Prior Model MAE",
       "version": 1
      }
     },
     "metadata": {
      "scrapbook": {
       "data": true,
       "display": false,
       "name": "Prior Model MAE"
      }
     },
     "output_type": "display_data"
    },
    {
     "name": "stdout",
     "output_type": "stream",
     "text": [
      "Prior Model MAE 0.2816954507192043\n",
      "ABC Pre-generator MAE 0.28256128720470636\n"
     ]
    }
   ],
   "source": [
    "y_pred = prior_model.predict(X_test)\n",
    "y_abc = y_pred + np.random.normal(0,variance, y_pred.shape) + bias \n",
    "mse = mean_squared_error(y_pred,Y_test)\n",
    "sb.glue(\"Prior Model MSE\",mse)\n",
    "mse = mean_squared_error(y_abc,Y_test)\n",
    "sb.glue(\"ABC Pre-generator MSE\",mse)\n",
    "mae = mean_absolute_error(y_pred,Y_test)\n",
    "sb.glue(\"Prior Model MAE\",mae)\n",
    "print(\"Prior Model MAE\",mae)\n",
    "mae = mean_absolute_error(y_abc,Y_test)\n",
    "print(\"ABC Pre-generator MAE\",mae)"
   ]
  },
  {
   "cell_type": "markdown",
   "id": "25609da2",
   "metadata": {
    "papermill": {
     "duration": 0.025555,
     "end_time": "2022-07-22T21:27:25.284391",
     "exception": false,
     "start_time": "2022-07-22T21:27:25.258836",
     "status": "completed"
    },
    "tags": []
   },
   "source": [
    "# mGAN Model"
   ]
  },
  {
   "cell_type": "code",
   "execution_count": 11,
   "id": "dfc3464d",
   "metadata": {
    "execution": {
     "iopub.execute_input": "2022-07-22T21:27:25.358833Z",
     "iopub.status.busy": "2022-07-22T21:27:25.357252Z",
     "iopub.status.idle": "2022-07-22T21:27:25.400864Z",
     "shell.execute_reply": "2022-07-22T21:27:25.377473Z"
    },
    "papermill": {
     "duration": 0.101962,
     "end_time": "2022-07-22T21:27:25.410448",
     "exception": false,
     "start_time": "2022-07-22T21:27:25.308486",
     "status": "completed"
    },
    "tags": []
   },
   "outputs": [],
   "source": [
    "# gen = network.Generator(n_features+1).to(device)\n",
    "# disc = network.Discriminator(n_features+1).to(device)\n",
    "\n",
    "# criterion = torch.nn.BCELoss()\n",
    "# gen_opt = torch.optim.Adam(gen.parameters(), lr=0.01, betas=(0.5, 0.999))\n",
    "# disc_opt = torch.optim.Adam(disc.parameters(), lr=0.01, betas=(0.5, 0.999))"
   ]
  },
  {
   "cell_type": "code",
   "execution_count": 12,
   "id": "b75fdd85",
   "metadata": {
    "execution": {
     "iopub.execute_input": "2022-07-22T21:27:25.469371Z",
     "iopub.status.busy": "2022-07-22T21:27:25.468607Z",
     "iopub.status.idle": "2022-07-22T21:27:25.476770Z",
     "shell.execute_reply": "2022-07-22T21:27:25.474121Z"
    },
    "papermill": {
     "duration": 0.058034,
     "end_time": "2022-07-22T21:27:25.481466",
     "exception": false,
     "start_time": "2022-07-22T21:27:25.423432",
     "status": "completed"
    },
    "tags": []
   },
   "outputs": [],
   "source": [
    "#Training the ABC_GAN \n",
    "# ABC_train_test2.training_GAN(disc,gen,disc_opt,gen_opt,train_data,batch_size,n_epochs,criterion,prior_model,variance,bias,device)"
   ]
  },
  {
   "cell_type": "code",
   "execution_count": 13,
   "id": "1fa7c368",
   "metadata": {
    "execution": {
     "iopub.execute_input": "2022-07-22T21:27:25.519688Z",
     "iopub.status.busy": "2022-07-22T21:27:25.519321Z",
     "iopub.status.idle": "2022-07-22T21:27:25.525681Z",
     "shell.execute_reply": "2022-07-22T21:27:25.523105Z"
    },
    "papermill": {
     "duration": 0.040966,
     "end_time": "2022-07-22T21:27:25.537082",
     "exception": false,
     "start_time": "2022-07-22T21:27:25.496116",
     "status": "completed"
    },
    "tags": []
   },
   "outputs": [],
   "source": [
    "# ABC_GAN1_metrics=ABC_train_test2.test_generator(gen,test_data,prior_model,variance,bias,\"1\",device)\n",
    "# sb.glue(\"ABC_GAN_1 Metrics\",ABC_GAN1_metrics)\n",
    "\n",
    "# print(\"MAE\")\n",
    "# print(mean(ABC_GAN1_metrics[1]))"
   ]
  },
  {
   "cell_type": "code",
   "execution_count": 14,
   "id": "eb22ce5c",
   "metadata": {
    "execution": {
     "iopub.execute_input": "2022-07-22T21:27:25.594018Z",
     "iopub.status.busy": "2022-07-22T21:27:25.593632Z",
     "iopub.status.idle": "2022-07-22T21:27:25.598456Z",
     "shell.execute_reply": "2022-07-22T21:27:25.596891Z"
    },
    "papermill": {
     "duration": 0.05447,
     "end_time": "2022-07-22T21:27:25.610381",
     "exception": false,
     "start_time": "2022-07-22T21:27:25.555911",
     "status": "completed"
    },
    "tags": []
   },
   "outputs": [],
   "source": [
    "# sanityChecks.discProbVsError(train_data,disc,device)\n",
    "# sanityChecks.discProbVsError(test_data,disc,device)"
   ]
  },
  {
   "cell_type": "markdown",
   "id": "2c243994",
   "metadata": {
    "papermill": {
     "duration": 0.014237,
     "end_time": "2022-07-22T21:27:25.729581",
     "exception": false,
     "start_time": "2022-07-22T21:27:25.715344",
     "status": "completed"
    },
    "tags": []
   },
   "source": [
    "# mGAN Model with TabNet Generator"
   ]
  },
  {
   "cell_type": "code",
   "execution_count": 15,
   "id": "c291415c",
   "metadata": {
    "execution": {
     "iopub.execute_input": "2022-07-22T21:27:25.787149Z",
     "iopub.status.busy": "2022-07-22T21:27:25.786797Z",
     "iopub.status.idle": "2022-07-22T21:27:25.807273Z",
     "shell.execute_reply": "2022-07-22T21:27:25.804843Z"
    },
    "papermill": {
     "duration": 0.078852,
     "end_time": "2022-07-22T21:27:25.820994",
     "exception": false,
     "start_time": "2022-07-22T21:27:25.742142",
     "status": "completed"
    },
    "tags": []
   },
   "outputs": [],
   "source": [
    "gen2 = network.GeneratorTabnet(n_features+1).to(device)\n",
    "disc2 = network.Discriminator(n_features+1).to(device)\n",
    "\n",
    "criterion = torch.nn.BCELoss()\n",
    "gen_opt = torch.optim.Adam(gen2.parameters(), lr=0.01, betas=(0.5, 0.999))\n",
    "disc_opt = torch.optim.Adam(disc2.parameters(), lr=0.01, betas=(0.5, 0.999))"
   ]
  },
  {
   "cell_type": "code",
   "execution_count": 16,
   "id": "3072ff8d",
   "metadata": {
    "execution": {
     "iopub.execute_input": "2022-07-22T21:27:25.853606Z",
     "iopub.status.busy": "2022-07-22T21:27:25.853246Z",
     "iopub.status.idle": "2022-07-22T21:38:08.881193Z",
     "shell.execute_reply": "2022-07-22T21:38:08.879632Z"
    },
    "papermill": {
     "duration": 643.05793,
     "end_time": "2022-07-22T21:38:08.891700",
     "exception": false,
     "start_time": "2022-07-22T21:27:25.833770",
     "status": "completed"
    },
    "tags": []
   },
   "outputs": [
    {
     "data": {
      "image/png": "[encoded data removed]",
      "text/plain": [
       "<Figure size 432x288 with 1 Axes>"
      ]
     },
     "metadata": {
      "needs_background": "light"
     },
     "output_type": "display_data"
    },
    {
     "data": {
      "image/png": "[encoded data removed]",
      "text/plain": [
       "<Figure size 432x288 with 1 Axes>"
      ]
     },
     "metadata": {
      "needs_background": "light"
     },
     "output_type": "display_data"
    }
   ],
   "source": [
    "#Training the ABC_GAN \n",
    "ABC_train_test2.training_GAN(disc2,gen2,disc_opt,gen_opt,train_data,batch_size,n_epochs,criterion,prior_model,variance,bias,device)"
   ]
  },
  {
   "cell_type": "code",
   "execution_count": 17,
   "id": "ac938702",
   "metadata": {
    "execution": {
     "iopub.execute_input": "2022-07-22T21:38:09.014127Z",
     "iopub.status.busy": "2022-07-22T21:38:08.999525Z",
     "iopub.status.idle": "2022-07-22T21:38:11.460245Z",
     "shell.execute_reply": "2022-07-22T21:38:11.459238Z"
    },
    "papermill": {
     "duration": 2.552181,
     "end_time": "2022-07-22T21:38:11.463015",
     "exception": false,
     "start_time": "2022-07-22T21:38:08.910834",
     "status": "completed"
    },
    "tags": []
   },
   "outputs": [
    {
     "data": {
      "application/scrapbook.scrap.json+json": {
       "data": 0.2044639723891306,
       "encoder": "json",
       "name": "ABC-GAN Model 1 MSE",
       "version": 1
      }
     },
     "metadata": {
      "scrapbook": {
       "data": true,
       "display": false,
       "name": "ABC-GAN Model 1 MSE"
      }
     },
     "output_type": "display_data"
    },
    {
     "data": {
      "application/scrapbook.scrap.json+json": {
       "data": 0.3144762123506328,
       "encoder": "json",
       "name": "ABC-GAN Model 1 MAE",
       "version": 1
      }
     },
     "metadata": {
      "scrapbook": {
       "data": true,
       "display": false,
       "name": "ABC-GAN Model 1 MAE"
      }
     },
     "output_type": "display_data"
    },
    {
     "data": {
      "application/scrapbook.scrap.json+json": {
       "data": 32.07657365976454,
       "encoder": "json",
       "name": "ABC-GAN Model 1 Manhattan Distance",
       "version": 1
      }
     },
     "metadata": {
      "scrapbook": {
       "data": true,
       "display": false,
       "name": "ABC-GAN Model 1 Manhattan Distance"
      }
     },
     "output_type": "display_data"
    },
    {
     "data": {
      "application/scrapbook.scrap.json+json": {
       "data": 4.56674942948698,
       "encoder": "json",
       "name": "ABC-GAN Model 1 Euclidean distance",
       "version": 1
      }
     },
     "metadata": {
      "scrapbook": {
       "data": true,
       "display": false,
       "name": "ABC-GAN Model 1 Euclidean distance"
      }
     },
     "output_type": "display_data"
    },
    {
     "data": {
      "application/scrapbook.scrap.json+json": {
       "data": [
        [
         0.20431701920469109,
         0.2033906724552647,
         0.20482741376677072,
         0.20584584503839462,
         0.2033955309081461,
         0.20334303176586405,
         0.20400930165870707,
         0.20507481329755722,
         0.20423670797492924,
         0.20408308525241714,
         0.2046781757734411,
         0.20614554121975284,
         0.20461122735460938,
         0.2052339721008493,
         0.20464208895613567,
         0.20487261918670335,
         0.20357194480007454,
         0.20426224581376493,
         0.20542267361363822,
         0.2053823436106382,
         0.20288731575043337,
         0.2037396267494622,
         0.20569707161440798,
         0.20407836637271679,
         0.2062406521613075,
         0.2049745950970185,
         0.20358339862248717,
         0.2045383990018601,
         0.20414601167564234,
         0.205368297186973,
         0.20275856185071944,
         0.20528642004975325,
         0.20504009231073156,
         0.2062781576631965,
         0.20541729744389267,
         0.2056121251867118,
         0.20331700683190304,
         0.20320867853328636,
         0.20411281546133275,
         0.20484189017308424,
         0.20360133285212467,
         0.20301596373768652,
         0.20408272704513758,
         0.20564255720088845,
         0.20400781563954748,
         0.20419649894215497,
         0.20489768100985647,
         0.203663094789783,
         0.20479288880780994,
         0.2037712031724804,
         0.2055471346856387,
         0.20502150803593655,
         0.20502955879406265,
         0.2049598104073471,
         0.20239826369895075,
         0.20616950578982915,
         0.2030823020761504,
         0.20419327050377367,
         0.20315445166866675,
         0.20602441667044477,
         0.20406823660611947,
         0.2033085522740872,
         0.20513000829799397,
         0.2030306505515861,
         0.20438319213027692,
         0.2046026398038729,
         0.20561807053026576,
         0.20588968867649884,
         0.2056478782747664,
         0.20472530580965814,
         0.20561147043760994,
         0.20393057492145092,
         0.20564534699658746,
         0.205145725003768,
         0.2052300796391143,
         0.2045644823289593,
         0.20197892448117652,
         0.20503748430084615,
         0.2042153197443069,
         0.20244838247213845,
         0.2059112338871235,
         0.20452847727264684,
         0.20251007918814046,
         0.20317886424242484,
         0.2049164970098103,
         0.20434866768523974,
         0.20556250607654322,
         0.20604174548687965,
         0.20445344046125968,
         0.20326302256981418,
         0.20518943384690339,
         0.2038886904340476,
         0.20427118822357918,
         0.20328127027030818,
         0.20316286341144255,
         0.20524660942022294,
         0.20343448555702442,
         0.20510053772519113,
         0.2046884601789567,
         0.20348213366687962
        ],
        [
         0.31329061415082976,
         0.3144178473226288,
         0.3150146024566436,
         0.3169601070329401,
         0.3132787689785747,
         0.3126107163883645,
         0.3135412805622407,
         0.3157650595896092,
         0.31368601128605067,
         0.3144508044956727,
         0.3162950898940657,
         0.31573469549709676,
         0.3156108308227404,
         0.3157236029498973,
         0.3136509893389017,
         0.3145965763468149,
         0.3139740352829297,
         0.31426182360497906,
         0.31443694088717594,
         0.31502300462977706,
         0.3129536164559278,
         0.313708827903896,
         0.31433535028504683,
         0.31381313691792245,
         0.31608621729537845,
         0.3143320145980254,
         0.31354949751174915,
         0.3150283010384324,
         0.3147500536459334,
         0.31453866807415204,
         0.31239987160170485,
         0.31459640611109196,
         0.3146035842698492,
         0.31550248367164063,
         0.31605236803857134,
         0.31462520969958574,
         0.31460652327822414,
         0.3128977860506697,
         0.3133397779208334,
         0.31394775192636776,
         0.3137664780312893,
         0.3136326116418429,
         0.314221832225574,
         0.3163541525638863,
         0.3140682053898333,
         0.3147644377678779,
         0.3152145580662524,
         0.3136009533396539,
         0.3137715482518223,
         0.3148156571128935,
         0.3150514646926347,
         0.31508588209273475,
         0.3156613803596473,
         0.31500273975817594,
         0.3139010324763755,
         0.3168163055042718,
         0.314040588981965,
         0.31444533813890874,
         0.31383300263105945,
         0.31480168235287365,
         0.31449787152529346,
         0.31345387411249037,
         0.3158055371330941,
         0.31403245753152115,
         0.31439326400412065,
         0.314959746831115,
         0.3141957715372829,
         0.3152630935587427,
         0.314913032594703,
         0.3143691117144829,
         0.3157775854901867,
         0.31498902555847286,
         0.31537673291841556,
         0.31419353949490425,
         0.31517828713335533,
         0.3135519206635745,
         0.31211791586532606,
         0.3153346506513509,
         0.31429383056420906,
         0.31272148192111476,
         0.3159096457575466,
         0.3137268554967116,
         0.3131766741839694,
         0.31383885941285566,
         0.3140360680134857,
         0.31505500895939037,
         0.31545067716882946,
         0.31605945060979207,
         0.3144525738579093,
         0.31241602240148564,
         0.31510838160437404,
         0.31485521294833985,
         0.3130690590021949,
         0.3144026889611839,
         0.3147560811199832,
         0.3154836686455882,
         0.3143982894937782,
         0.31359368772702473,
         0.3142749813074867,
         0.3132979183950845
        ],
        [
         31.955642643384635,
         32.070620426908135,
         32.13148945057765,
         32.32993091735989,
         31.95443443581462,
         31.88629307161318,
         31.98121061734855,
         32.20803607814014,
         31.995973151177168,
         32.07398205855861,
         32.2620991691947,
         32.20493894070387,
         32.19230474391952,
         32.203807500889525,
         31.992400912567973,
         32.08885078737512,
         32.02535159885883,
         32.054706007707864,
         32.072567970491946,
         32.13234647223726,
         31.921268878504634,
         31.99830044619739,
         32.062205729074776,
         32.00893996562809,
         32.2407941641286,
         32.06186548899859,
         31.982048746198416,
         32.1328867059201,
         32.104505471885204,
         32.08294414356351,
         31.864786903373897,
         32.08883342333138,
         32.08956559552462,
         32.181253334507346,
         32.23734153993428,
         32.091771389357746,
         32.08986537437886,
         31.91557417716831,
         31.960657347925007,
         32.02267069648951,
         32.00418075919151,
         31.99052638746798,
         32.05062688700855,
         32.268123561516404,
         32.034956949763,
         32.105972652323544,
         32.151884922757745,
         31.987297240644693,
         32.004697921685874,
         32.11119702551514,
         32.13524939864874,
         32.138759973458946,
         32.19746079668403,
         32.13027945533395,
         32.0179053125903,
         32.31526316143572,
         32.03214007616043,
         32.07342449016869,
         32.010966268368065,
         32.10977159999311,
         32.078782895579934,
         31.972295159474015,
         32.2121647875756,
         32.031310668215156,
         32.068112928420305,
         32.12589417677373,
         32.047968696802855,
         32.15683554299176,
         32.121129324659705,
         32.065649394877255,
         32.209313719999045,
         32.12888060696423,
         32.16842675767839,
         32.04774102848023,
         32.148185287602246,
         31.982295907684602,
         31.836027418263257,
         32.16413436643779,
         32.057970717549324,
         31.897591155953705,
         32.222783867269754,
         32.00013926066458,
         31.94402076676488,
         32.01156366011128,
         32.031678937375546,
         32.13561091385782,
         32.17596907122061,
         32.238063962198794,
         32.07416253350675,
         31.866434284951538,
         32.14105492364615,
         32.11523172073066,
         31.93304401822388,
         32.06907427404076,
         32.10512027423829,
         32.17933420185,
         32.068625528365374,
         31.986556148156524,
         32.05604809336364,
         31.95638767629862
        ],
        [
         4.565121680621282,
         4.554761090379713,
         4.5708200800524414,
         4.582169376388901,
         4.554815490514505,
         4.554227622782828,
         4.561682668620004,
         4.5735796654645515,
         4.564224382460044,
         4.562507500897564,
         4.5691546186237755,
         4.5855038114055455,
         4.568407292500326,
         4.575354101518989,
         4.568751806951855,
         4.571324442330005,
         4.556790358312263,
         4.564509729752366,
         4.577457013298005,
         4.57700765219866,
         4.549121476345097,
         4.558666683192043,
         4.580513214113633,
         4.562454752654222,
         4.586561513863447,
         4.5724619954567025,
         4.556918548700831,
         4.567594191496189,
         4.563210842259593,
         4.576851135122405,
         4.5476777929810925,
         4.575938684584272,
         4.573192475251245,
         4.586978535119392,
         4.577397114002352,
         4.579567312426426,
         4.5539361761946235,
         4.552722834787464,
         4.562839814967861,
         4.570981601106549,
         4.557119260115617,
         4.550563514691781,
         4.562503496831979,
         4.57990620367826,
         4.561666054769225,
         4.563775070278969,
         4.571604036113075,
         4.557810402875252,
         4.57043484346912,
         4.559019930159661,
         4.57884349349649,
         4.572985219707749,
         4.573075004523147,
         4.572297088067375,
         4.543635427418552,
         4.585770337747255,
         4.551306934471387,
         4.5637389924693235,
         4.552115340169227,
         4.584156465521804,
         4.562341518762507,
         4.553841491747037,
         4.574195103665275,
         4.550728112759735,
         4.5658608823844204,
         4.5683114232717354,
         4.579633521810136,
         4.582657334451581,
         4.579965456641148,
         4.569680644485468,
         4.5795600208574845,
         4.560802412074874,
         4.579937269619739,
         4.574370333760082,
         4.575310713294744,
         4.5678854186104365,
         4.53892611716472,
         4.573163390770803,
         4.563985387128151,
         4.544197950371233,
         4.582897102978266,
         4.567483407940304,
         4.544890326200438,
         4.552388840238422,
         4.571813939236881,
         4.565475233083018,
         4.57901469967147,
         4.584349249311369,
         4.566645478581458,
         4.553331560749892,
         4.574857620995886,
         4.5603340255153295,
         4.5646096436393195,
         4.553535941174883,
         4.552209580848309,
         4.575494963483484,
         4.555251642534854,
         4.573866509635965,
         4.569269409681769,
         4.555785073291069
        ]
       ],
       "encoder": "json",
       "name": "ABC_GAN_2 Metrics",
       "version": 1
      }
     },
     "metadata": {
      "scrapbook": {
       "data": true,
       "display": false,
       "name": "ABC_GAN_2 Metrics"
      }
     },
     "output_type": "display_data"
    },
    {
     "name": "stdout",
     "output_type": "stream",
     "text": [
      "MAE\n",
      "0.3144762123506328\n"
     ]
    }
   ],
   "source": [
    "ABC_GAN2_metrics=ABC_train_test2.test_generator(gen2,test_data,prior_model,variance,bias,\"1\",device)\n",
    "sb.glue(\"ABC_GAN_2 Metrics\",ABC_GAN2_metrics)\n",
    "\n",
    "print(\"MAE\")\n",
    "print(mean(ABC_GAN2_metrics[1]))"
   ]
  },
  {
   "cell_type": "code",
   "execution_count": 18,
   "id": "0fad64de",
   "metadata": {
    "execution": {
     "iopub.execute_input": "2022-07-22T21:38:11.506829Z",
     "iopub.status.busy": "2022-07-22T21:38:11.504813Z",
     "iopub.status.idle": "2022-07-22T21:38:12.810466Z",
     "shell.execute_reply": "2022-07-22T21:38:12.809560Z"
    },
    "papermill": {
     "duration": 1.335956,
     "end_time": "2022-07-22T21:38:12.813416",
     "exception": false,
     "start_time": "2022-07-22T21:38:11.477460",
     "status": "completed"
    },
    "tags": []
   },
   "outputs": [
    {
     "data": {
      "image/png": "[encoded data removed]",
      "text/plain": [
       "<Figure size 432x288 with 1 Axes>"
      ]
     },
     "metadata": {
      "needs_background": "light"
     },
     "output_type": "display_data"
    },
    {
     "data": {
      "image/png": "[encoded data removed]",
      "text/plain": [
       "<Figure size 432x288 with 1 Axes>"
      ]
     },
     "metadata": {
      "needs_background": "light"
     },
     "output_type": "display_data"
    },
    {
     "data": {
      "image/png": "[encoded data removed]",
      "text/plain": [
       "<Figure size 432x288 with 1 Axes>"
      ]
     },
     "metadata": {
      "needs_background": "light"
     },
     "output_type": "display_data"
    },
    {
     "data": {
      "image/png": "[encoded data removed]",
      "text/plain": [
       "<Figure size 432x288 with 1 Axes>"
      ]
     },
     "metadata": {
      "needs_background": "light"
     },
     "output_type": "display_data"
    }
   ],
   "source": [
    "sanityChecks.discProbVsError(train_data,disc2,device)\n",
    "sanityChecks.discProbVsError(test_data,disc2,device)"
   ]
  },
  {
   "cell_type": "markdown",
   "id": "130f3a4d",
   "metadata": {
    "id": "130f3a4d",
    "papermill": {
     "duration": 0.024875,
     "end_time": "2022-07-22T21:38:12.855987",
     "exception": false,
     "start_time": "2022-07-22T21:38:12.831112",
     "status": "completed"
    },
    "tags": []
   },
   "source": [
    "# skipGAN Model"
   ]
  },
  {
   "cell_type": "code",
   "execution_count": 19,
   "id": "4e43dad1",
   "metadata": {
    "execution": {
     "iopub.execute_input": "2022-07-22T21:38:12.897319Z",
     "iopub.status.busy": "2022-07-22T21:38:12.896739Z",
     "iopub.status.idle": "2022-07-22T21:38:12.905745Z",
     "shell.execute_reply": "2022-07-22T21:38:12.904075Z"
    },
    "id": "4e43dad1",
    "papermill": {
     "duration": 0.036346,
     "end_time": "2022-07-22T21:38:12.912176",
     "exception": false,
     "start_time": "2022-07-22T21:38:12.875830",
     "status": "completed"
    },
    "tags": []
   },
   "outputs": [],
   "source": [
    "# #Generator\n",
    "# gen3 = network.GeneratorWithSkipConnection(n_features+1).to(device)\n",
    "# constraints=network.weightConstraint()\n",
    "# #Discriminator \n",
    "# disc3 = network.Discriminator(n_features+1).to(device)\n",
    "\n",
    "# criterion = torch.nn.BCELoss()\n",
    "# gen_opt = torch.optim.Adam(gen3.parameters(), lr=0.01, betas=(0.5, 0.999))\n",
    "# disc_opt = torch.optim.Adam(disc3.parameters(), lr=0.01, betas=(0.5, 0.999))\n"
   ]
  },
  {
   "cell_type": "markdown",
   "id": "ec3aef6a",
   "metadata": {
    "tags": [
     "papermill-error-cell-tag"
    ]
   },
   "source": [
    "<span id=\"papermill-error-cell\" style=\"color:red; font-family:Helvetica Neue, Helvetica, Arial, sans-serif; font-size:2em;\">Execution using papermill encountered an exception here and stopped:</span>"
   ]
  },
  {
   "cell_type": "code",
   "execution_count": 20,
   "id": "26acbc37",
   "metadata": {
    "execution": {
     "iopub.execute_input": "2022-07-22T21:38:12.996018Z",
     "iopub.status.busy": "2022-07-22T21:38:12.995147Z",
     "iopub.status.idle": "2022-07-22T21:38:16.628645Z",
     "shell.execute_reply": "2022-07-22T21:38:16.624246Z"
    },
    "id": "26acbc37",
    "papermill": {
     "duration": 3.685152,
     "end_time": "2022-07-22T21:38:16.631315",
     "exception": true,
     "start_time": "2022-07-22T21:38:12.946163",
     "status": "failed"
    },
    "tags": []
   },
   "outputs": [
    {
     "ename": "NameError",
     "evalue": "name 'disc3' is not defined",
     "output_type": "error",
     "traceback": [
      "\u001b[0;31m---------------------------------------------------------------------------\u001b[0m",
      "\u001b[0;31mNameError\u001b[0m                                 Traceback (most recent call last)",
      "Input \u001b[0;32mIn [20]\u001b[0m, in \u001b[0;36m<cell line: 1>\u001b[0;34m()\u001b[0m\n\u001b[0;32m----> 1\u001b[0m ABC_train_test2\u001b[38;5;241m.\u001b[39mtraining_GAN_skip_connection(\u001b[43mdisc3\u001b[49m,gen3,disc_opt,gen_opt,train_data,batch_size,n_epochs,criterion,prior_model,variance,bias,device)\n",
      "\u001b[0;31mNameError\u001b[0m: name 'disc3' is not defined"
     ]
    }
   ],
   "source": [
    "ABC_train_test2.training_GAN_skip_connection(disc3,gen3,disc_opt,gen_opt,train_data,batch_size,n_epochs,criterion,prior_model,variance,bias,device)"
   ]
  },
  {
   "cell_type": "code",
   "execution_count": null,
   "id": "c5e0717b",
   "metadata": {
    "id": "c5e0717b",
    "papermill": {
     "duration": null,
     "end_time": null,
     "exception": null,
     "start_time": null,
     "status": "pending"
    },
    "tags": []
   },
   "outputs": [],
   "source": [
    "# ABC_GAN3_metrics=ABC_train_test2.test_generator(gen3,test_data,prior_model,variance,bias,\"3\",device)\n",
    "# sb.glue(\"ABC_GAN_3 Metrics\",ABC_GAN3_metrics)\n",
    "\n",
    "# print(\"MAE\")\n",
    "# print(mean(ABC_GAN3_metrics[1]))"
   ]
  },
  {
   "cell_type": "code",
   "execution_count": null,
   "id": "c8e46b48",
   "metadata": {
    "id": "c8e46b48",
    "papermill": {
     "duration": null,
     "end_time": null,
     "exception": null,
     "start_time": null,
     "status": "pending"
    },
    "tags": []
   },
   "outputs": [],
   "source": [
    "# sanityChecks.discProbVsError(train_data,disc3,device)\n",
    "# sanityChecks.discProbVsError(test_data,disc3,device)"
   ]
  },
  {
   "cell_type": "markdown",
   "id": "fb358ad3",
   "metadata": {
    "id": "130f3a4d",
    "papermill": {
     "duration": null,
     "end_time": null,
     "exception": null,
     "start_time": null,
     "status": "pending"
    },
    "tags": []
   },
   "source": [
    "# skipGAN Model with TabNet Generator"
   ]
  },
  {
   "cell_type": "code",
   "execution_count": null,
   "id": "23317483",
   "metadata": {
    "id": "4e43dad1",
    "papermill": {
     "duration": null,
     "end_time": null,
     "exception": null,
     "start_time": null,
     "status": "pending"
    },
    "tags": []
   },
   "outputs": [],
   "source": [
    "# #Generator\n",
    "# gen4 = network.GeneratorTabnetskipConnection(n_features+1).to(device)\n",
    "# constraints=network.weightConstraint()\n",
    "# #Discriminator \n",
    "# disc4 = network.Discriminator(n_features+1).to(device)\n",
    "\n",
    "# criterion = torch.nn.BCELoss()\n",
    "# gen_opt = torch.optim.Adam(gen4.parameters(), lr=0.01, betas=(0.5, 0.999))\n",
    "# disc_opt = torch.optim.Adam(disc4.parameters(), lr=0.01, betas=(0.5, 0.999))\n"
   ]
  },
  {
   "cell_type": "code",
   "execution_count": null,
   "id": "5e9ac11d",
   "metadata": {
    "id": "26acbc37",
    "papermill": {
     "duration": null,
     "end_time": null,
     "exception": null,
     "start_time": null,
     "status": "pending"
    },
    "tags": []
   },
   "outputs": [],
   "source": [
    "# ABC_train_test2.training_GAN_skip_connection(disc4,gen4,disc_opt,gen_opt,train_data,batch_size,n_epochs,criterion,prior_model,variance,bias,device)"
   ]
  },
  {
   "cell_type": "code",
   "execution_count": null,
   "id": "123dfb2a",
   "metadata": {
    "id": "c5e0717b",
    "papermill": {
     "duration": null,
     "end_time": null,
     "exception": null,
     "start_time": null,
     "status": "pending"
    },
    "tags": []
   },
   "outputs": [],
   "source": [
    "# ABC_GAN4_metrics=ABC_train_test2.test_generator(gen4,test_data,prior_model,variance,bias,\"3\",device)\n",
    "# sb.glue(\"ABC_GAN_4 Metrics\",ABC_GAN4_metrics)\n",
    "\n",
    "# print(\"MAE\")\n",
    "# print(mean(ABC_GAN4_metrics[1]))"
   ]
  },
  {
   "cell_type": "code",
   "execution_count": null,
   "id": "21fc5500",
   "metadata": {
    "id": "c8e46b48",
    "papermill": {
     "duration": null,
     "end_time": null,
     "exception": null,
     "start_time": null,
     "status": "pending"
    },
    "tags": []
   },
   "outputs": [],
   "source": [
    "# sanityChecks.discProbVsError(train_data,disc4,device)\n",
    "# sanityChecks.discProbVsError(test_data,disc4,device)"
   ]
  },
  {
   "cell_type": "markdown",
   "id": "a5bd74c3",
   "metadata": {
    "id": "a5bd74c3",
    "papermill": {
     "duration": null,
     "end_time": null,
     "exception": null,
     "start_time": null,
     "status": "pending"
    },
    "tags": []
   },
   "source": [
    "## Skip Connection Model Analysis - ABC-GAN "
   ]
  },
  {
   "cell_type": "markdown",
   "id": "5744a8bf",
   "metadata": {
    "id": "5744a8bf",
    "papermill": {
     "duration": null,
     "end_time": null,
     "exception": null,
     "start_time": null,
     "status": "pending"
    },
    "tags": []
   },
   "source": [
    "### Weight Analysis \n",
    "\n",
    "Study the weights of the skip connection layer\n",
    "\n",
    "Equation of the skip connection is \n",
    "\n",
    "$output = y_{gan} * w + y_{abc} * (1-w)$"
   ]
  },
  {
   "cell_type": "code",
   "execution_count": null,
   "id": "52c31dea",
   "metadata": {
    "id": "52c31dea",
    "papermill": {
     "duration": null,
     "end_time": null,
     "exception": null,
     "start_time": null,
     "status": "pending"
    },
    "tags": []
   },
   "outputs": [],
   "source": [
    "# print(\"Weight of the node at skip connection\")\n",
    "# for name,param in gen3.named_parameters():\n",
    "#     if(name == \"skipNode.weight\"):\n",
    "#         print(param)\n",
    "#         sb.glue(\"Skip Connection Weight\",param.item())"
   ]
  },
  {
   "cell_type": "markdown",
   "id": "4f3cb1ee",
   "metadata": {
    "id": "a5bd74c3",
    "papermill": {
     "duration": null,
     "end_time": null,
     "exception": null,
     "start_time": null,
     "status": "pending"
    },
    "tags": []
   },
   "source": [
    "## skipGAN Model Analysis (TabNet Generator) "
   ]
  },
  {
   "cell_type": "markdown",
   "id": "1cf5488d",
   "metadata": {
    "id": "5744a8bf",
    "papermill": {
     "duration": null,
     "end_time": null,
     "exception": null,
     "start_time": null,
     "status": "pending"
    },
    "tags": []
   },
   "source": [
    "### Weight Analysis \n",
    "\n",
    "Study the weights of the skip connection layer\n",
    "\n",
    "Equation of the skip connection is \n",
    "\n",
    "$output = y_{gan} * w + y_{abc} * (1-w)$"
   ]
  },
  {
   "cell_type": "code",
   "execution_count": null,
   "id": "9e1acf99",
   "metadata": {
    "id": "52c31dea",
    "papermill": {
     "duration": null,
     "end_time": null,
     "exception": null,
     "start_time": null,
     "status": "pending"
    },
    "tags": []
   },
   "outputs": [],
   "source": [
    "# print(\"Weight of the node at skip connection\")\n",
    "# for name,param in gen4.named_parameters():\n",
    "#     if(name == \"skipNode.weight\"):\n",
    "#         print(param)\n",
    "#         sb.glue(\"Skip Connection Weight\",param.item())"
   ]
  }
 ],
 "metadata": {
  "colab": {
   "collapsed_sections": [],
   "name": "ABC_GAN_Model-Catboost_Pre-gen.ipynb",
   "provenance": []
  },
  "interpreter": {
   "hash": "31f2aee4e71d21fbe5cf8b01ff0e069b9275f58929596ceb00d14d90e3e16cd6"
  },
  "kernelspec": {
   "display_name": "Python 3 (ipykernel)",
   "language": "python",
   "name": "python3"
  },
  "language_info": {
   "codemirror_mode": {
    "name": "ipython",
    "version": 3
   },
   "file_extension": ".py",
   "mimetype": "text/x-python",
   "name": "python",
   "nbconvert_exporter": "python",
   "pygments_lexer": "ipython3",
   "version": "3.8.13"
  },
  "papermill": {
   "default_parameters": {},
   "duration": 670.869166,
   "end_time": "2022-07-22T21:38:18.213615",
   "environment_variables": {},
   "exception": true,
   "input_path": "ABC_GAN-Catboost.ipynb",
   "output_path": "./ABC_GAN_Catboost/ABC-GAN_output_2_8.ipynb",
   "parameters": {
    "bias": 0.01,
    "variance": 0.01
   },
   "start_time": "2022-07-22T21:27:07.344449",
   "version": "2.3.3"
  }
 },
 "nbformat": 4,
 "nbformat_minor": 5
}