{
 "cells": [
  {
   "cell_type": "markdown",
   "id": "64fe20c2",
   "metadata": {
    "tags": [
     "papermill-error-cell-tag"
    ]
   },
   "source": [
    "<span style=\"color:red; font-family:Helvetica Neue, Helvetica, Arial, sans-serif; font-size:2em;\">An Exception was encountered at '<a href=\"#papermill-error-cell\">In [20]</a>'.</span>"
   ]
  },
  {
   "cell_type": "markdown",
   "id": "622780e6",
   "metadata": {
    "id": "622780e6",
    "papermill": {
     "duration": 0.008024,
     "end_time": "2022-07-22T17:42:20.173053",
     "exception": false,
     "start_time": "2022-07-22T17:42:20.165029",
     "status": "completed"
    },
    "tags": []
   },
   "source": [
    "## Import Libraries "
   ]
  },
  {
   "cell_type": "code",
   "execution_count": 1,
   "id": "a62397e3",
   "metadata": {
    "execution": {
     "iopub.execute_input": "2022-07-22T17:42:20.202446Z",
     "iopub.status.busy": "2022-07-22T17:42:20.201136Z",
     "iopub.status.idle": "2022-07-22T17:42:20.247837Z",
     "shell.execute_reply": "2022-07-22T17:42:20.242771Z"
    },
    "id": "a62397e3",
    "papermill": {
     "duration": 0.071427,
     "end_time": "2022-07-22T17:42:20.251461",
     "exception": false,
     "start_time": "2022-07-22T17:42:20.180034",
     "status": "completed"
    },
    "tags": []
   },
   "outputs": [],
   "source": [
    "import warnings\n",
    "import sys\n",
    "sys.path.insert(0, '../../src')\n",
    "warnings.filterwarnings('ignore')"
   ]
  },
  {
   "cell_type": "code",
   "execution_count": 2,
   "id": "d6a4e155",
   "metadata": {
    "execution": {
     "iopub.execute_input": "2022-07-22T17:42:20.270030Z",
     "iopub.status.busy": "2022-07-22T17:42:20.269018Z",
     "iopub.status.idle": "2022-07-22T17:42:31.079230Z",
     "shell.execute_reply": "2022-07-22T17:42:31.077821Z"
    },
    "id": "d6a4e155",
    "papermill": {
     "duration": 10.823268,
     "end_time": "2022-07-22T17:42:31.082818",
     "exception": false,
     "start_time": "2022-07-22T17:42:20.259550",
     "status": "completed"
    },
    "tags": []
   },
   "outputs": [],
   "source": [
    "import ABC_train_test2\n",
    "import bostonDataset\n",
    "import network\n",
    "import dataset\n",
    "import sanityChecks\n",
    "import torch \n",
    "import scrapbook as sb\n",
    "from statistics import mean \n",
    "import catboost as ctb \n",
    "from sklearn.model_selection import train_test_split\n",
    "from sklearn.metrics import mean_squared_error,mean_absolute_error\n",
    "import numpy as np"
   ]
  },
  {
   "cell_type": "markdown",
   "id": "2fa5b0f7",
   "metadata": {
    "id": "2fa5b0f7",
    "papermill": {
     "duration": 0.009136,
     "end_time": "2022-07-22T17:42:31.101141",
     "exception": false,
     "start_time": "2022-07-22T17:42:31.092005",
     "status": "completed"
    },
    "tags": []
   },
   "source": [
    "## Parameters "
   ]
  },
  {
   "cell_type": "code",
   "execution_count": 3,
   "id": "783186fb",
   "metadata": {
    "execution": {
     "iopub.execute_input": "2022-07-22T17:42:31.120431Z",
     "iopub.status.busy": "2022-07-22T17:42:31.119882Z",
     "iopub.status.idle": "2022-07-22T17:42:31.128381Z",
     "shell.execute_reply": "2022-07-22T17:42:31.124710Z"
    },
    "id": "783186fb",
    "papermill": {
     "duration": 0.022233,
     "end_time": "2022-07-22T17:42:31.132080",
     "exception": false,
     "start_time": "2022-07-22T17:42:31.109847",
     "status": "completed"
    },
    "tags": [
     "parameters"
    ]
   },
   "outputs": [],
   "source": [
    "variance = 1\n",
    "bias = 1 "
   ]
  },
  {
   "cell_type": "code",
   "execution_count": 4,
   "id": "e2665b2a",
   "metadata": {
    "execution": {
     "iopub.execute_input": "2022-07-22T17:42:31.152045Z",
     "iopub.status.busy": "2022-07-22T17:42:31.150902Z",
     "iopub.status.idle": "2022-07-22T17:42:31.155879Z",
     "shell.execute_reply": "2022-07-22T17:42:31.154998Z"
    },
    "papermill": {
     "duration": 0.018469,
     "end_time": "2022-07-22T17:42:31.158572",
     "exception": false,
     "start_time": "2022-07-22T17:42:31.140103",
     "status": "completed"
    },
    "tags": [
     "injected-parameters"
    ]
   },
   "outputs": [],
   "source": [
    "# Parameters\n",
    "variance = 1\n",
    "bias = 1\n"
   ]
  },
  {
   "cell_type": "markdown",
   "id": "391cdbfd",
   "metadata": {
    "id": "391cdbfd",
    "papermill": {
     "duration": 0.00711,
     "end_time": "2022-07-22T17:42:31.174681",
     "exception": false,
     "start_time": "2022-07-22T17:42:31.167571",
     "status": "completed"
    },
    "tags": []
   },
   "source": [
    "## Dataset \n"
   ]
  },
  {
   "cell_type": "code",
   "execution_count": 5,
   "id": "5b51f161",
   "metadata": {
    "execution": {
     "iopub.execute_input": "2022-07-22T17:42:31.193378Z",
     "iopub.status.busy": "2022-07-22T17:42:31.192887Z",
     "iopub.status.idle": "2022-07-22T17:42:31.197023Z",
     "shell.execute_reply": "2022-07-22T17:42:31.196130Z"
    },
    "id": "5b51f161",
    "papermill": {
     "duration": 0.018539,
     "end_time": "2022-07-22T17:42:31.200210",
     "exception": false,
     "start_time": "2022-07-22T17:42:31.181671",
     "status": "completed"
    },
    "tags": []
   },
   "outputs": [],
   "source": [
    "#Parameters \n",
    "n_features = 13\n",
    "n_samples= 506\n",
    "n_target = 1 "
   ]
  },
  {
   "cell_type": "code",
   "execution_count": 6,
   "id": "5d6eced4",
   "metadata": {
    "execution": {
     "iopub.execute_input": "2022-07-22T17:42:31.224786Z",
     "iopub.status.busy": "2022-07-22T17:42:31.224484Z",
     "iopub.status.idle": "2022-07-22T17:42:31.262352Z",
     "shell.execute_reply": "2022-07-22T17:42:31.261562Z"
    },
    "id": "5d6eced4",
    "papermill": {
     "duration": 0.055581,
     "end_time": "2022-07-22T17:42:31.265114",
     "exception": false,
     "start_time": "2022-07-22T17:42:31.209533",
     "status": "completed"
    },
    "tags": []
   },
   "outputs": [
    {
     "name": "stdout",
     "output_type": "stream",
     "text": [
      "         X1        X2        X3        X4        X5        X6        X7  \\\n",
      "0 -0.419782  0.284830 -1.287909 -0.272599 -0.144217  0.413672 -0.120013   \n",
      "1 -0.417339 -0.487722 -0.593381 -0.272599 -0.740262  0.194274  0.367166   \n",
      "2 -0.417342 -0.487722 -0.593381 -0.272599 -0.740262  1.282714 -0.265812   \n",
      "3 -0.416750 -0.487722 -1.306878 -0.272599 -0.835284  1.016303 -0.809889   \n",
      "4 -0.412482 -0.487722 -1.306878 -0.272599 -0.835284  1.228577 -0.511180   \n",
      "\n",
      "         X8        X9       X10       X11       X12       X13         Y  \n",
      "0  0.140214 -0.982843 -0.666608 -1.459000  0.441052 -1.075562  0.159686  \n",
      "1  0.557160 -0.867883 -0.987329 -0.303094  0.441052 -0.492439 -0.101524  \n",
      "2  0.557160 -0.867883 -0.987329 -0.303094  0.396427 -1.208727  1.324247  \n",
      "3  1.077737 -0.752922 -1.106115  0.113032  0.416163 -1.361517  1.182758  \n",
      "4  1.077737 -0.752922 -1.106115  0.113032  0.441052 -1.026501  1.487503  \n"
     ]
    }
   ],
   "source": [
    "X,Y = bostonDataset.boston_data()"
   ]
  },
  {
   "cell_type": "code",
   "execution_count": 7,
   "id": "fe007438",
   "metadata": {
    "execution": {
     "iopub.execute_input": "2022-07-22T17:42:31.282499Z",
     "iopub.status.busy": "2022-07-22T17:42:31.282185Z",
     "iopub.status.idle": "2022-07-22T17:42:31.291663Z",
     "shell.execute_reply": "2022-07-22T17:42:31.290727Z"
    },
    "id": "fe007438",
    "papermill": {
     "duration": 0.022085,
     "end_time": "2022-07-22T17:42:31.295074",
     "exception": false,
     "start_time": "2022-07-22T17:42:31.272989",
     "status": "completed"
    },
    "tags": []
   },
   "outputs": [],
   "source": [
    "#Train test split for dataset \n",
    "X_train,X_test,Y_train,Y_test = train_test_split(X,Y,test_size = 0.2)\n",
    "train_data = dataset.CustomDataset(X_train,Y_train)\n",
    "test_data = dataset.CustomDataset(X_test,Y_test)\n"
   ]
  },
  {
   "cell_type": "markdown",
   "id": "a9a1af34",
   "metadata": {
    "id": "a9a1af34",
    "papermill": {
     "duration": 0.00805,
     "end_time": "2022-07-22T17:42:31.311131",
     "exception": false,
     "start_time": "2022-07-22T17:42:31.303081",
     "status": "completed"
    },
    "tags": []
   },
   "source": [
    "## Training Parameters "
   ]
  },
  {
   "cell_type": "code",
   "execution_count": 8,
   "id": "952b7fc8",
   "metadata": {
    "execution": {
     "iopub.execute_input": "2022-07-22T17:42:31.332269Z",
     "iopub.status.busy": "2022-07-22T17:42:31.331579Z",
     "iopub.status.idle": "2022-07-22T17:42:31.341815Z",
     "shell.execute_reply": "2022-07-22T17:42:31.340926Z"
    },
    "id": "952b7fc8",
    "papermill": {
     "duration": 0.027057,
     "end_time": "2022-07-22T17:42:31.345848",
     "exception": false,
     "start_time": "2022-07-22T17:42:31.318791",
     "status": "completed"
    },
    "tags": []
   },
   "outputs": [],
   "source": [
    "batch_size = 32\n",
    "n_epochs = 1000\n",
    "#Select the device \n",
    "device = torch.device('cuda' if torch.cuda.is_available() else 'cpu')"
   ]
  },
  {
   "cell_type": "markdown",
   "id": "a95e1600",
   "metadata": {
    "id": "a95e1600",
    "papermill": {
     "duration": 0.008829,
     "end_time": "2022-07-22T17:42:31.362377",
     "exception": false,
     "start_time": "2022-07-22T17:42:31.353548",
     "status": "completed"
    },
    "tags": []
   },
   "source": [
    "# ABC Pre-generator Model \n",
    "\n",
    "1. The catboost model is used as a pre-generator model for the ABC-GAN. \n",
    "2. The model is first trained on the entire dataset \n",
    "3. It generats X,Y pairs and we add some Gaussian noise with mean 0 and variance 1 to it which is then feed as input to the generator.\n"
   ]
  },
  {
   "cell_type": "code",
   "execution_count": null,
   "id": "ff8ce7bd",
   "metadata": {
    "execution": {
     "iopub.execute_input": "2022-07-22T17:42:31.384260Z",
     "iopub.status.busy": "2022-07-22T17:42:31.383964Z",
     "iopub.status.idle": "2022-07-22T17:42:39.622228Z",
     "shell.execute_reply": "2022-07-22T17:42:39.518598Z"
    },
    "id": "ff8ce7bd",
    "papermill": {
     "duration": 8.257267,
     "end_time": "2022-07-22T17:42:39.631803",
     "exception": false,
     "start_time": "2022-07-22T17:42:31.374536",
     "status": "completed"
    },
    "tags": []
   },
   "outputs": [],
   "source": [
    "#Train the Model \n",
    "prior_model = ctb.CatBoostRegressor()\n",
    "prior_model.fit(X_train,Y_train)"
   ]
  },
  {
   "cell_type": "code",
   "execution_count": 10,
   "id": "af65dcda",
   "metadata": {
    "execution": {
     "iopub.execute_input": "2022-07-22T17:42:39.667201Z",
     "iopub.status.busy": "2022-07-22T17:42:39.666259Z",
     "iopub.status.idle": "2022-07-22T17:42:39.726188Z",
     "shell.execute_reply": "2022-07-22T17:42:39.724865Z"
    },
    "id": "af65dcda",
    "papermill": {
     "duration": 0.085596,
     "end_time": "2022-07-22T17:42:39.732330",
     "exception": false,
     "start_time": "2022-07-22T17:42:39.646734",
     "status": "completed"
    },
    "tags": []
   },
   "outputs": [
    {
     "data": {
      "application/scrapbook.scrap.json+json": {
       "data": 0.07595060667832644,
       "encoder": "json",
       "name": "Prior Model MSE",
       "version": 1
      }
     },
     "metadata": {
      "scrapbook": {
       "data": true,
       "display": false,
       "name": "Prior Model MSE"
      }
     },
     "output_type": "display_data"
    },
    {
     "data": {
      "application/scrapbook.scrap.json+json": {
       "data": 2.2241819174329134,
       "encoder": "json",
       "name": "ABC Pre-generator MSE",
       "version": 1
      }
     },
     "metadata": {
      "scrapbook": {
       "data": true,
       "display": false,
       "name": "ABC Pre-generator MSE"
      }
     },
     "output_type": "display_data"
    },
    {
     "data": {
      "application/scrapbook.scrap.json+json": {
       "data": 0.2085174206107444,
       "encoder": "json",
       "name": "Prior Model MAE",
       "version": 1
      }
     },
     "metadata": {
      "scrapbook": {
       "data": true,
       "display": false,
       "name": "Prior Model MAE"
      }
     },
     "output_type": "display_data"
    },
    {
     "name": "stdout",
     "output_type": "stream",
     "text": [
      "Prior Model MAE 0.2085174206107444\n",
      "ABC Pre-generator MAE 1.2421214091078117\n"
     ]
    }
   ],
   "source": [
    "y_pred = prior_model.predict(X_test)\n",
    "y_abc = y_pred + np.random.normal(0,variance, y_pred.shape) + bias \n",
    "mse = mean_squared_error(y_pred,Y_test)\n",
    "sb.glue(\"Prior Model MSE\",mse)\n",
    "mse = mean_squared_error(y_abc,Y_test)\n",
    "sb.glue(\"ABC Pre-generator MSE\",mse)\n",
    "mae = mean_absolute_error(y_pred,Y_test)\n",
    "sb.glue(\"Prior Model MAE\",mae)\n",
    "print(\"Prior Model MAE\",mae)\n",
    "mae = mean_absolute_error(y_abc,Y_test)\n",
    "print(\"ABC Pre-generator MAE\",mae)"
   ]
  },
  {
   "cell_type": "markdown",
   "id": "25609da2",
   "metadata": {
    "papermill": {
     "duration": 0.099227,
     "end_time": "2022-07-22T17:42:39.849505",
     "exception": false,
     "start_time": "2022-07-22T17:42:39.750278",
     "status": "completed"
    },
    "tags": []
   },
   "source": [
    "# mGAN Model"
   ]
  },
  {
   "cell_type": "code",
   "execution_count": 11,
   "id": "dfc3464d",
   "metadata": {
    "execution": {
     "iopub.execute_input": "2022-07-22T17:42:40.030831Z",
     "iopub.status.busy": "2022-07-22T17:42:40.030076Z",
     "iopub.status.idle": "2022-07-22T17:42:40.036142Z",
     "shell.execute_reply": "2022-07-22T17:42:40.034953Z"
    },
    "papermill": {
     "duration": 0.067692,
     "end_time": "2022-07-22T17:42:40.049092",
     "exception": false,
     "start_time": "2022-07-22T17:42:39.981400",
     "status": "completed"
    },
    "tags": []
   },
   "outputs": [],
   "source": [
    "# gen = network.Generator(n_features+1).to(device)\n",
    "# disc = network.Discriminator(n_features+1).to(device)\n",
    "\n",
    "# criterion = torch.nn.BCELoss()\n",
    "# gen_opt = torch.optim.Adam(gen.parameters(), lr=0.01, betas=(0.5, 0.999))\n",
    "# disc_opt = torch.optim.Adam(disc.parameters(), lr=0.01, betas=(0.5, 0.999))"
   ]
  },
  {
   "cell_type": "code",
   "execution_count": 12,
   "id": "b75fdd85",
   "metadata": {
    "execution": {
     "iopub.execute_input": "2022-07-22T17:42:40.304686Z",
     "iopub.status.busy": "2022-07-22T17:42:40.303236Z",
     "iopub.status.idle": "2022-07-22T17:42:40.310617Z",
     "shell.execute_reply": "2022-07-22T17:42:40.308401Z"
    },
    "papermill": {
     "duration": 0.129935,
     "end_time": "2022-07-22T17:42:40.339123",
     "exception": false,
     "start_time": "2022-07-22T17:42:40.209188",
     "status": "completed"
    },
    "tags": []
   },
   "outputs": [],
   "source": [
    "#Training the ABC_GAN \n",
    "# ABC_train_test2.training_GAN(disc,gen,disc_opt,gen_opt,train_data,batch_size,n_epochs,criterion,prior_model,variance,bias,device)"
   ]
  },
  {
   "cell_type": "code",
   "execution_count": 13,
   "id": "1fa7c368",
   "metadata": {
    "execution": {
     "iopub.execute_input": "2022-07-22T17:42:40.428239Z",
     "iopub.status.busy": "2022-07-22T17:42:40.427828Z",
     "iopub.status.idle": "2022-07-22T17:42:40.432457Z",
     "shell.execute_reply": "2022-07-22T17:42:40.431537Z"
    },
    "papermill": {
     "duration": 0.046354,
     "end_time": "2022-07-22T17:42:40.445547",
     "exception": false,
     "start_time": "2022-07-22T17:42:40.399193",
     "status": "completed"
    },
    "tags": []
   },
   "outputs": [],
   "source": [
    "# ABC_GAN1_metrics=ABC_train_test2.test_generator(gen,test_data,prior_model,variance,bias,\"1\",device)\n",
    "# sb.glue(\"ABC_GAN_1 Metrics\",ABC_GAN1_metrics)\n",
    "\n",
    "# print(\"MAE\")\n",
    "# print(mean(ABC_GAN1_metrics[1]))"
   ]
  },
  {
   "cell_type": "code",
   "execution_count": 14,
   "id": "eb22ce5c",
   "metadata": {
    "execution": {
     "iopub.execute_input": "2022-07-22T17:42:40.489084Z",
     "iopub.status.busy": "2022-07-22T17:42:40.488574Z",
     "iopub.status.idle": "2022-07-22T17:42:40.493358Z",
     "shell.execute_reply": "2022-07-22T17:42:40.492172Z"
    },
    "papermill": {
     "duration": 0.042047,
     "end_time": "2022-07-22T17:42:40.508515",
     "exception": false,
     "start_time": "2022-07-22T17:42:40.466468",
     "status": "completed"
    },
    "tags": []
   },
   "outputs": [],
   "source": [
    "# sanityChecks.discProbVsError(train_data,disc,device)\n",
    "# sanityChecks.discProbVsError(test_data,disc,device)"
   ]
  },
  {
   "cell_type": "markdown",
   "id": "555ac99a",
   "metadata": {
    "papermill": {
     "duration": 0.056972,
     "end_time": "2022-07-22T17:42:40.681472",
     "exception": false,
     "start_time": "2022-07-22T17:42:40.624500",
     "status": "completed"
    },
    "tags": []
   },
   "source": [
    "# mGAN Model with TabNet Generator"
   ]
  },
  {
   "cell_type": "code",
   "execution_count": 15,
   "id": "31834648",
   "metadata": {
    "execution": {
     "iopub.execute_input": "2022-07-22T17:42:40.797686Z",
     "iopub.status.busy": "2022-07-22T17:42:40.796520Z",
     "iopub.status.idle": "2022-07-22T17:42:40.915789Z",
     "shell.execute_reply": "2022-07-22T17:42:40.913804Z"
    },
    "papermill": {
     "duration": 0.197784,
     "end_time": "2022-07-22T17:42:40.943882",
     "exception": false,
     "start_time": "2022-07-22T17:42:40.746098",
     "status": "completed"
    },
    "tags": []
   },
   "outputs": [],
   "source": [
    "gen2 = network.GeneratorTabnet(n_features+1).to(device)\n",
    "disc2 = network.Discriminator(n_features+1).to(device)\n",
    "\n",
    "criterion = torch.nn.BCELoss()\n",
    "gen_opt = torch.optim.Adam(gen2.parameters(), lr=0.01, betas=(0.5, 0.999))\n",
    "disc_opt = torch.optim.Adam(disc2.parameters(), lr=0.01, betas=(0.5, 0.999))"
   ]
  },
  {
   "cell_type": "code",
   "execution_count": 16,
   "id": "9f4fb2b2",
   "metadata": {
    "execution": {
     "iopub.execute_input": "2022-07-22T17:42:41.047294Z",
     "iopub.status.busy": "2022-07-22T17:42:41.046526Z",
     "iopub.status.idle": "2022-07-22T17:55:38.621517Z",
     "shell.execute_reply": "2022-07-22T17:55:38.617355Z"
    },
    "papermill": {
     "duration": 777.653982,
     "end_time": "2022-07-22T17:55:38.628231",
     "exception": false,
     "start_time": "2022-07-22T17:42:40.974249",
     "status": "completed"
    },
    "tags": []
   },
   "outputs": [
    {
     "data": {
      "image/png": "[encoded data removed]",
      "text/plain": [
       "<Figure size 432x288 with 1 Axes>"
      ]
     },
     "metadata": {
      "needs_background": "light"
     },
     "output_type": "display_data"
    },
    {
     "data": {
      "image/png": "[encoded data removed]",
      "text/plain": [
       "<Figure size 432x288 with 1 Axes>"
      ]
     },
     "metadata": {
      "needs_background": "light"
     },
     "output_type": "display_data"
    }
   ],
   "source": [
    "#Training the ABC_GAN \n",
    "ABC_train_test2.training_GAN(disc2,gen2,disc_opt,gen_opt,train_data,batch_size,n_epochs,criterion,prior_model,variance,bias,device)"
   ]
  },
  {
   "cell_type": "code",
   "execution_count": 17,
   "id": "86aa8fbb",
   "metadata": {
    "execution": {
     "iopub.execute_input": "2022-07-22T17:55:38.693743Z",
     "iopub.status.busy": "2022-07-22T17:55:38.693020Z",
     "iopub.status.idle": "2022-07-22T17:55:40.640043Z",
     "shell.execute_reply": "2022-07-22T17:55:40.638865Z"
    },
    "papermill": {
     "duration": 1.982916,
     "end_time": "2022-07-22T17:55:40.642591",
     "exception": false,
     "start_time": "2022-07-22T17:55:38.659675",
     "status": "completed"
    },
    "tags": []
   },
   "outputs": [
    {
     "data": {
      "application/scrapbook.scrap.json+json": {
       "data": 0.2261006331556824,
       "encoder": "json",
       "name": "ABC-GAN Model 1 MSE",
       "version": 1
      }
     },
     "metadata": {
      "scrapbook": {
       "data": true,
       "display": false,
       "name": "ABC-GAN Model 1 MSE"
      }
     },
     "output_type": "display_data"
    },
    {
     "data": {
      "application/scrapbook.scrap.json+json": {
       "data": 0.28403860342907994,
       "encoder": "json",
       "name": "ABC-GAN Model 1 MAE",
       "version": 1
      }
     },
     "metadata": {
      "scrapbook": {
       "data": true,
       "display": false,
       "name": "ABC-GAN Model 1 MAE"
      }
     },
     "output_type": "display_data"
    },
    {
     "data": {
      "application/scrapbook.scrap.json+json": {
       "data": 28.971937549766153,
       "encoder": "json",
       "name": "ABC-GAN Model 1 Manhattan Distance",
       "version": 1
      }
     },
     "metadata": {
      "scrapbook": {
       "data": true,
       "display": false,
       "name": "ABC-GAN Model 1 Manhattan Distance"
      }
     },
     "output_type": "display_data"
    },
    {
     "data": {
      "application/scrapbook.scrap.json+json": {
       "data": 4.800624275522259,
       "encoder": "json",
       "name": "ABC-GAN Model 1 Euclidean distance",
       "version": 1
      }
     },
     "metadata": {
      "scrapbook": {
       "data": true,
       "display": false,
       "name": "ABC-GAN Model 1 Euclidean distance"
      }
     },
     "output_type": "display_data"
    },
    {
     "data": {
      "application/scrapbook.scrap.json+json": {
       "data": [
        [
         0.23665944368735162,
         0.23174247858966318,
         0.23669224279319706,
         0.22672962234386324,
         0.21504938524614217,
         0.21858951304200325,
         0.2393879594289732,
         0.20411715747883577,
         0.2298400935110968,
         0.24003459530423182,
         0.22769540205415612,
         0.23927102309015916,
         0.20737621155263444,
         0.24093856505805986,
         0.21530262306797315,
         0.2173737647474253,
         0.2162401975061896,
         0.24129044481199952,
         0.21772702017405987,
         0.23811873692614824,
         0.2393547705363498,
         0.2369350939810306,
         0.239040209640194,
         0.22551480543043972,
         0.21254843529648862,
         0.23147298936557684,
         0.24131686692820178,
         0.226405132841906,
         0.2117514338761671,
         0.21668590829536197,
         0.24193179212207927,
         0.22795807826541212,
         0.21237388391082287,
         0.21600207496608637,
         0.20408481698865039,
         0.21663292611855103,
         0.22538340594246595,
         0.2392262957704198,
         0.24463512269384552,
         0.2368791544930618,
         0.20679868599235843,
         0.22294035958953962,
         0.23950797186619255,
         0.2095198759646508,
         0.23418369083008106,
         0.20785360721646748,
         0.2153811295854344,
         0.23652270579622348,
         0.2293642177276863,
         0.23691239921056448,
         0.21301666889433668,
         0.22550001194315036,
         0.21482399317392945,
         0.22953710181364392,
         0.2299081652658567,
         0.23296957798918314,
         0.24418812125206785,
         0.2249723861461915,
         0.21417146374770432,
         0.20411150077083995,
         0.23242203418977408,
         0.23895061617192645,
         0.2357725994712981,
         0.2187322076064008,
         0.21154702600381345,
         0.2376297834333768,
         0.2198309267535412,
         0.2450370944931566,
         0.21591584249732015,
         0.2145373271567484,
         0.21722230581620403,
         0.23838497902280065,
         0.19747562741520922,
         0.21511461940655308,
         0.21808403512953212,
         0.21714045291369324,
         0.23432012883925496,
         0.22034050159128785,
         0.2225479139726922,
         0.2430993494603373,
         0.2186539973591426,
         0.24224534965068178,
         0.23962174622452387,
         0.24520614040780178,
         0.21986294785561483,
         0.23682894360808354,
         0.20683125888165713,
         0.233989146902136,
         0.22262476575727014,
         0.22008237397266087,
         0.21597268326652455,
         0.21673404608858562,
         0.23406298162653144,
         0.2429034824448487,
         0.2156801431984644,
         0.2447794611499222,
         0.2157758873994672,
         0.22391742444116608,
         0.22962326933344784,
         0.2320685820014132
        ],
        [
         0.2833463437763937,
         0.2889764563399641,
         0.28773579208691624,
         0.2915118396848294,
         0.2831628978818509,
         0.2826709846929446,
         0.2824398874414756,
         0.2752570700466487,
         0.27769309285042043,
         0.2854127684772453,
         0.2867672263608113,
         0.2931375734635866,
         0.28897901079343524,
         0.2887732162249877,
         0.28222496620397647,
         0.28264035228822454,
         0.2839978271821404,
         0.28634397991403354,
         0.2804223724421771,
         0.29156324649960097,
         0.2871138173630278,
         0.2839454531066996,
         0.2846839134581387,
         0.2877466532438263,
         0.2834451466561386,
         0.28051428660275596,
         0.2914295141292992,
         0.27786706423606067,
         0.2815390346736154,
         0.27076327573398457,
         0.28765243228853626,
         0.2801424444507004,
         0.27988352826522556,
         0.28192106735728245,
         0.2774165509286903,
         0.2832846890897581,
         0.2778941493609226,
         0.285909992870966,
         0.2850917228497565,
         0.2870217846505636,
         0.2825694554120156,
         0.27690267971004634,
         0.29811819356994007,
         0.2824002846838066,
         0.28415769735789476,
         0.28467883972231955,
         0.28121117950764063,
         0.2820382896427284,
         0.28340049342745366,
         0.2888296234019685,
         0.2825540385537726,
         0.279187017567821,
         0.2863142488469534,
         0.2859780281763889,
         0.28513317335141347,
         0.2829605459199086,
         0.29167693030710024,
         0.28732471495830253,
         0.2807135690350597,
         0.27800429184172376,
         0.28681495693494,
         0.2922937628155684,
         0.28418784974800315,
         0.2860110753361939,
         0.27428696131991115,
         0.2857168580807161,
         0.2795420474117147,
         0.2877119478185241,
         0.28143199194478347,
         0.28278440499093893,
         0.2881924151625557,
         0.29301104200638683,
         0.2706566320677452,
         0.275612754263349,
         0.2808553262285012,
         0.2768988589865758,
         0.28182366909459233,
         0.2751401283266936,
         0.2808544323414418,
         0.28552479000177744,
         0.28759794538913697,
         0.29054541209274354,
         0.2858632053796421,
         0.2867622097461101,
         0.2813080365440863,
         0.28906786656372396,
         0.2814532565774725,
         0.2861177985118154,
         0.2879583713890729,
         0.28701851311523247,
         0.28270171976228264,
         0.28385438031389143,
         0.2877286508515039,
         0.2890414366516851,
         0.2850021917427726,
         0.2855297205330548,
         0.28473697923233404,
         0.2829626655370435,
         0.28499216859356735,
         0.28178918853803886
        ],
        [
         28.901327065192163,
         29.475598546676338,
         29.349050792865455,
         29.7342076478526,
         28.88261558394879,
         28.83244043868035,
         28.80886851903051,
         28.076221144758165,
         28.32469547074288,
         29.11210238467902,
         29.250257088802755,
         29.900032493285835,
         29.475859100930393,
         29.454868054948747,
         28.786946552805603,
         28.829315933398902,
         28.967778372578323,
         29.20708595123142,
         28.603081989102066,
         29.739451142959297,
         29.28560937102884,
         28.96243621688336,
         29.037759172730148,
         29.350158630870283,
         28.91140495892614,
         28.61245723348111,
         29.725810441188514,
         28.342440552078187,
         28.716981536708772,
         27.617854124866426,
         29.340548093430698,
         28.57452933397144,
         28.548119883053005,
         28.755948870442808,
         28.296488194726408,
         28.89503828715533,
         28.345203234814107,
         29.162819272838533,
         29.07935573067516,
         29.276222034357488,
         28.822084452025592,
         28.244073330424726,
         30.40805574413389,
         28.804829037748277,
         28.984085130505264,
         29.037241651676595,
         28.683540309779346,
         28.7679055435583,
         28.906850329600275,
         29.460621587000787,
         28.820511932484806,
         28.47707579191774,
         29.204053382389247,
         29.16975887399167,
         29.083583681844175,
         28.86197568383068,
         29.751046891324222,
         29.307120925746858,
         28.632784041576087,
         28.356437767855823,
         29.25512560736388,
         29.813963807187974,
         28.98716067429632,
         29.17312968429178,
         27.977270054630935,
         29.143119524233043,
         28.5132888359949,
         29.34661867748946,
         28.706063178367913,
         28.844009309075773,
         29.395626346580684,
         29.88712628465146,
         27.606976470910013,
         28.1125009348616,
         28.64724327530712,
         28.243683616630733,
         28.746014247648418,
         28.064293089322746,
         28.647152098827064,
         29.1235285801813,
         29.33499042969197,
         29.635632033459842,
         29.158046948723495,
         29.24974539410323,
         28.693419727496803,
         29.484922389499843,
         28.708232170902193,
         29.184015448205173,
         29.371753881685436,
         29.275888337753713,
         28.835575415752828,
         28.953146792016923,
         29.348322386853397,
         29.482226538471878,
         29.0702235577628,
         29.124031494371593,
         29.043171881698072,
         28.86219188477844,
         29.069201196543872,
         28.742497230879962
        ],
        [
         4.913172422794652,
         4.861865158161591,
         4.913512874197655,
         4.808993811502989,
         4.683485592494814,
         4.721877839407149,
         4.941413953693342,
         4.562888346523642,
         4.841868393309743,
         4.948083338125142,
         4.819225146174841,
         4.940206914208779,
         4.599170966420874,
         4.957391817873801,
         4.686242370272078,
         4.708728491242341,
         4.69643483353398,
         4.961010519120469,
         4.712553029702065,
         4.928296984402128,
         4.941071401498634,
         4.916032911409882,
         4.937823547201722,
         4.7960932178080995,
         4.656172290652681,
         4.859037447405488,
         4.961282135363456,
         4.805551326317763,
         4.647434373433264,
         4.701272449680716,
         4.967599299103349,
         4.8220041458995055,
         4.654260001214364,
         4.693848276898264,
         4.562526858314627,
         4.7006976571666685,
         4.794695757410633,
         4.939745152189819,
         4.995276019878405,
         4.9154525486767024,
         4.592762346477397,
         4.768638870593268,
         4.942652438757113,
         4.622880849469774,
         4.887405903408092,
         4.6044617422756025,
         4.687096672537734,
         4.911752843050511,
         4.836853337473031,
         4.91579746526213,
         4.661298126833591,
         4.795935906390048,
         4.681030581372097,
         4.838675891707532,
         4.842585348459785,
         4.874720192472249,
         4.99071020674522,
         4.790321845858745,
         4.6739158424458,
         4.562825120320268,
         4.868988343317014,
         4.936898099974973,
         4.903958110146578,
         4.723418801657639,
         4.645190701401716,
         4.923234496771856,
         4.735267102166593,
         4.9993783251822395,
         4.692911243005417,
         4.6779063019676155,
         4.707087761371441,
         4.9310513950196935,
         4.488041220438081,
         4.684195894651333,
         4.7164151198990405,
         4.706200824146448,
         4.888829424474125,
         4.7407521726316135,
         4.764439864791517,
         4.979571632676288,
         4.722574269467081,
         4.970817404046295,
         4.943826262612941,
         5.001102510606614,
         4.735611964812225,
         4.914931560868831,
         4.593124035548031,
         4.885375418943551,
         4.765262438443611,
         4.737974477053608,
         4.693528916837042,
         4.701794625569659,
         4.886146142503947,
         4.977565188862378,
         4.690349092151177,
         4.996749447119803,
         4.691390040781693,
         4.779077033591207,
         4.839584018488746,
         4.865284715630128
        ]
       ],
       "encoder": "json",
       "name": "ABC_GAN_2 Metrics",
       "version": 1
      }
     },
     "metadata": {
      "scrapbook": {
       "data": true,
       "display": false,
       "name": "ABC_GAN_2 Metrics"
      }
     },
     "output_type": "display_data"
    },
    {
     "name": "stdout",
     "output_type": "stream",
     "text": [
      "MAE\n",
      "0.28403860342907994\n"
     ]
    }
   ],
   "source": [
    "ABC_GAN2_metrics=ABC_train_test2.test_generator(gen2,test_data,prior_model,variance,bias,\"1\",device)\n",
    "sb.glue(\"ABC_GAN_2 Metrics\",ABC_GAN2_metrics)\n",
    "\n",
    "print(\"MAE\")\n",
    "print(mean(ABC_GAN2_metrics[1]))"
   ]
  },
  {
   "cell_type": "code",
   "execution_count": 18,
   "id": "fc2d13e0",
   "metadata": {
    "execution": {
     "iopub.execute_input": "2022-07-22T17:55:40.686388Z",
     "iopub.status.busy": "2022-07-22T17:55:40.685648Z",
     "iopub.status.idle": "2022-07-22T17:55:41.767380Z",
     "shell.execute_reply": "2022-07-22T17:55:41.766523Z"
    },
    "papermill": {
     "duration": 1.112114,
     "end_time": "2022-07-22T17:55:41.769980",
     "exception": false,
     "start_time": "2022-07-22T17:55:40.657866",
     "status": "completed"
    },
    "tags": []
   },
   "outputs": [
    {
     "data": {
      "image/png": "[encoded data removed]",
      "text/plain": [
       "<Figure size 432x288 with 1 Axes>"
      ]
     },
     "metadata": {
      "needs_background": "light"
     },
     "output_type": "display_data"
    },
    {
     "data": {
      "image/png": "[encoded data removed]",
      "text/plain": [
       "<Figure size 432x288 with 1 Axes>"
      ]
     },
     "metadata": {
      "needs_background": "light"
     },
     "output_type": "display_data"
    },
    {
     "data": {
      "image/png": "[encoded data removed]",
      "text/plain": [
       "<Figure size 432x288 with 1 Axes>"
      ]
     },
     "metadata": {
      "needs_background": "light"
     },
     "output_type": "display_data"
    },
    {
     "data": {
      "image/png": "[encoded data removed]",
      "text/plain": [
       "<Figure size 432x288 with 1 Axes>"
      ]
     },
     "metadata": {
      "needs_background": "light"
     },
     "output_type": "display_data"
    }
   ],
   "source": [
    "sanityChecks.discProbVsError(train_data,disc2,device)\n",
    "sanityChecks.discProbVsError(test_data,disc2,device)"
   ]
  },
  {
   "cell_type": "markdown",
   "id": "130f3a4d",
   "metadata": {
    "id": "130f3a4d",
    "papermill": {
     "duration": 0.020453,
     "end_time": "2022-07-22T17:55:41.814564",
     "exception": false,
     "start_time": "2022-07-22T17:55:41.794111",
     "status": "completed"
    },
    "tags": []
   },
   "source": [
    "# skipGAN Model"
   ]
  },
  {
   "cell_type": "code",
   "execution_count": 19,
   "id": "4e43dad1",
   "metadata": {
    "execution": {
     "iopub.execute_input": "2022-07-22T17:55:41.863630Z",
     "iopub.status.busy": "2022-07-22T17:55:41.863127Z",
     "iopub.status.idle": "2022-07-22T17:55:41.869657Z",
     "shell.execute_reply": "2022-07-22T17:55:41.868603Z"
    },
    "id": "4e43dad1",
    "papermill": {
     "duration": 0.037717,
     "end_time": "2022-07-22T17:55:41.872813",
     "exception": false,
     "start_time": "2022-07-22T17:55:41.835096",
     "status": "completed"
    },
    "tags": []
   },
   "outputs": [],
   "source": [
    "# #Generator\n",
    "# gen3 = network.GeneratorWithSkipConnection(n_features+1).to(device)\n",
    "# constraints=network.weightConstraint()\n",
    "# #Discriminator \n",
    "# disc3 = network.Discriminator(n_features+1).to(device)\n",
    "\n",
    "# criterion = torch.nn.BCELoss()\n",
    "# gen_opt = torch.optim.Adam(gen3.parameters(), lr=0.01, betas=(0.5, 0.999))\n",
    "# disc_opt = torch.optim.Adam(disc3.parameters(), lr=0.01, betas=(0.5, 0.999))\n"
   ]
  },
  {
   "cell_type": "markdown",
   "id": "250c2c2b",
   "metadata": {
    "tags": [
     "papermill-error-cell-tag"
    ]
   },
   "source": [
    "<span id=\"papermill-error-cell\" style=\"color:red; font-family:Helvetica Neue, Helvetica, Arial, sans-serif; font-size:2em;\">Execution using papermill encountered an exception here and stopped:</span>"
   ]
  },
  {
   "cell_type": "code",
   "execution_count": 20,
   "id": "26acbc37",
   "metadata": {
    "execution": {
     "iopub.execute_input": "2022-07-22T17:55:41.911943Z",
     "iopub.status.busy": "2022-07-22T17:55:41.911455Z",
     "iopub.status.idle": "2022-07-22T17:55:43.285631Z",
     "shell.execute_reply": "2022-07-22T17:55:43.282968Z"
    },
    "id": "26acbc37",
    "papermill": {
     "duration": 1.40082,
     "end_time": "2022-07-22T17:55:43.290539",
     "exception": true,
     "start_time": "2022-07-22T17:55:41.889719",
     "status": "failed"
    },
    "tags": []
   },
   "outputs": [
    {
     "ename": "NameError",
     "evalue": "name 'disc3' is not defined",
     "output_type": "error",
     "traceback": [
      "\u001b[0;31m---------------------------------------------------------------------------\u001b[0m",
      "\u001b[0;31mNameError\u001b[0m                                 Traceback (most recent call last)",
      "Input \u001b[0;32mIn [20]\u001b[0m, in \u001b[0;36m<cell line: 1>\u001b[0;34m()\u001b[0m\n\u001b[0;32m----> 1\u001b[0m ABC_train_test2\u001b[38;5;241m.\u001b[39mtraining_GAN_skip_connection(\u001b[43mdisc3\u001b[49m,gen3,disc_opt,gen_opt,train_data,batch_size,n_epochs,criterion,prior_model,variance,bias,device)\n",
      "\u001b[0;31mNameError\u001b[0m: name 'disc3' is not defined"
     ]
    }
   ],
   "source": [
    "ABC_train_test2.training_GAN_skip_connection(disc3,gen3,disc_opt,gen_opt,train_data,batch_size,n_epochs,criterion,prior_model,variance,bias,device)"
   ]
  },
  {
   "cell_type": "code",
   "execution_count": null,
   "id": "c5e0717b",
   "metadata": {
    "id": "c5e0717b",
    "papermill": {
     "duration": null,
     "end_time": null,
     "exception": null,
     "start_time": null,
     "status": "pending"
    },
    "tags": []
   },
   "outputs": [],
   "source": [
    "# ABC_GAN3_metrics=ABC_train_test2.test_generator(gen3,test_data,prior_model,variance,bias,\"3\",device)\n",
    "# sb.glue(\"ABC_GAN_3 Metrics\",ABC_GAN3_metrics)\n",
    "\n",
    "# print(\"MAE\")\n",
    "# print(mean(ABC_GAN3_metrics[1]))"
   ]
  },
  {
   "cell_type": "code",
   "execution_count": null,
   "id": "c8e46b48",
   "metadata": {
    "id": "c8e46b48",
    "papermill": {
     "duration": null,
     "end_time": null,
     "exception": null,
     "start_time": null,
     "status": "pending"
    },
    "tags": []
   },
   "outputs": [],
   "source": [
    "# sanityChecks.discProbVsError(train_data,disc3,device)\n",
    "# sanityChecks.discProbVsError(test_data,disc3,device)"
   ]
  },
  {
   "cell_type": "markdown",
   "id": "477ed683",
   "metadata": {
    "id": "130f3a4d",
    "papermill": {
     "duration": null,
     "end_time": null,
     "exception": null,
     "start_time": null,
     "status": "pending"
    },
    "tags": []
   },
   "source": [
    "# skipGAN Model with TabNet Generator"
   ]
  },
  {
   "cell_type": "code",
   "execution_count": null,
   "id": "0484496b",
   "metadata": {
    "id": "4e43dad1",
    "papermill": {
     "duration": null,
     "end_time": null,
     "exception": null,
     "start_time": null,
     "status": "pending"
    },
    "tags": []
   },
   "outputs": [],
   "source": [
    "# #Generator\n",
    "# gen4 = network.GeneratorTabnetskipConnection(n_features+1).to(device)\n",
    "# constraints=network.weightConstraint()\n",
    "# #Discriminator \n",
    "# disc4 = network.Discriminator(n_features+1).to(device)\n",
    "\n",
    "# criterion = torch.nn.BCELoss()\n",
    "# gen_opt = torch.optim.Adam(gen4.parameters(), lr=0.01, betas=(0.5, 0.999))\n",
    "# disc_opt = torch.optim.Adam(disc4.parameters(), lr=0.01, betas=(0.5, 0.999))\n"
   ]
  },
  {
   "cell_type": "code",
   "execution_count": null,
   "id": "d2d4a3b6",
   "metadata": {
    "id": "26acbc37",
    "papermill": {
     "duration": null,
     "end_time": null,
     "exception": null,
     "start_time": null,
     "status": "pending"
    },
    "tags": []
   },
   "outputs": [],
   "source": [
    "# ABC_train_test2.training_GAN_skip_connection(disc4,gen4,disc_opt,gen_opt,train_data,batch_size,n_epochs,criterion,prior_model,variance,bias,device)"
   ]
  },
  {
   "cell_type": "code",
   "execution_count": null,
   "id": "596ea53f",
   "metadata": {
    "id": "c5e0717b",
    "papermill": {
     "duration": null,
     "end_time": null,
     "exception": null,
     "start_time": null,
     "status": "pending"
    },
    "tags": []
   },
   "outputs": [],
   "source": [
    "# ABC_GAN4_metrics=ABC_train_test2.test_generator(gen4,test_data,prior_model,variance,bias,\"3\",device)\n",
    "# sb.glue(\"ABC_GAN_4 Metrics\",ABC_GAN4_metrics)\n",
    "\n",
    "# print(\"MAE\")\n",
    "# print(mean(ABC_GAN4_metrics[1]))"
   ]
  },
  {
   "cell_type": "code",
   "execution_count": null,
   "id": "1d615f57",
   "metadata": {
    "id": "c8e46b48",
    "papermill": {
     "duration": null,
     "end_time": null,
     "exception": null,
     "start_time": null,
     "status": "pending"
    },
    "tags": []
   },
   "outputs": [],
   "source": [
    "# sanityChecks.discProbVsError(train_data,disc4,device)\n",
    "# sanityChecks.discProbVsError(test_data,disc4,device)"
   ]
  },
  {
   "cell_type": "markdown",
   "id": "a5bd74c3",
   "metadata": {
    "id": "a5bd74c3",
    "papermill": {
     "duration": null,
     "end_time": null,
     "exception": null,
     "start_time": null,
     "status": "pending"
    },
    "tags": []
   },
   "source": [
    "## Skip Connection Model Analysis - ABC-GAN "
   ]
  },
  {
   "cell_type": "markdown",
   "id": "5744a8bf",
   "metadata": {
    "id": "5744a8bf",
    "papermill": {
     "duration": null,
     "end_time": null,
     "exception": null,
     "start_time": null,
     "status": "pending"
    },
    "tags": []
   },
   "source": [
    "### Weight Analysis \n",
    "\n",
    "Study the weights of the skip connection layer\n",
    "\n",
    "Equation of the skip connection is \n",
    "\n",
    "$output = y_{gan} * w + y_{abc} * (1-w)$"
   ]
  },
  {
   "cell_type": "code",
   "execution_count": null,
   "id": "52c31dea",
   "metadata": {
    "id": "52c31dea",
    "papermill": {
     "duration": null,
     "end_time": null,
     "exception": null,
     "start_time": null,
     "status": "pending"
    },
    "tags": []
   },
   "outputs": [],
   "source": [
    "# print(\"Weight of the node at skip connection\")\n",
    "# for name,param in gen3.named_parameters():\n",
    "#     if(name == \"skipNode.weight\"):\n",
    "#         print(param)\n",
    "#         sb.glue(\"Skip Connection Weight\",param.item())"
   ]
  },
  {
   "cell_type": "markdown",
   "id": "7153e3db",
   "metadata": {
    "id": "a5bd74c3",
    "papermill": {
     "duration": null,
     "end_time": null,
     "exception": null,
     "start_time": null,
     "status": "pending"
    },
    "tags": []
   },
   "source": [
    "## skipGAN Model Analysis (TabNet Generator) "
   ]
  },
  {
   "cell_type": "markdown",
   "id": "d469eb9a",
   "metadata": {
    "id": "5744a8bf",
    "papermill": {
     "duration": null,
     "end_time": null,
     "exception": null,
     "start_time": null,
     "status": "pending"
    },
    "tags": []
   },
   "source": [
    "### Weight Analysis \n",
    "\n",
    "Study the weights of the skip connection layer\n",
    "\n",
    "Equation of the skip connection is \n",
    "\n",
    "$output = y_{gan} * w + y_{abc} * (1-w)$"
   ]
  },
  {
   "cell_type": "code",
   "execution_count": null,
   "id": "76ac163f",
   "metadata": {
    "id": "52c31dea",
    "papermill": {
     "duration": null,
     "end_time": null,
     "exception": null,
     "start_time": null,
     "status": "pending"
    },
    "tags": []
   },
   "outputs": [],
   "source": [
    "# print(\"Weight of the node at skip connection\")\n",
    "# for name,param in gen4.named_parameters():\n",
    "#     if(name == \"skipNode.weight\"):\n",
    "#         print(param)\n",
    "#         sb.glue(\"Skip Connection Weight\",param.item())"
   ]
  }
 ],
 "metadata": {
  "colab": {
   "collapsed_sections": [],
   "name": "ABC_GAN_Model-Catboost_Pre-gen.ipynb",
   "provenance": []
  },
  "interpreter": {
   "hash": "31f2aee4e71d21fbe5cf8b01ff0e069b9275f58929596ceb00d14d90e3e16cd6"
  },
  "kernelspec": {
   "display_name": "Python 3 (ipykernel)",
   "language": "python",
   "name": "python3"
  },
  "language_info": {
   "codemirror_mode": {
    "name": "ipython",
    "version": 3
   },
   "file_extension": ".py",
   "mimetype": "text/x-python",
   "name": "python",
   "nbconvert_exporter": "python",
   "pygments_lexer": "ipython3",
   "version": "3.8.9"
  },
  "papermill": {
   "default_parameters": {},
   "duration": 809.185025,
   "end_time": "2022-07-22T17:55:44.813722",
   "environment_variables": {},
   "exception": true,
   "input_path": "ABC_GAN-Catboost.ipynb",
   "output_path": "./ABC_GAN_Catboost/ABC-GAN_output_1_0.ipynb",
   "parameters": {
    "bias": 1,
    "variance": 1
   },
   "start_time": "2022-07-22T17:42:15.628697",
   "version": "2.3.3"
  }
 },
 "nbformat": 4,
 "nbformat_minor": 5
}
