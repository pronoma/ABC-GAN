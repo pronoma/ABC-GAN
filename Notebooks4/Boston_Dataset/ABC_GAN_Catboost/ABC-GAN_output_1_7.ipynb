{
 "cells": [
  {
   "cell_type": "markdown",
   "id": "5eea14b5",
   "metadata": {
    "tags": [
     "papermill-error-cell-tag"
    ]
   },
   "source": [
    "<span style=\"color:red; font-family:Helvetica Neue, Helvetica, Arial, sans-serif; font-size:2em;\">An Exception was encountered at '<a href=\"#papermill-error-cell\">In [20]</a>'.</span>"
   ]
  },
  {
   "cell_type": "markdown",
   "id": "622780e6",
   "metadata": {
    "id": "622780e6",
    "papermill": {
     "duration": 0.009762,
     "end_time": "2022-07-22T19:04:12.235258",
     "exception": false,
     "start_time": "2022-07-22T19:04:12.225496",
     "status": "completed"
    },
    "tags": []
   },
   "source": [
    "## Import Libraries "
   ]
  },
  {
   "cell_type": "code",
   "execution_count": 1,
   "id": "a62397e3",
   "metadata": {
    "execution": {
     "iopub.execute_input": "2022-07-22T19:04:12.261463Z",
     "iopub.status.busy": "2022-07-22T19:04:12.260488Z",
     "iopub.status.idle": "2022-07-22T19:04:12.323250Z",
     "shell.execute_reply": "2022-07-22T19:04:12.290958Z"
    },
    "id": "a62397e3",
    "papermill": {
     "duration": 0.08447,
     "end_time": "2022-07-22T19:04:12.327424",
     "exception": false,
     "start_time": "2022-07-22T19:04:12.242954",
     "status": "completed"
    },
    "tags": []
   },
   "outputs": [],
   "source": [
    "import warnings\n",
    "import sys\n",
    "sys.path.insert(0, '../../src')\n",
    "warnings.filterwarnings('ignore')"
   ]
  },
  {
   "cell_type": "code",
   "execution_count": 2,
   "id": "d6a4e155",
   "metadata": {
    "execution": {
     "iopub.execute_input": "2022-07-22T19:04:12.353822Z",
     "iopub.status.busy": "2022-07-22T19:04:12.350866Z",
     "iopub.status.idle": "2022-07-22T19:04:20.224143Z",
     "shell.execute_reply": "2022-07-22T19:04:20.220000Z"
    },
    "id": "d6a4e155",
    "papermill": {
     "duration": 7.893285,
     "end_time": "2022-07-22T19:04:20.230824",
     "exception": false,
     "start_time": "2022-07-22T19:04:12.337539",
     "status": "completed"
    },
    "tags": []
   },
   "outputs": [],
   "source": [
    "import ABC_train_test2\n",
    "import bostonDataset\n",
    "import network\n",
    "import dataset\n",
    "import sanityChecks\n",
    "import torch \n",
    "import scrapbook as sb\n",
    "from statistics import mean \n",
    "import catboost as ctb \n",
    "from sklearn.model_selection import train_test_split\n",
    "from sklearn.metrics import mean_squared_error,mean_absolute_error\n",
    "import numpy as np"
   ]
  },
  {
   "cell_type": "markdown",
   "id": "2fa5b0f7",
   "metadata": {
    "id": "2fa5b0f7",
    "papermill": {
     "duration": 0.015936,
     "end_time": "2022-07-22T19:04:20.254517",
     "exception": false,
     "start_time": "2022-07-22T19:04:20.238581",
     "status": "completed"
    },
    "tags": []
   },
   "source": [
    "## Parameters "
   ]
  },
  {
   "cell_type": "code",
   "execution_count": 3,
   "id": "783186fb",
   "metadata": {
    "execution": {
     "iopub.execute_input": "2022-07-22T19:04:20.280521Z",
     "iopub.status.busy": "2022-07-22T19:04:20.279698Z",
     "iopub.status.idle": "2022-07-22T19:04:20.285273Z",
     "shell.execute_reply": "2022-07-22T19:04:20.284087Z"
    },
    "id": "783186fb",
    "papermill": {
     "duration": 0.02446,
     "end_time": "2022-07-22T19:04:20.292915",
     "exception": false,
     "start_time": "2022-07-22T19:04:20.268455",
     "status": "completed"
    },
    "tags": [
     "parameters"
    ]
   },
   "outputs": [],
   "source": [
    "variance = 1\n",
    "bias = 1 "
   ]
  },
  {
   "cell_type": "code",
   "execution_count": 4,
   "id": "74f319bc",
   "metadata": {
    "execution": {
     "iopub.execute_input": "2022-07-22T19:04:20.323517Z",
     "iopub.status.busy": "2022-07-22T19:04:20.322902Z",
     "iopub.status.idle": "2022-07-22T19:04:20.327904Z",
     "shell.execute_reply": "2022-07-22T19:04:20.326947Z"
    },
    "papermill": {
     "duration": 0.037798,
     "end_time": "2022-07-22T19:04:20.341811",
     "exception": false,
     "start_time": "2022-07-22T19:04:20.304013",
     "status": "completed"
    },
    "tags": [
     "injected-parameters"
    ]
   },
   "outputs": [],
   "source": [
    "# Parameters\n",
    "variance = 0.1\n",
    "bias = 0.01\n"
   ]
  },
  {
   "cell_type": "markdown",
   "id": "391cdbfd",
   "metadata": {
    "id": "391cdbfd",
    "papermill": {
     "duration": 0.02356,
     "end_time": "2022-07-22T19:04:20.374527",
     "exception": false,
     "start_time": "2022-07-22T19:04:20.350967",
     "status": "completed"
    },
    "tags": []
   },
   "source": [
    "## Dataset \n"
   ]
  },
  {
   "cell_type": "code",
   "execution_count": 5,
   "id": "5b51f161",
   "metadata": {
    "execution": {
     "iopub.execute_input": "2022-07-22T19:04:20.419370Z",
     "iopub.status.busy": "2022-07-22T19:04:20.418775Z",
     "iopub.status.idle": "2022-07-22T19:04:20.424975Z",
     "shell.execute_reply": "2022-07-22T19:04:20.424016Z"
    },
    "id": "5b51f161",
    "papermill": {
     "duration": 0.055916,
     "end_time": "2022-07-22T19:04:20.440020",
     "exception": false,
     "start_time": "2022-07-22T19:04:20.384104",
     "status": "completed"
    },
    "tags": []
   },
   "outputs": [],
   "source": [
    "#Parameters \n",
    "n_features = 13\n",
    "n_samples= 506\n",
    "n_target = 1 "
   ]
  },
  {
   "cell_type": "code",
   "execution_count": 6,
   "id": "5d6eced4",
   "metadata": {
    "execution": {
     "iopub.execute_input": "2022-07-22T19:04:20.469285Z",
     "iopub.status.busy": "2022-07-22T19:04:20.468502Z",
     "iopub.status.idle": "2022-07-22T19:04:20.510375Z",
     "shell.execute_reply": "2022-07-22T19:04:20.509351Z"
    },
    "id": "5d6eced4",
    "papermill": {
     "duration": 0.074516,
     "end_time": "2022-07-22T19:04:20.523045",
     "exception": false,
     "start_time": "2022-07-22T19:04:20.448529",
     "status": "completed"
    },
    "tags": []
   },
   "outputs": [
    {
     "name": "stdout",
     "output_type": "stream",
     "text": [
      "         X1        X2        X3        X4        X5        X6        X7  \\\n",
      "0 -0.419782  0.284830 -1.287909 -0.272599 -0.144217  0.413672 -0.120013   \n",
      "1 -0.417339 -0.487722 -0.593381 -0.272599 -0.740262  0.194274  0.367166   \n",
      "2 -0.417342 -0.487722 -0.593381 -0.272599 -0.740262  1.282714 -0.265812   \n",
      "3 -0.416750 -0.487722 -1.306878 -0.272599 -0.835284  1.016303 -0.809889   \n",
      "4 -0.412482 -0.487722 -1.306878 -0.272599 -0.835284  1.228577 -0.511180   \n",
      "\n",
      "         X8        X9       X10       X11       X12       X13         Y  \n",
      "0  0.140214 -0.982843 -0.666608 -1.459000  0.441052 -1.075562  0.159686  \n",
      "1  0.557160 -0.867883 -0.987329 -0.303094  0.441052 -0.492439 -0.101524  \n",
      "2  0.557160 -0.867883 -0.987329 -0.303094  0.396427 -1.208727  1.324247  \n",
      "3  1.077737 -0.752922 -1.106115  0.113032  0.416163 -1.361517  1.182758  \n",
      "4  1.077737 -0.752922 -1.106115  0.113032  0.441052 -1.026501  1.487503  \n"
     ]
    }
   ],
   "source": [
    "X,Y = bostonDataset.boston_data()"
   ]
  },
  {
   "cell_type": "code",
   "execution_count": 7,
   "id": "fe007438",
   "metadata": {
    "execution": {
     "iopub.execute_input": "2022-07-22T19:04:20.558264Z",
     "iopub.status.busy": "2022-07-22T19:04:20.557866Z",
     "iopub.status.idle": "2022-07-22T19:04:20.567098Z",
     "shell.execute_reply": "2022-07-22T19:04:20.563591Z"
    },
    "id": "fe007438",
    "papermill": {
     "duration": 0.044173,
     "end_time": "2022-07-22T19:04:20.576329",
     "exception": false,
     "start_time": "2022-07-22T19:04:20.532156",
     "status": "completed"
    },
    "tags": []
   },
   "outputs": [],
   "source": [
    "#Train test split for dataset \n",
    "X_train,X_test,Y_train,Y_test = train_test_split(X,Y,test_size = 0.2)\n",
    "train_data = dataset.CustomDataset(X_train,Y_train)\n",
    "test_data = dataset.CustomDataset(X_test,Y_test)\n"
   ]
  },
  {
   "cell_type": "markdown",
   "id": "a9a1af34",
   "metadata": {
    "id": "a9a1af34",
    "papermill": {
     "duration": 0.008965,
     "end_time": "2022-07-22T19:04:20.592705",
     "exception": false,
     "start_time": "2022-07-22T19:04:20.583740",
     "status": "completed"
    },
    "tags": []
   },
   "source": [
    "## Training Parameters "
   ]
  },
  {
   "cell_type": "code",
   "execution_count": 8,
   "id": "952b7fc8",
   "metadata": {
    "execution": {
     "iopub.execute_input": "2022-07-22T19:04:20.628603Z",
     "iopub.status.busy": "2022-07-22T19:04:20.627792Z",
     "iopub.status.idle": "2022-07-22T19:04:20.632495Z",
     "shell.execute_reply": "2022-07-22T19:04:20.631605Z"
    },
    "id": "952b7fc8",
    "papermill": {
     "duration": 0.037112,
     "end_time": "2022-07-22T19:04:20.646890",
     "exception": false,
     "start_time": "2022-07-22T19:04:20.609778",
     "status": "completed"
    },
    "tags": []
   },
   "outputs": [],
   "source": [
    "batch_size = 32\n",
    "n_epochs = 1000\n",
    "#Select the device \n",
    "device = torch.device('cuda' if torch.cuda.is_available() else 'cpu')"
   ]
  },
  {
   "cell_type": "markdown",
   "id": "a95e1600",
   "metadata": {
    "id": "a95e1600",
    "papermill": {
     "duration": 0.02296,
     "end_time": "2022-07-22T19:04:20.679016",
     "exception": false,
     "start_time": "2022-07-22T19:04:20.656056",
     "status": "completed"
    },
    "tags": []
   },
   "source": [
    "# ABC Pre-generator Model \n",
    "\n",
    "1. The catboost model is used as a pre-generator model for the ABC-GAN. \n",
    "2. The model is first trained on the entire dataset \n",
    "3. It generats X,Y pairs and we add some Gaussian noise with mean 0 and variance 1 to it which is then feed as input to the generator.\n"
   ]
  },
  {
   "cell_type": "code",
   "execution_count": 9,
   "id": "ff8ce7bd",
   "metadata": {
    "execution": {
     "iopub.execute_input": "2022-07-22T19:04:20.700833Z",
     "iopub.status.busy": "2022-07-22T19:04:20.699960Z",
     "iopub.status.idle": "2022-07-22T19:04:24.372510Z",
     "shell.execute_reply": "2022-07-22T19:04:24.371768Z"
    },
    "id": "ff8ce7bd",
    "papermill": {
     "duration": 3.684451,
     "end_time": "2022-07-22T19:04:24.374999",
     "exception": false,
     "start_time": "2022-07-22T19:04:20.690548",
     "status": "completed"
    },
    "tags": []
   },
   "outputs": [
    {
     "name": "stdout",
     "output_type": "stream",
     "text": [
      "Learning rate set to 0.03548\n",
      "0:\tlearn: 1.0006856\ttotal: 60.5ms\tremaining: 1m\n",
      "1:\tlearn: 0.9804582\ttotal: 63.4ms\tremaining: 31.6s\n",
      "2:\tlearn: 0.9582983\ttotal: 65.8ms\tremaining: 21.9s\n",
      "3:\tlearn: 0.9409567\ttotal: 68.3ms\tremaining: 17s\n",
      "4:\tlearn: 0.9223546\ttotal: 70.8ms\tremaining: 14.1s\n",
      "5:\tlearn: 0.9048513\ttotal: 73.2ms\tremaining: 12.1s\n",
      "6:\tlearn: 0.8896122\ttotal: 75.7ms\tremaining: 10.7s\n",
      "7:\tlearn: 0.8725416\ttotal: 78.2ms\tremaining: 9.69s\n",
      "8:\tlearn: 0.8571379\ttotal: 80.6ms\tremaining: 8.88s\n",
      "9:\tlearn: 0.8415880\ttotal: 83.2ms\tremaining: 8.23s\n",
      "10:\tlearn: 0.8281043\ttotal: 85.6ms\tremaining: 7.7s\n",
      "11:\tlearn: 0.8136572\ttotal: 88ms\tremaining: 7.25s\n",
      "12:\tlearn: 0.7976459\ttotal: 90.5ms\tremaining: 6.87s\n",
      "13:\tlearn: 0.7821884\ttotal: 93ms\tremaining: 6.55s\n",
      "14:\tlearn: 0.7692693\ttotal: 95.4ms\tremaining: 6.27s\n",
      "15:\tlearn: 0.7538082\ttotal: 97.8ms\tremaining: 6.02s\n",
      "16:\tlearn: 0.7405889\ttotal: 100ms\tremaining: 5.8s\n",
      "17:\tlearn: 0.7287948\ttotal: 103ms\tremaining: 5.59s\n",
      "18:\tlearn: 0.7168191\ttotal: 105ms\tremaining: 5.42s\n",
      "19:\tlearn: 0.7018726\ttotal: 107ms\tremaining: 5.25s\n",
      "20:\tlearn: 0.6893531\ttotal: 110ms\tremaining: 5.12s\n",
      "21:\tlearn: 0.6782098\ttotal: 113ms\tremaining: 5.01s\n",
      "22:\tlearn: 0.6687726\ttotal: 127ms\tremaining: 5.38s\n",
      "23:\tlearn: 0.6592339\ttotal: 129ms\tremaining: 5.24s\n",
      "24:\tlearn: 0.6504532\ttotal: 132ms\tremaining: 5.13s\n",
      "25:\tlearn: 0.6415025\ttotal: 134ms\tremaining: 5.01s\n",
      "26:\tlearn: 0.6331487\ttotal: 136ms\tremaining: 4.9s\n",
      "27:\tlearn: 0.6223382\ttotal: 139ms\tremaining: 4.81s\n",
      "28:\tlearn: 0.6121147\ttotal: 141ms\tremaining: 4.71s\n",
      "29:\tlearn: 0.6019638\ttotal: 143ms\tremaining: 4.62s\n",
      "30:\tlearn: 0.5904239\ttotal: 145ms\tremaining: 4.54s\n",
      "31:\tlearn: 0.5822152\ttotal: 148ms\tremaining: 4.47s\n",
      "32:\tlearn: 0.5751251\ttotal: 150ms\tremaining: 4.41s\n",
      "33:\tlearn: 0.5674628\ttotal: 153ms\tremaining: 4.34s\n",
      "34:\tlearn: 0.5602617\ttotal: 155ms\tremaining: 4.28s\n",
      "35:\tlearn: 0.5530060\ttotal: 158ms\tremaining: 4.22s\n",
      "36:\tlearn: 0.5470037\ttotal: 160ms\tremaining: 4.16s\n",
      "37:\tlearn: 0.5392832\ttotal: 162ms\tremaining: 4.11s\n",
      "38:\tlearn: 0.5311689\ttotal: 165ms\tremaining: 4.06s\n",
      "39:\tlearn: 0.5238372\ttotal: 168ms\tremaining: 4.02s\n",
      "40:\tlearn: 0.5182568\ttotal: 170ms\tremaining: 3.98s\n"
     ]
    },
    {
     "name": "stdout",
     "output_type": "stream",
     "text": [
      "41:\tlearn: 0.5105083\ttotal: 177ms\tremaining: 4.04s\n",
      "42:\tlearn: 0.5036359\ttotal: 180ms\tremaining: 4.01s\n",
      "43:\tlearn: 0.4980608\ttotal: 186ms\tremaining: 4.03s\n",
      "44:\tlearn: 0.4925995\ttotal: 188ms\tremaining: 3.99s\n",
      "45:\tlearn: 0.4858194\ttotal: 192ms\tremaining: 3.98s\n",
      "46:\tlearn: 0.4808408\ttotal: 195ms\tremaining: 3.95s\n",
      "47:\tlearn: 0.4751420\ttotal: 200ms\tremaining: 3.97s\n",
      "48:\tlearn: 0.4693038\ttotal: 203ms\tremaining: 3.94s\n",
      "49:\tlearn: 0.4639601\ttotal: 205ms\tremaining: 3.89s\n",
      "50:\tlearn: 0.4587969\ttotal: 207ms\tremaining: 3.86s\n",
      "51:\tlearn: 0.4545995\ttotal: 210ms\tremaining: 3.82s\n",
      "52:\tlearn: 0.4500232\ttotal: 218ms\tremaining: 3.89s\n",
      "53:\tlearn: 0.4463229\ttotal: 220ms\tremaining: 3.85s\n",
      "54:\tlearn: 0.4417537\ttotal: 223ms\tremaining: 3.83s\n",
      "55:\tlearn: 0.4376404\ttotal: 225ms\tremaining: 3.79s\n",
      "56:\tlearn: 0.4342360\ttotal: 227ms\tremaining: 3.76s\n",
      "57:\tlearn: 0.4293708\ttotal: 230ms\tremaining: 3.74s\n",
      "58:\tlearn: 0.4248188\ttotal: 233ms\tremaining: 3.71s\n",
      "59:\tlearn: 0.4207567\ttotal: 236ms\tremaining: 3.69s\n",
      "60:\tlearn: 0.4176348\ttotal: 238ms\tremaining: 3.66s\n",
      "61:\tlearn: 0.4134558\ttotal: 240ms\tremaining: 3.63s\n",
      "62:\tlearn: 0.4092660\ttotal: 242ms\tremaining: 3.6s\n",
      "63:\tlearn: 0.4061962\ttotal: 248ms\tremaining: 3.63s\n",
      "64:\tlearn: 0.4027499\ttotal: 252ms\tremaining: 3.63s\n",
      "65:\tlearn: 0.3987453\ttotal: 255ms\tremaining: 3.61s\n",
      "66:\tlearn: 0.3944907\ttotal: 257ms\tremaining: 3.58s\n",
      "67:\tlearn: 0.3918302\ttotal: 259ms\tremaining: 3.56s\n",
      "68:\tlearn: 0.3879113\ttotal: 262ms\tremaining: 3.54s\n",
      "69:\tlearn: 0.3850583\ttotal: 265ms\tremaining: 3.52s\n",
      "70:\tlearn: 0.3820218\ttotal: 267ms\tremaining: 3.49s\n",
      "71:\tlearn: 0.3782195\ttotal: 270ms\tremaining: 3.47s\n",
      "72:\tlearn: 0.3752076\ttotal: 272ms\tremaining: 3.45s\n",
      "73:\tlearn: 0.3719983\ttotal: 274ms\tremaining: 3.43s\n",
      "74:\tlearn: 0.3682214\ttotal: 280ms\tremaining: 3.46s\n",
      "75:\tlearn: 0.3662842\ttotal: 283ms\tremaining: 3.44s\n",
      "76:\tlearn: 0.3630820\ttotal: 285ms\tremaining: 3.42s\n",
      "77:\tlearn: 0.3590914\ttotal: 287ms\tremaining: 3.4s\n",
      "78:\tlearn: 0.3561989\ttotal: 290ms\tremaining: 3.38s\n",
      "79:\tlearn: 0.3539034\ttotal: 292ms\tremaining: 3.36s\n",
      "80:\tlearn: 0.3506583\ttotal: 295ms\tremaining: 3.34s\n",
      "81:\tlearn: 0.3483405\ttotal: 297ms\tremaining: 3.33s\n",
      "82:\tlearn: 0.3459337\ttotal: 299ms\tremaining: 3.31s\n",
      "83:\tlearn: 0.3439998\ttotal: 302ms\tremaining: 3.29s\n",
      "84:\tlearn: 0.3412284\ttotal: 303ms\tremaining: 3.27s\n",
      "85:\tlearn: 0.3381083\ttotal: 306ms\tremaining: 3.25s\n",
      "86:\tlearn: 0.3351135\ttotal: 308ms\tremaining: 3.23s\n",
      "87:\tlearn: 0.3329796\ttotal: 310ms\tremaining: 3.22s\n",
      "88:\tlearn: 0.3312159\ttotal: 314ms\tremaining: 3.21s\n",
      "89:\tlearn: 0.3293392\ttotal: 318ms\tremaining: 3.21s\n",
      "90:\tlearn: 0.3271445\ttotal: 323ms\tremaining: 3.22s\n"
     ]
    },
    {
     "name": "stdout",
     "output_type": "stream",
     "text": [
      "91:\tlearn: 0.3252042\ttotal: 333ms\tremaining: 3.29s\n",
      "92:\tlearn: 0.3237522\ttotal: 336ms\tremaining: 3.27s\n",
      "93:\tlearn: 0.3215188\ttotal: 338ms\tremaining: 3.26s\n",
      "94:\tlearn: 0.3198131\ttotal: 340ms\tremaining: 3.24s\n",
      "95:\tlearn: 0.3184558\ttotal: 343ms\tremaining: 3.23s\n",
      "96:\tlearn: 0.3165368\ttotal: 345ms\tremaining: 3.21s\n",
      "97:\tlearn: 0.3145642\ttotal: 347ms\tremaining: 3.2s\n",
      "98:\tlearn: 0.3128799\ttotal: 350ms\tremaining: 3.19s\n",
      "99:\tlearn: 0.3117758\ttotal: 353ms\tremaining: 3.17s\n",
      "100:\tlearn: 0.3095385\ttotal: 355ms\tremaining: 3.16s\n",
      "101:\tlearn: 0.3079649\ttotal: 358ms\tremaining: 3.15s\n",
      "102:\tlearn: 0.3063864\ttotal: 360ms\tremaining: 3.13s\n",
      "103:\tlearn: 0.3047963\ttotal: 363ms\tremaining: 3.13s\n",
      "104:\tlearn: 0.3024204\ttotal: 366ms\tremaining: 3.12s\n",
      "105:\tlearn: 0.3010553\ttotal: 368ms\tremaining: 3.1s\n",
      "106:\tlearn: 0.2993034\ttotal: 371ms\tremaining: 3.09s\n",
      "107:\tlearn: 0.2978278\ttotal: 373ms\tremaining: 3.08s\n",
      "108:\tlearn: 0.2968392\ttotal: 375ms\tremaining: 3.07s\n",
      "109:\tlearn: 0.2952206\ttotal: 378ms\tremaining: 3.06s\n",
      "110:\tlearn: 0.2939870\ttotal: 381ms\tremaining: 3.05s\n",
      "111:\tlearn: 0.2921769\ttotal: 385ms\tremaining: 3.05s\n",
      "112:\tlearn: 0.2908071\ttotal: 388ms\tremaining: 3.04s\n",
      "113:\tlearn: 0.2897012\ttotal: 390ms\tremaining: 3.03s\n",
      "114:\tlearn: 0.2881812\ttotal: 393ms\tremaining: 3.02s\n",
      "115:\tlearn: 0.2868396\ttotal: 401ms\tremaining: 3.06s\n",
      "116:\tlearn: 0.2853210\ttotal: 404ms\tremaining: 3.05s\n",
      "117:\tlearn: 0.2840778\ttotal: 406ms\tremaining: 3.04s\n",
      "118:\tlearn: 0.2828618\ttotal: 414ms\tremaining: 3.06s\n",
      "119:\tlearn: 0.2817512\ttotal: 416ms\tremaining: 3.05s\n",
      "120:\tlearn: 0.2805655\ttotal: 420ms\tremaining: 3.05s\n",
      "121:\tlearn: 0.2792068\ttotal: 425ms\tremaining: 3.06s\n",
      "122:\tlearn: 0.2775052\ttotal: 428ms\tremaining: 3.05s\n",
      "123:\tlearn: 0.2766811\ttotal: 431ms\tremaining: 3.04s\n",
      "124:\tlearn: 0.2753052\ttotal: 434ms\tremaining: 3.04s\n",
      "125:\tlearn: 0.2741761\ttotal: 436ms\tremaining: 3.02s\n",
      "126:\tlearn: 0.2731561\ttotal: 439ms\tremaining: 3.01s\n",
      "127:\tlearn: 0.2718461\ttotal: 448ms\tremaining: 3.05s\n",
      "128:\tlearn: 0.2707326\ttotal: 450ms\tremaining: 3.04s\n",
      "129:\tlearn: 0.2691988\ttotal: 452ms\tremaining: 3.03s\n"
     ]
    },
    {
     "name": "stdout",
     "output_type": "stream",
     "text": [
      "130:\tlearn: 0.2677805\ttotal: 460ms\tremaining: 3.05s\n",
      "131:\tlearn: 0.2669500\ttotal: 463ms\tremaining: 3.04s\n",
      "132:\tlearn: 0.2660501\ttotal: 473ms\tremaining: 3.08s\n",
      "133:\tlearn: 0.2651883\ttotal: 475ms\tremaining: 3.07s\n",
      "134:\tlearn: 0.2638777\ttotal: 477ms\tremaining: 3.06s\n",
      "135:\tlearn: 0.2629679\ttotal: 480ms\tremaining: 3.05s\n",
      "136:\tlearn: 0.2616198\ttotal: 482ms\tremaining: 3.04s\n",
      "137:\tlearn: 0.2604332\ttotal: 484ms\tremaining: 3.02s\n",
      "138:\tlearn: 0.2594438\ttotal: 487ms\tremaining: 3.01s\n",
      "139:\tlearn: 0.2585528\ttotal: 489ms\tremaining: 3s\n",
      "140:\tlearn: 0.2576763\ttotal: 492ms\tremaining: 2.99s\n",
      "141:\tlearn: 0.2568524\ttotal: 496ms\tremaining: 3s\n",
      "142:\tlearn: 0.2559617\ttotal: 499ms\tremaining: 2.99s\n",
      "143:\tlearn: 0.2550614\ttotal: 502ms\tremaining: 2.99s\n",
      "144:\tlearn: 0.2540246\ttotal: 505ms\tremaining: 2.98s\n",
      "145:\tlearn: 0.2530907\ttotal: 508ms\tremaining: 2.97s\n",
      "146:\tlearn: 0.2520805\ttotal: 510ms\tremaining: 2.96s\n",
      "147:\tlearn: 0.2510447\ttotal: 512ms\tremaining: 2.95s\n",
      "148:\tlearn: 0.2499611\ttotal: 514ms\tremaining: 2.94s\n",
      "149:\tlearn: 0.2493000\ttotal: 517ms\tremaining: 2.93s\n",
      "150:\tlearn: 0.2482680\ttotal: 520ms\tremaining: 2.92s\n",
      "151:\tlearn: 0.2474693\ttotal: 522ms\tremaining: 2.91s\n",
      "152:\tlearn: 0.2468467\ttotal: 524ms\tremaining: 2.9s\n",
      "153:\tlearn: 0.2460570\ttotal: 527ms\tremaining: 2.89s\n",
      "154:\tlearn: 0.2449289\ttotal: 529ms\tremaining: 2.88s\n",
      "155:\tlearn: 0.2439932\ttotal: 531ms\tremaining: 2.87s\n",
      "156:\tlearn: 0.2432567\ttotal: 534ms\tremaining: 2.86s\n",
      "157:\tlearn: 0.2425830\ttotal: 539ms\tremaining: 2.87s\n",
      "158:\tlearn: 0.2413513\ttotal: 568ms\tremaining: 3.01s\n",
      "159:\tlearn: 0.2403292\ttotal: 574ms\tremaining: 3.02s\n",
      "160:\tlearn: 0.2392841\ttotal: 577ms\tremaining: 3s\n",
      "161:\tlearn: 0.2384217\ttotal: 581ms\tremaining: 3.01s\n",
      "162:\tlearn: 0.2379638\ttotal: 584ms\tremaining: 3s\n",
      "163:\tlearn: 0.2374123\ttotal: 587ms\tremaining: 2.99s\n"
     ]
    },
    {
     "name": "stdout",
     "output_type": "stream",
     "text": [
      "164:\tlearn: 0.2368502\ttotal: 591ms\tremaining: 2.99s\n",
      "165:\tlearn: 0.2362356\ttotal: 593ms\tremaining: 2.98s\n",
      "166:\tlearn: 0.2357523\ttotal: 596ms\tremaining: 2.97s\n",
      "167:\tlearn: 0.2350613\ttotal: 598ms\tremaining: 2.96s\n",
      "168:\tlearn: 0.2344890\ttotal: 601ms\tremaining: 2.96s\n",
      "169:\tlearn: 0.2339444\ttotal: 606ms\tremaining: 2.96s\n",
      "170:\tlearn: 0.2332311\ttotal: 613ms\tremaining: 2.97s\n",
      "171:\tlearn: 0.2323988\ttotal: 616ms\tremaining: 2.96s\n",
      "172:\tlearn: 0.2316315\ttotal: 619ms\tremaining: 2.96s\n",
      "173:\tlearn: 0.2312391\ttotal: 621ms\tremaining: 2.95s\n",
      "174:\tlearn: 0.2308239\ttotal: 624ms\tremaining: 2.94s\n",
      "175:\tlearn: 0.2303705\ttotal: 627ms\tremaining: 2.94s\n",
      "176:\tlearn: 0.2295378\ttotal: 630ms\tremaining: 2.93s\n",
      "177:\tlearn: 0.2286442\ttotal: 632ms\tremaining: 2.92s\n",
      "178:\tlearn: 0.2280219\ttotal: 635ms\tremaining: 2.91s\n",
      "179:\tlearn: 0.2274008\ttotal: 637ms\tremaining: 2.9s\n",
      "180:\tlearn: 0.2266230\ttotal: 640ms\tremaining: 2.89s\n",
      "181:\tlearn: 0.2259249\ttotal: 642ms\tremaining: 2.89s\n",
      "182:\tlearn: 0.2253078\ttotal: 644ms\tremaining: 2.88s\n",
      "183:\tlearn: 0.2247674\ttotal: 647ms\tremaining: 2.87s\n",
      "184:\tlearn: 0.2241207\ttotal: 649ms\tremaining: 2.86s\n",
      "185:\tlearn: 0.2234651\ttotal: 651ms\tremaining: 2.85s\n",
      "186:\tlearn: 0.2225443\ttotal: 654ms\tremaining: 2.84s\n",
      "187:\tlearn: 0.2220197\ttotal: 656ms\tremaining: 2.83s\n",
      "188:\tlearn: 0.2212611\ttotal: 659ms\tremaining: 2.83s\n",
      "189:\tlearn: 0.2205159\ttotal: 661ms\tremaining: 2.82s\n",
      "190:\tlearn: 0.2198382\ttotal: 664ms\tremaining: 2.81s\n",
      "191:\tlearn: 0.2189006\ttotal: 666ms\tremaining: 2.8s\n",
      "192:\tlearn: 0.2181930\ttotal: 671ms\tremaining: 2.8s\n",
      "193:\tlearn: 0.2175510\ttotal: 676ms\tremaining: 2.81s\n",
      "194:\tlearn: 0.2165077\ttotal: 678ms\tremaining: 2.8s\n",
      "195:\tlearn: 0.2158806\ttotal: 681ms\tremaining: 2.79s\n",
      "196:\tlearn: 0.2154307\ttotal: 683ms\tremaining: 2.78s\n",
      "197:\tlearn: 0.2149494\ttotal: 686ms\tremaining: 2.78s\n",
      "198:\tlearn: 0.2144251\ttotal: 688ms\tremaining: 2.77s\n",
      "199:\tlearn: 0.2136996\ttotal: 691ms\tremaining: 2.76s\n",
      "200:\tlearn: 0.2129018\ttotal: 693ms\tremaining: 2.75s\n",
      "201:\tlearn: 0.2123439\ttotal: 695ms\tremaining: 2.75s\n",
      "202:\tlearn: 0.2115514\ttotal: 698ms\tremaining: 2.74s\n",
      "203:\tlearn: 0.2108017\ttotal: 700ms\tremaining: 2.73s\n",
      "204:\tlearn: 0.2103517\ttotal: 704ms\tremaining: 2.73s\n",
      "205:\tlearn: 0.2094368\ttotal: 707ms\tremaining: 2.73s\n",
      "206:\tlearn: 0.2087739\ttotal: 710ms\tremaining: 2.72s\n",
      "207:\tlearn: 0.2083906\ttotal: 712ms\tremaining: 2.71s\n",
      "208:\tlearn: 0.2079874\ttotal: 715ms\tremaining: 2.71s\n",
      "209:\tlearn: 0.2073581\ttotal: 718ms\tremaining: 2.7s\n",
      "210:\tlearn: 0.2069989\ttotal: 720ms\tremaining: 2.69s\n",
      "211:\tlearn: 0.2064074\ttotal: 722ms\tremaining: 2.69s\n",
      "212:\tlearn: 0.2057643\ttotal: 724ms\tremaining: 2.67s\n",
      "213:\tlearn: 0.2050679\ttotal: 727ms\tremaining: 2.67s\n",
      "214:\tlearn: 0.2044746\ttotal: 729ms\tremaining: 2.66s\n",
      "215:\tlearn: 0.2038386\ttotal: 731ms\tremaining: 2.65s\n",
      "216:\tlearn: 0.2032599\ttotal: 733ms\tremaining: 2.64s\n",
      "217:\tlearn: 0.2028366\ttotal: 735ms\tremaining: 2.64s\n",
      "218:\tlearn: 0.2023662\ttotal: 737ms\tremaining: 2.63s\n",
      "219:\tlearn: 0.2020131\ttotal: 740ms\tremaining: 2.62s\n",
      "220:\tlearn: 0.2015717\ttotal: 742ms\tremaining: 2.62s\n",
      "221:\tlearn: 0.2009884\ttotal: 744ms\tremaining: 2.61s\n",
      "222:\tlearn: 0.2003286\ttotal: 747ms\tremaining: 2.6s\n",
      "223:\tlearn: 0.1998626\ttotal: 749ms\tremaining: 2.59s\n"
     ]
    },
    {
     "name": "stdout",
     "output_type": "stream",
     "text": [
      "224:\tlearn: 0.1992972\ttotal: 754ms\tremaining: 2.6s\n",
      "225:\tlearn: 0.1986990\ttotal: 757ms\tremaining: 2.59s\n",
      "226:\tlearn: 0.1980299\ttotal: 760ms\tremaining: 2.59s\n",
      "227:\tlearn: 0.1975857\ttotal: 762ms\tremaining: 2.58s\n",
      "228:\tlearn: 0.1970891\ttotal: 765ms\tremaining: 2.58s\n",
      "229:\tlearn: 0.1967518\ttotal: 768ms\tremaining: 2.57s\n",
      "230:\tlearn: 0.1964669\ttotal: 770ms\tremaining: 2.56s\n",
      "231:\tlearn: 0.1959301\ttotal: 772ms\tremaining: 2.56s\n",
      "232:\tlearn: 0.1954174\ttotal: 774ms\tremaining: 2.55s\n",
      "233:\tlearn: 0.1948944\ttotal: 776ms\tremaining: 2.54s\n",
      "234:\tlearn: 0.1941989\ttotal: 779ms\tremaining: 2.53s\n",
      "235:\tlearn: 0.1939362\ttotal: 781ms\tremaining: 2.53s\n",
      "236:\tlearn: 0.1933624\ttotal: 783ms\tremaining: 2.52s\n",
      "237:\tlearn: 0.1929271\ttotal: 785ms\tremaining: 2.51s\n",
      "238:\tlearn: 0.1921983\ttotal: 787ms\tremaining: 2.5s\n",
      "239:\tlearn: 0.1915000\ttotal: 789ms\tremaining: 2.5s\n",
      "240:\tlearn: 0.1909805\ttotal: 792ms\tremaining: 2.49s\n",
      "241:\tlearn: 0.1906208\ttotal: 794ms\tremaining: 2.49s\n",
      "242:\tlearn: 0.1899584\ttotal: 797ms\tremaining: 2.48s\n",
      "243:\tlearn: 0.1894219\ttotal: 800ms\tremaining: 2.48s\n",
      "244:\tlearn: 0.1887375\ttotal: 805ms\tremaining: 2.48s\n",
      "245:\tlearn: 0.1885633\ttotal: 807ms\tremaining: 2.47s\n",
      "246:\tlearn: 0.1881050\ttotal: 809ms\tremaining: 2.47s\n",
      "247:\tlearn: 0.1877253\ttotal: 812ms\tremaining: 2.46s\n",
      "248:\tlearn: 0.1872410\ttotal: 814ms\tremaining: 2.45s\n",
      "249:\tlearn: 0.1868803\ttotal: 817ms\tremaining: 2.45s\n",
      "250:\tlearn: 0.1865110\ttotal: 819ms\tremaining: 2.44s\n",
      "251:\tlearn: 0.1859345\ttotal: 821ms\tremaining: 2.44s\n",
      "252:\tlearn: 0.1853297\ttotal: 823ms\tremaining: 2.43s\n",
      "253:\tlearn: 0.1850403\ttotal: 826ms\tremaining: 2.42s\n",
      "254:\tlearn: 0.1845685\ttotal: 828ms\tremaining: 2.42s\n",
      "255:\tlearn: 0.1840091\ttotal: 831ms\tremaining: 2.41s\n",
      "256:\tlearn: 0.1833835\ttotal: 833ms\tremaining: 2.41s\n",
      "257:\tlearn: 0.1829422\ttotal: 836ms\tremaining: 2.4s\n",
      "258:\tlearn: 0.1823839\ttotal: 840ms\tremaining: 2.4s\n",
      "259:\tlearn: 0.1819642\ttotal: 843ms\tremaining: 2.4s\n",
      "260:\tlearn: 0.1817521\ttotal: 845ms\tremaining: 2.39s\n",
      "261:\tlearn: 0.1812318\ttotal: 848ms\tremaining: 2.39s\n",
      "262:\tlearn: 0.1808400\ttotal: 850ms\tremaining: 2.38s\n",
      "263:\tlearn: 0.1805310\ttotal: 853ms\tremaining: 2.38s\n",
      "264:\tlearn: 0.1800476\ttotal: 855ms\tremaining: 2.37s\n",
      "265:\tlearn: 0.1796825\ttotal: 857ms\tremaining: 2.37s\n",
      "266:\tlearn: 0.1792242\ttotal: 860ms\tremaining: 2.36s\n",
      "267:\tlearn: 0.1787047\ttotal: 862ms\tremaining: 2.35s\n",
      "268:\tlearn: 0.1782240\ttotal: 864ms\tremaining: 2.35s\n",
      "269:\tlearn: 0.1777855\ttotal: 866ms\tremaining: 2.34s\n",
      "270:\tlearn: 0.1774697\ttotal: 869ms\tremaining: 2.34s\n",
      "271:\tlearn: 0.1772224\ttotal: 871ms\tremaining: 2.33s\n",
      "272:\tlearn: 0.1765561\ttotal: 873ms\tremaining: 2.33s\n",
      "273:\tlearn: 0.1760950\ttotal: 876ms\tremaining: 2.32s\n",
      "274:\tlearn: 0.1757224\ttotal: 878ms\tremaining: 2.31s\n",
      "275:\tlearn: 0.1750467\ttotal: 881ms\tremaining: 2.31s\n",
      "276:\tlearn: 0.1745392\ttotal: 883ms\tremaining: 2.31s\n",
      "277:\tlearn: 0.1739420\ttotal: 886ms\tremaining: 2.3s\n",
      "278:\tlearn: 0.1736047\ttotal: 888ms\tremaining: 2.29s\n",
      "279:\tlearn: 0.1730578\ttotal: 891ms\tremaining: 2.29s\n",
      "280:\tlearn: 0.1725901\ttotal: 894ms\tremaining: 2.29s\n",
      "281:\tlearn: 0.1721544\ttotal: 896ms\tremaining: 2.28s\n",
      "282:\tlearn: 0.1716608\ttotal: 898ms\tremaining: 2.28s\n",
      "283:\tlearn: 0.1710973\ttotal: 901ms\tremaining: 2.27s\n",
      "284:\tlearn: 0.1706555\ttotal: 903ms\tremaining: 2.27s\n",
      "285:\tlearn: 0.1701423\ttotal: 906ms\tremaining: 2.26s\n",
      "286:\tlearn: 0.1698160\ttotal: 908ms\tremaining: 2.25s\n",
      "287:\tlearn: 0.1695516\ttotal: 910ms\tremaining: 2.25s\n",
      "288:\tlearn: 0.1689672\ttotal: 912ms\tremaining: 2.24s\n",
      "289:\tlearn: 0.1685359\ttotal: 915ms\tremaining: 2.24s\n",
      "290:\tlearn: 0.1680590\ttotal: 917ms\tremaining: 2.23s\n",
      "291:\tlearn: 0.1676498\ttotal: 920ms\tremaining: 2.23s\n",
      "292:\tlearn: 0.1674033\ttotal: 923ms\tremaining: 2.23s\n"
     ]
    },
    {
     "name": "stdout",
     "output_type": "stream",
     "text": [
      "293:\tlearn: 0.1668143\ttotal: 928ms\tremaining: 2.23s\n",
      "294:\tlearn: 0.1664818\ttotal: 930ms\tremaining: 2.22s\n",
      "295:\tlearn: 0.1659795\ttotal: 933ms\tremaining: 2.22s\n",
      "296:\tlearn: 0.1654250\ttotal: 935ms\tremaining: 2.21s\n",
      "297:\tlearn: 0.1650752\ttotal: 936ms\tremaining: 2.21s\n",
      "298:\tlearn: 0.1644169\ttotal: 939ms\tremaining: 2.2s\n",
      "299:\tlearn: 0.1642307\ttotal: 941ms\tremaining: 2.19s\n",
      "300:\tlearn: 0.1638804\ttotal: 943ms\tremaining: 2.19s\n",
      "301:\tlearn: 0.1633509\ttotal: 945ms\tremaining: 2.19s\n",
      "302:\tlearn: 0.1629773\ttotal: 948ms\tremaining: 2.18s\n",
      "303:\tlearn: 0.1626736\ttotal: 950ms\tremaining: 2.17s\n",
      "304:\tlearn: 0.1624060\ttotal: 952ms\tremaining: 2.17s\n",
      "305:\tlearn: 0.1621350\ttotal: 954ms\tremaining: 2.16s\n",
      "306:\tlearn: 0.1617549\ttotal: 957ms\tremaining: 2.16s\n",
      "307:\tlearn: 0.1614636\ttotal: 959ms\tremaining: 2.15s\n",
      "308:\tlearn: 0.1609572\ttotal: 961ms\tremaining: 2.15s\n",
      "309:\tlearn: 0.1607568\ttotal: 964ms\tremaining: 2.15s\n",
      "310:\tlearn: 0.1603002\ttotal: 966ms\tremaining: 2.14s\n",
      "311:\tlearn: 0.1598361\ttotal: 969ms\tremaining: 2.14s\n",
      "312:\tlearn: 0.1594513\ttotal: 971ms\tremaining: 2.13s\n",
      "313:\tlearn: 0.1591183\ttotal: 973ms\tremaining: 2.13s\n",
      "314:\tlearn: 0.1589194\ttotal: 976ms\tremaining: 2.12s\n",
      "315:\tlearn: 0.1584642\ttotal: 978ms\tremaining: 2.12s\n",
      "316:\tlearn: 0.1579693\ttotal: 980ms\tremaining: 2.11s\n",
      "317:\tlearn: 0.1576402\ttotal: 982ms\tremaining: 2.11s\n",
      "318:\tlearn: 0.1572873\ttotal: 985ms\tremaining: 2.1s\n",
      "319:\tlearn: 0.1569476\ttotal: 987ms\tremaining: 2.1s\n",
      "320:\tlearn: 0.1565734\ttotal: 989ms\tremaining: 2.09s\n",
      "321:\tlearn: 0.1562875\ttotal: 992ms\tremaining: 2.09s\n",
      "322:\tlearn: 0.1560944\ttotal: 994ms\tremaining: 2.08s\n",
      "323:\tlearn: 0.1557549\ttotal: 996ms\tremaining: 2.08s\n",
      "324:\tlearn: 0.1555851\ttotal: 999ms\tremaining: 2.07s\n",
      "325:\tlearn: 0.1552470\ttotal: 1s\tremaining: 2.07s\n",
      "326:\tlearn: 0.1550818\ttotal: 1s\tremaining: 2.07s\n",
      "327:\tlearn: 0.1546573\ttotal: 1.01s\tremaining: 2.06s\n",
      "328:\tlearn: 0.1542454\ttotal: 1.01s\tremaining: 2.06s\n",
      "329:\tlearn: 0.1538541\ttotal: 1.01s\tremaining: 2.06s\n",
      "330:\tlearn: 0.1534479\ttotal: 1.01s\tremaining: 2.05s\n",
      "331:\tlearn: 0.1532789\ttotal: 1.02s\tremaining: 2.05s\n",
      "332:\tlearn: 0.1529507\ttotal: 1.02s\tremaining: 2.04s\n",
      "333:\tlearn: 0.1528305\ttotal: 1.02s\tremaining: 2.04s\n",
      "334:\tlearn: 0.1527033\ttotal: 1.02s\tremaining: 2.03s\n",
      "335:\tlearn: 0.1525577\ttotal: 1.03s\tremaining: 2.03s\n",
      "336:\tlearn: 0.1522546\ttotal: 1.03s\tremaining: 2.02s\n",
      "337:\tlearn: 0.1517278\ttotal: 1.03s\tremaining: 2.02s\n",
      "338:\tlearn: 0.1513845\ttotal: 1.03s\tremaining: 2.01s\n",
      "339:\tlearn: 0.1511349\ttotal: 1.03s\tremaining: 2.01s\n",
      "340:\tlearn: 0.1508200\ttotal: 1.04s\tremaining: 2.01s\n",
      "341:\tlearn: 0.1502515\ttotal: 1.04s\tremaining: 2s\n",
      "342:\tlearn: 0.1500310\ttotal: 1.04s\tremaining: 2s\n",
      "343:\tlearn: 0.1496159\ttotal: 1.04s\tremaining: 1.99s\n",
      "344:\tlearn: 0.1492290\ttotal: 1.05s\tremaining: 1.99s\n",
      "345:\tlearn: 0.1487956\ttotal: 1.05s\tremaining: 1.98s\n",
      "346:\tlearn: 0.1483984\ttotal: 1.05s\tremaining: 1.98s\n",
      "347:\tlearn: 0.1479788\ttotal: 1.05s\tremaining: 1.98s\n",
      "348:\tlearn: 0.1477656\ttotal: 1.06s\tremaining: 1.97s\n",
      "349:\tlearn: 0.1473205\ttotal: 1.06s\tremaining: 1.97s\n",
      "350:\tlearn: 0.1469136\ttotal: 1.06s\tremaining: 1.96s\n",
      "351:\tlearn: 0.1466622\ttotal: 1.06s\tremaining: 1.96s\n",
      "352:\tlearn: 0.1464697\ttotal: 1.07s\tremaining: 1.95s\n",
      "353:\tlearn: 0.1461742\ttotal: 1.07s\tremaining: 1.95s\n",
      "354:\tlearn: 0.1457557\ttotal: 1.07s\tremaining: 1.95s\n",
      "355:\tlearn: 0.1453730\ttotal: 1.07s\tremaining: 1.94s\n",
      "356:\tlearn: 0.1451034\ttotal: 1.07s\tremaining: 1.94s\n"
     ]
    },
    {
     "name": "stdout",
     "output_type": "stream",
     "text": [
      "357:\tlearn: 0.1446442\ttotal: 1.09s\tremaining: 1.95s\n",
      "358:\tlearn: 0.1444403\ttotal: 1.09s\tremaining: 1.95s\n",
      "359:\tlearn: 0.1442375\ttotal: 1.09s\tremaining: 1.94s\n",
      "360:\tlearn: 0.1438285\ttotal: 1.09s\tremaining: 1.94s\n",
      "361:\tlearn: 0.1434177\ttotal: 1.1s\tremaining: 1.94s\n",
      "362:\tlearn: 0.1431225\ttotal: 1.1s\tremaining: 1.93s\n",
      "363:\tlearn: 0.1428137\ttotal: 1.1s\tremaining: 1.93s\n",
      "364:\tlearn: 0.1425314\ttotal: 1.1s\tremaining: 1.92s\n",
      "365:\tlearn: 0.1420550\ttotal: 1.11s\tremaining: 1.92s\n",
      "366:\tlearn: 0.1419546\ttotal: 1.11s\tremaining: 1.91s\n",
      "367:\tlearn: 0.1416646\ttotal: 1.11s\tremaining: 1.91s\n",
      "368:\tlearn: 0.1414072\ttotal: 1.11s\tremaining: 1.9s\n",
      "369:\tlearn: 0.1410175\ttotal: 1.11s\tremaining: 1.9s\n",
      "370:\tlearn: 0.1407879\ttotal: 1.12s\tremaining: 1.91s\n",
      "371:\tlearn: 0.1407012\ttotal: 1.13s\tremaining: 1.9s\n",
      "372:\tlearn: 0.1404417\ttotal: 1.14s\tremaining: 1.91s\n",
      "373:\tlearn: 0.1401644\ttotal: 1.16s\tremaining: 1.94s\n",
      "374:\tlearn: 0.1400004\ttotal: 1.16s\tremaining: 1.93s\n",
      "375:\tlearn: 0.1395398\ttotal: 1.16s\tremaining: 1.93s\n",
      "376:\tlearn: 0.1391689\ttotal: 1.26s\tremaining: 2.08s\n",
      "377:\tlearn: 0.1390766\ttotal: 1.26s\tremaining: 2.08s\n"
     ]
    },
    {
     "name": "stdout",
     "output_type": "stream",
     "text": [
      "378:\tlearn: 0.1387365\ttotal: 1.26s\tremaining: 2.07s\n",
      "379:\tlearn: 0.1384719\ttotal: 1.27s\tremaining: 2.07s\n",
      "380:\tlearn: 0.1383003\ttotal: 1.27s\tremaining: 2.06s\n",
      "381:\tlearn: 0.1381936\ttotal: 1.27s\tremaining: 2.06s\n",
      "382:\tlearn: 0.1379799\ttotal: 1.28s\tremaining: 2.06s\n",
      "383:\tlearn: 0.1376895\ttotal: 1.28s\tremaining: 2.06s\n",
      "384:\tlearn: 0.1375715\ttotal: 1.29s\tremaining: 2.06s\n",
      "385:\tlearn: 0.1371922\ttotal: 1.29s\tremaining: 2.05s\n",
      "386:\tlearn: 0.1367732\ttotal: 1.29s\tremaining: 2.05s\n",
      "387:\tlearn: 0.1364133\ttotal: 1.29s\tremaining: 2.04s\n",
      "388:\tlearn: 0.1362157\ttotal: 1.3s\tremaining: 2.04s\n",
      "389:\tlearn: 0.1357626\ttotal: 1.3s\tremaining: 2.03s\n",
      "390:\tlearn: 0.1355075\ttotal: 1.3s\tremaining: 2.03s\n",
      "391:\tlearn: 0.1352396\ttotal: 1.31s\tremaining: 2.02s\n",
      "392:\tlearn: 0.1350877\ttotal: 1.31s\tremaining: 2.02s\n",
      "393:\tlearn: 0.1347094\ttotal: 1.31s\tremaining: 2.02s\n",
      "394:\tlearn: 0.1344357\ttotal: 1.32s\tremaining: 2.02s\n",
      "395:\tlearn: 0.1341045\ttotal: 1.32s\tremaining: 2.01s\n",
      "396:\tlearn: 0.1339151\ttotal: 1.32s\tremaining: 2.01s\n",
      "397:\tlearn: 0.1335455\ttotal: 1.33s\tremaining: 2.01s\n",
      "398:\tlearn: 0.1332116\ttotal: 1.33s\tremaining: 2s\n",
      "399:\tlearn: 0.1328040\ttotal: 1.33s\tremaining: 2s\n",
      "400:\tlearn: 0.1325413\ttotal: 1.33s\tremaining: 1.99s\n",
      "401:\tlearn: 0.1322666\ttotal: 1.33s\tremaining: 1.99s\n",
      "402:\tlearn: 0.1317955\ttotal: 1.34s\tremaining: 1.98s\n",
      "403:\tlearn: 0.1315852\ttotal: 1.34s\tremaining: 1.98s\n",
      "404:\tlearn: 0.1312993\ttotal: 1.34s\tremaining: 1.97s\n",
      "405:\tlearn: 0.1310079\ttotal: 1.34s\tremaining: 1.97s\n",
      "406:\tlearn: 0.1307308\ttotal: 1.35s\tremaining: 1.96s\n",
      "407:\tlearn: 0.1306611\ttotal: 1.35s\tremaining: 1.96s\n",
      "408:\tlearn: 0.1304631\ttotal: 1.35s\tremaining: 1.95s\n",
      "409:\tlearn: 0.1303815\ttotal: 1.35s\tremaining: 1.95s\n",
      "410:\tlearn: 0.1299407\ttotal: 1.36s\tremaining: 1.94s\n",
      "411:\tlearn: 0.1298442\ttotal: 1.36s\tremaining: 1.94s\n",
      "412:\tlearn: 0.1295547\ttotal: 1.36s\tremaining: 1.94s\n",
      "413:\tlearn: 0.1293380\ttotal: 1.36s\tremaining: 1.93s\n",
      "414:\tlearn: 0.1292307\ttotal: 1.37s\tremaining: 1.93s\n",
      "415:\tlearn: 0.1290097\ttotal: 1.37s\tremaining: 1.92s\n",
      "416:\tlearn: 0.1285848\ttotal: 1.37s\tremaining: 1.92s\n",
      "417:\tlearn: 0.1283731\ttotal: 1.37s\tremaining: 1.91s\n",
      "418:\tlearn: 0.1282278\ttotal: 1.38s\tremaining: 1.91s\n",
      "419:\tlearn: 0.1278675\ttotal: 1.38s\tremaining: 1.9s\n",
      "420:\tlearn: 0.1277364\ttotal: 1.38s\tremaining: 1.9s\n",
      "421:\tlearn: 0.1274688\ttotal: 1.38s\tremaining: 1.89s\n",
      "422:\tlearn: 0.1271192\ttotal: 1.38s\tremaining: 1.89s\n",
      "423:\tlearn: 0.1268724\ttotal: 1.39s\tremaining: 1.89s\n",
      "424:\tlearn: 0.1264757\ttotal: 1.39s\tremaining: 1.88s\n",
      "425:\tlearn: 0.1261710\ttotal: 1.39s\tremaining: 1.88s\n",
      "426:\tlearn: 0.1257758\ttotal: 1.4s\tremaining: 1.87s\n",
      "427:\tlearn: 0.1255161\ttotal: 1.4s\tremaining: 1.87s\n",
      "428:\tlearn: 0.1252714\ttotal: 1.4s\tremaining: 1.86s\n",
      "429:\tlearn: 0.1251949\ttotal: 1.4s\tremaining: 1.86s\n",
      "430:\tlearn: 0.1248596\ttotal: 1.41s\tremaining: 1.85s\n",
      "431:\tlearn: 0.1245114\ttotal: 1.41s\tremaining: 1.85s\n",
      "432:\tlearn: 0.1243845\ttotal: 1.41s\tremaining: 1.85s\n",
      "433:\tlearn: 0.1240611\ttotal: 1.41s\tremaining: 1.84s\n",
      "434:\tlearn: 0.1238843\ttotal: 1.42s\tremaining: 1.84s\n",
      "435:\tlearn: 0.1236088\ttotal: 1.42s\tremaining: 1.84s\n",
      "436:\tlearn: 0.1235362\ttotal: 1.42s\tremaining: 1.83s\n"
     ]
    },
    {
     "name": "stdout",
     "output_type": "stream",
     "text": [
      "437:\tlearn: 0.1232448\ttotal: 1.43s\tremaining: 1.83s\n",
      "438:\tlearn: 0.1230188\ttotal: 1.43s\tremaining: 1.83s\n",
      "439:\tlearn: 0.1227217\ttotal: 1.43s\tremaining: 1.82s\n",
      "440:\tlearn: 0.1223585\ttotal: 1.43s\tremaining: 1.82s\n",
      "441:\tlearn: 0.1221302\ttotal: 1.44s\tremaining: 1.81s\n",
      "442:\tlearn: 0.1218925\ttotal: 1.44s\tremaining: 1.81s\n",
      "443:\tlearn: 0.1217381\ttotal: 1.45s\tremaining: 1.82s\n",
      "444:\tlearn: 0.1214491\ttotal: 1.45s\tremaining: 1.81s\n",
      "445:\tlearn: 0.1211006\ttotal: 1.46s\tremaining: 1.81s\n",
      "446:\tlearn: 0.1207549\ttotal: 1.46s\tremaining: 1.8s\n",
      "447:\tlearn: 0.1207122\ttotal: 1.46s\tremaining: 1.8s\n",
      "448:\tlearn: 0.1204548\ttotal: 1.46s\tremaining: 1.8s\n",
      "449:\tlearn: 0.1202283\ttotal: 1.47s\tremaining: 1.79s\n",
      "450:\tlearn: 0.1200511\ttotal: 1.47s\tremaining: 1.79s\n",
      "451:\tlearn: 0.1198487\ttotal: 1.47s\tremaining: 1.78s\n",
      "452:\tlearn: 0.1197206\ttotal: 1.47s\tremaining: 1.78s\n",
      "453:\tlearn: 0.1195260\ttotal: 1.48s\tremaining: 1.78s\n",
      "454:\tlearn: 0.1191957\ttotal: 1.48s\tremaining: 1.77s\n",
      "455:\tlearn: 0.1189519\ttotal: 1.48s\tremaining: 1.77s\n",
      "456:\tlearn: 0.1187559\ttotal: 1.5s\tremaining: 1.78s\n",
      "457:\tlearn: 0.1184791\ttotal: 1.5s\tremaining: 1.77s\n",
      "458:\tlearn: 0.1182129\ttotal: 1.5s\tremaining: 1.77s\n",
      "459:\tlearn: 0.1179602\ttotal: 1.5s\tremaining: 1.77s\n",
      "460:\tlearn: 0.1178941\ttotal: 1.51s\tremaining: 1.76s\n",
      "461:\tlearn: 0.1175606\ttotal: 1.51s\tremaining: 1.76s\n",
      "462:\tlearn: 0.1172388\ttotal: 1.51s\tremaining: 1.75s\n",
      "463:\tlearn: 0.1170534\ttotal: 1.51s\tremaining: 1.75s\n",
      "464:\tlearn: 0.1168291\ttotal: 1.51s\tremaining: 1.74s\n",
      "465:\tlearn: 0.1166258\ttotal: 1.52s\tremaining: 1.74s\n",
      "466:\tlearn: 0.1164098\ttotal: 1.52s\tremaining: 1.73s\n",
      "467:\tlearn: 0.1161470\ttotal: 1.52s\tremaining: 1.73s\n",
      "468:\tlearn: 0.1158801\ttotal: 1.52s\tremaining: 1.73s\n",
      "469:\tlearn: 0.1156351\ttotal: 1.53s\tremaining: 1.72s\n",
      "470:\tlearn: 0.1154773\ttotal: 1.54s\tremaining: 1.73s\n",
      "471:\tlearn: 0.1152002\ttotal: 1.54s\tremaining: 1.73s\n",
      "472:\tlearn: 0.1149934\ttotal: 1.54s\tremaining: 1.72s\n",
      "473:\tlearn: 0.1149507\ttotal: 1.55s\tremaining: 1.72s\n",
      "474:\tlearn: 0.1147842\ttotal: 1.55s\tremaining: 1.71s\n",
      "475:\tlearn: 0.1145056\ttotal: 1.55s\tremaining: 1.71s\n",
      "476:\tlearn: 0.1143776\ttotal: 1.55s\tremaining: 1.7s\n",
      "477:\tlearn: 0.1140555\ttotal: 1.56s\tremaining: 1.7s\n",
      "478:\tlearn: 0.1138416\ttotal: 1.56s\tremaining: 1.7s\n",
      "479:\tlearn: 0.1135784\ttotal: 1.56s\tremaining: 1.69s\n",
      "480:\tlearn: 0.1133524\ttotal: 1.56s\tremaining: 1.69s\n",
      "481:\tlearn: 0.1130902\ttotal: 1.57s\tremaining: 1.68s\n",
      "482:\tlearn: 0.1128458\ttotal: 1.57s\tremaining: 1.68s\n",
      "483:\tlearn: 0.1126397\ttotal: 1.57s\tremaining: 1.68s\n",
      "484:\tlearn: 0.1123856\ttotal: 1.58s\tremaining: 1.68s\n",
      "485:\tlearn: 0.1121477\ttotal: 1.58s\tremaining: 1.67s\n",
      "486:\tlearn: 0.1119197\ttotal: 1.58s\tremaining: 1.67s\n",
      "487:\tlearn: 0.1115390\ttotal: 1.59s\tremaining: 1.66s\n",
      "488:\tlearn: 0.1114423\ttotal: 1.59s\tremaining: 1.66s\n",
      "489:\tlearn: 0.1111903\ttotal: 1.59s\tremaining: 1.66s\n",
      "490:\tlearn: 0.1109795\ttotal: 1.59s\tremaining: 1.65s\n",
      "491:\tlearn: 0.1107008\ttotal: 1.59s\tremaining: 1.65s\n",
      "492:\tlearn: 0.1105174\ttotal: 1.6s\tremaining: 1.64s\n",
      "493:\tlearn: 0.1103364\ttotal: 1.6s\tremaining: 1.64s\n",
      "494:\tlearn: 0.1099852\ttotal: 1.6s\tremaining: 1.63s\n"
     ]
    },
    {
     "name": "stdout",
     "output_type": "stream",
     "text": [
      "495:\tlearn: 0.1097156\ttotal: 1.6s\tremaining: 1.63s\n",
      "496:\tlearn: 0.1096626\ttotal: 1.61s\tremaining: 1.63s\n",
      "497:\tlearn: 0.1096265\ttotal: 1.61s\tremaining: 1.62s\n",
      "498:\tlearn: 0.1094691\ttotal: 1.62s\tremaining: 1.62s\n",
      "499:\tlearn: 0.1094268\ttotal: 1.62s\tremaining: 1.62s\n",
      "500:\tlearn: 0.1092341\ttotal: 1.62s\tremaining: 1.61s\n",
      "501:\tlearn: 0.1091824\ttotal: 1.62s\tremaining: 1.61s\n",
      "502:\tlearn: 0.1087911\ttotal: 1.63s\tremaining: 1.61s\n",
      "503:\tlearn: 0.1085551\ttotal: 1.63s\tremaining: 1.6s\n",
      "504:\tlearn: 0.1083403\ttotal: 1.63s\tremaining: 1.6s\n",
      "505:\tlearn: 0.1081631\ttotal: 1.63s\tremaining: 1.59s\n",
      "506:\tlearn: 0.1080244\ttotal: 1.64s\tremaining: 1.59s\n",
      "507:\tlearn: 0.1077664\ttotal: 1.64s\tremaining: 1.59s\n",
      "508:\tlearn: 0.1076286\ttotal: 1.64s\tremaining: 1.58s\n",
      "509:\tlearn: 0.1072927\ttotal: 1.64s\tremaining: 1.58s\n",
      "510:\tlearn: 0.1072423\ttotal: 1.65s\tremaining: 1.57s\n",
      "511:\tlearn: 0.1070020\ttotal: 1.65s\tremaining: 1.57s\n",
      "512:\tlearn: 0.1068125\ttotal: 1.65s\tremaining: 1.57s\n",
      "513:\tlearn: 0.1066103\ttotal: 1.65s\tremaining: 1.56s\n",
      "514:\tlearn: 0.1064411\ttotal: 1.66s\tremaining: 1.56s\n",
      "515:\tlearn: 0.1062665\ttotal: 1.66s\tremaining: 1.55s\n",
      "516:\tlearn: 0.1060626\ttotal: 1.66s\tremaining: 1.55s\n",
      "517:\tlearn: 0.1058953\ttotal: 1.66s\tremaining: 1.55s\n",
      "518:\tlearn: 0.1055492\ttotal: 1.66s\tremaining: 1.54s\n",
      "519:\tlearn: 0.1055317\ttotal: 1.67s\tremaining: 1.54s\n",
      "520:\tlearn: 0.1053192\ttotal: 1.67s\tremaining: 1.53s\n",
      "521:\tlearn: 0.1051245\ttotal: 1.67s\tremaining: 1.53s\n",
      "522:\tlearn: 0.1048557\ttotal: 1.68s\tremaining: 1.53s\n",
      "523:\tlearn: 0.1046962\ttotal: 1.68s\tremaining: 1.52s\n",
      "524:\tlearn: 0.1044126\ttotal: 1.68s\tremaining: 1.52s\n",
      "525:\tlearn: 0.1043324\ttotal: 1.68s\tremaining: 1.52s\n",
      "526:\tlearn: 0.1040286\ttotal: 1.68s\tremaining: 1.51s\n",
      "527:\tlearn: 0.1039454\ttotal: 1.69s\tremaining: 1.51s\n",
      "528:\tlearn: 0.1036265\ttotal: 1.69s\tremaining: 1.5s\n",
      "529:\tlearn: 0.1033657\ttotal: 1.69s\tremaining: 1.5s\n",
      "530:\tlearn: 0.1030893\ttotal: 1.69s\tremaining: 1.5s\n",
      "531:\tlearn: 0.1030427\ttotal: 1.7s\tremaining: 1.49s\n",
      "532:\tlearn: 0.1027860\ttotal: 1.7s\tremaining: 1.49s\n",
      "533:\tlearn: 0.1024663\ttotal: 1.7s\tremaining: 1.49s\n",
      "534:\tlearn: 0.1024025\ttotal: 1.7s\tremaining: 1.48s\n",
      "535:\tlearn: 0.1021748\ttotal: 1.71s\tremaining: 1.48s\n",
      "536:\tlearn: 0.1019474\ttotal: 1.71s\tremaining: 1.47s\n",
      "537:\tlearn: 0.1018294\ttotal: 1.71s\tremaining: 1.47s\n",
      "538:\tlearn: 0.1017922\ttotal: 1.71s\tremaining: 1.47s\n",
      "539:\tlearn: 0.1016327\ttotal: 1.72s\tremaining: 1.46s\n",
      "540:\tlearn: 0.1014826\ttotal: 1.72s\tremaining: 1.46s\n",
      "541:\tlearn: 0.1012551\ttotal: 1.72s\tremaining: 1.45s\n",
      "542:\tlearn: 0.1011663\ttotal: 1.72s\tremaining: 1.45s\n",
      "543:\tlearn: 0.1010583\ttotal: 1.73s\tremaining: 1.45s\n",
      "544:\tlearn: 0.1009429\ttotal: 1.73s\tremaining: 1.44s\n",
      "545:\tlearn: 0.1007309\ttotal: 1.73s\tremaining: 1.44s\n",
      "546:\tlearn: 0.1004466\ttotal: 1.73s\tremaining: 1.43s\n",
      "547:\tlearn: 0.1003891\ttotal: 1.73s\tremaining: 1.43s\n",
      "548:\tlearn: 0.1002729\ttotal: 1.74s\tremaining: 1.43s\n",
      "549:\tlearn: 0.1000683\ttotal: 1.74s\tremaining: 1.42s\n",
      "550:\tlearn: 0.0998842\ttotal: 1.74s\tremaining: 1.42s\n",
      "551:\tlearn: 0.0996797\ttotal: 1.74s\tremaining: 1.42s\n",
      "552:\tlearn: 0.0994714\ttotal: 1.75s\tremaining: 1.41s\n",
      "553:\tlearn: 0.0992654\ttotal: 1.75s\tremaining: 1.41s\n",
      "554:\tlearn: 0.0990314\ttotal: 1.75s\tremaining: 1.4s\n",
      "555:\tlearn: 0.0988436\ttotal: 1.75s\tremaining: 1.4s\n",
      "556:\tlearn: 0.0986622\ttotal: 1.76s\tremaining: 1.4s\n",
      "557:\tlearn: 0.0984672\ttotal: 1.76s\tremaining: 1.39s\n",
      "558:\tlearn: 0.0983350\ttotal: 1.76s\tremaining: 1.39s\n",
      "559:\tlearn: 0.0981182\ttotal: 1.76s\tremaining: 1.39s\n",
      "560:\tlearn: 0.0979916\ttotal: 1.76s\tremaining: 1.38s\n",
      "561:\tlearn: 0.0978828\ttotal: 1.77s\tremaining: 1.38s\n",
      "562:\tlearn: 0.0978306\ttotal: 1.77s\tremaining: 1.37s\n",
      "563:\tlearn: 0.0976317\ttotal: 1.77s\tremaining: 1.37s\n",
      "564:\tlearn: 0.0974339\ttotal: 1.77s\tremaining: 1.37s\n"
     ]
    },
    {
     "name": "stdout",
     "output_type": "stream",
     "text": [
      "565:\tlearn: 0.0973041\ttotal: 1.78s\tremaining: 1.36s\n",
      "566:\tlearn: 0.0970251\ttotal: 1.78s\tremaining: 1.36s\n",
      "567:\tlearn: 0.0969195\ttotal: 1.78s\tremaining: 1.35s\n",
      "568:\tlearn: 0.0968787\ttotal: 1.78s\tremaining: 1.35s\n",
      "569:\tlearn: 0.0966570\ttotal: 1.79s\tremaining: 1.35s\n",
      "570:\tlearn: 0.0964220\ttotal: 1.79s\tremaining: 1.34s\n",
      "571:\tlearn: 0.0962651\ttotal: 1.79s\tremaining: 1.34s\n",
      "572:\tlearn: 0.0960902\ttotal: 1.79s\tremaining: 1.34s\n",
      "573:\tlearn: 0.0958235\ttotal: 1.8s\tremaining: 1.33s\n",
      "574:\tlearn: 0.0957053\ttotal: 1.8s\tremaining: 1.33s\n",
      "575:\tlearn: 0.0955415\ttotal: 1.8s\tremaining: 1.32s\n",
      "576:\tlearn: 0.0953161\ttotal: 1.8s\tremaining: 1.32s\n",
      "577:\tlearn: 0.0951097\ttotal: 1.8s\tremaining: 1.32s\n",
      "578:\tlearn: 0.0950672\ttotal: 1.81s\tremaining: 1.31s\n",
      "579:\tlearn: 0.0948136\ttotal: 1.81s\tremaining: 1.31s\n",
      "580:\tlearn: 0.0945877\ttotal: 1.81s\tremaining: 1.31s\n",
      "581:\tlearn: 0.0943375\ttotal: 1.82s\tremaining: 1.31s\n",
      "582:\tlearn: 0.0940907\ttotal: 1.82s\tremaining: 1.3s\n",
      "583:\tlearn: 0.0939492\ttotal: 1.82s\tremaining: 1.3s\n",
      "584:\tlearn: 0.0938185\ttotal: 1.83s\tremaining: 1.3s\n",
      "585:\tlearn: 0.0936369\ttotal: 1.83s\tremaining: 1.29s\n",
      "586:\tlearn: 0.0934078\ttotal: 1.83s\tremaining: 1.29s\n",
      "587:\tlearn: 0.0931583\ttotal: 1.83s\tremaining: 1.28s\n",
      "588:\tlearn: 0.0929685\ttotal: 1.84s\tremaining: 1.28s\n",
      "589:\tlearn: 0.0929478\ttotal: 1.84s\tremaining: 1.28s\n",
      "590:\tlearn: 0.0927577\ttotal: 1.84s\tremaining: 1.27s\n",
      "591:\tlearn: 0.0924168\ttotal: 1.84s\tremaining: 1.27s\n",
      "592:\tlearn: 0.0922829\ttotal: 1.85s\tremaining: 1.27s\n",
      "593:\tlearn: 0.0920954\ttotal: 1.85s\tremaining: 1.26s\n",
      "594:\tlearn: 0.0918654\ttotal: 1.85s\tremaining: 1.26s\n",
      "595:\tlearn: 0.0918157\ttotal: 1.85s\tremaining: 1.26s\n",
      "596:\tlearn: 0.0916159\ttotal: 1.86s\tremaining: 1.25s\n",
      "597:\tlearn: 0.0914388\ttotal: 1.86s\tremaining: 1.25s\n",
      "598:\tlearn: 0.0911730\ttotal: 1.86s\tremaining: 1.25s\n",
      "599:\tlearn: 0.0910607\ttotal: 1.87s\tremaining: 1.24s\n",
      "600:\tlearn: 0.0909197\ttotal: 1.87s\tremaining: 1.24s\n",
      "601:\tlearn: 0.0908024\ttotal: 1.88s\tremaining: 1.25s\n",
      "602:\tlearn: 0.0907087\ttotal: 1.89s\tremaining: 1.24s\n",
      "603:\tlearn: 0.0905382\ttotal: 1.89s\tremaining: 1.24s\n",
      "604:\tlearn: 0.0903660\ttotal: 1.9s\tremaining: 1.24s\n",
      "605:\tlearn: 0.0902771\ttotal: 1.9s\tremaining: 1.23s\n",
      "606:\tlearn: 0.0900993\ttotal: 1.9s\tremaining: 1.23s\n",
      "607:\tlearn: 0.0900373\ttotal: 1.9s\tremaining: 1.23s\n",
      "608:\tlearn: 0.0898352\ttotal: 1.91s\tremaining: 1.22s\n",
      "609:\tlearn: 0.0896346\ttotal: 1.91s\tremaining: 1.22s\n",
      "610:\tlearn: 0.0895110\ttotal: 1.91s\tremaining: 1.22s\n",
      "611:\tlearn: 0.0893878\ttotal: 1.91s\tremaining: 1.21s\n",
      "612:\tlearn: 0.0892530\ttotal: 1.92s\tremaining: 1.21s\n",
      "613:\tlearn: 0.0890832\ttotal: 1.92s\tremaining: 1.21s\n",
      "614:\tlearn: 0.0889224\ttotal: 1.92s\tremaining: 1.2s\n",
      "615:\tlearn: 0.0887515\ttotal: 1.92s\tremaining: 1.2s\n",
      "616:\tlearn: 0.0884989\ttotal: 1.93s\tremaining: 1.2s\n",
      "617:\tlearn: 0.0884418\ttotal: 1.93s\tremaining: 1.19s\n",
      "618:\tlearn: 0.0883204\ttotal: 1.93s\tremaining: 1.19s\n",
      "619:\tlearn: 0.0880456\ttotal: 1.94s\tremaining: 1.19s\n",
      "620:\tlearn: 0.0879252\ttotal: 1.94s\tremaining: 1.18s\n",
      "621:\tlearn: 0.0877470\ttotal: 1.94s\tremaining: 1.18s\n",
      "622:\tlearn: 0.0874648\ttotal: 1.94s\tremaining: 1.18s\n"
     ]
    },
    {
     "name": "stdout",
     "output_type": "stream",
     "text": [
      "623:\tlearn: 0.0874304\ttotal: 1.95s\tremaining: 1.17s\n",
      "624:\tlearn: 0.0871925\ttotal: 1.95s\tremaining: 1.17s\n",
      "625:\tlearn: 0.0869817\ttotal: 1.95s\tremaining: 1.17s\n",
      "626:\tlearn: 0.0867544\ttotal: 1.95s\tremaining: 1.16s\n",
      "627:\tlearn: 0.0865822\ttotal: 1.96s\tremaining: 1.16s\n",
      "628:\tlearn: 0.0864359\ttotal: 1.96s\tremaining: 1.16s\n",
      "629:\tlearn: 0.0862895\ttotal: 1.96s\tremaining: 1.15s\n",
      "630:\tlearn: 0.0861381\ttotal: 1.96s\tremaining: 1.15s\n",
      "631:\tlearn: 0.0859512\ttotal: 1.97s\tremaining: 1.14s\n",
      "632:\tlearn: 0.0858428\ttotal: 1.97s\tremaining: 1.14s\n",
      "633:\tlearn: 0.0856816\ttotal: 1.97s\tremaining: 1.14s\n",
      "634:\tlearn: 0.0856329\ttotal: 1.98s\tremaining: 1.14s\n",
      "635:\tlearn: 0.0855542\ttotal: 1.98s\tremaining: 1.14s\n",
      "636:\tlearn: 0.0853848\ttotal: 1.99s\tremaining: 1.13s\n",
      "637:\tlearn: 0.0851972\ttotal: 1.99s\tremaining: 1.13s\n",
      "638:\tlearn: 0.0849543\ttotal: 1.99s\tremaining: 1.13s\n",
      "639:\tlearn: 0.0847495\ttotal: 1.99s\tremaining: 1.12s\n",
      "640:\tlearn: 0.0847084\ttotal: 2s\tremaining: 1.12s\n",
      "641:\tlearn: 0.0845271\ttotal: 2s\tremaining: 1.12s\n",
      "642:\tlearn: 0.0843735\ttotal: 2s\tremaining: 1.11s\n",
      "643:\tlearn: 0.0841983\ttotal: 2.01s\tremaining: 1.11s\n",
      "644:\tlearn: 0.0839895\ttotal: 2.01s\tremaining: 1.11s\n",
      "645:\tlearn: 0.0838401\ttotal: 2.01s\tremaining: 1.1s\n",
      "646:\tlearn: 0.0837140\ttotal: 2.02s\tremaining: 1.1s\n",
      "647:\tlearn: 0.0836357\ttotal: 2.02s\tremaining: 1.1s\n",
      "648:\tlearn: 0.0834539\ttotal: 2.02s\tremaining: 1.09s\n",
      "649:\tlearn: 0.0832799\ttotal: 2.02s\tremaining: 1.09s\n",
      "650:\tlearn: 0.0831460\ttotal: 2.02s\tremaining: 1.08s\n",
      "651:\tlearn: 0.0829651\ttotal: 2.03s\tremaining: 1.08s\n",
      "652:\tlearn: 0.0827842\ttotal: 2.03s\tremaining: 1.08s\n",
      "653:\tlearn: 0.0826625\ttotal: 2.03s\tremaining: 1.07s\n",
      "654:\tlearn: 0.0825522\ttotal: 2.04s\tremaining: 1.07s\n",
      "655:\tlearn: 0.0824604\ttotal: 2.04s\tremaining: 1.07s\n",
      "656:\tlearn: 0.0822510\ttotal: 2.05s\tremaining: 1.07s\n",
      "657:\tlearn: 0.0820815\ttotal: 2.05s\tremaining: 1.07s\n",
      "658:\tlearn: 0.0818641\ttotal: 2.06s\tremaining: 1.06s\n",
      "659:\tlearn: 0.0818134\ttotal: 2.06s\tremaining: 1.06s\n",
      "660:\tlearn: 0.0816259\ttotal: 2.06s\tremaining: 1.06s\n",
      "661:\tlearn: 0.0814815\ttotal: 2.06s\tremaining: 1.05s\n",
      "662:\tlearn: 0.0813296\ttotal: 2.06s\tremaining: 1.05s\n",
      "663:\tlearn: 0.0811857\ttotal: 2.07s\tremaining: 1.05s\n",
      "664:\tlearn: 0.0809885\ttotal: 2.07s\tremaining: 1.04s\n",
      "665:\tlearn: 0.0809714\ttotal: 2.07s\tremaining: 1.04s\n",
      "666:\tlearn: 0.0809071\ttotal: 2.08s\tremaining: 1.04s\n",
      "667:\tlearn: 0.0807277\ttotal: 2.08s\tremaining: 1.03s\n",
      "668:\tlearn: 0.0805994\ttotal: 2.08s\tremaining: 1.03s\n",
      "669:\tlearn: 0.0804322\ttotal: 2.09s\tremaining: 1.03s\n"
     ]
    },
    {
     "name": "stdout",
     "output_type": "stream",
     "text": [
      "670:\tlearn: 0.0803440\ttotal: 2.09s\tremaining: 1.02s\n",
      "671:\tlearn: 0.0803038\ttotal: 2.09s\tremaining: 1.02s\n",
      "672:\tlearn: 0.0801955\ttotal: 2.09s\tremaining: 1.02s\n",
      "673:\tlearn: 0.0799750\ttotal: 2.1s\tremaining: 1.01s\n",
      "674:\tlearn: 0.0798191\ttotal: 2.1s\tremaining: 1.01s\n",
      "675:\tlearn: 0.0796976\ttotal: 2.1s\tremaining: 1.01s\n",
      "676:\tlearn: 0.0795935\ttotal: 2.1s\tremaining: 1s\n",
      "677:\tlearn: 0.0795623\ttotal: 2.11s\tremaining: 1s\n",
      "678:\tlearn: 0.0793651\ttotal: 2.11s\tremaining: 997ms\n",
      "679:\tlearn: 0.0792379\ttotal: 2.11s\tremaining: 993ms\n",
      "680:\tlearn: 0.0792161\ttotal: 2.11s\tremaining: 990ms\n",
      "681:\tlearn: 0.0790928\ttotal: 2.12s\tremaining: 986ms\n",
      "682:\tlearn: 0.0789309\ttotal: 2.12s\tremaining: 983ms\n",
      "683:\tlearn: 0.0788325\ttotal: 2.12s\tremaining: 980ms\n",
      "684:\tlearn: 0.0787428\ttotal: 2.12s\tremaining: 976ms\n",
      "685:\tlearn: 0.0787166\ttotal: 2.12s\tremaining: 973ms\n",
      "686:\tlearn: 0.0785915\ttotal: 2.13s\tremaining: 969ms\n",
      "687:\tlearn: 0.0784129\ttotal: 2.13s\tremaining: 966ms\n",
      "688:\tlearn: 0.0783220\ttotal: 2.13s\tremaining: 962ms\n",
      "689:\tlearn: 0.0782231\ttotal: 2.13s\tremaining: 959ms\n",
      "690:\tlearn: 0.0780537\ttotal: 2.14s\tremaining: 955ms\n",
      "691:\tlearn: 0.0779829\ttotal: 2.14s\tremaining: 952ms\n",
      "692:\tlearn: 0.0778125\ttotal: 2.14s\tremaining: 949ms\n",
      "693:\tlearn: 0.0776534\ttotal: 2.14s\tremaining: 945ms\n",
      "694:\tlearn: 0.0774932\ttotal: 2.15s\tremaining: 942ms\n",
      "695:\tlearn: 0.0773931\ttotal: 2.15s\tremaining: 938ms\n",
      "696:\tlearn: 0.0773584\ttotal: 2.15s\tremaining: 935ms\n",
      "697:\tlearn: 0.0771640\ttotal: 2.15s\tremaining: 931ms\n",
      "698:\tlearn: 0.0771157\ttotal: 2.15s\tremaining: 928ms\n",
      "699:\tlearn: 0.0769564\ttotal: 2.16s\tremaining: 925ms\n",
      "700:\tlearn: 0.0769192\ttotal: 2.16s\tremaining: 921ms\n",
      "701:\tlearn: 0.0768021\ttotal: 2.16s\tremaining: 918ms\n",
      "702:\tlearn: 0.0766157\ttotal: 2.16s\tremaining: 914ms\n",
      "703:\tlearn: 0.0765364\ttotal: 2.17s\tremaining: 911ms\n",
      "704:\tlearn: 0.0764001\ttotal: 2.17s\tremaining: 907ms\n",
      "705:\tlearn: 0.0763296\ttotal: 2.17s\tremaining: 904ms\n",
      "706:\tlearn: 0.0762295\ttotal: 2.17s\tremaining: 901ms\n",
      "707:\tlearn: 0.0760255\ttotal: 2.17s\tremaining: 897ms\n",
      "708:\tlearn: 0.0758723\ttotal: 2.18s\tremaining: 894ms\n",
      "709:\tlearn: 0.0757246\ttotal: 2.18s\tremaining: 891ms\n",
      "710:\tlearn: 0.0756670\ttotal: 2.18s\tremaining: 887ms\n",
      "711:\tlearn: 0.0755358\ttotal: 2.19s\tremaining: 884ms\n",
      "712:\tlearn: 0.0755249\ttotal: 2.19s\tremaining: 880ms\n",
      "713:\tlearn: 0.0754507\ttotal: 2.19s\tremaining: 877ms\n",
      "714:\tlearn: 0.0752674\ttotal: 2.19s\tremaining: 874ms\n",
      "715:\tlearn: 0.0751307\ttotal: 2.19s\tremaining: 870ms\n",
      "716:\tlearn: 0.0750438\ttotal: 2.2s\tremaining: 867ms\n",
      "717:\tlearn: 0.0749898\ttotal: 2.2s\tremaining: 864ms\n",
      "718:\tlearn: 0.0749016\ttotal: 2.2s\tremaining: 860ms\n",
      "719:\tlearn: 0.0748486\ttotal: 2.2s\tremaining: 857ms\n",
      "720:\tlearn: 0.0746576\ttotal: 2.21s\tremaining: 854ms\n",
      "721:\tlearn: 0.0745204\ttotal: 2.21s\tremaining: 850ms\n",
      "722:\tlearn: 0.0743631\ttotal: 2.21s\tremaining: 847ms\n",
      "723:\tlearn: 0.0742343\ttotal: 2.21s\tremaining: 844ms\n",
      "724:\tlearn: 0.0740837\ttotal: 2.21s\tremaining: 840ms\n",
      "725:\tlearn: 0.0739210\ttotal: 2.22s\tremaining: 837ms\n",
      "726:\tlearn: 0.0738043\ttotal: 2.22s\tremaining: 834ms\n",
      "727:\tlearn: 0.0737537\ttotal: 2.22s\tremaining: 830ms\n",
      "728:\tlearn: 0.0736623\ttotal: 2.23s\tremaining: 827ms\n",
      "729:\tlearn: 0.0734922\ttotal: 2.23s\tremaining: 824ms\n",
      "730:\tlearn: 0.0733674\ttotal: 2.25s\tremaining: 827ms\n",
      "731:\tlearn: 0.0732111\ttotal: 2.25s\tremaining: 826ms\n",
      "732:\tlearn: 0.0730840\ttotal: 2.26s\tremaining: 822ms\n",
      "733:\tlearn: 0.0729603\ttotal: 2.26s\tremaining: 819ms\n",
      "734:\tlearn: 0.0728491\ttotal: 2.26s\tremaining: 816ms\n",
      "735:\tlearn: 0.0727569\ttotal: 2.26s\tremaining: 812ms\n"
     ]
    },
    {
     "name": "stdout",
     "output_type": "stream",
     "text": [
      "736:\tlearn: 0.0726670\ttotal: 2.27s\tremaining: 809ms\n",
      "737:\tlearn: 0.0725675\ttotal: 2.27s\tremaining: 806ms\n",
      "738:\tlearn: 0.0723989\ttotal: 2.27s\tremaining: 802ms\n",
      "739:\tlearn: 0.0722667\ttotal: 2.27s\tremaining: 799ms\n",
      "740:\tlearn: 0.0721901\ttotal: 2.27s\tremaining: 795ms\n",
      "741:\tlearn: 0.0720005\ttotal: 2.28s\tremaining: 792ms\n",
      "742:\tlearn: 0.0719324\ttotal: 2.28s\tremaining: 789ms\n",
      "743:\tlearn: 0.0718465\ttotal: 2.28s\tremaining: 785ms\n",
      "744:\tlearn: 0.0718013\ttotal: 2.28s\tremaining: 782ms\n",
      "745:\tlearn: 0.0716799\ttotal: 2.29s\tremaining: 779ms\n",
      "746:\tlearn: 0.0716324\ttotal: 2.29s\tremaining: 775ms\n",
      "747:\tlearn: 0.0715058\ttotal: 2.29s\tremaining: 772ms\n",
      "748:\tlearn: 0.0713799\ttotal: 2.29s\tremaining: 769ms\n",
      "749:\tlearn: 0.0712477\ttotal: 2.29s\tremaining: 765ms\n",
      "750:\tlearn: 0.0712112\ttotal: 2.3s\tremaining: 762ms\n",
      "751:\tlearn: 0.0710692\ttotal: 2.3s\tremaining: 759ms\n",
      "752:\tlearn: 0.0709099\ttotal: 2.3s\tremaining: 755ms\n",
      "753:\tlearn: 0.0707846\ttotal: 2.31s\tremaining: 752ms\n",
      "754:\tlearn: 0.0706704\ttotal: 2.31s\tremaining: 749ms\n",
      "755:\tlearn: 0.0705307\ttotal: 2.31s\tremaining: 745ms\n",
      "756:\tlearn: 0.0703970\ttotal: 2.31s\tremaining: 742ms\n",
      "757:\tlearn: 0.0702667\ttotal: 2.31s\tremaining: 739ms\n",
      "758:\tlearn: 0.0701079\ttotal: 2.32s\tremaining: 736ms\n",
      "759:\tlearn: 0.0700101\ttotal: 2.32s\tremaining: 732ms\n",
      "760:\tlearn: 0.0698858\ttotal: 2.32s\tremaining: 729ms\n",
      "761:\tlearn: 0.0697854\ttotal: 2.32s\tremaining: 726ms\n",
      "762:\tlearn: 0.0696009\ttotal: 2.33s\tremaining: 723ms\n",
      "763:\tlearn: 0.0694392\ttotal: 2.33s\tremaining: 719ms\n",
      "764:\tlearn: 0.0693076\ttotal: 2.33s\tremaining: 716ms\n",
      "765:\tlearn: 0.0692052\ttotal: 2.33s\tremaining: 713ms\n",
      "766:\tlearn: 0.0690516\ttotal: 2.33s\tremaining: 709ms\n",
      "767:\tlearn: 0.0689276\ttotal: 2.34s\tremaining: 706ms\n",
      "768:\tlearn: 0.0688890\ttotal: 2.34s\tremaining: 703ms\n",
      "769:\tlearn: 0.0687802\ttotal: 2.34s\tremaining: 700ms\n",
      "770:\tlearn: 0.0687052\ttotal: 2.35s\tremaining: 697ms\n",
      "771:\tlearn: 0.0686500\ttotal: 2.35s\tremaining: 693ms\n",
      "772:\tlearn: 0.0685976\ttotal: 2.35s\tremaining: 690ms\n",
      "773:\tlearn: 0.0685312\ttotal: 2.35s\tremaining: 687ms\n",
      "774:\tlearn: 0.0685125\ttotal: 2.35s\tremaining: 684ms\n",
      "775:\tlearn: 0.0684019\ttotal: 2.36s\tremaining: 681ms\n",
      "776:\tlearn: 0.0683214\ttotal: 2.36s\tremaining: 677ms\n",
      "777:\tlearn: 0.0682995\ttotal: 2.36s\tremaining: 674ms\n",
      "778:\tlearn: 0.0682303\ttotal: 2.36s\tremaining: 671ms\n",
      "779:\tlearn: 0.0681561\ttotal: 2.37s\tremaining: 667ms\n",
      "780:\tlearn: 0.0680811\ttotal: 2.37s\tremaining: 664ms\n",
      "781:\tlearn: 0.0679732\ttotal: 2.37s\tremaining: 661ms\n",
      "782:\tlearn: 0.0678676\ttotal: 2.37s\tremaining: 658ms\n",
      "783:\tlearn: 0.0677516\ttotal: 2.38s\tremaining: 655ms\n",
      "784:\tlearn: 0.0675711\ttotal: 2.38s\tremaining: 651ms\n",
      "785:\tlearn: 0.0674891\ttotal: 2.38s\tremaining: 648ms\n",
      "786:\tlearn: 0.0674506\ttotal: 2.38s\tremaining: 645ms\n",
      "787:\tlearn: 0.0674066\ttotal: 2.38s\tremaining: 642ms\n",
      "788:\tlearn: 0.0673055\ttotal: 2.39s\tremaining: 639ms\n",
      "789:\tlearn: 0.0672045\ttotal: 2.39s\tremaining: 636ms\n",
      "790:\tlearn: 0.0671098\ttotal: 2.39s\tremaining: 633ms\n",
      "791:\tlearn: 0.0670019\ttotal: 2.4s\tremaining: 629ms\n",
      "792:\tlearn: 0.0668853\ttotal: 2.4s\tremaining: 626ms\n",
      "793:\tlearn: 0.0668094\ttotal: 2.4s\tremaining: 623ms\n",
      "794:\tlearn: 0.0667108\ttotal: 2.4s\tremaining: 620ms\n",
      "795:\tlearn: 0.0665785\ttotal: 2.4s\tremaining: 617ms\n",
      "796:\tlearn: 0.0664062\ttotal: 2.41s\tremaining: 613ms\n",
      "797:\tlearn: 0.0663581\ttotal: 2.41s\tremaining: 610ms\n",
      "798:\tlearn: 0.0662079\ttotal: 2.41s\tremaining: 607ms\n",
      "799:\tlearn: 0.0660828\ttotal: 2.41s\tremaining: 604ms\n",
      "800:\tlearn: 0.0659634\ttotal: 2.42s\tremaining: 601ms\n",
      "801:\tlearn: 0.0657834\ttotal: 2.42s\tremaining: 597ms\n",
      "802:\tlearn: 0.0656660\ttotal: 2.42s\tremaining: 594ms\n",
      "803:\tlearn: 0.0655411\ttotal: 2.42s\tremaining: 591ms\n",
      "804:\tlearn: 0.0654522\ttotal: 2.43s\tremaining: 588ms\n",
      "805:\tlearn: 0.0653172\ttotal: 2.43s\tremaining: 585ms\n",
      "806:\tlearn: 0.0651552\ttotal: 2.43s\tremaining: 581ms\n",
      "807:\tlearn: 0.0650519\ttotal: 2.43s\tremaining: 578ms\n",
      "808:\tlearn: 0.0649286\ttotal: 2.44s\tremaining: 575ms\n",
      "809:\tlearn: 0.0647997\ttotal: 2.44s\tremaining: 572ms\n"
     ]
    },
    {
     "name": "stdout",
     "output_type": "stream",
     "text": [
      "810:\tlearn: 0.0647217\ttotal: 2.44s\tremaining: 569ms\n",
      "811:\tlearn: 0.0645567\ttotal: 2.44s\tremaining: 566ms\n",
      "812:\tlearn: 0.0644255\ttotal: 2.45s\tremaining: 563ms\n",
      "813:\tlearn: 0.0643292\ttotal: 2.45s\tremaining: 560ms\n",
      "814:\tlearn: 0.0643062\ttotal: 2.45s\tremaining: 556ms\n",
      "815:\tlearn: 0.0642600\ttotal: 2.45s\tremaining: 553ms\n",
      "816:\tlearn: 0.0642011\ttotal: 2.46s\tremaining: 550ms\n",
      "817:\tlearn: 0.0641378\ttotal: 2.46s\tremaining: 547ms\n",
      "818:\tlearn: 0.0640351\ttotal: 2.46s\tremaining: 544ms\n",
      "819:\tlearn: 0.0638977\ttotal: 2.46s\tremaining: 541ms\n",
      "820:\tlearn: 0.0637761\ttotal: 2.46s\tremaining: 538ms\n",
      "821:\tlearn: 0.0636804\ttotal: 2.47s\tremaining: 534ms\n",
      "822:\tlearn: 0.0636674\ttotal: 2.47s\tremaining: 531ms\n",
      "823:\tlearn: 0.0635974\ttotal: 2.47s\tremaining: 528ms\n",
      "824:\tlearn: 0.0634300\ttotal: 2.47s\tremaining: 525ms\n",
      "825:\tlearn: 0.0633374\ttotal: 2.48s\tremaining: 522ms\n",
      "826:\tlearn: 0.0632076\ttotal: 2.48s\tremaining: 519ms\n",
      "827:\tlearn: 0.0630867\ttotal: 2.48s\tremaining: 516ms\n",
      "828:\tlearn: 0.0629820\ttotal: 2.48s\tremaining: 512ms\n",
      "829:\tlearn: 0.0628563\ttotal: 2.48s\tremaining: 509ms\n",
      "830:\tlearn: 0.0627435\ttotal: 2.49s\tremaining: 506ms\n",
      "831:\tlearn: 0.0625702\ttotal: 2.49s\tremaining: 503ms\n",
      "832:\tlearn: 0.0624569\ttotal: 2.49s\tremaining: 500ms\n",
      "833:\tlearn: 0.0623540\ttotal: 2.49s\tremaining: 497ms\n",
      "834:\tlearn: 0.0622387\ttotal: 2.5s\tremaining: 493ms\n",
      "835:\tlearn: 0.0621483\ttotal: 2.5s\tremaining: 490ms\n",
      "836:\tlearn: 0.0620881\ttotal: 2.5s\tremaining: 487ms\n",
      "837:\tlearn: 0.0619410\ttotal: 2.5s\tremaining: 484ms\n",
      "838:\tlearn: 0.0617995\ttotal: 2.51s\tremaining: 481ms\n",
      "839:\tlearn: 0.0617784\ttotal: 2.51s\tremaining: 478ms\n",
      "840:\tlearn: 0.0617478\ttotal: 2.51s\tremaining: 475ms\n",
      "841:\tlearn: 0.0617119\ttotal: 2.51s\tremaining: 471ms\n",
      "842:\tlearn: 0.0616855\ttotal: 2.51s\tremaining: 468ms\n",
      "843:\tlearn: 0.0616474\ttotal: 2.52s\tremaining: 465ms\n",
      "844:\tlearn: 0.0616007\ttotal: 2.52s\tremaining: 462ms\n",
      "845:\tlearn: 0.0615550\ttotal: 2.52s\tremaining: 459ms\n",
      "846:\tlearn: 0.0614487\ttotal: 2.52s\tremaining: 456ms\n",
      "847:\tlearn: 0.0613748\ttotal: 2.53s\tremaining: 453ms\n",
      "848:\tlearn: 0.0612296\ttotal: 2.53s\tremaining: 450ms\n",
      "849:\tlearn: 0.0611217\ttotal: 2.53s\tremaining: 447ms\n",
      "850:\tlearn: 0.0610735\ttotal: 2.53s\tremaining: 444ms\n",
      "851:\tlearn: 0.0609837\ttotal: 2.54s\tremaining: 440ms\n",
      "852:\tlearn: 0.0608759\ttotal: 2.54s\tremaining: 437ms\n",
      "853:\tlearn: 0.0608654\ttotal: 2.54s\tremaining: 434ms\n",
      "854:\tlearn: 0.0607910\ttotal: 2.54s\tremaining: 431ms\n",
      "855:\tlearn: 0.0607526\ttotal: 2.54s\tremaining: 428ms\n",
      "856:\tlearn: 0.0607063\ttotal: 2.55s\tremaining: 425ms\n",
      "857:\tlearn: 0.0606123\ttotal: 2.55s\tremaining: 422ms\n",
      "858:\tlearn: 0.0604937\ttotal: 2.55s\tremaining: 419ms\n",
      "859:\tlearn: 0.0604191\ttotal: 2.55s\tremaining: 416ms\n",
      "860:\tlearn: 0.0603862\ttotal: 2.56s\tremaining: 413ms\n",
      "861:\tlearn: 0.0603645\ttotal: 2.56s\tremaining: 410ms\n",
      "862:\tlearn: 0.0602613\ttotal: 2.56s\tremaining: 407ms\n",
      "863:\tlearn: 0.0601360\ttotal: 2.56s\tremaining: 404ms\n",
      "864:\tlearn: 0.0601238\ttotal: 2.56s\tremaining: 400ms\n",
      "865:\tlearn: 0.0599762\ttotal: 2.57s\tremaining: 397ms\n",
      "866:\tlearn: 0.0598149\ttotal: 2.57s\tremaining: 394ms\n",
      "867:\tlearn: 0.0597503\ttotal: 2.57s\tremaining: 391ms\n",
      "868:\tlearn: 0.0596788\ttotal: 2.58s\tremaining: 388ms\n",
      "869:\tlearn: 0.0596397\ttotal: 2.58s\tremaining: 385ms\n",
      "870:\tlearn: 0.0595707\ttotal: 2.58s\tremaining: 382ms\n",
      "871:\tlearn: 0.0594990\ttotal: 2.58s\tremaining: 379ms\n",
      "872:\tlearn: 0.0594716\ttotal: 2.58s\tremaining: 376ms\n",
      "873:\tlearn: 0.0593867\ttotal: 2.58s\tremaining: 373ms\n",
      "874:\tlearn: 0.0593709\ttotal: 2.59s\tremaining: 370ms\n",
      "875:\tlearn: 0.0593177\ttotal: 2.59s\tremaining: 367ms\n",
      "876:\tlearn: 0.0592906\ttotal: 2.59s\tremaining: 364ms\n",
      "877:\tlearn: 0.0592107\ttotal: 2.59s\tremaining: 360ms\n",
      "878:\tlearn: 0.0591529\ttotal: 2.6s\tremaining: 357ms\n",
      "879:\tlearn: 0.0591431\ttotal: 2.6s\tremaining: 354ms\n",
      "880:\tlearn: 0.0591294\ttotal: 2.6s\tremaining: 351ms\n",
      "881:\tlearn: 0.0589947\ttotal: 2.6s\tremaining: 348ms\n",
      "882:\tlearn: 0.0588156\ttotal: 2.61s\tremaining: 345ms\n",
      "883:\tlearn: 0.0587159\ttotal: 2.61s\tremaining: 342ms\n",
      "884:\tlearn: 0.0586902\ttotal: 2.61s\tremaining: 339ms\n",
      "885:\tlearn: 0.0586577\ttotal: 2.61s\tremaining: 336ms\n"
     ]
    },
    {
     "name": "stdout",
     "output_type": "stream",
     "text": [
      "886:\tlearn: 0.0585755\ttotal: 2.62s\tremaining: 333ms\n",
      "887:\tlearn: 0.0584745\ttotal: 2.62s\tremaining: 330ms\n",
      "888:\tlearn: 0.0583256\ttotal: 2.62s\tremaining: 327ms\n",
      "889:\tlearn: 0.0582974\ttotal: 2.62s\tremaining: 324ms\n",
      "890:\tlearn: 0.0581627\ttotal: 2.63s\tremaining: 321ms\n",
      "891:\tlearn: 0.0580793\ttotal: 2.63s\tremaining: 318ms\n",
      "892:\tlearn: 0.0579181\ttotal: 2.63s\tremaining: 315ms\n",
      "893:\tlearn: 0.0578628\ttotal: 2.63s\tremaining: 312ms\n",
      "894:\tlearn: 0.0577925\ttotal: 2.63s\tremaining: 309ms\n",
      "895:\tlearn: 0.0577664\ttotal: 2.64s\tremaining: 306ms\n",
      "896:\tlearn: 0.0576660\ttotal: 2.64s\tremaining: 303ms\n",
      "897:\tlearn: 0.0576542\ttotal: 2.64s\tremaining: 300ms\n",
      "898:\tlearn: 0.0575173\ttotal: 2.64s\tremaining: 297ms\n",
      "899:\tlearn: 0.0574784\ttotal: 2.65s\tremaining: 294ms\n",
      "900:\tlearn: 0.0574293\ttotal: 2.65s\tremaining: 291ms\n",
      "901:\tlearn: 0.0573116\ttotal: 2.65s\tremaining: 288ms\n",
      "902:\tlearn: 0.0571834\ttotal: 2.65s\tremaining: 285ms\n",
      "903:\tlearn: 0.0571331\ttotal: 2.66s\tremaining: 282ms\n",
      "904:\tlearn: 0.0570380\ttotal: 2.66s\tremaining: 279ms\n",
      "905:\tlearn: 0.0569812\ttotal: 2.66s\tremaining: 276ms\n",
      "906:\tlearn: 0.0568671\ttotal: 2.66s\tremaining: 273ms\n",
      "907:\tlearn: 0.0567977\ttotal: 2.67s\tremaining: 270ms\n",
      "908:\tlearn: 0.0566705\ttotal: 2.67s\tremaining: 267ms\n",
      "909:\tlearn: 0.0566105\ttotal: 2.67s\tremaining: 264ms\n",
      "910:\tlearn: 0.0565829\ttotal: 2.67s\tremaining: 261ms\n",
      "911:\tlearn: 0.0564574\ttotal: 2.67s\tremaining: 258ms\n",
      "912:\tlearn: 0.0563897\ttotal: 2.68s\tremaining: 255ms\n",
      "913:\tlearn: 0.0563785\ttotal: 2.68s\tremaining: 252ms\n",
      "914:\tlearn: 0.0562722\ttotal: 2.68s\tremaining: 249ms\n",
      "915:\tlearn: 0.0561530\ttotal: 2.68s\tremaining: 246ms\n",
      "916:\tlearn: 0.0560276\ttotal: 2.69s\tremaining: 243ms\n",
      "917:\tlearn: 0.0559577\ttotal: 2.69s\tremaining: 240ms\n",
      "918:\tlearn: 0.0558881\ttotal: 2.69s\tremaining: 237ms\n",
      "919:\tlearn: 0.0558221\ttotal: 2.69s\tremaining: 234ms\n",
      "920:\tlearn: 0.0556901\ttotal: 2.7s\tremaining: 231ms\n",
      "921:\tlearn: 0.0555866\ttotal: 2.7s\tremaining: 228ms\n",
      "922:\tlearn: 0.0554989\ttotal: 2.7s\tremaining: 225ms\n",
      "923:\tlearn: 0.0553751\ttotal: 2.7s\tremaining: 222ms\n",
      "924:\tlearn: 0.0552293\ttotal: 2.71s\tremaining: 219ms\n",
      "925:\tlearn: 0.0550947\ttotal: 2.71s\tremaining: 216ms\n",
      "926:\tlearn: 0.0550008\ttotal: 2.71s\tremaining: 213ms\n",
      "927:\tlearn: 0.0548553\ttotal: 2.71s\tremaining: 210ms\n",
      "928:\tlearn: 0.0548305\ttotal: 2.71s\tremaining: 207ms\n",
      "929:\tlearn: 0.0547742\ttotal: 2.72s\tremaining: 204ms\n",
      "930:\tlearn: 0.0547392\ttotal: 2.72s\tremaining: 202ms\n",
      "931:\tlearn: 0.0546765\ttotal: 2.72s\tremaining: 199ms\n",
      "932:\tlearn: 0.0546045\ttotal: 2.72s\tremaining: 196ms\n",
      "933:\tlearn: 0.0545596\ttotal: 2.73s\tremaining: 193ms\n",
      "934:\tlearn: 0.0544925\ttotal: 2.73s\tremaining: 190ms\n",
      "935:\tlearn: 0.0544303\ttotal: 2.73s\tremaining: 187ms\n",
      "936:\tlearn: 0.0543810\ttotal: 2.73s\tremaining: 184ms\n",
      "937:\tlearn: 0.0542926\ttotal: 2.73s\tremaining: 181ms\n",
      "938:\tlearn: 0.0542028\ttotal: 2.74s\tremaining: 178ms\n",
      "939:\tlearn: 0.0541792\ttotal: 2.74s\tremaining: 175ms\n",
      "940:\tlearn: 0.0541225\ttotal: 2.74s\tremaining: 172ms\n",
      "941:\tlearn: 0.0539993\ttotal: 2.74s\tremaining: 169ms\n",
      "942:\tlearn: 0.0538850\ttotal: 2.75s\tremaining: 166ms\n",
      "943:\tlearn: 0.0538454\ttotal: 2.75s\tremaining: 163ms\n",
      "944:\tlearn: 0.0537259\ttotal: 2.75s\tremaining: 160ms\n",
      "945:\tlearn: 0.0537044\ttotal: 2.75s\tremaining: 157ms\n",
      "946:\tlearn: 0.0536098\ttotal: 2.75s\tremaining: 154ms\n",
      "947:\tlearn: 0.0535104\ttotal: 2.76s\tremaining: 151ms\n",
      "948:\tlearn: 0.0534803\ttotal: 2.76s\tremaining: 148ms\n",
      "949:\tlearn: 0.0533726\ttotal: 2.76s\tremaining: 145ms\n",
      "950:\tlearn: 0.0533074\ttotal: 2.76s\tremaining: 142ms\n",
      "951:\tlearn: 0.0532005\ttotal: 2.77s\tremaining: 140ms\n",
      "952:\tlearn: 0.0531562\ttotal: 2.77s\tremaining: 137ms\n",
      "953:\tlearn: 0.0530560\ttotal: 2.77s\tremaining: 134ms\n",
      "954:\tlearn: 0.0529868\ttotal: 2.77s\tremaining: 131ms\n",
      "955:\tlearn: 0.0529064\ttotal: 2.78s\tremaining: 128ms\n",
      "956:\tlearn: 0.0528060\ttotal: 2.78s\tremaining: 125ms\n",
      "957:\tlearn: 0.0527664\ttotal: 2.78s\tremaining: 122ms\n",
      "958:\tlearn: 0.0527018\ttotal: 2.79s\tremaining: 119ms\n"
     ]
    },
    {
     "name": "stdout",
     "output_type": "stream",
     "text": [
      "959:\tlearn: 0.0526771\ttotal: 2.79s\tremaining: 116ms\n",
      "960:\tlearn: 0.0526231\ttotal: 2.79s\tremaining: 113ms\n",
      "961:\tlearn: 0.0525107\ttotal: 2.8s\tremaining: 110ms\n",
      "962:\tlearn: 0.0524899\ttotal: 2.8s\tremaining: 108ms\n",
      "963:\tlearn: 0.0524129\ttotal: 2.8s\tremaining: 105ms\n",
      "964:\tlearn: 0.0522905\ttotal: 2.8s\tremaining: 102ms\n",
      "965:\tlearn: 0.0522548\ttotal: 2.81s\tremaining: 98.8ms\n",
      "966:\tlearn: 0.0521102\ttotal: 2.81s\tremaining: 95.9ms\n",
      "967:\tlearn: 0.0520319\ttotal: 2.81s\tremaining: 92.9ms\n",
      "968:\tlearn: 0.0519421\ttotal: 2.81s\tremaining: 90ms\n",
      "969:\tlearn: 0.0519157\ttotal: 2.82s\tremaining: 87.1ms\n",
      "970:\tlearn: 0.0518304\ttotal: 2.82s\tremaining: 84.2ms\n",
      "971:\tlearn: 0.0518189\ttotal: 2.82s\tremaining: 81.3ms\n",
      "972:\tlearn: 0.0517206\ttotal: 2.82s\tremaining: 78.4ms\n",
      "973:\tlearn: 0.0516015\ttotal: 2.83s\tremaining: 75.5ms\n",
      "974:\tlearn: 0.0515203\ttotal: 2.83s\tremaining: 72.6ms\n",
      "975:\tlearn: 0.0514209\ttotal: 2.83s\tremaining: 69.6ms\n",
      "976:\tlearn: 0.0513958\ttotal: 2.83s\tremaining: 66.7ms\n",
      "977:\tlearn: 0.0513089\ttotal: 2.84s\tremaining: 63.8ms\n",
      "978:\tlearn: 0.0512201\ttotal: 2.84s\tremaining: 60.9ms\n",
      "979:\tlearn: 0.0512092\ttotal: 2.84s\tremaining: 58ms\n",
      "980:\tlearn: 0.0511593\ttotal: 2.84s\tremaining: 55.1ms\n",
      "981:\tlearn: 0.0510595\ttotal: 2.85s\tremaining: 52.2ms\n",
      "982:\tlearn: 0.0509712\ttotal: 2.85s\tremaining: 49.3ms\n",
      "983:\tlearn: 0.0508559\ttotal: 2.85s\tremaining: 46.4ms\n",
      "984:\tlearn: 0.0508271\ttotal: 2.86s\tremaining: 43.5ms\n",
      "985:\tlearn: 0.0507502\ttotal: 2.86s\tremaining: 40.6ms\n",
      "986:\tlearn: 0.0506875\ttotal: 2.87s\tremaining: 37.8ms\n",
      "987:\tlearn: 0.0506222\ttotal: 2.87s\tremaining: 34.8ms\n",
      "988:\tlearn: 0.0505862\ttotal: 2.87s\tremaining: 31.9ms\n",
      "989:\tlearn: 0.0505121\ttotal: 2.87s\tremaining: 29ms\n",
      "990:\tlearn: 0.0504467\ttotal: 2.88s\tremaining: 26.1ms\n",
      "991:\tlearn: 0.0503992\ttotal: 2.88s\tremaining: 23.2ms\n",
      "992:\tlearn: 0.0503020\ttotal: 2.88s\tremaining: 20.3ms\n",
      "993:\tlearn: 0.0501649\ttotal: 2.88s\tremaining: 17.4ms\n",
      "994:\tlearn: 0.0501123\ttotal: 2.88s\tremaining: 14.5ms\n",
      "995:\tlearn: 0.0500415\ttotal: 2.89s\tremaining: 11.6ms\n",
      "996:\tlearn: 0.0499350\ttotal: 2.89s\tremaining: 8.69ms\n",
      "997:\tlearn: 0.0498202\ttotal: 2.89s\tremaining: 5.79ms\n",
      "998:\tlearn: 0.0497318\ttotal: 2.9s\tremaining: 2.9ms\n",
      "999:\tlearn: 0.0496811\ttotal: 2.9s\tremaining: 0us\n"
     ]
    },
    {
     "data": {
      "text/plain": [
       "<catboost.core.CatBoostRegressor at 0x7ff6cb82a730>"
      ]
     },
     "execution_count": 9,
     "metadata": {},
     "output_type": "execute_result"
    }
   ],
   "source": [
    "#Train the Model \n",
    "prior_model = ctb.CatBoostRegressor()\n",
    "prior_model.fit(X_train,Y_train)"
   ]
  },
  {
   "cell_type": "code",
   "execution_count": 10,
   "id": "af65dcda",
   "metadata": {
    "execution": {
     "iopub.execute_input": "2022-07-22T19:04:24.404431Z",
     "iopub.status.busy": "2022-07-22T19:04:24.403876Z",
     "iopub.status.idle": "2022-07-22T19:04:24.440644Z",
     "shell.execute_reply": "2022-07-22T19:04:24.439992Z"
    },
    "id": "af65dcda",
    "papermill": {
     "duration": 0.057622,
     "end_time": "2022-07-22T19:04:24.444050",
     "exception": false,
     "start_time": "2022-07-22T19:04:24.386428",
     "status": "completed"
    },
    "tags": []
   },
   "outputs": [
    {
     "data": {
      "application/scrapbook.scrap.json+json": {
       "data": 0.0634991629323815,
       "encoder": "json",
       "name": "Prior Model MSE",
       "version": 1
      }
     },
     "metadata": {
      "scrapbook": {
       "data": true,
       "display": false,
       "name": "Prior Model MSE"
      }
     },
     "output_type": "display_data"
    },
    {
     "data": {
      "application/scrapbook.scrap.json+json": {
       "data": 0.0631159502797801,
       "encoder": "json",
       "name": "ABC Pre-generator MSE",
       "version": 1
      }
     },
     "metadata": {
      "scrapbook": {
       "data": true,
       "display": false,
       "name": "ABC Pre-generator MSE"
      }
     },
     "output_type": "display_data"
    },
    {
     "data": {
      "application/scrapbook.scrap.json+json": {
       "data": 0.19927230794372686,
       "encoder": "json",
       "name": "Prior Model MAE",
       "version": 1
      }
     },
     "metadata": {
      "scrapbook": {
       "data": true,
       "display": false,
       "name": "Prior Model MAE"
      }
     },
     "output_type": "display_data"
    },
    {
     "name": "stdout",
     "output_type": "stream",
     "text": [
      "Prior Model MAE 0.19927230794372686\n",
      "ABC Pre-generator MAE 0.19716287127766863\n"
     ]
    }
   ],
   "source": [
    "y_pred = prior_model.predict(X_test)\n",
    "y_abc = y_pred + np.random.normal(0,variance, y_pred.shape) + bias \n",
    "mse = mean_squared_error(y_pred,Y_test)\n",
    "sb.glue(\"Prior Model MSE\",mse)\n",
    "mse = mean_squared_error(y_abc,Y_test)\n",
    "sb.glue(\"ABC Pre-generator MSE\",mse)\n",
    "mae = mean_absolute_error(y_pred,Y_test)\n",
    "sb.glue(\"Prior Model MAE\",mae)\n",
    "print(\"Prior Model MAE\",mae)\n",
    "mae = mean_absolute_error(y_abc,Y_test)\n",
    "print(\"ABC Pre-generator MAE\",mae)"
   ]
  },
  {
   "cell_type": "markdown",
   "id": "25609da2",
   "metadata": {
    "papermill": {
     "duration": 0.013152,
     "end_time": "2022-07-22T19:04:24.468392",
     "exception": false,
     "start_time": "2022-07-22T19:04:24.455240",
     "status": "completed"
    },
    "tags": []
   },
   "source": [
    "# mGAN Model"
   ]
  },
  {
   "cell_type": "code",
   "execution_count": 11,
   "id": "dfc3464d",
   "metadata": {
    "execution": {
     "iopub.execute_input": "2022-07-22T19:04:24.516842Z",
     "iopub.status.busy": "2022-07-22T19:04:24.515981Z",
     "iopub.status.idle": "2022-07-22T19:04:24.522725Z",
     "shell.execute_reply": "2022-07-22T19:04:24.521810Z"
    },
    "papermill": {
     "duration": 0.032094,
     "end_time": "2022-07-22T19:04:24.525838",
     "exception": false,
     "start_time": "2022-07-22T19:04:24.493744",
     "status": "completed"
    },
    "tags": []
   },
   "outputs": [],
   "source": [
    "# gen = network.Generator(n_features+1).to(device)\n",
    "# disc = network.Discriminator(n_features+1).to(device)\n",
    "\n",
    "# criterion = torch.nn.BCELoss()\n",
    "# gen_opt = torch.optim.Adam(gen.parameters(), lr=0.01, betas=(0.5, 0.999))\n",
    "# disc_opt = torch.optim.Adam(disc.parameters(), lr=0.01, betas=(0.5, 0.999))"
   ]
  },
  {
   "cell_type": "code",
   "execution_count": 12,
   "id": "b75fdd85",
   "metadata": {
    "execution": {
     "iopub.execute_input": "2022-07-22T19:04:24.550654Z",
     "iopub.status.busy": "2022-07-22T19:04:24.550315Z",
     "iopub.status.idle": "2022-07-22T19:04:24.555297Z",
     "shell.execute_reply": "2022-07-22T19:04:24.553846Z"
    },
    "papermill": {
     "duration": 0.050504,
     "end_time": "2022-07-22T19:04:24.588344",
     "exception": false,
     "start_time": "2022-07-22T19:04:24.537840",
     "status": "completed"
    },
    "tags": []
   },
   "outputs": [],
   "source": [
    "#Training the ABC_GAN \n",
    "# ABC_train_test2.training_GAN(disc,gen,disc_opt,gen_opt,train_data,batch_size,n_epochs,criterion,prior_model,variance,bias,device)"
   ]
  },
  {
   "cell_type": "code",
   "execution_count": 13,
   "id": "1fa7c368",
   "metadata": {
    "execution": {
     "iopub.execute_input": "2022-07-22T19:04:24.620300Z",
     "iopub.status.busy": "2022-07-22T19:04:24.619926Z",
     "iopub.status.idle": "2022-07-22T19:04:24.635875Z",
     "shell.execute_reply": "2022-07-22T19:04:24.632400Z"
    },
    "papermill": {
     "duration": 0.036867,
     "end_time": "2022-07-22T19:04:24.639660",
     "exception": false,
     "start_time": "2022-07-22T19:04:24.602793",
     "status": "completed"
    },
    "tags": []
   },
   "outputs": [],
   "source": [
    "# ABC_GAN1_metrics=ABC_train_test2.test_generator(gen,test_data,prior_model,variance,bias,\"1\",device)\n",
    "# sb.glue(\"ABC_GAN_1 Metrics\",ABC_GAN1_metrics)\n",
    "\n",
    "# print(\"MAE\")\n",
    "# print(mean(ABC_GAN1_metrics[1]))"
   ]
  },
  {
   "cell_type": "code",
   "execution_count": 14,
   "id": "eb22ce5c",
   "metadata": {
    "execution": {
     "iopub.execute_input": "2022-07-22T19:04:24.665605Z",
     "iopub.status.busy": "2022-07-22T19:04:24.665092Z",
     "iopub.status.idle": "2022-07-22T19:04:24.670172Z",
     "shell.execute_reply": "2022-07-22T19:04:24.669171Z"
    },
    "papermill": {
     "duration": 0.022469,
     "end_time": "2022-07-22T19:04:24.673365",
     "exception": false,
     "start_time": "2022-07-22T19:04:24.650896",
     "status": "completed"
    },
    "tags": []
   },
   "outputs": [],
   "source": [
    "# sanityChecks.discProbVsError(train_data,disc,device)\n",
    "# sanityChecks.discProbVsError(test_data,disc,device)"
   ]
  },
  {
   "cell_type": "markdown",
   "id": "e13edfbe",
   "metadata": {
    "papermill": {
     "duration": 0.010667,
     "end_time": "2022-07-22T19:04:24.695895",
     "exception": false,
     "start_time": "2022-07-22T19:04:24.685228",
     "status": "completed"
    },
    "tags": []
   },
   "source": [
    "# mGAN Model with TabNet Generator"
   ]
  },
  {
   "cell_type": "code",
   "execution_count": 15,
   "id": "1bc8be7e",
   "metadata": {
    "execution": {
     "iopub.execute_input": "2022-07-22T19:04:24.730915Z",
     "iopub.status.busy": "2022-07-22T19:04:24.730597Z",
     "iopub.status.idle": "2022-07-22T19:04:24.749033Z",
     "shell.execute_reply": "2022-07-22T19:04:24.748200Z"
    },
    "papermill": {
     "duration": 0.044198,
     "end_time": "2022-07-22T19:04:24.751734",
     "exception": false,
     "start_time": "2022-07-22T19:04:24.707536",
     "status": "completed"
    },
    "tags": []
   },
   "outputs": [],
   "source": [
    "gen2 = network.GeneratorTabnet(n_features+1).to(device)\n",
    "disc2 = network.Discriminator(n_features+1).to(device)\n",
    "\n",
    "criterion = torch.nn.BCELoss()\n",
    "gen_opt = torch.optim.Adam(gen2.parameters(), lr=0.01, betas=(0.5, 0.999))\n",
    "disc_opt = torch.optim.Adam(disc2.parameters(), lr=0.01, betas=(0.5, 0.999))"
   ]
  },
  {
   "cell_type": "code",
   "execution_count": 16,
   "id": "7b9d50af",
   "metadata": {
    "execution": {
     "iopub.execute_input": "2022-07-22T19:04:24.776730Z",
     "iopub.status.busy": "2022-07-22T19:04:24.776423Z",
     "iopub.status.idle": "2022-07-22T19:14:59.500091Z",
     "shell.execute_reply": "2022-07-22T19:14:59.498336Z"
    },
    "papermill": {
     "duration": 634.742305,
     "end_time": "2022-07-22T19:14:59.505213",
     "exception": false,
     "start_time": "2022-07-22T19:04:24.762908",
     "status": "completed"
    },
    "tags": []
   },
   "outputs": [
    {
     "data": {
      "image/png": "[encoded data removed]",
      "text/plain": [
       "<Figure size 432x288 with 1 Axes>"
      ]
     },
     "metadata": {
      "needs_background": "light"
     },
     "output_type": "display_data"
    },
    {
     "data": {
      "image/png": "[encoded data removed]",
      "text/plain": [
       "<Figure size 432x288 with 1 Axes>"
      ]
     },
     "metadata": {
      "needs_background": "light"
     },
     "output_type": "display_data"
    }
   ],
   "source": [
    "#Training the ABC_GAN \n",
    "ABC_train_test2.training_GAN(disc2,gen2,disc_opt,gen_opt,train_data,batch_size,n_epochs,criterion,prior_model,variance,bias,device)"
   ]
  },
  {
   "cell_type": "code",
   "execution_count": 17,
   "id": "3bb9eb65",
   "metadata": {
    "execution": {
     "iopub.execute_input": "2022-07-22T19:14:59.550392Z",
     "iopub.status.busy": "2022-07-22T19:14:59.549805Z",
     "iopub.status.idle": "2022-07-22T19:15:01.511521Z",
     "shell.execute_reply": "2022-07-22T19:15:01.507891Z"
    },
    "papermill": {
     "duration": 1.994824,
     "end_time": "2022-07-22T19:15:01.515237",
     "exception": false,
     "start_time": "2022-07-22T19:14:59.520413",
     "status": "completed"
    },
    "tags": []
   },
   "outputs": [
    {
     "data": {
      "application/scrapbook.scrap.json+json": {
       "data": 0.06850181703961093,
       "encoder": "json",
       "name": "ABC-GAN Model 1 MSE",
       "version": 1
      }
     },
     "metadata": {
      "scrapbook": {
       "data": true,
       "display": false,
       "name": "ABC-GAN Model 1 MSE"
      }
     },
     "output_type": "display_data"
    },
    {
     "data": {
      "application/scrapbook.scrap.json+json": {
       "data": 0.20696058660033434,
       "encoder": "json",
       "name": "ABC-GAN Model 1 MAE",
       "version": 1
      }
     },
     "metadata": {
      "scrapbook": {
       "data": true,
       "display": false,
       "name": "ABC-GAN Model 1 MAE"
      }
     },
     "output_type": "display_data"
    },
    {
     "data": {
      "application/scrapbook.scrap.json+json": {
       "data": 21.109979833234103,
       "encoder": "json",
       "name": "ABC-GAN Model 1 Manhattan Distance",
       "version": 1
      }
     },
     "metadata": {
      "scrapbook": {
       "data": true,
       "display": false,
       "name": "ABC-GAN Model 1 Manhattan Distance"
      }
     },
     "output_type": "display_data"
    },
    {
     "data": {
      "application/scrapbook.scrap.json+json": {
       "data": 2.642244382191894,
       "encoder": "json",
       "name": "ABC-GAN Model 1 Euclidean distance",
       "version": 1
      }
     },
     "metadata": {
      "scrapbook": {
       "data": true,
       "display": false,
       "name": "ABC-GAN Model 1 Euclidean distance"
      }
     },
     "output_type": "display_data"
    },
    {
     "data": {
      "application/scrapbook.scrap.json+json": {
       "data": [
        [
         0.07382576795407586,
         0.06940952976558647,
         0.06628519139618348,
         0.0691320808519789,
         0.07666686719853572,
         0.07318314838704976,
         0.07124971771186288,
         0.07170788676291999,
         0.06574197320367654,
         0.07037833796937608,
         0.06591620923891087,
         0.07329436892985952,
         0.06722040866603653,
         0.06587104354258928,
         0.07225325348936311,
         0.06544668400370092,
         0.0721597828538407,
         0.06283395773137174,
         0.0674572112303322,
         0.07238828846417944,
         0.0739022962268389,
         0.06822151060530429,
         0.06499971400968715,
         0.06303116198688982,
         0.06610496443975471,
         0.06691654443198147,
         0.06786794517264823,
         0.07092500388735863,
         0.06761083364728444,
         0.07342903992688235,
         0.07782531201923404,
         0.07343208198851943,
         0.060950052774494334,
         0.06335284096094797,
         0.06956841531284763,
         0.0619952580988307,
         0.06723338567639886,
         0.06552430663987632,
         0.06440033736250475,
         0.06890877005611484,
         0.06357231518866216,
         0.06643426262371667,
         0.06359363769759112,
         0.06637822590377997,
         0.07245298195701505,
         0.06503174419404889,
         0.07296644814293438,
         0.07020781928111033,
         0.06945463032920929,
         0.06697154875649626,
         0.07276921844080865,
         0.06387498429624293,
         0.06608403503300977,
         0.0641765872090892,
         0.06525760655604292,
         0.06569137697510748,
         0.06880936119235875,
         0.07765541155951108,
         0.06679537219912983,
         0.06354818020739858,
         0.06619251537799271,
         0.06665250017367927,
         0.07465326238231007,
         0.0697978399751156,
         0.06756701942500361,
         0.07793987243156643,
         0.07261506734301353,
         0.06597688896865915,
         0.06623209897489558,
         0.06433558707723482,
         0.06855919045481887,
         0.07352386248484014,
         0.06412125022559233,
         0.06644005328551081,
         0.07477506424328795,
         0.06959290658260758,
         0.06586658111102438,
         0.06399464036404855,
         0.06814823967736475,
         0.06615015261460286,
         0.0659168018054253,
         0.06864678434150731,
         0.06057994673299905,
         0.07335288676071842,
         0.06530227535027013,
         0.07054656672100248,
         0.06814377265487145,
         0.06740598521475863,
         0.07220415677152378,
         0.07412424491381515,
         0.06665813386072843,
         0.07370272724413415,
         0.07204119474305055,
         0.06987434466488301,
         0.06596476639364637,
         0.06256709061188906,
         0.06941793045589392,
         0.06623501573153537,
         0.06889262236234381,
         0.07512263113383581
        ],
        [
         0.22231622883027383,
         0.2090008450471157,
         0.20544093977842554,
         0.20558713569178008,
         0.22986860546812998,
         0.21481342671219916,
         0.2134371332952059,
         0.21342906818779953,
         0.2023695304387194,
         0.21488704600864472,
         0.2077718267819899,
         0.2150803650546746,
         0.20347066416277312,
         0.20357444088942572,
         0.20887162473381443,
         0.19825405703273183,
         0.21563168493665608,
         0.19792881406222781,
         0.2083389952906645,
         0.21567536367322593,
         0.22075718293404756,
         0.20931730590139827,
         0.19832050441490376,
         0.2045167094626117,
         0.20716082497372054,
         0.19701692826278946,
         0.20258815702525715,
         0.20866939899347284,
         0.20612140586964933,
         0.21201084323190883,
         0.21913936598153383,
         0.21386423925230025,
         0.19543761550905367,
         0.19725620574043953,
         0.20838374106724764,
         0.19058112689640885,
         0.20034863481152,
         0.2004331262946567,
         0.20106617349437347,
         0.20834025582663862,
         0.1936773409719999,
         0.20933979653808124,
         0.19983405513031519,
         0.20350615383472806,
         0.21288858429875737,
         0.2033207936157637,
         0.21587665480397203,
         0.20502633969390802,
         0.21296923497107392,
         0.20058771634620487,
         0.21600182218404085,
         0.19646791860862983,
         0.19939422975385598,
         0.19641089361781874,
         0.1978096676278202,
         0.20541237290108613,
         0.2074928086378849,
         0.21571517066445714,
         0.2077494765741422,
         0.20190906008778542,
         0.1989633229780285,
         0.20371362116808692,
         0.2173948076407553,
         0.2033114567965123,
         0.2044233069755137,
         0.2191572451105743,
         0.21371594629268728,
         0.20133659710158028,
         0.2009799818910074,
         0.19913481324728505,
         0.20626693462733836,
         0.21402545056908445,
         0.20342167089784555,
         0.19958307333838413,
         0.22119829280521064,
         0.21042240432043577,
         0.20517039593930045,
         0.20066678986939437,
         0.20834452946506002,
         0.20201488919373528,
         0.19471782032290802,
         0.21288931474783548,
         0.19529834246335953,
         0.21358807175876757,
         0.20256982381254726,
         0.21306418893201387,
         0.20797160109870283,
         0.20091562837764038,
         0.21348901358706987,
         0.21240422468376802,
         0.20585128755363472,
         0.21902431506553993,
         0.21509337354926208,
         0.20671753242940588,
         0.20304244869005153,
         0.19838372847138375,
         0.2090940640088828,
         0.208943330874557,
         0.20702279230360598,
         0.21426459419194097
        ],
        [
         22.67625534068793,
         21.3180861948058,
         20.954975857399404,
         20.96988784056157,
         23.44659775774926,
         21.910969524644315,
         21.770587596111,
         21.76976495515555,
         20.64169210474938,
         21.918478692881763,
         21.19272633176297,
         21.93819723557681,
         20.75400774460286,
         20.764592970721424,
         21.30490572284907,
         20.221913817338645,
         21.99443186353892,
         20.188739034347236,
         21.250577519647777,
         21.998887094669044,
         22.51723265927285,
         21.350365201942623,
         20.228691450320184,
         20.860704365186393,
         21.130404147319496,
         20.095726682804525,
         20.66399201657623,
         21.28427869733423,
         21.02438339870423,
         21.6251060096547,
         22.35221533011645,
         21.814152403734624,
         19.934636781923473,
         20.120132985524833,
         21.25514158885926,
         19.439274943433702,
         20.43556075077504,
         20.444178882054985,
         20.508749696426094,
         21.250706094317138,
         19.75508877914399,
         21.352659246884286,
         20.383073623292148,
         20.75762769114226,
         21.71463559847325,
         20.738720948807895,
         22.019418790005147,
         20.912686648778617,
         21.72286196704954,
         20.459947067312896,
         22.032185862772167,
         20.03972769808024,
         20.33821143489331,
         20.033911149017513,
         20.17658609803766,
         20.952062035910785,
         21.16426648106426,
         22.002947407774627,
         21.190446610562503,
         20.594724128954113,
         20.294258943758905,
         20.778789359144866,
         22.17427037935704,
         20.737768593244255,
         20.851177311502397,
         22.35403900127858,
         21.799026521854103,
         20.53633290436119,
         20.499958152882755,
         20.311750951223075,
         21.039227331988513,
         21.830595958046615,
         20.749010431580245,
         20.357473480515182,
         22.562225866131485,
         21.46308524068445,
         20.927380385808647,
         20.468012566678226,
         21.251142005436122,
         20.605518697761,
         19.86121767293662,
         21.71471010427922,
         19.920430931262672,
         21.78598331939429,
         20.66212202887982,
         21.732547271065414,
         21.213103312067688,
         20.493394094519317,
         21.775879385881126,
         21.66523091774434,
         20.99683133047074,
         22.340480136685073,
         21.939524102024734,
         21.0851883077994,
         20.710329766385257,
         20.235140304081142,
         21.327594528906047,
         21.312219749204814,
         21.11632481496781,
         21.85498860757798
        ],
        [
         2.7441261507656196,
         2.660784101743285,
         2.600209515098873,
         2.655460835128594,
         2.7964299480320696,
         2.7321568650937804,
         2.6958247729795075,
         2.7044785911184133,
         2.5895330209856384,
         2.6792891730599666,
         2.592962271682507,
         2.73423218305353,
         2.618488434944047,
         2.5920737723575895,
         2.714743423588137,
         2.583710852316391,
         2.71298688737925,
         2.531612863097341,
         2.623096556647102,
         2.717279047750949,
         2.7455480719043273,
         2.6379147222268267,
         2.574872973369384,
         2.5355824819285138,
         2.5966721727732556,
         2.612563402496121,
         2.631070201953973,
         2.6896747752303773,
         2.6260816879950655,
         2.73674296793506,
         2.8174779193388315,
         2.736799657049997,
         2.493372291295149,
         2.5420444091354293,
         2.663827765061108,
         2.514660280451562,
         2.6187411744944713,
         2.585242595438073,
         2.5629737437155855,
         2.651168524580004,
         2.5464438240894967,
         2.6031317269049405,
         2.5468708340146136,
         2.602033635867445,
         2.7184929942185865,
         2.575507310762869,
         2.72810881575118,
         2.6760413985350175,
         2.6616484165981324,
         2.613636924510101,
         2.7244192557245084,
         2.5524984619420983,
         2.5962610757331395,
         2.558517519058077,
         2.5799759434375305,
         2.5885363531271803,
         2.649255525920554,
         2.814400820613533,
         2.610196920600291,
         2.545960404475029,
         2.5983911500301984,
         2.6074038846552496,
         2.759462404707777,
         2.6682165724434346,
         2.6252306529808704,
         2.8195508486317067,
         2.721532081197534,
         2.5941554839298346,
         2.599167962144684,
         2.561684969288369,
         2.644435180977504,
         2.7385094437400963,
         2.5574142259341595,
         2.6032451738401634,
         2.761712612277999,
         2.6642966185141574,
         2.591985970896541,
         2.5548881222341127,
         2.636497761632125,
         2.59755954054753,
         2.5929739266242886,
         2.6461239583273017,
         2.4857905315544797,
         2.735323463430473,
         2.580858788412794,
         2.6824894791111955,
         2.6364113508322045,
         2.622100396991957,
         2.7138209208964814,
         2.7496677946997794,
         2.60751407547386,
         2.741838466960022,
         2.7107566957938434,
         2.6696784742395603,
         2.5939171482820975,
         2.526231035042655,
         2.6609451152741164,
         2.5992251931328703,
         2.650857876416438,
         2.7681236200089137
        ]
       ],
       "encoder": "json",
       "name": "ABC_GAN_2 Metrics",
       "version": 1
      }
     },
     "metadata": {
      "scrapbook": {
       "data": true,
       "display": false,
       "name": "ABC_GAN_2 Metrics"
      }
     },
     "output_type": "display_data"
    },
    {
     "name": "stdout",
     "output_type": "stream",
     "text": [
      "MAE\n",
      "0.20696058660033434\n"
     ]
    }
   ],
   "source": [
    "ABC_GAN2_metrics=ABC_train_test2.test_generator(gen2,test_data,prior_model,variance,bias,\"1\",device)\n",
    "sb.glue(\"ABC_GAN_2 Metrics\",ABC_GAN2_metrics)\n",
    "\n",
    "print(\"MAE\")\n",
    "print(mean(ABC_GAN2_metrics[1]))"
   ]
  },
  {
   "cell_type": "code",
   "execution_count": 18,
   "id": "15341f1c",
   "metadata": {
    "execution": {
     "iopub.execute_input": "2022-07-22T19:15:01.562679Z",
     "iopub.status.busy": "2022-07-22T19:15:01.560397Z",
     "iopub.status.idle": "2022-07-22T19:15:02.511385Z",
     "shell.execute_reply": "2022-07-22T19:15:02.509021Z"
    },
    "papermill": {
     "duration": 0.987618,
     "end_time": "2022-07-22T19:15:02.518497",
     "exception": false,
     "start_time": "2022-07-22T19:15:01.530879",
     "status": "completed"
    },
    "tags": []
   },
   "outputs": [
    {
     "data": {
      "image/png": "[encoded data removed]",
      "text/plain": [
       "<Figure size 432x288 with 1 Axes>"
      ]
     },
     "metadata": {
      "needs_background": "light"
     },
     "output_type": "display_data"
    },
    {
     "data": {
      "image/png": "[encoded data removed]",
      "text/plain": [
       "<Figure size 432x288 with 1 Axes>"
      ]
     },
     "metadata": {
      "needs_background": "light"
     },
     "output_type": "display_data"
    },
    {
     "data": {
      "image/png": "[encoded data removed]",
      "text/plain": [
       "<Figure size 432x288 with 1 Axes>"
      ]
     },
     "metadata": {
      "needs_background": "light"
     },
     "output_type": "display_data"
    },
    {
     "data": {
      "image/png": "[encoded data removed]",
      "text/plain": [
       "<Figure size 432x288 with 1 Axes>"
      ]
     },
     "metadata": {
      "needs_background": "light"
     },
     "output_type": "display_data"
    }
   ],
   "source": [
    "sanityChecks.discProbVsError(train_data,disc2,device)\n",
    "sanityChecks.discProbVsError(test_data,disc2,device)"
   ]
  },
  {
   "cell_type": "markdown",
   "id": "130f3a4d",
   "metadata": {
    "id": "130f3a4d",
    "papermill": {
     "duration": 0.021214,
     "end_time": "2022-07-22T19:15:02.563718",
     "exception": false,
     "start_time": "2022-07-22T19:15:02.542504",
     "status": "completed"
    },
    "tags": []
   },
   "source": [
    "# skipGAN Model"
   ]
  },
  {
   "cell_type": "code",
   "execution_count": 19,
   "id": "4e43dad1",
   "metadata": {
    "execution": {
     "iopub.execute_input": "2022-07-22T19:15:02.656114Z",
     "iopub.status.busy": "2022-07-22T19:15:02.650409Z",
     "iopub.status.idle": "2022-07-22T19:15:02.671565Z",
     "shell.execute_reply": "2022-07-22T19:15:02.669926Z"
    },
    "id": "4e43dad1",
    "papermill": {
     "duration": 0.075874,
     "end_time": "2022-07-22T19:15:02.684672",
     "exception": false,
     "start_time": "2022-07-22T19:15:02.608798",
     "status": "completed"
    },
    "tags": []
   },
   "outputs": [],
   "source": [
    "# #Generator\n",
    "# gen3 = network.GeneratorWithSkipConnection(n_features+1).to(device)\n",
    "# constraints=network.weightConstraint()\n",
    "# #Discriminator \n",
    "# disc3 = network.Discriminator(n_features+1).to(device)\n",
    "\n",
    "# criterion = torch.nn.BCELoss()\n",
    "# gen_opt = torch.optim.Adam(gen3.parameters(), lr=0.01, betas=(0.5, 0.999))\n",
    "# disc_opt = torch.optim.Adam(disc3.parameters(), lr=0.01, betas=(0.5, 0.999))\n"
   ]
  },
  {
   "cell_type": "markdown",
   "id": "86915c96",
   "metadata": {
    "tags": [
     "papermill-error-cell-tag"
    ]
   },
   "source": [
    "<span id=\"papermill-error-cell\" style=\"color:red; font-family:Helvetica Neue, Helvetica, Arial, sans-serif; font-size:2em;\">Execution using papermill encountered an exception here and stopped:</span>"
   ]
  },
  {
   "cell_type": "code",
   "execution_count": 20,
   "id": "26acbc37",
   "metadata": {
    "execution": {
     "iopub.execute_input": "2022-07-22T19:15:02.722490Z",
     "iopub.status.busy": "2022-07-22T19:15:02.721722Z",
     "iopub.status.idle": "2022-07-22T19:15:03.693427Z",
     "shell.execute_reply": "2022-07-22T19:15:03.691338Z"
    },
    "id": "26acbc37",
    "papermill": {
     "duration": 1.004093,
     "end_time": "2022-07-22T19:15:03.706205",
     "exception": true,
     "start_time": "2022-07-22T19:15:02.702112",
     "status": "failed"
    },
    "tags": []
   },
   "outputs": [
    {
     "ename": "NameError",
     "evalue": "name 'disc3' is not defined",
     "output_type": "error",
     "traceback": [
      "\u001b[0;31m---------------------------------------------------------------------------\u001b[0m",
      "\u001b[0;31mNameError\u001b[0m                                 Traceback (most recent call last)",
      "Input \u001b[0;32mIn [20]\u001b[0m, in \u001b[0;36m<cell line: 1>\u001b[0;34m()\u001b[0m\n\u001b[0;32m----> 1\u001b[0m ABC_train_test2\u001b[38;5;241m.\u001b[39mtraining_GAN_skip_connection(\u001b[43mdisc3\u001b[49m,gen3,disc_opt,gen_opt,train_data,batch_size,n_epochs,criterion,prior_model,variance,bias,device)\n",
      "\u001b[0;31mNameError\u001b[0m: name 'disc3' is not defined"
     ]
    }
   ],
   "source": [
    "ABC_train_test2.training_GAN_skip_connection(disc3,gen3,disc_opt,gen_opt,train_data,batch_size,n_epochs,criterion,prior_model,variance,bias,device)"
   ]
  },
  {
   "cell_type": "code",
   "execution_count": null,
   "id": "c5e0717b",
   "metadata": {
    "id": "c5e0717b",
    "papermill": {
     "duration": null,
     "end_time": null,
     "exception": null,
     "start_time": null,
     "status": "pending"
    },
    "tags": []
   },
   "outputs": [],
   "source": [
    "# ABC_GAN3_metrics=ABC_train_test2.test_generator(gen3,test_data,prior_model,variance,bias,\"3\",device)\n",
    "# sb.glue(\"ABC_GAN_3 Metrics\",ABC_GAN3_metrics)\n",
    "\n",
    "# print(\"MAE\")\n",
    "# print(mean(ABC_GAN3_metrics[1]))"
   ]
  },
  {
   "cell_type": "code",
   "execution_count": null,
   "id": "c8e46b48",
   "metadata": {
    "id": "c8e46b48",
    "papermill": {
     "duration": null,
     "end_time": null,
     "exception": null,
     "start_time": null,
     "status": "pending"
    },
    "tags": []
   },
   "outputs": [],
   "source": [
    "# sanityChecks.discProbVsError(train_data,disc3,device)\n",
    "# sanityChecks.discProbVsError(test_data,disc3,device)"
   ]
  },
  {
   "cell_type": "markdown",
   "id": "4939de5e",
   "metadata": {
    "id": "130f3a4d",
    "papermill": {
     "duration": null,
     "end_time": null,
     "exception": null,
     "start_time": null,
     "status": "pending"
    },
    "tags": []
   },
   "source": [
    "# skipGAN Model with TabNet Generator"
   ]
  },
  {
   "cell_type": "code",
   "execution_count": null,
   "id": "07623c67",
   "metadata": {
    "id": "4e43dad1",
    "papermill": {
     "duration": null,
     "end_time": null,
     "exception": null,
     "start_time": null,
     "status": "pending"
    },
    "tags": []
   },
   "outputs": [],
   "source": [
    "# #Generator\n",
    "# gen4 = network.GeneratorTabnetskipConnection(n_features+1).to(device)\n",
    "# constraints=network.weightConstraint()\n",
    "# #Discriminator \n",
    "# disc4 = network.Discriminator(n_features+1).to(device)\n",
    "\n",
    "# criterion = torch.nn.BCELoss()\n",
    "# gen_opt = torch.optim.Adam(gen4.parameters(), lr=0.01, betas=(0.5, 0.999))\n",
    "# disc_opt = torch.optim.Adam(disc4.parameters(), lr=0.01, betas=(0.5, 0.999))\n"
   ]
  },
  {
   "cell_type": "code",
   "execution_count": null,
   "id": "87244c09",
   "metadata": {
    "id": "26acbc37",
    "papermill": {
     "duration": null,
     "end_time": null,
     "exception": null,
     "start_time": null,
     "status": "pending"
    },
    "tags": []
   },
   "outputs": [],
   "source": [
    "# ABC_train_test2.training_GAN_skip_connection(disc4,gen4,disc_opt,gen_opt,train_data,batch_size,n_epochs,criterion,prior_model,variance,bias,device)"
   ]
  },
  {
   "cell_type": "code",
   "execution_count": null,
   "id": "b336f4ef",
   "metadata": {
    "id": "c5e0717b",
    "papermill": {
     "duration": null,
     "end_time": null,
     "exception": null,
     "start_time": null,
     "status": "pending"
    },
    "tags": []
   },
   "outputs": [],
   "source": [
    "# ABC_GAN4_metrics=ABC_train_test2.test_generator(gen4,test_data,prior_model,variance,bias,\"3\",device)\n",
    "# sb.glue(\"ABC_GAN_4 Metrics\",ABC_GAN4_metrics)\n",
    "\n",
    "# print(\"MAE\")\n",
    "# print(mean(ABC_GAN4_metrics[1]))"
   ]
  },
  {
   "cell_type": "code",
   "execution_count": null,
   "id": "b723cb07",
   "metadata": {
    "id": "c8e46b48",
    "papermill": {
     "duration": null,
     "end_time": null,
     "exception": null,
     "start_time": null,
     "status": "pending"
    },
    "tags": []
   },
   "outputs": [],
   "source": [
    "# sanityChecks.discProbVsError(train_data,disc4,device)\n",
    "# sanityChecks.discProbVsError(test_data,disc4,device)"
   ]
  },
  {
   "cell_type": "markdown",
   "id": "a5bd74c3",
   "metadata": {
    "id": "a5bd74c3",
    "papermill": {
     "duration": null,
     "end_time": null,
     "exception": null,
     "start_time": null,
     "status": "pending"
    },
    "tags": []
   },
   "source": [
    "## Skip Connection Model Analysis - ABC-GAN "
   ]
  },
  {
   "cell_type": "markdown",
   "id": "5744a8bf",
   "metadata": {
    "id": "5744a8bf",
    "papermill": {
     "duration": null,
     "end_time": null,
     "exception": null,
     "start_time": null,
     "status": "pending"
    },
    "tags": []
   },
   "source": [
    "### Weight Analysis \n",
    "\n",
    "Study the weights of the skip connection layer\n",
    "\n",
    "Equation of the skip connection is \n",
    "\n",
    "$output = y_{gan} * w + y_{abc} * (1-w)$"
   ]
  },
  {
   "cell_type": "code",
   "execution_count": null,
   "id": "52c31dea",
   "metadata": {
    "id": "52c31dea",
    "papermill": {
     "duration": null,
     "end_time": null,
     "exception": null,
     "start_time": null,
     "status": "pending"
    },
    "tags": []
   },
   "outputs": [],
   "source": [
    "# print(\"Weight of the node at skip connection\")\n",
    "# for name,param in gen3.named_parameters():\n",
    "#     if(name == \"skipNode.weight\"):\n",
    "#         print(param)\n",
    "#         sb.glue(\"Skip Connection Weight\",param.item())"
   ]
  },
  {
   "cell_type": "markdown",
   "id": "081caabb",
   "metadata": {
    "id": "a5bd74c3",
    "papermill": {
     "duration": null,
     "end_time": null,
     "exception": null,
     "start_time": null,
     "status": "pending"
    },
    "tags": []
   },
   "source": [
    "## skipGAN Model Analysis (TabNet Generator) "
   ]
  },
  {
   "cell_type": "markdown",
   "id": "ee88fd62",
   "metadata": {
    "id": "5744a8bf",
    "papermill": {
     "duration": null,
     "end_time": null,
     "exception": null,
     "start_time": null,
     "status": "pending"
    },
    "tags": []
   },
   "source": [
    "### Weight Analysis \n",
    "\n",
    "Study the weights of the skip connection layer\n",
    "\n",
    "Equation of the skip connection is \n",
    "\n",
    "$output = y_{gan} * w + y_{abc} * (1-w)$"
   ]
  },
  {
   "cell_type": "code",
   "execution_count": null,
   "id": "8222bdb9",
   "metadata": {
    "id": "52c31dea",
    "papermill": {
     "duration": null,
     "end_time": null,
     "exception": null,
     "start_time": null,
     "status": "pending"
    },
    "tags": []
   },
   "outputs": [],
   "source": [
    "# print(\"Weight of the node at skip connection\")\n",
    "# for name,param in gen4.named_parameters():\n",
    "#     if(name == \"skipNode.weight\"):\n",
    "#         print(param)\n",
    "#         sb.glue(\"Skip Connection Weight\",param.item())"
   ]
  }
 ],
 "metadata": {
  "colab": {
   "collapsed_sections": [],
   "name": "ABC_GAN_Model-Catboost_Pre-gen.ipynb",
   "provenance": []
  },
  "interpreter": {
   "hash": "31f2aee4e71d21fbe5cf8b01ff0e069b9275f58929596ceb00d14d90e3e16cd6"
  },
  "kernelspec": {
   "display_name": "Python 3 (ipykernel)",
   "language": "python",
   "name": "python3"
  },
  "language_info": {
   "codemirror_mode": {
    "name": "ipython",
    "version": 3
   },
   "file_extension": ".py",
   "mimetype": "text/x-python",
   "name": "python",
   "nbconvert_exporter": "python",
   "pygments_lexer": "ipython3",
   "version": "3.8.13"
  },
  "papermill": {
   "default_parameters": {},
   "duration": 656.586342,
   "end_time": "2022-07-22T19:15:04.626273",
   "environment_variables": {},
   "exception": true,
   "input_path": "ABC_GAN-Catboost.ipynb",
   "output_path": "./ABC_GAN_Catboost/ABC-GAN_output_1_7.ipynb",
   "parameters": {
    "bias": 0.01,
    "variance": 0.1
   },
   "start_time": "2022-07-22T19:04:08.039931",
   "version": "2.3.3"
  }
 },
 "nbformat": 4,
 "nbformat_minor": 5
}