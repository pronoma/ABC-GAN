{
 "cells": [
  {
   "cell_type": "markdown",
   "id": "c4c00e6f",
   "metadata": {
    "tags": [
     "papermill-error-cell-tag"
    ]
   },
   "source": [
    "<span style=\"color:red; font-family:Helvetica Neue, Helvetica, Arial, sans-serif; font-size:2em;\">An Exception was encountered at '<a href=\"#papermill-error-cell\">In [20]</a>'.</span>"
   ]
  },
  {
   "cell_type": "markdown",
   "id": "622780e6",
   "metadata": {
    "id": "622780e6",
    "papermill": {
     "duration": 0.009508,
     "end_time": "2022-07-22T18:06:35.109589",
     "exception": false,
     "start_time": "2022-07-22T18:06:35.100081",
     "status": "completed"
    },
    "tags": []
   },
   "source": [
    "## Import Libraries "
   ]
  },
  {
   "cell_type": "code",
   "execution_count": 1,
   "id": "a62397e3",
   "metadata": {
    "execution": {
     "iopub.execute_input": "2022-07-22T18:06:35.133573Z",
     "iopub.status.busy": "2022-07-22T18:06:35.132734Z",
     "iopub.status.idle": "2022-07-22T18:06:35.163936Z",
     "shell.execute_reply": "2022-07-22T18:06:35.158876Z"
    },
    "id": "a62397e3",
    "papermill": {
     "duration": 0.053445,
     "end_time": "2022-07-22T18:06:35.170630",
     "exception": false,
     "start_time": "2022-07-22T18:06:35.117185",
     "status": "completed"
    },
    "tags": []
   },
   "outputs": [],
   "source": [
    "import warnings\n",
    "import sys\n",
    "sys.path.insert(0, '../../src')\n",
    "warnings.filterwarnings('ignore')"
   ]
  },
  {
   "cell_type": "code",
   "execution_count": 2,
   "id": "d6a4e155",
   "metadata": {
    "execution": {
     "iopub.execute_input": "2022-07-22T18:06:35.193072Z",
     "iopub.status.busy": "2022-07-22T18:06:35.191956Z",
     "iopub.status.idle": "2022-07-22T18:06:43.049161Z",
     "shell.execute_reply": "2022-07-22T18:06:43.047443Z"
    },
    "id": "d6a4e155",
    "papermill": {
     "duration": 7.871846,
     "end_time": "2022-07-22T18:06:43.052360",
     "exception": false,
     "start_time": "2022-07-22T18:06:35.180514",
     "status": "completed"
    },
    "tags": []
   },
   "outputs": [],
   "source": [
    "import ABC_train_test2\n",
    "import bostonDataset\n",
    "import network\n",
    "import dataset\n",
    "import sanityChecks\n",
    "import torch \n",
    "import scrapbook as sb\n",
    "from statistics import mean \n",
    "import catboost as ctb \n",
    "from sklearn.model_selection import train_test_split\n",
    "from sklearn.metrics import mean_squared_error,mean_absolute_error\n",
    "import numpy as np"
   ]
  },
  {
   "cell_type": "markdown",
   "id": "2fa5b0f7",
   "metadata": {
    "id": "2fa5b0f7",
    "papermill": {
     "duration": 0.008192,
     "end_time": "2022-07-22T18:06:43.068594",
     "exception": false,
     "start_time": "2022-07-22T18:06:43.060402",
     "status": "completed"
    },
    "tags": []
   },
   "source": [
    "## Parameters "
   ]
  },
  {
   "cell_type": "code",
   "execution_count": 3,
   "id": "783186fb",
   "metadata": {
    "execution": {
     "iopub.execute_input": "2022-07-22T18:06:43.090664Z",
     "iopub.status.busy": "2022-07-22T18:06:43.089978Z",
     "iopub.status.idle": "2022-07-22T18:06:43.095762Z",
     "shell.execute_reply": "2022-07-22T18:06:43.094991Z"
    },
    "id": "783186fb",
    "papermill": {
     "duration": 0.020476,
     "end_time": "2022-07-22T18:06:43.098410",
     "exception": false,
     "start_time": "2022-07-22T18:06:43.077934",
     "status": "completed"
    },
    "tags": [
     "parameters"
    ]
   },
   "outputs": [],
   "source": [
    "variance = 1\n",
    "bias = 1 "
   ]
  },
  {
   "cell_type": "code",
   "execution_count": 4,
   "id": "2c3c70ca",
   "metadata": {
    "execution": {
     "iopub.execute_input": "2022-07-22T18:06:43.121632Z",
     "iopub.status.busy": "2022-07-22T18:06:43.121235Z",
     "iopub.status.idle": "2022-07-22T18:06:43.126430Z",
     "shell.execute_reply": "2022-07-22T18:06:43.125461Z"
    },
    "papermill": {
     "duration": 0.022987,
     "end_time": "2022-07-22T18:06:43.129485",
     "exception": false,
     "start_time": "2022-07-22T18:06:43.106498",
     "status": "completed"
    },
    "tags": [
     "injected-parameters"
    ]
   },
   "outputs": [],
   "source": [
    "# Parameters\n",
    "variance = 0.01\n",
    "bias = 1\n"
   ]
  },
  {
   "cell_type": "markdown",
   "id": "391cdbfd",
   "metadata": {
    "id": "391cdbfd",
    "papermill": {
     "duration": 0.007325,
     "end_time": "2022-07-22T18:06:43.145118",
     "exception": false,
     "start_time": "2022-07-22T18:06:43.137793",
     "status": "completed"
    },
    "tags": []
   },
   "source": [
    "## Dataset \n"
   ]
  },
  {
   "cell_type": "code",
   "execution_count": 5,
   "id": "5b51f161",
   "metadata": {
    "execution": {
     "iopub.execute_input": "2022-07-22T18:06:43.163382Z",
     "iopub.status.busy": "2022-07-22T18:06:43.162507Z",
     "iopub.status.idle": "2022-07-22T18:06:43.168480Z",
     "shell.execute_reply": "2022-07-22T18:06:43.167410Z"
    },
    "id": "5b51f161",
    "papermill": {
     "duration": 0.019241,
     "end_time": "2022-07-22T18:06:43.171840",
     "exception": false,
     "start_time": "2022-07-22T18:06:43.152599",
     "status": "completed"
    },
    "tags": []
   },
   "outputs": [],
   "source": [
    "#Parameters \n",
    "n_features = 13\n",
    "n_samples= 506\n",
    "n_target = 1 "
   ]
  },
  {
   "cell_type": "code",
   "execution_count": 6,
   "id": "5d6eced4",
   "metadata": {
    "execution": {
     "iopub.execute_input": "2022-07-22T18:06:43.199420Z",
     "iopub.status.busy": "2022-07-22T18:06:43.198831Z",
     "iopub.status.idle": "2022-07-22T18:06:43.240444Z",
     "shell.execute_reply": "2022-07-22T18:06:43.237401Z"
    },
    "id": "5d6eced4",
    "papermill": {
     "duration": 0.061497,
     "end_time": "2022-07-22T18:06:43.244608",
     "exception": false,
     "start_time": "2022-07-22T18:06:43.183111",
     "status": "completed"
    },
    "tags": []
   },
   "outputs": [
    {
     "name": "stdout",
     "output_type": "stream",
     "text": [
      "         X1        X2        X3        X4        X5        X6        X7  \\\n",
      "0 -0.419782  0.284830 -1.287909 -0.272599 -0.144217  0.413672 -0.120013   \n",
      "1 -0.417339 -0.487722 -0.593381 -0.272599 -0.740262  0.194274  0.367166   \n",
      "2 -0.417342 -0.487722 -0.593381 -0.272599 -0.740262  1.282714 -0.265812   \n",
      "3 -0.416750 -0.487722 -1.306878 -0.272599 -0.835284  1.016303 -0.809889   \n",
      "4 -0.412482 -0.487722 -1.306878 -0.272599 -0.835284  1.228577 -0.511180   \n",
      "\n",
      "         X8        X9       X10       X11       X12       X13         Y  \n",
      "0  0.140214 -0.982843 -0.666608 -1.459000  0.441052 -1.075562  0.159686  \n",
      "1  0.557160 -0.867883 -0.987329 -0.303094  0.441052 -0.492439 -0.101524  \n",
      "2  0.557160 -0.867883 -0.987329 -0.303094  0.396427 -1.208727  1.324247  \n",
      "3  1.077737 -0.752922 -1.106115  0.113032  0.416163 -1.361517  1.182758  \n",
      "4  1.077737 -0.752922 -1.106115  0.113032  0.441052 -1.026501  1.487503  \n"
     ]
    }
   ],
   "source": [
    "X,Y = bostonDataset.boston_data()"
   ]
  },
  {
   "cell_type": "code",
   "execution_count": 7,
   "id": "fe007438",
   "metadata": {
    "execution": {
     "iopub.execute_input": "2022-07-22T18:06:43.261353Z",
     "iopub.status.busy": "2022-07-22T18:06:43.261040Z",
     "iopub.status.idle": "2022-07-22T18:06:43.274240Z",
     "shell.execute_reply": "2022-07-22T18:06:43.270188Z"
    },
    "id": "fe007438",
    "papermill": {
     "duration": 0.029567,
     "end_time": "2022-07-22T18:06:43.281521",
     "exception": false,
     "start_time": "2022-07-22T18:06:43.251954",
     "status": "completed"
    },
    "tags": []
   },
   "outputs": [],
   "source": [
    "#Train test split for dataset \n",
    "X_train,X_test,Y_train,Y_test = train_test_split(X,Y,test_size = 0.2)\n",
    "train_data = dataset.CustomDataset(X_train,Y_train)\n",
    "test_data = dataset.CustomDataset(X_test,Y_test)\n"
   ]
  },
  {
   "cell_type": "markdown",
   "id": "a9a1af34",
   "metadata": {
    "id": "a9a1af34",
    "papermill": {
     "duration": 0.012603,
     "end_time": "2022-07-22T18:06:43.302980",
     "exception": false,
     "start_time": "2022-07-22T18:06:43.290377",
     "status": "completed"
    },
    "tags": []
   },
   "source": [
    "## Training Parameters "
   ]
  },
  {
   "cell_type": "code",
   "execution_count": 8,
   "id": "952b7fc8",
   "metadata": {
    "execution": {
     "iopub.execute_input": "2022-07-22T18:06:43.355392Z",
     "iopub.status.busy": "2022-07-22T18:06:43.354740Z",
     "iopub.status.idle": "2022-07-22T18:06:43.365145Z",
     "shell.execute_reply": "2022-07-22T18:06:43.363242Z"
    },
    "id": "952b7fc8",
    "papermill": {
     "duration": 0.093189,
     "end_time": "2022-07-22T18:06:43.404139",
     "exception": false,
     "start_time": "2022-07-22T18:06:43.310950",
     "status": "completed"
    },
    "tags": []
   },
   "outputs": [],
   "source": [
    "batch_size = 32\n",
    "n_epochs = 1000\n",
    "#Select the device \n",
    "device = torch.device('cuda' if torch.cuda.is_available() else 'cpu')"
   ]
  },
  {
   "cell_type": "markdown",
   "id": "a95e1600",
   "metadata": {
    "id": "a95e1600",
    "papermill": {
     "duration": 0.021904,
     "end_time": "2022-07-22T18:06:43.445961",
     "exception": false,
     "start_time": "2022-07-22T18:06:43.424057",
     "status": "completed"
    },
    "tags": []
   },
   "source": [
    "# ABC Pre-generator Model \n",
    "\n",
    "1. The catboost model is used as a pre-generator model for the ABC-GAN. \n",
    "2. The model is first trained on the entire dataset \n",
    "3. It generats X,Y pairs and we add some Gaussian noise with mean 0 and variance 1 to it which is then feed as input to the generator.\n"
   ]
  },
  {
   "cell_type": "code",
   "execution_count": 9,
   "id": "ff8ce7bd",
   "metadata": {
    "execution": {
     "iopub.execute_input": "2022-07-22T18:06:43.486901Z",
     "iopub.status.busy": "2022-07-22T18:06:43.485807Z",
     "iopub.status.idle": "2022-07-22T18:06:47.769315Z",
     "shell.execute_reply": "2022-07-22T18:06:47.768589Z"
    },
    "id": "ff8ce7bd",
    "papermill": {
     "duration": 4.310436,
     "end_time": "2022-07-22T18:06:47.771861",
     "exception": false,
     "start_time": "2022-07-22T18:06:43.461425",
     "status": "completed"
    },
    "tags": []
   },
   "outputs": [
    {
     "name": "stdout",
     "output_type": "stream",
     "text": [
      "Learning rate set to 0.03548\n",
      "0:\tlearn: 0.9734712\ttotal: 63.3ms\tremaining: 1m 3s\n",
      "1:\tlearn: 0.9527781\ttotal: 67ms\tremaining: 33.4s\n",
      "2:\tlearn: 0.9314360\ttotal: 70.2ms\tremaining: 23.3s\n",
      "3:\tlearn: 0.9154941\ttotal: 73.8ms\tremaining: 18.4s\n",
      "4:\tlearn: 0.8971268\ttotal: 77.2ms\tremaining: 15.4s\n",
      "5:\tlearn: 0.8810450\ttotal: 80.3ms\tremaining: 13.3s\n",
      "6:\tlearn: 0.8637179\ttotal: 83.6ms\tremaining: 11.9s\n",
      "7:\tlearn: 0.8454934\ttotal: 86.8ms\tremaining: 10.8s\n",
      "8:\tlearn: 0.8301501\ttotal: 89.9ms\tremaining: 9.9s\n",
      "9:\tlearn: 0.8143869\ttotal: 93ms\tremaining: 9.21s\n",
      "10:\tlearn: 0.7988985\ttotal: 96.2ms\tremaining: 8.65s\n",
      "11:\tlearn: 0.7838111\ttotal: 99.6ms\tremaining: 8.2s\n",
      "12:\tlearn: 0.7689221\ttotal: 103ms\tremaining: 7.79s\n",
      "13:\tlearn: 0.7541608\ttotal: 105ms\tremaining: 7.4s\n",
      "14:\tlearn: 0.7421687\ttotal: 108ms\tremaining: 7.11s\n",
      "15:\tlearn: 0.7278493\ttotal: 111ms\tremaining: 6.82s\n",
      "16:\tlearn: 0.7147443\ttotal: 114ms\tremaining: 6.59s\n",
      "17:\tlearn: 0.7025535\ttotal: 116ms\tremaining: 6.35s\n",
      "18:\tlearn: 0.6909567\ttotal: 120ms\tremaining: 6.2s\n",
      "19:\tlearn: 0.6793465\ttotal: 123ms\tremaining: 6.04s\n",
      "20:\tlearn: 0.6696323\ttotal: 127ms\tremaining: 5.93s\n",
      "21:\tlearn: 0.6595883\ttotal: 130ms\tremaining: 5.77s\n",
      "22:\tlearn: 0.6485013\ttotal: 132ms\tremaining: 5.62s\n",
      "23:\tlearn: 0.6386397\ttotal: 136ms\tremaining: 5.51s\n",
      "24:\tlearn: 0.6290204\ttotal: 141ms\tremaining: 5.49s\n",
      "25:\tlearn: 0.6179070\ttotal: 143ms\tremaining: 5.38s\n",
      "26:\tlearn: 0.6080230\ttotal: 146ms\tremaining: 5.27s\n",
      "27:\tlearn: 0.5990478\ttotal: 149ms\tremaining: 5.17s\n",
      "28:\tlearn: 0.5897316\ttotal: 151ms\tremaining: 5.07s\n",
      "29:\tlearn: 0.5802993\ttotal: 154ms\tremaining: 4.97s\n",
      "30:\tlearn: 0.5694149\ttotal: 156ms\tremaining: 4.88s\n",
      "31:\tlearn: 0.5601410\ttotal: 159ms\tremaining: 4.82s\n"
     ]
    },
    {
     "name": "stdout",
     "output_type": "stream",
     "text": [
      "32:\tlearn: 0.5538095\ttotal: 164ms\tremaining: 4.81s\n",
      "33:\tlearn: 0.5462641\ttotal: 169ms\tremaining: 4.8s\n",
      "34:\tlearn: 0.5405253\ttotal: 219ms\tremaining: 6.03s\n",
      "35:\tlearn: 0.5334570\ttotal: 223ms\tremaining: 5.97s\n",
      "36:\tlearn: 0.5275030\ttotal: 225ms\tremaining: 5.87s\n",
      "37:\tlearn: 0.5207381\ttotal: 235ms\tremaining: 5.96s\n"
     ]
    },
    {
     "name": "stdout",
     "output_type": "stream",
     "text": [
      "38:\tlearn: 0.5135388\ttotal: 262ms\tremaining: 6.46s\n",
      "39:\tlearn: 0.5062400\ttotal: 291ms\tremaining: 6.98s\n",
      "40:\tlearn: 0.5001544\ttotal: 298ms\tremaining: 6.98s\n",
      "41:\tlearn: 0.4926844\ttotal: 302ms\tremaining: 6.88s\n",
      "42:\tlearn: 0.4876687\ttotal: 309ms\tremaining: 6.89s\n",
      "43:\tlearn: 0.4825087\ttotal: 316ms\tremaining: 6.86s\n",
      "44:\tlearn: 0.4773398\ttotal: 325ms\tremaining: 6.9s\n"
     ]
    },
    {
     "name": "stdout",
     "output_type": "stream",
     "text": [
      "45:\tlearn: 0.4709766\ttotal: 463ms\tremaining: 9.6s\n",
      "46:\tlearn: 0.4643461\ttotal: 487ms\tremaining: 9.88s\n",
      "47:\tlearn: 0.4580980\ttotal: 503ms\tremaining: 9.97s\n",
      "48:\tlearn: 0.4517417\ttotal: 508ms\tremaining: 9.85s\n",
      "49:\tlearn: 0.4463036\ttotal: 510ms\tremaining: 9.7s\n",
      "50:\tlearn: 0.4407132\ttotal: 513ms\tremaining: 9.54s\n",
      "51:\tlearn: 0.4365200\ttotal: 516ms\tremaining: 9.4s\n",
      "52:\tlearn: 0.4308712\ttotal: 519ms\tremaining: 9.28s\n",
      "53:\tlearn: 0.4267849\ttotal: 522ms\tremaining: 9.15s\n",
      "54:\tlearn: 0.4224955\ttotal: 530ms\tremaining: 9.11s\n",
      "55:\tlearn: 0.4193001\ttotal: 534ms\tremaining: 9.01s\n",
      "56:\tlearn: 0.4142958\ttotal: 539ms\tremaining: 8.91s\n",
      "57:\tlearn: 0.4101373\ttotal: 541ms\tremaining: 8.79s\n",
      "58:\tlearn: 0.4058189\ttotal: 545ms\tremaining: 8.69s\n",
      "59:\tlearn: 0.4017399\ttotal: 549ms\tremaining: 8.6s\n",
      "60:\tlearn: 0.3981188\ttotal: 556ms\tremaining: 8.56s\n",
      "61:\tlearn: 0.3938959\ttotal: 565ms\tremaining: 8.54s\n",
      "62:\tlearn: 0.3910483\ttotal: 567ms\tremaining: 8.44s\n",
      "63:\tlearn: 0.3878867\ttotal: 571ms\tremaining: 8.35s\n",
      "64:\tlearn: 0.3845214\ttotal: 583ms\tremaining: 8.39s\n"
     ]
    },
    {
     "name": "stdout",
     "output_type": "stream",
     "text": [
      "65:\tlearn: 0.3811601\ttotal: 604ms\tremaining: 8.55s\n",
      "66:\tlearn: 0.3776149\ttotal: 608ms\tremaining: 8.47s\n",
      "67:\tlearn: 0.3751243\ttotal: 611ms\tremaining: 8.38s\n",
      "68:\tlearn: 0.3724394\ttotal: 617ms\tremaining: 8.33s\n",
      "69:\tlearn: 0.3698235\ttotal: 622ms\tremaining: 8.26s\n",
      "70:\tlearn: 0.3664951\ttotal: 625ms\tremaining: 8.18s\n",
      "71:\tlearn: 0.3643800\ttotal: 652ms\tremaining: 8.4s\n",
      "72:\tlearn: 0.3612018\ttotal: 655ms\tremaining: 8.31s\n",
      "73:\tlearn: 0.3582410\ttotal: 672ms\tremaining: 8.41s\n",
      "74:\tlearn: 0.3561240\ttotal: 678ms\tremaining: 8.37s\n",
      "75:\tlearn: 0.3529896\ttotal: 684ms\tremaining: 8.31s\n",
      "76:\tlearn: 0.3496480\ttotal: 693ms\tremaining: 8.31s\n",
      "77:\tlearn: 0.3470150\ttotal: 695ms\tremaining: 8.21s\n",
      "78:\tlearn: 0.3439361\ttotal: 697ms\tremaining: 8.13s\n",
      "79:\tlearn: 0.3415290\ttotal: 700ms\tremaining: 8.05s\n",
      "80:\tlearn: 0.3389940\ttotal: 704ms\tremaining: 7.98s\n",
      "81:\tlearn: 0.3360233\ttotal: 707ms\tremaining: 7.92s\n",
      "82:\tlearn: 0.3344916\ttotal: 711ms\tremaining: 7.86s\n",
      "83:\tlearn: 0.3317361\ttotal: 715ms\tremaining: 7.79s\n",
      "84:\tlearn: 0.3293829\ttotal: 718ms\tremaining: 7.73s\n",
      "85:\tlearn: 0.3263813\ttotal: 722ms\tremaining: 7.67s\n",
      "86:\tlearn: 0.3242912\ttotal: 725ms\tremaining: 7.61s\n",
      "87:\tlearn: 0.3219179\ttotal: 728ms\tremaining: 7.55s\n",
      "88:\tlearn: 0.3199894\ttotal: 732ms\tremaining: 7.49s\n",
      "89:\tlearn: 0.3176460\ttotal: 736ms\tremaining: 7.44s\n"
     ]
    },
    {
     "name": "stdout",
     "output_type": "stream",
     "text": [
      "90:\tlearn: 0.3155177\ttotal: 739ms\tremaining: 7.38s\n",
      "91:\tlearn: 0.3139126\ttotal: 743ms\tremaining: 7.33s\n",
      "92:\tlearn: 0.3122988\ttotal: 746ms\tremaining: 7.28s\n",
      "93:\tlearn: 0.3104664\ttotal: 750ms\tremaining: 7.23s\n",
      "94:\tlearn: 0.3083285\ttotal: 754ms\tremaining: 7.18s\n",
      "95:\tlearn: 0.3071172\ttotal: 757ms\tremaining: 7.13s\n",
      "96:\tlearn: 0.3057045\ttotal: 760ms\tremaining: 7.08s\n",
      "97:\tlearn: 0.3041431\ttotal: 764ms\tremaining: 7.03s\n",
      "98:\tlearn: 0.3027914\ttotal: 768ms\tremaining: 6.99s\n",
      "99:\tlearn: 0.3012768\ttotal: 771ms\tremaining: 6.94s\n",
      "100:\tlearn: 0.2997017\ttotal: 777ms\tremaining: 6.91s\n",
      "101:\tlearn: 0.2978866\ttotal: 780ms\tremaining: 6.86s\n",
      "102:\tlearn: 0.2963931\ttotal: 783ms\tremaining: 6.82s\n",
      "103:\tlearn: 0.2946640\ttotal: 786ms\tremaining: 6.77s\n",
      "104:\tlearn: 0.2935310\ttotal: 790ms\tremaining: 6.73s\n",
      "105:\tlearn: 0.2918390\ttotal: 794ms\tremaining: 6.7s\n",
      "106:\tlearn: 0.2898148\ttotal: 797ms\tremaining: 6.65s\n",
      "107:\tlearn: 0.2875763\ttotal: 800ms\tremaining: 6.61s\n",
      "108:\tlearn: 0.2860255\ttotal: 813ms\tremaining: 6.65s\n",
      "109:\tlearn: 0.2846096\ttotal: 914ms\tremaining: 7.4s\n"
     ]
    },
    {
     "name": "stdout",
     "output_type": "stream",
     "text": [
      "110:\tlearn: 0.2829807\ttotal: 919ms\tremaining: 7.36s\n",
      "111:\tlearn: 0.2818597\ttotal: 922ms\tremaining: 7.31s\n",
      "112:\tlearn: 0.2804203\ttotal: 925ms\tremaining: 7.26s\n",
      "113:\tlearn: 0.2790289\ttotal: 928ms\tremaining: 7.21s\n",
      "114:\tlearn: 0.2775044\ttotal: 931ms\tremaining: 7.16s\n",
      "115:\tlearn: 0.2758375\ttotal: 940ms\tremaining: 7.17s\n",
      "116:\tlearn: 0.2742307\ttotal: 945ms\tremaining: 7.13s\n",
      "117:\tlearn: 0.2730565\ttotal: 948ms\tremaining: 7.08s\n",
      "118:\tlearn: 0.2717863\ttotal: 951ms\tremaining: 7.04s\n",
      "119:\tlearn: 0.2707936\ttotal: 954ms\tremaining: 7s\n",
      "120:\tlearn: 0.2695153\ttotal: 957ms\tremaining: 6.95s\n",
      "121:\tlearn: 0.2685613\ttotal: 960ms\tremaining: 6.91s\n",
      "122:\tlearn: 0.2675158\ttotal: 967ms\tremaining: 6.9s\n",
      "123:\tlearn: 0.2654526\ttotal: 971ms\tremaining: 6.86s\n",
      "124:\tlearn: 0.2644628\ttotal: 976ms\tremaining: 6.83s\n",
      "125:\tlearn: 0.2633532\ttotal: 979ms\tremaining: 6.79s\n",
      "126:\tlearn: 0.2622887\ttotal: 982ms\tremaining: 6.75s\n",
      "127:\tlearn: 0.2613565\ttotal: 984ms\tremaining: 6.71s\n",
      "128:\tlearn: 0.2599518\ttotal: 987ms\tremaining: 6.66s\n",
      "129:\tlearn: 0.2588383\ttotal: 989ms\tremaining: 6.62s\n",
      "130:\tlearn: 0.2580635\ttotal: 992ms\tremaining: 6.58s\n",
      "131:\tlearn: 0.2568531\ttotal: 994ms\tremaining: 6.54s\n",
      "132:\tlearn: 0.2557625\ttotal: 997ms\tremaining: 6.5s\n",
      "133:\tlearn: 0.2542556\ttotal: 1s\tremaining: 6.46s\n",
      "134:\tlearn: 0.2535004\ttotal: 1s\tremaining: 6.43s\n",
      "135:\tlearn: 0.2523508\ttotal: 1s\tremaining: 6.39s\n",
      "136:\tlearn: 0.2515535\ttotal: 1.01s\tremaining: 6.35s\n",
      "137:\tlearn: 0.2504220\ttotal: 1.01s\tremaining: 6.31s\n",
      "138:\tlearn: 0.2494052\ttotal: 1.01s\tremaining: 6.28s\n",
      "139:\tlearn: 0.2485418\ttotal: 1.02s\tremaining: 6.24s\n",
      "140:\tlearn: 0.2477614\ttotal: 1.02s\tremaining: 6.21s\n",
      "141:\tlearn: 0.2471683\ttotal: 1.02s\tremaining: 6.17s\n",
      "142:\tlearn: 0.2461236\ttotal: 1.02s\tremaining: 6.14s\n",
      "143:\tlearn: 0.2453218\ttotal: 1.03s\tremaining: 6.1s\n",
      "144:\tlearn: 0.2444518\ttotal: 1.03s\tremaining: 6.07s\n",
      "145:\tlearn: 0.2437087\ttotal: 1.03s\tremaining: 6.04s\n",
      "146:\tlearn: 0.2427374\ttotal: 1.03s\tremaining: 6s\n"
     ]
    },
    {
     "name": "stdout",
     "output_type": "stream",
     "text": [
      "147:\tlearn: 0.2418676\ttotal: 1.04s\tremaining: 5.97s\n",
      "148:\tlearn: 0.2409356\ttotal: 1.04s\tremaining: 5.95s\n",
      "149:\tlearn: 0.2401354\ttotal: 1.04s\tremaining: 5.92s\n",
      "150:\tlearn: 0.2395756\ttotal: 1.05s\tremaining: 5.88s\n",
      "151:\tlearn: 0.2389184\ttotal: 1.05s\tremaining: 5.85s\n",
      "152:\tlearn: 0.2381923\ttotal: 1.05s\tremaining: 5.82s\n",
      "153:\tlearn: 0.2374344\ttotal: 1.05s\tremaining: 5.79s\n",
      "154:\tlearn: 0.2364455\ttotal: 1.06s\tremaining: 5.76s\n",
      "155:\tlearn: 0.2356343\ttotal: 1.06s\tremaining: 5.73s\n",
      "156:\tlearn: 0.2347102\ttotal: 1.06s\tremaining: 5.71s\n",
      "157:\tlearn: 0.2340327\ttotal: 1.07s\tremaining: 5.68s\n",
      "158:\tlearn: 0.2332114\ttotal: 1.07s\tremaining: 5.66s\n",
      "159:\tlearn: 0.2326534\ttotal: 1.07s\tremaining: 5.63s\n",
      "160:\tlearn: 0.2319002\ttotal: 1.07s\tremaining: 5.6s\n",
      "161:\tlearn: 0.2309023\ttotal: 1.08s\tremaining: 5.57s\n",
      "162:\tlearn: 0.2301537\ttotal: 1.08s\tremaining: 5.54s\n",
      "163:\tlearn: 0.2291824\ttotal: 1.08s\tremaining: 5.52s\n",
      "164:\tlearn: 0.2283788\ttotal: 1.08s\tremaining: 5.49s\n",
      "165:\tlearn: 0.2275159\ttotal: 1.09s\tremaining: 5.46s\n",
      "166:\tlearn: 0.2269490\ttotal: 1.09s\tremaining: 5.44s\n",
      "167:\tlearn: 0.2259262\ttotal: 1.09s\tremaining: 5.41s\n",
      "168:\tlearn: 0.2254706\ttotal: 1.09s\tremaining: 5.39s\n",
      "169:\tlearn: 0.2248611\ttotal: 1.1s\tremaining: 5.36s\n",
      "170:\tlearn: 0.2241061\ttotal: 1.1s\tremaining: 5.34s\n",
      "171:\tlearn: 0.2235479\ttotal: 1.1s\tremaining: 5.31s\n",
      "172:\tlearn: 0.2229028\ttotal: 1.1s\tremaining: 5.29s\n",
      "173:\tlearn: 0.2222790\ttotal: 1.11s\tremaining: 5.27s\n",
      "174:\tlearn: 0.2217683\ttotal: 1.11s\tremaining: 5.25s\n",
      "175:\tlearn: 0.2209733\ttotal: 1.12s\tremaining: 5.23s\n",
      "176:\tlearn: 0.2201561\ttotal: 1.12s\tremaining: 5.2s\n",
      "177:\tlearn: 0.2193296\ttotal: 1.12s\tremaining: 5.18s\n",
      "178:\tlearn: 0.2185611\ttotal: 1.12s\tremaining: 5.16s\n",
      "179:\tlearn: 0.2181212\ttotal: 1.13s\tremaining: 5.13s\n",
      "180:\tlearn: 0.2173177\ttotal: 1.13s\tremaining: 5.11s\n",
      "181:\tlearn: 0.2167202\ttotal: 1.13s\tremaining: 5.08s\n",
      "182:\tlearn: 0.2161915\ttotal: 1.14s\tremaining: 5.11s\n",
      "183:\tlearn: 0.2154986\ttotal: 1.22s\tremaining: 5.4s\n"
     ]
    },
    {
     "name": "stdout",
     "output_type": "stream",
     "text": [
      "184:\tlearn: 0.2147314\ttotal: 1.27s\tremaining: 5.58s\n",
      "185:\tlearn: 0.2142314\ttotal: 1.28s\tremaining: 5.59s\n",
      "186:\tlearn: 0.2134548\ttotal: 1.28s\tremaining: 5.57s\n",
      "187:\tlearn: 0.2126795\ttotal: 1.28s\tremaining: 5.55s\n",
      "188:\tlearn: 0.2119084\ttotal: 1.29s\tremaining: 5.53s\n",
      "189:\tlearn: 0.2114668\ttotal: 1.29s\tremaining: 5.52s\n",
      "190:\tlearn: 0.2107194\ttotal: 1.3s\tremaining: 5.5s\n",
      "191:\tlearn: 0.2102852\ttotal: 1.3s\tremaining: 5.48s\n",
      "192:\tlearn: 0.2098272\ttotal: 1.3s\tremaining: 5.45s\n",
      "193:\tlearn: 0.2093666\ttotal: 1.31s\tremaining: 5.43s\n",
      "194:\tlearn: 0.2086627\ttotal: 1.31s\tremaining: 5.4s\n",
      "195:\tlearn: 0.2079177\ttotal: 1.31s\tremaining: 5.38s\n",
      "196:\tlearn: 0.2071551\ttotal: 1.31s\tremaining: 5.36s\n",
      "197:\tlearn: 0.2064151\ttotal: 1.32s\tremaining: 5.33s\n",
      "198:\tlearn: 0.2059075\ttotal: 1.32s\tremaining: 5.31s\n",
      "199:\tlearn: 0.2052034\ttotal: 1.32s\tremaining: 5.29s\n",
      "200:\tlearn: 0.2046305\ttotal: 1.32s\tremaining: 5.26s\n",
      "201:\tlearn: 0.2040921\ttotal: 1.33s\tremaining: 5.24s\n",
      "202:\tlearn: 0.2037428\ttotal: 1.33s\tremaining: 5.23s\n",
      "203:\tlearn: 0.2033864\ttotal: 1.33s\tremaining: 5.21s\n",
      "204:\tlearn: 0.2029426\ttotal: 1.34s\tremaining: 5.18s\n",
      "205:\tlearn: 0.2023092\ttotal: 1.34s\tremaining: 5.16s\n",
      "206:\tlearn: 0.2019547\ttotal: 1.34s\tremaining: 5.14s\n",
      "207:\tlearn: 0.2015948\ttotal: 1.34s\tremaining: 5.12s\n",
      "208:\tlearn: 0.2012732\ttotal: 1.34s\tremaining: 5.09s\n",
      "209:\tlearn: 0.2007113\ttotal: 1.35s\tremaining: 5.07s\n",
      "210:\tlearn: 0.2001346\ttotal: 1.35s\tremaining: 5.05s\n",
      "211:\tlearn: 0.1997725\ttotal: 1.35s\tremaining: 5.03s\n",
      "212:\tlearn: 0.1993320\ttotal: 1.35s\tremaining: 5.01s\n",
      "213:\tlearn: 0.1987600\ttotal: 1.36s\tremaining: 4.99s\n",
      "214:\tlearn: 0.1981031\ttotal: 1.36s\tremaining: 4.96s\n",
      "215:\tlearn: 0.1974573\ttotal: 1.36s\tremaining: 4.94s\n",
      "216:\tlearn: 0.1968378\ttotal: 1.36s\tremaining: 4.92s\n",
      "217:\tlearn: 0.1964862\ttotal: 1.37s\tremaining: 4.91s\n",
      "218:\tlearn: 0.1959988\ttotal: 1.37s\tremaining: 4.89s\n",
      "219:\tlearn: 0.1951939\ttotal: 1.37s\tremaining: 4.87s\n",
      "220:\tlearn: 0.1944968\ttotal: 1.38s\tremaining: 4.85s\n",
      "221:\tlearn: 0.1940176\ttotal: 1.38s\tremaining: 4.83s\n",
      "222:\tlearn: 0.1933731\ttotal: 1.38s\tremaining: 4.81s\n",
      "223:\tlearn: 0.1927902\ttotal: 1.38s\tremaining: 4.79s\n",
      "224:\tlearn: 0.1924309\ttotal: 1.39s\tremaining: 4.77s\n",
      "225:\tlearn: 0.1917630\ttotal: 1.39s\tremaining: 4.75s\n",
      "226:\tlearn: 0.1914182\ttotal: 1.39s\tremaining: 4.74s\n",
      "227:\tlearn: 0.1909551\ttotal: 1.39s\tremaining: 4.72s\n"
     ]
    },
    {
     "name": "stdout",
     "output_type": "stream",
     "text": [
      "228:\tlearn: 0.1905694\ttotal: 1.4s\tremaining: 4.7s\n",
      "229:\tlearn: 0.1903314\ttotal: 1.4s\tremaining: 4.68s\n",
      "230:\tlearn: 0.1901397\ttotal: 1.4s\tremaining: 4.67s\n",
      "231:\tlearn: 0.1894550\ttotal: 1.4s\tremaining: 4.65s\n",
      "232:\tlearn: 0.1890755\ttotal: 1.41s\tremaining: 4.63s\n",
      "233:\tlearn: 0.1885466\ttotal: 1.41s\tremaining: 4.62s\n",
      "234:\tlearn: 0.1880737\ttotal: 1.41s\tremaining: 4.6s\n",
      "235:\tlearn: 0.1874792\ttotal: 1.42s\tremaining: 4.58s\n",
      "236:\tlearn: 0.1869418\ttotal: 1.42s\tremaining: 4.57s\n",
      "237:\tlearn: 0.1866287\ttotal: 1.42s\tremaining: 4.55s\n",
      "238:\tlearn: 0.1861572\ttotal: 1.43s\tremaining: 4.54s\n",
      "239:\tlearn: 0.1855905\ttotal: 1.43s\tremaining: 4.52s\n",
      "240:\tlearn: 0.1850546\ttotal: 1.43s\tremaining: 4.51s\n",
      "241:\tlearn: 0.1847888\ttotal: 1.44s\tremaining: 4.5s\n",
      "242:\tlearn: 0.1844327\ttotal: 1.44s\tremaining: 4.49s\n",
      "243:\tlearn: 0.1839436\ttotal: 1.44s\tremaining: 4.47s\n",
      "244:\tlearn: 0.1837251\ttotal: 1.44s\tremaining: 4.45s\n",
      "245:\tlearn: 0.1834855\ttotal: 1.45s\tremaining: 4.44s\n",
      "246:\tlearn: 0.1831715\ttotal: 1.45s\tremaining: 4.42s\n",
      "247:\tlearn: 0.1827972\ttotal: 1.45s\tremaining: 4.4s\n",
      "248:\tlearn: 0.1824682\ttotal: 1.46s\tremaining: 4.39s\n",
      "249:\tlearn: 0.1818212\ttotal: 1.46s\tremaining: 4.38s\n",
      "250:\tlearn: 0.1814637\ttotal: 1.46s\tremaining: 4.36s\n",
      "251:\tlearn: 0.1811214\ttotal: 1.46s\tremaining: 4.34s\n",
      "252:\tlearn: 0.1805982\ttotal: 1.47s\tremaining: 4.33s\n",
      "253:\tlearn: 0.1799534\ttotal: 1.47s\tremaining: 4.31s\n",
      "254:\tlearn: 0.1793283\ttotal: 1.47s\tremaining: 4.3s\n",
      "255:\tlearn: 0.1788559\ttotal: 1.47s\tremaining: 4.28s\n",
      "256:\tlearn: 0.1783045\ttotal: 1.48s\tremaining: 4.26s\n",
      "257:\tlearn: 0.1780190\ttotal: 1.48s\tremaining: 4.25s\n",
      "258:\tlearn: 0.1775848\ttotal: 1.48s\tremaining: 4.24s\n",
      "259:\tlearn: 0.1772922\ttotal: 1.48s\tremaining: 4.22s\n",
      "260:\tlearn: 0.1768378\ttotal: 1.49s\tremaining: 4.21s\n",
      "261:\tlearn: 0.1762601\ttotal: 1.49s\tremaining: 4.19s\n",
      "262:\tlearn: 0.1759691\ttotal: 1.49s\tremaining: 4.18s\n",
      "263:\tlearn: 0.1755593\ttotal: 1.49s\tremaining: 4.17s\n",
      "264:\tlearn: 0.1751582\ttotal: 1.5s\tremaining: 4.15s\n",
      "265:\tlearn: 0.1746569\ttotal: 1.5s\tremaining: 4.14s\n",
      "266:\tlearn: 0.1742673\ttotal: 1.5s\tremaining: 4.13s\n",
      "267:\tlearn: 0.1738467\ttotal: 1.5s\tremaining: 4.11s\n",
      "268:\tlearn: 0.1733106\ttotal: 1.51s\tremaining: 4.1s\n",
      "269:\tlearn: 0.1727685\ttotal: 1.51s\tremaining: 4.08s\n",
      "270:\tlearn: 0.1723242\ttotal: 1.51s\tremaining: 4.07s\n",
      "271:\tlearn: 0.1717205\ttotal: 1.51s\tremaining: 4.06s\n",
      "272:\tlearn: 0.1711147\ttotal: 1.52s\tremaining: 4.04s\n",
      "273:\tlearn: 0.1704893\ttotal: 1.52s\tremaining: 4.03s\n",
      "274:\tlearn: 0.1699963\ttotal: 1.52s\tremaining: 4.02s\n",
      "275:\tlearn: 0.1694591\ttotal: 1.53s\tremaining: 4s\n",
      "276:\tlearn: 0.1690623\ttotal: 1.53s\tremaining: 3.99s\n",
      "277:\tlearn: 0.1684499\ttotal: 1.53s\tremaining: 3.98s\n",
      "278:\tlearn: 0.1680581\ttotal: 1.53s\tremaining: 3.96s\n",
      "279:\tlearn: 0.1676420\ttotal: 1.54s\tremaining: 3.95s\n",
      "280:\tlearn: 0.1672010\ttotal: 1.54s\tremaining: 3.94s\n",
      "281:\tlearn: 0.1667905\ttotal: 1.54s\tremaining: 3.93s\n",
      "282:\tlearn: 0.1663398\ttotal: 1.54s\tremaining: 3.91s\n",
      "283:\tlearn: 0.1658684\ttotal: 1.55s\tremaining: 3.9s\n",
      "284:\tlearn: 0.1655547\ttotal: 1.55s\tremaining: 3.89s\n",
      "285:\tlearn: 0.1651179\ttotal: 1.55s\tremaining: 3.88s\n",
      "286:\tlearn: 0.1645923\ttotal: 1.55s\tremaining: 3.86s\n",
      "287:\tlearn: 0.1642613\ttotal: 1.56s\tremaining: 3.85s\n",
      "288:\tlearn: 0.1637889\ttotal: 1.56s\tremaining: 3.84s\n",
      "289:\tlearn: 0.1633172\ttotal: 1.56s\tremaining: 3.83s\n",
      "290:\tlearn: 0.1629762\ttotal: 1.56s\tremaining: 3.81s\n",
      "291:\tlearn: 0.1624203\ttotal: 1.57s\tremaining: 3.8s\n",
      "292:\tlearn: 0.1620716\ttotal: 1.57s\tremaining: 3.79s\n",
      "293:\tlearn: 0.1618212\ttotal: 1.57s\tremaining: 3.78s\n"
     ]
    },
    {
     "name": "stdout",
     "output_type": "stream",
     "text": [
      "294:\tlearn: 0.1615012\ttotal: 1.58s\tremaining: 3.77s\n",
      "295:\tlearn: 0.1612821\ttotal: 1.58s\tremaining: 3.76s\n",
      "296:\tlearn: 0.1608303\ttotal: 1.58s\tremaining: 3.74s\n",
      "297:\tlearn: 0.1605292\ttotal: 1.58s\tremaining: 3.73s\n",
      "298:\tlearn: 0.1603514\ttotal: 1.59s\tremaining: 3.72s\n",
      "299:\tlearn: 0.1601686\ttotal: 1.59s\tremaining: 3.71s\n",
      "300:\tlearn: 0.1599031\ttotal: 1.59s\tremaining: 3.7s\n",
      "301:\tlearn: 0.1595919\ttotal: 1.59s\tremaining: 3.69s\n",
      "302:\tlearn: 0.1591642\ttotal: 1.6s\tremaining: 3.67s\n",
      "303:\tlearn: 0.1586732\ttotal: 1.6s\tremaining: 3.67s\n",
      "304:\tlearn: 0.1583222\ttotal: 1.6s\tremaining: 3.66s\n",
      "305:\tlearn: 0.1578744\ttotal: 1.61s\tremaining: 3.65s\n",
      "306:\tlearn: 0.1576729\ttotal: 1.61s\tremaining: 3.64s\n",
      "307:\tlearn: 0.1570797\ttotal: 1.61s\tremaining: 3.63s\n",
      "308:\tlearn: 0.1568457\ttotal: 1.61s\tremaining: 3.61s\n",
      "309:\tlearn: 0.1564844\ttotal: 1.62s\tremaining: 3.6s\n",
      "310:\tlearn: 0.1561011\ttotal: 1.62s\tremaining: 3.59s\n",
      "311:\tlearn: 0.1558530\ttotal: 1.62s\tremaining: 3.58s\n",
      "312:\tlearn: 0.1554674\ttotal: 1.63s\tremaining: 3.57s\n",
      "313:\tlearn: 0.1552269\ttotal: 1.63s\tremaining: 3.56s\n",
      "314:\tlearn: 0.1548500\ttotal: 1.63s\tremaining: 3.55s\n",
      "315:\tlearn: 0.1546328\ttotal: 1.63s\tremaining: 3.54s\n",
      "316:\tlearn: 0.1543482\ttotal: 1.64s\tremaining: 3.52s\n",
      "317:\tlearn: 0.1539728\ttotal: 1.64s\tremaining: 3.51s\n",
      "318:\tlearn: 0.1534339\ttotal: 1.64s\tremaining: 3.5s\n",
      "319:\tlearn: 0.1529041\ttotal: 1.64s\tremaining: 3.49s\n",
      "320:\tlearn: 0.1525445\ttotal: 1.65s\tremaining: 3.48s\n",
      "321:\tlearn: 0.1521706\ttotal: 1.65s\tremaining: 3.47s\n",
      "322:\tlearn: 0.1516577\ttotal: 1.65s\tremaining: 3.46s\n",
      "323:\tlearn: 0.1513200\ttotal: 1.65s\tremaining: 3.45s\n",
      "324:\tlearn: 0.1510319\ttotal: 1.65s\tremaining: 3.44s\n",
      "325:\tlearn: 0.1508101\ttotal: 1.66s\tremaining: 3.43s\n",
      "326:\tlearn: 0.1505324\ttotal: 1.66s\tremaining: 3.42s\n",
      "327:\tlearn: 0.1502834\ttotal: 1.66s\tremaining: 3.41s\n",
      "328:\tlearn: 0.1499798\ttotal: 1.67s\tremaining: 3.4s\n",
      "329:\tlearn: 0.1496003\ttotal: 1.67s\tremaining: 3.39s\n",
      "330:\tlearn: 0.1492241\ttotal: 1.67s\tremaining: 3.38s\n",
      "331:\tlearn: 0.1490252\ttotal: 1.67s\tremaining: 3.37s\n",
      "332:\tlearn: 0.1486568\ttotal: 1.68s\tremaining: 3.35s\n",
      "333:\tlearn: 0.1480319\ttotal: 1.68s\tremaining: 3.35s\n",
      "334:\tlearn: 0.1478039\ttotal: 1.68s\tremaining: 3.33s\n",
      "335:\tlearn: 0.1473741\ttotal: 1.68s\tremaining: 3.32s\n",
      "336:\tlearn: 0.1471697\ttotal: 1.68s\tremaining: 3.31s\n",
      "337:\tlearn: 0.1468819\ttotal: 1.69s\tremaining: 3.3s\n",
      "338:\tlearn: 0.1464042\ttotal: 1.69s\tremaining: 3.29s\n",
      "339:\tlearn: 0.1462082\ttotal: 1.69s\tremaining: 3.28s\n",
      "340:\tlearn: 0.1458698\ttotal: 1.69s\tremaining: 3.27s\n",
      "341:\tlearn: 0.1455834\ttotal: 1.69s\tremaining: 3.26s\n",
      "342:\tlearn: 0.1454801\ttotal: 1.69s\tremaining: 3.25s\n",
      "343:\tlearn: 0.1452802\ttotal: 1.7s\tremaining: 3.23s\n",
      "344:\tlearn: 0.1449426\ttotal: 1.7s\tremaining: 3.23s\n",
      "345:\tlearn: 0.1445630\ttotal: 1.7s\tremaining: 3.21s\n",
      "346:\tlearn: 0.1441143\ttotal: 1.7s\tremaining: 3.21s\n",
      "347:\tlearn: 0.1437224\ttotal: 1.7s\tremaining: 3.19s\n",
      "348:\tlearn: 0.1434891\ttotal: 1.71s\tremaining: 3.18s\n",
      "349:\tlearn: 0.1431323\ttotal: 1.71s\tremaining: 3.18s\n",
      "350:\tlearn: 0.1426246\ttotal: 1.71s\tremaining: 3.17s\n",
      "351:\tlearn: 0.1423476\ttotal: 1.71s\tremaining: 3.16s\n",
      "352:\tlearn: 0.1420563\ttotal: 1.72s\tremaining: 3.15s\n",
      "353:\tlearn: 0.1418964\ttotal: 1.72s\tremaining: 3.14s\n",
      "354:\tlearn: 0.1416962\ttotal: 1.72s\tremaining: 3.13s\n",
      "355:\tlearn: 0.1416042\ttotal: 1.72s\tremaining: 3.12s\n",
      "356:\tlearn: 0.1413415\ttotal: 1.72s\tremaining: 3.1s\n",
      "357:\tlearn: 0.1412377\ttotal: 1.73s\tremaining: 3.09s\n",
      "358:\tlearn: 0.1410050\ttotal: 1.73s\tremaining: 3.08s\n",
      "359:\tlearn: 0.1406105\ttotal: 1.73s\tremaining: 3.07s\n",
      "360:\tlearn: 0.1400931\ttotal: 1.73s\tremaining: 3.06s\n",
      "361:\tlearn: 0.1397165\ttotal: 1.73s\tremaining: 3.05s\n",
      "362:\tlearn: 0.1395329\ttotal: 1.73s\tremaining: 3.04s\n",
      "363:\tlearn: 0.1392646\ttotal: 1.74s\tremaining: 3.03s\n",
      "364:\tlearn: 0.1390019\ttotal: 1.74s\tremaining: 3.02s\n"
     ]
    },
    {
     "name": "stdout",
     "output_type": "stream",
     "text": [
      "365:\tlearn: 0.1388731\ttotal: 1.74s\tremaining: 3.02s\n",
      "366:\tlearn: 0.1386716\ttotal: 1.74s\tremaining: 3.01s\n",
      "367:\tlearn: 0.1385816\ttotal: 1.75s\tremaining: 3s\n",
      "368:\tlearn: 0.1381488\ttotal: 1.75s\tremaining: 2.99s\n",
      "369:\tlearn: 0.1377921\ttotal: 1.75s\tremaining: 2.98s\n",
      "370:\tlearn: 0.1373563\ttotal: 1.75s\tremaining: 2.98s\n",
      "371:\tlearn: 0.1370242\ttotal: 1.76s\tremaining: 2.97s\n",
      "372:\tlearn: 0.1366519\ttotal: 1.76s\tremaining: 2.96s\n",
      "373:\tlearn: 0.1365679\ttotal: 1.76s\tremaining: 2.95s\n",
      "374:\tlearn: 0.1363173\ttotal: 1.76s\tremaining: 2.94s\n",
      "375:\tlearn: 0.1361870\ttotal: 1.76s\tremaining: 2.93s\n",
      "376:\tlearn: 0.1356561\ttotal: 1.77s\tremaining: 2.92s\n",
      "377:\tlearn: 0.1352905\ttotal: 1.77s\tremaining: 2.91s\n",
      "378:\tlearn: 0.1351723\ttotal: 1.77s\tremaining: 2.9s\n",
      "379:\tlearn: 0.1347316\ttotal: 1.77s\tremaining: 2.89s\n",
      "380:\tlearn: 0.1345513\ttotal: 1.77s\tremaining: 2.88s\n",
      "381:\tlearn: 0.1343608\ttotal: 1.78s\tremaining: 2.87s\n",
      "382:\tlearn: 0.1341076\ttotal: 1.78s\tremaining: 2.87s\n",
      "383:\tlearn: 0.1337092\ttotal: 1.78s\tremaining: 2.86s\n",
      "384:\tlearn: 0.1334919\ttotal: 1.78s\tremaining: 2.85s\n",
      "385:\tlearn: 0.1331148\ttotal: 1.78s\tremaining: 2.84s\n",
      "386:\tlearn: 0.1326821\ttotal: 1.79s\tremaining: 2.83s\n",
      "387:\tlearn: 0.1323948\ttotal: 1.79s\tremaining: 2.83s\n",
      "388:\tlearn: 0.1322281\ttotal: 1.8s\tremaining: 2.83s\n",
      "389:\tlearn: 0.1318658\ttotal: 1.81s\tremaining: 2.83s\n",
      "390:\tlearn: 0.1317872\ttotal: 1.81s\tremaining: 2.82s\n",
      "391:\tlearn: 0.1315614\ttotal: 1.81s\tremaining: 2.81s\n",
      "392:\tlearn: 0.1313376\ttotal: 1.81s\tremaining: 2.8s\n",
      "393:\tlearn: 0.1310931\ttotal: 1.82s\tremaining: 2.79s\n",
      "394:\tlearn: 0.1309609\ttotal: 1.82s\tremaining: 2.78s\n",
      "395:\tlearn: 0.1306657\ttotal: 1.82s\tremaining: 2.78s\n",
      "396:\tlearn: 0.1303864\ttotal: 1.82s\tremaining: 2.77s\n",
      "397:\tlearn: 0.1301631\ttotal: 1.82s\tremaining: 2.76s\n",
      "398:\tlearn: 0.1299129\ttotal: 1.83s\tremaining: 2.75s\n",
      "399:\tlearn: 0.1297045\ttotal: 1.83s\tremaining: 2.75s\n",
      "400:\tlearn: 0.1294584\ttotal: 1.83s\tremaining: 2.74s\n",
      "401:\tlearn: 0.1292973\ttotal: 1.83s\tremaining: 2.73s\n",
      "402:\tlearn: 0.1291711\ttotal: 1.84s\tremaining: 2.72s\n",
      "403:\tlearn: 0.1288657\ttotal: 1.84s\tremaining: 2.71s\n",
      "404:\tlearn: 0.1286226\ttotal: 1.84s\tremaining: 2.71s\n",
      "405:\tlearn: 0.1284669\ttotal: 1.84s\tremaining: 2.7s\n",
      "406:\tlearn: 0.1281813\ttotal: 1.85s\tremaining: 2.69s\n",
      "407:\tlearn: 0.1278614\ttotal: 1.85s\tremaining: 2.68s\n",
      "408:\tlearn: 0.1275582\ttotal: 1.85s\tremaining: 2.68s\n",
      "409:\tlearn: 0.1272650\ttotal: 1.85s\tremaining: 2.67s\n",
      "410:\tlearn: 0.1269953\ttotal: 1.86s\tremaining: 2.66s\n",
      "411:\tlearn: 0.1268605\ttotal: 1.86s\tremaining: 2.65s\n",
      "412:\tlearn: 0.1265322\ttotal: 1.86s\tremaining: 2.65s\n",
      "413:\tlearn: 0.1264161\ttotal: 1.86s\tremaining: 2.64s\n",
      "414:\tlearn: 0.1262183\ttotal: 1.87s\tremaining: 2.63s\n",
      "415:\tlearn: 0.1259701\ttotal: 1.87s\tremaining: 2.63s\n",
      "416:\tlearn: 0.1255596\ttotal: 1.87s\tremaining: 2.62s\n",
      "417:\tlearn: 0.1252920\ttotal: 1.87s\tremaining: 2.61s\n",
      "418:\tlearn: 0.1251021\ttotal: 1.88s\tremaining: 2.6s\n",
      "419:\tlearn: 0.1250301\ttotal: 1.88s\tremaining: 2.6s\n",
      "420:\tlearn: 0.1249028\ttotal: 1.88s\tremaining: 2.59s\n",
      "421:\tlearn: 0.1247440\ttotal: 1.89s\tremaining: 2.58s\n",
      "422:\tlearn: 0.1244775\ttotal: 1.89s\tremaining: 2.58s\n",
      "423:\tlearn: 0.1242093\ttotal: 1.89s\tremaining: 2.57s\n",
      "424:\tlearn: 0.1237658\ttotal: 1.89s\tremaining: 2.56s\n",
      "425:\tlearn: 0.1234414\ttotal: 1.9s\tremaining: 2.56s\n",
      "426:\tlearn: 0.1232942\ttotal: 1.9s\tremaining: 2.55s\n",
      "427:\tlearn: 0.1229622\ttotal: 1.9s\tremaining: 2.54s\n",
      "428:\tlearn: 0.1226556\ttotal: 1.9s\tremaining: 2.53s\n",
      "429:\tlearn: 0.1224807\ttotal: 1.9s\tremaining: 2.52s\n",
      "430:\tlearn: 0.1223922\ttotal: 1.91s\tremaining: 2.52s\n",
      "431:\tlearn: 0.1221529\ttotal: 1.91s\tremaining: 2.51s\n",
      "432:\tlearn: 0.1217922\ttotal: 1.91s\tremaining: 2.5s\n",
      "433:\tlearn: 0.1216753\ttotal: 1.91s\tremaining: 2.49s\n",
      "434:\tlearn: 0.1214124\ttotal: 1.91s\tremaining: 2.49s\n",
      "435:\tlearn: 0.1211036\ttotal: 1.92s\tremaining: 2.48s\n",
      "436:\tlearn: 0.1208370\ttotal: 1.92s\tremaining: 2.47s\n",
      "437:\tlearn: 0.1205416\ttotal: 1.92s\tremaining: 2.46s\n",
      "438:\tlearn: 0.1204479\ttotal: 1.92s\tremaining: 2.45s\n"
     ]
    },
    {
     "name": "stdout",
     "output_type": "stream",
     "text": [
      "439:\tlearn: 0.1201269\ttotal: 1.92s\tremaining: 2.45s\n",
      "440:\tlearn: 0.1197863\ttotal: 1.93s\tremaining: 2.44s\n",
      "441:\tlearn: 0.1195117\ttotal: 1.93s\tremaining: 2.44s\n",
      "442:\tlearn: 0.1192641\ttotal: 1.93s\tremaining: 2.43s\n",
      "443:\tlearn: 0.1190950\ttotal: 1.93s\tremaining: 2.42s\n",
      "444:\tlearn: 0.1189566\ttotal: 1.93s\tremaining: 2.41s\n",
      "445:\tlearn: 0.1187808\ttotal: 1.94s\tremaining: 2.4s\n",
      "446:\tlearn: 0.1187061\ttotal: 1.94s\tremaining: 2.4s\n",
      "447:\tlearn: 0.1186233\ttotal: 1.94s\tremaining: 2.39s\n",
      "448:\tlearn: 0.1185550\ttotal: 1.94s\tremaining: 2.38s\n",
      "449:\tlearn: 0.1182821\ttotal: 1.94s\tremaining: 2.38s\n",
      "450:\tlearn: 0.1180907\ttotal: 1.95s\tremaining: 2.37s\n",
      "451:\tlearn: 0.1180212\ttotal: 1.95s\tremaining: 2.36s\n",
      "452:\tlearn: 0.1177934\ttotal: 1.95s\tremaining: 2.35s\n",
      "453:\tlearn: 0.1174621\ttotal: 1.95s\tremaining: 2.35s\n",
      "454:\tlearn: 0.1172784\ttotal: 1.95s\tremaining: 2.34s\n",
      "455:\tlearn: 0.1170344\ttotal: 1.96s\tremaining: 2.33s\n",
      "456:\tlearn: 0.1167153\ttotal: 1.96s\tremaining: 2.33s\n",
      "457:\tlearn: 0.1165728\ttotal: 1.96s\tremaining: 2.32s\n",
      "458:\tlearn: 0.1162936\ttotal: 1.96s\tremaining: 2.31s\n",
      "459:\tlearn: 0.1161757\ttotal: 1.96s\tremaining: 2.3s\n",
      "460:\tlearn: 0.1158869\ttotal: 1.96s\tremaining: 2.3s\n",
      "461:\tlearn: 0.1157865\ttotal: 1.97s\tremaining: 2.29s\n",
      "462:\tlearn: 0.1155985\ttotal: 1.97s\tremaining: 2.28s\n",
      "463:\tlearn: 0.1155039\ttotal: 1.97s\tremaining: 2.27s\n",
      "464:\tlearn: 0.1153162\ttotal: 1.97s\tremaining: 2.27s\n",
      "465:\tlearn: 0.1150925\ttotal: 1.97s\tremaining: 2.26s\n",
      "466:\tlearn: 0.1149608\ttotal: 1.98s\tremaining: 2.25s\n",
      "467:\tlearn: 0.1148755\ttotal: 1.98s\tremaining: 2.25s\n",
      "468:\tlearn: 0.1146523\ttotal: 1.98s\tremaining: 2.24s\n",
      "469:\tlearn: 0.1144359\ttotal: 1.99s\tremaining: 2.24s\n",
      "470:\tlearn: 0.1142906\ttotal: 1.99s\tremaining: 2.23s\n",
      "471:\tlearn: 0.1140945\ttotal: 1.99s\tremaining: 2.23s\n",
      "472:\tlearn: 0.1137756\ttotal: 1.99s\tremaining: 2.22s\n",
      "473:\tlearn: 0.1137248\ttotal: 2s\tremaining: 2.21s\n",
      "474:\tlearn: 0.1134645\ttotal: 2s\tremaining: 2.21s\n",
      "475:\tlearn: 0.1133672\ttotal: 2s\tremaining: 2.2s\n",
      "476:\tlearn: 0.1131066\ttotal: 2s\tremaining: 2.2s\n",
      "477:\tlearn: 0.1129293\ttotal: 2s\tremaining: 2.19s\n",
      "478:\tlearn: 0.1127236\ttotal: 2.01s\tremaining: 2.19s\n",
      "479:\tlearn: 0.1126589\ttotal: 2.02s\tremaining: 2.19s\n",
      "480:\tlearn: 0.1124526\ttotal: 2.03s\tremaining: 2.19s\n",
      "481:\tlearn: 0.1124038\ttotal: 2.03s\tremaining: 2.18s\n",
      "482:\tlearn: 0.1122309\ttotal: 2.04s\tremaining: 2.18s\n",
      "483:\tlearn: 0.1120294\ttotal: 2.04s\tremaining: 2.17s\n",
      "484:\tlearn: 0.1117644\ttotal: 2.04s\tremaining: 2.17s\n",
      "485:\tlearn: 0.1114522\ttotal: 2.05s\tremaining: 2.16s\n",
      "486:\tlearn: 0.1113966\ttotal: 2.05s\tremaining: 2.16s\n",
      "487:\tlearn: 0.1112462\ttotal: 2.06s\tremaining: 2.16s\n",
      "488:\tlearn: 0.1109611\ttotal: 2.06s\tremaining: 2.15s\n",
      "489:\tlearn: 0.1107455\ttotal: 2.06s\tremaining: 2.15s\n",
      "490:\tlearn: 0.1104117\ttotal: 2.07s\tremaining: 2.14s\n",
      "491:\tlearn: 0.1101537\ttotal: 2.07s\tremaining: 2.14s\n",
      "492:\tlearn: 0.1099552\ttotal: 2.07s\tremaining: 2.13s\n",
      "493:\tlearn: 0.1096915\ttotal: 2.07s\tremaining: 2.12s\n",
      "494:\tlearn: 0.1096401\ttotal: 2.08s\tremaining: 2.12s\n",
      "495:\tlearn: 0.1093590\ttotal: 2.08s\tremaining: 2.11s\n",
      "496:\tlearn: 0.1091806\ttotal: 2.08s\tremaining: 2.11s\n",
      "497:\tlearn: 0.1089711\ttotal: 2.08s\tremaining: 2.1s\n",
      "498:\tlearn: 0.1088317\ttotal: 2.09s\tremaining: 2.1s\n",
      "499:\tlearn: 0.1085863\ttotal: 2.09s\tremaining: 2.09s\n",
      "500:\tlearn: 0.1084536\ttotal: 2.09s\tremaining: 2.08s\n",
      "501:\tlearn: 0.1082011\ttotal: 2.1s\tremaining: 2.08s\n"
     ]
    },
    {
     "name": "stdout",
     "output_type": "stream",
     "text": [
      "502:\tlearn: 0.1079214\ttotal: 2.1s\tremaining: 2.07s\n",
      "503:\tlearn: 0.1077027\ttotal: 2.1s\tremaining: 2.07s\n",
      "504:\tlearn: 0.1076011\ttotal: 2.1s\tremaining: 2.06s\n",
      "505:\tlearn: 0.1073185\ttotal: 2.11s\tremaining: 2.06s\n",
      "506:\tlearn: 0.1071923\ttotal: 2.11s\tremaining: 2.05s\n",
      "507:\tlearn: 0.1070339\ttotal: 2.11s\tremaining: 2.04s\n",
      "508:\tlearn: 0.1069466\ttotal: 2.11s\tremaining: 2.04s\n",
      "509:\tlearn: 0.1067988\ttotal: 2.11s\tremaining: 2.03s\n",
      "510:\tlearn: 0.1065515\ttotal: 2.12s\tremaining: 2.02s\n",
      "511:\tlearn: 0.1063273\ttotal: 2.12s\tremaining: 2.02s\n",
      "512:\tlearn: 0.1061827\ttotal: 2.12s\tremaining: 2.01s\n",
      "513:\tlearn: 0.1061252\ttotal: 2.12s\tremaining: 2.01s\n",
      "514:\tlearn: 0.1058978\ttotal: 2.12s\tremaining: 2s\n",
      "515:\tlearn: 0.1056937\ttotal: 2.13s\tremaining: 1.99s\n",
      "516:\tlearn: 0.1054861\ttotal: 2.13s\tremaining: 1.99s\n",
      "517:\tlearn: 0.1054268\ttotal: 2.13s\tremaining: 1.98s\n",
      "518:\tlearn: 0.1053839\ttotal: 2.13s\tremaining: 1.97s\n",
      "519:\tlearn: 0.1051752\ttotal: 2.13s\tremaining: 1.97s\n",
      "520:\tlearn: 0.1049156\ttotal: 2.13s\tremaining: 1.96s\n",
      "521:\tlearn: 0.1047549\ttotal: 2.14s\tremaining: 1.96s\n",
      "522:\tlearn: 0.1044981\ttotal: 2.14s\tremaining: 1.95s\n",
      "523:\tlearn: 0.1043179\ttotal: 2.14s\tremaining: 1.95s\n",
      "524:\tlearn: 0.1041978\ttotal: 2.14s\tremaining: 1.94s\n",
      "525:\tlearn: 0.1039899\ttotal: 2.15s\tremaining: 1.93s\n",
      "526:\tlearn: 0.1038047\ttotal: 2.15s\tremaining: 1.93s\n",
      "527:\tlearn: 0.1036994\ttotal: 2.15s\tremaining: 1.92s\n",
      "528:\tlearn: 0.1035815\ttotal: 2.15s\tremaining: 1.92s\n",
      "529:\tlearn: 0.1034215\ttotal: 2.15s\tremaining: 1.91s\n",
      "530:\tlearn: 0.1033222\ttotal: 2.16s\tremaining: 1.91s\n",
      "531:\tlearn: 0.1029919\ttotal: 2.16s\tremaining: 1.9s\n",
      "532:\tlearn: 0.1028423\ttotal: 2.16s\tremaining: 1.89s\n",
      "533:\tlearn: 0.1027049\ttotal: 2.16s\tremaining: 1.89s\n",
      "534:\tlearn: 0.1024114\ttotal: 2.16s\tremaining: 1.88s\n",
      "535:\tlearn: 0.1021843\ttotal: 2.17s\tremaining: 1.88s\n",
      "536:\tlearn: 0.1019116\ttotal: 2.17s\tremaining: 1.87s\n",
      "537:\tlearn: 0.1016661\ttotal: 2.17s\tremaining: 1.86s\n",
      "538:\tlearn: 0.1015322\ttotal: 2.17s\tremaining: 1.86s\n",
      "539:\tlearn: 0.1013485\ttotal: 2.17s\tremaining: 1.85s\n",
      "540:\tlearn: 0.1011396\ttotal: 2.18s\tremaining: 1.85s\n",
      "541:\tlearn: 0.1009525\ttotal: 2.18s\tremaining: 1.84s\n",
      "542:\tlearn: 0.1007777\ttotal: 2.18s\tremaining: 1.83s\n",
      "543:\tlearn: 0.1005767\ttotal: 2.18s\tremaining: 1.83s\n",
      "544:\tlearn: 0.1003490\ttotal: 2.19s\tremaining: 1.82s\n",
      "545:\tlearn: 0.1001212\ttotal: 2.19s\tremaining: 1.82s\n",
      "546:\tlearn: 0.0999021\ttotal: 2.19s\tremaining: 1.81s\n",
      "547:\tlearn: 0.0997355\ttotal: 2.19s\tremaining: 1.81s\n",
      "548:\tlearn: 0.0995463\ttotal: 2.19s\tremaining: 1.8s\n",
      "549:\tlearn: 0.0993810\ttotal: 2.19s\tremaining: 1.8s\n",
      "550:\tlearn: 0.0993084\ttotal: 2.2s\tremaining: 1.79s\n",
      "551:\tlearn: 0.0991401\ttotal: 2.2s\tremaining: 1.78s\n",
      "552:\tlearn: 0.0988499\ttotal: 2.2s\tremaining: 1.78s\n",
      "553:\tlearn: 0.0986304\ttotal: 2.2s\tremaining: 1.77s\n",
      "554:\tlearn: 0.0984772\ttotal: 2.21s\tremaining: 1.77s\n",
      "555:\tlearn: 0.0982659\ttotal: 2.21s\tremaining: 1.76s\n",
      "556:\tlearn: 0.0982052\ttotal: 2.21s\tremaining: 1.76s\n",
      "557:\tlearn: 0.0980364\ttotal: 2.21s\tremaining: 1.75s\n",
      "558:\tlearn: 0.0978931\ttotal: 2.21s\tremaining: 1.75s\n",
      "559:\tlearn: 0.0976883\ttotal: 2.21s\tremaining: 1.74s\n",
      "560:\tlearn: 0.0975303\ttotal: 2.22s\tremaining: 1.74s\n",
      "561:\tlearn: 0.0973911\ttotal: 2.22s\tremaining: 1.73s\n",
      "562:\tlearn: 0.0971577\ttotal: 2.22s\tremaining: 1.72s\n",
      "563:\tlearn: 0.0969556\ttotal: 2.22s\tremaining: 1.72s\n",
      "564:\tlearn: 0.0967336\ttotal: 2.23s\tremaining: 1.71s\n",
      "565:\tlearn: 0.0966110\ttotal: 2.23s\tremaining: 1.71s\n",
      "566:\tlearn: 0.0964018\ttotal: 2.23s\tremaining: 1.7s\n",
      "567:\tlearn: 0.0961955\ttotal: 2.23s\tremaining: 1.7s\n",
      "568:\tlearn: 0.0960231\ttotal: 2.24s\tremaining: 1.69s\n",
      "569:\tlearn: 0.0958094\ttotal: 2.24s\tremaining: 1.69s\n",
      "570:\tlearn: 0.0956050\ttotal: 2.24s\tremaining: 1.68s\n",
      "571:\tlearn: 0.0954515\ttotal: 2.24s\tremaining: 1.68s\n",
      "572:\tlearn: 0.0951465\ttotal: 2.25s\tremaining: 1.67s\n",
      "573:\tlearn: 0.0949799\ttotal: 2.25s\tremaining: 1.67s\n",
      "574:\tlearn: 0.0948708\ttotal: 2.25s\tremaining: 1.66s\n",
      "575:\tlearn: 0.0947528\ttotal: 2.25s\tremaining: 1.66s\n",
      "576:\tlearn: 0.0946056\ttotal: 2.26s\tremaining: 1.65s\n",
      "577:\tlearn: 0.0944664\ttotal: 2.26s\tremaining: 1.65s\n",
      "578:\tlearn: 0.0943307\ttotal: 2.26s\tremaining: 1.64s\n",
      "579:\tlearn: 0.0941126\ttotal: 2.26s\tremaining: 1.64s\n",
      "580:\tlearn: 0.0939567\ttotal: 2.27s\tremaining: 1.63s\n",
      "581:\tlearn: 0.0936617\ttotal: 2.27s\tremaining: 1.63s\n",
      "582:\tlearn: 0.0935702\ttotal: 2.27s\tremaining: 1.62s\n"
     ]
    },
    {
     "name": "stdout",
     "output_type": "stream",
     "text": [
      "583:\tlearn: 0.0934916\ttotal: 2.27s\tremaining: 1.62s\n",
      "584:\tlearn: 0.0932931\ttotal: 2.27s\tremaining: 1.61s\n",
      "585:\tlearn: 0.0931569\ttotal: 2.28s\tremaining: 1.61s\n",
      "586:\tlearn: 0.0930664\ttotal: 2.28s\tremaining: 1.6s\n",
      "587:\tlearn: 0.0928257\ttotal: 2.28s\tremaining: 1.6s\n",
      "588:\tlearn: 0.0927129\ttotal: 2.29s\tremaining: 1.59s\n",
      "589:\tlearn: 0.0924905\ttotal: 2.29s\tremaining: 1.59s\n",
      "590:\tlearn: 0.0922698\ttotal: 2.29s\tremaining: 1.58s\n",
      "591:\tlearn: 0.0920823\ttotal: 2.29s\tremaining: 1.58s\n",
      "592:\tlearn: 0.0918215\ttotal: 2.29s\tremaining: 1.57s\n",
      "593:\tlearn: 0.0915951\ttotal: 2.3s\tremaining: 1.57s\n",
      "594:\tlearn: 0.0914300\ttotal: 2.3s\tremaining: 1.56s\n",
      "595:\tlearn: 0.0912655\ttotal: 2.3s\tremaining: 1.56s\n",
      "596:\tlearn: 0.0911067\ttotal: 2.31s\tremaining: 1.56s\n",
      "597:\tlearn: 0.0908732\ttotal: 2.31s\tremaining: 1.55s\n",
      "598:\tlearn: 0.0908338\ttotal: 2.31s\tremaining: 1.55s\n",
      "599:\tlearn: 0.0907073\ttotal: 2.31s\tremaining: 1.54s\n",
      "600:\tlearn: 0.0905130\ttotal: 2.32s\tremaining: 1.54s\n",
      "601:\tlearn: 0.0903235\ttotal: 2.32s\tremaining: 1.53s\n",
      "602:\tlearn: 0.0902513\ttotal: 2.32s\tremaining: 1.53s\n",
      "603:\tlearn: 0.0902231\ttotal: 2.33s\tremaining: 1.52s\n",
      "604:\tlearn: 0.0900376\ttotal: 2.33s\tremaining: 1.52s\n",
      "605:\tlearn: 0.0899348\ttotal: 2.33s\tremaining: 1.51s\n",
      "606:\tlearn: 0.0898920\ttotal: 2.33s\tremaining: 1.51s\n",
      "607:\tlearn: 0.0897038\ttotal: 2.33s\tremaining: 1.5s\n",
      "608:\tlearn: 0.0895261\ttotal: 2.34s\tremaining: 1.5s\n",
      "609:\tlearn: 0.0892643\ttotal: 2.34s\tremaining: 1.5s\n",
      "610:\tlearn: 0.0891725\ttotal: 2.34s\tremaining: 1.49s\n",
      "611:\tlearn: 0.0890355\ttotal: 2.35s\tremaining: 1.49s\n",
      "612:\tlearn: 0.0888379\ttotal: 2.35s\tremaining: 1.48s\n",
      "613:\tlearn: 0.0886577\ttotal: 2.35s\tremaining: 1.48s\n",
      "614:\tlearn: 0.0884443\ttotal: 2.35s\tremaining: 1.47s\n",
      "615:\tlearn: 0.0882476\ttotal: 2.35s\tremaining: 1.47s\n",
      "616:\tlearn: 0.0880753\ttotal: 2.36s\tremaining: 1.46s\n",
      "617:\tlearn: 0.0879919\ttotal: 2.36s\tremaining: 1.46s\n",
      "618:\tlearn: 0.0878772\ttotal: 2.36s\tremaining: 1.45s\n",
      "619:\tlearn: 0.0877912\ttotal: 2.37s\tremaining: 1.45s\n",
      "620:\tlearn: 0.0876027\ttotal: 2.37s\tremaining: 1.45s\n",
      "621:\tlearn: 0.0874016\ttotal: 2.37s\tremaining: 1.44s\n",
      "622:\tlearn: 0.0873236\ttotal: 2.38s\tremaining: 1.44s\n",
      "623:\tlearn: 0.0870851\ttotal: 2.38s\tremaining: 1.43s\n",
      "624:\tlearn: 0.0869480\ttotal: 2.38s\tremaining: 1.43s\n",
      "625:\tlearn: 0.0867876\ttotal: 2.38s\tremaining: 1.42s\n",
      "626:\tlearn: 0.0866802\ttotal: 2.38s\tremaining: 1.42s\n",
      "627:\tlearn: 0.0866014\ttotal: 2.39s\tremaining: 1.41s\n",
      "628:\tlearn: 0.0864303\ttotal: 2.39s\tremaining: 1.41s\n",
      "629:\tlearn: 0.0863169\ttotal: 2.39s\tremaining: 1.4s\n",
      "630:\tlearn: 0.0862687\ttotal: 2.39s\tremaining: 1.4s\n",
      "631:\tlearn: 0.0861788\ttotal: 2.4s\tremaining: 1.4s\n",
      "632:\tlearn: 0.0860169\ttotal: 2.4s\tremaining: 1.39s\n",
      "633:\tlearn: 0.0859366\ttotal: 2.4s\tremaining: 1.39s\n",
      "634:\tlearn: 0.0857778\ttotal: 2.4s\tremaining: 1.38s\n",
      "635:\tlearn: 0.0856299\ttotal: 2.41s\tremaining: 1.38s\n",
      "636:\tlearn: 0.0855230\ttotal: 2.41s\tremaining: 1.37s\n",
      "637:\tlearn: 0.0853001\ttotal: 2.41s\tremaining: 1.37s\n",
      "638:\tlearn: 0.0851743\ttotal: 2.41s\tremaining: 1.36s\n",
      "639:\tlearn: 0.0851538\ttotal: 2.42s\tremaining: 1.36s\n",
      "640:\tlearn: 0.0849499\ttotal: 2.42s\tremaining: 1.35s\n",
      "641:\tlearn: 0.0848011\ttotal: 2.42s\tremaining: 1.35s\n",
      "642:\tlearn: 0.0846464\ttotal: 2.42s\tremaining: 1.35s\n",
      "643:\tlearn: 0.0845699\ttotal: 2.43s\tremaining: 1.34s\n",
      "644:\tlearn: 0.0843992\ttotal: 2.43s\tremaining: 1.34s\n",
      "645:\tlearn: 0.0842771\ttotal: 2.43s\tremaining: 1.33s\n",
      "646:\tlearn: 0.0840789\ttotal: 2.43s\tremaining: 1.33s\n",
      "647:\tlearn: 0.0838993\ttotal: 2.44s\tremaining: 1.32s\n",
      "648:\tlearn: 0.0837365\ttotal: 2.44s\tremaining: 1.32s\n",
      "649:\tlearn: 0.0835437\ttotal: 2.44s\tremaining: 1.31s\n",
      "650:\tlearn: 0.0834555\ttotal: 2.44s\tremaining: 1.31s\n",
      "651:\tlearn: 0.0833620\ttotal: 2.44s\tremaining: 1.3s\n",
      "652:\tlearn: 0.0832021\ttotal: 2.45s\tremaining: 1.3s\n",
      "653:\tlearn: 0.0831011\ttotal: 2.45s\tremaining: 1.3s\n"
     ]
    },
    {
     "name": "stdout",
     "output_type": "stream",
     "text": [
      "654:\tlearn: 0.0830205\ttotal: 2.45s\tremaining: 1.29s\n",
      "655:\tlearn: 0.0828788\ttotal: 2.45s\tremaining: 1.29s\n",
      "656:\tlearn: 0.0828047\ttotal: 2.46s\tremaining: 1.28s\n",
      "657:\tlearn: 0.0827417\ttotal: 2.46s\tremaining: 1.28s\n",
      "658:\tlearn: 0.0824994\ttotal: 2.46s\tremaining: 1.27s\n",
      "659:\tlearn: 0.0823439\ttotal: 2.46s\tremaining: 1.27s\n",
      "660:\tlearn: 0.0822179\ttotal: 2.46s\tremaining: 1.26s\n",
      "661:\tlearn: 0.0820653\ttotal: 2.46s\tremaining: 1.26s\n",
      "662:\tlearn: 0.0818564\ttotal: 2.47s\tremaining: 1.25s\n",
      "663:\tlearn: 0.0816885\ttotal: 2.47s\tremaining: 1.25s\n",
      "664:\tlearn: 0.0815557\ttotal: 2.47s\tremaining: 1.24s\n",
      "665:\tlearn: 0.0813660\ttotal: 2.47s\tremaining: 1.24s\n",
      "666:\tlearn: 0.0812915\ttotal: 2.47s\tremaining: 1.24s\n",
      "667:\tlearn: 0.0812328\ttotal: 2.48s\tremaining: 1.23s\n",
      "668:\tlearn: 0.0811076\ttotal: 2.48s\tremaining: 1.23s\n",
      "669:\tlearn: 0.0810225\ttotal: 2.48s\tremaining: 1.22s\n",
      "670:\tlearn: 0.0809257\ttotal: 2.48s\tremaining: 1.22s\n",
      "671:\tlearn: 0.0807279\ttotal: 2.48s\tremaining: 1.21s\n",
      "672:\tlearn: 0.0805580\ttotal: 2.49s\tremaining: 1.21s\n",
      "673:\tlearn: 0.0804455\ttotal: 2.49s\tremaining: 1.2s\n",
      "674:\tlearn: 0.0803079\ttotal: 2.49s\tremaining: 1.2s\n",
      "675:\tlearn: 0.0801535\ttotal: 2.49s\tremaining: 1.19s\n",
      "676:\tlearn: 0.0800214\ttotal: 2.5s\tremaining: 1.19s\n",
      "677:\tlearn: 0.0800073\ttotal: 2.5s\tremaining: 1.19s\n",
      "678:\tlearn: 0.0797736\ttotal: 2.5s\tremaining: 1.18s\n",
      "679:\tlearn: 0.0797592\ttotal: 2.5s\tremaining: 1.18s\n",
      "680:\tlearn: 0.0796011\ttotal: 2.5s\tremaining: 1.17s\n",
      "681:\tlearn: 0.0795317\ttotal: 2.5s\tremaining: 1.17s\n",
      "682:\tlearn: 0.0793854\ttotal: 2.51s\tremaining: 1.16s\n",
      "683:\tlearn: 0.0793282\ttotal: 2.51s\tremaining: 1.16s\n",
      "684:\tlearn: 0.0792644\ttotal: 2.51s\tremaining: 1.15s\n",
      "685:\tlearn: 0.0791706\ttotal: 2.51s\tremaining: 1.15s\n",
      "686:\tlearn: 0.0790235\ttotal: 2.51s\tremaining: 1.15s\n",
      "687:\tlearn: 0.0788881\ttotal: 2.52s\tremaining: 1.14s\n",
      "688:\tlearn: 0.0787294\ttotal: 2.52s\tremaining: 1.14s\n",
      "689:\tlearn: 0.0787170\ttotal: 2.52s\tremaining: 1.13s\n",
      "690:\tlearn: 0.0785506\ttotal: 2.52s\tremaining: 1.13s\n",
      "691:\tlearn: 0.0783953\ttotal: 2.52s\tremaining: 1.12s\n",
      "692:\tlearn: 0.0781871\ttotal: 2.53s\tremaining: 1.12s\n",
      "693:\tlearn: 0.0780699\ttotal: 2.53s\tremaining: 1.11s\n",
      "694:\tlearn: 0.0778966\ttotal: 2.53s\tremaining: 1.11s\n",
      "695:\tlearn: 0.0777143\ttotal: 2.53s\tremaining: 1.11s\n",
      "696:\tlearn: 0.0775375\ttotal: 2.54s\tremaining: 1.1s\n",
      "697:\tlearn: 0.0773214\ttotal: 2.54s\tremaining: 1.1s\n",
      "698:\tlearn: 0.0771922\ttotal: 2.54s\tremaining: 1.09s\n",
      "699:\tlearn: 0.0770409\ttotal: 2.54s\tremaining: 1.09s\n",
      "700:\tlearn: 0.0768142\ttotal: 2.54s\tremaining: 1.08s\n",
      "701:\tlearn: 0.0766694\ttotal: 2.54s\tremaining: 1.08s\n",
      "702:\tlearn: 0.0764756\ttotal: 2.55s\tremaining: 1.07s\n",
      "703:\tlearn: 0.0763674\ttotal: 2.55s\tremaining: 1.07s\n",
      "704:\tlearn: 0.0762475\ttotal: 2.55s\tremaining: 1.07s\n",
      "705:\tlearn: 0.0760938\ttotal: 2.55s\tremaining: 1.06s\n",
      "706:\tlearn: 0.0760808\ttotal: 2.56s\tremaining: 1.06s\n",
      "707:\tlearn: 0.0760477\ttotal: 2.56s\tremaining: 1.05s\n",
      "708:\tlearn: 0.0759760\ttotal: 2.56s\tremaining: 1.05s\n",
      "709:\tlearn: 0.0757687\ttotal: 2.56s\tremaining: 1.05s\n",
      "710:\tlearn: 0.0756294\ttotal: 2.57s\tremaining: 1.04s\n",
      "711:\tlearn: 0.0754671\ttotal: 2.57s\tremaining: 1.04s\n",
      "712:\tlearn: 0.0753746\ttotal: 2.57s\tremaining: 1.03s\n",
      "713:\tlearn: 0.0752337\ttotal: 2.57s\tremaining: 1.03s\n",
      "714:\tlearn: 0.0750828\ttotal: 2.58s\tremaining: 1.03s\n",
      "715:\tlearn: 0.0749288\ttotal: 2.58s\tremaining: 1.02s\n",
      "716:\tlearn: 0.0747810\ttotal: 2.58s\tremaining: 1.02s\n",
      "717:\tlearn: 0.0747143\ttotal: 2.58s\tremaining: 1.01s\n",
      "718:\tlearn: 0.0745659\ttotal: 2.58s\tremaining: 1.01s\n",
      "719:\tlearn: 0.0744801\ttotal: 2.59s\tremaining: 1.01s\n",
      "720:\tlearn: 0.0743369\ttotal: 2.59s\tremaining: 1s\n",
      "721:\tlearn: 0.0742662\ttotal: 2.59s\tremaining: 998ms\n",
      "722:\tlearn: 0.0740779\ttotal: 2.6s\tremaining: 994ms\n",
      "723:\tlearn: 0.0739648\ttotal: 2.6s\tremaining: 990ms\n",
      "724:\tlearn: 0.0738772\ttotal: 2.6s\tremaining: 986ms\n",
      "725:\tlearn: 0.0737057\ttotal: 2.6s\tremaining: 982ms\n",
      "726:\tlearn: 0.0736166\ttotal: 2.6s\tremaining: 978ms\n",
      "727:\tlearn: 0.0735102\ttotal: 2.61s\tremaining: 974ms\n",
      "728:\tlearn: 0.0733417\ttotal: 2.61s\tremaining: 970ms\n",
      "729:\tlearn: 0.0732609\ttotal: 2.61s\tremaining: 966ms\n",
      "730:\tlearn: 0.0731462\ttotal: 2.62s\tremaining: 962ms\n",
      "731:\tlearn: 0.0730226\ttotal: 2.62s\tremaining: 958ms\n",
      "732:\tlearn: 0.0729454\ttotal: 2.62s\tremaining: 954ms\n",
      "733:\tlearn: 0.0728035\ttotal: 2.62s\tremaining: 950ms\n",
      "734:\tlearn: 0.0724789\ttotal: 2.63s\tremaining: 947ms\n",
      "735:\tlearn: 0.0724262\ttotal: 2.63s\tremaining: 942ms\n",
      "736:\tlearn: 0.0723251\ttotal: 2.63s\tremaining: 938ms\n"
     ]
    },
    {
     "name": "stdout",
     "output_type": "stream",
     "text": [
      "737:\tlearn: 0.0722059\ttotal: 2.63s\tremaining: 934ms\n",
      "738:\tlearn: 0.0720582\ttotal: 2.63s\tremaining: 930ms\n",
      "739:\tlearn: 0.0719070\ttotal: 2.64s\tremaining: 927ms\n",
      "740:\tlearn: 0.0717352\ttotal: 2.64s\tremaining: 923ms\n",
      "741:\tlearn: 0.0716373\ttotal: 2.64s\tremaining: 919ms\n",
      "742:\tlearn: 0.0714937\ttotal: 2.64s\tremaining: 915ms\n",
      "743:\tlearn: 0.0713357\ttotal: 2.65s\tremaining: 911ms\n",
      "744:\tlearn: 0.0711666\ttotal: 2.65s\tremaining: 907ms\n",
      "745:\tlearn: 0.0710769\ttotal: 2.65s\tremaining: 903ms\n",
      "746:\tlearn: 0.0709820\ttotal: 2.65s\tremaining: 899ms\n",
      "747:\tlearn: 0.0708531\ttotal: 2.66s\tremaining: 895ms\n",
      "748:\tlearn: 0.0707119\ttotal: 2.66s\tremaining: 892ms\n",
      "749:\tlearn: 0.0706222\ttotal: 2.66s\tremaining: 888ms\n",
      "750:\tlearn: 0.0705451\ttotal: 2.66s\tremaining: 884ms\n",
      "751:\tlearn: 0.0704713\ttotal: 2.67s\tremaining: 879ms\n",
      "752:\tlearn: 0.0703127\ttotal: 2.67s\tremaining: 875ms\n",
      "753:\tlearn: 0.0701539\ttotal: 2.67s\tremaining: 871ms\n",
      "754:\tlearn: 0.0700330\ttotal: 2.67s\tremaining: 867ms\n",
      "755:\tlearn: 0.0699432\ttotal: 2.67s\tremaining: 863ms\n",
      "756:\tlearn: 0.0699333\ttotal: 2.67s\tremaining: 859ms\n",
      "757:\tlearn: 0.0699064\ttotal: 2.68s\tremaining: 855ms\n",
      "758:\tlearn: 0.0698921\ttotal: 2.68s\tremaining: 851ms\n",
      "759:\tlearn: 0.0697744\ttotal: 2.68s\tremaining: 847ms\n",
      "760:\tlearn: 0.0696617\ttotal: 2.68s\tremaining: 843ms\n",
      "761:\tlearn: 0.0695553\ttotal: 2.69s\tremaining: 839ms\n",
      "762:\tlearn: 0.0694650\ttotal: 2.69s\tremaining: 835ms\n",
      "763:\tlearn: 0.0694038\ttotal: 2.69s\tremaining: 830ms\n",
      "764:\tlearn: 0.0693490\ttotal: 2.69s\tremaining: 827ms\n",
      "765:\tlearn: 0.0692773\ttotal: 2.69s\tremaining: 822ms\n",
      "766:\tlearn: 0.0691581\ttotal: 2.69s\tremaining: 819ms\n",
      "767:\tlearn: 0.0690001\ttotal: 2.7s\tremaining: 815ms\n",
      "768:\tlearn: 0.0689168\ttotal: 2.7s\tremaining: 811ms\n",
      "769:\tlearn: 0.0688087\ttotal: 2.7s\tremaining: 807ms\n",
      "770:\tlearn: 0.0687021\ttotal: 2.7s\tremaining: 803ms\n",
      "771:\tlearn: 0.0686939\ttotal: 2.71s\tremaining: 799ms\n",
      "772:\tlearn: 0.0685695\ttotal: 2.71s\tremaining: 795ms\n",
      "773:\tlearn: 0.0684763\ttotal: 2.71s\tremaining: 791ms\n",
      "774:\tlearn: 0.0684659\ttotal: 2.71s\tremaining: 787ms\n",
      "775:\tlearn: 0.0683120\ttotal: 2.71s\tremaining: 783ms\n",
      "776:\tlearn: 0.0681965\ttotal: 2.71s\tremaining: 779ms\n",
      "777:\tlearn: 0.0680354\ttotal: 2.72s\tremaining: 775ms\n",
      "778:\tlearn: 0.0679077\ttotal: 2.72s\tremaining: 771ms\n",
      "779:\tlearn: 0.0677744\ttotal: 2.72s\tremaining: 767ms\n",
      "780:\tlearn: 0.0677638\ttotal: 2.72s\tremaining: 763ms\n",
      "781:\tlearn: 0.0677118\ttotal: 2.72s\tremaining: 759ms\n",
      "782:\tlearn: 0.0676393\ttotal: 2.73s\tremaining: 755ms\n",
      "783:\tlearn: 0.0674845\ttotal: 2.73s\tremaining: 751ms\n",
      "784:\tlearn: 0.0673418\ttotal: 2.73s\tremaining: 748ms\n",
      "785:\tlearn: 0.0672185\ttotal: 2.73s\tremaining: 744ms\n",
      "786:\tlearn: 0.0671592\ttotal: 2.73s\tremaining: 740ms\n",
      "787:\tlearn: 0.0670977\ttotal: 2.73s\tremaining: 736ms\n",
      "788:\tlearn: 0.0670717\ttotal: 2.74s\tremaining: 732ms\n",
      "789:\tlearn: 0.0670599\ttotal: 2.74s\tremaining: 728ms\n",
      "790:\tlearn: 0.0669731\ttotal: 2.74s\tremaining: 724ms\n",
      "791:\tlearn: 0.0668192\ttotal: 2.74s\tremaining: 720ms\n",
      "792:\tlearn: 0.0667477\ttotal: 2.74s\tremaining: 717ms\n",
      "793:\tlearn: 0.0667360\ttotal: 2.75s\tremaining: 713ms\n",
      "794:\tlearn: 0.0666123\ttotal: 2.75s\tremaining: 709ms\n",
      "795:\tlearn: 0.0664662\ttotal: 2.75s\tremaining: 705ms\n",
      "796:\tlearn: 0.0663665\ttotal: 2.75s\tremaining: 701ms\n",
      "797:\tlearn: 0.0663386\ttotal: 2.76s\tremaining: 698ms\n",
      "798:\tlearn: 0.0661955\ttotal: 2.76s\tremaining: 694ms\n",
      "799:\tlearn: 0.0660630\ttotal: 2.76s\tremaining: 691ms\n",
      "800:\tlearn: 0.0659469\ttotal: 2.77s\tremaining: 688ms\n",
      "801:\tlearn: 0.0658963\ttotal: 2.77s\tremaining: 684ms\n",
      "802:\tlearn: 0.0658664\ttotal: 2.77s\tremaining: 680ms\n",
      "803:\tlearn: 0.0657646\ttotal: 2.77s\tremaining: 677ms\n",
      "804:\tlearn: 0.0656292\ttotal: 2.78s\tremaining: 673ms\n",
      "805:\tlearn: 0.0655537\ttotal: 2.78s\tremaining: 669ms\n",
      "806:\tlearn: 0.0654579\ttotal: 2.78s\tremaining: 665ms\n",
      "807:\tlearn: 0.0653202\ttotal: 2.78s\tremaining: 662ms\n",
      "808:\tlearn: 0.0652105\ttotal: 2.79s\tremaining: 658ms\n",
      "809:\tlearn: 0.0652029\ttotal: 2.79s\tremaining: 654ms\n",
      "810:\tlearn: 0.0651701\ttotal: 2.79s\tremaining: 651ms\n",
      "811:\tlearn: 0.0650891\ttotal: 2.79s\tremaining: 647ms\n"
     ]
    },
    {
     "name": "stdout",
     "output_type": "stream",
     "text": [
      "812:\tlearn: 0.0650132\ttotal: 2.8s\tremaining: 644ms\n",
      "813:\tlearn: 0.0649537\ttotal: 2.8s\tremaining: 640ms\n",
      "814:\tlearn: 0.0648511\ttotal: 2.8s\tremaining: 636ms\n",
      "815:\tlearn: 0.0647446\ttotal: 2.81s\tremaining: 633ms\n",
      "816:\tlearn: 0.0646022\ttotal: 2.81s\tremaining: 629ms\n",
      "817:\tlearn: 0.0644950\ttotal: 2.81s\tremaining: 625ms\n",
      "818:\tlearn: 0.0644094\ttotal: 2.81s\tremaining: 622ms\n",
      "819:\tlearn: 0.0642626\ttotal: 2.81s\tremaining: 618ms\n",
      "820:\tlearn: 0.0641833\ttotal: 2.82s\tremaining: 614ms\n",
      "821:\tlearn: 0.0640792\ttotal: 2.82s\tremaining: 611ms\n",
      "822:\tlearn: 0.0639732\ttotal: 2.82s\tremaining: 607ms\n",
      "823:\tlearn: 0.0639070\ttotal: 2.83s\tremaining: 604ms\n",
      "824:\tlearn: 0.0638263\ttotal: 2.83s\tremaining: 600ms\n",
      "825:\tlearn: 0.0636422\ttotal: 2.83s\tremaining: 596ms\n",
      "826:\tlearn: 0.0634635\ttotal: 2.83s\tremaining: 593ms\n",
      "827:\tlearn: 0.0633458\ttotal: 2.84s\tremaining: 589ms\n",
      "828:\tlearn: 0.0632560\ttotal: 2.84s\tremaining: 586ms\n",
      "829:\tlearn: 0.0631380\ttotal: 2.84s\tremaining: 582ms\n",
      "830:\tlearn: 0.0630273\ttotal: 2.85s\tremaining: 579ms\n",
      "831:\tlearn: 0.0629261\ttotal: 2.85s\tremaining: 575ms\n",
      "832:\tlearn: 0.0627843\ttotal: 2.85s\tremaining: 572ms\n",
      "833:\tlearn: 0.0626934\ttotal: 2.85s\tremaining: 568ms\n",
      "834:\tlearn: 0.0626228\ttotal: 2.86s\tremaining: 565ms\n",
      "835:\tlearn: 0.0625221\ttotal: 2.86s\tremaining: 561ms\n",
      "836:\tlearn: 0.0624200\ttotal: 2.86s\tremaining: 558ms\n",
      "837:\tlearn: 0.0623730\ttotal: 2.87s\tremaining: 554ms\n",
      "838:\tlearn: 0.0622245\ttotal: 2.87s\tremaining: 551ms\n",
      "839:\tlearn: 0.0621899\ttotal: 2.87s\tremaining: 547ms\n",
      "840:\tlearn: 0.0621339\ttotal: 2.88s\tremaining: 544ms\n",
      "841:\tlearn: 0.0620809\ttotal: 2.88s\tremaining: 540ms\n",
      "842:\tlearn: 0.0619715\ttotal: 2.88s\tremaining: 537ms\n",
      "843:\tlearn: 0.0618598\ttotal: 2.88s\tremaining: 533ms\n",
      "844:\tlearn: 0.0618193\ttotal: 2.89s\tremaining: 530ms\n",
      "845:\tlearn: 0.0617318\ttotal: 2.89s\tremaining: 526ms\n",
      "846:\tlearn: 0.0616603\ttotal: 2.89s\tremaining: 522ms\n",
      "847:\tlearn: 0.0615804\ttotal: 2.89s\tremaining: 519ms\n",
      "848:\tlearn: 0.0614267\ttotal: 2.89s\tremaining: 515ms\n",
      "849:\tlearn: 0.0612956\ttotal: 2.9s\tremaining: 511ms\n",
      "850:\tlearn: 0.0611312\ttotal: 2.9s\tremaining: 507ms\n",
      "851:\tlearn: 0.0610147\ttotal: 2.9s\tremaining: 504ms\n",
      "852:\tlearn: 0.0608775\ttotal: 2.9s\tremaining: 500ms\n",
      "853:\tlearn: 0.0608165\ttotal: 2.9s\tremaining: 497ms\n",
      "854:\tlearn: 0.0607502\ttotal: 2.91s\tremaining: 493ms\n",
      "855:\tlearn: 0.0606517\ttotal: 2.91s\tremaining: 489ms\n",
      "856:\tlearn: 0.0605776\ttotal: 2.91s\tremaining: 486ms\n",
      "857:\tlearn: 0.0605312\ttotal: 2.92s\tremaining: 483ms\n",
      "858:\tlearn: 0.0604366\ttotal: 2.92s\tremaining: 479ms\n",
      "859:\tlearn: 0.0603442\ttotal: 2.92s\tremaining: 476ms\n",
      "860:\tlearn: 0.0603357\ttotal: 2.92s\tremaining: 472ms\n",
      "861:\tlearn: 0.0602445\ttotal: 2.93s\tremaining: 469ms\n",
      "862:\tlearn: 0.0602023\ttotal: 2.93s\tremaining: 465ms\n",
      "863:\tlearn: 0.0600102\ttotal: 2.93s\tremaining: 462ms\n",
      "864:\tlearn: 0.0599377\ttotal: 2.93s\tremaining: 458ms\n",
      "865:\tlearn: 0.0598335\ttotal: 2.94s\tremaining: 454ms\n",
      "866:\tlearn: 0.0597179\ttotal: 2.94s\tremaining: 451ms\n",
      "867:\tlearn: 0.0596683\ttotal: 2.94s\tremaining: 447ms\n",
      "868:\tlearn: 0.0595635\ttotal: 2.94s\tremaining: 443ms\n",
      "869:\tlearn: 0.0593765\ttotal: 2.94s\tremaining: 440ms\n",
      "870:\tlearn: 0.0592553\ttotal: 2.94s\tremaining: 436ms\n",
      "871:\tlearn: 0.0591646\ttotal: 2.95s\tremaining: 433ms\n",
      "872:\tlearn: 0.0590535\ttotal: 2.95s\tremaining: 429ms\n",
      "873:\tlearn: 0.0588752\ttotal: 2.95s\tremaining: 425ms\n",
      "874:\tlearn: 0.0587803\ttotal: 2.95s\tremaining: 422ms\n",
      "875:\tlearn: 0.0586889\ttotal: 2.96s\tremaining: 418ms\n",
      "876:\tlearn: 0.0585956\ttotal: 2.96s\tremaining: 415ms\n",
      "877:\tlearn: 0.0585207\ttotal: 2.96s\tremaining: 411ms\n",
      "878:\tlearn: 0.0584705\ttotal: 2.96s\tremaining: 408ms\n",
      "879:\tlearn: 0.0584219\ttotal: 2.96s\tremaining: 404ms\n",
      "880:\tlearn: 0.0583382\ttotal: 2.96s\tremaining: 401ms\n",
      "881:\tlearn: 0.0582635\ttotal: 2.97s\tremaining: 397ms\n",
      "882:\tlearn: 0.0582262\ttotal: 2.97s\tremaining: 393ms\n",
      "883:\tlearn: 0.0581901\ttotal: 2.97s\tremaining: 390ms\n",
      "884:\tlearn: 0.0580753\ttotal: 2.97s\tremaining: 386ms\n"
     ]
    },
    {
     "name": "stdout",
     "output_type": "stream",
     "text": [
      "885:\tlearn: 0.0580249\ttotal: 2.98s\tremaining: 383ms\n",
      "886:\tlearn: 0.0579259\ttotal: 2.98s\tremaining: 380ms\n",
      "887:\tlearn: 0.0578712\ttotal: 2.98s\tremaining: 376ms\n",
      "888:\tlearn: 0.0577759\ttotal: 2.98s\tremaining: 373ms\n",
      "889:\tlearn: 0.0576820\ttotal: 2.99s\tremaining: 369ms\n",
      "890:\tlearn: 0.0575993\ttotal: 2.99s\tremaining: 366ms\n",
      "891:\tlearn: 0.0575141\ttotal: 3s\tremaining: 363ms\n",
      "892:\tlearn: 0.0574253\ttotal: 3s\tremaining: 359ms\n",
      "893:\tlearn: 0.0573197\ttotal: 3s\tremaining: 356ms\n",
      "894:\tlearn: 0.0571823\ttotal: 3s\tremaining: 352ms\n",
      "895:\tlearn: 0.0570866\ttotal: 3.01s\tremaining: 349ms\n",
      "896:\tlearn: 0.0570360\ttotal: 3.01s\tremaining: 346ms\n",
      "897:\tlearn: 0.0568837\ttotal: 3.01s\tremaining: 342ms\n",
      "898:\tlearn: 0.0567894\ttotal: 3.01s\tremaining: 339ms\n",
      "899:\tlearn: 0.0566681\ttotal: 3.02s\tremaining: 335ms\n",
      "900:\tlearn: 0.0565467\ttotal: 3.02s\tremaining: 332ms\n",
      "901:\tlearn: 0.0564003\ttotal: 3.02s\tremaining: 328ms\n",
      "902:\tlearn: 0.0563273\ttotal: 3.02s\tremaining: 325ms\n",
      "903:\tlearn: 0.0562344\ttotal: 3.03s\tremaining: 321ms\n",
      "904:\tlearn: 0.0561528\ttotal: 3.03s\tremaining: 318ms\n",
      "905:\tlearn: 0.0561170\ttotal: 3.03s\tremaining: 315ms\n",
      "906:\tlearn: 0.0560179\ttotal: 3.03s\tremaining: 311ms\n",
      "907:\tlearn: 0.0559432\ttotal: 3.04s\tremaining: 308ms\n",
      "908:\tlearn: 0.0558086\ttotal: 3.04s\tremaining: 304ms\n",
      "909:\tlearn: 0.0556938\ttotal: 3.04s\tremaining: 301ms\n",
      "910:\tlearn: 0.0556152\ttotal: 3.04s\tremaining: 297ms\n",
      "911:\tlearn: 0.0555063\ttotal: 3.05s\tremaining: 294ms\n",
      "912:\tlearn: 0.0554373\ttotal: 3.05s\tremaining: 291ms\n",
      "913:\tlearn: 0.0553374\ttotal: 3.05s\tremaining: 287ms\n",
      "914:\tlearn: 0.0552448\ttotal: 3.05s\tremaining: 284ms\n",
      "915:\tlearn: 0.0551648\ttotal: 3.06s\tremaining: 280ms\n",
      "916:\tlearn: 0.0550528\ttotal: 3.06s\tremaining: 277ms\n",
      "917:\tlearn: 0.0550442\ttotal: 3.06s\tremaining: 274ms\n",
      "918:\tlearn: 0.0549426\ttotal: 3.06s\tremaining: 270ms\n",
      "919:\tlearn: 0.0548018\ttotal: 3.07s\tremaining: 267ms\n",
      "920:\tlearn: 0.0547355\ttotal: 3.07s\tremaining: 263ms\n",
      "921:\tlearn: 0.0546382\ttotal: 3.07s\tremaining: 260ms\n",
      "922:\tlearn: 0.0545786\ttotal: 3.08s\tremaining: 257ms\n",
      "923:\tlearn: 0.0545713\ttotal: 3.08s\tremaining: 253ms\n",
      "924:\tlearn: 0.0545132\ttotal: 3.08s\tremaining: 250ms\n",
      "925:\tlearn: 0.0544300\ttotal: 3.08s\tremaining: 246ms\n",
      "926:\tlearn: 0.0543721\ttotal: 3.08s\tremaining: 243ms\n",
      "927:\tlearn: 0.0542933\ttotal: 3.09s\tremaining: 240ms\n",
      "928:\tlearn: 0.0542294\ttotal: 3.09s\tremaining: 236ms\n",
      "929:\tlearn: 0.0542233\ttotal: 3.09s\tremaining: 233ms\n",
      "930:\tlearn: 0.0541776\ttotal: 3.09s\tremaining: 229ms\n",
      "931:\tlearn: 0.0540361\ttotal: 3.1s\tremaining: 226ms\n",
      "932:\tlearn: 0.0539730\ttotal: 3.1s\tremaining: 223ms\n",
      "933:\tlearn: 0.0538966\ttotal: 3.1s\tremaining: 219ms\n",
      "934:\tlearn: 0.0537727\ttotal: 3.1s\tremaining: 216ms\n",
      "935:\tlearn: 0.0537330\ttotal: 3.11s\tremaining: 212ms\n",
      "936:\tlearn: 0.0536077\ttotal: 3.11s\tremaining: 209ms\n",
      "937:\tlearn: 0.0535317\ttotal: 3.11s\tremaining: 206ms\n",
      "938:\tlearn: 0.0534205\ttotal: 3.11s\tremaining: 202ms\n",
      "939:\tlearn: 0.0534005\ttotal: 3.12s\tremaining: 199ms\n",
      "940:\tlearn: 0.0532315\ttotal: 3.12s\tremaining: 196ms\n",
      "941:\tlearn: 0.0532242\ttotal: 3.12s\tremaining: 192ms\n",
      "942:\tlearn: 0.0531838\ttotal: 3.12s\tremaining: 189ms\n",
      "943:\tlearn: 0.0530715\ttotal: 3.13s\tremaining: 185ms\n",
      "944:\tlearn: 0.0529464\ttotal: 3.13s\tremaining: 182ms\n",
      "945:\tlearn: 0.0528147\ttotal: 3.13s\tremaining: 179ms\n",
      "946:\tlearn: 0.0527360\ttotal: 3.13s\tremaining: 175ms\n",
      "947:\tlearn: 0.0526423\ttotal: 3.14s\tremaining: 172ms\n"
     ]
    },
    {
     "name": "stdout",
     "output_type": "stream",
     "text": [
      "948:\tlearn: 0.0525840\ttotal: 3.15s\tremaining: 169ms\n",
      "949:\tlearn: 0.0524407\ttotal: 3.15s\tremaining: 166ms\n",
      "950:\tlearn: 0.0524337\ttotal: 3.16s\tremaining: 163ms\n",
      "951:\tlearn: 0.0524272\ttotal: 3.16s\tremaining: 159ms\n",
      "952:\tlearn: 0.0523713\ttotal: 3.16s\tremaining: 156ms\n",
      "953:\tlearn: 0.0523042\ttotal: 3.17s\tremaining: 153ms\n",
      "954:\tlearn: 0.0522088\ttotal: 3.17s\tremaining: 149ms\n",
      "955:\tlearn: 0.0521262\ttotal: 3.17s\tremaining: 146ms\n",
      "956:\tlearn: 0.0520695\ttotal: 3.17s\tremaining: 143ms\n",
      "957:\tlearn: 0.0519589\ttotal: 3.17s\tremaining: 139ms\n",
      "958:\tlearn: 0.0519165\ttotal: 3.18s\tremaining: 136ms\n",
      "959:\tlearn: 0.0518248\ttotal: 3.18s\tremaining: 132ms\n",
      "960:\tlearn: 0.0517566\ttotal: 3.18s\tremaining: 129ms\n",
      "961:\tlearn: 0.0517498\ttotal: 3.18s\tremaining: 126ms\n",
      "962:\tlearn: 0.0517174\ttotal: 3.19s\tremaining: 122ms\n",
      "963:\tlearn: 0.0516125\ttotal: 3.19s\tremaining: 119ms\n",
      "964:\tlearn: 0.0515185\ttotal: 3.19s\tremaining: 116ms\n",
      "965:\tlearn: 0.0514614\ttotal: 3.19s\tremaining: 112ms\n",
      "966:\tlearn: 0.0513872\ttotal: 3.19s\tremaining: 109ms\n",
      "967:\tlearn: 0.0513580\ttotal: 3.2s\tremaining: 106ms\n",
      "968:\tlearn: 0.0512542\ttotal: 3.2s\tremaining: 102ms\n",
      "969:\tlearn: 0.0512488\ttotal: 3.2s\tremaining: 99.1ms\n",
      "970:\tlearn: 0.0511211\ttotal: 3.21s\tremaining: 95.7ms\n",
      "971:\tlearn: 0.0510910\ttotal: 3.21s\tremaining: 92.4ms\n",
      "972:\tlearn: 0.0510169\ttotal: 3.21s\tremaining: 89.1ms\n",
      "973:\tlearn: 0.0509498\ttotal: 3.21s\tremaining: 85.8ms\n",
      "974:\tlearn: 0.0508771\ttotal: 3.21s\tremaining: 82.5ms\n",
      "975:\tlearn: 0.0508700\ttotal: 3.22s\tremaining: 79.1ms\n",
      "976:\tlearn: 0.0507938\ttotal: 3.22s\tremaining: 75.8ms\n",
      "977:\tlearn: 0.0507038\ttotal: 3.22s\tremaining: 72.5ms\n",
      "978:\tlearn: 0.0506316\ttotal: 3.23s\tremaining: 69.2ms\n",
      "979:\tlearn: 0.0506251\ttotal: 3.23s\tremaining: 65.9ms\n",
      "980:\tlearn: 0.0505680\ttotal: 3.23s\tremaining: 62.6ms\n",
      "981:\tlearn: 0.0505130\ttotal: 3.23s\tremaining: 59.3ms\n",
      "982:\tlearn: 0.0504444\ttotal: 3.24s\tremaining: 56ms\n",
      "983:\tlearn: 0.0503699\ttotal: 3.24s\tremaining: 52.7ms\n",
      "984:\tlearn: 0.0503207\ttotal: 3.24s\tremaining: 49.4ms\n",
      "985:\tlearn: 0.0501889\ttotal: 3.24s\tremaining: 46ms\n",
      "986:\tlearn: 0.0500925\ttotal: 3.24s\tremaining: 42.7ms\n",
      "987:\tlearn: 0.0499951\ttotal: 3.25s\tremaining: 39.4ms\n",
      "988:\tlearn: 0.0499459\ttotal: 3.25s\tremaining: 36.1ms\n",
      "989:\tlearn: 0.0498997\ttotal: 3.25s\tremaining: 32.8ms\n",
      "990:\tlearn: 0.0498769\ttotal: 3.25s\tremaining: 29.6ms\n",
      "991:\tlearn: 0.0498152\ttotal: 3.25s\tremaining: 26.3ms\n",
      "992:\tlearn: 0.0497525\ttotal: 3.26s\tremaining: 23ms\n",
      "993:\tlearn: 0.0497243\ttotal: 3.26s\tremaining: 19.7ms\n",
      "994:\tlearn: 0.0495606\ttotal: 3.27s\tremaining: 16.4ms\n",
      "995:\tlearn: 0.0495003\ttotal: 3.27s\tremaining: 13.1ms\n"
     ]
    },
    {
     "name": "stdout",
     "output_type": "stream",
     "text": [
      "996:\tlearn: 0.0494939\ttotal: 3.27s\tremaining: 9.84ms\n",
      "997:\tlearn: 0.0494337\ttotal: 3.27s\tremaining: 6.56ms\n",
      "998:\tlearn: 0.0493321\ttotal: 3.27s\tremaining: 3.28ms\n",
      "999:\tlearn: 0.0492696\ttotal: 3.28s\tremaining: 0us\n"
     ]
    },
    {
     "data": {
      "text/plain": [
       "<catboost.core.CatBoostRegressor at 0x7ff01e96a250>"
      ]
     },
     "execution_count": 9,
     "metadata": {},
     "output_type": "execute_result"
    }
   ],
   "source": [
    "#Train the Model \n",
    "prior_model = ctb.CatBoostRegressor()\n",
    "prior_model.fit(X_train,Y_train)"
   ]
  },
  {
   "cell_type": "code",
   "execution_count": 10,
   "id": "af65dcda",
   "metadata": {
    "execution": {
     "iopub.execute_input": "2022-07-22T18:06:47.806312Z",
     "iopub.status.busy": "2022-07-22T18:06:47.805976Z",
     "iopub.status.idle": "2022-07-22T18:06:47.841487Z",
     "shell.execute_reply": "2022-07-22T18:06:47.840793Z"
    },
    "id": "af65dcda",
    "papermill": {
     "duration": 0.058999,
     "end_time": "2022-07-22T18:06:47.844271",
     "exception": false,
     "start_time": "2022-07-22T18:06:47.785272",
     "status": "completed"
    },
    "tags": []
   },
   "outputs": [
    {
     "data": {
      "application/scrapbook.scrap.json+json": {
       "data": 0.09940085570310765,
       "encoder": "json",
       "name": "Prior Model MSE",
       "version": 1
      }
     },
     "metadata": {
      "scrapbook": {
       "data": true,
       "display": false,
       "name": "Prior Model MSE"
      }
     },
     "output_type": "display_data"
    },
    {
     "data": {
      "application/scrapbook.scrap.json+json": {
       "data": 1.034297775397885,
       "encoder": "json",
       "name": "ABC Pre-generator MSE",
       "version": 1
      }
     },
     "metadata": {
      "scrapbook": {
       "data": true,
       "display": false,
       "name": "ABC Pre-generator MSE"
      }
     },
     "output_type": "display_data"
    },
    {
     "data": {
      "application/scrapbook.scrap.json+json": {
       "data": 0.2327512562496732,
       "encoder": "json",
       "name": "Prior Model MAE",
       "version": 1
      }
     },
     "metadata": {
      "scrapbook": {
       "data": true,
       "display": false,
       "name": "Prior Model MAE"
      }
     },
     "output_type": "display_data"
    },
    {
     "name": "stdout",
     "output_type": "stream",
     "text": [
      "Prior Model MAE 0.2327512562496732\n",
      "ABC Pre-generator MAE 0.970417403446567\n"
     ]
    }
   ],
   "source": [
    "y_pred = prior_model.predict(X_test)\n",
    "y_abc = y_pred + np.random.normal(0,variance, y_pred.shape) + bias \n",
    "mse = mean_squared_error(y_pred,Y_test)\n",
    "sb.glue(\"Prior Model MSE\",mse)\n",
    "mse = mean_squared_error(y_abc,Y_test)\n",
    "sb.glue(\"ABC Pre-generator MSE\",mse)\n",
    "mae = mean_absolute_error(y_pred,Y_test)\n",
    "sb.glue(\"Prior Model MAE\",mae)\n",
    "print(\"Prior Model MAE\",mae)\n",
    "mae = mean_absolute_error(y_abc,Y_test)\n",
    "print(\"ABC Pre-generator MAE\",mae)"
   ]
  },
  {
   "cell_type": "markdown",
   "id": "25609da2",
   "metadata": {
    "papermill": {
     "duration": 0.019286,
     "end_time": "2022-07-22T18:06:47.874531",
     "exception": false,
     "start_time": "2022-07-22T18:06:47.855245",
     "status": "completed"
    },
    "tags": []
   },
   "source": [
    "# mGAN Model"
   ]
  },
  {
   "cell_type": "code",
   "execution_count": 11,
   "id": "dfc3464d",
   "metadata": {
    "execution": {
     "iopub.execute_input": "2022-07-22T18:06:47.947171Z",
     "iopub.status.busy": "2022-07-22T18:06:47.946091Z",
     "iopub.status.idle": "2022-07-22T18:06:47.983105Z",
     "shell.execute_reply": "2022-07-22T18:06:47.979040Z"
    },
    "papermill": {
     "duration": 0.092131,
     "end_time": "2022-07-22T18:06:47.997355",
     "exception": false,
     "start_time": "2022-07-22T18:06:47.905224",
     "status": "completed"
    },
    "tags": []
   },
   "outputs": [],
   "source": [
    "# gen = network.Generator(n_features+1).to(device)\n",
    "# disc = network.Discriminator(n_features+1).to(device)\n",
    "\n",
    "# criterion = torch.nn.BCELoss()\n",
    "# gen_opt = torch.optim.Adam(gen.parameters(), lr=0.01, betas=(0.5, 0.999))\n",
    "# disc_opt = torch.optim.Adam(disc.parameters(), lr=0.01, betas=(0.5, 0.999))"
   ]
  },
  {
   "cell_type": "code",
   "execution_count": 12,
   "id": "b75fdd85",
   "metadata": {
    "execution": {
     "iopub.execute_input": "2022-07-22T18:06:48.080628Z",
     "iopub.status.busy": "2022-07-22T18:06:48.080129Z",
     "iopub.status.idle": "2022-07-22T18:06:48.096007Z",
     "shell.execute_reply": "2022-07-22T18:06:48.085607Z"
    },
    "papermill": {
     "duration": 0.098933,
     "end_time": "2022-07-22T18:06:48.106965",
     "exception": false,
     "start_time": "2022-07-22T18:06:48.008032",
     "status": "completed"
    },
    "tags": []
   },
   "outputs": [],
   "source": [
    "#Training the ABC_GAN \n",
    "# ABC_train_test2.training_GAN(disc,gen,disc_opt,gen_opt,train_data,batch_size,n_epochs,criterion,prior_model,variance,bias,device)"
   ]
  },
  {
   "cell_type": "code",
   "execution_count": 13,
   "id": "1fa7c368",
   "metadata": {
    "execution": {
     "iopub.execute_input": "2022-07-22T18:06:48.234277Z",
     "iopub.status.busy": "2022-07-22T18:06:48.233594Z",
     "iopub.status.idle": "2022-07-22T18:06:48.242767Z",
     "shell.execute_reply": "2022-07-22T18:06:48.239669Z"
    },
    "papermill": {
     "duration": 0.150026,
     "end_time": "2022-07-22T18:06:48.277816",
     "exception": false,
     "start_time": "2022-07-22T18:06:48.127790",
     "status": "completed"
    },
    "tags": []
   },
   "outputs": [],
   "source": [
    "# ABC_GAN1_metrics=ABC_train_test2.test_generator(gen,test_data,prior_model,variance,bias,\"1\",device)\n",
    "# sb.glue(\"ABC_GAN_1 Metrics\",ABC_GAN1_metrics)\n",
    "\n",
    "# print(\"MAE\")\n",
    "# print(mean(ABC_GAN1_metrics[1]))"
   ]
  },
  {
   "cell_type": "code",
   "execution_count": 14,
   "id": "eb22ce5c",
   "metadata": {
    "execution": {
     "iopub.execute_input": "2022-07-22T18:06:48.359902Z",
     "iopub.status.busy": "2022-07-22T18:06:48.359452Z",
     "iopub.status.idle": "2022-07-22T18:06:48.364220Z",
     "shell.execute_reply": "2022-07-22T18:06:48.362517Z"
    },
    "papermill": {
     "duration": 0.049796,
     "end_time": "2022-07-22T18:06:48.391365",
     "exception": false,
     "start_time": "2022-07-22T18:06:48.341569",
     "status": "completed"
    },
    "tags": []
   },
   "outputs": [],
   "source": [
    "# sanityChecks.discProbVsError(train_data,disc,device)\n",
    "# sanityChecks.discProbVsError(test_data,disc,device)"
   ]
  },
  {
   "cell_type": "markdown",
   "id": "a588f3fa",
   "metadata": {
    "papermill": {
     "duration": 0.044817,
     "end_time": "2022-07-22T18:06:48.500867",
     "exception": false,
     "start_time": "2022-07-22T18:06:48.456050",
     "status": "completed"
    },
    "tags": []
   },
   "source": [
    "# mGAN Model with TabNet Generator"
   ]
  },
  {
   "cell_type": "code",
   "execution_count": 15,
   "id": "03a4fcfc",
   "metadata": {
    "execution": {
     "iopub.execute_input": "2022-07-22T18:06:48.653380Z",
     "iopub.status.busy": "2022-07-22T18:06:48.652699Z",
     "iopub.status.idle": "2022-07-22T18:06:48.671436Z",
     "shell.execute_reply": "2022-07-22T18:06:48.669786Z"
    },
    "papermill": {
     "duration": 0.068425,
     "end_time": "2022-07-22T18:06:48.684006",
     "exception": false,
     "start_time": "2022-07-22T18:06:48.615581",
     "status": "completed"
    },
    "tags": []
   },
   "outputs": [],
   "source": [
    "gen2 = network.GeneratorTabnet(n_features+1).to(device)\n",
    "disc2 = network.Discriminator(n_features+1).to(device)\n",
    "\n",
    "criterion = torch.nn.BCELoss()\n",
    "gen_opt = torch.optim.Adam(gen2.parameters(), lr=0.01, betas=(0.5, 0.999))\n",
    "disc_opt = torch.optim.Adam(disc2.parameters(), lr=0.01, betas=(0.5, 0.999))"
   ]
  },
  {
   "cell_type": "code",
   "execution_count": 16,
   "id": "d5e0d3e7",
   "metadata": {
    "execution": {
     "iopub.execute_input": "2022-07-22T18:06:48.828966Z",
     "iopub.status.busy": "2022-07-22T18:06:48.828632Z",
     "iopub.status.idle": "2022-07-22T18:20:12.848367Z",
     "shell.execute_reply": "2022-07-22T18:20:12.829678Z"
    },
    "papermill": {
     "duration": 804.18121,
     "end_time": "2022-07-22T18:20:12.884009",
     "exception": false,
     "start_time": "2022-07-22T18:06:48.702799",
     "status": "completed"
    },
    "tags": []
   },
   "outputs": [
    {
     "data": {
      "image/png": "[encoded data removed]",
      "text/plain": [
       "<Figure size 432x288 with 1 Axes>"
      ]
     },
     "metadata": {
      "needs_background": "light"
     },
     "output_type": "display_data"
    },
    {
     "data": {
      "image/png": "[encoded data removed]",
      "text/plain": [
       "<Figure size 432x288 with 1 Axes>"
      ]
     },
     "metadata": {
      "needs_background": "light"
     },
     "output_type": "display_data"
    }
   ],
   "source": [
    "#Training the ABC_GAN \n",
    "ABC_train_test2.training_GAN(disc2,gen2,disc_opt,gen_opt,train_data,batch_size,n_epochs,criterion,prior_model,variance,bias,device)"
   ]
  },
  {
   "cell_type": "code",
   "execution_count": 17,
   "id": "edf97306",
   "metadata": {
    "execution": {
     "iopub.execute_input": "2022-07-22T18:20:13.382653Z",
     "iopub.status.busy": "2022-07-22T18:20:13.381123Z",
     "iopub.status.idle": "2022-07-22T18:20:16.514787Z",
     "shell.execute_reply": "2022-07-22T18:20:16.507859Z"
    },
    "papermill": {
     "duration": 3.586042,
     "end_time": "2022-07-22T18:20:16.527949",
     "exception": false,
     "start_time": "2022-07-22T18:20:12.941907",
     "status": "completed"
    },
    "tags": []
   },
   "outputs": [
    {
     "data": {
      "application/scrapbook.scrap.json+json": {
       "data": 0.10498172303807644,
       "encoder": "json",
       "name": "ABC-GAN Model 1 MSE",
       "version": 1
      }
     },
     "metadata": {
      "scrapbook": {
       "data": true,
       "display": false,
       "name": "ABC-GAN Model 1 MSE"
      }
     },
     "output_type": "display_data"
    },
    {
     "data": {
      "application/scrapbook.scrap.json+json": {
       "data": 0.23407444464604316,
       "encoder": "json",
       "name": "ABC-GAN Model 1 MAE",
       "version": 1
      }
     },
     "metadata": {
      "scrapbook": {
       "data": true,
       "display": false,
       "name": "ABC-GAN Model 1 MAE"
      }
     },
     "output_type": "display_data"
    },
    {
     "data": {
      "application/scrapbook.scrap.json+json": {
       "data": 23.875593353896402,
       "encoder": "json",
       "name": "ABC-GAN Model 1 Manhattan Distance",
       "version": 1
      }
     },
     "metadata": {
      "scrapbook": {
       "data": true,
       "display": false,
       "name": "ABC-GAN Model 1 Manhattan Distance"
      }
     },
     "output_type": "display_data"
    },
    {
     "data": {
      "application/scrapbook.scrap.json+json": {
       "data": 3.272304176126731,
       "encoder": "json",
       "name": "ABC-GAN Model 1 Euclidean distance",
       "version": 1
      }
     },
     "metadata": {
      "scrapbook": {
       "data": true,
       "display": false,
       "name": "ABC-GAN Model 1 Euclidean distance"
      }
     },
     "output_type": "display_data"
    },
    {
     "data": {
      "application/scrapbook.scrap.json+json": {
       "data": [
        [
         0.10618295907355485,
         0.10459826612424213,
         0.10541797308052134,
         0.10605026528840822,
         0.10500737867560642,
         0.10475029339472995,
         0.10488085990525138,
         0.1046082245947973,
         0.10510862632941871,
         0.10482985245505064,
         0.1051349992087962,
         0.1058807726234232,
         0.10511965603778584,
         0.10483455379330194,
         0.1072315105533608,
         0.10531655248275691,
         0.10521495593661637,
         0.10531099438584254,
         0.10572361981665682,
         0.10484278726035375,
         0.10472337046049528,
         0.10488788481831708,
         0.10541330083375473,
         0.1059363173775842,
         0.1059224789114086,
         0.10390027215164555,
         0.10428405833654855,
         0.1043427454963955,
         0.10513183861801341,
         0.10418542980266925,
         0.10599908971047448,
         0.10366192314988414,
         0.10485416618806538,
         0.10545662070437586,
         0.10498290631559025,
         0.10377212667738996,
         0.10423587592275901,
         0.10549312141389774,
         0.1050496869185494,
         0.10412165651323112,
         0.1042857048137702,
         0.10608630293135618,
         0.1044389461926927,
         0.10475837833912938,
         0.10544708547988235,
         0.10606984825182962,
         0.10566569041965075,
         0.10432435844845919,
         0.10447118403342616,
         0.1031861075309497,
         0.1046479326417542,
         0.10563023151616673,
         0.10405382766882516,
         0.10332938097949544,
         0.10551420988854592,
         0.10620332704909663,
         0.10507720600805578,
         0.10468730203635053,
         0.10456600276938066,
         0.10456886965695454,
         0.10361997145085432,
         0.10432078963810251,
         0.10433163821583627,
         0.10543874894496089,
         0.10558516922484788,
         0.10565686080375779,
         0.10602050132335779,
         0.10683474096095164,
         0.10533875370946248,
         0.10379845475811836,
         0.10431584973018466,
         0.10478883852535287,
         0.105557297529007,
         0.10549052848827355,
         0.10521711944218291,
         0.10350888169210104,
         0.10523854346719735,
         0.10593692461758515,
         0.10537172902051885,
         0.10417650978728163,
         0.10480832876376617,
         0.10559135406146516,
         0.10467055161476913,
         0.1053018514031301,
         0.10536309047538096,
         0.10490679668502668,
         0.10718511854026494,
         0.10412910396389755,
         0.10342260011325555,
         0.10470038750317685,
         0.1029983154473953,
         0.10638061261949604,
         0.10403411745436034,
         0.10429733147473202,
         0.10504723665065545,
         0.10494550726299177,
         0.1049686907355093,
         0.10553998318460411,
         0.10522612366629784,
         0.1046954828602381
        ],
        [
         0.23529490581074475,
         0.23409146294180377,
         0.23424606846061116,
         0.23410018256810658,
         0.23412760110645026,
         0.23376833955191223,
         0.2336844319623767,
         0.23350032621665912,
         0.233655960810389,
         0.23431641438647227,
         0.23265212073045619,
         0.23491194758418144,
         0.2346543359077152,
         0.2344785497030791,
         0.23564536834829578,
         0.23534143881360983,
         0.23609483642868845,
         0.2344952474585643,
         0.23353007056878186,
         0.23419732638799093,
         0.2349557378511949,
         0.23403564852424988,
         0.2360457962324076,
         0.2346412086421076,
         0.23461915945232498,
         0.23267038060607864,
         0.2338829882917743,
         0.23422984550615736,
         0.23378938116936707,
         0.23378963459867472,
         0.2364068115951822,
         0.23203994851449833,
         0.2333756246804899,
         0.23511311125156342,
         0.23363913585632748,
         0.23385620318974057,
         0.2336673891975307,
         0.23360927116271912,
         0.23402601584573002,
         0.23105050059144988,
         0.2338448847717076,
         0.23549599370316548,
         0.23485629657721696,
         0.2337217945240292,
         0.23379280930384994,
         0.23549421486791736,
         0.23375260238261783,
         0.2338629095979473,
         0.23199951558319085,
         0.23085494041808097,
         0.23346585514681303,
         0.23560008227679075,
         0.23165550736673907,
         0.23205445167225072,
         0.2349710143993006,
         0.23523637942750664,
         0.23455355665189961,
         0.23405521256191766,
         0.23387627270730102,
         0.23371375355796487,
         0.23216484253313027,
         0.23350938320999928,
         0.23313880762012273,
         0.23396516085474514,
         0.23612519793723727,
         0.23515491654146828,
         0.23427899269496694,
         0.2363641615500491,
         0.2351364172885523,
         0.2326850506897066,
         0.23369998125103758,
         0.23328250253974808,
         0.23478186269309007,
         0.23491100078521698,
         0.23397576910279252,
         0.23216809106844605,
         0.2340715798622399,
         0.23512214613055774,
         0.2359472812956893,
         0.23253282475942635,
         0.2329153225611092,
         0.2346193522269673,
         0.23357446667026072,
         0.2354514829485732,
         0.2353778634969072,
         0.2341402342141259,
         0.2365001106872132,
         0.23299720505362048,
         0.2312845152291451,
         0.23508236412981562,
         0.232741693107813,
         0.23574430584067516,
         0.23179171143976204,
         0.23394386725975017,
         0.23391766386910104,
         0.23411327701828935,
         0.23398118018738778,
         0.23458367486612178,
         0.23537586093423704,
         0.23320356645055262
        ],
        [
         24.000080392695963,
         23.877329220063984,
         23.893098982982337,
         23.87821862194687,
         23.881015312857926,
         23.844370634295046,
         23.835812060162425,
         23.81703327409923,
         23.83290800265968,
         23.900274267420173,
         23.73051631450653,
         23.961018653586507,
         23.93474226258695,
         23.91681206971407,
         24.03582757152617,
         24.0048267589882,
         24.08167331572622,
         23.91851524077356,
         23.82006719801575,
         23.888127291575074,
         23.96548526082188,
         23.87163614947349,
         24.076671215705574,
         23.933403281494975,
         23.93115426413715,
         23.73237882182002,
         23.85606480576098,
         23.89144424162805,
         23.84651687927544,
         23.846542729064822,
         24.113494782708585,
         23.66807474847883,
         23.80431371740997,
         23.98153734765947,
         23.831191857345402,
         23.85333272535354,
         23.83407369814813,
         23.82814565859735,
         23.870653616264462,
         23.567151060327888,
         23.852178246714175,
         24.02059135772288,
         23.95534225087613,
         23.839623041450977,
         23.846866548992693,
         24.02040991652757,
         23.84276544302702,
         23.854016778990626,
         23.663950589485466,
         23.547203922644258,
         23.81351722497493,
         24.031208392232656,
         23.628861751407385,
         23.669554070569575,
         23.96704346872866,
         23.994110701605678,
         23.924462778493762,
         23.8736316813156,
         23.855379816144705,
         23.838802862912416,
         23.680813938379288,
         23.817957087419927,
         23.78015837725252,
         23.864446407184005,
         24.084770189598203,
         23.985801487229764,
         23.896457254886627,
         24.10914447810501,
         23.983914563432336,
         23.733875170350075,
         23.837398087605834,
         23.794815259054303,
         23.947749994695187,
         23.960922080092132,
         23.865528448484838,
         23.681145288981497,
         23.87530114594847,
         23.98245890531689,
         24.06662269216031,
         23.71834812546149,
         23.757362901233137,
         23.931173927150667,
         23.824595600366592,
         24.016051260754466,
         24.008542076684535,
         23.88230388984084,
         24.123011290095747,
         23.76571491546929,
         23.5910205533728,
         23.978401141241193,
         23.739652696996927,
         24.045919195748866,
         23.64275456685573,
         23.86227446049452,
         23.859601714648306,
         23.879554255865514,
         23.866080379113555,
         23.92753483634442,
         24.00833781529218,
         23.786763777956367
        ],
        [
         3.2909970868268164,
         3.2663470643323707,
         3.279120805065463,
         3.2889401118624275,
         3.2727286207248922,
         3.268719921660841,
         3.2707564431390543,
         3.2665025499254283,
         3.274306015875838,
         3.2699610013599796,
         3.274716769324823,
         3.2863108202951783,
         3.274477808117525,
         3.2700343250364816,
         3.307206385522803,
         3.2775430360624096,
         3.275961768020937,
         3.27745654850769,
         3.2838710725756264,
         3.2701627330388434,
         3.268299831253325,
         3.2708659788301238,
         3.279048137042666,
         3.287172701960392,
         3.2869579931851387,
         3.2554305029393333,
         3.261437405551109,
         3.26235498384715,
         3.2746675463376986,
         3.2598947590178824,
         3.2881464612252893,
         3.251694352378184,
         3.270340188907366,
         3.2797218345229115,
         3.2723472377164073,
         3.253422339797552,
         3.2606838767536823,
         3.280289375073115,
         3.273387857509714,
         3.258896893789304,
         3.261463151869811,
         3.2894988826564946,
         3.263858531195041,
         3.268846064070805,
         3.279573557483959,
         3.2892437613662224,
         3.2829712796191766,
         3.2620675286914036,
         3.2643622304225772,
         3.244223014553233,
         3.267122454004277,
         3.282420389689444,
         3.2578352355851528,
         3.2464745278391653,
         3.280617229826071,
         3.2913127106077074,
         3.2738165820371927,
         3.267736955097174,
         3.2658432727975217,
         3.2658880423262153,
         3.2510363098536965,
         3.26201173251821,
         3.2621813404553857,
         3.279443915115184,
         3.2817201679811885,
         3.2828341112495,
         3.288478544096417,
         3.3010821828632295,
         3.277888478634557,
         3.2538350273681775,
         3.2619344984960734,
         3.269321264358397,
         3.281286995670862,
         3.2802490615506468,
         3.2759954491883314,
         3.249293143530498,
         3.2763289568744653,
         3.28718212318601,
         3.278401494645358,
         3.2597552052727403,
         3.269625289525414,
         3.2818162828332493,
         3.2674755186085864,
         3.27731427286418,
         3.278267107556804,
         3.271160843167562,
         3.3064909029221634,
         3.2590134403401203,
         3.2479386095725493,
         3.2679411753157424,
         3.2412695314697784,
         3.2940586648067756,
         3.2575266660987974,
         3.261644954685084,
         3.2733496816513283,
         3.2717643162100103,
         3.272125678365968,
         3.2810178732871327,
         3.276135622034347,
         3.267864631796165
        ]
       ],
       "encoder": "json",
       "name": "ABC_GAN_2 Metrics",
       "version": 1
      }
     },
     "metadata": {
      "scrapbook": {
       "data": true,
       "display": false,
       "name": "ABC_GAN_2 Metrics"
      }
     },
     "output_type": "display_data"
    },
    {
     "name": "stdout",
     "output_type": "stream",
     "text": [
      "MAE\n",
      "0.23407444464604316\n"
     ]
    }
   ],
   "source": [
    "ABC_GAN2_metrics=ABC_train_test2.test_generator(gen2,test_data,prior_model,variance,bias,\"1\",device)\n",
    "sb.glue(\"ABC_GAN_2 Metrics\",ABC_GAN2_metrics)\n",
    "\n",
    "print(\"MAE\")\n",
    "print(mean(ABC_GAN2_metrics[1]))"
   ]
  },
  {
   "cell_type": "code",
   "execution_count": 18,
   "id": "dfd429f1",
   "metadata": {
    "execution": {
     "iopub.execute_input": "2022-07-22T18:20:16.641410Z",
     "iopub.status.busy": "2022-07-22T18:20:16.639436Z",
     "iopub.status.idle": "2022-07-22T18:20:20.299439Z",
     "shell.execute_reply": "2022-07-22T18:20:20.297421Z"
    },
    "papermill": {
     "duration": 3.750036,
     "end_time": "2022-07-22T18:20:20.303493",
     "exception": false,
     "start_time": "2022-07-22T18:20:16.553457",
     "status": "completed"
    },
    "tags": []
   },
   "outputs": [
    {
     "data": {
      "image/png": "[encoded data removed]",
      "text/plain": [
       "<Figure size 432x288 with 1 Axes>"
      ]
     },
     "metadata": {
      "needs_background": "light"
     },
     "output_type": "display_data"
    },
    {
     "data": {
      "image/png": "[encoded data removed]",
      "text/plain": [
       "<Figure size 432x288 with 1 Axes>"
      ]
     },
     "metadata": {
      "needs_background": "light"
     },
     "output_type": "display_data"
    },
    {
     "data": {
      "image/png": "[encoded data removed]",
      "text/plain": [
       "<Figure size 432x288 with 1 Axes>"
      ]
     },
     "metadata": {
      "needs_background": "light"
     },
     "output_type": "display_data"
    },
    {
     "data": {
      "image/png": "[encoded data removed]",
      "text/plain": [
       "<Figure size 432x288 with 1 Axes>"
      ]
     },
     "metadata": {
      "needs_background": "light"
     },
     "output_type": "display_data"
    }
   ],
   "source": [
    "sanityChecks.discProbVsError(train_data,disc2,device)\n",
    "sanityChecks.discProbVsError(test_data,disc2,device)"
   ]
  },
  {
   "cell_type": "markdown",
   "id": "130f3a4d",
   "metadata": {
    "id": "130f3a4d",
    "papermill": {
     "duration": 0.057884,
     "end_time": "2022-07-22T18:20:20.389672",
     "exception": false,
     "start_time": "2022-07-22T18:20:20.331788",
     "status": "completed"
    },
    "tags": []
   },
   "source": [
    "# skipGAN Model"
   ]
  },
  {
   "cell_type": "code",
   "execution_count": 19,
   "id": "4e43dad1",
   "metadata": {
    "execution": {
     "iopub.execute_input": "2022-07-22T18:20:20.484528Z",
     "iopub.status.busy": "2022-07-22T18:20:20.482580Z",
     "iopub.status.idle": "2022-07-22T18:20:20.504958Z",
     "shell.execute_reply": "2022-07-22T18:20:20.494275Z"
    },
    "id": "4e43dad1",
    "papermill": {
     "duration": 0.10943,
     "end_time": "2022-07-22T18:20:20.531711",
     "exception": false,
     "start_time": "2022-07-22T18:20:20.422281",
     "status": "completed"
    },
    "tags": []
   },
   "outputs": [],
   "source": [
    "# #Generator\n",
    "# gen3 = network.GeneratorWithSkipConnection(n_features+1).to(device)\n",
    "# constraints=network.weightConstraint()\n",
    "# #Discriminator \n",
    "# disc3 = network.Discriminator(n_features+1).to(device)\n",
    "\n",
    "# criterion = torch.nn.BCELoss()\n",
    "# gen_opt = torch.optim.Adam(gen3.parameters(), lr=0.01, betas=(0.5, 0.999))\n",
    "# disc_opt = torch.optim.Adam(disc3.parameters(), lr=0.01, betas=(0.5, 0.999))\n"
   ]
  },
  {
   "cell_type": "markdown",
   "id": "8c861779",
   "metadata": {
    "tags": [
     "papermill-error-cell-tag"
    ]
   },
   "source": [
    "<span id=\"papermill-error-cell\" style=\"color:red; font-family:Helvetica Neue, Helvetica, Arial, sans-serif; font-size:2em;\">Execution using papermill encountered an exception here and stopped:</span>"
   ]
  },
  {
   "cell_type": "code",
   "execution_count": 20,
   "id": "26acbc37",
   "metadata": {
    "execution": {
     "iopub.execute_input": "2022-07-22T18:20:20.659634Z",
     "iopub.status.busy": "2022-07-22T18:20:20.658875Z",
     "iopub.status.idle": "2022-07-22T18:20:23.327513Z",
     "shell.execute_reply": "2022-07-22T18:20:23.316869Z"
    },
    "id": "26acbc37",
    "papermill": {
     "duration": 2.747386,
     "end_time": "2022-07-22T18:20:23.334630",
     "exception": true,
     "start_time": "2022-07-22T18:20:20.587244",
     "status": "failed"
    },
    "tags": []
   },
   "outputs": [
    {
     "ename": "NameError",
     "evalue": "name 'disc3' is not defined",
     "output_type": "error",
     "traceback": [
      "\u001b[0;31m---------------------------------------------------------------------------\u001b[0m",
      "\u001b[0;31mNameError\u001b[0m                                 Traceback (most recent call last)",
      "Input \u001b[0;32mIn [20]\u001b[0m, in \u001b[0;36m<cell line: 1>\u001b[0;34m()\u001b[0m\n\u001b[0;32m----> 1\u001b[0m ABC_train_test2\u001b[38;5;241m.\u001b[39mtraining_GAN_skip_connection(\u001b[43mdisc3\u001b[49m,gen3,disc_opt,gen_opt,train_data,batch_size,n_epochs,criterion,prior_model,variance,bias,device)\n",
      "\u001b[0;31mNameError\u001b[0m: name 'disc3' is not defined"
     ]
    }
   ],
   "source": [
    "ABC_train_test2.training_GAN_skip_connection(disc3,gen3,disc_opt,gen_opt,train_data,batch_size,n_epochs,criterion,prior_model,variance,bias,device)"
   ]
  },
  {
   "cell_type": "code",
   "execution_count": null,
   "id": "c5e0717b",
   "metadata": {
    "id": "c5e0717b",
    "papermill": {
     "duration": null,
     "end_time": null,
     "exception": null,
     "start_time": null,
     "status": "pending"
    },
    "tags": []
   },
   "outputs": [],
   "source": [
    "# ABC_GAN3_metrics=ABC_train_test2.test_generator(gen3,test_data,prior_model,variance,bias,\"3\",device)\n",
    "# sb.glue(\"ABC_GAN_3 Metrics\",ABC_GAN3_metrics)\n",
    "\n",
    "# print(\"MAE\")\n",
    "# print(mean(ABC_GAN3_metrics[1]))"
   ]
  },
  {
   "cell_type": "code",
   "execution_count": null,
   "id": "c8e46b48",
   "metadata": {
    "id": "c8e46b48",
    "papermill": {
     "duration": null,
     "end_time": null,
     "exception": null,
     "start_time": null,
     "status": "pending"
    },
    "tags": []
   },
   "outputs": [],
   "source": [
    "# sanityChecks.discProbVsError(train_data,disc3,device)\n",
    "# sanityChecks.discProbVsError(test_data,disc3,device)"
   ]
  },
  {
   "cell_type": "markdown",
   "id": "ddda562b",
   "metadata": {
    "id": "130f3a4d",
    "papermill": {
     "duration": null,
     "end_time": null,
     "exception": null,
     "start_time": null,
     "status": "pending"
    },
    "tags": []
   },
   "source": [
    "# skipGAN Model with TabNet Generator"
   ]
  },
  {
   "cell_type": "code",
   "execution_count": null,
   "id": "7a21bd22",
   "metadata": {
    "id": "4e43dad1",
    "papermill": {
     "duration": null,
     "end_time": null,
     "exception": null,
     "start_time": null,
     "status": "pending"
    },
    "tags": []
   },
   "outputs": [],
   "source": [
    "# #Generator\n",
    "# gen4 = network.GeneratorTabnetskipConnection(n_features+1).to(device)\n",
    "# constraints=network.weightConstraint()\n",
    "# #Discriminator \n",
    "# disc4 = network.Discriminator(n_features+1).to(device)\n",
    "\n",
    "# criterion = torch.nn.BCELoss()\n",
    "# gen_opt = torch.optim.Adam(gen4.parameters(), lr=0.01, betas=(0.5, 0.999))\n",
    "# disc_opt = torch.optim.Adam(disc4.parameters(), lr=0.01, betas=(0.5, 0.999))\n"
   ]
  },
  {
   "cell_type": "code",
   "execution_count": null,
   "id": "5e2d3934",
   "metadata": {
    "id": "26acbc37",
    "papermill": {
     "duration": null,
     "end_time": null,
     "exception": null,
     "start_time": null,
     "status": "pending"
    },
    "tags": []
   },
   "outputs": [],
   "source": [
    "# ABC_train_test2.training_GAN_skip_connection(disc4,gen4,disc_opt,gen_opt,train_data,batch_size,n_epochs,criterion,prior_model,variance,bias,device)"
   ]
  },
  {
   "cell_type": "code",
   "execution_count": null,
   "id": "05367b35",
   "metadata": {
    "id": "c5e0717b",
    "papermill": {
     "duration": null,
     "end_time": null,
     "exception": null,
     "start_time": null,
     "status": "pending"
    },
    "tags": []
   },
   "outputs": [],
   "source": [
    "# ABC_GAN4_metrics=ABC_train_test2.test_generator(gen4,test_data,prior_model,variance,bias,\"3\",device)\n",
    "# sb.glue(\"ABC_GAN_4 Metrics\",ABC_GAN4_metrics)\n",
    "\n",
    "# print(\"MAE\")\n",
    "# print(mean(ABC_GAN4_metrics[1]))"
   ]
  },
  {
   "cell_type": "code",
   "execution_count": null,
   "id": "977cddb5",
   "metadata": {
    "id": "c8e46b48",
    "papermill": {
     "duration": null,
     "end_time": null,
     "exception": null,
     "start_time": null,
     "status": "pending"
    },
    "tags": []
   },
   "outputs": [],
   "source": [
    "# sanityChecks.discProbVsError(train_data,disc4,device)\n",
    "# sanityChecks.discProbVsError(test_data,disc4,device)"
   ]
  },
  {
   "cell_type": "markdown",
   "id": "a5bd74c3",
   "metadata": {
    "id": "a5bd74c3",
    "papermill": {
     "duration": null,
     "end_time": null,
     "exception": null,
     "start_time": null,
     "status": "pending"
    },
    "tags": []
   },
   "source": [
    "## Skip Connection Model Analysis - ABC-GAN "
   ]
  },
  {
   "cell_type": "markdown",
   "id": "5744a8bf",
   "metadata": {
    "id": "5744a8bf",
    "papermill": {
     "duration": null,
     "end_time": null,
     "exception": null,
     "start_time": null,
     "status": "pending"
    },
    "tags": []
   },
   "source": [
    "### Weight Analysis \n",
    "\n",
    "Study the weights of the skip connection layer\n",
    "\n",
    "Equation of the skip connection is \n",
    "\n",
    "$output = y_{gan} * w + y_{abc} * (1-w)$"
   ]
  },
  {
   "cell_type": "code",
   "execution_count": null,
   "id": "52c31dea",
   "metadata": {
    "id": "52c31dea",
    "papermill": {
     "duration": null,
     "end_time": null,
     "exception": null,
     "start_time": null,
     "status": "pending"
    },
    "tags": []
   },
   "outputs": [],
   "source": [
    "# print(\"Weight of the node at skip connection\")\n",
    "# for name,param in gen3.named_parameters():\n",
    "#     if(name == \"skipNode.weight\"):\n",
    "#         print(param)\n",
    "#         sb.glue(\"Skip Connection Weight\",param.item())"
   ]
  },
  {
   "cell_type": "markdown",
   "id": "78302499",
   "metadata": {
    "id": "a5bd74c3",
    "papermill": {
     "duration": null,
     "end_time": null,
     "exception": null,
     "start_time": null,
     "status": "pending"
    },
    "tags": []
   },
   "source": [
    "## skipGAN Model Analysis (TabNet Generator) "
   ]
  },
  {
   "cell_type": "markdown",
   "id": "0f0ec2d2",
   "metadata": {
    "id": "5744a8bf",
    "papermill": {
     "duration": null,
     "end_time": null,
     "exception": null,
     "start_time": null,
     "status": "pending"
    },
    "tags": []
   },
   "source": [
    "### Weight Analysis \n",
    "\n",
    "Study the weights of the skip connection layer\n",
    "\n",
    "Equation of the skip connection is \n",
    "\n",
    "$output = y_{gan} * w + y_{abc} * (1-w)$"
   ]
  },
  {
   "cell_type": "code",
   "execution_count": null,
   "id": "ac9dbe1f",
   "metadata": {
    "id": "52c31dea",
    "papermill": {
     "duration": null,
     "end_time": null,
     "exception": null,
     "start_time": null,
     "status": "pending"
    },
    "tags": []
   },
   "outputs": [],
   "source": [
    "# print(\"Weight of the node at skip connection\")\n",
    "# for name,param in gen4.named_parameters():\n",
    "#     if(name == \"skipNode.weight\"):\n",
    "#         print(param)\n",
    "#         sb.glue(\"Skip Connection Weight\",param.item())"
   ]
  }
 ],
 "metadata": {
  "colab": {
   "collapsed_sections": [],
   "name": "ABC_GAN_Model-Catboost_Pre-gen.ipynb",
   "provenance": []
  },
  "interpreter": {
   "hash": "31f2aee4e71d21fbe5cf8b01ff0e069b9275f58929596ceb00d14d90e3e16cd6"
  },
  "kernelspec": {
   "display_name": "Python 3 (ipykernel)",
   "language": "python",
   "name": "python3"
  },
  "language_info": {
   "codemirror_mode": {
    "name": "ipython",
    "version": 3
   },
   "file_extension": ".py",
   "mimetype": "text/x-python",
   "name": "python",
   "nbconvert_exporter": "python",
   "pygments_lexer": "ipython3",
   "version": "3.8.13"
  },
  "papermill": {
   "default_parameters": {},
   "duration": 835.436937,
   "end_time": "2022-07-22T18:20:26.221195",
   "environment_variables": {},
   "exception": true,
   "input_path": "ABC_GAN-Catboost.ipynb",
   "output_path": "./ABC_GAN_Catboost/ABC-GAN_output_1_2.ipynb",
   "parameters": {
    "bias": 1,
    "variance": 0.01
   },
   "start_time": "2022-07-22T18:06:30.784258",
   "version": "2.3.3"
  }
 },
 "nbformat": 4,
 "nbformat_minor": 5
}