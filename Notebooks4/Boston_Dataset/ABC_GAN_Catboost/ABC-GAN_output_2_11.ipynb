{
 "cells": [
  {
   "cell_type": "markdown",
   "id": "ebbeb699",
   "metadata": {
    "tags": [
     "papermill-error-cell-tag"
    ]
   },
   "source": [
    "<span style=\"color:red; font-family:Helvetica Neue, Helvetica, Arial, sans-serif; font-size:2em;\">An Exception was encountered at '<a href=\"#papermill-error-cell\">In [20]</a>'.</span>"
   ]
  },
  {
   "cell_type": "markdown",
   "id": "622780e6",
   "metadata": {
    "id": "622780e6",
    "papermill": {
     "duration": 0.00982,
     "end_time": "2022-07-22T22:00:33.159938",
     "exception": false,
     "start_time": "2022-07-22T22:00:33.150118",
     "status": "completed"
    },
    "tags": []
   },
   "source": [
    "## Import Libraries "
   ]
  },
  {
   "cell_type": "code",
   "execution_count": 1,
   "id": "a62397e3",
   "metadata": {
    "execution": {
     "iopub.execute_input": "2022-07-22T22:00:33.231189Z",
     "iopub.status.busy": "2022-07-22T22:00:33.230508Z",
     "iopub.status.idle": "2022-07-22T22:00:33.244650Z",
     "shell.execute_reply": "2022-07-22T22:00:33.243595Z"
    },
    "id": "a62397e3",
    "papermill": {
     "duration": 0.083666,
     "end_time": "2022-07-22T22:00:33.251652",
     "exception": false,
     "start_time": "2022-07-22T22:00:33.167986",
     "status": "completed"
    },
    "tags": []
   },
   "outputs": [],
   "source": [
    "import warnings\n",
    "import sys\n",
    "sys.path.insert(0, '../../src')\n",
    "warnings.filterwarnings('ignore')"
   ]
  },
  {
   "cell_type": "code",
   "execution_count": 2,
   "id": "d6a4e155",
   "metadata": {
    "execution": {
     "iopub.execute_input": "2022-07-22T22:00:33.275127Z",
     "iopub.status.busy": "2022-07-22T22:00:33.273653Z",
     "iopub.status.idle": "2022-07-22T22:00:40.895948Z",
     "shell.execute_reply": "2022-07-22T22:00:40.895125Z"
    },
    "id": "d6a4e155",
    "papermill": {
     "duration": 7.640277,
     "end_time": "2022-07-22T22:00:40.899288",
     "exception": false,
     "start_time": "2022-07-22T22:00:33.259011",
     "status": "completed"
    },
    "tags": []
   },
   "outputs": [],
   "source": [
    "import ABC_train_test2\n",
    "import bostonDataset\n",
    "import network\n",
    "import dataset\n",
    "import sanityChecks\n",
    "import torch \n",
    "import scrapbook as sb\n",
    "from statistics import mean \n",
    "import catboost as ctb \n",
    "from sklearn.model_selection import train_test_split\n",
    "from sklearn.metrics import mean_squared_error,mean_absolute_error\n",
    "import numpy as np"
   ]
  },
  {
   "cell_type": "markdown",
   "id": "2fa5b0f7",
   "metadata": {
    "id": "2fa5b0f7",
    "papermill": {
     "duration": 0.008053,
     "end_time": "2022-07-22T22:00:40.915335",
     "exception": false,
     "start_time": "2022-07-22T22:00:40.907282",
     "status": "completed"
    },
    "tags": []
   },
   "source": [
    "## Parameters "
   ]
  },
  {
   "cell_type": "code",
   "execution_count": 3,
   "id": "783186fb",
   "metadata": {
    "execution": {
     "iopub.execute_input": "2022-07-22T22:00:40.939558Z",
     "iopub.status.busy": "2022-07-22T22:00:40.938504Z",
     "iopub.status.idle": "2022-07-22T22:00:40.946918Z",
     "shell.execute_reply": "2022-07-22T22:00:40.945671Z"
    },
    "id": "783186fb",
    "papermill": {
     "duration": 0.026786,
     "end_time": "2022-07-22T22:00:40.950285",
     "exception": false,
     "start_time": "2022-07-22T22:00:40.923499",
     "status": "completed"
    },
    "tags": [
     "parameters"
    ]
   },
   "outputs": [],
   "source": [
    "variance = 1\n",
    "bias = 1 "
   ]
  },
  {
   "cell_type": "code",
   "execution_count": 4,
   "id": "df94a806",
   "metadata": {
    "execution": {
     "iopub.execute_input": "2022-07-22T22:00:40.969401Z",
     "iopub.status.busy": "2022-07-22T22:00:40.968985Z",
     "iopub.status.idle": "2022-07-22T22:00:40.973687Z",
     "shell.execute_reply": "2022-07-22T22:00:40.972645Z"
    },
    "papermill": {
     "duration": 0.0203,
     "end_time": "2022-07-22T22:00:40.978515",
     "exception": false,
     "start_time": "2022-07-22T22:00:40.958215",
     "status": "completed"
    },
    "tags": [
     "injected-parameters"
    ]
   },
   "outputs": [],
   "source": [
    "# Parameters\n",
    "variance = 0.01\n",
    "bias = 0\n"
   ]
  },
  {
   "cell_type": "markdown",
   "id": "391cdbfd",
   "metadata": {
    "id": "391cdbfd",
    "papermill": {
     "duration": 0.007799,
     "end_time": "2022-07-22T22:00:40.993582",
     "exception": false,
     "start_time": "2022-07-22T22:00:40.985783",
     "status": "completed"
    },
    "tags": []
   },
   "source": [
    "## Dataset \n"
   ]
  },
  {
   "cell_type": "code",
   "execution_count": 5,
   "id": "5b51f161",
   "metadata": {
    "execution": {
     "iopub.execute_input": "2022-07-22T22:00:41.016564Z",
     "iopub.status.busy": "2022-07-22T22:00:41.015983Z",
     "iopub.status.idle": "2022-07-22T22:00:41.021199Z",
     "shell.execute_reply": "2022-07-22T22:00:41.020049Z"
    },
    "id": "5b51f161",
    "papermill": {
     "duration": 0.028222,
     "end_time": "2022-07-22T22:00:41.029808",
     "exception": false,
     "start_time": "2022-07-22T22:00:41.001586",
     "status": "completed"
    },
    "tags": []
   },
   "outputs": [],
   "source": [
    "#Parameters \n",
    "n_features = 13\n",
    "n_samples= 506\n",
    "n_target = 1 "
   ]
  },
  {
   "cell_type": "code",
   "execution_count": 6,
   "id": "5d6eced4",
   "metadata": {
    "execution": {
     "iopub.execute_input": "2022-07-22T22:00:41.073111Z",
     "iopub.status.busy": "2022-07-22T22:00:41.071275Z",
     "iopub.status.idle": "2022-07-22T22:00:41.156789Z",
     "shell.execute_reply": "2022-07-22T22:00:41.155812Z"
    },
    "id": "5d6eced4",
    "papermill": {
     "duration": 0.139736,
     "end_time": "2022-07-22T22:00:41.177256",
     "exception": false,
     "start_time": "2022-07-22T22:00:41.037520",
     "status": "completed"
    },
    "tags": []
   },
   "outputs": [
    {
     "name": "stdout",
     "output_type": "stream",
     "text": [
      "         X1        X2        X3        X4        X5        X6        X7  \\\n",
      "0 -0.419782  0.284830 -1.287909 -0.272599 -0.144217  0.413672 -0.120013   \n",
      "1 -0.417339 -0.487722 -0.593381 -0.272599 -0.740262  0.194274  0.367166   \n",
      "2 -0.417342 -0.487722 -0.593381 -0.272599 -0.740262  1.282714 -0.265812   \n",
      "3 -0.416750 -0.487722 -1.306878 -0.272599 -0.835284  1.016303 -0.809889   \n",
      "4 -0.412482 -0.487722 -1.306878 -0.272599 -0.835284  1.228577 -0.511180   \n",
      "\n",
      "         X8        X9       X10       X11       X12       X13         Y  \n",
      "0  0.140214 -0.982843 -0.666608 -1.459000  0.441052 -1.075562  0.159686  \n",
      "1  0.557160 -0.867883 -0.987329 -0.303094  0.441052 -0.492439 -0.101524  \n",
      "2  0.557160 -0.867883 -0.987329 -0.303094  0.396427 -1.208727  1.324247  \n",
      "3  1.077737 -0.752922 -1.106115  0.113032  0.416163 -1.361517  1.182758  \n",
      "4  1.077737 -0.752922 -1.106115  0.113032  0.441052 -1.026501  1.487503  \n"
     ]
    }
   ],
   "source": [
    "X,Y = bostonDataset.boston_data()"
   ]
  },
  {
   "cell_type": "code",
   "execution_count": 7,
   "id": "fe007438",
   "metadata": {
    "execution": {
     "iopub.execute_input": "2022-07-22T22:00:41.197558Z",
     "iopub.status.busy": "2022-07-22T22:00:41.196628Z",
     "iopub.status.idle": "2022-07-22T22:00:41.205182Z",
     "shell.execute_reply": "2022-07-22T22:00:41.203769Z"
    },
    "id": "fe007438",
    "papermill": {
     "duration": 0.027034,
     "end_time": "2022-07-22T22:00:41.214703",
     "exception": false,
     "start_time": "2022-07-22T22:00:41.187669",
     "status": "completed"
    },
    "tags": []
   },
   "outputs": [],
   "source": [
    "#Train test split for dataset \n",
    "X_train,X_test,Y_train,Y_test = train_test_split(X,Y,test_size = 0.2)\n",
    "train_data = dataset.CustomDataset(X_train,Y_train)\n",
    "test_data = dataset.CustomDataset(X_test,Y_test)\n"
   ]
  },
  {
   "cell_type": "markdown",
   "id": "a9a1af34",
   "metadata": {
    "id": "a9a1af34",
    "papermill": {
     "duration": 0.013305,
     "end_time": "2022-07-22T22:00:41.238752",
     "exception": false,
     "start_time": "2022-07-22T22:00:41.225447",
     "status": "completed"
    },
    "tags": []
   },
   "source": [
    "## Training Parameters "
   ]
  },
  {
   "cell_type": "code",
   "execution_count": 8,
   "id": "952b7fc8",
   "metadata": {
    "execution": {
     "iopub.execute_input": "2022-07-22T22:00:41.275195Z",
     "iopub.status.busy": "2022-07-22T22:00:41.274574Z",
     "iopub.status.idle": "2022-07-22T22:00:41.279328Z",
     "shell.execute_reply": "2022-07-22T22:00:41.278377Z"
    },
    "id": "952b7fc8",
    "papermill": {
     "duration": 0.036274,
     "end_time": "2022-07-22T22:00:41.283438",
     "exception": false,
     "start_time": "2022-07-22T22:00:41.247164",
     "status": "completed"
    },
    "tags": []
   },
   "outputs": [],
   "source": [
    "batch_size = 32\n",
    "n_epochs = 1000\n",
    "#Select the device \n",
    "device = torch.device('cuda' if torch.cuda.is_available() else 'cpu')"
   ]
  },
  {
   "cell_type": "markdown",
   "id": "a95e1600",
   "metadata": {
    "id": "a95e1600",
    "papermill": {
     "duration": 0.007598,
     "end_time": "2022-07-22T22:00:41.299179",
     "exception": false,
     "start_time": "2022-07-22T22:00:41.291581",
     "status": "completed"
    },
    "tags": []
   },
   "source": [
    "# ABC Pre-generator Model \n",
    "\n",
    "1. The catboost model is used as a pre-generator model for the ABC-GAN. \n",
    "2. The model is first trained on the entire dataset \n",
    "3. It generats X,Y pairs and we add some Gaussian noise with mean 0 and variance 1 to it which is then feed as input to the generator.\n"
   ]
  },
  {
   "cell_type": "code",
   "execution_count": 9,
   "id": "ff8ce7bd",
   "metadata": {
    "execution": {
     "iopub.execute_input": "2022-07-22T22:00:41.344865Z",
     "iopub.status.busy": "2022-07-22T22:00:41.344211Z",
     "iopub.status.idle": "2022-07-22T22:00:45.826560Z",
     "shell.execute_reply": "2022-07-22T22:00:45.825592Z"
    },
    "id": "ff8ce7bd",
    "papermill": {
     "duration": 4.516049,
     "end_time": "2022-07-22T22:00:45.829469",
     "exception": false,
     "start_time": "2022-07-22T22:00:41.313420",
     "status": "completed"
    },
    "tags": []
   },
   "outputs": [
    {
     "name": "stdout",
     "output_type": "stream",
     "text": [
      "Learning rate set to 0.03548\n",
      "0:\tlearn: 0.9759788\ttotal: 62.5ms\tremaining: 1m 2s\n",
      "1:\tlearn: 0.9554941\ttotal: 69.7ms\tremaining: 34.8s\n",
      "2:\tlearn: 0.9338353\ttotal: 72.3ms\tremaining: 24s\n",
      "3:\tlearn: 0.9152324\ttotal: 74.7ms\tremaining: 18.6s\n",
      "4:\tlearn: 0.8984056\ttotal: 77.4ms\tremaining: 15.4s\n",
      "5:\tlearn: 0.8808683\ttotal: 79.7ms\tremaining: 13.2s\n",
      "6:\tlearn: 0.8651876\ttotal: 82.7ms\tremaining: 11.7s\n",
      "7:\tlearn: 0.8482390\ttotal: 85.9ms\tremaining: 10.7s\n",
      "8:\tlearn: 0.8321451\ttotal: 88.8ms\tremaining: 9.78s\n",
      "9:\tlearn: 0.8161948\ttotal: 91.8ms\tremaining: 9.09s\n",
      "10:\tlearn: 0.8024842\ttotal: 94.4ms\tremaining: 8.49s\n",
      "11:\tlearn: 0.7871946\ttotal: 96.8ms\tremaining: 7.97s\n",
      "12:\tlearn: 0.7719633\ttotal: 98.4ms\tremaining: 7.47s\n",
      "13:\tlearn: 0.7565736\ttotal: 101ms\tremaining: 7.1s\n",
      "14:\tlearn: 0.7438032\ttotal: 103ms\tremaining: 6.79s\n",
      "15:\tlearn: 0.7290312\ttotal: 106ms\tremaining: 6.5s\n",
      "16:\tlearn: 0.7128639\ttotal: 108ms\tremaining: 6.25s\n",
      "17:\tlearn: 0.7012279\ttotal: 110ms\tremaining: 5.98s\n",
      "18:\tlearn: 0.6885824\ttotal: 112ms\tremaining: 5.76s\n",
      "19:\tlearn: 0.6757013\ttotal: 114ms\tremaining: 5.57s\n",
      "20:\tlearn: 0.6632768\ttotal: 116ms\tremaining: 5.42s\n",
      "21:\tlearn: 0.6527414\ttotal: 119ms\tremaining: 5.29s\n",
      "22:\tlearn: 0.6427466\ttotal: 122ms\tremaining: 5.18s\n",
      "23:\tlearn: 0.6327831\ttotal: 125ms\tremaining: 5.08s\n",
      "24:\tlearn: 0.6224729\ttotal: 128ms\tremaining: 4.99s\n",
      "25:\tlearn: 0.6129383\ttotal: 132ms\tremaining: 4.96s\n",
      "26:\tlearn: 0.6038817\ttotal: 137ms\tremaining: 4.93s\n",
      "27:\tlearn: 0.5953425\ttotal: 151ms\tremaining: 5.23s\n",
      "28:\tlearn: 0.5859565\ttotal: 153ms\tremaining: 5.12s\n",
      "29:\tlearn: 0.5762724\ttotal: 155ms\tremaining: 5.02s\n"
     ]
    },
    {
     "name": "stdout",
     "output_type": "stream",
     "text": [
      "30:\tlearn: 0.5675072\ttotal: 175ms\tremaining: 5.48s\n",
      "31:\tlearn: 0.5589509\ttotal: 178ms\tremaining: 5.38s\n",
      "32:\tlearn: 0.5518708\ttotal: 180ms\tremaining: 5.28s\n",
      "33:\tlearn: 0.5439737\ttotal: 184ms\tremaining: 5.22s\n",
      "34:\tlearn: 0.5363378\ttotal: 186ms\tremaining: 5.13s\n",
      "35:\tlearn: 0.5291314\ttotal: 188ms\tremaining: 5.04s\n",
      "36:\tlearn: 0.5228666\ttotal: 190ms\tremaining: 4.96s\n",
      "37:\tlearn: 0.5167792\ttotal: 193ms\tremaining: 4.88s\n",
      "38:\tlearn: 0.5101152\ttotal: 195ms\tremaining: 4.81s\n",
      "39:\tlearn: 0.5024185\ttotal: 197ms\tremaining: 4.74s\n",
      "40:\tlearn: 0.4955746\ttotal: 200ms\tremaining: 4.67s\n",
      "41:\tlearn: 0.4889060\ttotal: 202ms\tremaining: 4.62s\n",
      "42:\tlearn: 0.4829918\ttotal: 206ms\tremaining: 4.58s\n",
      "43:\tlearn: 0.4784273\ttotal: 209ms\tremaining: 4.53s\n",
      "44:\tlearn: 0.4721354\ttotal: 211ms\tremaining: 4.47s\n",
      "45:\tlearn: 0.4674562\ttotal: 213ms\tremaining: 4.42s\n",
      "46:\tlearn: 0.4628621\ttotal: 216ms\tremaining: 4.37s\n",
      "47:\tlearn: 0.4572964\ttotal: 218ms\tremaining: 4.32s\n",
      "48:\tlearn: 0.4521135\ttotal: 220ms\tremaining: 4.27s\n",
      "49:\tlearn: 0.4467840\ttotal: 223ms\tremaining: 4.23s\n",
      "50:\tlearn: 0.4416510\ttotal: 225ms\tremaining: 4.18s\n",
      "51:\tlearn: 0.4376929\ttotal: 227ms\tremaining: 4.14s\n",
      "52:\tlearn: 0.4339285\ttotal: 230ms\tremaining: 4.1s\n",
      "53:\tlearn: 0.4300873\ttotal: 233ms\tremaining: 4.08s\n",
      "54:\tlearn: 0.4260915\ttotal: 235ms\tremaining: 4.04s\n",
      "55:\tlearn: 0.4209939\ttotal: 237ms\tremaining: 4s\n",
      "56:\tlearn: 0.4174386\ttotal: 240ms\tremaining: 3.97s\n",
      "57:\tlearn: 0.4132488\ttotal: 242ms\tremaining: 3.93s\n",
      "58:\tlearn: 0.4087036\ttotal: 244ms\tremaining: 3.9s\n",
      "59:\tlearn: 0.4056734\ttotal: 253ms\tremaining: 3.96s\n",
      "60:\tlearn: 0.4019286\ttotal: 269ms\tremaining: 4.14s\n",
      "61:\tlearn: 0.3972586\ttotal: 277ms\tremaining: 4.19s\n",
      "62:\tlearn: 0.3947807\ttotal: 279ms\tremaining: 4.15s\n",
      "63:\tlearn: 0.3917337\ttotal: 281ms\tremaining: 4.12s\n",
      "64:\tlearn: 0.3885093\ttotal: 284ms\tremaining: 4.08s\n",
      "65:\tlearn: 0.3855991\ttotal: 288ms\tremaining: 4.07s\n",
      "66:\tlearn: 0.3820004\ttotal: 290ms\tremaining: 4.04s\n",
      "67:\tlearn: 0.3791264\ttotal: 293ms\tremaining: 4.01s\n",
      "68:\tlearn: 0.3757769\ttotal: 295ms\tremaining: 3.98s\n",
      "69:\tlearn: 0.3723507\ttotal: 298ms\tremaining: 3.96s\n",
      "70:\tlearn: 0.3696155\ttotal: 300ms\tremaining: 3.92s\n",
      "71:\tlearn: 0.3668442\ttotal: 302ms\tremaining: 3.89s\n",
      "72:\tlearn: 0.3644445\ttotal: 304ms\tremaining: 3.86s\n",
      "73:\tlearn: 0.3616950\ttotal: 305ms\tremaining: 3.82s\n",
      "74:\tlearn: 0.3593885\ttotal: 307ms\tremaining: 3.79s\n",
      "75:\tlearn: 0.3563454\ttotal: 309ms\tremaining: 3.76s\n",
      "76:\tlearn: 0.3542667\ttotal: 311ms\tremaining: 3.73s\n",
      "77:\tlearn: 0.3508966\ttotal: 312ms\tremaining: 3.69s\n",
      "78:\tlearn: 0.3480916\ttotal: 315ms\tremaining: 3.67s\n",
      "79:\tlearn: 0.3454449\ttotal: 318ms\tremaining: 3.65s\n",
      "80:\tlearn: 0.3433138\ttotal: 321ms\tremaining: 3.64s\n",
      "81:\tlearn: 0.3412045\ttotal: 323ms\tremaining: 3.62s\n"
     ]
    },
    {
     "name": "stdout",
     "output_type": "stream",
     "text": [
      "82:\tlearn: 0.3394182\ttotal: 326ms\tremaining: 3.6s\n",
      "83:\tlearn: 0.3374769\ttotal: 328ms\tremaining: 3.58s\n",
      "84:\tlearn: 0.3358892\ttotal: 332ms\tremaining: 3.57s\n",
      "85:\tlearn: 0.3338033\ttotal: 335ms\tremaining: 3.56s\n",
      "86:\tlearn: 0.3324307\ttotal: 337ms\tremaining: 3.54s\n",
      "87:\tlearn: 0.3305441\ttotal: 340ms\tremaining: 3.52s\n",
      "88:\tlearn: 0.3290572\ttotal: 342ms\tremaining: 3.5s\n",
      "89:\tlearn: 0.3270725\ttotal: 347ms\tremaining: 3.5s\n",
      "90:\tlearn: 0.3247158\ttotal: 350ms\tremaining: 3.5s\n",
      "91:\tlearn: 0.3235187\ttotal: 353ms\tremaining: 3.48s\n",
      "92:\tlearn: 0.3218779\ttotal: 355ms\tremaining: 3.46s\n",
      "93:\tlearn: 0.3202072\ttotal: 359ms\tremaining: 3.46s\n",
      "94:\tlearn: 0.3186806\ttotal: 361ms\tremaining: 3.44s\n",
      "95:\tlearn: 0.3182145\ttotal: 364ms\tremaining: 3.43s\n",
      "96:\tlearn: 0.3161492\ttotal: 366ms\tremaining: 3.41s\n",
      "97:\tlearn: 0.3147399\ttotal: 369ms\tremaining: 3.39s\n",
      "98:\tlearn: 0.3137454\ttotal: 370ms\tremaining: 3.37s\n",
      "99:\tlearn: 0.3122033\ttotal: 373ms\tremaining: 3.36s\n",
      "100:\tlearn: 0.3110224\ttotal: 377ms\tremaining: 3.35s\n",
      "101:\tlearn: 0.3097727\ttotal: 397ms\tremaining: 3.5s\n",
      "102:\tlearn: 0.3086873\ttotal: 401ms\tremaining: 3.49s\n",
      "103:\tlearn: 0.3076653\ttotal: 404ms\tremaining: 3.48s\n",
      "104:\tlearn: 0.3065206\ttotal: 407ms\tremaining: 3.47s\n",
      "105:\tlearn: 0.3056667\ttotal: 409ms\tremaining: 3.45s\n",
      "106:\tlearn: 0.3046150\ttotal: 412ms\tremaining: 3.44s\n",
      "107:\tlearn: 0.3031254\ttotal: 414ms\tremaining: 3.42s\n",
      "108:\tlearn: 0.3019577\ttotal: 417ms\tremaining: 3.4s\n",
      "109:\tlearn: 0.3009289\ttotal: 424ms\tremaining: 3.43s\n",
      "110:\tlearn: 0.2998803\ttotal: 428ms\tremaining: 3.43s\n",
      "111:\tlearn: 0.2983689\ttotal: 431ms\tremaining: 3.41s\n",
      "112:\tlearn: 0.2972962\ttotal: 434ms\tremaining: 3.4s\n",
      "113:\tlearn: 0.2968174\ttotal: 436ms\tremaining: 3.39s\n",
      "114:\tlearn: 0.2955027\ttotal: 439ms\tremaining: 3.38s\n",
      "115:\tlearn: 0.2936299\ttotal: 442ms\tremaining: 3.37s\n",
      "116:\tlearn: 0.2920072\ttotal: 444ms\tremaining: 3.35s\n",
      "117:\tlearn: 0.2900123\ttotal: 447ms\tremaining: 3.34s\n",
      "118:\tlearn: 0.2889552\ttotal: 449ms\tremaining: 3.33s\n",
      "119:\tlearn: 0.2878368\ttotal: 452ms\tremaining: 3.31s\n",
      "120:\tlearn: 0.2869744\ttotal: 455ms\tremaining: 3.31s\n",
      "121:\tlearn: 0.2860438\ttotal: 461ms\tremaining: 3.32s\n"
     ]
    },
    {
     "name": "stdout",
     "output_type": "stream",
     "text": [
      "122:\tlearn: 0.2851358\ttotal: 518ms\tremaining: 3.69s\n",
      "123:\tlearn: 0.2840354\ttotal: 522ms\tremaining: 3.69s\n",
      "124:\tlearn: 0.2825513\ttotal: 525ms\tremaining: 3.68s\n",
      "125:\tlearn: 0.2811693\ttotal: 530ms\tremaining: 3.68s\n",
      "126:\tlearn: 0.2801061\ttotal: 537ms\tremaining: 3.69s\n",
      "127:\tlearn: 0.2784601\ttotal: 541ms\tremaining: 3.68s\n",
      "128:\tlearn: 0.2777035\ttotal: 545ms\tremaining: 3.68s\n",
      "129:\tlearn: 0.2766598\ttotal: 548ms\tremaining: 3.66s\n",
      "130:\tlearn: 0.2757755\ttotal: 550ms\tremaining: 3.65s\n",
      "131:\tlearn: 0.2751492\ttotal: 553ms\tremaining: 3.63s\n",
      "132:\tlearn: 0.2742847\ttotal: 556ms\tremaining: 3.62s\n",
      "133:\tlearn: 0.2736191\ttotal: 558ms\tremaining: 3.61s\n",
      "134:\tlearn: 0.2729886\ttotal: 562ms\tremaining: 3.6s\n",
      "135:\tlearn: 0.2720918\ttotal: 601ms\tremaining: 3.82s\n",
      "136:\tlearn: 0.2712161\ttotal: 605ms\tremaining: 3.81s\n",
      "137:\tlearn: 0.2706965\ttotal: 608ms\tremaining: 3.8s\n",
      "138:\tlearn: 0.2701645\ttotal: 612ms\tremaining: 3.79s\n",
      "139:\tlearn: 0.2695274\ttotal: 614ms\tremaining: 3.77s\n",
      "140:\tlearn: 0.2687743\ttotal: 617ms\tremaining: 3.76s\n",
      "141:\tlearn: 0.2673359\ttotal: 619ms\tremaining: 3.74s\n",
      "142:\tlearn: 0.2668378\ttotal: 622ms\tremaining: 3.73s\n",
      "143:\tlearn: 0.2661096\ttotal: 624ms\tremaining: 3.71s\n",
      "144:\tlearn: 0.2652399\ttotal: 627ms\tremaining: 3.7s\n",
      "145:\tlearn: 0.2644266\ttotal: 630ms\tremaining: 3.68s\n",
      "146:\tlearn: 0.2634612\ttotal: 632ms\tremaining: 3.67s\n",
      "147:\tlearn: 0.2622214\ttotal: 635ms\tremaining: 3.66s\n",
      "148:\tlearn: 0.2614062\ttotal: 641ms\tremaining: 3.66s\n",
      "149:\tlearn: 0.2603500\ttotal: 661ms\tremaining: 3.75s\n",
      "150:\tlearn: 0.2596496\ttotal: 664ms\tremaining: 3.73s\n",
      "151:\tlearn: 0.2585389\ttotal: 667ms\tremaining: 3.72s\n",
      "152:\tlearn: 0.2577372\ttotal: 670ms\tremaining: 3.71s\n",
      "153:\tlearn: 0.2572273\ttotal: 673ms\tremaining: 3.69s\n",
      "154:\tlearn: 0.2564012\ttotal: 675ms\tremaining: 3.68s\n",
      "155:\tlearn: 0.2553223\ttotal: 678ms\tremaining: 3.67s\n"
     ]
    },
    {
     "name": "stdout",
     "output_type": "stream",
     "text": [
      "156:\tlearn: 0.2545252\ttotal: 682ms\tremaining: 3.66s\n",
      "157:\tlearn: 0.2533137\ttotal: 684ms\tremaining: 3.65s\n",
      "158:\tlearn: 0.2519601\ttotal: 687ms\tremaining: 3.63s\n",
      "159:\tlearn: 0.2514829\ttotal: 695ms\tremaining: 3.65s\n",
      "160:\tlearn: 0.2502795\ttotal: 700ms\tremaining: 3.65s\n",
      "161:\tlearn: 0.2495743\ttotal: 703ms\tremaining: 3.63s\n",
      "162:\tlearn: 0.2488352\ttotal: 705ms\tremaining: 3.62s\n",
      "163:\tlearn: 0.2481419\ttotal: 707ms\tremaining: 3.6s\n",
      "164:\tlearn: 0.2475909\ttotal: 708ms\tremaining: 3.58s\n",
      "165:\tlearn: 0.2468832\ttotal: 710ms\tremaining: 3.57s\n",
      "166:\tlearn: 0.2462286\ttotal: 712ms\tremaining: 3.55s\n",
      "167:\tlearn: 0.2456225\ttotal: 714ms\tremaining: 3.54s\n",
      "168:\tlearn: 0.2447183\ttotal: 717ms\tremaining: 3.53s\n",
      "169:\tlearn: 0.2441006\ttotal: 719ms\tremaining: 3.51s\n",
      "170:\tlearn: 0.2435864\ttotal: 721ms\tremaining: 3.49s\n",
      "171:\tlearn: 0.2425731\ttotal: 724ms\tremaining: 3.48s\n",
      "172:\tlearn: 0.2417140\ttotal: 727ms\tremaining: 3.47s\n",
      "173:\tlearn: 0.2413446\ttotal: 743ms\tremaining: 3.53s\n",
      "174:\tlearn: 0.2410754\ttotal: 747ms\tremaining: 3.52s\n",
      "175:\tlearn: 0.2407197\ttotal: 749ms\tremaining: 3.51s\n",
      "176:\tlearn: 0.2399105\ttotal: 752ms\tremaining: 3.49s\n",
      "177:\tlearn: 0.2393043\ttotal: 755ms\tremaining: 3.48s\n",
      "178:\tlearn: 0.2387180\ttotal: 757ms\tremaining: 3.47s\n",
      "179:\tlearn: 0.2380678\ttotal: 760ms\tremaining: 3.46s\n",
      "180:\tlearn: 0.2375257\ttotal: 762ms\tremaining: 3.45s\n",
      "181:\tlearn: 0.2371718\ttotal: 764ms\tremaining: 3.44s\n",
      "182:\tlearn: 0.2368615\ttotal: 767ms\tremaining: 3.42s\n",
      "183:\tlearn: 0.2363075\ttotal: 769ms\tremaining: 3.41s\n",
      "184:\tlearn: 0.2354147\ttotal: 772ms\tremaining: 3.4s\n",
      "185:\tlearn: 0.2349676\ttotal: 775ms\tremaining: 3.39s\n",
      "186:\tlearn: 0.2341438\ttotal: 778ms\tremaining: 3.38s\n",
      "187:\tlearn: 0.2337370\ttotal: 781ms\tremaining: 3.37s\n",
      "188:\tlearn: 0.2334202\ttotal: 783ms\tremaining: 3.36s\n",
      "189:\tlearn: 0.2327590\ttotal: 786ms\tremaining: 3.35s\n",
      "190:\tlearn: 0.2318480\ttotal: 789ms\tremaining: 3.34s\n",
      "191:\tlearn: 0.2312001\ttotal: 791ms\tremaining: 3.33s\n",
      "192:\tlearn: 0.2306012\ttotal: 794ms\tremaining: 3.32s\n",
      "193:\tlearn: 0.2299936\ttotal: 797ms\tremaining: 3.31s\n",
      "194:\tlearn: 0.2295773\ttotal: 799ms\tremaining: 3.3s\n",
      "195:\tlearn: 0.2292521\ttotal: 802ms\tremaining: 3.29s\n",
      "196:\tlearn: 0.2283687\ttotal: 804ms\tremaining: 3.28s\n",
      "197:\tlearn: 0.2278943\ttotal: 807ms\tremaining: 3.27s\n",
      "198:\tlearn: 0.2274338\ttotal: 808ms\tremaining: 3.25s\n",
      "199:\tlearn: 0.2270991\ttotal: 811ms\tremaining: 3.24s\n",
      "200:\tlearn: 0.2268786\ttotal: 814ms\tremaining: 3.23s\n",
      "201:\tlearn: 0.2258920\ttotal: 816ms\tremaining: 3.23s\n",
      "202:\tlearn: 0.2254601\ttotal: 819ms\tremaining: 3.21s\n",
      "203:\tlearn: 0.2248572\ttotal: 821ms\tremaining: 3.2s\n",
      "204:\tlearn: 0.2246982\ttotal: 827ms\tremaining: 3.21s\n",
      "205:\tlearn: 0.2244933\ttotal: 831ms\tremaining: 3.2s\n",
      "206:\tlearn: 0.2238813\ttotal: 834ms\tremaining: 3.19s\n",
      "207:\tlearn: 0.2235099\ttotal: 836ms\tremaining: 3.18s\n",
      "208:\tlearn: 0.2230304\ttotal: 839ms\tremaining: 3.17s\n",
      "209:\tlearn: 0.2223991\ttotal: 841ms\tremaining: 3.16s\n",
      "210:\tlearn: 0.2220168\ttotal: 844ms\tremaining: 3.15s\n",
      "211:\tlearn: 0.2216668\ttotal: 846ms\tremaining: 3.14s\n",
      "212:\tlearn: 0.2211764\ttotal: 849ms\tremaining: 3.13s\n"
     ]
    },
    {
     "name": "stdout",
     "output_type": "stream",
     "text": [
      "213:\tlearn: 0.2209129\ttotal: 851ms\tremaining: 3.13s\n",
      "214:\tlearn: 0.2205397\ttotal: 854ms\tremaining: 3.12s\n",
      "215:\tlearn: 0.2201386\ttotal: 858ms\tremaining: 3.11s\n",
      "216:\tlearn: 0.2197670\ttotal: 862ms\tremaining: 3.11s\n",
      "217:\tlearn: 0.2192499\ttotal: 879ms\tremaining: 3.15s\n",
      "218:\tlearn: 0.2190001\ttotal: 881ms\tremaining: 3.14s\n",
      "219:\tlearn: 0.2187089\ttotal: 884ms\tremaining: 3.13s\n",
      "220:\tlearn: 0.2182062\ttotal: 887ms\tremaining: 3.13s\n",
      "221:\tlearn: 0.2180393\ttotal: 889ms\tremaining: 3.12s\n",
      "222:\tlearn: 0.2176611\ttotal: 891ms\tremaining: 3.11s\n",
      "223:\tlearn: 0.2171217\ttotal: 894ms\tremaining: 3.1s\n",
      "224:\tlearn: 0.2165978\ttotal: 909ms\tremaining: 3.13s\n",
      "225:\tlearn: 0.2162288\ttotal: 912ms\tremaining: 3.12s\n",
      "226:\tlearn: 0.2154682\ttotal: 914ms\tremaining: 3.11s\n",
      "227:\tlearn: 0.2152949\ttotal: 918ms\tremaining: 3.11s\n",
      "228:\tlearn: 0.2148046\ttotal: 920ms\tremaining: 3.1s\n",
      "229:\tlearn: 0.2142320\ttotal: 923ms\tremaining: 3.09s\n",
      "230:\tlearn: 0.2135163\ttotal: 925ms\tremaining: 3.08s\n",
      "231:\tlearn: 0.2127517\ttotal: 928ms\tremaining: 3.07s\n",
      "232:\tlearn: 0.2125633\ttotal: 930ms\tremaining: 3.06s\n",
      "233:\tlearn: 0.2122187\ttotal: 932ms\tremaining: 3.05s\n",
      "234:\tlearn: 0.2116278\ttotal: 935ms\tremaining: 3.04s\n",
      "235:\tlearn: 0.2113254\ttotal: 937ms\tremaining: 3.03s\n",
      "236:\tlearn: 0.2107299\ttotal: 940ms\tremaining: 3.03s\n",
      "237:\tlearn: 0.2102880\ttotal: 955ms\tremaining: 3.06s\n",
      "238:\tlearn: 0.2098471\ttotal: 958ms\tremaining: 3.05s\n",
      "239:\tlearn: 0.2095297\ttotal: 960ms\tremaining: 3.04s\n",
      "240:\tlearn: 0.2088717\ttotal: 963ms\tremaining: 3.03s\n",
      "241:\tlearn: 0.2082832\ttotal: 965ms\tremaining: 3.02s\n",
      "242:\tlearn: 0.2078982\ttotal: 968ms\tremaining: 3.02s\n",
      "243:\tlearn: 0.2072256\ttotal: 970ms\tremaining: 3.01s\n",
      "244:\tlearn: 0.2067758\ttotal: 973ms\tremaining: 3s\n",
      "245:\tlearn: 0.2063705\ttotal: 975ms\tremaining: 2.99s\n",
      "246:\tlearn: 0.2061003\ttotal: 977ms\tremaining: 2.98s\n",
      "247:\tlearn: 0.2057335\ttotal: 980ms\tremaining: 2.97s\n",
      "248:\tlearn: 0.2053459\ttotal: 983ms\tremaining: 2.96s\n",
      "249:\tlearn: 0.2047362\ttotal: 985ms\tremaining: 2.96s\n",
      "250:\tlearn: 0.2043152\ttotal: 999ms\tremaining: 2.98s\n",
      "251:\tlearn: 0.2042206\ttotal: 1s\tremaining: 2.97s\n",
      "252:\tlearn: 0.2036002\ttotal: 1s\tremaining: 2.96s\n",
      "253:\tlearn: 0.2029013\ttotal: 1.01s\tremaining: 2.96s\n",
      "254:\tlearn: 0.2028401\ttotal: 1.01s\tremaining: 2.95s\n",
      "255:\tlearn: 0.2025533\ttotal: 1.01s\tremaining: 2.94s\n",
      "256:\tlearn: 0.2019161\ttotal: 1.01s\tremaining: 2.93s\n",
      "257:\tlearn: 0.2015427\ttotal: 1.02s\tremaining: 2.92s\n",
      "258:\tlearn: 0.2010864\ttotal: 1.02s\tremaining: 2.91s\n",
      "259:\tlearn: 0.2008527\ttotal: 1.02s\tremaining: 2.91s\n"
     ]
    },
    {
     "name": "stdout",
     "output_type": "stream",
     "text": [
      "260:\tlearn: 0.2003611\ttotal: 1.03s\tremaining: 2.91s\n",
      "261:\tlearn: 0.1996898\ttotal: 1.03s\tremaining: 2.9s\n",
      "262:\tlearn: 0.1989543\ttotal: 1.04s\tremaining: 2.93s\n",
      "263:\tlearn: 0.1983327\ttotal: 1.05s\tremaining: 2.92s\n",
      "264:\tlearn: 0.1978046\ttotal: 1.05s\tremaining: 2.91s\n",
      "265:\tlearn: 0.1971962\ttotal: 1.05s\tremaining: 2.9s\n",
      "266:\tlearn: 0.1965276\ttotal: 1.05s\tremaining: 2.89s\n",
      "267:\tlearn: 0.1961146\ttotal: 1.06s\tremaining: 2.88s\n",
      "268:\tlearn: 0.1959494\ttotal: 1.06s\tremaining: 2.88s\n",
      "269:\tlearn: 0.1954212\ttotal: 1.06s\tremaining: 2.87s\n",
      "270:\tlearn: 0.1948573\ttotal: 1.06s\tremaining: 2.86s\n",
      "271:\tlearn: 0.1945258\ttotal: 1.07s\tremaining: 2.86s\n",
      "272:\tlearn: 0.1935435\ttotal: 1.07s\tremaining: 2.85s\n",
      "273:\tlearn: 0.1930569\ttotal: 1.07s\tremaining: 2.85s\n",
      "274:\tlearn: 0.1926438\ttotal: 1.08s\tremaining: 2.84s\n",
      "275:\tlearn: 0.1919346\ttotal: 1.08s\tremaining: 2.84s\n",
      "276:\tlearn: 0.1915111\ttotal: 1.08s\tremaining: 2.83s\n",
      "277:\tlearn: 0.1909966\ttotal: 1.09s\tremaining: 2.82s\n",
      "278:\tlearn: 0.1904305\ttotal: 1.09s\tremaining: 2.81s\n",
      "279:\tlearn: 0.1900772\ttotal: 1.09s\tremaining: 2.81s\n",
      "280:\tlearn: 0.1894474\ttotal: 1.09s\tremaining: 2.8s\n",
      "281:\tlearn: 0.1889729\ttotal: 1.1s\tremaining: 2.79s\n",
      "282:\tlearn: 0.1884302\ttotal: 1.1s\tremaining: 2.78s\n",
      "283:\tlearn: 0.1878743\ttotal: 1.1s\tremaining: 2.78s\n",
      "284:\tlearn: 0.1874545\ttotal: 1.1s\tremaining: 2.77s\n",
      "285:\tlearn: 0.1867698\ttotal: 1.11s\tremaining: 2.76s\n",
      "286:\tlearn: 0.1863301\ttotal: 1.11s\tremaining: 2.76s\n",
      "287:\tlearn: 0.1859619\ttotal: 1.11s\tremaining: 2.75s\n",
      "288:\tlearn: 0.1854567\ttotal: 1.11s\tremaining: 2.74s\n",
      "289:\tlearn: 0.1849832\ttotal: 1.12s\tremaining: 2.73s\n",
      "290:\tlearn: 0.1846146\ttotal: 1.12s\tremaining: 2.73s\n",
      "291:\tlearn: 0.1839411\ttotal: 1.12s\tremaining: 2.72s\n",
      "292:\tlearn: 0.1833298\ttotal: 1.12s\tremaining: 2.71s\n",
      "293:\tlearn: 0.1826821\ttotal: 1.13s\tremaining: 2.71s\n",
      "294:\tlearn: 0.1821555\ttotal: 1.13s\tremaining: 2.7s\n",
      "295:\tlearn: 0.1816103\ttotal: 1.13s\tremaining: 2.69s\n",
      "296:\tlearn: 0.1810261\ttotal: 1.13s\tremaining: 2.69s\n",
      "297:\tlearn: 0.1806850\ttotal: 1.14s\tremaining: 2.68s\n",
      "298:\tlearn: 0.1800652\ttotal: 1.14s\tremaining: 2.67s\n",
      "299:\tlearn: 0.1796383\ttotal: 1.14s\tremaining: 2.66s\n",
      "300:\tlearn: 0.1792256\ttotal: 1.14s\tremaining: 2.66s\n",
      "301:\tlearn: 0.1787666\ttotal: 1.15s\tremaining: 2.65s\n",
      "302:\tlearn: 0.1782812\ttotal: 1.15s\tremaining: 2.64s\n",
      "303:\tlearn: 0.1778029\ttotal: 1.15s\tremaining: 2.64s\n",
      "304:\tlearn: 0.1773358\ttotal: 1.15s\tremaining: 2.63s\n",
      "305:\tlearn: 0.1769462\ttotal: 1.16s\tremaining: 2.62s\n",
      "306:\tlearn: 0.1764167\ttotal: 1.16s\tremaining: 2.62s\n",
      "307:\tlearn: 0.1758569\ttotal: 1.16s\tremaining: 2.61s\n",
      "308:\tlearn: 0.1757475\ttotal: 1.16s\tremaining: 2.6s\n",
      "309:\tlearn: 0.1750795\ttotal: 1.17s\tremaining: 2.6s\n",
      "310:\tlearn: 0.1746556\ttotal: 1.17s\tremaining: 2.59s\n",
      "311:\tlearn: 0.1741336\ttotal: 1.17s\tremaining: 2.58s\n",
      "312:\tlearn: 0.1737006\ttotal: 1.18s\tremaining: 2.58s\n",
      "313:\tlearn: 0.1731682\ttotal: 1.18s\tremaining: 2.57s\n",
      "314:\tlearn: 0.1730795\ttotal: 1.18s\tremaining: 2.57s\n",
      "315:\tlearn: 0.1729302\ttotal: 1.18s\tremaining: 2.56s\n",
      "316:\tlearn: 0.1724142\ttotal: 1.19s\tremaining: 2.55s\n",
      "317:\tlearn: 0.1719507\ttotal: 1.19s\tremaining: 2.55s\n",
      "318:\tlearn: 0.1715124\ttotal: 1.19s\tremaining: 2.54s\n",
      "319:\tlearn: 0.1711906\ttotal: 1.19s\tremaining: 2.54s\n",
      "320:\tlearn: 0.1709107\ttotal: 1.2s\tremaining: 2.53s\n",
      "321:\tlearn: 0.1705548\ttotal: 1.2s\tremaining: 2.52s\n",
      "322:\tlearn: 0.1700625\ttotal: 1.2s\tremaining: 2.52s\n"
     ]
    },
    {
     "name": "stdout",
     "output_type": "stream",
     "text": [
      "323:\tlearn: 0.1697261\ttotal: 1.2s\tremaining: 2.51s\n",
      "324:\tlearn: 0.1693251\ttotal: 1.21s\tremaining: 2.51s\n",
      "325:\tlearn: 0.1689457\ttotal: 1.21s\tremaining: 2.5s\n",
      "326:\tlearn: 0.1685422\ttotal: 1.21s\tremaining: 2.49s\n",
      "327:\tlearn: 0.1682113\ttotal: 1.21s\tremaining: 2.49s\n",
      "328:\tlearn: 0.1678113\ttotal: 1.22s\tremaining: 2.48s\n",
      "329:\tlearn: 0.1675697\ttotal: 1.22s\tremaining: 2.48s\n",
      "330:\tlearn: 0.1672297\ttotal: 1.22s\tremaining: 2.47s\n",
      "331:\tlearn: 0.1670936\ttotal: 1.22s\tremaining: 2.46s\n",
      "332:\tlearn: 0.1667327\ttotal: 1.23s\tremaining: 2.46s\n",
      "333:\tlearn: 0.1661887\ttotal: 1.23s\tremaining: 2.45s\n",
      "334:\tlearn: 0.1661118\ttotal: 1.23s\tremaining: 2.45s\n",
      "335:\tlearn: 0.1657457\ttotal: 1.24s\tremaining: 2.44s\n",
      "336:\tlearn: 0.1653027\ttotal: 1.24s\tremaining: 2.43s\n",
      "337:\tlearn: 0.1649270\ttotal: 1.24s\tremaining: 2.43s\n",
      "338:\tlearn: 0.1646827\ttotal: 1.24s\tremaining: 2.42s\n",
      "339:\tlearn: 0.1643302\ttotal: 1.25s\tremaining: 2.42s\n",
      "340:\tlearn: 0.1640656\ttotal: 1.25s\tremaining: 2.41s\n",
      "341:\tlearn: 0.1636092\ttotal: 1.25s\tremaining: 2.4s\n",
      "342:\tlearn: 0.1634001\ttotal: 1.25s\tremaining: 2.4s\n",
      "343:\tlearn: 0.1629455\ttotal: 1.25s\tremaining: 2.39s\n",
      "344:\tlearn: 0.1625868\ttotal: 1.26s\tremaining: 2.39s\n",
      "345:\tlearn: 0.1623191\ttotal: 1.26s\tremaining: 2.38s\n",
      "346:\tlearn: 0.1617572\ttotal: 1.26s\tremaining: 2.38s\n",
      "347:\tlearn: 0.1613630\ttotal: 1.27s\tremaining: 2.37s\n",
      "348:\tlearn: 0.1610242\ttotal: 1.27s\tremaining: 2.37s\n",
      "349:\tlearn: 0.1609742\ttotal: 1.27s\tremaining: 2.37s\n",
      "350:\tlearn: 0.1603074\ttotal: 1.28s\tremaining: 2.36s\n",
      "351:\tlearn: 0.1598627\ttotal: 1.35s\tremaining: 2.5s\n",
      "352:\tlearn: 0.1596656\ttotal: 1.36s\tremaining: 2.49s\n",
      "353:\tlearn: 0.1594293\ttotal: 1.36s\tremaining: 2.48s\n",
      "354:\tlearn: 0.1589692\ttotal: 1.36s\tremaining: 2.48s\n",
      "355:\tlearn: 0.1585456\ttotal: 1.36s\tremaining: 2.47s\n",
      "356:\tlearn: 0.1581037\ttotal: 1.37s\tremaining: 2.46s\n",
      "357:\tlearn: 0.1577640\ttotal: 1.37s\tremaining: 2.46s\n",
      "358:\tlearn: 0.1574215\ttotal: 1.37s\tremaining: 2.45s\n",
      "359:\tlearn: 0.1570057\ttotal: 1.38s\tremaining: 2.44s\n",
      "360:\tlearn: 0.1567098\ttotal: 1.38s\tremaining: 2.44s\n",
      "361:\tlearn: 0.1566112\ttotal: 1.38s\tremaining: 2.44s\n"
     ]
    },
    {
     "name": "stdout",
     "output_type": "stream",
     "text": [
      "362:\tlearn: 0.1563554\ttotal: 1.38s\tremaining: 2.43s\n",
      "363:\tlearn: 0.1560191\ttotal: 1.39s\tremaining: 2.42s\n",
      "364:\tlearn: 0.1557539\ttotal: 1.39s\tremaining: 2.42s\n",
      "365:\tlearn: 0.1555588\ttotal: 1.39s\tremaining: 2.41s\n",
      "366:\tlearn: 0.1554789\ttotal: 1.4s\tremaining: 2.41s\n",
      "367:\tlearn: 0.1552327\ttotal: 1.4s\tremaining: 2.4s\n",
      "368:\tlearn: 0.1547887\ttotal: 1.4s\tremaining: 2.4s\n",
      "369:\tlearn: 0.1546599\ttotal: 1.41s\tremaining: 2.39s\n",
      "370:\tlearn: 0.1543891\ttotal: 1.41s\tremaining: 2.39s\n",
      "371:\tlearn: 0.1540150\ttotal: 1.41s\tremaining: 2.39s\n",
      "372:\tlearn: 0.1536204\ttotal: 1.42s\tremaining: 2.38s\n",
      "373:\tlearn: 0.1532694\ttotal: 1.42s\tremaining: 2.38s\n",
      "374:\tlearn: 0.1528349\ttotal: 1.42s\tremaining: 2.37s\n",
      "375:\tlearn: 0.1524218\ttotal: 1.43s\tremaining: 2.37s\n",
      "376:\tlearn: 0.1519880\ttotal: 1.43s\tremaining: 2.36s\n",
      "377:\tlearn: 0.1516946\ttotal: 1.43s\tremaining: 2.35s\n",
      "378:\tlearn: 0.1514184\ttotal: 1.44s\tremaining: 2.35s\n",
      "379:\tlearn: 0.1512320\ttotal: 1.44s\tremaining: 2.35s\n",
      "380:\tlearn: 0.1507384\ttotal: 1.44s\tremaining: 2.35s\n",
      "381:\tlearn: 0.1503020\ttotal: 1.45s\tremaining: 2.34s\n",
      "382:\tlearn: 0.1499602\ttotal: 1.45s\tremaining: 2.34s\n",
      "383:\tlearn: 0.1495724\ttotal: 1.45s\tremaining: 2.33s\n",
      "384:\tlearn: 0.1493685\ttotal: 1.46s\tremaining: 2.33s\n",
      "385:\tlearn: 0.1488682\ttotal: 1.46s\tremaining: 2.32s\n",
      "386:\tlearn: 0.1488060\ttotal: 1.46s\tremaining: 2.31s\n",
      "387:\tlearn: 0.1487337\ttotal: 1.46s\tremaining: 2.31s\n",
      "388:\tlearn: 0.1484252\ttotal: 1.47s\tremaining: 2.3s\n",
      "389:\tlearn: 0.1481906\ttotal: 1.47s\tremaining: 2.3s\n",
      "390:\tlearn: 0.1477627\ttotal: 1.47s\tremaining: 2.29s\n",
      "391:\tlearn: 0.1473766\ttotal: 1.47s\tremaining: 2.29s\n",
      "392:\tlearn: 0.1468664\ttotal: 1.48s\tremaining: 2.28s\n",
      "393:\tlearn: 0.1465477\ttotal: 1.49s\tremaining: 2.3s\n",
      "394:\tlearn: 0.1462134\ttotal: 1.5s\tremaining: 2.29s\n",
      "395:\tlearn: 0.1461281\ttotal: 1.5s\tremaining: 2.29s\n",
      "396:\tlearn: 0.1457946\ttotal: 1.5s\tremaining: 2.29s\n",
      "397:\tlearn: 0.1455705\ttotal: 1.51s\tremaining: 2.28s\n",
      "398:\tlearn: 0.1452656\ttotal: 1.51s\tremaining: 2.28s\n",
      "399:\tlearn: 0.1447922\ttotal: 1.51s\tremaining: 2.27s\n"
     ]
    },
    {
     "name": "stdout",
     "output_type": "stream",
     "text": [
      "400:\tlearn: 0.1446108\ttotal: 1.52s\tremaining: 2.27s\n",
      "401:\tlearn: 0.1442791\ttotal: 1.52s\tremaining: 2.27s\n",
      "402:\tlearn: 0.1439189\ttotal: 1.53s\tremaining: 2.26s\n",
      "403:\tlearn: 0.1436622\ttotal: 1.53s\tremaining: 2.26s\n",
      "404:\tlearn: 0.1431185\ttotal: 1.53s\tremaining: 2.25s\n",
      "405:\tlearn: 0.1427015\ttotal: 1.53s\tremaining: 2.25s\n",
      "406:\tlearn: 0.1423903\ttotal: 1.54s\tremaining: 2.24s\n",
      "407:\tlearn: 0.1420361\ttotal: 1.54s\tremaining: 2.23s\n",
      "408:\tlearn: 0.1415968\ttotal: 1.54s\tremaining: 2.23s\n",
      "409:\tlearn: 0.1412688\ttotal: 1.54s\tremaining: 2.22s\n",
      "410:\tlearn: 0.1411648\ttotal: 1.55s\tremaining: 2.22s\n",
      "411:\tlearn: 0.1409568\ttotal: 1.55s\tremaining: 2.21s\n",
      "412:\tlearn: 0.1407237\ttotal: 1.55s\tremaining: 2.21s\n",
      "413:\tlearn: 0.1403075\ttotal: 1.55s\tremaining: 2.2s\n",
      "414:\tlearn: 0.1400457\ttotal: 1.56s\tremaining: 2.19s\n",
      "415:\tlearn: 0.1397793\ttotal: 1.56s\tremaining: 2.19s\n",
      "416:\tlearn: 0.1395856\ttotal: 1.56s\tremaining: 2.18s\n",
      "417:\tlearn: 0.1393100\ttotal: 1.56s\tremaining: 2.18s\n",
      "418:\tlearn: 0.1388459\ttotal: 1.56s\tremaining: 2.17s\n",
      "419:\tlearn: 0.1385929\ttotal: 1.57s\tremaining: 2.17s\n",
      "420:\tlearn: 0.1385101\ttotal: 1.57s\tremaining: 2.16s\n",
      "421:\tlearn: 0.1383725\ttotal: 1.57s\tremaining: 2.15s\n",
      "422:\tlearn: 0.1379237\ttotal: 1.58s\tremaining: 2.15s\n",
      "423:\tlearn: 0.1379025\ttotal: 1.58s\tremaining: 2.14s\n",
      "424:\tlearn: 0.1374915\ttotal: 1.58s\tremaining: 2.14s\n",
      "425:\tlearn: 0.1373583\ttotal: 1.58s\tremaining: 2.13s\n",
      "426:\tlearn: 0.1370180\ttotal: 1.58s\tremaining: 2.13s\n",
      "427:\tlearn: 0.1366578\ttotal: 1.59s\tremaining: 2.12s\n",
      "428:\tlearn: 0.1366265\ttotal: 1.59s\tremaining: 2.12s\n",
      "429:\tlearn: 0.1363688\ttotal: 1.59s\tremaining: 2.11s\n",
      "430:\tlearn: 0.1361370\ttotal: 1.6s\tremaining: 2.11s\n",
      "431:\tlearn: 0.1359508\ttotal: 1.6s\tremaining: 2.1s\n",
      "432:\tlearn: 0.1359185\ttotal: 1.6s\tremaining: 2.1s\n",
      "433:\tlearn: 0.1358164\ttotal: 1.6s\tremaining: 2.09s\n",
      "434:\tlearn: 0.1354972\ttotal: 1.61s\tremaining: 2.09s\n",
      "435:\tlearn: 0.1351510\ttotal: 1.61s\tremaining: 2.08s\n",
      "436:\tlearn: 0.1349124\ttotal: 1.61s\tremaining: 2.08s\n",
      "437:\tlearn: 0.1345052\ttotal: 1.61s\tremaining: 2.07s\n",
      "438:\tlearn: 0.1344823\ttotal: 1.62s\tremaining: 2.07s\n",
      "439:\tlearn: 0.1344063\ttotal: 1.62s\tremaining: 2.06s\n",
      "440:\tlearn: 0.1342064\ttotal: 1.62s\tremaining: 2.06s\n",
      "441:\tlearn: 0.1338928\ttotal: 1.62s\tremaining: 2.05s\n",
      "442:\tlearn: 0.1337447\ttotal: 1.63s\tremaining: 2.04s\n",
      "443:\tlearn: 0.1334889\ttotal: 1.63s\tremaining: 2.04s\n",
      "444:\tlearn: 0.1332315\ttotal: 1.63s\tremaining: 2.04s\n",
      "445:\tlearn: 0.1328252\ttotal: 1.64s\tremaining: 2.04s\n",
      "446:\tlearn: 0.1327414\ttotal: 1.65s\tremaining: 2.04s\n",
      "447:\tlearn: 0.1324420\ttotal: 1.65s\tremaining: 2.04s\n",
      "448:\tlearn: 0.1322045\ttotal: 1.66s\tremaining: 2.03s\n",
      "449:\tlearn: 0.1317943\ttotal: 1.66s\tremaining: 2.02s\n",
      "450:\tlearn: 0.1315871\ttotal: 1.66s\tremaining: 2.02s\n",
      "451:\tlearn: 0.1314542\ttotal: 1.66s\tremaining: 2.02s\n",
      "452:\tlearn: 0.1313534\ttotal: 1.66s\tremaining: 2.01s\n",
      "453:\tlearn: 0.1312598\ttotal: 1.67s\tremaining: 2s\n",
      "454:\tlearn: 0.1309788\ttotal: 1.67s\tremaining: 2s\n",
      "455:\tlearn: 0.1308843\ttotal: 1.67s\tremaining: 2s\n",
      "456:\tlearn: 0.1304516\ttotal: 1.68s\tremaining: 1.99s\n",
      "457:\tlearn: 0.1304211\ttotal: 1.68s\tremaining: 1.99s\n",
      "458:\tlearn: 0.1302975\ttotal: 1.68s\tremaining: 1.98s\n",
      "459:\tlearn: 0.1301279\ttotal: 1.69s\tremaining: 1.99s\n",
      "460:\tlearn: 0.1298276\ttotal: 1.69s\tremaining: 1.98s\n"
     ]
    },
    {
     "name": "stdout",
     "output_type": "stream",
     "text": [
      "461:\tlearn: 0.1296905\ttotal: 1.7s\tremaining: 1.98s\n",
      "462:\tlearn: 0.1294720\ttotal: 1.7s\tremaining: 1.97s\n",
      "463:\tlearn: 0.1292972\ttotal: 1.7s\tremaining: 1.97s\n",
      "464:\tlearn: 0.1290209\ttotal: 1.71s\tremaining: 1.96s\n",
      "465:\tlearn: 0.1288365\ttotal: 1.73s\tremaining: 1.98s\n",
      "466:\tlearn: 0.1287813\ttotal: 1.73s\tremaining: 1.98s\n",
      "467:\tlearn: 0.1286203\ttotal: 1.73s\tremaining: 1.97s\n",
      "468:\tlearn: 0.1285456\ttotal: 1.74s\tremaining: 1.97s\n",
      "469:\tlearn: 0.1282168\ttotal: 1.74s\tremaining: 1.96s\n",
      "470:\tlearn: 0.1278791\ttotal: 1.74s\tremaining: 1.96s\n",
      "471:\tlearn: 0.1274075\ttotal: 1.74s\tremaining: 1.95s\n",
      "472:\tlearn: 0.1273837\ttotal: 1.75s\tremaining: 1.95s\n",
      "473:\tlearn: 0.1271102\ttotal: 1.75s\tremaining: 1.94s\n",
      "474:\tlearn: 0.1269433\ttotal: 1.75s\tremaining: 1.94s\n",
      "475:\tlearn: 0.1268729\ttotal: 1.75s\tremaining: 1.93s\n",
      "476:\tlearn: 0.1264426\ttotal: 1.76s\tremaining: 1.93s\n",
      "477:\tlearn: 0.1262697\ttotal: 1.76s\tremaining: 1.92s\n",
      "478:\tlearn: 0.1259378\ttotal: 1.76s\tremaining: 1.92s\n",
      "479:\tlearn: 0.1257523\ttotal: 1.76s\tremaining: 1.91s\n",
      "480:\tlearn: 0.1255586\ttotal: 1.77s\tremaining: 1.91s\n",
      "481:\tlearn: 0.1252252\ttotal: 1.77s\tremaining: 1.9s\n",
      "482:\tlearn: 0.1249509\ttotal: 1.77s\tremaining: 1.9s\n",
      "483:\tlearn: 0.1246997\ttotal: 1.77s\tremaining: 1.89s\n",
      "484:\tlearn: 0.1243134\ttotal: 1.78s\tremaining: 1.89s\n",
      "485:\tlearn: 0.1240298\ttotal: 1.78s\tremaining: 1.88s\n",
      "486:\tlearn: 0.1239886\ttotal: 1.78s\tremaining: 1.88s\n",
      "487:\tlearn: 0.1237742\ttotal: 1.78s\tremaining: 1.87s\n",
      "488:\tlearn: 0.1234963\ttotal: 1.79s\tremaining: 1.87s\n",
      "489:\tlearn: 0.1231502\ttotal: 1.79s\tremaining: 1.86s\n",
      "490:\tlearn: 0.1229769\ttotal: 1.79s\tremaining: 1.86s\n",
      "491:\tlearn: 0.1227096\ttotal: 1.79s\tremaining: 1.85s\n",
      "492:\tlearn: 0.1226246\ttotal: 1.8s\tremaining: 1.85s\n",
      "493:\tlearn: 0.1224079\ttotal: 1.8s\tremaining: 1.85s\n",
      "494:\tlearn: 0.1221344\ttotal: 1.8s\tremaining: 1.84s\n",
      "495:\tlearn: 0.1220364\ttotal: 1.81s\tremaining: 1.84s\n",
      "496:\tlearn: 0.1218168\ttotal: 1.81s\tremaining: 1.83s\n",
      "497:\tlearn: 0.1217951\ttotal: 1.81s\tremaining: 1.83s\n",
      "498:\tlearn: 0.1215738\ttotal: 1.81s\tremaining: 1.82s\n",
      "499:\tlearn: 0.1214217\ttotal: 1.82s\tremaining: 1.82s\n",
      "500:\tlearn: 0.1210050\ttotal: 1.82s\tremaining: 1.81s\n",
      "501:\tlearn: 0.1206740\ttotal: 1.82s\tremaining: 1.81s\n",
      "502:\tlearn: 0.1204640\ttotal: 1.82s\tremaining: 1.8s\n",
      "503:\tlearn: 0.1202158\ttotal: 1.83s\tremaining: 1.8s\n",
      "504:\tlearn: 0.1199129\ttotal: 1.83s\tremaining: 1.79s\n",
      "505:\tlearn: 0.1198251\ttotal: 1.83s\tremaining: 1.79s\n",
      "506:\tlearn: 0.1197719\ttotal: 1.84s\tremaining: 1.79s\n",
      "507:\tlearn: 0.1197120\ttotal: 1.84s\tremaining: 1.78s\n",
      "508:\tlearn: 0.1193840\ttotal: 1.84s\tremaining: 1.78s\n"
     ]
    },
    {
     "name": "stdout",
     "output_type": "stream",
     "text": [
      "509:\tlearn: 0.1191444\ttotal: 1.87s\tremaining: 1.8s\n",
      "510:\tlearn: 0.1188415\ttotal: 1.88s\tremaining: 1.79s\n",
      "511:\tlearn: 0.1186259\ttotal: 1.88s\tremaining: 1.79s\n",
      "512:\tlearn: 0.1184269\ttotal: 1.88s\tremaining: 1.79s\n",
      "513:\tlearn: 0.1182032\ttotal: 1.88s\tremaining: 1.78s\n",
      "514:\tlearn: 0.1180488\ttotal: 1.89s\tremaining: 1.78s\n",
      "515:\tlearn: 0.1178047\ttotal: 1.89s\tremaining: 1.77s\n",
      "516:\tlearn: 0.1174936\ttotal: 1.89s\tremaining: 1.77s\n",
      "517:\tlearn: 0.1172173\ttotal: 1.9s\tremaining: 1.76s\n",
      "518:\tlearn: 0.1169871\ttotal: 1.9s\tremaining: 1.76s\n",
      "519:\tlearn: 0.1166909\ttotal: 1.9s\tremaining: 1.75s\n",
      "520:\tlearn: 0.1164252\ttotal: 1.91s\tremaining: 1.75s\n",
      "521:\tlearn: 0.1162050\ttotal: 1.91s\tremaining: 1.75s\n",
      "522:\tlearn: 0.1160677\ttotal: 1.91s\tremaining: 1.74s\n",
      "523:\tlearn: 0.1160480\ttotal: 1.91s\tremaining: 1.74s\n",
      "524:\tlearn: 0.1159472\ttotal: 1.92s\tremaining: 1.73s\n",
      "525:\tlearn: 0.1157801\ttotal: 1.92s\tremaining: 1.73s\n",
      "526:\tlearn: 0.1157270\ttotal: 1.92s\tremaining: 1.72s\n",
      "527:\tlearn: 0.1154936\ttotal: 1.92s\tremaining: 1.72s\n",
      "528:\tlearn: 0.1153565\ttotal: 1.93s\tremaining: 1.71s\n",
      "529:\tlearn: 0.1150590\ttotal: 1.93s\tremaining: 1.71s\n",
      "530:\tlearn: 0.1147551\ttotal: 1.93s\tremaining: 1.7s\n",
      "531:\tlearn: 0.1145354\ttotal: 1.93s\tremaining: 1.7s\n",
      "532:\tlearn: 0.1142870\ttotal: 1.93s\tremaining: 1.7s\n",
      "533:\tlearn: 0.1140799\ttotal: 1.94s\tremaining: 1.69s\n",
      "534:\tlearn: 0.1138349\ttotal: 1.94s\tremaining: 1.69s\n",
      "535:\tlearn: 0.1136058\ttotal: 1.94s\tremaining: 1.68s\n",
      "536:\tlearn: 0.1133209\ttotal: 1.94s\tremaining: 1.68s\n",
      "537:\tlearn: 0.1130459\ttotal: 1.95s\tremaining: 1.67s\n",
      "538:\tlearn: 0.1128418\ttotal: 1.95s\tremaining: 1.67s\n",
      "539:\tlearn: 0.1124878\ttotal: 1.95s\tremaining: 1.66s\n"
     ]
    },
    {
     "name": "stdout",
     "output_type": "stream",
     "text": [
      "540:\tlearn: 0.1123651\ttotal: 1.96s\tremaining: 1.66s\n",
      "541:\tlearn: 0.1121068\ttotal: 1.96s\tremaining: 1.66s\n",
      "542:\tlearn: 0.1118267\ttotal: 1.96s\tremaining: 1.65s\n",
      "543:\tlearn: 0.1116112\ttotal: 1.96s\tremaining: 1.65s\n",
      "544:\tlearn: 0.1115300\ttotal: 1.97s\tremaining: 1.64s\n",
      "545:\tlearn: 0.1112690\ttotal: 1.97s\tremaining: 1.64s\n",
      "546:\tlearn: 0.1109904\ttotal: 1.97s\tremaining: 1.63s\n",
      "547:\tlearn: 0.1109767\ttotal: 1.97s\tremaining: 1.63s\n",
      "548:\tlearn: 0.1109632\ttotal: 1.98s\tremaining: 1.62s\n",
      "549:\tlearn: 0.1106721\ttotal: 1.98s\tremaining: 1.62s\n",
      "550:\tlearn: 0.1103893\ttotal: 1.98s\tremaining: 1.61s\n",
      "551:\tlearn: 0.1101890\ttotal: 1.98s\tremaining: 1.61s\n",
      "552:\tlearn: 0.1100017\ttotal: 1.99s\tremaining: 1.6s\n",
      "553:\tlearn: 0.1097741\ttotal: 1.99s\tremaining: 1.6s\n",
      "554:\tlearn: 0.1095351\ttotal: 1.99s\tremaining: 1.6s\n",
      "555:\tlearn: 0.1094774\ttotal: 2s\tremaining: 1.59s\n",
      "556:\tlearn: 0.1092624\ttotal: 2s\tremaining: 1.59s\n",
      "557:\tlearn: 0.1090751\ttotal: 2s\tremaining: 1.58s\n",
      "558:\tlearn: 0.1088251\ttotal: 2s\tremaining: 1.58s\n",
      "559:\tlearn: 0.1086564\ttotal: 2.01s\tremaining: 1.58s\n",
      "560:\tlearn: 0.1083883\ttotal: 2.01s\tremaining: 1.57s\n",
      "561:\tlearn: 0.1082307\ttotal: 2.01s\tremaining: 1.57s\n",
      "562:\tlearn: 0.1079903\ttotal: 2.02s\tremaining: 1.56s\n",
      "563:\tlearn: 0.1077473\ttotal: 2.02s\tremaining: 1.56s\n",
      "564:\tlearn: 0.1075753\ttotal: 2.02s\tremaining: 1.55s\n",
      "565:\tlearn: 0.1072816\ttotal: 2.02s\tremaining: 1.55s\n",
      "566:\tlearn: 0.1070330\ttotal: 2.02s\tremaining: 1.55s\n",
      "567:\tlearn: 0.1068891\ttotal: 2.03s\tremaining: 1.54s\n",
      "568:\tlearn: 0.1066989\ttotal: 2.03s\tremaining: 1.54s\n",
      "569:\tlearn: 0.1064285\ttotal: 2.05s\tremaining: 1.54s\n",
      "570:\tlearn: 0.1061571\ttotal: 2.05s\tremaining: 1.54s\n",
      "571:\tlearn: 0.1059245\ttotal: 2.05s\tremaining: 1.54s\n",
      "572:\tlearn: 0.1058859\ttotal: 2.06s\tremaining: 1.53s\n",
      "573:\tlearn: 0.1056277\ttotal: 2.06s\tremaining: 1.53s\n",
      "574:\tlearn: 0.1053350\ttotal: 2.06s\tremaining: 1.52s\n",
      "575:\tlearn: 0.1052126\ttotal: 2.06s\tremaining: 1.52s\n",
      "576:\tlearn: 0.1049265\ttotal: 2.06s\tremaining: 1.51s\n",
      "577:\tlearn: 0.1046569\ttotal: 2.07s\tremaining: 1.51s\n",
      "578:\tlearn: 0.1044783\ttotal: 2.07s\tremaining: 1.5s\n",
      "579:\tlearn: 0.1042043\ttotal: 2.07s\tremaining: 1.5s\n",
      "580:\tlearn: 0.1040316\ttotal: 2.08s\tremaining: 1.5s\n",
      "581:\tlearn: 0.1037639\ttotal: 2.08s\tremaining: 1.49s\n",
      "582:\tlearn: 0.1035435\ttotal: 2.08s\tremaining: 1.49s\n",
      "583:\tlearn: 0.1031902\ttotal: 2.08s\tremaining: 1.49s\n",
      "584:\tlearn: 0.1031640\ttotal: 2.09s\tremaining: 1.48s\n",
      "585:\tlearn: 0.1029694\ttotal: 2.09s\tremaining: 1.48s\n",
      "586:\tlearn: 0.1029558\ttotal: 2.09s\tremaining: 1.47s\n",
      "587:\tlearn: 0.1027824\ttotal: 2.1s\tremaining: 1.47s\n",
      "588:\tlearn: 0.1026641\ttotal: 2.1s\tremaining: 1.46s\n",
      "589:\tlearn: 0.1024266\ttotal: 2.1s\tremaining: 1.46s\n",
      "590:\tlearn: 0.1021788\ttotal: 2.1s\tremaining: 1.46s\n"
     ]
    },
    {
     "name": "stdout",
     "output_type": "stream",
     "text": [
      "591:\tlearn: 0.1019830\ttotal: 2.12s\tremaining: 1.46s\n",
      "592:\tlearn: 0.1017710\ttotal: 2.13s\tremaining: 1.46s\n",
      "593:\tlearn: 0.1015810\ttotal: 2.13s\tremaining: 1.45s\n",
      "594:\tlearn: 0.1013961\ttotal: 2.13s\tremaining: 1.45s\n",
      "595:\tlearn: 0.1012580\ttotal: 2.13s\tremaining: 1.45s\n",
      "596:\tlearn: 0.1010318\ttotal: 2.13s\tremaining: 1.44s\n",
      "597:\tlearn: 0.1008061\ttotal: 2.14s\tremaining: 1.44s\n",
      "598:\tlearn: 0.1005513\ttotal: 2.14s\tremaining: 1.43s\n",
      "599:\tlearn: 0.1004452\ttotal: 2.15s\tremaining: 1.44s\n",
      "600:\tlearn: 0.1002386\ttotal: 2.16s\tremaining: 1.44s\n",
      "601:\tlearn: 0.1000707\ttotal: 2.16s\tremaining: 1.43s\n",
      "602:\tlearn: 0.0998849\ttotal: 2.17s\tremaining: 1.43s\n",
      "603:\tlearn: 0.0997111\ttotal: 2.17s\tremaining: 1.42s\n",
      "604:\tlearn: 0.0994995\ttotal: 2.17s\tremaining: 1.42s\n",
      "605:\tlearn: 0.0994649\ttotal: 2.17s\tremaining: 1.41s\n",
      "606:\tlearn: 0.0992563\ttotal: 2.18s\tremaining: 1.41s\n",
      "607:\tlearn: 0.0990117\ttotal: 2.18s\tremaining: 1.41s\n",
      "608:\tlearn: 0.0988838\ttotal: 2.2s\tremaining: 1.41s\n",
      "609:\tlearn: 0.0987250\ttotal: 2.2s\tremaining: 1.41s\n",
      "610:\tlearn: 0.0986074\ttotal: 2.21s\tremaining: 1.41s\n",
      "611:\tlearn: 0.0983439\ttotal: 2.21s\tremaining: 1.4s\n",
      "612:\tlearn: 0.0983325\ttotal: 2.21s\tremaining: 1.4s\n",
      "613:\tlearn: 0.0981521\ttotal: 2.21s\tremaining: 1.39s\n",
      "614:\tlearn: 0.0980212\ttotal: 2.22s\tremaining: 1.39s\n",
      "615:\tlearn: 0.0979199\ttotal: 2.22s\tremaining: 1.38s\n",
      "616:\tlearn: 0.0978013\ttotal: 2.22s\tremaining: 1.38s\n",
      "617:\tlearn: 0.0976251\ttotal: 2.23s\tremaining: 1.38s\n",
      "618:\tlearn: 0.0973335\ttotal: 2.23s\tremaining: 1.38s\n",
      "619:\tlearn: 0.0971861\ttotal: 2.24s\tremaining: 1.37s\n",
      "620:\tlearn: 0.0970621\ttotal: 2.24s\tremaining: 1.37s\n",
      "621:\tlearn: 0.0970300\ttotal: 2.24s\tremaining: 1.36s\n",
      "622:\tlearn: 0.0968972\ttotal: 2.25s\tremaining: 1.36s\n",
      "623:\tlearn: 0.0966930\ttotal: 2.25s\tremaining: 1.35s\n",
      "624:\tlearn: 0.0964718\ttotal: 2.25s\tremaining: 1.35s\n",
      "625:\tlearn: 0.0962923\ttotal: 2.25s\tremaining: 1.35s\n",
      "626:\tlearn: 0.0960538\ttotal: 2.26s\tremaining: 1.34s\n",
      "627:\tlearn: 0.0960434\ttotal: 2.28s\tremaining: 1.35s\n"
     ]
    },
    {
     "name": "stdout",
     "output_type": "stream",
     "text": [
      "628:\tlearn: 0.0957746\ttotal: 2.29s\tremaining: 1.35s\n",
      "629:\tlearn: 0.0955899\ttotal: 2.29s\tremaining: 1.34s\n",
      "630:\tlearn: 0.0953781\ttotal: 2.29s\tremaining: 1.34s\n",
      "631:\tlearn: 0.0951421\ttotal: 2.29s\tremaining: 1.34s\n",
      "632:\tlearn: 0.0950401\ttotal: 2.3s\tremaining: 1.33s\n",
      "633:\tlearn: 0.0948407\ttotal: 2.3s\tremaining: 1.33s\n",
      "634:\tlearn: 0.0947319\ttotal: 2.31s\tremaining: 1.32s\n",
      "635:\tlearn: 0.0945319\ttotal: 2.31s\tremaining: 1.32s\n",
      "636:\tlearn: 0.0945168\ttotal: 2.31s\tremaining: 1.32s\n",
      "637:\tlearn: 0.0944436\ttotal: 2.31s\tremaining: 1.31s\n",
      "638:\tlearn: 0.0943754\ttotal: 2.32s\tremaining: 1.31s\n",
      "639:\tlearn: 0.0941985\ttotal: 2.32s\tremaining: 1.3s\n",
      "640:\tlearn: 0.0940126\ttotal: 2.32s\tremaining: 1.3s\n",
      "641:\tlearn: 0.0938837\ttotal: 2.32s\tremaining: 1.29s\n",
      "642:\tlearn: 0.0938726\ttotal: 2.33s\tremaining: 1.29s\n",
      "643:\tlearn: 0.0936067\ttotal: 2.33s\tremaining: 1.29s\n",
      "644:\tlearn: 0.0934223\ttotal: 2.33s\tremaining: 1.28s\n",
      "645:\tlearn: 0.0932700\ttotal: 2.33s\tremaining: 1.28s\n",
      "646:\tlearn: 0.0931236\ttotal: 2.34s\tremaining: 1.27s\n",
      "647:\tlearn: 0.0929252\ttotal: 2.34s\tremaining: 1.27s\n",
      "648:\tlearn: 0.0927960\ttotal: 2.34s\tremaining: 1.27s\n",
      "649:\tlearn: 0.0926095\ttotal: 2.35s\tremaining: 1.26s\n",
      "650:\tlearn: 0.0924149\ttotal: 2.35s\tremaining: 1.26s\n",
      "651:\tlearn: 0.0922514\ttotal: 2.35s\tremaining: 1.25s\n",
      "652:\tlearn: 0.0920562\ttotal: 2.35s\tremaining: 1.25s\n",
      "653:\tlearn: 0.0918819\ttotal: 2.36s\tremaining: 1.25s\n",
      "654:\tlearn: 0.0917747\ttotal: 2.36s\tremaining: 1.24s\n",
      "655:\tlearn: 0.0916327\ttotal: 2.36s\tremaining: 1.24s\n",
      "656:\tlearn: 0.0914718\ttotal: 2.37s\tremaining: 1.23s\n",
      "657:\tlearn: 0.0913185\ttotal: 2.37s\tremaining: 1.23s\n",
      "658:\tlearn: 0.0912896\ttotal: 2.37s\tremaining: 1.23s\n",
      "659:\tlearn: 0.0912130\ttotal: 2.37s\tremaining: 1.22s\n",
      "660:\tlearn: 0.0910449\ttotal: 2.38s\tremaining: 1.22s\n",
      "661:\tlearn: 0.0910159\ttotal: 2.38s\tremaining: 1.21s\n",
      "662:\tlearn: 0.0909118\ttotal: 2.38s\tremaining: 1.21s\n",
      "663:\tlearn: 0.0907348\ttotal: 2.38s\tremaining: 1.21s\n",
      "664:\tlearn: 0.0906081\ttotal: 2.39s\tremaining: 1.2s\n",
      "665:\tlearn: 0.0904370\ttotal: 2.39s\tremaining: 1.2s\n",
      "666:\tlearn: 0.0902579\ttotal: 2.39s\tremaining: 1.19s\n",
      "667:\tlearn: 0.0900348\ttotal: 2.4s\tremaining: 1.19s\n",
      "668:\tlearn: 0.0898472\ttotal: 2.4s\tremaining: 1.19s\n",
      "669:\tlearn: 0.0898197\ttotal: 2.4s\tremaining: 1.18s\n",
      "670:\tlearn: 0.0895975\ttotal: 2.41s\tremaining: 1.18s\n",
      "671:\tlearn: 0.0894043\ttotal: 2.41s\tremaining: 1.18s\n",
      "672:\tlearn: 0.0892808\ttotal: 2.41s\tremaining: 1.17s\n",
      "673:\tlearn: 0.0892131\ttotal: 2.41s\tremaining: 1.17s\n",
      "674:\tlearn: 0.0891263\ttotal: 2.42s\tremaining: 1.16s\n"
     ]
    },
    {
     "name": "stdout",
     "output_type": "stream",
     "text": [
      "675:\tlearn: 0.0889122\ttotal: 2.43s\tremaining: 1.17s\n",
      "676:\tlearn: 0.0887581\ttotal: 2.43s\tremaining: 1.16s\n",
      "677:\tlearn: 0.0886052\ttotal: 2.44s\tremaining: 1.16s\n",
      "678:\tlearn: 0.0884342\ttotal: 2.44s\tremaining: 1.15s\n",
      "679:\tlearn: 0.0883038\ttotal: 2.44s\tremaining: 1.15s\n",
      "680:\tlearn: 0.0882922\ttotal: 2.44s\tremaining: 1.14s\n",
      "681:\tlearn: 0.0881758\ttotal: 2.45s\tremaining: 1.14s\n",
      "682:\tlearn: 0.0880463\ttotal: 2.45s\tremaining: 1.14s\n",
      "683:\tlearn: 0.0878812\ttotal: 2.45s\tremaining: 1.13s\n",
      "684:\tlearn: 0.0878419\ttotal: 2.45s\tremaining: 1.13s\n",
      "685:\tlearn: 0.0876350\ttotal: 2.46s\tremaining: 1.12s\n",
      "686:\tlearn: 0.0875981\ttotal: 2.46s\tremaining: 1.12s\n",
      "687:\tlearn: 0.0874477\ttotal: 2.46s\tremaining: 1.12s\n",
      "688:\tlearn: 0.0873540\ttotal: 2.46s\tremaining: 1.11s\n",
      "689:\tlearn: 0.0872267\ttotal: 2.47s\tremaining: 1.11s\n",
      "690:\tlearn: 0.0870163\ttotal: 2.47s\tremaining: 1.1s\n",
      "691:\tlearn: 0.0868967\ttotal: 2.47s\tremaining: 1.1s\n",
      "692:\tlearn: 0.0867139\ttotal: 2.48s\tremaining: 1.1s\n",
      "693:\tlearn: 0.0865208\ttotal: 2.48s\tremaining: 1.09s\n",
      "694:\tlearn: 0.0864079\ttotal: 2.48s\tremaining: 1.09s\n",
      "695:\tlearn: 0.0862803\ttotal: 2.48s\tremaining: 1.08s\n",
      "696:\tlearn: 0.0861121\ttotal: 2.48s\tremaining: 1.08s\n",
      "697:\tlearn: 0.0859617\ttotal: 2.49s\tremaining: 1.08s\n",
      "698:\tlearn: 0.0858155\ttotal: 2.49s\tremaining: 1.07s\n",
      "699:\tlearn: 0.0857009\ttotal: 2.5s\tremaining: 1.07s\n",
      "700:\tlearn: 0.0854516\ttotal: 2.5s\tremaining: 1.06s\n",
      "701:\tlearn: 0.0852345\ttotal: 2.5s\tremaining: 1.06s\n",
      "702:\tlearn: 0.0850923\ttotal: 2.5s\tremaining: 1.06s\n",
      "703:\tlearn: 0.0849448\ttotal: 2.51s\tremaining: 1.05s\n",
      "704:\tlearn: 0.0849068\ttotal: 2.51s\tremaining: 1.05s\n",
      "705:\tlearn: 0.0846877\ttotal: 2.51s\tremaining: 1.05s\n",
      "706:\tlearn: 0.0844716\ttotal: 2.52s\tremaining: 1.04s\n",
      "707:\tlearn: 0.0842963\ttotal: 2.52s\tremaining: 1.04s\n",
      "708:\tlearn: 0.0841391\ttotal: 2.52s\tremaining: 1.03s\n",
      "709:\tlearn: 0.0839820\ttotal: 2.52s\tremaining: 1.03s\n",
      "710:\tlearn: 0.0838411\ttotal: 2.52s\tremaining: 1.03s\n",
      "711:\tlearn: 0.0837037\ttotal: 2.53s\tremaining: 1.02s\n",
      "712:\tlearn: 0.0836051\ttotal: 2.53s\tremaining: 1.02s\n",
      "713:\tlearn: 0.0834206\ttotal: 2.53s\tremaining: 1.01s\n",
      "714:\tlearn: 0.0832681\ttotal: 2.53s\tremaining: 1.01s\n",
      "715:\tlearn: 0.0831460\ttotal: 2.54s\tremaining: 1.01s\n",
      "716:\tlearn: 0.0831019\ttotal: 2.54s\tremaining: 1s\n",
      "717:\tlearn: 0.0829372\ttotal: 2.54s\tremaining: 999ms\n",
      "718:\tlearn: 0.0827519\ttotal: 2.54s\tremaining: 994ms\n",
      "719:\tlearn: 0.0825794\ttotal: 2.55s\tremaining: 991ms\n",
      "720:\tlearn: 0.0825079\ttotal: 2.55s\tremaining: 987ms\n",
      "721:\tlearn: 0.0823777\ttotal: 2.55s\tremaining: 983ms\n",
      "722:\tlearn: 0.0822065\ttotal: 2.56s\tremaining: 979ms\n",
      "723:\tlearn: 0.0820389\ttotal: 2.56s\tremaining: 975ms\n",
      "724:\tlearn: 0.0819282\ttotal: 2.56s\tremaining: 971ms\n",
      "725:\tlearn: 0.0817884\ttotal: 2.56s\tremaining: 968ms\n",
      "726:\tlearn: 0.0817657\ttotal: 2.57s\tremaining: 966ms\n",
      "727:\tlearn: 0.0816065\ttotal: 2.57s\tremaining: 961ms\n",
      "728:\tlearn: 0.0814754\ttotal: 2.57s\tremaining: 957ms\n",
      "729:\tlearn: 0.0813323\ttotal: 2.58s\tremaining: 953ms\n",
      "730:\tlearn: 0.0812142\ttotal: 2.58s\tremaining: 949ms\n",
      "731:\tlearn: 0.0810923\ttotal: 2.58s\tremaining: 945ms\n",
      "732:\tlearn: 0.0809164\ttotal: 2.58s\tremaining: 941ms\n",
      "733:\tlearn: 0.0807375\ttotal: 2.58s\tremaining: 937ms\n",
      "734:\tlearn: 0.0805645\ttotal: 2.59s\tremaining: 933ms\n",
      "735:\tlearn: 0.0803809\ttotal: 2.59s\tremaining: 929ms\n",
      "736:\tlearn: 0.0802955\ttotal: 2.59s\tremaining: 924ms\n"
     ]
    },
    {
     "name": "stdout",
     "output_type": "stream",
     "text": [
      "737:\tlearn: 0.0801500\ttotal: 2.6s\tremaining: 921ms\n",
      "738:\tlearn: 0.0800388\ttotal: 2.6s\tremaining: 917ms\n",
      "739:\tlearn: 0.0798951\ttotal: 2.6s\tremaining: 914ms\n",
      "740:\tlearn: 0.0797294\ttotal: 2.6s\tremaining: 910ms\n",
      "741:\tlearn: 0.0795964\ttotal: 2.6s\tremaining: 906ms\n",
      "742:\tlearn: 0.0794319\ttotal: 2.61s\tremaining: 902ms\n",
      "743:\tlearn: 0.0793398\ttotal: 2.61s\tremaining: 898ms\n",
      "744:\tlearn: 0.0793069\ttotal: 2.61s\tremaining: 895ms\n",
      "745:\tlearn: 0.0791145\ttotal: 2.62s\tremaining: 891ms\n",
      "746:\tlearn: 0.0790826\ttotal: 2.62s\tremaining: 887ms\n",
      "747:\tlearn: 0.0789468\ttotal: 2.62s\tremaining: 883ms\n",
      "748:\tlearn: 0.0788312\ttotal: 2.62s\tremaining: 879ms\n",
      "749:\tlearn: 0.0786391\ttotal: 2.63s\tremaining: 875ms\n",
      "750:\tlearn: 0.0785728\ttotal: 2.63s\tremaining: 871ms\n",
      "751:\tlearn: 0.0784450\ttotal: 2.63s\tremaining: 868ms\n",
      "752:\tlearn: 0.0783852\ttotal: 2.63s\tremaining: 864ms\n",
      "753:\tlearn: 0.0782794\ttotal: 2.64s\tremaining: 860ms\n",
      "754:\tlearn: 0.0781728\ttotal: 2.64s\tremaining: 856ms\n",
      "755:\tlearn: 0.0780269\ttotal: 2.64s\tremaining: 853ms\n",
      "756:\tlearn: 0.0779505\ttotal: 2.65s\tremaining: 849ms\n",
      "757:\tlearn: 0.0777921\ttotal: 2.65s\tremaining: 846ms\n",
      "758:\tlearn: 0.0776628\ttotal: 2.65s\tremaining: 842ms\n",
      "759:\tlearn: 0.0775108\ttotal: 2.65s\tremaining: 838ms\n",
      "760:\tlearn: 0.0773053\ttotal: 2.66s\tremaining: 834ms\n",
      "761:\tlearn: 0.0772541\ttotal: 2.66s\tremaining: 831ms\n",
      "762:\tlearn: 0.0771079\ttotal: 2.66s\tremaining: 827ms\n",
      "763:\tlearn: 0.0769683\ttotal: 2.66s\tremaining: 823ms\n",
      "764:\tlearn: 0.0769057\ttotal: 2.67s\tremaining: 819ms\n",
      "765:\tlearn: 0.0767885\ttotal: 2.67s\tremaining: 815ms\n",
      "766:\tlearn: 0.0766326\ttotal: 2.67s\tremaining: 812ms\n",
      "767:\tlearn: 0.0764550\ttotal: 2.67s\tremaining: 808ms\n",
      "768:\tlearn: 0.0763294\ttotal: 2.68s\tremaining: 804ms\n",
      "769:\tlearn: 0.0762151\ttotal: 2.68s\tremaining: 801ms\n",
      "770:\tlearn: 0.0760737\ttotal: 2.68s\tremaining: 797ms\n",
      "771:\tlearn: 0.0759149\ttotal: 2.69s\tremaining: 794ms\n",
      "772:\tlearn: 0.0757906\ttotal: 2.69s\tremaining: 791ms\n",
      "773:\tlearn: 0.0756822\ttotal: 2.69s\tremaining: 787ms\n",
      "774:\tlearn: 0.0755775\ttotal: 2.7s\tremaining: 784ms\n",
      "775:\tlearn: 0.0754616\ttotal: 2.7s\tremaining: 780ms\n",
      "776:\tlearn: 0.0753787\ttotal: 2.7s\tremaining: 776ms\n",
      "777:\tlearn: 0.0751773\ttotal: 2.71s\tremaining: 772ms\n",
      "778:\tlearn: 0.0750675\ttotal: 2.71s\tremaining: 768ms\n",
      "779:\tlearn: 0.0749214\ttotal: 2.71s\tremaining: 765ms\n",
      "780:\tlearn: 0.0747589\ttotal: 2.71s\tremaining: 761ms\n",
      "781:\tlearn: 0.0746166\ttotal: 2.72s\tremaining: 757ms\n",
      "782:\tlearn: 0.0745764\ttotal: 2.72s\tremaining: 753ms\n",
      "783:\tlearn: 0.0744433\ttotal: 2.72s\tremaining: 750ms\n",
      "784:\tlearn: 0.0742805\ttotal: 2.72s\tremaining: 746ms\n",
      "785:\tlearn: 0.0741568\ttotal: 2.73s\tremaining: 742ms\n",
      "786:\tlearn: 0.0740114\ttotal: 2.73s\tremaining: 739ms\n",
      "787:\tlearn: 0.0738694\ttotal: 2.73s\tremaining: 735ms\n",
      "788:\tlearn: 0.0738253\ttotal: 2.73s\tremaining: 731ms\n",
      "789:\tlearn: 0.0737117\ttotal: 2.74s\tremaining: 727ms\n",
      "790:\tlearn: 0.0736153\ttotal: 2.74s\tremaining: 723ms\n",
      "791:\tlearn: 0.0735248\ttotal: 2.74s\tremaining: 720ms\n",
      "792:\tlearn: 0.0734257\ttotal: 2.74s\tremaining: 716ms\n",
      "793:\tlearn: 0.0733095\ttotal: 2.75s\tremaining: 712ms\n",
      "794:\tlearn: 0.0731265\ttotal: 2.75s\tremaining: 708ms\n",
      "795:\tlearn: 0.0730043\ttotal: 2.75s\tremaining: 705ms\n",
      "796:\tlearn: 0.0729039\ttotal: 2.75s\tremaining: 701ms\n",
      "797:\tlearn: 0.0727825\ttotal: 2.75s\tremaining: 697ms\n",
      "798:\tlearn: 0.0727002\ttotal: 2.76s\tremaining: 693ms\n",
      "799:\tlearn: 0.0726563\ttotal: 2.76s\tremaining: 690ms\n",
      "800:\tlearn: 0.0726341\ttotal: 2.76s\tremaining: 686ms\n",
      "801:\tlearn: 0.0725199\ttotal: 2.76s\tremaining: 682ms\n",
      "802:\tlearn: 0.0724724\ttotal: 2.77s\tremaining: 679ms\n"
     ]
    },
    {
     "name": "stdout",
     "output_type": "stream",
     "text": [
      "803:\tlearn: 0.0723226\ttotal: 2.77s\tremaining: 675ms\n",
      "804:\tlearn: 0.0722707\ttotal: 2.77s\tremaining: 672ms\n",
      "805:\tlearn: 0.0721343\ttotal: 2.78s\tremaining: 669ms\n",
      "806:\tlearn: 0.0720940\ttotal: 2.78s\tremaining: 665ms\n",
      "807:\tlearn: 0.0719411\ttotal: 2.78s\tremaining: 662ms\n",
      "808:\tlearn: 0.0719085\ttotal: 2.79s\tremaining: 658ms\n",
      "809:\tlearn: 0.0717442\ttotal: 2.79s\tremaining: 654ms\n",
      "810:\tlearn: 0.0716377\ttotal: 2.79s\tremaining: 651ms\n",
      "811:\tlearn: 0.0715169\ttotal: 2.79s\tremaining: 647ms\n",
      "812:\tlearn: 0.0713943\ttotal: 2.8s\tremaining: 643ms\n",
      "813:\tlearn: 0.0712141\ttotal: 2.8s\tremaining: 640ms\n",
      "814:\tlearn: 0.0711086\ttotal: 2.8s\tremaining: 636ms\n",
      "815:\tlearn: 0.0710462\ttotal: 2.8s\tremaining: 632ms\n",
      "816:\tlearn: 0.0709312\ttotal: 2.81s\tremaining: 629ms\n",
      "817:\tlearn: 0.0708767\ttotal: 2.81s\tremaining: 625ms\n",
      "818:\tlearn: 0.0707870\ttotal: 2.81s\tremaining: 622ms\n",
      "819:\tlearn: 0.0706773\ttotal: 2.81s\tremaining: 618ms\n",
      "820:\tlearn: 0.0705829\ttotal: 2.82s\tremaining: 614ms\n",
      "821:\tlearn: 0.0704319\ttotal: 2.82s\tremaining: 611ms\n",
      "822:\tlearn: 0.0703119\ttotal: 2.82s\tremaining: 607ms\n",
      "823:\tlearn: 0.0702081\ttotal: 2.82s\tremaining: 603ms\n",
      "824:\tlearn: 0.0701380\ttotal: 2.83s\tremaining: 600ms\n",
      "825:\tlearn: 0.0699799\ttotal: 2.83s\tremaining: 596ms\n",
      "826:\tlearn: 0.0698729\ttotal: 2.83s\tremaining: 592ms\n",
      "827:\tlearn: 0.0697485\ttotal: 2.83s\tremaining: 588ms\n",
      "828:\tlearn: 0.0696830\ttotal: 2.83s\tremaining: 585ms\n",
      "829:\tlearn: 0.0695943\ttotal: 2.84s\tremaining: 581ms\n",
      "830:\tlearn: 0.0694726\ttotal: 2.84s\tremaining: 577ms\n",
      "831:\tlearn: 0.0694456\ttotal: 2.84s\tremaining: 574ms\n",
      "832:\tlearn: 0.0693365\ttotal: 2.84s\tremaining: 570ms\n",
      "833:\tlearn: 0.0692157\ttotal: 2.84s\tremaining: 566ms\n",
      "834:\tlearn: 0.0691218\ttotal: 2.85s\tremaining: 563ms\n",
      "835:\tlearn: 0.0689858\ttotal: 2.85s\tremaining: 559ms\n",
      "836:\tlearn: 0.0688394\ttotal: 2.85s\tremaining: 555ms\n",
      "837:\tlearn: 0.0686636\ttotal: 2.85s\tremaining: 551ms\n",
      "838:\tlearn: 0.0685210\ttotal: 2.85s\tremaining: 548ms\n",
      "839:\tlearn: 0.0684120\ttotal: 2.86s\tremaining: 544ms\n",
      "840:\tlearn: 0.0682988\ttotal: 2.86s\tremaining: 541ms\n",
      "841:\tlearn: 0.0682357\ttotal: 2.86s\tremaining: 537ms\n",
      "842:\tlearn: 0.0681293\ttotal: 2.86s\tremaining: 533ms\n",
      "843:\tlearn: 0.0680446\ttotal: 2.87s\tremaining: 530ms\n",
      "844:\tlearn: 0.0680142\ttotal: 2.87s\tremaining: 526ms\n",
      "845:\tlearn: 0.0679101\ttotal: 2.87s\tremaining: 523ms\n",
      "846:\tlearn: 0.0678747\ttotal: 2.87s\tremaining: 519ms\n",
      "847:\tlearn: 0.0677635\ttotal: 2.88s\tremaining: 515ms\n",
      "848:\tlearn: 0.0675298\ttotal: 2.88s\tremaining: 512ms\n",
      "849:\tlearn: 0.0674928\ttotal: 2.88s\tremaining: 508ms\n",
      "850:\tlearn: 0.0673260\ttotal: 2.88s\tremaining: 504ms\n",
      "851:\tlearn: 0.0671803\ttotal: 2.88s\tremaining: 501ms\n",
      "852:\tlearn: 0.0671107\ttotal: 2.88s\tremaining: 497ms\n",
      "853:\tlearn: 0.0670501\ttotal: 2.89s\tremaining: 493ms\n",
      "854:\tlearn: 0.0670170\ttotal: 2.89s\tremaining: 490ms\n",
      "855:\tlearn: 0.0669068\ttotal: 2.89s\tremaining: 486ms\n",
      "856:\tlearn: 0.0668880\ttotal: 2.89s\tremaining: 483ms\n",
      "857:\tlearn: 0.0668273\ttotal: 2.9s\tremaining: 479ms\n",
      "858:\tlearn: 0.0667008\ttotal: 2.9s\tremaining: 475ms\n",
      "859:\tlearn: 0.0666107\ttotal: 2.9s\tremaining: 472ms\n",
      "860:\tlearn: 0.0665923\ttotal: 2.9s\tremaining: 468ms\n",
      "861:\tlearn: 0.0665258\ttotal: 2.9s\tremaining: 465ms\n",
      "862:\tlearn: 0.0664123\ttotal: 2.9s\tremaining: 461ms\n",
      "863:\tlearn: 0.0662722\ttotal: 2.91s\tremaining: 458ms\n",
      "864:\tlearn: 0.0661265\ttotal: 2.91s\tremaining: 454ms\n",
      "865:\tlearn: 0.0660269\ttotal: 2.91s\tremaining: 451ms\n",
      "866:\tlearn: 0.0659727\ttotal: 2.91s\tremaining: 447ms\n",
      "867:\tlearn: 0.0658959\ttotal: 2.92s\tremaining: 444ms\n",
      "868:\tlearn: 0.0658607\ttotal: 2.92s\tremaining: 440ms\n",
      "869:\tlearn: 0.0657185\ttotal: 2.92s\tremaining: 436ms\n",
      "870:\tlearn: 0.0656974\ttotal: 2.92s\tremaining: 433ms\n",
      "871:\tlearn: 0.0656722\ttotal: 2.92s\tremaining: 429ms\n",
      "872:\tlearn: 0.0655304\ttotal: 2.93s\tremaining: 426ms\n",
      "873:\tlearn: 0.0654158\ttotal: 2.93s\tremaining: 422ms\n",
      "874:\tlearn: 0.0653397\ttotal: 2.93s\tremaining: 419ms\n",
      "875:\tlearn: 0.0652219\ttotal: 2.93s\tremaining: 415ms\n",
      "876:\tlearn: 0.0651207\ttotal: 2.94s\tremaining: 412ms\n",
      "877:\tlearn: 0.0650762\ttotal: 2.94s\tremaining: 408ms\n",
      "878:\tlearn: 0.0649659\ttotal: 2.94s\tremaining: 405ms\n",
      "879:\tlearn: 0.0649163\ttotal: 2.95s\tremaining: 402ms\n"
     ]
    },
    {
     "name": "stdout",
     "output_type": "stream",
     "text": [
      "880:\tlearn: 0.0648528\ttotal: 2.95s\tremaining: 399ms\n",
      "881:\tlearn: 0.0647789\ttotal: 2.96s\tremaining: 396ms\n",
      "882:\tlearn: 0.0646883\ttotal: 2.96s\tremaining: 393ms\n",
      "883:\tlearn: 0.0645820\ttotal: 2.97s\tremaining: 389ms\n",
      "884:\tlearn: 0.0645136\ttotal: 2.97s\tremaining: 386ms\n",
      "885:\tlearn: 0.0644327\ttotal: 2.97s\tremaining: 383ms\n",
      "886:\tlearn: 0.0643323\ttotal: 2.98s\tremaining: 379ms\n",
      "887:\tlearn: 0.0643078\ttotal: 2.98s\tremaining: 376ms\n",
      "888:\tlearn: 0.0642264\ttotal: 2.98s\tremaining: 372ms\n",
      "889:\tlearn: 0.0641371\ttotal: 2.98s\tremaining: 369ms\n",
      "890:\tlearn: 0.0640185\ttotal: 2.99s\tremaining: 366ms\n",
      "891:\tlearn: 0.0639336\ttotal: 2.99s\tremaining: 362ms\n",
      "892:\tlearn: 0.0638905\ttotal: 3s\tremaining: 359ms\n",
      "893:\tlearn: 0.0638219\ttotal: 3s\tremaining: 356ms\n",
      "894:\tlearn: 0.0636943\ttotal: 3s\tremaining: 352ms\n",
      "895:\tlearn: 0.0635964\ttotal: 3s\tremaining: 349ms\n",
      "896:\tlearn: 0.0634735\ttotal: 3.01s\tremaining: 346ms\n",
      "897:\tlearn: 0.0633695\ttotal: 3.01s\tremaining: 342ms\n",
      "898:\tlearn: 0.0632224\ttotal: 3.01s\tremaining: 339ms\n",
      "899:\tlearn: 0.0631659\ttotal: 3.02s\tremaining: 335ms\n",
      "900:\tlearn: 0.0630447\ttotal: 3.02s\tremaining: 332ms\n",
      "901:\tlearn: 0.0629045\ttotal: 3.03s\tremaining: 329ms\n",
      "902:\tlearn: 0.0628400\ttotal: 3.04s\tremaining: 326ms\n",
      "903:\tlearn: 0.0627386\ttotal: 3.04s\tremaining: 323ms\n",
      "904:\tlearn: 0.0626443\ttotal: 3.04s\tremaining: 319ms\n",
      "905:\tlearn: 0.0626186\ttotal: 3.04s\tremaining: 316ms\n",
      "906:\tlearn: 0.0624996\ttotal: 3.04s\tremaining: 312ms\n",
      "907:\tlearn: 0.0624186\ttotal: 3.05s\tremaining: 309ms\n",
      "908:\tlearn: 0.0623491\ttotal: 3.05s\tremaining: 305ms\n",
      "909:\tlearn: 0.0622297\ttotal: 3.05s\tremaining: 302ms\n",
      "910:\tlearn: 0.0621410\ttotal: 3.06s\tremaining: 299ms\n",
      "911:\tlearn: 0.0621080\ttotal: 3.06s\tremaining: 295ms\n",
      "912:\tlearn: 0.0620557\ttotal: 3.07s\tremaining: 292ms\n",
      "913:\tlearn: 0.0619850\ttotal: 3.07s\tremaining: 289ms\n",
      "914:\tlearn: 0.0618755\ttotal: 3.08s\tremaining: 286ms\n",
      "915:\tlearn: 0.0617372\ttotal: 3.08s\tremaining: 283ms\n",
      "916:\tlearn: 0.0616034\ttotal: 3.08s\tremaining: 279ms\n",
      "917:\tlearn: 0.0615092\ttotal: 3.09s\tremaining: 276ms\n",
      "918:\tlearn: 0.0613975\ttotal: 3.09s\tremaining: 272ms\n",
      "919:\tlearn: 0.0613383\ttotal: 3.09s\tremaining: 269ms\n",
      "920:\tlearn: 0.0612924\ttotal: 3.09s\tremaining: 265ms\n",
      "921:\tlearn: 0.0611848\ttotal: 3.1s\tremaining: 262ms\n",
      "922:\tlearn: 0.0611364\ttotal: 3.1s\tremaining: 259ms\n",
      "923:\tlearn: 0.0611295\ttotal: 3.1s\tremaining: 255ms\n",
      "924:\tlearn: 0.0610985\ttotal: 3.1s\tremaining: 252ms\n",
      "925:\tlearn: 0.0610185\ttotal: 3.11s\tremaining: 248ms\n",
      "926:\tlearn: 0.0609500\ttotal: 3.11s\tremaining: 245ms\n",
      "927:\tlearn: 0.0608632\ttotal: 3.11s\tremaining: 242ms\n"
     ]
    },
    {
     "name": "stdout",
     "output_type": "stream",
     "text": [
      "928:\tlearn: 0.0607662\ttotal: 3.12s\tremaining: 238ms\n",
      "929:\tlearn: 0.0607490\ttotal: 3.12s\tremaining: 235ms\n",
      "930:\tlearn: 0.0606441\ttotal: 3.13s\tremaining: 232ms\n",
      "931:\tlearn: 0.0605418\ttotal: 3.13s\tremaining: 228ms\n",
      "932:\tlearn: 0.0604934\ttotal: 3.13s\tremaining: 225ms\n",
      "933:\tlearn: 0.0604205\ttotal: 3.13s\tremaining: 222ms\n",
      "934:\tlearn: 0.0603688\ttotal: 3.14s\tremaining: 218ms\n",
      "935:\tlearn: 0.0603257\ttotal: 3.14s\tremaining: 215ms\n",
      "936:\tlearn: 0.0603202\ttotal: 3.14s\tremaining: 211ms\n",
      "937:\tlearn: 0.0602513\ttotal: 3.14s\tremaining: 208ms\n",
      "938:\tlearn: 0.0600949\ttotal: 3.15s\tremaining: 204ms\n",
      "939:\tlearn: 0.0599842\ttotal: 3.15s\tremaining: 201ms\n",
      "940:\tlearn: 0.0598671\ttotal: 3.15s\tremaining: 198ms\n",
      "941:\tlearn: 0.0597739\ttotal: 3.15s\tremaining: 194ms\n",
      "942:\tlearn: 0.0597602\ttotal: 3.15s\tremaining: 191ms\n",
      "943:\tlearn: 0.0596628\ttotal: 3.16s\tremaining: 187ms\n",
      "944:\tlearn: 0.0596522\ttotal: 3.16s\tremaining: 184ms\n",
      "945:\tlearn: 0.0595373\ttotal: 3.16s\tremaining: 181ms\n",
      "946:\tlearn: 0.0594761\ttotal: 3.17s\tremaining: 177ms\n",
      "947:\tlearn: 0.0593993\ttotal: 3.17s\tremaining: 174ms\n",
      "948:\tlearn: 0.0592866\ttotal: 3.17s\tremaining: 170ms\n",
      "949:\tlearn: 0.0591851\ttotal: 3.17s\tremaining: 167ms\n",
      "950:\tlearn: 0.0590948\ttotal: 3.17s\tremaining: 164ms\n",
      "951:\tlearn: 0.0590263\ttotal: 3.18s\tremaining: 160ms\n",
      "952:\tlearn: 0.0589883\ttotal: 3.18s\tremaining: 157ms\n",
      "953:\tlearn: 0.0588977\ttotal: 3.18s\tremaining: 153ms\n",
      "954:\tlearn: 0.0588846\ttotal: 3.18s\tremaining: 150ms\n",
      "955:\tlearn: 0.0587919\ttotal: 3.18s\tremaining: 147ms\n",
      "956:\tlearn: 0.0586897\ttotal: 3.19s\tremaining: 143ms\n",
      "957:\tlearn: 0.0585612\ttotal: 3.19s\tremaining: 140ms\n",
      "958:\tlearn: 0.0584778\ttotal: 3.19s\tremaining: 136ms\n",
      "959:\tlearn: 0.0584695\ttotal: 3.19s\tremaining: 133ms\n",
      "960:\tlearn: 0.0583152\ttotal: 3.19s\tremaining: 130ms\n",
      "961:\tlearn: 0.0582281\ttotal: 3.2s\tremaining: 126ms\n",
      "962:\tlearn: 0.0581208\ttotal: 3.2s\tremaining: 123ms\n",
      "963:\tlearn: 0.0580558\ttotal: 3.2s\tremaining: 120ms\n",
      "964:\tlearn: 0.0579612\ttotal: 3.21s\tremaining: 116ms\n",
      "965:\tlearn: 0.0578731\ttotal: 3.21s\tremaining: 113ms\n",
      "966:\tlearn: 0.0578515\ttotal: 3.21s\tremaining: 110ms\n",
      "967:\tlearn: 0.0576976\ttotal: 3.21s\tremaining: 106ms\n",
      "968:\tlearn: 0.0576467\ttotal: 3.21s\tremaining: 103ms\n",
      "969:\tlearn: 0.0575621\ttotal: 3.22s\tremaining: 99.5ms\n",
      "970:\tlearn: 0.0574463\ttotal: 3.22s\tremaining: 96.2ms\n",
      "971:\tlearn: 0.0573076\ttotal: 3.23s\tremaining: 92.9ms\n",
      "972:\tlearn: 0.0572598\ttotal: 3.23s\tremaining: 89.6ms\n",
      "973:\tlearn: 0.0571754\ttotal: 3.23s\tremaining: 86.3ms\n",
      "974:\tlearn: 0.0570508\ttotal: 3.24s\tremaining: 83ms\n",
      "975:\tlearn: 0.0569697\ttotal: 3.24s\tremaining: 79.7ms\n",
      "976:\tlearn: 0.0569102\ttotal: 3.24s\tremaining: 76.4ms\n",
      "977:\tlearn: 0.0568855\ttotal: 3.25s\tremaining: 73.1ms\n",
      "978:\tlearn: 0.0567953\ttotal: 3.25s\tremaining: 69.8ms\n",
      "979:\tlearn: 0.0567529\ttotal: 3.25s\tremaining: 66.4ms\n",
      "980:\tlearn: 0.0566643\ttotal: 3.26s\tremaining: 63.1ms\n",
      "981:\tlearn: 0.0565536\ttotal: 3.26s\tremaining: 59.7ms\n",
      "982:\tlearn: 0.0565228\ttotal: 3.26s\tremaining: 56.4ms\n",
      "983:\tlearn: 0.0564420\ttotal: 3.26s\tremaining: 53.1ms\n",
      "984:\tlearn: 0.0563802\ttotal: 3.27s\tremaining: 49.7ms\n",
      "985:\tlearn: 0.0562842\ttotal: 3.27s\tremaining: 46.4ms\n",
      "986:\tlearn: 0.0562262\ttotal: 3.27s\tremaining: 43.1ms\n",
      "987:\tlearn: 0.0561216\ttotal: 3.27s\tremaining: 39.8ms\n",
      "988:\tlearn: 0.0560391\ttotal: 3.28s\tremaining: 36.4ms\n",
      "989:\tlearn: 0.0559720\ttotal: 3.28s\tremaining: 33.1ms\n",
      "990:\tlearn: 0.0558729\ttotal: 3.28s\tremaining: 29.8ms\n",
      "991:\tlearn: 0.0557391\ttotal: 3.29s\tremaining: 26.5ms\n",
      "992:\tlearn: 0.0556869\ttotal: 3.29s\tremaining: 23.2ms\n",
      "993:\tlearn: 0.0556678\ttotal: 3.29s\tremaining: 19.9ms\n",
      "994:\tlearn: 0.0555882\ttotal: 3.3s\tremaining: 16.6ms\n"
     ]
    },
    {
     "name": "stdout",
     "output_type": "stream",
     "text": [
      "995:\tlearn: 0.0555596\ttotal: 3.3s\tremaining: 13.2ms\n",
      "996:\tlearn: 0.0554879\ttotal: 3.3s\tremaining: 9.93ms\n",
      "997:\tlearn: 0.0554825\ttotal: 3.3s\tremaining: 6.62ms\n",
      "998:\tlearn: 0.0554395\ttotal: 3.31s\tremaining: 3.31ms\n",
      "999:\tlearn: 0.0553293\ttotal: 3.31s\tremaining: 0us\n"
     ]
    },
    {
     "data": {
      "text/plain": [
       "<catboost.core.CatBoostRegressor at 0x7f82decd8760>"
      ]
     },
     "execution_count": 9,
     "metadata": {},
     "output_type": "execute_result"
    }
   ],
   "source": [
    "#Train the Model \n",
    "prior_model = ctb.CatBoostRegressor()\n",
    "prior_model.fit(X_train,Y_train)"
   ]
  },
  {
   "cell_type": "code",
   "execution_count": 10,
   "id": "af65dcda",
   "metadata": {
    "execution": {
     "iopub.execute_input": "2022-07-22T22:00:45.860892Z",
     "iopub.status.busy": "2022-07-22T22:00:45.860204Z",
     "iopub.status.idle": "2022-07-22T22:00:45.904618Z",
     "shell.execute_reply": "2022-07-22T22:00:45.903089Z"
    },
    "id": "af65dcda",
    "papermill": {
     "duration": 0.069327,
     "end_time": "2022-07-22T22:00:45.910950",
     "exception": false,
     "start_time": "2022-07-22T22:00:45.841623",
     "status": "completed"
    },
    "tags": []
   },
   "outputs": [
    {
     "data": {
      "application/scrapbook.scrap.json+json": {
       "data": 0.1003839162356989,
       "encoder": "json",
       "name": "Prior Model MSE",
       "version": 1
      }
     },
     "metadata": {
      "scrapbook": {
       "data": true,
       "display": false,
       "name": "Prior Model MSE"
      }
     },
     "output_type": "display_data"
    },
    {
     "data": {
      "application/scrapbook.scrap.json+json": {
       "data": 0.09975059588634372,
       "encoder": "json",
       "name": "ABC Pre-generator MSE",
       "version": 1
      }
     },
     "metadata": {
      "scrapbook": {
       "data": true,
       "display": false,
       "name": "ABC Pre-generator MSE"
      }
     },
     "output_type": "display_data"
    },
    {
     "data": {
      "application/scrapbook.scrap.json+json": {
       "data": 0.19932769499723815,
       "encoder": "json",
       "name": "Prior Model MAE",
       "version": 1
      }
     },
     "metadata": {
      "scrapbook": {
       "data": true,
       "display": false,
       "name": "Prior Model MAE"
      }
     },
     "output_type": "display_data"
    },
    {
     "name": "stdout",
     "output_type": "stream",
     "text": [
      "Prior Model MAE 0.19932769499723815\n",
      "ABC Pre-generator MAE 0.19830954043345617\n"
     ]
    }
   ],
   "source": [
    "y_pred = prior_model.predict(X_test)\n",
    "y_abc = y_pred + np.random.normal(0,variance, y_pred.shape) + bias \n",
    "mse = mean_squared_error(y_pred,Y_test)\n",
    "sb.glue(\"Prior Model MSE\",mse)\n",
    "mse = mean_squared_error(y_abc,Y_test)\n",
    "sb.glue(\"ABC Pre-generator MSE\",mse)\n",
    "mae = mean_absolute_error(y_pred,Y_test)\n",
    "sb.glue(\"Prior Model MAE\",mae)\n",
    "print(\"Prior Model MAE\",mae)\n",
    "mae = mean_absolute_error(y_abc,Y_test)\n",
    "print(\"ABC Pre-generator MAE\",mae)"
   ]
  },
  {
   "cell_type": "markdown",
   "id": "25609da2",
   "metadata": {
    "papermill": {
     "duration": 0.011061,
     "end_time": "2022-07-22T22:00:45.933361",
     "exception": false,
     "start_time": "2022-07-22T22:00:45.922300",
     "status": "completed"
    },
    "tags": []
   },
   "source": [
    "# mGAN Model"
   ]
  },
  {
   "cell_type": "code",
   "execution_count": 11,
   "id": "dfc3464d",
   "metadata": {
    "execution": {
     "iopub.execute_input": "2022-07-22T22:00:45.960665Z",
     "iopub.status.busy": "2022-07-22T22:00:45.959861Z",
     "iopub.status.idle": "2022-07-22T22:00:45.978973Z",
     "shell.execute_reply": "2022-07-22T22:00:45.978148Z"
    },
    "papermill": {
     "duration": 0.039546,
     "end_time": "2022-07-22T22:00:45.983800",
     "exception": false,
     "start_time": "2022-07-22T22:00:45.944254",
     "status": "completed"
    },
    "tags": []
   },
   "outputs": [],
   "source": [
    "# gen = network.Generator(n_features+1).to(device)\n",
    "# disc = network.Discriminator(n_features+1).to(device)\n",
    "\n",
    "# criterion = torch.nn.BCELoss()\n",
    "# gen_opt = torch.optim.Adam(gen.parameters(), lr=0.01, betas=(0.5, 0.999))\n",
    "# disc_opt = torch.optim.Adam(disc.parameters(), lr=0.01, betas=(0.5, 0.999))"
   ]
  },
  {
   "cell_type": "code",
   "execution_count": 12,
   "id": "b75fdd85",
   "metadata": {
    "execution": {
     "iopub.execute_input": "2022-07-22T22:00:46.010398Z",
     "iopub.status.busy": "2022-07-22T22:00:46.009874Z",
     "iopub.status.idle": "2022-07-22T22:00:46.019838Z",
     "shell.execute_reply": "2022-07-22T22:00:46.018245Z"
    },
    "papermill": {
     "duration": 0.031194,
     "end_time": "2022-07-22T22:00:46.027009",
     "exception": false,
     "start_time": "2022-07-22T22:00:45.995815",
     "status": "completed"
    },
    "tags": []
   },
   "outputs": [],
   "source": [
    "#Training the ABC_GAN \n",
    "# ABC_train_test2.training_GAN(disc,gen,disc_opt,gen_opt,train_data,batch_size,n_epochs,criterion,prior_model,variance,bias,device)"
   ]
  },
  {
   "cell_type": "code",
   "execution_count": 13,
   "id": "1fa7c368",
   "metadata": {
    "execution": {
     "iopub.execute_input": "2022-07-22T22:00:46.055950Z",
     "iopub.status.busy": "2022-07-22T22:00:46.054246Z",
     "iopub.status.idle": "2022-07-22T22:00:46.065831Z",
     "shell.execute_reply": "2022-07-22T22:00:46.060968Z"
    },
    "papermill": {
     "duration": 0.034168,
     "end_time": "2022-07-22T22:00:46.071972",
     "exception": false,
     "start_time": "2022-07-22T22:00:46.037804",
     "status": "completed"
    },
    "tags": []
   },
   "outputs": [],
   "source": [
    "# ABC_GAN1_metrics=ABC_train_test2.test_generator(gen,test_data,prior_model,variance,bias,\"1\",device)\n",
    "# sb.glue(\"ABC_GAN_1 Metrics\",ABC_GAN1_metrics)\n",
    "\n",
    "# print(\"MAE\")\n",
    "# print(mean(ABC_GAN1_metrics[1]))"
   ]
  },
  {
   "cell_type": "code",
   "execution_count": 14,
   "id": "eb22ce5c",
   "metadata": {
    "execution": {
     "iopub.execute_input": "2022-07-22T22:00:46.103243Z",
     "iopub.status.busy": "2022-07-22T22:00:46.102336Z",
     "iopub.status.idle": "2022-07-22T22:00:46.120594Z",
     "shell.execute_reply": "2022-07-22T22:00:46.118674Z"
    },
    "papermill": {
     "duration": 0.037942,
     "end_time": "2022-07-22T22:00:46.124175",
     "exception": false,
     "start_time": "2022-07-22T22:00:46.086233",
     "status": "completed"
    },
    "tags": []
   },
   "outputs": [],
   "source": [
    "# sanityChecks.discProbVsError(train_data,disc,device)\n",
    "# sanityChecks.discProbVsError(test_data,disc,device)"
   ]
  },
  {
   "cell_type": "markdown",
   "id": "fbbc10af",
   "metadata": {
    "papermill": {
     "duration": 0.018753,
     "end_time": "2022-07-22T22:00:46.154336",
     "exception": false,
     "start_time": "2022-07-22T22:00:46.135583",
     "status": "completed"
    },
    "tags": []
   },
   "source": [
    "# mGAN Model with TabNet Generator"
   ]
  },
  {
   "cell_type": "code",
   "execution_count": 15,
   "id": "1f3c7e2f",
   "metadata": {
    "execution": {
     "iopub.execute_input": "2022-07-22T22:00:46.182713Z",
     "iopub.status.busy": "2022-07-22T22:00:46.182354Z",
     "iopub.status.idle": "2022-07-22T22:00:46.202149Z",
     "shell.execute_reply": "2022-07-22T22:00:46.199656Z"
    },
    "papermill": {
     "duration": 0.043354,
     "end_time": "2022-07-22T22:00:46.211756",
     "exception": false,
     "start_time": "2022-07-22T22:00:46.168402",
     "status": "completed"
    },
    "tags": []
   },
   "outputs": [],
   "source": [
    "gen2 = network.GeneratorTabnet(n_features+1).to(device)\n",
    "disc2 = network.Discriminator(n_features+1).to(device)\n",
    "\n",
    "criterion = torch.nn.BCELoss()\n",
    "gen_opt = torch.optim.Adam(gen2.parameters(), lr=0.01, betas=(0.5, 0.999))\n",
    "disc_opt = torch.optim.Adam(disc2.parameters(), lr=0.01, betas=(0.5, 0.999))"
   ]
  },
  {
   "cell_type": "code",
   "execution_count": 16,
   "id": "f33dd149",
   "metadata": {
    "execution": {
     "iopub.execute_input": "2022-07-22T22:00:46.254686Z",
     "iopub.status.busy": "2022-07-22T22:00:46.253644Z",
     "iopub.status.idle": "2022-07-22T22:11:24.916475Z",
     "shell.execute_reply": "2022-07-22T22:11:24.915154Z"
    },
    "papermill": {
     "duration": 638.695436,
     "end_time": "2022-07-22T22:11:24.921599",
     "exception": false,
     "start_time": "2022-07-22T22:00:46.226163",
     "status": "completed"
    },
    "tags": []
   },
   "outputs": [
    {
     "data": {
      "image/png": "[encoded data removed]",
      "text/plain": [
       "<Figure size 432x288 with 1 Axes>"
      ]
     },
     "metadata": {
      "needs_background": "light"
     },
     "output_type": "display_data"
    },
    {
     "data": {
      "image/png": "[encoded data removed]",
      "text/plain": [
       "<Figure size 432x288 with 1 Axes>"
      ]
     },
     "metadata": {
      "needs_background": "light"
     },
     "output_type": "display_data"
    }
   ],
   "source": [
    "#Training the ABC_GAN \n",
    "ABC_train_test2.training_GAN(disc2,gen2,disc_opt,gen_opt,train_data,batch_size,n_epochs,criterion,prior_model,variance,bias,device)"
   ]
  },
  {
   "cell_type": "code",
   "execution_count": 17,
   "id": "0c6f5835",
   "metadata": {
    "execution": {
     "iopub.execute_input": "2022-07-22T22:11:24.977507Z",
     "iopub.status.busy": "2022-07-22T22:11:24.972628Z",
     "iopub.status.idle": "2022-07-22T22:11:26.795130Z",
     "shell.execute_reply": "2022-07-22T22:11:26.794099Z"
    },
    "papermill": {
     "duration": 1.863137,
     "end_time": "2022-07-22T22:11:26.797757",
     "exception": false,
     "start_time": "2022-07-22T22:11:24.934620",
     "status": "completed"
    },
    "tags": []
   },
   "outputs": [
    {
     "data": {
      "application/scrapbook.scrap.json+json": {
       "data": 0.11280766433789009,
       "encoder": "json",
       "name": "ABC-GAN Model 1 MSE",
       "version": 1
      }
     },
     "metadata": {
      "scrapbook": {
       "data": true,
       "display": false,
       "name": "ABC-GAN Model 1 MSE"
      }
     },
     "output_type": "display_data"
    },
    {
     "data": {
      "application/scrapbook.scrap.json+json": {
       "data": 0.2478303390553386,
       "encoder": "json",
       "name": "ABC-GAN Model 1 MAE",
       "version": 1
      }
     },
     "metadata": {
      "scrapbook": {
       "data": true,
       "display": false,
       "name": "ABC-GAN Model 1 MAE"
      }
     },
     "output_type": "display_data"
    },
    {
     "data": {
      "application/scrapbook.scrap.json+json": {
       "data": 25.278694583644537,
       "encoder": "json",
       "name": "ABC-GAN Model 1 Manhattan Distance",
       "version": 1
      }
     },
     "metadata": {
      "scrapbook": {
       "data": true,
       "display": false,
       "name": "ABC-GAN Model 1 Manhattan Distance"
      }
     },
     "output_type": "display_data"
    },
    {
     "data": {
      "application/scrapbook.scrap.json+json": {
       "data": 3.392074241321713,
       "encoder": "json",
       "name": "ABC-GAN Model 1 Euclidean distance",
       "version": 1
      }
     },
     "metadata": {
      "scrapbook": {
       "data": true,
       "display": false,
       "name": "ABC-GAN Model 1 Euclidean distance"
      }
     },
     "output_type": "display_data"
    },
    {
     "data": {
      "application/scrapbook.scrap.json+json": {
       "data": [
        [
         0.1130711592464745,
         0.11348693004398763,
         0.11308894903000094,
         0.1131642289725199,
         0.11211665446153195,
         0.11183679888460651,
         0.11222956807198321,
         0.11203877023716138,
         0.11206521651495431,
         0.11351539446028731,
         0.11152651361750979,
         0.1130367002922151,
         0.11153240216505576,
         0.11295270326523475,
         0.11292553674169685,
         0.11302017626171418,
         0.11109147519016109,
         0.11189897786687758,
         0.11336422272224464,
         0.11246060250396496,
         0.11353384180604756,
         0.11347301294290361,
         0.1138653051631454,
         0.11223076756144236,
         0.11080025142396073,
         0.11205558457231668,
         0.11332408459332843,
         0.11293745622573867,
         0.11422263494127763,
         0.11016593184122984,
         0.11284247206470147,
         0.11374745783620063,
         0.1115682963455314,
         0.1107204133427403,
         0.11284542606833584,
         0.11300446629445882,
         0.11273065663087471,
         0.11272946297006863,
         0.11395349944811209,
         0.11214012041105015,
         0.11226659434499425,
         0.11359834515723267,
         0.11160217183993222,
         0.11320152124837246,
         0.11228079617104843,
         0.11247814018183855,
         0.11277448991449172,
         0.11382332360366598,
         0.11240030829337819,
         0.11117005713265649,
         0.11205937168030636,
         0.11234927974700562,
         0.11327271576821968,
         0.11186780636504756,
         0.11442709531783464,
         0.11340325721630527,
         0.11264054905210565,
         0.11240487852153376,
         0.113054834720406,
         0.11492994873184373,
         0.1127122934951374,
         0.11225591236565388,
         0.11211497247694695,
         0.11206510520745251,
         0.11354365105104665,
         0.11094317506645317,
         0.11179590543945295,
         0.11460337780911115,
         0.11388048104066795,
         0.11426393364224666,
         0.11181651804521651,
         0.11363205741651178,
         0.11177160362809453,
         0.11207466879594935,
         0.11317714774444665,
         0.11395341308268118,
         0.1134992132163028,
         0.11317378628220383,
         0.1142407457022712,
         0.11288469725742033,
         0.1136634007753583,
         0.11198442850092578,
         0.11457109248555591,
         0.1128619703220495,
         0.11296638428734061,
         0.11406250197177346,
         0.11288726420494928,
         0.1143511705948862,
         0.11305036228464498,
         0.115319192693014,
         0.11237298500426497,
         0.11274312906108631,
         0.11230777429647341,
         0.11222592820919973,
         0.11300817352791132,
         0.1129238472833162,
         0.11265845458329496,
         0.11234358121765418,
         0.11493181875483525,
         0.11181070692334143
        ],
        [
         0.2477928214596913,
         0.24824557101865316,
         0.24733045829606115,
         0.24931864561878292,
         0.24636770048470913,
         0.24673010844408588,
         0.24714936760674214,
         0.2473030914735122,
         0.24676973769879518,
         0.24916149108835003,
         0.2465931411293865,
         0.24803559840930736,
         0.24526340309667455,
         0.24795193173100843,
         0.24915608018636703,
         0.24878688032428423,
         0.24662706366393203,
         0.24635419493321986,
         0.24848549165671655,
         0.2474478039908789,
         0.25004258997482703,
         0.2488651969652696,
         0.25045499820992645,
         0.2478749116645286,
         0.24524855185026193,
         0.24634638236945167,
         0.24861031935970282,
         0.2476902282614188,
         0.24894998602423013,
         0.24425170376129887,
         0.24763131690412468,
         0.24930397162725235,
         0.2455840024095047,
         0.2447771899762801,
         0.247397923120754,
         0.2484218209306253,
         0.24758504978472404,
         0.24732233206832818,
         0.24916484665728228,
         0.24726592532961683,
         0.247411729923139,
         0.24878401154944418,
         0.24739847176105662,
         0.24765872103892558,
         0.24805575909604335,
         0.24774544645904326,
         0.2471967812390158,
         0.2493276984394327,
         0.24714759403985798,
         0.24496174826487607,
         0.24715918067879245,
         0.24747279132077216,
         0.24783486164375848,
         0.24611195219753712,
         0.24965334195168873,
         0.2493906644282534,
         0.24658061362182102,
         0.2482131109824039,
         0.24839538608805514,
         0.2504489040458758,
         0.2468331917371674,
         0.2477748505704107,
         0.24623942951324815,
         0.24686210329516553,
         0.24842085809830358,
         0.24644106264025264,
         0.2456268767424512,
         0.2506608240689863,
         0.24927636865051647,
         0.24851892169281914,
         0.24595805356854245,
         0.24927677678893886,
         0.24622932280066842,
         0.24906338502963385,
         0.24871682695240951,
         0.2481544015691707,
         0.24710433815112887,
         0.2496349999656006,
         0.24903287774171023,
         0.24745600434093207,
         0.24746865792857373,
         0.24741803864747577,
         0.2505417722642568,
         0.24780621698272287,
         0.24819298648257174,
         0.2495988636350661,
         0.24681077816286215,
         0.24847983780737018,
         0.24854437488601452,
         0.2509577283727042,
         0.24779142737936447,
         0.24978912081204208,
         0.24768335953829626,
         0.2472189102303602,
         0.24831413387266152,
         0.24857977499235787,
         0.2465103049762547,
         0.24631024415915212,
         0.25066253919994425,
         0.24646476295539269
        ],
        [
         25.274867788888514,
         25.321048243902624,
         25.227706746198237,
         25.430501853115857,
         25.12950544944033,
         25.16647106129676,
         25.209235495887697,
         25.224915330298245,
         25.170513245277107,
         25.414472091011703,
         25.15250039519742,
         25.29963103774935,
         25.016867115860805,
         25.29109703656286,
         25.413920179009438,
         25.376261793076992,
         25.155960493721068,
         25.128127883188426,
         25.345520148985088,
         25.239676007069647,
         25.50434417743236,
         25.3842500904575,
         25.546409817412496,
         25.283240989781916,
         25.015352288726717,
         25.12733100168407,
         25.358252574689686,
         25.264403282664716,
         25.392898574471474,
         24.913673783652484,
         25.258394324220717,
         25.42900510597974,
         25.04956824576948,
         24.967273377580568,
         25.23458815831691,
         25.33902573492378,
         25.25367507804185,
         25.226877870969474,
         25.414814359042794,
         25.221124383620918,
         25.23599645216018,
         25.375969178043306,
         25.234644119627774,
         25.26118954597041,
         25.301687427796423,
         25.270035538822412,
         25.21407168637961,
         25.431425240822136,
         25.209054592065513,
         24.98609832301736,
         25.21023642923683,
         25.24222471471876,
         25.279155887663364,
         25.103419124148786,
         25.46464087907225,
         25.437847771681845,
         25.151222589425743,
         25.317737320205197,
         25.336329380981624,
         25.545788212679327,
         25.176985557191074,
         25.273034758181893,
         25.116421810351312,
         25.179934536106884,
         25.338927526026964,
         25.13698838930577,
         25.053941427730024,
         25.567404055036604,
         25.42618960235268,
         25.34893001266755,
         25.08772146399133,
         25.426231232471764,
         25.11539092566818,
         25.40446527302265,
         25.36911634914577,
         25.31174896005541,
         25.204642491415143,
         25.46276999649126,
         25.401353529654443,
         25.24051244277507,
         25.24180310871452,
         25.23663994204253,
         25.55526077095419,
         25.276234132237732,
         25.315684621222317,
         25.45908409077674,
         25.17469937261194,
         25.344943456351757,
         25.35152623837348,
         25.597688294015825,
         25.274725592695177,
         25.478490322828293,
         25.26370267290622,
         25.21632884349674,
         25.328041655011475,
         25.355137049220502,
         25.14405110757798,
         25.123644904233515,
         25.56757899839431,
         25.139405821450055
        ],
        [
         3.3960651117345195,
         3.40230317057236,
         3.3963322571650862,
         3.3974624876806256,
         3.3817005714693695,
         3.377477385006429,
         3.3834030122558985,
         3.380525782210581,
         3.380924738074679,
         3.4027298210332986,
         3.3727888147623464,
         3.395547589094569,
         3.372877854419826,
         3.394285747112924,
         3.393877538694211,
         3.395299394559314,
         3.3662041633561723,
         3.378416158856323,
         3.400463309266688,
         3.3868837380997334,
         3.4030062979984113,
         3.402094548976581,
         3.4079702355861072,
         3.383421092809336,
         3.361789054245372,
         3.3807794406580705,
         3.3998612660694705,
         3.394056648764917,
         3.4133134582118765,
         3.352152300806967,
         3.3926290912210764,
         3.406206203284303,
         3.373420552976489,
         3.360577652868552,
         3.3926734972540835,
         3.395063410605875,
         3.390947799118886,
         3.390929846361761,
         3.409289800487403,
         3.382054446919373,
         3.383961084762857,
         3.4039728562427944,
         3.373932650138867,
         3.3980222435019445,
         3.3841751150682104,
         3.3871478117359346,
         3.391606989507799,
         3.407341927012012,
         3.385975700728606,
         3.367394516169877,
         3.380836569754776,
         3.385207014968888,
         3.3990906149084057,
         3.3779455663516624,
         3.416367035670953,
         3.4010486965145232,
         3.389592306357031,
         3.386044537391149,
         3.3958199512755987,
         3.423865472042974,
         3.390671605523604,
         3.3838000918045816,
         3.3816752050793686,
         3.38092305904174,
         3.4031533035123114,
         3.363956577718895,
         3.3768598364196576,
         3.418997592355007,
         3.4081973338039164,
         3.4139304667068355,
         3.3771711298973415,
         3.404477912468254,
         3.3764927913540173,
         3.3810673192332077,
         3.397656408457682,
         3.409288508535685,
         3.4024872884498603,
         3.3976059513699917,
         3.413584049299454,
         3.393263785834645,
         3.4049474120882612,
         3.3797058610320554,
         3.4185159694707736,
         3.392922187856517,
         3.3944913016987894,
         3.4109199933626253,
         3.393302366265763,
         3.41523343282394,
         3.395752781495405,
         3.429658533248962,
         3.3855641288321547,
         3.391135379814673,
         3.3845816548342107,
         3.3833481460438524,
         3.3951190995084333,
         3.393852151007503,
         3.3898617032994256,
         3.3851211624106936,
         3.4238933267543823,
         3.3770833727020753
        ]
       ],
       "encoder": "json",
       "name": "ABC_GAN_2 Metrics",
       "version": 1
      }
     },
     "metadata": {
      "scrapbook": {
       "data": true,
       "display": false,
       "name": "ABC_GAN_2 Metrics"
      }
     },
     "output_type": "display_data"
    },
    {
     "name": "stdout",
     "output_type": "stream",
     "text": [
      "MAE\n",
      "0.2478303390553386\n"
     ]
    }
   ],
   "source": [
    "ABC_GAN2_metrics=ABC_train_test2.test_generator(gen2,test_data,prior_model,variance,bias,\"1\",device)\n",
    "sb.glue(\"ABC_GAN_2 Metrics\",ABC_GAN2_metrics)\n",
    "\n",
    "print(\"MAE\")\n",
    "print(mean(ABC_GAN2_metrics[1]))"
   ]
  },
  {
   "cell_type": "code",
   "execution_count": 18,
   "id": "9308e603",
   "metadata": {
    "execution": {
     "iopub.execute_input": "2022-07-22T22:11:26.840525Z",
     "iopub.status.busy": "2022-07-22T22:11:26.839984Z",
     "iopub.status.idle": "2022-07-22T22:11:27.766581Z",
     "shell.execute_reply": "2022-07-22T22:11:27.765641Z"
    },
    "papermill": {
     "duration": 0.956401,
     "end_time": "2022-07-22T22:11:27.769466",
     "exception": false,
     "start_time": "2022-07-22T22:11:26.813065",
     "status": "completed"
    },
    "tags": []
   },
   "outputs": [
    {
     "data": {
      "image/png": "[encoded data removed]",
      "text/plain": [
       "<Figure size 432x288 with 1 Axes>"
      ]
     },
     "metadata": {
      "needs_background": "light"
     },
     "output_type": "display_data"
    },
    {
     "data": {
      "image/png": "[encoded data removed]",
      "text/plain": [
       "<Figure size 432x288 with 1 Axes>"
      ]
     },
     "metadata": {
      "needs_background": "light"
     },
     "output_type": "display_data"
    },
    {
     "data": {
      "image/png": "[encoded data removed]",
      "text/plain": [
       "<Figure size 432x288 with 1 Axes>"
      ]
     },
     "metadata": {
      "needs_background": "light"
     },
     "output_type": "display_data"
    },
    {
     "data": {
      "image/png": "[encoded data removed]",
      "text/plain": [
       "<Figure size 432x288 with 1 Axes>"
      ]
     },
     "metadata": {
      "needs_background": "light"
     },
     "output_type": "display_data"
    }
   ],
   "source": [
    "sanityChecks.discProbVsError(train_data,disc2,device)\n",
    "sanityChecks.discProbVsError(test_data,disc2,device)"
   ]
  },
  {
   "cell_type": "markdown",
   "id": "130f3a4d",
   "metadata": {
    "id": "130f3a4d",
    "papermill": {
     "duration": 0.017373,
     "end_time": "2022-07-22T22:11:27.804193",
     "exception": false,
     "start_time": "2022-07-22T22:11:27.786820",
     "status": "completed"
    },
    "tags": []
   },
   "source": [
    "# skipGAN Model"
   ]
  },
  {
   "cell_type": "code",
   "execution_count": 19,
   "id": "4e43dad1",
   "metadata": {
    "execution": {
     "iopub.execute_input": "2022-07-22T22:11:27.840422Z",
     "iopub.status.busy": "2022-07-22T22:11:27.840060Z",
     "iopub.status.idle": "2022-07-22T22:11:27.851489Z",
     "shell.execute_reply": "2022-07-22T22:11:27.848663Z"
    },
    "id": "4e43dad1",
    "papermill": {
     "duration": 0.035029,
     "end_time": "2022-07-22T22:11:27.856412",
     "exception": false,
     "start_time": "2022-07-22T22:11:27.821383",
     "status": "completed"
    },
    "tags": []
   },
   "outputs": [],
   "source": [
    "# #Generator\n",
    "# gen3 = network.GeneratorWithSkipConnection(n_features+1).to(device)\n",
    "# constraints=network.weightConstraint()\n",
    "# #Discriminator \n",
    "# disc3 = network.Discriminator(n_features+1).to(device)\n",
    "\n",
    "# criterion = torch.nn.BCELoss()\n",
    "# gen_opt = torch.optim.Adam(gen3.parameters(), lr=0.01, betas=(0.5, 0.999))\n",
    "# disc_opt = torch.optim.Adam(disc3.parameters(), lr=0.01, betas=(0.5, 0.999))\n"
   ]
  },
  {
   "cell_type": "markdown",
   "id": "83f44a35",
   "metadata": {
    "tags": [
     "papermill-error-cell-tag"
    ]
   },
   "source": [
    "<span id=\"papermill-error-cell\" style=\"color:red; font-family:Helvetica Neue, Helvetica, Arial, sans-serif; font-size:2em;\">Execution using papermill encountered an exception here and stopped:</span>"
   ]
  },
  {
   "cell_type": "code",
   "execution_count": 20,
   "id": "26acbc37",
   "metadata": {
    "execution": {
     "iopub.execute_input": "2022-07-22T22:11:27.890968Z",
     "iopub.status.busy": "2022-07-22T22:11:27.890640Z",
     "iopub.status.idle": "2022-07-22T22:11:28.660291Z",
     "shell.execute_reply": "2022-07-22T22:11:28.658503Z"
    },
    "id": "26acbc37",
    "papermill": {
     "duration": 0.789927,
     "end_time": "2022-07-22T22:11:28.663329",
     "exception": true,
     "start_time": "2022-07-22T22:11:27.873402",
     "status": "failed"
    },
    "tags": []
   },
   "outputs": [
    {
     "ename": "NameError",
     "evalue": "name 'disc3' is not defined",
     "output_type": "error",
     "traceback": [
      "\u001b[0;31m---------------------------------------------------------------------------\u001b[0m",
      "\u001b[0;31mNameError\u001b[0m                                 Traceback (most recent call last)",
      "Input \u001b[0;32mIn [20]\u001b[0m, in \u001b[0;36m<cell line: 1>\u001b[0;34m()\u001b[0m\n\u001b[0;32m----> 1\u001b[0m ABC_train_test2\u001b[38;5;241m.\u001b[39mtraining_GAN_skip_connection(\u001b[43mdisc3\u001b[49m,gen3,disc_opt,gen_opt,train_data,batch_size,n_epochs,criterion,prior_model,variance,bias,device)\n",
      "\u001b[0;31mNameError\u001b[0m: name 'disc3' is not defined"
     ]
    }
   ],
   "source": [
    "ABC_train_test2.training_GAN_skip_connection(disc3,gen3,disc_opt,gen_opt,train_data,batch_size,n_epochs,criterion,prior_model,variance,bias,device)"
   ]
  },
  {
   "cell_type": "code",
   "execution_count": null,
   "id": "c5e0717b",
   "metadata": {
    "id": "c5e0717b",
    "papermill": {
     "duration": null,
     "end_time": null,
     "exception": null,
     "start_time": null,
     "status": "pending"
    },
    "tags": []
   },
   "outputs": [],
   "source": [
    "# ABC_GAN3_metrics=ABC_train_test2.test_generator(gen3,test_data,prior_model,variance,bias,\"3\",device)\n",
    "# sb.glue(\"ABC_GAN_3 Metrics\",ABC_GAN3_metrics)\n",
    "\n",
    "# print(\"MAE\")\n",
    "# print(mean(ABC_GAN3_metrics[1]))"
   ]
  },
  {
   "cell_type": "code",
   "execution_count": null,
   "id": "c8e46b48",
   "metadata": {
    "id": "c8e46b48",
    "papermill": {
     "duration": null,
     "end_time": null,
     "exception": null,
     "start_time": null,
     "status": "pending"
    },
    "tags": []
   },
   "outputs": [],
   "source": [
    "# sanityChecks.discProbVsError(train_data,disc3,device)\n",
    "# sanityChecks.discProbVsError(test_data,disc3,device)"
   ]
  },
  {
   "cell_type": "markdown",
   "id": "62fdf20f",
   "metadata": {
    "id": "130f3a4d",
    "papermill": {
     "duration": null,
     "end_time": null,
     "exception": null,
     "start_time": null,
     "status": "pending"
    },
    "tags": []
   },
   "source": [
    "# skipGAN Model with TabNet Generator"
   ]
  },
  {
   "cell_type": "code",
   "execution_count": null,
   "id": "d234c0a5",
   "metadata": {
    "id": "4e43dad1",
    "papermill": {
     "duration": null,
     "end_time": null,
     "exception": null,
     "start_time": null,
     "status": "pending"
    },
    "tags": []
   },
   "outputs": [],
   "source": [
    "# #Generator\n",
    "# gen4 = network.GeneratorTabnetskipConnection(n_features+1).to(device)\n",
    "# constraints=network.weightConstraint()\n",
    "# #Discriminator \n",
    "# disc4 = network.Discriminator(n_features+1).to(device)\n",
    "\n",
    "# criterion = torch.nn.BCELoss()\n",
    "# gen_opt = torch.optim.Adam(gen4.parameters(), lr=0.01, betas=(0.5, 0.999))\n",
    "# disc_opt = torch.optim.Adam(disc4.parameters(), lr=0.01, betas=(0.5, 0.999))\n"
   ]
  },
  {
   "cell_type": "code",
   "execution_count": null,
   "id": "17b8f700",
   "metadata": {
    "id": "26acbc37",
    "papermill": {
     "duration": null,
     "end_time": null,
     "exception": null,
     "start_time": null,
     "status": "pending"
    },
    "tags": []
   },
   "outputs": [],
   "source": [
    "# ABC_train_test2.training_GAN_skip_connection(disc4,gen4,disc_opt,gen_opt,train_data,batch_size,n_epochs,criterion,prior_model,variance,bias,device)"
   ]
  },
  {
   "cell_type": "code",
   "execution_count": null,
   "id": "6e6e3f0d",
   "metadata": {
    "id": "c5e0717b",
    "papermill": {
     "duration": null,
     "end_time": null,
     "exception": null,
     "start_time": null,
     "status": "pending"
    },
    "tags": []
   },
   "outputs": [],
   "source": [
    "# ABC_GAN4_metrics=ABC_train_test2.test_generator(gen4,test_data,prior_model,variance,bias,\"3\",device)\n",
    "# sb.glue(\"ABC_GAN_4 Metrics\",ABC_GAN4_metrics)\n",
    "\n",
    "# print(\"MAE\")\n",
    "# print(mean(ABC_GAN4_metrics[1]))"
   ]
  },
  {
   "cell_type": "code",
   "execution_count": null,
   "id": "4389c171",
   "metadata": {
    "id": "c8e46b48",
    "papermill": {
     "duration": null,
     "end_time": null,
     "exception": null,
     "start_time": null,
     "status": "pending"
    },
    "tags": []
   },
   "outputs": [],
   "source": [
    "# sanityChecks.discProbVsError(train_data,disc4,device)\n",
    "# sanityChecks.discProbVsError(test_data,disc4,device)"
   ]
  },
  {
   "cell_type": "markdown",
   "id": "a5bd74c3",
   "metadata": {
    "id": "a5bd74c3",
    "papermill": {
     "duration": null,
     "end_time": null,
     "exception": null,
     "start_time": null,
     "status": "pending"
    },
    "tags": []
   },
   "source": [
    "## Skip Connection Model Analysis - ABC-GAN "
   ]
  },
  {
   "cell_type": "markdown",
   "id": "5744a8bf",
   "metadata": {
    "id": "5744a8bf",
    "papermill": {
     "duration": null,
     "end_time": null,
     "exception": null,
     "start_time": null,
     "status": "pending"
    },
    "tags": []
   },
   "source": [
    "### Weight Analysis \n",
    "\n",
    "Study the weights of the skip connection layer\n",
    "\n",
    "Equation of the skip connection is \n",
    "\n",
    "$output = y_{gan} * w + y_{abc} * (1-w)$"
   ]
  },
  {
   "cell_type": "code",
   "execution_count": null,
   "id": "52c31dea",
   "metadata": {
    "id": "52c31dea",
    "papermill": {
     "duration": null,
     "end_time": null,
     "exception": null,
     "start_time": null,
     "status": "pending"
    },
    "tags": []
   },
   "outputs": [],
   "source": [
    "# print(\"Weight of the node at skip connection\")\n",
    "# for name,param in gen3.named_parameters():\n",
    "#     if(name == \"skipNode.weight\"):\n",
    "#         print(param)\n",
    "#         sb.glue(\"Skip Connection Weight\",param.item())"
   ]
  },
  {
   "cell_type": "markdown",
   "id": "9763c1a5",
   "metadata": {
    "id": "a5bd74c3",
    "papermill": {
     "duration": null,
     "end_time": null,
     "exception": null,
     "start_time": null,
     "status": "pending"
    },
    "tags": []
   },
   "source": [
    "## skipGAN Model Analysis (TabNet Generator) "
   ]
  },
  {
   "cell_type": "markdown",
   "id": "d8110b7c",
   "metadata": {
    "id": "5744a8bf",
    "papermill": {
     "duration": null,
     "end_time": null,
     "exception": null,
     "start_time": null,
     "status": "pending"
    },
    "tags": []
   },
   "source": [
    "### Weight Analysis \n",
    "\n",
    "Study the weights of the skip connection layer\n",
    "\n",
    "Equation of the skip connection is \n",
    "\n",
    "$output = y_{gan} * w + y_{abc} * (1-w)$"
   ]
  },
  {
   "cell_type": "code",
   "execution_count": null,
   "id": "cf20535e",
   "metadata": {
    "id": "52c31dea",
    "papermill": {
     "duration": null,
     "end_time": null,
     "exception": null,
     "start_time": null,
     "status": "pending"
    },
    "tags": []
   },
   "outputs": [],
   "source": [
    "# print(\"Weight of the node at skip connection\")\n",
    "# for name,param in gen4.named_parameters():\n",
    "#     if(name == \"skipNode.weight\"):\n",
    "#         print(param)\n",
    "#         sb.glue(\"Skip Connection Weight\",param.item())"
   ]
  }
 ],
 "metadata": {
  "colab": {
   "collapsed_sections": [],
   "name": "ABC_GAN_Model-Catboost_Pre-gen.ipynb",
   "provenance": []
  },
  "interpreter": {
   "hash": "31f2aee4e71d21fbe5cf8b01ff0e069b9275f58929596ceb00d14d90e3e16cd6"
  },
  "kernelspec": {
   "display_name": "Python 3 (ipykernel)",
   "language": "python",
   "name": "python3"
  },
  "language_info": {
   "codemirror_mode": {
    "name": "ipython",
    "version": 3
   },
   "file_extension": ".py",
   "mimetype": "text/x-python",
   "name": "python",
   "nbconvert_exporter": "python",
   "pygments_lexer": "ipython3",
   "version": "3.8.13"
  },
  "papermill": {
   "default_parameters": {},
   "duration": 663.074809,
   "end_time": "2022-07-22T22:11:32.243023",
   "environment_variables": {},
   "exception": true,
   "input_path": "ABC_GAN-Catboost.ipynb",
   "output_path": "./ABC_GAN_Catboost/ABC-GAN_output_2_11.ipynb",
   "parameters": {
    "bias": 0,
    "variance": 0.01
   },
   "start_time": "2022-07-22T22:00:29.168214",
   "version": "2.3.3"
  }
 },
 "nbformat": 4,
 "nbformat_minor": 5
}