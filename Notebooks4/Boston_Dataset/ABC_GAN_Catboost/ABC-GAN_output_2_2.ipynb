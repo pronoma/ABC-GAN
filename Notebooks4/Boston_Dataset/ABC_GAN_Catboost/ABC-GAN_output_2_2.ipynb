{
 "cells": [
  {
   "cell_type": "markdown",
   "id": "e996aa34",
   "metadata": {
    "tags": [
     "papermill-error-cell-tag"
    ]
   },
   "source": [
    "<span style=\"color:red; font-family:Helvetica Neue, Helvetica, Arial, sans-serif; font-size:2em;\">An Exception was encountered at '<a href=\"#papermill-error-cell\">In [20]</a>'.</span>"
   ]
  },
  {
   "cell_type": "markdown",
   "id": "622780e6",
   "metadata": {
    "id": "622780e6",
    "papermill": {
     "duration": 0.009817,
     "end_time": "2022-07-22T20:20:26.620997",
     "exception": false,
     "start_time": "2022-07-22T20:20:26.611180",
     "status": "completed"
    },
    "tags": []
   },
   "source": [
    "## Import Libraries "
   ]
  },
  {
   "cell_type": "code",
   "execution_count": 1,
   "id": "a62397e3",
   "metadata": {
    "execution": {
     "iopub.execute_input": "2022-07-22T20:20:26.653257Z",
     "iopub.status.busy": "2022-07-22T20:20:26.651753Z",
     "iopub.status.idle": "2022-07-22T20:20:26.696817Z",
     "shell.execute_reply": "2022-07-22T20:20:26.695847Z"
    },
    "id": "a62397e3",
    "papermill": {
     "duration": 0.085097,
     "end_time": "2022-07-22T20:20:26.714318",
     "exception": false,
     "start_time": "2022-07-22T20:20:26.629221",
     "status": "completed"
    },
    "tags": []
   },
   "outputs": [],
   "source": [
    "import warnings\n",
    "import sys\n",
    "sys.path.insert(0, '../../src')\n",
    "warnings.filterwarnings('ignore')"
   ]
  },
  {
   "cell_type": "code",
   "execution_count": 2,
   "id": "d6a4e155",
   "metadata": {
    "execution": {
     "iopub.execute_input": "2022-07-22T20:20:26.814867Z",
     "iopub.status.busy": "2022-07-22T20:20:26.810001Z",
     "iopub.status.idle": "2022-07-22T20:20:35.678585Z",
     "shell.execute_reply": "2022-07-22T20:20:35.677699Z"
    },
    "id": "d6a4e155",
    "papermill": {
     "duration": 8.947061,
     "end_time": "2022-07-22T20:20:35.684242",
     "exception": false,
     "start_time": "2022-07-22T20:20:26.737181",
     "status": "completed"
    },
    "tags": []
   },
   "outputs": [],
   "source": [
    "import ABC_train_test2\n",
    "import bostonDataset\n",
    "import network\n",
    "import dataset\n",
    "import sanityChecks\n",
    "import torch \n",
    "import scrapbook as sb\n",
    "from statistics import mean \n",
    "import catboost as ctb \n",
    "from sklearn.model_selection import train_test_split\n",
    "from sklearn.metrics import mean_squared_error,mean_absolute_error\n",
    "import numpy as np"
   ]
  },
  {
   "cell_type": "markdown",
   "id": "2fa5b0f7",
   "metadata": {
    "id": "2fa5b0f7",
    "papermill": {
     "duration": 0.010381,
     "end_time": "2022-07-22T20:20:35.707979",
     "exception": false,
     "start_time": "2022-07-22T20:20:35.697598",
     "status": "completed"
    },
    "tags": []
   },
   "source": [
    "## Parameters "
   ]
  },
  {
   "cell_type": "code",
   "execution_count": 3,
   "id": "783186fb",
   "metadata": {
    "execution": {
     "iopub.execute_input": "2022-07-22T20:20:35.742657Z",
     "iopub.status.busy": "2022-07-22T20:20:35.741887Z",
     "iopub.status.idle": "2022-07-22T20:20:35.750981Z",
     "shell.execute_reply": "2022-07-22T20:20:35.748572Z"
    },
    "id": "783186fb",
    "papermill": {
     "duration": 0.035535,
     "end_time": "2022-07-22T20:20:35.754687",
     "exception": false,
     "start_time": "2022-07-22T20:20:35.719152",
     "status": "completed"
    },
    "tags": [
     "parameters"
    ]
   },
   "outputs": [],
   "source": [
    "variance = 1\n",
    "bias = 1 "
   ]
  },
  {
   "cell_type": "code",
   "execution_count": 4,
   "id": "be72adbf",
   "metadata": {
    "execution": {
     "iopub.execute_input": "2022-07-22T20:20:35.786186Z",
     "iopub.status.busy": "2022-07-22T20:20:35.785784Z",
     "iopub.status.idle": "2022-07-22T20:20:35.790347Z",
     "shell.execute_reply": "2022-07-22T20:20:35.789522Z"
    },
    "papermill": {
     "duration": 0.029313,
     "end_time": "2022-07-22T20:20:35.800725",
     "exception": false,
     "start_time": "2022-07-22T20:20:35.771412",
     "status": "completed"
    },
    "tags": [
     "injected-parameters"
    ]
   },
   "outputs": [],
   "source": [
    "# Parameters\n",
    "variance = 0.01\n",
    "bias = 1\n"
   ]
  },
  {
   "cell_type": "markdown",
   "id": "391cdbfd",
   "metadata": {
    "id": "391cdbfd",
    "papermill": {
     "duration": 0.01661,
     "end_time": "2022-07-22T20:20:35.825845",
     "exception": false,
     "start_time": "2022-07-22T20:20:35.809235",
     "status": "completed"
    },
    "tags": []
   },
   "source": [
    "## Dataset \n"
   ]
  },
  {
   "cell_type": "code",
   "execution_count": 5,
   "id": "5b51f161",
   "metadata": {
    "execution": {
     "iopub.execute_input": "2022-07-22T20:20:35.850618Z",
     "iopub.status.busy": "2022-07-22T20:20:35.850318Z",
     "iopub.status.idle": "2022-07-22T20:20:35.854392Z",
     "shell.execute_reply": "2022-07-22T20:20:35.853601Z"
    },
    "id": "5b51f161",
    "papermill": {
     "duration": 0.02254,
     "end_time": "2022-07-22T20:20:35.861191",
     "exception": false,
     "start_time": "2022-07-22T20:20:35.838651",
     "status": "completed"
    },
    "tags": []
   },
   "outputs": [],
   "source": [
    "#Parameters \n",
    "n_features = 13\n",
    "n_samples= 506\n",
    "n_target = 1 "
   ]
  },
  {
   "cell_type": "code",
   "execution_count": 6,
   "id": "5d6eced4",
   "metadata": {
    "execution": {
     "iopub.execute_input": "2022-07-22T20:20:35.878657Z",
     "iopub.status.busy": "2022-07-22T20:20:35.878178Z",
     "iopub.status.idle": "2022-07-22T20:20:35.906808Z",
     "shell.execute_reply": "2022-07-22T20:20:35.905973Z"
    },
    "id": "5d6eced4",
    "papermill": {
     "duration": 0.044754,
     "end_time": "2022-07-22T20:20:35.913684",
     "exception": false,
     "start_time": "2022-07-22T20:20:35.868930",
     "status": "completed"
    },
    "tags": []
   },
   "outputs": [
    {
     "name": "stdout",
     "output_type": "stream",
     "text": [
      "         X1        X2        X3        X4        X5        X6        X7  \\\n",
      "0 -0.419782  0.284830 -1.287909 -0.272599 -0.144217  0.413672 -0.120013   \n",
      "1 -0.417339 -0.487722 -0.593381 -0.272599 -0.740262  0.194274  0.367166   \n",
      "2 -0.417342 -0.487722 -0.593381 -0.272599 -0.740262  1.282714 -0.265812   \n",
      "3 -0.416750 -0.487722 -1.306878 -0.272599 -0.835284  1.016303 -0.809889   \n",
      "4 -0.412482 -0.487722 -1.306878 -0.272599 -0.835284  1.228577 -0.511180   \n",
      "\n",
      "         X8        X9       X10       X11       X12       X13         Y  \n",
      "0  0.140214 -0.982843 -0.666608 -1.459000  0.441052 -1.075562  0.159686  \n",
      "1  0.557160 -0.867883 -0.987329 -0.303094  0.441052 -0.492439 -0.101524  \n",
      "2  0.557160 -0.867883 -0.987329 -0.303094  0.396427 -1.208727  1.324247  \n",
      "3  1.077737 -0.752922 -1.106115  0.113032  0.416163 -1.361517  1.182758  \n",
      "4  1.077737 -0.752922 -1.106115  0.113032  0.441052 -1.026501  1.487503  \n"
     ]
    }
   ],
   "source": [
    "X,Y = bostonDataset.boston_data()"
   ]
  },
  {
   "cell_type": "code",
   "execution_count": 7,
   "id": "fe007438",
   "metadata": {
    "execution": {
     "iopub.execute_input": "2022-07-22T20:20:35.942733Z",
     "iopub.status.busy": "2022-07-22T20:20:35.941882Z",
     "iopub.status.idle": "2022-07-22T20:20:35.953011Z",
     "shell.execute_reply": "2022-07-22T20:20:35.949550Z"
    },
    "id": "fe007438",
    "papermill": {
     "duration": 0.053001,
     "end_time": "2022-07-22T20:20:35.974819",
     "exception": false,
     "start_time": "2022-07-22T20:20:35.921818",
     "status": "completed"
    },
    "tags": []
   },
   "outputs": [],
   "source": [
    "#Train test split for dataset \n",
    "X_train,X_test,Y_train,Y_test = train_test_split(X,Y,test_size = 0.2)\n",
    "train_data = dataset.CustomDataset(X_train,Y_train)\n",
    "test_data = dataset.CustomDataset(X_test,Y_test)\n"
   ]
  },
  {
   "cell_type": "markdown",
   "id": "a9a1af34",
   "metadata": {
    "id": "a9a1af34",
    "papermill": {
     "duration": 0.031068,
     "end_time": "2022-07-22T20:20:36.018570",
     "exception": false,
     "start_time": "2022-07-22T20:20:35.987502",
     "status": "completed"
    },
    "tags": []
   },
   "source": [
    "## Training Parameters "
   ]
  },
  {
   "cell_type": "code",
   "execution_count": 8,
   "id": "952b7fc8",
   "metadata": {
    "execution": {
     "iopub.execute_input": "2022-07-22T20:20:36.075781Z",
     "iopub.status.busy": "2022-07-22T20:20:36.074817Z",
     "iopub.status.idle": "2022-07-22T20:20:36.082572Z",
     "shell.execute_reply": "2022-07-22T20:20:36.079682Z"
    },
    "id": "952b7fc8",
    "papermill": {
     "duration": 0.072815,
     "end_time": "2022-07-22T20:20:36.119769",
     "exception": false,
     "start_time": "2022-07-22T20:20:36.046954",
     "status": "completed"
    },
    "tags": []
   },
   "outputs": [],
   "source": [
    "batch_size = 32\n",
    "n_epochs = 1000\n",
    "#Select the device \n",
    "device = torch.device('cuda' if torch.cuda.is_available() else 'cpu')"
   ]
  },
  {
   "cell_type": "markdown",
   "id": "a95e1600",
   "metadata": {
    "id": "a95e1600",
    "papermill": {
     "duration": 0.008166,
     "end_time": "2022-07-22T20:20:36.135703",
     "exception": false,
     "start_time": "2022-07-22T20:20:36.127537",
     "status": "completed"
    },
    "tags": []
   },
   "source": [
    "# ABC Pre-generator Model \n",
    "\n",
    "1. The catboost model is used as a pre-generator model for the ABC-GAN. \n",
    "2. The model is first trained on the entire dataset \n",
    "3. It generats X,Y pairs and we add some Gaussian noise with mean 0 and variance 1 to it which is then feed as input to the generator.\n"
   ]
  },
  {
   "cell_type": "code",
   "execution_count": 9,
   "id": "ff8ce7bd",
   "metadata": {
    "execution": {
     "iopub.execute_input": "2022-07-22T20:20:36.186620Z",
     "iopub.status.busy": "2022-07-22T20:20:36.185800Z",
     "iopub.status.idle": "2022-07-22T20:20:41.205118Z",
     "shell.execute_reply": "2022-07-22T20:20:41.202782Z"
    },
    "id": "ff8ce7bd",
    "papermill": {
     "duration": 5.065065,
     "end_time": "2022-07-22T20:20:41.208801",
     "exception": false,
     "start_time": "2022-07-22T20:20:36.143736",
     "status": "completed"
    },
    "tags": []
   },
   "outputs": [
    {
     "name": "stdout",
     "output_type": "stream",
     "text": [
      "Learning rate set to 0.03548\n",
      "0:\tlearn: 0.9916184\ttotal: 61.5ms\tremaining: 1m 1s\n",
      "1:\tlearn: 0.9697258\ttotal: 67.2ms\tremaining: 33.5s\n",
      "2:\tlearn: 0.9489666\ttotal: 69.9ms\tremaining: 23.2s\n",
      "3:\tlearn: 0.9314268\ttotal: 75.9ms\tremaining: 18.9s\n",
      "4:\tlearn: 0.9134266\ttotal: 90.5ms\tremaining: 18s\n",
      "5:\tlearn: 0.8981129\ttotal: 93.3ms\tremaining: 15.5s\n",
      "6:\tlearn: 0.8807241\ttotal: 96.3ms\tremaining: 13.7s\n",
      "7:\tlearn: 0.8632342\ttotal: 98.9ms\tremaining: 12.3s\n",
      "8:\tlearn: 0.8471661\ttotal: 101ms\tremaining: 11.1s\n",
      "9:\tlearn: 0.8305121\ttotal: 103ms\tremaining: 10.2s\n",
      "10:\tlearn: 0.8161921\ttotal: 106ms\tremaining: 9.56s\n",
      "11:\tlearn: 0.7995572\ttotal: 109ms\tremaining: 8.94s\n",
      "12:\tlearn: 0.7834121\ttotal: 111ms\tremaining: 8.45s\n",
      "13:\tlearn: 0.7675753\ttotal: 114ms\tremaining: 8.03s\n",
      "14:\tlearn: 0.7551206\ttotal: 133ms\tremaining: 8.7s\n",
      "15:\tlearn: 0.7415820\ttotal: 144ms\tremaining: 8.85s\n",
      "16:\tlearn: 0.7286368\ttotal: 147ms\tremaining: 8.48s\n",
      "17:\tlearn: 0.7156594\ttotal: 151ms\tremaining: 8.24s\n",
      "18:\tlearn: 0.7027371\ttotal: 154ms\tremaining: 7.93s\n",
      "19:\tlearn: 0.6906361\ttotal: 158ms\tremaining: 7.73s\n",
      "20:\tlearn: 0.6759115\ttotal: 160ms\tremaining: 7.46s\n",
      "21:\tlearn: 0.6633067\ttotal: 163ms\tremaining: 7.25s\n",
      "22:\tlearn: 0.6507396\ttotal: 175ms\tremaining: 7.44s\n"
     ]
    },
    {
     "name": "stdout",
     "output_type": "stream",
     "text": [
      "23:\tlearn: 0.6404664\ttotal: 179ms\tremaining: 7.29s\n",
      "24:\tlearn: 0.6303242\ttotal: 183ms\tremaining: 7.12s\n",
      "25:\tlearn: 0.6209351\ttotal: 188ms\tremaining: 7.04s\n",
      "26:\tlearn: 0.6122670\ttotal: 191ms\tremaining: 6.88s\n",
      "27:\tlearn: 0.6027326\ttotal: 193ms\tremaining: 6.71s\n",
      "28:\tlearn: 0.5938105\ttotal: 196ms\tremaining: 6.56s\n",
      "29:\tlearn: 0.5836196\ttotal: 198ms\tremaining: 6.42s\n",
      "30:\tlearn: 0.5734944\ttotal: 202ms\tremaining: 6.3s\n",
      "31:\tlearn: 0.5647529\ttotal: 205ms\tremaining: 6.19s\n",
      "32:\tlearn: 0.5575443\ttotal: 208ms\tremaining: 6.08s\n",
      "33:\tlearn: 0.5494609\ttotal: 210ms\tremaining: 5.98s\n",
      "34:\tlearn: 0.5415744\ttotal: 213ms\tremaining: 5.86s\n",
      "35:\tlearn: 0.5332248\ttotal: 215ms\tremaining: 5.77s\n",
      "36:\tlearn: 0.5272628\ttotal: 218ms\tremaining: 5.68s\n",
      "37:\tlearn: 0.5201465\ttotal: 221ms\tremaining: 5.59s\n",
      "38:\tlearn: 0.5128716\ttotal: 225ms\tremaining: 5.54s\n",
      "39:\tlearn: 0.5042916\ttotal: 227ms\tremaining: 5.46s\n",
      "40:\tlearn: 0.4978155\ttotal: 230ms\tremaining: 5.38s\n",
      "41:\tlearn: 0.4911366\ttotal: 233ms\tremaining: 5.31s\n",
      "42:\tlearn: 0.4862090\ttotal: 235ms\tremaining: 5.24s\n",
      "43:\tlearn: 0.4791288\ttotal: 238ms\tremaining: 5.17s\n",
      "44:\tlearn: 0.4738672\ttotal: 248ms\tremaining: 5.26s\n",
      "45:\tlearn: 0.4680529\ttotal: 250ms\tremaining: 5.2s\n",
      "46:\tlearn: 0.4617110\ttotal: 253ms\tremaining: 5.13s\n",
      "47:\tlearn: 0.4556145\ttotal: 256ms\tremaining: 5.07s\n",
      "48:\tlearn: 0.4498221\ttotal: 259ms\tremaining: 5.02s\n",
      "49:\tlearn: 0.4450675\ttotal: 265ms\tremaining: 5.04s\n",
      "50:\tlearn: 0.4400133\ttotal: 280ms\tremaining: 5.22s\n",
      "51:\tlearn: 0.4352280\ttotal: 283ms\tremaining: 5.16s\n",
      "52:\tlearn: 0.4295370\ttotal: 287ms\tremaining: 5.13s\n",
      "53:\tlearn: 0.4262423\ttotal: 288ms\tremaining: 5.05s\n",
      "54:\tlearn: 0.4208339\ttotal: 291ms\tremaining: 5s\n"
     ]
    },
    {
     "name": "stdout",
     "output_type": "stream",
     "text": [
      "55:\tlearn: 0.4172500\ttotal: 303ms\tremaining: 5.11s\n",
      "56:\tlearn: 0.4134367\ttotal: 307ms\tremaining: 5.07s\n",
      "57:\tlearn: 0.4091678\ttotal: 309ms\tremaining: 5.02s\n",
      "58:\tlearn: 0.4052105\ttotal: 330ms\tremaining: 5.26s\n",
      "59:\tlearn: 0.4011717\ttotal: 333ms\tremaining: 5.22s\n",
      "60:\tlearn: 0.3969335\ttotal: 339ms\tremaining: 5.22s\n",
      "61:\tlearn: 0.3926086\ttotal: 343ms\tremaining: 5.18s\n",
      "62:\tlearn: 0.3896468\ttotal: 345ms\tremaining: 5.14s\n",
      "63:\tlearn: 0.3863752\ttotal: 353ms\tremaining: 5.16s\n",
      "64:\tlearn: 0.3837331\ttotal: 356ms\tremaining: 5.12s\n",
      "65:\tlearn: 0.3812085\ttotal: 361ms\tremaining: 5.1s\n",
      "66:\tlearn: 0.3773541\ttotal: 370ms\tremaining: 5.16s\n",
      "67:\tlearn: 0.3741233\ttotal: 373ms\tremaining: 5.11s\n",
      "68:\tlearn: 0.3714295\ttotal: 376ms\tremaining: 5.07s\n",
      "69:\tlearn: 0.3684672\ttotal: 381ms\tremaining: 5.06s\n",
      "70:\tlearn: 0.3649372\ttotal: 388ms\tremaining: 5.07s\n",
      "71:\tlearn: 0.3618032\ttotal: 391ms\tremaining: 5.04s\n",
      "72:\tlearn: 0.3592855\ttotal: 395ms\tremaining: 5.01s\n",
      "73:\tlearn: 0.3561829\ttotal: 397ms\tremaining: 4.97s\n",
      "74:\tlearn: 0.3539983\ttotal: 399ms\tremaining: 4.92s\n",
      "75:\tlearn: 0.3512483\ttotal: 403ms\tremaining: 4.9s\n",
      "76:\tlearn: 0.3488016\ttotal: 407ms\tremaining: 4.88s\n",
      "77:\tlearn: 0.3455304\ttotal: 409ms\tremaining: 4.84s\n",
      "78:\tlearn: 0.3426361\ttotal: 414ms\tremaining: 4.82s\n",
      "79:\tlearn: 0.3405640\ttotal: 418ms\tremaining: 4.8s\n",
      "80:\tlearn: 0.3379431\ttotal: 420ms\tremaining: 4.77s\n",
      "81:\tlearn: 0.3353142\ttotal: 425ms\tremaining: 4.75s\n",
      "82:\tlearn: 0.3327951\ttotal: 427ms\tremaining: 4.72s\n",
      "83:\tlearn: 0.3299097\ttotal: 429ms\tremaining: 4.68s\n"
     ]
    },
    {
     "name": "stdout",
     "output_type": "stream",
     "text": [
      "84:\tlearn: 0.3278079\ttotal: 436ms\tremaining: 4.69s\n",
      "85:\tlearn: 0.3247855\ttotal: 441ms\tremaining: 4.68s\n",
      "86:\tlearn: 0.3229351\ttotal: 444ms\tremaining: 4.66s\n",
      "87:\tlearn: 0.3202491\ttotal: 456ms\tremaining: 4.73s\n",
      "88:\tlearn: 0.3181664\ttotal: 459ms\tremaining: 4.7s\n",
      "89:\tlearn: 0.3161750\ttotal: 462ms\tremaining: 4.67s\n",
      "90:\tlearn: 0.3144155\ttotal: 487ms\tremaining: 4.86s\n",
      "91:\tlearn: 0.3125658\ttotal: 497ms\tremaining: 4.91s\n",
      "92:\tlearn: 0.3113214\ttotal: 498ms\tremaining: 4.86s\n",
      "93:\tlearn: 0.3092024\ttotal: 501ms\tremaining: 4.83s\n",
      "94:\tlearn: 0.3074413\ttotal: 504ms\tremaining: 4.8s\n",
      "95:\tlearn: 0.3063915\ttotal: 506ms\tremaining: 4.76s\n",
      "96:\tlearn: 0.3044589\ttotal: 508ms\tremaining: 4.73s\n",
      "97:\tlearn: 0.3028190\ttotal: 511ms\tremaining: 4.7s\n",
      "98:\tlearn: 0.3014665\ttotal: 514ms\tremaining: 4.68s\n",
      "99:\tlearn: 0.3004955\ttotal: 516ms\tremaining: 4.64s\n",
      "100:\tlearn: 0.2985575\ttotal: 519ms\tremaining: 4.62s\n",
      "101:\tlearn: 0.2968606\ttotal: 522ms\tremaining: 4.59s\n",
      "102:\tlearn: 0.2954289\ttotal: 525ms\tremaining: 4.57s\n",
      "103:\tlearn: 0.2936789\ttotal: 528ms\tremaining: 4.55s\n",
      "104:\tlearn: 0.2925010\ttotal: 530ms\tremaining: 4.52s\n"
     ]
    },
    {
     "name": "stdout",
     "output_type": "stream",
     "text": [
      "105:\tlearn: 0.2913038\ttotal: 533ms\tremaining: 4.5s\n",
      "106:\tlearn: 0.2897978\ttotal: 536ms\tremaining: 4.47s\n",
      "107:\tlearn: 0.2888371\ttotal: 538ms\tremaining: 4.45s\n",
      "108:\tlearn: 0.2872860\ttotal: 541ms\tremaining: 4.42s\n",
      "109:\tlearn: 0.2853591\ttotal: 544ms\tremaining: 4.4s\n",
      "110:\tlearn: 0.2844810\ttotal: 547ms\tremaining: 4.38s\n",
      "111:\tlearn: 0.2837586\ttotal: 548ms\tremaining: 4.35s\n",
      "112:\tlearn: 0.2821005\ttotal: 551ms\tremaining: 4.33s\n",
      "113:\tlearn: 0.2811388\ttotal: 555ms\tremaining: 4.31s\n",
      "114:\tlearn: 0.2800137\ttotal: 557ms\tremaining: 4.29s\n",
      "115:\tlearn: 0.2791633\ttotal: 560ms\tremaining: 4.27s\n",
      "116:\tlearn: 0.2789375\ttotal: 563ms\tremaining: 4.25s\n",
      "117:\tlearn: 0.2778520\ttotal: 568ms\tremaining: 4.24s\n",
      "118:\tlearn: 0.2771355\ttotal: 573ms\tremaining: 4.24s\n",
      "119:\tlearn: 0.2759727\ttotal: 576ms\tremaining: 4.22s\n",
      "120:\tlearn: 0.2746225\ttotal: 579ms\tremaining: 4.2s\n",
      "121:\tlearn: 0.2734873\ttotal: 582ms\tremaining: 4.19s\n",
      "122:\tlearn: 0.2724614\ttotal: 586ms\tremaining: 4.18s\n",
      "123:\tlearn: 0.2713209\ttotal: 588ms\tremaining: 4.16s\n",
      "124:\tlearn: 0.2703981\ttotal: 591ms\tremaining: 4.14s\n",
      "125:\tlearn: 0.2694172\ttotal: 594ms\tremaining: 4.12s\n",
      "126:\tlearn: 0.2685582\ttotal: 596ms\tremaining: 4.09s\n",
      "127:\tlearn: 0.2675270\ttotal: 598ms\tremaining: 4.07s\n",
      "128:\tlearn: 0.2667108\ttotal: 601ms\tremaining: 4.06s\n",
      "129:\tlearn: 0.2652021\ttotal: 603ms\tremaining: 4.03s\n",
      "130:\tlearn: 0.2645341\ttotal: 606ms\tremaining: 4.02s\n",
      "131:\tlearn: 0.2636977\ttotal: 610ms\tremaining: 4.01s\n",
      "132:\tlearn: 0.2628548\ttotal: 613ms\tremaining: 4s\n",
      "133:\tlearn: 0.2625883\ttotal: 615ms\tremaining: 3.98s\n",
      "134:\tlearn: 0.2618417\ttotal: 617ms\tremaining: 3.96s\n",
      "135:\tlearn: 0.2607813\ttotal: 621ms\tremaining: 3.94s\n",
      "136:\tlearn: 0.2602466\ttotal: 625ms\tremaining: 3.94s\n",
      "137:\tlearn: 0.2596041\ttotal: 630ms\tremaining: 3.93s\n",
      "138:\tlearn: 0.2591003\ttotal: 634ms\tremaining: 3.92s\n",
      "139:\tlearn: 0.2584450\ttotal: 637ms\tremaining: 3.92s\n",
      "140:\tlearn: 0.2577185\ttotal: 643ms\tremaining: 3.92s\n",
      "141:\tlearn: 0.2568081\ttotal: 655ms\tremaining: 3.96s\n",
      "142:\tlearn: 0.2562786\ttotal: 661ms\tremaining: 3.96s\n",
      "143:\tlearn: 0.2553634\ttotal: 673ms\tremaining: 4s\n",
      "144:\tlearn: 0.2543601\ttotal: 679ms\tremaining: 4s\n",
      "145:\tlearn: 0.2532767\ttotal: 685ms\tremaining: 4.01s\n",
      "146:\tlearn: 0.2522120\ttotal: 696ms\tremaining: 4.04s\n"
     ]
    },
    {
     "name": "stdout",
     "output_type": "stream",
     "text": [
      "147:\tlearn: 0.2513055\ttotal: 704ms\tremaining: 4.05s\n",
      "148:\tlearn: 0.2508846\ttotal: 713ms\tremaining: 4.07s\n",
      "149:\tlearn: 0.2499034\ttotal: 728ms\tremaining: 4.12s\n",
      "150:\tlearn: 0.2493266\ttotal: 738ms\tremaining: 4.15s\n",
      "151:\tlearn: 0.2479788\ttotal: 749ms\tremaining: 4.18s\n",
      "152:\tlearn: 0.2474184\ttotal: 764ms\tremaining: 4.23s\n",
      "153:\tlearn: 0.2469269\ttotal: 791ms\tremaining: 4.35s\n",
      "154:\tlearn: 0.2465145\ttotal: 852ms\tremaining: 4.64s\n"
     ]
    },
    {
     "name": "stdout",
     "output_type": "stream",
     "text": [
      "155:\tlearn: 0.2457799\ttotal: 922ms\tremaining: 4.99s\n",
      "156:\tlearn: 0.2449449\ttotal: 928ms\tremaining: 4.98s\n",
      "157:\tlearn: 0.2444279\ttotal: 936ms\tremaining: 4.99s\n",
      "158:\tlearn: 0.2438863\ttotal: 953ms\tremaining: 5.04s\n",
      "159:\tlearn: 0.2432313\ttotal: 959ms\tremaining: 5.03s\n",
      "160:\tlearn: 0.2424960\ttotal: 972ms\tremaining: 5.07s\n",
      "161:\tlearn: 0.2419463\ttotal: 976ms\tremaining: 5.05s\n",
      "162:\tlearn: 0.2414202\ttotal: 981ms\tremaining: 5.04s\n",
      "163:\tlearn: 0.2405282\ttotal: 1.02s\tremaining: 5.18s\n",
      "164:\tlearn: 0.2400550\ttotal: 1.04s\tremaining: 5.25s\n",
      "165:\tlearn: 0.2394745\ttotal: 1.05s\tremaining: 5.28s\n",
      "166:\tlearn: 0.2382790\ttotal: 1.06s\tremaining: 5.29s\n",
      "167:\tlearn: 0.2380729\ttotal: 1.08s\tremaining: 5.36s\n"
     ]
    },
    {
     "name": "stdout",
     "output_type": "stream",
     "text": [
      "168:\tlearn: 0.2377470\ttotal: 1.1s\tremaining: 5.4s\n",
      "169:\tlearn: 0.2371277\ttotal: 1.12s\tremaining: 5.45s\n",
      "170:\tlearn: 0.2369213\ttotal: 1.2s\tremaining: 5.8s\n",
      "171:\tlearn: 0.2364486\ttotal: 1.23s\tremaining: 5.9s\n",
      "172:\tlearn: 0.2358921\ttotal: 1.23s\tremaining: 5.87s\n",
      "173:\tlearn: 0.2352235\ttotal: 1.23s\tremaining: 5.84s\n",
      "174:\tlearn: 0.2345384\ttotal: 1.24s\tremaining: 5.83s\n",
      "175:\tlearn: 0.2340059\ttotal: 1.25s\tremaining: 5.83s\n",
      "176:\tlearn: 0.2333652\ttotal: 1.25s\tremaining: 5.8s\n",
      "177:\tlearn: 0.2329986\ttotal: 1.26s\tremaining: 5.8s\n",
      "178:\tlearn: 0.2325236\ttotal: 1.26s\tremaining: 5.79s\n",
      "179:\tlearn: 0.2321778\ttotal: 1.27s\tremaining: 5.77s\n",
      "180:\tlearn: 0.2313751\ttotal: 1.27s\tremaining: 5.74s\n"
     ]
    },
    {
     "name": "stdout",
     "output_type": "stream",
     "text": [
      "181:\tlearn: 0.2303171\ttotal: 1.27s\tremaining: 5.72s\n",
      "182:\tlearn: 0.2295864\ttotal: 1.28s\tremaining: 5.73s\n",
      "183:\tlearn: 0.2289374\ttotal: 1.29s\tremaining: 5.73s\n",
      "184:\tlearn: 0.2283286\ttotal: 1.29s\tremaining: 5.7s\n",
      "185:\tlearn: 0.2276818\ttotal: 1.3s\tremaining: 5.68s\n",
      "186:\tlearn: 0.2265070\ttotal: 1.3s\tremaining: 5.66s\n",
      "187:\tlearn: 0.2263768\ttotal: 1.3s\tremaining: 5.63s\n",
      "188:\tlearn: 0.2254401\ttotal: 1.31s\tremaining: 5.64s\n",
      "189:\tlearn: 0.2242090\ttotal: 1.32s\tremaining: 5.64s\n",
      "190:\tlearn: 0.2234936\ttotal: 1.38s\tremaining: 5.84s\n"
     ]
    },
    {
     "name": "stdout",
     "output_type": "stream",
     "text": [
      "191:\tlearn: 0.2226399\ttotal: 1.47s\tremaining: 6.21s\n",
      "192:\tlearn: 0.2220396\ttotal: 1.48s\tremaining: 6.18s\n",
      "193:\tlearn: 0.2213735\ttotal: 1.48s\tremaining: 6.16s\n",
      "194:\tlearn: 0.2205396\ttotal: 1.5s\tremaining: 6.2s\n",
      "195:\tlearn: 0.2198295\ttotal: 1.51s\tremaining: 6.19s\n",
      "196:\tlearn: 0.2193054\ttotal: 1.52s\tremaining: 6.18s\n",
      "197:\tlearn: 0.2190136\ttotal: 1.52s\tremaining: 6.17s\n",
      "198:\tlearn: 0.2185292\ttotal: 1.53s\tremaining: 6.18s\n",
      "199:\tlearn: 0.2182533\ttotal: 1.57s\tremaining: 6.29s\n",
      "200:\tlearn: 0.2176599\ttotal: 1.57s\tremaining: 6.26s\n",
      "201:\tlearn: 0.2174659\ttotal: 1.58s\tremaining: 6.25s\n",
      "202:\tlearn: 0.2171986\ttotal: 1.59s\tremaining: 6.24s\n",
      "203:\tlearn: 0.2165840\ttotal: 1.59s\tremaining: 6.21s\n",
      "204:\tlearn: 0.2161302\ttotal: 1.6s\tremaining: 6.22s\n",
      "205:\tlearn: 0.2154146\ttotal: 1.63s\tremaining: 6.26s\n"
     ]
    },
    {
     "name": "stdout",
     "output_type": "stream",
     "text": [
      "206:\tlearn: 0.2147016\ttotal: 1.63s\tremaining: 6.25s\n",
      "207:\tlearn: 0.2142311\ttotal: 1.64s\tremaining: 6.25s\n",
      "208:\tlearn: 0.2135256\ttotal: 1.65s\tremaining: 6.24s\n",
      "209:\tlearn: 0.2131171\ttotal: 1.65s\tremaining: 6.22s\n",
      "210:\tlearn: 0.2125643\ttotal: 1.66s\tremaining: 6.2s\n",
      "211:\tlearn: 0.2118963\ttotal: 1.66s\tremaining: 6.18s\n",
      "212:\tlearn: 0.2114141\ttotal: 1.67s\tremaining: 6.17s\n",
      "213:\tlearn: 0.2106438\ttotal: 1.67s\tremaining: 6.15s\n",
      "214:\tlearn: 0.2100578\ttotal: 1.68s\tremaining: 6.14s\n",
      "215:\tlearn: 0.2096825\ttotal: 1.69s\tremaining: 6.12s\n",
      "216:\tlearn: 0.2091029\ttotal: 1.69s\tremaining: 6.09s\n",
      "217:\tlearn: 0.2086718\ttotal: 1.69s\tremaining: 6.07s\n",
      "218:\tlearn: 0.2079660\ttotal: 1.7s\tremaining: 6.05s\n",
      "219:\tlearn: 0.2075219\ttotal: 1.7s\tremaining: 6.03s\n",
      "220:\tlearn: 0.2070633\ttotal: 1.7s\tremaining: 6.01s\n",
      "221:\tlearn: 0.2066783\ttotal: 1.71s\tremaining: 5.99s\n",
      "222:\tlearn: 0.2064423\ttotal: 1.71s\tremaining: 5.97s\n",
      "223:\tlearn: 0.2058432\ttotal: 1.72s\tremaining: 5.95s\n",
      "224:\tlearn: 0.2051534\ttotal: 1.72s\tremaining: 5.93s\n",
      "225:\tlearn: 0.2042728\ttotal: 1.79s\tremaining: 6.14s\n",
      "226:\tlearn: 0.2041374\ttotal: 1.8s\tremaining: 6.12s\n"
     ]
    },
    {
     "name": "stdout",
     "output_type": "stream",
     "text": [
      "227:\tlearn: 0.2037188\ttotal: 1.81s\tremaining: 6.13s\n",
      "228:\tlearn: 0.2034164\ttotal: 1.83s\tremaining: 6.18s\n",
      "229:\tlearn: 0.2031321\ttotal: 1.84s\tremaining: 6.16s\n",
      "230:\tlearn: 0.2027932\ttotal: 1.85s\tremaining: 6.17s\n",
      "231:\tlearn: 0.2022057\ttotal: 1.9s\tremaining: 6.28s\n",
      "232:\tlearn: 0.2014471\ttotal: 1.9s\tremaining: 6.26s\n",
      "233:\tlearn: 0.2012282\ttotal: 1.9s\tremaining: 6.23s\n",
      "234:\tlearn: 0.2007817\ttotal: 1.91s\tremaining: 6.21s\n",
      "235:\tlearn: 0.2001286\ttotal: 1.91s\tremaining: 6.18s\n",
      "236:\tlearn: 0.1997950\ttotal: 1.91s\tremaining: 6.16s\n",
      "237:\tlearn: 0.1995374\ttotal: 1.92s\tremaining: 6.13s\n",
      "238:\tlearn: 0.1993543\ttotal: 1.92s\tremaining: 6.11s\n",
      "239:\tlearn: 0.1991063\ttotal: 1.92s\tremaining: 6.09s\n",
      "240:\tlearn: 0.1983736\ttotal: 1.93s\tremaining: 6.07s\n",
      "241:\tlearn: 0.1977817\ttotal: 1.93s\tremaining: 6.04s\n",
      "242:\tlearn: 0.1976049\ttotal: 1.93s\tremaining: 6.02s\n",
      "243:\tlearn: 0.1970339\ttotal: 1.94s\tremaining: 6s\n",
      "244:\tlearn: 0.1967213\ttotal: 1.94s\tremaining: 5.98s\n",
      "245:\tlearn: 0.1965487\ttotal: 1.94s\tremaining: 5.96s\n",
      "246:\tlearn: 0.1961445\ttotal: 1.95s\tremaining: 5.93s\n",
      "247:\tlearn: 0.1955683\ttotal: 1.95s\tremaining: 5.91s\n",
      "248:\tlearn: 0.1948957\ttotal: 1.95s\tremaining: 5.88s\n",
      "249:\tlearn: 0.1940834\ttotal: 1.95s\tremaining: 5.86s\n",
      "250:\tlearn: 0.1933800\ttotal: 1.96s\tremaining: 5.84s\n",
      "251:\tlearn: 0.1931283\ttotal: 1.96s\tremaining: 5.82s\n",
      "252:\tlearn: 0.1929716\ttotal: 1.96s\tremaining: 5.79s\n",
      "253:\tlearn: 0.1923826\ttotal: 1.97s\tremaining: 5.78s\n"
     ]
    },
    {
     "name": "stdout",
     "output_type": "stream",
     "text": [
      "254:\tlearn: 0.1922495\ttotal: 1.97s\tremaining: 5.76s\n",
      "255:\tlearn: 0.1920864\ttotal: 1.98s\tremaining: 5.74s\n",
      "256:\tlearn: 0.1917033\ttotal: 1.98s\tremaining: 5.72s\n",
      "257:\tlearn: 0.1914936\ttotal: 1.98s\tremaining: 5.7s\n",
      "258:\tlearn: 0.1910389\ttotal: 1.98s\tremaining: 5.67s\n",
      "259:\tlearn: 0.1906718\ttotal: 1.99s\tremaining: 5.65s\n",
      "260:\tlearn: 0.1901951\ttotal: 1.99s\tremaining: 5.63s\n",
      "261:\tlearn: 0.1897761\ttotal: 1.99s\tremaining: 5.61s\n",
      "262:\tlearn: 0.1894609\ttotal: 1.99s\tremaining: 5.58s\n",
      "263:\tlearn: 0.1890599\ttotal: 2s\tremaining: 5.56s\n",
      "264:\tlearn: 0.1886149\ttotal: 2s\tremaining: 5.54s\n",
      "265:\tlearn: 0.1882195\ttotal: 2s\tremaining: 5.52s\n",
      "266:\tlearn: 0.1875981\ttotal: 2s\tremaining: 5.5s\n",
      "267:\tlearn: 0.1873183\ttotal: 2.01s\tremaining: 5.48s\n",
      "268:\tlearn: 0.1870812\ttotal: 2.01s\tremaining: 5.46s\n",
      "269:\tlearn: 0.1866665\ttotal: 2.01s\tremaining: 5.44s\n",
      "270:\tlearn: 0.1861277\ttotal: 2.02s\tremaining: 5.42s\n",
      "271:\tlearn: 0.1854717\ttotal: 2.02s\tremaining: 5.4s\n",
      "272:\tlearn: 0.1847671\ttotal: 2.02s\tremaining: 5.39s\n",
      "273:\tlearn: 0.1844785\ttotal: 2.03s\tremaining: 5.38s\n",
      "274:\tlearn: 0.1838926\ttotal: 2.03s\tremaining: 5.36s\n",
      "275:\tlearn: 0.1837576\ttotal: 2.04s\tremaining: 5.34s\n",
      "276:\tlearn: 0.1832629\ttotal: 2.04s\tremaining: 5.33s\n",
      "277:\tlearn: 0.1826692\ttotal: 2.05s\tremaining: 5.31s\n",
      "278:\tlearn: 0.1820158\ttotal: 2.05s\tremaining: 5.3s\n",
      "279:\tlearn: 0.1814867\ttotal: 2.05s\tremaining: 5.28s\n",
      "280:\tlearn: 0.1813882\ttotal: 2.06s\tremaining: 5.26s\n",
      "281:\tlearn: 0.1811965\ttotal: 2.06s\tremaining: 5.24s\n",
      "282:\tlearn: 0.1808247\ttotal: 2.06s\tremaining: 5.22s\n",
      "283:\tlearn: 0.1804420\ttotal: 2.06s\tremaining: 5.2s\n",
      "284:\tlearn: 0.1800712\ttotal: 2.07s\tremaining: 5.19s\n",
      "285:\tlearn: 0.1794806\ttotal: 2.07s\tremaining: 5.18s\n",
      "286:\tlearn: 0.1791170\ttotal: 2.08s\tremaining: 5.16s\n",
      "287:\tlearn: 0.1785959\ttotal: 2.08s\tremaining: 5.15s\n",
      "288:\tlearn: 0.1781930\ttotal: 2.08s\tremaining: 5.13s\n",
      "289:\tlearn: 0.1776028\ttotal: 2.09s\tremaining: 5.11s\n",
      "290:\tlearn: 0.1771499\ttotal: 2.09s\tremaining: 5.09s\n",
      "291:\tlearn: 0.1765677\ttotal: 2.1s\tremaining: 5.08s\n",
      "292:\tlearn: 0.1759651\ttotal: 2.1s\tremaining: 5.06s\n"
     ]
    },
    {
     "name": "stdout",
     "output_type": "stream",
     "text": [
      "293:\tlearn: 0.1753828\ttotal: 2.1s\tremaining: 5.05s\n",
      "294:\tlearn: 0.1751371\ttotal: 2.11s\tremaining: 5.03s\n",
      "295:\tlearn: 0.1747459\ttotal: 2.15s\tremaining: 5.11s\n",
      "296:\tlearn: 0.1742152\ttotal: 2.16s\tremaining: 5.11s\n",
      "297:\tlearn: 0.1737329\ttotal: 2.16s\tremaining: 5.1s\n",
      "298:\tlearn: 0.1736323\ttotal: 2.17s\tremaining: 5.08s\n",
      "299:\tlearn: 0.1731571\ttotal: 2.17s\tremaining: 5.06s\n",
      "300:\tlearn: 0.1730803\ttotal: 2.17s\tremaining: 5.05s\n",
      "301:\tlearn: 0.1728596\ttotal: 2.18s\tremaining: 5.03s\n",
      "302:\tlearn: 0.1723489\ttotal: 2.18s\tremaining: 5.01s\n",
      "303:\tlearn: 0.1718416\ttotal: 2.19s\tremaining: 5s\n",
      "304:\tlearn: 0.1717290\ttotal: 2.19s\tremaining: 4.98s\n",
      "305:\tlearn: 0.1711959\ttotal: 2.19s\tremaining: 4.96s\n",
      "306:\tlearn: 0.1711177\ttotal: 2.19s\tremaining: 4.95s\n",
      "307:\tlearn: 0.1707649\ttotal: 2.2s\tremaining: 4.94s\n",
      "308:\tlearn: 0.1702653\ttotal: 2.2s\tremaining: 4.92s\n",
      "309:\tlearn: 0.1698770\ttotal: 2.2s\tremaining: 4.9s\n",
      "310:\tlearn: 0.1694916\ttotal: 2.2s\tremaining: 4.88s\n",
      "311:\tlearn: 0.1692274\ttotal: 2.21s\tremaining: 4.87s\n",
      "312:\tlearn: 0.1691287\ttotal: 2.21s\tremaining: 4.85s\n",
      "313:\tlearn: 0.1686496\ttotal: 2.21s\tremaining: 4.83s\n",
      "314:\tlearn: 0.1681148\ttotal: 2.21s\tremaining: 4.81s\n",
      "315:\tlearn: 0.1676943\ttotal: 2.21s\tremaining: 4.79s\n",
      "316:\tlearn: 0.1672064\ttotal: 2.21s\tremaining: 4.77s\n",
      "317:\tlearn: 0.1667774\ttotal: 2.22s\tremaining: 4.76s\n",
      "318:\tlearn: 0.1661800\ttotal: 2.22s\tremaining: 4.74s\n",
      "319:\tlearn: 0.1660981\ttotal: 2.22s\tremaining: 4.72s\n",
      "320:\tlearn: 0.1656092\ttotal: 2.23s\tremaining: 4.71s\n",
      "321:\tlearn: 0.1654194\ttotal: 2.23s\tremaining: 4.69s\n",
      "322:\tlearn: 0.1653215\ttotal: 2.23s\tremaining: 4.68s\n",
      "323:\tlearn: 0.1649904\ttotal: 2.23s\tremaining: 4.66s\n",
      "324:\tlearn: 0.1647847\ttotal: 2.23s\tremaining: 4.64s\n",
      "325:\tlearn: 0.1643666\ttotal: 2.24s\tremaining: 4.62s\n",
      "326:\tlearn: 0.1638030\ttotal: 2.24s\tremaining: 4.61s\n",
      "327:\tlearn: 0.1636948\ttotal: 2.24s\tremaining: 4.59s\n",
      "328:\tlearn: 0.1633633\ttotal: 2.24s\tremaining: 4.57s\n",
      "329:\tlearn: 0.1631405\ttotal: 2.24s\tremaining: 4.55s\n",
      "330:\tlearn: 0.1626920\ttotal: 2.25s\tremaining: 4.54s\n",
      "331:\tlearn: 0.1623145\ttotal: 2.25s\tremaining: 4.52s\n",
      "332:\tlearn: 0.1619930\ttotal: 2.25s\tremaining: 4.5s\n",
      "333:\tlearn: 0.1615826\ttotal: 2.25s\tremaining: 4.49s\n",
      "334:\tlearn: 0.1610992\ttotal: 2.25s\tremaining: 4.47s\n",
      "335:\tlearn: 0.1606432\ttotal: 2.26s\tremaining: 4.46s\n",
      "336:\tlearn: 0.1604836\ttotal: 2.26s\tremaining: 4.45s\n",
      "337:\tlearn: 0.1599924\ttotal: 2.26s\tremaining: 4.43s\n",
      "338:\tlearn: 0.1595787\ttotal: 2.26s\tremaining: 4.42s\n",
      "339:\tlearn: 0.1591065\ttotal: 2.27s\tremaining: 4.4s\n",
      "340:\tlearn: 0.1587127\ttotal: 2.27s\tremaining: 4.39s\n"
     ]
    },
    {
     "name": "stdout",
     "output_type": "stream",
     "text": [
      "341:\tlearn: 0.1582913\ttotal: 2.27s\tremaining: 4.37s\n",
      "342:\tlearn: 0.1579761\ttotal: 2.27s\tremaining: 4.36s\n",
      "343:\tlearn: 0.1575467\ttotal: 2.28s\tremaining: 4.34s\n",
      "344:\tlearn: 0.1573929\ttotal: 2.28s\tremaining: 4.33s\n",
      "345:\tlearn: 0.1570906\ttotal: 2.28s\tremaining: 4.32s\n",
      "346:\tlearn: 0.1567784\ttotal: 2.29s\tremaining: 4.3s\n",
      "347:\tlearn: 0.1565671\ttotal: 2.29s\tremaining: 4.29s\n",
      "348:\tlearn: 0.1560550\ttotal: 2.3s\tremaining: 4.29s\n",
      "349:\tlearn: 0.1557423\ttotal: 2.35s\tremaining: 4.36s\n",
      "350:\tlearn: 0.1553601\ttotal: 2.36s\tremaining: 4.36s\n",
      "351:\tlearn: 0.1551849\ttotal: 2.36s\tremaining: 4.34s\n",
      "352:\tlearn: 0.1549454\ttotal: 2.36s\tremaining: 4.33s\n",
      "353:\tlearn: 0.1546076\ttotal: 2.37s\tremaining: 4.32s\n",
      "354:\tlearn: 0.1543380\ttotal: 2.37s\tremaining: 4.3s\n",
      "355:\tlearn: 0.1539769\ttotal: 2.37s\tremaining: 4.29s\n",
      "356:\tlearn: 0.1539008\ttotal: 2.38s\tremaining: 4.28s\n",
      "357:\tlearn: 0.1534804\ttotal: 2.38s\tremaining: 4.27s\n",
      "358:\tlearn: 0.1532666\ttotal: 2.39s\tremaining: 4.26s\n",
      "359:\tlearn: 0.1528077\ttotal: 2.39s\tremaining: 4.26s\n",
      "360:\tlearn: 0.1524038\ttotal: 2.4s\tremaining: 4.24s\n",
      "361:\tlearn: 0.1520363\ttotal: 2.4s\tremaining: 4.23s\n",
      "362:\tlearn: 0.1516835\ttotal: 2.4s\tremaining: 4.22s\n",
      "363:\tlearn: 0.1513682\ttotal: 2.41s\tremaining: 4.2s\n",
      "364:\tlearn: 0.1512233\ttotal: 2.41s\tremaining: 4.19s\n",
      "365:\tlearn: 0.1508518\ttotal: 2.42s\tremaining: 4.19s\n",
      "366:\tlearn: 0.1505147\ttotal: 2.43s\tremaining: 4.19s\n",
      "367:\tlearn: 0.1503678\ttotal: 2.43s\tremaining: 4.18s\n",
      "368:\tlearn: 0.1498639\ttotal: 2.43s\tremaining: 4.16s\n",
      "369:\tlearn: 0.1494770\ttotal: 2.44s\tremaining: 4.15s\n",
      "370:\tlearn: 0.1492688\ttotal: 2.44s\tremaining: 4.13s\n"
     ]
    },
    {
     "name": "stdout",
     "output_type": "stream",
     "text": [
      "371:\tlearn: 0.1489598\ttotal: 2.44s\tremaining: 4.12s\n",
      "372:\tlearn: 0.1488880\ttotal: 2.44s\tremaining: 4.11s\n",
      "373:\tlearn: 0.1485874\ttotal: 2.44s\tremaining: 4.09s\n",
      "374:\tlearn: 0.1481343\ttotal: 2.45s\tremaining: 4.08s\n",
      "375:\tlearn: 0.1480625\ttotal: 2.45s\tremaining: 4.06s\n",
      "376:\tlearn: 0.1477355\ttotal: 2.45s\tremaining: 4.05s\n",
      "377:\tlearn: 0.1475277\ttotal: 2.45s\tremaining: 4.04s\n",
      "378:\tlearn: 0.1474167\ttotal: 2.46s\tremaining: 4.02s\n",
      "379:\tlearn: 0.1470939\ttotal: 2.46s\tremaining: 4.01s\n",
      "380:\tlearn: 0.1470051\ttotal: 2.46s\tremaining: 4s\n",
      "381:\tlearn: 0.1466088\ttotal: 2.46s\tremaining: 3.98s\n",
      "382:\tlearn: 0.1462985\ttotal: 2.46s\tremaining: 3.97s\n",
      "383:\tlearn: 0.1461715\ttotal: 2.46s\tremaining: 3.96s\n",
      "384:\tlearn: 0.1457159\ttotal: 2.47s\tremaining: 3.94s\n",
      "385:\tlearn: 0.1453755\ttotal: 2.47s\tremaining: 3.93s\n",
      "386:\tlearn: 0.1452780\ttotal: 2.47s\tremaining: 3.92s\n",
      "387:\tlearn: 0.1450238\ttotal: 2.48s\tremaining: 3.9s\n",
      "388:\tlearn: 0.1449395\ttotal: 2.48s\tremaining: 3.89s\n",
      "389:\tlearn: 0.1446722\ttotal: 2.48s\tremaining: 3.88s\n",
      "390:\tlearn: 0.1445873\ttotal: 2.48s\tremaining: 3.87s\n",
      "391:\tlearn: 0.1445150\ttotal: 2.48s\tremaining: 3.85s\n",
      "392:\tlearn: 0.1444243\ttotal: 2.49s\tremaining: 3.84s\n",
      "393:\tlearn: 0.1443399\ttotal: 2.49s\tremaining: 3.83s\n",
      "394:\tlearn: 0.1441023\ttotal: 2.49s\tremaining: 3.82s\n",
      "395:\tlearn: 0.1437586\ttotal: 2.5s\tremaining: 3.81s\n",
      "396:\tlearn: 0.1434196\ttotal: 2.5s\tremaining: 3.79s\n",
      "397:\tlearn: 0.1433653\ttotal: 2.5s\tremaining: 3.78s\n",
      "398:\tlearn: 0.1430616\ttotal: 2.5s\tremaining: 3.77s\n",
      "399:\tlearn: 0.1426208\ttotal: 2.5s\tremaining: 3.76s\n",
      "400:\tlearn: 0.1422212\ttotal: 2.5s\tremaining: 3.74s\n",
      "401:\tlearn: 0.1419244\ttotal: 2.51s\tremaining: 3.73s\n",
      "402:\tlearn: 0.1417516\ttotal: 2.51s\tremaining: 3.72s\n",
      "403:\tlearn: 0.1413012\ttotal: 2.51s\tremaining: 3.71s\n",
      "404:\tlearn: 0.1409197\ttotal: 2.52s\tremaining: 3.7s\n",
      "405:\tlearn: 0.1405815\ttotal: 2.52s\tremaining: 3.69s\n",
      "406:\tlearn: 0.1405144\ttotal: 2.52s\tremaining: 3.67s\n",
      "407:\tlearn: 0.1404472\ttotal: 2.52s\tremaining: 3.66s\n",
      "408:\tlearn: 0.1400148\ttotal: 2.52s\tremaining: 3.65s\n",
      "409:\tlearn: 0.1399611\ttotal: 2.53s\tremaining: 3.64s\n",
      "410:\tlearn: 0.1396386\ttotal: 2.53s\tremaining: 3.63s\n",
      "411:\tlearn: 0.1394438\ttotal: 2.53s\tremaining: 3.62s\n",
      "412:\tlearn: 0.1391843\ttotal: 2.54s\tremaining: 3.6s\n",
      "413:\tlearn: 0.1388888\ttotal: 2.54s\tremaining: 3.59s\n",
      "414:\tlearn: 0.1388369\ttotal: 2.54s\tremaining: 3.58s\n",
      "415:\tlearn: 0.1386569\ttotal: 2.54s\tremaining: 3.57s\n",
      "416:\tlearn: 0.1384790\ttotal: 2.55s\tremaining: 3.56s\n",
      "417:\tlearn: 0.1381356\ttotal: 2.55s\tremaining: 3.55s\n",
      "418:\tlearn: 0.1378579\ttotal: 2.55s\tremaining: 3.54s\n",
      "419:\tlearn: 0.1376273\ttotal: 2.55s\tremaining: 3.53s\n",
      "420:\tlearn: 0.1373204\ttotal: 2.56s\tremaining: 3.52s\n",
      "421:\tlearn: 0.1369942\ttotal: 2.56s\tremaining: 3.5s\n",
      "422:\tlearn: 0.1368097\ttotal: 2.56s\tremaining: 3.5s\n",
      "423:\tlearn: 0.1365758\ttotal: 2.56s\tremaining: 3.48s\n",
      "424:\tlearn: 0.1363468\ttotal: 2.57s\tremaining: 3.47s\n",
      "425:\tlearn: 0.1358450\ttotal: 2.57s\tremaining: 3.46s\n",
      "426:\tlearn: 0.1355985\ttotal: 2.57s\tremaining: 3.45s\n",
      "427:\tlearn: 0.1353349\ttotal: 2.57s\tremaining: 3.44s\n",
      "428:\tlearn: 0.1349293\ttotal: 2.58s\tremaining: 3.43s\n",
      "429:\tlearn: 0.1346739\ttotal: 2.58s\tremaining: 3.42s\n",
      "430:\tlearn: 0.1344962\ttotal: 2.58s\tremaining: 3.41s\n",
      "431:\tlearn: 0.1343668\ttotal: 2.58s\tremaining: 3.4s\n",
      "432:\tlearn: 0.1341112\ttotal: 2.59s\tremaining: 3.39s\n",
      "433:\tlearn: 0.1337947\ttotal: 2.59s\tremaining: 3.38s\n",
      "434:\tlearn: 0.1334705\ttotal: 2.59s\tremaining: 3.37s\n",
      "435:\tlearn: 0.1333976\ttotal: 2.59s\tremaining: 3.36s\n",
      "436:\tlearn: 0.1333406\ttotal: 2.6s\tremaining: 3.35s\n",
      "437:\tlearn: 0.1332685\ttotal: 2.6s\tremaining: 3.33s\n",
      "438:\tlearn: 0.1328636\ttotal: 2.6s\tremaining: 3.32s\n",
      "439:\tlearn: 0.1324399\ttotal: 2.6s\tremaining: 3.31s\n",
      "440:\tlearn: 0.1323233\ttotal: 2.61s\tremaining: 3.3s\n",
      "441:\tlearn: 0.1320159\ttotal: 2.61s\tremaining: 3.29s\n",
      "442:\tlearn: 0.1318067\ttotal: 2.61s\tremaining: 3.28s\n",
      "443:\tlearn: 0.1317311\ttotal: 2.61s\tremaining: 3.27s\n"
     ]
    },
    {
     "name": "stdout",
     "output_type": "stream",
     "text": [
      "444:\tlearn: 0.1314206\ttotal: 2.62s\tremaining: 3.26s\n",
      "445:\tlearn: 0.1313883\ttotal: 2.62s\tremaining: 3.25s\n",
      "446:\tlearn: 0.1309982\ttotal: 2.62s\tremaining: 3.24s\n",
      "447:\tlearn: 0.1306720\ttotal: 2.62s\tremaining: 3.23s\n",
      "448:\tlearn: 0.1305155\ttotal: 2.63s\tremaining: 3.22s\n",
      "449:\tlearn: 0.1302215\ttotal: 2.63s\tremaining: 3.21s\n",
      "450:\tlearn: 0.1300372\ttotal: 2.63s\tremaining: 3.21s\n",
      "451:\tlearn: 0.1298830\ttotal: 2.63s\tremaining: 3.19s\n",
      "452:\tlearn: 0.1298402\ttotal: 2.64s\tremaining: 3.19s\n",
      "453:\tlearn: 0.1297522\ttotal: 2.64s\tremaining: 3.17s\n",
      "454:\tlearn: 0.1294622\ttotal: 2.64s\tremaining: 3.17s\n",
      "455:\tlearn: 0.1291446\ttotal: 2.65s\tremaining: 3.16s\n",
      "456:\tlearn: 0.1287538\ttotal: 2.65s\tremaining: 3.15s\n",
      "457:\tlearn: 0.1284615\ttotal: 2.65s\tremaining: 3.14s\n",
      "458:\tlearn: 0.1281732\ttotal: 2.65s\tremaining: 3.13s\n",
      "459:\tlearn: 0.1278346\ttotal: 2.65s\tremaining: 3.12s\n",
      "460:\tlearn: 0.1276816\ttotal: 2.66s\tremaining: 3.11s\n",
      "461:\tlearn: 0.1273473\ttotal: 2.66s\tremaining: 3.1s\n",
      "462:\tlearn: 0.1271152\ttotal: 2.66s\tremaining: 3.09s\n",
      "463:\tlearn: 0.1269372\ttotal: 2.67s\tremaining: 3.08s\n",
      "464:\tlearn: 0.1268146\ttotal: 2.67s\tremaining: 3.07s\n",
      "465:\tlearn: 0.1267144\ttotal: 2.67s\tremaining: 3.06s\n",
      "466:\tlearn: 0.1262951\ttotal: 2.67s\tremaining: 3.05s\n",
      "467:\tlearn: 0.1261275\ttotal: 2.67s\tremaining: 3.04s\n",
      "468:\tlearn: 0.1259155\ttotal: 2.68s\tremaining: 3.03s\n",
      "469:\tlearn: 0.1254896\ttotal: 2.68s\tremaining: 3.02s\n",
      "470:\tlearn: 0.1252389\ttotal: 2.68s\tremaining: 3.01s\n",
      "471:\tlearn: 0.1248328\ttotal: 2.68s\tremaining: 3s\n",
      "472:\tlearn: 0.1244488\ttotal: 2.69s\tremaining: 2.99s\n",
      "473:\tlearn: 0.1240783\ttotal: 2.69s\tremaining: 2.98s\n",
      "474:\tlearn: 0.1240436\ttotal: 2.69s\tremaining: 2.97s\n",
      "475:\tlearn: 0.1237497\ttotal: 2.69s\tremaining: 2.96s\n",
      "476:\tlearn: 0.1236090\ttotal: 2.69s\tremaining: 2.95s\n",
      "477:\tlearn: 0.1233876\ttotal: 2.69s\tremaining: 2.94s\n",
      "478:\tlearn: 0.1231881\ttotal: 2.7s\tremaining: 2.93s\n",
      "479:\tlearn: 0.1230174\ttotal: 2.7s\tremaining: 2.92s\n",
      "480:\tlearn: 0.1228415\ttotal: 2.7s\tremaining: 2.92s\n",
      "481:\tlearn: 0.1225495\ttotal: 2.7s\tremaining: 2.9s\n",
      "482:\tlearn: 0.1221603\ttotal: 2.71s\tremaining: 2.9s\n",
      "483:\tlearn: 0.1219855\ttotal: 2.71s\tremaining: 2.89s\n",
      "484:\tlearn: 0.1216241\ttotal: 2.71s\tremaining: 2.88s\n",
      "485:\tlearn: 0.1214706\ttotal: 2.71s\tremaining: 2.87s\n",
      "486:\tlearn: 0.1211416\ttotal: 2.72s\tremaining: 2.86s\n",
      "487:\tlearn: 0.1208111\ttotal: 2.72s\tremaining: 2.85s\n",
      "488:\tlearn: 0.1204513\ttotal: 2.72s\tremaining: 2.84s\n",
      "489:\tlearn: 0.1202538\ttotal: 2.72s\tremaining: 2.83s\n",
      "490:\tlearn: 0.1202156\ttotal: 2.73s\tremaining: 2.83s\n",
      "491:\tlearn: 0.1199122\ttotal: 2.73s\tremaining: 2.82s\n",
      "492:\tlearn: 0.1196503\ttotal: 2.73s\tremaining: 2.81s\n",
      "493:\tlearn: 0.1193809\ttotal: 2.73s\tremaining: 2.8s\n",
      "494:\tlearn: 0.1190744\ttotal: 2.73s\tremaining: 2.79s\n",
      "495:\tlearn: 0.1189408\ttotal: 2.74s\tremaining: 2.78s\n",
      "496:\tlearn: 0.1186224\ttotal: 2.74s\tremaining: 2.77s\n",
      "497:\tlearn: 0.1183300\ttotal: 2.74s\tremaining: 2.76s\n",
      "498:\tlearn: 0.1181317\ttotal: 2.74s\tremaining: 2.75s\n",
      "499:\tlearn: 0.1179706\ttotal: 2.75s\tremaining: 2.75s\n",
      "500:\tlearn: 0.1177083\ttotal: 2.75s\tremaining: 2.74s\n",
      "501:\tlearn: 0.1175015\ttotal: 2.75s\tremaining: 2.73s\n",
      "502:\tlearn: 0.1171979\ttotal: 2.75s\tremaining: 2.72s\n",
      "503:\tlearn: 0.1169869\ttotal: 2.75s\tremaining: 2.71s\n",
      "504:\tlearn: 0.1167416\ttotal: 2.75s\tremaining: 2.7s\n",
      "505:\tlearn: 0.1165526\ttotal: 2.76s\tremaining: 2.69s\n",
      "506:\tlearn: 0.1164714\ttotal: 2.76s\tremaining: 2.68s\n",
      "507:\tlearn: 0.1162489\ttotal: 2.76s\tremaining: 2.67s\n",
      "508:\tlearn: 0.1161090\ttotal: 2.76s\tremaining: 2.67s\n",
      "509:\tlearn: 0.1157780\ttotal: 2.76s\tremaining: 2.66s\n",
      "510:\tlearn: 0.1154907\ttotal: 2.77s\tremaining: 2.65s\n",
      "511:\tlearn: 0.1153760\ttotal: 2.77s\tremaining: 2.64s\n",
      "512:\tlearn: 0.1150783\ttotal: 2.77s\tremaining: 2.63s\n",
      "513:\tlearn: 0.1150616\ttotal: 2.77s\tremaining: 2.62s\n",
      "514:\tlearn: 0.1149553\ttotal: 2.77s\tremaining: 2.61s\n",
      "515:\tlearn: 0.1147601\ttotal: 2.78s\tremaining: 2.6s\n",
      "516:\tlearn: 0.1147389\ttotal: 2.78s\tremaining: 2.6s\n",
      "517:\tlearn: 0.1146644\ttotal: 2.78s\tremaining: 2.59s\n",
      "518:\tlearn: 0.1145871\ttotal: 2.78s\tremaining: 2.58s\n",
      "519:\tlearn: 0.1144582\ttotal: 2.79s\tremaining: 2.57s\n",
      "520:\tlearn: 0.1141883\ttotal: 2.79s\tremaining: 2.56s\n",
      "521:\tlearn: 0.1141700\ttotal: 2.79s\tremaining: 2.55s\n",
      "522:\tlearn: 0.1138350\ttotal: 2.79s\tremaining: 2.54s\n",
      "523:\tlearn: 0.1134703\ttotal: 2.79s\tremaining: 2.54s\n"
     ]
    },
    {
     "name": "stdout",
     "output_type": "stream",
     "text": [
      "524:\tlearn: 0.1133135\ttotal: 2.8s\tremaining: 2.53s\n",
      "525:\tlearn: 0.1130913\ttotal: 2.8s\tremaining: 2.52s\n",
      "526:\tlearn: 0.1128654\ttotal: 2.8s\tremaining: 2.52s\n",
      "527:\tlearn: 0.1126990\ttotal: 2.81s\tremaining: 2.51s\n",
      "528:\tlearn: 0.1126793\ttotal: 2.81s\tremaining: 2.5s\n",
      "529:\tlearn: 0.1126545\ttotal: 2.81s\tremaining: 2.49s\n",
      "530:\tlearn: 0.1124413\ttotal: 2.81s\tremaining: 2.48s\n",
      "531:\tlearn: 0.1121793\ttotal: 2.81s\tremaining: 2.48s\n",
      "532:\tlearn: 0.1119703\ttotal: 2.82s\tremaining: 2.47s\n",
      "533:\tlearn: 0.1118605\ttotal: 2.82s\tremaining: 2.46s\n",
      "534:\tlearn: 0.1116498\ttotal: 2.82s\tremaining: 2.45s\n",
      "535:\tlearn: 0.1115438\ttotal: 2.83s\tremaining: 2.45s\n",
      "536:\tlearn: 0.1113197\ttotal: 2.83s\tremaining: 2.44s\n",
      "537:\tlearn: 0.1110697\ttotal: 2.83s\tremaining: 2.43s\n",
      "538:\tlearn: 0.1109495\ttotal: 2.83s\tremaining: 2.42s\n",
      "539:\tlearn: 0.1106147\ttotal: 2.83s\tremaining: 2.41s\n",
      "540:\tlearn: 0.1103084\ttotal: 2.84s\tremaining: 2.41s\n",
      "541:\tlearn: 0.1100568\ttotal: 2.84s\tremaining: 2.4s\n",
      "542:\tlearn: 0.1097610\ttotal: 2.84s\tremaining: 2.39s\n",
      "543:\tlearn: 0.1095872\ttotal: 2.85s\tremaining: 2.38s\n",
      "544:\tlearn: 0.1093007\ttotal: 2.85s\tremaining: 2.38s\n",
      "545:\tlearn: 0.1092281\ttotal: 2.85s\tremaining: 2.37s\n",
      "546:\tlearn: 0.1091630\ttotal: 2.85s\tremaining: 2.36s\n",
      "547:\tlearn: 0.1091333\ttotal: 2.85s\tremaining: 2.35s\n",
      "548:\tlearn: 0.1089498\ttotal: 2.86s\tremaining: 2.35s\n",
      "549:\tlearn: 0.1088825\ttotal: 2.86s\tremaining: 2.34s\n",
      "550:\tlearn: 0.1086824\ttotal: 2.86s\tremaining: 2.33s\n",
      "551:\tlearn: 0.1084107\ttotal: 2.87s\tremaining: 2.33s\n",
      "552:\tlearn: 0.1081682\ttotal: 2.87s\tremaining: 2.32s\n",
      "553:\tlearn: 0.1079135\ttotal: 2.87s\tremaining: 2.31s\n",
      "554:\tlearn: 0.1076137\ttotal: 2.87s\tremaining: 2.3s\n",
      "555:\tlearn: 0.1073358\ttotal: 2.88s\tremaining: 2.3s\n",
      "556:\tlearn: 0.1070802\ttotal: 2.88s\tremaining: 2.29s\n",
      "557:\tlearn: 0.1069151\ttotal: 2.88s\tremaining: 2.28s\n",
      "558:\tlearn: 0.1067553\ttotal: 2.88s\tremaining: 2.27s\n",
      "559:\tlearn: 0.1065194\ttotal: 2.88s\tremaining: 2.27s\n",
      "560:\tlearn: 0.1062521\ttotal: 2.89s\tremaining: 2.26s\n",
      "561:\tlearn: 0.1059892\ttotal: 2.89s\tremaining: 2.25s\n",
      "562:\tlearn: 0.1058341\ttotal: 2.89s\tremaining: 2.25s\n",
      "563:\tlearn: 0.1057601\ttotal: 2.9s\tremaining: 2.24s\n",
      "564:\tlearn: 0.1056171\ttotal: 2.9s\tremaining: 2.23s\n",
      "565:\tlearn: 0.1055202\ttotal: 2.9s\tremaining: 2.22s\n",
      "566:\tlearn: 0.1053979\ttotal: 2.9s\tremaining: 2.22s\n",
      "567:\tlearn: 0.1053479\ttotal: 2.9s\tremaining: 2.21s\n",
      "568:\tlearn: 0.1051252\ttotal: 2.91s\tremaining: 2.2s\n",
      "569:\tlearn: 0.1049101\ttotal: 2.91s\tremaining: 2.19s\n",
      "570:\tlearn: 0.1046993\ttotal: 2.91s\tremaining: 2.19s\n",
      "571:\tlearn: 0.1045464\ttotal: 2.91s\tremaining: 2.18s\n",
      "572:\tlearn: 0.1044369\ttotal: 2.91s\tremaining: 2.17s\n",
      "573:\tlearn: 0.1041852\ttotal: 2.92s\tremaining: 2.16s\n",
      "574:\tlearn: 0.1040176\ttotal: 2.92s\tremaining: 2.16s\n",
      "575:\tlearn: 0.1038258\ttotal: 2.92s\tremaining: 2.15s\n",
      "576:\tlearn: 0.1035999\ttotal: 2.92s\tremaining: 2.14s\n",
      "577:\tlearn: 0.1033371\ttotal: 2.92s\tremaining: 2.13s\n",
      "578:\tlearn: 0.1032328\ttotal: 2.92s\tremaining: 2.13s\n",
      "579:\tlearn: 0.1031472\ttotal: 2.93s\tremaining: 2.12s\n",
      "580:\tlearn: 0.1030349\ttotal: 2.93s\tremaining: 2.11s\n",
      "581:\tlearn: 0.1029046\ttotal: 2.93s\tremaining: 2.1s\n",
      "582:\tlearn: 0.1028264\ttotal: 2.93s\tremaining: 2.1s\n",
      "583:\tlearn: 0.1027011\ttotal: 2.94s\tremaining: 2.09s\n",
      "584:\tlearn: 0.1025047\ttotal: 2.94s\tremaining: 2.08s\n",
      "585:\tlearn: 0.1024020\ttotal: 2.94s\tremaining: 2.08s\n",
      "586:\tlearn: 0.1022261\ttotal: 2.94s\tremaining: 2.07s\n",
      "587:\tlearn: 0.1020244\ttotal: 2.94s\tremaining: 2.06s\n",
      "588:\tlearn: 0.1017737\ttotal: 2.95s\tremaining: 2.06s\n",
      "589:\tlearn: 0.1015566\ttotal: 2.95s\tremaining: 2.05s\n",
      "590:\tlearn: 0.1014990\ttotal: 2.95s\tremaining: 2.04s\n",
      "591:\tlearn: 0.1012637\ttotal: 2.95s\tremaining: 2.03s\n",
      "592:\tlearn: 0.1010406\ttotal: 2.95s\tremaining: 2.03s\n",
      "593:\tlearn: 0.1010202\ttotal: 2.96s\tremaining: 2.02s\n",
      "594:\tlearn: 0.1007799\ttotal: 2.96s\tremaining: 2.01s\n",
      "595:\tlearn: 0.1006436\ttotal: 2.96s\tremaining: 2.01s\n",
      "596:\tlearn: 0.1004424\ttotal: 2.96s\tremaining: 2s\n",
      "597:\tlearn: 0.1003904\ttotal: 2.96s\tremaining: 1.99s\n",
      "598:\tlearn: 0.1002097\ttotal: 2.97s\tremaining: 1.99s\n",
      "599:\tlearn: 0.1001176\ttotal: 2.97s\tremaining: 1.98s\n",
      "600:\tlearn: 0.0998562\ttotal: 2.97s\tremaining: 1.97s\n",
      "601:\tlearn: 0.0997218\ttotal: 2.97s\tremaining: 1.96s\n"
     ]
    },
    {
     "name": "stdout",
     "output_type": "stream",
     "text": [
      "602:\tlearn: 0.0995909\ttotal: 2.97s\tremaining: 1.96s\n",
      "603:\tlearn: 0.0993920\ttotal: 2.98s\tremaining: 1.95s\n",
      "604:\tlearn: 0.0992033\ttotal: 2.98s\tremaining: 1.95s\n",
      "605:\tlearn: 0.0990638\ttotal: 2.98s\tremaining: 1.94s\n",
      "606:\tlearn: 0.0988984\ttotal: 2.98s\tremaining: 1.93s\n",
      "607:\tlearn: 0.0987776\ttotal: 2.99s\tremaining: 1.93s\n",
      "608:\tlearn: 0.0985422\ttotal: 2.99s\tremaining: 1.92s\n",
      "609:\tlearn: 0.0984556\ttotal: 2.99s\tremaining: 1.91s\n",
      "610:\tlearn: 0.0983869\ttotal: 2.99s\tremaining: 1.91s\n",
      "611:\tlearn: 0.0981525\ttotal: 2.99s\tremaining: 1.9s\n",
      "612:\tlearn: 0.0979016\ttotal: 3s\tremaining: 1.89s\n",
      "613:\tlearn: 0.0977593\ttotal: 3s\tremaining: 1.88s\n",
      "614:\tlearn: 0.0975021\ttotal: 3s\tremaining: 1.88s\n",
      "615:\tlearn: 0.0974275\ttotal: 3s\tremaining: 1.87s\n",
      "616:\tlearn: 0.0972619\ttotal: 3s\tremaining: 1.86s\n",
      "617:\tlearn: 0.0971422\ttotal: 3.01s\tremaining: 1.86s\n",
      "618:\tlearn: 0.0970910\ttotal: 3.01s\tremaining: 1.85s\n",
      "619:\tlearn: 0.0969128\ttotal: 3.01s\tremaining: 1.84s\n",
      "620:\tlearn: 0.0967886\ttotal: 3.01s\tremaining: 1.84s\n",
      "621:\tlearn: 0.0966694\ttotal: 3.01s\tremaining: 1.83s\n",
      "622:\tlearn: 0.0966216\ttotal: 3.02s\tremaining: 1.82s\n",
      "623:\tlearn: 0.0964808\ttotal: 3.02s\tremaining: 1.82s\n",
      "624:\tlearn: 0.0963462\ttotal: 3.02s\tremaining: 1.81s\n",
      "625:\tlearn: 0.0962530\ttotal: 3.02s\tremaining: 1.81s\n",
      "626:\tlearn: 0.0961783\ttotal: 3.03s\tremaining: 1.8s\n",
      "627:\tlearn: 0.0960484\ttotal: 3.03s\tremaining: 1.79s\n",
      "628:\tlearn: 0.0959352\ttotal: 3.03s\tremaining: 1.79s\n",
      "629:\tlearn: 0.0959189\ttotal: 3.04s\tremaining: 1.78s\n",
      "630:\tlearn: 0.0957822\ttotal: 3.04s\tremaining: 1.78s\n",
      "631:\tlearn: 0.0955596\ttotal: 3.04s\tremaining: 1.77s\n",
      "632:\tlearn: 0.0954448\ttotal: 3.04s\tremaining: 1.76s\n",
      "633:\tlearn: 0.0953093\ttotal: 3.05s\tremaining: 1.76s\n",
      "634:\tlearn: 0.0951536\ttotal: 3.05s\tremaining: 1.75s\n",
      "635:\tlearn: 0.0950215\ttotal: 3.05s\tremaining: 1.75s\n",
      "636:\tlearn: 0.0947903\ttotal: 3.05s\tremaining: 1.74s\n",
      "637:\tlearn: 0.0946719\ttotal: 3.06s\tremaining: 1.73s\n",
      "638:\tlearn: 0.0944313\ttotal: 3.06s\tremaining: 1.73s\n",
      "639:\tlearn: 0.0942148\ttotal: 3.06s\tremaining: 1.72s\n",
      "640:\tlearn: 0.0939851\ttotal: 3.06s\tremaining: 1.72s\n",
      "641:\tlearn: 0.0938551\ttotal: 3.07s\tremaining: 1.71s\n",
      "642:\tlearn: 0.0936964\ttotal: 3.07s\tremaining: 1.7s\n",
      "643:\tlearn: 0.0934757\ttotal: 3.07s\tremaining: 1.7s\n",
      "644:\tlearn: 0.0934592\ttotal: 3.07s\tremaining: 1.69s\n",
      "645:\tlearn: 0.0932699\ttotal: 3.08s\tremaining: 1.69s\n",
      "646:\tlearn: 0.0931413\ttotal: 3.08s\tremaining: 1.68s\n",
      "647:\tlearn: 0.0928887\ttotal: 3.08s\tremaining: 1.67s\n",
      "648:\tlearn: 0.0927021\ttotal: 3.08s\tremaining: 1.67s\n",
      "649:\tlearn: 0.0925777\ttotal: 3.09s\tremaining: 1.66s\n",
      "650:\tlearn: 0.0923350\ttotal: 3.09s\tremaining: 1.66s\n",
      "651:\tlearn: 0.0920642\ttotal: 3.09s\tremaining: 1.65s\n",
      "652:\tlearn: 0.0919699\ttotal: 3.09s\tremaining: 1.64s\n",
      "653:\tlearn: 0.0918671\ttotal: 3.1s\tremaining: 1.64s\n",
      "654:\tlearn: 0.0917245\ttotal: 3.1s\tremaining: 1.63s\n",
      "655:\tlearn: 0.0916135\ttotal: 3.1s\tremaining: 1.63s\n",
      "656:\tlearn: 0.0915394\ttotal: 3.1s\tremaining: 1.62s\n",
      "657:\tlearn: 0.0913546\ttotal: 3.11s\tremaining: 1.61s\n",
      "658:\tlearn: 0.0912214\ttotal: 3.11s\tremaining: 1.61s\n",
      "659:\tlearn: 0.0911709\ttotal: 3.11s\tremaining: 1.6s\n",
      "660:\tlearn: 0.0910288\ttotal: 3.12s\tremaining: 1.6s\n",
      "661:\tlearn: 0.0908476\ttotal: 3.12s\tremaining: 1.59s\n",
      "662:\tlearn: 0.0907057\ttotal: 3.12s\tremaining: 1.59s\n",
      "663:\tlearn: 0.0905723\ttotal: 3.12s\tremaining: 1.58s\n",
      "664:\tlearn: 0.0904487\ttotal: 3.13s\tremaining: 1.57s\n",
      "665:\tlearn: 0.0902821\ttotal: 3.13s\tremaining: 1.57s\n",
      "666:\tlearn: 0.0901744\ttotal: 3.13s\tremaining: 1.56s\n",
      "667:\tlearn: 0.0900686\ttotal: 3.14s\tremaining: 1.56s\n",
      "668:\tlearn: 0.0899266\ttotal: 3.14s\tremaining: 1.55s\n",
      "669:\tlearn: 0.0896612\ttotal: 3.14s\tremaining: 1.55s\n",
      "670:\tlearn: 0.0894457\ttotal: 3.15s\tremaining: 1.54s\n",
      "671:\tlearn: 0.0892380\ttotal: 3.15s\tremaining: 1.54s\n",
      "672:\tlearn: 0.0891571\ttotal: 3.15s\tremaining: 1.53s\n",
      "673:\tlearn: 0.0889690\ttotal: 3.15s\tremaining: 1.52s\n"
     ]
    },
    {
     "name": "stdout",
     "output_type": "stream",
     "text": [
      "674:\tlearn: 0.0888172\ttotal: 3.15s\tremaining: 1.52s\n",
      "675:\tlearn: 0.0886676\ttotal: 3.16s\tremaining: 1.51s\n",
      "676:\tlearn: 0.0886102\ttotal: 3.16s\tremaining: 1.51s\n",
      "677:\tlearn: 0.0885011\ttotal: 3.16s\tremaining: 1.5s\n",
      "678:\tlearn: 0.0883722\ttotal: 3.16s\tremaining: 1.5s\n",
      "679:\tlearn: 0.0883110\ttotal: 3.17s\tremaining: 1.49s\n",
      "680:\tlearn: 0.0881871\ttotal: 3.17s\tremaining: 1.48s\n",
      "681:\tlearn: 0.0880318\ttotal: 3.17s\tremaining: 1.48s\n",
      "682:\tlearn: 0.0878334\ttotal: 3.17s\tremaining: 1.47s\n",
      "683:\tlearn: 0.0876053\ttotal: 3.18s\tremaining: 1.47s\n",
      "684:\tlearn: 0.0874957\ttotal: 3.18s\tremaining: 1.46s\n",
      "685:\tlearn: 0.0874640\ttotal: 3.18s\tremaining: 1.46s\n",
      "686:\tlearn: 0.0873410\ttotal: 3.18s\tremaining: 1.45s\n",
      "687:\tlearn: 0.0873224\ttotal: 3.19s\tremaining: 1.44s\n",
      "688:\tlearn: 0.0872112\ttotal: 3.19s\tremaining: 1.44s\n",
      "689:\tlearn: 0.0871250\ttotal: 3.19s\tremaining: 1.43s\n",
      "690:\tlearn: 0.0869960\ttotal: 3.19s\tremaining: 1.43s\n",
      "691:\tlearn: 0.0868118\ttotal: 3.19s\tremaining: 1.42s\n",
      "692:\tlearn: 0.0866942\ttotal: 3.19s\tremaining: 1.42s\n",
      "693:\tlearn: 0.0864879\ttotal: 3.2s\tremaining: 1.41s\n",
      "694:\tlearn: 0.0864763\ttotal: 3.2s\tremaining: 1.4s\n",
      "695:\tlearn: 0.0863288\ttotal: 3.2s\tremaining: 1.4s\n",
      "696:\tlearn: 0.0861744\ttotal: 3.2s\tremaining: 1.39s\n",
      "697:\tlearn: 0.0860972\ttotal: 3.21s\tremaining: 1.39s\n",
      "698:\tlearn: 0.0859204\ttotal: 3.21s\tremaining: 1.38s\n",
      "699:\tlearn: 0.0859029\ttotal: 3.21s\tremaining: 1.38s\n",
      "700:\tlearn: 0.0856897\ttotal: 3.21s\tremaining: 1.37s\n",
      "701:\tlearn: 0.0855211\ttotal: 3.22s\tremaining: 1.37s\n",
      "702:\tlearn: 0.0854572\ttotal: 3.22s\tremaining: 1.36s\n",
      "703:\tlearn: 0.0852972\ttotal: 3.23s\tremaining: 1.36s\n",
      "704:\tlearn: 0.0851345\ttotal: 3.23s\tremaining: 1.35s\n",
      "705:\tlearn: 0.0849387\ttotal: 3.23s\tremaining: 1.34s\n",
      "706:\tlearn: 0.0848093\ttotal: 3.23s\tremaining: 1.34s\n",
      "707:\tlearn: 0.0846613\ttotal: 3.23s\tremaining: 1.33s\n",
      "708:\tlearn: 0.0844942\ttotal: 3.24s\tremaining: 1.33s\n",
      "709:\tlearn: 0.0843780\ttotal: 3.24s\tremaining: 1.32s\n",
      "710:\tlearn: 0.0841955\ttotal: 3.24s\tremaining: 1.32s\n",
      "711:\tlearn: 0.0839867\ttotal: 3.24s\tremaining: 1.31s\n",
      "712:\tlearn: 0.0838817\ttotal: 3.25s\tremaining: 1.31s\n",
      "713:\tlearn: 0.0837749\ttotal: 3.25s\tremaining: 1.3s\n",
      "714:\tlearn: 0.0836211\ttotal: 3.25s\tremaining: 1.3s\n",
      "715:\tlearn: 0.0834445\ttotal: 3.25s\tremaining: 1.29s\n",
      "716:\tlearn: 0.0832678\ttotal: 3.26s\tremaining: 1.29s\n",
      "717:\tlearn: 0.0831196\ttotal: 3.26s\tremaining: 1.28s\n",
      "718:\tlearn: 0.0829974\ttotal: 3.26s\tremaining: 1.27s\n",
      "719:\tlearn: 0.0828506\ttotal: 3.27s\tremaining: 1.27s\n",
      "720:\tlearn: 0.0827303\ttotal: 3.27s\tremaining: 1.26s\n",
      "721:\tlearn: 0.0826309\ttotal: 3.27s\tremaining: 1.26s\n",
      "722:\tlearn: 0.0824994\ttotal: 3.27s\tremaining: 1.25s\n",
      "723:\tlearn: 0.0822959\ttotal: 3.28s\tremaining: 1.25s\n",
      "724:\tlearn: 0.0821539\ttotal: 3.28s\tremaining: 1.24s\n",
      "725:\tlearn: 0.0819733\ttotal: 3.28s\tremaining: 1.24s\n",
      "726:\tlearn: 0.0818359\ttotal: 3.28s\tremaining: 1.23s\n",
      "727:\tlearn: 0.0817950\ttotal: 3.29s\tremaining: 1.23s\n",
      "728:\tlearn: 0.0816914\ttotal: 3.29s\tremaining: 1.22s\n",
      "729:\tlearn: 0.0814858\ttotal: 3.29s\tremaining: 1.22s\n",
      "730:\tlearn: 0.0813892\ttotal: 3.29s\tremaining: 1.21s\n",
      "731:\tlearn: 0.0812613\ttotal: 3.3s\tremaining: 1.21s\n",
      "732:\tlearn: 0.0812461\ttotal: 3.3s\tremaining: 1.2s\n",
      "733:\tlearn: 0.0811512\ttotal: 3.3s\tremaining: 1.2s\n",
      "734:\tlearn: 0.0809789\ttotal: 3.3s\tremaining: 1.19s\n",
      "735:\tlearn: 0.0807960\ttotal: 3.31s\tremaining: 1.19s\n",
      "736:\tlearn: 0.0806160\ttotal: 3.31s\tremaining: 1.18s\n",
      "737:\tlearn: 0.0804691\ttotal: 3.31s\tremaining: 1.18s\n",
      "738:\tlearn: 0.0804176\ttotal: 3.31s\tremaining: 1.17s\n",
      "739:\tlearn: 0.0804073\ttotal: 3.31s\tremaining: 1.17s\n",
      "740:\tlearn: 0.0803641\ttotal: 3.32s\tremaining: 1.16s\n",
      "741:\tlearn: 0.0802511\ttotal: 3.32s\tremaining: 1.15s\n",
      "742:\tlearn: 0.0801856\ttotal: 3.32s\tremaining: 1.15s\n",
      "743:\tlearn: 0.0800589\ttotal: 3.33s\tremaining: 1.14s\n",
      "744:\tlearn: 0.0799566\ttotal: 3.33s\tremaining: 1.14s\n",
      "745:\tlearn: 0.0798373\ttotal: 3.33s\tremaining: 1.13s\n"
     ]
    },
    {
     "name": "stdout",
     "output_type": "stream",
     "text": [
      "746:\tlearn: 0.0796190\ttotal: 3.33s\tremaining: 1.13s\n",
      "747:\tlearn: 0.0795032\ttotal: 3.34s\tremaining: 1.12s\n",
      "748:\tlearn: 0.0793405\ttotal: 3.34s\tremaining: 1.12s\n",
      "749:\tlearn: 0.0791497\ttotal: 3.34s\tremaining: 1.11s\n",
      "750:\tlearn: 0.0789696\ttotal: 3.34s\tremaining: 1.11s\n",
      "751:\tlearn: 0.0788273\ttotal: 3.35s\tremaining: 1.1s\n",
      "752:\tlearn: 0.0787253\ttotal: 3.35s\tremaining: 1.1s\n",
      "753:\tlearn: 0.0785251\ttotal: 3.35s\tremaining: 1.09s\n",
      "754:\tlearn: 0.0784606\ttotal: 3.35s\tremaining: 1.09s\n",
      "755:\tlearn: 0.0783319\ttotal: 3.35s\tremaining: 1.08s\n",
      "756:\tlearn: 0.0783090\ttotal: 3.35s\tremaining: 1.08s\n",
      "757:\tlearn: 0.0781982\ttotal: 3.36s\tremaining: 1.07s\n",
      "758:\tlearn: 0.0781635\ttotal: 3.36s\tremaining: 1.07s\n",
      "759:\tlearn: 0.0781304\ttotal: 3.36s\tremaining: 1.06s\n",
      "760:\tlearn: 0.0779935\ttotal: 3.36s\tremaining: 1.06s\n",
      "761:\tlearn: 0.0778327\ttotal: 3.37s\tremaining: 1.05s\n",
      "762:\tlearn: 0.0777088\ttotal: 3.37s\tremaining: 1.05s\n",
      "763:\tlearn: 0.0775218\ttotal: 3.37s\tremaining: 1.04s\n",
      "764:\tlearn: 0.0774914\ttotal: 3.37s\tremaining: 1.03s\n",
      "765:\tlearn: 0.0772786\ttotal: 3.37s\tremaining: 1.03s\n",
      "766:\tlearn: 0.0771690\ttotal: 3.38s\tremaining: 1.02s\n",
      "767:\tlearn: 0.0770399\ttotal: 3.38s\tremaining: 1.02s\n",
      "768:\tlearn: 0.0768994\ttotal: 3.38s\tremaining: 1.01s\n",
      "769:\tlearn: 0.0768780\ttotal: 3.38s\tremaining: 1.01s\n",
      "770:\tlearn: 0.0767554\ttotal: 3.38s\tremaining: 1s\n",
      "771:\tlearn: 0.0766264\ttotal: 3.39s\tremaining: 1s\n",
      "772:\tlearn: 0.0765252\ttotal: 3.39s\tremaining: 995ms\n",
      "773:\tlearn: 0.0763647\ttotal: 3.39s\tremaining: 990ms\n",
      "774:\tlearn: 0.0762199\ttotal: 3.39s\tremaining: 985ms\n",
      "775:\tlearn: 0.0760368\ttotal: 3.39s\tremaining: 980ms\n",
      "776:\tlearn: 0.0758789\ttotal: 3.4s\tremaining: 975ms\n",
      "777:\tlearn: 0.0757120\ttotal: 3.4s\tremaining: 970ms\n",
      "778:\tlearn: 0.0756171\ttotal: 3.4s\tremaining: 965ms\n",
      "779:\tlearn: 0.0754472\ttotal: 3.4s\tremaining: 960ms\n",
      "780:\tlearn: 0.0753346\ttotal: 3.4s\tremaining: 955ms\n",
      "781:\tlearn: 0.0752727\ttotal: 3.41s\tremaining: 950ms\n",
      "782:\tlearn: 0.0751729\ttotal: 3.41s\tremaining: 945ms\n",
      "783:\tlearn: 0.0750563\ttotal: 3.41s\tremaining: 940ms\n",
      "784:\tlearn: 0.0749872\ttotal: 3.41s\tremaining: 935ms\n",
      "785:\tlearn: 0.0748598\ttotal: 3.41s\tremaining: 930ms\n",
      "786:\tlearn: 0.0747591\ttotal: 3.42s\tremaining: 925ms\n",
      "787:\tlearn: 0.0745816\ttotal: 3.42s\tremaining: 920ms\n",
      "788:\tlearn: 0.0744648\ttotal: 3.42s\tremaining: 915ms\n",
      "789:\tlearn: 0.0742877\ttotal: 3.42s\tremaining: 910ms\n",
      "790:\tlearn: 0.0741816\ttotal: 3.42s\tremaining: 905ms\n",
      "791:\tlearn: 0.0741433\ttotal: 3.43s\tremaining: 900ms\n",
      "792:\tlearn: 0.0740940\ttotal: 3.43s\tremaining: 895ms\n",
      "793:\tlearn: 0.0739314\ttotal: 3.43s\tremaining: 890ms\n",
      "794:\tlearn: 0.0738789\ttotal: 3.43s\tremaining: 885ms\n",
      "795:\tlearn: 0.0736662\ttotal: 3.43s\tremaining: 880ms\n",
      "796:\tlearn: 0.0735320\ttotal: 3.44s\tremaining: 875ms\n",
      "797:\tlearn: 0.0733636\ttotal: 3.44s\tremaining: 871ms\n",
      "798:\tlearn: 0.0732314\ttotal: 3.44s\tremaining: 866ms\n",
      "799:\tlearn: 0.0730980\ttotal: 3.44s\tremaining: 861ms\n",
      "800:\tlearn: 0.0729414\ttotal: 3.45s\tremaining: 857ms\n",
      "801:\tlearn: 0.0728361\ttotal: 3.45s\tremaining: 852ms\n",
      "802:\tlearn: 0.0727181\ttotal: 3.46s\tremaining: 848ms\n",
      "803:\tlearn: 0.0725576\ttotal: 3.46s\tremaining: 843ms\n",
      "804:\tlearn: 0.0724738\ttotal: 3.46s\tremaining: 838ms\n",
      "805:\tlearn: 0.0724340\ttotal: 3.46s\tremaining: 834ms\n",
      "806:\tlearn: 0.0724072\ttotal: 3.46s\tremaining: 829ms\n",
      "807:\tlearn: 0.0723315\ttotal: 3.47s\tremaining: 824ms\n",
      "808:\tlearn: 0.0722580\ttotal: 3.47s\tremaining: 820ms\n",
      "809:\tlearn: 0.0721719\ttotal: 3.47s\tremaining: 815ms\n",
      "810:\tlearn: 0.0720049\ttotal: 3.48s\tremaining: 810ms\n",
      "811:\tlearn: 0.0719230\ttotal: 3.48s\tremaining: 805ms\n",
      "812:\tlearn: 0.0718654\ttotal: 3.48s\tremaining: 801ms\n",
      "813:\tlearn: 0.0717287\ttotal: 3.49s\tremaining: 797ms\n",
      "814:\tlearn: 0.0716457\ttotal: 3.49s\tremaining: 792ms\n"
     ]
    },
    {
     "name": "stdout",
     "output_type": "stream",
     "text": [
      "815:\tlearn: 0.0715316\ttotal: 3.49s\tremaining: 787ms\n",
      "816:\tlearn: 0.0713670\ttotal: 3.5s\tremaining: 783ms\n",
      "817:\tlearn: 0.0712285\ttotal: 3.5s\tremaining: 778ms\n",
      "818:\tlearn: 0.0711755\ttotal: 3.5s\tremaining: 773ms\n",
      "819:\tlearn: 0.0710711\ttotal: 3.5s\tremaining: 769ms\n",
      "820:\tlearn: 0.0708858\ttotal: 3.5s\tremaining: 764ms\n",
      "821:\tlearn: 0.0708105\ttotal: 3.51s\tremaining: 759ms\n",
      "822:\tlearn: 0.0706448\ttotal: 3.51s\tremaining: 755ms\n",
      "823:\tlearn: 0.0705398\ttotal: 3.51s\tremaining: 750ms\n",
      "824:\tlearn: 0.0704333\ttotal: 3.51s\tremaining: 745ms\n",
      "825:\tlearn: 0.0703813\ttotal: 3.52s\tremaining: 741ms\n",
      "826:\tlearn: 0.0703146\ttotal: 3.52s\tremaining: 736ms\n",
      "827:\tlearn: 0.0701857\ttotal: 3.52s\tremaining: 732ms\n",
      "828:\tlearn: 0.0700336\ttotal: 3.52s\tremaining: 727ms\n",
      "829:\tlearn: 0.0699873\ttotal: 3.53s\tremaining: 722ms\n",
      "830:\tlearn: 0.0698709\ttotal: 3.53s\tremaining: 718ms\n",
      "831:\tlearn: 0.0698333\ttotal: 3.53s\tremaining: 713ms\n",
      "832:\tlearn: 0.0697195\ttotal: 3.53s\tremaining: 708ms\n",
      "833:\tlearn: 0.0696059\ttotal: 3.54s\tremaining: 704ms\n",
      "834:\tlearn: 0.0694439\ttotal: 3.54s\tremaining: 699ms\n",
      "835:\tlearn: 0.0693856\ttotal: 3.54s\tremaining: 695ms\n",
      "836:\tlearn: 0.0692934\ttotal: 3.54s\tremaining: 690ms\n",
      "837:\tlearn: 0.0691782\ttotal: 3.55s\tremaining: 686ms\n",
      "838:\tlearn: 0.0691188\ttotal: 3.55s\tremaining: 681ms\n",
      "839:\tlearn: 0.0689767\ttotal: 3.55s\tremaining: 676ms\n",
      "840:\tlearn: 0.0689336\ttotal: 3.55s\tremaining: 672ms\n",
      "841:\tlearn: 0.0688029\ttotal: 3.56s\tremaining: 667ms\n",
      "842:\tlearn: 0.0686445\ttotal: 3.56s\tremaining: 663ms\n",
      "843:\tlearn: 0.0685762\ttotal: 3.56s\tremaining: 658ms\n",
      "844:\tlearn: 0.0684148\ttotal: 3.56s\tremaining: 653ms\n",
      "845:\tlearn: 0.0683439\ttotal: 3.56s\tremaining: 649ms\n",
      "846:\tlearn: 0.0682230\ttotal: 3.57s\tremaining: 644ms\n",
      "847:\tlearn: 0.0681264\ttotal: 3.57s\tremaining: 640ms\n",
      "848:\tlearn: 0.0680711\ttotal: 3.57s\tremaining: 635ms\n",
      "849:\tlearn: 0.0680088\ttotal: 3.57s\tremaining: 630ms\n",
      "850:\tlearn: 0.0679645\ttotal: 3.57s\tremaining: 626ms\n",
      "851:\tlearn: 0.0678752\ttotal: 3.58s\tremaining: 621ms\n",
      "852:\tlearn: 0.0677647\ttotal: 3.58s\tremaining: 617ms\n",
      "853:\tlearn: 0.0676885\ttotal: 3.58s\tremaining: 612ms\n",
      "854:\tlearn: 0.0675417\ttotal: 3.58s\tremaining: 608ms\n",
      "855:\tlearn: 0.0675132\ttotal: 3.58s\tremaining: 603ms\n",
      "856:\tlearn: 0.0673428\ttotal: 3.59s\tremaining: 598ms\n",
      "857:\tlearn: 0.0672696\ttotal: 3.59s\tremaining: 594ms\n",
      "858:\tlearn: 0.0671931\ttotal: 3.59s\tremaining: 589ms\n",
      "859:\tlearn: 0.0671771\ttotal: 3.59s\tremaining: 585ms\n",
      "860:\tlearn: 0.0670982\ttotal: 3.59s\tremaining: 580ms\n",
      "861:\tlearn: 0.0670424\ttotal: 3.6s\tremaining: 576ms\n",
      "862:\tlearn: 0.0670324\ttotal: 3.6s\tremaining: 571ms\n",
      "863:\tlearn: 0.0670197\ttotal: 3.6s\tremaining: 567ms\n",
      "864:\tlearn: 0.0669611\ttotal: 3.6s\tremaining: 562ms\n",
      "865:\tlearn: 0.0669002\ttotal: 3.6s\tremaining: 558ms\n",
      "866:\tlearn: 0.0667731\ttotal: 3.61s\tremaining: 553ms\n",
      "867:\tlearn: 0.0666531\ttotal: 3.61s\tremaining: 549ms\n",
      "868:\tlearn: 0.0666011\ttotal: 3.61s\tremaining: 544ms\n",
      "869:\tlearn: 0.0665703\ttotal: 3.61s\tremaining: 540ms\n",
      "870:\tlearn: 0.0664842\ttotal: 3.61s\tremaining: 535ms\n",
      "871:\tlearn: 0.0663493\ttotal: 3.62s\tremaining: 531ms\n",
      "872:\tlearn: 0.0663296\ttotal: 3.62s\tremaining: 526ms\n",
      "873:\tlearn: 0.0661989\ttotal: 3.62s\tremaining: 522ms\n",
      "874:\tlearn: 0.0661867\ttotal: 3.62s\tremaining: 517ms\n",
      "875:\tlearn: 0.0661013\ttotal: 3.62s\tremaining: 513ms\n",
      "876:\tlearn: 0.0659593\ttotal: 3.63s\tremaining: 509ms\n",
      "877:\tlearn: 0.0659518\ttotal: 3.63s\tremaining: 504ms\n",
      "878:\tlearn: 0.0659450\ttotal: 3.63s\tremaining: 500ms\n",
      "879:\tlearn: 0.0659362\ttotal: 3.63s\tremaining: 495ms\n",
      "880:\tlearn: 0.0659019\ttotal: 3.63s\tremaining: 491ms\n",
      "881:\tlearn: 0.0658091\ttotal: 3.64s\tremaining: 487ms\n",
      "882:\tlearn: 0.0657442\ttotal: 3.64s\tremaining: 482ms\n",
      "883:\tlearn: 0.0657312\ttotal: 3.64s\tremaining: 478ms\n",
      "884:\tlearn: 0.0655749\ttotal: 3.64s\tremaining: 473ms\n",
      "885:\tlearn: 0.0655682\ttotal: 3.64s\tremaining: 469ms\n",
      "886:\tlearn: 0.0654641\ttotal: 3.65s\tremaining: 465ms\n",
      "887:\tlearn: 0.0653649\ttotal: 3.65s\tremaining: 460ms\n",
      "888:\tlearn: 0.0652452\ttotal: 3.65s\tremaining: 456ms\n",
      "889:\tlearn: 0.0650977\ttotal: 3.65s\tremaining: 452ms\n",
      "890:\tlearn: 0.0649945\ttotal: 3.65s\tremaining: 447ms\n",
      "891:\tlearn: 0.0649415\ttotal: 3.66s\tremaining: 443ms\n",
      "892:\tlearn: 0.0648819\ttotal: 3.66s\tremaining: 439ms\n",
      "893:\tlearn: 0.0648003\ttotal: 3.66s\tremaining: 434ms\n",
      "894:\tlearn: 0.0647693\ttotal: 3.66s\tremaining: 430ms\n",
      "895:\tlearn: 0.0646890\ttotal: 3.67s\tremaining: 426ms\n",
      "896:\tlearn: 0.0646548\ttotal: 3.67s\tremaining: 421ms\n",
      "897:\tlearn: 0.0644826\ttotal: 3.67s\tremaining: 417ms\n"
     ]
    },
    {
     "name": "stdout",
     "output_type": "stream",
     "text": [
      "898:\tlearn: 0.0643541\ttotal: 3.67s\tremaining: 413ms\n",
      "899:\tlearn: 0.0642607\ttotal: 3.68s\tremaining: 409ms\n",
      "900:\tlearn: 0.0641015\ttotal: 3.68s\tremaining: 404ms\n",
      "901:\tlearn: 0.0640073\ttotal: 3.68s\tremaining: 400ms\n",
      "902:\tlearn: 0.0639982\ttotal: 3.69s\tremaining: 396ms\n",
      "903:\tlearn: 0.0638824\ttotal: 3.69s\tremaining: 392ms\n",
      "904:\tlearn: 0.0638700\ttotal: 3.69s\tremaining: 387ms\n",
      "905:\tlearn: 0.0637621\ttotal: 3.69s\tremaining: 383ms\n",
      "906:\tlearn: 0.0637197\ttotal: 3.69s\tremaining: 379ms\n",
      "907:\tlearn: 0.0637137\ttotal: 3.7s\tremaining: 375ms\n",
      "908:\tlearn: 0.0636754\ttotal: 3.7s\tremaining: 370ms\n",
      "909:\tlearn: 0.0635290\ttotal: 3.7s\tremaining: 366ms\n",
      "910:\tlearn: 0.0634405\ttotal: 3.71s\tremaining: 362ms\n",
      "911:\tlearn: 0.0633100\ttotal: 3.71s\tremaining: 358ms\n",
      "912:\tlearn: 0.0632111\ttotal: 3.71s\tremaining: 354ms\n",
      "913:\tlearn: 0.0630511\ttotal: 3.71s\tremaining: 349ms\n",
      "914:\tlearn: 0.0629778\ttotal: 3.71s\tremaining: 345ms\n",
      "915:\tlearn: 0.0629083\ttotal: 3.72s\tremaining: 341ms\n",
      "916:\tlearn: 0.0628475\ttotal: 3.72s\tremaining: 337ms\n",
      "917:\tlearn: 0.0628028\ttotal: 3.72s\tremaining: 333ms\n",
      "918:\tlearn: 0.0627250\ttotal: 3.73s\tremaining: 328ms\n",
      "919:\tlearn: 0.0625925\ttotal: 3.73s\tremaining: 324ms\n",
      "920:\tlearn: 0.0625518\ttotal: 3.73s\tremaining: 320ms\n",
      "921:\tlearn: 0.0625094\ttotal: 3.73s\tremaining: 316ms\n",
      "922:\tlearn: 0.0624680\ttotal: 3.73s\tremaining: 312ms\n",
      "923:\tlearn: 0.0624528\ttotal: 3.74s\tremaining: 307ms\n",
      "924:\tlearn: 0.0624099\ttotal: 3.74s\tremaining: 303ms\n",
      "925:\tlearn: 0.0623973\ttotal: 3.74s\tremaining: 299ms\n",
      "926:\tlearn: 0.0623082\ttotal: 3.74s\tremaining: 295ms\n",
      "927:\tlearn: 0.0621410\ttotal: 3.75s\tremaining: 291ms\n",
      "928:\tlearn: 0.0620823\ttotal: 3.75s\tremaining: 287ms\n",
      "929:\tlearn: 0.0619288\ttotal: 3.75s\tremaining: 282ms\n",
      "930:\tlearn: 0.0618996\ttotal: 3.75s\tremaining: 278ms\n",
      "931:\tlearn: 0.0618808\ttotal: 3.76s\tremaining: 274ms\n",
      "932:\tlearn: 0.0617921\ttotal: 3.76s\tremaining: 270ms\n",
      "933:\tlearn: 0.0617444\ttotal: 3.76s\tremaining: 266ms\n",
      "934:\tlearn: 0.0616591\ttotal: 3.76s\tremaining: 262ms\n",
      "935:\tlearn: 0.0615409\ttotal: 3.77s\tremaining: 258ms\n",
      "936:\tlearn: 0.0614164\ttotal: 3.77s\tremaining: 253ms\n",
      "937:\tlearn: 0.0613007\ttotal: 3.77s\tremaining: 249ms\n",
      "938:\tlearn: 0.0612493\ttotal: 3.77s\tremaining: 245ms\n",
      "939:\tlearn: 0.0611399\ttotal: 3.77s\tremaining: 241ms\n",
      "940:\tlearn: 0.0610583\ttotal: 3.78s\tremaining: 237ms\n",
      "941:\tlearn: 0.0609944\ttotal: 3.78s\tremaining: 233ms\n",
      "942:\tlearn: 0.0609554\ttotal: 3.78s\tremaining: 229ms\n",
      "943:\tlearn: 0.0609171\ttotal: 3.78s\tremaining: 224ms\n",
      "944:\tlearn: 0.0608184\ttotal: 3.79s\tremaining: 220ms\n",
      "945:\tlearn: 0.0607048\ttotal: 3.79s\tremaining: 216ms\n",
      "946:\tlearn: 0.0605921\ttotal: 3.79s\tremaining: 212ms\n",
      "947:\tlearn: 0.0604678\ttotal: 3.79s\tremaining: 208ms\n",
      "948:\tlearn: 0.0604169\ttotal: 3.79s\tremaining: 204ms\n",
      "949:\tlearn: 0.0602883\ttotal: 3.79s\tremaining: 200ms\n",
      "950:\tlearn: 0.0602311\ttotal: 3.8s\tremaining: 196ms\n",
      "951:\tlearn: 0.0601472\ttotal: 3.8s\tremaining: 192ms\n",
      "952:\tlearn: 0.0601022\ttotal: 3.8s\tremaining: 187ms\n",
      "953:\tlearn: 0.0599889\ttotal: 3.8s\tremaining: 183ms\n",
      "954:\tlearn: 0.0599184\ttotal: 3.81s\tremaining: 179ms\n",
      "955:\tlearn: 0.0598735\ttotal: 3.81s\tremaining: 175ms\n",
      "956:\tlearn: 0.0598655\ttotal: 3.81s\tremaining: 171ms\n",
      "957:\tlearn: 0.0597653\ttotal: 3.81s\tremaining: 167ms\n",
      "958:\tlearn: 0.0596852\ttotal: 3.82s\tremaining: 163ms\n",
      "959:\tlearn: 0.0596749\ttotal: 3.82s\tremaining: 159ms\n",
      "960:\tlearn: 0.0596426\ttotal: 3.82s\tremaining: 155ms\n",
      "961:\tlearn: 0.0596359\ttotal: 3.83s\tremaining: 151ms\n",
      "962:\tlearn: 0.0595872\ttotal: 3.83s\tremaining: 147ms\n",
      "963:\tlearn: 0.0595153\ttotal: 3.83s\tremaining: 143ms\n",
      "964:\tlearn: 0.0593488\ttotal: 3.83s\tremaining: 139ms\n",
      "965:\tlearn: 0.0592873\ttotal: 3.83s\tremaining: 135ms\n",
      "966:\tlearn: 0.0592124\ttotal: 3.83s\tremaining: 131ms\n",
      "967:\tlearn: 0.0590938\ttotal: 3.84s\tremaining: 127ms\n",
      "968:\tlearn: 0.0590117\ttotal: 3.84s\tremaining: 123ms\n",
      "969:\tlearn: 0.0588733\ttotal: 3.84s\tremaining: 119ms\n",
      "970:\tlearn: 0.0587989\ttotal: 3.84s\tremaining: 115ms\n",
      "971:\tlearn: 0.0587166\ttotal: 3.85s\tremaining: 111ms\n",
      "972:\tlearn: 0.0587099\ttotal: 3.85s\tremaining: 107ms\n",
      "973:\tlearn: 0.0585916\ttotal: 3.85s\tremaining: 103ms\n"
     ]
    },
    {
     "name": "stdout",
     "output_type": "stream",
     "text": [
      "974:\tlearn: 0.0585146\ttotal: 3.85s\tremaining: 98.8ms\n",
      "975:\tlearn: 0.0584192\ttotal: 3.85s\tremaining: 94.8ms\n",
      "976:\tlearn: 0.0583409\ttotal: 3.86s\tremaining: 90.8ms\n",
      "977:\tlearn: 0.0582184\ttotal: 3.86s\tremaining: 86.8ms\n",
      "978:\tlearn: 0.0581872\ttotal: 3.86s\tremaining: 82.9ms\n",
      "979:\tlearn: 0.0581075\ttotal: 3.86s\tremaining: 78.9ms\n",
      "980:\tlearn: 0.0580659\ttotal: 3.87s\tremaining: 74.9ms\n",
      "981:\tlearn: 0.0579014\ttotal: 3.87s\tremaining: 70.9ms\n",
      "982:\tlearn: 0.0577571\ttotal: 3.87s\tremaining: 66.9ms\n",
      "983:\tlearn: 0.0576608\ttotal: 3.87s\tremaining: 63ms\n",
      "984:\tlearn: 0.0575712\ttotal: 3.87s\tremaining: 59ms\n",
      "985:\tlearn: 0.0574740\ttotal: 3.88s\tremaining: 55ms\n",
      "986:\tlearn: 0.0574108\ttotal: 3.88s\tremaining: 51.1ms\n",
      "987:\tlearn: 0.0573555\ttotal: 3.88s\tremaining: 47.1ms\n",
      "988:\tlearn: 0.0573494\ttotal: 3.88s\tremaining: 43.2ms\n",
      "989:\tlearn: 0.0573272\ttotal: 3.89s\tremaining: 39.3ms\n",
      "990:\tlearn: 0.0572519\ttotal: 3.89s\tremaining: 35.3ms\n",
      "991:\tlearn: 0.0571845\ttotal: 3.89s\tremaining: 31.4ms\n",
      "992:\tlearn: 0.0571747\ttotal: 3.9s\tremaining: 27.5ms\n",
      "993:\tlearn: 0.0571190\ttotal: 3.9s\tremaining: 23.5ms\n",
      "994:\tlearn: 0.0569839\ttotal: 3.9s\tremaining: 19.6ms\n",
      "995:\tlearn: 0.0569752\ttotal: 3.9s\tremaining: 15.7ms\n",
      "996:\tlearn: 0.0569062\ttotal: 3.91s\tremaining: 11.8ms\n",
      "997:\tlearn: 0.0567958\ttotal: 3.91s\tremaining: 7.83ms\n",
      "998:\tlearn: 0.0567851\ttotal: 3.91s\tremaining: 3.92ms\n",
      "999:\tlearn: 0.0567427\ttotal: 3.91s\tremaining: 0us\n"
     ]
    },
    {
     "data": {
      "text/plain": [
       "<catboost.core.CatBoostRegressor at 0x7fdb3d16a5e0>"
      ]
     },
     "execution_count": 9,
     "metadata": {},
     "output_type": "execute_result"
    }
   ],
   "source": [
    "#Train the Model \n",
    "prior_model = ctb.CatBoostRegressor()\n",
    "prior_model.fit(X_train,Y_train)"
   ]
  },
  {
   "cell_type": "code",
   "execution_count": 10,
   "id": "af65dcda",
   "metadata": {
    "execution": {
     "iopub.execute_input": "2022-07-22T20:20:41.238211Z",
     "iopub.status.busy": "2022-07-22T20:20:41.237250Z",
     "iopub.status.idle": "2022-07-22T20:20:41.274336Z",
     "shell.execute_reply": "2022-07-22T20:20:41.273568Z"
    },
    "id": "af65dcda",
    "papermill": {
     "duration": 0.055498,
     "end_time": "2022-07-22T20:20:41.277372",
     "exception": false,
     "start_time": "2022-07-22T20:20:41.221874",
     "status": "completed"
    },
    "tags": []
   },
   "outputs": [
    {
     "data": {
      "application/scrapbook.scrap.json+json": {
       "data": 0.11961661839406937,
       "encoder": "json",
       "name": "Prior Model MSE",
       "version": 1
      }
     },
     "metadata": {
      "scrapbook": {
       "data": true,
       "display": false,
       "name": "Prior Model MSE"
      }
     },
     "output_type": "display_data"
    },
    {
     "data": {
      "application/scrapbook.scrap.json+json": {
       "data": 1.2129230496857302,
       "encoder": "json",
       "name": "ABC Pre-generator MSE",
       "version": 1
      }
     },
     "metadata": {
      "scrapbook": {
       "data": true,
       "display": false,
       "name": "ABC Pre-generator MSE"
      }
     },
     "output_type": "display_data"
    },
    {
     "data": {
      "application/scrapbook.scrap.json+json": {
       "data": 0.22520335938315547,
       "encoder": "json",
       "name": "Prior Model MAE",
       "version": 1
      }
     },
     "metadata": {
      "scrapbook": {
       "data": true,
       "display": false,
       "name": "Prior Model MAE"
      }
     },
     "output_type": "display_data"
    },
    {
     "name": "stdout",
     "output_type": "stream",
     "text": [
      "Prior Model MAE 0.22520335938315547\n",
      "ABC Pre-generator MAE 1.0553335712757248\n"
     ]
    }
   ],
   "source": [
    "y_pred = prior_model.predict(X_test)\n",
    "y_abc = y_pred + np.random.normal(0,variance, y_pred.shape) + bias \n",
    "mse = mean_squared_error(y_pred,Y_test)\n",
    "sb.glue(\"Prior Model MSE\",mse)\n",
    "mse = mean_squared_error(y_abc,Y_test)\n",
    "sb.glue(\"ABC Pre-generator MSE\",mse)\n",
    "mae = mean_absolute_error(y_pred,Y_test)\n",
    "sb.glue(\"Prior Model MAE\",mae)\n",
    "print(\"Prior Model MAE\",mae)\n",
    "mae = mean_absolute_error(y_abc,Y_test)\n",
    "print(\"ABC Pre-generator MAE\",mae)"
   ]
  },
  {
   "cell_type": "markdown",
   "id": "25609da2",
   "metadata": {
    "papermill": {
     "duration": 0.026011,
     "end_time": "2022-07-22T20:20:41.324287",
     "exception": false,
     "start_time": "2022-07-22T20:20:41.298276",
     "status": "completed"
    },
    "tags": []
   },
   "source": [
    "# mGAN Model"
   ]
  },
  {
   "cell_type": "code",
   "execution_count": 11,
   "id": "dfc3464d",
   "metadata": {
    "execution": {
     "iopub.execute_input": "2022-07-22T20:20:41.360728Z",
     "iopub.status.busy": "2022-07-22T20:20:41.360000Z",
     "iopub.status.idle": "2022-07-22T20:20:41.366008Z",
     "shell.execute_reply": "2022-07-22T20:20:41.364955Z"
    },
    "papermill": {
     "duration": 0.031,
     "end_time": "2022-07-22T20:20:41.369146",
     "exception": false,
     "start_time": "2022-07-22T20:20:41.338146",
     "status": "completed"
    },
    "tags": []
   },
   "outputs": [],
   "source": [
    "# gen = network.Generator(n_features+1).to(device)\n",
    "# disc = network.Discriminator(n_features+1).to(device)\n",
    "\n",
    "# criterion = torch.nn.BCELoss()\n",
    "# gen_opt = torch.optim.Adam(gen.parameters(), lr=0.01, betas=(0.5, 0.999))\n",
    "# disc_opt = torch.optim.Adam(disc.parameters(), lr=0.01, betas=(0.5, 0.999))"
   ]
  },
  {
   "cell_type": "code",
   "execution_count": 12,
   "id": "b75fdd85",
   "metadata": {
    "execution": {
     "iopub.execute_input": "2022-07-22T20:20:41.406148Z",
     "iopub.status.busy": "2022-07-22T20:20:41.402615Z",
     "iopub.status.idle": "2022-07-22T20:20:41.414442Z",
     "shell.execute_reply": "2022-07-22T20:20:41.413547Z"
    },
    "papermill": {
     "duration": 0.036819,
     "end_time": "2022-07-22T20:20:41.418389",
     "exception": false,
     "start_time": "2022-07-22T20:20:41.381570",
     "status": "completed"
    },
    "tags": []
   },
   "outputs": [],
   "source": [
    "#Training the ABC_GAN \n",
    "# ABC_train_test2.training_GAN(disc,gen,disc_opt,gen_opt,train_data,batch_size,n_epochs,criterion,prior_model,variance,bias,device)"
   ]
  },
  {
   "cell_type": "code",
   "execution_count": 13,
   "id": "1fa7c368",
   "metadata": {
    "execution": {
     "iopub.execute_input": "2022-07-22T20:20:41.463887Z",
     "iopub.status.busy": "2022-07-22T20:20:41.463248Z",
     "iopub.status.idle": "2022-07-22T20:20:41.475210Z",
     "shell.execute_reply": "2022-07-22T20:20:41.474484Z"
    },
    "papermill": {
     "duration": 0.048139,
     "end_time": "2022-07-22T20:20:41.478073",
     "exception": false,
     "start_time": "2022-07-22T20:20:41.429934",
     "status": "completed"
    },
    "tags": []
   },
   "outputs": [],
   "source": [
    "# ABC_GAN1_metrics=ABC_train_test2.test_generator(gen,test_data,prior_model,variance,bias,\"1\",device)\n",
    "# sb.glue(\"ABC_GAN_1 Metrics\",ABC_GAN1_metrics)\n",
    "\n",
    "# print(\"MAE\")\n",
    "# print(mean(ABC_GAN1_metrics[1]))"
   ]
  },
  {
   "cell_type": "code",
   "execution_count": 14,
   "id": "eb22ce5c",
   "metadata": {
    "execution": {
     "iopub.execute_input": "2022-07-22T20:20:41.509298Z",
     "iopub.status.busy": "2022-07-22T20:20:41.508679Z",
     "iopub.status.idle": "2022-07-22T20:20:41.514593Z",
     "shell.execute_reply": "2022-07-22T20:20:41.512530Z"
    },
    "papermill": {
     "duration": 0.024415,
     "end_time": "2022-07-22T20:20:41.518229",
     "exception": false,
     "start_time": "2022-07-22T20:20:41.493814",
     "status": "completed"
    },
    "tags": []
   },
   "outputs": [],
   "source": [
    "# sanityChecks.discProbVsError(train_data,disc,device)\n",
    "# sanityChecks.discProbVsError(test_data,disc,device)"
   ]
  },
  {
   "cell_type": "markdown",
   "id": "6326e488",
   "metadata": {
    "papermill": {
     "duration": 0.014548,
     "end_time": "2022-07-22T20:20:41.543875",
     "exception": false,
     "start_time": "2022-07-22T20:20:41.529327",
     "status": "completed"
    },
    "tags": []
   },
   "source": [
    "# mGAN Model with TabNet Generator"
   ]
  },
  {
   "cell_type": "code",
   "execution_count": 15,
   "id": "203a1938",
   "metadata": {
    "execution": {
     "iopub.execute_input": "2022-07-22T20:20:41.580664Z",
     "iopub.status.busy": "2022-07-22T20:20:41.580350Z",
     "iopub.status.idle": "2022-07-22T20:20:41.623081Z",
     "shell.execute_reply": "2022-07-22T20:20:41.606918Z"
    },
    "papermill": {
     "duration": 0.113566,
     "end_time": "2022-07-22T20:20:41.672615",
     "exception": false,
     "start_time": "2022-07-22T20:20:41.559049",
     "status": "completed"
    },
    "tags": []
   },
   "outputs": [],
   "source": [
    "gen2 = network.GeneratorTabnet(n_features+1).to(device)\n",
    "disc2 = network.Discriminator(n_features+1).to(device)\n",
    "\n",
    "criterion = torch.nn.BCELoss()\n",
    "gen_opt = torch.optim.Adam(gen2.parameters(), lr=0.01, betas=(0.5, 0.999))\n",
    "disc_opt = torch.optim.Adam(disc2.parameters(), lr=0.01, betas=(0.5, 0.999))"
   ]
  },
  {
   "cell_type": "code",
   "execution_count": 16,
   "id": "dbabd7d0",
   "metadata": {
    "execution": {
     "iopub.execute_input": "2022-07-22T20:20:41.886098Z",
     "iopub.status.busy": "2022-07-22T20:20:41.885493Z",
     "iopub.status.idle": "2022-07-22T20:31:16.196318Z",
     "shell.execute_reply": "2022-07-22T20:31:16.191076Z"
    },
    "papermill": {
     "duration": 634.392992,
     "end_time": "2022-07-22T20:31:16.232284",
     "exception": false,
     "start_time": "2022-07-22T20:20:41.839292",
     "status": "completed"
    },
    "tags": []
   },
   "outputs": [
    {
     "data": {
      "image/png": "[encoded data removed]",
      "text/plain": [
       "<Figure size 432x288 with 1 Axes>"
      ]
     },
     "metadata": {
      "needs_background": "light"
     },
     "output_type": "display_data"
    },
    {
     "data": {
      "image/png": "[encoded data removed]",
      "text/plain": [
       "<Figure size 432x288 with 1 Axes>"
      ]
     },
     "metadata": {
      "needs_background": "light"
     },
     "output_type": "display_data"
    }
   ],
   "source": [
    "#Training the ABC_GAN \n",
    "ABC_train_test2.training_GAN(disc2,gen2,disc_opt,gen_opt,train_data,batch_size,n_epochs,criterion,prior_model,variance,bias,device)"
   ]
  },
  {
   "cell_type": "code",
   "execution_count": 17,
   "id": "05833779",
   "metadata": {
    "execution": {
     "iopub.execute_input": "2022-07-22T20:31:16.561781Z",
     "iopub.status.busy": "2022-07-22T20:31:16.561127Z",
     "iopub.status.idle": "2022-07-22T20:31:21.982895Z",
     "shell.execute_reply": "2022-07-22T20:31:21.981827Z"
    },
    "papermill": {
     "duration": 5.738716,
     "end_time": "2022-07-22T20:31:21.985600",
     "exception": false,
     "start_time": "2022-07-22T20:31:16.246884",
     "status": "completed"
    },
    "tags": []
   },
   "outputs": [
    {
     "data": {
      "application/scrapbook.scrap.json+json": {
       "data": 0.14468653337581142,
       "encoder": "json",
       "name": "ABC-GAN Model 1 MSE",
       "version": 1
      }
     },
     "metadata": {
      "scrapbook": {
       "data": true,
       "display": false,
       "name": "ABC-GAN Model 1 MSE"
      }
     },
     "output_type": "display_data"
    },
    {
     "data": {
      "application/scrapbook.scrap.json+json": {
       "data": 0.23153396317187477,
       "encoder": "json",
       "name": "ABC-GAN Model 1 MAE",
       "version": 1
      }
     },
     "metadata": {
      "scrapbook": {
       "data": true,
       "display": false,
       "name": "ABC-GAN Model 1 MAE"
      }
     },
     "output_type": "display_data"
    },
    {
     "data": {
      "application/scrapbook.scrap.json+json": {
       "data": 23.616464243531226,
       "encoder": "json",
       "name": "ABC-GAN Model 1 Manhattan Distance",
       "version": 1
      }
     },
     "metadata": {
      "scrapbook": {
       "data": true,
       "display": false,
       "name": "ABC-GAN Model 1 Manhattan Distance"
      }
     },
     "output_type": "display_data"
    },
    {
     "data": {
      "application/scrapbook.scrap.json+json": {
       "data": 3.8416015636199745,
       "encoder": "json",
       "name": "ABC-GAN Model 1 Euclidean distance",
       "version": 1
      }
     },
     "metadata": {
      "scrapbook": {
       "data": true,
       "display": false,
       "name": "ABC-GAN Model 1 Euclidean distance"
      }
     },
     "output_type": "display_data"
    },
    {
     "data": {
      "application/scrapbook.scrap.json+json": {
       "data": [
        [
         0.14424109007526453,
         0.14557093663321363,
         0.1448372204234297,
         0.14555474528179713,
         0.14508196745998028,
         0.14649805420593273,
         0.14472837765744645,
         0.1429542618471442,
         0.14335141260388415,
         0.14360004071166585,
         0.1453968689978243,
         0.14360800382322259,
         0.14578489891101018,
         0.143865516162695,
         0.14507000561535657,
         0.14550333332884005,
         0.1443684313527578,
         0.14333989253371204,
         0.14546883935960758,
         0.1452369011759913,
         0.14468859267392006,
         0.14361391699417556,
         0.14406463895307525,
         0.14532231075222388,
         0.14637059395188692,
         0.14519148531427123,
         0.14619519434878453,
         0.14355893438211367,
         0.14506634840412472,
         0.14493535220072318,
         0.14363901311175659,
         0.1434889813508756,
         0.14366169758190345,
         0.14530848370637933,
         0.14462373789267297,
         0.14335158397473557,
         0.14519459530006665,
         0.14508052016596937,
         0.14481015253495036,
         0.1445965977193333,
         0.14339387319779526,
         0.14430962150718346,
         0.14564499124222083,
         0.14485814477991063,
         0.1432092813143631,
         0.1447531604820245,
         0.14480405926742565,
         0.146121622008761,
         0.14308043979273702,
         0.1457610933608879,
         0.14507611560139147,
         0.14516674456143253,
         0.14534264173580205,
         0.14419306376864585,
         0.14511158132348942,
         0.14523109936774767,
         0.14586504714649326,
         0.145153284472057,
         0.14473423741979063,
         0.14426281341911765,
         0.14529102088395318,
         0.14502199606442132,
         0.1453589831773014,
         0.14340587818575967,
         0.1437790905874965,
         0.14521187092083632,
         0.14472834543923865,
         0.14555176235666636,
         0.14473772836725649,
         0.14418577903826998,
         0.14452709625841578,
         0.14491859899013707,
         0.14587047051839466,
         0.14549982527027325,
         0.1438348578074333,
         0.14458167650377973,
         0.1455452041473631,
         0.1454550642126043,
         0.1437678809307194,
         0.14444804221971894,
         0.14580361187545376,
         0.14559326825196783,
         0.14364258329653964,
         0.14503129899417086,
         0.14470141784749982,
         0.14392281882598662,
         0.1445900907798269,
         0.14395437779999545,
         0.14356114898352024,
         0.14643427386461913,
         0.14435947837363564,
         0.14496437899348327,
         0.14503003569513487,
         0.14373679839510778,
         0.14363364388534836,
         0.1436726921285939,
         0.14399824569468764,
         0.1448856011291653,
         0.14449329685594917,
         0.14402665878642035
        ],
        [
         0.23167363959638512,
         0.23477597565700611,
         0.23236565153096236,
         0.2334275723928038,
         0.2341912165466769,
         0.23442661197965636,
         0.23135415674643775,
         0.22974485319619084,
         0.22983072595853432,
         0.22949043259608978,
         0.23252225455408002,
         0.22836366755997434,
         0.23344717897913037,
         0.2303597427101112,
         0.2324041964522764,
         0.23250672979024695,
         0.23148140523071384,
         0.2300242528173269,
         0.23407624282088935,
         0.23148598952912816,
         0.23043735738040186,
         0.2295306292271205,
         0.23046083609555282,
         0.23419583859104737,
         0.23465061233397208,
         0.23151274646321932,
         0.23410925574089383,
         0.22910891502511269,
         0.23281007762267894,
         0.23267917366077503,
         0.22985400946116916,
         0.22959650705988502,
         0.2298463678681383,
         0.2329578306708558,
         0.2317389695740798,
         0.2298000528860618,
         0.23149315430326203,
         0.2318257036089313,
         0.2326394664488879,
         0.22914197852871582,
         0.22993933719893297,
         0.23205675907871304,
         0.23268306193252405,
         0.23136335996655272,
         0.22925784893553047,
         0.23255001194775105,
         0.23029844254693566,
         0.23277054020368002,
         0.2286477615582008,
         0.23247728394527062,
         0.23119522844824722,
         0.2315974249778425,
         0.23358301482364244,
         0.23072348849153987,
         0.23179390779970324,
         0.23233457492189666,
         0.23269942326142506,
         0.2325002850380306,
         0.2310090818095441,
         0.23304981590412996,
         0.23372591597338518,
         0.23066108860075474,
         0.23296339667456992,
         0.22968124063210746,
         0.2298484741911,
         0.2326751796930444,
         0.23110160697251558,
         0.23309550193302772,
         0.23169719274429715,
         0.23175860791668004,
         0.23076245395064937,
         0.23106292109279072,
         0.23267034832022937,
         0.2328136642920036,
         0.23061683096502925,
         0.23118163338478873,
         0.23121918047613957,
         0.2337388977152752,
         0.22914034634025074,
         0.23343169029948174,
         0.2322452658714325,
         0.23323152780386747,
         0.2310024990754969,
         0.23103309574299583,
         0.2332480524794436,
         0.23041079932933345,
         0.23030486735789216,
         0.23003200894477321,
         0.23118583233479192,
         0.23333057417881256,
         0.23269871269882308,
         0.23117559054391643,
         0.23112205918147868,
         0.23029428990740403,
         0.22939413354969493,
         0.22810257374144652,
         0.23205490994687175,
         0.22908562757805281,
         0.23047190208864562,
         0.2302531906787087
        ],
        [
         23.63071123883128,
         23.947149517014623,
         23.70129645615816,
         23.809612384065986,
         23.887504087761045,
         23.91151442192495,
         23.59812398813665,
         23.433975026011467,
         23.4427340477705,
         23.40802412480116,
         23.717269964516163,
         23.293094091117382,
         23.811612255871296,
         23.49669375643134,
         23.70522803813219,
         23.71568643860519,
         23.61110333353281,
         23.462473787367344,
         23.875776767730713,
         23.611570931971073,
         23.50461045280099,
         23.41212418116629,
         23.507005281746387,
         23.88797553628683,
         23.934362458065152,
         23.61430013924837,
         23.87914408557117,
         23.369109332561493,
         23.74662791751325,
         23.733275713399053,
         23.445108965039253,
         23.41884372010827,
         23.444329522550106,
         23.76169872842729,
         23.63737489655614,
         23.439605394378304,
         23.61230173893273,
         23.64622176811099,
         23.729225577786565,
         23.372481809929013,
         23.453812394291162,
         23.66978942602873,
         23.733672317117453,
         23.599062716588378,
         23.384300591424108,
         23.720101218670607,
         23.490441139787436,
         23.74259510077536,
         23.32207167893648,
         23.712682962417603,
         23.581913301721215,
         23.622937347739935,
         23.825467512011528,
         23.533795826137066,
         23.64297859556973,
         23.698126642033458,
         23.735341172665358,
         23.715029073879123,
         23.562926344573498,
         23.771081222221255,
         23.840043429285288,
         23.527431037276983,
         23.76226646080613,
         23.42748654447496,
         23.4445443674922,
         23.73286832869053,
         23.57236391119659,
         23.775741197168827,
         23.63311365991831,
         23.639378007501364,
         23.537770302966237,
         23.568417951464653,
         23.732375528663397,
         23.746993757784367,
         23.522916758432984,
         23.58052660524845,
         23.584356408566236,
         23.84136756695807,
         23.372315326705575,
         23.810032410547137,
         23.689017118886113,
         23.789615835994482,
         23.562254905700684,
         23.565375765785575,
         23.791301352903247,
         23.50190153159201,
         23.491096470505,
         23.463264912366867,
         23.580954898148775,
         23.79971856623888,
         23.735268695279956,
         23.579910235479474,
         23.574450036510825,
         23.49001757055521,
         23.398201622068882,
         23.266462521627545,
         23.669600814580917,
         23.366734012961388,
         23.508134013041854,
         23.485825449228287
        ],
        [
         3.83569956952796,
         3.8533408279813224,
         3.843617629680381,
         3.8531265251407594,
         3.8468637460817328,
         3.865592002398227,
         3.8421731508430925,
         3.8185513887348304,
         3.8238519957754877,
         3.827166595876107,
         3.8510363069929734,
         3.8272727091192102,
         3.856171636341287,
         3.8307026311885513,
         3.8467051580237297,
         3.852445976200274,
         3.837392343503762,
         3.823698345638504,
         3.8519893061481842,
         3.848917239945685,
         3.8416450190953157,
         3.827351503769403,
         3.8333527326889283,
         3.8500487914735353,
         3.863910012292272,
         3.8483154109370594,
         3.861594207523108,
         3.826618782551457,
         3.8466566700474734,
         3.8449194951876122,
         3.827685898476933,
         3.8256863564319157,
         3.827988133909789,
         3.8498656259732864,
         3.8407839388662097,
         3.8238542814054806,
         3.8483566259647497,
         3.8468445584568243,
         3.843258455863324,
         3.840423540102315,
         3.8244182650666114,
         3.836610664861983,
         3.8543208359847934,
         3.843895259700878,
         3.8219558728568592,
         3.842502097483682,
         3.8431775974156355,
         3.860622416773443,
         3.8202362307662567,
         3.8558567819371294,
         3.846786163974016,
         3.8479875188552928,
         3.850318098164333,
         3.835060951849641,
         3.8472563334142325,
         3.8488403624351917,
         3.857231495378817,
         3.8478091189857393,
         3.8422509310062827,
         3.8359883952835414,
         3.8496342852488237,
         3.846068589946229,
         3.850534545239757,
         3.8245783525700556,
         3.8295518327768634,
         3.8485855627652747,
         3.842172723187018,
         3.8530870429280424,
         3.842297267711097,
         3.8349640756992147,
         3.83950046469048,
         3.844697269876262,
         3.857303202092914,
         3.8523995350388915,
         3.8302944399038297,
         3.8402253844514815,
         3.8530002365729272,
         3.851806920094208,
         3.8294025454283833,
         3.83845024800522,
         3.8564191176914724,
         3.8536363816142174,
         3.8277334672423367,
         3.8461919475509054,
         3.8418152767207556,
         3.8314654533547134,
         3.8403371283706766,
         3.8318855065880473,
         3.826648297965083,
         3.8647504362107457,
         3.8372733541032535,
         3.8453044947487953,
         3.8461751963351536,
         3.828988565705178,
         3.8276143583576356,
         3.8281346106317327,
         3.832469316362251,
         3.8442595275520692,
         3.8390514817213397,
         3.832847400590698
        ]
       ],
       "encoder": "json",
       "name": "ABC_GAN_2 Metrics",
       "version": 1
      }
     },
     "metadata": {
      "scrapbook": {
       "data": true,
       "display": false,
       "name": "ABC_GAN_2 Metrics"
      }
     },
     "output_type": "display_data"
    },
    {
     "name": "stdout",
     "output_type": "stream",
     "text": [
      "MAE\n",
      "0.23153396317187477\n"
     ]
    }
   ],
   "source": [
    "ABC_GAN2_metrics=ABC_train_test2.test_generator(gen2,test_data,prior_model,variance,bias,\"1\",device)\n",
    "sb.glue(\"ABC_GAN_2 Metrics\",ABC_GAN2_metrics)\n",
    "\n",
    "print(\"MAE\")\n",
    "print(mean(ABC_GAN2_metrics[1]))"
   ]
  },
  {
   "cell_type": "code",
   "execution_count": 18,
   "id": "c5f19097",
   "metadata": {
    "execution": {
     "iopub.execute_input": "2022-07-22T20:31:22.033293Z",
     "iopub.status.busy": "2022-07-22T20:31:22.032662Z",
     "iopub.status.idle": "2022-07-22T20:31:23.549093Z",
     "shell.execute_reply": "2022-07-22T20:31:23.547326Z"
    },
    "papermill": {
     "duration": 1.552258,
     "end_time": "2022-07-22T20:31:23.552302",
     "exception": false,
     "start_time": "2022-07-22T20:31:22.000044",
     "status": "completed"
    },
    "tags": []
   },
   "outputs": [
    {
     "data": {
      "image/png": "[encoded data removed]",
      "text/plain": [
       "<Figure size 432x288 with 1 Axes>"
      ]
     },
     "metadata": {
      "needs_background": "light"
     },
     "output_type": "display_data"
    },
    {
     "data": {
      "image/png": "[encoded data removed]",
      "text/plain": [
       "<Figure size 432x288 with 1 Axes>"
      ]
     },
     "metadata": {
      "needs_background": "light"
     },
     "output_type": "display_data"
    },
    {
     "data": {
      "image/png": "[encoded data removed]",
      "text/plain": [
       "<Figure size 432x288 with 1 Axes>"
      ]
     },
     "metadata": {
      "needs_background": "light"
     },
     "output_type": "display_data"
    },
    {
     "data": {
      "image/png": "[encoded data removed]",
      "text/plain": [
       "<Figure size 432x288 with 1 Axes>"
      ]
     },
     "metadata": {
      "needs_background": "light"
     },
     "output_type": "display_data"
    }
   ],
   "source": [
    "sanityChecks.discProbVsError(train_data,disc2,device)\n",
    "sanityChecks.discProbVsError(test_data,disc2,device)"
   ]
  },
  {
   "cell_type": "markdown",
   "id": "130f3a4d",
   "metadata": {
    "id": "130f3a4d",
    "papermill": {
     "duration": 0.016819,
     "end_time": "2022-07-22T20:31:23.586839",
     "exception": false,
     "start_time": "2022-07-22T20:31:23.570020",
     "status": "completed"
    },
    "tags": []
   },
   "source": [
    "# skipGAN Model"
   ]
  },
  {
   "cell_type": "code",
   "execution_count": 19,
   "id": "4e43dad1",
   "metadata": {
    "execution": {
     "iopub.execute_input": "2022-07-22T20:31:23.687962Z",
     "iopub.status.busy": "2022-07-22T20:31:23.683456Z",
     "iopub.status.idle": "2022-07-22T20:31:23.866753Z",
     "shell.execute_reply": "2022-07-22T20:31:23.864603Z"
    },
    "id": "4e43dad1",
    "papermill": {
     "duration": 0.269385,
     "end_time": "2022-07-22T20:31:23.872911",
     "exception": false,
     "start_time": "2022-07-22T20:31:23.603526",
     "status": "completed"
    },
    "tags": []
   },
   "outputs": [],
   "source": [
    "# #Generator\n",
    "# gen3 = network.GeneratorWithSkipConnection(n_features+1).to(device)\n",
    "# constraints=network.weightConstraint()\n",
    "# #Discriminator \n",
    "# disc3 = network.Discriminator(n_features+1).to(device)\n",
    "\n",
    "# criterion = torch.nn.BCELoss()\n",
    "# gen_opt = torch.optim.Adam(gen3.parameters(), lr=0.01, betas=(0.5, 0.999))\n",
    "# disc_opt = torch.optim.Adam(disc3.parameters(), lr=0.01, betas=(0.5, 0.999))\n"
   ]
  },
  {
   "cell_type": "markdown",
   "id": "8655b472",
   "metadata": {
    "tags": [
     "papermill-error-cell-tag"
    ]
   },
   "source": [
    "<span id=\"papermill-error-cell\" style=\"color:red; font-family:Helvetica Neue, Helvetica, Arial, sans-serif; font-size:2em;\">Execution using papermill encountered an exception here and stopped:</span>"
   ]
  },
  {
   "cell_type": "code",
   "execution_count": 20,
   "id": "26acbc37",
   "metadata": {
    "execution": {
     "iopub.execute_input": "2022-07-22T20:31:23.929010Z",
     "iopub.status.busy": "2022-07-22T20:31:23.928166Z",
     "iopub.status.idle": "2022-07-22T20:31:25.715823Z",
     "shell.execute_reply": "2022-07-22T20:31:25.713411Z"
    },
    "id": "26acbc37",
    "papermill": {
     "duration": 1.827807,
     "end_time": "2022-07-22T20:31:25.718188",
     "exception": true,
     "start_time": "2022-07-22T20:31:23.890381",
     "status": "failed"
    },
    "tags": []
   },
   "outputs": [
    {
     "ename": "NameError",
     "evalue": "name 'disc3' is not defined",
     "output_type": "error",
     "traceback": [
      "\u001b[0;31m---------------------------------------------------------------------------\u001b[0m",
      "\u001b[0;31mNameError\u001b[0m                                 Traceback (most recent call last)",
      "Input \u001b[0;32mIn [20]\u001b[0m, in \u001b[0;36m<cell line: 1>\u001b[0;34m()\u001b[0m\n\u001b[0;32m----> 1\u001b[0m ABC_train_test2\u001b[38;5;241m.\u001b[39mtraining_GAN_skip_connection(\u001b[43mdisc3\u001b[49m,gen3,disc_opt,gen_opt,train_data,batch_size,n_epochs,criterion,prior_model,variance,bias,device)\n",
      "\u001b[0;31mNameError\u001b[0m: name 'disc3' is not defined"
     ]
    }
   ],
   "source": [
    "ABC_train_test2.training_GAN_skip_connection(disc3,gen3,disc_opt,gen_opt,train_data,batch_size,n_epochs,criterion,prior_model,variance,bias,device)"
   ]
  },
  {
   "cell_type": "code",
   "execution_count": null,
   "id": "c5e0717b",
   "metadata": {
    "id": "c5e0717b",
    "papermill": {
     "duration": null,
     "end_time": null,
     "exception": null,
     "start_time": null,
     "status": "pending"
    },
    "tags": []
   },
   "outputs": [],
   "source": [
    "# ABC_GAN3_metrics=ABC_train_test2.test_generator(gen3,test_data,prior_model,variance,bias,\"3\",device)\n",
    "# sb.glue(\"ABC_GAN_3 Metrics\",ABC_GAN3_metrics)\n",
    "\n",
    "# print(\"MAE\")\n",
    "# print(mean(ABC_GAN3_metrics[1]))"
   ]
  },
  {
   "cell_type": "code",
   "execution_count": null,
   "id": "c8e46b48",
   "metadata": {
    "id": "c8e46b48",
    "papermill": {
     "duration": null,
     "end_time": null,
     "exception": null,
     "start_time": null,
     "status": "pending"
    },
    "tags": []
   },
   "outputs": [],
   "source": [
    "# sanityChecks.discProbVsError(train_data,disc3,device)\n",
    "# sanityChecks.discProbVsError(test_data,disc3,device)"
   ]
  },
  {
   "cell_type": "markdown",
   "id": "22843230",
   "metadata": {
    "id": "130f3a4d",
    "papermill": {
     "duration": null,
     "end_time": null,
     "exception": null,
     "start_time": null,
     "status": "pending"
    },
    "tags": []
   },
   "source": [
    "# skipGAN Model with TabNet Generator"
   ]
  },
  {
   "cell_type": "code",
   "execution_count": null,
   "id": "a045d8f4",
   "metadata": {
    "id": "4e43dad1",
    "papermill": {
     "duration": null,
     "end_time": null,
     "exception": null,
     "start_time": null,
     "status": "pending"
    },
    "tags": []
   },
   "outputs": [],
   "source": [
    "# #Generator\n",
    "# gen4 = network.GeneratorTabnetskipConnection(n_features+1).to(device)\n",
    "# constraints=network.weightConstraint()\n",
    "# #Discriminator \n",
    "# disc4 = network.Discriminator(n_features+1).to(device)\n",
    "\n",
    "# criterion = torch.nn.BCELoss()\n",
    "# gen_opt = torch.optim.Adam(gen4.parameters(), lr=0.01, betas=(0.5, 0.999))\n",
    "# disc_opt = torch.optim.Adam(disc4.parameters(), lr=0.01, betas=(0.5, 0.999))\n"
   ]
  },
  {
   "cell_type": "code",
   "execution_count": null,
   "id": "e90f3206",
   "metadata": {
    "id": "26acbc37",
    "papermill": {
     "duration": null,
     "end_time": null,
     "exception": null,
     "start_time": null,
     "status": "pending"
    },
    "tags": []
   },
   "outputs": [],
   "source": [
    "# ABC_train_test2.training_GAN_skip_connection(disc4,gen4,disc_opt,gen_opt,train_data,batch_size,n_epochs,criterion,prior_model,variance,bias,device)"
   ]
  },
  {
   "cell_type": "code",
   "execution_count": null,
   "id": "f0b855d6",
   "metadata": {
    "id": "c5e0717b",
    "papermill": {
     "duration": null,
     "end_time": null,
     "exception": null,
     "start_time": null,
     "status": "pending"
    },
    "tags": []
   },
   "outputs": [],
   "source": [
    "# ABC_GAN4_metrics=ABC_train_test2.test_generator(gen4,test_data,prior_model,variance,bias,\"3\",device)\n",
    "# sb.glue(\"ABC_GAN_4 Metrics\",ABC_GAN4_metrics)\n",
    "\n",
    "# print(\"MAE\")\n",
    "# print(mean(ABC_GAN4_metrics[1]))"
   ]
  },
  {
   "cell_type": "code",
   "execution_count": null,
   "id": "8cc8fbb3",
   "metadata": {
    "id": "c8e46b48",
    "papermill": {
     "duration": null,
     "end_time": null,
     "exception": null,
     "start_time": null,
     "status": "pending"
    },
    "tags": []
   },
   "outputs": [],
   "source": [
    "# sanityChecks.discProbVsError(train_data,disc4,device)\n",
    "# sanityChecks.discProbVsError(test_data,disc4,device)"
   ]
  },
  {
   "cell_type": "markdown",
   "id": "a5bd74c3",
   "metadata": {
    "id": "a5bd74c3",
    "papermill": {
     "duration": null,
     "end_time": null,
     "exception": null,
     "start_time": null,
     "status": "pending"
    },
    "tags": []
   },
   "source": [
    "## Skip Connection Model Analysis - ABC-GAN "
   ]
  },
  {
   "cell_type": "markdown",
   "id": "5744a8bf",
   "metadata": {
    "id": "5744a8bf",
    "papermill": {
     "duration": null,
     "end_time": null,
     "exception": null,
     "start_time": null,
     "status": "pending"
    },
    "tags": []
   },
   "source": [
    "### Weight Analysis \n",
    "\n",
    "Study the weights of the skip connection layer\n",
    "\n",
    "Equation of the skip connection is \n",
    "\n",
    "$output = y_{gan} * w + y_{abc} * (1-w)$"
   ]
  },
  {
   "cell_type": "code",
   "execution_count": null,
   "id": "52c31dea",
   "metadata": {
    "id": "52c31dea",
    "papermill": {
     "duration": null,
     "end_time": null,
     "exception": null,
     "start_time": null,
     "status": "pending"
    },
    "tags": []
   },
   "outputs": [],
   "source": [
    "# print(\"Weight of the node at skip connection\")\n",
    "# for name,param in gen3.named_parameters():\n",
    "#     if(name == \"skipNode.weight\"):\n",
    "#         print(param)\n",
    "#         sb.glue(\"Skip Connection Weight\",param.item())"
   ]
  },
  {
   "cell_type": "markdown",
   "id": "f1c0ac9a",
   "metadata": {
    "id": "a5bd74c3",
    "papermill": {
     "duration": null,
     "end_time": null,
     "exception": null,
     "start_time": null,
     "status": "pending"
    },
    "tags": []
   },
   "source": [
    "## skipGAN Model Analysis (TabNet Generator) "
   ]
  },
  {
   "cell_type": "markdown",
   "id": "f0035d89",
   "metadata": {
    "id": "5744a8bf",
    "papermill": {
     "duration": null,
     "end_time": null,
     "exception": null,
     "start_time": null,
     "status": "pending"
    },
    "tags": []
   },
   "source": [
    "### Weight Analysis \n",
    "\n",
    "Study the weights of the skip connection layer\n",
    "\n",
    "Equation of the skip connection is \n",
    "\n",
    "$output = y_{gan} * w + y_{abc} * (1-w)$"
   ]
  },
  {
   "cell_type": "code",
   "execution_count": null,
   "id": "40f528bf",
   "metadata": {
    "id": "52c31dea",
    "papermill": {
     "duration": null,
     "end_time": null,
     "exception": null,
     "start_time": null,
     "status": "pending"
    },
    "tags": []
   },
   "outputs": [],
   "source": [
    "# print(\"Weight of the node at skip connection\")\n",
    "# for name,param in gen4.named_parameters():\n",
    "#     if(name == \"skipNode.weight\"):\n",
    "#         print(param)\n",
    "#         sb.glue(\"Skip Connection Weight\",param.item())"
   ]
  }
 ],
 "metadata": {
  "colab": {
   "collapsed_sections": [],
   "name": "ABC_GAN_Model-Catboost_Pre-gen.ipynb",
   "provenance": []
  },
  "interpreter": {
   "hash": "31f2aee4e71d21fbe5cf8b01ff0e069b9275f58929596ceb00d14d90e3e16cd6"
  },
  "kernelspec": {
   "display_name": "Python 3 (ipykernel)",
   "language": "python",
   "name": "python3"
  },
  "language_info": {
   "codemirror_mode": {
    "name": "ipython",
    "version": 3
   },
   "file_extension": ".py",
   "mimetype": "text/x-python",
   "name": "python",
   "nbconvert_exporter": "python",
   "pygments_lexer": "ipython3",
   "version": "3.8.13"
  },
  "papermill": {
   "default_parameters": {},
   "duration": 665.899123,
   "end_time": "2022-07-22T20:31:26.932712",
   "environment_variables": {},
   "exception": true,
   "input_path": "ABC_GAN-Catboost.ipynb",
   "output_path": "./ABC_GAN_Catboost/ABC-GAN_output_2_2.ipynb",
   "parameters": {
    "bias": 1,
    "variance": 0.01
   },
   "start_time": "2022-07-22T20:20:21.033589",
   "version": "2.3.3"
  }
 },
 "nbformat": 4,
 "nbformat_minor": 5
}