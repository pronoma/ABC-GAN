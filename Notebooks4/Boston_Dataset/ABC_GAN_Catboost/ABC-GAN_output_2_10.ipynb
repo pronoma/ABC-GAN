{
 "cells": [
  {
   "cell_type": "markdown",
   "id": "5502c651",
   "metadata": {
    "tags": [
     "papermill-error-cell-tag"
    ]
   },
   "source": [
    "<span style=\"color:red; font-family:Helvetica Neue, Helvetica, Arial, sans-serif; font-size:2em;\">An Exception was encountered at '<a href=\"#papermill-error-cell\">In [20]</a>'.</span>"
   ]
  },
  {
   "cell_type": "markdown",
   "id": "622780e6",
   "metadata": {
    "id": "622780e6",
    "papermill": {
     "duration": 0.010093,
     "end_time": "2022-07-22T21:49:38.323447",
     "exception": false,
     "start_time": "2022-07-22T21:49:38.313354",
     "status": "completed"
    },
    "tags": []
   },
   "source": [
    "## Import Libraries "
   ]
  },
  {
   "cell_type": "code",
   "execution_count": 1,
   "id": "a62397e3",
   "metadata": {
    "execution": {
     "iopub.execute_input": "2022-07-22T21:49:38.347830Z",
     "iopub.status.busy": "2022-07-22T21:49:38.347064Z",
     "iopub.status.idle": "2022-07-22T21:49:38.391668Z",
     "shell.execute_reply": "2022-07-22T21:49:38.387837Z"
    },
    "id": "a62397e3",
    "papermill": {
     "duration": 0.064538,
     "end_time": "2022-07-22T21:49:38.396268",
     "exception": false,
     "start_time": "2022-07-22T21:49:38.331730",
     "status": "completed"
    },
    "tags": []
   },
   "outputs": [],
   "source": [
    "import warnings\n",
    "import sys\n",
    "sys.path.insert(0, '../../src')\n",
    "warnings.filterwarnings('ignore')"
   ]
  },
  {
   "cell_type": "code",
   "execution_count": 2,
   "id": "d6a4e155",
   "metadata": {
    "execution": {
     "iopub.execute_input": "2022-07-22T21:49:38.420744Z",
     "iopub.status.busy": "2022-07-22T21:49:38.419624Z",
     "iopub.status.idle": "2022-07-22T21:49:45.933140Z",
     "shell.execute_reply": "2022-07-22T21:49:45.932447Z"
    },
    "id": "d6a4e155",
    "papermill": {
     "duration": 7.531267,
     "end_time": "2022-07-22T21:49:45.936310",
     "exception": false,
     "start_time": "2022-07-22T21:49:38.405043",
     "status": "completed"
    },
    "tags": []
   },
   "outputs": [],
   "source": [
    "import ABC_train_test2\n",
    "import bostonDataset\n",
    "import network\n",
    "import dataset\n",
    "import sanityChecks\n",
    "import torch \n",
    "import scrapbook as sb\n",
    "from statistics import mean \n",
    "import catboost as ctb \n",
    "from sklearn.model_selection import train_test_split\n",
    "from sklearn.metrics import mean_squared_error,mean_absolute_error\n",
    "import numpy as np"
   ]
  },
  {
   "cell_type": "markdown",
   "id": "2fa5b0f7",
   "metadata": {
    "id": "2fa5b0f7",
    "papermill": {
     "duration": 0.008148,
     "end_time": "2022-07-22T21:49:45.952446",
     "exception": false,
     "start_time": "2022-07-22T21:49:45.944298",
     "status": "completed"
    },
    "tags": []
   },
   "source": [
    "## Parameters "
   ]
  },
  {
   "cell_type": "code",
   "execution_count": 3,
   "id": "783186fb",
   "metadata": {
    "execution": {
     "iopub.execute_input": "2022-07-22T21:49:45.977392Z",
     "iopub.status.busy": "2022-07-22T21:49:45.976792Z",
     "iopub.status.idle": "2022-07-22T21:49:45.993135Z",
     "shell.execute_reply": "2022-07-22T21:49:45.989838Z"
    },
    "id": "783186fb",
    "papermill": {
     "duration": 0.036528,
     "end_time": "2022-07-22T21:49:45.996338",
     "exception": false,
     "start_time": "2022-07-22T21:49:45.959810",
     "status": "completed"
    },
    "tags": [
     "parameters"
    ]
   },
   "outputs": [],
   "source": [
    "variance = 1\n",
    "bias = 1 "
   ]
  },
  {
   "cell_type": "code",
   "execution_count": 4,
   "id": "2064f366",
   "metadata": {
    "execution": {
     "iopub.execute_input": "2022-07-22T21:49:46.019520Z",
     "iopub.status.busy": "2022-07-22T21:49:46.018676Z",
     "iopub.status.idle": "2022-07-22T21:49:46.024232Z",
     "shell.execute_reply": "2022-07-22T21:49:46.023206Z"
    },
    "papermill": {
     "duration": 0.023261,
     "end_time": "2022-07-22T21:49:46.027165",
     "exception": false,
     "start_time": "2022-07-22T21:49:46.003904",
     "status": "completed"
    },
    "tags": [
     "injected-parameters"
    ]
   },
   "outputs": [],
   "source": [
    "# Parameters\n",
    "variance = 0.1\n",
    "bias = 0\n"
   ]
  },
  {
   "cell_type": "markdown",
   "id": "391cdbfd",
   "metadata": {
    "id": "391cdbfd",
    "papermill": {
     "duration": 0.007444,
     "end_time": "2022-07-22T21:49:46.043003",
     "exception": false,
     "start_time": "2022-07-22T21:49:46.035559",
     "status": "completed"
    },
    "tags": []
   },
   "source": [
    "## Dataset \n"
   ]
  },
  {
   "cell_type": "code",
   "execution_count": 5,
   "id": "5b51f161",
   "metadata": {
    "execution": {
     "iopub.execute_input": "2022-07-22T21:49:46.064775Z",
     "iopub.status.busy": "2022-07-22T21:49:46.063964Z",
     "iopub.status.idle": "2022-07-22T21:49:46.073174Z",
     "shell.execute_reply": "2022-07-22T21:49:46.070777Z"
    },
    "id": "5b51f161",
    "papermill": {
     "duration": 0.028932,
     "end_time": "2022-07-22T21:49:46.079771",
     "exception": false,
     "start_time": "2022-07-22T21:49:46.050839",
     "status": "completed"
    },
    "tags": []
   },
   "outputs": [],
   "source": [
    "#Parameters \n",
    "n_features = 13\n",
    "n_samples= 506\n",
    "n_target = 1 "
   ]
  },
  {
   "cell_type": "code",
   "execution_count": 6,
   "id": "5d6eced4",
   "metadata": {
    "execution": {
     "iopub.execute_input": "2022-07-22T21:49:46.099025Z",
     "iopub.status.busy": "2022-07-22T21:49:46.098471Z",
     "iopub.status.idle": "2022-07-22T21:49:46.126797Z",
     "shell.execute_reply": "2022-07-22T21:49:46.125981Z"
    },
    "id": "5d6eced4",
    "papermill": {
     "duration": 0.04205,
     "end_time": "2022-07-22T21:49:46.130391",
     "exception": false,
     "start_time": "2022-07-22T21:49:46.088341",
     "status": "completed"
    },
    "tags": []
   },
   "outputs": [
    {
     "name": "stdout",
     "output_type": "stream",
     "text": [
      "         X1        X2        X3        X4        X5        X6        X7  \\\n",
      "0 -0.419782  0.284830 -1.287909 -0.272599 -0.144217  0.413672 -0.120013   \n",
      "1 -0.417339 -0.487722 -0.593381 -0.272599 -0.740262  0.194274  0.367166   \n",
      "2 -0.417342 -0.487722 -0.593381 -0.272599 -0.740262  1.282714 -0.265812   \n",
      "3 -0.416750 -0.487722 -1.306878 -0.272599 -0.835284  1.016303 -0.809889   \n",
      "4 -0.412482 -0.487722 -1.306878 -0.272599 -0.835284  1.228577 -0.511180   \n",
      "\n",
      "         X8        X9       X10       X11       X12       X13         Y  \n",
      "0  0.140214 -0.982843 -0.666608 -1.459000  0.441052 -1.075562  0.159686  \n",
      "1  0.557160 -0.867883 -0.987329 -0.303094  0.441052 -0.492439 -0.101524  \n",
      "2  0.557160 -0.867883 -0.987329 -0.303094  0.396427 -1.208727  1.324247  \n",
      "3  1.077737 -0.752922 -1.106115  0.113032  0.416163 -1.361517  1.182758  \n",
      "4  1.077737 -0.752922 -1.106115  0.113032  0.441052 -1.026501  1.487503  \n"
     ]
    }
   ],
   "source": [
    "X,Y = bostonDataset.boston_data()"
   ]
  },
  {
   "cell_type": "code",
   "execution_count": 7,
   "id": "fe007438",
   "metadata": {
    "execution": {
     "iopub.execute_input": "2022-07-22T21:49:46.148604Z",
     "iopub.status.busy": "2022-07-22T21:49:46.147677Z",
     "iopub.status.idle": "2022-07-22T21:49:46.154362Z",
     "shell.execute_reply": "2022-07-22T21:49:46.153440Z"
    },
    "id": "fe007438",
    "papermill": {
     "duration": 0.026976,
     "end_time": "2022-07-22T21:49:46.165129",
     "exception": false,
     "start_time": "2022-07-22T21:49:46.138153",
     "status": "completed"
    },
    "tags": []
   },
   "outputs": [],
   "source": [
    "#Train test split for dataset \n",
    "X_train,X_test,Y_train,Y_test = train_test_split(X,Y,test_size = 0.2)\n",
    "train_data = dataset.CustomDataset(X_train,Y_train)\n",
    "test_data = dataset.CustomDataset(X_test,Y_test)\n"
   ]
  },
  {
   "cell_type": "markdown",
   "id": "a9a1af34",
   "metadata": {
    "id": "a9a1af34",
    "papermill": {
     "duration": 0.015836,
     "end_time": "2022-07-22T21:49:46.189152",
     "exception": false,
     "start_time": "2022-07-22T21:49:46.173316",
     "status": "completed"
    },
    "tags": []
   },
   "source": [
    "## Training Parameters "
   ]
  },
  {
   "cell_type": "code",
   "execution_count": 8,
   "id": "952b7fc8",
   "metadata": {
    "execution": {
     "iopub.execute_input": "2022-07-22T21:49:46.210122Z",
     "iopub.status.busy": "2022-07-22T21:49:46.209640Z",
     "iopub.status.idle": "2022-07-22T21:49:46.214869Z",
     "shell.execute_reply": "2022-07-22T21:49:46.213972Z"
    },
    "id": "952b7fc8",
    "papermill": {
     "duration": 0.021121,
     "end_time": "2022-07-22T21:49:46.220010",
     "exception": false,
     "start_time": "2022-07-22T21:49:46.198889",
     "status": "completed"
    },
    "tags": []
   },
   "outputs": [],
   "source": [
    "batch_size = 32\n",
    "n_epochs = 1000\n",
    "#Select the device \n",
    "device = torch.device('cuda' if torch.cuda.is_available() else 'cpu')"
   ]
  },
  {
   "cell_type": "markdown",
   "id": "a95e1600",
   "metadata": {
    "id": "a95e1600",
    "papermill": {
     "duration": 0.01031,
     "end_time": "2022-07-22T21:49:46.238166",
     "exception": false,
     "start_time": "2022-07-22T21:49:46.227856",
     "status": "completed"
    },
    "tags": []
   },
   "source": [
    "# ABC Pre-generator Model \n",
    "\n",
    "1. The catboost model is used as a pre-generator model for the ABC-GAN. \n",
    "2. The model is first trained on the entire dataset \n",
    "3. It generats X,Y pairs and we add some Gaussian noise with mean 0 and variance 1 to it which is then feed as input to the generator.\n"
   ]
  },
  {
   "cell_type": "code",
   "execution_count": 9,
   "id": "ff8ce7bd",
   "metadata": {
    "execution": {
     "iopub.execute_input": "2022-07-22T21:49:46.259082Z",
     "iopub.status.busy": "2022-07-22T21:49:46.258746Z",
     "iopub.status.idle": "2022-07-22T21:49:49.746226Z",
     "shell.execute_reply": "2022-07-22T21:49:49.745466Z"
    },
    "id": "ff8ce7bd",
    "papermill": {
     "duration": 3.502075,
     "end_time": "2022-07-22T21:49:49.749354",
     "exception": false,
     "start_time": "2022-07-22T21:49:46.247279",
     "status": "completed"
    },
    "tags": []
   },
   "outputs": [
    {
     "name": "stdout",
     "output_type": "stream",
     "text": [
      "Learning rate set to 0.03548\n"
     ]
    },
    {
     "name": "stdout",
     "output_type": "stream",
     "text": [
      "0:\tlearn: 1.0003393\ttotal: 63.3ms\tremaining: 1m 3s\n",
      "1:\tlearn: 0.9794276\ttotal: 66.4ms\tremaining: 33.1s\n",
      "2:\tlearn: 0.9580929\ttotal: 69ms\tremaining: 22.9s\n",
      "3:\tlearn: 0.9404170\ttotal: 77.6ms\tremaining: 19.3s\n",
      "4:\tlearn: 0.9240770\ttotal: 80.8ms\tremaining: 16.1s\n",
      "5:\tlearn: 0.9046934\ttotal: 83.6ms\tremaining: 13.9s\n",
      "6:\tlearn: 0.8861435\ttotal: 89.1ms\tremaining: 12.6s\n",
      "7:\tlearn: 0.8684515\ttotal: 91.7ms\tremaining: 11.4s\n",
      "8:\tlearn: 0.8512064\ttotal: 94ms\tremaining: 10.3s\n",
      "9:\tlearn: 0.8337259\ttotal: 96.3ms\tremaining: 9.54s\n",
      "10:\tlearn: 0.8186915\ttotal: 98.7ms\tremaining: 8.87s\n",
      "11:\tlearn: 0.8030358\ttotal: 101ms\tremaining: 8.34s\n",
      "12:\tlearn: 0.7867911\ttotal: 104ms\tremaining: 7.86s\n",
      "13:\tlearn: 0.7710048\ttotal: 106ms\tremaining: 7.47s\n",
      "14:\tlearn: 0.7580908\ttotal: 110ms\tremaining: 7.2s\n",
      "15:\tlearn: 0.7422866\ttotal: 115ms\tremaining: 7.08s\n",
      "16:\tlearn: 0.7282810\ttotal: 119ms\tremaining: 6.86s\n",
      "17:\tlearn: 0.7143535\ttotal: 129ms\tremaining: 7.03s\n",
      "18:\tlearn: 0.7015697\ttotal: 131ms\tremaining: 6.78s\n",
      "19:\tlearn: 0.6888681\ttotal: 134ms\tremaining: 6.55s\n",
      "20:\tlearn: 0.6754031\ttotal: 136ms\tremaining: 6.34s\n",
      "21:\tlearn: 0.6642923\ttotal: 138ms\tremaining: 6.15s\n",
      "22:\tlearn: 0.6535362\ttotal: 141ms\tremaining: 5.97s\n",
      "23:\tlearn: 0.6430339\ttotal: 143ms\tremaining: 5.82s\n",
      "24:\tlearn: 0.6335010\ttotal: 145ms\tremaining: 5.67s\n",
      "25:\tlearn: 0.6234858\ttotal: 148ms\tremaining: 5.54s\n",
      "26:\tlearn: 0.6144641\ttotal: 150ms\tremaining: 5.42s\n",
      "27:\tlearn: 0.6056292\ttotal: 159ms\tremaining: 5.53s\n",
      "28:\tlearn: 0.5949111\ttotal: 168ms\tremaining: 5.62s\n",
      "29:\tlearn: 0.5844814\ttotal: 171ms\tremaining: 5.52s\n",
      "30:\tlearn: 0.5735472\ttotal: 173ms\tremaining: 5.41s\n",
      "31:\tlearn: 0.5649571\ttotal: 175ms\tremaining: 5.28s\n",
      "32:\tlearn: 0.5582284\ttotal: 177ms\tremaining: 5.18s\n",
      "33:\tlearn: 0.5510150\ttotal: 179ms\tremaining: 5.09s\n"
     ]
    },
    {
     "name": "stdout",
     "output_type": "stream",
     "text": [
      "34:\tlearn: 0.5448536\ttotal: 181ms\tremaining: 5s\n",
      "35:\tlearn: 0.5378277\ttotal: 184ms\tremaining: 4.93s\n",
      "36:\tlearn: 0.5312199\ttotal: 187ms\tremaining: 4.86s\n",
      "37:\tlearn: 0.5241608\ttotal: 189ms\tremaining: 4.79s\n",
      "38:\tlearn: 0.5169252\ttotal: 190ms\tremaining: 4.69s\n",
      "39:\tlearn: 0.5085255\ttotal: 193ms\tremaining: 4.63s\n",
      "40:\tlearn: 0.5032648\ttotal: 196ms\tremaining: 4.58s\n",
      "41:\tlearn: 0.4959756\ttotal: 199ms\tremaining: 4.54s\n",
      "42:\tlearn: 0.4916475\ttotal: 201ms\tremaining: 4.47s\n",
      "43:\tlearn: 0.4847239\ttotal: 204ms\tremaining: 4.44s\n",
      "44:\tlearn: 0.4791450\ttotal: 207ms\tremaining: 4.39s\n",
      "45:\tlearn: 0.4746548\ttotal: 209ms\tremaining: 4.33s\n",
      "46:\tlearn: 0.4694303\ttotal: 211ms\tremaining: 4.28s\n",
      "47:\tlearn: 0.4634403\ttotal: 213ms\tremaining: 4.23s\n",
      "48:\tlearn: 0.4588230\ttotal: 216ms\tremaining: 4.19s\n",
      "49:\tlearn: 0.4527979\ttotal: 219ms\tremaining: 4.15s\n",
      "50:\tlearn: 0.4472620\ttotal: 221ms\tremaining: 4.11s\n",
      "51:\tlearn: 0.4428202\ttotal: 223ms\tremaining: 4.07s\n",
      "52:\tlearn: 0.4379844\ttotal: 226ms\tremaining: 4.03s\n",
      "53:\tlearn: 0.4318073\ttotal: 228ms\tremaining: 4s\n"
     ]
    },
    {
     "name": "stdout",
     "output_type": "stream",
     "text": [
      "54:\tlearn: 0.4267096\ttotal: 232ms\tremaining: 3.99s\n",
      "55:\tlearn: 0.4224087\ttotal: 236ms\tremaining: 3.98s\n",
      "56:\tlearn: 0.4189920\ttotal: 239ms\tremaining: 3.96s\n",
      "57:\tlearn: 0.4144138\ttotal: 241ms\tremaining: 3.92s\n",
      "58:\tlearn: 0.4103694\ttotal: 244ms\tremaining: 3.9s\n",
      "59:\tlearn: 0.4064009\ttotal: 247ms\tremaining: 3.87s\n",
      "60:\tlearn: 0.4031700\ttotal: 249ms\tremaining: 3.84s\n",
      "61:\tlearn: 0.3988180\ttotal: 252ms\tremaining: 3.81s\n",
      "62:\tlearn: 0.3940374\ttotal: 254ms\tremaining: 3.78s\n",
      "63:\tlearn: 0.3901754\ttotal: 257ms\tremaining: 3.75s\n",
      "64:\tlearn: 0.3869195\ttotal: 259ms\tremaining: 3.73s\n",
      "65:\tlearn: 0.3839214\ttotal: 261ms\tremaining: 3.7s\n",
      "66:\tlearn: 0.3810545\ttotal: 264ms\tremaining: 3.67s\n",
      "67:\tlearn: 0.3776521\ttotal: 266ms\tremaining: 3.65s\n",
      "68:\tlearn: 0.3748744\ttotal: 268ms\tremaining: 3.62s\n",
      "69:\tlearn: 0.3711339\ttotal: 271ms\tremaining: 3.6s\n",
      "70:\tlearn: 0.3673483\ttotal: 273ms\tremaining: 3.57s\n",
      "71:\tlearn: 0.3633834\ttotal: 275ms\tremaining: 3.55s\n",
      "72:\tlearn: 0.3595002\ttotal: 280ms\tremaining: 3.55s\n",
      "73:\tlearn: 0.3568655\ttotal: 283ms\tremaining: 3.54s\n",
      "74:\tlearn: 0.3539051\ttotal: 285ms\tremaining: 3.52s\n",
      "75:\tlearn: 0.3509416\ttotal: 288ms\tremaining: 3.5s\n",
      "76:\tlearn: 0.3483593\ttotal: 295ms\tremaining: 3.53s\n",
      "77:\tlearn: 0.3462501\ttotal: 299ms\tremaining: 3.53s\n",
      "78:\tlearn: 0.3436409\ttotal: 301ms\tremaining: 3.51s\n",
      "79:\tlearn: 0.3413689\ttotal: 304ms\tremaining: 3.49s\n",
      "80:\tlearn: 0.3387405\ttotal: 306ms\tremaining: 3.47s\n",
      "81:\tlearn: 0.3361392\ttotal: 308ms\tremaining: 3.45s\n",
      "82:\tlearn: 0.3343257\ttotal: 310ms\tremaining: 3.42s\n",
      "83:\tlearn: 0.3322141\ttotal: 312ms\tremaining: 3.4s\n",
      "84:\tlearn: 0.3298389\ttotal: 315ms\tremaining: 3.39s\n",
      "85:\tlearn: 0.3271572\ttotal: 317ms\tremaining: 3.37s\n",
      "86:\tlearn: 0.3249026\ttotal: 320ms\tremaining: 3.35s\n",
      "87:\tlearn: 0.3232658\ttotal: 322ms\tremaining: 3.34s\n",
      "88:\tlearn: 0.3207187\ttotal: 325ms\tremaining: 3.32s\n",
      "89:\tlearn: 0.3183642\ttotal: 327ms\tremaining: 3.31s\n",
      "90:\tlearn: 0.3161377\ttotal: 329ms\tremaining: 3.29s\n",
      "91:\tlearn: 0.3138279\ttotal: 332ms\tremaining: 3.28s\n",
      "92:\tlearn: 0.3116202\ttotal: 334ms\tremaining: 3.26s\n",
      "93:\tlearn: 0.3098514\ttotal: 337ms\tremaining: 3.25s\n",
      "94:\tlearn: 0.3080557\ttotal: 339ms\tremaining: 3.23s\n",
      "95:\tlearn: 0.3066543\ttotal: 342ms\tremaining: 3.22s\n"
     ]
    },
    {
     "name": "stdout",
     "output_type": "stream",
     "text": [
      "96:\tlearn: 0.3047403\ttotal: 374ms\tremaining: 3.49s\n",
      "97:\tlearn: 0.3032175\ttotal: 379ms\tremaining: 3.49s\n",
      "98:\tlearn: 0.3018362\ttotal: 384ms\tremaining: 3.49s\n",
      "99:\tlearn: 0.3002261\ttotal: 388ms\tremaining: 3.49s\n",
      "100:\tlearn: 0.2988144\ttotal: 391ms\tremaining: 3.48s\n",
      "101:\tlearn: 0.2973214\ttotal: 393ms\tremaining: 3.46s\n",
      "102:\tlearn: 0.2957964\ttotal: 396ms\tremaining: 3.45s\n",
      "103:\tlearn: 0.2947045\ttotal: 398ms\tremaining: 3.43s\n"
     ]
    },
    {
     "name": "stdout",
     "output_type": "stream",
     "text": [
      "104:\tlearn: 0.2937351\ttotal: 401ms\tremaining: 3.41s\n",
      "105:\tlearn: 0.2922812\ttotal: 403ms\tremaining: 3.4s\n",
      "106:\tlearn: 0.2906310\ttotal: 405ms\tremaining: 3.38s\n",
      "107:\tlearn: 0.2897395\ttotal: 408ms\tremaining: 3.37s\n",
      "108:\tlearn: 0.2886811\ttotal: 410ms\tremaining: 3.35s\n",
      "109:\tlearn: 0.2869636\ttotal: 413ms\tremaining: 3.34s\n",
      "110:\tlearn: 0.2855590\ttotal: 415ms\tremaining: 3.33s\n",
      "111:\tlearn: 0.2843822\ttotal: 418ms\tremaining: 3.31s\n",
      "112:\tlearn: 0.2829642\ttotal: 419ms\tremaining: 3.29s\n",
      "113:\tlearn: 0.2819234\ttotal: 422ms\tremaining: 3.28s\n",
      "114:\tlearn: 0.2808237\ttotal: 424ms\tremaining: 3.26s\n",
      "115:\tlearn: 0.2797119\ttotal: 426ms\tremaining: 3.25s\n",
      "116:\tlearn: 0.2782876\ttotal: 429ms\tremaining: 3.24s\n",
      "117:\tlearn: 0.2771883\ttotal: 431ms\tremaining: 3.22s\n",
      "118:\tlearn: 0.2764810\ttotal: 434ms\tremaining: 3.21s\n",
      "119:\tlearn: 0.2754663\ttotal: 436ms\tremaining: 3.2s\n",
      "120:\tlearn: 0.2739520\ttotal: 438ms\tremaining: 3.18s\n",
      "121:\tlearn: 0.2728370\ttotal: 441ms\tremaining: 3.17s\n",
      "122:\tlearn: 0.2712290\ttotal: 443ms\tremaining: 3.16s\n",
      "123:\tlearn: 0.2702925\ttotal: 445ms\tremaining: 3.14s\n",
      "124:\tlearn: 0.2689516\ttotal: 448ms\tremaining: 3.13s\n",
      "125:\tlearn: 0.2679173\ttotal: 450ms\tremaining: 3.12s\n",
      "126:\tlearn: 0.2664777\ttotal: 452ms\tremaining: 3.11s\n",
      "127:\tlearn: 0.2652262\ttotal: 455ms\tremaining: 3.1s\n",
      "128:\tlearn: 0.2641246\ttotal: 457ms\tremaining: 3.08s\n",
      "129:\tlearn: 0.2634105\ttotal: 459ms\tremaining: 3.07s\n",
      "130:\tlearn: 0.2626837\ttotal: 461ms\tremaining: 3.06s\n",
      "131:\tlearn: 0.2616106\ttotal: 464ms\tremaining: 3.05s\n",
      "132:\tlearn: 0.2604400\ttotal: 466ms\tremaining: 3.04s\n",
      "133:\tlearn: 0.2597556\ttotal: 468ms\tremaining: 3.02s\n",
      "134:\tlearn: 0.2595825\ttotal: 470ms\tremaining: 3.01s\n",
      "135:\tlearn: 0.2590987\ttotal: 472ms\tremaining: 3s\n",
      "136:\tlearn: 0.2583835\ttotal: 474ms\tremaining: 2.99s\n",
      "137:\tlearn: 0.2573332\ttotal: 476ms\tremaining: 2.98s\n",
      "138:\tlearn: 0.2564205\ttotal: 479ms\tremaining: 2.96s\n",
      "139:\tlearn: 0.2555499\ttotal: 481ms\tremaining: 2.96s\n",
      "140:\tlearn: 0.2545502\ttotal: 483ms\tremaining: 2.94s\n",
      "141:\tlearn: 0.2537773\ttotal: 486ms\tremaining: 2.94s\n",
      "142:\tlearn: 0.2532593\ttotal: 489ms\tremaining: 2.93s\n",
      "143:\tlearn: 0.2527633\ttotal: 499ms\tremaining: 2.96s\n",
      "144:\tlearn: 0.2519981\ttotal: 501ms\tremaining: 2.95s\n",
      "145:\tlearn: 0.2512442\ttotal: 503ms\tremaining: 2.94s\n",
      "146:\tlearn: 0.2503070\ttotal: 506ms\tremaining: 2.93s\n",
      "147:\tlearn: 0.2493611\ttotal: 508ms\tremaining: 2.92s\n",
      "148:\tlearn: 0.2485203\ttotal: 510ms\tremaining: 2.91s\n",
      "149:\tlearn: 0.2479692\ttotal: 513ms\tremaining: 2.9s\n",
      "150:\tlearn: 0.2472148\ttotal: 515ms\tremaining: 2.89s\n",
      "151:\tlearn: 0.2464264\ttotal: 517ms\tremaining: 2.88s\n",
      "152:\tlearn: 0.2455218\ttotal: 520ms\tremaining: 2.88s\n",
      "153:\tlearn: 0.2448630\ttotal: 522ms\tremaining: 2.87s\n",
      "154:\tlearn: 0.2442741\ttotal: 525ms\tremaining: 2.86s\n",
      "155:\tlearn: 0.2434113\ttotal: 527ms\tremaining: 2.85s\n",
      "156:\tlearn: 0.2427130\ttotal: 530ms\tremaining: 2.84s\n"
     ]
    },
    {
     "name": "stdout",
     "output_type": "stream",
     "text": [
      "157:\tlearn: 0.2416695\ttotal: 533ms\tremaining: 2.84s\n",
      "158:\tlearn: 0.2406647\ttotal: 535ms\tremaining: 2.83s\n",
      "159:\tlearn: 0.2404942\ttotal: 536ms\tremaining: 2.81s\n",
      "160:\tlearn: 0.2402792\ttotal: 539ms\tremaining: 2.81s\n",
      "161:\tlearn: 0.2397416\ttotal: 542ms\tremaining: 2.8s\n",
      "162:\tlearn: 0.2389930\ttotal: 544ms\tremaining: 2.79s\n",
      "163:\tlearn: 0.2380245\ttotal: 547ms\tremaining: 2.79s\n",
      "164:\tlearn: 0.2373482\ttotal: 549ms\tremaining: 2.78s\n",
      "165:\tlearn: 0.2367379\ttotal: 551ms\tremaining: 2.77s\n",
      "166:\tlearn: 0.2358386\ttotal: 554ms\tremaining: 2.76s\n",
      "167:\tlearn: 0.2351027\ttotal: 556ms\tremaining: 2.75s\n",
      "168:\tlearn: 0.2343520\ttotal: 559ms\tremaining: 2.75s\n"
     ]
    },
    {
     "name": "stdout",
     "output_type": "stream",
     "text": [
      "169:\tlearn: 0.2339790\ttotal: 564ms\tremaining: 2.75s\n",
      "170:\tlearn: 0.2330262\ttotal: 569ms\tremaining: 2.76s\n",
      "171:\tlearn: 0.2320259\ttotal: 572ms\tremaining: 2.75s\n",
      "172:\tlearn: 0.2315040\ttotal: 578ms\tremaining: 2.76s\n",
      "173:\tlearn: 0.2311808\ttotal: 605ms\tremaining: 2.87s\n",
      "174:\tlearn: 0.2305609\ttotal: 607ms\tremaining: 2.86s\n",
      "175:\tlearn: 0.2299791\ttotal: 615ms\tremaining: 2.88s\n",
      "176:\tlearn: 0.2293427\ttotal: 618ms\tremaining: 2.87s\n",
      "177:\tlearn: 0.2288712\ttotal: 621ms\tremaining: 2.87s\n",
      "178:\tlearn: 0.2281661\ttotal: 624ms\tremaining: 2.86s\n",
      "179:\tlearn: 0.2276543\ttotal: 626ms\tremaining: 2.85s\n",
      "180:\tlearn: 0.2270775\ttotal: 628ms\tremaining: 2.84s\n",
      "181:\tlearn: 0.2265015\ttotal: 631ms\tremaining: 2.84s\n",
      "182:\tlearn: 0.2262385\ttotal: 634ms\tremaining: 2.83s\n",
      "183:\tlearn: 0.2256412\ttotal: 636ms\tremaining: 2.82s\n",
      "184:\tlearn: 0.2251700\ttotal: 638ms\tremaining: 2.81s\n",
      "185:\tlearn: 0.2244538\ttotal: 640ms\tremaining: 2.8s\n",
      "186:\tlearn: 0.2241891\ttotal: 643ms\tremaining: 2.79s\n",
      "187:\tlearn: 0.2240705\ttotal: 644ms\tremaining: 2.78s\n",
      "188:\tlearn: 0.2237917\ttotal: 646ms\tremaining: 2.77s\n",
      "189:\tlearn: 0.2230225\ttotal: 648ms\tremaining: 2.76s\n",
      "190:\tlearn: 0.2225415\ttotal: 651ms\tremaining: 2.76s\n",
      "191:\tlearn: 0.2217149\ttotal: 654ms\tremaining: 2.75s\n",
      "192:\tlearn: 0.2209286\ttotal: 656ms\tremaining: 2.74s\n",
      "193:\tlearn: 0.2205571\ttotal: 659ms\tremaining: 2.74s\n",
      "194:\tlearn: 0.2197443\ttotal: 661ms\tremaining: 2.73s\n",
      "195:\tlearn: 0.2194074\ttotal: 665ms\tremaining: 2.73s\n",
      "196:\tlearn: 0.2188876\ttotal: 667ms\tremaining: 2.72s\n"
     ]
    },
    {
     "name": "stdout",
     "output_type": "stream",
     "text": [
      "197:\tlearn: 0.2182146\ttotal: 670ms\tremaining: 2.71s\n",
      "198:\tlearn: 0.2174087\ttotal: 673ms\tremaining: 2.71s\n",
      "199:\tlearn: 0.2169903\ttotal: 676ms\tremaining: 2.7s\n",
      "200:\tlearn: 0.2162231\ttotal: 678ms\tremaining: 2.7s\n",
      "201:\tlearn: 0.2157896\ttotal: 681ms\tremaining: 2.69s\n",
      "202:\tlearn: 0.2154476\ttotal: 684ms\tremaining: 2.68s\n",
      "203:\tlearn: 0.2149288\ttotal: 686ms\tremaining: 2.68s\n",
      "204:\tlearn: 0.2143884\ttotal: 689ms\tremaining: 2.67s\n",
      "205:\tlearn: 0.2137066\ttotal: 691ms\tremaining: 2.66s\n",
      "206:\tlearn: 0.2132918\ttotal: 694ms\tremaining: 2.66s\n",
      "207:\tlearn: 0.2128432\ttotal: 697ms\tremaining: 2.65s\n",
      "208:\tlearn: 0.2119147\ttotal: 700ms\tremaining: 2.65s\n",
      "209:\tlearn: 0.2112998\ttotal: 703ms\tremaining: 2.65s\n"
     ]
    },
    {
     "name": "stdout",
     "output_type": "stream",
     "text": [
      "210:\tlearn: 0.2107267\ttotal: 709ms\tremaining: 2.65s\n",
      "211:\tlearn: 0.2101801\ttotal: 712ms\tremaining: 2.65s\n",
      "212:\tlearn: 0.2098604\ttotal: 716ms\tremaining: 2.65s\n",
      "213:\tlearn: 0.2097136\ttotal: 725ms\tremaining: 2.66s\n",
      "214:\tlearn: 0.2090291\ttotal: 728ms\tremaining: 2.66s\n",
      "215:\tlearn: 0.2083993\ttotal: 730ms\tremaining: 2.65s\n",
      "216:\tlearn: 0.2082489\ttotal: 733ms\tremaining: 2.64s\n",
      "217:\tlearn: 0.2076424\ttotal: 736ms\tremaining: 2.64s\n",
      "218:\tlearn: 0.2073395\ttotal: 738ms\tremaining: 2.63s\n",
      "219:\tlearn: 0.2065398\ttotal: 740ms\tremaining: 2.63s\n",
      "220:\tlearn: 0.2063222\ttotal: 743ms\tremaining: 2.62s\n",
      "221:\tlearn: 0.2058475\ttotal: 745ms\tremaining: 2.61s\n",
      "222:\tlearn: 0.2051583\ttotal: 748ms\tremaining: 2.6s\n",
      "223:\tlearn: 0.2049762\ttotal: 750ms\tremaining: 2.6s\n",
      "224:\tlearn: 0.2044530\ttotal: 753ms\tremaining: 2.59s\n",
      "225:\tlearn: 0.2037621\ttotal: 755ms\tremaining: 2.58s\n",
      "226:\tlearn: 0.2030158\ttotal: 758ms\tremaining: 2.58s\n",
      "227:\tlearn: 0.2025479\ttotal: 761ms\tremaining: 2.58s\n",
      "228:\tlearn: 0.2021748\ttotal: 765ms\tremaining: 2.58s\n",
      "229:\tlearn: 0.2020258\ttotal: 768ms\tremaining: 2.57s\n",
      "230:\tlearn: 0.2016359\ttotal: 771ms\tremaining: 2.56s\n",
      "231:\tlearn: 0.2012600\ttotal: 773ms\tremaining: 2.56s\n",
      "232:\tlearn: 0.2008513\ttotal: 775ms\tremaining: 2.55s\n",
      "233:\tlearn: 0.2005613\ttotal: 778ms\tremaining: 2.55s\n",
      "234:\tlearn: 0.2002114\ttotal: 780ms\tremaining: 2.54s\n",
      "235:\tlearn: 0.1993751\ttotal: 783ms\tremaining: 2.53s\n",
      "236:\tlearn: 0.1988640\ttotal: 785ms\tremaining: 2.53s\n",
      "237:\tlearn: 0.1982246\ttotal: 788ms\tremaining: 2.52s\n",
      "238:\tlearn: 0.1975218\ttotal: 791ms\tremaining: 2.52s\n",
      "239:\tlearn: 0.1972394\ttotal: 793ms\tremaining: 2.51s\n",
      "240:\tlearn: 0.1966164\ttotal: 796ms\tremaining: 2.5s\n",
      "241:\tlearn: 0.1962236\ttotal: 801ms\tremaining: 2.51s\n",
      "242:\tlearn: 0.1956778\ttotal: 804ms\tremaining: 2.5s\n",
      "243:\tlearn: 0.1954411\ttotal: 806ms\tremaining: 2.5s\n",
      "244:\tlearn: 0.1947882\ttotal: 809ms\tremaining: 2.49s\n",
      "245:\tlearn: 0.1945195\ttotal: 811ms\tremaining: 2.49s\n",
      "246:\tlearn: 0.1942103\ttotal: 814ms\tremaining: 2.48s\n",
      "247:\tlearn: 0.1938037\ttotal: 816ms\tremaining: 2.47s\n",
      "248:\tlearn: 0.1937216\ttotal: 818ms\tremaining: 2.47s\n",
      "249:\tlearn: 0.1930402\ttotal: 821ms\tremaining: 2.46s\n",
      "250:\tlearn: 0.1923592\ttotal: 823ms\tremaining: 2.46s\n",
      "251:\tlearn: 0.1919046\ttotal: 826ms\tremaining: 2.45s\n",
      "252:\tlearn: 0.1914054\ttotal: 829ms\tremaining: 2.45s\n",
      "253:\tlearn: 0.1912754\ttotal: 831ms\tremaining: 2.44s\n",
      "254:\tlearn: 0.1908942\ttotal: 834ms\tremaining: 2.44s\n"
     ]
    },
    {
     "name": "stdout",
     "output_type": "stream",
     "text": [
      "255:\tlearn: 0.1902239\ttotal: 838ms\tremaining: 2.44s\n",
      "256:\tlearn: 0.1896906\ttotal: 841ms\tremaining: 2.43s\n",
      "257:\tlearn: 0.1892722\ttotal: 843ms\tremaining: 2.42s\n",
      "258:\tlearn: 0.1888709\ttotal: 846ms\tremaining: 2.42s\n",
      "259:\tlearn: 0.1885745\ttotal: 848ms\tremaining: 2.41s\n",
      "260:\tlearn: 0.1879308\ttotal: 850ms\tremaining: 2.41s\n",
      "261:\tlearn: 0.1875727\ttotal: 853ms\tremaining: 2.4s\n",
      "262:\tlearn: 0.1870246\ttotal: 857ms\tremaining: 2.4s\n"
     ]
    },
    {
     "name": "stdout",
     "output_type": "stream",
     "text": [
      "263:\tlearn: 0.1865049\ttotal: 877ms\tremaining: 2.44s\n",
      "264:\tlearn: 0.1860176\ttotal: 881ms\tremaining: 2.44s\n",
      "265:\tlearn: 0.1855685\ttotal: 884ms\tremaining: 2.44s\n",
      "266:\tlearn: 0.1848839\ttotal: 886ms\tremaining: 2.43s\n",
      "267:\tlearn: 0.1842782\ttotal: 889ms\tremaining: 2.43s\n",
      "268:\tlearn: 0.1840904\ttotal: 891ms\tremaining: 2.42s\n",
      "269:\tlearn: 0.1837133\ttotal: 893ms\tremaining: 2.42s\n",
      "270:\tlearn: 0.1835963\ttotal: 896ms\tremaining: 2.41s\n",
      "271:\tlearn: 0.1831292\ttotal: 898ms\tremaining: 2.4s\n",
      "272:\tlearn: 0.1824546\ttotal: 903ms\tremaining: 2.4s\n",
      "273:\tlearn: 0.1820761\ttotal: 908ms\tremaining: 2.41s\n",
      "274:\tlearn: 0.1818527\ttotal: 912ms\tremaining: 2.4s\n",
      "275:\tlearn: 0.1812572\ttotal: 914ms\tremaining: 2.4s\n",
      "276:\tlearn: 0.1811563\ttotal: 916ms\tremaining: 2.39s\n",
      "277:\tlearn: 0.1810445\ttotal: 919ms\tremaining: 2.38s\n",
      "278:\tlearn: 0.1804058\ttotal: 921ms\tremaining: 2.38s\n",
      "279:\tlearn: 0.1799667\ttotal: 924ms\tremaining: 2.38s\n",
      "280:\tlearn: 0.1798484\ttotal: 926ms\tremaining: 2.37s\n",
      "281:\tlearn: 0.1793923\ttotal: 929ms\tremaining: 2.36s\n",
      "282:\tlearn: 0.1788166\ttotal: 931ms\tremaining: 2.36s\n",
      "283:\tlearn: 0.1787019\ttotal: 934ms\tremaining: 2.35s\n",
      "284:\tlearn: 0.1786434\ttotal: 937ms\tremaining: 2.35s\n",
      "285:\tlearn: 0.1783226\ttotal: 941ms\tremaining: 2.35s\n",
      "286:\tlearn: 0.1779344\ttotal: 947ms\tremaining: 2.35s\n",
      "287:\tlearn: 0.1774718\ttotal: 953ms\tremaining: 2.35s\n",
      "288:\tlearn: 0.1769524\ttotal: 957ms\tremaining: 2.35s\n",
      "289:\tlearn: 0.1768391\ttotal: 959ms\tremaining: 2.35s\n",
      "290:\tlearn: 0.1764280\ttotal: 962ms\tremaining: 2.34s\n",
      "291:\tlearn: 0.1760309\ttotal: 964ms\tremaining: 2.34s\n",
      "292:\tlearn: 0.1754846\ttotal: 966ms\tremaining: 2.33s\n",
      "293:\tlearn: 0.1748414\ttotal: 968ms\tremaining: 2.32s\n",
      "294:\tlearn: 0.1747535\ttotal: 970ms\tremaining: 2.32s\n",
      "295:\tlearn: 0.1743263\ttotal: 971ms\tremaining: 2.31s\n",
      "296:\tlearn: 0.1738933\ttotal: 974ms\tremaining: 2.31s\n",
      "297:\tlearn: 0.1735492\ttotal: 977ms\tremaining: 2.3s\n",
      "298:\tlearn: 0.1729643\ttotal: 980ms\tremaining: 2.3s\n",
      "299:\tlearn: 0.1726963\ttotal: 983ms\tremaining: 2.29s\n",
      "300:\tlearn: 0.1723661\ttotal: 986ms\tremaining: 2.29s\n",
      "301:\tlearn: 0.1722072\ttotal: 989ms\tremaining: 2.29s\n",
      "302:\tlearn: 0.1718816\ttotal: 993ms\tremaining: 2.28s\n",
      "303:\tlearn: 0.1717937\ttotal: 995ms\tremaining: 2.28s\n",
      "304:\tlearn: 0.1717158\ttotal: 997ms\tremaining: 2.27s\n",
      "305:\tlearn: 0.1716586\ttotal: 1000ms\tremaining: 2.27s\n",
      "306:\tlearn: 0.1715787\ttotal: 1s\tremaining: 2.26s\n"
     ]
    },
    {
     "name": "stdout",
     "output_type": "stream",
     "text": [
      "307:\tlearn: 0.1709857\ttotal: 1s\tremaining: 2.26s\n",
      "308:\tlearn: 0.1708802\ttotal: 1.01s\tremaining: 2.25s\n",
      "309:\tlearn: 0.1705436\ttotal: 1.01s\tremaining: 2.25s\n",
      "310:\tlearn: 0.1700347\ttotal: 1.01s\tremaining: 2.24s\n",
      "311:\tlearn: 0.1696255\ttotal: 1.01s\tremaining: 2.24s\n",
      "312:\tlearn: 0.1695133\ttotal: 1.02s\tremaining: 2.23s\n",
      "313:\tlearn: 0.1693721\ttotal: 1.02s\tremaining: 2.23s\n",
      "314:\tlearn: 0.1693071\ttotal: 1.02s\tremaining: 2.22s\n",
      "315:\tlearn: 0.1689525\ttotal: 1.02s\tremaining: 2.21s\n",
      "316:\tlearn: 0.1684850\ttotal: 1.03s\tremaining: 2.21s\n",
      "317:\tlearn: 0.1681293\ttotal: 1.03s\tremaining: 2.21s\n",
      "318:\tlearn: 0.1676834\ttotal: 1.03s\tremaining: 2.2s\n",
      "319:\tlearn: 0.1675498\ttotal: 1.03s\tremaining: 2.19s\n",
      "320:\tlearn: 0.1674668\ttotal: 1.03s\tremaining: 2.19s\n",
      "321:\tlearn: 0.1673144\ttotal: 1.04s\tremaining: 2.18s\n",
      "322:\tlearn: 0.1670131\ttotal: 1.04s\tremaining: 2.18s\n",
      "323:\tlearn: 0.1666039\ttotal: 1.04s\tremaining: 2.17s\n"
     ]
    },
    {
     "name": "stdout",
     "output_type": "stream",
     "text": [
      "324:\tlearn: 0.1663221\ttotal: 1.04s\tremaining: 2.17s\n",
      "325:\tlearn: 0.1660176\ttotal: 1.05s\tremaining: 2.16s\n",
      "326:\tlearn: 0.1656379\ttotal: 1.05s\tremaining: 2.16s\n",
      "327:\tlearn: 0.1653481\ttotal: 1.05s\tremaining: 2.15s\n",
      "328:\tlearn: 0.1650166\ttotal: 1.05s\tremaining: 2.15s\n",
      "329:\tlearn: 0.1648930\ttotal: 1.06s\tremaining: 2.14s\n",
      "330:\tlearn: 0.1645493\ttotal: 1.06s\tremaining: 2.14s\n",
      "331:\tlearn: 0.1640556\ttotal: 1.06s\tremaining: 2.13s\n",
      "332:\tlearn: 0.1635124\ttotal: 1.06s\tremaining: 2.13s\n",
      "333:\tlearn: 0.1632153\ttotal: 1.06s\tremaining: 2.12s\n",
      "334:\tlearn: 0.1628775\ttotal: 1.07s\tremaining: 2.12s\n",
      "335:\tlearn: 0.1628086\ttotal: 1.07s\tremaining: 2.11s\n",
      "336:\tlearn: 0.1625758\ttotal: 1.07s\tremaining: 2.11s\n",
      "337:\tlearn: 0.1621638\ttotal: 1.07s\tremaining: 2.1s\n",
      "338:\tlearn: 0.1618256\ttotal: 1.08s\tremaining: 2.1s\n",
      "339:\tlearn: 0.1614331\ttotal: 1.08s\tremaining: 2.1s\n",
      "340:\tlearn: 0.1610964\ttotal: 1.08s\tremaining: 2.09s\n",
      "341:\tlearn: 0.1609847\ttotal: 1.08s\tremaining: 2.09s\n",
      "342:\tlearn: 0.1606287\ttotal: 1.09s\tremaining: 2.08s\n",
      "343:\tlearn: 0.1603654\ttotal: 1.09s\tremaining: 2.08s\n",
      "344:\tlearn: 0.1603127\ttotal: 1.09s\tremaining: 2.07s\n",
      "345:\tlearn: 0.1599776\ttotal: 1.09s\tremaining: 2.07s\n",
      "346:\tlearn: 0.1597804\ttotal: 1.1s\tremaining: 2.06s\n",
      "347:\tlearn: 0.1596283\ttotal: 1.1s\tremaining: 2.06s\n",
      "348:\tlearn: 0.1592843\ttotal: 1.1s\tremaining: 2.05s\n",
      "349:\tlearn: 0.1588616\ttotal: 1.1s\tremaining: 2.05s\n",
      "350:\tlearn: 0.1585265\ttotal: 1.1s\tremaining: 2.04s\n",
      "351:\tlearn: 0.1582671\ttotal: 1.11s\tremaining: 2.04s\n",
      "352:\tlearn: 0.1581454\ttotal: 1.11s\tremaining: 2.04s\n",
      "353:\tlearn: 0.1577065\ttotal: 1.11s\tremaining: 2.03s\n",
      "354:\tlearn: 0.1574441\ttotal: 1.11s\tremaining: 2.02s\n",
      "355:\tlearn: 0.1571495\ttotal: 1.13s\tremaining: 2.04s\n",
      "356:\tlearn: 0.1567789\ttotal: 1.14s\tremaining: 2.06s\n",
      "357:\tlearn: 0.1563451\ttotal: 1.16s\tremaining: 2.07s\n",
      "358:\tlearn: 0.1559716\ttotal: 1.16s\tremaining: 2.07s\n",
      "359:\tlearn: 0.1558345\ttotal: 1.16s\tremaining: 2.07s\n"
     ]
    },
    {
     "name": "stdout",
     "output_type": "stream",
     "text": [
      "360:\tlearn: 0.1557840\ttotal: 1.17s\tremaining: 2.07s\n",
      "361:\tlearn: 0.1553857\ttotal: 1.18s\tremaining: 2.07s\n",
      "362:\tlearn: 0.1553366\ttotal: 1.18s\tremaining: 2.07s\n",
      "363:\tlearn: 0.1548744\ttotal: 1.19s\tremaining: 2.08s\n"
     ]
    },
    {
     "name": "stdout",
     "output_type": "stream",
     "text": [
      "364:\tlearn: 0.1546730\ttotal: 1.2s\tremaining: 2.09s\n",
      "365:\tlearn: 0.1542804\ttotal: 1.21s\tremaining: 2.09s\n",
      "366:\tlearn: 0.1540268\ttotal: 1.21s\tremaining: 2.08s\n",
      "367:\tlearn: 0.1537726\ttotal: 1.21s\tremaining: 2.08s\n",
      "368:\tlearn: 0.1533596\ttotal: 1.21s\tremaining: 2.08s\n",
      "369:\tlearn: 0.1527967\ttotal: 1.22s\tremaining: 2.07s\n",
      "370:\tlearn: 0.1524400\ttotal: 1.22s\tremaining: 2.07s\n",
      "371:\tlearn: 0.1522823\ttotal: 1.22s\tremaining: 2.06s\n",
      "372:\tlearn: 0.1519722\ttotal: 1.22s\tremaining: 2.06s\n",
      "373:\tlearn: 0.1516426\ttotal: 1.23s\tremaining: 2.05s\n",
      "374:\tlearn: 0.1512711\ttotal: 1.23s\tremaining: 2.05s\n",
      "375:\tlearn: 0.1508042\ttotal: 1.23s\tremaining: 2.04s\n",
      "376:\tlearn: 0.1504946\ttotal: 1.23s\tremaining: 2.04s\n",
      "377:\tlearn: 0.1501081\ttotal: 1.24s\tremaining: 2.03s\n",
      "378:\tlearn: 0.1499227\ttotal: 1.24s\tremaining: 2.03s\n",
      "379:\tlearn: 0.1495622\ttotal: 1.24s\tremaining: 2.02s\n",
      "380:\tlearn: 0.1491671\ttotal: 1.24s\tremaining: 2.02s\n",
      "381:\tlearn: 0.1490000\ttotal: 1.24s\tremaining: 2.01s\n",
      "382:\tlearn: 0.1487752\ttotal: 1.25s\tremaining: 2.01s\n",
      "383:\tlearn: 0.1485522\ttotal: 1.25s\tremaining: 2s\n",
      "384:\tlearn: 0.1482194\ttotal: 1.25s\tremaining: 2s\n",
      "385:\tlearn: 0.1477056\ttotal: 1.25s\tremaining: 2s\n",
      "386:\tlearn: 0.1474360\ttotal: 1.26s\tremaining: 1.99s\n",
      "387:\tlearn: 0.1473966\ttotal: 1.26s\tremaining: 1.99s\n",
      "388:\tlearn: 0.1470585\ttotal: 1.26s\tremaining: 1.98s\n",
      "389:\tlearn: 0.1467762\ttotal: 1.26s\tremaining: 1.98s\n",
      "390:\tlearn: 0.1463632\ttotal: 1.27s\tremaining: 1.97s\n",
      "391:\tlearn: 0.1461380\ttotal: 1.27s\tremaining: 1.97s\n",
      "392:\tlearn: 0.1459344\ttotal: 1.27s\tremaining: 1.96s\n",
      "393:\tlearn: 0.1456644\ttotal: 1.27s\tremaining: 1.96s\n",
      "394:\tlearn: 0.1453170\ttotal: 1.27s\tremaining: 1.95s\n",
      "395:\tlearn: 0.1450912\ttotal: 1.28s\tremaining: 1.95s\n",
      "396:\tlearn: 0.1449567\ttotal: 1.28s\tremaining: 1.94s\n",
      "397:\tlearn: 0.1446889\ttotal: 1.28s\tremaining: 1.94s\n",
      "398:\tlearn: 0.1442745\ttotal: 1.28s\tremaining: 1.94s\n",
      "399:\tlearn: 0.1440133\ttotal: 1.29s\tremaining: 1.93s\n",
      "400:\tlearn: 0.1439771\ttotal: 1.29s\tremaining: 1.93s\n",
      "401:\tlearn: 0.1436821\ttotal: 1.29s\tremaining: 1.92s\n",
      "402:\tlearn: 0.1433955\ttotal: 1.29s\tremaining: 1.92s\n",
      "403:\tlearn: 0.1430883\ttotal: 1.3s\tremaining: 1.91s\n",
      "404:\tlearn: 0.1429214\ttotal: 1.3s\tremaining: 1.91s\n",
      "405:\tlearn: 0.1426898\ttotal: 1.3s\tremaining: 1.9s\n",
      "406:\tlearn: 0.1424394\ttotal: 1.3s\tremaining: 1.9s\n",
      "407:\tlearn: 0.1423937\ttotal: 1.31s\tremaining: 1.9s\n",
      "408:\tlearn: 0.1421206\ttotal: 1.31s\tremaining: 1.89s\n",
      "409:\tlearn: 0.1418332\ttotal: 1.31s\tremaining: 1.89s\n",
      "410:\tlearn: 0.1416067\ttotal: 1.31s\tremaining: 1.88s\n",
      "411:\tlearn: 0.1412390\ttotal: 1.32s\tremaining: 1.88s\n",
      "412:\tlearn: 0.1408847\ttotal: 1.32s\tremaining: 1.87s\n",
      "413:\tlearn: 0.1405609\ttotal: 1.32s\tremaining: 1.87s\n",
      "414:\tlearn: 0.1403259\ttotal: 1.32s\tremaining: 1.87s\n",
      "415:\tlearn: 0.1398795\ttotal: 1.33s\tremaining: 1.86s\n"
     ]
    },
    {
     "name": "stdout",
     "output_type": "stream",
     "text": [
      "416:\tlearn: 0.1397335\ttotal: 1.33s\tremaining: 1.86s\n",
      "417:\tlearn: 0.1393739\ttotal: 1.33s\tremaining: 1.85s\n",
      "418:\tlearn: 0.1392703\ttotal: 1.33s\tremaining: 1.85s\n",
      "419:\tlearn: 0.1390046\ttotal: 1.34s\tremaining: 1.84s\n",
      "420:\tlearn: 0.1386755\ttotal: 1.34s\tremaining: 1.84s\n",
      "421:\tlearn: 0.1386253\ttotal: 1.34s\tremaining: 1.84s\n",
      "422:\tlearn: 0.1384079\ttotal: 1.34s\tremaining: 1.83s\n",
      "423:\tlearn: 0.1381870\ttotal: 1.35s\tremaining: 1.83s\n",
      "424:\tlearn: 0.1379736\ttotal: 1.35s\tremaining: 1.82s\n",
      "425:\tlearn: 0.1376498\ttotal: 1.35s\tremaining: 1.82s\n",
      "426:\tlearn: 0.1374134\ttotal: 1.35s\tremaining: 1.82s\n",
      "427:\tlearn: 0.1372029\ttotal: 1.36s\tremaining: 1.81s\n",
      "428:\tlearn: 0.1368574\ttotal: 1.36s\tremaining: 1.81s\n",
      "429:\tlearn: 0.1364644\ttotal: 1.36s\tremaining: 1.8s\n",
      "430:\tlearn: 0.1361851\ttotal: 1.36s\tremaining: 1.8s\n",
      "431:\tlearn: 0.1358663\ttotal: 1.37s\tremaining: 1.8s\n",
      "432:\tlearn: 0.1357099\ttotal: 1.37s\tremaining: 1.79s\n",
      "433:\tlearn: 0.1356122\ttotal: 1.37s\tremaining: 1.79s\n",
      "434:\tlearn: 0.1355775\ttotal: 1.37s\tremaining: 1.78s\n"
     ]
    },
    {
     "name": "stdout",
     "output_type": "stream",
     "text": [
      "435:\tlearn: 0.1353438\ttotal: 1.38s\tremaining: 1.78s\n",
      "436:\tlearn: 0.1350584\ttotal: 1.38s\tremaining: 1.78s\n",
      "437:\tlearn: 0.1349407\ttotal: 1.38s\tremaining: 1.77s\n",
      "438:\tlearn: 0.1346675\ttotal: 1.38s\tremaining: 1.77s\n",
      "439:\tlearn: 0.1341824\ttotal: 1.39s\tremaining: 1.76s\n",
      "440:\tlearn: 0.1337635\ttotal: 1.39s\tremaining: 1.76s\n",
      "441:\tlearn: 0.1335238\ttotal: 1.39s\tremaining: 1.76s\n",
      "442:\tlearn: 0.1334997\ttotal: 1.39s\tremaining: 1.75s\n",
      "443:\tlearn: 0.1331546\ttotal: 1.4s\tremaining: 1.75s\n",
      "444:\tlearn: 0.1327654\ttotal: 1.4s\tremaining: 1.75s\n",
      "445:\tlearn: 0.1325378\ttotal: 1.4s\tremaining: 1.74s\n",
      "446:\tlearn: 0.1322946\ttotal: 1.4s\tremaining: 1.74s\n",
      "447:\tlearn: 0.1320485\ttotal: 1.41s\tremaining: 1.73s\n",
      "448:\tlearn: 0.1318040\ttotal: 1.41s\tremaining: 1.73s\n",
      "449:\tlearn: 0.1315327\ttotal: 1.41s\tremaining: 1.73s\n",
      "450:\tlearn: 0.1312066\ttotal: 1.41s\tremaining: 1.72s\n",
      "451:\tlearn: 0.1311567\ttotal: 1.42s\tremaining: 1.72s\n",
      "452:\tlearn: 0.1308563\ttotal: 1.42s\tremaining: 1.71s\n",
      "453:\tlearn: 0.1308266\ttotal: 1.42s\tremaining: 1.71s\n",
      "454:\tlearn: 0.1306846\ttotal: 1.42s\tremaining: 1.71s\n",
      "455:\tlearn: 0.1303925\ttotal: 1.43s\tremaining: 1.7s\n",
      "456:\tlearn: 0.1301838\ttotal: 1.43s\tremaining: 1.7s\n",
      "457:\tlearn: 0.1298154\ttotal: 1.43s\tremaining: 1.69s\n",
      "458:\tlearn: 0.1295995\ttotal: 1.43s\tremaining: 1.69s\n",
      "459:\tlearn: 0.1293269\ttotal: 1.44s\tremaining: 1.69s\n",
      "460:\tlearn: 0.1293014\ttotal: 1.44s\tremaining: 1.68s\n",
      "461:\tlearn: 0.1289628\ttotal: 1.44s\tremaining: 1.68s\n",
      "462:\tlearn: 0.1288214\ttotal: 1.44s\tremaining: 1.67s\n",
      "463:\tlearn: 0.1284224\ttotal: 1.45s\tremaining: 1.67s\n",
      "464:\tlearn: 0.1281015\ttotal: 1.45s\tremaining: 1.67s\n",
      "465:\tlearn: 0.1280580\ttotal: 1.45s\tremaining: 1.66s\n",
      "466:\tlearn: 0.1278332\ttotal: 1.45s\tremaining: 1.66s\n",
      "467:\tlearn: 0.1274457\ttotal: 1.46s\tremaining: 1.65s\n",
      "468:\tlearn: 0.1273873\ttotal: 1.46s\tremaining: 1.65s\n",
      "469:\tlearn: 0.1270629\ttotal: 1.46s\tremaining: 1.65s\n",
      "470:\tlearn: 0.1268069\ttotal: 1.46s\tremaining: 1.64s\n",
      "471:\tlearn: 0.1264894\ttotal: 1.47s\tremaining: 1.64s\n",
      "472:\tlearn: 0.1264254\ttotal: 1.47s\tremaining: 1.64s\n",
      "473:\tlearn: 0.1261680\ttotal: 1.48s\tremaining: 1.64s\n",
      "474:\tlearn: 0.1257198\ttotal: 1.48s\tremaining: 1.64s\n",
      "475:\tlearn: 0.1254234\ttotal: 1.48s\tremaining: 1.63s\n",
      "476:\tlearn: 0.1251485\ttotal: 1.48s\tremaining: 1.63s\n",
      "477:\tlearn: 0.1248804\ttotal: 1.49s\tremaining: 1.62s\n",
      "478:\tlearn: 0.1246692\ttotal: 1.49s\tremaining: 1.62s\n",
      "479:\tlearn: 0.1244041\ttotal: 1.49s\tremaining: 1.62s\n"
     ]
    },
    {
     "name": "stdout",
     "output_type": "stream",
     "text": [
      "480:\tlearn: 0.1241282\ttotal: 1.5s\tremaining: 1.61s\n",
      "481:\tlearn: 0.1238469\ttotal: 1.5s\tremaining: 1.61s\n",
      "482:\tlearn: 0.1234976\ttotal: 1.5s\tremaining: 1.61s\n",
      "483:\tlearn: 0.1232577\ttotal: 1.5s\tremaining: 1.6s\n",
      "484:\tlearn: 0.1232326\ttotal: 1.51s\tremaining: 1.6s\n",
      "485:\tlearn: 0.1230334\ttotal: 1.51s\tremaining: 1.6s\n",
      "486:\tlearn: 0.1226874\ttotal: 1.51s\tremaining: 1.6s\n",
      "487:\tlearn: 0.1225842\ttotal: 1.52s\tremaining: 1.59s\n",
      "488:\tlearn: 0.1225534\ttotal: 1.52s\tremaining: 1.59s\n",
      "489:\tlearn: 0.1222775\ttotal: 1.52s\tremaining: 1.58s\n",
      "490:\tlearn: 0.1220842\ttotal: 1.52s\tremaining: 1.58s\n",
      "491:\tlearn: 0.1218496\ttotal: 1.53s\tremaining: 1.58s\n",
      "492:\tlearn: 0.1216909\ttotal: 1.53s\tremaining: 1.57s\n",
      "493:\tlearn: 0.1215881\ttotal: 1.53s\tremaining: 1.57s\n",
      "494:\tlearn: 0.1213538\ttotal: 1.53s\tremaining: 1.56s\n",
      "495:\tlearn: 0.1210553\ttotal: 1.54s\tremaining: 1.56s\n",
      "496:\tlearn: 0.1208276\ttotal: 1.54s\tremaining: 1.56s\n"
     ]
    },
    {
     "name": "stdout",
     "output_type": "stream",
     "text": [
      "497:\tlearn: 0.1206062\ttotal: 1.55s\tremaining: 1.56s\n",
      "498:\tlearn: 0.1202282\ttotal: 1.55s\tremaining: 1.56s\n",
      "499:\tlearn: 0.1198888\ttotal: 1.55s\tremaining: 1.55s\n",
      "500:\tlearn: 0.1194816\ttotal: 1.55s\tremaining: 1.55s\n",
      "501:\tlearn: 0.1193350\ttotal: 1.56s\tremaining: 1.55s\n",
      "502:\tlearn: 0.1190014\ttotal: 1.56s\tremaining: 1.54s\n",
      "503:\tlearn: 0.1188239\ttotal: 1.56s\tremaining: 1.54s\n",
      "504:\tlearn: 0.1185755\ttotal: 1.57s\tremaining: 1.54s\n",
      "505:\tlearn: 0.1182916\ttotal: 1.57s\tremaining: 1.53s\n",
      "506:\tlearn: 0.1182628\ttotal: 1.57s\tremaining: 1.53s\n",
      "507:\tlearn: 0.1179815\ttotal: 1.57s\tremaining: 1.52s\n",
      "508:\tlearn: 0.1179493\ttotal: 1.58s\tremaining: 1.52s\n",
      "509:\tlearn: 0.1178015\ttotal: 1.58s\tremaining: 1.52s\n",
      "510:\tlearn: 0.1175478\ttotal: 1.58s\tremaining: 1.51s\n",
      "511:\tlearn: 0.1172581\ttotal: 1.58s\tremaining: 1.51s\n",
      "512:\tlearn: 0.1168574\ttotal: 1.59s\tremaining: 1.51s\n",
      "513:\tlearn: 0.1167085\ttotal: 1.59s\tremaining: 1.5s\n",
      "514:\tlearn: 0.1164814\ttotal: 1.59s\tremaining: 1.5s\n",
      "515:\tlearn: 0.1161880\ttotal: 1.59s\tremaining: 1.49s\n",
      "516:\tlearn: 0.1160732\ttotal: 1.59s\tremaining: 1.49s\n",
      "517:\tlearn: 0.1159098\ttotal: 1.6s\tremaining: 1.49s\n",
      "518:\tlearn: 0.1158171\ttotal: 1.6s\tremaining: 1.48s\n",
      "519:\tlearn: 0.1156310\ttotal: 1.6s\tremaining: 1.48s\n",
      "520:\tlearn: 0.1155912\ttotal: 1.6s\tremaining: 1.48s\n",
      "521:\tlearn: 0.1153344\ttotal: 1.61s\tremaining: 1.47s\n",
      "522:\tlearn: 0.1150982\ttotal: 1.61s\tremaining: 1.47s\n",
      "523:\tlearn: 0.1149081\ttotal: 1.61s\tremaining: 1.46s\n",
      "524:\tlearn: 0.1147175\ttotal: 1.61s\tremaining: 1.46s\n",
      "525:\tlearn: 0.1144446\ttotal: 1.62s\tremaining: 1.46s\n",
      "526:\tlearn: 0.1140905\ttotal: 1.62s\tremaining: 1.45s\n",
      "527:\tlearn: 0.1137569\ttotal: 1.62s\tremaining: 1.45s\n",
      "528:\tlearn: 0.1135078\ttotal: 1.62s\tremaining: 1.45s\n",
      "529:\tlearn: 0.1133625\ttotal: 1.63s\tremaining: 1.44s\n",
      "530:\tlearn: 0.1131052\ttotal: 1.63s\tremaining: 1.44s\n",
      "531:\tlearn: 0.1128113\ttotal: 1.63s\tremaining: 1.44s\n",
      "532:\tlearn: 0.1126234\ttotal: 1.63s\tremaining: 1.43s\n",
      "533:\tlearn: 0.1124143\ttotal: 1.64s\tremaining: 1.43s\n",
      "534:\tlearn: 0.1123799\ttotal: 1.64s\tremaining: 1.42s\n",
      "535:\tlearn: 0.1122412\ttotal: 1.64s\tremaining: 1.42s\n",
      "536:\tlearn: 0.1121544\ttotal: 1.64s\tremaining: 1.42s\n",
      "537:\tlearn: 0.1119207\ttotal: 1.65s\tremaining: 1.41s\n",
      "538:\tlearn: 0.1117009\ttotal: 1.65s\tremaining: 1.41s\n",
      "539:\tlearn: 0.1116546\ttotal: 1.65s\tremaining: 1.41s\n",
      "540:\tlearn: 0.1116263\ttotal: 1.65s\tremaining: 1.4s\n",
      "541:\tlearn: 0.1113548\ttotal: 1.66s\tremaining: 1.4s\n",
      "542:\tlearn: 0.1111656\ttotal: 1.66s\tremaining: 1.4s\n",
      "543:\tlearn: 0.1110860\ttotal: 1.66s\tremaining: 1.39s\n",
      "544:\tlearn: 0.1109043\ttotal: 1.66s\tremaining: 1.39s\n",
      "545:\tlearn: 0.1108016\ttotal: 1.67s\tremaining: 1.38s\n",
      "546:\tlearn: 0.1107252\ttotal: 1.67s\tremaining: 1.38s\n"
     ]
    },
    {
     "name": "stdout",
     "output_type": "stream",
     "text": [
      "547:\tlearn: 0.1106591\ttotal: 1.67s\tremaining: 1.38s\n",
      "548:\tlearn: 0.1103528\ttotal: 1.67s\tremaining: 1.38s\n",
      "549:\tlearn: 0.1102601\ttotal: 1.68s\tremaining: 1.37s\n",
      "550:\tlearn: 0.1100591\ttotal: 1.68s\tremaining: 1.37s\n",
      "551:\tlearn: 0.1097666\ttotal: 1.68s\tremaining: 1.36s\n",
      "552:\tlearn: 0.1094258\ttotal: 1.68s\tremaining: 1.36s\n",
      "553:\tlearn: 0.1092446\ttotal: 1.69s\tremaining: 1.36s\n",
      "554:\tlearn: 0.1092201\ttotal: 1.69s\tremaining: 1.35s\n",
      "555:\tlearn: 0.1090351\ttotal: 1.7s\tremaining: 1.35s\n",
      "556:\tlearn: 0.1088978\ttotal: 1.7s\tremaining: 1.35s\n",
      "557:\tlearn: 0.1088741\ttotal: 1.7s\tremaining: 1.35s\n",
      "558:\tlearn: 0.1087941\ttotal: 1.7s\tremaining: 1.34s\n",
      "559:\tlearn: 0.1085826\ttotal: 1.7s\tremaining: 1.34s\n",
      "560:\tlearn: 0.1082698\ttotal: 1.71s\tremaining: 1.33s\n",
      "561:\tlearn: 0.1080688\ttotal: 1.71s\tremaining: 1.33s\n",
      "562:\tlearn: 0.1079268\ttotal: 1.71s\tremaining: 1.33s\n",
      "563:\tlearn: 0.1078577\ttotal: 1.71s\tremaining: 1.32s\n",
      "564:\tlearn: 0.1076367\ttotal: 1.72s\tremaining: 1.32s\n"
     ]
    },
    {
     "name": "stdout",
     "output_type": "stream",
     "text": [
      "565:\tlearn: 0.1074827\ttotal: 1.72s\tremaining: 1.32s\n",
      "566:\tlearn: 0.1072844\ttotal: 1.72s\tremaining: 1.32s\n",
      "567:\tlearn: 0.1070240\ttotal: 1.73s\tremaining: 1.31s\n",
      "568:\tlearn: 0.1068066\ttotal: 1.73s\tremaining: 1.31s\n",
      "569:\tlearn: 0.1067859\ttotal: 1.73s\tremaining: 1.31s\n",
      "570:\tlearn: 0.1065170\ttotal: 1.74s\tremaining: 1.3s\n",
      "571:\tlearn: 0.1064712\ttotal: 1.74s\tremaining: 1.3s\n",
      "572:\tlearn: 0.1062793\ttotal: 1.74s\tremaining: 1.3s\n",
      "573:\tlearn: 0.1060457\ttotal: 1.74s\tremaining: 1.29s\n",
      "574:\tlearn: 0.1057849\ttotal: 1.74s\tremaining: 1.29s\n",
      "575:\tlearn: 0.1057329\ttotal: 1.75s\tremaining: 1.29s\n",
      "576:\tlearn: 0.1054785\ttotal: 1.75s\tremaining: 1.28s\n",
      "577:\tlearn: 0.1052980\ttotal: 1.75s\tremaining: 1.28s\n",
      "578:\tlearn: 0.1052742\ttotal: 1.75s\tremaining: 1.27s\n",
      "579:\tlearn: 0.1049578\ttotal: 1.76s\tremaining: 1.27s\n",
      "580:\tlearn: 0.1048383\ttotal: 1.76s\tremaining: 1.27s\n",
      "581:\tlearn: 0.1048094\ttotal: 1.77s\tremaining: 1.27s\n",
      "582:\tlearn: 0.1047115\ttotal: 1.77s\tremaining: 1.27s\n",
      "583:\tlearn: 0.1045795\ttotal: 1.77s\tremaining: 1.26s\n",
      "584:\tlearn: 0.1043916\ttotal: 1.78s\tremaining: 1.26s\n",
      "585:\tlearn: 0.1043542\ttotal: 1.78s\tremaining: 1.26s\n",
      "586:\tlearn: 0.1043343\ttotal: 1.78s\tremaining: 1.25s\n",
      "587:\tlearn: 0.1042774\ttotal: 1.78s\tremaining: 1.25s\n",
      "588:\tlearn: 0.1040437\ttotal: 1.79s\tremaining: 1.25s\n",
      "589:\tlearn: 0.1040089\ttotal: 1.79s\tremaining: 1.24s\n",
      "590:\tlearn: 0.1038108\ttotal: 1.79s\tremaining: 1.24s\n",
      "591:\tlearn: 0.1036052\ttotal: 1.79s\tremaining: 1.24s\n",
      "592:\tlearn: 0.1033471\ttotal: 1.8s\tremaining: 1.23s\n",
      "593:\tlearn: 0.1031077\ttotal: 1.8s\tremaining: 1.23s\n",
      "594:\tlearn: 0.1028814\ttotal: 1.8s\tremaining: 1.23s\n",
      "595:\tlearn: 0.1027516\ttotal: 1.81s\tremaining: 1.22s\n",
      "596:\tlearn: 0.1026044\ttotal: 1.81s\tremaining: 1.22s\n",
      "597:\tlearn: 0.1025146\ttotal: 1.81s\tremaining: 1.22s\n",
      "598:\tlearn: 0.1024960\ttotal: 1.81s\tremaining: 1.21s\n",
      "599:\tlearn: 0.1023079\ttotal: 1.82s\tremaining: 1.21s\n",
      "600:\tlearn: 0.1020586\ttotal: 1.82s\tremaining: 1.21s\n",
      "601:\tlearn: 0.1019793\ttotal: 1.82s\tremaining: 1.2s\n",
      "602:\tlearn: 0.1018248\ttotal: 1.82s\tremaining: 1.2s\n",
      "603:\tlearn: 0.1016519\ttotal: 1.82s\tremaining: 1.2s\n",
      "604:\tlearn: 0.1014842\ttotal: 1.83s\tremaining: 1.19s\n",
      "605:\tlearn: 0.1013859\ttotal: 1.83s\tremaining: 1.19s\n",
      "606:\tlearn: 0.1011493\ttotal: 1.83s\tremaining: 1.19s\n",
      "607:\tlearn: 0.1009729\ttotal: 1.83s\tremaining: 1.18s\n",
      "608:\tlearn: 0.1006999\ttotal: 1.84s\tremaining: 1.18s\n"
     ]
    },
    {
     "name": "stdout",
     "output_type": "stream",
     "text": [
      "609:\tlearn: 0.1004491\ttotal: 1.84s\tremaining: 1.18s\n",
      "610:\tlearn: 0.1003008\ttotal: 1.84s\tremaining: 1.17s\n",
      "611:\tlearn: 0.1002612\ttotal: 1.85s\tremaining: 1.17s\n",
      "612:\tlearn: 0.1001939\ttotal: 1.85s\tremaining: 1.17s\n",
      "613:\tlearn: 0.0999836\ttotal: 1.85s\tremaining: 1.16s\n",
      "614:\tlearn: 0.0996970\ttotal: 1.85s\tremaining: 1.16s\n",
      "615:\tlearn: 0.0994879\ttotal: 1.86s\tremaining: 1.16s\n",
      "616:\tlearn: 0.0993243\ttotal: 1.86s\tremaining: 1.15s\n",
      "617:\tlearn: 0.0991469\ttotal: 1.86s\tremaining: 1.15s\n",
      "618:\tlearn: 0.0989924\ttotal: 1.86s\tremaining: 1.15s\n",
      "619:\tlearn: 0.0987453\ttotal: 1.87s\tremaining: 1.14s\n",
      "620:\tlearn: 0.0985036\ttotal: 1.87s\tremaining: 1.14s\n",
      "621:\tlearn: 0.0983731\ttotal: 1.87s\tremaining: 1.14s\n",
      "622:\tlearn: 0.0982050\ttotal: 1.87s\tremaining: 1.13s\n",
      "623:\tlearn: 0.0980060\ttotal: 1.88s\tremaining: 1.13s\n",
      "624:\tlearn: 0.0977629\ttotal: 1.88s\tremaining: 1.13s\n",
      "625:\tlearn: 0.0976081\ttotal: 1.88s\tremaining: 1.12s\n",
      "626:\tlearn: 0.0973442\ttotal: 1.88s\tremaining: 1.12s\n",
      "627:\tlearn: 0.0971453\ttotal: 1.89s\tremaining: 1.12s\n",
      "628:\tlearn: 0.0968467\ttotal: 1.89s\tremaining: 1.11s\n",
      "629:\tlearn: 0.0967558\ttotal: 1.89s\tremaining: 1.11s\n"
     ]
    },
    {
     "name": "stdout",
     "output_type": "stream",
     "text": [
      "630:\tlearn: 0.0965810\ttotal: 1.89s\tremaining: 1.11s\n",
      "631:\tlearn: 0.0964079\ttotal: 1.9s\tremaining: 1.1s\n",
      "632:\tlearn: 0.0963833\ttotal: 1.9s\tremaining: 1.1s\n",
      "633:\tlearn: 0.0963538\ttotal: 1.9s\tremaining: 1.1s\n",
      "634:\tlearn: 0.0962281\ttotal: 1.9s\tremaining: 1.09s\n",
      "635:\tlearn: 0.0960716\ttotal: 1.91s\tremaining: 1.09s\n",
      "636:\tlearn: 0.0958409\ttotal: 1.91s\tremaining: 1.09s\n",
      "637:\tlearn: 0.0955940\ttotal: 1.91s\tremaining: 1.08s\n",
      "638:\tlearn: 0.0954646\ttotal: 1.91s\tremaining: 1.08s\n",
      "639:\tlearn: 0.0952513\ttotal: 1.92s\tremaining: 1.08s\n",
      "640:\tlearn: 0.0951242\ttotal: 1.92s\tremaining: 1.07s\n",
      "641:\tlearn: 0.0950860\ttotal: 1.92s\tremaining: 1.07s\n",
      "642:\tlearn: 0.0949343\ttotal: 1.92s\tremaining: 1.07s\n",
      "643:\tlearn: 0.0949032\ttotal: 1.92s\tremaining: 1.06s\n",
      "644:\tlearn: 0.0948815\ttotal: 1.93s\tremaining: 1.06s\n",
      "645:\tlearn: 0.0946707\ttotal: 1.93s\tremaining: 1.06s\n",
      "646:\tlearn: 0.0946564\ttotal: 1.93s\tremaining: 1.05s\n",
      "647:\tlearn: 0.0945038\ttotal: 1.93s\tremaining: 1.05s\n",
      "648:\tlearn: 0.0943363\ttotal: 1.94s\tremaining: 1.05s\n",
      "649:\tlearn: 0.0942052\ttotal: 1.94s\tremaining: 1.04s\n",
      "650:\tlearn: 0.0941432\ttotal: 1.94s\tremaining: 1.04s\n",
      "651:\tlearn: 0.0940391\ttotal: 1.94s\tremaining: 1.04s\n",
      "652:\tlearn: 0.0939935\ttotal: 1.95s\tremaining: 1.03s\n",
      "653:\tlearn: 0.0939308\ttotal: 1.95s\tremaining: 1.03s\n",
      "654:\tlearn: 0.0939092\ttotal: 1.95s\tremaining: 1.03s\n",
      "655:\tlearn: 0.0936317\ttotal: 1.96s\tremaining: 1.03s\n",
      "656:\tlearn: 0.0934632\ttotal: 1.97s\tremaining: 1.02s\n",
      "657:\tlearn: 0.0933825\ttotal: 1.97s\tremaining: 1.02s\n",
      "658:\tlearn: 0.0931834\ttotal: 1.97s\tremaining: 1.02s\n",
      "659:\tlearn: 0.0929271\ttotal: 1.97s\tremaining: 1.02s\n",
      "660:\tlearn: 0.0929010\ttotal: 1.98s\tremaining: 1.01s\n",
      "661:\tlearn: 0.0926354\ttotal: 1.98s\tremaining: 1.01s\n",
      "662:\tlearn: 0.0924837\ttotal: 1.98s\tremaining: 1.01s\n",
      "663:\tlearn: 0.0922848\ttotal: 1.98s\tremaining: 1s\n",
      "664:\tlearn: 0.0922647\ttotal: 1.98s\tremaining: 1000ms\n",
      "665:\tlearn: 0.0920779\ttotal: 1.99s\tremaining: 997ms\n",
      "666:\tlearn: 0.0920377\ttotal: 1.99s\tremaining: 993ms\n",
      "667:\tlearn: 0.0918308\ttotal: 1.99s\tremaining: 990ms\n",
      "668:\tlearn: 0.0917853\ttotal: 1.99s\tremaining: 986ms\n",
      "669:\tlearn: 0.0916062\ttotal: 2s\tremaining: 983ms\n",
      "670:\tlearn: 0.0914435\ttotal: 2s\tremaining: 980ms\n",
      "671:\tlearn: 0.0913702\ttotal: 2s\tremaining: 977ms\n",
      "672:\tlearn: 0.0912032\ttotal: 2s\tremaining: 973ms\n",
      "673:\tlearn: 0.0909811\ttotal: 2s\tremaining: 970ms\n",
      "674:\tlearn: 0.0909421\ttotal: 2.01s\tremaining: 967ms\n"
     ]
    },
    {
     "name": "stdout",
     "output_type": "stream",
     "text": [
      "675:\tlearn: 0.0908678\ttotal: 2.01s\tremaining: 964ms\n",
      "676:\tlearn: 0.0905835\ttotal: 2.01s\tremaining: 960ms\n",
      "677:\tlearn: 0.0905158\ttotal: 2.02s\tremaining: 957ms\n",
      "678:\tlearn: 0.0903576\ttotal: 2.02s\tremaining: 954ms\n",
      "679:\tlearn: 0.0903196\ttotal: 2.02s\tremaining: 950ms\n",
      "680:\tlearn: 0.0901161\ttotal: 2.02s\tremaining: 947ms\n",
      "681:\tlearn: 0.0899162\ttotal: 2.02s\tremaining: 944ms\n",
      "682:\tlearn: 0.0897116\ttotal: 2.03s\tremaining: 940ms\n",
      "683:\tlearn: 0.0895131\ttotal: 2.03s\tremaining: 937ms\n",
      "684:\tlearn: 0.0894927\ttotal: 2.03s\tremaining: 934ms\n",
      "685:\tlearn: 0.0893648\ttotal: 2.03s\tremaining: 931ms\n",
      "686:\tlearn: 0.0892397\ttotal: 2.04s\tremaining: 928ms\n",
      "687:\tlearn: 0.0891230\ttotal: 2.04s\tremaining: 925ms\n",
      "688:\tlearn: 0.0889510\ttotal: 2.04s\tremaining: 921ms\n",
      "689:\tlearn: 0.0887620\ttotal: 2.04s\tremaining: 918ms\n",
      "690:\tlearn: 0.0886739\ttotal: 2.04s\tremaining: 915ms\n",
      "691:\tlearn: 0.0884999\ttotal: 2.05s\tremaining: 912ms\n",
      "692:\tlearn: 0.0883028\ttotal: 2.05s\tremaining: 909ms\n",
      "693:\tlearn: 0.0882840\ttotal: 2.05s\tremaining: 905ms\n",
      "694:\tlearn: 0.0882114\ttotal: 2.06s\tremaining: 902ms\n"
     ]
    },
    {
     "name": "stdout",
     "output_type": "stream",
     "text": [
      "695:\tlearn: 0.0881759\ttotal: 2.06s\tremaining: 899ms\n",
      "696:\tlearn: 0.0881548\ttotal: 2.06s\tremaining: 896ms\n",
      "697:\tlearn: 0.0879947\ttotal: 2.06s\tremaining: 893ms\n",
      "698:\tlearn: 0.0877926\ttotal: 2.06s\tremaining: 890ms\n",
      "699:\tlearn: 0.0875800\ttotal: 2.07s\tremaining: 886ms\n",
      "700:\tlearn: 0.0874876\ttotal: 2.07s\tremaining: 883ms\n",
      "701:\tlearn: 0.0873106\ttotal: 2.07s\tremaining: 880ms\n",
      "702:\tlearn: 0.0871548\ttotal: 2.08s\tremaining: 877ms\n",
      "703:\tlearn: 0.0869568\ttotal: 2.08s\tremaining: 874ms\n",
      "704:\tlearn: 0.0867728\ttotal: 2.08s\tremaining: 870ms\n",
      "705:\tlearn: 0.0866474\ttotal: 2.08s\tremaining: 867ms\n",
      "706:\tlearn: 0.0866300\ttotal: 2.08s\tremaining: 864ms\n",
      "707:\tlearn: 0.0864819\ttotal: 2.09s\tremaining: 861ms\n",
      "708:\tlearn: 0.0863401\ttotal: 2.09s\tremaining: 858ms\n",
      "709:\tlearn: 0.0862274\ttotal: 2.09s\tremaining: 855ms\n",
      "710:\tlearn: 0.0860779\ttotal: 2.09s\tremaining: 851ms\n",
      "711:\tlearn: 0.0859161\ttotal: 2.1s\tremaining: 848ms\n",
      "712:\tlearn: 0.0857793\ttotal: 2.1s\tremaining: 845ms\n",
      "713:\tlearn: 0.0857443\ttotal: 2.1s\tremaining: 841ms\n",
      "714:\tlearn: 0.0856306\ttotal: 2.1s\tremaining: 838ms\n",
      "715:\tlearn: 0.0855325\ttotal: 2.1s\tremaining: 835ms\n",
      "716:\tlearn: 0.0853588\ttotal: 2.11s\tremaining: 832ms\n",
      "717:\tlearn: 0.0852371\ttotal: 2.11s\tremaining: 829ms\n",
      "718:\tlearn: 0.0851635\ttotal: 2.11s\tremaining: 826ms\n",
      "719:\tlearn: 0.0850650\ttotal: 2.12s\tremaining: 823ms\n",
      "720:\tlearn: 0.0848513\ttotal: 2.12s\tremaining: 820ms\n",
      "721:\tlearn: 0.0846849\ttotal: 2.12s\tremaining: 816ms\n",
      "722:\tlearn: 0.0845401\ttotal: 2.12s\tremaining: 813ms\n",
      "723:\tlearn: 0.0843620\ttotal: 2.13s\tremaining: 810ms\n",
      "724:\tlearn: 0.0842739\ttotal: 2.13s\tremaining: 807ms\n",
      "725:\tlearn: 0.0841866\ttotal: 2.13s\tremaining: 804ms\n",
      "726:\tlearn: 0.0840384\ttotal: 2.13s\tremaining: 801ms\n",
      "727:\tlearn: 0.0840226\ttotal: 2.13s\tremaining: 798ms\n",
      "728:\tlearn: 0.0838851\ttotal: 2.14s\tremaining: 795ms\n",
      "729:\tlearn: 0.0837866\ttotal: 2.14s\tremaining: 791ms\n",
      "730:\tlearn: 0.0837043\ttotal: 2.14s\tremaining: 788ms\n",
      "731:\tlearn: 0.0835368\ttotal: 2.14s\tremaining: 785ms\n",
      "732:\tlearn: 0.0834606\ttotal: 2.15s\tremaining: 782ms\n",
      "733:\tlearn: 0.0834440\ttotal: 2.15s\tremaining: 779ms\n",
      "734:\tlearn: 0.0832954\ttotal: 2.15s\tremaining: 776ms\n",
      "735:\tlearn: 0.0831050\ttotal: 2.15s\tremaining: 773ms\n",
      "736:\tlearn: 0.0829664\ttotal: 2.16s\tremaining: 770ms\n",
      "737:\tlearn: 0.0829441\ttotal: 2.16s\tremaining: 767ms\n",
      "738:\tlearn: 0.0829126\ttotal: 2.16s\tremaining: 764ms\n",
      "739:\tlearn: 0.0828946\ttotal: 2.16s\tremaining: 760ms\n",
      "740:\tlearn: 0.0827473\ttotal: 2.17s\tremaining: 757ms\n",
      "741:\tlearn: 0.0826849\ttotal: 2.17s\tremaining: 754ms\n",
      "742:\tlearn: 0.0825075\ttotal: 2.17s\tremaining: 751ms\n",
      "743:\tlearn: 0.0824564\ttotal: 2.17s\tremaining: 748ms\n",
      "744:\tlearn: 0.0823340\ttotal: 2.18s\tremaining: 745ms\n",
      "745:\tlearn: 0.0821835\ttotal: 2.18s\tremaining: 742ms\n",
      "746:\tlearn: 0.0820710\ttotal: 2.18s\tremaining: 739ms\n",
      "747:\tlearn: 0.0818400\ttotal: 2.18s\tremaining: 736ms\n"
     ]
    },
    {
     "name": "stdout",
     "output_type": "stream",
     "text": [
      "748:\tlearn: 0.0817470\ttotal: 2.19s\tremaining: 733ms\n",
      "749:\tlearn: 0.0816392\ttotal: 2.19s\tremaining: 730ms\n",
      "750:\tlearn: 0.0816168\ttotal: 2.19s\tremaining: 727ms\n",
      "751:\tlearn: 0.0816023\ttotal: 2.19s\tremaining: 724ms\n",
      "752:\tlearn: 0.0815121\ttotal: 2.2s\tremaining: 721ms\n",
      "753:\tlearn: 0.0814749\ttotal: 2.2s\tremaining: 717ms\n",
      "754:\tlearn: 0.0813813\ttotal: 2.2s\tremaining: 714ms\n",
      "755:\tlearn: 0.0812766\ttotal: 2.2s\tremaining: 711ms\n",
      "756:\tlearn: 0.0811947\ttotal: 2.21s\tremaining: 708ms\n",
      "757:\tlearn: 0.0810490\ttotal: 2.21s\tremaining: 705ms\n",
      "758:\tlearn: 0.0810227\ttotal: 2.21s\tremaining: 702ms\n",
      "759:\tlearn: 0.0808823\ttotal: 2.21s\tremaining: 699ms\n",
      "760:\tlearn: 0.0807944\ttotal: 2.21s\tremaining: 696ms\n",
      "761:\tlearn: 0.0806976\ttotal: 2.22s\tremaining: 693ms\n",
      "762:\tlearn: 0.0804652\ttotal: 2.22s\tremaining: 690ms\n",
      "763:\tlearn: 0.0804421\ttotal: 2.22s\tremaining: 687ms\n"
     ]
    },
    {
     "name": "stdout",
     "output_type": "stream",
     "text": [
      "764:\tlearn: 0.0803792\ttotal: 2.24s\tremaining: 687ms\n",
      "765:\tlearn: 0.0801955\ttotal: 2.24s\tremaining: 684ms\n",
      "766:\tlearn: 0.0801733\ttotal: 2.24s\tremaining: 681ms\n",
      "767:\tlearn: 0.0800043\ttotal: 2.25s\tremaining: 678ms\n",
      "768:\tlearn: 0.0798994\ttotal: 2.25s\tremaining: 675ms\n",
      "769:\tlearn: 0.0796869\ttotal: 2.25s\tremaining: 672ms\n",
      "770:\tlearn: 0.0795605\ttotal: 2.25s\tremaining: 669ms\n",
      "771:\tlearn: 0.0794547\ttotal: 2.25s\tremaining: 666ms\n",
      "772:\tlearn: 0.0792955\ttotal: 2.26s\tremaining: 663ms\n",
      "773:\tlearn: 0.0791275\ttotal: 2.26s\tremaining: 660ms\n",
      "774:\tlearn: 0.0789650\ttotal: 2.26s\tremaining: 657ms\n",
      "775:\tlearn: 0.0789529\ttotal: 2.26s\tremaining: 653ms\n",
      "776:\tlearn: 0.0788310\ttotal: 2.27s\tremaining: 650ms\n",
      "777:\tlearn: 0.0787321\ttotal: 2.27s\tremaining: 647ms\n",
      "778:\tlearn: 0.0786973\ttotal: 2.27s\tremaining: 644ms\n",
      "779:\tlearn: 0.0785692\ttotal: 2.27s\tremaining: 641ms\n",
      "780:\tlearn: 0.0783333\ttotal: 2.28s\tremaining: 638ms\n",
      "781:\tlearn: 0.0782646\ttotal: 2.28s\tremaining: 635ms\n",
      "782:\tlearn: 0.0781135\ttotal: 2.28s\tremaining: 632ms\n",
      "783:\tlearn: 0.0780588\ttotal: 2.28s\tremaining: 629ms\n",
      "784:\tlearn: 0.0778944\ttotal: 2.29s\tremaining: 626ms\n",
      "785:\tlearn: 0.0777472\ttotal: 2.29s\tremaining: 623ms\n",
      "786:\tlearn: 0.0775584\ttotal: 2.29s\tremaining: 620ms\n",
      "787:\tlearn: 0.0774575\ttotal: 2.29s\tremaining: 617ms\n",
      "788:\tlearn: 0.0774007\ttotal: 2.3s\tremaining: 614ms\n",
      "789:\tlearn: 0.0773663\ttotal: 2.3s\tremaining: 611ms\n",
      "790:\tlearn: 0.0772219\ttotal: 2.3s\tremaining: 608ms\n",
      "791:\tlearn: 0.0771507\ttotal: 2.3s\tremaining: 605ms\n",
      "792:\tlearn: 0.0770388\ttotal: 2.31s\tremaining: 602ms\n",
      "793:\tlearn: 0.0770035\ttotal: 2.31s\tremaining: 599ms\n",
      "794:\tlearn: 0.0768827\ttotal: 2.31s\tremaining: 596ms\n",
      "795:\tlearn: 0.0767213\ttotal: 2.31s\tremaining: 593ms\n",
      "796:\tlearn: 0.0766089\ttotal: 2.31s\tremaining: 590ms\n",
      "797:\tlearn: 0.0765473\ttotal: 2.32s\tremaining: 587ms\n",
      "798:\tlearn: 0.0763724\ttotal: 2.32s\tremaining: 584ms\n",
      "799:\tlearn: 0.0761945\ttotal: 2.32s\tremaining: 581ms\n",
      "800:\tlearn: 0.0760793\ttotal: 2.33s\tremaining: 578ms\n",
      "801:\tlearn: 0.0760540\ttotal: 2.33s\tremaining: 575ms\n",
      "802:\tlearn: 0.0759527\ttotal: 2.33s\tremaining: 572ms\n",
      "803:\tlearn: 0.0758006\ttotal: 2.33s\tremaining: 569ms\n",
      "804:\tlearn: 0.0757016\ttotal: 2.33s\tremaining: 566ms\n",
      "805:\tlearn: 0.0756127\ttotal: 2.34s\tremaining: 563ms\n",
      "806:\tlearn: 0.0754641\ttotal: 2.34s\tremaining: 560ms\n",
      "807:\tlearn: 0.0752930\ttotal: 2.34s\tremaining: 557ms\n",
      "808:\tlearn: 0.0750854\ttotal: 2.35s\tremaining: 554ms\n",
      "809:\tlearn: 0.0750699\ttotal: 2.35s\tremaining: 551ms\n",
      "810:\tlearn: 0.0749573\ttotal: 2.35s\tremaining: 548ms\n",
      "811:\tlearn: 0.0747750\ttotal: 2.35s\tremaining: 545ms\n",
      "812:\tlearn: 0.0746464\ttotal: 2.35s\tremaining: 542ms\n"
     ]
    },
    {
     "name": "stdout",
     "output_type": "stream",
     "text": [
      "813:\tlearn: 0.0744608\ttotal: 2.36s\tremaining: 539ms\n",
      "814:\tlearn: 0.0743787\ttotal: 2.36s\tremaining: 536ms\n",
      "815:\tlearn: 0.0742562\ttotal: 2.36s\tremaining: 533ms\n",
      "816:\tlearn: 0.0742371\ttotal: 2.37s\tremaining: 530ms\n",
      "817:\tlearn: 0.0740295\ttotal: 2.37s\tremaining: 527ms\n",
      "818:\tlearn: 0.0739420\ttotal: 2.37s\tremaining: 524ms\n",
      "819:\tlearn: 0.0738196\ttotal: 2.37s\tremaining: 521ms\n",
      "820:\tlearn: 0.0736211\ttotal: 2.38s\tremaining: 518ms\n",
      "821:\tlearn: 0.0736088\ttotal: 2.38s\tremaining: 515ms\n",
      "822:\tlearn: 0.0735908\ttotal: 2.38s\tremaining: 512ms\n",
      "823:\tlearn: 0.0734754\ttotal: 2.38s\tremaining: 509ms\n",
      "824:\tlearn: 0.0733920\ttotal: 2.38s\tremaining: 506ms\n",
      "825:\tlearn: 0.0733122\ttotal: 2.39s\tremaining: 503ms\n",
      "826:\tlearn: 0.0731499\ttotal: 2.39s\tremaining: 500ms\n",
      "827:\tlearn: 0.0730501\ttotal: 2.39s\tremaining: 497ms\n",
      "828:\tlearn: 0.0729264\ttotal: 2.39s\tremaining: 494ms\n",
      "829:\tlearn: 0.0727964\ttotal: 2.4s\tremaining: 491ms\n",
      "830:\tlearn: 0.0727703\ttotal: 2.4s\tremaining: 488ms\n",
      "831:\tlearn: 0.0726048\ttotal: 2.4s\tremaining: 485ms\n",
      "832:\tlearn: 0.0725952\ttotal: 2.4s\tremaining: 482ms\n",
      "833:\tlearn: 0.0724642\ttotal: 2.41s\tremaining: 479ms\n",
      "834:\tlearn: 0.0723202\ttotal: 2.41s\tremaining: 476ms\n"
     ]
    },
    {
     "name": "stdout",
     "output_type": "stream",
     "text": [
      "835:\tlearn: 0.0721330\ttotal: 2.41s\tremaining: 473ms\n",
      "836:\tlearn: 0.0719646\ttotal: 2.42s\tremaining: 471ms\n",
      "837:\tlearn: 0.0718626\ttotal: 2.42s\tremaining: 468ms\n",
      "838:\tlearn: 0.0717435\ttotal: 2.42s\tremaining: 465ms\n",
      "839:\tlearn: 0.0715783\ttotal: 2.42s\tremaining: 462ms\n",
      "840:\tlearn: 0.0715628\ttotal: 2.42s\tremaining: 459ms\n",
      "841:\tlearn: 0.0714588\ttotal: 2.43s\tremaining: 456ms\n",
      "842:\tlearn: 0.0713981\ttotal: 2.43s\tremaining: 453ms\n",
      "843:\tlearn: 0.0712370\ttotal: 2.43s\tremaining: 450ms\n",
      "844:\tlearn: 0.0711036\ttotal: 2.44s\tremaining: 447ms\n",
      "845:\tlearn: 0.0710719\ttotal: 2.44s\tremaining: 444ms\n",
      "846:\tlearn: 0.0709409\ttotal: 2.44s\tremaining: 441ms\n",
      "847:\tlearn: 0.0707969\ttotal: 2.44s\tremaining: 438ms\n",
      "848:\tlearn: 0.0706605\ttotal: 2.44s\tremaining: 435ms\n",
      "849:\tlearn: 0.0706527\ttotal: 2.44s\tremaining: 432ms\n",
      "850:\tlearn: 0.0705689\ttotal: 2.45s\tremaining: 429ms\n",
      "851:\tlearn: 0.0704346\ttotal: 2.45s\tremaining: 426ms\n",
      "852:\tlearn: 0.0703389\ttotal: 2.45s\tremaining: 423ms\n",
      "853:\tlearn: 0.0703302\ttotal: 2.46s\tremaining: 420ms\n",
      "854:\tlearn: 0.0702810\ttotal: 2.46s\tremaining: 417ms\n",
      "855:\tlearn: 0.0702373\ttotal: 2.46s\tremaining: 414ms\n",
      "856:\tlearn: 0.0701300\ttotal: 2.46s\tremaining: 411ms\n",
      "857:\tlearn: 0.0699534\ttotal: 2.46s\tremaining: 408ms\n",
      "858:\tlearn: 0.0698541\ttotal: 2.47s\tremaining: 405ms\n",
      "859:\tlearn: 0.0697437\ttotal: 2.47s\tremaining: 402ms\n",
      "860:\tlearn: 0.0696373\ttotal: 2.47s\tremaining: 399ms\n",
      "861:\tlearn: 0.0694792\ttotal: 2.47s\tremaining: 396ms\n",
      "862:\tlearn: 0.0693721\ttotal: 2.48s\tremaining: 393ms\n",
      "863:\tlearn: 0.0693310\ttotal: 2.48s\tremaining: 390ms\n",
      "864:\tlearn: 0.0691528\ttotal: 2.48s\tremaining: 387ms\n",
      "865:\tlearn: 0.0691239\ttotal: 2.48s\tremaining: 384ms\n",
      "866:\tlearn: 0.0689838\ttotal: 2.48s\tremaining: 381ms\n",
      "867:\tlearn: 0.0689111\ttotal: 2.49s\tremaining: 378ms\n",
      "868:\tlearn: 0.0689012\ttotal: 2.49s\tremaining: 375ms\n",
      "869:\tlearn: 0.0687353\ttotal: 2.49s\tremaining: 372ms\n",
      "870:\tlearn: 0.0685970\ttotal: 2.49s\tremaining: 369ms\n",
      "871:\tlearn: 0.0685171\ttotal: 2.5s\tremaining: 366ms\n",
      "872:\tlearn: 0.0685048\ttotal: 2.5s\tremaining: 363ms\n",
      "873:\tlearn: 0.0683666\ttotal: 2.5s\tremaining: 361ms\n",
      "874:\tlearn: 0.0682090\ttotal: 2.5s\tremaining: 358ms\n",
      "875:\tlearn: 0.0680656\ttotal: 2.5s\tremaining: 355ms\n",
      "876:\tlearn: 0.0679764\ttotal: 2.51s\tremaining: 352ms\n",
      "877:\tlearn: 0.0679624\ttotal: 2.51s\tremaining: 349ms\n",
      "878:\tlearn: 0.0678571\ttotal: 2.51s\tremaining: 346ms\n",
      "879:\tlearn: 0.0678491\ttotal: 2.51s\tremaining: 343ms\n",
      "880:\tlearn: 0.0677543\ttotal: 2.52s\tremaining: 340ms\n",
      "881:\tlearn: 0.0676362\ttotal: 2.52s\tremaining: 337ms\n",
      "882:\tlearn: 0.0674881\ttotal: 2.52s\tremaining: 334ms\n",
      "883:\tlearn: 0.0674658\ttotal: 2.52s\tremaining: 331ms\n",
      "884:\tlearn: 0.0673757\ttotal: 2.53s\tremaining: 329ms\n",
      "885:\tlearn: 0.0673681\ttotal: 2.53s\tremaining: 325ms\n",
      "886:\tlearn: 0.0673619\ttotal: 2.53s\tremaining: 322ms\n"
     ]
    },
    {
     "name": "stdout",
     "output_type": "stream",
     "text": [
      "887:\tlearn: 0.0673466\ttotal: 2.53s\tremaining: 320ms\n",
      "888:\tlearn: 0.0673342\ttotal: 2.54s\tremaining: 317ms\n",
      "889:\tlearn: 0.0672498\ttotal: 2.54s\tremaining: 314ms\n",
      "890:\tlearn: 0.0672414\ttotal: 2.55s\tremaining: 312ms\n",
      "891:\tlearn: 0.0671695\ttotal: 2.55s\tremaining: 309ms\n",
      "892:\tlearn: 0.0670493\ttotal: 2.55s\tremaining: 306ms\n",
      "893:\tlearn: 0.0668807\ttotal: 2.55s\tremaining: 303ms\n",
      "894:\tlearn: 0.0668125\ttotal: 2.56s\tremaining: 300ms\n",
      "895:\tlearn: 0.0667212\ttotal: 2.56s\tremaining: 297ms\n",
      "896:\tlearn: 0.0665823\ttotal: 2.56s\tremaining: 294ms\n",
      "897:\tlearn: 0.0664481\ttotal: 2.57s\tremaining: 292ms\n",
      "898:\tlearn: 0.0662980\ttotal: 2.57s\tremaining: 289ms\n",
      "899:\tlearn: 0.0661916\ttotal: 2.58s\tremaining: 286ms\n",
      "900:\tlearn: 0.0659973\ttotal: 2.58s\tremaining: 283ms\n",
      "901:\tlearn: 0.0658530\ttotal: 2.58s\tremaining: 281ms\n",
      "902:\tlearn: 0.0657636\ttotal: 2.58s\tremaining: 278ms\n"
     ]
    },
    {
     "name": "stdout",
     "output_type": "stream",
     "text": [
      "903:\tlearn: 0.0656455\ttotal: 2.59s\tremaining: 275ms\n",
      "904:\tlearn: 0.0655706\ttotal: 2.59s\tremaining: 272ms\n",
      "905:\tlearn: 0.0655394\ttotal: 2.59s\tremaining: 269ms\n",
      "906:\tlearn: 0.0654023\ttotal: 2.59s\tremaining: 266ms\n",
      "907:\tlearn: 0.0652803\ttotal: 2.6s\tremaining: 263ms\n",
      "908:\tlearn: 0.0652034\ttotal: 2.6s\tremaining: 260ms\n",
      "909:\tlearn: 0.0651973\ttotal: 2.6s\tremaining: 258ms\n",
      "910:\tlearn: 0.0650930\ttotal: 2.61s\tremaining: 255ms\n",
      "911:\tlearn: 0.0649798\ttotal: 2.62s\tremaining: 252ms\n",
      "912:\tlearn: 0.0648242\ttotal: 2.62s\tremaining: 250ms\n",
      "913:\tlearn: 0.0646887\ttotal: 2.62s\tremaining: 247ms\n",
      "914:\tlearn: 0.0646119\ttotal: 2.62s\tremaining: 244ms\n",
      "915:\tlearn: 0.0644456\ttotal: 2.63s\tremaining: 241ms\n",
      "916:\tlearn: 0.0643554\ttotal: 2.63s\tremaining: 238ms\n",
      "917:\tlearn: 0.0643011\ttotal: 2.63s\tremaining: 235ms\n",
      "918:\tlearn: 0.0642280\ttotal: 2.63s\tremaining: 232ms\n",
      "919:\tlearn: 0.0641203\ttotal: 2.63s\tremaining: 229ms\n",
      "920:\tlearn: 0.0639822\ttotal: 2.64s\tremaining: 226ms\n",
      "921:\tlearn: 0.0638313\ttotal: 2.64s\tremaining: 223ms\n",
      "922:\tlearn: 0.0637451\ttotal: 2.64s\tremaining: 220ms\n",
      "923:\tlearn: 0.0637060\ttotal: 2.65s\tremaining: 218ms\n",
      "924:\tlearn: 0.0635822\ttotal: 2.65s\tremaining: 215ms\n",
      "925:\tlearn: 0.0634171\ttotal: 2.65s\tremaining: 212ms\n",
      "926:\tlearn: 0.0633317\ttotal: 2.65s\tremaining: 209ms\n",
      "927:\tlearn: 0.0633160\ttotal: 2.66s\tremaining: 206ms\n",
      "928:\tlearn: 0.0631910\ttotal: 2.66s\tremaining: 203ms\n",
      "929:\tlearn: 0.0631580\ttotal: 2.66s\tremaining: 200ms\n",
      "930:\tlearn: 0.0630190\ttotal: 2.66s\tremaining: 197ms\n",
      "931:\tlearn: 0.0629209\ttotal: 2.67s\tremaining: 195ms\n",
      "932:\tlearn: 0.0628068\ttotal: 2.67s\tremaining: 192ms\n",
      "933:\tlearn: 0.0627334\ttotal: 2.67s\tremaining: 189ms\n",
      "934:\tlearn: 0.0626255\ttotal: 2.67s\tremaining: 186ms\n",
      "935:\tlearn: 0.0625275\ttotal: 2.67s\tremaining: 183ms\n",
      "936:\tlearn: 0.0624470\ttotal: 2.68s\tremaining: 180ms\n",
      "937:\tlearn: 0.0623128\ttotal: 2.68s\tremaining: 177ms\n",
      "938:\tlearn: 0.0622611\ttotal: 2.68s\tremaining: 174ms\n",
      "939:\tlearn: 0.0621765\ttotal: 2.69s\tremaining: 171ms\n",
      "940:\tlearn: 0.0621017\ttotal: 2.69s\tremaining: 168ms\n",
      "941:\tlearn: 0.0620235\ttotal: 2.69s\tremaining: 166ms\n",
      "942:\tlearn: 0.0619303\ttotal: 2.69s\tremaining: 163ms\n",
      "943:\tlearn: 0.0618440\ttotal: 2.69s\tremaining: 160ms\n",
      "944:\tlearn: 0.0617869\ttotal: 2.7s\tremaining: 157ms\n",
      "945:\tlearn: 0.0616905\ttotal: 2.7s\tremaining: 154ms\n",
      "946:\tlearn: 0.0615729\ttotal: 2.7s\tremaining: 151ms\n"
     ]
    },
    {
     "name": "stdout",
     "output_type": "stream",
     "text": [
      "947:\tlearn: 0.0615409\ttotal: 2.7s\tremaining: 148ms\n",
      "948:\tlearn: 0.0614745\ttotal: 2.71s\tremaining: 146ms\n",
      "949:\tlearn: 0.0613665\ttotal: 2.71s\tremaining: 143ms\n",
      "950:\tlearn: 0.0612511\ttotal: 2.71s\tremaining: 140ms\n",
      "951:\tlearn: 0.0611743\ttotal: 2.71s\tremaining: 137ms\n",
      "952:\tlearn: 0.0611598\ttotal: 2.72s\tremaining: 134ms\n",
      "953:\tlearn: 0.0610582\ttotal: 2.72s\tremaining: 131ms\n",
      "954:\tlearn: 0.0610137\ttotal: 2.72s\tremaining: 128ms\n",
      "955:\tlearn: 0.0609522\ttotal: 2.72s\tremaining: 125ms\n",
      "956:\tlearn: 0.0608989\ttotal: 2.73s\tremaining: 123ms\n",
      "957:\tlearn: 0.0607905\ttotal: 2.73s\tremaining: 120ms\n",
      "958:\tlearn: 0.0606853\ttotal: 2.73s\tremaining: 117ms\n",
      "959:\tlearn: 0.0606455\ttotal: 2.73s\tremaining: 114ms\n",
      "960:\tlearn: 0.0605222\ttotal: 2.74s\tremaining: 111ms\n",
      "961:\tlearn: 0.0605104\ttotal: 2.74s\tremaining: 108ms\n",
      "962:\tlearn: 0.0604101\ttotal: 2.74s\tremaining: 105ms\n",
      "963:\tlearn: 0.0603597\ttotal: 2.74s\tremaining: 102ms\n",
      "964:\tlearn: 0.0602804\ttotal: 2.75s\tremaining: 99.6ms\n",
      "965:\tlearn: 0.0601942\ttotal: 2.75s\tremaining: 96.8ms\n",
      "966:\tlearn: 0.0600886\ttotal: 2.75s\tremaining: 93.9ms\n",
      "967:\tlearn: 0.0600097\ttotal: 2.75s\tremaining: 91ms\n",
      "968:\tlearn: 0.0598894\ttotal: 2.76s\tremaining: 88.2ms\n",
      "969:\tlearn: 0.0597846\ttotal: 2.76s\tremaining: 85.3ms\n"
     ]
    },
    {
     "name": "stdout",
     "output_type": "stream",
     "text": [
      "970:\tlearn: 0.0597055\ttotal: 2.76s\tremaining: 82.5ms\n",
      "971:\tlearn: 0.0595985\ttotal: 2.76s\tremaining: 79.6ms\n",
      "972:\tlearn: 0.0595184\ttotal: 2.77s\tremaining: 76.8ms\n",
      "973:\tlearn: 0.0594540\ttotal: 2.77s\tremaining: 73.9ms\n",
      "974:\tlearn: 0.0594470\ttotal: 2.77s\tremaining: 71.1ms\n",
      "975:\tlearn: 0.0593039\ttotal: 2.77s\tremaining: 68.2ms\n",
      "976:\tlearn: 0.0592559\ttotal: 2.78s\tremaining: 65.4ms\n",
      "977:\tlearn: 0.0591510\ttotal: 2.78s\tremaining: 62.5ms\n",
      "978:\tlearn: 0.0590177\ttotal: 2.78s\tremaining: 59.7ms\n",
      "979:\tlearn: 0.0589101\ttotal: 2.78s\tremaining: 56.8ms\n",
      "980:\tlearn: 0.0588783\ttotal: 2.79s\tremaining: 54ms\n",
      "981:\tlearn: 0.0587164\ttotal: 2.79s\tremaining: 51.1ms\n",
      "982:\tlearn: 0.0587080\ttotal: 2.79s\tremaining: 48.3ms\n",
      "983:\tlearn: 0.0586203\ttotal: 2.79s\tremaining: 45.4ms\n",
      "984:\tlearn: 0.0585301\ttotal: 2.79s\tremaining: 42.6ms\n",
      "985:\tlearn: 0.0584623\ttotal: 2.8s\tremaining: 39.7ms\n",
      "986:\tlearn: 0.0583596\ttotal: 2.8s\tremaining: 36.9ms\n",
      "987:\tlearn: 0.0582829\ttotal: 2.8s\tremaining: 34ms\n",
      "988:\tlearn: 0.0581660\ttotal: 2.81s\tremaining: 31.2ms\n",
      "989:\tlearn: 0.0580388\ttotal: 2.81s\tremaining: 28.4ms\n",
      "990:\tlearn: 0.0580066\ttotal: 2.81s\tremaining: 25.5ms\n",
      "991:\tlearn: 0.0579000\ttotal: 2.81s\tremaining: 22.7ms\n",
      "992:\tlearn: 0.0578940\ttotal: 2.81s\tremaining: 19.8ms\n",
      "993:\tlearn: 0.0578371\ttotal: 2.81s\tremaining: 17ms\n",
      "994:\tlearn: 0.0576691\ttotal: 2.82s\tremaining: 14.2ms\n",
      "995:\tlearn: 0.0575502\ttotal: 2.82s\tremaining: 11.3ms\n",
      "996:\tlearn: 0.0574606\ttotal: 2.82s\tremaining: 8.49ms\n",
      "997:\tlearn: 0.0573397\ttotal: 2.83s\tremaining: 5.66ms\n",
      "998:\tlearn: 0.0572513\ttotal: 2.83s\tremaining: 2.83ms\n",
      "999:\tlearn: 0.0570772\ttotal: 2.83s\tremaining: 0us\n"
     ]
    },
    {
     "data": {
      "text/plain": [
       "<catboost.core.CatBoostRegressor at 0x7fe1f892b310>"
      ]
     },
     "execution_count": 9,
     "metadata": {},
     "output_type": "execute_result"
    }
   ],
   "source": [
    "#Train the Model \n",
    "prior_model = ctb.CatBoostRegressor()\n",
    "prior_model.fit(X_train,Y_train)"
   ]
  },
  {
   "cell_type": "code",
   "execution_count": 10,
   "id": "af65dcda",
   "metadata": {
    "execution": {
     "iopub.execute_input": "2022-07-22T21:49:49.782091Z",
     "iopub.status.busy": "2022-07-22T21:49:49.781593Z",
     "iopub.status.idle": "2022-07-22T21:49:49.821002Z",
     "shell.execute_reply": "2022-07-22T21:49:49.820289Z"
    },
    "id": "af65dcda",
    "papermill": {
     "duration": 0.061621,
     "end_time": "2022-07-22T21:49:49.824143",
     "exception": false,
     "start_time": "2022-07-22T21:49:49.762522",
     "status": "completed"
    },
    "tags": []
   },
   "outputs": [
    {
     "data": {
      "application/scrapbook.scrap.json+json": {
       "data": 0.08444938901099555,
       "encoder": "json",
       "name": "Prior Model MSE",
       "version": 1
      }
     },
     "metadata": {
      "scrapbook": {
       "data": true,
       "display": false,
       "name": "Prior Model MSE"
      }
     },
     "output_type": "display_data"
    },
    {
     "data": {
      "application/scrapbook.scrap.json+json": {
       "data": 0.09501866530226777,
       "encoder": "json",
       "name": "ABC Pre-generator MSE",
       "version": 1
      }
     },
     "metadata": {
      "scrapbook": {
       "data": true,
       "display": false,
       "name": "ABC Pre-generator MSE"
      }
     },
     "output_type": "display_data"
    },
    {
     "data": {
      "application/scrapbook.scrap.json+json": {
       "data": 0.20178201526258394,
       "encoder": "json",
       "name": "Prior Model MAE",
       "version": 1
      }
     },
     "metadata": {
      "scrapbook": {
       "data": true,
       "display": false,
       "name": "Prior Model MAE"
      }
     },
     "output_type": "display_data"
    },
    {
     "name": "stdout",
     "output_type": "stream",
     "text": [
      "Prior Model MAE 0.20178201526258394\n",
      "ABC Pre-generator MAE 0.22675206907162385\n"
     ]
    }
   ],
   "source": [
    "y_pred = prior_model.predict(X_test)\n",
    "y_abc = y_pred + np.random.normal(0,variance, y_pred.shape) + bias \n",
    "mse = mean_squared_error(y_pred,Y_test)\n",
    "sb.glue(\"Prior Model MSE\",mse)\n",
    "mse = mean_squared_error(y_abc,Y_test)\n",
    "sb.glue(\"ABC Pre-generator MSE\",mse)\n",
    "mae = mean_absolute_error(y_pred,Y_test)\n",
    "sb.glue(\"Prior Model MAE\",mae)\n",
    "print(\"Prior Model MAE\",mae)\n",
    "mae = mean_absolute_error(y_abc,Y_test)\n",
    "print(\"ABC Pre-generator MAE\",mae)"
   ]
  },
  {
   "cell_type": "markdown",
   "id": "25609da2",
   "metadata": {
    "papermill": {
     "duration": 0.03339,
     "end_time": "2022-07-22T21:49:49.870635",
     "exception": false,
     "start_time": "2022-07-22T21:49:49.837245",
     "status": "completed"
    },
    "tags": []
   },
   "source": [
    "# mGAN Model"
   ]
  },
  {
   "cell_type": "code",
   "execution_count": 11,
   "id": "dfc3464d",
   "metadata": {
    "execution": {
     "iopub.execute_input": "2022-07-22T21:49:49.916321Z",
     "iopub.status.busy": "2022-07-22T21:49:49.916033Z",
     "iopub.status.idle": "2022-07-22T21:49:49.924193Z",
     "shell.execute_reply": "2022-07-22T21:49:49.923105Z"
    },
    "papermill": {
     "duration": 0.037577,
     "end_time": "2022-07-22T21:49:49.927339",
     "exception": false,
     "start_time": "2022-07-22T21:49:49.889762",
     "status": "completed"
    },
    "tags": []
   },
   "outputs": [],
   "source": [
    "# gen = network.Generator(n_features+1).to(device)\n",
    "# disc = network.Discriminator(n_features+1).to(device)\n",
    "\n",
    "# criterion = torch.nn.BCELoss()\n",
    "# gen_opt = torch.optim.Adam(gen.parameters(), lr=0.01, betas=(0.5, 0.999))\n",
    "# disc_opt = torch.optim.Adam(disc.parameters(), lr=0.01, betas=(0.5, 0.999))"
   ]
  },
  {
   "cell_type": "code",
   "execution_count": 12,
   "id": "b75fdd85",
   "metadata": {
    "execution": {
     "iopub.execute_input": "2022-07-22T21:49:49.956148Z",
     "iopub.status.busy": "2022-07-22T21:49:49.955845Z",
     "iopub.status.idle": "2022-07-22T21:49:49.960636Z",
     "shell.execute_reply": "2022-07-22T21:49:49.959819Z"
    },
    "papermill": {
     "duration": 0.021704,
     "end_time": "2022-07-22T21:49:49.963513",
     "exception": false,
     "start_time": "2022-07-22T21:49:49.941809",
     "status": "completed"
    },
    "tags": []
   },
   "outputs": [],
   "source": [
    "#Training the ABC_GAN \n",
    "# ABC_train_test2.training_GAN(disc,gen,disc_opt,gen_opt,train_data,batch_size,n_epochs,criterion,prior_model,variance,bias,device)"
   ]
  },
  {
   "cell_type": "code",
   "execution_count": 13,
   "id": "1fa7c368",
   "metadata": {
    "execution": {
     "iopub.execute_input": "2022-07-22T21:49:49.991480Z",
     "iopub.status.busy": "2022-07-22T21:49:49.991119Z",
     "iopub.status.idle": "2022-07-22T21:49:49.996750Z",
     "shell.execute_reply": "2022-07-22T21:49:49.995755Z"
    },
    "papermill": {
     "duration": 0.023036,
     "end_time": "2022-07-22T21:49:49.999611",
     "exception": false,
     "start_time": "2022-07-22T21:49:49.976575",
     "status": "completed"
    },
    "tags": []
   },
   "outputs": [],
   "source": [
    "# ABC_GAN1_metrics=ABC_train_test2.test_generator(gen,test_data,prior_model,variance,bias,\"1\",device)\n",
    "# sb.glue(\"ABC_GAN_1 Metrics\",ABC_GAN1_metrics)\n",
    "\n",
    "# print(\"MAE\")\n",
    "# print(mean(ABC_GAN1_metrics[1]))"
   ]
  },
  {
   "cell_type": "code",
   "execution_count": 14,
   "id": "eb22ce5c",
   "metadata": {
    "execution": {
     "iopub.execute_input": "2022-07-22T21:49:50.036055Z",
     "iopub.status.busy": "2022-07-22T21:49:50.035458Z",
     "iopub.status.idle": "2022-07-22T21:49:50.041034Z",
     "shell.execute_reply": "2022-07-22T21:49:50.039200Z"
    },
    "papermill": {
     "duration": 0.032284,
     "end_time": "2022-07-22T21:49:50.046074",
     "exception": false,
     "start_time": "2022-07-22T21:49:50.013790",
     "status": "completed"
    },
    "tags": []
   },
   "outputs": [],
   "source": [
    "# sanityChecks.discProbVsError(train_data,disc,device)\n",
    "# sanityChecks.discProbVsError(test_data,disc,device)"
   ]
  },
  {
   "cell_type": "markdown",
   "id": "409cb4f1",
   "metadata": {
    "papermill": {
     "duration": 0.012541,
     "end_time": "2022-07-22T21:49:50.070582",
     "exception": false,
     "start_time": "2022-07-22T21:49:50.058041",
     "status": "completed"
    },
    "tags": []
   },
   "source": [
    "# mGAN Model with TabNet Generator"
   ]
  },
  {
   "cell_type": "code",
   "execution_count": 15,
   "id": "86eb05c9",
   "metadata": {
    "execution": {
     "iopub.execute_input": "2022-07-22T21:49:50.097612Z",
     "iopub.status.busy": "2022-07-22T21:49:50.097245Z",
     "iopub.status.idle": "2022-07-22T21:49:50.116582Z",
     "shell.execute_reply": "2022-07-22T21:49:50.115687Z"
    },
    "papermill": {
     "duration": 0.037209,
     "end_time": "2022-07-22T21:49:50.119874",
     "exception": false,
     "start_time": "2022-07-22T21:49:50.082665",
     "status": "completed"
    },
    "tags": []
   },
   "outputs": [],
   "source": [
    "gen2 = network.GeneratorTabnet(n_features+1).to(device)\n",
    "disc2 = network.Discriminator(n_features+1).to(device)\n",
    "\n",
    "criterion = torch.nn.BCELoss()\n",
    "gen_opt = torch.optim.Adam(gen2.parameters(), lr=0.01, betas=(0.5, 0.999))\n",
    "disc_opt = torch.optim.Adam(disc2.parameters(), lr=0.01, betas=(0.5, 0.999))"
   ]
  },
  {
   "cell_type": "code",
   "execution_count": 16,
   "id": "67661145",
   "metadata": {
    "execution": {
     "iopub.execute_input": "2022-07-22T21:49:50.157256Z",
     "iopub.status.busy": "2022-07-22T21:49:50.156630Z",
     "iopub.status.idle": "2022-07-22T22:00:22.092051Z",
     "shell.execute_reply": "2022-07-22T22:00:22.091015Z"
    },
    "papermill": {
     "duration": 631.959024,
     "end_time": "2022-07-22T22:00:22.095090",
     "exception": false,
     "start_time": "2022-07-22T21:49:50.136066",
     "status": "completed"
    },
    "tags": []
   },
   "outputs": [
    {
     "data": {
      "image/png": "[encoded data removed]",
      "text/plain": [
       "<Figure size 432x288 with 1 Axes>"
      ]
     },
     "metadata": {
      "needs_background": "light"
     },
     "output_type": "display_data"
    },
    {
     "data": {
      "image/png": "[encoded data removed]",
      "text/plain": [
       "<Figure size 432x288 with 1 Axes>"
      ]
     },
     "metadata": {
      "needs_background": "light"
     },
     "output_type": "display_data"
    }
   ],
   "source": [
    "#Training the ABC_GAN \n",
    "ABC_train_test2.training_GAN(disc2,gen2,disc_opt,gen_opt,train_data,batch_size,n_epochs,criterion,prior_model,variance,bias,device)"
   ]
  },
  {
   "cell_type": "code",
   "execution_count": 17,
   "id": "b64ad865",
   "metadata": {
    "execution": {
     "iopub.execute_input": "2022-07-22T22:00:22.137608Z",
     "iopub.status.busy": "2022-07-22T22:00:22.136901Z",
     "iopub.status.idle": "2022-07-22T22:00:24.165808Z",
     "shell.execute_reply": "2022-07-22T22:00:24.164631Z"
    },
    "papermill": {
     "duration": 2.059965,
     "end_time": "2022-07-22T22:00:24.168971",
     "exception": false,
     "start_time": "2022-07-22T22:00:22.109006",
     "status": "completed"
    },
    "tags": []
   },
   "outputs": [
    {
     "data": {
      "application/scrapbook.scrap.json+json": {
       "data": 0.11668768424008165,
       "encoder": "json",
       "name": "ABC-GAN Model 1 MSE",
       "version": 1
      }
     },
     "metadata": {
      "scrapbook": {
       "data": true,
       "display": false,
       "name": "ABC-GAN Model 1 MSE"
      }
     },
     "output_type": "display_data"
    },
    {
     "data": {
      "application/scrapbook.scrap.json+json": {
       "data": 0.24263604081929752,
       "encoder": "json",
       "name": "ABC-GAN Model 1 MAE",
       "version": 1
      }
     },
     "metadata": {
      "scrapbook": {
       "data": true,
       "display": false,
       "name": "ABC-GAN Model 1 MAE"
      }
     },
     "output_type": "display_data"
    },
    {
     "data": {
      "application/scrapbook.scrap.json+json": {
       "data": 24.748876163568347,
       "encoder": "json",
       "name": "ABC-GAN Model 1 Manhattan Distance",
       "version": 1
      }
     },
     "metadata": {
      "scrapbook": {
       "data": true,
       "display": false,
       "name": "ABC-GAN Model 1 Manhattan Distance"
      }
     },
     "output_type": "display_data"
    },
    {
     "data": {
      "application/scrapbook.scrap.json+json": {
       "data": 3.4467747613414272,
       "encoder": "json",
       "name": "ABC-GAN Model 1 Euclidean distance",
       "version": 1
      }
     },
     "metadata": {
      "scrapbook": {
       "data": true,
       "display": false,
       "name": "ABC-GAN Model 1 Euclidean distance"
      }
     },
     "output_type": "display_data"
    },
    {
     "data": {
      "application/scrapbook.scrap.json+json": {
       "data": [
        [
         0.10599237158084766,
         0.12306967272174826,
         0.11637914963040885,
         0.11387138132032253,
         0.1164756115392139,
         0.11680930452664379,
         0.13490528642907212,
         0.12462258396199602,
         0.12175821225051023,
         0.12828331126597536,
         0.13805196782591028,
         0.12532557072214848,
         0.10889556163773009,
         0.11469432213032497,
         0.10372540954772858,
         0.13572549727586333,
         0.11385731691162457,
         0.12161419996956854,
         0.12599182380873863,
         0.12009588285592689,
         0.11836286742536588,
         0.11547486599359622,
         0.12443134393343927,
         0.10120587372969414,
         0.10834537005742295,
         0.12116720970430286,
         0.11904266527191014,
         0.12494704266965224,
         0.10569314144504932,
         0.09775789984059928,
         0.13431678054846707,
         0.09979156595428795,
         0.11257272517992807,
         0.0985959686375251,
         0.11159915275360913,
         0.1172866833911361,
         0.11517836362438127,
         0.10684943391254219,
         0.12590414499058794,
         0.10419206548737248,
         0.10867683797612669,
         0.11728467120227445,
         0.11208359250757421,
         0.12068067654021508,
         0.13750652756954182,
         0.10640781713507091,
         0.12464409321555585,
         0.10833462924506508,
         0.11888385258293124,
         0.12045028444259757,
         0.11295566088338789,
         0.11401488009547943,
         0.11936263493289648,
         0.11710879608570458,
         0.11542163846406327,
         0.12465486354875639,
         0.10944861007451522,
         0.1067343013005301,
         0.11411715332132147,
         0.1161215439705118,
         0.1319428308439449,
         0.10848281557152846,
         0.11776452662680914,
         0.129326302285289,
         0.1112617461701615,
         0.12312905862432118,
         0.09356582590343908,
         0.11324882359351018,
         0.09988225536835452,
         0.10597276186843486,
         0.12180717388059098,
         0.12569085367490868,
         0.13306395849985417,
         0.11832731250688053,
         0.12471353738140459,
         0.13113077680129553,
         0.10924535295950565,
         0.09215156610428213,
         0.12155838107668987,
         0.09187167365516741,
         0.11202606416862751,
         0.13026099557018048,
         0.1099281939806928,
         0.11008203109171885,
         0.12176571144180802,
         0.118119612031564,
         0.10679248822017072,
         0.1268865036488412,
         0.12168000099889081,
         0.10815632429188064,
         0.12220059656910227,
         0.11851496943854097,
         0.1203756810605459,
         0.1337926392205139,
         0.1271616013774588,
         0.11338393158630855,
         0.12401406939313442,
         0.11116187326979109,
         0.11797372168670066,
         0.11260121400802905
        ],
        [
         0.23861264105082727,
         0.2544009224694295,
         0.24769395177124762,
         0.24593648199430285,
         0.24463863309253664,
         0.2432585550362573,
         0.26825998409413826,
         0.2513157799657361,
         0.25504244487805694,
         0.26140295339784786,
         0.26384123177358915,
         0.24929274559276654,
         0.23436734856416783,
         0.24546375217865787,
         0.2300846858644018,
         0.25142450177786396,
         0.23740772000860935,
         0.23482114438186674,
         0.24559316813361412,
         0.2417310502964492,
         0.24286256694947095,
         0.2423758307362304,
         0.24245261400938034,
         0.23115067684329024,
         0.24071366486011767,
         0.2439053369932534,
         0.24722266350598895,
         0.2675789776166864,
         0.2342331652328664,
         0.22230487751464048,
         0.2588807784714827,
         0.2239696202324886,
         0.25362260349314003,
         0.22120612151190347,
         0.23699857372169694,
         0.23205479150455371,
         0.2435644914523936,
         0.2292119370883002,
         0.2515847734449541,
         0.2289215066817169,
         0.23160218604493374,
         0.24171037814926868,
         0.24383039146150445,
         0.2465882793470633,
         0.2687588486564802,
         0.2260580040587514,
         0.2462326448556839,
         0.22632921516310936,
         0.24351717725250066,
         0.2497017599423142,
         0.23151479427720986,
         0.24451427822749988,
         0.23655214724952683,
         0.2438555783866083,
         0.23492173773839192,
         0.2477901083435498,
         0.22556614989013063,
         0.23462294688557878,
         0.23813359517896293,
         0.2433116769454643,
         0.2537568521448502,
         0.22797447742492544,
         0.2448038583548338,
         0.24945181644722528,
         0.23484713279222155,
         0.25092312923687343,
         0.2167343651583674,
         0.24285411832890674,
         0.22603918812876822,
         0.236114222547222,
         0.24388060161807373,
         0.24857978000506467,
         0.26580879351525916,
         0.24830942642966322,
         0.2461895101758487,
         0.251757236051501,
         0.23702881477006219,
         0.2121294521653623,
         0.2525751319184315,
         0.23037379786518275,
         0.25016468693958777,
         0.2602264378950292,
         0.22947805066246027,
         0.2474975303527625,
         0.2518753762740423,
         0.24194357310440026,
         0.23855859289566675,
         0.24970273699100112,
         0.24176335742916255,
         0.23714498236921489,
         0.25142337356274036,
         0.2435910520965562,
         0.24293869867117382,
         0.25748291473799184,
         0.2534993864668935,
         0.23908839774701526,
         0.25582502500665394,
         0.238141880973297,
         0.23461119498254038,
         0.23399796145146384
        ],
        [
         24.33848938718438,
         25.94889409188181,
         25.264783080667257,
         25.08552116341889,
         24.953140575438738,
         24.812372613698244,
         27.3625183776021,
         25.634209556505084,
         26.014329377561808,
         26.66310124658048,
         26.911805640906096,
         25.427860050462186,
         23.905469553545117,
         25.037302722223103,
         23.468637958168983,
         25.645299181342125,
         24.215587440878153,
         23.951756726950407,
         25.05050314962864,
         24.656567130237818,
         24.771981828846037,
         24.7223347350955,
         24.730166628956795,
         23.577369038015604,
         24.552793815732002,
         24.878344373311847,
         25.216711677610874,
         27.293055716902018,
         23.891782853752375,
         22.67509750649333,
         26.40583940409124,
         22.844901263713837,
         25.869505556300282,
         22.563024394214153,
         24.173854519613087,
         23.66958873346448,
         24.843578128144145,
         23.37961758300662,
         25.661646891385317,
         23.349993681535125,
         23.623422976583242,
         24.654458571225405,
         24.870699929073453,
         25.152004493400455,
         27.413402562960982,
         23.057916413992643,
         25.11572977527976,
         23.085579946637154,
         24.838752079755068,
         25.46957951411605,
         23.614509016275406,
         24.94045637920499,
         24.128319019451737,
         24.873268995434046,
         23.962017249315977,
         25.27459105104208,
         23.007747288793325,
         23.931540582329035,
         24.289626708254218,
         24.817791048437357,
         25.883198918774724,
         23.253396697342396,
         24.969993552193046,
         25.444085277616978,
         23.9544075448066,
         25.594159182161093,
         22.106905246153474,
         24.771120069548488,
         23.05599718913436,
         24.083650699816644,
         24.87582136504352,
         25.355137560516596,
         27.112496938556433,
         25.32756149582565,
         25.11133003793657,
         25.679238077253103,
         24.176939106546342,
         21.637204120866954,
         25.762663455680013,
         23.49812738224864,
         25.516798067837954,
         26.54309666529298,
         23.40676116757095,
         25.244748095981777,
         25.69128837995231,
         24.678244456648827,
         24.33297647535801,
         25.469679173082113,
         24.65986245777458,
         24.188788201659918,
         25.645184103399515,
         24.846287313848734,
         24.77974726445973,
         26.263257303275168,
         25.856937419623137,
         24.387016570195556,
         26.0941525506787,
         24.290471859276295,
         23.930341888219118,
         23.86779206804931
        ],
        [
         3.288042259650332,
         3.543036355672676,
         3.4453843417392065,
         3.408061163575691,
         3.4468119149439844,
         3.451745799116393,
         3.709493121137355,
         3.5653195598885095,
         3.5241080643975775,
         3.6173053159955253,
         3.7525059251442694,
         3.575361270369631,
         3.3327687119043334,
         3.4203539081932948,
         3.2526899289462436,
         3.7207527090815993,
         3.407850689948975,
         3.5220233384939386,
         3.584852302186429,
         3.499968578616748,
         3.4746240771322756,
         3.4319726588868407,
         3.562582922713632,
         3.212942439638283,
         3.32433869301206,
         3.515544821196124,
         3.4845877600850916,
         3.5699577521736203,
         3.2833976955883717,
         3.1577374469295454,
         3.701393199316122,
         3.1904137235376493,
         3.3885716708301543,
         3.1712440462738845,
         3.3738870136488166,
         3.4587919431350427,
         3.427563725109555,
         3.301309173506671,
         3.583604719976795,
         3.259998570507661,
         3.32941999056366,
         3.458762273217399,
         3.3812019217687324,
         3.5084795862455773,
         3.745085554709433,
         3.2944798296206392,
         3.5656272250456436,
         3.324173909860409,
         3.482262621264942,
         3.505128958133345,
         3.394330185781218,
         3.410207877789695,
         3.4892676542729477,
         3.456167993709487,
         3.4311815928823197,
         3.565781272312304,
         3.34122106835219,
         3.2995300775495395,
         3.411737041270149,
         3.44156904405421,
         3.668537684975088,
         3.326446630910513,
         3.4658305953890087,
         3.631980566178662,
         3.3687828824898274,
         3.5438910789809492,
         3.0892902489327194,
         3.3987321175017655,
         3.191863099754149,
         3.2877380842427755,
         3.524816553498958,
         3.5805679821559995,
         3.684090629583523,
         3.474102168287774,
         3.5666203628790196,
         3.657231088368923,
         3.3381171342344436,
         3.065853835824007,
         3.52121497069156,
         3.0611943278444564,
         3.380334087808482,
         3.6450818301045596,
         3.348533378365917,
         3.3508755827925514,
         3.5242165891250803,
         3.471051775358519,
         3.3004293354740097,
         3.5975579734288923,
         3.5229760291388392,
         3.3214372006364696,
         3.5305043336679858,
         3.4768558904175446,
         3.504043302839689,
         3.694164208652942,
         3.6014557251895787,
         3.4007588891015885,
         3.556604430928425,
         3.367270567316902,
         3.4689075531128633,
         3.389000417353023
        ]
       ],
       "encoder": "json",
       "name": "ABC_GAN_2 Metrics",
       "version": 1
      }
     },
     "metadata": {
      "scrapbook": {
       "data": true,
       "display": false,
       "name": "ABC_GAN_2 Metrics"
      }
     },
     "output_type": "display_data"
    },
    {
     "name": "stdout",
     "output_type": "stream",
     "text": [
      "MAE\n",
      "0.24263604081929752\n"
     ]
    }
   ],
   "source": [
    "ABC_GAN2_metrics=ABC_train_test2.test_generator(gen2,test_data,prior_model,variance,bias,\"1\",device)\n",
    "sb.glue(\"ABC_GAN_2 Metrics\",ABC_GAN2_metrics)\n",
    "\n",
    "print(\"MAE\")\n",
    "print(mean(ABC_GAN2_metrics[1]))"
   ]
  },
  {
   "cell_type": "code",
   "execution_count": 18,
   "id": "1e99ebea",
   "metadata": {
    "execution": {
     "iopub.execute_input": "2022-07-22T22:00:24.209962Z",
     "iopub.status.busy": "2022-07-22T22:00:24.208739Z",
     "iopub.status.idle": "2022-07-22T22:00:25.080977Z",
     "shell.execute_reply": "2022-07-22T22:00:25.080074Z"
    },
    "papermill": {
     "duration": 0.899469,
     "end_time": "2022-07-22T22:00:25.083726",
     "exception": false,
     "start_time": "2022-07-22T22:00:24.184257",
     "status": "completed"
    },
    "tags": []
   },
   "outputs": [
    {
     "data": {
      "image/png": "[encoded data removed]",
      "text/plain": [
       "<Figure size 432x288 with 1 Axes>"
      ]
     },
     "metadata": {
      "needs_background": "light"
     },
     "output_type": "display_data"
    },
    {
     "data": {
      "image/png": "[encoded data removed]",
      "text/plain": [
       "<Figure size 432x288 with 1 Axes>"
      ]
     },
     "metadata": {
      "needs_background": "light"
     },
     "output_type": "display_data"
    },
    {
     "data": {
      "image/png": "[encoded data removed]",
      "text/plain": [
       "<Figure size 432x288 with 1 Axes>"
      ]
     },
     "metadata": {
      "needs_background": "light"
     },
     "output_type": "display_data"
    },
    {
     "data": {
      "image/png": "[encoded data removed]",
      "text/plain": [
       "<Figure size 432x288 with 1 Axes>"
      ]
     },
     "metadata": {
      "needs_background": "light"
     },
     "output_type": "display_data"
    }
   ],
   "source": [
    "sanityChecks.discProbVsError(train_data,disc2,device)\n",
    "sanityChecks.discProbVsError(test_data,disc2,device)"
   ]
  },
  {
   "cell_type": "markdown",
   "id": "130f3a4d",
   "metadata": {
    "id": "130f3a4d",
    "papermill": {
     "duration": 0.017316,
     "end_time": "2022-07-22T22:00:25.119507",
     "exception": false,
     "start_time": "2022-07-22T22:00:25.102191",
     "status": "completed"
    },
    "tags": []
   },
   "source": [
    "# skipGAN Model"
   ]
  },
  {
   "cell_type": "code",
   "execution_count": 19,
   "id": "4e43dad1",
   "metadata": {
    "execution": {
     "iopub.execute_input": "2022-07-22T22:00:25.156677Z",
     "iopub.status.busy": "2022-07-22T22:00:25.156251Z",
     "iopub.status.idle": "2022-07-22T22:00:25.170254Z",
     "shell.execute_reply": "2022-07-22T22:00:25.161938Z"
    },
    "id": "4e43dad1",
    "papermill": {
     "duration": 0.038637,
     "end_time": "2022-07-22T22:00:25.174838",
     "exception": false,
     "start_time": "2022-07-22T22:00:25.136201",
     "status": "completed"
    },
    "tags": []
   },
   "outputs": [],
   "source": [
    "# #Generator\n",
    "# gen3 = network.GeneratorWithSkipConnection(n_features+1).to(device)\n",
    "# constraints=network.weightConstraint()\n",
    "# #Discriminator \n",
    "# disc3 = network.Discriminator(n_features+1).to(device)\n",
    "\n",
    "# criterion = torch.nn.BCELoss()\n",
    "# gen_opt = torch.optim.Adam(gen3.parameters(), lr=0.01, betas=(0.5, 0.999))\n",
    "# disc_opt = torch.optim.Adam(disc3.parameters(), lr=0.01, betas=(0.5, 0.999))\n"
   ]
  },
  {
   "cell_type": "markdown",
   "id": "4e49490e",
   "metadata": {
    "tags": [
     "papermill-error-cell-tag"
    ]
   },
   "source": [
    "<span id=\"papermill-error-cell\" style=\"color:red; font-family:Helvetica Neue, Helvetica, Arial, sans-serif; font-size:2em;\">Execution using papermill encountered an exception here and stopped:</span>"
   ]
  },
  {
   "cell_type": "code",
   "execution_count": 20,
   "id": "26acbc37",
   "metadata": {
    "execution": {
     "iopub.execute_input": "2022-07-22T22:00:25.218230Z",
     "iopub.status.busy": "2022-07-22T22:00:25.217925Z",
     "iopub.status.idle": "2022-07-22T22:00:26.033841Z",
     "shell.execute_reply": "2022-07-22T22:00:26.029364Z"
    },
    "id": "26acbc37",
    "papermill": {
     "duration": 0.837467,
     "end_time": "2022-07-22T22:00:26.035870",
     "exception": true,
     "start_time": "2022-07-22T22:00:25.198403",
     "status": "failed"
    },
    "tags": []
   },
   "outputs": [
    {
     "ename": "NameError",
     "evalue": "name 'disc3' is not defined",
     "output_type": "error",
     "traceback": [
      "\u001b[0;31m---------------------------------------------------------------------------\u001b[0m",
      "\u001b[0;31mNameError\u001b[0m                                 Traceback (most recent call last)",
      "Input \u001b[0;32mIn [20]\u001b[0m, in \u001b[0;36m<cell line: 1>\u001b[0;34m()\u001b[0m\n\u001b[0;32m----> 1\u001b[0m ABC_train_test2\u001b[38;5;241m.\u001b[39mtraining_GAN_skip_connection(\u001b[43mdisc3\u001b[49m,gen3,disc_opt,gen_opt,train_data,batch_size,n_epochs,criterion,prior_model,variance,bias,device)\n",
      "\u001b[0;31mNameError\u001b[0m: name 'disc3' is not defined"
     ]
    }
   ],
   "source": [
    "ABC_train_test2.training_GAN_skip_connection(disc3,gen3,disc_opt,gen_opt,train_data,batch_size,n_epochs,criterion,prior_model,variance,bias,device)"
   ]
  },
  {
   "cell_type": "code",
   "execution_count": null,
   "id": "c5e0717b",
   "metadata": {
    "id": "c5e0717b",
    "papermill": {
     "duration": null,
     "end_time": null,
     "exception": null,
     "start_time": null,
     "status": "pending"
    },
    "tags": []
   },
   "outputs": [],
   "source": [
    "# ABC_GAN3_metrics=ABC_train_test2.test_generator(gen3,test_data,prior_model,variance,bias,\"3\",device)\n",
    "# sb.glue(\"ABC_GAN_3 Metrics\",ABC_GAN3_metrics)\n",
    "\n",
    "# print(\"MAE\")\n",
    "# print(mean(ABC_GAN3_metrics[1]))"
   ]
  },
  {
   "cell_type": "code",
   "execution_count": null,
   "id": "c8e46b48",
   "metadata": {
    "id": "c8e46b48",
    "papermill": {
     "duration": null,
     "end_time": null,
     "exception": null,
     "start_time": null,
     "status": "pending"
    },
    "tags": []
   },
   "outputs": [],
   "source": [
    "# sanityChecks.discProbVsError(train_data,disc3,device)\n",
    "# sanityChecks.discProbVsError(test_data,disc3,device)"
   ]
  },
  {
   "cell_type": "markdown",
   "id": "047c4397",
   "metadata": {
    "id": "130f3a4d",
    "papermill": {
     "duration": null,
     "end_time": null,
     "exception": null,
     "start_time": null,
     "status": "pending"
    },
    "tags": []
   },
   "source": [
    "# skipGAN Model with TabNet Generator"
   ]
  },
  {
   "cell_type": "code",
   "execution_count": null,
   "id": "77be55df",
   "metadata": {
    "id": "4e43dad1",
    "papermill": {
     "duration": null,
     "end_time": null,
     "exception": null,
     "start_time": null,
     "status": "pending"
    },
    "tags": []
   },
   "outputs": [],
   "source": [
    "# #Generator\n",
    "# gen4 = network.GeneratorTabnetskipConnection(n_features+1).to(device)\n",
    "# constraints=network.weightConstraint()\n",
    "# #Discriminator \n",
    "# disc4 = network.Discriminator(n_features+1).to(device)\n",
    "\n",
    "# criterion = torch.nn.BCELoss()\n",
    "# gen_opt = torch.optim.Adam(gen4.parameters(), lr=0.01, betas=(0.5, 0.999))\n",
    "# disc_opt = torch.optim.Adam(disc4.parameters(), lr=0.01, betas=(0.5, 0.999))\n"
   ]
  },
  {
   "cell_type": "code",
   "execution_count": null,
   "id": "8a298cbc",
   "metadata": {
    "id": "26acbc37",
    "papermill": {
     "duration": null,
     "end_time": null,
     "exception": null,
     "start_time": null,
     "status": "pending"
    },
    "tags": []
   },
   "outputs": [],
   "source": [
    "# ABC_train_test2.training_GAN_skip_connection(disc4,gen4,disc_opt,gen_opt,train_data,batch_size,n_epochs,criterion,prior_model,variance,bias,device)"
   ]
  },
  {
   "cell_type": "code",
   "execution_count": null,
   "id": "44aa61d0",
   "metadata": {
    "id": "c5e0717b",
    "papermill": {
     "duration": null,
     "end_time": null,
     "exception": null,
     "start_time": null,
     "status": "pending"
    },
    "tags": []
   },
   "outputs": [],
   "source": [
    "# ABC_GAN4_metrics=ABC_train_test2.test_generator(gen4,test_data,prior_model,variance,bias,\"3\",device)\n",
    "# sb.glue(\"ABC_GAN_4 Metrics\",ABC_GAN4_metrics)\n",
    "\n",
    "# print(\"MAE\")\n",
    "# print(mean(ABC_GAN4_metrics[1]))"
   ]
  },
  {
   "cell_type": "code",
   "execution_count": null,
   "id": "3f831d51",
   "metadata": {
    "id": "c8e46b48",
    "papermill": {
     "duration": null,
     "end_time": null,
     "exception": null,
     "start_time": null,
     "status": "pending"
    },
    "tags": []
   },
   "outputs": [],
   "source": [
    "# sanityChecks.discProbVsError(train_data,disc4,device)\n",
    "# sanityChecks.discProbVsError(test_data,disc4,device)"
   ]
  },
  {
   "cell_type": "markdown",
   "id": "a5bd74c3",
   "metadata": {
    "id": "a5bd74c3",
    "papermill": {
     "duration": null,
     "end_time": null,
     "exception": null,
     "start_time": null,
     "status": "pending"
    },
    "tags": []
   },
   "source": [
    "## Skip Connection Model Analysis - ABC-GAN "
   ]
  },
  {
   "cell_type": "markdown",
   "id": "5744a8bf",
   "metadata": {
    "id": "5744a8bf",
    "papermill": {
     "duration": null,
     "end_time": null,
     "exception": null,
     "start_time": null,
     "status": "pending"
    },
    "tags": []
   },
   "source": [
    "### Weight Analysis \n",
    "\n",
    "Study the weights of the skip connection layer\n",
    "\n",
    "Equation of the skip connection is \n",
    "\n",
    "$output = y_{gan} * w + y_{abc} * (1-w)$"
   ]
  },
  {
   "cell_type": "code",
   "execution_count": null,
   "id": "52c31dea",
   "metadata": {
    "id": "52c31dea",
    "papermill": {
     "duration": null,
     "end_time": null,
     "exception": null,
     "start_time": null,
     "status": "pending"
    },
    "tags": []
   },
   "outputs": [],
   "source": [
    "# print(\"Weight of the node at skip connection\")\n",
    "# for name,param in gen3.named_parameters():\n",
    "#     if(name == \"skipNode.weight\"):\n",
    "#         print(param)\n",
    "#         sb.glue(\"Skip Connection Weight\",param.item())"
   ]
  },
  {
   "cell_type": "markdown",
   "id": "cf8e96a9",
   "metadata": {
    "id": "a5bd74c3",
    "papermill": {
     "duration": null,
     "end_time": null,
     "exception": null,
     "start_time": null,
     "status": "pending"
    },
    "tags": []
   },
   "source": [
    "## skipGAN Model Analysis (TabNet Generator) "
   ]
  },
  {
   "cell_type": "markdown",
   "id": "28ce5918",
   "metadata": {
    "id": "5744a8bf",
    "papermill": {
     "duration": null,
     "end_time": null,
     "exception": null,
     "start_time": null,
     "status": "pending"
    },
    "tags": []
   },
   "source": [
    "### Weight Analysis \n",
    "\n",
    "Study the weights of the skip connection layer\n",
    "\n",
    "Equation of the skip connection is \n",
    "\n",
    "$output = y_{gan} * w + y_{abc} * (1-w)$"
   ]
  },
  {
   "cell_type": "code",
   "execution_count": null,
   "id": "0e934dd0",
   "metadata": {
    "id": "52c31dea",
    "papermill": {
     "duration": null,
     "end_time": null,
     "exception": null,
     "start_time": null,
     "status": "pending"
    },
    "tags": []
   },
   "outputs": [],
   "source": [
    "# print(\"Weight of the node at skip connection\")\n",
    "# for name,param in gen4.named_parameters():\n",
    "#     if(name == \"skipNode.weight\"):\n",
    "#         print(param)\n",
    "#         sb.glue(\"Skip Connection Weight\",param.item())"
   ]
  }
 ],
 "metadata": {
  "colab": {
   "collapsed_sections": [],
   "name": "ABC_GAN_Model-Catboost_Pre-gen.ipynb",
   "provenance": []
  },
  "interpreter": {
   "hash": "31f2aee4e71d21fbe5cf8b01ff0e069b9275f58929596ceb00d14d90e3e16cd6"
  },
  "kernelspec": {
   "display_name": "Python 3 (ipykernel)",
   "language": "python",
   "name": "python3"
  },
  "language_info": {
   "codemirror_mode": {
    "name": "ipython",
    "version": 3
   },
   "file_extension": ".py",
   "mimetype": "text/x-python",
   "name": "python",
   "nbconvert_exporter": "python",
   "pygments_lexer": "ipython3",
   "version": "3.8.13"
  },
  "papermill": {
   "default_parameters": {},
   "duration": 652.709576,
   "end_time": "2022-07-22T22:00:26.835735",
   "environment_variables": {},
   "exception": true,
   "input_path": "ABC_GAN-Catboost.ipynb",
   "output_path": "./ABC_GAN_Catboost/ABC-GAN_output_2_10.ipynb",
   "parameters": {
    "bias": 0,
    "variance": 0.1
   },
   "start_time": "2022-07-22T21:49:34.126159",
   "version": "2.3.3"
  }
 },
 "nbformat": 4,
 "nbformat_minor": 5
}