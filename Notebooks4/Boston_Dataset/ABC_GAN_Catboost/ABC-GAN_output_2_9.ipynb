{
 "cells": [
  {
   "cell_type": "markdown",
   "id": "42646b3d",
   "metadata": {
    "tags": [
     "papermill-error-cell-tag"
    ]
   },
   "source": [
    "<span style=\"color:red; font-family:Helvetica Neue, Helvetica, Arial, sans-serif; font-size:2em;\">An Exception was encountered at '<a href=\"#papermill-error-cell\">In [20]</a>'.</span>"
   ]
  },
  {
   "cell_type": "markdown",
   "id": "622780e6",
   "metadata": {
    "id": "622780e6",
    "papermill": {
     "duration": 0.011206,
     "end_time": "2022-07-22T21:38:24.588618",
     "exception": false,
     "start_time": "2022-07-22T21:38:24.577412",
     "status": "completed"
    },
    "tags": []
   },
   "source": [
    "## Import Libraries "
   ]
  },
  {
   "cell_type": "code",
   "execution_count": 1,
   "id": "a62397e3",
   "metadata": {
    "execution": {
     "iopub.execute_input": "2022-07-22T21:38:24.609991Z",
     "iopub.status.busy": "2022-07-22T21:38:24.609385Z",
     "iopub.status.idle": "2022-07-22T21:38:24.641430Z",
     "shell.execute_reply": "2022-07-22T21:38:24.633430Z"
    },
    "id": "a62397e3",
    "papermill": {
     "duration": 0.05061,
     "end_time": "2022-07-22T21:38:24.647400",
     "exception": false,
     "start_time": "2022-07-22T21:38:24.596790",
     "status": "completed"
    },
    "tags": []
   },
   "outputs": [],
   "source": [
    "import warnings\n",
    "import sys\n",
    "sys.path.insert(0, '../../src')\n",
    "warnings.filterwarnings('ignore')"
   ]
  },
  {
   "cell_type": "code",
   "execution_count": 2,
   "id": "d6a4e155",
   "metadata": {
    "execution": {
     "iopub.execute_input": "2022-07-22T21:38:24.680278Z",
     "iopub.status.busy": "2022-07-22T21:38:24.676403Z",
     "iopub.status.idle": "2022-07-22T21:38:32.089083Z",
     "shell.execute_reply": "2022-07-22T21:38:32.088156Z"
    },
    "id": "d6a4e155",
    "papermill": {
     "duration": 7.434936,
     "end_time": "2022-07-22T21:38:32.092421",
     "exception": false,
     "start_time": "2022-07-22T21:38:24.657485",
     "status": "completed"
    },
    "tags": []
   },
   "outputs": [],
   "source": [
    "import ABC_train_test2\n",
    "import bostonDataset\n",
    "import network\n",
    "import dataset\n",
    "import sanityChecks\n",
    "import torch \n",
    "import scrapbook as sb\n",
    "from statistics import mean \n",
    "import catboost as ctb \n",
    "from sklearn.model_selection import train_test_split\n",
    "from sklearn.metrics import mean_squared_error,mean_absolute_error\n",
    "import numpy as np"
   ]
  },
  {
   "cell_type": "markdown",
   "id": "2fa5b0f7",
   "metadata": {
    "id": "2fa5b0f7",
    "papermill": {
     "duration": 0.008953,
     "end_time": "2022-07-22T21:38:32.109203",
     "exception": false,
     "start_time": "2022-07-22T21:38:32.100250",
     "status": "completed"
    },
    "tags": []
   },
   "source": [
    "## Parameters "
   ]
  },
  {
   "cell_type": "code",
   "execution_count": 3,
   "id": "783186fb",
   "metadata": {
    "execution": {
     "iopub.execute_input": "2022-07-22T21:38:32.128000Z",
     "iopub.status.busy": "2022-07-22T21:38:32.127366Z",
     "iopub.status.idle": "2022-07-22T21:38:32.134263Z",
     "shell.execute_reply": "2022-07-22T21:38:32.132748Z"
    },
    "id": "783186fb",
    "papermill": {
     "duration": 0.021531,
     "end_time": "2022-07-22T21:38:32.138665",
     "exception": false,
     "start_time": "2022-07-22T21:38:32.117134",
     "status": "completed"
    },
    "tags": [
     "parameters"
    ]
   },
   "outputs": [],
   "source": [
    "variance = 1\n",
    "bias = 1 "
   ]
  },
  {
   "cell_type": "code",
   "execution_count": 4,
   "id": "04c34536",
   "metadata": {
    "execution": {
     "iopub.execute_input": "2022-07-22T21:38:32.157088Z",
     "iopub.status.busy": "2022-07-22T21:38:32.156634Z",
     "iopub.status.idle": "2022-07-22T21:38:32.163259Z",
     "shell.execute_reply": "2022-07-22T21:38:32.161604Z"
    },
    "papermill": {
     "duration": 0.019355,
     "end_time": "2022-07-22T21:38:32.166201",
     "exception": false,
     "start_time": "2022-07-22T21:38:32.146846",
     "status": "completed"
    },
    "tags": [
     "injected-parameters"
    ]
   },
   "outputs": [],
   "source": [
    "# Parameters\n",
    "variance = 1\n",
    "bias = 0\n"
   ]
  },
  {
   "cell_type": "markdown",
   "id": "391cdbfd",
   "metadata": {
    "id": "391cdbfd",
    "papermill": {
     "duration": 0.00806,
     "end_time": "2022-07-22T21:38:32.181825",
     "exception": false,
     "start_time": "2022-07-22T21:38:32.173765",
     "status": "completed"
    },
    "tags": []
   },
   "source": [
    "## Dataset \n"
   ]
  },
  {
   "cell_type": "code",
   "execution_count": 5,
   "id": "5b51f161",
   "metadata": {
    "execution": {
     "iopub.execute_input": "2022-07-22T21:38:32.199601Z",
     "iopub.status.busy": "2022-07-22T21:38:32.198929Z",
     "iopub.status.idle": "2022-07-22T21:38:32.204654Z",
     "shell.execute_reply": "2022-07-22T21:38:32.203779Z"
    },
    "id": "5b51f161",
    "papermill": {
     "duration": 0.018312,
     "end_time": "2022-07-22T21:38:32.207952",
     "exception": false,
     "start_time": "2022-07-22T21:38:32.189640",
     "status": "completed"
    },
    "tags": []
   },
   "outputs": [],
   "source": [
    "#Parameters \n",
    "n_features = 13\n",
    "n_samples= 506\n",
    "n_target = 1 "
   ]
  },
  {
   "cell_type": "code",
   "execution_count": 6,
   "id": "5d6eced4",
   "metadata": {
    "execution": {
     "iopub.execute_input": "2022-07-22T21:38:32.227574Z",
     "iopub.status.busy": "2022-07-22T21:38:32.227081Z",
     "iopub.status.idle": "2022-07-22T21:38:32.263146Z",
     "shell.execute_reply": "2022-07-22T21:38:32.261074Z"
    },
    "id": "5d6eced4",
    "papermill": {
     "duration": 0.051462,
     "end_time": "2022-07-22T21:38:32.267101",
     "exception": false,
     "start_time": "2022-07-22T21:38:32.215639",
     "status": "completed"
    },
    "tags": []
   },
   "outputs": [
    {
     "name": "stdout",
     "output_type": "stream",
     "text": [
      "         X1        X2        X3        X4        X5        X6        X7  \\\n",
      "0 -0.419782  0.284830 -1.287909 -0.272599 -0.144217  0.413672 -0.120013   \n",
      "1 -0.417339 -0.487722 -0.593381 -0.272599 -0.740262  0.194274  0.367166   \n",
      "2 -0.417342 -0.487722 -0.593381 -0.272599 -0.740262  1.282714 -0.265812   \n",
      "3 -0.416750 -0.487722 -1.306878 -0.272599 -0.835284  1.016303 -0.809889   \n",
      "4 -0.412482 -0.487722 -1.306878 -0.272599 -0.835284  1.228577 -0.511180   \n",
      "\n",
      "         X8        X9       X10       X11       X12       X13         Y  \n",
      "0  0.140214 -0.982843 -0.666608 -1.459000  0.441052 -1.075562  0.159686  \n",
      "1  0.557160 -0.867883 -0.987329 -0.303094  0.441052 -0.492439 -0.101524  \n",
      "2  0.557160 -0.867883 -0.987329 -0.303094  0.396427 -1.208727  1.324247  \n",
      "3  1.077737 -0.752922 -1.106115  0.113032  0.416163 -1.361517  1.182758  \n",
      "4  1.077737 -0.752922 -1.106115  0.113032  0.441052 -1.026501  1.487503  \n"
     ]
    }
   ],
   "source": [
    "X,Y = bostonDataset.boston_data()"
   ]
  },
  {
   "cell_type": "code",
   "execution_count": 7,
   "id": "fe007438",
   "metadata": {
    "execution": {
     "iopub.execute_input": "2022-07-22T21:38:32.284805Z",
     "iopub.status.busy": "2022-07-22T21:38:32.284438Z",
     "iopub.status.idle": "2022-07-22T21:38:32.291388Z",
     "shell.execute_reply": "2022-07-22T21:38:32.289950Z"
    },
    "id": "fe007438",
    "papermill": {
     "duration": 0.020318,
     "end_time": "2022-07-22T21:38:32.295284",
     "exception": false,
     "start_time": "2022-07-22T21:38:32.274966",
     "status": "completed"
    },
    "tags": []
   },
   "outputs": [],
   "source": [
    "#Train test split for dataset \n",
    "X_train,X_test,Y_train,Y_test = train_test_split(X,Y,test_size = 0.2)\n",
    "train_data = dataset.CustomDataset(X_train,Y_train)\n",
    "test_data = dataset.CustomDataset(X_test,Y_test)\n"
   ]
  },
  {
   "cell_type": "markdown",
   "id": "a9a1af34",
   "metadata": {
    "id": "a9a1af34",
    "papermill": {
     "duration": 0.007765,
     "end_time": "2022-07-22T21:38:32.311030",
     "exception": false,
     "start_time": "2022-07-22T21:38:32.303265",
     "status": "completed"
    },
    "tags": []
   },
   "source": [
    "## Training Parameters "
   ]
  },
  {
   "cell_type": "code",
   "execution_count": 8,
   "id": "952b7fc8",
   "metadata": {
    "execution": {
     "iopub.execute_input": "2022-07-22T21:38:32.342855Z",
     "iopub.status.busy": "2022-07-22T21:38:32.333583Z",
     "iopub.status.idle": "2022-07-22T21:38:32.348492Z",
     "shell.execute_reply": "2022-07-22T21:38:32.347202Z"
    },
    "id": "952b7fc8",
    "papermill": {
     "duration": 0.036727,
     "end_time": "2022-07-22T21:38:32.356071",
     "exception": false,
     "start_time": "2022-07-22T21:38:32.319344",
     "status": "completed"
    },
    "tags": []
   },
   "outputs": [],
   "source": [
    "batch_size = 32\n",
    "n_epochs = 1000\n",
    "#Select the device \n",
    "device = torch.device('cuda' if torch.cuda.is_available() else 'cpu')"
   ]
  },
  {
   "cell_type": "markdown",
   "id": "a95e1600",
   "metadata": {
    "id": "a95e1600",
    "papermill": {
     "duration": 0.010606,
     "end_time": "2022-07-22T21:38:32.376975",
     "exception": false,
     "start_time": "2022-07-22T21:38:32.366369",
     "status": "completed"
    },
    "tags": []
   },
   "source": [
    "# ABC Pre-generator Model \n",
    "\n",
    "1. The catboost model is used as a pre-generator model for the ABC-GAN. \n",
    "2. The model is first trained on the entire dataset \n",
    "3. It generats X,Y pairs and we add some Gaussian noise with mean 0 and variance 1 to it which is then feed as input to the generator.\n"
   ]
  },
  {
   "cell_type": "code",
   "execution_count": 9,
   "id": "ff8ce7bd",
   "metadata": {
    "execution": {
     "iopub.execute_input": "2022-07-22T21:38:32.395594Z",
     "iopub.status.busy": "2022-07-22T21:38:32.394746Z",
     "iopub.status.idle": "2022-07-22T21:38:36.760815Z",
     "shell.execute_reply": "2022-07-22T21:38:36.758947Z"
    },
    "id": "ff8ce7bd",
    "papermill": {
     "duration": 4.3795,
     "end_time": "2022-07-22T21:38:36.764213",
     "exception": false,
     "start_time": "2022-07-22T21:38:32.384713",
     "status": "completed"
    },
    "tags": []
   },
   "outputs": [
    {
     "name": "stdout",
     "output_type": "stream",
     "text": [
      "Learning rate set to 0.03548\n"
     ]
    },
    {
     "name": "stdout",
     "output_type": "stream",
     "text": [
      "0:\tlearn: 0.9796625\ttotal: 50.7ms\tremaining: 50.7s\n",
      "1:\tlearn: 0.9577818\ttotal: 53.9ms\tremaining: 26.9s\n",
      "2:\tlearn: 0.9361996\ttotal: 56.6ms\tremaining: 18.8s\n",
      "3:\tlearn: 0.9207737\ttotal: 59ms\tremaining: 14.7s\n",
      "4:\tlearn: 0.9027638\ttotal: 60.8ms\tremaining: 12.1s\n",
      "5:\tlearn: 0.8853688\ttotal: 62.5ms\tremaining: 10.4s\n",
      "6:\tlearn: 0.8682355\ttotal: 64ms\tremaining: 9.09s\n",
      "7:\tlearn: 0.8512958\ttotal: 65.9ms\tremaining: 8.16s\n",
      "8:\tlearn: 0.8359103\ttotal: 68.6ms\tremaining: 7.55s\n",
      "9:\tlearn: 0.8189966\ttotal: 72.3ms\tremaining: 7.15s\n",
      "10:\tlearn: 0.8026523\ttotal: 74.1ms\tremaining: 6.66s\n",
      "11:\tlearn: 0.7902194\ttotal: 77.1ms\tremaining: 6.34s\n",
      "12:\tlearn: 0.7751013\ttotal: 80.7ms\tremaining: 6.13s\n",
      "13:\tlearn: 0.7602805\ttotal: 83.5ms\tremaining: 5.88s\n",
      "14:\tlearn: 0.7465652\ttotal: 86.1ms\tremaining: 5.65s\n",
      "15:\tlearn: 0.7325030\ttotal: 89ms\tremaining: 5.47s\n",
      "16:\tlearn: 0.7203550\ttotal: 92.5ms\tremaining: 5.35s\n",
      "17:\tlearn: 0.7080774\ttotal: 94.4ms\tremaining: 5.15s\n",
      "18:\tlearn: 0.6957380\ttotal: 97ms\tremaining: 5.01s\n",
      "19:\tlearn: 0.6848679\ttotal: 99.4ms\tremaining: 4.87s\n",
      "20:\tlearn: 0.6736281\ttotal: 102ms\tremaining: 4.76s\n",
      "21:\tlearn: 0.6617775\ttotal: 105ms\tremaining: 4.65s\n",
      "22:\tlearn: 0.6503885\ttotal: 107ms\tremaining: 4.53s\n",
      "23:\tlearn: 0.6389563\ttotal: 109ms\tremaining: 4.45s\n",
      "24:\tlearn: 0.6281461\ttotal: 111ms\tremaining: 4.33s\n",
      "25:\tlearn: 0.6182928\ttotal: 113ms\tremaining: 4.23s\n",
      "26:\tlearn: 0.6091305\ttotal: 115ms\tremaining: 4.16s\n",
      "27:\tlearn: 0.5998017\ttotal: 118ms\tremaining: 4.1s\n",
      "28:\tlearn: 0.5925486\ttotal: 121ms\tremaining: 4.04s\n",
      "29:\tlearn: 0.5824005\ttotal: 123ms\tremaining: 3.97s\n",
      "30:\tlearn: 0.5732056\ttotal: 125ms\tremaining: 3.92s\n",
      "31:\tlearn: 0.5630812\ttotal: 128ms\tremaining: 3.87s\n",
      "32:\tlearn: 0.5557235\ttotal: 130ms\tremaining: 3.82s\n",
      "33:\tlearn: 0.5487297\ttotal: 133ms\tremaining: 3.78s\n",
      "34:\tlearn: 0.5408277\ttotal: 136ms\tremaining: 3.74s\n",
      "35:\tlearn: 0.5342499\ttotal: 137ms\tremaining: 3.68s\n",
      "36:\tlearn: 0.5269078\ttotal: 140ms\tremaining: 3.64s\n",
      "37:\tlearn: 0.5187549\ttotal: 142ms\tremaining: 3.6s\n",
      "38:\tlearn: 0.5112386\ttotal: 145ms\tremaining: 3.56s\n",
      "39:\tlearn: 0.5030235\ttotal: 146ms\tremaining: 3.51s\n",
      "40:\tlearn: 0.4969249\ttotal: 149ms\tremaining: 3.48s\n",
      "41:\tlearn: 0.4911197\ttotal: 151ms\tremaining: 3.43s\n",
      "42:\tlearn: 0.4844384\ttotal: 152ms\tremaining: 3.39s\n",
      "43:\tlearn: 0.4778665\ttotal: 158ms\tremaining: 3.42s\n",
      "44:\tlearn: 0.4718081\ttotal: 160ms\tremaining: 3.4s\n",
      "45:\tlearn: 0.4662768\ttotal: 163ms\tremaining: 3.37s\n",
      "46:\tlearn: 0.4613219\ttotal: 165ms\tremaining: 3.35s\n",
      "47:\tlearn: 0.4569160\ttotal: 168ms\tremaining: 3.33s\n",
      "48:\tlearn: 0.4519147\ttotal: 170ms\tremaining: 3.31s\n",
      "49:\tlearn: 0.4456946\ttotal: 173ms\tremaining: 3.29s\n",
      "50:\tlearn: 0.4420180\ttotal: 176ms\tremaining: 3.27s\n",
      "51:\tlearn: 0.4365529\ttotal: 177ms\tremaining: 3.23s\n"
     ]
    },
    {
     "name": "stdout",
     "output_type": "stream",
     "text": [
      "52:\tlearn: 0.4316691\ttotal: 180ms\tremaining: 3.22s\n",
      "53:\tlearn: 0.4276966\ttotal: 183ms\tremaining: 3.2s\n",
      "54:\tlearn: 0.4230959\ttotal: 184ms\tremaining: 3.17s\n",
      "55:\tlearn: 0.4189752\ttotal: 186ms\tremaining: 3.13s\n",
      "56:\tlearn: 0.4152739\ttotal: 188ms\tremaining: 3.12s\n",
      "57:\tlearn: 0.4109921\ttotal: 191ms\tremaining: 3.1s\n",
      "58:\tlearn: 0.4079470\ttotal: 193ms\tremaining: 3.07s\n",
      "59:\tlearn: 0.4042350\ttotal: 194ms\tremaining: 3.04s\n",
      "60:\tlearn: 0.4004834\ttotal: 197ms\tremaining: 3.03s\n",
      "61:\tlearn: 0.3975773\ttotal: 198ms\tremaining: 3s\n",
      "62:\tlearn: 0.3948837\ttotal: 201ms\tremaining: 2.99s\n",
      "63:\tlearn: 0.3913591\ttotal: 203ms\tremaining: 2.96s\n",
      "64:\tlearn: 0.3884272\ttotal: 204ms\tremaining: 2.94s\n",
      "65:\tlearn: 0.3857041\ttotal: 206ms\tremaining: 2.92s\n",
      "66:\tlearn: 0.3822047\ttotal: 208ms\tremaining: 2.89s\n",
      "67:\tlearn: 0.3798354\ttotal: 211ms\tremaining: 2.89s\n",
      "68:\tlearn: 0.3769949\ttotal: 212ms\tremaining: 2.86s\n",
      "69:\tlearn: 0.3737385\ttotal: 214ms\tremaining: 2.84s\n",
      "70:\tlearn: 0.3710872\ttotal: 217ms\tremaining: 2.83s\n",
      "71:\tlearn: 0.3680402\ttotal: 219ms\tremaining: 2.82s\n",
      "72:\tlearn: 0.3655147\ttotal: 221ms\tremaining: 2.81s\n",
      "73:\tlearn: 0.3619764\ttotal: 224ms\tremaining: 2.8s\n",
      "74:\tlearn: 0.3592774\ttotal: 226ms\tremaining: 2.79s\n"
     ]
    },
    {
     "name": "stdout",
     "output_type": "stream",
     "text": [
      "75:\tlearn: 0.3566090\ttotal: 233ms\tremaining: 2.83s\n",
      "76:\tlearn: 0.3543772\ttotal: 235ms\tremaining: 2.82s\n",
      "77:\tlearn: 0.3521496\ttotal: 237ms\tremaining: 2.81s\n",
      "78:\tlearn: 0.3501457\ttotal: 240ms\tremaining: 2.79s\n",
      "79:\tlearn: 0.3477105\ttotal: 242ms\tremaining: 2.79s\n",
      "80:\tlearn: 0.3452793\ttotal: 245ms\tremaining: 2.78s\n",
      "81:\tlearn: 0.3432498\ttotal: 248ms\tremaining: 2.78s\n",
      "82:\tlearn: 0.3411627\ttotal: 251ms\tremaining: 2.77s\n",
      "83:\tlearn: 0.3386541\ttotal: 253ms\tremaining: 2.76s\n",
      "84:\tlearn: 0.3365275\ttotal: 256ms\tremaining: 2.75s\n",
      "85:\tlearn: 0.3342133\ttotal: 259ms\tremaining: 2.75s\n",
      "86:\tlearn: 0.3320469\ttotal: 262ms\tremaining: 2.75s\n",
      "87:\tlearn: 0.3299170\ttotal: 264ms\tremaining: 2.74s\n",
      "88:\tlearn: 0.3277398\ttotal: 268ms\tremaining: 2.74s\n",
      "89:\tlearn: 0.3260229\ttotal: 270ms\tremaining: 2.73s\n",
      "90:\tlearn: 0.3235160\ttotal: 273ms\tremaining: 2.73s\n",
      "91:\tlearn: 0.3210311\ttotal: 276ms\tremaining: 2.72s\n",
      "92:\tlearn: 0.3195901\ttotal: 278ms\tremaining: 2.71s\n",
      "93:\tlearn: 0.3179567\ttotal: 281ms\tremaining: 2.71s\n",
      "94:\tlearn: 0.3161266\ttotal: 284ms\tremaining: 2.7s\n",
      "95:\tlearn: 0.3153494\ttotal: 286ms\tremaining: 2.7s\n"
     ]
    },
    {
     "name": "stdout",
     "output_type": "stream",
     "text": [
      "96:\tlearn: 0.3139656\ttotal: 289ms\tremaining: 2.69s\n",
      "97:\tlearn: 0.3125825\ttotal: 292ms\tremaining: 2.69s\n",
      "98:\tlearn: 0.3114397\ttotal: 294ms\tremaining: 2.67s\n",
      "99:\tlearn: 0.3098140\ttotal: 297ms\tremaining: 2.67s\n",
      "100:\tlearn: 0.3088458\ttotal: 299ms\tremaining: 2.66s\n",
      "101:\tlearn: 0.3064187\ttotal: 302ms\tremaining: 2.65s\n",
      "102:\tlearn: 0.3052302\ttotal: 304ms\tremaining: 2.65s\n",
      "103:\tlearn: 0.3040942\ttotal: 307ms\tremaining: 2.64s\n",
      "104:\tlearn: 0.3027792\ttotal: 309ms\tremaining: 2.64s\n",
      "105:\tlearn: 0.3018074\ttotal: 312ms\tremaining: 2.63s\n",
      "106:\tlearn: 0.2999458\ttotal: 314ms\tremaining: 2.62s\n",
      "107:\tlearn: 0.2987617\ttotal: 317ms\tremaining: 2.62s\n",
      "108:\tlearn: 0.2970243\ttotal: 319ms\tremaining: 2.61s\n",
      "109:\tlearn: 0.2953015\ttotal: 322ms\tremaining: 2.6s\n",
      "110:\tlearn: 0.2942013\ttotal: 324ms\tremaining: 2.6s\n",
      "111:\tlearn: 0.2920319\ttotal: 327ms\tremaining: 2.59s\n",
      "112:\tlearn: 0.2911082\ttotal: 329ms\tremaining: 2.58s\n",
      "113:\tlearn: 0.2900772\ttotal: 332ms\tremaining: 2.58s\n",
      "114:\tlearn: 0.2889516\ttotal: 335ms\tremaining: 2.58s\n",
      "115:\tlearn: 0.2873381\ttotal: 337ms\tremaining: 2.57s\n",
      "116:\tlearn: 0.2861574\ttotal: 340ms\tremaining: 2.56s\n",
      "117:\tlearn: 0.2843634\ttotal: 342ms\tremaining: 2.55s\n",
      "118:\tlearn: 0.2834996\ttotal: 343ms\tremaining: 2.54s\n"
     ]
    },
    {
     "name": "stdout",
     "output_type": "stream",
     "text": [
      "119:\tlearn: 0.2824469\ttotal: 345ms\tremaining: 2.53s\n",
      "120:\tlearn: 0.2815670\ttotal: 348ms\tremaining: 2.53s\n",
      "121:\tlearn: 0.2805411\ttotal: 350ms\tremaining: 2.52s\n",
      "122:\tlearn: 0.2790770\ttotal: 353ms\tremaining: 2.52s\n",
      "123:\tlearn: 0.2778760\ttotal: 356ms\tremaining: 2.51s\n",
      "124:\tlearn: 0.2762405\ttotal: 358ms\tremaining: 2.51s\n",
      "125:\tlearn: 0.2760339\ttotal: 359ms\tremaining: 2.49s\n",
      "126:\tlearn: 0.2751058\ttotal: 361ms\tremaining: 2.48s\n",
      "127:\tlearn: 0.2743673\ttotal: 364ms\tremaining: 2.48s\n",
      "128:\tlearn: 0.2731320\ttotal: 367ms\tremaining: 2.47s\n",
      "129:\tlearn: 0.2723013\ttotal: 369ms\tremaining: 2.47s\n",
      "130:\tlearn: 0.2710996\ttotal: 372ms\tremaining: 2.47s\n",
      "131:\tlearn: 0.2702552\ttotal: 374ms\tremaining: 2.46s\n",
      "132:\tlearn: 0.2696049\ttotal: 377ms\tremaining: 2.46s\n",
      "133:\tlearn: 0.2682317\ttotal: 379ms\tremaining: 2.45s\n",
      "134:\tlearn: 0.2667246\ttotal: 382ms\tremaining: 2.45s\n",
      "135:\tlearn: 0.2664872\ttotal: 383ms\tremaining: 2.43s\n",
      "136:\tlearn: 0.2653838\ttotal: 384ms\tremaining: 2.42s\n",
      "137:\tlearn: 0.2642117\ttotal: 387ms\tremaining: 2.41s\n",
      "138:\tlearn: 0.2633999\ttotal: 389ms\tremaining: 2.41s\n",
      "139:\tlearn: 0.2626973\ttotal: 392ms\tremaining: 2.4s\n",
      "140:\tlearn: 0.2618666\ttotal: 394ms\tremaining: 2.4s\n",
      "141:\tlearn: 0.2605702\ttotal: 397ms\tremaining: 2.4s\n",
      "142:\tlearn: 0.2599746\ttotal: 399ms\tremaining: 2.39s\n",
      "143:\tlearn: 0.2588394\ttotal: 402ms\tremaining: 2.39s\n",
      "144:\tlearn: 0.2586796\ttotal: 403ms\tremaining: 2.37s\n",
      "145:\tlearn: 0.2584144\ttotal: 404ms\tremaining: 2.36s\n",
      "146:\tlearn: 0.2568424\ttotal: 406ms\tremaining: 2.35s\n",
      "147:\tlearn: 0.2562178\ttotal: 408ms\tremaining: 2.35s\n",
      "148:\tlearn: 0.2549015\ttotal: 411ms\tremaining: 2.35s\n",
      "149:\tlearn: 0.2543890\ttotal: 414ms\tremaining: 2.34s\n",
      "150:\tlearn: 0.2541628\ttotal: 419ms\tremaining: 2.35s\n",
      "151:\tlearn: 0.2533674\ttotal: 421ms\tremaining: 2.35s\n",
      "152:\tlearn: 0.2526191\ttotal: 423ms\tremaining: 2.34s\n",
      "153:\tlearn: 0.2517406\ttotal: 426ms\tremaining: 2.34s\n",
      "154:\tlearn: 0.2510556\ttotal: 428ms\tremaining: 2.33s\n",
      "155:\tlearn: 0.2501334\ttotal: 431ms\tremaining: 2.33s\n",
      "156:\tlearn: 0.2497110\ttotal: 433ms\tremaining: 2.32s\n",
      "157:\tlearn: 0.2485775\ttotal: 435ms\tremaining: 2.32s\n",
      "158:\tlearn: 0.2478272\ttotal: 438ms\tremaining: 2.32s\n",
      "159:\tlearn: 0.2471197\ttotal: 440ms\tremaining: 2.31s\n",
      "160:\tlearn: 0.2467806\ttotal: 443ms\tremaining: 2.31s\n",
      "161:\tlearn: 0.2461145\ttotal: 445ms\tremaining: 2.3s\n",
      "162:\tlearn: 0.2454644\ttotal: 447ms\tremaining: 2.3s\n",
      "163:\tlearn: 0.2448904\ttotal: 450ms\tremaining: 2.29s\n",
      "164:\tlearn: 0.2441183\ttotal: 453ms\tremaining: 2.29s\n",
      "165:\tlearn: 0.2436598\ttotal: 455ms\tremaining: 2.29s\n",
      "166:\tlearn: 0.2433163\ttotal: 457ms\tremaining: 2.28s\n",
      "167:\tlearn: 0.2429908\ttotal: 459ms\tremaining: 2.27s\n",
      "168:\tlearn: 0.2421760\ttotal: 462ms\tremaining: 2.27s\n"
     ]
    },
    {
     "name": "stdout",
     "output_type": "stream",
     "text": [
      "169:\tlearn: 0.2413311\ttotal: 471ms\tremaining: 2.3s\n",
      "170:\tlearn: 0.2409387\ttotal: 477ms\tremaining: 2.31s\n",
      "171:\tlearn: 0.2403917\ttotal: 484ms\tremaining: 2.33s\n",
      "172:\tlearn: 0.2393309\ttotal: 488ms\tremaining: 2.33s\n",
      "173:\tlearn: 0.2383207\ttotal: 491ms\tremaining: 2.33s\n",
      "174:\tlearn: 0.2377193\ttotal: 493ms\tremaining: 2.33s\n",
      "175:\tlearn: 0.2369776\ttotal: 496ms\tremaining: 2.32s\n",
      "176:\tlearn: 0.2359764\ttotal: 498ms\tremaining: 2.32s\n",
      "177:\tlearn: 0.2353758\ttotal: 500ms\tremaining: 2.31s\n",
      "178:\tlearn: 0.2346678\ttotal: 507ms\tremaining: 2.33s\n",
      "179:\tlearn: 0.2339484\ttotal: 513ms\tremaining: 2.33s\n",
      "180:\tlearn: 0.2336423\ttotal: 515ms\tremaining: 2.33s\n",
      "181:\tlearn: 0.2333444\ttotal: 517ms\tremaining: 2.33s\n"
     ]
    },
    {
     "name": "stdout",
     "output_type": "stream",
     "text": [
      "182:\tlearn: 0.2327466\ttotal: 525ms\tremaining: 2.35s\n",
      "183:\tlearn: 0.2321123\ttotal: 528ms\tremaining: 2.34s\n",
      "184:\tlearn: 0.2319199\ttotal: 532ms\tremaining: 2.34s\n",
      "185:\tlearn: 0.2314810\ttotal: 535ms\tremaining: 2.34s\n",
      "186:\tlearn: 0.2305970\ttotal: 539ms\tremaining: 2.34s\n",
      "187:\tlearn: 0.2300705\ttotal: 541ms\tremaining: 2.34s\n",
      "188:\tlearn: 0.2293894\ttotal: 545ms\tremaining: 2.34s\n",
      "189:\tlearn: 0.2288606\ttotal: 548ms\tremaining: 2.33s\n",
      "190:\tlearn: 0.2284359\ttotal: 550ms\tremaining: 2.33s\n",
      "191:\tlearn: 0.2276516\ttotal: 553ms\tremaining: 2.33s\n",
      "192:\tlearn: 0.2269773\ttotal: 555ms\tremaining: 2.32s\n",
      "193:\tlearn: 0.2267291\ttotal: 556ms\tremaining: 2.31s\n",
      "194:\tlearn: 0.2261515\ttotal: 559ms\tremaining: 2.31s\n",
      "195:\tlearn: 0.2255571\ttotal: 563ms\tremaining: 2.31s\n",
      "196:\tlearn: 0.2252984\ttotal: 566ms\tremaining: 2.31s\n",
      "197:\tlearn: 0.2247492\ttotal: 568ms\tremaining: 2.3s\n",
      "198:\tlearn: 0.2240686\ttotal: 570ms\tremaining: 2.29s\n",
      "199:\tlearn: 0.2233582\ttotal: 573ms\tremaining: 2.29s\n",
      "200:\tlearn: 0.2231596\ttotal: 576ms\tremaining: 2.29s\n",
      "201:\tlearn: 0.2225258\ttotal: 579ms\tremaining: 2.29s\n",
      "202:\tlearn: 0.2222522\ttotal: 582ms\tremaining: 2.28s\n",
      "203:\tlearn: 0.2219989\ttotal: 584ms\tremaining: 2.28s\n",
      "204:\tlearn: 0.2215064\ttotal: 587ms\tremaining: 2.27s\n",
      "205:\tlearn: 0.2211796\ttotal: 589ms\tremaining: 2.27s\n",
      "206:\tlearn: 0.2209425\ttotal: 592ms\tremaining: 2.27s\n",
      "207:\tlearn: 0.2204701\ttotal: 595ms\tremaining: 2.27s\n",
      "208:\tlearn: 0.2198119\ttotal: 598ms\tremaining: 2.26s\n",
      "209:\tlearn: 0.2195334\ttotal: 600ms\tremaining: 2.26s\n",
      "210:\tlearn: 0.2191508\ttotal: 603ms\tremaining: 2.25s\n",
      "211:\tlearn: 0.2186310\ttotal: 605ms\tremaining: 2.25s\n",
      "212:\tlearn: 0.2180471\ttotal: 610ms\tremaining: 2.25s\n",
      "213:\tlearn: 0.2174378\ttotal: 612ms\tremaining: 2.25s\n",
      "214:\tlearn: 0.2168226\ttotal: 615ms\tremaining: 2.24s\n",
      "215:\tlearn: 0.2163813\ttotal: 617ms\tremaining: 2.24s\n"
     ]
    },
    {
     "name": "stdout",
     "output_type": "stream",
     "text": [
      "216:\tlearn: 0.2158571\ttotal: 620ms\tremaining: 2.24s\n",
      "217:\tlearn: 0.2151495\ttotal: 624ms\tremaining: 2.24s\n",
      "218:\tlearn: 0.2148169\ttotal: 627ms\tremaining: 2.23s\n",
      "219:\tlearn: 0.2143714\ttotal: 629ms\tremaining: 2.23s\n",
      "220:\tlearn: 0.2141081\ttotal: 632ms\tremaining: 2.23s\n",
      "221:\tlearn: 0.2133514\ttotal: 633ms\tremaining: 2.22s\n",
      "222:\tlearn: 0.2128763\ttotal: 636ms\tremaining: 2.21s\n",
      "223:\tlearn: 0.2122371\ttotal: 639ms\tremaining: 2.21s\n",
      "224:\tlearn: 0.2115644\ttotal: 641ms\tremaining: 2.21s\n",
      "225:\tlearn: 0.2111943\ttotal: 644ms\tremaining: 2.2s\n",
      "226:\tlearn: 0.2106467\ttotal: 646ms\tremaining: 2.2s\n",
      "227:\tlearn: 0.2098898\ttotal: 649ms\tremaining: 2.2s\n",
      "228:\tlearn: 0.2094012\ttotal: 652ms\tremaining: 2.2s\n",
      "229:\tlearn: 0.2089154\ttotal: 655ms\tremaining: 2.19s\n",
      "230:\tlearn: 0.2086069\ttotal: 658ms\tremaining: 2.19s\n",
      "231:\tlearn: 0.2079212\ttotal: 661ms\tremaining: 2.19s\n",
      "232:\tlearn: 0.2078195\ttotal: 662ms\tremaining: 2.18s\n",
      "233:\tlearn: 0.2074910\ttotal: 665ms\tremaining: 2.18s\n",
      "234:\tlearn: 0.2072033\ttotal: 667ms\tremaining: 2.17s\n",
      "235:\tlearn: 0.2070221\ttotal: 670ms\tremaining: 2.17s\n",
      "236:\tlearn: 0.2066982\ttotal: 673ms\tremaining: 2.17s\n",
      "237:\tlearn: 0.2061995\ttotal: 675ms\tremaining: 2.16s\n",
      "238:\tlearn: 0.2058034\ttotal: 677ms\tremaining: 2.15s\n",
      "239:\tlearn: 0.2050961\ttotal: 678ms\tremaining: 2.15s\n"
     ]
    },
    {
     "name": "stdout",
     "output_type": "stream",
     "text": [
      "240:\tlearn: 0.2044773\ttotal: 683ms\tremaining: 2.15s\n",
      "241:\tlearn: 0.2038285\ttotal: 688ms\tremaining: 2.15s\n",
      "242:\tlearn: 0.2036137\ttotal: 693ms\tremaining: 2.16s\n",
      "243:\tlearn: 0.2032267\ttotal: 697ms\tremaining: 2.16s\n",
      "244:\tlearn: 0.2024427\ttotal: 700ms\tremaining: 2.16s\n",
      "245:\tlearn: 0.2019471\ttotal: 703ms\tremaining: 2.15s\n",
      "246:\tlearn: 0.2015954\ttotal: 705ms\tremaining: 2.15s\n",
      "247:\tlearn: 0.2011715\ttotal: 707ms\tremaining: 2.14s\n",
      "248:\tlearn: 0.2008159\ttotal: 710ms\tremaining: 2.14s\n",
      "249:\tlearn: 0.2006331\ttotal: 712ms\tremaining: 2.14s\n",
      "250:\tlearn: 0.2001485\ttotal: 715ms\tremaining: 2.13s\n",
      "251:\tlearn: 0.1999010\ttotal: 716ms\tremaining: 2.13s\n",
      "252:\tlearn: 0.1997962\ttotal: 719ms\tremaining: 2.12s\n",
      "253:\tlearn: 0.1990162\ttotal: 725ms\tremaining: 2.13s\n",
      "254:\tlearn: 0.1984193\ttotal: 729ms\tremaining: 2.13s\n",
      "255:\tlearn: 0.1979216\ttotal: 734ms\tremaining: 2.13s\n",
      "256:\tlearn: 0.1973190\ttotal: 737ms\tremaining: 2.13s\n",
      "257:\tlearn: 0.1970671\ttotal: 739ms\tremaining: 2.13s\n",
      "258:\tlearn: 0.1969685\ttotal: 743ms\tremaining: 2.13s\n",
      "259:\tlearn: 0.1966931\ttotal: 746ms\tremaining: 2.12s\n",
      "260:\tlearn: 0.1960528\ttotal: 748ms\tremaining: 2.12s\n",
      "261:\tlearn: 0.1956443\ttotal: 751ms\tremaining: 2.12s\n",
      "262:\tlearn: 0.1947802\ttotal: 754ms\tremaining: 2.11s\n",
      "263:\tlearn: 0.1941485\ttotal: 757ms\tremaining: 2.11s\n",
      "264:\tlearn: 0.1938318\ttotal: 762ms\tremaining: 2.11s\n",
      "265:\tlearn: 0.1935854\ttotal: 777ms\tremaining: 2.15s\n",
      "266:\tlearn: 0.1934405\ttotal: 780ms\tremaining: 2.14s\n",
      "267:\tlearn: 0.1932982\ttotal: 782ms\tremaining: 2.14s\n"
     ]
    },
    {
     "name": "stdout",
     "output_type": "stream",
     "text": [
      "268:\tlearn: 0.1927509\ttotal: 784ms\tremaining: 2.13s\n",
      "269:\tlearn: 0.1926208\ttotal: 787ms\tremaining: 2.13s\n",
      "270:\tlearn: 0.1922426\ttotal: 790ms\tremaining: 2.13s\n",
      "271:\tlearn: 0.1915695\ttotal: 793ms\tremaining: 2.12s\n",
      "272:\tlearn: 0.1914439\ttotal: 795ms\tremaining: 2.12s\n",
      "273:\tlearn: 0.1907495\ttotal: 797ms\tremaining: 2.11s\n",
      "274:\tlearn: 0.1904492\ttotal: 801ms\tremaining: 2.11s\n",
      "275:\tlearn: 0.1903331\ttotal: 806ms\tremaining: 2.11s\n",
      "276:\tlearn: 0.1899281\ttotal: 823ms\tremaining: 2.15s\n",
      "277:\tlearn: 0.1896390\ttotal: 826ms\tremaining: 2.14s\n",
      "278:\tlearn: 0.1895726\ttotal: 827ms\tremaining: 2.14s\n",
      "279:\tlearn: 0.1894452\ttotal: 830ms\tremaining: 2.13s\n",
      "280:\tlearn: 0.1886666\ttotal: 832ms\tremaining: 2.13s\n",
      "281:\tlearn: 0.1880012\ttotal: 835ms\tremaining: 2.13s\n",
      "282:\tlearn: 0.1874125\ttotal: 837ms\tremaining: 2.12s\n",
      "283:\tlearn: 0.1873425\ttotal: 839ms\tremaining: 2.11s\n",
      "284:\tlearn: 0.1867006\ttotal: 841ms\tremaining: 2.11s\n",
      "285:\tlearn: 0.1859213\ttotal: 844ms\tremaining: 2.11s\n",
      "286:\tlearn: 0.1852557\ttotal: 847ms\tremaining: 2.1s\n",
      "287:\tlearn: 0.1846612\ttotal: 849ms\tremaining: 2.1s\n"
     ]
    },
    {
     "name": "stdout",
     "output_type": "stream",
     "text": [
      "288:\tlearn: 0.1840397\ttotal: 853ms\tremaining: 2.1s\n",
      "289:\tlearn: 0.1833686\ttotal: 868ms\tremaining: 2.13s\n",
      "290:\tlearn: 0.1829120\ttotal: 870ms\tremaining: 2.12s\n",
      "291:\tlearn: 0.1825867\ttotal: 873ms\tremaining: 2.12s\n",
      "292:\tlearn: 0.1820052\ttotal: 875ms\tremaining: 2.11s\n",
      "293:\tlearn: 0.1815523\ttotal: 878ms\tremaining: 2.11s\n",
      "294:\tlearn: 0.1810458\ttotal: 880ms\tremaining: 2.1s\n",
      "295:\tlearn: 0.1805738\ttotal: 883ms\tremaining: 2.1s\n",
      "296:\tlearn: 0.1801678\ttotal: 884ms\tremaining: 2.09s\n",
      "297:\tlearn: 0.1797581\ttotal: 887ms\tremaining: 2.09s\n",
      "298:\tlearn: 0.1791867\ttotal: 890ms\tremaining: 2.08s\n",
      "299:\tlearn: 0.1786337\ttotal: 893ms\tremaining: 2.08s\n",
      "300:\tlearn: 0.1780234\ttotal: 896ms\tremaining: 2.08s\n",
      "301:\tlearn: 0.1775378\ttotal: 898ms\tremaining: 2.08s\n",
      "302:\tlearn: 0.1769092\ttotal: 908ms\tremaining: 2.09s\n",
      "303:\tlearn: 0.1767980\ttotal: 910ms\tremaining: 2.08s\n",
      "304:\tlearn: 0.1764384\ttotal: 913ms\tremaining: 2.08s\n",
      "305:\tlearn: 0.1763028\ttotal: 915ms\tremaining: 2.08s\n",
      "306:\tlearn: 0.1757663\ttotal: 918ms\tremaining: 2.07s\n",
      "307:\tlearn: 0.1752465\ttotal: 920ms\tremaining: 2.07s\n",
      "308:\tlearn: 0.1747500\ttotal: 923ms\tremaining: 2.06s\n",
      "309:\tlearn: 0.1744486\ttotal: 926ms\tremaining: 2.06s\n",
      "310:\tlearn: 0.1743861\ttotal: 928ms\tremaining: 2.06s\n",
      "311:\tlearn: 0.1738736\ttotal: 931ms\tremaining: 2.05s\n",
      "312:\tlearn: 0.1733902\ttotal: 933ms\tremaining: 2.05s\n",
      "313:\tlearn: 0.1733210\ttotal: 936ms\tremaining: 2.04s\n",
      "314:\tlearn: 0.1732615\ttotal: 938ms\tremaining: 2.04s\n",
      "315:\tlearn: 0.1727734\ttotal: 941ms\tremaining: 2.04s\n",
      "316:\tlearn: 0.1723539\ttotal: 944ms\tremaining: 2.03s\n",
      "317:\tlearn: 0.1720546\ttotal: 948ms\tremaining: 2.03s\n"
     ]
    },
    {
     "name": "stdout",
     "output_type": "stream",
     "text": [
      "318:\tlearn: 0.1716812\ttotal: 981ms\tremaining: 2.09s\n",
      "319:\tlearn: 0.1712942\ttotal: 995ms\tremaining: 2.11s\n",
      "320:\tlearn: 0.1707819\ttotal: 998ms\tremaining: 2.11s\n",
      "321:\tlearn: 0.1707156\ttotal: 1s\tremaining: 2.11s\n"
     ]
    },
    {
     "name": "stdout",
     "output_type": "stream",
     "text": [
      "322:\tlearn: 0.1702935\ttotal: 1.02s\tremaining: 2.14s\n",
      "323:\tlearn: 0.1699067\ttotal: 1.02s\tremaining: 2.14s\n",
      "324:\tlearn: 0.1694421\ttotal: 1.03s\tremaining: 2.13s\n",
      "325:\tlearn: 0.1689954\ttotal: 1.03s\tremaining: 2.13s\n",
      "326:\tlearn: 0.1686345\ttotal: 1.03s\tremaining: 2.13s\n",
      "327:\tlearn: 0.1681206\ttotal: 1.03s\tremaining: 2.12s\n",
      "328:\tlearn: 0.1676919\ttotal: 1.04s\tremaining: 2.12s\n",
      "329:\tlearn: 0.1671222\ttotal: 1.04s\tremaining: 2.12s\n",
      "330:\tlearn: 0.1668068\ttotal: 1.04s\tremaining: 2.11s\n",
      "331:\tlearn: 0.1665388\ttotal: 1.05s\tremaining: 2.11s\n",
      "332:\tlearn: 0.1661615\ttotal: 1.05s\tremaining: 2.1s\n",
      "333:\tlearn: 0.1657559\ttotal: 1.05s\tremaining: 2.1s\n",
      "334:\tlearn: 0.1653430\ttotal: 1.06s\tremaining: 2.1s\n",
      "335:\tlearn: 0.1648849\ttotal: 1.06s\tremaining: 2.09s\n",
      "336:\tlearn: 0.1643955\ttotal: 1.06s\tremaining: 2.09s\n",
      "337:\tlearn: 0.1638801\ttotal: 1.06s\tremaining: 2.08s\n",
      "338:\tlearn: 0.1631290\ttotal: 1.06s\tremaining: 2.08s\n",
      "339:\tlearn: 0.1626797\ttotal: 1.07s\tremaining: 2.07s\n",
      "340:\tlearn: 0.1622765\ttotal: 1.07s\tremaining: 2.07s\n",
      "341:\tlearn: 0.1618041\ttotal: 1.07s\tremaining: 2.06s\n",
      "342:\tlearn: 0.1610288\ttotal: 1.07s\tremaining: 2.06s\n",
      "343:\tlearn: 0.1606774\ttotal: 1.08s\tremaining: 2.06s\n",
      "344:\tlearn: 0.1602711\ttotal: 1.08s\tremaining: 2.05s\n",
      "345:\tlearn: 0.1598983\ttotal: 1.08s\tremaining: 2.04s\n",
      "346:\tlearn: 0.1595638\ttotal: 1.08s\tremaining: 2.04s\n",
      "347:\tlearn: 0.1592236\ttotal: 1.09s\tremaining: 2.04s\n",
      "348:\tlearn: 0.1589530\ttotal: 1.09s\tremaining: 2.03s\n",
      "349:\tlearn: 0.1586613\ttotal: 1.09s\tremaining: 2.03s\n",
      "350:\tlearn: 0.1583141\ttotal: 1.09s\tremaining: 2.02s\n",
      "351:\tlearn: 0.1577764\ttotal: 1.1s\tremaining: 2.02s\n",
      "352:\tlearn: 0.1573833\ttotal: 1.1s\tremaining: 2.01s\n",
      "353:\tlearn: 0.1571097\ttotal: 1.1s\tremaining: 2.01s\n",
      "354:\tlearn: 0.1567491\ttotal: 1.1s\tremaining: 2s\n",
      "355:\tlearn: 0.1563612\ttotal: 1.11s\tremaining: 2s\n",
      "356:\tlearn: 0.1563089\ttotal: 1.11s\tremaining: 2s\n",
      "357:\tlearn: 0.1558206\ttotal: 1.11s\tremaining: 1.99s\n",
      "358:\tlearn: 0.1554050\ttotal: 1.11s\tremaining: 1.99s\n",
      "359:\tlearn: 0.1548294\ttotal: 1.12s\tremaining: 1.99s\n",
      "360:\tlearn: 0.1547711\ttotal: 1.12s\tremaining: 1.98s\n",
      "361:\tlearn: 0.1547206\ttotal: 1.12s\tremaining: 1.98s\n",
      "362:\tlearn: 0.1544042\ttotal: 1.13s\tremaining: 1.97s\n",
      "363:\tlearn: 0.1540229\ttotal: 1.13s\tremaining: 1.97s\n"
     ]
    },
    {
     "name": "stdout",
     "output_type": "stream",
     "text": [
      "364:\tlearn: 0.1537145\ttotal: 1.14s\tremaining: 1.98s\n",
      "365:\tlearn: 0.1532917\ttotal: 1.15s\tremaining: 1.99s\n",
      "366:\tlearn: 0.1528702\ttotal: 1.15s\tremaining: 1.99s\n",
      "367:\tlearn: 0.1524711\ttotal: 1.16s\tremaining: 1.99s\n",
      "368:\tlearn: 0.1521164\ttotal: 1.16s\tremaining: 1.98s\n",
      "369:\tlearn: 0.1516666\ttotal: 1.16s\tremaining: 1.98s\n",
      "370:\tlearn: 0.1513729\ttotal: 1.16s\tremaining: 1.97s\n",
      "371:\tlearn: 0.1511603\ttotal: 1.17s\tremaining: 1.97s\n",
      "372:\tlearn: 0.1507762\ttotal: 1.17s\tremaining: 1.96s\n",
      "373:\tlearn: 0.1504972\ttotal: 1.17s\tremaining: 1.96s\n",
      "374:\tlearn: 0.1504444\ttotal: 1.17s\tremaining: 1.96s\n",
      "375:\tlearn: 0.1500564\ttotal: 1.18s\tremaining: 1.95s\n",
      "376:\tlearn: 0.1498449\ttotal: 1.18s\tremaining: 1.95s\n",
      "377:\tlearn: 0.1495006\ttotal: 1.18s\tremaining: 1.94s\n"
     ]
    },
    {
     "name": "stdout",
     "output_type": "stream",
     "text": [
      "378:\tlearn: 0.1492409\ttotal: 1.19s\tremaining: 1.94s\n",
      "379:\tlearn: 0.1488999\ttotal: 1.19s\tremaining: 1.94s\n",
      "380:\tlearn: 0.1488539\ttotal: 1.19s\tremaining: 1.93s\n",
      "381:\tlearn: 0.1488021\ttotal: 1.19s\tremaining: 1.93s\n",
      "382:\tlearn: 0.1484655\ttotal: 1.2s\tremaining: 1.93s\n",
      "383:\tlearn: 0.1482674\ttotal: 1.2s\tremaining: 1.92s\n",
      "384:\tlearn: 0.1481477\ttotal: 1.2s\tremaining: 1.92s\n",
      "385:\tlearn: 0.1477733\ttotal: 1.2s\tremaining: 1.91s\n",
      "386:\tlearn: 0.1473569\ttotal: 1.21s\tremaining: 1.91s\n",
      "387:\tlearn: 0.1470767\ttotal: 1.22s\tremaining: 1.93s\n",
      "388:\tlearn: 0.1467726\ttotal: 1.23s\tremaining: 1.93s\n",
      "389:\tlearn: 0.1463735\ttotal: 1.23s\tremaining: 1.92s\n",
      "390:\tlearn: 0.1463360\ttotal: 1.23s\tremaining: 1.92s\n",
      "391:\tlearn: 0.1462893\ttotal: 1.23s\tremaining: 1.91s\n",
      "392:\tlearn: 0.1457725\ttotal: 1.24s\tremaining: 1.91s\n",
      "393:\tlearn: 0.1454195\ttotal: 1.24s\tremaining: 1.91s\n",
      "394:\tlearn: 0.1451985\ttotal: 1.24s\tremaining: 1.91s\n",
      "395:\tlearn: 0.1451520\ttotal: 1.25s\tremaining: 1.9s\n"
     ]
    },
    {
     "name": "stdout",
     "output_type": "stream",
     "text": [
      "396:\tlearn: 0.1447022\ttotal: 1.25s\tremaining: 1.9s\n",
      "397:\tlearn: 0.1442875\ttotal: 1.25s\tremaining: 1.89s\n",
      "398:\tlearn: 0.1442422\ttotal: 1.25s\tremaining: 1.89s\n",
      "399:\tlearn: 0.1438566\ttotal: 1.26s\tremaining: 1.89s\n",
      "400:\tlearn: 0.1434830\ttotal: 1.26s\tremaining: 1.88s\n",
      "401:\tlearn: 0.1430842\ttotal: 1.26s\tremaining: 1.88s\n",
      "402:\tlearn: 0.1428107\ttotal: 1.27s\tremaining: 1.88s\n",
      "403:\tlearn: 0.1425597\ttotal: 1.27s\tremaining: 1.87s\n",
      "404:\tlearn: 0.1422761\ttotal: 1.27s\tremaining: 1.87s\n"
     ]
    },
    {
     "name": "stdout",
     "output_type": "stream",
     "text": [
      "405:\tlearn: 0.1420256\ttotal: 1.28s\tremaining: 1.87s\n",
      "406:\tlearn: 0.1416180\ttotal: 1.28s\tremaining: 1.86s\n",
      "407:\tlearn: 0.1411890\ttotal: 1.28s\tremaining: 1.86s\n",
      "408:\tlearn: 0.1411470\ttotal: 1.28s\tremaining: 1.86s\n",
      "409:\tlearn: 0.1408161\ttotal: 1.29s\tremaining: 1.85s\n",
      "410:\tlearn: 0.1406024\ttotal: 1.29s\tremaining: 1.85s\n",
      "411:\tlearn: 0.1402713\ttotal: 1.29s\tremaining: 1.84s\n",
      "412:\tlearn: 0.1400719\ttotal: 1.29s\tremaining: 1.84s\n",
      "413:\tlearn: 0.1397200\ttotal: 1.3s\tremaining: 1.84s\n",
      "414:\tlearn: 0.1396781\ttotal: 1.3s\tremaining: 1.83s\n",
      "415:\tlearn: 0.1393182\ttotal: 1.31s\tremaining: 1.83s\n",
      "416:\tlearn: 0.1392773\ttotal: 1.31s\tremaining: 1.83s\n",
      "417:\tlearn: 0.1389931\ttotal: 1.31s\tremaining: 1.83s\n",
      "418:\tlearn: 0.1387029\ttotal: 1.31s\tremaining: 1.82s\n",
      "419:\tlearn: 0.1381909\ttotal: 1.32s\tremaining: 1.82s\n",
      "420:\tlearn: 0.1377920\ttotal: 1.32s\tremaining: 1.82s\n",
      "421:\tlearn: 0.1373697\ttotal: 1.33s\tremaining: 1.82s\n",
      "422:\tlearn: 0.1369857\ttotal: 1.33s\tremaining: 1.81s\n",
      "423:\tlearn: 0.1367075\ttotal: 1.33s\tremaining: 1.81s\n",
      "424:\tlearn: 0.1364472\ttotal: 1.33s\tremaining: 1.81s\n",
      "425:\tlearn: 0.1362062\ttotal: 1.34s\tremaining: 1.8s\n",
      "426:\tlearn: 0.1357391\ttotal: 1.34s\tremaining: 1.8s\n",
      "427:\tlearn: 0.1353070\ttotal: 1.34s\tremaining: 1.79s\n",
      "428:\tlearn: 0.1352678\ttotal: 1.34s\tremaining: 1.79s\n",
      "429:\tlearn: 0.1352358\ttotal: 1.35s\tremaining: 1.79s\n",
      "430:\tlearn: 0.1349197\ttotal: 1.35s\tremaining: 1.78s\n",
      "431:\tlearn: 0.1347628\ttotal: 1.35s\tremaining: 1.78s\n",
      "432:\tlearn: 0.1347296\ttotal: 1.35s\tremaining: 1.77s\n",
      "433:\tlearn: 0.1344602\ttotal: 1.36s\tremaining: 1.77s\n",
      "434:\tlearn: 0.1341658\ttotal: 1.36s\tremaining: 1.77s\n",
      "435:\tlearn: 0.1338994\ttotal: 1.36s\tremaining: 1.76s\n",
      "436:\tlearn: 0.1336085\ttotal: 1.37s\tremaining: 1.76s\n",
      "437:\tlearn: 0.1334428\ttotal: 1.37s\tremaining: 1.76s\n",
      "438:\tlearn: 0.1334104\ttotal: 1.37s\tremaining: 1.75s\n",
      "439:\tlearn: 0.1331926\ttotal: 1.37s\tremaining: 1.75s\n",
      "440:\tlearn: 0.1330401\ttotal: 1.38s\tremaining: 1.75s\n",
      "441:\tlearn: 0.1327406\ttotal: 1.38s\tremaining: 1.74s\n",
      "442:\tlearn: 0.1323949\ttotal: 1.38s\tremaining: 1.74s\n",
      "443:\tlearn: 0.1320636\ttotal: 1.39s\tremaining: 1.74s\n"
     ]
    },
    {
     "name": "stdout",
     "output_type": "stream",
     "text": [
      "444:\tlearn: 0.1320408\ttotal: 1.39s\tremaining: 1.74s\n",
      "445:\tlearn: 0.1317483\ttotal: 1.4s\tremaining: 1.74s\n",
      "446:\tlearn: 0.1314319\ttotal: 1.4s\tremaining: 1.73s\n",
      "447:\tlearn: 0.1312751\ttotal: 1.4s\tremaining: 1.73s\n",
      "448:\tlearn: 0.1311274\ttotal: 1.41s\tremaining: 1.73s\n",
      "449:\tlearn: 0.1306097\ttotal: 1.41s\tremaining: 1.72s\n",
      "450:\tlearn: 0.1305799\ttotal: 1.41s\tremaining: 1.72s\n",
      "451:\tlearn: 0.1304810\ttotal: 1.41s\tremaining: 1.71s\n",
      "452:\tlearn: 0.1302043\ttotal: 1.42s\tremaining: 1.71s\n",
      "453:\tlearn: 0.1299451\ttotal: 1.42s\tremaining: 1.71s\n",
      "454:\tlearn: 0.1296210\ttotal: 1.42s\tremaining: 1.7s\n",
      "455:\tlearn: 0.1293576\ttotal: 1.42s\tremaining: 1.7s\n",
      "456:\tlearn: 0.1291812\ttotal: 1.43s\tremaining: 1.69s\n",
      "457:\tlearn: 0.1288854\ttotal: 1.43s\tremaining: 1.69s\n",
      "458:\tlearn: 0.1283847\ttotal: 1.43s\tremaining: 1.69s\n",
      "459:\tlearn: 0.1282631\ttotal: 1.43s\tremaining: 1.68s\n"
     ]
    },
    {
     "name": "stdout",
     "output_type": "stream",
     "text": [
      "460:\tlearn: 0.1282329\ttotal: 1.44s\tremaining: 1.68s\n",
      "461:\tlearn: 0.1279786\ttotal: 1.44s\tremaining: 1.68s\n",
      "462:\tlearn: 0.1277058\ttotal: 1.44s\tremaining: 1.67s\n",
      "463:\tlearn: 0.1274236\ttotal: 1.45s\tremaining: 1.67s\n",
      "464:\tlearn: 0.1271793\ttotal: 1.47s\tremaining: 1.7s\n",
      "465:\tlearn: 0.1266640\ttotal: 1.48s\tremaining: 1.69s\n",
      "466:\tlearn: 0.1263668\ttotal: 1.48s\tremaining: 1.69s\n",
      "467:\tlearn: 0.1263414\ttotal: 1.48s\tremaining: 1.68s\n",
      "468:\tlearn: 0.1260843\ttotal: 1.48s\tremaining: 1.68s\n",
      "469:\tlearn: 0.1257919\ttotal: 1.49s\tremaining: 1.68s\n",
      "470:\tlearn: 0.1255753\ttotal: 1.49s\tremaining: 1.67s\n",
      "471:\tlearn: 0.1252814\ttotal: 1.49s\tremaining: 1.67s\n",
      "472:\tlearn: 0.1251566\ttotal: 1.51s\tremaining: 1.68s\n",
      "473:\tlearn: 0.1247287\ttotal: 1.51s\tremaining: 1.68s\n",
      "474:\tlearn: 0.1244627\ttotal: 1.51s\tremaining: 1.68s\n",
      "475:\tlearn: 0.1242793\ttotal: 1.52s\tremaining: 1.67s\n",
      "476:\tlearn: 0.1240486\ttotal: 1.52s\tremaining: 1.67s\n",
      "477:\tlearn: 0.1237197\ttotal: 1.52s\tremaining: 1.66s\n",
      "478:\tlearn: 0.1233225\ttotal: 1.52s\tremaining: 1.66s\n",
      "479:\tlearn: 0.1231175\ttotal: 1.53s\tremaining: 1.66s\n",
      "480:\tlearn: 0.1228200\ttotal: 1.53s\tremaining: 1.65s\n",
      "481:\tlearn: 0.1226131\ttotal: 1.55s\tremaining: 1.67s\n",
      "482:\tlearn: 0.1223852\ttotal: 1.56s\tremaining: 1.67s\n",
      "483:\tlearn: 0.1221151\ttotal: 1.56s\tremaining: 1.67s\n"
     ]
    },
    {
     "name": "stdout",
     "output_type": "stream",
     "text": [
      "484:\tlearn: 0.1219150\ttotal: 1.56s\tremaining: 1.66s\n",
      "485:\tlearn: 0.1215562\ttotal: 1.57s\tremaining: 1.67s\n",
      "486:\tlearn: 0.1211616\ttotal: 1.58s\tremaining: 1.66s\n",
      "487:\tlearn: 0.1208344\ttotal: 1.58s\tremaining: 1.66s\n",
      "488:\tlearn: 0.1208094\ttotal: 1.59s\tremaining: 1.66s\n",
      "489:\tlearn: 0.1205534\ttotal: 1.59s\tremaining: 1.66s\n",
      "490:\tlearn: 0.1204133\ttotal: 1.59s\tremaining: 1.65s\n",
      "491:\tlearn: 0.1201600\ttotal: 1.6s\tremaining: 1.65s\n",
      "492:\tlearn: 0.1201352\ttotal: 1.6s\tremaining: 1.65s\n",
      "493:\tlearn: 0.1199604\ttotal: 1.6s\tremaining: 1.64s\n",
      "494:\tlearn: 0.1199439\ttotal: 1.6s\tremaining: 1.64s\n"
     ]
    },
    {
     "name": "stdout",
     "output_type": "stream",
     "text": [
      "495:\tlearn: 0.1197226\ttotal: 1.61s\tremaining: 1.63s\n",
      "496:\tlearn: 0.1194451\ttotal: 1.61s\tremaining: 1.63s\n",
      "497:\tlearn: 0.1190675\ttotal: 1.61s\tremaining: 1.63s\n",
      "498:\tlearn: 0.1190443\ttotal: 1.62s\tremaining: 1.62s\n",
      "499:\tlearn: 0.1187779\ttotal: 1.62s\tremaining: 1.62s\n",
      "500:\tlearn: 0.1185533\ttotal: 1.62s\tremaining: 1.61s\n",
      "501:\tlearn: 0.1181649\ttotal: 1.62s\tremaining: 1.61s\n",
      "502:\tlearn: 0.1179632\ttotal: 1.63s\tremaining: 1.61s\n",
      "503:\tlearn: 0.1177219\ttotal: 1.63s\tremaining: 1.61s\n",
      "504:\tlearn: 0.1174709\ttotal: 1.64s\tremaining: 1.6s\n",
      "505:\tlearn: 0.1171825\ttotal: 1.64s\tremaining: 1.6s\n",
      "506:\tlearn: 0.1169471\ttotal: 1.64s\tremaining: 1.59s\n",
      "507:\tlearn: 0.1167637\ttotal: 1.64s\tremaining: 1.59s\n",
      "508:\tlearn: 0.1165101\ttotal: 1.65s\tremaining: 1.59s\n",
      "509:\tlearn: 0.1163376\ttotal: 1.65s\tremaining: 1.58s\n",
      "510:\tlearn: 0.1160295\ttotal: 1.65s\tremaining: 1.58s\n",
      "511:\tlearn: 0.1158315\ttotal: 1.65s\tremaining: 1.58s\n",
      "512:\tlearn: 0.1155635\ttotal: 1.66s\tremaining: 1.57s\n",
      "513:\tlearn: 0.1151898\ttotal: 1.66s\tremaining: 1.57s\n",
      "514:\tlearn: 0.1150309\ttotal: 1.66s\tremaining: 1.57s\n",
      "515:\tlearn: 0.1150079\ttotal: 1.67s\tremaining: 1.57s\n",
      "516:\tlearn: 0.1147122\ttotal: 1.69s\tremaining: 1.57s\n",
      "517:\tlearn: 0.1145831\ttotal: 1.69s\tremaining: 1.57s\n",
      "518:\tlearn: 0.1143154\ttotal: 1.69s\tremaining: 1.57s\n",
      "519:\tlearn: 0.1141849\ttotal: 1.69s\tremaining: 1.56s\n",
      "520:\tlearn: 0.1139268\ttotal: 1.7s\tremaining: 1.56s\n",
      "521:\tlearn: 0.1136636\ttotal: 1.7s\tremaining: 1.55s\n",
      "522:\tlearn: 0.1134701\ttotal: 1.7s\tremaining: 1.55s\n",
      "523:\tlearn: 0.1132566\ttotal: 1.7s\tremaining: 1.55s\n",
      "524:\tlearn: 0.1130204\ttotal: 1.71s\tremaining: 1.54s\n",
      "525:\tlearn: 0.1126883\ttotal: 1.71s\tremaining: 1.54s\n",
      "526:\tlearn: 0.1124796\ttotal: 1.71s\tremaining: 1.54s\n",
      "527:\tlearn: 0.1122211\ttotal: 1.71s\tremaining: 1.53s\n",
      "528:\tlearn: 0.1121606\ttotal: 1.72s\tremaining: 1.53s\n",
      "529:\tlearn: 0.1119591\ttotal: 1.72s\tremaining: 1.52s\n"
     ]
    },
    {
     "name": "stdout",
     "output_type": "stream",
     "text": [
      "530:\tlearn: 0.1118648\ttotal: 1.75s\tremaining: 1.55s\n",
      "531:\tlearn: 0.1117042\ttotal: 1.75s\tremaining: 1.54s\n",
      "532:\tlearn: 0.1114708\ttotal: 1.76s\tremaining: 1.54s\n",
      "533:\tlearn: 0.1111892\ttotal: 1.76s\tremaining: 1.53s\n",
      "534:\tlearn: 0.1109424\ttotal: 1.76s\tremaining: 1.53s\n",
      "535:\tlearn: 0.1107840\ttotal: 1.76s\tremaining: 1.53s\n",
      "536:\tlearn: 0.1105496\ttotal: 1.77s\tremaining: 1.52s\n",
      "537:\tlearn: 0.1103114\ttotal: 1.77s\tremaining: 1.52s\n",
      "538:\tlearn: 0.1100877\ttotal: 1.77s\tremaining: 1.51s\n",
      "539:\tlearn: 0.1098616\ttotal: 1.77s\tremaining: 1.51s\n",
      "540:\tlearn: 0.1094905\ttotal: 1.78s\tremaining: 1.51s\n",
      "541:\tlearn: 0.1094655\ttotal: 1.78s\tremaining: 1.5s\n"
     ]
    },
    {
     "name": "stdout",
     "output_type": "stream",
     "text": [
      "542:\tlearn: 0.1092653\ttotal: 1.78s\tremaining: 1.5s\n",
      "543:\tlearn: 0.1089699\ttotal: 1.78s\tremaining: 1.5s\n",
      "544:\tlearn: 0.1086810\ttotal: 1.79s\tremaining: 1.49s\n",
      "545:\tlearn: 0.1084861\ttotal: 1.79s\tremaining: 1.49s\n",
      "546:\tlearn: 0.1084192\ttotal: 1.79s\tremaining: 1.48s\n",
      "547:\tlearn: 0.1082684\ttotal: 1.79s\tremaining: 1.48s\n",
      "548:\tlearn: 0.1080169\ttotal: 1.8s\tremaining: 1.48s\n",
      "549:\tlearn: 0.1077864\ttotal: 1.8s\tremaining: 1.47s\n",
      "550:\tlearn: 0.1077132\ttotal: 1.8s\tremaining: 1.47s\n",
      "551:\tlearn: 0.1073987\ttotal: 1.8s\tremaining: 1.46s\n",
      "552:\tlearn: 0.1073142\ttotal: 1.81s\tremaining: 1.46s\n",
      "553:\tlearn: 0.1070135\ttotal: 1.81s\tremaining: 1.46s\n",
      "554:\tlearn: 0.1068552\ttotal: 1.81s\tremaining: 1.45s\n",
      "555:\tlearn: 0.1066700\ttotal: 1.81s\tremaining: 1.45s\n",
      "556:\tlearn: 0.1064134\ttotal: 1.82s\tremaining: 1.45s\n",
      "557:\tlearn: 0.1063059\ttotal: 1.82s\tremaining: 1.44s\n",
      "558:\tlearn: 0.1059738\ttotal: 1.82s\tremaining: 1.44s\n",
      "559:\tlearn: 0.1057757\ttotal: 1.83s\tremaining: 1.44s\n",
      "560:\tlearn: 0.1054903\ttotal: 1.83s\tremaining: 1.43s\n",
      "561:\tlearn: 0.1053125\ttotal: 1.83s\tremaining: 1.43s\n",
      "562:\tlearn: 0.1050869\ttotal: 1.84s\tremaining: 1.43s\n",
      "563:\tlearn: 0.1048297\ttotal: 1.84s\tremaining: 1.43s\n",
      "564:\tlearn: 0.1045727\ttotal: 1.85s\tremaining: 1.42s\n",
      "565:\tlearn: 0.1042517\ttotal: 1.85s\tremaining: 1.42s\n",
      "566:\tlearn: 0.1041122\ttotal: 1.85s\tremaining: 1.41s\n",
      "567:\tlearn: 0.1038546\ttotal: 1.85s\tremaining: 1.41s\n",
      "568:\tlearn: 0.1038148\ttotal: 1.86s\tremaining: 1.41s\n",
      "569:\tlearn: 0.1035079\ttotal: 1.86s\tremaining: 1.4s\n",
      "570:\tlearn: 0.1032932\ttotal: 1.86s\tremaining: 1.4s\n",
      "571:\tlearn: 0.1030410\ttotal: 1.86s\tremaining: 1.4s\n",
      "572:\tlearn: 0.1028459\ttotal: 1.87s\tremaining: 1.39s\n",
      "573:\tlearn: 0.1026439\ttotal: 1.87s\tremaining: 1.39s\n",
      "574:\tlearn: 0.1025460\ttotal: 1.87s\tremaining: 1.38s\n",
      "575:\tlearn: 0.1023846\ttotal: 1.88s\tremaining: 1.38s\n",
      "576:\tlearn: 0.1023634\ttotal: 1.88s\tremaining: 1.38s\n",
      "577:\tlearn: 0.1021618\ttotal: 1.88s\tremaining: 1.38s\n",
      "578:\tlearn: 0.1019333\ttotal: 1.89s\tremaining: 1.37s\n",
      "579:\tlearn: 0.1017803\ttotal: 1.89s\tremaining: 1.37s\n",
      "580:\tlearn: 0.1015505\ttotal: 1.89s\tremaining: 1.36s\n",
      "581:\tlearn: 0.1013484\ttotal: 1.89s\tremaining: 1.36s\n",
      "582:\tlearn: 0.1011480\ttotal: 1.9s\tremaining: 1.36s\n",
      "583:\tlearn: 0.1009410\ttotal: 1.9s\tremaining: 1.35s\n",
      "584:\tlearn: 0.1007682\ttotal: 1.9s\tremaining: 1.35s\n",
      "585:\tlearn: 0.1005202\ttotal: 1.91s\tremaining: 1.35s\n",
      "586:\tlearn: 0.1003657\ttotal: 1.91s\tremaining: 1.34s\n",
      "587:\tlearn: 0.1001442\ttotal: 1.91s\tremaining: 1.34s\n",
      "588:\tlearn: 0.0999305\ttotal: 1.91s\tremaining: 1.33s\n",
      "589:\tlearn: 0.0998073\ttotal: 1.92s\tremaining: 1.33s\n"
     ]
    },
    {
     "name": "stdout",
     "output_type": "stream",
     "text": [
      "590:\tlearn: 0.0996699\ttotal: 1.93s\tremaining: 1.33s\n",
      "591:\tlearn: 0.0994623\ttotal: 1.93s\tremaining: 1.33s\n",
      "592:\tlearn: 0.0993167\ttotal: 1.93s\tremaining: 1.32s\n",
      "593:\tlearn: 0.0991689\ttotal: 1.93s\tremaining: 1.32s\n",
      "594:\tlearn: 0.0989831\ttotal: 1.94s\tremaining: 1.32s\n",
      "595:\tlearn: 0.0987282\ttotal: 1.94s\tremaining: 1.31s\n",
      "596:\tlearn: 0.0985344\ttotal: 1.94s\tremaining: 1.31s\n",
      "597:\tlearn: 0.0983878\ttotal: 1.95s\tremaining: 1.31s\n",
      "598:\tlearn: 0.0981074\ttotal: 1.95s\tremaining: 1.3s\n"
     ]
    },
    {
     "name": "stdout",
     "output_type": "stream",
     "text": [
      "599:\tlearn: 0.0978535\ttotal: 1.96s\tremaining: 1.31s\n",
      "600:\tlearn: 0.0976694\ttotal: 1.98s\tremaining: 1.31s\n",
      "601:\tlearn: 0.0975358\ttotal: 1.98s\tremaining: 1.31s\n",
      "602:\tlearn: 0.0972545\ttotal: 1.99s\tremaining: 1.31s\n",
      "603:\tlearn: 0.0969518\ttotal: 1.99s\tremaining: 1.3s\n",
      "604:\tlearn: 0.0967149\ttotal: 1.99s\tremaining: 1.3s\n",
      "605:\tlearn: 0.0965604\ttotal: 1.99s\tremaining: 1.29s\n",
      "606:\tlearn: 0.0965267\ttotal: 2s\tremaining: 1.3s\n",
      "607:\tlearn: 0.0962103\ttotal: 2s\tremaining: 1.29s\n",
      "608:\tlearn: 0.0961175\ttotal: 2.01s\tremaining: 1.29s\n",
      "609:\tlearn: 0.0958961\ttotal: 2.01s\tremaining: 1.28s\n",
      "610:\tlearn: 0.0957464\ttotal: 2.01s\tremaining: 1.28s\n",
      "611:\tlearn: 0.0955965\ttotal: 2.02s\tremaining: 1.28s\n",
      "612:\tlearn: 0.0955850\ttotal: 2.02s\tremaining: 1.27s\n",
      "613:\tlearn: 0.0954243\ttotal: 2.02s\tremaining: 1.27s\n",
      "614:\tlearn: 0.0952304\ttotal: 2.02s\tremaining: 1.27s\n",
      "615:\tlearn: 0.0950020\ttotal: 2.03s\tremaining: 1.26s\n",
      "616:\tlearn: 0.0949574\ttotal: 2.03s\tremaining: 1.26s\n",
      "617:\tlearn: 0.0948559\ttotal: 2.03s\tremaining: 1.25s\n",
      "618:\tlearn: 0.0946643\ttotal: 2.03s\tremaining: 1.25s\n",
      "619:\tlearn: 0.0944555\ttotal: 2.04s\tremaining: 1.25s\n",
      "620:\tlearn: 0.0943809\ttotal: 2.04s\tremaining: 1.24s\n",
      "621:\tlearn: 0.0940870\ttotal: 2.04s\tremaining: 1.24s\n",
      "622:\tlearn: 0.0940561\ttotal: 2.04s\tremaining: 1.24s\n",
      "623:\tlearn: 0.0938963\ttotal: 2.04s\tremaining: 1.23s\n",
      "624:\tlearn: 0.0937498\ttotal: 2.05s\tremaining: 1.23s\n",
      "625:\tlearn: 0.0935285\ttotal: 2.05s\tremaining: 1.23s\n",
      "626:\tlearn: 0.0933795\ttotal: 2.05s\tremaining: 1.22s\n",
      "627:\tlearn: 0.0932132\ttotal: 2.06s\tremaining: 1.22s\n",
      "628:\tlearn: 0.0930367\ttotal: 2.06s\tremaining: 1.21s\n",
      "629:\tlearn: 0.0928259\ttotal: 2.06s\tremaining: 1.21s\n",
      "630:\tlearn: 0.0926829\ttotal: 2.06s\tremaining: 1.21s\n",
      "631:\tlearn: 0.0924815\ttotal: 2.07s\tremaining: 1.2s\n",
      "632:\tlearn: 0.0923324\ttotal: 2.07s\tremaining: 1.2s\n",
      "633:\tlearn: 0.0922421\ttotal: 2.07s\tremaining: 1.2s\n",
      "634:\tlearn: 0.0921255\ttotal: 2.08s\tremaining: 1.19s\n"
     ]
    },
    {
     "name": "stdout",
     "output_type": "stream",
     "text": [
      "635:\tlearn: 0.0919188\ttotal: 2.09s\tremaining: 1.2s\n",
      "636:\tlearn: 0.0917441\ttotal: 2.09s\tremaining: 1.19s\n",
      "637:\tlearn: 0.0916008\ttotal: 2.1s\tremaining: 1.19s\n",
      "638:\tlearn: 0.0915088\ttotal: 2.1s\tremaining: 1.19s\n",
      "639:\tlearn: 0.0913568\ttotal: 2.1s\tremaining: 1.18s\n",
      "640:\tlearn: 0.0911528\ttotal: 2.1s\tremaining: 1.18s\n",
      "641:\tlearn: 0.0910101\ttotal: 2.1s\tremaining: 1.17s\n",
      "642:\tlearn: 0.0909263\ttotal: 2.11s\tremaining: 1.17s\n",
      "643:\tlearn: 0.0908052\ttotal: 2.11s\tremaining: 1.17s\n",
      "644:\tlearn: 0.0906135\ttotal: 2.11s\tremaining: 1.16s\n",
      "645:\tlearn: 0.0903240\ttotal: 2.11s\tremaining: 1.16s\n"
     ]
    },
    {
     "name": "stdout",
     "output_type": "stream",
     "text": [
      "646:\tlearn: 0.0902940\ttotal: 2.12s\tremaining: 1.16s\n",
      "647:\tlearn: 0.0901850\ttotal: 2.12s\tremaining: 1.15s\n",
      "648:\tlearn: 0.0901464\ttotal: 2.12s\tremaining: 1.15s\n",
      "649:\tlearn: 0.0899496\ttotal: 2.13s\tremaining: 1.15s\n",
      "650:\tlearn: 0.0897614\ttotal: 2.13s\tremaining: 1.14s\n",
      "651:\tlearn: 0.0894845\ttotal: 2.13s\tremaining: 1.14s\n",
      "652:\tlearn: 0.0892640\ttotal: 2.13s\tremaining: 1.13s\n",
      "653:\tlearn: 0.0892188\ttotal: 2.14s\tremaining: 1.13s\n",
      "654:\tlearn: 0.0890119\ttotal: 2.14s\tremaining: 1.13s\n",
      "655:\tlearn: 0.0888599\ttotal: 2.14s\tremaining: 1.12s\n",
      "656:\tlearn: 0.0887483\ttotal: 2.15s\tremaining: 1.12s\n",
      "657:\tlearn: 0.0886288\ttotal: 2.15s\tremaining: 1.12s\n",
      "658:\tlearn: 0.0883991\ttotal: 2.15s\tremaining: 1.11s\n",
      "659:\tlearn: 0.0881628\ttotal: 2.16s\tremaining: 1.11s\n",
      "660:\tlearn: 0.0880030\ttotal: 2.16s\tremaining: 1.11s\n",
      "661:\tlearn: 0.0878581\ttotal: 2.16s\tremaining: 1.1s\n",
      "662:\tlearn: 0.0876872\ttotal: 2.16s\tremaining: 1.1s\n",
      "663:\tlearn: 0.0874186\ttotal: 2.17s\tremaining: 1.1s\n",
      "664:\tlearn: 0.0872576\ttotal: 2.17s\tremaining: 1.09s\n",
      "665:\tlearn: 0.0871818\ttotal: 2.17s\tremaining: 1.09s\n",
      "666:\tlearn: 0.0870163\ttotal: 2.17s\tremaining: 1.08s\n",
      "667:\tlearn: 0.0868824\ttotal: 2.18s\tremaining: 1.08s\n",
      "668:\tlearn: 0.0866796\ttotal: 2.18s\tremaining: 1.08s\n",
      "669:\tlearn: 0.0864512\ttotal: 2.18s\tremaining: 1.07s\n",
      "670:\tlearn: 0.0863256\ttotal: 2.19s\tremaining: 1.07s\n",
      "671:\tlearn: 0.0861256\ttotal: 2.19s\tremaining: 1.07s\n",
      "672:\tlearn: 0.0859450\ttotal: 2.19s\tremaining: 1.06s\n",
      "673:\tlearn: 0.0858026\ttotal: 2.19s\tremaining: 1.06s\n",
      "674:\tlearn: 0.0856648\ttotal: 2.2s\tremaining: 1.06s\n",
      "675:\tlearn: 0.0854741\ttotal: 2.2s\tremaining: 1.05s\n",
      "676:\tlearn: 0.0852363\ttotal: 2.2s\tremaining: 1.05s\n",
      "677:\tlearn: 0.0850015\ttotal: 2.21s\tremaining: 1.05s\n",
      "678:\tlearn: 0.0849844\ttotal: 2.21s\tremaining: 1.04s\n",
      "679:\tlearn: 0.0848571\ttotal: 2.21s\tremaining: 1.04s\n",
      "680:\tlearn: 0.0846666\ttotal: 2.21s\tremaining: 1.04s\n",
      "681:\tlearn: 0.0845830\ttotal: 2.22s\tremaining: 1.03s\n",
      "682:\tlearn: 0.0843908\ttotal: 2.22s\tremaining: 1.03s\n",
      "683:\tlearn: 0.0841963\ttotal: 2.22s\tremaining: 1.03s\n",
      "684:\tlearn: 0.0839840\ttotal: 2.22s\tremaining: 1.02s\n",
      "685:\tlearn: 0.0838550\ttotal: 2.23s\tremaining: 1.02s\n",
      "686:\tlearn: 0.0837546\ttotal: 2.23s\tremaining: 1.02s\n",
      "687:\tlearn: 0.0836052\ttotal: 2.24s\tremaining: 1.01s\n"
     ]
    },
    {
     "name": "stdout",
     "output_type": "stream",
     "text": [
      "688:\tlearn: 0.0835029\ttotal: 2.24s\tremaining: 1.01s\n",
      "689:\tlearn: 0.0832724\ttotal: 2.25s\tremaining: 1.01s\n",
      "690:\tlearn: 0.0831862\ttotal: 2.25s\tremaining: 1.01s\n"
     ]
    },
    {
     "name": "stdout",
     "output_type": "stream",
     "text": [
      "691:\tlearn: 0.0830198\ttotal: 2.28s\tremaining: 1.01s\n",
      "692:\tlearn: 0.0829350\ttotal: 2.28s\tremaining: 1.01s\n",
      "693:\tlearn: 0.0827762\ttotal: 2.29s\tremaining: 1.01s\n",
      "694:\tlearn: 0.0826352\ttotal: 2.3s\tremaining: 1.01s\n",
      "695:\tlearn: 0.0824241\ttotal: 2.3s\tremaining: 1.01s\n",
      "696:\tlearn: 0.0822313\ttotal: 2.31s\tremaining: 1s\n",
      "697:\tlearn: 0.0821211\ttotal: 2.31s\tremaining: 999ms\n",
      "698:\tlearn: 0.0820436\ttotal: 2.31s\tremaining: 996ms\n",
      "699:\tlearn: 0.0819984\ttotal: 2.31s\tremaining: 992ms\n",
      "700:\tlearn: 0.0817858\ttotal: 2.32s\tremaining: 989ms\n",
      "701:\tlearn: 0.0816998\ttotal: 2.32s\tremaining: 985ms\n",
      "702:\tlearn: 0.0815391\ttotal: 2.32s\tremaining: 982ms\n",
      "703:\tlearn: 0.0814255\ttotal: 2.33s\tremaining: 979ms\n",
      "704:\tlearn: 0.0813473\ttotal: 2.33s\tremaining: 976ms\n",
      "705:\tlearn: 0.0811979\ttotal: 2.34s\tremaining: 973ms\n",
      "706:\tlearn: 0.0811248\ttotal: 2.34s\tremaining: 970ms\n",
      "707:\tlearn: 0.0810288\ttotal: 2.34s\tremaining: 966ms\n",
      "708:\tlearn: 0.0809160\ttotal: 2.34s\tremaining: 962ms\n",
      "709:\tlearn: 0.0807898\ttotal: 2.35s\tremaining: 959ms\n",
      "710:\tlearn: 0.0805965\ttotal: 2.35s\tremaining: 955ms\n",
      "711:\tlearn: 0.0804538\ttotal: 2.35s\tremaining: 952ms\n",
      "712:\tlearn: 0.0802831\ttotal: 2.35s\tremaining: 948ms\n",
      "713:\tlearn: 0.0801856\ttotal: 2.36s\tremaining: 944ms\n",
      "714:\tlearn: 0.0800884\ttotal: 2.36s\tremaining: 941ms\n",
      "715:\tlearn: 0.0799922\ttotal: 2.36s\tremaining: 937ms\n",
      "716:\tlearn: 0.0798152\ttotal: 2.37s\tremaining: 933ms\n",
      "717:\tlearn: 0.0797177\ttotal: 2.37s\tremaining: 930ms\n",
      "718:\tlearn: 0.0795693\ttotal: 2.37s\tremaining: 926ms\n",
      "719:\tlearn: 0.0794388\ttotal: 2.37s\tremaining: 923ms\n",
      "720:\tlearn: 0.0793014\ttotal: 2.38s\tremaining: 919ms\n",
      "721:\tlearn: 0.0791129\ttotal: 2.38s\tremaining: 916ms\n",
      "722:\tlearn: 0.0789627\ttotal: 2.38s\tremaining: 912ms\n",
      "723:\tlearn: 0.0788996\ttotal: 2.38s\tremaining: 909ms\n",
      "724:\tlearn: 0.0788258\ttotal: 2.39s\tremaining: 905ms\n",
      "725:\tlearn: 0.0787667\ttotal: 2.39s\tremaining: 903ms\n",
      "726:\tlearn: 0.0786313\ttotal: 2.4s\tremaining: 900ms\n",
      "727:\tlearn: 0.0785442\ttotal: 2.4s\tremaining: 896ms\n",
      "728:\tlearn: 0.0784780\ttotal: 2.4s\tremaining: 893ms\n",
      "729:\tlearn: 0.0783871\ttotal: 2.4s\tremaining: 889ms\n"
     ]
    },
    {
     "name": "stdout",
     "output_type": "stream",
     "text": [
      "730:\tlearn: 0.0782840\ttotal: 2.41s\tremaining: 885ms\n",
      "731:\tlearn: 0.0781583\ttotal: 2.41s\tremaining: 882ms\n",
      "732:\tlearn: 0.0780383\ttotal: 2.41s\tremaining: 878ms\n",
      "733:\tlearn: 0.0778901\ttotal: 2.41s\tremaining: 875ms\n",
      "734:\tlearn: 0.0777641\ttotal: 2.42s\tremaining: 872ms\n",
      "735:\tlearn: 0.0776755\ttotal: 2.42s\tremaining: 869ms\n",
      "736:\tlearn: 0.0775902\ttotal: 2.43s\tremaining: 866ms\n",
      "737:\tlearn: 0.0774443\ttotal: 2.43s\tremaining: 863ms\n",
      "738:\tlearn: 0.0773055\ttotal: 2.43s\tremaining: 859ms\n",
      "739:\tlearn: 0.0771240\ttotal: 2.44s\tremaining: 856ms\n",
      "740:\tlearn: 0.0770383\ttotal: 2.44s\tremaining: 852ms\n"
     ]
    },
    {
     "name": "stdout",
     "output_type": "stream",
     "text": [
      "741:\tlearn: 0.0768811\ttotal: 2.44s\tremaining: 849ms\n",
      "742:\tlearn: 0.0766822\ttotal: 2.44s\tremaining: 846ms\n",
      "743:\tlearn: 0.0765670\ttotal: 2.45s\tremaining: 842ms\n",
      "744:\tlearn: 0.0764107\ttotal: 2.45s\tremaining: 839ms\n",
      "745:\tlearn: 0.0763114\ttotal: 2.46s\tremaining: 839ms\n",
      "746:\tlearn: 0.0761003\ttotal: 2.47s\tremaining: 835ms\n",
      "747:\tlearn: 0.0759622\ttotal: 2.47s\tremaining: 832ms\n",
      "748:\tlearn: 0.0758844\ttotal: 2.47s\tremaining: 828ms\n",
      "749:\tlearn: 0.0758065\ttotal: 2.47s\tremaining: 824ms\n",
      "750:\tlearn: 0.0756707\ttotal: 2.48s\tremaining: 821ms\n",
      "751:\tlearn: 0.0755903\ttotal: 2.48s\tremaining: 817ms\n",
      "752:\tlearn: 0.0755293\ttotal: 2.48s\tremaining: 814ms\n",
      "753:\tlearn: 0.0753510\ttotal: 2.48s\tremaining: 810ms\n",
      "754:\tlearn: 0.0752300\ttotal: 2.49s\tremaining: 807ms\n",
      "755:\tlearn: 0.0750769\ttotal: 2.49s\tremaining: 804ms\n",
      "756:\tlearn: 0.0749444\ttotal: 2.49s\tremaining: 800ms\n",
      "757:\tlearn: 0.0747998\ttotal: 2.49s\tremaining: 796ms\n",
      "758:\tlearn: 0.0746659\ttotal: 2.5s\tremaining: 793ms\n",
      "759:\tlearn: 0.0745999\ttotal: 2.5s\tremaining: 789ms\n",
      "760:\tlearn: 0.0745148\ttotal: 2.5s\tremaining: 786ms\n",
      "761:\tlearn: 0.0743689\ttotal: 2.5s\tremaining: 782ms\n",
      "762:\tlearn: 0.0743560\ttotal: 2.51s\tremaining: 779ms\n",
      "763:\tlearn: 0.0742528\ttotal: 2.51s\tremaining: 776ms\n",
      "764:\tlearn: 0.0742348\ttotal: 2.52s\tremaining: 774ms\n",
      "765:\tlearn: 0.0741485\ttotal: 2.52s\tremaining: 771ms\n",
      "766:\tlearn: 0.0740526\ttotal: 2.54s\tremaining: 771ms\n",
      "767:\tlearn: 0.0738352\ttotal: 2.54s\tremaining: 767ms\n",
      "768:\tlearn: 0.0736713\ttotal: 2.54s\tremaining: 764ms\n",
      "769:\tlearn: 0.0735623\ttotal: 2.54s\tremaining: 760ms\n",
      "770:\tlearn: 0.0734306\ttotal: 2.55s\tremaining: 757ms\n",
      "771:\tlearn: 0.0733185\ttotal: 2.55s\tremaining: 753ms\n",
      "772:\tlearn: 0.0732098\ttotal: 2.55s\tremaining: 750ms\n",
      "773:\tlearn: 0.0730385\ttotal: 2.55s\tremaining: 746ms\n",
      "774:\tlearn: 0.0729234\ttotal: 2.56s\tremaining: 742ms\n",
      "775:\tlearn: 0.0728644\ttotal: 2.56s\tremaining: 739ms\n",
      "776:\tlearn: 0.0727641\ttotal: 2.56s\tremaining: 735ms\n",
      "777:\tlearn: 0.0726012\ttotal: 2.56s\tremaining: 732ms\n"
     ]
    },
    {
     "name": "stdout",
     "output_type": "stream",
     "text": [
      "778:\tlearn: 0.0724287\ttotal: 2.57s\tremaining: 728ms\n",
      "779:\tlearn: 0.0722705\ttotal: 2.57s\tremaining: 725ms\n",
      "780:\tlearn: 0.0721949\ttotal: 2.57s\tremaining: 721ms\n",
      "781:\tlearn: 0.0721289\ttotal: 2.58s\tremaining: 718ms\n",
      "782:\tlearn: 0.0721154\ttotal: 2.58s\tremaining: 715ms\n",
      "783:\tlearn: 0.0721028\ttotal: 2.58s\tremaining: 711ms\n",
      "784:\tlearn: 0.0719596\ttotal: 2.58s\tremaining: 708ms\n",
      "785:\tlearn: 0.0718250\ttotal: 2.59s\tremaining: 705ms\n",
      "786:\tlearn: 0.0716709\ttotal: 2.59s\tremaining: 701ms\n",
      "787:\tlearn: 0.0715471\ttotal: 2.59s\tremaining: 698ms\n"
     ]
    },
    {
     "name": "stdout",
     "output_type": "stream",
     "text": [
      "788:\tlearn: 0.0713906\ttotal: 2.6s\tremaining: 694ms\n",
      "789:\tlearn: 0.0713248\ttotal: 2.6s\tremaining: 691ms\n",
      "790:\tlearn: 0.0712124\ttotal: 2.6s\tremaining: 687ms\n",
      "791:\tlearn: 0.0710885\ttotal: 2.6s\tremaining: 684ms\n",
      "792:\tlearn: 0.0709663\ttotal: 2.61s\tremaining: 681ms\n",
      "793:\tlearn: 0.0708661\ttotal: 2.61s\tremaining: 677ms\n",
      "794:\tlearn: 0.0707789\ttotal: 2.63s\tremaining: 678ms\n",
      "795:\tlearn: 0.0705571\ttotal: 2.63s\tremaining: 675ms\n",
      "796:\tlearn: 0.0704703\ttotal: 2.63s\tremaining: 671ms\n",
      "797:\tlearn: 0.0703809\ttotal: 2.64s\tremaining: 668ms\n",
      "798:\tlearn: 0.0703151\ttotal: 2.64s\tremaining: 664ms\n",
      "799:\tlearn: 0.0701836\ttotal: 2.64s\tremaining: 660ms\n",
      "800:\tlearn: 0.0700030\ttotal: 2.65s\tremaining: 657ms\n",
      "801:\tlearn: 0.0698564\ttotal: 2.65s\tremaining: 654ms\n",
      "802:\tlearn: 0.0697366\ttotal: 2.65s\tremaining: 650ms\n",
      "803:\tlearn: 0.0696126\ttotal: 2.65s\tremaining: 647ms\n",
      "804:\tlearn: 0.0694344\ttotal: 2.66s\tremaining: 644ms\n",
      "805:\tlearn: 0.0693810\ttotal: 2.66s\tremaining: 641ms\n",
      "806:\tlearn: 0.0692543\ttotal: 2.66s\tremaining: 637ms\n",
      "807:\tlearn: 0.0692066\ttotal: 2.67s\tremaining: 634ms\n",
      "808:\tlearn: 0.0691006\ttotal: 2.67s\tremaining: 631ms\n",
      "809:\tlearn: 0.0690563\ttotal: 2.67s\tremaining: 627ms\n",
      "810:\tlearn: 0.0688738\ttotal: 2.68s\tremaining: 624ms\n",
      "811:\tlearn: 0.0686745\ttotal: 2.68s\tremaining: 620ms\n",
      "812:\tlearn: 0.0685585\ttotal: 2.68s\tremaining: 617ms\n",
      "813:\tlearn: 0.0684592\ttotal: 2.68s\tremaining: 613ms\n",
      "814:\tlearn: 0.0683119\ttotal: 2.69s\tremaining: 610ms\n",
      "815:\tlearn: 0.0682788\ttotal: 2.69s\tremaining: 606ms\n",
      "816:\tlearn: 0.0681539\ttotal: 2.69s\tremaining: 603ms\n",
      "817:\tlearn: 0.0680699\ttotal: 2.69s\tremaining: 599ms\n",
      "818:\tlearn: 0.0679362\ttotal: 2.7s\tremaining: 596ms\n",
      "819:\tlearn: 0.0678173\ttotal: 2.7s\tremaining: 593ms\n",
      "820:\tlearn: 0.0677028\ttotal: 2.72s\tremaining: 593ms\n",
      "821:\tlearn: 0.0676283\ttotal: 2.72s\tremaining: 590ms\n",
      "822:\tlearn: 0.0675399\ttotal: 2.72s\tremaining: 586ms\n",
      "823:\tlearn: 0.0674196\ttotal: 2.73s\tremaining: 583ms\n",
      "824:\tlearn: 0.0673435\ttotal: 2.73s\tremaining: 579ms\n",
      "825:\tlearn: 0.0672534\ttotal: 2.73s\tremaining: 576ms\n",
      "826:\tlearn: 0.0672345\ttotal: 2.73s\tremaining: 572ms\n",
      "827:\tlearn: 0.0670696\ttotal: 2.74s\tremaining: 569ms\n",
      "828:\tlearn: 0.0669323\ttotal: 2.74s\tremaining: 565ms\n",
      "829:\tlearn: 0.0667533\ttotal: 2.74s\tremaining: 562ms\n"
     ]
    },
    {
     "name": "stdout",
     "output_type": "stream",
     "text": [
      "830:\tlearn: 0.0666167\ttotal: 2.75s\tremaining: 559ms\n",
      "831:\tlearn: 0.0666066\ttotal: 2.75s\tremaining: 556ms\n",
      "832:\tlearn: 0.0664773\ttotal: 2.76s\tremaining: 553ms\n",
      "833:\tlearn: 0.0663861\ttotal: 2.76s\tremaining: 550ms\n",
      "834:\tlearn: 0.0662868\ttotal: 2.76s\tremaining: 546ms\n",
      "835:\tlearn: 0.0661618\ttotal: 2.77s\tremaining: 543ms\n",
      "836:\tlearn: 0.0659960\ttotal: 2.77s\tremaining: 539ms\n"
     ]
    },
    {
     "name": "stdout",
     "output_type": "stream",
     "text": [
      "837:\tlearn: 0.0659418\ttotal: 2.77s\tremaining: 536ms\n",
      "838:\tlearn: 0.0658165\ttotal: 2.77s\tremaining: 533ms\n",
      "839:\tlearn: 0.0657130\ttotal: 2.78s\tremaining: 529ms\n",
      "840:\tlearn: 0.0655719\ttotal: 2.78s\tremaining: 526ms\n",
      "841:\tlearn: 0.0655347\ttotal: 2.8s\tremaining: 525ms\n",
      "842:\tlearn: 0.0654236\ttotal: 2.8s\tremaining: 522ms\n",
      "843:\tlearn: 0.0653321\ttotal: 2.81s\tremaining: 519ms\n",
      "844:\tlearn: 0.0652627\ttotal: 2.81s\tremaining: 515ms\n",
      "845:\tlearn: 0.0651516\ttotal: 2.81s\tremaining: 512ms\n",
      "846:\tlearn: 0.0651454\ttotal: 2.81s\tremaining: 509ms\n",
      "847:\tlearn: 0.0650024\ttotal: 2.82s\tremaining: 505ms\n",
      "848:\tlearn: 0.0649180\ttotal: 2.82s\tremaining: 502ms\n",
      "849:\tlearn: 0.0648350\ttotal: 2.82s\tremaining: 498ms\n",
      "850:\tlearn: 0.0647407\ttotal: 2.83s\tremaining: 495ms\n",
      "851:\tlearn: 0.0646246\ttotal: 2.83s\tremaining: 491ms\n",
      "852:\tlearn: 0.0645322\ttotal: 2.83s\tremaining: 488ms\n",
      "853:\tlearn: 0.0644595\ttotal: 2.84s\tremaining: 485ms\n",
      "854:\tlearn: 0.0643698\ttotal: 2.84s\tremaining: 481ms\n",
      "855:\tlearn: 0.0643151\ttotal: 2.84s\tremaining: 478ms\n",
      "856:\tlearn: 0.0641557\ttotal: 2.84s\tremaining: 475ms\n",
      "857:\tlearn: 0.0640549\ttotal: 2.85s\tremaining: 471ms\n",
      "858:\tlearn: 0.0639279\ttotal: 2.85s\tremaining: 468ms\n",
      "859:\tlearn: 0.0638233\ttotal: 2.85s\tremaining: 464ms\n",
      "860:\tlearn: 0.0637284\ttotal: 2.85s\tremaining: 461ms\n",
      "861:\tlearn: 0.0636307\ttotal: 2.86s\tremaining: 457ms\n",
      "862:\tlearn: 0.0635285\ttotal: 2.86s\tremaining: 454ms\n",
      "863:\tlearn: 0.0634330\ttotal: 2.86s\tremaining: 450ms\n",
      "864:\tlearn: 0.0634227\ttotal: 2.86s\tremaining: 447ms\n",
      "865:\tlearn: 0.0632741\ttotal: 2.87s\tremaining: 444ms\n",
      "866:\tlearn: 0.0632606\ttotal: 2.87s\tremaining: 440ms\n",
      "867:\tlearn: 0.0632026\ttotal: 2.87s\tremaining: 437ms\n",
      "868:\tlearn: 0.0631306\ttotal: 2.87s\tremaining: 433ms\n",
      "869:\tlearn: 0.0631248\ttotal: 2.88s\tremaining: 430ms\n",
      "870:\tlearn: 0.0630367\ttotal: 2.88s\tremaining: 427ms\n",
      "871:\tlearn: 0.0629488\ttotal: 2.88s\tremaining: 423ms\n",
      "872:\tlearn: 0.0628602\ttotal: 2.88s\tremaining: 420ms\n",
      "873:\tlearn: 0.0627835\ttotal: 2.89s\tremaining: 416ms\n",
      "874:\tlearn: 0.0627191\ttotal: 2.89s\tremaining: 413ms\n",
      "875:\tlearn: 0.0625677\ttotal: 2.89s\tremaining: 410ms\n",
      "876:\tlearn: 0.0625560\ttotal: 2.9s\tremaining: 406ms\n",
      "877:\tlearn: 0.0624223\ttotal: 2.9s\tremaining: 403ms\n",
      "878:\tlearn: 0.0623300\ttotal: 2.9s\tremaining: 399ms\n",
      "879:\tlearn: 0.0621664\ttotal: 2.9s\tremaining: 396ms\n",
      "880:\tlearn: 0.0620934\ttotal: 2.9s\tremaining: 393ms\n",
      "881:\tlearn: 0.0619624\ttotal: 2.91s\tremaining: 389ms\n",
      "882:\tlearn: 0.0618716\ttotal: 2.91s\tremaining: 386ms\n",
      "883:\tlearn: 0.0618018\ttotal: 2.91s\tremaining: 382ms\n"
     ]
    },
    {
     "name": "stdout",
     "output_type": "stream",
     "text": [
      "884:\tlearn: 0.0617508\ttotal: 2.94s\tremaining: 382ms\n",
      "885:\tlearn: 0.0616509\ttotal: 2.94s\tremaining: 379ms\n",
      "886:\tlearn: 0.0615962\ttotal: 2.94s\tremaining: 375ms\n",
      "887:\tlearn: 0.0614351\ttotal: 2.95s\tremaining: 372ms\n",
      "888:\tlearn: 0.0613246\ttotal: 2.95s\tremaining: 368ms\n",
      "889:\tlearn: 0.0612360\ttotal: 2.95s\tremaining: 365ms\n"
     ]
    },
    {
     "name": "stdout",
     "output_type": "stream",
     "text": [
      "890:\tlearn: 0.0611338\ttotal: 2.96s\tremaining: 362ms\n",
      "891:\tlearn: 0.0610633\ttotal: 2.96s\tremaining: 359ms\n",
      "892:\tlearn: 0.0608986\ttotal: 2.96s\tremaining: 355ms\n",
      "893:\tlearn: 0.0608179\ttotal: 2.97s\tremaining: 352ms\n",
      "894:\tlearn: 0.0606681\ttotal: 2.97s\tremaining: 348ms\n",
      "895:\tlearn: 0.0605097\ttotal: 2.97s\tremaining: 345ms\n",
      "896:\tlearn: 0.0604020\ttotal: 2.98s\tremaining: 342ms\n",
      "897:\tlearn: 0.0603349\ttotal: 2.98s\tremaining: 338ms\n",
      "898:\tlearn: 0.0602515\ttotal: 2.98s\tremaining: 335ms\n",
      "899:\tlearn: 0.0601950\ttotal: 2.98s\tremaining: 332ms\n",
      "900:\tlearn: 0.0600972\ttotal: 2.99s\tremaining: 328ms\n",
      "901:\tlearn: 0.0600339\ttotal: 2.99s\tremaining: 325ms\n",
      "902:\tlearn: 0.0598763\ttotal: 2.99s\tremaining: 321ms\n",
      "903:\tlearn: 0.0597295\ttotal: 3s\tremaining: 318ms\n",
      "904:\tlearn: 0.0595876\ttotal: 3s\tremaining: 315ms\n",
      "905:\tlearn: 0.0594660\ttotal: 3s\tremaining: 311ms\n",
      "906:\tlearn: 0.0593161\ttotal: 3s\tremaining: 308ms\n",
      "907:\tlearn: 0.0592225\ttotal: 3s\tremaining: 305ms\n",
      "908:\tlearn: 0.0591571\ttotal: 3.03s\tremaining: 303ms\n",
      "909:\tlearn: 0.0590923\ttotal: 3.03s\tremaining: 300ms\n",
      "910:\tlearn: 0.0590122\ttotal: 3.03s\tremaining: 296ms\n",
      "911:\tlearn: 0.0589680\ttotal: 3.04s\tremaining: 293ms\n",
      "912:\tlearn: 0.0588796\ttotal: 3.04s\tremaining: 290ms\n",
      "913:\tlearn: 0.0587502\ttotal: 3.04s\tremaining: 286ms\n",
      "914:\tlearn: 0.0585889\ttotal: 3.04s\tremaining: 283ms\n",
      "915:\tlearn: 0.0584958\ttotal: 3.05s\tremaining: 279ms\n",
      "916:\tlearn: 0.0583990\ttotal: 3.05s\tremaining: 276ms\n",
      "917:\tlearn: 0.0583006\ttotal: 3.05s\tremaining: 273ms\n",
      "918:\tlearn: 0.0582135\ttotal: 3.06s\tremaining: 269ms\n",
      "919:\tlearn: 0.0581305\ttotal: 3.06s\tremaining: 266ms\n",
      "920:\tlearn: 0.0580488\ttotal: 3.06s\tremaining: 263ms\n",
      "921:\tlearn: 0.0579480\ttotal: 3.06s\tremaining: 259ms\n",
      "922:\tlearn: 0.0579418\ttotal: 3.07s\tremaining: 256ms\n",
      "923:\tlearn: 0.0578490\ttotal: 3.07s\tremaining: 252ms\n",
      "924:\tlearn: 0.0577332\ttotal: 3.07s\tremaining: 249ms\n",
      "925:\tlearn: 0.0576463\ttotal: 3.07s\tremaining: 246ms\n",
      "926:\tlearn: 0.0575272\ttotal: 3.08s\tremaining: 242ms\n",
      "927:\tlearn: 0.0574647\ttotal: 3.08s\tremaining: 239ms\n",
      "928:\tlearn: 0.0573995\ttotal: 3.09s\tremaining: 236ms\n",
      "929:\tlearn: 0.0573097\ttotal: 3.09s\tremaining: 233ms\n",
      "930:\tlearn: 0.0572385\ttotal: 3.09s\tremaining: 229ms\n"
     ]
    },
    {
     "name": "stdout",
     "output_type": "stream",
     "text": [
      "931:\tlearn: 0.0571126\ttotal: 3.1s\tremaining: 226ms\n",
      "932:\tlearn: 0.0569851\ttotal: 3.1s\tremaining: 223ms\n"
     ]
    },
    {
     "name": "stdout",
     "output_type": "stream",
     "text": [
      "933:\tlearn: 0.0569536\ttotal: 3.1s\tremaining: 219ms\n",
      "934:\tlearn: 0.0568775\ttotal: 3.11s\tremaining: 216ms\n",
      "935:\tlearn: 0.0568716\ttotal: 3.11s\tremaining: 213ms\n",
      "936:\tlearn: 0.0568588\ttotal: 3.11s\tremaining: 209ms\n",
      "937:\tlearn: 0.0567904\ttotal: 3.12s\tremaining: 206ms\n",
      "938:\tlearn: 0.0567089\ttotal: 3.12s\tremaining: 203ms\n",
      "939:\tlearn: 0.0566353\ttotal: 3.12s\tremaining: 199ms\n",
      "940:\tlearn: 0.0565596\ttotal: 3.12s\tremaining: 196ms\n",
      "941:\tlearn: 0.0564559\ttotal: 3.13s\tremaining: 193ms\n",
      "942:\tlearn: 0.0563464\ttotal: 3.13s\tremaining: 189ms\n",
      "943:\tlearn: 0.0562550\ttotal: 3.13s\tremaining: 186ms\n",
      "944:\tlearn: 0.0561386\ttotal: 3.13s\tremaining: 182ms\n",
      "945:\tlearn: 0.0560394\ttotal: 3.13s\tremaining: 179ms\n",
      "946:\tlearn: 0.0559673\ttotal: 3.14s\tremaining: 176ms\n",
      "947:\tlearn: 0.0558392\ttotal: 3.14s\tremaining: 172ms\n",
      "948:\tlearn: 0.0557857\ttotal: 3.15s\tremaining: 169ms\n",
      "949:\tlearn: 0.0557275\ttotal: 3.17s\tremaining: 167ms\n",
      "950:\tlearn: 0.0557216\ttotal: 3.18s\tremaining: 164ms\n",
      "951:\tlearn: 0.0556445\ttotal: 3.18s\tremaining: 160ms\n",
      "952:\tlearn: 0.0555367\ttotal: 3.19s\tremaining: 157ms\n",
      "953:\tlearn: 0.0555310\ttotal: 3.19s\tremaining: 154ms\n",
      "954:\tlearn: 0.0554296\ttotal: 3.19s\tremaining: 151ms\n",
      "955:\tlearn: 0.0553662\ttotal: 3.2s\tremaining: 147ms\n",
      "956:\tlearn: 0.0552393\ttotal: 3.2s\tremaining: 144ms\n",
      "957:\tlearn: 0.0551460\ttotal: 3.2s\tremaining: 140ms\n",
      "958:\tlearn: 0.0550149\ttotal: 3.21s\tremaining: 137ms\n",
      "959:\tlearn: 0.0549534\ttotal: 3.21s\tremaining: 134ms\n",
      "960:\tlearn: 0.0548539\ttotal: 3.21s\tremaining: 130ms\n",
      "961:\tlearn: 0.0547742\ttotal: 3.21s\tremaining: 127ms\n",
      "962:\tlearn: 0.0546766\ttotal: 3.22s\tremaining: 124ms\n",
      "963:\tlearn: 0.0545825\ttotal: 3.22s\tremaining: 120ms\n",
      "964:\tlearn: 0.0545049\ttotal: 3.22s\tremaining: 117ms\n",
      "965:\tlearn: 0.0544075\ttotal: 3.24s\tremaining: 114ms\n",
      "966:\tlearn: 0.0543631\ttotal: 3.25s\tremaining: 111ms\n",
      "967:\tlearn: 0.0542359\ttotal: 3.25s\tremaining: 107ms\n",
      "968:\tlearn: 0.0540942\ttotal: 3.25s\tremaining: 104ms\n",
      "969:\tlearn: 0.0540131\ttotal: 3.26s\tremaining: 101ms\n"
     ]
    },
    {
     "name": "stdout",
     "output_type": "stream",
     "text": [
      "970:\tlearn: 0.0538728\ttotal: 3.26s\tremaining: 97.4ms\n",
      "971:\tlearn: 0.0537877\ttotal: 3.26s\tremaining: 94ms\n",
      "972:\tlearn: 0.0536609\ttotal: 3.27s\tremaining: 90.6ms\n",
      "973:\tlearn: 0.0536522\ttotal: 3.27s\tremaining: 87.2ms\n",
      "974:\tlearn: 0.0536465\ttotal: 3.27s\tremaining: 83.8ms\n"
     ]
    },
    {
     "name": "stdout",
     "output_type": "stream",
     "text": [
      "975:\tlearn: 0.0536367\ttotal: 3.27s\tremaining: 80.5ms\n",
      "976:\tlearn: 0.0536282\ttotal: 3.27s\tremaining: 77.1ms\n",
      "977:\tlearn: 0.0534863\ttotal: 3.28s\tremaining: 73.8ms\n",
      "978:\tlearn: 0.0533510\ttotal: 3.28s\tremaining: 70.4ms\n",
      "979:\tlearn: 0.0532180\ttotal: 3.29s\tremaining: 67ms\n",
      "980:\tlearn: 0.0531145\ttotal: 3.29s\tremaining: 63.7ms\n",
      "981:\tlearn: 0.0529823\ttotal: 3.29s\tremaining: 60.3ms\n",
      "982:\tlearn: 0.0529780\ttotal: 3.29s\tremaining: 57ms\n",
      "983:\tlearn: 0.0529000\ttotal: 3.3s\tremaining: 53.6ms\n",
      "984:\tlearn: 0.0528890\ttotal: 3.3s\tremaining: 50.2ms\n",
      "985:\tlearn: 0.0528494\ttotal: 3.3s\tremaining: 46.9ms\n",
      "986:\tlearn: 0.0527730\ttotal: 3.3s\tremaining: 43.5ms\n",
      "987:\tlearn: 0.0526988\ttotal: 3.31s\tremaining: 40.2ms\n",
      "988:\tlearn: 0.0526228\ttotal: 3.31s\tremaining: 36.8ms\n",
      "989:\tlearn: 0.0525592\ttotal: 3.33s\tremaining: 33.6ms\n",
      "990:\tlearn: 0.0524665\ttotal: 3.35s\tremaining: 30.4ms\n",
      "991:\tlearn: 0.0523567\ttotal: 3.35s\tremaining: 27ms\n",
      "992:\tlearn: 0.0522749\ttotal: 3.35s\tremaining: 23.6ms\n",
      "993:\tlearn: 0.0521947\ttotal: 3.36s\tremaining: 20.3ms\n",
      "994:\tlearn: 0.0521053\ttotal: 3.36s\tremaining: 16.9ms\n",
      "995:\tlearn: 0.0520130\ttotal: 3.36s\tremaining: 13.5ms\n",
      "996:\tlearn: 0.0519356\ttotal: 3.37s\tremaining: 10.1ms\n",
      "997:\tlearn: 0.0518615\ttotal: 3.37s\tremaining: 6.75ms\n",
      "998:\tlearn: 0.0517332\ttotal: 3.37s\tremaining: 3.38ms\n",
      "999:\tlearn: 0.0516237\ttotal: 3.37s\tremaining: 0us\n"
     ]
    },
    {
     "data": {
      "text/plain": [
       "<catboost.core.CatBoostRegressor at 0x7f868d82a700>"
      ]
     },
     "execution_count": 9,
     "metadata": {},
     "output_type": "execute_result"
    }
   ],
   "source": [
    "#Train the Model \n",
    "prior_model = ctb.CatBoostRegressor()\n",
    "prior_model.fit(X_train,Y_train)"
   ]
  },
  {
   "cell_type": "code",
   "execution_count": 10,
   "id": "af65dcda",
   "metadata": {
    "execution": {
     "iopub.execute_input": "2022-07-22T21:38:36.813412Z",
     "iopub.status.busy": "2022-07-22T21:38:36.813067Z",
     "iopub.status.idle": "2022-07-22T21:38:36.871810Z",
     "shell.execute_reply": "2022-07-22T21:38:36.869208Z"
    },
    "id": "af65dcda",
    "papermill": {
     "duration": 0.100012,
     "end_time": "2022-07-22T21:38:36.879594",
     "exception": false,
     "start_time": "2022-07-22T21:38:36.779582",
     "status": "completed"
    },
    "tags": []
   },
   "outputs": [
    {
     "data": {
      "application/scrapbook.scrap.json+json": {
       "data": 0.12419436419458023,
       "encoder": "json",
       "name": "Prior Model MSE",
       "version": 1
      }
     },
     "metadata": {
      "scrapbook": {
       "data": true,
       "display": false,
       "name": "Prior Model MSE"
      }
     },
     "output_type": "display_data"
    },
    {
     "data": {
      "application/scrapbook.scrap.json+json": {
       "data": 0.8948562486286317,
       "encoder": "json",
       "name": "ABC Pre-generator MSE",
       "version": 1
      }
     },
     "metadata": {
      "scrapbook": {
       "data": true,
       "display": false,
       "name": "ABC Pre-generator MSE"
      }
     },
     "output_type": "display_data"
    },
    {
     "data": {
      "application/scrapbook.scrap.json+json": {
       "data": 0.2267681978687789,
       "encoder": "json",
       "name": "Prior Model MAE",
       "version": 1
      }
     },
     "metadata": {
      "scrapbook": {
       "data": true,
       "display": false,
       "name": "Prior Model MAE"
      }
     },
     "output_type": "display_data"
    },
    {
     "name": "stdout",
     "output_type": "stream",
     "text": [
      "Prior Model MAE 0.2267681978687789\n",
      "ABC Pre-generator MAE 0.746178916773859\n"
     ]
    }
   ],
   "source": [
    "y_pred = prior_model.predict(X_test)\n",
    "y_abc = y_pred + np.random.normal(0,variance, y_pred.shape) + bias \n",
    "mse = mean_squared_error(y_pred,Y_test)\n",
    "sb.glue(\"Prior Model MSE\",mse)\n",
    "mse = mean_squared_error(y_abc,Y_test)\n",
    "sb.glue(\"ABC Pre-generator MSE\",mse)\n",
    "mae = mean_absolute_error(y_pred,Y_test)\n",
    "sb.glue(\"Prior Model MAE\",mae)\n",
    "print(\"Prior Model MAE\",mae)\n",
    "mae = mean_absolute_error(y_abc,Y_test)\n",
    "print(\"ABC Pre-generator MAE\",mae)"
   ]
  },
  {
   "cell_type": "markdown",
   "id": "25609da2",
   "metadata": {
    "papermill": {
     "duration": 0.015227,
     "end_time": "2022-07-22T21:38:36.910450",
     "exception": false,
     "start_time": "2022-07-22T21:38:36.895223",
     "status": "completed"
    },
    "tags": []
   },
   "source": [
    "# mGAN Model"
   ]
  },
  {
   "cell_type": "code",
   "execution_count": 11,
   "id": "dfc3464d",
   "metadata": {
    "execution": {
     "iopub.execute_input": "2022-07-22T21:38:36.972514Z",
     "iopub.status.busy": "2022-07-22T21:38:36.971778Z",
     "iopub.status.idle": "2022-07-22T21:38:36.981353Z",
     "shell.execute_reply": "2022-07-22T21:38:36.979287Z"
    },
    "papermill": {
     "duration": 0.047073,
     "end_time": "2022-07-22T21:38:36.986831",
     "exception": false,
     "start_time": "2022-07-22T21:38:36.939758",
     "status": "completed"
    },
    "tags": []
   },
   "outputs": [],
   "source": [
    "# gen = network.Generator(n_features+1).to(device)\n",
    "# disc = network.Discriminator(n_features+1).to(device)\n",
    "\n",
    "# criterion = torch.nn.BCELoss()\n",
    "# gen_opt = torch.optim.Adam(gen.parameters(), lr=0.01, betas=(0.5, 0.999))\n",
    "# disc_opt = torch.optim.Adam(disc.parameters(), lr=0.01, betas=(0.5, 0.999))"
   ]
  },
  {
   "cell_type": "code",
   "execution_count": 12,
   "id": "b75fdd85",
   "metadata": {
    "execution": {
     "iopub.execute_input": "2022-07-22T21:38:37.018078Z",
     "iopub.status.busy": "2022-07-22T21:38:37.017366Z",
     "iopub.status.idle": "2022-07-22T21:38:37.022932Z",
     "shell.execute_reply": "2022-07-22T21:38:37.021293Z"
    },
    "papermill": {
     "duration": 0.026348,
     "end_time": "2022-07-22T21:38:37.027073",
     "exception": false,
     "start_time": "2022-07-22T21:38:37.000725",
     "status": "completed"
    },
    "tags": []
   },
   "outputs": [],
   "source": [
    "#Training the ABC_GAN \n",
    "# ABC_train_test2.training_GAN(disc,gen,disc_opt,gen_opt,train_data,batch_size,n_epochs,criterion,prior_model,variance,bias,device)"
   ]
  },
  {
   "cell_type": "code",
   "execution_count": 13,
   "id": "1fa7c368",
   "metadata": {
    "execution": {
     "iopub.execute_input": "2022-07-22T21:38:37.076022Z",
     "iopub.status.busy": "2022-07-22T21:38:37.075608Z",
     "iopub.status.idle": "2022-07-22T21:38:37.080603Z",
     "shell.execute_reply": "2022-07-22T21:38:37.079597Z"
    },
    "papermill": {
     "duration": 0.041859,
     "end_time": "2022-07-22T21:38:37.084294",
     "exception": false,
     "start_time": "2022-07-22T21:38:37.042435",
     "status": "completed"
    },
    "tags": []
   },
   "outputs": [],
   "source": [
    "# ABC_GAN1_metrics=ABC_train_test2.test_generator(gen,test_data,prior_model,variance,bias,\"1\",device)\n",
    "# sb.glue(\"ABC_GAN_1 Metrics\",ABC_GAN1_metrics)\n",
    "\n",
    "# print(\"MAE\")\n",
    "# print(mean(ABC_GAN1_metrics[1]))"
   ]
  },
  {
   "cell_type": "code",
   "execution_count": 14,
   "id": "eb22ce5c",
   "metadata": {
    "execution": {
     "iopub.execute_input": "2022-07-22T21:38:37.115753Z",
     "iopub.status.busy": "2022-07-22T21:38:37.115385Z",
     "iopub.status.idle": "2022-07-22T21:38:37.119792Z",
     "shell.execute_reply": "2022-07-22T21:38:37.118866Z"
    },
    "papermill": {
     "duration": 0.024944,
     "end_time": "2022-07-22T21:38:37.123331",
     "exception": false,
     "start_time": "2022-07-22T21:38:37.098387",
     "status": "completed"
    },
    "tags": []
   },
   "outputs": [],
   "source": [
    "# sanityChecks.discProbVsError(train_data,disc,device)\n",
    "# sanityChecks.discProbVsError(test_data,disc,device)"
   ]
  },
  {
   "cell_type": "markdown",
   "id": "ec95bc55",
   "metadata": {
    "papermill": {
     "duration": 0.021972,
     "end_time": "2022-07-22T21:38:37.159980",
     "exception": false,
     "start_time": "2022-07-22T21:38:37.138008",
     "status": "completed"
    },
    "tags": []
   },
   "source": [
    "# mGAN Model with TabNet Generator"
   ]
  },
  {
   "cell_type": "code",
   "execution_count": 15,
   "id": "1355a34a",
   "metadata": {
    "execution": {
     "iopub.execute_input": "2022-07-22T21:38:37.204468Z",
     "iopub.status.busy": "2022-07-22T21:38:37.204084Z",
     "iopub.status.idle": "2022-07-22T21:38:37.224879Z",
     "shell.execute_reply": "2022-07-22T21:38:37.223646Z"
    },
    "papermill": {
     "duration": 0.05486,
     "end_time": "2022-07-22T21:38:37.228116",
     "exception": false,
     "start_time": "2022-07-22T21:38:37.173256",
     "status": "completed"
    },
    "tags": []
   },
   "outputs": [],
   "source": [
    "gen2 = network.GeneratorTabnet(n_features+1).to(device)\n",
    "disc2 = network.Discriminator(n_features+1).to(device)\n",
    "\n",
    "criterion = torch.nn.BCELoss()\n",
    "gen_opt = torch.optim.Adam(gen2.parameters(), lr=0.01, betas=(0.5, 0.999))\n",
    "disc_opt = torch.optim.Adam(disc2.parameters(), lr=0.01, betas=(0.5, 0.999))"
   ]
  },
  {
   "cell_type": "code",
   "execution_count": 16,
   "id": "103250bc",
   "metadata": {
    "execution": {
     "iopub.execute_input": "2022-07-22T21:38:37.261052Z",
     "iopub.status.busy": "2022-07-22T21:38:37.260250Z",
     "iopub.status.idle": "2022-07-22T21:49:23.987235Z",
     "shell.execute_reply": "2022-07-22T21:49:23.985712Z"
    },
    "papermill": {
     "duration": 646.750277,
     "end_time": "2022-07-22T21:49:23.992930",
     "exception": false,
     "start_time": "2022-07-22T21:38:37.242653",
     "status": "completed"
    },
    "tags": []
   },
   "outputs": [
    {
     "data": {
      "image/png": "[encoded data removed]",
      "text/plain": [
       "<Figure size 432x288 with 1 Axes>"
      ]
     },
     "metadata": {
      "needs_background": "light"
     },
     "output_type": "display_data"
    },
    {
     "data": {
      "image/png": "[encoded data removed]",
      "text/plain": [
       "<Figure size 432x288 with 1 Axes>"
      ]
     },
     "metadata": {
      "needs_background": "light"
     },
     "output_type": "display_data"
    }
   ],
   "source": [
    "#Training the ABC_GAN \n",
    "ABC_train_test2.training_GAN(disc2,gen2,disc_opt,gen_opt,train_data,batch_size,n_epochs,criterion,prior_model,variance,bias,device)"
   ]
  },
  {
   "cell_type": "code",
   "execution_count": 17,
   "id": "316b6029",
   "metadata": {
    "execution": {
     "iopub.execute_input": "2022-07-22T21:49:24.077046Z",
     "iopub.status.busy": "2022-07-22T21:49:24.069131Z",
     "iopub.status.idle": "2022-07-22T21:49:27.441856Z",
     "shell.execute_reply": "2022-07-22T21:49:27.440332Z"
    },
    "papermill": {
     "duration": 3.43611,
     "end_time": "2022-07-22T21:49:27.446538",
     "exception": false,
     "start_time": "2022-07-22T21:49:24.010428",
     "status": "completed"
    },
    "tags": []
   },
   "outputs": [
    {
     "data": {
      "application/scrapbook.scrap.json+json": {
       "data": 0.18827261498443984,
       "encoder": "json",
       "name": "ABC-GAN Model 1 MSE",
       "version": 1
      }
     },
     "metadata": {
      "scrapbook": {
       "data": true,
       "display": false,
       "name": "ABC-GAN Model 1 MSE"
      }
     },
     "output_type": "display_data"
    },
    {
     "data": {
      "application/scrapbook.scrap.json+json": {
       "data": 0.25648319428786637,
       "encoder": "json",
       "name": "ABC-GAN Model 1 MAE",
       "version": 1
      }
     },
     "metadata": {
      "scrapbook": {
       "data": true,
       "display": false,
       "name": "ABC-GAN Model 1 MAE"
      }
     },
     "output_type": "display_data"
    },
    {
     "data": {
      "application/scrapbook.scrap.json+json": {
       "data": 26.16128581736237,
       "encoder": "json",
       "name": "ABC-GAN Model 1 Manhattan Distance",
       "version": 1
      }
     },
     "metadata": {
      "scrapbook": {
       "data": true,
       "display": false,
       "name": "ABC-GAN Model 1 Manhattan Distance"
      }
     },
     "output_type": "display_data"
    },
    {
     "data": {
      "application/scrapbook.scrap.json+json": {
       "data": 4.382147290819054,
       "encoder": "json",
       "name": "ABC-GAN Model 1 Euclidean distance",
       "version": 1
      }
     },
     "metadata": {
      "scrapbook": {
       "data": true,
       "display": false,
       "name": "ABC-GAN Model 1 Euclidean distance"
      }
     },
     "output_type": "display_data"
    },
    {
     "data": {
      "application/scrapbook.scrap.json+json": {
       "data": [
        [
         0.18292852594983083,
         0.18544739328719512,
         0.18570652495814774,
         0.18653636015612238,
         0.19043530000270528,
         0.18491051046820495,
         0.18767624475282912,
         0.18879831922108536,
         0.18686117473615124,
         0.18783431036659068,
         0.18809668419989303,
         0.1861892907647226,
         0.1879977699850769,
         0.1930483392046302,
         0.18792752945998675,
         0.18770632968101253,
         0.19212477998468838,
         0.1896840679538807,
         0.18573094222620096,
         0.18763769947673067,
         0.18644814567486734,
         0.1878883547448623,
         0.18836592495879076,
         0.18517807698398564,
         0.18895360855369409,
         0.18540020633707946,
         0.18700978781717503,
         0.18829913559361444,
         0.1897089896905521,
         0.18983969492908018,
         0.18817581304131398,
         0.1887985589254473,
         0.1865278614097205,
         0.1897477173236936,
         0.18988222030921706,
         0.19143380991466744,
         0.18374384169950303,
         0.18627319898757316,
         0.18996284327213955,
         0.1879476085076405,
         0.18794162503591497,
         0.18718561940924533,
         0.186250654088847,
         0.1878561688584366,
         0.18832334073776424,
         0.18821369733203605,
         0.18926028826260158,
         0.1879152871187472,
         0.1856707341621881,
         0.18702789437353964,
         0.1900229894139855,
         0.18770031961902256,
         0.18802130064122385,
         0.18958098132578596,
         0.1881688619524453,
         0.1889541136736069,
         0.18803685160558037,
         0.19079582457935534,
         0.19166847415168664,
         0.18663836120185548,
         0.18700625569326643,
         0.19137693046732387,
         0.18952911846001202,
         0.19293019999289276,
         0.1903164432253075,
         0.18957832014949333,
         0.18631215575097965,
         0.1891514340034254,
         0.18858305419354415,
         0.19015638057023446,
         0.18469832559296634,
         0.1895106614301637,
         0.1874360411415479,
         0.1877704124369378,
         0.1900228697133162,
         0.1910055437490174,
         0.18445653190898964,
         0.1873655591622349,
         0.18728979317620628,
         0.18708793179857727,
         0.19005311914550288,
         0.18993559360699908,
         0.1868925703339454,
         0.18858719613135425,
         0.18985449212456978,
         0.19412580831622767,
         0.18740806853394038,
         0.18834139222208587,
         0.19175998512411255,
         0.1868140899189497,
         0.1888987801936849,
         0.1882642586292758,
         0.19087698217865695,
         0.19048911822512007,
         0.18519157068154854,
         0.1853531707310675,
         0.18724364253872094,
         0.18560966218559638,
         0.191907784477669,
         0.1899733674743466
        ],
        [
         0.2516852639633797,
         0.251589986486543,
         0.2531487623722676,
         0.2565520043557912,
         0.2603286469044785,
         0.25308510921347666,
         0.255012942779371,
         0.258575133331047,
         0.25370236768332477,
         0.255875944844721,
         0.25745815930741967,
         0.25581411127110615,
         0.2566799518980962,
         0.26297087095422195,
         0.259300515868281,
         0.2546565704065941,
         0.2613110347358766,
         0.2582847998002727,
         0.25363196053670023,
         0.25546298512969823,
         0.2529269192532143,
         0.2548959778311352,
         0.2588971416538983,
         0.25318033333100814,
         0.2577574878072768,
         0.25220547219300093,
         0.254418181958517,
         0.25627910043569463,
         0.2582058695911923,
         0.2593604400114832,
         0.2574635798604611,
         0.2577908969046,
         0.25308872793125464,
         0.2552395815522793,
         0.25862723524116127,
         0.2624714044470559,
         0.2524384018490274,
         0.25606671970008926,
         0.25775960946966914,
         0.2567550858172278,
         0.25752569933184516,
         0.2556979538708487,
         0.2532633844050853,
         0.2566307574309701,
         0.257439272450831,
         0.25487640899076475,
         0.2558528142981231,
         0.25423648965307605,
         0.2532671756549355,
         0.25792444169557854,
         0.2595812500198828,
         0.25543304310892434,
         0.25453259738381295,
         0.25974255468805924,
         0.25440251506755457,
         0.2581454544401198,
         0.2569870262625901,
         0.25984668502511055,
         0.2597820182586564,
         0.2521936655062817,
         0.2538323656327146,
         0.25825794319640477,
         0.2548111927439915,
         0.259004986653214,
         0.25613174241437925,
         0.2552989501889576,
         0.2527493736706674,
         0.261719260410424,
         0.2583021068050727,
         0.25974114167084006,
         0.25288693038016263,
         0.2593956066423333,
         0.256228068889137,
         0.25954038665319484,
         0.25746718236226956,
         0.2602764262598665,
         0.24875255003023675,
         0.2551561372774635,
         0.2550499627421446,
         0.25230517177203415,
         0.25752364687950297,
         0.2581100503402744,
         0.255423045854139,
         0.25572795169793217,
         0.2578626889096317,
         0.26229360806481805,
         0.2599170216468765,
         0.2553665580721024,
         0.25988079933449626,
         0.25468258841839786,
         0.25857199250957835,
         0.2559514030101983,
         0.25716064845704856,
         0.2587596581354007,
         0.2527993380311219,
         0.25043532169223126,
         0.2554838135929815,
         0.2554744387173331,
         0.2634012029396699,
         0.25826966986242755
        ],
        [
         25.67189692426473,
         25.66217862162739,
         25.821173761971295,
         26.168304444290698,
         26.553521984256804,
         25.81468113977462,
         26.01132016349584,
         26.37466359976679,
         25.877641503699124,
         26.09934637416154,
         26.260732249356806,
         26.093039349652827,
         26.181355093605816,
         26.82302883733064,
         26.448652618564665,
         25.9749701814726,
         26.65372554305941,
         26.345049579627812,
         25.870459974743426,
         26.05722448322922,
         25.79854576382786,
         25.99938973877579,
         26.407508448697627,
         25.824393999762833,
         26.291263756342232,
         25.724958163686097,
         25.950654559768736,
         26.140468244440854,
         26.336998698301613,
         26.454764881171286,
         26.261285145767033,
         26.2946714842692,
         25.815050248987973,
         26.034437318332493,
         26.37997799459845,
         26.772083253599703,
         25.74871698860079,
         26.118805409409106,
         26.29148016590625,
         26.18901875335723,
         26.267621331848204,
         26.081191294826567,
         25.832865209318697,
         26.17633725795895,
         26.258805789984763,
         25.997393717058003,
         26.09698705840856,
         25.932121944613755,
         25.83325191680342,
         26.30829305294901,
         26.477287502028048,
         26.054170397110283,
         25.96232493314892,
         26.49374057818204,
         25.949056536890566,
         26.33083635289222,
         26.21267667878419,
         26.504361872561276,
         26.49776586238295,
         25.723753881640732,
         25.89090129453689,
         26.34231020603329,
         25.990741659887135,
         26.418508638627827,
         26.125437726266682,
         26.040492919273674,
         25.780436114408076,
         26.695364561863244,
         26.346814894117415,
         26.493596450425684,
         25.79446689877659,
         26.458351877517998,
         26.135263026691973,
         26.473119438625872,
         26.261652600951493,
         26.548195478506386,
         25.372760103084147,
         26.025926002301276,
         26.015096199698746,
         25.735127520747483,
         26.2674119817093,
         26.327225134707987,
         26.053150677122176,
         26.08425107318908,
         26.301994268782437,
         26.75394802261144,
         26.511536207981408,
         26.047388923354447,
         26.50784153211862,
         25.97762401867658,
         26.374343235976994,
         26.107043107040226,
         26.230386142618954,
         26.39348512981087,
         25.785532479174435,
         25.544402812607586,
         26.05934898648411,
         26.05839274916798,
         26.866922699846327,
         26.34350632596761
        ],
        [
         4.319572854679354,
         4.349210746249703,
         4.35224833226817,
         4.361961569744108,
         4.4073121741347006,
         4.342910552585318,
         4.3752687877190555,
         4.388328675082429,
         4.365757645940442,
         4.377110880180242,
         4.380166867642041,
         4.357901749466331,
         4.379015019211265,
         4.437446405183084,
         4.378196889693136,
         4.375619456427087,
         4.4268191242062525,
         4.39861056826992,
         4.352534446397006,
         4.374819464460966,
         4.360930045166566,
         4.377740534108429,
         4.383300622338908,
         4.346051524357084,
         4.390133035851738,
         4.3486573843408385,
         4.367493372330616,
         4.382523454649007,
         4.398899515610275,
         4.400414626233098,
         4.381088098887538,
         4.388331460862503,
         4.361862201375864,
         4.399348493472272,
         4.400907460006418,
         4.41885150364844,
         4.329188359652338,
         4.35888360669707,
         4.401841661595546,
         4.378430776862794,
         4.378361080777068,
         4.369546106833412,
         4.358619817908233,
         4.377365557451254,
         4.382805124033232,
         4.381529085589604,
         4.39369427734627,
         4.378054280854934,
         4.351828912600216,
         4.3677048007049475,
         4.40253846323079,
         4.3755494056335715,
         4.379289059357104,
         4.397415160663155,
         4.381007180905942,
         4.390138903805653,
         4.379470157880882,
         4.411482076025498,
         4.4215590421786795,
         4.363154001704416,
         4.367452126894257,
         4.4181949829842315,
         4.396813628404236,
         4.436088412021909,
         4.405936587035879,
         4.3973842969711345,
         4.359339386489646,
         4.39243056500036,
         4.385826208109655,
         4.404083425431892,
         4.340418091668425,
         4.396599534398908,
         4.372467975461671,
         4.376366308773485,
         4.4025370765909795,
         4.413905919069841,
         4.337576080568149,
         4.371645803876151,
         4.370761821922243,
         4.368405778250788,
         4.402887479012073,
         4.4015259340271875,
         4.366124388294775,
         4.385874371821215,
         4.400586119678391,
         4.449812630690783,
         4.372141693776852,
         4.3830151729891105,
         4.4226144397470915,
         4.365207574873486,
         4.389496050773467,
         4.382117568046997,
         4.412420218227521,
         4.407934897314416,
         4.346209867173691,
         4.3481057271608385,
         4.370223282505087,
         4.351113138373998,
         4.424318480480609,
         4.401963593941158
        ]
       ],
       "encoder": "json",
       "name": "ABC_GAN_2 Metrics",
       "version": 1
      }
     },
     "metadata": {
      "scrapbook": {
       "data": true,
       "display": false,
       "name": "ABC_GAN_2 Metrics"
      }
     },
     "output_type": "display_data"
    },
    {
     "name": "stdout",
     "output_type": "stream",
     "text": [
      "MAE\n",
      "0.25648319428786637\n"
     ]
    }
   ],
   "source": [
    "ABC_GAN2_metrics=ABC_train_test2.test_generator(gen2,test_data,prior_model,variance,bias,\"1\",device)\n",
    "sb.glue(\"ABC_GAN_2 Metrics\",ABC_GAN2_metrics)\n",
    "\n",
    "print(\"MAE\")\n",
    "print(mean(ABC_GAN2_metrics[1]))"
   ]
  },
  {
   "cell_type": "code",
   "execution_count": 18,
   "id": "27832c65",
   "metadata": {
    "execution": {
     "iopub.execute_input": "2022-07-22T21:49:27.515758Z",
     "iopub.status.busy": "2022-07-22T21:49:27.515219Z",
     "iopub.status.idle": "2022-07-22T21:49:28.650516Z",
     "shell.execute_reply": "2022-07-22T21:49:28.649292Z"
    },
    "papermill": {
     "duration": 1.169886,
     "end_time": "2022-07-22T21:49:28.653470",
     "exception": false,
     "start_time": "2022-07-22T21:49:27.483584",
     "status": "completed"
    },
    "tags": []
   },
   "outputs": [
    {
     "data": {
      "image/png": "[encoded data removed]",
      "text/plain": [
       "<Figure size 432x288 with 1 Axes>"
      ]
     },
     "metadata": {
      "needs_background": "light"
     },
     "output_type": "display_data"
    },
    {
     "data": {
      "image/png": "[encoded data removed]",
      "text/plain": [
       "<Figure size 432x288 with 1 Axes>"
      ]
     },
     "metadata": {
      "needs_background": "light"
     },
     "output_type": "display_data"
    },
    {
     "data": {
      "image/png": "[encoded data removed]",
      "text/plain": [
       "<Figure size 432x288 with 1 Axes>"
      ]
     },
     "metadata": {
      "needs_background": "light"
     },
     "output_type": "display_data"
    },
    {
     "data": {
      "image/png": "[encoded data removed]",
      "text/plain": [
       "<Figure size 432x288 with 1 Axes>"
      ]
     },
     "metadata": {
      "needs_background": "light"
     },
     "output_type": "display_data"
    }
   ],
   "source": [
    "sanityChecks.discProbVsError(train_data,disc2,device)\n",
    "sanityChecks.discProbVsError(test_data,disc2,device)"
   ]
  },
  {
   "cell_type": "markdown",
   "id": "130f3a4d",
   "metadata": {
    "id": "130f3a4d",
    "papermill": {
     "duration": 0.039517,
     "end_time": "2022-07-22T21:49:28.717494",
     "exception": false,
     "start_time": "2022-07-22T21:49:28.677977",
     "status": "completed"
    },
    "tags": []
   },
   "source": [
    "# skipGAN Model"
   ]
  },
  {
   "cell_type": "code",
   "execution_count": 19,
   "id": "4e43dad1",
   "metadata": {
    "execution": {
     "iopub.execute_input": "2022-07-22T21:49:28.768921Z",
     "iopub.status.busy": "2022-07-22T21:49:28.767358Z",
     "iopub.status.idle": "2022-07-22T21:49:28.775036Z",
     "shell.execute_reply": "2022-07-22T21:49:28.774101Z"
    },
    "id": "4e43dad1",
    "papermill": {
     "duration": 0.040003,
     "end_time": "2022-07-22T21:49:28.777922",
     "exception": false,
     "start_time": "2022-07-22T21:49:28.737919",
     "status": "completed"
    },
    "tags": []
   },
   "outputs": [],
   "source": [
    "# #Generator\n",
    "# gen3 = network.GeneratorWithSkipConnection(n_features+1).to(device)\n",
    "# constraints=network.weightConstraint()\n",
    "# #Discriminator \n",
    "# disc3 = network.Discriminator(n_features+1).to(device)\n",
    "\n",
    "# criterion = torch.nn.BCELoss()\n",
    "# gen_opt = torch.optim.Adam(gen3.parameters(), lr=0.01, betas=(0.5, 0.999))\n",
    "# disc_opt = torch.optim.Adam(disc3.parameters(), lr=0.01, betas=(0.5, 0.999))\n"
   ]
  },
  {
   "cell_type": "markdown",
   "id": "e2fa8716",
   "metadata": {
    "tags": [
     "papermill-error-cell-tag"
    ]
   },
   "source": [
    "<span id=\"papermill-error-cell\" style=\"color:red; font-family:Helvetica Neue, Helvetica, Arial, sans-serif; font-size:2em;\">Execution using papermill encountered an exception here and stopped:</span>"
   ]
  },
  {
   "cell_type": "code",
   "execution_count": 20,
   "id": "26acbc37",
   "metadata": {
    "execution": {
     "iopub.execute_input": "2022-07-22T21:49:28.819589Z",
     "iopub.status.busy": "2022-07-22T21:49:28.819083Z",
     "iopub.status.idle": "2022-07-22T21:49:29.940873Z",
     "shell.execute_reply": "2022-07-22T21:49:29.938626Z"
    },
    "id": "26acbc37",
    "papermill": {
     "duration": 1.152644,
     "end_time": "2022-07-22T21:49:29.949704",
     "exception": true,
     "start_time": "2022-07-22T21:49:28.797060",
     "status": "failed"
    },
    "tags": []
   },
   "outputs": [
    {
     "ename": "NameError",
     "evalue": "name 'disc3' is not defined",
     "output_type": "error",
     "traceback": [
      "\u001b[0;31m---------------------------------------------------------------------------\u001b[0m",
      "\u001b[0;31mNameError\u001b[0m                                 Traceback (most recent call last)",
      "Input \u001b[0;32mIn [20]\u001b[0m, in \u001b[0;36m<cell line: 1>\u001b[0;34m()\u001b[0m\n\u001b[0;32m----> 1\u001b[0m ABC_train_test2\u001b[38;5;241m.\u001b[39mtraining_GAN_skip_connection(\u001b[43mdisc3\u001b[49m,gen3,disc_opt,gen_opt,train_data,batch_size,n_epochs,criterion,prior_model,variance,bias,device)\n",
      "\u001b[0;31mNameError\u001b[0m: name 'disc3' is not defined"
     ]
    }
   ],
   "source": [
    "ABC_train_test2.training_GAN_skip_connection(disc3,gen3,disc_opt,gen_opt,train_data,batch_size,n_epochs,criterion,prior_model,variance,bias,device)"
   ]
  },
  {
   "cell_type": "code",
   "execution_count": null,
   "id": "c5e0717b",
   "metadata": {
    "id": "c5e0717b",
    "papermill": {
     "duration": null,
     "end_time": null,
     "exception": null,
     "start_time": null,
     "status": "pending"
    },
    "tags": []
   },
   "outputs": [],
   "source": [
    "# ABC_GAN3_metrics=ABC_train_test2.test_generator(gen3,test_data,prior_model,variance,bias,\"3\",device)\n",
    "# sb.glue(\"ABC_GAN_3 Metrics\",ABC_GAN3_metrics)\n",
    "\n",
    "# print(\"MAE\")\n",
    "# print(mean(ABC_GAN3_metrics[1]))"
   ]
  },
  {
   "cell_type": "code",
   "execution_count": null,
   "id": "c8e46b48",
   "metadata": {
    "id": "c8e46b48",
    "papermill": {
     "duration": null,
     "end_time": null,
     "exception": null,
     "start_time": null,
     "status": "pending"
    },
    "tags": []
   },
   "outputs": [],
   "source": [
    "# sanityChecks.discProbVsError(train_data,disc3,device)\n",
    "# sanityChecks.discProbVsError(test_data,disc3,device)"
   ]
  },
  {
   "cell_type": "markdown",
   "id": "b4dad003",
   "metadata": {
    "id": "130f3a4d",
    "papermill": {
     "duration": null,
     "end_time": null,
     "exception": null,
     "start_time": null,
     "status": "pending"
    },
    "tags": []
   },
   "source": [
    "# skipGAN Model with TabNet Generator"
   ]
  },
  {
   "cell_type": "code",
   "execution_count": null,
   "id": "d288babb",
   "metadata": {
    "id": "4e43dad1",
    "papermill": {
     "duration": null,
     "end_time": null,
     "exception": null,
     "start_time": null,
     "status": "pending"
    },
    "tags": []
   },
   "outputs": [],
   "source": [
    "# #Generator\n",
    "# gen4 = network.GeneratorTabnetskipConnection(n_features+1).to(device)\n",
    "# constraints=network.weightConstraint()\n",
    "# #Discriminator \n",
    "# disc4 = network.Discriminator(n_features+1).to(device)\n",
    "\n",
    "# criterion = torch.nn.BCELoss()\n",
    "# gen_opt = torch.optim.Adam(gen4.parameters(), lr=0.01, betas=(0.5, 0.999))\n",
    "# disc_opt = torch.optim.Adam(disc4.parameters(), lr=0.01, betas=(0.5, 0.999))\n"
   ]
  },
  {
   "cell_type": "code",
   "execution_count": null,
   "id": "00272895",
   "metadata": {
    "id": "26acbc37",
    "papermill": {
     "duration": null,
     "end_time": null,
     "exception": null,
     "start_time": null,
     "status": "pending"
    },
    "tags": []
   },
   "outputs": [],
   "source": [
    "# ABC_train_test2.training_GAN_skip_connection(disc4,gen4,disc_opt,gen_opt,train_data,batch_size,n_epochs,criterion,prior_model,variance,bias,device)"
   ]
  },
  {
   "cell_type": "code",
   "execution_count": null,
   "id": "40c87e3b",
   "metadata": {
    "id": "c5e0717b",
    "papermill": {
     "duration": null,
     "end_time": null,
     "exception": null,
     "start_time": null,
     "status": "pending"
    },
    "tags": []
   },
   "outputs": [],
   "source": [
    "# ABC_GAN4_metrics=ABC_train_test2.test_generator(gen4,test_data,prior_model,variance,bias,\"3\",device)\n",
    "# sb.glue(\"ABC_GAN_4 Metrics\",ABC_GAN4_metrics)\n",
    "\n",
    "# print(\"MAE\")\n",
    "# print(mean(ABC_GAN4_metrics[1]))"
   ]
  },
  {
   "cell_type": "code",
   "execution_count": null,
   "id": "7be1a547",
   "metadata": {
    "id": "c8e46b48",
    "papermill": {
     "duration": null,
     "end_time": null,
     "exception": null,
     "start_time": null,
     "status": "pending"
    },
    "tags": []
   },
   "outputs": [],
   "source": [
    "# sanityChecks.discProbVsError(train_data,disc4,device)\n",
    "# sanityChecks.discProbVsError(test_data,disc4,device)"
   ]
  },
  {
   "cell_type": "markdown",
   "id": "a5bd74c3",
   "metadata": {
    "id": "a5bd74c3",
    "papermill": {
     "duration": null,
     "end_time": null,
     "exception": null,
     "start_time": null,
     "status": "pending"
    },
    "tags": []
   },
   "source": [
    "## Skip Connection Model Analysis - ABC-GAN "
   ]
  },
  {
   "cell_type": "markdown",
   "id": "5744a8bf",
   "metadata": {
    "id": "5744a8bf",
    "papermill": {
     "duration": null,
     "end_time": null,
     "exception": null,
     "start_time": null,
     "status": "pending"
    },
    "tags": []
   },
   "source": [
    "### Weight Analysis \n",
    "\n",
    "Study the weights of the skip connection layer\n",
    "\n",
    "Equation of the skip connection is \n",
    "\n",
    "$output = y_{gan} * w + y_{abc} * (1-w)$"
   ]
  },
  {
   "cell_type": "code",
   "execution_count": null,
   "id": "52c31dea",
   "metadata": {
    "id": "52c31dea",
    "papermill": {
     "duration": null,
     "end_time": null,
     "exception": null,
     "start_time": null,
     "status": "pending"
    },
    "tags": []
   },
   "outputs": [],
   "source": [
    "# print(\"Weight of the node at skip connection\")\n",
    "# for name,param in gen3.named_parameters():\n",
    "#     if(name == \"skipNode.weight\"):\n",
    "#         print(param)\n",
    "#         sb.glue(\"Skip Connection Weight\",param.item())"
   ]
  },
  {
   "cell_type": "markdown",
   "id": "93cd2e24",
   "metadata": {
    "id": "a5bd74c3",
    "papermill": {
     "duration": null,
     "end_time": null,
     "exception": null,
     "start_time": null,
     "status": "pending"
    },
    "tags": []
   },
   "source": [
    "## skipGAN Model Analysis (TabNet Generator) "
   ]
  },
  {
   "cell_type": "markdown",
   "id": "d45406d7",
   "metadata": {
    "id": "5744a8bf",
    "papermill": {
     "duration": null,
     "end_time": null,
     "exception": null,
     "start_time": null,
     "status": "pending"
    },
    "tags": []
   },
   "source": [
    "### Weight Analysis \n",
    "\n",
    "Study the weights of the skip connection layer\n",
    "\n",
    "Equation of the skip connection is \n",
    "\n",
    "$output = y_{gan} * w + y_{abc} * (1-w)$"
   ]
  },
  {
   "cell_type": "code",
   "execution_count": null,
   "id": "87179f3e",
   "metadata": {
    "id": "52c31dea",
    "papermill": {
     "duration": null,
     "end_time": null,
     "exception": null,
     "start_time": null,
     "status": "pending"
    },
    "tags": []
   },
   "outputs": [],
   "source": [
    "# print(\"Weight of the node at skip connection\")\n",
    "# for name,param in gen4.named_parameters():\n",
    "#     if(name == \"skipNode.weight\"):\n",
    "#         print(param)\n",
    "#         sb.glue(\"Skip Connection Weight\",param.item())"
   ]
  }
 ],
 "metadata": {
  "colab": {
   "collapsed_sections": [],
   "name": "ABC_GAN_Model-Catboost_Pre-gen.ipynb",
   "provenance": []
  },
  "interpreter": {
   "hash": "31f2aee4e71d21fbe5cf8b01ff0e069b9275f58929596ceb00d14d90e3e16cd6"
  },
  "kernelspec": {
   "display_name": "Python 3 (ipykernel)",
   "language": "python",
   "name": "python3"
  },
  "language_info": {
   "codemirror_mode": {
    "name": "ipython",
    "version": 3
   },
   "file_extension": ".py",
   "mimetype": "text/x-python",
   "name": "python",
   "nbconvert_exporter": "python",
   "pygments_lexer": "ipython3",
   "version": "3.8.13"
  },
  "papermill": {
   "default_parameters": {},
   "duration": 669.793833,
   "end_time": "2022-07-22T21:49:30.984570",
   "environment_variables": {},
   "exception": true,
   "input_path": "ABC_GAN-Catboost.ipynb",
   "output_path": "./ABC_GAN_Catboost/ABC-GAN_output_2_9.ipynb",
   "parameters": {
    "bias": 0,
    "variance": 1
   },
   "start_time": "2022-07-22T21:38:21.190737",
   "version": "2.3.3"
  }
 },
 "nbformat": 4,
 "nbformat_minor": 5
}