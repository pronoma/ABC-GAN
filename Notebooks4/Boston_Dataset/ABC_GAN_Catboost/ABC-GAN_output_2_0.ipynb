{
 "cells": [
  {
   "cell_type": "markdown",
   "id": "3b03e137",
   "metadata": {
    "tags": [
     "papermill-error-cell-tag"
    ]
   },
   "source": [
    "<span style=\"color:red; font-family:Helvetica Neue, Helvetica, Arial, sans-serif; font-size:2em;\">An Exception was encountered at '<a href=\"#papermill-error-cell\">In [20]</a>'.</span>"
   ]
  },
  {
   "cell_type": "markdown",
   "id": "622780e6",
   "metadata": {
    "id": "622780e6",
    "papermill": {
     "duration": 0.008959,
     "end_time": "2022-07-22T19:58:31.113342",
     "exception": false,
     "start_time": "2022-07-22T19:58:31.104383",
     "status": "completed"
    },
    "tags": []
   },
   "source": [
    "## Import Libraries "
   ]
  },
  {
   "cell_type": "code",
   "execution_count": 1,
   "id": "a62397e3",
   "metadata": {
    "execution": {
     "iopub.execute_input": "2022-07-22T19:58:31.136078Z",
     "iopub.status.busy": "2022-07-22T19:58:31.134814Z",
     "iopub.status.idle": "2022-07-22T19:58:31.175015Z",
     "shell.execute_reply": "2022-07-22T19:58:31.163289Z"
    },
    "id": "a62397e3",
    "papermill": {
     "duration": 0.058379,
     "end_time": "2022-07-22T19:58:31.180732",
     "exception": false,
     "start_time": "2022-07-22T19:58:31.122353",
     "status": "completed"
    },
    "tags": []
   },
   "outputs": [],
   "source": [
    "import warnings\n",
    "import sys\n",
    "sys.path.insert(0, '../../src')\n",
    "warnings.filterwarnings('ignore')"
   ]
  },
  {
   "cell_type": "code",
   "execution_count": 2,
   "id": "d6a4e155",
   "metadata": {
    "execution": {
     "iopub.execute_input": "2022-07-22T19:58:31.203362Z",
     "iopub.status.busy": "2022-07-22T19:58:31.202749Z",
     "iopub.status.idle": "2022-07-22T19:58:38.231929Z",
     "shell.execute_reply": "2022-07-22T19:58:38.230333Z"
    },
    "id": "d6a4e155",
    "papermill": {
     "duration": 7.046616,
     "end_time": "2022-07-22T19:58:38.236284",
     "exception": false,
     "start_time": "2022-07-22T19:58:31.189668",
     "status": "completed"
    },
    "tags": []
   },
   "outputs": [],
   "source": [
    "import ABC_train_test2\n",
    "import bostonDataset\n",
    "import network\n",
    "import dataset\n",
    "import sanityChecks\n",
    "import torch \n",
    "import scrapbook as sb\n",
    "from statistics import mean \n",
    "import catboost as ctb \n",
    "from sklearn.model_selection import train_test_split\n",
    "from sklearn.metrics import mean_squared_error,mean_absolute_error\n",
    "import numpy as np"
   ]
  },
  {
   "cell_type": "markdown",
   "id": "2fa5b0f7",
   "metadata": {
    "id": "2fa5b0f7",
    "papermill": {
     "duration": 0.009038,
     "end_time": "2022-07-22T19:58:38.253226",
     "exception": false,
     "start_time": "2022-07-22T19:58:38.244188",
     "status": "completed"
    },
    "tags": []
   },
   "source": [
    "## Parameters "
   ]
  },
  {
   "cell_type": "code",
   "execution_count": 3,
   "id": "783186fb",
   "metadata": {
    "execution": {
     "iopub.execute_input": "2022-07-22T19:58:38.274947Z",
     "iopub.status.busy": "2022-07-22T19:58:38.274401Z",
     "iopub.status.idle": "2022-07-22T19:58:38.283663Z",
     "shell.execute_reply": "2022-07-22T19:58:38.281730Z"
    },
    "id": "783186fb",
    "papermill": {
     "duration": 0.027753,
     "end_time": "2022-07-22T19:58:38.289159",
     "exception": false,
     "start_time": "2022-07-22T19:58:38.261406",
     "status": "completed"
    },
    "tags": [
     "parameters"
    ]
   },
   "outputs": [],
   "source": [
    "variance = 1\n",
    "bias = 1 "
   ]
  },
  {
   "cell_type": "code",
   "execution_count": 4,
   "id": "f3887be8",
   "metadata": {
    "execution": {
     "iopub.execute_input": "2022-07-22T19:58:38.326742Z",
     "iopub.status.busy": "2022-07-22T19:58:38.322253Z",
     "iopub.status.idle": "2022-07-22T19:58:38.340081Z",
     "shell.execute_reply": "2022-07-22T19:58:38.337736Z"
    },
    "papermill": {
     "duration": 0.045494,
     "end_time": "2022-07-22T19:58:38.347030",
     "exception": false,
     "start_time": "2022-07-22T19:58:38.301536",
     "status": "completed"
    },
    "tags": [
     "injected-parameters"
    ]
   },
   "outputs": [],
   "source": [
    "# Parameters\n",
    "variance = 1\n",
    "bias = 1\n"
   ]
  },
  {
   "cell_type": "markdown",
   "id": "391cdbfd",
   "metadata": {
    "id": "391cdbfd",
    "papermill": {
     "duration": 0.022064,
     "end_time": "2022-07-22T19:58:38.376693",
     "exception": false,
     "start_time": "2022-07-22T19:58:38.354629",
     "status": "completed"
    },
    "tags": []
   },
   "source": [
    "## Dataset \n"
   ]
  },
  {
   "cell_type": "code",
   "execution_count": 5,
   "id": "5b51f161",
   "metadata": {
    "execution": {
     "iopub.execute_input": "2022-07-22T19:58:38.398977Z",
     "iopub.status.busy": "2022-07-22T19:58:38.398373Z",
     "iopub.status.idle": "2022-07-22T19:58:38.408410Z",
     "shell.execute_reply": "2022-07-22T19:58:38.407297Z"
    },
    "id": "5b51f161",
    "papermill": {
     "duration": 0.024861,
     "end_time": "2022-07-22T19:58:38.411352",
     "exception": false,
     "start_time": "2022-07-22T19:58:38.386491",
     "status": "completed"
    },
    "tags": []
   },
   "outputs": [],
   "source": [
    "#Parameters \n",
    "n_features = 13\n",
    "n_samples= 506\n",
    "n_target = 1 "
   ]
  },
  {
   "cell_type": "code",
   "execution_count": 6,
   "id": "5d6eced4",
   "metadata": {
    "execution": {
     "iopub.execute_input": "2022-07-22T19:58:38.451939Z",
     "iopub.status.busy": "2022-07-22T19:58:38.431104Z",
     "iopub.status.idle": "2022-07-22T19:58:38.492280Z",
     "shell.execute_reply": "2022-07-22T19:58:38.489223Z"
    },
    "id": "5d6eced4",
    "papermill": {
     "duration": 0.082988,
     "end_time": "2022-07-22T19:58:38.501668",
     "exception": false,
     "start_time": "2022-07-22T19:58:38.418680",
     "status": "completed"
    },
    "tags": []
   },
   "outputs": [
    {
     "name": "stdout",
     "output_type": "stream",
     "text": [
      "         X1        X2        X3        X4        X5        X6        X7  \\\n",
      "0 -0.419782  0.284830 -1.287909 -0.272599 -0.144217  0.413672 -0.120013   \n",
      "1 -0.417339 -0.487722 -0.593381 -0.272599 -0.740262  0.194274  0.367166   \n",
      "2 -0.417342 -0.487722 -0.593381 -0.272599 -0.740262  1.282714 -0.265812   \n",
      "3 -0.416750 -0.487722 -1.306878 -0.272599 -0.835284  1.016303 -0.809889   \n",
      "4 -0.412482 -0.487722 -1.306878 -0.272599 -0.835284  1.228577 -0.511180   \n",
      "\n",
      "         X8        X9       X10       X11       X12       X13         Y  \n",
      "0  0.140214 -0.982843 -0.666608 -1.459000  0.441052 -1.075562  0.159686  \n",
      "1  0.557160 -0.867883 -0.987329 -0.303094  0.441052 -0.492439 -0.101524  \n",
      "2  0.557160 -0.867883 -0.987329 -0.303094  0.396427 -1.208727  1.324247  \n",
      "3  1.077737 -0.752922 -1.106115  0.113032  0.416163 -1.361517  1.182758  \n",
      "4  1.077737 -0.752922 -1.106115  0.113032  0.441052 -1.026501  1.487503  \n"
     ]
    }
   ],
   "source": [
    "X,Y = bostonDataset.boston_data()"
   ]
  },
  {
   "cell_type": "code",
   "execution_count": 7,
   "id": "fe007438",
   "metadata": {
    "execution": {
     "iopub.execute_input": "2022-07-22T19:58:38.528513Z",
     "iopub.status.busy": "2022-07-22T19:58:38.527569Z",
     "iopub.status.idle": "2022-07-22T19:58:38.554276Z",
     "shell.execute_reply": "2022-07-22T19:58:38.533806Z"
    },
    "id": "fe007438",
    "papermill": {
     "duration": 0.054279,
     "end_time": "2022-07-22T19:58:38.565284",
     "exception": false,
     "start_time": "2022-07-22T19:58:38.511005",
     "status": "completed"
    },
    "tags": []
   },
   "outputs": [],
   "source": [
    "#Train test split for dataset \n",
    "X_train,X_test,Y_train,Y_test = train_test_split(X,Y,test_size = 0.2)\n",
    "train_data = dataset.CustomDataset(X_train,Y_train)\n",
    "test_data = dataset.CustomDataset(X_test,Y_test)\n"
   ]
  },
  {
   "cell_type": "markdown",
   "id": "a9a1af34",
   "metadata": {
    "id": "a9a1af34",
    "papermill": {
     "duration": 0.009278,
     "end_time": "2022-07-22T19:58:38.582839",
     "exception": false,
     "start_time": "2022-07-22T19:58:38.573561",
     "status": "completed"
    },
    "tags": []
   },
   "source": [
    "## Training Parameters "
   ]
  },
  {
   "cell_type": "code",
   "execution_count": 8,
   "id": "952b7fc8",
   "metadata": {
    "execution": {
     "iopub.execute_input": "2022-07-22T19:58:38.672454Z",
     "iopub.status.busy": "2022-07-22T19:58:38.671933Z",
     "iopub.status.idle": "2022-07-22T19:58:38.679391Z",
     "shell.execute_reply": "2022-07-22T19:58:38.677770Z"
    },
    "id": "952b7fc8",
    "papermill": {
     "duration": 0.108118,
     "end_time": "2022-07-22T19:58:38.699326",
     "exception": false,
     "start_time": "2022-07-22T19:58:38.591208",
     "status": "completed"
    },
    "tags": []
   },
   "outputs": [],
   "source": [
    "batch_size = 32\n",
    "n_epochs = 1000\n",
    "#Select the device \n",
    "device = torch.device('cuda' if torch.cuda.is_available() else 'cpu')"
   ]
  },
  {
   "cell_type": "markdown",
   "id": "a95e1600",
   "metadata": {
    "id": "a95e1600",
    "papermill": {
     "duration": 0.027359,
     "end_time": "2022-07-22T19:58:38.735128",
     "exception": false,
     "start_time": "2022-07-22T19:58:38.707769",
     "status": "completed"
    },
    "tags": []
   },
   "source": [
    "# ABC Pre-generator Model \n",
    "\n",
    "1. The catboost model is used as a pre-generator model for the ABC-GAN. \n",
    "2. The model is first trained on the entire dataset \n",
    "3. It generats X,Y pairs and we add some Gaussian noise with mean 0 and variance 1 to it which is then feed as input to the generator.\n"
   ]
  },
  {
   "cell_type": "code",
   "execution_count": 9,
   "id": "ff8ce7bd",
   "metadata": {
    "execution": {
     "iopub.execute_input": "2022-07-22T19:58:38.757507Z",
     "iopub.status.busy": "2022-07-22T19:58:38.756637Z",
     "iopub.status.idle": "2022-07-22T19:58:42.137246Z",
     "shell.execute_reply": "2022-07-22T19:58:42.136505Z"
    },
    "id": "ff8ce7bd",
    "papermill": {
     "duration": 3.392905,
     "end_time": "2022-07-22T19:58:42.139994",
     "exception": false,
     "start_time": "2022-07-22T19:58:38.747089",
     "status": "completed"
    },
    "tags": []
   },
   "outputs": [
    {
     "name": "stdout",
     "output_type": "stream",
     "text": [
      "Learning rate set to 0.03548\n",
      "0:\tlearn: 1.0091910\ttotal: 62.1ms\tremaining: 1m 2s\n",
      "1:\tlearn: 0.9894059\ttotal: 64.6ms\tremaining: 32.2s\n",
      "2:\tlearn: 0.9671817\ttotal: 67ms\tremaining: 22.3s\n",
      "3:\tlearn: 0.9497985\ttotal: 69.4ms\tremaining: 17.3s\n",
      "4:\tlearn: 0.9318251\ttotal: 72.1ms\tremaining: 14.4s\n",
      "5:\tlearn: 0.9127227\ttotal: 77.9ms\tremaining: 12.9s\n",
      "6:\tlearn: 0.8952216\ttotal: 81.1ms\tremaining: 11.5s\n",
      "7:\tlearn: 0.8784257\ttotal: 84.7ms\tremaining: 10.5s\n",
      "8:\tlearn: 0.8614136\ttotal: 88.2ms\tremaining: 9.71s\n",
      "9:\tlearn: 0.8438013\ttotal: 91.9ms\tremaining: 9.1s\n",
      "10:\tlearn: 0.8272774\ttotal: 94.2ms\tremaining: 8.47s\n",
      "11:\tlearn: 0.8101300\ttotal: 97.4ms\tremaining: 8.02s\n",
      "12:\tlearn: 0.7950426\ttotal: 99.7ms\tremaining: 7.57s\n",
      "13:\tlearn: 0.7797288\ttotal: 103ms\tremaining: 7.25s\n",
      "14:\tlearn: 0.7672158\ttotal: 108ms\tremaining: 7.1s\n",
      "15:\tlearn: 0.7521895\ttotal: 111ms\tremaining: 6.82s\n",
      "16:\tlearn: 0.7395537\ttotal: 114ms\tremaining: 6.57s\n",
      "17:\tlearn: 0.7268917\ttotal: 116ms\tremaining: 6.34s\n",
      "18:\tlearn: 0.7133896\ttotal: 119ms\tremaining: 6.13s\n",
      "19:\tlearn: 0.7004080\ttotal: 121ms\tremaining: 5.94s\n",
      "20:\tlearn: 0.6859031\ttotal: 124ms\tremaining: 5.78s\n",
      "21:\tlearn: 0.6747759\ttotal: 127ms\tremaining: 5.64s\n",
      "22:\tlearn: 0.6627362\ttotal: 129ms\tremaining: 5.49s\n",
      "23:\tlearn: 0.6521166\ttotal: 135ms\tremaining: 5.47s\n",
      "24:\tlearn: 0.6412084\ttotal: 138ms\tremaining: 5.37s\n",
      "25:\tlearn: 0.6321308\ttotal: 141ms\tremaining: 5.28s\n",
      "26:\tlearn: 0.6204506\ttotal: 144ms\tremaining: 5.19s\n",
      "27:\tlearn: 0.6108062\ttotal: 147ms\tremaining: 5.09s\n",
      "28:\tlearn: 0.6016063\ttotal: 149ms\tremaining: 5s\n",
      "29:\tlearn: 0.5918837\ttotal: 152ms\tremaining: 4.91s\n",
      "30:\tlearn: 0.5803991\ttotal: 155ms\tremaining: 4.84s\n",
      "31:\tlearn: 0.5708149\ttotal: 157ms\tremaining: 4.76s\n",
      "32:\tlearn: 0.5636598\ttotal: 160ms\tremaining: 4.68s\n",
      "33:\tlearn: 0.5565439\ttotal: 162ms\tremaining: 4.6s\n",
      "34:\tlearn: 0.5489866\ttotal: 164ms\tremaining: 4.52s\n"
     ]
    },
    {
     "name": "stdout",
     "output_type": "stream",
     "text": [
      "35:\tlearn: 0.5414970\ttotal: 167ms\tremaining: 4.46s\n",
      "36:\tlearn: 0.5348412\ttotal: 170ms\tremaining: 4.41s\n",
      "37:\tlearn: 0.5275888\ttotal: 172ms\tremaining: 4.35s\n",
      "38:\tlearn: 0.5196592\ttotal: 174ms\tremaining: 4.3s\n",
      "39:\tlearn: 0.5105174\ttotal: 178ms\tremaining: 4.27s\n",
      "40:\tlearn: 0.5042699\ttotal: 180ms\tremaining: 4.21s\n",
      "41:\tlearn: 0.4969342\ttotal: 183ms\tremaining: 4.17s\n",
      "42:\tlearn: 0.4914230\ttotal: 185ms\tremaining: 4.12s\n",
      "43:\tlearn: 0.4859420\ttotal: 188ms\tremaining: 4.08s\n",
      "44:\tlearn: 0.4796120\ttotal: 190ms\tremaining: 4.04s\n",
      "45:\tlearn: 0.4743431\ttotal: 193ms\tremaining: 4s\n",
      "46:\tlearn: 0.4682060\ttotal: 196ms\tremaining: 3.97s\n",
      "47:\tlearn: 0.4614621\ttotal: 198ms\tremaining: 3.94s\n",
      "48:\tlearn: 0.4563598\ttotal: 201ms\tremaining: 3.9s\n",
      "49:\tlearn: 0.4521499\ttotal: 204ms\tremaining: 3.87s\n",
      "50:\tlearn: 0.4468435\ttotal: 206ms\tremaining: 3.84s\n",
      "51:\tlearn: 0.4427615\ttotal: 208ms\tremaining: 3.8s\n",
      "52:\tlearn: 0.4376733\ttotal: 211ms\tremaining: 3.77s\n",
      "53:\tlearn: 0.4335492\ttotal: 214ms\tremaining: 3.74s\n",
      "54:\tlearn: 0.4291866\ttotal: 216ms\tremaining: 3.71s\n",
      "55:\tlearn: 0.4248624\ttotal: 219ms\tremaining: 3.69s\n",
      "56:\tlearn: 0.4210175\ttotal: 223ms\tremaining: 3.69s\n",
      "57:\tlearn: 0.4167820\ttotal: 226ms\tremaining: 3.68s\n",
      "58:\tlearn: 0.4128082\ttotal: 229ms\tremaining: 3.65s\n",
      "59:\tlearn: 0.4086272\ttotal: 232ms\tremaining: 3.63s\n",
      "60:\tlearn: 0.4044344\ttotal: 233ms\tremaining: 3.59s\n",
      "61:\tlearn: 0.3997806\ttotal: 236ms\tremaining: 3.57s\n",
      "62:\tlearn: 0.3967031\ttotal: 238ms\tremaining: 3.54s\n",
      "63:\tlearn: 0.3931557\ttotal: 241ms\tremaining: 3.52s\n",
      "64:\tlearn: 0.3895965\ttotal: 244ms\tremaining: 3.5s\n",
      "65:\tlearn: 0.3867476\ttotal: 246ms\tremaining: 3.48s\n",
      "66:\tlearn: 0.3832678\ttotal: 249ms\tremaining: 3.46s\n",
      "67:\tlearn: 0.3798044\ttotal: 253ms\tremaining: 3.46s\n",
      "68:\tlearn: 0.3766241\ttotal: 255ms\tremaining: 3.44s\n",
      "69:\tlearn: 0.3738297\ttotal: 258ms\tremaining: 3.42s\n",
      "70:\tlearn: 0.3703662\ttotal: 261ms\tremaining: 3.41s\n",
      "71:\tlearn: 0.3668040\ttotal: 264ms\tremaining: 3.4s\n",
      "72:\tlearn: 0.3641938\ttotal: 268ms\tremaining: 3.4s\n",
      "73:\tlearn: 0.3616049\ttotal: 270ms\tremaining: 3.38s\n",
      "74:\tlearn: 0.3579747\ttotal: 273ms\tremaining: 3.36s\n",
      "75:\tlearn: 0.3562020\ttotal: 275ms\tremaining: 3.35s\n",
      "76:\tlearn: 0.3524958\ttotal: 278ms\tremaining: 3.33s\n",
      "77:\tlearn: 0.3493306\ttotal: 280ms\tremaining: 3.31s\n",
      "78:\tlearn: 0.3467882\ttotal: 283ms\tremaining: 3.29s\n",
      "79:\tlearn: 0.3445376\ttotal: 284ms\tremaining: 3.27s\n",
      "80:\tlearn: 0.3415426\ttotal: 287ms\tremaining: 3.25s\n",
      "81:\tlearn: 0.3392601\ttotal: 289ms\tremaining: 3.24s\n",
      "82:\tlearn: 0.3371400\ttotal: 292ms\tremaining: 3.22s\n",
      "83:\tlearn: 0.3347282\ttotal: 294ms\tremaining: 3.21s\n",
      "84:\tlearn: 0.3318238\ttotal: 300ms\tremaining: 3.22s\n",
      "85:\tlearn: 0.3289256\ttotal: 302ms\tremaining: 3.21s\n",
      "86:\tlearn: 0.3261015\ttotal: 304ms\tremaining: 3.19s\n",
      "87:\tlearn: 0.3236656\ttotal: 307ms\tremaining: 3.18s\n",
      "88:\tlearn: 0.3222278\ttotal: 309ms\tremaining: 3.17s\n",
      "89:\tlearn: 0.3198644\ttotal: 312ms\tremaining: 3.15s\n",
      "90:\tlearn: 0.3178837\ttotal: 315ms\tremaining: 3.14s\n",
      "91:\tlearn: 0.3159912\ttotal: 317ms\tremaining: 3.13s\n",
      "92:\tlearn: 0.3145392\ttotal: 320ms\tremaining: 3.12s\n",
      "93:\tlearn: 0.3128470\ttotal: 322ms\tremaining: 3.1s\n",
      "94:\tlearn: 0.3110149\ttotal: 323ms\tremaining: 3.08s\n",
      "95:\tlearn: 0.3092957\ttotal: 326ms\tremaining: 3.07s\n",
      "96:\tlearn: 0.3074735\ttotal: 329ms\tremaining: 3.06s\n"
     ]
    },
    {
     "name": "stdout",
     "output_type": "stream",
     "text": [
      "97:\tlearn: 0.3058218\ttotal: 331ms\tremaining: 3.05s\n",
      "98:\tlearn: 0.3044427\ttotal: 334ms\tremaining: 3.04s\n",
      "99:\tlearn: 0.3029867\ttotal: 337ms\tremaining: 3.03s\n",
      "100:\tlearn: 0.3012935\ttotal: 340ms\tremaining: 3.03s\n",
      "101:\tlearn: 0.2995198\ttotal: 342ms\tremaining: 3.02s\n",
      "102:\tlearn: 0.2982062\ttotal: 345ms\tremaining: 3.01s\n",
      "103:\tlearn: 0.2962821\ttotal: 348ms\tremaining: 3s\n",
      "104:\tlearn: 0.2944227\ttotal: 350ms\tremaining: 2.99s\n",
      "105:\tlearn: 0.2932699\ttotal: 353ms\tremaining: 2.98s\n",
      "106:\tlearn: 0.2920267\ttotal: 356ms\tremaining: 2.97s\n",
      "107:\tlearn: 0.2906351\ttotal: 359ms\tremaining: 2.96s\n",
      "108:\tlearn: 0.2898611\ttotal: 361ms\tremaining: 2.95s\n",
      "109:\tlearn: 0.2884422\ttotal: 364ms\tremaining: 2.94s\n",
      "110:\tlearn: 0.2872769\ttotal: 366ms\tremaining: 2.94s\n",
      "111:\tlearn: 0.2855487\ttotal: 369ms\tremaining: 2.93s\n",
      "112:\tlearn: 0.2842448\ttotal: 372ms\tremaining: 2.92s\n",
      "113:\tlearn: 0.2830445\ttotal: 374ms\tremaining: 2.91s\n",
      "114:\tlearn: 0.2817900\ttotal: 377ms\tremaining: 2.9s\n",
      "115:\tlearn: 0.2805367\ttotal: 379ms\tremaining: 2.89s\n",
      "116:\tlearn: 0.2791189\ttotal: 382ms\tremaining: 2.88s\n",
      "117:\tlearn: 0.2777852\ttotal: 384ms\tremaining: 2.87s\n",
      "118:\tlearn: 0.2767049\ttotal: 386ms\tremaining: 2.86s\n",
      "119:\tlearn: 0.2758205\ttotal: 389ms\tremaining: 2.85s\n",
      "120:\tlearn: 0.2746452\ttotal: 392ms\tremaining: 2.85s\n",
      "121:\tlearn: 0.2735733\ttotal: 394ms\tremaining: 2.84s\n",
      "122:\tlearn: 0.2724863\ttotal: 397ms\tremaining: 2.83s\n",
      "123:\tlearn: 0.2717592\ttotal: 400ms\tremaining: 2.82s\n",
      "124:\tlearn: 0.2706472\ttotal: 402ms\tremaining: 2.81s\n",
      "125:\tlearn: 0.2695462\ttotal: 405ms\tremaining: 2.81s\n",
      "126:\tlearn: 0.2682059\ttotal: 407ms\tremaining: 2.8s\n",
      "127:\tlearn: 0.2668699\ttotal: 410ms\tremaining: 2.79s\n",
      "128:\tlearn: 0.2655176\ttotal: 412ms\tremaining: 2.78s\n",
      "129:\tlearn: 0.2644167\ttotal: 415ms\tremaining: 2.78s\n",
      "130:\tlearn: 0.2634685\ttotal: 420ms\tremaining: 2.79s\n",
      "131:\tlearn: 0.2621477\ttotal: 426ms\tremaining: 2.8s\n",
      "132:\tlearn: 0.2603567\ttotal: 430ms\tremaining: 2.8s\n",
      "133:\tlearn: 0.2596791\ttotal: 432ms\tremaining: 2.79s\n",
      "134:\tlearn: 0.2588661\ttotal: 435ms\tremaining: 2.78s\n",
      "135:\tlearn: 0.2578895\ttotal: 437ms\tremaining: 2.78s\n",
      "136:\tlearn: 0.2571827\ttotal: 440ms\tremaining: 2.77s\n",
      "137:\tlearn: 0.2562742\ttotal: 443ms\tremaining: 2.76s\n",
      "138:\tlearn: 0.2553480\ttotal: 444ms\tremaining: 2.75s\n",
      "139:\tlearn: 0.2544620\ttotal: 447ms\tremaining: 2.74s\n",
      "140:\tlearn: 0.2537387\ttotal: 449ms\tremaining: 2.74s\n",
      "141:\tlearn: 0.2530793\ttotal: 452ms\tremaining: 2.73s\n",
      "142:\tlearn: 0.2521894\ttotal: 456ms\tremaining: 2.73s\n",
      "143:\tlearn: 0.2513817\ttotal: 460ms\tremaining: 2.74s\n",
      "144:\tlearn: 0.2506823\ttotal: 463ms\tremaining: 2.73s\n",
      "145:\tlearn: 0.2501403\ttotal: 466ms\tremaining: 2.73s\n",
      "146:\tlearn: 0.2494255\ttotal: 469ms\tremaining: 2.72s\n",
      "147:\tlearn: 0.2485042\ttotal: 471ms\tremaining: 2.71s\n",
      "148:\tlearn: 0.2476144\ttotal: 474ms\tremaining: 2.71s\n",
      "149:\tlearn: 0.2469136\ttotal: 476ms\tremaining: 2.7s\n",
      "150:\tlearn: 0.2461450\ttotal: 478ms\tremaining: 2.69s\n",
      "151:\tlearn: 0.2453240\ttotal: 481ms\tremaining: 2.68s\n",
      "152:\tlearn: 0.2445851\ttotal: 484ms\tremaining: 2.68s\n",
      "153:\tlearn: 0.2439648\ttotal: 486ms\tremaining: 2.67s\n",
      "154:\tlearn: 0.2431376\ttotal: 492ms\tremaining: 2.68s\n"
     ]
    },
    {
     "name": "stdout",
     "output_type": "stream",
     "text": [
      "155:\tlearn: 0.2424523\ttotal: 501ms\tremaining: 2.71s\n",
      "156:\tlearn: 0.2417561\ttotal: 507ms\tremaining: 2.72s\n",
      "157:\tlearn: 0.2411739\ttotal: 510ms\tremaining: 2.72s\n",
      "158:\tlearn: 0.2401606\ttotal: 513ms\tremaining: 2.71s\n",
      "159:\tlearn: 0.2391885\ttotal: 515ms\tremaining: 2.7s\n",
      "160:\tlearn: 0.2386376\ttotal: 518ms\tremaining: 2.7s\n",
      "161:\tlearn: 0.2378683\ttotal: 520ms\tremaining: 2.69s\n",
      "162:\tlearn: 0.2372362\ttotal: 523ms\tremaining: 2.69s\n",
      "163:\tlearn: 0.2366350\ttotal: 526ms\tremaining: 2.68s\n",
      "164:\tlearn: 0.2360214\ttotal: 528ms\tremaining: 2.67s\n",
      "165:\tlearn: 0.2353196\ttotal: 531ms\tremaining: 2.67s\n",
      "166:\tlearn: 0.2345570\ttotal: 536ms\tremaining: 2.67s\n",
      "167:\tlearn: 0.2339594\ttotal: 542ms\tremaining: 2.69s\n",
      "168:\tlearn: 0.2333403\ttotal: 545ms\tremaining: 2.68s\n",
      "169:\tlearn: 0.2326904\ttotal: 547ms\tremaining: 2.67s\n",
      "170:\tlearn: 0.2324232\ttotal: 550ms\tremaining: 2.67s\n",
      "171:\tlearn: 0.2316873\ttotal: 553ms\tremaining: 2.66s\n",
      "172:\tlearn: 0.2312091\ttotal: 554ms\tremaining: 2.65s\n",
      "173:\tlearn: 0.2305707\ttotal: 557ms\tremaining: 2.64s\n",
      "174:\tlearn: 0.2296917\ttotal: 559ms\tremaining: 2.64s\n",
      "175:\tlearn: 0.2290157\ttotal: 562ms\tremaining: 2.63s\n",
      "176:\tlearn: 0.2282241\ttotal: 564ms\tremaining: 2.62s\n",
      "177:\tlearn: 0.2274851\ttotal: 567ms\tremaining: 2.62s\n",
      "178:\tlearn: 0.2268809\ttotal: 570ms\tremaining: 2.61s\n",
      "179:\tlearn: 0.2261207\ttotal: 573ms\tremaining: 2.61s\n",
      "180:\tlearn: 0.2254307\ttotal: 575ms\tremaining: 2.6s\n",
      "181:\tlearn: 0.2248220\ttotal: 578ms\tremaining: 2.6s\n",
      "182:\tlearn: 0.2241509\ttotal: 580ms\tremaining: 2.59s\n",
      "183:\tlearn: 0.2234283\ttotal: 582ms\tremaining: 2.58s\n",
      "184:\tlearn: 0.2229786\ttotal: 585ms\tremaining: 2.58s\n",
      "185:\tlearn: 0.2224376\ttotal: 587ms\tremaining: 2.57s\n",
      "186:\tlearn: 0.2218874\ttotal: 590ms\tremaining: 2.56s\n",
      "187:\tlearn: 0.2210438\ttotal: 592ms\tremaining: 2.56s\n",
      "188:\tlearn: 0.2204847\ttotal: 594ms\tremaining: 2.55s\n",
      "189:\tlearn: 0.2199524\ttotal: 596ms\tremaining: 2.54s\n",
      "190:\tlearn: 0.2192824\ttotal: 599ms\tremaining: 2.54s\n",
      "191:\tlearn: 0.2188519\ttotal: 601ms\tremaining: 2.53s\n",
      "192:\tlearn: 0.2181681\ttotal: 604ms\tremaining: 2.52s\n",
      "193:\tlearn: 0.2176793\ttotal: 607ms\tremaining: 2.52s\n",
      "194:\tlearn: 0.2171108\ttotal: 609ms\tremaining: 2.51s\n",
      "195:\tlearn: 0.2164096\ttotal: 612ms\tremaining: 2.51s\n",
      "196:\tlearn: 0.2159676\ttotal: 615ms\tremaining: 2.51s\n",
      "197:\tlearn: 0.2151898\ttotal: 617ms\tremaining: 2.5s\n",
      "198:\tlearn: 0.2143280\ttotal: 620ms\tremaining: 2.49s\n",
      "199:\tlearn: 0.2134653\ttotal: 622ms\tremaining: 2.49s\n",
      "200:\tlearn: 0.2126028\ttotal: 625ms\tremaining: 2.48s\n",
      "201:\tlearn: 0.2121628\ttotal: 627ms\tremaining: 2.48s\n",
      "202:\tlearn: 0.2113835\ttotal: 630ms\tremaining: 2.47s\n",
      "203:\tlearn: 0.2108970\ttotal: 632ms\tremaining: 2.47s\n",
      "204:\tlearn: 0.2101616\ttotal: 634ms\tremaining: 2.46s\n",
      "205:\tlearn: 0.2094709\ttotal: 637ms\tremaining: 2.46s\n",
      "206:\tlearn: 0.2089474\ttotal: 640ms\tremaining: 2.45s\n",
      "207:\tlearn: 0.2085845\ttotal: 641ms\tremaining: 2.44s\n",
      "208:\tlearn: 0.2081473\ttotal: 644ms\tremaining: 2.44s\n",
      "209:\tlearn: 0.2073590\ttotal: 647ms\tremaining: 2.43s\n",
      "210:\tlearn: 0.2068693\ttotal: 649ms\tremaining: 2.43s\n",
      "211:\tlearn: 0.2063693\ttotal: 652ms\tremaining: 2.42s\n",
      "212:\tlearn: 0.2058253\ttotal: 653ms\tremaining: 2.41s\n",
      "213:\tlearn: 0.2051621\ttotal: 656ms\tremaining: 2.41s\n",
      "214:\tlearn: 0.2046620\ttotal: 659ms\tremaining: 2.4s\n",
      "215:\tlearn: 0.2039000\ttotal: 661ms\tremaining: 2.4s\n",
      "216:\tlearn: 0.2032230\ttotal: 664ms\tremaining: 2.39s\n",
      "217:\tlearn: 0.2024518\ttotal: 666ms\tremaining: 2.39s\n",
      "218:\tlearn: 0.2020230\ttotal: 669ms\tremaining: 2.39s\n",
      "219:\tlearn: 0.2013824\ttotal: 671ms\tremaining: 2.38s\n"
     ]
    },
    {
     "name": "stdout",
     "output_type": "stream",
     "text": [
      "220:\tlearn: 0.2009819\ttotal: 675ms\tremaining: 2.38s\n",
      "221:\tlearn: 0.2006847\ttotal: 677ms\tremaining: 2.37s\n",
      "222:\tlearn: 0.2001821\ttotal: 680ms\tremaining: 2.37s\n",
      "223:\tlearn: 0.1996373\ttotal: 682ms\tremaining: 2.36s\n",
      "224:\tlearn: 0.1989301\ttotal: 684ms\tremaining: 2.36s\n",
      "225:\tlearn: 0.1984140\ttotal: 686ms\tremaining: 2.35s\n",
      "226:\tlearn: 0.1981279\ttotal: 688ms\tremaining: 2.34s\n",
      "227:\tlearn: 0.1975149\ttotal: 690ms\tremaining: 2.34s\n",
      "228:\tlearn: 0.1970026\ttotal: 692ms\tremaining: 2.33s\n",
      "229:\tlearn: 0.1963257\ttotal: 694ms\tremaining: 2.32s\n",
      "230:\tlearn: 0.1955115\ttotal: 696ms\tremaining: 2.32s\n",
      "231:\tlearn: 0.1949612\ttotal: 698ms\tremaining: 2.31s\n",
      "232:\tlearn: 0.1944019\ttotal: 700ms\tremaining: 2.3s\n",
      "233:\tlearn: 0.1936877\ttotal: 703ms\tremaining: 2.3s\n",
      "234:\tlearn: 0.1930587\ttotal: 705ms\tremaining: 2.3s\n",
      "235:\tlearn: 0.1924748\ttotal: 708ms\tremaining: 2.29s\n",
      "236:\tlearn: 0.1918835\ttotal: 710ms\tremaining: 2.28s\n",
      "237:\tlearn: 0.1913093\ttotal: 712ms\tremaining: 2.28s\n",
      "238:\tlearn: 0.1909090\ttotal: 715ms\tremaining: 2.27s\n",
      "239:\tlearn: 0.1902887\ttotal: 717ms\tremaining: 2.27s\n",
      "240:\tlearn: 0.1896218\ttotal: 718ms\tremaining: 2.26s\n",
      "241:\tlearn: 0.1887908\ttotal: 721ms\tremaining: 2.26s\n",
      "242:\tlearn: 0.1881223\ttotal: 723ms\tremaining: 2.25s\n",
      "243:\tlearn: 0.1875625\ttotal: 725ms\tremaining: 2.25s\n",
      "244:\tlearn: 0.1870699\ttotal: 727ms\tremaining: 2.24s\n",
      "245:\tlearn: 0.1867636\ttotal: 729ms\tremaining: 2.23s\n",
      "246:\tlearn: 0.1863619\ttotal: 730ms\tremaining: 2.23s\n",
      "247:\tlearn: 0.1860381\ttotal: 733ms\tremaining: 2.22s\n",
      "248:\tlearn: 0.1857042\ttotal: 735ms\tremaining: 2.22s\n",
      "249:\tlearn: 0.1854487\ttotal: 737ms\tremaining: 2.21s\n",
      "250:\tlearn: 0.1849776\ttotal: 739ms\tremaining: 2.2s\n",
      "251:\tlearn: 0.1843771\ttotal: 741ms\tremaining: 2.2s\n",
      "252:\tlearn: 0.1841127\ttotal: 744ms\tremaining: 2.19s\n",
      "253:\tlearn: 0.1837275\ttotal: 747ms\tremaining: 2.19s\n",
      "254:\tlearn: 0.1831365\ttotal: 749ms\tremaining: 2.19s\n",
      "255:\tlearn: 0.1828495\ttotal: 751ms\tremaining: 2.18s\n",
      "256:\tlearn: 0.1826161\ttotal: 755ms\tremaining: 2.18s\n",
      "257:\tlearn: 0.1820050\ttotal: 758ms\tremaining: 2.18s\n",
      "258:\tlearn: 0.1815274\ttotal: 760ms\tremaining: 2.17s\n",
      "259:\tlearn: 0.1811954\ttotal: 763ms\tremaining: 2.17s\n",
      "260:\tlearn: 0.1806738\ttotal: 766ms\tremaining: 2.17s\n",
      "261:\tlearn: 0.1799510\ttotal: 768ms\tremaining: 2.16s\n",
      "262:\tlearn: 0.1794572\ttotal: 770ms\tremaining: 2.16s\n",
      "263:\tlearn: 0.1791996\ttotal: 772ms\tremaining: 2.15s\n",
      "264:\tlearn: 0.1787452\ttotal: 773ms\tremaining: 2.14s\n",
      "265:\tlearn: 0.1784757\ttotal: 775ms\tremaining: 2.14s\n",
      "266:\tlearn: 0.1778858\ttotal: 777ms\tremaining: 2.13s\n",
      "267:\tlearn: 0.1776309\ttotal: 778ms\tremaining: 2.13s\n",
      "268:\tlearn: 0.1773019\ttotal: 781ms\tremaining: 2.12s\n",
      "269:\tlearn: 0.1767260\ttotal: 782ms\tremaining: 2.12s\n",
      "270:\tlearn: 0.1760290\ttotal: 785ms\tremaining: 2.11s\n",
      "271:\tlearn: 0.1756126\ttotal: 787ms\tremaining: 2.11s\n",
      "272:\tlearn: 0.1751318\ttotal: 791ms\tremaining: 2.11s\n",
      "273:\tlearn: 0.1746452\ttotal: 793ms\tremaining: 2.1s\n",
      "274:\tlearn: 0.1740390\ttotal: 796ms\tremaining: 2.1s\n",
      "275:\tlearn: 0.1734442\ttotal: 798ms\tremaining: 2.09s\n",
      "276:\tlearn: 0.1730286\ttotal: 800ms\tremaining: 2.09s\n",
      "277:\tlearn: 0.1727463\ttotal: 803ms\tremaining: 2.08s\n",
      "278:\tlearn: 0.1721436\ttotal: 805ms\tremaining: 2.08s\n",
      "279:\tlearn: 0.1715977\ttotal: 808ms\tremaining: 2.08s\n",
      "280:\tlearn: 0.1709407\ttotal: 811ms\tremaining: 2.08s\n",
      "281:\tlearn: 0.1705847\ttotal: 814ms\tremaining: 2.07s\n",
      "282:\tlearn: 0.1702403\ttotal: 816ms\tremaining: 2.07s\n",
      "283:\tlearn: 0.1699105\ttotal: 818ms\tremaining: 2.06s\n",
      "284:\tlearn: 0.1693656\ttotal: 821ms\tremaining: 2.06s\n",
      "285:\tlearn: 0.1690826\ttotal: 822ms\tremaining: 2.05s\n",
      "286:\tlearn: 0.1684466\ttotal: 826ms\tremaining: 2.05s\n",
      "287:\tlearn: 0.1679837\ttotal: 828ms\tremaining: 2.05s\n",
      "288:\tlearn: 0.1675073\ttotal: 831ms\tremaining: 2.04s\n",
      "289:\tlearn: 0.1669303\ttotal: 834ms\tremaining: 2.04s\n",
      "290:\tlearn: 0.1664365\ttotal: 837ms\tremaining: 2.04s\n",
      "291:\tlearn: 0.1660749\ttotal: 839ms\tremaining: 2.03s\n",
      "292:\tlearn: 0.1658893\ttotal: 841ms\tremaining: 2.03s\n",
      "293:\tlearn: 0.1654626\ttotal: 842ms\tremaining: 2.02s\n",
      "294:\tlearn: 0.1649167\ttotal: 845ms\tremaining: 2.02s\n",
      "295:\tlearn: 0.1643548\ttotal: 848ms\tremaining: 2.02s\n",
      "296:\tlearn: 0.1638381\ttotal: 850ms\tremaining: 2.01s\n"
     ]
    },
    {
     "name": "stdout",
     "output_type": "stream",
     "text": [
      "297:\tlearn: 0.1634302\ttotal: 853ms\tremaining: 2.01s\n",
      "298:\tlearn: 0.1629303\ttotal: 856ms\tremaining: 2.01s\n",
      "299:\tlearn: 0.1624799\ttotal: 858ms\tremaining: 2s\n",
      "300:\tlearn: 0.1622274\ttotal: 860ms\tremaining: 2s\n",
      "301:\tlearn: 0.1617838\ttotal: 863ms\tremaining: 1.99s\n",
      "302:\tlearn: 0.1615299\ttotal: 866ms\tremaining: 1.99s\n",
      "303:\tlearn: 0.1610100\ttotal: 869ms\tremaining: 1.99s\n",
      "304:\tlearn: 0.1607355\ttotal: 871ms\tremaining: 1.98s\n",
      "305:\tlearn: 0.1604270\ttotal: 874ms\tremaining: 1.98s\n",
      "306:\tlearn: 0.1601115\ttotal: 877ms\tremaining: 1.98s\n",
      "307:\tlearn: 0.1597604\ttotal: 879ms\tremaining: 1.98s\n",
      "308:\tlearn: 0.1591350\ttotal: 884ms\tremaining: 1.98s\n",
      "309:\tlearn: 0.1586840\ttotal: 888ms\tremaining: 1.98s\n",
      "310:\tlearn: 0.1582144\ttotal: 892ms\tremaining: 1.98s\n",
      "311:\tlearn: 0.1578742\ttotal: 894ms\tremaining: 1.97s\n",
      "312:\tlearn: 0.1576370\ttotal: 897ms\tremaining: 1.97s\n",
      "313:\tlearn: 0.1572027\ttotal: 899ms\tremaining: 1.96s\n",
      "314:\tlearn: 0.1568296\ttotal: 902ms\tremaining: 1.96s\n",
      "315:\tlearn: 0.1564520\ttotal: 904ms\tremaining: 1.96s\n",
      "316:\tlearn: 0.1560247\ttotal: 907ms\tremaining: 1.95s\n",
      "317:\tlearn: 0.1555000\ttotal: 910ms\tremaining: 1.95s\n",
      "318:\tlearn: 0.1550502\ttotal: 912ms\tremaining: 1.95s\n",
      "319:\tlearn: 0.1547953\ttotal: 922ms\tremaining: 1.96s\n",
      "320:\tlearn: 0.1544048\ttotal: 931ms\tremaining: 1.97s\n",
      "321:\tlearn: 0.1541669\ttotal: 934ms\tremaining: 1.97s\n",
      "322:\tlearn: 0.1537873\ttotal: 937ms\tremaining: 1.96s\n",
      "323:\tlearn: 0.1535369\ttotal: 939ms\tremaining: 1.96s\n",
      "324:\tlearn: 0.1534148\ttotal: 942ms\tremaining: 1.96s\n",
      "325:\tlearn: 0.1530186\ttotal: 944ms\tremaining: 1.95s\n",
      "326:\tlearn: 0.1525228\ttotal: 947ms\tremaining: 1.95s\n",
      "327:\tlearn: 0.1520760\ttotal: 949ms\tremaining: 1.94s\n",
      "328:\tlearn: 0.1517728\ttotal: 951ms\tremaining: 1.94s\n",
      "329:\tlearn: 0.1515124\ttotal: 954ms\tremaining: 1.94s\n",
      "330:\tlearn: 0.1511832\ttotal: 956ms\tremaining: 1.93s\n",
      "331:\tlearn: 0.1510446\ttotal: 959ms\tremaining: 1.93s\n",
      "332:\tlearn: 0.1506927\ttotal: 961ms\tremaining: 1.93s\n",
      "333:\tlearn: 0.1502403\ttotal: 964ms\tremaining: 1.92s\n",
      "334:\tlearn: 0.1499193\ttotal: 967ms\tremaining: 1.92s\n",
      "335:\tlearn: 0.1496773\ttotal: 969ms\tremaining: 1.91s\n",
      "336:\tlearn: 0.1494013\ttotal: 973ms\tremaining: 1.91s\n",
      "337:\tlearn: 0.1490167\ttotal: 975ms\tremaining: 1.91s\n",
      "338:\tlearn: 0.1485903\ttotal: 978ms\tremaining: 1.91s\n",
      "339:\tlearn: 0.1483904\ttotal: 981ms\tremaining: 1.9s\n",
      "340:\tlearn: 0.1482387\ttotal: 983ms\tremaining: 1.9s\n",
      "341:\tlearn: 0.1479392\ttotal: 985ms\tremaining: 1.9s\n",
      "342:\tlearn: 0.1475981\ttotal: 988ms\tremaining: 1.89s\n",
      "343:\tlearn: 0.1474259\ttotal: 991ms\tremaining: 1.89s\n",
      "344:\tlearn: 0.1471380\ttotal: 993ms\tremaining: 1.89s\n",
      "345:\tlearn: 0.1467756\ttotal: 996ms\tremaining: 1.88s\n",
      "346:\tlearn: 0.1466566\ttotal: 998ms\tremaining: 1.88s\n",
      "347:\tlearn: 0.1463848\ttotal: 1s\tremaining: 1.87s\n",
      "348:\tlearn: 0.1461036\ttotal: 1s\tremaining: 1.87s\n",
      "349:\tlearn: 0.1457475\ttotal: 1s\tremaining: 1.87s\n",
      "350:\tlearn: 0.1455101\ttotal: 1.01s\tremaining: 1.86s\n",
      "351:\tlearn: 0.1451376\ttotal: 1.02s\tremaining: 1.87s\n",
      "352:\tlearn: 0.1446543\ttotal: 1.02s\tremaining: 1.87s\n",
      "353:\tlearn: 0.1443212\ttotal: 1.02s\tremaining: 1.87s\n"
     ]
    },
    {
     "name": "stdout",
     "output_type": "stream",
     "text": [
      "354:\tlearn: 0.1439762\ttotal: 1.03s\tremaining: 1.86s\n",
      "355:\tlearn: 0.1435655\ttotal: 1.03s\tremaining: 1.86s\n",
      "356:\tlearn: 0.1432770\ttotal: 1.03s\tremaining: 1.86s\n",
      "357:\tlearn: 0.1429111\ttotal: 1.03s\tremaining: 1.85s\n",
      "358:\tlearn: 0.1426061\ttotal: 1.04s\tremaining: 1.85s\n",
      "359:\tlearn: 0.1422270\ttotal: 1.04s\tremaining: 1.85s\n",
      "360:\tlearn: 0.1419408\ttotal: 1.04s\tremaining: 1.84s\n",
      "361:\tlearn: 0.1418022\ttotal: 1.04s\tremaining: 1.84s\n",
      "362:\tlearn: 0.1415518\ttotal: 1.05s\tremaining: 1.84s\n",
      "363:\tlearn: 0.1411658\ttotal: 1.05s\tremaining: 1.84s\n",
      "364:\tlearn: 0.1408955\ttotal: 1.06s\tremaining: 1.84s\n",
      "365:\tlearn: 0.1405796\ttotal: 1.06s\tremaining: 1.83s\n",
      "366:\tlearn: 0.1403145\ttotal: 1.06s\tremaining: 1.83s\n",
      "367:\tlearn: 0.1400867\ttotal: 1.06s\tremaining: 1.83s\n",
      "368:\tlearn: 0.1397088\ttotal: 1.07s\tremaining: 1.82s\n",
      "369:\tlearn: 0.1396247\ttotal: 1.07s\tremaining: 1.82s\n",
      "370:\tlearn: 0.1394518\ttotal: 1.07s\tremaining: 1.81s\n",
      "371:\tlearn: 0.1391166\ttotal: 1.07s\tremaining: 1.81s\n",
      "372:\tlearn: 0.1388824\ttotal: 1.08s\tremaining: 1.81s\n",
      "373:\tlearn: 0.1386206\ttotal: 1.08s\tremaining: 1.8s\n",
      "374:\tlearn: 0.1382388\ttotal: 1.08s\tremaining: 1.8s\n",
      "375:\tlearn: 0.1378898\ttotal: 1.08s\tremaining: 1.8s\n",
      "376:\tlearn: 0.1374851\ttotal: 1.09s\tremaining: 1.79s\n",
      "377:\tlearn: 0.1371519\ttotal: 1.09s\tremaining: 1.79s\n",
      "378:\tlearn: 0.1367691\ttotal: 1.09s\tremaining: 1.79s\n",
      "379:\tlearn: 0.1363942\ttotal: 1.09s\tremaining: 1.78s\n",
      "380:\tlearn: 0.1360863\ttotal: 1.09s\tremaining: 1.78s\n",
      "381:\tlearn: 0.1357481\ttotal: 1.1s\tremaining: 1.78s\n",
      "382:\tlearn: 0.1354327\ttotal: 1.1s\tremaining: 1.77s\n",
      "383:\tlearn: 0.1350584\ttotal: 1.1s\tremaining: 1.77s\n",
      "384:\tlearn: 0.1347108\ttotal: 1.1s\tremaining: 1.76s\n",
      "385:\tlearn: 0.1343733\ttotal: 1.11s\tremaining: 1.76s\n",
      "386:\tlearn: 0.1340090\ttotal: 1.11s\tremaining: 1.76s\n",
      "387:\tlearn: 0.1337205\ttotal: 1.11s\tremaining: 1.75s\n",
      "388:\tlearn: 0.1333837\ttotal: 1.11s\tremaining: 1.75s\n",
      "389:\tlearn: 0.1331038\ttotal: 1.12s\tremaining: 1.75s\n",
      "390:\tlearn: 0.1327134\ttotal: 1.12s\tremaining: 1.74s\n",
      "391:\tlearn: 0.1323991\ttotal: 1.12s\tremaining: 1.74s\n",
      "392:\tlearn: 0.1322953\ttotal: 1.12s\tremaining: 1.73s\n",
      "393:\tlearn: 0.1320553\ttotal: 1.12s\tremaining: 1.73s\n",
      "394:\tlearn: 0.1318348\ttotal: 1.13s\tremaining: 1.73s\n",
      "395:\tlearn: 0.1314835\ttotal: 1.13s\tremaining: 1.72s\n",
      "396:\tlearn: 0.1312414\ttotal: 1.13s\tremaining: 1.72s\n",
      "397:\tlearn: 0.1309950\ttotal: 1.14s\tremaining: 1.72s\n",
      "398:\tlearn: 0.1308823\ttotal: 1.14s\tremaining: 1.71s\n",
      "399:\tlearn: 0.1305991\ttotal: 1.14s\tremaining: 1.71s\n",
      "400:\tlearn: 0.1302891\ttotal: 1.14s\tremaining: 1.71s\n",
      "401:\tlearn: 0.1299204\ttotal: 1.15s\tremaining: 1.7s\n",
      "402:\tlearn: 0.1295018\ttotal: 1.15s\tremaining: 1.7s\n",
      "403:\tlearn: 0.1292695\ttotal: 1.15s\tremaining: 1.7s\n",
      "404:\tlearn: 0.1290041\ttotal: 1.15s\tremaining: 1.69s\n",
      "405:\tlearn: 0.1286827\ttotal: 1.16s\tremaining: 1.69s\n",
      "406:\tlearn: 0.1283789\ttotal: 1.16s\tremaining: 1.69s\n",
      "407:\tlearn: 0.1280472\ttotal: 1.16s\tremaining: 1.68s\n",
      "408:\tlearn: 0.1277734\ttotal: 1.16s\tremaining: 1.68s\n",
      "409:\tlearn: 0.1274909\ttotal: 1.17s\tremaining: 1.68s\n",
      "410:\tlearn: 0.1270914\ttotal: 1.17s\tremaining: 1.67s\n",
      "411:\tlearn: 0.1268019\ttotal: 1.17s\tremaining: 1.67s\n",
      "412:\tlearn: 0.1264901\ttotal: 1.17s\tremaining: 1.67s\n",
      "413:\tlearn: 0.1261917\ttotal: 1.18s\tremaining: 1.67s\n",
      "414:\tlearn: 0.1259452\ttotal: 1.18s\tremaining: 1.66s\n",
      "415:\tlearn: 0.1256934\ttotal: 1.18s\tremaining: 1.66s\n",
      "416:\tlearn: 0.1254834\ttotal: 1.18s\tremaining: 1.66s\n",
      "417:\tlearn: 0.1251550\ttotal: 1.19s\tremaining: 1.65s\n",
      "418:\tlearn: 0.1249401\ttotal: 1.19s\tremaining: 1.65s\n",
      "419:\tlearn: 0.1247915\ttotal: 1.19s\tremaining: 1.65s\n",
      "420:\tlearn: 0.1244811\ttotal: 1.2s\tremaining: 1.65s\n"
     ]
    },
    {
     "name": "stdout",
     "output_type": "stream",
     "text": [
      "421:\tlearn: 0.1241741\ttotal: 1.2s\tremaining: 1.65s\n",
      "422:\tlearn: 0.1239139\ttotal: 1.21s\tremaining: 1.65s\n",
      "423:\tlearn: 0.1237284\ttotal: 1.21s\tremaining: 1.65s\n",
      "424:\tlearn: 0.1234363\ttotal: 1.21s\tremaining: 1.64s\n",
      "425:\tlearn: 0.1231212\ttotal: 1.22s\tremaining: 1.64s\n",
      "426:\tlearn: 0.1229517\ttotal: 1.22s\tremaining: 1.64s\n",
      "427:\tlearn: 0.1226496\ttotal: 1.23s\tremaining: 1.64s\n",
      "428:\tlearn: 0.1223765\ttotal: 1.25s\tremaining: 1.66s\n",
      "429:\tlearn: 0.1221214\ttotal: 1.25s\tremaining: 1.66s\n",
      "430:\tlearn: 0.1219674\ttotal: 1.33s\tremaining: 1.76s\n",
      "431:\tlearn: 0.1217893\ttotal: 1.33s\tremaining: 1.76s\n",
      "432:\tlearn: 0.1215727\ttotal: 1.34s\tremaining: 1.75s\n",
      "433:\tlearn: 0.1212379\ttotal: 1.34s\tremaining: 1.75s\n",
      "434:\tlearn: 0.1208933\ttotal: 1.34s\tremaining: 1.75s\n",
      "435:\tlearn: 0.1205558\ttotal: 1.35s\tremaining: 1.74s\n",
      "436:\tlearn: 0.1203053\ttotal: 1.35s\tremaining: 1.74s\n",
      "437:\tlearn: 0.1201548\ttotal: 1.35s\tremaining: 1.74s\n"
     ]
    },
    {
     "name": "stdout",
     "output_type": "stream",
     "text": [
      "438:\tlearn: 0.1199085\ttotal: 1.36s\tremaining: 1.74s\n",
      "439:\tlearn: 0.1196419\ttotal: 1.37s\tremaining: 1.74s\n",
      "440:\tlearn: 0.1192780\ttotal: 1.38s\tremaining: 1.75s\n",
      "441:\tlearn: 0.1191061\ttotal: 1.38s\tremaining: 1.74s\n",
      "442:\tlearn: 0.1189757\ttotal: 1.38s\tremaining: 1.74s\n",
      "443:\tlearn: 0.1188164\ttotal: 1.39s\tremaining: 1.74s\n",
      "444:\tlearn: 0.1185216\ttotal: 1.39s\tremaining: 1.73s\n",
      "445:\tlearn: 0.1183205\ttotal: 1.39s\tremaining: 1.73s\n",
      "446:\tlearn: 0.1180055\ttotal: 1.39s\tremaining: 1.73s\n",
      "447:\tlearn: 0.1176994\ttotal: 1.4s\tremaining: 1.72s\n",
      "448:\tlearn: 0.1174688\ttotal: 1.4s\tremaining: 1.72s\n",
      "449:\tlearn: 0.1172888\ttotal: 1.4s\tremaining: 1.71s\n",
      "450:\tlearn: 0.1171364\ttotal: 1.41s\tremaining: 1.71s\n",
      "451:\tlearn: 0.1167942\ttotal: 1.41s\tremaining: 1.71s\n",
      "452:\tlearn: 0.1165063\ttotal: 1.41s\tremaining: 1.7s\n",
      "453:\tlearn: 0.1163079\ttotal: 1.41s\tremaining: 1.7s\n",
      "454:\tlearn: 0.1160621\ttotal: 1.42s\tremaining: 1.7s\n",
      "455:\tlearn: 0.1159187\ttotal: 1.43s\tremaining: 1.7s\n",
      "456:\tlearn: 0.1157296\ttotal: 1.43s\tremaining: 1.7s\n",
      "457:\tlearn: 0.1155315\ttotal: 1.43s\tremaining: 1.69s\n",
      "458:\tlearn: 0.1154756\ttotal: 1.43s\tremaining: 1.69s\n",
      "459:\tlearn: 0.1153138\ttotal: 1.44s\tremaining: 1.69s\n",
      "460:\tlearn: 0.1151192\ttotal: 1.44s\tremaining: 1.68s\n",
      "461:\tlearn: 0.1148399\ttotal: 1.44s\tremaining: 1.68s\n",
      "462:\tlearn: 0.1147016\ttotal: 1.44s\tremaining: 1.68s\n",
      "463:\tlearn: 0.1146472\ttotal: 1.45s\tremaining: 1.67s\n",
      "464:\tlearn: 0.1144298\ttotal: 1.45s\tremaining: 1.67s\n",
      "465:\tlearn: 0.1141868\ttotal: 1.45s\tremaining: 1.67s\n",
      "466:\tlearn: 0.1139254\ttotal: 1.46s\tremaining: 1.66s\n",
      "467:\tlearn: 0.1137303\ttotal: 1.46s\tremaining: 1.66s\n",
      "468:\tlearn: 0.1136115\ttotal: 1.46s\tremaining: 1.66s\n",
      "469:\tlearn: 0.1132608\ttotal: 1.47s\tremaining: 1.65s\n",
      "470:\tlearn: 0.1131189\ttotal: 1.47s\tremaining: 1.65s\n",
      "471:\tlearn: 0.1129807\ttotal: 1.47s\tremaining: 1.65s\n",
      "472:\tlearn: 0.1128240\ttotal: 1.47s\tremaining: 1.64s\n",
      "473:\tlearn: 0.1125320\ttotal: 1.48s\tremaining: 1.64s\n",
      "474:\tlearn: 0.1123188\ttotal: 1.48s\tremaining: 1.64s\n",
      "475:\tlearn: 0.1120282\ttotal: 1.48s\tremaining: 1.63s\n",
      "476:\tlearn: 0.1118925\ttotal: 1.48s\tremaining: 1.63s\n",
      "477:\tlearn: 0.1116892\ttotal: 1.49s\tremaining: 1.62s\n",
      "478:\tlearn: 0.1114319\ttotal: 1.49s\tremaining: 1.62s\n",
      "479:\tlearn: 0.1112918\ttotal: 1.49s\tremaining: 1.62s\n",
      "480:\tlearn: 0.1112429\ttotal: 1.5s\tremaining: 1.61s\n",
      "481:\tlearn: 0.1111813\ttotal: 1.5s\tremaining: 1.61s\n",
      "482:\tlearn: 0.1109369\ttotal: 1.5s\tremaining: 1.61s\n",
      "483:\tlearn: 0.1107787\ttotal: 1.5s\tremaining: 1.6s\n",
      "484:\tlearn: 0.1105090\ttotal: 1.51s\tremaining: 1.6s\n",
      "485:\tlearn: 0.1102858\ttotal: 1.51s\tremaining: 1.6s\n",
      "486:\tlearn: 0.1101028\ttotal: 1.52s\tremaining: 1.6s\n"
     ]
    },
    {
     "name": "stdout",
     "output_type": "stream",
     "text": [
      "487:\tlearn: 0.1098206\ttotal: 1.52s\tremaining: 1.6s\n",
      "488:\tlearn: 0.1095846\ttotal: 1.53s\tremaining: 1.6s\n",
      "489:\tlearn: 0.1094428\ttotal: 1.53s\tremaining: 1.59s\n",
      "490:\tlearn: 0.1093512\ttotal: 1.53s\tremaining: 1.59s\n",
      "491:\tlearn: 0.1092190\ttotal: 1.54s\tremaining: 1.59s\n",
      "492:\tlearn: 0.1090430\ttotal: 1.54s\tremaining: 1.58s\n",
      "493:\tlearn: 0.1088559\ttotal: 1.54s\tremaining: 1.58s\n",
      "494:\tlearn: 0.1085829\ttotal: 1.54s\tremaining: 1.58s\n",
      "495:\tlearn: 0.1084684\ttotal: 1.55s\tremaining: 1.57s\n",
      "496:\tlearn: 0.1083193\ttotal: 1.55s\tremaining: 1.57s\n",
      "497:\tlearn: 0.1081980\ttotal: 1.55s\tremaining: 1.56s\n",
      "498:\tlearn: 0.1081037\ttotal: 1.55s\tremaining: 1.56s\n",
      "499:\tlearn: 0.1078928\ttotal: 1.56s\tremaining: 1.56s\n",
      "500:\tlearn: 0.1075808\ttotal: 1.56s\tremaining: 1.55s\n",
      "501:\tlearn: 0.1073374\ttotal: 1.56s\tremaining: 1.55s\n",
      "502:\tlearn: 0.1072720\ttotal: 1.56s\tremaining: 1.55s\n",
      "503:\tlearn: 0.1071100\ttotal: 1.57s\tremaining: 1.54s\n",
      "504:\tlearn: 0.1068562\ttotal: 1.57s\tremaining: 1.54s\n",
      "505:\tlearn: 0.1067150\ttotal: 1.57s\tremaining: 1.54s\n",
      "506:\tlearn: 0.1065063\ttotal: 1.59s\tremaining: 1.54s\n",
      "507:\tlearn: 0.1062912\ttotal: 1.59s\tremaining: 1.54s\n",
      "508:\tlearn: 0.1061219\ttotal: 1.59s\tremaining: 1.54s\n",
      "509:\tlearn: 0.1059293\ttotal: 1.6s\tremaining: 1.53s\n",
      "510:\tlearn: 0.1057293\ttotal: 1.6s\tremaining: 1.53s\n",
      "511:\tlearn: 0.1055185\ttotal: 1.6s\tremaining: 1.53s\n",
      "512:\tlearn: 0.1052590\ttotal: 1.6s\tremaining: 1.52s\n",
      "513:\tlearn: 0.1050000\ttotal: 1.61s\tremaining: 1.52s\n",
      "514:\tlearn: 0.1049715\ttotal: 1.61s\tremaining: 1.51s\n",
      "515:\tlearn: 0.1048939\ttotal: 1.61s\tremaining: 1.51s\n",
      "516:\tlearn: 0.1048049\ttotal: 1.61s\tremaining: 1.51s\n",
      "517:\tlearn: 0.1047208\ttotal: 1.62s\tremaining: 1.5s\n",
      "518:\tlearn: 0.1046314\ttotal: 1.62s\tremaining: 1.5s\n",
      "519:\tlearn: 0.1044620\ttotal: 1.63s\tremaining: 1.5s\n",
      "520:\tlearn: 0.1042898\ttotal: 1.63s\tremaining: 1.5s\n",
      "521:\tlearn: 0.1040703\ttotal: 1.63s\tremaining: 1.5s\n",
      "522:\tlearn: 0.1038205\ttotal: 1.64s\tremaining: 1.49s\n",
      "523:\tlearn: 0.1036533\ttotal: 1.64s\tremaining: 1.49s\n",
      "524:\tlearn: 0.1034032\ttotal: 1.64s\tremaining: 1.48s\n",
      "525:\tlearn: 0.1031693\ttotal: 1.64s\tremaining: 1.48s\n",
      "526:\tlearn: 0.1029585\ttotal: 1.64s\tremaining: 1.47s\n",
      "527:\tlearn: 0.1028289\ttotal: 1.64s\tremaining: 1.47s\n",
      "528:\tlearn: 0.1026073\ttotal: 1.65s\tremaining: 1.47s\n",
      "529:\tlearn: 0.1023891\ttotal: 1.65s\tremaining: 1.46s\n",
      "530:\tlearn: 0.1022335\ttotal: 1.65s\tremaining: 1.46s\n",
      "531:\tlearn: 0.1019607\ttotal: 1.65s\tremaining: 1.45s\n",
      "532:\tlearn: 0.1018137\ttotal: 1.65s\tremaining: 1.45s\n",
      "533:\tlearn: 0.1016467\ttotal: 1.65s\tremaining: 1.44s\n",
      "534:\tlearn: 0.1013539\ttotal: 1.66s\tremaining: 1.44s\n",
      "535:\tlearn: 0.1012558\ttotal: 1.66s\tremaining: 1.44s\n",
      "536:\tlearn: 0.1010933\ttotal: 1.66s\tremaining: 1.43s\n",
      "537:\tlearn: 0.1008407\ttotal: 1.66s\tremaining: 1.43s\n",
      "538:\tlearn: 0.1006488\ttotal: 1.67s\tremaining: 1.43s\n",
      "539:\tlearn: 0.1005323\ttotal: 1.67s\tremaining: 1.42s\n",
      "540:\tlearn: 0.1004710\ttotal: 1.67s\tremaining: 1.42s\n",
      "541:\tlearn: 0.1002476\ttotal: 1.68s\tremaining: 1.42s\n",
      "542:\tlearn: 0.1001363\ttotal: 1.68s\tremaining: 1.41s\n",
      "543:\tlearn: 0.0999847\ttotal: 1.68s\tremaining: 1.41s\n",
      "544:\tlearn: 0.0999372\ttotal: 1.68s\tremaining: 1.4s\n",
      "545:\tlearn: 0.0998447\ttotal: 1.68s\tremaining: 1.4s\n",
      "546:\tlearn: 0.0996453\ttotal: 1.69s\tremaining: 1.4s\n",
      "547:\tlearn: 0.0994011\ttotal: 1.69s\tremaining: 1.39s\n",
      "548:\tlearn: 0.0992380\ttotal: 1.69s\tremaining: 1.39s\n",
      "549:\tlearn: 0.0990268\ttotal: 1.69s\tremaining: 1.38s\n",
      "550:\tlearn: 0.0989043\ttotal: 1.69s\tremaining: 1.38s\n",
      "551:\tlearn: 0.0986598\ttotal: 1.69s\tremaining: 1.38s\n",
      "552:\tlearn: 0.0984432\ttotal: 1.7s\tremaining: 1.37s\n",
      "553:\tlearn: 0.0982327\ttotal: 1.7s\tremaining: 1.37s\n",
      "554:\tlearn: 0.0980222\ttotal: 1.7s\tremaining: 1.36s\n",
      "555:\tlearn: 0.0977568\ttotal: 1.7s\tremaining: 1.36s\n",
      "556:\tlearn: 0.0975749\ttotal: 1.7s\tremaining: 1.35s\n"
     ]
    },
    {
     "name": "stdout",
     "output_type": "stream",
     "text": [
      "557:\tlearn: 0.0974386\ttotal: 1.71s\tremaining: 1.35s\n",
      "558:\tlearn: 0.0973946\ttotal: 1.71s\tremaining: 1.35s\n",
      "559:\tlearn: 0.0972172\ttotal: 1.71s\tremaining: 1.35s\n",
      "560:\tlearn: 0.0970812\ttotal: 1.72s\tremaining: 1.34s\n",
      "561:\tlearn: 0.0968545\ttotal: 1.72s\tremaining: 1.34s\n",
      "562:\tlearn: 0.0966852\ttotal: 1.72s\tremaining: 1.33s\n",
      "563:\tlearn: 0.0966385\ttotal: 1.72s\tremaining: 1.33s\n",
      "564:\tlearn: 0.0965815\ttotal: 1.72s\tremaining: 1.32s\n",
      "565:\tlearn: 0.0964855\ttotal: 1.72s\tremaining: 1.32s\n",
      "566:\tlearn: 0.0962452\ttotal: 1.73s\tremaining: 1.32s\n",
      "567:\tlearn: 0.0961544\ttotal: 1.73s\tremaining: 1.31s\n",
      "568:\tlearn: 0.0959167\ttotal: 1.73s\tremaining: 1.31s\n",
      "569:\tlearn: 0.0956774\ttotal: 1.73s\tremaining: 1.31s\n",
      "570:\tlearn: 0.0955592\ttotal: 1.73s\tremaining: 1.3s\n",
      "571:\tlearn: 0.0954134\ttotal: 1.74s\tremaining: 1.3s\n",
      "572:\tlearn: 0.0953156\ttotal: 1.74s\tremaining: 1.3s\n",
      "573:\tlearn: 0.0950135\ttotal: 1.74s\tremaining: 1.29s\n",
      "574:\tlearn: 0.0947349\ttotal: 1.75s\tremaining: 1.29s\n",
      "575:\tlearn: 0.0947067\ttotal: 1.75s\tremaining: 1.29s\n",
      "576:\tlearn: 0.0946137\ttotal: 1.75s\tremaining: 1.28s\n",
      "577:\tlearn: 0.0945524\ttotal: 1.75s\tremaining: 1.28s\n",
      "578:\tlearn: 0.0943896\ttotal: 1.76s\tremaining: 1.28s\n",
      "579:\tlearn: 0.0942545\ttotal: 1.76s\tremaining: 1.27s\n",
      "580:\tlearn: 0.0940226\ttotal: 1.76s\tremaining: 1.27s\n",
      "581:\tlearn: 0.0939580\ttotal: 1.76s\tremaining: 1.27s\n",
      "582:\tlearn: 0.0937642\ttotal: 1.77s\tremaining: 1.26s\n",
      "583:\tlearn: 0.0936214\ttotal: 1.77s\tremaining: 1.26s\n",
      "584:\tlearn: 0.0934231\ttotal: 1.77s\tremaining: 1.26s\n",
      "585:\tlearn: 0.0932785\ttotal: 1.77s\tremaining: 1.25s\n",
      "586:\tlearn: 0.0930696\ttotal: 1.78s\tremaining: 1.25s\n",
      "587:\tlearn: 0.0928786\ttotal: 1.78s\tremaining: 1.25s\n",
      "588:\tlearn: 0.0926657\ttotal: 1.78s\tremaining: 1.24s\n",
      "589:\tlearn: 0.0924757\ttotal: 1.78s\tremaining: 1.24s\n",
      "590:\tlearn: 0.0922316\ttotal: 1.79s\tremaining: 1.24s\n",
      "591:\tlearn: 0.0920205\ttotal: 1.79s\tremaining: 1.23s\n",
      "592:\tlearn: 0.0919974\ttotal: 1.79s\tremaining: 1.23s\n",
      "593:\tlearn: 0.0918008\ttotal: 1.79s\tremaining: 1.23s\n",
      "594:\tlearn: 0.0916445\ttotal: 1.8s\tremaining: 1.22s\n",
      "595:\tlearn: 0.0915356\ttotal: 1.8s\tremaining: 1.22s\n",
      "596:\tlearn: 0.0914222\ttotal: 1.8s\tremaining: 1.22s\n",
      "597:\tlearn: 0.0912564\ttotal: 1.8s\tremaining: 1.21s\n",
      "598:\tlearn: 0.0910640\ttotal: 1.81s\tremaining: 1.21s\n",
      "599:\tlearn: 0.0909215\ttotal: 1.81s\tremaining: 1.21s\n",
      "600:\tlearn: 0.0906853\ttotal: 1.81s\tremaining: 1.2s\n",
      "601:\tlearn: 0.0905184\ttotal: 1.81s\tremaining: 1.2s\n",
      "602:\tlearn: 0.0903398\ttotal: 1.82s\tremaining: 1.2s\n",
      "603:\tlearn: 0.0901782\ttotal: 1.82s\tremaining: 1.19s\n",
      "604:\tlearn: 0.0899880\ttotal: 1.82s\tremaining: 1.19s\n",
      "605:\tlearn: 0.0897681\ttotal: 1.82s\tremaining: 1.19s\n",
      "606:\tlearn: 0.0896630\ttotal: 1.83s\tremaining: 1.18s\n",
      "607:\tlearn: 0.0896462\ttotal: 1.83s\tremaining: 1.18s\n",
      "608:\tlearn: 0.0895083\ttotal: 1.83s\tremaining: 1.18s\n",
      "609:\tlearn: 0.0893497\ttotal: 1.83s\tremaining: 1.17s\n",
      "610:\tlearn: 0.0892668\ttotal: 1.84s\tremaining: 1.17s\n",
      "611:\tlearn: 0.0892514\ttotal: 1.84s\tremaining: 1.17s\n",
      "612:\tlearn: 0.0890661\ttotal: 1.84s\tremaining: 1.16s\n",
      "613:\tlearn: 0.0888851\ttotal: 1.84s\tremaining: 1.16s\n",
      "614:\tlearn: 0.0887689\ttotal: 1.85s\tremaining: 1.16s\n",
      "615:\tlearn: 0.0886063\ttotal: 1.85s\tremaining: 1.15s\n",
      "616:\tlearn: 0.0885068\ttotal: 1.85s\tremaining: 1.15s\n",
      "617:\tlearn: 0.0882739\ttotal: 1.85s\tremaining: 1.15s\n",
      "618:\tlearn: 0.0881502\ttotal: 1.86s\tremaining: 1.14s\n",
      "619:\tlearn: 0.0879999\ttotal: 1.86s\tremaining: 1.14s\n",
      "620:\tlearn: 0.0878866\ttotal: 1.86s\tremaining: 1.14s\n",
      "621:\tlearn: 0.0877693\ttotal: 1.86s\tremaining: 1.13s\n",
      "622:\tlearn: 0.0876262\ttotal: 1.87s\tremaining: 1.13s\n",
      "623:\tlearn: 0.0875026\ttotal: 1.87s\tremaining: 1.13s\n",
      "624:\tlearn: 0.0873569\ttotal: 1.87s\tremaining: 1.12s\n",
      "625:\tlearn: 0.0871744\ttotal: 1.88s\tremaining: 1.12s\n",
      "626:\tlearn: 0.0871018\ttotal: 1.88s\tremaining: 1.12s\n",
      "627:\tlearn: 0.0869000\ttotal: 1.88s\tremaining: 1.11s\n",
      "628:\tlearn: 0.0867989\ttotal: 1.88s\tremaining: 1.11s\n"
     ]
    },
    {
     "name": "stdout",
     "output_type": "stream",
     "text": [
      "629:\tlearn: 0.0866406\ttotal: 1.89s\tremaining: 1.11s\n",
      "630:\tlearn: 0.0865188\ttotal: 1.89s\tremaining: 1.1s\n",
      "631:\tlearn: 0.0864836\ttotal: 1.89s\tremaining: 1.1s\n",
      "632:\tlearn: 0.0863582\ttotal: 1.9s\tremaining: 1.1s\n",
      "633:\tlearn: 0.0861755\ttotal: 1.9s\tremaining: 1.09s\n",
      "634:\tlearn: 0.0860345\ttotal: 1.9s\tremaining: 1.09s\n",
      "635:\tlearn: 0.0858956\ttotal: 1.9s\tremaining: 1.09s\n",
      "636:\tlearn: 0.0856392\ttotal: 1.91s\tremaining: 1.08s\n",
      "637:\tlearn: 0.0855021\ttotal: 1.91s\tremaining: 1.08s\n",
      "638:\tlearn: 0.0854363\ttotal: 1.91s\tremaining: 1.08s\n",
      "639:\tlearn: 0.0853410\ttotal: 1.91s\tremaining: 1.07s\n",
      "640:\tlearn: 0.0851630\ttotal: 1.91s\tremaining: 1.07s\n",
      "641:\tlearn: 0.0849848\ttotal: 1.92s\tremaining: 1.07s\n",
      "642:\tlearn: 0.0848010\ttotal: 1.92s\tremaining: 1.06s\n",
      "643:\tlearn: 0.0846246\ttotal: 1.92s\tremaining: 1.06s\n",
      "644:\tlearn: 0.0845411\ttotal: 1.93s\tremaining: 1.06s\n",
      "645:\tlearn: 0.0843816\ttotal: 1.93s\tremaining: 1.06s\n",
      "646:\tlearn: 0.0842376\ttotal: 1.93s\tremaining: 1.05s\n",
      "647:\tlearn: 0.0840632\ttotal: 1.93s\tremaining: 1.05s\n",
      "648:\tlearn: 0.0840155\ttotal: 1.94s\tremaining: 1.05s\n",
      "649:\tlearn: 0.0839149\ttotal: 1.94s\tremaining: 1.04s\n",
      "650:\tlearn: 0.0837541\ttotal: 1.94s\tremaining: 1.04s\n",
      "651:\tlearn: 0.0835835\ttotal: 1.94s\tremaining: 1.04s\n",
      "652:\tlearn: 0.0835136\ttotal: 1.95s\tremaining: 1.03s\n",
      "653:\tlearn: 0.0833734\ttotal: 1.95s\tremaining: 1.03s\n",
      "654:\tlearn: 0.0832235\ttotal: 1.95s\tremaining: 1.03s\n",
      "655:\tlearn: 0.0831254\ttotal: 1.95s\tremaining: 1.02s\n",
      "656:\tlearn: 0.0831068\ttotal: 1.96s\tremaining: 1.02s\n",
      "657:\tlearn: 0.0829347\ttotal: 1.96s\tremaining: 1.02s\n",
      "658:\tlearn: 0.0828456\ttotal: 1.96s\tremaining: 1.01s\n",
      "659:\tlearn: 0.0827157\ttotal: 1.96s\tremaining: 1.01s\n",
      "660:\tlearn: 0.0826196\ttotal: 1.96s\tremaining: 1.01s\n",
      "661:\tlearn: 0.0825270\ttotal: 1.97s\tremaining: 1s\n",
      "662:\tlearn: 0.0823932\ttotal: 1.97s\tremaining: 1s\n",
      "663:\tlearn: 0.0822075\ttotal: 1.97s\tremaining: 997ms\n",
      "664:\tlearn: 0.0820582\ttotal: 1.97s\tremaining: 993ms\n",
      "665:\tlearn: 0.0819006\ttotal: 1.97s\tremaining: 990ms\n",
      "666:\tlearn: 0.0817636\ttotal: 1.98s\tremaining: 986ms\n",
      "667:\tlearn: 0.0815721\ttotal: 1.98s\tremaining: 983ms\n",
      "668:\tlearn: 0.0814570\ttotal: 1.98s\tremaining: 979ms\n",
      "669:\tlearn: 0.0814146\ttotal: 1.98s\tremaining: 976ms\n",
      "670:\tlearn: 0.0813377\ttotal: 1.98s\tremaining: 972ms\n",
      "671:\tlearn: 0.0811488\ttotal: 1.98s\tremaining: 969ms\n",
      "672:\tlearn: 0.0809754\ttotal: 1.99s\tremaining: 965ms\n",
      "673:\tlearn: 0.0808276\ttotal: 1.99s\tremaining: 962ms\n",
      "674:\tlearn: 0.0807875\ttotal: 1.99s\tremaining: 958ms\n",
      "675:\tlearn: 0.0806716\ttotal: 1.99s\tremaining: 955ms\n",
      "676:\tlearn: 0.0805307\ttotal: 1.99s\tremaining: 952ms\n",
      "677:\tlearn: 0.0803635\ttotal: 2s\tremaining: 948ms\n",
      "678:\tlearn: 0.0802045\ttotal: 2s\tremaining: 945ms\n",
      "679:\tlearn: 0.0800106\ttotal: 2s\tremaining: 941ms\n",
      "680:\tlearn: 0.0799713\ttotal: 2s\tremaining: 938ms\n",
      "681:\tlearn: 0.0798056\ttotal: 2s\tremaining: 935ms\n",
      "682:\tlearn: 0.0796221\ttotal: 2.01s\tremaining: 931ms\n",
      "683:\tlearn: 0.0795409\ttotal: 2.01s\tremaining: 928ms\n",
      "684:\tlearn: 0.0794947\ttotal: 2.01s\tremaining: 925ms\n",
      "685:\tlearn: 0.0793165\ttotal: 2.01s\tremaining: 922ms\n",
      "686:\tlearn: 0.0793095\ttotal: 2.02s\tremaining: 918ms\n",
      "687:\tlearn: 0.0791361\ttotal: 2.02s\tremaining: 915ms\n",
      "688:\tlearn: 0.0789528\ttotal: 2.02s\tremaining: 911ms\n",
      "689:\tlearn: 0.0787648\ttotal: 2.02s\tremaining: 908ms\n",
      "690:\tlearn: 0.0786488\ttotal: 2.02s\tremaining: 904ms\n",
      "691:\tlearn: 0.0785948\ttotal: 2.02s\tremaining: 901ms\n",
      "692:\tlearn: 0.0785724\ttotal: 2.02s\tremaining: 897ms\n",
      "693:\tlearn: 0.0783980\ttotal: 2.03s\tremaining: 894ms\n",
      "694:\tlearn: 0.0782513\ttotal: 2.03s\tremaining: 891ms\n",
      "695:\tlearn: 0.0782307\ttotal: 2.03s\tremaining: 888ms\n",
      "696:\tlearn: 0.0781483\ttotal: 2.04s\tremaining: 885ms\n",
      "697:\tlearn: 0.0780249\ttotal: 2.04s\tremaining: 881ms\n",
      "698:\tlearn: 0.0780115\ttotal: 2.04s\tremaining: 878ms\n",
      "699:\tlearn: 0.0778392\ttotal: 2.04s\tremaining: 875ms\n",
      "700:\tlearn: 0.0777124\ttotal: 2.04s\tremaining: 872ms\n",
      "701:\tlearn: 0.0776965\ttotal: 2.04s\tremaining: 868ms\n",
      "702:\tlearn: 0.0775604\ttotal: 2.05s\tremaining: 865ms\n",
      "703:\tlearn: 0.0774158\ttotal: 2.05s\tremaining: 861ms\n",
      "704:\tlearn: 0.0772764\ttotal: 2.05s\tremaining: 858ms\n",
      "705:\tlearn: 0.0772372\ttotal: 2.05s\tremaining: 855ms\n",
      "706:\tlearn: 0.0771524\ttotal: 2.05s\tremaining: 851ms\n",
      "707:\tlearn: 0.0769997\ttotal: 2.06s\tremaining: 848ms\n",
      "708:\tlearn: 0.0769042\ttotal: 2.06s\tremaining: 845ms\n",
      "709:\tlearn: 0.0767661\ttotal: 2.06s\tremaining: 841ms\n",
      "710:\tlearn: 0.0765965\ttotal: 2.06s\tremaining: 838ms\n"
     ]
    },
    {
     "name": "stdout",
     "output_type": "stream",
     "text": [
      "711:\tlearn: 0.0764908\ttotal: 2.06s\tremaining: 835ms\n",
      "712:\tlearn: 0.0763514\ttotal: 2.07s\tremaining: 833ms\n",
      "713:\tlearn: 0.0762474\ttotal: 2.07s\tremaining: 830ms\n",
      "714:\tlearn: 0.0761788\ttotal: 2.07s\tremaining: 827ms\n",
      "715:\tlearn: 0.0759951\ttotal: 2.08s\tremaining: 824ms\n",
      "716:\tlearn: 0.0758304\ttotal: 2.08s\tremaining: 821ms\n",
      "717:\tlearn: 0.0756403\ttotal: 2.08s\tremaining: 818ms\n",
      "718:\tlearn: 0.0755054\ttotal: 2.08s\tremaining: 815ms\n",
      "719:\tlearn: 0.0753606\ttotal: 2.09s\tremaining: 811ms\n",
      "720:\tlearn: 0.0752830\ttotal: 2.09s\tremaining: 808ms\n",
      "721:\tlearn: 0.0751678\ttotal: 2.09s\tremaining: 805ms\n",
      "722:\tlearn: 0.0749860\ttotal: 2.09s\tremaining: 802ms\n",
      "723:\tlearn: 0.0749270\ttotal: 2.1s\tremaining: 800ms\n",
      "724:\tlearn: 0.0747467\ttotal: 2.1s\tremaining: 797ms\n",
      "725:\tlearn: 0.0747329\ttotal: 2.1s\tremaining: 794ms\n",
      "726:\tlearn: 0.0745952\ttotal: 2.11s\tremaining: 791ms\n",
      "727:\tlearn: 0.0745074\ttotal: 2.11s\tremaining: 788ms\n",
      "728:\tlearn: 0.0743602\ttotal: 2.11s\tremaining: 786ms\n",
      "729:\tlearn: 0.0741861\ttotal: 2.12s\tremaining: 783ms\n",
      "730:\tlearn: 0.0740375\ttotal: 2.12s\tremaining: 781ms\n",
      "731:\tlearn: 0.0739085\ttotal: 2.12s\tremaining: 778ms\n",
      "732:\tlearn: 0.0737820\ttotal: 2.13s\tremaining: 777ms\n",
      "733:\tlearn: 0.0736691\ttotal: 2.13s\tremaining: 774ms\n",
      "734:\tlearn: 0.0735568\ttotal: 2.14s\tremaining: 771ms\n",
      "735:\tlearn: 0.0734344\ttotal: 2.15s\tremaining: 771ms\n",
      "736:\tlearn: 0.0733210\ttotal: 2.15s\tremaining: 769ms\n",
      "737:\tlearn: 0.0732231\ttotal: 2.16s\tremaining: 766ms\n",
      "738:\tlearn: 0.0731978\ttotal: 2.16s\tremaining: 763ms\n",
      "739:\tlearn: 0.0730678\ttotal: 2.16s\tremaining: 760ms\n",
      "740:\tlearn: 0.0729546\ttotal: 2.18s\tremaining: 764ms\n",
      "741:\tlearn: 0.0728282\ttotal: 2.19s\tremaining: 760ms\n",
      "742:\tlearn: 0.0727402\ttotal: 2.19s\tremaining: 757ms\n",
      "743:\tlearn: 0.0726568\ttotal: 2.19s\tremaining: 754ms\n",
      "744:\tlearn: 0.0725204\ttotal: 2.19s\tremaining: 750ms\n",
      "745:\tlearn: 0.0724348\ttotal: 2.19s\tremaining: 747ms\n",
      "746:\tlearn: 0.0723767\ttotal: 2.2s\tremaining: 744ms\n",
      "747:\tlearn: 0.0722088\ttotal: 2.2s\tremaining: 741ms\n",
      "748:\tlearn: 0.0720758\ttotal: 2.2s\tremaining: 738ms\n",
      "749:\tlearn: 0.0719413\ttotal: 2.21s\tremaining: 735ms\n",
      "750:\tlearn: 0.0718550\ttotal: 2.21s\tremaining: 732ms\n",
      "751:\tlearn: 0.0717350\ttotal: 2.21s\tremaining: 729ms\n",
      "752:\tlearn: 0.0716484\ttotal: 2.21s\tremaining: 726ms\n",
      "753:\tlearn: 0.0714863\ttotal: 2.22s\tremaining: 723ms\n"
     ]
    },
    {
     "name": "stdout",
     "output_type": "stream",
     "text": [
      "754:\tlearn: 0.0713326\ttotal: 2.22s\tremaining: 720ms\n",
      "755:\tlearn: 0.0712506\ttotal: 2.22s\tremaining: 717ms\n",
      "756:\tlearn: 0.0711833\ttotal: 2.23s\tremaining: 714ms\n",
      "757:\tlearn: 0.0710862\ttotal: 2.23s\tremaining: 711ms\n",
      "758:\tlearn: 0.0710064\ttotal: 2.23s\tremaining: 708ms\n",
      "759:\tlearn: 0.0709145\ttotal: 2.23s\tremaining: 705ms\n",
      "760:\tlearn: 0.0707795\ttotal: 2.23s\tremaining: 702ms\n",
      "761:\tlearn: 0.0706163\ttotal: 2.24s\tremaining: 699ms\n",
      "762:\tlearn: 0.0704999\ttotal: 2.24s\tremaining: 696ms\n",
      "763:\tlearn: 0.0704161\ttotal: 2.24s\tremaining: 693ms\n",
      "764:\tlearn: 0.0703657\ttotal: 2.25s\tremaining: 690ms\n",
      "765:\tlearn: 0.0703138\ttotal: 2.25s\tremaining: 687ms\n",
      "766:\tlearn: 0.0701726\ttotal: 2.25s\tremaining: 684ms\n",
      "767:\tlearn: 0.0700614\ttotal: 2.25s\tremaining: 681ms\n",
      "768:\tlearn: 0.0699090\ttotal: 2.26s\tremaining: 678ms\n",
      "769:\tlearn: 0.0697396\ttotal: 2.26s\tremaining: 675ms\n",
      "770:\tlearn: 0.0697189\ttotal: 2.26s\tremaining: 672ms\n",
      "771:\tlearn: 0.0696267\ttotal: 2.26s\tremaining: 669ms\n",
      "772:\tlearn: 0.0695575\ttotal: 2.27s\tremaining: 665ms\n",
      "773:\tlearn: 0.0694166\ttotal: 2.27s\tremaining: 662ms\n",
      "774:\tlearn: 0.0693113\ttotal: 2.27s\tremaining: 659ms\n",
      "775:\tlearn: 0.0691865\ttotal: 2.27s\tremaining: 656ms\n",
      "776:\tlearn: 0.0690235\ttotal: 2.28s\tremaining: 653ms\n",
      "777:\tlearn: 0.0689131\ttotal: 2.28s\tremaining: 650ms\n",
      "778:\tlearn: 0.0687864\ttotal: 2.28s\tremaining: 647ms\n",
      "779:\tlearn: 0.0686748\ttotal: 2.28s\tremaining: 644ms\n",
      "780:\tlearn: 0.0685142\ttotal: 2.29s\tremaining: 641ms\n",
      "781:\tlearn: 0.0684179\ttotal: 2.29s\tremaining: 638ms\n",
      "782:\tlearn: 0.0682763\ttotal: 2.29s\tremaining: 635ms\n",
      "783:\tlearn: 0.0681666\ttotal: 2.29s\tremaining: 632ms\n",
      "784:\tlearn: 0.0680925\ttotal: 2.3s\tremaining: 629ms\n",
      "785:\tlearn: 0.0680257\ttotal: 2.3s\tremaining: 626ms\n",
      "786:\tlearn: 0.0679019\ttotal: 2.3s\tremaining: 623ms\n",
      "787:\tlearn: 0.0677941\ttotal: 2.31s\tremaining: 620ms\n",
      "788:\tlearn: 0.0676928\ttotal: 2.31s\tremaining: 617ms\n",
      "789:\tlearn: 0.0675823\ttotal: 2.31s\tremaining: 614ms\n",
      "790:\tlearn: 0.0675036\ttotal: 2.31s\tremaining: 611ms\n",
      "791:\tlearn: 0.0674900\ttotal: 2.32s\tremaining: 608ms\n",
      "792:\tlearn: 0.0673278\ttotal: 2.32s\tremaining: 605ms\n",
      "793:\tlearn: 0.0672323\ttotal: 2.32s\tremaining: 602ms\n",
      "794:\tlearn: 0.0671139\ttotal: 2.32s\tremaining: 599ms\n",
      "795:\tlearn: 0.0670064\ttotal: 2.32s\tremaining: 596ms\n",
      "796:\tlearn: 0.0669235\ttotal: 2.33s\tremaining: 593ms\n",
      "797:\tlearn: 0.0667714\ttotal: 2.33s\tremaining: 590ms\n",
      "798:\tlearn: 0.0667484\ttotal: 2.33s\tremaining: 587ms\n",
      "799:\tlearn: 0.0665866\ttotal: 2.33s\tremaining: 584ms\n",
      "800:\tlearn: 0.0665169\ttotal: 2.34s\tremaining: 581ms\n",
      "801:\tlearn: 0.0663924\ttotal: 2.34s\tremaining: 578ms\n",
      "802:\tlearn: 0.0662483\ttotal: 2.34s\tremaining: 575ms\n",
      "803:\tlearn: 0.0660865\ttotal: 2.35s\tremaining: 572ms\n",
      "804:\tlearn: 0.0660258\ttotal: 2.35s\tremaining: 569ms\n",
      "805:\tlearn: 0.0659421\ttotal: 2.35s\tremaining: 566ms\n",
      "806:\tlearn: 0.0659130\ttotal: 2.35s\tremaining: 563ms\n",
      "807:\tlearn: 0.0658848\ttotal: 2.36s\tremaining: 560ms\n",
      "808:\tlearn: 0.0658552\ttotal: 2.36s\tremaining: 557ms\n",
      "809:\tlearn: 0.0657335\ttotal: 2.37s\tremaining: 557ms\n",
      "810:\tlearn: 0.0656242\ttotal: 2.38s\tremaining: 555ms\n",
      "811:\tlearn: 0.0655165\ttotal: 2.38s\tremaining: 552ms\n",
      "812:\tlearn: 0.0654412\ttotal: 2.39s\tremaining: 549ms\n",
      "813:\tlearn: 0.0654090\ttotal: 2.39s\tremaining: 546ms\n",
      "814:\tlearn: 0.0653249\ttotal: 2.39s\tremaining: 543ms\n",
      "815:\tlearn: 0.0652322\ttotal: 2.39s\tremaining: 540ms\n",
      "816:\tlearn: 0.0651820\ttotal: 2.4s\tremaining: 537ms\n",
      "817:\tlearn: 0.0651570\ttotal: 2.4s\tremaining: 534ms\n",
      "818:\tlearn: 0.0650327\ttotal: 2.4s\tremaining: 530ms\n",
      "819:\tlearn: 0.0649958\ttotal: 2.4s\tremaining: 527ms\n"
     ]
    },
    {
     "name": "stdout",
     "output_type": "stream",
     "text": [
      "820:\tlearn: 0.0649091\ttotal: 2.4s\tremaining: 524ms\n",
      "821:\tlearn: 0.0647797\ttotal: 2.41s\tremaining: 521ms\n",
      "822:\tlearn: 0.0646627\ttotal: 2.41s\tremaining: 518ms\n",
      "823:\tlearn: 0.0645089\ttotal: 2.41s\tremaining: 515ms\n",
      "824:\tlearn: 0.0644123\ttotal: 2.41s\tremaining: 512ms\n",
      "825:\tlearn: 0.0643264\ttotal: 2.41s\tremaining: 509ms\n",
      "826:\tlearn: 0.0642344\ttotal: 2.42s\tremaining: 506ms\n",
      "827:\tlearn: 0.0641216\ttotal: 2.42s\tremaining: 503ms\n",
      "828:\tlearn: 0.0640805\ttotal: 2.42s\tremaining: 499ms\n",
      "829:\tlearn: 0.0640144\ttotal: 2.42s\tremaining: 496ms\n",
      "830:\tlearn: 0.0639143\ttotal: 2.42s\tremaining: 493ms\n",
      "831:\tlearn: 0.0638304\ttotal: 2.43s\tremaining: 490ms\n",
      "832:\tlearn: 0.0636402\ttotal: 2.43s\tremaining: 487ms\n",
      "833:\tlearn: 0.0635024\ttotal: 2.43s\tremaining: 484ms\n",
      "834:\tlearn: 0.0634107\ttotal: 2.43s\tremaining: 481ms\n",
      "835:\tlearn: 0.0633783\ttotal: 2.43s\tremaining: 477ms\n",
      "836:\tlearn: 0.0632370\ttotal: 2.44s\tremaining: 474ms\n",
      "837:\tlearn: 0.0632281\ttotal: 2.44s\tremaining: 471ms\n",
      "838:\tlearn: 0.0631572\ttotal: 2.44s\tremaining: 468ms\n",
      "839:\tlearn: 0.0630630\ttotal: 2.44s\tremaining: 465ms\n",
      "840:\tlearn: 0.0628891\ttotal: 2.44s\tremaining: 462ms\n",
      "841:\tlearn: 0.0628419\ttotal: 2.45s\tremaining: 459ms\n",
      "842:\tlearn: 0.0627789\ttotal: 2.45s\tremaining: 456ms\n",
      "843:\tlearn: 0.0626570\ttotal: 2.45s\tremaining: 453ms\n",
      "844:\tlearn: 0.0625218\ttotal: 2.45s\tremaining: 450ms\n",
      "845:\tlearn: 0.0625102\ttotal: 2.45s\tremaining: 447ms\n",
      "846:\tlearn: 0.0623773\ttotal: 2.46s\tremaining: 444ms\n",
      "847:\tlearn: 0.0622322\ttotal: 2.46s\tremaining: 441ms\n",
      "848:\tlearn: 0.0621385\ttotal: 2.46s\tremaining: 438ms\n",
      "849:\tlearn: 0.0621232\ttotal: 2.46s\tremaining: 435ms\n",
      "850:\tlearn: 0.0620854\ttotal: 2.46s\tremaining: 431ms\n",
      "851:\tlearn: 0.0620126\ttotal: 2.47s\tremaining: 428ms\n",
      "852:\tlearn: 0.0619382\ttotal: 2.47s\tremaining: 425ms\n",
      "853:\tlearn: 0.0618641\ttotal: 2.47s\tremaining: 422ms\n",
      "854:\tlearn: 0.0617665\ttotal: 2.47s\tremaining: 419ms\n",
      "855:\tlearn: 0.0617583\ttotal: 2.47s\tremaining: 416ms\n",
      "856:\tlearn: 0.0617143\ttotal: 2.48s\tremaining: 413ms\n",
      "857:\tlearn: 0.0616417\ttotal: 2.48s\tremaining: 410ms\n",
      "858:\tlearn: 0.0615245\ttotal: 2.48s\tremaining: 407ms\n",
      "859:\tlearn: 0.0613804\ttotal: 2.48s\tremaining: 404ms\n",
      "860:\tlearn: 0.0612822\ttotal: 2.48s\tremaining: 401ms\n",
      "861:\tlearn: 0.0612164\ttotal: 2.48s\tremaining: 398ms\n",
      "862:\tlearn: 0.0611361\ttotal: 2.49s\tremaining: 395ms\n",
      "863:\tlearn: 0.0611125\ttotal: 2.49s\tremaining: 392ms\n",
      "864:\tlearn: 0.0610079\ttotal: 2.49s\tremaining: 389ms\n",
      "865:\tlearn: 0.0609571\ttotal: 2.49s\tremaining: 386ms\n",
      "866:\tlearn: 0.0609069\ttotal: 2.5s\tremaining: 383ms\n",
      "867:\tlearn: 0.0607997\ttotal: 2.5s\tremaining: 380ms\n",
      "868:\tlearn: 0.0606902\ttotal: 2.5s\tremaining: 377ms\n",
      "869:\tlearn: 0.0606586\ttotal: 2.5s\tremaining: 374ms\n",
      "870:\tlearn: 0.0605702\ttotal: 2.51s\tremaining: 371ms\n",
      "871:\tlearn: 0.0604376\ttotal: 2.51s\tremaining: 368ms\n",
      "872:\tlearn: 0.0603690\ttotal: 2.51s\tremaining: 365ms\n",
      "873:\tlearn: 0.0603341\ttotal: 2.52s\tremaining: 363ms\n",
      "874:\tlearn: 0.0602102\ttotal: 2.52s\tremaining: 360ms\n",
      "875:\tlearn: 0.0601647\ttotal: 2.52s\tremaining: 357ms\n",
      "876:\tlearn: 0.0600714\ttotal: 2.52s\tremaining: 354ms\n",
      "877:\tlearn: 0.0599475\ttotal: 2.53s\tremaining: 351ms\n",
      "878:\tlearn: 0.0599373\ttotal: 2.53s\tremaining: 348ms\n",
      "879:\tlearn: 0.0598782\ttotal: 2.53s\tremaining: 345ms\n",
      "880:\tlearn: 0.0597630\ttotal: 2.54s\tremaining: 342ms\n",
      "881:\tlearn: 0.0596822\ttotal: 2.54s\tremaining: 340ms\n",
      "882:\tlearn: 0.0596255\ttotal: 2.54s\tremaining: 337ms\n",
      "883:\tlearn: 0.0594886\ttotal: 2.54s\tremaining: 334ms\n",
      "884:\tlearn: 0.0594321\ttotal: 2.54s\tremaining: 331ms\n",
      "885:\tlearn: 0.0593039\ttotal: 2.55s\tremaining: 328ms\n",
      "886:\tlearn: 0.0591522\ttotal: 2.55s\tremaining: 325ms\n",
      "887:\tlearn: 0.0590873\ttotal: 2.55s\tremaining: 322ms\n",
      "888:\tlearn: 0.0589834\ttotal: 2.56s\tremaining: 319ms\n",
      "889:\tlearn: 0.0589559\ttotal: 2.56s\tremaining: 316ms\n",
      "890:\tlearn: 0.0588256\ttotal: 2.56s\tremaining: 313ms\n",
      "891:\tlearn: 0.0587562\ttotal: 2.56s\tremaining: 310ms\n",
      "892:\tlearn: 0.0586905\ttotal: 2.56s\tremaining: 307ms\n",
      "893:\tlearn: 0.0585393\ttotal: 2.57s\tremaining: 304ms\n",
      "894:\tlearn: 0.0585317\ttotal: 2.57s\tremaining: 302ms\n",
      "895:\tlearn: 0.0584465\ttotal: 2.57s\tremaining: 299ms\n",
      "896:\tlearn: 0.0584386\ttotal: 2.58s\tremaining: 296ms\n",
      "897:\tlearn: 0.0583473\ttotal: 2.58s\tremaining: 293ms\n"
     ]
    },
    {
     "name": "stdout",
     "output_type": "stream",
     "text": [
      "898:\tlearn: 0.0582995\ttotal: 2.58s\tremaining: 290ms\n",
      "899:\tlearn: 0.0582236\ttotal: 2.58s\tremaining: 287ms\n",
      "900:\tlearn: 0.0580685\ttotal: 2.59s\tremaining: 284ms\n",
      "901:\tlearn: 0.0579319\ttotal: 2.59s\tremaining: 281ms\n",
      "902:\tlearn: 0.0578473\ttotal: 2.59s\tremaining: 278ms\n",
      "903:\tlearn: 0.0578149\ttotal: 2.59s\tremaining: 275ms\n",
      "904:\tlearn: 0.0578061\ttotal: 2.6s\tremaining: 273ms\n",
      "905:\tlearn: 0.0577935\ttotal: 2.6s\tremaining: 270ms\n",
      "906:\tlearn: 0.0577005\ttotal: 2.6s\tremaining: 267ms\n",
      "907:\tlearn: 0.0575951\ttotal: 2.6s\tremaining: 264ms\n",
      "908:\tlearn: 0.0575760\ttotal: 2.6s\tremaining: 261ms\n",
      "909:\tlearn: 0.0575134\ttotal: 2.6s\tremaining: 258ms\n",
      "910:\tlearn: 0.0574595\ttotal: 2.61s\tremaining: 255ms\n",
      "911:\tlearn: 0.0574287\ttotal: 2.61s\tremaining: 252ms\n",
      "912:\tlearn: 0.0573353\ttotal: 2.61s\tremaining: 249ms\n",
      "913:\tlearn: 0.0572420\ttotal: 2.61s\tremaining: 246ms\n",
      "914:\tlearn: 0.0571793\ttotal: 2.62s\tremaining: 243ms\n",
      "915:\tlearn: 0.0570777\ttotal: 2.62s\tremaining: 240ms\n",
      "916:\tlearn: 0.0570209\ttotal: 2.62s\tremaining: 237ms\n",
      "917:\tlearn: 0.0569309\ttotal: 2.62s\tremaining: 234ms\n",
      "918:\tlearn: 0.0568540\ttotal: 2.63s\tremaining: 231ms\n",
      "919:\tlearn: 0.0567330\ttotal: 2.63s\tremaining: 228ms\n",
      "920:\tlearn: 0.0565943\ttotal: 2.63s\tremaining: 226ms\n",
      "921:\tlearn: 0.0565412\ttotal: 2.63s\tremaining: 223ms\n",
      "922:\tlearn: 0.0565150\ttotal: 2.63s\tremaining: 220ms\n",
      "923:\tlearn: 0.0564534\ttotal: 2.63s\tremaining: 217ms\n",
      "924:\tlearn: 0.0563531\ttotal: 2.64s\tremaining: 214ms\n",
      "925:\tlearn: 0.0562585\ttotal: 2.64s\tremaining: 211ms\n",
      "926:\tlearn: 0.0561620\ttotal: 2.64s\tremaining: 208ms\n",
      "927:\tlearn: 0.0561013\ttotal: 2.64s\tremaining: 205ms\n",
      "928:\tlearn: 0.0560098\ttotal: 2.65s\tremaining: 202ms\n",
      "929:\tlearn: 0.0559925\ttotal: 2.65s\tremaining: 199ms\n",
      "930:\tlearn: 0.0558650\ttotal: 2.65s\tremaining: 196ms\n",
      "931:\tlearn: 0.0557929\ttotal: 2.65s\tremaining: 193ms\n",
      "932:\tlearn: 0.0557453\ttotal: 2.65s\tremaining: 191ms\n",
      "933:\tlearn: 0.0555815\ttotal: 2.65s\tremaining: 188ms\n",
      "934:\tlearn: 0.0554698\ttotal: 2.66s\tremaining: 185ms\n",
      "935:\tlearn: 0.0553755\ttotal: 2.66s\tremaining: 182ms\n",
      "936:\tlearn: 0.0553264\ttotal: 2.66s\tremaining: 179ms\n",
      "937:\tlearn: 0.0552908\ttotal: 2.66s\tremaining: 176ms\n",
      "938:\tlearn: 0.0552750\ttotal: 2.67s\tremaining: 173ms\n",
      "939:\tlearn: 0.0551966\ttotal: 2.67s\tremaining: 170ms\n",
      "940:\tlearn: 0.0551744\ttotal: 2.67s\tremaining: 167ms\n",
      "941:\tlearn: 0.0550871\ttotal: 2.67s\tremaining: 164ms\n",
      "942:\tlearn: 0.0549965\ttotal: 2.67s\tremaining: 162ms\n",
      "943:\tlearn: 0.0549476\ttotal: 2.67s\tremaining: 159ms\n",
      "944:\tlearn: 0.0548446\ttotal: 2.68s\tremaining: 156ms\n",
      "945:\tlearn: 0.0547121\ttotal: 2.68s\tremaining: 153ms\n",
      "946:\tlearn: 0.0546211\ttotal: 2.68s\tremaining: 150ms\n",
      "947:\tlearn: 0.0545589\ttotal: 2.68s\tremaining: 147ms\n",
      "948:\tlearn: 0.0545523\ttotal: 2.68s\tremaining: 144ms\n",
      "949:\tlearn: 0.0545116\ttotal: 2.69s\tremaining: 141ms\n",
      "950:\tlearn: 0.0544133\ttotal: 2.69s\tremaining: 139ms\n",
      "951:\tlearn: 0.0543056\ttotal: 2.69s\tremaining: 136ms\n",
      "952:\tlearn: 0.0543007\ttotal: 2.69s\tremaining: 133ms\n",
      "953:\tlearn: 0.0542007\ttotal: 2.69s\tremaining: 130ms\n",
      "954:\tlearn: 0.0541133\ttotal: 2.7s\tremaining: 127ms\n",
      "955:\tlearn: 0.0540437\ttotal: 2.7s\tremaining: 124ms\n",
      "956:\tlearn: 0.0540363\ttotal: 2.7s\tremaining: 121ms\n",
      "957:\tlearn: 0.0539469\ttotal: 2.7s\tremaining: 118ms\n",
      "958:\tlearn: 0.0538854\ttotal: 2.71s\tremaining: 116ms\n",
      "959:\tlearn: 0.0537861\ttotal: 2.71s\tremaining: 113ms\n",
      "960:\tlearn: 0.0536907\ttotal: 2.71s\tremaining: 110ms\n",
      "961:\tlearn: 0.0535950\ttotal: 2.71s\tremaining: 107ms\n",
      "962:\tlearn: 0.0535035\ttotal: 2.71s\tremaining: 104ms\n",
      "963:\tlearn: 0.0534328\ttotal: 2.72s\tremaining: 101ms\n",
      "964:\tlearn: 0.0533453\ttotal: 2.72s\tremaining: 98.6ms\n",
      "965:\tlearn: 0.0533403\ttotal: 2.72s\tremaining: 95.8ms\n",
      "966:\tlearn: 0.0532911\ttotal: 2.72s\tremaining: 93ms\n",
      "967:\tlearn: 0.0532123\ttotal: 2.73s\tremaining: 90.2ms\n",
      "968:\tlearn: 0.0531855\ttotal: 2.73s\tremaining: 87.3ms\n",
      "969:\tlearn: 0.0530913\ttotal: 2.73s\tremaining: 84.5ms\n",
      "970:\tlearn: 0.0529906\ttotal: 2.73s\tremaining: 81.7ms\n",
      "971:\tlearn: 0.0529839\ttotal: 2.74s\tremaining: 78.9ms\n",
      "972:\tlearn: 0.0529490\ttotal: 2.74s\tremaining: 76ms\n",
      "973:\tlearn: 0.0528575\ttotal: 2.74s\tremaining: 73.2ms\n",
      "974:\tlearn: 0.0527814\ttotal: 2.75s\tremaining: 70.4ms\n",
      "975:\tlearn: 0.0526984\ttotal: 2.75s\tremaining: 67.6ms\n",
      "976:\tlearn: 0.0526868\ttotal: 2.75s\tremaining: 64.7ms\n",
      "977:\tlearn: 0.0526338\ttotal: 2.75s\tremaining: 61.9ms\n",
      "978:\tlearn: 0.0525879\ttotal: 2.75s\tremaining: 59.1ms\n",
      "979:\tlearn: 0.0525829\ttotal: 2.76s\tremaining: 56.3ms\n"
     ]
    },
    {
     "name": "stdout",
     "output_type": "stream",
     "text": [
      "980:\tlearn: 0.0525432\ttotal: 2.76s\tremaining: 53.5ms\n",
      "981:\tlearn: 0.0525382\ttotal: 2.76s\tremaining: 50.7ms\n",
      "982:\tlearn: 0.0524473\ttotal: 2.77s\tremaining: 47.9ms\n",
      "983:\tlearn: 0.0524412\ttotal: 2.77s\tremaining: 45ms\n",
      "984:\tlearn: 0.0523274\ttotal: 2.77s\tremaining: 42.2ms\n",
      "985:\tlearn: 0.0522264\ttotal: 2.77s\tremaining: 39.4ms\n",
      "986:\tlearn: 0.0521126\ttotal: 2.78s\tremaining: 36.6ms\n",
      "987:\tlearn: 0.0520474\ttotal: 2.78s\tremaining: 33.8ms\n",
      "988:\tlearn: 0.0519865\ttotal: 2.78s\tremaining: 31ms\n",
      "989:\tlearn: 0.0519367\ttotal: 2.79s\tremaining: 28.1ms\n",
      "990:\tlearn: 0.0519234\ttotal: 2.79s\tremaining: 25.3ms\n",
      "991:\tlearn: 0.0518660\ttotal: 2.79s\tremaining: 22.5ms\n",
      "992:\tlearn: 0.0518051\ttotal: 2.79s\tremaining: 19.7ms\n",
      "993:\tlearn: 0.0516950\ttotal: 2.79s\tremaining: 16.9ms\n",
      "994:\tlearn: 0.0516108\ttotal: 2.8s\tremaining: 14.1ms\n",
      "995:\tlearn: 0.0515223\ttotal: 2.8s\tremaining: 11.2ms\n",
      "996:\tlearn: 0.0514340\ttotal: 2.8s\tremaining: 8.43ms\n",
      "997:\tlearn: 0.0513894\ttotal: 2.8s\tremaining: 5.62ms\n",
      "998:\tlearn: 0.0513286\ttotal: 2.81s\tremaining: 2.81ms\n",
      "999:\tlearn: 0.0513214\ttotal: 2.81s\tremaining: 0us\n"
     ]
    },
    {
     "data": {
      "text/plain": [
       "<catboost.core.CatBoostRegressor at 0x7f941c3d6820>"
      ]
     },
     "execution_count": 9,
     "metadata": {},
     "output_type": "execute_result"
    }
   ],
   "source": [
    "#Train the Model \n",
    "prior_model = ctb.CatBoostRegressor()\n",
    "prior_model.fit(X_train,Y_train)"
   ]
  },
  {
   "cell_type": "code",
   "execution_count": 10,
   "id": "af65dcda",
   "metadata": {
    "execution": {
     "iopub.execute_input": "2022-07-22T19:58:42.174758Z",
     "iopub.status.busy": "2022-07-22T19:58:42.171152Z",
     "iopub.status.idle": "2022-07-22T19:58:42.213393Z",
     "shell.execute_reply": "2022-07-22T19:58:42.212572Z"
    },
    "id": "af65dcda",
    "papermill": {
     "duration": 0.066064,
     "end_time": "2022-07-22T19:58:42.218076",
     "exception": false,
     "start_time": "2022-07-22T19:58:42.152012",
     "status": "completed"
    },
    "tags": []
   },
   "outputs": [
    {
     "data": {
      "application/scrapbook.scrap.json+json": {
       "data": 0.07844533680371715,
       "encoder": "json",
       "name": "Prior Model MSE",
       "version": 1
      }
     },
     "metadata": {
      "scrapbook": {
       "data": true,
       "display": false,
       "name": "Prior Model MSE"
      }
     },
     "output_type": "display_data"
    },
    {
     "data": {
      "application/scrapbook.scrap.json+json": {
       "data": 2.1176404025976643,
       "encoder": "json",
       "name": "ABC Pre-generator MSE",
       "version": 1
      }
     },
     "metadata": {
      "scrapbook": {
       "data": true,
       "display": false,
       "name": "ABC Pre-generator MSE"
      }
     },
     "output_type": "display_data"
    },
    {
     "data": {
      "application/scrapbook.scrap.json+json": {
       "data": 0.19630081320801374,
       "encoder": "json",
       "name": "Prior Model MAE",
       "version": 1
      }
     },
     "metadata": {
      "scrapbook": {
       "data": true,
       "display": false,
       "name": "Prior Model MAE"
      }
     },
     "output_type": "display_data"
    },
    {
     "name": "stdout",
     "output_type": "stream",
     "text": [
      "Prior Model MAE 0.19630081320801374\n",
      "ABC Pre-generator MAE 1.18901588060155\n"
     ]
    }
   ],
   "source": [
    "y_pred = prior_model.predict(X_test)\n",
    "y_abc = y_pred + np.random.normal(0,variance, y_pred.shape) + bias \n",
    "mse = mean_squared_error(y_pred,Y_test)\n",
    "sb.glue(\"Prior Model MSE\",mse)\n",
    "mse = mean_squared_error(y_abc,Y_test)\n",
    "sb.glue(\"ABC Pre-generator MSE\",mse)\n",
    "mae = mean_absolute_error(y_pred,Y_test)\n",
    "sb.glue(\"Prior Model MAE\",mae)\n",
    "print(\"Prior Model MAE\",mae)\n",
    "mae = mean_absolute_error(y_abc,Y_test)\n",
    "print(\"ABC Pre-generator MAE\",mae)"
   ]
  },
  {
   "cell_type": "markdown",
   "id": "25609da2",
   "metadata": {
    "papermill": {
     "duration": 0.010799,
     "end_time": "2022-07-22T19:58:42.239480",
     "exception": false,
     "start_time": "2022-07-22T19:58:42.228681",
     "status": "completed"
    },
    "tags": []
   },
   "source": [
    "# mGAN Model"
   ]
  },
  {
   "cell_type": "code",
   "execution_count": 11,
   "id": "dfc3464d",
   "metadata": {
    "execution": {
     "iopub.execute_input": "2022-07-22T19:58:42.264885Z",
     "iopub.status.busy": "2022-07-22T19:58:42.264544Z",
     "iopub.status.idle": "2022-07-22T19:58:42.270226Z",
     "shell.execute_reply": "2022-07-22T19:58:42.268467Z"
    },
    "papermill": {
     "duration": 0.024276,
     "end_time": "2022-07-22T19:58:42.274925",
     "exception": false,
     "start_time": "2022-07-22T19:58:42.250649",
     "status": "completed"
    },
    "tags": []
   },
   "outputs": [],
   "source": [
    "# gen = network.Generator(n_features+1).to(device)\n",
    "# disc = network.Discriminator(n_features+1).to(device)\n",
    "\n",
    "# criterion = torch.nn.BCELoss()\n",
    "# gen_opt = torch.optim.Adam(gen.parameters(), lr=0.01, betas=(0.5, 0.999))\n",
    "# disc_opt = torch.optim.Adam(disc.parameters(), lr=0.01, betas=(0.5, 0.999))"
   ]
  },
  {
   "cell_type": "code",
   "execution_count": 12,
   "id": "b75fdd85",
   "metadata": {
    "execution": {
     "iopub.execute_input": "2022-07-22T19:58:42.305155Z",
     "iopub.status.busy": "2022-07-22T19:58:42.304532Z",
     "iopub.status.idle": "2022-07-22T19:58:42.325413Z",
     "shell.execute_reply": "2022-07-22T19:58:42.313421Z"
    },
    "papermill": {
     "duration": 0.043587,
     "end_time": "2022-07-22T19:58:42.331148",
     "exception": false,
     "start_time": "2022-07-22T19:58:42.287561",
     "status": "completed"
    },
    "tags": []
   },
   "outputs": [],
   "source": [
    "#Training the ABC_GAN \n",
    "# ABC_train_test2.training_GAN(disc,gen,disc_opt,gen_opt,train_data,batch_size,n_epochs,criterion,prior_model,variance,bias,device)"
   ]
  },
  {
   "cell_type": "code",
   "execution_count": 13,
   "id": "1fa7c368",
   "metadata": {
    "execution": {
     "iopub.execute_input": "2022-07-22T19:58:42.355657Z",
     "iopub.status.busy": "2022-07-22T19:58:42.355320Z",
     "iopub.status.idle": "2022-07-22T19:58:42.360309Z",
     "shell.execute_reply": "2022-07-22T19:58:42.358349Z"
    },
    "papermill": {
     "duration": 0.020446,
     "end_time": "2022-07-22T19:58:42.363632",
     "exception": false,
     "start_time": "2022-07-22T19:58:42.343186",
     "status": "completed"
    },
    "tags": []
   },
   "outputs": [],
   "source": [
    "# ABC_GAN1_metrics=ABC_train_test2.test_generator(gen,test_data,prior_model,variance,bias,\"1\",device)\n",
    "# sb.glue(\"ABC_GAN_1 Metrics\",ABC_GAN1_metrics)\n",
    "\n",
    "# print(\"MAE\")\n",
    "# print(mean(ABC_GAN1_metrics[1]))"
   ]
  },
  {
   "cell_type": "code",
   "execution_count": 14,
   "id": "eb22ce5c",
   "metadata": {
    "execution": {
     "iopub.execute_input": "2022-07-22T19:58:42.392079Z",
     "iopub.status.busy": "2022-07-22T19:58:42.390896Z",
     "iopub.status.idle": "2022-07-22T19:58:42.398897Z",
     "shell.execute_reply": "2022-07-22T19:58:42.398011Z"
    },
    "papermill": {
     "duration": 0.027399,
     "end_time": "2022-07-22T19:58:42.402228",
     "exception": false,
     "start_time": "2022-07-22T19:58:42.374829",
     "status": "completed"
    },
    "tags": []
   },
   "outputs": [],
   "source": [
    "# sanityChecks.discProbVsError(train_data,disc,device)\n",
    "# sanityChecks.discProbVsError(test_data,disc,device)"
   ]
  },
  {
   "cell_type": "markdown",
   "id": "06125751",
   "metadata": {
    "papermill": {
     "duration": 0.03117,
     "end_time": "2022-07-22T19:58:42.444821",
     "exception": false,
     "start_time": "2022-07-22T19:58:42.413651",
     "status": "completed"
    },
    "tags": []
   },
   "source": [
    "# mGAN Model with TabNet Generator"
   ]
  },
  {
   "cell_type": "code",
   "execution_count": 15,
   "id": "a999bf36",
   "metadata": {
    "execution": {
     "iopub.execute_input": "2022-07-22T19:58:42.472411Z",
     "iopub.status.busy": "2022-07-22T19:58:42.471387Z",
     "iopub.status.idle": "2022-07-22T19:58:42.493263Z",
     "shell.execute_reply": "2022-07-22T19:58:42.491384Z"
    },
    "papermill": {
     "duration": 0.038771,
     "end_time": "2022-07-22T19:58:42.496280",
     "exception": false,
     "start_time": "2022-07-22T19:58:42.457509",
     "status": "completed"
    },
    "tags": []
   },
   "outputs": [],
   "source": [
    "gen2 = network.GeneratorTabnet(n_features+1).to(device)\n",
    "disc2 = network.Discriminator(n_features+1).to(device)\n",
    "\n",
    "criterion = torch.nn.BCELoss()\n",
    "gen_opt = torch.optim.Adam(gen2.parameters(), lr=0.01, betas=(0.5, 0.999))\n",
    "disc_opt = torch.optim.Adam(disc2.parameters(), lr=0.01, betas=(0.5, 0.999))"
   ]
  },
  {
   "cell_type": "code",
   "execution_count": 16,
   "id": "1d9c2205",
   "metadata": {
    "execution": {
     "iopub.execute_input": "2022-07-22T19:58:42.527402Z",
     "iopub.status.busy": "2022-07-22T19:58:42.526602Z",
     "iopub.status.idle": "2022-07-22T20:09:07.118637Z",
     "shell.execute_reply": "2022-07-22T20:09:07.117717Z"
    },
    "papermill": {
     "duration": 624.6145,
     "end_time": "2022-07-22T20:09:07.121491",
     "exception": false,
     "start_time": "2022-07-22T19:58:42.506991",
     "status": "completed"
    },
    "tags": []
   },
   "outputs": [
    {
     "data": {
      "image/png": "[encoded data removed]",
      "text/plain": [
       "<Figure size 432x288 with 1 Axes>"
      ]
     },
     "metadata": {
      "needs_background": "light"
     },
     "output_type": "display_data"
    },
    {
     "data": {
      "image/png": "[encoded data removed]",
      "text/plain": [
       "<Figure size 432x288 with 1 Axes>"
      ]
     },
     "metadata": {
      "needs_background": "light"
     },
     "output_type": "display_data"
    }
   ],
   "source": [
    "#Training the ABC_GAN \n",
    "ABC_train_test2.training_GAN(disc2,gen2,disc_opt,gen_opt,train_data,batch_size,n_epochs,criterion,prior_model,variance,bias,device)"
   ]
  },
  {
   "cell_type": "code",
   "execution_count": 17,
   "id": "1eac5a38",
   "metadata": {
    "execution": {
     "iopub.execute_input": "2022-07-22T20:09:07.155588Z",
     "iopub.status.busy": "2022-07-22T20:09:07.154756Z",
     "iopub.status.idle": "2022-07-22T20:09:08.836302Z",
     "shell.execute_reply": "2022-07-22T20:09:08.835448Z"
    },
    "papermill": {
     "duration": 1.705741,
     "end_time": "2022-07-22T20:09:08.839192",
     "exception": false,
     "start_time": "2022-07-22T20:09:07.133451",
     "status": "completed"
    },
    "tags": []
   },
   "outputs": [
    {
     "data": {
      "application/scrapbook.scrap.json+json": {
       "data": 0.2033946451293621,
       "encoder": "json",
       "name": "ABC-GAN Model 1 MSE",
       "version": 1
      }
     },
     "metadata": {
      "scrapbook": {
       "data": true,
       "display": false,
       "name": "ABC-GAN Model 1 MSE"
      }
     },
     "output_type": "display_data"
    },
    {
     "data": {
      "application/scrapbook.scrap.json+json": {
       "data": 0.278567272867798,
       "encoder": "json",
       "name": "ABC-GAN Model 1 MAE",
       "version": 1
      }
     },
     "metadata": {
      "scrapbook": {
       "data": true,
       "display": false,
       "name": "ABC-GAN Model 1 MAE"
      }
     },
     "output_type": "display_data"
    },
    {
     "data": {
      "application/scrapbook.scrap.json+json": {
       "data": 28.413861832515394,
       "encoder": "json",
       "name": "ABC-GAN Model 1 Manhattan Distance",
       "version": 1
      }
     },
     "metadata": {
      "scrapbook": {
       "data": true,
       "display": false,
       "name": "ABC-GAN Model 1 Manhattan Distance"
      }
     },
     "output_type": "display_data"
    },
    {
     "data": {
      "application/scrapbook.scrap.json+json": {
       "data": 4.55468470929815,
       "encoder": "json",
       "name": "ABC-GAN Model 1 Euclidean distance",
       "version": 1
      }
     },
     "metadata": {
      "scrapbook": {
       "data": true,
       "display": false,
       "name": "ABC-GAN Model 1 Euclidean distance"
      }
     },
     "output_type": "display_data"
    },
    {
     "data": {
      "application/scrapbook.scrap.json+json": {
       "data": [
        [
         0.1997134178250763,
         0.20098153594832108,
         0.21005176238300263,
         0.20091445463680327,
         0.20379159411956974,
         0.19467721471400445,
         0.20233864029649817,
         0.20302159681189372,
         0.20413433347904322,
         0.2042891699486712,
         0.20196488088533385,
         0.20480254761730646,
         0.20652476964632924,
         0.20321463436293385,
         0.20677583536317296,
         0.20452783756733353,
         0.19783490143870153,
         0.1999797330383833,
         0.20362045323553168,
         0.20064597673134826,
         0.2032032906318816,
         0.20355374079587876,
         0.20610068104240067,
         0.20639996103015504,
         0.20502490980018273,
         0.20668774789584823,
         0.2022226377677705,
         0.21109990778768506,
         0.20197112125055497,
         0.20073446673964954,
         0.20044462114769712,
         0.20226450502545434,
         0.20488918071038953,
         0.20731616231338748,
         0.20282622207409323,
         0.20285435038204327,
         0.20028506190728848,
         0.20360505818494634,
         0.19834068407233355,
         0.2055988783048806,
         0.20343342797638067,
         0.203840253867971,
         0.20368809352498082,
         0.1977458337137955,
         0.20589414781199403,
         0.20046691580292972,
         0.19505512863086236,
         0.19714975560628936,
         0.19951817775930053,
         0.20405747698455723,
         0.203283412760521,
         0.20430031552171085,
         0.2007760673985723,
         0.20015127270291194,
         0.20376154659128295,
         0.2039731797009224,
         0.20351243363416416,
         0.2066172356552854,
         0.20469034721855003,
         0.19940446606521242,
         0.20509269713603773,
         0.20350057096705348,
         0.2034259466874804,
         0.20442957823627783,
         0.20523465634863194,
         0.2023923099174194,
         0.20118841043749694,
         0.2029000326463341,
         0.20353442777415576,
         0.2010467906397533,
         0.2047097931813515,
         0.1974084289128093,
         0.20900561989904332,
         0.20507903207833134,
         0.2051506545943932,
         0.2032945898345492,
         0.20640445136110958,
         0.20650518457572187,
         0.20287326803667743,
         0.20351013103671411,
         0.20458450080578758,
         0.2050656120559282,
         0.20546929799456734,
         0.20202814859322762,
         0.21098220969931003,
         0.2059752128252246,
         0.2025840415636562,
         0.20558078800321847,
         0.20245631984714724,
         0.20526891528096566,
         0.19763364316696921,
         0.20448548622706106,
         0.20449042379104143,
         0.20787712907391762,
         0.20451962045629146,
         0.20361878375222253,
         0.20423614491071798,
         0.20476557066337678,
         0.20565545546457642,
         0.20495266661768505
        ],
        [
         0.27327998808023574,
         0.2756849737132,
         0.28588666586552325,
         0.27666813563372866,
         0.27993772779226156,
         0.2700872265861607,
         0.28015160104077236,
         0.27950893273672966,
         0.2775196210405899,
         0.2784434361383319,
         0.2775465081281522,
         0.28194154437412233,
         0.28150195979020176,
         0.28023262015160394,
         0.2845515866259423,
         0.281000544545332,
         0.2723858156652354,
         0.27233082690623167,
         0.2779183955680506,
         0.27344337951245845,
         0.27925490763029265,
         0.28073839180390625,
         0.2821778076171291,
         0.28075764041540086,
         0.281079786954055,
         0.2794133779574551,
         0.2803795435511525,
         0.28464190417206753,
         0.27617211128680913,
         0.27554997301423084,
         0.27801236008093055,
         0.27528895565546024,
         0.27883260919913355,
         0.2807112557850048,
         0.27885562953922677,
         0.2766328583603871,
         0.2757234255550429,
         0.2777477276611927,
         0.27506531791889344,
         0.28073354249400106,
         0.2773202810865626,
         0.2827638006625314,
         0.279875190476613,
         0.273943248131842,
         0.2816818202640313,
         0.2766005791376765,
         0.27126342644595414,
         0.27577322803656845,
         0.27493156757954434,
         0.2794926498797448,
         0.27895774903670684,
         0.2763585607411669,
         0.27841505487152723,
         0.2782658260023477,
         0.2808090330229378,
         0.28084046479460656,
         0.2792961678083064,
         0.27952666344194144,
         0.2773312146903253,
         0.2757222847396727,
         0.27720663287476,
         0.27678051373610896,
         0.27981013238576113,
         0.279391679145834,
         0.27928699288225056,
         0.2792309442005467,
         0.27609919999525245,
         0.27810401429294374,
         0.2781565015697304,
         0.27858007326265616,
         0.27711573133573814,
         0.27405422042105715,
         0.2797897753177905,
         0.2812136930468328,
         0.28046113804128825,
         0.27872166622831834,
         0.2787928591418427,
         0.2785611217111057,
         0.27726239903702166,
         0.2783710433206722,
         0.2802166527995438,
         0.28245528544500176,
         0.280176443248695,
         0.27874618915238364,
         0.2839556890996356,
         0.28198194979146746,
         0.27861951465042784,
         0.2773946339410602,
         0.274970488379682,
         0.2791283488383188,
         0.2732717674225569,
         0.2776094021312162,
         0.2789563723365028,
         0.2830021272312996,
         0.2810190297918869,
         0.27873406776537496,
         0.2802704322270538,
         0.27823908154067456,
         0.2837270725354114,
         0.2803029791068505
        ],
        [
         27.874558784184046,
         28.1198673187464,
         29.160439918283373,
         28.220149834640324,
         28.55364823481068,
         27.548897111788392,
         28.57546330615878,
         28.509911139146425,
         28.30700134614017,
         28.401230486109853,
         28.30974382907152,
         28.75803752616048,
         28.71319989860058,
         28.5837272554636,
         29.02426183584612,
         28.662055543623865,
         27.783353197854012,
         27.777744344435632,
         28.34767634794116,
         27.891224710270762,
         28.48400057828985,
         28.635315963998437,
         28.782136376947165,
         28.637279322370887,
         28.67013826931361,
         28.50016455166042,
         28.59871344221756,
         29.03347422555089,
         28.16955535125453,
         28.106097247451544,
         28.357260728254914,
         28.079473476856947,
         28.440926138311625,
         28.632548090070486,
         28.443274213001132,
         28.216551552759483,
         28.123789406614378,
         28.330268221441656,
         28.056662427727133,
         28.634821334388107,
         28.286668670829386,
         28.841907667578198,
         28.547269428614527,
         27.942211309447885,
         28.731545666931197,
         28.213259072043,
         27.66886949748732,
         28.12886925972998,
         28.043019893113524,
         28.508250287733972,
         28.453690401744097,
         28.18857319559902,
         28.398335596895777,
         28.383114252239466,
         28.642521368339658,
         28.64572740904987,
         28.48820911644725,
         28.511719671078026,
         28.28778389841318,
         28.123673043446615,
         28.275076553225517,
         28.23161240108311,
         28.540633503347635,
         28.49795127287507,
         28.487273273989558,
         28.481556308455765,
         28.162118399515748,
         28.36660945788026,
         28.3719631601125,
         28.415167472790927,
         28.26580459624529,
         27.953530482947826,
         28.538557082414627,
         28.683796690776944,
         28.6070360802114,
         28.42960995528847,
         28.436871632467955,
         28.41323441453278,
         28.280764701776206,
         28.393846418708563,
         28.582098585553467,
         28.81043911539018,
         28.577997211366892,
         28.43211129354313,
         28.963480288162827,
         28.76215887872968,
         28.41919049434364,
         28.29425266198814,
         28.046989814727567,
         28.471091581508517,
         27.8737202771008,
         28.316159017384052,
         28.45354997832328,
         28.866216977592558,
         28.663941038772464,
         28.430874912068248,
         28.587584087159485,
         28.380386317148805,
         28.940161398611963,
         28.59090386889875
        ],
        [
         4.513398787849106,
         4.527705452735276,
         4.628744944697888,
         4.526949786882325,
         4.559248030124716,
         4.456127904451178,
         4.542966135713847,
         4.5506266463876335,
         4.563080320886582,
         4.5648105475216,
         4.538768318641529,
         4.570542621720669,
         4.5897196541755765,
         4.5527895520240405,
         4.592508596295018,
         4.567476265057983,
         4.49212198707332,
         4.516407064239791,
         4.557333236666398,
         4.523924140234617,
         4.55266247864389,
         4.556586612935128,
         4.585004849105927,
         4.5883325974776294,
         4.57302315756422,
         4.591530277083721,
         4.541663687715393,
         4.640279150476173,
         4.538838438142142,
         4.524921613403291,
         4.521653608699489,
         4.542133806108792,
         4.5715092073033965,
         4.5985050348961805,
         4.548436506268666,
         4.548751888042302,
         4.519853572245833,
         4.557160951169546,
         4.497860577583304,
         4.579419787167127,
         4.555239801985272,
         4.559792308267236,
         4.558090119726467,
         4.491110668732974,
         4.582706959518948,
         4.52190506445003,
         4.460450999657766,
         4.484336636765968,
         4.511192096491642,
         4.562221241065018,
         4.55355993718905,
         4.564935068893588,
         4.525390466540359,
         4.518343702696488,
         4.558911904425316,
         4.561278804183546,
         4.556124255404448,
         4.590747002050876,
         4.569290471866732,
         4.509906378036207,
         4.573779083851323,
         4.555991466041115,
         4.555156041468064,
         4.566378979027073,
         4.575361728602499,
         4.5435685987532715,
         4.530035084259798,
         4.549264042669546,
         4.556370445098147,
         4.528440420857366,
         4.569507512248759,
         4.487277543133091,
         4.61720404895673,
         4.573626708859151,
         4.5744252938077485,
         4.553685119013392,
         4.5883825079033205,
         4.589502023828252,
         4.548963985320295,
         4.556098480689902,
         4.568108917505178,
         4.573477061241771,
         4.577976452041432,
         4.53947917238412,
         4.638985383608103,
         4.583609026539339,
         4.545720211307876,
         4.579218314988736,
         4.544287031472486,
         4.575743585326705,
         4.489836478428903,
         4.567003349589337,
         4.567058487329259,
         4.604722268013521,
         4.567384512666054,
         4.557314553849307,
         4.564218090855566,
         4.5701299989895725,
         4.580049831321356,
         4.57221740460839
        ]
       ],
       "encoder": "json",
       "name": "ABC_GAN_2 Metrics",
       "version": 1
      }
     },
     "metadata": {
      "scrapbook": {
       "data": true,
       "display": false,
       "name": "ABC_GAN_2 Metrics"
      }
     },
     "output_type": "display_data"
    },
    {
     "name": "stdout",
     "output_type": "stream",
     "text": [
      "MAE\n",
      "0.278567272867798\n"
     ]
    }
   ],
   "source": [
    "ABC_GAN2_metrics=ABC_train_test2.test_generator(gen2,test_data,prior_model,variance,bias,\"1\",device)\n",
    "sb.glue(\"ABC_GAN_2 Metrics\",ABC_GAN2_metrics)\n",
    "\n",
    "print(\"MAE\")\n",
    "print(mean(ABC_GAN2_metrics[1]))"
   ]
  },
  {
   "cell_type": "code",
   "execution_count": 18,
   "id": "f3d10741",
   "metadata": {
    "execution": {
     "iopub.execute_input": "2022-07-22T20:09:08.876126Z",
     "iopub.status.busy": "2022-07-22T20:09:08.875365Z",
     "iopub.status.idle": "2022-07-22T20:09:09.763005Z",
     "shell.execute_reply": "2022-07-22T20:09:09.760416Z"
    },
    "papermill": {
     "duration": 0.914021,
     "end_time": "2022-07-22T20:09:09.767048",
     "exception": false,
     "start_time": "2022-07-22T20:09:08.853027",
     "status": "completed"
    },
    "tags": []
   },
   "outputs": [
    {
     "data": {
      "image/png": "[encoded data removed]",
      "text/plain": [
       "<Figure size 432x288 with 1 Axes>"
      ]
     },
     "metadata": {
      "needs_background": "light"
     },
     "output_type": "display_data"
    },
    {
     "data": {
      "image/png": "[encoded data removed]",
      "text/plain": [
       "<Figure size 432x288 with 1 Axes>"
      ]
     },
     "metadata": {
      "needs_background": "light"
     },
     "output_type": "display_data"
    },
    {
     "data": {
      "image/png": "[encoded data removed]",
      "text/plain": [
       "<Figure size 432x288 with 1 Axes>"
      ]
     },
     "metadata": {
      "needs_background": "light"
     },
     "output_type": "display_data"
    },
    {
     "data": {
      "image/png": "[encoded data removed]",
      "text/plain": [
       "<Figure size 432x288 with 1 Axes>"
      ]
     },
     "metadata": {
      "needs_background": "light"
     },
     "output_type": "display_data"
    }
   ],
   "source": [
    "sanityChecks.discProbVsError(train_data,disc2,device)\n",
    "sanityChecks.discProbVsError(test_data,disc2,device)"
   ]
  },
  {
   "cell_type": "markdown",
   "id": "130f3a4d",
   "metadata": {
    "id": "130f3a4d",
    "papermill": {
     "duration": 0.016603,
     "end_time": "2022-07-22T20:09:09.801043",
     "exception": false,
     "start_time": "2022-07-22T20:09:09.784440",
     "status": "completed"
    },
    "tags": []
   },
   "source": [
    "# skipGAN Model"
   ]
  },
  {
   "cell_type": "code",
   "execution_count": 19,
   "id": "4e43dad1",
   "metadata": {
    "execution": {
     "iopub.execute_input": "2022-07-22T20:09:09.841349Z",
     "iopub.status.busy": "2022-07-22T20:09:09.840463Z",
     "iopub.status.idle": "2022-07-22T20:09:09.846231Z",
     "shell.execute_reply": "2022-07-22T20:09:09.844785Z"
    },
    "id": "4e43dad1",
    "papermill": {
     "duration": 0.033056,
     "end_time": "2022-07-22T20:09:09.851048",
     "exception": false,
     "start_time": "2022-07-22T20:09:09.817992",
     "status": "completed"
    },
    "tags": []
   },
   "outputs": [],
   "source": [
    "# #Generator\n",
    "# gen3 = network.GeneratorWithSkipConnection(n_features+1).to(device)\n",
    "# constraints=network.weightConstraint()\n",
    "# #Discriminator \n",
    "# disc3 = network.Discriminator(n_features+1).to(device)\n",
    "\n",
    "# criterion = torch.nn.BCELoss()\n",
    "# gen_opt = torch.optim.Adam(gen3.parameters(), lr=0.01, betas=(0.5, 0.999))\n",
    "# disc_opt = torch.optim.Adam(disc3.parameters(), lr=0.01, betas=(0.5, 0.999))\n"
   ]
  },
  {
   "cell_type": "markdown",
   "id": "873467a7",
   "metadata": {
    "tags": [
     "papermill-error-cell-tag"
    ]
   },
   "source": [
    "<span id=\"papermill-error-cell\" style=\"color:red; font-family:Helvetica Neue, Helvetica, Arial, sans-serif; font-size:2em;\">Execution using papermill encountered an exception here and stopped:</span>"
   ]
  },
  {
   "cell_type": "code",
   "execution_count": 20,
   "id": "26acbc37",
   "metadata": {
    "execution": {
     "iopub.execute_input": "2022-07-22T20:09:09.886296Z",
     "iopub.status.busy": "2022-07-22T20:09:09.885937Z",
     "iopub.status.idle": "2022-07-22T20:09:10.661535Z",
     "shell.execute_reply": "2022-07-22T20:09:10.659500Z"
    },
    "id": "26acbc37",
    "papermill": {
     "duration": 0.794673,
     "end_time": "2022-07-22T20:09:10.663701",
     "exception": true,
     "start_time": "2022-07-22T20:09:09.869028",
     "status": "failed"
    },
    "tags": []
   },
   "outputs": [
    {
     "ename": "NameError",
     "evalue": "name 'disc3' is not defined",
     "output_type": "error",
     "traceback": [
      "\u001b[0;31m---------------------------------------------------------------------------\u001b[0m",
      "\u001b[0;31mNameError\u001b[0m                                 Traceback (most recent call last)",
      "Input \u001b[0;32mIn [20]\u001b[0m, in \u001b[0;36m<cell line: 1>\u001b[0;34m()\u001b[0m\n\u001b[0;32m----> 1\u001b[0m ABC_train_test2\u001b[38;5;241m.\u001b[39mtraining_GAN_skip_connection(\u001b[43mdisc3\u001b[49m,gen3,disc_opt,gen_opt,train_data,batch_size,n_epochs,criterion,prior_model,variance,bias,device)\n",
      "\u001b[0;31mNameError\u001b[0m: name 'disc3' is not defined"
     ]
    }
   ],
   "source": [
    "ABC_train_test2.training_GAN_skip_connection(disc3,gen3,disc_opt,gen_opt,train_data,batch_size,n_epochs,criterion,prior_model,variance,bias,device)"
   ]
  },
  {
   "cell_type": "code",
   "execution_count": null,
   "id": "c5e0717b",
   "metadata": {
    "id": "c5e0717b",
    "papermill": {
     "duration": null,
     "end_time": null,
     "exception": null,
     "start_time": null,
     "status": "pending"
    },
    "tags": []
   },
   "outputs": [],
   "source": [
    "# ABC_GAN3_metrics=ABC_train_test2.test_generator(gen3,test_data,prior_model,variance,bias,\"3\",device)\n",
    "# sb.glue(\"ABC_GAN_3 Metrics\",ABC_GAN3_metrics)\n",
    "\n",
    "# print(\"MAE\")\n",
    "# print(mean(ABC_GAN3_metrics[1]))"
   ]
  },
  {
   "cell_type": "code",
   "execution_count": null,
   "id": "c8e46b48",
   "metadata": {
    "id": "c8e46b48",
    "papermill": {
     "duration": null,
     "end_time": null,
     "exception": null,
     "start_time": null,
     "status": "pending"
    },
    "tags": []
   },
   "outputs": [],
   "source": [
    "# sanityChecks.discProbVsError(train_data,disc3,device)\n",
    "# sanityChecks.discProbVsError(test_data,disc3,device)"
   ]
  },
  {
   "cell_type": "markdown",
   "id": "0ce446bc",
   "metadata": {
    "id": "130f3a4d",
    "papermill": {
     "duration": null,
     "end_time": null,
     "exception": null,
     "start_time": null,
     "status": "pending"
    },
    "tags": []
   },
   "source": [
    "# skipGAN Model with TabNet Generator"
   ]
  },
  {
   "cell_type": "code",
   "execution_count": null,
   "id": "6f27a646",
   "metadata": {
    "id": "4e43dad1",
    "papermill": {
     "duration": null,
     "end_time": null,
     "exception": null,
     "start_time": null,
     "status": "pending"
    },
    "tags": []
   },
   "outputs": [],
   "source": [
    "# #Generator\n",
    "# gen4 = network.GeneratorTabnetskipConnection(n_features+1).to(device)\n",
    "# constraints=network.weightConstraint()\n",
    "# #Discriminator \n",
    "# disc4 = network.Discriminator(n_features+1).to(device)\n",
    "\n",
    "# criterion = torch.nn.BCELoss()\n",
    "# gen_opt = torch.optim.Adam(gen4.parameters(), lr=0.01, betas=(0.5, 0.999))\n",
    "# disc_opt = torch.optim.Adam(disc4.parameters(), lr=0.01, betas=(0.5, 0.999))\n"
   ]
  },
  {
   "cell_type": "code",
   "execution_count": null,
   "id": "5cb9ee89",
   "metadata": {
    "id": "26acbc37",
    "papermill": {
     "duration": null,
     "end_time": null,
     "exception": null,
     "start_time": null,
     "status": "pending"
    },
    "tags": []
   },
   "outputs": [],
   "source": [
    "# ABC_train_test2.training_GAN_skip_connection(disc4,gen4,disc_opt,gen_opt,train_data,batch_size,n_epochs,criterion,prior_model,variance,bias,device)"
   ]
  },
  {
   "cell_type": "code",
   "execution_count": null,
   "id": "68feed3f",
   "metadata": {
    "id": "c5e0717b",
    "papermill": {
     "duration": null,
     "end_time": null,
     "exception": null,
     "start_time": null,
     "status": "pending"
    },
    "tags": []
   },
   "outputs": [],
   "source": [
    "# ABC_GAN4_metrics=ABC_train_test2.test_generator(gen4,test_data,prior_model,variance,bias,\"3\",device)\n",
    "# sb.glue(\"ABC_GAN_4 Metrics\",ABC_GAN4_metrics)\n",
    "\n",
    "# print(\"MAE\")\n",
    "# print(mean(ABC_GAN4_metrics[1]))"
   ]
  },
  {
   "cell_type": "code",
   "execution_count": null,
   "id": "bc50e403",
   "metadata": {
    "id": "c8e46b48",
    "papermill": {
     "duration": null,
     "end_time": null,
     "exception": null,
     "start_time": null,
     "status": "pending"
    },
    "tags": []
   },
   "outputs": [],
   "source": [
    "# sanityChecks.discProbVsError(train_data,disc4,device)\n",
    "# sanityChecks.discProbVsError(test_data,disc4,device)"
   ]
  },
  {
   "cell_type": "markdown",
   "id": "a5bd74c3",
   "metadata": {
    "id": "a5bd74c3",
    "papermill": {
     "duration": null,
     "end_time": null,
     "exception": null,
     "start_time": null,
     "status": "pending"
    },
    "tags": []
   },
   "source": [
    "## Skip Connection Model Analysis - ABC-GAN "
   ]
  },
  {
   "cell_type": "markdown",
   "id": "5744a8bf",
   "metadata": {
    "id": "5744a8bf",
    "papermill": {
     "duration": null,
     "end_time": null,
     "exception": null,
     "start_time": null,
     "status": "pending"
    },
    "tags": []
   },
   "source": [
    "### Weight Analysis \n",
    "\n",
    "Study the weights of the skip connection layer\n",
    "\n",
    "Equation of the skip connection is \n",
    "\n",
    "$output = y_{gan} * w + y_{abc} * (1-w)$"
   ]
  },
  {
   "cell_type": "code",
   "execution_count": null,
   "id": "52c31dea",
   "metadata": {
    "id": "52c31dea",
    "papermill": {
     "duration": null,
     "end_time": null,
     "exception": null,
     "start_time": null,
     "status": "pending"
    },
    "tags": []
   },
   "outputs": [],
   "source": [
    "# print(\"Weight of the node at skip connection\")\n",
    "# for name,param in gen3.named_parameters():\n",
    "#     if(name == \"skipNode.weight\"):\n",
    "#         print(param)\n",
    "#         sb.glue(\"Skip Connection Weight\",param.item())"
   ]
  },
  {
   "cell_type": "markdown",
   "id": "5780600c",
   "metadata": {
    "id": "a5bd74c3",
    "papermill": {
     "duration": null,
     "end_time": null,
     "exception": null,
     "start_time": null,
     "status": "pending"
    },
    "tags": []
   },
   "source": [
    "## skipGAN Model Analysis (TabNet Generator) "
   ]
  },
  {
   "cell_type": "markdown",
   "id": "75ebae5d",
   "metadata": {
    "id": "5744a8bf",
    "papermill": {
     "duration": null,
     "end_time": null,
     "exception": null,
     "start_time": null,
     "status": "pending"
    },
    "tags": []
   },
   "source": [
    "### Weight Analysis \n",
    "\n",
    "Study the weights of the skip connection layer\n",
    "\n",
    "Equation of the skip connection is \n",
    "\n",
    "$output = y_{gan} * w + y_{abc} * (1-w)$"
   ]
  },
  {
   "cell_type": "code",
   "execution_count": null,
   "id": "8117c60e",
   "metadata": {
    "id": "52c31dea",
    "papermill": {
     "duration": null,
     "end_time": null,
     "exception": null,
     "start_time": null,
     "status": "pending"
    },
    "tags": []
   },
   "outputs": [],
   "source": [
    "# print(\"Weight of the node at skip connection\")\n",
    "# for name,param in gen4.named_parameters():\n",
    "#     if(name == \"skipNode.weight\"):\n",
    "#         print(param)\n",
    "#         sb.glue(\"Skip Connection Weight\",param.item())"
   ]
  }
 ],
 "metadata": {
  "colab": {
   "collapsed_sections": [],
   "name": "ABC_GAN_Model-Catboost_Pre-gen.ipynb",
   "provenance": []
  },
  "interpreter": {
   "hash": "31f2aee4e71d21fbe5cf8b01ff0e069b9275f58929596ceb00d14d90e3e16cd6"
  },
  "kernelspec": {
   "display_name": "Python 3 (ipykernel)",
   "language": "python",
   "name": "python3"
  },
  "language_info": {
   "codemirror_mode": {
    "name": "ipython",
    "version": 3
   },
   "file_extension": ".py",
   "mimetype": "text/x-python",
   "name": "python",
   "nbconvert_exporter": "python",
   "pygments_lexer": "ipython3",
   "version": "3.8.13"
  },
  "papermill": {
   "default_parameters": {},
   "duration": 643.574372,
   "end_time": "2022-07-22T20:09:11.444689",
   "environment_variables": {},
   "exception": true,
   "input_path": "ABC_GAN-Catboost.ipynb",
   "output_path": "./ABC_GAN_Catboost/ABC-GAN_output_2_0.ipynb",
   "parameters": {
    "bias": 1,
    "variance": 1
   },
   "start_time": "2022-07-22T19:58:27.870317",
   "version": "2.3.3"
  }
 },
 "nbformat": 4,
 "nbformat_minor": 5
}