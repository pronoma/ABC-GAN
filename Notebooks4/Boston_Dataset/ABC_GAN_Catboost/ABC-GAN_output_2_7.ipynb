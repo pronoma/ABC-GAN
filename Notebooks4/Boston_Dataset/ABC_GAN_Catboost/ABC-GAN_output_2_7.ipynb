{
 "cells": [
  {
   "cell_type": "markdown",
   "id": "c355b25c",
   "metadata": {
    "tags": [
     "papermill-error-cell-tag"
    ]
   },
   "source": [
    "<span style=\"color:red; font-family:Helvetica Neue, Helvetica, Arial, sans-serif; font-size:2em;\">An Exception was encountered at '<a href=\"#papermill-error-cell\">In [20]</a>'.</span>"
   ]
  },
  {
   "cell_type": "markdown",
   "id": "622780e6",
   "metadata": {
    "id": "622780e6",
    "papermill": {
     "duration": 0.009819,
     "end_time": "2022-07-22T21:16:14.481058",
     "exception": false,
     "start_time": "2022-07-22T21:16:14.471239",
     "status": "completed"
    },
    "tags": []
   },
   "source": [
    "## Import Libraries "
   ]
  },
  {
   "cell_type": "code",
   "execution_count": 1,
   "id": "a62397e3",
   "metadata": {
    "execution": {
     "iopub.execute_input": "2022-07-22T21:16:14.503144Z",
     "iopub.status.busy": "2022-07-22T21:16:14.501002Z",
     "iopub.status.idle": "2022-07-22T21:16:14.569992Z",
     "shell.execute_reply": "2022-07-22T21:16:14.563097Z"
    },
    "id": "a62397e3",
    "papermill": {
     "duration": 0.090202,
     "end_time": "2022-07-22T21:16:14.579215",
     "exception": false,
     "start_time": "2022-07-22T21:16:14.489013",
     "status": "completed"
    },
    "tags": []
   },
   "outputs": [],
   "source": [
    "import warnings\n",
    "import sys\n",
    "sys.path.insert(0, '../../src')\n",
    "warnings.filterwarnings('ignore')"
   ]
  },
  {
   "cell_type": "code",
   "execution_count": 2,
   "id": "d6a4e155",
   "metadata": {
    "execution": {
     "iopub.execute_input": "2022-07-22T21:16:14.617772Z",
     "iopub.status.busy": "2022-07-22T21:16:14.616716Z",
     "iopub.status.idle": "2022-07-22T21:16:21.880157Z",
     "shell.execute_reply": "2022-07-22T21:16:21.879369Z"
    },
    "id": "d6a4e155",
    "papermill": {
     "duration": 7.289235,
     "end_time": "2022-07-22T21:16:21.883495",
     "exception": false,
     "start_time": "2022-07-22T21:16:14.594260",
     "status": "completed"
    },
    "tags": []
   },
   "outputs": [],
   "source": [
    "import ABC_train_test2\n",
    "import bostonDataset\n",
    "import network\n",
    "import dataset\n",
    "import sanityChecks\n",
    "import torch \n",
    "import scrapbook as sb\n",
    "from statistics import mean \n",
    "import catboost as ctb \n",
    "from sklearn.model_selection import train_test_split\n",
    "from sklearn.metrics import mean_squared_error,mean_absolute_error\n",
    "import numpy as np"
   ]
  },
  {
   "cell_type": "markdown",
   "id": "2fa5b0f7",
   "metadata": {
    "id": "2fa5b0f7",
    "papermill": {
     "duration": 0.008455,
     "end_time": "2022-07-22T21:16:21.899524",
     "exception": false,
     "start_time": "2022-07-22T21:16:21.891069",
     "status": "completed"
    },
    "tags": []
   },
   "source": [
    "## Parameters "
   ]
  },
  {
   "cell_type": "code",
   "execution_count": 3,
   "id": "783186fb",
   "metadata": {
    "execution": {
     "iopub.execute_input": "2022-07-22T21:16:21.931658Z",
     "iopub.status.busy": "2022-07-22T21:16:21.928546Z",
     "iopub.status.idle": "2022-07-22T21:16:21.946054Z",
     "shell.execute_reply": "2022-07-22T21:16:21.942330Z"
    },
    "id": "783186fb",
    "papermill": {
     "duration": 0.041006,
     "end_time": "2022-07-22T21:16:21.949480",
     "exception": false,
     "start_time": "2022-07-22T21:16:21.908474",
     "status": "completed"
    },
    "tags": [
     "parameters"
    ]
   },
   "outputs": [],
   "source": [
    "variance = 1\n",
    "bias = 1 "
   ]
  },
  {
   "cell_type": "code",
   "execution_count": 4,
   "id": "f66d46a5",
   "metadata": {
    "execution": {
     "iopub.execute_input": "2022-07-22T21:16:21.969267Z",
     "iopub.status.busy": "2022-07-22T21:16:21.968609Z",
     "iopub.status.idle": "2022-07-22T21:16:21.980060Z",
     "shell.execute_reply": "2022-07-22T21:16:21.975582Z"
    },
    "papermill": {
     "duration": 0.02387,
     "end_time": "2022-07-22T21:16:21.982872",
     "exception": false,
     "start_time": "2022-07-22T21:16:21.959002",
     "status": "completed"
    },
    "tags": [
     "injected-parameters"
    ]
   },
   "outputs": [],
   "source": [
    "# Parameters\n",
    "variance = 0.1\n",
    "bias = 0.01\n"
   ]
  },
  {
   "cell_type": "markdown",
   "id": "391cdbfd",
   "metadata": {
    "id": "391cdbfd",
    "papermill": {
     "duration": 0.007742,
     "end_time": "2022-07-22T21:16:21.997851",
     "exception": false,
     "start_time": "2022-07-22T21:16:21.990109",
     "status": "completed"
    },
    "tags": []
   },
   "source": [
    "## Dataset \n"
   ]
  },
  {
   "cell_type": "code",
   "execution_count": 5,
   "id": "5b51f161",
   "metadata": {
    "execution": {
     "iopub.execute_input": "2022-07-22T21:16:22.022956Z",
     "iopub.status.busy": "2022-07-22T21:16:22.021774Z",
     "iopub.status.idle": "2022-07-22T21:16:22.029677Z",
     "shell.execute_reply": "2022-07-22T21:16:22.028215Z"
    },
    "id": "5b51f161",
    "papermill": {
     "duration": 0.029585,
     "end_time": "2022-07-22T21:16:22.036207",
     "exception": false,
     "start_time": "2022-07-22T21:16:22.006622",
     "status": "completed"
    },
    "tags": []
   },
   "outputs": [],
   "source": [
    "#Parameters \n",
    "n_features = 13\n",
    "n_samples= 506\n",
    "n_target = 1 "
   ]
  },
  {
   "cell_type": "code",
   "execution_count": 6,
   "id": "5d6eced4",
   "metadata": {
    "execution": {
     "iopub.execute_input": "2022-07-22T21:16:22.054732Z",
     "iopub.status.busy": "2022-07-22T21:16:22.054225Z",
     "iopub.status.idle": "2022-07-22T21:16:22.082531Z",
     "shell.execute_reply": "2022-07-22T21:16:22.081649Z"
    },
    "id": "5d6eced4",
    "papermill": {
     "duration": 0.061892,
     "end_time": "2022-07-22T21:16:22.106259",
     "exception": false,
     "start_time": "2022-07-22T21:16:22.044367",
     "status": "completed"
    },
    "tags": []
   },
   "outputs": [
    {
     "name": "stdout",
     "output_type": "stream",
     "text": [
      "         X1        X2        X3        X4        X5        X6        X7  \\\n",
      "0 -0.419782  0.284830 -1.287909 -0.272599 -0.144217  0.413672 -0.120013   \n",
      "1 -0.417339 -0.487722 -0.593381 -0.272599 -0.740262  0.194274  0.367166   \n",
      "2 -0.417342 -0.487722 -0.593381 -0.272599 -0.740262  1.282714 -0.265812   \n",
      "3 -0.416750 -0.487722 -1.306878 -0.272599 -0.835284  1.016303 -0.809889   \n",
      "4 -0.412482 -0.487722 -1.306878 -0.272599 -0.835284  1.228577 -0.511180   \n",
      "\n",
      "         X8        X9       X10       X11       X12       X13         Y  \n",
      "0  0.140214 -0.982843 -0.666608 -1.459000  0.441052 -1.075562  0.159686  \n",
      "1  0.557160 -0.867883 -0.987329 -0.303094  0.441052 -0.492439 -0.101524  \n",
      "2  0.557160 -0.867883 -0.987329 -0.303094  0.396427 -1.208727  1.324247  \n",
      "3  1.077737 -0.752922 -1.106115  0.113032  0.416163 -1.361517  1.182758  \n",
      "4  1.077737 -0.752922 -1.106115  0.113032  0.441052 -1.026501  1.487503  \n"
     ]
    }
   ],
   "source": [
    "X,Y = bostonDataset.boston_data()"
   ]
  },
  {
   "cell_type": "code",
   "execution_count": 7,
   "id": "fe007438",
   "metadata": {
    "execution": {
     "iopub.execute_input": "2022-07-22T21:16:22.144317Z",
     "iopub.status.busy": "2022-07-22T21:16:22.143586Z",
     "iopub.status.idle": "2022-07-22T21:16:22.151858Z",
     "shell.execute_reply": "2022-07-22T21:16:22.150709Z"
    },
    "id": "fe007438",
    "papermill": {
     "duration": 0.039462,
     "end_time": "2022-07-22T21:16:22.157214",
     "exception": false,
     "start_time": "2022-07-22T21:16:22.117752",
     "status": "completed"
    },
    "tags": []
   },
   "outputs": [],
   "source": [
    "#Train test split for dataset \n",
    "X_train,X_test,Y_train,Y_test = train_test_split(X,Y,test_size = 0.2)\n",
    "train_data = dataset.CustomDataset(X_train,Y_train)\n",
    "test_data = dataset.CustomDataset(X_test,Y_test)\n"
   ]
  },
  {
   "cell_type": "markdown",
   "id": "a9a1af34",
   "metadata": {
    "id": "a9a1af34",
    "papermill": {
     "duration": 0.008656,
     "end_time": "2022-07-22T21:16:22.173992",
     "exception": false,
     "start_time": "2022-07-22T21:16:22.165336",
     "status": "completed"
    },
    "tags": []
   },
   "source": [
    "## Training Parameters "
   ]
  },
  {
   "cell_type": "code",
   "execution_count": 8,
   "id": "952b7fc8",
   "metadata": {
    "execution": {
     "iopub.execute_input": "2022-07-22T21:16:22.210148Z",
     "iopub.status.busy": "2022-07-22T21:16:22.209795Z",
     "iopub.status.idle": "2022-07-22T21:16:22.216686Z",
     "shell.execute_reply": "2022-07-22T21:16:22.214814Z"
    },
    "id": "952b7fc8",
    "papermill": {
     "duration": 0.034534,
     "end_time": "2022-07-22T21:16:22.222605",
     "exception": false,
     "start_time": "2022-07-22T21:16:22.188071",
     "status": "completed"
    },
    "tags": []
   },
   "outputs": [],
   "source": [
    "batch_size = 32\n",
    "n_epochs = 1000\n",
    "#Select the device \n",
    "device = torch.device('cuda' if torch.cuda.is_available() else 'cpu')"
   ]
  },
  {
   "cell_type": "markdown",
   "id": "a95e1600",
   "metadata": {
    "id": "a95e1600",
    "papermill": {
     "duration": 0.025979,
     "end_time": "2022-07-22T21:16:22.257935",
     "exception": false,
     "start_time": "2022-07-22T21:16:22.231956",
     "status": "completed"
    },
    "tags": []
   },
   "source": [
    "# ABC Pre-generator Model \n",
    "\n",
    "1. The catboost model is used as a pre-generator model for the ABC-GAN. \n",
    "2. The model is first trained on the entire dataset \n",
    "3. It generats X,Y pairs and we add some Gaussian noise with mean 0 and variance 1 to it which is then feed as input to the generator.\n"
   ]
  },
  {
   "cell_type": "code",
   "execution_count": 9,
   "id": "ff8ce7bd",
   "metadata": {
    "execution": {
     "iopub.execute_input": "2022-07-22T21:16:22.279309Z",
     "iopub.status.busy": "2022-07-22T21:16:22.278890Z",
     "iopub.status.idle": "2022-07-22T21:16:26.303493Z",
     "shell.execute_reply": "2022-07-22T21:16:26.302719Z"
    },
    "id": "ff8ce7bd",
    "papermill": {
     "duration": 4.040298,
     "end_time": "2022-07-22T21:16:26.306450",
     "exception": false,
     "start_time": "2022-07-22T21:16:22.266152",
     "status": "completed"
    },
    "tags": []
   },
   "outputs": [
    {
     "name": "stdout",
     "output_type": "stream",
     "text": [
      "Learning rate set to 0.03548\n",
      "0:\tlearn: 0.9959987\ttotal: 61.8ms\tremaining: 1m 1s\n",
      "1:\tlearn: 0.9761920\ttotal: 64.7ms\tremaining: 32.3s\n",
      "2:\tlearn: 0.9548263\ttotal: 67.2ms\tremaining: 22.3s\n",
      "3:\tlearn: 0.9367305\ttotal: 72.6ms\tremaining: 18.1s\n",
      "4:\tlearn: 0.9179719\ttotal: 84.9ms\tremaining: 16.9s\n",
      "5:\tlearn: 0.9001401\ttotal: 87.4ms\tremaining: 14.5s\n",
      "6:\tlearn: 0.8843771\ttotal: 90.4ms\tremaining: 12.8s\n",
      "7:\tlearn: 0.8659206\ttotal: 92.8ms\tremaining: 11.5s\n",
      "8:\tlearn: 0.8502339\ttotal: 95.9ms\tremaining: 10.6s\n",
      "9:\tlearn: 0.8327513\ttotal: 100ms\tremaining: 9.93s\n",
      "10:\tlearn: 0.8190150\ttotal: 103ms\tremaining: 9.3s\n",
      "11:\tlearn: 0.8043739\ttotal: 106ms\tremaining: 8.75s\n",
      "12:\tlearn: 0.7882915\ttotal: 109ms\tremaining: 8.28s\n",
      "13:\tlearn: 0.7729992\ttotal: 112ms\tremaining: 7.9s\n",
      "14:\tlearn: 0.7607502\ttotal: 115ms\tremaining: 7.53s\n",
      "15:\tlearn: 0.7451337\ttotal: 117ms\tremaining: 7.22s\n",
      "16:\tlearn: 0.7333940\ttotal: 120ms\tremaining: 6.96s\n",
      "17:\tlearn: 0.7195822\ttotal: 125ms\tremaining: 6.8s\n",
      "18:\tlearn: 0.7071602\ttotal: 127ms\tremaining: 6.56s\n",
      "19:\tlearn: 0.6951695\ttotal: 130ms\tremaining: 6.35s\n",
      "20:\tlearn: 0.6838924\ttotal: 132ms\tremaining: 6.16s\n",
      "21:\tlearn: 0.6738318\ttotal: 134ms\tremaining: 5.98s\n",
      "22:\tlearn: 0.6633722\ttotal: 137ms\tremaining: 5.81s\n",
      "23:\tlearn: 0.6536632\ttotal: 139ms\tremaining: 5.65s\n",
      "24:\tlearn: 0.6431880\ttotal: 141ms\tremaining: 5.52s\n",
      "25:\tlearn: 0.6347042\ttotal: 144ms\tremaining: 5.39s\n",
      "26:\tlearn: 0.6251634\ttotal: 162ms\tremaining: 5.84s\n",
      "27:\tlearn: 0.6161462\ttotal: 168ms\tremaining: 5.82s\n",
      "28:\tlearn: 0.6067270\ttotal: 170ms\tremaining: 5.69s\n"
     ]
    },
    {
     "name": "stdout",
     "output_type": "stream",
     "text": [
      "29:\tlearn: 0.5961478\ttotal: 172ms\tremaining: 5.55s\n",
      "30:\tlearn: 0.5864587\ttotal: 175ms\tremaining: 5.47s\n",
      "31:\tlearn: 0.5777649\ttotal: 177ms\tremaining: 5.36s\n",
      "32:\tlearn: 0.5711903\ttotal: 180ms\tremaining: 5.27s\n",
      "33:\tlearn: 0.5633476\ttotal: 182ms\tremaining: 5.17s\n",
      "34:\tlearn: 0.5553722\ttotal: 185ms\tremaining: 5.11s\n",
      "35:\tlearn: 0.5479393\ttotal: 189ms\tremaining: 5.05s\n",
      "36:\tlearn: 0.5416615\ttotal: 191ms\tremaining: 4.97s\n",
      "37:\tlearn: 0.5345882\ttotal: 194ms\tremaining: 4.9s\n",
      "38:\tlearn: 0.5270479\ttotal: 204ms\tremaining: 5.02s\n",
      "39:\tlearn: 0.5197140\ttotal: 206ms\tremaining: 4.95s\n",
      "40:\tlearn: 0.5140227\ttotal: 209ms\tremaining: 4.88s\n",
      "41:\tlearn: 0.5080719\ttotal: 211ms\tremaining: 4.82s\n",
      "42:\tlearn: 0.5036368\ttotal: 214ms\tremaining: 4.76s\n",
      "43:\tlearn: 0.4980955\ttotal: 217ms\tremaining: 4.71s\n",
      "44:\tlearn: 0.4922013\ttotal: 220ms\tremaining: 4.66s\n",
      "45:\tlearn: 0.4858081\ttotal: 222ms\tremaining: 4.61s\n",
      "46:\tlearn: 0.4799246\ttotal: 229ms\tremaining: 4.63s\n",
      "47:\tlearn: 0.4738706\ttotal: 231ms\tremaining: 4.58s\n",
      "48:\tlearn: 0.4688934\ttotal: 244ms\tremaining: 4.73s\n",
      "49:\tlearn: 0.4633967\ttotal: 247ms\tremaining: 4.68s\n",
      "50:\tlearn: 0.4576536\ttotal: 249ms\tremaining: 4.64s\n",
      "51:\tlearn: 0.4536330\ttotal: 251ms\tremaining: 4.58s\n",
      "52:\tlearn: 0.4486390\ttotal: 253ms\tremaining: 4.53s\n",
      "53:\tlearn: 0.4452041\ttotal: 255ms\tremaining: 4.46s\n",
      "54:\tlearn: 0.4403143\ttotal: 257ms\tremaining: 4.42s\n",
      "55:\tlearn: 0.4365318\ttotal: 260ms\tremaining: 4.38s\n",
      "56:\tlearn: 0.4324852\ttotal: 262ms\tremaining: 4.33s\n",
      "57:\tlearn: 0.4280699\ttotal: 264ms\tremaining: 4.29s\n",
      "58:\tlearn: 0.4247414\ttotal: 267ms\tremaining: 4.25s\n",
      "59:\tlearn: 0.4212941\ttotal: 269ms\tremaining: 4.22s\n",
      "60:\tlearn: 0.4169679\ttotal: 272ms\tremaining: 4.19s\n",
      "61:\tlearn: 0.4126546\ttotal: 277ms\tremaining: 4.19s\n",
      "62:\tlearn: 0.4099650\ttotal: 280ms\tremaining: 4.16s\n",
      "63:\tlearn: 0.4060875\ttotal: 282ms\tremaining: 4.13s\n",
      "64:\tlearn: 0.4031558\ttotal: 285ms\tremaining: 4.1s\n",
      "65:\tlearn: 0.3986114\ttotal: 287ms\tremaining: 4.06s\n",
      "66:\tlearn: 0.3949746\ttotal: 290ms\tremaining: 4.03s\n",
      "67:\tlearn: 0.3907885\ttotal: 291ms\tremaining: 3.99s\n",
      "68:\tlearn: 0.3870396\ttotal: 294ms\tremaining: 3.96s\n",
      "69:\tlearn: 0.3843321\ttotal: 296ms\tremaining: 3.93s\n",
      "70:\tlearn: 0.3800019\ttotal: 300ms\tremaining: 3.92s\n",
      "71:\tlearn: 0.3758632\ttotal: 303ms\tremaining: 3.9s\n",
      "72:\tlearn: 0.3734832\ttotal: 306ms\tremaining: 3.88s\n",
      "73:\tlearn: 0.3702902\ttotal: 308ms\tremaining: 3.85s\n",
      "74:\tlearn: 0.3669611\ttotal: 311ms\tremaining: 3.83s\n",
      "75:\tlearn: 0.3633034\ttotal: 313ms\tremaining: 3.8s\n",
      "76:\tlearn: 0.3596369\ttotal: 315ms\tremaining: 3.78s\n",
      "77:\tlearn: 0.3565964\ttotal: 318ms\tremaining: 3.76s\n"
     ]
    },
    {
     "name": "stdout",
     "output_type": "stream",
     "text": [
      "78:\tlearn: 0.3538365\ttotal: 321ms\tremaining: 3.74s\n",
      "79:\tlearn: 0.3516338\ttotal: 327ms\tremaining: 3.76s\n",
      "80:\tlearn: 0.3494250\ttotal: 330ms\tremaining: 3.74s\n",
      "81:\tlearn: 0.3473318\ttotal: 332ms\tremaining: 3.72s\n",
      "82:\tlearn: 0.3454150\ttotal: 335ms\tremaining: 3.7s\n",
      "83:\tlearn: 0.3430056\ttotal: 350ms\tremaining: 3.82s\n",
      "84:\tlearn: 0.3410095\ttotal: 353ms\tremaining: 3.79s\n",
      "85:\tlearn: 0.3381971\ttotal: 355ms\tremaining: 3.77s\n",
      "86:\tlearn: 0.3360876\ttotal: 357ms\tremaining: 3.75s\n",
      "87:\tlearn: 0.3330209\ttotal: 360ms\tremaining: 3.73s\n",
      "88:\tlearn: 0.3304549\ttotal: 363ms\tremaining: 3.71s\n",
      "89:\tlearn: 0.3276639\ttotal: 365ms\tremaining: 3.69s\n",
      "90:\tlearn: 0.3256995\ttotal: 378ms\tremaining: 3.78s\n",
      "91:\tlearn: 0.3238848\ttotal: 381ms\tremaining: 3.76s\n",
      "92:\tlearn: 0.3222623\ttotal: 384ms\tremaining: 3.74s\n",
      "93:\tlearn: 0.3201918\ttotal: 386ms\tremaining: 3.72s\n",
      "94:\tlearn: 0.3181413\ttotal: 389ms\tremaining: 3.71s\n",
      "95:\tlearn: 0.3168098\ttotal: 391ms\tremaining: 3.68s\n",
      "96:\tlearn: 0.3153963\ttotal: 394ms\tremaining: 3.66s\n",
      "97:\tlearn: 0.3136140\ttotal: 396ms\tremaining: 3.65s\n",
      "98:\tlearn: 0.3121282\ttotal: 399ms\tremaining: 3.63s\n",
      "99:\tlearn: 0.3098395\ttotal: 401ms\tremaining: 3.61s\n",
      "100:\tlearn: 0.3076889\ttotal: 403ms\tremaining: 3.59s\n",
      "101:\tlearn: 0.3059645\ttotal: 406ms\tremaining: 3.57s\n",
      "102:\tlearn: 0.3045294\ttotal: 408ms\tremaining: 3.55s\n",
      "103:\tlearn: 0.3027126\ttotal: 411ms\tremaining: 3.54s\n",
      "104:\tlearn: 0.3014756\ttotal: 413ms\tremaining: 3.52s\n",
      "105:\tlearn: 0.3000739\ttotal: 416ms\tremaining: 3.51s\n",
      "106:\tlearn: 0.2986634\ttotal: 419ms\tremaining: 3.5s\n",
      "107:\tlearn: 0.2966269\ttotal: 439ms\tremaining: 3.63s\n",
      "108:\tlearn: 0.2953871\ttotal: 442ms\tremaining: 3.61s\n",
      "109:\tlearn: 0.2937975\ttotal: 444ms\tremaining: 3.59s\n",
      "110:\tlearn: 0.2918164\ttotal: 447ms\tremaining: 3.58s\n",
      "111:\tlearn: 0.2907783\ttotal: 450ms\tremaining: 3.56s\n",
      "112:\tlearn: 0.2887366\ttotal: 453ms\tremaining: 3.55s\n",
      "113:\tlearn: 0.2875384\ttotal: 463ms\tremaining: 3.6s\n",
      "114:\tlearn: 0.2863707\ttotal: 465ms\tremaining: 3.58s\n",
      "115:\tlearn: 0.2856190\ttotal: 468ms\tremaining: 3.56s\n",
      "116:\tlearn: 0.2843176\ttotal: 471ms\tremaining: 3.55s\n",
      "117:\tlearn: 0.2826310\ttotal: 473ms\tremaining: 3.54s\n",
      "118:\tlearn: 0.2813350\ttotal: 476ms\tremaining: 3.52s\n",
      "119:\tlearn: 0.2805841\ttotal: 478ms\tremaining: 3.51s\n",
      "120:\tlearn: 0.2793974\ttotal: 481ms\tremaining: 3.49s\n",
      "121:\tlearn: 0.2781706\ttotal: 483ms\tremaining: 3.47s\n",
      "122:\tlearn: 0.2770743\ttotal: 485ms\tremaining: 3.46s\n",
      "123:\tlearn: 0.2751925\ttotal: 487ms\tremaining: 3.44s\n",
      "124:\tlearn: 0.2740818\ttotal: 490ms\tremaining: 3.43s\n",
      "125:\tlearn: 0.2730563\ttotal: 492ms\tremaining: 3.41s\n"
     ]
    },
    {
     "name": "stdout",
     "output_type": "stream",
     "text": [
      "126:\tlearn: 0.2715846\ttotal: 495ms\tremaining: 3.4s\n",
      "127:\tlearn: 0.2704000\ttotal: 497ms\tremaining: 3.39s\n",
      "128:\tlearn: 0.2693206\ttotal: 500ms\tremaining: 3.37s\n",
      "129:\tlearn: 0.2683137\ttotal: 503ms\tremaining: 3.37s\n",
      "130:\tlearn: 0.2676206\ttotal: 511ms\tremaining: 3.39s\n",
      "131:\tlearn: 0.2663303\ttotal: 517ms\tremaining: 3.4s\n",
      "132:\tlearn: 0.2653661\ttotal: 523ms\tremaining: 3.41s\n",
      "133:\tlearn: 0.2643615\ttotal: 525ms\tremaining: 3.39s\n",
      "134:\tlearn: 0.2631176\ttotal: 527ms\tremaining: 3.38s\n",
      "135:\tlearn: 0.2622304\ttotal: 530ms\tremaining: 3.37s\n",
      "136:\tlearn: 0.2616134\ttotal: 533ms\tremaining: 3.35s\n",
      "137:\tlearn: 0.2605131\ttotal: 542ms\tremaining: 3.38s\n",
      "138:\tlearn: 0.2595193\ttotal: 545ms\tremaining: 3.37s\n",
      "139:\tlearn: 0.2589884\ttotal: 548ms\tremaining: 3.36s\n",
      "140:\tlearn: 0.2581132\ttotal: 550ms\tremaining: 3.35s\n",
      "141:\tlearn: 0.2570848\ttotal: 552ms\tremaining: 3.34s\n",
      "142:\tlearn: 0.2562293\ttotal: 555ms\tremaining: 3.33s\n",
      "143:\tlearn: 0.2551671\ttotal: 558ms\tremaining: 3.31s\n",
      "144:\tlearn: 0.2543481\ttotal: 560ms\tremaining: 3.3s\n",
      "145:\tlearn: 0.2535449\ttotal: 563ms\tremaining: 3.29s\n",
      "146:\tlearn: 0.2529233\ttotal: 566ms\tremaining: 3.28s\n",
      "147:\tlearn: 0.2524536\ttotal: 568ms\tremaining: 3.27s\n",
      "148:\tlearn: 0.2516467\ttotal: 570ms\tremaining: 3.26s\n",
      "149:\tlearn: 0.2509545\ttotal: 573ms\tremaining: 3.25s\n",
      "150:\tlearn: 0.2500634\ttotal: 577ms\tremaining: 3.24s\n",
      "151:\tlearn: 0.2494102\ttotal: 584ms\tremaining: 3.26s\n",
      "152:\tlearn: 0.2481021\ttotal: 607ms\tremaining: 3.36s\n",
      "153:\tlearn: 0.2473337\ttotal: 610ms\tremaining: 3.35s\n",
      "154:\tlearn: 0.2464377\ttotal: 612ms\tremaining: 3.34s\n",
      "155:\tlearn: 0.2456717\ttotal: 614ms\tremaining: 3.32s\n",
      "156:\tlearn: 0.2449933\ttotal: 617ms\tremaining: 3.31s\n"
     ]
    },
    {
     "name": "stdout",
     "output_type": "stream",
     "text": [
      "157:\tlearn: 0.2438543\ttotal: 620ms\tremaining: 3.31s\n",
      "158:\tlearn: 0.2430052\ttotal: 624ms\tremaining: 3.3s\n",
      "159:\tlearn: 0.2422778\ttotal: 627ms\tremaining: 3.29s\n",
      "160:\tlearn: 0.2414852\ttotal: 642ms\tremaining: 3.35s\n",
      "161:\tlearn: 0.2407861\ttotal: 646ms\tremaining: 3.34s\n",
      "162:\tlearn: 0.2400972\ttotal: 648ms\tremaining: 3.33s\n",
      "163:\tlearn: 0.2392610\ttotal: 651ms\tremaining: 3.32s\n",
      "164:\tlearn: 0.2385918\ttotal: 654ms\tremaining: 3.31s\n",
      "165:\tlearn: 0.2379620\ttotal: 656ms\tremaining: 3.29s\n",
      "166:\tlearn: 0.2372101\ttotal: 659ms\tremaining: 3.29s\n",
      "167:\tlearn: 0.2363648\ttotal: 662ms\tremaining: 3.28s\n",
      "168:\tlearn: 0.2357702\ttotal: 664ms\tremaining: 3.27s\n",
      "169:\tlearn: 0.2351517\ttotal: 667ms\tremaining: 3.25s\n",
      "170:\tlearn: 0.2340332\ttotal: 678ms\tremaining: 3.29s\n",
      "171:\tlearn: 0.2334497\ttotal: 691ms\tremaining: 3.33s\n",
      "172:\tlearn: 0.2328341\ttotal: 694ms\tremaining: 3.32s\n",
      "173:\tlearn: 0.2321932\ttotal: 696ms\tremaining: 3.3s\n",
      "174:\tlearn: 0.2313985\ttotal: 699ms\tremaining: 3.29s\n",
      "175:\tlearn: 0.2307555\ttotal: 702ms\tremaining: 3.29s\n",
      "176:\tlearn: 0.2304188\ttotal: 705ms\tremaining: 3.28s\n",
      "177:\tlearn: 0.2296460\ttotal: 707ms\tremaining: 3.27s\n",
      "178:\tlearn: 0.2292036\ttotal: 712ms\tremaining: 3.26s\n",
      "179:\tlearn: 0.2281943\ttotal: 714ms\tremaining: 3.25s\n",
      "180:\tlearn: 0.2274794\ttotal: 717ms\tremaining: 3.24s\n",
      "181:\tlearn: 0.2270321\ttotal: 719ms\tremaining: 3.23s\n",
      "182:\tlearn: 0.2261823\ttotal: 722ms\tremaining: 3.22s\n",
      "183:\tlearn: 0.2254573\ttotal: 725ms\tremaining: 3.21s\n",
      "184:\tlearn: 0.2248603\ttotal: 728ms\tremaining: 3.21s\n",
      "185:\tlearn: 0.2240421\ttotal: 730ms\tremaining: 3.19s\n",
      "186:\tlearn: 0.2235451\ttotal: 732ms\tremaining: 3.18s\n",
      "187:\tlearn: 0.2225203\ttotal: 735ms\tremaining: 3.18s\n",
      "188:\tlearn: 0.2220488\ttotal: 738ms\tremaining: 3.17s\n",
      "189:\tlearn: 0.2215933\ttotal: 741ms\tremaining: 3.16s\n",
      "190:\tlearn: 0.2208400\ttotal: 747ms\tremaining: 3.16s\n",
      "191:\tlearn: 0.2203682\ttotal: 750ms\tremaining: 3.15s\n",
      "192:\tlearn: 0.2196961\ttotal: 752ms\tremaining: 3.15s\n"
     ]
    },
    {
     "name": "stdout",
     "output_type": "stream",
     "text": [
      "193:\tlearn: 0.2192227\ttotal: 767ms\tremaining: 3.19s\n",
      "194:\tlearn: 0.2186988\ttotal: 776ms\tremaining: 3.2s\n",
      "195:\tlearn: 0.2183170\ttotal: 779ms\tremaining: 3.19s\n",
      "196:\tlearn: 0.2179957\ttotal: 781ms\tremaining: 3.19s\n",
      "197:\tlearn: 0.2174933\ttotal: 784ms\tremaining: 3.17s\n",
      "198:\tlearn: 0.2170914\ttotal: 786ms\tremaining: 3.16s\n",
      "199:\tlearn: 0.2166107\ttotal: 789ms\tremaining: 3.15s\n",
      "200:\tlearn: 0.2158613\ttotal: 791ms\tremaining: 3.14s\n",
      "201:\tlearn: 0.2152862\ttotal: 794ms\tremaining: 3.13s\n",
      "202:\tlearn: 0.2142813\ttotal: 796ms\tremaining: 3.13s\n",
      "203:\tlearn: 0.2138577\ttotal: 799ms\tremaining: 3.12s\n",
      "204:\tlearn: 0.2133457\ttotal: 802ms\tremaining: 3.11s\n",
      "205:\tlearn: 0.2129114\ttotal: 806ms\tremaining: 3.11s\n",
      "206:\tlearn: 0.2123131\ttotal: 810ms\tremaining: 3.1s\n",
      "207:\tlearn: 0.2119317\ttotal: 813ms\tremaining: 3.1s\n",
      "208:\tlearn: 0.2113237\ttotal: 816ms\tremaining: 3.09s\n",
      "209:\tlearn: 0.2107943\ttotal: 818ms\tremaining: 3.08s\n",
      "210:\tlearn: 0.2099772\ttotal: 824ms\tremaining: 3.08s\n",
      "211:\tlearn: 0.2093417\ttotal: 827ms\tremaining: 3.08s\n",
      "212:\tlearn: 0.2083818\ttotal: 830ms\tremaining: 3.06s\n",
      "213:\tlearn: 0.2080186\ttotal: 843ms\tremaining: 3.09s\n",
      "214:\tlearn: 0.2077317\ttotal: 846ms\tremaining: 3.09s\n",
      "215:\tlearn: 0.2070252\ttotal: 850ms\tremaining: 3.08s\n",
      "216:\tlearn: 0.2063834\ttotal: 853ms\tremaining: 3.08s\n",
      "217:\tlearn: 0.2060941\ttotal: 855ms\tremaining: 3.07s\n",
      "218:\tlearn: 0.2052442\ttotal: 857ms\tremaining: 3.06s\n",
      "219:\tlearn: 0.2046213\ttotal: 860ms\tremaining: 3.05s\n",
      "220:\tlearn: 0.2038052\ttotal: 863ms\tremaining: 3.04s\n",
      "221:\tlearn: 0.2031307\ttotal: 874ms\tremaining: 3.06s\n",
      "222:\tlearn: 0.2025957\ttotal: 876ms\tremaining: 3.05s\n",
      "223:\tlearn: 0.2019931\ttotal: 879ms\tremaining: 3.04s\n",
      "224:\tlearn: 0.2014825\ttotal: 882ms\tremaining: 3.04s\n",
      "225:\tlearn: 0.2008343\ttotal: 884ms\tremaining: 3.03s\n",
      "226:\tlearn: 0.2000934\ttotal: 887ms\tremaining: 3.02s\n",
      "227:\tlearn: 0.1995325\ttotal: 889ms\tremaining: 3.01s\n",
      "228:\tlearn: 0.1988732\ttotal: 892ms\tremaining: 3s\n",
      "229:\tlearn: 0.1982185\ttotal: 894ms\tremaining: 2.99s\n",
      "230:\tlearn: 0.1978999\ttotal: 898ms\tremaining: 2.99s\n",
      "231:\tlearn: 0.1975122\ttotal: 900ms\tremaining: 2.98s\n",
      "232:\tlearn: 0.1969795\ttotal: 902ms\tremaining: 2.97s\n",
      "233:\tlearn: 0.1966725\ttotal: 905ms\tremaining: 2.96s\n"
     ]
    },
    {
     "name": "stdout",
     "output_type": "stream",
     "text": [
      "234:\tlearn: 0.1962259\ttotal: 915ms\tremaining: 2.98s\n",
      "235:\tlearn: 0.1955152\ttotal: 918ms\tremaining: 2.97s\n",
      "236:\tlearn: 0.1951172\ttotal: 920ms\tremaining: 2.96s\n",
      "237:\tlearn: 0.1943177\ttotal: 923ms\tremaining: 2.96s\n",
      "238:\tlearn: 0.1938434\ttotal: 926ms\tremaining: 2.95s\n",
      "239:\tlearn: 0.1936102\ttotal: 929ms\tremaining: 2.94s\n",
      "240:\tlearn: 0.1933751\ttotal: 931ms\tremaining: 2.93s\n",
      "241:\tlearn: 0.1928069\ttotal: 934ms\tremaining: 2.92s\n",
      "242:\tlearn: 0.1925577\ttotal: 936ms\tremaining: 2.92s\n",
      "243:\tlearn: 0.1920540\ttotal: 939ms\tremaining: 2.91s\n",
      "244:\tlearn: 0.1917358\ttotal: 942ms\tremaining: 2.9s\n",
      "245:\tlearn: 0.1912836\ttotal: 945ms\tremaining: 2.9s\n",
      "246:\tlearn: 0.1907203\ttotal: 953ms\tremaining: 2.9s\n",
      "247:\tlearn: 0.1903503\ttotal: 956ms\tremaining: 2.9s\n",
      "248:\tlearn: 0.1897571\ttotal: 959ms\tremaining: 2.89s\n",
      "249:\tlearn: 0.1895358\ttotal: 962ms\tremaining: 2.88s\n",
      "250:\tlearn: 0.1889759\ttotal: 964ms\tremaining: 2.88s\n",
      "251:\tlearn: 0.1884000\ttotal: 967ms\tremaining: 2.87s\n",
      "252:\tlearn: 0.1877878\ttotal: 969ms\tremaining: 2.86s\n",
      "253:\tlearn: 0.1874040\ttotal: 972ms\tremaining: 2.85s\n",
      "254:\tlearn: 0.1868428\ttotal: 974ms\tremaining: 2.85s\n",
      "255:\tlearn: 0.1865757\ttotal: 977ms\tremaining: 2.84s\n",
      "256:\tlearn: 0.1861480\ttotal: 979ms\tremaining: 2.83s\n",
      "257:\tlearn: 0.1855734\ttotal: 982ms\tremaining: 2.82s\n",
      "258:\tlearn: 0.1849169\ttotal: 985ms\tremaining: 2.82s\n",
      "259:\tlearn: 0.1842352\ttotal: 987ms\tremaining: 2.81s\n",
      "260:\tlearn: 0.1840440\ttotal: 990ms\tremaining: 2.8s\n",
      "261:\tlearn: 0.1836298\ttotal: 992ms\tremaining: 2.79s\n",
      "262:\tlearn: 0.1831533\ttotal: 996ms\tremaining: 2.79s\n",
      "263:\tlearn: 0.1825374\ttotal: 998ms\tremaining: 2.78s\n",
      "264:\tlearn: 0.1820425\ttotal: 1s\tremaining: 2.77s\n",
      "265:\tlearn: 0.1813951\ttotal: 1s\tremaining: 2.77s\n",
      "266:\tlearn: 0.1812049\ttotal: 1s\tremaining: 2.76s\n",
      "267:\tlearn: 0.1810276\ttotal: 1.02s\tremaining: 2.78s\n",
      "268:\tlearn: 0.1804604\ttotal: 1.02s\tremaining: 2.78s\n",
      "269:\tlearn: 0.1802669\ttotal: 1.03s\tremaining: 2.79s\n",
      "270:\tlearn: 0.1798794\ttotal: 1.04s\tremaining: 2.79s\n",
      "271:\tlearn: 0.1793850\ttotal: 1.04s\tremaining: 2.79s\n",
      "272:\tlearn: 0.1790539\ttotal: 1.04s\tremaining: 2.78s\n",
      "273:\tlearn: 0.1785453\ttotal: 1.05s\tremaining: 2.77s\n",
      "274:\tlearn: 0.1778963\ttotal: 1.05s\tremaining: 2.77s\n",
      "275:\tlearn: 0.1773894\ttotal: 1.05s\tremaining: 2.76s\n",
      "276:\tlearn: 0.1768069\ttotal: 1.05s\tremaining: 2.75s\n",
      "277:\tlearn: 0.1761823\ttotal: 1.06s\tremaining: 2.74s\n",
      "278:\tlearn: 0.1758656\ttotal: 1.06s\tremaining: 2.74s\n",
      "279:\tlearn: 0.1752743\ttotal: 1.06s\tremaining: 2.73s\n",
      "280:\tlearn: 0.1748496\ttotal: 1.06s\tremaining: 2.72s\n",
      "281:\tlearn: 0.1746116\ttotal: 1.07s\tremaining: 2.72s\n",
      "282:\tlearn: 0.1741303\ttotal: 1.07s\tremaining: 2.71s\n",
      "283:\tlearn: 0.1735543\ttotal: 1.07s\tremaining: 2.7s\n",
      "284:\tlearn: 0.1731033\ttotal: 1.07s\tremaining: 2.69s\n",
      "285:\tlearn: 0.1728493\ttotal: 1.08s\tremaining: 2.69s\n",
      "286:\tlearn: 0.1726931\ttotal: 1.08s\tremaining: 2.68s\n"
     ]
    },
    {
     "name": "stdout",
     "output_type": "stream",
     "text": [
      "287:\tlearn: 0.1722629\ttotal: 1.08s\tremaining: 2.68s\n",
      "288:\tlearn: 0.1716782\ttotal: 1.09s\tremaining: 2.67s\n",
      "289:\tlearn: 0.1714493\ttotal: 1.09s\tremaining: 2.67s\n",
      "290:\tlearn: 0.1711298\ttotal: 1.09s\tremaining: 2.66s\n",
      "291:\tlearn: 0.1709713\ttotal: 1.09s\tremaining: 2.65s\n",
      "292:\tlearn: 0.1705824\ttotal: 1.1s\tremaining: 2.65s\n",
      "293:\tlearn: 0.1701915\ttotal: 1.1s\tremaining: 2.64s\n",
      "294:\tlearn: 0.1696768\ttotal: 1.1s\tremaining: 2.63s\n",
      "295:\tlearn: 0.1691514\ttotal: 1.1s\tremaining: 2.63s\n",
      "296:\tlearn: 0.1686773\ttotal: 1.11s\tremaining: 2.62s\n",
      "297:\tlearn: 0.1684669\ttotal: 1.11s\tremaining: 2.62s\n",
      "298:\tlearn: 0.1679855\ttotal: 1.11s\tremaining: 2.61s\n",
      "299:\tlearn: 0.1674511\ttotal: 1.13s\tremaining: 2.63s\n",
      "300:\tlearn: 0.1671079\ttotal: 1.13s\tremaining: 2.63s\n",
      "301:\tlearn: 0.1665726\ttotal: 1.13s\tremaining: 2.62s\n",
      "302:\tlearn: 0.1660185\ttotal: 1.14s\tremaining: 2.61s\n",
      "303:\tlearn: 0.1656891\ttotal: 1.14s\tremaining: 2.6s\n",
      "304:\tlearn: 0.1653741\ttotal: 1.14s\tremaining: 2.6s\n",
      "305:\tlearn: 0.1650580\ttotal: 1.14s\tremaining: 2.59s\n",
      "306:\tlearn: 0.1646445\ttotal: 1.15s\tremaining: 2.58s\n",
      "307:\tlearn: 0.1643182\ttotal: 1.15s\tremaining: 2.58s\n",
      "308:\tlearn: 0.1639357\ttotal: 1.15s\tremaining: 2.57s\n",
      "309:\tlearn: 0.1638029\ttotal: 1.15s\tremaining: 2.57s\n",
      "310:\tlearn: 0.1634192\ttotal: 1.17s\tremaining: 2.58s\n",
      "311:\tlearn: 0.1630984\ttotal: 1.17s\tremaining: 2.58s\n",
      "312:\tlearn: 0.1626947\ttotal: 1.17s\tremaining: 2.57s\n",
      "313:\tlearn: 0.1623000\ttotal: 1.18s\tremaining: 2.57s\n",
      "314:\tlearn: 0.1617863\ttotal: 1.18s\tremaining: 2.56s\n",
      "315:\tlearn: 0.1613300\ttotal: 1.18s\tremaining: 2.56s\n",
      "316:\tlearn: 0.1611496\ttotal: 1.18s\tremaining: 2.55s\n",
      "317:\tlearn: 0.1606738\ttotal: 1.21s\tremaining: 2.58s\n",
      "318:\tlearn: 0.1602180\ttotal: 1.21s\tremaining: 2.58s\n",
      "319:\tlearn: 0.1597632\ttotal: 1.21s\tremaining: 2.57s\n",
      "320:\tlearn: 0.1593705\ttotal: 1.21s\tremaining: 2.56s\n",
      "321:\tlearn: 0.1590526\ttotal: 1.22s\tremaining: 2.56s\n",
      "322:\tlearn: 0.1587647\ttotal: 1.22s\tremaining: 2.55s\n",
      "323:\tlearn: 0.1585443\ttotal: 1.22s\tremaining: 2.54s\n",
      "324:\tlearn: 0.1583730\ttotal: 1.22s\tremaining: 2.54s\n",
      "325:\tlearn: 0.1581819\ttotal: 1.23s\tremaining: 2.54s\n",
      "326:\tlearn: 0.1576894\ttotal: 1.23s\tremaining: 2.53s\n",
      "327:\tlearn: 0.1573528\ttotal: 1.23s\tremaining: 2.52s\n",
      "328:\tlearn: 0.1570370\ttotal: 1.23s\tremaining: 2.52s\n",
      "329:\tlearn: 0.1567325\ttotal: 1.24s\tremaining: 2.52s\n",
      "330:\tlearn: 0.1562904\ttotal: 1.24s\tremaining: 2.51s\n",
      "331:\tlearn: 0.1559031\ttotal: 1.25s\tremaining: 2.51s\n",
      "332:\tlearn: 0.1557631\ttotal: 1.25s\tremaining: 2.5s\n"
     ]
    },
    {
     "name": "stdout",
     "output_type": "stream",
     "text": [
      "333:\tlearn: 0.1554907\ttotal: 1.25s\tremaining: 2.5s\n",
      "334:\tlearn: 0.1551192\ttotal: 1.25s\tremaining: 2.49s\n",
      "335:\tlearn: 0.1548327\ttotal: 1.26s\tremaining: 2.48s\n",
      "336:\tlearn: 0.1544759\ttotal: 1.26s\tremaining: 2.48s\n",
      "337:\tlearn: 0.1541224\ttotal: 1.26s\tremaining: 2.47s\n",
      "338:\tlearn: 0.1537916\ttotal: 1.26s\tremaining: 2.46s\n",
      "339:\tlearn: 0.1535784\ttotal: 1.26s\tremaining: 2.46s\n",
      "340:\tlearn: 0.1532874\ttotal: 1.27s\tremaining: 2.45s\n",
      "341:\tlearn: 0.1528936\ttotal: 1.27s\tremaining: 2.44s\n",
      "342:\tlearn: 0.1525949\ttotal: 1.27s\tremaining: 2.44s\n",
      "343:\tlearn: 0.1522668\ttotal: 1.28s\tremaining: 2.43s\n",
      "344:\tlearn: 0.1519765\ttotal: 1.28s\tremaining: 2.43s\n",
      "345:\tlearn: 0.1517307\ttotal: 1.28s\tremaining: 2.42s\n",
      "346:\tlearn: 0.1512564\ttotal: 1.28s\tremaining: 2.42s\n",
      "347:\tlearn: 0.1510329\ttotal: 1.29s\tremaining: 2.41s\n",
      "348:\tlearn: 0.1507367\ttotal: 1.29s\tremaining: 2.4s\n",
      "349:\tlearn: 0.1504277\ttotal: 1.29s\tremaining: 2.4s\n",
      "350:\tlearn: 0.1500393\ttotal: 1.29s\tremaining: 2.39s\n",
      "351:\tlearn: 0.1496316\ttotal: 1.3s\tremaining: 2.39s\n",
      "352:\tlearn: 0.1495150\ttotal: 1.3s\tremaining: 2.38s\n",
      "353:\tlearn: 0.1492731\ttotal: 1.3s\tremaining: 2.37s\n",
      "354:\tlearn: 0.1491524\ttotal: 1.3s\tremaining: 2.37s\n",
      "355:\tlearn: 0.1488998\ttotal: 1.31s\tremaining: 2.36s\n",
      "356:\tlearn: 0.1487449\ttotal: 1.31s\tremaining: 2.36s\n",
      "357:\tlearn: 0.1484146\ttotal: 1.31s\tremaining: 2.35s\n",
      "358:\tlearn: 0.1479607\ttotal: 1.31s\tremaining: 2.34s\n",
      "359:\tlearn: 0.1478046\ttotal: 1.31s\tremaining: 2.34s\n",
      "360:\tlearn: 0.1475837\ttotal: 1.32s\tremaining: 2.33s\n",
      "361:\tlearn: 0.1473262\ttotal: 1.32s\tremaining: 2.33s\n",
      "362:\tlearn: 0.1472310\ttotal: 1.32s\tremaining: 2.32s\n",
      "363:\tlearn: 0.1469898\ttotal: 1.33s\tremaining: 2.32s\n",
      "364:\tlearn: 0.1466629\ttotal: 1.33s\tremaining: 2.31s\n",
      "365:\tlearn: 0.1464339\ttotal: 1.33s\tremaining: 2.31s\n",
      "366:\tlearn: 0.1461718\ttotal: 1.33s\tremaining: 2.3s\n",
      "367:\tlearn: 0.1459408\ttotal: 1.33s\tremaining: 2.29s\n",
      "368:\tlearn: 0.1458430\ttotal: 1.34s\tremaining: 2.29s\n",
      "369:\tlearn: 0.1454120\ttotal: 1.34s\tremaining: 2.28s\n",
      "370:\tlearn: 0.1452276\ttotal: 1.34s\tremaining: 2.28s\n",
      "371:\tlearn: 0.1450076\ttotal: 1.34s\tremaining: 2.27s\n",
      "372:\tlearn: 0.1446283\ttotal: 1.35s\tremaining: 2.27s\n",
      "373:\tlearn: 0.1445254\ttotal: 1.35s\tremaining: 2.26s\n",
      "374:\tlearn: 0.1442475\ttotal: 1.35s\tremaining: 2.25s\n",
      "375:\tlearn: 0.1441630\ttotal: 1.35s\tremaining: 2.25s\n",
      "376:\tlearn: 0.1438815\ttotal: 1.36s\tremaining: 2.25s\n",
      "377:\tlearn: 0.1436008\ttotal: 1.36s\tremaining: 2.24s\n",
      "378:\tlearn: 0.1434035\ttotal: 1.36s\tremaining: 2.23s\n",
      "379:\tlearn: 0.1431245\ttotal: 1.37s\tremaining: 2.23s\n",
      "380:\tlearn: 0.1426748\ttotal: 1.37s\tremaining: 2.22s\n",
      "381:\tlearn: 0.1425864\ttotal: 1.37s\tremaining: 2.22s\n",
      "382:\tlearn: 0.1424738\ttotal: 1.37s\tremaining: 2.21s\n",
      "383:\tlearn: 0.1421072\ttotal: 1.38s\tremaining: 2.21s\n",
      "384:\tlearn: 0.1419395\ttotal: 1.38s\tremaining: 2.2s\n",
      "385:\tlearn: 0.1415773\ttotal: 1.38s\tremaining: 2.2s\n",
      "386:\tlearn: 0.1411929\ttotal: 1.38s\tremaining: 2.19s\n",
      "387:\tlearn: 0.1409620\ttotal: 1.39s\tremaining: 2.19s\n",
      "388:\tlearn: 0.1405909\ttotal: 1.39s\tremaining: 2.18s\n",
      "389:\tlearn: 0.1403444\ttotal: 1.39s\tremaining: 2.18s\n",
      "390:\tlearn: 0.1401554\ttotal: 1.39s\tremaining: 2.17s\n",
      "391:\tlearn: 0.1398340\ttotal: 1.4s\tremaining: 2.17s\n",
      "392:\tlearn: 0.1397575\ttotal: 1.4s\tremaining: 2.16s\n",
      "393:\tlearn: 0.1395348\ttotal: 1.4s\tremaining: 2.16s\n",
      "394:\tlearn: 0.1392353\ttotal: 1.41s\tremaining: 2.15s\n",
      "395:\tlearn: 0.1390054\ttotal: 1.41s\tremaining: 2.15s\n",
      "396:\tlearn: 0.1387274\ttotal: 1.41s\tremaining: 2.14s\n",
      "397:\tlearn: 0.1384726\ttotal: 1.41s\tremaining: 2.14s\n",
      "398:\tlearn: 0.1381436\ttotal: 1.42s\tremaining: 2.13s\n",
      "399:\tlearn: 0.1379660\ttotal: 1.42s\tremaining: 2.13s\n",
      "400:\tlearn: 0.1376270\ttotal: 1.42s\tremaining: 2.12s\n"
     ]
    },
    {
     "name": "stdout",
     "output_type": "stream",
     "text": [
      "401:\tlearn: 0.1373233\ttotal: 1.42s\tremaining: 2.12s\n",
      "402:\tlearn: 0.1372560\ttotal: 1.43s\tremaining: 2.11s\n",
      "403:\tlearn: 0.1369034\ttotal: 1.43s\tremaining: 2.11s\n",
      "404:\tlearn: 0.1367012\ttotal: 1.43s\tremaining: 2.1s\n",
      "405:\tlearn: 0.1365198\ttotal: 1.43s\tremaining: 2.1s\n",
      "406:\tlearn: 0.1362497\ttotal: 1.44s\tremaining: 2.09s\n",
      "407:\tlearn: 0.1361811\ttotal: 1.44s\tremaining: 2.09s\n",
      "408:\tlearn: 0.1359469\ttotal: 1.44s\tremaining: 2.08s\n",
      "409:\tlearn: 0.1357542\ttotal: 1.44s\tremaining: 2.08s\n",
      "410:\tlearn: 0.1354804\ttotal: 1.45s\tremaining: 2.07s\n",
      "411:\tlearn: 0.1352069\ttotal: 1.45s\tremaining: 2.07s\n",
      "412:\tlearn: 0.1350452\ttotal: 1.45s\tremaining: 2.06s\n",
      "413:\tlearn: 0.1347133\ttotal: 1.46s\tremaining: 2.06s\n",
      "414:\tlearn: 0.1343751\ttotal: 1.46s\tremaining: 2.06s\n",
      "415:\tlearn: 0.1340142\ttotal: 1.46s\tremaining: 2.05s\n",
      "416:\tlearn: 0.1337156\ttotal: 1.46s\tremaining: 2.04s\n",
      "417:\tlearn: 0.1333886\ttotal: 1.47s\tremaining: 2.04s\n",
      "418:\tlearn: 0.1332619\ttotal: 1.47s\tremaining: 2.04s\n",
      "419:\tlearn: 0.1330076\ttotal: 1.47s\tremaining: 2.03s\n",
      "420:\tlearn: 0.1329549\ttotal: 1.47s\tremaining: 2.03s\n",
      "421:\tlearn: 0.1326986\ttotal: 1.48s\tremaining: 2.02s\n",
      "422:\tlearn: 0.1323932\ttotal: 1.48s\tremaining: 2.02s\n",
      "423:\tlearn: 0.1320609\ttotal: 1.48s\tremaining: 2.01s\n",
      "424:\tlearn: 0.1319449\ttotal: 1.48s\tremaining: 2.01s\n",
      "425:\tlearn: 0.1317255\ttotal: 1.49s\tremaining: 2.01s\n",
      "426:\tlearn: 0.1316281\ttotal: 1.5s\tremaining: 2.01s\n",
      "427:\tlearn: 0.1313280\ttotal: 1.5s\tremaining: 2s\n",
      "428:\tlearn: 0.1311151\ttotal: 1.5s\tremaining: 2s\n",
      "429:\tlearn: 0.1310474\ttotal: 1.5s\tremaining: 1.99s\n",
      "430:\tlearn: 0.1307724\ttotal: 1.5s\tremaining: 1.99s\n",
      "431:\tlearn: 0.1305551\ttotal: 1.51s\tremaining: 1.98s\n",
      "432:\tlearn: 0.1302830\ttotal: 1.51s\tremaining: 1.98s\n",
      "433:\tlearn: 0.1300281\ttotal: 1.51s\tremaining: 1.97s\n",
      "434:\tlearn: 0.1298084\ttotal: 1.52s\tremaining: 1.97s\n",
      "435:\tlearn: 0.1295739\ttotal: 1.52s\tremaining: 1.96s\n",
      "436:\tlearn: 0.1292916\ttotal: 1.52s\tremaining: 1.96s\n",
      "437:\tlearn: 0.1291903\ttotal: 1.52s\tremaining: 1.96s\n",
      "438:\tlearn: 0.1290055\ttotal: 1.53s\tremaining: 1.95s\n",
      "439:\tlearn: 0.1288667\ttotal: 1.53s\tremaining: 1.95s\n",
      "440:\tlearn: 0.1286213\ttotal: 1.53s\tremaining: 1.94s\n",
      "441:\tlearn: 0.1283532\ttotal: 1.54s\tremaining: 1.94s\n",
      "442:\tlearn: 0.1282836\ttotal: 1.54s\tremaining: 1.94s\n",
      "443:\tlearn: 0.1279167\ttotal: 1.54s\tremaining: 1.93s\n",
      "444:\tlearn: 0.1277387\ttotal: 1.55s\tremaining: 1.93s\n",
      "445:\tlearn: 0.1274719\ttotal: 1.55s\tremaining: 1.93s\n",
      "446:\tlearn: 0.1274302\ttotal: 1.55s\tremaining: 1.92s\n",
      "447:\tlearn: 0.1271010\ttotal: 1.56s\tremaining: 1.92s\n",
      "448:\tlearn: 0.1270593\ttotal: 1.56s\tremaining: 1.91s\n",
      "449:\tlearn: 0.1267191\ttotal: 1.56s\tremaining: 1.91s\n",
      "450:\tlearn: 0.1264521\ttotal: 1.56s\tremaining: 1.91s\n",
      "451:\tlearn: 0.1261783\ttotal: 1.57s\tremaining: 1.9s\n",
      "452:\tlearn: 0.1259839\ttotal: 1.57s\tremaining: 1.9s\n",
      "453:\tlearn: 0.1257819\ttotal: 1.57s\tremaining: 1.89s\n",
      "454:\tlearn: 0.1254408\ttotal: 1.58s\tremaining: 1.89s\n",
      "455:\tlearn: 0.1251576\ttotal: 1.58s\tremaining: 1.88s\n"
     ]
    },
    {
     "name": "stdout",
     "output_type": "stream",
     "text": [
      "456:\tlearn: 0.1248691\ttotal: 1.58s\tremaining: 1.88s\n",
      "457:\tlearn: 0.1246839\ttotal: 1.58s\tremaining: 1.88s\n",
      "458:\tlearn: 0.1244384\ttotal: 1.59s\tremaining: 1.87s\n",
      "459:\tlearn: 0.1242865\ttotal: 1.59s\tremaining: 1.87s\n",
      "460:\tlearn: 0.1239589\ttotal: 1.59s\tremaining: 1.86s\n",
      "461:\tlearn: 0.1237346\ttotal: 1.6s\tremaining: 1.86s\n",
      "462:\tlearn: 0.1233383\ttotal: 1.6s\tremaining: 1.86s\n",
      "463:\tlearn: 0.1231692\ttotal: 1.61s\tremaining: 1.86s\n",
      "464:\tlearn: 0.1229549\ttotal: 1.61s\tremaining: 1.85s\n",
      "465:\tlearn: 0.1228899\ttotal: 1.61s\tremaining: 1.85s\n",
      "466:\tlearn: 0.1227446\ttotal: 1.61s\tremaining: 1.84s\n",
      "467:\tlearn: 0.1226840\ttotal: 1.62s\tremaining: 1.84s\n",
      "468:\tlearn: 0.1224971\ttotal: 1.62s\tremaining: 1.83s\n",
      "469:\tlearn: 0.1222123\ttotal: 1.62s\tremaining: 1.83s\n",
      "470:\tlearn: 0.1221318\ttotal: 1.63s\tremaining: 1.82s\n",
      "471:\tlearn: 0.1220603\ttotal: 1.63s\tremaining: 1.82s\n",
      "472:\tlearn: 0.1217765\ttotal: 1.63s\tremaining: 1.82s\n",
      "473:\tlearn: 0.1214470\ttotal: 1.64s\tremaining: 1.82s\n",
      "474:\tlearn: 0.1212476\ttotal: 1.65s\tremaining: 1.82s\n",
      "475:\tlearn: 0.1210557\ttotal: 1.65s\tremaining: 1.81s\n",
      "476:\tlearn: 0.1207657\ttotal: 1.65s\tremaining: 1.81s\n",
      "477:\tlearn: 0.1205953\ttotal: 1.65s\tremaining: 1.81s\n",
      "478:\tlearn: 0.1204183\ttotal: 1.66s\tremaining: 1.8s\n",
      "479:\tlearn: 0.1201486\ttotal: 1.66s\tremaining: 1.8s\n",
      "480:\tlearn: 0.1200397\ttotal: 1.66s\tremaining: 1.79s\n",
      "481:\tlearn: 0.1198928\ttotal: 1.66s\tremaining: 1.79s\n",
      "482:\tlearn: 0.1196266\ttotal: 1.67s\tremaining: 1.78s\n",
      "483:\tlearn: 0.1193714\ttotal: 1.67s\tremaining: 1.78s\n",
      "484:\tlearn: 0.1193323\ttotal: 1.67s\tremaining: 1.78s\n",
      "485:\tlearn: 0.1192789\ttotal: 1.68s\tremaining: 1.77s\n",
      "486:\tlearn: 0.1191183\ttotal: 1.68s\tremaining: 1.77s\n",
      "487:\tlearn: 0.1188111\ttotal: 1.68s\tremaining: 1.77s\n",
      "488:\tlearn: 0.1185719\ttotal: 1.69s\tremaining: 1.76s\n",
      "489:\tlearn: 0.1183604\ttotal: 1.69s\tremaining: 1.76s\n",
      "490:\tlearn: 0.1181096\ttotal: 1.69s\tremaining: 1.75s\n",
      "491:\tlearn: 0.1179903\ttotal: 1.7s\tremaining: 1.75s\n",
      "492:\tlearn: 0.1176778\ttotal: 1.7s\tremaining: 1.75s\n",
      "493:\tlearn: 0.1174289\ttotal: 1.7s\tremaining: 1.74s\n",
      "494:\tlearn: 0.1173840\ttotal: 1.7s\tremaining: 1.74s\n",
      "495:\tlearn: 0.1170594\ttotal: 1.7s\tremaining: 1.73s\n",
      "496:\tlearn: 0.1169282\ttotal: 1.71s\tremaining: 1.73s\n",
      "497:\tlearn: 0.1167693\ttotal: 1.71s\tremaining: 1.72s\n",
      "498:\tlearn: 0.1166882\ttotal: 1.71s\tremaining: 1.72s\n",
      "499:\tlearn: 0.1164154\ttotal: 1.72s\tremaining: 1.72s\n",
      "500:\tlearn: 0.1162349\ttotal: 1.73s\tremaining: 1.72s\n",
      "501:\tlearn: 0.1159898\ttotal: 1.73s\tremaining: 1.72s\n",
      "502:\tlearn: 0.1158100\ttotal: 1.74s\tremaining: 1.72s\n",
      "503:\tlearn: 0.1156138\ttotal: 1.74s\tremaining: 1.71s\n",
      "504:\tlearn: 0.1153617\ttotal: 1.74s\tremaining: 1.71s\n"
     ]
    },
    {
     "name": "stdout",
     "output_type": "stream",
     "text": [
      "505:\tlearn: 0.1150769\ttotal: 1.74s\tremaining: 1.7s\n",
      "506:\tlearn: 0.1148858\ttotal: 1.75s\tremaining: 1.7s\n",
      "507:\tlearn: 0.1146768\ttotal: 1.75s\tremaining: 1.69s\n",
      "508:\tlearn: 0.1144601\ttotal: 1.75s\tremaining: 1.69s\n",
      "509:\tlearn: 0.1142768\ttotal: 1.76s\tremaining: 1.69s\n",
      "510:\tlearn: 0.1140781\ttotal: 1.76s\tremaining: 1.68s\n",
      "511:\tlearn: 0.1138184\ttotal: 1.76s\tremaining: 1.68s\n",
      "512:\tlearn: 0.1135804\ttotal: 1.76s\tremaining: 1.68s\n",
      "513:\tlearn: 0.1134281\ttotal: 1.77s\tremaining: 1.67s\n",
      "514:\tlearn: 0.1131681\ttotal: 1.77s\tremaining: 1.67s\n",
      "515:\tlearn: 0.1130453\ttotal: 1.77s\tremaining: 1.67s\n",
      "516:\tlearn: 0.1128946\ttotal: 1.78s\tremaining: 1.66s\n",
      "517:\tlearn: 0.1126315\ttotal: 1.78s\tremaining: 1.66s\n",
      "518:\tlearn: 0.1124949\ttotal: 1.78s\tremaining: 1.65s\n",
      "519:\tlearn: 0.1122151\ttotal: 1.78s\tremaining: 1.65s\n",
      "520:\tlearn: 0.1119754\ttotal: 1.79s\tremaining: 1.64s\n",
      "521:\tlearn: 0.1116994\ttotal: 1.79s\tremaining: 1.64s\n",
      "522:\tlearn: 0.1115735\ttotal: 1.79s\tremaining: 1.64s\n",
      "523:\tlearn: 0.1113466\ttotal: 1.8s\tremaining: 1.63s\n",
      "524:\tlearn: 0.1111051\ttotal: 1.8s\tremaining: 1.63s\n",
      "525:\tlearn: 0.1108650\ttotal: 1.81s\tremaining: 1.63s\n",
      "526:\tlearn: 0.1106077\ttotal: 1.81s\tremaining: 1.62s\n",
      "527:\tlearn: 0.1103490\ttotal: 1.81s\tremaining: 1.62s\n",
      "528:\tlearn: 0.1101379\ttotal: 1.81s\tremaining: 1.62s\n",
      "529:\tlearn: 0.1098953\ttotal: 1.82s\tremaining: 1.61s\n",
      "530:\tlearn: 0.1096133\ttotal: 1.82s\tremaining: 1.61s\n",
      "531:\tlearn: 0.1094231\ttotal: 1.82s\tremaining: 1.6s\n",
      "532:\tlearn: 0.1093125\ttotal: 1.82s\tremaining: 1.6s\n",
      "533:\tlearn: 0.1090686\ttotal: 1.83s\tremaining: 1.59s\n",
      "534:\tlearn: 0.1089345\ttotal: 1.83s\tremaining: 1.59s\n",
      "535:\tlearn: 0.1087535\ttotal: 1.83s\tremaining: 1.58s\n",
      "536:\tlearn: 0.1085238\ttotal: 1.83s\tremaining: 1.58s\n",
      "537:\tlearn: 0.1083425\ttotal: 1.84s\tremaining: 1.58s\n",
      "538:\tlearn: 0.1081966\ttotal: 1.84s\tremaining: 1.57s\n",
      "539:\tlearn: 0.1079756\ttotal: 1.84s\tremaining: 1.57s\n",
      "540:\tlearn: 0.1078339\ttotal: 1.84s\tremaining: 1.56s\n",
      "541:\tlearn: 0.1075932\ttotal: 1.85s\tremaining: 1.56s\n",
      "542:\tlearn: 0.1074840\ttotal: 1.85s\tremaining: 1.56s\n",
      "543:\tlearn: 0.1072647\ttotal: 1.85s\tremaining: 1.55s\n",
      "544:\tlearn: 0.1071411\ttotal: 1.85s\tremaining: 1.55s\n",
      "545:\tlearn: 0.1070633\ttotal: 1.86s\tremaining: 1.54s\n",
      "546:\tlearn: 0.1067895\ttotal: 1.86s\tremaining: 1.54s\n",
      "547:\tlearn: 0.1065855\ttotal: 1.86s\tremaining: 1.53s\n",
      "548:\tlearn: 0.1065476\ttotal: 1.86s\tremaining: 1.53s\n",
      "549:\tlearn: 0.1063183\ttotal: 1.87s\tremaining: 1.53s\n"
     ]
    },
    {
     "name": "stdout",
     "output_type": "stream",
     "text": [
      "550:\tlearn: 0.1060984\ttotal: 1.87s\tremaining: 1.52s\n",
      "551:\tlearn: 0.1058855\ttotal: 1.87s\tremaining: 1.52s\n",
      "552:\tlearn: 0.1056663\ttotal: 1.88s\tremaining: 1.52s\n",
      "553:\tlearn: 0.1056267\ttotal: 1.88s\tremaining: 1.51s\n",
      "554:\tlearn: 0.1055032\ttotal: 1.88s\tremaining: 1.51s\n",
      "555:\tlearn: 0.1052744\ttotal: 1.89s\tremaining: 1.51s\n",
      "556:\tlearn: 0.1052086\ttotal: 1.89s\tremaining: 1.5s\n",
      "557:\tlearn: 0.1051810\ttotal: 1.89s\tremaining: 1.5s\n",
      "558:\tlearn: 0.1051174\ttotal: 1.9s\tremaining: 1.5s\n",
      "559:\tlearn: 0.1050832\ttotal: 1.9s\tremaining: 1.49s\n",
      "560:\tlearn: 0.1048725\ttotal: 1.9s\tremaining: 1.49s\n",
      "561:\tlearn: 0.1046729\ttotal: 1.9s\tremaining: 1.48s\n",
      "562:\tlearn: 0.1043391\ttotal: 1.91s\tremaining: 1.48s\n",
      "563:\tlearn: 0.1042886\ttotal: 1.91s\tremaining: 1.48s\n",
      "564:\tlearn: 0.1040043\ttotal: 1.91s\tremaining: 1.47s\n",
      "565:\tlearn: 0.1038783\ttotal: 1.91s\tremaining: 1.47s\n",
      "566:\tlearn: 0.1036734\ttotal: 1.92s\tremaining: 1.46s\n",
      "567:\tlearn: 0.1035135\ttotal: 1.92s\tremaining: 1.46s\n",
      "568:\tlearn: 0.1033131\ttotal: 1.92s\tremaining: 1.46s\n",
      "569:\tlearn: 0.1030754\ttotal: 1.93s\tremaining: 1.45s\n",
      "570:\tlearn: 0.1028646\ttotal: 1.93s\tremaining: 1.45s\n",
      "571:\tlearn: 0.1026382\ttotal: 1.93s\tremaining: 1.45s\n",
      "572:\tlearn: 0.1025226\ttotal: 1.94s\tremaining: 1.44s\n",
      "573:\tlearn: 0.1023634\ttotal: 1.94s\tremaining: 1.44s\n",
      "574:\tlearn: 0.1022380\ttotal: 1.94s\tremaining: 1.44s\n",
      "575:\tlearn: 0.1021425\ttotal: 1.95s\tremaining: 1.43s\n",
      "576:\tlearn: 0.1019066\ttotal: 1.95s\tremaining: 1.43s\n",
      "577:\tlearn: 0.1016655\ttotal: 1.95s\tremaining: 1.42s\n",
      "578:\tlearn: 0.1015511\ttotal: 1.95s\tremaining: 1.42s\n",
      "579:\tlearn: 0.1014741\ttotal: 1.95s\tremaining: 1.42s\n",
      "580:\tlearn: 0.1013609\ttotal: 1.96s\tremaining: 1.41s\n",
      "581:\tlearn: 0.1012058\ttotal: 1.96s\tremaining: 1.41s\n",
      "582:\tlearn: 0.1010083\ttotal: 1.96s\tremaining: 1.4s\n",
      "583:\tlearn: 0.1008575\ttotal: 1.97s\tremaining: 1.4s\n",
      "584:\tlearn: 0.1007116\ttotal: 1.97s\tremaining: 1.4s\n",
      "585:\tlearn: 0.1005387\ttotal: 1.97s\tremaining: 1.39s\n",
      "586:\tlearn: 0.1004233\ttotal: 1.98s\tremaining: 1.39s\n",
      "587:\tlearn: 0.1003550\ttotal: 1.98s\tremaining: 1.39s\n",
      "588:\tlearn: 0.1001990\ttotal: 1.98s\tremaining: 1.38s\n",
      "589:\tlearn: 0.1000734\ttotal: 1.99s\tremaining: 1.38s\n",
      "590:\tlearn: 0.0999509\ttotal: 1.99s\tremaining: 1.38s\n",
      "591:\tlearn: 0.0998292\ttotal: 1.99s\tremaining: 1.37s\n",
      "592:\tlearn: 0.0996847\ttotal: 1.99s\tremaining: 1.37s\n",
      "593:\tlearn: 0.0996067\ttotal: 2s\tremaining: 1.36s\n",
      "594:\tlearn: 0.0994514\ttotal: 2s\tremaining: 1.36s\n",
      "595:\tlearn: 0.0994041\ttotal: 2s\tremaining: 1.36s\n",
      "596:\tlearn: 0.0992376\ttotal: 2s\tremaining: 1.35s\n",
      "597:\tlearn: 0.0990617\ttotal: 2s\tremaining: 1.35s\n",
      "598:\tlearn: 0.0989996\ttotal: 2.01s\tremaining: 1.34s\n",
      "599:\tlearn: 0.0989210\ttotal: 2.01s\tremaining: 1.34s\n",
      "600:\tlearn: 0.0986991\ttotal: 2.01s\tremaining: 1.34s\n",
      "601:\tlearn: 0.0984639\ttotal: 2.02s\tremaining: 1.33s\n",
      "602:\tlearn: 0.0983419\ttotal: 2.02s\tremaining: 1.33s\n",
      "603:\tlearn: 0.0981767\ttotal: 2.02s\tremaining: 1.32s\n",
      "604:\tlearn: 0.0979980\ttotal: 2.02s\tremaining: 1.32s\n",
      "605:\tlearn: 0.0978416\ttotal: 2.03s\tremaining: 1.32s\n",
      "606:\tlearn: 0.0976150\ttotal: 2.03s\tremaining: 1.31s\n",
      "607:\tlearn: 0.0975105\ttotal: 2.03s\tremaining: 1.31s\n",
      "608:\tlearn: 0.0974065\ttotal: 2.04s\tremaining: 1.31s\n",
      "609:\tlearn: 0.0971831\ttotal: 2.04s\tremaining: 1.3s\n",
      "610:\tlearn: 0.0969282\ttotal: 2.04s\tremaining: 1.3s\n",
      "611:\tlearn: 0.0966705\ttotal: 2.04s\tremaining: 1.3s\n",
      "612:\tlearn: 0.0965538\ttotal: 2.05s\tremaining: 1.29s\n"
     ]
    },
    {
     "name": "stdout",
     "output_type": "stream",
     "text": [
      "613:\tlearn: 0.0964060\ttotal: 2.05s\tremaining: 1.29s\n",
      "614:\tlearn: 0.0962836\ttotal: 2.05s\tremaining: 1.28s\n",
      "615:\tlearn: 0.0962408\ttotal: 2.06s\tremaining: 1.28s\n",
      "616:\tlearn: 0.0961077\ttotal: 2.06s\tremaining: 1.28s\n",
      "617:\tlearn: 0.0960936\ttotal: 2.06s\tremaining: 1.28s\n",
      "618:\tlearn: 0.0960665\ttotal: 2.07s\tremaining: 1.27s\n",
      "619:\tlearn: 0.0959546\ttotal: 2.07s\tremaining: 1.27s\n",
      "620:\tlearn: 0.0958613\ttotal: 2.07s\tremaining: 1.26s\n",
      "621:\tlearn: 0.0956651\ttotal: 2.08s\tremaining: 1.26s\n",
      "622:\tlearn: 0.0954791\ttotal: 2.08s\tremaining: 1.26s\n",
      "623:\tlearn: 0.0952915\ttotal: 2.08s\tremaining: 1.25s\n",
      "624:\tlearn: 0.0951956\ttotal: 2.08s\tremaining: 1.25s\n",
      "625:\tlearn: 0.0950527\ttotal: 2.09s\tremaining: 1.25s\n",
      "626:\tlearn: 0.0948945\ttotal: 2.09s\tremaining: 1.24s\n",
      "627:\tlearn: 0.0947618\ttotal: 2.09s\tremaining: 1.24s\n",
      "628:\tlearn: 0.0945708\ttotal: 2.09s\tremaining: 1.23s\n",
      "629:\tlearn: 0.0944050\ttotal: 2.1s\tremaining: 1.23s\n",
      "630:\tlearn: 0.0941959\ttotal: 2.1s\tremaining: 1.23s\n",
      "631:\tlearn: 0.0941667\ttotal: 2.1s\tremaining: 1.22s\n",
      "632:\tlearn: 0.0940630\ttotal: 2.1s\tremaining: 1.22s\n",
      "633:\tlearn: 0.0938728\ttotal: 2.11s\tremaining: 1.22s\n",
      "634:\tlearn: 0.0938247\ttotal: 2.11s\tremaining: 1.21s\n",
      "635:\tlearn: 0.0936510\ttotal: 2.11s\tremaining: 1.21s\n",
      "636:\tlearn: 0.0934460\ttotal: 2.12s\tremaining: 1.21s\n",
      "637:\tlearn: 0.0932712\ttotal: 2.12s\tremaining: 1.2s\n",
      "638:\tlearn: 0.0931527\ttotal: 2.12s\tremaining: 1.2s\n",
      "639:\tlearn: 0.0931110\ttotal: 2.12s\tremaining: 1.19s\n",
      "640:\tlearn: 0.0930635\ttotal: 2.12s\tremaining: 1.19s\n",
      "641:\tlearn: 0.0929843\ttotal: 2.13s\tremaining: 1.19s\n",
      "642:\tlearn: 0.0929060\ttotal: 2.13s\tremaining: 1.18s\n",
      "643:\tlearn: 0.0928552\ttotal: 2.13s\tremaining: 1.18s\n",
      "644:\tlearn: 0.0927165\ttotal: 2.13s\tremaining: 1.18s\n",
      "645:\tlearn: 0.0925696\ttotal: 2.14s\tremaining: 1.17s\n",
      "646:\tlearn: 0.0925299\ttotal: 2.14s\tremaining: 1.17s\n",
      "647:\tlearn: 0.0923980\ttotal: 2.15s\tremaining: 1.17s\n",
      "648:\tlearn: 0.0922582\ttotal: 2.15s\tremaining: 1.16s\n",
      "649:\tlearn: 0.0920745\ttotal: 2.15s\tremaining: 1.16s\n",
      "650:\tlearn: 0.0919110\ttotal: 2.15s\tremaining: 1.15s\n",
      "651:\tlearn: 0.0917596\ttotal: 2.15s\tremaining: 1.15s\n",
      "652:\tlearn: 0.0916496\ttotal: 2.16s\tremaining: 1.15s\n",
      "653:\tlearn: 0.0914428\ttotal: 2.16s\tremaining: 1.14s\n",
      "654:\tlearn: 0.0912963\ttotal: 2.16s\tremaining: 1.14s\n",
      "655:\tlearn: 0.0911510\ttotal: 2.17s\tremaining: 1.14s\n",
      "656:\tlearn: 0.0910530\ttotal: 2.17s\tremaining: 1.13s\n",
      "657:\tlearn: 0.0909282\ttotal: 2.17s\tremaining: 1.13s\n",
      "658:\tlearn: 0.0907929\ttotal: 2.17s\tremaining: 1.12s\n",
      "659:\tlearn: 0.0906957\ttotal: 2.18s\tremaining: 1.12s\n",
      "660:\tlearn: 0.0905294\ttotal: 2.18s\tremaining: 1.12s\n",
      "661:\tlearn: 0.0903985\ttotal: 2.18s\tremaining: 1.11s\n",
      "662:\tlearn: 0.0902654\ttotal: 2.18s\tremaining: 1.11s\n",
      "663:\tlearn: 0.0901513\ttotal: 2.19s\tremaining: 1.11s\n",
      "664:\tlearn: 0.0900918\ttotal: 2.19s\tremaining: 1.1s\n",
      "665:\tlearn: 0.0899350\ttotal: 2.19s\tremaining: 1.1s\n",
      "666:\tlearn: 0.0898031\ttotal: 2.19s\tremaining: 1.09s\n",
      "667:\tlearn: 0.0896758\ttotal: 2.2s\tremaining: 1.09s\n",
      "668:\tlearn: 0.0894901\ttotal: 2.2s\tremaining: 1.09s\n",
      "669:\tlearn: 0.0892447\ttotal: 2.2s\tremaining: 1.08s\n",
      "670:\tlearn: 0.0890526\ttotal: 2.21s\tremaining: 1.08s\n",
      "671:\tlearn: 0.0888574\ttotal: 2.21s\tremaining: 1.08s\n",
      "672:\tlearn: 0.0887313\ttotal: 2.21s\tremaining: 1.07s\n",
      "673:\tlearn: 0.0885763\ttotal: 2.21s\tremaining: 1.07s\n",
      "674:\tlearn: 0.0884388\ttotal: 2.21s\tremaining: 1.07s\n",
      "675:\tlearn: 0.0883283\ttotal: 2.22s\tremaining: 1.06s\n"
     ]
    },
    {
     "name": "stdout",
     "output_type": "stream",
     "text": [
      "676:\tlearn: 0.0883080\ttotal: 2.22s\tremaining: 1.06s\n",
      "677:\tlearn: 0.0881727\ttotal: 2.22s\tremaining: 1.05s\n",
      "678:\tlearn: 0.0880318\ttotal: 2.22s\tremaining: 1.05s\n",
      "679:\tlearn: 0.0878901\ttotal: 2.23s\tremaining: 1.05s\n",
      "680:\tlearn: 0.0877652\ttotal: 2.24s\tremaining: 1.05s\n",
      "681:\tlearn: 0.0876222\ttotal: 2.24s\tremaining: 1.04s\n",
      "682:\tlearn: 0.0875037\ttotal: 2.25s\tremaining: 1.04s\n",
      "683:\tlearn: 0.0874157\ttotal: 2.25s\tremaining: 1.04s\n",
      "684:\tlearn: 0.0873714\ttotal: 2.25s\tremaining: 1.03s\n",
      "685:\tlearn: 0.0872729\ttotal: 2.25s\tremaining: 1.03s\n",
      "686:\tlearn: 0.0871506\ttotal: 2.25s\tremaining: 1.03s\n",
      "687:\tlearn: 0.0871216\ttotal: 2.26s\tremaining: 1.02s\n",
      "688:\tlearn: 0.0870868\ttotal: 2.26s\tremaining: 1.02s\n",
      "689:\tlearn: 0.0869610\ttotal: 2.26s\tremaining: 1.02s\n",
      "690:\tlearn: 0.0868184\ttotal: 2.26s\tremaining: 1.01s\n",
      "691:\tlearn: 0.0867411\ttotal: 2.27s\tremaining: 1.01s\n",
      "692:\tlearn: 0.0865465\ttotal: 2.27s\tremaining: 1s\n",
      "693:\tlearn: 0.0864784\ttotal: 2.27s\tremaining: 1s\n",
      "694:\tlearn: 0.0863438\ttotal: 2.27s\tremaining: 998ms\n",
      "695:\tlearn: 0.0861456\ttotal: 2.28s\tremaining: 995ms\n",
      "696:\tlearn: 0.0860520\ttotal: 2.28s\tremaining: 991ms\n",
      "697:\tlearn: 0.0859616\ttotal: 2.28s\tremaining: 987ms\n",
      "698:\tlearn: 0.0858187\ttotal: 2.28s\tremaining: 984ms\n",
      "699:\tlearn: 0.0856699\ttotal: 2.29s\tremaining: 980ms\n",
      "700:\tlearn: 0.0855758\ttotal: 2.29s\tremaining: 977ms\n",
      "701:\tlearn: 0.0854124\ttotal: 2.29s\tremaining: 973ms\n",
      "702:\tlearn: 0.0853541\ttotal: 2.29s\tremaining: 970ms\n",
      "703:\tlearn: 0.0853096\ttotal: 2.3s\tremaining: 966ms\n",
      "704:\tlearn: 0.0852308\ttotal: 2.3s\tremaining: 963ms\n",
      "705:\tlearn: 0.0850852\ttotal: 2.3s\tremaining: 959ms\n",
      "706:\tlearn: 0.0848964\ttotal: 2.31s\tremaining: 956ms\n",
      "707:\tlearn: 0.0847242\ttotal: 2.31s\tremaining: 952ms\n",
      "708:\tlearn: 0.0845867\ttotal: 2.31s\tremaining: 948ms\n",
      "709:\tlearn: 0.0844517\ttotal: 2.32s\tremaining: 947ms\n",
      "710:\tlearn: 0.0843258\ttotal: 2.32s\tremaining: 943ms\n",
      "711:\tlearn: 0.0842154\ttotal: 2.32s\tremaining: 940ms\n",
      "712:\tlearn: 0.0841818\ttotal: 2.33s\tremaining: 937ms\n",
      "713:\tlearn: 0.0841390\ttotal: 2.33s\tremaining: 933ms\n",
      "714:\tlearn: 0.0839708\ttotal: 2.33s\tremaining: 930ms\n",
      "715:\tlearn: 0.0839317\ttotal: 2.34s\tremaining: 927ms\n",
      "716:\tlearn: 0.0838255\ttotal: 2.34s\tremaining: 924ms\n",
      "717:\tlearn: 0.0836667\ttotal: 2.34s\tremaining: 920ms\n",
      "718:\tlearn: 0.0835100\ttotal: 2.35s\tremaining: 917ms\n",
      "719:\tlearn: 0.0833503\ttotal: 2.35s\tremaining: 914ms\n",
      "720:\tlearn: 0.0831973\ttotal: 2.36s\tremaining: 914ms\n",
      "721:\tlearn: 0.0830493\ttotal: 2.36s\tremaining: 910ms\n",
      "722:\tlearn: 0.0829893\ttotal: 2.37s\tremaining: 906ms\n",
      "723:\tlearn: 0.0828435\ttotal: 2.37s\tremaining: 903ms\n",
      "724:\tlearn: 0.0827464\ttotal: 2.37s\tremaining: 899ms\n",
      "725:\tlearn: 0.0825586\ttotal: 2.37s\tremaining: 896ms\n",
      "726:\tlearn: 0.0824219\ttotal: 2.38s\tremaining: 892ms\n",
      "727:\tlearn: 0.0823276\ttotal: 2.38s\tremaining: 889ms\n",
      "728:\tlearn: 0.0822035\ttotal: 2.38s\tremaining: 885ms\n",
      "729:\tlearn: 0.0820514\ttotal: 2.38s\tremaining: 881ms\n"
     ]
    },
    {
     "name": "stdout",
     "output_type": "stream",
     "text": [
      "730:\tlearn: 0.0819370\ttotal: 2.39s\tremaining: 880ms\n",
      "731:\tlearn: 0.0818634\ttotal: 2.39s\tremaining: 876ms\n",
      "732:\tlearn: 0.0817281\ttotal: 2.4s\tremaining: 873ms\n",
      "733:\tlearn: 0.0817077\ttotal: 2.4s\tremaining: 870ms\n",
      "734:\tlearn: 0.0816018\ttotal: 2.41s\tremaining: 868ms\n",
      "735:\tlearn: 0.0813760\ttotal: 2.41s\tremaining: 865ms\n",
      "736:\tlearn: 0.0812539\ttotal: 2.42s\tremaining: 862ms\n",
      "737:\tlearn: 0.0811341\ttotal: 2.42s\tremaining: 859ms\n",
      "738:\tlearn: 0.0811039\ttotal: 2.42s\tremaining: 856ms\n",
      "739:\tlearn: 0.0810277\ttotal: 2.43s\tremaining: 855ms\n",
      "740:\tlearn: 0.0808908\ttotal: 2.44s\tremaining: 851ms\n",
      "741:\tlearn: 0.0807072\ttotal: 2.44s\tremaining: 848ms\n",
      "742:\tlearn: 0.0805712\ttotal: 2.45s\tremaining: 847ms\n",
      "743:\tlearn: 0.0804634\ttotal: 2.45s\tremaining: 843ms\n",
      "744:\tlearn: 0.0803189\ttotal: 2.45s\tremaining: 840ms\n",
      "745:\tlearn: 0.0801832\ttotal: 2.46s\tremaining: 836ms\n",
      "746:\tlearn: 0.0801366\ttotal: 2.46s\tremaining: 833ms\n",
      "747:\tlearn: 0.0800527\ttotal: 2.46s\tremaining: 829ms\n",
      "748:\tlearn: 0.0798735\ttotal: 2.46s\tremaining: 826ms\n",
      "749:\tlearn: 0.0797445\ttotal: 2.47s\tremaining: 822ms\n",
      "750:\tlearn: 0.0796525\ttotal: 2.47s\tremaining: 819ms\n",
      "751:\tlearn: 0.0795521\ttotal: 2.47s\tremaining: 815ms\n",
      "752:\tlearn: 0.0795151\ttotal: 2.47s\tremaining: 812ms\n",
      "753:\tlearn: 0.0793978\ttotal: 2.48s\tremaining: 808ms\n",
      "754:\tlearn: 0.0793644\ttotal: 2.48s\tremaining: 805ms\n",
      "755:\tlearn: 0.0793321\ttotal: 2.48s\tremaining: 801ms\n",
      "756:\tlearn: 0.0791706\ttotal: 2.48s\tremaining: 798ms\n",
      "757:\tlearn: 0.0791244\ttotal: 2.49s\tremaining: 794ms\n",
      "758:\tlearn: 0.0789630\ttotal: 2.49s\tremaining: 791ms\n",
      "759:\tlearn: 0.0788595\ttotal: 2.49s\tremaining: 787ms\n",
      "760:\tlearn: 0.0787973\ttotal: 2.5s\tremaining: 784ms\n",
      "761:\tlearn: 0.0787072\ttotal: 2.5s\tremaining: 780ms\n",
      "762:\tlearn: 0.0786172\ttotal: 2.5s\tremaining: 777ms\n",
      "763:\tlearn: 0.0785343\ttotal: 2.5s\tremaining: 773ms\n",
      "764:\tlearn: 0.0783891\ttotal: 2.5s\tremaining: 770ms\n",
      "765:\tlearn: 0.0782278\ttotal: 2.51s\tremaining: 767ms\n",
      "766:\tlearn: 0.0781152\ttotal: 2.51s\tremaining: 763ms\n",
      "767:\tlearn: 0.0780993\ttotal: 2.51s\tremaining: 760ms\n",
      "768:\tlearn: 0.0779149\ttotal: 2.52s\tremaining: 756ms\n",
      "769:\tlearn: 0.0777616\ttotal: 2.52s\tremaining: 753ms\n",
      "770:\tlearn: 0.0776713\ttotal: 2.52s\tremaining: 749ms\n",
      "771:\tlearn: 0.0775626\ttotal: 2.52s\tremaining: 746ms\n",
      "772:\tlearn: 0.0774226\ttotal: 2.53s\tremaining: 742ms\n",
      "773:\tlearn: 0.0771954\ttotal: 2.53s\tremaining: 739ms\n",
      "774:\tlearn: 0.0769873\ttotal: 2.54s\tremaining: 738ms\n",
      "775:\tlearn: 0.0768940\ttotal: 2.54s\tremaining: 735ms\n",
      "776:\tlearn: 0.0768036\ttotal: 2.55s\tremaining: 731ms\n",
      "777:\tlearn: 0.0766535\ttotal: 2.55s\tremaining: 728ms\n",
      "778:\tlearn: 0.0764841\ttotal: 2.55s\tremaining: 724ms\n"
     ]
    },
    {
     "name": "stdout",
     "output_type": "stream",
     "text": [
      "779:\tlearn: 0.0763647\ttotal: 2.56s\tremaining: 721ms\n",
      "780:\tlearn: 0.0762384\ttotal: 2.56s\tremaining: 718ms\n",
      "781:\tlearn: 0.0760946\ttotal: 2.56s\tremaining: 714ms\n",
      "782:\tlearn: 0.0759573\ttotal: 2.56s\tremaining: 711ms\n",
      "783:\tlearn: 0.0758217\ttotal: 2.57s\tremaining: 707ms\n",
      "784:\tlearn: 0.0757103\ttotal: 2.57s\tremaining: 704ms\n",
      "785:\tlearn: 0.0755629\ttotal: 2.57s\tremaining: 701ms\n",
      "786:\tlearn: 0.0754457\ttotal: 2.58s\tremaining: 697ms\n",
      "787:\tlearn: 0.0752896\ttotal: 2.58s\tremaining: 694ms\n",
      "788:\tlearn: 0.0751891\ttotal: 2.58s\tremaining: 690ms\n",
      "789:\tlearn: 0.0750760\ttotal: 2.58s\tremaining: 687ms\n",
      "790:\tlearn: 0.0749859\ttotal: 2.58s\tremaining: 683ms\n",
      "791:\tlearn: 0.0748276\ttotal: 2.59s\tremaining: 680ms\n",
      "792:\tlearn: 0.0747404\ttotal: 2.59s\tremaining: 676ms\n",
      "793:\tlearn: 0.0746717\ttotal: 2.6s\tremaining: 673ms\n",
      "794:\tlearn: 0.0746355\ttotal: 2.6s\tremaining: 670ms\n",
      "795:\tlearn: 0.0745445\ttotal: 2.6s\tremaining: 667ms\n",
      "796:\tlearn: 0.0744519\ttotal: 2.6s\tremaining: 663ms\n",
      "797:\tlearn: 0.0743084\ttotal: 2.61s\tremaining: 660ms\n",
      "798:\tlearn: 0.0741280\ttotal: 2.61s\tremaining: 657ms\n",
      "799:\tlearn: 0.0739884\ttotal: 2.61s\tremaining: 653ms\n",
      "800:\tlearn: 0.0739480\ttotal: 2.62s\tremaining: 650ms\n",
      "801:\tlearn: 0.0738440\ttotal: 2.62s\tremaining: 646ms\n",
      "802:\tlearn: 0.0737227\ttotal: 2.62s\tremaining: 643ms\n",
      "803:\tlearn: 0.0736255\ttotal: 2.62s\tremaining: 639ms\n",
      "804:\tlearn: 0.0735409\ttotal: 2.63s\tremaining: 636ms\n",
      "805:\tlearn: 0.0734554\ttotal: 2.63s\tremaining: 633ms\n",
      "806:\tlearn: 0.0733954\ttotal: 2.63s\tremaining: 629ms\n",
      "807:\tlearn: 0.0732954\ttotal: 2.63s\tremaining: 626ms\n",
      "808:\tlearn: 0.0732029\ttotal: 2.64s\tremaining: 622ms\n",
      "809:\tlearn: 0.0730691\ttotal: 2.64s\tremaining: 619ms\n",
      "810:\tlearn: 0.0729245\ttotal: 2.64s\tremaining: 616ms\n",
      "811:\tlearn: 0.0728016\ttotal: 2.64s\tremaining: 612ms\n",
      "812:\tlearn: 0.0727145\ttotal: 2.65s\tremaining: 609ms\n",
      "813:\tlearn: 0.0725975\ttotal: 2.65s\tremaining: 605ms\n",
      "814:\tlearn: 0.0725395\ttotal: 2.65s\tremaining: 602ms\n",
      "815:\tlearn: 0.0724813\ttotal: 2.65s\tremaining: 598ms\n",
      "816:\tlearn: 0.0723475\ttotal: 2.66s\tremaining: 595ms\n",
      "817:\tlearn: 0.0722346\ttotal: 2.66s\tremaining: 592ms\n",
      "818:\tlearn: 0.0721364\ttotal: 2.66s\tremaining: 588ms\n",
      "819:\tlearn: 0.0720161\ttotal: 2.66s\tremaining: 585ms\n",
      "820:\tlearn: 0.0718617\ttotal: 2.67s\tremaining: 581ms\n",
      "821:\tlearn: 0.0718071\ttotal: 2.67s\tremaining: 578ms\n",
      "822:\tlearn: 0.0716869\ttotal: 2.67s\tremaining: 575ms\n",
      "823:\tlearn: 0.0715747\ttotal: 2.67s\tremaining: 571ms\n",
      "824:\tlearn: 0.0713844\ttotal: 2.68s\tremaining: 568ms\n",
      "825:\tlearn: 0.0713379\ttotal: 2.68s\tremaining: 564ms\n",
      "826:\tlearn: 0.0712335\ttotal: 2.68s\tremaining: 561ms\n",
      "827:\tlearn: 0.0711072\ttotal: 2.68s\tremaining: 558ms\n",
      "828:\tlearn: 0.0709875\ttotal: 2.69s\tremaining: 554ms\n",
      "829:\tlearn: 0.0709498\ttotal: 2.69s\tremaining: 551ms\n",
      "830:\tlearn: 0.0709366\ttotal: 2.69s\tremaining: 547ms\n",
      "831:\tlearn: 0.0708628\ttotal: 2.69s\tremaining: 544ms\n",
      "832:\tlearn: 0.0708301\ttotal: 2.7s\tremaining: 541ms\n",
      "833:\tlearn: 0.0707106\ttotal: 2.7s\tremaining: 537ms\n",
      "834:\tlearn: 0.0706249\ttotal: 2.7s\tremaining: 534ms\n",
      "835:\tlearn: 0.0704686\ttotal: 2.7s\tremaining: 531ms\n",
      "836:\tlearn: 0.0703497\ttotal: 2.71s\tremaining: 527ms\n",
      "837:\tlearn: 0.0701891\ttotal: 2.71s\tremaining: 524ms\n",
      "838:\tlearn: 0.0701037\ttotal: 2.71s\tremaining: 520ms\n",
      "839:\tlearn: 0.0700119\ttotal: 2.71s\tremaining: 517ms\n",
      "840:\tlearn: 0.0699124\ttotal: 2.72s\tremaining: 514ms\n",
      "841:\tlearn: 0.0697893\ttotal: 2.72s\tremaining: 510ms\n",
      "842:\tlearn: 0.0696506\ttotal: 2.72s\tremaining: 507ms\n",
      "843:\tlearn: 0.0696169\ttotal: 2.72s\tremaining: 504ms\n",
      "844:\tlearn: 0.0694460\ttotal: 2.73s\tremaining: 500ms\n",
      "845:\tlearn: 0.0694033\ttotal: 2.73s\tremaining: 497ms\n"
     ]
    },
    {
     "name": "stdout",
     "output_type": "stream",
     "text": [
      "846:\tlearn: 0.0693419\ttotal: 2.73s\tremaining: 493ms\n",
      "847:\tlearn: 0.0691764\ttotal: 2.73s\tremaining: 490ms\n",
      "848:\tlearn: 0.0690416\ttotal: 2.74s\tremaining: 487ms\n",
      "849:\tlearn: 0.0689693\ttotal: 2.74s\tremaining: 483ms\n",
      "850:\tlearn: 0.0688447\ttotal: 2.74s\tremaining: 480ms\n",
      "851:\tlearn: 0.0687225\ttotal: 2.74s\tremaining: 477ms\n",
      "852:\tlearn: 0.0686696\ttotal: 2.75s\tremaining: 473ms\n",
      "853:\tlearn: 0.0684977\ttotal: 2.75s\tremaining: 470ms\n",
      "854:\tlearn: 0.0683159\ttotal: 2.75s\tremaining: 467ms\n",
      "855:\tlearn: 0.0682417\ttotal: 2.75s\tremaining: 463ms\n",
      "856:\tlearn: 0.0681734\ttotal: 2.76s\tremaining: 460ms\n",
      "857:\tlearn: 0.0680771\ttotal: 2.76s\tremaining: 457ms\n",
      "858:\tlearn: 0.0680319\ttotal: 2.76s\tremaining: 453ms\n",
      "859:\tlearn: 0.0679444\ttotal: 2.76s\tremaining: 450ms\n",
      "860:\tlearn: 0.0678404\ttotal: 2.77s\tremaining: 447ms\n",
      "861:\tlearn: 0.0677273\ttotal: 2.77s\tremaining: 443ms\n",
      "862:\tlearn: 0.0676232\ttotal: 2.77s\tremaining: 440ms\n",
      "863:\tlearn: 0.0675220\ttotal: 2.77s\tremaining: 437ms\n",
      "864:\tlearn: 0.0674181\ttotal: 2.78s\tremaining: 433ms\n",
      "865:\tlearn: 0.0672991\ttotal: 2.78s\tremaining: 430ms\n",
      "866:\tlearn: 0.0671496\ttotal: 2.78s\tremaining: 427ms\n",
      "867:\tlearn: 0.0669638\ttotal: 2.78s\tremaining: 423ms\n",
      "868:\tlearn: 0.0668809\ttotal: 2.79s\tremaining: 420ms\n",
      "869:\tlearn: 0.0668042\ttotal: 2.79s\tremaining: 417ms\n",
      "870:\tlearn: 0.0667848\ttotal: 2.79s\tremaining: 413ms\n",
      "871:\tlearn: 0.0666404\ttotal: 2.79s\tremaining: 410ms\n",
      "872:\tlearn: 0.0665729\ttotal: 2.8s\tremaining: 407ms\n",
      "873:\tlearn: 0.0664822\ttotal: 2.8s\tremaining: 403ms\n",
      "874:\tlearn: 0.0664317\ttotal: 2.8s\tremaining: 400ms\n",
      "875:\tlearn: 0.0663244\ttotal: 2.8s\tremaining: 397ms\n",
      "876:\tlearn: 0.0662264\ttotal: 2.81s\tremaining: 394ms\n",
      "877:\tlearn: 0.0661567\ttotal: 2.81s\tremaining: 390ms\n",
      "878:\tlearn: 0.0661428\ttotal: 2.81s\tremaining: 387ms\n",
      "879:\tlearn: 0.0660336\ttotal: 2.81s\tremaining: 384ms\n",
      "880:\tlearn: 0.0659811\ttotal: 2.82s\tremaining: 381ms\n",
      "881:\tlearn: 0.0658756\ttotal: 2.82s\tremaining: 377ms\n",
      "882:\tlearn: 0.0658269\ttotal: 2.82s\tremaining: 374ms\n",
      "883:\tlearn: 0.0657655\ttotal: 2.83s\tremaining: 371ms\n",
      "884:\tlearn: 0.0656669\ttotal: 2.83s\tremaining: 368ms\n",
      "885:\tlearn: 0.0655101\ttotal: 2.83s\tremaining: 364ms\n",
      "886:\tlearn: 0.0654479\ttotal: 2.83s\tremaining: 361ms\n",
      "887:\tlearn: 0.0652795\ttotal: 2.84s\tremaining: 358ms\n",
      "888:\tlearn: 0.0652041\ttotal: 2.84s\tremaining: 354ms\n",
      "889:\tlearn: 0.0651371\ttotal: 2.84s\tremaining: 351ms\n",
      "890:\tlearn: 0.0650210\ttotal: 2.84s\tremaining: 348ms\n",
      "891:\tlearn: 0.0649700\ttotal: 2.85s\tremaining: 345ms\n",
      "892:\tlearn: 0.0648360\ttotal: 2.85s\tremaining: 341ms\n",
      "893:\tlearn: 0.0647508\ttotal: 2.85s\tremaining: 338ms\n",
      "894:\tlearn: 0.0646525\ttotal: 2.85s\tremaining: 335ms\n",
      "895:\tlearn: 0.0645508\ttotal: 2.86s\tremaining: 332ms\n",
      "896:\tlearn: 0.0644776\ttotal: 2.86s\tremaining: 328ms\n",
      "897:\tlearn: 0.0643563\ttotal: 2.86s\tremaining: 325ms\n",
      "898:\tlearn: 0.0642759\ttotal: 2.87s\tremaining: 322ms\n",
      "899:\tlearn: 0.0642603\ttotal: 2.87s\tremaining: 319ms\n",
      "900:\tlearn: 0.0641347\ttotal: 2.87s\tremaining: 316ms\n",
      "901:\tlearn: 0.0640385\ttotal: 2.88s\tremaining: 313ms\n",
      "902:\tlearn: 0.0640127\ttotal: 2.88s\tremaining: 309ms\n",
      "903:\tlearn: 0.0639113\ttotal: 2.88s\tremaining: 306ms\n",
      "904:\tlearn: 0.0639010\ttotal: 2.88s\tremaining: 303ms\n",
      "905:\tlearn: 0.0638154\ttotal: 2.89s\tremaining: 299ms\n",
      "906:\tlearn: 0.0637605\ttotal: 2.89s\tremaining: 296ms\n",
      "907:\tlearn: 0.0637138\ttotal: 2.89s\tremaining: 293ms\n",
      "908:\tlearn: 0.0635357\ttotal: 2.89s\tremaining: 290ms\n",
      "909:\tlearn: 0.0634760\ttotal: 2.9s\tremaining: 286ms\n",
      "910:\tlearn: 0.0634051\ttotal: 2.9s\tremaining: 283ms\n",
      "911:\tlearn: 0.0632995\ttotal: 2.9s\tremaining: 280ms\n",
      "912:\tlearn: 0.0632909\ttotal: 2.9s\tremaining: 277ms\n",
      "913:\tlearn: 0.0632661\ttotal: 2.9s\tremaining: 273ms\n"
     ]
    },
    {
     "name": "stdout",
     "output_type": "stream",
     "text": [
      "914:\tlearn: 0.0632194\ttotal: 2.91s\tremaining: 270ms\n",
      "915:\tlearn: 0.0631477\ttotal: 2.91s\tremaining: 267ms\n",
      "916:\tlearn: 0.0631265\ttotal: 2.91s\tremaining: 264ms\n",
      "917:\tlearn: 0.0630479\ttotal: 2.92s\tremaining: 261ms\n",
      "918:\tlearn: 0.0629524\ttotal: 2.92s\tremaining: 257ms\n",
      "919:\tlearn: 0.0628500\ttotal: 2.92s\tremaining: 254ms\n",
      "920:\tlearn: 0.0627325\ttotal: 2.92s\tremaining: 251ms\n",
      "921:\tlearn: 0.0626323\ttotal: 2.92s\tremaining: 248ms\n",
      "922:\tlearn: 0.0626091\ttotal: 2.93s\tremaining: 244ms\n",
      "923:\tlearn: 0.0625413\ttotal: 2.93s\tremaining: 241ms\n",
      "924:\tlearn: 0.0625186\ttotal: 2.93s\tremaining: 238ms\n",
      "925:\tlearn: 0.0624564\ttotal: 2.94s\tremaining: 235ms\n",
      "926:\tlearn: 0.0623824\ttotal: 2.94s\tremaining: 231ms\n",
      "927:\tlearn: 0.0623166\ttotal: 2.94s\tremaining: 228ms\n",
      "928:\tlearn: 0.0621766\ttotal: 2.94s\tremaining: 225ms\n",
      "929:\tlearn: 0.0620607\ttotal: 2.95s\tremaining: 222ms\n",
      "930:\tlearn: 0.0619613\ttotal: 2.95s\tremaining: 219ms\n",
      "931:\tlearn: 0.0618960\ttotal: 2.95s\tremaining: 215ms\n",
      "932:\tlearn: 0.0618141\ttotal: 2.95s\tremaining: 212ms\n",
      "933:\tlearn: 0.0618070\ttotal: 2.96s\tremaining: 209ms\n",
      "934:\tlearn: 0.0617985\ttotal: 2.96s\tremaining: 206ms\n",
      "935:\tlearn: 0.0616520\ttotal: 2.96s\tremaining: 202ms\n",
      "936:\tlearn: 0.0615078\ttotal: 2.96s\tremaining: 199ms\n",
      "937:\tlearn: 0.0615002\ttotal: 2.97s\tremaining: 196ms\n",
      "938:\tlearn: 0.0614275\ttotal: 2.97s\tremaining: 193ms\n",
      "939:\tlearn: 0.0613716\ttotal: 2.97s\tremaining: 190ms\n",
      "940:\tlearn: 0.0612930\ttotal: 2.97s\tremaining: 187ms\n",
      "941:\tlearn: 0.0611771\ttotal: 2.98s\tremaining: 183ms\n",
      "942:\tlearn: 0.0610912\ttotal: 2.98s\tremaining: 180ms\n",
      "943:\tlearn: 0.0609852\ttotal: 2.98s\tremaining: 177ms\n",
      "944:\tlearn: 0.0608604\ttotal: 2.98s\tremaining: 174ms\n",
      "945:\tlearn: 0.0608022\ttotal: 2.99s\tremaining: 170ms\n",
      "946:\tlearn: 0.0607508\ttotal: 2.99s\tremaining: 167ms\n",
      "947:\tlearn: 0.0606555\ttotal: 2.99s\tremaining: 164ms\n",
      "948:\tlearn: 0.0605279\ttotal: 2.99s\tremaining: 161ms\n",
      "949:\tlearn: 0.0604715\ttotal: 3s\tremaining: 158ms\n",
      "950:\tlearn: 0.0603928\ttotal: 3s\tremaining: 155ms\n",
      "951:\tlearn: 0.0603125\ttotal: 3s\tremaining: 151ms\n",
      "952:\tlearn: 0.0602074\ttotal: 3s\tremaining: 148ms\n",
      "953:\tlearn: 0.0600997\ttotal: 3.01s\tremaining: 145ms\n",
      "954:\tlearn: 0.0600389\ttotal: 3.01s\tremaining: 142ms\n",
      "955:\tlearn: 0.0599002\ttotal: 3.01s\tremaining: 139ms\n",
      "956:\tlearn: 0.0598644\ttotal: 3.01s\tremaining: 135ms\n",
      "957:\tlearn: 0.0598343\ttotal: 3.02s\tremaining: 132ms\n",
      "958:\tlearn: 0.0597395\ttotal: 3.02s\tremaining: 129ms\n",
      "959:\tlearn: 0.0596827\ttotal: 3.02s\tremaining: 126ms\n",
      "960:\tlearn: 0.0596292\ttotal: 3.02s\tremaining: 123ms\n",
      "961:\tlearn: 0.0594853\ttotal: 3.03s\tremaining: 120ms\n",
      "962:\tlearn: 0.0594362\ttotal: 3.03s\tremaining: 116ms\n",
      "963:\tlearn: 0.0593168\ttotal: 3.03s\tremaining: 113ms\n",
      "964:\tlearn: 0.0592540\ttotal: 3.03s\tremaining: 110ms\n",
      "965:\tlearn: 0.0591369\ttotal: 3.04s\tremaining: 107ms\n",
      "966:\tlearn: 0.0591099\ttotal: 3.04s\tremaining: 104ms\n",
      "967:\tlearn: 0.0590601\ttotal: 3.04s\tremaining: 101ms\n",
      "968:\tlearn: 0.0589555\ttotal: 3.04s\tremaining: 97.4ms\n",
      "969:\tlearn: 0.0588890\ttotal: 3.05s\tremaining: 94.2ms\n",
      "970:\tlearn: 0.0588768\ttotal: 3.05s\tremaining: 91.1ms\n",
      "971:\tlearn: 0.0587508\ttotal: 3.05s\tremaining: 87.9ms\n",
      "972:\tlearn: 0.0586650\ttotal: 3.05s\tremaining: 84.7ms\n",
      "973:\tlearn: 0.0586201\ttotal: 3.06s\tremaining: 81.6ms\n",
      "974:\tlearn: 0.0585766\ttotal: 3.06s\tremaining: 78.4ms\n",
      "975:\tlearn: 0.0585666\ttotal: 3.06s\tremaining: 75.3ms\n",
      "976:\tlearn: 0.0585075\ttotal: 3.06s\tremaining: 72.1ms\n",
      "977:\tlearn: 0.0585012\ttotal: 3.07s\tremaining: 69ms\n",
      "978:\tlearn: 0.0584951\ttotal: 3.07s\tremaining: 65.8ms\n",
      "979:\tlearn: 0.0584216\ttotal: 3.07s\tremaining: 62.7ms\n",
      "980:\tlearn: 0.0584041\ttotal: 3.07s\tremaining: 59.5ms\n",
      "981:\tlearn: 0.0583822\ttotal: 3.08s\tremaining: 56.4ms\n",
      "982:\tlearn: 0.0582518\ttotal: 3.08s\tremaining: 53.2ms\n"
     ]
    },
    {
     "name": "stdout",
     "output_type": "stream",
     "text": [
      "983:\tlearn: 0.0582097\ttotal: 3.08s\tremaining: 50.1ms\n",
      "984:\tlearn: 0.0581383\ttotal: 3.08s\tremaining: 47ms\n",
      "985:\tlearn: 0.0581102\ttotal: 3.09s\tremaining: 43.8ms\n",
      "986:\tlearn: 0.0580589\ttotal: 3.09s\tremaining: 40.7ms\n",
      "987:\tlearn: 0.0579910\ttotal: 3.09s\tremaining: 37.6ms\n",
      "988:\tlearn: 0.0579682\ttotal: 3.1s\tremaining: 34.4ms\n",
      "989:\tlearn: 0.0578596\ttotal: 3.1s\tremaining: 31.3ms\n",
      "990:\tlearn: 0.0577317\ttotal: 3.1s\tremaining: 28.2ms\n",
      "991:\tlearn: 0.0576427\ttotal: 3.1s\tremaining: 25ms\n",
      "992:\tlearn: 0.0575816\ttotal: 3.1s\tremaining: 21.9ms\n",
      "993:\tlearn: 0.0575090\ttotal: 3.11s\tremaining: 18.8ms\n",
      "994:\tlearn: 0.0574256\ttotal: 3.11s\tremaining: 15.6ms\n",
      "995:\tlearn: 0.0573493\ttotal: 3.11s\tremaining: 12.5ms\n",
      "996:\tlearn: 0.0572410\ttotal: 3.12s\tremaining: 9.38ms\n",
      "997:\tlearn: 0.0571656\ttotal: 3.12s\tremaining: 6.25ms\n",
      "998:\tlearn: 0.0571017\ttotal: 3.12s\tremaining: 3.12ms\n",
      "999:\tlearn: 0.0569663\ttotal: 3.12s\tremaining: 0us\n"
     ]
    },
    {
     "data": {
      "text/plain": [
       "<catboost.core.CatBoostRegressor at 0x7f8d5d06b970>"
      ]
     },
     "execution_count": 9,
     "metadata": {},
     "output_type": "execute_result"
    }
   ],
   "source": [
    "#Train the Model \n",
    "prior_model = ctb.CatBoostRegressor()\n",
    "prior_model.fit(X_train,Y_train)"
   ]
  },
  {
   "cell_type": "code",
   "execution_count": 10,
   "id": "af65dcda",
   "metadata": {
    "execution": {
     "iopub.execute_input": "2022-07-22T21:16:26.342702Z",
     "iopub.status.busy": "2022-07-22T21:16:26.336186Z",
     "iopub.status.idle": "2022-07-22T21:16:26.396053Z",
     "shell.execute_reply": "2022-07-22T21:16:26.390048Z"
    },
    "id": "af65dcda",
    "papermill": {
     "duration": 0.086023,
     "end_time": "2022-07-22T21:16:26.403693",
     "exception": false,
     "start_time": "2022-07-22T21:16:26.317670",
     "status": "completed"
    },
    "tags": []
   },
   "outputs": [
    {
     "data": {
      "application/scrapbook.scrap.json+json": {
       "data": 0.11279240893416237,
       "encoder": "json",
       "name": "Prior Model MSE",
       "version": 1
      }
     },
     "metadata": {
      "scrapbook": {
       "data": true,
       "display": false,
       "name": "Prior Model MSE"
      }
     },
     "output_type": "display_data"
    },
    {
     "data": {
      "application/scrapbook.scrap.json+json": {
       "data": 0.12386740273773192,
       "encoder": "json",
       "name": "ABC Pre-generator MSE",
       "version": 1
      }
     },
     "metadata": {
      "scrapbook": {
       "data": true,
       "display": false,
       "name": "ABC Pre-generator MSE"
      }
     },
     "output_type": "display_data"
    },
    {
     "data": {
      "application/scrapbook.scrap.json+json": {
       "data": 0.22180370197528945,
       "encoder": "json",
       "name": "Prior Model MAE",
       "version": 1
      }
     },
     "metadata": {
      "scrapbook": {
       "data": true,
       "display": false,
       "name": "Prior Model MAE"
      }
     },
     "output_type": "display_data"
    },
    {
     "name": "stdout",
     "output_type": "stream",
     "text": [
      "Prior Model MAE 0.22180370197528945\n",
      "ABC Pre-generator MAE 0.23567245116276567\n"
     ]
    }
   ],
   "source": [
    "y_pred = prior_model.predict(X_test)\n",
    "y_abc = y_pred + np.random.normal(0,variance, y_pred.shape) + bias \n",
    "mse = mean_squared_error(y_pred,Y_test)\n",
    "sb.glue(\"Prior Model MSE\",mse)\n",
    "mse = mean_squared_error(y_abc,Y_test)\n",
    "sb.glue(\"ABC Pre-generator MSE\",mse)\n",
    "mae = mean_absolute_error(y_pred,Y_test)\n",
    "sb.glue(\"Prior Model MAE\",mae)\n",
    "print(\"Prior Model MAE\",mae)\n",
    "mae = mean_absolute_error(y_abc,Y_test)\n",
    "print(\"ABC Pre-generator MAE\",mae)"
   ]
  },
  {
   "cell_type": "markdown",
   "id": "25609da2",
   "metadata": {
    "papermill": {
     "duration": 0.015743,
     "end_time": "2022-07-22T21:16:26.438311",
     "exception": false,
     "start_time": "2022-07-22T21:16:26.422568",
     "status": "completed"
    },
    "tags": []
   },
   "source": [
    "# mGAN Model"
   ]
  },
  {
   "cell_type": "code",
   "execution_count": 11,
   "id": "dfc3464d",
   "metadata": {
    "execution": {
     "iopub.execute_input": "2022-07-22T21:16:26.470685Z",
     "iopub.status.busy": "2022-07-22T21:16:26.470111Z",
     "iopub.status.idle": "2022-07-22T21:16:26.486647Z",
     "shell.execute_reply": "2022-07-22T21:16:26.481099Z"
    },
    "papermill": {
     "duration": 0.038258,
     "end_time": "2022-07-22T21:16:26.490624",
     "exception": false,
     "start_time": "2022-07-22T21:16:26.452366",
     "status": "completed"
    },
    "tags": []
   },
   "outputs": [],
   "source": [
    "# gen = network.Generator(n_features+1).to(device)\n",
    "# disc = network.Discriminator(n_features+1).to(device)\n",
    "\n",
    "# criterion = torch.nn.BCELoss()\n",
    "# gen_opt = torch.optim.Adam(gen.parameters(), lr=0.01, betas=(0.5, 0.999))\n",
    "# disc_opt = torch.optim.Adam(disc.parameters(), lr=0.01, betas=(0.5, 0.999))"
   ]
  },
  {
   "cell_type": "code",
   "execution_count": 12,
   "id": "b75fdd85",
   "metadata": {
    "execution": {
     "iopub.execute_input": "2022-07-22T21:16:26.517147Z",
     "iopub.status.busy": "2022-07-22T21:16:26.516836Z",
     "iopub.status.idle": "2022-07-22T21:16:26.522060Z",
     "shell.execute_reply": "2022-07-22T21:16:26.520312Z"
    },
    "papermill": {
     "duration": 0.023323,
     "end_time": "2022-07-22T21:16:26.526141",
     "exception": false,
     "start_time": "2022-07-22T21:16:26.502818",
     "status": "completed"
    },
    "tags": []
   },
   "outputs": [],
   "source": [
    "#Training the ABC_GAN \n",
    "# ABC_train_test2.training_GAN(disc,gen,disc_opt,gen_opt,train_data,batch_size,n_epochs,criterion,prior_model,variance,bias,device)"
   ]
  },
  {
   "cell_type": "code",
   "execution_count": 13,
   "id": "1fa7c368",
   "metadata": {
    "execution": {
     "iopub.execute_input": "2022-07-22T21:16:26.551274Z",
     "iopub.status.busy": "2022-07-22T21:16:26.550879Z",
     "iopub.status.idle": "2022-07-22T21:16:26.556714Z",
     "shell.execute_reply": "2022-07-22T21:16:26.554919Z"
    },
    "papermill": {
     "duration": 0.022398,
     "end_time": "2022-07-22T21:16:26.559968",
     "exception": false,
     "start_time": "2022-07-22T21:16:26.537570",
     "status": "completed"
    },
    "tags": []
   },
   "outputs": [],
   "source": [
    "# ABC_GAN1_metrics=ABC_train_test2.test_generator(gen,test_data,prior_model,variance,bias,\"1\",device)\n",
    "# sb.glue(\"ABC_GAN_1 Metrics\",ABC_GAN1_metrics)\n",
    "\n",
    "# print(\"MAE\")\n",
    "# print(mean(ABC_GAN1_metrics[1]))"
   ]
  },
  {
   "cell_type": "code",
   "execution_count": 14,
   "id": "eb22ce5c",
   "metadata": {
    "execution": {
     "iopub.execute_input": "2022-07-22T21:16:26.595576Z",
     "iopub.status.busy": "2022-07-22T21:16:26.591904Z",
     "iopub.status.idle": "2022-07-22T21:16:26.606290Z",
     "shell.execute_reply": "2022-07-22T21:16:26.604569Z"
    },
    "papermill": {
     "duration": 0.038064,
     "end_time": "2022-07-22T21:16:26.609592",
     "exception": false,
     "start_time": "2022-07-22T21:16:26.571528",
     "status": "completed"
    },
    "tags": []
   },
   "outputs": [],
   "source": [
    "# sanityChecks.discProbVsError(train_data,disc,device)\n",
    "# sanityChecks.discProbVsError(test_data,disc,device)"
   ]
  },
  {
   "cell_type": "markdown",
   "id": "7d748eb7",
   "metadata": {
    "papermill": {
     "duration": 0.01199,
     "end_time": "2022-07-22T21:16:26.634540",
     "exception": false,
     "start_time": "2022-07-22T21:16:26.622550",
     "status": "completed"
    },
    "tags": []
   },
   "source": [
    "# mGAN Model with TabNet Generator"
   ]
  },
  {
   "cell_type": "code",
   "execution_count": 15,
   "id": "dfabbf85",
   "metadata": {
    "execution": {
     "iopub.execute_input": "2022-07-22T21:16:26.661518Z",
     "iopub.status.busy": "2022-07-22T21:16:26.661164Z",
     "iopub.status.idle": "2022-07-22T21:16:26.682302Z",
     "shell.execute_reply": "2022-07-22T21:16:26.680716Z"
    },
    "papermill": {
     "duration": 0.042,
     "end_time": "2022-07-22T21:16:26.689624",
     "exception": false,
     "start_time": "2022-07-22T21:16:26.647624",
     "status": "completed"
    },
    "tags": []
   },
   "outputs": [],
   "source": [
    "gen2 = network.GeneratorTabnet(n_features+1).to(device)\n",
    "disc2 = network.Discriminator(n_features+1).to(device)\n",
    "\n",
    "criterion = torch.nn.BCELoss()\n",
    "gen_opt = torch.optim.Adam(gen2.parameters(), lr=0.01, betas=(0.5, 0.999))\n",
    "disc_opt = torch.optim.Adam(disc2.parameters(), lr=0.01, betas=(0.5, 0.999))"
   ]
  },
  {
   "cell_type": "code",
   "execution_count": 16,
   "id": "30d54dff",
   "metadata": {
    "execution": {
     "iopub.execute_input": "2022-07-22T21:16:26.722146Z",
     "iopub.status.busy": "2022-07-22T21:16:26.719127Z",
     "iopub.status.idle": "2022-07-22T21:26:58.501078Z",
     "shell.execute_reply": "2022-07-22T21:26:58.499195Z"
    },
    "papermill": {
     "duration": 631.805238,
     "end_time": "2022-07-22T21:26:58.506871",
     "exception": false,
     "start_time": "2022-07-22T21:16:26.701633",
     "status": "completed"
    },
    "tags": []
   },
   "outputs": [
    {
     "data": {
      "image/png": "[encoded data removed]",
      "text/plain": [
       "<Figure size 432x288 with 1 Axes>"
      ]
     },
     "metadata": {
      "needs_background": "light"
     },
     "output_type": "display_data"
    },
    {
     "data": {
      "image/png": "[encoded data removed]",
      "text/plain": [
       "<Figure size 432x288 with 1 Axes>"
      ]
     },
     "metadata": {
      "needs_background": "light"
     },
     "output_type": "display_data"
    }
   ],
   "source": [
    "#Training the ABC_GAN \n",
    "ABC_train_test2.training_GAN(disc2,gen2,disc_opt,gen_opt,train_data,batch_size,n_epochs,criterion,prior_model,variance,bias,device)"
   ]
  },
  {
   "cell_type": "code",
   "execution_count": 17,
   "id": "74779722",
   "metadata": {
    "execution": {
     "iopub.execute_input": "2022-07-22T21:26:58.597498Z",
     "iopub.status.busy": "2022-07-22T21:26:58.580607Z",
     "iopub.status.idle": "2022-07-22T21:27:00.607242Z",
     "shell.execute_reply": "2022-07-22T21:27:00.606216Z"
    },
    "papermill": {
     "duration": 2.090683,
     "end_time": "2022-07-22T21:27:00.609970",
     "exception": false,
     "start_time": "2022-07-22T21:26:58.519287",
     "status": "completed"
    },
    "tags": []
   },
   "outputs": [
    {
     "data": {
      "application/scrapbook.scrap.json+json": {
       "data": 0.11796702376195616,
       "encoder": "json",
       "name": "ABC-GAN Model 1 MSE",
       "version": 1
      }
     },
     "metadata": {
      "scrapbook": {
       "data": true,
       "display": false,
       "name": "ABC-GAN Model 1 MSE"
      }
     },
     "output_type": "display_data"
    },
    {
     "data": {
      "application/scrapbook.scrap.json+json": {
       "data": 0.23438469497053244,
       "encoder": "json",
       "name": "ABC-GAN Model 1 MAE",
       "version": 1
      }
     },
     "metadata": {
      "scrapbook": {
       "data": true,
       "display": false,
       "name": "ABC-GAN Model 1 MAE"
      }
     },
     "output_type": "display_data"
    },
    {
     "data": {
      "application/scrapbook.scrap.json+json": {
       "data": 23.90723888699431,
       "encoder": "json",
       "name": "ABC-GAN Model 1 Manhattan Distance",
       "version": 1
      }
     },
     "metadata": {
      "scrapbook": {
       "data": true,
       "display": false,
       "name": "ABC-GAN Model 1 Manhattan Distance"
      }
     },
     "output_type": "display_data"
    },
    {
     "data": {
      "application/scrapbook.scrap.json+json": {
       "data": 3.467581333724039,
       "encoder": "json",
       "name": "ABC-GAN Model 1 Euclidean distance",
       "version": 1
      }
     },
     "metadata": {
      "scrapbook": {
       "data": true,
       "display": false,
       "name": "ABC-GAN Model 1 Euclidean distance"
      }
     },
     "output_type": "display_data"
    },
    {
     "data": {
      "application/scrapbook.scrap.json+json": {
       "data": [
        [
         0.12060751582104916,
         0.12562139742676634,
         0.10876619717209003,
         0.11853936259009748,
         0.10892892609068518,
         0.12035289536444084,
         0.12228492447089762,
         0.1150596151938271,
         0.11200011877973635,
         0.11837641893371875,
         0.11245874725432416,
         0.12747485797551109,
         0.13177668098296297,
         0.11009471079021436,
         0.12585935915071922,
         0.12128519063711106,
         0.12834749032390777,
         0.11997078189461216,
         0.1268122618447988,
         0.11097826667333528,
         0.12151831304796311,
         0.1258833537157674,
         0.1272899911595732,
         0.11398327362698508,
         0.12348711569052265,
         0.1067864573451328,
         0.1014587577360934,
         0.1110577205859438,
         0.12118613004015108,
         0.11374404459230876,
         0.12072115020527523,
         0.11631819543133548,
         0.11918736659726954,
         0.111057827553951,
         0.12041869616359367,
         0.11448696619383794,
         0.12119729493187904,
         0.12044294142060118,
         0.11925875074253695,
         0.11343355548797687,
         0.11548575398454942,
         0.11545051049981211,
         0.12590242146161024,
         0.12618863560856367,
         0.11612343851598732,
         0.10827717422318028,
         0.11986631356542919,
         0.11487928861961128,
         0.12281619582002726,
         0.12134264607844178,
         0.1208742585419817,
         0.12810613492472808,
         0.1123752659284454,
         0.12182414320159828,
         0.1098787826455967,
         0.1160082884409267,
         0.123144602630322,
         0.1207637496240884,
         0.1162934159169033,
         0.11164615413720011,
         0.11004336274409685,
         0.11596222631066512,
         0.11873568976303918,
         0.12593937349577303,
         0.12535784927719135,
         0.11500667502984925,
         0.11976330782222101,
         0.1314682722937024,
         0.11784573731684332,
         0.12230215616144441,
         0.11312879444817421,
         0.110066154872868,
         0.1250417558760255,
         0.12239122906193613,
         0.11174739777622161,
         0.11619857973676123,
         0.11339353287048959,
         0.11753056601065709,
         0.11351228827759079,
         0.12131803429887439,
         0.11074968840017356,
         0.117501687864193,
         0.12066606169788047,
         0.11433370196441116,
         0.11113488363231401,
         0.11263476451269709,
         0.12657089180778436,
         0.12284791248120376,
         0.1246066368226381,
         0.12042086456185626,
         0.10112792217759264,
         0.1302117621342706,
         0.11546158165404988,
         0.10753869083891898,
         0.11653147209186593,
         0.115971057878042,
         0.11348098416432095,
         0.12137605866199362,
         0.11541574626506625,
         0.11560622713141173
        ],
        [
         0.24216323834387402,
         0.23797891244255737,
         0.23183441148413456,
         0.24048675703542197,
         0.23030038139618494,
         0.24326063886138738,
         0.23753804674225987,
         0.23444750337112769,
         0.22478157537532786,
         0.22867507769671433,
         0.22143799341375045,
         0.24918186811584175,
         0.24180080302461399,
         0.228224294926679,
         0.2476475334306266,
         0.24393891596107506,
         0.2541089492813483,
         0.24701892568127198,
         0.24258473996693888,
         0.2300883566449378,
         0.23013981733945946,
         0.23722725990684887,
         0.24041708211834525,
         0.21937431695451046,
         0.24075345624713043,
         0.21617311625467503,
         0.21123593763503082,
         0.23181833284815737,
         0.24175498584358424,
         0.2238964493678627,
         0.2368347888593288,
         0.23217615842198333,
         0.2303244591526249,
         0.23781062298289993,
         0.23591846471433253,
         0.23040954209407608,
         0.23283121408894658,
         0.23716829889727867,
         0.23828807044043845,
         0.22019569151213064,
         0.23151859248458756,
         0.23556751082194785,
         0.2460663927554646,
         0.23787684323193103,
         0.2397732296502035,
         0.21055897952550473,
         0.2350703715711978,
         0.23248102385368125,
         0.23068168933740726,
         0.23268468105508125,
         0.24409318048799156,
         0.2277454273939571,
         0.22142279415628782,
         0.23860671536485648,
         0.22737360430662246,
         0.22850186360415584,
         0.2348476088350164,
         0.24398977272029893,
         0.23917688101566598,
         0.23078287590989002,
         0.21629144690529095,
         0.23661066347952275,
         0.23188324804947363,
         0.2365437476055733,
         0.23137101935514925,
         0.23980110554097622,
         0.23261790173858696,
         0.24756161549913824,
         0.225402293133312,
         0.2449887373082924,
         0.2339172807120371,
         0.21674003973420636,
         0.23319767237476566,
         0.2534706614016756,
         0.228722583456878,
         0.23377326822967506,
         0.23724617999887057,
         0.23621118666750252,
         0.23274688179805583,
         0.23732996210638507,
         0.23065046706766473,
         0.2428975396826133,
         0.23744880106738386,
         0.22787677985159496,
         0.22642528650113472,
         0.22619379635936782,
         0.24847736930036368,
         0.23983670096369644,
         0.2336168969871805,
         0.23922661636207326,
         0.2131050081613163,
         0.24457869045984218,
         0.24994696761645815,
         0.22486653902987933,
         0.2389244624669207,
         0.2301921318102555,
         0.23616120683978878,
         0.243790562766805,
         0.23142280216858374,
         0.23533634953748653
        ],
        [
         24.70065031107515,
         24.27384906914085,
         23.647109971381724,
         24.52964921761304,
         23.490638902410865,
         24.812585163861513,
         24.228880767710507,
         23.913645343855023,
         22.927720688283443,
         23.32485792506486,
         22.586675328202546,
         25.41655054781586,
         24.663681908510625,
         23.27887808252126,
         25.26004840992391,
         24.881769428029656,
         25.91911282669753,
         25.19593041948974,
         24.743643476627767,
         23.469012377783656,
         23.474261368624866,
         24.197180510498583,
         24.522542376071215,
         22.376180329360068,
         24.556852537207305,
         22.049657857976854,
         21.546065638773143,
         23.64546995051205,
         24.659008556045592,
         22.837437835521996,
         24.157148463651538,
         23.6819681590423,
         23.49309483356774,
         24.256683544255793,
         24.06368340086192,
         23.50177329359576,
         23.74878383707255,
         24.191166487522423,
         24.30538318492472,
         22.459960534237325,
         23.61489643342793,
         24.027886103838682,
         25.09877206105739,
         24.263438009656966,
         24.456869424320757,
         21.477015911601484,
         23.977177900262177,
         23.713064433075488,
         23.52953231241554,
         23.733837467618287,
         24.897504409775138,
         23.230033594183624,
         22.585125003941357,
         24.33788496721536,
         23.19210763927549,
         23.307190087623894,
         23.954456101171672,
         24.88695681747049,
         24.39604186359793,
         23.539853342808783,
         22.06172758433968,
         24.13428767491132,
         23.652091301046312,
         24.127462255768478,
         23.599843974225223,
         24.459712765179574,
         23.72702597733587,
         25.2512847809121,
         22.991033899597824,
         24.988851205445826,
         23.859562632627785,
         22.10748405288905,
         23.786162582226098,
         25.854007462970912,
         23.329703512601554,
         23.844873359426856,
         24.1991103598848,
         24.093541040085256,
         23.740181943401694,
         24.207656134851277,
         23.526347640901804,
         24.775549047626555,
         24.219777708873153,
         23.243431544862688,
         23.095379223115742,
         23.071767228655517,
         25.344691668637097,
         24.463343498297036,
         23.82892349269241,
         24.401114868931472,
         21.736710832454264,
         24.947026426903903,
         25.49459069687873,
         22.93638698104769,
         24.370295171625912,
         23.47959744464606,
         24.088443097658455,
         24.86663740221411,
         23.605125821195543,
         24.004307652823627
        ],
        [
         3.507415945357353,
         3.5795785418859247,
         3.3307885119822873,
         3.477213681123141,
         3.333279235415162,
         3.5037116501180523,
         3.5317222846695566,
         3.4257963672364364,
         3.379942620153944,
         3.4748229784032607,
         3.386855801468534,
         3.605889004600964,
         3.666227142480703,
         3.351068561011825,
         3.5829672944883773,
         3.5172559538630863,
         3.618210056511174,
         3.498145187560179,
         3.596505346606546,
         3.364488549643199,
         3.5206345920717528,
         3.5833088171420937,
         3.6032733865579036,
         3.4097351671284497,
         3.5490401238128193,
         3.300336141850333,
         3.2169540390067004,
         3.3656927221251594,
         3.5158192877472256,
         3.406155097527929,
         3.509067870665666,
         3.4444819543722707,
         3.4867049477868775,
         3.365694343000119,
         3.5046693151689152,
         3.4172606795167773,
         3.5159812404294284,
         3.5050221147521055,
         3.487748926705987,
         3.401503000112397,
         3.4321344534304075,
         3.43161071087337,
         3.5835801915241468,
         3.5876511580801016,
         3.4415971188723855,
         3.323292308955742,
         3.4966217959158485,
         3.4231107839508126,
         3.5393858187039706,
         3.518088955669123,
         3.5112924075448526,
         3.6148064626370062,
         3.3855984884066554,
         3.525062071306408,
         3.3477807320448667,
         3.4398903210675953,
         3.5441147651131226,
         3.5096869463895226,
         3.444115042144228,
         3.3745974162845576,
         3.3502870026160263,
         3.4392073336290503,
         3.480092003931792,
         3.5841060386892636,
         3.5758216714866413,
         3.425008153719436,
         3.4951190820723896,
         3.66193443059234,
         3.467025411836207,
         3.5319711109332887,
         3.3969305311874964,
         3.350633939575097,
         3.5713105576741153,
         3.533257047586191,
         3.3761271559546753,
         3.4427104341128727,
         3.4009028731779356,
         3.462386132869501,
         3.402683265353133,
         3.5177321527491525,
         3.3610219006751065,
         3.4619607395445264,
         3.508267135379489,
         3.4149725621694147,
         3.366861762902663,
         3.389505270728326,
         3.5930809849478766,
         3.539842803442377,
         3.565091437243803,
         3.504700869590633,
         3.2117048528958025,
         3.6443929175784,
         3.431775244492723,
         3.311939985200477,
         3.447638344340996,
         3.4393382944340156,
         3.4022140415853817,
         3.518573288070514,
         3.4310940119787965,
         3.43392416448063
        ]
       ],
       "encoder": "json",
       "name": "ABC_GAN_2 Metrics",
       "version": 1
      }
     },
     "metadata": {
      "scrapbook": {
       "data": true,
       "display": false,
       "name": "ABC_GAN_2 Metrics"
      }
     },
     "output_type": "display_data"
    },
    {
     "name": "stdout",
     "output_type": "stream",
     "text": [
      "MAE\n",
      "0.23438469497053244\n"
     ]
    }
   ],
   "source": [
    "ABC_GAN2_metrics=ABC_train_test2.test_generator(gen2,test_data,prior_model,variance,bias,\"1\",device)\n",
    "sb.glue(\"ABC_GAN_2 Metrics\",ABC_GAN2_metrics)\n",
    "\n",
    "print(\"MAE\")\n",
    "print(mean(ABC_GAN2_metrics[1]))"
   ]
  },
  {
   "cell_type": "code",
   "execution_count": 18,
   "id": "52533612",
   "metadata": {
    "execution": {
     "iopub.execute_input": "2022-07-22T21:27:00.716921Z",
     "iopub.status.busy": "2022-07-22T21:27:00.716410Z",
     "iopub.status.idle": "2022-07-22T21:27:01.682945Z",
     "shell.execute_reply": "2022-07-22T21:27:01.677345Z"
    },
    "papermill": {
     "duration": 1.062658,
     "end_time": "2022-07-22T21:27:01.686966",
     "exception": false,
     "start_time": "2022-07-22T21:27:00.624308",
     "status": "completed"
    },
    "tags": []
   },
   "outputs": [
    {
     "data": {
      "image/png": "[encoded data removed]",
      "text/plain": [
       "<Figure size 432x288 with 1 Axes>"
      ]
     },
     "metadata": {
      "needs_background": "light"
     },
     "output_type": "display_data"
    },
    {
     "data": {
      "image/png": "[encoded data removed]",
      "text/plain": [
       "<Figure size 432x288 with 1 Axes>"
      ]
     },
     "metadata": {
      "needs_background": "light"
     },
     "output_type": "display_data"
    },
    {
     "data": {
      "image/png": "[encoded data removed]",
      "text/plain": [
       "<Figure size 432x288 with 1 Axes>"
      ]
     },
     "metadata": {
      "needs_background": "light"
     },
     "output_type": "display_data"
    },
    {
     "data": {
      "image/png": "[encoded data removed]",
      "text/plain": [
       "<Figure size 432x288 with 1 Axes>"
      ]
     },
     "metadata": {
      "needs_background": "light"
     },
     "output_type": "display_data"
    }
   ],
   "source": [
    "sanityChecks.discProbVsError(train_data,disc2,device)\n",
    "sanityChecks.discProbVsError(test_data,disc2,device)"
   ]
  },
  {
   "cell_type": "markdown",
   "id": "130f3a4d",
   "metadata": {
    "id": "130f3a4d",
    "papermill": {
     "duration": 0.034331,
     "end_time": "2022-07-22T21:27:01.742657",
     "exception": false,
     "start_time": "2022-07-22T21:27:01.708326",
     "status": "completed"
    },
    "tags": []
   },
   "source": [
    "# skipGAN Model"
   ]
  },
  {
   "cell_type": "code",
   "execution_count": 19,
   "id": "4e43dad1",
   "metadata": {
    "execution": {
     "iopub.execute_input": "2022-07-22T21:27:01.835158Z",
     "iopub.status.busy": "2022-07-22T21:27:01.833863Z",
     "iopub.status.idle": "2022-07-22T21:27:01.846709Z",
     "shell.execute_reply": "2022-07-22T21:27:01.844708Z"
    },
    "id": "4e43dad1",
    "papermill": {
     "duration": 0.094256,
     "end_time": "2022-07-22T21:27:01.853696",
     "exception": false,
     "start_time": "2022-07-22T21:27:01.759440",
     "status": "completed"
    },
    "tags": []
   },
   "outputs": [],
   "source": [
    "# #Generator\n",
    "# gen3 = network.GeneratorWithSkipConnection(n_features+1).to(device)\n",
    "# constraints=network.weightConstraint()\n",
    "# #Discriminator \n",
    "# disc3 = network.Discriminator(n_features+1).to(device)\n",
    "\n",
    "# criterion = torch.nn.BCELoss()\n",
    "# gen_opt = torch.optim.Adam(gen3.parameters(), lr=0.01, betas=(0.5, 0.999))\n",
    "# disc_opt = torch.optim.Adam(disc3.parameters(), lr=0.01, betas=(0.5, 0.999))\n"
   ]
  },
  {
   "cell_type": "markdown",
   "id": "22a2a37f",
   "metadata": {
    "tags": [
     "papermill-error-cell-tag"
    ]
   },
   "source": [
    "<span id=\"papermill-error-cell\" style=\"color:red; font-family:Helvetica Neue, Helvetica, Arial, sans-serif; font-size:2em;\">Execution using papermill encountered an exception here and stopped:</span>"
   ]
  },
  {
   "cell_type": "code",
   "execution_count": 20,
   "id": "26acbc37",
   "metadata": {
    "execution": {
     "iopub.execute_input": "2022-07-22T21:27:01.912314Z",
     "iopub.status.busy": "2022-07-22T21:27:01.911707Z",
     "iopub.status.idle": "2022-07-22T21:27:03.427358Z",
     "shell.execute_reply": "2022-07-22T21:27:03.423999Z"
    },
    "id": "26acbc37",
    "papermill": {
     "duration": 1.56326,
     "end_time": "2022-07-22T21:27:03.434950",
     "exception": true,
     "start_time": "2022-07-22T21:27:01.871690",
     "status": "failed"
    },
    "tags": []
   },
   "outputs": [
    {
     "ename": "NameError",
     "evalue": "name 'disc3' is not defined",
     "output_type": "error",
     "traceback": [
      "\u001b[0;31m---------------------------------------------------------------------------\u001b[0m",
      "\u001b[0;31mNameError\u001b[0m                                 Traceback (most recent call last)",
      "Input \u001b[0;32mIn [20]\u001b[0m, in \u001b[0;36m<cell line: 1>\u001b[0;34m()\u001b[0m\n\u001b[0;32m----> 1\u001b[0m ABC_train_test2\u001b[38;5;241m.\u001b[39mtraining_GAN_skip_connection(\u001b[43mdisc3\u001b[49m,gen3,disc_opt,gen_opt,train_data,batch_size,n_epochs,criterion,prior_model,variance,bias,device)\n",
      "\u001b[0;31mNameError\u001b[0m: name 'disc3' is not defined"
     ]
    }
   ],
   "source": [
    "ABC_train_test2.training_GAN_skip_connection(disc3,gen3,disc_opt,gen_opt,train_data,batch_size,n_epochs,criterion,prior_model,variance,bias,device)"
   ]
  },
  {
   "cell_type": "code",
   "execution_count": null,
   "id": "c5e0717b",
   "metadata": {
    "id": "c5e0717b",
    "papermill": {
     "duration": null,
     "end_time": null,
     "exception": null,
     "start_time": null,
     "status": "pending"
    },
    "tags": []
   },
   "outputs": [],
   "source": [
    "# ABC_GAN3_metrics=ABC_train_test2.test_generator(gen3,test_data,prior_model,variance,bias,\"3\",device)\n",
    "# sb.glue(\"ABC_GAN_3 Metrics\",ABC_GAN3_metrics)\n",
    "\n",
    "# print(\"MAE\")\n",
    "# print(mean(ABC_GAN3_metrics[1]))"
   ]
  },
  {
   "cell_type": "code",
   "execution_count": null,
   "id": "c8e46b48",
   "metadata": {
    "id": "c8e46b48",
    "papermill": {
     "duration": null,
     "end_time": null,
     "exception": null,
     "start_time": null,
     "status": "pending"
    },
    "tags": []
   },
   "outputs": [],
   "source": [
    "# sanityChecks.discProbVsError(train_data,disc3,device)\n",
    "# sanityChecks.discProbVsError(test_data,disc3,device)"
   ]
  },
  {
   "cell_type": "markdown",
   "id": "50fbef3a",
   "metadata": {
    "id": "130f3a4d",
    "papermill": {
     "duration": null,
     "end_time": null,
     "exception": null,
     "start_time": null,
     "status": "pending"
    },
    "tags": []
   },
   "source": [
    "# skipGAN Model with TabNet Generator"
   ]
  },
  {
   "cell_type": "code",
   "execution_count": null,
   "id": "8822fea6",
   "metadata": {
    "id": "4e43dad1",
    "papermill": {
     "duration": null,
     "end_time": null,
     "exception": null,
     "start_time": null,
     "status": "pending"
    },
    "tags": []
   },
   "outputs": [],
   "source": [
    "# #Generator\n",
    "# gen4 = network.GeneratorTabnetskipConnection(n_features+1).to(device)\n",
    "# constraints=network.weightConstraint()\n",
    "# #Discriminator \n",
    "# disc4 = network.Discriminator(n_features+1).to(device)\n",
    "\n",
    "# criterion = torch.nn.BCELoss()\n",
    "# gen_opt = torch.optim.Adam(gen4.parameters(), lr=0.01, betas=(0.5, 0.999))\n",
    "# disc_opt = torch.optim.Adam(disc4.parameters(), lr=0.01, betas=(0.5, 0.999))\n"
   ]
  },
  {
   "cell_type": "code",
   "execution_count": null,
   "id": "5b3c48b3",
   "metadata": {
    "id": "26acbc37",
    "papermill": {
     "duration": null,
     "end_time": null,
     "exception": null,
     "start_time": null,
     "status": "pending"
    },
    "tags": []
   },
   "outputs": [],
   "source": [
    "# ABC_train_test2.training_GAN_skip_connection(disc4,gen4,disc_opt,gen_opt,train_data,batch_size,n_epochs,criterion,prior_model,variance,bias,device)"
   ]
  },
  {
   "cell_type": "code",
   "execution_count": null,
   "id": "6c0435c1",
   "metadata": {
    "id": "c5e0717b",
    "papermill": {
     "duration": null,
     "end_time": null,
     "exception": null,
     "start_time": null,
     "status": "pending"
    },
    "tags": []
   },
   "outputs": [],
   "source": [
    "# ABC_GAN4_metrics=ABC_train_test2.test_generator(gen4,test_data,prior_model,variance,bias,\"3\",device)\n",
    "# sb.glue(\"ABC_GAN_4 Metrics\",ABC_GAN4_metrics)\n",
    "\n",
    "# print(\"MAE\")\n",
    "# print(mean(ABC_GAN4_metrics[1]))"
   ]
  },
  {
   "cell_type": "code",
   "execution_count": null,
   "id": "a1be69a7",
   "metadata": {
    "id": "c8e46b48",
    "papermill": {
     "duration": null,
     "end_time": null,
     "exception": null,
     "start_time": null,
     "status": "pending"
    },
    "tags": []
   },
   "outputs": [],
   "source": [
    "# sanityChecks.discProbVsError(train_data,disc4,device)\n",
    "# sanityChecks.discProbVsError(test_data,disc4,device)"
   ]
  },
  {
   "cell_type": "markdown",
   "id": "a5bd74c3",
   "metadata": {
    "id": "a5bd74c3",
    "papermill": {
     "duration": null,
     "end_time": null,
     "exception": null,
     "start_time": null,
     "status": "pending"
    },
    "tags": []
   },
   "source": [
    "## Skip Connection Model Analysis - ABC-GAN "
   ]
  },
  {
   "cell_type": "markdown",
   "id": "5744a8bf",
   "metadata": {
    "id": "5744a8bf",
    "papermill": {
     "duration": null,
     "end_time": null,
     "exception": null,
     "start_time": null,
     "status": "pending"
    },
    "tags": []
   },
   "source": [
    "### Weight Analysis \n",
    "\n",
    "Study the weights of the skip connection layer\n",
    "\n",
    "Equation of the skip connection is \n",
    "\n",
    "$output = y_{gan} * w + y_{abc} * (1-w)$"
   ]
  },
  {
   "cell_type": "code",
   "execution_count": null,
   "id": "52c31dea",
   "metadata": {
    "id": "52c31dea",
    "papermill": {
     "duration": null,
     "end_time": null,
     "exception": null,
     "start_time": null,
     "status": "pending"
    },
    "tags": []
   },
   "outputs": [],
   "source": [
    "# print(\"Weight of the node at skip connection\")\n",
    "# for name,param in gen3.named_parameters():\n",
    "#     if(name == \"skipNode.weight\"):\n",
    "#         print(param)\n",
    "#         sb.glue(\"Skip Connection Weight\",param.item())"
   ]
  },
  {
   "cell_type": "markdown",
   "id": "7d509783",
   "metadata": {
    "id": "a5bd74c3",
    "papermill": {
     "duration": null,
     "end_time": null,
     "exception": null,
     "start_time": null,
     "status": "pending"
    },
    "tags": []
   },
   "source": [
    "## skipGAN Model Analysis (TabNet Generator) "
   ]
  },
  {
   "cell_type": "markdown",
   "id": "9ca1e47c",
   "metadata": {
    "id": "5744a8bf",
    "papermill": {
     "duration": null,
     "end_time": null,
     "exception": null,
     "start_time": null,
     "status": "pending"
    },
    "tags": []
   },
   "source": [
    "### Weight Analysis \n",
    "\n",
    "Study the weights of the skip connection layer\n",
    "\n",
    "Equation of the skip connection is \n",
    "\n",
    "$output = y_{gan} * w + y_{abc} * (1-w)$"
   ]
  },
  {
   "cell_type": "code",
   "execution_count": null,
   "id": "49ebcd5f",
   "metadata": {
    "id": "52c31dea",
    "papermill": {
     "duration": null,
     "end_time": null,
     "exception": null,
     "start_time": null,
     "status": "pending"
    },
    "tags": []
   },
   "outputs": [],
   "source": [
    "# print(\"Weight of the node at skip connection\")\n",
    "# for name,param in gen4.named_parameters():\n",
    "#     if(name == \"skipNode.weight\"):\n",
    "#         print(param)\n",
    "#         sb.glue(\"Skip Connection Weight\",param.item())"
   ]
  }
 ],
 "metadata": {
  "colab": {
   "collapsed_sections": [],
   "name": "ABC_GAN_Model-Catboost_Pre-gen.ipynb",
   "provenance": []
  },
  "interpreter": {
   "hash": "31f2aee4e71d21fbe5cf8b01ff0e069b9275f58929596ceb00d14d90e3e16cd6"
  },
  "kernelspec": {
   "display_name": "Python 3 (ipykernel)",
   "language": "python",
   "name": "python3"
  },
  "language_info": {
   "codemirror_mode": {
    "name": "ipython",
    "version": 3
   },
   "file_extension": ".py",
   "mimetype": "text/x-python",
   "name": "python",
   "nbconvert_exporter": "python",
   "pygments_lexer": "ipython3",
   "version": "3.8.13"
  },
  "papermill": {
   "default_parameters": {},
   "duration": 654.656009,
   "end_time": "2022-07-22T21:27:04.672498",
   "environment_variables": {},
   "exception": true,
   "input_path": "ABC_GAN-Catboost.ipynb",
   "output_path": "./ABC_GAN_Catboost/ABC-GAN_output_2_7.ipynb",
   "parameters": {
    "bias": 0.01,
    "variance": 0.1
   },
   "start_time": "2022-07-22T21:16:10.016489",
   "version": "2.3.3"
  }
 },
 "nbformat": 4,
 "nbformat_minor": 5
}