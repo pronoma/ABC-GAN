{
 "cells": [
  {
   "cell_type": "markdown",
   "id": "c1198670",
   "metadata": {
    "tags": [
     "papermill-error-cell-tag"
    ]
   },
   "source": [
    "<span style=\"color:red; font-family:Helvetica Neue, Helvetica, Arial, sans-serif; font-size:2em;\">An Exception was encountered at '<a href=\"#papermill-error-cell\">In [20]</a>'.</span>"
   ]
  },
  {
   "cell_type": "markdown",
   "id": "622780e6",
   "metadata": {
    "id": "622780e6",
    "papermill": {
     "duration": 0.009856,
     "end_time": "2022-07-22T18:53:21.877178",
     "exception": false,
     "start_time": "2022-07-22T18:53:21.867322",
     "status": "completed"
    },
    "tags": []
   },
   "source": [
    "## Import Libraries "
   ]
  },
  {
   "cell_type": "code",
   "execution_count": 1,
   "id": "a62397e3",
   "metadata": {
    "execution": {
     "iopub.execute_input": "2022-07-22T18:53:21.905404Z",
     "iopub.status.busy": "2022-07-22T18:53:21.904315Z",
     "iopub.status.idle": "2022-07-22T18:53:21.933620Z",
     "shell.execute_reply": "2022-07-22T18:53:21.930658Z"
    },
    "id": "a62397e3",
    "papermill": {
     "duration": 0.056428,
     "end_time": "2022-07-22T18:53:21.941789",
     "exception": false,
     "start_time": "2022-07-22T18:53:21.885361",
     "status": "completed"
    },
    "tags": []
   },
   "outputs": [],
   "source": [
    "import warnings\n",
    "import sys\n",
    "sys.path.insert(0, '../../src')\n",
    "warnings.filterwarnings('ignore')"
   ]
  },
  {
   "cell_type": "code",
   "execution_count": 2,
   "id": "d6a4e155",
   "metadata": {
    "execution": {
     "iopub.execute_input": "2022-07-22T18:53:21.962599Z",
     "iopub.status.busy": "2022-07-22T18:53:21.961897Z",
     "iopub.status.idle": "2022-07-22T18:53:28.766548Z",
     "shell.execute_reply": "2022-07-22T18:53:28.765534Z"
    },
    "id": "d6a4e155",
    "papermill": {
     "duration": 6.818658,
     "end_time": "2022-07-22T18:53:28.769895",
     "exception": false,
     "start_time": "2022-07-22T18:53:21.951237",
     "status": "completed"
    },
    "tags": []
   },
   "outputs": [],
   "source": [
    "import ABC_train_test2\n",
    "import bostonDataset\n",
    "import network\n",
    "import dataset\n",
    "import sanityChecks\n",
    "import torch \n",
    "import scrapbook as sb\n",
    "from statistics import mean \n",
    "import catboost as ctb \n",
    "from sklearn.model_selection import train_test_split\n",
    "from sklearn.metrics import mean_squared_error,mean_absolute_error\n",
    "import numpy as np"
   ]
  },
  {
   "cell_type": "markdown",
   "id": "2fa5b0f7",
   "metadata": {
    "id": "2fa5b0f7",
    "papermill": {
     "duration": 0.008634,
     "end_time": "2022-07-22T18:53:28.786849",
     "exception": false,
     "start_time": "2022-07-22T18:53:28.778215",
     "status": "completed"
    },
    "tags": []
   },
   "source": [
    "## Parameters "
   ]
  },
  {
   "cell_type": "code",
   "execution_count": 3,
   "id": "783186fb",
   "metadata": {
    "execution": {
     "iopub.execute_input": "2022-07-22T18:53:28.806313Z",
     "iopub.status.busy": "2022-07-22T18:53:28.805901Z",
     "iopub.status.idle": "2022-07-22T18:53:28.811397Z",
     "shell.execute_reply": "2022-07-22T18:53:28.809408Z"
    },
    "id": "783186fb",
    "papermill": {
     "duration": 0.022595,
     "end_time": "2022-07-22T18:53:28.817066",
     "exception": false,
     "start_time": "2022-07-22T18:53:28.794471",
     "status": "completed"
    },
    "tags": [
     "parameters"
    ]
   },
   "outputs": [],
   "source": [
    "variance = 1\n",
    "bias = 1 "
   ]
  },
  {
   "cell_type": "code",
   "execution_count": 4,
   "id": "f03611b7",
   "metadata": {
    "execution": {
     "iopub.execute_input": "2022-07-22T18:53:28.837254Z",
     "iopub.status.busy": "2022-07-22T18:53:28.834655Z",
     "iopub.status.idle": "2022-07-22T18:53:28.846314Z",
     "shell.execute_reply": "2022-07-22T18:53:28.844783Z"
    },
    "papermill": {
     "duration": 0.02408,
     "end_time": "2022-07-22T18:53:28.849033",
     "exception": false,
     "start_time": "2022-07-22T18:53:28.824953",
     "status": "completed"
    },
    "tags": [
     "injected-parameters"
    ]
   },
   "outputs": [],
   "source": [
    "# Parameters\n",
    "variance = 1\n",
    "bias = 0.01\n"
   ]
  },
  {
   "cell_type": "markdown",
   "id": "391cdbfd",
   "metadata": {
    "id": "391cdbfd",
    "papermill": {
     "duration": 0.00836,
     "end_time": "2022-07-22T18:53:28.864992",
     "exception": false,
     "start_time": "2022-07-22T18:53:28.856632",
     "status": "completed"
    },
    "tags": []
   },
   "source": [
    "## Dataset \n"
   ]
  },
  {
   "cell_type": "code",
   "execution_count": 5,
   "id": "5b51f161",
   "metadata": {
    "execution": {
     "iopub.execute_input": "2022-07-22T18:53:28.883432Z",
     "iopub.status.busy": "2022-07-22T18:53:28.882760Z",
     "iopub.status.idle": "2022-07-22T18:53:28.889527Z",
     "shell.execute_reply": "2022-07-22T18:53:28.888177Z"
    },
    "id": "5b51f161",
    "papermill": {
     "duration": 0.02784,
     "end_time": "2022-07-22T18:53:28.900707",
     "exception": false,
     "start_time": "2022-07-22T18:53:28.872867",
     "status": "completed"
    },
    "tags": []
   },
   "outputs": [],
   "source": [
    "#Parameters \n",
    "n_features = 13\n",
    "n_samples= 506\n",
    "n_target = 1 "
   ]
  },
  {
   "cell_type": "code",
   "execution_count": 6,
   "id": "5d6eced4",
   "metadata": {
    "execution": {
     "iopub.execute_input": "2022-07-22T18:53:28.929871Z",
     "iopub.status.busy": "2022-07-22T18:53:28.928425Z",
     "iopub.status.idle": "2022-07-22T18:53:28.962728Z",
     "shell.execute_reply": "2022-07-22T18:53:28.960665Z"
    },
    "id": "5d6eced4",
    "papermill": {
     "duration": 0.057763,
     "end_time": "2022-07-22T18:53:28.966280",
     "exception": false,
     "start_time": "2022-07-22T18:53:28.908517",
     "status": "completed"
    },
    "tags": []
   },
   "outputs": [
    {
     "name": "stdout",
     "output_type": "stream",
     "text": [
      "         X1        X2        X3        X4        X5        X6        X7  \\\n",
      "0 -0.419782  0.284830 -1.287909 -0.272599 -0.144217  0.413672 -0.120013   \n",
      "1 -0.417339 -0.487722 -0.593381 -0.272599 -0.740262  0.194274  0.367166   \n",
      "2 -0.417342 -0.487722 -0.593381 -0.272599 -0.740262  1.282714 -0.265812   \n",
      "3 -0.416750 -0.487722 -1.306878 -0.272599 -0.835284  1.016303 -0.809889   \n",
      "4 -0.412482 -0.487722 -1.306878 -0.272599 -0.835284  1.228577 -0.511180   \n",
      "\n",
      "         X8        X9       X10       X11       X12       X13         Y  \n",
      "0  0.140214 -0.982843 -0.666608 -1.459000  0.441052 -1.075562  0.159686  \n",
      "1  0.557160 -0.867883 -0.987329 -0.303094  0.441052 -0.492439 -0.101524  \n",
      "2  0.557160 -0.867883 -0.987329 -0.303094  0.396427 -1.208727  1.324247  \n",
      "3  1.077737 -0.752922 -1.106115  0.113032  0.416163 -1.361517  1.182758  \n",
      "4  1.077737 -0.752922 -1.106115  0.113032  0.441052 -1.026501  1.487503  \n"
     ]
    }
   ],
   "source": [
    "X,Y = bostonDataset.boston_data()"
   ]
  },
  {
   "cell_type": "code",
   "execution_count": 7,
   "id": "fe007438",
   "metadata": {
    "execution": {
     "iopub.execute_input": "2022-07-22T18:53:28.983837Z",
     "iopub.status.busy": "2022-07-22T18:53:28.983444Z",
     "iopub.status.idle": "2022-07-22T18:53:28.991285Z",
     "shell.execute_reply": "2022-07-22T18:53:28.989060Z"
    },
    "id": "fe007438",
    "papermill": {
     "duration": 0.021522,
     "end_time": "2022-07-22T18:53:28.995455",
     "exception": false,
     "start_time": "2022-07-22T18:53:28.973933",
     "status": "completed"
    },
    "tags": []
   },
   "outputs": [],
   "source": [
    "#Train test split for dataset \n",
    "X_train,X_test,Y_train,Y_test = train_test_split(X,Y,test_size = 0.2)\n",
    "train_data = dataset.CustomDataset(X_train,Y_train)\n",
    "test_data = dataset.CustomDataset(X_test,Y_test)\n"
   ]
  },
  {
   "cell_type": "markdown",
   "id": "a9a1af34",
   "metadata": {
    "id": "a9a1af34",
    "papermill": {
     "duration": 0.007599,
     "end_time": "2022-07-22T18:53:29.010930",
     "exception": false,
     "start_time": "2022-07-22T18:53:29.003331",
     "status": "completed"
    },
    "tags": []
   },
   "source": [
    "## Training Parameters "
   ]
  },
  {
   "cell_type": "code",
   "execution_count": 8,
   "id": "952b7fc8",
   "metadata": {
    "execution": {
     "iopub.execute_input": "2022-07-22T18:53:29.030844Z",
     "iopub.status.busy": "2022-07-22T18:53:29.030413Z",
     "iopub.status.idle": "2022-07-22T18:53:29.043609Z",
     "shell.execute_reply": "2022-07-22T18:53:29.040573Z"
    },
    "id": "952b7fc8",
    "papermill": {
     "duration": 0.027929,
     "end_time": "2022-07-22T18:53:29.046776",
     "exception": false,
     "start_time": "2022-07-22T18:53:29.018847",
     "status": "completed"
    },
    "tags": []
   },
   "outputs": [],
   "source": [
    "batch_size = 32\n",
    "n_epochs = 1000\n",
    "#Select the device \n",
    "device = torch.device('cuda' if torch.cuda.is_available() else 'cpu')"
   ]
  },
  {
   "cell_type": "markdown",
   "id": "a95e1600",
   "metadata": {
    "id": "a95e1600",
    "papermill": {
     "duration": 0.007908,
     "end_time": "2022-07-22T18:53:29.063166",
     "exception": false,
     "start_time": "2022-07-22T18:53:29.055258",
     "status": "completed"
    },
    "tags": []
   },
   "source": [
    "# ABC Pre-generator Model \n",
    "\n",
    "1. The catboost model is used as a pre-generator model for the ABC-GAN. \n",
    "2. The model is first trained on the entire dataset \n",
    "3. It generats X,Y pairs and we add some Gaussian noise with mean 0 and variance 1 to it which is then feed as input to the generator.\n"
   ]
  },
  {
   "cell_type": "code",
   "execution_count": 9,
   "id": "ff8ce7bd",
   "metadata": {
    "execution": {
     "iopub.execute_input": "2022-07-22T18:53:29.081502Z",
     "iopub.status.busy": "2022-07-22T18:53:29.080912Z",
     "iopub.status.idle": "2022-07-22T18:53:33.370090Z",
     "shell.execute_reply": "2022-07-22T18:53:33.369337Z"
    },
    "id": "ff8ce7bd",
    "papermill": {
     "duration": 4.301895,
     "end_time": "2022-07-22T18:53:33.372904",
     "exception": false,
     "start_time": "2022-07-22T18:53:29.071009",
     "status": "completed"
    },
    "tags": []
   },
   "outputs": [
    {
     "name": "stdout",
     "output_type": "stream",
     "text": [
      "Learning rate set to 0.03548\n"
     ]
    },
    {
     "name": "stdout",
     "output_type": "stream",
     "text": [
      "0:\tlearn: 0.9746845\ttotal: 67.3ms\tremaining: 1m 7s\n",
      "1:\tlearn: 0.9533214\ttotal: 70ms\tremaining: 34.9s\n",
      "2:\tlearn: 0.9307458\ttotal: 72.3ms\tremaining: 24s\n",
      "3:\tlearn: 0.9142788\ttotal: 74.6ms\tremaining: 18.6s\n",
      "4:\tlearn: 0.8958824\ttotal: 76.9ms\tremaining: 15.3s\n",
      "5:\tlearn: 0.8790849\ttotal: 79.5ms\tremaining: 13.2s\n",
      "6:\tlearn: 0.8619816\ttotal: 81.8ms\tremaining: 11.6s\n",
      "7:\tlearn: 0.8464289\ttotal: 84ms\tremaining: 10.4s\n",
      "8:\tlearn: 0.8305468\ttotal: 86.3ms\tremaining: 9.5s\n",
      "9:\tlearn: 0.8138349\ttotal: 88.7ms\tremaining: 8.78s\n",
      "10:\tlearn: 0.7996729\ttotal: 91.3ms\tremaining: 8.21s\n",
      "11:\tlearn: 0.7857534\ttotal: 93.7ms\tremaining: 7.72s\n",
      "12:\tlearn: 0.7715386\ttotal: 96.1ms\tremaining: 7.29s\n",
      "13:\tlearn: 0.7575323\ttotal: 99.3ms\tremaining: 7s\n",
      "14:\tlearn: 0.7444340\ttotal: 102ms\tremaining: 6.69s\n",
      "15:\tlearn: 0.7316492\ttotal: 105ms\tremaining: 6.44s\n",
      "16:\tlearn: 0.7192922\ttotal: 107ms\tremaining: 6.19s\n",
      "17:\tlearn: 0.7064985\ttotal: 110ms\tremaining: 5.99s\n",
      "18:\tlearn: 0.6952810\ttotal: 113ms\tremaining: 5.85s\n",
      "19:\tlearn: 0.6828880\ttotal: 117ms\tremaining: 5.75s\n",
      "20:\tlearn: 0.6711850\ttotal: 120ms\tremaining: 5.6s\n",
      "21:\tlearn: 0.6608632\ttotal: 124ms\tremaining: 5.51s\n",
      "22:\tlearn: 0.6489857\ttotal: 127ms\tremaining: 5.41s\n",
      "23:\tlearn: 0.6393298\ttotal: 131ms\tremaining: 5.32s\n",
      "24:\tlearn: 0.6294327\ttotal: 134ms\tremaining: 5.21s\n",
      "25:\tlearn: 0.6199203\ttotal: 136ms\tremaining: 5.1s\n",
      "26:\tlearn: 0.6117806\ttotal: 139ms\tremaining: 5s\n",
      "27:\tlearn: 0.6021293\ttotal: 141ms\tremaining: 4.89s\n",
      "28:\tlearn: 0.5937366\ttotal: 144ms\tremaining: 4.81s\n",
      "29:\tlearn: 0.5840400\ttotal: 146ms\tremaining: 4.72s\n",
      "30:\tlearn: 0.5748272\ttotal: 149ms\tremaining: 4.64s\n",
      "31:\tlearn: 0.5672310\ttotal: 152ms\tremaining: 4.58s\n",
      "32:\tlearn: 0.5598868\ttotal: 154ms\tremaining: 4.52s\n",
      "33:\tlearn: 0.5525849\ttotal: 158ms\tremaining: 4.49s\n"
     ]
    },
    {
     "name": "stdout",
     "output_type": "stream",
     "text": [
      "34:\tlearn: 0.5465279\ttotal: 161ms\tremaining: 4.45s\n",
      "35:\tlearn: 0.5392888\ttotal: 165ms\tremaining: 4.42s\n",
      "36:\tlearn: 0.5330831\ttotal: 168ms\tremaining: 4.38s\n",
      "37:\tlearn: 0.5264360\ttotal: 171ms\tremaining: 4.32s\n",
      "38:\tlearn: 0.5194649\ttotal: 173ms\tremaining: 4.27s\n",
      "39:\tlearn: 0.5123849\ttotal: 175ms\tremaining: 4.21s\n",
      "40:\tlearn: 0.5068576\ttotal: 178ms\tremaining: 4.16s\n",
      "41:\tlearn: 0.4999056\ttotal: 180ms\tremaining: 4.12s\n",
      "42:\tlearn: 0.4944956\ttotal: 182ms\tremaining: 4.05s\n",
      "43:\tlearn: 0.4888832\ttotal: 184ms\tremaining: 3.99s\n",
      "44:\tlearn: 0.4832134\ttotal: 186ms\tremaining: 3.94s\n",
      "45:\tlearn: 0.4767545\ttotal: 187ms\tremaining: 3.89s\n",
      "46:\tlearn: 0.4722917\ttotal: 189ms\tremaining: 3.84s\n",
      "47:\tlearn: 0.4670076\ttotal: 195ms\tremaining: 3.86s\n",
      "48:\tlearn: 0.4622534\ttotal: 214ms\tremaining: 4.15s\n",
      "49:\tlearn: 0.4582422\ttotal: 216ms\tremaining: 4.11s\n",
      "50:\tlearn: 0.4527944\ttotal: 219ms\tremaining: 4.07s\n",
      "51:\tlearn: 0.4481910\ttotal: 221ms\tremaining: 4.03s\n",
      "52:\tlearn: 0.4424537\ttotal: 224ms\tremaining: 4s\n",
      "53:\tlearn: 0.4390779\ttotal: 225ms\tremaining: 3.95s\n",
      "54:\tlearn: 0.4342593\ttotal: 228ms\tremaining: 3.92s\n"
     ]
    },
    {
     "name": "stdout",
     "output_type": "stream",
     "text": [
      "55:\tlearn: 0.4314375\ttotal: 230ms\tremaining: 3.88s\n",
      "56:\tlearn: 0.4282847\ttotal: 233ms\tremaining: 3.86s\n",
      "57:\tlearn: 0.4236224\ttotal: 236ms\tremaining: 3.83s\n",
      "58:\tlearn: 0.4201155\ttotal: 241ms\tremaining: 3.84s\n",
      "59:\tlearn: 0.4169958\ttotal: 243ms\tremaining: 3.81s\n",
      "60:\tlearn: 0.4127958\ttotal: 252ms\tremaining: 3.88s\n",
      "61:\tlearn: 0.4085546\ttotal: 255ms\tremaining: 3.85s\n",
      "62:\tlearn: 0.4054622\ttotal: 258ms\tremaining: 3.84s\n",
      "63:\tlearn: 0.4018495\ttotal: 261ms\tremaining: 3.81s\n",
      "64:\tlearn: 0.3980962\ttotal: 263ms\tremaining: 3.78s\n",
      "65:\tlearn: 0.3948088\ttotal: 266ms\tremaining: 3.76s\n",
      "66:\tlearn: 0.3914925\ttotal: 268ms\tremaining: 3.74s\n",
      "67:\tlearn: 0.3887142\ttotal: 271ms\tremaining: 3.71s\n",
      "68:\tlearn: 0.3853658\ttotal: 274ms\tremaining: 3.7s\n",
      "69:\tlearn: 0.3825927\ttotal: 276ms\tremaining: 3.67s\n",
      "70:\tlearn: 0.3796055\ttotal: 279ms\tremaining: 3.66s\n",
      "71:\tlearn: 0.3763733\ttotal: 282ms\tremaining: 3.63s\n",
      "72:\tlearn: 0.3736204\ttotal: 284ms\tremaining: 3.6s\n",
      "73:\tlearn: 0.3705399\ttotal: 286ms\tremaining: 3.58s\n",
      "74:\tlearn: 0.3683030\ttotal: 289ms\tremaining: 3.56s\n",
      "75:\tlearn: 0.3658353\ttotal: 291ms\tremaining: 3.54s\n",
      "76:\tlearn: 0.3617697\ttotal: 294ms\tremaining: 3.52s\n",
      "77:\tlearn: 0.3593697\ttotal: 297ms\tremaining: 3.51s\n",
      "78:\tlearn: 0.3574259\ttotal: 299ms\tremaining: 3.49s\n",
      "79:\tlearn: 0.3544955\ttotal: 302ms\tremaining: 3.47s\n",
      "80:\tlearn: 0.3517104\ttotal: 305ms\tremaining: 3.46s\n",
      "81:\tlearn: 0.3488242\ttotal: 308ms\tremaining: 3.45s\n"
     ]
    },
    {
     "name": "stdout",
     "output_type": "stream",
     "text": [
      "82:\tlearn: 0.3464501\ttotal: 327ms\tremaining: 3.61s\n",
      "83:\tlearn: 0.3438715\ttotal: 330ms\tremaining: 3.59s\n",
      "84:\tlearn: 0.3414538\ttotal: 332ms\tremaining: 3.57s\n",
      "85:\tlearn: 0.3393139\ttotal: 335ms\tremaining: 3.56s\n",
      "86:\tlearn: 0.3370826\ttotal: 338ms\tremaining: 3.54s\n",
      "87:\tlearn: 0.3345264\ttotal: 340ms\tremaining: 3.53s\n",
      "88:\tlearn: 0.3323088\ttotal: 343ms\tremaining: 3.51s\n",
      "89:\tlearn: 0.3300298\ttotal: 345ms\tremaining: 3.49s\n",
      "90:\tlearn: 0.3276988\ttotal: 348ms\tremaining: 3.48s\n",
      "91:\tlearn: 0.3258439\ttotal: 350ms\tremaining: 3.46s\n",
      "92:\tlearn: 0.3243862\ttotal: 353ms\tremaining: 3.44s\n",
      "93:\tlearn: 0.3224038\ttotal: 355ms\tremaining: 3.42s\n",
      "94:\tlearn: 0.3202467\ttotal: 358ms\tremaining: 3.41s\n",
      "95:\tlearn: 0.3191194\ttotal: 362ms\tremaining: 3.41s\n",
      "96:\tlearn: 0.3174508\ttotal: 367ms\tremaining: 3.41s\n"
     ]
    },
    {
     "name": "stdout",
     "output_type": "stream",
     "text": [
      "97:\tlearn: 0.3161382\ttotal: 403ms\tremaining: 3.71s\n",
      "98:\tlearn: 0.3142913\ttotal: 406ms\tremaining: 3.7s\n",
      "99:\tlearn: 0.3126198\ttotal: 409ms\tremaining: 3.68s\n",
      "100:\tlearn: 0.3108707\ttotal: 412ms\tremaining: 3.66s\n",
      "101:\tlearn: 0.3091747\ttotal: 414ms\tremaining: 3.65s\n",
      "102:\tlearn: 0.3077261\ttotal: 417ms\tremaining: 3.63s\n",
      "103:\tlearn: 0.3060790\ttotal: 419ms\tremaining: 3.61s\n",
      "104:\tlearn: 0.3044257\ttotal: 422ms\tremaining: 3.59s\n",
      "105:\tlearn: 0.3028329\ttotal: 424ms\tremaining: 3.57s\n",
      "106:\tlearn: 0.3011633\ttotal: 427ms\tremaining: 3.56s\n",
      "107:\tlearn: 0.2999964\ttotal: 429ms\tremaining: 3.54s\n",
      "108:\tlearn: 0.2984117\ttotal: 431ms\tremaining: 3.52s\n",
      "109:\tlearn: 0.2970373\ttotal: 434ms\tremaining: 3.51s\n",
      "110:\tlearn: 0.2955180\ttotal: 437ms\tremaining: 3.5s\n",
      "111:\tlearn: 0.2944303\ttotal: 439ms\tremaining: 3.48s\n",
      "112:\tlearn: 0.2929282\ttotal: 441ms\tremaining: 3.46s\n",
      "113:\tlearn: 0.2919593\ttotal: 444ms\tremaining: 3.45s\n",
      "114:\tlearn: 0.2908659\ttotal: 446ms\tremaining: 3.44s\n",
      "115:\tlearn: 0.2895208\ttotal: 449ms\tremaining: 3.42s\n",
      "116:\tlearn: 0.2880195\ttotal: 451ms\tremaining: 3.4s\n",
      "117:\tlearn: 0.2866476\ttotal: 454ms\tremaining: 3.4s\n",
      "118:\tlearn: 0.2853974\ttotal: 457ms\tremaining: 3.38s\n",
      "119:\tlearn: 0.2843233\ttotal: 459ms\tremaining: 3.37s\n",
      "120:\tlearn: 0.2830012\ttotal: 461ms\tremaining: 3.35s\n",
      "121:\tlearn: 0.2817868\ttotal: 463ms\tremaining: 3.33s\n",
      "122:\tlearn: 0.2807171\ttotal: 466ms\tremaining: 3.32s\n",
      "123:\tlearn: 0.2797819\ttotal: 469ms\tremaining: 3.31s\n",
      "124:\tlearn: 0.2784189\ttotal: 471ms\tremaining: 3.3s\n",
      "125:\tlearn: 0.2772512\ttotal: 474ms\tremaining: 3.28s\n",
      "126:\tlearn: 0.2758777\ttotal: 480ms\tremaining: 3.3s\n",
      "127:\tlearn: 0.2748344\ttotal: 489ms\tremaining: 3.33s\n",
      "128:\tlearn: 0.2736029\ttotal: 491ms\tremaining: 3.32s\n"
     ]
    },
    {
     "name": "stdout",
     "output_type": "stream",
     "text": [
      "129:\tlearn: 0.2725449\ttotal: 496ms\tremaining: 3.32s\n",
      "130:\tlearn: 0.2715209\ttotal: 499ms\tremaining: 3.31s\n",
      "131:\tlearn: 0.2704560\ttotal: 502ms\tremaining: 3.3s\n",
      "132:\tlearn: 0.2692251\ttotal: 504ms\tremaining: 3.29s\n",
      "133:\tlearn: 0.2681267\ttotal: 507ms\tremaining: 3.28s\n",
      "134:\tlearn: 0.2673971\ttotal: 509ms\tremaining: 3.26s\n",
      "135:\tlearn: 0.2667169\ttotal: 512ms\tremaining: 3.25s\n",
      "136:\tlearn: 0.2654166\ttotal: 514ms\tremaining: 3.24s\n",
      "137:\tlearn: 0.2646780\ttotal: 516ms\tremaining: 3.23s\n",
      "138:\tlearn: 0.2636140\ttotal: 520ms\tremaining: 3.22s\n",
      "139:\tlearn: 0.2623458\ttotal: 522ms\tremaining: 3.21s\n",
      "140:\tlearn: 0.2613646\ttotal: 526ms\tremaining: 3.2s\n",
      "141:\tlearn: 0.2604508\ttotal: 528ms\tremaining: 3.19s\n",
      "142:\tlearn: 0.2593360\ttotal: 532ms\tremaining: 3.19s\n",
      "143:\tlearn: 0.2584059\ttotal: 535ms\tremaining: 3.18s\n",
      "144:\tlearn: 0.2573652\ttotal: 537ms\tremaining: 3.17s\n",
      "145:\tlearn: 0.2562003\ttotal: 540ms\tremaining: 3.16s\n",
      "146:\tlearn: 0.2552691\ttotal: 542ms\tremaining: 3.15s\n",
      "147:\tlearn: 0.2544563\ttotal: 545ms\tremaining: 3.14s\n",
      "148:\tlearn: 0.2536905\ttotal: 547ms\tremaining: 3.13s\n",
      "149:\tlearn: 0.2533084\ttotal: 550ms\tremaining: 3.12s\n",
      "150:\tlearn: 0.2524592\ttotal: 552ms\tremaining: 3.1s\n",
      "151:\tlearn: 0.2516385\ttotal: 555ms\tremaining: 3.1s\n",
      "152:\tlearn: 0.2509906\ttotal: 558ms\tremaining: 3.09s\n",
      "153:\tlearn: 0.2502148\ttotal: 560ms\tremaining: 3.08s\n"
     ]
    },
    {
     "name": "stdout",
     "output_type": "stream",
     "text": [
      "154:\tlearn: 0.2495080\ttotal: 581ms\tremaining: 3.17s\n",
      "155:\tlearn: 0.2486114\ttotal: 586ms\tremaining: 3.17s\n",
      "156:\tlearn: 0.2477179\ttotal: 590ms\tremaining: 3.17s\n",
      "157:\tlearn: 0.2464765\ttotal: 592ms\tremaining: 3.15s\n",
      "158:\tlearn: 0.2457360\ttotal: 595ms\tremaining: 3.15s\n",
      "159:\tlearn: 0.2447604\ttotal: 597ms\tremaining: 3.14s\n",
      "160:\tlearn: 0.2440877\ttotal: 600ms\tremaining: 3.13s\n",
      "161:\tlearn: 0.2432011\ttotal: 602ms\tremaining: 3.11s\n",
      "162:\tlearn: 0.2426682\ttotal: 605ms\tremaining: 3.1s\n",
      "163:\tlearn: 0.2416652\ttotal: 615ms\tremaining: 3.14s\n",
      "164:\tlearn: 0.2411100\ttotal: 630ms\tremaining: 3.19s\n",
      "165:\tlearn: 0.2404471\ttotal: 635ms\tremaining: 3.19s\n",
      "166:\tlearn: 0.2398887\ttotal: 637ms\tremaining: 3.18s\n",
      "167:\tlearn: 0.2391877\ttotal: 640ms\tremaining: 3.17s\n",
      "168:\tlearn: 0.2385472\ttotal: 642ms\tremaining: 3.16s\n",
      "169:\tlearn: 0.2378834\ttotal: 646ms\tremaining: 3.15s\n"
     ]
    },
    {
     "name": "stdout",
     "output_type": "stream",
     "text": [
      "170:\tlearn: 0.2372042\ttotal: 724ms\tremaining: 3.51s\n",
      "171:\tlearn: 0.2361115\ttotal: 729ms\tremaining: 3.51s\n",
      "172:\tlearn: 0.2352789\ttotal: 733ms\tremaining: 3.5s\n"
     ]
    },
    {
     "name": "stdout",
     "output_type": "stream",
     "text": [
      "173:\tlearn: 0.2344430\ttotal: 750ms\tremaining: 3.56s\n",
      "174:\tlearn: 0.2336236\ttotal: 753ms\tremaining: 3.55s\n",
      "175:\tlearn: 0.2331391\ttotal: 755ms\tremaining: 3.53s\n",
      "176:\tlearn: 0.2326161\ttotal: 757ms\tremaining: 3.52s\n",
      "177:\tlearn: 0.2316822\ttotal: 760ms\tremaining: 3.51s\n",
      "178:\tlearn: 0.2310860\ttotal: 763ms\tremaining: 3.5s\n",
      "179:\tlearn: 0.2304340\ttotal: 767ms\tremaining: 3.49s\n",
      "180:\tlearn: 0.2293678\ttotal: 773ms\tremaining: 3.5s\n",
      "181:\tlearn: 0.2285258\ttotal: 779ms\tremaining: 3.5s\n",
      "182:\tlearn: 0.2279445\ttotal: 781ms\tremaining: 3.49s\n",
      "183:\tlearn: 0.2274390\ttotal: 784ms\tremaining: 3.48s\n",
      "184:\tlearn: 0.2269494\ttotal: 786ms\tremaining: 3.46s\n",
      "185:\tlearn: 0.2261992\ttotal: 789ms\tremaining: 3.45s\n",
      "186:\tlearn: 0.2256283\ttotal: 791ms\tremaining: 3.44s\n",
      "187:\tlearn: 0.2251683\ttotal: 794ms\tremaining: 3.43s\n",
      "188:\tlearn: 0.2243701\ttotal: 796ms\tremaining: 3.42s\n",
      "189:\tlearn: 0.2237270\ttotal: 800ms\tremaining: 3.41s\n",
      "190:\tlearn: 0.2232335\ttotal: 803ms\tremaining: 3.4s\n",
      "191:\tlearn: 0.2227306\ttotal: 817ms\tremaining: 3.44s\n",
      "192:\tlearn: 0.2220339\ttotal: 820ms\tremaining: 3.43s\n",
      "193:\tlearn: 0.2214641\ttotal: 821ms\tremaining: 3.41s\n",
      "194:\tlearn: 0.2211871\ttotal: 824ms\tremaining: 3.4s\n",
      "195:\tlearn: 0.2205227\ttotal: 845ms\tremaining: 3.47s\n",
      "196:\tlearn: 0.2197906\ttotal: 847ms\tremaining: 3.45s\n",
      "197:\tlearn: 0.2192389\ttotal: 850ms\tremaining: 3.44s\n",
      "198:\tlearn: 0.2185755\ttotal: 854ms\tremaining: 3.44s\n",
      "199:\tlearn: 0.2178661\ttotal: 856ms\tremaining: 3.42s\n",
      "200:\tlearn: 0.2173474\ttotal: 859ms\tremaining: 3.41s\n",
      "201:\tlearn: 0.2168148\ttotal: 862ms\tremaining: 3.41s\n",
      "202:\tlearn: 0.2161324\ttotal: 866ms\tremaining: 3.4s\n",
      "203:\tlearn: 0.2155598\ttotal: 869ms\tremaining: 3.39s\n",
      "204:\tlearn: 0.2149990\ttotal: 871ms\tremaining: 3.38s\n",
      "205:\tlearn: 0.2145890\ttotal: 874ms\tremaining: 3.37s\n"
     ]
    },
    {
     "name": "stdout",
     "output_type": "stream",
     "text": [
      "206:\tlearn: 0.2138141\ttotal: 893ms\tremaining: 3.42s\n",
      "207:\tlearn: 0.2131393\ttotal: 898ms\tremaining: 3.42s\n"
     ]
    },
    {
     "name": "stdout",
     "output_type": "stream",
     "text": [
      "208:\tlearn: 0.2126268\ttotal: 900ms\tremaining: 3.41s\n",
      "209:\tlearn: 0.2122167\ttotal: 903ms\tremaining: 3.4s\n",
      "210:\tlearn: 0.2116499\ttotal: 909ms\tremaining: 3.4s\n",
      "211:\tlearn: 0.2112957\ttotal: 911ms\tremaining: 3.39s\n",
      "212:\tlearn: 0.2108003\ttotal: 914ms\tremaining: 3.38s\n",
      "213:\tlearn: 0.2103520\ttotal: 917ms\tremaining: 3.37s\n",
      "214:\tlearn: 0.2098775\ttotal: 919ms\tremaining: 3.35s\n",
      "215:\tlearn: 0.2094551\ttotal: 922ms\tremaining: 3.35s\n",
      "216:\tlearn: 0.2090501\ttotal: 924ms\tremaining: 3.33s\n",
      "217:\tlearn: 0.2086804\ttotal: 927ms\tremaining: 3.33s\n",
      "218:\tlearn: 0.2079718\ttotal: 930ms\tremaining: 3.32s\n",
      "219:\tlearn: 0.2073888\ttotal: 932ms\tremaining: 3.31s\n",
      "220:\tlearn: 0.2070539\ttotal: 935ms\tremaining: 3.29s\n",
      "221:\tlearn: 0.2065748\ttotal: 941ms\tremaining: 3.3s\n",
      "222:\tlearn: 0.2063088\ttotal: 961ms\tremaining: 3.35s\n",
      "223:\tlearn: 0.2059390\ttotal: 963ms\tremaining: 3.34s\n",
      "224:\tlearn: 0.2054415\ttotal: 966ms\tremaining: 3.33s\n",
      "225:\tlearn: 0.2048015\ttotal: 968ms\tremaining: 3.32s\n",
      "226:\tlearn: 0.2044887\ttotal: 971ms\tremaining: 3.31s\n",
      "227:\tlearn: 0.2039870\ttotal: 973ms\tremaining: 3.29s\n",
      "228:\tlearn: 0.2035136\ttotal: 976ms\tremaining: 3.29s\n",
      "229:\tlearn: 0.2030806\ttotal: 978ms\tremaining: 3.27s\n",
      "230:\tlearn: 0.2026231\ttotal: 981ms\tremaining: 3.26s\n",
      "231:\tlearn: 0.2019651\ttotal: 985ms\tremaining: 3.26s\n",
      "232:\tlearn: 0.2012497\ttotal: 989ms\tremaining: 3.25s\n",
      "233:\tlearn: 0.2008973\ttotal: 997ms\tremaining: 3.26s\n",
      "234:\tlearn: 0.2005582\ttotal: 1000ms\tremaining: 3.25s\n",
      "235:\tlearn: 0.1998263\ttotal: 1s\tremaining: 3.25s\n",
      "236:\tlearn: 0.1993993\ttotal: 1s\tremaining: 3.23s\n",
      "237:\tlearn: 0.1989236\ttotal: 1.01s\tremaining: 3.23s\n",
      "238:\tlearn: 0.1985288\ttotal: 1.01s\tremaining: 3.22s\n",
      "239:\tlearn: 0.1980174\ttotal: 1.01s\tremaining: 3.21s\n",
      "240:\tlearn: 0.1973731\ttotal: 1.01s\tremaining: 3.2s\n",
      "241:\tlearn: 0.1969774\ttotal: 1.02s\tremaining: 3.19s\n",
      "242:\tlearn: 0.1966095\ttotal: 1.02s\tremaining: 3.18s\n",
      "243:\tlearn: 0.1960456\ttotal: 1.02s\tremaining: 3.17s\n",
      "244:\tlearn: 0.1958243\ttotal: 1.03s\tremaining: 3.16s\n",
      "245:\tlearn: 0.1949952\ttotal: 1.03s\tremaining: 3.15s\n",
      "246:\tlearn: 0.1942931\ttotal: 1.04s\tremaining: 3.18s\n",
      "247:\tlearn: 0.1937458\ttotal: 1.05s\tremaining: 3.17s\n",
      "248:\tlearn: 0.1933143\ttotal: 1.05s\tremaining: 3.16s\n",
      "249:\tlearn: 0.1930022\ttotal: 1.05s\tremaining: 3.15s\n"
     ]
    },
    {
     "name": "stdout",
     "output_type": "stream",
     "text": [
      "250:\tlearn: 0.1924921\ttotal: 1.05s\tremaining: 3.15s\n",
      "251:\tlearn: 0.1921492\ttotal: 1.06s\tremaining: 3.14s\n",
      "252:\tlearn: 0.1918537\ttotal: 1.06s\tremaining: 3.13s\n",
      "253:\tlearn: 0.1916551\ttotal: 1.06s\tremaining: 3.12s\n"
     ]
    },
    {
     "name": "stdout",
     "output_type": "stream",
     "text": [
      "254:\tlearn: 0.1914959\ttotal: 1.07s\tremaining: 3.11s\n",
      "255:\tlearn: 0.1913115\ttotal: 1.07s\tremaining: 3.12s\n",
      "256:\tlearn: 0.1909020\ttotal: 1.08s\tremaining: 3.11s\n",
      "257:\tlearn: 0.1904118\ttotal: 1.08s\tremaining: 3.1s\n",
      "258:\tlearn: 0.1897152\ttotal: 1.08s\tremaining: 3.09s\n",
      "259:\tlearn: 0.1892531\ttotal: 1.08s\tremaining: 3.09s\n",
      "260:\tlearn: 0.1887220\ttotal: 1.09s\tremaining: 3.08s\n",
      "261:\tlearn: 0.1881599\ttotal: 1.09s\tremaining: 3.07s\n",
      "262:\tlearn: 0.1877612\ttotal: 1.09s\tremaining: 3.06s\n",
      "263:\tlearn: 0.1874296\ttotal: 1.09s\tremaining: 3.05s\n",
      "264:\tlearn: 0.1871585\ttotal: 1.1s\tremaining: 3.04s\n",
      "265:\tlearn: 0.1866385\ttotal: 1.1s\tremaining: 3.04s\n",
      "266:\tlearn: 0.1862062\ttotal: 1.1s\tremaining: 3.03s\n",
      "267:\tlearn: 0.1858874\ttotal: 1.1s\tremaining: 3.02s\n",
      "268:\tlearn: 0.1854860\ttotal: 1.11s\tremaining: 3.01s\n",
      "269:\tlearn: 0.1850644\ttotal: 1.11s\tremaining: 3s\n",
      "270:\tlearn: 0.1847570\ttotal: 1.11s\tremaining: 2.99s\n",
      "271:\tlearn: 0.1844875\ttotal: 1.11s\tremaining: 2.98s\n",
      "272:\tlearn: 0.1841279\ttotal: 1.12s\tremaining: 2.98s\n",
      "273:\tlearn: 0.1833262\ttotal: 1.12s\tremaining: 2.97s\n",
      "274:\tlearn: 0.1828573\ttotal: 1.13s\tremaining: 2.97s\n",
      "275:\tlearn: 0.1824837\ttotal: 1.13s\tremaining: 2.96s\n",
      "276:\tlearn: 0.1822014\ttotal: 1.13s\tremaining: 2.95s\n",
      "277:\tlearn: 0.1817542\ttotal: 1.13s\tremaining: 2.94s\n",
      "278:\tlearn: 0.1813091\ttotal: 1.13s\tremaining: 2.93s\n",
      "279:\tlearn: 0.1805278\ttotal: 1.14s\tremaining: 2.92s\n",
      "280:\tlearn: 0.1801036\ttotal: 1.14s\tremaining: 2.92s\n",
      "281:\tlearn: 0.1799336\ttotal: 1.14s\tremaining: 2.91s\n",
      "282:\tlearn: 0.1793729\ttotal: 1.15s\tremaining: 2.9s\n",
      "283:\tlearn: 0.1787773\ttotal: 1.15s\tremaining: 2.89s\n",
      "284:\tlearn: 0.1784408\ttotal: 1.15s\tremaining: 2.89s\n",
      "285:\tlearn: 0.1780064\ttotal: 1.15s\tremaining: 2.88s\n",
      "286:\tlearn: 0.1775230\ttotal: 1.16s\tremaining: 2.87s\n",
      "287:\tlearn: 0.1770687\ttotal: 1.16s\tremaining: 2.86s\n",
      "288:\tlearn: 0.1768994\ttotal: 1.16s\tremaining: 2.85s\n",
      "289:\tlearn: 0.1764210\ttotal: 1.16s\tremaining: 2.85s\n",
      "290:\tlearn: 0.1758800\ttotal: 1.17s\tremaining: 2.84s\n",
      "291:\tlearn: 0.1754232\ttotal: 1.17s\tremaining: 2.83s\n",
      "292:\tlearn: 0.1749633\ttotal: 1.17s\tremaining: 2.83s\n",
      "293:\tlearn: 0.1747457\ttotal: 1.17s\tremaining: 2.82s\n",
      "294:\tlearn: 0.1740256\ttotal: 1.18s\tremaining: 2.82s\n",
      "295:\tlearn: 0.1736178\ttotal: 1.18s\tremaining: 2.82s\n",
      "296:\tlearn: 0.1733938\ttotal: 1.19s\tremaining: 2.81s\n",
      "297:\tlearn: 0.1729847\ttotal: 1.19s\tremaining: 2.8s\n",
      "298:\tlearn: 0.1725433\ttotal: 1.19s\tremaining: 2.79s\n",
      "299:\tlearn: 0.1721886\ttotal: 1.19s\tremaining: 2.79s\n",
      "300:\tlearn: 0.1716245\ttotal: 1.2s\tremaining: 2.78s\n",
      "301:\tlearn: 0.1710808\ttotal: 1.2s\tremaining: 2.77s\n",
      "302:\tlearn: 0.1707004\ttotal: 1.2s\tremaining: 2.77s\n",
      "303:\tlearn: 0.1701274\ttotal: 1.21s\tremaining: 2.76s\n",
      "304:\tlearn: 0.1698736\ttotal: 1.21s\tremaining: 2.75s\n",
      "305:\tlearn: 0.1692961\ttotal: 1.21s\tremaining: 2.75s\n",
      "306:\tlearn: 0.1689262\ttotal: 1.21s\tremaining: 2.74s\n",
      "307:\tlearn: 0.1687197\ttotal: 1.22s\tremaining: 2.73s\n",
      "308:\tlearn: 0.1683532\ttotal: 1.22s\tremaining: 2.73s\n",
      "309:\tlearn: 0.1681522\ttotal: 1.22s\tremaining: 2.72s\n",
      "310:\tlearn: 0.1675327\ttotal: 1.22s\tremaining: 2.71s\n",
      "311:\tlearn: 0.1672414\ttotal: 1.23s\tremaining: 2.7s\n",
      "312:\tlearn: 0.1666292\ttotal: 1.23s\tremaining: 2.7s\n"
     ]
    },
    {
     "name": "stdout",
     "output_type": "stream",
     "text": [
      "313:\tlearn: 0.1662475\ttotal: 1.23s\tremaining: 2.69s\n",
      "314:\tlearn: 0.1658777\ttotal: 1.24s\tremaining: 2.69s\n",
      "315:\tlearn: 0.1655602\ttotal: 1.24s\tremaining: 2.68s\n",
      "316:\tlearn: 0.1654527\ttotal: 1.24s\tremaining: 2.67s\n"
     ]
    },
    {
     "name": "stdout",
     "output_type": "stream",
     "text": [
      "317:\tlearn: 0.1650438\ttotal: 1.24s\tremaining: 2.66s\n",
      "318:\tlearn: 0.1645169\ttotal: 1.25s\tremaining: 2.66s\n",
      "319:\tlearn: 0.1643970\ttotal: 1.25s\tremaining: 2.65s\n",
      "320:\tlearn: 0.1639113\ttotal: 1.25s\tremaining: 2.65s\n",
      "321:\tlearn: 0.1637897\ttotal: 1.25s\tremaining: 2.64s\n",
      "322:\tlearn: 0.1633758\ttotal: 1.26s\tremaining: 2.63s\n",
      "323:\tlearn: 0.1632758\ttotal: 1.26s\tremaining: 2.63s\n",
      "324:\tlearn: 0.1631652\ttotal: 1.26s\tremaining: 2.62s\n",
      "325:\tlearn: 0.1627531\ttotal: 1.26s\tremaining: 2.61s\n",
      "326:\tlearn: 0.1625728\ttotal: 1.26s\tremaining: 2.6s\n",
      "327:\tlearn: 0.1621389\ttotal: 1.27s\tremaining: 2.6s\n",
      "328:\tlearn: 0.1614826\ttotal: 1.27s\tremaining: 2.59s\n",
      "329:\tlearn: 0.1609033\ttotal: 1.27s\tremaining: 2.58s\n",
      "330:\tlearn: 0.1604518\ttotal: 1.27s\tremaining: 2.58s\n",
      "331:\tlearn: 0.1601079\ttotal: 1.28s\tremaining: 2.57s\n",
      "332:\tlearn: 0.1594931\ttotal: 1.28s\tremaining: 2.56s\n",
      "333:\tlearn: 0.1591172\ttotal: 1.28s\tremaining: 2.56s\n",
      "334:\tlearn: 0.1587587\ttotal: 1.28s\tremaining: 2.55s\n",
      "335:\tlearn: 0.1583597\ttotal: 1.29s\tremaining: 2.54s\n",
      "336:\tlearn: 0.1581013\ttotal: 1.29s\tremaining: 2.54s\n",
      "337:\tlearn: 0.1578094\ttotal: 1.3s\tremaining: 2.54s\n",
      "338:\tlearn: 0.1575383\ttotal: 1.3s\tremaining: 2.53s\n",
      "339:\tlearn: 0.1570062\ttotal: 1.3s\tremaining: 2.53s\n",
      "340:\tlearn: 0.1567779\ttotal: 1.3s\tremaining: 2.52s\n",
      "341:\tlearn: 0.1563990\ttotal: 1.31s\tremaining: 2.51s\n",
      "342:\tlearn: 0.1559559\ttotal: 1.31s\tremaining: 2.51s\n",
      "343:\tlearn: 0.1554726\ttotal: 1.31s\tremaining: 2.5s\n",
      "344:\tlearn: 0.1552852\ttotal: 1.31s\tremaining: 2.49s\n",
      "345:\tlearn: 0.1549723\ttotal: 1.32s\tremaining: 2.49s\n",
      "346:\tlearn: 0.1545763\ttotal: 1.32s\tremaining: 2.48s\n",
      "347:\tlearn: 0.1542910\ttotal: 1.32s\tremaining: 2.47s\n",
      "348:\tlearn: 0.1540644\ttotal: 1.32s\tremaining: 2.47s\n",
      "349:\tlearn: 0.1539068\ttotal: 1.33s\tremaining: 2.46s\n",
      "350:\tlearn: 0.1536111\ttotal: 1.33s\tremaining: 2.46s\n",
      "351:\tlearn: 0.1533950\ttotal: 1.33s\tremaining: 2.45s\n",
      "352:\tlearn: 0.1530170\ttotal: 1.33s\tremaining: 2.44s\n",
      "353:\tlearn: 0.1528605\ttotal: 1.33s\tremaining: 2.44s\n",
      "354:\tlearn: 0.1525768\ttotal: 1.34s\tremaining: 2.43s\n",
      "355:\tlearn: 0.1520659\ttotal: 1.34s\tremaining: 2.43s\n",
      "356:\tlearn: 0.1517271\ttotal: 1.34s\tremaining: 2.42s\n",
      "357:\tlearn: 0.1513475\ttotal: 1.35s\tremaining: 2.41s\n",
      "358:\tlearn: 0.1511063\ttotal: 1.35s\tremaining: 2.41s\n",
      "359:\tlearn: 0.1507695\ttotal: 1.35s\tremaining: 2.4s\n",
      "360:\tlearn: 0.1504691\ttotal: 1.35s\tremaining: 2.4s\n",
      "361:\tlearn: 0.1502707\ttotal: 1.36s\tremaining: 2.39s\n",
      "362:\tlearn: 0.1499907\ttotal: 1.36s\tremaining: 2.39s\n",
      "363:\tlearn: 0.1496814\ttotal: 1.36s\tremaining: 2.38s\n",
      "364:\tlearn: 0.1494122\ttotal: 1.36s\tremaining: 2.38s\n",
      "365:\tlearn: 0.1488415\ttotal: 1.37s\tremaining: 2.37s\n",
      "366:\tlearn: 0.1487485\ttotal: 1.37s\tremaining: 2.36s\n"
     ]
    },
    {
     "name": "stdout",
     "output_type": "stream",
     "text": [
      "367:\tlearn: 0.1484404\ttotal: 1.37s\tremaining: 2.36s\n",
      "368:\tlearn: 0.1480567\ttotal: 1.38s\tremaining: 2.35s\n"
     ]
    },
    {
     "name": "stdout",
     "output_type": "stream",
     "text": [
      "369:\tlearn: 0.1476935\ttotal: 1.38s\tremaining: 2.35s\n",
      "370:\tlearn: 0.1475089\ttotal: 1.38s\tremaining: 2.34s\n",
      "371:\tlearn: 0.1472718\ttotal: 1.39s\tremaining: 2.34s\n",
      "372:\tlearn: 0.1469793\ttotal: 1.39s\tremaining: 2.33s\n",
      "373:\tlearn: 0.1466354\ttotal: 1.39s\tremaining: 2.33s\n",
      "374:\tlearn: 0.1463571\ttotal: 1.39s\tremaining: 2.32s\n",
      "375:\tlearn: 0.1461770\ttotal: 1.4s\tremaining: 2.31s\n",
      "376:\tlearn: 0.1459037\ttotal: 1.4s\tremaining: 2.31s\n",
      "377:\tlearn: 0.1454505\ttotal: 1.4s\tremaining: 2.3s\n",
      "378:\tlearn: 0.1452794\ttotal: 1.4s\tremaining: 2.3s\n",
      "379:\tlearn: 0.1449291\ttotal: 1.41s\tremaining: 2.29s\n",
      "380:\tlearn: 0.1446824\ttotal: 1.41s\tremaining: 2.29s\n",
      "381:\tlearn: 0.1442819\ttotal: 1.41s\tremaining: 2.28s\n",
      "382:\tlearn: 0.1439389\ttotal: 1.41s\tremaining: 2.28s\n",
      "383:\tlearn: 0.1435314\ttotal: 1.42s\tremaining: 2.27s\n",
      "384:\tlearn: 0.1431059\ttotal: 1.42s\tremaining: 2.27s\n",
      "385:\tlearn: 0.1426938\ttotal: 1.42s\tremaining: 2.26s\n",
      "386:\tlearn: 0.1424826\ttotal: 1.42s\tremaining: 2.25s\n",
      "387:\tlearn: 0.1422620\ttotal: 1.43s\tremaining: 2.25s\n",
      "388:\tlearn: 0.1418023\ttotal: 1.43s\tremaining: 2.24s\n",
      "389:\tlearn: 0.1413762\ttotal: 1.43s\tremaining: 2.24s\n",
      "390:\tlearn: 0.1410111\ttotal: 1.43s\tremaining: 2.23s\n",
      "391:\tlearn: 0.1408874\ttotal: 1.44s\tremaining: 2.23s\n",
      "392:\tlearn: 0.1407420\ttotal: 1.44s\tremaining: 2.22s\n",
      "393:\tlearn: 0.1402985\ttotal: 1.44s\tremaining: 2.22s\n",
      "394:\tlearn: 0.1401013\ttotal: 1.45s\tremaining: 2.21s\n",
      "395:\tlearn: 0.1397049\ttotal: 1.45s\tremaining: 2.21s\n",
      "396:\tlearn: 0.1394857\ttotal: 1.45s\tremaining: 2.2s\n",
      "397:\tlearn: 0.1393292\ttotal: 1.45s\tremaining: 2.2s\n",
      "398:\tlearn: 0.1392195\ttotal: 1.46s\tremaining: 2.19s\n",
      "399:\tlearn: 0.1390431\ttotal: 1.46s\tremaining: 2.19s\n",
      "400:\tlearn: 0.1387153\ttotal: 1.46s\tremaining: 2.18s\n",
      "401:\tlearn: 0.1383557\ttotal: 1.46s\tremaining: 2.18s\n",
      "402:\tlearn: 0.1380899\ttotal: 1.47s\tremaining: 2.17s\n",
      "403:\tlearn: 0.1379229\ttotal: 1.48s\tremaining: 2.19s\n",
      "404:\tlearn: 0.1376967\ttotal: 1.5s\tremaining: 2.2s\n",
      "405:\tlearn: 0.1374080\ttotal: 1.5s\tremaining: 2.2s\n",
      "406:\tlearn: 0.1371126\ttotal: 1.51s\tremaining: 2.19s\n",
      "407:\tlearn: 0.1368290\ttotal: 1.51s\tremaining: 2.19s\n",
      "408:\tlearn: 0.1364843\ttotal: 1.51s\tremaining: 2.19s\n",
      "409:\tlearn: 0.1361341\ttotal: 1.51s\tremaining: 2.18s\n",
      "410:\tlearn: 0.1359814\ttotal: 1.52s\tremaining: 2.17s\n",
      "411:\tlearn: 0.1356798\ttotal: 1.52s\tremaining: 2.17s\n",
      "412:\tlearn: 0.1355450\ttotal: 1.52s\tremaining: 2.16s\n",
      "413:\tlearn: 0.1351690\ttotal: 1.52s\tremaining: 2.16s\n",
      "414:\tlearn: 0.1347917\ttotal: 1.53s\tremaining: 2.15s\n",
      "415:\tlearn: 0.1344413\ttotal: 1.53s\tremaining: 2.15s\n",
      "416:\tlearn: 0.1341570\ttotal: 1.53s\tremaining: 2.14s\n",
      "417:\tlearn: 0.1337776\ttotal: 1.53s\tremaining: 2.14s\n",
      "418:\tlearn: 0.1334911\ttotal: 1.54s\tremaining: 2.13s\n",
      "419:\tlearn: 0.1332626\ttotal: 1.54s\tremaining: 2.13s\n",
      "420:\tlearn: 0.1329206\ttotal: 1.54s\tremaining: 2.12s\n"
     ]
    },
    {
     "name": "stdout",
     "output_type": "stream",
     "text": [
      "421:\tlearn: 0.1328590\ttotal: 1.55s\tremaining: 2.12s\n",
      "422:\tlearn: 0.1326401\ttotal: 1.55s\tremaining: 2.11s\n",
      "423:\tlearn: 0.1322694\ttotal: 1.55s\tremaining: 2.11s\n",
      "424:\tlearn: 0.1319555\ttotal: 1.55s\tremaining: 2.1s\n"
     ]
    },
    {
     "name": "stdout",
     "output_type": "stream",
     "text": [
      "425:\tlearn: 0.1316590\ttotal: 1.56s\tremaining: 2.1s\n",
      "426:\tlearn: 0.1312372\ttotal: 1.56s\tremaining: 2.1s\n",
      "427:\tlearn: 0.1311046\ttotal: 1.56s\tremaining: 2.09s\n",
      "428:\tlearn: 0.1307259\ttotal: 1.57s\tremaining: 2.09s\n",
      "429:\tlearn: 0.1303552\ttotal: 1.57s\tremaining: 2.08s\n",
      "430:\tlearn: 0.1301713\ttotal: 1.57s\tremaining: 2.08s\n",
      "431:\tlearn: 0.1299406\ttotal: 1.58s\tremaining: 2.07s\n",
      "432:\tlearn: 0.1296469\ttotal: 1.58s\tremaining: 2.07s\n",
      "433:\tlearn: 0.1294032\ttotal: 1.59s\tremaining: 2.07s\n",
      "434:\tlearn: 0.1293398\ttotal: 1.6s\tremaining: 2.07s\n",
      "435:\tlearn: 0.1287804\ttotal: 1.6s\tremaining: 2.08s\n",
      "436:\tlearn: 0.1285664\ttotal: 1.61s\tremaining: 2.07s\n",
      "437:\tlearn: 0.1283668\ttotal: 1.61s\tremaining: 2.07s\n",
      "438:\tlearn: 0.1280643\ttotal: 1.61s\tremaining: 2.06s\n",
      "439:\tlearn: 0.1277685\ttotal: 1.61s\tremaining: 2.06s\n",
      "440:\tlearn: 0.1275978\ttotal: 1.62s\tremaining: 2.05s\n",
      "441:\tlearn: 0.1272744\ttotal: 1.62s\tremaining: 2.05s\n",
      "442:\tlearn: 0.1270167\ttotal: 1.62s\tremaining: 2.04s\n",
      "443:\tlearn: 0.1269112\ttotal: 1.63s\tremaining: 2.04s\n",
      "444:\tlearn: 0.1265723\ttotal: 1.63s\tremaining: 2.03s\n",
      "445:\tlearn: 0.1261698\ttotal: 1.64s\tremaining: 2.04s\n",
      "446:\tlearn: 0.1258018\ttotal: 1.64s\tremaining: 2.03s\n",
      "447:\tlearn: 0.1255696\ttotal: 1.65s\tremaining: 2.03s\n",
      "448:\tlearn: 0.1252236\ttotal: 1.65s\tremaining: 2.02s\n",
      "449:\tlearn: 0.1250240\ttotal: 1.65s\tremaining: 2.02s\n",
      "450:\tlearn: 0.1248198\ttotal: 1.66s\tremaining: 2.02s\n",
      "451:\tlearn: 0.1245174\ttotal: 1.66s\tremaining: 2.01s\n",
      "452:\tlearn: 0.1243074\ttotal: 1.66s\tremaining: 2.01s\n"
     ]
    },
    {
     "name": "stdout",
     "output_type": "stream",
     "text": [
      "453:\tlearn: 0.1240425\ttotal: 1.69s\tremaining: 2.03s\n",
      "454:\tlearn: 0.1238613\ttotal: 1.69s\tremaining: 2.02s\n",
      "455:\tlearn: 0.1235658\ttotal: 1.69s\tremaining: 2.02s\n",
      "456:\tlearn: 0.1233701\ttotal: 1.69s\tremaining: 2.01s\n",
      "457:\tlearn: 0.1230610\ttotal: 1.69s\tremaining: 2s\n",
      "458:\tlearn: 0.1228022\ttotal: 1.7s\tremaining: 2s\n",
      "459:\tlearn: 0.1226416\ttotal: 1.7s\tremaining: 2s\n",
      "460:\tlearn: 0.1222672\ttotal: 1.7s\tremaining: 1.99s\n",
      "461:\tlearn: 0.1221631\ttotal: 1.71s\tremaining: 2s\n",
      "462:\tlearn: 0.1219715\ttotal: 1.72s\tremaining: 1.99s\n",
      "463:\tlearn: 0.1217552\ttotal: 1.72s\tremaining: 1.99s\n",
      "464:\tlearn: 0.1214923\ttotal: 1.72s\tremaining: 1.98s\n",
      "465:\tlearn: 0.1211721\ttotal: 1.73s\tremaining: 1.98s\n",
      "466:\tlearn: 0.1208011\ttotal: 1.73s\tremaining: 1.97s\n",
      "467:\tlearn: 0.1204942\ttotal: 1.73s\tremaining: 1.97s\n",
      "468:\tlearn: 0.1203204\ttotal: 1.73s\tremaining: 1.96s\n",
      "469:\tlearn: 0.1200806\ttotal: 1.74s\tremaining: 1.96s\n",
      "470:\tlearn: 0.1198493\ttotal: 1.74s\tremaining: 1.96s\n",
      "471:\tlearn: 0.1195806\ttotal: 1.76s\tremaining: 1.97s\n",
      "472:\tlearn: 0.1193289\ttotal: 1.76s\tremaining: 1.97s\n",
      "473:\tlearn: 0.1192467\ttotal: 1.77s\tremaining: 1.96s\n",
      "474:\tlearn: 0.1191014\ttotal: 1.77s\tremaining: 1.96s\n",
      "475:\tlearn: 0.1188698\ttotal: 1.77s\tremaining: 1.95s\n",
      "476:\tlearn: 0.1186460\ttotal: 1.77s\tremaining: 1.95s\n",
      "477:\tlearn: 0.1183695\ttotal: 1.78s\tremaining: 1.94s\n",
      "478:\tlearn: 0.1181447\ttotal: 1.78s\tremaining: 1.94s\n",
      "479:\tlearn: 0.1178230\ttotal: 1.79s\tremaining: 1.93s\n",
      "480:\tlearn: 0.1175308\ttotal: 1.79s\tremaining: 1.93s\n",
      "481:\tlearn: 0.1174173\ttotal: 1.79s\tremaining: 1.93s\n",
      "482:\tlearn: 0.1171637\ttotal: 1.8s\tremaining: 1.92s\n",
      "483:\tlearn: 0.1169055\ttotal: 1.8s\tremaining: 1.92s\n",
      "484:\tlearn: 0.1166305\ttotal: 1.8s\tremaining: 1.91s\n",
      "485:\tlearn: 0.1165219\ttotal: 1.8s\tremaining: 1.91s\n",
      "486:\tlearn: 0.1163447\ttotal: 1.81s\tremaining: 1.9s\n",
      "487:\tlearn: 0.1160742\ttotal: 1.81s\tremaining: 1.9s\n",
      "488:\tlearn: 0.1158142\ttotal: 1.81s\tremaining: 1.89s\n",
      "489:\tlearn: 0.1156330\ttotal: 1.81s\tremaining: 1.89s\n",
      "490:\tlearn: 0.1153877\ttotal: 1.82s\tremaining: 1.88s\n",
      "491:\tlearn: 0.1151891\ttotal: 1.82s\tremaining: 1.88s\n",
      "492:\tlearn: 0.1148728\ttotal: 1.82s\tremaining: 1.87s\n",
      "493:\tlearn: 0.1146170\ttotal: 1.83s\tremaining: 1.87s\n",
      "494:\tlearn: 0.1145289\ttotal: 1.84s\tremaining: 1.88s\n",
      "495:\tlearn: 0.1142637\ttotal: 1.85s\tremaining: 1.88s\n",
      "496:\tlearn: 0.1140615\ttotal: 1.85s\tremaining: 1.87s\n"
     ]
    },
    {
     "name": "stdout",
     "output_type": "stream",
     "text": [
      "497:\tlearn: 0.1137299\ttotal: 1.85s\tremaining: 1.87s\n",
      "498:\tlearn: 0.1134645\ttotal: 1.85s\tremaining: 1.86s\n",
      "499:\tlearn: 0.1131907\ttotal: 1.86s\tremaining: 1.86s\n",
      "500:\tlearn: 0.1129929\ttotal: 1.86s\tremaining: 1.85s\n",
      "501:\tlearn: 0.1128193\ttotal: 1.86s\tremaining: 1.85s\n",
      "502:\tlearn: 0.1127092\ttotal: 1.87s\tremaining: 1.84s\n",
      "503:\tlearn: 0.1123930\ttotal: 1.87s\tremaining: 1.84s\n",
      "504:\tlearn: 0.1121019\ttotal: 1.87s\tremaining: 1.84s\n",
      "505:\tlearn: 0.1120571\ttotal: 1.88s\tremaining: 1.83s\n",
      "506:\tlearn: 0.1118277\ttotal: 1.88s\tremaining: 1.83s\n",
      "507:\tlearn: 0.1115318\ttotal: 1.88s\tremaining: 1.82s\n",
      "508:\tlearn: 0.1113808\ttotal: 1.89s\tremaining: 1.82s\n",
      "509:\tlearn: 0.1111216\ttotal: 1.89s\tremaining: 1.81s\n",
      "510:\tlearn: 0.1109929\ttotal: 1.89s\tremaining: 1.81s\n",
      "511:\tlearn: 0.1108220\ttotal: 1.89s\tremaining: 1.8s\n",
      "512:\tlearn: 0.1106180\ttotal: 1.9s\tremaining: 1.8s\n",
      "513:\tlearn: 0.1104193\ttotal: 1.9s\tremaining: 1.79s\n",
      "514:\tlearn: 0.1101901\ttotal: 1.9s\tremaining: 1.79s\n",
      "515:\tlearn: 0.1100202\ttotal: 1.91s\tremaining: 1.79s\n",
      "516:\tlearn: 0.1098854\ttotal: 1.91s\tremaining: 1.78s\n",
      "517:\tlearn: 0.1096695\ttotal: 1.91s\tremaining: 1.78s\n",
      "518:\tlearn: 0.1094677\ttotal: 1.92s\tremaining: 1.77s\n",
      "519:\tlearn: 0.1093787\ttotal: 1.92s\tremaining: 1.77s\n",
      "520:\tlearn: 0.1092261\ttotal: 1.92s\tremaining: 1.77s\n",
      "521:\tlearn: 0.1089545\ttotal: 1.93s\tremaining: 1.76s\n",
      "522:\tlearn: 0.1087741\ttotal: 1.93s\tremaining: 1.76s\n",
      "523:\tlearn: 0.1084742\ttotal: 1.93s\tremaining: 1.75s\n",
      "524:\tlearn: 0.1082891\ttotal: 1.93s\tremaining: 1.75s\n",
      "525:\tlearn: 0.1080568\ttotal: 1.94s\tremaining: 1.74s\n",
      "526:\tlearn: 0.1079123\ttotal: 1.94s\tremaining: 1.74s\n",
      "527:\tlearn: 0.1077882\ttotal: 1.94s\tremaining: 1.73s\n",
      "528:\tlearn: 0.1076669\ttotal: 1.94s\tremaining: 1.73s\n",
      "529:\tlearn: 0.1073762\ttotal: 1.94s\tremaining: 1.72s\n",
      "530:\tlearn: 0.1071296\ttotal: 1.95s\tremaining: 1.72s\n",
      "531:\tlearn: 0.1068796\ttotal: 1.95s\tremaining: 1.72s\n",
      "532:\tlearn: 0.1067340\ttotal: 1.95s\tremaining: 1.71s\n",
      "533:\tlearn: 0.1065671\ttotal: 1.95s\tremaining: 1.71s\n",
      "534:\tlearn: 0.1062720\ttotal: 1.96s\tremaining: 1.7s\n",
      "535:\tlearn: 0.1060870\ttotal: 1.96s\tremaining: 1.7s\n",
      "536:\tlearn: 0.1059623\ttotal: 1.96s\tremaining: 1.69s\n",
      "537:\tlearn: 0.1059286\ttotal: 1.97s\tremaining: 1.69s\n",
      "538:\tlearn: 0.1057366\ttotal: 1.97s\tremaining: 1.68s\n",
      "539:\tlearn: 0.1055451\ttotal: 1.97s\tremaining: 1.68s\n",
      "540:\tlearn: 0.1053951\ttotal: 1.97s\tremaining: 1.67s\n",
      "541:\tlearn: 0.1052634\ttotal: 1.98s\tremaining: 1.67s\n",
      "542:\tlearn: 0.1051168\ttotal: 1.98s\tremaining: 1.67s\n"
     ]
    },
    {
     "name": "stdout",
     "output_type": "stream",
     "text": [
      "543:\tlearn: 0.1050683\ttotal: 1.98s\tremaining: 1.66s\n",
      "544:\tlearn: 0.1049559\ttotal: 1.99s\tremaining: 1.66s\n",
      "545:\tlearn: 0.1047372\ttotal: 1.99s\tremaining: 1.65s\n",
      "546:\tlearn: 0.1045133\ttotal: 1.99s\tremaining: 1.65s\n",
      "547:\tlearn: 0.1042305\ttotal: 1.99s\tremaining: 1.64s\n",
      "548:\tlearn: 0.1040701\ttotal: 2s\tremaining: 1.64s\n",
      "549:\tlearn: 0.1038484\ttotal: 2s\tremaining: 1.64s\n",
      "550:\tlearn: 0.1037042\ttotal: 2s\tremaining: 1.63s\n",
      "551:\tlearn: 0.1035307\ttotal: 2s\tremaining: 1.63s\n",
      "552:\tlearn: 0.1033886\ttotal: 2.01s\tremaining: 1.62s\n",
      "553:\tlearn: 0.1030896\ttotal: 2.01s\tremaining: 1.62s\n",
      "554:\tlearn: 0.1029228\ttotal: 2.01s\tremaining: 1.61s\n",
      "555:\tlearn: 0.1027093\ttotal: 2.02s\tremaining: 1.61s\n",
      "556:\tlearn: 0.1025374\ttotal: 2.02s\tremaining: 1.6s\n",
      "557:\tlearn: 0.1023300\ttotal: 2.02s\tremaining: 1.6s\n",
      "558:\tlearn: 0.1021625\ttotal: 2.02s\tremaining: 1.59s\n",
      "559:\tlearn: 0.1019529\ttotal: 2.02s\tremaining: 1.59s\n",
      "560:\tlearn: 0.1018448\ttotal: 2.03s\tremaining: 1.59s\n",
      "561:\tlearn: 0.1017313\ttotal: 2.03s\tremaining: 1.58s\n",
      "562:\tlearn: 0.1014409\ttotal: 2.03s\tremaining: 1.58s\n",
      "563:\tlearn: 0.1012952\ttotal: 2.04s\tremaining: 1.57s\n",
      "564:\tlearn: 0.1011440\ttotal: 2.04s\tremaining: 1.57s\n",
      "565:\tlearn: 0.1009767\ttotal: 2.04s\tremaining: 1.56s\n",
      "566:\tlearn: 0.1007719\ttotal: 2.04s\tremaining: 1.56s\n",
      "567:\tlearn: 0.1005797\ttotal: 2.05s\tremaining: 1.56s\n",
      "568:\tlearn: 0.1003410\ttotal: 2.05s\tremaining: 1.55s\n",
      "569:\tlearn: 0.1001366\ttotal: 2.05s\tremaining: 1.55s\n",
      "570:\tlearn: 0.0999466\ttotal: 2.05s\tremaining: 1.54s\n",
      "571:\tlearn: 0.0997558\ttotal: 2.06s\tremaining: 1.54s\n",
      "572:\tlearn: 0.0995401\ttotal: 2.06s\tremaining: 1.53s\n",
      "573:\tlearn: 0.0993485\ttotal: 2.06s\tremaining: 1.53s\n",
      "574:\tlearn: 0.0992203\ttotal: 2.06s\tremaining: 1.53s\n",
      "575:\tlearn: 0.0990512\ttotal: 2.07s\tremaining: 1.52s\n",
      "576:\tlearn: 0.0989403\ttotal: 2.07s\tremaining: 1.52s\n",
      "577:\tlearn: 0.0988626\ttotal: 2.09s\tremaining: 1.52s\n",
      "578:\tlearn: 0.0987285\ttotal: 2.09s\tremaining: 1.52s\n",
      "579:\tlearn: 0.0984996\ttotal: 2.09s\tremaining: 1.52s\n",
      "580:\tlearn: 0.0983828\ttotal: 2.1s\tremaining: 1.51s\n",
      "581:\tlearn: 0.0981217\ttotal: 2.1s\tremaining: 1.51s\n",
      "582:\tlearn: 0.0978736\ttotal: 2.1s\tremaining: 1.5s\n",
      "583:\tlearn: 0.0977732\ttotal: 2.1s\tremaining: 1.5s\n",
      "584:\tlearn: 0.0976210\ttotal: 2.11s\tremaining: 1.49s\n",
      "585:\tlearn: 0.0975153\ttotal: 2.11s\tremaining: 1.49s\n",
      "586:\tlearn: 0.0972890\ttotal: 2.11s\tremaining: 1.49s\n",
      "587:\tlearn: 0.0971913\ttotal: 2.11s\tremaining: 1.48s\n",
      "588:\tlearn: 0.0971652\ttotal: 2.12s\tremaining: 1.48s\n",
      "589:\tlearn: 0.0969130\ttotal: 2.12s\tremaining: 1.47s\n",
      "590:\tlearn: 0.0967560\ttotal: 2.12s\tremaining: 1.47s\n",
      "591:\tlearn: 0.0965534\ttotal: 2.13s\tremaining: 1.46s\n",
      "592:\tlearn: 0.0963639\ttotal: 2.13s\tremaining: 1.46s\n",
      "593:\tlearn: 0.0962401\ttotal: 2.13s\tremaining: 1.46s\n",
      "594:\tlearn: 0.0961579\ttotal: 2.13s\tremaining: 1.45s\n",
      "595:\tlearn: 0.0960626\ttotal: 2.14s\tremaining: 1.45s\n"
     ]
    },
    {
     "name": "stdout",
     "output_type": "stream",
     "text": [
      "596:\tlearn: 0.0959590\ttotal: 2.14s\tremaining: 1.44s\n",
      "597:\tlearn: 0.0959041\ttotal: 2.14s\tremaining: 1.44s\n",
      "598:\tlearn: 0.0957814\ttotal: 2.15s\tremaining: 1.44s\n",
      "599:\tlearn: 0.0957345\ttotal: 2.15s\tremaining: 1.43s\n",
      "600:\tlearn: 0.0955826\ttotal: 2.17s\tremaining: 1.44s\n",
      "601:\tlearn: 0.0952018\ttotal: 2.17s\tremaining: 1.44s\n",
      "602:\tlearn: 0.0950916\ttotal: 2.17s\tremaining: 1.43s\n",
      "603:\tlearn: 0.0949439\ttotal: 2.17s\tremaining: 1.43s\n",
      "604:\tlearn: 0.0948237\ttotal: 2.18s\tremaining: 1.42s\n",
      "605:\tlearn: 0.0946258\ttotal: 2.18s\tremaining: 1.42s\n",
      "606:\tlearn: 0.0944593\ttotal: 2.18s\tremaining: 1.41s\n",
      "607:\tlearn: 0.0944243\ttotal: 2.19s\tremaining: 1.41s\n",
      "608:\tlearn: 0.0942138\ttotal: 2.19s\tremaining: 1.4s\n",
      "609:\tlearn: 0.0939583\ttotal: 2.19s\tremaining: 1.4s\n",
      "610:\tlearn: 0.0938355\ttotal: 2.19s\tremaining: 1.4s\n",
      "611:\tlearn: 0.0937626\ttotal: 2.19s\tremaining: 1.39s\n",
      "612:\tlearn: 0.0936060\ttotal: 2.2s\tremaining: 1.39s\n",
      "613:\tlearn: 0.0934815\ttotal: 2.2s\tremaining: 1.38s\n",
      "614:\tlearn: 0.0933954\ttotal: 2.2s\tremaining: 1.38s\n",
      "615:\tlearn: 0.0931130\ttotal: 2.21s\tremaining: 1.38s\n",
      "616:\tlearn: 0.0929433\ttotal: 2.21s\tremaining: 1.37s\n",
      "617:\tlearn: 0.0927240\ttotal: 2.21s\tremaining: 1.37s\n",
      "618:\tlearn: 0.0926408\ttotal: 2.21s\tremaining: 1.36s\n",
      "619:\tlearn: 0.0925155\ttotal: 2.22s\tremaining: 1.36s\n",
      "620:\tlearn: 0.0923996\ttotal: 2.22s\tremaining: 1.35s\n",
      "621:\tlearn: 0.0922133\ttotal: 2.22s\tremaining: 1.35s\n",
      "622:\tlearn: 0.0920312\ttotal: 2.23s\tremaining: 1.35s\n",
      "623:\tlearn: 0.0918266\ttotal: 2.23s\tremaining: 1.34s\n",
      "624:\tlearn: 0.0916254\ttotal: 2.23s\tremaining: 1.34s\n",
      "625:\tlearn: 0.0915366\ttotal: 2.23s\tremaining: 1.33s\n",
      "626:\tlearn: 0.0912746\ttotal: 2.24s\tremaining: 1.33s\n",
      "627:\tlearn: 0.0911163\ttotal: 2.24s\tremaining: 1.33s\n",
      "628:\tlearn: 0.0910669\ttotal: 2.25s\tremaining: 1.33s\n",
      "629:\tlearn: 0.0909021\ttotal: 2.25s\tremaining: 1.32s\n",
      "630:\tlearn: 0.0908693\ttotal: 2.26s\tremaining: 1.32s\n",
      "631:\tlearn: 0.0907407\ttotal: 2.26s\tremaining: 1.31s\n",
      "632:\tlearn: 0.0905274\ttotal: 2.26s\tremaining: 1.31s\n",
      "633:\tlearn: 0.0903093\ttotal: 2.27s\tremaining: 1.31s\n",
      "634:\tlearn: 0.0902709\ttotal: 2.27s\tremaining: 1.3s\n",
      "635:\tlearn: 0.0900847\ttotal: 2.27s\tremaining: 1.3s\n",
      "636:\tlearn: 0.0898848\ttotal: 2.27s\tremaining: 1.29s\n",
      "637:\tlearn: 0.0897209\ttotal: 2.27s\tremaining: 1.29s\n",
      "638:\tlearn: 0.0894771\ttotal: 2.28s\tremaining: 1.29s\n",
      "639:\tlearn: 0.0893300\ttotal: 2.28s\tremaining: 1.28s\n",
      "640:\tlearn: 0.0891804\ttotal: 2.28s\tremaining: 1.28s\n",
      "641:\tlearn: 0.0890634\ttotal: 2.29s\tremaining: 1.27s\n",
      "642:\tlearn: 0.0888017\ttotal: 2.29s\tremaining: 1.27s\n",
      "643:\tlearn: 0.0885767\ttotal: 2.29s\tremaining: 1.27s\n",
      "644:\tlearn: 0.0884960\ttotal: 2.29s\tremaining: 1.26s\n",
      "645:\tlearn: 0.0883069\ttotal: 2.3s\tremaining: 1.26s\n",
      "646:\tlearn: 0.0881070\ttotal: 2.3s\tremaining: 1.25s\n",
      "647:\tlearn: 0.0879725\ttotal: 2.3s\tremaining: 1.25s\n"
     ]
    },
    {
     "name": "stdout",
     "output_type": "stream",
     "text": [
      "648:\tlearn: 0.0877487\ttotal: 2.31s\tremaining: 1.25s\n",
      "649:\tlearn: 0.0877198\ttotal: 2.31s\tremaining: 1.24s\n",
      "650:\tlearn: 0.0875615\ttotal: 2.31s\tremaining: 1.24s\n",
      "651:\tlearn: 0.0873146\ttotal: 2.31s\tremaining: 1.24s\n",
      "652:\tlearn: 0.0872866\ttotal: 2.32s\tremaining: 1.23s\n",
      "653:\tlearn: 0.0871213\ttotal: 2.32s\tremaining: 1.23s\n",
      "654:\tlearn: 0.0870773\ttotal: 2.32s\tremaining: 1.22s\n",
      "655:\tlearn: 0.0870045\ttotal: 2.33s\tremaining: 1.22s\n",
      "656:\tlearn: 0.0869126\ttotal: 2.33s\tremaining: 1.22s\n",
      "657:\tlearn: 0.0868545\ttotal: 2.33s\tremaining: 1.21s\n",
      "658:\tlearn: 0.0867226\ttotal: 2.33s\tremaining: 1.21s\n",
      "659:\tlearn: 0.0865779\ttotal: 2.34s\tremaining: 1.2s\n",
      "660:\tlearn: 0.0864328\ttotal: 2.34s\tremaining: 1.2s\n",
      "661:\tlearn: 0.0862724\ttotal: 2.34s\tremaining: 1.2s\n",
      "662:\tlearn: 0.0859872\ttotal: 2.34s\tremaining: 1.19s\n",
      "663:\tlearn: 0.0859385\ttotal: 2.35s\tremaining: 1.19s\n",
      "664:\tlearn: 0.0858165\ttotal: 2.35s\tremaining: 1.18s\n",
      "665:\tlearn: 0.0856336\ttotal: 2.35s\tremaining: 1.18s\n",
      "666:\tlearn: 0.0853237\ttotal: 2.35s\tremaining: 1.18s\n",
      "667:\tlearn: 0.0851101\ttotal: 2.36s\tremaining: 1.17s\n",
      "668:\tlearn: 0.0849271\ttotal: 2.36s\tremaining: 1.17s\n",
      "669:\tlearn: 0.0847031\ttotal: 2.36s\tremaining: 1.16s\n",
      "670:\tlearn: 0.0846740\ttotal: 2.36s\tremaining: 1.16s\n",
      "671:\tlearn: 0.0845505\ttotal: 2.37s\tremaining: 1.15s\n",
      "672:\tlearn: 0.0843775\ttotal: 2.37s\tremaining: 1.15s\n",
      "673:\tlearn: 0.0842984\ttotal: 2.37s\tremaining: 1.15s\n",
      "674:\tlearn: 0.0841601\ttotal: 2.37s\tremaining: 1.14s\n",
      "675:\tlearn: 0.0838763\ttotal: 2.38s\tremaining: 1.14s\n",
      "676:\tlearn: 0.0837278\ttotal: 2.38s\tremaining: 1.14s\n",
      "677:\tlearn: 0.0835473\ttotal: 2.38s\tremaining: 1.13s\n",
      "678:\tlearn: 0.0834009\ttotal: 2.38s\tremaining: 1.13s\n",
      "679:\tlearn: 0.0833481\ttotal: 2.39s\tremaining: 1.12s\n",
      "680:\tlearn: 0.0832711\ttotal: 2.39s\tremaining: 1.12s\n",
      "681:\tlearn: 0.0830913\ttotal: 2.41s\tremaining: 1.12s\n",
      "682:\tlearn: 0.0829405\ttotal: 2.41s\tremaining: 1.12s\n",
      "683:\tlearn: 0.0827955\ttotal: 2.41s\tremaining: 1.11s\n",
      "684:\tlearn: 0.0825877\ttotal: 2.42s\tremaining: 1.11s\n",
      "685:\tlearn: 0.0824803\ttotal: 2.42s\tremaining: 1.11s\n",
      "686:\tlearn: 0.0823780\ttotal: 2.42s\tremaining: 1.1s\n",
      "687:\tlearn: 0.0822293\ttotal: 2.43s\tremaining: 1.1s\n",
      "688:\tlearn: 0.0820567\ttotal: 2.43s\tremaining: 1.1s\n",
      "689:\tlearn: 0.0819035\ttotal: 2.44s\tremaining: 1.09s\n",
      "690:\tlearn: 0.0817424\ttotal: 2.44s\tremaining: 1.09s\n",
      "691:\tlearn: 0.0816217\ttotal: 2.45s\tremaining: 1.09s\n",
      "692:\tlearn: 0.0813361\ttotal: 2.45s\tremaining: 1.09s\n",
      "693:\tlearn: 0.0812513\ttotal: 2.45s\tremaining: 1.08s\n",
      "694:\tlearn: 0.0811277\ttotal: 2.46s\tremaining: 1.08s\n",
      "695:\tlearn: 0.0810173\ttotal: 2.46s\tremaining: 1.07s\n",
      "696:\tlearn: 0.0808445\ttotal: 2.46s\tremaining: 1.07s\n",
      "697:\tlearn: 0.0808208\ttotal: 2.46s\tremaining: 1.06s\n"
     ]
    },
    {
     "name": "stdout",
     "output_type": "stream",
     "text": [
      "698:\tlearn: 0.0805352\ttotal: 2.47s\tremaining: 1.06s\n",
      "699:\tlearn: 0.0804800\ttotal: 2.47s\tremaining: 1.06s\n",
      "700:\tlearn: 0.0802817\ttotal: 2.48s\tremaining: 1.05s\n",
      "701:\tlearn: 0.0801707\ttotal: 2.48s\tremaining: 1.05s\n",
      "702:\tlearn: 0.0800231\ttotal: 2.48s\tremaining: 1.05s\n",
      "703:\tlearn: 0.0800018\ttotal: 2.49s\tremaining: 1.04s\n",
      "704:\tlearn: 0.0799381\ttotal: 2.49s\tremaining: 1.04s\n",
      "705:\tlearn: 0.0798109\ttotal: 2.49s\tremaining: 1.04s\n",
      "706:\tlearn: 0.0797672\ttotal: 2.5s\tremaining: 1.03s\n",
      "707:\tlearn: 0.0796670\ttotal: 2.52s\tremaining: 1.04s\n",
      "708:\tlearn: 0.0795520\ttotal: 2.52s\tremaining: 1.03s\n",
      "709:\tlearn: 0.0794577\ttotal: 2.52s\tremaining: 1.03s\n",
      "710:\tlearn: 0.0794323\ttotal: 2.53s\tremaining: 1.03s\n",
      "711:\tlearn: 0.0792505\ttotal: 2.53s\tremaining: 1.02s\n",
      "712:\tlearn: 0.0790876\ttotal: 2.53s\tremaining: 1.02s\n",
      "713:\tlearn: 0.0788939\ttotal: 2.54s\tremaining: 1.01s\n",
      "714:\tlearn: 0.0786990\ttotal: 2.54s\tremaining: 1.01s\n",
      "715:\tlearn: 0.0786322\ttotal: 2.54s\tremaining: 1.01s\n",
      "716:\tlearn: 0.0785059\ttotal: 2.54s\tremaining: 1s\n",
      "717:\tlearn: 0.0784449\ttotal: 2.55s\tremaining: 1s\n",
      "718:\tlearn: 0.0782955\ttotal: 2.56s\tremaining: 999ms\n",
      "719:\tlearn: 0.0782750\ttotal: 2.56s\tremaining: 995ms\n",
      "720:\tlearn: 0.0781030\ttotal: 2.56s\tremaining: 991ms\n",
      "721:\tlearn: 0.0780125\ttotal: 2.56s\tremaining: 987ms\n",
      "722:\tlearn: 0.0777800\ttotal: 2.56s\tremaining: 983ms\n",
      "723:\tlearn: 0.0776568\ttotal: 2.57s\tremaining: 979ms\n",
      "724:\tlearn: 0.0774631\ttotal: 2.57s\tremaining: 975ms\n",
      "725:\tlearn: 0.0773868\ttotal: 2.57s\tremaining: 972ms\n",
      "726:\tlearn: 0.0772779\ttotal: 2.58s\tremaining: 967ms\n",
      "727:\tlearn: 0.0771974\ttotal: 2.58s\tremaining: 963ms\n",
      "728:\tlearn: 0.0770021\ttotal: 2.58s\tremaining: 960ms\n",
      "729:\tlearn: 0.0768709\ttotal: 2.58s\tremaining: 956ms\n",
      "730:\tlearn: 0.0767349\ttotal: 2.59s\tremaining: 952ms\n",
      "731:\tlearn: 0.0766024\ttotal: 2.59s\tremaining: 948ms\n",
      "732:\tlearn: 0.0765606\ttotal: 2.61s\tremaining: 949ms\n",
      "733:\tlearn: 0.0764579\ttotal: 2.61s\tremaining: 946ms\n",
      "734:\tlearn: 0.0763879\ttotal: 2.61s\tremaining: 942ms\n",
      "735:\tlearn: 0.0763133\ttotal: 2.61s\tremaining: 938ms\n",
      "736:\tlearn: 0.0761289\ttotal: 2.62s\tremaining: 934ms\n",
      "737:\tlearn: 0.0760127\ttotal: 2.62s\tremaining: 930ms\n",
      "738:\tlearn: 0.0758868\ttotal: 2.62s\tremaining: 926ms\n"
     ]
    },
    {
     "name": "stdout",
     "output_type": "stream",
     "text": [
      "739:\tlearn: 0.0757785\ttotal: 2.62s\tremaining: 922ms\n",
      "740:\tlearn: 0.0756375\ttotal: 2.63s\tremaining: 918ms\n",
      "741:\tlearn: 0.0755111\ttotal: 2.63s\tremaining: 914ms\n",
      "742:\tlearn: 0.0754148\ttotal: 2.63s\tremaining: 911ms\n",
      "743:\tlearn: 0.0752551\ttotal: 2.63s\tremaining: 907ms\n",
      "744:\tlearn: 0.0751553\ttotal: 2.64s\tremaining: 903ms\n",
      "745:\tlearn: 0.0751154\ttotal: 2.64s\tremaining: 899ms\n",
      "746:\tlearn: 0.0749471\ttotal: 2.64s\tremaining: 895ms\n",
      "747:\tlearn: 0.0748691\ttotal: 2.65s\tremaining: 891ms\n",
      "748:\tlearn: 0.0747087\ttotal: 2.65s\tremaining: 888ms\n",
      "749:\tlearn: 0.0746191\ttotal: 2.65s\tremaining: 884ms\n",
      "750:\tlearn: 0.0744523\ttotal: 2.65s\tremaining: 880ms\n",
      "751:\tlearn: 0.0743915\ttotal: 2.66s\tremaining: 876ms\n",
      "752:\tlearn: 0.0742161\ttotal: 2.66s\tremaining: 872ms\n",
      "753:\tlearn: 0.0741195\ttotal: 2.66s\tremaining: 869ms\n",
      "754:\tlearn: 0.0740855\ttotal: 2.66s\tremaining: 865ms\n",
      "755:\tlearn: 0.0739541\ttotal: 2.67s\tremaining: 861ms\n",
      "756:\tlearn: 0.0739078\ttotal: 2.67s\tremaining: 857ms\n",
      "757:\tlearn: 0.0738001\ttotal: 2.67s\tremaining: 853ms\n",
      "758:\tlearn: 0.0737127\ttotal: 2.68s\tremaining: 852ms\n",
      "759:\tlearn: 0.0736265\ttotal: 2.69s\tremaining: 849ms\n",
      "760:\tlearn: 0.0734861\ttotal: 2.69s\tremaining: 845ms\n",
      "761:\tlearn: 0.0734559\ttotal: 2.69s\tremaining: 841ms\n",
      "762:\tlearn: 0.0733369\ttotal: 2.69s\tremaining: 837ms\n",
      "763:\tlearn: 0.0731902\ttotal: 2.7s\tremaining: 833ms\n",
      "764:\tlearn: 0.0731708\ttotal: 2.7s\tremaining: 829ms\n",
      "765:\tlearn: 0.0730006\ttotal: 2.7s\tremaining: 826ms\n",
      "766:\tlearn: 0.0728996\ttotal: 2.7s\tremaining: 822ms\n",
      "767:\tlearn: 0.0728185\ttotal: 2.71s\tremaining: 818ms\n",
      "768:\tlearn: 0.0727087\ttotal: 2.71s\tremaining: 814ms\n",
      "769:\tlearn: 0.0725801\ttotal: 2.71s\tremaining: 810ms\n",
      "770:\tlearn: 0.0725415\ttotal: 2.71s\tremaining: 807ms\n",
      "771:\tlearn: 0.0723621\ttotal: 2.72s\tremaining: 803ms\n",
      "772:\tlearn: 0.0722553\ttotal: 2.72s\tremaining: 799ms\n",
      "773:\tlearn: 0.0721882\ttotal: 2.73s\tremaining: 796ms\n",
      "774:\tlearn: 0.0721135\ttotal: 2.73s\tremaining: 793ms\n",
      "775:\tlearn: 0.0720013\ttotal: 2.73s\tremaining: 789ms\n",
      "776:\tlearn: 0.0718485\ttotal: 2.74s\tremaining: 785ms\n"
     ]
    },
    {
     "name": "stdout",
     "output_type": "stream",
     "text": [
      "777:\tlearn: 0.0717608\ttotal: 2.74s\tremaining: 782ms\n",
      "778:\tlearn: 0.0715689\ttotal: 2.74s\tremaining: 779ms\n",
      "779:\tlearn: 0.0714548\ttotal: 2.75s\tremaining: 775ms\n",
      "780:\tlearn: 0.0713650\ttotal: 2.75s\tremaining: 771ms\n",
      "781:\tlearn: 0.0712949\ttotal: 2.75s\tremaining: 767ms\n",
      "782:\tlearn: 0.0711444\ttotal: 2.75s\tremaining: 764ms\n",
      "783:\tlearn: 0.0710109\ttotal: 2.76s\tremaining: 760ms\n",
      "784:\tlearn: 0.0709117\ttotal: 2.76s\tremaining: 756ms\n",
      "785:\tlearn: 0.0708754\ttotal: 2.76s\tremaining: 752ms\n",
      "786:\tlearn: 0.0707937\ttotal: 2.76s\tremaining: 748ms\n",
      "787:\tlearn: 0.0706691\ttotal: 2.77s\tremaining: 745ms\n",
      "788:\tlearn: 0.0705802\ttotal: 2.77s\tremaining: 741ms\n",
      "789:\tlearn: 0.0704246\ttotal: 2.77s\tremaining: 737ms\n",
      "790:\tlearn: 0.0703683\ttotal: 2.77s\tremaining: 733ms\n",
      "791:\tlearn: 0.0702905\ttotal: 2.77s\tremaining: 729ms\n",
      "792:\tlearn: 0.0702774\ttotal: 2.78s\tremaining: 725ms\n",
      "793:\tlearn: 0.0701820\ttotal: 2.78s\tremaining: 721ms\n",
      "794:\tlearn: 0.0700230\ttotal: 2.78s\tremaining: 717ms\n",
      "795:\tlearn: 0.0698795\ttotal: 2.78s\tremaining: 714ms\n",
      "796:\tlearn: 0.0697456\ttotal: 2.79s\tremaining: 710ms\n",
      "797:\tlearn: 0.0695863\ttotal: 2.79s\tremaining: 706ms\n",
      "798:\tlearn: 0.0694396\ttotal: 2.79s\tremaining: 702ms\n",
      "799:\tlearn: 0.0692832\ttotal: 2.79s\tremaining: 698ms\n",
      "800:\tlearn: 0.0691456\ttotal: 2.79s\tremaining: 695ms\n",
      "801:\tlearn: 0.0689864\ttotal: 2.8s\tremaining: 691ms\n",
      "802:\tlearn: 0.0688492\ttotal: 2.8s\tremaining: 687ms\n",
      "803:\tlearn: 0.0686831\ttotal: 2.8s\tremaining: 683ms\n",
      "804:\tlearn: 0.0686420\ttotal: 2.8s\tremaining: 679ms\n",
      "805:\tlearn: 0.0685130\ttotal: 2.8s\tremaining: 675ms\n",
      "806:\tlearn: 0.0684394\ttotal: 2.81s\tremaining: 671ms\n",
      "807:\tlearn: 0.0683942\ttotal: 2.81s\tremaining: 667ms\n",
      "808:\tlearn: 0.0683379\ttotal: 2.81s\tremaining: 664ms\n",
      "809:\tlearn: 0.0682935\ttotal: 2.81s\tremaining: 660ms\n",
      "810:\tlearn: 0.0682427\ttotal: 2.81s\tremaining: 656ms\n",
      "811:\tlearn: 0.0681193\ttotal: 2.82s\tremaining: 652ms\n",
      "812:\tlearn: 0.0680341\ttotal: 2.82s\tremaining: 648ms\n",
      "813:\tlearn: 0.0678929\ttotal: 2.82s\tremaining: 645ms\n",
      "814:\tlearn: 0.0677475\ttotal: 2.82s\tremaining: 641ms\n",
      "815:\tlearn: 0.0677176\ttotal: 2.83s\tremaining: 637ms\n",
      "816:\tlearn: 0.0675399\ttotal: 2.83s\tremaining: 633ms\n",
      "817:\tlearn: 0.0674233\ttotal: 2.83s\tremaining: 630ms\n",
      "818:\tlearn: 0.0672836\ttotal: 2.83s\tremaining: 626ms\n",
      "819:\tlearn: 0.0672389\ttotal: 2.84s\tremaining: 623ms\n",
      "820:\tlearn: 0.0671202\ttotal: 2.84s\tremaining: 619ms\n",
      "821:\tlearn: 0.0670040\ttotal: 2.84s\tremaining: 615ms\n",
      "822:\tlearn: 0.0669269\ttotal: 2.84s\tremaining: 612ms\n",
      "823:\tlearn: 0.0668210\ttotal: 2.85s\tremaining: 608ms\n",
      "824:\tlearn: 0.0667403\ttotal: 2.85s\tremaining: 604ms\n",
      "825:\tlearn: 0.0666979\ttotal: 2.85s\tremaining: 600ms\n",
      "826:\tlearn: 0.0666208\ttotal: 2.85s\tremaining: 596ms\n",
      "827:\tlearn: 0.0665559\ttotal: 2.85s\tremaining: 593ms\n",
      "828:\tlearn: 0.0664360\ttotal: 2.85s\tremaining: 589ms\n",
      "829:\tlearn: 0.0663106\ttotal: 2.86s\tremaining: 585ms\n",
      "830:\tlearn: 0.0661136\ttotal: 2.86s\tremaining: 581ms\n",
      "831:\tlearn: 0.0660444\ttotal: 2.86s\tremaining: 578ms\n",
      "832:\tlearn: 0.0660125\ttotal: 2.86s\tremaining: 574ms\n",
      "833:\tlearn: 0.0659920\ttotal: 2.87s\tremaining: 570ms\n",
      "834:\tlearn: 0.0658678\ttotal: 2.87s\tremaining: 567ms\n",
      "835:\tlearn: 0.0657535\ttotal: 2.87s\tremaining: 563ms\n",
      "836:\tlearn: 0.0656842\ttotal: 2.87s\tremaining: 560ms\n",
      "837:\tlearn: 0.0656414\ttotal: 2.88s\tremaining: 556ms\n",
      "838:\tlearn: 0.0655371\ttotal: 2.88s\tremaining: 552ms\n",
      "839:\tlearn: 0.0655180\ttotal: 2.88s\tremaining: 549ms\n",
      "840:\tlearn: 0.0654243\ttotal: 2.88s\tremaining: 545ms\n",
      "841:\tlearn: 0.0653886\ttotal: 2.89s\tremaining: 542ms\n",
      "842:\tlearn: 0.0652847\ttotal: 2.89s\tremaining: 538ms\n",
      "843:\tlearn: 0.0651992\ttotal: 2.89s\tremaining: 534ms\n",
      "844:\tlearn: 0.0650622\ttotal: 2.89s\tremaining: 531ms\n",
      "845:\tlearn: 0.0649419\ttotal: 2.9s\tremaining: 527ms\n",
      "846:\tlearn: 0.0648605\ttotal: 2.9s\tremaining: 524ms\n",
      "847:\tlearn: 0.0648082\ttotal: 2.9s\tremaining: 520ms\n",
      "848:\tlearn: 0.0647195\ttotal: 2.9s\tremaining: 516ms\n",
      "849:\tlearn: 0.0647011\ttotal: 2.9s\tremaining: 513ms\n",
      "850:\tlearn: 0.0646220\ttotal: 2.91s\tremaining: 509ms\n",
      "851:\tlearn: 0.0645704\ttotal: 2.91s\tremaining: 506ms\n",
      "852:\tlearn: 0.0645441\ttotal: 2.91s\tremaining: 502ms\n",
      "853:\tlearn: 0.0644317\ttotal: 2.92s\tremaining: 498ms\n",
      "854:\tlearn: 0.0643518\ttotal: 2.92s\tremaining: 495ms\n"
     ]
    },
    {
     "name": "stdout",
     "output_type": "stream",
     "text": [
      "855:\tlearn: 0.0642413\ttotal: 2.92s\tremaining: 492ms\n",
      "856:\tlearn: 0.0642132\ttotal: 2.93s\tremaining: 489ms\n",
      "857:\tlearn: 0.0641897\ttotal: 2.93s\tremaining: 485ms\n",
      "858:\tlearn: 0.0640637\ttotal: 2.93s\tremaining: 481ms\n",
      "859:\tlearn: 0.0640236\ttotal: 2.94s\tremaining: 478ms\n",
      "860:\tlearn: 0.0639182\ttotal: 2.94s\tremaining: 474ms\n",
      "861:\tlearn: 0.0638445\ttotal: 2.94s\tremaining: 471ms\n",
      "862:\tlearn: 0.0637220\ttotal: 2.94s\tremaining: 467ms\n",
      "863:\tlearn: 0.0635976\ttotal: 2.94s\tremaining: 464ms\n",
      "864:\tlearn: 0.0635138\ttotal: 2.95s\tremaining: 460ms\n",
      "865:\tlearn: 0.0634362\ttotal: 2.95s\tremaining: 456ms\n",
      "866:\tlearn: 0.0634038\ttotal: 2.95s\tremaining: 453ms\n",
      "867:\tlearn: 0.0632807\ttotal: 2.95s\tremaining: 449ms\n",
      "868:\tlearn: 0.0631694\ttotal: 2.96s\tremaining: 446ms\n",
      "869:\tlearn: 0.0630983\ttotal: 2.96s\tremaining: 443ms\n",
      "870:\tlearn: 0.0630152\ttotal: 2.96s\tremaining: 439ms\n",
      "871:\tlearn: 0.0629575\ttotal: 2.97s\tremaining: 436ms\n",
      "872:\tlearn: 0.0628321\ttotal: 2.97s\tremaining: 432ms\n",
      "873:\tlearn: 0.0627685\ttotal: 2.97s\tremaining: 429ms\n",
      "874:\tlearn: 0.0627552\ttotal: 2.98s\tremaining: 425ms\n",
      "875:\tlearn: 0.0626709\ttotal: 2.98s\tremaining: 422ms\n",
      "876:\tlearn: 0.0626166\ttotal: 2.98s\tremaining: 418ms\n",
      "877:\tlearn: 0.0624907\ttotal: 2.98s\tremaining: 415ms\n",
      "878:\tlearn: 0.0623224\ttotal: 2.99s\tremaining: 411ms\n",
      "879:\tlearn: 0.0621907\ttotal: 2.99s\tremaining: 408ms\n",
      "880:\tlearn: 0.0621100\ttotal: 2.99s\tremaining: 404ms\n",
      "881:\tlearn: 0.0620569\ttotal: 2.99s\tremaining: 401ms\n",
      "882:\tlearn: 0.0619410\ttotal: 3s\tremaining: 397ms\n",
      "883:\tlearn: 0.0618952\ttotal: 3s\tremaining: 394ms\n",
      "884:\tlearn: 0.0618095\ttotal: 3s\tremaining: 390ms\n",
      "885:\tlearn: 0.0617326\ttotal: 3s\tremaining: 387ms\n",
      "886:\tlearn: 0.0615589\ttotal: 3.01s\tremaining: 383ms\n",
      "887:\tlearn: 0.0614762\ttotal: 3.01s\tremaining: 380ms\n",
      "888:\tlearn: 0.0614116\ttotal: 3.02s\tremaining: 377ms\n",
      "889:\tlearn: 0.0613727\ttotal: 3.02s\tremaining: 373ms\n",
      "890:\tlearn: 0.0612897\ttotal: 3.02s\tremaining: 370ms\n",
      "891:\tlearn: 0.0611562\ttotal: 3.02s\tremaining: 366ms\n",
      "892:\tlearn: 0.0610447\ttotal: 3.03s\tremaining: 363ms\n",
      "893:\tlearn: 0.0609778\ttotal: 3.03s\tremaining: 359ms\n",
      "894:\tlearn: 0.0608988\ttotal: 3.03s\tremaining: 356ms\n",
      "895:\tlearn: 0.0607864\ttotal: 3.04s\tremaining: 352ms\n",
      "896:\tlearn: 0.0606738\ttotal: 3.04s\tremaining: 349ms\n",
      "897:\tlearn: 0.0605627\ttotal: 3.04s\tremaining: 345ms\n",
      "898:\tlearn: 0.0605070\ttotal: 3.04s\tremaining: 342ms\n",
      "899:\tlearn: 0.0604389\ttotal: 3.05s\tremaining: 338ms\n",
      "900:\tlearn: 0.0603908\ttotal: 3.05s\tremaining: 335ms\n",
      "901:\tlearn: 0.0602857\ttotal: 3.05s\tremaining: 332ms\n",
      "902:\tlearn: 0.0601911\ttotal: 3.05s\tremaining: 328ms\n",
      "903:\tlearn: 0.0601168\ttotal: 3.06s\tremaining: 325ms\n",
      "904:\tlearn: 0.0600251\ttotal: 3.06s\tremaining: 321ms\n",
      "905:\tlearn: 0.0599822\ttotal: 3.06s\tremaining: 318ms\n",
      "906:\tlearn: 0.0598839\ttotal: 3.06s\tremaining: 314ms\n",
      "907:\tlearn: 0.0598066\ttotal: 3.07s\tremaining: 311ms\n",
      "908:\tlearn: 0.0597441\ttotal: 3.07s\tremaining: 307ms\n",
      "909:\tlearn: 0.0596236\ttotal: 3.07s\tremaining: 304ms\n",
      "910:\tlearn: 0.0595440\ttotal: 3.07s\tremaining: 300ms\n",
      "911:\tlearn: 0.0594775\ttotal: 3.08s\tremaining: 297ms\n",
      "912:\tlearn: 0.0594286\ttotal: 3.08s\tremaining: 293ms\n",
      "913:\tlearn: 0.0594047\ttotal: 3.08s\tremaining: 290ms\n",
      "914:\tlearn: 0.0592546\ttotal: 3.08s\tremaining: 286ms\n",
      "915:\tlearn: 0.0592232\ttotal: 3.09s\tremaining: 283ms\n",
      "916:\tlearn: 0.0590777\ttotal: 3.09s\tremaining: 280ms\n",
      "917:\tlearn: 0.0590149\ttotal: 3.09s\tremaining: 276ms\n",
      "918:\tlearn: 0.0589971\ttotal: 3.1s\tremaining: 273ms\n",
      "919:\tlearn: 0.0589742\ttotal: 3.1s\tremaining: 269ms\n",
      "920:\tlearn: 0.0589031\ttotal: 3.1s\tremaining: 266ms\n"
     ]
    },
    {
     "name": "stdout",
     "output_type": "stream",
     "text": [
      "921:\tlearn: 0.0588111\ttotal: 3.11s\tremaining: 263ms\n",
      "922:\tlearn: 0.0587420\ttotal: 3.11s\tremaining: 259ms\n",
      "923:\tlearn: 0.0586108\ttotal: 3.11s\tremaining: 256ms\n",
      "924:\tlearn: 0.0585389\ttotal: 3.11s\tremaining: 252ms\n",
      "925:\tlearn: 0.0583002\ttotal: 3.11s\tremaining: 249ms\n",
      "926:\tlearn: 0.0582593\ttotal: 3.12s\tremaining: 245ms\n",
      "927:\tlearn: 0.0580606\ttotal: 3.12s\tremaining: 242ms\n",
      "928:\tlearn: 0.0579531\ttotal: 3.12s\tremaining: 238ms\n",
      "929:\tlearn: 0.0578701\ttotal: 3.12s\tremaining: 235ms\n",
      "930:\tlearn: 0.0577698\ttotal: 3.12s\tremaining: 232ms\n",
      "931:\tlearn: 0.0576511\ttotal: 3.13s\tremaining: 228ms\n",
      "932:\tlearn: 0.0575946\ttotal: 3.13s\tremaining: 225ms\n",
      "933:\tlearn: 0.0575207\ttotal: 3.13s\tremaining: 221ms\n",
      "934:\tlearn: 0.0575033\ttotal: 3.13s\tremaining: 218ms\n",
      "935:\tlearn: 0.0573948\ttotal: 3.13s\tremaining: 214ms\n",
      "936:\tlearn: 0.0573160\ttotal: 3.14s\tremaining: 211ms\n",
      "937:\tlearn: 0.0571952\ttotal: 3.14s\tremaining: 208ms\n",
      "938:\tlearn: 0.0570869\ttotal: 3.14s\tremaining: 204ms\n",
      "939:\tlearn: 0.0570133\ttotal: 3.14s\tremaining: 201ms\n",
      "940:\tlearn: 0.0569133\ttotal: 3.15s\tremaining: 197ms\n",
      "941:\tlearn: 0.0568468\ttotal: 3.15s\tremaining: 194ms\n",
      "942:\tlearn: 0.0567988\ttotal: 3.15s\tremaining: 190ms\n",
      "943:\tlearn: 0.0567195\ttotal: 3.15s\tremaining: 187ms\n",
      "944:\tlearn: 0.0566641\ttotal: 3.15s\tremaining: 184ms\n",
      "945:\tlearn: 0.0565526\ttotal: 3.16s\tremaining: 180ms\n",
      "946:\tlearn: 0.0564993\ttotal: 3.16s\tremaining: 177ms\n",
      "947:\tlearn: 0.0564006\ttotal: 3.16s\tremaining: 173ms\n",
      "948:\tlearn: 0.0563166\ttotal: 3.16s\tremaining: 170ms\n",
      "949:\tlearn: 0.0563041\ttotal: 3.17s\tremaining: 167ms\n",
      "950:\tlearn: 0.0562935\ttotal: 3.17s\tremaining: 163ms\n",
      "951:\tlearn: 0.0562290\ttotal: 3.17s\tremaining: 160ms\n",
      "952:\tlearn: 0.0561214\ttotal: 3.17s\tremaining: 156ms\n",
      "953:\tlearn: 0.0560461\ttotal: 3.17s\tremaining: 153ms\n",
      "954:\tlearn: 0.0559199\ttotal: 3.17s\tremaining: 150ms\n",
      "955:\tlearn: 0.0558286\ttotal: 3.17s\tremaining: 146ms\n",
      "956:\tlearn: 0.0557209\ttotal: 3.18s\tremaining: 143ms\n",
      "957:\tlearn: 0.0555900\ttotal: 3.18s\tremaining: 139ms\n",
      "958:\tlearn: 0.0554265\ttotal: 3.18s\tremaining: 136ms\n",
      "959:\tlearn: 0.0552987\ttotal: 3.19s\tremaining: 133ms\n",
      "960:\tlearn: 0.0552466\ttotal: 3.19s\tremaining: 129ms\n",
      "961:\tlearn: 0.0551323\ttotal: 3.19s\tremaining: 126ms\n",
      "962:\tlearn: 0.0551220\ttotal: 3.19s\tremaining: 123ms\n",
      "963:\tlearn: 0.0549923\ttotal: 3.19s\tremaining: 119ms\n",
      "964:\tlearn: 0.0549204\ttotal: 3.2s\tremaining: 116ms\n",
      "965:\tlearn: 0.0548765\ttotal: 3.2s\tremaining: 113ms\n",
      "966:\tlearn: 0.0548561\ttotal: 3.2s\tremaining: 109ms\n",
      "967:\tlearn: 0.0548445\ttotal: 3.2s\tremaining: 106ms\n",
      "968:\tlearn: 0.0547548\ttotal: 3.2s\tremaining: 103ms\n",
      "969:\tlearn: 0.0546946\ttotal: 3.21s\tremaining: 99.2ms\n",
      "970:\tlearn: 0.0546824\ttotal: 3.21s\tremaining: 95.8ms\n",
      "971:\tlearn: 0.0544873\ttotal: 3.21s\tremaining: 92.5ms\n",
      "972:\tlearn: 0.0544661\ttotal: 3.21s\tremaining: 89.1ms\n",
      "973:\tlearn: 0.0543949\ttotal: 3.21s\tremaining: 85.8ms\n",
      "974:\tlearn: 0.0543431\ttotal: 3.22s\tremaining: 82.5ms\n",
      "975:\tlearn: 0.0542698\ttotal: 3.22s\tremaining: 79.2ms\n",
      "976:\tlearn: 0.0541824\ttotal: 3.23s\tremaining: 75.9ms\n",
      "977:\tlearn: 0.0541144\ttotal: 3.23s\tremaining: 72.6ms\n",
      "978:\tlearn: 0.0539451\ttotal: 3.23s\tremaining: 69.3ms\n",
      "979:\tlearn: 0.0538788\ttotal: 3.24s\tremaining: 66ms\n",
      "980:\tlearn: 0.0538223\ttotal: 3.24s\tremaining: 62.7ms\n",
      "981:\tlearn: 0.0538131\ttotal: 3.24s\tremaining: 59.4ms\n",
      "982:\tlearn: 0.0536952\ttotal: 3.24s\tremaining: 56.1ms\n",
      "983:\tlearn: 0.0536356\ttotal: 3.25s\tremaining: 52.8ms\n",
      "984:\tlearn: 0.0535326\ttotal: 3.25s\tremaining: 49.5ms\n",
      "985:\tlearn: 0.0534407\ttotal: 3.25s\tremaining: 46.2ms\n",
      "986:\tlearn: 0.0533918\ttotal: 3.25s\tremaining: 42.9ms\n",
      "987:\tlearn: 0.0533195\ttotal: 3.26s\tremaining: 39.6ms\n",
      "988:\tlearn: 0.0532596\ttotal: 3.26s\tremaining: 36.3ms\n",
      "989:\tlearn: 0.0532058\ttotal: 3.27s\tremaining: 33ms\n",
      "990:\tlearn: 0.0531636\ttotal: 3.27s\tremaining: 29.7ms\n",
      "991:\tlearn: 0.0531248\ttotal: 3.27s\tremaining: 26.4ms\n"
     ]
    },
    {
     "name": "stdout",
     "output_type": "stream",
     "text": [
      "992:\tlearn: 0.0530587\ttotal: 3.27s\tremaining: 23.1ms\n",
      "993:\tlearn: 0.0530555\ttotal: 3.28s\tremaining: 19.8ms\n",
      "994:\tlearn: 0.0530111\ttotal: 3.28s\tremaining: 16.5ms\n",
      "995:\tlearn: 0.0528773\ttotal: 3.28s\tremaining: 13.2ms\n",
      "996:\tlearn: 0.0527789\ttotal: 3.28s\tremaining: 9.88ms\n",
      "997:\tlearn: 0.0526830\ttotal: 3.29s\tremaining: 6.59ms\n",
      "998:\tlearn: 0.0526275\ttotal: 3.29s\tremaining: 3.29ms\n",
      "999:\tlearn: 0.0525728\ttotal: 3.29s\tremaining: 0us\n"
     ]
    },
    {
     "data": {
      "text/plain": [
       "<catboost.core.CatBoostRegressor at 0x7fcdbf0aaee0>"
      ]
     },
     "execution_count": 9,
     "metadata": {},
     "output_type": "execute_result"
    }
   ],
   "source": [
    "#Train the Model \n",
    "prior_model = ctb.CatBoostRegressor()\n",
    "prior_model.fit(X_train,Y_train)"
   ]
  },
  {
   "cell_type": "code",
   "execution_count": 10,
   "id": "af65dcda",
   "metadata": {
    "execution": {
     "iopub.execute_input": "2022-07-22T18:53:33.409111Z",
     "iopub.status.busy": "2022-07-22T18:53:33.408730Z",
     "iopub.status.idle": "2022-07-22T18:53:33.469325Z",
     "shell.execute_reply": "2022-07-22T18:53:33.465298Z"
    },
    "id": "af65dcda",
    "papermill": {
     "duration": 0.087834,
     "end_time": "2022-07-22T18:53:33.474385",
     "exception": false,
     "start_time": "2022-07-22T18:53:33.386551",
     "status": "completed"
    },
    "tags": []
   },
   "outputs": [
    {
     "data": {
      "application/scrapbook.scrap.json+json": {
       "data": 0.06886229279323737,
       "encoder": "json",
       "name": "Prior Model MSE",
       "version": 1
      }
     },
     "metadata": {
      "scrapbook": {
       "data": true,
       "display": false,
       "name": "Prior Model MSE"
      }
     },
     "output_type": "display_data"
    },
    {
     "data": {
      "application/scrapbook.scrap.json+json": {
       "data": 1.17761639234115,
       "encoder": "json",
       "name": "ABC Pre-generator MSE",
       "version": 1
      }
     },
     "metadata": {
      "scrapbook": {
       "data": true,
       "display": false,
       "name": "ABC Pre-generator MSE"
      }
     },
     "output_type": "display_data"
    },
    {
     "data": {
      "application/scrapbook.scrap.json+json": {
       "data": 0.19991365550662107,
       "encoder": "json",
       "name": "Prior Model MAE",
       "version": 1
      }
     },
     "metadata": {
      "scrapbook": {
       "data": true,
       "display": false,
       "name": "Prior Model MAE"
      }
     },
     "output_type": "display_data"
    },
    {
     "name": "stdout",
     "output_type": "stream",
     "text": [
      "Prior Model MAE 0.19991365550662107\n",
      "ABC Pre-generator MAE 0.8643959087166001\n"
     ]
    }
   ],
   "source": [
    "y_pred = prior_model.predict(X_test)\n",
    "y_abc = y_pred + np.random.normal(0,variance, y_pred.shape) + bias \n",
    "mse = mean_squared_error(y_pred,Y_test)\n",
    "sb.glue(\"Prior Model MSE\",mse)\n",
    "mse = mean_squared_error(y_abc,Y_test)\n",
    "sb.glue(\"ABC Pre-generator MSE\",mse)\n",
    "mae = mean_absolute_error(y_pred,Y_test)\n",
    "sb.glue(\"Prior Model MAE\",mae)\n",
    "print(\"Prior Model MAE\",mae)\n",
    "mae = mean_absolute_error(y_abc,Y_test)\n",
    "print(\"ABC Pre-generator MAE\",mae)"
   ]
  },
  {
   "cell_type": "markdown",
   "id": "25609da2",
   "metadata": {
    "papermill": {
     "duration": 0.012008,
     "end_time": "2022-07-22T18:53:33.497768",
     "exception": false,
     "start_time": "2022-07-22T18:53:33.485760",
     "status": "completed"
    },
    "tags": []
   },
   "source": [
    "# mGAN Model"
   ]
  },
  {
   "cell_type": "code",
   "execution_count": 11,
   "id": "dfc3464d",
   "metadata": {
    "execution": {
     "iopub.execute_input": "2022-07-22T18:53:33.536366Z",
     "iopub.status.busy": "2022-07-22T18:53:33.533330Z",
     "iopub.status.idle": "2022-07-22T18:53:33.548455Z",
     "shell.execute_reply": "2022-07-22T18:53:33.543477Z"
    },
    "papermill": {
     "duration": 0.042792,
     "end_time": "2022-07-22T18:53:33.553884",
     "exception": false,
     "start_time": "2022-07-22T18:53:33.511092",
     "status": "completed"
    },
    "tags": []
   },
   "outputs": [],
   "source": [
    "# gen = network.Generator(n_features+1).to(device)\n",
    "# disc = network.Discriminator(n_features+1).to(device)\n",
    "\n",
    "# criterion = torch.nn.BCELoss()\n",
    "# gen_opt = torch.optim.Adam(gen.parameters(), lr=0.01, betas=(0.5, 0.999))\n",
    "# disc_opt = torch.optim.Adam(disc.parameters(), lr=0.01, betas=(0.5, 0.999))"
   ]
  },
  {
   "cell_type": "code",
   "execution_count": 12,
   "id": "b75fdd85",
   "metadata": {
    "execution": {
     "iopub.execute_input": "2022-07-22T18:53:33.585621Z",
     "iopub.status.busy": "2022-07-22T18:53:33.585073Z",
     "iopub.status.idle": "2022-07-22T18:53:33.592784Z",
     "shell.execute_reply": "2022-07-22T18:53:33.589340Z"
    },
    "papermill": {
     "duration": 0.030259,
     "end_time": "2022-07-22T18:53:33.601279",
     "exception": false,
     "start_time": "2022-07-22T18:53:33.571020",
     "status": "completed"
    },
    "tags": []
   },
   "outputs": [],
   "source": [
    "#Training the ABC_GAN \n",
    "# ABC_train_test2.training_GAN(disc,gen,disc_opt,gen_opt,train_data,batch_size,n_epochs,criterion,prior_model,variance,bias,device)"
   ]
  },
  {
   "cell_type": "code",
   "execution_count": 13,
   "id": "1fa7c368",
   "metadata": {
    "execution": {
     "iopub.execute_input": "2022-07-22T18:53:33.643636Z",
     "iopub.status.busy": "2022-07-22T18:53:33.643115Z",
     "iopub.status.idle": "2022-07-22T18:53:33.654481Z",
     "shell.execute_reply": "2022-07-22T18:53:33.652397Z"
    },
    "papermill": {
     "duration": 0.044621,
     "end_time": "2022-07-22T18:53:33.657567",
     "exception": false,
     "start_time": "2022-07-22T18:53:33.612946",
     "status": "completed"
    },
    "tags": []
   },
   "outputs": [],
   "source": [
    "# ABC_GAN1_metrics=ABC_train_test2.test_generator(gen,test_data,prior_model,variance,bias,\"1\",device)\n",
    "# sb.glue(\"ABC_GAN_1 Metrics\",ABC_GAN1_metrics)\n",
    "\n",
    "# print(\"MAE\")\n",
    "# print(mean(ABC_GAN1_metrics[1]))"
   ]
  },
  {
   "cell_type": "code",
   "execution_count": 14,
   "id": "eb22ce5c",
   "metadata": {
    "execution": {
     "iopub.execute_input": "2022-07-22T18:53:33.684479Z",
     "iopub.status.busy": "2022-07-22T18:53:33.683696Z",
     "iopub.status.idle": "2022-07-22T18:53:33.688629Z",
     "shell.execute_reply": "2022-07-22T18:53:33.687715Z"
    },
    "papermill": {
     "duration": 0.027639,
     "end_time": "2022-07-22T18:53:33.697301",
     "exception": false,
     "start_time": "2022-07-22T18:53:33.669662",
     "status": "completed"
    },
    "tags": []
   },
   "outputs": [],
   "source": [
    "# sanityChecks.discProbVsError(train_data,disc,device)\n",
    "# sanityChecks.discProbVsError(test_data,disc,device)"
   ]
  },
  {
   "cell_type": "markdown",
   "id": "c5399a82",
   "metadata": {
    "papermill": {
     "duration": 0.014774,
     "end_time": "2022-07-22T18:53:33.723995",
     "exception": false,
     "start_time": "2022-07-22T18:53:33.709221",
     "status": "completed"
    },
    "tags": []
   },
   "source": [
    "# mGAN Model with TabNet Generator"
   ]
  },
  {
   "cell_type": "code",
   "execution_count": 15,
   "id": "c064d002",
   "metadata": {
    "execution": {
     "iopub.execute_input": "2022-07-22T18:53:33.751971Z",
     "iopub.status.busy": "2022-07-22T18:53:33.751148Z",
     "iopub.status.idle": "2022-07-22T18:53:33.773675Z",
     "shell.execute_reply": "2022-07-22T18:53:33.772820Z"
    },
    "papermill": {
     "duration": 0.041593,
     "end_time": "2022-07-22T18:53:33.777599",
     "exception": false,
     "start_time": "2022-07-22T18:53:33.736006",
     "status": "completed"
    },
    "tags": []
   },
   "outputs": [],
   "source": [
    "gen2 = network.GeneratorTabnet(n_features+1).to(device)\n",
    "disc2 = network.Discriminator(n_features+1).to(device)\n",
    "\n",
    "criterion = torch.nn.BCELoss()\n",
    "gen_opt = torch.optim.Adam(gen2.parameters(), lr=0.01, betas=(0.5, 0.999))\n",
    "disc_opt = torch.optim.Adam(disc2.parameters(), lr=0.01, betas=(0.5, 0.999))"
   ]
  },
  {
   "cell_type": "code",
   "execution_count": 16,
   "id": "91e73ef7",
   "metadata": {
    "execution": {
     "iopub.execute_input": "2022-07-22T18:53:33.802950Z",
     "iopub.status.busy": "2022-07-22T18:53:33.802374Z",
     "iopub.status.idle": "2022-07-22T19:04:00.392283Z",
     "shell.execute_reply": "2022-07-22T19:04:00.385893Z"
    },
    "papermill": {
     "duration": 626.6154,
     "end_time": "2022-07-22T19:04:00.404437",
     "exception": false,
     "start_time": "2022-07-22T18:53:33.789037",
     "status": "completed"
    },
    "tags": []
   },
   "outputs": [
    {
     "data": {
      "image/png": "[encoded data removed]",
      "text/plain": [
       "<Figure size 432x288 with 1 Axes>"
      ]
     },
     "metadata": {
      "needs_background": "light"
     },
     "output_type": "display_data"
    },
    {
     "data": {
      "image/png": "[encoded data removed]",
      "text/plain": [
       "<Figure size 432x288 with 1 Axes>"
      ]
     },
     "metadata": {
      "needs_background": "light"
     },
     "output_type": "display_data"
    }
   ],
   "source": [
    "#Training the ABC_GAN \n",
    "ABC_train_test2.training_GAN(disc2,gen2,disc_opt,gen_opt,train_data,batch_size,n_epochs,criterion,prior_model,variance,bias,device)"
   ]
  },
  {
   "cell_type": "code",
   "execution_count": 17,
   "id": "80264115",
   "metadata": {
    "execution": {
     "iopub.execute_input": "2022-07-22T19:04:00.473625Z",
     "iopub.status.busy": "2022-07-22T19:04:00.469346Z",
     "iopub.status.idle": "2022-07-22T19:04:02.325665Z",
     "shell.execute_reply": "2022-07-22T19:04:02.324814Z"
    },
    "papermill": {
     "duration": 1.908547,
     "end_time": "2022-07-22T19:04:02.328426",
     "exception": false,
     "start_time": "2022-07-22T19:04:00.419879",
     "status": "completed"
    },
    "tags": []
   },
   "outputs": [
    {
     "data": {
      "application/scrapbook.scrap.json+json": {
       "data": 0.12176777449429471,
       "encoder": "json",
       "name": "ABC-GAN Model 1 MSE",
       "version": 1
      }
     },
     "metadata": {
      "scrapbook": {
       "data": true,
       "display": false,
       "name": "ABC-GAN Model 1 MSE"
      }
     },
     "output_type": "display_data"
    },
    {
     "data": {
      "application/scrapbook.scrap.json+json": {
       "data": 0.26029301409739725,
       "encoder": "json",
       "name": "ABC-GAN Model 1 MAE",
       "version": 1
      }
     },
     "metadata": {
      "scrapbook": {
       "data": true,
       "display": false,
       "name": "ABC-GAN Model 1 MAE"
      }
     },
     "output_type": "display_data"
    },
    {
     "data": {
      "application/scrapbook.scrap.json+json": {
       "data": 26.549887437934522,
       "encoder": "json",
       "name": "ABC-GAN Model 1 Manhattan Distance",
       "version": 1
      }
     },
     "metadata": {
      "scrapbook": {
       "data": true,
       "display": false,
       "name": "ABC-GAN Model 1 Manhattan Distance"
      }
     },
     "output_type": "display_data"
    },
    {
     "data": {
      "application/scrapbook.scrap.json+json": {
       "data": 3.524142455650188,
       "encoder": "json",
       "name": "ABC-GAN Model 1 Euclidean distance",
       "version": 1
      }
     },
     "metadata": {
      "scrapbook": {
       "data": true,
       "display": false,
       "name": "ABC-GAN Model 1 Euclidean distance"
      }
     },
     "output_type": "display_data"
    },
    {
     "data": {
      "application/scrapbook.scrap.json+json": {
       "data": [
        [
         0.1204280349543674,
         0.12360843676085388,
         0.1227977924055323,
         0.12354758256664554,
         0.1250350331227886,
         0.12161971735191665,
         0.11734817195635294,
         0.12282536848279743,
         0.12336095516230533,
         0.12282465902795414,
         0.12186561101099155,
         0.12080460731096175,
         0.12301461536596278,
         0.1260195473492572,
         0.12132806618037102,
         0.12211749271603108,
         0.12595753308641605,
         0.12299086735248423,
         0.12079840137561317,
         0.12119514324487372,
         0.11995991225912779,
         0.12081766410271265,
         0.11951004281097873,
         0.12253883975996557,
         0.12050160383289994,
         0.12123646324248062,
         0.1227061641502734,
         0.12226097084216257,
         0.11935155711987327,
         0.11968792215530928,
         0.12222971687054038,
         0.12140117020315952,
         0.1227473052823649,
         0.12065703733373771,
         0.12177202915132068,
         0.11988564076367592,
         0.12425007418096427,
         0.12104628119052849,
         0.1206789134598449,
         0.1217146127404265,
         0.1245408882417352,
         0.12055723793354718,
         0.11976342919196958,
         0.12050070430760566,
         0.1231774737337974,
         0.12033405337455165,
         0.1202617629751434,
         0.12154951612380274,
         0.12224386414047489,
         0.1216862629103111,
         0.11950208398349411,
         0.11818173808198441,
         0.12077733969253053,
         0.12578975193053538,
         0.12238573980239179,
         0.12035012045133515,
         0.11927390185084612,
         0.12329641789399305,
         0.12262249589183202,
         0.11909195373187192,
         0.12421487364980638,
         0.12183838937797152,
         0.120241286289511,
         0.12359446715537033,
         0.12148195668273434,
         0.1257536952018139,
         0.12295486381178719,
         0.12151706121850445,
         0.12230587920681373,
         0.12076529511445663,
         0.12343707905598214,
         0.12217234309751714,
         0.118201016454652,
         0.12221783636486737,
         0.12236289181632706,
         0.1210128075607943,
         0.12177212366554979,
         0.12218768256509141,
         0.12317460253537531,
         0.12246392128043118,
         0.1220090109492503,
         0.12043828599973305,
         0.12197302567833894,
         0.12189148460136726,
         0.12463248243423508,
         0.12323605316750888,
         0.12008455163688206,
         0.12274739401287514,
         0.1194625258889845,
         0.1222206941199067,
         0.1221206073579349,
         0.11980179317883896,
         0.11925377481021841,
         0.12127529891747238,
         0.11746090244130324,
         0.12081251003613899,
         0.12559599432389884,
         0.11990174307196637,
         0.12046529811363738,
         0.12739565210304607
        ],
        [
         0.2601334829312548,
         0.2639555008625429,
         0.2632399333239186,
         0.26210398728247075,
         0.26132327739797606,
         0.2585303128751762,
         0.25648911683089737,
         0.25927408487882975,
         0.2599658011732733,
         0.259670315995155,
         0.25982795098759964,
         0.2582531224698851,
         0.2612623434157713,
         0.26370162553354803,
         0.2607817785522225,
         0.2604433464288127,
         0.2635963881096127,
         0.2612176240860101,
         0.25942384075674724,
         0.2600160685513972,
         0.2597737006738088,
         0.25834306703843907,
         0.2582574633758186,
         0.2627211891972989,
         0.2596581282810874,
         0.2609801731236717,
         0.26362932411332923,
         0.2596345913194704,
         0.25779745072199434,
         0.25789450848584666,
         0.25951985394417804,
         0.26194218684937437,
         0.26052833785869034,
         0.26103405984045536,
         0.2615842808804968,
         0.2583859578213271,
         0.26400078498922724,
         0.2595452036019232,
         0.2574928873857739,
         0.259156127387256,
         0.2633550563900202,
         0.2583434632157578,
         0.2594200634196693,
         0.2595440008581671,
         0.26266659830934275,
         0.25964578251838316,
         0.2608804187609577,
         0.2586591679182853,
         0.2619619910518511,
         0.2593419579971655,
         0.2587229932713158,
         0.255435916930711,
         0.25937429616939933,
         0.2645500168003434,
         0.260495211052544,
         0.25815234268677656,
         0.25812738508387817,
         0.26246236606190604,
         0.26227198476108776,
         0.25554204768245564,
         0.26223012845159743,
         0.2610346743124811,
         0.260439003205986,
         0.2613037294735584,
         0.26077974186844977,
         0.2644551550563169,
         0.25920827343475583,
         0.26155150126592785,
         0.2606893700145769,
         0.26063744587750703,
         0.2621961756536335,
         0.2601836931928262,
         0.25588879587503116,
         0.26142871676597235,
         0.26072541083775314,
         0.25905484514420524,
         0.2605912314143543,
         0.25868780379567075,
         0.2631276206423839,
         0.260707723113763,
         0.25968331050620796,
         0.2595878305762787,
         0.2626398686849165,
         0.2597232015173444,
         0.2627076427452266,
         0.26276028570810367,
         0.2583693469892822,
         0.2610133826714374,
         0.25613103786885155,
         0.2601232552700037,
         0.2614909419949696,
         0.25728927329913076,
         0.25956410424345555,
         0.2586970205382243,
         0.25466332633011773,
         0.2604112548333611,
         0.2623966483344488,
         0.2579451215946499,
         0.26115560308829244,
         0.26398567327608663
        ],
        [
         26.533615258987993,
         26.923461087979376,
         26.850473199039698,
         26.734606702812016,
         26.654974294593558,
         26.37009191326797,
         26.161889916751534,
         26.445956657640636,
         26.516511719673872,
         26.48637223150581,
         26.502451000735164,
         26.34181849192828,
         26.648759028408676,
         26.8975658044219,
         26.599741412326694,
         26.565221335738897,
         26.886831587180495,
         26.64419765677303,
         26.461231757188216,
         26.521638992242515,
         26.496917468728498,
         26.350992837920785,
         26.3422612643335,
         26.797561298124492,
         26.485129084670916,
         26.619977658614516,
         26.890191059559584,
         26.482728314585984,
         26.295339973643422,
         26.30523986555636,
         26.471025102306157,
         26.71810305863619,
         26.573890461586416,
         26.625474103726447,
         26.681596649810672,
         26.355367697775364,
         26.92808006890118,
         26.473610767396167,
         26.264274513348937,
         26.433924993500113,
         26.86221575178206,
         26.351033248007298,
         26.460846468806267,
         26.473488087533042,
         26.791993027552962,
         26.483869816875085,
         26.609802713617682,
         26.383235127665102,
         26.720123087288812,
         26.45287971571088,
         26.38974531367421,
         26.054463526932523,
         26.456178209278733,
         26.984101713635027,
         26.570511527359486,
         26.33153895405121,
         26.328993278555572,
         26.771161338314414,
         26.751742445630953,
         26.065288863610476,
         26.74747310206294,
         26.625536779873073,
         26.564778327010572,
         26.65298040630296,
         26.599533670581877,
         26.974425815744326,
         26.439243890345097,
         26.67825312912464,
         26.590315741486847,
         26.585019479505718,
         26.74400991667062,
         26.53873670566827,
         26.100657179253176,
         26.665729110129178,
         26.59399190545082,
         26.423594204708934,
         26.58030560426414,
         26.386155987158418,
         26.839017305523157,
         26.592187757603824,
         26.487697671633214,
         26.477958718780428,
         26.789266605861485,
         26.49176655476913,
         26.796179560013115,
         26.801549142226577,
         26.353673392906785,
         26.623365032486618,
         26.125365862622857,
         26.532572037540376,
         26.6720760834869,
         26.243505876511335,
         26.475538632832468,
         26.38709609489888,
         25.97565928567201,
         26.561947993002832,
         26.76445813011378,
         26.31040240265429,
         26.637871515005827,
         26.926538674160838
        ],
        [
         3.504805210756437,
         3.550783089630665,
         3.539120628823535,
         3.5499089314794885,
         3.57121455229512,
         3.522103231010626,
         3.4596984752356668,
         3.5395179876990785,
         3.5472267233086656,
         3.539507765332819,
         3.5256619694918476,
         3.5102806078315303,
         3.542243747588271,
         3.585246690204766,
         3.5178775917302523,
         3.5293036504436914,
         3.584364431083206,
         3.5419018154027633,
         3.5101904421715555,
         3.5159500296473385,
         3.4979867138728573,
         3.510470301608701,
         3.491421539533694,
         3.535387058798016,
         3.505875581214455,
         3.5165493385893254,
         3.5377999863372556,
         3.5313763642382523,
         3.48910573445791,
         3.494018898037265,
         3.530924966746691,
         3.518937248761658,
         3.5383930164413924,
         3.5081359449202147,
         3.5243080134169187,
         3.496903681529553,
         3.559987017737334,
         3.513790073614801,
         3.5084539576434772,
         3.5234770468279626,
         3.564150754479528,
         3.506684797529114,
         3.4951208530723075,
         3.5058624957884152,
         3.5445877504792196,
         3.5034373755219694,
         3.5023848765469263,
         3.521086571589497,
         3.5311293012757883,
         3.5230666778889854,
         3.4913052811686915,
         3.4719644704925208,
         3.5098844209800006,
         3.581976367442226,
         3.5331778132219673,
         3.5036712582712704,
         3.4879704684510022,
         3.546298721933516,
         3.5365936409159118,
         3.4853090652983605,
         3.5594827029050506,
         3.525268176543891,
         3.5020866924635263,
         3.550582438114594,
         3.52010789346561,
         3.5814629567517535,
         3.54138336089194,
         3.5206164579924715,
         3.5320248695465044,
         3.5097094041636234,
         3.548321020385581,
         3.530096173753167,
         3.472247640704001,
         3.5307533628414873,
         3.532847996343086,
         3.513304195654145,
         3.524309381125056,
         3.5303177791297085,
         3.544546439053702,
         3.53430615122742,
         3.5277356925970986,
         3.504954375162788,
         3.527215420014855,
         3.5260362206505276,
         3.565461149457665,
         3.5454304989783543,
         3.499803461190638,
         3.5383942953426297,
         3.4907273798846594,
         3.5307946414696056,
         3.5293486581109206,
         3.4956806067261876,
         3.487676164818385,
         3.517112521598105,
         3.4613598554633014,
         3.510395422696164,
         3.5792165931999254,
         3.4971385150349086,
         3.505347401840652,
         3.6047685798828613
        ]
       ],
       "encoder": "json",
       "name": "ABC_GAN_2 Metrics",
       "version": 1
      }
     },
     "metadata": {
      "scrapbook": {
       "data": true,
       "display": false,
       "name": "ABC_GAN_2 Metrics"
      }
     },
     "output_type": "display_data"
    },
    {
     "name": "stdout",
     "output_type": "stream",
     "text": [
      "MAE\n",
      "0.26029301409739725\n"
     ]
    }
   ],
   "source": [
    "ABC_GAN2_metrics=ABC_train_test2.test_generator(gen2,test_data,prior_model,variance,bias,\"1\",device)\n",
    "sb.glue(\"ABC_GAN_2 Metrics\",ABC_GAN2_metrics)\n",
    "\n",
    "print(\"MAE\")\n",
    "print(mean(ABC_GAN2_metrics[1]))"
   ]
  },
  {
   "cell_type": "code",
   "execution_count": 18,
   "id": "5b971672",
   "metadata": {
    "execution": {
     "iopub.execute_input": "2022-07-22T19:04:02.369710Z",
     "iopub.status.busy": "2022-07-22T19:04:02.368991Z",
     "iopub.status.idle": "2022-07-22T19:04:03.231225Z",
     "shell.execute_reply": "2022-07-22T19:04:03.229833Z"
    },
    "papermill": {
     "duration": 0.889161,
     "end_time": "2022-07-22T19:04:03.234055",
     "exception": false,
     "start_time": "2022-07-22T19:04:02.344894",
     "status": "completed"
    },
    "tags": []
   },
   "outputs": [
    {
     "data": {
      "image/png": "[encoded data removed]",
      "text/plain": [
       "<Figure size 432x288 with 1 Axes>"
      ]
     },
     "metadata": {
      "needs_background": "light"
     },
     "output_type": "display_data"
    },
    {
     "data": {
      "image/png": "[encoded data removed]",
      "text/plain": [
       "<Figure size 432x288 with 1 Axes>"
      ]
     },
     "metadata": {
      "needs_background": "light"
     },
     "output_type": "display_data"
    },
    {
     "data": {
      "image/png": "[encoded data removed]",
      "text/plain": [
       "<Figure size 432x288 with 1 Axes>"
      ]
     },
     "metadata": {
      "needs_background": "light"
     },
     "output_type": "display_data"
    },
    {
     "data": {
      "image/png": "[encoded data removed]",
      "text/plain": [
       "<Figure size 432x288 with 1 Axes>"
      ]
     },
     "metadata": {
      "needs_background": "light"
     },
     "output_type": "display_data"
    }
   ],
   "source": [
    "sanityChecks.discProbVsError(train_data,disc2,device)\n",
    "sanityChecks.discProbVsError(test_data,disc2,device)"
   ]
  },
  {
   "cell_type": "markdown",
   "id": "130f3a4d",
   "metadata": {
    "id": "130f3a4d",
    "papermill": {
     "duration": 0.020072,
     "end_time": "2022-07-22T19:04:03.275254",
     "exception": false,
     "start_time": "2022-07-22T19:04:03.255182",
     "status": "completed"
    },
    "tags": []
   },
   "source": [
    "# skipGAN Model"
   ]
  },
  {
   "cell_type": "code",
   "execution_count": 19,
   "id": "4e43dad1",
   "metadata": {
    "execution": {
     "iopub.execute_input": "2022-07-22T19:04:03.319582Z",
     "iopub.status.busy": "2022-07-22T19:04:03.319146Z",
     "iopub.status.idle": "2022-07-22T19:04:03.326966Z",
     "shell.execute_reply": "2022-07-22T19:04:03.325488Z"
    },
    "id": "4e43dad1",
    "papermill": {
     "duration": 0.036555,
     "end_time": "2022-07-22T19:04:03.330017",
     "exception": false,
     "start_time": "2022-07-22T19:04:03.293462",
     "status": "completed"
    },
    "tags": []
   },
   "outputs": [],
   "source": [
    "# #Generator\n",
    "# gen3 = network.GeneratorWithSkipConnection(n_features+1).to(device)\n",
    "# constraints=network.weightConstraint()\n",
    "# #Discriminator \n",
    "# disc3 = network.Discriminator(n_features+1).to(device)\n",
    "\n",
    "# criterion = torch.nn.BCELoss()\n",
    "# gen_opt = torch.optim.Adam(gen3.parameters(), lr=0.01, betas=(0.5, 0.999))\n",
    "# disc_opt = torch.optim.Adam(disc3.parameters(), lr=0.01, betas=(0.5, 0.999))\n"
   ]
  },
  {
   "cell_type": "markdown",
   "id": "be14cd49",
   "metadata": {
    "tags": [
     "papermill-error-cell-tag"
    ]
   },
   "source": [
    "<span id=\"papermill-error-cell\" style=\"color:red; font-family:Helvetica Neue, Helvetica, Arial, sans-serif; font-size:2em;\">Execution using papermill encountered an exception here and stopped:</span>"
   ]
  },
  {
   "cell_type": "code",
   "execution_count": 20,
   "id": "26acbc37",
   "metadata": {
    "execution": {
     "iopub.execute_input": "2022-07-22T19:04:03.376699Z",
     "iopub.status.busy": "2022-07-22T19:04:03.375870Z",
     "iopub.status.idle": "2022-07-22T19:04:04.223003Z",
     "shell.execute_reply": "2022-07-22T19:04:04.220225Z"
    },
    "id": "26acbc37",
    "papermill": {
     "duration": 0.882614,
     "end_time": "2022-07-22T19:04:04.236026",
     "exception": true,
     "start_time": "2022-07-22T19:04:03.353412",
     "status": "failed"
    },
    "tags": []
   },
   "outputs": [
    {
     "ename": "NameError",
     "evalue": "name 'disc3' is not defined",
     "output_type": "error",
     "traceback": [
      "\u001b[0;31m---------------------------------------------------------------------------\u001b[0m",
      "\u001b[0;31mNameError\u001b[0m                                 Traceback (most recent call last)",
      "Input \u001b[0;32mIn [20]\u001b[0m, in \u001b[0;36m<cell line: 1>\u001b[0;34m()\u001b[0m\n\u001b[0;32m----> 1\u001b[0m ABC_train_test2\u001b[38;5;241m.\u001b[39mtraining_GAN_skip_connection(\u001b[43mdisc3\u001b[49m,gen3,disc_opt,gen_opt,train_data,batch_size,n_epochs,criterion,prior_model,variance,bias,device)\n",
      "\u001b[0;31mNameError\u001b[0m: name 'disc3' is not defined"
     ]
    }
   ],
   "source": [
    "ABC_train_test2.training_GAN_skip_connection(disc3,gen3,disc_opt,gen_opt,train_data,batch_size,n_epochs,criterion,prior_model,variance,bias,device)"
   ]
  },
  {
   "cell_type": "code",
   "execution_count": null,
   "id": "c5e0717b",
   "metadata": {
    "id": "c5e0717b",
    "papermill": {
     "duration": null,
     "end_time": null,
     "exception": null,
     "start_time": null,
     "status": "pending"
    },
    "tags": []
   },
   "outputs": [],
   "source": [
    "# ABC_GAN3_metrics=ABC_train_test2.test_generator(gen3,test_data,prior_model,variance,bias,\"3\",device)\n",
    "# sb.glue(\"ABC_GAN_3 Metrics\",ABC_GAN3_metrics)\n",
    "\n",
    "# print(\"MAE\")\n",
    "# print(mean(ABC_GAN3_metrics[1]))"
   ]
  },
  {
   "cell_type": "code",
   "execution_count": null,
   "id": "c8e46b48",
   "metadata": {
    "id": "c8e46b48",
    "papermill": {
     "duration": null,
     "end_time": null,
     "exception": null,
     "start_time": null,
     "status": "pending"
    },
    "tags": []
   },
   "outputs": [],
   "source": [
    "# sanityChecks.discProbVsError(train_data,disc3,device)\n",
    "# sanityChecks.discProbVsError(test_data,disc3,device)"
   ]
  },
  {
   "cell_type": "markdown",
   "id": "ebfffe42",
   "metadata": {
    "id": "130f3a4d",
    "papermill": {
     "duration": null,
     "end_time": null,
     "exception": null,
     "start_time": null,
     "status": "pending"
    },
    "tags": []
   },
   "source": [
    "# skipGAN Model with TabNet Generator"
   ]
  },
  {
   "cell_type": "code",
   "execution_count": null,
   "id": "04a75bf0",
   "metadata": {
    "id": "4e43dad1",
    "papermill": {
     "duration": null,
     "end_time": null,
     "exception": null,
     "start_time": null,
     "status": "pending"
    },
    "tags": []
   },
   "outputs": [],
   "source": [
    "# #Generator\n",
    "# gen4 = network.GeneratorTabnetskipConnection(n_features+1).to(device)\n",
    "# constraints=network.weightConstraint()\n",
    "# #Discriminator \n",
    "# disc4 = network.Discriminator(n_features+1).to(device)\n",
    "\n",
    "# criterion = torch.nn.BCELoss()\n",
    "# gen_opt = torch.optim.Adam(gen4.parameters(), lr=0.01, betas=(0.5, 0.999))\n",
    "# disc_opt = torch.optim.Adam(disc4.parameters(), lr=0.01, betas=(0.5, 0.999))\n"
   ]
  },
  {
   "cell_type": "code",
   "execution_count": null,
   "id": "5f3ff843",
   "metadata": {
    "id": "26acbc37",
    "papermill": {
     "duration": null,
     "end_time": null,
     "exception": null,
     "start_time": null,
     "status": "pending"
    },
    "tags": []
   },
   "outputs": [],
   "source": [
    "# ABC_train_test2.training_GAN_skip_connection(disc4,gen4,disc_opt,gen_opt,train_data,batch_size,n_epochs,criterion,prior_model,variance,bias,device)"
   ]
  },
  {
   "cell_type": "code",
   "execution_count": null,
   "id": "5a1c5b8a",
   "metadata": {
    "id": "c5e0717b",
    "papermill": {
     "duration": null,
     "end_time": null,
     "exception": null,
     "start_time": null,
     "status": "pending"
    },
    "tags": []
   },
   "outputs": [],
   "source": [
    "# ABC_GAN4_metrics=ABC_train_test2.test_generator(gen4,test_data,prior_model,variance,bias,\"3\",device)\n",
    "# sb.glue(\"ABC_GAN_4 Metrics\",ABC_GAN4_metrics)\n",
    "\n",
    "# print(\"MAE\")\n",
    "# print(mean(ABC_GAN4_metrics[1]))"
   ]
  },
  {
   "cell_type": "code",
   "execution_count": null,
   "id": "daeeb9ed",
   "metadata": {
    "id": "c8e46b48",
    "papermill": {
     "duration": null,
     "end_time": null,
     "exception": null,
     "start_time": null,
     "status": "pending"
    },
    "tags": []
   },
   "outputs": [],
   "source": [
    "# sanityChecks.discProbVsError(train_data,disc4,device)\n",
    "# sanityChecks.discProbVsError(test_data,disc4,device)"
   ]
  },
  {
   "cell_type": "markdown",
   "id": "a5bd74c3",
   "metadata": {
    "id": "a5bd74c3",
    "papermill": {
     "duration": null,
     "end_time": null,
     "exception": null,
     "start_time": null,
     "status": "pending"
    },
    "tags": []
   },
   "source": [
    "## Skip Connection Model Analysis - ABC-GAN "
   ]
  },
  {
   "cell_type": "markdown",
   "id": "5744a8bf",
   "metadata": {
    "id": "5744a8bf",
    "papermill": {
     "duration": null,
     "end_time": null,
     "exception": null,
     "start_time": null,
     "status": "pending"
    },
    "tags": []
   },
   "source": [
    "### Weight Analysis \n",
    "\n",
    "Study the weights of the skip connection layer\n",
    "\n",
    "Equation of the skip connection is \n",
    "\n",
    "$output = y_{gan} * w + y_{abc} * (1-w)$"
   ]
  },
  {
   "cell_type": "code",
   "execution_count": null,
   "id": "52c31dea",
   "metadata": {
    "id": "52c31dea",
    "papermill": {
     "duration": null,
     "end_time": null,
     "exception": null,
     "start_time": null,
     "status": "pending"
    },
    "tags": []
   },
   "outputs": [],
   "source": [
    "# print(\"Weight of the node at skip connection\")\n",
    "# for name,param in gen3.named_parameters():\n",
    "#     if(name == \"skipNode.weight\"):\n",
    "#         print(param)\n",
    "#         sb.glue(\"Skip Connection Weight\",param.item())"
   ]
  },
  {
   "cell_type": "markdown",
   "id": "6dfc83ab",
   "metadata": {
    "id": "a5bd74c3",
    "papermill": {
     "duration": null,
     "end_time": null,
     "exception": null,
     "start_time": null,
     "status": "pending"
    },
    "tags": []
   },
   "source": [
    "## skipGAN Model Analysis (TabNet Generator) "
   ]
  },
  {
   "cell_type": "markdown",
   "id": "8790552c",
   "metadata": {
    "id": "5744a8bf",
    "papermill": {
     "duration": null,
     "end_time": null,
     "exception": null,
     "start_time": null,
     "status": "pending"
    },
    "tags": []
   },
   "source": [
    "### Weight Analysis \n",
    "\n",
    "Study the weights of the skip connection layer\n",
    "\n",
    "Equation of the skip connection is \n",
    "\n",
    "$output = y_{gan} * w + y_{abc} * (1-w)$"
   ]
  },
  {
   "cell_type": "code",
   "execution_count": null,
   "id": "9379deec",
   "metadata": {
    "id": "52c31dea",
    "papermill": {
     "duration": null,
     "end_time": null,
     "exception": null,
     "start_time": null,
     "status": "pending"
    },
    "tags": []
   },
   "outputs": [],
   "source": [
    "# print(\"Weight of the node at skip connection\")\n",
    "# for name,param in gen4.named_parameters():\n",
    "#     if(name == \"skipNode.weight\"):\n",
    "#         print(param)\n",
    "#         sb.glue(\"Skip Connection Weight\",param.item())"
   ]
  }
 ],
 "metadata": {
  "colab": {
   "collapsed_sections": [],
   "name": "ABC_GAN_Model-Catboost_Pre-gen.ipynb",
   "provenance": []
  },
  "interpreter": {
   "hash": "31f2aee4e71d21fbe5cf8b01ff0e069b9275f58929596ceb00d14d90e3e16cd6"
  },
  "kernelspec": {
   "display_name": "Python 3 (ipykernel)",
   "language": "python",
   "name": "python3"
  },
  "language_info": {
   "codemirror_mode": {
    "name": "ipython",
    "version": 3
   },
   "file_extension": ".py",
   "mimetype": "text/x-python",
   "name": "python",
   "nbconvert_exporter": "python",
   "pygments_lexer": "ipython3",
   "version": "3.8.13"
  },
  "papermill": {
   "default_parameters": {},
   "duration": 647.055898,
   "end_time": "2022-07-22T19:04:05.267782",
   "environment_variables": {},
   "exception": true,
   "input_path": "ABC_GAN-Catboost.ipynb",
   "output_path": "./ABC_GAN_Catboost/ABC-GAN_output_1_6.ipynb",
   "parameters": {
    "bias": 0.01,
    "variance": 1
   },
   "start_time": "2022-07-22T18:53:18.211884",
   "version": "2.3.3"
  }
 },
 "nbformat": 4,
 "nbformat_minor": 5
}