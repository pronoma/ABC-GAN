{
 "cells": [
  {
   "cell_type": "markdown",
   "id": "64cf0f69",
   "metadata": {
    "tags": [
     "papermill-error-cell-tag"
    ]
   },
   "source": [
    "<span style=\"color:red; font-family:Helvetica Neue, Helvetica, Arial, sans-serif; font-size:2em;\">An Exception was encountered at '<a href=\"#papermill-error-cell\">In [20]</a>'.</span>"
   ]
  },
  {
   "cell_type": "markdown",
   "id": "622780e6",
   "metadata": {
    "id": "622780e6",
    "papermill": {
     "duration": 0.010389,
     "end_time": "2022-07-22T20:54:08.130628",
     "exception": false,
     "start_time": "2022-07-22T20:54:08.120239",
     "status": "completed"
    },
    "tags": []
   },
   "source": [
    "## Import Libraries "
   ]
  },
  {
   "cell_type": "code",
   "execution_count": 1,
   "id": "a62397e3",
   "metadata": {
    "execution": {
     "iopub.execute_input": "2022-07-22T20:54:08.174111Z",
     "iopub.status.busy": "2022-07-22T20:54:08.173123Z",
     "iopub.status.idle": "2022-07-22T20:54:08.189012Z",
     "shell.execute_reply": "2022-07-22T20:54:08.186599Z"
    },
    "id": "a62397e3",
    "papermill": {
     "duration": 0.063577,
     "end_time": "2022-07-22T20:54:08.201888",
     "exception": false,
     "start_time": "2022-07-22T20:54:08.138311",
     "status": "completed"
    },
    "tags": []
   },
   "outputs": [],
   "source": [
    "import warnings\n",
    "import sys\n",
    "sys.path.insert(0, '../../src')\n",
    "warnings.filterwarnings('ignore')"
   ]
  },
  {
   "cell_type": "code",
   "execution_count": 2,
   "id": "d6a4e155",
   "metadata": {
    "execution": {
     "iopub.execute_input": "2022-07-22T20:54:08.223872Z",
     "iopub.status.busy": "2022-07-22T20:54:08.222736Z",
     "iopub.status.idle": "2022-07-22T20:54:15.229888Z",
     "shell.execute_reply": "2022-07-22T20:54:15.228946Z"
    },
    "id": "d6a4e155",
    "papermill": {
     "duration": 7.024137,
     "end_time": "2022-07-22T20:54:15.234715",
     "exception": false,
     "start_time": "2022-07-22T20:54:08.210578",
     "status": "completed"
    },
    "tags": []
   },
   "outputs": [],
   "source": [
    "import ABC_train_test2\n",
    "import bostonDataset\n",
    "import network\n",
    "import dataset\n",
    "import sanityChecks\n",
    "import torch \n",
    "import scrapbook as sb\n",
    "from statistics import mean \n",
    "import catboost as ctb \n",
    "from sklearn.model_selection import train_test_split\n",
    "from sklearn.metrics import mean_squared_error,mean_absolute_error\n",
    "import numpy as np"
   ]
  },
  {
   "cell_type": "markdown",
   "id": "2fa5b0f7",
   "metadata": {
    "id": "2fa5b0f7",
    "papermill": {
     "duration": 0.008715,
     "end_time": "2022-07-22T20:54:15.256029",
     "exception": false,
     "start_time": "2022-07-22T20:54:15.247314",
     "status": "completed"
    },
    "tags": []
   },
   "source": [
    "## Parameters "
   ]
  },
  {
   "cell_type": "code",
   "execution_count": 3,
   "id": "783186fb",
   "metadata": {
    "execution": {
     "iopub.execute_input": "2022-07-22T20:54:15.276480Z",
     "iopub.status.busy": "2022-07-22T20:54:15.276113Z",
     "iopub.status.idle": "2022-07-22T20:54:15.289299Z",
     "shell.execute_reply": "2022-07-22T20:54:15.287092Z"
    },
    "id": "783186fb",
    "papermill": {
     "duration": 0.02926,
     "end_time": "2022-07-22T20:54:15.293103",
     "exception": false,
     "start_time": "2022-07-22T20:54:15.263843",
     "status": "completed"
    },
    "tags": [
     "parameters"
    ]
   },
   "outputs": [],
   "source": [
    "variance = 1\n",
    "bias = 1 "
   ]
  },
  {
   "cell_type": "code",
   "execution_count": 4,
   "id": "88366876",
   "metadata": {
    "execution": {
     "iopub.execute_input": "2022-07-22T20:54:15.314458Z",
     "iopub.status.busy": "2022-07-22T20:54:15.312369Z",
     "iopub.status.idle": "2022-07-22T20:54:15.346502Z",
     "shell.execute_reply": "2022-07-22T20:54:15.320339Z"
    },
    "papermill": {
     "duration": 0.048752,
     "end_time": "2022-07-22T20:54:15.351708",
     "exception": false,
     "start_time": "2022-07-22T20:54:15.302956",
     "status": "completed"
    },
    "tags": [
     "injected-parameters"
    ]
   },
   "outputs": [],
   "source": [
    "# Parameters\n",
    "variance = 0.01\n",
    "bias = 0.1\n"
   ]
  },
  {
   "cell_type": "markdown",
   "id": "391cdbfd",
   "metadata": {
    "id": "391cdbfd",
    "papermill": {
     "duration": 0.022127,
     "end_time": "2022-07-22T20:54:15.381462",
     "exception": false,
     "start_time": "2022-07-22T20:54:15.359335",
     "status": "completed"
    },
    "tags": []
   },
   "source": [
    "## Dataset \n"
   ]
  },
  {
   "cell_type": "code",
   "execution_count": 5,
   "id": "5b51f161",
   "metadata": {
    "execution": {
     "iopub.execute_input": "2022-07-22T20:54:15.407866Z",
     "iopub.status.busy": "2022-07-22T20:54:15.407233Z",
     "iopub.status.idle": "2022-07-22T20:54:15.416980Z",
     "shell.execute_reply": "2022-07-22T20:54:15.414808Z"
    },
    "id": "5b51f161",
    "papermill": {
     "duration": 0.046539,
     "end_time": "2022-07-22T20:54:15.439026",
     "exception": false,
     "start_time": "2022-07-22T20:54:15.392487",
     "status": "completed"
    },
    "tags": []
   },
   "outputs": [],
   "source": [
    "#Parameters \n",
    "n_features = 13\n",
    "n_samples= 506\n",
    "n_target = 1 "
   ]
  },
  {
   "cell_type": "code",
   "execution_count": 6,
   "id": "5d6eced4",
   "metadata": {
    "execution": {
     "iopub.execute_input": "2022-07-22T20:54:15.460913Z",
     "iopub.status.busy": "2022-07-22T20:54:15.459699Z",
     "iopub.status.idle": "2022-07-22T20:54:15.495724Z",
     "shell.execute_reply": "2022-07-22T20:54:15.494231Z"
    },
    "id": "5d6eced4",
    "papermill": {
     "duration": 0.063122,
     "end_time": "2022-07-22T20:54:15.509880",
     "exception": false,
     "start_time": "2022-07-22T20:54:15.446758",
     "status": "completed"
    },
    "tags": []
   },
   "outputs": [
    {
     "name": "stdout",
     "output_type": "stream",
     "text": [
      "         X1        X2        X3        X4        X5        X6        X7  \\\n",
      "0 -0.419782  0.284830 -1.287909 -0.272599 -0.144217  0.413672 -0.120013   \n",
      "1 -0.417339 -0.487722 -0.593381 -0.272599 -0.740262  0.194274  0.367166   \n",
      "2 -0.417342 -0.487722 -0.593381 -0.272599 -0.740262  1.282714 -0.265812   \n",
      "3 -0.416750 -0.487722 -1.306878 -0.272599 -0.835284  1.016303 -0.809889   \n",
      "4 -0.412482 -0.487722 -1.306878 -0.272599 -0.835284  1.228577 -0.511180   \n",
      "\n",
      "         X8        X9       X10       X11       X12       X13         Y  \n",
      "0  0.140214 -0.982843 -0.666608 -1.459000  0.441052 -1.075562  0.159686  \n",
      "1  0.557160 -0.867883 -0.987329 -0.303094  0.441052 -0.492439 -0.101524  \n",
      "2  0.557160 -0.867883 -0.987329 -0.303094  0.396427 -1.208727  1.324247  \n",
      "3  1.077737 -0.752922 -1.106115  0.113032  0.416163 -1.361517  1.182758  \n",
      "4  1.077737 -0.752922 -1.106115  0.113032  0.441052 -1.026501  1.487503  \n"
     ]
    }
   ],
   "source": [
    "X,Y = bostonDataset.boston_data()"
   ]
  },
  {
   "cell_type": "code",
   "execution_count": 7,
   "id": "fe007438",
   "metadata": {
    "execution": {
     "iopub.execute_input": "2022-07-22T20:54:15.564663Z",
     "iopub.status.busy": "2022-07-22T20:54:15.563710Z",
     "iopub.status.idle": "2022-07-22T20:54:15.570466Z",
     "shell.execute_reply": "2022-07-22T20:54:15.569172Z"
    },
    "id": "fe007438",
    "papermill": {
     "duration": 0.076608,
     "end_time": "2022-07-22T20:54:15.596001",
     "exception": false,
     "start_time": "2022-07-22T20:54:15.519393",
     "status": "completed"
    },
    "tags": []
   },
   "outputs": [],
   "source": [
    "#Train test split for dataset \n",
    "X_train,X_test,Y_train,Y_test = train_test_split(X,Y,test_size = 0.2)\n",
    "train_data = dataset.CustomDataset(X_train,Y_train)\n",
    "test_data = dataset.CustomDataset(X_test,Y_test)\n"
   ]
  },
  {
   "cell_type": "markdown",
   "id": "a9a1af34",
   "metadata": {
    "id": "a9a1af34",
    "papermill": {
     "duration": 0.010955,
     "end_time": "2022-07-22T20:54:15.622071",
     "exception": false,
     "start_time": "2022-07-22T20:54:15.611116",
     "status": "completed"
    },
    "tags": []
   },
   "source": [
    "## Training Parameters "
   ]
  },
  {
   "cell_type": "code",
   "execution_count": 8,
   "id": "952b7fc8",
   "metadata": {
    "execution": {
     "iopub.execute_input": "2022-07-22T20:54:15.692819Z",
     "iopub.status.busy": "2022-07-22T20:54:15.692094Z",
     "iopub.status.idle": "2022-07-22T20:54:15.696920Z",
     "shell.execute_reply": "2022-07-22T20:54:15.696030Z"
    },
    "id": "952b7fc8",
    "papermill": {
     "duration": 0.075261,
     "end_time": "2022-07-22T20:54:15.710176",
     "exception": false,
     "start_time": "2022-07-22T20:54:15.634915",
     "status": "completed"
    },
    "tags": []
   },
   "outputs": [],
   "source": [
    "batch_size = 32\n",
    "n_epochs = 1000\n",
    "#Select the device \n",
    "device = torch.device('cuda' if torch.cuda.is_available() else 'cpu')"
   ]
  },
  {
   "cell_type": "markdown",
   "id": "a95e1600",
   "metadata": {
    "id": "a95e1600",
    "papermill": {
     "duration": 0.012128,
     "end_time": "2022-07-22T20:54:15.731917",
     "exception": false,
     "start_time": "2022-07-22T20:54:15.719789",
     "status": "completed"
    },
    "tags": []
   },
   "source": [
    "# ABC Pre-generator Model \n",
    "\n",
    "1. The catboost model is used as a pre-generator model for the ABC-GAN. \n",
    "2. The model is first trained on the entire dataset \n",
    "3. It generats X,Y pairs and we add some Gaussian noise with mean 0 and variance 1 to it which is then feed as input to the generator.\n"
   ]
  },
  {
   "cell_type": "code",
   "execution_count": 9,
   "id": "ff8ce7bd",
   "metadata": {
    "execution": {
     "iopub.execute_input": "2022-07-22T20:54:15.785300Z",
     "iopub.status.busy": "2022-07-22T20:54:15.783965Z",
     "iopub.status.idle": "2022-07-22T20:54:19.789817Z",
     "shell.execute_reply": "2022-07-22T20:54:19.789041Z"
    },
    "id": "ff8ce7bd",
    "papermill": {
     "duration": 4.036462,
     "end_time": "2022-07-22T20:54:19.792414",
     "exception": false,
     "start_time": "2022-07-22T20:54:15.755952",
     "status": "completed"
    },
    "tags": []
   },
   "outputs": [
    {
     "name": "stdout",
     "output_type": "stream",
     "text": [
      "Learning rate set to 0.03548\n",
      "0:\tlearn: 0.9627897\ttotal: 62.2ms\tremaining: 1m 2s\n",
      "1:\tlearn: 0.9436887\ttotal: 77.3ms\tremaining: 38.5s\n",
      "2:\tlearn: 0.9219441\ttotal: 79.6ms\tremaining: 26.5s\n",
      "3:\tlearn: 0.9044463\ttotal: 82.4ms\tremaining: 20.5s\n",
      "4:\tlearn: 0.8881674\ttotal: 85.1ms\tremaining: 16.9s\n",
      "5:\tlearn: 0.8710393\ttotal: 87.5ms\tremaining: 14.5s\n",
      "6:\tlearn: 0.8534136\ttotal: 90ms\tremaining: 12.8s\n",
      "7:\tlearn: 0.8369688\ttotal: 91.8ms\tremaining: 11.4s\n",
      "8:\tlearn: 0.8221679\ttotal: 93.7ms\tremaining: 10.3s\n",
      "9:\tlearn: 0.8049327\ttotal: 95.9ms\tremaining: 9.5s\n",
      "10:\tlearn: 0.7890601\ttotal: 98.5ms\tremaining: 8.86s\n",
      "11:\tlearn: 0.7753996\ttotal: 101ms\tremaining: 8.32s\n",
      "12:\tlearn: 0.7621246\ttotal: 106ms\tremaining: 8.02s\n",
      "13:\tlearn: 0.7464985\ttotal: 109ms\tremaining: 7.65s\n",
      "14:\tlearn: 0.7336208\ttotal: 113ms\tremaining: 7.41s\n",
      "15:\tlearn: 0.7196212\ttotal: 116ms\tremaining: 7.12s\n",
      "16:\tlearn: 0.7080930\ttotal: 122ms\tremaining: 7.06s\n",
      "17:\tlearn: 0.6954841\ttotal: 125ms\tremaining: 6.8s\n",
      "18:\tlearn: 0.6822638\ttotal: 127ms\tremaining: 6.57s\n",
      "19:\tlearn: 0.6699498\ttotal: 130ms\tremaining: 6.37s\n",
      "20:\tlearn: 0.6574392\ttotal: 133ms\tremaining: 6.18s\n",
      "21:\tlearn: 0.6465647\ttotal: 135ms\tremaining: 6.01s\n",
      "22:\tlearn: 0.6363097\ttotal: 138ms\tremaining: 5.85s\n",
      "23:\tlearn: 0.6266602\ttotal: 140ms\tremaining: 5.71s\n",
      "24:\tlearn: 0.6166828\ttotal: 143ms\tremaining: 5.57s\n",
      "25:\tlearn: 0.6084996\ttotal: 145ms\tremaining: 5.44s\n",
      "26:\tlearn: 0.5988424\ttotal: 148ms\tremaining: 5.32s\n",
      "27:\tlearn: 0.5899678\ttotal: 151ms\tremaining: 5.24s\n",
      "28:\tlearn: 0.5815581\ttotal: 153ms\tremaining: 5.13s\n",
      "29:\tlearn: 0.5706522\ttotal: 156ms\tremaining: 5.04s\n",
      "30:\tlearn: 0.5611307\ttotal: 159ms\tremaining: 4.96s\n",
      "31:\tlearn: 0.5527757\ttotal: 161ms\tremaining: 4.87s\n",
      "32:\tlearn: 0.5457452\ttotal: 164ms\tremaining: 4.79s\n",
      "33:\tlearn: 0.5390310\ttotal: 166ms\tremaining: 4.71s\n",
      "34:\tlearn: 0.5315282\ttotal: 167ms\tremaining: 4.61s\n",
      "35:\tlearn: 0.5241779\ttotal: 169ms\tremaining: 4.53s\n",
      "36:\tlearn: 0.5179354\ttotal: 172ms\tremaining: 4.47s\n",
      "37:\tlearn: 0.5103035\ttotal: 174ms\tremaining: 4.4s\n"
     ]
    },
    {
     "name": "stdout",
     "output_type": "stream",
     "text": [
      "38:\tlearn: 0.5031822\ttotal: 176ms\tremaining: 4.33s\n",
      "39:\tlearn: 0.4951184\ttotal: 179ms\tremaining: 4.29s\n",
      "40:\tlearn: 0.4890524\ttotal: 181ms\tremaining: 4.22s\n",
      "41:\tlearn: 0.4817656\ttotal: 183ms\tremaining: 4.17s\n",
      "42:\tlearn: 0.4761171\ttotal: 185ms\tremaining: 4.12s\n",
      "43:\tlearn: 0.4707469\ttotal: 188ms\tremaining: 4.09s\n",
      "44:\tlearn: 0.4654419\ttotal: 192ms\tremaining: 4.07s\n",
      "45:\tlearn: 0.4595440\ttotal: 195ms\tremaining: 4.05s\n",
      "46:\tlearn: 0.4535140\ttotal: 200ms\tremaining: 4.06s\n",
      "47:\tlearn: 0.4474062\ttotal: 204ms\tremaining: 4.05s\n",
      "48:\tlearn: 0.4421659\ttotal: 207ms\tremaining: 4.02s\n",
      "49:\tlearn: 0.4381998\ttotal: 210ms\tremaining: 3.99s\n",
      "50:\tlearn: 0.4327399\ttotal: 213ms\tremaining: 3.96s\n",
      "51:\tlearn: 0.4280946\ttotal: 215ms\tremaining: 3.92s\n",
      "52:\tlearn: 0.4229998\ttotal: 218ms\tremaining: 3.89s\n",
      "53:\tlearn: 0.4194403\ttotal: 219ms\tremaining: 3.83s\n",
      "54:\tlearn: 0.4156736\ttotal: 223ms\tremaining: 3.83s\n",
      "55:\tlearn: 0.4112652\ttotal: 226ms\tremaining: 3.81s\n",
      "56:\tlearn: 0.4074236\ttotal: 228ms\tremaining: 3.77s\n",
      "57:\tlearn: 0.4034779\ttotal: 231ms\tremaining: 3.75s\n",
      "58:\tlearn: 0.3997596\ttotal: 234ms\tremaining: 3.73s\n",
      "59:\tlearn: 0.3968700\ttotal: 236ms\tremaining: 3.7s\n",
      "60:\tlearn: 0.3933674\ttotal: 239ms\tremaining: 3.68s\n",
      "61:\tlearn: 0.3900536\ttotal: 242ms\tremaining: 3.66s\n",
      "62:\tlearn: 0.3852994\ttotal: 244ms\tremaining: 3.63s\n",
      "63:\tlearn: 0.3824349\ttotal: 248ms\tremaining: 3.62s\n",
      "64:\tlearn: 0.3797313\ttotal: 250ms\tremaining: 3.6s\n",
      "65:\tlearn: 0.3758129\ttotal: 252ms\tremaining: 3.57s\n",
      "66:\tlearn: 0.3725113\ttotal: 255ms\tremaining: 3.55s\n",
      "67:\tlearn: 0.3693626\ttotal: 257ms\tremaining: 3.52s\n",
      "68:\tlearn: 0.3665702\ttotal: 260ms\tremaining: 3.5s\n",
      "69:\tlearn: 0.3623075\ttotal: 262ms\tremaining: 3.48s\n",
      "70:\tlearn: 0.3594661\ttotal: 266ms\tremaining: 3.48s\n",
      "71:\tlearn: 0.3559471\ttotal: 269ms\tremaining: 3.47s\n",
      "72:\tlearn: 0.3532754\ttotal: 272ms\tremaining: 3.45s\n",
      "73:\tlearn: 0.3497979\ttotal: 274ms\tremaining: 3.43s\n",
      "74:\tlearn: 0.3474436\ttotal: 280ms\tremaining: 3.45s\n",
      "75:\tlearn: 0.3441541\ttotal: 283ms\tremaining: 3.43s\n",
      "76:\tlearn: 0.3413780\ttotal: 285ms\tremaining: 3.42s\n",
      "77:\tlearn: 0.3383156\ttotal: 287ms\tremaining: 3.39s\n",
      "78:\tlearn: 0.3355075\ttotal: 289ms\tremaining: 3.37s\n",
      "79:\tlearn: 0.3337461\ttotal: 291ms\tremaining: 3.35s\n",
      "80:\tlearn: 0.3316780\ttotal: 293ms\tremaining: 3.33s\n",
      "81:\tlearn: 0.3286725\ttotal: 295ms\tremaining: 3.3s\n",
      "82:\tlearn: 0.3260979\ttotal: 297ms\tremaining: 3.28s\n",
      "83:\tlearn: 0.3240756\ttotal: 299ms\tremaining: 3.26s\n",
      "84:\tlearn: 0.3218875\ttotal: 301ms\tremaining: 3.24s\n",
      "85:\tlearn: 0.3194749\ttotal: 304ms\tremaining: 3.23s\n",
      "86:\tlearn: 0.3175063\ttotal: 307ms\tremaining: 3.22s\n",
      "87:\tlearn: 0.3151040\ttotal: 309ms\tremaining: 3.2s\n",
      "88:\tlearn: 0.3126077\ttotal: 312ms\tremaining: 3.19s\n",
      "89:\tlearn: 0.3107723\ttotal: 317ms\tremaining: 3.21s\n",
      "90:\tlearn: 0.3089424\ttotal: 319ms\tremaining: 3.19s\n",
      "91:\tlearn: 0.3071206\ttotal: 322ms\tremaining: 3.18s\n",
      "92:\tlearn: 0.3049798\ttotal: 324ms\tremaining: 3.16s\n",
      "93:\tlearn: 0.3029988\ttotal: 329ms\tremaining: 3.17s\n"
     ]
    },
    {
     "name": "stdout",
     "output_type": "stream",
     "text": [
      "94:\tlearn: 0.3015255\ttotal: 334ms\tremaining: 3.18s\n",
      "95:\tlearn: 0.2997957\ttotal: 336ms\tremaining: 3.17s\n",
      "96:\tlearn: 0.2980029\ttotal: 339ms\tremaining: 3.15s\n",
      "97:\tlearn: 0.2959147\ttotal: 341ms\tremaining: 3.14s\n",
      "98:\tlearn: 0.2944851\ttotal: 344ms\tremaining: 3.13s\n",
      "99:\tlearn: 0.2929403\ttotal: 347ms\tremaining: 3.12s\n",
      "100:\tlearn: 0.2913766\ttotal: 349ms\tremaining: 3.11s\n",
      "101:\tlearn: 0.2898371\ttotal: 352ms\tremaining: 3.1s\n",
      "102:\tlearn: 0.2884760\ttotal: 354ms\tremaining: 3.08s\n",
      "103:\tlearn: 0.2873112\ttotal: 356ms\tremaining: 3.07s\n",
      "104:\tlearn: 0.2861211\ttotal: 359ms\tremaining: 3.06s\n",
      "105:\tlearn: 0.2847174\ttotal: 361ms\tremaining: 3.05s\n",
      "106:\tlearn: 0.2834613\ttotal: 364ms\tremaining: 3.04s\n",
      "107:\tlearn: 0.2817789\ttotal: 367ms\tremaining: 3.03s\n",
      "108:\tlearn: 0.2803571\ttotal: 369ms\tremaining: 3.02s\n",
      "109:\tlearn: 0.2793158\ttotal: 372ms\tremaining: 3.01s\n",
      "110:\tlearn: 0.2776181\ttotal: 374ms\tremaining: 3s\n",
      "111:\tlearn: 0.2764494\ttotal: 377ms\tremaining: 2.99s\n",
      "112:\tlearn: 0.2751349\ttotal: 379ms\tremaining: 2.97s\n",
      "113:\tlearn: 0.2734547\ttotal: 382ms\tremaining: 2.97s\n",
      "114:\tlearn: 0.2721520\ttotal: 387ms\tremaining: 2.98s\n",
      "115:\tlearn: 0.2710375\ttotal: 397ms\tremaining: 3.02s\n",
      "116:\tlearn: 0.2696212\ttotal: 402ms\tremaining: 3.03s\n",
      "117:\tlearn: 0.2684492\ttotal: 404ms\tremaining: 3.02s\n",
      "118:\tlearn: 0.2673290\ttotal: 407ms\tremaining: 3.01s\n",
      "119:\tlearn: 0.2666179\ttotal: 409ms\tremaining: 3s\n",
      "120:\tlearn: 0.2656139\ttotal: 411ms\tremaining: 2.99s\n",
      "121:\tlearn: 0.2648165\ttotal: 416ms\tremaining: 3s\n",
      "122:\tlearn: 0.2636802\ttotal: 419ms\tremaining: 2.99s\n",
      "123:\tlearn: 0.2622080\ttotal: 424ms\tremaining: 3s\n",
      "124:\tlearn: 0.2615987\ttotal: 427ms\tremaining: 2.99s\n",
      "125:\tlearn: 0.2605577\ttotal: 430ms\tremaining: 2.98s\n",
      "126:\tlearn: 0.2590913\ttotal: 433ms\tremaining: 2.98s\n",
      "127:\tlearn: 0.2579544\ttotal: 434ms\tremaining: 2.96s\n",
      "128:\tlearn: 0.2565430\ttotal: 437ms\tremaining: 2.95s\n",
      "129:\tlearn: 0.2555937\ttotal: 439ms\tremaining: 2.94s\n",
      "130:\tlearn: 0.2547137\ttotal: 442ms\tremaining: 2.93s\n",
      "131:\tlearn: 0.2535677\ttotal: 445ms\tremaining: 2.93s\n",
      "132:\tlearn: 0.2527648\ttotal: 448ms\tremaining: 2.92s\n",
      "133:\tlearn: 0.2518122\ttotal: 450ms\tremaining: 2.9s\n",
      "134:\tlearn: 0.2510962\ttotal: 459ms\tremaining: 2.94s\n",
      "135:\tlearn: 0.2503757\ttotal: 470ms\tremaining: 2.99s\n",
      "136:\tlearn: 0.2493992\ttotal: 472ms\tremaining: 2.98s\n",
      "137:\tlearn: 0.2483315\ttotal: 475ms\tremaining: 2.97s\n",
      "138:\tlearn: 0.2471630\ttotal: 478ms\tremaining: 2.96s\n",
      "139:\tlearn: 0.2465647\ttotal: 479ms\tremaining: 2.94s\n",
      "140:\tlearn: 0.2455289\ttotal: 482ms\tremaining: 2.93s\n",
      "141:\tlearn: 0.2449890\ttotal: 484ms\tremaining: 2.92s\n",
      "142:\tlearn: 0.2440401\ttotal: 487ms\tremaining: 2.92s\n",
      "143:\tlearn: 0.2438421\ttotal: 488ms\tremaining: 2.9s\n"
     ]
    },
    {
     "name": "stdout",
     "output_type": "stream",
     "text": [
      "144:\tlearn: 0.2425224\ttotal: 493ms\tremaining: 2.9s\n",
      "145:\tlearn: 0.2416963\ttotal: 496ms\tremaining: 2.9s\n",
      "146:\tlearn: 0.2412740\ttotal: 499ms\tremaining: 2.89s\n",
      "147:\tlearn: 0.2402432\ttotal: 500ms\tremaining: 2.88s\n",
      "148:\tlearn: 0.2395836\ttotal: 503ms\tremaining: 2.87s\n",
      "149:\tlearn: 0.2383652\ttotal: 505ms\tremaining: 2.86s\n",
      "150:\tlearn: 0.2375726\ttotal: 508ms\tremaining: 2.86s\n",
      "151:\tlearn: 0.2368035\ttotal: 511ms\tremaining: 2.85s\n",
      "152:\tlearn: 0.2361820\ttotal: 513ms\tremaining: 2.84s\n",
      "153:\tlearn: 0.2352737\ttotal: 515ms\tremaining: 2.83s\n",
      "154:\tlearn: 0.2347638\ttotal: 518ms\tremaining: 2.82s\n",
      "155:\tlearn: 0.2342780\ttotal: 520ms\tremaining: 2.81s\n",
      "156:\tlearn: 0.2335518\ttotal: 523ms\tremaining: 2.81s\n",
      "157:\tlearn: 0.2327591\ttotal: 525ms\tremaining: 2.8s\n",
      "158:\tlearn: 0.2318992\ttotal: 528ms\tremaining: 2.79s\n",
      "159:\tlearn: 0.2314314\ttotal: 531ms\tremaining: 2.79s\n",
      "160:\tlearn: 0.2306334\ttotal: 533ms\tremaining: 2.78s\n",
      "161:\tlearn: 0.2299116\ttotal: 536ms\tremaining: 2.77s\n",
      "162:\tlearn: 0.2286343\ttotal: 539ms\tremaining: 2.77s\n",
      "163:\tlearn: 0.2284816\ttotal: 540ms\tremaining: 2.75s\n",
      "164:\tlearn: 0.2277778\ttotal: 542ms\tremaining: 2.74s\n",
      "165:\tlearn: 0.2270755\ttotal: 544ms\tremaining: 2.73s\n",
      "166:\tlearn: 0.2263811\ttotal: 545ms\tremaining: 2.72s\n",
      "167:\tlearn: 0.2254686\ttotal: 547ms\tremaining: 2.71s\n",
      "168:\tlearn: 0.2246287\ttotal: 550ms\tremaining: 2.71s\n",
      "169:\tlearn: 0.2239943\ttotal: 553ms\tremaining: 2.7s\n",
      "170:\tlearn: 0.2232218\ttotal: 555ms\tremaining: 2.69s\n",
      "171:\tlearn: 0.2223227\ttotal: 557ms\tremaining: 2.68s\n",
      "172:\tlearn: 0.2216933\ttotal: 559ms\tremaining: 2.67s\n",
      "173:\tlearn: 0.2210917\ttotal: 562ms\tremaining: 2.67s\n",
      "174:\tlearn: 0.2205372\ttotal: 565ms\tremaining: 2.66s\n",
      "175:\tlearn: 0.2202347\ttotal: 567ms\tremaining: 2.65s\n",
      "176:\tlearn: 0.2193025\ttotal: 570ms\tremaining: 2.65s\n",
      "177:\tlearn: 0.2186780\ttotal: 572ms\tremaining: 2.64s\n",
      "178:\tlearn: 0.2182198\ttotal: 574ms\tremaining: 2.63s\n",
      "179:\tlearn: 0.2173851\ttotal: 577ms\tremaining: 2.63s\n",
      "180:\tlearn: 0.2165653\ttotal: 579ms\tremaining: 2.62s\n",
      "181:\tlearn: 0.2161083\ttotal: 582ms\tremaining: 2.62s\n",
      "182:\tlearn: 0.2152931\ttotal: 584ms\tremaining: 2.61s\n",
      "183:\tlearn: 0.2146946\ttotal: 587ms\tremaining: 2.6s\n",
      "184:\tlearn: 0.2144621\ttotal: 590ms\tremaining: 2.6s\n",
      "185:\tlearn: 0.2137712\ttotal: 592ms\tremaining: 2.59s\n",
      "186:\tlearn: 0.2132544\ttotal: 594ms\tremaining: 2.58s\n",
      "187:\tlearn: 0.2126543\ttotal: 597ms\tremaining: 2.58s\n",
      "188:\tlearn: 0.2122207\ttotal: 599ms\tremaining: 2.57s\n",
      "189:\tlearn: 0.2112408\ttotal: 602ms\tremaining: 2.57s\n",
      "190:\tlearn: 0.2105883\ttotal: 604ms\tremaining: 2.56s\n",
      "191:\tlearn: 0.2100303\ttotal: 606ms\tremaining: 2.55s\n",
      "192:\tlearn: 0.2094899\ttotal: 609ms\tremaining: 2.55s\n",
      "193:\tlearn: 0.2088462\ttotal: 612ms\tremaining: 2.54s\n",
      "194:\tlearn: 0.2081171\ttotal: 614ms\tremaining: 2.54s\n",
      "195:\tlearn: 0.2074730\ttotal: 617ms\tremaining: 2.53s\n",
      "196:\tlearn: 0.2072010\ttotal: 619ms\tremaining: 2.52s\n",
      "197:\tlearn: 0.2066783\ttotal: 622ms\tremaining: 2.52s\n",
      "198:\tlearn: 0.2063913\ttotal: 624ms\tremaining: 2.51s\n",
      "199:\tlearn: 0.2058293\ttotal: 627ms\tremaining: 2.51s\n",
      "200:\tlearn: 0.2051914\ttotal: 630ms\tremaining: 2.5s\n",
      "201:\tlearn: 0.2049683\ttotal: 632ms\tremaining: 2.5s\n",
      "202:\tlearn: 0.2044996\ttotal: 635ms\tremaining: 2.49s\n",
      "203:\tlearn: 0.2039936\ttotal: 637ms\tremaining: 2.48s\n",
      "204:\tlearn: 0.2036363\ttotal: 640ms\tremaining: 2.48s\n",
      "205:\tlearn: 0.2035265\ttotal: 642ms\tremaining: 2.47s\n",
      "206:\tlearn: 0.2029445\ttotal: 644ms\tremaining: 2.47s\n",
      "207:\tlearn: 0.2024239\ttotal: 647ms\tremaining: 2.46s\n",
      "208:\tlearn: 0.2017836\ttotal: 649ms\tremaining: 2.46s\n",
      "209:\tlearn: 0.2012831\ttotal: 652ms\tremaining: 2.45s\n",
      "210:\tlearn: 0.2006599\ttotal: 655ms\tremaining: 2.45s\n",
      "211:\tlearn: 0.2000025\ttotal: 657ms\tremaining: 2.44s\n"
     ]
    },
    {
     "name": "stdout",
     "output_type": "stream",
     "text": [
      "212:\tlearn: 0.1996289\ttotal: 662ms\tremaining: 2.45s\n",
      "213:\tlearn: 0.1994433\ttotal: 665ms\tremaining: 2.44s\n",
      "214:\tlearn: 0.1990931\ttotal: 667ms\tremaining: 2.44s\n",
      "215:\tlearn: 0.1985659\ttotal: 670ms\tremaining: 2.43s\n",
      "216:\tlearn: 0.1979957\ttotal: 673ms\tremaining: 2.43s\n",
      "217:\tlearn: 0.1973116\ttotal: 675ms\tremaining: 2.42s\n",
      "218:\tlearn: 0.1967021\ttotal: 678ms\tremaining: 2.42s\n",
      "219:\tlearn: 0.1963815\ttotal: 681ms\tremaining: 2.41s\n",
      "220:\tlearn: 0.1960788\ttotal: 684ms\tremaining: 2.41s\n",
      "221:\tlearn: 0.1955948\ttotal: 688ms\tremaining: 2.41s\n",
      "222:\tlearn: 0.1951399\ttotal: 690ms\tremaining: 2.4s\n",
      "223:\tlearn: 0.1944142\ttotal: 693ms\tremaining: 2.4s\n",
      "224:\tlearn: 0.1937384\ttotal: 698ms\tremaining: 2.4s\n",
      "225:\tlearn: 0.1931987\ttotal: 700ms\tremaining: 2.4s\n",
      "226:\tlearn: 0.1926830\ttotal: 703ms\tremaining: 2.39s\n",
      "227:\tlearn: 0.1922143\ttotal: 705ms\tremaining: 2.39s\n",
      "228:\tlearn: 0.1918297\ttotal: 709ms\tremaining: 2.39s\n",
      "229:\tlearn: 0.1912712\ttotal: 712ms\tremaining: 2.38s\n",
      "230:\tlearn: 0.1909398\ttotal: 714ms\tremaining: 2.38s\n",
      "231:\tlearn: 0.1905807\ttotal: 717ms\tremaining: 2.37s\n",
      "232:\tlearn: 0.1903002\ttotal: 719ms\tremaining: 2.37s\n",
      "233:\tlearn: 0.1899695\ttotal: 722ms\tremaining: 2.36s\n",
      "234:\tlearn: 0.1896852\ttotal: 724ms\tremaining: 2.36s\n",
      "235:\tlearn: 0.1889199\ttotal: 731ms\tremaining: 2.37s\n",
      "236:\tlearn: 0.1885571\ttotal: 733ms\tremaining: 2.36s\n",
      "237:\tlearn: 0.1880859\ttotal: 736ms\tremaining: 2.36s\n",
      "238:\tlearn: 0.1878167\ttotal: 739ms\tremaining: 2.35s\n",
      "239:\tlearn: 0.1873327\ttotal: 741ms\tremaining: 2.35s\n",
      "240:\tlearn: 0.1869573\ttotal: 745ms\tremaining: 2.34s\n",
      "241:\tlearn: 0.1863620\ttotal: 746ms\tremaining: 2.34s\n",
      "242:\tlearn: 0.1861948\ttotal: 749ms\tremaining: 2.33s\n",
      "243:\tlearn: 0.1856264\ttotal: 754ms\tremaining: 2.33s\n",
      "244:\tlearn: 0.1850819\ttotal: 769ms\tremaining: 2.37s\n",
      "245:\tlearn: 0.1846814\ttotal: 771ms\tremaining: 2.36s\n",
      "246:\tlearn: 0.1840013\ttotal: 774ms\tremaining: 2.36s\n",
      "247:\tlearn: 0.1834342\ttotal: 776ms\tremaining: 2.35s\n",
      "248:\tlearn: 0.1833547\ttotal: 779ms\tremaining: 2.35s\n",
      "249:\tlearn: 0.1831178\ttotal: 781ms\tremaining: 2.34s\n",
      "250:\tlearn: 0.1828112\ttotal: 783ms\tremaining: 2.34s\n",
      "251:\tlearn: 0.1823721\ttotal: 788ms\tremaining: 2.34s\n",
      "252:\tlearn: 0.1819012\ttotal: 790ms\tremaining: 2.33s\n",
      "253:\tlearn: 0.1815880\ttotal: 797ms\tremaining: 2.34s\n"
     ]
    },
    {
     "name": "stdout",
     "output_type": "stream",
     "text": [
      "254:\tlearn: 0.1812542\ttotal: 804ms\tremaining: 2.35s\n",
      "255:\tlearn: 0.1808944\ttotal: 806ms\tremaining: 2.34s\n",
      "256:\tlearn: 0.1804424\ttotal: 809ms\tremaining: 2.34s\n",
      "257:\tlearn: 0.1800562\ttotal: 812ms\tremaining: 2.33s\n",
      "258:\tlearn: 0.1794073\ttotal: 815ms\tremaining: 2.33s\n",
      "259:\tlearn: 0.1789486\ttotal: 817ms\tremaining: 2.33s\n",
      "260:\tlearn: 0.1787905\ttotal: 819ms\tremaining: 2.32s\n",
      "261:\tlearn: 0.1783246\ttotal: 822ms\tremaining: 2.31s\n",
      "262:\tlearn: 0.1779454\ttotal: 824ms\tremaining: 2.31s\n",
      "263:\tlearn: 0.1774703\ttotal: 826ms\tremaining: 2.3s\n",
      "264:\tlearn: 0.1770736\ttotal: 829ms\tremaining: 2.3s\n",
      "265:\tlearn: 0.1764123\ttotal: 831ms\tremaining: 2.29s\n",
      "266:\tlearn: 0.1763368\ttotal: 834ms\tremaining: 2.29s\n",
      "267:\tlearn: 0.1757566\ttotal: 836ms\tremaining: 2.28s\n",
      "268:\tlearn: 0.1751336\ttotal: 839ms\tremaining: 2.28s\n",
      "269:\tlearn: 0.1746231\ttotal: 841ms\tremaining: 2.27s\n",
      "270:\tlearn: 0.1741612\ttotal: 844ms\tremaining: 2.27s\n",
      "271:\tlearn: 0.1735015\ttotal: 846ms\tremaining: 2.27s\n",
      "272:\tlearn: 0.1728261\ttotal: 849ms\tremaining: 2.26s\n",
      "273:\tlearn: 0.1724449\ttotal: 851ms\tremaining: 2.25s\n",
      "274:\tlearn: 0.1721481\ttotal: 853ms\tremaining: 2.25s\n",
      "275:\tlearn: 0.1716968\ttotal: 856ms\tremaining: 2.24s\n",
      "276:\tlearn: 0.1712249\ttotal: 858ms\tremaining: 2.24s\n",
      "277:\tlearn: 0.1708328\ttotal: 861ms\tremaining: 2.23s\n",
      "278:\tlearn: 0.1705314\ttotal: 863ms\tremaining: 2.23s\n",
      "279:\tlearn: 0.1702526\ttotal: 866ms\tremaining: 2.23s\n",
      "280:\tlearn: 0.1699973\ttotal: 868ms\tremaining: 2.22s\n",
      "281:\tlearn: 0.1696372\ttotal: 871ms\tremaining: 2.22s\n",
      "282:\tlearn: 0.1693563\ttotal: 873ms\tremaining: 2.21s\n",
      "283:\tlearn: 0.1691461\ttotal: 876ms\tremaining: 2.21s\n",
      "284:\tlearn: 0.1686888\ttotal: 879ms\tremaining: 2.2s\n",
      "285:\tlearn: 0.1680592\ttotal: 882ms\tremaining: 2.2s\n",
      "286:\tlearn: 0.1677605\ttotal: 884ms\tremaining: 2.2s\n",
      "287:\tlearn: 0.1672465\ttotal: 896ms\tremaining: 2.21s\n",
      "288:\tlearn: 0.1666670\ttotal: 898ms\tremaining: 2.21s\n",
      "289:\tlearn: 0.1661010\ttotal: 901ms\tremaining: 2.21s\n",
      "290:\tlearn: 0.1655401\ttotal: 903ms\tremaining: 2.2s\n",
      "291:\tlearn: 0.1651067\ttotal: 906ms\tremaining: 2.19s\n",
      "292:\tlearn: 0.1647131\ttotal: 908ms\tremaining: 2.19s\n",
      "293:\tlearn: 0.1643585\ttotal: 913ms\tremaining: 2.19s\n",
      "294:\tlearn: 0.1639230\ttotal: 933ms\tremaining: 2.23s\n",
      "295:\tlearn: 0.1634027\ttotal: 937ms\tremaining: 2.23s\n",
      "296:\tlearn: 0.1631774\ttotal: 939ms\tremaining: 2.22s\n",
      "297:\tlearn: 0.1627298\ttotal: 942ms\tremaining: 2.22s\n",
      "298:\tlearn: 0.1624031\ttotal: 944ms\tremaining: 2.21s\n"
     ]
    },
    {
     "name": "stdout",
     "output_type": "stream",
     "text": [
      "299:\tlearn: 0.1621343\ttotal: 1.03s\tremaining: 2.41s\n",
      "300:\tlearn: 0.1618397\ttotal: 1.04s\tremaining: 2.41s\n",
      "301:\tlearn: 0.1612589\ttotal: 1.04s\tremaining: 2.4s\n",
      "302:\tlearn: 0.1609475\ttotal: 1.04s\tremaining: 2.4s\n",
      "303:\tlearn: 0.1605486\ttotal: 1.04s\tremaining: 2.39s\n",
      "304:\tlearn: 0.1602903\ttotal: 1.05s\tremaining: 2.39s\n",
      "305:\tlearn: 0.1599184\ttotal: 1.05s\tremaining: 2.38s\n",
      "306:\tlearn: 0.1596986\ttotal: 1.05s\tremaining: 2.38s\n",
      "307:\tlearn: 0.1594256\ttotal: 1.06s\tremaining: 2.37s\n",
      "308:\tlearn: 0.1590678\ttotal: 1.06s\tremaining: 2.37s\n",
      "309:\tlearn: 0.1584431\ttotal: 1.06s\tremaining: 2.36s\n",
      "310:\tlearn: 0.1579217\ttotal: 1.06s\tremaining: 2.36s\n",
      "311:\tlearn: 0.1576836\ttotal: 1.07s\tremaining: 2.35s\n",
      "312:\tlearn: 0.1571062\ttotal: 1.07s\tremaining: 2.35s\n",
      "313:\tlearn: 0.1567359\ttotal: 1.07s\tremaining: 2.34s\n",
      "314:\tlearn: 0.1564201\ttotal: 1.07s\tremaining: 2.34s\n",
      "315:\tlearn: 0.1560086\ttotal: 1.08s\tremaining: 2.33s\n",
      "316:\tlearn: 0.1556306\ttotal: 1.08s\tremaining: 2.33s\n",
      "317:\tlearn: 0.1553967\ttotal: 1.08s\tremaining: 2.32s\n",
      "318:\tlearn: 0.1550521\ttotal: 1.09s\tremaining: 2.33s\n",
      "319:\tlearn: 0.1548493\ttotal: 1.1s\tremaining: 2.34s\n",
      "320:\tlearn: 0.1543949\ttotal: 1.1s\tremaining: 2.33s\n",
      "321:\tlearn: 0.1539234\ttotal: 1.1s\tremaining: 2.33s\n",
      "322:\tlearn: 0.1535878\ttotal: 1.11s\tremaining: 2.32s\n",
      "323:\tlearn: 0.1531916\ttotal: 1.11s\tremaining: 2.32s\n",
      "324:\tlearn: 0.1528320\ttotal: 1.11s\tremaining: 2.31s\n",
      "325:\tlearn: 0.1523963\ttotal: 1.11s\tremaining: 2.31s\n",
      "326:\tlearn: 0.1520849\ttotal: 1.12s\tremaining: 2.3s\n",
      "327:\tlearn: 0.1517260\ttotal: 1.12s\tremaining: 2.3s\n",
      "328:\tlearn: 0.1515264\ttotal: 1.12s\tremaining: 2.29s\n",
      "329:\tlearn: 0.1509671\ttotal: 1.13s\tremaining: 2.29s\n",
      "330:\tlearn: 0.1505033\ttotal: 1.13s\tremaining: 2.29s\n",
      "331:\tlearn: 0.1500541\ttotal: 1.13s\tremaining: 2.28s\n",
      "332:\tlearn: 0.1497990\ttotal: 1.14s\tremaining: 2.28s\n",
      "333:\tlearn: 0.1494615\ttotal: 1.14s\tremaining: 2.27s\n",
      "334:\tlearn: 0.1490336\ttotal: 1.14s\tremaining: 2.27s\n",
      "335:\tlearn: 0.1485407\ttotal: 1.14s\tremaining: 2.26s\n",
      "336:\tlearn: 0.1481406\ttotal: 1.15s\tremaining: 2.26s\n",
      "337:\tlearn: 0.1476974\ttotal: 1.15s\tremaining: 2.25s\n",
      "338:\tlearn: 0.1472249\ttotal: 1.15s\tremaining: 2.25s\n",
      "339:\tlearn: 0.1469242\ttotal: 1.16s\tremaining: 2.24s\n",
      "340:\tlearn: 0.1465958\ttotal: 1.16s\tremaining: 2.24s\n",
      "341:\tlearn: 0.1463278\ttotal: 1.16s\tremaining: 2.23s\n",
      "342:\tlearn: 0.1458682\ttotal: 1.18s\tremaining: 2.26s\n",
      "343:\tlearn: 0.1453616\ttotal: 1.19s\tremaining: 2.26s\n",
      "344:\tlearn: 0.1450905\ttotal: 1.19s\tremaining: 2.25s\n",
      "345:\tlearn: 0.1445590\ttotal: 1.19s\tremaining: 2.25s\n",
      "346:\tlearn: 0.1442139\ttotal: 1.19s\tremaining: 2.24s\n",
      "347:\tlearn: 0.1437949\ttotal: 1.2s\tremaining: 2.24s\n",
      "348:\tlearn: 0.1435231\ttotal: 1.2s\tremaining: 2.23s\n",
      "349:\tlearn: 0.1431816\ttotal: 1.2s\tremaining: 2.23s\n"
     ]
    },
    {
     "name": "stdout",
     "output_type": "stream",
     "text": [
      "350:\tlearn: 0.1429400\ttotal: 1.2s\tremaining: 2.23s\n",
      "351:\tlearn: 0.1425343\ttotal: 1.21s\tremaining: 2.23s\n",
      "352:\tlearn: 0.1422759\ttotal: 1.22s\tremaining: 2.23s\n",
      "353:\tlearn: 0.1419425\ttotal: 1.22s\tremaining: 2.23s\n",
      "354:\tlearn: 0.1416120\ttotal: 1.22s\tremaining: 2.22s\n",
      "355:\tlearn: 0.1412496\ttotal: 1.23s\tremaining: 2.22s\n",
      "356:\tlearn: 0.1410036\ttotal: 1.23s\tremaining: 2.22s\n",
      "357:\tlearn: 0.1405316\ttotal: 1.23s\tremaining: 2.21s\n",
      "358:\tlearn: 0.1402307\ttotal: 1.24s\tremaining: 2.21s\n",
      "359:\tlearn: 0.1398563\ttotal: 1.24s\tremaining: 2.2s\n",
      "360:\tlearn: 0.1394889\ttotal: 1.27s\tremaining: 2.25s\n",
      "361:\tlearn: 0.1392888\ttotal: 1.27s\tremaining: 2.25s\n",
      "362:\tlearn: 0.1390987\ttotal: 1.28s\tremaining: 2.25s\n",
      "363:\tlearn: 0.1387328\ttotal: 1.29s\tremaining: 2.26s\n",
      "364:\tlearn: 0.1386213\ttotal: 1.3s\tremaining: 2.26s\n",
      "365:\tlearn: 0.1383115\ttotal: 1.3s\tremaining: 2.25s\n",
      "366:\tlearn: 0.1382169\ttotal: 1.3s\tremaining: 2.25s\n",
      "367:\tlearn: 0.1379086\ttotal: 1.31s\tremaining: 2.24s\n",
      "368:\tlearn: 0.1376569\ttotal: 1.31s\tremaining: 2.24s\n",
      "369:\tlearn: 0.1374050\ttotal: 1.31s\tremaining: 2.23s\n",
      "370:\tlearn: 0.1373057\ttotal: 1.31s\tremaining: 2.23s\n",
      "371:\tlearn: 0.1371208\ttotal: 1.31s\tremaining: 2.22s\n",
      "372:\tlearn: 0.1367511\ttotal: 1.32s\tremaining: 2.22s\n",
      "373:\tlearn: 0.1364075\ttotal: 1.32s\tremaining: 2.22s\n",
      "374:\tlearn: 0.1361465\ttotal: 1.33s\tremaining: 2.21s\n",
      "375:\tlearn: 0.1360588\ttotal: 1.33s\tremaining: 2.21s\n",
      "376:\tlearn: 0.1358300\ttotal: 1.33s\tremaining: 2.2s\n",
      "377:\tlearn: 0.1357171\ttotal: 1.33s\tremaining: 2.19s\n",
      "378:\tlearn: 0.1353109\ttotal: 1.34s\tremaining: 2.19s\n",
      "379:\tlearn: 0.1350912\ttotal: 1.34s\tremaining: 2.19s\n",
      "380:\tlearn: 0.1346945\ttotal: 1.34s\tremaining: 2.18s\n",
      "381:\tlearn: 0.1343696\ttotal: 1.34s\tremaining: 2.18s\n",
      "382:\tlearn: 0.1342645\ttotal: 1.35s\tremaining: 2.17s\n",
      "383:\tlearn: 0.1339591\ttotal: 1.35s\tremaining: 2.17s\n"
     ]
    },
    {
     "name": "stdout",
     "output_type": "stream",
     "text": [
      "384:\tlearn: 0.1337046\ttotal: 1.36s\tremaining: 2.17s\n",
      "385:\tlearn: 0.1332244\ttotal: 1.36s\tremaining: 2.17s\n",
      "386:\tlearn: 0.1329180\ttotal: 1.36s\tremaining: 2.16s\n",
      "387:\tlearn: 0.1326480\ttotal: 1.36s\tremaining: 2.15s\n",
      "388:\tlearn: 0.1325708\ttotal: 1.37s\tremaining: 2.15s\n",
      "389:\tlearn: 0.1323215\ttotal: 1.37s\tremaining: 2.14s\n",
      "390:\tlearn: 0.1320720\ttotal: 1.37s\tremaining: 2.14s\n",
      "391:\tlearn: 0.1318190\ttotal: 1.37s\tremaining: 2.13s\n",
      "392:\tlearn: 0.1315397\ttotal: 1.38s\tremaining: 2.13s\n",
      "393:\tlearn: 0.1311660\ttotal: 1.38s\tremaining: 2.12s\n",
      "394:\tlearn: 0.1308596\ttotal: 1.38s\tremaining: 2.11s\n",
      "395:\tlearn: 0.1305652\ttotal: 1.38s\tremaining: 2.11s\n",
      "396:\tlearn: 0.1304378\ttotal: 1.38s\tremaining: 2.1s\n",
      "397:\tlearn: 0.1301325\ttotal: 1.39s\tremaining: 2.1s\n",
      "398:\tlearn: 0.1298655\ttotal: 1.39s\tremaining: 2.1s\n",
      "399:\tlearn: 0.1296073\ttotal: 1.4s\tremaining: 2.09s\n",
      "400:\tlearn: 0.1293022\ttotal: 1.4s\tremaining: 2.09s\n",
      "401:\tlearn: 0.1290393\ttotal: 1.4s\tremaining: 2.08s\n",
      "402:\tlearn: 0.1287691\ttotal: 1.4s\tremaining: 2.08s\n",
      "403:\tlearn: 0.1286923\ttotal: 1.41s\tremaining: 2.08s\n",
      "404:\tlearn: 0.1284500\ttotal: 1.41s\tremaining: 2.07s\n",
      "405:\tlearn: 0.1282521\ttotal: 1.41s\tremaining: 2.07s\n",
      "406:\tlearn: 0.1279176\ttotal: 1.41s\tremaining: 2.06s\n",
      "407:\tlearn: 0.1277209\ttotal: 1.42s\tremaining: 2.06s\n",
      "408:\tlearn: 0.1274134\ttotal: 1.42s\tremaining: 2.05s\n",
      "409:\tlearn: 0.1272943\ttotal: 1.42s\tremaining: 2.05s\n",
      "410:\tlearn: 0.1270039\ttotal: 1.44s\tremaining: 2.06s\n",
      "411:\tlearn: 0.1266643\ttotal: 1.44s\tremaining: 2.05s\n",
      "412:\tlearn: 0.1265682\ttotal: 1.45s\tremaining: 2.06s\n",
      "413:\tlearn: 0.1261467\ttotal: 1.45s\tremaining: 2.05s\n",
      "414:\tlearn: 0.1258363\ttotal: 1.45s\tremaining: 2.05s\n",
      "415:\tlearn: 0.1255950\ttotal: 1.45s\tremaining: 2.04s\n",
      "416:\tlearn: 0.1254406\ttotal: 1.46s\tremaining: 2.04s\n",
      "417:\tlearn: 0.1252782\ttotal: 1.46s\tremaining: 2.03s\n",
      "418:\tlearn: 0.1250773\ttotal: 1.46s\tremaining: 2.03s\n",
      "419:\tlearn: 0.1248942\ttotal: 1.47s\tremaining: 2.02s\n",
      "420:\tlearn: 0.1248263\ttotal: 1.47s\tremaining: 2.03s\n",
      "421:\tlearn: 0.1245614\ttotal: 1.48s\tremaining: 2.02s\n",
      "422:\tlearn: 0.1242218\ttotal: 1.48s\tremaining: 2.02s\n",
      "423:\tlearn: 0.1238424\ttotal: 1.48s\tremaining: 2.01s\n",
      "424:\tlearn: 0.1234953\ttotal: 1.49s\tremaining: 2.01s\n",
      "425:\tlearn: 0.1232778\ttotal: 1.49s\tremaining: 2s\n",
      "426:\tlearn: 0.1231317\ttotal: 1.49s\tremaining: 2s\n",
      "427:\tlearn: 0.1229028\ttotal: 1.49s\tremaining: 1.99s\n",
      "428:\tlearn: 0.1226540\ttotal: 1.5s\tremaining: 1.99s\n",
      "429:\tlearn: 0.1224808\ttotal: 1.5s\tremaining: 1.99s\n"
     ]
    },
    {
     "name": "stdout",
     "output_type": "stream",
     "text": [
      "430:\tlearn: 0.1221975\ttotal: 1.5s\tremaining: 1.98s\n",
      "431:\tlearn: 0.1218171\ttotal: 1.51s\tremaining: 1.98s\n",
      "432:\tlearn: 0.1215849\ttotal: 1.51s\tremaining: 1.98s\n",
      "433:\tlearn: 0.1212453\ttotal: 1.51s\tremaining: 1.97s\n",
      "434:\tlearn: 0.1209466\ttotal: 1.52s\tremaining: 1.97s\n",
      "435:\tlearn: 0.1205978\ttotal: 1.52s\tremaining: 1.97s\n",
      "436:\tlearn: 0.1203144\ttotal: 1.53s\tremaining: 1.97s\n",
      "437:\tlearn: 0.1200851\ttotal: 1.53s\tremaining: 1.96s\n",
      "438:\tlearn: 0.1198388\ttotal: 1.53s\tremaining: 1.96s\n",
      "439:\tlearn: 0.1197167\ttotal: 1.53s\tremaining: 1.95s\n",
      "440:\tlearn: 0.1196481\ttotal: 1.54s\tremaining: 1.95s\n",
      "441:\tlearn: 0.1195516\ttotal: 1.54s\tremaining: 1.94s\n",
      "442:\tlearn: 0.1192189\ttotal: 1.54s\tremaining: 1.94s\n",
      "443:\tlearn: 0.1191936\ttotal: 1.54s\tremaining: 1.93s\n",
      "444:\tlearn: 0.1190221\ttotal: 1.55s\tremaining: 1.93s\n",
      "445:\tlearn: 0.1187075\ttotal: 1.55s\tremaining: 1.93s\n",
      "446:\tlearn: 0.1183904\ttotal: 1.56s\tremaining: 1.93s\n",
      "447:\tlearn: 0.1181266\ttotal: 1.56s\tremaining: 1.92s\n",
      "448:\tlearn: 0.1178658\ttotal: 1.56s\tremaining: 1.92s\n",
      "449:\tlearn: 0.1178437\ttotal: 1.56s\tremaining: 1.91s\n",
      "450:\tlearn: 0.1174999\ttotal: 1.57s\tremaining: 1.91s\n",
      "451:\tlearn: 0.1173504\ttotal: 1.57s\tremaining: 1.9s\n",
      "452:\tlearn: 0.1170984\ttotal: 1.57s\tremaining: 1.9s\n",
      "453:\tlearn: 0.1168163\ttotal: 1.58s\tremaining: 1.9s\n",
      "454:\tlearn: 0.1166737\ttotal: 1.58s\tremaining: 1.89s\n",
      "455:\tlearn: 0.1165042\ttotal: 1.58s\tremaining: 1.89s\n",
      "456:\tlearn: 0.1163190\ttotal: 1.59s\tremaining: 1.88s\n",
      "457:\tlearn: 0.1161673\ttotal: 1.59s\tremaining: 1.88s\n",
      "458:\tlearn: 0.1160777\ttotal: 1.59s\tremaining: 1.88s\n",
      "459:\tlearn: 0.1160565\ttotal: 1.59s\tremaining: 1.87s\n",
      "460:\tlearn: 0.1159875\ttotal: 1.6s\tremaining: 1.87s\n",
      "461:\tlearn: 0.1158797\ttotal: 1.6s\tremaining: 1.86s\n",
      "462:\tlearn: 0.1155775\ttotal: 1.6s\tremaining: 1.86s\n",
      "463:\tlearn: 0.1152398\ttotal: 1.6s\tremaining: 1.85s\n",
      "464:\tlearn: 0.1150670\ttotal: 1.61s\tremaining: 1.85s\n",
      "465:\tlearn: 0.1147668\ttotal: 1.61s\tremaining: 1.84s\n",
      "466:\tlearn: 0.1145330\ttotal: 1.61s\tremaining: 1.84s\n",
      "467:\tlearn: 0.1143793\ttotal: 1.61s\tremaining: 1.83s\n",
      "468:\tlearn: 0.1140322\ttotal: 1.61s\tremaining: 1.83s\n",
      "469:\tlearn: 0.1138675\ttotal: 1.62s\tremaining: 1.82s\n",
      "470:\tlearn: 0.1137326\ttotal: 1.62s\tremaining: 1.82s\n",
      "471:\tlearn: 0.1135851\ttotal: 1.62s\tremaining: 1.82s\n",
      "472:\tlearn: 0.1135315\ttotal: 1.63s\tremaining: 1.81s\n",
      "473:\tlearn: 0.1132624\ttotal: 1.63s\tremaining: 1.81s\n",
      "474:\tlearn: 0.1130315\ttotal: 1.63s\tremaining: 1.8s\n",
      "475:\tlearn: 0.1128829\ttotal: 1.63s\tremaining: 1.8s\n"
     ]
    },
    {
     "name": "stdout",
     "output_type": "stream",
     "text": [
      "476:\tlearn: 0.1126389\ttotal: 1.64s\tremaining: 1.8s\n",
      "477:\tlearn: 0.1124304\ttotal: 1.64s\tremaining: 1.79s\n",
      "478:\tlearn: 0.1122080\ttotal: 1.64s\tremaining: 1.79s\n",
      "479:\tlearn: 0.1119290\ttotal: 1.65s\tremaining: 1.78s\n",
      "480:\tlearn: 0.1119128\ttotal: 1.65s\tremaining: 1.78s\n",
      "481:\tlearn: 0.1116853\ttotal: 1.65s\tremaining: 1.77s\n",
      "482:\tlearn: 0.1114076\ttotal: 1.65s\tremaining: 1.77s\n",
      "483:\tlearn: 0.1111983\ttotal: 1.65s\tremaining: 1.76s\n",
      "484:\tlearn: 0.1109863\ttotal: 1.66s\tremaining: 1.76s\n",
      "485:\tlearn: 0.1108814\ttotal: 1.66s\tremaining: 1.76s\n",
      "486:\tlearn: 0.1108005\ttotal: 1.66s\tremaining: 1.75s\n",
      "487:\tlearn: 0.1105277\ttotal: 1.67s\tremaining: 1.75s\n",
      "488:\tlearn: 0.1102318\ttotal: 1.67s\tremaining: 1.75s\n",
      "489:\tlearn: 0.1099165\ttotal: 1.67s\tremaining: 1.74s\n",
      "490:\tlearn: 0.1096616\ttotal: 1.68s\tremaining: 1.74s\n",
      "491:\tlearn: 0.1093995\ttotal: 1.68s\tremaining: 1.73s\n",
      "492:\tlearn: 0.1090699\ttotal: 1.68s\tremaining: 1.73s\n",
      "493:\tlearn: 0.1087545\ttotal: 1.68s\tremaining: 1.72s\n",
      "494:\tlearn: 0.1084994\ttotal: 1.69s\tremaining: 1.72s\n",
      "495:\tlearn: 0.1083254\ttotal: 1.69s\tremaining: 1.72s\n",
      "496:\tlearn: 0.1081258\ttotal: 1.69s\tremaining: 1.71s\n",
      "497:\tlearn: 0.1080890\ttotal: 1.69s\tremaining: 1.71s\n",
      "498:\tlearn: 0.1077778\ttotal: 1.7s\tremaining: 1.7s\n",
      "499:\tlearn: 0.1074600\ttotal: 1.7s\tremaining: 1.7s\n",
      "500:\tlearn: 0.1072060\ttotal: 1.7s\tremaining: 1.7s\n",
      "501:\tlearn: 0.1070970\ttotal: 1.71s\tremaining: 1.7s\n",
      "502:\tlearn: 0.1069927\ttotal: 1.72s\tremaining: 1.69s\n",
      "503:\tlearn: 0.1067965\ttotal: 1.72s\tremaining: 1.69s\n",
      "504:\tlearn: 0.1066609\ttotal: 1.72s\tremaining: 1.69s\n",
      "505:\tlearn: 0.1064127\ttotal: 1.72s\tremaining: 1.68s\n",
      "506:\tlearn: 0.1063876\ttotal: 1.72s\tremaining: 1.68s\n",
      "507:\tlearn: 0.1062601\ttotal: 1.73s\tremaining: 1.67s\n",
      "508:\tlearn: 0.1059825\ttotal: 1.73s\tremaining: 1.67s\n",
      "509:\tlearn: 0.1059105\ttotal: 1.73s\tremaining: 1.66s\n",
      "510:\tlearn: 0.1056900\ttotal: 1.73s\tremaining: 1.66s\n",
      "511:\tlearn: 0.1054241\ttotal: 1.74s\tremaining: 1.66s\n",
      "512:\tlearn: 0.1051547\ttotal: 1.74s\tremaining: 1.65s\n",
      "513:\tlearn: 0.1049342\ttotal: 1.74s\tremaining: 1.65s\n",
      "514:\tlearn: 0.1048030\ttotal: 1.74s\tremaining: 1.64s\n",
      "515:\tlearn: 0.1047023\ttotal: 1.75s\tremaining: 1.64s\n",
      "516:\tlearn: 0.1044197\ttotal: 1.75s\tremaining: 1.63s\n",
      "517:\tlearn: 0.1041328\ttotal: 1.75s\tremaining: 1.63s\n",
      "518:\tlearn: 0.1039091\ttotal: 1.76s\tremaining: 1.63s\n",
      "519:\tlearn: 0.1037548\ttotal: 1.76s\tremaining: 1.62s\n",
      "520:\tlearn: 0.1035874\ttotal: 1.76s\tremaining: 1.62s\n",
      "521:\tlearn: 0.1032987\ttotal: 1.76s\tremaining: 1.62s\n",
      "522:\tlearn: 0.1030209\ttotal: 1.77s\tremaining: 1.61s\n",
      "523:\tlearn: 0.1028887\ttotal: 1.77s\tremaining: 1.61s\n",
      "524:\tlearn: 0.1028698\ttotal: 1.77s\tremaining: 1.6s\n",
      "525:\tlearn: 0.1026439\ttotal: 1.77s\tremaining: 1.6s\n",
      "526:\tlearn: 0.1024574\ttotal: 1.78s\tremaining: 1.59s\n",
      "527:\tlearn: 0.1022120\ttotal: 1.78s\tremaining: 1.59s\n",
      "528:\tlearn: 0.1019341\ttotal: 1.78s\tremaining: 1.59s\n",
      "529:\tlearn: 0.1017819\ttotal: 1.79s\tremaining: 1.58s\n",
      "530:\tlearn: 0.1015420\ttotal: 1.79s\tremaining: 1.58s\n",
      "531:\tlearn: 0.1014364\ttotal: 1.79s\tremaining: 1.57s\n"
     ]
    },
    {
     "name": "stdout",
     "output_type": "stream",
     "text": [
      "532:\tlearn: 0.1012773\ttotal: 1.79s\tremaining: 1.57s\n",
      "533:\tlearn: 0.1009471\ttotal: 1.8s\tremaining: 1.57s\n",
      "534:\tlearn: 0.1008682\ttotal: 1.8s\tremaining: 1.56s\n",
      "535:\tlearn: 0.1007981\ttotal: 1.8s\tremaining: 1.56s\n",
      "536:\tlearn: 0.1006225\ttotal: 1.8s\tremaining: 1.55s\n",
      "537:\tlearn: 0.1004196\ttotal: 1.81s\tremaining: 1.55s\n",
      "538:\tlearn: 0.1004025\ttotal: 1.81s\tremaining: 1.55s\n",
      "539:\tlearn: 0.1002741\ttotal: 1.81s\tremaining: 1.54s\n",
      "540:\tlearn: 0.1000629\ttotal: 1.82s\tremaining: 1.54s\n",
      "541:\tlearn: 0.0998735\ttotal: 1.82s\tremaining: 1.54s\n",
      "542:\tlearn: 0.0996484\ttotal: 1.82s\tremaining: 1.53s\n",
      "543:\tlearn: 0.0994538\ttotal: 1.82s\tremaining: 1.53s\n",
      "544:\tlearn: 0.0992204\ttotal: 1.83s\tremaining: 1.52s\n",
      "545:\tlearn: 0.0990690\ttotal: 1.83s\tremaining: 1.52s\n",
      "546:\tlearn: 0.0989031\ttotal: 1.83s\tremaining: 1.52s\n",
      "547:\tlearn: 0.0987481\ttotal: 1.84s\tremaining: 1.51s\n",
      "548:\tlearn: 0.0984693\ttotal: 1.84s\tremaining: 1.51s\n",
      "549:\tlearn: 0.0983489\ttotal: 1.84s\tremaining: 1.51s\n",
      "550:\tlearn: 0.0980837\ttotal: 1.91s\tremaining: 1.56s\n",
      "551:\tlearn: 0.0978523\ttotal: 1.91s\tremaining: 1.55s\n",
      "552:\tlearn: 0.0976863\ttotal: 1.92s\tremaining: 1.55s\n",
      "553:\tlearn: 0.0974883\ttotal: 1.92s\tremaining: 1.54s\n",
      "554:\tlearn: 0.0973460\ttotal: 1.92s\tremaining: 1.54s\n",
      "555:\tlearn: 0.0972350\ttotal: 1.92s\tremaining: 1.54s\n",
      "556:\tlearn: 0.0969881\ttotal: 1.93s\tremaining: 1.53s\n",
      "557:\tlearn: 0.0968911\ttotal: 1.93s\tremaining: 1.53s\n",
      "558:\tlearn: 0.0966367\ttotal: 1.93s\tremaining: 1.52s\n",
      "559:\tlearn: 0.0965990\ttotal: 1.94s\tremaining: 1.52s\n",
      "560:\tlearn: 0.0963701\ttotal: 1.94s\tremaining: 1.52s\n",
      "561:\tlearn: 0.0963527\ttotal: 1.95s\tremaining: 1.52s\n",
      "562:\tlearn: 0.0961434\ttotal: 1.96s\tremaining: 1.52s\n",
      "563:\tlearn: 0.0960238\ttotal: 1.96s\tremaining: 1.51s\n",
      "564:\tlearn: 0.0958626\ttotal: 1.96s\tremaining: 1.51s\n",
      "565:\tlearn: 0.0955482\ttotal: 1.96s\tremaining: 1.51s\n"
     ]
    },
    {
     "name": "stdout",
     "output_type": "stream",
     "text": [
      "566:\tlearn: 0.0952860\ttotal: 1.97s\tremaining: 1.5s\n",
      "567:\tlearn: 0.0951188\ttotal: 1.97s\tremaining: 1.5s\n",
      "568:\tlearn: 0.0949495\ttotal: 1.97s\tremaining: 1.49s\n",
      "569:\tlearn: 0.0947189\ttotal: 1.98s\tremaining: 1.49s\n",
      "570:\tlearn: 0.0946278\ttotal: 1.98s\tremaining: 1.49s\n",
      "571:\tlearn: 0.0944446\ttotal: 2s\tremaining: 1.5s\n",
      "572:\tlearn: 0.0942245\ttotal: 2s\tremaining: 1.49s\n",
      "573:\tlearn: 0.0940749\ttotal: 2s\tremaining: 1.49s\n",
      "574:\tlearn: 0.0939376\ttotal: 2.01s\tremaining: 1.48s\n",
      "575:\tlearn: 0.0937786\ttotal: 2.01s\tremaining: 1.48s\n",
      "576:\tlearn: 0.0935805\ttotal: 2.01s\tremaining: 1.48s\n",
      "577:\tlearn: 0.0933842\ttotal: 2.02s\tremaining: 1.47s\n",
      "578:\tlearn: 0.0931478\ttotal: 2.02s\tremaining: 1.47s\n",
      "579:\tlearn: 0.0930093\ttotal: 2.02s\tremaining: 1.46s\n",
      "580:\tlearn: 0.0928260\ttotal: 2.02s\tremaining: 1.46s\n",
      "581:\tlearn: 0.0926707\ttotal: 2.04s\tremaining: 1.46s\n",
      "582:\tlearn: 0.0926123\ttotal: 2.04s\tremaining: 1.46s\n",
      "583:\tlearn: 0.0923415\ttotal: 2.04s\tremaining: 1.45s\n",
      "584:\tlearn: 0.0921866\ttotal: 2.04s\tremaining: 1.45s\n",
      "585:\tlearn: 0.0919625\ttotal: 2.04s\tremaining: 1.45s\n",
      "586:\tlearn: 0.0918458\ttotal: 2.05s\tremaining: 1.44s\n",
      "587:\tlearn: 0.0915821\ttotal: 2.05s\tremaining: 1.44s\n",
      "588:\tlearn: 0.0913281\ttotal: 2.05s\tremaining: 1.43s\n",
      "589:\tlearn: 0.0911529\ttotal: 2.06s\tremaining: 1.43s\n",
      "590:\tlearn: 0.0909994\ttotal: 2.06s\tremaining: 1.43s\n",
      "591:\tlearn: 0.0907645\ttotal: 2.09s\tremaining: 1.44s\n",
      "592:\tlearn: 0.0905781\ttotal: 2.09s\tremaining: 1.44s\n",
      "593:\tlearn: 0.0903967\ttotal: 2.1s\tremaining: 1.43s\n",
      "594:\tlearn: 0.0901877\ttotal: 2.1s\tremaining: 1.43s\n",
      "595:\tlearn: 0.0899664\ttotal: 2.1s\tremaining: 1.42s\n",
      "596:\tlearn: 0.0897766\ttotal: 2.1s\tremaining: 1.42s\n",
      "597:\tlearn: 0.0896546\ttotal: 2.11s\tremaining: 1.42s\n",
      "598:\tlearn: 0.0895183\ttotal: 2.11s\tremaining: 1.41s\n",
      "599:\tlearn: 0.0893059\ttotal: 2.11s\tremaining: 1.41s\n",
      "600:\tlearn: 0.0890250\ttotal: 2.12s\tremaining: 1.4s\n",
      "601:\tlearn: 0.0889645\ttotal: 2.12s\tremaining: 1.4s\n",
      "602:\tlearn: 0.0888555\ttotal: 2.12s\tremaining: 1.4s\n",
      "603:\tlearn: 0.0887345\ttotal: 2.12s\tremaining: 1.39s\n",
      "604:\tlearn: 0.0886310\ttotal: 2.13s\tremaining: 1.39s\n",
      "605:\tlearn: 0.0884657\ttotal: 2.13s\tremaining: 1.38s\n",
      "606:\tlearn: 0.0882418\ttotal: 2.13s\tremaining: 1.38s\n",
      "607:\tlearn: 0.0880491\ttotal: 2.13s\tremaining: 1.38s\n"
     ]
    },
    {
     "name": "stdout",
     "output_type": "stream",
     "text": [
      "608:\tlearn: 0.0879263\ttotal: 2.14s\tremaining: 1.37s\n",
      "609:\tlearn: 0.0878300\ttotal: 2.14s\tremaining: 1.37s\n",
      "610:\tlearn: 0.0876933\ttotal: 2.14s\tremaining: 1.36s\n",
      "611:\tlearn: 0.0874694\ttotal: 2.15s\tremaining: 1.36s\n",
      "612:\tlearn: 0.0873421\ttotal: 2.15s\tremaining: 1.36s\n",
      "613:\tlearn: 0.0871222\ttotal: 2.15s\tremaining: 1.35s\n",
      "614:\tlearn: 0.0869895\ttotal: 2.15s\tremaining: 1.35s\n",
      "615:\tlearn: 0.0867791\ttotal: 2.16s\tremaining: 1.34s\n",
      "616:\tlearn: 0.0865301\ttotal: 2.16s\tremaining: 1.34s\n",
      "617:\tlearn: 0.0863138\ttotal: 2.16s\tremaining: 1.34s\n",
      "618:\tlearn: 0.0862177\ttotal: 2.16s\tremaining: 1.33s\n",
      "619:\tlearn: 0.0860678\ttotal: 2.17s\tremaining: 1.33s\n",
      "620:\tlearn: 0.0859289\ttotal: 2.17s\tremaining: 1.32s\n",
      "621:\tlearn: 0.0859055\ttotal: 2.17s\tremaining: 1.32s\n",
      "622:\tlearn: 0.0858474\ttotal: 2.17s\tremaining: 1.32s\n",
      "623:\tlearn: 0.0856935\ttotal: 2.18s\tremaining: 1.31s\n",
      "624:\tlearn: 0.0855816\ttotal: 2.18s\tremaining: 1.31s\n",
      "625:\tlearn: 0.0854363\ttotal: 2.18s\tremaining: 1.3s\n",
      "626:\tlearn: 0.0853466\ttotal: 2.19s\tremaining: 1.3s\n",
      "627:\tlearn: 0.0851532\ttotal: 2.19s\tremaining: 1.3s\n",
      "628:\tlearn: 0.0849681\ttotal: 2.19s\tremaining: 1.29s\n",
      "629:\tlearn: 0.0847696\ttotal: 2.19s\tremaining: 1.29s\n",
      "630:\tlearn: 0.0846849\ttotal: 2.2s\tremaining: 1.28s\n",
      "631:\tlearn: 0.0845528\ttotal: 2.2s\tremaining: 1.28s\n",
      "632:\tlearn: 0.0843007\ttotal: 2.22s\tremaining: 1.29s\n",
      "633:\tlearn: 0.0841244\ttotal: 2.22s\tremaining: 1.28s\n",
      "634:\tlearn: 0.0839671\ttotal: 2.23s\tremaining: 1.28s\n",
      "635:\tlearn: 0.0837809\ttotal: 2.23s\tremaining: 1.28s\n",
      "636:\tlearn: 0.0836906\ttotal: 2.23s\tremaining: 1.27s\n",
      "637:\tlearn: 0.0834183\ttotal: 2.23s\tremaining: 1.27s\n",
      "638:\tlearn: 0.0832777\ttotal: 2.24s\tremaining: 1.26s\n",
      "639:\tlearn: 0.0831059\ttotal: 2.24s\tremaining: 1.26s\n",
      "640:\tlearn: 0.0830317\ttotal: 2.24s\tremaining: 1.26s\n",
      "641:\tlearn: 0.0828543\ttotal: 2.25s\tremaining: 1.25s\n",
      "642:\tlearn: 0.0827631\ttotal: 2.25s\tremaining: 1.25s\n",
      "643:\tlearn: 0.0826073\ttotal: 2.25s\tremaining: 1.24s\n",
      "644:\tlearn: 0.0824407\ttotal: 2.25s\tremaining: 1.24s\n",
      "645:\tlearn: 0.0822768\ttotal: 2.25s\tremaining: 1.24s\n",
      "646:\tlearn: 0.0821471\ttotal: 2.25s\tremaining: 1.23s\n",
      "647:\tlearn: 0.0819758\ttotal: 2.26s\tremaining: 1.23s\n",
      "648:\tlearn: 0.0818249\ttotal: 2.26s\tremaining: 1.22s\n",
      "649:\tlearn: 0.0817079\ttotal: 2.26s\tremaining: 1.22s\n",
      "650:\tlearn: 0.0815450\ttotal: 2.27s\tremaining: 1.21s\n",
      "651:\tlearn: 0.0813614\ttotal: 2.27s\tremaining: 1.21s\n",
      "652:\tlearn: 0.0812735\ttotal: 2.27s\tremaining: 1.21s\n",
      "653:\tlearn: 0.0811593\ttotal: 2.27s\tremaining: 1.2s\n",
      "654:\tlearn: 0.0811433\ttotal: 2.28s\tremaining: 1.2s\n",
      "655:\tlearn: 0.0809882\ttotal: 2.28s\tremaining: 1.2s\n",
      "656:\tlearn: 0.0808129\ttotal: 2.28s\tremaining: 1.19s\n",
      "657:\tlearn: 0.0807060\ttotal: 2.29s\tremaining: 1.19s\n",
      "658:\tlearn: 0.0805719\ttotal: 2.29s\tremaining: 1.18s\n",
      "659:\tlearn: 0.0803933\ttotal: 2.29s\tremaining: 1.18s\n",
      "660:\tlearn: 0.0801902\ttotal: 2.29s\tremaining: 1.18s\n",
      "661:\tlearn: 0.0800931\ttotal: 2.3s\tremaining: 1.17s\n",
      "662:\tlearn: 0.0800348\ttotal: 2.3s\tremaining: 1.17s\n",
      "663:\tlearn: 0.0798908\ttotal: 2.3s\tremaining: 1.17s\n",
      "664:\tlearn: 0.0797190\ttotal: 2.31s\tremaining: 1.16s\n",
      "665:\tlearn: 0.0796291\ttotal: 2.31s\tremaining: 1.16s\n"
     ]
    },
    {
     "name": "stdout",
     "output_type": "stream",
     "text": [
      "666:\tlearn: 0.0793908\ttotal: 2.31s\tremaining: 1.15s\n",
      "667:\tlearn: 0.0791792\ttotal: 2.31s\tremaining: 1.15s\n",
      "668:\tlearn: 0.0790478\ttotal: 2.32s\tremaining: 1.15s\n",
      "669:\tlearn: 0.0789661\ttotal: 2.32s\tremaining: 1.14s\n",
      "670:\tlearn: 0.0787579\ttotal: 2.32s\tremaining: 1.14s\n",
      "671:\tlearn: 0.0787373\ttotal: 2.33s\tremaining: 1.14s\n",
      "672:\tlearn: 0.0786196\ttotal: 2.33s\tremaining: 1.13s\n",
      "673:\tlearn: 0.0785324\ttotal: 2.33s\tremaining: 1.13s\n",
      "674:\tlearn: 0.0784384\ttotal: 2.34s\tremaining: 1.13s\n",
      "675:\tlearn: 0.0783885\ttotal: 2.34s\tremaining: 1.12s\n",
      "676:\tlearn: 0.0781612\ttotal: 2.34s\tremaining: 1.12s\n",
      "677:\tlearn: 0.0780347\ttotal: 2.35s\tremaining: 1.11s\n",
      "678:\tlearn: 0.0779471\ttotal: 2.35s\tremaining: 1.11s\n",
      "679:\tlearn: 0.0777902\ttotal: 2.35s\tremaining: 1.1s\n",
      "680:\tlearn: 0.0776820\ttotal: 2.35s\tremaining: 1.1s\n",
      "681:\tlearn: 0.0775669\ttotal: 2.35s\tremaining: 1.1s\n",
      "682:\tlearn: 0.0773525\ttotal: 2.36s\tremaining: 1.09s\n",
      "683:\tlearn: 0.0772722\ttotal: 2.36s\tremaining: 1.09s\n",
      "684:\tlearn: 0.0771511\ttotal: 2.36s\tremaining: 1.09s\n",
      "685:\tlearn: 0.0770659\ttotal: 2.37s\tremaining: 1.08s\n",
      "686:\tlearn: 0.0769814\ttotal: 2.37s\tremaining: 1.08s\n",
      "687:\tlearn: 0.0768563\ttotal: 2.37s\tremaining: 1.07s\n",
      "688:\tlearn: 0.0766591\ttotal: 2.37s\tremaining: 1.07s\n",
      "689:\tlearn: 0.0765279\ttotal: 2.38s\tremaining: 1.07s\n",
      "690:\tlearn: 0.0763401\ttotal: 2.38s\tremaining: 1.06s\n",
      "691:\tlearn: 0.0761522\ttotal: 2.38s\tremaining: 1.06s\n",
      "692:\tlearn: 0.0759616\ttotal: 2.38s\tremaining: 1.05s\n",
      "693:\tlearn: 0.0757847\ttotal: 2.38s\tremaining: 1.05s\n",
      "694:\tlearn: 0.0756248\ttotal: 2.39s\tremaining: 1.05s\n",
      "695:\tlearn: 0.0755378\ttotal: 2.39s\tremaining: 1.04s\n",
      "696:\tlearn: 0.0754202\ttotal: 2.39s\tremaining: 1.04s\n",
      "697:\tlearn: 0.0753548\ttotal: 2.39s\tremaining: 1.03s\n",
      "698:\tlearn: 0.0751533\ttotal: 2.39s\tremaining: 1.03s\n",
      "699:\tlearn: 0.0750499\ttotal: 2.4s\tremaining: 1.03s\n",
      "700:\tlearn: 0.0749624\ttotal: 2.4s\tremaining: 1.02s\n",
      "701:\tlearn: 0.0748594\ttotal: 2.4s\tremaining: 1.02s\n",
      "702:\tlearn: 0.0746987\ttotal: 2.4s\tremaining: 1.01s\n",
      "703:\tlearn: 0.0745186\ttotal: 2.4s\tremaining: 1.01s\n",
      "704:\tlearn: 0.0743409\ttotal: 2.41s\tremaining: 1.01s\n",
      "705:\tlearn: 0.0742319\ttotal: 2.41s\tremaining: 1s\n",
      "706:\tlearn: 0.0740353\ttotal: 2.41s\tremaining: 1000ms\n",
      "707:\tlearn: 0.0738818\ttotal: 2.41s\tremaining: 996ms\n",
      "708:\tlearn: 0.0737992\ttotal: 2.42s\tremaining: 992ms\n",
      "709:\tlearn: 0.0736805\ttotal: 2.42s\tremaining: 988ms\n",
      "710:\tlearn: 0.0735766\ttotal: 2.42s\tremaining: 985ms\n",
      "711:\tlearn: 0.0734309\ttotal: 2.42s\tremaining: 981ms\n",
      "712:\tlearn: 0.0733647\ttotal: 2.43s\tremaining: 977ms\n",
      "713:\tlearn: 0.0732493\ttotal: 2.43s\tremaining: 973ms\n",
      "714:\tlearn: 0.0730819\ttotal: 2.43s\tremaining: 969ms\n",
      "715:\tlearn: 0.0729392\ttotal: 2.43s\tremaining: 965ms\n",
      "716:\tlearn: 0.0727179\ttotal: 2.43s\tremaining: 961ms\n",
      "717:\tlearn: 0.0725558\ttotal: 2.44s\tremaining: 957ms\n",
      "718:\tlearn: 0.0724201\ttotal: 2.44s\tremaining: 953ms\n",
      "719:\tlearn: 0.0723039\ttotal: 2.44s\tremaining: 949ms\n",
      "720:\tlearn: 0.0721571\ttotal: 2.44s\tremaining: 945ms\n",
      "721:\tlearn: 0.0720649\ttotal: 2.44s\tremaining: 941ms\n",
      "722:\tlearn: 0.0720340\ttotal: 2.44s\tremaining: 937ms\n",
      "723:\tlearn: 0.0718915\ttotal: 2.45s\tremaining: 933ms\n",
      "724:\tlearn: 0.0718131\ttotal: 2.45s\tremaining: 929ms\n",
      "725:\tlearn: 0.0717021\ttotal: 2.45s\tremaining: 926ms\n",
      "726:\tlearn: 0.0716189\ttotal: 2.45s\tremaining: 922ms\n",
      "727:\tlearn: 0.0715034\ttotal: 2.46s\tremaining: 918ms\n",
      "728:\tlearn: 0.0714548\ttotal: 2.46s\tremaining: 914ms\n",
      "729:\tlearn: 0.0713609\ttotal: 2.46s\tremaining: 911ms\n",
      "730:\tlearn: 0.0713019\ttotal: 2.46s\tremaining: 907ms\n",
      "731:\tlearn: 0.0712141\ttotal: 2.47s\tremaining: 903ms\n",
      "732:\tlearn: 0.0710853\ttotal: 2.47s\tremaining: 900ms\n",
      "733:\tlearn: 0.0709247\ttotal: 2.47s\tremaining: 896ms\n",
      "734:\tlearn: 0.0708207\ttotal: 2.47s\tremaining: 892ms\n",
      "735:\tlearn: 0.0706918\ttotal: 2.48s\tremaining: 888ms\n",
      "736:\tlearn: 0.0705557\ttotal: 2.48s\tremaining: 884ms\n",
      "737:\tlearn: 0.0704307\ttotal: 2.48s\tremaining: 880ms\n",
      "738:\tlearn: 0.0703357\ttotal: 2.48s\tremaining: 877ms\n",
      "739:\tlearn: 0.0702356\ttotal: 2.48s\tremaining: 873ms\n",
      "740:\tlearn: 0.0701744\ttotal: 2.49s\tremaining: 869ms\n",
      "741:\tlearn: 0.0700977\ttotal: 2.49s\tremaining: 866ms\n"
     ]
    },
    {
     "name": "stdout",
     "output_type": "stream",
     "text": [
      "742:\tlearn: 0.0699995\ttotal: 2.49s\tremaining: 862ms\n",
      "743:\tlearn: 0.0698968\ttotal: 2.49s\tremaining: 858ms\n",
      "744:\tlearn: 0.0697861\ttotal: 2.5s\tremaining: 855ms\n",
      "745:\tlearn: 0.0697001\ttotal: 2.5s\tremaining: 851ms\n",
      "746:\tlearn: 0.0696194\ttotal: 2.5s\tremaining: 848ms\n",
      "747:\tlearn: 0.0695520\ttotal: 2.5s\tremaining: 844ms\n",
      "748:\tlearn: 0.0693356\ttotal: 2.51s\tremaining: 841ms\n",
      "749:\tlearn: 0.0692430\ttotal: 2.51s\tremaining: 837ms\n",
      "750:\tlearn: 0.0691066\ttotal: 2.51s\tremaining: 833ms\n",
      "751:\tlearn: 0.0690384\ttotal: 2.52s\tremaining: 830ms\n",
      "752:\tlearn: 0.0689491\ttotal: 2.52s\tremaining: 826ms\n",
      "753:\tlearn: 0.0688569\ttotal: 2.52s\tremaining: 823ms\n",
      "754:\tlearn: 0.0687530\ttotal: 2.53s\tremaining: 820ms\n",
      "755:\tlearn: 0.0686430\ttotal: 2.53s\tremaining: 817ms\n",
      "756:\tlearn: 0.0684597\ttotal: 2.53s\tremaining: 813ms\n",
      "757:\tlearn: 0.0684164\ttotal: 2.53s\tremaining: 809ms\n",
      "758:\tlearn: 0.0683872\ttotal: 2.54s\tremaining: 805ms\n",
      "759:\tlearn: 0.0682821\ttotal: 2.54s\tremaining: 802ms\n",
      "760:\tlearn: 0.0681384\ttotal: 2.54s\tremaining: 798ms\n",
      "761:\tlearn: 0.0680527\ttotal: 2.54s\tremaining: 795ms\n",
      "762:\tlearn: 0.0679562\ttotal: 2.55s\tremaining: 791ms\n",
      "763:\tlearn: 0.0678217\ttotal: 2.55s\tremaining: 788ms\n",
      "764:\tlearn: 0.0677500\ttotal: 2.55s\tremaining: 784ms\n",
      "765:\tlearn: 0.0676065\ttotal: 2.56s\tremaining: 781ms\n",
      "766:\tlearn: 0.0675152\ttotal: 2.56s\tremaining: 777ms\n",
      "767:\tlearn: 0.0673639\ttotal: 2.56s\tremaining: 774ms\n",
      "768:\tlearn: 0.0672814\ttotal: 2.56s\tremaining: 770ms\n",
      "769:\tlearn: 0.0672509\ttotal: 2.57s\tremaining: 766ms\n",
      "770:\tlearn: 0.0672011\ttotal: 2.57s\tremaining: 763ms\n",
      "771:\tlearn: 0.0671034\ttotal: 2.57s\tremaining: 759ms\n",
      "772:\tlearn: 0.0669805\ttotal: 2.57s\tremaining: 756ms\n",
      "773:\tlearn: 0.0669398\ttotal: 2.58s\tremaining: 752ms\n",
      "774:\tlearn: 0.0668500\ttotal: 2.58s\tremaining: 749ms\n",
      "775:\tlearn: 0.0668418\ttotal: 2.58s\tremaining: 746ms\n",
      "776:\tlearn: 0.0667872\ttotal: 2.59s\tremaining: 743ms\n",
      "777:\tlearn: 0.0667324\ttotal: 2.59s\tremaining: 739ms\n",
      "778:\tlearn: 0.0666608\ttotal: 2.59s\tremaining: 735ms\n",
      "779:\tlearn: 0.0665400\ttotal: 2.59s\tremaining: 732ms\n",
      "780:\tlearn: 0.0664220\ttotal: 2.6s\tremaining: 728ms\n",
      "781:\tlearn: 0.0663188\ttotal: 2.6s\tremaining: 724ms\n",
      "782:\tlearn: 0.0662342\ttotal: 2.6s\tremaining: 721ms\n",
      "783:\tlearn: 0.0661711\ttotal: 2.6s\tremaining: 717ms\n",
      "784:\tlearn: 0.0661063\ttotal: 2.6s\tremaining: 713ms\n",
      "785:\tlearn: 0.0660407\ttotal: 2.61s\tremaining: 710ms\n",
      "786:\tlearn: 0.0659122\ttotal: 2.61s\tremaining: 706ms\n",
      "787:\tlearn: 0.0657484\ttotal: 2.61s\tremaining: 702ms\n",
      "788:\tlearn: 0.0656298\ttotal: 2.61s\tremaining: 699ms\n",
      "789:\tlearn: 0.0655598\ttotal: 2.61s\tremaining: 695ms\n",
      "790:\tlearn: 0.0654489\ttotal: 2.62s\tremaining: 691ms\n",
      "791:\tlearn: 0.0653996\ttotal: 2.62s\tremaining: 688ms\n",
      "792:\tlearn: 0.0653484\ttotal: 2.62s\tremaining: 684ms\n",
      "793:\tlearn: 0.0652440\ttotal: 2.62s\tremaining: 680ms\n",
      "794:\tlearn: 0.0651810\ttotal: 2.62s\tremaining: 677ms\n",
      "795:\tlearn: 0.0650754\ttotal: 2.63s\tremaining: 673ms\n",
      "796:\tlearn: 0.0649450\ttotal: 2.63s\tremaining: 669ms\n",
      "797:\tlearn: 0.0648501\ttotal: 2.63s\tremaining: 666ms\n",
      "798:\tlearn: 0.0647358\ttotal: 2.63s\tremaining: 662ms\n",
      "799:\tlearn: 0.0646408\ttotal: 2.63s\tremaining: 659ms\n",
      "800:\tlearn: 0.0645832\ttotal: 2.64s\tremaining: 655ms\n",
      "801:\tlearn: 0.0645236\ttotal: 2.64s\tremaining: 652ms\n",
      "802:\tlearn: 0.0643406\ttotal: 2.64s\tremaining: 648ms\n",
      "803:\tlearn: 0.0642611\ttotal: 2.64s\tremaining: 645ms\n",
      "804:\tlearn: 0.0641995\ttotal: 2.65s\tremaining: 641ms\n",
      "805:\tlearn: 0.0641221\ttotal: 2.65s\tremaining: 637ms\n",
      "806:\tlearn: 0.0640292\ttotal: 2.65s\tremaining: 634ms\n",
      "807:\tlearn: 0.0638732\ttotal: 2.65s\tremaining: 630ms\n",
      "808:\tlearn: 0.0637836\ttotal: 2.65s\tremaining: 626ms\n",
      "809:\tlearn: 0.0636725\ttotal: 2.65s\tremaining: 623ms\n",
      "810:\tlearn: 0.0635306\ttotal: 2.66s\tremaining: 619ms\n",
      "811:\tlearn: 0.0634506\ttotal: 2.66s\tremaining: 616ms\n",
      "812:\tlearn: 0.0633827\ttotal: 2.66s\tremaining: 612ms\n",
      "813:\tlearn: 0.0632752\ttotal: 2.66s\tremaining: 608ms\n",
      "814:\tlearn: 0.0632052\ttotal: 2.66s\tremaining: 605ms\n",
      "815:\tlearn: 0.0630670\ttotal: 2.67s\tremaining: 601ms\n",
      "816:\tlearn: 0.0629424\ttotal: 2.67s\tremaining: 598ms\n"
     ]
    },
    {
     "name": "stdout",
     "output_type": "stream",
     "text": [
      "817:\tlearn: 0.0628413\ttotal: 2.67s\tremaining: 595ms\n",
      "818:\tlearn: 0.0627673\ttotal: 2.67s\tremaining: 591ms\n",
      "819:\tlearn: 0.0626575\ttotal: 2.68s\tremaining: 588ms\n",
      "820:\tlearn: 0.0625508\ttotal: 2.68s\tremaining: 584ms\n",
      "821:\tlearn: 0.0625153\ttotal: 2.68s\tremaining: 581ms\n",
      "822:\tlearn: 0.0624978\ttotal: 2.68s\tremaining: 577ms\n",
      "823:\tlearn: 0.0623777\ttotal: 2.69s\tremaining: 574ms\n",
      "824:\tlearn: 0.0622613\ttotal: 2.69s\tremaining: 570ms\n",
      "825:\tlearn: 0.0621630\ttotal: 2.69s\tremaining: 567ms\n",
      "826:\tlearn: 0.0620896\ttotal: 2.69s\tremaining: 563ms\n",
      "827:\tlearn: 0.0619575\ttotal: 2.69s\tremaining: 560ms\n",
      "828:\tlearn: 0.0618463\ttotal: 2.7s\tremaining: 556ms\n",
      "829:\tlearn: 0.0617492\ttotal: 2.7s\tremaining: 553ms\n",
      "830:\tlearn: 0.0616005\ttotal: 2.7s\tremaining: 549ms\n",
      "831:\tlearn: 0.0615169\ttotal: 2.7s\tremaining: 546ms\n",
      "832:\tlearn: 0.0614543\ttotal: 2.7s\tremaining: 542ms\n",
      "833:\tlearn: 0.0613484\ttotal: 2.71s\tremaining: 539ms\n",
      "834:\tlearn: 0.0612442\ttotal: 2.71s\tremaining: 535ms\n",
      "835:\tlearn: 0.0611649\ttotal: 2.71s\tremaining: 532ms\n",
      "836:\tlearn: 0.0610339\ttotal: 2.71s\tremaining: 529ms\n",
      "837:\tlearn: 0.0609504\ttotal: 2.72s\tremaining: 525ms\n",
      "838:\tlearn: 0.0608281\ttotal: 2.72s\tremaining: 522ms\n",
      "839:\tlearn: 0.0607325\ttotal: 2.72s\tremaining: 519ms\n",
      "840:\tlearn: 0.0606285\ttotal: 2.73s\tremaining: 515ms\n",
      "841:\tlearn: 0.0605282\ttotal: 2.73s\tremaining: 512ms\n",
      "842:\tlearn: 0.0604170\ttotal: 2.73s\tremaining: 509ms\n",
      "843:\tlearn: 0.0603508\ttotal: 2.73s\tremaining: 505ms\n",
      "844:\tlearn: 0.0602522\ttotal: 2.74s\tremaining: 502ms\n",
      "845:\tlearn: 0.0601863\ttotal: 2.74s\tremaining: 499ms\n",
      "846:\tlearn: 0.0600795\ttotal: 2.74s\tremaining: 495ms\n",
      "847:\tlearn: 0.0599714\ttotal: 2.75s\tremaining: 492ms\n",
      "848:\tlearn: 0.0598964\ttotal: 2.75s\tremaining: 489ms\n",
      "849:\tlearn: 0.0598174\ttotal: 2.75s\tremaining: 485ms\n",
      "850:\tlearn: 0.0596799\ttotal: 2.75s\tremaining: 482ms\n",
      "851:\tlearn: 0.0595663\ttotal: 2.75s\tremaining: 479ms\n",
      "852:\tlearn: 0.0595016\ttotal: 2.76s\tremaining: 475ms\n",
      "853:\tlearn: 0.0594371\ttotal: 2.76s\tremaining: 472ms\n",
      "854:\tlearn: 0.0593173\ttotal: 2.77s\tremaining: 469ms\n",
      "855:\tlearn: 0.0592221\ttotal: 2.77s\tremaining: 466ms\n",
      "856:\tlearn: 0.0590737\ttotal: 2.77s\tremaining: 463ms\n",
      "857:\tlearn: 0.0590031\ttotal: 2.78s\tremaining: 459ms\n",
      "858:\tlearn: 0.0589408\ttotal: 2.78s\tremaining: 456ms\n",
      "859:\tlearn: 0.0587668\ttotal: 2.78s\tremaining: 453ms\n",
      "860:\tlearn: 0.0586698\ttotal: 2.78s\tremaining: 450ms\n",
      "861:\tlearn: 0.0585693\ttotal: 2.79s\tremaining: 446ms\n",
      "862:\tlearn: 0.0585215\ttotal: 2.79s\tremaining: 443ms\n",
      "863:\tlearn: 0.0583767\ttotal: 2.8s\tremaining: 440ms\n",
      "864:\tlearn: 0.0583375\ttotal: 2.8s\tremaining: 437ms\n",
      "865:\tlearn: 0.0583079\ttotal: 2.8s\tremaining: 434ms\n",
      "866:\tlearn: 0.0582465\ttotal: 2.81s\tremaining: 431ms\n",
      "867:\tlearn: 0.0581343\ttotal: 2.81s\tremaining: 427ms\n",
      "868:\tlearn: 0.0580279\ttotal: 2.81s\tremaining: 424ms\n",
      "869:\tlearn: 0.0579495\ttotal: 2.81s\tremaining: 421ms\n",
      "870:\tlearn: 0.0578418\ttotal: 2.82s\tremaining: 417ms\n",
      "871:\tlearn: 0.0577913\ttotal: 2.82s\tremaining: 414ms\n",
      "872:\tlearn: 0.0577051\ttotal: 2.82s\tremaining: 411ms\n",
      "873:\tlearn: 0.0576135\ttotal: 2.83s\tremaining: 407ms\n",
      "874:\tlearn: 0.0575495\ttotal: 2.83s\tremaining: 404ms\n",
      "875:\tlearn: 0.0574809\ttotal: 2.83s\tremaining: 401ms\n"
     ]
    },
    {
     "name": "stdout",
     "output_type": "stream",
     "text": [
      "876:\tlearn: 0.0574167\ttotal: 2.84s\tremaining: 398ms\n",
      "877:\tlearn: 0.0573421\ttotal: 2.84s\tremaining: 395ms\n",
      "878:\tlearn: 0.0572568\ttotal: 2.85s\tremaining: 392ms\n",
      "879:\tlearn: 0.0571866\ttotal: 2.85s\tremaining: 389ms\n",
      "880:\tlearn: 0.0570944\ttotal: 2.85s\tremaining: 386ms\n",
      "881:\tlearn: 0.0569983\ttotal: 2.86s\tremaining: 382ms\n",
      "882:\tlearn: 0.0568956\ttotal: 2.86s\tremaining: 379ms\n",
      "883:\tlearn: 0.0568004\ttotal: 2.86s\tremaining: 376ms\n",
      "884:\tlearn: 0.0567281\ttotal: 2.87s\tremaining: 372ms\n",
      "885:\tlearn: 0.0566262\ttotal: 2.87s\tremaining: 369ms\n",
      "886:\tlearn: 0.0565557\ttotal: 2.87s\tremaining: 366ms\n",
      "887:\tlearn: 0.0565183\ttotal: 2.87s\tremaining: 363ms\n",
      "888:\tlearn: 0.0563910\ttotal: 2.88s\tremaining: 359ms\n",
      "889:\tlearn: 0.0563267\ttotal: 2.88s\tremaining: 356ms\n",
      "890:\tlearn: 0.0562439\ttotal: 2.89s\tremaining: 353ms\n",
      "891:\tlearn: 0.0562032\ttotal: 2.89s\tremaining: 350ms\n",
      "892:\tlearn: 0.0560192\ttotal: 2.89s\tremaining: 346ms\n",
      "893:\tlearn: 0.0559293\ttotal: 2.89s\tremaining: 343ms\n",
      "894:\tlearn: 0.0558407\ttotal: 2.9s\tremaining: 340ms\n",
      "895:\tlearn: 0.0557419\ttotal: 2.9s\tremaining: 336ms\n",
      "896:\tlearn: 0.0556171\ttotal: 2.9s\tremaining: 333ms\n",
      "897:\tlearn: 0.0555421\ttotal: 2.9s\tremaining: 330ms\n",
      "898:\tlearn: 0.0555337\ttotal: 2.91s\tremaining: 326ms\n",
      "899:\tlearn: 0.0554782\ttotal: 2.91s\tremaining: 323ms\n",
      "900:\tlearn: 0.0554115\ttotal: 2.91s\tremaining: 320ms\n",
      "901:\tlearn: 0.0552828\ttotal: 2.91s\tremaining: 316ms\n",
      "902:\tlearn: 0.0551735\ttotal: 2.91s\tremaining: 313ms\n",
      "903:\tlearn: 0.0550970\ttotal: 2.92s\tremaining: 310ms\n",
      "904:\tlearn: 0.0550133\ttotal: 2.92s\tremaining: 306ms\n",
      "905:\tlearn: 0.0549200\ttotal: 2.92s\tremaining: 303ms\n",
      "906:\tlearn: 0.0548101\ttotal: 2.92s\tremaining: 300ms\n",
      "907:\tlearn: 0.0547251\ttotal: 2.92s\tremaining: 296ms\n",
      "908:\tlearn: 0.0546512\ttotal: 2.92s\tremaining: 293ms\n",
      "909:\tlearn: 0.0545940\ttotal: 2.93s\tremaining: 290ms\n",
      "910:\tlearn: 0.0545053\ttotal: 2.93s\tremaining: 286ms\n",
      "911:\tlearn: 0.0544639\ttotal: 2.93s\tremaining: 283ms\n",
      "912:\tlearn: 0.0544248\ttotal: 2.93s\tremaining: 280ms\n",
      "913:\tlearn: 0.0543587\ttotal: 2.94s\tremaining: 276ms\n",
      "914:\tlearn: 0.0542469\ttotal: 2.94s\tremaining: 273ms\n",
      "915:\tlearn: 0.0541487\ttotal: 2.94s\tremaining: 270ms\n",
      "916:\tlearn: 0.0540255\ttotal: 2.94s\tremaining: 266ms\n",
      "917:\tlearn: 0.0539898\ttotal: 2.94s\tremaining: 263ms\n",
      "918:\tlearn: 0.0538796\ttotal: 2.95s\tremaining: 260ms\n",
      "919:\tlearn: 0.0538389\ttotal: 2.95s\tremaining: 256ms\n",
      "920:\tlearn: 0.0537172\ttotal: 2.95s\tremaining: 253ms\n",
      "921:\tlearn: 0.0536684\ttotal: 2.95s\tremaining: 250ms\n",
      "922:\tlearn: 0.0535946\ttotal: 2.95s\tremaining: 246ms\n",
      "923:\tlearn: 0.0535138\ttotal: 2.96s\tremaining: 243ms\n",
      "924:\tlearn: 0.0534049\ttotal: 2.96s\tremaining: 240ms\n",
      "925:\tlearn: 0.0533433\ttotal: 2.96s\tremaining: 237ms\n",
      "926:\tlearn: 0.0532821\ttotal: 2.96s\tremaining: 234ms\n",
      "927:\tlearn: 0.0531921\ttotal: 2.97s\tremaining: 230ms\n",
      "928:\tlearn: 0.0531406\ttotal: 2.97s\tremaining: 227ms\n",
      "929:\tlearn: 0.0530146\ttotal: 2.97s\tremaining: 224ms\n",
      "930:\tlearn: 0.0529670\ttotal: 2.98s\tremaining: 220ms\n",
      "931:\tlearn: 0.0528530\ttotal: 2.98s\tremaining: 217ms\n",
      "932:\tlearn: 0.0527942\ttotal: 2.98s\tremaining: 214ms\n",
      "933:\tlearn: 0.0527814\ttotal: 2.98s\tremaining: 211ms\n",
      "934:\tlearn: 0.0527267\ttotal: 2.98s\tremaining: 207ms\n",
      "935:\tlearn: 0.0526095\ttotal: 2.98s\tremaining: 204ms\n",
      "936:\tlearn: 0.0525577\ttotal: 2.99s\tremaining: 201ms\n",
      "937:\tlearn: 0.0524677\ttotal: 2.99s\tremaining: 198ms\n",
      "938:\tlearn: 0.0524161\ttotal: 2.99s\tremaining: 194ms\n",
      "939:\tlearn: 0.0523110\ttotal: 2.99s\tremaining: 191ms\n",
      "940:\tlearn: 0.0521868\ttotal: 2.99s\tremaining: 188ms\n",
      "941:\tlearn: 0.0521363\ttotal: 3s\tremaining: 185ms\n",
      "942:\tlearn: 0.0521035\ttotal: 3s\tremaining: 181ms\n",
      "943:\tlearn: 0.0520001\ttotal: 3s\tremaining: 178ms\n",
      "944:\tlearn: 0.0519224\ttotal: 3.01s\tremaining: 175ms\n",
      "945:\tlearn: 0.0518946\ttotal: 3.01s\tremaining: 172ms\n",
      "946:\tlearn: 0.0518190\ttotal: 3.01s\tremaining: 169ms\n"
     ]
    },
    {
     "name": "stdout",
     "output_type": "stream",
     "text": [
      "947:\tlearn: 0.0517567\ttotal: 3.01s\tremaining: 165ms\n",
      "948:\tlearn: 0.0516966\ttotal: 3.02s\tremaining: 162ms\n",
      "949:\tlearn: 0.0516160\ttotal: 3.02s\tremaining: 159ms\n",
      "950:\tlearn: 0.0515618\ttotal: 3.02s\tremaining: 156ms\n",
      "951:\tlearn: 0.0514863\ttotal: 3.02s\tremaining: 152ms\n",
      "952:\tlearn: 0.0514571\ttotal: 3.03s\tremaining: 149ms\n",
      "953:\tlearn: 0.0513721\ttotal: 3.03s\tremaining: 146ms\n",
      "954:\tlearn: 0.0513586\ttotal: 3.03s\tremaining: 143ms\n",
      "955:\tlearn: 0.0513498\ttotal: 3.03s\tremaining: 140ms\n",
      "956:\tlearn: 0.0512790\ttotal: 3.04s\tremaining: 136ms\n",
      "957:\tlearn: 0.0511990\ttotal: 3.04s\tremaining: 133ms\n",
      "958:\tlearn: 0.0511258\ttotal: 3.04s\tremaining: 130ms\n",
      "959:\tlearn: 0.0511035\ttotal: 3.04s\tremaining: 127ms\n",
      "960:\tlearn: 0.0510311\ttotal: 3.04s\tremaining: 124ms\n",
      "961:\tlearn: 0.0509646\ttotal: 3.05s\tremaining: 120ms\n",
      "962:\tlearn: 0.0508967\ttotal: 3.05s\tremaining: 117ms\n",
      "963:\tlearn: 0.0508276\ttotal: 3.05s\tremaining: 114ms\n",
      "964:\tlearn: 0.0507706\ttotal: 3.06s\tremaining: 111ms\n",
      "965:\tlearn: 0.0506973\ttotal: 3.08s\tremaining: 108ms\n",
      "966:\tlearn: 0.0506077\ttotal: 3.09s\tremaining: 105ms\n",
      "967:\tlearn: 0.0505454\ttotal: 3.09s\tremaining: 102ms\n",
      "968:\tlearn: 0.0504286\ttotal: 3.09s\tremaining: 98.9ms\n",
      "969:\tlearn: 0.0503984\ttotal: 3.09s\tremaining: 95.7ms\n",
      "970:\tlearn: 0.0503007\ttotal: 3.1s\tremaining: 92.5ms\n",
      "971:\tlearn: 0.0502118\ttotal: 3.1s\tremaining: 89.3ms\n",
      "972:\tlearn: 0.0501248\ttotal: 3.1s\tremaining: 86.1ms\n",
      "973:\tlearn: 0.0500395\ttotal: 3.1s\tremaining: 82.9ms\n",
      "974:\tlearn: 0.0499703\ttotal: 3.1s\tremaining: 79.6ms\n",
      "975:\tlearn: 0.0499150\ttotal: 3.11s\tremaining: 76.5ms\n",
      "976:\tlearn: 0.0498098\ttotal: 3.11s\tremaining: 73.3ms\n",
      "977:\tlearn: 0.0497306\ttotal: 3.11s\tremaining: 70.1ms\n",
      "978:\tlearn: 0.0496814\ttotal: 3.12s\tremaining: 66.9ms\n",
      "979:\tlearn: 0.0495919\ttotal: 3.12s\tremaining: 63.7ms\n",
      "980:\tlearn: 0.0494401\ttotal: 3.12s\tremaining: 60.4ms\n",
      "981:\tlearn: 0.0493993\ttotal: 3.12s\tremaining: 57.3ms\n",
      "982:\tlearn: 0.0493277\ttotal: 3.13s\tremaining: 54.1ms\n",
      "983:\tlearn: 0.0492085\ttotal: 3.13s\tremaining: 50.9ms\n",
      "984:\tlearn: 0.0491725\ttotal: 3.13s\tremaining: 47.7ms\n",
      "985:\tlearn: 0.0490956\ttotal: 3.13s\tremaining: 44.5ms\n",
      "986:\tlearn: 0.0490097\ttotal: 3.14s\tremaining: 41.3ms\n",
      "987:\tlearn: 0.0489471\ttotal: 3.14s\tremaining: 38.1ms\n",
      "988:\tlearn: 0.0489064\ttotal: 3.14s\tremaining: 34.9ms\n",
      "989:\tlearn: 0.0488648\ttotal: 3.14s\tremaining: 31.8ms\n",
      "990:\tlearn: 0.0488191\ttotal: 3.15s\tremaining: 28.6ms\n",
      "991:\tlearn: 0.0487777\ttotal: 3.15s\tremaining: 25.4ms\n",
      "992:\tlearn: 0.0487097\ttotal: 3.15s\tremaining: 22.2ms\n",
      "993:\tlearn: 0.0486321\ttotal: 3.15s\tremaining: 19ms\n",
      "994:\tlearn: 0.0486129\ttotal: 3.15s\tremaining: 15.8ms\n",
      "995:\tlearn: 0.0485241\ttotal: 3.15s\tremaining: 12.7ms\n",
      "996:\tlearn: 0.0484475\ttotal: 3.16s\tremaining: 9.5ms\n",
      "997:\tlearn: 0.0482975\ttotal: 3.16s\tremaining: 6.33ms\n",
      "998:\tlearn: 0.0482909\ttotal: 3.16s\tremaining: 3.16ms\n",
      "999:\tlearn: 0.0482268\ttotal: 3.16s\tremaining: 0us\n"
     ]
    },
    {
     "data": {
      "text/plain": [
       "<catboost.core.CatBoostRegressor at 0x7f8e3ccdae50>"
      ]
     },
     "execution_count": 9,
     "metadata": {},
     "output_type": "execute_result"
    }
   ],
   "source": [
    "#Train the Model \n",
    "prior_model = ctb.CatBoostRegressor()\n",
    "prior_model.fit(X_train,Y_train)"
   ]
  },
  {
   "cell_type": "code",
   "execution_count": 10,
   "id": "af65dcda",
   "metadata": {
    "execution": {
     "iopub.execute_input": "2022-07-22T20:54:19.819791Z",
     "iopub.status.busy": "2022-07-22T20:54:19.819312Z",
     "iopub.status.idle": "2022-07-22T20:54:19.854574Z",
     "shell.execute_reply": "2022-07-22T20:54:19.853694Z"
    },
    "id": "af65dcda",
    "papermill": {
     "duration": 0.055156,
     "end_time": "2022-07-22T20:54:19.857953",
     "exception": false,
     "start_time": "2022-07-22T20:54:19.802797",
     "status": "completed"
    },
    "tags": []
   },
   "outputs": [
    {
     "data": {
      "application/scrapbook.scrap.json+json": {
       "data": 0.14731863734539816,
       "encoder": "json",
       "name": "Prior Model MSE",
       "version": 1
      }
     },
     "metadata": {
      "scrapbook": {
       "data": true,
       "display": false,
       "name": "Prior Model MSE"
      }
     },
     "output_type": "display_data"
    },
    {
     "data": {
      "application/scrapbook.scrap.json+json": {
       "data": 0.14989855810631175,
       "encoder": "json",
       "name": "ABC Pre-generator MSE",
       "version": 1
      }
     },
     "metadata": {
      "scrapbook": {
       "data": true,
       "display": false,
       "name": "ABC Pre-generator MSE"
      }
     },
     "output_type": "display_data"
    },
    {
     "data": {
      "application/scrapbook.scrap.json+json": {
       "data": 0.2516829890329526,
       "encoder": "json",
       "name": "Prior Model MAE",
       "version": 1
      }
     },
     "metadata": {
      "scrapbook": {
       "data": true,
       "display": false,
       "name": "Prior Model MAE"
      }
     },
     "output_type": "display_data"
    },
    {
     "name": "stdout",
     "output_type": "stream",
     "text": [
      "Prior Model MAE 0.2516829890329526\n",
      "ABC Pre-generator MAE 0.2683063925508306\n"
     ]
    }
   ],
   "source": [
    "y_pred = prior_model.predict(X_test)\n",
    "y_abc = y_pred + np.random.normal(0,variance, y_pred.shape) + bias \n",
    "mse = mean_squared_error(y_pred,Y_test)\n",
    "sb.glue(\"Prior Model MSE\",mse)\n",
    "mse = mean_squared_error(y_abc,Y_test)\n",
    "sb.glue(\"ABC Pre-generator MSE\",mse)\n",
    "mae = mean_absolute_error(y_pred,Y_test)\n",
    "sb.glue(\"Prior Model MAE\",mae)\n",
    "print(\"Prior Model MAE\",mae)\n",
    "mae = mean_absolute_error(y_abc,Y_test)\n",
    "print(\"ABC Pre-generator MAE\",mae)"
   ]
  },
  {
   "cell_type": "markdown",
   "id": "25609da2",
   "metadata": {
    "papermill": {
     "duration": 0.012724,
     "end_time": "2022-07-22T20:54:19.881755",
     "exception": false,
     "start_time": "2022-07-22T20:54:19.869031",
     "status": "completed"
    },
    "tags": []
   },
   "source": [
    "# mGAN Model"
   ]
  },
  {
   "cell_type": "code",
   "execution_count": 11,
   "id": "dfc3464d",
   "metadata": {
    "execution": {
     "iopub.execute_input": "2022-07-22T20:54:19.918684Z",
     "iopub.status.busy": "2022-07-22T20:54:19.917597Z",
     "iopub.status.idle": "2022-07-22T20:54:19.940933Z",
     "shell.execute_reply": "2022-07-22T20:54:19.934446Z"
    },
    "papermill": {
     "duration": 0.053425,
     "end_time": "2022-07-22T20:54:19.949531",
     "exception": false,
     "start_time": "2022-07-22T20:54:19.896106",
     "status": "completed"
    },
    "tags": []
   },
   "outputs": [],
   "source": [
    "# gen = network.Generator(n_features+1).to(device)\n",
    "# disc = network.Discriminator(n_features+1).to(device)\n",
    "\n",
    "# criterion = torch.nn.BCELoss()\n",
    "# gen_opt = torch.optim.Adam(gen.parameters(), lr=0.01, betas=(0.5, 0.999))\n",
    "# disc_opt = torch.optim.Adam(disc.parameters(), lr=0.01, betas=(0.5, 0.999))"
   ]
  },
  {
   "cell_type": "code",
   "execution_count": 12,
   "id": "b75fdd85",
   "metadata": {
    "execution": {
     "iopub.execute_input": "2022-07-22T20:54:19.980596Z",
     "iopub.status.busy": "2022-07-22T20:54:19.979958Z",
     "iopub.status.idle": "2022-07-22T20:54:19.985769Z",
     "shell.execute_reply": "2022-07-22T20:54:19.984598Z"
    },
    "papermill": {
     "duration": 0.026766,
     "end_time": "2022-07-22T20:54:19.988470",
     "exception": false,
     "start_time": "2022-07-22T20:54:19.961704",
     "status": "completed"
    },
    "tags": []
   },
   "outputs": [],
   "source": [
    "#Training the ABC_GAN \n",
    "# ABC_train_test2.training_GAN(disc,gen,disc_opt,gen_opt,train_data,batch_size,n_epochs,criterion,prior_model,variance,bias,device)"
   ]
  },
  {
   "cell_type": "code",
   "execution_count": 13,
   "id": "1fa7c368",
   "metadata": {
    "execution": {
     "iopub.execute_input": "2022-07-22T20:54:20.029367Z",
     "iopub.status.busy": "2022-07-22T20:54:20.028871Z",
     "iopub.status.idle": "2022-07-22T20:54:20.034786Z",
     "shell.execute_reply": "2022-07-22T20:54:20.032784Z"
    },
    "papermill": {
     "duration": 0.038755,
     "end_time": "2022-07-22T20:54:20.039705",
     "exception": false,
     "start_time": "2022-07-22T20:54:20.000950",
     "status": "completed"
    },
    "tags": []
   },
   "outputs": [],
   "source": [
    "# ABC_GAN1_metrics=ABC_train_test2.test_generator(gen,test_data,prior_model,variance,bias,\"1\",device)\n",
    "# sb.glue(\"ABC_GAN_1 Metrics\",ABC_GAN1_metrics)\n",
    "\n",
    "# print(\"MAE\")\n",
    "# print(mean(ABC_GAN1_metrics[1]))"
   ]
  },
  {
   "cell_type": "code",
   "execution_count": 14,
   "id": "eb22ce5c",
   "metadata": {
    "execution": {
     "iopub.execute_input": "2022-07-22T20:54:20.078627Z",
     "iopub.status.busy": "2022-07-22T20:54:20.078324Z",
     "iopub.status.idle": "2022-07-22T20:54:20.083597Z",
     "shell.execute_reply": "2022-07-22T20:54:20.081668Z"
    },
    "papermill": {
     "duration": 0.036272,
     "end_time": "2022-07-22T20:54:20.087028",
     "exception": false,
     "start_time": "2022-07-22T20:54:20.050756",
     "status": "completed"
    },
    "tags": []
   },
   "outputs": [],
   "source": [
    "# sanityChecks.discProbVsError(train_data,disc,device)\n",
    "# sanityChecks.discProbVsError(test_data,disc,device)"
   ]
  },
  {
   "cell_type": "markdown",
   "id": "8e2b0730",
   "metadata": {
    "papermill": {
     "duration": 0.010958,
     "end_time": "2022-07-22T20:54:20.110196",
     "exception": false,
     "start_time": "2022-07-22T20:54:20.099238",
     "status": "completed"
    },
    "tags": []
   },
   "source": [
    "# mGAN Model with TabNet Generator"
   ]
  },
  {
   "cell_type": "code",
   "execution_count": 15,
   "id": "7110d9b4",
   "metadata": {
    "execution": {
     "iopub.execute_input": "2022-07-22T20:54:20.137892Z",
     "iopub.status.busy": "2022-07-22T20:54:20.137321Z",
     "iopub.status.idle": "2022-07-22T20:54:20.160025Z",
     "shell.execute_reply": "2022-07-22T20:54:20.157418Z"
    },
    "papermill": {
     "duration": 0.041332,
     "end_time": "2022-07-22T20:54:20.164107",
     "exception": false,
     "start_time": "2022-07-22T20:54:20.122775",
     "status": "completed"
    },
    "tags": []
   },
   "outputs": [],
   "source": [
    "gen2 = network.GeneratorTabnet(n_features+1).to(device)\n",
    "disc2 = network.Discriminator(n_features+1).to(device)\n",
    "\n",
    "criterion = torch.nn.BCELoss()\n",
    "gen_opt = torch.optim.Adam(gen2.parameters(), lr=0.01, betas=(0.5, 0.999))\n",
    "disc_opt = torch.optim.Adam(disc2.parameters(), lr=0.01, betas=(0.5, 0.999))"
   ]
  },
  {
   "cell_type": "code",
   "execution_count": 16,
   "id": "0a9b8ab3",
   "metadata": {
    "execution": {
     "iopub.execute_input": "2022-07-22T20:54:20.190001Z",
     "iopub.status.busy": "2022-07-22T20:54:20.189680Z",
     "iopub.status.idle": "2022-07-22T21:05:01.561323Z",
     "shell.execute_reply": "2022-07-22T21:05:01.558723Z"
    },
    "papermill": {
     "duration": 641.391025,
     "end_time": "2022-07-22T21:05:01.567499",
     "exception": false,
     "start_time": "2022-07-22T20:54:20.176474",
     "status": "completed"
    },
    "tags": []
   },
   "outputs": [
    {
     "data": {
      "image/png": "[encoded data removed]",
      "text/plain": [
       "<Figure size 432x288 with 1 Axes>"
      ]
     },
     "metadata": {
      "needs_background": "light"
     },
     "output_type": "display_data"
    },
    {
     "data": {
      "image/png": "[encoded data removed]",
      "text/plain": [
       "<Figure size 432x288 with 1 Axes>"
      ]
     },
     "metadata": {
      "needs_background": "light"
     },
     "output_type": "display_data"
    }
   ],
   "source": [
    "#Training the ABC_GAN \n",
    "ABC_train_test2.training_GAN(disc2,gen2,disc_opt,gen_opt,train_data,batch_size,n_epochs,criterion,prior_model,variance,bias,device)"
   ]
  },
  {
   "cell_type": "code",
   "execution_count": 17,
   "id": "df4bbd28",
   "metadata": {
    "execution": {
     "iopub.execute_input": "2022-07-22T21:05:01.801932Z",
     "iopub.status.busy": "2022-07-22T21:05:01.797481Z",
     "iopub.status.idle": "2022-07-22T21:05:03.881570Z",
     "shell.execute_reply": "2022-07-22T21:05:03.880470Z"
    },
    "papermill": {
     "duration": 2.30366,
     "end_time": "2022-07-22T21:05:03.884520",
     "exception": false,
     "start_time": "2022-07-22T21:05:01.580860",
     "status": "completed"
    },
    "tags": []
   },
   "outputs": [
    {
     "data": {
      "application/scrapbook.scrap.json+json": {
       "data": 0.1588101668600374,
       "encoder": "json",
       "name": "ABC-GAN Model 1 MSE",
       "version": 1
      }
     },
     "metadata": {
      "scrapbook": {
       "data": true,
       "display": false,
       "name": "ABC-GAN Model 1 MSE"
      }
     },
     "output_type": "display_data"
    },
    {
     "data": {
      "application/scrapbook.scrap.json+json": {
       "data": 0.2749480716687828,
       "encoder": "json",
       "name": "ABC-GAN Model 1 MAE",
       "version": 1
      }
     },
     "metadata": {
      "scrapbook": {
       "data": true,
       "display": false,
       "name": "ABC-GAN Model 1 MAE"
      }
     },
     "output_type": "display_data"
    },
    {
     "data": {
      "application/scrapbook.scrap.json+json": {
       "data": 28.044703310215844,
       "encoder": "json",
       "name": "ABC-GAN Model 1 Manhattan Distance",
       "version": 1
      }
     },
     "metadata": {
      "scrapbook": {
       "data": true,
       "display": false,
       "name": "ABC-GAN Model 1 Manhattan Distance"
      }
     },
     "output_type": "display_data"
    },
    {
     "data": {
      "application/scrapbook.scrap.json+json": {
       "data": 4.024740194022427,
       "encoder": "json",
       "name": "ABC-GAN Model 1 Euclidean distance",
       "version": 1
      }
     },
     "metadata": {
      "scrapbook": {
       "data": true,
       "display": false,
       "name": "ABC-GAN Model 1 Euclidean distance"
      }
     },
     "output_type": "display_data"
    },
    {
     "data": {
      "application/scrapbook.scrap.json+json": {
       "data": [
        [
         0.15900550863825377,
         0.15804334769967399,
         0.15916645396681706,
         0.15914899491141551,
         0.158237781880494,
         0.15872499146473418,
         0.15864103870604623,
         0.15909937279229255,
         0.158818470612462,
         0.1596055107693547,
         0.1597320204716113,
         0.1594485132972097,
         0.15817537346003888,
         0.15912639136720888,
         0.15813093469049566,
         0.15846410253790988,
         0.1587912677116718,
         0.16080105625319618,
         0.15892956622265714,
         0.158570493129634,
         0.15888568835972383,
         0.16023271759867136,
         0.15878563374946328,
         0.1588984139817839,
         0.15744357519167698,
         0.15866762014431912,
         0.15773849106183765,
         0.15931138713843573,
         0.15880370912945146,
         0.15999552326197566,
         0.15827883499986775,
         0.15809728495861083,
         0.15916092868026568,
         0.15848063620883812,
         0.15994492233743615,
         0.1599044569372736,
         0.15729928822796585,
         0.15903772919173748,
         0.1570011753351236,
         0.15937635050914034,
         0.15795469226849584,
         0.15851518950311425,
         0.15925653964407072,
         0.1584298589949975,
         0.15880452241812812,
         0.15866205095284938,
         0.15987297429352876,
         0.1588156242054253,
         0.15724958190064617,
         0.15854195416159478,
         0.15883163173528356,
         0.1576482540905807,
         0.15891653175078033,
         0.1611378211424826,
         0.15830202383512237,
         0.1593433936473442,
         0.15878954946831136,
         0.15834601426725128,
         0.15957412881180424,
         0.160402201286768,
         0.16006098307097522,
         0.1595016101516892,
         0.15981332159561645,
         0.15831308529336424,
         0.15805191693772727,
         0.15806217708782508,
         0.15903366689831183,
         0.15755474060082925,
         0.15941918713353864,
         0.15782462576226497,
         0.16048413639703868,
         0.15768529154502328,
         0.1583925686265686,
         0.15853723589914076,
         0.15814734988132814,
         0.1585006855953221,
         0.1581534648208997,
         0.1580774280977213,
         0.1581857809688846,
         0.1583230975427206,
         0.15966508798510667,
         0.15979462619951482,
         0.15855814422681966,
         0.1587911056188128,
         0.15997603683661407,
         0.15842207963205013,
         0.15842360379383263,
         0.1581229222758225,
         0.15890100139229668,
         0.1574944848909707,
         0.1596002384535293,
         0.15930733979388778,
         0.15884665568786333,
         0.15958733340179088,
         0.15748152479912553,
         0.15839787784270917,
         0.15811279605601947,
         0.15892625570985386,
         0.1595891291028066,
         0.1594959924321679
        ],
        [
         0.27296341806832775,
         0.27406768077144433,
         0.27466371163324105,
         0.27574696721436054,
         0.2744909119427058,
         0.2746637840207447,
         0.2761439481366645,
         0.27462658652232264,
         0.2748238649493193,
         0.2754427260061836,
         0.2759960320157309,
         0.27450656269074364,
         0.2748586686017613,
         0.27499540691610935,
         0.27378080809927163,
         0.27449434338247075,
         0.2740900660865009,
         0.276240453297528,
         0.2746333282568729,
         0.2750470036111188,
         0.27391063185481757,
         0.27703011830282565,
         0.2743199333895509,
         0.2747184574403161,
         0.2730539009869829,
         0.274987001127253,
         0.2742896252768297,
         0.2759461095191392,
         0.2746088663937853,
         0.276440405204673,
         0.274266514662361,
         0.2747913989895845,
         0.2751560743952937,
         0.2753506398339774,
         0.2757341026547639,
         0.2763163041524297,
         0.27387396064495634,
         0.27543564380931795,
         0.2739513837458456,
         0.2763892797771476,
         0.2733715456800864,
         0.2746050621602027,
         0.2742388768614653,
         0.27538799488113497,
         0.2756112559844612,
         0.27527088997885585,
         0.2752580877996105,
         0.2749092608927658,
         0.27374505197775423,
         0.2745927294953635,
         0.2740770911286567,
         0.274649938942828,
         0.2741466937495359,
         0.2768188315699352,
         0.27431965500627664,
         0.27494732102415725,
         0.27448553570966217,
         0.2743576634583958,
         0.27547223886986283,
         0.2764266801669317,
         0.2762687429420504,
         0.27618291673670503,
         0.2759497213067816,
         0.27480261587519567,
         0.27513356394517946,
         0.2747685367734555,
         0.27506619133968274,
         0.27326909291064916,
         0.2763268343428625,
         0.2750499414042661,
         0.2768620239187251,
         0.27434363756694047,
         0.275153370354982,
         0.2750951074812488,
         0.2747145138187882,
         0.2741984922767562,
         0.27418026249563576,
         0.2742566310654522,
         0.27399863690758747,
         0.27546470027015196,
         0.27537892938719366,
         0.27614281309184197,
         0.2738665678520121,
         0.27469429389263195,
         0.2761999253347954,
         0.27426925397423263,
         0.2745600104715456,
         0.2752633780587976,
         0.2755227638134623,
         0.27442351774330814,
         0.2749325951798728,
         0.2756429914768566,
         0.274603073074318,
         0.2757924824825251,
         0.274004066079928,
         0.2751448870198253,
         0.2741333194643113,
         0.2750284400147696,
         0.2756866742582882,
         0.27489262075145166
        ],
        [
         27.84226864296943,
         27.954903438687325,
         28.015698586590588,
         28.126190655864775,
         27.998073018155992,
         28.01570597011596,
         28.166682709939778,
         28.01191182527691,
         28.032034224830568,
         28.095158052630723,
         28.151595265604556,
         27.99966939445585,
         28.03558419737965,
         28.049531505443156,
         27.925642426125705,
         27.998423025012016,
         27.95718674082309,
         28.176526236347854,
         28.01259948220104,
         28.054794368334115,
         27.93888444919139,
         28.257072066888213,
         27.980633205734193,
         28.02128265891224,
         27.851497900672257,
         28.048674114979804,
         27.977541778236628,
         28.1465031709522,
         28.010104372166097,
         28.19692133087665,
         27.975184495560825,
         28.02872269693762,
         28.065919588319957,
         28.085765263065696,
         28.124878470785916,
         28.184263023547828,
         27.935143985785544,
         28.09443566855043,
         27.943041142076254,
         28.191706537269056,
         27.883897659368813,
         28.009716340340674,
         27.972365439869463,
         28.08957547787577,
         28.11234811041504,
         28.077630777843297,
         28.076324955560267,
         28.04074461106211,
         27.92199530173093,
         28.008458408527076,
         27.95586329512298,
         28.014293772168458,
         27.962962762452662,
         28.235520820133388,
         27.980604810640216,
         28.04462674446404,
         27.997524642385542,
         27.984481672756374,
         28.098168364726007,
         28.195521377027035,
         28.17941178008914,
         28.170657507143915,
         28.14687157329172,
         28.029866819269955,
         28.063623522408307,
         28.02639075089246,
         28.056751516647637,
         27.873447476886213,
         28.18533710297197,
         28.055094023235142,
         28.23992643970996,
         27.983051031827927,
         28.065643776208162,
         28.05970096308738,
         28.020880409516394,
         27.968246212229133,
         27.96638677455485,
         27.974176368676126,
         27.94786096457392,
         28.0973994275555,
         28.088650797493756,
         28.166566935367882,
         27.934389920905232,
         28.018817977048457,
         28.172392384149134,
         27.975463905371726,
         28.00512106809765,
         28.076864561997354,
         28.103321908973157,
         27.991198809817433,
         28.043124708347023,
         28.115585130639374,
         28.00951345358044,
         28.130833213217556,
         27.948414740152657,
         28.064778476022184,
         27.961598585359752,
         28.052900881506503,
         28.120040774345398,
         28.039047316648066
        ],
        [
         4.027227567583173,
         4.015024466347216,
         4.029265231356126,
         4.029044239142129,
         4.017493466305874,
         4.023673586339092,
         4.022609345688034,
         4.0284160689796975,
         4.024858258680809,
         4.034818719406633,
         4.036417481889646,
         4.032833787340533,
         4.016701145582524,
         4.02875811131114,
         4.016136867492261,
         4.020365463346188,
         4.024513549062858,
         4.049902188673945,
         4.026265733246009,
         4.02171484558797,
         4.025709901705763,
         4.042738823503748,
         4.024442152950549,
         4.025871113950614,
         4.007398741022791,
         4.022946340025001,
         4.01115022011236,
         4.031099290283041,
         4.024671207838479,
         4.03974545890227,
         4.018014580608998,
         4.015709534537864,
         4.029195295016995,
         4.020575194334946,
         4.039106594089649,
         4.038595623184116,
         4.005562057845629,
         4.027635581523882,
         4.001764596297813,
         4.031921099418033,
         4.013898181492223,
         4.021013470422307,
         4.030405320026165,
         4.0199310463600915,
         4.024681513691372,
         4.022875737229605,
         4.038198035998225,
         4.02482219097358,
         4.004929132190219,
         4.021352922149791,
         4.025025023151896,
         4.010002732821915,
         4.026100624497553,
         4.0541408160710475,
         4.0183089019116585,
         4.031504204639889,
         4.024491774841607,
         4.018867185571032,
         4.034422032807678,
         4.044876330773332,
         4.04057177553369,
         4.033505204592193,
         4.037444588195965,
         4.018449290450627,
         4.015133313807672,
         4.015263635548499,
         4.027584142339896,
         4.008813233524927,
         4.0324629059200205,
         4.0122452352456,
         4.045909281298575,
         4.010473754756709,
         4.019457923639703,
         4.021293083289548,
         4.016345314822353,
         4.020829507791005,
         4.016422962255316,
         4.01545734206797,
         4.0168332874076595,
         4.018576358532646,
         4.035571703548443,
         4.037208425676151,
         4.021558244155567,
         4.024511494966675,
         4.039499443908197,
         4.0198323500451005,
         4.0198516871858505,
         4.016035118389018,
         4.025903891303698,
         4.008046588910739,
         4.034752076926163,
         4.031048084428733,
         4.025215383077289,
         4.0345889514277244,
         4.007881676086607,
         4.019525287886163,
         4.015906522531865,
         4.026223799344132,
         4.034611650268991,
         4.033434173019453
        ]
       ],
       "encoder": "json",
       "name": "ABC_GAN_2 Metrics",
       "version": 1
      }
     },
     "metadata": {
      "scrapbook": {
       "data": true,
       "display": false,
       "name": "ABC_GAN_2 Metrics"
      }
     },
     "output_type": "display_data"
    },
    {
     "name": "stdout",
     "output_type": "stream",
     "text": [
      "MAE\n",
      "0.2749480716687828\n"
     ]
    }
   ],
   "source": [
    "ABC_GAN2_metrics=ABC_train_test2.test_generator(gen2,test_data,prior_model,variance,bias,\"1\",device)\n",
    "sb.glue(\"ABC_GAN_2 Metrics\",ABC_GAN2_metrics)\n",
    "\n",
    "print(\"MAE\")\n",
    "print(mean(ABC_GAN2_metrics[1]))"
   ]
  },
  {
   "cell_type": "code",
   "execution_count": 18,
   "id": "f32db841",
   "metadata": {
    "execution": {
     "iopub.execute_input": "2022-07-22T21:05:03.946397Z",
     "iopub.status.busy": "2022-07-22T21:05:03.945120Z",
     "iopub.status.idle": "2022-07-22T21:05:04.956075Z",
     "shell.execute_reply": "2022-07-22T21:05:04.954807Z"
    },
    "papermill": {
     "duration": 1.058515,
     "end_time": "2022-07-22T21:05:04.959183",
     "exception": false,
     "start_time": "2022-07-22T21:05:03.900668",
     "status": "completed"
    },
    "tags": []
   },
   "outputs": [
    {
     "data": {
      "image/png": "[encoded data removed]",
      "text/plain": [
       "<Figure size 432x288 with 1 Axes>"
      ]
     },
     "metadata": {
      "needs_background": "light"
     },
     "output_type": "display_data"
    },
    {
     "data": {
      "image/png": "[encoded data removed]",
      "text/plain": [
       "<Figure size 432x288 with 1 Axes>"
      ]
     },
     "metadata": {
      "needs_background": "light"
     },
     "output_type": "display_data"
    },
    {
     "data": {
      "image/png": "[encoded data removed]",
      "text/plain": [
       "<Figure size 432x288 with 1 Axes>"
      ]
     },
     "metadata": {
      "needs_background": "light"
     },
     "output_type": "display_data"
    },
    {
     "data": {
      "image/png": "[encoded data removed]",
      "text/plain": [
       "<Figure size 432x288 with 1 Axes>"
      ]
     },
     "metadata": {
      "needs_background": "light"
     },
     "output_type": "display_data"
    }
   ],
   "source": [
    "sanityChecks.discProbVsError(train_data,disc2,device)\n",
    "sanityChecks.discProbVsError(test_data,disc2,device)"
   ]
  },
  {
   "cell_type": "markdown",
   "id": "130f3a4d",
   "metadata": {
    "id": "130f3a4d",
    "papermill": {
     "duration": 0.015775,
     "end_time": "2022-07-22T21:05:04.993415",
     "exception": false,
     "start_time": "2022-07-22T21:05:04.977640",
     "status": "completed"
    },
    "tags": []
   },
   "source": [
    "# skipGAN Model"
   ]
  },
  {
   "cell_type": "code",
   "execution_count": 19,
   "id": "4e43dad1",
   "metadata": {
    "execution": {
     "iopub.execute_input": "2022-07-22T21:05:05.041909Z",
     "iopub.status.busy": "2022-07-22T21:05:05.041325Z",
     "iopub.status.idle": "2022-07-22T21:05:05.047920Z",
     "shell.execute_reply": "2022-07-22T21:05:05.045712Z"
    },
    "id": "4e43dad1",
    "papermill": {
     "duration": 0.041412,
     "end_time": "2022-07-22T21:05:05.051221",
     "exception": false,
     "start_time": "2022-07-22T21:05:05.009809",
     "status": "completed"
    },
    "tags": []
   },
   "outputs": [],
   "source": [
    "# #Generator\n",
    "# gen3 = network.GeneratorWithSkipConnection(n_features+1).to(device)\n",
    "# constraints=network.weightConstraint()\n",
    "# #Discriminator \n",
    "# disc3 = network.Discriminator(n_features+1).to(device)\n",
    "\n",
    "# criterion = torch.nn.BCELoss()\n",
    "# gen_opt = torch.optim.Adam(gen3.parameters(), lr=0.01, betas=(0.5, 0.999))\n",
    "# disc_opt = torch.optim.Adam(disc3.parameters(), lr=0.01, betas=(0.5, 0.999))\n"
   ]
  },
  {
   "cell_type": "markdown",
   "id": "f9ba464d",
   "metadata": {
    "tags": [
     "papermill-error-cell-tag"
    ]
   },
   "source": [
    "<span id=\"papermill-error-cell\" style=\"color:red; font-family:Helvetica Neue, Helvetica, Arial, sans-serif; font-size:2em;\">Execution using papermill encountered an exception here and stopped:</span>"
   ]
  },
  {
   "cell_type": "code",
   "execution_count": 20,
   "id": "26acbc37",
   "metadata": {
    "execution": {
     "iopub.execute_input": "2022-07-22T21:05:05.089079Z",
     "iopub.status.busy": "2022-07-22T21:05:05.088271Z",
     "iopub.status.idle": "2022-07-22T21:05:06.964117Z",
     "shell.execute_reply": "2022-07-22T21:05:06.961651Z"
    },
    "id": "26acbc37",
    "papermill": {
     "duration": 1.913882,
     "end_time": "2022-07-22T21:05:06.983034",
     "exception": true,
     "start_time": "2022-07-22T21:05:05.069152",
     "status": "failed"
    },
    "tags": []
   },
   "outputs": [
    {
     "ename": "NameError",
     "evalue": "name 'disc3' is not defined",
     "output_type": "error",
     "traceback": [
      "\u001b[0;31m---------------------------------------------------------------------------\u001b[0m",
      "\u001b[0;31mNameError\u001b[0m                                 Traceback (most recent call last)",
      "Input \u001b[0;32mIn [20]\u001b[0m, in \u001b[0;36m<cell line: 1>\u001b[0;34m()\u001b[0m\n\u001b[0;32m----> 1\u001b[0m ABC_train_test2\u001b[38;5;241m.\u001b[39mtraining_GAN_skip_connection(\u001b[43mdisc3\u001b[49m,gen3,disc_opt,gen_opt,train_data,batch_size,n_epochs,criterion,prior_model,variance,bias,device)\n",
      "\u001b[0;31mNameError\u001b[0m: name 'disc3' is not defined"
     ]
    }
   ],
   "source": [
    "ABC_train_test2.training_GAN_skip_connection(disc3,gen3,disc_opt,gen_opt,train_data,batch_size,n_epochs,criterion,prior_model,variance,bias,device)"
   ]
  },
  {
   "cell_type": "code",
   "execution_count": null,
   "id": "c5e0717b",
   "metadata": {
    "id": "c5e0717b",
    "papermill": {
     "duration": null,
     "end_time": null,
     "exception": null,
     "start_time": null,
     "status": "pending"
    },
    "tags": []
   },
   "outputs": [],
   "source": [
    "# ABC_GAN3_metrics=ABC_train_test2.test_generator(gen3,test_data,prior_model,variance,bias,\"3\",device)\n",
    "# sb.glue(\"ABC_GAN_3 Metrics\",ABC_GAN3_metrics)\n",
    "\n",
    "# print(\"MAE\")\n",
    "# print(mean(ABC_GAN3_metrics[1]))"
   ]
  },
  {
   "cell_type": "code",
   "execution_count": null,
   "id": "c8e46b48",
   "metadata": {
    "id": "c8e46b48",
    "papermill": {
     "duration": null,
     "end_time": null,
     "exception": null,
     "start_time": null,
     "status": "pending"
    },
    "tags": []
   },
   "outputs": [],
   "source": [
    "# sanityChecks.discProbVsError(train_data,disc3,device)\n",
    "# sanityChecks.discProbVsError(test_data,disc3,device)"
   ]
  },
  {
   "cell_type": "markdown",
   "id": "c85f9ecb",
   "metadata": {
    "id": "130f3a4d",
    "papermill": {
     "duration": null,
     "end_time": null,
     "exception": null,
     "start_time": null,
     "status": "pending"
    },
    "tags": []
   },
   "source": [
    "# skipGAN Model with TabNet Generator"
   ]
  },
  {
   "cell_type": "code",
   "execution_count": null,
   "id": "b01ad4ea",
   "metadata": {
    "id": "4e43dad1",
    "papermill": {
     "duration": null,
     "end_time": null,
     "exception": null,
     "start_time": null,
     "status": "pending"
    },
    "tags": []
   },
   "outputs": [],
   "source": [
    "# #Generator\n",
    "# gen4 = network.GeneratorTabnetskipConnection(n_features+1).to(device)\n",
    "# constraints=network.weightConstraint()\n",
    "# #Discriminator \n",
    "# disc4 = network.Discriminator(n_features+1).to(device)\n",
    "\n",
    "# criterion = torch.nn.BCELoss()\n",
    "# gen_opt = torch.optim.Adam(gen4.parameters(), lr=0.01, betas=(0.5, 0.999))\n",
    "# disc_opt = torch.optim.Adam(disc4.parameters(), lr=0.01, betas=(0.5, 0.999))\n"
   ]
  },
  {
   "cell_type": "code",
   "execution_count": null,
   "id": "48e0a1b2",
   "metadata": {
    "id": "26acbc37",
    "papermill": {
     "duration": null,
     "end_time": null,
     "exception": null,
     "start_time": null,
     "status": "pending"
    },
    "tags": []
   },
   "outputs": [],
   "source": [
    "# ABC_train_test2.training_GAN_skip_connection(disc4,gen4,disc_opt,gen_opt,train_data,batch_size,n_epochs,criterion,prior_model,variance,bias,device)"
   ]
  },
  {
   "cell_type": "code",
   "execution_count": null,
   "id": "0cbea248",
   "metadata": {
    "id": "c5e0717b",
    "papermill": {
     "duration": null,
     "end_time": null,
     "exception": null,
     "start_time": null,
     "status": "pending"
    },
    "tags": []
   },
   "outputs": [],
   "source": [
    "# ABC_GAN4_metrics=ABC_train_test2.test_generator(gen4,test_data,prior_model,variance,bias,\"3\",device)\n",
    "# sb.glue(\"ABC_GAN_4 Metrics\",ABC_GAN4_metrics)\n",
    "\n",
    "# print(\"MAE\")\n",
    "# print(mean(ABC_GAN4_metrics[1]))"
   ]
  },
  {
   "cell_type": "code",
   "execution_count": null,
   "id": "b08742f7",
   "metadata": {
    "id": "c8e46b48",
    "papermill": {
     "duration": null,
     "end_time": null,
     "exception": null,
     "start_time": null,
     "status": "pending"
    },
    "tags": []
   },
   "outputs": [],
   "source": [
    "# sanityChecks.discProbVsError(train_data,disc4,device)\n",
    "# sanityChecks.discProbVsError(test_data,disc4,device)"
   ]
  },
  {
   "cell_type": "markdown",
   "id": "a5bd74c3",
   "metadata": {
    "id": "a5bd74c3",
    "papermill": {
     "duration": null,
     "end_time": null,
     "exception": null,
     "start_time": null,
     "status": "pending"
    },
    "tags": []
   },
   "source": [
    "## Skip Connection Model Analysis - ABC-GAN "
   ]
  },
  {
   "cell_type": "markdown",
   "id": "5744a8bf",
   "metadata": {
    "id": "5744a8bf",
    "papermill": {
     "duration": null,
     "end_time": null,
     "exception": null,
     "start_time": null,
     "status": "pending"
    },
    "tags": []
   },
   "source": [
    "### Weight Analysis \n",
    "\n",
    "Study the weights of the skip connection layer\n",
    "\n",
    "Equation of the skip connection is \n",
    "\n",
    "$output = y_{gan} * w + y_{abc} * (1-w)$"
   ]
  },
  {
   "cell_type": "code",
   "execution_count": null,
   "id": "52c31dea",
   "metadata": {
    "id": "52c31dea",
    "papermill": {
     "duration": null,
     "end_time": null,
     "exception": null,
     "start_time": null,
     "status": "pending"
    },
    "tags": []
   },
   "outputs": [],
   "source": [
    "# print(\"Weight of the node at skip connection\")\n",
    "# for name,param in gen3.named_parameters():\n",
    "#     if(name == \"skipNode.weight\"):\n",
    "#         print(param)\n",
    "#         sb.glue(\"Skip Connection Weight\",param.item())"
   ]
  },
  {
   "cell_type": "markdown",
   "id": "8e84fe6b",
   "metadata": {
    "id": "a5bd74c3",
    "papermill": {
     "duration": null,
     "end_time": null,
     "exception": null,
     "start_time": null,
     "status": "pending"
    },
    "tags": []
   },
   "source": [
    "## skipGAN Model Analysis (TabNet Generator) "
   ]
  },
  {
   "cell_type": "markdown",
   "id": "76b4842c",
   "metadata": {
    "id": "5744a8bf",
    "papermill": {
     "duration": null,
     "end_time": null,
     "exception": null,
     "start_time": null,
     "status": "pending"
    },
    "tags": []
   },
   "source": [
    "### Weight Analysis \n",
    "\n",
    "Study the weights of the skip connection layer\n",
    "\n",
    "Equation of the skip connection is \n",
    "\n",
    "$output = y_{gan} * w + y_{abc} * (1-w)$"
   ]
  },
  {
   "cell_type": "code",
   "execution_count": null,
   "id": "439f3987",
   "metadata": {
    "id": "52c31dea",
    "papermill": {
     "duration": null,
     "end_time": null,
     "exception": null,
     "start_time": null,
     "status": "pending"
    },
    "tags": []
   },
   "outputs": [],
   "source": [
    "# print(\"Weight of the node at skip connection\")\n",
    "# for name,param in gen4.named_parameters():\n",
    "#     if(name == \"skipNode.weight\"):\n",
    "#         print(param)\n",
    "#         sb.glue(\"Skip Connection Weight\",param.item())"
   ]
  }
 ],
 "metadata": {
  "colab": {
   "collapsed_sections": [],
   "name": "ABC_GAN_Model-Catboost_Pre-gen.ipynb",
   "provenance": []
  },
  "interpreter": {
   "hash": "31f2aee4e71d21fbe5cf8b01ff0e069b9275f58929596ceb00d14d90e3e16cd6"
  },
  "kernelspec": {
   "display_name": "Python 3 (ipykernel)",
   "language": "python",
   "name": "python3"
  },
  "language_info": {
   "codemirror_mode": {
    "name": "ipython",
    "version": 3
   },
   "file_extension": ".py",
   "mimetype": "text/x-python",
   "name": "python",
   "nbconvert_exporter": "python",
   "pygments_lexer": "ipython3",
   "version": "3.8.13"
  },
  "papermill": {
   "default_parameters": {},
   "duration": 663.562876,
   "end_time": "2022-07-22T21:05:08.015254",
   "environment_variables": {},
   "exception": true,
   "input_path": "ABC_GAN-Catboost.ipynb",
   "output_path": "./ABC_GAN_Catboost/ABC-GAN_output_2_5.ipynb",
   "parameters": {
    "bias": 0.1,
    "variance": 0.01
   },
   "start_time": "2022-07-22T20:54:04.452378",
   "version": "2.3.3"
  }
 },
 "nbformat": 4,
 "nbformat_minor": 5
}