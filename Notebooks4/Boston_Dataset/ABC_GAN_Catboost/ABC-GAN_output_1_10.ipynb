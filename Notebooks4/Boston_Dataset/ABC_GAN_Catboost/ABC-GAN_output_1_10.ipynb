{
 "cells": [
  {
   "cell_type": "markdown",
   "id": "c3d512d5",
   "metadata": {
    "tags": [
     "papermill-error-cell-tag"
    ]
   },
   "source": [
    "<span style=\"color:red; font-family:Helvetica Neue, Helvetica, Arial, sans-serif; font-size:2em;\">An Exception was encountered at '<a href=\"#papermill-error-cell\">In [20]</a>'.</span>"
   ]
  },
  {
   "cell_type": "markdown",
   "id": "622780e6",
   "metadata": {
    "id": "622780e6",
    "papermill": {
     "duration": 0.009613,
     "end_time": "2022-07-22T19:36:43.978363",
     "exception": false,
     "start_time": "2022-07-22T19:36:43.968750",
     "status": "completed"
    },
    "tags": []
   },
   "source": [
    "## Import Libraries "
   ]
  },
  {
   "cell_type": "code",
   "execution_count": 1,
   "id": "a62397e3",
   "metadata": {
    "execution": {
     "iopub.execute_input": "2022-07-22T19:36:44.008543Z",
     "iopub.status.busy": "2022-07-22T19:36:44.007293Z",
     "iopub.status.idle": "2022-07-22T19:36:44.066220Z",
     "shell.execute_reply": "2022-07-22T19:36:44.050482Z"
    },
    "id": "a62397e3",
    "papermill": {
     "duration": 0.086246,
     "end_time": "2022-07-22T19:36:44.072611",
     "exception": false,
     "start_time": "2022-07-22T19:36:43.986365",
     "status": "completed"
    },
    "tags": []
   },
   "outputs": [],
   "source": [
    "import warnings\n",
    "import sys\n",
    "sys.path.insert(0, '../../src')\n",
    "warnings.filterwarnings('ignore')"
   ]
  },
  {
   "cell_type": "code",
   "execution_count": 2,
   "id": "d6a4e155",
   "metadata": {
    "execution": {
     "iopub.execute_input": "2022-07-22T19:36:44.095520Z",
     "iopub.status.busy": "2022-07-22T19:36:44.094445Z",
     "iopub.status.idle": "2022-07-22T19:36:51.790356Z",
     "shell.execute_reply": "2022-07-22T19:36:51.789535Z"
    },
    "id": "d6a4e155",
    "papermill": {
     "duration": 7.710214,
     "end_time": "2022-07-22T19:36:51.793346",
     "exception": false,
     "start_time": "2022-07-22T19:36:44.083132",
     "status": "completed"
    },
    "tags": []
   },
   "outputs": [],
   "source": [
    "import ABC_train_test2\n",
    "import bostonDataset\n",
    "import network\n",
    "import dataset\n",
    "import sanityChecks\n",
    "import torch \n",
    "import scrapbook as sb\n",
    "from statistics import mean \n",
    "import catboost as ctb \n",
    "from sklearn.model_selection import train_test_split\n",
    "from sklearn.metrics import mean_squared_error,mean_absolute_error\n",
    "import numpy as np"
   ]
  },
  {
   "cell_type": "markdown",
   "id": "2fa5b0f7",
   "metadata": {
    "id": "2fa5b0f7",
    "papermill": {
     "duration": 0.008259,
     "end_time": "2022-07-22T19:36:51.809228",
     "exception": false,
     "start_time": "2022-07-22T19:36:51.800969",
     "status": "completed"
    },
    "tags": []
   },
   "source": [
    "## Parameters "
   ]
  },
  {
   "cell_type": "code",
   "execution_count": 3,
   "id": "783186fb",
   "metadata": {
    "execution": {
     "iopub.execute_input": "2022-07-22T19:36:51.836940Z",
     "iopub.status.busy": "2022-07-22T19:36:51.833936Z",
     "iopub.status.idle": "2022-07-22T19:36:51.858163Z",
     "shell.execute_reply": "2022-07-22T19:36:51.855548Z"
    },
    "id": "783186fb",
    "papermill": {
     "duration": 0.046523,
     "end_time": "2022-07-22T19:36:51.863169",
     "exception": false,
     "start_time": "2022-07-22T19:36:51.816646",
     "status": "completed"
    },
    "tags": [
     "parameters"
    ]
   },
   "outputs": [],
   "source": [
    "variance = 1\n",
    "bias = 1 "
   ]
  },
  {
   "cell_type": "code",
   "execution_count": 4,
   "id": "2cc04c22",
   "metadata": {
    "execution": {
     "iopub.execute_input": "2022-07-22T19:36:51.882328Z",
     "iopub.status.busy": "2022-07-22T19:36:51.881449Z",
     "iopub.status.idle": "2022-07-22T19:36:51.887371Z",
     "shell.execute_reply": "2022-07-22T19:36:51.886602Z"
    },
    "papermill": {
     "duration": 0.017833,
     "end_time": "2022-07-22T19:36:51.890096",
     "exception": false,
     "start_time": "2022-07-22T19:36:51.872263",
     "status": "completed"
    },
    "tags": [
     "injected-parameters"
    ]
   },
   "outputs": [],
   "source": [
    "# Parameters\n",
    "variance = 0.1\n",
    "bias = 0\n"
   ]
  },
  {
   "cell_type": "markdown",
   "id": "391cdbfd",
   "metadata": {
    "id": "391cdbfd",
    "papermill": {
     "duration": 0.011837,
     "end_time": "2022-07-22T19:36:51.909571",
     "exception": false,
     "start_time": "2022-07-22T19:36:51.897734",
     "status": "completed"
    },
    "tags": []
   },
   "source": [
    "## Dataset \n"
   ]
  },
  {
   "cell_type": "code",
   "execution_count": 5,
   "id": "5b51f161",
   "metadata": {
    "execution": {
     "iopub.execute_input": "2022-07-22T19:36:51.935298Z",
     "iopub.status.busy": "2022-07-22T19:36:51.934518Z",
     "iopub.status.idle": "2022-07-22T19:36:51.943575Z",
     "shell.execute_reply": "2022-07-22T19:36:51.939583Z"
    },
    "id": "5b51f161",
    "papermill": {
     "duration": 0.028177,
     "end_time": "2022-07-22T19:36:51.946665",
     "exception": false,
     "start_time": "2022-07-22T19:36:51.918488",
     "status": "completed"
    },
    "tags": []
   },
   "outputs": [],
   "source": [
    "#Parameters \n",
    "n_features = 13\n",
    "n_samples= 506\n",
    "n_target = 1 "
   ]
  },
  {
   "cell_type": "code",
   "execution_count": 6,
   "id": "5d6eced4",
   "metadata": {
    "execution": {
     "iopub.execute_input": "2022-07-22T19:36:51.973220Z",
     "iopub.status.busy": "2022-07-22T19:36:51.972213Z",
     "iopub.status.idle": "2022-07-22T19:36:51.999810Z",
     "shell.execute_reply": "2022-07-22T19:36:51.998995Z"
    },
    "id": "5d6eced4",
    "papermill": {
     "duration": 0.049293,
     "end_time": "2022-07-22T19:36:52.003533",
     "exception": false,
     "start_time": "2022-07-22T19:36:51.954240",
     "status": "completed"
    },
    "tags": []
   },
   "outputs": [
    {
     "name": "stdout",
     "output_type": "stream",
     "text": [
      "         X1        X2        X3        X4        X5        X6        X7  \\\n",
      "0 -0.419782  0.284830 -1.287909 -0.272599 -0.144217  0.413672 -0.120013   \n",
      "1 -0.417339 -0.487722 -0.593381 -0.272599 -0.740262  0.194274  0.367166   \n",
      "2 -0.417342 -0.487722 -0.593381 -0.272599 -0.740262  1.282714 -0.265812   \n",
      "3 -0.416750 -0.487722 -1.306878 -0.272599 -0.835284  1.016303 -0.809889   \n",
      "4 -0.412482 -0.487722 -1.306878 -0.272599 -0.835284  1.228577 -0.511180   \n",
      "\n",
      "         X8        X9       X10       X11       X12       X13         Y  \n",
      "0  0.140214 -0.982843 -0.666608 -1.459000  0.441052 -1.075562  0.159686  \n",
      "1  0.557160 -0.867883 -0.987329 -0.303094  0.441052 -0.492439 -0.101524  \n",
      "2  0.557160 -0.867883 -0.987329 -0.303094  0.396427 -1.208727  1.324247  \n",
      "3  1.077737 -0.752922 -1.106115  0.113032  0.416163 -1.361517  1.182758  \n",
      "4  1.077737 -0.752922 -1.106115  0.113032  0.441052 -1.026501  1.487503  \n"
     ]
    }
   ],
   "source": [
    "X,Y = bostonDataset.boston_data()"
   ]
  },
  {
   "cell_type": "code",
   "execution_count": 7,
   "id": "fe007438",
   "metadata": {
    "execution": {
     "iopub.execute_input": "2022-07-22T19:36:52.022370Z",
     "iopub.status.busy": "2022-07-22T19:36:52.022019Z",
     "iopub.status.idle": "2022-07-22T19:36:52.027943Z",
     "shell.execute_reply": "2022-07-22T19:36:52.027027Z"
    },
    "id": "fe007438",
    "papermill": {
     "duration": 0.020667,
     "end_time": "2022-07-22T19:36:52.031934",
     "exception": false,
     "start_time": "2022-07-22T19:36:52.011267",
     "status": "completed"
    },
    "tags": []
   },
   "outputs": [],
   "source": [
    "#Train test split for dataset \n",
    "X_train,X_test,Y_train,Y_test = train_test_split(X,Y,test_size = 0.2)\n",
    "train_data = dataset.CustomDataset(X_train,Y_train)\n",
    "test_data = dataset.CustomDataset(X_test,Y_test)\n"
   ]
  },
  {
   "cell_type": "markdown",
   "id": "a9a1af34",
   "metadata": {
    "id": "a9a1af34",
    "papermill": {
     "duration": 0.015189,
     "end_time": "2022-07-22T19:36:52.055053",
     "exception": false,
     "start_time": "2022-07-22T19:36:52.039864",
     "status": "completed"
    },
    "tags": []
   },
   "source": [
    "## Training Parameters "
   ]
  },
  {
   "cell_type": "code",
   "execution_count": 8,
   "id": "952b7fc8",
   "metadata": {
    "execution": {
     "iopub.execute_input": "2022-07-22T19:36:52.084729Z",
     "iopub.status.busy": "2022-07-22T19:36:52.083926Z",
     "iopub.status.idle": "2022-07-22T19:36:52.089520Z",
     "shell.execute_reply": "2022-07-22T19:36:52.088373Z"
    },
    "id": "952b7fc8",
    "papermill": {
     "duration": 0.021523,
     "end_time": "2022-07-22T19:36:52.092804",
     "exception": false,
     "start_time": "2022-07-22T19:36:52.071281",
     "status": "completed"
    },
    "tags": []
   },
   "outputs": [],
   "source": [
    "batch_size = 32\n",
    "n_epochs = 1000\n",
    "#Select the device \n",
    "device = torch.device('cuda' if torch.cuda.is_available() else 'cpu')"
   ]
  },
  {
   "cell_type": "markdown",
   "id": "a95e1600",
   "metadata": {
    "id": "a95e1600",
    "papermill": {
     "duration": 0.012004,
     "end_time": "2022-07-22T19:36:52.112655",
     "exception": false,
     "start_time": "2022-07-22T19:36:52.100651",
     "status": "completed"
    },
    "tags": []
   },
   "source": [
    "# ABC Pre-generator Model \n",
    "\n",
    "1. The catboost model is used as a pre-generator model for the ABC-GAN. \n",
    "2. The model is first trained on the entire dataset \n",
    "3. It generats X,Y pairs and we add some Gaussian noise with mean 0 and variance 1 to it which is then feed as input to the generator.\n"
   ]
  },
  {
   "cell_type": "code",
   "execution_count": 9,
   "id": "ff8ce7bd",
   "metadata": {
    "execution": {
     "iopub.execute_input": "2022-07-22T19:36:52.132781Z",
     "iopub.status.busy": "2022-07-22T19:36:52.132364Z",
     "iopub.status.idle": "2022-07-22T19:36:55.722339Z",
     "shell.execute_reply": "2022-07-22T19:36:55.721197Z"
    },
    "id": "ff8ce7bd",
    "papermill": {
     "duration": 3.603755,
     "end_time": "2022-07-22T19:36:55.726088",
     "exception": false,
     "start_time": "2022-07-22T19:36:52.122333",
     "status": "completed"
    },
    "tags": []
   },
   "outputs": [
    {
     "name": "stdout",
     "output_type": "stream",
     "text": [
      "Learning rate set to 0.03548\n"
     ]
    },
    {
     "name": "stdout",
     "output_type": "stream",
     "text": [
      "0:\tlearn: 0.9631798\ttotal: 62.6ms\tremaining: 1m 2s\n",
      "1:\tlearn: 0.9416940\ttotal: 65.2ms\tremaining: 32.5s\n",
      "2:\tlearn: 0.9224372\ttotal: 71.3ms\tremaining: 23.7s\n",
      "3:\tlearn: 0.9049832\ttotal: 73.7ms\tremaining: 18.4s\n",
      "4:\tlearn: 0.8862101\ttotal: 78ms\tremaining: 15.5s\n",
      "5:\tlearn: 0.8707816\ttotal: 80.4ms\tremaining: 13.3s\n",
      "6:\tlearn: 0.8538722\ttotal: 82.9ms\tremaining: 11.8s\n",
      "7:\tlearn: 0.8371289\ttotal: 85.2ms\tremaining: 10.6s\n",
      "8:\tlearn: 0.8202033\ttotal: 89.1ms\tremaining: 9.81s\n",
      "9:\tlearn: 0.8022459\ttotal: 91.8ms\tremaining: 9.09s\n",
      "10:\tlearn: 0.7882974\ttotal: 96.7ms\tremaining: 8.7s\n",
      "11:\tlearn: 0.7735095\ttotal: 101ms\tremaining: 8.3s\n",
      "12:\tlearn: 0.7581426\ttotal: 103ms\tremaining: 7.83s\n",
      "13:\tlearn: 0.7424612\ttotal: 106ms\tremaining: 7.47s\n",
      "14:\tlearn: 0.7293492\ttotal: 110ms\tremaining: 7.21s\n",
      "15:\tlearn: 0.7142191\ttotal: 112ms\tremaining: 6.89s\n",
      "16:\tlearn: 0.7017994\ttotal: 115ms\tremaining: 6.62s\n",
      "17:\tlearn: 0.6891295\ttotal: 116ms\tremaining: 6.34s\n",
      "18:\tlearn: 0.6767998\ttotal: 118ms\tremaining: 6.12s\n",
      "19:\tlearn: 0.6645472\ttotal: 121ms\tremaining: 5.92s\n",
      "20:\tlearn: 0.6531109\ttotal: 123ms\tremaining: 5.73s\n",
      "21:\tlearn: 0.6418528\ttotal: 125ms\tremaining: 5.57s\n",
      "22:\tlearn: 0.6299701\ttotal: 128ms\tremaining: 5.43s\n",
      "23:\tlearn: 0.6197867\ttotal: 131ms\tremaining: 5.33s\n",
      "24:\tlearn: 0.6094241\ttotal: 134ms\tremaining: 5.22s\n",
      "25:\tlearn: 0.6002108\ttotal: 138ms\tremaining: 5.16s\n",
      "26:\tlearn: 0.5913331\ttotal: 140ms\tremaining: 5.05s\n",
      "27:\tlearn: 0.5822284\ttotal: 144ms\tremaining: 4.98s\n",
      "28:\tlearn: 0.5721759\ttotal: 146ms\tremaining: 4.89s\n",
      "29:\tlearn: 0.5621724\ttotal: 148ms\tremaining: 4.79s\n",
      "30:\tlearn: 0.5522676\ttotal: 150ms\tremaining: 4.7s\n",
      "31:\tlearn: 0.5437066\ttotal: 153ms\tremaining: 4.62s\n",
      "32:\tlearn: 0.5361237\ttotal: 155ms\tremaining: 4.54s\n",
      "33:\tlearn: 0.5285163\ttotal: 157ms\tremaining: 4.47s\n"
     ]
    },
    {
     "name": "stdout",
     "output_type": "stream",
     "text": [
      "34:\tlearn: 0.5212053\ttotal: 160ms\tremaining: 4.4s\n",
      "35:\tlearn: 0.5135832\ttotal: 162ms\tremaining: 4.34s\n",
      "36:\tlearn: 0.5070778\ttotal: 164ms\tremaining: 4.28s\n",
      "37:\tlearn: 0.4996246\ttotal: 167ms\tremaining: 4.23s\n",
      "38:\tlearn: 0.4926868\ttotal: 171ms\tremaining: 4.22s\n",
      "39:\tlearn: 0.4857845\ttotal: 174ms\tremaining: 4.18s\n",
      "40:\tlearn: 0.4793617\ttotal: 177ms\tremaining: 4.13s\n",
      "41:\tlearn: 0.4722079\ttotal: 181ms\tremaining: 4.14s\n",
      "42:\tlearn: 0.4674227\ttotal: 185ms\tremaining: 4.12s\n",
      "43:\tlearn: 0.4620761\ttotal: 187ms\tremaining: 4.07s\n",
      "44:\tlearn: 0.4564340\ttotal: 190ms\tremaining: 4.03s\n",
      "45:\tlearn: 0.4506731\ttotal: 192ms\tremaining: 3.99s\n",
      "46:\tlearn: 0.4454702\ttotal: 195ms\tremaining: 3.96s\n",
      "47:\tlearn: 0.4394315\ttotal: 198ms\tremaining: 3.92s\n",
      "48:\tlearn: 0.4340205\ttotal: 200ms\tremaining: 3.88s\n",
      "49:\tlearn: 0.4296563\ttotal: 202ms\tremaining: 3.84s\n",
      "50:\tlearn: 0.4246580\ttotal: 204ms\tremaining: 3.8s\n",
      "51:\tlearn: 0.4201994\ttotal: 207ms\tremaining: 3.77s\n",
      "52:\tlearn: 0.4142957\ttotal: 210ms\tremaining: 3.74s\n",
      "53:\tlearn: 0.4108606\ttotal: 211ms\tremaining: 3.7s\n",
      "54:\tlearn: 0.4062688\ttotal: 214ms\tremaining: 3.67s\n",
      "55:\tlearn: 0.4011447\ttotal: 219ms\tremaining: 3.69s\n",
      "56:\tlearn: 0.3974645\ttotal: 222ms\tremaining: 3.68s\n",
      "57:\tlearn: 0.3932222\ttotal: 225ms\tremaining: 3.66s\n",
      "58:\tlearn: 0.3894157\ttotal: 229ms\tremaining: 3.66s\n",
      "59:\tlearn: 0.3853276\ttotal: 231ms\tremaining: 3.62s\n"
     ]
    },
    {
     "name": "stdout",
     "output_type": "stream",
     "text": [
      "60:\tlearn: 0.3811709\ttotal: 234ms\tremaining: 3.6s\n",
      "61:\tlearn: 0.3770796\ttotal: 236ms\tremaining: 3.57s\n",
      "62:\tlearn: 0.3746913\ttotal: 238ms\tremaining: 3.54s\n",
      "63:\tlearn: 0.3716077\ttotal: 241ms\tremaining: 3.52s\n",
      "64:\tlearn: 0.3682171\ttotal: 243ms\tremaining: 3.5s\n",
      "65:\tlearn: 0.3647238\ttotal: 245ms\tremaining: 3.47s\n",
      "66:\tlearn: 0.3612155\ttotal: 247ms\tremaining: 3.45s\n",
      "67:\tlearn: 0.3586366\ttotal: 251ms\tremaining: 3.44s\n",
      "68:\tlearn: 0.3556916\ttotal: 254ms\tremaining: 3.43s\n",
      "69:\tlearn: 0.3532968\ttotal: 257ms\tremaining: 3.42s\n",
      "70:\tlearn: 0.3500071\ttotal: 260ms\tremaining: 3.4s\n",
      "71:\tlearn: 0.3473676\ttotal: 262ms\tremaining: 3.38s\n",
      "72:\tlearn: 0.3451228\ttotal: 265ms\tremaining: 3.36s\n",
      "73:\tlearn: 0.3421904\ttotal: 267ms\tremaining: 3.35s\n",
      "74:\tlearn: 0.3397958\ttotal: 270ms\tremaining: 3.33s\n",
      "75:\tlearn: 0.3370846\ttotal: 272ms\tremaining: 3.31s\n",
      "76:\tlearn: 0.3351282\ttotal: 275ms\tremaining: 3.3s\n",
      "77:\tlearn: 0.3323522\ttotal: 277ms\tremaining: 3.28s\n",
      "78:\tlearn: 0.3298830\ttotal: 280ms\tremaining: 3.26s\n",
      "79:\tlearn: 0.3275978\ttotal: 282ms\tremaining: 3.25s\n",
      "80:\tlearn: 0.3257472\ttotal: 286ms\tremaining: 3.24s\n",
      "81:\tlearn: 0.3235948\ttotal: 288ms\tremaining: 3.23s\n",
      "82:\tlearn: 0.3218113\ttotal: 291ms\tremaining: 3.22s\n",
      "83:\tlearn: 0.3196426\ttotal: 294ms\tremaining: 3.21s\n",
      "84:\tlearn: 0.3181078\ttotal: 300ms\tremaining: 3.23s\n",
      "85:\tlearn: 0.3160043\ttotal: 303ms\tremaining: 3.22s\n",
      "86:\tlearn: 0.3144555\ttotal: 309ms\tremaining: 3.24s\n",
      "87:\tlearn: 0.3125095\ttotal: 312ms\tremaining: 3.24s\n",
      "88:\tlearn: 0.3106112\ttotal: 322ms\tremaining: 3.29s\n",
      "89:\tlearn: 0.3086547\ttotal: 327ms\tremaining: 3.31s\n"
     ]
    },
    {
     "name": "stdout",
     "output_type": "stream",
     "text": [
      "90:\tlearn: 0.3066007\ttotal: 339ms\tremaining: 3.39s\n",
      "91:\tlearn: 0.3053355\ttotal: 344ms\tremaining: 3.39s\n",
      "92:\tlearn: 0.3039422\ttotal: 346ms\tremaining: 3.38s\n",
      "93:\tlearn: 0.3025270\ttotal: 352ms\tremaining: 3.39s\n",
      "94:\tlearn: 0.3009675\ttotal: 372ms\tremaining: 3.54s\n",
      "95:\tlearn: 0.3000956\ttotal: 376ms\tremaining: 3.54s\n",
      "96:\tlearn: 0.2988610\ttotal: 378ms\tremaining: 3.52s\n",
      "97:\tlearn: 0.2976094\ttotal: 380ms\tremaining: 3.5s\n",
      "98:\tlearn: 0.2964205\ttotal: 383ms\tremaining: 3.48s\n",
      "99:\tlearn: 0.2953873\ttotal: 385ms\tremaining: 3.47s\n",
      "100:\tlearn: 0.2941090\ttotal: 388ms\tremaining: 3.45s\n",
      "101:\tlearn: 0.2926980\ttotal: 390ms\tremaining: 3.44s\n",
      "102:\tlearn: 0.2912370\ttotal: 393ms\tremaining: 3.42s\n"
     ]
    },
    {
     "name": "stdout",
     "output_type": "stream",
     "text": [
      "103:\tlearn: 0.2901807\ttotal: 407ms\tremaining: 3.5s\n",
      "104:\tlearn: 0.2888988\ttotal: 420ms\tremaining: 3.58s\n",
      "105:\tlearn: 0.2872732\ttotal: 430ms\tremaining: 3.63s\n",
      "106:\tlearn: 0.2858506\ttotal: 433ms\tremaining: 3.61s\n",
      "107:\tlearn: 0.2849448\ttotal: 435ms\tremaining: 3.59s\n",
      "108:\tlearn: 0.2839769\ttotal: 437ms\tremaining: 3.58s\n",
      "109:\tlearn: 0.2831606\ttotal: 440ms\tremaining: 3.56s\n",
      "110:\tlearn: 0.2821541\ttotal: 442ms\tremaining: 3.54s\n",
      "111:\tlearn: 0.2809457\ttotal: 444ms\tremaining: 3.52s\n",
      "112:\tlearn: 0.2796915\ttotal: 447ms\tremaining: 3.51s\n",
      "113:\tlearn: 0.2785322\ttotal: 449ms\tremaining: 3.49s\n",
      "114:\tlearn: 0.2774535\ttotal: 452ms\tremaining: 3.48s\n",
      "115:\tlearn: 0.2767022\ttotal: 454ms\tremaining: 3.46s\n",
      "116:\tlearn: 0.2752425\ttotal: 457ms\tremaining: 3.45s\n",
      "117:\tlearn: 0.2741010\ttotal: 460ms\tremaining: 3.44s\n",
      "118:\tlearn: 0.2736018\ttotal: 462ms\tremaining: 3.42s\n",
      "119:\tlearn: 0.2727254\ttotal: 465ms\tremaining: 3.41s\n",
      "120:\tlearn: 0.2717220\ttotal: 471ms\tremaining: 3.42s\n",
      "121:\tlearn: 0.2710216\ttotal: 480ms\tremaining: 3.45s\n",
      "122:\tlearn: 0.2700473\ttotal: 483ms\tremaining: 3.44s\n",
      "123:\tlearn: 0.2689977\ttotal: 485ms\tremaining: 3.43s\n",
      "124:\tlearn: 0.2680100\ttotal: 488ms\tremaining: 3.41s\n",
      "125:\tlearn: 0.2670552\ttotal: 490ms\tremaining: 3.4s\n",
      "126:\tlearn: 0.2659257\ttotal: 493ms\tremaining: 3.39s\n",
      "127:\tlearn: 0.2649402\ttotal: 495ms\tremaining: 3.37s\n",
      "128:\tlearn: 0.2638846\ttotal: 498ms\tremaining: 3.36s\n",
      "129:\tlearn: 0.2632054\ttotal: 500ms\tremaining: 3.35s\n",
      "130:\tlearn: 0.2623529\ttotal: 502ms\tremaining: 3.33s\n",
      "131:\tlearn: 0.2615386\ttotal: 505ms\tremaining: 3.32s\n",
      "132:\tlearn: 0.2604428\ttotal: 508ms\tremaining: 3.31s\n",
      "133:\tlearn: 0.2597201\ttotal: 511ms\tremaining: 3.3s\n"
     ]
    },
    {
     "name": "stdout",
     "output_type": "stream",
     "text": [
      "134:\tlearn: 0.2588273\ttotal: 515ms\tremaining: 3.3s\n",
      "135:\tlearn: 0.2581519\ttotal: 517ms\tremaining: 3.29s\n",
      "136:\tlearn: 0.2570329\ttotal: 520ms\tremaining: 3.27s\n",
      "137:\tlearn: 0.2563220\ttotal: 522ms\tremaining: 3.26s\n",
      "138:\tlearn: 0.2552351\ttotal: 524ms\tremaining: 3.25s\n",
      "139:\tlearn: 0.2543875\ttotal: 527ms\tremaining: 3.24s\n",
      "140:\tlearn: 0.2535725\ttotal: 529ms\tremaining: 3.23s\n",
      "141:\tlearn: 0.2528895\ttotal: 532ms\tremaining: 3.21s\n",
      "142:\tlearn: 0.2520209\ttotal: 534ms\tremaining: 3.2s\n",
      "143:\tlearn: 0.2512147\ttotal: 537ms\tremaining: 3.19s\n",
      "144:\tlearn: 0.2507338\ttotal: 539ms\tremaining: 3.18s\n",
      "145:\tlearn: 0.2499280\ttotal: 541ms\tremaining: 3.17s\n",
      "146:\tlearn: 0.2493211\ttotal: 544ms\tremaining: 3.15s\n",
      "147:\tlearn: 0.2488456\ttotal: 546ms\tremaining: 3.14s\n",
      "148:\tlearn: 0.2480440\ttotal: 547ms\tremaining: 3.13s\n",
      "149:\tlearn: 0.2474605\ttotal: 550ms\tremaining: 3.12s\n",
      "150:\tlearn: 0.2468238\ttotal: 552ms\tremaining: 3.1s\n",
      "151:\tlearn: 0.2461800\ttotal: 555ms\tremaining: 3.1s\n",
      "152:\tlearn: 0.2455870\ttotal: 558ms\tremaining: 3.09s\n",
      "153:\tlearn: 0.2450282\ttotal: 559ms\tremaining: 3.07s\n",
      "154:\tlearn: 0.2445063\ttotal: 562ms\tremaining: 3.06s\n",
      "155:\tlearn: 0.2436363\ttotal: 564ms\tremaining: 3.05s\n",
      "156:\tlearn: 0.2428520\ttotal: 566ms\tremaining: 3.04s\n",
      "157:\tlearn: 0.2422494\ttotal: 569ms\tremaining: 3.03s\n",
      "158:\tlearn: 0.2419300\ttotal: 572ms\tremaining: 3.02s\n",
      "159:\tlearn: 0.2414929\ttotal: 574ms\tremaining: 3.01s\n",
      "160:\tlearn: 0.2409402\ttotal: 576ms\tremaining: 3s\n",
      "161:\tlearn: 0.2402746\ttotal: 578ms\tremaining: 2.99s\n",
      "162:\tlearn: 0.2399102\ttotal: 581ms\tremaining: 2.98s\n",
      "163:\tlearn: 0.2397696\ttotal: 583ms\tremaining: 2.97s\n"
     ]
    },
    {
     "name": "stdout",
     "output_type": "stream",
     "text": [
      "164:\tlearn: 0.2391395\ttotal: 586ms\tremaining: 2.96s\n",
      "165:\tlearn: 0.2388450\ttotal: 588ms\tremaining: 2.96s\n",
      "166:\tlearn: 0.2384509\ttotal: 591ms\tremaining: 2.95s\n",
      "167:\tlearn: 0.2382138\ttotal: 593ms\tremaining: 2.94s\n",
      "168:\tlearn: 0.2378648\ttotal: 596ms\tremaining: 2.93s\n",
      "169:\tlearn: 0.2371199\ttotal: 598ms\tremaining: 2.92s\n",
      "170:\tlearn: 0.2368035\ttotal: 600ms\tremaining: 2.91s\n",
      "171:\tlearn: 0.2362543\ttotal: 603ms\tremaining: 2.9s\n",
      "172:\tlearn: 0.2356245\ttotal: 605ms\tremaining: 2.89s\n",
      "173:\tlearn: 0.2349618\ttotal: 607ms\tremaining: 2.88s\n",
      "174:\tlearn: 0.2340556\ttotal: 609ms\tremaining: 2.87s\n",
      "175:\tlearn: 0.2337560\ttotal: 612ms\tremaining: 2.86s\n",
      "176:\tlearn: 0.2334463\ttotal: 614ms\tremaining: 2.85s\n",
      "177:\tlearn: 0.2328056\ttotal: 616ms\tremaining: 2.85s\n",
      "178:\tlearn: 0.2324589\ttotal: 619ms\tremaining: 2.84s\n",
      "179:\tlearn: 0.2317931\ttotal: 621ms\tremaining: 2.83s\n",
      "180:\tlearn: 0.2306238\ttotal: 623ms\tremaining: 2.82s\n",
      "181:\tlearn: 0.2301082\ttotal: 626ms\tremaining: 2.81s\n",
      "182:\tlearn: 0.2297202\ttotal: 628ms\tremaining: 2.8s\n",
      "183:\tlearn: 0.2289361\ttotal: 630ms\tremaining: 2.79s\n",
      "184:\tlearn: 0.2281112\ttotal: 634ms\tremaining: 2.79s\n",
      "185:\tlearn: 0.2276110\ttotal: 637ms\tremaining: 2.79s\n",
      "186:\tlearn: 0.2266494\ttotal: 639ms\tremaining: 2.78s\n",
      "187:\tlearn: 0.2261551\ttotal: 641ms\tremaining: 2.77s\n",
      "188:\tlearn: 0.2258396\ttotal: 647ms\tremaining: 2.78s\n",
      "189:\tlearn: 0.2249899\ttotal: 658ms\tremaining: 2.8s\n",
      "190:\tlearn: 0.2240704\ttotal: 661ms\tremaining: 2.8s\n",
      "191:\tlearn: 0.2236477\ttotal: 664ms\tremaining: 2.79s\n",
      "192:\tlearn: 0.2230622\ttotal: 666ms\tremaining: 2.79s\n",
      "193:\tlearn: 0.2223649\ttotal: 669ms\tremaining: 2.78s\n",
      "194:\tlearn: 0.2214896\ttotal: 671ms\tremaining: 2.77s\n",
      "195:\tlearn: 0.2209736\ttotal: 673ms\tremaining: 2.76s\n",
      "196:\tlearn: 0.2203731\ttotal: 676ms\tremaining: 2.75s\n",
      "197:\tlearn: 0.2199299\ttotal: 678ms\tremaining: 2.75s\n",
      "198:\tlearn: 0.2193902\ttotal: 682ms\tremaining: 2.75s\n"
     ]
    },
    {
     "name": "stdout",
     "output_type": "stream",
     "text": [
      "199:\tlearn: 0.2188475\ttotal: 690ms\tremaining: 2.76s\n",
      "200:\tlearn: 0.2182723\ttotal: 712ms\tremaining: 2.83s\n",
      "201:\tlearn: 0.2181318\ttotal: 725ms\tremaining: 2.86s\n",
      "202:\tlearn: 0.2170872\ttotal: 727ms\tremaining: 2.85s\n",
      "203:\tlearn: 0.2166948\ttotal: 730ms\tremaining: 2.85s\n",
      "204:\tlearn: 0.2165270\ttotal: 733ms\tremaining: 2.84s\n"
     ]
    },
    {
     "name": "stdout",
     "output_type": "stream",
     "text": [
      "205:\tlearn: 0.2158706\ttotal: 736ms\tremaining: 2.84s\n",
      "206:\tlearn: 0.2154119\ttotal: 741ms\tremaining: 2.84s\n",
      "207:\tlearn: 0.2150267\ttotal: 743ms\tremaining: 2.83s\n",
      "208:\tlearn: 0.2142821\ttotal: 745ms\tremaining: 2.82s\n",
      "209:\tlearn: 0.2137308\ttotal: 749ms\tremaining: 2.82s\n",
      "210:\tlearn: 0.2133447\ttotal: 752ms\tremaining: 2.81s\n",
      "211:\tlearn: 0.2129103\ttotal: 754ms\tremaining: 2.8s\n",
      "212:\tlearn: 0.2125402\ttotal: 756ms\tremaining: 2.79s\n",
      "213:\tlearn: 0.2123739\ttotal: 758ms\tremaining: 2.78s\n",
      "214:\tlearn: 0.2118088\ttotal: 760ms\tremaining: 2.78s\n",
      "215:\tlearn: 0.2110156\ttotal: 763ms\tremaining: 2.77s\n",
      "216:\tlearn: 0.2105777\ttotal: 765ms\tremaining: 2.76s\n",
      "217:\tlearn: 0.2102923\ttotal: 768ms\tremaining: 2.75s\n",
      "218:\tlearn: 0.2101762\ttotal: 771ms\tremaining: 2.75s\n",
      "219:\tlearn: 0.2098589\ttotal: 773ms\tremaining: 2.74s\n",
      "220:\tlearn: 0.2096736\ttotal: 776ms\tremaining: 2.73s\n",
      "221:\tlearn: 0.2094698\ttotal: 779ms\tremaining: 2.73s\n",
      "222:\tlearn: 0.2091806\ttotal: 785ms\tremaining: 2.73s\n",
      "223:\tlearn: 0.2085376\ttotal: 788ms\tremaining: 2.73s\n",
      "224:\tlearn: 0.2082101\ttotal: 791ms\tremaining: 2.73s\n",
      "225:\tlearn: 0.2079726\ttotal: 794ms\tremaining: 2.72s\n",
      "226:\tlearn: 0.2075006\ttotal: 797ms\tremaining: 2.71s\n",
      "227:\tlearn: 0.2073857\ttotal: 799ms\tremaining: 2.71s\n",
      "228:\tlearn: 0.2067404\ttotal: 806ms\tremaining: 2.71s\n",
      "229:\tlearn: 0.2065172\ttotal: 809ms\tremaining: 2.71s\n",
      "230:\tlearn: 0.2062255\ttotal: 812ms\tremaining: 2.7s\n",
      "231:\tlearn: 0.2057826\ttotal: 817ms\tremaining: 2.7s\n",
      "232:\tlearn: 0.2056431\ttotal: 819ms\tremaining: 2.7s\n"
     ]
    },
    {
     "name": "stdout",
     "output_type": "stream",
     "text": [
      "233:\tlearn: 0.2052844\ttotal: 825ms\tremaining: 2.7s\n",
      "234:\tlearn: 0.2051398\ttotal: 828ms\tremaining: 2.69s\n",
      "235:\tlearn: 0.2046299\ttotal: 833ms\tremaining: 2.7s\n",
      "236:\tlearn: 0.2041492\ttotal: 837ms\tremaining: 2.69s\n",
      "237:\tlearn: 0.2036671\ttotal: 840ms\tremaining: 2.69s\n",
      "238:\tlearn: 0.2033916\ttotal: 843ms\tremaining: 2.68s\n",
      "239:\tlearn: 0.2030506\ttotal: 845ms\tremaining: 2.68s\n",
      "240:\tlearn: 0.2029309\ttotal: 848ms\tremaining: 2.67s\n",
      "241:\tlearn: 0.2025913\ttotal: 851ms\tremaining: 2.67s\n",
      "242:\tlearn: 0.2021935\ttotal: 854ms\tremaining: 2.66s\n",
      "243:\tlearn: 0.2019193\ttotal: 856ms\tremaining: 2.65s\n",
      "244:\tlearn: 0.2014777\ttotal: 859ms\tremaining: 2.65s\n",
      "245:\tlearn: 0.2013779\ttotal: 861ms\tremaining: 2.64s\n",
      "246:\tlearn: 0.2012830\ttotal: 864ms\tremaining: 2.63s\n",
      "247:\tlearn: 0.2006971\ttotal: 866ms\tremaining: 2.63s\n",
      "248:\tlearn: 0.1999190\ttotal: 868ms\tremaining: 2.62s\n",
      "249:\tlearn: 0.1997896\ttotal: 871ms\tremaining: 2.61s\n",
      "250:\tlearn: 0.1990651\ttotal: 874ms\tremaining: 2.61s\n"
     ]
    },
    {
     "name": "stdout",
     "output_type": "stream",
     "text": [
      "251:\tlearn: 0.1989776\ttotal: 878ms\tremaining: 2.6s\n",
      "252:\tlearn: 0.1983524\ttotal: 881ms\tremaining: 2.6s\n",
      "253:\tlearn: 0.1982806\ttotal: 883ms\tremaining: 2.59s\n",
      "254:\tlearn: 0.1982064\ttotal: 887ms\tremaining: 2.59s\n",
      "255:\tlearn: 0.1975831\ttotal: 891ms\tremaining: 2.59s\n",
      "256:\tlearn: 0.1971392\ttotal: 893ms\tremaining: 2.58s\n",
      "257:\tlearn: 0.1966845\ttotal: 896ms\tremaining: 2.58s\n",
      "258:\tlearn: 0.1960341\ttotal: 898ms\tremaining: 2.57s\n",
      "259:\tlearn: 0.1956943\ttotal: 900ms\tremaining: 2.56s\n",
      "260:\tlearn: 0.1956149\ttotal: 903ms\tremaining: 2.56s\n",
      "261:\tlearn: 0.1953200\ttotal: 904ms\tremaining: 2.55s\n",
      "262:\tlearn: 0.1952412\ttotal: 907ms\tremaining: 2.54s\n",
      "263:\tlearn: 0.1944527\ttotal: 909ms\tremaining: 2.53s\n",
      "264:\tlearn: 0.1938414\ttotal: 913ms\tremaining: 2.53s\n",
      "265:\tlearn: 0.1933080\ttotal: 919ms\tremaining: 2.54s\n",
      "266:\tlearn: 0.1932236\ttotal: 927ms\tremaining: 2.54s\n",
      "267:\tlearn: 0.1931454\ttotal: 930ms\tremaining: 2.54s\n",
      "268:\tlearn: 0.1930823\ttotal: 932ms\tremaining: 2.53s\n",
      "269:\tlearn: 0.1928361\ttotal: 934ms\tremaining: 2.53s\n",
      "270:\tlearn: 0.1927578\ttotal: 936ms\tremaining: 2.52s\n",
      "271:\tlearn: 0.1926846\ttotal: 938ms\tremaining: 2.51s\n",
      "272:\tlearn: 0.1922244\ttotal: 941ms\tremaining: 2.5s\n",
      "273:\tlearn: 0.1921502\ttotal: 943ms\tremaining: 2.5s\n",
      "274:\tlearn: 0.1916865\ttotal: 946ms\tremaining: 2.49s\n",
      "275:\tlearn: 0.1916200\ttotal: 948ms\tremaining: 2.49s\n",
      "276:\tlearn: 0.1908278\ttotal: 950ms\tremaining: 2.48s\n",
      "277:\tlearn: 0.1907726\ttotal: 953ms\tremaining: 2.47s\n",
      "278:\tlearn: 0.1901535\ttotal: 955ms\tremaining: 2.47s\n",
      "279:\tlearn: 0.1896986\ttotal: 958ms\tremaining: 2.46s\n",
      "280:\tlearn: 0.1889758\ttotal: 960ms\tremaining: 2.46s\n",
      "281:\tlearn: 0.1883671\ttotal: 964ms\tremaining: 2.46s\n",
      "282:\tlearn: 0.1877232\ttotal: 967ms\tremaining: 2.45s\n",
      "283:\tlearn: 0.1872826\ttotal: 971ms\tremaining: 2.45s\n",
      "284:\tlearn: 0.1867619\ttotal: 973ms\tremaining: 2.44s\n",
      "285:\tlearn: 0.1861395\ttotal: 975ms\tremaining: 2.43s\n",
      "286:\tlearn: 0.1855824\ttotal: 977ms\tremaining: 2.43s\n",
      "287:\tlearn: 0.1848444\ttotal: 980ms\tremaining: 2.42s\n"
     ]
    },
    {
     "name": "stdout",
     "output_type": "stream",
     "text": [
      "288:\tlearn: 0.1841593\ttotal: 984ms\tremaining: 2.42s\n",
      "289:\tlearn: 0.1836444\ttotal: 986ms\tremaining: 2.42s\n",
      "290:\tlearn: 0.1829686\ttotal: 989ms\tremaining: 2.41s\n",
      "291:\tlearn: 0.1826605\ttotal: 991ms\tremaining: 2.4s\n",
      "292:\tlearn: 0.1825905\ttotal: 994ms\tremaining: 2.4s\n",
      "293:\tlearn: 0.1821063\ttotal: 996ms\tremaining: 2.39s\n",
      "294:\tlearn: 0.1815196\ttotal: 998ms\tremaining: 2.39s\n",
      "295:\tlearn: 0.1811648\ttotal: 1s\tremaining: 2.38s\n",
      "296:\tlearn: 0.1807083\ttotal: 1s\tremaining: 2.38s\n",
      "297:\tlearn: 0.1800916\ttotal: 1.01s\tremaining: 2.37s\n",
      "298:\tlearn: 0.1797196\ttotal: 1.01s\tremaining: 2.37s\n",
      "299:\tlearn: 0.1792893\ttotal: 1.01s\tremaining: 2.36s\n",
      "300:\tlearn: 0.1786250\ttotal: 1.01s\tremaining: 2.35s\n",
      "301:\tlearn: 0.1778873\ttotal: 1.02s\tremaining: 2.35s\n",
      "302:\tlearn: 0.1774612\ttotal: 1.02s\tremaining: 2.34s\n",
      "303:\tlearn: 0.1773993\ttotal: 1.02s\tremaining: 2.34s\n",
      "304:\tlearn: 0.1768630\ttotal: 1.02s\tremaining: 2.33s\n",
      "305:\tlearn: 0.1766181\ttotal: 1.02s\tremaining: 2.33s\n",
      "306:\tlearn: 0.1765599\ttotal: 1.03s\tremaining: 2.32s\n",
      "307:\tlearn: 0.1760893\ttotal: 1.03s\tremaining: 2.31s\n",
      "308:\tlearn: 0.1760358\ttotal: 1.03s\tremaining: 2.31s\n",
      "309:\tlearn: 0.1757625\ttotal: 1.03s\tremaining: 2.3s\n",
      "310:\tlearn: 0.1757187\ttotal: 1.04s\tremaining: 2.3s\n",
      "311:\tlearn: 0.1752140\ttotal: 1.04s\tremaining: 2.29s\n",
      "312:\tlearn: 0.1748801\ttotal: 1.04s\tremaining: 2.29s\n",
      "313:\tlearn: 0.1748287\ttotal: 1.04s\tremaining: 2.28s\n"
     ]
    },
    {
     "name": "stdout",
     "output_type": "stream",
     "text": [
      "314:\tlearn: 0.1742400\ttotal: 1.05s\tremaining: 2.28s\n",
      "315:\tlearn: 0.1739021\ttotal: 1.05s\tremaining: 2.27s\n",
      "316:\tlearn: 0.1732204\ttotal: 1.05s\tremaining: 2.27s\n",
      "317:\tlearn: 0.1725906\ttotal: 1.05s\tremaining: 2.26s\n",
      "318:\tlearn: 0.1721912\ttotal: 1.06s\tremaining: 2.26s\n",
      "319:\tlearn: 0.1716645\ttotal: 1.06s\tremaining: 2.25s\n",
      "320:\tlearn: 0.1709116\ttotal: 1.06s\tremaining: 2.25s\n",
      "321:\tlearn: 0.1705180\ttotal: 1.06s\tremaining: 2.24s\n",
      "322:\tlearn: 0.1698932\ttotal: 1.07s\tremaining: 2.24s\n",
      "323:\tlearn: 0.1694525\ttotal: 1.07s\tremaining: 2.23s\n",
      "324:\tlearn: 0.1689717\ttotal: 1.07s\tremaining: 2.23s\n",
      "325:\tlearn: 0.1685130\ttotal: 1.07s\tremaining: 2.22s\n",
      "326:\tlearn: 0.1681552\ttotal: 1.08s\tremaining: 2.22s\n",
      "327:\tlearn: 0.1681041\ttotal: 1.08s\tremaining: 2.21s\n",
      "328:\tlearn: 0.1675904\ttotal: 1.08s\tremaining: 2.21s\n",
      "329:\tlearn: 0.1669326\ttotal: 1.08s\tremaining: 2.2s\n",
      "330:\tlearn: 0.1664751\ttotal: 1.09s\tremaining: 2.2s\n",
      "331:\tlearn: 0.1659389\ttotal: 1.09s\tremaining: 2.19s\n",
      "332:\tlearn: 0.1654651\ttotal: 1.09s\tremaining: 2.19s\n",
      "333:\tlearn: 0.1649117\ttotal: 1.09s\tremaining: 2.18s\n",
      "334:\tlearn: 0.1647050\ttotal: 1.1s\tremaining: 2.17s\n",
      "335:\tlearn: 0.1641694\ttotal: 1.1s\tremaining: 2.17s\n",
      "336:\tlearn: 0.1636227\ttotal: 1.1s\tremaining: 2.17s\n",
      "337:\tlearn: 0.1635758\ttotal: 1.1s\tremaining: 2.16s\n",
      "338:\tlearn: 0.1631594\ttotal: 1.1s\tremaining: 2.15s\n",
      "339:\tlearn: 0.1630174\ttotal: 1.11s\tremaining: 2.15s\n",
      "340:\tlearn: 0.1625373\ttotal: 1.11s\tremaining: 2.15s\n",
      "341:\tlearn: 0.1620496\ttotal: 1.11s\tremaining: 2.14s\n",
      "342:\tlearn: 0.1616433\ttotal: 1.11s\tremaining: 2.13s\n",
      "343:\tlearn: 0.1612023\ttotal: 1.12s\tremaining: 2.13s\n",
      "344:\tlearn: 0.1608557\ttotal: 1.12s\tremaining: 2.12s\n",
      "345:\tlearn: 0.1606708\ttotal: 1.12s\tremaining: 2.12s\n",
      "346:\tlearn: 0.1602851\ttotal: 1.12s\tremaining: 2.11s\n",
      "347:\tlearn: 0.1599398\ttotal: 1.13s\tremaining: 2.11s\n",
      "348:\tlearn: 0.1594538\ttotal: 1.13s\tremaining: 2.1s\n",
      "349:\tlearn: 0.1590837\ttotal: 1.13s\tremaining: 2.1s\n",
      "350:\tlearn: 0.1586511\ttotal: 1.13s\tremaining: 2.09s\n",
      "351:\tlearn: 0.1583111\ttotal: 1.13s\tremaining: 2.09s\n",
      "352:\tlearn: 0.1578675\ttotal: 1.14s\tremaining: 2.08s\n",
      "353:\tlearn: 0.1577192\ttotal: 1.14s\tremaining: 2.08s\n",
      "354:\tlearn: 0.1574222\ttotal: 1.14s\tremaining: 2.08s\n",
      "355:\tlearn: 0.1568478\ttotal: 1.14s\tremaining: 2.07s\n",
      "356:\tlearn: 0.1563780\ttotal: 1.15s\tremaining: 2.07s\n",
      "357:\tlearn: 0.1562270\ttotal: 1.15s\tremaining: 2.07s\n",
      "358:\tlearn: 0.1557262\ttotal: 1.16s\tremaining: 2.06s\n"
     ]
    },
    {
     "name": "stdout",
     "output_type": "stream",
     "text": [
      "359:\tlearn: 0.1554286\ttotal: 1.16s\tremaining: 2.06s\n",
      "360:\tlearn: 0.1551262\ttotal: 1.16s\tremaining: 2.06s\n",
      "361:\tlearn: 0.1547467\ttotal: 1.16s\tremaining: 2.05s\n",
      "362:\tlearn: 0.1543126\ttotal: 1.17s\tremaining: 2.05s\n",
      "363:\tlearn: 0.1537398\ttotal: 1.17s\tremaining: 2.04s\n",
      "364:\tlearn: 0.1534697\ttotal: 1.18s\tremaining: 2.04s\n",
      "365:\tlearn: 0.1530778\ttotal: 1.18s\tremaining: 2.04s\n",
      "366:\tlearn: 0.1527728\ttotal: 1.18s\tremaining: 2.04s\n",
      "367:\tlearn: 0.1522799\ttotal: 1.18s\tremaining: 2.03s\n",
      "368:\tlearn: 0.1518766\ttotal: 1.19s\tremaining: 2.03s\n",
      "369:\tlearn: 0.1515780\ttotal: 1.19s\tremaining: 2.02s\n",
      "370:\tlearn: 0.1513626\ttotal: 1.19s\tremaining: 2.02s\n",
      "371:\tlearn: 0.1509832\ttotal: 1.19s\tremaining: 2.01s\n",
      "372:\tlearn: 0.1507671\ttotal: 1.2s\tremaining: 2.01s\n",
      "373:\tlearn: 0.1504206\ttotal: 1.2s\tremaining: 2s\n",
      "374:\tlearn: 0.1500450\ttotal: 1.2s\tremaining: 2s\n",
      "375:\tlearn: 0.1494326\ttotal: 1.2s\tremaining: 2s\n",
      "376:\tlearn: 0.1490514\ttotal: 1.21s\tremaining: 1.99s\n",
      "377:\tlearn: 0.1487578\ttotal: 1.21s\tremaining: 1.99s\n",
      "378:\tlearn: 0.1484441\ttotal: 1.21s\tremaining: 1.98s\n",
      "379:\tlearn: 0.1478278\ttotal: 1.21s\tremaining: 1.98s\n"
     ]
    },
    {
     "name": "stdout",
     "output_type": "stream",
     "text": [
      "380:\tlearn: 0.1474591\ttotal: 1.22s\tremaining: 1.98s\n",
      "381:\tlearn: 0.1474327\ttotal: 1.23s\tremaining: 1.99s\n",
      "382:\tlearn: 0.1472792\ttotal: 1.23s\tremaining: 1.99s\n",
      "383:\tlearn: 0.1470867\ttotal: 1.24s\tremaining: 1.98s\n",
      "384:\tlearn: 0.1466303\ttotal: 1.24s\tremaining: 1.98s\n",
      "385:\tlearn: 0.1462049\ttotal: 1.24s\tremaining: 1.98s\n",
      "386:\tlearn: 0.1457911\ttotal: 1.25s\tremaining: 1.97s\n",
      "387:\tlearn: 0.1453974\ttotal: 1.25s\tremaining: 1.97s\n",
      "388:\tlearn: 0.1450988\ttotal: 1.25s\tremaining: 1.96s\n",
      "389:\tlearn: 0.1448961\ttotal: 1.25s\tremaining: 1.96s\n",
      "390:\tlearn: 0.1445003\ttotal: 1.25s\tremaining: 1.95s\n",
      "391:\tlearn: 0.1440359\ttotal: 1.26s\tremaining: 1.95s\n",
      "392:\tlearn: 0.1437666\ttotal: 1.26s\tremaining: 1.95s\n",
      "393:\tlearn: 0.1435928\ttotal: 1.27s\tremaining: 1.95s\n",
      "394:\tlearn: 0.1432591\ttotal: 1.27s\tremaining: 1.95s\n",
      "395:\tlearn: 0.1427450\ttotal: 1.27s\tremaining: 1.94s\n",
      "396:\tlearn: 0.1425115\ttotal: 1.28s\tremaining: 1.94s\n",
      "397:\tlearn: 0.1423800\ttotal: 1.28s\tremaining: 1.94s\n",
      "398:\tlearn: 0.1420908\ttotal: 1.28s\tremaining: 1.93s\n",
      "399:\tlearn: 0.1418715\ttotal: 1.28s\tremaining: 1.93s\n",
      "400:\tlearn: 0.1414426\ttotal: 1.29s\tremaining: 1.92s\n",
      "401:\tlearn: 0.1411654\ttotal: 1.29s\tremaining: 1.92s\n",
      "402:\tlearn: 0.1411341\ttotal: 1.29s\tremaining: 1.91s\n",
      "403:\tlearn: 0.1408215\ttotal: 1.29s\tremaining: 1.91s\n",
      "404:\tlearn: 0.1404598\ttotal: 1.3s\tremaining: 1.9s\n",
      "405:\tlearn: 0.1401186\ttotal: 1.3s\tremaining: 1.9s\n",
      "406:\tlearn: 0.1398365\ttotal: 1.3s\tremaining: 1.9s\n",
      "407:\tlearn: 0.1396660\ttotal: 1.3s\tremaining: 1.89s\n",
      "408:\tlearn: 0.1396397\ttotal: 1.3s\tremaining: 1.89s\n",
      "409:\tlearn: 0.1394944\ttotal: 1.31s\tremaining: 1.88s\n",
      "410:\tlearn: 0.1392853\ttotal: 1.31s\tremaining: 1.88s\n",
      "411:\tlearn: 0.1392597\ttotal: 1.31s\tremaining: 1.87s\n",
      "412:\tlearn: 0.1391501\ttotal: 1.31s\tremaining: 1.87s\n",
      "413:\tlearn: 0.1391230\ttotal: 1.32s\tremaining: 1.86s\n",
      "414:\tlearn: 0.1388877\ttotal: 1.32s\tremaining: 1.86s\n",
      "415:\tlearn: 0.1387956\ttotal: 1.32s\tremaining: 1.86s\n",
      "416:\tlearn: 0.1387105\ttotal: 1.32s\tremaining: 1.85s\n",
      "417:\tlearn: 0.1385316\ttotal: 1.33s\tremaining: 1.85s\n",
      "418:\tlearn: 0.1380904\ttotal: 1.33s\tremaining: 1.84s\n"
     ]
    },
    {
     "name": "stdout",
     "output_type": "stream",
     "text": [
      "419:\tlearn: 0.1377343\ttotal: 1.33s\tremaining: 1.84s\n",
      "420:\tlearn: 0.1376635\ttotal: 1.33s\tremaining: 1.83s\n",
      "421:\tlearn: 0.1376413\ttotal: 1.34s\tremaining: 1.83s\n",
      "422:\tlearn: 0.1373181\ttotal: 1.34s\tremaining: 1.83s\n",
      "423:\tlearn: 0.1368351\ttotal: 1.34s\tremaining: 1.82s\n",
      "424:\tlearn: 0.1364178\ttotal: 1.34s\tremaining: 1.82s\n",
      "425:\tlearn: 0.1363626\ttotal: 1.34s\tremaining: 1.81s\n",
      "426:\tlearn: 0.1363419\ttotal: 1.35s\tremaining: 1.81s\n",
      "427:\tlearn: 0.1360223\ttotal: 1.35s\tremaining: 1.8s\n",
      "428:\tlearn: 0.1358573\ttotal: 1.35s\tremaining: 1.8s\n",
      "429:\tlearn: 0.1358196\ttotal: 1.35s\tremaining: 1.8s\n",
      "430:\tlearn: 0.1355614\ttotal: 1.36s\tremaining: 1.79s\n",
      "431:\tlearn: 0.1354647\ttotal: 1.36s\tremaining: 1.79s\n",
      "432:\tlearn: 0.1351103\ttotal: 1.36s\tremaining: 1.78s\n",
      "433:\tlearn: 0.1350854\ttotal: 1.36s\tremaining: 1.78s\n",
      "434:\tlearn: 0.1350038\ttotal: 1.37s\tremaining: 1.77s\n",
      "435:\tlearn: 0.1348858\ttotal: 1.37s\tremaining: 1.77s\n",
      "436:\tlearn: 0.1345647\ttotal: 1.37s\tremaining: 1.77s\n",
      "437:\tlearn: 0.1341179\ttotal: 1.37s\tremaining: 1.76s\n",
      "438:\tlearn: 0.1338087\ttotal: 1.38s\tremaining: 1.76s\n",
      "439:\tlearn: 0.1335206\ttotal: 1.38s\tremaining: 1.75s\n",
      "440:\tlearn: 0.1333436\ttotal: 1.38s\tremaining: 1.75s\n",
      "441:\tlearn: 0.1332784\ttotal: 1.39s\tremaining: 1.75s\n",
      "442:\tlearn: 0.1331754\ttotal: 1.39s\tremaining: 1.74s\n",
      "443:\tlearn: 0.1329026\ttotal: 1.39s\tremaining: 1.74s\n",
      "444:\tlearn: 0.1325226\ttotal: 1.39s\tremaining: 1.74s\n"
     ]
    },
    {
     "name": "stdout",
     "output_type": "stream",
     "text": [
      "445:\tlearn: 0.1324493\ttotal: 1.39s\tremaining: 1.73s\n",
      "446:\tlearn: 0.1323985\ttotal: 1.4s\tremaining: 1.73s\n",
      "447:\tlearn: 0.1322406\ttotal: 1.4s\tremaining: 1.72s\n",
      "448:\tlearn: 0.1321285\ttotal: 1.4s\tremaining: 1.72s\n",
      "449:\tlearn: 0.1319952\ttotal: 1.4s\tremaining: 1.72s\n",
      "450:\tlearn: 0.1315404\ttotal: 1.41s\tremaining: 1.71s\n",
      "451:\tlearn: 0.1314763\ttotal: 1.42s\tremaining: 1.72s\n",
      "452:\tlearn: 0.1311664\ttotal: 1.42s\tremaining: 1.71s\n",
      "453:\tlearn: 0.1309195\ttotal: 1.42s\tremaining: 1.71s\n",
      "454:\tlearn: 0.1305361\ttotal: 1.42s\tremaining: 1.71s\n",
      "455:\tlearn: 0.1304555\ttotal: 1.43s\tremaining: 1.71s\n",
      "456:\tlearn: 0.1301954\ttotal: 1.43s\tremaining: 1.7s\n",
      "457:\tlearn: 0.1299503\ttotal: 1.44s\tremaining: 1.7s\n",
      "458:\tlearn: 0.1297342\ttotal: 1.44s\tremaining: 1.7s\n",
      "459:\tlearn: 0.1294969\ttotal: 1.44s\tremaining: 1.69s\n",
      "460:\tlearn: 0.1290729\ttotal: 1.45s\tremaining: 1.69s\n",
      "461:\tlearn: 0.1286832\ttotal: 1.45s\tremaining: 1.69s\n",
      "462:\tlearn: 0.1282673\ttotal: 1.45s\tremaining: 1.68s\n",
      "463:\tlearn: 0.1278286\ttotal: 1.45s\tremaining: 1.68s\n",
      "464:\tlearn: 0.1275330\ttotal: 1.45s\tremaining: 1.67s\n",
      "465:\tlearn: 0.1273836\ttotal: 1.46s\tremaining: 1.67s\n",
      "466:\tlearn: 0.1271249\ttotal: 1.46s\tremaining: 1.67s\n",
      "467:\tlearn: 0.1269600\ttotal: 1.46s\tremaining: 1.66s\n"
     ]
    },
    {
     "name": "stdout",
     "output_type": "stream",
     "text": [
      "468:\tlearn: 0.1265610\ttotal: 1.47s\tremaining: 1.66s\n",
      "469:\tlearn: 0.1263127\ttotal: 1.47s\tremaining: 1.66s\n",
      "470:\tlearn: 0.1261318\ttotal: 1.47s\tremaining: 1.65s\n",
      "471:\tlearn: 0.1258239\ttotal: 1.47s\tremaining: 1.65s\n",
      "472:\tlearn: 0.1256255\ttotal: 1.48s\tremaining: 1.65s\n",
      "473:\tlearn: 0.1253933\ttotal: 1.48s\tremaining: 1.64s\n",
      "474:\tlearn: 0.1250131\ttotal: 1.48s\tremaining: 1.64s\n",
      "475:\tlearn: 0.1246480\ttotal: 1.48s\tremaining: 1.63s\n",
      "476:\tlearn: 0.1244341\ttotal: 1.49s\tremaining: 1.63s\n",
      "477:\tlearn: 0.1241653\ttotal: 1.49s\tremaining: 1.62s\n",
      "478:\tlearn: 0.1240929\ttotal: 1.49s\tremaining: 1.62s\n",
      "479:\tlearn: 0.1237652\ttotal: 1.49s\tremaining: 1.62s\n",
      "480:\tlearn: 0.1234278\ttotal: 1.5s\tremaining: 1.61s\n",
      "481:\tlearn: 0.1232157\ttotal: 1.5s\tremaining: 1.61s\n",
      "482:\tlearn: 0.1230096\ttotal: 1.5s\tremaining: 1.6s\n",
      "483:\tlearn: 0.1229471\ttotal: 1.5s\tremaining: 1.6s\n",
      "484:\tlearn: 0.1225903\ttotal: 1.5s\tremaining: 1.6s\n",
      "485:\tlearn: 0.1222175\ttotal: 1.51s\tremaining: 1.59s\n",
      "486:\tlearn: 0.1220562\ttotal: 1.51s\tremaining: 1.59s\n",
      "487:\tlearn: 0.1219239\ttotal: 1.51s\tremaining: 1.59s\n",
      "488:\tlearn: 0.1215803\ttotal: 1.51s\tremaining: 1.58s\n",
      "489:\tlearn: 0.1212076\ttotal: 1.52s\tremaining: 1.58s\n",
      "490:\tlearn: 0.1207979\ttotal: 1.52s\tremaining: 1.58s\n",
      "491:\tlearn: 0.1207247\ttotal: 1.52s\tremaining: 1.57s\n"
     ]
    },
    {
     "name": "stdout",
     "output_type": "stream",
     "text": [
      "492:\tlearn: 0.1206453\ttotal: 1.53s\tremaining: 1.57s\n",
      "493:\tlearn: 0.1204048\ttotal: 1.53s\tremaining: 1.57s\n",
      "494:\tlearn: 0.1202032\ttotal: 1.53s\tremaining: 1.56s\n",
      "495:\tlearn: 0.1198366\ttotal: 1.53s\tremaining: 1.56s\n",
      "496:\tlearn: 0.1194991\ttotal: 1.54s\tremaining: 1.56s\n",
      "497:\tlearn: 0.1194445\ttotal: 1.54s\tremaining: 1.55s\n",
      "498:\tlearn: 0.1192525\ttotal: 1.54s\tremaining: 1.55s\n",
      "499:\tlearn: 0.1190021\ttotal: 1.54s\tremaining: 1.54s\n",
      "500:\tlearn: 0.1187811\ttotal: 1.55s\tremaining: 1.54s\n",
      "501:\tlearn: 0.1183988\ttotal: 1.55s\tremaining: 1.54s\n",
      "502:\tlearn: 0.1181022\ttotal: 1.55s\tremaining: 1.53s\n",
      "503:\tlearn: 0.1178371\ttotal: 1.55s\tremaining: 1.53s\n",
      "504:\tlearn: 0.1175612\ttotal: 1.55s\tremaining: 1.52s\n",
      "505:\tlearn: 0.1173410\ttotal: 1.56s\tremaining: 1.52s\n",
      "506:\tlearn: 0.1170705\ttotal: 1.56s\tremaining: 1.52s\n",
      "507:\tlearn: 0.1170186\ttotal: 1.56s\tremaining: 1.51s\n",
      "508:\tlearn: 0.1166890\ttotal: 1.57s\tremaining: 1.51s\n",
      "509:\tlearn: 0.1165317\ttotal: 1.57s\tremaining: 1.51s\n",
      "510:\tlearn: 0.1164899\ttotal: 1.57s\tremaining: 1.5s\n",
      "511:\tlearn: 0.1163676\ttotal: 1.57s\tremaining: 1.5s\n",
      "512:\tlearn: 0.1161654\ttotal: 1.57s\tremaining: 1.5s\n",
      "513:\tlearn: 0.1160095\ttotal: 1.58s\tremaining: 1.49s\n",
      "514:\tlearn: 0.1156852\ttotal: 1.58s\tremaining: 1.49s\n",
      "515:\tlearn: 0.1153917\ttotal: 1.58s\tremaining: 1.48s\n",
      "516:\tlearn: 0.1151447\ttotal: 1.58s\tremaining: 1.48s\n",
      "517:\tlearn: 0.1148520\ttotal: 1.59s\tremaining: 1.48s\n",
      "518:\tlearn: 0.1145939\ttotal: 1.59s\tremaining: 1.47s\n",
      "519:\tlearn: 0.1142150\ttotal: 1.59s\tremaining: 1.47s\n",
      "520:\tlearn: 0.1139357\ttotal: 1.59s\tremaining: 1.46s\n",
      "521:\tlearn: 0.1136495\ttotal: 1.59s\tremaining: 1.46s\n",
      "522:\tlearn: 0.1133924\ttotal: 1.6s\tremaining: 1.46s\n",
      "523:\tlearn: 0.1131348\ttotal: 1.6s\tremaining: 1.45s\n",
      "524:\tlearn: 0.1128587\ttotal: 1.6s\tremaining: 1.45s\n",
      "525:\tlearn: 0.1126797\ttotal: 1.6s\tremaining: 1.45s\n",
      "526:\tlearn: 0.1123773\ttotal: 1.61s\tremaining: 1.44s\n",
      "527:\tlearn: 0.1123209\ttotal: 1.61s\tremaining: 1.44s\n",
      "528:\tlearn: 0.1122629\ttotal: 1.61s\tremaining: 1.44s\n",
      "529:\tlearn: 0.1120001\ttotal: 1.61s\tremaining: 1.43s\n",
      "530:\tlearn: 0.1119068\ttotal: 1.62s\tremaining: 1.43s\n",
      "531:\tlearn: 0.1116525\ttotal: 1.62s\tremaining: 1.42s\n",
      "532:\tlearn: 0.1112374\ttotal: 1.62s\tremaining: 1.42s\n",
      "533:\tlearn: 0.1110788\ttotal: 1.62s\tremaining: 1.42s\n",
      "534:\tlearn: 0.1107471\ttotal: 1.63s\tremaining: 1.41s\n",
      "535:\tlearn: 0.1103964\ttotal: 1.63s\tremaining: 1.41s\n",
      "536:\tlearn: 0.1100183\ttotal: 1.63s\tremaining: 1.41s\n",
      "537:\tlearn: 0.1097684\ttotal: 1.63s\tremaining: 1.4s\n",
      "538:\tlearn: 0.1095589\ttotal: 1.64s\tremaining: 1.4s\n"
     ]
    },
    {
     "name": "stdout",
     "output_type": "stream",
     "text": [
      "539:\tlearn: 0.1093603\ttotal: 1.64s\tremaining: 1.4s\n",
      "540:\tlearn: 0.1091795\ttotal: 1.64s\tremaining: 1.39s\n",
      "541:\tlearn: 0.1091195\ttotal: 1.64s\tremaining: 1.39s\n",
      "542:\tlearn: 0.1091014\ttotal: 1.65s\tremaining: 1.39s\n",
      "543:\tlearn: 0.1089833\ttotal: 1.65s\tremaining: 1.38s\n",
      "544:\tlearn: 0.1086407\ttotal: 1.65s\tremaining: 1.38s\n",
      "545:\tlearn: 0.1084047\ttotal: 1.66s\tremaining: 1.38s\n",
      "546:\tlearn: 0.1081561\ttotal: 1.66s\tremaining: 1.37s\n",
      "547:\tlearn: 0.1079822\ttotal: 1.66s\tremaining: 1.37s\n",
      "548:\tlearn: 0.1078488\ttotal: 1.67s\tremaining: 1.37s\n",
      "549:\tlearn: 0.1076047\ttotal: 1.67s\tremaining: 1.36s\n",
      "550:\tlearn: 0.1075456\ttotal: 1.67s\tremaining: 1.36s\n",
      "551:\tlearn: 0.1073186\ttotal: 1.67s\tremaining: 1.36s\n",
      "552:\tlearn: 0.1070449\ttotal: 1.68s\tremaining: 1.35s\n",
      "553:\tlearn: 0.1068169\ttotal: 1.68s\tremaining: 1.35s\n",
      "554:\tlearn: 0.1065866\ttotal: 1.68s\tremaining: 1.35s\n",
      "555:\tlearn: 0.1064613\ttotal: 1.68s\tremaining: 1.34s\n",
      "556:\tlearn: 0.1063984\ttotal: 1.69s\tremaining: 1.34s\n",
      "557:\tlearn: 0.1063106\ttotal: 1.69s\tremaining: 1.34s\n",
      "558:\tlearn: 0.1061390\ttotal: 1.69s\tremaining: 1.33s\n",
      "559:\tlearn: 0.1059253\ttotal: 1.7s\tremaining: 1.33s\n",
      "560:\tlearn: 0.1057562\ttotal: 1.7s\tremaining: 1.33s\n"
     ]
    },
    {
     "name": "stdout",
     "output_type": "stream",
     "text": [
      "561:\tlearn: 0.1055262\ttotal: 1.7s\tremaining: 1.32s\n",
      "562:\tlearn: 0.1054813\ttotal: 1.7s\tremaining: 1.32s\n",
      "563:\tlearn: 0.1052691\ttotal: 1.71s\tremaining: 1.32s\n",
      "564:\tlearn: 0.1050348\ttotal: 1.71s\tremaining: 1.31s\n",
      "565:\tlearn: 0.1048614\ttotal: 1.71s\tremaining: 1.31s\n",
      "566:\tlearn: 0.1045214\ttotal: 1.71s\tremaining: 1.31s\n",
      "567:\tlearn: 0.1044753\ttotal: 1.72s\tremaining: 1.3s\n",
      "568:\tlearn: 0.1042009\ttotal: 1.72s\tremaining: 1.3s\n",
      "569:\tlearn: 0.1041251\ttotal: 1.72s\tremaining: 1.3s\n",
      "570:\tlearn: 0.1039491\ttotal: 1.73s\tremaining: 1.3s\n",
      "571:\tlearn: 0.1036454\ttotal: 1.73s\tremaining: 1.29s\n",
      "572:\tlearn: 0.1034860\ttotal: 1.73s\tremaining: 1.29s\n",
      "573:\tlearn: 0.1033379\ttotal: 1.74s\tremaining: 1.29s\n",
      "574:\tlearn: 0.1032342\ttotal: 1.74s\tremaining: 1.28s\n",
      "575:\tlearn: 0.1029697\ttotal: 1.74s\tremaining: 1.28s\n",
      "576:\tlearn: 0.1029304\ttotal: 1.74s\tremaining: 1.28s\n",
      "577:\tlearn: 0.1027535\ttotal: 1.75s\tremaining: 1.27s\n",
      "578:\tlearn: 0.1024885\ttotal: 1.75s\tremaining: 1.27s\n",
      "579:\tlearn: 0.1023301\ttotal: 1.75s\tremaining: 1.27s\n",
      "580:\tlearn: 0.1021386\ttotal: 1.75s\tremaining: 1.26s\n",
      "581:\tlearn: 0.1021034\ttotal: 1.75s\tremaining: 1.26s\n",
      "582:\tlearn: 0.1018221\ttotal: 1.76s\tremaining: 1.26s\n",
      "583:\tlearn: 0.1016340\ttotal: 1.76s\tremaining: 1.25s\n",
      "584:\tlearn: 0.1014257\ttotal: 1.76s\tremaining: 1.25s\n",
      "585:\tlearn: 0.1013922\ttotal: 1.76s\tremaining: 1.25s\n",
      "586:\tlearn: 0.1011332\ttotal: 1.77s\tremaining: 1.24s\n",
      "587:\tlearn: 0.1008606\ttotal: 1.77s\tremaining: 1.24s\n",
      "588:\tlearn: 0.1008131\ttotal: 1.77s\tremaining: 1.24s\n",
      "589:\tlearn: 0.1005878\ttotal: 1.77s\tremaining: 1.23s\n",
      "590:\tlearn: 0.1003193\ttotal: 1.78s\tremaining: 1.23s\n",
      "591:\tlearn: 0.0999831\ttotal: 1.78s\tremaining: 1.23s\n",
      "592:\tlearn: 0.0999293\ttotal: 1.78s\tremaining: 1.22s\n",
      "593:\tlearn: 0.0998893\ttotal: 1.78s\tremaining: 1.22s\n",
      "594:\tlearn: 0.0996532\ttotal: 1.79s\tremaining: 1.22s\n",
      "595:\tlearn: 0.0993722\ttotal: 1.79s\tremaining: 1.21s\n",
      "596:\tlearn: 0.0991808\ttotal: 1.79s\tremaining: 1.21s\n",
      "597:\tlearn: 0.0990781\ttotal: 1.79s\tremaining: 1.21s\n",
      "598:\tlearn: 0.0987881\ttotal: 1.79s\tremaining: 1.2s\n",
      "599:\tlearn: 0.0985636\ttotal: 1.8s\tremaining: 1.2s\n",
      "600:\tlearn: 0.0982807\ttotal: 1.8s\tremaining: 1.2s\n",
      "601:\tlearn: 0.0980352\ttotal: 1.8s\tremaining: 1.19s\n",
      "602:\tlearn: 0.0978976\ttotal: 1.8s\tremaining: 1.19s\n",
      "603:\tlearn: 0.0976422\ttotal: 1.81s\tremaining: 1.19s\n",
      "604:\tlearn: 0.0973828\ttotal: 1.81s\tremaining: 1.18s\n"
     ]
    },
    {
     "name": "stdout",
     "output_type": "stream",
     "text": [
      "605:\tlearn: 0.0971536\ttotal: 1.81s\tremaining: 1.18s\n",
      "606:\tlearn: 0.0970259\ttotal: 1.82s\tremaining: 1.18s\n",
      "607:\tlearn: 0.0968909\ttotal: 1.82s\tremaining: 1.17s\n",
      "608:\tlearn: 0.0966864\ttotal: 1.82s\tremaining: 1.17s\n",
      "609:\tlearn: 0.0965375\ttotal: 1.82s\tremaining: 1.17s\n",
      "610:\tlearn: 0.0963469\ttotal: 1.82s\tremaining: 1.16s\n",
      "611:\tlearn: 0.0961095\ttotal: 1.83s\tremaining: 1.16s\n",
      "612:\tlearn: 0.0959030\ttotal: 1.83s\tremaining: 1.16s\n",
      "613:\tlearn: 0.0956814\ttotal: 1.83s\tremaining: 1.15s\n",
      "614:\tlearn: 0.0954144\ttotal: 1.83s\tremaining: 1.15s\n",
      "615:\tlearn: 0.0951662\ttotal: 1.84s\tremaining: 1.15s\n",
      "616:\tlearn: 0.0949390\ttotal: 1.84s\tremaining: 1.14s\n",
      "617:\tlearn: 0.0948887\ttotal: 1.84s\tremaining: 1.14s\n",
      "618:\tlearn: 0.0946568\ttotal: 1.84s\tremaining: 1.14s\n",
      "619:\tlearn: 0.0944810\ttotal: 1.85s\tremaining: 1.13s\n",
      "620:\tlearn: 0.0943492\ttotal: 1.85s\tremaining: 1.13s\n",
      "621:\tlearn: 0.0943016\ttotal: 1.85s\tremaining: 1.13s\n",
      "622:\tlearn: 0.0941093\ttotal: 1.85s\tremaining: 1.12s\n",
      "623:\tlearn: 0.0938453\ttotal: 1.86s\tremaining: 1.12s\n",
      "624:\tlearn: 0.0937444\ttotal: 1.86s\tremaining: 1.11s\n",
      "625:\tlearn: 0.0935333\ttotal: 1.86s\tremaining: 1.11s\n",
      "626:\tlearn: 0.0933545\ttotal: 1.86s\tremaining: 1.11s\n",
      "627:\tlearn: 0.0931134\ttotal: 1.87s\tremaining: 1.1s\n",
      "628:\tlearn: 0.0930240\ttotal: 1.87s\tremaining: 1.1s\n",
      "629:\tlearn: 0.0928775\ttotal: 1.87s\tremaining: 1.1s\n",
      "630:\tlearn: 0.0926996\ttotal: 1.87s\tremaining: 1.09s\n"
     ]
    },
    {
     "name": "stdout",
     "output_type": "stream",
     "text": [
      "631:\tlearn: 0.0926583\ttotal: 1.88s\tremaining: 1.09s\n",
      "632:\tlearn: 0.0924426\ttotal: 1.88s\tremaining: 1.09s\n",
      "633:\tlearn: 0.0920835\ttotal: 1.88s\tremaining: 1.08s\n",
      "634:\tlearn: 0.0919600\ttotal: 1.88s\tremaining: 1.08s\n",
      "635:\tlearn: 0.0917245\ttotal: 1.89s\tremaining: 1.08s\n",
      "636:\tlearn: 0.0914007\ttotal: 1.89s\tremaining: 1.07s\n",
      "637:\tlearn: 0.0912510\ttotal: 1.89s\tremaining: 1.07s\n",
      "638:\tlearn: 0.0910698\ttotal: 1.89s\tremaining: 1.07s\n",
      "639:\tlearn: 0.0909137\ttotal: 1.89s\tremaining: 1.06s\n",
      "640:\tlearn: 0.0907744\ttotal: 1.9s\tremaining: 1.06s\n",
      "641:\tlearn: 0.0905824\ttotal: 1.9s\tremaining: 1.06s\n",
      "642:\tlearn: 0.0903803\ttotal: 1.9s\tremaining: 1.05s\n",
      "643:\tlearn: 0.0901702\ttotal: 1.9s\tremaining: 1.05s\n",
      "644:\tlearn: 0.0900606\ttotal: 1.91s\tremaining: 1.05s\n",
      "645:\tlearn: 0.0898888\ttotal: 1.91s\tremaining: 1.05s\n",
      "646:\tlearn: 0.0898394\ttotal: 1.91s\tremaining: 1.04s\n",
      "647:\tlearn: 0.0897609\ttotal: 1.91s\tremaining: 1.04s\n",
      "648:\tlearn: 0.0895486\ttotal: 1.92s\tremaining: 1.04s\n",
      "649:\tlearn: 0.0894333\ttotal: 1.92s\tremaining: 1.03s\n",
      "650:\tlearn: 0.0892941\ttotal: 1.92s\tremaining: 1.03s\n",
      "651:\tlearn: 0.0891043\ttotal: 1.92s\tremaining: 1.03s\n",
      "652:\tlearn: 0.0889330\ttotal: 1.93s\tremaining: 1.02s\n",
      "653:\tlearn: 0.0887088\ttotal: 1.93s\tremaining: 1.02s\n",
      "654:\tlearn: 0.0885101\ttotal: 1.93s\tremaining: 1.02s\n",
      "655:\tlearn: 0.0883587\ttotal: 1.93s\tremaining: 1.01s\n",
      "656:\tlearn: 0.0882254\ttotal: 1.94s\tremaining: 1.01s\n",
      "657:\tlearn: 0.0880612\ttotal: 1.94s\tremaining: 1.01s\n",
      "658:\tlearn: 0.0879321\ttotal: 1.94s\tremaining: 1.01s\n",
      "659:\tlearn: 0.0878048\ttotal: 1.95s\tremaining: 1s\n",
      "660:\tlearn: 0.0876510\ttotal: 1.98s\tremaining: 1.01s\n",
      "661:\tlearn: 0.0876046\ttotal: 1.98s\tremaining: 1.01s\n",
      "662:\tlearn: 0.0874581\ttotal: 1.98s\tremaining: 1.01s\n",
      "663:\tlearn: 0.0873390\ttotal: 1.98s\tremaining: 1s\n",
      "664:\tlearn: 0.0871258\ttotal: 1.99s\tremaining: 1s\n"
     ]
    },
    {
     "name": "stdout",
     "output_type": "stream",
     "text": [
      "665:\tlearn: 0.0869091\ttotal: 1.99s\tremaining: 998ms\n",
      "666:\tlearn: 0.0866961\ttotal: 1.99s\tremaining: 995ms\n",
      "667:\tlearn: 0.0865834\ttotal: 1.99s\tremaining: 991ms\n",
      "668:\tlearn: 0.0864569\ttotal: 2s\tremaining: 988ms\n",
      "669:\tlearn: 0.0862483\ttotal: 2s\tremaining: 985ms\n",
      "670:\tlearn: 0.0861640\ttotal: 2s\tremaining: 982ms\n",
      "671:\tlearn: 0.0861062\ttotal: 2s\tremaining: 978ms\n",
      "672:\tlearn: 0.0858991\ttotal: 2.01s\tremaining: 975ms\n",
      "673:\tlearn: 0.0856950\ttotal: 2.01s\tremaining: 972ms\n",
      "674:\tlearn: 0.0855745\ttotal: 2.01s\tremaining: 969ms\n",
      "675:\tlearn: 0.0854296\ttotal: 2.01s\tremaining: 965ms\n",
      "676:\tlearn: 0.0854012\ttotal: 2.02s\tremaining: 962ms\n",
      "677:\tlearn: 0.0852985\ttotal: 2.02s\tremaining: 959ms\n",
      "678:\tlearn: 0.0850887\ttotal: 2.02s\tremaining: 956ms\n",
      "679:\tlearn: 0.0848976\ttotal: 2.02s\tremaining: 953ms\n",
      "680:\tlearn: 0.0847497\ttotal: 2.03s\tremaining: 949ms\n",
      "681:\tlearn: 0.0845616\ttotal: 2.03s\tremaining: 946ms\n",
      "682:\tlearn: 0.0845340\ttotal: 2.03s\tremaining: 943ms\n",
      "683:\tlearn: 0.0844412\ttotal: 2.03s\tremaining: 940ms\n",
      "684:\tlearn: 0.0842435\ttotal: 2.04s\tremaining: 936ms\n",
      "685:\tlearn: 0.0841029\ttotal: 2.04s\tremaining: 933ms\n",
      "686:\tlearn: 0.0839468\ttotal: 2.04s\tremaining: 930ms\n",
      "687:\tlearn: 0.0838403\ttotal: 2.04s\tremaining: 927ms\n",
      "688:\tlearn: 0.0837957\ttotal: 2.04s\tremaining: 923ms\n",
      "689:\tlearn: 0.0836776\ttotal: 2.05s\tremaining: 920ms\n"
     ]
    },
    {
     "name": "stdout",
     "output_type": "stream",
     "text": [
      "690:\tlearn: 0.0834994\ttotal: 2.05s\tremaining: 917ms\n",
      "691:\tlearn: 0.0833584\ttotal: 2.05s\tremaining: 914ms\n",
      "692:\tlearn: 0.0831967\ttotal: 2.06s\tremaining: 911ms\n",
      "693:\tlearn: 0.0829680\ttotal: 2.06s\tremaining: 907ms\n",
      "694:\tlearn: 0.0827578\ttotal: 2.06s\tremaining: 904ms\n",
      "695:\tlearn: 0.0825450\ttotal: 2.06s\tremaining: 901ms\n",
      "696:\tlearn: 0.0824113\ttotal: 2.06s\tremaining: 898ms\n",
      "697:\tlearn: 0.0823299\ttotal: 2.07s\tremaining: 895ms\n",
      "698:\tlearn: 0.0821294\ttotal: 2.07s\tremaining: 891ms\n",
      "699:\tlearn: 0.0820898\ttotal: 2.07s\tremaining: 888ms\n",
      "700:\tlearn: 0.0819488\ttotal: 2.07s\tremaining: 885ms\n",
      "701:\tlearn: 0.0818650\ttotal: 2.08s\tremaining: 882ms\n",
      "702:\tlearn: 0.0816780\ttotal: 2.08s\tremaining: 879ms\n",
      "703:\tlearn: 0.0815140\ttotal: 2.08s\tremaining: 875ms\n",
      "704:\tlearn: 0.0813058\ttotal: 2.08s\tremaining: 872ms\n",
      "705:\tlearn: 0.0811729\ttotal: 2.09s\tremaining: 869ms\n",
      "706:\tlearn: 0.0809445\ttotal: 2.09s\tremaining: 866ms\n",
      "707:\tlearn: 0.0809135\ttotal: 2.09s\tremaining: 862ms\n",
      "708:\tlearn: 0.0807936\ttotal: 2.09s\tremaining: 859ms\n",
      "709:\tlearn: 0.0805609\ttotal: 2.1s\tremaining: 856ms\n",
      "710:\tlearn: 0.0803997\ttotal: 2.1s\tremaining: 853ms\n",
      "711:\tlearn: 0.0802323\ttotal: 2.1s\tremaining: 850ms\n",
      "712:\tlearn: 0.0800710\ttotal: 2.1s\tremaining: 847ms\n",
      "713:\tlearn: 0.0800285\ttotal: 2.1s\tremaining: 843ms\n",
      "714:\tlearn: 0.0798549\ttotal: 2.11s\tremaining: 840ms\n",
      "715:\tlearn: 0.0797296\ttotal: 2.11s\tremaining: 837ms\n",
      "716:\tlearn: 0.0795299\ttotal: 2.11s\tremaining: 834ms\n",
      "717:\tlearn: 0.0793537\ttotal: 2.12s\tremaining: 831ms\n",
      "718:\tlearn: 0.0792671\ttotal: 2.12s\tremaining: 828ms\n",
      "719:\tlearn: 0.0791844\ttotal: 2.12s\tremaining: 825ms\n",
      "720:\tlearn: 0.0790267\ttotal: 2.12s\tremaining: 822ms\n",
      "721:\tlearn: 0.0788848\ttotal: 2.13s\tremaining: 818ms\n",
      "722:\tlearn: 0.0786959\ttotal: 2.13s\tremaining: 815ms\n",
      "723:\tlearn: 0.0785982\ttotal: 2.13s\tremaining: 812ms\n",
      "724:\tlearn: 0.0783716\ttotal: 2.13s\tremaining: 809ms\n",
      "725:\tlearn: 0.0782274\ttotal: 2.13s\tremaining: 806ms\n",
      "726:\tlearn: 0.0780815\ttotal: 2.14s\tremaining: 803ms\n",
      "727:\tlearn: 0.0779768\ttotal: 2.14s\tremaining: 800ms\n",
      "728:\tlearn: 0.0778967\ttotal: 2.14s\tremaining: 797ms\n",
      "729:\tlearn: 0.0777160\ttotal: 2.15s\tremaining: 793ms\n",
      "730:\tlearn: 0.0775347\ttotal: 2.15s\tremaining: 790ms\n",
      "731:\tlearn: 0.0774451\ttotal: 2.15s\tremaining: 787ms\n",
      "732:\tlearn: 0.0772668\ttotal: 2.15s\tremaining: 784ms\n",
      "733:\tlearn: 0.0771265\ttotal: 2.15s\tremaining: 781ms\n",
      "734:\tlearn: 0.0768777\ttotal: 2.16s\tremaining: 778ms\n",
      "735:\tlearn: 0.0767502\ttotal: 2.16s\tremaining: 775ms\n",
      "736:\tlearn: 0.0765168\ttotal: 2.16s\tremaining: 772ms\n"
     ]
    },
    {
     "name": "stdout",
     "output_type": "stream",
     "text": [
      "737:\tlearn: 0.0763532\ttotal: 2.17s\tremaining: 769ms\n",
      "738:\tlearn: 0.0761990\ttotal: 2.17s\tremaining: 766ms\n",
      "739:\tlearn: 0.0760106\ttotal: 2.17s\tremaining: 763ms\n",
      "740:\tlearn: 0.0758738\ttotal: 2.17s\tremaining: 760ms\n",
      "741:\tlearn: 0.0756750\ttotal: 2.17s\tremaining: 757ms\n",
      "742:\tlearn: 0.0756082\ttotal: 2.18s\tremaining: 753ms\n",
      "743:\tlearn: 0.0754363\ttotal: 2.18s\tremaining: 750ms\n",
      "744:\tlearn: 0.0753628\ttotal: 2.18s\tremaining: 747ms\n",
      "745:\tlearn: 0.0751986\ttotal: 2.19s\tremaining: 744ms\n",
      "746:\tlearn: 0.0751287\ttotal: 2.19s\tremaining: 741ms\n",
      "747:\tlearn: 0.0749993\ttotal: 2.19s\tremaining: 738ms\n",
      "748:\tlearn: 0.0749073\ttotal: 2.19s\tremaining: 735ms\n",
      "749:\tlearn: 0.0747666\ttotal: 2.19s\tremaining: 732ms\n",
      "750:\tlearn: 0.0746632\ttotal: 2.2s\tremaining: 729ms\n",
      "751:\tlearn: 0.0744935\ttotal: 2.2s\tremaining: 726ms\n",
      "752:\tlearn: 0.0743935\ttotal: 2.2s\tremaining: 723ms\n",
      "753:\tlearn: 0.0742401\ttotal: 2.21s\tremaining: 720ms\n",
      "754:\tlearn: 0.0740414\ttotal: 2.21s\tremaining: 717ms\n",
      "755:\tlearn: 0.0739328\ttotal: 2.21s\tremaining: 714ms\n",
      "756:\tlearn: 0.0737746\ttotal: 2.21s\tremaining: 711ms\n",
      "757:\tlearn: 0.0736616\ttotal: 2.22s\tremaining: 708ms\n",
      "758:\tlearn: 0.0735646\ttotal: 2.22s\tremaining: 705ms\n",
      "759:\tlearn: 0.0734442\ttotal: 2.22s\tremaining: 701ms\n",
      "760:\tlearn: 0.0733530\ttotal: 2.22s\tremaining: 698ms\n"
     ]
    },
    {
     "name": "stdout",
     "output_type": "stream",
     "text": [
      "761:\tlearn: 0.0732850\ttotal: 2.23s\tremaining: 695ms\n",
      "762:\tlearn: 0.0731584\ttotal: 2.23s\tremaining: 692ms\n",
      "763:\tlearn: 0.0730319\ttotal: 2.23s\tremaining: 689ms\n",
      "764:\tlearn: 0.0729471\ttotal: 2.23s\tremaining: 686ms\n",
      "765:\tlearn: 0.0727614\ttotal: 2.23s\tremaining: 683ms\n",
      "766:\tlearn: 0.0726353\ttotal: 2.24s\tremaining: 680ms\n",
      "767:\tlearn: 0.0725786\ttotal: 2.24s\tremaining: 677ms\n",
      "768:\tlearn: 0.0724753\ttotal: 2.24s\tremaining: 674ms\n",
      "769:\tlearn: 0.0723336\ttotal: 2.25s\tremaining: 671ms\n",
      "770:\tlearn: 0.0721967\ttotal: 2.25s\tremaining: 668ms\n",
      "771:\tlearn: 0.0720460\ttotal: 2.25s\tremaining: 665ms\n",
      "772:\tlearn: 0.0719136\ttotal: 2.25s\tremaining: 662ms\n",
      "773:\tlearn: 0.0717655\ttotal: 2.26s\tremaining: 659ms\n",
      "774:\tlearn: 0.0716496\ttotal: 2.26s\tremaining: 656ms\n",
      "775:\tlearn: 0.0714736\ttotal: 2.26s\tremaining: 653ms\n",
      "776:\tlearn: 0.0713206\ttotal: 2.26s\tremaining: 650ms\n",
      "777:\tlearn: 0.0712472\ttotal: 2.27s\tremaining: 646ms\n",
      "778:\tlearn: 0.0711977\ttotal: 2.27s\tremaining: 643ms\n",
      "779:\tlearn: 0.0710209\ttotal: 2.27s\tremaining: 640ms\n",
      "780:\tlearn: 0.0708928\ttotal: 2.27s\tremaining: 637ms\n",
      "781:\tlearn: 0.0707355\ttotal: 2.27s\tremaining: 634ms\n",
      "782:\tlearn: 0.0705769\ttotal: 2.28s\tremaining: 631ms\n",
      "783:\tlearn: 0.0705022\ttotal: 2.28s\tremaining: 628ms\n",
      "784:\tlearn: 0.0703043\ttotal: 2.28s\tremaining: 625ms\n",
      "785:\tlearn: 0.0701502\ttotal: 2.29s\tremaining: 622ms\n",
      "786:\tlearn: 0.0700127\ttotal: 2.29s\tremaining: 621ms\n",
      "787:\tlearn: 0.0698442\ttotal: 2.3s\tremaining: 618ms\n",
      "788:\tlearn: 0.0697897\ttotal: 2.3s\tremaining: 615ms\n",
      "789:\tlearn: 0.0696521\ttotal: 2.3s\tremaining: 612ms\n",
      "790:\tlearn: 0.0695044\ttotal: 2.3s\tremaining: 609ms\n",
      "791:\tlearn: 0.0693761\ttotal: 2.31s\tremaining: 606ms\n",
      "792:\tlearn: 0.0692755\ttotal: 2.31s\tremaining: 603ms\n",
      "793:\tlearn: 0.0691984\ttotal: 2.31s\tremaining: 600ms\n",
      "794:\tlearn: 0.0691797\ttotal: 2.31s\tremaining: 597ms\n",
      "795:\tlearn: 0.0689883\ttotal: 2.32s\tremaining: 594ms\n",
      "796:\tlearn: 0.0689187\ttotal: 2.32s\tremaining: 591ms\n",
      "797:\tlearn: 0.0688281\ttotal: 2.32s\tremaining: 588ms\n",
      "798:\tlearn: 0.0687006\ttotal: 2.32s\tremaining: 585ms\n",
      "799:\tlearn: 0.0686395\ttotal: 2.33s\tremaining: 582ms\n",
      "800:\tlearn: 0.0685017\ttotal: 2.33s\tremaining: 579ms\n",
      "801:\tlearn: 0.0683490\ttotal: 2.33s\tremaining: 576ms\n",
      "802:\tlearn: 0.0682487\ttotal: 2.33s\tremaining: 573ms\n",
      "803:\tlearn: 0.0680473\ttotal: 2.34s\tremaining: 570ms\n",
      "804:\tlearn: 0.0679344\ttotal: 2.34s\tremaining: 567ms\n"
     ]
    },
    {
     "name": "stdout",
     "output_type": "stream",
     "text": [
      "805:\tlearn: 0.0679229\ttotal: 2.34s\tremaining: 564ms\n",
      "806:\tlearn: 0.0678926\ttotal: 2.34s\tremaining: 561ms\n",
      "807:\tlearn: 0.0677233\ttotal: 2.35s\tremaining: 558ms\n",
      "808:\tlearn: 0.0676335\ttotal: 2.35s\tremaining: 555ms\n",
      "809:\tlearn: 0.0675621\ttotal: 2.35s\tremaining: 552ms\n",
      "810:\tlearn: 0.0675044\ttotal: 2.35s\tremaining: 549ms\n",
      "811:\tlearn: 0.0673818\ttotal: 2.36s\tremaining: 545ms\n",
      "812:\tlearn: 0.0673281\ttotal: 2.36s\tremaining: 542ms\n",
      "813:\tlearn: 0.0672294\ttotal: 2.36s\tremaining: 539ms\n",
      "814:\tlearn: 0.0670872\ttotal: 2.36s\tremaining: 536ms\n",
      "815:\tlearn: 0.0669929\ttotal: 2.37s\tremaining: 533ms\n",
      "816:\tlearn: 0.0669273\ttotal: 2.37s\tremaining: 530ms\n",
      "817:\tlearn: 0.0668514\ttotal: 2.37s\tremaining: 527ms\n",
      "818:\tlearn: 0.0666982\ttotal: 2.37s\tremaining: 524ms\n",
      "819:\tlearn: 0.0666570\ttotal: 2.38s\tremaining: 521ms\n",
      "820:\tlearn: 0.0665827\ttotal: 2.38s\tremaining: 519ms\n",
      "821:\tlearn: 0.0664184\ttotal: 2.38s\tremaining: 515ms\n",
      "822:\tlearn: 0.0663640\ttotal: 2.38s\tremaining: 513ms\n",
      "823:\tlearn: 0.0663092\ttotal: 2.39s\tremaining: 510ms\n",
      "824:\tlearn: 0.0662348\ttotal: 2.39s\tremaining: 507ms\n"
     ]
    },
    {
     "name": "stdout",
     "output_type": "stream",
     "text": [
      "825:\tlearn: 0.0661441\ttotal: 2.41s\tremaining: 507ms\n",
      "826:\tlearn: 0.0660467\ttotal: 2.41s\tremaining: 504ms\n",
      "827:\tlearn: 0.0659024\ttotal: 2.41s\tremaining: 501ms\n",
      "828:\tlearn: 0.0657404\ttotal: 2.42s\tremaining: 498ms\n",
      "829:\tlearn: 0.0656978\ttotal: 2.42s\tremaining: 496ms\n",
      "830:\tlearn: 0.0655460\ttotal: 2.42s\tremaining: 492ms\n",
      "831:\tlearn: 0.0654583\ttotal: 2.42s\tremaining: 489ms\n",
      "832:\tlearn: 0.0653945\ttotal: 2.42s\tremaining: 486ms\n",
      "833:\tlearn: 0.0653585\ttotal: 2.43s\tremaining: 483ms\n",
      "834:\tlearn: 0.0652756\ttotal: 2.43s\tremaining: 480ms\n",
      "835:\tlearn: 0.0652543\ttotal: 2.43s\tremaining: 477ms\n",
      "836:\tlearn: 0.0651314\ttotal: 2.44s\tremaining: 474ms\n",
      "837:\tlearn: 0.0650219\ttotal: 2.44s\tremaining: 471ms\n",
      "838:\tlearn: 0.0649096\ttotal: 2.44s\tremaining: 468ms\n",
      "839:\tlearn: 0.0648786\ttotal: 2.44s\tremaining: 466ms\n",
      "840:\tlearn: 0.0648020\ttotal: 2.45s\tremaining: 463ms\n",
      "841:\tlearn: 0.0646959\ttotal: 2.45s\tremaining: 460ms\n",
      "842:\tlearn: 0.0645500\ttotal: 2.45s\tremaining: 457ms\n",
      "843:\tlearn: 0.0644873\ttotal: 2.46s\tremaining: 454ms\n",
      "844:\tlearn: 0.0643561\ttotal: 2.46s\tremaining: 451ms\n",
      "845:\tlearn: 0.0642459\ttotal: 2.46s\tremaining: 448ms\n",
      "846:\tlearn: 0.0641898\ttotal: 2.46s\tremaining: 445ms\n",
      "847:\tlearn: 0.0640624\ttotal: 2.47s\tremaining: 442ms\n",
      "848:\tlearn: 0.0639457\ttotal: 2.47s\tremaining: 439ms\n",
      "849:\tlearn: 0.0638812\ttotal: 2.47s\tremaining: 436ms\n",
      "850:\tlearn: 0.0637969\ttotal: 2.47s\tremaining: 433ms\n",
      "851:\tlearn: 0.0637486\ttotal: 2.48s\tremaining: 430ms\n",
      "852:\tlearn: 0.0636483\ttotal: 2.48s\tremaining: 427ms\n",
      "853:\tlearn: 0.0635816\ttotal: 2.48s\tremaining: 424ms\n",
      "854:\tlearn: 0.0634702\ttotal: 2.48s\tremaining: 421ms\n",
      "855:\tlearn: 0.0633561\ttotal: 2.49s\tremaining: 418ms\n",
      "856:\tlearn: 0.0632769\ttotal: 2.49s\tremaining: 416ms\n",
      "857:\tlearn: 0.0632132\ttotal: 2.5s\tremaining: 413ms\n",
      "858:\tlearn: 0.0630510\ttotal: 2.5s\tremaining: 410ms\n",
      "859:\tlearn: 0.0629077\ttotal: 2.5s\tremaining: 408ms\n",
      "860:\tlearn: 0.0628157\ttotal: 2.51s\tremaining: 405ms\n"
     ]
    },
    {
     "name": "stdout",
     "output_type": "stream",
     "text": [
      "861:\tlearn: 0.0627658\ttotal: 2.51s\tremaining: 402ms\n",
      "862:\tlearn: 0.0626834\ttotal: 2.51s\tremaining: 399ms\n",
      "863:\tlearn: 0.0625030\ttotal: 2.51s\tremaining: 396ms\n",
      "864:\tlearn: 0.0623803\ttotal: 2.52s\tremaining: 393ms\n",
      "865:\tlearn: 0.0623453\ttotal: 2.52s\tremaining: 390ms\n",
      "866:\tlearn: 0.0621924\ttotal: 2.52s\tremaining: 387ms\n",
      "867:\tlearn: 0.0621210\ttotal: 2.52s\tremaining: 384ms\n",
      "868:\tlearn: 0.0619849\ttotal: 2.53s\tremaining: 381ms\n",
      "869:\tlearn: 0.0619730\ttotal: 2.53s\tremaining: 378ms\n",
      "870:\tlearn: 0.0618464\ttotal: 2.54s\tremaining: 376ms\n",
      "871:\tlearn: 0.0617667\ttotal: 2.54s\tremaining: 373ms\n",
      "872:\tlearn: 0.0616705\ttotal: 2.54s\tremaining: 370ms\n",
      "873:\tlearn: 0.0615368\ttotal: 2.55s\tremaining: 367ms\n",
      "874:\tlearn: 0.0614579\ttotal: 2.55s\tremaining: 364ms\n",
      "875:\tlearn: 0.0613523\ttotal: 2.55s\tremaining: 361ms\n",
      "876:\tlearn: 0.0612388\ttotal: 2.55s\tremaining: 358ms\n",
      "877:\tlearn: 0.0611171\ttotal: 2.56s\tremaining: 355ms\n",
      "878:\tlearn: 0.0610137\ttotal: 2.56s\tremaining: 352ms\n",
      "879:\tlearn: 0.0609277\ttotal: 2.56s\tremaining: 349ms\n",
      "880:\tlearn: 0.0608672\ttotal: 2.57s\tremaining: 347ms\n"
     ]
    },
    {
     "name": "stdout",
     "output_type": "stream",
     "text": [
      "881:\tlearn: 0.0606653\ttotal: 2.58s\tremaining: 345ms\n",
      "882:\tlearn: 0.0606263\ttotal: 2.59s\tremaining: 343ms\n",
      "883:\tlearn: 0.0604943\ttotal: 2.59s\tremaining: 340ms\n",
      "884:\tlearn: 0.0604503\ttotal: 2.59s\tremaining: 337ms\n",
      "885:\tlearn: 0.0603461\ttotal: 2.59s\tremaining: 334ms\n",
      "886:\tlearn: 0.0602314\ttotal: 2.6s\tremaining: 331ms\n",
      "887:\tlearn: 0.0601051\ttotal: 2.6s\tremaining: 328ms\n",
      "888:\tlearn: 0.0600375\ttotal: 2.6s\tremaining: 325ms\n",
      "889:\tlearn: 0.0599696\ttotal: 2.6s\tremaining: 322ms\n",
      "890:\tlearn: 0.0599086\ttotal: 2.61s\tremaining: 319ms\n",
      "891:\tlearn: 0.0599029\ttotal: 2.61s\tremaining: 316ms\n",
      "892:\tlearn: 0.0597906\ttotal: 2.61s\tremaining: 313ms\n",
      "893:\tlearn: 0.0597156\ttotal: 2.62s\tremaining: 310ms\n",
      "894:\tlearn: 0.0596072\ttotal: 2.62s\tremaining: 307ms\n",
      "895:\tlearn: 0.0594912\ttotal: 2.62s\tremaining: 304ms\n",
      "896:\tlearn: 0.0593483\ttotal: 2.63s\tremaining: 302ms\n",
      "897:\tlearn: 0.0591727\ttotal: 2.63s\tremaining: 299ms\n",
      "898:\tlearn: 0.0590925\ttotal: 2.63s\tremaining: 296ms\n",
      "899:\tlearn: 0.0589357\ttotal: 2.63s\tremaining: 293ms\n",
      "900:\tlearn: 0.0588141\ttotal: 2.64s\tremaining: 290ms\n",
      "901:\tlearn: 0.0588029\ttotal: 2.64s\tremaining: 287ms\n",
      "902:\tlearn: 0.0587438\ttotal: 2.64s\tremaining: 284ms\n",
      "903:\tlearn: 0.0586900\ttotal: 2.64s\tremaining: 281ms\n",
      "904:\tlearn: 0.0586266\ttotal: 2.65s\tremaining: 278ms\n",
      "905:\tlearn: 0.0585069\ttotal: 2.65s\tremaining: 275ms\n",
      "906:\tlearn: 0.0583385\ttotal: 2.65s\tremaining: 272ms\n",
      "907:\tlearn: 0.0582114\ttotal: 2.65s\tremaining: 269ms\n",
      "908:\tlearn: 0.0581536\ttotal: 2.66s\tremaining: 266ms\n",
      "909:\tlearn: 0.0580567\ttotal: 2.66s\tremaining: 263ms\n",
      "910:\tlearn: 0.0579555\ttotal: 2.66s\tremaining: 260ms\n",
      "911:\tlearn: 0.0578432\ttotal: 2.67s\tremaining: 257ms\n",
      "912:\tlearn: 0.0577318\ttotal: 2.67s\tremaining: 254ms\n",
      "913:\tlearn: 0.0577253\ttotal: 2.67s\tremaining: 251ms\n",
      "914:\tlearn: 0.0577129\ttotal: 2.67s\tremaining: 248ms\n",
      "915:\tlearn: 0.0576295\ttotal: 2.67s\tremaining: 245ms\n",
      "916:\tlearn: 0.0575153\ttotal: 2.68s\tremaining: 242ms\n",
      "917:\tlearn: 0.0574490\ttotal: 2.68s\tremaining: 239ms\n",
      "918:\tlearn: 0.0573372\ttotal: 2.68s\tremaining: 236ms\n",
      "919:\tlearn: 0.0572799\ttotal: 2.68s\tremaining: 233ms\n"
     ]
    },
    {
     "name": "stdout",
     "output_type": "stream",
     "text": [
      "920:\tlearn: 0.0571939\ttotal: 2.69s\tremaining: 231ms\n",
      "921:\tlearn: 0.0570507\ttotal: 2.69s\tremaining: 228ms\n",
      "922:\tlearn: 0.0569239\ttotal: 2.69s\tremaining: 225ms\n",
      "923:\tlearn: 0.0568950\ttotal: 2.69s\tremaining: 222ms\n",
      "924:\tlearn: 0.0568070\ttotal: 2.7s\tremaining: 219ms\n",
      "925:\tlearn: 0.0567182\ttotal: 2.7s\tremaining: 216ms\n",
      "926:\tlearn: 0.0566269\ttotal: 2.7s\tremaining: 213ms\n",
      "927:\tlearn: 0.0565527\ttotal: 2.71s\tremaining: 210ms\n",
      "928:\tlearn: 0.0564645\ttotal: 2.71s\tremaining: 207ms\n",
      "929:\tlearn: 0.0563592\ttotal: 2.71s\tremaining: 204ms\n",
      "930:\tlearn: 0.0562844\ttotal: 2.71s\tremaining: 201ms\n",
      "931:\tlearn: 0.0562305\ttotal: 2.71s\tremaining: 198ms\n",
      "932:\tlearn: 0.0561487\ttotal: 2.72s\tremaining: 195ms\n",
      "933:\tlearn: 0.0560757\ttotal: 2.72s\tremaining: 192ms\n",
      "934:\tlearn: 0.0559359\ttotal: 2.72s\tremaining: 189ms\n",
      "935:\tlearn: 0.0558527\ttotal: 2.73s\tremaining: 186ms\n",
      "936:\tlearn: 0.0557680\ttotal: 2.73s\tremaining: 183ms\n",
      "937:\tlearn: 0.0556931\ttotal: 2.73s\tremaining: 180ms\n",
      "938:\tlearn: 0.0556158\ttotal: 2.73s\tremaining: 178ms\n",
      "939:\tlearn: 0.0555724\ttotal: 2.73s\tremaining: 175ms\n",
      "940:\tlearn: 0.0555657\ttotal: 2.74s\tremaining: 172ms\n",
      "941:\tlearn: 0.0554433\ttotal: 2.74s\tremaining: 169ms\n",
      "942:\tlearn: 0.0553105\ttotal: 2.74s\tremaining: 166ms\n",
      "943:\tlearn: 0.0551973\ttotal: 2.74s\tremaining: 163ms\n",
      "944:\tlearn: 0.0551316\ttotal: 2.75s\tremaining: 160ms\n",
      "945:\tlearn: 0.0550503\ttotal: 2.75s\tremaining: 157ms\n",
      "946:\tlearn: 0.0548967\ttotal: 2.75s\tremaining: 154ms\n",
      "947:\tlearn: 0.0548852\ttotal: 2.75s\tremaining: 151ms\n",
      "948:\tlearn: 0.0547591\ttotal: 2.75s\tremaining: 148ms\n",
      "949:\tlearn: 0.0546620\ttotal: 2.76s\tremaining: 145ms\n",
      "950:\tlearn: 0.0545627\ttotal: 2.76s\tremaining: 142ms\n"
     ]
    },
    {
     "name": "stdout",
     "output_type": "stream",
     "text": [
      "951:\tlearn: 0.0544878\ttotal: 2.76s\tremaining: 139ms\n",
      "952:\tlearn: 0.0544075\ttotal: 2.77s\tremaining: 136ms\n",
      "953:\tlearn: 0.0543643\ttotal: 2.77s\tremaining: 134ms\n",
      "954:\tlearn: 0.0543366\ttotal: 2.77s\tremaining: 131ms\n",
      "955:\tlearn: 0.0542906\ttotal: 2.77s\tremaining: 128ms\n",
      "956:\tlearn: 0.0542175\ttotal: 2.78s\tremaining: 125ms\n",
      "957:\tlearn: 0.0541520\ttotal: 2.78s\tremaining: 122ms\n",
      "958:\tlearn: 0.0540552\ttotal: 2.78s\tremaining: 119ms\n",
      "959:\tlearn: 0.0539795\ttotal: 2.78s\tremaining: 116ms\n",
      "960:\tlearn: 0.0539676\ttotal: 2.79s\tremaining: 113ms\n",
      "961:\tlearn: 0.0538878\ttotal: 2.79s\tremaining: 110ms\n",
      "962:\tlearn: 0.0538076\ttotal: 2.79s\tremaining: 107ms\n",
      "963:\tlearn: 0.0536849\ttotal: 2.79s\tremaining: 104ms\n",
      "964:\tlearn: 0.0536026\ttotal: 2.8s\tremaining: 101ms\n",
      "965:\tlearn: 0.0535012\ttotal: 2.8s\tremaining: 98.5ms\n",
      "966:\tlearn: 0.0534455\ttotal: 2.8s\tremaining: 95.6ms\n",
      "967:\tlearn: 0.0533653\ttotal: 2.8s\tremaining: 92.7ms\n",
      "968:\tlearn: 0.0532545\ttotal: 2.8s\tremaining: 89.7ms\n",
      "969:\tlearn: 0.0532170\ttotal: 2.81s\tremaining: 86.8ms\n",
      "970:\tlearn: 0.0531622\ttotal: 2.83s\tremaining: 84.4ms\n",
      "971:\tlearn: 0.0530934\ttotal: 2.83s\tremaining: 81.5ms\n",
      "972:\tlearn: 0.0530123\ttotal: 2.83s\tremaining: 78.6ms\n",
      "973:\tlearn: 0.0529552\ttotal: 2.83s\tremaining: 75.6ms\n",
      "974:\tlearn: 0.0528256\ttotal: 2.83s\tremaining: 72.7ms\n",
      "975:\tlearn: 0.0527360\ttotal: 2.84s\tremaining: 69.8ms\n",
      "976:\tlearn: 0.0526720\ttotal: 2.84s\tremaining: 66.9ms\n",
      "977:\tlearn: 0.0525790\ttotal: 2.84s\tremaining: 63.9ms\n",
      "978:\tlearn: 0.0525522\ttotal: 2.85s\tremaining: 61.1ms\n",
      "979:\tlearn: 0.0524387\ttotal: 2.85s\tremaining: 58.2ms\n",
      "980:\tlearn: 0.0523976\ttotal: 2.85s\tremaining: 55.3ms\n",
      "981:\tlearn: 0.0523912\ttotal: 2.86s\tremaining: 52.4ms\n",
      "982:\tlearn: 0.0523141\ttotal: 2.86s\tremaining: 49.4ms\n",
      "983:\tlearn: 0.0521610\ttotal: 2.86s\tremaining: 46.5ms\n",
      "984:\tlearn: 0.0520222\ttotal: 2.86s\tremaining: 43.6ms\n",
      "985:\tlearn: 0.0519378\ttotal: 2.87s\tremaining: 40.7ms\n",
      "986:\tlearn: 0.0518729\ttotal: 2.87s\tremaining: 37.8ms\n",
      "987:\tlearn: 0.0517881\ttotal: 2.87s\tremaining: 34.9ms\n"
     ]
    },
    {
     "name": "stdout",
     "output_type": "stream",
     "text": [
      "988:\tlearn: 0.0516738\ttotal: 2.87s\tremaining: 32ms\n",
      "989:\tlearn: 0.0516075\ttotal: 2.88s\tremaining: 29ms\n",
      "990:\tlearn: 0.0515482\ttotal: 2.88s\tremaining: 26.1ms\n",
      "991:\tlearn: 0.0514095\ttotal: 2.88s\tremaining: 23.2ms\n",
      "992:\tlearn: 0.0513125\ttotal: 2.88s\tremaining: 20.3ms\n",
      "993:\tlearn: 0.0512871\ttotal: 2.88s\tremaining: 17.4ms\n",
      "994:\tlearn: 0.0512272\ttotal: 2.89s\tremaining: 14.5ms\n",
      "995:\tlearn: 0.0512083\ttotal: 2.89s\tremaining: 11.6ms\n",
      "996:\tlearn: 0.0510609\ttotal: 2.89s\tremaining: 8.7ms\n",
      "997:\tlearn: 0.0509636\ttotal: 2.89s\tremaining: 5.8ms\n",
      "998:\tlearn: 0.0508805\ttotal: 2.9s\tremaining: 2.9ms\n",
      "999:\tlearn: 0.0507621\ttotal: 2.9s\tremaining: 0us\n"
     ]
    },
    {
     "data": {
      "text/plain": [
       "<catboost.core.CatBoostRegressor at 0x7f9c8a829be0>"
      ]
     },
     "execution_count": 9,
     "metadata": {},
     "output_type": "execute_result"
    }
   ],
   "source": [
    "#Train the Model \n",
    "prior_model = ctb.CatBoostRegressor()\n",
    "prior_model.fit(X_train,Y_train)"
   ]
  },
  {
   "cell_type": "code",
   "execution_count": 10,
   "id": "af65dcda",
   "metadata": {
    "execution": {
     "iopub.execute_input": "2022-07-22T19:36:55.769559Z",
     "iopub.status.busy": "2022-07-22T19:36:55.764217Z",
     "iopub.status.idle": "2022-07-22T19:36:55.815953Z",
     "shell.execute_reply": "2022-07-22T19:36:55.813843Z"
    },
    "id": "af65dcda",
    "papermill": {
     "duration": 0.08291,
     "end_time": "2022-07-22T19:36:55.822933",
     "exception": false,
     "start_time": "2022-07-22T19:36:55.740023",
     "status": "completed"
    },
    "tags": []
   },
   "outputs": [
    {
     "data": {
      "application/scrapbook.scrap.json+json": {
       "data": 0.2020599156922499,
       "encoder": "json",
       "name": "Prior Model MSE",
       "version": 1
      }
     },
     "metadata": {
      "scrapbook": {
       "data": true,
       "display": false,
       "name": "Prior Model MSE"
      }
     },
     "output_type": "display_data"
    },
    {
     "data": {
      "application/scrapbook.scrap.json+json": {
       "data": 0.20517942948628493,
       "encoder": "json",
       "name": "ABC Pre-generator MSE",
       "version": 1
      }
     },
     "metadata": {
      "scrapbook": {
       "data": true,
       "display": false,
       "name": "ABC Pre-generator MSE"
      }
     },
     "output_type": "display_data"
    },
    {
     "data": {
      "application/scrapbook.scrap.json+json": {
       "data": 0.26834784824092395,
       "encoder": "json",
       "name": "Prior Model MAE",
       "version": 1
      }
     },
     "metadata": {
      "scrapbook": {
       "data": true,
       "display": false,
       "name": "Prior Model MAE"
      }
     },
     "output_type": "display_data"
    },
    {
     "name": "stdout",
     "output_type": "stream",
     "text": [
      "Prior Model MAE 0.26834784824092395\n",
      "ABC Pre-generator MAE 0.2748214472448525\n"
     ]
    }
   ],
   "source": [
    "y_pred = prior_model.predict(X_test)\n",
    "y_abc = y_pred + np.random.normal(0,variance, y_pred.shape) + bias \n",
    "mse = mean_squared_error(y_pred,Y_test)\n",
    "sb.glue(\"Prior Model MSE\",mse)\n",
    "mse = mean_squared_error(y_abc,Y_test)\n",
    "sb.glue(\"ABC Pre-generator MSE\",mse)\n",
    "mae = mean_absolute_error(y_pred,Y_test)\n",
    "sb.glue(\"Prior Model MAE\",mae)\n",
    "print(\"Prior Model MAE\",mae)\n",
    "mae = mean_absolute_error(y_abc,Y_test)\n",
    "print(\"ABC Pre-generator MAE\",mae)"
   ]
  },
  {
   "cell_type": "markdown",
   "id": "25609da2",
   "metadata": {
    "papermill": {
     "duration": 0.011621,
     "end_time": "2022-07-22T19:36:55.847027",
     "exception": false,
     "start_time": "2022-07-22T19:36:55.835406",
     "status": "completed"
    },
    "tags": []
   },
   "source": [
    "# mGAN Model"
   ]
  },
  {
   "cell_type": "code",
   "execution_count": 11,
   "id": "dfc3464d",
   "metadata": {
    "execution": {
     "iopub.execute_input": "2022-07-22T19:36:55.881298Z",
     "iopub.status.busy": "2022-07-22T19:36:55.880242Z",
     "iopub.status.idle": "2022-07-22T19:36:55.886780Z",
     "shell.execute_reply": "2022-07-22T19:36:55.885933Z"
    },
    "papermill": {
     "duration": 0.037221,
     "end_time": "2022-07-22T19:36:55.896797",
     "exception": false,
     "start_time": "2022-07-22T19:36:55.859576",
     "status": "completed"
    },
    "tags": []
   },
   "outputs": [],
   "source": [
    "# gen = network.Generator(n_features+1).to(device)\n",
    "# disc = network.Discriminator(n_features+1).to(device)\n",
    "\n",
    "# criterion = torch.nn.BCELoss()\n",
    "# gen_opt = torch.optim.Adam(gen.parameters(), lr=0.01, betas=(0.5, 0.999))\n",
    "# disc_opt = torch.optim.Adam(disc.parameters(), lr=0.01, betas=(0.5, 0.999))"
   ]
  },
  {
   "cell_type": "code",
   "execution_count": 12,
   "id": "b75fdd85",
   "metadata": {
    "execution": {
     "iopub.execute_input": "2022-07-22T19:36:55.923661Z",
     "iopub.status.busy": "2022-07-22T19:36:55.923325Z",
     "iopub.status.idle": "2022-07-22T19:36:55.928839Z",
     "shell.execute_reply": "2022-07-22T19:36:55.926970Z"
    },
    "papermill": {
     "duration": 0.02242,
     "end_time": "2022-07-22T19:36:55.932373",
     "exception": false,
     "start_time": "2022-07-22T19:36:55.909953",
     "status": "completed"
    },
    "tags": []
   },
   "outputs": [],
   "source": [
    "#Training the ABC_GAN \n",
    "# ABC_train_test2.training_GAN(disc,gen,disc_opt,gen_opt,train_data,batch_size,n_epochs,criterion,prior_model,variance,bias,device)"
   ]
  },
  {
   "cell_type": "code",
   "execution_count": 13,
   "id": "1fa7c368",
   "metadata": {
    "execution": {
     "iopub.execute_input": "2022-07-22T19:36:55.957830Z",
     "iopub.status.busy": "2022-07-22T19:36:55.957502Z",
     "iopub.status.idle": "2022-07-22T19:36:55.963432Z",
     "shell.execute_reply": "2022-07-22T19:36:55.961534Z"
    },
    "papermill": {
     "duration": 0.023171,
     "end_time": "2022-07-22T19:36:55.967132",
     "exception": false,
     "start_time": "2022-07-22T19:36:55.943961",
     "status": "completed"
    },
    "tags": []
   },
   "outputs": [],
   "source": [
    "# ABC_GAN1_metrics=ABC_train_test2.test_generator(gen,test_data,prior_model,variance,bias,\"1\",device)\n",
    "# sb.glue(\"ABC_GAN_1 Metrics\",ABC_GAN1_metrics)\n",
    "\n",
    "# print(\"MAE\")\n",
    "# print(mean(ABC_GAN1_metrics[1]))"
   ]
  },
  {
   "cell_type": "code",
   "execution_count": 14,
   "id": "eb22ce5c",
   "metadata": {
    "execution": {
     "iopub.execute_input": "2022-07-22T19:36:55.994427Z",
     "iopub.status.busy": "2022-07-22T19:36:55.993870Z",
     "iopub.status.idle": "2022-07-22T19:36:56.016852Z",
     "shell.execute_reply": "2022-07-22T19:36:56.011347Z"
    },
    "papermill": {
     "duration": 0.042532,
     "end_time": "2022-07-22T19:36:56.021765",
     "exception": false,
     "start_time": "2022-07-22T19:36:55.979233",
     "status": "completed"
    },
    "tags": []
   },
   "outputs": [],
   "source": [
    "# sanityChecks.discProbVsError(train_data,disc,device)\n",
    "# sanityChecks.discProbVsError(test_data,disc,device)"
   ]
  },
  {
   "cell_type": "markdown",
   "id": "cb1b63bd",
   "metadata": {
    "papermill": {
     "duration": 0.017907,
     "end_time": "2022-07-22T19:36:56.057052",
     "exception": false,
     "start_time": "2022-07-22T19:36:56.039145",
     "status": "completed"
    },
    "tags": []
   },
   "source": [
    "# mGAN Model with TabNet Generator"
   ]
  },
  {
   "cell_type": "code",
   "execution_count": 15,
   "id": "7531399a",
   "metadata": {
    "execution": {
     "iopub.execute_input": "2022-07-22T19:36:56.125376Z",
     "iopub.status.busy": "2022-07-22T19:36:56.124249Z",
     "iopub.status.idle": "2022-07-22T19:36:56.146185Z",
     "shell.execute_reply": "2022-07-22T19:36:56.145223Z"
    },
    "papermill": {
     "duration": 0.07357,
     "end_time": "2022-07-22T19:36:56.154591",
     "exception": false,
     "start_time": "2022-07-22T19:36:56.081021",
     "status": "completed"
    },
    "tags": []
   },
   "outputs": [],
   "source": [
    "gen2 = network.GeneratorTabnet(n_features+1).to(device)\n",
    "disc2 = network.Discriminator(n_features+1).to(device)\n",
    "\n",
    "criterion = torch.nn.BCELoss()\n",
    "gen_opt = torch.optim.Adam(gen2.parameters(), lr=0.01, betas=(0.5, 0.999))\n",
    "disc_opt = torch.optim.Adam(disc2.parameters(), lr=0.01, betas=(0.5, 0.999))"
   ]
  },
  {
   "cell_type": "code",
   "execution_count": 16,
   "id": "757a6055",
   "metadata": {
    "execution": {
     "iopub.execute_input": "2022-07-22T19:36:56.189290Z",
     "iopub.status.busy": "2022-07-22T19:36:56.188225Z",
     "iopub.status.idle": "2022-07-22T19:47:25.696436Z",
     "shell.execute_reply": "2022-07-22T19:47:25.691054Z"
    },
    "papermill": {
     "duration": 629.52965,
     "end_time": "2022-07-22T19:47:25.702849",
     "exception": false,
     "start_time": "2022-07-22T19:36:56.173199",
     "status": "completed"
    },
    "tags": []
   },
   "outputs": [
    {
     "data": {
      "image/png": "[encoded data removed]",
      "text/plain": [
       "<Figure size 432x288 with 1 Axes>"
      ]
     },
     "metadata": {
      "needs_background": "light"
     },
     "output_type": "display_data"
    },
    {
     "data": {
      "image/png": "[encoded data removed]",
      "text/plain": [
       "<Figure size 432x288 with 1 Axes>"
      ]
     },
     "metadata": {
      "needs_background": "light"
     },
     "output_type": "display_data"
    }
   ],
   "source": [
    "#Training the ABC_GAN \n",
    "ABC_train_test2.training_GAN(disc2,gen2,disc_opt,gen_opt,train_data,batch_size,n_epochs,criterion,prior_model,variance,bias,device)"
   ]
  },
  {
   "cell_type": "code",
   "execution_count": 17,
   "id": "05a05472",
   "metadata": {
    "execution": {
     "iopub.execute_input": "2022-07-22T19:47:25.777711Z",
     "iopub.status.busy": "2022-07-22T19:47:25.776488Z",
     "iopub.status.idle": "2022-07-22T19:47:28.131700Z",
     "shell.execute_reply": "2022-07-22T19:47:28.130092Z"
    },
    "papermill": {
     "duration": 2.416639,
     "end_time": "2022-07-22T19:47:28.135033",
     "exception": false,
     "start_time": "2022-07-22T19:47:25.718394",
     "status": "completed"
    },
    "tags": []
   },
   "outputs": [
    {
     "data": {
      "application/scrapbook.scrap.json+json": {
       "data": 0.21929251867912858,
       "encoder": "json",
       "name": "ABC-GAN Model 1 MSE",
       "version": 1
      }
     },
     "metadata": {
      "scrapbook": {
       "data": true,
       "display": false,
       "name": "ABC-GAN Model 1 MSE"
      }
     },
     "output_type": "display_data"
    },
    {
     "data": {
      "application/scrapbook.scrap.json+json": {
       "data": 0.28666834596690594,
       "encoder": "json",
       "name": "ABC-GAN Model 1 MAE",
       "version": 1
      }
     },
     "metadata": {
      "scrapbook": {
       "data": true,
       "display": false,
       "name": "ABC-GAN Model 1 MAE"
      }
     },
     "output_type": "display_data"
    },
    {
     "data": {
      "application/scrapbook.scrap.json+json": {
       "data": 29.240171288624406,
       "encoder": "json",
       "name": "ABC-GAN Model 1 Manhattan Distance",
       "version": 1
      }
     },
     "metadata": {
      "scrapbook": {
       "data": true,
       "display": false,
       "name": "ABC-GAN Model 1 Manhattan Distance"
      }
     },
     "output_type": "display_data"
    },
    {
     "data": {
      "application/scrapbook.scrap.json+json": {
       "data": 4.72847637116997,
       "encoder": "json",
       "name": "ABC-GAN Model 1 Euclidean distance",
       "version": 1
      }
     },
     "metadata": {
      "scrapbook": {
       "data": true,
       "display": false,
       "name": "ABC-GAN Model 1 Euclidean distance"
      }
     },
     "output_type": "display_data"
    },
    {
     "data": {
      "application/scrapbook.scrap.json+json": {
       "data": [
        [
         0.21605405824692733,
         0.2172061593860638,
         0.2299883260138336,
         0.2196068077128,
         0.22382560567452814,
         0.20620402420175993,
         0.2303145142413444,
         0.22298189749931896,
         0.22569787590550358,
         0.22910531415970872,
         0.23004398357963735,
         0.22684849256235892,
         0.2441344477797556,
         0.21705916752074797,
         0.21628069043375553,
         0.235188690534362,
         0.21077765953303418,
         0.2048715898384564,
         0.20265499060283024,
         0.22523467106796313,
         0.23245104437360778,
         0.2236010723167879,
         0.20708960170827992,
         0.21732819471713521,
         0.2112413375188114,
         0.21428453728433677,
         0.20616422916809102,
         0.21950389975165163,
         0.20810897873209833,
         0.23334472388241081,
         0.21199685922012795,
         0.21732359900305648,
         0.2218319181291654,
         0.22092455689451768,
         0.21399442725606502,
         0.21031645866355367,
         0.22719291001519396,
         0.2234843367735109,
         0.22088676849022498,
         0.21306192196317447,
         0.2226380437325146,
         0.2116610626172593,
         0.2311899383380724,
         0.2243984860022762,
         0.21179836626316675,
         0.22811124308548547,
         0.21086065864912773,
         0.21955976140659655,
         0.2209545781676592,
         0.23278648355975007,
         0.20597967759642363,
         0.23601215556137467,
         0.22309829198954323,
         0.21862374927745298,
         0.22063494228082128,
         0.2100293384022053,
         0.21710449391186873,
         0.2168381235158702,
         0.22139562994911507,
         0.21381765863421393,
         0.20644535208285847,
         0.22636094605526808,
         0.2267386249469549,
         0.21707055662940397,
         0.2156901038911007,
         0.2126501861448426,
         0.2212787156896819,
         0.22396117341774036,
         0.22655035563959214,
         0.22431478635313645,
         0.23000514262870964,
         0.21917120590349665,
         0.21270395069617742,
         0.21983287213157254,
         0.22818651375224494,
         0.20616083927998383,
         0.2135323723041569,
         0.22453036639913512,
         0.19315094051792198,
         0.2334447006181216,
         0.22674966212229672,
         0.20762100695956617,
         0.21302464999711695,
         0.21883760088083068,
         0.21455731541592896,
         0.21256327817395915,
         0.20936752848954449,
         0.22514887744963963,
         0.22798784739949768,
         0.22093290148704764,
         0.23933689254216972,
         0.22521235561255196,
         0.21534038420976978,
         0.2234951011374024,
         0.21578090974559577,
         0.2019584780973427,
         0.21051740154106893,
         0.21352312896021722,
         0.21165884480677513,
         0.2281549725051478
        ],
        [
         0.29069577150192916,
         0.2831655556664747,
         0.28891092169956833,
         0.2880359546591838,
         0.2855847865416139,
         0.2746501715452063,
         0.283022861306866,
         0.2735680600482167,
         0.2813399835471429,
         0.28869658387174796,
         0.2994672987683147,
         0.2834419197603768,
         0.298857364109626,
         0.27096580580680396,
         0.2848805239168452,
         0.292825020228823,
         0.28597197298179655,
         0.27722549387345125,
         0.2840692285521358,
         0.28123682131077726,
         0.29712532643301814,
         0.28449545530419723,
         0.2796757085358395,
         0.2813808870885302,
         0.2869306165067589,
         0.2843325742903878,
         0.27637315746031554,
         0.29193862808831766,
         0.27452873358247326,
         0.301541348481003,
         0.2927257579696529,
         0.29108508380458636,
         0.2821052808898921,
         0.29189488152955095,
         0.2944664776179136,
         0.26935526326883075,
         0.3023734403518485,
         0.29195720899630995,
         0.2873184657929575,
         0.28518091394182515,
         0.28569854865325434,
         0.2821139546439928,
         0.29124777939389734,
         0.29143605268030776,
         0.28185102716088295,
         0.3021072543354011,
         0.2826040460563758,
         0.28702901544816356,
         0.28738918958925735,
         0.29534002481138005,
         0.28587258709411995,
         0.2960045412913257,
         0.2831609509154862,
         0.2888629729403,
         0.29489459469914436,
         0.2777958960071498,
         0.2872530731427319,
         0.2867171162848963,
         0.2784580388197712,
         0.2824057301177698,
         0.2874516202684711,
         0.2835922857344735,
         0.29040670449681144,
         0.2841420810231391,
         0.29611065731767344,
         0.27783509588562977,
         0.27978566920786513,
         0.2837334388830498,
         0.3016148618623322,
         0.29280593425181567,
         0.2891175688847023,
         0.29150223370422335,
         0.281636127581199,
         0.2896005575198169,
         0.29005953085188774,
         0.27951500097326204,
         0.2756798885324422,
         0.284286782693337,
         0.2705975937857932,
         0.2926329312590407,
         0.2841467430048129,
         0.27779248316644456,
         0.28241613664317367,
         0.2899889692152832,
         0.2911404282146809,
         0.2842004329477455,
         0.28540414878550696,
         0.28915711134379984,
         0.29282003571735876,
         0.2937471251204318,
         0.2966703798475803,
         0.2957313814949171,
         0.2842942442489313,
         0.29521884385715513,
         0.2910892579923658,
         0.27922132746407796,
         0.2877853039980811,
         0.28725859636039125,
         0.2756352822351105,
         0.28937009659906227
        ],
        [
         29.650968693196774,
         28.882886677980423,
         29.46891401335597,
         29.37966737523675,
         29.129648227244616,
         28.014317497611046,
         28.868331853300333,
         27.903942124918103,
         28.696678321808577,
         29.44705155491829,
         30.545664474368095,
         28.911075815558434,
         30.483451139181852,
         27.638512192294,
         29.057813439518213,
         29.86815206333995,
         29.169141244143248,
         28.27700037509203,
         28.975061312317848,
         28.686155773699284,
         30.30678329616785,
         29.018536441028118,
         28.526922270655632,
         28.70085048303008,
         29.266922883689404,
         29.001922577619553,
         28.190062060952187,
         29.777740065008402,
         28.001930825412273,
         30.757217545062304,
         29.858027312904596,
         29.690678548067808,
         28.774738650768995,
         29.773277916014194,
         30.035580717027187,
         27.474236853420734,
         30.842090915888548,
         29.779635317623615,
         29.306483510881662,
         29.088453222066164,
         29.14125196263194,
         28.775623373687267,
         29.70727349817753,
         29.72647737339139,
         28.74880477041006,
         30.814939942210913,
         28.82561269775033,
         29.27695957571268,
         29.313697338104248,
         30.124682530760765,
         29.159003883600235,
         30.19246321171522,
         28.882416993379593,
         29.464023239910603,
         30.079248659312725,
         28.335181392729282,
         29.299813460558653,
         29.245145861059427,
         28.40271995961666,
         28.80538447201252,
         29.320065267384052,
         28.926413144916296,
         29.621483858674765,
         28.98249226436019,
         30.203287046402693,
         28.339179780334234,
         28.538138259202242,
         28.94081076607108,
         30.764715909957886,
         29.866205293685198,
         29.489992026239634,
         29.733227837830782,
         28.7268850132823,
         29.539256867021322,
         29.586072146892548,
         28.510530099272728,
         28.119348630309105,
         28.997251834720373,
         27.600954566150904,
         29.848558988422155,
         28.982967786490917,
         28.334833282977343,
         28.806445937603712,
         29.578874859958887,
         29.696323677897453,
         28.988444160670042,
         29.11122317612171,
         29.494025357067585,
         29.867643643170595,
         29.96220676228404,
         30.26037874445319,
         30.164600912481546,
         28.998012913390994,
         30.112322073429823,
         29.69110431522131,
         28.480575401335955,
         29.354101007804275,
         29.30037682875991,
         28.11479878798127,
         29.515749853104353
        ],
        [
         4.6944130560898225,
         4.7069128159950555,
         4.843429492974067,
         4.732852669025902,
         4.778097087628282,
         4.586154213344718,
         4.846862949642493,
         4.769083092684645,
         4.798039531137833,
         4.834122675759303,
         4.844015516606342,
         4.810254280322466,
         4.990161688115433,
         4.705319870860672,
         4.6968745378435495,
         4.897881831414977,
         4.636736058087573,
         4.571312958387618,
         4.546516143322124,
         4.793113440023325,
         4.869292199705003,
         4.775699883400585,
         4.5959916638571645,
         4.708234898679949,
         4.6418333045165205,
         4.6751494952570605,
         4.585711654165062,
         4.731743629431804,
         4.6072894233675,
         4.8786434421881975,
         4.650126841329497,
         4.708185117251845,
         4.7567694551212885,
         4.747031156759012,
         4.671983687912301,
         4.631660478023241,
         4.813904529750229,
         4.774453094428524,
         4.746625157520125,
         4.661793221523644,
         4.765404543238327,
         4.646442551776621,
         4.856065661673386,
         4.784207935722712,
         4.647949371372606,
         4.823623823923204,
         4.637648885179971,
         4.732345683006773,
         4.747353681062876,
         4.872804256595426,
         4.583658704008753,
         4.906448804100601,
         4.770327638950327,
         4.722247603239395,
         4.743918645238741,
         4.628497868318072,
         4.705811128701471,
         4.702923409818489,
         4.7520894619956096,
         4.670053659294486,
         4.588837098051266,
         4.80508236117107,
         4.809089284322906,
         4.705443313461464,
         4.690457397407236,
         4.657286654992792,
         4.750834558301052,
         4.779543878719967,
         4.807092289028618,
         4.783315608238695,
         4.843606564134662,
         4.728156406270488,
         4.657875370918601,
         4.735288054323664,
         4.824419592316674,
         4.585673953363709,
         4.666937108535318,
         4.785613583722758,
         4.438625455344035,
         4.879688459630225,
         4.8092063312436775,
         4.601884691066884,
         4.661385448523425,
         4.724556623625621,
         4.6781242151555515,
         4.656334864863548,
         4.621199834018599,
         4.792200486192458,
         4.822318989319221,
         4.74712080651829,
         4.940886867688969,
         4.792875991769481,
         4.686653303733541,
         4.774568076382936,
         4.69144463828049,
         4.538696372960958,
         4.633872565920326,
         4.6668360967514335,
         4.646418208716373,
         4.824086151337378
        ]
       ],
       "encoder": "json",
       "name": "ABC_GAN_2 Metrics",
       "version": 1
      }
     },
     "metadata": {
      "scrapbook": {
       "data": true,
       "display": false,
       "name": "ABC_GAN_2 Metrics"
      }
     },
     "output_type": "display_data"
    },
    {
     "name": "stdout",
     "output_type": "stream",
     "text": [
      "MAE\n",
      "0.28666834596690594\n"
     ]
    }
   ],
   "source": [
    "ABC_GAN2_metrics=ABC_train_test2.test_generator(gen2,test_data,prior_model,variance,bias,\"1\",device)\n",
    "sb.glue(\"ABC_GAN_2 Metrics\",ABC_GAN2_metrics)\n",
    "\n",
    "print(\"MAE\")\n",
    "print(mean(ABC_GAN2_metrics[1]))"
   ]
  },
  {
   "cell_type": "code",
   "execution_count": 18,
   "id": "2fff446d",
   "metadata": {
    "execution": {
     "iopub.execute_input": "2022-07-22T19:47:28.189887Z",
     "iopub.status.busy": "2022-07-22T19:47:28.189490Z",
     "iopub.status.idle": "2022-07-22T19:47:29.169041Z",
     "shell.execute_reply": "2022-07-22T19:47:29.168195Z"
    },
    "papermill": {
     "duration": 1.021778,
     "end_time": "2022-07-22T19:47:29.171775",
     "exception": false,
     "start_time": "2022-07-22T19:47:28.149997",
     "status": "completed"
    },
    "tags": []
   },
   "outputs": [
    {
     "data": {
      "image/png": "[encoded data removed]",
      "text/plain": [
       "<Figure size 432x288 with 1 Axes>"
      ]
     },
     "metadata": {
      "needs_background": "light"
     },
     "output_type": "display_data"
    },
    {
     "data": {
      "image/png": "[encoded data removed]",
      "text/plain": [
       "<Figure size 432x288 with 1 Axes>"
      ]
     },
     "metadata": {
      "needs_background": "light"
     },
     "output_type": "display_data"
    },
    {
     "data": {
      "image/png": "[encoded data removed]",
      "text/plain": [
       "<Figure size 432x288 with 1 Axes>"
      ]
     },
     "metadata": {
      "needs_background": "light"
     },
     "output_type": "display_data"
    },
    {
     "data": {
      "image/png": "[encoded data removed]",
      "text/plain": [
       "<Figure size 432x288 with 1 Axes>"
      ]
     },
     "metadata": {
      "needs_background": "light"
     },
     "output_type": "display_data"
    }
   ],
   "source": [
    "sanityChecks.discProbVsError(train_data,disc2,device)\n",
    "sanityChecks.discProbVsError(test_data,disc2,device)"
   ]
  },
  {
   "cell_type": "markdown",
   "id": "130f3a4d",
   "metadata": {
    "id": "130f3a4d",
    "papermill": {
     "duration": 0.018233,
     "end_time": "2022-07-22T19:47:29.207593",
     "exception": false,
     "start_time": "2022-07-22T19:47:29.189360",
     "status": "completed"
    },
    "tags": []
   },
   "source": [
    "# skipGAN Model"
   ]
  },
  {
   "cell_type": "code",
   "execution_count": 19,
   "id": "4e43dad1",
   "metadata": {
    "execution": {
     "iopub.execute_input": "2022-07-22T19:47:29.287642Z",
     "iopub.status.busy": "2022-07-22T19:47:29.277229Z",
     "iopub.status.idle": "2022-07-22T19:47:29.292145Z",
     "shell.execute_reply": "2022-07-22T19:47:29.291354Z"
    },
    "id": "4e43dad1",
    "papermill": {
     "duration": 0.06301,
     "end_time": "2022-07-22T19:47:29.295190",
     "exception": false,
     "start_time": "2022-07-22T19:47:29.232180",
     "status": "completed"
    },
    "tags": []
   },
   "outputs": [],
   "source": [
    "# #Generator\n",
    "# gen3 = network.GeneratorWithSkipConnection(n_features+1).to(device)\n",
    "# constraints=network.weightConstraint()\n",
    "# #Discriminator \n",
    "# disc3 = network.Discriminator(n_features+1).to(device)\n",
    "\n",
    "# criterion = torch.nn.BCELoss()\n",
    "# gen_opt = torch.optim.Adam(gen3.parameters(), lr=0.01, betas=(0.5, 0.999))\n",
    "# disc_opt = torch.optim.Adam(disc3.parameters(), lr=0.01, betas=(0.5, 0.999))\n"
   ]
  },
  {
   "cell_type": "markdown",
   "id": "32b537c3",
   "metadata": {
    "tags": [
     "papermill-error-cell-tag"
    ]
   },
   "source": [
    "<span id=\"papermill-error-cell\" style=\"color:red; font-family:Helvetica Neue, Helvetica, Arial, sans-serif; font-size:2em;\">Execution using papermill encountered an exception here and stopped:</span>"
   ]
  },
  {
   "cell_type": "code",
   "execution_count": 20,
   "id": "26acbc37",
   "metadata": {
    "execution": {
     "iopub.execute_input": "2022-07-22T19:47:29.348760Z",
     "iopub.status.busy": "2022-07-22T19:47:29.348305Z",
     "iopub.status.idle": "2022-07-22T19:47:30.257535Z",
     "shell.execute_reply": "2022-07-22T19:47:30.255334Z"
    },
    "id": "26acbc37",
    "papermill": {
     "duration": 0.946019,
     "end_time": "2022-07-22T19:47:30.259681",
     "exception": true,
     "start_time": "2022-07-22T19:47:29.313662",
     "status": "failed"
    },
    "tags": []
   },
   "outputs": [
    {
     "ename": "NameError",
     "evalue": "name 'disc3' is not defined",
     "output_type": "error",
     "traceback": [
      "\u001b[0;31m---------------------------------------------------------------------------\u001b[0m",
      "\u001b[0;31mNameError\u001b[0m                                 Traceback (most recent call last)",
      "Input \u001b[0;32mIn [20]\u001b[0m, in \u001b[0;36m<cell line: 1>\u001b[0;34m()\u001b[0m\n\u001b[0;32m----> 1\u001b[0m ABC_train_test2\u001b[38;5;241m.\u001b[39mtraining_GAN_skip_connection(\u001b[43mdisc3\u001b[49m,gen3,disc_opt,gen_opt,train_data,batch_size,n_epochs,criterion,prior_model,variance,bias,device)\n",
      "\u001b[0;31mNameError\u001b[0m: name 'disc3' is not defined"
     ]
    }
   ],
   "source": [
    "ABC_train_test2.training_GAN_skip_connection(disc3,gen3,disc_opt,gen_opt,train_data,batch_size,n_epochs,criterion,prior_model,variance,bias,device)"
   ]
  },
  {
   "cell_type": "code",
   "execution_count": null,
   "id": "c5e0717b",
   "metadata": {
    "id": "c5e0717b",
    "papermill": {
     "duration": null,
     "end_time": null,
     "exception": null,
     "start_time": null,
     "status": "pending"
    },
    "tags": []
   },
   "outputs": [],
   "source": [
    "# ABC_GAN3_metrics=ABC_train_test2.test_generator(gen3,test_data,prior_model,variance,bias,\"3\",device)\n",
    "# sb.glue(\"ABC_GAN_3 Metrics\",ABC_GAN3_metrics)\n",
    "\n",
    "# print(\"MAE\")\n",
    "# print(mean(ABC_GAN3_metrics[1]))"
   ]
  },
  {
   "cell_type": "code",
   "execution_count": null,
   "id": "c8e46b48",
   "metadata": {
    "id": "c8e46b48",
    "papermill": {
     "duration": null,
     "end_time": null,
     "exception": null,
     "start_time": null,
     "status": "pending"
    },
    "tags": []
   },
   "outputs": [],
   "source": [
    "# sanityChecks.discProbVsError(train_data,disc3,device)\n",
    "# sanityChecks.discProbVsError(test_data,disc3,device)"
   ]
  },
  {
   "cell_type": "markdown",
   "id": "411b78d3",
   "metadata": {
    "id": "130f3a4d",
    "papermill": {
     "duration": null,
     "end_time": null,
     "exception": null,
     "start_time": null,
     "status": "pending"
    },
    "tags": []
   },
   "source": [
    "# skipGAN Model with TabNet Generator"
   ]
  },
  {
   "cell_type": "code",
   "execution_count": null,
   "id": "df2e5ab1",
   "metadata": {
    "id": "4e43dad1",
    "papermill": {
     "duration": null,
     "end_time": null,
     "exception": null,
     "start_time": null,
     "status": "pending"
    },
    "tags": []
   },
   "outputs": [],
   "source": [
    "# #Generator\n",
    "# gen4 = network.GeneratorTabnetskipConnection(n_features+1).to(device)\n",
    "# constraints=network.weightConstraint()\n",
    "# #Discriminator \n",
    "# disc4 = network.Discriminator(n_features+1).to(device)\n",
    "\n",
    "# criterion = torch.nn.BCELoss()\n",
    "# gen_opt = torch.optim.Adam(gen4.parameters(), lr=0.01, betas=(0.5, 0.999))\n",
    "# disc_opt = torch.optim.Adam(disc4.parameters(), lr=0.01, betas=(0.5, 0.999))\n"
   ]
  },
  {
   "cell_type": "code",
   "execution_count": null,
   "id": "75cca526",
   "metadata": {
    "id": "26acbc37",
    "papermill": {
     "duration": null,
     "end_time": null,
     "exception": null,
     "start_time": null,
     "status": "pending"
    },
    "tags": []
   },
   "outputs": [],
   "source": [
    "# ABC_train_test2.training_GAN_skip_connection(disc4,gen4,disc_opt,gen_opt,train_data,batch_size,n_epochs,criterion,prior_model,variance,bias,device)"
   ]
  },
  {
   "cell_type": "code",
   "execution_count": null,
   "id": "48926de8",
   "metadata": {
    "id": "c5e0717b",
    "papermill": {
     "duration": null,
     "end_time": null,
     "exception": null,
     "start_time": null,
     "status": "pending"
    },
    "tags": []
   },
   "outputs": [],
   "source": [
    "# ABC_GAN4_metrics=ABC_train_test2.test_generator(gen4,test_data,prior_model,variance,bias,\"3\",device)\n",
    "# sb.glue(\"ABC_GAN_4 Metrics\",ABC_GAN4_metrics)\n",
    "\n",
    "# print(\"MAE\")\n",
    "# print(mean(ABC_GAN4_metrics[1]))"
   ]
  },
  {
   "cell_type": "code",
   "execution_count": null,
   "id": "38c8945e",
   "metadata": {
    "id": "c8e46b48",
    "papermill": {
     "duration": null,
     "end_time": null,
     "exception": null,
     "start_time": null,
     "status": "pending"
    },
    "tags": []
   },
   "outputs": [],
   "source": [
    "# sanityChecks.discProbVsError(train_data,disc4,device)\n",
    "# sanityChecks.discProbVsError(test_data,disc4,device)"
   ]
  },
  {
   "cell_type": "markdown",
   "id": "a5bd74c3",
   "metadata": {
    "id": "a5bd74c3",
    "papermill": {
     "duration": null,
     "end_time": null,
     "exception": null,
     "start_time": null,
     "status": "pending"
    },
    "tags": []
   },
   "source": [
    "## Skip Connection Model Analysis - ABC-GAN "
   ]
  },
  {
   "cell_type": "markdown",
   "id": "5744a8bf",
   "metadata": {
    "id": "5744a8bf",
    "papermill": {
     "duration": null,
     "end_time": null,
     "exception": null,
     "start_time": null,
     "status": "pending"
    },
    "tags": []
   },
   "source": [
    "### Weight Analysis \n",
    "\n",
    "Study the weights of the skip connection layer\n",
    "\n",
    "Equation of the skip connection is \n",
    "\n",
    "$output = y_{gan} * w + y_{abc} * (1-w)$"
   ]
  },
  {
   "cell_type": "code",
   "execution_count": null,
   "id": "52c31dea",
   "metadata": {
    "id": "52c31dea",
    "papermill": {
     "duration": null,
     "end_time": null,
     "exception": null,
     "start_time": null,
     "status": "pending"
    },
    "tags": []
   },
   "outputs": [],
   "source": [
    "# print(\"Weight of the node at skip connection\")\n",
    "# for name,param in gen3.named_parameters():\n",
    "#     if(name == \"skipNode.weight\"):\n",
    "#         print(param)\n",
    "#         sb.glue(\"Skip Connection Weight\",param.item())"
   ]
  },
  {
   "cell_type": "markdown",
   "id": "29171668",
   "metadata": {
    "id": "a5bd74c3",
    "papermill": {
     "duration": null,
     "end_time": null,
     "exception": null,
     "start_time": null,
     "status": "pending"
    },
    "tags": []
   },
   "source": [
    "## skipGAN Model Analysis (TabNet Generator) "
   ]
  },
  {
   "cell_type": "markdown",
   "id": "f75726c2",
   "metadata": {
    "id": "5744a8bf",
    "papermill": {
     "duration": null,
     "end_time": null,
     "exception": null,
     "start_time": null,
     "status": "pending"
    },
    "tags": []
   },
   "source": [
    "### Weight Analysis \n",
    "\n",
    "Study the weights of the skip connection layer\n",
    "\n",
    "Equation of the skip connection is \n",
    "\n",
    "$output = y_{gan} * w + y_{abc} * (1-w)$"
   ]
  },
  {
   "cell_type": "code",
   "execution_count": null,
   "id": "edc3d9df",
   "metadata": {
    "id": "52c31dea",
    "papermill": {
     "duration": null,
     "end_time": null,
     "exception": null,
     "start_time": null,
     "status": "pending"
    },
    "tags": []
   },
   "outputs": [],
   "source": [
    "# print(\"Weight of the node at skip connection\")\n",
    "# for name,param in gen4.named_parameters():\n",
    "#     if(name == \"skipNode.weight\"):\n",
    "#         print(param)\n",
    "#         sb.glue(\"Skip Connection Weight\",param.item())"
   ]
  }
 ],
 "metadata": {
  "colab": {
   "collapsed_sections": [],
   "name": "ABC_GAN_Model-Catboost_Pre-gen.ipynb",
   "provenance": []
  },
  "interpreter": {
   "hash": "31f2aee4e71d21fbe5cf8b01ff0e069b9275f58929596ceb00d14d90e3e16cd6"
  },
  "kernelspec": {
   "display_name": "Python 3 (ipykernel)",
   "language": "python",
   "name": "python3"
  },
  "language_info": {
   "codemirror_mode": {
    "name": "ipython",
    "version": 3
   },
   "file_extension": ".py",
   "mimetype": "text/x-python",
   "name": "python",
   "nbconvert_exporter": "python",
   "pygments_lexer": "ipython3",
   "version": "3.8.13"
  },
  "papermill": {
   "default_parameters": {},
   "duration": 650.962609,
   "end_time": "2022-07-22T19:47:31.178344",
   "environment_variables": {},
   "exception": true,
   "input_path": "ABC_GAN-Catboost.ipynb",
   "output_path": "./ABC_GAN_Catboost/ABC-GAN_output_1_10.ipynb",
   "parameters": {
    "bias": 0,
    "variance": 0.1
   },
   "start_time": "2022-07-22T19:36:40.215735",
   "version": "2.3.3"
  }
 },
 "nbformat": 4,
 "nbformat_minor": 5
}