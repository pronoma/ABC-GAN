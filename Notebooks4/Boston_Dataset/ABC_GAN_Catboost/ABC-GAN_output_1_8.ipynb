{
 "cells": [
  {
   "cell_type": "markdown",
   "id": "7f40cf24",
   "metadata": {
    "tags": [
     "papermill-error-cell-tag"
    ]
   },
   "source": [
    "<span style=\"color:red; font-family:Helvetica Neue, Helvetica, Arial, sans-serif; font-size:2em;\">An Exception was encountered at '<a href=\"#papermill-error-cell\">In [20]</a>'.</span>"
   ]
  },
  {
   "cell_type": "markdown",
   "id": "622780e6",
   "metadata": {
    "id": "622780e6",
    "papermill": {
     "duration": 0.010238,
     "end_time": "2022-07-22T19:15:11.820293",
     "exception": false,
     "start_time": "2022-07-22T19:15:11.810055",
     "status": "completed"
    },
    "tags": []
   },
   "source": [
    "## Import Libraries "
   ]
  },
  {
   "cell_type": "code",
   "execution_count": 1,
   "id": "a62397e3",
   "metadata": {
    "execution": {
     "iopub.execute_input": "2022-07-22T19:15:11.840719Z",
     "iopub.status.busy": "2022-07-22T19:15:11.839840Z",
     "iopub.status.idle": "2022-07-22T19:15:11.871819Z",
     "shell.execute_reply": "2022-07-22T19:15:11.856940Z"
    },
    "id": "a62397e3",
    "papermill": {
     "duration": 0.053693,
     "end_time": "2022-07-22T19:15:11.881747",
     "exception": false,
     "start_time": "2022-07-22T19:15:11.828054",
     "status": "completed"
    },
    "tags": []
   },
   "outputs": [],
   "source": [
    "import warnings\n",
    "import sys\n",
    "sys.path.insert(0, '../../src')\n",
    "warnings.filterwarnings('ignore')"
   ]
  },
  {
   "cell_type": "code",
   "execution_count": 2,
   "id": "d6a4e155",
   "metadata": {
    "execution": {
     "iopub.execute_input": "2022-07-22T19:15:11.906692Z",
     "iopub.status.busy": "2022-07-22T19:15:11.906034Z",
     "iopub.status.idle": "2022-07-22T19:15:19.182710Z",
     "shell.execute_reply": "2022-07-22T19:15:19.180691Z"
    },
    "id": "d6a4e155",
    "papermill": {
     "duration": 7.294807,
     "end_time": "2022-07-22T19:15:19.187375",
     "exception": false,
     "start_time": "2022-07-22T19:15:11.892568",
     "status": "completed"
    },
    "tags": []
   },
   "outputs": [],
   "source": [
    "import ABC_train_test2\n",
    "import bostonDataset\n",
    "import network\n",
    "import dataset\n",
    "import sanityChecks\n",
    "import torch \n",
    "import scrapbook as sb\n",
    "from statistics import mean \n",
    "import catboost as ctb \n",
    "from sklearn.model_selection import train_test_split\n",
    "from sklearn.metrics import mean_squared_error,mean_absolute_error\n",
    "import numpy as np"
   ]
  },
  {
   "cell_type": "markdown",
   "id": "2fa5b0f7",
   "metadata": {
    "id": "2fa5b0f7",
    "papermill": {
     "duration": 0.009149,
     "end_time": "2022-07-22T19:15:19.203824",
     "exception": false,
     "start_time": "2022-07-22T19:15:19.194675",
     "status": "completed"
    },
    "tags": []
   },
   "source": [
    "## Parameters "
   ]
  },
  {
   "cell_type": "code",
   "execution_count": 3,
   "id": "783186fb",
   "metadata": {
    "execution": {
     "iopub.execute_input": "2022-07-22T19:15:19.229494Z",
     "iopub.status.busy": "2022-07-22T19:15:19.228272Z",
     "iopub.status.idle": "2022-07-22T19:15:19.248318Z",
     "shell.execute_reply": "2022-07-22T19:15:19.244166Z"
    },
    "id": "783186fb",
    "papermill": {
     "duration": 0.039775,
     "end_time": "2022-07-22T19:15:19.251663",
     "exception": false,
     "start_time": "2022-07-22T19:15:19.211888",
     "status": "completed"
    },
    "tags": [
     "parameters"
    ]
   },
   "outputs": [],
   "source": [
    "variance = 1\n",
    "bias = 1 "
   ]
  },
  {
   "cell_type": "code",
   "execution_count": 4,
   "id": "d8ee90ad",
   "metadata": {
    "execution": {
     "iopub.execute_input": "2022-07-22T19:15:19.276428Z",
     "iopub.status.busy": "2022-07-22T19:15:19.273878Z",
     "iopub.status.idle": "2022-07-22T19:15:19.289684Z",
     "shell.execute_reply": "2022-07-22T19:15:19.281219Z"
    },
    "papermill": {
     "duration": 0.033036,
     "end_time": "2022-07-22T19:15:19.294341",
     "exception": false,
     "start_time": "2022-07-22T19:15:19.261305",
     "status": "completed"
    },
    "tags": [
     "injected-parameters"
    ]
   },
   "outputs": [],
   "source": [
    "# Parameters\n",
    "variance = 0.01\n",
    "bias = 0.01\n"
   ]
  },
  {
   "cell_type": "markdown",
   "id": "391cdbfd",
   "metadata": {
    "id": "391cdbfd",
    "papermill": {
     "duration": 0.027114,
     "end_time": "2022-07-22T19:15:19.330298",
     "exception": false,
     "start_time": "2022-07-22T19:15:19.303184",
     "status": "completed"
    },
    "tags": []
   },
   "source": [
    "## Dataset \n"
   ]
  },
  {
   "cell_type": "code",
   "execution_count": 5,
   "id": "5b51f161",
   "metadata": {
    "execution": {
     "iopub.execute_input": "2022-07-22T19:15:19.367826Z",
     "iopub.status.busy": "2022-07-22T19:15:19.367375Z",
     "iopub.status.idle": "2022-07-22T19:15:19.372469Z",
     "shell.execute_reply": "2022-07-22T19:15:19.371668Z"
    },
    "id": "5b51f161",
    "papermill": {
     "duration": 0.034951,
     "end_time": "2022-07-22T19:15:19.375066",
     "exception": false,
     "start_time": "2022-07-22T19:15:19.340115",
     "status": "completed"
    },
    "tags": []
   },
   "outputs": [],
   "source": [
    "#Parameters \n",
    "n_features = 13\n",
    "n_samples= 506\n",
    "n_target = 1 "
   ]
  },
  {
   "cell_type": "code",
   "execution_count": 6,
   "id": "5d6eced4",
   "metadata": {
    "execution": {
     "iopub.execute_input": "2022-07-22T19:15:19.392635Z",
     "iopub.status.busy": "2022-07-22T19:15:19.391315Z",
     "iopub.status.idle": "2022-07-22T19:15:19.421586Z",
     "shell.execute_reply": "2022-07-22T19:15:19.420008Z"
    },
    "id": "5d6eced4",
    "papermill": {
     "duration": 0.042185,
     "end_time": "2022-07-22T19:15:19.424577",
     "exception": false,
     "start_time": "2022-07-22T19:15:19.382392",
     "status": "completed"
    },
    "tags": []
   },
   "outputs": [
    {
     "name": "stdout",
     "output_type": "stream",
     "text": [
      "         X1        X2        X3        X4        X5        X6        X7  \\\n",
      "0 -0.419782  0.284830 -1.287909 -0.272599 -0.144217  0.413672 -0.120013   \n",
      "1 -0.417339 -0.487722 -0.593381 -0.272599 -0.740262  0.194274  0.367166   \n",
      "2 -0.417342 -0.487722 -0.593381 -0.272599 -0.740262  1.282714 -0.265812   \n",
      "3 -0.416750 -0.487722 -1.306878 -0.272599 -0.835284  1.016303 -0.809889   \n",
      "4 -0.412482 -0.487722 -1.306878 -0.272599 -0.835284  1.228577 -0.511180   \n",
      "\n",
      "         X8        X9       X10       X11       X12       X13         Y  \n",
      "0  0.140214 -0.982843 -0.666608 -1.459000  0.441052 -1.075562  0.159686  \n",
      "1  0.557160 -0.867883 -0.987329 -0.303094  0.441052 -0.492439 -0.101524  \n",
      "2  0.557160 -0.867883 -0.987329 -0.303094  0.396427 -1.208727  1.324247  \n",
      "3  1.077737 -0.752922 -1.106115  0.113032  0.416163 -1.361517  1.182758  \n",
      "4  1.077737 -0.752922 -1.106115  0.113032  0.441052 -1.026501  1.487503  \n"
     ]
    }
   ],
   "source": [
    "X,Y = bostonDataset.boston_data()"
   ]
  },
  {
   "cell_type": "code",
   "execution_count": 7,
   "id": "fe007438",
   "metadata": {
    "execution": {
     "iopub.execute_input": "2022-07-22T19:15:19.443644Z",
     "iopub.status.busy": "2022-07-22T19:15:19.443207Z",
     "iopub.status.idle": "2022-07-22T19:15:19.457775Z",
     "shell.execute_reply": "2022-07-22T19:15:19.456274Z"
    },
    "id": "fe007438",
    "papermill": {
     "duration": 0.032566,
     "end_time": "2022-07-22T19:15:19.464901",
     "exception": false,
     "start_time": "2022-07-22T19:15:19.432335",
     "status": "completed"
    },
    "tags": []
   },
   "outputs": [],
   "source": [
    "#Train test split for dataset \n",
    "X_train,X_test,Y_train,Y_test = train_test_split(X,Y,test_size = 0.2)\n",
    "train_data = dataset.CustomDataset(X_train,Y_train)\n",
    "test_data = dataset.CustomDataset(X_test,Y_test)\n"
   ]
  },
  {
   "cell_type": "markdown",
   "id": "a9a1af34",
   "metadata": {
    "id": "a9a1af34",
    "papermill": {
     "duration": 0.008318,
     "end_time": "2022-07-22T19:15:19.481199",
     "exception": false,
     "start_time": "2022-07-22T19:15:19.472881",
     "status": "completed"
    },
    "tags": []
   },
   "source": [
    "## Training Parameters "
   ]
  },
  {
   "cell_type": "code",
   "execution_count": 8,
   "id": "952b7fc8",
   "metadata": {
    "execution": {
     "iopub.execute_input": "2022-07-22T19:15:19.497971Z",
     "iopub.status.busy": "2022-07-22T19:15:19.497654Z",
     "iopub.status.idle": "2022-07-22T19:15:19.503604Z",
     "shell.execute_reply": "2022-07-22T19:15:19.501977Z"
    },
    "id": "952b7fc8",
    "papermill": {
     "duration": 0.018617,
     "end_time": "2022-07-22T19:15:19.507092",
     "exception": false,
     "start_time": "2022-07-22T19:15:19.488475",
     "status": "completed"
    },
    "tags": []
   },
   "outputs": [],
   "source": [
    "batch_size = 32\n",
    "n_epochs = 1000\n",
    "#Select the device \n",
    "device = torch.device('cuda' if torch.cuda.is_available() else 'cpu')"
   ]
  },
  {
   "cell_type": "markdown",
   "id": "a95e1600",
   "metadata": {
    "id": "a95e1600",
    "papermill": {
     "duration": 0.007444,
     "end_time": "2022-07-22T19:15:19.521859",
     "exception": false,
     "start_time": "2022-07-22T19:15:19.514415",
     "status": "completed"
    },
    "tags": []
   },
   "source": [
    "# ABC Pre-generator Model \n",
    "\n",
    "1. The catboost model is used as a pre-generator model for the ABC-GAN. \n",
    "2. The model is first trained on the entire dataset \n",
    "3. It generats X,Y pairs and we add some Gaussian noise with mean 0 and variance 1 to it which is then feed as input to the generator.\n"
   ]
  },
  {
   "cell_type": "code",
   "execution_count": 9,
   "id": "ff8ce7bd",
   "metadata": {
    "execution": {
     "iopub.execute_input": "2022-07-22T19:15:19.539155Z",
     "iopub.status.busy": "2022-07-22T19:15:19.538300Z",
     "iopub.status.idle": "2022-07-22T19:15:23.389496Z",
     "shell.execute_reply": "2022-07-22T19:15:23.387478Z"
    },
    "id": "ff8ce7bd",
    "papermill": {
     "duration": 3.863067,
     "end_time": "2022-07-22T19:15:23.392557",
     "exception": false,
     "start_time": "2022-07-22T19:15:19.529490",
     "status": "completed"
    },
    "tags": []
   },
   "outputs": [
    {
     "name": "stdout",
     "output_type": "stream",
     "text": [
      "Learning rate set to 0.03548\n",
      "0:\tlearn: 0.9902548\ttotal: 68.2ms\tremaining: 1m 8s\n"
     ]
    },
    {
     "name": "stdout",
     "output_type": "stream",
     "text": [
      "1:\tlearn: 0.9689899\ttotal: 72.6ms\tremaining: 36.2s\n",
      "2:\tlearn: 0.9475538\ttotal: 75.2ms\tremaining: 25s\n",
      "3:\tlearn: 0.9326689\ttotal: 77.7ms\tremaining: 19.4s\n",
      "4:\tlearn: 0.9138639\ttotal: 80.2ms\tremaining: 16s\n",
      "5:\tlearn: 0.8961020\ttotal: 82.3ms\tremaining: 13.6s\n",
      "6:\tlearn: 0.8788464\ttotal: 83.9ms\tremaining: 11.9s\n",
      "7:\tlearn: 0.8620128\ttotal: 86.3ms\tremaining: 10.7s\n",
      "8:\tlearn: 0.8461952\ttotal: 88.5ms\tremaining: 9.75s\n",
      "9:\tlearn: 0.8291911\ttotal: 90.8ms\tremaining: 8.99s\n",
      "10:\tlearn: 0.8159149\ttotal: 93.2ms\tremaining: 8.38s\n",
      "11:\tlearn: 0.7999757\ttotal: 95.4ms\tremaining: 7.85s\n",
      "12:\tlearn: 0.7845564\ttotal: 97.6ms\tremaining: 7.41s\n",
      "13:\tlearn: 0.7691229\ttotal: 100ms\tremaining: 7.05s\n",
      "14:\tlearn: 0.7564772\ttotal: 102ms\tremaining: 6.67s\n",
      "15:\tlearn: 0.7427366\ttotal: 103ms\tremaining: 6.34s\n",
      "16:\tlearn: 0.7292888\ttotal: 106ms\tremaining: 6.11s\n",
      "17:\tlearn: 0.7158865\ttotal: 108ms\tremaining: 5.89s\n",
      "18:\tlearn: 0.7037993\ttotal: 110ms\tremaining: 5.68s\n",
      "19:\tlearn: 0.6922506\ttotal: 112ms\tremaining: 5.5s\n",
      "20:\tlearn: 0.6780952\ttotal: 114ms\tremaining: 5.31s\n",
      "21:\tlearn: 0.6686469\ttotal: 116ms\tremaining: 5.17s\n",
      "22:\tlearn: 0.6567782\ttotal: 119ms\tremaining: 5.05s\n",
      "23:\tlearn: 0.6466336\ttotal: 121ms\tremaining: 4.93s\n",
      "24:\tlearn: 0.6356784\ttotal: 124ms\tremaining: 4.84s\n",
      "25:\tlearn: 0.6247279\ttotal: 128ms\tremaining: 4.79s\n",
      "26:\tlearn: 0.6162219\ttotal: 130ms\tremaining: 4.7s\n",
      "27:\tlearn: 0.6067416\ttotal: 133ms\tremaining: 4.6s\n",
      "28:\tlearn: 0.5968343\ttotal: 135ms\tremaining: 4.52s\n",
      "29:\tlearn: 0.5868789\ttotal: 137ms\tremaining: 4.44s\n",
      "30:\tlearn: 0.5757505\ttotal: 140ms\tremaining: 4.36s\n",
      "31:\tlearn: 0.5671947\ttotal: 142ms\tremaining: 4.29s\n",
      "32:\tlearn: 0.5587188\ttotal: 144ms\tremaining: 4.22s\n",
      "33:\tlearn: 0.5513857\ttotal: 146ms\tremaining: 4.14s\n",
      "34:\tlearn: 0.5438884\ttotal: 148ms\tremaining: 4.08s\n",
      "35:\tlearn: 0.5370211\ttotal: 151ms\tremaining: 4.04s\n",
      "36:\tlearn: 0.5296308\ttotal: 152ms\tremaining: 3.97s\n",
      "37:\tlearn: 0.5228258\ttotal: 155ms\tremaining: 3.92s\n",
      "38:\tlearn: 0.5160644\ttotal: 157ms\tremaining: 3.88s\n",
      "39:\tlearn: 0.5083169\ttotal: 159ms\tremaining: 3.83s\n",
      "40:\tlearn: 0.5026777\ttotal: 162ms\tremaining: 3.78s\n",
      "41:\tlearn: 0.4965494\ttotal: 164ms\tremaining: 3.74s\n"
     ]
    },
    {
     "name": "stdout",
     "output_type": "stream",
     "text": [
      "42:\tlearn: 0.4908287\ttotal: 167ms\tremaining: 3.71s\n",
      "43:\tlearn: 0.4854489\ttotal: 169ms\tremaining: 3.68s\n",
      "44:\tlearn: 0.4805893\ttotal: 173ms\tremaining: 3.66s\n",
      "45:\tlearn: 0.4735979\ttotal: 175ms\tremaining: 3.63s\n",
      "46:\tlearn: 0.4679220\ttotal: 177ms\tremaining: 3.59s\n",
      "47:\tlearn: 0.4615423\ttotal: 179ms\tremaining: 3.55s\n",
      "48:\tlearn: 0.4575969\ttotal: 181ms\tremaining: 3.52s\n",
      "49:\tlearn: 0.4533967\ttotal: 184ms\tremaining: 3.49s\n",
      "50:\tlearn: 0.4481831\ttotal: 186ms\tremaining: 3.47s\n",
      "51:\tlearn: 0.4440915\ttotal: 189ms\tremaining: 3.44s\n",
      "52:\tlearn: 0.4394471\ttotal: 191ms\tremaining: 3.42s\n",
      "53:\tlearn: 0.4363199\ttotal: 193ms\tremaining: 3.38s\n",
      "54:\tlearn: 0.4317228\ttotal: 195ms\tremaining: 3.35s\n",
      "55:\tlearn: 0.4278226\ttotal: 197ms\tremaining: 3.32s\n",
      "56:\tlearn: 0.4245632\ttotal: 199ms\tremaining: 3.29s\n",
      "57:\tlearn: 0.4205739\ttotal: 202ms\tremaining: 3.27s\n",
      "58:\tlearn: 0.4169003\ttotal: 204ms\tremaining: 3.25s\n",
      "59:\tlearn: 0.4127741\ttotal: 206ms\tremaining: 3.23s\n",
      "60:\tlearn: 0.4089408\ttotal: 208ms\tremaining: 3.21s\n",
      "61:\tlearn: 0.4049034\ttotal: 215ms\tremaining: 3.25s\n",
      "62:\tlearn: 0.4022003\ttotal: 222ms\tremaining: 3.3s\n",
      "63:\tlearn: 0.3984651\ttotal: 230ms\tremaining: 3.37s\n"
     ]
    },
    {
     "name": "stdout",
     "output_type": "stream",
     "text": [
      "64:\tlearn: 0.3954018\ttotal: 234ms\tremaining: 3.36s\n",
      "65:\tlearn: 0.3921300\ttotal: 236ms\tremaining: 3.34s\n",
      "66:\tlearn: 0.3884747\ttotal: 238ms\tremaining: 3.31s\n",
      "67:\tlearn: 0.3843986\ttotal: 240ms\tremaining: 3.29s\n",
      "68:\tlearn: 0.3819221\ttotal: 243ms\tremaining: 3.28s\n",
      "69:\tlearn: 0.3792325\ttotal: 246ms\tremaining: 3.26s\n",
      "70:\tlearn: 0.3749374\ttotal: 248ms\tremaining: 3.24s\n",
      "71:\tlearn: 0.3720910\ttotal: 251ms\tremaining: 3.23s\n",
      "72:\tlearn: 0.3700167\ttotal: 253ms\tremaining: 3.21s\n",
      "73:\tlearn: 0.3661850\ttotal: 255ms\tremaining: 3.2s\n",
      "74:\tlearn: 0.3631645\ttotal: 258ms\tremaining: 3.18s\n",
      "75:\tlearn: 0.3608409\ttotal: 260ms\tremaining: 3.16s\n",
      "76:\tlearn: 0.3581881\ttotal: 264ms\tremaining: 3.17s\n",
      "77:\tlearn: 0.3546981\ttotal: 266ms\tremaining: 3.15s\n",
      "78:\tlearn: 0.3520743\ttotal: 268ms\tremaining: 3.13s\n",
      "79:\tlearn: 0.3496519\ttotal: 270ms\tremaining: 3.1s\n",
      "80:\tlearn: 0.3473800\ttotal: 272ms\tremaining: 3.08s\n",
      "81:\tlearn: 0.3454833\ttotal: 273ms\tremaining: 3.06s\n",
      "82:\tlearn: 0.3439644\ttotal: 275ms\tremaining: 3.03s\n",
      "83:\tlearn: 0.3416416\ttotal: 276ms\tremaining: 3.01s\n",
      "84:\tlearn: 0.3395818\ttotal: 279ms\tremaining: 3s\n",
      "85:\tlearn: 0.3372968\ttotal: 283ms\tremaining: 3s\n",
      "86:\tlearn: 0.3350734\ttotal: 286ms\tremaining: 3s\n",
      "87:\tlearn: 0.3331192\ttotal: 288ms\tremaining: 2.99s\n",
      "88:\tlearn: 0.3307021\ttotal: 291ms\tremaining: 2.98s\n",
      "89:\tlearn: 0.3277500\ttotal: 293ms\tremaining: 2.96s\n",
      "90:\tlearn: 0.3254327\ttotal: 295ms\tremaining: 2.95s\n",
      "91:\tlearn: 0.3239858\ttotal: 298ms\tremaining: 2.94s\n",
      "92:\tlearn: 0.3214477\ttotal: 300ms\tremaining: 2.92s\n",
      "93:\tlearn: 0.3198379\ttotal: 302ms\tremaining: 2.91s\n",
      "94:\tlearn: 0.3181625\ttotal: 305ms\tremaining: 2.9s\n"
     ]
    },
    {
     "name": "stdout",
     "output_type": "stream",
     "text": [
      "95:\tlearn: 0.3169534\ttotal: 307ms\tremaining: 2.89s\n",
      "96:\tlearn: 0.3150438\ttotal: 312ms\tremaining: 2.9s\n",
      "97:\tlearn: 0.3134086\ttotal: 316ms\tremaining: 2.91s\n",
      "98:\tlearn: 0.3117620\ttotal: 318ms\tremaining: 2.89s\n",
      "99:\tlearn: 0.3102929\ttotal: 320ms\tremaining: 2.88s\n",
      "100:\tlearn: 0.3084321\ttotal: 323ms\tremaining: 2.87s\n",
      "101:\tlearn: 0.3063932\ttotal: 325ms\tremaining: 2.86s\n",
      "102:\tlearn: 0.3049842\ttotal: 327ms\tremaining: 2.85s\n",
      "103:\tlearn: 0.3033598\ttotal: 329ms\tremaining: 2.84s\n",
      "104:\tlearn: 0.3016290\ttotal: 332ms\tremaining: 2.83s\n",
      "105:\tlearn: 0.3006414\ttotal: 334ms\tremaining: 2.81s\n",
      "106:\tlearn: 0.2991961\ttotal: 337ms\tremaining: 2.81s\n",
      "107:\tlearn: 0.2970675\ttotal: 339ms\tremaining: 2.8s\n",
      "108:\tlearn: 0.2953852\ttotal: 341ms\tremaining: 2.79s\n",
      "109:\tlearn: 0.2938641\ttotal: 344ms\tremaining: 2.78s\n",
      "110:\tlearn: 0.2925311\ttotal: 346ms\tremaining: 2.77s\n",
      "111:\tlearn: 0.2912992\ttotal: 352ms\tremaining: 2.79s\n",
      "112:\tlearn: 0.2898074\ttotal: 356ms\tremaining: 2.79s\n",
      "113:\tlearn: 0.2881588\ttotal: 358ms\tremaining: 2.78s\n",
      "114:\tlearn: 0.2868763\ttotal: 361ms\tremaining: 2.77s\n",
      "115:\tlearn: 0.2853182\ttotal: 363ms\tremaining: 2.77s\n",
      "116:\tlearn: 0.2838817\ttotal: 365ms\tremaining: 2.76s\n",
      "117:\tlearn: 0.2828575\ttotal: 368ms\tremaining: 2.75s\n",
      "118:\tlearn: 0.2817234\ttotal: 370ms\tremaining: 2.74s\n"
     ]
    },
    {
     "name": "stdout",
     "output_type": "stream",
     "text": [
      "119:\tlearn: 0.2809899\ttotal: 373ms\tremaining: 2.73s\n",
      "120:\tlearn: 0.2797397\ttotal: 377ms\tremaining: 2.74s\n",
      "121:\tlearn: 0.2791512\ttotal: 381ms\tremaining: 2.74s\n",
      "122:\tlearn: 0.2775360\ttotal: 385ms\tremaining: 2.74s\n",
      "123:\tlearn: 0.2768148\ttotal: 388ms\tremaining: 2.74s\n",
      "124:\tlearn: 0.2756629\ttotal: 394ms\tremaining: 2.75s\n",
      "125:\tlearn: 0.2745275\ttotal: 396ms\tremaining: 2.75s\n",
      "126:\tlearn: 0.2733873\ttotal: 398ms\tremaining: 2.74s\n",
      "127:\tlearn: 0.2725623\ttotal: 402ms\tremaining: 2.74s\n",
      "128:\tlearn: 0.2714016\ttotal: 406ms\tremaining: 2.74s\n",
      "129:\tlearn: 0.2702348\ttotal: 409ms\tremaining: 2.74s\n",
      "130:\tlearn: 0.2693263\ttotal: 413ms\tremaining: 2.74s\n",
      "131:\tlearn: 0.2680494\ttotal: 415ms\tremaining: 2.73s\n",
      "132:\tlearn: 0.2671437\ttotal: 417ms\tremaining: 2.72s\n",
      "133:\tlearn: 0.2664166\ttotal: 419ms\tremaining: 2.71s\n",
      "134:\tlearn: 0.2655163\ttotal: 421ms\tremaining: 2.7s\n",
      "135:\tlearn: 0.2645141\ttotal: 424ms\tremaining: 2.69s\n",
      "136:\tlearn: 0.2631318\ttotal: 426ms\tremaining: 2.69s\n",
      "137:\tlearn: 0.2624084\ttotal: 429ms\tremaining: 2.68s\n",
      "138:\tlearn: 0.2611744\ttotal: 431ms\tremaining: 2.67s\n",
      "139:\tlearn: 0.2603043\ttotal: 433ms\tremaining: 2.66s\n",
      "140:\tlearn: 0.2596521\ttotal: 436ms\tremaining: 2.65s\n",
      "141:\tlearn: 0.2586432\ttotal: 438ms\tremaining: 2.65s\n",
      "142:\tlearn: 0.2576998\ttotal: 440ms\tremaining: 2.64s\n"
     ]
    },
    {
     "name": "stdout",
     "output_type": "stream",
     "text": [
      "143:\tlearn: 0.2567651\ttotal: 444ms\tremaining: 2.64s\n",
      "144:\tlearn: 0.2558512\ttotal: 449ms\tremaining: 2.65s\n",
      "145:\tlearn: 0.2547456\ttotal: 451ms\tremaining: 2.64s\n",
      "146:\tlearn: 0.2538506\ttotal: 454ms\tremaining: 2.63s\n",
      "147:\tlearn: 0.2528159\ttotal: 456ms\tremaining: 2.63s\n",
      "148:\tlearn: 0.2520638\ttotal: 458ms\tremaining: 2.62s\n",
      "149:\tlearn: 0.2513144\ttotal: 462ms\tremaining: 2.62s\n",
      "150:\tlearn: 0.2501450\ttotal: 464ms\tremaining: 2.61s\n",
      "151:\tlearn: 0.2491263\ttotal: 466ms\tremaining: 2.6s\n",
      "152:\tlearn: 0.2478073\ttotal: 469ms\tremaining: 2.59s\n",
      "153:\tlearn: 0.2470330\ttotal: 471ms\tremaining: 2.59s\n",
      "154:\tlearn: 0.2459180\ttotal: 473ms\tremaining: 2.58s\n",
      "155:\tlearn: 0.2449800\ttotal: 475ms\tremaining: 2.57s\n",
      "156:\tlearn: 0.2443198\ttotal: 478ms\tremaining: 2.56s\n",
      "157:\tlearn: 0.2435461\ttotal: 480ms\tremaining: 2.56s\n",
      "158:\tlearn: 0.2428982\ttotal: 485ms\tremaining: 2.56s\n",
      "159:\tlearn: 0.2423593\ttotal: 487ms\tremaining: 2.56s\n",
      "160:\tlearn: 0.2417902\ttotal: 490ms\tremaining: 2.55s\n",
      "161:\tlearn: 0.2411215\ttotal: 492ms\tremaining: 2.55s\n",
      "162:\tlearn: 0.2404661\ttotal: 495ms\tremaining: 2.54s\n",
      "163:\tlearn: 0.2399516\ttotal: 497ms\tremaining: 2.53s\n",
      "164:\tlearn: 0.2393690\ttotal: 499ms\tremaining: 2.52s\n",
      "165:\tlearn: 0.2385926\ttotal: 501ms\tremaining: 2.52s\n",
      "166:\tlearn: 0.2381084\ttotal: 504ms\tremaining: 2.51s\n",
      "167:\tlearn: 0.2373313\ttotal: 506ms\tremaining: 2.51s\n"
     ]
    },
    {
     "name": "stdout",
     "output_type": "stream",
     "text": [
      "168:\tlearn: 0.2364592\ttotal: 514ms\tremaining: 2.53s\n",
      "169:\tlearn: 0.2354576\ttotal: 519ms\tremaining: 2.53s\n",
      "170:\tlearn: 0.2349394\ttotal: 543ms\tremaining: 2.63s\n",
      "171:\tlearn: 0.2340858\ttotal: 545ms\tremaining: 2.62s\n",
      "172:\tlearn: 0.2334100\ttotal: 547ms\tremaining: 2.62s\n",
      "173:\tlearn: 0.2326581\ttotal: 550ms\tremaining: 2.61s\n",
      "174:\tlearn: 0.2318024\ttotal: 552ms\tremaining: 2.6s\n",
      "175:\tlearn: 0.2311357\ttotal: 555ms\tremaining: 2.6s\n",
      "176:\tlearn: 0.2303104\ttotal: 560ms\tremaining: 2.6s\n",
      "177:\tlearn: 0.2294554\ttotal: 564ms\tremaining: 2.6s\n",
      "178:\tlearn: 0.2292416\ttotal: 574ms\tremaining: 2.63s\n",
      "179:\tlearn: 0.2285633\ttotal: 576ms\tremaining: 2.63s\n",
      "180:\tlearn: 0.2279340\ttotal: 579ms\tremaining: 2.62s\n",
      "181:\tlearn: 0.2271853\ttotal: 581ms\tremaining: 2.61s\n",
      "182:\tlearn: 0.2265210\ttotal: 584ms\tremaining: 2.6s\n",
      "183:\tlearn: 0.2256474\ttotal: 586ms\tremaining: 2.6s\n",
      "184:\tlearn: 0.2250594\ttotal: 588ms\tremaining: 2.59s\n",
      "185:\tlearn: 0.2242158\ttotal: 591ms\tremaining: 2.59s\n",
      "186:\tlearn: 0.2235965\ttotal: 594ms\tremaining: 2.58s\n"
     ]
    },
    {
     "name": "stdout",
     "output_type": "stream",
     "text": [
      "187:\tlearn: 0.2229174\ttotal: 623ms\tremaining: 2.69s\n",
      "188:\tlearn: 0.2223117\ttotal: 626ms\tremaining: 2.69s\n",
      "189:\tlearn: 0.2219678\ttotal: 629ms\tremaining: 2.68s\n",
      "190:\tlearn: 0.2213197\ttotal: 631ms\tremaining: 2.67s\n",
      "191:\tlearn: 0.2207968\ttotal: 633ms\tremaining: 2.67s\n",
      "192:\tlearn: 0.2202509\ttotal: 636ms\tremaining: 2.66s\n",
      "193:\tlearn: 0.2194369\ttotal: 638ms\tremaining: 2.65s\n",
      "194:\tlearn: 0.2188741\ttotal: 645ms\tremaining: 2.66s\n",
      "195:\tlearn: 0.2182774\ttotal: 651ms\tremaining: 2.67s\n",
      "196:\tlearn: 0.2178036\ttotal: 654ms\tremaining: 2.67s\n",
      "197:\tlearn: 0.2171023\ttotal: 657ms\tremaining: 2.66s\n",
      "198:\tlearn: 0.2165626\ttotal: 659ms\tremaining: 2.65s\n",
      "199:\tlearn: 0.2158722\ttotal: 662ms\tremaining: 2.65s\n",
      "200:\tlearn: 0.2153750\ttotal: 664ms\tremaining: 2.64s\n",
      "201:\tlearn: 0.2150264\ttotal: 667ms\tremaining: 2.63s\n",
      "202:\tlearn: 0.2145277\ttotal: 669ms\tremaining: 2.63s\n",
      "203:\tlearn: 0.2137959\ttotal: 672ms\tremaining: 2.62s\n",
      "204:\tlearn: 0.2131379\ttotal: 673ms\tremaining: 2.61s\n",
      "205:\tlearn: 0.2126697\ttotal: 675ms\tremaining: 2.6s\n",
      "206:\tlearn: 0.2119261\ttotal: 678ms\tremaining: 2.6s\n",
      "207:\tlearn: 0.2113630\ttotal: 680ms\tremaining: 2.59s\n"
     ]
    },
    {
     "name": "stdout",
     "output_type": "stream",
     "text": [
      "208:\tlearn: 0.2108304\ttotal: 698ms\tremaining: 2.64s\n",
      "209:\tlearn: 0.2103690\ttotal: 702ms\tremaining: 2.64s\n",
      "210:\tlearn: 0.2097930\ttotal: 705ms\tremaining: 2.63s\n",
      "211:\tlearn: 0.2093221\ttotal: 707ms\tremaining: 2.63s\n",
      "212:\tlearn: 0.2090556\ttotal: 710ms\tremaining: 2.62s\n",
      "213:\tlearn: 0.2083872\ttotal: 712ms\tremaining: 2.61s\n",
      "214:\tlearn: 0.2079681\ttotal: 714ms\tremaining: 2.61s\n",
      "215:\tlearn: 0.2073470\ttotal: 717ms\tremaining: 2.6s\n",
      "216:\tlearn: 0.2069011\ttotal: 719ms\tremaining: 2.59s\n",
      "217:\tlearn: 0.2064081\ttotal: 724ms\tremaining: 2.6s\n",
      "218:\tlearn: 0.2059084\ttotal: 728ms\tremaining: 2.6s\n",
      "219:\tlearn: 0.2053123\ttotal: 733ms\tremaining: 2.6s\n",
      "220:\tlearn: 0.2047321\ttotal: 737ms\tremaining: 2.6s\n",
      "221:\tlearn: 0.2044015\ttotal: 741ms\tremaining: 2.6s\n",
      "222:\tlearn: 0.2038632\ttotal: 744ms\tremaining: 2.59s\n",
      "223:\tlearn: 0.2035293\ttotal: 746ms\tremaining: 2.58s\n",
      "224:\tlearn: 0.2030481\ttotal: 748ms\tremaining: 2.58s\n",
      "225:\tlearn: 0.2024402\ttotal: 750ms\tremaining: 2.57s\n",
      "226:\tlearn: 0.2017483\ttotal: 754ms\tremaining: 2.57s\n",
      "227:\tlearn: 0.2012359\ttotal: 757ms\tremaining: 2.56s\n",
      "228:\tlearn: 0.2006088\ttotal: 761ms\tremaining: 2.56s\n"
     ]
    },
    {
     "name": "stdout",
     "output_type": "stream",
     "text": [
      "229:\tlearn: 0.2001959\ttotal: 846ms\tremaining: 2.83s\n",
      "230:\tlearn: 0.1996122\ttotal: 853ms\tremaining: 2.84s\n",
      "231:\tlearn: 0.1990747\ttotal: 856ms\tremaining: 2.83s\n",
      "232:\tlearn: 0.1988062\ttotal: 859ms\tremaining: 2.83s\n",
      "233:\tlearn: 0.1982568\ttotal: 862ms\tremaining: 2.82s\n",
      "234:\tlearn: 0.1978251\ttotal: 865ms\tremaining: 2.82s\n",
      "235:\tlearn: 0.1975605\ttotal: 869ms\tremaining: 2.81s\n"
     ]
    },
    {
     "name": "stdout",
     "output_type": "stream",
     "text": [
      "236:\tlearn: 0.1969517\ttotal: 896ms\tremaining: 2.88s\n",
      "237:\tlearn: 0.1966515\ttotal: 898ms\tremaining: 2.88s\n",
      "238:\tlearn: 0.1963453\ttotal: 901ms\tremaining: 2.87s\n",
      "239:\tlearn: 0.1958904\ttotal: 904ms\tremaining: 2.86s\n",
      "240:\tlearn: 0.1954229\ttotal: 906ms\tremaining: 2.85s\n",
      "241:\tlearn: 0.1949869\ttotal: 910ms\tremaining: 2.85s\n",
      "242:\tlearn: 0.1943082\ttotal: 914ms\tremaining: 2.85s\n",
      "243:\tlearn: 0.1939483\ttotal: 917ms\tremaining: 2.84s\n",
      "244:\tlearn: 0.1935484\ttotal: 922ms\tremaining: 2.84s\n",
      "245:\tlearn: 0.1931399\ttotal: 924ms\tremaining: 2.83s\n",
      "246:\tlearn: 0.1924859\ttotal: 926ms\tremaining: 2.82s\n",
      "247:\tlearn: 0.1919848\ttotal: 929ms\tremaining: 2.81s\n",
      "248:\tlearn: 0.1916532\ttotal: 931ms\tremaining: 2.81s\n",
      "249:\tlearn: 0.1908246\ttotal: 934ms\tremaining: 2.8s\n",
      "250:\tlearn: 0.1903217\ttotal: 938ms\tremaining: 2.8s\n",
      "251:\tlearn: 0.1898162\ttotal: 941ms\tremaining: 2.79s\n",
      "252:\tlearn: 0.1891554\ttotal: 950ms\tremaining: 2.8s\n"
     ]
    },
    {
     "name": "stdout",
     "output_type": "stream",
     "text": [
      "253:\tlearn: 0.1885841\ttotal: 953ms\tremaining: 2.8s\n",
      "254:\tlearn: 0.1881706\ttotal: 956ms\tremaining: 2.79s\n",
      "255:\tlearn: 0.1877690\ttotal: 961ms\tremaining: 2.79s\n",
      "256:\tlearn: 0.1871974\ttotal: 965ms\tremaining: 2.79s\n",
      "257:\tlearn: 0.1868634\ttotal: 968ms\tremaining: 2.79s\n",
      "258:\tlearn: 0.1862592\ttotal: 971ms\tremaining: 2.78s\n",
      "259:\tlearn: 0.1858115\ttotal: 974ms\tremaining: 2.77s\n",
      "260:\tlearn: 0.1855951\ttotal: 976ms\tremaining: 2.76s\n",
      "261:\tlearn: 0.1851526\ttotal: 979ms\tremaining: 2.76s\n",
      "262:\tlearn: 0.1845614\ttotal: 981ms\tremaining: 2.75s\n",
      "263:\tlearn: 0.1839441\ttotal: 982ms\tremaining: 2.74s\n",
      "264:\tlearn: 0.1834369\ttotal: 984ms\tremaining: 2.73s\n"
     ]
    },
    {
     "name": "stdout",
     "output_type": "stream",
     "text": [
      "265:\tlearn: 0.1827643\ttotal: 986ms\tremaining: 2.72s\n",
      "266:\tlearn: 0.1823236\ttotal: 989ms\tremaining: 2.71s\n",
      "267:\tlearn: 0.1819307\ttotal: 990ms\tremaining: 2.7s\n",
      "268:\tlearn: 0.1814801\ttotal: 992ms\tremaining: 2.69s\n",
      "269:\tlearn: 0.1809183\ttotal: 995ms\tremaining: 2.69s\n",
      "270:\tlearn: 0.1803628\ttotal: 998ms\tremaining: 2.68s\n",
      "271:\tlearn: 0.1801757\ttotal: 1.02s\tremaining: 2.72s\n",
      "272:\tlearn: 0.1796901\ttotal: 1.03s\tremaining: 2.74s\n",
      "273:\tlearn: 0.1792647\ttotal: 1.03s\tremaining: 2.74s\n",
      "274:\tlearn: 0.1788802\ttotal: 1.04s\tremaining: 2.73s\n",
      "275:\tlearn: 0.1784989\ttotal: 1.04s\tremaining: 2.73s\n",
      "276:\tlearn: 0.1780498\ttotal: 1.05s\tremaining: 2.73s\n",
      "277:\tlearn: 0.1777170\ttotal: 1.05s\tremaining: 2.73s\n",
      "278:\tlearn: 0.1771846\ttotal: 1.05s\tremaining: 2.73s\n",
      "279:\tlearn: 0.1767398\ttotal: 1.06s\tremaining: 2.72s\n",
      "280:\tlearn: 0.1763820\ttotal: 1.06s\tremaining: 2.71s\n",
      "281:\tlearn: 0.1757795\ttotal: 1.06s\tremaining: 2.7s\n",
      "282:\tlearn: 0.1754058\ttotal: 1.07s\tremaining: 2.7s\n",
      "283:\tlearn: 0.1748434\ttotal: 1.07s\tremaining: 2.7s\n",
      "284:\tlearn: 0.1743318\ttotal: 1.07s\tremaining: 2.69s\n",
      "285:\tlearn: 0.1739959\ttotal: 1.07s\tremaining: 2.69s\n",
      "286:\tlearn: 0.1735806\ttotal: 1.08s\tremaining: 2.68s\n",
      "287:\tlearn: 0.1732254\ttotal: 1.08s\tremaining: 2.67s\n",
      "288:\tlearn: 0.1727844\ttotal: 1.08s\tremaining: 2.67s\n",
      "289:\tlearn: 0.1726677\ttotal: 1.09s\tremaining: 2.66s\n",
      "290:\tlearn: 0.1722269\ttotal: 1.09s\tremaining: 2.66s\n",
      "291:\tlearn: 0.1718568\ttotal: 1.09s\tremaining: 2.65s\n",
      "292:\tlearn: 0.1712775\ttotal: 1.09s\tremaining: 2.64s\n",
      "293:\tlearn: 0.1709308\ttotal: 1.1s\tremaining: 2.64s\n",
      "294:\tlearn: 0.1705423\ttotal: 1.1s\tremaining: 2.63s\n",
      "295:\tlearn: 0.1700746\ttotal: 1.1s\tremaining: 2.62s\n"
     ]
    },
    {
     "name": "stdout",
     "output_type": "stream",
     "text": [
      "296:\tlearn: 0.1696670\ttotal: 1.11s\tremaining: 2.62s\n",
      "297:\tlearn: 0.1694098\ttotal: 1.12s\tremaining: 2.63s\n",
      "298:\tlearn: 0.1689881\ttotal: 1.12s\tremaining: 2.62s\n",
      "299:\tlearn: 0.1685632\ttotal: 1.12s\tremaining: 2.62s\n",
      "300:\tlearn: 0.1680899\ttotal: 1.12s\tremaining: 2.61s\n",
      "301:\tlearn: 0.1678382\ttotal: 1.13s\tremaining: 2.6s\n",
      "302:\tlearn: 0.1674070\ttotal: 1.13s\tremaining: 2.6s\n",
      "303:\tlearn: 0.1669183\ttotal: 1.13s\tremaining: 2.59s\n",
      "304:\tlearn: 0.1666790\ttotal: 1.13s\tremaining: 2.58s\n",
      "305:\tlearn: 0.1663344\ttotal: 1.14s\tremaining: 2.58s\n"
     ]
    },
    {
     "name": "stdout",
     "output_type": "stream",
     "text": [
      "306:\tlearn: 0.1658709\ttotal: 1.14s\tremaining: 2.57s\n",
      "307:\tlearn: 0.1654435\ttotal: 1.14s\tremaining: 2.56s\n",
      "308:\tlearn: 0.1652333\ttotal: 1.14s\tremaining: 2.56s\n",
      "309:\tlearn: 0.1651449\ttotal: 1.15s\tremaining: 2.55s\n",
      "310:\tlearn: 0.1646561\ttotal: 1.15s\tremaining: 2.54s\n",
      "311:\tlearn: 0.1642678\ttotal: 1.15s\tremaining: 2.54s\n",
      "312:\tlearn: 0.1638329\ttotal: 1.17s\tremaining: 2.56s\n",
      "313:\tlearn: 0.1637444\ttotal: 1.17s\tremaining: 2.56s\n",
      "314:\tlearn: 0.1634160\ttotal: 1.18s\tremaining: 2.56s\n",
      "315:\tlearn: 0.1633176\ttotal: 1.18s\tremaining: 2.55s\n",
      "316:\tlearn: 0.1628227\ttotal: 1.18s\tremaining: 2.54s\n",
      "317:\tlearn: 0.1623697\ttotal: 1.18s\tremaining: 2.54s\n",
      "318:\tlearn: 0.1620278\ttotal: 1.19s\tremaining: 2.53s\n",
      "319:\tlearn: 0.1616341\ttotal: 1.19s\tremaining: 2.53s\n",
      "320:\tlearn: 0.1612701\ttotal: 1.19s\tremaining: 2.52s\n",
      "321:\tlearn: 0.1608411\ttotal: 1.19s\tremaining: 2.52s\n",
      "322:\tlearn: 0.1606654\ttotal: 1.2s\tremaining: 2.51s\n",
      "323:\tlearn: 0.1602955\ttotal: 1.22s\tremaining: 2.54s\n",
      "324:\tlearn: 0.1599387\ttotal: 1.22s\tremaining: 2.53s\n",
      "325:\tlearn: 0.1595785\ttotal: 1.22s\tremaining: 2.53s\n",
      "326:\tlearn: 0.1591045\ttotal: 1.23s\tremaining: 2.52s\n",
      "327:\tlearn: 0.1588015\ttotal: 1.23s\tremaining: 2.52s\n",
      "328:\tlearn: 0.1583158\ttotal: 1.23s\tremaining: 2.51s\n",
      "329:\tlearn: 0.1579588\ttotal: 1.23s\tremaining: 2.5s\n",
      "330:\tlearn: 0.1574999\ttotal: 1.24s\tremaining: 2.5s\n",
      "331:\tlearn: 0.1573755\ttotal: 1.24s\tremaining: 2.49s\n",
      "332:\tlearn: 0.1569784\ttotal: 1.24s\tremaining: 2.49s\n",
      "333:\tlearn: 0.1568941\ttotal: 1.26s\tremaining: 2.52s\n",
      "334:\tlearn: 0.1565901\ttotal: 1.26s\tremaining: 2.51s\n",
      "335:\tlearn: 0.1560323\ttotal: 1.27s\tremaining: 2.5s\n",
      "336:\tlearn: 0.1555799\ttotal: 1.27s\tremaining: 2.5s\n",
      "337:\tlearn: 0.1550957\ttotal: 1.27s\tremaining: 2.49s\n",
      "338:\tlearn: 0.1550168\ttotal: 1.27s\tremaining: 2.48s\n",
      "339:\tlearn: 0.1546076\ttotal: 1.28s\tremaining: 2.48s\n",
      "340:\tlearn: 0.1540566\ttotal: 1.28s\tremaining: 2.47s\n",
      "341:\tlearn: 0.1539805\ttotal: 1.28s\tremaining: 2.47s\n"
     ]
    },
    {
     "name": "stdout",
     "output_type": "stream",
     "text": [
      "342:\tlearn: 0.1535430\ttotal: 1.29s\tremaining: 2.46s\n",
      "343:\tlearn: 0.1530045\ttotal: 1.29s\tremaining: 2.46s\n",
      "344:\tlearn: 0.1527178\ttotal: 1.29s\tremaining: 2.45s\n",
      "345:\tlearn: 0.1524391\ttotal: 1.29s\tremaining: 2.45s\n",
      "346:\tlearn: 0.1522346\ttotal: 1.3s\tremaining: 2.44s\n",
      "347:\tlearn: 0.1521333\ttotal: 1.3s\tremaining: 2.43s\n",
      "348:\tlearn: 0.1517119\ttotal: 1.3s\tremaining: 2.43s\n"
     ]
    },
    {
     "name": "stdout",
     "output_type": "stream",
     "text": [
      "349:\tlearn: 0.1513052\ttotal: 1.3s\tremaining: 2.42s\n",
      "350:\tlearn: 0.1508322\ttotal: 1.31s\tremaining: 2.42s\n",
      "351:\tlearn: 0.1507673\ttotal: 1.31s\tremaining: 2.42s\n",
      "352:\tlearn: 0.1503886\ttotal: 1.33s\tremaining: 2.44s\n",
      "353:\tlearn: 0.1500831\ttotal: 1.34s\tremaining: 2.44s\n",
      "354:\tlearn: 0.1495523\ttotal: 1.34s\tremaining: 2.43s\n",
      "355:\tlearn: 0.1491300\ttotal: 1.34s\tremaining: 2.42s\n",
      "356:\tlearn: 0.1488061\ttotal: 1.34s\tremaining: 2.42s\n",
      "357:\tlearn: 0.1484846\ttotal: 1.34s\tremaining: 2.41s\n",
      "358:\tlearn: 0.1481907\ttotal: 1.35s\tremaining: 2.41s\n",
      "359:\tlearn: 0.1478559\ttotal: 1.35s\tremaining: 2.4s\n",
      "360:\tlearn: 0.1475501\ttotal: 1.35s\tremaining: 2.4s\n",
      "361:\tlearn: 0.1470988\ttotal: 1.36s\tremaining: 2.39s\n",
      "362:\tlearn: 0.1467885\ttotal: 1.37s\tremaining: 2.41s\n",
      "363:\tlearn: 0.1467210\ttotal: 1.37s\tremaining: 2.4s\n",
      "364:\tlearn: 0.1465401\ttotal: 1.38s\tremaining: 2.4s\n",
      "365:\tlearn: 0.1461546\ttotal: 1.38s\tremaining: 2.39s\n",
      "366:\tlearn: 0.1456698\ttotal: 1.38s\tremaining: 2.38s\n",
      "367:\tlearn: 0.1454952\ttotal: 1.38s\tremaining: 2.38s\n",
      "368:\tlearn: 0.1450782\ttotal: 1.39s\tremaining: 2.37s\n",
      "369:\tlearn: 0.1449095\ttotal: 1.39s\tremaining: 2.36s\n",
      "370:\tlearn: 0.1448498\ttotal: 1.39s\tremaining: 2.36s\n",
      "371:\tlearn: 0.1442921\ttotal: 1.39s\tremaining: 2.35s\n",
      "372:\tlearn: 0.1438367\ttotal: 1.39s\tremaining: 2.34s\n",
      "373:\tlearn: 0.1437845\ttotal: 1.4s\tremaining: 2.34s\n",
      "374:\tlearn: 0.1434541\ttotal: 1.4s\tremaining: 2.33s\n",
      "375:\tlearn: 0.1430849\ttotal: 1.4s\tremaining: 2.33s\n",
      "376:\tlearn: 0.1426920\ttotal: 1.42s\tremaining: 2.35s\n",
      "377:\tlearn: 0.1424443\ttotal: 1.43s\tremaining: 2.35s\n",
      "378:\tlearn: 0.1423141\ttotal: 1.43s\tremaining: 2.34s\n",
      "379:\tlearn: 0.1422551\ttotal: 1.43s\tremaining: 2.33s\n",
      "380:\tlearn: 0.1419622\ttotal: 1.43s\tremaining: 2.33s\n",
      "381:\tlearn: 0.1416074\ttotal: 1.44s\tremaining: 2.32s\n",
      "382:\tlearn: 0.1415494\ttotal: 1.44s\tremaining: 2.32s\n",
      "383:\tlearn: 0.1411589\ttotal: 1.45s\tremaining: 2.32s\n",
      "384:\tlearn: 0.1407768\ttotal: 1.45s\tremaining: 2.31s\n",
      "385:\tlearn: 0.1403623\ttotal: 1.45s\tremaining: 2.31s\n",
      "386:\tlearn: 0.1400101\ttotal: 1.45s\tremaining: 2.3s\n"
     ]
    },
    {
     "name": "stdout",
     "output_type": "stream",
     "text": [
      "387:\tlearn: 0.1398394\ttotal: 1.46s\tremaining: 2.3s\n",
      "388:\tlearn: 0.1393185\ttotal: 1.46s\tremaining: 2.29s\n",
      "389:\tlearn: 0.1392699\ttotal: 1.46s\tremaining: 2.29s\n",
      "390:\tlearn: 0.1390428\ttotal: 1.47s\tremaining: 2.28s\n",
      "391:\tlearn: 0.1386794\ttotal: 1.47s\tremaining: 2.28s\n",
      "392:\tlearn: 0.1383870\ttotal: 1.47s\tremaining: 2.27s\n",
      "393:\tlearn: 0.1381133\ttotal: 1.47s\tremaining: 2.26s\n"
     ]
    },
    {
     "name": "stdout",
     "output_type": "stream",
     "text": [
      "394:\tlearn: 0.1378876\ttotal: 1.48s\tremaining: 2.26s\n",
      "395:\tlearn: 0.1375105\ttotal: 1.48s\tremaining: 2.25s\n",
      "396:\tlearn: 0.1372310\ttotal: 1.49s\tremaining: 2.26s\n",
      "397:\tlearn: 0.1369644\ttotal: 1.5s\tremaining: 2.27s\n",
      "398:\tlearn: 0.1366417\ttotal: 1.5s\tremaining: 2.26s\n",
      "399:\tlearn: 0.1363261\ttotal: 1.5s\tremaining: 2.26s\n",
      "400:\tlearn: 0.1359378\ttotal: 1.51s\tremaining: 2.25s\n",
      "401:\tlearn: 0.1356661\ttotal: 1.51s\tremaining: 2.25s\n",
      "402:\tlearn: 0.1354083\ttotal: 1.51s\tremaining: 2.24s\n",
      "403:\tlearn: 0.1351816\ttotal: 1.51s\tremaining: 2.23s\n",
      "404:\tlearn: 0.1348274\ttotal: 1.52s\tremaining: 2.23s\n",
      "405:\tlearn: 0.1346053\ttotal: 1.52s\tremaining: 2.22s\n",
      "406:\tlearn: 0.1342080\ttotal: 1.52s\tremaining: 2.22s\n",
      "407:\tlearn: 0.1337768\ttotal: 1.53s\tremaining: 2.22s\n",
      "408:\tlearn: 0.1334908\ttotal: 1.53s\tremaining: 2.21s\n",
      "409:\tlearn: 0.1333066\ttotal: 1.54s\tremaining: 2.21s\n",
      "410:\tlearn: 0.1330240\ttotal: 1.55s\tremaining: 2.22s\n",
      "411:\tlearn: 0.1329724\ttotal: 1.55s\tremaining: 2.21s\n",
      "412:\tlearn: 0.1326362\ttotal: 1.55s\tremaining: 2.21s\n",
      "413:\tlearn: 0.1324207\ttotal: 1.55s\tremaining: 2.2s\n",
      "414:\tlearn: 0.1323379\ttotal: 1.56s\tremaining: 2.19s\n",
      "415:\tlearn: 0.1320712\ttotal: 1.56s\tremaining: 2.19s\n",
      "416:\tlearn: 0.1316758\ttotal: 1.56s\tremaining: 2.18s\n",
      "417:\tlearn: 0.1316317\ttotal: 1.56s\tremaining: 2.18s\n",
      "418:\tlearn: 0.1312753\ttotal: 1.57s\tremaining: 2.18s\n",
      "419:\tlearn: 0.1311988\ttotal: 1.57s\tremaining: 2.17s\n",
      "420:\tlearn: 0.1308143\ttotal: 1.58s\tremaining: 2.17s\n",
      "421:\tlearn: 0.1305558\ttotal: 1.58s\tremaining: 2.16s\n",
      "422:\tlearn: 0.1301884\ttotal: 1.58s\tremaining: 2.16s\n",
      "423:\tlearn: 0.1301552\ttotal: 1.58s\tremaining: 2.15s\n",
      "424:\tlearn: 0.1299359\ttotal: 1.58s\tremaining: 2.15s\n",
      "425:\tlearn: 0.1297155\ttotal: 1.59s\tremaining: 2.14s\n",
      "426:\tlearn: 0.1294564\ttotal: 1.59s\tremaining: 2.13s\n",
      "427:\tlearn: 0.1293176\ttotal: 1.59s\tremaining: 2.13s\n",
      "428:\tlearn: 0.1290039\ttotal: 1.6s\tremaining: 2.13s\n",
      "429:\tlearn: 0.1288737\ttotal: 1.6s\tremaining: 2.12s\n",
      "430:\tlearn: 0.1288380\ttotal: 1.6s\tremaining: 2.11s\n",
      "431:\tlearn: 0.1284659\ttotal: 1.6s\tremaining: 2.11s\n",
      "432:\tlearn: 0.1282936\ttotal: 1.61s\tremaining: 2.1s\n",
      "433:\tlearn: 0.1281204\ttotal: 1.61s\tremaining: 2.1s\n",
      "434:\tlearn: 0.1279197\ttotal: 1.61s\tremaining: 2.09s\n",
      "435:\tlearn: 0.1275099\ttotal: 1.61s\tremaining: 2.09s\n",
      "436:\tlearn: 0.1272585\ttotal: 1.62s\tremaining: 2.08s\n",
      "437:\tlearn: 0.1269768\ttotal: 1.62s\tremaining: 2.08s\n"
     ]
    },
    {
     "name": "stdout",
     "output_type": "stream",
     "text": [
      "438:\tlearn: 0.1269436\ttotal: 1.62s\tremaining: 2.07s\n",
      "439:\tlearn: 0.1265889\ttotal: 1.62s\tremaining: 2.07s\n",
      "440:\tlearn: 0.1265376\ttotal: 1.63s\tremaining: 2.06s\n",
      "441:\tlearn: 0.1263257\ttotal: 1.63s\tremaining: 2.06s\n",
      "442:\tlearn: 0.1261683\ttotal: 1.63s\tremaining: 2.05s\n",
      "443:\tlearn: 0.1258953\ttotal: 1.63s\tremaining: 2.05s\n",
      "444:\tlearn: 0.1257233\ttotal: 1.64s\tremaining: 2.04s\n",
      "445:\tlearn: 0.1253911\ttotal: 1.64s\tremaining: 2.04s\n"
     ]
    },
    {
     "name": "stdout",
     "output_type": "stream",
     "text": [
      "446:\tlearn: 0.1253742\ttotal: 1.64s\tremaining: 2.03s\n",
      "447:\tlearn: 0.1251105\ttotal: 1.65s\tremaining: 2.03s\n",
      "448:\tlearn: 0.1248431\ttotal: 1.65s\tremaining: 2.02s\n",
      "449:\tlearn: 0.1244899\ttotal: 1.65s\tremaining: 2.02s\n",
      "450:\tlearn: 0.1241991\ttotal: 1.66s\tremaining: 2.01s\n",
      "451:\tlearn: 0.1239098\ttotal: 1.66s\tremaining: 2.01s\n",
      "452:\tlearn: 0.1235372\ttotal: 1.66s\tremaining: 2s\n",
      "453:\tlearn: 0.1232227\ttotal: 1.66s\tremaining: 2s\n",
      "454:\tlearn: 0.1229307\ttotal: 1.66s\tremaining: 1.99s\n",
      "455:\tlearn: 0.1226879\ttotal: 1.67s\tremaining: 1.99s\n",
      "456:\tlearn: 0.1226427\ttotal: 1.67s\tremaining: 1.98s\n",
      "457:\tlearn: 0.1226083\ttotal: 1.67s\tremaining: 1.98s\n",
      "458:\tlearn: 0.1224420\ttotal: 1.67s\tremaining: 1.97s\n",
      "459:\tlearn: 0.1223317\ttotal: 1.68s\tremaining: 1.97s\n",
      "460:\tlearn: 0.1219911\ttotal: 1.68s\tremaining: 1.96s\n",
      "461:\tlearn: 0.1217815\ttotal: 1.68s\tremaining: 1.96s\n",
      "462:\tlearn: 0.1216709\ttotal: 1.68s\tremaining: 1.95s\n",
      "463:\tlearn: 0.1214764\ttotal: 1.69s\tremaining: 1.95s\n",
      "464:\tlearn: 0.1211864\ttotal: 1.69s\tremaining: 1.94s\n",
      "465:\tlearn: 0.1211442\ttotal: 1.69s\tremaining: 1.94s\n",
      "466:\tlearn: 0.1208586\ttotal: 1.69s\tremaining: 1.93s\n",
      "467:\tlearn: 0.1206085\ttotal: 1.7s\tremaining: 1.93s\n",
      "468:\tlearn: 0.1202091\ttotal: 1.7s\tremaining: 1.92s\n",
      "469:\tlearn: 0.1199786\ttotal: 1.7s\tremaining: 1.92s\n",
      "470:\tlearn: 0.1196058\ttotal: 1.7s\tremaining: 1.91s\n",
      "471:\tlearn: 0.1195589\ttotal: 1.71s\tremaining: 1.91s\n",
      "472:\tlearn: 0.1193287\ttotal: 1.71s\tremaining: 1.9s\n",
      "473:\tlearn: 0.1191052\ttotal: 1.71s\tremaining: 1.9s\n",
      "474:\tlearn: 0.1188367\ttotal: 1.71s\tremaining: 1.89s\n",
      "475:\tlearn: 0.1186316\ttotal: 1.72s\tremaining: 1.89s\n",
      "476:\tlearn: 0.1183908\ttotal: 1.72s\tremaining: 1.89s\n",
      "477:\tlearn: 0.1180989\ttotal: 1.72s\tremaining: 1.88s\n",
      "478:\tlearn: 0.1178511\ttotal: 1.72s\tremaining: 1.88s\n",
      "479:\tlearn: 0.1176073\ttotal: 1.73s\tremaining: 1.87s\n",
      "480:\tlearn: 0.1175744\ttotal: 1.73s\tremaining: 1.86s\n",
      "481:\tlearn: 0.1173180\ttotal: 1.73s\tremaining: 1.86s\n",
      "482:\tlearn: 0.1170367\ttotal: 1.73s\tremaining: 1.86s\n",
      "483:\tlearn: 0.1166947\ttotal: 1.74s\tremaining: 1.85s\n",
      "484:\tlearn: 0.1165576\ttotal: 1.74s\tremaining: 1.85s\n",
      "485:\tlearn: 0.1163506\ttotal: 1.74s\tremaining: 1.84s\n",
      "486:\tlearn: 0.1161351\ttotal: 1.74s\tremaining: 1.84s\n",
      "487:\tlearn: 0.1158628\ttotal: 1.74s\tremaining: 1.83s\n",
      "488:\tlearn: 0.1157559\ttotal: 1.75s\tremaining: 1.82s\n",
      "489:\tlearn: 0.1155516\ttotal: 1.75s\tremaining: 1.82s\n",
      "490:\tlearn: 0.1152925\ttotal: 1.75s\tremaining: 1.81s\n",
      "491:\tlearn: 0.1150322\ttotal: 1.75s\tremaining: 1.81s\n",
      "492:\tlearn: 0.1146851\ttotal: 1.75s\tremaining: 1.8s\n",
      "493:\tlearn: 0.1143766\ttotal: 1.76s\tremaining: 1.8s\n",
      "494:\tlearn: 0.1141086\ttotal: 1.76s\tremaining: 1.79s\n",
      "495:\tlearn: 0.1138652\ttotal: 1.76s\tremaining: 1.79s\n",
      "496:\tlearn: 0.1136411\ttotal: 1.76s\tremaining: 1.78s\n",
      "497:\tlearn: 0.1135133\ttotal: 1.76s\tremaining: 1.78s\n",
      "498:\tlearn: 0.1132620\ttotal: 1.77s\tremaining: 1.77s\n",
      "499:\tlearn: 0.1130278\ttotal: 1.77s\tremaining: 1.77s\n",
      "500:\tlearn: 0.1127912\ttotal: 1.77s\tremaining: 1.76s\n",
      "501:\tlearn: 0.1127766\ttotal: 1.77s\tremaining: 1.76s\n",
      "502:\tlearn: 0.1127187\ttotal: 1.78s\tremaining: 1.76s\n",
      "503:\tlearn: 0.1126300\ttotal: 1.78s\tremaining: 1.75s\n",
      "504:\tlearn: 0.1123038\ttotal: 1.78s\tremaining: 1.75s\n",
      "505:\tlearn: 0.1119769\ttotal: 1.78s\tremaining: 1.74s\n",
      "506:\tlearn: 0.1116721\ttotal: 1.79s\tremaining: 1.74s\n",
      "507:\tlearn: 0.1116583\ttotal: 1.79s\tremaining: 1.73s\n",
      "508:\tlearn: 0.1113513\ttotal: 1.79s\tremaining: 1.73s\n",
      "509:\tlearn: 0.1111340\ttotal: 1.79s\tremaining: 1.72s\n"
     ]
    },
    {
     "name": "stdout",
     "output_type": "stream",
     "text": [
      "510:\tlearn: 0.1110863\ttotal: 1.79s\tremaining: 1.72s\n",
      "511:\tlearn: 0.1109151\ttotal: 1.8s\tremaining: 1.71s\n",
      "512:\tlearn: 0.1106817\ttotal: 1.8s\tremaining: 1.71s\n",
      "513:\tlearn: 0.1104649\ttotal: 1.8s\tremaining: 1.7s\n",
      "514:\tlearn: 0.1100997\ttotal: 1.8s\tremaining: 1.7s\n",
      "515:\tlearn: 0.1098913\ttotal: 1.8s\tremaining: 1.69s\n",
      "516:\tlearn: 0.1096566\ttotal: 1.81s\tremaining: 1.69s\n",
      "517:\tlearn: 0.1095624\ttotal: 1.81s\tremaining: 1.68s\n",
      "518:\tlearn: 0.1092840\ttotal: 1.81s\tremaining: 1.68s\n",
      "519:\tlearn: 0.1090868\ttotal: 1.82s\tremaining: 1.68s\n",
      "520:\tlearn: 0.1088747\ttotal: 1.82s\tremaining: 1.67s\n"
     ]
    },
    {
     "name": "stdout",
     "output_type": "stream",
     "text": [
      "521:\tlearn: 0.1085978\ttotal: 1.82s\tremaining: 1.67s\n",
      "522:\tlearn: 0.1082956\ttotal: 1.82s\tremaining: 1.66s\n",
      "523:\tlearn: 0.1082262\ttotal: 1.83s\tremaining: 1.66s\n",
      "524:\tlearn: 0.1080219\ttotal: 1.83s\tremaining: 1.65s\n",
      "525:\tlearn: 0.1077957\ttotal: 1.83s\tremaining: 1.65s\n",
      "526:\tlearn: 0.1076580\ttotal: 1.83s\tremaining: 1.65s\n",
      "527:\tlearn: 0.1075615\ttotal: 1.83s\tremaining: 1.64s\n",
      "528:\tlearn: 0.1073225\ttotal: 1.84s\tremaining: 1.64s\n",
      "529:\tlearn: 0.1071618\ttotal: 1.84s\tremaining: 1.63s\n",
      "530:\tlearn: 0.1070398\ttotal: 1.84s\tremaining: 1.63s\n",
      "531:\tlearn: 0.1068022\ttotal: 1.84s\tremaining: 1.62s\n",
      "532:\tlearn: 0.1065437\ttotal: 1.85s\tremaining: 1.62s\n",
      "533:\tlearn: 0.1062483\ttotal: 1.85s\tremaining: 1.61s\n",
      "534:\tlearn: 0.1060074\ttotal: 1.85s\tremaining: 1.61s\n",
      "535:\tlearn: 0.1058024\ttotal: 1.86s\tremaining: 1.61s\n",
      "536:\tlearn: 0.1056227\ttotal: 1.86s\tremaining: 1.6s\n",
      "537:\tlearn: 0.1054568\ttotal: 1.86s\tremaining: 1.6s\n",
      "538:\tlearn: 0.1052534\ttotal: 1.86s\tremaining: 1.59s\n",
      "539:\tlearn: 0.1050014\ttotal: 1.87s\tremaining: 1.59s\n",
      "540:\tlearn: 0.1047948\ttotal: 1.87s\tremaining: 1.58s\n",
      "541:\tlearn: 0.1046060\ttotal: 1.87s\tremaining: 1.58s\n",
      "542:\tlearn: 0.1044127\ttotal: 1.87s\tremaining: 1.58s\n",
      "543:\tlearn: 0.1042397\ttotal: 1.88s\tremaining: 1.57s\n",
      "544:\tlearn: 0.1039435\ttotal: 1.88s\tremaining: 1.57s\n",
      "545:\tlearn: 0.1036060\ttotal: 1.88s\tremaining: 1.56s\n",
      "546:\tlearn: 0.1034201\ttotal: 1.88s\tremaining: 1.56s\n",
      "547:\tlearn: 0.1031499\ttotal: 1.88s\tremaining: 1.55s\n",
      "548:\tlearn: 0.1029724\ttotal: 1.89s\tremaining: 1.55s\n",
      "549:\tlearn: 0.1027530\ttotal: 1.89s\tremaining: 1.54s\n",
      "550:\tlearn: 0.1026293\ttotal: 1.89s\tremaining: 1.54s\n",
      "551:\tlearn: 0.1025493\ttotal: 1.89s\tremaining: 1.53s\n",
      "552:\tlearn: 0.1023442\ttotal: 1.89s\tremaining: 1.53s\n",
      "553:\tlearn: 0.1023036\ttotal: 1.89s\tremaining: 1.52s\n",
      "554:\tlearn: 0.1022741\ttotal: 1.9s\tremaining: 1.52s\n",
      "555:\tlearn: 0.1021448\ttotal: 1.9s\tremaining: 1.51s\n",
      "556:\tlearn: 0.1019708\ttotal: 1.9s\tremaining: 1.51s\n",
      "557:\tlearn: 0.1018016\ttotal: 1.9s\tremaining: 1.51s\n",
      "558:\tlearn: 0.1016241\ttotal: 1.9s\tremaining: 1.5s\n",
      "559:\tlearn: 0.1014169\ttotal: 1.91s\tremaining: 1.5s\n",
      "560:\tlearn: 0.1011737\ttotal: 1.91s\tremaining: 1.49s\n",
      "561:\tlearn: 0.1009063\ttotal: 1.91s\tremaining: 1.49s\n",
      "562:\tlearn: 0.1006884\ttotal: 1.91s\tremaining: 1.48s\n",
      "563:\tlearn: 0.1006373\ttotal: 1.91s\tremaining: 1.48s\n",
      "564:\tlearn: 0.1004565\ttotal: 1.92s\tremaining: 1.47s\n",
      "565:\tlearn: 0.1002207\ttotal: 1.92s\tremaining: 1.47s\n",
      "566:\tlearn: 0.1000601\ttotal: 1.92s\tremaining: 1.47s\n",
      "567:\tlearn: 0.0999178\ttotal: 1.92s\tremaining: 1.46s\n",
      "568:\tlearn: 0.0997607\ttotal: 1.92s\tremaining: 1.46s\n",
      "569:\tlearn: 0.0997369\ttotal: 1.93s\tremaining: 1.45s\n",
      "570:\tlearn: 0.0995824\ttotal: 1.93s\tremaining: 1.45s\n",
      "571:\tlearn: 0.0995176\ttotal: 1.93s\tremaining: 1.44s\n",
      "572:\tlearn: 0.0992586\ttotal: 1.93s\tremaining: 1.44s\n",
      "573:\tlearn: 0.0989950\ttotal: 1.93s\tremaining: 1.44s\n",
      "574:\tlearn: 0.0987972\ttotal: 1.94s\tremaining: 1.43s\n",
      "575:\tlearn: 0.0986330\ttotal: 1.94s\tremaining: 1.43s\n",
      "576:\tlearn: 0.0984387\ttotal: 1.94s\tremaining: 1.42s\n",
      "577:\tlearn: 0.0982215\ttotal: 1.94s\tremaining: 1.42s\n",
      "578:\tlearn: 0.0980942\ttotal: 1.95s\tremaining: 1.42s\n",
      "579:\tlearn: 0.0979402\ttotal: 1.95s\tremaining: 1.41s\n",
      "580:\tlearn: 0.0978639\ttotal: 1.95s\tremaining: 1.41s\n",
      "581:\tlearn: 0.0977110\ttotal: 1.95s\tremaining: 1.4s\n",
      "582:\tlearn: 0.0975689\ttotal: 1.96s\tremaining: 1.4s\n",
      "583:\tlearn: 0.0975464\ttotal: 1.96s\tremaining: 1.4s\n",
      "584:\tlearn: 0.0973551\ttotal: 1.96s\tremaining: 1.39s\n",
      "585:\tlearn: 0.0972218\ttotal: 1.96s\tremaining: 1.39s\n",
      "586:\tlearn: 0.0970604\ttotal: 1.97s\tremaining: 1.38s\n",
      "587:\tlearn: 0.0968742\ttotal: 1.97s\tremaining: 1.38s\n"
     ]
    },
    {
     "name": "stdout",
     "output_type": "stream",
     "text": [
      "588:\tlearn: 0.0966795\ttotal: 1.97s\tremaining: 1.38s\n",
      "589:\tlearn: 0.0965412\ttotal: 1.97s\tremaining: 1.37s\n",
      "590:\tlearn: 0.0963229\ttotal: 1.98s\tremaining: 1.37s\n",
      "591:\tlearn: 0.0961688\ttotal: 1.98s\tremaining: 1.36s\n",
      "592:\tlearn: 0.0959226\ttotal: 1.98s\tremaining: 1.36s\n",
      "593:\tlearn: 0.0956886\ttotal: 1.98s\tremaining: 1.35s\n",
      "594:\tlearn: 0.0955385\ttotal: 1.99s\tremaining: 1.35s\n",
      "595:\tlearn: 0.0953989\ttotal: 1.99s\tremaining: 1.35s\n",
      "596:\tlearn: 0.0952357\ttotal: 1.99s\tremaining: 1.34s\n",
      "597:\tlearn: 0.0950493\ttotal: 1.99s\tremaining: 1.34s\n",
      "598:\tlearn: 0.0948539\ttotal: 2s\tremaining: 1.34s\n",
      "599:\tlearn: 0.0947425\ttotal: 2s\tremaining: 1.33s\n"
     ]
    },
    {
     "name": "stdout",
     "output_type": "stream",
     "text": [
      "600:\tlearn: 0.0945100\ttotal: 2s\tremaining: 1.33s\n",
      "601:\tlearn: 0.0943142\ttotal: 2s\tremaining: 1.32s\n",
      "602:\tlearn: 0.0941329\ttotal: 2.01s\tremaining: 1.32s\n",
      "603:\tlearn: 0.0939670\ttotal: 2.01s\tremaining: 1.32s\n",
      "604:\tlearn: 0.0937353\ttotal: 2.01s\tremaining: 1.31s\n",
      "605:\tlearn: 0.0936460\ttotal: 2.01s\tremaining: 1.31s\n",
      "606:\tlearn: 0.0935732\ttotal: 2.02s\tremaining: 1.3s\n",
      "607:\tlearn: 0.0934167\ttotal: 2.02s\tremaining: 1.3s\n",
      "608:\tlearn: 0.0931829\ttotal: 2.02s\tremaining: 1.3s\n",
      "609:\tlearn: 0.0930080\ttotal: 2.02s\tremaining: 1.29s\n",
      "610:\tlearn: 0.0928294\ttotal: 2.03s\tremaining: 1.29s\n",
      "611:\tlearn: 0.0926243\ttotal: 2.03s\tremaining: 1.29s\n",
      "612:\tlearn: 0.0925575\ttotal: 2.03s\tremaining: 1.28s\n",
      "613:\tlearn: 0.0924385\ttotal: 2.03s\tremaining: 1.28s\n",
      "614:\tlearn: 0.0923445\ttotal: 2.04s\tremaining: 1.27s\n",
      "615:\tlearn: 0.0921321\ttotal: 2.04s\tremaining: 1.27s\n",
      "616:\tlearn: 0.0919379\ttotal: 2.04s\tremaining: 1.27s\n",
      "617:\tlearn: 0.0917511\ttotal: 2.04s\tremaining: 1.26s\n",
      "618:\tlearn: 0.0916173\ttotal: 2.04s\tremaining: 1.26s\n",
      "619:\tlearn: 0.0913880\ttotal: 2.05s\tremaining: 1.25s\n",
      "620:\tlearn: 0.0912892\ttotal: 2.05s\tremaining: 1.25s\n",
      "621:\tlearn: 0.0911355\ttotal: 2.05s\tremaining: 1.25s\n",
      "622:\tlearn: 0.0910071\ttotal: 2.05s\tremaining: 1.24s\n",
      "623:\tlearn: 0.0908011\ttotal: 2.05s\tremaining: 1.24s\n",
      "624:\tlearn: 0.0906306\ttotal: 2.05s\tremaining: 1.23s\n",
      "625:\tlearn: 0.0904860\ttotal: 2.06s\tremaining: 1.23s\n",
      "626:\tlearn: 0.0902987\ttotal: 2.06s\tremaining: 1.22s\n",
      "627:\tlearn: 0.0900395\ttotal: 2.06s\tremaining: 1.22s\n",
      "628:\tlearn: 0.0899228\ttotal: 2.06s\tremaining: 1.22s\n",
      "629:\tlearn: 0.0896115\ttotal: 2.06s\tremaining: 1.21s\n",
      "630:\tlearn: 0.0894789\ttotal: 2.07s\tremaining: 1.21s\n",
      "631:\tlearn: 0.0893551\ttotal: 2.07s\tremaining: 1.2s\n",
      "632:\tlearn: 0.0892523\ttotal: 2.07s\tremaining: 1.2s\n",
      "633:\tlearn: 0.0892012\ttotal: 2.07s\tremaining: 1.2s\n",
      "634:\tlearn: 0.0890669\ttotal: 2.07s\tremaining: 1.19s\n",
      "635:\tlearn: 0.0888777\ttotal: 2.08s\tremaining: 1.19s\n",
      "636:\tlearn: 0.0887101\ttotal: 2.08s\tremaining: 1.19s\n",
      "637:\tlearn: 0.0886019\ttotal: 2.08s\tremaining: 1.18s\n",
      "638:\tlearn: 0.0885138\ttotal: 2.09s\tremaining: 1.18s\n",
      "639:\tlearn: 0.0882862\ttotal: 2.09s\tremaining: 1.18s\n",
      "640:\tlearn: 0.0880822\ttotal: 2.1s\tremaining: 1.17s\n",
      "641:\tlearn: 0.0880006\ttotal: 2.1s\tremaining: 1.17s\n",
      "642:\tlearn: 0.0879819\ttotal: 2.1s\tremaining: 1.17s\n",
      "643:\tlearn: 0.0878392\ttotal: 2.1s\tremaining: 1.16s\n",
      "644:\tlearn: 0.0877266\ttotal: 2.1s\tremaining: 1.16s\n",
      "645:\tlearn: 0.0875685\ttotal: 2.1s\tremaining: 1.15s\n",
      "646:\tlearn: 0.0874216\ttotal: 2.1s\tremaining: 1.15s\n",
      "647:\tlearn: 0.0871905\ttotal: 2.11s\tremaining: 1.14s\n",
      "648:\tlearn: 0.0870108\ttotal: 2.11s\tremaining: 1.14s\n",
      "649:\tlearn: 0.0868371\ttotal: 2.11s\tremaining: 1.14s\n",
      "650:\tlearn: 0.0865802\ttotal: 2.12s\tremaining: 1.13s\n",
      "651:\tlearn: 0.0864807\ttotal: 2.12s\tremaining: 1.13s\n",
      "652:\tlearn: 0.0863158\ttotal: 2.13s\tremaining: 1.13s\n",
      "653:\tlearn: 0.0861948\ttotal: 2.13s\tremaining: 1.13s\n",
      "654:\tlearn: 0.0860751\ttotal: 2.13s\tremaining: 1.12s\n",
      "655:\tlearn: 0.0858613\ttotal: 2.13s\tremaining: 1.12s\n",
      "656:\tlearn: 0.0858349\ttotal: 2.14s\tremaining: 1.11s\n",
      "657:\tlearn: 0.0857728\ttotal: 2.14s\tremaining: 1.11s\n",
      "658:\tlearn: 0.0855895\ttotal: 2.14s\tremaining: 1.11s\n",
      "659:\tlearn: 0.0853858\ttotal: 2.14s\tremaining: 1.1s\n"
     ]
    },
    {
     "name": "stdout",
     "output_type": "stream",
     "text": [
      "660:\tlearn: 0.0852381\ttotal: 2.15s\tremaining: 1.1s\n",
      "661:\tlearn: 0.0850505\ttotal: 2.15s\tremaining: 1.1s\n",
      "662:\tlearn: 0.0849131\ttotal: 2.15s\tremaining: 1.09s\n"
     ]
    },
    {
     "name": "stdout",
     "output_type": "stream",
     "text": [
      "663:\tlearn: 0.0847935\ttotal: 2.18s\tremaining: 1.1s\n",
      "664:\tlearn: 0.0847018\ttotal: 2.18s\tremaining: 1.1s\n",
      "665:\tlearn: 0.0845048\ttotal: 2.19s\tremaining: 1.1s\n",
      "666:\tlearn: 0.0843684\ttotal: 2.19s\tremaining: 1.09s\n",
      "667:\tlearn: 0.0842246\ttotal: 2.19s\tremaining: 1.09s\n",
      "668:\tlearn: 0.0840050\ttotal: 2.19s\tremaining: 1.08s\n",
      "669:\tlearn: 0.0838374\ttotal: 2.19s\tremaining: 1.08s\n",
      "670:\tlearn: 0.0837406\ttotal: 2.2s\tremaining: 1.08s\n",
      "671:\tlearn: 0.0837213\ttotal: 2.2s\tremaining: 1.07s\n",
      "672:\tlearn: 0.0835181\ttotal: 2.2s\tremaining: 1.07s\n",
      "673:\tlearn: 0.0834344\ttotal: 2.21s\tremaining: 1.07s\n",
      "674:\tlearn: 0.0833133\ttotal: 2.21s\tremaining: 1.06s\n",
      "675:\tlearn: 0.0831506\ttotal: 2.21s\tremaining: 1.06s\n",
      "676:\tlearn: 0.0830221\ttotal: 2.21s\tremaining: 1.06s\n",
      "677:\tlearn: 0.0829124\ttotal: 2.22s\tremaining: 1.05s\n",
      "678:\tlearn: 0.0827560\ttotal: 2.22s\tremaining: 1.05s\n",
      "679:\tlearn: 0.0826010\ttotal: 2.22s\tremaining: 1.04s\n",
      "680:\tlearn: 0.0823954\ttotal: 2.22s\tremaining: 1.04s\n",
      "681:\tlearn: 0.0822006\ttotal: 2.23s\tremaining: 1.04s\n",
      "682:\tlearn: 0.0820843\ttotal: 2.23s\tremaining: 1.04s\n",
      "683:\tlearn: 0.0819238\ttotal: 2.23s\tremaining: 1.03s\n",
      "684:\tlearn: 0.0818526\ttotal: 2.24s\tremaining: 1.03s\n",
      "685:\tlearn: 0.0817021\ttotal: 2.24s\tremaining: 1.03s\n",
      "686:\tlearn: 0.0815536\ttotal: 2.25s\tremaining: 1.02s\n",
      "687:\tlearn: 0.0814309\ttotal: 2.25s\tremaining: 1.02s\n",
      "688:\tlearn: 0.0812820\ttotal: 2.25s\tremaining: 1.01s\n",
      "689:\tlearn: 0.0812086\ttotal: 2.25s\tremaining: 1.01s\n",
      "690:\tlearn: 0.0810669\ttotal: 2.25s\tremaining: 1.01s\n",
      "691:\tlearn: 0.0808709\ttotal: 2.26s\tremaining: 1s\n",
      "692:\tlearn: 0.0807368\ttotal: 2.26s\tremaining: 1s\n",
      "693:\tlearn: 0.0806248\ttotal: 2.26s\tremaining: 997ms\n",
      "694:\tlearn: 0.0803562\ttotal: 2.26s\tremaining: 994ms\n",
      "695:\tlearn: 0.0802573\ttotal: 2.27s\tremaining: 990ms\n",
      "696:\tlearn: 0.0800190\ttotal: 2.27s\tremaining: 987ms\n",
      "697:\tlearn: 0.0799212\ttotal: 2.27s\tremaining: 983ms\n",
      "698:\tlearn: 0.0798324\ttotal: 2.27s\tremaining: 979ms\n",
      "699:\tlearn: 0.0796859\ttotal: 2.27s\tremaining: 975ms\n",
      "700:\tlearn: 0.0795694\ttotal: 2.28s\tremaining: 972ms\n",
      "701:\tlearn: 0.0793964\ttotal: 2.28s\tremaining: 968ms\n",
      "702:\tlearn: 0.0793007\ttotal: 2.28s\tremaining: 964ms\n",
      "703:\tlearn: 0.0791347\ttotal: 2.28s\tremaining: 961ms\n",
      "704:\tlearn: 0.0790340\ttotal: 2.29s\tremaining: 957ms\n",
      "705:\tlearn: 0.0788992\ttotal: 2.29s\tremaining: 953ms\n",
      "706:\tlearn: 0.0787676\ttotal: 2.29s\tremaining: 950ms\n",
      "707:\tlearn: 0.0785778\ttotal: 2.29s\tremaining: 946ms\n",
      "708:\tlearn: 0.0784699\ttotal: 2.3s\tremaining: 943ms\n",
      "709:\tlearn: 0.0783193\ttotal: 2.3s\tremaining: 939ms\n",
      "710:\tlearn: 0.0781211\ttotal: 2.3s\tremaining: 935ms\n",
      "711:\tlearn: 0.0778924\ttotal: 2.3s\tremaining: 931ms\n"
     ]
    },
    {
     "name": "stdout",
     "output_type": "stream",
     "text": [
      "712:\tlearn: 0.0777242\ttotal: 2.3s\tremaining: 928ms\n",
      "713:\tlearn: 0.0775512\ttotal: 2.31s\tremaining: 924ms\n",
      "714:\tlearn: 0.0774598\ttotal: 2.31s\tremaining: 921ms\n",
      "715:\tlearn: 0.0772444\ttotal: 2.31s\tremaining: 917ms\n",
      "716:\tlearn: 0.0771062\ttotal: 2.31s\tremaining: 913ms\n",
      "717:\tlearn: 0.0769670\ttotal: 2.32s\tremaining: 910ms\n",
      "718:\tlearn: 0.0767638\ttotal: 2.32s\tremaining: 906ms\n",
      "719:\tlearn: 0.0766285\ttotal: 2.32s\tremaining: 904ms\n",
      "720:\tlearn: 0.0764916\ttotal: 2.33s\tremaining: 900ms\n",
      "721:\tlearn: 0.0763864\ttotal: 2.33s\tremaining: 897ms\n",
      "722:\tlearn: 0.0762660\ttotal: 2.33s\tremaining: 894ms\n",
      "723:\tlearn: 0.0761822\ttotal: 2.33s\tremaining: 890ms\n"
     ]
    },
    {
     "name": "stdout",
     "output_type": "stream",
     "text": [
      "724:\tlearn: 0.0760873\ttotal: 2.34s\tremaining: 886ms\n",
      "725:\tlearn: 0.0759661\ttotal: 2.34s\tremaining: 883ms\n",
      "726:\tlearn: 0.0759238\ttotal: 2.34s\tremaining: 880ms\n",
      "727:\tlearn: 0.0758055\ttotal: 2.34s\tremaining: 876ms\n",
      "728:\tlearn: 0.0756400\ttotal: 2.35s\tremaining: 872ms\n",
      "729:\tlearn: 0.0754799\ttotal: 2.35s\tremaining: 868ms\n",
      "730:\tlearn: 0.0754301\ttotal: 2.35s\tremaining: 865ms\n",
      "731:\tlearn: 0.0752429\ttotal: 2.35s\tremaining: 861ms\n",
      "732:\tlearn: 0.0751501\ttotal: 2.35s\tremaining: 858ms\n",
      "733:\tlearn: 0.0749934\ttotal: 2.36s\tremaining: 855ms\n",
      "734:\tlearn: 0.0748600\ttotal: 2.36s\tremaining: 851ms\n",
      "735:\tlearn: 0.0746950\ttotal: 2.36s\tremaining: 848ms\n",
      "736:\tlearn: 0.0745951\ttotal: 2.37s\tremaining: 845ms\n",
      "737:\tlearn: 0.0745247\ttotal: 2.37s\tremaining: 842ms\n",
      "738:\tlearn: 0.0744392\ttotal: 2.37s\tremaining: 838ms\n",
      "739:\tlearn: 0.0742945\ttotal: 2.39s\tremaining: 841ms\n",
      "740:\tlearn: 0.0741159\ttotal: 2.4s\tremaining: 839ms\n",
      "741:\tlearn: 0.0739195\ttotal: 2.4s\tremaining: 835ms\n",
      "742:\tlearn: 0.0738129\ttotal: 2.4s\tremaining: 832ms\n",
      "743:\tlearn: 0.0736768\ttotal: 2.41s\tremaining: 828ms\n",
      "744:\tlearn: 0.0736196\ttotal: 2.41s\tremaining: 825ms\n",
      "745:\tlearn: 0.0734686\ttotal: 2.41s\tremaining: 821ms\n",
      "746:\tlearn: 0.0733747\ttotal: 2.41s\tremaining: 818ms\n",
      "747:\tlearn: 0.0732666\ttotal: 2.42s\tremaining: 814ms\n",
      "748:\tlearn: 0.0731571\ttotal: 2.42s\tremaining: 811ms\n",
      "749:\tlearn: 0.0730456\ttotal: 2.42s\tremaining: 807ms\n",
      "750:\tlearn: 0.0729992\ttotal: 2.42s\tremaining: 803ms\n",
      "751:\tlearn: 0.0728937\ttotal: 2.42s\tremaining: 800ms\n",
      "752:\tlearn: 0.0727219\ttotal: 2.43s\tremaining: 796ms\n",
      "753:\tlearn: 0.0725172\ttotal: 2.43s\tremaining: 792ms\n",
      "754:\tlearn: 0.0724258\ttotal: 2.43s\tremaining: 788ms\n",
      "755:\tlearn: 0.0722733\ttotal: 2.43s\tremaining: 785ms\n",
      "756:\tlearn: 0.0721896\ttotal: 2.43s\tremaining: 781ms\n",
      "757:\tlearn: 0.0721182\ttotal: 2.43s\tremaining: 777ms\n",
      "758:\tlearn: 0.0720223\ttotal: 2.44s\tremaining: 774ms\n",
      "759:\tlearn: 0.0719660\ttotal: 2.44s\tremaining: 770ms\n",
      "760:\tlearn: 0.0718700\ttotal: 2.44s\tremaining: 767ms\n",
      "761:\tlearn: 0.0718067\ttotal: 2.44s\tremaining: 763ms\n",
      "762:\tlearn: 0.0716930\ttotal: 2.45s\tremaining: 760ms\n",
      "763:\tlearn: 0.0716212\ttotal: 2.45s\tremaining: 757ms\n",
      "764:\tlearn: 0.0714654\ttotal: 2.45s\tremaining: 753ms\n",
      "765:\tlearn: 0.0713439\ttotal: 2.45s\tremaining: 750ms\n",
      "766:\tlearn: 0.0711719\ttotal: 2.46s\tremaining: 746ms\n",
      "767:\tlearn: 0.0710286\ttotal: 2.46s\tremaining: 743ms\n",
      "768:\tlearn: 0.0709127\ttotal: 2.46s\tremaining: 739ms\n",
      "769:\tlearn: 0.0708040\ttotal: 2.46s\tremaining: 736ms\n",
      "770:\tlearn: 0.0707259\ttotal: 2.46s\tremaining: 732ms\n",
      "771:\tlearn: 0.0706600\ttotal: 2.47s\tremaining: 729ms\n",
      "772:\tlearn: 0.0705470\ttotal: 2.47s\tremaining: 726ms\n",
      "773:\tlearn: 0.0704092\ttotal: 2.47s\tremaining: 722ms\n",
      "774:\tlearn: 0.0703519\ttotal: 2.48s\tremaining: 719ms\n"
     ]
    },
    {
     "name": "stdout",
     "output_type": "stream",
     "text": [
      "775:\tlearn: 0.0702478\ttotal: 2.48s\tremaining: 716ms\n",
      "776:\tlearn: 0.0700630\ttotal: 2.48s\tremaining: 712ms\n",
      "777:\tlearn: 0.0699332\ttotal: 2.48s\tremaining: 709ms\n",
      "778:\tlearn: 0.0698078\ttotal: 2.49s\tremaining: 705ms\n",
      "779:\tlearn: 0.0697800\ttotal: 2.49s\tremaining: 702ms\n",
      "780:\tlearn: 0.0696709\ttotal: 2.49s\tremaining: 699ms\n",
      "781:\tlearn: 0.0695381\ttotal: 2.49s\tremaining: 695ms\n",
      "782:\tlearn: 0.0694229\ttotal: 2.5s\tremaining: 692ms\n",
      "783:\tlearn: 0.0693339\ttotal: 2.5s\tremaining: 688ms\n",
      "784:\tlearn: 0.0692490\ttotal: 2.5s\tremaining: 685ms\n",
      "785:\tlearn: 0.0691027\ttotal: 2.5s\tremaining: 682ms\n",
      "786:\tlearn: 0.0690389\ttotal: 2.5s\tremaining: 678ms\n",
      "787:\tlearn: 0.0689317\ttotal: 2.51s\tremaining: 674ms\n"
     ]
    },
    {
     "name": "stdout",
     "output_type": "stream",
     "text": [
      "788:\tlearn: 0.0688778\ttotal: 2.51s\tremaining: 671ms\n",
      "789:\tlearn: 0.0688117\ttotal: 2.51s\tremaining: 668ms\n",
      "790:\tlearn: 0.0686456\ttotal: 2.51s\tremaining: 664ms\n",
      "791:\tlearn: 0.0685517\ttotal: 2.51s\tremaining: 660ms\n",
      "792:\tlearn: 0.0684114\ttotal: 2.52s\tremaining: 657ms\n",
      "793:\tlearn: 0.0683087\ttotal: 2.52s\tremaining: 653ms\n",
      "794:\tlearn: 0.0681895\ttotal: 2.52s\tremaining: 650ms\n",
      "795:\tlearn: 0.0680492\ttotal: 2.52s\tremaining: 647ms\n",
      "796:\tlearn: 0.0679470\ttotal: 2.53s\tremaining: 643ms\n",
      "797:\tlearn: 0.0678023\ttotal: 2.53s\tremaining: 640ms\n",
      "798:\tlearn: 0.0677540\ttotal: 2.53s\tremaining: 637ms\n",
      "799:\tlearn: 0.0677319\ttotal: 2.53s\tremaining: 634ms\n",
      "800:\tlearn: 0.0676447\ttotal: 2.54s\tremaining: 630ms\n",
      "801:\tlearn: 0.0674904\ttotal: 2.54s\tremaining: 627ms\n",
      "802:\tlearn: 0.0673164\ttotal: 2.54s\tremaining: 624ms\n",
      "803:\tlearn: 0.0672074\ttotal: 2.54s\tremaining: 620ms\n",
      "804:\tlearn: 0.0671655\ttotal: 2.55s\tremaining: 617ms\n",
      "805:\tlearn: 0.0671316\ttotal: 2.55s\tremaining: 613ms\n",
      "806:\tlearn: 0.0670272\ttotal: 2.55s\tremaining: 610ms\n",
      "807:\tlearn: 0.0668586\ttotal: 2.55s\tremaining: 606ms\n",
      "808:\tlearn: 0.0667487\ttotal: 2.55s\tremaining: 603ms\n",
      "809:\tlearn: 0.0666197\ttotal: 2.56s\tremaining: 600ms\n",
      "810:\tlearn: 0.0665215\ttotal: 2.56s\tremaining: 596ms\n",
      "811:\tlearn: 0.0663180\ttotal: 2.56s\tremaining: 593ms\n",
      "812:\tlearn: 0.0662236\ttotal: 2.56s\tremaining: 589ms\n",
      "813:\tlearn: 0.0661447\ttotal: 2.56s\tremaining: 586ms\n",
      "814:\tlearn: 0.0659671\ttotal: 2.57s\tremaining: 583ms\n",
      "815:\tlearn: 0.0657889\ttotal: 2.57s\tremaining: 580ms\n",
      "816:\tlearn: 0.0656452\ttotal: 2.57s\tremaining: 576ms\n",
      "817:\tlearn: 0.0655803\ttotal: 2.57s\tremaining: 573ms\n",
      "818:\tlearn: 0.0655437\ttotal: 2.58s\tremaining: 569ms\n",
      "819:\tlearn: 0.0654308\ttotal: 2.58s\tremaining: 566ms\n",
      "820:\tlearn: 0.0653404\ttotal: 2.58s\tremaining: 563ms\n",
      "821:\tlearn: 0.0652687\ttotal: 2.58s\tremaining: 559ms\n",
      "822:\tlearn: 0.0652205\ttotal: 2.58s\tremaining: 556ms\n",
      "823:\tlearn: 0.0650809\ttotal: 2.59s\tremaining: 553ms\n",
      "824:\tlearn: 0.0649924\ttotal: 2.59s\tremaining: 549ms\n",
      "825:\tlearn: 0.0649196\ttotal: 2.59s\tremaining: 546ms\n",
      "826:\tlearn: 0.0647872\ttotal: 2.6s\tremaining: 543ms\n",
      "827:\tlearn: 0.0647532\ttotal: 2.6s\tremaining: 540ms\n",
      "828:\tlearn: 0.0647133\ttotal: 2.6s\tremaining: 536ms\n",
      "829:\tlearn: 0.0646367\ttotal: 2.6s\tremaining: 533ms\n",
      "830:\tlearn: 0.0645171\ttotal: 2.6s\tremaining: 530ms\n",
      "831:\tlearn: 0.0643752\ttotal: 2.61s\tremaining: 526ms\n",
      "832:\tlearn: 0.0643635\ttotal: 2.61s\tremaining: 523ms\n",
      "833:\tlearn: 0.0642872\ttotal: 2.61s\tremaining: 520ms\n",
      "834:\tlearn: 0.0641456\ttotal: 2.61s\tremaining: 517ms\n",
      "835:\tlearn: 0.0639874\ttotal: 2.62s\tremaining: 513ms\n",
      "836:\tlearn: 0.0638622\ttotal: 2.62s\tremaining: 510ms\n",
      "837:\tlearn: 0.0638519\ttotal: 2.62s\tremaining: 507ms\n",
      "838:\tlearn: 0.0637347\ttotal: 2.63s\tremaining: 504ms\n",
      "839:\tlearn: 0.0636409\ttotal: 2.63s\tremaining: 501ms\n",
      "840:\tlearn: 0.0635906\ttotal: 2.63s\tremaining: 498ms\n",
      "841:\tlearn: 0.0634493\ttotal: 2.64s\tremaining: 495ms\n",
      "842:\tlearn: 0.0633091\ttotal: 2.64s\tremaining: 492ms\n",
      "843:\tlearn: 0.0632522\ttotal: 2.64s\tremaining: 488ms\n",
      "844:\tlearn: 0.0631508\ttotal: 2.64s\tremaining: 485ms\n",
      "845:\tlearn: 0.0630268\ttotal: 2.65s\tremaining: 482ms\n",
      "846:\tlearn: 0.0629229\ttotal: 2.65s\tremaining: 478ms\n",
      "847:\tlearn: 0.0627777\ttotal: 2.65s\tremaining: 475ms\n"
     ]
    },
    {
     "name": "stdout",
     "output_type": "stream",
     "text": [
      "848:\tlearn: 0.0625990\ttotal: 2.65s\tremaining: 472ms\n",
      "849:\tlearn: 0.0625071\ttotal: 2.66s\tremaining: 469ms\n",
      "850:\tlearn: 0.0624081\ttotal: 2.66s\tremaining: 466ms\n",
      "851:\tlearn: 0.0623503\ttotal: 2.66s\tremaining: 462ms\n",
      "852:\tlearn: 0.0622622\ttotal: 2.66s\tremaining: 459ms\n",
      "853:\tlearn: 0.0622050\ttotal: 2.67s\tremaining: 456ms\n",
      "854:\tlearn: 0.0620627\ttotal: 2.67s\tremaining: 452ms\n",
      "855:\tlearn: 0.0619185\ttotal: 2.67s\tremaining: 449ms\n",
      "856:\tlearn: 0.0617874\ttotal: 2.67s\tremaining: 446ms\n",
      "857:\tlearn: 0.0617760\ttotal: 2.67s\tremaining: 443ms\n",
      "858:\tlearn: 0.0617691\ttotal: 2.68s\tremaining: 439ms\n",
      "859:\tlearn: 0.0616308\ttotal: 2.68s\tremaining: 436ms\n"
     ]
    },
    {
     "name": "stdout",
     "output_type": "stream",
     "text": [
      "860:\tlearn: 0.0616131\ttotal: 2.68s\tremaining: 433ms\n",
      "861:\tlearn: 0.0614730\ttotal: 2.69s\tremaining: 430ms\n",
      "862:\tlearn: 0.0614113\ttotal: 2.69s\tremaining: 427ms\n",
      "863:\tlearn: 0.0612735\ttotal: 2.69s\tremaining: 423ms\n",
      "864:\tlearn: 0.0611958\ttotal: 2.69s\tremaining: 420ms\n",
      "865:\tlearn: 0.0610928\ttotal: 2.69s\tremaining: 417ms\n",
      "866:\tlearn: 0.0609950\ttotal: 2.7s\tremaining: 414ms\n",
      "867:\tlearn: 0.0608687\ttotal: 2.7s\tremaining: 411ms\n",
      "868:\tlearn: 0.0608593\ttotal: 2.7s\tremaining: 407ms\n",
      "869:\tlearn: 0.0607713\ttotal: 2.7s\tremaining: 404ms\n",
      "870:\tlearn: 0.0606423\ttotal: 2.71s\tremaining: 401ms\n",
      "871:\tlearn: 0.0605119\ttotal: 2.71s\tremaining: 398ms\n",
      "872:\tlearn: 0.0604369\ttotal: 2.71s\tremaining: 394ms\n",
      "873:\tlearn: 0.0603225\ttotal: 2.71s\tremaining: 391ms\n",
      "874:\tlearn: 0.0602639\ttotal: 2.72s\tremaining: 388ms\n",
      "875:\tlearn: 0.0602195\ttotal: 2.72s\tremaining: 385ms\n",
      "876:\tlearn: 0.0601288\ttotal: 2.72s\tremaining: 382ms\n",
      "877:\tlearn: 0.0600914\ttotal: 2.72s\tremaining: 378ms\n",
      "878:\tlearn: 0.0600188\ttotal: 2.73s\tremaining: 375ms\n",
      "879:\tlearn: 0.0599439\ttotal: 2.73s\tremaining: 372ms\n",
      "880:\tlearn: 0.0597809\ttotal: 2.73s\tremaining: 369ms\n",
      "881:\tlearn: 0.0597265\ttotal: 2.73s\tremaining: 366ms\n",
      "882:\tlearn: 0.0596665\ttotal: 2.73s\tremaining: 362ms\n",
      "883:\tlearn: 0.0595655\ttotal: 2.73s\tremaining: 359ms\n",
      "884:\tlearn: 0.0594826\ttotal: 2.74s\tremaining: 356ms\n",
      "885:\tlearn: 0.0594538\ttotal: 2.74s\tremaining: 353ms\n",
      "886:\tlearn: 0.0593802\ttotal: 2.74s\tremaining: 349ms\n",
      "887:\tlearn: 0.0592358\ttotal: 2.75s\tremaining: 346ms\n",
      "888:\tlearn: 0.0592081\ttotal: 2.75s\tremaining: 343ms\n",
      "889:\tlearn: 0.0591528\ttotal: 2.75s\tremaining: 340ms\n",
      "890:\tlearn: 0.0591301\ttotal: 2.75s\tremaining: 337ms\n",
      "891:\tlearn: 0.0590590\ttotal: 2.76s\tremaining: 334ms\n",
      "892:\tlearn: 0.0589538\ttotal: 2.76s\tremaining: 331ms\n",
      "893:\tlearn: 0.0588473\ttotal: 2.76s\tremaining: 327ms\n",
      "894:\tlearn: 0.0588199\ttotal: 2.76s\tremaining: 324ms\n",
      "895:\tlearn: 0.0586735\ttotal: 2.77s\tremaining: 321ms\n",
      "896:\tlearn: 0.0586162\ttotal: 2.77s\tremaining: 318ms\n",
      "897:\tlearn: 0.0584819\ttotal: 2.77s\tremaining: 315ms\n",
      "898:\tlearn: 0.0583556\ttotal: 2.77s\tremaining: 312ms\n",
      "899:\tlearn: 0.0582834\ttotal: 2.77s\tremaining: 308ms\n",
      "900:\tlearn: 0.0581850\ttotal: 2.78s\tremaining: 305ms\n",
      "901:\tlearn: 0.0580687\ttotal: 2.78s\tremaining: 302ms\n",
      "902:\tlearn: 0.0580583\ttotal: 2.78s\tremaining: 299ms\n",
      "903:\tlearn: 0.0579670\ttotal: 2.78s\tremaining: 295ms\n",
      "904:\tlearn: 0.0579041\ttotal: 2.78s\tremaining: 292ms\n",
      "905:\tlearn: 0.0578092\ttotal: 2.79s\tremaining: 289ms\n",
      "906:\tlearn: 0.0577557\ttotal: 2.79s\tremaining: 286ms\n",
      "907:\tlearn: 0.0577495\ttotal: 2.79s\tremaining: 283ms\n",
      "908:\tlearn: 0.0576640\ttotal: 2.79s\tremaining: 280ms\n",
      "909:\tlearn: 0.0576468\ttotal: 2.8s\tremaining: 277ms\n",
      "910:\tlearn: 0.0575696\ttotal: 2.8s\tremaining: 273ms\n",
      "911:\tlearn: 0.0574936\ttotal: 2.8s\tremaining: 270ms\n",
      "912:\tlearn: 0.0574674\ttotal: 2.8s\tremaining: 267ms\n",
      "913:\tlearn: 0.0573399\ttotal: 2.81s\tremaining: 264ms\n",
      "914:\tlearn: 0.0573330\ttotal: 2.81s\tremaining: 261ms\n",
      "915:\tlearn: 0.0573035\ttotal: 2.81s\tremaining: 258ms\n",
      "916:\tlearn: 0.0572942\ttotal: 2.81s\tremaining: 254ms\n",
      "917:\tlearn: 0.0572028\ttotal: 2.81s\tremaining: 251ms\n",
      "918:\tlearn: 0.0570953\ttotal: 2.81s\tremaining: 248ms\n",
      "919:\tlearn: 0.0570075\ttotal: 2.82s\tremaining: 245ms\n",
      "920:\tlearn: 0.0569606\ttotal: 2.82s\tremaining: 242ms\n",
      "921:\tlearn: 0.0568410\ttotal: 2.82s\tremaining: 239ms\n",
      "922:\tlearn: 0.0567453\ttotal: 2.82s\tremaining: 235ms\n",
      "923:\tlearn: 0.0566728\ttotal: 2.82s\tremaining: 232ms\n",
      "924:\tlearn: 0.0566281\ttotal: 2.83s\tremaining: 229ms\n",
      "925:\tlearn: 0.0565407\ttotal: 2.83s\tremaining: 226ms\n",
      "926:\tlearn: 0.0564975\ttotal: 2.83s\tremaining: 223ms\n"
     ]
    },
    {
     "name": "stdout",
     "output_type": "stream",
     "text": [
      "927:\tlearn: 0.0564261\ttotal: 2.83s\tremaining: 220ms\n",
      "928:\tlearn: 0.0563284\ttotal: 2.83s\tremaining: 217ms\n",
      "929:\tlearn: 0.0562548\ttotal: 2.84s\tremaining: 214ms\n",
      "930:\tlearn: 0.0561788\ttotal: 2.84s\tremaining: 211ms\n",
      "931:\tlearn: 0.0561692\ttotal: 2.84s\tremaining: 207ms\n",
      "932:\tlearn: 0.0560808\ttotal: 2.85s\tremaining: 204ms\n",
      "933:\tlearn: 0.0559615\ttotal: 2.85s\tremaining: 201ms\n",
      "934:\tlearn: 0.0558773\ttotal: 2.85s\tremaining: 198ms\n",
      "935:\tlearn: 0.0558506\ttotal: 2.85s\tremaining: 195ms\n",
      "936:\tlearn: 0.0558034\ttotal: 2.85s\tremaining: 192ms\n",
      "937:\tlearn: 0.0557074\ttotal: 2.85s\tremaining: 189ms\n",
      "938:\tlearn: 0.0555878\ttotal: 2.85s\tremaining: 185ms\n"
     ]
    },
    {
     "name": "stdout",
     "output_type": "stream",
     "text": [
      "939:\tlearn: 0.0555197\ttotal: 2.86s\tremaining: 182ms\n",
      "940:\tlearn: 0.0554651\ttotal: 2.86s\tremaining: 179ms\n",
      "941:\tlearn: 0.0553623\ttotal: 2.86s\tremaining: 176ms\n",
      "942:\tlearn: 0.0553160\ttotal: 2.86s\tremaining: 173ms\n",
      "943:\tlearn: 0.0552913\ttotal: 2.86s\tremaining: 170ms\n",
      "944:\tlearn: 0.0552350\ttotal: 2.87s\tremaining: 167ms\n",
      "945:\tlearn: 0.0552222\ttotal: 2.87s\tremaining: 164ms\n",
      "946:\tlearn: 0.0551093\ttotal: 2.87s\tremaining: 161ms\n",
      "947:\tlearn: 0.0549992\ttotal: 2.87s\tremaining: 158ms\n",
      "948:\tlearn: 0.0548793\ttotal: 2.88s\tremaining: 155ms\n",
      "949:\tlearn: 0.0548653\ttotal: 2.88s\tremaining: 151ms\n",
      "950:\tlearn: 0.0547722\ttotal: 2.88s\tremaining: 148ms\n",
      "951:\tlearn: 0.0547459\ttotal: 2.88s\tremaining: 145ms\n",
      "952:\tlearn: 0.0547177\ttotal: 2.88s\tremaining: 142ms\n",
      "953:\tlearn: 0.0546662\ttotal: 2.89s\tremaining: 139ms\n",
      "954:\tlearn: 0.0545307\ttotal: 2.89s\tremaining: 136ms\n",
      "955:\tlearn: 0.0544532\ttotal: 2.89s\tremaining: 133ms\n",
      "956:\tlearn: 0.0543314\ttotal: 2.89s\tremaining: 130ms\n",
      "957:\tlearn: 0.0542784\ttotal: 2.9s\tremaining: 127ms\n",
      "958:\tlearn: 0.0541706\ttotal: 2.9s\tremaining: 124ms\n",
      "959:\tlearn: 0.0540905\ttotal: 2.9s\tremaining: 121ms\n",
      "960:\tlearn: 0.0540105\ttotal: 2.9s\tremaining: 118ms\n",
      "961:\tlearn: 0.0539432\ttotal: 2.91s\tremaining: 115ms\n",
      "962:\tlearn: 0.0538666\ttotal: 2.91s\tremaining: 112ms\n",
      "963:\tlearn: 0.0537459\ttotal: 2.91s\tremaining: 109ms\n",
      "964:\tlearn: 0.0535975\ttotal: 2.91s\tremaining: 106ms\n",
      "965:\tlearn: 0.0535285\ttotal: 2.92s\tremaining: 103ms\n",
      "966:\tlearn: 0.0534552\ttotal: 2.92s\tremaining: 99.6ms\n",
      "967:\tlearn: 0.0533742\ttotal: 2.92s\tremaining: 96.6ms\n",
      "968:\tlearn: 0.0533237\ttotal: 2.92s\tremaining: 93.5ms\n",
      "969:\tlearn: 0.0532308\ttotal: 2.92s\tremaining: 90.5ms\n",
      "970:\tlearn: 0.0531319\ttotal: 2.93s\tremaining: 87.4ms\n",
      "971:\tlearn: 0.0530296\ttotal: 2.93s\tremaining: 84.4ms\n",
      "972:\tlearn: 0.0529109\ttotal: 2.94s\tremaining: 81.5ms\n",
      "973:\tlearn: 0.0528574\ttotal: 2.94s\tremaining: 78.4ms\n",
      "974:\tlearn: 0.0528394\ttotal: 2.94s\tremaining: 75.4ms\n",
      "975:\tlearn: 0.0527730\ttotal: 2.94s\tremaining: 72.4ms\n",
      "976:\tlearn: 0.0527009\ttotal: 2.95s\tremaining: 69.4ms\n",
      "977:\tlearn: 0.0526244\ttotal: 2.95s\tremaining: 66.4ms\n",
      "978:\tlearn: 0.0525224\ttotal: 2.95s\tremaining: 63.3ms\n",
      "979:\tlearn: 0.0524271\ttotal: 2.96s\tremaining: 60.3ms\n",
      "980:\tlearn: 0.0523192\ttotal: 2.96s\tremaining: 57.3ms\n",
      "981:\tlearn: 0.0522356\ttotal: 2.96s\tremaining: 54.4ms\n",
      "982:\tlearn: 0.0522053\ttotal: 2.97s\tremaining: 51.4ms\n",
      "983:\tlearn: 0.0521611\ttotal: 2.98s\tremaining: 48.4ms\n",
      "984:\tlearn: 0.0520739\ttotal: 2.98s\tremaining: 45.4ms\n",
      "985:\tlearn: 0.0520071\ttotal: 2.98s\tremaining: 42.4ms\n",
      "986:\tlearn: 0.0518810\ttotal: 2.99s\tremaining: 39.4ms\n",
      "987:\tlearn: 0.0518679\ttotal: 2.99s\tremaining: 36.3ms\n",
      "988:\tlearn: 0.0517608\ttotal: 2.99s\tremaining: 33.3ms\n",
      "989:\tlearn: 0.0517119\ttotal: 3s\tremaining: 30.3ms\n",
      "990:\tlearn: 0.0515951\ttotal: 3s\tremaining: 27.2ms\n"
     ]
    },
    {
     "name": "stdout",
     "output_type": "stream",
     "text": [
      "991:\tlearn: 0.0514931\ttotal: 3.01s\tremaining: 24.3ms\n",
      "992:\tlearn: 0.0513848\ttotal: 3.02s\tremaining: 21.3ms\n",
      "993:\tlearn: 0.0512576\ttotal: 3.02s\tremaining: 18.2ms\n",
      "994:\tlearn: 0.0511932\ttotal: 3.02s\tremaining: 15.2ms\n",
      "995:\tlearn: 0.0511426\ttotal: 3.02s\tremaining: 12.1ms\n",
      "996:\tlearn: 0.0510687\ttotal: 3.03s\tremaining: 9.11ms\n",
      "997:\tlearn: 0.0509757\ttotal: 3.03s\tremaining: 6.07ms\n"
     ]
    },
    {
     "name": "stdout",
     "output_type": "stream",
     "text": [
      "998:\tlearn: 0.0509331\ttotal: 3.03s\tremaining: 3.03ms\n",
      "999:\tlearn: 0.0508704\ttotal: 3.04s\tremaining: 0us\n"
     ]
    },
    {
     "data": {
      "text/plain": [
       "<catboost.core.CatBoostRegressor at 0x7fdf2796a700>"
      ]
     },
     "execution_count": 9,
     "metadata": {},
     "output_type": "execute_result"
    }
   ],
   "source": [
    "#Train the Model \n",
    "prior_model = ctb.CatBoostRegressor()\n",
    "prior_model.fit(X_train,Y_train)"
   ]
  },
  {
   "cell_type": "code",
   "execution_count": 10,
   "id": "af65dcda",
   "metadata": {
    "execution": {
     "iopub.execute_input": "2022-07-22T19:15:23.425446Z",
     "iopub.status.busy": "2022-07-22T19:15:23.425128Z",
     "iopub.status.idle": "2022-07-22T19:15:23.482399Z",
     "shell.execute_reply": "2022-07-22T19:15:23.480654Z"
    },
    "id": "af65dcda",
    "papermill": {
     "duration": 0.08188,
     "end_time": "2022-07-22T19:15:23.487316",
     "exception": false,
     "start_time": "2022-07-22T19:15:23.405436",
     "status": "completed"
    },
    "tags": []
   },
   "outputs": [
    {
     "data": {
      "application/scrapbook.scrap.json+json": {
       "data": 0.08311027405870995,
       "encoder": "json",
       "name": "Prior Model MSE",
       "version": 1
      }
     },
     "metadata": {
      "scrapbook": {
       "data": true,
       "display": false,
       "name": "Prior Model MSE"
      }
     },
     "output_type": "display_data"
    },
    {
     "data": {
      "application/scrapbook.scrap.json+json": {
       "data": 0.08259174772411518,
       "encoder": "json",
       "name": "ABC Pre-generator MSE",
       "version": 1
      }
     },
     "metadata": {
      "scrapbook": {
       "data": true,
       "display": false,
       "name": "ABC Pre-generator MSE"
      }
     },
     "output_type": "display_data"
    },
    {
     "data": {
      "application/scrapbook.scrap.json+json": {
       "data": 0.2018147622451529,
       "encoder": "json",
       "name": "Prior Model MAE",
       "version": 1
      }
     },
     "metadata": {
      "scrapbook": {
       "data": true,
       "display": false,
       "name": "Prior Model MAE"
      }
     },
     "output_type": "display_data"
    },
    {
     "name": "stdout",
     "output_type": "stream",
     "text": [
      "Prior Model MAE 0.2018147622451529\n",
      "ABC Pre-generator MAE 0.20185447695167397\n"
     ]
    }
   ],
   "source": [
    "y_pred = prior_model.predict(X_test)\n",
    "y_abc = y_pred + np.random.normal(0,variance, y_pred.shape) + bias \n",
    "mse = mean_squared_error(y_pred,Y_test)\n",
    "sb.glue(\"Prior Model MSE\",mse)\n",
    "mse = mean_squared_error(y_abc,Y_test)\n",
    "sb.glue(\"ABC Pre-generator MSE\",mse)\n",
    "mae = mean_absolute_error(y_pred,Y_test)\n",
    "sb.glue(\"Prior Model MAE\",mae)\n",
    "print(\"Prior Model MAE\",mae)\n",
    "mae = mean_absolute_error(y_abc,Y_test)\n",
    "print(\"ABC Pre-generator MAE\",mae)"
   ]
  },
  {
   "cell_type": "markdown",
   "id": "25609da2",
   "metadata": {
    "papermill": {
     "duration": 0.012961,
     "end_time": "2022-07-22T19:15:23.515873",
     "exception": false,
     "start_time": "2022-07-22T19:15:23.502912",
     "status": "completed"
    },
    "tags": []
   },
   "source": [
    "# mGAN Model"
   ]
  },
  {
   "cell_type": "code",
   "execution_count": 11,
   "id": "dfc3464d",
   "metadata": {
    "execution": {
     "iopub.execute_input": "2022-07-22T19:15:23.550006Z",
     "iopub.status.busy": "2022-07-22T19:15:23.549667Z",
     "iopub.status.idle": "2022-07-22T19:15:23.559523Z",
     "shell.execute_reply": "2022-07-22T19:15:23.557988Z"
    },
    "papermill": {
     "duration": 0.037335,
     "end_time": "2022-07-22T19:15:23.565068",
     "exception": false,
     "start_time": "2022-07-22T19:15:23.527733",
     "status": "completed"
    },
    "tags": []
   },
   "outputs": [],
   "source": [
    "# gen = network.Generator(n_features+1).to(device)\n",
    "# disc = network.Discriminator(n_features+1).to(device)\n",
    "\n",
    "# criterion = torch.nn.BCELoss()\n",
    "# gen_opt = torch.optim.Adam(gen.parameters(), lr=0.01, betas=(0.5, 0.999))\n",
    "# disc_opt = torch.optim.Adam(disc.parameters(), lr=0.01, betas=(0.5, 0.999))"
   ]
  },
  {
   "cell_type": "code",
   "execution_count": 12,
   "id": "b75fdd85",
   "metadata": {
    "execution": {
     "iopub.execute_input": "2022-07-22T19:15:23.596883Z",
     "iopub.status.busy": "2022-07-22T19:15:23.596504Z",
     "iopub.status.idle": "2022-07-22T19:15:23.601613Z",
     "shell.execute_reply": "2022-07-22T19:15:23.600747Z"
    },
    "papermill": {
     "duration": 0.021948,
     "end_time": "2022-07-22T19:15:23.605174",
     "exception": false,
     "start_time": "2022-07-22T19:15:23.583226",
     "status": "completed"
    },
    "tags": []
   },
   "outputs": [],
   "source": [
    "#Training the ABC_GAN \n",
    "# ABC_train_test2.training_GAN(disc,gen,disc_opt,gen_opt,train_data,batch_size,n_epochs,criterion,prior_model,variance,bias,device)"
   ]
  },
  {
   "cell_type": "code",
   "execution_count": 13,
   "id": "1fa7c368",
   "metadata": {
    "execution": {
     "iopub.execute_input": "2022-07-22T19:15:23.629900Z",
     "iopub.status.busy": "2022-07-22T19:15:23.629546Z",
     "iopub.status.idle": "2022-07-22T19:15:23.635179Z",
     "shell.execute_reply": "2022-07-22T19:15:23.632992Z"
    },
    "papermill": {
     "duration": 0.031646,
     "end_time": "2022-07-22T19:15:23.648425",
     "exception": false,
     "start_time": "2022-07-22T19:15:23.616779",
     "status": "completed"
    },
    "tags": []
   },
   "outputs": [],
   "source": [
    "# ABC_GAN1_metrics=ABC_train_test2.test_generator(gen,test_data,prior_model,variance,bias,\"1\",device)\n",
    "# sb.glue(\"ABC_GAN_1 Metrics\",ABC_GAN1_metrics)\n",
    "\n",
    "# print(\"MAE\")\n",
    "# print(mean(ABC_GAN1_metrics[1]))"
   ]
  },
  {
   "cell_type": "code",
   "execution_count": 14,
   "id": "eb22ce5c",
   "metadata": {
    "execution": {
     "iopub.execute_input": "2022-07-22T19:15:23.687935Z",
     "iopub.status.busy": "2022-07-22T19:15:23.687571Z",
     "iopub.status.idle": "2022-07-22T19:15:23.693599Z",
     "shell.execute_reply": "2022-07-22T19:15:23.691293Z"
    },
    "papermill": {
     "duration": 0.038225,
     "end_time": "2022-07-22T19:15:23.698191",
     "exception": false,
     "start_time": "2022-07-22T19:15:23.659966",
     "status": "completed"
    },
    "tags": []
   },
   "outputs": [],
   "source": [
    "# sanityChecks.discProbVsError(train_data,disc,device)\n",
    "# sanityChecks.discProbVsError(test_data,disc,device)"
   ]
  },
  {
   "cell_type": "markdown",
   "id": "10960124",
   "metadata": {
    "papermill": {
     "duration": 0.012428,
     "end_time": "2022-07-22T19:15:23.722545",
     "exception": false,
     "start_time": "2022-07-22T19:15:23.710117",
     "status": "completed"
    },
    "tags": []
   },
   "source": [
    "# mGAN Model with TabNet Generator"
   ]
  },
  {
   "cell_type": "code",
   "execution_count": 15,
   "id": "29c036cd",
   "metadata": {
    "execution": {
     "iopub.execute_input": "2022-07-22T19:15:23.748357Z",
     "iopub.status.busy": "2022-07-22T19:15:23.748020Z",
     "iopub.status.idle": "2022-07-22T19:15:23.770539Z",
     "shell.execute_reply": "2022-07-22T19:15:23.769590Z"
    },
    "papermill": {
     "duration": 0.040556,
     "end_time": "2022-07-22T19:15:23.774900",
     "exception": false,
     "start_time": "2022-07-22T19:15:23.734344",
     "status": "completed"
    },
    "tags": []
   },
   "outputs": [],
   "source": [
    "gen2 = network.GeneratorTabnet(n_features+1).to(device)\n",
    "disc2 = network.Discriminator(n_features+1).to(device)\n",
    "\n",
    "criterion = torch.nn.BCELoss()\n",
    "gen_opt = torch.optim.Adam(gen2.parameters(), lr=0.01, betas=(0.5, 0.999))\n",
    "disc_opt = torch.optim.Adam(disc2.parameters(), lr=0.01, betas=(0.5, 0.999))"
   ]
  },
  {
   "cell_type": "code",
   "execution_count": 16,
   "id": "3c5692e6",
   "metadata": {
    "execution": {
     "iopub.execute_input": "2022-07-22T19:15:23.816506Z",
     "iopub.status.busy": "2022-07-22T19:15:23.816005Z",
     "iopub.status.idle": "2022-07-22T19:25:51.640598Z",
     "shell.execute_reply": "2022-07-22T19:25:51.639181Z"
    },
    "papermill": {
     "duration": 627.858263,
     "end_time": "2022-07-22T19:25:51.646021",
     "exception": false,
     "start_time": "2022-07-22T19:15:23.787758",
     "status": "completed"
    },
    "tags": []
   },
   "outputs": [
    {
     "data": {
      "image/png": "[encoded data removed]",
      "text/plain": [
       "<Figure size 432x288 with 1 Axes>"
      ]
     },
     "metadata": {
      "needs_background": "light"
     },
     "output_type": "display_data"
    },
    {
     "data": {
      "image/png": "[encoded data removed]",
      "text/plain": [
       "<Figure size 432x288 with 1 Axes>"
      ]
     },
     "metadata": {
      "needs_background": "light"
     },
     "output_type": "display_data"
    }
   ],
   "source": [
    "#Training the ABC_GAN \n",
    "ABC_train_test2.training_GAN(disc2,gen2,disc_opt,gen_opt,train_data,batch_size,n_epochs,criterion,prior_model,variance,bias,device)"
   ]
  },
  {
   "cell_type": "code",
   "execution_count": 17,
   "id": "673465e6",
   "metadata": {
    "execution": {
     "iopub.execute_input": "2022-07-22T19:25:51.710609Z",
     "iopub.status.busy": "2022-07-22T19:25:51.709482Z",
     "iopub.status.idle": "2022-07-22T19:25:53.269397Z",
     "shell.execute_reply": "2022-07-22T19:25:53.267506Z"
    },
    "papermill": {
     "duration": 1.612361,
     "end_time": "2022-07-22T19:25:53.272781",
     "exception": false,
     "start_time": "2022-07-22T19:25:51.660420",
     "status": "completed"
    },
    "tags": []
   },
   "outputs": [
    {
     "data": {
      "application/scrapbook.scrap.json+json": {
       "data": 0.0847642270282124,
       "encoder": "json",
       "name": "ABC-GAN Model 1 MSE",
       "version": 1
      }
     },
     "metadata": {
      "scrapbook": {
       "data": true,
       "display": false,
       "name": "ABC-GAN Model 1 MSE"
      }
     },
     "output_type": "display_data"
    },
    {
     "data": {
      "application/scrapbook.scrap.json+json": {
       "data": 0.21360764902194634,
       "encoder": "json",
       "name": "ABC-GAN Model 1 MAE",
       "version": 1
      }
     },
     "metadata": {
      "scrapbook": {
       "data": true,
       "display": false,
       "name": "ABC-GAN Model 1 MAE"
      }
     },
     "output_type": "display_data"
    },
    {
     "data": {
      "application/scrapbook.scrap.json+json": {
       "data": 21.787980200238525,
       "encoder": "json",
       "name": "ABC-GAN Model 1 Manhattan Distance",
       "version": 1
      }
     },
     "metadata": {
      "scrapbook": {
       "data": true,
       "display": false,
       "name": "ABC-GAN Model 1 Manhattan Distance"
      }
     },
     "output_type": "display_data"
    },
    {
     "data": {
      "application/scrapbook.scrap.json+json": {
       "data": 2.940381157014374,
       "encoder": "json",
       "name": "ABC-GAN Model 1 Euclidean distance",
       "version": 1
      }
     },
     "metadata": {
      "scrapbook": {
       "data": true,
       "display": false,
       "name": "ABC-GAN Model 1 Euclidean distance"
      }
     },
     "output_type": "display_data"
    },
    {
     "data": {
      "application/scrapbook.scrap.json+json": {
       "data": [
        [
         0.08452312924326921,
         0.08360054225694356,
         0.08533711935440963,
         0.08493595424620325,
         0.0851213857286912,
         0.0850641297096695,
         0.08556911662896415,
         0.08457171941511392,
         0.0847398514011763,
         0.08491819548372935,
         0.0846766274771938,
         0.08458055143343852,
         0.0846904766174853,
         0.08413998151253484,
         0.08461333917395276,
         0.08411859510176344,
         0.08341736138003052,
         0.0852278140512631,
         0.08510947464431895,
         0.08435926618256591,
         0.08457030847549626,
         0.08553979243085245,
         0.08374888648589093,
         0.08432200130085452,
         0.08393855882470658,
         0.08383714320958809,
         0.08468117774382523,
         0.08459257823232717,
         0.0854390431711651,
         0.08440389301377231,
         0.08530410341439436,
         0.0858623317584911,
         0.08484166190622865,
         0.08407257625641933,
         0.08445889068215756,
         0.08523671507027529,
         0.0849289836660594,
         0.08387328136134126,
         0.08437517049565664,
         0.0850395240924328,
         0.08512784701899473,
         0.084919868025536,
         0.08544451067254295,
         0.08464954707552384,
         0.08484650088284026,
         0.08521738870721886,
         0.0839790131893041,
         0.08386206552209496,
         0.08465554866991025,
         0.08408344498016866,
         0.08565481580956391,
         0.08484954514130644,
         0.08466473120191839,
         0.08445888306673323,
         0.08502975300973631,
         0.08399607503002789,
         0.08510104309528241,
         0.08433975543096167,
         0.08491809163217073,
         0.08431080486108121,
         0.08522757816245076,
         0.0838351695735231,
         0.08560866229642565,
         0.08500778052670559,
         0.08526271458534984,
         0.08557288606671659,
         0.08458294449425942,
         0.0853318087700218,
         0.08413811573020813,
         0.08498220627072423,
         0.08521565897637427,
         0.08377834504952134,
         0.0859296791370647,
         0.0841224282996557,
         0.08530889494940123,
         0.0852216785312161,
         0.08437974195990099,
         0.0844400937899037,
         0.08605444118857906,
         0.08485992579694203,
         0.08484809366684813,
         0.08391354285719481,
         0.08534270460879494,
         0.08457525367134375,
         0.0841499740640249,
         0.08612966276511806,
         0.08377825263166139,
         0.08542087869404934,
         0.08501681976552497,
         0.0839764951593736,
         0.08553936127668613,
         0.08468399322151912,
         0.08545522732954065,
         0.08428193431108173,
         0.08528831132401227,
         0.08551363833934972,
         0.08450747422912101,
         0.08544530882359314,
         0.08541005509977431,
         0.08379448117011497
        ],
        [
         0.21406947500894175,
         0.2117159841490873,
         0.21380376298090115,
         0.2138169351326046,
         0.2140760424035583,
         0.21364954158700272,
         0.2145291290465085,
         0.21344909182402724,
         0.21329724961234367,
         0.21500622387062393,
         0.21298505501894682,
         0.21158372308584114,
         0.21439049108976535,
         0.21355962345157475,
         0.21294896440653532,
         0.21178108998848236,
         0.2114523094165705,
         0.21494654881055741,
         0.21293140510462372,
         0.21340219341401084,
         0.21193672743096365,
         0.21474475834482148,
         0.21198587661024695,
         0.21371348995678857,
         0.21371906861553297,
         0.21264391411643693,
         0.2126576616063568,
         0.21221036121577902,
         0.21434888763207138,
         0.2137315466945224,
         0.21486512554225093,
         0.2160378616102332,
         0.2126577889236311,
         0.21372060858480194,
         0.21229960938331252,
         0.21421577351386933,
         0.21394808262623116,
         0.21220101709203684,
         0.21421364808966423,
         0.2149010732423003,
         0.21512870418419147,
         0.21379997600417802,
         0.21500007856600717,
         0.21189397263943271,
         0.2131935483045584,
         0.21429344581659227,
         0.2131181745059496,
         0.212379619086563,
         0.21373561325063015,
         0.21263830810237458,
         0.21410632835628063,
         0.21535384392950171,
         0.2133974620396746,
         0.21330222287489212,
         0.21383552422162658,
         0.21180661823417918,
         0.21381040236127435,
         0.2121062534496042,
         0.2135449933600338,
         0.2135351136345051,
         0.21429893360747135,
         0.2118047668744682,
         0.21521371143742227,
         0.2146291736166413,
         0.2151465678277115,
         0.2154938648454845,
         0.21328065271361493,
         0.21516864674677158,
         0.21299557198825128,
         0.21322275582226177,
         0.21454930324655244,
         0.2112085732047026,
         0.2145491410868571,
         0.21135912540679178,
         0.214847629862454,
         0.21436674115887167,
         0.2127077841820816,
         0.2137211603295131,
         0.2146683236784941,
         0.21463589444208672,
         0.21436060440050914,
         0.21356720332165852,
         0.21420190655900276,
         0.21375184978230619,
         0.21310665265784837,
         0.2150009979822618,
         0.2125275817736253,
         0.2143543884614665,
         0.21404404869741378,
         0.21278495181753648,
         0.21434164544859646,
         0.21254264969634368,
         0.21356052964670108,
         0.2119371787024041,
         0.21428180877667138,
         0.21525152331656394,
         0.21347348966325322,
         0.21351655642958542,
         0.21483802664842383,
         0.2133250631775488
        ],
        [
         21.83508645091206,
         21.595030383206904,
         21.807983824051917,
         21.80932738352567,
         21.835756325162947,
         21.792253241874278,
         21.881971162743866,
         21.77180736605078,
         21.756319460459054,
         21.93063483480364,
         21.724475611932576,
         21.581539754755795,
         21.867830091156065,
         21.783081592060626,
         21.720794369466603,
         21.6016711788252,
         21.56813556049019,
         21.924547978676856,
         21.719003320671618,
         21.767023728229105,
         21.61754619795829,
         21.90396535117179,
         21.62255941424519,
         21.798775975592434,
         21.799344998784363,
         21.68967923987657,
         21.691081483848393,
         21.64545684400946,
         21.86358653847128,
         21.800617762841284,
         21.916242805309594,
         22.035861884243786,
         21.691094470210373,
         21.799502075649798,
         21.654560157097876,
         21.85000889841467,
         21.82270442787558,
         21.64450374338776,
         21.849792105145752,
         21.91990947071463,
         21.94312782678753,
         21.80759755242616,
         21.93000801373273,
         21.613185209222138,
         21.745741927064955,
         21.85793147329241,
         21.73805379960686,
         21.662721146829426,
         21.801032551564276,
         21.689107426442206,
         21.838845492340624,
         21.966092080809176,
         21.76654112804681,
         21.756826733238995,
         21.81122347060591,
         21.604275059886277,
         21.808661040849984,
         21.63483785185963,
         21.78158932272345,
         21.78058159071952,
         21.858491227962077,
         21.604086221195757,
         21.95179856661707,
         21.892175708897412,
         21.944949918426573,
         21.98037421423942,
         21.754626576788723,
         21.947201968170702,
         21.72554834280163,
         21.7487210938707,
         21.88402893114835,
         21.543274466879666,
         21.884012390859425,
         21.55863079149276,
         21.91445824597031,
         21.86540759820491,
         21.696193986572325,
         21.799558353610337,
         21.896169015206397,
         21.892861233092844,
         21.86478164885193,
         21.78385473880917,
         21.84859446901828,
         21.80268867779523,
         21.736878571100533,
         21.930101794190705,
         21.67781334090978,
         21.864147623069584,
         21.832492967136204,
         21.70406508538872,
         21.86284783575684,
         21.679350269027054,
         21.78317402396351,
         21.61759222764522,
         21.856744495220482,
         21.95565537828952,
         21.77429594565183,
         21.77868875581771,
         21.91347871813923,
         21.759156444109976
        ],
        [
         2.9362151118086457,
         2.9201464535547252,
         2.9503196732133583,
         2.9433768588328495,
         2.946588085282112,
         2.94559692259248,
         2.9543273170307893,
         2.937058967801229,
         2.9399770140121815,
         2.9430691360109758,
         2.938880059252804,
         2.9372123256943357,
         2.939120381165681,
         2.9295525450618825,
         2.937781577269348,
         2.9291802096115336,
         2.916945467567591,
         2.948429587632854,
         2.9463819191884357,
         2.9333675444140512,
         2.9370344677072855,
         2.9538210555053857,
         2.9227361190434,
         2.932719579620111,
         2.9260439163006544,
         2.9242757406540827,
         2.9389590214683445,
         2.9374211444219864,
         2.9520810292840602,
         2.9341433310942344,
         2.949748895799136,
         2.9593847062127785,
         2.94174259826303,
         2.9283788652008074,
         2.9350991209122856,
         2.9485835475984192,
         2.94325607685401,
         2.924905929915834,
         2.933644046328214,
         2.9451708706674635,
         2.946699916166806,
         2.9430981190923062,
         2.952175484045516,
         2.9384100805883833,
         2.941826488773549,
         2.9482492513585625,
         2.9267489378675817,
         2.924710358865248,
         2.938514244364121,
         2.928568146377544,
         2.95580635573028,
         2.9418792640781937,
         2.938673609401982,
         2.9350989885874017,
         2.945001665023825,
         2.927046233502786,
         2.946235970814084,
         2.933028307732145,
         2.9430673363824713,
         2.932524867043804,
         2.9484255073801635,
         2.9242413198126034,
         2.955009907637437,
         2.9446211324589737,
         2.9490332123775214,
         2.9543923874132036,
         2.9372538770788026,
         2.9502278716299566,
         2.929520063846846,
         2.94417816030448,
         2.948219329627661,
         2.923250108193135,
         2.960545097102998,
         2.929246948716492,
         2.949831738394399,
         2.948323457523621,
         2.9337235179733447,
         2.934772489746041,
         2.962693538190386,
         2.942059216142342,
         2.9418541014160624,
         2.925607863578759,
         2.9504162198064674,
         2.937120337077979,
         2.929726498246984,
         2.963988124477229,
         2.923248495839767,
         2.9517672040310075,
         2.9447776853412124,
         2.9267050596628468,
         2.9538136112866,
         2.9390078782805182,
         2.952360612732318,
         2.9320227317894965,
         2.9494758441203155,
         2.9533694504097636,
         2.9359431825855116,
         2.952189272388628,
         2.9515801903687082,
         2.923531610800835
        ]
       ],
       "encoder": "json",
       "name": "ABC_GAN_2 Metrics",
       "version": 1
      }
     },
     "metadata": {
      "scrapbook": {
       "data": true,
       "display": false,
       "name": "ABC_GAN_2 Metrics"
      }
     },
     "output_type": "display_data"
    },
    {
     "name": "stdout",
     "output_type": "stream",
     "text": [
      "MAE\n",
      "0.21360764902194634\n"
     ]
    }
   ],
   "source": [
    "ABC_GAN2_metrics=ABC_train_test2.test_generator(gen2,test_data,prior_model,variance,bias,\"1\",device)\n",
    "sb.glue(\"ABC_GAN_2 Metrics\",ABC_GAN2_metrics)\n",
    "\n",
    "print(\"MAE\")\n",
    "print(mean(ABC_GAN2_metrics[1]))"
   ]
  },
  {
   "cell_type": "code",
   "execution_count": 18,
   "id": "9e66cd46",
   "metadata": {
    "execution": {
     "iopub.execute_input": "2022-07-22T19:25:53.318985Z",
     "iopub.status.busy": "2022-07-22T19:25:53.318238Z",
     "iopub.status.idle": "2022-07-22T19:25:54.843537Z",
     "shell.execute_reply": "2022-07-22T19:25:54.842261Z"
    },
    "papermill": {
     "duration": 1.557744,
     "end_time": "2022-07-22T19:25:54.847129",
     "exception": false,
     "start_time": "2022-07-22T19:25:53.289385",
     "status": "completed"
    },
    "tags": []
   },
   "outputs": [
    {
     "data": {
      "image/png": "[encoded data removed]",
      "text/plain": [
       "<Figure size 432x288 with 1 Axes>"
      ]
     },
     "metadata": {
      "needs_background": "light"
     },
     "output_type": "display_data"
    },
    {
     "data": {
      "image/png": "[encoded data removed]",
      "text/plain": [
       "<Figure size 432x288 with 1 Axes>"
      ]
     },
     "metadata": {
      "needs_background": "light"
     },
     "output_type": "display_data"
    },
    {
     "data": {
      "image/png": "[encoded data removed]",
      "text/plain": [
       "<Figure size 432x288 with 1 Axes>"
      ]
     },
     "metadata": {
      "needs_background": "light"
     },
     "output_type": "display_data"
    },
    {
     "data": {
      "image/png": "[encoded data removed]",
      "text/plain": [
       "<Figure size 432x288 with 1 Axes>"
      ]
     },
     "metadata": {
      "needs_background": "light"
     },
     "output_type": "display_data"
    }
   ],
   "source": [
    "sanityChecks.discProbVsError(train_data,disc2,device)\n",
    "sanityChecks.discProbVsError(test_data,disc2,device)"
   ]
  },
  {
   "cell_type": "markdown",
   "id": "130f3a4d",
   "metadata": {
    "id": "130f3a4d",
    "papermill": {
     "duration": 0.05769,
     "end_time": "2022-07-22T19:25:54.931028",
     "exception": false,
     "start_time": "2022-07-22T19:25:54.873338",
     "status": "completed"
    },
    "tags": []
   },
   "source": [
    "# skipGAN Model"
   ]
  },
  {
   "cell_type": "code",
   "execution_count": 19,
   "id": "4e43dad1",
   "metadata": {
    "execution": {
     "iopub.execute_input": "2022-07-22T19:25:55.165404Z",
     "iopub.status.busy": "2022-07-22T19:25:55.163351Z",
     "iopub.status.idle": "2022-07-22T19:25:55.194311Z",
     "shell.execute_reply": "2022-07-22T19:25:55.191129Z"
    },
    "id": "4e43dad1",
    "papermill": {
     "duration": 0.192019,
     "end_time": "2022-07-22T19:25:55.208036",
     "exception": false,
     "start_time": "2022-07-22T19:25:55.016017",
     "status": "completed"
    },
    "tags": []
   },
   "outputs": [],
   "source": [
    "# #Generator\n",
    "# gen3 = network.GeneratorWithSkipConnection(n_features+1).to(device)\n",
    "# constraints=network.weightConstraint()\n",
    "# #Discriminator \n",
    "# disc3 = network.Discriminator(n_features+1).to(device)\n",
    "\n",
    "# criterion = torch.nn.BCELoss()\n",
    "# gen_opt = torch.optim.Adam(gen3.parameters(), lr=0.01, betas=(0.5, 0.999))\n",
    "# disc_opt = torch.optim.Adam(disc3.parameters(), lr=0.01, betas=(0.5, 0.999))\n"
   ]
  },
  {
   "cell_type": "markdown",
   "id": "12c2b2bc",
   "metadata": {
    "tags": [
     "papermill-error-cell-tag"
    ]
   },
   "source": [
    "<span id=\"papermill-error-cell\" style=\"color:red; font-family:Helvetica Neue, Helvetica, Arial, sans-serif; font-size:2em;\">Execution using papermill encountered an exception here and stopped:</span>"
   ]
  },
  {
   "cell_type": "code",
   "execution_count": 20,
   "id": "26acbc37",
   "metadata": {
    "execution": {
     "iopub.execute_input": "2022-07-22T19:25:55.446640Z",
     "iopub.status.busy": "2022-07-22T19:25:55.445802Z",
     "iopub.status.idle": "2022-07-22T19:25:58.274334Z",
     "shell.execute_reply": "2022-07-22T19:25:58.270995Z"
    },
    "id": "26acbc37",
    "papermill": {
     "duration": 2.995817,
     "end_time": "2022-07-22T19:25:58.279248",
     "exception": true,
     "start_time": "2022-07-22T19:25:55.283431",
     "status": "failed"
    },
    "tags": []
   },
   "outputs": [
    {
     "ename": "NameError",
     "evalue": "name 'disc3' is not defined",
     "output_type": "error",
     "traceback": [
      "\u001b[0;31m---------------------------------------------------------------------------\u001b[0m",
      "\u001b[0;31mNameError\u001b[0m                                 Traceback (most recent call last)",
      "Input \u001b[0;32mIn [20]\u001b[0m, in \u001b[0;36m<cell line: 1>\u001b[0;34m()\u001b[0m\n\u001b[0;32m----> 1\u001b[0m ABC_train_test2\u001b[38;5;241m.\u001b[39mtraining_GAN_skip_connection(\u001b[43mdisc3\u001b[49m,gen3,disc_opt,gen_opt,train_data,batch_size,n_epochs,criterion,prior_model,variance,bias,device)\n",
      "\u001b[0;31mNameError\u001b[0m: name 'disc3' is not defined"
     ]
    }
   ],
   "source": [
    "ABC_train_test2.training_GAN_skip_connection(disc3,gen3,disc_opt,gen_opt,train_data,batch_size,n_epochs,criterion,prior_model,variance,bias,device)"
   ]
  },
  {
   "cell_type": "code",
   "execution_count": null,
   "id": "c5e0717b",
   "metadata": {
    "id": "c5e0717b",
    "papermill": {
     "duration": null,
     "end_time": null,
     "exception": null,
     "start_time": null,
     "status": "pending"
    },
    "tags": []
   },
   "outputs": [],
   "source": [
    "# ABC_GAN3_metrics=ABC_train_test2.test_generator(gen3,test_data,prior_model,variance,bias,\"3\",device)\n",
    "# sb.glue(\"ABC_GAN_3 Metrics\",ABC_GAN3_metrics)\n",
    "\n",
    "# print(\"MAE\")\n",
    "# print(mean(ABC_GAN3_metrics[1]))"
   ]
  },
  {
   "cell_type": "code",
   "execution_count": null,
   "id": "c8e46b48",
   "metadata": {
    "id": "c8e46b48",
    "papermill": {
     "duration": null,
     "end_time": null,
     "exception": null,
     "start_time": null,
     "status": "pending"
    },
    "tags": []
   },
   "outputs": [],
   "source": [
    "# sanityChecks.discProbVsError(train_data,disc3,device)\n",
    "# sanityChecks.discProbVsError(test_data,disc3,device)"
   ]
  },
  {
   "cell_type": "markdown",
   "id": "cb30d902",
   "metadata": {
    "id": "130f3a4d",
    "papermill": {
     "duration": null,
     "end_time": null,
     "exception": null,
     "start_time": null,
     "status": "pending"
    },
    "tags": []
   },
   "source": [
    "# skipGAN Model with TabNet Generator"
   ]
  },
  {
   "cell_type": "code",
   "execution_count": null,
   "id": "1ddf23f3",
   "metadata": {
    "id": "4e43dad1",
    "papermill": {
     "duration": null,
     "end_time": null,
     "exception": null,
     "start_time": null,
     "status": "pending"
    },
    "tags": []
   },
   "outputs": [],
   "source": [
    "# #Generator\n",
    "# gen4 = network.GeneratorTabnetskipConnection(n_features+1).to(device)\n",
    "# constraints=network.weightConstraint()\n",
    "# #Discriminator \n",
    "# disc4 = network.Discriminator(n_features+1).to(device)\n",
    "\n",
    "# criterion = torch.nn.BCELoss()\n",
    "# gen_opt = torch.optim.Adam(gen4.parameters(), lr=0.01, betas=(0.5, 0.999))\n",
    "# disc_opt = torch.optim.Adam(disc4.parameters(), lr=0.01, betas=(0.5, 0.999))\n"
   ]
  },
  {
   "cell_type": "code",
   "execution_count": null,
   "id": "76c262de",
   "metadata": {
    "id": "26acbc37",
    "papermill": {
     "duration": null,
     "end_time": null,
     "exception": null,
     "start_time": null,
     "status": "pending"
    },
    "tags": []
   },
   "outputs": [],
   "source": [
    "# ABC_train_test2.training_GAN_skip_connection(disc4,gen4,disc_opt,gen_opt,train_data,batch_size,n_epochs,criterion,prior_model,variance,bias,device)"
   ]
  },
  {
   "cell_type": "code",
   "execution_count": null,
   "id": "d8195cb3",
   "metadata": {
    "id": "c5e0717b",
    "papermill": {
     "duration": null,
     "end_time": null,
     "exception": null,
     "start_time": null,
     "status": "pending"
    },
    "tags": []
   },
   "outputs": [],
   "source": [
    "# ABC_GAN4_metrics=ABC_train_test2.test_generator(gen4,test_data,prior_model,variance,bias,\"3\",device)\n",
    "# sb.glue(\"ABC_GAN_4 Metrics\",ABC_GAN4_metrics)\n",
    "\n",
    "# print(\"MAE\")\n",
    "# print(mean(ABC_GAN4_metrics[1]))"
   ]
  },
  {
   "cell_type": "code",
   "execution_count": null,
   "id": "db90701a",
   "metadata": {
    "id": "c8e46b48",
    "papermill": {
     "duration": null,
     "end_time": null,
     "exception": null,
     "start_time": null,
     "status": "pending"
    },
    "tags": []
   },
   "outputs": [],
   "source": [
    "# sanityChecks.discProbVsError(train_data,disc4,device)\n",
    "# sanityChecks.discProbVsError(test_data,disc4,device)"
   ]
  },
  {
   "cell_type": "markdown",
   "id": "a5bd74c3",
   "metadata": {
    "id": "a5bd74c3",
    "papermill": {
     "duration": null,
     "end_time": null,
     "exception": null,
     "start_time": null,
     "status": "pending"
    },
    "tags": []
   },
   "source": [
    "## Skip Connection Model Analysis - ABC-GAN "
   ]
  },
  {
   "cell_type": "markdown",
   "id": "5744a8bf",
   "metadata": {
    "id": "5744a8bf",
    "papermill": {
     "duration": null,
     "end_time": null,
     "exception": null,
     "start_time": null,
     "status": "pending"
    },
    "tags": []
   },
   "source": [
    "### Weight Analysis \n",
    "\n",
    "Study the weights of the skip connection layer\n",
    "\n",
    "Equation of the skip connection is \n",
    "\n",
    "$output = y_{gan} * w + y_{abc} * (1-w)$"
   ]
  },
  {
   "cell_type": "code",
   "execution_count": null,
   "id": "52c31dea",
   "metadata": {
    "id": "52c31dea",
    "papermill": {
     "duration": null,
     "end_time": null,
     "exception": null,
     "start_time": null,
     "status": "pending"
    },
    "tags": []
   },
   "outputs": [],
   "source": [
    "# print(\"Weight of the node at skip connection\")\n",
    "# for name,param in gen3.named_parameters():\n",
    "#     if(name == \"skipNode.weight\"):\n",
    "#         print(param)\n",
    "#         sb.glue(\"Skip Connection Weight\",param.item())"
   ]
  },
  {
   "cell_type": "markdown",
   "id": "9892fa61",
   "metadata": {
    "id": "a5bd74c3",
    "papermill": {
     "duration": null,
     "end_time": null,
     "exception": null,
     "start_time": null,
     "status": "pending"
    },
    "tags": []
   },
   "source": [
    "## skipGAN Model Analysis (TabNet Generator) "
   ]
  },
  {
   "cell_type": "markdown",
   "id": "c7ca9d0c",
   "metadata": {
    "id": "5744a8bf",
    "papermill": {
     "duration": null,
     "end_time": null,
     "exception": null,
     "start_time": null,
     "status": "pending"
    },
    "tags": []
   },
   "source": [
    "### Weight Analysis \n",
    "\n",
    "Study the weights of the skip connection layer\n",
    "\n",
    "Equation of the skip connection is \n",
    "\n",
    "$output = y_{gan} * w + y_{abc} * (1-w)$"
   ]
  },
  {
   "cell_type": "code",
   "execution_count": null,
   "id": "5ca711a6",
   "metadata": {
    "id": "52c31dea",
    "papermill": {
     "duration": null,
     "end_time": null,
     "exception": null,
     "start_time": null,
     "status": "pending"
    },
    "tags": []
   },
   "outputs": [],
   "source": [
    "# print(\"Weight of the node at skip connection\")\n",
    "# for name,param in gen4.named_parameters():\n",
    "#     if(name == \"skipNode.weight\"):\n",
    "#         print(param)\n",
    "#         sb.glue(\"Skip Connection Weight\",param.item())"
   ]
  }
 ],
 "metadata": {
  "colab": {
   "collapsed_sections": [],
   "name": "ABC_GAN_Model-Catboost_Pre-gen.ipynb",
   "provenance": []
  },
  "interpreter": {
   "hash": "31f2aee4e71d21fbe5cf8b01ff0e069b9275f58929596ceb00d14d90e3e16cd6"
  },
  "kernelspec": {
   "display_name": "Python 3 (ipykernel)",
   "language": "python",
   "name": "python3"
  },
  "language_info": {
   "codemirror_mode": {
    "name": "ipython",
    "version": 3
   },
   "file_extension": ".py",
   "mimetype": "text/x-python",
   "name": "python",
   "nbconvert_exporter": "python",
   "pygments_lexer": "ipython3",
   "version": "3.8.13"
  },
  "papermill": {
   "default_parameters": {},
   "duration": 652.299635,
   "end_time": "2022-07-22T19:25:59.522735",
   "environment_variables": {},
   "exception": true,
   "input_path": "ABC_GAN-Catboost.ipynb",
   "output_path": "./ABC_GAN_Catboost/ABC-GAN_output_1_8.ipynb",
   "parameters": {
    "bias": 0.01,
    "variance": 0.01
   },
   "start_time": "2022-07-22T19:15:07.223100",
   "version": "2.3.3"
  }
 },
 "nbformat": 4,
 "nbformat_minor": 5
}