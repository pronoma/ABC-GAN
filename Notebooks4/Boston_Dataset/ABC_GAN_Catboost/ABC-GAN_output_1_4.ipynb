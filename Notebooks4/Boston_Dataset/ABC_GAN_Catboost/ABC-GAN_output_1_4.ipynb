{
 "cells": [
  {
   "cell_type": "markdown",
   "id": "57824659",
   "metadata": {
    "tags": [
     "papermill-error-cell-tag"
    ]
   },
   "source": [
    "<span style=\"color:red; font-family:Helvetica Neue, Helvetica, Arial, sans-serif; font-size:2em;\">An Exception was encountered at '<a href=\"#papermill-error-cell\">In [20]</a>'.</span>"
   ]
  },
  {
   "cell_type": "markdown",
   "id": "622780e6",
   "metadata": {
    "id": "622780e6",
    "papermill": {
     "duration": 0.008445,
     "end_time": "2022-07-22T18:31:29.197378",
     "exception": false,
     "start_time": "2022-07-22T18:31:29.188933",
     "status": "completed"
    },
    "tags": []
   },
   "source": [
    "## Import Libraries "
   ]
  },
  {
   "cell_type": "code",
   "execution_count": 1,
   "id": "a62397e3",
   "metadata": {
    "execution": {
     "iopub.execute_input": "2022-07-22T18:31:29.223254Z",
     "iopub.status.busy": "2022-07-22T18:31:29.222118Z",
     "iopub.status.idle": "2022-07-22T18:31:29.277808Z",
     "shell.execute_reply": "2022-07-22T18:31:29.265482Z"
    },
    "id": "a62397e3",
    "papermill": {
     "duration": 0.08037,
     "end_time": "2022-07-22T18:31:29.284973",
     "exception": false,
     "start_time": "2022-07-22T18:31:29.204603",
     "status": "completed"
    },
    "tags": []
   },
   "outputs": [],
   "source": [
    "import warnings\n",
    "import sys\n",
    "sys.path.insert(0, '../../src')\n",
    "warnings.filterwarnings('ignore')"
   ]
  },
  {
   "cell_type": "code",
   "execution_count": 2,
   "id": "d6a4e155",
   "metadata": {
    "execution": {
     "iopub.execute_input": "2022-07-22T18:31:29.305481Z",
     "iopub.status.busy": "2022-07-22T18:31:29.304381Z",
     "iopub.status.idle": "2022-07-22T18:31:37.517355Z",
     "shell.execute_reply": "2022-07-22T18:31:37.516658Z"
    },
    "id": "d6a4e155",
    "papermill": {
     "duration": 8.226577,
     "end_time": "2022-07-22T18:31:37.520454",
     "exception": false,
     "start_time": "2022-07-22T18:31:29.293877",
     "status": "completed"
    },
    "tags": []
   },
   "outputs": [],
   "source": [
    "import ABC_train_test2\n",
    "import bostonDataset\n",
    "import network\n",
    "import dataset\n",
    "import sanityChecks\n",
    "import torch \n",
    "import scrapbook as sb\n",
    "from statistics import mean \n",
    "import catboost as ctb \n",
    "from sklearn.model_selection import train_test_split\n",
    "from sklearn.metrics import mean_squared_error,mean_absolute_error\n",
    "import numpy as np"
   ]
  },
  {
   "cell_type": "markdown",
   "id": "2fa5b0f7",
   "metadata": {
    "id": "2fa5b0f7",
    "papermill": {
     "duration": 0.008431,
     "end_time": "2022-07-22T18:31:37.536549",
     "exception": false,
     "start_time": "2022-07-22T18:31:37.528118",
     "status": "completed"
    },
    "tags": []
   },
   "source": [
    "## Parameters "
   ]
  },
  {
   "cell_type": "code",
   "execution_count": 3,
   "id": "783186fb",
   "metadata": {
    "execution": {
     "iopub.execute_input": "2022-07-22T18:31:37.559270Z",
     "iopub.status.busy": "2022-07-22T18:31:37.557588Z",
     "iopub.status.idle": "2022-07-22T18:31:37.568394Z",
     "shell.execute_reply": "2022-07-22T18:31:37.564878Z"
    },
    "id": "783186fb",
    "papermill": {
     "duration": 0.032004,
     "end_time": "2022-07-22T18:31:37.576058",
     "exception": false,
     "start_time": "2022-07-22T18:31:37.544054",
     "status": "completed"
    },
    "tags": [
     "parameters"
    ]
   },
   "outputs": [],
   "source": [
    "variance = 1\n",
    "bias = 1 "
   ]
  },
  {
   "cell_type": "code",
   "execution_count": 4,
   "id": "ebafd124",
   "metadata": {
    "execution": {
     "iopub.execute_input": "2022-07-22T18:31:37.596426Z",
     "iopub.status.busy": "2022-07-22T18:31:37.596064Z",
     "iopub.status.idle": "2022-07-22T18:31:37.602624Z",
     "shell.execute_reply": "2022-07-22T18:31:37.601698Z"
    },
    "papermill": {
     "duration": 0.021794,
     "end_time": "2022-07-22T18:31:37.605665",
     "exception": false,
     "start_time": "2022-07-22T18:31:37.583871",
     "status": "completed"
    },
    "tags": [
     "injected-parameters"
    ]
   },
   "outputs": [],
   "source": [
    "# Parameters\n",
    "variance = 0.1\n",
    "bias = 0.1\n"
   ]
  },
  {
   "cell_type": "markdown",
   "id": "391cdbfd",
   "metadata": {
    "id": "391cdbfd",
    "papermill": {
     "duration": 0.007655,
     "end_time": "2022-07-22T18:31:37.620777",
     "exception": false,
     "start_time": "2022-07-22T18:31:37.613122",
     "status": "completed"
    },
    "tags": []
   },
   "source": [
    "## Dataset \n"
   ]
  },
  {
   "cell_type": "code",
   "execution_count": 5,
   "id": "5b51f161",
   "metadata": {
    "execution": {
     "iopub.execute_input": "2022-07-22T18:31:37.656240Z",
     "iopub.status.busy": "2022-07-22T18:31:37.655784Z",
     "iopub.status.idle": "2022-07-22T18:31:37.664268Z",
     "shell.execute_reply": "2022-07-22T18:31:37.661057Z"
    },
    "id": "5b51f161",
    "papermill": {
     "duration": 0.040462,
     "end_time": "2022-07-22T18:31:37.669379",
     "exception": false,
     "start_time": "2022-07-22T18:31:37.628917",
     "status": "completed"
    },
    "tags": []
   },
   "outputs": [],
   "source": [
    "#Parameters \n",
    "n_features = 13\n",
    "n_samples= 506\n",
    "n_target = 1 "
   ]
  },
  {
   "cell_type": "code",
   "execution_count": 6,
   "id": "5d6eced4",
   "metadata": {
    "execution": {
     "iopub.execute_input": "2022-07-22T18:31:37.687282Z",
     "iopub.status.busy": "2022-07-22T18:31:37.686441Z",
     "iopub.status.idle": "2022-07-22T18:31:37.716360Z",
     "shell.execute_reply": "2022-07-22T18:31:37.713842Z"
    },
    "id": "5d6eced4",
    "papermill": {
     "duration": 0.042222,
     "end_time": "2022-07-22T18:31:37.718968",
     "exception": false,
     "start_time": "2022-07-22T18:31:37.676746",
     "status": "completed"
    },
    "tags": []
   },
   "outputs": [
    {
     "name": "stdout",
     "output_type": "stream",
     "text": [
      "         X1        X2        X3        X4        X5        X6        X7  \\\n",
      "0 -0.419782  0.284830 -1.287909 -0.272599 -0.144217  0.413672 -0.120013   \n",
      "1 -0.417339 -0.487722 -0.593381 -0.272599 -0.740262  0.194274  0.367166   \n",
      "2 -0.417342 -0.487722 -0.593381 -0.272599 -0.740262  1.282714 -0.265812   \n",
      "3 -0.416750 -0.487722 -1.306878 -0.272599 -0.835284  1.016303 -0.809889   \n",
      "4 -0.412482 -0.487722 -1.306878 -0.272599 -0.835284  1.228577 -0.511180   \n",
      "\n",
      "         X8        X9       X10       X11       X12       X13         Y  \n",
      "0  0.140214 -0.982843 -0.666608 -1.459000  0.441052 -1.075562  0.159686  \n",
      "1  0.557160 -0.867883 -0.987329 -0.303094  0.441052 -0.492439 -0.101524  \n",
      "2  0.557160 -0.867883 -0.987329 -0.303094  0.396427 -1.208727  1.324247  \n",
      "3  1.077737 -0.752922 -1.106115  0.113032  0.416163 -1.361517  1.182758  \n",
      "4  1.077737 -0.752922 -1.106115  0.113032  0.441052 -1.026501  1.487503  \n"
     ]
    }
   ],
   "source": [
    "X,Y = bostonDataset.boston_data()"
   ]
  },
  {
   "cell_type": "code",
   "execution_count": 7,
   "id": "fe007438",
   "metadata": {
    "execution": {
     "iopub.execute_input": "2022-07-22T18:31:37.736884Z",
     "iopub.status.busy": "2022-07-22T18:31:37.736469Z",
     "iopub.status.idle": "2022-07-22T18:31:37.745224Z",
     "shell.execute_reply": "2022-07-22T18:31:37.743372Z"
    },
    "id": "fe007438",
    "papermill": {
     "duration": 0.021566,
     "end_time": "2022-07-22T18:31:37.748499",
     "exception": false,
     "start_time": "2022-07-22T18:31:37.726933",
     "status": "completed"
    },
    "tags": []
   },
   "outputs": [],
   "source": [
    "#Train test split for dataset \n",
    "X_train,X_test,Y_train,Y_test = train_test_split(X,Y,test_size = 0.2)\n",
    "train_data = dataset.CustomDataset(X_train,Y_train)\n",
    "test_data = dataset.CustomDataset(X_test,Y_test)\n"
   ]
  },
  {
   "cell_type": "markdown",
   "id": "a9a1af34",
   "metadata": {
    "id": "a9a1af34",
    "papermill": {
     "duration": 0.010932,
     "end_time": "2022-07-22T18:31:37.767406",
     "exception": false,
     "start_time": "2022-07-22T18:31:37.756474",
     "status": "completed"
    },
    "tags": []
   },
   "source": [
    "## Training Parameters "
   ]
  },
  {
   "cell_type": "code",
   "execution_count": 8,
   "id": "952b7fc8",
   "metadata": {
    "execution": {
     "iopub.execute_input": "2022-07-22T18:31:37.793791Z",
     "iopub.status.busy": "2022-07-22T18:31:37.793140Z",
     "iopub.status.idle": "2022-07-22T18:31:37.805424Z",
     "shell.execute_reply": "2022-07-22T18:31:37.800877Z"
    },
    "id": "952b7fc8",
    "papermill": {
     "duration": 0.036351,
     "end_time": "2022-07-22T18:31:37.811586",
     "exception": false,
     "start_time": "2022-07-22T18:31:37.775235",
     "status": "completed"
    },
    "tags": []
   },
   "outputs": [],
   "source": [
    "batch_size = 32\n",
    "n_epochs = 1000\n",
    "#Select the device \n",
    "device = torch.device('cuda' if torch.cuda.is_available() else 'cpu')"
   ]
  },
  {
   "cell_type": "markdown",
   "id": "a95e1600",
   "metadata": {
    "id": "a95e1600",
    "papermill": {
     "duration": 0.008139,
     "end_time": "2022-07-22T18:31:37.828638",
     "exception": false,
     "start_time": "2022-07-22T18:31:37.820499",
     "status": "completed"
    },
    "tags": []
   },
   "source": [
    "# ABC Pre-generator Model \n",
    "\n",
    "1. The catboost model is used as a pre-generator model for the ABC-GAN. \n",
    "2. The model is first trained on the entire dataset \n",
    "3. It generats X,Y pairs and we add some Gaussian noise with mean 0 and variance 1 to it which is then feed as input to the generator.\n"
   ]
  },
  {
   "cell_type": "code",
   "execution_count": 9,
   "id": "ff8ce7bd",
   "metadata": {
    "execution": {
     "iopub.execute_input": "2022-07-22T18:31:37.854305Z",
     "iopub.status.busy": "2022-07-22T18:31:37.853995Z",
     "iopub.status.idle": "2022-07-22T18:31:42.451963Z",
     "shell.execute_reply": "2022-07-22T18:31:42.450802Z"
    },
    "id": "ff8ce7bd",
    "papermill": {
     "duration": 4.61882,
     "end_time": "2022-07-22T18:31:42.455180",
     "exception": false,
     "start_time": "2022-07-22T18:31:37.836360",
     "status": "completed"
    },
    "tags": []
   },
   "outputs": [
    {
     "name": "stdout",
     "output_type": "stream",
     "text": [
      "Learning rate set to 0.03548\n"
     ]
    },
    {
     "name": "stdout",
     "output_type": "stream",
     "text": [
      "0:\tlearn: 0.9728734\ttotal: 67.1ms\tremaining: 1m 7s\n",
      "1:\tlearn: 0.9505047\ttotal: 70.2ms\tremaining: 35s\n",
      "2:\tlearn: 0.9285067\ttotal: 75ms\tremaining: 24.9s\n",
      "3:\tlearn: 0.9115131\ttotal: 80ms\tremaining: 19.9s\n",
      "4:\tlearn: 0.8932059\ttotal: 82.6ms\tremaining: 16.4s\n",
      "5:\tlearn: 0.8753663\ttotal: 85.4ms\tremaining: 14.2s\n",
      "6:\tlearn: 0.8590704\ttotal: 87.7ms\tremaining: 12.4s\n",
      "7:\tlearn: 0.8417325\ttotal: 89.8ms\tremaining: 11.1s\n",
      "8:\tlearn: 0.8260189\ttotal: 91.7ms\tremaining: 10.1s\n",
      "9:\tlearn: 0.8099349\ttotal: 93.8ms\tremaining: 9.29s\n",
      "10:\tlearn: 0.7957904\ttotal: 95.8ms\tremaining: 8.61s\n",
      "11:\tlearn: 0.7813554\ttotal: 98ms\tremaining: 8.07s\n",
      "12:\tlearn: 0.7654130\ttotal: 100ms\tremaining: 7.62s\n",
      "13:\tlearn: 0.7498762\ttotal: 103ms\tremaining: 7.25s\n",
      "14:\tlearn: 0.7375270\ttotal: 104ms\tremaining: 6.84s\n",
      "15:\tlearn: 0.7236087\ttotal: 106ms\tremaining: 6.55s\n",
      "16:\tlearn: 0.7110365\ttotal: 109ms\tremaining: 6.3s\n",
      "17:\tlearn: 0.6979871\ttotal: 111ms\tremaining: 6.07s\n",
      "18:\tlearn: 0.6851912\ttotal: 114ms\tremaining: 5.86s\n",
      "19:\tlearn: 0.6725685\ttotal: 116ms\tremaining: 5.69s\n",
      "20:\tlearn: 0.6593136\ttotal: 119ms\tremaining: 5.53s\n",
      "21:\tlearn: 0.6482583\ttotal: 121ms\tremaining: 5.38s\n",
      "22:\tlearn: 0.6374651\ttotal: 124ms\tremaining: 5.25s\n",
      "23:\tlearn: 0.6271497\ttotal: 126ms\tremaining: 5.13s\n",
      "24:\tlearn: 0.6169445\ttotal: 128ms\tremaining: 5.01s\n",
      "25:\tlearn: 0.6071131\ttotal: 131ms\tremaining: 4.91s\n",
      "26:\tlearn: 0.5986741\ttotal: 133ms\tremaining: 4.79s\n",
      "27:\tlearn: 0.5898908\ttotal: 135ms\tremaining: 4.7s\n",
      "28:\tlearn: 0.5812262\ttotal: 138ms\tremaining: 4.61s\n",
      "29:\tlearn: 0.5713821\ttotal: 140ms\tremaining: 4.53s\n",
      "30:\tlearn: 0.5609635\ttotal: 143ms\tremaining: 4.46s\n",
      "31:\tlearn: 0.5529522\ttotal: 145ms\tremaining: 4.39s\n",
      "32:\tlearn: 0.5464875\ttotal: 147ms\tremaining: 4.32s\n",
      "33:\tlearn: 0.5384698\ttotal: 150ms\tremaining: 4.27s\n",
      "34:\tlearn: 0.5314861\ttotal: 153ms\tremaining: 4.21s\n",
      "35:\tlearn: 0.5240705\ttotal: 155ms\tremaining: 4.15s\n",
      "36:\tlearn: 0.5176425\ttotal: 157ms\tremaining: 4.1s\n",
      "37:\tlearn: 0.5107606\ttotal: 160ms\tremaining: 4.04s\n",
      "38:\tlearn: 0.5038332\ttotal: 162ms\tremaining: 4s\n",
      "39:\tlearn: 0.4965293\ttotal: 163ms\tremaining: 3.92s\n",
      "40:\tlearn: 0.4913484\ttotal: 166ms\tremaining: 3.88s\n",
      "41:\tlearn: 0.4852865\ttotal: 168ms\tremaining: 3.84s\n",
      "42:\tlearn: 0.4804805\ttotal: 171ms\tremaining: 3.8s\n",
      "43:\tlearn: 0.4744685\ttotal: 173ms\tremaining: 3.77s\n",
      "44:\tlearn: 0.4696757\ttotal: 176ms\tremaining: 3.73s\n",
      "45:\tlearn: 0.4643460\ttotal: 178ms\tremaining: 3.69s\n",
      "46:\tlearn: 0.4603088\ttotal: 180ms\tremaining: 3.66s\n",
      "47:\tlearn: 0.4553721\ttotal: 183ms\tremaining: 3.63s\n"
     ]
    },
    {
     "name": "stdout",
     "output_type": "stream",
     "text": [
      "48:\tlearn: 0.4500461\ttotal: 185ms\tremaining: 3.6s\n",
      "49:\tlearn: 0.4457347\ttotal: 188ms\tremaining: 3.56s\n",
      "50:\tlearn: 0.4407163\ttotal: 192ms\tremaining: 3.56s\n",
      "51:\tlearn: 0.4350409\ttotal: 194ms\tremaining: 3.54s\n",
      "52:\tlearn: 0.4294605\ttotal: 196ms\tremaining: 3.51s\n",
      "53:\tlearn: 0.4266776\ttotal: 198ms\tremaining: 3.46s\n",
      "54:\tlearn: 0.4222674\ttotal: 200ms\tremaining: 3.44s\n",
      "55:\tlearn: 0.4185832\ttotal: 202ms\tremaining: 3.41s\n",
      "56:\tlearn: 0.4151879\ttotal: 205ms\tremaining: 3.38s\n",
      "57:\tlearn: 0.4108662\ttotal: 207ms\tremaining: 3.36s\n",
      "58:\tlearn: 0.4076132\ttotal: 209ms\tremaining: 3.34s\n",
      "59:\tlearn: 0.4041643\ttotal: 212ms\tremaining: 3.32s\n",
      "60:\tlearn: 0.4006282\ttotal: 214ms\tremaining: 3.3s\n",
      "61:\tlearn: 0.3974100\ttotal: 217ms\tremaining: 3.28s\n",
      "62:\tlearn: 0.3947542\ttotal: 219ms\tremaining: 3.26s\n",
      "63:\tlearn: 0.3913826\ttotal: 222ms\tremaining: 3.24s\n",
      "64:\tlearn: 0.3889623\ttotal: 224ms\tremaining: 3.23s\n",
      "65:\tlearn: 0.3854018\ttotal: 227ms\tremaining: 3.21s\n",
      "66:\tlearn: 0.3827634\ttotal: 230ms\tremaining: 3.2s\n",
      "67:\tlearn: 0.3798198\ttotal: 232ms\tremaining: 3.18s\n",
      "68:\tlearn: 0.3765838\ttotal: 234ms\tremaining: 3.16s\n",
      "69:\tlearn: 0.3739912\ttotal: 237ms\tremaining: 3.15s\n",
      "70:\tlearn: 0.3707333\ttotal: 239ms\tremaining: 3.13s\n",
      "71:\tlearn: 0.3678697\ttotal: 242ms\tremaining: 3.13s\n"
     ]
    },
    {
     "name": "stdout",
     "output_type": "stream",
     "text": [
      "72:\tlearn: 0.3654539\ttotal: 245ms\tremaining: 3.11s\n",
      "73:\tlearn: 0.3624255\ttotal: 248ms\tremaining: 3.11s\n",
      "74:\tlearn: 0.3600957\ttotal: 251ms\tremaining: 3.09s\n",
      "75:\tlearn: 0.3576929\ttotal: 254ms\tremaining: 3.08s\n",
      "76:\tlearn: 0.3542662\ttotal: 256ms\tremaining: 3.07s\n",
      "77:\tlearn: 0.3519541\ttotal: 258ms\tremaining: 3.05s\n",
      "78:\tlearn: 0.3502286\ttotal: 261ms\tremaining: 3.04s\n",
      "79:\tlearn: 0.3471885\ttotal: 262ms\tremaining: 3.02s\n",
      "80:\tlearn: 0.3445311\ttotal: 265ms\tremaining: 3s\n",
      "81:\tlearn: 0.3416883\ttotal: 267ms\tremaining: 2.99s\n",
      "82:\tlearn: 0.3395061\ttotal: 269ms\tremaining: 2.98s\n",
      "83:\tlearn: 0.3377225\ttotal: 273ms\tremaining: 2.98s\n",
      "84:\tlearn: 0.3356035\ttotal: 275ms\tremaining: 2.96s\n",
      "85:\tlearn: 0.3333265\ttotal: 278ms\tremaining: 2.95s\n",
      "86:\tlearn: 0.3312336\ttotal: 279ms\tremaining: 2.93s\n",
      "87:\tlearn: 0.3288735\ttotal: 282ms\tremaining: 2.92s\n",
      "88:\tlearn: 0.3266125\ttotal: 284ms\tremaining: 2.91s\n",
      "89:\tlearn: 0.3249841\ttotal: 287ms\tremaining: 2.9s\n",
      "90:\tlearn: 0.3223040\ttotal: 289ms\tremaining: 2.89s\n",
      "91:\tlearn: 0.3207881\ttotal: 292ms\tremaining: 2.88s\n",
      "92:\tlearn: 0.3188445\ttotal: 295ms\tremaining: 2.87s\n",
      "93:\tlearn: 0.3178647\ttotal: 297ms\tremaining: 2.86s\n",
      "94:\tlearn: 0.3160621\ttotal: 299ms\tremaining: 2.85s\n",
      "95:\tlearn: 0.3154829\ttotal: 302ms\tremaining: 2.84s\n",
      "96:\tlearn: 0.3133765\ttotal: 309ms\tremaining: 2.88s\n",
      "97:\tlearn: 0.3120306\ttotal: 312ms\tremaining: 2.87s\n",
      "98:\tlearn: 0.3106586\ttotal: 315ms\tremaining: 2.87s\n",
      "99:\tlearn: 0.3089014\ttotal: 318ms\tremaining: 2.86s\n",
      "100:\tlearn: 0.3073436\ttotal: 323ms\tremaining: 2.87s\n",
      "101:\tlearn: 0.3056413\ttotal: 325ms\tremaining: 2.86s\n",
      "102:\tlearn: 0.3046517\ttotal: 333ms\tremaining: 2.9s\n",
      "103:\tlearn: 0.3031584\ttotal: 337ms\tremaining: 2.9s\n",
      "104:\tlearn: 0.3020110\ttotal: 339ms\tremaining: 2.89s\n",
      "105:\tlearn: 0.3001763\ttotal: 341ms\tremaining: 2.88s\n",
      "106:\tlearn: 0.2981352\ttotal: 344ms\tremaining: 2.87s\n",
      "107:\tlearn: 0.2972714\ttotal: 346ms\tremaining: 2.86s\n",
      "108:\tlearn: 0.2960597\ttotal: 348ms\tremaining: 2.85s\n",
      "109:\tlearn: 0.2941526\ttotal: 351ms\tremaining: 2.84s\n",
      "110:\tlearn: 0.2929422\ttotal: 354ms\tremaining: 2.83s\n",
      "111:\tlearn: 0.2918847\ttotal: 356ms\tremaining: 2.83s\n",
      "112:\tlearn: 0.2908378\ttotal: 360ms\tremaining: 2.82s\n"
     ]
    },
    {
     "name": "stdout",
     "output_type": "stream",
     "text": [
      "113:\tlearn: 0.2892844\ttotal: 367ms\tremaining: 2.85s\n",
      "114:\tlearn: 0.2881152\ttotal: 371ms\tremaining: 2.85s\n",
      "115:\tlearn: 0.2865261\ttotal: 373ms\tremaining: 2.84s\n",
      "116:\tlearn: 0.2854104\ttotal: 375ms\tremaining: 2.83s\n",
      "117:\tlearn: 0.2842894\ttotal: 377ms\tremaining: 2.82s\n",
      "118:\tlearn: 0.2828490\ttotal: 380ms\tremaining: 2.81s\n",
      "119:\tlearn: 0.2821968\ttotal: 382ms\tremaining: 2.8s\n",
      "120:\tlearn: 0.2808261\ttotal: 385ms\tremaining: 2.79s\n",
      "121:\tlearn: 0.2801086\ttotal: 387ms\tremaining: 2.78s\n",
      "122:\tlearn: 0.2789744\ttotal: 389ms\tremaining: 2.77s\n",
      "123:\tlearn: 0.2780621\ttotal: 391ms\tremaining: 2.76s\n",
      "124:\tlearn: 0.2764646\ttotal: 394ms\tremaining: 2.76s\n",
      "125:\tlearn: 0.2753507\ttotal: 399ms\tremaining: 2.76s\n",
      "126:\tlearn: 0.2738512\ttotal: 402ms\tremaining: 2.77s\n",
      "127:\tlearn: 0.2728666\ttotal: 408ms\tremaining: 2.78s\n",
      "128:\tlearn: 0.2716758\ttotal: 410ms\tremaining: 2.77s\n",
      "129:\tlearn: 0.2707194\ttotal: 412ms\tremaining: 2.75s\n",
      "130:\tlearn: 0.2697281\ttotal: 416ms\tremaining: 2.76s\n",
      "131:\tlearn: 0.2689917\ttotal: 418ms\tremaining: 2.75s\n"
     ]
    },
    {
     "name": "stdout",
     "output_type": "stream",
     "text": [
      "132:\tlearn: 0.2679752\ttotal: 421ms\tremaining: 2.74s\n",
      "133:\tlearn: 0.2666326\ttotal: 423ms\tremaining: 2.73s\n",
      "134:\tlearn: 0.2659294\ttotal: 425ms\tremaining: 2.73s\n",
      "135:\tlearn: 0.2650567\ttotal: 428ms\tremaining: 2.72s\n",
      "136:\tlearn: 0.2635329\ttotal: 430ms\tremaining: 2.71s\n",
      "137:\tlearn: 0.2627966\ttotal: 433ms\tremaining: 2.7s\n",
      "138:\tlearn: 0.2617116\ttotal: 437ms\tremaining: 2.71s\n",
      "139:\tlearn: 0.2608395\ttotal: 439ms\tremaining: 2.7s\n",
      "140:\tlearn: 0.2597666\ttotal: 442ms\tremaining: 2.69s\n",
      "141:\tlearn: 0.2585299\ttotal: 444ms\tremaining: 2.69s\n",
      "142:\tlearn: 0.2573948\ttotal: 447ms\tremaining: 2.68s\n",
      "143:\tlearn: 0.2563571\ttotal: 450ms\tremaining: 2.67s\n",
      "144:\tlearn: 0.2558219\ttotal: 453ms\tremaining: 2.67s\n",
      "145:\tlearn: 0.2545532\ttotal: 455ms\tremaining: 2.66s\n",
      "146:\tlearn: 0.2542415\ttotal: 457ms\tremaining: 2.65s\n",
      "147:\tlearn: 0.2533123\ttotal: 460ms\tremaining: 2.65s\n",
      "148:\tlearn: 0.2527633\ttotal: 462ms\tremaining: 2.64s\n",
      "149:\tlearn: 0.2523487\ttotal: 464ms\tremaining: 2.63s\n",
      "150:\tlearn: 0.2511311\ttotal: 467ms\tremaining: 2.63s\n",
      "151:\tlearn: 0.2505275\ttotal: 469ms\tremaining: 2.62s\n",
      "152:\tlearn: 0.2497097\ttotal: 472ms\tremaining: 2.61s\n",
      "153:\tlearn: 0.2491455\ttotal: 475ms\tremaining: 2.61s\n",
      "154:\tlearn: 0.2486376\ttotal: 477ms\tremaining: 2.6s\n",
      "155:\tlearn: 0.2478664\ttotal: 480ms\tremaining: 2.6s\n",
      "156:\tlearn: 0.2472709\ttotal: 482ms\tremaining: 2.59s\n",
      "157:\tlearn: 0.2462941\ttotal: 485ms\tremaining: 2.58s\n",
      "158:\tlearn: 0.2453926\ttotal: 487ms\tremaining: 2.58s\n",
      "159:\tlearn: 0.2447514\ttotal: 490ms\tremaining: 2.57s\n",
      "160:\tlearn: 0.2441285\ttotal: 491ms\tremaining: 2.56s\n",
      "161:\tlearn: 0.2439368\ttotal: 494ms\tremaining: 2.55s\n",
      "162:\tlearn: 0.2432714\ttotal: 496ms\tremaining: 2.54s\n",
      "163:\tlearn: 0.2430780\ttotal: 498ms\tremaining: 2.54s\n",
      "164:\tlearn: 0.2421116\ttotal: 500ms\tremaining: 2.53s\n",
      "165:\tlearn: 0.2413768\ttotal: 502ms\tremaining: 2.52s\n",
      "166:\tlearn: 0.2408481\ttotal: 504ms\tremaining: 2.51s\n",
      "167:\tlearn: 0.2400702\ttotal: 506ms\tremaining: 2.51s\n",
      "168:\tlearn: 0.2397508\ttotal: 509ms\tremaining: 2.5s\n",
      "169:\tlearn: 0.2394139\ttotal: 511ms\tremaining: 2.5s\n",
      "170:\tlearn: 0.2388815\ttotal: 514ms\tremaining: 2.49s\n",
      "171:\tlearn: 0.2380427\ttotal: 516ms\tremaining: 2.48s\n",
      "172:\tlearn: 0.2373794\ttotal: 518ms\tremaining: 2.48s\n",
      "173:\tlearn: 0.2364588\ttotal: 520ms\tremaining: 2.47s\n",
      "174:\tlearn: 0.2360509\ttotal: 523ms\tremaining: 2.46s\n",
      "175:\tlearn: 0.2356542\ttotal: 525ms\tremaining: 2.46s\n",
      "176:\tlearn: 0.2347835\ttotal: 527ms\tremaining: 2.45s\n",
      "177:\tlearn: 0.2341254\ttotal: 530ms\tremaining: 2.45s\n",
      "178:\tlearn: 0.2334411\ttotal: 532ms\tremaining: 2.44s\n",
      "179:\tlearn: 0.2328643\ttotal: 535ms\tremaining: 2.44s\n"
     ]
    },
    {
     "name": "stdout",
     "output_type": "stream",
     "text": [
      "180:\tlearn: 0.2326496\ttotal: 538ms\tremaining: 2.43s\n",
      "181:\tlearn: 0.2315699\ttotal: 540ms\tremaining: 2.43s\n",
      "182:\tlearn: 0.2311426\ttotal: 542ms\tremaining: 2.42s\n",
      "183:\tlearn: 0.2302490\ttotal: 545ms\tremaining: 2.42s\n",
      "184:\tlearn: 0.2296808\ttotal: 548ms\tremaining: 2.41s\n",
      "185:\tlearn: 0.2290233\ttotal: 550ms\tremaining: 2.4s\n",
      "186:\tlearn: 0.2280593\ttotal: 552ms\tremaining: 2.4s\n",
      "187:\tlearn: 0.2275881\ttotal: 555ms\tremaining: 2.4s\n",
      "188:\tlearn: 0.2271208\ttotal: 557ms\tremaining: 2.39s\n",
      "189:\tlearn: 0.2265967\ttotal: 560ms\tremaining: 2.38s\n",
      "190:\tlearn: 0.2260949\ttotal: 562ms\tremaining: 2.38s\n",
      "191:\tlearn: 0.2258219\ttotal: 565ms\tremaining: 2.38s\n",
      "192:\tlearn: 0.2248667\ttotal: 567ms\tremaining: 2.37s\n",
      "193:\tlearn: 0.2243872\ttotal: 572ms\tremaining: 2.38s\n",
      "194:\tlearn: 0.2240123\ttotal: 576ms\tremaining: 2.38s\n"
     ]
    },
    {
     "name": "stdout",
     "output_type": "stream",
     "text": [
      "195:\tlearn: 0.2234080\ttotal: 627ms\tremaining: 2.57s\n",
      "196:\tlearn: 0.2229879\ttotal: 649ms\tremaining: 2.64s\n",
      "197:\tlearn: 0.2221795\ttotal: 651ms\tremaining: 2.64s\n",
      "198:\tlearn: 0.2216325\ttotal: 654ms\tremaining: 2.63s\n",
      "199:\tlearn: 0.2211183\ttotal: 664ms\tremaining: 2.66s\n",
      "200:\tlearn: 0.2203854\ttotal: 678ms\tremaining: 2.69s\n",
      "201:\tlearn: 0.2198048\ttotal: 683ms\tremaining: 2.7s\n",
      "202:\tlearn: 0.2192931\ttotal: 686ms\tremaining: 2.69s\n",
      "203:\tlearn: 0.2186155\ttotal: 688ms\tremaining: 2.68s\n",
      "204:\tlearn: 0.2178565\ttotal: 691ms\tremaining: 2.68s\n",
      "205:\tlearn: 0.2171947\ttotal: 694ms\tremaining: 2.67s\n",
      "206:\tlearn: 0.2166766\ttotal: 697ms\tremaining: 2.67s\n",
      "207:\tlearn: 0.2162783\ttotal: 700ms\tremaining: 2.66s\n",
      "208:\tlearn: 0.2157972\ttotal: 702ms\tremaining: 2.66s\n",
      "209:\tlearn: 0.2151502\ttotal: 705ms\tremaining: 2.65s\n"
     ]
    },
    {
     "name": "stdout",
     "output_type": "stream",
     "text": [
      "210:\tlearn: 0.2146030\ttotal: 710ms\tremaining: 2.65s\n",
      "211:\tlearn: 0.2139649\ttotal: 715ms\tremaining: 2.66s\n",
      "212:\tlearn: 0.2128590\ttotal: 718ms\tremaining: 2.65s\n",
      "213:\tlearn: 0.2121446\ttotal: 721ms\tremaining: 2.65s\n",
      "214:\tlearn: 0.2118741\ttotal: 723ms\tremaining: 2.64s\n",
      "215:\tlearn: 0.2115511\ttotal: 726ms\tremaining: 2.63s\n",
      "216:\tlearn: 0.2109284\ttotal: 728ms\tremaining: 2.63s\n",
      "217:\tlearn: 0.2104992\ttotal: 731ms\tremaining: 2.62s\n",
      "218:\tlearn: 0.2099404\ttotal: 734ms\tremaining: 2.62s\n",
      "219:\tlearn: 0.2095100\ttotal: 738ms\tremaining: 2.62s\n",
      "220:\tlearn: 0.2089368\ttotal: 741ms\tremaining: 2.61s\n",
      "221:\tlearn: 0.2086774\ttotal: 744ms\tremaining: 2.61s\n",
      "222:\tlearn: 0.2083248\ttotal: 747ms\tremaining: 2.6s\n",
      "223:\tlearn: 0.2077339\ttotal: 749ms\tremaining: 2.59s\n"
     ]
    },
    {
     "name": "stdout",
     "output_type": "stream",
     "text": [
      "224:\tlearn: 0.2073862\ttotal: 751ms\tremaining: 2.59s\n",
      "225:\tlearn: 0.2071326\ttotal: 755ms\tremaining: 2.59s\n",
      "226:\tlearn: 0.2069824\ttotal: 758ms\tremaining: 2.58s\n",
      "227:\tlearn: 0.2062122\ttotal: 760ms\tremaining: 2.57s\n",
      "228:\tlearn: 0.2060842\ttotal: 762ms\tremaining: 2.57s\n",
      "229:\tlearn: 0.2058353\ttotal: 765ms\tremaining: 2.56s\n",
      "230:\tlearn: 0.2053070\ttotal: 768ms\tremaining: 2.56s\n",
      "231:\tlearn: 0.2048923\ttotal: 770ms\tremaining: 2.55s\n",
      "232:\tlearn: 0.2047970\ttotal: 772ms\tremaining: 2.54s\n",
      "233:\tlearn: 0.2040113\ttotal: 775ms\tremaining: 2.54s\n",
      "234:\tlearn: 0.2033836\ttotal: 778ms\tremaining: 2.53s\n",
      "235:\tlearn: 0.2026818\ttotal: 781ms\tremaining: 2.53s\n",
      "236:\tlearn: 0.2021774\ttotal: 783ms\tremaining: 2.52s\n",
      "237:\tlearn: 0.2020295\ttotal: 786ms\tremaining: 2.52s\n",
      "238:\tlearn: 0.2014009\ttotal: 788ms\tremaining: 2.51s\n",
      "239:\tlearn: 0.2012001\ttotal: 791ms\tremaining: 2.5s\n",
      "240:\tlearn: 0.2009858\ttotal: 793ms\tremaining: 2.5s\n",
      "241:\tlearn: 0.2008310\ttotal: 796ms\tremaining: 2.49s\n",
      "242:\tlearn: 0.2002414\ttotal: 798ms\tremaining: 2.49s\n",
      "243:\tlearn: 0.1995913\ttotal: 801ms\tremaining: 2.48s\n",
      "244:\tlearn: 0.1988367\ttotal: 803ms\tremaining: 2.48s\n",
      "245:\tlearn: 0.1983281\ttotal: 806ms\tremaining: 2.47s\n",
      "246:\tlearn: 0.1978200\ttotal: 808ms\tremaining: 2.46s\n",
      "247:\tlearn: 0.1971528\ttotal: 810ms\tremaining: 2.46s\n",
      "248:\tlearn: 0.1968127\ttotal: 813ms\tremaining: 2.45s\n",
      "249:\tlearn: 0.1962503\ttotal: 815ms\tremaining: 2.44s\n",
      "250:\tlearn: 0.1957119\ttotal: 817ms\tremaining: 2.44s\n",
      "251:\tlearn: 0.1955194\ttotal: 820ms\tremaining: 2.43s\n",
      "252:\tlearn: 0.1951642\ttotal: 822ms\tremaining: 2.43s\n",
      "253:\tlearn: 0.1946747\ttotal: 825ms\tremaining: 2.42s\n",
      "254:\tlearn: 0.1945932\ttotal: 827ms\tremaining: 2.42s\n",
      "255:\tlearn: 0.1944720\ttotal: 829ms\tremaining: 2.41s\n",
      "256:\tlearn: 0.1938767\ttotal: 831ms\tremaining: 2.4s\n",
      "257:\tlearn: 0.1932361\ttotal: 834ms\tremaining: 2.4s\n"
     ]
    },
    {
     "name": "stdout",
     "output_type": "stream",
     "text": [
      "258:\tlearn: 0.1928833\ttotal: 836ms\tremaining: 2.39s\n",
      "259:\tlearn: 0.1923903\ttotal: 839ms\tremaining: 2.39s\n",
      "260:\tlearn: 0.1917452\ttotal: 841ms\tremaining: 2.38s\n",
      "261:\tlearn: 0.1912255\ttotal: 843ms\tremaining: 2.38s\n",
      "262:\tlearn: 0.1911107\ttotal: 845ms\tremaining: 2.37s\n",
      "263:\tlearn: 0.1904115\ttotal: 847ms\tremaining: 2.36s\n",
      "264:\tlearn: 0.1902948\ttotal: 850ms\tremaining: 2.36s\n",
      "265:\tlearn: 0.1897653\ttotal: 852ms\tremaining: 2.35s\n",
      "266:\tlearn: 0.1892998\ttotal: 855ms\tremaining: 2.35s\n",
      "267:\tlearn: 0.1889566\ttotal: 857ms\tremaining: 2.34s\n",
      "268:\tlearn: 0.1884686\ttotal: 861ms\tremaining: 2.34s\n",
      "269:\tlearn: 0.1881278\ttotal: 865ms\tremaining: 2.34s\n",
      "270:\tlearn: 0.1876059\ttotal: 870ms\tremaining: 2.34s\n",
      "271:\tlearn: 0.1871928\ttotal: 872ms\tremaining: 2.33s\n",
      "272:\tlearn: 0.1870957\ttotal: 875ms\tremaining: 2.33s\n",
      "273:\tlearn: 0.1866255\ttotal: 877ms\tremaining: 2.32s\n",
      "274:\tlearn: 0.1861481\ttotal: 879ms\tremaining: 2.32s\n",
      "275:\tlearn: 0.1856377\ttotal: 882ms\tremaining: 2.31s\n",
      "276:\tlearn: 0.1855152\ttotal: 884ms\tremaining: 2.31s\n",
      "277:\tlearn: 0.1854269\ttotal: 886ms\tremaining: 2.3s\n",
      "278:\tlearn: 0.1848189\ttotal: 889ms\tremaining: 2.3s\n",
      "279:\tlearn: 0.1842667\ttotal: 891ms\tremaining: 2.29s\n",
      "280:\tlearn: 0.1841667\ttotal: 893ms\tremaining: 2.29s\n",
      "281:\tlearn: 0.1838566\ttotal: 896ms\tremaining: 2.28s\n",
      "282:\tlearn: 0.1837283\ttotal: 898ms\tremaining: 2.27s\n",
      "283:\tlearn: 0.1836523\ttotal: 903ms\tremaining: 2.27s\n",
      "284:\tlearn: 0.1831340\ttotal: 906ms\tremaining: 2.27s\n",
      "285:\tlearn: 0.1829427\ttotal: 909ms\tremaining: 2.27s\n",
      "286:\tlearn: 0.1824859\ttotal: 911ms\tremaining: 2.26s\n",
      "287:\tlearn: 0.1823326\ttotal: 914ms\tremaining: 2.26s\n",
      "288:\tlearn: 0.1822435\ttotal: 916ms\tremaining: 2.25s\n"
     ]
    },
    {
     "name": "stdout",
     "output_type": "stream",
     "text": [
      "289:\tlearn: 0.1817732\ttotal: 919ms\tremaining: 2.25s\n",
      "290:\tlearn: 0.1816064\ttotal: 921ms\tremaining: 2.24s\n",
      "291:\tlearn: 0.1812042\ttotal: 923ms\tremaining: 2.24s\n",
      "292:\tlearn: 0.1807861\ttotal: 926ms\tremaining: 2.23s\n",
      "293:\tlearn: 0.1801491\ttotal: 928ms\tremaining: 2.23s\n",
      "294:\tlearn: 0.1800514\ttotal: 931ms\tremaining: 2.22s\n",
      "295:\tlearn: 0.1794943\ttotal: 933ms\tremaining: 2.22s\n",
      "296:\tlearn: 0.1793325\ttotal: 936ms\tremaining: 2.21s\n",
      "297:\tlearn: 0.1790650\ttotal: 938ms\tremaining: 2.21s\n",
      "298:\tlearn: 0.1790070\ttotal: 941ms\tremaining: 2.21s\n",
      "299:\tlearn: 0.1783975\ttotal: 944ms\tremaining: 2.2s\n",
      "300:\tlearn: 0.1782279\ttotal: 947ms\tremaining: 2.2s\n",
      "301:\tlearn: 0.1778182\ttotal: 949ms\tremaining: 2.19s\n",
      "302:\tlearn: 0.1775359\ttotal: 952ms\tremaining: 2.19s\n",
      "303:\tlearn: 0.1773106\ttotal: 954ms\tremaining: 2.18s\n",
      "304:\tlearn: 0.1769507\ttotal: 956ms\tremaining: 2.18s\n",
      "305:\tlearn: 0.1763534\ttotal: 959ms\tremaining: 2.17s\n",
      "306:\tlearn: 0.1757498\ttotal: 961ms\tremaining: 2.17s\n",
      "307:\tlearn: 0.1751459\ttotal: 964ms\tremaining: 2.17s\n",
      "308:\tlearn: 0.1750177\ttotal: 967ms\tremaining: 2.16s\n",
      "309:\tlearn: 0.1748005\ttotal: 969ms\tremaining: 2.16s\n",
      "310:\tlearn: 0.1746035\ttotal: 971ms\tremaining: 2.15s\n",
      "311:\tlearn: 0.1745152\ttotal: 973ms\tremaining: 2.15s\n",
      "312:\tlearn: 0.1741619\ttotal: 976ms\tremaining: 2.14s\n",
      "313:\tlearn: 0.1736871\ttotal: 978ms\tremaining: 2.14s\n",
      "314:\tlearn: 0.1732133\ttotal: 980ms\tremaining: 2.13s\n",
      "315:\tlearn: 0.1730679\ttotal: 982ms\tremaining: 2.13s\n",
      "316:\tlearn: 0.1727216\ttotal: 985ms\tremaining: 2.12s\n",
      "317:\tlearn: 0.1724906\ttotal: 988ms\tremaining: 2.12s\n",
      "318:\tlearn: 0.1722765\ttotal: 990ms\tremaining: 2.11s\n",
      "319:\tlearn: 0.1720513\ttotal: 993ms\tremaining: 2.11s\n",
      "320:\tlearn: 0.1716913\ttotal: 995ms\tremaining: 2.1s\n"
     ]
    },
    {
     "name": "stdout",
     "output_type": "stream",
     "text": [
      "321:\tlearn: 0.1711808\ttotal: 1.02s\tremaining: 2.16s\n",
      "322:\tlearn: 0.1706897\ttotal: 1.03s\tremaining: 2.16s\n",
      "323:\tlearn: 0.1703964\ttotal: 1.03s\tremaining: 2.16s\n",
      "324:\tlearn: 0.1700920\ttotal: 1.04s\tremaining: 2.16s\n",
      "325:\tlearn: 0.1700197\ttotal: 1.04s\tremaining: 2.16s\n",
      "326:\tlearn: 0.1696924\ttotal: 1.05s\tremaining: 2.15s\n",
      "327:\tlearn: 0.1696439\ttotal: 1.05s\tremaining: 2.15s\n",
      "328:\tlearn: 0.1695970\ttotal: 1.05s\tremaining: 2.15s\n",
      "329:\tlearn: 0.1691452\ttotal: 1.06s\tremaining: 2.16s\n",
      "330:\tlearn: 0.1688938\ttotal: 1.07s\tremaining: 2.16s\n",
      "331:\tlearn: 0.1685358\ttotal: 1.07s\tremaining: 2.16s\n",
      "332:\tlearn: 0.1684873\ttotal: 1.08s\tremaining: 2.16s\n",
      "333:\tlearn: 0.1683861\ttotal: 1.08s\tremaining: 2.16s\n"
     ]
    },
    {
     "name": "stdout",
     "output_type": "stream",
     "text": [
      "334:\tlearn: 0.1679481\ttotal: 1.09s\tremaining: 2.17s\n",
      "335:\tlearn: 0.1674575\ttotal: 1.09s\tremaining: 2.17s\n",
      "336:\tlearn: 0.1670355\ttotal: 1.12s\tremaining: 2.2s\n",
      "337:\tlearn: 0.1664943\ttotal: 1.13s\tremaining: 2.22s\n",
      "338:\tlearn: 0.1658825\ttotal: 1.14s\tremaining: 2.22s\n",
      "339:\tlearn: 0.1654733\ttotal: 1.15s\tremaining: 2.22s\n",
      "340:\tlearn: 0.1652713\ttotal: 1.17s\tremaining: 2.26s\n"
     ]
    },
    {
     "name": "stdout",
     "output_type": "stream",
     "text": [
      "341:\tlearn: 0.1648238\ttotal: 1.18s\tremaining: 2.28s\n",
      "342:\tlearn: 0.1647119\ttotal: 1.19s\tremaining: 2.27s\n",
      "343:\tlearn: 0.1641801\ttotal: 1.19s\tremaining: 2.27s\n",
      "344:\tlearn: 0.1638883\ttotal: 1.21s\tremaining: 2.29s\n",
      "345:\tlearn: 0.1632982\ttotal: 1.23s\tremaining: 2.31s\n"
     ]
    },
    {
     "name": "stdout",
     "output_type": "stream",
     "text": [
      "346:\tlearn: 0.1629873\ttotal: 1.23s\tremaining: 2.31s\n",
      "347:\tlearn: 0.1626355\ttotal: 1.23s\tremaining: 2.31s\n",
      "348:\tlearn: 0.1625957\ttotal: 1.24s\tremaining: 2.31s\n",
      "349:\tlearn: 0.1622889\ttotal: 1.24s\tremaining: 2.31s\n",
      "350:\tlearn: 0.1622474\ttotal: 1.25s\tremaining: 2.3s\n",
      "351:\tlearn: 0.1618981\ttotal: 1.25s\tremaining: 2.31s\n",
      "352:\tlearn: 0.1613431\ttotal: 1.26s\tremaining: 2.31s\n",
      "353:\tlearn: 0.1609790\ttotal: 1.26s\tremaining: 2.3s\n",
      "354:\tlearn: 0.1604748\ttotal: 1.27s\tremaining: 2.3s\n",
      "355:\tlearn: 0.1602938\ttotal: 1.27s\tremaining: 2.3s\n",
      "356:\tlearn: 0.1598502\ttotal: 1.27s\tremaining: 2.29s\n",
      "357:\tlearn: 0.1598038\ttotal: 1.28s\tremaining: 2.3s\n",
      "358:\tlearn: 0.1594522\ttotal: 1.28s\tremaining: 2.29s\n",
      "359:\tlearn: 0.1590902\ttotal: 1.29s\tremaining: 2.29s\n",
      "360:\tlearn: 0.1586797\ttotal: 1.29s\tremaining: 2.28s\n",
      "361:\tlearn: 0.1583431\ttotal: 1.3s\tremaining: 2.29s\n",
      "362:\tlearn: 0.1581962\ttotal: 1.31s\tremaining: 2.29s\n",
      "363:\tlearn: 0.1581618\ttotal: 1.31s\tremaining: 2.29s\n",
      "364:\tlearn: 0.1578844\ttotal: 1.31s\tremaining: 2.28s\n",
      "365:\tlearn: 0.1575382\ttotal: 1.32s\tremaining: 2.28s\n"
     ]
    },
    {
     "name": "stdout",
     "output_type": "stream",
     "text": [
      "366:\tlearn: 0.1571714\ttotal: 1.32s\tremaining: 2.29s\n",
      "367:\tlearn: 0.1570578\ttotal: 1.33s\tremaining: 2.28s\n",
      "368:\tlearn: 0.1568383\ttotal: 1.33s\tremaining: 2.28s\n",
      "369:\tlearn: 0.1565340\ttotal: 1.33s\tremaining: 2.27s\n",
      "370:\tlearn: 0.1562229\ttotal: 1.34s\tremaining: 2.27s\n",
      "371:\tlearn: 0.1558909\ttotal: 1.34s\tremaining: 2.27s\n",
      "372:\tlearn: 0.1555514\ttotal: 1.35s\tremaining: 2.27s\n",
      "373:\tlearn: 0.1552713\ttotal: 1.35s\tremaining: 2.27s\n",
      "374:\tlearn: 0.1548339\ttotal: 1.36s\tremaining: 2.27s\n",
      "375:\tlearn: 0.1544483\ttotal: 1.36s\tremaining: 2.27s\n",
      "376:\tlearn: 0.1542274\ttotal: 1.37s\tremaining: 2.26s\n",
      "377:\tlearn: 0.1539089\ttotal: 1.37s\tremaining: 2.26s\n",
      "378:\tlearn: 0.1535932\ttotal: 1.38s\tremaining: 2.25s\n"
     ]
    },
    {
     "name": "stdout",
     "output_type": "stream",
     "text": [
      "379:\tlearn: 0.1532833\ttotal: 1.39s\tremaining: 2.27s\n",
      "380:\tlearn: 0.1532378\ttotal: 1.4s\tremaining: 2.27s\n",
      "381:\tlearn: 0.1529155\ttotal: 1.4s\tremaining: 2.26s\n",
      "382:\tlearn: 0.1528460\ttotal: 1.4s\tremaining: 2.26s\n",
      "383:\tlearn: 0.1525894\ttotal: 1.4s\tremaining: 2.25s\n",
      "384:\tlearn: 0.1522527\ttotal: 1.41s\tremaining: 2.25s\n",
      "385:\tlearn: 0.1518548\ttotal: 1.41s\tremaining: 2.24s\n",
      "386:\tlearn: 0.1516186\ttotal: 1.41s\tremaining: 2.24s\n",
      "387:\tlearn: 0.1512474\ttotal: 1.41s\tremaining: 2.23s\n",
      "388:\tlearn: 0.1511046\ttotal: 1.42s\tremaining: 2.23s\n",
      "389:\tlearn: 0.1508165\ttotal: 1.42s\tremaining: 2.22s\n",
      "390:\tlearn: 0.1505633\ttotal: 1.42s\tremaining: 2.21s\n",
      "391:\tlearn: 0.1502665\ttotal: 1.42s\tremaining: 2.21s\n",
      "392:\tlearn: 0.1501662\ttotal: 1.43s\tremaining: 2.2s\n",
      "393:\tlearn: 0.1501399\ttotal: 1.43s\tremaining: 2.2s\n",
      "394:\tlearn: 0.1497101\ttotal: 1.43s\tremaining: 2.19s\n",
      "395:\tlearn: 0.1493848\ttotal: 1.44s\tremaining: 2.19s\n",
      "396:\tlearn: 0.1490287\ttotal: 1.44s\tremaining: 2.18s\n",
      "397:\tlearn: 0.1486204\ttotal: 1.44s\tremaining: 2.18s\n",
      "398:\tlearn: 0.1481797\ttotal: 1.44s\tremaining: 2.17s\n",
      "399:\tlearn: 0.1479482\ttotal: 1.45s\tremaining: 2.17s\n",
      "400:\tlearn: 0.1476555\ttotal: 1.45s\tremaining: 2.16s\n",
      "401:\tlearn: 0.1473446\ttotal: 1.45s\tremaining: 2.16s\n",
      "402:\tlearn: 0.1470072\ttotal: 1.45s\tremaining: 2.15s\n",
      "403:\tlearn: 0.1467635\ttotal: 1.46s\tremaining: 2.15s\n",
      "404:\tlearn: 0.1463313\ttotal: 1.46s\tremaining: 2.14s\n",
      "405:\tlearn: 0.1459768\ttotal: 1.46s\tremaining: 2.14s\n",
      "406:\tlearn: 0.1459402\ttotal: 1.46s\tremaining: 2.13s\n",
      "407:\tlearn: 0.1455013\ttotal: 1.47s\tremaining: 2.13s\n",
      "408:\tlearn: 0.1451204\ttotal: 1.47s\tremaining: 2.12s\n",
      "409:\tlearn: 0.1447947\ttotal: 1.47s\tremaining: 2.12s\n",
      "410:\tlearn: 0.1445914\ttotal: 1.47s\tremaining: 2.11s\n",
      "411:\tlearn: 0.1443695\ttotal: 1.48s\tremaining: 2.11s\n",
      "412:\tlearn: 0.1442527\ttotal: 1.48s\tremaining: 2.1s\n",
      "413:\tlearn: 0.1440427\ttotal: 1.48s\tremaining: 2.1s\n",
      "414:\tlearn: 0.1439299\ttotal: 1.48s\tremaining: 2.09s\n"
     ]
    },
    {
     "name": "stdout",
     "output_type": "stream",
     "text": [
      "415:\tlearn: 0.1437095\ttotal: 1.49s\tremaining: 2.09s\n",
      "416:\tlearn: 0.1436802\ttotal: 1.49s\tremaining: 2.08s\n",
      "417:\tlearn: 0.1435986\ttotal: 1.49s\tremaining: 2.08s\n",
      "418:\tlearn: 0.1435721\ttotal: 1.49s\tremaining: 2.07s\n",
      "419:\tlearn: 0.1433050\ttotal: 1.5s\tremaining: 2.07s\n",
      "420:\tlearn: 0.1431572\ttotal: 1.5s\tremaining: 2.06s\n",
      "421:\tlearn: 0.1428240\ttotal: 1.5s\tremaining: 2.06s\n",
      "422:\tlearn: 0.1427135\ttotal: 1.51s\tremaining: 2.06s\n",
      "423:\tlearn: 0.1423185\ttotal: 1.51s\tremaining: 2.05s\n",
      "424:\tlearn: 0.1422186\ttotal: 1.51s\tremaining: 2.05s\n",
      "425:\tlearn: 0.1420027\ttotal: 1.51s\tremaining: 2.04s\n",
      "426:\tlearn: 0.1416724\ttotal: 1.52s\tremaining: 2.04s\n",
      "427:\tlearn: 0.1416335\ttotal: 1.52s\tremaining: 2.03s\n",
      "428:\tlearn: 0.1412840\ttotal: 1.52s\tremaining: 2.03s\n",
      "429:\tlearn: 0.1412621\ttotal: 1.52s\tremaining: 2.02s\n",
      "430:\tlearn: 0.1409457\ttotal: 1.53s\tremaining: 2.02s\n",
      "431:\tlearn: 0.1407201\ttotal: 1.53s\tremaining: 2.01s\n",
      "432:\tlearn: 0.1403773\ttotal: 1.53s\tremaining: 2.01s\n",
      "433:\tlearn: 0.1403232\ttotal: 1.53s\tremaining: 2s\n",
      "434:\tlearn: 0.1398723\ttotal: 1.54s\tremaining: 2s\n",
      "435:\tlearn: 0.1395686\ttotal: 1.54s\tremaining: 1.99s\n",
      "436:\tlearn: 0.1395462\ttotal: 1.54s\tremaining: 1.99s\n",
      "437:\tlearn: 0.1391767\ttotal: 1.55s\tremaining: 1.98s\n",
      "438:\tlearn: 0.1388504\ttotal: 1.55s\tremaining: 1.98s\n",
      "439:\tlearn: 0.1384729\ttotal: 1.55s\tremaining: 1.98s\n",
      "440:\tlearn: 0.1382635\ttotal: 1.55s\tremaining: 1.97s\n",
      "441:\tlearn: 0.1378269\ttotal: 1.56s\tremaining: 1.97s\n"
     ]
    },
    {
     "name": "stdout",
     "output_type": "stream",
     "text": [
      "442:\tlearn: 0.1377283\ttotal: 1.56s\tremaining: 1.96s\n",
      "443:\tlearn: 0.1375408\ttotal: 1.56s\tremaining: 1.96s\n",
      "444:\tlearn: 0.1370993\ttotal: 1.56s\tremaining: 1.95s\n",
      "445:\tlearn: 0.1366574\ttotal: 1.57s\tremaining: 1.95s\n",
      "446:\tlearn: 0.1362601\ttotal: 1.57s\tremaining: 1.94s\n",
      "447:\tlearn: 0.1358937\ttotal: 1.57s\tremaining: 1.94s\n",
      "448:\tlearn: 0.1355321\ttotal: 1.57s\tremaining: 1.93s\n",
      "449:\tlearn: 0.1351836\ttotal: 1.58s\tremaining: 1.93s\n",
      "450:\tlearn: 0.1349486\ttotal: 1.58s\tremaining: 1.92s\n",
      "451:\tlearn: 0.1346676\ttotal: 1.58s\tremaining: 1.92s\n",
      "452:\tlearn: 0.1346469\ttotal: 1.59s\tremaining: 1.92s\n",
      "453:\tlearn: 0.1342508\ttotal: 1.59s\tremaining: 1.91s\n",
      "454:\tlearn: 0.1341114\ttotal: 1.59s\tremaining: 1.91s\n",
      "455:\tlearn: 0.1339361\ttotal: 1.59s\tremaining: 1.9s\n",
      "456:\tlearn: 0.1335705\ttotal: 1.6s\tremaining: 1.9s\n",
      "457:\tlearn: 0.1333142\ttotal: 1.6s\tremaining: 1.89s\n",
      "458:\tlearn: 0.1329310\ttotal: 1.6s\tremaining: 1.89s\n",
      "459:\tlearn: 0.1326351\ttotal: 1.61s\tremaining: 1.89s\n",
      "460:\tlearn: 0.1324185\ttotal: 1.61s\tremaining: 1.88s\n",
      "461:\tlearn: 0.1321057\ttotal: 1.61s\tremaining: 1.88s\n",
      "462:\tlearn: 0.1317385\ttotal: 1.61s\tremaining: 1.87s\n",
      "463:\tlearn: 0.1314366\ttotal: 1.62s\tremaining: 1.87s\n",
      "464:\tlearn: 0.1314024\ttotal: 1.62s\tremaining: 1.86s\n",
      "465:\tlearn: 0.1311080\ttotal: 1.62s\tremaining: 1.86s\n",
      "466:\tlearn: 0.1308573\ttotal: 1.62s\tremaining: 1.85s\n",
      "467:\tlearn: 0.1306355\ttotal: 1.63s\tremaining: 1.85s\n",
      "468:\tlearn: 0.1303654\ttotal: 1.63s\tremaining: 1.84s\n",
      "469:\tlearn: 0.1303441\ttotal: 1.63s\tremaining: 1.84s\n",
      "470:\tlearn: 0.1300231\ttotal: 1.64s\tremaining: 1.84s\n",
      "471:\tlearn: 0.1296908\ttotal: 1.64s\tremaining: 1.83s\n",
      "472:\tlearn: 0.1296082\ttotal: 1.64s\tremaining: 1.83s\n",
      "473:\tlearn: 0.1293162\ttotal: 1.64s\tremaining: 1.82s\n",
      "474:\tlearn: 0.1290385\ttotal: 1.65s\tremaining: 1.82s\n",
      "475:\tlearn: 0.1289255\ttotal: 1.65s\tremaining: 1.81s\n",
      "476:\tlearn: 0.1288426\ttotal: 1.65s\tremaining: 1.81s\n",
      "477:\tlearn: 0.1285169\ttotal: 1.65s\tremaining: 1.8s\n"
     ]
    },
    {
     "name": "stdout",
     "output_type": "stream",
     "text": [
      "478:\tlearn: 0.1282704\ttotal: 1.66s\tremaining: 1.8s\n",
      "479:\tlearn: 0.1279235\ttotal: 1.66s\tremaining: 1.8s\n",
      "480:\tlearn: 0.1277224\ttotal: 1.66s\tremaining: 1.79s\n",
      "481:\tlearn: 0.1274529\ttotal: 1.66s\tremaining: 1.79s\n",
      "482:\tlearn: 0.1271495\ttotal: 1.67s\tremaining: 1.78s\n",
      "483:\tlearn: 0.1268130\ttotal: 1.67s\tremaining: 1.78s\n",
      "484:\tlearn: 0.1265870\ttotal: 1.67s\tremaining: 1.77s\n",
      "485:\tlearn: 0.1265269\ttotal: 1.68s\tremaining: 1.77s\n",
      "486:\tlearn: 0.1264926\ttotal: 1.68s\tremaining: 1.77s\n",
      "487:\tlearn: 0.1262691\ttotal: 1.68s\tremaining: 1.76s\n",
      "488:\tlearn: 0.1261574\ttotal: 1.68s\tremaining: 1.76s\n",
      "489:\tlearn: 0.1259626\ttotal: 1.69s\tremaining: 1.75s\n",
      "490:\tlearn: 0.1259274\ttotal: 1.69s\tremaining: 1.75s\n",
      "491:\tlearn: 0.1257700\ttotal: 1.69s\tremaining: 1.75s\n",
      "492:\tlearn: 0.1255236\ttotal: 1.69s\tremaining: 1.74s\n",
      "493:\tlearn: 0.1252986\ttotal: 1.7s\tremaining: 1.74s\n",
      "494:\tlearn: 0.1252526\ttotal: 1.7s\tremaining: 1.73s\n",
      "495:\tlearn: 0.1250391\ttotal: 1.7s\tremaining: 1.73s\n",
      "496:\tlearn: 0.1250106\ttotal: 1.7s\tremaining: 1.72s\n",
      "497:\tlearn: 0.1246913\ttotal: 1.71s\tremaining: 1.72s\n",
      "498:\tlearn: 0.1244649\ttotal: 1.71s\tremaining: 1.72s\n",
      "499:\tlearn: 0.1242541\ttotal: 1.71s\tremaining: 1.71s\n",
      "500:\tlearn: 0.1239117\ttotal: 1.71s\tremaining: 1.71s\n",
      "501:\tlearn: 0.1235844\ttotal: 1.72s\tremaining: 1.7s\n",
      "502:\tlearn: 0.1233745\ttotal: 1.72s\tremaining: 1.7s\n",
      "503:\tlearn: 0.1231073\ttotal: 1.72s\tremaining: 1.7s\n",
      "504:\tlearn: 0.1230872\ttotal: 1.72s\tremaining: 1.69s\n",
      "505:\tlearn: 0.1227211\ttotal: 1.73s\tremaining: 1.69s\n",
      "506:\tlearn: 0.1226908\ttotal: 1.73s\tremaining: 1.68s\n"
     ]
    },
    {
     "name": "stdout",
     "output_type": "stream",
     "text": [
      "507:\tlearn: 0.1224179\ttotal: 1.73s\tremaining: 1.68s\n",
      "508:\tlearn: 0.1220854\ttotal: 1.74s\tremaining: 1.67s\n",
      "509:\tlearn: 0.1219096\ttotal: 1.74s\tremaining: 1.67s\n",
      "510:\tlearn: 0.1217389\ttotal: 1.74s\tremaining: 1.67s\n",
      "511:\tlearn: 0.1217078\ttotal: 1.74s\tremaining: 1.66s\n",
      "512:\tlearn: 0.1214750\ttotal: 1.75s\tremaining: 1.66s\n",
      "513:\tlearn: 0.1214497\ttotal: 1.75s\tremaining: 1.65s\n",
      "514:\tlearn: 0.1211133\ttotal: 1.75s\tremaining: 1.65s\n",
      "515:\tlearn: 0.1208060\ttotal: 1.75s\tremaining: 1.65s\n",
      "516:\tlearn: 0.1205490\ttotal: 1.76s\tremaining: 1.65s\n",
      "517:\tlearn: 0.1203960\ttotal: 1.77s\tremaining: 1.64s\n",
      "518:\tlearn: 0.1201011\ttotal: 1.77s\tremaining: 1.64s\n",
      "519:\tlearn: 0.1200448\ttotal: 1.8s\tremaining: 1.66s\n",
      "520:\tlearn: 0.1197757\ttotal: 1.8s\tremaining: 1.66s\n",
      "521:\tlearn: 0.1196094\ttotal: 1.81s\tremaining: 1.65s\n",
      "522:\tlearn: 0.1195875\ttotal: 1.81s\tremaining: 1.65s\n",
      "523:\tlearn: 0.1194413\ttotal: 1.81s\tremaining: 1.65s\n",
      "524:\tlearn: 0.1192488\ttotal: 1.81s\tremaining: 1.64s\n"
     ]
    },
    {
     "name": "stdout",
     "output_type": "stream",
     "text": [
      "525:\tlearn: 0.1189828\ttotal: 1.83s\tremaining: 1.65s\n",
      "526:\tlearn: 0.1189504\ttotal: 1.84s\tremaining: 1.65s\n",
      "527:\tlearn: 0.1187256\ttotal: 1.84s\tremaining: 1.64s\n",
      "528:\tlearn: 0.1185476\ttotal: 1.84s\tremaining: 1.64s\n",
      "529:\tlearn: 0.1182737\ttotal: 1.84s\tremaining: 1.64s\n",
      "530:\tlearn: 0.1181297\ttotal: 1.85s\tremaining: 1.63s\n",
      "531:\tlearn: 0.1178648\ttotal: 1.85s\tremaining: 1.63s\n",
      "532:\tlearn: 0.1176268\ttotal: 1.86s\tremaining: 1.63s\n",
      "533:\tlearn: 0.1173878\ttotal: 1.86s\tremaining: 1.63s\n",
      "534:\tlearn: 0.1171000\ttotal: 1.87s\tremaining: 1.62s\n"
     ]
    },
    {
     "name": "stdout",
     "output_type": "stream",
     "text": [
      "535:\tlearn: 0.1169998\ttotal: 1.87s\tremaining: 1.62s\n",
      "536:\tlearn: 0.1167151\ttotal: 1.87s\tremaining: 1.61s\n",
      "537:\tlearn: 0.1163927\ttotal: 1.87s\tremaining: 1.61s\n",
      "538:\tlearn: 0.1162076\ttotal: 1.88s\tremaining: 1.61s\n",
      "539:\tlearn: 0.1158776\ttotal: 1.89s\tremaining: 1.61s\n",
      "540:\tlearn: 0.1158566\ttotal: 1.89s\tremaining: 1.6s\n",
      "541:\tlearn: 0.1155640\ttotal: 1.89s\tremaining: 1.6s\n",
      "542:\tlearn: 0.1154654\ttotal: 1.9s\tremaining: 1.6s\n",
      "543:\tlearn: 0.1152547\ttotal: 1.9s\tremaining: 1.6s\n",
      "544:\tlearn: 0.1150731\ttotal: 1.91s\tremaining: 1.59s\n",
      "545:\tlearn: 0.1148853\ttotal: 1.91s\tremaining: 1.59s\n",
      "546:\tlearn: 0.1146555\ttotal: 1.91s\tremaining: 1.58s\n",
      "547:\tlearn: 0.1144145\ttotal: 1.92s\tremaining: 1.58s\n",
      "548:\tlearn: 0.1142683\ttotal: 1.92s\tremaining: 1.58s\n",
      "549:\tlearn: 0.1140024\ttotal: 1.92s\tremaining: 1.57s\n",
      "550:\tlearn: 0.1138303\ttotal: 1.93s\tremaining: 1.57s\n",
      "551:\tlearn: 0.1135381\ttotal: 1.94s\tremaining: 1.57s\n",
      "552:\tlearn: 0.1131346\ttotal: 1.94s\tremaining: 1.57s\n",
      "553:\tlearn: 0.1130089\ttotal: 1.95s\tremaining: 1.57s\n",
      "554:\tlearn: 0.1127081\ttotal: 1.95s\tremaining: 1.56s\n",
      "555:\tlearn: 0.1125486\ttotal: 1.95s\tremaining: 1.56s\n",
      "556:\tlearn: 0.1122614\ttotal: 1.96s\tremaining: 1.55s\n"
     ]
    },
    {
     "name": "stdout",
     "output_type": "stream",
     "text": [
      "557:\tlearn: 0.1120601\ttotal: 1.96s\tremaining: 1.55s\n",
      "558:\tlearn: 0.1119168\ttotal: 1.96s\tremaining: 1.55s\n",
      "559:\tlearn: 0.1116131\ttotal: 1.97s\tremaining: 1.54s\n",
      "560:\tlearn: 0.1113894\ttotal: 1.97s\tremaining: 1.54s\n",
      "561:\tlearn: 0.1111730\ttotal: 1.97s\tremaining: 1.54s\n",
      "562:\tlearn: 0.1111489\ttotal: 1.98s\tremaining: 1.54s\n",
      "563:\tlearn: 0.1108709\ttotal: 1.98s\tremaining: 1.53s\n",
      "564:\tlearn: 0.1106547\ttotal: 1.99s\tremaining: 1.53s\n",
      "565:\tlearn: 0.1104835\ttotal: 1.99s\tremaining: 1.53s\n",
      "566:\tlearn: 0.1102612\ttotal: 2s\tremaining: 1.52s\n",
      "567:\tlearn: 0.1100761\ttotal: 2s\tremaining: 1.52s\n",
      "568:\tlearn: 0.1098582\ttotal: 2.01s\tremaining: 1.52s\n",
      "569:\tlearn: 0.1097486\ttotal: 2.01s\tremaining: 1.52s\n",
      "570:\tlearn: 0.1096298\ttotal: 2.01s\tremaining: 1.51s\n",
      "571:\tlearn: 0.1094029\ttotal: 2.01s\tremaining: 1.51s\n",
      "572:\tlearn: 0.1091746\ttotal: 2.02s\tremaining: 1.5s\n"
     ]
    },
    {
     "name": "stdout",
     "output_type": "stream",
     "text": [
      "573:\tlearn: 0.1089412\ttotal: 2.02s\tremaining: 1.5s\n",
      "574:\tlearn: 0.1087308\ttotal: 2.02s\tremaining: 1.5s\n",
      "575:\tlearn: 0.1084506\ttotal: 2.03s\tremaining: 1.49s\n",
      "576:\tlearn: 0.1082409\ttotal: 2.03s\tremaining: 1.49s\n",
      "577:\tlearn: 0.1080633\ttotal: 2.03s\tremaining: 1.48s\n",
      "578:\tlearn: 0.1079257\ttotal: 2.03s\tremaining: 1.48s\n",
      "579:\tlearn: 0.1078675\ttotal: 2.04s\tremaining: 1.47s\n",
      "580:\tlearn: 0.1077302\ttotal: 2.04s\tremaining: 1.47s\n",
      "581:\tlearn: 0.1076436\ttotal: 2.04s\tremaining: 1.47s\n",
      "582:\tlearn: 0.1073974\ttotal: 2.04s\tremaining: 1.46s\n",
      "583:\tlearn: 0.1072508\ttotal: 2.05s\tremaining: 1.46s\n",
      "584:\tlearn: 0.1069990\ttotal: 2.05s\tremaining: 1.45s\n",
      "585:\tlearn: 0.1067778\ttotal: 2.05s\tremaining: 1.45s\n",
      "586:\tlearn: 0.1065849\ttotal: 2.06s\tremaining: 1.45s\n",
      "587:\tlearn: 0.1063555\ttotal: 2.06s\tremaining: 1.44s\n",
      "588:\tlearn: 0.1061335\ttotal: 2.06s\tremaining: 1.44s\n",
      "589:\tlearn: 0.1058653\ttotal: 2.06s\tremaining: 1.43s\n",
      "590:\tlearn: 0.1057442\ttotal: 2.07s\tremaining: 1.43s\n",
      "591:\tlearn: 0.1055677\ttotal: 2.07s\tremaining: 1.43s\n",
      "592:\tlearn: 0.1053041\ttotal: 2.07s\tremaining: 1.42s\n",
      "593:\tlearn: 0.1051080\ttotal: 2.08s\tremaining: 1.42s\n",
      "594:\tlearn: 0.1048469\ttotal: 2.08s\tremaining: 1.42s\n",
      "595:\tlearn: 0.1045870\ttotal: 2.09s\tremaining: 1.42s\n",
      "596:\tlearn: 0.1043499\ttotal: 2.1s\tremaining: 1.42s\n"
     ]
    },
    {
     "name": "stdout",
     "output_type": "stream",
     "text": [
      "597:\tlearn: 0.1040870\ttotal: 2.1s\tremaining: 1.41s\n",
      "598:\tlearn: 0.1038954\ttotal: 2.1s\tremaining: 1.41s\n",
      "599:\tlearn: 0.1037782\ttotal: 2.11s\tremaining: 1.4s\n",
      "600:\tlearn: 0.1035794\ttotal: 2.11s\tremaining: 1.4s\n",
      "601:\tlearn: 0.1033995\ttotal: 2.11s\tremaining: 1.4s\n",
      "602:\tlearn: 0.1031027\ttotal: 2.11s\tremaining: 1.39s\n",
      "603:\tlearn: 0.1029465\ttotal: 2.12s\tremaining: 1.39s\n",
      "604:\tlearn: 0.1027203\ttotal: 2.12s\tremaining: 1.38s\n",
      "605:\tlearn: 0.1025645\ttotal: 2.12s\tremaining: 1.38s\n",
      "606:\tlearn: 0.1024761\ttotal: 2.12s\tremaining: 1.37s\n",
      "607:\tlearn: 0.1022211\ttotal: 2.13s\tremaining: 1.37s\n",
      "608:\tlearn: 0.1020337\ttotal: 2.13s\tremaining: 1.37s\n",
      "609:\tlearn: 0.1017989\ttotal: 2.13s\tremaining: 1.36s\n",
      "610:\tlearn: 0.1016546\ttotal: 2.14s\tremaining: 1.36s\n",
      "611:\tlearn: 0.1015638\ttotal: 2.14s\tremaining: 1.36s\n",
      "612:\tlearn: 0.1014080\ttotal: 2.15s\tremaining: 1.35s\n",
      "613:\tlearn: 0.1012267\ttotal: 2.15s\tremaining: 1.35s\n",
      "614:\tlearn: 0.1009910\ttotal: 2.15s\tremaining: 1.34s\n",
      "615:\tlearn: 0.1008882\ttotal: 2.15s\tremaining: 1.34s\n",
      "616:\tlearn: 0.1007937\ttotal: 2.15s\tremaining: 1.34s\n"
     ]
    },
    {
     "name": "stdout",
     "output_type": "stream",
     "text": [
      "617:\tlearn: 0.1006037\ttotal: 2.16s\tremaining: 1.33s\n",
      "618:\tlearn: 0.1004563\ttotal: 2.16s\tremaining: 1.33s\n",
      "619:\tlearn: 0.1004364\ttotal: 2.16s\tremaining: 1.32s\n",
      "620:\tlearn: 0.1003476\ttotal: 2.17s\tremaining: 1.32s\n",
      "621:\tlearn: 0.1001207\ttotal: 2.17s\tremaining: 1.32s\n",
      "622:\tlearn: 0.0999466\ttotal: 2.17s\tremaining: 1.31s\n",
      "623:\tlearn: 0.0997397\ttotal: 2.17s\tremaining: 1.31s\n",
      "624:\tlearn: 0.0995874\ttotal: 2.18s\tremaining: 1.31s\n",
      "625:\tlearn: 0.0993265\ttotal: 2.18s\tremaining: 1.3s\n",
      "626:\tlearn: 0.0993091\ttotal: 2.18s\tremaining: 1.3s\n",
      "627:\tlearn: 0.0990776\ttotal: 2.19s\tremaining: 1.29s\n",
      "628:\tlearn: 0.0989593\ttotal: 2.19s\tremaining: 1.29s\n",
      "629:\tlearn: 0.0988116\ttotal: 2.19s\tremaining: 1.29s\n",
      "630:\tlearn: 0.0986144\ttotal: 2.19s\tremaining: 1.28s\n",
      "631:\tlearn: 0.0984515\ttotal: 2.2s\tremaining: 1.28s\n",
      "632:\tlearn: 0.0983548\ttotal: 2.2s\tremaining: 1.28s\n",
      "633:\tlearn: 0.0982200\ttotal: 2.2s\tremaining: 1.27s\n",
      "634:\tlearn: 0.0980982\ttotal: 2.21s\tremaining: 1.27s\n",
      "635:\tlearn: 0.0978824\ttotal: 2.21s\tremaining: 1.26s\n",
      "636:\tlearn: 0.0977446\ttotal: 2.21s\tremaining: 1.26s\n",
      "637:\tlearn: 0.0975560\ttotal: 2.21s\tremaining: 1.25s\n",
      "638:\tlearn: 0.0974753\ttotal: 2.22s\tremaining: 1.25s\n",
      "639:\tlearn: 0.0973247\ttotal: 2.22s\tremaining: 1.25s\n",
      "640:\tlearn: 0.0972107\ttotal: 2.22s\tremaining: 1.24s\n",
      "641:\tlearn: 0.0970820\ttotal: 2.22s\tremaining: 1.24s\n",
      "642:\tlearn: 0.0970634\ttotal: 2.23s\tremaining: 1.24s\n",
      "643:\tlearn: 0.0969441\ttotal: 2.23s\tremaining: 1.23s\n",
      "644:\tlearn: 0.0968180\ttotal: 2.23s\tremaining: 1.23s\n",
      "645:\tlearn: 0.0966890\ttotal: 2.23s\tremaining: 1.22s\n",
      "646:\tlearn: 0.0965542\ttotal: 2.24s\tremaining: 1.22s\n",
      "647:\tlearn: 0.0965254\ttotal: 2.25s\tremaining: 1.22s\n"
     ]
    },
    {
     "name": "stdout",
     "output_type": "stream",
     "text": [
      "648:\tlearn: 0.0963949\ttotal: 2.26s\tremaining: 1.22s\n",
      "649:\tlearn: 0.0961318\ttotal: 2.26s\tremaining: 1.22s\n",
      "650:\tlearn: 0.0960698\ttotal: 2.26s\tremaining: 1.21s\n",
      "651:\tlearn: 0.0958926\ttotal: 2.26s\tremaining: 1.21s\n",
      "652:\tlearn: 0.0957830\ttotal: 2.27s\tremaining: 1.2s\n",
      "653:\tlearn: 0.0955749\ttotal: 2.27s\tremaining: 1.2s\n",
      "654:\tlearn: 0.0954060\ttotal: 2.27s\tremaining: 1.2s\n",
      "655:\tlearn: 0.0953175\ttotal: 2.27s\tremaining: 1.19s\n",
      "656:\tlearn: 0.0952475\ttotal: 2.28s\tremaining: 1.19s\n",
      "657:\tlearn: 0.0952094\ttotal: 2.28s\tremaining: 1.18s\n",
      "658:\tlearn: 0.0951558\ttotal: 2.28s\tremaining: 1.18s\n",
      "659:\tlearn: 0.0950520\ttotal: 2.28s\tremaining: 1.18s\n",
      "660:\tlearn: 0.0947995\ttotal: 2.29s\tremaining: 1.17s\n",
      "661:\tlearn: 0.0945789\ttotal: 2.29s\tremaining: 1.17s\n",
      "662:\tlearn: 0.0943227\ttotal: 2.29s\tremaining: 1.16s\n",
      "663:\tlearn: 0.0942112\ttotal: 2.29s\tremaining: 1.16s\n",
      "664:\tlearn: 0.0941056\ttotal: 2.29s\tremaining: 1.16s\n",
      "665:\tlearn: 0.0938931\ttotal: 2.3s\tremaining: 1.15s\n"
     ]
    },
    {
     "name": "stdout",
     "output_type": "stream",
     "text": [
      "666:\tlearn: 0.0937160\ttotal: 2.3s\tremaining: 1.15s\n",
      "667:\tlearn: 0.0935042\ttotal: 2.31s\tremaining: 1.15s\n",
      "668:\tlearn: 0.0932890\ttotal: 2.31s\tremaining: 1.14s\n",
      "669:\tlearn: 0.0932201\ttotal: 2.31s\tremaining: 1.14s\n",
      "670:\tlearn: 0.0931456\ttotal: 2.31s\tremaining: 1.13s\n",
      "671:\tlearn: 0.0929884\ttotal: 2.31s\tremaining: 1.13s\n",
      "672:\tlearn: 0.0928272\ttotal: 2.32s\tremaining: 1.13s\n",
      "673:\tlearn: 0.0926845\ttotal: 2.33s\tremaining: 1.13s\n",
      "674:\tlearn: 0.0924915\ttotal: 2.33s\tremaining: 1.12s\n",
      "675:\tlearn: 0.0924142\ttotal: 2.33s\tremaining: 1.12s\n",
      "676:\tlearn: 0.0922197\ttotal: 2.33s\tremaining: 1.11s\n",
      "677:\tlearn: 0.0921422\ttotal: 2.34s\tremaining: 1.11s\n",
      "678:\tlearn: 0.0920172\ttotal: 2.34s\tremaining: 1.11s\n",
      "679:\tlearn: 0.0918607\ttotal: 2.34s\tremaining: 1.1s\n",
      "680:\tlearn: 0.0916707\ttotal: 2.34s\tremaining: 1.1s\n",
      "681:\tlearn: 0.0915343\ttotal: 2.35s\tremaining: 1.09s\n",
      "682:\tlearn: 0.0913434\ttotal: 2.35s\tremaining: 1.09s\n",
      "683:\tlearn: 0.0911816\ttotal: 2.35s\tremaining: 1.09s\n",
      "684:\tlearn: 0.0910965\ttotal: 2.35s\tremaining: 1.08s\n",
      "685:\tlearn: 0.0909143\ttotal: 2.36s\tremaining: 1.08s\n",
      "686:\tlearn: 0.0907529\ttotal: 2.36s\tremaining: 1.07s\n",
      "687:\tlearn: 0.0905264\ttotal: 2.36s\tremaining: 1.07s\n",
      "688:\tlearn: 0.0903921\ttotal: 2.36s\tremaining: 1.07s\n",
      "689:\tlearn: 0.0902010\ttotal: 2.37s\tremaining: 1.06s\n",
      "690:\tlearn: 0.0901444\ttotal: 2.37s\tremaining: 1.06s\n",
      "691:\tlearn: 0.0900189\ttotal: 2.38s\tremaining: 1.06s\n",
      "692:\tlearn: 0.0899229\ttotal: 2.39s\tremaining: 1.06s\n",
      "693:\tlearn: 0.0897363\ttotal: 2.39s\tremaining: 1.05s\n"
     ]
    },
    {
     "name": "stdout",
     "output_type": "stream",
     "text": [
      "694:\tlearn: 0.0895664\ttotal: 2.39s\tremaining: 1.05s\n",
      "695:\tlearn: 0.0894139\ttotal: 2.39s\tremaining: 1.04s\n",
      "696:\tlearn: 0.0892995\ttotal: 2.4s\tremaining: 1.04s\n",
      "697:\tlearn: 0.0890776\ttotal: 2.4s\tremaining: 1.04s\n",
      "698:\tlearn: 0.0889137\ttotal: 2.4s\tremaining: 1.03s\n",
      "699:\tlearn: 0.0887986\ttotal: 2.4s\tremaining: 1.03s\n",
      "700:\tlearn: 0.0885605\ttotal: 2.41s\tremaining: 1.03s\n",
      "701:\tlearn: 0.0885281\ttotal: 2.42s\tremaining: 1.02s\n",
      "702:\tlearn: 0.0883623\ttotal: 2.42s\tremaining: 1.02s\n",
      "703:\tlearn: 0.0882833\ttotal: 2.42s\tremaining: 1.02s\n",
      "704:\tlearn: 0.0881218\ttotal: 2.42s\tremaining: 1.01s\n",
      "705:\tlearn: 0.0879536\ttotal: 2.43s\tremaining: 1.01s\n",
      "706:\tlearn: 0.0878538\ttotal: 2.43s\tremaining: 1.01s\n",
      "707:\tlearn: 0.0876666\ttotal: 2.43s\tremaining: 1s\n",
      "708:\tlearn: 0.0875515\ttotal: 2.44s\tremaining: 1000ms\n",
      "709:\tlearn: 0.0874575\ttotal: 2.44s\tremaining: 996ms\n",
      "710:\tlearn: 0.0873297\ttotal: 2.44s\tremaining: 992ms\n",
      "711:\tlearn: 0.0872736\ttotal: 2.44s\tremaining: 988ms\n"
     ]
    },
    {
     "name": "stdout",
     "output_type": "stream",
     "text": [
      "712:\tlearn: 0.0872023\ttotal: 2.45s\tremaining: 985ms\n",
      "713:\tlearn: 0.0870735\ttotal: 2.45s\tremaining: 981ms\n",
      "714:\tlearn: 0.0868588\ttotal: 2.45s\tremaining: 977ms\n",
      "715:\tlearn: 0.0868239\ttotal: 2.46s\tremaining: 975ms\n",
      "716:\tlearn: 0.0866656\ttotal: 2.46s\tremaining: 972ms\n",
      "717:\tlearn: 0.0865744\ttotal: 2.46s\tremaining: 968ms\n",
      "718:\tlearn: 0.0864802\ttotal: 2.47s\tremaining: 964ms\n",
      "719:\tlearn: 0.0863356\ttotal: 2.47s\tremaining: 960ms\n",
      "720:\tlearn: 0.0861583\ttotal: 2.47s\tremaining: 956ms\n",
      "721:\tlearn: 0.0860023\ttotal: 2.47s\tremaining: 953ms\n",
      "722:\tlearn: 0.0859015\ttotal: 2.48s\tremaining: 949ms\n",
      "723:\tlearn: 0.0857823\ttotal: 2.48s\tremaining: 945ms\n",
      "724:\tlearn: 0.0857147\ttotal: 2.48s\tremaining: 941ms\n",
      "725:\tlearn: 0.0855833\ttotal: 2.48s\tremaining: 937ms\n",
      "726:\tlearn: 0.0854640\ttotal: 2.49s\tremaining: 934ms\n",
      "727:\tlearn: 0.0852236\ttotal: 2.49s\tremaining: 930ms\n",
      "728:\tlearn: 0.0850923\ttotal: 2.49s\tremaining: 926ms\n",
      "729:\tlearn: 0.0849795\ttotal: 2.5s\tremaining: 923ms\n",
      "730:\tlearn: 0.0848126\ttotal: 2.51s\tremaining: 924ms\n",
      "731:\tlearn: 0.0846928\ttotal: 2.52s\tremaining: 921ms\n",
      "732:\tlearn: 0.0845628\ttotal: 2.52s\tremaining: 918ms\n",
      "733:\tlearn: 0.0844648\ttotal: 2.52s\tremaining: 914ms\n",
      "734:\tlearn: 0.0843183\ttotal: 2.52s\tremaining: 910ms\n",
      "735:\tlearn: 0.0841931\ttotal: 2.53s\tremaining: 907ms\n",
      "736:\tlearn: 0.0841074\ttotal: 2.53s\tremaining: 903ms\n",
      "737:\tlearn: 0.0840105\ttotal: 2.53s\tremaining: 899ms\n",
      "738:\tlearn: 0.0838523\ttotal: 2.54s\tremaining: 896ms\n",
      "739:\tlearn: 0.0835823\ttotal: 2.55s\tremaining: 895ms\n",
      "740:\tlearn: 0.0834501\ttotal: 2.55s\tremaining: 892ms\n",
      "741:\tlearn: 0.0832882\ttotal: 2.55s\tremaining: 888ms\n",
      "742:\tlearn: 0.0830945\ttotal: 2.56s\tremaining: 884ms\n"
     ]
    },
    {
     "name": "stdout",
     "output_type": "stream",
     "text": [
      "743:\tlearn: 0.0829388\ttotal: 2.56s\tremaining: 883ms\n",
      "744:\tlearn: 0.0827549\ttotal: 2.57s\tremaining: 880ms\n",
      "745:\tlearn: 0.0826010\ttotal: 2.57s\tremaining: 876ms\n",
      "746:\tlearn: 0.0825835\ttotal: 2.58s\tremaining: 873ms\n",
      "747:\tlearn: 0.0824897\ttotal: 2.58s\tremaining: 869ms\n",
      "748:\tlearn: 0.0823896\ttotal: 2.58s\tremaining: 865ms\n",
      "749:\tlearn: 0.0822769\ttotal: 2.58s\tremaining: 861ms\n",
      "750:\tlearn: 0.0821273\ttotal: 2.59s\tremaining: 858ms\n",
      "751:\tlearn: 0.0818963\ttotal: 2.59s\tremaining: 854ms\n"
     ]
    },
    {
     "name": "stdout",
     "output_type": "stream",
     "text": [
      "752:\tlearn: 0.0817768\ttotal: 2.61s\tremaining: 855ms\n",
      "753:\tlearn: 0.0816349\ttotal: 2.61s\tremaining: 852ms\n",
      "754:\tlearn: 0.0815820\ttotal: 2.61s\tremaining: 848ms\n",
      "755:\tlearn: 0.0815672\ttotal: 2.61s\tremaining: 844ms\n",
      "756:\tlearn: 0.0814077\ttotal: 2.62s\tremaining: 840ms\n",
      "757:\tlearn: 0.0812440\ttotal: 2.62s\tremaining: 836ms\n",
      "758:\tlearn: 0.0810784\ttotal: 2.62s\tremaining: 832ms\n",
      "759:\tlearn: 0.0809379\ttotal: 2.63s\tremaining: 829ms\n",
      "760:\tlearn: 0.0807963\ttotal: 2.63s\tremaining: 826ms\n",
      "761:\tlearn: 0.0807168\ttotal: 2.63s\tremaining: 822ms\n",
      "762:\tlearn: 0.0806258\ttotal: 2.63s\tremaining: 819ms\n",
      "763:\tlearn: 0.0804213\ttotal: 2.64s\tremaining: 815ms\n",
      "764:\tlearn: 0.0802611\ttotal: 2.64s\tremaining: 812ms\n",
      "765:\tlearn: 0.0801517\ttotal: 2.65s\tremaining: 808ms\n",
      "766:\tlearn: 0.0800214\ttotal: 2.65s\tremaining: 804ms\n",
      "767:\tlearn: 0.0798676\ttotal: 2.65s\tremaining: 800ms\n",
      "768:\tlearn: 0.0797826\ttotal: 2.65s\tremaining: 797ms\n",
      "769:\tlearn: 0.0797040\ttotal: 2.65s\tremaining: 793ms\n",
      "770:\tlearn: 0.0796507\ttotal: 2.66s\tremaining: 789ms\n",
      "771:\tlearn: 0.0795405\ttotal: 2.66s\tremaining: 785ms\n",
      "772:\tlearn: 0.0793750\ttotal: 2.66s\tremaining: 782ms\n",
      "773:\tlearn: 0.0793052\ttotal: 2.66s\tremaining: 778ms\n",
      "774:\tlearn: 0.0791390\ttotal: 2.67s\tremaining: 774ms\n",
      "775:\tlearn: 0.0791080\ttotal: 2.67s\tremaining: 772ms\n",
      "776:\tlearn: 0.0790186\ttotal: 2.68s\tremaining: 771ms\n",
      "777:\tlearn: 0.0789002\ttotal: 2.69s\tremaining: 767ms\n",
      "778:\tlearn: 0.0787160\ttotal: 2.69s\tremaining: 763ms\n",
      "779:\tlearn: 0.0786636\ttotal: 2.69s\tremaining: 759ms\n",
      "780:\tlearn: 0.0785895\ttotal: 2.69s\tremaining: 756ms\n",
      "781:\tlearn: 0.0784951\ttotal: 2.7s\tremaining: 752ms\n",
      "782:\tlearn: 0.0783896\ttotal: 2.7s\tremaining: 748ms\n",
      "783:\tlearn: 0.0782273\ttotal: 2.7s\tremaining: 744ms\n"
     ]
    },
    {
     "name": "stdout",
     "output_type": "stream",
     "text": [
      "784:\tlearn: 0.0781359\ttotal: 2.7s\tremaining: 741ms\n",
      "785:\tlearn: 0.0781029\ttotal: 2.71s\tremaining: 738ms\n",
      "786:\tlearn: 0.0780571\ttotal: 2.72s\tremaining: 736ms\n",
      "787:\tlearn: 0.0779224\ttotal: 2.72s\tremaining: 732ms\n",
      "788:\tlearn: 0.0778192\ttotal: 2.72s\tremaining: 728ms\n",
      "789:\tlearn: 0.0777266\ttotal: 2.73s\tremaining: 725ms\n",
      "790:\tlearn: 0.0775086\ttotal: 2.73s\tremaining: 721ms\n",
      "791:\tlearn: 0.0773508\ttotal: 2.73s\tremaining: 717ms\n",
      "792:\tlearn: 0.0770974\ttotal: 2.73s\tremaining: 714ms\n",
      "793:\tlearn: 0.0770896\ttotal: 2.74s\tremaining: 710ms\n",
      "794:\tlearn: 0.0770188\ttotal: 2.74s\tremaining: 707ms\n",
      "795:\tlearn: 0.0768467\ttotal: 2.74s\tremaining: 703ms\n",
      "796:\tlearn: 0.0767293\ttotal: 2.75s\tremaining: 700ms\n",
      "797:\tlearn: 0.0766949\ttotal: 2.75s\tremaining: 696ms\n",
      "798:\tlearn: 0.0765691\ttotal: 2.75s\tremaining: 692ms\n",
      "799:\tlearn: 0.0764848\ttotal: 2.75s\tremaining: 689ms\n",
      "800:\tlearn: 0.0763850\ttotal: 2.76s\tremaining: 685ms\n",
      "801:\tlearn: 0.0763027\ttotal: 2.76s\tremaining: 681ms\n",
      "802:\tlearn: 0.0760908\ttotal: 2.76s\tremaining: 678ms\n",
      "803:\tlearn: 0.0759285\ttotal: 2.76s\tremaining: 674ms\n",
      "804:\tlearn: 0.0758123\ttotal: 2.77s\tremaining: 670ms\n",
      "805:\tlearn: 0.0757231\ttotal: 2.77s\tremaining: 667ms\n",
      "806:\tlearn: 0.0755635\ttotal: 2.77s\tremaining: 663ms\n"
     ]
    },
    {
     "name": "stdout",
     "output_type": "stream",
     "text": [
      "807:\tlearn: 0.0754398\ttotal: 2.77s\tremaining: 659ms\n",
      "808:\tlearn: 0.0752586\ttotal: 2.78s\tremaining: 656ms\n",
      "809:\tlearn: 0.0751985\ttotal: 2.78s\tremaining: 652ms\n",
      "810:\tlearn: 0.0750646\ttotal: 2.78s\tremaining: 648ms\n",
      "811:\tlearn: 0.0749608\ttotal: 2.78s\tremaining: 645ms\n",
      "812:\tlearn: 0.0748815\ttotal: 2.79s\tremaining: 641ms\n",
      "813:\tlearn: 0.0747369\ttotal: 2.79s\tremaining: 637ms\n",
      "814:\tlearn: 0.0745074\ttotal: 2.79s\tremaining: 634ms\n",
      "815:\tlearn: 0.0744025\ttotal: 2.79s\tremaining: 630ms\n",
      "816:\tlearn: 0.0743356\ttotal: 2.8s\tremaining: 626ms\n",
      "817:\tlearn: 0.0742154\ttotal: 2.8s\tremaining: 623ms\n",
      "818:\tlearn: 0.0741064\ttotal: 2.81s\tremaining: 621ms\n",
      "819:\tlearn: 0.0739773\ttotal: 2.81s\tremaining: 617ms\n",
      "820:\tlearn: 0.0738237\ttotal: 2.81s\tremaining: 614ms\n",
      "821:\tlearn: 0.0737428\ttotal: 2.82s\tremaining: 610ms\n",
      "822:\tlearn: 0.0736957\ttotal: 2.82s\tremaining: 607ms\n",
      "823:\tlearn: 0.0736094\ttotal: 2.83s\tremaining: 603ms\n",
      "824:\tlearn: 0.0735293\ttotal: 2.83s\tremaining: 600ms\n",
      "825:\tlearn: 0.0733113\ttotal: 2.83s\tremaining: 596ms\n",
      "826:\tlearn: 0.0731479\ttotal: 2.83s\tremaining: 593ms\n",
      "827:\tlearn: 0.0730764\ttotal: 2.83s\tremaining: 589ms\n",
      "828:\tlearn: 0.0729044\ttotal: 2.84s\tremaining: 586ms\n",
      "829:\tlearn: 0.0727197\ttotal: 2.85s\tremaining: 583ms\n",
      "830:\tlearn: 0.0726957\ttotal: 2.85s\tremaining: 579ms\n",
      "831:\tlearn: 0.0726523\ttotal: 2.85s\tremaining: 576ms\n",
      "832:\tlearn: 0.0725500\ttotal: 2.85s\tremaining: 572ms\n",
      "833:\tlearn: 0.0724123\ttotal: 2.86s\tremaining: 569ms\n",
      "834:\tlearn: 0.0723732\ttotal: 2.86s\tremaining: 565ms\n",
      "835:\tlearn: 0.0723353\ttotal: 2.86s\tremaining: 562ms\n",
      "836:\tlearn: 0.0722372\ttotal: 2.86s\tremaining: 558ms\n",
      "837:\tlearn: 0.0721923\ttotal: 2.87s\tremaining: 554ms\n",
      "838:\tlearn: 0.0721183\ttotal: 2.87s\tremaining: 551ms\n",
      "839:\tlearn: 0.0720476\ttotal: 2.87s\tremaining: 547ms\n",
      "840:\tlearn: 0.0718698\ttotal: 2.87s\tremaining: 544ms\n"
     ]
    },
    {
     "name": "stdout",
     "output_type": "stream",
     "text": [
      "841:\tlearn: 0.0718240\ttotal: 2.88s\tremaining: 540ms\n",
      "842:\tlearn: 0.0718084\ttotal: 2.88s\tremaining: 537ms\n",
      "843:\tlearn: 0.0717023\ttotal: 2.88s\tremaining: 533ms\n",
      "844:\tlearn: 0.0716261\ttotal: 2.89s\tremaining: 529ms\n",
      "845:\tlearn: 0.0715172\ttotal: 2.89s\tremaining: 526ms\n",
      "846:\tlearn: 0.0714901\ttotal: 2.9s\tremaining: 523ms\n",
      "847:\tlearn: 0.0713311\ttotal: 2.9s\tremaining: 520ms\n",
      "848:\tlearn: 0.0712861\ttotal: 2.91s\tremaining: 518ms\n",
      "849:\tlearn: 0.0712181\ttotal: 2.91s\tremaining: 514ms\n",
      "850:\tlearn: 0.0710384\ttotal: 2.92s\tremaining: 511ms\n",
      "851:\tlearn: 0.0708662\ttotal: 2.92s\tremaining: 507ms\n",
      "852:\tlearn: 0.0707497\ttotal: 2.92s\tremaining: 503ms\n",
      "853:\tlearn: 0.0706080\ttotal: 2.92s\tremaining: 500ms\n",
      "854:\tlearn: 0.0704567\ttotal: 2.93s\tremaining: 496ms\n",
      "855:\tlearn: 0.0704471\ttotal: 2.93s\tremaining: 493ms\n",
      "856:\tlearn: 0.0703524\ttotal: 2.93s\tremaining: 489ms\n",
      "857:\tlearn: 0.0702487\ttotal: 2.93s\tremaining: 486ms\n"
     ]
    },
    {
     "name": "stdout",
     "output_type": "stream",
     "text": [
      "858:\tlearn: 0.0700504\ttotal: 2.94s\tremaining: 482ms\n",
      "859:\tlearn: 0.0699565\ttotal: 2.94s\tremaining: 479ms\n",
      "860:\tlearn: 0.0697875\ttotal: 2.94s\tremaining: 475ms\n",
      "861:\tlearn: 0.0696452\ttotal: 2.95s\tremaining: 472ms\n",
      "862:\tlearn: 0.0695776\ttotal: 2.95s\tremaining: 468ms\n",
      "863:\tlearn: 0.0694757\ttotal: 2.95s\tremaining: 465ms\n",
      "864:\tlearn: 0.0693496\ttotal: 2.96s\tremaining: 461ms\n",
      "865:\tlearn: 0.0692157\ttotal: 2.96s\tremaining: 459ms\n",
      "866:\tlearn: 0.0690834\ttotal: 2.96s\tremaining: 455ms\n",
      "867:\tlearn: 0.0689903\ttotal: 2.97s\tremaining: 451ms\n",
      "868:\tlearn: 0.0688538\ttotal: 2.97s\tremaining: 448ms\n",
      "869:\tlearn: 0.0687572\ttotal: 2.97s\tremaining: 444ms\n",
      "870:\tlearn: 0.0687346\ttotal: 2.98s\tremaining: 441ms\n",
      "871:\tlearn: 0.0686488\ttotal: 2.98s\tremaining: 438ms\n",
      "872:\tlearn: 0.0685416\ttotal: 2.98s\tremaining: 434ms\n",
      "873:\tlearn: 0.0684804\ttotal: 2.99s\tremaining: 431ms\n",
      "874:\tlearn: 0.0684030\ttotal: 2.99s\tremaining: 427ms\n",
      "875:\tlearn: 0.0682555\ttotal: 2.99s\tremaining: 424ms\n",
      "876:\tlearn: 0.0681229\ttotal: 3s\tremaining: 420ms\n",
      "877:\tlearn: 0.0679510\ttotal: 3s\tremaining: 417ms\n",
      "878:\tlearn: 0.0678660\ttotal: 3s\tremaining: 413ms\n",
      "879:\tlearn: 0.0677690\ttotal: 3s\tremaining: 410ms\n",
      "880:\tlearn: 0.0676435\ttotal: 3.01s\tremaining: 406ms\n",
      "881:\tlearn: 0.0675702\ttotal: 3.01s\tremaining: 403ms\n",
      "882:\tlearn: 0.0674659\ttotal: 3.01s\tremaining: 399ms\n",
      "883:\tlearn: 0.0673301\ttotal: 3.01s\tremaining: 396ms\n"
     ]
    },
    {
     "name": "stdout",
     "output_type": "stream",
     "text": [
      "884:\tlearn: 0.0672197\ttotal: 3.02s\tremaining: 392ms\n",
      "885:\tlearn: 0.0671272\ttotal: 3.02s\tremaining: 389ms\n",
      "886:\tlearn: 0.0669202\ttotal: 3.02s\tremaining: 385ms\n",
      "887:\tlearn: 0.0669024\ttotal: 3.03s\tremaining: 382ms\n",
      "888:\tlearn: 0.0668141\ttotal: 3.03s\tremaining: 378ms\n",
      "889:\tlearn: 0.0666970\ttotal: 3.03s\tremaining: 375ms\n",
      "890:\tlearn: 0.0666069\ttotal: 3.04s\tremaining: 371ms\n",
      "891:\tlearn: 0.0664313\ttotal: 3.05s\tremaining: 369ms\n",
      "892:\tlearn: 0.0664047\ttotal: 3.05s\tremaining: 365ms\n",
      "893:\tlearn: 0.0663892\ttotal: 3.05s\tremaining: 362ms\n"
     ]
    },
    {
     "name": "stdout",
     "output_type": "stream",
     "text": [
      "894:\tlearn: 0.0663534\ttotal: 3.08s\tremaining: 361ms\n",
      "895:\tlearn: 0.0662219\ttotal: 3.08s\tremaining: 357ms\n",
      "896:\tlearn: 0.0661560\ttotal: 3.08s\tremaining: 354ms\n",
      "897:\tlearn: 0.0660293\ttotal: 3.08s\tremaining: 350ms\n",
      "898:\tlearn: 0.0658840\ttotal: 3.09s\tremaining: 347ms\n",
      "899:\tlearn: 0.0657089\ttotal: 3.09s\tremaining: 343ms\n",
      "900:\tlearn: 0.0656145\ttotal: 3.09s\tremaining: 340ms\n",
      "901:\tlearn: 0.0655192\ttotal: 3.09s\tremaining: 336ms\n",
      "902:\tlearn: 0.0654612\ttotal: 3.1s\tremaining: 333ms\n",
      "903:\tlearn: 0.0653542\ttotal: 3.1s\tremaining: 329ms\n",
      "904:\tlearn: 0.0653466\ttotal: 3.1s\tremaining: 326ms\n",
      "905:\tlearn: 0.0651901\ttotal: 3.1s\tremaining: 322ms\n",
      "906:\tlearn: 0.0651565\ttotal: 3.11s\tremaining: 319ms\n",
      "907:\tlearn: 0.0650397\ttotal: 3.11s\tremaining: 315ms\n",
      "908:\tlearn: 0.0649658\ttotal: 3.11s\tremaining: 312ms\n",
      "909:\tlearn: 0.0647961\ttotal: 3.11s\tremaining: 308ms\n",
      "910:\tlearn: 0.0647304\ttotal: 3.12s\tremaining: 305ms\n",
      "911:\tlearn: 0.0646842\ttotal: 3.12s\tremaining: 301ms\n",
      "912:\tlearn: 0.0645020\ttotal: 3.12s\tremaining: 297ms\n",
      "913:\tlearn: 0.0643469\ttotal: 3.12s\tremaining: 294ms\n",
      "914:\tlearn: 0.0642410\ttotal: 3.13s\tremaining: 291ms\n",
      "915:\tlearn: 0.0641375\ttotal: 3.13s\tremaining: 287ms\n",
      "916:\tlearn: 0.0640451\ttotal: 3.13s\tremaining: 283ms\n",
      "917:\tlearn: 0.0639931\ttotal: 3.13s\tremaining: 280ms\n",
      "918:\tlearn: 0.0638924\ttotal: 3.14s\tremaining: 276ms\n",
      "919:\tlearn: 0.0638112\ttotal: 3.14s\tremaining: 273ms\n",
      "920:\tlearn: 0.0637354\ttotal: 3.14s\tremaining: 270ms\n",
      "921:\tlearn: 0.0636563\ttotal: 3.14s\tremaining: 266ms\n",
      "922:\tlearn: 0.0635762\ttotal: 3.16s\tremaining: 263ms\n",
      "923:\tlearn: 0.0635192\ttotal: 3.16s\tremaining: 260ms\n",
      "924:\tlearn: 0.0634774\ttotal: 3.16s\tremaining: 256ms\n",
      "925:\tlearn: 0.0633448\ttotal: 3.17s\tremaining: 253ms\n",
      "926:\tlearn: 0.0631926\ttotal: 3.17s\tremaining: 249ms\n"
     ]
    },
    {
     "name": "stdout",
     "output_type": "stream",
     "text": [
      "927:\tlearn: 0.0630764\ttotal: 3.17s\tremaining: 246ms\n",
      "928:\tlearn: 0.0630041\ttotal: 3.17s\tremaining: 243ms\n",
      "929:\tlearn: 0.0629488\ttotal: 3.18s\tremaining: 239ms\n",
      "930:\tlearn: 0.0629141\ttotal: 3.18s\tremaining: 236ms\n",
      "931:\tlearn: 0.0628564\ttotal: 3.18s\tremaining: 232ms\n",
      "932:\tlearn: 0.0627503\ttotal: 3.18s\tremaining: 229ms\n",
      "933:\tlearn: 0.0626269\ttotal: 3.19s\tremaining: 225ms\n",
      "934:\tlearn: 0.0625157\ttotal: 3.19s\tremaining: 222ms\n",
      "935:\tlearn: 0.0624759\ttotal: 3.19s\tremaining: 218ms\n",
      "936:\tlearn: 0.0624356\ttotal: 3.2s\tremaining: 215ms\n",
      "937:\tlearn: 0.0623018\ttotal: 3.2s\tremaining: 212ms\n",
      "938:\tlearn: 0.0621915\ttotal: 3.2s\tremaining: 208ms\n",
      "939:\tlearn: 0.0620640\ttotal: 3.21s\tremaining: 205ms\n",
      "940:\tlearn: 0.0619986\ttotal: 3.21s\tremaining: 201ms\n",
      "941:\tlearn: 0.0619037\ttotal: 3.21s\tremaining: 198ms\n",
      "942:\tlearn: 0.0617783\ttotal: 3.21s\tremaining: 194ms\n",
      "943:\tlearn: 0.0617446\ttotal: 3.21s\tremaining: 191ms\n",
      "944:\tlearn: 0.0615949\ttotal: 3.22s\tremaining: 187ms\n",
      "945:\tlearn: 0.0614828\ttotal: 3.22s\tremaining: 184ms\n",
      "946:\tlearn: 0.0614120\ttotal: 3.22s\tremaining: 180ms\n",
      "947:\tlearn: 0.0613287\ttotal: 3.22s\tremaining: 177ms\n",
      "948:\tlearn: 0.0612834\ttotal: 3.23s\tremaining: 173ms\n"
     ]
    },
    {
     "name": "stdout",
     "output_type": "stream",
     "text": [
      "949:\tlearn: 0.0612736\ttotal: 3.24s\tremaining: 170ms\n",
      "950:\tlearn: 0.0611204\ttotal: 3.25s\tremaining: 167ms\n",
      "951:\tlearn: 0.0610399\ttotal: 3.25s\tremaining: 164ms\n",
      "952:\tlearn: 0.0609324\ttotal: 3.25s\tremaining: 160ms\n",
      "953:\tlearn: 0.0608505\ttotal: 3.26s\tremaining: 157ms\n",
      "954:\tlearn: 0.0607664\ttotal: 3.26s\tremaining: 154ms\n",
      "955:\tlearn: 0.0607058\ttotal: 3.26s\tremaining: 150ms\n",
      "956:\tlearn: 0.0606497\ttotal: 3.26s\tremaining: 147ms\n",
      "957:\tlearn: 0.0606062\ttotal: 3.27s\tremaining: 143ms\n",
      "958:\tlearn: 0.0605168\ttotal: 3.27s\tremaining: 140ms\n",
      "959:\tlearn: 0.0604723\ttotal: 3.27s\tremaining: 136ms\n",
      "960:\tlearn: 0.0603385\ttotal: 3.27s\tremaining: 133ms\n",
      "961:\tlearn: 0.0602681\ttotal: 3.28s\tremaining: 129ms\n",
      "962:\tlearn: 0.0601286\ttotal: 3.28s\tremaining: 126ms\n",
      "963:\tlearn: 0.0600294\ttotal: 3.28s\tremaining: 123ms\n",
      "964:\tlearn: 0.0599422\ttotal: 3.28s\tremaining: 119ms\n",
      "965:\tlearn: 0.0598141\ttotal: 3.29s\tremaining: 116ms\n",
      "966:\tlearn: 0.0597011\ttotal: 3.29s\tremaining: 112ms\n",
      "967:\tlearn: 0.0596304\ttotal: 3.29s\tremaining: 109ms\n",
      "968:\tlearn: 0.0595277\ttotal: 3.29s\tremaining: 105ms\n",
      "969:\tlearn: 0.0594244\ttotal: 3.3s\tremaining: 102ms\n",
      "970:\tlearn: 0.0594095\ttotal: 3.3s\tremaining: 98.6ms\n",
      "971:\tlearn: 0.0592724\ttotal: 3.3s\tremaining: 95.2ms\n"
     ]
    },
    {
     "name": "stdout",
     "output_type": "stream",
     "text": [
      "972:\tlearn: 0.0592642\ttotal: 3.31s\tremaining: 91.8ms\n",
      "973:\tlearn: 0.0592276\ttotal: 3.31s\tremaining: 88.4ms\n",
      "974:\tlearn: 0.0591587\ttotal: 3.31s\tremaining: 85ms\n",
      "975:\tlearn: 0.0590634\ttotal: 3.32s\tremaining: 81.6ms\n",
      "976:\tlearn: 0.0590195\ttotal: 3.32s\tremaining: 78.2ms\n",
      "977:\tlearn: 0.0588990\ttotal: 3.33s\tremaining: 74.9ms\n",
      "978:\tlearn: 0.0588397\ttotal: 3.33s\tremaining: 71.5ms\n",
      "979:\tlearn: 0.0587500\ttotal: 3.33s\tremaining: 68.1ms\n",
      "980:\tlearn: 0.0587217\ttotal: 3.34s\tremaining: 64.6ms\n",
      "981:\tlearn: 0.0586613\ttotal: 3.34s\tremaining: 61.2ms\n",
      "982:\tlearn: 0.0585397\ttotal: 3.34s\tremaining: 57.8ms\n",
      "983:\tlearn: 0.0584055\ttotal: 3.34s\tremaining: 54.4ms\n",
      "984:\tlearn: 0.0583011\ttotal: 3.35s\tremaining: 51ms\n",
      "985:\tlearn: 0.0582507\ttotal: 3.35s\tremaining: 47.5ms\n",
      "986:\tlearn: 0.0581702\ttotal: 3.35s\tremaining: 44.1ms\n",
      "987:\tlearn: 0.0580877\ttotal: 3.35s\tremaining: 40.7ms\n",
      "988:\tlearn: 0.0580021\ttotal: 3.36s\tremaining: 37.4ms\n"
     ]
    },
    {
     "name": "stdout",
     "output_type": "stream",
     "text": [
      "989:\tlearn: 0.0579160\ttotal: 3.39s\tremaining: 34.3ms\n",
      "990:\tlearn: 0.0578041\ttotal: 3.39s\tremaining: 30.8ms\n",
      "991:\tlearn: 0.0576898\ttotal: 3.4s\tremaining: 27.4ms\n",
      "992:\tlearn: 0.0576740\ttotal: 3.4s\tremaining: 24ms\n",
      "993:\tlearn: 0.0576018\ttotal: 3.41s\tremaining: 20.6ms\n",
      "994:\tlearn: 0.0575006\ttotal: 3.41s\tremaining: 17.2ms\n",
      "995:\tlearn: 0.0574409\ttotal: 3.42s\tremaining: 13.7ms\n",
      "996:\tlearn: 0.0573345\ttotal: 3.42s\tremaining: 10.3ms\n",
      "997:\tlearn: 0.0572466\ttotal: 3.42s\tremaining: 6.86ms\n",
      "998:\tlearn: 0.0571368\ttotal: 3.42s\tremaining: 3.43ms\n",
      "999:\tlearn: 0.0570601\ttotal: 3.43s\tremaining: 0us\n"
     ]
    },
    {
     "data": {
      "text/plain": [
       "<catboost.core.CatBoostRegressor at 0x7fd1ae129ca0>"
      ]
     },
     "execution_count": 9,
     "metadata": {},
     "output_type": "execute_result"
    }
   ],
   "source": [
    "#Train the Model \n",
    "prior_model = ctb.CatBoostRegressor()\n",
    "prior_model.fit(X_train,Y_train)"
   ]
  },
  {
   "cell_type": "code",
   "execution_count": 10,
   "id": "af65dcda",
   "metadata": {
    "execution": {
     "iopub.execute_input": "2022-07-22T18:31:42.505356Z",
     "iopub.status.busy": "2022-07-22T18:31:42.502993Z",
     "iopub.status.idle": "2022-07-22T18:31:42.596046Z",
     "shell.execute_reply": "2022-07-22T18:31:42.595108Z"
    },
    "id": "af65dcda",
    "papermill": {
     "duration": 0.144158,
     "end_time": "2022-07-22T18:31:42.613273",
     "exception": false,
     "start_time": "2022-07-22T18:31:42.469115",
     "status": "completed"
    },
    "tags": []
   },
   "outputs": [
    {
     "data": {
      "application/scrapbook.scrap.json+json": {
       "data": 0.10042157393311518,
       "encoder": "json",
       "name": "Prior Model MSE",
       "version": 1
      }
     },
     "metadata": {
      "scrapbook": {
       "data": true,
       "display": false,
       "name": "Prior Model MSE"
      }
     },
     "output_type": "display_data"
    },
    {
     "data": {
      "application/scrapbook.scrap.json+json": {
       "data": 0.10500074578732095,
       "encoder": "json",
       "name": "ABC Pre-generator MSE",
       "version": 1
      }
     },
     "metadata": {
      "scrapbook": {
       "data": true,
       "display": false,
       "name": "ABC Pre-generator MSE"
      }
     },
     "output_type": "display_data"
    },
    {
     "data": {
      "application/scrapbook.scrap.json+json": {
       "data": 0.21865166363622626,
       "encoder": "json",
       "name": "Prior Model MAE",
       "version": 1
      }
     },
     "metadata": {
      "scrapbook": {
       "data": true,
       "display": false,
       "name": "Prior Model MAE"
      }
     },
     "output_type": "display_data"
    },
    {
     "name": "stdout",
     "output_type": "stream",
     "text": [
      "Prior Model MAE 0.21865166363622626\n",
      "ABC Pre-generator MAE 0.23122916274543492\n"
     ]
    }
   ],
   "source": [
    "y_pred = prior_model.predict(X_test)\n",
    "y_abc = y_pred + np.random.normal(0,variance, y_pred.shape) + bias \n",
    "mse = mean_squared_error(y_pred,Y_test)\n",
    "sb.glue(\"Prior Model MSE\",mse)\n",
    "mse = mean_squared_error(y_abc,Y_test)\n",
    "sb.glue(\"ABC Pre-generator MSE\",mse)\n",
    "mae = mean_absolute_error(y_pred,Y_test)\n",
    "sb.glue(\"Prior Model MAE\",mae)\n",
    "print(\"Prior Model MAE\",mae)\n",
    "mae = mean_absolute_error(y_abc,Y_test)\n",
    "print(\"ABC Pre-generator MAE\",mae)"
   ]
  },
  {
   "cell_type": "markdown",
   "id": "25609da2",
   "metadata": {
    "papermill": {
     "duration": 0.013666,
     "end_time": "2022-07-22T18:31:42.638955",
     "exception": false,
     "start_time": "2022-07-22T18:31:42.625289",
     "status": "completed"
    },
    "tags": []
   },
   "source": [
    "# mGAN Model"
   ]
  },
  {
   "cell_type": "code",
   "execution_count": 11,
   "id": "dfc3464d",
   "metadata": {
    "execution": {
     "iopub.execute_input": "2022-07-22T18:31:42.687289Z",
     "iopub.status.busy": "2022-07-22T18:31:42.686355Z",
     "iopub.status.idle": "2022-07-22T18:31:42.711598Z",
     "shell.execute_reply": "2022-07-22T18:31:42.705694Z"
    },
    "papermill": {
     "duration": 0.068177,
     "end_time": "2022-07-22T18:31:42.722936",
     "exception": false,
     "start_time": "2022-07-22T18:31:42.654759",
     "status": "completed"
    },
    "tags": []
   },
   "outputs": [],
   "source": [
    "# gen = network.Generator(n_features+1).to(device)\n",
    "# disc = network.Discriminator(n_features+1).to(device)\n",
    "\n",
    "# criterion = torch.nn.BCELoss()\n",
    "# gen_opt = torch.optim.Adam(gen.parameters(), lr=0.01, betas=(0.5, 0.999))\n",
    "# disc_opt = torch.optim.Adam(disc.parameters(), lr=0.01, betas=(0.5, 0.999))"
   ]
  },
  {
   "cell_type": "code",
   "execution_count": 12,
   "id": "b75fdd85",
   "metadata": {
    "execution": {
     "iopub.execute_input": "2022-07-22T18:31:42.757145Z",
     "iopub.status.busy": "2022-07-22T18:31:42.756622Z",
     "iopub.status.idle": "2022-07-22T18:31:42.761340Z",
     "shell.execute_reply": "2022-07-22T18:31:42.760046Z"
    },
    "papermill": {
     "duration": 0.032752,
     "end_time": "2022-07-22T18:31:42.767844",
     "exception": false,
     "start_time": "2022-07-22T18:31:42.735092",
     "status": "completed"
    },
    "tags": []
   },
   "outputs": [],
   "source": [
    "#Training the ABC_GAN \n",
    "# ABC_train_test2.training_GAN(disc,gen,disc_opt,gen_opt,train_data,batch_size,n_epochs,criterion,prior_model,variance,bias,device)"
   ]
  },
  {
   "cell_type": "code",
   "execution_count": 13,
   "id": "1fa7c368",
   "metadata": {
    "execution": {
     "iopub.execute_input": "2022-07-22T18:31:42.823107Z",
     "iopub.status.busy": "2022-07-22T18:31:42.817722Z",
     "iopub.status.idle": "2022-07-22T18:31:42.835720Z",
     "shell.execute_reply": "2022-07-22T18:31:42.831462Z"
    },
    "papermill": {
     "duration": 0.065447,
     "end_time": "2022-07-22T18:31:42.847336",
     "exception": false,
     "start_time": "2022-07-22T18:31:42.781889",
     "status": "completed"
    },
    "tags": []
   },
   "outputs": [],
   "source": [
    "# ABC_GAN1_metrics=ABC_train_test2.test_generator(gen,test_data,prior_model,variance,bias,\"1\",device)\n",
    "# sb.glue(\"ABC_GAN_1 Metrics\",ABC_GAN1_metrics)\n",
    "\n",
    "# print(\"MAE\")\n",
    "# print(mean(ABC_GAN1_metrics[1]))"
   ]
  },
  {
   "cell_type": "code",
   "execution_count": 14,
   "id": "eb22ce5c",
   "metadata": {
    "execution": {
     "iopub.execute_input": "2022-07-22T18:31:42.899381Z",
     "iopub.status.busy": "2022-07-22T18:31:42.898725Z",
     "iopub.status.idle": "2022-07-22T18:31:42.904413Z",
     "shell.execute_reply": "2022-07-22T18:31:42.902540Z"
    },
    "papermill": {
     "duration": 0.054068,
     "end_time": "2022-07-22T18:31:42.914985",
     "exception": false,
     "start_time": "2022-07-22T18:31:42.860917",
     "status": "completed"
    },
    "tags": []
   },
   "outputs": [],
   "source": [
    "# sanityChecks.discProbVsError(train_data,disc,device)\n",
    "# sanityChecks.discProbVsError(test_data,disc,device)"
   ]
  },
  {
   "cell_type": "markdown",
   "id": "d389a5cf",
   "metadata": {
    "papermill": {
     "duration": 0.021875,
     "end_time": "2022-07-22T18:31:42.951002",
     "exception": false,
     "start_time": "2022-07-22T18:31:42.929127",
     "status": "completed"
    },
    "tags": []
   },
   "source": [
    "# mGAN Model with TabNet Generator"
   ]
  },
  {
   "cell_type": "code",
   "execution_count": 15,
   "id": "e97ef467",
   "metadata": {
    "execution": {
     "iopub.execute_input": "2022-07-22T18:31:43.012167Z",
     "iopub.status.busy": "2022-07-22T18:31:43.009610Z",
     "iopub.status.idle": "2022-07-22T18:31:43.036237Z",
     "shell.execute_reply": "2022-07-22T18:31:43.034515Z"
    },
    "papermill": {
     "duration": 0.078168,
     "end_time": "2022-07-22T18:31:43.051462",
     "exception": false,
     "start_time": "2022-07-22T18:31:42.973294",
     "status": "completed"
    },
    "tags": []
   },
   "outputs": [],
   "source": [
    "gen2 = network.GeneratorTabnet(n_features+1).to(device)\n",
    "disc2 = network.Discriminator(n_features+1).to(device)\n",
    "\n",
    "criterion = torch.nn.BCELoss()\n",
    "gen_opt = torch.optim.Adam(gen2.parameters(), lr=0.01, betas=(0.5, 0.999))\n",
    "disc_opt = torch.optim.Adam(disc2.parameters(), lr=0.01, betas=(0.5, 0.999))"
   ]
  },
  {
   "cell_type": "code",
   "execution_count": 16,
   "id": "b243c557",
   "metadata": {
    "execution": {
     "iopub.execute_input": "2022-07-22T18:31:43.110898Z",
     "iopub.status.busy": "2022-07-22T18:31:43.109016Z",
     "iopub.status.idle": "2022-07-22T18:42:13.887311Z",
     "shell.execute_reply": "2022-07-22T18:42:13.884327Z"
    },
    "papermill": {
     "duration": 630.830892,
     "end_time": "2022-07-22T18:42:13.896960",
     "exception": false,
     "start_time": "2022-07-22T18:31:43.066068",
     "status": "completed"
    },
    "tags": []
   },
   "outputs": [
    {
     "data": {
      "image/png": "[encoded data removed]",
      "text/plain": [
       "<Figure size 432x288 with 1 Axes>"
      ]
     },
     "metadata": {
      "needs_background": "light"
     },
     "output_type": "display_data"
    },
    {
     "data": {
      "image/png": "[encoded data removed]",
      "text/plain": [
       "<Figure size 432x288 with 1 Axes>"
      ]
     },
     "metadata": {
      "needs_background": "light"
     },
     "output_type": "display_data"
    }
   ],
   "source": [
    "#Training the ABC_GAN \n",
    "ABC_train_test2.training_GAN(disc2,gen2,disc_opt,gen_opt,train_data,batch_size,n_epochs,criterion,prior_model,variance,bias,device)"
   ]
  },
  {
   "cell_type": "code",
   "execution_count": 17,
   "id": "ccbbe04d",
   "metadata": {
    "execution": {
     "iopub.execute_input": "2022-07-22T18:42:14.007027Z",
     "iopub.status.busy": "2022-07-22T18:42:13.987141Z",
     "iopub.status.idle": "2022-07-22T18:42:16.005466Z",
     "shell.execute_reply": "2022-07-22T18:42:16.003502Z"
    },
    "papermill": {
     "duration": 2.09256,
     "end_time": "2022-07-22T18:42:16.009301",
     "exception": false,
     "start_time": "2022-07-22T18:42:13.916741",
     "status": "completed"
    },
    "tags": []
   },
   "outputs": [
    {
     "data": {
      "application/scrapbook.scrap.json+json": {
       "data": 0.12516508762225392,
       "encoder": "json",
       "name": "ABC-GAN Model 1 MSE",
       "version": 1
      }
     },
     "metadata": {
      "scrapbook": {
       "data": true,
       "display": false,
       "name": "ABC-GAN Model 1 MSE"
      }
     },
     "output_type": "display_data"
    },
    {
     "data": {
      "application/scrapbook.scrap.json+json": {
       "data": 0.22500736547031386,
       "encoder": "json",
       "name": "ABC-GAN Model 1 MAE",
       "version": 1
      }
     },
     "metadata": {
      "scrapbook": {
       "data": true,
       "display": false,
       "name": "ABC-GAN Model 1 MAE"
      }
     },
     "output_type": "display_data"
    },
    {
     "data": {
      "application/scrapbook.scrap.json+json": {
       "data": 22.950751277972014,
       "encoder": "json",
       "name": "ABC-GAN Model 1 Manhattan Distance",
       "version": 1
      }
     },
     "metadata": {
      "scrapbook": {
       "data": true,
       "display": false,
       "name": "ABC-GAN Model 1 Manhattan Distance"
      }
     },
     "output_type": "display_data"
    },
    {
     "data": {
      "application/scrapbook.scrap.json+json": {
       "data": 3.571863760653761,
       "encoder": "json",
       "name": "ABC-GAN Model 1 Euclidean distance",
       "version": 1
      }
     },
     "metadata": {
      "scrapbook": {
       "data": true,
       "display": false,
       "name": "ABC-GAN Model 1 Euclidean distance"
      }
     },
     "output_type": "display_data"
    },
    {
     "data": {
      "application/scrapbook.scrap.json+json": {
       "data": [
        [
         0.12302978367186569,
         0.1200378678865377,
         0.12027920301966545,
         0.13300170537360068,
         0.1263340209629888,
         0.12045685944204616,
         0.13417271488142654,
         0.11364386412479148,
         0.135751037483646,
         0.12689337429866013,
         0.13252339815653247,
         0.12399730370426673,
         0.12976071441631704,
         0.11617021538951755,
         0.12276665991972928,
         0.12891251676685625,
         0.1138743387138636,
         0.12586837107535462,
         0.13377224523469125,
         0.12577758565509223,
         0.12211080092015489,
         0.1212395397999871,
         0.1201727992652426,
         0.1249908894782283,
         0.12194220576998856,
         0.12378677406575898,
         0.1215985433637997,
         0.13784616396186317,
         0.13662315101457784,
         0.13233449354203858,
         0.12556388085856635,
         0.12942864248192038,
         0.12544630809539783,
         0.11046091554274404,
         0.12030732924091996,
         0.12283296454502932,
         0.12443133368172299,
         0.12135882888984434,
         0.12510992379798816,
         0.13655011128518757,
         0.12535209008033113,
         0.1299936566233569,
         0.11982786856617449,
         0.12619980839179287,
         0.1306964823549231,
         0.12638902611582398,
         0.1189811431865387,
         0.12548161444312952,
         0.1358020324211387,
         0.12049878944906486,
         0.12163436150748472,
         0.1181627954289574,
         0.1254190173742217,
         0.12273293078364085,
         0.12985168529269928,
         0.11679928487226462,
         0.12293651119257579,
         0.11820227267459607,
         0.129096298008709,
         0.13453447609469937,
         0.12461233277942346,
         0.11430713018747919,
         0.12803898786454604,
         0.12324799263613498,
         0.11193025853861598,
         0.1379791036416319,
         0.12916698449766081,
         0.13048906410617478,
         0.12098654601963307,
         0.1229077012736885,
         0.12722464766294822,
         0.14122057209306357,
         0.13157546435158415,
         0.12021535842192203,
         0.13354834452750622,
         0.11115842492462634,
         0.12535017045773486,
         0.13120503105869832,
         0.11580467641343913,
         0.12713739420557182,
         0.11832201530530434,
         0.12597481777641492,
         0.12469086271330287,
         0.12147790634699952,
         0.12218136846071015,
         0.12077138965634365,
         0.12727562540777881,
         0.11700972930112226,
         0.12478565301749049,
         0.12217233149132502,
         0.12286050089968363,
         0.12867476567942254,
         0.13227793774172225,
         0.14131113318097696,
         0.1355570369425744,
         0.1268325349015435,
         0.12166383478718192,
         0.12850674948056875,
         0.11585365662613037,
         0.12045120220617936
        ],
        [
         0.22318329577169874,
         0.22090259803386003,
         0.2194241061350148,
         0.23262066645182522,
         0.22610548868154487,
         0.21909953404546662,
         0.22919881507279535,
         0.21732232978056168,
         0.2323017225819914,
         0.22313659755951343,
         0.23153516422847614,
         0.22935843160010727,
         0.22671901634620392,
         0.21759160545051975,
         0.22476021878823055,
         0.22497436138527357,
         0.21534933346122795,
         0.2283248891597431,
         0.23530307476974877,
         0.22681803474494933,
         0.22435868360723057,
         0.2218143432583733,
         0.22133171184938036,
         0.2266151343253167,
         0.22576996259500876,
         0.22653096741722786,
         0.22049972582060626,
         0.22784235880838014,
         0.23810827243598362,
         0.2272329927495151,
         0.2290147914660766,
         0.23065677742638133,
         0.22711933706430534,
         0.2154995773772837,
         0.22282479501639804,
         0.22568544330002338,
         0.22379296312254726,
         0.21288442731305374,
         0.22646905239854082,
         0.2312871215079783,
         0.22529935077124952,
         0.2273535473253943,
         0.22319580127905106,
         0.22601393514367588,
         0.22705766890088425,
         0.22493492979008486,
         0.2242406229671164,
         0.22299344000388302,
         0.22985284175614223,
         0.21928935683350645,
         0.22432728707972988,
         0.22255499408050788,
         0.22546518295455506,
         0.22510797016359135,
         0.2303679446580217,
         0.21804836099309957,
         0.22495010528969123,
         0.21881916497231407,
         0.22151431633963012,
         0.23739306719097145,
         0.223882972965857,
         0.21473316312311033,
         0.2278028018681296,
         0.21836492958862116,
         0.21955877077747502,
         0.23532242679457163,
         0.2245555520514209,
         0.23237927372147346,
         0.2233532141328004,
         0.23391665805898168,
         0.21906554302675466,
         0.2360837141727554,
         0.22890619731818637,
         0.21486891489293353,
         0.23263078952646432,
         0.2082561287828082,
         0.22443442144339867,
         0.22619366305241106,
         0.22663769599817254,
         0.22734890502932317,
         0.2222056558775697,
         0.2250469734472241,
         0.22930132735557124,
         0.22926220027547256,
         0.2246928136047049,
         0.22457972493059203,
         0.22635519644245505,
         0.2186844571237909,
         0.22598953883839296,
         0.22152601462770619,
         0.22318468205448166,
         0.22263829520556563,
         0.22900470115207866,
         0.23682489997579478,
         0.22492877170260922,
         0.2243615835905075,
         0.2194075654808651,
         0.2270036302050393,
         0.2175304582799036,
         0.22176470913394702
        ],
        [
         22.76469616871327,
         22.532064999453723,
         22.38125882577151,
         23.727307978086174,
         23.062759845517576,
         22.348152472637594,
         23.378279137425125,
         22.16687763761729,
         23.69477570336312,
         22.75993295107037,
         23.616586751304567,
         23.394560023210943,
         23.1253396673128,
         22.194343755953014,
         22.925542316399515,
         22.947384861297905,
         21.96563201304525,
         23.289138694293797,
         24.000913626514375,
         23.13543954398483,
         22.88458572793752,
         22.625063012354076,
         22.575834608636796,
         23.114743701182306,
         23.028536184690893,
         23.106158676557243,
         22.490972033701837,
         23.239920598454773,
         24.287043788470328,
         23.177765260450542,
         23.35950872953981,
         23.526991297490895,
         23.166172380559146,
         21.980956892482936,
         22.7281290916726,
         23.019915216602385,
         22.82688223849982,
         21.71421158593148,
         23.099843344651163,
         23.59128639381379,
         22.98053377866745,
         23.19006182719022,
         22.765971730463207,
         23.05342138465494,
         23.159882227890193,
         22.943362838588655,
         22.87254354264587,
         22.745330880396068,
         23.44498985912651,
         22.367514397017658,
         22.881383282132447,
         22.700609396211803,
         22.997448661364615,
         22.961012956686318,
         23.497530355118215,
         22.240932821296155,
         22.944910739548504,
         22.319554827176034,
         22.594460266642272,
         24.214092853479087,
         22.83606324251741,
         21.902782638557255,
         23.23588579054922,
         22.273222818039358,
         22.39499461930245,
         24.002887533046305,
         22.90466630924493,
         23.702685919590294,
         22.78202784154564,
         23.859499122016132,
         22.344685388728976,
         24.08053884562105,
         23.34843212645501,
         21.91662931907922,
         23.72834053169936,
         21.242125135846436,
         22.892310987226665,
         23.071753631345928,
         23.1170449918136,
         23.189588312990963,
         22.664976899512112,
         22.954791291616857,
         23.388735390268266,
         23.3847444280982,
         22.9186669876799,
         22.907131942920387,
         23.088230037130415,
         22.30581462662667,
         23.050932961516082,
         22.59565349202603,
         22.76483756955713,
         22.709106110967696,
         23.358479517512023,
         24.15613979753107,
         22.94273471366614,
         22.884881526231766,
         22.37957167904824,
         23.15437028091401,
         22.18810674455017,
         22.620000331662595
        ],
        [
         3.542462128877357,
         3.499123107926734,
         3.5026388206616272,
         3.6832287395853203,
         3.5897172783138296,
         3.5052246237707374,
         3.699407644191905,
         3.404654775557829,
         3.7211027697890704,
         3.597655372386763,
         3.6765998710719545,
         3.5563640108733536,
         3.6380754349606796,
         3.442290221601134,
         3.5386719700775298,
         3.626165565748389,
         3.4081054192636246,
         3.5830955680369687,
         3.693882647559138,
         3.5818031404335176,
         3.529206949706378,
         3.5165939571691647,
         3.5010891912453115,
         3.5705840876219797,
         3.526769766874332,
         3.5533436302597328,
         3.5217966186461656,
         3.7497078184986687,
         3.7330364856892224,
         3.6739785439340737,
         3.578758981486985,
         3.633417335395961,
         3.577083089016885,
         3.3566372138436242,
         3.5030483271821744,
         3.539627435704638,
         3.562582775955633,
         3.5183235420813865,
         3.5722838951285483,
         3.732038498071681,
         3.575739530250179,
         3.641339448002947,
         3.4960610111595303,
         3.5878099804703805,
         3.6511698399557035,
         3.5904986650622845,
         3.4836872140057213,
         3.5775864312688808,
         3.721801621117942,
         3.5058346401113405,
         3.5223152717727353,
         3.4716862089989715,
         3.5766939723955433,
         3.53818582608819,
         3.6393504777439794,
         3.45159775422499,
         3.5411190521701936,
         3.472266091878443,
         3.628749426026592,
         3.7043915238078355,
         3.565172919158507,
         3.414575709970841,
         3.6138589848226914,
         3.545602240647669,
         3.3788883336000954,
         3.7515155032928296,
         3.629742748289664,
         3.648271445332683,
         3.5129229558876713,
         3.5407041008698017,
         3.602348409249266,
         3.7953258560356162,
         3.6634269972065217,
         3.5017090911490696,
         3.6907900430403293,
         3.3672183389723758,
         3.5757121509832066,
         3.658266415665654,
         3.436870232372877,
         3.6011129125547185,
         3.4740244042235857,
         3.5846103572347046,
         3.566296117368396,
         3.5200492109335566,
         3.530226562558334,
         3.5097979635510437,
         3.603070050886249,
         3.4547058324428246,
         3.567651413434899,
         3.530096006076201,
         3.5400241654214355,
         3.6228201858912485,
         3.6731933858232493,
         3.7965425829904307,
         3.718442922533918,
         3.596792815823207,
         3.5227419928647272,
         3.620454176897977,
         3.4375969769397483,
         3.505142311665861
        ]
       ],
       "encoder": "json",
       "name": "ABC_GAN_2 Metrics",
       "version": 1
      }
     },
     "metadata": {
      "scrapbook": {
       "data": true,
       "display": false,
       "name": "ABC_GAN_2 Metrics"
      }
     },
     "output_type": "display_data"
    },
    {
     "name": "stdout",
     "output_type": "stream",
     "text": [
      "MAE\n",
      "0.22500736547031386\n"
     ]
    }
   ],
   "source": [
    "ABC_GAN2_metrics=ABC_train_test2.test_generator(gen2,test_data,prior_model,variance,bias,\"1\",device)\n",
    "sb.glue(\"ABC_GAN_2 Metrics\",ABC_GAN2_metrics)\n",
    "\n",
    "print(\"MAE\")\n",
    "print(mean(ABC_GAN2_metrics[1]))"
   ]
  },
  {
   "cell_type": "code",
   "execution_count": 18,
   "id": "cb00802f",
   "metadata": {
    "execution": {
     "iopub.execute_input": "2022-07-22T18:42:16.069369Z",
     "iopub.status.busy": "2022-07-22T18:42:16.068883Z",
     "iopub.status.idle": "2022-07-22T18:42:16.961748Z",
     "shell.execute_reply": "2022-07-22T18:42:16.960800Z"
    },
    "papermill": {
     "duration": 0.937888,
     "end_time": "2022-07-22T18:42:16.964553",
     "exception": false,
     "start_time": "2022-07-22T18:42:16.026665",
     "status": "completed"
    },
    "tags": []
   },
   "outputs": [
    {
     "data": {
      "image/png": "[encoded data removed]",
      "text/plain": [
       "<Figure size 432x288 with 1 Axes>"
      ]
     },
     "metadata": {
      "needs_background": "light"
     },
     "output_type": "display_data"
    },
    {
     "data": {
      "image/png": "[encoded data removed]",
      "text/plain": [
       "<Figure size 432x288 with 1 Axes>"
      ]
     },
     "metadata": {
      "needs_background": "light"
     },
     "output_type": "display_data"
    },
    {
     "data": {
      "image/png": "[encoded data removed]",
      "text/plain": [
       "<Figure size 432x288 with 1 Axes>"
      ]
     },
     "metadata": {
      "needs_background": "light"
     },
     "output_type": "display_data"
    },
    {
     "data": {
      "image/png": "[encoded data removed]",
      "text/plain": [
       "<Figure size 432x288 with 1 Axes>"
      ]
     },
     "metadata": {
      "needs_background": "light"
     },
     "output_type": "display_data"
    }
   ],
   "source": [
    "sanityChecks.discProbVsError(train_data,disc2,device)\n",
    "sanityChecks.discProbVsError(test_data,disc2,device)"
   ]
  },
  {
   "cell_type": "markdown",
   "id": "130f3a4d",
   "metadata": {
    "id": "130f3a4d",
    "papermill": {
     "duration": 0.026,
     "end_time": "2022-07-22T18:42:17.007287",
     "exception": false,
     "start_time": "2022-07-22T18:42:16.981287",
     "status": "completed"
    },
    "tags": []
   },
   "source": [
    "# skipGAN Model"
   ]
  },
  {
   "cell_type": "code",
   "execution_count": 19,
   "id": "4e43dad1",
   "metadata": {
    "execution": {
     "iopub.execute_input": "2022-07-22T18:42:17.045502Z",
     "iopub.status.busy": "2022-07-22T18:42:17.044625Z",
     "iopub.status.idle": "2022-07-22T18:42:17.049829Z",
     "shell.execute_reply": "2022-07-22T18:42:17.048848Z"
    },
    "id": "4e43dad1",
    "papermill": {
     "duration": 0.027073,
     "end_time": "2022-07-22T18:42:17.052990",
     "exception": false,
     "start_time": "2022-07-22T18:42:17.025917",
     "status": "completed"
    },
    "tags": []
   },
   "outputs": [],
   "source": [
    "# #Generator\n",
    "# gen3 = network.GeneratorWithSkipConnection(n_features+1).to(device)\n",
    "# constraints=network.weightConstraint()\n",
    "# #Discriminator \n",
    "# disc3 = network.Discriminator(n_features+1).to(device)\n",
    "\n",
    "# criterion = torch.nn.BCELoss()\n",
    "# gen_opt = torch.optim.Adam(gen3.parameters(), lr=0.01, betas=(0.5, 0.999))\n",
    "# disc_opt = torch.optim.Adam(disc3.parameters(), lr=0.01, betas=(0.5, 0.999))\n"
   ]
  },
  {
   "cell_type": "markdown",
   "id": "f01777d5",
   "metadata": {
    "tags": [
     "papermill-error-cell-tag"
    ]
   },
   "source": [
    "<span id=\"papermill-error-cell\" style=\"color:red; font-family:Helvetica Neue, Helvetica, Arial, sans-serif; font-size:2em;\">Execution using papermill encountered an exception here and stopped:</span>"
   ]
  },
  {
   "cell_type": "code",
   "execution_count": 20,
   "id": "26acbc37",
   "metadata": {
    "execution": {
     "iopub.execute_input": "2022-07-22T18:42:17.088334Z",
     "iopub.status.busy": "2022-07-22T18:42:17.087983Z",
     "iopub.status.idle": "2022-07-22T18:42:18.172356Z",
     "shell.execute_reply": "2022-07-22T18:42:18.161280Z"
    },
    "id": "26acbc37",
    "papermill": {
     "duration": 1.105635,
     "end_time": "2022-07-22T18:42:18.175206",
     "exception": true,
     "start_time": "2022-07-22T18:42:17.069571",
     "status": "failed"
    },
    "tags": []
   },
   "outputs": [
    {
     "ename": "NameError",
     "evalue": "name 'disc3' is not defined",
     "output_type": "error",
     "traceback": [
      "\u001b[0;31m---------------------------------------------------------------------------\u001b[0m",
      "\u001b[0;31mNameError\u001b[0m                                 Traceback (most recent call last)",
      "Input \u001b[0;32mIn [20]\u001b[0m, in \u001b[0;36m<cell line: 1>\u001b[0;34m()\u001b[0m\n\u001b[0;32m----> 1\u001b[0m ABC_train_test2\u001b[38;5;241m.\u001b[39mtraining_GAN_skip_connection(\u001b[43mdisc3\u001b[49m,gen3,disc_opt,gen_opt,train_data,batch_size,n_epochs,criterion,prior_model,variance,bias,device)\n",
      "\u001b[0;31mNameError\u001b[0m: name 'disc3' is not defined"
     ]
    }
   ],
   "source": [
    "ABC_train_test2.training_GAN_skip_connection(disc3,gen3,disc_opt,gen_opt,train_data,batch_size,n_epochs,criterion,prior_model,variance,bias,device)"
   ]
  },
  {
   "cell_type": "code",
   "execution_count": null,
   "id": "c5e0717b",
   "metadata": {
    "id": "c5e0717b",
    "papermill": {
     "duration": null,
     "end_time": null,
     "exception": null,
     "start_time": null,
     "status": "pending"
    },
    "tags": []
   },
   "outputs": [],
   "source": [
    "# ABC_GAN3_metrics=ABC_train_test2.test_generator(gen3,test_data,prior_model,variance,bias,\"3\",device)\n",
    "# sb.glue(\"ABC_GAN_3 Metrics\",ABC_GAN3_metrics)\n",
    "\n",
    "# print(\"MAE\")\n",
    "# print(mean(ABC_GAN3_metrics[1]))"
   ]
  },
  {
   "cell_type": "code",
   "execution_count": null,
   "id": "c8e46b48",
   "metadata": {
    "id": "c8e46b48",
    "papermill": {
     "duration": null,
     "end_time": null,
     "exception": null,
     "start_time": null,
     "status": "pending"
    },
    "tags": []
   },
   "outputs": [],
   "source": [
    "# sanityChecks.discProbVsError(train_data,disc3,device)\n",
    "# sanityChecks.discProbVsError(test_data,disc3,device)"
   ]
  },
  {
   "cell_type": "markdown",
   "id": "7b4979f7",
   "metadata": {
    "id": "130f3a4d",
    "papermill": {
     "duration": null,
     "end_time": null,
     "exception": null,
     "start_time": null,
     "status": "pending"
    },
    "tags": []
   },
   "source": [
    "# skipGAN Model with TabNet Generator"
   ]
  },
  {
   "cell_type": "code",
   "execution_count": null,
   "id": "622715f9",
   "metadata": {
    "id": "4e43dad1",
    "papermill": {
     "duration": null,
     "end_time": null,
     "exception": null,
     "start_time": null,
     "status": "pending"
    },
    "tags": []
   },
   "outputs": [],
   "source": [
    "# #Generator\n",
    "# gen4 = network.GeneratorTabnetskipConnection(n_features+1).to(device)\n",
    "# constraints=network.weightConstraint()\n",
    "# #Discriminator \n",
    "# disc4 = network.Discriminator(n_features+1).to(device)\n",
    "\n",
    "# criterion = torch.nn.BCELoss()\n",
    "# gen_opt = torch.optim.Adam(gen4.parameters(), lr=0.01, betas=(0.5, 0.999))\n",
    "# disc_opt = torch.optim.Adam(disc4.parameters(), lr=0.01, betas=(0.5, 0.999))\n"
   ]
  },
  {
   "cell_type": "code",
   "execution_count": null,
   "id": "578fab30",
   "metadata": {
    "id": "26acbc37",
    "papermill": {
     "duration": null,
     "end_time": null,
     "exception": null,
     "start_time": null,
     "status": "pending"
    },
    "tags": []
   },
   "outputs": [],
   "source": [
    "# ABC_train_test2.training_GAN_skip_connection(disc4,gen4,disc_opt,gen_opt,train_data,batch_size,n_epochs,criterion,prior_model,variance,bias,device)"
   ]
  },
  {
   "cell_type": "code",
   "execution_count": null,
   "id": "bf8d2323",
   "metadata": {
    "id": "c5e0717b",
    "papermill": {
     "duration": null,
     "end_time": null,
     "exception": null,
     "start_time": null,
     "status": "pending"
    },
    "tags": []
   },
   "outputs": [],
   "source": [
    "# ABC_GAN4_metrics=ABC_train_test2.test_generator(gen4,test_data,prior_model,variance,bias,\"3\",device)\n",
    "# sb.glue(\"ABC_GAN_4 Metrics\",ABC_GAN4_metrics)\n",
    "\n",
    "# print(\"MAE\")\n",
    "# print(mean(ABC_GAN4_metrics[1]))"
   ]
  },
  {
   "cell_type": "code",
   "execution_count": null,
   "id": "8b1035f0",
   "metadata": {
    "id": "c8e46b48",
    "papermill": {
     "duration": null,
     "end_time": null,
     "exception": null,
     "start_time": null,
     "status": "pending"
    },
    "tags": []
   },
   "outputs": [],
   "source": [
    "# sanityChecks.discProbVsError(train_data,disc4,device)\n",
    "# sanityChecks.discProbVsError(test_data,disc4,device)"
   ]
  },
  {
   "cell_type": "markdown",
   "id": "a5bd74c3",
   "metadata": {
    "id": "a5bd74c3",
    "papermill": {
     "duration": null,
     "end_time": null,
     "exception": null,
     "start_time": null,
     "status": "pending"
    },
    "tags": []
   },
   "source": [
    "## Skip Connection Model Analysis - ABC-GAN "
   ]
  },
  {
   "cell_type": "markdown",
   "id": "5744a8bf",
   "metadata": {
    "id": "5744a8bf",
    "papermill": {
     "duration": null,
     "end_time": null,
     "exception": null,
     "start_time": null,
     "status": "pending"
    },
    "tags": []
   },
   "source": [
    "### Weight Analysis \n",
    "\n",
    "Study the weights of the skip connection layer\n",
    "\n",
    "Equation of the skip connection is \n",
    "\n",
    "$output = y_{gan} * w + y_{abc} * (1-w)$"
   ]
  },
  {
   "cell_type": "code",
   "execution_count": null,
   "id": "52c31dea",
   "metadata": {
    "id": "52c31dea",
    "papermill": {
     "duration": null,
     "end_time": null,
     "exception": null,
     "start_time": null,
     "status": "pending"
    },
    "tags": []
   },
   "outputs": [],
   "source": [
    "# print(\"Weight of the node at skip connection\")\n",
    "# for name,param in gen3.named_parameters():\n",
    "#     if(name == \"skipNode.weight\"):\n",
    "#         print(param)\n",
    "#         sb.glue(\"Skip Connection Weight\",param.item())"
   ]
  },
  {
   "cell_type": "markdown",
   "id": "a40a3d30",
   "metadata": {
    "id": "a5bd74c3",
    "papermill": {
     "duration": null,
     "end_time": null,
     "exception": null,
     "start_time": null,
     "status": "pending"
    },
    "tags": []
   },
   "source": [
    "## skipGAN Model Analysis (TabNet Generator) "
   ]
  },
  {
   "cell_type": "markdown",
   "id": "60b85026",
   "metadata": {
    "id": "5744a8bf",
    "papermill": {
     "duration": null,
     "end_time": null,
     "exception": null,
     "start_time": null,
     "status": "pending"
    },
    "tags": []
   },
   "source": [
    "### Weight Analysis \n",
    "\n",
    "Study the weights of the skip connection layer\n",
    "\n",
    "Equation of the skip connection is \n",
    "\n",
    "$output = y_{gan} * w + y_{abc} * (1-w)$"
   ]
  },
  {
   "cell_type": "code",
   "execution_count": null,
   "id": "880e6048",
   "metadata": {
    "id": "52c31dea",
    "papermill": {
     "duration": null,
     "end_time": null,
     "exception": null,
     "start_time": null,
     "status": "pending"
    },
    "tags": []
   },
   "outputs": [],
   "source": [
    "# print(\"Weight of the node at skip connection\")\n",
    "# for name,param in gen4.named_parameters():\n",
    "#     if(name == \"skipNode.weight\"):\n",
    "#         print(param)\n",
    "#         sb.glue(\"Skip Connection Weight\",param.item())"
   ]
  }
 ],
 "metadata": {
  "colab": {
   "collapsed_sections": [],
   "name": "ABC_GAN_Model-Catboost_Pre-gen.ipynb",
   "provenance": []
  },
  "interpreter": {
   "hash": "31f2aee4e71d21fbe5cf8b01ff0e069b9275f58929596ceb00d14d90e3e16cd6"
  },
  "kernelspec": {
   "display_name": "Python 3 (ipykernel)",
   "language": "python",
   "name": "python3"
  },
  "language_info": {
   "codemirror_mode": {
    "name": "ipython",
    "version": 3
   },
   "file_extension": ".py",
   "mimetype": "text/x-python",
   "name": "python",
   "nbconvert_exporter": "python",
   "pygments_lexer": "ipython3",
   "version": "3.8.13"
  },
  "papermill": {
   "default_parameters": {},
   "duration": 653.533674,
   "end_time": "2022-07-22T18:42:19.494867",
   "environment_variables": {},
   "exception": true,
   "input_path": "ABC_GAN-Catboost.ipynb",
   "output_path": "./ABC_GAN_Catboost/ABC-GAN_output_1_4.ipynb",
   "parameters": {
    "bias": 0.1,
    "variance": 0.1
   },
   "start_time": "2022-07-22T18:31:25.961193",
   "version": "2.3.3"
  }
 },
 "nbformat": 4,
 "nbformat_minor": 5
}