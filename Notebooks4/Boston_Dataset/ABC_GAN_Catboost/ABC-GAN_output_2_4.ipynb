{
 "cells": [
  {
   "cell_type": "markdown",
   "id": "1e3e029c",
   "metadata": {
    "tags": [
     "papermill-error-cell-tag"
    ]
   },
   "source": [
    "<span style=\"color:red; font-family:Helvetica Neue, Helvetica, Arial, sans-serif; font-size:2em;\">An Exception was encountered at '<a href=\"#papermill-error-cell\">In [20]</a>'.</span>"
   ]
  },
  {
   "cell_type": "markdown",
   "id": "622780e6",
   "metadata": {
    "id": "622780e6",
    "papermill": {
     "duration": 0.010259,
     "end_time": "2022-07-22T20:43:14.453937",
     "exception": false,
     "start_time": "2022-07-22T20:43:14.443678",
     "status": "completed"
    },
    "tags": []
   },
   "source": [
    "## Import Libraries "
   ]
  },
  {
   "cell_type": "code",
   "execution_count": 1,
   "id": "a62397e3",
   "metadata": {
    "execution": {
     "iopub.execute_input": "2022-07-22T20:43:14.477034Z",
     "iopub.status.busy": "2022-07-22T20:43:14.476405Z",
     "iopub.status.idle": "2022-07-22T20:43:14.525448Z",
     "shell.execute_reply": "2022-07-22T20:43:14.519487Z"
    },
    "id": "a62397e3",
    "papermill": {
     "duration": 0.06688,
     "end_time": "2022-07-22T20:43:14.529052",
     "exception": false,
     "start_time": "2022-07-22T20:43:14.462172",
     "status": "completed"
    },
    "tags": []
   },
   "outputs": [],
   "source": [
    "import warnings\n",
    "import sys\n",
    "sys.path.insert(0, '../../src')\n",
    "warnings.filterwarnings('ignore')"
   ]
  },
  {
   "cell_type": "code",
   "execution_count": 2,
   "id": "d6a4e155",
   "metadata": {
    "execution": {
     "iopub.execute_input": "2022-07-22T20:43:14.556303Z",
     "iopub.status.busy": "2022-07-22T20:43:14.552346Z",
     "iopub.status.idle": "2022-07-22T20:43:22.179627Z",
     "shell.execute_reply": "2022-07-22T20:43:22.178481Z"
    },
    "id": "d6a4e155",
    "papermill": {
     "duration": 7.646538,
     "end_time": "2022-07-22T20:43:22.183660",
     "exception": false,
     "start_time": "2022-07-22T20:43:14.537122",
     "status": "completed"
    },
    "tags": []
   },
   "outputs": [],
   "source": [
    "import ABC_train_test2\n",
    "import bostonDataset\n",
    "import network\n",
    "import dataset\n",
    "import sanityChecks\n",
    "import torch \n",
    "import scrapbook as sb\n",
    "from statistics import mean \n",
    "import catboost as ctb \n",
    "from sklearn.model_selection import train_test_split\n",
    "from sklearn.metrics import mean_squared_error,mean_absolute_error\n",
    "import numpy as np"
   ]
  },
  {
   "cell_type": "markdown",
   "id": "2fa5b0f7",
   "metadata": {
    "id": "2fa5b0f7",
    "papermill": {
     "duration": 0.008493,
     "end_time": "2022-07-22T20:43:22.199621",
     "exception": false,
     "start_time": "2022-07-22T20:43:22.191128",
     "status": "completed"
    },
    "tags": []
   },
   "source": [
    "## Parameters "
   ]
  },
  {
   "cell_type": "code",
   "execution_count": 3,
   "id": "783186fb",
   "metadata": {
    "execution": {
     "iopub.execute_input": "2022-07-22T20:43:22.235551Z",
     "iopub.status.busy": "2022-07-22T20:43:22.235044Z",
     "iopub.status.idle": "2022-07-22T20:43:22.239473Z",
     "shell.execute_reply": "2022-07-22T20:43:22.238710Z"
    },
    "id": "783186fb",
    "papermill": {
     "duration": 0.046197,
     "end_time": "2022-07-22T20:43:22.253038",
     "exception": false,
     "start_time": "2022-07-22T20:43:22.206841",
     "status": "completed"
    },
    "tags": [
     "parameters"
    ]
   },
   "outputs": [],
   "source": [
    "variance = 1\n",
    "bias = 1 "
   ]
  },
  {
   "cell_type": "code",
   "execution_count": 4,
   "id": "21b10442",
   "metadata": {
    "execution": {
     "iopub.execute_input": "2022-07-22T20:43:22.272243Z",
     "iopub.status.busy": "2022-07-22T20:43:22.271468Z",
     "iopub.status.idle": "2022-07-22T20:43:22.276175Z",
     "shell.execute_reply": "2022-07-22T20:43:22.275265Z"
    },
    "papermill": {
     "duration": 0.023537,
     "end_time": "2022-07-22T20:43:22.284697",
     "exception": false,
     "start_time": "2022-07-22T20:43:22.261160",
     "status": "completed"
    },
    "tags": [
     "injected-parameters"
    ]
   },
   "outputs": [],
   "source": [
    "# Parameters\n",
    "variance = 0.1\n",
    "bias = 0.1\n"
   ]
  },
  {
   "cell_type": "markdown",
   "id": "391cdbfd",
   "metadata": {
    "id": "391cdbfd",
    "papermill": {
     "duration": 0.019239,
     "end_time": "2022-07-22T20:43:22.311488",
     "exception": false,
     "start_time": "2022-07-22T20:43:22.292249",
     "status": "completed"
    },
    "tags": []
   },
   "source": [
    "## Dataset \n"
   ]
  },
  {
   "cell_type": "code",
   "execution_count": 5,
   "id": "5b51f161",
   "metadata": {
    "execution": {
     "iopub.execute_input": "2022-07-22T20:43:22.351544Z",
     "iopub.status.busy": "2022-07-22T20:43:22.351107Z",
     "iopub.status.idle": "2022-07-22T20:43:22.357497Z",
     "shell.execute_reply": "2022-07-22T20:43:22.356481Z"
    },
    "id": "5b51f161",
    "papermill": {
     "duration": 0.042727,
     "end_time": "2022-07-22T20:43:22.379593",
     "exception": false,
     "start_time": "2022-07-22T20:43:22.336866",
     "status": "completed"
    },
    "tags": []
   },
   "outputs": [],
   "source": [
    "#Parameters \n",
    "n_features = 13\n",
    "n_samples= 506\n",
    "n_target = 1 "
   ]
  },
  {
   "cell_type": "code",
   "execution_count": 6,
   "id": "5d6eced4",
   "metadata": {
    "execution": {
     "iopub.execute_input": "2022-07-22T20:43:22.396682Z",
     "iopub.status.busy": "2022-07-22T20:43:22.396319Z",
     "iopub.status.idle": "2022-07-22T20:43:22.443899Z",
     "shell.execute_reply": "2022-07-22T20:43:22.442092Z"
    },
    "id": "5d6eced4",
    "papermill": {
     "duration": 0.078166,
     "end_time": "2022-07-22T20:43:22.465404",
     "exception": false,
     "start_time": "2022-07-22T20:43:22.387238",
     "status": "completed"
    },
    "tags": []
   },
   "outputs": [
    {
     "name": "stdout",
     "output_type": "stream",
     "text": [
      "         X1        X2        X3        X4        X5        X6        X7  \\\n",
      "0 -0.419782  0.284830 -1.287909 -0.272599 -0.144217  0.413672 -0.120013   \n",
      "1 -0.417339 -0.487722 -0.593381 -0.272599 -0.740262  0.194274  0.367166   \n",
      "2 -0.417342 -0.487722 -0.593381 -0.272599 -0.740262  1.282714 -0.265812   \n",
      "3 -0.416750 -0.487722 -1.306878 -0.272599 -0.835284  1.016303 -0.809889   \n",
      "4 -0.412482 -0.487722 -1.306878 -0.272599 -0.835284  1.228577 -0.511180   \n",
      "\n",
      "         X8        X9       X10       X11       X12       X13         Y  \n",
      "0  0.140214 -0.982843 -0.666608 -1.459000  0.441052 -1.075562  0.159686  \n",
      "1  0.557160 -0.867883 -0.987329 -0.303094  0.441052 -0.492439 -0.101524  \n",
      "2  0.557160 -0.867883 -0.987329 -0.303094  0.396427 -1.208727  1.324247  \n",
      "3  1.077737 -0.752922 -1.106115  0.113032  0.416163 -1.361517  1.182758  \n",
      "4  1.077737 -0.752922 -1.106115  0.113032  0.441052 -1.026501  1.487503  \n"
     ]
    }
   ],
   "source": [
    "X,Y = bostonDataset.boston_data()"
   ]
  },
  {
   "cell_type": "code",
   "execution_count": 7,
   "id": "fe007438",
   "metadata": {
    "execution": {
     "iopub.execute_input": "2022-07-22T20:43:22.499088Z",
     "iopub.status.busy": "2022-07-22T20:43:22.494323Z",
     "iopub.status.idle": "2022-07-22T20:43:22.511342Z",
     "shell.execute_reply": "2022-07-22T20:43:22.505503Z"
    },
    "id": "fe007438",
    "papermill": {
     "duration": 0.059344,
     "end_time": "2022-07-22T20:43:22.538985",
     "exception": false,
     "start_time": "2022-07-22T20:43:22.479641",
     "status": "completed"
    },
    "tags": []
   },
   "outputs": [],
   "source": [
    "#Train test split for dataset \n",
    "X_train,X_test,Y_train,Y_test = train_test_split(X,Y,test_size = 0.2)\n",
    "train_data = dataset.CustomDataset(X_train,Y_train)\n",
    "test_data = dataset.CustomDataset(X_test,Y_test)\n"
   ]
  },
  {
   "cell_type": "markdown",
   "id": "a9a1af34",
   "metadata": {
    "id": "a9a1af34",
    "papermill": {
     "duration": 0.009069,
     "end_time": "2022-07-22T20:43:22.555870",
     "exception": false,
     "start_time": "2022-07-22T20:43:22.546801",
     "status": "completed"
    },
    "tags": []
   },
   "source": [
    "## Training Parameters "
   ]
  },
  {
   "cell_type": "code",
   "execution_count": 8,
   "id": "952b7fc8",
   "metadata": {
    "execution": {
     "iopub.execute_input": "2022-07-22T20:43:22.575849Z",
     "iopub.status.busy": "2022-07-22T20:43:22.575226Z",
     "iopub.status.idle": "2022-07-22T20:43:22.581522Z",
     "shell.execute_reply": "2022-07-22T20:43:22.580590Z"
    },
    "id": "952b7fc8",
    "papermill": {
     "duration": 0.026723,
     "end_time": "2022-07-22T20:43:22.592833",
     "exception": false,
     "start_time": "2022-07-22T20:43:22.566110",
     "status": "completed"
    },
    "tags": []
   },
   "outputs": [],
   "source": [
    "batch_size = 32\n",
    "n_epochs = 1000\n",
    "#Select the device \n",
    "device = torch.device('cuda' if torch.cuda.is_available() else 'cpu')"
   ]
  },
  {
   "cell_type": "markdown",
   "id": "a95e1600",
   "metadata": {
    "id": "a95e1600",
    "papermill": {
     "duration": 0.063069,
     "end_time": "2022-07-22T20:43:22.665180",
     "exception": false,
     "start_time": "2022-07-22T20:43:22.602111",
     "status": "completed"
    },
    "tags": []
   },
   "source": [
    "# ABC Pre-generator Model \n",
    "\n",
    "1. The catboost model is used as a pre-generator model for the ABC-GAN. \n",
    "2. The model is first trained on the entire dataset \n",
    "3. It generats X,Y pairs and we add some Gaussian noise with mean 0 and variance 1 to it which is then feed as input to the generator.\n"
   ]
  },
  {
   "cell_type": "code",
   "execution_count": 9,
   "id": "ff8ce7bd",
   "metadata": {
    "execution": {
     "iopub.execute_input": "2022-07-22T20:43:22.685416Z",
     "iopub.status.busy": "2022-07-22T20:43:22.684957Z",
     "iopub.status.idle": "2022-07-22T20:43:26.813862Z",
     "shell.execute_reply": "2022-07-22T20:43:26.810873Z"
    },
    "id": "ff8ce7bd",
    "papermill": {
     "duration": 4.141258,
     "end_time": "2022-07-22T20:43:26.816872",
     "exception": false,
     "start_time": "2022-07-22T20:43:22.675614",
     "status": "completed"
    },
    "tags": []
   },
   "outputs": [
    {
     "name": "stdout",
     "output_type": "stream",
     "text": [
      "Learning rate set to 0.03548\n",
      "0:\tlearn: 0.9895447\ttotal: 65.1ms\tremaining: 1m 5s\n",
      "1:\tlearn: 0.9688607\ttotal: 68.2ms\tremaining: 34s\n",
      "2:\tlearn: 0.9484890\ttotal: 70.8ms\tremaining: 23.5s\n",
      "3:\tlearn: 0.9313591\ttotal: 73.9ms\tremaining: 18.4s\n",
      "4:\tlearn: 0.9142214\ttotal: 76.4ms\tremaining: 15.2s\n",
      "5:\tlearn: 0.8963606\ttotal: 78.6ms\tremaining: 13s\n",
      "6:\tlearn: 0.8797970\ttotal: 81.1ms\tremaining: 11.5s\n",
      "7:\tlearn: 0.8630265\ttotal: 83.4ms\tremaining: 10.3s\n",
      "8:\tlearn: 0.8481864\ttotal: 85.2ms\tremaining: 9.38s\n",
      "9:\tlearn: 0.8302527\ttotal: 87.7ms\tremaining: 8.68s\n",
      "10:\tlearn: 0.8154784\ttotal: 90ms\tremaining: 8.09s\n",
      "11:\tlearn: 0.7996423\ttotal: 92.8ms\tremaining: 7.64s\n",
      "12:\tlearn: 0.7834828\ttotal: 96.7ms\tremaining: 7.34s\n",
      "13:\tlearn: 0.7689227\ttotal: 102ms\tremaining: 7.21s\n",
      "14:\tlearn: 0.7546959\ttotal: 111ms\tremaining: 7.3s\n",
      "15:\tlearn: 0.7406424\ttotal: 115ms\tremaining: 7.08s\n",
      "16:\tlearn: 0.7248864\ttotal: 118ms\tremaining: 6.81s\n",
      "17:\tlearn: 0.7128576\ttotal: 121ms\tremaining: 6.6s\n",
      "18:\tlearn: 0.6997679\ttotal: 127ms\tremaining: 6.53s\n",
      "19:\tlearn: 0.6869526\ttotal: 130ms\tremaining: 6.37s\n",
      "20:\tlearn: 0.6731640\ttotal: 133ms\tremaining: 6.18s\n",
      "21:\tlearn: 0.6621680\ttotal: 135ms\tremaining: 6.02s\n",
      "22:\tlearn: 0.6512700\ttotal: 138ms\tremaining: 5.86s\n",
      "23:\tlearn: 0.6419869\ttotal: 140ms\tremaining: 5.71s\n",
      "24:\tlearn: 0.6315439\ttotal: 143ms\tremaining: 5.59s\n",
      "25:\tlearn: 0.6228320\ttotal: 147ms\tremaining: 5.49s\n",
      "26:\tlearn: 0.6141978\ttotal: 149ms\tremaining: 5.38s\n",
      "27:\tlearn: 0.6056001\ttotal: 152ms\tremaining: 5.29s\n",
      "28:\tlearn: 0.5964204\ttotal: 155ms\tremaining: 5.2s\n",
      "29:\tlearn: 0.5860352\ttotal: 158ms\tremaining: 5.11s\n",
      "30:\tlearn: 0.5754963\ttotal: 160ms\tremaining: 5.01s\n",
      "31:\tlearn: 0.5663649\ttotal: 164ms\tremaining: 4.95s\n",
      "32:\tlearn: 0.5591767\ttotal: 165ms\tremaining: 4.84s\n",
      "33:\tlearn: 0.5515728\ttotal: 168ms\tremaining: 4.77s\n",
      "34:\tlearn: 0.5458845\ttotal: 170ms\tremaining: 4.69s\n",
      "35:\tlearn: 0.5387075\ttotal: 173ms\tremaining: 4.62s\n"
     ]
    },
    {
     "name": "stdout",
     "output_type": "stream",
     "text": [
      "36:\tlearn: 0.5322709\ttotal: 175ms\tremaining: 4.57s\n",
      "37:\tlearn: 0.5247448\ttotal: 178ms\tremaining: 4.51s\n",
      "38:\tlearn: 0.5176056\ttotal: 180ms\tremaining: 4.44s\n",
      "39:\tlearn: 0.5099598\ttotal: 183ms\tremaining: 4.39s\n",
      "40:\tlearn: 0.5043000\ttotal: 187ms\tremaining: 4.37s\n",
      "41:\tlearn: 0.4981142\ttotal: 189ms\tremaining: 4.32s\n",
      "42:\tlearn: 0.4929783\ttotal: 194ms\tremaining: 4.31s\n",
      "43:\tlearn: 0.4878053\ttotal: 196ms\tremaining: 4.27s\n",
      "44:\tlearn: 0.4824266\ttotal: 199ms\tremaining: 4.23s\n",
      "45:\tlearn: 0.4761897\ttotal: 201ms\tremaining: 4.18s\n",
      "46:\tlearn: 0.4708249\ttotal: 204ms\tremaining: 4.13s\n",
      "47:\tlearn: 0.4648045\ttotal: 206ms\tremaining: 4.09s\n",
      "48:\tlearn: 0.4609414\ttotal: 209ms\tremaining: 4.05s\n",
      "49:\tlearn: 0.4564791\ttotal: 211ms\tremaining: 4.01s\n",
      "50:\tlearn: 0.4508372\ttotal: 214ms\tremaining: 3.98s\n",
      "51:\tlearn: 0.4464692\ttotal: 216ms\tremaining: 3.94s\n",
      "52:\tlearn: 0.4417122\ttotal: 219ms\tremaining: 3.91s\n",
      "53:\tlearn: 0.4370569\ttotal: 243ms\tremaining: 4.26s\n",
      "54:\tlearn: 0.4330404\ttotal: 246ms\tremaining: 4.23s\n",
      "55:\tlearn: 0.4282327\ttotal: 249ms\tremaining: 4.19s\n",
      "56:\tlearn: 0.4246560\ttotal: 251ms\tremaining: 4.15s\n",
      "57:\tlearn: 0.4197896\ttotal: 254ms\tremaining: 4.12s\n",
      "58:\tlearn: 0.4161094\ttotal: 257ms\tremaining: 4.09s\n",
      "59:\tlearn: 0.4117936\ttotal: 259ms\tremaining: 4.06s\n",
      "60:\tlearn: 0.4081996\ttotal: 262ms\tremaining: 4.03s\n",
      "61:\tlearn: 0.4046284\ttotal: 264ms\tremaining: 4s\n",
      "62:\tlearn: 0.4006747\ttotal: 267ms\tremaining: 3.97s\n",
      "63:\tlearn: 0.3974831\ttotal: 269ms\tremaining: 3.94s\n",
      "64:\tlearn: 0.3942669\ttotal: 272ms\tremaining: 3.91s\n",
      "65:\tlearn: 0.3909622\ttotal: 275ms\tremaining: 3.89s\n",
      "66:\tlearn: 0.3875738\ttotal: 282ms\tremaining: 3.93s\n",
      "67:\tlearn: 0.3844674\ttotal: 285ms\tremaining: 3.9s\n",
      "68:\tlearn: 0.3813553\ttotal: 288ms\tremaining: 3.88s\n",
      "69:\tlearn: 0.3784109\ttotal: 293ms\tremaining: 3.9s\n",
      "70:\tlearn: 0.3756339\ttotal: 295ms\tremaining: 3.86s\n",
      "71:\tlearn: 0.3726179\ttotal: 297ms\tremaining: 3.83s\n",
      "72:\tlearn: 0.3703648\ttotal: 300ms\tremaining: 3.81s\n",
      "73:\tlearn: 0.3676149\ttotal: 302ms\tremaining: 3.78s\n",
      "74:\tlearn: 0.3650092\ttotal: 304ms\tremaining: 3.75s\n",
      "75:\tlearn: 0.3626276\ttotal: 307ms\tremaining: 3.73s\n",
      "76:\tlearn: 0.3595948\ttotal: 310ms\tremaining: 3.71s\n",
      "77:\tlearn: 0.3565090\ttotal: 312ms\tremaining: 3.68s\n",
      "78:\tlearn: 0.3546463\ttotal: 314ms\tremaining: 3.67s\n",
      "79:\tlearn: 0.3524481\ttotal: 317ms\tremaining: 3.65s\n",
      "80:\tlearn: 0.3504451\ttotal: 322ms\tremaining: 3.66s\n",
      "81:\tlearn: 0.3472836\ttotal: 352ms\tremaining: 3.94s\n",
      "82:\tlearn: 0.3452730\ttotal: 355ms\tremaining: 3.92s\n",
      "83:\tlearn: 0.3431486\ttotal: 357ms\tremaining: 3.89s\n"
     ]
    },
    {
     "name": "stdout",
     "output_type": "stream",
     "text": [
      "84:\tlearn: 0.3409002\ttotal: 362ms\tremaining: 3.89s\n",
      "85:\tlearn: 0.3389709\ttotal: 368ms\tremaining: 3.91s\n",
      "86:\tlearn: 0.3365480\ttotal: 374ms\tremaining: 3.92s\n",
      "87:\tlearn: 0.3342065\ttotal: 376ms\tremaining: 3.9s\n",
      "88:\tlearn: 0.3318326\ttotal: 389ms\tremaining: 3.98s\n",
      "89:\tlearn: 0.3296494\ttotal: 392ms\tremaining: 3.96s\n",
      "90:\tlearn: 0.3274879\ttotal: 394ms\tremaining: 3.94s\n",
      "91:\tlearn: 0.3252639\ttotal: 397ms\tremaining: 3.92s\n",
      "92:\tlearn: 0.3231567\ttotal: 401ms\tremaining: 3.91s\n",
      "93:\tlearn: 0.3219703\ttotal: 404ms\tremaining: 3.9s\n",
      "94:\tlearn: 0.3203370\ttotal: 411ms\tremaining: 3.91s\n",
      "95:\tlearn: 0.3191310\ttotal: 414ms\tremaining: 3.9s\n",
      "96:\tlearn: 0.3177581\ttotal: 416ms\tremaining: 3.87s\n",
      "97:\tlearn: 0.3161006\ttotal: 419ms\tremaining: 3.85s\n",
      "98:\tlearn: 0.3142983\ttotal: 421ms\tremaining: 3.83s\n",
      "99:\tlearn: 0.3122909\ttotal: 423ms\tremaining: 3.81s\n",
      "100:\tlearn: 0.3106709\ttotal: 426ms\tremaining: 3.79s\n",
      "101:\tlearn: 0.3090281\ttotal: 429ms\tremaining: 3.77s\n",
      "102:\tlearn: 0.3075539\ttotal: 431ms\tremaining: 3.75s\n",
      "103:\tlearn: 0.3063766\ttotal: 445ms\tremaining: 3.83s\n",
      "104:\tlearn: 0.3054022\ttotal: 450ms\tremaining: 3.84s\n",
      "105:\tlearn: 0.3038672\ttotal: 453ms\tremaining: 3.82s\n",
      "106:\tlearn: 0.3022756\ttotal: 455ms\tremaining: 3.8s\n",
      "107:\tlearn: 0.3005662\ttotal: 458ms\tremaining: 3.78s\n",
      "108:\tlearn: 0.2991441\ttotal: 461ms\tremaining: 3.77s\n",
      "109:\tlearn: 0.2976808\ttotal: 463ms\tremaining: 3.75s\n",
      "110:\tlearn: 0.2963578\ttotal: 466ms\tremaining: 3.73s\n",
      "111:\tlearn: 0.2949434\ttotal: 468ms\tremaining: 3.71s\n",
      "112:\tlearn: 0.2932453\ttotal: 470ms\tremaining: 3.69s\n",
      "113:\tlearn: 0.2920831\ttotal: 473ms\tremaining: 3.67s\n",
      "114:\tlearn: 0.2906481\ttotal: 475ms\tremaining: 3.66s\n",
      "115:\tlearn: 0.2896042\ttotal: 478ms\tremaining: 3.64s\n",
      "116:\tlearn: 0.2883654\ttotal: 480ms\tremaining: 3.62s\n",
      "117:\tlearn: 0.2872140\ttotal: 487ms\tremaining: 3.64s\n",
      "118:\tlearn: 0.2860659\ttotal: 489ms\tremaining: 3.62s\n",
      "119:\tlearn: 0.2853312\ttotal: 492ms\tremaining: 3.61s\n",
      "120:\tlearn: 0.2839344\ttotal: 495ms\tremaining: 3.59s\n",
      "121:\tlearn: 0.2829272\ttotal: 497ms\tremaining: 3.58s\n",
      "122:\tlearn: 0.2820381\ttotal: 499ms\tremaining: 3.56s\n"
     ]
    },
    {
     "name": "stdout",
     "output_type": "stream",
     "text": [
      "123:\tlearn: 0.2808575\ttotal: 512ms\tremaining: 3.62s\n",
      "124:\tlearn: 0.2798105\ttotal: 516ms\tremaining: 3.61s\n",
      "125:\tlearn: 0.2785698\ttotal: 518ms\tremaining: 3.6s\n",
      "126:\tlearn: 0.2774468\ttotal: 521ms\tremaining: 3.58s\n",
      "127:\tlearn: 0.2763781\ttotal: 524ms\tremaining: 3.57s\n",
      "128:\tlearn: 0.2751091\ttotal: 528ms\tremaining: 3.56s\n",
      "129:\tlearn: 0.2738889\ttotal: 531ms\tremaining: 3.55s\n",
      "130:\tlearn: 0.2727678\ttotal: 533ms\tremaining: 3.54s\n",
      "131:\tlearn: 0.2716968\ttotal: 536ms\tremaining: 3.52s\n",
      "132:\tlearn: 0.2706488\ttotal: 540ms\tremaining: 3.52s\n",
      "133:\tlearn: 0.2699419\ttotal: 542ms\tremaining: 3.5s\n",
      "134:\tlearn: 0.2691634\ttotal: 545ms\tremaining: 3.49s\n",
      "135:\tlearn: 0.2683927\ttotal: 547ms\tremaining: 3.48s\n",
      "136:\tlearn: 0.2675379\ttotal: 550ms\tremaining: 3.46s\n",
      "137:\tlearn: 0.2661007\ttotal: 553ms\tremaining: 3.45s\n",
      "138:\tlearn: 0.2647624\ttotal: 561ms\tremaining: 3.47s\n",
      "139:\tlearn: 0.2637107\ttotal: 567ms\tremaining: 3.48s\n",
      "140:\tlearn: 0.2626109\ttotal: 571ms\tremaining: 3.48s\n",
      "141:\tlearn: 0.2615815\ttotal: 576ms\tremaining: 3.48s\n",
      "142:\tlearn: 0.2607138\ttotal: 578ms\tremaining: 3.47s\n",
      "143:\tlearn: 0.2598815\ttotal: 581ms\tremaining: 3.46s\n",
      "144:\tlearn: 0.2590380\ttotal: 584ms\tremaining: 3.44s\n",
      "145:\tlearn: 0.2580789\ttotal: 588ms\tremaining: 3.44s\n",
      "146:\tlearn: 0.2569462\ttotal: 590ms\tremaining: 3.42s\n",
      "147:\tlearn: 0.2559288\ttotal: 592ms\tremaining: 3.41s\n",
      "148:\tlearn: 0.2552408\ttotal: 604ms\tremaining: 3.45s\n",
      "149:\tlearn: 0.2544743\ttotal: 608ms\tremaining: 3.44s\n",
      "150:\tlearn: 0.2535127\ttotal: 616ms\tremaining: 3.46s\n",
      "151:\tlearn: 0.2526883\ttotal: 619ms\tremaining: 3.45s\n",
      "152:\tlearn: 0.2519102\ttotal: 622ms\tremaining: 3.44s\n",
      "153:\tlearn: 0.2514514\ttotal: 624ms\tremaining: 3.43s\n",
      "154:\tlearn: 0.2509588\ttotal: 627ms\tremaining: 3.42s\n",
      "155:\tlearn: 0.2501767\ttotal: 629ms\tremaining: 3.4s\n",
      "156:\tlearn: 0.2493451\ttotal: 632ms\tremaining: 3.39s\n",
      "157:\tlearn: 0.2482296\ttotal: 635ms\tremaining: 3.38s\n"
     ]
    },
    {
     "name": "stdout",
     "output_type": "stream",
     "text": [
      "158:\tlearn: 0.2472900\ttotal: 638ms\tremaining: 3.38s\n",
      "159:\tlearn: 0.2464983\ttotal: 641ms\tremaining: 3.36s\n",
      "160:\tlearn: 0.2457752\ttotal: 644ms\tremaining: 3.36s\n",
      "161:\tlearn: 0.2451610\ttotal: 647ms\tremaining: 3.35s\n",
      "162:\tlearn: 0.2443228\ttotal: 649ms\tremaining: 3.33s\n",
      "163:\tlearn: 0.2435368\ttotal: 652ms\tremaining: 3.32s\n",
      "164:\tlearn: 0.2429723\ttotal: 655ms\tremaining: 3.31s\n",
      "165:\tlearn: 0.2422564\ttotal: 657ms\tremaining: 3.3s\n",
      "166:\tlearn: 0.2415437\ttotal: 662ms\tremaining: 3.3s\n",
      "167:\tlearn: 0.2407198\ttotal: 664ms\tremaining: 3.29s\n",
      "168:\tlearn: 0.2401025\ttotal: 670ms\tremaining: 3.29s\n",
      "169:\tlearn: 0.2391604\ttotal: 672ms\tremaining: 3.28s\n",
      "170:\tlearn: 0.2385616\ttotal: 675ms\tremaining: 3.27s\n",
      "171:\tlearn: 0.2377064\ttotal: 678ms\tremaining: 3.26s\n",
      "172:\tlearn: 0.2369788\ttotal: 681ms\tremaining: 3.25s\n",
      "173:\tlearn: 0.2360749\ttotal: 683ms\tremaining: 3.24s\n",
      "174:\tlearn: 0.2354161\ttotal: 685ms\tremaining: 3.23s\n",
      "175:\tlearn: 0.2349384\ttotal: 688ms\tremaining: 3.22s\n",
      "176:\tlearn: 0.2340753\ttotal: 691ms\tremaining: 3.21s\n",
      "177:\tlearn: 0.2335382\ttotal: 731ms\tremaining: 3.37s\n",
      "178:\tlearn: 0.2330340\ttotal: 733ms\tremaining: 3.36s\n",
      "179:\tlearn: 0.2324139\ttotal: 736ms\tremaining: 3.35s\n",
      "180:\tlearn: 0.2316136\ttotal: 739ms\tremaining: 3.35s\n",
      "181:\tlearn: 0.2306863\ttotal: 742ms\tremaining: 3.33s\n",
      "182:\tlearn: 0.2301305\ttotal: 744ms\tremaining: 3.32s\n",
      "183:\tlearn: 0.2295491\ttotal: 747ms\tremaining: 3.31s\n",
      "184:\tlearn: 0.2287601\ttotal: 755ms\tremaining: 3.33s\n",
      "185:\tlearn: 0.2284651\ttotal: 757ms\tremaining: 3.31s\n",
      "186:\tlearn: 0.2274221\ttotal: 763ms\tremaining: 3.32s\n"
     ]
    },
    {
     "name": "stdout",
     "output_type": "stream",
     "text": [
      "187:\tlearn: 0.2267927\ttotal: 768ms\tremaining: 3.32s\n",
      "188:\tlearn: 0.2259837\ttotal: 771ms\tremaining: 3.31s\n",
      "189:\tlearn: 0.2253170\ttotal: 773ms\tremaining: 3.29s\n",
      "190:\tlearn: 0.2246578\ttotal: 775ms\tremaining: 3.28s\n",
      "191:\tlearn: 0.2239995\ttotal: 778ms\tremaining: 3.27s\n",
      "192:\tlearn: 0.2232810\ttotal: 780ms\tremaining: 3.26s\n",
      "193:\tlearn: 0.2224450\ttotal: 782ms\tremaining: 3.25s\n",
      "194:\tlearn: 0.2220745\ttotal: 785ms\tremaining: 3.24s\n",
      "195:\tlearn: 0.2213064\ttotal: 787ms\tremaining: 3.23s\n",
      "196:\tlearn: 0.2207775\ttotal: 790ms\tremaining: 3.22s\n",
      "197:\tlearn: 0.2200891\ttotal: 793ms\tremaining: 3.21s\n",
      "198:\tlearn: 0.2197427\ttotal: 798ms\tremaining: 3.21s\n",
      "199:\tlearn: 0.2191844\ttotal: 803ms\tremaining: 3.21s\n",
      "200:\tlearn: 0.2185250\ttotal: 805ms\tremaining: 3.2s\n",
      "201:\tlearn: 0.2178998\ttotal: 808ms\tremaining: 3.19s\n",
      "202:\tlearn: 0.2173498\ttotal: 810ms\tremaining: 3.18s\n",
      "203:\tlearn: 0.2165635\ttotal: 813ms\tremaining: 3.17s\n",
      "204:\tlearn: 0.2158138\ttotal: 816ms\tremaining: 3.16s\n",
      "205:\tlearn: 0.2154070\ttotal: 819ms\tremaining: 3.15s\n",
      "206:\tlearn: 0.2147219\ttotal: 821ms\tremaining: 3.14s\n",
      "207:\tlearn: 0.2142249\ttotal: 823ms\tremaining: 3.13s\n",
      "208:\tlearn: 0.2137420\ttotal: 826ms\tremaining: 3.13s\n",
      "209:\tlearn: 0.2135041\ttotal: 835ms\tremaining: 3.14s\n",
      "210:\tlearn: 0.2129459\ttotal: 838ms\tremaining: 3.13s\n",
      "211:\tlearn: 0.2123103\ttotal: 840ms\tremaining: 3.12s\n",
      "212:\tlearn: 0.2117330\ttotal: 843ms\tremaining: 3.11s\n",
      "213:\tlearn: 0.2111525\ttotal: 844ms\tremaining: 3.1s\n",
      "214:\tlearn: 0.2104026\ttotal: 847ms\tremaining: 3.09s\n",
      "215:\tlearn: 0.2097419\ttotal: 849ms\tremaining: 3.08s\n",
      "216:\tlearn: 0.2089337\ttotal: 851ms\tremaining: 3.07s\n",
      "217:\tlearn: 0.2084239\ttotal: 854ms\tremaining: 3.06s\n",
      "218:\tlearn: 0.2078829\ttotal: 856ms\tremaining: 3.05s\n",
      "219:\tlearn: 0.2072649\ttotal: 859ms\tremaining: 3.04s\n",
      "220:\tlearn: 0.2068338\ttotal: 862ms\tremaining: 3.04s\n",
      "221:\tlearn: 0.2061601\ttotal: 864ms\tremaining: 3.03s\n",
      "222:\tlearn: 0.2058557\ttotal: 866ms\tremaining: 3.02s\n",
      "223:\tlearn: 0.2054116\ttotal: 881ms\tremaining: 3.05s\n",
      "224:\tlearn: 0.2048625\ttotal: 884ms\tremaining: 3.04s\n",
      "225:\tlearn: 0.2041629\ttotal: 886ms\tremaining: 3.03s\n",
      "226:\tlearn: 0.2036243\ttotal: 888ms\tremaining: 3.02s\n",
      "227:\tlearn: 0.2034568\ttotal: 891ms\tremaining: 3.02s\n",
      "228:\tlearn: 0.2030305\ttotal: 893ms\tremaining: 3.01s\n",
      "229:\tlearn: 0.2024415\ttotal: 895ms\tremaining: 3s\n",
      "230:\tlearn: 0.2017514\ttotal: 897ms\tremaining: 2.99s\n",
      "231:\tlearn: 0.2010399\ttotal: 899ms\tremaining: 2.98s\n",
      "232:\tlearn: 0.2004670\ttotal: 901ms\tremaining: 2.97s\n",
      "233:\tlearn: 0.2002067\ttotal: 904ms\tremaining: 2.96s\n",
      "234:\tlearn: 0.1995231\ttotal: 906ms\tremaining: 2.95s\n",
      "235:\tlearn: 0.1988275\ttotal: 909ms\tremaining: 2.94s\n",
      "236:\tlearn: 0.1980387\ttotal: 911ms\tremaining: 2.93s\n",
      "237:\tlearn: 0.1975629\ttotal: 917ms\tremaining: 2.94s\n",
      "238:\tlearn: 0.1971110\ttotal: 927ms\tremaining: 2.95s\n"
     ]
    },
    {
     "name": "stdout",
     "output_type": "stream",
     "text": [
      "239:\tlearn: 0.1965673\ttotal: 940ms\tremaining: 2.98s\n",
      "240:\tlearn: 0.1959014\ttotal: 943ms\tremaining: 2.97s\n",
      "241:\tlearn: 0.1953558\ttotal: 945ms\tremaining: 2.96s\n",
      "242:\tlearn: 0.1948487\ttotal: 948ms\tremaining: 2.95s\n",
      "243:\tlearn: 0.1943384\ttotal: 950ms\tremaining: 2.94s\n",
      "244:\tlearn: 0.1939583\ttotal: 953ms\tremaining: 2.94s\n",
      "245:\tlearn: 0.1935767\ttotal: 956ms\tremaining: 2.93s\n",
      "246:\tlearn: 0.1928246\ttotal: 972ms\tremaining: 2.96s\n",
      "247:\tlearn: 0.1923584\ttotal: 975ms\tremaining: 2.96s\n",
      "248:\tlearn: 0.1920115\ttotal: 977ms\tremaining: 2.95s\n",
      "249:\tlearn: 0.1916017\ttotal: 980ms\tremaining: 2.94s\n",
      "250:\tlearn: 0.1910694\ttotal: 982ms\tremaining: 2.93s\n",
      "251:\tlearn: 0.1905484\ttotal: 984ms\tremaining: 2.92s\n",
      "252:\tlearn: 0.1900238\ttotal: 987ms\tremaining: 2.91s\n",
      "253:\tlearn: 0.1896428\ttotal: 989ms\tremaining: 2.9s\n",
      "254:\tlearn: 0.1895092\ttotal: 991ms\tremaining: 2.9s\n",
      "255:\tlearn: 0.1890981\ttotal: 999ms\tremaining: 2.9s\n",
      "256:\tlearn: 0.1887903\ttotal: 1s\tremaining: 2.9s\n",
      "257:\tlearn: 0.1881507\ttotal: 1s\tremaining: 2.89s\n",
      "258:\tlearn: 0.1877701\ttotal: 1.01s\tremaining: 2.88s\n",
      "259:\tlearn: 0.1871529\ttotal: 1.01s\tremaining: 2.87s\n",
      "260:\tlearn: 0.1867006\ttotal: 1.01s\tremaining: 2.86s\n",
      "261:\tlearn: 0.1861559\ttotal: 1.01s\tremaining: 2.86s\n",
      "262:\tlearn: 0.1859098\ttotal: 1.02s\tremaining: 2.85s\n",
      "263:\tlearn: 0.1851698\ttotal: 1.02s\tremaining: 2.84s\n",
      "264:\tlearn: 0.1843621\ttotal: 1.02s\tremaining: 2.83s\n",
      "265:\tlearn: 0.1839490\ttotal: 1.02s\tremaining: 2.83s\n",
      "266:\tlearn: 0.1835016\ttotal: 1.03s\tremaining: 2.82s\n",
      "267:\tlearn: 0.1828553\ttotal: 1.03s\tremaining: 2.81s\n",
      "268:\tlearn: 0.1824112\ttotal: 1.03s\tremaining: 2.81s\n",
      "269:\tlearn: 0.1819574\ttotal: 1.04s\tremaining: 2.81s\n",
      "270:\tlearn: 0.1815027\ttotal: 1.04s\tremaining: 2.8s\n",
      "271:\tlearn: 0.1808473\ttotal: 1.04s\tremaining: 2.79s\n"
     ]
    },
    {
     "name": "stdout",
     "output_type": "stream",
     "text": [
      "272:\tlearn: 0.1802847\ttotal: 1.05s\tremaining: 2.79s\n",
      "273:\tlearn: 0.1798641\ttotal: 1.05s\tremaining: 2.78s\n",
      "274:\tlearn: 0.1795010\ttotal: 1.05s\tremaining: 2.77s\n",
      "275:\tlearn: 0.1790786\ttotal: 1.05s\tremaining: 2.76s\n",
      "276:\tlearn: 0.1786699\ttotal: 1.05s\tremaining: 2.75s\n",
      "277:\tlearn: 0.1782743\ttotal: 1.06s\tremaining: 2.75s\n",
      "278:\tlearn: 0.1776839\ttotal: 1.06s\tremaining: 2.74s\n",
      "279:\tlearn: 0.1772272\ttotal: 1.06s\tremaining: 2.73s\n",
      "280:\tlearn: 0.1768270\ttotal: 1.06s\tremaining: 2.72s\n",
      "281:\tlearn: 0.1764163\ttotal: 1.07s\tremaining: 2.72s\n",
      "282:\tlearn: 0.1760095\ttotal: 1.07s\tremaining: 2.72s\n",
      "283:\tlearn: 0.1756978\ttotal: 1.08s\tremaining: 2.71s\n",
      "284:\tlearn: 0.1754930\ttotal: 1.08s\tremaining: 2.71s\n",
      "285:\tlearn: 0.1750227\ttotal: 1.08s\tremaining: 2.7s\n",
      "286:\tlearn: 0.1742872\ttotal: 1.08s\tremaining: 2.69s\n",
      "287:\tlearn: 0.1739582\ttotal: 1.09s\tremaining: 2.69s\n",
      "288:\tlearn: 0.1736237\ttotal: 1.09s\tremaining: 2.68s\n",
      "289:\tlearn: 0.1733205\ttotal: 1.09s\tremaining: 2.67s\n",
      "290:\tlearn: 0.1729031\ttotal: 1.09s\tremaining: 2.67s\n",
      "291:\tlearn: 0.1724991\ttotal: 1.1s\tremaining: 2.66s\n",
      "292:\tlearn: 0.1720059\ttotal: 1.1s\tremaining: 2.65s\n",
      "293:\tlearn: 0.1714530\ttotal: 1.11s\tremaining: 2.67s\n",
      "294:\tlearn: 0.1711629\ttotal: 1.12s\tremaining: 2.67s\n",
      "295:\tlearn: 0.1704969\ttotal: 1.12s\tremaining: 2.66s\n",
      "296:\tlearn: 0.1699374\ttotal: 1.12s\tremaining: 2.66s\n",
      "297:\tlearn: 0.1695934\ttotal: 1.12s\tremaining: 2.65s\n",
      "298:\tlearn: 0.1692060\ttotal: 1.13s\tremaining: 2.64s\n",
      "299:\tlearn: 0.1688848\ttotal: 1.13s\tremaining: 2.63s\n",
      "300:\tlearn: 0.1684727\ttotal: 1.13s\tremaining: 2.63s\n",
      "301:\tlearn: 0.1681141\ttotal: 1.13s\tremaining: 2.62s\n",
      "302:\tlearn: 0.1676641\ttotal: 1.14s\tremaining: 2.62s\n",
      "303:\tlearn: 0.1673960\ttotal: 1.14s\tremaining: 2.61s\n",
      "304:\tlearn: 0.1668193\ttotal: 1.14s\tremaining: 2.6s\n",
      "305:\tlearn: 0.1661957\ttotal: 1.15s\tremaining: 2.6s\n",
      "306:\tlearn: 0.1657863\ttotal: 1.15s\tremaining: 2.59s\n",
      "307:\tlearn: 0.1653765\ttotal: 1.15s\tremaining: 2.59s\n",
      "308:\tlearn: 0.1650096\ttotal: 1.15s\tremaining: 2.58s\n",
      "309:\tlearn: 0.1646077\ttotal: 1.16s\tremaining: 2.57s\n",
      "310:\tlearn: 0.1640470\ttotal: 1.16s\tremaining: 2.57s\n",
      "311:\tlearn: 0.1637725\ttotal: 1.16s\tremaining: 2.56s\n",
      "312:\tlearn: 0.1633096\ttotal: 1.17s\tremaining: 2.56s\n",
      "313:\tlearn: 0.1629651\ttotal: 1.17s\tremaining: 2.55s\n",
      "314:\tlearn: 0.1625317\ttotal: 1.17s\tremaining: 2.55s\n",
      "315:\tlearn: 0.1620986\ttotal: 1.17s\tremaining: 2.54s\n",
      "316:\tlearn: 0.1616708\ttotal: 1.18s\tremaining: 2.54s\n",
      "317:\tlearn: 0.1613689\ttotal: 1.18s\tremaining: 2.53s\n",
      "318:\tlearn: 0.1610717\ttotal: 1.19s\tremaining: 2.54s\n",
      "319:\tlearn: 0.1609167\ttotal: 1.19s\tremaining: 2.53s\n",
      "320:\tlearn: 0.1605893\ttotal: 1.19s\tremaining: 2.53s\n",
      "321:\tlearn: 0.1602641\ttotal: 1.2s\tremaining: 2.52s\n",
      "322:\tlearn: 0.1598680\ttotal: 1.2s\tremaining: 2.51s\n"
     ]
    },
    {
     "name": "stdout",
     "output_type": "stream",
     "text": [
      "323:\tlearn: 0.1595668\ttotal: 1.2s\tremaining: 2.51s\n",
      "324:\tlearn: 0.1592828\ttotal: 1.2s\tremaining: 2.5s\n",
      "325:\tlearn: 0.1589961\ttotal: 1.21s\tremaining: 2.5s\n",
      "326:\tlearn: 0.1584342\ttotal: 1.21s\tremaining: 2.49s\n",
      "327:\tlearn: 0.1581699\ttotal: 1.21s\tremaining: 2.49s\n",
      "328:\tlearn: 0.1578835\ttotal: 1.22s\tremaining: 2.48s\n",
      "329:\tlearn: 0.1576462\ttotal: 1.23s\tremaining: 2.49s\n",
      "330:\tlearn: 0.1573476\ttotal: 1.23s\tremaining: 2.49s\n",
      "331:\tlearn: 0.1568428\ttotal: 1.24s\tremaining: 2.49s\n",
      "332:\tlearn: 0.1562785\ttotal: 1.24s\tremaining: 2.48s\n",
      "333:\tlearn: 0.1559924\ttotal: 1.24s\tremaining: 2.47s\n",
      "334:\tlearn: 0.1556876\ttotal: 1.24s\tremaining: 2.47s\n",
      "335:\tlearn: 0.1553473\ttotal: 1.25s\tremaining: 2.46s\n",
      "336:\tlearn: 0.1550058\ttotal: 1.25s\tremaining: 2.46s\n",
      "337:\tlearn: 0.1548511\ttotal: 1.25s\tremaining: 2.45s\n",
      "338:\tlearn: 0.1544439\ttotal: 1.25s\tremaining: 2.44s\n",
      "339:\tlearn: 0.1540298\ttotal: 1.25s\tremaining: 2.44s\n",
      "340:\tlearn: 0.1538344\ttotal: 1.26s\tremaining: 2.43s\n",
      "341:\tlearn: 0.1536046\ttotal: 1.27s\tremaining: 2.44s\n",
      "342:\tlearn: 0.1532747\ttotal: 1.27s\tremaining: 2.44s\n",
      "343:\tlearn: 0.1528514\ttotal: 1.27s\tremaining: 2.43s\n",
      "344:\tlearn: 0.1526556\ttotal: 1.28s\tremaining: 2.42s\n",
      "345:\tlearn: 0.1521860\ttotal: 1.28s\tremaining: 2.42s\n",
      "346:\tlearn: 0.1518511\ttotal: 1.28s\tremaining: 2.41s\n",
      "347:\tlearn: 0.1514529\ttotal: 1.28s\tremaining: 2.41s\n",
      "348:\tlearn: 0.1511368\ttotal: 1.29s\tremaining: 2.4s\n",
      "349:\tlearn: 0.1509837\ttotal: 1.29s\tremaining: 2.4s\n",
      "350:\tlearn: 0.1508372\ttotal: 1.29s\tremaining: 2.39s\n",
      "351:\tlearn: 0.1504428\ttotal: 1.29s\tremaining: 2.38s\n",
      "352:\tlearn: 0.1500584\ttotal: 1.3s\tremaining: 2.38s\n",
      "353:\tlearn: 0.1497550\ttotal: 1.3s\tremaining: 2.37s\n",
      "354:\tlearn: 0.1494883\ttotal: 1.3s\tremaining: 2.37s\n",
      "355:\tlearn: 0.1492145\ttotal: 1.31s\tremaining: 2.37s\n",
      "356:\tlearn: 0.1489166\ttotal: 1.31s\tremaining: 2.36s\n",
      "357:\tlearn: 0.1486396\ttotal: 1.31s\tremaining: 2.35s\n",
      "358:\tlearn: 0.1483555\ttotal: 1.31s\tremaining: 2.35s\n",
      "359:\tlearn: 0.1480681\ttotal: 1.32s\tremaining: 2.34s\n",
      "360:\tlearn: 0.1477225\ttotal: 1.32s\tremaining: 2.34s\n",
      "361:\tlearn: 0.1474299\ttotal: 1.32s\tremaining: 2.33s\n",
      "362:\tlearn: 0.1471899\ttotal: 1.32s\tremaining: 2.32s\n",
      "363:\tlearn: 0.1469195\ttotal: 1.33s\tremaining: 2.32s\n",
      "364:\tlearn: 0.1466430\ttotal: 1.33s\tremaining: 2.31s\n",
      "365:\tlearn: 0.1463438\ttotal: 1.33s\tremaining: 2.3s\n",
      "366:\tlearn: 0.1460612\ttotal: 1.33s\tremaining: 2.3s\n",
      "367:\tlearn: 0.1457800\ttotal: 1.33s\tremaining: 2.29s\n",
      "368:\tlearn: 0.1456347\ttotal: 1.34s\tremaining: 2.29s\n",
      "369:\tlearn: 0.1452751\ttotal: 1.34s\tremaining: 2.28s\n",
      "370:\tlearn: 0.1448991\ttotal: 1.34s\tremaining: 2.27s\n",
      "371:\tlearn: 0.1446700\ttotal: 1.34s\tremaining: 2.27s\n",
      "372:\tlearn: 0.1443130\ttotal: 1.34s\tremaining: 2.26s\n",
      "373:\tlearn: 0.1441739\ttotal: 1.35s\tremaining: 2.26s\n",
      "374:\tlearn: 0.1438791\ttotal: 1.35s\tremaining: 2.25s\n",
      "375:\tlearn: 0.1435071\ttotal: 1.35s\tremaining: 2.25s\n",
      "376:\tlearn: 0.1433350\ttotal: 1.35s\tremaining: 2.24s\n",
      "377:\tlearn: 0.1432086\ttotal: 1.36s\tremaining: 2.23s\n",
      "378:\tlearn: 0.1430444\ttotal: 1.36s\tremaining: 2.23s\n",
      "379:\tlearn: 0.1425737\ttotal: 1.36s\tremaining: 2.22s\n",
      "380:\tlearn: 0.1422681\ttotal: 1.36s\tremaining: 2.22s\n",
      "381:\tlearn: 0.1420968\ttotal: 1.37s\tremaining: 2.21s\n",
      "382:\tlearn: 0.1418845\ttotal: 1.37s\tremaining: 2.21s\n",
      "383:\tlearn: 0.1416801\ttotal: 1.37s\tremaining: 2.2s\n"
     ]
    },
    {
     "name": "stdout",
     "output_type": "stream",
     "text": [
      "384:\tlearn: 0.1412228\ttotal: 1.38s\tremaining: 2.2s\n",
      "385:\tlearn: 0.1410070\ttotal: 1.38s\tremaining: 2.19s\n",
      "386:\tlearn: 0.1407022\ttotal: 1.38s\tremaining: 2.19s\n",
      "387:\tlearn: 0.1406281\ttotal: 1.39s\tremaining: 2.18s\n",
      "388:\tlearn: 0.1403741\ttotal: 1.39s\tremaining: 2.18s\n",
      "389:\tlearn: 0.1401805\ttotal: 1.39s\tremaining: 2.17s\n",
      "390:\tlearn: 0.1399991\ttotal: 1.4s\tremaining: 2.18s\n",
      "391:\tlearn: 0.1396667\ttotal: 1.4s\tremaining: 2.17s\n",
      "392:\tlearn: 0.1393258\ttotal: 1.4s\tremaining: 2.17s\n",
      "393:\tlearn: 0.1390044\ttotal: 1.41s\tremaining: 2.16s\n",
      "394:\tlearn: 0.1387838\ttotal: 1.41s\tremaining: 2.16s\n",
      "395:\tlearn: 0.1385910\ttotal: 1.41s\tremaining: 2.15s\n",
      "396:\tlearn: 0.1382032\ttotal: 1.41s\tremaining: 2.15s\n",
      "397:\tlearn: 0.1379235\ttotal: 1.42s\tremaining: 2.14s\n",
      "398:\tlearn: 0.1378341\ttotal: 1.42s\tremaining: 2.13s\n",
      "399:\tlearn: 0.1375219\ttotal: 1.42s\tremaining: 2.13s\n",
      "400:\tlearn: 0.1372396\ttotal: 1.42s\tremaining: 2.12s\n",
      "401:\tlearn: 0.1370323\ttotal: 1.42s\tremaining: 2.12s\n",
      "402:\tlearn: 0.1368437\ttotal: 1.43s\tremaining: 2.11s\n",
      "403:\tlearn: 0.1366829\ttotal: 1.43s\tremaining: 2.12s\n",
      "404:\tlearn: 0.1363879\ttotal: 1.45s\tremaining: 2.12s\n",
      "405:\tlearn: 0.1359035\ttotal: 1.45s\tremaining: 2.12s\n",
      "406:\tlearn: 0.1355373\ttotal: 1.46s\tremaining: 2.12s\n",
      "407:\tlearn: 0.1353271\ttotal: 1.46s\tremaining: 2.12s\n",
      "408:\tlearn: 0.1349502\ttotal: 1.46s\tremaining: 2.11s\n",
      "409:\tlearn: 0.1348070\ttotal: 1.46s\tremaining: 2.1s\n",
      "410:\tlearn: 0.1346113\ttotal: 1.47s\tremaining: 2.1s\n",
      "411:\tlearn: 0.1343554\ttotal: 1.47s\tremaining: 2.1s\n",
      "412:\tlearn: 0.1340565\ttotal: 1.47s\tremaining: 2.09s\n",
      "413:\tlearn: 0.1338514\ttotal: 1.47s\tremaining: 2.08s\n",
      "414:\tlearn: 0.1335925\ttotal: 1.48s\tremaining: 2.08s\n",
      "415:\tlearn: 0.1333773\ttotal: 1.48s\tremaining: 2.07s\n",
      "416:\tlearn: 0.1331293\ttotal: 1.48s\tremaining: 2.07s\n",
      "417:\tlearn: 0.1328029\ttotal: 1.48s\tremaining: 2.06s\n",
      "418:\tlearn: 0.1325571\ttotal: 1.49s\tremaining: 2.06s\n",
      "419:\tlearn: 0.1322662\ttotal: 1.49s\tremaining: 2.06s\n",
      "420:\tlearn: 0.1319180\ttotal: 1.49s\tremaining: 2.05s\n",
      "421:\tlearn: 0.1317263\ttotal: 1.5s\tremaining: 2.05s\n",
      "422:\tlearn: 0.1315401\ttotal: 1.5s\tremaining: 2.04s\n",
      "423:\tlearn: 0.1313577\ttotal: 1.5s\tremaining: 2.04s\n",
      "424:\tlearn: 0.1311058\ttotal: 1.5s\tremaining: 2.04s\n",
      "425:\tlearn: 0.1309156\ttotal: 1.51s\tremaining: 2.03s\n"
     ]
    },
    {
     "name": "stdout",
     "output_type": "stream",
     "text": [
      "426:\tlearn: 0.1307512\ttotal: 1.51s\tremaining: 2.02s\n",
      "427:\tlearn: 0.1303589\ttotal: 1.51s\tremaining: 2.02s\n",
      "428:\tlearn: 0.1302457\ttotal: 1.51s\tremaining: 2.02s\n",
      "429:\tlearn: 0.1301760\ttotal: 1.52s\tremaining: 2.01s\n",
      "430:\tlearn: 0.1299651\ttotal: 1.52s\tremaining: 2.01s\n",
      "431:\tlearn: 0.1297907\ttotal: 1.52s\tremaining: 2s\n",
      "432:\tlearn: 0.1294501\ttotal: 1.53s\tremaining: 2s\n",
      "433:\tlearn: 0.1291304\ttotal: 1.53s\tremaining: 2s\n",
      "434:\tlearn: 0.1289656\ttotal: 1.53s\tremaining: 1.99s\n",
      "435:\tlearn: 0.1287499\ttotal: 1.54s\tremaining: 1.99s\n",
      "436:\tlearn: 0.1284609\ttotal: 1.54s\tremaining: 1.98s\n",
      "437:\tlearn: 0.1283955\ttotal: 1.54s\tremaining: 1.98s\n",
      "438:\tlearn: 0.1281146\ttotal: 1.54s\tremaining: 1.97s\n",
      "439:\tlearn: 0.1278716\ttotal: 1.55s\tremaining: 1.97s\n",
      "440:\tlearn: 0.1275774\ttotal: 1.55s\tremaining: 1.96s\n",
      "441:\tlearn: 0.1273580\ttotal: 1.55s\tremaining: 1.96s\n",
      "442:\tlearn: 0.1270821\ttotal: 1.55s\tremaining: 1.95s\n",
      "443:\tlearn: 0.1268349\ttotal: 1.56s\tremaining: 1.95s\n",
      "444:\tlearn: 0.1264812\ttotal: 1.56s\tremaining: 1.95s\n",
      "445:\tlearn: 0.1264248\ttotal: 1.56s\tremaining: 1.94s\n",
      "446:\tlearn: 0.1261501\ttotal: 1.56s\tremaining: 1.94s\n",
      "447:\tlearn: 0.1261001\ttotal: 1.57s\tremaining: 1.93s\n",
      "448:\tlearn: 0.1260152\ttotal: 1.57s\tremaining: 1.93s\n",
      "449:\tlearn: 0.1257253\ttotal: 1.57s\tremaining: 1.93s\n",
      "450:\tlearn: 0.1255343\ttotal: 1.58s\tremaining: 1.92s\n",
      "451:\tlearn: 0.1253431\ttotal: 1.58s\tremaining: 1.92s\n",
      "452:\tlearn: 0.1250539\ttotal: 1.58s\tremaining: 1.91s\n",
      "453:\tlearn: 0.1248051\ttotal: 1.58s\tremaining: 1.91s\n",
      "454:\tlearn: 0.1247099\ttotal: 1.59s\tremaining: 1.9s\n",
      "455:\tlearn: 0.1243726\ttotal: 1.59s\tremaining: 1.9s\n",
      "456:\tlearn: 0.1241138\ttotal: 1.59s\tremaining: 1.89s\n",
      "457:\tlearn: 0.1237874\ttotal: 1.59s\tremaining: 1.89s\n",
      "458:\tlearn: 0.1236853\ttotal: 1.6s\tremaining: 1.88s\n",
      "459:\tlearn: 0.1236351\ttotal: 1.6s\tremaining: 1.88s\n",
      "460:\tlearn: 0.1233144\ttotal: 1.6s\tremaining: 1.88s\n",
      "461:\tlearn: 0.1230969\ttotal: 1.61s\tremaining: 1.87s\n",
      "462:\tlearn: 0.1230112\ttotal: 1.61s\tremaining: 1.87s\n",
      "463:\tlearn: 0.1227389\ttotal: 1.61s\tremaining: 1.87s\n",
      "464:\tlearn: 0.1226927\ttotal: 1.62s\tremaining: 1.86s\n",
      "465:\tlearn: 0.1224483\ttotal: 1.62s\tremaining: 1.86s\n",
      "466:\tlearn: 0.1222702\ttotal: 1.62s\tremaining: 1.85s\n",
      "467:\tlearn: 0.1220375\ttotal: 1.63s\tremaining: 1.85s\n",
      "468:\tlearn: 0.1217547\ttotal: 1.63s\tremaining: 1.84s\n",
      "469:\tlearn: 0.1215822\ttotal: 1.63s\tremaining: 1.84s\n",
      "470:\tlearn: 0.1213494\ttotal: 1.63s\tremaining: 1.83s\n",
      "471:\tlearn: 0.1212378\ttotal: 1.63s\tremaining: 1.83s\n",
      "472:\tlearn: 0.1211963\ttotal: 1.64s\tremaining: 1.82s\n",
      "473:\tlearn: 0.1208861\ttotal: 1.64s\tremaining: 1.82s\n",
      "474:\tlearn: 0.1207009\ttotal: 1.64s\tremaining: 1.81s\n",
      "475:\tlearn: 0.1205112\ttotal: 1.64s\tremaining: 1.81s\n",
      "476:\tlearn: 0.1203931\ttotal: 1.65s\tremaining: 1.81s\n",
      "477:\tlearn: 0.1201784\ttotal: 1.66s\tremaining: 1.81s\n",
      "478:\tlearn: 0.1198989\ttotal: 1.66s\tremaining: 1.81s\n",
      "479:\tlearn: 0.1196771\ttotal: 1.67s\tremaining: 1.8s\n",
      "480:\tlearn: 0.1195179\ttotal: 1.67s\tremaining: 1.8s\n"
     ]
    },
    {
     "name": "stdout",
     "output_type": "stream",
     "text": [
      "481:\tlearn: 0.1193476\ttotal: 1.67s\tremaining: 1.79s\n",
      "482:\tlearn: 0.1191153\ttotal: 1.67s\tremaining: 1.79s\n",
      "483:\tlearn: 0.1190012\ttotal: 1.68s\tremaining: 1.79s\n",
      "484:\tlearn: 0.1187015\ttotal: 1.68s\tremaining: 1.79s\n",
      "485:\tlearn: 0.1185456\ttotal: 1.69s\tremaining: 1.79s\n",
      "486:\tlearn: 0.1183595\ttotal: 1.69s\tremaining: 1.78s\n",
      "487:\tlearn: 0.1180794\ttotal: 1.7s\tremaining: 1.78s\n",
      "488:\tlearn: 0.1178976\ttotal: 1.7s\tremaining: 1.77s\n",
      "489:\tlearn: 0.1176402\ttotal: 1.7s\tremaining: 1.77s\n",
      "490:\tlearn: 0.1173300\ttotal: 1.7s\tremaining: 1.76s\n",
      "491:\tlearn: 0.1170936\ttotal: 1.71s\tremaining: 1.76s\n",
      "492:\tlearn: 0.1167535\ttotal: 1.71s\tremaining: 1.76s\n",
      "493:\tlearn: 0.1164776\ttotal: 1.71s\tremaining: 1.75s\n",
      "494:\tlearn: 0.1162377\ttotal: 1.71s\tremaining: 1.75s\n",
      "495:\tlearn: 0.1160521\ttotal: 1.71s\tremaining: 1.74s\n",
      "496:\tlearn: 0.1157998\ttotal: 1.72s\tremaining: 1.74s\n",
      "497:\tlearn: 0.1156351\ttotal: 1.72s\tremaining: 1.73s\n",
      "498:\tlearn: 0.1154048\ttotal: 1.72s\tremaining: 1.73s\n",
      "499:\tlearn: 0.1152510\ttotal: 1.72s\tremaining: 1.72s\n",
      "500:\tlearn: 0.1151623\ttotal: 1.73s\tremaining: 1.73s\n",
      "501:\tlearn: 0.1148900\ttotal: 1.74s\tremaining: 1.72s\n",
      "502:\tlearn: 0.1146864\ttotal: 1.74s\tremaining: 1.72s\n",
      "503:\tlearn: 0.1144768\ttotal: 1.75s\tremaining: 1.72s\n",
      "504:\tlearn: 0.1142630\ttotal: 1.75s\tremaining: 1.71s\n",
      "505:\tlearn: 0.1140921\ttotal: 1.75s\tremaining: 1.71s\n",
      "506:\tlearn: 0.1138314\ttotal: 1.75s\tremaining: 1.7s\n",
      "507:\tlearn: 0.1135967\ttotal: 1.75s\tremaining: 1.7s\n",
      "508:\tlearn: 0.1133367\ttotal: 1.76s\tremaining: 1.7s\n",
      "509:\tlearn: 0.1131559\ttotal: 1.76s\tremaining: 1.69s\n",
      "510:\tlearn: 0.1128849\ttotal: 1.76s\tremaining: 1.69s\n",
      "511:\tlearn: 0.1126878\ttotal: 1.76s\tremaining: 1.68s\n",
      "512:\tlearn: 0.1126247\ttotal: 1.77s\tremaining: 1.68s\n",
      "513:\tlearn: 0.1124031\ttotal: 1.78s\tremaining: 1.68s\n",
      "514:\tlearn: 0.1121545\ttotal: 1.78s\tremaining: 1.68s\n",
      "515:\tlearn: 0.1119174\ttotal: 1.78s\tremaining: 1.67s\n",
      "516:\tlearn: 0.1116878\ttotal: 1.78s\tremaining: 1.67s\n",
      "517:\tlearn: 0.1114036\ttotal: 1.79s\tremaining: 1.66s\n",
      "518:\tlearn: 0.1113781\ttotal: 1.79s\tremaining: 1.66s\n",
      "519:\tlearn: 0.1112434\ttotal: 1.79s\tremaining: 1.66s\n",
      "520:\tlearn: 0.1110119\ttotal: 1.79s\tremaining: 1.65s\n",
      "521:\tlearn: 0.1108704\ttotal: 1.8s\tremaining: 1.65s\n",
      "522:\tlearn: 0.1106276\ttotal: 1.8s\tremaining: 1.64s\n",
      "523:\tlearn: 0.1104376\ttotal: 1.8s\tremaining: 1.64s\n",
      "524:\tlearn: 0.1102670\ttotal: 1.8s\tremaining: 1.63s\n",
      "525:\tlearn: 0.1099925\ttotal: 1.81s\tremaining: 1.63s\n",
      "526:\tlearn: 0.1097454\ttotal: 1.81s\tremaining: 1.63s\n",
      "527:\tlearn: 0.1095866\ttotal: 1.82s\tremaining: 1.62s\n",
      "528:\tlearn: 0.1095450\ttotal: 1.82s\tremaining: 1.62s\n"
     ]
    },
    {
     "name": "stdout",
     "output_type": "stream",
     "text": [
      "529:\tlearn: 0.1093965\ttotal: 1.82s\tremaining: 1.61s\n",
      "530:\tlearn: 0.1092134\ttotal: 1.82s\tremaining: 1.61s\n",
      "531:\tlearn: 0.1091028\ttotal: 1.83s\tremaining: 1.61s\n",
      "532:\tlearn: 0.1089472\ttotal: 1.83s\tremaining: 1.6s\n",
      "533:\tlearn: 0.1087914\ttotal: 1.83s\tremaining: 1.6s\n",
      "534:\tlearn: 0.1085027\ttotal: 1.83s\tremaining: 1.59s\n",
      "535:\tlearn: 0.1082653\ttotal: 1.84s\tremaining: 1.59s\n",
      "536:\tlearn: 0.1080886\ttotal: 1.84s\tremaining: 1.58s\n",
      "537:\tlearn: 0.1079738\ttotal: 1.84s\tremaining: 1.58s\n",
      "538:\tlearn: 0.1079244\ttotal: 1.84s\tremaining: 1.58s\n",
      "539:\tlearn: 0.1078820\ttotal: 1.84s\tremaining: 1.57s\n",
      "540:\tlearn: 0.1078093\ttotal: 1.85s\tremaining: 1.57s\n",
      "541:\tlearn: 0.1076974\ttotal: 1.86s\tremaining: 1.57s\n",
      "542:\tlearn: 0.1075631\ttotal: 1.86s\tremaining: 1.56s\n",
      "543:\tlearn: 0.1074269\ttotal: 1.86s\tremaining: 1.56s\n",
      "544:\tlearn: 0.1072439\ttotal: 1.86s\tremaining: 1.56s\n",
      "545:\tlearn: 0.1069921\ttotal: 1.87s\tremaining: 1.55s\n",
      "546:\tlearn: 0.1068152\ttotal: 1.87s\tremaining: 1.55s\n",
      "547:\tlearn: 0.1064953\ttotal: 1.87s\tremaining: 1.54s\n",
      "548:\tlearn: 0.1063100\ttotal: 1.87s\tremaining: 1.54s\n",
      "549:\tlearn: 0.1059989\ttotal: 1.88s\tremaining: 1.53s\n",
      "550:\tlearn: 0.1057657\ttotal: 1.88s\tremaining: 1.53s\n",
      "551:\tlearn: 0.1056484\ttotal: 1.88s\tremaining: 1.53s\n",
      "552:\tlearn: 0.1054820\ttotal: 1.89s\tremaining: 1.53s\n",
      "553:\tlearn: 0.1052947\ttotal: 1.89s\tremaining: 1.52s\n",
      "554:\tlearn: 0.1050894\ttotal: 1.9s\tremaining: 1.52s\n",
      "555:\tlearn: 0.1048520\ttotal: 1.9s\tremaining: 1.52s\n",
      "556:\tlearn: 0.1047464\ttotal: 1.9s\tremaining: 1.51s\n",
      "557:\tlearn: 0.1045462\ttotal: 1.91s\tremaining: 1.51s\n",
      "558:\tlearn: 0.1043486\ttotal: 1.91s\tremaining: 1.5s\n",
      "559:\tlearn: 0.1041537\ttotal: 1.91s\tremaining: 1.5s\n",
      "560:\tlearn: 0.1039703\ttotal: 1.91s\tremaining: 1.5s\n",
      "561:\tlearn: 0.1038169\ttotal: 1.92s\tremaining: 1.49s\n",
      "562:\tlearn: 0.1036708\ttotal: 1.92s\tremaining: 1.49s\n",
      "563:\tlearn: 0.1034170\ttotal: 1.93s\tremaining: 1.49s\n",
      "564:\tlearn: 0.1032545\ttotal: 1.93s\tremaining: 1.49s\n",
      "565:\tlearn: 0.1030133\ttotal: 1.94s\tremaining: 1.48s\n",
      "566:\tlearn: 0.1027175\ttotal: 1.94s\tremaining: 1.48s\n",
      "567:\tlearn: 0.1026783\ttotal: 1.94s\tremaining: 1.48s\n",
      "568:\tlearn: 0.1025941\ttotal: 1.94s\tremaining: 1.47s\n",
      "569:\tlearn: 0.1024605\ttotal: 1.95s\tremaining: 1.47s\n",
      "570:\tlearn: 0.1022879\ttotal: 1.95s\tremaining: 1.46s\n",
      "571:\tlearn: 0.1021632\ttotal: 1.95s\tremaining: 1.46s\n",
      "572:\tlearn: 0.1019534\ttotal: 1.95s\tremaining: 1.46s\n",
      "573:\tlearn: 0.1017275\ttotal: 1.96s\tremaining: 1.45s\n",
      "574:\tlearn: 0.1015809\ttotal: 1.96s\tremaining: 1.45s\n",
      "575:\tlearn: 0.1013794\ttotal: 1.96s\tremaining: 1.44s\n",
      "576:\tlearn: 0.1011614\ttotal: 1.97s\tremaining: 1.45s\n",
      "577:\tlearn: 0.1009789\ttotal: 1.98s\tremaining: 1.44s\n",
      "578:\tlearn: 0.1007737\ttotal: 1.98s\tremaining: 1.44s\n"
     ]
    },
    {
     "name": "stdout",
     "output_type": "stream",
     "text": [
      "579:\tlearn: 0.1005858\ttotal: 1.98s\tremaining: 1.44s\n",
      "580:\tlearn: 0.1004822\ttotal: 1.98s\tremaining: 1.43s\n",
      "581:\tlearn: 0.1003645\ttotal: 1.99s\tremaining: 1.43s\n",
      "582:\tlearn: 0.1002305\ttotal: 1.99s\tremaining: 1.42s\n",
      "583:\tlearn: 0.0999337\ttotal: 1.99s\tremaining: 1.42s\n",
      "584:\tlearn: 0.0998333\ttotal: 1.99s\tremaining: 1.41s\n",
      "585:\tlearn: 0.0996309\ttotal: 2s\tremaining: 1.41s\n",
      "586:\tlearn: 0.0995272\ttotal: 2s\tremaining: 1.41s\n",
      "587:\tlearn: 0.0992867\ttotal: 2.01s\tremaining: 1.41s\n",
      "588:\tlearn: 0.0992473\ttotal: 2.02s\tremaining: 1.41s\n",
      "589:\tlearn: 0.0992244\ttotal: 2.02s\tremaining: 1.4s\n",
      "590:\tlearn: 0.0989731\ttotal: 2.02s\tremaining: 1.4s\n",
      "591:\tlearn: 0.0989443\ttotal: 2.02s\tremaining: 1.4s\n",
      "592:\tlearn: 0.0987016\ttotal: 2.03s\tremaining: 1.39s\n",
      "593:\tlearn: 0.0985671\ttotal: 2.03s\tremaining: 1.39s\n",
      "594:\tlearn: 0.0983449\ttotal: 2.03s\tremaining: 1.38s\n",
      "595:\tlearn: 0.0980974\ttotal: 2.03s\tremaining: 1.38s\n",
      "596:\tlearn: 0.0978353\ttotal: 2.04s\tremaining: 1.37s\n",
      "597:\tlearn: 0.0975700\ttotal: 2.04s\tremaining: 1.37s\n",
      "598:\tlearn: 0.0973350\ttotal: 2.05s\tremaining: 1.37s\n",
      "599:\tlearn: 0.0971227\ttotal: 2.05s\tremaining: 1.36s\n",
      "600:\tlearn: 0.0970397\ttotal: 2.05s\tremaining: 1.36s\n",
      "601:\tlearn: 0.0969182\ttotal: 2.05s\tremaining: 1.36s\n",
      "602:\tlearn: 0.0968434\ttotal: 2.06s\tremaining: 1.35s\n",
      "603:\tlearn: 0.0965977\ttotal: 2.06s\tremaining: 1.35s\n",
      "604:\tlearn: 0.0964652\ttotal: 2.06s\tremaining: 1.34s\n",
      "605:\tlearn: 0.0962300\ttotal: 2.06s\tremaining: 1.34s\n",
      "606:\tlearn: 0.0961336\ttotal: 2.06s\tremaining: 1.34s\n",
      "607:\tlearn: 0.0961114\ttotal: 2.07s\tremaining: 1.33s\n",
      "608:\tlearn: 0.0958432\ttotal: 2.07s\tremaining: 1.33s\n",
      "609:\tlearn: 0.0956775\ttotal: 2.07s\tremaining: 1.32s\n",
      "610:\tlearn: 0.0955663\ttotal: 2.08s\tremaining: 1.32s\n",
      "611:\tlearn: 0.0953742\ttotal: 2.08s\tremaining: 1.32s\n",
      "612:\tlearn: 0.0951355\ttotal: 2.08s\tremaining: 1.31s\n",
      "613:\tlearn: 0.0949783\ttotal: 2.08s\tremaining: 1.31s\n",
      "614:\tlearn: 0.0947985\ttotal: 2.08s\tremaining: 1.3s\n",
      "615:\tlearn: 0.0946292\ttotal: 2.09s\tremaining: 1.3s\n",
      "616:\tlearn: 0.0944002\ttotal: 2.09s\tremaining: 1.3s\n",
      "617:\tlearn: 0.0942461\ttotal: 2.1s\tremaining: 1.29s\n",
      "618:\tlearn: 0.0939820\ttotal: 2.1s\tremaining: 1.29s\n",
      "619:\tlearn: 0.0939018\ttotal: 2.1s\tremaining: 1.29s\n",
      "620:\tlearn: 0.0936543\ttotal: 2.11s\tremaining: 1.29s\n",
      "621:\tlearn: 0.0935451\ttotal: 2.11s\tremaining: 1.28s\n",
      "622:\tlearn: 0.0933287\ttotal: 2.11s\tremaining: 1.28s\n",
      "623:\tlearn: 0.0930602\ttotal: 2.13s\tremaining: 1.28s\n",
      "624:\tlearn: 0.0929618\ttotal: 2.13s\tremaining: 1.28s\n",
      "625:\tlearn: 0.0928051\ttotal: 2.14s\tremaining: 1.28s\n",
      "626:\tlearn: 0.0927167\ttotal: 2.14s\tremaining: 1.27s\n"
     ]
    },
    {
     "name": "stdout",
     "output_type": "stream",
     "text": [
      "627:\tlearn: 0.0925332\ttotal: 2.15s\tremaining: 1.27s\n",
      "628:\tlearn: 0.0922832\ttotal: 2.15s\tremaining: 1.27s\n",
      "629:\tlearn: 0.0921175\ttotal: 2.15s\tremaining: 1.26s\n",
      "630:\tlearn: 0.0919123\ttotal: 2.15s\tremaining: 1.26s\n",
      "631:\tlearn: 0.0917795\ttotal: 2.15s\tremaining: 1.25s\n",
      "632:\tlearn: 0.0916588\ttotal: 2.16s\tremaining: 1.25s\n",
      "633:\tlearn: 0.0913901\ttotal: 2.16s\tremaining: 1.25s\n",
      "634:\tlearn: 0.0912608\ttotal: 2.16s\tremaining: 1.24s\n",
      "635:\tlearn: 0.0910922\ttotal: 2.16s\tremaining: 1.24s\n",
      "636:\tlearn: 0.0909007\ttotal: 2.17s\tremaining: 1.24s\n",
      "637:\tlearn: 0.0908617\ttotal: 2.17s\tremaining: 1.23s\n",
      "638:\tlearn: 0.0907311\ttotal: 2.17s\tremaining: 1.23s\n",
      "639:\tlearn: 0.0905685\ttotal: 2.18s\tremaining: 1.22s\n",
      "640:\tlearn: 0.0902894\ttotal: 2.18s\tremaining: 1.22s\n",
      "641:\tlearn: 0.0901182\ttotal: 2.19s\tremaining: 1.22s\n",
      "642:\tlearn: 0.0899645\ttotal: 2.2s\tremaining: 1.22s\n",
      "643:\tlearn: 0.0898725\ttotal: 2.21s\tremaining: 1.22s\n",
      "644:\tlearn: 0.0896516\ttotal: 2.21s\tremaining: 1.22s\n",
      "645:\tlearn: 0.0895527\ttotal: 2.21s\tremaining: 1.21s\n",
      "646:\tlearn: 0.0894504\ttotal: 2.21s\tremaining: 1.21s\n",
      "647:\tlearn: 0.0892899\ttotal: 2.22s\tremaining: 1.2s\n",
      "648:\tlearn: 0.0891149\ttotal: 2.22s\tremaining: 1.2s\n",
      "649:\tlearn: 0.0889725\ttotal: 2.22s\tremaining: 1.2s\n",
      "650:\tlearn: 0.0888521\ttotal: 2.22s\tremaining: 1.19s\n",
      "651:\tlearn: 0.0887139\ttotal: 2.23s\tremaining: 1.19s\n",
      "652:\tlearn: 0.0885395\ttotal: 2.23s\tremaining: 1.18s\n",
      "653:\tlearn: 0.0883756\ttotal: 2.23s\tremaining: 1.18s\n",
      "654:\tlearn: 0.0882962\ttotal: 2.24s\tremaining: 1.18s\n",
      "655:\tlearn: 0.0881348\ttotal: 2.24s\tremaining: 1.17s\n",
      "656:\tlearn: 0.0879878\ttotal: 2.24s\tremaining: 1.17s\n",
      "657:\tlearn: 0.0877489\ttotal: 2.24s\tremaining: 1.17s\n",
      "658:\tlearn: 0.0875242\ttotal: 2.25s\tremaining: 1.16s\n",
      "659:\tlearn: 0.0873926\ttotal: 2.25s\tremaining: 1.16s\n",
      "660:\tlearn: 0.0873428\ttotal: 2.25s\tremaining: 1.16s\n",
      "661:\tlearn: 0.0871630\ttotal: 2.26s\tremaining: 1.15s\n",
      "662:\tlearn: 0.0869686\ttotal: 2.26s\tremaining: 1.15s\n",
      "663:\tlearn: 0.0868803\ttotal: 2.26s\tremaining: 1.15s\n",
      "664:\tlearn: 0.0867486\ttotal: 2.27s\tremaining: 1.14s\n",
      "665:\tlearn: 0.0865626\ttotal: 2.27s\tremaining: 1.14s\n",
      "666:\tlearn: 0.0864647\ttotal: 2.27s\tremaining: 1.13s\n",
      "667:\tlearn: 0.0863092\ttotal: 2.27s\tremaining: 1.13s\n",
      "668:\tlearn: 0.0861961\ttotal: 2.28s\tremaining: 1.13s\n"
     ]
    },
    {
     "name": "stdout",
     "output_type": "stream",
     "text": [
      "669:\tlearn: 0.0860835\ttotal: 2.28s\tremaining: 1.12s\n",
      "670:\tlearn: 0.0858896\ttotal: 2.28s\tremaining: 1.12s\n",
      "671:\tlearn: 0.0857276\ttotal: 2.28s\tremaining: 1.11s\n",
      "672:\tlearn: 0.0855025\ttotal: 2.29s\tremaining: 1.11s\n",
      "673:\tlearn: 0.0853409\ttotal: 2.29s\tremaining: 1.11s\n",
      "674:\tlearn: 0.0851552\ttotal: 2.29s\tremaining: 1.1s\n",
      "675:\tlearn: 0.0850191\ttotal: 2.3s\tremaining: 1.1s\n",
      "676:\tlearn: 0.0848537\ttotal: 2.3s\tremaining: 1.1s\n",
      "677:\tlearn: 0.0846514\ttotal: 2.3s\tremaining: 1.09s\n",
      "678:\tlearn: 0.0844853\ttotal: 2.31s\tremaining: 1.09s\n",
      "679:\tlearn: 0.0843555\ttotal: 2.31s\tremaining: 1.08s\n",
      "680:\tlearn: 0.0842191\ttotal: 2.31s\tremaining: 1.08s\n",
      "681:\tlearn: 0.0839740\ttotal: 2.31s\tremaining: 1.08s\n",
      "682:\tlearn: 0.0838248\ttotal: 2.31s\tremaining: 1.07s\n",
      "683:\tlearn: 0.0837614\ttotal: 2.32s\tremaining: 1.07s\n",
      "684:\tlearn: 0.0836167\ttotal: 2.32s\tremaining: 1.07s\n",
      "685:\tlearn: 0.0834323\ttotal: 2.32s\tremaining: 1.06s\n",
      "686:\tlearn: 0.0833110\ttotal: 2.32s\tremaining: 1.06s\n",
      "687:\tlearn: 0.0832746\ttotal: 2.33s\tremaining: 1.05s\n",
      "688:\tlearn: 0.0830347\ttotal: 2.33s\tremaining: 1.05s\n",
      "689:\tlearn: 0.0829074\ttotal: 2.33s\tremaining: 1.05s\n",
      "690:\tlearn: 0.0827240\ttotal: 2.33s\tremaining: 1.04s\n",
      "691:\tlearn: 0.0825450\ttotal: 2.34s\tremaining: 1.04s\n",
      "692:\tlearn: 0.0824670\ttotal: 2.34s\tremaining: 1.04s\n",
      "693:\tlearn: 0.0824365\ttotal: 2.34s\tremaining: 1.03s\n",
      "694:\tlearn: 0.0822753\ttotal: 2.34s\tremaining: 1.03s\n",
      "695:\tlearn: 0.0821376\ttotal: 2.35s\tremaining: 1.02s\n",
      "696:\tlearn: 0.0819649\ttotal: 2.35s\tremaining: 1.02s\n",
      "697:\tlearn: 0.0818168\ttotal: 2.35s\tremaining: 1.02s\n",
      "698:\tlearn: 0.0817073\ttotal: 2.35s\tremaining: 1.01s\n",
      "699:\tlearn: 0.0814644\ttotal: 2.36s\tremaining: 1.01s\n",
      "700:\tlearn: 0.0812784\ttotal: 2.36s\tremaining: 1.01s\n",
      "701:\tlearn: 0.0811566\ttotal: 2.36s\tremaining: 1s\n",
      "702:\tlearn: 0.0811143\ttotal: 2.37s\tremaining: 999ms\n",
      "703:\tlearn: 0.0809859\ttotal: 2.37s\tremaining: 996ms\n",
      "704:\tlearn: 0.0808647\ttotal: 2.37s\tremaining: 992ms\n",
      "705:\tlearn: 0.0807995\ttotal: 2.37s\tremaining: 988ms\n",
      "706:\tlearn: 0.0806420\ttotal: 2.37s\tremaining: 984ms\n",
      "707:\tlearn: 0.0804917\ttotal: 2.38s\tremaining: 980ms\n",
      "708:\tlearn: 0.0803486\ttotal: 2.38s\tremaining: 976ms\n",
      "709:\tlearn: 0.0802037\ttotal: 2.38s\tremaining: 973ms\n",
      "710:\tlearn: 0.0801598\ttotal: 2.38s\tremaining: 969ms\n",
      "711:\tlearn: 0.0799318\ttotal: 2.39s\tremaining: 965ms\n",
      "712:\tlearn: 0.0798418\ttotal: 2.39s\tremaining: 962ms\n",
      "713:\tlearn: 0.0796978\ttotal: 2.39s\tremaining: 958ms\n",
      "714:\tlearn: 0.0795631\ttotal: 2.39s\tremaining: 955ms\n",
      "715:\tlearn: 0.0794420\ttotal: 2.4s\tremaining: 951ms\n",
      "716:\tlearn: 0.0792491\ttotal: 2.4s\tremaining: 947ms\n",
      "717:\tlearn: 0.0791068\ttotal: 2.4s\tremaining: 943ms\n",
      "718:\tlearn: 0.0790056\ttotal: 2.4s\tremaining: 940ms\n",
      "719:\tlearn: 0.0788505\ttotal: 2.41s\tremaining: 936ms\n",
      "720:\tlearn: 0.0787225\ttotal: 2.41s\tremaining: 932ms\n",
      "721:\tlearn: 0.0785375\ttotal: 2.41s\tremaining: 929ms\n",
      "722:\tlearn: 0.0783957\ttotal: 2.41s\tremaining: 925ms\n",
      "723:\tlearn: 0.0782798\ttotal: 2.42s\tremaining: 921ms\n",
      "724:\tlearn: 0.0781702\ttotal: 2.42s\tremaining: 917ms\n",
      "725:\tlearn: 0.0780393\ttotal: 2.42s\tremaining: 914ms\n",
      "726:\tlearn: 0.0778563\ttotal: 2.42s\tremaining: 910ms\n",
      "727:\tlearn: 0.0778139\ttotal: 2.43s\tremaining: 907ms\n",
      "728:\tlearn: 0.0777357\ttotal: 2.43s\tremaining: 903ms\n",
      "729:\tlearn: 0.0775135\ttotal: 2.43s\tremaining: 900ms\n",
      "730:\tlearn: 0.0773684\ttotal: 2.44s\tremaining: 896ms\n",
      "731:\tlearn: 0.0772397\ttotal: 2.44s\tremaining: 892ms\n",
      "732:\tlearn: 0.0771557\ttotal: 2.44s\tremaining: 889ms\n",
      "733:\tlearn: 0.0770541\ttotal: 2.44s\tremaining: 885ms\n",
      "734:\tlearn: 0.0769797\ttotal: 2.44s\tremaining: 881ms\n",
      "735:\tlearn: 0.0768743\ttotal: 2.44s\tremaining: 877ms\n",
      "736:\tlearn: 0.0767422\ttotal: 2.45s\tremaining: 874ms\n"
     ]
    },
    {
     "name": "stdout",
     "output_type": "stream",
     "text": [
      "737:\tlearn: 0.0765492\ttotal: 2.45s\tremaining: 870ms\n",
      "738:\tlearn: 0.0764303\ttotal: 2.45s\tremaining: 867ms\n",
      "739:\tlearn: 0.0763047\ttotal: 2.46s\tremaining: 863ms\n",
      "740:\tlearn: 0.0761869\ttotal: 2.46s\tremaining: 859ms\n",
      "741:\tlearn: 0.0760915\ttotal: 2.46s\tremaining: 856ms\n",
      "742:\tlearn: 0.0759777\ttotal: 2.46s\tremaining: 852ms\n",
      "743:\tlearn: 0.0758214\ttotal: 2.46s\tremaining: 848ms\n",
      "744:\tlearn: 0.0756366\ttotal: 2.47s\tremaining: 845ms\n",
      "745:\tlearn: 0.0755576\ttotal: 2.47s\tremaining: 841ms\n",
      "746:\tlearn: 0.0754074\ttotal: 2.47s\tremaining: 838ms\n",
      "747:\tlearn: 0.0752616\ttotal: 2.48s\tremaining: 834ms\n",
      "748:\tlearn: 0.0751856\ttotal: 2.48s\tremaining: 830ms\n",
      "749:\tlearn: 0.0751490\ttotal: 2.48s\tremaining: 827ms\n",
      "750:\tlearn: 0.0750974\ttotal: 2.48s\tremaining: 823ms\n",
      "751:\tlearn: 0.0750280\ttotal: 2.48s\tremaining: 820ms\n",
      "752:\tlearn: 0.0747915\ttotal: 2.49s\tremaining: 816ms\n",
      "753:\tlearn: 0.0746877\ttotal: 2.49s\tremaining: 813ms\n",
      "754:\tlearn: 0.0746037\ttotal: 2.49s\tremaining: 809ms\n",
      "755:\tlearn: 0.0745261\ttotal: 2.5s\tremaining: 805ms\n",
      "756:\tlearn: 0.0744784\ttotal: 2.5s\tremaining: 802ms\n",
      "757:\tlearn: 0.0743361\ttotal: 2.5s\tremaining: 798ms\n",
      "758:\tlearn: 0.0742808\ttotal: 2.5s\tremaining: 795ms\n",
      "759:\tlearn: 0.0741960\ttotal: 2.5s\tremaining: 791ms\n",
      "760:\tlearn: 0.0740656\ttotal: 2.51s\tremaining: 787ms\n",
      "761:\tlearn: 0.0739261\ttotal: 2.51s\tremaining: 784ms\n",
      "762:\tlearn: 0.0737980\ttotal: 2.51s\tremaining: 780ms\n",
      "763:\tlearn: 0.0736960\ttotal: 2.51s\tremaining: 777ms\n",
      "764:\tlearn: 0.0736736\ttotal: 2.52s\tremaining: 773ms\n",
      "765:\tlearn: 0.0735628\ttotal: 2.52s\tremaining: 770ms\n",
      "766:\tlearn: 0.0734869\ttotal: 2.52s\tremaining: 766ms\n",
      "767:\tlearn: 0.0733619\ttotal: 2.52s\tremaining: 763ms\n",
      "768:\tlearn: 0.0732499\ttotal: 2.53s\tremaining: 759ms\n",
      "769:\tlearn: 0.0730725\ttotal: 2.53s\tremaining: 756ms\n",
      "770:\tlearn: 0.0730193\ttotal: 2.53s\tremaining: 752ms\n",
      "771:\tlearn: 0.0728763\ttotal: 2.54s\tremaining: 749ms\n",
      "772:\tlearn: 0.0726915\ttotal: 2.54s\tremaining: 745ms\n",
      "773:\tlearn: 0.0726650\ttotal: 2.54s\tremaining: 742ms\n",
      "774:\tlearn: 0.0725405\ttotal: 2.54s\tremaining: 738ms\n",
      "775:\tlearn: 0.0724152\ttotal: 2.54s\tremaining: 735ms\n",
      "776:\tlearn: 0.0722472\ttotal: 2.55s\tremaining: 731ms\n",
      "777:\tlearn: 0.0720755\ttotal: 2.55s\tremaining: 728ms\n",
      "778:\tlearn: 0.0720311\ttotal: 2.55s\tremaining: 724ms\n",
      "779:\tlearn: 0.0719474\ttotal: 2.55s\tremaining: 720ms\n",
      "780:\tlearn: 0.0718846\ttotal: 2.56s\tremaining: 717ms\n",
      "781:\tlearn: 0.0717663\ttotal: 2.56s\tremaining: 714ms\n",
      "782:\tlearn: 0.0715717\ttotal: 2.56s\tremaining: 710ms\n",
      "783:\tlearn: 0.0714901\ttotal: 2.56s\tremaining: 707ms\n",
      "784:\tlearn: 0.0713778\ttotal: 2.57s\tremaining: 703ms\n",
      "785:\tlearn: 0.0712711\ttotal: 2.57s\tremaining: 700ms\n",
      "786:\tlearn: 0.0711906\ttotal: 2.57s\tremaining: 696ms\n",
      "787:\tlearn: 0.0711354\ttotal: 2.58s\tremaining: 693ms\n",
      "788:\tlearn: 0.0709853\ttotal: 2.58s\tremaining: 690ms\n",
      "789:\tlearn: 0.0708433\ttotal: 2.58s\tremaining: 686ms\n",
      "790:\tlearn: 0.0708130\ttotal: 2.58s\tremaining: 683ms\n",
      "791:\tlearn: 0.0706565\ttotal: 2.59s\tremaining: 679ms\n",
      "792:\tlearn: 0.0705196\ttotal: 2.59s\tremaining: 676ms\n",
      "793:\tlearn: 0.0703404\ttotal: 2.59s\tremaining: 672ms\n",
      "794:\tlearn: 0.0702065\ttotal: 2.59s\tremaining: 669ms\n",
      "795:\tlearn: 0.0701179\ttotal: 2.6s\tremaining: 665ms\n",
      "796:\tlearn: 0.0700049\ttotal: 2.6s\tremaining: 662ms\n",
      "797:\tlearn: 0.0699180\ttotal: 2.6s\tremaining: 658ms\n",
      "798:\tlearn: 0.0697362\ttotal: 2.6s\tremaining: 655ms\n",
      "799:\tlearn: 0.0696323\ttotal: 2.6s\tremaining: 651ms\n",
      "800:\tlearn: 0.0695871\ttotal: 2.61s\tremaining: 648ms\n",
      "801:\tlearn: 0.0695462\ttotal: 2.61s\tremaining: 645ms\n",
      "802:\tlearn: 0.0694209\ttotal: 2.61s\tremaining: 641ms\n",
      "803:\tlearn: 0.0693461\ttotal: 2.62s\tremaining: 638ms\n",
      "804:\tlearn: 0.0692067\ttotal: 2.62s\tremaining: 634ms\n",
      "805:\tlearn: 0.0690993\ttotal: 2.62s\tremaining: 631ms\n",
      "806:\tlearn: 0.0690377\ttotal: 2.62s\tremaining: 627ms\n"
     ]
    },
    {
     "name": "stdout",
     "output_type": "stream",
     "text": [
      "807:\tlearn: 0.0689637\ttotal: 2.63s\tremaining: 624ms\n",
      "808:\tlearn: 0.0688859\ttotal: 2.63s\tremaining: 621ms\n",
      "809:\tlearn: 0.0687813\ttotal: 2.63s\tremaining: 617ms\n",
      "810:\tlearn: 0.0686845\ttotal: 2.63s\tremaining: 614ms\n",
      "811:\tlearn: 0.0686444\ttotal: 2.64s\tremaining: 611ms\n",
      "812:\tlearn: 0.0685438\ttotal: 2.64s\tremaining: 607ms\n",
      "813:\tlearn: 0.0683968\ttotal: 2.64s\tremaining: 604ms\n",
      "814:\tlearn: 0.0682937\ttotal: 2.64s\tremaining: 600ms\n",
      "815:\tlearn: 0.0681623\ttotal: 2.65s\tremaining: 597ms\n",
      "816:\tlearn: 0.0680642\ttotal: 2.65s\tremaining: 593ms\n",
      "817:\tlearn: 0.0678485\ttotal: 2.65s\tremaining: 590ms\n",
      "818:\tlearn: 0.0677269\ttotal: 2.65s\tremaining: 586ms\n",
      "819:\tlearn: 0.0676215\ttotal: 2.65s\tremaining: 583ms\n",
      "820:\tlearn: 0.0674921\ttotal: 2.66s\tremaining: 580ms\n",
      "821:\tlearn: 0.0673182\ttotal: 2.66s\tremaining: 576ms\n",
      "822:\tlearn: 0.0672580\ttotal: 2.66s\tremaining: 573ms\n",
      "823:\tlearn: 0.0671451\ttotal: 2.67s\tremaining: 569ms\n",
      "824:\tlearn: 0.0669951\ttotal: 2.67s\tremaining: 566ms\n",
      "825:\tlearn: 0.0669772\ttotal: 2.67s\tremaining: 563ms\n",
      "826:\tlearn: 0.0669465\ttotal: 2.67s\tremaining: 559ms\n",
      "827:\tlearn: 0.0668742\ttotal: 2.67s\tremaining: 556ms\n",
      "828:\tlearn: 0.0667602\ttotal: 2.68s\tremaining: 553ms\n",
      "829:\tlearn: 0.0667275\ttotal: 2.68s\tremaining: 549ms\n",
      "830:\tlearn: 0.0666750\ttotal: 2.68s\tremaining: 546ms\n",
      "831:\tlearn: 0.0665780\ttotal: 2.69s\tremaining: 542ms\n",
      "832:\tlearn: 0.0664986\ttotal: 2.69s\tremaining: 539ms\n",
      "833:\tlearn: 0.0663816\ttotal: 2.69s\tremaining: 536ms\n",
      "834:\tlearn: 0.0662331\ttotal: 2.69s\tremaining: 532ms\n",
      "835:\tlearn: 0.0661588\ttotal: 2.7s\tremaining: 529ms\n",
      "836:\tlearn: 0.0660920\ttotal: 2.7s\tremaining: 526ms\n",
      "837:\tlearn: 0.0659237\ttotal: 2.7s\tremaining: 523ms\n",
      "838:\tlearn: 0.0658346\ttotal: 2.71s\tremaining: 519ms\n",
      "839:\tlearn: 0.0657032\ttotal: 2.71s\tremaining: 516ms\n",
      "840:\tlearn: 0.0656081\ttotal: 2.71s\tremaining: 513ms\n",
      "841:\tlearn: 0.0654705\ttotal: 2.71s\tremaining: 509ms\n",
      "842:\tlearn: 0.0653477\ttotal: 2.72s\tremaining: 506ms\n",
      "843:\tlearn: 0.0652429\ttotal: 2.72s\tremaining: 503ms\n",
      "844:\tlearn: 0.0651247\ttotal: 2.72s\tremaining: 500ms\n",
      "845:\tlearn: 0.0650743\ttotal: 2.73s\tremaining: 496ms\n",
      "846:\tlearn: 0.0650161\ttotal: 2.73s\tremaining: 493ms\n",
      "847:\tlearn: 0.0648717\ttotal: 2.73s\tremaining: 490ms\n",
      "848:\tlearn: 0.0647611\ttotal: 2.74s\tremaining: 487ms\n",
      "849:\tlearn: 0.0647268\ttotal: 2.74s\tremaining: 484ms\n",
      "850:\tlearn: 0.0646168\ttotal: 2.74s\tremaining: 481ms\n",
      "851:\tlearn: 0.0645659\ttotal: 2.75s\tremaining: 477ms\n",
      "852:\tlearn: 0.0644721\ttotal: 2.75s\tremaining: 474ms\n",
      "853:\tlearn: 0.0643786\ttotal: 2.75s\tremaining: 470ms\n",
      "854:\tlearn: 0.0642659\ttotal: 2.75s\tremaining: 467ms\n",
      "855:\tlearn: 0.0641707\ttotal: 2.76s\tremaining: 464ms\n",
      "856:\tlearn: 0.0640556\ttotal: 2.76s\tremaining: 460ms\n",
      "857:\tlearn: 0.0639277\ttotal: 2.76s\tremaining: 457ms\n",
      "858:\tlearn: 0.0637959\ttotal: 2.77s\tremaining: 454ms\n",
      "859:\tlearn: 0.0637205\ttotal: 2.77s\tremaining: 451ms\n",
      "860:\tlearn: 0.0636436\ttotal: 2.78s\tremaining: 448ms\n",
      "861:\tlearn: 0.0635565\ttotal: 2.78s\tremaining: 445ms\n",
      "862:\tlearn: 0.0635330\ttotal: 2.78s\tremaining: 442ms\n",
      "863:\tlearn: 0.0634154\ttotal: 2.79s\tremaining: 438ms\n",
      "864:\tlearn: 0.0632634\ttotal: 2.79s\tremaining: 435ms\n",
      "865:\tlearn: 0.0630889\ttotal: 2.79s\tremaining: 432ms\n",
      "866:\tlearn: 0.0629964\ttotal: 2.79s\tremaining: 428ms\n",
      "867:\tlearn: 0.0629197\ttotal: 2.79s\tremaining: 425ms\n"
     ]
    },
    {
     "name": "stdout",
     "output_type": "stream",
     "text": [
      "868:\tlearn: 0.0627780\ttotal: 2.8s\tremaining: 422ms\n",
      "869:\tlearn: 0.0626716\ttotal: 2.8s\tremaining: 419ms\n",
      "870:\tlearn: 0.0626110\ttotal: 2.8s\tremaining: 415ms\n",
      "871:\tlearn: 0.0625209\ttotal: 2.81s\tremaining: 412ms\n",
      "872:\tlearn: 0.0624920\ttotal: 2.81s\tremaining: 409ms\n",
      "873:\tlearn: 0.0624104\ttotal: 2.81s\tremaining: 406ms\n",
      "874:\tlearn: 0.0622192\ttotal: 2.82s\tremaining: 402ms\n",
      "875:\tlearn: 0.0621064\ttotal: 2.82s\tremaining: 399ms\n",
      "876:\tlearn: 0.0620084\ttotal: 2.82s\tremaining: 396ms\n",
      "877:\tlearn: 0.0618607\ttotal: 2.83s\tremaining: 393ms\n",
      "878:\tlearn: 0.0617377\ttotal: 2.83s\tremaining: 389ms\n",
      "879:\tlearn: 0.0616179\ttotal: 2.83s\tremaining: 386ms\n",
      "880:\tlearn: 0.0615484\ttotal: 2.83s\tremaining: 383ms\n",
      "881:\tlearn: 0.0614440\ttotal: 2.83s\tremaining: 379ms\n",
      "882:\tlearn: 0.0614055\ttotal: 2.84s\tremaining: 376ms\n",
      "883:\tlearn: 0.0613734\ttotal: 2.84s\tremaining: 373ms\n",
      "884:\tlearn: 0.0613196\ttotal: 2.84s\tremaining: 369ms\n",
      "885:\tlearn: 0.0612930\ttotal: 2.84s\tremaining: 366ms\n",
      "886:\tlearn: 0.0612177\ttotal: 2.85s\tremaining: 363ms\n",
      "887:\tlearn: 0.0611737\ttotal: 2.85s\tremaining: 359ms\n",
      "888:\tlearn: 0.0610425\ttotal: 2.85s\tremaining: 356ms\n",
      "889:\tlearn: 0.0609127\ttotal: 2.85s\tremaining: 353ms\n",
      "890:\tlearn: 0.0607673\ttotal: 2.85s\tremaining: 349ms\n",
      "891:\tlearn: 0.0606582\ttotal: 2.86s\tremaining: 346ms\n",
      "892:\tlearn: 0.0605831\ttotal: 2.86s\tremaining: 343ms\n",
      "893:\tlearn: 0.0604942\ttotal: 2.86s\tremaining: 339ms\n",
      "894:\tlearn: 0.0603826\ttotal: 2.87s\tremaining: 336ms\n",
      "895:\tlearn: 0.0602476\ttotal: 2.87s\tremaining: 333ms\n",
      "896:\tlearn: 0.0601152\ttotal: 2.87s\tremaining: 330ms\n",
      "897:\tlearn: 0.0600884\ttotal: 2.87s\tremaining: 326ms\n",
      "898:\tlearn: 0.0600343\ttotal: 2.87s\tremaining: 323ms\n",
      "899:\tlearn: 0.0599228\ttotal: 2.88s\tremaining: 320ms\n",
      "900:\tlearn: 0.0598985\ttotal: 2.88s\tremaining: 316ms\n",
      "901:\tlearn: 0.0598192\ttotal: 2.88s\tremaining: 313ms\n",
      "902:\tlearn: 0.0597895\ttotal: 2.88s\tremaining: 310ms\n",
      "903:\tlearn: 0.0596770\ttotal: 2.89s\tremaining: 307ms\n",
      "904:\tlearn: 0.0595823\ttotal: 2.89s\tremaining: 303ms\n",
      "905:\tlearn: 0.0595671\ttotal: 2.89s\tremaining: 300ms\n",
      "906:\tlearn: 0.0594655\ttotal: 2.89s\tremaining: 297ms\n",
      "907:\tlearn: 0.0593804\ttotal: 2.9s\tremaining: 293ms\n",
      "908:\tlearn: 0.0592747\ttotal: 2.9s\tremaining: 290ms\n",
      "909:\tlearn: 0.0591963\ttotal: 2.9s\tremaining: 287ms\n",
      "910:\tlearn: 0.0591056\ttotal: 2.9s\tremaining: 284ms\n",
      "911:\tlearn: 0.0590746\ttotal: 2.91s\tremaining: 280ms\n",
      "912:\tlearn: 0.0590338\ttotal: 2.91s\tremaining: 277ms\n",
      "913:\tlearn: 0.0589614\ttotal: 2.91s\tremaining: 274ms\n",
      "914:\tlearn: 0.0588676\ttotal: 2.91s\tremaining: 271ms\n",
      "915:\tlearn: 0.0587835\ttotal: 2.92s\tremaining: 267ms\n",
      "916:\tlearn: 0.0587084\ttotal: 2.92s\tremaining: 264ms\n",
      "917:\tlearn: 0.0586485\ttotal: 2.92s\tremaining: 261ms\n",
      "918:\tlearn: 0.0585352\ttotal: 2.92s\tremaining: 258ms\n",
      "919:\tlearn: 0.0584580\ttotal: 2.93s\tremaining: 254ms\n",
      "920:\tlearn: 0.0583847\ttotal: 2.93s\tremaining: 251ms\n",
      "921:\tlearn: 0.0583044\ttotal: 2.93s\tremaining: 248ms\n",
      "922:\tlearn: 0.0582795\ttotal: 2.93s\tremaining: 245ms\n",
      "923:\tlearn: 0.0582564\ttotal: 2.94s\tremaining: 241ms\n",
      "924:\tlearn: 0.0582051\ttotal: 2.94s\tremaining: 238ms\n",
      "925:\tlearn: 0.0581383\ttotal: 2.94s\tremaining: 235ms\n",
      "926:\tlearn: 0.0580583\ttotal: 2.94s\tremaining: 232ms\n",
      "927:\tlearn: 0.0580006\ttotal: 2.95s\tremaining: 229ms\n",
      "928:\tlearn: 0.0578930\ttotal: 2.95s\tremaining: 225ms\n",
      "929:\tlearn: 0.0578060\ttotal: 2.95s\tremaining: 222ms\n",
      "930:\tlearn: 0.0577264\ttotal: 2.95s\tremaining: 219ms\n",
      "931:\tlearn: 0.0576192\ttotal: 2.96s\tremaining: 216ms\n",
      "932:\tlearn: 0.0575809\ttotal: 2.96s\tremaining: 213ms\n",
      "933:\tlearn: 0.0574559\ttotal: 2.96s\tremaining: 209ms\n",
      "934:\tlearn: 0.0572828\ttotal: 2.96s\tremaining: 206ms\n",
      "935:\tlearn: 0.0572054\ttotal: 2.97s\tremaining: 203ms\n",
      "936:\tlearn: 0.0571290\ttotal: 2.97s\tremaining: 200ms\n"
     ]
    },
    {
     "name": "stdout",
     "output_type": "stream",
     "text": [
      "937:\tlearn: 0.0570749\ttotal: 2.97s\tremaining: 196ms\n",
      "938:\tlearn: 0.0569905\ttotal: 2.98s\tremaining: 193ms\n",
      "939:\tlearn: 0.0568868\ttotal: 2.98s\tremaining: 190ms\n",
      "940:\tlearn: 0.0568439\ttotal: 2.98s\tremaining: 187ms\n",
      "941:\tlearn: 0.0567815\ttotal: 2.98s\tremaining: 184ms\n",
      "942:\tlearn: 0.0567216\ttotal: 2.98s\tremaining: 180ms\n",
      "943:\tlearn: 0.0567034\ttotal: 2.98s\tremaining: 177ms\n",
      "944:\tlearn: 0.0566287\ttotal: 2.99s\tremaining: 174ms\n",
      "945:\tlearn: 0.0565974\ttotal: 2.99s\tremaining: 171ms\n",
      "946:\tlearn: 0.0565243\ttotal: 2.99s\tremaining: 167ms\n",
      "947:\tlearn: 0.0564519\ttotal: 3s\tremaining: 164ms\n",
      "948:\tlearn: 0.0563841\ttotal: 3s\tremaining: 161ms\n",
      "949:\tlearn: 0.0563132\ttotal: 3s\tremaining: 158ms\n",
      "950:\tlearn: 0.0562287\ttotal: 3.01s\tremaining: 155ms\n",
      "951:\tlearn: 0.0561533\ttotal: 3.01s\tremaining: 152ms\n",
      "952:\tlearn: 0.0560644\ttotal: 3.01s\tremaining: 149ms\n",
      "953:\tlearn: 0.0559490\ttotal: 3.01s\tremaining: 145ms\n",
      "954:\tlearn: 0.0558727\ttotal: 3.02s\tremaining: 142ms\n",
      "955:\tlearn: 0.0558235\ttotal: 3.02s\tremaining: 139ms\n",
      "956:\tlearn: 0.0557759\ttotal: 3.02s\tremaining: 136ms\n",
      "957:\tlearn: 0.0557051\ttotal: 3.02s\tremaining: 133ms\n",
      "958:\tlearn: 0.0556252\ttotal: 3.03s\tremaining: 130ms\n",
      "959:\tlearn: 0.0555380\ttotal: 3.03s\tremaining: 126ms\n",
      "960:\tlearn: 0.0554690\ttotal: 3.04s\tremaining: 123ms\n",
      "961:\tlearn: 0.0553368\ttotal: 3.04s\tremaining: 120ms\n",
      "962:\tlearn: 0.0551791\ttotal: 3.04s\tremaining: 117ms\n",
      "963:\tlearn: 0.0550889\ttotal: 3.04s\tremaining: 114ms\n",
      "964:\tlearn: 0.0549785\ttotal: 3.04s\tremaining: 110ms\n",
      "965:\tlearn: 0.0548712\ttotal: 3.05s\tremaining: 107ms\n",
      "966:\tlearn: 0.0547589\ttotal: 3.05s\tremaining: 104ms\n",
      "967:\tlearn: 0.0546838\ttotal: 3.05s\tremaining: 101ms\n",
      "968:\tlearn: 0.0546647\ttotal: 3.05s\tremaining: 97.7ms\n",
      "969:\tlearn: 0.0545979\ttotal: 3.06s\tremaining: 94.5ms\n",
      "970:\tlearn: 0.0545368\ttotal: 3.06s\tremaining: 91.4ms\n",
      "971:\tlearn: 0.0545223\ttotal: 3.06s\tremaining: 88.2ms\n",
      "972:\tlearn: 0.0544530\ttotal: 3.06s\tremaining: 85ms\n",
      "973:\tlearn: 0.0544435\ttotal: 3.07s\tremaining: 81.9ms\n",
      "974:\tlearn: 0.0544266\ttotal: 3.07s\tremaining: 78.7ms\n",
      "975:\tlearn: 0.0542917\ttotal: 3.07s\tremaining: 75.5ms\n",
      "976:\tlearn: 0.0541760\ttotal: 3.07s\tremaining: 72.4ms\n",
      "977:\tlearn: 0.0540351\ttotal: 3.08s\tremaining: 69.2ms\n",
      "978:\tlearn: 0.0539238\ttotal: 3.08s\tremaining: 66.1ms\n",
      "979:\tlearn: 0.0538498\ttotal: 3.08s\tremaining: 62.9ms\n",
      "980:\tlearn: 0.0537581\ttotal: 3.08s\tremaining: 59.8ms\n",
      "981:\tlearn: 0.0536341\ttotal: 3.09s\tremaining: 56.6ms\n",
      "982:\tlearn: 0.0535693\ttotal: 3.09s\tremaining: 53.4ms\n",
      "983:\tlearn: 0.0535250\ttotal: 3.09s\tremaining: 50.3ms\n",
      "984:\tlearn: 0.0534416\ttotal: 3.1s\tremaining: 47.1ms\n",
      "985:\tlearn: 0.0533850\ttotal: 3.1s\tremaining: 44ms\n",
      "986:\tlearn: 0.0533711\ttotal: 3.1s\tremaining: 40.8ms\n",
      "987:\tlearn: 0.0533294\ttotal: 3.1s\tremaining: 37.7ms\n",
      "988:\tlearn: 0.0532715\ttotal: 3.1s\tremaining: 34.5ms\n",
      "989:\tlearn: 0.0531981\ttotal: 3.11s\tremaining: 31.4ms\n",
      "990:\tlearn: 0.0531393\ttotal: 3.11s\tremaining: 28.2ms\n",
      "991:\tlearn: 0.0531181\ttotal: 3.11s\tremaining: 25.1ms\n",
      "992:\tlearn: 0.0530039\ttotal: 3.11s\tremaining: 22ms\n",
      "993:\tlearn: 0.0529152\ttotal: 3.12s\tremaining: 18.8ms\n",
      "994:\tlearn: 0.0528972\ttotal: 3.12s\tremaining: 15.7ms\n",
      "995:\tlearn: 0.0528421\ttotal: 3.12s\tremaining: 12.5ms\n",
      "996:\tlearn: 0.0527816\ttotal: 3.13s\tremaining: 9.4ms\n",
      "997:\tlearn: 0.0527000\ttotal: 3.13s\tremaining: 6.27ms\n",
      "998:\tlearn: 0.0526176\ttotal: 3.13s\tremaining: 3.13ms\n",
      "999:\tlearn: 0.0525960\ttotal: 3.13s\tremaining: 0us\n"
     ]
    },
    {
     "data": {
      "text/plain": [
       "<catboost.core.CatBoostRegressor at 0x7fba5492abb0>"
      ]
     },
     "execution_count": 9,
     "metadata": {},
     "output_type": "execute_result"
    }
   ],
   "source": [
    "#Train the Model \n",
    "prior_model = ctb.CatBoostRegressor()\n",
    "prior_model.fit(X_train,Y_train)"
   ]
  },
  {
   "cell_type": "code",
   "execution_count": 10,
   "id": "af65dcda",
   "metadata": {
    "execution": {
     "iopub.execute_input": "2022-07-22T20:43:26.852273Z",
     "iopub.status.busy": "2022-07-22T20:43:26.851762Z",
     "iopub.status.idle": "2022-07-22T20:43:26.918445Z",
     "shell.execute_reply": "2022-07-22T20:43:26.910401Z"
    },
    "id": "af65dcda",
    "papermill": {
     "duration": 0.095204,
     "end_time": "2022-07-22T20:43:26.924308",
     "exception": false,
     "start_time": "2022-07-22T20:43:26.829104",
     "status": "completed"
    },
    "tags": []
   },
   "outputs": [
    {
     "data": {
      "application/scrapbook.scrap.json+json": {
       "data": 0.07149979486169415,
       "encoder": "json",
       "name": "Prior Model MSE",
       "version": 1
      }
     },
     "metadata": {
      "scrapbook": {
       "data": true,
       "display": false,
       "name": "Prior Model MSE"
      }
     },
     "output_type": "display_data"
    },
    {
     "data": {
      "application/scrapbook.scrap.json+json": {
       "data": 0.09071853872037154,
       "encoder": "json",
       "name": "ABC Pre-generator MSE",
       "version": 1
      }
     },
     "metadata": {
      "scrapbook": {
       "data": true,
       "display": false,
       "name": "ABC Pre-generator MSE"
      }
     },
     "output_type": "display_data"
    },
    {
     "data": {
      "application/scrapbook.scrap.json+json": {
       "data": 0.19378497202160924,
       "encoder": "json",
       "name": "Prior Model MAE",
       "version": 1
      }
     },
     "metadata": {
      "scrapbook": {
       "data": true,
       "display": false,
       "name": "Prior Model MAE"
      }
     },
     "output_type": "display_data"
    },
    {
     "name": "stdout",
     "output_type": "stream",
     "text": [
      "Prior Model MAE 0.19378497202160924\n",
      "ABC Pre-generator MAE 0.23709752858582164\n"
     ]
    }
   ],
   "source": [
    "y_pred = prior_model.predict(X_test)\n",
    "y_abc = y_pred + np.random.normal(0,variance, y_pred.shape) + bias \n",
    "mse = mean_squared_error(y_pred,Y_test)\n",
    "sb.glue(\"Prior Model MSE\",mse)\n",
    "mse = mean_squared_error(y_abc,Y_test)\n",
    "sb.glue(\"ABC Pre-generator MSE\",mse)\n",
    "mae = mean_absolute_error(y_pred,Y_test)\n",
    "sb.glue(\"Prior Model MAE\",mae)\n",
    "print(\"Prior Model MAE\",mae)\n",
    "mae = mean_absolute_error(y_abc,Y_test)\n",
    "print(\"ABC Pre-generator MAE\",mae)"
   ]
  },
  {
   "cell_type": "markdown",
   "id": "25609da2",
   "metadata": {
    "papermill": {
     "duration": 0.011249,
     "end_time": "2022-07-22T20:43:26.947315",
     "exception": false,
     "start_time": "2022-07-22T20:43:26.936066",
     "status": "completed"
    },
    "tags": []
   },
   "source": [
    "# mGAN Model"
   ]
  },
  {
   "cell_type": "code",
   "execution_count": 11,
   "id": "dfc3464d",
   "metadata": {
    "execution": {
     "iopub.execute_input": "2022-07-22T20:43:26.987187Z",
     "iopub.status.busy": "2022-07-22T20:43:26.986614Z",
     "iopub.status.idle": "2022-07-22T20:43:26.991875Z",
     "shell.execute_reply": "2022-07-22T20:43:26.991106Z"
    },
    "papermill": {
     "duration": 0.038234,
     "end_time": "2022-07-22T20:43:26.997217",
     "exception": false,
     "start_time": "2022-07-22T20:43:26.958983",
     "status": "completed"
    },
    "tags": []
   },
   "outputs": [],
   "source": [
    "# gen = network.Generator(n_features+1).to(device)\n",
    "# disc = network.Discriminator(n_features+1).to(device)\n",
    "\n",
    "# criterion = torch.nn.BCELoss()\n",
    "# gen_opt = torch.optim.Adam(gen.parameters(), lr=0.01, betas=(0.5, 0.999))\n",
    "# disc_opt = torch.optim.Adam(disc.parameters(), lr=0.01, betas=(0.5, 0.999))"
   ]
  },
  {
   "cell_type": "code",
   "execution_count": 12,
   "id": "b75fdd85",
   "metadata": {
    "execution": {
     "iopub.execute_input": "2022-07-22T20:43:27.026502Z",
     "iopub.status.busy": "2022-07-22T20:43:27.026160Z",
     "iopub.status.idle": "2022-07-22T20:43:27.031261Z",
     "shell.execute_reply": "2022-07-22T20:43:27.030335Z"
    },
    "papermill": {
     "duration": 0.025092,
     "end_time": "2022-07-22T20:43:27.034522",
     "exception": false,
     "start_time": "2022-07-22T20:43:27.009430",
     "status": "completed"
    },
    "tags": []
   },
   "outputs": [],
   "source": [
    "#Training the ABC_GAN \n",
    "# ABC_train_test2.training_GAN(disc,gen,disc_opt,gen_opt,train_data,batch_size,n_epochs,criterion,prior_model,variance,bias,device)"
   ]
  },
  {
   "cell_type": "code",
   "execution_count": 13,
   "id": "1fa7c368",
   "metadata": {
    "execution": {
     "iopub.execute_input": "2022-07-22T20:43:27.087094Z",
     "iopub.status.busy": "2022-07-22T20:43:27.081657Z",
     "iopub.status.idle": "2022-07-22T20:43:27.106472Z",
     "shell.execute_reply": "2022-07-22T20:43:27.101637Z"
    },
    "papermill": {
     "duration": 0.075211,
     "end_time": "2022-07-22T20:43:27.120575",
     "exception": false,
     "start_time": "2022-07-22T20:43:27.045364",
     "status": "completed"
    },
    "tags": []
   },
   "outputs": [],
   "source": [
    "# ABC_GAN1_metrics=ABC_train_test2.test_generator(gen,test_data,prior_model,variance,bias,\"1\",device)\n",
    "# sb.glue(\"ABC_GAN_1 Metrics\",ABC_GAN1_metrics)\n",
    "\n",
    "# print(\"MAE\")\n",
    "# print(mean(ABC_GAN1_metrics[1]))"
   ]
  },
  {
   "cell_type": "code",
   "execution_count": 14,
   "id": "eb22ce5c",
   "metadata": {
    "execution": {
     "iopub.execute_input": "2022-07-22T20:43:27.163075Z",
     "iopub.status.busy": "2022-07-22T20:43:27.161632Z",
     "iopub.status.idle": "2022-07-22T20:43:27.169484Z",
     "shell.execute_reply": "2022-07-22T20:43:27.167591Z"
    },
    "papermill": {
     "duration": 0.040806,
     "end_time": "2022-07-22T20:43:27.176439",
     "exception": false,
     "start_time": "2022-07-22T20:43:27.135633",
     "status": "completed"
    },
    "tags": []
   },
   "outputs": [],
   "source": [
    "# sanityChecks.discProbVsError(train_data,disc,device)\n",
    "# sanityChecks.discProbVsError(test_data,disc,device)"
   ]
  },
  {
   "cell_type": "markdown",
   "id": "e886360a",
   "metadata": {
    "papermill": {
     "duration": 0.011889,
     "end_time": "2022-07-22T20:43:27.199542",
     "exception": false,
     "start_time": "2022-07-22T20:43:27.187653",
     "status": "completed"
    },
    "tags": []
   },
   "source": [
    "# mGAN Model with TabNet Generator"
   ]
  },
  {
   "cell_type": "code",
   "execution_count": 15,
   "id": "d33ea2e3",
   "metadata": {
    "execution": {
     "iopub.execute_input": "2022-07-22T20:43:27.224440Z",
     "iopub.status.busy": "2022-07-22T20:43:27.224051Z",
     "iopub.status.idle": "2022-07-22T20:43:27.242597Z",
     "shell.execute_reply": "2022-07-22T20:43:27.240995Z"
    },
    "papermill": {
     "duration": 0.034837,
     "end_time": "2022-07-22T20:43:27.245862",
     "exception": false,
     "start_time": "2022-07-22T20:43:27.211025",
     "status": "completed"
    },
    "tags": []
   },
   "outputs": [],
   "source": [
    "gen2 = network.GeneratorTabnet(n_features+1).to(device)\n",
    "disc2 = network.Discriminator(n_features+1).to(device)\n",
    "\n",
    "criterion = torch.nn.BCELoss()\n",
    "gen_opt = torch.optim.Adam(gen2.parameters(), lr=0.01, betas=(0.5, 0.999))\n",
    "disc_opt = torch.optim.Adam(disc2.parameters(), lr=0.01, betas=(0.5, 0.999))"
   ]
  },
  {
   "cell_type": "code",
   "execution_count": 16,
   "id": "e2d0a11d",
   "metadata": {
    "execution": {
     "iopub.execute_input": "2022-07-22T20:43:27.271620Z",
     "iopub.status.busy": "2022-07-22T20:43:27.271201Z",
     "iopub.status.idle": "2022-07-22T20:53:57.155986Z",
     "shell.execute_reply": "2022-07-22T20:53:57.154371Z"
    },
    "papermill": {
     "duration": 629.908828,
     "end_time": "2022-07-22T20:53:57.166010",
     "exception": false,
     "start_time": "2022-07-22T20:43:27.257182",
     "status": "completed"
    },
    "tags": []
   },
   "outputs": [
    {
     "data": {
      "image/png": "[encoded data removed]",
      "text/plain": [
       "<Figure size 432x288 with 1 Axes>"
      ]
     },
     "metadata": {
      "needs_background": "light"
     },
     "output_type": "display_data"
    },
    {
     "data": {
      "image/png": "[encoded data removed]",
      "text/plain": [
       "<Figure size 432x288 with 1 Axes>"
      ]
     },
     "metadata": {
      "needs_background": "light"
     },
     "output_type": "display_data"
    }
   ],
   "source": [
    "#Training the ABC_GAN \n",
    "ABC_train_test2.training_GAN(disc2,gen2,disc_opt,gen_opt,train_data,batch_size,n_epochs,criterion,prior_model,variance,bias,device)"
   ]
  },
  {
   "cell_type": "code",
   "execution_count": 17,
   "id": "7b02e38a",
   "metadata": {
    "execution": {
     "iopub.execute_input": "2022-07-22T20:53:57.416293Z",
     "iopub.status.busy": "2022-07-22T20:53:57.404503Z",
     "iopub.status.idle": "2022-07-22T20:53:59.083722Z",
     "shell.execute_reply": "2022-07-22T20:53:59.082790Z"
    },
    "papermill": {
     "duration": 1.905151,
     "end_time": "2022-07-22T20:53:59.086539",
     "exception": false,
     "start_time": "2022-07-22T20:53:57.181388",
     "status": "completed"
    },
    "tags": []
   },
   "outputs": [
    {
     "data": {
      "application/scrapbook.scrap.json+json": {
       "data": 0.08392816264054882,
       "encoder": "json",
       "name": "ABC-GAN Model 1 MSE",
       "version": 1
      }
     },
     "metadata": {
      "scrapbook": {
       "data": true,
       "display": false,
       "name": "ABC-GAN Model 1 MSE"
      }
     },
     "output_type": "display_data"
    },
    {
     "data": {
      "application/scrapbook.scrap.json+json": {
       "data": 0.21299632945116245,
       "encoder": "json",
       "name": "ABC-GAN Model 1 MAE",
       "version": 1
      }
     },
     "metadata": {
      "scrapbook": {
       "data": true,
       "display": false,
       "name": "ABC-GAN Model 1 MAE"
      }
     },
     "output_type": "display_data"
    },
    {
     "data": {
      "application/scrapbook.scrap.json+json": {
       "data": 21.725625604018568,
       "encoder": "json",
       "name": "ABC-GAN Model 1 Manhattan Distance",
       "version": 1
      }
     },
     "metadata": {
      "scrapbook": {
       "data": true,
       "display": false,
       "name": "ABC-GAN Model 1 Manhattan Distance"
      }
     },
     "output_type": "display_data"
    },
    {
     "data": {
      "application/scrapbook.scrap.json+json": {
       "data": 2.92386555714595,
       "encoder": "json",
       "name": "ABC-GAN Model 1 Euclidean distance",
       "version": 1
      }
     },
     "metadata": {
      "scrapbook": {
       "data": true,
       "display": false,
       "name": "ABC-GAN Model 1 Euclidean distance"
      }
     },
     "output_type": "display_data"
    },
    {
     "data": {
      "application/scrapbook.scrap.json+json": {
       "data": [
        [
         0.07920918635945494,
         0.07848733352073099,
         0.09330652642542366,
         0.07002713739736756,
         0.08269624064314847,
         0.07782081430440112,
         0.07594200704993284,
         0.09811270338978355,
         0.08458425752762799,
         0.08579507151650485,
         0.07148958265941946,
         0.07920539521511974,
         0.09304170287355144,
         0.08772774589550122,
         0.08394076483975581,
         0.08410932046410567,
         0.089155013740923,
         0.08309327801223054,
         0.09589105167193179,
         0.07401537103842165,
         0.08401819773323613,
         0.07529624430024642,
         0.08534614285789228,
         0.08423094658580688,
         0.08360571068810473,
         0.09474760603052995,
         0.09114028099731024,
         0.0891986887986232,
         0.08858664203988177,
         0.08549891098997812,
         0.09977945421001162,
         0.07233624036947381,
         0.07678740341751059,
         0.08608132885445006,
         0.0870423291141933,
         0.09036468552686905,
         0.07654128185104613,
         0.08175839970571903,
         0.09018854816503846,
         0.08375707300133661,
         0.0869681803447729,
         0.07990552900350564,
         0.08803865798918743,
         0.08696776020766361,
         0.08567410395302277,
         0.08000272609358103,
         0.07678846381043992,
         0.07651159932316359,
         0.07770029621031403,
         0.07606582469276175,
         0.07774230677776015,
         0.08415534132847698,
         0.07992704831232877,
         0.08523944890756023,
         0.09383138504967836,
         0.08503277241011321,
         0.08771764528553756,
         0.09753978248030366,
         0.09238320924184709,
         0.07800791632571115,
         0.07812402246137982,
         0.08035933445219161,
         0.08030486309672925,
         0.09281658979221212,
         0.07688794282173804,
         0.08046658146285743,
         0.08599844779830586,
         0.07503324217362374,
         0.08148685200050353,
         0.09036703773741493,
         0.08988755625846737,
         0.08282877601342759,
         0.08784855256751012,
         0.08379836677283366,
         0.07678497087944222,
         0.08297105315216842,
         0.09109454540156692,
         0.08005218947923201,
         0.08042356148170594,
         0.0809116448310485,
         0.0898867079991108,
         0.08637359799632156,
         0.08471021222127044,
         0.07629360755178347,
         0.09268938128685562,
         0.08186359439588223,
         0.07698215591121188,
         0.07951919929251017,
         0.07779838378967281,
         0.08500524542490404,
         0.08749727640275093,
         0.0826443019740965,
         0.09555871455278837,
         0.08146514232343681,
         0.08618938510143273,
         0.08525120831472212,
         0.09086154516245311,
         0.08400097255406556,
         0.08079750089239572,
         0.0788253827425334
        ],
        [
         0.21122435003738194,
         0.20181219876908205,
         0.21539985445127183,
         0.19916889095204135,
         0.21016488028872832,
         0.20227433425173455,
         0.2030831845111999,
         0.22785731359366693,
         0.20439692855100422,
         0.2133667227063401,
         0.20015632257084637,
         0.20328855019647116,
         0.22563825936659293,
         0.21851172796724475,
         0.20435719328987248,
         0.21255611111501269,
         0.21955757878501625,
         0.21155905666961974,
         0.22359800778840686,
         0.2064819585933697,
         0.2125821492506885,
         0.2031286970036579,
         0.21712523693328395,
         0.20777106984500207,
         0.21801907749956145,
         0.23015189380841514,
         0.22599973684797683,
         0.22000788511964037,
         0.22190086143639157,
         0.21199065452332005,
         0.23673998767181353,
         0.19629046687965884,
         0.20306713238139362,
         0.21804252502453678,
         0.22360260337225946,
         0.21972327031122119,
         0.19724644886731518,
         0.2052595174378332,
         0.22910133951946215,
         0.21109216724175447,
         0.21050406694777457,
         0.20862669196418104,
         0.2250536387128865,
         0.22196971740135374,
         0.22097960010390072,
         0.2122845570282901,
         0.2088020799827634,
         0.19839660193332853,
         0.204296225846252,
         0.19968650495523915,
         0.20596219535332685,
         0.20063136198430084,
         0.20890577851484218,
         0.21013979692304252,
         0.22252982327093682,
         0.22042192341577188,
         0.2234443203162621,
         0.22031703662565527,
         0.2220218722690262,
         0.20412333548872494,
         0.2045859101538857,
         0.20714838972643895,
         0.21426723146920695,
         0.22549887342999378,
         0.21163341280657286,
         0.20629265774771863,
         0.22612984480299786,
         0.20602006375716597,
         0.21467986724832477,
         0.21827916872194586,
         0.22079540506078332,
         0.21469740823422576,
         0.2204545385149472,
         0.20581035549734153,
         0.2079091482412289,
         0.20973400985274246,
         0.21475555851836414,
         0.21110584398768112,
         0.21357147989100686,
         0.204047352093838,
         0.21838212259771192,
         0.21089464807700292,
         0.21207729202932588,
         0.2022756070592532,
         0.22143059426589923,
         0.2148629572132931,
         0.20442604615042606,
         0.21517263475221163,
         0.21075231846714138,
         0.21238860796552664,
         0.21999537438957714,
         0.21252453288830378,
         0.22761156780681774,
         0.2070746856979003,
         0.21969681161948862,
         0.21256608981639147,
         0.22569721518997468,
         0.2036826024197188,
         0.20410497028234542,
         0.21420647220357375
        ],
        [
         21.544883703812957,
         20.584844274446368,
         21.970785154029727,
         20.315226877108216,
         21.436817789450288,
         20.631982093676925,
         20.71448482014239,
         23.241445986554027,
         20.84848671220243,
         21.76340571604669,
         20.41594490222633,
         20.73543212004006,
         23.01510245539248,
         22.288196252658963,
         20.844433715566993,
         21.680723333731294,
         22.394873036071658,
         21.579023780301213,
         22.8069967944175,
         21.06115977652371,
         21.683379223570228,
         20.719127094373107,
         22.146774167194963,
         21.19264912419021,
         22.237945904955268,
         23.475493168458343,
         23.051973158493638,
         22.440804282203317,
         22.63388786651194,
         21.623046761378646,
         24.14747874252498,
         20.0216276217252,
         20.71284750290215,
         22.24033755250275,
         22.807465543970466,
         22.41177357174456,
         20.119137784466147,
         20.936470778658986,
         23.36833663098514,
         21.531401058658957,
         21.471414828673005,
         21.279922580346465,
         22.955471148714423,
         22.640911174938083,
         22.539919210597873,
         21.65302481688559,
         21.297812158241868,
         20.23645339719951,
         20.838215036317706,
         20.368023505434394,
         21.008143926039338,
         20.464398922398686,
         21.308389408513904,
         21.434259286150336,
         22.698041973635554,
         22.483036188408732,
         22.791320672258735,
         22.472337735816836,
         22.646230971440673,
         20.820580219849944,
         20.86776283569634,
         21.129135752096772,
         21.85525760985911,
         23.000885089859366,
         21.586608106270432,
         21.0418510902673,
         23.06524416990578,
         21.01404650323093,
         21.89734645932913,
         22.264475209638476,
         22.5211313161999,
         21.89913563989103,
         22.486362928524613,
         20.992656260728836,
         21.20673312060535,
         21.39286900497973,
         21.905066968873143,
         21.532796086743474,
         21.7842909488827,
         20.812829913571477,
         22.274976504966617,
         21.5112541038543,
         21.63188378699124,
         20.632111920043826,
         22.585920615121722,
         21.916021635755897,
         20.85145670734346,
         21.947608744725585,
         21.49673648364842,
         21.663638012483716,
         22.43952818773687,
         21.677502354606986,
         23.21637991629541,
         21.121617941185832,
         22.40907478518784,
         21.68174116127193,
         23.021115949377418,
         20.77562544681132,
         20.818706968799233,
         21.849060164764524
        ],
        [
         2.8424174585490434,
         2.8294359895771737,
         3.0850065956806656,
         2.6725957446893256,
         2.9043099947493802,
         2.817396503697858,
         2.7831788873683903,
         3.163462619623934,
         2.937276675394753,
         2.958225362389332,
         2.7003587597318957,
         2.842349435228226,
         3.080625536007622,
         2.9913592364243256,
         2.9260823661775297,
         2.9290187243066197,
         3.015594701145057,
         2.9112736658114975,
         3.1274410099212178,
         2.747647693194855,
         2.9274316676551275,
         2.7713204287171727,
         2.9504756517390565,
         2.9311357102243316,
         2.9202367181765734,
         3.1087386212279173,
         3.048984857575656,
         3.016333247083214,
         3.0059669805352054,
         2.9531151215246867,
         3.1902201067357696,
         2.71630199309398,
         2.798627368655227,
         2.9631563480778245,
         2.979650578448372,
         3.0359838477404066,
         2.7941386416580523,
         2.887794447321925,
         3.0330235595580066,
         2.9228789653586977,
         2.9783811702276854,
         2.854884228538449,
         2.9966553213369593,
         2.9783739760449306,
         2.956139137998805,
         2.8566200415080165,
         2.798646692361305,
         2.7935968089476844,
         2.8152140617459325,
         2.7854468436252198,
         2.8159750161057064,
         2.929819928853077,
         2.855268626216724,
         2.9486308328733095,
         3.0936711646629793,
         2.9450539529576614,
         2.991187025099707,
         3.1542127089007446,
         3.0697047647401536,
         2.8207813572169216,
         2.8228797868596427,
         2.8629795867458685,
         2.8620090908077813,
         3.0768965141527973,
         2.800458920930154,
         2.86488940610479,
         2.9617295074714702,
         2.766476224678177,
         2.8829947804412277,
         3.0360233611117557,
         3.027958179758048,
         2.90663639854895,
         2.993418173574489,
         2.9235993930135216,
         2.7985830396297167,
         2.909131729833007,
         3.048219747813439,
         2.857502988079219,
         2.8641234734441885,
         2.8728013806678225,
         3.027943892463878,
         2.968182439747395,
         2.939462815986892,
         2.78961430493212,
         3.0747872920348938,
         2.889651644814646,
         2.8021741385830414,
         2.847974425418184,
         2.816990441330362,
         2.9445772248898834,
         2.9874273536072122,
         2.903397802809295,
         3.1220167975820394,
         2.882610712009264,
         2.9650155615689666,
         2.9488342184839174,
         3.044318906844389,
         2.92713156528959,
         2.8707743016517973,
         2.8355227101433
        ]
       ],
       "encoder": "json",
       "name": "ABC_GAN_2 Metrics",
       "version": 1
      }
     },
     "metadata": {
      "scrapbook": {
       "data": true,
       "display": false,
       "name": "ABC_GAN_2 Metrics"
      }
     },
     "output_type": "display_data"
    },
    {
     "name": "stdout",
     "output_type": "stream",
     "text": [
      "MAE\n",
      "0.21299632945116245\n"
     ]
    }
   ],
   "source": [
    "ABC_GAN2_metrics=ABC_train_test2.test_generator(gen2,test_data,prior_model,variance,bias,\"1\",device)\n",
    "sb.glue(\"ABC_GAN_2 Metrics\",ABC_GAN2_metrics)\n",
    "\n",
    "print(\"MAE\")\n",
    "print(mean(ABC_GAN2_metrics[1]))"
   ]
  },
  {
   "cell_type": "code",
   "execution_count": 18,
   "id": "2905e4ef",
   "metadata": {
    "execution": {
     "iopub.execute_input": "2022-07-22T20:53:59.122948Z",
     "iopub.status.busy": "2022-07-22T20:53:59.122288Z",
     "iopub.status.idle": "2022-07-22T20:54:00.159623Z",
     "shell.execute_reply": "2022-07-22T20:54:00.158689Z"
    },
    "papermill": {
     "duration": 1.061725,
     "end_time": "2022-07-22T20:54:00.162457",
     "exception": false,
     "start_time": "2022-07-22T20:53:59.100732",
     "status": "completed"
    },
    "tags": []
   },
   "outputs": [
    {
     "data": {
      "image/png": "[encoded data removed]",
      "text/plain": [
       "<Figure size 432x288 with 1 Axes>"
      ]
     },
     "metadata": {
      "needs_background": "light"
     },
     "output_type": "display_data"
    },
    {
     "data": {
      "image/png": "[encoded data removed]",
      "text/plain": [
       "<Figure size 432x288 with 1 Axes>"
      ]
     },
     "metadata": {
      "needs_background": "light"
     },
     "output_type": "display_data"
    },
    {
     "data": {
      "image/png": "[encoded data removed]",
      "text/plain": [
       "<Figure size 432x288 with 1 Axes>"
      ]
     },
     "metadata": {
      "needs_background": "light"
     },
     "output_type": "display_data"
    },
    {
     "data": {
      "image/png": "[encoded data removed]",
      "text/plain": [
       "<Figure size 432x288 with 1 Axes>"
      ]
     },
     "metadata": {
      "needs_background": "light"
     },
     "output_type": "display_data"
    }
   ],
   "source": [
    "sanityChecks.discProbVsError(train_data,disc2,device)\n",
    "sanityChecks.discProbVsError(test_data,disc2,device)"
   ]
  },
  {
   "cell_type": "markdown",
   "id": "130f3a4d",
   "metadata": {
    "id": "130f3a4d",
    "papermill": {
     "duration": 0.017243,
     "end_time": "2022-07-22T20:54:00.197915",
     "exception": false,
     "start_time": "2022-07-22T20:54:00.180672",
     "status": "completed"
    },
    "tags": []
   },
   "source": [
    "# skipGAN Model"
   ]
  },
  {
   "cell_type": "code",
   "execution_count": 19,
   "id": "4e43dad1",
   "metadata": {
    "execution": {
     "iopub.execute_input": "2022-07-22T20:54:00.246862Z",
     "iopub.status.busy": "2022-07-22T20:54:00.246311Z",
     "iopub.status.idle": "2022-07-22T20:54:00.252890Z",
     "shell.execute_reply": "2022-07-22T20:54:00.251176Z"
    },
    "id": "4e43dad1",
    "papermill": {
     "duration": 0.041732,
     "end_time": "2022-07-22T20:54:00.256872",
     "exception": false,
     "start_time": "2022-07-22T20:54:00.215140",
     "status": "completed"
    },
    "tags": []
   },
   "outputs": [],
   "source": [
    "# #Generator\n",
    "# gen3 = network.GeneratorWithSkipConnection(n_features+1).to(device)\n",
    "# constraints=network.weightConstraint()\n",
    "# #Discriminator \n",
    "# disc3 = network.Discriminator(n_features+1).to(device)\n",
    "\n",
    "# criterion = torch.nn.BCELoss()\n",
    "# gen_opt = torch.optim.Adam(gen3.parameters(), lr=0.01, betas=(0.5, 0.999))\n",
    "# disc_opt = torch.optim.Adam(disc3.parameters(), lr=0.01, betas=(0.5, 0.999))\n"
   ]
  },
  {
   "cell_type": "markdown",
   "id": "bc5bf3ef",
   "metadata": {
    "tags": [
     "papermill-error-cell-tag"
    ]
   },
   "source": [
    "<span id=\"papermill-error-cell\" style=\"color:red; font-family:Helvetica Neue, Helvetica, Arial, sans-serif; font-size:2em;\">Execution using papermill encountered an exception here and stopped:</span>"
   ]
  },
  {
   "cell_type": "code",
   "execution_count": 20,
   "id": "26acbc37",
   "metadata": {
    "execution": {
     "iopub.execute_input": "2022-07-22T20:54:00.293365Z",
     "iopub.status.busy": "2022-07-22T20:54:00.293041Z",
     "iopub.status.idle": "2022-07-22T20:54:01.352537Z",
     "shell.execute_reply": "2022-07-22T20:54:01.350754Z"
    },
    "id": "26acbc37",
    "papermill": {
     "duration": 1.080892,
     "end_time": "2022-07-22T20:54:01.355759",
     "exception": true,
     "start_time": "2022-07-22T20:54:00.274867",
     "status": "failed"
    },
    "tags": []
   },
   "outputs": [
    {
     "ename": "NameError",
     "evalue": "name 'disc3' is not defined",
     "output_type": "error",
     "traceback": [
      "\u001b[0;31m---------------------------------------------------------------------------\u001b[0m",
      "\u001b[0;31mNameError\u001b[0m                                 Traceback (most recent call last)",
      "Input \u001b[0;32mIn [20]\u001b[0m, in \u001b[0;36m<cell line: 1>\u001b[0;34m()\u001b[0m\n\u001b[0;32m----> 1\u001b[0m ABC_train_test2\u001b[38;5;241m.\u001b[39mtraining_GAN_skip_connection(\u001b[43mdisc3\u001b[49m,gen3,disc_opt,gen_opt,train_data,batch_size,n_epochs,criterion,prior_model,variance,bias,device)\n",
      "\u001b[0;31mNameError\u001b[0m: name 'disc3' is not defined"
     ]
    }
   ],
   "source": [
    "ABC_train_test2.training_GAN_skip_connection(disc3,gen3,disc_opt,gen_opt,train_data,batch_size,n_epochs,criterion,prior_model,variance,bias,device)"
   ]
  },
  {
   "cell_type": "code",
   "execution_count": null,
   "id": "c5e0717b",
   "metadata": {
    "id": "c5e0717b",
    "papermill": {
     "duration": null,
     "end_time": null,
     "exception": null,
     "start_time": null,
     "status": "pending"
    },
    "tags": []
   },
   "outputs": [],
   "source": [
    "# ABC_GAN3_metrics=ABC_train_test2.test_generator(gen3,test_data,prior_model,variance,bias,\"3\",device)\n",
    "# sb.glue(\"ABC_GAN_3 Metrics\",ABC_GAN3_metrics)\n",
    "\n",
    "# print(\"MAE\")\n",
    "# print(mean(ABC_GAN3_metrics[1]))"
   ]
  },
  {
   "cell_type": "code",
   "execution_count": null,
   "id": "c8e46b48",
   "metadata": {
    "id": "c8e46b48",
    "papermill": {
     "duration": null,
     "end_time": null,
     "exception": null,
     "start_time": null,
     "status": "pending"
    },
    "tags": []
   },
   "outputs": [],
   "source": [
    "# sanityChecks.discProbVsError(train_data,disc3,device)\n",
    "# sanityChecks.discProbVsError(test_data,disc3,device)"
   ]
  },
  {
   "cell_type": "markdown",
   "id": "c54a56fc",
   "metadata": {
    "id": "130f3a4d",
    "papermill": {
     "duration": null,
     "end_time": null,
     "exception": null,
     "start_time": null,
     "status": "pending"
    },
    "tags": []
   },
   "source": [
    "# skipGAN Model with TabNet Generator"
   ]
  },
  {
   "cell_type": "code",
   "execution_count": null,
   "id": "f1f0dc8d",
   "metadata": {
    "id": "4e43dad1",
    "papermill": {
     "duration": null,
     "end_time": null,
     "exception": null,
     "start_time": null,
     "status": "pending"
    },
    "tags": []
   },
   "outputs": [],
   "source": [
    "# #Generator\n",
    "# gen4 = network.GeneratorTabnetskipConnection(n_features+1).to(device)\n",
    "# constraints=network.weightConstraint()\n",
    "# #Discriminator \n",
    "# disc4 = network.Discriminator(n_features+1).to(device)\n",
    "\n",
    "# criterion = torch.nn.BCELoss()\n",
    "# gen_opt = torch.optim.Adam(gen4.parameters(), lr=0.01, betas=(0.5, 0.999))\n",
    "# disc_opt = torch.optim.Adam(disc4.parameters(), lr=0.01, betas=(0.5, 0.999))\n"
   ]
  },
  {
   "cell_type": "code",
   "execution_count": null,
   "id": "2f6b3581",
   "metadata": {
    "id": "26acbc37",
    "papermill": {
     "duration": null,
     "end_time": null,
     "exception": null,
     "start_time": null,
     "status": "pending"
    },
    "tags": []
   },
   "outputs": [],
   "source": [
    "# ABC_train_test2.training_GAN_skip_connection(disc4,gen4,disc_opt,gen_opt,train_data,batch_size,n_epochs,criterion,prior_model,variance,bias,device)"
   ]
  },
  {
   "cell_type": "code",
   "execution_count": null,
   "id": "7143d4bf",
   "metadata": {
    "id": "c5e0717b",
    "papermill": {
     "duration": null,
     "end_time": null,
     "exception": null,
     "start_time": null,
     "status": "pending"
    },
    "tags": []
   },
   "outputs": [],
   "source": [
    "# ABC_GAN4_metrics=ABC_train_test2.test_generator(gen4,test_data,prior_model,variance,bias,\"3\",device)\n",
    "# sb.glue(\"ABC_GAN_4 Metrics\",ABC_GAN4_metrics)\n",
    "\n",
    "# print(\"MAE\")\n",
    "# print(mean(ABC_GAN4_metrics[1]))"
   ]
  },
  {
   "cell_type": "code",
   "execution_count": null,
   "id": "e6fe05bc",
   "metadata": {
    "id": "c8e46b48",
    "papermill": {
     "duration": null,
     "end_time": null,
     "exception": null,
     "start_time": null,
     "status": "pending"
    },
    "tags": []
   },
   "outputs": [],
   "source": [
    "# sanityChecks.discProbVsError(train_data,disc4,device)\n",
    "# sanityChecks.discProbVsError(test_data,disc4,device)"
   ]
  },
  {
   "cell_type": "markdown",
   "id": "a5bd74c3",
   "metadata": {
    "id": "a5bd74c3",
    "papermill": {
     "duration": null,
     "end_time": null,
     "exception": null,
     "start_time": null,
     "status": "pending"
    },
    "tags": []
   },
   "source": [
    "## Skip Connection Model Analysis - ABC-GAN "
   ]
  },
  {
   "cell_type": "markdown",
   "id": "5744a8bf",
   "metadata": {
    "id": "5744a8bf",
    "papermill": {
     "duration": null,
     "end_time": null,
     "exception": null,
     "start_time": null,
     "status": "pending"
    },
    "tags": []
   },
   "source": [
    "### Weight Analysis \n",
    "\n",
    "Study the weights of the skip connection layer\n",
    "\n",
    "Equation of the skip connection is \n",
    "\n",
    "$output = y_{gan} * w + y_{abc} * (1-w)$"
   ]
  },
  {
   "cell_type": "code",
   "execution_count": null,
   "id": "52c31dea",
   "metadata": {
    "id": "52c31dea",
    "papermill": {
     "duration": null,
     "end_time": null,
     "exception": null,
     "start_time": null,
     "status": "pending"
    },
    "tags": []
   },
   "outputs": [],
   "source": [
    "# print(\"Weight of the node at skip connection\")\n",
    "# for name,param in gen3.named_parameters():\n",
    "#     if(name == \"skipNode.weight\"):\n",
    "#         print(param)\n",
    "#         sb.glue(\"Skip Connection Weight\",param.item())"
   ]
  },
  {
   "cell_type": "markdown",
   "id": "dc48ae82",
   "metadata": {
    "id": "a5bd74c3",
    "papermill": {
     "duration": null,
     "end_time": null,
     "exception": null,
     "start_time": null,
     "status": "pending"
    },
    "tags": []
   },
   "source": [
    "## skipGAN Model Analysis (TabNet Generator) "
   ]
  },
  {
   "cell_type": "markdown",
   "id": "f2f67600",
   "metadata": {
    "id": "5744a8bf",
    "papermill": {
     "duration": null,
     "end_time": null,
     "exception": null,
     "start_time": null,
     "status": "pending"
    },
    "tags": []
   },
   "source": [
    "### Weight Analysis \n",
    "\n",
    "Study the weights of the skip connection layer\n",
    "\n",
    "Equation of the skip connection is \n",
    "\n",
    "$output = y_{gan} * w + y_{abc} * (1-w)$"
   ]
  },
  {
   "cell_type": "code",
   "execution_count": null,
   "id": "9114bb94",
   "metadata": {
    "id": "52c31dea",
    "papermill": {
     "duration": null,
     "end_time": null,
     "exception": null,
     "start_time": null,
     "status": "pending"
    },
    "tags": []
   },
   "outputs": [],
   "source": [
    "# print(\"Weight of the node at skip connection\")\n",
    "# for name,param in gen4.named_parameters():\n",
    "#     if(name == \"skipNode.weight\"):\n",
    "#         print(param)\n",
    "#         sb.glue(\"Skip Connection Weight\",param.item())"
   ]
  }
 ],
 "metadata": {
  "colab": {
   "collapsed_sections": [],
   "name": "ABC_GAN_Model-Catboost_Pre-gen.ipynb",
   "provenance": []
  },
  "interpreter": {
   "hash": "31f2aee4e71d21fbe5cf8b01ff0e069b9275f58929596ceb00d14d90e3e16cd6"
  },
  "kernelspec": {
   "display_name": "Python 3 (ipykernel)",
   "language": "python",
   "name": "python3"
  },
  "language_info": {
   "codemirror_mode": {
    "name": "ipython",
    "version": 3
   },
   "file_extension": ".py",
   "mimetype": "text/x-python",
   "name": "python",
   "nbconvert_exporter": "python",
   "pygments_lexer": "ipython3",
   "version": "3.8.13"
  },
  "papermill": {
   "default_parameters": {},
   "duration": 652.690311,
   "end_time": "2022-07-22T20:54:02.272721",
   "environment_variables": {},
   "exception": true,
   "input_path": "ABC_GAN-Catboost.ipynb",
   "output_path": "./ABC_GAN_Catboost/ABC-GAN_output_2_4.ipynb",
   "parameters": {
    "bias": 0.1,
    "variance": 0.1
   },
   "start_time": "2022-07-22T20:43:09.582410",
   "version": "2.3.3"
  }
 },
 "nbformat": 4,
 "nbformat_minor": 5
}