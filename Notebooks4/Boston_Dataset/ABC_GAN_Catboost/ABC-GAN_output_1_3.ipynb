{
 "cells": [
  {
   "cell_type": "markdown",
   "id": "2648a5a8",
   "metadata": {
    "tags": [
     "papermill-error-cell-tag"
    ]
   },
   "source": [
    "<span style=\"color:red; font-family:Helvetica Neue, Helvetica, Arial, sans-serif; font-size:2em;\">An Exception was encountered at '<a href=\"#papermill-error-cell\">In [20]</a>'.</span>"
   ]
  },
  {
   "cell_type": "markdown",
   "id": "622780e6",
   "metadata": {
    "id": "622780e6",
    "papermill": {
     "duration": 0.010256,
     "end_time": "2022-07-22T18:20:32.783769",
     "exception": false,
     "start_time": "2022-07-22T18:20:32.773513",
     "status": "completed"
    },
    "tags": []
   },
   "source": [
    "## Import Libraries "
   ]
  },
  {
   "cell_type": "code",
   "execution_count": 1,
   "id": "a62397e3",
   "metadata": {
    "execution": {
     "iopub.execute_input": "2022-07-22T18:20:32.814061Z",
     "iopub.status.busy": "2022-07-22T18:20:32.808627Z",
     "iopub.status.idle": "2022-07-22T18:20:32.840200Z",
     "shell.execute_reply": "2022-07-22T18:20:32.830807Z"
    },
    "id": "a62397e3",
    "papermill": {
     "duration": 0.073439,
     "end_time": "2022-07-22T18:20:32.865139",
     "exception": false,
     "start_time": "2022-07-22T18:20:32.791700",
     "status": "completed"
    },
    "tags": []
   },
   "outputs": [],
   "source": [
    "import warnings\n",
    "import sys\n",
    "sys.path.insert(0, '../../src')\n",
    "warnings.filterwarnings('ignore')"
   ]
  },
  {
   "cell_type": "code",
   "execution_count": 2,
   "id": "d6a4e155",
   "metadata": {
    "execution": {
     "iopub.execute_input": "2022-07-22T18:20:32.888121Z",
     "iopub.status.busy": "2022-07-22T18:20:32.887269Z",
     "iopub.status.idle": "2022-07-22T18:20:39.061642Z",
     "shell.execute_reply": "2022-07-22T18:20:39.060156Z"
    },
    "id": "d6a4e155",
    "papermill": {
     "duration": 6.192646,
     "end_time": "2022-07-22T18:20:39.064866",
     "exception": false,
     "start_time": "2022-07-22T18:20:32.872220",
     "status": "completed"
    },
    "tags": []
   },
   "outputs": [],
   "source": [
    "import ABC_train_test2\n",
    "import bostonDataset\n",
    "import network\n",
    "import dataset\n",
    "import sanityChecks\n",
    "import torch \n",
    "import scrapbook as sb\n",
    "from statistics import mean \n",
    "import catboost as ctb \n",
    "from sklearn.model_selection import train_test_split\n",
    "from sklearn.metrics import mean_squared_error,mean_absolute_error\n",
    "import numpy as np"
   ]
  },
  {
   "cell_type": "markdown",
   "id": "2fa5b0f7",
   "metadata": {
    "id": "2fa5b0f7",
    "papermill": {
     "duration": 0.021196,
     "end_time": "2022-07-22T18:20:39.094007",
     "exception": false,
     "start_time": "2022-07-22T18:20:39.072811",
     "status": "completed"
    },
    "tags": []
   },
   "source": [
    "## Parameters "
   ]
  },
  {
   "cell_type": "code",
   "execution_count": 3,
   "id": "783186fb",
   "metadata": {
    "execution": {
     "iopub.execute_input": "2022-07-22T18:20:39.120464Z",
     "iopub.status.busy": "2022-07-22T18:20:39.118438Z",
     "iopub.status.idle": "2022-07-22T18:20:39.127486Z",
     "shell.execute_reply": "2022-07-22T18:20:39.124906Z"
    },
    "id": "783186fb",
    "papermill": {
     "duration": 0.031237,
     "end_time": "2022-07-22T18:20:39.134994",
     "exception": false,
     "start_time": "2022-07-22T18:20:39.103757",
     "status": "completed"
    },
    "tags": [
     "parameters"
    ]
   },
   "outputs": [],
   "source": [
    "variance = 1\n",
    "bias = 1 "
   ]
  },
  {
   "cell_type": "code",
   "execution_count": 4,
   "id": "b88304a1",
   "metadata": {
    "execution": {
     "iopub.execute_input": "2022-07-22T18:20:39.170714Z",
     "iopub.status.busy": "2022-07-22T18:20:39.170070Z",
     "iopub.status.idle": "2022-07-22T18:20:39.182076Z",
     "shell.execute_reply": "2022-07-22T18:20:39.180895Z"
    },
    "papermill": {
     "duration": 0.037782,
     "end_time": "2022-07-22T18:20:39.189358",
     "exception": false,
     "start_time": "2022-07-22T18:20:39.151576",
     "status": "completed"
    },
    "tags": [
     "injected-parameters"
    ]
   },
   "outputs": [],
   "source": [
    "# Parameters\n",
    "variance = 1\n",
    "bias = 0.1\n"
   ]
  },
  {
   "cell_type": "markdown",
   "id": "391cdbfd",
   "metadata": {
    "id": "391cdbfd",
    "papermill": {
     "duration": 0.043026,
     "end_time": "2022-07-22T18:20:39.241169",
     "exception": false,
     "start_time": "2022-07-22T18:20:39.198143",
     "status": "completed"
    },
    "tags": []
   },
   "source": [
    "## Dataset \n"
   ]
  },
  {
   "cell_type": "code",
   "execution_count": 5,
   "id": "5b51f161",
   "metadata": {
    "execution": {
     "iopub.execute_input": "2022-07-22T18:20:39.273026Z",
     "iopub.status.busy": "2022-07-22T18:20:39.266538Z",
     "iopub.status.idle": "2022-07-22T18:20:39.286237Z",
     "shell.execute_reply": "2022-07-22T18:20:39.283596Z"
    },
    "id": "5b51f161",
    "papermill": {
     "duration": 0.044895,
     "end_time": "2022-07-22T18:20:39.294132",
     "exception": false,
     "start_time": "2022-07-22T18:20:39.249237",
     "status": "completed"
    },
    "tags": []
   },
   "outputs": [],
   "source": [
    "#Parameters \n",
    "n_features = 13\n",
    "n_samples= 506\n",
    "n_target = 1 "
   ]
  },
  {
   "cell_type": "code",
   "execution_count": 6,
   "id": "5d6eced4",
   "metadata": {
    "execution": {
     "iopub.execute_input": "2022-07-22T18:20:39.316079Z",
     "iopub.status.busy": "2022-07-22T18:20:39.315380Z",
     "iopub.status.idle": "2022-07-22T18:20:39.374231Z",
     "shell.execute_reply": "2022-07-22T18:20:39.371408Z"
    },
    "id": "5d6eced4",
    "papermill": {
     "duration": 0.088077,
     "end_time": "2022-07-22T18:20:39.391440",
     "exception": false,
     "start_time": "2022-07-22T18:20:39.303363",
     "status": "completed"
    },
    "tags": []
   },
   "outputs": [
    {
     "name": "stdout",
     "output_type": "stream",
     "text": [
      "         X1        X2        X3        X4        X5        X6        X7  \\\n",
      "0 -0.419782  0.284830 -1.287909 -0.272599 -0.144217  0.413672 -0.120013   \n",
      "1 -0.417339 -0.487722 -0.593381 -0.272599 -0.740262  0.194274  0.367166   \n",
      "2 -0.417342 -0.487722 -0.593381 -0.272599 -0.740262  1.282714 -0.265812   \n",
      "3 -0.416750 -0.487722 -1.306878 -0.272599 -0.835284  1.016303 -0.809889   \n",
      "4 -0.412482 -0.487722 -1.306878 -0.272599 -0.835284  1.228577 -0.511180   \n",
      "\n",
      "         X8        X9       X10       X11       X12       X13         Y  \n",
      "0  0.140214 -0.982843 -0.666608 -1.459000  0.441052 -1.075562  0.159686  \n",
      "1  0.557160 -0.867883 -0.987329 -0.303094  0.441052 -0.492439 -0.101524  \n",
      "2  0.557160 -0.867883 -0.987329 -0.303094  0.396427 -1.208727  1.324247  \n",
      "3  1.077737 -0.752922 -1.106115  0.113032  0.416163 -1.361517  1.182758  \n",
      "4  1.077737 -0.752922 -1.106115  0.113032  0.441052 -1.026501  1.487503  \n"
     ]
    }
   ],
   "source": [
    "X,Y = bostonDataset.boston_data()"
   ]
  },
  {
   "cell_type": "code",
   "execution_count": 7,
   "id": "fe007438",
   "metadata": {
    "execution": {
     "iopub.execute_input": "2022-07-22T18:20:39.414566Z",
     "iopub.status.busy": "2022-07-22T18:20:39.414203Z",
     "iopub.status.idle": "2022-07-22T18:20:39.420358Z",
     "shell.execute_reply": "2022-07-22T18:20:39.419334Z"
    },
    "id": "fe007438",
    "papermill": {
     "duration": 0.026709,
     "end_time": "2022-07-22T18:20:39.427525",
     "exception": false,
     "start_time": "2022-07-22T18:20:39.400816",
     "status": "completed"
    },
    "tags": []
   },
   "outputs": [],
   "source": [
    "#Train test split for dataset \n",
    "X_train,X_test,Y_train,Y_test = train_test_split(X,Y,test_size = 0.2)\n",
    "train_data = dataset.CustomDataset(X_train,Y_train)\n",
    "test_data = dataset.CustomDataset(X_test,Y_test)\n"
   ]
  },
  {
   "cell_type": "markdown",
   "id": "a9a1af34",
   "metadata": {
    "id": "a9a1af34",
    "papermill": {
     "duration": 0.012419,
     "end_time": "2022-07-22T18:20:39.447824",
     "exception": false,
     "start_time": "2022-07-22T18:20:39.435405",
     "status": "completed"
    },
    "tags": []
   },
   "source": [
    "## Training Parameters "
   ]
  },
  {
   "cell_type": "code",
   "execution_count": 8,
   "id": "952b7fc8",
   "metadata": {
    "execution": {
     "iopub.execute_input": "2022-07-22T18:20:39.489828Z",
     "iopub.status.busy": "2022-07-22T18:20:39.489347Z",
     "iopub.status.idle": "2022-07-22T18:20:39.494711Z",
     "shell.execute_reply": "2022-07-22T18:20:39.493852Z"
    },
    "id": "952b7fc8",
    "papermill": {
     "duration": 0.021935,
     "end_time": "2022-07-22T18:20:39.498514",
     "exception": false,
     "start_time": "2022-07-22T18:20:39.476579",
     "status": "completed"
    },
    "tags": []
   },
   "outputs": [],
   "source": [
    "batch_size = 32\n",
    "n_epochs = 1000\n",
    "#Select the device \n",
    "device = torch.device('cuda' if torch.cuda.is_available() else 'cpu')"
   ]
  },
  {
   "cell_type": "markdown",
   "id": "a95e1600",
   "metadata": {
    "id": "a95e1600",
    "papermill": {
     "duration": 0.037718,
     "end_time": "2022-07-22T18:20:39.544447",
     "exception": false,
     "start_time": "2022-07-22T18:20:39.506729",
     "status": "completed"
    },
    "tags": []
   },
   "source": [
    "# ABC Pre-generator Model \n",
    "\n",
    "1. The catboost model is used as a pre-generator model for the ABC-GAN. \n",
    "2. The model is first trained on the entire dataset \n",
    "3. It generats X,Y pairs and we add some Gaussian noise with mean 0 and variance 1 to it which is then feed as input to the generator.\n"
   ]
  },
  {
   "cell_type": "code",
   "execution_count": 9,
   "id": "ff8ce7bd",
   "metadata": {
    "execution": {
     "iopub.execute_input": "2022-07-22T18:20:39.587693Z",
     "iopub.status.busy": "2022-07-22T18:20:39.586374Z",
     "iopub.status.idle": "2022-07-22T18:20:43.375996Z",
     "shell.execute_reply": "2022-07-22T18:20:43.375274Z"
    },
    "id": "ff8ce7bd",
    "papermill": {
     "duration": 3.823581,
     "end_time": "2022-07-22T18:20:43.378770",
     "exception": false,
     "start_time": "2022-07-22T18:20:39.555189",
     "status": "completed"
    },
    "tags": []
   },
   "outputs": [
    {
     "name": "stdout",
     "output_type": "stream",
     "text": [
      "Learning rate set to 0.03548\n",
      "0:\tlearn: 0.9565003\ttotal: 67.8ms\tremaining: 1m 7s\n",
      "1:\tlearn: 0.9350875\ttotal: 72.1ms\tremaining: 36s\n",
      "2:\tlearn: 0.9133232\ttotal: 75.5ms\tremaining: 25.1s\n",
      "3:\tlearn: 0.8955702\ttotal: 77.9ms\tremaining: 19.4s\n",
      "4:\tlearn: 0.8786066\ttotal: 81.1ms\tremaining: 16.1s\n",
      "5:\tlearn: 0.8611628\ttotal: 83.4ms\tremaining: 13.8s\n",
      "6:\tlearn: 0.8456110\ttotal: 86ms\tremaining: 12.2s\n",
      "7:\tlearn: 0.8306118\ttotal: 87.8ms\tremaining: 10.9s\n",
      "8:\tlearn: 0.8157598\ttotal: 89.5ms\tremaining: 9.85s\n",
      "9:\tlearn: 0.7996693\ttotal: 91.4ms\tremaining: 9.04s\n",
      "10:\tlearn: 0.7838194\ttotal: 94.1ms\tremaining: 8.46s\n",
      "11:\tlearn: 0.7705039\ttotal: 96.7ms\tremaining: 7.96s\n",
      "12:\tlearn: 0.7549618\ttotal: 99.1ms\tremaining: 7.53s\n",
      "13:\tlearn: 0.7400857\ttotal: 102ms\tremaining: 7.16s\n",
      "14:\tlearn: 0.7270017\ttotal: 104ms\tremaining: 6.84s\n",
      "15:\tlearn: 0.7133780\ttotal: 107ms\tremaining: 6.56s\n",
      "16:\tlearn: 0.7019019\ttotal: 109ms\tremaining: 6.32s\n",
      "17:\tlearn: 0.6892825\ttotal: 112ms\tremaining: 6.09s\n",
      "18:\tlearn: 0.6777922\ttotal: 114ms\tremaining: 5.88s\n",
      "19:\tlearn: 0.6650571\ttotal: 116ms\tremaining: 5.69s\n",
      "20:\tlearn: 0.6524308\ttotal: 118ms\tremaining: 5.5s\n",
      "21:\tlearn: 0.6424781\ttotal: 120ms\tremaining: 5.32s\n",
      "22:\tlearn: 0.6325181\ttotal: 122ms\tremaining: 5.16s\n",
      "23:\tlearn: 0.6233520\ttotal: 123ms\tremaining: 5.01s\n",
      "24:\tlearn: 0.6134668\ttotal: 125ms\tremaining: 4.88s\n",
      "25:\tlearn: 0.6038154\ttotal: 127ms\tremaining: 4.75s\n",
      "26:\tlearn: 0.5951752\ttotal: 129ms\tremaining: 4.65s\n",
      "27:\tlearn: 0.5861372\ttotal: 131ms\tremaining: 4.55s\n",
      "28:\tlearn: 0.5765633\ttotal: 133ms\tremaining: 4.46s\n",
      "29:\tlearn: 0.5664826\ttotal: 135ms\tremaining: 4.37s\n",
      "30:\tlearn: 0.5568440\ttotal: 137ms\tremaining: 4.29s\n",
      "31:\tlearn: 0.5489190\ttotal: 140ms\tremaining: 4.23s\n",
      "32:\tlearn: 0.5421176\ttotal: 142ms\tremaining: 4.17s\n",
      "33:\tlearn: 0.5350788\ttotal: 145ms\tremaining: 4.12s\n",
      "34:\tlearn: 0.5281186\ttotal: 147ms\tremaining: 4.06s\n",
      "35:\tlearn: 0.5210561\ttotal: 150ms\tremaining: 4.02s\n",
      "36:\tlearn: 0.5149100\ttotal: 153ms\tremaining: 3.97s\n",
      "37:\tlearn: 0.5084950\ttotal: 155ms\tremaining: 3.93s\n",
      "38:\tlearn: 0.5015744\ttotal: 158ms\tremaining: 3.89s\n",
      "39:\tlearn: 0.4945225\ttotal: 160ms\tremaining: 3.85s\n",
      "40:\tlearn: 0.4884198\ttotal: 162ms\tremaining: 3.79s\n",
      "41:\tlearn: 0.4808421\ttotal: 164ms\tremaining: 3.73s\n",
      "42:\tlearn: 0.4753268\ttotal: 165ms\tremaining: 3.68s\n",
      "43:\tlearn: 0.4700854\ttotal: 167ms\tremaining: 3.63s\n",
      "44:\tlearn: 0.4645478\ttotal: 169ms\tremaining: 3.58s\n",
      "45:\tlearn: 0.4584830\ttotal: 172ms\tremaining: 3.56s\n",
      "46:\tlearn: 0.4524075\ttotal: 174ms\tremaining: 3.53s\n"
     ]
    },
    {
     "name": "stdout",
     "output_type": "stream",
     "text": [
      "47:\tlearn: 0.4472163\ttotal: 177ms\tremaining: 3.51s\n",
      "48:\tlearn: 0.4414494\ttotal: 179ms\tremaining: 3.48s\n",
      "49:\tlearn: 0.4367806\ttotal: 182ms\tremaining: 3.45s\n",
      "50:\tlearn: 0.4311222\ttotal: 184ms\tremaining: 3.43s\n",
      "51:\tlearn: 0.4255729\ttotal: 186ms\tremaining: 3.4s\n",
      "52:\tlearn: 0.4206850\ttotal: 189ms\tremaining: 3.37s\n",
      "53:\tlearn: 0.4173313\ttotal: 191ms\tremaining: 3.34s\n",
      "54:\tlearn: 0.4128277\ttotal: 193ms\tremaining: 3.32s\n",
      "55:\tlearn: 0.4095554\ttotal: 196ms\tremaining: 3.3s\n",
      "56:\tlearn: 0.4054082\ttotal: 198ms\tremaining: 3.28s\n",
      "57:\tlearn: 0.4012688\ttotal: 200ms\tremaining: 3.25s\n",
      "58:\tlearn: 0.3982067\ttotal: 202ms\tremaining: 3.23s\n",
      "59:\tlearn: 0.3935937\ttotal: 205ms\tremaining: 3.22s\n",
      "60:\tlearn: 0.3892425\ttotal: 207ms\tremaining: 3.19s\n",
      "61:\tlearn: 0.3859946\ttotal: 209ms\tremaining: 3.17s\n",
      "62:\tlearn: 0.3833588\ttotal: 211ms\tremaining: 3.14s\n",
      "63:\tlearn: 0.3800192\ttotal: 213ms\tremaining: 3.12s\n",
      "64:\tlearn: 0.3776115\ttotal: 215ms\tremaining: 3.1s\n",
      "65:\tlearn: 0.3746335\ttotal: 217ms\tremaining: 3.07s\n",
      "66:\tlearn: 0.3712426\ttotal: 219ms\tremaining: 3.05s\n",
      "67:\tlearn: 0.3682321\ttotal: 222ms\tremaining: 3.04s\n",
      "68:\tlearn: 0.3653555\ttotal: 224ms\tremaining: 3.02s\n",
      "69:\tlearn: 0.3623030\ttotal: 227ms\tremaining: 3.01s\n",
      "70:\tlearn: 0.3584504\ttotal: 230ms\tremaining: 3s\n",
      "71:\tlearn: 0.3551613\ttotal: 232ms\tremaining: 2.99s\n",
      "72:\tlearn: 0.3524553\ttotal: 235ms\tremaining: 2.98s\n",
      "73:\tlearn: 0.3493487\ttotal: 238ms\tremaining: 2.98s\n",
      "74:\tlearn: 0.3470367\ttotal: 241ms\tremaining: 2.97s\n",
      "75:\tlearn: 0.3443002\ttotal: 242ms\tremaining: 2.95s\n",
      "76:\tlearn: 0.3410507\ttotal: 244ms\tremaining: 2.93s\n",
      "77:\tlearn: 0.3381099\ttotal: 247ms\tremaining: 2.92s\n",
      "78:\tlearn: 0.3347689\ttotal: 249ms\tremaining: 2.9s\n",
      "79:\tlearn: 0.3325327\ttotal: 250ms\tremaining: 2.88s\n",
      "80:\tlearn: 0.3304894\ttotal: 253ms\tremaining: 2.87s\n",
      "81:\tlearn: 0.3283608\ttotal: 255ms\tremaining: 2.86s\n",
      "82:\tlearn: 0.3264950\ttotal: 257ms\tremaining: 2.84s\n",
      "83:\tlearn: 0.3241453\ttotal: 259ms\tremaining: 2.83s\n",
      "84:\tlearn: 0.3223898\ttotal: 261ms\tremaining: 2.81s\n",
      "85:\tlearn: 0.3202888\ttotal: 264ms\tremaining: 2.8s\n",
      "86:\tlearn: 0.3189448\ttotal: 266ms\tremaining: 2.79s\n",
      "87:\tlearn: 0.3167546\ttotal: 269ms\tremaining: 2.79s\n",
      "88:\tlearn: 0.3146375\ttotal: 272ms\tremaining: 2.78s\n",
      "89:\tlearn: 0.3121070\ttotal: 274ms\tremaining: 2.77s\n",
      "90:\tlearn: 0.3102569\ttotal: 277ms\tremaining: 2.77s\n",
      "91:\tlearn: 0.3083519\ttotal: 279ms\tremaining: 2.76s\n",
      "92:\tlearn: 0.3068616\ttotal: 282ms\tremaining: 2.75s\n",
      "93:\tlearn: 0.3046986\ttotal: 285ms\tremaining: 2.74s\n",
      "94:\tlearn: 0.3028176\ttotal: 287ms\tremaining: 2.73s\n",
      "95:\tlearn: 0.3013579\ttotal: 290ms\tremaining: 2.73s\n",
      "96:\tlearn: 0.2998906\ttotal: 293ms\tremaining: 2.72s\n",
      "97:\tlearn: 0.2982339\ttotal: 301ms\tremaining: 2.77s\n",
      "98:\tlearn: 0.2967587\ttotal: 304ms\tremaining: 2.77s\n",
      "99:\tlearn: 0.2950485\ttotal: 306ms\tremaining: 2.76s\n",
      "100:\tlearn: 0.2940435\ttotal: 309ms\tremaining: 2.75s\n",
      "101:\tlearn: 0.2917961\ttotal: 312ms\tremaining: 2.74s\n",
      "102:\tlearn: 0.2905415\ttotal: 314ms\tremaining: 2.73s\n",
      "103:\tlearn: 0.2895031\ttotal: 317ms\tremaining: 2.73s\n",
      "104:\tlearn: 0.2879183\ttotal: 319ms\tremaining: 2.72s\n",
      "105:\tlearn: 0.2859870\ttotal: 322ms\tremaining: 2.71s\n",
      "106:\tlearn: 0.2844984\ttotal: 324ms\tremaining: 2.7s\n",
      "107:\tlearn: 0.2824646\ttotal: 326ms\tremaining: 2.7s\n",
      "108:\tlearn: 0.2811301\ttotal: 329ms\tremaining: 2.69s\n",
      "109:\tlearn: 0.2800806\ttotal: 332ms\tremaining: 2.68s\n",
      "110:\tlearn: 0.2787047\ttotal: 334ms\tremaining: 2.68s\n",
      "111:\tlearn: 0.2777113\ttotal: 337ms\tremaining: 2.67s\n",
      "112:\tlearn: 0.2759895\ttotal: 340ms\tremaining: 2.67s\n",
      "113:\tlearn: 0.2748811\ttotal: 342ms\tremaining: 2.66s\n"
     ]
    },
    {
     "name": "stdout",
     "output_type": "stream",
     "text": [
      "114:\tlearn: 0.2737944\ttotal: 345ms\tremaining: 2.65s\n",
      "115:\tlearn: 0.2726417\ttotal: 349ms\tremaining: 2.66s\n",
      "116:\tlearn: 0.2712834\ttotal: 351ms\tremaining: 2.65s\n",
      "117:\tlearn: 0.2694984\ttotal: 354ms\tremaining: 2.64s\n",
      "118:\tlearn: 0.2680751\ttotal: 356ms\tremaining: 2.64s\n",
      "119:\tlearn: 0.2672586\ttotal: 359ms\tremaining: 2.63s\n",
      "120:\tlearn: 0.2659905\ttotal: 362ms\tremaining: 2.63s\n",
      "121:\tlearn: 0.2649900\ttotal: 365ms\tremaining: 2.62s\n",
      "122:\tlearn: 0.2640561\ttotal: 367ms\tremaining: 2.62s\n",
      "123:\tlearn: 0.2624123\ttotal: 369ms\tremaining: 2.61s\n",
      "124:\tlearn: 0.2613761\ttotal: 372ms\tremaining: 2.6s\n",
      "125:\tlearn: 0.2601099\ttotal: 375ms\tremaining: 2.6s\n",
      "126:\tlearn: 0.2590075\ttotal: 377ms\tremaining: 2.59s\n",
      "127:\tlearn: 0.2579589\ttotal: 380ms\tremaining: 2.59s\n",
      "128:\tlearn: 0.2568463\ttotal: 383ms\tremaining: 2.58s\n",
      "129:\tlearn: 0.2560289\ttotal: 385ms\tremaining: 2.58s\n",
      "130:\tlearn: 0.2547782\ttotal: 387ms\tremaining: 2.57s\n",
      "131:\tlearn: 0.2537642\ttotal: 390ms\tremaining: 2.56s\n",
      "132:\tlearn: 0.2531158\ttotal: 392ms\tremaining: 2.55s\n",
      "133:\tlearn: 0.2520959\ttotal: 394ms\tremaining: 2.55s\n",
      "134:\tlearn: 0.2511896\ttotal: 396ms\tremaining: 2.54s\n",
      "135:\tlearn: 0.2503122\ttotal: 399ms\tremaining: 2.53s\n",
      "136:\tlearn: 0.2495346\ttotal: 406ms\tremaining: 2.56s\n",
      "137:\tlearn: 0.2487879\ttotal: 427ms\tremaining: 2.67s\n",
      "138:\tlearn: 0.2480221\ttotal: 476ms\tremaining: 2.95s\n",
      "139:\tlearn: 0.2470276\ttotal: 527ms\tremaining: 3.24s\n",
      "140:\tlearn: 0.2462226\ttotal: 530ms\tremaining: 3.23s\n",
      "141:\tlearn: 0.2453254\ttotal: 532ms\tremaining: 3.21s\n"
     ]
    },
    {
     "name": "stdout",
     "output_type": "stream",
     "text": [
      "142:\tlearn: 0.2442100\ttotal: 537ms\tremaining: 3.22s\n",
      "143:\tlearn: 0.2432654\ttotal: 547ms\tremaining: 3.25s\n",
      "144:\tlearn: 0.2424582\ttotal: 553ms\tremaining: 3.26s\n",
      "145:\tlearn: 0.2411830\ttotal: 555ms\tremaining: 3.25s\n",
      "146:\tlearn: 0.2408012\ttotal: 558ms\tremaining: 3.24s\n",
      "147:\tlearn: 0.2397317\ttotal: 561ms\tremaining: 3.23s\n",
      "148:\tlearn: 0.2392311\ttotal: 563ms\tremaining: 3.22s\n",
      "149:\tlearn: 0.2383794\ttotal: 566ms\tremaining: 3.21s\n",
      "150:\tlearn: 0.2372811\ttotal: 569ms\tremaining: 3.2s\n",
      "151:\tlearn: 0.2364783\ttotal: 572ms\tremaining: 3.19s\n",
      "152:\tlearn: 0.2356496\ttotal: 574ms\tremaining: 3.18s\n",
      "153:\tlearn: 0.2350904\ttotal: 583ms\tremaining: 3.21s\n",
      "154:\tlearn: 0.2340345\ttotal: 591ms\tremaining: 3.22s\n",
      "155:\tlearn: 0.2331920\ttotal: 594ms\tremaining: 3.21s\n",
      "156:\tlearn: 0.2324834\ttotal: 596ms\tremaining: 3.2s\n",
      "157:\tlearn: 0.2317697\ttotal: 599ms\tremaining: 3.19s\n",
      "158:\tlearn: 0.2310205\ttotal: 601ms\tremaining: 3.18s\n",
      "159:\tlearn: 0.2302817\ttotal: 604ms\tremaining: 3.17s\n",
      "160:\tlearn: 0.2295778\ttotal: 606ms\tremaining: 3.16s\n",
      "161:\tlearn: 0.2288376\ttotal: 609ms\tremaining: 3.15s\n",
      "162:\tlearn: 0.2284996\ttotal: 611ms\tremaining: 3.14s\n",
      "163:\tlearn: 0.2278855\ttotal: 614ms\tremaining: 3.13s\n",
      "164:\tlearn: 0.2270818\ttotal: 649ms\tremaining: 3.28s\n",
      "165:\tlearn: 0.2263211\ttotal: 651ms\tremaining: 3.27s\n",
      "166:\tlearn: 0.2255355\ttotal: 654ms\tremaining: 3.26s\n",
      "167:\tlearn: 0.2246164\ttotal: 656ms\tremaining: 3.25s\n",
      "168:\tlearn: 0.2240854\ttotal: 659ms\tremaining: 3.24s\n",
      "169:\tlearn: 0.2234601\ttotal: 662ms\tremaining: 3.23s\n",
      "170:\tlearn: 0.2230049\ttotal: 664ms\tremaining: 3.22s\n",
      "171:\tlearn: 0.2224961\ttotal: 667ms\tremaining: 3.21s\n",
      "172:\tlearn: 0.2218847\ttotal: 670ms\tremaining: 3.2s\n",
      "173:\tlearn: 0.2213069\ttotal: 672ms\tremaining: 3.19s\n",
      "174:\tlearn: 0.2206237\ttotal: 676ms\tremaining: 3.19s\n",
      "175:\tlearn: 0.2201281\ttotal: 678ms\tremaining: 3.17s\n",
      "176:\tlearn: 0.2196850\ttotal: 680ms\tremaining: 3.16s\n",
      "177:\tlearn: 0.2189966\ttotal: 683ms\tremaining: 3.15s\n",
      "178:\tlearn: 0.2183788\ttotal: 685ms\tremaining: 3.14s\n",
      "179:\tlearn: 0.2178338\ttotal: 687ms\tremaining: 3.13s\n",
      "180:\tlearn: 0.2170318\ttotal: 690ms\tremaining: 3.12s\n",
      "181:\tlearn: 0.2161454\ttotal: 692ms\tremaining: 3.11s\n",
      "182:\tlearn: 0.2153222\ttotal: 694ms\tremaining: 3.1s\n",
      "183:\tlearn: 0.2147427\ttotal: 697ms\tremaining: 3.09s\n"
     ]
    },
    {
     "name": "stdout",
     "output_type": "stream",
     "text": [
      "184:\tlearn: 0.2142674\ttotal: 699ms\tremaining: 3.08s\n",
      "185:\tlearn: 0.2138306\ttotal: 702ms\tremaining: 3.07s\n",
      "186:\tlearn: 0.2131722\ttotal: 704ms\tremaining: 3.06s\n",
      "187:\tlearn: 0.2125445\ttotal: 707ms\tremaining: 3.05s\n",
      "188:\tlearn: 0.2119020\ttotal: 709ms\tremaining: 3.04s\n",
      "189:\tlearn: 0.2112560\ttotal: 712ms\tremaining: 3.03s\n",
      "190:\tlearn: 0.2107482\ttotal: 714ms\tremaining: 3.02s\n",
      "191:\tlearn: 0.2101443\ttotal: 717ms\tremaining: 3.02s\n",
      "192:\tlearn: 0.2094717\ttotal: 719ms\tremaining: 3.01s\n",
      "193:\tlearn: 0.2086646\ttotal: 722ms\tremaining: 3s\n",
      "194:\tlearn: 0.2078743\ttotal: 725ms\tremaining: 2.99s\n",
      "195:\tlearn: 0.2072685\ttotal: 728ms\tremaining: 2.99s\n",
      "196:\tlearn: 0.2067210\ttotal: 731ms\tremaining: 2.98s\n",
      "197:\tlearn: 0.2061138\ttotal: 734ms\tremaining: 2.97s\n",
      "198:\tlearn: 0.2055410\ttotal: 736ms\tremaining: 2.96s\n",
      "199:\tlearn: 0.2046938\ttotal: 739ms\tremaining: 2.95s\n",
      "200:\tlearn: 0.2041061\ttotal: 741ms\tremaining: 2.94s\n",
      "201:\tlearn: 0.2034450\ttotal: 745ms\tremaining: 2.94s\n",
      "202:\tlearn: 0.2028384\ttotal: 747ms\tremaining: 2.93s\n",
      "203:\tlearn: 0.2022999\ttotal: 750ms\tremaining: 2.93s\n",
      "204:\tlearn: 0.2019607\ttotal: 753ms\tremaining: 2.92s\n",
      "205:\tlearn: 0.2012939\ttotal: 755ms\tremaining: 2.91s\n",
      "206:\tlearn: 0.2007791\ttotal: 758ms\tremaining: 2.9s\n",
      "207:\tlearn: 0.2003648\ttotal: 761ms\tremaining: 2.9s\n",
      "208:\tlearn: 0.2000980\ttotal: 764ms\tremaining: 2.89s\n",
      "209:\tlearn: 0.1995968\ttotal: 767ms\tremaining: 2.88s\n",
      "210:\tlearn: 0.1990439\ttotal: 770ms\tremaining: 2.88s\n",
      "211:\tlearn: 0.1985414\ttotal: 772ms\tremaining: 2.87s\n",
      "212:\tlearn: 0.1978813\ttotal: 775ms\tremaining: 2.86s\n",
      "213:\tlearn: 0.1974763\ttotal: 777ms\tremaining: 2.85s\n",
      "214:\tlearn: 0.1970773\ttotal: 780ms\tremaining: 2.85s\n",
      "215:\tlearn: 0.1963247\ttotal: 783ms\tremaining: 2.84s\n",
      "216:\tlearn: 0.1959210\ttotal: 787ms\tremaining: 2.84s\n",
      "217:\tlearn: 0.1956286\ttotal: 806ms\tremaining: 2.89s\n",
      "218:\tlearn: 0.1946498\ttotal: 808ms\tremaining: 2.88s\n",
      "219:\tlearn: 0.1942646\ttotal: 811ms\tremaining: 2.87s\n",
      "220:\tlearn: 0.1934961\ttotal: 813ms\tremaining: 2.87s\n",
      "221:\tlearn: 0.1928505\ttotal: 816ms\tremaining: 2.86s\n",
      "222:\tlearn: 0.1926104\ttotal: 818ms\tremaining: 2.85s\n",
      "223:\tlearn: 0.1922206\ttotal: 821ms\tremaining: 2.84s\n",
      "224:\tlearn: 0.1917868\ttotal: 823ms\tremaining: 2.84s\n",
      "225:\tlearn: 0.1911035\ttotal: 827ms\tremaining: 2.83s\n",
      "226:\tlearn: 0.1905120\ttotal: 829ms\tremaining: 2.82s\n",
      "227:\tlearn: 0.1898406\ttotal: 832ms\tremaining: 2.82s\n",
      "228:\tlearn: 0.1893487\ttotal: 834ms\tremaining: 2.81s\n",
      "229:\tlearn: 0.1890649\ttotal: 837ms\tremaining: 2.8s\n",
      "230:\tlearn: 0.1885481\ttotal: 840ms\tremaining: 2.79s\n",
      "231:\tlearn: 0.1880205\ttotal: 843ms\tremaining: 2.79s\n",
      "232:\tlearn: 0.1873751\ttotal: 847ms\tremaining: 2.79s\n",
      "233:\tlearn: 0.1870731\ttotal: 849ms\tremaining: 2.78s\n",
      "234:\tlearn: 0.1864675\ttotal: 852ms\tremaining: 2.77s\n",
      "235:\tlearn: 0.1861509\ttotal: 855ms\tremaining: 2.77s\n",
      "236:\tlearn: 0.1857765\ttotal: 857ms\tremaining: 2.76s\n",
      "237:\tlearn: 0.1853856\ttotal: 860ms\tremaining: 2.75s\n",
      "238:\tlearn: 0.1851332\ttotal: 863ms\tremaining: 2.75s\n"
     ]
    },
    {
     "name": "stdout",
     "output_type": "stream",
     "text": [
      "239:\tlearn: 0.1845782\ttotal: 880ms\tremaining: 2.79s\n",
      "240:\tlearn: 0.1843994\ttotal: 883ms\tremaining: 2.78s\n",
      "241:\tlearn: 0.1836580\ttotal: 885ms\tremaining: 2.77s\n",
      "242:\tlearn: 0.1830690\ttotal: 888ms\tremaining: 2.77s\n",
      "243:\tlearn: 0.1825933\ttotal: 891ms\tremaining: 2.76s\n",
      "244:\tlearn: 0.1819756\ttotal: 894ms\tremaining: 2.75s\n",
      "245:\tlearn: 0.1816057\ttotal: 897ms\tremaining: 2.75s\n",
      "246:\tlearn: 0.1812024\ttotal: 899ms\tremaining: 2.74s\n",
      "247:\tlearn: 0.1806860\ttotal: 902ms\tremaining: 2.73s\n",
      "248:\tlearn: 0.1804118\ttotal: 904ms\tremaining: 2.73s\n",
      "249:\tlearn: 0.1799090\ttotal: 906ms\tremaining: 2.72s\n",
      "250:\tlearn: 0.1797004\ttotal: 909ms\tremaining: 2.71s\n",
      "251:\tlearn: 0.1789822\ttotal: 911ms\tremaining: 2.71s\n",
      "252:\tlearn: 0.1788108\ttotal: 914ms\tremaining: 2.7s\n",
      "253:\tlearn: 0.1785642\ttotal: 916ms\tremaining: 2.69s\n",
      "254:\tlearn: 0.1778921\ttotal: 919ms\tremaining: 2.69s\n",
      "255:\tlearn: 0.1774016\ttotal: 921ms\tremaining: 2.68s\n",
      "256:\tlearn: 0.1770916\ttotal: 924ms\tremaining: 2.67s\n",
      "257:\tlearn: 0.1765201\ttotal: 927ms\tremaining: 2.67s\n",
      "258:\tlearn: 0.1757708\ttotal: 930ms\tremaining: 2.66s\n",
      "259:\tlearn: 0.1751777\ttotal: 932ms\tremaining: 2.65s\n",
      "260:\tlearn: 0.1744714\ttotal: 935ms\tremaining: 2.65s\n",
      "261:\tlearn: 0.1739239\ttotal: 938ms\tremaining: 2.64s\n",
      "262:\tlearn: 0.1733421\ttotal: 940ms\tremaining: 2.63s\n",
      "263:\tlearn: 0.1729049\ttotal: 943ms\tremaining: 2.63s\n",
      "264:\tlearn: 0.1722840\ttotal: 946ms\tremaining: 2.62s\n",
      "265:\tlearn: 0.1719858\ttotal: 949ms\tremaining: 2.62s\n",
      "266:\tlearn: 0.1718192\ttotal: 971ms\tremaining: 2.66s\n",
      "267:\tlearn: 0.1711235\ttotal: 974ms\tremaining: 2.66s\n",
      "268:\tlearn: 0.1709174\ttotal: 977ms\tremaining: 2.65s\n",
      "269:\tlearn: 0.1703515\ttotal: 979ms\tremaining: 2.65s\n",
      "270:\tlearn: 0.1698468\ttotal: 982ms\tremaining: 2.64s\n",
      "271:\tlearn: 0.1696499\ttotal: 984ms\tremaining: 2.63s\n",
      "272:\tlearn: 0.1691817\ttotal: 987ms\tremaining: 2.63s\n",
      "273:\tlearn: 0.1684759\ttotal: 990ms\tremaining: 2.62s\n",
      "274:\tlearn: 0.1682449\ttotal: 993ms\tremaining: 2.62s\n",
      "275:\tlearn: 0.1678068\ttotal: 996ms\tremaining: 2.61s\n",
      "276:\tlearn: 0.1674228\ttotal: 998ms\tremaining: 2.6s\n",
      "277:\tlearn: 0.1669864\ttotal: 1s\tremaining: 2.6s\n",
      "278:\tlearn: 0.1664547\ttotal: 1s\tremaining: 2.59s\n",
      "279:\tlearn: 0.1659404\ttotal: 1s\tremaining: 2.59s\n",
      "280:\tlearn: 0.1653844\ttotal: 1.01s\tremaining: 2.58s\n",
      "281:\tlearn: 0.1650867\ttotal: 1.01s\tremaining: 2.58s\n",
      "282:\tlearn: 0.1648051\ttotal: 1.01s\tremaining: 2.57s\n",
      "283:\tlearn: 0.1643324\ttotal: 1.02s\tremaining: 2.57s\n",
      "284:\tlearn: 0.1637308\ttotal: 1.02s\tremaining: 2.56s\n",
      "285:\tlearn: 0.1632786\ttotal: 1.02s\tremaining: 2.55s\n",
      "286:\tlearn: 0.1631276\ttotal: 1.02s\tremaining: 2.54s\n",
      "287:\tlearn: 0.1628056\ttotal: 1.03s\tremaining: 2.54s\n",
      "288:\tlearn: 0.1623246\ttotal: 1.03s\tremaining: 2.53s\n",
      "289:\tlearn: 0.1619897\ttotal: 1.03s\tremaining: 2.53s\n"
     ]
    },
    {
     "name": "stdout",
     "output_type": "stream",
     "text": [
      "290:\tlearn: 0.1616003\ttotal: 1.04s\tremaining: 2.52s\n",
      "291:\tlearn: 0.1611874\ttotal: 1.04s\tremaining: 2.52s\n",
      "292:\tlearn: 0.1608939\ttotal: 1.04s\tremaining: 2.51s\n",
      "293:\tlearn: 0.1603842\ttotal: 1.04s\tremaining: 2.51s\n",
      "294:\tlearn: 0.1599135\ttotal: 1.05s\tremaining: 2.5s\n",
      "295:\tlearn: 0.1595813\ttotal: 1.05s\tremaining: 2.5s\n",
      "296:\tlearn: 0.1594136\ttotal: 1.05s\tremaining: 2.49s\n",
      "297:\tlearn: 0.1592496\ttotal: 1.05s\tremaining: 2.48s\n",
      "298:\tlearn: 0.1588141\ttotal: 1.06s\tremaining: 2.48s\n",
      "299:\tlearn: 0.1585237\ttotal: 1.06s\tremaining: 2.47s\n",
      "300:\tlearn: 0.1581690\ttotal: 1.06s\tremaining: 2.47s\n",
      "301:\tlearn: 0.1576698\ttotal: 1.07s\tremaining: 2.46s\n",
      "302:\tlearn: 0.1572486\ttotal: 1.07s\tremaining: 2.46s\n",
      "303:\tlearn: 0.1568560\ttotal: 1.07s\tremaining: 2.46s\n",
      "304:\tlearn: 0.1563857\ttotal: 1.07s\tremaining: 2.45s\n",
      "305:\tlearn: 0.1558623\ttotal: 1.08s\tremaining: 2.44s\n",
      "306:\tlearn: 0.1554713\ttotal: 1.08s\tremaining: 2.44s\n",
      "307:\tlearn: 0.1549833\ttotal: 1.08s\tremaining: 2.43s\n",
      "308:\tlearn: 0.1546519\ttotal: 1.08s\tremaining: 2.43s\n",
      "309:\tlearn: 0.1541981\ttotal: 1.09s\tremaining: 2.42s\n",
      "310:\tlearn: 0.1537862\ttotal: 1.09s\tremaining: 2.42s\n",
      "311:\tlearn: 0.1535395\ttotal: 1.09s\tremaining: 2.41s\n",
      "312:\tlearn: 0.1529323\ttotal: 1.09s\tremaining: 2.4s\n",
      "313:\tlearn: 0.1525309\ttotal: 1.1s\tremaining: 2.4s\n",
      "314:\tlearn: 0.1520440\ttotal: 1.1s\tremaining: 2.4s\n",
      "315:\tlearn: 0.1517635\ttotal: 1.11s\tremaining: 2.4s\n",
      "316:\tlearn: 0.1513935\ttotal: 1.11s\tremaining: 2.39s\n",
      "317:\tlearn: 0.1508609\ttotal: 1.11s\tremaining: 2.39s\n",
      "318:\tlearn: 0.1504967\ttotal: 1.11s\tremaining: 2.38s\n",
      "319:\tlearn: 0.1503165\ttotal: 1.12s\tremaining: 2.38s\n",
      "320:\tlearn: 0.1502130\ttotal: 1.12s\tremaining: 2.37s\n",
      "321:\tlearn: 0.1501014\ttotal: 1.12s\tremaining: 2.36s\n",
      "322:\tlearn: 0.1499390\ttotal: 1.13s\tremaining: 2.36s\n",
      "323:\tlearn: 0.1496670\ttotal: 1.13s\tremaining: 2.35s\n",
      "324:\tlearn: 0.1493348\ttotal: 1.13s\tremaining: 2.35s\n",
      "325:\tlearn: 0.1490379\ttotal: 1.13s\tremaining: 2.34s\n",
      "326:\tlearn: 0.1488374\ttotal: 1.14s\tremaining: 2.34s\n",
      "327:\tlearn: 0.1486065\ttotal: 1.14s\tremaining: 2.33s\n",
      "328:\tlearn: 0.1485115\ttotal: 1.14s\tremaining: 2.33s\n",
      "329:\tlearn: 0.1481870\ttotal: 1.14s\tremaining: 2.32s\n",
      "330:\tlearn: 0.1479883\ttotal: 1.15s\tremaining: 2.32s\n",
      "331:\tlearn: 0.1475793\ttotal: 1.15s\tremaining: 2.31s\n",
      "332:\tlearn: 0.1473234\ttotal: 1.15s\tremaining: 2.31s\n",
      "333:\tlearn: 0.1471136\ttotal: 1.15s\tremaining: 2.3s\n",
      "334:\tlearn: 0.1468402\ttotal: 1.16s\tremaining: 2.29s\n",
      "335:\tlearn: 0.1466539\ttotal: 1.16s\tremaining: 2.29s\n",
      "336:\tlearn: 0.1465791\ttotal: 1.16s\tremaining: 2.28s\n",
      "337:\tlearn: 0.1460602\ttotal: 1.16s\tremaining: 2.28s\n",
      "338:\tlearn: 0.1459771\ttotal: 1.17s\tremaining: 2.27s\n",
      "339:\tlearn: 0.1456577\ttotal: 1.17s\tremaining: 2.27s\n",
      "340:\tlearn: 0.1454263\ttotal: 1.17s\tremaining: 2.26s\n",
      "341:\tlearn: 0.1450529\ttotal: 1.17s\tremaining: 2.26s\n",
      "342:\tlearn: 0.1449851\ttotal: 1.18s\tremaining: 2.25s\n",
      "343:\tlearn: 0.1447523\ttotal: 1.18s\tremaining: 2.25s\n",
      "344:\tlearn: 0.1446723\ttotal: 1.18s\tremaining: 2.25s\n",
      "345:\tlearn: 0.1443749\ttotal: 1.19s\tremaining: 2.24s\n",
      "346:\tlearn: 0.1442562\ttotal: 1.19s\tremaining: 2.24s\n"
     ]
    },
    {
     "name": "stdout",
     "output_type": "stream",
     "text": [
      "347:\tlearn: 0.1439955\ttotal: 1.21s\tremaining: 2.26s\n",
      "348:\tlearn: 0.1439370\ttotal: 1.21s\tremaining: 2.26s\n",
      "349:\tlearn: 0.1438539\ttotal: 1.21s\tremaining: 2.25s\n",
      "350:\tlearn: 0.1435953\ttotal: 1.22s\tremaining: 2.25s\n",
      "351:\tlearn: 0.1435058\ttotal: 1.22s\tremaining: 2.24s\n",
      "352:\tlearn: 0.1432304\ttotal: 1.22s\tremaining: 2.24s\n",
      "353:\tlearn: 0.1431786\ttotal: 1.22s\tremaining: 2.23s\n",
      "354:\tlearn: 0.1428784\ttotal: 1.23s\tremaining: 2.23s\n",
      "355:\tlearn: 0.1428262\ttotal: 1.24s\tremaining: 2.24s\n",
      "356:\tlearn: 0.1424970\ttotal: 1.24s\tremaining: 2.24s\n",
      "357:\tlearn: 0.1422790\ttotal: 1.25s\tremaining: 2.23s\n",
      "358:\tlearn: 0.1417747\ttotal: 1.25s\tremaining: 2.23s\n",
      "359:\tlearn: 0.1414991\ttotal: 1.25s\tremaining: 2.22s\n",
      "360:\tlearn: 0.1409797\ttotal: 1.25s\tremaining: 2.22s\n",
      "361:\tlearn: 0.1406848\ttotal: 1.26s\tremaining: 2.21s\n",
      "362:\tlearn: 0.1403928\ttotal: 1.26s\tremaining: 2.21s\n",
      "363:\tlearn: 0.1402807\ttotal: 1.26s\tremaining: 2.2s\n",
      "364:\tlearn: 0.1402309\ttotal: 1.26s\tremaining: 2.2s\n",
      "365:\tlearn: 0.1401307\ttotal: 1.27s\tremaining: 2.19s\n",
      "366:\tlearn: 0.1400646\ttotal: 1.27s\tremaining: 2.19s\n",
      "367:\tlearn: 0.1397694\ttotal: 1.27s\tremaining: 2.19s\n",
      "368:\tlearn: 0.1394742\ttotal: 1.27s\tremaining: 2.18s\n",
      "369:\tlearn: 0.1391795\ttotal: 1.28s\tremaining: 2.18s\n",
      "370:\tlearn: 0.1388902\ttotal: 1.28s\tremaining: 2.17s\n",
      "371:\tlearn: 0.1388452\ttotal: 1.28s\tremaining: 2.17s\n",
      "372:\tlearn: 0.1383973\ttotal: 1.28s\tremaining: 2.16s\n",
      "373:\tlearn: 0.1381711\ttotal: 1.32s\tremaining: 2.2s\n",
      "374:\tlearn: 0.1378729\ttotal: 1.32s\tremaining: 2.2s\n"
     ]
    },
    {
     "name": "stdout",
     "output_type": "stream",
     "text": [
      "375:\tlearn: 0.1375997\ttotal: 1.4s\tremaining: 2.32s\n",
      "376:\tlearn: 0.1375234\ttotal: 1.4s\tremaining: 2.31s\n",
      "377:\tlearn: 0.1373834\ttotal: 1.4s\tremaining: 2.31s\n",
      "378:\tlearn: 0.1371074\ttotal: 1.41s\tremaining: 2.3s\n",
      "379:\tlearn: 0.1367680\ttotal: 1.41s\tremaining: 2.3s\n",
      "380:\tlearn: 0.1365395\ttotal: 1.41s\tremaining: 2.29s\n",
      "381:\tlearn: 0.1362142\ttotal: 1.41s\tremaining: 2.29s\n",
      "382:\tlearn: 0.1359422\ttotal: 1.42s\tremaining: 2.28s\n",
      "383:\tlearn: 0.1356915\ttotal: 1.42s\tremaining: 2.27s\n",
      "384:\tlearn: 0.1353599\ttotal: 1.43s\tremaining: 2.28s\n",
      "385:\tlearn: 0.1352991\ttotal: 1.43s\tremaining: 2.28s\n",
      "386:\tlearn: 0.1352255\ttotal: 1.43s\tremaining: 2.27s\n",
      "387:\tlearn: 0.1349488\ttotal: 1.44s\tremaining: 2.27s\n",
      "388:\tlearn: 0.1347110\ttotal: 1.44s\tremaining: 2.27s\n",
      "389:\tlearn: 0.1342972\ttotal: 1.45s\tremaining: 2.27s\n",
      "390:\tlearn: 0.1340262\ttotal: 1.45s\tremaining: 2.26s\n",
      "391:\tlearn: 0.1337277\ttotal: 1.46s\tremaining: 2.26s\n",
      "392:\tlearn: 0.1335899\ttotal: 1.46s\tremaining: 2.25s\n",
      "393:\tlearn: 0.1331222\ttotal: 1.46s\tremaining: 2.25s\n",
      "394:\tlearn: 0.1328813\ttotal: 1.46s\tremaining: 2.24s\n",
      "395:\tlearn: 0.1328008\ttotal: 1.47s\tremaining: 2.24s\n",
      "396:\tlearn: 0.1323189\ttotal: 1.47s\tremaining: 2.23s\n",
      "397:\tlearn: 0.1319078\ttotal: 1.47s\tremaining: 2.23s\n",
      "398:\tlearn: 0.1315183\ttotal: 1.47s\tremaining: 2.22s\n",
      "399:\tlearn: 0.1312940\ttotal: 1.48s\tremaining: 2.21s\n",
      "400:\tlearn: 0.1312622\ttotal: 1.48s\tremaining: 2.21s\n",
      "401:\tlearn: 0.1309250\ttotal: 1.49s\tremaining: 2.21s\n",
      "402:\tlearn: 0.1306038\ttotal: 1.52s\tremaining: 2.25s\n",
      "403:\tlearn: 0.1305573\ttotal: 1.52s\tremaining: 2.24s\n",
      "404:\tlearn: 0.1302562\ttotal: 1.52s\tremaining: 2.24s\n",
      "405:\tlearn: 0.1299674\ttotal: 1.52s\tremaining: 2.23s\n",
      "406:\tlearn: 0.1297206\ttotal: 1.53s\tremaining: 2.23s\n",
      "407:\tlearn: 0.1296051\ttotal: 1.53s\tremaining: 2.22s\n",
      "408:\tlearn: 0.1293055\ttotal: 1.53s\tremaining: 2.21s\n",
      "409:\tlearn: 0.1290621\ttotal: 1.53s\tremaining: 2.21s\n",
      "410:\tlearn: 0.1288379\ttotal: 1.54s\tremaining: 2.2s\n",
      "411:\tlearn: 0.1284760\ttotal: 1.54s\tremaining: 2.2s\n",
      "412:\tlearn: 0.1284160\ttotal: 1.54s\tremaining: 2.19s\n",
      "413:\tlearn: 0.1282315\ttotal: 1.54s\tremaining: 2.19s\n",
      "414:\tlearn: 0.1282010\ttotal: 1.55s\tremaining: 2.18s\n"
     ]
    },
    {
     "name": "stdout",
     "output_type": "stream",
     "text": [
      "415:\tlearn: 0.1278983\ttotal: 1.55s\tremaining: 2.18s\n",
      "416:\tlearn: 0.1278626\ttotal: 1.55s\tremaining: 2.17s\n",
      "417:\tlearn: 0.1275875\ttotal: 1.56s\tremaining: 2.17s\n",
      "418:\tlearn: 0.1274103\ttotal: 1.56s\tremaining: 2.16s\n",
      "419:\tlearn: 0.1271002\ttotal: 1.56s\tremaining: 2.16s\n",
      "420:\tlearn: 0.1267262\ttotal: 1.56s\tremaining: 2.15s\n",
      "421:\tlearn: 0.1265218\ttotal: 1.57s\tremaining: 2.15s\n",
      "422:\tlearn: 0.1262898\ttotal: 1.57s\tremaining: 2.14s\n",
      "423:\tlearn: 0.1260475\ttotal: 1.57s\tremaining: 2.14s\n",
      "424:\tlearn: 0.1259682\ttotal: 1.57s\tremaining: 2.13s\n",
      "425:\tlearn: 0.1257387\ttotal: 1.6s\tremaining: 2.15s\n",
      "426:\tlearn: 0.1257047\ttotal: 1.6s\tremaining: 2.15s\n",
      "427:\tlearn: 0.1255291\ttotal: 1.6s\tremaining: 2.14s\n",
      "428:\tlearn: 0.1251734\ttotal: 1.61s\tremaining: 2.14s\n",
      "429:\tlearn: 0.1249367\ttotal: 1.61s\tremaining: 2.13s\n",
      "430:\tlearn: 0.1246894\ttotal: 1.61s\tremaining: 2.13s\n",
      "431:\tlearn: 0.1244045\ttotal: 1.61s\tremaining: 2.12s\n",
      "432:\tlearn: 0.1243632\ttotal: 1.62s\tremaining: 2.12s\n",
      "433:\tlearn: 0.1241011\ttotal: 1.62s\tremaining: 2.11s\n",
      "434:\tlearn: 0.1238042\ttotal: 1.63s\tremaining: 2.12s\n",
      "435:\tlearn: 0.1235052\ttotal: 1.64s\tremaining: 2.12s\n",
      "436:\tlearn: 0.1233087\ttotal: 1.64s\tremaining: 2.11s\n",
      "437:\tlearn: 0.1231302\ttotal: 1.64s\tremaining: 2.11s\n",
      "438:\tlearn: 0.1231057\ttotal: 1.64s\tremaining: 2.1s\n",
      "439:\tlearn: 0.1228843\ttotal: 1.65s\tremaining: 2.1s\n",
      "440:\tlearn: 0.1228517\ttotal: 1.65s\tremaining: 2.09s\n",
      "441:\tlearn: 0.1225910\ttotal: 1.65s\tremaining: 2.08s\n",
      "442:\tlearn: 0.1222795\ttotal: 1.65s\tremaining: 2.08s\n",
      "443:\tlearn: 0.1222479\ttotal: 1.66s\tremaining: 2.08s\n",
      "444:\tlearn: 0.1219560\ttotal: 1.66s\tremaining: 2.07s\n",
      "445:\tlearn: 0.1216850\ttotal: 1.66s\tremaining: 2.07s\n",
      "446:\tlearn: 0.1214472\ttotal: 1.67s\tremaining: 2.06s\n",
      "447:\tlearn: 0.1211312\ttotal: 1.68s\tremaining: 2.07s\n",
      "448:\tlearn: 0.1209273\ttotal: 1.7s\tremaining: 2.08s\n",
      "449:\tlearn: 0.1207569\ttotal: 1.7s\tremaining: 2.08s\n",
      "450:\tlearn: 0.1206463\ttotal: 1.7s\tremaining: 2.07s\n",
      "451:\tlearn: 0.1204655\ttotal: 1.71s\tremaining: 2.07s\n",
      "452:\tlearn: 0.1203542\ttotal: 1.71s\tremaining: 2.06s\n",
      "453:\tlearn: 0.1203314\ttotal: 1.71s\tremaining: 2.06s\n",
      "454:\tlearn: 0.1199253\ttotal: 1.72s\tremaining: 2.06s\n",
      "455:\tlearn: 0.1198513\ttotal: 1.73s\tremaining: 2.06s\n",
      "456:\tlearn: 0.1198084\ttotal: 1.73s\tremaining: 2.06s\n",
      "457:\tlearn: 0.1196283\ttotal: 1.73s\tremaining: 2.05s\n"
     ]
    },
    {
     "name": "stdout",
     "output_type": "stream",
     "text": [
      "458:\tlearn: 0.1193827\ttotal: 1.74s\tremaining: 2.04s\n",
      "459:\tlearn: 0.1191188\ttotal: 1.74s\tremaining: 2.04s\n",
      "460:\tlearn: 0.1189132\ttotal: 1.74s\tremaining: 2.04s\n",
      "461:\tlearn: 0.1186295\ttotal: 1.74s\tremaining: 2.03s\n",
      "462:\tlearn: 0.1182630\ttotal: 1.75s\tremaining: 2.03s\n",
      "463:\tlearn: 0.1180779\ttotal: 1.75s\tremaining: 2.02s\n",
      "464:\tlearn: 0.1177486\ttotal: 1.75s\tremaining: 2.02s\n",
      "465:\tlearn: 0.1174952\ttotal: 1.75s\tremaining: 2.01s\n",
      "466:\tlearn: 0.1172244\ttotal: 1.77s\tremaining: 2.02s\n",
      "467:\tlearn: 0.1170487\ttotal: 1.77s\tremaining: 2.01s\n",
      "468:\tlearn: 0.1168771\ttotal: 1.77s\tremaining: 2s\n",
      "469:\tlearn: 0.1166919\ttotal: 1.77s\tremaining: 2s\n",
      "470:\tlearn: 0.1166575\ttotal: 1.78s\tremaining: 2s\n",
      "471:\tlearn: 0.1163588\ttotal: 1.78s\tremaining: 1.99s\n",
      "472:\tlearn: 0.1163335\ttotal: 1.78s\tremaining: 1.99s\n",
      "473:\tlearn: 0.1162636\ttotal: 1.78s\tremaining: 1.98s\n",
      "474:\tlearn: 0.1161652\ttotal: 1.79s\tremaining: 1.98s\n",
      "475:\tlearn: 0.1159814\ttotal: 1.79s\tremaining: 1.97s\n",
      "476:\tlearn: 0.1159638\ttotal: 1.79s\tremaining: 1.97s\n",
      "477:\tlearn: 0.1158076\ttotal: 1.79s\tremaining: 1.96s\n",
      "478:\tlearn: 0.1156340\ttotal: 1.8s\tremaining: 1.96s\n",
      "479:\tlearn: 0.1153194\ttotal: 1.8s\tremaining: 1.95s\n",
      "480:\tlearn: 0.1150979\ttotal: 1.8s\tremaining: 1.95s\n",
      "481:\tlearn: 0.1148995\ttotal: 1.81s\tremaining: 1.94s\n",
      "482:\tlearn: 0.1147007\ttotal: 1.81s\tremaining: 1.94s\n",
      "483:\tlearn: 0.1146781\ttotal: 1.81s\tremaining: 1.93s\n",
      "484:\tlearn: 0.1145692\ttotal: 1.82s\tremaining: 1.93s\n",
      "485:\tlearn: 0.1145435\ttotal: 1.82s\tremaining: 1.92s\n",
      "486:\tlearn: 0.1143813\ttotal: 1.82s\tremaining: 1.92s\n",
      "487:\tlearn: 0.1143565\ttotal: 1.82s\tremaining: 1.91s\n",
      "488:\tlearn: 0.1141315\ttotal: 1.83s\tremaining: 1.91s\n",
      "489:\tlearn: 0.1139327\ttotal: 1.83s\tremaining: 1.9s\n",
      "490:\tlearn: 0.1137404\ttotal: 1.83s\tremaining: 1.9s\n",
      "491:\tlearn: 0.1135370\ttotal: 1.83s\tremaining: 1.89s\n",
      "492:\tlearn: 0.1132651\ttotal: 1.84s\tremaining: 1.89s\n",
      "493:\tlearn: 0.1130822\ttotal: 1.84s\tremaining: 1.89s\n",
      "494:\tlearn: 0.1127349\ttotal: 1.84s\tremaining: 1.88s\n",
      "495:\tlearn: 0.1125573\ttotal: 1.84s\tremaining: 1.88s\n",
      "496:\tlearn: 0.1123873\ttotal: 1.85s\tremaining: 1.87s\n",
      "497:\tlearn: 0.1123692\ttotal: 1.85s\tremaining: 1.86s\n",
      "498:\tlearn: 0.1120745\ttotal: 1.85s\tremaining: 1.86s\n",
      "499:\tlearn: 0.1119277\ttotal: 1.85s\tremaining: 1.85s\n",
      "500:\tlearn: 0.1117510\ttotal: 1.86s\tremaining: 1.85s\n",
      "501:\tlearn: 0.1115485\ttotal: 1.86s\tremaining: 1.84s\n",
      "502:\tlearn: 0.1112025\ttotal: 1.86s\tremaining: 1.84s\n",
      "503:\tlearn: 0.1109117\ttotal: 1.87s\tremaining: 1.84s\n",
      "504:\tlearn: 0.1106776\ttotal: 1.87s\tremaining: 1.83s\n",
      "505:\tlearn: 0.1105280\ttotal: 1.87s\tremaining: 1.83s\n",
      "506:\tlearn: 0.1103136\ttotal: 1.87s\tremaining: 1.82s\n",
      "507:\tlearn: 0.1102628\ttotal: 1.88s\tremaining: 1.82s\n",
      "508:\tlearn: 0.1102188\ttotal: 1.88s\tremaining: 1.81s\n",
      "509:\tlearn: 0.1099752\ttotal: 1.88s\tremaining: 1.81s\n",
      "510:\tlearn: 0.1097051\ttotal: 1.88s\tremaining: 1.8s\n",
      "511:\tlearn: 0.1093682\ttotal: 1.89s\tremaining: 1.8s\n"
     ]
    },
    {
     "name": "stdout",
     "output_type": "stream",
     "text": [
      "512:\tlearn: 0.1093307\ttotal: 1.89s\tremaining: 1.79s\n",
      "513:\tlearn: 0.1091345\ttotal: 1.89s\tremaining: 1.79s\n",
      "514:\tlearn: 0.1089744\ttotal: 1.9s\tremaining: 1.78s\n",
      "515:\tlearn: 0.1087994\ttotal: 1.9s\tremaining: 1.78s\n",
      "516:\tlearn: 0.1085773\ttotal: 1.9s\tremaining: 1.77s\n",
      "517:\tlearn: 0.1083721\ttotal: 1.9s\tremaining: 1.77s\n",
      "518:\tlearn: 0.1080494\ttotal: 1.91s\tremaining: 1.77s\n",
      "519:\tlearn: 0.1077174\ttotal: 1.91s\tremaining: 1.76s\n",
      "520:\tlearn: 0.1074924\ttotal: 1.91s\tremaining: 1.76s\n",
      "521:\tlearn: 0.1074806\ttotal: 1.92s\tremaining: 1.75s\n",
      "522:\tlearn: 0.1072840\ttotal: 1.92s\tremaining: 1.75s\n",
      "523:\tlearn: 0.1072712\ttotal: 1.92s\tremaining: 1.75s\n",
      "524:\tlearn: 0.1072376\ttotal: 1.92s\tremaining: 1.74s\n",
      "525:\tlearn: 0.1071456\ttotal: 1.93s\tremaining: 1.74s\n",
      "526:\tlearn: 0.1068667\ttotal: 1.93s\tremaining: 1.73s\n",
      "527:\tlearn: 0.1068479\ttotal: 1.93s\tremaining: 1.73s\n",
      "528:\tlearn: 0.1065585\ttotal: 1.93s\tremaining: 1.72s\n",
      "529:\tlearn: 0.1062166\ttotal: 1.94s\tremaining: 1.72s\n",
      "530:\tlearn: 0.1060654\ttotal: 1.94s\tremaining: 1.71s\n",
      "531:\tlearn: 0.1059119\ttotal: 1.94s\tremaining: 1.71s\n",
      "532:\tlearn: 0.1057713\ttotal: 1.95s\tremaining: 1.7s\n",
      "533:\tlearn: 0.1054805\ttotal: 1.95s\tremaining: 1.7s\n",
      "534:\tlearn: 0.1054527\ttotal: 1.95s\tremaining: 1.7s\n",
      "535:\tlearn: 0.1054377\ttotal: 1.95s\tremaining: 1.69s\n",
      "536:\tlearn: 0.1052033\ttotal: 1.96s\tremaining: 1.69s\n",
      "537:\tlearn: 0.1049436\ttotal: 1.96s\tremaining: 1.68s\n",
      "538:\tlearn: 0.1047225\ttotal: 1.96s\tremaining: 1.68s\n",
      "539:\tlearn: 0.1046803\ttotal: 1.97s\tremaining: 1.68s\n",
      "540:\tlearn: 0.1045212\ttotal: 1.97s\tremaining: 1.67s\n",
      "541:\tlearn: 0.1043466\ttotal: 1.97s\tremaining: 1.67s\n",
      "542:\tlearn: 0.1041057\ttotal: 1.97s\tremaining: 1.66s\n",
      "543:\tlearn: 0.1037794\ttotal: 1.98s\tremaining: 1.66s\n",
      "544:\tlearn: 0.1036426\ttotal: 1.98s\tremaining: 1.65s\n",
      "545:\tlearn: 0.1033610\ttotal: 1.98s\tremaining: 1.65s\n",
      "546:\tlearn: 0.1031593\ttotal: 1.98s\tremaining: 1.64s\n",
      "547:\tlearn: 0.1029805\ttotal: 1.99s\tremaining: 1.64s\n",
      "548:\tlearn: 0.1028303\ttotal: 1.99s\tremaining: 1.63s\n",
      "549:\tlearn: 0.1026957\ttotal: 1.99s\tremaining: 1.63s\n",
      "550:\tlearn: 0.1024558\ttotal: 1.99s\tremaining: 1.63s\n",
      "551:\tlearn: 0.1022042\ttotal: 2s\tremaining: 1.62s\n",
      "552:\tlearn: 0.1019123\ttotal: 2s\tremaining: 1.62s\n",
      "553:\tlearn: 0.1018912\ttotal: 2s\tremaining: 1.61s\n",
      "554:\tlearn: 0.1017067\ttotal: 2s\tremaining: 1.61s\n",
      "555:\tlearn: 0.1014835\ttotal: 2.01s\tremaining: 1.6s\n",
      "556:\tlearn: 0.1014615\ttotal: 2.01s\tremaining: 1.6s\n",
      "557:\tlearn: 0.1011788\ttotal: 2.01s\tremaining: 1.59s\n",
      "558:\tlearn: 0.1010099\ttotal: 2.01s\tremaining: 1.59s\n",
      "559:\tlearn: 0.1008289\ttotal: 2.02s\tremaining: 1.58s\n",
      "560:\tlearn: 0.1006673\ttotal: 2.02s\tremaining: 1.58s\n",
      "561:\tlearn: 0.1005782\ttotal: 2.02s\tremaining: 1.57s\n",
      "562:\tlearn: 0.1002875\ttotal: 2.02s\tremaining: 1.57s\n",
      "563:\tlearn: 0.1002734\ttotal: 2.03s\tremaining: 1.57s\n",
      "564:\tlearn: 0.1000679\ttotal: 2.03s\tremaining: 1.56s\n",
      "565:\tlearn: 0.0999527\ttotal: 2.03s\tremaining: 1.56s\n",
      "566:\tlearn: 0.0997945\ttotal: 2.03s\tremaining: 1.55s\n",
      "567:\tlearn: 0.0994871\ttotal: 2.04s\tremaining: 1.55s\n",
      "568:\tlearn: 0.0991924\ttotal: 2.04s\tremaining: 1.54s\n",
      "569:\tlearn: 0.0989890\ttotal: 2.04s\tremaining: 1.54s\n",
      "570:\tlearn: 0.0989141\ttotal: 2.04s\tremaining: 1.53s\n",
      "571:\tlearn: 0.0987531\ttotal: 2.04s\tremaining: 1.53s\n",
      "572:\tlearn: 0.0985804\ttotal: 2.05s\tremaining: 1.52s\n",
      "573:\tlearn: 0.0983780\ttotal: 2.05s\tremaining: 1.52s\n",
      "574:\tlearn: 0.0982363\ttotal: 2.05s\tremaining: 1.52s\n",
      "575:\tlearn: 0.0982215\ttotal: 2.06s\tremaining: 1.51s\n",
      "576:\tlearn: 0.0981702\ttotal: 2.06s\tremaining: 1.51s\n",
      "577:\tlearn: 0.0979870\ttotal: 2.06s\tremaining: 1.5s\n",
      "578:\tlearn: 0.0978231\ttotal: 2.06s\tremaining: 1.5s\n",
      "579:\tlearn: 0.0978087\ttotal: 2.06s\tremaining: 1.5s\n"
     ]
    },
    {
     "name": "stdout",
     "output_type": "stream",
     "text": [
      "580:\tlearn: 0.0977858\ttotal: 2.07s\tremaining: 1.49s\n",
      "581:\tlearn: 0.0975352\ttotal: 2.07s\tremaining: 1.49s\n",
      "582:\tlearn: 0.0974211\ttotal: 2.07s\tremaining: 1.48s\n",
      "583:\tlearn: 0.0971630\ttotal: 2.08s\tremaining: 1.48s\n",
      "584:\tlearn: 0.0970490\ttotal: 2.08s\tremaining: 1.48s\n",
      "585:\tlearn: 0.0968072\ttotal: 2.08s\tremaining: 1.47s\n",
      "586:\tlearn: 0.0965927\ttotal: 2.08s\tremaining: 1.47s\n",
      "587:\tlearn: 0.0964726\ttotal: 2.09s\tremaining: 1.46s\n",
      "588:\tlearn: 0.0963829\ttotal: 2.09s\tremaining: 1.46s\n",
      "589:\tlearn: 0.0962851\ttotal: 2.09s\tremaining: 1.45s\n",
      "590:\tlearn: 0.0961201\ttotal: 2.1s\tremaining: 1.45s\n",
      "591:\tlearn: 0.0959913\ttotal: 2.1s\tremaining: 1.45s\n",
      "592:\tlearn: 0.0958378\ttotal: 2.1s\tremaining: 1.44s\n",
      "593:\tlearn: 0.0956630\ttotal: 2.1s\tremaining: 1.44s\n",
      "594:\tlearn: 0.0956364\ttotal: 2.1s\tremaining: 1.43s\n",
      "595:\tlearn: 0.0955728\ttotal: 2.11s\tremaining: 1.43s\n",
      "596:\tlearn: 0.0953301\ttotal: 2.11s\tremaining: 1.42s\n",
      "597:\tlearn: 0.0951930\ttotal: 2.11s\tremaining: 1.42s\n",
      "598:\tlearn: 0.0950435\ttotal: 2.12s\tremaining: 1.42s\n",
      "599:\tlearn: 0.0949651\ttotal: 2.12s\tremaining: 1.41s\n",
      "600:\tlearn: 0.0948038\ttotal: 2.12s\tremaining: 1.41s\n",
      "601:\tlearn: 0.0946511\ttotal: 2.12s\tremaining: 1.4s\n",
      "602:\tlearn: 0.0946337\ttotal: 2.13s\tremaining: 1.4s\n",
      "603:\tlearn: 0.0945140\ttotal: 2.13s\tremaining: 1.4s\n",
      "604:\tlearn: 0.0942932\ttotal: 2.13s\tremaining: 1.39s\n",
      "605:\tlearn: 0.0941183\ttotal: 2.13s\tremaining: 1.39s\n",
      "606:\tlearn: 0.0938295\ttotal: 2.13s\tremaining: 1.38s\n",
      "607:\tlearn: 0.0936768\ttotal: 2.14s\tremaining: 1.38s\n",
      "608:\tlearn: 0.0934547\ttotal: 2.14s\tremaining: 1.37s\n",
      "609:\tlearn: 0.0934103\ttotal: 2.14s\tremaining: 1.37s\n",
      "610:\tlearn: 0.0932152\ttotal: 2.15s\tremaining: 1.37s\n",
      "611:\tlearn: 0.0929968\ttotal: 2.15s\tremaining: 1.36s\n",
      "612:\tlearn: 0.0928466\ttotal: 2.15s\tremaining: 1.36s\n",
      "613:\tlearn: 0.0926388\ttotal: 2.15s\tremaining: 1.35s\n",
      "614:\tlearn: 0.0925535\ttotal: 2.16s\tremaining: 1.35s\n",
      "615:\tlearn: 0.0923638\ttotal: 2.16s\tremaining: 1.35s\n",
      "616:\tlearn: 0.0921484\ttotal: 2.16s\tremaining: 1.34s\n",
      "617:\tlearn: 0.0920005\ttotal: 2.17s\tremaining: 1.34s\n",
      "618:\tlearn: 0.0919446\ttotal: 2.17s\tremaining: 1.34s\n",
      "619:\tlearn: 0.0917299\ttotal: 2.17s\tremaining: 1.33s\n",
      "620:\tlearn: 0.0914933\ttotal: 2.18s\tremaining: 1.33s\n",
      "621:\tlearn: 0.0913270\ttotal: 2.18s\tremaining: 1.33s\n",
      "622:\tlearn: 0.0912068\ttotal: 2.19s\tremaining: 1.32s\n",
      "623:\tlearn: 0.0909656\ttotal: 2.19s\tremaining: 1.32s\n",
      "624:\tlearn: 0.0909515\ttotal: 2.19s\tremaining: 1.31s\n",
      "625:\tlearn: 0.0907967\ttotal: 2.19s\tremaining: 1.31s\n",
      "626:\tlearn: 0.0906162\ttotal: 2.2s\tremaining: 1.31s\n",
      "627:\tlearn: 0.0903796\ttotal: 2.2s\tremaining: 1.3s\n",
      "628:\tlearn: 0.0901732\ttotal: 2.2s\tremaining: 1.3s\n",
      "629:\tlearn: 0.0899854\ttotal: 2.21s\tremaining: 1.29s\n",
      "630:\tlearn: 0.0897987\ttotal: 2.21s\tremaining: 1.29s\n",
      "631:\tlearn: 0.0895254\ttotal: 2.21s\tremaining: 1.29s\n",
      "632:\tlearn: 0.0894764\ttotal: 2.21s\tremaining: 1.28s\n",
      "633:\tlearn: 0.0892094\ttotal: 2.22s\tremaining: 1.28s\n",
      "634:\tlearn: 0.0889813\ttotal: 2.22s\tremaining: 1.28s\n",
      "635:\tlearn: 0.0889029\ttotal: 2.22s\tremaining: 1.27s\n",
      "636:\tlearn: 0.0886776\ttotal: 2.23s\tremaining: 1.27s\n",
      "637:\tlearn: 0.0886647\ttotal: 2.23s\tremaining: 1.26s\n",
      "638:\tlearn: 0.0885603\ttotal: 2.23s\tremaining: 1.26s\n",
      "639:\tlearn: 0.0883827\ttotal: 2.23s\tremaining: 1.26s\n",
      "640:\tlearn: 0.0882436\ttotal: 2.23s\tremaining: 1.25s\n",
      "641:\tlearn: 0.0880158\ttotal: 2.24s\tremaining: 1.25s\n"
     ]
    },
    {
     "name": "stdout",
     "output_type": "stream",
     "text": [
      "642:\tlearn: 0.0878617\ttotal: 2.24s\tremaining: 1.24s\n",
      "643:\tlearn: 0.0876947\ttotal: 2.24s\tremaining: 1.24s\n",
      "644:\tlearn: 0.0876345\ttotal: 2.25s\tremaining: 1.24s\n",
      "645:\tlearn: 0.0874318\ttotal: 2.25s\tremaining: 1.23s\n",
      "646:\tlearn: 0.0873177\ttotal: 2.26s\tremaining: 1.23s\n",
      "647:\tlearn: 0.0871749\ttotal: 2.26s\tremaining: 1.23s\n",
      "648:\tlearn: 0.0869661\ttotal: 2.26s\tremaining: 1.22s\n",
      "649:\tlearn: 0.0869521\ttotal: 2.27s\tremaining: 1.22s\n",
      "650:\tlearn: 0.0867840\ttotal: 2.27s\tremaining: 1.22s\n",
      "651:\tlearn: 0.0866413\ttotal: 2.27s\tremaining: 1.21s\n",
      "652:\tlearn: 0.0865150\ttotal: 2.27s\tremaining: 1.21s\n",
      "653:\tlearn: 0.0863684\ttotal: 2.27s\tremaining: 1.2s\n",
      "654:\tlearn: 0.0862445\ttotal: 2.27s\tremaining: 1.2s\n",
      "655:\tlearn: 0.0862324\ttotal: 2.28s\tremaining: 1.19s\n",
      "656:\tlearn: 0.0860245\ttotal: 2.28s\tremaining: 1.19s\n",
      "657:\tlearn: 0.0859937\ttotal: 2.28s\tremaining: 1.19s\n",
      "658:\tlearn: 0.0859187\ttotal: 2.28s\tremaining: 1.18s\n",
      "659:\tlearn: 0.0857969\ttotal: 2.28s\tremaining: 1.18s\n",
      "660:\tlearn: 0.0855858\ttotal: 2.29s\tremaining: 1.17s\n",
      "661:\tlearn: 0.0854617\ttotal: 2.29s\tremaining: 1.17s\n",
      "662:\tlearn: 0.0852677\ttotal: 2.29s\tremaining: 1.17s\n",
      "663:\tlearn: 0.0851243\ttotal: 2.3s\tremaining: 1.16s\n",
      "664:\tlearn: 0.0849907\ttotal: 2.3s\tremaining: 1.16s\n",
      "665:\tlearn: 0.0847746\ttotal: 2.3s\tremaining: 1.16s\n",
      "666:\tlearn: 0.0847523\ttotal: 2.31s\tremaining: 1.15s\n",
      "667:\tlearn: 0.0845229\ttotal: 2.31s\tremaining: 1.15s\n",
      "668:\tlearn: 0.0844536\ttotal: 2.31s\tremaining: 1.14s\n",
      "669:\tlearn: 0.0843145\ttotal: 2.31s\tremaining: 1.14s\n",
      "670:\tlearn: 0.0843005\ttotal: 2.31s\tremaining: 1.13s\n",
      "671:\tlearn: 0.0841399\ttotal: 2.31s\tremaining: 1.13s\n",
      "672:\tlearn: 0.0839176\ttotal: 2.32s\tremaining: 1.13s\n",
      "673:\tlearn: 0.0838521\ttotal: 2.32s\tremaining: 1.12s\n",
      "674:\tlearn: 0.0837086\ttotal: 2.32s\tremaining: 1.12s\n",
      "675:\tlearn: 0.0836472\ttotal: 2.32s\tremaining: 1.11s\n",
      "676:\tlearn: 0.0834286\ttotal: 2.32s\tremaining: 1.11s\n",
      "677:\tlearn: 0.0832319\ttotal: 2.33s\tremaining: 1.1s\n",
      "678:\tlearn: 0.0831557\ttotal: 2.33s\tremaining: 1.1s\n",
      "679:\tlearn: 0.0829302\ttotal: 2.33s\tremaining: 1.1s\n",
      "680:\tlearn: 0.0827774\ttotal: 2.33s\tremaining: 1.09s\n",
      "681:\tlearn: 0.0825357\ttotal: 2.34s\tremaining: 1.09s\n",
      "682:\tlearn: 0.0824075\ttotal: 2.34s\tremaining: 1.08s\n",
      "683:\tlearn: 0.0821880\ttotal: 2.34s\tremaining: 1.08s\n",
      "684:\tlearn: 0.0820443\ttotal: 2.34s\tremaining: 1.08s\n",
      "685:\tlearn: 0.0819295\ttotal: 2.35s\tremaining: 1.07s\n",
      "686:\tlearn: 0.0817386\ttotal: 2.35s\tremaining: 1.07s\n",
      "687:\tlearn: 0.0815773\ttotal: 2.35s\tremaining: 1.07s\n",
      "688:\tlearn: 0.0815328\ttotal: 2.35s\tremaining: 1.06s\n",
      "689:\tlearn: 0.0813156\ttotal: 2.35s\tremaining: 1.06s\n",
      "690:\tlearn: 0.0812016\ttotal: 2.36s\tremaining: 1.05s\n",
      "691:\tlearn: 0.0811371\ttotal: 2.36s\tremaining: 1.05s\n",
      "692:\tlearn: 0.0810272\ttotal: 2.36s\tremaining: 1.05s\n",
      "693:\tlearn: 0.0808594\ttotal: 2.37s\tremaining: 1.04s\n",
      "694:\tlearn: 0.0806484\ttotal: 2.37s\tremaining: 1.04s\n",
      "695:\tlearn: 0.0805828\ttotal: 2.37s\tremaining: 1.03s\n",
      "696:\tlearn: 0.0805372\ttotal: 2.37s\tremaining: 1.03s\n",
      "697:\tlearn: 0.0804183\ttotal: 2.37s\tremaining: 1.03s\n",
      "698:\tlearn: 0.0803255\ttotal: 2.38s\tremaining: 1.02s\n",
      "699:\tlearn: 0.0801636\ttotal: 2.38s\tremaining: 1.02s\n",
      "700:\tlearn: 0.0800503\ttotal: 2.38s\tremaining: 1.02s\n",
      "701:\tlearn: 0.0800008\ttotal: 2.38s\tremaining: 1.01s\n",
      "702:\tlearn: 0.0799047\ttotal: 2.39s\tremaining: 1.01s\n",
      "703:\tlearn: 0.0796996\ttotal: 2.39s\tremaining: 1s\n",
      "704:\tlearn: 0.0795600\ttotal: 2.39s\tremaining: 1s\n",
      "705:\tlearn: 0.0795509\ttotal: 2.39s\tremaining: 997ms\n",
      "706:\tlearn: 0.0794626\ttotal: 2.4s\tremaining: 993ms\n",
      "707:\tlearn: 0.0794123\ttotal: 2.4s\tremaining: 989ms\n",
      "708:\tlearn: 0.0793876\ttotal: 2.4s\tremaining: 985ms\n",
      "709:\tlearn: 0.0792917\ttotal: 2.4s\tremaining: 981ms\n",
      "710:\tlearn: 0.0791609\ttotal: 2.4s\tremaining: 978ms\n",
      "711:\tlearn: 0.0790613\ttotal: 2.41s\tremaining: 974ms\n"
     ]
    },
    {
     "name": "stdout",
     "output_type": "stream",
     "text": [
      "712:\tlearn: 0.0788870\ttotal: 2.41s\tremaining: 970ms\n",
      "713:\tlearn: 0.0786952\ttotal: 2.41s\tremaining: 966ms\n",
      "714:\tlearn: 0.0786364\ttotal: 2.41s\tremaining: 962ms\n",
      "715:\tlearn: 0.0785995\ttotal: 2.42s\tremaining: 959ms\n",
      "716:\tlearn: 0.0784908\ttotal: 2.42s\tremaining: 955ms\n",
      "717:\tlearn: 0.0783619\ttotal: 2.42s\tremaining: 951ms\n",
      "718:\tlearn: 0.0782451\ttotal: 2.42s\tremaining: 948ms\n",
      "719:\tlearn: 0.0780990\ttotal: 2.43s\tremaining: 944ms\n",
      "720:\tlearn: 0.0780880\ttotal: 2.43s\tremaining: 940ms\n",
      "721:\tlearn: 0.0780795\ttotal: 2.43s\tremaining: 936ms\n",
      "722:\tlearn: 0.0780661\ttotal: 2.43s\tremaining: 932ms\n",
      "723:\tlearn: 0.0779497\ttotal: 2.44s\tremaining: 929ms\n",
      "724:\tlearn: 0.0778447\ttotal: 2.44s\tremaining: 925ms\n",
      "725:\tlearn: 0.0777241\ttotal: 2.44s\tremaining: 921ms\n",
      "726:\tlearn: 0.0776305\ttotal: 2.44s\tremaining: 918ms\n",
      "727:\tlearn: 0.0774339\ttotal: 2.45s\tremaining: 914ms\n",
      "728:\tlearn: 0.0773280\ttotal: 2.45s\tremaining: 910ms\n",
      "729:\tlearn: 0.0771610\ttotal: 2.45s\tremaining: 907ms\n",
      "730:\tlearn: 0.0769551\ttotal: 2.45s\tremaining: 903ms\n",
      "731:\tlearn: 0.0767726\ttotal: 2.46s\tremaining: 900ms\n",
      "732:\tlearn: 0.0767013\ttotal: 2.46s\tremaining: 896ms\n",
      "733:\tlearn: 0.0765564\ttotal: 2.46s\tremaining: 893ms\n",
      "734:\tlearn: 0.0763589\ttotal: 2.47s\tremaining: 889ms\n",
      "735:\tlearn: 0.0762422\ttotal: 2.47s\tremaining: 886ms\n",
      "736:\tlearn: 0.0761184\ttotal: 2.47s\tremaining: 882ms\n",
      "737:\tlearn: 0.0759570\ttotal: 2.47s\tremaining: 878ms\n",
      "738:\tlearn: 0.0758013\ttotal: 2.48s\tremaining: 875ms\n",
      "739:\tlearn: 0.0756594\ttotal: 2.48s\tremaining: 871ms\n",
      "740:\tlearn: 0.0755185\ttotal: 2.48s\tremaining: 868ms\n",
      "741:\tlearn: 0.0753808\ttotal: 2.48s\tremaining: 864ms\n",
      "742:\tlearn: 0.0752447\ttotal: 2.49s\tremaining: 860ms\n",
      "743:\tlearn: 0.0751014\ttotal: 2.49s\tremaining: 856ms\n",
      "744:\tlearn: 0.0750638\ttotal: 2.49s\tremaining: 853ms\n",
      "745:\tlearn: 0.0750419\ttotal: 2.49s\tremaining: 849ms\n",
      "746:\tlearn: 0.0750161\ttotal: 2.5s\tremaining: 846ms\n",
      "747:\tlearn: 0.0749137\ttotal: 2.5s\tremaining: 842ms\n",
      "748:\tlearn: 0.0748153\ttotal: 2.5s\tremaining: 838ms\n",
      "749:\tlearn: 0.0746736\ttotal: 2.5s\tremaining: 835ms\n",
      "750:\tlearn: 0.0746595\ttotal: 2.51s\tremaining: 832ms\n",
      "751:\tlearn: 0.0745533\ttotal: 2.51s\tremaining: 828ms\n",
      "752:\tlearn: 0.0744730\ttotal: 2.51s\tremaining: 824ms\n",
      "753:\tlearn: 0.0743211\ttotal: 2.52s\tremaining: 821ms\n",
      "754:\tlearn: 0.0741713\ttotal: 2.52s\tremaining: 817ms\n",
      "755:\tlearn: 0.0740674\ttotal: 2.52s\tremaining: 813ms\n",
      "756:\tlearn: 0.0739963\ttotal: 2.52s\tremaining: 810ms\n",
      "757:\tlearn: 0.0738248\ttotal: 2.52s\tremaining: 806ms\n",
      "758:\tlearn: 0.0737821\ttotal: 2.53s\tremaining: 803ms\n",
      "759:\tlearn: 0.0735837\ttotal: 2.53s\tremaining: 799ms\n",
      "760:\tlearn: 0.0734454\ttotal: 2.53s\tremaining: 796ms\n",
      "761:\tlearn: 0.0733469\ttotal: 2.54s\tremaining: 792ms\n",
      "762:\tlearn: 0.0732233\ttotal: 2.54s\tremaining: 788ms\n",
      "763:\tlearn: 0.0730997\ttotal: 2.54s\tremaining: 785ms\n",
      "764:\tlearn: 0.0729372\ttotal: 2.54s\tremaining: 781ms\n",
      "765:\tlearn: 0.0729226\ttotal: 2.54s\tremaining: 778ms\n",
      "766:\tlearn: 0.0728031\ttotal: 2.55s\tremaining: 774ms\n",
      "767:\tlearn: 0.0726906\ttotal: 2.55s\tremaining: 771ms\n",
      "768:\tlearn: 0.0726818\ttotal: 2.55s\tremaining: 767ms\n",
      "769:\tlearn: 0.0725493\ttotal: 2.56s\tremaining: 763ms\n",
      "770:\tlearn: 0.0724089\ttotal: 2.56s\tremaining: 760ms\n",
      "771:\tlearn: 0.0723798\ttotal: 2.56s\tremaining: 756ms\n",
      "772:\tlearn: 0.0721768\ttotal: 2.56s\tremaining: 753ms\n",
      "773:\tlearn: 0.0720781\ttotal: 2.56s\tremaining: 749ms\n",
      "774:\tlearn: 0.0719473\ttotal: 2.57s\tremaining: 746ms\n",
      "775:\tlearn: 0.0717984\ttotal: 2.57s\tremaining: 742ms\n",
      "776:\tlearn: 0.0717436\ttotal: 2.57s\tremaining: 739ms\n",
      "777:\tlearn: 0.0716130\ttotal: 2.58s\tremaining: 735ms\n",
      "778:\tlearn: 0.0714785\ttotal: 2.58s\tremaining: 731ms\n",
      "779:\tlearn: 0.0713524\ttotal: 2.58s\tremaining: 728ms\n",
      "780:\tlearn: 0.0712640\ttotal: 2.58s\tremaining: 724ms\n",
      "781:\tlearn: 0.0711459\ttotal: 2.58s\tremaining: 721ms\n"
     ]
    },
    {
     "name": "stdout",
     "output_type": "stream",
     "text": [
      "782:\tlearn: 0.0709993\ttotal: 2.59s\tremaining: 717ms\n",
      "783:\tlearn: 0.0708597\ttotal: 2.59s\tremaining: 714ms\n",
      "784:\tlearn: 0.0708466\ttotal: 2.59s\tremaining: 710ms\n",
      "785:\tlearn: 0.0707195\ttotal: 2.6s\tremaining: 707ms\n",
      "786:\tlearn: 0.0706126\ttotal: 2.6s\tremaining: 703ms\n",
      "787:\tlearn: 0.0704112\ttotal: 2.6s\tremaining: 699ms\n",
      "788:\tlearn: 0.0704030\ttotal: 2.6s\tremaining: 696ms\n",
      "789:\tlearn: 0.0703175\ttotal: 2.6s\tremaining: 692ms\n",
      "790:\tlearn: 0.0701536\ttotal: 2.61s\tremaining: 689ms\n",
      "791:\tlearn: 0.0700001\ttotal: 2.61s\tremaining: 685ms\n",
      "792:\tlearn: 0.0698801\ttotal: 2.61s\tremaining: 682ms\n",
      "793:\tlearn: 0.0698408\ttotal: 2.62s\tremaining: 679ms\n",
      "794:\tlearn: 0.0697060\ttotal: 2.62s\tremaining: 675ms\n",
      "795:\tlearn: 0.0695950\ttotal: 2.62s\tremaining: 672ms\n",
      "796:\tlearn: 0.0694339\ttotal: 2.62s\tremaining: 668ms\n",
      "797:\tlearn: 0.0692950\ttotal: 2.62s\tremaining: 664ms\n",
      "798:\tlearn: 0.0692071\ttotal: 2.63s\tremaining: 661ms\n",
      "799:\tlearn: 0.0691397\ttotal: 2.63s\tremaining: 658ms\n",
      "800:\tlearn: 0.0690210\ttotal: 2.63s\tremaining: 654ms\n",
      "801:\tlearn: 0.0689630\ttotal: 2.63s\tremaining: 651ms\n",
      "802:\tlearn: 0.0688184\ttotal: 2.64s\tremaining: 647ms\n",
      "803:\tlearn: 0.0687091\ttotal: 2.64s\tremaining: 644ms\n",
      "804:\tlearn: 0.0685590\ttotal: 2.64s\tremaining: 640ms\n",
      "805:\tlearn: 0.0684653\ttotal: 2.65s\tremaining: 637ms\n",
      "806:\tlearn: 0.0682846\ttotal: 2.65s\tremaining: 633ms\n",
      "807:\tlearn: 0.0680991\ttotal: 2.65s\tremaining: 630ms\n",
      "808:\tlearn: 0.0680600\ttotal: 2.65s\tremaining: 627ms\n",
      "809:\tlearn: 0.0680466\ttotal: 2.66s\tremaining: 623ms\n",
      "810:\tlearn: 0.0679749\ttotal: 2.66s\tremaining: 619ms\n",
      "811:\tlearn: 0.0678528\ttotal: 2.66s\tremaining: 616ms\n",
      "812:\tlearn: 0.0676942\ttotal: 2.66s\tremaining: 612ms\n",
      "813:\tlearn: 0.0676193\ttotal: 2.67s\tremaining: 609ms\n",
      "814:\tlearn: 0.0675249\ttotal: 2.67s\tremaining: 606ms\n",
      "815:\tlearn: 0.0673987\ttotal: 2.67s\tremaining: 602ms\n",
      "816:\tlearn: 0.0673078\ttotal: 2.67s\tremaining: 599ms\n",
      "817:\tlearn: 0.0672546\ttotal: 2.67s\tremaining: 595ms\n",
      "818:\tlearn: 0.0671676\ttotal: 2.68s\tremaining: 592ms\n",
      "819:\tlearn: 0.0670263\ttotal: 2.68s\tremaining: 589ms\n",
      "820:\tlearn: 0.0668952\ttotal: 2.68s\tremaining: 585ms\n",
      "821:\tlearn: 0.0667776\ttotal: 2.69s\tremaining: 582ms\n",
      "822:\tlearn: 0.0666709\ttotal: 2.69s\tremaining: 578ms\n",
      "823:\tlearn: 0.0665896\ttotal: 2.69s\tremaining: 575ms\n",
      "824:\tlearn: 0.0665049\ttotal: 2.69s\tremaining: 572ms\n",
      "825:\tlearn: 0.0663924\ttotal: 2.7s\tremaining: 568ms\n",
      "826:\tlearn: 0.0662996\ttotal: 2.7s\tremaining: 565ms\n",
      "827:\tlearn: 0.0661907\ttotal: 2.7s\tremaining: 561ms\n",
      "828:\tlearn: 0.0661080\ttotal: 2.7s\tremaining: 558ms\n",
      "829:\tlearn: 0.0660050\ttotal: 2.71s\tremaining: 554ms\n",
      "830:\tlearn: 0.0659722\ttotal: 2.71s\tremaining: 551ms\n",
      "831:\tlearn: 0.0657886\ttotal: 2.71s\tremaining: 548ms\n",
      "832:\tlearn: 0.0657808\ttotal: 2.71s\tremaining: 544ms\n",
      "833:\tlearn: 0.0656607\ttotal: 2.72s\tremaining: 541ms\n",
      "834:\tlearn: 0.0655121\ttotal: 2.72s\tremaining: 537ms\n",
      "835:\tlearn: 0.0653789\ttotal: 2.72s\tremaining: 534ms\n",
      "836:\tlearn: 0.0652706\ttotal: 2.72s\tremaining: 531ms\n",
      "837:\tlearn: 0.0652127\ttotal: 2.73s\tremaining: 527ms\n",
      "838:\tlearn: 0.0650689\ttotal: 2.73s\tremaining: 524ms\n",
      "839:\tlearn: 0.0649111\ttotal: 2.73s\tremaining: 520ms\n",
      "840:\tlearn: 0.0648166\ttotal: 2.73s\tremaining: 517ms\n",
      "841:\tlearn: 0.0647050\ttotal: 2.74s\tremaining: 514ms\n",
      "842:\tlearn: 0.0646173\ttotal: 2.74s\tremaining: 510ms\n",
      "843:\tlearn: 0.0645639\ttotal: 2.74s\tremaining: 507ms\n",
      "844:\tlearn: 0.0644921\ttotal: 2.74s\tremaining: 503ms\n",
      "845:\tlearn: 0.0644122\ttotal: 2.75s\tremaining: 500ms\n",
      "846:\tlearn: 0.0642757\ttotal: 2.75s\tremaining: 497ms\n",
      "847:\tlearn: 0.0642602\ttotal: 2.75s\tremaining: 493ms\n",
      "848:\tlearn: 0.0641520\ttotal: 2.75s\tremaining: 490ms\n",
      "849:\tlearn: 0.0641444\ttotal: 2.76s\tremaining: 486ms\n",
      "850:\tlearn: 0.0640691\ttotal: 2.76s\tremaining: 483ms\n",
      "851:\tlearn: 0.0639922\ttotal: 2.76s\tremaining: 480ms\n",
      "852:\tlearn: 0.0639232\ttotal: 2.76s\tremaining: 476ms\n"
     ]
    },
    {
     "name": "stdout",
     "output_type": "stream",
     "text": [
      "853:\tlearn: 0.0638083\ttotal: 2.77s\tremaining: 473ms\n",
      "854:\tlearn: 0.0637269\ttotal: 2.77s\tremaining: 470ms\n",
      "855:\tlearn: 0.0636407\ttotal: 2.77s\tremaining: 466ms\n",
      "856:\tlearn: 0.0635823\ttotal: 2.77s\tremaining: 463ms\n",
      "857:\tlearn: 0.0634856\ttotal: 2.78s\tremaining: 460ms\n",
      "858:\tlearn: 0.0633798\ttotal: 2.78s\tremaining: 456ms\n",
      "859:\tlearn: 0.0633212\ttotal: 2.78s\tremaining: 453ms\n",
      "860:\tlearn: 0.0631801\ttotal: 2.79s\tremaining: 450ms\n",
      "861:\tlearn: 0.0631307\ttotal: 2.79s\tremaining: 446ms\n",
      "862:\tlearn: 0.0631224\ttotal: 2.79s\tremaining: 443ms\n",
      "863:\tlearn: 0.0629935\ttotal: 2.79s\tremaining: 440ms\n",
      "864:\tlearn: 0.0628758\ttotal: 2.79s\tremaining: 436ms\n",
      "865:\tlearn: 0.0627383\ttotal: 2.8s\tremaining: 433ms\n",
      "866:\tlearn: 0.0626805\ttotal: 2.8s\tremaining: 430ms\n",
      "867:\tlearn: 0.0625477\ttotal: 2.8s\tremaining: 426ms\n",
      "868:\tlearn: 0.0624152\ttotal: 2.81s\tremaining: 423ms\n",
      "869:\tlearn: 0.0623046\ttotal: 2.81s\tremaining: 420ms\n",
      "870:\tlearn: 0.0622198\ttotal: 2.81s\tremaining: 416ms\n",
      "871:\tlearn: 0.0621884\ttotal: 2.81s\tremaining: 413ms\n",
      "872:\tlearn: 0.0621553\ttotal: 2.81s\tremaining: 409ms\n",
      "873:\tlearn: 0.0620716\ttotal: 2.82s\tremaining: 406ms\n",
      "874:\tlearn: 0.0619275\ttotal: 2.82s\tremaining: 403ms\n",
      "875:\tlearn: 0.0618183\ttotal: 2.82s\tremaining: 399ms\n",
      "876:\tlearn: 0.0616900\ttotal: 2.82s\tremaining: 396ms\n",
      "877:\tlearn: 0.0616122\ttotal: 2.83s\tremaining: 393ms\n",
      "878:\tlearn: 0.0615494\ttotal: 2.83s\tremaining: 389ms\n",
      "879:\tlearn: 0.0614815\ttotal: 2.83s\tremaining: 386ms\n",
      "880:\tlearn: 0.0614045\ttotal: 2.83s\tremaining: 383ms\n",
      "881:\tlearn: 0.0612404\ttotal: 2.83s\tremaining: 379ms\n",
      "882:\tlearn: 0.0612137\ttotal: 2.84s\tremaining: 376ms\n",
      "883:\tlearn: 0.0611064\ttotal: 2.84s\tremaining: 373ms\n",
      "884:\tlearn: 0.0610148\ttotal: 2.84s\tremaining: 369ms\n",
      "885:\tlearn: 0.0609114\ttotal: 2.85s\tremaining: 366ms\n",
      "886:\tlearn: 0.0607841\ttotal: 2.85s\tremaining: 363ms\n",
      "887:\tlearn: 0.0606927\ttotal: 2.85s\tremaining: 359ms\n",
      "888:\tlearn: 0.0606456\ttotal: 2.85s\tremaining: 356ms\n",
      "889:\tlearn: 0.0605722\ttotal: 2.85s\tremaining: 353ms\n",
      "890:\tlearn: 0.0604745\ttotal: 2.86s\tremaining: 350ms\n",
      "891:\tlearn: 0.0603914\ttotal: 2.86s\tremaining: 346ms\n",
      "892:\tlearn: 0.0602662\ttotal: 2.86s\tremaining: 343ms\n",
      "893:\tlearn: 0.0602029\ttotal: 2.86s\tremaining: 340ms\n",
      "894:\tlearn: 0.0601212\ttotal: 2.87s\tremaining: 336ms\n",
      "895:\tlearn: 0.0600585\ttotal: 2.87s\tremaining: 333ms\n",
      "896:\tlearn: 0.0599274\ttotal: 2.87s\tremaining: 330ms\n",
      "897:\tlearn: 0.0598771\ttotal: 2.87s\tremaining: 326ms\n",
      "898:\tlearn: 0.0598146\ttotal: 2.88s\tremaining: 323ms\n",
      "899:\tlearn: 0.0597143\ttotal: 2.88s\tremaining: 320ms\n",
      "900:\tlearn: 0.0596658\ttotal: 2.88s\tremaining: 317ms\n",
      "901:\tlearn: 0.0596193\ttotal: 2.88s\tremaining: 313ms\n",
      "902:\tlearn: 0.0595058\ttotal: 2.88s\tremaining: 310ms\n",
      "903:\tlearn: 0.0594000\ttotal: 2.89s\tremaining: 307ms\n",
      "904:\tlearn: 0.0593314\ttotal: 2.89s\tremaining: 303ms\n",
      "905:\tlearn: 0.0593024\ttotal: 2.89s\tremaining: 300ms\n",
      "906:\tlearn: 0.0592100\ttotal: 2.89s\tremaining: 297ms\n",
      "907:\tlearn: 0.0590744\ttotal: 2.89s\tremaining: 293ms\n",
      "908:\tlearn: 0.0589598\ttotal: 2.9s\tremaining: 290ms\n",
      "909:\tlearn: 0.0589307\ttotal: 2.9s\tremaining: 287ms\n",
      "910:\tlearn: 0.0588003\ttotal: 2.9s\tremaining: 283ms\n",
      "911:\tlearn: 0.0586943\ttotal: 2.9s\tremaining: 280ms\n",
      "912:\tlearn: 0.0586519\ttotal: 2.9s\tremaining: 277ms\n",
      "913:\tlearn: 0.0585358\ttotal: 2.9s\tremaining: 273ms\n",
      "914:\tlearn: 0.0584441\ttotal: 2.91s\tremaining: 270ms\n",
      "915:\tlearn: 0.0582812\ttotal: 2.91s\tremaining: 267ms\n",
      "916:\tlearn: 0.0581988\ttotal: 2.91s\tremaining: 263ms\n",
      "917:\tlearn: 0.0580969\ttotal: 2.91s\tremaining: 260ms\n",
      "918:\tlearn: 0.0580396\ttotal: 2.91s\tremaining: 257ms\n",
      "919:\tlearn: 0.0579450\ttotal: 2.92s\tremaining: 254ms\n",
      "920:\tlearn: 0.0578197\ttotal: 2.92s\tremaining: 250ms\n",
      "921:\tlearn: 0.0577737\ttotal: 2.92s\tremaining: 247ms\n",
      "922:\tlearn: 0.0577285\ttotal: 2.92s\tremaining: 244ms\n",
      "923:\tlearn: 0.0575980\ttotal: 2.92s\tremaining: 240ms\n",
      "924:\tlearn: 0.0575378\ttotal: 2.92s\tremaining: 237ms\n",
      "925:\tlearn: 0.0574155\ttotal: 2.93s\tremaining: 234ms\n",
      "926:\tlearn: 0.0573385\ttotal: 2.93s\tremaining: 231ms\n",
      "927:\tlearn: 0.0572607\ttotal: 2.93s\tremaining: 227ms\n",
      "928:\tlearn: 0.0572171\ttotal: 2.93s\tremaining: 224ms\n",
      "929:\tlearn: 0.0571607\ttotal: 2.93s\tremaining: 221ms\n",
      "930:\tlearn: 0.0570887\ttotal: 2.94s\tremaining: 218ms\n",
      "931:\tlearn: 0.0569649\ttotal: 2.94s\tremaining: 214ms\n",
      "932:\tlearn: 0.0568722\ttotal: 2.94s\tremaining: 211ms\n",
      "933:\tlearn: 0.0568452\ttotal: 2.94s\tremaining: 208ms\n",
      "934:\tlearn: 0.0567543\ttotal: 2.94s\tremaining: 205ms\n"
     ]
    },
    {
     "name": "stdout",
     "output_type": "stream",
     "text": [
      "935:\tlearn: 0.0566916\ttotal: 2.94s\tremaining: 201ms\n",
      "936:\tlearn: 0.0566689\ttotal: 2.95s\tremaining: 198ms\n",
      "937:\tlearn: 0.0565754\ttotal: 2.95s\tremaining: 195ms\n",
      "938:\tlearn: 0.0564855\ttotal: 2.95s\tremaining: 192ms\n",
      "939:\tlearn: 0.0563960\ttotal: 2.96s\tremaining: 189ms\n",
      "940:\tlearn: 0.0562963\ttotal: 2.96s\tremaining: 185ms\n",
      "941:\tlearn: 0.0562093\ttotal: 2.96s\tremaining: 182ms\n",
      "942:\tlearn: 0.0561647\ttotal: 2.96s\tremaining: 179ms\n",
      "943:\tlearn: 0.0560626\ttotal: 2.96s\tremaining: 176ms\n",
      "944:\tlearn: 0.0559778\ttotal: 2.96s\tremaining: 173ms\n",
      "945:\tlearn: 0.0559410\ttotal: 2.97s\tremaining: 169ms\n",
      "946:\tlearn: 0.0558533\ttotal: 2.97s\tremaining: 166ms\n",
      "947:\tlearn: 0.0557712\ttotal: 2.97s\tremaining: 163ms\n",
      "948:\tlearn: 0.0556887\ttotal: 2.97s\tremaining: 160ms\n",
      "949:\tlearn: 0.0556320\ttotal: 2.97s\tremaining: 157ms\n",
      "950:\tlearn: 0.0555985\ttotal: 2.98s\tremaining: 153ms\n",
      "951:\tlearn: 0.0555034\ttotal: 2.98s\tremaining: 150ms\n",
      "952:\tlearn: 0.0554677\ttotal: 2.98s\tremaining: 147ms\n",
      "953:\tlearn: 0.0554592\ttotal: 2.98s\tremaining: 144ms\n",
      "954:\tlearn: 0.0554490\ttotal: 2.99s\tremaining: 141ms\n",
      "955:\tlearn: 0.0553872\ttotal: 2.99s\tremaining: 138ms\n",
      "956:\tlearn: 0.0552977\ttotal: 2.99s\tremaining: 134ms\n",
      "957:\tlearn: 0.0552507\ttotal: 2.99s\tremaining: 131ms\n",
      "958:\tlearn: 0.0551912\ttotal: 3s\tremaining: 128ms\n",
      "959:\tlearn: 0.0551553\ttotal: 3s\tremaining: 125ms\n",
      "960:\tlearn: 0.0550793\ttotal: 3s\tremaining: 122ms\n",
      "961:\tlearn: 0.0550042\ttotal: 3s\tremaining: 119ms\n",
      "962:\tlearn: 0.0549129\ttotal: 3.01s\tremaining: 116ms\n",
      "963:\tlearn: 0.0548152\ttotal: 3.01s\tremaining: 112ms\n",
      "964:\tlearn: 0.0547644\ttotal: 3.01s\tremaining: 109ms\n",
      "965:\tlearn: 0.0546946\ttotal: 3.02s\tremaining: 106ms\n",
      "966:\tlearn: 0.0545907\ttotal: 3.02s\tremaining: 103ms\n",
      "967:\tlearn: 0.0545303\ttotal: 3.03s\tremaining: 100ms\n",
      "968:\tlearn: 0.0544005\ttotal: 3.04s\tremaining: 97.2ms\n",
      "969:\tlearn: 0.0543011\ttotal: 3.04s\tremaining: 94ms\n",
      "970:\tlearn: 0.0542221\ttotal: 3.04s\tremaining: 90.9ms\n",
      "971:\tlearn: 0.0541159\ttotal: 3.04s\tremaining: 87.7ms\n",
      "972:\tlearn: 0.0541101\ttotal: 3.05s\tremaining: 84.5ms\n",
      "973:\tlearn: 0.0540315\ttotal: 3.05s\tremaining: 81.4ms\n",
      "974:\tlearn: 0.0539331\ttotal: 3.05s\tremaining: 78.2ms\n",
      "975:\tlearn: 0.0538516\ttotal: 3.05s\tremaining: 75.1ms\n",
      "976:\tlearn: 0.0537975\ttotal: 3.06s\tremaining: 72ms\n",
      "977:\tlearn: 0.0537287\ttotal: 3.06s\tremaining: 69ms\n",
      "978:\tlearn: 0.0536200\ttotal: 3.08s\tremaining: 66.1ms\n",
      "979:\tlearn: 0.0535383\ttotal: 3.08s\tremaining: 62.9ms\n",
      "980:\tlearn: 0.0535139\ttotal: 3.08s\tremaining: 59.8ms\n",
      "981:\tlearn: 0.0535059\ttotal: 3.09s\tremaining: 56.6ms\n",
      "982:\tlearn: 0.0534934\ttotal: 3.09s\tremaining: 53.4ms\n",
      "983:\tlearn: 0.0534424\ttotal: 3.09s\tremaining: 50.3ms\n",
      "984:\tlearn: 0.0534087\ttotal: 3.1s\tremaining: 47.1ms\n",
      "985:\tlearn: 0.0533244\ttotal: 3.1s\tremaining: 44ms\n",
      "986:\tlearn: 0.0532366\ttotal: 3.1s\tremaining: 40.8ms\n",
      "987:\tlearn: 0.0532300\ttotal: 3.1s\tremaining: 37.7ms\n",
      "988:\tlearn: 0.0531728\ttotal: 3.1s\tremaining: 34.5ms\n",
      "989:\tlearn: 0.0530233\ttotal: 3.11s\tremaining: 31.4ms\n"
     ]
    },
    {
     "name": "stdout",
     "output_type": "stream",
     "text": [
      "990:\tlearn: 0.0529679\ttotal: 3.11s\tremaining: 28.3ms\n",
      "991:\tlearn: 0.0528685\ttotal: 3.11s\tremaining: 25.1ms\n",
      "992:\tlearn: 0.0528351\ttotal: 3.12s\tremaining: 22ms\n",
      "993:\tlearn: 0.0528059\ttotal: 3.12s\tremaining: 18.8ms\n",
      "994:\tlearn: 0.0527453\ttotal: 3.12s\tremaining: 15.7ms\n",
      "995:\tlearn: 0.0526763\ttotal: 3.12s\tremaining: 12.5ms\n",
      "996:\tlearn: 0.0526083\ttotal: 3.13s\tremaining: 9.4ms\n",
      "997:\tlearn: 0.0525774\ttotal: 3.13s\tremaining: 6.27ms\n",
      "998:\tlearn: 0.0524817\ttotal: 3.13s\tremaining: 3.13ms\n",
      "999:\tlearn: 0.0523964\ttotal: 3.13s\tremaining: 0us\n"
     ]
    },
    {
     "data": {
      "text/plain": [
       "<catboost.core.CatBoostRegressor at 0x7fe31002adc0>"
      ]
     },
     "execution_count": 9,
     "metadata": {},
     "output_type": "execute_result"
    }
   ],
   "source": [
    "#Train the Model \n",
    "prior_model = ctb.CatBoostRegressor()\n",
    "prior_model.fit(X_train,Y_train)"
   ]
  },
  {
   "cell_type": "code",
   "execution_count": 10,
   "id": "af65dcda",
   "metadata": {
    "execution": {
     "iopub.execute_input": "2022-07-22T18:20:43.403092Z",
     "iopub.status.busy": "2022-07-22T18:20:43.402711Z",
     "iopub.status.idle": "2022-07-22T18:20:43.491126Z",
     "shell.execute_reply": "2022-07-22T18:20:43.465379Z"
    },
    "id": "af65dcda",
    "papermill": {
     "duration": 0.109316,
     "end_time": "2022-07-22T18:20:43.498527",
     "exception": false,
     "start_time": "2022-07-22T18:20:43.389211",
     "status": "completed"
    },
    "tags": []
   },
   "outputs": [
    {
     "data": {
      "application/scrapbook.scrap.json+json": {
       "data": 0.13829247048962423,
       "encoder": "json",
       "name": "Prior Model MSE",
       "version": 1
      }
     },
     "metadata": {
      "scrapbook": {
       "data": true,
       "display": false,
       "name": "Prior Model MSE"
      }
     },
     "output_type": "display_data"
    },
    {
     "data": {
      "application/scrapbook.scrap.json+json": {
       "data": 1.147635772950349,
       "encoder": "json",
       "name": "ABC Pre-generator MSE",
       "version": 1
      }
     },
     "metadata": {
      "scrapbook": {
       "data": true,
       "display": false,
       "name": "ABC Pre-generator MSE"
      }
     },
     "output_type": "display_data"
    },
    {
     "data": {
      "application/scrapbook.scrap.json+json": {
       "data": 0.24763297423186972,
       "encoder": "json",
       "name": "Prior Model MAE",
       "version": 1
      }
     },
     "metadata": {
      "scrapbook": {
       "data": true,
       "display": false,
       "name": "Prior Model MAE"
      }
     },
     "output_type": "display_data"
    },
    {
     "name": "stdout",
     "output_type": "stream",
     "text": [
      "Prior Model MAE 0.24763297423186972\n",
      "ABC Pre-generator MAE 0.8022182998475719\n"
     ]
    }
   ],
   "source": [
    "y_pred = prior_model.predict(X_test)\n",
    "y_abc = y_pred + np.random.normal(0,variance, y_pred.shape) + bias \n",
    "mse = mean_squared_error(y_pred,Y_test)\n",
    "sb.glue(\"Prior Model MSE\",mse)\n",
    "mse = mean_squared_error(y_abc,Y_test)\n",
    "sb.glue(\"ABC Pre-generator MSE\",mse)\n",
    "mae = mean_absolute_error(y_pred,Y_test)\n",
    "sb.glue(\"Prior Model MAE\",mae)\n",
    "print(\"Prior Model MAE\",mae)\n",
    "mae = mean_absolute_error(y_abc,Y_test)\n",
    "print(\"ABC Pre-generator MAE\",mae)"
   ]
  },
  {
   "cell_type": "markdown",
   "id": "25609da2",
   "metadata": {
    "papermill": {
     "duration": 0.029714,
     "end_time": "2022-07-22T18:20:43.540954",
     "exception": false,
     "start_time": "2022-07-22T18:20:43.511240",
     "status": "completed"
    },
    "tags": []
   },
   "source": [
    "# mGAN Model"
   ]
  },
  {
   "cell_type": "code",
   "execution_count": 11,
   "id": "dfc3464d",
   "metadata": {
    "execution": {
     "iopub.execute_input": "2022-07-22T18:20:43.569302Z",
     "iopub.status.busy": "2022-07-22T18:20:43.568703Z",
     "iopub.status.idle": "2022-07-22T18:20:43.582454Z",
     "shell.execute_reply": "2022-07-22T18:20:43.581234Z"
    },
    "papermill": {
     "duration": 0.031612,
     "end_time": "2022-07-22T18:20:43.585677",
     "exception": false,
     "start_time": "2022-07-22T18:20:43.554065",
     "status": "completed"
    },
    "tags": []
   },
   "outputs": [],
   "source": [
    "# gen = network.Generator(n_features+1).to(device)\n",
    "# disc = network.Discriminator(n_features+1).to(device)\n",
    "\n",
    "# criterion = torch.nn.BCELoss()\n",
    "# gen_opt = torch.optim.Adam(gen.parameters(), lr=0.01, betas=(0.5, 0.999))\n",
    "# disc_opt = torch.optim.Adam(disc.parameters(), lr=0.01, betas=(0.5, 0.999))"
   ]
  },
  {
   "cell_type": "code",
   "execution_count": 12,
   "id": "b75fdd85",
   "metadata": {
    "execution": {
     "iopub.execute_input": "2022-07-22T18:20:43.661588Z",
     "iopub.status.busy": "2022-07-22T18:20:43.661054Z",
     "iopub.status.idle": "2022-07-22T18:20:43.679568Z",
     "shell.execute_reply": "2022-07-22T18:20:43.672485Z"
    },
    "papermill": {
     "duration": 0.064574,
     "end_time": "2022-07-22T18:20:43.684202",
     "exception": false,
     "start_time": "2022-07-22T18:20:43.619628",
     "status": "completed"
    },
    "tags": []
   },
   "outputs": [],
   "source": [
    "#Training the ABC_GAN \n",
    "# ABC_train_test2.training_GAN(disc,gen,disc_opt,gen_opt,train_data,batch_size,n_epochs,criterion,prior_model,variance,bias,device)"
   ]
  },
  {
   "cell_type": "code",
   "execution_count": 13,
   "id": "1fa7c368",
   "metadata": {
    "execution": {
     "iopub.execute_input": "2022-07-22T18:20:43.711229Z",
     "iopub.status.busy": "2022-07-22T18:20:43.710296Z",
     "iopub.status.idle": "2022-07-22T18:20:43.717281Z",
     "shell.execute_reply": "2022-07-22T18:20:43.715289Z"
    },
    "papermill": {
     "duration": 0.025692,
     "end_time": "2022-07-22T18:20:43.723529",
     "exception": false,
     "start_time": "2022-07-22T18:20:43.697837",
     "status": "completed"
    },
    "tags": []
   },
   "outputs": [],
   "source": [
    "# ABC_GAN1_metrics=ABC_train_test2.test_generator(gen,test_data,prior_model,variance,bias,\"1\",device)\n",
    "# sb.glue(\"ABC_GAN_1 Metrics\",ABC_GAN1_metrics)\n",
    "\n",
    "# print(\"MAE\")\n",
    "# print(mean(ABC_GAN1_metrics[1]))"
   ]
  },
  {
   "cell_type": "code",
   "execution_count": 14,
   "id": "eb22ce5c",
   "metadata": {
    "execution": {
     "iopub.execute_input": "2022-07-22T18:20:43.750963Z",
     "iopub.status.busy": "2022-07-22T18:20:43.750647Z",
     "iopub.status.idle": "2022-07-22T18:20:43.758538Z",
     "shell.execute_reply": "2022-07-22T18:20:43.756663Z"
    },
    "papermill": {
     "duration": 0.032372,
     "end_time": "2022-07-22T18:20:43.766124",
     "exception": false,
     "start_time": "2022-07-22T18:20:43.733752",
     "status": "completed"
    },
    "tags": []
   },
   "outputs": [],
   "source": [
    "# sanityChecks.discProbVsError(train_data,disc,device)\n",
    "# sanityChecks.discProbVsError(test_data,disc,device)"
   ]
  },
  {
   "cell_type": "markdown",
   "id": "6190ff61",
   "metadata": {
    "papermill": {
     "duration": 0.010744,
     "end_time": "2022-07-22T18:20:43.794694",
     "exception": false,
     "start_time": "2022-07-22T18:20:43.783950",
     "status": "completed"
    },
    "tags": []
   },
   "source": [
    "# mGAN Model with TabNet Generator"
   ]
  },
  {
   "cell_type": "code",
   "execution_count": 15,
   "id": "30412a7a",
   "metadata": {
    "execution": {
     "iopub.execute_input": "2022-07-22T18:20:43.818781Z",
     "iopub.status.busy": "2022-07-22T18:20:43.818432Z",
     "iopub.status.idle": "2022-07-22T18:20:43.837087Z",
     "shell.execute_reply": "2022-07-22T18:20:43.835719Z"
    },
    "papermill": {
     "duration": 0.034976,
     "end_time": "2022-07-22T18:20:43.840535",
     "exception": false,
     "start_time": "2022-07-22T18:20:43.805559",
     "status": "completed"
    },
    "tags": []
   },
   "outputs": [],
   "source": [
    "gen2 = network.GeneratorTabnet(n_features+1).to(device)\n",
    "disc2 = network.Discriminator(n_features+1).to(device)\n",
    "\n",
    "criterion = torch.nn.BCELoss()\n",
    "gen_opt = torch.optim.Adam(gen2.parameters(), lr=0.01, betas=(0.5, 0.999))\n",
    "disc_opt = torch.optim.Adam(disc2.parameters(), lr=0.01, betas=(0.5, 0.999))"
   ]
  },
  {
   "cell_type": "code",
   "execution_count": 16,
   "id": "55f49e98",
   "metadata": {
    "execution": {
     "iopub.execute_input": "2022-07-22T18:20:43.870865Z",
     "iopub.status.busy": "2022-07-22T18:20:43.870287Z",
     "iopub.status.idle": "2022-07-22T18:31:17.652964Z",
     "shell.execute_reply": "2022-07-22T18:31:17.650553Z"
    },
    "papermill": {
     "duration": 633.807398,
     "end_time": "2022-07-22T18:31:17.659430",
     "exception": false,
     "start_time": "2022-07-22T18:20:43.852032",
     "status": "completed"
    },
    "tags": []
   },
   "outputs": [
    {
     "data": {
      "image/png": "[encoded data removed]",
      "text/plain": [
       "<Figure size 432x288 with 1 Axes>"
      ]
     },
     "metadata": {
      "needs_background": "light"
     },
     "output_type": "display_data"
    },
    {
     "data": {
      "image/png": "[encoded data removed]",
      "text/plain": [
       "<Figure size 432x288 with 1 Axes>"
      ]
     },
     "metadata": {
      "needs_background": "light"
     },
     "output_type": "display_data"
    }
   ],
   "source": [
    "#Training the ABC_GAN \n",
    "ABC_train_test2.training_GAN(disc2,gen2,disc_opt,gen_opt,train_data,batch_size,n_epochs,criterion,prior_model,variance,bias,device)"
   ]
  },
  {
   "cell_type": "code",
   "execution_count": 17,
   "id": "69b50cfc",
   "metadata": {
    "execution": {
     "iopub.execute_input": "2022-07-22T18:31:17.700886Z",
     "iopub.status.busy": "2022-07-22T18:31:17.697660Z",
     "iopub.status.idle": "2022-07-22T18:31:19.440861Z",
     "shell.execute_reply": "2022-07-22T18:31:19.438789Z"
    },
    "papermill": {
     "duration": 1.770452,
     "end_time": "2022-07-22T18:31:19.443783",
     "exception": false,
     "start_time": "2022-07-22T18:31:17.673331",
     "status": "completed"
    },
    "tags": []
   },
   "outputs": [
    {
     "data": {
      "application/scrapbook.scrap.json+json": {
       "data": 0.2409182049897639,
       "encoder": "json",
       "name": "ABC-GAN Model 1 MSE",
       "version": 1
      }
     },
     "metadata": {
      "scrapbook": {
       "data": true,
       "display": false,
       "name": "ABC-GAN Model 1 MSE"
      }
     },
     "output_type": "display_data"
    },
    {
     "data": {
      "application/scrapbook.scrap.json+json": {
       "data": 0.30054536045620256,
       "encoder": "json",
       "name": "ABC-GAN Model 1 MAE",
       "version": 1
      }
     },
     "metadata": {
      "scrapbook": {
       "data": true,
       "display": false,
       "name": "ABC-GAN Model 1 MAE"
      }
     },
     "output_type": "display_data"
    },
    {
     "data": {
      "application/scrapbook.scrap.json+json": {
       "data": 30.65562676653266,
       "encoder": "json",
       "name": "ABC-GAN Model 1 Manhattan Distance",
       "version": 1
      }
     },
     "metadata": {
      "scrapbook": {
       "data": true,
       "display": false,
       "name": "ABC-GAN Model 1 Manhattan Distance"
      }
     },
     "output_type": "display_data"
    },
    {
     "data": {
      "application/scrapbook.scrap.json+json": {
       "data": 4.956256277035201,
       "encoder": "json",
       "name": "ABC-GAN Model 1 Euclidean distance",
       "version": 1
      }
     },
     "metadata": {
      "scrapbook": {
       "data": true,
       "display": false,
       "name": "ABC-GAN Model 1 Euclidean distance"
      }
     },
     "output_type": "display_data"
    },
    {
     "data": {
      "application/scrapbook.scrap.json+json": {
       "data": [
        [
         0.24148489645802898,
         0.22381707804780995,
         0.24037656655398335,
         0.2545958228507166,
         0.2522170649404127,
         0.2357242267799546,
         0.22949812837150335,
         0.2514634434948756,
         0.23510688239484956,
         0.2385490381401287,
         0.2536752594017659,
         0.244723186917768,
         0.2392651438670708,
         0.24034963872315995,
         0.22871380414198664,
         0.24639135335128934,
         0.24424767890147264,
         0.24665185744609466,
         0.24946020781399586,
         0.2401109706741392,
         0.2434813183251771,
         0.2324949542002413,
         0.23176388093844658,
         0.24132129556781465,
         0.24698658016867242,
         0.24570841269408408,
         0.2417309289067221,
         0.22514792394764652,
         0.21941746069917928,
         0.2326252257909033,
         0.2523875412903329,
         0.23985882715170537,
         0.2551112934232751,
         0.22126233309892956,
         0.25523295213427366,
         0.24002060551989435,
         0.2421601356735888,
         0.23546615370697582,
         0.23327698769013316,
         0.24060676315854923,
         0.24099741705536964,
         0.2501202877628013,
         0.24814519009358288,
         0.24374156093951194,
         0.24450420489193617,
         0.23077058405946196,
         0.24394082889890653,
         0.2527261766591065,
         0.2415515114957869,
         0.23786799976220727,
         0.2550206696140631,
         0.24893348068948454,
         0.24237642537658072,
         0.24345673210801066,
         0.24840755342205598,
         0.24505620194454267,
         0.25304903886740415,
         0.21770665793721725,
         0.2284256431474879,
         0.2428387936512275,
         0.2213011656141832,
         0.2518911543400597,
         0.22887344832573966,
         0.23406485207213956,
         0.24322372132126177,
         0.2377519646455619,
         0.24389220171274698,
         0.23053430401493635,
         0.24562134982270514,
         0.2440502836852772,
         0.2227995479339267,
         0.253732982025462,
         0.23139765125955322,
         0.23374318922125195,
         0.2355157001848096,
         0.2353175784882329,
         0.2333069604692776,
         0.24620911586693803,
         0.24150634454200734,
         0.24829750295202296,
         0.23548593030266643,
         0.25468407957361916,
         0.24320746243257207,
         0.25173877856774624,
         0.24278809034282559,
         0.24435264520457006,
         0.2386166322705595,
         0.25501285027345116,
         0.25806686378655597,
         0.21693426366825624,
         0.2376666871220117,
         0.23711101163311077,
         0.23956427132060013,
         0.24531367878064766,
         0.2510413474567255,
         0.23827321314023328,
         0.2421380994957888,
         0.22995939291170953,
         0.24122145437794984,
         0.2534919460824009
        ],
        [
         0.302721380548296,
         0.2975865289678468,
         0.29909210690461535,
         0.3046700935628192,
         0.30063418826709193,
         0.2992029943704313,
         0.29938864092543427,
         0.2996199397808489,
         0.2987809155465049,
         0.3006130174788482,
         0.30049805746724206,
         0.3030136463360167,
         0.3001456812718043,
         0.30046424443157865,
         0.29945825852965025,
         0.3029119795480487,
         0.2997183357274123,
         0.3049813908725685,
         0.3010845817260298,
         0.3024109684332621,
         0.30344149917729346,
         0.2987095325929569,
         0.29835937119216893,
         0.2967983137487489,
         0.3034486470597924,
         0.300934842787683,
         0.2978050756797779,
         0.299977213600833,
         0.2993581490956393,
         0.3012129422825049,
         0.3004485225743231,
         0.2965222455962908,
         0.3040544551559815,
         0.297958109180863,
         0.30507135692545595,
         0.3003980180467753,
         0.30121703078860745,
         0.2950629126097934,
         0.3025464665546429,
         0.3046081831094389,
         0.3055305491731155,
         0.29748418516315084,
         0.3016191628378104,
         0.2977489282870117,
         0.3013904149662338,
         0.29969473816819636,
         0.30239336906621855,
         0.3012309429217495,
         0.3020758068042935,
         0.29939609329563144,
         0.3014192768354334,
         0.3038869497055809,
         0.3010989144700123,
         0.299045366527257,
         0.29852511830554873,
         0.30098396008286404,
         0.2999737809284353,
         0.29728374854825873,
         0.2994195551374087,
         0.3046384929843685,
         0.29795416804286196,
         0.3013047753632361,
         0.2977134966492361,
         0.30138855597333,
         0.3022954832287688,
         0.30216946892951635,
         0.3002345748793553,
         0.3001189709768868,
         0.30106819729667667,
         0.3028540216276751,
         0.2973001117398049,
         0.3013859152538227,
         0.2974292669335709,
         0.2982023349031806,
         0.30101675114722226,
         0.30019218943940074,
         0.30190328590791016,
         0.3001984337198676,
         0.30263809428787697,
         0.30240759248023524,
         0.29662925587492245,
         0.3024471158380894,
         0.30031819124797393,
         0.3007358348946653,
         0.2992492372024001,
         0.2998801221632782,
         0.3017350537702441,
         0.3041849806356956,
         0.30809761644067135,
         0.2951175908503287,
         0.2988634655325144,
         0.30016485658273395,
         0.2999707210042021,
         0.3001725612865651,
         0.2986982251316601,
         0.29935619897921295,
         0.30112314576684845,
         0.29812714086808995,
         0.30032379236802753,
         0.29979605773719503
        ],
        [
         30.877580815926194,
         30.353825954720378,
         30.507394904270768,
         31.07634954340756,
         30.664687203243375,
         30.518705425783992,
         30.537641374394298,
         30.561233857646585,
         30.4756533857435,
         30.662527782842517,
         30.650801861658692,
         30.907391926273704,
         30.61485948972404,
         30.647352932021022,
         30.544742370024323,
         30.89702191390097,
         30.571270244196057,
         31.108101869001985,
         30.71062733605504,
         30.845918780192733,
         30.951032916083932,
         30.468372324481606,
         30.432655861601233,
         30.273428002372384,
         30.951762000098825,
         30.695353964343667,
         30.376117719337344,
         30.59767578728497,
         30.534531207755208,
         30.7237201128155,
         30.645749302580953,
         30.245269050821662,
         31.013554425910115,
         30.391727136448026,
         31.117278406396508,
         30.64059784077108,
         30.72413714043796,
         30.096417086198926,
         30.859739588573575,
         31.070034677162766,
         31.164116015657783,
         30.343386886641383,
         30.76515460945666,
         30.370390685275197,
         30.741822326555848,
         30.568863293156028,
         30.84412364475429,
         30.72555617801845,
         30.811732294037938,
         30.53840151615441,
         30.744766237214208,
         30.99646886996925,
         30.712089275941253,
         30.502627385780215,
         30.44956206716597,
         30.700363928452134,
         30.5973256547004,
         30.322942351922393,
         30.54079462401569,
         31.07312628440559,
         30.39132514037192,
         30.73308708705008,
         30.36677665822208,
         30.741632709279656,
         30.834139289334416,
         30.821285830810666,
         30.62392663769424,
         30.612135039642453,
         30.70895612426102,
         30.89111020602286,
         30.324611397460103,
         30.741363355889916,
         30.33778522722423,
         30.41663816012442,
         30.703708617016673,
         30.619603322818875,
         30.794135162606835,
         30.620240239426494,
         30.869085617363453,
         30.845574432983994,
         30.25618409924209,
         30.84960581548512,
         30.632455507293344,
         30.675055159255862,
         30.52342219464481,
         30.587772460654378,
         30.7769754845649,
         31.02686802484095,
         31.425956876948476,
         30.101994266733527,
         30.48407348431647,
         30.61681537143886,
         30.597013542428613,
         30.617601251229644,
         30.467218963429332,
         30.53433229587972,
         30.71456086821854,
         30.408968368545175,
         30.633026821538806,
         30.579197889193892
        ],
        [
         4.963009111287119,
         4.7780060653871725,
         4.951606788559276,
         5.095956625676193,
         5.072094303532032,
         4.903455019836051,
         4.838265091320787,
         5.064510957286726,
         4.897029916620344,
         4.9327479045956855,
         5.086735343909699,
         4.996175043532035,
         4.94014621994544,
         4.951329432562765,
         4.829990478508486,
         5.013174447576257,
         4.9913187884516255,
         5.015823906348952,
         5.04429788940221,
         4.9488704780749915,
         4.983482163022966,
         4.8697520807967845,
         4.862089659366799,
         4.961327659802071,
         5.01922615322368,
         5.0062219382281254,
         4.965536702964307,
         4.792190338734465,
         4.7308118744372285,
         4.871116199668423,
         5.0738081567609505,
         4.946271360274722,
         5.101112812825654,
         4.750658688654744,
         5.102328989559171,
         4.947939143019972,
         4.969943041796964,
         4.9007701107184705,
         4.877935295224157,
         4.953977174167441,
         4.957997230701899,
         5.050967169939409,
         5.030984932351264,
         4.986144724717707,
         4.993939216588193,
         4.851659466003887,
         4.988182489413199,
         5.0772108503812285,
         4.9636936018020155,
         4.925701571933194,
         5.100206691952242,
         5.038969639750514,
         4.972162043659803,
         4.9832305460431074,
         5.033643854013682,
         4.9995732416220635,
         5.080452929067961,
         4.7123326611770695,
         4.826946819786164,
         4.976902345076223,
         4.751075551140676,
         5.068816207230845,
         4.831675871705949,
         4.886165665566225,
         4.980845267097614,
         4.924500014605271,
         4.987685292267365,
         4.849175085467992,
         5.005334922052262,
         4.989301447687669,
         4.76713266956779,
         5.087314042458665,
         4.858246641379421,
         4.88280711277516,
         4.901285690392938,
         4.89922371461028,
         4.8782486578552255,
         5.011320167224169,
         4.963229507415988,
         5.0325287183588285,
         4.900975912088527,
         5.096839816642186,
         4.980678785880731,
         5.067282843290881,
         4.976382744018814,
         4.992391191690225,
         4.933446715187778,
         5.100128501115635,
         5.130576975957841,
         4.703965868728444,
         4.923616768844342,
         4.917857580957109,
         4.943233321895823,
         5.002199039984919,
         5.060258633764286,
         4.92989530723562,
         4.9697169082927095,
         4.8431248256672434,
         4.960301235464524,
         5.084897098310337
        ]
       ],
       "encoder": "json",
       "name": "ABC_GAN_2 Metrics",
       "version": 1
      }
     },
     "metadata": {
      "scrapbook": {
       "data": true,
       "display": false,
       "name": "ABC_GAN_2 Metrics"
      }
     },
     "output_type": "display_data"
    },
    {
     "name": "stdout",
     "output_type": "stream",
     "text": [
      "MAE\n",
      "0.30054536045620256\n"
     ]
    }
   ],
   "source": [
    "ABC_GAN2_metrics=ABC_train_test2.test_generator(gen2,test_data,prior_model,variance,bias,\"1\",device)\n",
    "sb.glue(\"ABC_GAN_2 Metrics\",ABC_GAN2_metrics)\n",
    "\n",
    "print(\"MAE\")\n",
    "print(mean(ABC_GAN2_metrics[1]))"
   ]
  },
  {
   "cell_type": "code",
   "execution_count": 18,
   "id": "b5001ad0",
   "metadata": {
    "execution": {
     "iopub.execute_input": "2022-07-22T18:31:19.506280Z",
     "iopub.status.busy": "2022-07-22T18:31:19.505965Z",
     "iopub.status.idle": "2022-07-22T18:31:20.574647Z",
     "shell.execute_reply": "2022-07-22T18:31:20.571032Z"
    },
    "papermill": {
     "duration": 1.124399,
     "end_time": "2022-07-22T18:31:20.583471",
     "exception": false,
     "start_time": "2022-07-22T18:31:19.459072",
     "status": "completed"
    },
    "tags": []
   },
   "outputs": [
    {
     "data": {
      "image/png": "[encoded data removed]",
      "text/plain": [
       "<Figure size 432x288 with 1 Axes>"
      ]
     },
     "metadata": {
      "needs_background": "light"
     },
     "output_type": "display_data"
    },
    {
     "data": {
      "image/png": "[encoded data removed]",
      "text/plain": [
       "<Figure size 432x288 with 1 Axes>"
      ]
     },
     "metadata": {
      "needs_background": "light"
     },
     "output_type": "display_data"
    },
    {
     "data": {
      "image/png": "[encoded data removed]",
      "text/plain": [
       "<Figure size 432x288 with 1 Axes>"
      ]
     },
     "metadata": {
      "needs_background": "light"
     },
     "output_type": "display_data"
    },
    {
     "data": {
      "image/png": "[encoded data removed]",
      "text/plain": [
       "<Figure size 432x288 with 1 Axes>"
      ]
     },
     "metadata": {
      "needs_background": "light"
     },
     "output_type": "display_data"
    }
   ],
   "source": [
    "sanityChecks.discProbVsError(train_data,disc2,device)\n",
    "sanityChecks.discProbVsError(test_data,disc2,device)"
   ]
  },
  {
   "cell_type": "markdown",
   "id": "130f3a4d",
   "metadata": {
    "id": "130f3a4d",
    "papermill": {
     "duration": 0.017837,
     "end_time": "2022-07-22T18:31:20.619133",
     "exception": false,
     "start_time": "2022-07-22T18:31:20.601296",
     "status": "completed"
    },
    "tags": []
   },
   "source": [
    "# skipGAN Model"
   ]
  },
  {
   "cell_type": "code",
   "execution_count": 19,
   "id": "4e43dad1",
   "metadata": {
    "execution": {
     "iopub.execute_input": "2022-07-22T18:31:20.666213Z",
     "iopub.status.busy": "2022-07-22T18:31:20.662334Z",
     "iopub.status.idle": "2022-07-22T18:31:20.672070Z",
     "shell.execute_reply": "2022-07-22T18:31:20.671069Z"
    },
    "id": "4e43dad1",
    "papermill": {
     "duration": 0.044686,
     "end_time": "2022-07-22T18:31:20.681710",
     "exception": false,
     "start_time": "2022-07-22T18:31:20.637024",
     "status": "completed"
    },
    "tags": []
   },
   "outputs": [],
   "source": [
    "# #Generator\n",
    "# gen3 = network.GeneratorWithSkipConnection(n_features+1).to(device)\n",
    "# constraints=network.weightConstraint()\n",
    "# #Discriminator \n",
    "# disc3 = network.Discriminator(n_features+1).to(device)\n",
    "\n",
    "# criterion = torch.nn.BCELoss()\n",
    "# gen_opt = torch.optim.Adam(gen3.parameters(), lr=0.01, betas=(0.5, 0.999))\n",
    "# disc_opt = torch.optim.Adam(disc3.parameters(), lr=0.01, betas=(0.5, 0.999))\n"
   ]
  },
  {
   "cell_type": "markdown",
   "id": "b8a428e9",
   "metadata": {
    "tags": [
     "papermill-error-cell-tag"
    ]
   },
   "source": [
    "<span id=\"papermill-error-cell\" style=\"color:red; font-family:Helvetica Neue, Helvetica, Arial, sans-serif; font-size:2em;\">Execution using papermill encountered an exception here and stopped:</span>"
   ]
  },
  {
   "cell_type": "code",
   "execution_count": 20,
   "id": "26acbc37",
   "metadata": {
    "execution": {
     "iopub.execute_input": "2022-07-22T18:31:20.722816Z",
     "iopub.status.busy": "2022-07-22T18:31:20.722133Z",
     "iopub.status.idle": "2022-07-22T18:31:22.157280Z",
     "shell.execute_reply": "2022-07-22T18:31:22.155142Z"
    },
    "id": "26acbc37",
    "papermill": {
     "duration": 1.461478,
     "end_time": "2022-07-22T18:31:22.160013",
     "exception": true,
     "start_time": "2022-07-22T18:31:20.698535",
     "status": "failed"
    },
    "tags": []
   },
   "outputs": [
    {
     "ename": "NameError",
     "evalue": "name 'disc3' is not defined",
     "output_type": "error",
     "traceback": [
      "\u001b[0;31m---------------------------------------------------------------------------\u001b[0m",
      "\u001b[0;31mNameError\u001b[0m                                 Traceback (most recent call last)",
      "Input \u001b[0;32mIn [20]\u001b[0m, in \u001b[0;36m<cell line: 1>\u001b[0;34m()\u001b[0m\n\u001b[0;32m----> 1\u001b[0m ABC_train_test2\u001b[38;5;241m.\u001b[39mtraining_GAN_skip_connection(\u001b[43mdisc3\u001b[49m,gen3,disc_opt,gen_opt,train_data,batch_size,n_epochs,criterion,prior_model,variance,bias,device)\n",
      "\u001b[0;31mNameError\u001b[0m: name 'disc3' is not defined"
     ]
    }
   ],
   "source": [
    "ABC_train_test2.training_GAN_skip_connection(disc3,gen3,disc_opt,gen_opt,train_data,batch_size,n_epochs,criterion,prior_model,variance,bias,device)"
   ]
  },
  {
   "cell_type": "code",
   "execution_count": null,
   "id": "c5e0717b",
   "metadata": {
    "id": "c5e0717b",
    "papermill": {
     "duration": null,
     "end_time": null,
     "exception": null,
     "start_time": null,
     "status": "pending"
    },
    "tags": []
   },
   "outputs": [],
   "source": [
    "# ABC_GAN3_metrics=ABC_train_test2.test_generator(gen3,test_data,prior_model,variance,bias,\"3\",device)\n",
    "# sb.glue(\"ABC_GAN_3 Metrics\",ABC_GAN3_metrics)\n",
    "\n",
    "# print(\"MAE\")\n",
    "# print(mean(ABC_GAN3_metrics[1]))"
   ]
  },
  {
   "cell_type": "code",
   "execution_count": null,
   "id": "c8e46b48",
   "metadata": {
    "id": "c8e46b48",
    "papermill": {
     "duration": null,
     "end_time": null,
     "exception": null,
     "start_time": null,
     "status": "pending"
    },
    "tags": []
   },
   "outputs": [],
   "source": [
    "# sanityChecks.discProbVsError(train_data,disc3,device)\n",
    "# sanityChecks.discProbVsError(test_data,disc3,device)"
   ]
  },
  {
   "cell_type": "markdown",
   "id": "402676f1",
   "metadata": {
    "id": "130f3a4d",
    "papermill": {
     "duration": null,
     "end_time": null,
     "exception": null,
     "start_time": null,
     "status": "pending"
    },
    "tags": []
   },
   "source": [
    "# skipGAN Model with TabNet Generator"
   ]
  },
  {
   "cell_type": "code",
   "execution_count": null,
   "id": "5b84fa20",
   "metadata": {
    "id": "4e43dad1",
    "papermill": {
     "duration": null,
     "end_time": null,
     "exception": null,
     "start_time": null,
     "status": "pending"
    },
    "tags": []
   },
   "outputs": [],
   "source": [
    "# #Generator\n",
    "# gen4 = network.GeneratorTabnetskipConnection(n_features+1).to(device)\n",
    "# constraints=network.weightConstraint()\n",
    "# #Discriminator \n",
    "# disc4 = network.Discriminator(n_features+1).to(device)\n",
    "\n",
    "# criterion = torch.nn.BCELoss()\n",
    "# gen_opt = torch.optim.Adam(gen4.parameters(), lr=0.01, betas=(0.5, 0.999))\n",
    "# disc_opt = torch.optim.Adam(disc4.parameters(), lr=0.01, betas=(0.5, 0.999))\n"
   ]
  },
  {
   "cell_type": "code",
   "execution_count": null,
   "id": "843aa9b8",
   "metadata": {
    "id": "26acbc37",
    "papermill": {
     "duration": null,
     "end_time": null,
     "exception": null,
     "start_time": null,
     "status": "pending"
    },
    "tags": []
   },
   "outputs": [],
   "source": [
    "# ABC_train_test2.training_GAN_skip_connection(disc4,gen4,disc_opt,gen_opt,train_data,batch_size,n_epochs,criterion,prior_model,variance,bias,device)"
   ]
  },
  {
   "cell_type": "code",
   "execution_count": null,
   "id": "1e4c1e5b",
   "metadata": {
    "id": "c5e0717b",
    "papermill": {
     "duration": null,
     "end_time": null,
     "exception": null,
     "start_time": null,
     "status": "pending"
    },
    "tags": []
   },
   "outputs": [],
   "source": [
    "# ABC_GAN4_metrics=ABC_train_test2.test_generator(gen4,test_data,prior_model,variance,bias,\"3\",device)\n",
    "# sb.glue(\"ABC_GAN_4 Metrics\",ABC_GAN4_metrics)\n",
    "\n",
    "# print(\"MAE\")\n",
    "# print(mean(ABC_GAN4_metrics[1]))"
   ]
  },
  {
   "cell_type": "code",
   "execution_count": null,
   "id": "6db11e50",
   "metadata": {
    "id": "c8e46b48",
    "papermill": {
     "duration": null,
     "end_time": null,
     "exception": null,
     "start_time": null,
     "status": "pending"
    },
    "tags": []
   },
   "outputs": [],
   "source": [
    "# sanityChecks.discProbVsError(train_data,disc4,device)\n",
    "# sanityChecks.discProbVsError(test_data,disc4,device)"
   ]
  },
  {
   "cell_type": "markdown",
   "id": "a5bd74c3",
   "metadata": {
    "id": "a5bd74c3",
    "papermill": {
     "duration": null,
     "end_time": null,
     "exception": null,
     "start_time": null,
     "status": "pending"
    },
    "tags": []
   },
   "source": [
    "## Skip Connection Model Analysis - ABC-GAN "
   ]
  },
  {
   "cell_type": "markdown",
   "id": "5744a8bf",
   "metadata": {
    "id": "5744a8bf",
    "papermill": {
     "duration": null,
     "end_time": null,
     "exception": null,
     "start_time": null,
     "status": "pending"
    },
    "tags": []
   },
   "source": [
    "### Weight Analysis \n",
    "\n",
    "Study the weights of the skip connection layer\n",
    "\n",
    "Equation of the skip connection is \n",
    "\n",
    "$output = y_{gan} * w + y_{abc} * (1-w)$"
   ]
  },
  {
   "cell_type": "code",
   "execution_count": null,
   "id": "52c31dea",
   "metadata": {
    "id": "52c31dea",
    "papermill": {
     "duration": null,
     "end_time": null,
     "exception": null,
     "start_time": null,
     "status": "pending"
    },
    "tags": []
   },
   "outputs": [],
   "source": [
    "# print(\"Weight of the node at skip connection\")\n",
    "# for name,param in gen3.named_parameters():\n",
    "#     if(name == \"skipNode.weight\"):\n",
    "#         print(param)\n",
    "#         sb.glue(\"Skip Connection Weight\",param.item())"
   ]
  },
  {
   "cell_type": "markdown",
   "id": "4f61d962",
   "metadata": {
    "id": "a5bd74c3",
    "papermill": {
     "duration": null,
     "end_time": null,
     "exception": null,
     "start_time": null,
     "status": "pending"
    },
    "tags": []
   },
   "source": [
    "## skipGAN Model Analysis (TabNet Generator) "
   ]
  },
  {
   "cell_type": "markdown",
   "id": "79c954d1",
   "metadata": {
    "id": "5744a8bf",
    "papermill": {
     "duration": null,
     "end_time": null,
     "exception": null,
     "start_time": null,
     "status": "pending"
    },
    "tags": []
   },
   "source": [
    "### Weight Analysis \n",
    "\n",
    "Study the weights of the skip connection layer\n",
    "\n",
    "Equation of the skip connection is \n",
    "\n",
    "$output = y_{gan} * w + y_{abc} * (1-w)$"
   ]
  },
  {
   "cell_type": "code",
   "execution_count": null,
   "id": "fe898f02",
   "metadata": {
    "id": "52c31dea",
    "papermill": {
     "duration": null,
     "end_time": null,
     "exception": null,
     "start_time": null,
     "status": "pending"
    },
    "tags": []
   },
   "outputs": [],
   "source": [
    "# print(\"Weight of the node at skip connection\")\n",
    "# for name,param in gen4.named_parameters():\n",
    "#     if(name == \"skipNode.weight\"):\n",
    "#         print(param)\n",
    "#         sb.glue(\"Skip Connection Weight\",param.item())"
   ]
  }
 ],
 "metadata": {
  "colab": {
   "collapsed_sections": [],
   "name": "ABC_GAN_Model-Catboost_Pre-gen.ipynb",
   "provenance": []
  },
  "interpreter": {
   "hash": "31f2aee4e71d21fbe5cf8b01ff0e069b9275f58929596ceb00d14d90e3e16cd6"
  },
  "kernelspec": {
   "display_name": "Python 3 (ipykernel)",
   "language": "python",
   "name": "python3"
  },
  "language_info": {
   "codemirror_mode": {
    "name": "ipython",
    "version": 3
   },
   "file_extension": ".py",
   "mimetype": "text/x-python",
   "name": "python",
   "nbconvert_exporter": "python",
   "pygments_lexer": "ipython3",
   "version": "3.8.13"
  },
  "papermill": {
   "default_parameters": {},
   "duration": 654.159157,
   "end_time": "2022-07-22T18:31:23.397387",
   "environment_variables": {},
   "exception": true,
   "input_path": "ABC_GAN-Catboost.ipynb",
   "output_path": "./ABC_GAN_Catboost/ABC-GAN_output_1_3.ipynb",
   "parameters": {
    "bias": 0.1,
    "variance": 1
   },
   "start_time": "2022-07-22T18:20:29.238230",
   "version": "2.3.3"
  }
 },
 "nbformat": 4,
 "nbformat_minor": 5
}