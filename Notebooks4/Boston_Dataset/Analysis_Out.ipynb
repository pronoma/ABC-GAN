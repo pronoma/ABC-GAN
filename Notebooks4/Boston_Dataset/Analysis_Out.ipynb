{
 "cells": [
  {
   "cell_type": "markdown",
   "id": "e0cbac72",
   "metadata": {
    "tags": [
     "papermill-error-cell-tag"
    ]
   },
   "source": [
    "<span style=\"color:red; font-family:Helvetica Neue, Helvetica, Arial, sans-serif; font-size:2em;\">An Exception was encountered at '<a href=\"#papermill-error-cell\">In [6]</a>'.</span>"
   ]
  },
  {
   "cell_type": "code",
   "execution_count": 1,
   "id": "423b7ca4",
   "metadata": {
    "execution": {
     "iopub.execute_input": "2022-07-23T04:49:32.838598Z",
     "iopub.status.busy": "2022-07-23T04:49:32.837977Z",
     "iopub.status.idle": "2022-07-23T04:49:32.869097Z",
     "shell.execute_reply": "2022-07-23T04:49:32.867243Z"
    },
    "papermill": {
     "duration": 0.043808,
     "end_time": "2022-07-23T04:49:32.872627",
     "exception": false,
     "start_time": "2022-07-23T04:49:32.828819",
     "status": "completed"
    },
    "tags": []
   },
   "outputs": [],
   "source": [
    "import warnings\n",
    "warnings.filterwarnings('ignore')"
   ]
  },
  {
   "cell_type": "code",
   "execution_count": 2,
   "id": "618121c9",
   "metadata": {
    "execution": {
     "iopub.execute_input": "2022-07-23T04:49:32.886725Z",
     "iopub.status.busy": "2022-07-23T04:49:32.886377Z",
     "iopub.status.idle": "2022-07-23T04:49:37.982257Z",
     "shell.execute_reply": "2022-07-23T04:49:37.980590Z"
    },
    "papermill": {
     "duration": 5.1096,
     "end_time": "2022-07-23T04:49:37.986583",
     "exception": false,
     "start_time": "2022-07-23T04:49:32.876983",
     "status": "completed"
    },
    "tags": []
   },
   "outputs": [],
   "source": [
    "import scrapbook as sb \n",
    "import pandas as pd\n",
    "import numpy as np \n",
    "import seaborn as sns \n",
    "import numpy as np\n",
    "from statistics import mean , median\n",
    "import matplotlib.pyplot as plt"
   ]
  },
  {
   "cell_type": "markdown",
   "id": "8842137f",
   "metadata": {
    "papermill": {
     "duration": 0.070618,
     "end_time": "2022-07-23T04:49:38.075625",
     "exception": false,
     "start_time": "2022-07-23T04:49:38.005007",
     "status": "completed"
    },
    "tags": []
   },
   "source": [
    "# Baseline "
   ]
  },
  {
   "cell_type": "code",
   "execution_count": 3,
   "id": "a9dce367",
   "metadata": {
    "execution": {
     "iopub.execute_input": "2022-07-23T04:49:38.088408Z",
     "iopub.status.busy": "2022-07-23T04:49:38.087923Z",
     "iopub.status.idle": "2022-07-23T04:49:38.092575Z",
     "shell.execute_reply": "2022-07-23T04:49:38.091771Z"
    },
    "papermill": {
     "duration": 0.014783,
     "end_time": "2022-07-23T04:49:38.095615",
     "exception": false,
     "start_time": "2022-07-23T04:49:38.080832",
     "status": "completed"
    },
    "tags": []
   },
   "outputs": [],
   "source": [
    "# books = sb.read_notebooks(\"./BaseLine_Model_Output\")\n",
    "# baseLine_data = []\n",
    "# for nb in books.notebooks: \n",
    "#     nbList=[nb.scraps['Stats Model MAE'].data,nb.scraps['Catboost MAE'].data,nb.scraps['TabNet MAE'].data]\n",
    "#     baseLine_data.append(nbList)\n",
    "# df = pd.DataFrame(baseLine_data, columns = [\"Stats Model\",\"Catboost\", \"TabNet\"])\n",
    "# baseline_data = np.array(baseLine_data)\n",
    "# stats = median(baseline_data[:,0])\n",
    "# catboost = median(baseline_data[:,1])\n",
    "# tabnet = median(baseline_data[:,2])\n",
    "# print(stats)\n",
    "# print(catboost)\n",
    "# print(tabnet)"
   ]
  },
  {
   "cell_type": "markdown",
   "id": "2ef4d014",
   "metadata": {
    "papermill": {
     "duration": 0.004954,
     "end_time": "2022-07-23T04:49:38.105150",
     "exception": false,
     "start_time": "2022-07-23T04:49:38.100196",
     "status": "completed"
    },
    "tags": []
   },
   "source": [
    "# GAN Model"
   ]
  },
  {
   "cell_type": "code",
   "execution_count": 4,
   "id": "ce2d028d",
   "metadata": {
    "execution": {
     "iopub.execute_input": "2022-07-23T04:49:38.121460Z",
     "iopub.status.busy": "2022-07-23T04:49:38.120733Z",
     "iopub.status.idle": "2022-07-23T04:49:38.133840Z",
     "shell.execute_reply": "2022-07-23T04:49:38.132702Z"
    },
    "papermill": {
     "duration": 0.031279,
     "end_time": "2022-07-23T04:49:38.140943",
     "exception": false,
     "start_time": "2022-07-23T04:49:38.109664",
     "status": "completed"
    },
    "tags": []
   },
   "outputs": [],
   "source": [
    "# book = sb.read_notebooks(\"./GAN_Output\")\n",
    "# gan_data = []\n",
    "# gan_mse = []\n",
    "# for nb in book.notebooks:\n",
    "#     metrics = nb.scraps['GAN_1 Metrics'].data\n",
    "#     for i in range(1000):\n",
    "#         gan_mse.append(metrics[0][i])\n",
    "#     nbList = [nb.scraps['GAN Model MSE'].data,\n",
    "#               nb.scraps['GAN Model MAE'].data,\n",
    "#               nb.scraps['GAN Model Euclidean distance'].data,\n",
    "#               nb.scraps['GAN Model Manhattan Distance'].data]        \n",
    "#     gan_data.append(nbList)\n",
    "    \n",
    "# df = pd.DataFrame(gan_data, columns = ['MSE','MAE','Euclidean Distance','Manhattan Distance'])\n",
    "# display(df.style)\n",
    "# print(\"MEDIAN:\")\n",
    "# print(df.median(axis = 0))\n",
    "# gan_data = np.array(gan_data)\n",
    "# gan_median = median(gan_data[:,1])\n",
    "# print(gan_median)"
   ]
  },
  {
   "cell_type": "markdown",
   "id": "6df1da64",
   "metadata": {
    "papermill": {
     "duration": 0.005348,
     "end_time": "2022-07-23T04:49:38.167629",
     "exception": false,
     "start_time": "2022-07-23T04:49:38.162281",
     "status": "completed"
    },
    "tags": []
   },
   "source": [
    "# GAN Model with TabNet generator"
   ]
  },
  {
   "cell_type": "code",
   "execution_count": 5,
   "id": "7bfe4fcb",
   "metadata": {
    "execution": {
     "iopub.execute_input": "2022-07-23T04:49:38.198778Z",
     "iopub.status.busy": "2022-07-23T04:49:38.198400Z",
     "iopub.status.idle": "2022-07-23T04:49:38.202927Z",
     "shell.execute_reply": "2022-07-23T04:49:38.202118Z"
    },
    "papermill": {
     "duration": 0.017556,
     "end_time": "2022-07-23T04:49:38.207911",
     "exception": false,
     "start_time": "2022-07-23T04:49:38.190355",
     "status": "completed"
    },
    "tags": []
   },
   "outputs": [],
   "source": [
    "# book = sb.read_notebooks(\"./GAN_Output\")\n",
    "# gan_data = []\n",
    "# gan_mse = []\n",
    "# for nb in book.notebooks:\n",
    "#     metrics = nb.scraps[\"GAN_2 Metrics\"].data\n",
    "#     for i in range(1000):\n",
    "#         gan_mse.append(metrics[0][i])\n",
    "#     nbList = [nb.scraps['GAN Model MSE'].data,\n",
    "#               nb.scraps['GAN Model MAE'].data,\n",
    "#               nb.scraps['GAN Model Euclidean distance'].data,\n",
    "#               nb.scraps['GAN Model Manhattan Distance'].data]        \n",
    "#     gan_data.append(nbList)\n",
    "    \n",
    "# df = pd.DataFrame(gan_data, columns = ['MSE','MAE','Euclidean Distance','Manhattan Distance'])\n",
    "# display(df.style)\n",
    "# print(\"MEDIAN:\")\n",
    "# print(df.median(axis = 0))\n",
    "# gan_data = np.array(gan_data)\n",
    "# gan_median = median(gan_data[:,1])\n",
    "# print(gan_median)"
   ]
  },
  {
   "cell_type": "markdown",
   "id": "db69b3bd",
   "metadata": {
    "papermill": {
     "duration": 0.007281,
     "end_time": "2022-07-23T04:49:38.235244",
     "exception": false,
     "start_time": "2022-07-23T04:49:38.227963",
     "status": "completed"
    },
    "tags": []
   },
   "source": [
    "# ABC_GAN Analysis"
   ]
  },
  {
   "cell_type": "markdown",
   "id": "930ab0e5",
   "metadata": {
    "papermill": {
     "duration": 0.005624,
     "end_time": "2022-07-23T04:49:38.246190",
     "exception": false,
     "start_time": "2022-07-23T04:49:38.240566",
     "status": "completed"
    },
    "tags": []
   },
   "source": [
    "## ABC Pre-generator - Catboost \n"
   ]
  },
  {
   "cell_type": "markdown",
   "id": "583f9e30",
   "metadata": {
    "tags": [
     "papermill-error-cell-tag"
    ]
   },
   "source": [
    "<span id=\"papermill-error-cell\" style=\"color:red; font-family:Helvetica Neue, Helvetica, Arial, sans-serif; font-size:2em;\">Execution using papermill encountered an exception here and stopped:</span>"
   ]
  },
  {
   "cell_type": "code",
   "execution_count": 6,
   "id": "ea491444",
   "metadata": {
    "execution": {
     "iopub.execute_input": "2022-07-23T04:49:38.259322Z",
     "iopub.status.busy": "2022-07-23T04:49:38.258693Z",
     "iopub.status.idle": "2022-07-23T04:49:42.494625Z",
     "shell.execute_reply": "2022-07-23T04:49:42.493015Z"
    },
    "papermill": {
     "duration": 4.245564,
     "end_time": "2022-07-23T04:49:42.496749",
     "exception": true,
     "start_time": "2022-07-23T04:49:38.251185",
     "status": "failed"
    },
    "tags": []
   },
   "outputs": [
    {
     "ename": "KeyError",
     "evalue": "'Prior Model MAE'",
     "output_type": "error",
     "traceback": [
      "\u001b[0;31m---------------------------------------------------------------------------\u001b[0m",
      "\u001b[0;31mKeyError\u001b[0m                                  Traceback (most recent call last)",
      "Input \u001b[0;32mIn [6]\u001b[0m, in \u001b[0;36m<cell line: 13>\u001b[0;34m()\u001b[0m\n\u001b[1;32m     26\u001b[0m     abc_tab_mae[i]\u001b[38;5;241m.\u001b[39mappend(metrics2[\u001b[38;5;241m1\u001b[39m,j])\n\u001b[1;32m     27\u001b[0m     \u001b[38;5;66;03m# abc_tab_mae_skip[i].append(metrics4[1,j])\u001b[39;00m\n\u001b[1;32m     28\u001b[0m \u001b[38;5;66;03m# abc_weights[i].append(nb.scraps['Skip Connection Weight'].data)\u001b[39;00m\n\u001b[0;32m---> 29\u001b[0m prior_model[i]\u001b[38;5;241m.\u001b[39mappend(\u001b[43mnb\u001b[49m\u001b[38;5;241;43m.\u001b[39;49m\u001b[43mscraps\u001b[49m\u001b[43m[\u001b[49m\u001b[38;5;124;43m'\u001b[39;49m\u001b[38;5;124;43mPrior Model MAE\u001b[39;49m\u001b[38;5;124;43m'\u001b[39;49m\u001b[43m]\u001b[49m\u001b[38;5;241m.\u001b[39mdata)\n\u001b[1;32m     30\u001b[0m abc_pre_generator[i]\u001b[38;5;241m.\u001b[39mappend(nb\u001b[38;5;241m.\u001b[39mscraps[\u001b[38;5;124m'\u001b[39m\u001b[38;5;124mABC Pre-generator MAE\u001b[39m\u001b[38;5;124m'\u001b[39m]\u001b[38;5;241m.\u001b[39mdata)\n\u001b[1;32m     31\u001b[0m \u001b[38;5;66;03m# abc_mae_skip_mean[i].append(mean(metrics3[1,:]))\u001b[39;00m\n\u001b[1;32m     32\u001b[0m \u001b[38;5;66;03m# abc_mae_mean[i].append(mean(metrics1[1,:]))\u001b[39;00m\n",
      "\u001b[0;31mKeyError\u001b[0m: 'Prior Model MAE'"
     ]
    }
   ],
   "source": [
    "book = sb.read_notebooks(\"./ABC_GAN_Stats\")\n",
    "paramVal = [[1,1],[1,0.1],[1,0.01],[1,0],[0.1,1],[0.1,0.1],[0.1,0.01],[0.1,0],[0.01,1],[0.01,0.1],[0.01,0.01],[0.01,0]]\n",
    "abc_mae = [[] for i in range(12)]\n",
    "abc_tab_mae = [[] for i in range(12)]\n",
    "abc_mae_skip = [[] for i in range(12)]\n",
    "abc_tab_mae_skip = [[] for i in range(12)]\n",
    "abc_mae_mean = [[] for i in range(12)]\n",
    "abc_mae_skip_mean = [[] for i in range(12)]\n",
    "abc_weights = [[] for i in range(12)]\n",
    "prior_model = [[] for i in range(12)]\n",
    "abc_pre_generator = [[] for i in range(12)]\n",
    "\n",
    "for nb in book.notebooks:\n",
    "    # metrics1 = np.array(nb.scraps['ABC_GAN_1 Metrics'].data)\n",
    "    metrics2 = np.array(nb.scraps['ABC_GAN_2 Metrics'].data)\n",
    "    # metrics3 = np.array(nb.scraps['ABC_GAN_3 Metrics'].data)\n",
    "    # metrics4 = np.array(nb.scraps['ABC_GAN_4 Metrics'].data)\n",
    "    paramVar = float(nb.papermill_dataframe.iloc[0]['value'])\n",
    "    paramBias = float(nb.papermill_dataframe.iloc[1]['value'])\n",
    "    #Divide data according to parameters \n",
    "    for i in range(12):\n",
    "        if paramVar == paramVal[i][0] and paramBias == paramVal[i][1]:\n",
    "            for j in range(100):\n",
    "                # abc_mae[i].append(metrics1[1,j])\n",
    "                # abc_mae_skip[i].append(metrics3[1,j])\n",
    "                abc_tab_mae[i].append(metrics2[1,j])\n",
    "                # abc_tab_mae_skip[i].append(metrics4[1,j])\n",
    "            # abc_weights[i].append(nb.scraps['Skip Connection Weight'].data)\n",
    "            prior_model[i].append(nb.scraps['Prior Model MAE'].data)\n",
    "            abc_pre_generator[i].append(nb.scraps['ABC Pre-generator MAE'].data)\n",
    "            # abc_mae_skip_mean[i].append(mean(metrics3[1,:]))\n",
    "            # abc_mae_mean[i].append(mean(metrics1[1,:]))\n",
    "            abc_mae_mean[i].append(mean(metrics2[1,:]))"
   ]
  },
  {
   "cell_type": "code",
   "execution_count": null,
   "id": "d0d13f91",
   "metadata": {
    "papermill": {
     "duration": null,
     "end_time": null,
     "exception": null,
     "start_time": null,
     "status": "pending"
    },
    "tags": []
   },
   "outputs": [],
   "source": [
    "\n",
    "data = [[] for i in range(9)]\n",
    "for i in range(9):\n",
    "    for j in range(len(abc_weights[i])):\n",
    "        data[i].append([paramVal[i][0], paramVal[i][1],prior_model[i][j],\n",
    "                     abc_pre_generator[i][j],abc_weights[i][j],abc_mae_mean[i][j],abc_mae_skip_mean[i][j]])\n",
    "    df = pd.DataFrame(data[i], columns = ['Variance','Bias','Prior Model MAE',\n",
    "                                       'ABC pre-generator MAE','Skip Node weight','ABC GAN MAE','ABC_GAN MAE (skip connection)'])\n",
    "    display(df.round(5))\n",
    "    print(df.median(axis=0))\n",
    "    print(\"-------------------------------------------------------------\")"
   ]
  },
  {
   "cell_type": "code",
   "execution_count": null,
   "id": "a9698979",
   "metadata": {
    "papermill": {
     "duration": null,
     "end_time": null,
     "exception": null,
     "start_time": null,
     "status": "pending"
    },
    "tags": []
   },
   "outputs": [],
   "source": [
    "# Display Catboost Summary Tables \n",
    "data = np.array(data)\n",
    "catboostData = []\n",
    "for i in range(9): \n",
    "    catboostData.append([gan_median,catboost, paramVal[i][0], paramVal[i][1],median(data[i][:,3]),median(data[i][:,5]),median(data[i][:,6]),median(data[i][:,4])])\n",
    "df = pd.DataFrame(catboostData, columns = ['GAN','catboost','Variance','Bias','Prior Model MAE','mGAN','skipGAN','Skip Node weight'])\n",
    "display(df.round(5))"
   ]
  },
  {
   "cell_type": "markdown",
   "id": "d2a3900d",
   "metadata": {
    "papermill": {
     "duration": null,
     "end_time": null,
     "exception": null,
     "start_time": null,
     "status": "pending"
    },
    "tags": []
   },
   "source": [
    "## ABC Pre-generator - Stats \n"
   ]
  },
  {
   "cell_type": "code",
   "execution_count": null,
   "id": "28d90272",
   "metadata": {
    "papermill": {
     "duration": null,
     "end_time": null,
     "exception": null,
     "start_time": null,
     "status": "pending"
    },
    "tags": []
   },
   "outputs": [],
   "source": [
    "book = sb.read_notebooks(\"./ABC_GAN_Stats\")\n",
    "paramVal = [[1,1],[0.1,1],[0.01,1],[1,0.1],[0.1,0.1],[0.01,0.1],[1,0.01],[0.1,0.01],[0.01,0.01]]\n",
    "abc_mae = [[] for i in range(9)]\n",
    "abc_mae_skip = [[] for i in range(9)]\n",
    "abc_mae_mean = [[] for i in range(9)]\n",
    "abc_mae_skip_mean = [[] for i in range(9)]\n",
    "abc_weights = [[] for i in range(9)]\n",
    "prior_model = [[] for i in range(9)]\n",
    "abc_pre_generator = [[] for i in range(9)]\n",
    "\n",
    "for nb in book.notebooks:\n",
    "    metrics1 = np.array(nb.scraps['ABC_GAN_1 Metrics'].data)\n",
    "    metrics3 = np.array(nb.scraps['ABC_GAN_3 Metrics'].data)\n",
    "    paramVar = float(nb.papermill_dataframe.iloc[0]['value'])\n",
    "    paramBias = float(nb.papermill_dataframe.iloc[1]['value'])\n",
    "    #Divide data according to parameters \n",
    "    for i in range(9):\n",
    "        if paramVar == paramVal[i][0] and paramBias == paramVal[i][1]:\n",
    "            for j in range(100):\n",
    "                abc_mae[i].append(metrics1[1,j])\n",
    "                abc_mae_skip[i].append(metrics3[1,j])\n",
    "            abc_weights[i].append(nb.scraps['Skip Connection Weight'].data)\n",
    "            prior_model[i].append(nb.scraps['Prior Model MSE'].data)\n",
    "            abc_pre_generator[i].append(nb.scraps['ABC Pre-generator MSE'].data)\n",
    "            abc_mae_skip_mean[i].append(mean(metrics3[1,:]))\n",
    "            abc_mae_mean[i].append(mean(metrics1[1,:]))"
   ]
  },
  {
   "cell_type": "code",
   "execution_count": null,
   "id": "0b50b77e",
   "metadata": {
    "papermill": {
     "duration": null,
     "end_time": null,
     "exception": null,
     "start_time": null,
     "status": "pending"
    },
    "tags": []
   },
   "outputs": [],
   "source": [
    "data = [[] for i in range(9)]\n",
    "for i in range(9):\n",
    "    for j in range(len(abc_weights[i])):\n",
    "        data[i].append([paramVal[i][0], paramVal[i][1],prior_model[i][j],\n",
    "                     abc_pre_generator[i][j],abc_weights[i][j],abc_mae_mean[i][j],abc_mae_skip_mean[i][j]])\n",
    "    \n",
    "    df = pd.DataFrame(data[i], columns = ['Variance','Bias','Prior Model MAE',\n",
    "                                       'ABC pre-generator MAE','Skip Node weight','ABC GAN MAE','ABC_GAN MAE (skip connection)'])\n",
    "    display(df.round(5))\n",
    "    print(df.median(axis=0))\n",
    "    print(\"-------------------------------------------------------------\")"
   ]
  },
  {
   "cell_type": "code",
   "execution_count": null,
   "id": "dd9bc0fd",
   "metadata": {
    "papermill": {
     "duration": null,
     "end_time": null,
     "exception": null,
     "start_time": null,
     "status": "pending"
    },
    "tags": []
   },
   "outputs": [],
   "source": [
    "# Display Stats Summary Tables \n",
    "statsData = []\n",
    "data = np.array(data)\n",
    "for i in range(9): \n",
    "    data[i] = np.array(data[i])\n",
    "    statsData.append([gan_median,stats, paramVal[i][0], paramVal[i][1],median(data[i][:,3]),median(data[i][:,5]),median(data[i][:,6]),median(data[i][:,4])])\n",
    "    #statsData.append([gan_median,stats, paramVal[i][0], paramVal[i][1]])\n",
    "df = pd.DataFrame(statsData, columns = ['GAN','stats','Variance','Bias','Prior Model MAE','mGAN','skipGAN','Skip Node weight'])\n",
    "display(df.round(5))"
   ]
  }
 ],
 "metadata": {
  "kernelspec": {
   "display_name": "Python 3.7.3 64-bit",
   "language": "python",
   "name": "python3"
  },
  "language_info": {
   "codemirror_mode": {
    "name": "ipython",
    "version": 3
   },
   "file_extension": ".py",
   "mimetype": "text/x-python",
   "name": "python",
   "nbconvert_exporter": "python",
   "pygments_lexer": "ipython3",
   "version": "3.8.13"
  },
  "papermill": {
   "default_parameters": {},
   "duration": 13.837286,
   "end_time": "2022-07-23T04:49:43.256258",
   "environment_variables": {},
   "exception": true,
   "input_path": "Analysis.ipynb",
   "output_path": "Analysis_Out.ipynb",
   "parameters": {},
   "start_time": "2022-07-23T04:49:29.418972",
   "version": "2.3.3"
  },
  "vscode": {
   "interpreter": {
    "hash": "aee8b7b246df8f9039afb4144a1f6fd8d2ca17a180786b69acc140d282b71a49"
   }
  }
 },
 "nbformat": 4,
 "nbformat_minor": 5
}