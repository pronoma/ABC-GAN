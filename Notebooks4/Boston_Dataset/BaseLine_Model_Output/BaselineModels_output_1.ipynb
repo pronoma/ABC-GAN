{
 "cells": [
  {
   "cell_type": "markdown",
   "id": "620c9e4d",
   "metadata": {
    "papermill": {
     "duration": 0.010583,
     "end_time": "2022-07-21T10:13:18.230474",
     "exception": false,
     "start_time": "2022-07-21T10:13:18.219891",
     "status": "completed"
    },
    "tags": []
   },
   "source": [
    "## Import Libraries "
   ]
  },
  {
   "cell_type": "code",
   "execution_count": 1,
   "id": "a6985b3f",
   "metadata": {
    "execution": {
     "iopub.execute_input": "2022-07-21T10:13:18.243469Z",
     "iopub.status.busy": "2022-07-21T10:13:18.243005Z",
     "iopub.status.idle": "2022-07-21T10:13:18.260662Z",
     "shell.execute_reply": "2022-07-21T10:13:18.258764Z"
    },
    "papermill": {
     "duration": 0.035237,
     "end_time": "2022-07-21T10:13:18.270222",
     "exception": false,
     "start_time": "2022-07-21T10:13:18.234985",
     "status": "completed"
    },
    "tags": []
   },
   "outputs": [],
   "source": [
    "import warnings\n",
    "import sys\n",
    "sys.path.insert(0, '../../src')\n",
    "warnings.filterwarnings('ignore')"
   ]
  },
  {
   "cell_type": "code",
   "execution_count": 2,
   "id": "bbfe2028",
   "metadata": {
    "execution": {
     "iopub.execute_input": "2022-07-21T10:13:18.281696Z",
     "iopub.status.busy": "2022-07-21T10:13:18.281343Z",
     "iopub.status.idle": "2022-07-21T10:13:32.709736Z",
     "shell.execute_reply": "2022-07-21T10:13:32.704434Z"
    },
    "papermill": {
     "duration": 14.441457,
     "end_time": "2022-07-21T10:13:32.716177",
     "exception": false,
     "start_time": "2022-07-21T10:13:18.274720",
     "status": "completed"
    },
    "tags": []
   },
   "outputs": [],
   "source": [
    "import statsModel\n",
    "import scrapbook as sb \n",
    "import torch \n",
    "import statsModel\n",
    "import baselineModels\n",
    "import bostonDataset\n",
    "import dataset \n",
    "from torch.utils.data import random_split \n",
    "from sklearn.model_selection import train_test_split\n",
    "import numpy as np\n",
    "from sklearn.metrics import mean_squared_error,mean_absolute_error "
   ]
  },
  {
   "cell_type": "markdown",
   "id": "d639019d",
   "metadata": {
    "papermill": {
     "duration": 0.00954,
     "end_time": "2022-07-21T10:13:32.831953",
     "exception": false,
     "start_time": "2022-07-21T10:13:32.822413",
     "status": "completed"
    },
    "tags": []
   },
   "source": [
    "## Import Dataset \n"
   ]
  },
  {
   "cell_type": "code",
   "execution_count": 3,
   "id": "600ce9c7",
   "metadata": {
    "execution": {
     "iopub.execute_input": "2022-07-21T10:13:32.846605Z",
     "iopub.status.busy": "2022-07-21T10:13:32.845981Z",
     "iopub.status.idle": "2022-07-21T10:13:32.914153Z",
     "shell.execute_reply": "2022-07-21T10:13:32.912652Z"
    },
    "papermill": {
     "duration": 0.082981,
     "end_time": "2022-07-21T10:13:32.921732",
     "exception": false,
     "start_time": "2022-07-21T10:13:32.838751",
     "status": "completed"
    },
    "tags": []
   },
   "outputs": [
    {
     "name": "stdout",
     "output_type": "stream",
     "text": [
      "         X1        X2        X3        X4        X5        X6        X7  \\\n",
      "0 -0.419782  0.284830 -1.287909 -0.272599 -0.144217  0.413672 -0.120013   \n",
      "1 -0.417339 -0.487722 -0.593381 -0.272599 -0.740262  0.194274  0.367166   \n",
      "2 -0.417342 -0.487722 -0.593381 -0.272599 -0.740262  1.282714 -0.265812   \n",
      "3 -0.416750 -0.487722 -1.306878 -0.272599 -0.835284  1.016303 -0.809889   \n",
      "4 -0.412482 -0.487722 -1.306878 -0.272599 -0.835284  1.228577 -0.511180   \n",
      "\n",
      "         X8        X9       X10       X11       X12       X13         Y  \n",
      "0  0.140214 -0.982843 -0.666608 -1.459000  0.441052 -1.075562  0.159686  \n",
      "1  0.557160 -0.867883 -0.987329 -0.303094  0.441052 -0.492439 -0.101524  \n",
      "2  0.557160 -0.867883 -0.987329 -0.303094  0.396427 -1.208727  1.324247  \n",
      "3  1.077737 -0.752922 -1.106115  0.113032  0.416163 -1.361517  1.182758  \n",
      "4  1.077737 -0.752922 -1.106115  0.113032  0.441052 -1.026501  1.487503  \n"
     ]
    }
   ],
   "source": [
    "n_features = 13\n",
    "n_samples= 506\n",
    "n_target = 1 \n",
    "X,Y = bostonDataset.boston_data()"
   ]
  },
  {
   "cell_type": "code",
   "execution_count": 4,
   "id": "5505a62a",
   "metadata": {
    "execution": {
     "iopub.execute_input": "2022-07-21T10:13:32.935665Z",
     "iopub.status.busy": "2022-07-21T10:13:32.934744Z",
     "iopub.status.idle": "2022-07-21T10:13:32.945952Z",
     "shell.execute_reply": "2022-07-21T10:13:32.944714Z"
    },
    "papermill": {
     "duration": 0.021952,
     "end_time": "2022-07-21T10:13:32.949611",
     "exception": false,
     "start_time": "2022-07-21T10:13:32.927659",
     "status": "completed"
    },
    "tags": []
   },
   "outputs": [],
   "source": [
    "# Train test split for dataset \n",
    "real_dataset = dataset.CustomDataset(X,Y)\n",
    "X_train, X_test, y_train, y_test = train_test_split(X, Y, test_size=0.2)"
   ]
  },
  {
   "cell_type": "markdown",
   "id": "37722166",
   "metadata": {
    "papermill": {
     "duration": 0.006287,
     "end_time": "2022-07-21T10:13:32.960169",
     "exception": false,
     "start_time": "2022-07-21T10:13:32.953882",
     "status": "completed"
    },
    "tags": []
   },
   "source": [
    "## Stats Model \n",
    "\n"
   ]
  },
  {
   "cell_type": "code",
   "execution_count": 5,
   "id": "0021ea71",
   "metadata": {
    "execution": {
     "iopub.execute_input": "2022-07-21T10:13:32.976309Z",
     "iopub.status.busy": "2022-07-21T10:13:32.975607Z",
     "iopub.status.idle": "2022-07-21T10:13:33.363940Z",
     "shell.execute_reply": "2022-07-21T10:13:33.363327Z"
    },
    "papermill": {
     "duration": 0.401379,
     "end_time": "2022-07-21T10:13:33.366283",
     "exception": false,
     "start_time": "2022-07-21T10:13:32.964904",
     "status": "completed"
    },
    "tags": []
   },
   "outputs": [
    {
     "name": "stderr",
     "output_type": "stream",
     "text": [
      "No artists with labels found to put in legend.  Note that artists whose label start with an underscore are ignored when legend() is called with no argument.\n"
     ]
    },
    {
     "name": "stdout",
     "output_type": "stream",
     "text": [
      "                                 OLS Regression Results                                \n",
      "=======================================================================================\n",
      "Dep. Variable:                      y   R-squared (uncentered):                   0.761\n",
      "Model:                            OLS   Adj. R-squared (uncentered):              0.753\n",
      "Method:                 Least Squares   F-statistic:                              95.70\n",
      "Date:                Thu, 21 Jul 2022   Prob (F-statistic):                   1.13e-112\n",
      "Time:                        15:43:33   Log-Likelihood:                         -296.70\n",
      "No. Observations:                 404   AIC:                                      619.4\n",
      "Df Residuals:                     391   BIC:                                      671.4\n",
      "Df Model:                          13                                                  \n",
      "Covariance Type:            nonrobust                                                  \n",
      "==============================================================================\n",
      "                 coef    std err          t      P>|t|      [0.025      0.975]\n",
      "------------------------------------------------------------------------------\n",
      "x1            -0.1033      0.032     -3.180      0.002      -0.167      -0.039\n",
      "x2             0.1016      0.038      2.686      0.008       0.027       0.176\n",
      "x3             0.0405      0.050      0.808      0.419      -0.058       0.139\n",
      "x4             0.0513      0.025      2.024      0.044       0.001       0.101\n",
      "x5            -0.2208      0.054     -4.054      0.000      -0.328      -0.114\n",
      "x6             0.3629      0.037      9.695      0.000       0.289       0.437\n",
      "x7             0.0022      0.046      0.048      0.962      -0.088       0.093\n",
      "x8            -0.3157      0.053     -5.972      0.000      -0.420      -0.212\n",
      "x9             0.2596      0.072      3.594      0.000       0.118       0.402\n",
      "x10           -0.2457      0.079     -3.118      0.002      -0.401      -0.091\n",
      "x11           -0.2383      0.034     -7.001      0.000      -0.305      -0.171\n",
      "x12            0.0872      0.030      2.889      0.004       0.028       0.147\n",
      "x13           -0.3603      0.045     -7.933      0.000      -0.450      -0.271\n",
      "==============================================================================\n",
      "Omnibus:                      160.291   Durbin-Watson:                   1.959\n",
      "Prob(Omnibus):                  0.000   Jarque-Bera (JB):              949.664\n",
      "Skew:                           1.581   Prob(JB):                    6.07e-207\n",
      "Kurtosis:                       9.813   Cond. No.                         10.0\n",
      "==============================================================================\n",
      "\n",
      "Notes:\n",
      "[1] R² is computed without centering (uncentered) since the model does not contain a constant.\n",
      "[2] Standard Errors assume that the covariance matrix of the errors is correctly specified.\n"
     ]
    },
    {
     "data": {
      "image/png": "[encoded data removed]",
      "text/plain": [
       "<Figure size 432x288 with 1 Axes>"
      ]
     },
     "metadata": {
      "needs_background": "light"
     },
     "output_type": "display_data"
    },
    {
     "name": "stdout",
     "output_type": "stream",
     "text": [
      "Performance Metrics\n",
      "Mean Squared Error: 0.30367230148670893\n",
      "Mean Absolute Error: 0.3673147635124063\n",
      "Manhattan distance: 37.466105878265424\n",
      "Euclidean distance: 5.565480639769066\n"
     ]
    },
    {
     "data": {
      "application/scrapbook.scrap.json+json": {
       "data": 0.30367230148670893,
       "encoder": "json",
       "name": "Stats Model MSE",
       "version": 1
      }
     },
     "metadata": {
      "scrapbook": {
       "data": true,
       "display": false,
       "name": "Stats Model MSE"
      }
     },
     "output_type": "display_data"
    },
    {
     "data": {
      "application/scrapbook.scrap.json+json": {
       "data": 0.3673147635124063,
       "encoder": "json",
       "name": "Stats Model MAE",
       "version": 1
      }
     },
     "metadata": {
      "scrapbook": {
       "data": true,
       "display": false,
       "name": "Stats Model MAE"
      }
     },
     "output_type": "display_data"
    },
    {
     "data": {
      "application/scrapbook.scrap.json+json": {
       "data": 37.466105878265424,
       "encoder": "json",
       "name": "Stats Model Manhattan Distance",
       "version": 1
      }
     },
     "metadata": {
      "scrapbook": {
       "data": true,
       "display": false,
       "name": "Stats Model Manhattan Distance"
      }
     },
     "output_type": "display_data"
    },
    {
     "data": {
      "application/scrapbook.scrap.json+json": {
       "data": 5.565480639769066,
       "encoder": "json",
       "name": "Stats Model Euclidean distance",
       "version": 1
      }
     },
     "metadata": {
      "scrapbook": {
       "data": true,
       "display": false,
       "name": "Stats Model Euclidean distance"
      }
     },
     "output_type": "display_data"
    },
    {
     "data": {
      "application/scrapbook.scrap.json+json": {
       "data": [
        -0.10329846051550354,
        0.10161886287917654,
        0.040486035603687805,
        0.051301021467346594,
        -0.2207590835056212,
        0.3629127799769233,
        0.00221031393530656,
        -0.3156961535113453,
        0.25955024809928007,
        -0.24573354837986214,
        -0.23826726533303483,
        0.08719776469595465,
        -0.3603487442204255
       ],
       "encoder": "json",
       "name": "Coefficients",
       "version": 1
      }
     },
     "metadata": {
      "scrapbook": {
       "data": true,
       "display": false,
       "name": "Coefficients"
      }
     },
     "output_type": "display_data"
    },
    {
     "name": "stdout",
     "output_type": "stream",
     "text": [
      "Stats Model MAE 0.3673147635124063\n"
     ]
    }
   ],
   "source": [
    "coefficients , y_pred =statsModel.statsModel(X_train,y_train,X_test,y_test)\n",
    "#Store MSE Value \n",
    "sb.glue(\"Coefficients\",coefficients)\n",
    "mae = mean_absolute_error(y_pred, y_test)\n",
    "print(\"Stats Model MAE\", mae)"
   ]
  },
  {
   "cell_type": "markdown",
   "id": "ed9a5deb",
   "metadata": {
    "papermill": {
     "duration": 0.004856,
     "end_time": "2022-07-21T10:13:33.375738",
     "exception": false,
     "start_time": "2022-07-21T10:13:33.370882",
     "status": "completed"
    },
    "tags": []
   },
   "source": [
    "# Catboost Model "
   ]
  },
  {
   "cell_type": "code",
   "execution_count": 6,
   "id": "73f01d18",
   "metadata": {
    "execution": {
     "iopub.execute_input": "2022-07-21T10:13:33.391731Z",
     "iopub.status.busy": "2022-07-21T10:13:33.390717Z",
     "iopub.status.idle": "2022-07-21T10:13:38.399577Z",
     "shell.execute_reply": "2022-07-21T10:13:38.389774Z"
    },
    "papermill": {
     "duration": 5.027603,
     "end_time": "2022-07-21T10:13:38.410182",
     "exception": false,
     "start_time": "2022-07-21T10:13:33.382579",
     "status": "completed"
    },
    "tags": []
   },
   "outputs": [
    {
     "name": "stdout",
     "output_type": "stream",
     "text": [
      "Learning rate set to 0.03548\n",
      "0:\tlearn: 1.0082108\ttotal: 58.8ms\tremaining: 58.7s\n",
      "1:\tlearn: 0.9872299\ttotal: 61.5ms\tremaining: 30.7s\n",
      "2:\tlearn: 0.9645389\ttotal: 63.2ms\tremaining: 21s\n",
      "3:\tlearn: 0.9454118\ttotal: 64.7ms\tremaining: 16.1s\n",
      "4:\tlearn: 0.9265798\ttotal: 66.4ms\tremaining: 13.2s\n",
      "5:\tlearn: 0.9092554\ttotal: 68.1ms\tremaining: 11.3s\n",
      "6:\tlearn: 0.8898659\ttotal: 69.8ms\tremaining: 9.9s\n",
      "7:\tlearn: 0.8726119\ttotal: 72.7ms\tremaining: 9.02s\n",
      "8:\tlearn: 0.8552973\ttotal: 76.1ms\tremaining: 8.37s\n",
      "9:\tlearn: 0.8371944\ttotal: 79.3ms\tremaining: 7.85s\n",
      "10:\tlearn: 0.8193237\ttotal: 82.2ms\tremaining: 7.39s\n",
      "11:\tlearn: 0.8031493\ttotal: 83.9ms\tremaining: 6.91s\n",
      "12:\tlearn: 0.7867993\ttotal: 86.3ms\tremaining: 6.55s\n",
      "13:\tlearn: 0.7708202\ttotal: 89.8ms\tremaining: 6.32s\n",
      "14:\tlearn: 0.7571418\ttotal: 92.4ms\tremaining: 6.07s\n",
      "15:\tlearn: 0.7420519\ttotal: 95.2ms\tremaining: 5.85s\n",
      "16:\tlearn: 0.7299846\ttotal: 98ms\tremaining: 5.67s\n",
      "17:\tlearn: 0.7163965\ttotal: 102ms\tremaining: 5.54s\n",
      "18:\tlearn: 0.7028034\ttotal: 104ms\tremaining: 5.36s\n",
      "19:\tlearn: 0.6889167\ttotal: 105ms\tremaining: 5.14s\n",
      "20:\tlearn: 0.6745622\ttotal: 108ms\tremaining: 5.01s\n",
      "21:\tlearn: 0.6633698\ttotal: 109ms\tremaining: 4.84s\n",
      "22:\tlearn: 0.6510968\ttotal: 110ms\tremaining: 4.68s\n",
      "23:\tlearn: 0.6405333\ttotal: 112ms\tremaining: 4.54s\n",
      "24:\tlearn: 0.6303361\ttotal: 113ms\tremaining: 4.4s\n",
      "25:\tlearn: 0.6210290\ttotal: 115ms\tremaining: 4.31s\n",
      "26:\tlearn: 0.6122409\ttotal: 117ms\tremaining: 4.2s\n",
      "27:\tlearn: 0.6032432\ttotal: 118ms\tremaining: 4.09s\n",
      "28:\tlearn: 0.5937648\ttotal: 119ms\tremaining: 3.98s\n"
     ]
    },
    {
     "name": "stdout",
     "output_type": "stream",
     "text": [
      "29:\tlearn: 0.5830679\ttotal: 123ms\tremaining: 3.98s\n",
      "30:\tlearn: 0.5735899\ttotal: 125ms\tremaining: 3.92s\n",
      "31:\tlearn: 0.5646447\ttotal: 129ms\tremaining: 3.89s\n",
      "32:\tlearn: 0.5573531\ttotal: 131ms\tremaining: 3.83s\n",
      "33:\tlearn: 0.5499337\ttotal: 133ms\tremaining: 3.79s\n",
      "34:\tlearn: 0.5419410\ttotal: 137ms\tremaining: 3.77s\n"
     ]
    },
    {
     "name": "stdout",
     "output_type": "stream",
     "text": [
      "35:\tlearn: 0.5339571\ttotal: 140ms\tremaining: 3.76s\n",
      "36:\tlearn: 0.5263838\ttotal: 145ms\tremaining: 3.77s\n",
      "37:\tlearn: 0.5188980\ttotal: 146ms\tremaining: 3.7s\n",
      "38:\tlearn: 0.5115447\ttotal: 149ms\tremaining: 3.67s\n",
      "39:\tlearn: 0.5034084\ttotal: 151ms\tremaining: 3.63s\n",
      "40:\tlearn: 0.4977179\ttotal: 153ms\tremaining: 3.58s\n",
      "41:\tlearn: 0.4905909\ttotal: 155ms\tremaining: 3.53s\n",
      "42:\tlearn: 0.4848951\ttotal: 156ms\tremaining: 3.47s\n",
      "43:\tlearn: 0.4778754\ttotal: 158ms\tremaining: 3.42s\n",
      "44:\tlearn: 0.4725380\ttotal: 159ms\tremaining: 3.37s\n",
      "45:\tlearn: 0.4667597\ttotal: 160ms\tremaining: 3.32s\n",
      "46:\tlearn: 0.4619064\ttotal: 163ms\tremaining: 3.3s\n",
      "47:\tlearn: 0.4559933\ttotal: 166ms\tremaining: 3.28s\n",
      "48:\tlearn: 0.4512872\ttotal: 171ms\tremaining: 3.31s\n"
     ]
    },
    {
     "name": "stdout",
     "output_type": "stream",
     "text": [
      "49:\tlearn: 0.4465810\ttotal: 177ms\tremaining: 3.36s\n",
      "50:\tlearn: 0.4412677\ttotal: 179ms\tremaining: 3.34s\n",
      "51:\tlearn: 0.4368043\ttotal: 182ms\tremaining: 3.32s\n",
      "52:\tlearn: 0.4315949\ttotal: 186ms\tremaining: 3.31s\n",
      "53:\tlearn: 0.4284034\ttotal: 187ms\tremaining: 3.27s\n",
      "54:\tlearn: 0.4240378\ttotal: 188ms\tremaining: 3.23s\n",
      "55:\tlearn: 0.4203464\ttotal: 190ms\tremaining: 3.2s\n",
      "56:\tlearn: 0.4157814\ttotal: 191ms\tremaining: 3.17s\n",
      "57:\tlearn: 0.4110330\ttotal: 193ms\tremaining: 3.13s\n",
      "58:\tlearn: 0.4077474\ttotal: 194ms\tremaining: 3.1s\n",
      "59:\tlearn: 0.4037356\ttotal: 195ms\tremaining: 3.06s\n",
      "60:\tlearn: 0.3997939\ttotal: 198ms\tremaining: 3.04s\n",
      "61:\tlearn: 0.3954724\ttotal: 199ms\tremaining: 3.02s\n",
      "62:\tlearn: 0.3921783\ttotal: 201ms\tremaining: 2.98s\n",
      "63:\tlearn: 0.3882040\ttotal: 202ms\tremaining: 2.95s\n",
      "64:\tlearn: 0.3850953\ttotal: 204ms\tremaining: 2.94s\n",
      "65:\tlearn: 0.3812396\ttotal: 206ms\tremaining: 2.91s\n",
      "66:\tlearn: 0.3778013\ttotal: 207ms\tremaining: 2.88s\n",
      "67:\tlearn: 0.3748601\ttotal: 209ms\tremaining: 2.87s\n",
      "68:\tlearn: 0.3712375\ttotal: 212ms\tremaining: 2.86s\n",
      "69:\tlearn: 0.3686332\ttotal: 214ms\tremaining: 2.84s\n",
      "70:\tlearn: 0.3647162\ttotal: 215ms\tremaining: 2.81s\n",
      "71:\tlearn: 0.3609447\ttotal: 217ms\tremaining: 2.8s\n",
      "72:\tlearn: 0.3586366\ttotal: 221ms\tremaining: 2.8s\n",
      "73:\tlearn: 0.3556190\ttotal: 225ms\tremaining: 2.81s\n",
      "74:\tlearn: 0.3527224\ttotal: 228ms\tremaining: 2.81s\n",
      "75:\tlearn: 0.3503531\ttotal: 229ms\tremaining: 2.79s\n",
      "76:\tlearn: 0.3478555\ttotal: 232ms\tremaining: 2.78s\n",
      "77:\tlearn: 0.3454651\ttotal: 234ms\tremaining: 2.76s\n",
      "78:\tlearn: 0.3423933\ttotal: 235ms\tremaining: 2.74s\n",
      "79:\tlearn: 0.3406687\ttotal: 236ms\tremaining: 2.72s\n",
      "80:\tlearn: 0.3382210\ttotal: 239ms\tremaining: 2.71s\n",
      "81:\tlearn: 0.3358876\ttotal: 241ms\tremaining: 2.69s\n",
      "82:\tlearn: 0.3330282\ttotal: 243ms\tremaining: 2.68s\n",
      "83:\tlearn: 0.3307230\ttotal: 244ms\tremaining: 2.66s\n",
      "84:\tlearn: 0.3286471\ttotal: 247ms\tremaining: 2.65s\n",
      "85:\tlearn: 0.3263871\ttotal: 247ms\tremaining: 2.63s\n",
      "86:\tlearn: 0.3244343\ttotal: 249ms\tremaining: 2.61s\n",
      "87:\tlearn: 0.3226995\ttotal: 250ms\tremaining: 2.59s\n",
      "88:\tlearn: 0.3211480\ttotal: 253ms\tremaining: 2.59s\n",
      "89:\tlearn: 0.3188786\ttotal: 254ms\tremaining: 2.57s\n",
      "90:\tlearn: 0.3168194\ttotal: 256ms\tremaining: 2.55s\n",
      "91:\tlearn: 0.3147953\ttotal: 257ms\tremaining: 2.54s\n",
      "92:\tlearn: 0.3126723\ttotal: 259ms\tremaining: 2.52s\n",
      "93:\tlearn: 0.3113268\ttotal: 261ms\tremaining: 2.51s\n",
      "94:\tlearn: 0.3097211\ttotal: 264ms\tremaining: 2.52s\n",
      "95:\tlearn: 0.3074760\ttotal: 267ms\tremaining: 2.52s\n",
      "96:\tlearn: 0.3059072\ttotal: 270ms\tremaining: 2.51s\n",
      "97:\tlearn: 0.3044066\ttotal: 272ms\tremaining: 2.5s\n",
      "98:\tlearn: 0.3031484\ttotal: 274ms\tremaining: 2.5s\n",
      "99:\tlearn: 0.3013399\ttotal: 275ms\tremaining: 2.48s\n",
      "100:\tlearn: 0.2999424\ttotal: 282ms\tremaining: 2.51s\n",
      "101:\tlearn: 0.2984081\ttotal: 284ms\tremaining: 2.5s\n",
      "102:\tlearn: 0.2967477\ttotal: 286ms\tremaining: 2.49s\n",
      "103:\tlearn: 0.2954729\ttotal: 289ms\tremaining: 2.49s\n",
      "104:\tlearn: 0.2940679\ttotal: 291ms\tremaining: 2.48s\n",
      "105:\tlearn: 0.2931437\ttotal: 292ms\tremaining: 2.46s\n",
      "106:\tlearn: 0.2918716\ttotal: 293ms\tremaining: 2.45s\n",
      "107:\tlearn: 0.2906643\ttotal: 294ms\tremaining: 2.43s\n",
      "108:\tlearn: 0.2891926\ttotal: 296ms\tremaining: 2.42s\n"
     ]
    },
    {
     "name": "stdout",
     "output_type": "stream",
     "text": [
      "109:\tlearn: 0.2880025\ttotal: 298ms\tremaining: 2.41s\n",
      "110:\tlearn: 0.2866667\ttotal: 300ms\tremaining: 2.4s\n",
      "111:\tlearn: 0.2854472\ttotal: 303ms\tremaining: 2.4s\n",
      "112:\tlearn: 0.2845727\ttotal: 304ms\tremaining: 2.39s\n",
      "113:\tlearn: 0.2835930\ttotal: 306ms\tremaining: 2.37s\n",
      "114:\tlearn: 0.2825090\ttotal: 308ms\tremaining: 2.37s\n",
      "115:\tlearn: 0.2806930\ttotal: 311ms\tremaining: 2.37s\n",
      "116:\tlearn: 0.2793687\ttotal: 312ms\tremaining: 2.36s\n",
      "117:\tlearn: 0.2778669\ttotal: 314ms\tremaining: 2.35s\n",
      "118:\tlearn: 0.2772352\ttotal: 315ms\tremaining: 2.33s\n"
     ]
    },
    {
     "name": "stdout",
     "output_type": "stream",
     "text": [
      "119:\tlearn: 0.2758827\ttotal: 319ms\tremaining: 2.33s\n",
      "120:\tlearn: 0.2748570\ttotal: 320ms\tremaining: 2.32s\n",
      "121:\tlearn: 0.2737633\ttotal: 321ms\tremaining: 2.31s\n",
      "122:\tlearn: 0.2725290\ttotal: 323ms\tremaining: 2.3s\n",
      "123:\tlearn: 0.2717704\ttotal: 324ms\tremaining: 2.29s\n",
      "124:\tlearn: 0.2708665\ttotal: 326ms\tremaining: 2.28s\n",
      "125:\tlearn: 0.2697746\ttotal: 327ms\tremaining: 2.27s\n",
      "126:\tlearn: 0.2688839\ttotal: 328ms\tremaining: 2.26s\n",
      "127:\tlearn: 0.2675615\ttotal: 330ms\tremaining: 2.25s\n",
      "128:\tlearn: 0.2662823\ttotal: 332ms\tremaining: 2.24s\n",
      "129:\tlearn: 0.2655835\ttotal: 333ms\tremaining: 2.23s\n",
      "130:\tlearn: 0.2649836\ttotal: 335ms\tremaining: 2.22s\n",
      "131:\tlearn: 0.2641663\ttotal: 336ms\tremaining: 2.21s\n",
      "132:\tlearn: 0.2632171\ttotal: 337ms\tremaining: 2.2s\n",
      "133:\tlearn: 0.2625468\ttotal: 339ms\tremaining: 2.19s\n",
      "134:\tlearn: 0.2618899\ttotal: 340ms\tremaining: 2.18s\n",
      "135:\tlearn: 0.2608483\ttotal: 342ms\tremaining: 2.17s\n",
      "136:\tlearn: 0.2602160\ttotal: 343ms\tremaining: 2.16s\n",
      "137:\tlearn: 0.2595316\ttotal: 344ms\tremaining: 2.15s\n",
      "138:\tlearn: 0.2589613\ttotal: 346ms\tremaining: 2.15s\n",
      "139:\tlearn: 0.2582886\ttotal: 348ms\tremaining: 2.13s\n",
      "140:\tlearn: 0.2575095\ttotal: 349ms\tremaining: 2.13s\n",
      "141:\tlearn: 0.2564365\ttotal: 350ms\tremaining: 2.12s\n",
      "142:\tlearn: 0.2551188\ttotal: 352ms\tremaining: 2.11s\n"
     ]
    },
    {
     "name": "stdout",
     "output_type": "stream",
     "text": [
      "143:\tlearn: 0.2543612\ttotal: 355ms\tremaining: 2.11s\n",
      "144:\tlearn: 0.2535731\ttotal: 357ms\tremaining: 2.1s\n",
      "145:\tlearn: 0.2526243\ttotal: 358ms\tremaining: 2.09s\n",
      "146:\tlearn: 0.2520259\ttotal: 359ms\tremaining: 2.08s\n",
      "147:\tlearn: 0.2508727\ttotal: 362ms\tremaining: 2.08s\n",
      "148:\tlearn: 0.2505039\ttotal: 363ms\tremaining: 2.07s\n",
      "149:\tlearn: 0.2495777\ttotal: 364ms\tremaining: 2.06s\n",
      "150:\tlearn: 0.2490897\ttotal: 366ms\tremaining: 2.06s\n",
      "151:\tlearn: 0.2483751\ttotal: 368ms\tremaining: 2.05s\n",
      "152:\tlearn: 0.2475505\ttotal: 369ms\tremaining: 2.04s\n",
      "153:\tlearn: 0.2469080\ttotal: 371ms\tremaining: 2.04s\n",
      "154:\tlearn: 0.2461591\ttotal: 374ms\tremaining: 2.04s\n",
      "155:\tlearn: 0.2457116\ttotal: 376ms\tremaining: 2.04s\n",
      "156:\tlearn: 0.2448771\ttotal: 379ms\tremaining: 2.04s\n",
      "157:\tlearn: 0.2442401\ttotal: 383ms\tremaining: 2.04s\n",
      "158:\tlearn: 0.2433494\ttotal: 386ms\tremaining: 2.04s\n",
      "159:\tlearn: 0.2424774\ttotal: 389ms\tremaining: 2.04s\n",
      "160:\tlearn: 0.2422330\ttotal: 391ms\tremaining: 2.04s\n",
      "161:\tlearn: 0.2418644\ttotal: 394ms\tremaining: 2.04s\n",
      "162:\tlearn: 0.2415141\ttotal: 397ms\tremaining: 2.04s\n",
      "163:\tlearn: 0.2412146\ttotal: 399ms\tremaining: 2.03s\n",
      "164:\tlearn: 0.2405942\ttotal: 401ms\tremaining: 2.03s\n",
      "165:\tlearn: 0.2398105\ttotal: 403ms\tremaining: 2.03s\n",
      "166:\tlearn: 0.2392122\ttotal: 406ms\tremaining: 2.02s\n",
      "167:\tlearn: 0.2387284\ttotal: 409ms\tremaining: 2.03s\n",
      "168:\tlearn: 0.2378009\ttotal: 412ms\tremaining: 2.02s\n",
      "169:\tlearn: 0.2375287\ttotal: 414ms\tremaining: 2.02s\n",
      "170:\tlearn: 0.2373422\ttotal: 417ms\tremaining: 2.02s\n",
      "171:\tlearn: 0.2365407\ttotal: 419ms\tremaining: 2.02s\n",
      "172:\tlearn: 0.2356969\ttotal: 424ms\tremaining: 2.02s\n",
      "173:\tlearn: 0.2352092\ttotal: 429ms\tremaining: 2.04s\n",
      "174:\tlearn: 0.2348373\ttotal: 434ms\tremaining: 2.04s\n",
      "175:\tlearn: 0.2344644\ttotal: 438ms\tremaining: 2.05s\n",
      "176:\tlearn: 0.2340133\ttotal: 441ms\tremaining: 2.05s\n",
      "177:\tlearn: 0.2335474\ttotal: 457ms\tremaining: 2.11s\n",
      "178:\tlearn: 0.2334301\ttotal: 459ms\tremaining: 2.1s\n",
      "179:\tlearn: 0.2329406\ttotal: 461ms\tremaining: 2.1s\n"
     ]
    },
    {
     "name": "stdout",
     "output_type": "stream",
     "text": [
      "180:\tlearn: 0.2323963\ttotal: 465ms\tremaining: 2.1s\n",
      "181:\tlearn: 0.2317574\ttotal: 468ms\tremaining: 2.1s\n",
      "182:\tlearn: 0.2312021\ttotal: 471ms\tremaining: 2.1s\n",
      "183:\tlearn: 0.2305323\ttotal: 472ms\tremaining: 2.1s\n",
      "184:\tlearn: 0.2297827\ttotal: 475ms\tremaining: 2.09s\n",
      "185:\tlearn: 0.2291961\ttotal: 476ms\tremaining: 2.08s\n",
      "186:\tlearn: 0.2286201\ttotal: 479ms\tremaining: 2.08s\n"
     ]
    },
    {
     "name": "stdout",
     "output_type": "stream",
     "text": [
      "187:\tlearn: 0.2283700\ttotal: 502ms\tremaining: 2.17s\n",
      "188:\tlearn: 0.2279917\ttotal: 504ms\tremaining: 2.16s\n",
      "189:\tlearn: 0.2273837\ttotal: 507ms\tremaining: 2.16s\n",
      "190:\tlearn: 0.2267076\ttotal: 509ms\tremaining: 2.16s\n",
      "191:\tlearn: 0.2261313\ttotal: 513ms\tremaining: 2.16s\n",
      "192:\tlearn: 0.2253535\ttotal: 515ms\tremaining: 2.15s\n",
      "193:\tlearn: 0.2248472\ttotal: 517ms\tremaining: 2.15s\n"
     ]
    },
    {
     "name": "stdout",
     "output_type": "stream",
     "text": [
      "194:\tlearn: 0.2240142\ttotal: 521ms\tremaining: 2.15s\n",
      "195:\tlearn: 0.2237477\ttotal: 524ms\tremaining: 2.15s\n",
      "196:\tlearn: 0.2229954\ttotal: 527ms\tremaining: 2.15s\n",
      "197:\tlearn: 0.2226228\ttotal: 529ms\tremaining: 2.14s\n",
      "198:\tlearn: 0.2219163\ttotal: 534ms\tremaining: 2.15s\n",
      "199:\tlearn: 0.2214413\ttotal: 537ms\tremaining: 2.15s\n",
      "200:\tlearn: 0.2208274\ttotal: 541ms\tremaining: 2.15s\n",
      "201:\tlearn: 0.2202458\ttotal: 545ms\tremaining: 2.15s\n",
      "202:\tlearn: 0.2195627\ttotal: 548ms\tremaining: 2.15s\n",
      "203:\tlearn: 0.2189928\ttotal: 551ms\tremaining: 2.15s\n",
      "204:\tlearn: 0.2180908\ttotal: 554ms\tremaining: 2.15s\n",
      "205:\tlearn: 0.2177821\ttotal: 559ms\tremaining: 2.15s\n",
      "206:\tlearn: 0.2172244\ttotal: 561ms\tremaining: 2.15s\n",
      "207:\tlearn: 0.2167215\ttotal: 565ms\tremaining: 2.15s\n",
      "208:\tlearn: 0.2161299\ttotal: 568ms\tremaining: 2.15s\n",
      "209:\tlearn: 0.2156990\ttotal: 571ms\tremaining: 2.15s\n",
      "210:\tlearn: 0.2153646\ttotal: 573ms\tremaining: 2.14s\n",
      "211:\tlearn: 0.2149762\ttotal: 575ms\tremaining: 2.14s\n",
      "212:\tlearn: 0.2143365\ttotal: 577ms\tremaining: 2.13s\n",
      "213:\tlearn: 0.2139977\ttotal: 578ms\tremaining: 2.12s\n",
      "214:\tlearn: 0.2136319\ttotal: 580ms\tremaining: 2.12s\n",
      "215:\tlearn: 0.2131849\ttotal: 582ms\tremaining: 2.11s\n",
      "216:\tlearn: 0.2128462\ttotal: 584ms\tremaining: 2.1s\n",
      "217:\tlearn: 0.2124724\ttotal: 587ms\tremaining: 2.11s\n",
      "218:\tlearn: 0.2118700\ttotal: 590ms\tremaining: 2.1s\n",
      "219:\tlearn: 0.2116416\ttotal: 592ms\tremaining: 2.1s\n",
      "220:\tlearn: 0.2113451\ttotal: 593ms\tremaining: 2.09s\n",
      "221:\tlearn: 0.2108205\ttotal: 595ms\tremaining: 2.09s\n",
      "222:\tlearn: 0.2104908\ttotal: 597ms\tremaining: 2.08s\n",
      "223:\tlearn: 0.2099727\ttotal: 599ms\tremaining: 2.07s\n",
      "224:\tlearn: 0.2092770\ttotal: 600ms\tremaining: 2.07s\n",
      "225:\tlearn: 0.2084870\ttotal: 602ms\tremaining: 2.06s\n",
      "226:\tlearn: 0.2080841\ttotal: 606ms\tremaining: 2.06s\n",
      "227:\tlearn: 0.2074473\ttotal: 609ms\tremaining: 2.06s\n",
      "228:\tlearn: 0.2070209\ttotal: 611ms\tremaining: 2.06s\n",
      "229:\tlearn: 0.2063330\ttotal: 613ms\tremaining: 2.05s\n",
      "230:\tlearn: 0.2056308\ttotal: 615ms\tremaining: 2.05s\n",
      "231:\tlearn: 0.2054597\ttotal: 616ms\tremaining: 2.04s\n",
      "232:\tlearn: 0.2049700\ttotal: 618ms\tremaining: 2.03s\n",
      "233:\tlearn: 0.2045981\ttotal: 619ms\tremaining: 2.02s\n",
      "234:\tlearn: 0.2039381\ttotal: 620ms\tremaining: 2.02s\n",
      "235:\tlearn: 0.2034903\ttotal: 622ms\tremaining: 2.01s\n",
      "236:\tlearn: 0.2030707\ttotal: 623ms\tremaining: 2.01s\n",
      "237:\tlearn: 0.2024839\ttotal: 625ms\tremaining: 2s\n",
      "238:\tlearn: 0.2018533\ttotal: 626ms\tremaining: 1.99s\n",
      "239:\tlearn: 0.2013771\ttotal: 628ms\tremaining: 1.99s\n",
      "240:\tlearn: 0.2008859\ttotal: 629ms\tremaining: 1.98s\n",
      "241:\tlearn: 0.2005723\ttotal: 631ms\tremaining: 1.98s\n",
      "242:\tlearn: 0.2001736\ttotal: 632ms\tremaining: 1.97s\n",
      "243:\tlearn: 0.1999038\ttotal: 635ms\tremaining: 1.97s\n",
      "244:\tlearn: 0.1993813\ttotal: 637ms\tremaining: 1.96s\n",
      "245:\tlearn: 0.1989452\ttotal: 638ms\tremaining: 1.96s\n",
      "246:\tlearn: 0.1985138\ttotal: 639ms\tremaining: 1.95s\n",
      "247:\tlearn: 0.1976008\ttotal: 641ms\tremaining: 1.94s\n",
      "248:\tlearn: 0.1972114\ttotal: 642ms\tremaining: 1.94s\n"
     ]
    },
    {
     "name": "stdout",
     "output_type": "stream",
     "text": [
      "249:\tlearn: 0.1967708\ttotal: 645ms\tremaining: 1.93s\n",
      "250:\tlearn: 0.1962508\ttotal: 647ms\tremaining: 1.93s\n",
      "251:\tlearn: 0.1957852\ttotal: 648ms\tremaining: 1.92s\n",
      "252:\tlearn: 0.1952149\ttotal: 650ms\tremaining: 1.92s\n",
      "253:\tlearn: 0.1944225\ttotal: 651ms\tremaining: 1.91s\n",
      "254:\tlearn: 0.1941373\ttotal: 652ms\tremaining: 1.91s\n",
      "255:\tlearn: 0.1937682\ttotal: 654ms\tremaining: 1.9s\n",
      "256:\tlearn: 0.1934925\ttotal: 655ms\tremaining: 1.89s\n",
      "257:\tlearn: 0.1931459\ttotal: 656ms\tremaining: 1.89s\n",
      "258:\tlearn: 0.1926908\ttotal: 657ms\tremaining: 1.88s\n",
      "259:\tlearn: 0.1924459\ttotal: 659ms\tremaining: 1.88s\n",
      "260:\tlearn: 0.1922488\ttotal: 660ms\tremaining: 1.87s\n",
      "261:\tlearn: 0.1918219\ttotal: 661ms\tremaining: 1.86s\n",
      "262:\tlearn: 0.1912583\ttotal: 664ms\tremaining: 1.86s\n",
      "263:\tlearn: 0.1908715\ttotal: 666ms\tremaining: 1.86s\n",
      "264:\tlearn: 0.1902932\ttotal: 667ms\tremaining: 1.85s\n",
      "265:\tlearn: 0.1896775\ttotal: 669ms\tremaining: 1.84s\n",
      "266:\tlearn: 0.1888895\ttotal: 670ms\tremaining: 1.84s\n",
      "267:\tlearn: 0.1885667\ttotal: 671ms\tremaining: 1.83s\n",
      "268:\tlearn: 0.1881028\ttotal: 673ms\tremaining: 1.83s\n",
      "269:\tlearn: 0.1875464\ttotal: 674ms\tremaining: 1.82s\n",
      "270:\tlearn: 0.1872614\ttotal: 676ms\tremaining: 1.82s\n"
     ]
    },
    {
     "name": "stdout",
     "output_type": "stream",
     "text": [
      "271:\tlearn: 0.1869991\ttotal: 677ms\tremaining: 1.81s\n",
      "272:\tlearn: 0.1865849\ttotal: 679ms\tremaining: 1.81s\n",
      "273:\tlearn: 0.1860412\ttotal: 681ms\tremaining: 1.8s\n",
      "274:\tlearn: 0.1855995\ttotal: 682ms\tremaining: 1.8s\n",
      "275:\tlearn: 0.1849153\ttotal: 684ms\tremaining: 1.79s\n",
      "276:\tlearn: 0.1844753\ttotal: 685ms\tremaining: 1.79s\n",
      "277:\tlearn: 0.1842215\ttotal: 687ms\tremaining: 1.78s\n",
      "278:\tlearn: 0.1838352\ttotal: 688ms\tremaining: 1.78s\n",
      "279:\tlearn: 0.1832344\ttotal: 690ms\tremaining: 1.77s\n",
      "280:\tlearn: 0.1828145\ttotal: 698ms\tremaining: 1.79s\n"
     ]
    },
    {
     "name": "stdout",
     "output_type": "stream",
     "text": [
      "281:\tlearn: 0.1824384\ttotal: 701ms\tremaining: 1.78s\n",
      "282:\tlearn: 0.1821486\ttotal: 703ms\tremaining: 1.78s\n",
      "283:\tlearn: 0.1819941\ttotal: 704ms\tremaining: 1.77s\n",
      "284:\tlearn: 0.1817543\ttotal: 706ms\tremaining: 1.77s\n",
      "285:\tlearn: 0.1814084\ttotal: 708ms\tremaining: 1.77s\n",
      "286:\tlearn: 0.1808009\ttotal: 711ms\tremaining: 1.76s\n",
      "287:\tlearn: 0.1803452\ttotal: 713ms\tremaining: 1.76s\n",
      "288:\tlearn: 0.1801005\ttotal: 716ms\tremaining: 1.76s\n",
      "289:\tlearn: 0.1794366\ttotal: 718ms\tremaining: 1.76s\n",
      "290:\tlearn: 0.1788596\ttotal: 719ms\tremaining: 1.75s\n",
      "291:\tlearn: 0.1779897\ttotal: 720ms\tremaining: 1.75s\n",
      "292:\tlearn: 0.1772661\ttotal: 722ms\tremaining: 1.74s\n",
      "293:\tlearn: 0.1767277\ttotal: 723ms\tremaining: 1.74s\n",
      "294:\tlearn: 0.1761792\ttotal: 725ms\tremaining: 1.73s\n",
      "295:\tlearn: 0.1756152\ttotal: 726ms\tremaining: 1.73s\n",
      "296:\tlearn: 0.1755048\ttotal: 727ms\tremaining: 1.72s\n",
      "297:\tlearn: 0.1750830\ttotal: 729ms\tremaining: 1.72s\n",
      "298:\tlearn: 0.1745683\ttotal: 730ms\tremaining: 1.71s\n",
      "299:\tlearn: 0.1739607\ttotal: 732ms\tremaining: 1.71s\n",
      "300:\tlearn: 0.1735462\ttotal: 733ms\tremaining: 1.7s\n",
      "301:\tlearn: 0.1729986\ttotal: 734ms\tremaining: 1.7s\n",
      "302:\tlearn: 0.1726258\ttotal: 736ms\tremaining: 1.69s\n",
      "303:\tlearn: 0.1725155\ttotal: 738ms\tremaining: 1.69s\n",
      "304:\tlearn: 0.1720717\ttotal: 740ms\tremaining: 1.69s\n",
      "305:\tlearn: 0.1719110\ttotal: 741ms\tremaining: 1.68s\n",
      "306:\tlearn: 0.1713243\ttotal: 742ms\tremaining: 1.68s\n",
      "307:\tlearn: 0.1708904\ttotal: 744ms\tremaining: 1.67s\n",
      "308:\tlearn: 0.1703922\ttotal: 745ms\tremaining: 1.67s\n",
      "309:\tlearn: 0.1697690\ttotal: 746ms\tremaining: 1.66s\n",
      "310:\tlearn: 0.1696234\ttotal: 748ms\tremaining: 1.66s\n",
      "311:\tlearn: 0.1690119\ttotal: 749ms\tremaining: 1.65s\n",
      "312:\tlearn: 0.1685345\ttotal: 750ms\tremaining: 1.65s\n",
      "313:\tlearn: 0.1679568\ttotal: 752ms\tremaining: 1.64s\n",
      "314:\tlearn: 0.1674014\ttotal: 753ms\tremaining: 1.64s\n",
      "315:\tlearn: 0.1669804\ttotal: 755ms\tremaining: 1.63s\n",
      "316:\tlearn: 0.1665661\ttotal: 756ms\tremaining: 1.63s\n",
      "317:\tlearn: 0.1662663\ttotal: 757ms\tremaining: 1.62s\n",
      "318:\tlearn: 0.1657366\ttotal: 759ms\tremaining: 1.62s\n",
      "319:\tlearn: 0.1653467\ttotal: 760ms\tremaining: 1.61s\n",
      "320:\tlearn: 0.1648290\ttotal: 762ms\tremaining: 1.61s\n",
      "321:\tlearn: 0.1644697\ttotal: 763ms\tremaining: 1.61s\n",
      "322:\tlearn: 0.1641549\ttotal: 777ms\tremaining: 1.63s\n",
      "323:\tlearn: 0.1636279\ttotal: 780ms\tremaining: 1.63s\n",
      "324:\tlearn: 0.1630428\ttotal: 783ms\tremaining: 1.63s\n",
      "325:\tlearn: 0.1624225\ttotal: 785ms\tremaining: 1.62s\n",
      "326:\tlearn: 0.1620675\ttotal: 788ms\tremaining: 1.62s\n",
      "327:\tlearn: 0.1616709\ttotal: 794ms\tremaining: 1.63s\n",
      "328:\tlearn: 0.1613417\ttotal: 796ms\tremaining: 1.62s\n",
      "329:\tlearn: 0.1610580\ttotal: 799ms\tremaining: 1.62s\n",
      "330:\tlearn: 0.1607074\ttotal: 801ms\tremaining: 1.62s\n",
      "331:\tlearn: 0.1603805\ttotal: 804ms\tremaining: 1.62s\n"
     ]
    },
    {
     "name": "stdout",
     "output_type": "stream",
     "text": [
      "332:\tlearn: 0.1600961\ttotal: 806ms\tremaining: 1.61s\n",
      "333:\tlearn: 0.1596337\ttotal: 810ms\tremaining: 1.61s\n",
      "334:\tlearn: 0.1593432\ttotal: 821ms\tremaining: 1.63s\n",
      "335:\tlearn: 0.1589572\ttotal: 824ms\tremaining: 1.63s\n",
      "336:\tlearn: 0.1586706\ttotal: 827ms\tremaining: 1.63s\n"
     ]
    },
    {
     "name": "stdout",
     "output_type": "stream",
     "text": [
      "337:\tlearn: 0.1582634\ttotal: 841ms\tremaining: 1.65s\n",
      "338:\tlearn: 0.1580654\ttotal: 845ms\tremaining: 1.65s\n",
      "339:\tlearn: 0.1578583\ttotal: 850ms\tremaining: 1.65s\n"
     ]
    },
    {
     "name": "stdout",
     "output_type": "stream",
     "text": [
      "340:\tlearn: 0.1574808\ttotal: 853ms\tremaining: 1.65s\n",
      "341:\tlearn: 0.1571136\ttotal: 868ms\tremaining: 1.67s\n",
      "342:\tlearn: 0.1568061\ttotal: 874ms\tremaining: 1.67s\n",
      "343:\tlearn: 0.1563945\ttotal: 878ms\tremaining: 1.67s\n",
      "344:\tlearn: 0.1560304\ttotal: 893ms\tremaining: 1.7s\n",
      "345:\tlearn: 0.1556422\ttotal: 898ms\tremaining: 1.7s\n",
      "346:\tlearn: 0.1553220\ttotal: 902ms\tremaining: 1.7s\n",
      "347:\tlearn: 0.1549210\ttotal: 908ms\tremaining: 1.7s\n",
      "348:\tlearn: 0.1544770\ttotal: 958ms\tremaining: 1.79s\n"
     ]
    },
    {
     "name": "stdout",
     "output_type": "stream",
     "text": [
      "349:\tlearn: 0.1541945\ttotal: 974ms\tremaining: 1.81s\n",
      "350:\tlearn: 0.1539154\ttotal: 979ms\tremaining: 1.81s\n",
      "351:\tlearn: 0.1532856\ttotal: 984ms\tremaining: 1.81s\n",
      "352:\tlearn: 0.1527184\ttotal: 994ms\tremaining: 1.82s\n"
     ]
    },
    {
     "name": "stdout",
     "output_type": "stream",
     "text": [
      "353:\tlearn: 0.1522401\ttotal: 1.04s\tremaining: 1.91s\n",
      "354:\tlearn: 0.1516062\ttotal: 1.05s\tremaining: 1.91s\n",
      "355:\tlearn: 0.1513559\ttotal: 1.06s\tremaining: 1.91s\n",
      "356:\tlearn: 0.1510329\ttotal: 1.06s\tremaining: 1.91s\n",
      "357:\tlearn: 0.1504762\ttotal: 1.06s\tremaining: 1.91s\n",
      "358:\tlearn: 0.1501889\ttotal: 1.07s\tremaining: 1.91s\n",
      "359:\tlearn: 0.1498665\ttotal: 1.07s\tremaining: 1.9s\n",
      "360:\tlearn: 0.1494302\ttotal: 1.07s\tremaining: 1.9s\n",
      "361:\tlearn: 0.1491391\ttotal: 1.08s\tremaining: 1.91s\n",
      "362:\tlearn: 0.1488081\ttotal: 1.08s\tremaining: 1.9s\n",
      "363:\tlearn: 0.1483358\ttotal: 1.09s\tremaining: 1.9s\n",
      "364:\tlearn: 0.1479818\ttotal: 1.09s\tremaining: 1.9s\n",
      "365:\tlearn: 0.1475711\ttotal: 1.1s\tremaining: 1.9s\n",
      "366:\tlearn: 0.1472568\ttotal: 1.1s\tremaining: 1.9s\n",
      "367:\tlearn: 0.1467535\ttotal: 1.11s\tremaining: 1.9s\n",
      "368:\tlearn: 0.1464008\ttotal: 1.11s\tremaining: 1.9s\n",
      "369:\tlearn: 0.1462175\ttotal: 1.11s\tremaining: 1.9s\n",
      "370:\tlearn: 0.1457902\ttotal: 1.12s\tremaining: 1.89s\n",
      "371:\tlearn: 0.1453962\ttotal: 1.12s\tremaining: 1.89s\n"
     ]
    },
    {
     "name": "stdout",
     "output_type": "stream",
     "text": [
      "372:\tlearn: 0.1450213\ttotal: 1.17s\tremaining: 1.96s\n",
      "373:\tlearn: 0.1445210\ttotal: 1.17s\tremaining: 1.96s\n",
      "374:\tlearn: 0.1441650\ttotal: 1.17s\tremaining: 1.95s\n",
      "375:\tlearn: 0.1436988\ttotal: 1.18s\tremaining: 1.95s\n",
      "376:\tlearn: 0.1432052\ttotal: 1.18s\tremaining: 1.95s\n",
      "377:\tlearn: 0.1428206\ttotal: 1.18s\tremaining: 1.95s\n",
      "378:\tlearn: 0.1425338\ttotal: 1.18s\tremaining: 1.94s\n",
      "379:\tlearn: 0.1421965\ttotal: 1.19s\tremaining: 1.94s\n",
      "380:\tlearn: 0.1420749\ttotal: 1.19s\tremaining: 1.94s\n",
      "381:\tlearn: 0.1417582\ttotal: 1.2s\tremaining: 1.93s\n",
      "382:\tlearn: 0.1414479\ttotal: 1.2s\tremaining: 1.93s\n"
     ]
    },
    {
     "name": "stdout",
     "output_type": "stream",
     "text": [
      "383:\tlearn: 0.1410188\ttotal: 1.2s\tremaining: 1.93s\n",
      "384:\tlearn: 0.1407593\ttotal: 1.21s\tremaining: 1.93s\n",
      "385:\tlearn: 0.1402649\ttotal: 1.21s\tremaining: 1.93s\n",
      "386:\tlearn: 0.1397210\ttotal: 1.23s\tremaining: 1.94s\n",
      "387:\tlearn: 0.1394218\ttotal: 1.23s\tremaining: 1.94s\n",
      "388:\tlearn: 0.1391406\ttotal: 1.24s\tremaining: 1.95s\n",
      "389:\tlearn: 0.1390384\ttotal: 1.25s\tremaining: 1.95s\n",
      "390:\tlearn: 0.1386838\ttotal: 1.25s\tremaining: 1.95s\n",
      "391:\tlearn: 0.1385200\ttotal: 1.26s\tremaining: 1.95s\n",
      "392:\tlearn: 0.1381406\ttotal: 1.26s\tremaining: 1.95s\n",
      "393:\tlearn: 0.1378737\ttotal: 1.27s\tremaining: 1.95s\n",
      "394:\tlearn: 0.1376733\ttotal: 1.27s\tremaining: 1.95s\n",
      "395:\tlearn: 0.1372218\ttotal: 1.27s\tremaining: 1.94s\n",
      "396:\tlearn: 0.1370826\ttotal: 1.28s\tremaining: 1.94s\n",
      "397:\tlearn: 0.1368738\ttotal: 1.28s\tremaining: 1.94s\n",
      "398:\tlearn: 0.1365746\ttotal: 1.28s\tremaining: 1.94s\n",
      "399:\tlearn: 0.1361715\ttotal: 1.29s\tremaining: 1.94s\n",
      "400:\tlearn: 0.1359604\ttotal: 1.3s\tremaining: 1.94s\n",
      "401:\tlearn: 0.1356355\ttotal: 1.3s\tremaining: 1.94s\n",
      "402:\tlearn: 0.1351047\ttotal: 1.3s\tremaining: 1.93s\n"
     ]
    },
    {
     "name": "stdout",
     "output_type": "stream",
     "text": [
      "403:\tlearn: 0.1347629\ttotal: 1.35s\tremaining: 1.99s\n"
     ]
    },
    {
     "name": "stdout",
     "output_type": "stream",
     "text": [
      "404:\tlearn: 0.1345375\ttotal: 1.38s\tremaining: 2.03s\n",
      "405:\tlearn: 0.1342464\ttotal: 1.39s\tremaining: 2.03s\n",
      "406:\tlearn: 0.1339528\ttotal: 1.4s\tremaining: 2.03s\n",
      "407:\tlearn: 0.1335766\ttotal: 1.4s\tremaining: 2.03s\n",
      "408:\tlearn: 0.1333606\ttotal: 1.4s\tremaining: 2.03s\n",
      "409:\tlearn: 0.1330400\ttotal: 1.41s\tremaining: 2.02s\n",
      "410:\tlearn: 0.1327881\ttotal: 1.41s\tremaining: 2.03s\n",
      "411:\tlearn: 0.1325489\ttotal: 1.42s\tremaining: 2.03s\n",
      "412:\tlearn: 0.1322078\ttotal: 1.43s\tremaining: 2.02s\n",
      "413:\tlearn: 0.1319411\ttotal: 1.44s\tremaining: 2.03s\n",
      "414:\tlearn: 0.1316715\ttotal: 1.44s\tremaining: 2.03s\n",
      "415:\tlearn: 0.1312451\ttotal: 1.44s\tremaining: 2.02s\n",
      "416:\tlearn: 0.1310316\ttotal: 1.45s\tremaining: 2.02s\n",
      "417:\tlearn: 0.1306952\ttotal: 1.45s\tremaining: 2.02s\n",
      "418:\tlearn: 0.1303463\ttotal: 1.45s\tremaining: 2.01s\n",
      "419:\tlearn: 0.1299981\ttotal: 1.46s\tremaining: 2.01s\n",
      "420:\tlearn: 0.1297956\ttotal: 1.46s\tremaining: 2.01s\n",
      "421:\tlearn: 0.1294476\ttotal: 1.46s\tremaining: 2s\n",
      "422:\tlearn: 0.1292197\ttotal: 1.47s\tremaining: 2s\n",
      "423:\tlearn: 0.1289064\ttotal: 1.47s\tremaining: 2s\n",
      "424:\tlearn: 0.1286769\ttotal: 1.47s\tremaining: 1.99s\n",
      "425:\tlearn: 0.1284261\ttotal: 1.47s\tremaining: 1.99s\n",
      "426:\tlearn: 0.1281305\ttotal: 1.48s\tremaining: 1.98s\n",
      "427:\tlearn: 0.1278753\ttotal: 1.48s\tremaining: 1.98s\n",
      "428:\tlearn: 0.1275685\ttotal: 1.48s\tremaining: 1.98s\n",
      "429:\tlearn: 0.1272661\ttotal: 1.49s\tremaining: 1.97s\n",
      "430:\tlearn: 0.1269420\ttotal: 1.49s\tremaining: 1.97s\n",
      "431:\tlearn: 0.1267652\ttotal: 1.49s\tremaining: 1.96s\n",
      "432:\tlearn: 0.1265158\ttotal: 1.5s\tremaining: 1.96s\n",
      "433:\tlearn: 0.1262746\ttotal: 1.5s\tremaining: 1.96s\n",
      "434:\tlearn: 0.1261683\ttotal: 1.5s\tremaining: 1.95s\n",
      "435:\tlearn: 0.1259763\ttotal: 1.51s\tremaining: 1.95s\n"
     ]
    },
    {
     "name": "stdout",
     "output_type": "stream",
     "text": [
      "436:\tlearn: 0.1258726\ttotal: 1.53s\tremaining: 1.98s\n"
     ]
    },
    {
     "name": "stdout",
     "output_type": "stream",
     "text": [
      "437:\tlearn: 0.1255526\ttotal: 1.54s\tremaining: 1.97s\n",
      "438:\tlearn: 0.1252704\ttotal: 1.54s\tremaining: 1.97s\n",
      "439:\tlearn: 0.1248750\ttotal: 1.54s\tremaining: 1.97s\n",
      "440:\tlearn: 0.1246175\ttotal: 1.55s\tremaining: 1.96s\n",
      "441:\tlearn: 0.1243217\ttotal: 1.55s\tremaining: 1.96s\n",
      "442:\tlearn: 0.1239278\ttotal: 1.56s\tremaining: 1.96s\n",
      "443:\tlearn: 0.1236738\ttotal: 1.56s\tremaining: 1.96s\n",
      "444:\tlearn: 0.1233263\ttotal: 1.57s\tremaining: 1.95s\n",
      "445:\tlearn: 0.1230852\ttotal: 1.57s\tremaining: 1.95s\n",
      "446:\tlearn: 0.1228960\ttotal: 1.58s\tremaining: 1.95s\n",
      "447:\tlearn: 0.1226951\ttotal: 1.58s\tremaining: 1.95s\n",
      "448:\tlearn: 0.1223788\ttotal: 1.59s\tremaining: 1.95s\n",
      "449:\tlearn: 0.1221663\ttotal: 1.59s\tremaining: 1.95s\n",
      "450:\tlearn: 0.1219291\ttotal: 1.61s\tremaining: 1.96s\n",
      "451:\tlearn: 0.1218100\ttotal: 1.61s\tremaining: 1.96s\n",
      "452:\tlearn: 0.1215755\ttotal: 1.62s\tremaining: 1.96s\n",
      "453:\tlearn: 0.1212033\ttotal: 1.62s\tremaining: 1.95s\n",
      "454:\tlearn: 0.1209269\ttotal: 1.62s\tremaining: 1.95s\n",
      "455:\tlearn: 0.1207241\ttotal: 1.63s\tremaining: 1.94s\n",
      "456:\tlearn: 0.1206056\ttotal: 1.63s\tremaining: 1.94s\n",
      "457:\tlearn: 0.1203318\ttotal: 1.64s\tremaining: 1.94s\n"
     ]
    },
    {
     "name": "stdout",
     "output_type": "stream",
     "text": [
      "458:\tlearn: 0.1200409\ttotal: 1.65s\tremaining: 1.95s\n"
     ]
    },
    {
     "name": "stdout",
     "output_type": "stream",
     "text": [
      "459:\tlearn: 0.1197525\ttotal: 1.66s\tremaining: 1.95s\n",
      "460:\tlearn: 0.1195018\ttotal: 1.66s\tremaining: 1.94s\n",
      "461:\tlearn: 0.1193268\ttotal: 1.67s\tremaining: 1.94s\n",
      "462:\tlearn: 0.1190451\ttotal: 1.67s\tremaining: 1.94s\n",
      "463:\tlearn: 0.1187020\ttotal: 1.67s\tremaining: 1.93s\n",
      "464:\tlearn: 0.1185210\ttotal: 1.68s\tremaining: 1.93s\n",
      "465:\tlearn: 0.1184283\ttotal: 1.68s\tremaining: 1.93s\n",
      "466:\tlearn: 0.1182210\ttotal: 1.68s\tremaining: 1.92s\n",
      "467:\tlearn: 0.1181242\ttotal: 1.69s\tremaining: 1.92s\n",
      "468:\tlearn: 0.1178784\ttotal: 1.69s\tremaining: 1.92s\n",
      "469:\tlearn: 0.1176765\ttotal: 1.7s\tremaining: 1.91s\n",
      "470:\tlearn: 0.1173176\ttotal: 1.7s\tremaining: 1.91s\n",
      "471:\tlearn: 0.1169946\ttotal: 1.71s\tremaining: 1.91s\n",
      "472:\tlearn: 0.1167459\ttotal: 1.71s\tremaining: 1.9s\n",
      "473:\tlearn: 0.1165823\ttotal: 1.71s\tremaining: 1.9s\n",
      "474:\tlearn: 0.1163572\ttotal: 1.72s\tremaining: 1.9s\n",
      "475:\tlearn: 0.1161045\ttotal: 1.72s\tremaining: 1.89s\n",
      "476:\tlearn: 0.1159101\ttotal: 1.73s\tremaining: 1.89s\n",
      "477:\tlearn: 0.1156087\ttotal: 1.73s\tremaining: 1.89s\n",
      "478:\tlearn: 0.1154286\ttotal: 1.74s\tremaining: 1.89s\n",
      "479:\tlearn: 0.1152977\ttotal: 1.74s\tremaining: 1.88s\n",
      "480:\tlearn: 0.1149841\ttotal: 1.74s\tremaining: 1.88s\n",
      "481:\tlearn: 0.1147368\ttotal: 1.75s\tremaining: 1.88s\n",
      "482:\tlearn: 0.1145319\ttotal: 1.75s\tremaining: 1.88s\n",
      "483:\tlearn: 0.1143004\ttotal: 1.76s\tremaining: 1.87s\n",
      "484:\tlearn: 0.1140594\ttotal: 1.76s\tremaining: 1.87s\n",
      "485:\tlearn: 0.1139787\ttotal: 1.77s\tremaining: 1.87s\n",
      "486:\tlearn: 0.1137921\ttotal: 1.78s\tremaining: 1.88s\n",
      "487:\tlearn: 0.1135924\ttotal: 1.79s\tremaining: 1.88s\n"
     ]
    },
    {
     "name": "stdout",
     "output_type": "stream",
     "text": [
      "488:\tlearn: 0.1134341\ttotal: 1.8s\tremaining: 1.88s\n"
     ]
    },
    {
     "name": "stdout",
     "output_type": "stream",
     "text": [
      "489:\tlearn: 0.1132543\ttotal: 1.81s\tremaining: 1.88s\n",
      "490:\tlearn: 0.1130535\ttotal: 1.81s\tremaining: 1.88s\n",
      "491:\tlearn: 0.1129766\ttotal: 1.81s\tremaining: 1.87s\n",
      "492:\tlearn: 0.1126505\ttotal: 1.82s\tremaining: 1.87s\n",
      "493:\tlearn: 0.1124280\ttotal: 1.82s\tremaining: 1.87s\n",
      "494:\tlearn: 0.1120781\ttotal: 1.83s\tremaining: 1.86s\n",
      "495:\tlearn: 0.1119014\ttotal: 1.83s\tremaining: 1.86s\n",
      "496:\tlearn: 0.1115970\ttotal: 1.83s\tremaining: 1.85s\n",
      "497:\tlearn: 0.1113994\ttotal: 1.84s\tremaining: 1.85s\n",
      "498:\tlearn: 0.1111992\ttotal: 1.84s\tremaining: 1.85s\n",
      "499:\tlearn: 0.1110292\ttotal: 1.84s\tremaining: 1.84s\n",
      "500:\tlearn: 0.1106981\ttotal: 1.84s\tremaining: 1.84s\n",
      "501:\tlearn: 0.1106396\ttotal: 1.85s\tremaining: 1.83s\n",
      "502:\tlearn: 0.1103992\ttotal: 1.85s\tremaining: 1.83s\n",
      "503:\tlearn: 0.1102452\ttotal: 1.85s\tremaining: 1.82s\n",
      "504:\tlearn: 0.1100334\ttotal: 1.85s\tremaining: 1.82s\n",
      "505:\tlearn: 0.1097277\ttotal: 1.86s\tremaining: 1.81s\n",
      "506:\tlearn: 0.1096170\ttotal: 1.86s\tremaining: 1.81s\n",
      "507:\tlearn: 0.1093130\ttotal: 1.86s\tremaining: 1.8s\n",
      "508:\tlearn: 0.1089474\ttotal: 1.86s\tremaining: 1.8s\n",
      "509:\tlearn: 0.1089090\ttotal: 1.87s\tremaining: 1.79s\n",
      "510:\tlearn: 0.1086392\ttotal: 1.87s\tremaining: 1.79s\n",
      "511:\tlearn: 0.1085428\ttotal: 1.87s\tremaining: 1.78s\n",
      "512:\tlearn: 0.1083377\ttotal: 1.87s\tremaining: 1.78s\n",
      "513:\tlearn: 0.1081178\ttotal: 1.88s\tremaining: 1.77s\n",
      "514:\tlearn: 0.1078467\ttotal: 1.88s\tremaining: 1.77s\n",
      "515:\tlearn: 0.1076524\ttotal: 1.88s\tremaining: 1.76s\n",
      "516:\tlearn: 0.1074469\ttotal: 1.88s\tremaining: 1.76s\n",
      "517:\tlearn: 0.1073122\ttotal: 1.88s\tremaining: 1.75s\n",
      "518:\tlearn: 0.1071407\ttotal: 1.89s\tremaining: 1.75s\n",
      "519:\tlearn: 0.1068645\ttotal: 1.89s\tremaining: 1.74s\n",
      "520:\tlearn: 0.1066388\ttotal: 1.89s\tremaining: 1.74s\n",
      "521:\tlearn: 0.1064385\ttotal: 1.89s\tremaining: 1.73s\n",
      "522:\tlearn: 0.1062386\ttotal: 1.89s\tremaining: 1.73s\n",
      "523:\tlearn: 0.1060159\ttotal: 1.9s\tremaining: 1.72s\n",
      "524:\tlearn: 0.1057477\ttotal: 1.9s\tremaining: 1.72s\n",
      "525:\tlearn: 0.1055295\ttotal: 1.9s\tremaining: 1.71s\n",
      "526:\tlearn: 0.1054056\ttotal: 1.9s\tremaining: 1.71s\n",
      "527:\tlearn: 0.1052001\ttotal: 1.91s\tremaining: 1.7s\n",
      "528:\tlearn: 0.1048650\ttotal: 1.91s\tremaining: 1.7s\n",
      "529:\tlearn: 0.1046642\ttotal: 1.91s\tremaining: 1.7s\n",
      "530:\tlearn: 0.1045231\ttotal: 1.91s\tremaining: 1.69s\n",
      "531:\tlearn: 0.1042494\ttotal: 1.92s\tremaining: 1.69s\n",
      "532:\tlearn: 0.1040748\ttotal: 1.92s\tremaining: 1.68s\n",
      "533:\tlearn: 0.1040072\ttotal: 1.92s\tremaining: 1.68s\n"
     ]
    },
    {
     "name": "stdout",
     "output_type": "stream",
     "text": [
      "534:\tlearn: 0.1038319\ttotal: 1.93s\tremaining: 1.68s\n",
      "535:\tlearn: 0.1035227\ttotal: 1.94s\tremaining: 1.68s\n",
      "536:\tlearn: 0.1032614\ttotal: 1.94s\tremaining: 1.67s\n",
      "537:\tlearn: 0.1030780\ttotal: 1.94s\tremaining: 1.67s\n",
      "538:\tlearn: 0.1027916\ttotal: 1.95s\tremaining: 1.66s\n",
      "539:\tlearn: 0.1025571\ttotal: 1.95s\tremaining: 1.66s\n",
      "540:\tlearn: 0.1024178\ttotal: 1.95s\tremaining: 1.66s\n",
      "541:\tlearn: 0.1022277\ttotal: 1.96s\tremaining: 1.65s\n",
      "542:\tlearn: 0.1020012\ttotal: 1.96s\tremaining: 1.65s\n",
      "543:\tlearn: 0.1018128\ttotal: 1.96s\tremaining: 1.64s\n"
     ]
    },
    {
     "name": "stdout",
     "output_type": "stream",
     "text": [
      "544:\tlearn: 0.1016024\ttotal: 1.96s\tremaining: 1.64s\n",
      "545:\tlearn: 0.1013412\ttotal: 1.97s\tremaining: 1.63s\n",
      "546:\tlearn: 0.1011344\ttotal: 1.97s\tremaining: 1.63s\n",
      "547:\tlearn: 0.1010381\ttotal: 1.97s\tremaining: 1.63s\n",
      "548:\tlearn: 0.1007915\ttotal: 1.97s\tremaining: 1.62s\n",
      "549:\tlearn: 0.1005758\ttotal: 1.98s\tremaining: 1.62s\n",
      "550:\tlearn: 0.1003917\ttotal: 1.98s\tremaining: 1.61s\n",
      "551:\tlearn: 0.1001471\ttotal: 1.98s\tremaining: 1.61s\n",
      "552:\tlearn: 0.0998942\ttotal: 1.98s\tremaining: 1.6s\n",
      "553:\tlearn: 0.0996331\ttotal: 1.99s\tremaining: 1.6s\n",
      "554:\tlearn: 0.0994763\ttotal: 1.99s\tremaining: 1.59s\n",
      "555:\tlearn: 0.0992830\ttotal: 1.99s\tremaining: 1.59s\n",
      "556:\tlearn: 0.0991237\ttotal: 1.99s\tremaining: 1.58s\n",
      "557:\tlearn: 0.0989199\ttotal: 2s\tremaining: 1.58s\n",
      "558:\tlearn: 0.0987736\ttotal: 2s\tremaining: 1.58s\n",
      "559:\tlearn: 0.0987201\ttotal: 2s\tremaining: 1.57s\n",
      "560:\tlearn: 0.0985231\ttotal: 2s\tremaining: 1.57s\n",
      "561:\tlearn: 0.0983493\ttotal: 2.01s\tremaining: 1.56s\n",
      "562:\tlearn: 0.0981787\ttotal: 2.01s\tremaining: 1.56s\n",
      "563:\tlearn: 0.0980247\ttotal: 2.01s\tremaining: 1.55s\n",
      "564:\tlearn: 0.0978994\ttotal: 2.01s\tremaining: 1.55s\n",
      "565:\tlearn: 0.0975809\ttotal: 2.02s\tremaining: 1.54s\n",
      "566:\tlearn: 0.0973686\ttotal: 2.02s\tremaining: 1.54s\n",
      "567:\tlearn: 0.0972130\ttotal: 2.02s\tremaining: 1.54s\n",
      "568:\tlearn: 0.0969575\ttotal: 2.02s\tremaining: 1.53s\n",
      "569:\tlearn: 0.0967613\ttotal: 2.02s\tremaining: 1.53s\n",
      "570:\tlearn: 0.0964954\ttotal: 2.03s\tremaining: 1.52s\n",
      "571:\tlearn: 0.0963584\ttotal: 2.03s\tremaining: 1.52s\n",
      "572:\tlearn: 0.0963409\ttotal: 2.03s\tremaining: 1.51s\n",
      "573:\tlearn: 0.0963259\ttotal: 2.04s\tremaining: 1.51s\n",
      "574:\tlearn: 0.0961614\ttotal: 2.04s\tremaining: 1.51s\n",
      "575:\tlearn: 0.0959887\ttotal: 2.04s\tremaining: 1.5s\n",
      "576:\tlearn: 0.0958994\ttotal: 2.04s\tremaining: 1.5s\n",
      "577:\tlearn: 0.0956738\ttotal: 2.05s\tremaining: 1.49s\n",
      "578:\tlearn: 0.0953319\ttotal: 2.05s\tremaining: 1.49s\n",
      "579:\tlearn: 0.0951799\ttotal: 2.05s\tremaining: 1.49s\n",
      "580:\tlearn: 0.0950093\ttotal: 2.05s\tremaining: 1.48s\n",
      "581:\tlearn: 0.0948014\ttotal: 2.06s\tremaining: 1.48s\n",
      "582:\tlearn: 0.0946739\ttotal: 2.06s\tremaining: 1.47s\n",
      "583:\tlearn: 0.0944681\ttotal: 2.06s\tremaining: 1.47s\n",
      "584:\tlearn: 0.0942575\ttotal: 2.06s\tremaining: 1.46s\n",
      "585:\tlearn: 0.0941145\ttotal: 2.06s\tremaining: 1.46s\n",
      "586:\tlearn: 0.0939695\ttotal: 2.07s\tremaining: 1.46s\n",
      "587:\tlearn: 0.0937538\ttotal: 2.07s\tremaining: 1.45s\n",
      "588:\tlearn: 0.0937253\ttotal: 2.07s\tremaining: 1.45s\n",
      "589:\tlearn: 0.0935864\ttotal: 2.08s\tremaining: 1.44s\n",
      "590:\tlearn: 0.0934013\ttotal: 2.08s\tremaining: 1.44s\n",
      "591:\tlearn: 0.0933391\ttotal: 2.08s\tremaining: 1.44s\n",
      "592:\tlearn: 0.0931790\ttotal: 2.09s\tremaining: 1.43s\n",
      "593:\tlearn: 0.0930244\ttotal: 2.09s\tremaining: 1.43s\n",
      "594:\tlearn: 0.0928110\ttotal: 2.09s\tremaining: 1.42s\n",
      "595:\tlearn: 0.0925181\ttotal: 2.09s\tremaining: 1.42s\n",
      "596:\tlearn: 0.0924305\ttotal: 2.1s\tremaining: 1.41s\n",
      "597:\tlearn: 0.0923051\ttotal: 2.1s\tremaining: 1.41s\n",
      "598:\tlearn: 0.0921259\ttotal: 2.1s\tremaining: 1.41s\n",
      "599:\tlearn: 0.0920864\ttotal: 2.1s\tremaining: 1.4s\n"
     ]
    },
    {
     "name": "stdout",
     "output_type": "stream",
     "text": [
      "600:\tlearn: 0.0919435\ttotal: 2.11s\tremaining: 1.4s\n",
      "601:\tlearn: 0.0918888\ttotal: 2.11s\tremaining: 1.4s\n",
      "602:\tlearn: 0.0916726\ttotal: 2.11s\tremaining: 1.39s\n",
      "603:\tlearn: 0.0915242\ttotal: 2.11s\tremaining: 1.39s\n",
      "604:\tlearn: 0.0914688\ttotal: 2.12s\tremaining: 1.38s\n",
      "605:\tlearn: 0.0912165\ttotal: 2.12s\tremaining: 1.38s\n",
      "606:\tlearn: 0.0910891\ttotal: 2.12s\tremaining: 1.37s\n",
      "607:\tlearn: 0.0909707\ttotal: 2.12s\tremaining: 1.37s\n",
      "608:\tlearn: 0.0908278\ttotal: 2.13s\tremaining: 1.36s\n",
      "609:\tlearn: 0.0906829\ttotal: 2.13s\tremaining: 1.36s\n",
      "610:\tlearn: 0.0904884\ttotal: 2.13s\tremaining: 1.36s\n",
      "611:\tlearn: 0.0902746\ttotal: 2.13s\tremaining: 1.35s\n"
     ]
    },
    {
     "name": "stdout",
     "output_type": "stream",
     "text": [
      "612:\tlearn: 0.0901499\ttotal: 2.14s\tremaining: 1.35s\n",
      "613:\tlearn: 0.0901022\ttotal: 2.14s\tremaining: 1.34s\n",
      "614:\tlearn: 0.0900889\ttotal: 2.14s\tremaining: 1.34s\n",
      "615:\tlearn: 0.0899018\ttotal: 2.14s\tremaining: 1.34s\n",
      "616:\tlearn: 0.0897484\ttotal: 2.15s\tremaining: 1.33s\n",
      "617:\tlearn: 0.0897178\ttotal: 2.15s\tremaining: 1.33s\n",
      "618:\tlearn: 0.0895841\ttotal: 2.15s\tremaining: 1.32s\n",
      "619:\tlearn: 0.0893903\ttotal: 2.15s\tremaining: 1.32s\n",
      "620:\tlearn: 0.0892368\ttotal: 2.16s\tremaining: 1.32s\n",
      "621:\tlearn: 0.0890391\ttotal: 2.16s\tremaining: 1.31s\n",
      "622:\tlearn: 0.0889805\ttotal: 2.16s\tremaining: 1.31s\n",
      "623:\tlearn: 0.0888419\ttotal: 2.16s\tremaining: 1.3s\n",
      "624:\tlearn: 0.0887646\ttotal: 2.16s\tremaining: 1.3s\n",
      "625:\tlearn: 0.0885944\ttotal: 2.17s\tremaining: 1.29s\n",
      "626:\tlearn: 0.0885314\ttotal: 2.17s\tremaining: 1.29s\n",
      "627:\tlearn: 0.0882443\ttotal: 2.17s\tremaining: 1.29s\n",
      "628:\tlearn: 0.0881239\ttotal: 2.17s\tremaining: 1.28s\n",
      "629:\tlearn: 0.0879854\ttotal: 2.18s\tremaining: 1.28s\n",
      "630:\tlearn: 0.0878106\ttotal: 2.18s\tremaining: 1.27s\n",
      "631:\tlearn: 0.0875675\ttotal: 2.18s\tremaining: 1.27s\n",
      "632:\tlearn: 0.0873888\ttotal: 2.18s\tremaining: 1.27s\n",
      "633:\tlearn: 0.0873659\ttotal: 2.19s\tremaining: 1.26s\n",
      "634:\tlearn: 0.0870755\ttotal: 2.19s\tremaining: 1.26s\n",
      "635:\tlearn: 0.0869508\ttotal: 2.19s\tremaining: 1.25s\n",
      "636:\tlearn: 0.0869370\ttotal: 2.19s\tremaining: 1.25s\n",
      "637:\tlearn: 0.0868566\ttotal: 2.2s\tremaining: 1.25s\n",
      "638:\tlearn: 0.0867449\ttotal: 2.2s\tremaining: 1.24s\n",
      "639:\tlearn: 0.0866457\ttotal: 2.2s\tremaining: 1.24s\n",
      "640:\tlearn: 0.0865200\ttotal: 2.2s\tremaining: 1.23s\n",
      "641:\tlearn: 0.0863489\ttotal: 2.21s\tremaining: 1.23s\n",
      "642:\tlearn: 0.0861995\ttotal: 2.21s\tremaining: 1.23s\n",
      "643:\tlearn: 0.0861023\ttotal: 2.21s\tremaining: 1.22s\n",
      "644:\tlearn: 0.0859798\ttotal: 2.21s\tremaining: 1.22s\n",
      "645:\tlearn: 0.0859640\ttotal: 2.21s\tremaining: 1.21s\n",
      "646:\tlearn: 0.0858295\ttotal: 2.22s\tremaining: 1.21s\n",
      "647:\tlearn: 0.0858164\ttotal: 2.22s\tremaining: 1.21s\n",
      "648:\tlearn: 0.0856881\ttotal: 2.22s\tremaining: 1.2s\n",
      "649:\tlearn: 0.0854460\ttotal: 2.22s\tremaining: 1.2s\n",
      "650:\tlearn: 0.0851742\ttotal: 2.22s\tremaining: 1.19s\n",
      "651:\tlearn: 0.0850392\ttotal: 2.23s\tremaining: 1.19s\n",
      "652:\tlearn: 0.0848850\ttotal: 2.23s\tremaining: 1.18s\n",
      "653:\tlearn: 0.0848677\ttotal: 2.23s\tremaining: 1.18s\n",
      "654:\tlearn: 0.0846896\ttotal: 2.23s\tremaining: 1.18s\n",
      "655:\tlearn: 0.0845251\ttotal: 2.24s\tremaining: 1.17s\n",
      "656:\tlearn: 0.0844031\ttotal: 2.24s\tremaining: 1.17s\n",
      "657:\tlearn: 0.0843110\ttotal: 2.24s\tremaining: 1.16s\n",
      "658:\tlearn: 0.0841394\ttotal: 2.24s\tremaining: 1.16s\n",
      "659:\tlearn: 0.0839765\ttotal: 2.25s\tremaining: 1.16s\n",
      "660:\tlearn: 0.0839089\ttotal: 2.25s\tremaining: 1.15s\n",
      "661:\tlearn: 0.0838266\ttotal: 2.25s\tremaining: 1.15s\n",
      "662:\tlearn: 0.0836842\ttotal: 2.25s\tremaining: 1.15s\n",
      "663:\tlearn: 0.0834638\ttotal: 2.26s\tremaining: 1.14s\n",
      "664:\tlearn: 0.0833419\ttotal: 2.26s\tremaining: 1.14s\n",
      "665:\tlearn: 0.0831680\ttotal: 2.26s\tremaining: 1.13s\n",
      "666:\tlearn: 0.0830096\ttotal: 2.27s\tremaining: 1.13s\n",
      "667:\tlearn: 0.0828621\ttotal: 2.27s\tremaining: 1.13s\n",
      "668:\tlearn: 0.0827417\ttotal: 2.27s\tremaining: 1.12s\n",
      "669:\tlearn: 0.0825595\ttotal: 2.27s\tremaining: 1.12s\n",
      "670:\tlearn: 0.0824468\ttotal: 2.27s\tremaining: 1.11s\n",
      "671:\tlearn: 0.0824311\ttotal: 2.28s\tremaining: 1.11s\n"
     ]
    },
    {
     "name": "stdout",
     "output_type": "stream",
     "text": [
      "672:\tlearn: 0.0822589\ttotal: 2.28s\tremaining: 1.11s\n",
      "673:\tlearn: 0.0821673\ttotal: 2.28s\tremaining: 1.1s\n",
      "674:\tlearn: 0.0820309\ttotal: 2.29s\tremaining: 1.1s\n",
      "675:\tlearn: 0.0818621\ttotal: 2.29s\tremaining: 1.1s\n",
      "676:\tlearn: 0.0817305\ttotal: 2.29s\tremaining: 1.09s\n",
      "677:\tlearn: 0.0816409\ttotal: 2.29s\tremaining: 1.09s\n",
      "678:\tlearn: 0.0814565\ttotal: 2.29s\tremaining: 1.08s\n",
      "679:\tlearn: 0.0813473\ttotal: 2.3s\tremaining: 1.08s\n",
      "680:\tlearn: 0.0812342\ttotal: 2.3s\tremaining: 1.08s\n",
      "681:\tlearn: 0.0810514\ttotal: 2.3s\tremaining: 1.07s\n",
      "682:\tlearn: 0.0809440\ttotal: 2.3s\tremaining: 1.07s\n",
      "683:\tlearn: 0.0808537\ttotal: 2.31s\tremaining: 1.06s\n",
      "684:\tlearn: 0.0806561\ttotal: 2.31s\tremaining: 1.06s\n"
     ]
    },
    {
     "name": "stdout",
     "output_type": "stream",
     "text": [
      "685:\tlearn: 0.0804866\ttotal: 2.31s\tremaining: 1.06s\n",
      "686:\tlearn: 0.0802445\ttotal: 2.31s\tremaining: 1.05s\n",
      "687:\tlearn: 0.0801689\ttotal: 2.32s\tremaining: 1.05s\n",
      "688:\tlearn: 0.0801173\ttotal: 2.32s\tremaining: 1.05s\n",
      "689:\tlearn: 0.0799501\ttotal: 2.32s\tremaining: 1.04s\n",
      "690:\tlearn: 0.0797645\ttotal: 2.32s\tremaining: 1.04s\n",
      "691:\tlearn: 0.0795367\ttotal: 2.33s\tremaining: 1.03s\n",
      "692:\tlearn: 0.0794893\ttotal: 2.33s\tremaining: 1.03s\n",
      "693:\tlearn: 0.0794054\ttotal: 2.33s\tremaining: 1.03s\n",
      "694:\tlearn: 0.0793456\ttotal: 2.33s\tremaining: 1.02s\n",
      "695:\tlearn: 0.0793325\ttotal: 2.34s\tremaining: 1.02s\n",
      "696:\tlearn: 0.0792243\ttotal: 2.34s\tremaining: 1.02s\n",
      "697:\tlearn: 0.0790631\ttotal: 2.34s\tremaining: 1.01s\n",
      "698:\tlearn: 0.0789202\ttotal: 2.35s\tremaining: 1.01s\n",
      "699:\tlearn: 0.0787345\ttotal: 2.35s\tremaining: 1.01s\n",
      "700:\tlearn: 0.0785456\ttotal: 2.35s\tremaining: 1s\n",
      "701:\tlearn: 0.0784450\ttotal: 2.36s\tremaining: 1s\n",
      "702:\tlearn: 0.0783155\ttotal: 2.36s\tremaining: 996ms\n",
      "703:\tlearn: 0.0780968\ttotal: 2.36s\tremaining: 992ms\n",
      "704:\tlearn: 0.0778782\ttotal: 2.36s\tremaining: 989ms\n",
      "705:\tlearn: 0.0777870\ttotal: 2.37s\tremaining: 986ms\n",
      "706:\tlearn: 0.0776099\ttotal: 2.37s\tremaining: 982ms\n",
      "707:\tlearn: 0.0775334\ttotal: 2.37s\tremaining: 979ms\n",
      "708:\tlearn: 0.0775195\ttotal: 2.37s\tremaining: 975ms\n",
      "709:\tlearn: 0.0774371\ttotal: 2.38s\tremaining: 972ms\n",
      "710:\tlearn: 0.0772244\ttotal: 2.38s\tremaining: 968ms\n",
      "711:\tlearn: 0.0770837\ttotal: 2.38s\tremaining: 964ms\n",
      "712:\tlearn: 0.0769922\ttotal: 2.39s\tremaining: 961ms\n",
      "713:\tlearn: 0.0767546\ttotal: 2.39s\tremaining: 957ms\n",
      "714:\tlearn: 0.0766768\ttotal: 2.39s\tremaining: 954ms\n",
      "715:\tlearn: 0.0765330\ttotal: 2.4s\tremaining: 950ms\n",
      "716:\tlearn: 0.0763496\ttotal: 2.4s\tremaining: 948ms\n",
      "717:\tlearn: 0.0762667\ttotal: 2.4s\tremaining: 945ms\n"
     ]
    },
    {
     "name": "stdout",
     "output_type": "stream",
     "text": [
      "718:\tlearn: 0.0762329\ttotal: 2.49s\tremaining: 972ms\n"
     ]
    },
    {
     "name": "stdout",
     "output_type": "stream",
     "text": [
      "719:\tlearn: 0.0760669\ttotal: 2.51s\tremaining: 977ms\n",
      "720:\tlearn: 0.0760031\ttotal: 2.52s\tremaining: 977ms\n",
      "721:\tlearn: 0.0759180\ttotal: 2.54s\tremaining: 976ms\n",
      "722:\tlearn: 0.0757030\ttotal: 2.58s\tremaining: 990ms\n"
     ]
    },
    {
     "name": "stdout",
     "output_type": "stream",
     "text": [
      "723:\tlearn: 0.0756580\ttotal: 2.66s\tremaining: 1.01s\n",
      "724:\tlearn: 0.0755102\ttotal: 2.67s\tremaining: 1.01s\n",
      "725:\tlearn: 0.0752944\ttotal: 2.67s\tremaining: 1.01s\n",
      "726:\tlearn: 0.0752289\ttotal: 2.68s\tremaining: 1s\n",
      "727:\tlearn: 0.0750621\ttotal: 2.68s\tremaining: 1s\n"
     ]
    },
    {
     "name": "stdout",
     "output_type": "stream",
     "text": [
      "728:\tlearn: 0.0750487\ttotal: 2.69s\tremaining: 1s\n",
      "729:\tlearn: 0.0748871\ttotal: 2.7s\tremaining: 997ms\n",
      "730:\tlearn: 0.0747689\ttotal: 2.7s\tremaining: 994ms\n",
      "731:\tlearn: 0.0747429\ttotal: 2.7s\tremaining: 990ms\n",
      "732:\tlearn: 0.0746373\ttotal: 2.71s\tremaining: 987ms\n",
      "733:\tlearn: 0.0744705\ttotal: 2.71s\tremaining: 983ms\n",
      "734:\tlearn: 0.0742618\ttotal: 2.72s\tremaining: 980ms\n",
      "735:\tlearn: 0.0742523\ttotal: 2.72s\tremaining: 976ms\n",
      "736:\tlearn: 0.0740704\ttotal: 2.72s\tremaining: 972ms\n",
      "737:\tlearn: 0.0739889\ttotal: 2.73s\tremaining: 969ms\n",
      "738:\tlearn: 0.0739401\ttotal: 2.73s\tremaining: 965ms\n",
      "739:\tlearn: 0.0737274\ttotal: 2.74s\tremaining: 962ms\n",
      "740:\tlearn: 0.0736966\ttotal: 2.74s\tremaining: 958ms\n",
      "741:\tlearn: 0.0735209\ttotal: 2.75s\tremaining: 955ms\n",
      "742:\tlearn: 0.0733226\ttotal: 2.75s\tremaining: 951ms\n",
      "743:\tlearn: 0.0731465\ttotal: 2.75s\tremaining: 947ms\n",
      "744:\tlearn: 0.0730152\ttotal: 2.75s\tremaining: 943ms\n",
      "745:\tlearn: 0.0729843\ttotal: 2.76s\tremaining: 939ms\n",
      "746:\tlearn: 0.0729002\ttotal: 2.76s\tremaining: 935ms\n",
      "747:\tlearn: 0.0728152\ttotal: 2.77s\tremaining: 932ms\n",
      "748:\tlearn: 0.0726888\ttotal: 2.77s\tremaining: 928ms\n"
     ]
    },
    {
     "name": "stdout",
     "output_type": "stream",
     "text": [
      "749:\tlearn: 0.0725577\ttotal: 2.77s\tremaining: 924ms\n",
      "750:\tlearn: 0.0724369\ttotal: 2.78s\tremaining: 921ms\n",
      "751:\tlearn: 0.0724197\ttotal: 2.78s\tremaining: 918ms\n",
      "752:\tlearn: 0.0723048\ttotal: 2.79s\tremaining: 915ms\n",
      "753:\tlearn: 0.0722176\ttotal: 2.79s\tremaining: 911ms\n",
      "754:\tlearn: 0.0720949\ttotal: 2.79s\tremaining: 907ms\n",
      "755:\tlearn: 0.0720479\ttotal: 2.8s\tremaining: 903ms\n",
      "756:\tlearn: 0.0719065\ttotal: 2.8s\tremaining: 898ms\n",
      "757:\tlearn: 0.0716359\ttotal: 2.8s\tremaining: 894ms\n",
      "758:\tlearn: 0.0715932\ttotal: 2.8s\tremaining: 890ms\n"
     ]
    },
    {
     "name": "stdout",
     "output_type": "stream",
     "text": [
      "759:\tlearn: 0.0713811\ttotal: 2.81s\tremaining: 887ms\n",
      "760:\tlearn: 0.0712645\ttotal: 2.81s\tremaining: 884ms\n",
      "761:\tlearn: 0.0711719\ttotal: 2.81s\tremaining: 879ms\n",
      "762:\tlearn: 0.0710281\ttotal: 2.82s\tremaining: 875ms\n",
      "763:\tlearn: 0.0709460\ttotal: 2.82s\tremaining: 871ms\n",
      "764:\tlearn: 0.0708106\ttotal: 2.82s\tremaining: 867ms\n",
      "765:\tlearn: 0.0706777\ttotal: 2.82s\tremaining: 863ms\n",
      "766:\tlearn: 0.0705315\ttotal: 2.83s\tremaining: 859ms\n",
      "767:\tlearn: 0.0703658\ttotal: 2.83s\tremaining: 855ms\n",
      "768:\tlearn: 0.0702608\ttotal: 2.83s\tremaining: 851ms\n",
      "769:\tlearn: 0.0701798\ttotal: 2.83s\tremaining: 847ms\n",
      "770:\tlearn: 0.0701249\ttotal: 2.84s\tremaining: 842ms\n",
      "771:\tlearn: 0.0699971\ttotal: 2.84s\tremaining: 838ms\n",
      "772:\tlearn: 0.0698747\ttotal: 2.84s\tremaining: 834ms\n",
      "773:\tlearn: 0.0697331\ttotal: 2.84s\tremaining: 830ms\n",
      "774:\tlearn: 0.0696229\ttotal: 2.84s\tremaining: 826ms\n",
      "775:\tlearn: 0.0696133\ttotal: 2.85s\tremaining: 822ms\n",
      "776:\tlearn: 0.0695034\ttotal: 2.85s\tremaining: 818ms\n",
      "777:\tlearn: 0.0694269\ttotal: 2.85s\tremaining: 813ms\n",
      "778:\tlearn: 0.0692937\ttotal: 2.85s\tremaining: 809ms\n",
      "779:\tlearn: 0.0691866\ttotal: 2.85s\tremaining: 805ms\n",
      "780:\tlearn: 0.0690551\ttotal: 2.86s\tremaining: 801ms\n",
      "781:\tlearn: 0.0689773\ttotal: 2.86s\tremaining: 797ms\n",
      "782:\tlearn: 0.0688032\ttotal: 2.86s\tremaining: 793ms\n",
      "783:\tlearn: 0.0686766\ttotal: 2.86s\tremaining: 789ms\n",
      "784:\tlearn: 0.0685018\ttotal: 2.87s\tremaining: 785ms\n",
      "785:\tlearn: 0.0683442\ttotal: 2.87s\tremaining: 781ms\n",
      "786:\tlearn: 0.0682554\ttotal: 2.87s\tremaining: 777ms\n",
      "787:\tlearn: 0.0682268\ttotal: 2.88s\tremaining: 774ms\n",
      "788:\tlearn: 0.0681067\ttotal: 2.88s\tremaining: 770ms\n",
      "789:\tlearn: 0.0680300\ttotal: 2.88s\tremaining: 766ms\n",
      "790:\tlearn: 0.0679672\ttotal: 2.88s\tremaining: 762ms\n",
      "791:\tlearn: 0.0678417\ttotal: 2.89s\tremaining: 758ms\n",
      "792:\tlearn: 0.0677033\ttotal: 2.89s\tremaining: 754ms\n",
      "793:\tlearn: 0.0675557\ttotal: 2.89s\tremaining: 750ms\n",
      "794:\tlearn: 0.0675445\ttotal: 2.89s\tremaining: 746ms\n",
      "795:\tlearn: 0.0673699\ttotal: 2.9s\tremaining: 742ms\n",
      "796:\tlearn: 0.0672523\ttotal: 2.9s\tremaining: 738ms\n",
      "797:\tlearn: 0.0671280\ttotal: 2.9s\tremaining: 735ms\n",
      "798:\tlearn: 0.0670918\ttotal: 2.9s\tremaining: 731ms\n",
      "799:\tlearn: 0.0669678\ttotal: 2.9s\tremaining: 726ms\n",
      "800:\tlearn: 0.0668728\ttotal: 2.91s\tremaining: 723ms\n",
      "801:\tlearn: 0.0667705\ttotal: 2.91s\tremaining: 719ms\n",
      "802:\tlearn: 0.0666489\ttotal: 2.91s\tremaining: 715ms\n",
      "803:\tlearn: 0.0666287\ttotal: 2.92s\tremaining: 711ms\n",
      "804:\tlearn: 0.0665954\ttotal: 2.92s\tremaining: 707ms\n",
      "805:\tlearn: 0.0664548\ttotal: 2.92s\tremaining: 703ms\n",
      "806:\tlearn: 0.0662603\ttotal: 2.92s\tremaining: 699ms\n",
      "807:\tlearn: 0.0661306\ttotal: 2.92s\tremaining: 695ms\n",
      "808:\tlearn: 0.0659199\ttotal: 2.93s\tremaining: 691ms\n",
      "809:\tlearn: 0.0658330\ttotal: 2.93s\tremaining: 687ms\n",
      "810:\tlearn: 0.0657743\ttotal: 2.93s\tremaining: 683ms\n",
      "811:\tlearn: 0.0656750\ttotal: 2.94s\tremaining: 680ms\n"
     ]
    },
    {
     "name": "stdout",
     "output_type": "stream",
     "text": [
      "812:\tlearn: 0.0655678\ttotal: 2.96s\tremaining: 681ms\n"
     ]
    },
    {
     "name": "stdout",
     "output_type": "stream",
     "text": [
      "813:\tlearn: 0.0655060\ttotal: 2.96s\tremaining: 677ms\n",
      "814:\tlearn: 0.0654045\ttotal: 2.97s\tremaining: 674ms\n",
      "815:\tlearn: 0.0653287\ttotal: 2.98s\tremaining: 671ms\n",
      "816:\tlearn: 0.0652388\ttotal: 2.99s\tremaining: 670ms\n",
      "817:\tlearn: 0.0650555\ttotal: 3s\tremaining: 666ms\n",
      "818:\tlearn: 0.0649111\ttotal: 3s\tremaining: 663ms\n",
      "819:\tlearn: 0.0648046\ttotal: 3s\tremaining: 659ms\n",
      "820:\tlearn: 0.0646651\ttotal: 3s\tremaining: 655ms\n",
      "821:\tlearn: 0.0645431\ttotal: 3.01s\tremaining: 651ms\n",
      "822:\tlearn: 0.0644445\ttotal: 3.01s\tremaining: 647ms\n",
      "823:\tlearn: 0.0643680\ttotal: 3.01s\tremaining: 644ms\n",
      "824:\tlearn: 0.0642511\ttotal: 3.02s\tremaining: 640ms\n",
      "825:\tlearn: 0.0642151\ttotal: 3.03s\tremaining: 638ms\n",
      "826:\tlearn: 0.0641062\ttotal: 3.03s\tremaining: 634ms\n",
      "827:\tlearn: 0.0639499\ttotal: 3.03s\tremaining: 630ms\n",
      "828:\tlearn: 0.0639201\ttotal: 3.04s\tremaining: 626ms\n",
      "829:\tlearn: 0.0639100\ttotal: 3.04s\tremaining: 622ms\n",
      "830:\tlearn: 0.0637893\ttotal: 3.04s\tremaining: 618ms\n",
      "831:\tlearn: 0.0636555\ttotal: 3.04s\tremaining: 614ms\n",
      "832:\tlearn: 0.0635817\ttotal: 3.04s\tremaining: 610ms\n",
      "833:\tlearn: 0.0634047\ttotal: 3.05s\tremaining: 606ms\n",
      "834:\tlearn: 0.0632586\ttotal: 3.05s\tremaining: 603ms\n",
      "835:\tlearn: 0.0631361\ttotal: 3.05s\tremaining: 599ms\n",
      "836:\tlearn: 0.0630620\ttotal: 3.05s\tremaining: 595ms\n",
      "837:\tlearn: 0.0629846\ttotal: 3.06s\tremaining: 591ms\n",
      "838:\tlearn: 0.0628205\ttotal: 3.06s\tremaining: 587ms\n",
      "839:\tlearn: 0.0627520\ttotal: 3.06s\tremaining: 583ms\n",
      "840:\tlearn: 0.0626782\ttotal: 3.06s\tremaining: 579ms\n",
      "841:\tlearn: 0.0626519\ttotal: 3.06s\tremaining: 575ms\n",
      "842:\tlearn: 0.0625498\ttotal: 3.07s\tremaining: 571ms\n",
      "843:\tlearn: 0.0624096\ttotal: 3.07s\tremaining: 567ms\n",
      "844:\tlearn: 0.0623149\ttotal: 3.07s\tremaining: 564ms\n",
      "845:\tlearn: 0.0622434\ttotal: 3.08s\tremaining: 560ms\n",
      "846:\tlearn: 0.0621948\ttotal: 3.08s\tremaining: 556ms\n",
      "847:\tlearn: 0.0621121\ttotal: 3.08s\tremaining: 552ms\n"
     ]
    },
    {
     "name": "stdout",
     "output_type": "stream",
     "text": [
      "848:\tlearn: 0.0620205\ttotal: 3.08s\tremaining: 548ms\n",
      "849:\tlearn: 0.0619712\ttotal: 3.08s\tremaining: 544ms\n",
      "850:\tlearn: 0.0619405\ttotal: 3.09s\tremaining: 540ms\n",
      "851:\tlearn: 0.0618083\ttotal: 3.09s\tremaining: 537ms\n",
      "852:\tlearn: 0.0617007\ttotal: 3.09s\tremaining: 533ms\n",
      "853:\tlearn: 0.0616103\ttotal: 3.09s\tremaining: 529ms\n",
      "854:\tlearn: 0.0615187\ttotal: 3.1s\tremaining: 525ms\n",
      "855:\tlearn: 0.0613544\ttotal: 3.1s\tremaining: 521ms\n",
      "856:\tlearn: 0.0612242\ttotal: 3.1s\tremaining: 517ms\n",
      "857:\tlearn: 0.0611296\ttotal: 3.1s\tremaining: 514ms\n",
      "858:\tlearn: 0.0610490\ttotal: 3.11s\tremaining: 510ms\n",
      "859:\tlearn: 0.0609601\ttotal: 3.11s\tremaining: 506ms\n",
      "860:\tlearn: 0.0608693\ttotal: 3.11s\tremaining: 502ms\n",
      "861:\tlearn: 0.0608001\ttotal: 3.11s\tremaining: 498ms\n",
      "862:\tlearn: 0.0606976\ttotal: 3.11s\tremaining: 494ms\n"
     ]
    },
    {
     "name": "stdout",
     "output_type": "stream",
     "text": [
      "863:\tlearn: 0.0606328\ttotal: 3.12s\tremaining: 491ms\n",
      "864:\tlearn: 0.0605968\ttotal: 3.12s\tremaining: 487ms\n",
      "865:\tlearn: 0.0604980\ttotal: 3.13s\tremaining: 484ms\n",
      "866:\tlearn: 0.0604520\ttotal: 3.13s\tremaining: 480ms\n",
      "867:\tlearn: 0.0603633\ttotal: 3.13s\tremaining: 476ms\n",
      "868:\tlearn: 0.0602782\ttotal: 3.13s\tremaining: 472ms\n",
      "869:\tlearn: 0.0602556\ttotal: 3.13s\tremaining: 468ms\n",
      "870:\tlearn: 0.0601560\ttotal: 3.13s\tremaining: 464ms\n",
      "871:\tlearn: 0.0600774\ttotal: 3.14s\tremaining: 461ms\n",
      "872:\tlearn: 0.0600175\ttotal: 3.14s\tremaining: 457ms\n",
      "873:\tlearn: 0.0599303\ttotal: 3.14s\tremaining: 453ms\n",
      "874:\tlearn: 0.0598677\ttotal: 3.14s\tremaining: 449ms\n",
      "875:\tlearn: 0.0598160\ttotal: 3.15s\tremaining: 445ms\n",
      "876:\tlearn: 0.0597086\ttotal: 3.15s\tremaining: 442ms\n",
      "877:\tlearn: 0.0595431\ttotal: 3.15s\tremaining: 438ms\n",
      "878:\tlearn: 0.0594795\ttotal: 3.15s\tremaining: 434ms\n",
      "879:\tlearn: 0.0593965\ttotal: 3.16s\tremaining: 431ms\n",
      "880:\tlearn: 0.0593255\ttotal: 3.16s\tremaining: 427ms\n",
      "881:\tlearn: 0.0592507\ttotal: 3.17s\tremaining: 424ms\n",
      "882:\tlearn: 0.0591903\ttotal: 3.18s\tremaining: 421ms\n",
      "883:\tlearn: 0.0591519\ttotal: 3.18s\tremaining: 417ms\n",
      "884:\tlearn: 0.0590562\ttotal: 3.19s\tremaining: 414ms\n",
      "885:\tlearn: 0.0589549\ttotal: 3.19s\tremaining: 411ms\n",
      "886:\tlearn: 0.0588720\ttotal: 3.2s\tremaining: 408ms\n",
      "887:\tlearn: 0.0587485\ttotal: 3.21s\tremaining: 405ms\n"
     ]
    },
    {
     "name": "stdout",
     "output_type": "stream",
     "text": [
      "888:\tlearn: 0.0587327\ttotal: 3.22s\tremaining: 403ms\n",
      "889:\tlearn: 0.0586441\ttotal: 3.25s\tremaining: 401ms\n",
      "890:\tlearn: 0.0585684\ttotal: 3.25s\tremaining: 398ms\n",
      "891:\tlearn: 0.0585011\ttotal: 3.25s\tremaining: 394ms\n",
      "892:\tlearn: 0.0584367\ttotal: 3.26s\tremaining: 390ms\n",
      "893:\tlearn: 0.0582991\ttotal: 3.26s\tremaining: 387ms\n",
      "894:\tlearn: 0.0582253\ttotal: 3.26s\tremaining: 383ms\n",
      "895:\tlearn: 0.0581755\ttotal: 3.27s\tremaining: 379ms\n",
      "896:\tlearn: 0.0581065\ttotal: 3.27s\tremaining: 376ms\n",
      "897:\tlearn: 0.0579683\ttotal: 3.28s\tremaining: 372ms\n",
      "898:\tlearn: 0.0578806\ttotal: 3.28s\tremaining: 369ms\n",
      "899:\tlearn: 0.0577937\ttotal: 3.29s\tremaining: 365ms\n",
      "900:\tlearn: 0.0576988\ttotal: 3.29s\tremaining: 361ms\n",
      "901:\tlearn: 0.0576171\ttotal: 3.29s\tremaining: 358ms\n",
      "902:\tlearn: 0.0575203\ttotal: 3.29s\tremaining: 354ms\n",
      "903:\tlearn: 0.0573785\ttotal: 3.29s\tremaining: 350ms\n",
      "904:\tlearn: 0.0573114\ttotal: 3.3s\tremaining: 346ms\n",
      "905:\tlearn: 0.0572147\ttotal: 3.3s\tremaining: 342ms\n",
      "906:\tlearn: 0.0571484\ttotal: 3.3s\tremaining: 339ms\n",
      "907:\tlearn: 0.0570538\ttotal: 3.3s\tremaining: 335ms\n",
      "908:\tlearn: 0.0569356\ttotal: 3.31s\tremaining: 331ms\n",
      "909:\tlearn: 0.0568137\ttotal: 3.31s\tremaining: 327ms\n",
      "910:\tlearn: 0.0567487\ttotal: 3.34s\tremaining: 326ms\n",
      "911:\tlearn: 0.0566703\ttotal: 3.36s\tremaining: 324ms\n",
      "912:\tlearn: 0.0565784\ttotal: 3.37s\tremaining: 321ms\n",
      "913:\tlearn: 0.0564757\ttotal: 3.39s\tremaining: 319ms\n",
      "914:\tlearn: 0.0564071\ttotal: 3.39s\tremaining: 315ms\n",
      "915:\tlearn: 0.0562919\ttotal: 3.4s\tremaining: 311ms\n",
      "916:\tlearn: 0.0562327\ttotal: 3.4s\tremaining: 307ms\n",
      "917:\tlearn: 0.0561874\ttotal: 3.4s\tremaining: 304ms\n"
     ]
    },
    {
     "name": "stdout",
     "output_type": "stream",
     "text": [
      "918:\tlearn: 0.0561070\ttotal: 3.41s\tremaining: 300ms\n",
      "919:\tlearn: 0.0560381\ttotal: 3.41s\tremaining: 296ms\n",
      "920:\tlearn: 0.0559648\ttotal: 3.41s\tremaining: 293ms\n",
      "921:\tlearn: 0.0558830\ttotal: 3.42s\tremaining: 289ms\n",
      "922:\tlearn: 0.0558041\ttotal: 3.42s\tremaining: 286ms\n",
      "923:\tlearn: 0.0557377\ttotal: 3.43s\tremaining: 282ms\n",
      "924:\tlearn: 0.0556175\ttotal: 3.43s\tremaining: 278ms\n",
      "925:\tlearn: 0.0554900\ttotal: 3.44s\tremaining: 275ms\n",
      "926:\tlearn: 0.0554083\ttotal: 3.44s\tremaining: 271ms\n",
      "927:\tlearn: 0.0553741\ttotal: 3.45s\tremaining: 268ms\n",
      "928:\tlearn: 0.0552459\ttotal: 3.45s\tremaining: 264ms\n",
      "929:\tlearn: 0.0552197\ttotal: 3.46s\tremaining: 260ms\n",
      "930:\tlearn: 0.0551593\ttotal: 3.46s\tremaining: 256ms\n",
      "931:\tlearn: 0.0550845\ttotal: 3.46s\tremaining: 252ms\n",
      "932:\tlearn: 0.0550138\ttotal: 3.46s\tremaining: 249ms\n",
      "933:\tlearn: 0.0549486\ttotal: 3.47s\tremaining: 245ms\n",
      "934:\tlearn: 0.0548434\ttotal: 3.47s\tremaining: 242ms\n",
      "935:\tlearn: 0.0547910\ttotal: 3.48s\tremaining: 238ms\n",
      "936:\tlearn: 0.0547563\ttotal: 3.48s\tremaining: 234ms\n",
      "937:\tlearn: 0.0547322\ttotal: 3.48s\tremaining: 230ms\n",
      "938:\tlearn: 0.0546234\ttotal: 3.49s\tremaining: 227ms\n",
      "939:\tlearn: 0.0545358\ttotal: 3.49s\tremaining: 223ms\n",
      "940:\tlearn: 0.0544623\ttotal: 3.5s\tremaining: 219ms\n",
      "941:\tlearn: 0.0543842\ttotal: 3.5s\tremaining: 215ms\n",
      "942:\tlearn: 0.0542692\ttotal: 3.5s\tremaining: 212ms\n",
      "943:\tlearn: 0.0541816\ttotal: 3.5s\tremaining: 208ms\n",
      "944:\tlearn: 0.0541717\ttotal: 3.51s\tremaining: 204ms\n",
      "945:\tlearn: 0.0541233\ttotal: 3.51s\tremaining: 200ms\n",
      "946:\tlearn: 0.0541064\ttotal: 3.51s\tremaining: 197ms\n",
      "947:\tlearn: 0.0540317\ttotal: 3.52s\tremaining: 193ms\n",
      "948:\tlearn: 0.0538917\ttotal: 3.52s\tremaining: 189ms\n",
      "949:\tlearn: 0.0537923\ttotal: 3.53s\tremaining: 186ms\n",
      "950:\tlearn: 0.0537066\ttotal: 3.53s\tremaining: 182ms\n",
      "951:\tlearn: 0.0536293\ttotal: 3.53s\tremaining: 178ms\n",
      "952:\tlearn: 0.0535416\ttotal: 3.53s\tremaining: 174ms\n",
      "953:\tlearn: 0.0534005\ttotal: 3.54s\tremaining: 171ms\n",
      "954:\tlearn: 0.0533429\ttotal: 3.54s\tremaining: 167ms\n",
      "955:\tlearn: 0.0532950\ttotal: 3.54s\tremaining: 163ms\n",
      "956:\tlearn: 0.0531381\ttotal: 3.54s\tremaining: 159ms\n",
      "957:\tlearn: 0.0530780\ttotal: 3.55s\tremaining: 156ms\n",
      "958:\tlearn: 0.0530021\ttotal: 3.55s\tremaining: 152ms\n",
      "959:\tlearn: 0.0529336\ttotal: 3.55s\tremaining: 148ms\n",
      "960:\tlearn: 0.0528832\ttotal: 3.55s\tremaining: 144ms\n",
      "961:\tlearn: 0.0528053\ttotal: 3.56s\tremaining: 140ms\n",
      "962:\tlearn: 0.0527110\ttotal: 3.56s\tremaining: 137ms\n",
      "963:\tlearn: 0.0526793\ttotal: 3.56s\tremaining: 133ms\n",
      "964:\tlearn: 0.0526353\ttotal: 3.56s\tremaining: 129ms\n"
     ]
    },
    {
     "name": "stdout",
     "output_type": "stream",
     "text": [
      "965:\tlearn: 0.0525641\ttotal: 3.56s\tremaining: 126ms\n",
      "966:\tlearn: 0.0524993\ttotal: 3.57s\tremaining: 122ms\n",
      "967:\tlearn: 0.0524146\ttotal: 3.57s\tremaining: 118ms\n",
      "968:\tlearn: 0.0523283\ttotal: 3.57s\tremaining: 114ms\n",
      "969:\tlearn: 0.0522532\ttotal: 3.57s\tremaining: 111ms\n",
      "970:\tlearn: 0.0521843\ttotal: 3.58s\tremaining: 107ms\n",
      "971:\tlearn: 0.0520736\ttotal: 3.58s\tremaining: 103ms\n",
      "972:\tlearn: 0.0519983\ttotal: 3.58s\tremaining: 99.4ms\n",
      "973:\tlearn: 0.0519607\ttotal: 3.58s\tremaining: 95.7ms\n",
      "974:\tlearn: 0.0519461\ttotal: 3.58s\tremaining: 91.9ms\n",
      "975:\tlearn: 0.0519253\ttotal: 3.59s\tremaining: 88.2ms\n",
      "976:\tlearn: 0.0518724\ttotal: 3.59s\tremaining: 84.5ms\n",
      "977:\tlearn: 0.0517884\ttotal: 3.59s\tremaining: 80.8ms\n",
      "978:\tlearn: 0.0516060\ttotal: 3.59s\tremaining: 77.1ms\n",
      "979:\tlearn: 0.0515477\ttotal: 3.6s\tremaining: 73.4ms\n",
      "980:\tlearn: 0.0514577\ttotal: 3.6s\tremaining: 69.7ms\n",
      "981:\tlearn: 0.0514175\ttotal: 3.6s\tremaining: 66ms\n",
      "982:\tlearn: 0.0513821\ttotal: 3.6s\tremaining: 62.3ms\n",
      "983:\tlearn: 0.0512807\ttotal: 3.6s\tremaining: 58.6ms\n",
      "984:\tlearn: 0.0511662\ttotal: 3.61s\tremaining: 55ms\n",
      "985:\tlearn: 0.0511032\ttotal: 3.61s\tremaining: 51.3ms\n",
      "986:\tlearn: 0.0510072\ttotal: 3.61s\tremaining: 47.6ms\n",
      "987:\tlearn: 0.0509291\ttotal: 3.62s\tremaining: 43.9ms\n",
      "988:\tlearn: 0.0509119\ttotal: 3.62s\tremaining: 40.2ms\n",
      "989:\tlearn: 0.0508394\ttotal: 3.62s\tremaining: 36.6ms\n",
      "990:\tlearn: 0.0507619\ttotal: 3.63s\tremaining: 33ms\n",
      "991:\tlearn: 0.0507090\ttotal: 3.64s\tremaining: 29.3ms\n",
      "992:\tlearn: 0.0506846\ttotal: 3.64s\tremaining: 25.7ms\n",
      "993:\tlearn: 0.0505738\ttotal: 3.66s\tremaining: 22.1ms\n",
      "994:\tlearn: 0.0505591\ttotal: 3.68s\tremaining: 18.5ms\n",
      "995:\tlearn: 0.0504846\ttotal: 3.69s\tremaining: 14.8ms\n",
      "996:\tlearn: 0.0504056\ttotal: 3.7s\tremaining: 11.1ms\n",
      "997:\tlearn: 0.0503362\ttotal: 3.7s\tremaining: 7.42ms\n",
      "998:\tlearn: 0.0502777\ttotal: 3.71s\tremaining: 3.71ms\n",
      "999:\tlearn: 0.0501280\ttotal: 3.71s\tremaining: 0us\n"
     ]
    },
    {
     "name": "stdout",
     "output_type": "stream",
     "text": [
      "Mean Absolute error 0.21390253292077743\n"
     ]
    },
    {
     "data": {
      "application/scrapbook.scrap.json+json": {
       "data": 0.21390253292077743,
       "encoder": "json",
       "name": "Catboost MAE",
       "version": 1
      }
     },
     "metadata": {
      "scrapbook": {
       "data": true,
       "display": false,
       "name": "Catboost MAE"
      }
     },
     "output_type": "display_data"
    },
    {
     "name": "stdout",
     "output_type": "stream",
     "text": [
      "Catboost MAE 0.21390253292077743\n"
     ]
    }
   ],
   "source": [
    "mae_cb = baselineModels.catboost(X_train,y_train,X_test,y_test)\n",
    "#Store MSE Value\n",
    "sb.glue(\"Catboost MAE\",mae_cb)\n",
    "print(\"Catboost MAE\",mae_cb)"
   ]
  },
  {
   "cell_type": "markdown",
   "id": "064dcc4f",
   "metadata": {
    "papermill": {
     "duration": 0.010406,
     "end_time": "2022-07-21T10:13:38.432244",
     "exception": false,
     "start_time": "2022-07-21T10:13:38.421838",
     "status": "completed"
    },
    "tags": []
   },
   "source": [
    "# TabNet Regressor"
   ]
  },
  {
   "cell_type": "code",
   "execution_count": 7,
   "id": "66f0810f",
   "metadata": {
    "execution": {
     "iopub.execute_input": "2022-07-21T10:13:38.457925Z",
     "iopub.status.busy": "2022-07-21T10:13:38.457447Z",
     "iopub.status.idle": "2022-07-21T10:13:38.463857Z",
     "shell.execute_reply": "2022-07-21T10:13:38.462791Z"
    },
    "papermill": {
     "duration": 0.027778,
     "end_time": "2022-07-21T10:13:38.470877",
     "exception": false,
     "start_time": "2022-07-21T10:13:38.443099",
     "status": "completed"
    },
    "tags": []
   },
   "outputs": [],
   "source": [
    "n_epochs = 1000\n",
    "batch_size = 32"
   ]
  },
  {
   "cell_type": "code",
   "execution_count": 8,
   "id": "9979be4f",
   "metadata": {
    "execution": {
     "iopub.execute_input": "2022-07-21T10:13:38.496293Z",
     "iopub.status.busy": "2022-07-21T10:13:38.495688Z",
     "iopub.status.idle": "2022-07-21T10:17:09.918434Z",
     "shell.execute_reply": "2022-07-21T10:17:09.917534Z"
    },
    "papermill": {
     "duration": 211.438114,
     "end_time": "2022-07-21T10:17:09.920818",
     "exception": false,
     "start_time": "2022-07-21T10:13:38.482704",
     "status": "completed"
    },
    "tags": []
   },
   "outputs": [
    {
     "name": "stdout",
     "output_type": "stream",
     "text": [
      "Device used : cpu\n"
     ]
    },
    {
     "name": "stdout",
     "output_type": "stream",
     "text": [
      "epoch 0  | loss: 2.55525 | train_mse: 1.2686  | train_mae: 0.75324 |  0:00:02s\n"
     ]
    },
    {
     "name": "stdout",
     "output_type": "stream",
     "text": [
      "epoch 1  | loss: 0.74249 | train_mse: 0.6711  | train_mae: 0.58114 |  0:00:03s\n"
     ]
    },
    {
     "name": "stdout",
     "output_type": "stream",
     "text": [
      "epoch 2  | loss: 0.62432 | train_mse: 0.54122 | train_mae: 0.5427  |  0:00:03s\n"
     ]
    },
    {
     "name": "stdout",
     "output_type": "stream",
     "text": [
      "epoch 3  | loss: 0.57742 | train_mse: 0.59175 | train_mae: 0.45938 |  0:00:03s\n"
     ]
    },
    {
     "name": "stdout",
     "output_type": "stream",
     "text": [
      "epoch 4  | loss: 0.46989 | train_mse: 0.63439 | train_mae: 0.48947 |  0:00:04s\n"
     ]
    },
    {
     "name": "stdout",
     "output_type": "stream",
     "text": [
      "epoch 5  | loss: 0.51845 | train_mse: 0.35481 | train_mae: 0.41129 |  0:00:04s\n"
     ]
    },
    {
     "name": "stdout",
     "output_type": "stream",
     "text": [
      "epoch 6  | loss: 0.41455 | train_mse: 0.40465 | train_mae: 0.44106 |  0:00:05s\n"
     ]
    },
    {
     "name": "stdout",
     "output_type": "stream",
     "text": [
      "epoch 7  | loss: 0.36001 | train_mse: 0.32629 | train_mae: 0.39889 |  0:00:06s\n"
     ]
    },
    {
     "name": "stdout",
     "output_type": "stream",
     "text": [
      "epoch 8  | loss: 0.33494 | train_mse: 0.26154 | train_mae: 0.36933 |  0:00:06s\n"
     ]
    },
    {
     "name": "stdout",
     "output_type": "stream",
     "text": [
      "epoch 9  | loss: 0.31292 | train_mse: 0.21792 | train_mae: 0.33454 |  0:00:07s\n"
     ]
    },
    {
     "name": "stdout",
     "output_type": "stream",
     "text": [
      "epoch 10 | loss: 0.28694 | train_mse: 0.17568 | train_mae: 0.29834 |  0:00:07s\n"
     ]
    },
    {
     "name": "stdout",
     "output_type": "stream",
     "text": [
      "epoch 11 | loss: 0.24602 | train_mse: 0.16299 | train_mae: 0.30728 |  0:00:08s\n"
     ]
    },
    {
     "name": "stdout",
     "output_type": "stream",
     "text": [
      "epoch 12 | loss: 0.30903 | train_mse: 0.18766 | train_mae: 0.32447 |  0:00:09s\n"
     ]
    },
    {
     "name": "stdout",
     "output_type": "stream",
     "text": [
      "epoch 13 | loss: 0.36056 | train_mse: 0.15171 | train_mae: 0.29618 |  0:00:09s\n"
     ]
    },
    {
     "name": "stdout",
     "output_type": "stream",
     "text": [
      "epoch 14 | loss: 0.25586 | train_mse: 0.17146 | train_mae: 0.3     |  0:00:10s\n"
     ]
    },
    {
     "name": "stdout",
     "output_type": "stream",
     "text": [
      "epoch 15 | loss: 0.33918 | train_mse: 0.23731 | train_mae: 0.34084 |  0:00:10s\n"
     ]
    },
    {
     "name": "stdout",
     "output_type": "stream",
     "text": [
      "epoch 16 | loss: 0.28488 | train_mse: 0.20432 | train_mae: 0.31669 |  0:00:10s\n"
     ]
    },
    {
     "name": "stdout",
     "output_type": "stream",
     "text": [
      "epoch 17 | loss: 0.25969 | train_mse: 0.18472 | train_mae: 0.2976  |  0:00:11s\n"
     ]
    },
    {
     "name": "stdout",
     "output_type": "stream",
     "text": [
      "epoch 18 | loss: 0.24598 | train_mse: 0.1933  | train_mae: 0.31757 |  0:00:11s\n"
     ]
    },
    {
     "name": "stdout",
     "output_type": "stream",
     "text": [
      "epoch 19 | loss: 0.216   | train_mse: 0.16045 | train_mae: 0.28526 |  0:00:11s\n"
     ]
    },
    {
     "name": "stdout",
     "output_type": "stream",
     "text": [
      "epoch 20 | loss: 0.25608 | train_mse: 0.16969 | train_mae: 0.29626 |  0:00:12s\n"
     ]
    },
    {
     "name": "stdout",
     "output_type": "stream",
     "text": [
      "epoch 21 | loss: 0.2034  | train_mse: 0.15485 | train_mae: 0.27837 |  0:00:12s\n"
     ]
    },
    {
     "name": "stdout",
     "output_type": "stream",
     "text": [
      "epoch 22 | loss: 0.22162 | train_mse: 0.14802 | train_mae: 0.27083 |  0:00:12s\n"
     ]
    },
    {
     "name": "stdout",
     "output_type": "stream",
     "text": [
      "epoch 23 | loss: 0.22169 | train_mse: 0.14627 | train_mae: 0.28066 |  0:00:13s\n"
     ]
    },
    {
     "name": "stdout",
     "output_type": "stream",
     "text": [
      "epoch 24 | loss: 0.24141 | train_mse: 0.16682 | train_mae: 0.29546 |  0:00:13s\n"
     ]
    },
    {
     "name": "stdout",
     "output_type": "stream",
     "text": [
      "epoch 25 | loss: 0.23375 | train_mse: 0.1458  | train_mae: 0.26368 |  0:00:13s\n"
     ]
    },
    {
     "name": "stdout",
     "output_type": "stream",
     "text": [
      "epoch 26 | loss: 0.27437 | train_mse: 0.15601 | train_mae: 0.29141 |  0:00:14s\n"
     ]
    },
    {
     "name": "stdout",
     "output_type": "stream",
     "text": [
      "epoch 27 | loss: 0.21673 | train_mse: 0.13615 | train_mae: 0.26319 |  0:00:14s\n"
     ]
    },
    {
     "name": "stdout",
     "output_type": "stream",
     "text": [
      "epoch 28 | loss: 0.276   | train_mse: 0.1459  | train_mae: 0.27823 |  0:00:15s\n"
     ]
    },
    {
     "name": "stdout",
     "output_type": "stream",
     "text": [
      "epoch 29 | loss: 0.22986 | train_mse: 0.12855 | train_mae: 0.2606  |  0:00:15s\n"
     ]
    },
    {
     "name": "stdout",
     "output_type": "stream",
     "text": [
      "epoch 30 | loss: 0.2187  | train_mse: 0.13008 | train_mae: 0.26405 |  0:00:16s\n"
     ]
    },
    {
     "name": "stdout",
     "output_type": "stream",
     "text": [
      "epoch 31 | loss: 0.21967 | train_mse: 0.15033 | train_mae: 0.28744 |  0:00:17s\n"
     ]
    },
    {
     "name": "stdout",
     "output_type": "stream",
     "text": [
      "epoch 32 | loss: 0.1742  | train_mse: 0.13087 | train_mae: 0.25815 |  0:00:17s\n"
     ]
    },
    {
     "name": "stdout",
     "output_type": "stream",
     "text": [
      "epoch 33 | loss: 0.22493 | train_mse: 0.1417  | train_mae: 0.26867 |  0:00:18s\n"
     ]
    },
    {
     "name": "stdout",
     "output_type": "stream",
     "text": [
      "epoch 34 | loss: 0.19278 | train_mse: 0.1195  | train_mae: 0.24833 |  0:00:18s\n"
     ]
    },
    {
     "name": "stdout",
     "output_type": "stream",
     "text": [
      "epoch 35 | loss: 0.20362 | train_mse: 0.13646 | train_mae: 0.26306 |  0:00:19s\n"
     ]
    },
    {
     "name": "stdout",
     "output_type": "stream",
     "text": [
      "epoch 36 | loss: 0.21263 | train_mse: 0.13485 | train_mae: 0.26663 |  0:00:20s\n"
     ]
    },
    {
     "name": "stdout",
     "output_type": "stream",
     "text": [
      "epoch 37 | loss: 0.17294 | train_mse: 0.14896 | train_mae: 0.26017 |  0:00:20s\n"
     ]
    },
    {
     "name": "stdout",
     "output_type": "stream",
     "text": [
      "epoch 38 | loss: 0.19643 | train_mse: 0.12718 | train_mae: 0.25845 |  0:00:21s\n"
     ]
    },
    {
     "name": "stdout",
     "output_type": "stream",
     "text": [
      "epoch 39 | loss: 0.19457 | train_mse: 0.13459 | train_mae: 0.26807 |  0:00:21s\n"
     ]
    },
    {
     "name": "stdout",
     "output_type": "stream",
     "text": [
      "epoch 40 | loss: 0.20538 | train_mse: 0.11813 | train_mae: 0.2407  |  0:00:22s\n"
     ]
    },
    {
     "name": "stdout",
     "output_type": "stream",
     "text": [
      "epoch 41 | loss: 0.22312 | train_mse: 0.13753 | train_mae: 0.25151 |  0:00:23s\n"
     ]
    },
    {
     "name": "stdout",
     "output_type": "stream",
     "text": [
      "epoch 42 | loss: 0.1948  | train_mse: 0.12793 | train_mae: 0.25241 |  0:00:23s\n"
     ]
    },
    {
     "name": "stdout",
     "output_type": "stream",
     "text": [
      "epoch 43 | loss: 0.17726 | train_mse: 0.12696 | train_mae: 0.26104 |  0:00:24s\n"
     ]
    },
    {
     "name": "stdout",
     "output_type": "stream",
     "text": [
      "epoch 44 | loss: 0.20498 | train_mse: 0.12445 | train_mae: 0.25599 |  0:00:24s\n"
     ]
    },
    {
     "name": "stdout",
     "output_type": "stream",
     "text": [
      "epoch 45 | loss: 0.17853 | train_mse: 0.10994 | train_mae: 0.24017 |  0:00:25s\n"
     ]
    },
    {
     "name": "stdout",
     "output_type": "stream",
     "text": [
      "epoch 46 | loss: 0.16583 | train_mse: 0.11291 | train_mae: 0.23999 |  0:00:26s\n"
     ]
    },
    {
     "name": "stdout",
     "output_type": "stream",
     "text": [
      "epoch 47 | loss: 0.18709 | train_mse: 0.12499 | train_mae: 0.25668 |  0:00:27s\n"
     ]
    },
    {
     "name": "stdout",
     "output_type": "stream",
     "text": [
      "epoch 48 | loss: 0.20382 | train_mse: 0.1171  | train_mae: 0.246   |  0:00:27s\n"
     ]
    },
    {
     "name": "stdout",
     "output_type": "stream",
     "text": [
      "epoch 49 | loss: 0.1641  | train_mse: 0.11382 | train_mae: 0.24521 |  0:00:28s\n"
     ]
    },
    {
     "name": "stdout",
     "output_type": "stream",
     "text": [
      "epoch 50 | loss: 0.17576 | train_mse: 0.1172  | train_mae: 0.24774 |  0:00:28s\n"
     ]
    },
    {
     "name": "stdout",
     "output_type": "stream",
     "text": [
      "epoch 51 | loss: 0.22582 | train_mse: 0.11009 | train_mae: 0.23834 |  0:00:28s\n"
     ]
    },
    {
     "name": "stdout",
     "output_type": "stream",
     "text": [
      "epoch 52 | loss: 0.13074 | train_mse: 0.10711 | train_mae: 0.23668 |  0:00:29s\n"
     ]
    },
    {
     "name": "stdout",
     "output_type": "stream",
     "text": [
      "epoch 53 | loss: 0.15736 | train_mse: 0.11108 | train_mae: 0.23942 |  0:00:29s\n"
     ]
    },
    {
     "name": "stdout",
     "output_type": "stream",
     "text": [
      "epoch 54 | loss: 0.18964 | train_mse: 0.10162 | train_mae: 0.22914 |  0:00:29s\n"
     ]
    },
    {
     "name": "stdout",
     "output_type": "stream",
     "text": [
      "epoch 55 | loss: 0.1704  | train_mse: 0.10163 | train_mae: 0.22756 |  0:00:30s\n"
     ]
    },
    {
     "name": "stdout",
     "output_type": "stream",
     "text": [
      "epoch 56 | loss: 0.19248 | train_mse: 0.10638 | train_mae: 0.23527 |  0:00:30s\n"
     ]
    },
    {
     "name": "stdout",
     "output_type": "stream",
     "text": [
      "epoch 57 | loss: 0.19008 | train_mse: 0.11796 | train_mae: 0.25145 |  0:00:30s\n"
     ]
    },
    {
     "name": "stdout",
     "output_type": "stream",
     "text": [
      "epoch 58 | loss: 0.16624 | train_mse: 0.10785 | train_mae: 0.23358 |  0:00:30s\n"
     ]
    },
    {
     "name": "stdout",
     "output_type": "stream",
     "text": [
      "epoch 59 | loss: 0.14532 | train_mse: 0.10149 | train_mae: 0.23287 |  0:00:31s\n"
     ]
    },
    {
     "name": "stdout",
     "output_type": "stream",
     "text": [
      "epoch 60 | loss: 0.16666 | train_mse: 0.09847 | train_mae: 0.23094 |  0:00:31s\n"
     ]
    },
    {
     "name": "stdout",
     "output_type": "stream",
     "text": [
      "epoch 61 | loss: 0.17811 | train_mse: 0.11459 | train_mae: 0.24841 |  0:00:32s\n"
     ]
    },
    {
     "name": "stdout",
     "output_type": "stream",
     "text": [
      "epoch 62 | loss: 0.19529 | train_mse: 0.11435 | train_mae: 0.23952 |  0:00:33s\n"
     ]
    },
    {
     "name": "stdout",
     "output_type": "stream",
     "text": [
      "epoch 63 | loss: 0.21889 | train_mse: 0.11809 | train_mae: 0.24778 |  0:00:33s\n"
     ]
    },
    {
     "name": "stdout",
     "output_type": "stream",
     "text": [
      "epoch 64 | loss: 0.1865  | train_mse: 0.10811 | train_mae: 0.23755 |  0:00:34s\n"
     ]
    },
    {
     "name": "stdout",
     "output_type": "stream",
     "text": [
      "epoch 65 | loss: 0.15466 | train_mse: 0.09105 | train_mae: 0.22164 |  0:00:34s\n"
     ]
    },
    {
     "name": "stdout",
     "output_type": "stream",
     "text": [
      "epoch 66 | loss: 0.1787  | train_mse: 0.09388 | train_mae: 0.22724 |  0:00:34s\n"
     ]
    },
    {
     "name": "stdout",
     "output_type": "stream",
     "text": [
      "epoch 67 | loss: 0.20085 | train_mse: 0.10957 | train_mae: 0.24594 |  0:00:35s\n"
     ]
    },
    {
     "name": "stdout",
     "output_type": "stream",
     "text": [
      "epoch 68 | loss: 0.16362 | train_mse: 0.08499 | train_mae: 0.21766 |  0:00:35s\n"
     ]
    },
    {
     "name": "stdout",
     "output_type": "stream",
     "text": [
      "epoch 69 | loss: 0.15351 | train_mse: 0.09298 | train_mae: 0.22879 |  0:00:36s\n"
     ]
    },
    {
     "name": "stdout",
     "output_type": "stream",
     "text": [
      "epoch 70 | loss: 0.16271 | train_mse: 0.11294 | train_mae: 0.24437 |  0:00:36s\n"
     ]
    },
    {
     "name": "stdout",
     "output_type": "stream",
     "text": [
      "epoch 71 | loss: 0.2245  | train_mse: 0.11969 | train_mae: 0.2471  |  0:00:36s\n"
     ]
    },
    {
     "name": "stdout",
     "output_type": "stream",
     "text": [
      "epoch 72 | loss: 0.19127 | train_mse: 0.08977 | train_mae: 0.22067 |  0:00:36s\n"
     ]
    },
    {
     "name": "stdout",
     "output_type": "stream",
     "text": [
      "epoch 73 | loss: 0.17907 | train_mse: 0.09341 | train_mae: 0.23155 |  0:00:37s\n"
     ]
    },
    {
     "name": "stdout",
     "output_type": "stream",
     "text": [
      "epoch 74 | loss: 0.20336 | train_mse: 0.08157 | train_mae: 0.2149  |  0:00:37s\n"
     ]
    },
    {
     "name": "stdout",
     "output_type": "stream",
     "text": [
      "epoch 75 | loss: 0.17699 | train_mse: 0.10532 | train_mae: 0.22937 |  0:00:37s\n"
     ]
    },
    {
     "name": "stdout",
     "output_type": "stream",
     "text": [
      "epoch 76 | loss: 0.20126 | train_mse: 0.08518 | train_mae: 0.21898 |  0:00:38s\n"
     ]
    },
    {
     "name": "stdout",
     "output_type": "stream",
     "text": [
      "epoch 77 | loss: 0.1461  | train_mse: 0.09146 | train_mae: 0.21675 |  0:00:38s\n"
     ]
    },
    {
     "name": "stdout",
     "output_type": "stream",
     "text": [
      "epoch 78 | loss: 0.17459 | train_mse: 0.10328 | train_mae: 0.23121 |  0:00:38s\n"
     ]
    },
    {
     "name": "stdout",
     "output_type": "stream",
     "text": [
      "epoch 79 | loss: 0.14542 | train_mse: 0.10229 | train_mae: 0.21661 |  0:00:38s\n"
     ]
    },
    {
     "name": "stdout",
     "output_type": "stream",
     "text": [
      "epoch 80 | loss: 0.15978 | train_mse: 0.09734 | train_mae: 0.22316 |  0:00:39s\n"
     ]
    },
    {
     "name": "stdout",
     "output_type": "stream",
     "text": [
      "epoch 81 | loss: 0.18947 | train_mse: 0.09761 | train_mae: 0.21948 |  0:00:39s\n"
     ]
    },
    {
     "name": "stdout",
     "output_type": "stream",
     "text": [
      "epoch 82 | loss: 0.19237 | train_mse: 0.10544 | train_mae: 0.2301  |  0:00:39s\n"
     ]
    },
    {
     "name": "stdout",
     "output_type": "stream",
     "text": [
      "epoch 83 | loss: 0.17163 | train_mse: 0.09248 | train_mae: 0.2116  |  0:00:40s\n"
     ]
    },
    {
     "name": "stdout",
     "output_type": "stream",
     "text": [
      "epoch 84 | loss: 0.14356 | train_mse: 0.11009 | train_mae: 0.23627 |  0:00:40s\n"
     ]
    },
    {
     "name": "stdout",
     "output_type": "stream",
     "text": [
      "epoch 85 | loss: 0.20186 | train_mse: 0.08725 | train_mae: 0.20643 |  0:00:40s\n"
     ]
    },
    {
     "name": "stdout",
     "output_type": "stream",
     "text": [
      "epoch 86 | loss: 0.16625 | train_mse: 0.1022  | train_mae: 0.22683 |  0:00:41s\n"
     ]
    },
    {
     "name": "stdout",
     "output_type": "stream",
     "text": [
      "epoch 87 | loss: 0.12316 | train_mse: 0.10404 | train_mae: 0.21544 |  0:00:41s\n"
     ]
    },
    {
     "name": "stdout",
     "output_type": "stream",
     "text": [
      "epoch 88 | loss: 0.16549 | train_mse: 0.1024  | train_mae: 0.22677 |  0:00:41s\n"
     ]
    },
    {
     "name": "stdout",
     "output_type": "stream",
     "text": [
      "epoch 89 | loss: 0.14903 | train_mse: 0.08644 | train_mae: 0.20754 |  0:00:41s\n"
     ]
    },
    {
     "name": "stdout",
     "output_type": "stream",
     "text": [
      "epoch 90 | loss: 0.13864 | train_mse: 0.09011 | train_mae: 0.21279 |  0:00:42s\n"
     ]
    },
    {
     "name": "stdout",
     "output_type": "stream",
     "text": [
      "epoch 91 | loss: 0.15875 | train_mse: 0.08419 | train_mae: 0.20227 |  0:00:42s\n"
     ]
    },
    {
     "name": "stdout",
     "output_type": "stream",
     "text": [
      "epoch 92 | loss: 0.14664 | train_mse: 0.09801 | train_mae: 0.22395 |  0:00:42s\n"
     ]
    },
    {
     "name": "stdout",
     "output_type": "stream",
     "text": [
      "epoch 93 | loss: 0.19721 | train_mse: 0.0978  | train_mae: 0.21835 |  0:00:43s\n"
     ]
    },
    {
     "name": "stdout",
     "output_type": "stream",
     "text": [
      "epoch 94 | loss: 0.14901 | train_mse: 0.11468 | train_mae: 0.23912 |  0:00:43s\n"
     ]
    },
    {
     "name": "stdout",
     "output_type": "stream",
     "text": [
      "epoch 95 | loss: 0.17232 | train_mse: 0.09482 | train_mae: 0.22101 |  0:00:43s\n"
     ]
    },
    {
     "name": "stdout",
     "output_type": "stream",
     "text": [
      "epoch 96 | loss: 0.15957 | train_mse: 0.1048  | train_mae: 0.22293 |  0:00:44s\n"
     ]
    },
    {
     "name": "stdout",
     "output_type": "stream",
     "text": [
      "epoch 97 | loss: 0.17361 | train_mse: 0.09848 | train_mae: 0.22084 |  0:00:44s\n"
     ]
    },
    {
     "name": "stdout",
     "output_type": "stream",
     "text": [
      "epoch 98 | loss: 0.14687 | train_mse: 0.08854 | train_mae: 0.20833 |  0:00:44s\n"
     ]
    },
    {
     "name": "stdout",
     "output_type": "stream",
     "text": [
      "epoch 99 | loss: 0.16664 | train_mse: 0.12333 | train_mae: 0.24798 |  0:00:45s\n"
     ]
    },
    {
     "name": "stdout",
     "output_type": "stream",
     "text": [
      "epoch 100| loss: 0.18619 | train_mse: 0.08664 | train_mae: 0.20741 |  0:00:45s\n"
     ]
    },
    {
     "name": "stdout",
     "output_type": "stream",
     "text": [
      "epoch 101| loss: 0.16583 | train_mse: 0.0909  | train_mae: 0.20977 |  0:00:45s\n"
     ]
    },
    {
     "name": "stdout",
     "output_type": "stream",
     "text": [
      "epoch 102| loss: 0.20125 | train_mse: 0.10749 | train_mae: 0.23831 |  0:00:46s\n"
     ]
    },
    {
     "name": "stdout",
     "output_type": "stream",
     "text": [
      "epoch 103| loss: 0.19767 | train_mse: 0.1394  | train_mae: 0.25338 |  0:00:46s\n"
     ]
    },
    {
     "name": "stdout",
     "output_type": "stream",
     "text": [
      "epoch 104| loss: 0.1658  | train_mse: 0.10117 | train_mae: 0.22965 |  0:00:47s\n"
     ]
    },
    {
     "name": "stdout",
     "output_type": "stream",
     "text": [
      "epoch 105| loss: 0.13977 | train_mse: 0.10137 | train_mae: 0.22409 |  0:00:47s\n"
     ]
    },
    {
     "name": "stdout",
     "output_type": "stream",
     "text": [
      "epoch 106| loss: 0.22122 | train_mse: 0.10902 | train_mae: 0.23943 |  0:00:47s\n"
     ]
    },
    {
     "name": "stdout",
     "output_type": "stream",
     "text": [
      "epoch 107| loss: 0.17942 | train_mse: 0.11881 | train_mae: 0.23697 |  0:00:48s\n"
     ]
    },
    {
     "name": "stdout",
     "output_type": "stream",
     "text": [
      "epoch 108| loss: 0.18324 | train_mse: 0.13097 | train_mae: 0.25576 |  0:00:48s\n"
     ]
    },
    {
     "name": "stdout",
     "output_type": "stream",
     "text": [
      "epoch 109| loss: 0.14065 | train_mse: 0.09171 | train_mae: 0.20705 |  0:00:48s\n"
     ]
    },
    {
     "name": "stdout",
     "output_type": "stream",
     "text": [
      "epoch 110| loss: 0.17594 | train_mse: 0.09873 | train_mae: 0.22491 |  0:00:49s\n"
     ]
    },
    {
     "name": "stdout",
     "output_type": "stream",
     "text": [
      "epoch 111| loss: 0.12272 | train_mse: 0.10369 | train_mae: 0.22676 |  0:00:49s\n"
     ]
    },
    {
     "name": "stdout",
     "output_type": "stream",
     "text": [
      "epoch 112| loss: 0.14149 | train_mse: 0.09321 | train_mae: 0.21532 |  0:00:50s\n"
     ]
    },
    {
     "name": "stdout",
     "output_type": "stream",
     "text": [
      "epoch 113| loss: 0.12826 | train_mse: 0.0982  | train_mae: 0.22034 |  0:00:50s\n"
     ]
    },
    {
     "name": "stdout",
     "output_type": "stream",
     "text": [
      "epoch 114| loss: 0.12716 | train_mse: 0.09541 | train_mae: 0.21278 |  0:00:50s\n"
     ]
    },
    {
     "name": "stdout",
     "output_type": "stream",
     "text": [
      "epoch 115| loss: 0.17397 | train_mse: 0.09432 | train_mae: 0.21689 |  0:00:51s\n"
     ]
    },
    {
     "name": "stdout",
     "output_type": "stream",
     "text": [
      "epoch 116| loss: 0.15598 | train_mse: 0.09197 | train_mae: 0.21681 |  0:00:51s\n"
     ]
    },
    {
     "name": "stdout",
     "output_type": "stream",
     "text": [
      "epoch 117| loss: 0.18051 | train_mse: 0.10477 | train_mae: 0.23014 |  0:00:51s\n"
     ]
    },
    {
     "name": "stdout",
     "output_type": "stream",
     "text": [
      "epoch 118| loss: 0.13598 | train_mse: 0.10036 | train_mae: 0.22111 |  0:00:52s\n"
     ]
    },
    {
     "name": "stdout",
     "output_type": "stream",
     "text": [
      "epoch 119| loss: 0.18505 | train_mse: 0.14038 | train_mae: 0.26055 |  0:00:52s\n"
     ]
    },
    {
     "name": "stdout",
     "output_type": "stream",
     "text": [
      "epoch 120| loss: 0.1696  | train_mse: 0.10056 | train_mae: 0.22579 |  0:00:52s\n"
     ]
    },
    {
     "name": "stdout",
     "output_type": "stream",
     "text": [
      "epoch 121| loss: 0.15378 | train_mse: 0.10157 | train_mae: 0.22921 |  0:00:52s\n"
     ]
    },
    {
     "name": "stdout",
     "output_type": "stream",
     "text": [
      "epoch 122| loss: 0.17147 | train_mse: 0.091   | train_mae: 0.21212 |  0:00:53s\n"
     ]
    },
    {
     "name": "stdout",
     "output_type": "stream",
     "text": [
      "epoch 123| loss: 0.13381 | train_mse: 0.08945 | train_mae: 0.20425 |  0:00:53s\n"
     ]
    },
    {
     "name": "stdout",
     "output_type": "stream",
     "text": [
      "epoch 124| loss: 0.1374  | train_mse: 0.09349 | train_mae: 0.2183  |  0:00:53s\n"
     ]
    },
    {
     "name": "stdout",
     "output_type": "stream",
     "text": [
      "epoch 125| loss: 0.16097 | train_mse: 0.09258 | train_mae: 0.21401 |  0:00:54s\n"
     ]
    },
    {
     "name": "stdout",
     "output_type": "stream",
     "text": [
      "epoch 126| loss: 0.185   | train_mse: 0.09997 | train_mae: 0.21397 |  0:00:54s\n"
     ]
    },
    {
     "name": "stdout",
     "output_type": "stream",
     "text": [
      "epoch 127| loss: 0.13354 | train_mse: 0.09867 | train_mae: 0.21776 |  0:00:55s\n"
     ]
    },
    {
     "name": "stdout",
     "output_type": "stream",
     "text": [
      "epoch 128| loss: 0.14069 | train_mse: 0.08614 | train_mae: 0.20414 |  0:00:55s\n"
     ]
    },
    {
     "name": "stdout",
     "output_type": "stream",
     "text": [
      "epoch 129| loss: 0.1589  | train_mse: 0.10122 | train_mae: 0.22246 |  0:00:56s\n"
     ]
    },
    {
     "name": "stdout",
     "output_type": "stream",
     "text": [
      "epoch 130| loss: 0.19991 | train_mse: 0.09286 | train_mae: 0.21852 |  0:00:56s\n"
     ]
    },
    {
     "name": "stdout",
     "output_type": "stream",
     "text": [
      "epoch 131| loss: 0.17193 | train_mse: 0.09409 | train_mae: 0.20614 |  0:00:57s\n"
     ]
    },
    {
     "name": "stdout",
     "output_type": "stream",
     "text": [
      "epoch 132| loss: 0.14709 | train_mse: 0.08614 | train_mae: 0.20684 |  0:00:57s\n"
     ]
    },
    {
     "name": "stdout",
     "output_type": "stream",
     "text": [
      "epoch 133| loss: 0.12826 | train_mse: 0.08588 | train_mae: 0.20596 |  0:00:57s\n"
     ]
    },
    {
     "name": "stdout",
     "output_type": "stream",
     "text": [
      "epoch 134| loss: 0.15472 | train_mse: 0.08483 | train_mae: 0.20139 |  0:00:58s\n"
     ]
    },
    {
     "name": "stdout",
     "output_type": "stream",
     "text": [
      "epoch 135| loss: 0.17012 | train_mse: 0.09539 | train_mae: 0.2071  |  0:00:58s\n"
     ]
    },
    {
     "name": "stdout",
     "output_type": "stream",
     "text": [
      "epoch 136| loss: 0.17221 | train_mse: 0.0988  | train_mae: 0.21109 |  0:00:59s\n"
     ]
    },
    {
     "name": "stdout",
     "output_type": "stream",
     "text": [
      "epoch 137| loss: 0.17957 | train_mse: 0.11577 | train_mae: 0.22916 |  0:00:59s\n"
     ]
    },
    {
     "name": "stdout",
     "output_type": "stream",
     "text": [
      "epoch 138| loss: 0.16198 | train_mse: 0.1217  | train_mae: 0.23409 |  0:00:59s\n"
     ]
    },
    {
     "name": "stdout",
     "output_type": "stream",
     "text": [
      "epoch 139| loss: 0.16413 | train_mse: 0.1266  | train_mae: 0.23476 |  0:01:00s\n"
     ]
    },
    {
     "name": "stdout",
     "output_type": "stream",
     "text": [
      "epoch 140| loss: 0.16715 | train_mse: 0.12568 | train_mae: 0.23259 |  0:01:00s\n"
     ]
    },
    {
     "name": "stdout",
     "output_type": "stream",
     "text": [
      "epoch 141| loss: 0.15763 | train_mse: 0.11209 | train_mae: 0.21464 |  0:01:00s\n"
     ]
    },
    {
     "name": "stdout",
     "output_type": "stream",
     "text": [
      "epoch 142| loss: 0.20939 | train_mse: 0.11375 | train_mae: 0.23606 |  0:01:01s\n"
     ]
    },
    {
     "name": "stdout",
     "output_type": "stream",
     "text": [
      "epoch 143| loss: 0.18293 | train_mse: 0.08526 | train_mae: 0.21168 |  0:01:02s\n"
     ]
    },
    {
     "name": "stdout",
     "output_type": "stream",
     "text": [
      "epoch 144| loss: 0.14528 | train_mse: 0.08477 | train_mae: 0.20024 |  0:01:02s\n"
     ]
    },
    {
     "name": "stdout",
     "output_type": "stream",
     "text": [
      "epoch 145| loss: 0.12808 | train_mse: 0.10162 | train_mae: 0.21839 |  0:01:03s\n"
     ]
    },
    {
     "name": "stdout",
     "output_type": "stream",
     "text": [
      "epoch 146| loss: 0.1549  | train_mse: 0.09787 | train_mae: 0.21405 |  0:01:04s\n"
     ]
    },
    {
     "name": "stdout",
     "output_type": "stream",
     "text": [
      "epoch 147| loss: 0.11655 | train_mse: 0.09867 | train_mae: 0.21293 |  0:01:04s\n"
     ]
    },
    {
     "name": "stdout",
     "output_type": "stream",
     "text": [
      "epoch 148| loss: 0.13363 | train_mse: 0.10295 | train_mae: 0.22599 |  0:01:05s\n"
     ]
    },
    {
     "name": "stdout",
     "output_type": "stream",
     "text": [
      "epoch 149| loss: 0.13035 | train_mse: 0.08138 | train_mae: 0.20359 |  0:01:05s\n"
     ]
    },
    {
     "name": "stdout",
     "output_type": "stream",
     "text": [
      "epoch 150| loss: 0.13562 | train_mse: 0.07971 | train_mae: 0.20803 |  0:01:06s\n"
     ]
    },
    {
     "name": "stdout",
     "output_type": "stream",
     "text": [
      "epoch 151| loss: 0.18601 | train_mse: 0.08583 | train_mae: 0.21227 |  0:01:06s\n"
     ]
    },
    {
     "name": "stdout",
     "output_type": "stream",
     "text": [
      "epoch 152| loss: 0.122   | train_mse: 0.0778  | train_mae: 0.20142 |  0:01:07s\n"
     ]
    },
    {
     "name": "stdout",
     "output_type": "stream",
     "text": [
      "epoch 153| loss: 0.12763 | train_mse: 0.08309 | train_mae: 0.21628 |  0:01:07s\n"
     ]
    },
    {
     "name": "stdout",
     "output_type": "stream",
     "text": [
      "epoch 154| loss: 0.1583  | train_mse: 0.08588 | train_mae: 0.21705 |  0:01:08s\n"
     ]
    },
    {
     "name": "stdout",
     "output_type": "stream",
     "text": [
      "epoch 155| loss: 0.14916 | train_mse: 0.09131 | train_mae: 0.2186  |  0:01:08s\n"
     ]
    },
    {
     "name": "stdout",
     "output_type": "stream",
     "text": [
      "epoch 156| loss: 0.16972 | train_mse: 0.09959 | train_mae: 0.22942 |  0:01:08s\n"
     ]
    },
    {
     "name": "stdout",
     "output_type": "stream",
     "text": [
      "epoch 157| loss: 0.13272 | train_mse: 0.0972  | train_mae: 0.22092 |  0:01:09s\n"
     ]
    },
    {
     "name": "stdout",
     "output_type": "stream",
     "text": [
      "epoch 158| loss: 0.17275 | train_mse: 0.10377 | train_mae: 0.22935 |  0:01:09s\n"
     ]
    },
    {
     "name": "stdout",
     "output_type": "stream",
     "text": [
      "epoch 159| loss: 0.13302 | train_mse: 0.08402 | train_mae: 0.20214 |  0:01:10s\n"
     ]
    },
    {
     "name": "stdout",
     "output_type": "stream",
     "text": [
      "epoch 160| loss: 0.13272 | train_mse: 0.09472 | train_mae: 0.22549 |  0:01:10s\n"
     ]
    },
    {
     "name": "stdout",
     "output_type": "stream",
     "text": [
      "epoch 161| loss: 0.1124  | train_mse: 0.07903 | train_mae: 0.1972  |  0:01:11s\n"
     ]
    },
    {
     "name": "stdout",
     "output_type": "stream",
     "text": [
      "epoch 162| loss: 0.12452 | train_mse: 0.07516 | train_mae: 0.20262 |  0:01:12s\n"
     ]
    },
    {
     "name": "stdout",
     "output_type": "stream",
     "text": [
      "epoch 163| loss: 0.1866  | train_mse: 0.08014 | train_mae: 0.21213 |  0:01:12s\n"
     ]
    },
    {
     "name": "stdout",
     "output_type": "stream",
     "text": [
      "epoch 164| loss: 0.12662 | train_mse: 0.07816 | train_mae: 0.19441 |  0:01:13s\n"
     ]
    },
    {
     "name": "stdout",
     "output_type": "stream",
     "text": [
      "epoch 165| loss: 0.12755 | train_mse: 0.07481 | train_mae: 0.1946  |  0:01:14s\n"
     ]
    },
    {
     "name": "stdout",
     "output_type": "stream",
     "text": [
      "epoch 166| loss: 0.10623 | train_mse: 0.07211 | train_mae: 0.19691 |  0:01:14s\n"
     ]
    },
    {
     "name": "stdout",
     "output_type": "stream",
     "text": [
      "epoch 167| loss: 0.11854 | train_mse: 0.08714 | train_mae: 0.20511 |  0:01:15s\n"
     ]
    },
    {
     "name": "stdout",
     "output_type": "stream",
     "text": [
      "epoch 168| loss: 0.09246 | train_mse: 0.08416 | train_mae: 0.2091  |  0:01:15s\n"
     ]
    },
    {
     "name": "stdout",
     "output_type": "stream",
     "text": [
      "epoch 169| loss: 0.11853 | train_mse: 0.07422 | train_mae: 0.1921  |  0:01:16s\n"
     ]
    },
    {
     "name": "stdout",
     "output_type": "stream",
     "text": [
      "epoch 170| loss: 0.11786 | train_mse: 0.07815 | train_mae: 0.19815 |  0:01:17s\n"
     ]
    },
    {
     "name": "stdout",
     "output_type": "stream",
     "text": [
      "epoch 171| loss: 0.13236 | train_mse: 0.069   | train_mae: 0.18879 |  0:01:17s\n"
     ]
    },
    {
     "name": "stdout",
     "output_type": "stream",
     "text": [
      "epoch 172| loss: 0.12865 | train_mse: 0.06696 | train_mae: 0.18782 |  0:01:18s\n"
     ]
    },
    {
     "name": "stdout",
     "output_type": "stream",
     "text": [
      "epoch 173| loss: 0.11292 | train_mse: 0.06364 | train_mae: 0.1866  |  0:01:19s\n"
     ]
    },
    {
     "name": "stdout",
     "output_type": "stream",
     "text": [
      "epoch 174| loss: 0.09484 | train_mse: 0.06512 | train_mae: 0.18362 |  0:01:19s\n"
     ]
    },
    {
     "name": "stdout",
     "output_type": "stream",
     "text": [
      "epoch 175| loss: 0.09744 | train_mse: 0.08483 | train_mae: 0.2139  |  0:01:20s\n"
     ]
    },
    {
     "name": "stdout",
     "output_type": "stream",
     "text": [
      "epoch 176| loss: 0.14562 | train_mse: 0.07662 | train_mae: 0.19529 |  0:01:20s\n"
     ]
    },
    {
     "name": "stdout",
     "output_type": "stream",
     "text": [
      "epoch 177| loss: 0.12063 | train_mse: 0.09916 | train_mae: 0.20331 |  0:01:21s\n"
     ]
    },
    {
     "name": "stdout",
     "output_type": "stream",
     "text": [
      "epoch 178| loss: 0.10933 | train_mse: 0.08667 | train_mae: 0.18679 |  0:01:21s\n"
     ]
    },
    {
     "name": "stdout",
     "output_type": "stream",
     "text": [
      "epoch 179| loss: 0.13589 | train_mse: 0.09654 | train_mae: 0.20436 |  0:01:22s\n"
     ]
    },
    {
     "name": "stdout",
     "output_type": "stream",
     "text": [
      "epoch 180| loss: 0.14546 | train_mse: 0.10718 | train_mae: 0.21359 |  0:01:22s\n"
     ]
    },
    {
     "name": "stdout",
     "output_type": "stream",
     "text": [
      "epoch 181| loss: 0.14156 | train_mse: 0.09791 | train_mae: 0.20228 |  0:01:23s\n"
     ]
    },
    {
     "name": "stdout",
     "output_type": "stream",
     "text": [
      "epoch 182| loss: 0.14074 | train_mse: 0.10382 | train_mae: 0.22384 |  0:01:23s\n"
     ]
    },
    {
     "name": "stdout",
     "output_type": "stream",
     "text": [
      "epoch 183| loss: 0.13399 | train_mse: 0.07582 | train_mae: 0.19178 |  0:01:24s\n"
     ]
    },
    {
     "name": "stdout",
     "output_type": "stream",
     "text": [
      "epoch 184| loss: 0.14968 | train_mse: 0.10001 | train_mae: 0.22103 |  0:01:24s\n"
     ]
    },
    {
     "name": "stdout",
     "output_type": "stream",
     "text": [
      "epoch 185| loss: 0.12477 | train_mse: 0.07981 | train_mae: 0.19903 |  0:01:25s\n"
     ]
    },
    {
     "name": "stdout",
     "output_type": "stream",
     "text": [
      "epoch 186| loss: 0.1539  | train_mse: 0.08663 | train_mae: 0.2016  |  0:01:25s\n"
     ]
    },
    {
     "name": "stdout",
     "output_type": "stream",
     "text": [
      "epoch 187| loss: 0.12613 | train_mse: 0.10216 | train_mae: 0.22239 |  0:01:25s\n"
     ]
    },
    {
     "name": "stdout",
     "output_type": "stream",
     "text": [
      "epoch 188| loss: 0.17075 | train_mse: 0.10903 | train_mae: 0.23772 |  0:01:26s\n"
     ]
    },
    {
     "name": "stdout",
     "output_type": "stream",
     "text": [
      "epoch 189| loss: 0.11217 | train_mse: 0.08455 | train_mae: 0.19414 |  0:01:26s\n"
     ]
    },
    {
     "name": "stdout",
     "output_type": "stream",
     "text": [
      "epoch 190| loss: 0.12339 | train_mse: 0.08628 | train_mae: 0.19997 |  0:01:27s\n"
     ]
    },
    {
     "name": "stdout",
     "output_type": "stream",
     "text": [
      "epoch 191| loss: 0.10542 | train_mse: 0.07846 | train_mae: 0.19785 |  0:01:27s\n"
     ]
    },
    {
     "name": "stdout",
     "output_type": "stream",
     "text": [
      "epoch 192| loss: 0.16458 | train_mse: 0.08982 | train_mae: 0.20385 |  0:01:27s\n"
     ]
    },
    {
     "name": "stdout",
     "output_type": "stream",
     "text": [
      "epoch 193| loss: 0.10521 | train_mse: 0.09971 | train_mae: 0.19382 |  0:01:28s\n"
     ]
    },
    {
     "name": "stdout",
     "output_type": "stream",
     "text": [
      "epoch 194| loss: 0.08471 | train_mse: 0.11135 | train_mae: 0.21722 |  0:01:28s\n"
     ]
    },
    {
     "name": "stdout",
     "output_type": "stream",
     "text": [
      "epoch 195| loss: 0.12535 | train_mse: 0.09255 | train_mae: 0.20381 |  0:01:29s\n"
     ]
    },
    {
     "name": "stdout",
     "output_type": "stream",
     "text": [
      "epoch 196| loss: 0.1171  | train_mse: 0.07474 | train_mae: 0.19161 |  0:01:29s\n"
     ]
    },
    {
     "name": "stdout",
     "output_type": "stream",
     "text": [
      "epoch 197| loss: 0.16326 | train_mse: 0.08011 | train_mae: 0.20187 |  0:01:30s\n"
     ]
    },
    {
     "name": "stdout",
     "output_type": "stream",
     "text": [
      "epoch 198| loss: 0.11239 | train_mse: 0.0741  | train_mae: 0.19757 |  0:01:30s\n"
     ]
    },
    {
     "name": "stdout",
     "output_type": "stream",
     "text": [
      "epoch 199| loss: 0.14919 | train_mse: 0.08482 | train_mae: 0.20986 |  0:01:31s\n"
     ]
    },
    {
     "name": "stdout",
     "output_type": "stream",
     "text": [
      "epoch 200| loss: 0.10898 | train_mse: 0.07404 | train_mae: 0.18968 |  0:01:31s\n"
     ]
    },
    {
     "name": "stdout",
     "output_type": "stream",
     "text": [
      "epoch 201| loss: 0.10641 | train_mse: 0.07363 | train_mae: 0.19598 |  0:01:32s\n"
     ]
    },
    {
     "name": "stdout",
     "output_type": "stream",
     "text": [
      "epoch 202| loss: 0.12344 | train_mse: 0.09135 | train_mae: 0.22035 |  0:01:32s\n"
     ]
    },
    {
     "name": "stdout",
     "output_type": "stream",
     "text": [
      "epoch 203| loss: 0.13759 | train_mse: 0.07498 | train_mae: 0.19342 |  0:01:32s\n"
     ]
    },
    {
     "name": "stdout",
     "output_type": "stream",
     "text": [
      "epoch 204| loss: 0.10383 | train_mse: 0.07615 | train_mae: 0.19624 |  0:01:33s\n"
     ]
    },
    {
     "name": "stdout",
     "output_type": "stream",
     "text": [
      "epoch 205| loss: 0.13108 | train_mse: 0.08399 | train_mae: 0.2125  |  0:01:34s\n"
     ]
    },
    {
     "name": "stdout",
     "output_type": "stream",
     "text": [
      "epoch 206| loss: 0.11266 | train_mse: 0.0794  | train_mae: 0.1906  |  0:01:34s\n"
     ]
    },
    {
     "name": "stdout",
     "output_type": "stream",
     "text": [
      "epoch 207| loss: 0.12787 | train_mse: 0.08234 | train_mae: 0.196   |  0:01:34s\n"
     ]
    },
    {
     "name": "stdout",
     "output_type": "stream",
     "text": [
      "epoch 208| loss: 0.12839 | train_mse: 0.08907 | train_mae: 0.20583 |  0:01:35s\n"
     ]
    },
    {
     "name": "stdout",
     "output_type": "stream",
     "text": [
      "epoch 209| loss: 0.09422 | train_mse: 0.09163 | train_mae: 0.19485 |  0:01:35s\n"
     ]
    },
    {
     "name": "stdout",
     "output_type": "stream",
     "text": [
      "epoch 210| loss: 0.1544  | train_mse: 0.11564 | train_mae: 0.22665 |  0:01:35s\n"
     ]
    },
    {
     "name": "stdout",
     "output_type": "stream",
     "text": [
      "epoch 211| loss: 0.10518 | train_mse: 0.09154 | train_mae: 0.21964 |  0:01:36s\n"
     ]
    },
    {
     "name": "stdout",
     "output_type": "stream",
     "text": [
      "epoch 212| loss: 0.11905 | train_mse: 0.08087 | train_mae: 0.20125 |  0:01:36s\n"
     ]
    },
    {
     "name": "stdout",
     "output_type": "stream",
     "text": [
      "epoch 213| loss: 0.12032 | train_mse: 0.06912 | train_mae: 0.18959 |  0:01:36s\n"
     ]
    },
    {
     "name": "stdout",
     "output_type": "stream",
     "text": [
      "epoch 214| loss: 0.13942 | train_mse: 0.10582 | train_mae: 0.23235 |  0:01:37s\n"
     ]
    },
    {
     "name": "stdout",
     "output_type": "stream",
     "text": [
      "epoch 215| loss: 0.12524 | train_mse: 0.07005 | train_mae: 0.18588 |  0:01:37s\n"
     ]
    },
    {
     "name": "stdout",
     "output_type": "stream",
     "text": [
      "epoch 216| loss: 0.12792 | train_mse: 0.06508 | train_mae: 0.18156 |  0:01:37s\n"
     ]
    },
    {
     "name": "stdout",
     "output_type": "stream",
     "text": [
      "epoch 217| loss: 0.10459 | train_mse: 0.07084 | train_mae: 0.18833 |  0:01:38s\n"
     ]
    },
    {
     "name": "stdout",
     "output_type": "stream",
     "text": [
      "epoch 218| loss: 0.1286  | train_mse: 0.0671  | train_mae: 0.18392 |  0:01:38s\n"
     ]
    },
    {
     "name": "stdout",
     "output_type": "stream",
     "text": [
      "epoch 219| loss: 0.10614 | train_mse: 0.07207 | train_mae: 0.18637 |  0:01:38s\n"
     ]
    },
    {
     "name": "stdout",
     "output_type": "stream",
     "text": [
      "epoch 220| loss: 0.13019 | train_mse: 0.07736 | train_mae: 0.18613 |  0:01:38s\n"
     ]
    },
    {
     "name": "stdout",
     "output_type": "stream",
     "text": [
      "epoch 221| loss: 0.12176 | train_mse: 0.08222 | train_mae: 0.20835 |  0:01:39s\n"
     ]
    },
    {
     "name": "stdout",
     "output_type": "stream",
     "text": [
      "epoch 222| loss: 0.10922 | train_mse: 0.06891 | train_mae: 0.18763 |  0:01:39s\n"
     ]
    },
    {
     "name": "stdout",
     "output_type": "stream",
     "text": [
      "epoch 223| loss: 0.10943 | train_mse: 0.09536 | train_mae: 0.21757 |  0:01:39s\n"
     ]
    },
    {
     "name": "stdout",
     "output_type": "stream",
     "text": [
      "epoch 224| loss: 0.09714 | train_mse: 0.07056 | train_mae: 0.18584 |  0:01:40s\n"
     ]
    },
    {
     "name": "stdout",
     "output_type": "stream",
     "text": [
      "epoch 225| loss: 0.11512 | train_mse: 0.08973 | train_mae: 0.21121 |  0:01:40s\n"
     ]
    },
    {
     "name": "stdout",
     "output_type": "stream",
     "text": [
      "epoch 226| loss: 0.1399  | train_mse: 0.07248 | train_mae: 0.1892  |  0:01:40s\n"
     ]
    },
    {
     "name": "stdout",
     "output_type": "stream",
     "text": [
      "epoch 227| loss: 0.10181 | train_mse: 0.06736 | train_mae: 0.18721 |  0:01:41s\n"
     ]
    },
    {
     "name": "stdout",
     "output_type": "stream",
     "text": [
      "epoch 228| loss: 0.13444 | train_mse: 0.06757 | train_mae: 0.18284 |  0:01:41s\n"
     ]
    },
    {
     "name": "stdout",
     "output_type": "stream",
     "text": [
      "epoch 229| loss: 0.07685 | train_mse: 0.06368 | train_mae: 0.17857 |  0:01:42s\n"
     ]
    },
    {
     "name": "stdout",
     "output_type": "stream",
     "text": [
      "epoch 230| loss: 0.08959 | train_mse: 0.05813 | train_mae: 0.16671 |  0:01:42s\n"
     ]
    },
    {
     "name": "stdout",
     "output_type": "stream",
     "text": [
      "epoch 231| loss: 0.11698 | train_mse: 0.07041 | train_mae: 0.18713 |  0:01:43s\n"
     ]
    },
    {
     "name": "stdout",
     "output_type": "stream",
     "text": [
      "epoch 232| loss: 0.13708 | train_mse: 0.06462 | train_mae: 0.17722 |  0:01:43s\n"
     ]
    },
    {
     "name": "stdout",
     "output_type": "stream",
     "text": [
      "epoch 233| loss: 0.12836 | train_mse: 0.07517 | train_mae: 0.19464 |  0:01:43s\n"
     ]
    },
    {
     "name": "stdout",
     "output_type": "stream",
     "text": [
      "epoch 234| loss: 0.10515 | train_mse: 0.07892 | train_mae: 0.18781 |  0:01:44s\n"
     ]
    },
    {
     "name": "stdout",
     "output_type": "stream",
     "text": [
      "epoch 235| loss: 0.11358 | train_mse: 0.09105 | train_mae: 0.21062 |  0:01:44s\n"
     ]
    },
    {
     "name": "stdout",
     "output_type": "stream",
     "text": [
      "epoch 236| loss: 0.12845 | train_mse: 0.08043 | train_mae: 0.1965  |  0:01:44s\n"
     ]
    },
    {
     "name": "stdout",
     "output_type": "stream",
     "text": [
      "epoch 237| loss: 0.11977 | train_mse: 0.09222 | train_mae: 0.20193 |  0:01:45s\n"
     ]
    },
    {
     "name": "stdout",
     "output_type": "stream",
     "text": [
      "epoch 238| loss: 0.09848 | train_mse: 0.07436 | train_mae: 0.17538 |  0:01:45s\n"
     ]
    },
    {
     "name": "stdout",
     "output_type": "stream",
     "text": [
      "epoch 239| loss: 0.1126  | train_mse: 0.0858  | train_mae: 0.19814 |  0:01:45s\n"
     ]
    },
    {
     "name": "stdout",
     "output_type": "stream",
     "text": [
      "epoch 240| loss: 0.10706 | train_mse: 0.11434 | train_mae: 0.20953 |  0:01:46s\n"
     ]
    },
    {
     "name": "stdout",
     "output_type": "stream",
     "text": [
      "epoch 241| loss: 0.10458 | train_mse: 0.11433 | train_mae: 0.20187 |  0:01:46s\n"
     ]
    },
    {
     "name": "stdout",
     "output_type": "stream",
     "text": [
      "epoch 242| loss: 0.14924 | train_mse: 0.10301 | train_mae: 0.20099 |  0:01:47s\n"
     ]
    },
    {
     "name": "stdout",
     "output_type": "stream",
     "text": [
      "epoch 243| loss: 0.14578 | train_mse: 0.0933  | train_mae: 0.18792 |  0:01:47s\n"
     ]
    },
    {
     "name": "stdout",
     "output_type": "stream",
     "text": [
      "epoch 244| loss: 0.12453 | train_mse: 0.0966  | train_mae: 0.19655 |  0:01:48s\n"
     ]
    },
    {
     "name": "stdout",
     "output_type": "stream",
     "text": [
      "epoch 245| loss: 0.11844 | train_mse: 0.09578 | train_mae: 0.17906 |  0:01:48s\n"
     ]
    },
    {
     "name": "stdout",
     "output_type": "stream",
     "text": [
      "epoch 246| loss: 0.1031  | train_mse: 0.07911 | train_mae: 0.18698 |  0:01:48s\n"
     ]
    },
    {
     "name": "stdout",
     "output_type": "stream",
     "text": [
      "epoch 247| loss: 0.09384 | train_mse: 0.07082 | train_mae: 0.17348 |  0:01:49s\n"
     ]
    },
    {
     "name": "stdout",
     "output_type": "stream",
     "text": [
      "epoch 248| loss: 0.08537 | train_mse: 0.08134 | train_mae: 0.19707 |  0:01:49s\n"
     ]
    },
    {
     "name": "stdout",
     "output_type": "stream",
     "text": [
      "epoch 249| loss: 0.1153  | train_mse: 0.06994 | train_mae: 0.17442 |  0:01:49s\n"
     ]
    },
    {
     "name": "stdout",
     "output_type": "stream",
     "text": [
      "epoch 250| loss: 0.10219 | train_mse: 0.06017 | train_mae: 0.16743 |  0:01:49s\n"
     ]
    },
    {
     "name": "stdout",
     "output_type": "stream",
     "text": [
      "epoch 251| loss: 0.12575 | train_mse: 0.06896 | train_mae: 0.18874 |  0:01:50s\n"
     ]
    },
    {
     "name": "stdout",
     "output_type": "stream",
     "text": [
      "epoch 252| loss: 0.10638 | train_mse: 0.05812 | train_mae: 0.17304 |  0:01:50s\n"
     ]
    },
    {
     "name": "stdout",
     "output_type": "stream",
     "text": [
      "epoch 253| loss: 0.12975 | train_mse: 0.06282 | train_mae: 0.18154 |  0:01:50s\n"
     ]
    },
    {
     "name": "stdout",
     "output_type": "stream",
     "text": [
      "epoch 254| loss: 0.10092 | train_mse: 0.06254 | train_mae: 0.18117 |  0:01:51s\n"
     ]
    },
    {
     "name": "stdout",
     "output_type": "stream",
     "text": [
      "epoch 255| loss: 0.11216 | train_mse: 0.05062 | train_mae: 0.16669 |  0:01:51s\n"
     ]
    },
    {
     "name": "stdout",
     "output_type": "stream",
     "text": [
      "epoch 256| loss: 0.10529 | train_mse: 0.07302 | train_mae: 0.19267 |  0:01:51s\n"
     ]
    },
    {
     "name": "stdout",
     "output_type": "stream",
     "text": [
      "epoch 257| loss: 0.10015 | train_mse: 0.08411 | train_mae: 0.17888 |  0:01:51s\n"
     ]
    },
    {
     "name": "stdout",
     "output_type": "stream",
     "text": [
      "epoch 258| loss: 0.11303 | train_mse: 0.09802 | train_mae: 0.20862 |  0:01:52s\n"
     ]
    },
    {
     "name": "stdout",
     "output_type": "stream",
     "text": [
      "epoch 259| loss: 0.10277 | train_mse: 0.07008 | train_mae: 0.18101 |  0:01:52s\n"
     ]
    },
    {
     "name": "stdout",
     "output_type": "stream",
     "text": [
      "epoch 260| loss: 0.11054 | train_mse: 0.08255 | train_mae: 0.2025  |  0:01:52s\n"
     ]
    },
    {
     "name": "stdout",
     "output_type": "stream",
     "text": [
      "epoch 261| loss: 0.09679 | train_mse: 0.06538 | train_mae: 0.17818 |  0:01:53s\n"
     ]
    },
    {
     "name": "stdout",
     "output_type": "stream",
     "text": [
      "epoch 262| loss: 0.09727 | train_mse: 0.06084 | train_mae: 0.18103 |  0:01:53s\n"
     ]
    },
    {
     "name": "stdout",
     "output_type": "stream",
     "text": [
      "epoch 263| loss: 0.09371 | train_mse: 0.06914 | train_mae: 0.19485 |  0:01:54s\n"
     ]
    },
    {
     "name": "stdout",
     "output_type": "stream",
     "text": [
      "epoch 264| loss: 0.12345 | train_mse: 0.06007 | train_mae: 0.17866 |  0:01:54s\n"
     ]
    },
    {
     "name": "stdout",
     "output_type": "stream",
     "text": [
      "epoch 265| loss: 0.09665 | train_mse: 0.07134 | train_mae: 0.18818 |  0:01:55s\n"
     ]
    },
    {
     "name": "stdout",
     "output_type": "stream",
     "text": [
      "epoch 266| loss: 0.1236  | train_mse: 0.07884 | train_mae: 0.19779 |  0:01:55s\n"
     ]
    },
    {
     "name": "stdout",
     "output_type": "stream",
     "text": [
      "epoch 267| loss: 0.11567 | train_mse: 0.0715  | train_mae: 0.18933 |  0:01:56s\n"
     ]
    },
    {
     "name": "stdout",
     "output_type": "stream",
     "text": [
      "epoch 268| loss: 0.11399 | train_mse: 0.0797  | train_mae: 0.19736 |  0:01:56s\n"
     ]
    },
    {
     "name": "stdout",
     "output_type": "stream",
     "text": [
      "epoch 269| loss: 0.09358 | train_mse: 0.06807 | train_mae: 0.1842  |  0:01:57s\n"
     ]
    },
    {
     "name": "stdout",
     "output_type": "stream",
     "text": [
      "epoch 270| loss: 0.10646 | train_mse: 0.06578 | train_mae: 0.18498 |  0:01:57s\n"
     ]
    },
    {
     "name": "stdout",
     "output_type": "stream",
     "text": [
      "epoch 271| loss: 0.11094 | train_mse: 0.09979 | train_mae: 0.22568 |  0:01:58s\n"
     ]
    },
    {
     "name": "stdout",
     "output_type": "stream",
     "text": [
      "epoch 272| loss: 0.14263 | train_mse: 0.09106 | train_mae: 0.2106  |  0:01:58s\n"
     ]
    },
    {
     "name": "stdout",
     "output_type": "stream",
     "text": [
      "epoch 273| loss: 0.07816 | train_mse: 0.07256 | train_mae: 0.19311 |  0:01:59s\n"
     ]
    },
    {
     "name": "stdout",
     "output_type": "stream",
     "text": [
      "epoch 274| loss: 0.09036 | train_mse: 0.08102 | train_mae: 0.21352 |  0:01:59s\n"
     ]
    },
    {
     "name": "stdout",
     "output_type": "stream",
     "text": [
      "epoch 275| loss: 0.12395 | train_mse: 0.07428 | train_mae: 0.20724 |  0:02:00s\n"
     ]
    },
    {
     "name": "stdout",
     "output_type": "stream",
     "text": [
      "epoch 276| loss: 0.08771 | train_mse: 0.06998 | train_mae: 0.18562 |  0:02:01s\n"
     ]
    },
    {
     "name": "stdout",
     "output_type": "stream",
     "text": [
      "epoch 277| loss: 0.1125  | train_mse: 0.06819 | train_mae: 0.18639 |  0:02:01s\n"
     ]
    },
    {
     "name": "stdout",
     "output_type": "stream",
     "text": [
      "epoch 278| loss: 0.10674 | train_mse: 0.05957 | train_mae: 0.17546 |  0:02:01s\n"
     ]
    },
    {
     "name": "stdout",
     "output_type": "stream",
     "text": [
      "epoch 279| loss: 0.09382 | train_mse: 0.07874 | train_mae: 0.19579 |  0:02:02s\n"
     ]
    },
    {
     "name": "stdout",
     "output_type": "stream",
     "text": [
      "epoch 280| loss: 0.08704 | train_mse: 0.07449 | train_mae: 0.18863 |  0:02:02s\n"
     ]
    },
    {
     "name": "stdout",
     "output_type": "stream",
     "text": [
      "epoch 281| loss: 0.09686 | train_mse: 0.06493 | train_mae: 0.18257 |  0:02:03s\n"
     ]
    },
    {
     "name": "stdout",
     "output_type": "stream",
     "text": [
      "epoch 282| loss: 0.11773 | train_mse: 0.10691 | train_mae: 0.20585 |  0:02:03s\n"
     ]
    },
    {
     "name": "stdout",
     "output_type": "stream",
     "text": [
      "epoch 283| loss: 0.15364 | train_mse: 0.07966 | train_mae: 0.19755 |  0:02:04s\n"
     ]
    },
    {
     "name": "stdout",
     "output_type": "stream",
     "text": [
      "epoch 284| loss: 0.13053 | train_mse: 0.05359 | train_mae: 0.17339 |  0:02:04s\n"
     ]
    },
    {
     "name": "stdout",
     "output_type": "stream",
     "text": [
      "epoch 285| loss: 0.13613 | train_mse: 0.06504 | train_mae: 0.18945 |  0:02:05s\n"
     ]
    },
    {
     "name": "stdout",
     "output_type": "stream",
     "text": [
      "epoch 286| loss: 0.09819 | train_mse: 0.062   | train_mae: 0.18332 |  0:02:05s\n"
     ]
    },
    {
     "name": "stdout",
     "output_type": "stream",
     "text": [
      "epoch 287| loss: 0.12435 | train_mse: 0.05827 | train_mae: 0.17304 |  0:02:06s\n"
     ]
    },
    {
     "name": "stdout",
     "output_type": "stream",
     "text": [
      "epoch 288| loss: 0.08601 | train_mse: 0.06615 | train_mae: 0.18308 |  0:02:06s\n"
     ]
    },
    {
     "name": "stdout",
     "output_type": "stream",
     "text": [
      "epoch 289| loss: 0.11381 | train_mse: 0.07321 | train_mae: 0.1996  |  0:02:06s\n"
     ]
    },
    {
     "name": "stdout",
     "output_type": "stream",
     "text": [
      "epoch 290| loss: 0.10427 | train_mse: 0.06777 | train_mae: 0.19063 |  0:02:07s\n"
     ]
    },
    {
     "name": "stdout",
     "output_type": "stream",
     "text": [
      "epoch 291| loss: 0.12321 | train_mse: 0.08498 | train_mae: 0.20023 |  0:02:07s\n"
     ]
    },
    {
     "name": "stdout",
     "output_type": "stream",
     "text": [
      "epoch 292| loss: 0.12268 | train_mse: 0.06536 | train_mae: 0.18163 |  0:02:08s\n"
     ]
    },
    {
     "name": "stdout",
     "output_type": "stream",
     "text": [
      "epoch 293| loss: 0.10481 | train_mse: 0.05727 | train_mae: 0.16992 |  0:02:08s\n"
     ]
    },
    {
     "name": "stdout",
     "output_type": "stream",
     "text": [
      "epoch 294| loss: 0.10008 | train_mse: 0.06081 | train_mae: 0.18025 |  0:02:09s\n"
     ]
    },
    {
     "name": "stdout",
     "output_type": "stream",
     "text": [
      "epoch 295| loss: 0.09113 | train_mse: 0.06496 | train_mae: 0.18019 |  0:02:09s\n"
     ]
    },
    {
     "name": "stdout",
     "output_type": "stream",
     "text": [
      "epoch 296| loss: 0.10105 | train_mse: 0.06091 | train_mae: 0.18168 |  0:02:10s\n"
     ]
    },
    {
     "name": "stdout",
     "output_type": "stream",
     "text": [
      "epoch 297| loss: 0.09723 | train_mse: 0.07604 | train_mae: 0.19543 |  0:02:11s\n"
     ]
    },
    {
     "name": "stdout",
     "output_type": "stream",
     "text": [
      "epoch 298| loss: 0.0912  | train_mse: 0.06679 | train_mae: 0.18635 |  0:02:11s\n"
     ]
    },
    {
     "name": "stdout",
     "output_type": "stream",
     "text": [
      "epoch 299| loss: 0.16535 | train_mse: 0.06765 | train_mae: 0.19041 |  0:02:12s\n"
     ]
    },
    {
     "name": "stdout",
     "output_type": "stream",
     "text": [
      "epoch 300| loss: 0.11885 | train_mse: 0.06434 | train_mae: 0.18275 |  0:02:12s\n"
     ]
    },
    {
     "name": "stdout",
     "output_type": "stream",
     "text": [
      "epoch 301| loss: 0.10918 | train_mse: 0.05843 | train_mae: 0.17116 |  0:02:12s\n"
     ]
    },
    {
     "name": "stdout",
     "output_type": "stream",
     "text": [
      "epoch 302| loss: 0.1143  | train_mse: 0.09241 | train_mae: 0.19705 |  0:02:13s\n"
     ]
    },
    {
     "name": "stdout",
     "output_type": "stream",
     "text": [
      "epoch 303| loss: 0.16378 | train_mse: 0.07499 | train_mae: 0.19315 |  0:02:13s\n"
     ]
    },
    {
     "name": "stdout",
     "output_type": "stream",
     "text": [
      "epoch 304| loss: 0.11542 | train_mse: 0.06237 | train_mae: 0.17885 |  0:02:14s\n"
     ]
    },
    {
     "name": "stdout",
     "output_type": "stream",
     "text": [
      "epoch 305| loss: 0.09121 | train_mse: 0.05321 | train_mae: 0.16421 |  0:02:15s\n"
     ]
    },
    {
     "name": "stdout",
     "output_type": "stream",
     "text": [
      "epoch 306| loss: 0.11186 | train_mse: 0.05771 | train_mae: 0.17527 |  0:02:16s\n"
     ]
    },
    {
     "name": "stdout",
     "output_type": "stream",
     "text": [
      "epoch 307| loss: 0.09413 | train_mse: 0.07451 | train_mae: 0.19583 |  0:02:17s\n"
     ]
    },
    {
     "name": "stdout",
     "output_type": "stream",
     "text": [
      "epoch 308| loss: 0.14497 | train_mse: 0.054   | train_mae: 0.17436 |  0:02:18s\n"
     ]
    },
    {
     "name": "stdout",
     "output_type": "stream",
     "text": [
      "epoch 309| loss: 0.0804  | train_mse: 0.0572  | train_mae: 0.17796 |  0:02:19s\n"
     ]
    },
    {
     "name": "stdout",
     "output_type": "stream",
     "text": [
      "epoch 310| loss: 0.09528 | train_mse: 0.05295 | train_mae: 0.16598 |  0:02:19s\n"
     ]
    },
    {
     "name": "stdout",
     "output_type": "stream",
     "text": [
      "epoch 311| loss: 0.10313 | train_mse: 0.04995 | train_mae: 0.16813 |  0:02:20s\n"
     ]
    },
    {
     "name": "stdout",
     "output_type": "stream",
     "text": [
      "epoch 312| loss: 0.11596 | train_mse: 0.05314 | train_mae: 0.17039 |  0:02:20s\n"
     ]
    },
    {
     "name": "stdout",
     "output_type": "stream",
     "text": [
      "epoch 313| loss: 0.14661 | train_mse: 0.06499 | train_mae: 0.18383 |  0:02:21s\n"
     ]
    },
    {
     "name": "stdout",
     "output_type": "stream",
     "text": [
      "epoch 314| loss: 0.11659 | train_mse: 0.07071 | train_mae: 0.19642 |  0:02:21s\n"
     ]
    },
    {
     "name": "stdout",
     "output_type": "stream",
     "text": [
      "epoch 315| loss: 0.11459 | train_mse: 0.09144 | train_mae: 0.21358 |  0:02:21s\n"
     ]
    },
    {
     "name": "stdout",
     "output_type": "stream",
     "text": [
      "epoch 316| loss: 0.0865  | train_mse: 0.08383 | train_mae: 0.18871 |  0:02:21s\n"
     ]
    },
    {
     "name": "stdout",
     "output_type": "stream",
     "text": [
      "epoch 317| loss: 0.13137 | train_mse: 0.05878 | train_mae: 0.18394 |  0:02:22s\n"
     ]
    },
    {
     "name": "stdout",
     "output_type": "stream",
     "text": [
      "epoch 318| loss: 0.1159  | train_mse: 0.07225 | train_mae: 0.20199 |  0:02:22s\n"
     ]
    },
    {
     "name": "stdout",
     "output_type": "stream",
     "text": [
      "epoch 319| loss: 0.09811 | train_mse: 0.07724 | train_mae: 0.19196 |  0:02:22s\n"
     ]
    },
    {
     "name": "stdout",
     "output_type": "stream",
     "text": [
      "epoch 320| loss: 0.10848 | train_mse: 0.08455 | train_mae: 0.19955 |  0:02:23s\n"
     ]
    },
    {
     "name": "stdout",
     "output_type": "stream",
     "text": [
      "epoch 321| loss: 0.09823 | train_mse: 0.06822 | train_mae: 0.18808 |  0:02:23s\n"
     ]
    },
    {
     "name": "stdout",
     "output_type": "stream",
     "text": [
      "epoch 322| loss: 0.10787 | train_mse: 0.07146 | train_mae: 0.19279 |  0:02:23s\n"
     ]
    },
    {
     "name": "stdout",
     "output_type": "stream",
     "text": [
      "epoch 323| loss: 0.14223 | train_mse: 0.07117 | train_mae: 0.19496 |  0:02:24s\n"
     ]
    },
    {
     "name": "stdout",
     "output_type": "stream",
     "text": [
      "epoch 324| loss: 0.09726 | train_mse: 0.05807 | train_mae: 0.18271 |  0:02:24s\n"
     ]
    },
    {
     "name": "stdout",
     "output_type": "stream",
     "text": [
      "epoch 325| loss: 0.11126 | train_mse: 0.05458 | train_mae: 0.17466 |  0:02:24s\n"
     ]
    },
    {
     "name": "stdout",
     "output_type": "stream",
     "text": [
      "epoch 326| loss: 0.09933 | train_mse: 0.05015 | train_mae: 0.1636  |  0:02:25s\n"
     ]
    },
    {
     "name": "stdout",
     "output_type": "stream",
     "text": [
      "epoch 327| loss: 0.1199  | train_mse: 0.05822 | train_mae: 0.17763 |  0:02:25s\n"
     ]
    },
    {
     "name": "stdout",
     "output_type": "stream",
     "text": [
      "epoch 328| loss: 0.12193 | train_mse: 0.06527 | train_mae: 0.18433 |  0:02:26s\n"
     ]
    },
    {
     "name": "stdout",
     "output_type": "stream",
     "text": [
      "epoch 329| loss: 0.09745 | train_mse: 0.05948 | train_mae: 0.16892 |  0:02:26s\n"
     ]
    },
    {
     "name": "stdout",
     "output_type": "stream",
     "text": [
      "epoch 330| loss: 0.09395 | train_mse: 0.05787 | train_mae: 0.17761 |  0:02:27s\n"
     ]
    },
    {
     "name": "stdout",
     "output_type": "stream",
     "text": [
      "epoch 331| loss: 0.0986  | train_mse: 0.06009 | train_mae: 0.17757 |  0:02:28s\n"
     ]
    },
    {
     "name": "stdout",
     "output_type": "stream",
     "text": [
      "epoch 332| loss: 0.06832 | train_mse: 0.05758 | train_mae: 0.16157 |  0:02:28s\n"
     ]
    },
    {
     "name": "stdout",
     "output_type": "stream",
     "text": [
      "epoch 333| loss: 0.09434 | train_mse: 0.05863 | train_mae: 0.16913 |  0:02:29s\n"
     ]
    },
    {
     "name": "stdout",
     "output_type": "stream",
     "text": [
      "epoch 334| loss: 0.07001 | train_mse: 0.05533 | train_mae: 0.17214 |  0:02:29s\n"
     ]
    },
    {
     "name": "stdout",
     "output_type": "stream",
     "text": [
      "epoch 335| loss: 0.10512 | train_mse: 0.05394 | train_mae: 0.169   |  0:02:29s\n"
     ]
    },
    {
     "name": "stdout",
     "output_type": "stream",
     "text": [
      "epoch 336| loss: 0.08478 | train_mse: 0.05934 | train_mae: 0.17126 |  0:02:30s\n"
     ]
    },
    {
     "name": "stdout",
     "output_type": "stream",
     "text": [
      "epoch 337| loss: 0.09776 | train_mse: 0.05968 | train_mae: 0.17753 |  0:02:30s\n"
     ]
    },
    {
     "name": "stdout",
     "output_type": "stream",
     "text": [
      "epoch 338| loss: 0.11086 | train_mse: 0.05311 | train_mae: 0.17334 |  0:02:31s\n"
     ]
    },
    {
     "name": "stdout",
     "output_type": "stream",
     "text": [
      "epoch 339| loss: 0.11719 | train_mse: 0.05798 | train_mae: 0.17865 |  0:02:32s\n"
     ]
    },
    {
     "name": "stdout",
     "output_type": "stream",
     "text": [
      "epoch 340| loss: 0.09844 | train_mse: 0.06279 | train_mae: 0.17942 |  0:02:33s\n"
     ]
    },
    {
     "name": "stdout",
     "output_type": "stream",
     "text": [
      "epoch 341| loss: 0.10448 | train_mse: 0.05048 | train_mae: 0.16824 |  0:02:33s\n"
     ]
    },
    {
     "name": "stdout",
     "output_type": "stream",
     "text": [
      "epoch 342| loss: 0.11216 | train_mse: 0.06631 | train_mae: 0.19065 |  0:02:34s\n"
     ]
    },
    {
     "name": "stdout",
     "output_type": "stream",
     "text": [
      "epoch 343| loss: 0.09657 | train_mse: 0.04914 | train_mae: 0.16751 |  0:02:35s\n"
     ]
    },
    {
     "name": "stdout",
     "output_type": "stream",
     "text": [
      "epoch 344| loss: 0.12428 | train_mse: 0.05842 | train_mae: 0.17549 |  0:02:36s\n"
     ]
    },
    {
     "name": "stdout",
     "output_type": "stream",
     "text": [
      "epoch 345| loss: 0.08913 | train_mse: 0.04814 | train_mae: 0.16008 |  0:02:36s\n"
     ]
    },
    {
     "name": "stdout",
     "output_type": "stream",
     "text": [
      "epoch 346| loss: 0.08304 | train_mse: 0.04929 | train_mae: 0.16369 |  0:02:36s\n"
     ]
    },
    {
     "name": "stdout",
     "output_type": "stream",
     "text": [
      "epoch 347| loss: 0.08055 | train_mse: 0.05603 | train_mae: 0.1696  |  0:02:37s\n"
     ]
    },
    {
     "name": "stdout",
     "output_type": "stream",
     "text": [
      "epoch 348| loss: 0.09157 | train_mse: 0.05339 | train_mae: 0.16877 |  0:02:37s\n"
     ]
    },
    {
     "name": "stdout",
     "output_type": "stream",
     "text": [
      "epoch 349| loss: 0.10774 | train_mse: 0.06827 | train_mae: 0.18744 |  0:02:38s\n"
     ]
    },
    {
     "name": "stdout",
     "output_type": "stream",
     "text": [
      "epoch 350| loss: 0.09276 | train_mse: 0.08908 | train_mae: 0.21164 |  0:02:39s\n"
     ]
    },
    {
     "name": "stdout",
     "output_type": "stream",
     "text": [
      "epoch 351| loss: 0.10782 | train_mse: 0.07443 | train_mae: 0.18881 |  0:02:39s\n"
     ]
    },
    {
     "name": "stdout",
     "output_type": "stream",
     "text": [
      "epoch 352| loss: 0.11205 | train_mse: 0.08082 | train_mae: 0.2015  |  0:02:40s\n"
     ]
    },
    {
     "name": "stdout",
     "output_type": "stream",
     "text": [
      "epoch 353| loss: 0.10982 | train_mse: 0.06302 | train_mae: 0.18082 |  0:02:40s\n"
     ]
    },
    {
     "name": "stdout",
     "output_type": "stream",
     "text": [
      "epoch 354| loss: 0.1165  | train_mse: 0.0645  | train_mae: 0.18361 |  0:02:41s\n"
     ]
    },
    {
     "name": "stdout",
     "output_type": "stream",
     "text": [
      "epoch 355| loss: 0.09919 | train_mse: 0.06352 | train_mae: 0.17192 |  0:02:41s\n"
     ]
    },
    {
     "name": "stdout",
     "output_type": "stream",
     "text": [
      "epoch 356| loss: 0.10389 | train_mse: 0.08506 | train_mae: 0.20014 |  0:02:42s\n"
     ]
    },
    {
     "name": "stdout",
     "output_type": "stream",
     "text": [
      "epoch 357| loss: 0.10391 | train_mse: 0.06177 | train_mae: 0.17075 |  0:02:42s\n"
     ]
    },
    {
     "name": "stdout",
     "output_type": "stream",
     "text": [
      "epoch 358| loss: 0.09922 | train_mse: 0.05681 | train_mae: 0.17161 |  0:02:42s\n"
     ]
    },
    {
     "name": "stdout",
     "output_type": "stream",
     "text": [
      "epoch 359| loss: 0.07341 | train_mse: 0.05871 | train_mae: 0.17505 |  0:02:43s\n"
     ]
    },
    {
     "name": "stdout",
     "output_type": "stream",
     "text": [
      "epoch 360| loss: 0.09042 | train_mse: 0.05761 | train_mae: 0.16097 |  0:02:43s\n"
     ]
    },
    {
     "name": "stdout",
     "output_type": "stream",
     "text": [
      "epoch 361| loss: 0.08316 | train_mse: 0.06504 | train_mae: 0.16902 |  0:02:44s\n"
     ]
    },
    {
     "name": "stdout",
     "output_type": "stream",
     "text": [
      "epoch 362| loss: 0.09434 | train_mse: 0.0793  | train_mae: 0.19304 |  0:02:44s\n"
     ]
    },
    {
     "name": "stdout",
     "output_type": "stream",
     "text": [
      "epoch 363| loss: 0.08794 | train_mse: 0.07129 | train_mae: 0.18498 |  0:02:44s\n"
     ]
    },
    {
     "name": "stdout",
     "output_type": "stream",
     "text": [
      "epoch 364| loss: 0.11049 | train_mse: 0.06771 | train_mae: 0.18166 |  0:02:45s\n"
     ]
    },
    {
     "name": "stdout",
     "output_type": "stream",
     "text": [
      "epoch 365| loss: 0.10719 | train_mse: 0.05797 | train_mae: 0.17586 |  0:02:45s\n"
     ]
    },
    {
     "name": "stdout",
     "output_type": "stream",
     "text": [
      "epoch 366| loss: 0.10653 | train_mse: 0.05135 | train_mae: 0.17028 |  0:02:45s\n"
     ]
    },
    {
     "name": "stdout",
     "output_type": "stream",
     "text": [
      "epoch 367| loss: 0.10429 | train_mse: 0.05586 | train_mae: 0.17666 |  0:02:45s\n"
     ]
    },
    {
     "name": "stdout",
     "output_type": "stream",
     "text": [
      "epoch 368| loss: 0.10964 | train_mse: 0.05672 | train_mae: 0.173   |  0:02:46s\n"
     ]
    },
    {
     "name": "stdout",
     "output_type": "stream",
     "text": [
      "epoch 369| loss: 0.09236 | train_mse: 0.05115 | train_mae: 0.16546 |  0:02:46s\n"
     ]
    },
    {
     "name": "stdout",
     "output_type": "stream",
     "text": [
      "epoch 370| loss: 0.11655 | train_mse: 0.04815 | train_mae: 0.16046 |  0:02:47s\n"
     ]
    },
    {
     "name": "stdout",
     "output_type": "stream",
     "text": [
      "epoch 371| loss: 0.08895 | train_mse: 0.05019 | train_mae: 0.16651 |  0:02:47s\n"
     ]
    },
    {
     "name": "stdout",
     "output_type": "stream",
     "text": [
      "epoch 372| loss: 0.09518 | train_mse: 0.05466 | train_mae: 0.18021 |  0:02:47s\n"
     ]
    },
    {
     "name": "stdout",
     "output_type": "stream",
     "text": [
      "epoch 373| loss: 0.08184 | train_mse: 0.04975 | train_mae: 0.16846 |  0:02:48s\n"
     ]
    },
    {
     "name": "stdout",
     "output_type": "stream",
     "text": [
      "epoch 374| loss: 0.10079 | train_mse: 0.04488 | train_mae: 0.15683 |  0:02:48s\n"
     ]
    },
    {
     "name": "stdout",
     "output_type": "stream",
     "text": [
      "epoch 375| loss: 0.08175 | train_mse: 0.04527 | train_mae: 0.15798 |  0:02:49s\n"
     ]
    },
    {
     "name": "stdout",
     "output_type": "stream",
     "text": [
      "epoch 376| loss: 0.07372 | train_mse: 0.0523  | train_mae: 0.16867 |  0:02:49s\n"
     ]
    },
    {
     "name": "stdout",
     "output_type": "stream",
     "text": [
      "epoch 377| loss: 0.11385 | train_mse: 0.05805 | train_mae: 0.17865 |  0:02:49s\n"
     ]
    },
    {
     "name": "stdout",
     "output_type": "stream",
     "text": [
      "epoch 378| loss: 0.08917 | train_mse: 0.05091 | train_mae: 0.16017 |  0:02:50s\n"
     ]
    },
    {
     "name": "stdout",
     "output_type": "stream",
     "text": [
      "epoch 379| loss: 0.07047 | train_mse: 0.05203 | train_mae: 0.1601  |  0:02:50s\n"
     ]
    },
    {
     "name": "stdout",
     "output_type": "stream",
     "text": [
      "epoch 380| loss: 0.09734 | train_mse: 0.04994 | train_mae: 0.16188 |  0:02:51s\n"
     ]
    },
    {
     "name": "stdout",
     "output_type": "stream",
     "text": [
      "epoch 381| loss: 0.06268 | train_mse: 0.05066 | train_mae: 0.15873 |  0:02:51s\n"
     ]
    },
    {
     "name": "stdout",
     "output_type": "stream",
     "text": [
      "epoch 382| loss: 0.10688 | train_mse: 0.04908 | train_mae: 0.15791 |  0:02:52s\n"
     ]
    },
    {
     "name": "stdout",
     "output_type": "stream",
     "text": [
      "epoch 383| loss: 0.06988 | train_mse: 0.05097 | train_mae: 0.15411 |  0:02:52s\n"
     ]
    },
    {
     "name": "stdout",
     "output_type": "stream",
     "text": [
      "epoch 384| loss: 0.07578 | train_mse: 0.05222 | train_mae: 0.15285 |  0:02:53s\n"
     ]
    },
    {
     "name": "stdout",
     "output_type": "stream",
     "text": [
      "epoch 385| loss: 0.07593 | train_mse: 0.06299 | train_mae: 0.16765 |  0:02:53s\n"
     ]
    },
    {
     "name": "stdout",
     "output_type": "stream",
     "text": [
      "epoch 386| loss: 0.07649 | train_mse: 0.05855 | train_mae: 0.16534 |  0:02:54s\n"
     ]
    },
    {
     "name": "stdout",
     "output_type": "stream",
     "text": [
      "epoch 387| loss: 0.08616 | train_mse: 0.06757 | train_mae: 0.16914 |  0:02:54s\n"
     ]
    },
    {
     "name": "stdout",
     "output_type": "stream",
     "text": [
      "epoch 388| loss: 0.10455 | train_mse: 0.05879 | train_mae: 0.15848 |  0:02:54s\n"
     ]
    },
    {
     "name": "stdout",
     "output_type": "stream",
     "text": [
      "epoch 389| loss: 0.08145 | train_mse: 0.05615 | train_mae: 0.15883 |  0:02:55s\n"
     ]
    },
    {
     "name": "stdout",
     "output_type": "stream",
     "text": [
      "epoch 390| loss: 0.09198 | train_mse: 0.07462 | train_mae: 0.16287 |  0:02:55s\n"
     ]
    },
    {
     "name": "stdout",
     "output_type": "stream",
     "text": [
      "epoch 391| loss: 0.11604 | train_mse: 0.0762  | train_mae: 0.16761 |  0:02:55s\n"
     ]
    },
    {
     "name": "stdout",
     "output_type": "stream",
     "text": [
      "epoch 392| loss: 0.119   | train_mse: 0.05799 | train_mae: 0.15815 |  0:02:56s\n"
     ]
    },
    {
     "name": "stdout",
     "output_type": "stream",
     "text": [
      "epoch 393| loss: 0.11916 | train_mse: 0.0552  | train_mae: 0.16294 |  0:02:56s\n"
     ]
    },
    {
     "name": "stdout",
     "output_type": "stream",
     "text": [
      "epoch 394| loss: 0.13491 | train_mse: 0.06169 | train_mae: 0.16245 |  0:02:57s\n"
     ]
    },
    {
     "name": "stdout",
     "output_type": "stream",
     "text": [
      "epoch 395| loss: 0.07495 | train_mse: 0.05303 | train_mae: 0.15244 |  0:02:57s\n"
     ]
    },
    {
     "name": "stdout",
     "output_type": "stream",
     "text": [
      "epoch 396| loss: 0.06167 | train_mse: 0.05243 | train_mae: 0.15821 |  0:02:57s\n"
     ]
    },
    {
     "name": "stdout",
     "output_type": "stream",
     "text": [
      "epoch 397| loss: 0.0933  | train_mse: 0.08088 | train_mae: 0.17573 |  0:02:58s\n"
     ]
    },
    {
     "name": "stdout",
     "output_type": "stream",
     "text": [
      "epoch 398| loss: 0.08826 | train_mse: 0.05572 | train_mae: 0.16127 |  0:02:58s\n"
     ]
    },
    {
     "name": "stdout",
     "output_type": "stream",
     "text": [
      "epoch 399| loss: 0.06573 | train_mse: 0.04048 | train_mae: 0.15091 |  0:02:58s\n"
     ]
    },
    {
     "name": "stdout",
     "output_type": "stream",
     "text": [
      "epoch 400| loss: 0.07959 | train_mse: 0.05315 | train_mae: 0.15083 |  0:02:59s\n"
     ]
    },
    {
     "name": "stdout",
     "output_type": "stream",
     "text": [
      "epoch 401| loss: 0.09251 | train_mse: 0.05947 | train_mae: 0.15469 |  0:03:00s\n"
     ]
    },
    {
     "name": "stdout",
     "output_type": "stream",
     "text": [
      "epoch 402| loss: 0.06353 | train_mse: 0.04761 | train_mae: 0.14948 |  0:03:00s\n"
     ]
    },
    {
     "name": "stdout",
     "output_type": "stream",
     "text": [
      "epoch 403| loss: 0.07334 | train_mse: 0.04716 | train_mae: 0.15495 |  0:03:01s\n"
     ]
    },
    {
     "name": "stdout",
     "output_type": "stream",
     "text": [
      "epoch 404| loss: 0.09831 | train_mse: 0.0501  | train_mae: 0.15395 |  0:03:01s\n"
     ]
    },
    {
     "name": "stdout",
     "output_type": "stream",
     "text": [
      "epoch 405| loss: 0.08855 | train_mse: 0.04765 | train_mae: 0.16035 |  0:03:02s\n"
     ]
    },
    {
     "name": "stdout",
     "output_type": "stream",
     "text": [
      "epoch 406| loss: 0.09321 | train_mse: 0.05606 | train_mae: 0.16127 |  0:03:02s\n"
     ]
    },
    {
     "name": "stdout",
     "output_type": "stream",
     "text": [
      "epoch 407| loss: 0.08376 | train_mse: 0.05536 | train_mae: 0.16188 |  0:03:03s\n"
     ]
    },
    {
     "name": "stdout",
     "output_type": "stream",
     "text": [
      "epoch 408| loss: 0.0907  | train_mse: 0.07726 | train_mae: 0.19149 |  0:03:03s\n"
     ]
    },
    {
     "name": "stdout",
     "output_type": "stream",
     "text": [
      "epoch 409| loss: 0.11942 | train_mse: 0.08174 | train_mae: 0.20791 |  0:03:04s\n"
     ]
    },
    {
     "name": "stdout",
     "output_type": "stream",
     "text": [
      "epoch 410| loss: 0.08352 | train_mse: 0.05418 | train_mae: 0.167   |  0:03:04s\n"
     ]
    },
    {
     "name": "stdout",
     "output_type": "stream",
     "text": [
      "epoch 411| loss: 0.1316  | train_mse: 0.06577 | train_mae: 0.18921 |  0:03:05s\n"
     ]
    },
    {
     "name": "stdout",
     "output_type": "stream",
     "text": [
      "epoch 412| loss: 0.09104 | train_mse: 0.05017 | train_mae: 0.15904 |  0:03:06s\n"
     ]
    },
    {
     "name": "stdout",
     "output_type": "stream",
     "text": [
      "epoch 413| loss: 0.09853 | train_mse: 0.05136 | train_mae: 0.16564 |  0:03:07s\n"
     ]
    },
    {
     "name": "stdout",
     "output_type": "stream",
     "text": [
      "epoch 414| loss: 0.10772 | train_mse: 0.05016 | train_mae: 0.16346 |  0:03:07s\n"
     ]
    },
    {
     "name": "stdout",
     "output_type": "stream",
     "text": [
      "epoch 415| loss: 0.0814  | train_mse: 0.05276 | train_mae: 0.16187 |  0:03:08s\n"
     ]
    },
    {
     "name": "stdout",
     "output_type": "stream",
     "text": [
      "epoch 416| loss: 0.08098 | train_mse: 0.06074 | train_mae: 0.16424 |  0:03:08s\n"
     ]
    },
    {
     "name": "stdout",
     "output_type": "stream",
     "text": [
      "epoch 417| loss: 0.06823 | train_mse: 0.067   | train_mae: 0.17118 |  0:03:09s\n"
     ]
    },
    {
     "name": "stdout",
     "output_type": "stream",
     "text": [
      "epoch 418| loss: 0.108   | train_mse: 0.07561 | train_mae: 0.17147 |  0:03:09s\n"
     ]
    },
    {
     "name": "stdout",
     "output_type": "stream",
     "text": [
      "epoch 419| loss: 0.09752 | train_mse: 0.05294 | train_mae: 0.16149 |  0:03:09s\n"
     ]
    },
    {
     "name": "stdout",
     "output_type": "stream",
     "text": [
      "epoch 420| loss: 0.10347 | train_mse: 0.05125 | train_mae: 0.157   |  0:03:10s\n"
     ]
    },
    {
     "name": "stdout",
     "output_type": "stream",
     "text": [
      "epoch 421| loss: 0.06904 | train_mse: 0.04881 | train_mae: 0.15444 |  0:03:10s\n"
     ]
    },
    {
     "name": "stdout",
     "output_type": "stream",
     "text": [
      "epoch 422| loss: 0.17608 | train_mse: 0.0553  | train_mae: 0.16513 |  0:03:11s\n"
     ]
    },
    {
     "name": "stdout",
     "output_type": "stream",
     "text": [
      "epoch 423| loss: 0.1248  | train_mse: 0.05617 | train_mae: 0.16752 |  0:03:11s\n"
     ]
    },
    {
     "name": "stdout",
     "output_type": "stream",
     "text": [
      "epoch 424| loss: 0.10149 | train_mse: 0.06455 | train_mae: 0.1736  |  0:03:12s\n"
     ]
    },
    {
     "name": "stdout",
     "output_type": "stream",
     "text": [
      "epoch 425| loss: 0.08404 | train_mse: 0.06761 | train_mae: 0.16713 |  0:03:12s\n"
     ]
    },
    {
     "name": "stdout",
     "output_type": "stream",
     "text": [
      "epoch 426| loss: 0.08598 | train_mse: 0.05973 | train_mae: 0.17201 |  0:03:13s\n"
     ]
    },
    {
     "name": "stdout",
     "output_type": "stream",
     "text": [
      "epoch 427| loss: 0.09018 | train_mse: 0.05001 | train_mae: 0.15991 |  0:03:13s\n"
     ]
    },
    {
     "name": "stdout",
     "output_type": "stream",
     "text": [
      "epoch 428| loss: 0.07513 | train_mse: 0.06772 | train_mae: 0.16836 |  0:03:14s\n"
     ]
    },
    {
     "name": "stdout",
     "output_type": "stream",
     "text": [
      "epoch 429| loss: 0.11918 | train_mse: 0.05778 | train_mae: 0.15675 |  0:03:14s\n"
     ]
    },
    {
     "name": "stdout",
     "output_type": "stream",
     "text": [
      "epoch 430| loss: 0.0866  | train_mse: 0.063   | train_mae: 0.16805 |  0:03:15s\n"
     ]
    },
    {
     "name": "stdout",
     "output_type": "stream",
     "text": [
      "epoch 431| loss: 0.10151 | train_mse: 0.05881 | train_mae: 0.17306 |  0:03:15s\n"
     ]
    },
    {
     "name": "stdout",
     "output_type": "stream",
     "text": [
      "epoch 432| loss: 0.07012 | train_mse: 0.04393 | train_mae: 0.15384 |  0:03:16s\n"
     ]
    },
    {
     "name": "stdout",
     "output_type": "stream",
     "text": [
      "epoch 433| loss: 0.09351 | train_mse: 0.04908 | train_mae: 0.15529 |  0:03:17s\n"
     ]
    },
    {
     "name": "stdout",
     "output_type": "stream",
     "text": [
      "epoch 434| loss: 0.07811 | train_mse: 0.05338 | train_mae: 0.16265 |  0:03:18s\n"
     ]
    },
    {
     "name": "stdout",
     "output_type": "stream",
     "text": [
      "epoch 435| loss: 0.08028 | train_mse: 0.0456  | train_mae: 0.15273 |  0:03:19s\n"
     ]
    },
    {
     "name": "stdout",
     "output_type": "stream",
     "text": [
      "epoch 436| loss: 0.09038 | train_mse: 0.0477  | train_mae: 0.15652 |  0:03:20s\n"
     ]
    },
    {
     "name": "stdout",
     "output_type": "stream",
     "text": [
      "epoch 437| loss: 0.07803 | train_mse: 0.0456  | train_mae: 0.15492 |  0:03:20s\n"
     ]
    },
    {
     "name": "stdout",
     "output_type": "stream",
     "text": [
      "epoch 438| loss: 0.08609 | train_mse: 0.04313 | train_mae: 0.1524  |  0:03:21s\n"
     ]
    },
    {
     "name": "stdout",
     "output_type": "stream",
     "text": [
      "epoch 439| loss: 0.08283 | train_mse: 0.05443 | train_mae: 0.1613  |  0:03:21s\n"
     ]
    },
    {
     "name": "stdout",
     "output_type": "stream",
     "text": [
      "epoch 440| loss: 0.08217 | train_mse: 0.0697  | train_mae: 0.16907 |  0:03:22s\n"
     ]
    },
    {
     "name": "stdout",
     "output_type": "stream",
     "text": [
      "epoch 441| loss: 0.0649  | train_mse: 0.0607  | train_mae: 0.15146 |  0:03:22s\n"
     ]
    },
    {
     "name": "stdout",
     "output_type": "stream",
     "text": [
      "epoch 442| loss: 0.06896 | train_mse: 0.08034 | train_mae: 0.18201 |  0:03:23s\n"
     ]
    },
    {
     "name": "stdout",
     "output_type": "stream",
     "text": [
      "epoch 443| loss: 0.09444 | train_mse: 0.05387 | train_mae: 0.16823 |  0:03:24s\n"
     ]
    },
    {
     "name": "stdout",
     "output_type": "stream",
     "text": [
      "epoch 444| loss: 0.12003 | train_mse: 0.04861 | train_mae: 0.16041 |  0:03:25s\n"
     ]
    },
    {
     "name": "stdout",
     "output_type": "stream",
     "text": [
      "epoch 445| loss: 0.07853 | train_mse: 0.0577  | train_mae: 0.16825 |  0:03:25s\n"
     ]
    },
    {
     "name": "stdout",
     "output_type": "stream",
     "text": [
      "epoch 446| loss: 0.10675 | train_mse: 0.04712 | train_mae: 0.15139 |  0:03:26s\n"
     ]
    },
    {
     "name": "stdout",
     "output_type": "stream",
     "text": [
      "epoch 447| loss: 0.09253 | train_mse: 0.04759 | train_mae: 0.16056 |  0:03:27s\n"
     ]
    },
    {
     "name": "stdout",
     "output_type": "stream",
     "text": [
      "epoch 448| loss: 0.07572 | train_mse: 0.06259 | train_mae: 0.17375 |  0:03:28s\n"
     ]
    },
    {
     "name": "stdout",
     "output_type": "stream",
     "text": [
      "epoch 449| loss: 0.0735  | train_mse: 0.05849 | train_mae: 0.16426 |  0:03:28s\n"
     ]
    },
    {
     "name": "stdout",
     "output_type": "stream",
     "text": [
      "epoch 450| loss: 0.08185 | train_mse: 0.046   | train_mae: 0.15741 |  0:03:29s\n"
     ]
    },
    {
     "name": "stdout",
     "output_type": "stream",
     "text": [
      "epoch 451| loss: 0.08357 | train_mse: 0.04557 | train_mae: 0.15737 |  0:03:30s\n"
     ]
    },
    {
     "name": "stdout",
     "output_type": "stream",
     "text": [
      "epoch 452| loss: 0.08819 | train_mse: 0.05399 | train_mae: 0.165   |  0:03:30s\n",
      "\n",
      "Early stopping occurred at epoch 452 with best_epoch = 402 and best_train_mae = 0.14948\n",
      "Best weights from best epoch are automatically used!\n",
      "BEST VALID SCORE FOR dataset : 0.14948416651490976\n",
      "FINAL TEST SCORE FOR dataset: 0.24113231529390045\n",
      "{'loss': [2.555253191159504, 0.7424850068470039, 0.6243203928565034, 0.577416984161528, 0.4698885381221771, 0.5184454180226468, 0.41455336460972775, 0.36001439731900053, 0.33493528227404795, 0.31291658261624894, 0.28694109249823163, 0.24602259297182064, 0.3090300512785959, 0.3605590309246932, 0.2558568822275294, 0.33918263121406633, 0.2848798821468164, 0.25969285761365796, 0.24598231705108492, 0.216003151813356, 0.256076717140651, 0.20340319081108169, 0.2216168993180341, 0.2216947046246859, 0.2414137579426907, 0.23374531823809785, 0.2743701653020217, 0.21673258187452166, 0.27599589010276415, 0.2298600324014626, 0.21870227940011733, 0.21967132610849815, 0.1742006566854987, 0.22493047879473999, 0.1927772983170972, 0.20361544029547438, 0.21263162275352102, 0.17294053777609722, 0.19642627158082357, 0.19456767150671175, 0.20537927835294517, 0.22311997059548255, 0.19480245877610575, 0.17726389060516168, 0.20497784040646977, 0.178527630939342, 0.16582965688540205, 0.1870931983731761, 0.20381677298262568, 0.16409530734071637, 0.1757605789911629, 0.22582101888290726, 0.13073721904270716, 0.15735852423280772, 0.18963540279039062, 0.17039882443328896, 0.1924790090853625, 0.1900778336100059, 0.16623566734908832, 0.1453221626210921, 0.16666007919771836, 0.17810544327344044, 0.1952929411194112, 0.21888640847536597, 0.18650247923808522, 0.1546581540957536, 0.17870415098006182, 0.200850912544987, 0.1636158809213355, 0.1535095047980252, 0.16271414851198102, 0.22450011171916923, 0.19126931334486102, 0.17907355091359356, 0.20335828490776592, 0.17698803868624244, 0.20126047464880611, 0.14610062783012295, 0.17459367038589893, 0.14542400173031458, 0.15977798446570296, 0.1894702824330566, 0.19236797345156717, 0.17163029593406337, 0.1435600474919423, 0.2018602499277285, 0.1662476405058757, 0.12315517759854251, 0.16549425697562717, 0.14902745261050687, 0.13864154944030366, 0.1587486954608766, 0.146644114857853, 0.19721395160892222, 0.14901190819126545, 0.17231611214061776, 0.15956518437602732, 0.1736081605500514, 0.14687064098249566, 0.16664423977974618, 0.18618515369915725, 0.1658275844437061, 0.20124625554769346, 0.19767384924510917, 0.1657992059936618, 0.1397681729038163, 0.22121629148426622, 0.17941811061141513, 0.18323632602644438, 0.14065193731595974, 0.17594239676352774, 0.12271968489236171, 0.14148624580685454, 0.12826142910093363, 0.1271630868610769, 0.17397343780439678, 0.15598451958434417, 0.1805139580870619, 0.1359756341812634, 0.18504963062777377, 0.16960405005086768, 0.15378336195308384, 0.17147064533564124, 0.13380672059731905, 0.13740412964679227, 0.16096982772987667, 0.18500195591166468, 0.1335406346191274, 0.1406874134398923, 0.1588994667376622, 0.19990585464062077, 0.17193093217245423, 0.14708630578352674, 0.1282596496662291, 0.1547236807718135, 0.17011858921239872, 0.1722103764515112, 0.17956996318137292, 0.1619815708387016, 0.16412987796091796, 0.1671473195057104, 0.15762883218208162, 0.20938992559319675, 0.18293092480980525, 0.14527803172569465, 0.1280815925928626, 0.1548993043085136, 0.11654743057961511, 0.13363420896896042, 0.13035183436799758, 0.13561962146570186, 0.18600595203956755, 0.12200107241030966, 0.12763235061475547, 0.15830044448375702, 0.1491591636792268, 0.16971957152432735, 0.13271887910248029, 0.17274936664812635, 0.13302399262343303, 0.13271714621546246, 0.11239572621808194, 0.12451979753994706, 0.18659990767736245, 0.12662320148826825, 0.12754955976316246, 0.10622828298866159, 0.11854158356638238, 0.09246143801967696, 0.11852616986425796, 0.1178572197435516, 0.13235564293837784, 0.1286477976211227, 0.11291530145571964, 0.09483825592416348, 0.09743756690237781, 0.14561686391877657, 0.12062829810351429, 0.10933135405625447, 0.1358907545852189, 0.14546167134943574, 0.14156473464895003, 0.1407393217086792, 0.13399164865512658, 0.14967931910316543, 0.12477495115582306, 0.15389677321556772, 0.12612514714203257, 0.17075330970606, 0.11217215657234192, 0.12338564153945092, 0.10542367944622984, 0.1645807575176258, 0.10521441550538091, 0.08471187329528355, 0.12535393813459, 0.11710046106340861, 0.1632607996758848, 0.11238592202858169, 0.149185647026147, 0.10897847183860175, 0.1064071179469033, 0.12344077524572315, 0.1375894068491341, 0.10382587020054902, 0.13107985781856102, 0.11265671681059469, 0.1278700217014492, 0.1283881186258675, 0.09421564483701593, 0.15439513222415852, 0.10518119734997797, 0.11904714898307725, 0.12031944848523282, 0.13942443830246973, 0.1252390619846854, 0.1279206895592189, 0.10458607270871059, 0.12860394579054105, 0.10613967116811487, 0.13019041650661148, 0.1217626266845382, 0.10922249620503718, 0.10943095400781915, 0.09713575775080388, 0.1151196958109884, 0.13989642823096549, 0.10181400165109351, 0.13443732704266464, 0.07684847380560224, 0.08959307160117838, 0.11697556616941301, 0.13707645871851704, 0.12835771524079956, 0.10515232723538238, 0.11358053997011468, 0.12845237169525411, 0.11977409475510663, 0.09848307028855427, 0.1126042616249311, 0.10706094940110009, 0.10457628725631403, 0.14923943446414306, 0.1457764208316803, 0.12452600247198993, 0.11843792887607424, 0.10310414684290933, 0.09384421985780839, 0.08537492310941809, 0.11529770227942136, 0.10219274878059284, 0.12575232407244125, 0.10638416514243229, 0.12974832723341365, 0.1009162837030864, 0.11215726278796054, 0.10528620332479477, 0.10015206083212749, 0.11302984764080236, 0.10276524634054392, 0.11054436552642595, 0.09678552779230741, 0.09727191475063267, 0.09371190082908858, 0.12345405277049187, 0.09665067121386528, 0.12359546206080087, 0.1156689459734624, 0.11399212295171057, 0.09358343437756642, 0.10645814667833914, 0.11093724467376671, 0.1426348618351587, 0.07815771483548797, 0.09036093050300485, 0.12394873325777526, 0.08771121996169043, 0.11249809852330991, 0.10673804271339189, 0.09382068753094956, 0.08703548984952492, 0.09686459025534072, 0.11772695744391715, 0.1536416532379566, 0.13052714225089196, 0.1361274762761475, 0.09818923259430593, 0.12435136514134926, 0.08600959447350832, 0.11380585305171438, 0.1042745305169927, 0.12321190086036625, 0.12267658734085536, 0.10480643440001082, 0.10008086500191453, 0.0911294276466464, 0.10104699432849884, 0.09723389583944093, 0.0911996648600786, 0.16535244255077722, 0.11885168241097195, 0.10918356788040388, 0.11430463194847107, 0.16377696162550756, 0.11541704626956789, 0.09120592674111376, 0.11186452206261087, 0.09413017487466925, 0.1449666809622604, 0.0803992082872013, 0.09528002135529376, 0.1031336835262799, 0.11595504428490554, 0.1466052001065547, 0.11659043909299492, 0.11458541984015172, 0.08649938915035513, 0.1313678340451552, 0.11590331741193734, 0.09811184680697942, 0.10848067818891884, 0.09823471411029891, 0.10786799238164826, 0.14223004855436855, 0.09726050304304255, 0.11125743300607889, 0.0993314181076418, 0.11989558480753756, 0.12192631549764388, 0.09745332893758717, 0.0939520604097017, 0.09860386153553972, 0.06832058351523805, 0.09433519353370855, 0.0700142340052246, 0.10511850012410985, 0.08477708697319031, 0.09776122558234941, 0.11085530525386923, 0.11718917365121369, 0.09843807999450381, 0.10448284491454021, 0.11215518193669838, 0.09657239250027307, 0.12427943458061406, 0.08912725960559184, 0.08303802497316115, 0.0805533941798281, 0.09157334991020731, 0.10774213518246566, 0.09275505234404366, 0.10782182865803784, 0.1120461367144443, 0.10982161026337359, 0.11649974295408419, 0.0991947624352899, 0.1038941815495491, 0.10390782326754958, 0.09922484286350779, 0.0734080561611912, 0.09041602909564972, 0.0831588392358015, 0.09434072378248272, 0.08794449815655699, 0.11048525689852119, 0.10718532821329513, 0.10652840550583188, 0.10429429532130166, 0.10964119722052376, 0.09235799076533553, 0.11654878710166063, 0.08895277563888247, 0.0951784750317583, 0.08184213235531704, 0.10078716071525423, 0.08175294160252751, 0.0737185704678592, 0.1138548234311661, 0.08917159712550664, 0.07046926659670207, 0.0973360213165236, 0.0626779197171183, 0.1068787958362315, 0.0698786734944523, 0.07578183592546105, 0.0759277428952184, 0.07649060073170331, 0.08615846098354547, 0.10454929907723229, 0.0814515308725952, 0.09198041289749712, 0.11603779876881307, 0.11900349684280924, 0.11915837036501063, 0.13490656726431138, 0.07495317755654307, 0.06167461302610907, 0.09329953892986373, 0.08825536559123805, 0.06573150764302452, 0.0795939936127403, 0.09251018266866703, 0.06353361805034156, 0.07334265064927611, 0.09831368849419131, 0.08855449983684144, 0.09320614811512504, 0.08376462499398997, 0.09070440580939303, 0.11942432068362094, 0.08351812740363697, 0.13160383612802712, 0.09103577679926807, 0.09852504125325987, 0.10771778712768366, 0.08139841760149097, 0.08098412098565905, 0.06822607695761293, 0.10799915778754961, 0.0975234779243422, 0.10346692771014601, 0.06904399210568701, 0.17607535716920797, 0.12480440632541581, 0.10149450386219686, 0.0840360418994828, 0.08598357970171636, 0.09018396032918798, 0.07512697791404063, 0.11917934242156472, 0.08659524448437265, 0.10151226612010805, 0.07011539149697464, 0.09350606481922735, 0.07810869643298707, 0.08027608132008279, 0.09038156691459145, 0.07803052634295848, 0.08609284799877961, 0.08283362840071763, 0.08217005925898505, 0.06490066603268727, 0.0689640855140025, 0.09443608339470212, 0.12002962134262123, 0.07853423759783848, 0.10675387416440661, 0.09252654738945536, 0.0757198643935199, 0.07350351558168336, 0.08184507660715297, 0.08357307067749524, 0.08819095723994888], 'lr': [0.01, 0.01, 0.01, 0.01, 0.01, 0.01, 0.01, 0.01, 0.01, 0.01, 0.01, 0.01, 0.01, 0.01, 0.01, 0.01, 0.01, 0.01, 0.01, 0.01, 0.01, 0.01, 0.01, 0.01, 0.01, 0.01, 0.01, 0.01, 0.01, 0.01, 0.01, 0.01, 0.01, 0.01, 0.01, 0.01, 0.01, 0.01, 0.01, 0.01, 0.01, 0.01, 0.01, 0.01, 0.01, 0.01, 0.01, 0.01, 0.01, 0.01, 0.01, 0.01, 0.01, 0.01, 0.01, 0.01, 0.01, 0.01, 0.01, 0.01, 0.01, 0.01, 0.01, 0.01, 0.01, 0.01, 0.01, 0.01, 0.01, 0.01, 0.01, 0.01, 0.01, 0.01, 0.01, 0.01, 0.01, 0.01, 0.01, 0.01, 0.01, 0.01, 0.01, 0.01, 0.01, 0.01, 0.01, 0.01, 0.01, 0.01, 0.01, 0.01, 0.01, 0.01, 0.01, 0.01, 0.01, 0.01, 0.01, 0.01, 0.01, 0.01, 0.01, 0.01, 0.01, 0.01, 0.01, 0.01, 0.01, 0.01, 0.01, 0.01, 0.01, 0.01, 0.01, 0.01, 0.01, 0.01, 0.01, 0.01, 0.01, 0.01, 0.01, 0.01, 0.01, 0.01, 0.01, 0.01, 0.01, 0.01, 0.01, 0.01, 0.01, 0.01, 0.01, 0.01, 0.01, 0.01, 0.01, 0.01, 0.01, 0.01, 0.01, 0.01, 0.01, 0.01, 0.01, 0.01, 0.01, 0.01, 0.01, 0.01, 0.01, 0.01, 0.01, 0.01, 0.01, 0.01, 0.01, 0.01, 0.01, 0.01, 0.01, 0.01, 0.01, 0.01, 0.01, 0.01, 0.01, 0.01, 0.01, 0.01, 0.01, 0.01, 0.01, 0.01, 0.01, 0.01, 0.01, 0.01, 0.01, 0.01, 0.01, 0.01, 0.01, 0.01, 0.01, 0.01, 0.01, 0.01, 0.01, 0.01, 0.01, 0.01, 0.01, 0.01, 0.01, 0.01, 0.01, 0.01, 0.01, 0.01, 0.01, 0.01, 0.01, 0.01, 0.01, 0.01, 0.01, 0.01, 0.01, 0.01, 0.01, 0.01, 0.01, 0.01, 0.01, 0.01, 0.01, 0.01, 0.01, 0.01, 0.01, 0.01, 0.01, 0.01, 0.01, 0.01, 0.01, 0.01, 0.01, 0.01, 0.01, 0.01, 0.01, 0.01, 0.01, 0.01, 0.01, 0.01, 0.01, 0.01, 0.01, 0.01, 0.01, 0.01, 0.01, 0.01, 0.01, 0.01, 0.01, 0.01, 0.01, 0.01, 0.01, 0.01, 0.01, 0.01, 0.01, 0.01, 0.01, 0.01, 0.01, 0.01, 0.01, 0.01, 0.01, 0.01, 0.01, 0.01, 0.01, 0.01, 0.01, 0.01, 0.01, 0.01, 0.01, 0.01, 0.01, 0.01, 0.01, 0.01, 0.01, 0.01, 0.01, 0.01, 0.01, 0.01, 0.01, 0.01, 0.01, 0.01, 0.01, 0.01, 0.01, 0.01, 0.01, 0.01, 0.01, 0.01, 0.01, 0.01, 0.01, 0.01, 0.01, 0.01, 0.01, 0.01, 0.01, 0.01, 0.01, 0.01, 0.01, 0.01, 0.01, 0.01, 0.01, 0.01, 0.01, 0.01, 0.01, 0.01, 0.01, 0.01, 0.01, 0.01, 0.01, 0.01, 0.01, 0.01, 0.01, 0.01, 0.01, 0.01, 0.01, 0.01, 0.01, 0.01, 0.01, 0.01, 0.01, 0.01, 0.01, 0.01, 0.01, 0.01, 0.01, 0.01, 0.01, 0.01, 0.01, 0.01, 0.01, 0.01, 0.01, 0.01, 0.01, 0.01, 0.01, 0.01, 0.01, 0.01, 0.01, 0.01, 0.01, 0.01, 0.01, 0.01, 0.01, 0.01, 0.01, 0.01, 0.01, 0.01, 0.01, 0.01, 0.01, 0.01, 0.01, 0.01, 0.01, 0.01, 0.01, 0.01, 0.01, 0.01, 0.01, 0.01, 0.01, 0.01, 0.01, 0.01, 0.01, 0.01, 0.01, 0.01, 0.01, 0.01, 0.01, 0.01, 0.01, 0.01, 0.01, 0.01, 0.01, 0.01, 0.01, 0.01, 0.01, 0.01, 0.01, 0.01, 0.01, 0.01, 0.01, 0.01, 0.01, 0.01, 0.01, 0.01, 0.01, 0.01, 0.01, 0.01, 0.01, 0.01, 0.01, 0.01, 0.01, 0.01, 0.01, 0.01, 0.01, 0.01, 0.01, 0.01, 0.01, 0.01, 0.01, 0.01, 0.01, 0.01, 0.01, 0.01, 0.01, 0.01, 0.01, 0.01, 0.01, 0.01, 0.01, 0.01, 0.01], 'train_mse': [1.26859938847165, 0.6710960087251011, 0.5412248323383329, 0.5917463543249077, 0.6343930136765178, 0.3548072349185122, 0.4046502228978421, 0.32629322240932224, 0.2615394465341641, 0.21791727780669015, 0.17568100413428894, 0.16299177189748684, 0.18765641912456776, 0.1517107131096268, 0.17145890782521178, 0.23730699153656698, 0.2043192504729662, 0.1847165801051358, 0.19330390317737564, 0.1604474835479304, 0.16969200964543718, 0.15484795260407003, 0.14801917360520694, 0.1462667131582345, 0.16681769990837272, 0.14580090739606547, 0.15601478625100962, 0.136152446358817, 0.14590462053912828, 0.12855351377827987, 0.13007510506693767, 0.15033384612192, 0.13086656959724433, 0.14170031773418176, 0.11950370750086887, 0.13645561527731095, 0.13484559362333018, 0.148963422684439, 0.12718352110617984, 0.13458825671225125, 0.11813017606439508, 0.1375349334118892, 0.12793441479543152, 0.1269555575293692, 0.12445479548575424, 0.10993918870300906, 0.11290988047304784, 0.12498519495143776, 0.11710121241147332, 0.11382027624173342, 0.1171955533899471, 0.11009163309025356, 0.1071137879204378, 0.1110825236982219, 0.10162251931742027, 0.10163303357146322, 0.10637987909120024, 0.11796429966820192, 0.10785343445817594, 0.10148843390567586, 0.09846792557050868, 0.11459473619762069, 0.11434737060482641, 0.11809086309961186, 0.10811332413609724, 0.09104942687170474, 0.09388106731386063, 0.10956890900613195, 0.08498876626039692, 0.09297655703074846, 0.11293506704638377, 0.11969157021031966, 0.0897686258949805, 0.09341239253351707, 0.08156829249085493, 0.10531870267635746, 0.0851814534396383, 0.09145841375897497, 0.1032783737332296, 0.102294203753207, 0.09734185413116901, 0.097611537337268, 0.10544084308687117, 0.09248235380063388, 0.11009244823405964, 0.08724823258538456, 0.10220058479390258, 0.10403866823475955, 0.10240114975699412, 0.0864437458496059, 0.09011171864708517, 0.0841898557046228, 0.09801495778405918, 0.09779947577482939, 0.11467718884564218, 0.09482486021556906, 0.10479907680151321, 0.09847970270789068, 0.08854134212735885, 0.12333438405761848, 0.08664022931192031, 0.09090149722515112, 0.10748977365849996, 0.1394025874722523, 0.10117281934961334, 0.10136894582865288, 0.10901707840578526, 0.11880719075009613, 0.13097489168356252, 0.09170842634840964, 0.09872848619070228, 0.1036903436819635, 0.09321151064058734, 0.09820155162381496, 0.09540899671378807, 0.09432230901997875, 0.09197046140236576, 0.10476951461199537, 0.10035559188831011, 0.14037881955678305, 0.10056258263829762, 0.10157063714991969, 0.09100453319442098, 0.08945160951950884, 0.09349460704198957, 0.09258359000982078, 0.09997337060600392, 0.09867369350705757, 0.08613502279589606, 0.1012158363324984, 0.09285818057806974, 0.09408694110288515, 0.08613549470770349, 0.0858773972859782, 0.08482568992423012, 0.0953924042516804, 0.09880090813979309, 0.11577285418711719, 0.12169898220240287, 0.1266046956770111, 0.1256791124881671, 0.11208827151352432, 0.11375478180067937, 0.08525540102196144, 0.08477140193828209, 0.10162234260401179, 0.09787201531253427, 0.09866884778265432, 0.10295454301662878, 0.08137889308017027, 0.07971186080769994, 0.08583431344362759, 0.07780348339152685, 0.08309190155546672, 0.08587942528260331, 0.09131042408506608, 0.09958531053937608, 0.09719849903835857, 0.10376802220911079, 0.0840185905038103, 0.09471880340485522, 0.07903313526943091, 0.07516420072403986, 0.08013938605121257, 0.0781617737844352, 0.07481497497461893, 0.07211055672504654, 0.08714091742171362, 0.08416333138726977, 0.07422168398918268, 0.07814577146315367, 0.06900431683483875, 0.0669557794111395, 0.06363617406735216, 0.06511808620100024, 0.08482691483428378, 0.07661921316511786, 0.09915618716551312, 0.0866725219734045, 0.09654169070498662, 0.1071839244374196, 0.09790559744878473, 0.103818375849076, 0.07582274836553868, 0.10000995745397151, 0.07980878076969657, 0.08662576612464302, 0.10216376594769104, 0.10902968287152177, 0.08455271694566027, 0.08627871328447323, 0.07845556603923942, 0.08981647720911386, 0.09970552721653049, 0.11134919374851589, 0.09255141166793267, 0.0747388246482319, 0.08010917208722554, 0.07410406170449542, 0.08481752729407359, 0.07404215367813317, 0.07363214449140959, 0.091349968099617, 0.07497587205531357, 0.076147022339969, 0.08399186164720525, 0.07940137332453368, 0.08234073271028029, 0.08907213807020643, 0.09162715516375929, 0.11563823272960656, 0.09154132312101322, 0.08086727273043667, 0.06911506120301344, 0.10582450985810417, 0.07005416892396443, 0.06508004431758363, 0.07084335863217463, 0.06710144220833958, 0.072073069915348, 0.07735908331185117, 0.08222150114624326, 0.06891165270951963, 0.0953550594651242, 0.07056161098898879, 0.08973120147406773, 0.07247662342311197, 0.06735832770825256, 0.06756924050112229, 0.06367844155890803, 0.05813111216128013, 0.07041308026473629, 0.06462344614242159, 0.07516728244025911, 0.07891931596845404, 0.0910532315494175, 0.08042583084096261, 0.09222232361145301, 0.07436123437758022, 0.08580028479558759, 0.11434361596882282, 0.11433204618985601, 0.1030056204656527, 0.09329650755052432, 0.09659624827080589, 0.09577783755018374, 0.07910645536783732, 0.07082110171630868, 0.08134279453248672, 0.0699362779298795, 0.06016739969791802, 0.06895943443053981, 0.058115429946890035, 0.06282270866539429, 0.06253662120513635, 0.05061840578044039, 0.07301889173361552, 0.08410765219886333, 0.0980236125302524, 0.07008498947091046, 0.08255414428977427, 0.06538166665877534, 0.060843406823065944, 0.06913717294067587, 0.06007074706591776, 0.07133952987800385, 0.07884310328882155, 0.07149748292872757, 0.07970374287800538, 0.06807135451454258, 0.06577841582007436, 0.09978586940087975, 0.09105940425539631, 0.07256046512215708, 0.08102348405532155, 0.07427817959104367, 0.06997720312107188, 0.06818709190961376, 0.059568510023765175, 0.07874109767880559, 0.07449366990843154, 0.06493084893684059, 0.10690574019210189, 0.0796592265608856, 0.05358565435551889, 0.06503919533681193, 0.06200398538749956, 0.05826899398619448, 0.06615094364960136, 0.07321043859014083, 0.0677722730547825, 0.08497548226447588, 0.06536209721901623, 0.0572720213845719, 0.060811030499596706, 0.06496217900482398, 0.06090995867241953, 0.07604279425710848, 0.06679249936299723, 0.06765464420070971, 0.06434265931293598, 0.05843382572733392, 0.09240697175025037, 0.07498973264723968, 0.062372635150441454, 0.053206916412169285, 0.0577089320304815, 0.0745116929969491, 0.053996539355109424, 0.05719632456273893, 0.05295044356257634, 0.04994760436925924, 0.05314090574572924, 0.06498703771131775, 0.07071384963393874, 0.09144480304086172, 0.08382628944134102, 0.05877680505090213, 0.07225496161625918, 0.07723833896780292, 0.08455483821278864, 0.0682239076118664, 0.07146153645709735, 0.07116822471006458, 0.05806994713843962, 0.054577241415610094, 0.050147082195008234, 0.0582217926424674, 0.06527413535883562, 0.05947712643356018, 0.057869591691881286, 0.060090525204407004, 0.05757660758759032, 0.058632502963256734, 0.05533208151425343, 0.05394035682586319, 0.05933713179985866, 0.05968233335659842, 0.05311470417593252, 0.057979056273980326, 0.06278605032251523, 0.0504767335662432, 0.06631358441933455, 0.04914411575995608, 0.058418314040792424, 0.04814193016630284, 0.049291393143384744, 0.056032159407916775, 0.05338903781815667, 0.06826587300590033, 0.08908305887985897, 0.07443293737566449, 0.08082177651457668, 0.06302026908207951, 0.06450188164829952, 0.06352419948627835, 0.08505562993536045, 0.06177399237563384, 0.056811506272066846, 0.0587121919608769, 0.05760824026061749, 0.06504057132786478, 0.07929791907335287, 0.07129072121503774, 0.06771484395881366, 0.05796628038272117, 0.051354608446206665, 0.05585793725681513, 0.056724838448154555, 0.051154326171947484, 0.0481488189177264, 0.050193947244882485, 0.05465839474395622, 0.04975124687105829, 0.04487815538160249, 0.04527090342718866, 0.05229699659087642, 0.05805201545039538, 0.050911408937940515, 0.052028965590808184, 0.049938939237392524, 0.05066494530151594, 0.04908313246212611, 0.050971808231082646, 0.052222227381798644, 0.06299434978159912, 0.05854541638111582, 0.06757313385632394, 0.05878583586970907, 0.05614524986506273, 0.07461600279529272, 0.07619585302885583, 0.05798648141339037, 0.05520134844591984, 0.06169298691806166, 0.053031081061458304, 0.0524332155268292, 0.0808839564842405, 0.0557161647427105, 0.04047677840454931, 0.053148886829369336, 0.059470915485389186, 0.04761338497272424, 0.04715890562518157, 0.050095572187424976, 0.04764744590314609, 0.056057271716128176, 0.05535833132612345, 0.07726069947422008, 0.0817425137208485, 0.054179367169597654, 0.0657723808027298, 0.05017035773958596, 0.05135667728548633, 0.05015549751302146, 0.05276056645489093, 0.06074341005058908, 0.06699972767242286, 0.07560548315697964, 0.05294102643641846, 0.051251535617725386, 0.048810633638851395, 0.05530087913916174, 0.05617018665039391, 0.06454619613852466, 0.06761460352589842, 0.05972790117383596, 0.05001129699065843, 0.06772022092982596, 0.05777757081073238, 0.06300061328963724, 0.058813038077147176, 0.043934877966146355, 0.049075558329047135, 0.053380385180129636, 0.04559564520540761, 0.04770419846970705, 0.045603188343472156, 0.04312639763357499, 0.054431024533829565, 0.06969886789318039, 0.06070105097479193, 0.08034003273406028, 0.05387324478954154, 0.048605010224195146, 0.057701502765387054, 0.047123537921539414, 0.04758985099970606, 0.06259281423298946, 0.05848693237785215, 0.04599579390537969, 0.0455674355840665, 0.0539910651651163], 'train_mae': [0.7532392235284676, 0.5811376163509674, 0.5427038999348806, 0.4593835212505689, 0.4894673148409431, 0.411290143743465, 0.4410560862749358, 0.3988911990913841, 0.3693297690568771, 0.33453603158228074, 0.2983394394644074, 0.3072755912746086, 0.3244685438291515, 0.2961803691637872, 0.29999598887428325, 0.34084007329376037, 0.3166893997150345, 0.2975976243650209, 0.3175717646875195, 0.2852559016534852, 0.29626208648122, 0.27836810400042844, 0.2708348535210936, 0.280657296704232, 0.29546041206205775, 0.2636840485263601, 0.29141019681890556, 0.26318621513703006, 0.278227044266004, 0.2606016460214984, 0.2640503952062015, 0.2874443618535913, 0.25815238024014414, 0.26866965100298695, 0.24832506760637132, 0.2630569829321285, 0.26662606217943885, 0.26016769466390194, 0.25845053066274637, 0.26807033754609066, 0.2406955828183289, 0.2515074506268974, 0.2524083697970584, 0.2610444244340986, 0.2559891394321843, 0.24017291871294205, 0.2399918653381041, 0.2566752389624601, 0.2459956320360326, 0.24520530413825103, 0.24773532468930337, 0.23834059130861626, 0.23667907015712944, 0.23941866787974977, 0.22914009034390406, 0.22756384515913422, 0.23526767344598315, 0.25145190992116173, 0.23358408155637883, 0.23286514733063865, 0.23093940602105117, 0.24841327576240377, 0.23951775468449568, 0.24778286715275943, 0.23755040797501265, 0.22164065128048635, 0.22724146761227804, 0.24593513003453576, 0.21766259480464334, 0.2287851787163752, 0.24436846574021656, 0.24710111280263589, 0.2206689861269128, 0.23154643812878423, 0.21490051747491354, 0.2293656069893623, 0.21898435937831556, 0.21674620351462262, 0.23120991457063308, 0.2166051777736842, 0.22316327469908617, 0.21948308443554126, 0.23009829965925058, 0.21160136189546028, 0.23627384179327343, 0.20642766842961047, 0.2268266090239657, 0.21543976066608417, 0.22677466479554184, 0.20753523625114761, 0.21278910445994273, 0.20227321668520906, 0.22394651049545822, 0.21834624077197606, 0.23911724539458315, 0.22100529076748204, 0.22292731817388178, 0.22084265864222424, 0.20833498838540648, 0.24798242333861084, 0.2074068978832363, 0.20976934750355575, 0.23830723683839306, 0.25338405553363935, 0.22964748747909802, 0.22408861560663848, 0.23942586283162817, 0.2369701940023836, 0.25575856372394895, 0.20704801053212138, 0.2249123300588854, 0.22676485629843557, 0.21531800937321863, 0.22034086774452918, 0.21277922055042378, 0.2168890617956118, 0.21681276344372594, 0.23013732955064914, 0.2211105840167613, 0.2605534105783478, 0.2257866022395764, 0.22921028968431792, 0.21212080195751784, 0.20425031066566854, 0.21830257441665915, 0.2140054002077665, 0.21396509933551053, 0.2177571774231392, 0.20413812187719912, 0.22245902617721316, 0.21852433355167628, 0.20614235677280318, 0.20683584827676343, 0.20596315144378882, 0.20139393670179465, 0.20710015414002614, 0.2110869169790278, 0.22916185610987347, 0.23409386163841425, 0.23475588933349367, 0.23258543626227898, 0.21463895923246204, 0.2360633692017394, 0.21168494512563046, 0.20023935919585512, 0.21839132120267435, 0.21405020953141202, 0.21292753257588592, 0.22599408822438302, 0.20358728274887564, 0.20803360387117048, 0.21227425289910964, 0.2014200866828325, 0.2162757602781077, 0.2170514614712426, 0.21860136398807054, 0.22941875804453227, 0.22092051513442124, 0.2293490466607756, 0.2021367750888978, 0.22549324760104855, 0.19719853586464126, 0.20262037216898668, 0.21213324227818572, 0.19440710227582794, 0.1945993134047298, 0.1969116877419664, 0.20511293145404264, 0.20909513959265427, 0.1920970621519058, 0.19815499304894388, 0.18879188605887168, 0.18782339079787322, 0.18659612914696333, 0.18361586653946022, 0.21389541465226236, 0.1952882183890177, 0.20330690081295943, 0.1867862391992154, 0.20435829320971755, 0.21359138654867063, 0.20227940196931302, 0.22384248833693907, 0.1917787393424551, 0.22103192966976296, 0.19903096999630485, 0.20159867362795358, 0.22238812835847968, 0.2377249241375201, 0.19414094815772528, 0.19997229048055745, 0.19785034898932927, 0.20384687049837188, 0.19381536636031316, 0.21721867579956464, 0.20381488596497327, 0.1916077716012075, 0.20186819931795372, 0.1975718995389718, 0.20986273652547718, 0.18967529803302063, 0.19597842186555364, 0.2203466742679244, 0.19342466625772842, 0.19624349511261618, 0.21250287024562434, 0.1905956062505563, 0.19599633164225688, 0.20583073927286338, 0.19484546093376084, 0.22665080234099402, 0.21963856339150042, 0.20124790901739315, 0.1895890439486146, 0.23235263295308767, 0.18587958491113454, 0.18156086329899657, 0.18833132281605725, 0.18392094649924964, 0.18636635558637027, 0.18613150996094496, 0.20835360727087682, 0.1876326656133315, 0.2175730483266954, 0.18584061942420896, 0.21120967544822317, 0.18920048187063887, 0.187205523984033, 0.1828372729632433, 0.17856738574326983, 0.16671381730504833, 0.18712763513316683, 0.1772204119164611, 0.19463644481971246, 0.1878051749962179, 0.2106210840140677, 0.19649662868809714, 0.20193322293148477, 0.17538478891230663, 0.1981374874156064, 0.20953134859934983, 0.2018714410335009, 0.20098711403187977, 0.1879191657444306, 0.19654811488831125, 0.17906181738902385, 0.18698386733743064, 0.1734797494815528, 0.19707072129351177, 0.17441797835130426, 0.1674257783508473, 0.18874276101989462, 0.17303876324339085, 0.18154035602086674, 0.1811705732838328, 0.1666922529177326, 0.1926666989627192, 0.17888014938105576, 0.20861868928776012, 0.18100555595794715, 0.20249946571634972, 0.17818385709770745, 0.18102519643612217, 0.19484775562696993, 0.1786631664672203, 0.1881848932510287, 0.19778584119358322, 0.18932953042637152, 0.1973584009930441, 0.1842001071691483, 0.18497555635353105, 0.22568380950040848, 0.2105959453940423, 0.19311027113792717, 0.21352182329937694, 0.20724313509359957, 0.18562446302658275, 0.18638534855299949, 0.17546256984877595, 0.19578762014750545, 0.18863358140685563, 0.18256736382873534, 0.20584546053401634, 0.19755297466898852, 0.17339455951412985, 0.18944938544746578, 0.18332355344537005, 0.1730360767520728, 0.18307817007597843, 0.19959549490800446, 0.19062920182055235, 0.2002329912806774, 0.18163443982261313, 0.16992226792027237, 0.18025211511942563, 0.1801926176061054, 0.18167745395897975, 0.1954306265521516, 0.18634835226102675, 0.19041362867148934, 0.18274777765455322, 0.17115712330282515, 0.1970529703265307, 0.193149188681548, 0.17884665195263774, 0.1642121686347074, 0.17527342458361808, 0.19582670301083735, 0.17436009397570715, 0.17796148120413796, 0.16598324314323526, 0.16813313146679948, 0.17039284216947428, 0.1838303567066693, 0.19642406561029693, 0.21358027254531337, 0.18870960232431142, 0.18394334364632148, 0.2019877785010525, 0.19195637592685658, 0.199549532584395, 0.18807614655304672, 0.19278882400261219, 0.19496220002662878, 0.18271253856615666, 0.17465701568381614, 0.16360492698367127, 0.17762946045289307, 0.1843258684684968, 0.16891946997404167, 0.1776066126234693, 0.17757336073076854, 0.16157029443194187, 0.16912811103560782, 0.1721448681299404, 0.1690002477233958, 0.17125784449239279, 0.17753235171634704, 0.1733422891430422, 0.17865414479629438, 0.1794185133872454, 0.1682425016793132, 0.1906475424415885, 0.16751303085002978, 0.1754892321532602, 0.1600767127960842, 0.1636864832645945, 0.16959834929436518, 0.168772533337733, 0.18744431014118804, 0.2116430686499454, 0.18881154539642553, 0.20149819769057525, 0.1808183443696989, 0.18361238429164384, 0.1719176156195136, 0.20013803865392596, 0.17074673322170725, 0.17160874781941352, 0.17505278451291575, 0.16096654780414227, 0.16902342115643773, 0.1930442303114858, 0.1849779184630058, 0.181660280033098, 0.17585865486975796, 0.17027873114880274, 0.1766613860655767, 0.1729979067240389, 0.16545898870560258, 0.16046182544292342, 0.1665122500361774, 0.18020748549858182, 0.16846046404419973, 0.1568276620930106, 0.15797819456957218, 0.16866808032768033, 0.17864960321366677, 0.16017120978116828, 0.1601040809217019, 0.16187999047668117, 0.15873412376453705, 0.157907913041653, 0.15410940419645455, 0.15285351152045754, 0.1676465652492168, 0.1653430075752557, 0.16914299731653912, 0.15847717639038408, 0.15883022440244776, 0.16286714872499344, 0.16760957801244158, 0.15814663539840682, 0.16294117451777046, 0.16244902979989834, 0.15243836546375483, 0.15820865617368426, 0.1757322882799192, 0.16127058223815888, 0.15091320936496672, 0.1508325254916823, 0.15468743334207138, 0.14948416651490976, 0.15494780071567177, 0.15394731705372605, 0.16035262375959347, 0.16126960967457646, 0.16188168739633582, 0.19149204314095755, 0.2079135649203128, 0.16699641933374398, 0.1892147352412233, 0.15904115997301096, 0.16563837356043612, 0.1634636875711672, 0.16187037530415643, 0.16424448010701237, 0.17117669717807446, 0.17146587838959176, 0.16148670294114395, 0.15700447367529954, 0.15444051494301933, 0.16513119169195253, 0.16751842216479515, 0.1735973410911449, 0.1671292366575921, 0.17200555043307245, 0.15990882984819052, 0.16835565223568744, 0.15674714947574553, 0.16804903355608178, 0.17305984855765286, 0.15384324811485475, 0.15528502688443765, 0.1626490270290227, 0.15273099902960524, 0.1565197517439416, 0.1549187320345726, 0.15240355192385546, 0.16130320247520918, 0.16906851001019493, 0.15145972633788474, 0.18201155371718397, 0.16823317085515171, 0.16041007192414497, 0.16824539875264166, 0.1513864296795019, 0.16055605589708388, 0.1737497205677302, 0.16425748204087814, 0.15740624458013386, 0.15736795879889842, 0.1650027487359863]}\n"
     ]
    },
    {
     "data": {
      "application/scrapbook.scrap.json+json": {
       "data": 0.24113231529390045,
       "encoder": "json",
       "name": "TabNet MAE",
       "version": 1
      }
     },
     "metadata": {
      "scrapbook": {
       "data": true,
       "display": false,
       "name": "TabNet MAE"
      }
     },
     "output_type": "display_data"
    },
    {
     "name": "stdout",
     "output_type": "stream",
     "text": [
      "TabNet MAE 0.24113231529390045\n"
     ]
    },
    {
     "data": {
      "image/png": "[encoded data removed]",
      "text/plain": [
       "<Figure size 432x288 with 1 Axes>"
      ]
     },
     "metadata": {
      "needs_background": "light"
     },
     "output_type": "display_data"
    }
   ],
   "source": [
    "lr = 0.01\n",
    "\n",
    "y_train = np.reshape(y_train, (-1, 1))\n",
    "y_test = np.reshape(y_test, (-1, 1))\n",
    "\n",
    "device = torch.device('cuda' if torch.cuda.is_available() else 'cpu')\n",
    "mae_tab= baselineModels.tabnetreg(X_train,y_train,X_test,y_test,batch_size,n_features,n_target,n_epochs, lr)\n",
    "sb.glue(\"TabNet MAE\",mae_tab)\n",
    "print(\"TabNet MAE\",mae_tab)"
   ]
  }
 ],
 "metadata": {
  "kernelspec": {
   "display_name": "Python 3.7.3 64-bit",
   "language": "python",
   "name": "python3"
  },
  "language_info": {
   "codemirror_mode": {
    "name": "ipython",
    "version": 3
   },
   "file_extension": ".py",
   "mimetype": "text/x-python",
   "name": "python",
   "nbconvert_exporter": "python",
   "pygments_lexer": "ipython3",
   "version": "3.8.13"
  },
  "papermill": {
   "default_parameters": {},
   "duration": 236.477964,
   "end_time": "2022-07-21T10:17:11.141918",
   "environment_variables": {},
   "exception": null,
   "input_path": "BaselineModels.ipynb",
   "output_path": "./BaseLine_Model_Output/BaselineModels_output_1.ipynb",
   "parameters": {},
   "start_time": "2022-07-21T10:13:14.663954",
   "version": "2.3.3"
  },
  "vscode": {
   "interpreter": {
    "hash": "aee8b7b246df8f9039afb4144a1f6fd8d2ca17a180786b69acc140d282b71a49"
   }
  }
 },
 "nbformat": 4,
 "nbformat_minor": 5
}