{
 "cells": [
  {
   "cell_type": "markdown",
   "id": "ce2d0543",
   "metadata": {
    "papermill": {
     "duration": 0.007548,
     "end_time": "2022-07-21T10:29:48.031484",
     "exception": false,
     "start_time": "2022-07-21T10:29:48.023936",
     "status": "completed"
    },
    "tags": []
   },
   "source": [
    "## Import Libraries "
   ]
  },
  {
   "cell_type": "code",
   "execution_count": 1,
   "id": "54259796",
   "metadata": {
    "execution": {
     "iopub.execute_input": "2022-07-21T10:29:48.049573Z",
     "iopub.status.busy": "2022-07-21T10:29:48.048811Z",
     "iopub.status.idle": "2022-07-21T10:29:48.071642Z",
     "shell.execute_reply": "2022-07-21T10:29:48.066752Z"
    },
    "papermill": {
     "duration": 0.041346,
     "end_time": "2022-07-21T10:29:48.077213",
     "exception": false,
     "start_time": "2022-07-21T10:29:48.035867",
     "status": "completed"
    },
    "tags": []
   },
   "outputs": [],
   "source": [
    "import warnings\n",
    "import sys\n",
    "sys.path.insert(0, '../../src')\n",
    "warnings.filterwarnings('ignore')"
   ]
  },
  {
   "cell_type": "code",
   "execution_count": 2,
   "id": "d69101d4",
   "metadata": {
    "execution": {
     "iopub.execute_input": "2022-07-21T10:29:48.102476Z",
     "iopub.status.busy": "2022-07-21T10:29:48.101531Z",
     "iopub.status.idle": "2022-07-21T10:30:02.096455Z",
     "shell.execute_reply": "2022-07-21T10:30:02.094896Z"
    },
    "papermill": {
     "duration": 14.018856,
     "end_time": "2022-07-21T10:30:02.099900",
     "exception": false,
     "start_time": "2022-07-21T10:29:48.081044",
     "status": "completed"
    },
    "tags": []
   },
   "outputs": [],
   "source": [
    "import statsModel\n",
    "import scrapbook as sb \n",
    "import torch \n",
    "import statsModel\n",
    "import baselineModels\n",
    "import bostonDataset\n",
    "import dataset \n",
    "from torch.utils.data import random_split \n",
    "from sklearn.model_selection import train_test_split\n",
    "import numpy as np\n",
    "from sklearn.metrics import mean_squared_error,mean_absolute_error "
   ]
  },
  {
   "cell_type": "markdown",
   "id": "34a8cd14",
   "metadata": {
    "papermill": {
     "duration": 0.004561,
     "end_time": "2022-07-21T10:30:02.163940",
     "exception": false,
     "start_time": "2022-07-21T10:30:02.159379",
     "status": "completed"
    },
    "tags": []
   },
   "source": [
    "## Import Dataset \n"
   ]
  },
  {
   "cell_type": "code",
   "execution_count": 3,
   "id": "0347677e",
   "metadata": {
    "execution": {
     "iopub.execute_input": "2022-07-21T10:30:02.177099Z",
     "iopub.status.busy": "2022-07-21T10:30:02.176628Z",
     "iopub.status.idle": "2022-07-21T10:30:02.213010Z",
     "shell.execute_reply": "2022-07-21T10:30:02.212267Z"
    },
    "papermill": {
     "duration": 0.04778,
     "end_time": "2022-07-21T10:30:02.215814",
     "exception": false,
     "start_time": "2022-07-21T10:30:02.168034",
     "status": "completed"
    },
    "tags": []
   },
   "outputs": [
    {
     "name": "stdout",
     "output_type": "stream",
     "text": [
      "         X1        X2        X3        X4        X5        X6        X7  \\\n",
      "0 -0.419782  0.284830 -1.287909 -0.272599 -0.144217  0.413672 -0.120013   \n",
      "1 -0.417339 -0.487722 -0.593381 -0.272599 -0.740262  0.194274  0.367166   \n",
      "2 -0.417342 -0.487722 -0.593381 -0.272599 -0.740262  1.282714 -0.265812   \n",
      "3 -0.416750 -0.487722 -1.306878 -0.272599 -0.835284  1.016303 -0.809889   \n",
      "4 -0.412482 -0.487722 -1.306878 -0.272599 -0.835284  1.228577 -0.511180   \n",
      "\n",
      "         X8        X9       X10       X11       X12       X13         Y  \n",
      "0  0.140214 -0.982843 -0.666608 -1.459000  0.441052 -1.075562  0.159686  \n",
      "1  0.557160 -0.867883 -0.987329 -0.303094  0.441052 -0.492439 -0.101524  \n",
      "2  0.557160 -0.867883 -0.987329 -0.303094  0.396427 -1.208727  1.324247  \n",
      "3  1.077737 -0.752922 -1.106115  0.113032  0.416163 -1.361517  1.182758  \n",
      "4  1.077737 -0.752922 -1.106115  0.113032  0.441052 -1.026501  1.487503  \n"
     ]
    }
   ],
   "source": [
    "n_features = 13\n",
    "n_samples= 506\n",
    "n_target = 1 \n",
    "X,Y = bostonDataset.boston_data()"
   ]
  },
  {
   "cell_type": "code",
   "execution_count": 4,
   "id": "4a879990",
   "metadata": {
    "execution": {
     "iopub.execute_input": "2022-07-21T10:30:02.224939Z",
     "iopub.status.busy": "2022-07-21T10:30:02.224636Z",
     "iopub.status.idle": "2022-07-21T10:30:02.229768Z",
     "shell.execute_reply": "2022-07-21T10:30:02.228749Z"
    },
    "papermill": {
     "duration": 0.012562,
     "end_time": "2022-07-21T10:30:02.232375",
     "exception": false,
     "start_time": "2022-07-21T10:30:02.219813",
     "status": "completed"
    },
    "tags": []
   },
   "outputs": [],
   "source": [
    "# Train test split for dataset \n",
    "real_dataset = dataset.CustomDataset(X,Y)\n",
    "X_train, X_test, y_train, y_test = train_test_split(X, Y, test_size=0.2)"
   ]
  },
  {
   "cell_type": "markdown",
   "id": "534d5f0b",
   "metadata": {
    "papermill": {
     "duration": 0.003492,
     "end_time": "2022-07-21T10:30:02.239421",
     "exception": false,
     "start_time": "2022-07-21T10:30:02.235929",
     "status": "completed"
    },
    "tags": []
   },
   "source": [
    "## Stats Model \n",
    "\n"
   ]
  },
  {
   "cell_type": "code",
   "execution_count": 5,
   "id": "836b8303",
   "metadata": {
    "execution": {
     "iopub.execute_input": "2022-07-21T10:30:02.247296Z",
     "iopub.status.busy": "2022-07-21T10:30:02.247003Z",
     "iopub.status.idle": "2022-07-21T10:30:02.479014Z",
     "shell.execute_reply": "2022-07-21T10:30:02.478147Z"
    },
    "papermill": {
     "duration": 0.239056,
     "end_time": "2022-07-21T10:30:02.481566",
     "exception": false,
     "start_time": "2022-07-21T10:30:02.242510",
     "status": "completed"
    },
    "tags": []
   },
   "outputs": [
    {
     "name": "stderr",
     "output_type": "stream",
     "text": [
      "No artists with labels found to put in legend.  Note that artists whose label start with an underscore are ignored when legend() is called with no argument.\n"
     ]
    },
    {
     "name": "stdout",
     "output_type": "stream",
     "text": [
      "                                 OLS Regression Results                                \n",
      "=======================================================================================\n",
      "Dep. Variable:                      y   R-squared (uncentered):                   0.754\n",
      "Model:                            OLS   Adj. R-squared (uncentered):              0.746\n",
      "Method:                 Least Squares   F-statistic:                              92.07\n",
      "Date:                Thu, 21 Jul 2022   Prob (F-statistic):                   3.30e-110\n",
      "Time:                        16:00:02   Log-Likelihood:                         -300.49\n",
      "No. Observations:                 404   AIC:                                      627.0\n",
      "Df Residuals:                     391   BIC:                                      679.0\n",
      "Df Model:                          13                                                  \n",
      "Covariance Type:            nonrobust                                                  \n",
      "==============================================================================\n",
      "                 coef    std err          t      P>|t|      [0.025      0.975]\n",
      "------------------------------------------------------------------------------\n",
      "x1            -0.1103      0.035     -3.165      0.002      -0.179      -0.042\n",
      "x2             0.1173      0.039      2.987      0.003       0.040       0.195\n",
      "x3             0.0220      0.051      0.435      0.664      -0.077       0.121\n",
      "x4             0.0911      0.026      3.444      0.001       0.039       0.143\n",
      "x5            -0.1842      0.054     -3.437      0.001      -0.290      -0.079\n",
      "x6             0.3148      0.036      8.694      0.000       0.244       0.386\n",
      "x7             0.0034      0.046      0.073      0.942      -0.087       0.093\n",
      "x8            -0.3299      0.052     -6.400      0.000      -0.431      -0.229\n",
      "x9             0.2873      0.069      4.164      0.000       0.152       0.423\n",
      "x10           -0.2039      0.075     -2.717      0.007      -0.351      -0.056\n",
      "x11           -0.2048      0.035     -5.904      0.000      -0.273      -0.137\n",
      "x12            0.1242      0.030      4.210      0.000       0.066       0.182\n",
      "x13           -0.4514      0.044    -10.205      0.000      -0.538      -0.364\n",
      "==============================================================================\n",
      "Omnibus:                      147.460   Durbin-Watson:                   1.771\n",
      "Prob(Omnibus):                  0.000   Jarque-Bera (JB):              587.757\n",
      "Skew:                           1.587   Prob(JB):                    2.34e-128\n",
      "Kurtosis:                       7.985   Cond. No.                         9.46\n",
      "==============================================================================\n",
      "\n",
      "Notes:\n",
      "[1] R² is computed without centering (uncentered) since the model does not contain a constant.\n",
      "[2] Standard Errors assume that the covariance matrix of the errors is correctly specified.\n"
     ]
    },
    {
     "data": {
      "image/png": "[encoded data removed]",
      "text/plain": [
       "<Figure size 432x288 with 1 Axes>"
      ]
     },
     "metadata": {
      "needs_background": "light"
     },
     "output_type": "display_data"
    },
    {
     "name": "stdout",
     "output_type": "stream",
     "text": [
      "Performance Metrics\n",
      "Mean Squared Error: 0.28046974746279085\n",
      "Mean Absolute Error: 0.364211830217422\n",
      "Manhattan distance: 37.14960668217706\n",
      "Euclidean distance: 5.348636671265367\n"
     ]
    },
    {
     "data": {
      "application/scrapbook.scrap.json+json": {
       "data": 0.28046974746279085,
       "encoder": "json",
       "name": "Stats Model MSE",
       "version": 1
      }
     },
     "metadata": {
      "scrapbook": {
       "data": true,
       "display": false,
       "name": "Stats Model MSE"
      }
     },
     "output_type": "display_data"
    },
    {
     "data": {
      "application/scrapbook.scrap.json+json": {
       "data": 0.364211830217422,
       "encoder": "json",
       "name": "Stats Model MAE",
       "version": 1
      }
     },
     "metadata": {
      "scrapbook": {
       "data": true,
       "display": false,
       "name": "Stats Model MAE"
      }
     },
     "output_type": "display_data"
    },
    {
     "data": {
      "application/scrapbook.scrap.json+json": {
       "data": 37.14960668217706,
       "encoder": "json",
       "name": "Stats Model Manhattan Distance",
       "version": 1
      }
     },
     "metadata": {
      "scrapbook": {
       "data": true,
       "display": false,
       "name": "Stats Model Manhattan Distance"
      }
     },
     "output_type": "display_data"
    },
    {
     "data": {
      "application/scrapbook.scrap.json+json": {
       "data": 5.348636671265367,
       "encoder": "json",
       "name": "Stats Model Euclidean distance",
       "version": 1
      }
     },
     "metadata": {
      "scrapbook": {
       "data": true,
       "display": false,
       "name": "Stats Model Euclidean distance"
      }
     },
     "output_type": "display_data"
    },
    {
     "data": {
      "application/scrapbook.scrap.json+json": {
       "data": [
        -0.11027343914614718,
        0.11733906952781037,
        0.02197912851042856,
        0.09105226709932412,
        -0.18424208431009798,
        0.3147864425233329,
        0.0033553747923843746,
        -0.32993154817655457,
        0.2873169231260058,
        -0.20393713120395585,
        -0.20483219247883916,
        0.12420781972651465,
        -0.4513914602404834
       ],
       "encoder": "json",
       "name": "Coefficients",
       "version": 1
      }
     },
     "metadata": {
      "scrapbook": {
       "data": true,
       "display": false,
       "name": "Coefficients"
      }
     },
     "output_type": "display_data"
    },
    {
     "name": "stdout",
     "output_type": "stream",
     "text": [
      "Stats Model MAE 0.364211830217422\n"
     ]
    }
   ],
   "source": [
    "coefficients , y_pred =statsModel.statsModel(X_train,y_train,X_test,y_test)\n",
    "#Store MSE Value \n",
    "sb.glue(\"Coefficients\",coefficients)\n",
    "mae = mean_absolute_error(y_pred, y_test)\n",
    "print(\"Stats Model MAE\", mae)"
   ]
  },
  {
   "cell_type": "markdown",
   "id": "6f9ad538",
   "metadata": {
    "papermill": {
     "duration": 0.004693,
     "end_time": "2022-07-21T10:30:02.491060",
     "exception": false,
     "start_time": "2022-07-21T10:30:02.486367",
     "status": "completed"
    },
    "tags": []
   },
   "source": [
    "# Catboost Model "
   ]
  },
  {
   "cell_type": "code",
   "execution_count": 6,
   "id": "7ced4bc8",
   "metadata": {
    "execution": {
     "iopub.execute_input": "2022-07-21T10:30:02.501563Z",
     "iopub.status.busy": "2022-07-21T10:30:02.500877Z",
     "iopub.status.idle": "2022-07-21T10:30:05.197372Z",
     "shell.execute_reply": "2022-07-21T10:30:05.196724Z"
    },
    "papermill": {
     "duration": 2.70463,
     "end_time": "2022-07-21T10:30:05.199994",
     "exception": false,
     "start_time": "2022-07-21T10:30:02.495364",
     "status": "completed"
    },
    "tags": []
   },
   "outputs": [
    {
     "name": "stdout",
     "output_type": "stream",
     "text": [
      "Learning rate set to 0.03548\n",
      "0:\tlearn: 1.0047033\ttotal: 78.1ms\tremaining: 1m 18s\n",
      "1:\tlearn: 0.9841042\ttotal: 81.6ms\tremaining: 40.7s\n",
      "2:\tlearn: 0.9626492\ttotal: 84.8ms\tremaining: 28.2s\n",
      "3:\tlearn: 0.9450055\ttotal: 86.3ms\tremaining: 21.5s\n",
      "4:\tlearn: 0.9252325\ttotal: 88.1ms\tremaining: 17.5s\n",
      "5:\tlearn: 0.9065838\ttotal: 90.4ms\tremaining: 15s\n",
      "6:\tlearn: 0.8887023\ttotal: 93.1ms\tremaining: 13.2s\n",
      "7:\tlearn: 0.8707648\ttotal: 95.6ms\tremaining: 11.9s\n",
      "8:\tlearn: 0.8540089\ttotal: 97.4ms\tremaining: 10.7s\n",
      "9:\tlearn: 0.8366648\ttotal: 98.8ms\tremaining: 9.78s\n",
      "10:\tlearn: 0.8203443\ttotal: 101ms\tremaining: 9.1s\n",
      "11:\tlearn: 0.8040461\ttotal: 108ms\tremaining: 8.86s\n"
     ]
    },
    {
     "name": "stdout",
     "output_type": "stream",
     "text": [
      "12:\tlearn: 0.7892749\ttotal: 110ms\tremaining: 8.38s\n",
      "13:\tlearn: 0.7736762\ttotal: 112ms\tremaining: 7.9s\n",
      "14:\tlearn: 0.7593683\ttotal: 114ms\tremaining: 7.49s\n",
      "15:\tlearn: 0.7445336\ttotal: 116ms\tremaining: 7.1s\n",
      "16:\tlearn: 0.7326862\ttotal: 117ms\tremaining: 6.76s\n",
      "17:\tlearn: 0.7194892\ttotal: 118ms\tremaining: 6.46s\n",
      "18:\tlearn: 0.7064447\ttotal: 120ms\tremaining: 6.19s\n",
      "19:\tlearn: 0.6927316\ttotal: 121ms\tremaining: 5.94s\n",
      "20:\tlearn: 0.6781225\ttotal: 123ms\tremaining: 5.72s\n",
      "21:\tlearn: 0.6669463\ttotal: 124ms\tremaining: 5.52s\n",
      "22:\tlearn: 0.6561653\ttotal: 126ms\tremaining: 5.34s\n",
      "23:\tlearn: 0.6456442\ttotal: 127ms\tremaining: 5.17s\n",
      "24:\tlearn: 0.6356945\ttotal: 129ms\tremaining: 5.02s\n",
      "25:\tlearn: 0.6255611\ttotal: 130ms\tremaining: 4.89s\n",
      "26:\tlearn: 0.6159621\ttotal: 132ms\tremaining: 4.77s\n"
     ]
    },
    {
     "name": "stdout",
     "output_type": "stream",
     "text": [
      "27:\tlearn: 0.6055409\ttotal: 134ms\tremaining: 4.65s\n",
      "28:\tlearn: 0.5961717\ttotal: 140ms\tremaining: 4.7s\n",
      "29:\tlearn: 0.5854010\ttotal: 144ms\tremaining: 4.67s\n",
      "30:\tlearn: 0.5757027\ttotal: 147ms\tremaining: 4.6s\n",
      "31:\tlearn: 0.5669906\ttotal: 151ms\tremaining: 4.57s\n",
      "32:\tlearn: 0.5577537\ttotal: 153ms\tremaining: 4.49s\n",
      "33:\tlearn: 0.5505630\ttotal: 155ms\tremaining: 4.39s\n",
      "34:\tlearn: 0.5431553\ttotal: 156ms\tremaining: 4.3s\n",
      "35:\tlearn: 0.5355619\ttotal: 158ms\tremaining: 4.22s\n",
      "36:\tlearn: 0.5281075\ttotal: 159ms\tremaining: 4.14s\n",
      "37:\tlearn: 0.5205779\ttotal: 160ms\tremaining: 4.05s\n",
      "38:\tlearn: 0.5131596\ttotal: 162ms\tremaining: 3.98s\n",
      "39:\tlearn: 0.5047741\ttotal: 163ms\tremaining: 3.91s\n",
      "40:\tlearn: 0.4988372\ttotal: 164ms\tremaining: 3.85s\n",
      "41:\tlearn: 0.4911267\ttotal: 166ms\tremaining: 3.78s\n",
      "42:\tlearn: 0.4856105\ttotal: 167ms\tremaining: 3.72s\n",
      "43:\tlearn: 0.4785046\ttotal: 169ms\tremaining: 3.66s\n",
      "44:\tlearn: 0.4729077\ttotal: 170ms\tremaining: 3.61s\n",
      "45:\tlearn: 0.4659392\ttotal: 171ms\tremaining: 3.55s\n",
      "46:\tlearn: 0.4608329\ttotal: 173ms\tremaining: 3.5s\n",
      "47:\tlearn: 0.4557666\ttotal: 174ms\tremaining: 3.45s\n",
      "48:\tlearn: 0.4488705\ttotal: 176ms\tremaining: 3.41s\n",
      "49:\tlearn: 0.4443769\ttotal: 177ms\tremaining: 3.36s\n"
     ]
    },
    {
     "name": "stdout",
     "output_type": "stream",
     "text": [
      "50:\tlearn: 0.4390805\ttotal: 179ms\tremaining: 3.34s\n",
      "51:\tlearn: 0.4350607\ttotal: 181ms\tremaining: 3.3s\n",
      "52:\tlearn: 0.4308570\ttotal: 183ms\tremaining: 3.26s\n",
      "53:\tlearn: 0.4263113\ttotal: 185ms\tremaining: 3.24s\n",
      "54:\tlearn: 0.4217895\ttotal: 187ms\tremaining: 3.22s\n",
      "55:\tlearn: 0.4177996\ttotal: 189ms\tremaining: 3.19s\n",
      "56:\tlearn: 0.4140247\ttotal: 190ms\tremaining: 3.15s\n",
      "57:\tlearn: 0.4097681\ttotal: 192ms\tremaining: 3.11s\n",
      "58:\tlearn: 0.4057356\ttotal: 193ms\tremaining: 3.08s\n",
      "59:\tlearn: 0.4014700\ttotal: 194ms\tremaining: 3.04s\n",
      "60:\tlearn: 0.3981865\ttotal: 196ms\tremaining: 3.01s\n",
      "61:\tlearn: 0.3936811\ttotal: 197ms\tremaining: 2.98s\n",
      "62:\tlearn: 0.3895881\ttotal: 198ms\tremaining: 2.95s\n",
      "63:\tlearn: 0.3867088\ttotal: 200ms\tremaining: 2.93s\n",
      "64:\tlearn: 0.3829835\ttotal: 202ms\tremaining: 2.9s\n",
      "65:\tlearn: 0.3798958\ttotal: 203ms\tremaining: 2.87s\n",
      "66:\tlearn: 0.3763456\ttotal: 205ms\tremaining: 2.85s\n",
      "67:\tlearn: 0.3725572\ttotal: 206ms\tremaining: 2.82s\n",
      "68:\tlearn: 0.3694567\ttotal: 207ms\tremaining: 2.8s\n",
      "69:\tlearn: 0.3665626\ttotal: 209ms\tremaining: 2.77s\n",
      "70:\tlearn: 0.3633985\ttotal: 210ms\tremaining: 2.75s\n",
      "71:\tlearn: 0.3601689\ttotal: 211ms\tremaining: 2.73s\n",
      "72:\tlearn: 0.3577504\ttotal: 213ms\tremaining: 2.7s\n",
      "73:\tlearn: 0.3551189\ttotal: 214ms\tremaining: 2.68s\n",
      "74:\tlearn: 0.3514453\ttotal: 215ms\tremaining: 2.66s\n",
      "75:\tlearn: 0.3496328\ttotal: 217ms\tremaining: 2.63s\n",
      "76:\tlearn: 0.3464099\ttotal: 218ms\tremaining: 2.61s\n",
      "77:\tlearn: 0.3434420\ttotal: 219ms\tremaining: 2.59s\n",
      "78:\tlearn: 0.3406415\ttotal: 221ms\tremaining: 2.57s\n",
      "79:\tlearn: 0.3381908\ttotal: 222ms\tremaining: 2.55s\n",
      "80:\tlearn: 0.3361155\ttotal: 223ms\tremaining: 2.54s\n",
      "81:\tlearn: 0.3333308\ttotal: 225ms\tremaining: 2.52s\n",
      "82:\tlearn: 0.3310003\ttotal: 226ms\tremaining: 2.5s\n",
      "83:\tlearn: 0.3291240\ttotal: 227ms\tremaining: 2.48s\n",
      "84:\tlearn: 0.3264781\ttotal: 229ms\tremaining: 2.46s\n",
      "85:\tlearn: 0.3239756\ttotal: 230ms\tremaining: 2.44s\n",
      "86:\tlearn: 0.3213567\ttotal: 232ms\tremaining: 2.43s\n",
      "87:\tlearn: 0.3191090\ttotal: 233ms\tremaining: 2.42s\n",
      "88:\tlearn: 0.3177799\ttotal: 235ms\tremaining: 2.4s\n",
      "89:\tlearn: 0.3156837\ttotal: 236ms\tremaining: 2.38s\n",
      "90:\tlearn: 0.3133467\ttotal: 237ms\tremaining: 2.37s\n",
      "91:\tlearn: 0.3113742\ttotal: 238ms\tremaining: 2.35s\n",
      "92:\tlearn: 0.3093634\ttotal: 240ms\tremaining: 2.34s\n",
      "93:\tlearn: 0.3070003\ttotal: 241ms\tremaining: 2.32s\n",
      "94:\tlearn: 0.3049372\ttotal: 242ms\tremaining: 2.31s\n",
      "95:\tlearn: 0.3029364\ttotal: 244ms\tremaining: 2.29s\n",
      "96:\tlearn: 0.3015795\ttotal: 245ms\tremaining: 2.28s\n",
      "97:\tlearn: 0.3002936\ttotal: 247ms\tremaining: 2.27s\n",
      "98:\tlearn: 0.2988850\ttotal: 248ms\tremaining: 2.26s\n",
      "99:\tlearn: 0.2972458\ttotal: 249ms\tremaining: 2.24s\n",
      "100:\tlearn: 0.2954014\ttotal: 251ms\tremaining: 2.23s\n",
      "101:\tlearn: 0.2939709\ttotal: 252ms\tremaining: 2.22s\n",
      "102:\tlearn: 0.2924772\ttotal: 253ms\tremaining: 2.2s\n",
      "103:\tlearn: 0.2907414\ttotal: 255ms\tremaining: 2.19s\n",
      "104:\tlearn: 0.2888250\ttotal: 256ms\tremaining: 2.18s\n",
      "105:\tlearn: 0.2871974\ttotal: 257ms\tremaining: 2.17s\n",
      "106:\tlearn: 0.2860142\ttotal: 259ms\tremaining: 2.16s\n",
      "107:\tlearn: 0.2851333\ttotal: 260ms\tremaining: 2.15s\n",
      "108:\tlearn: 0.2834196\ttotal: 261ms\tremaining: 2.14s\n",
      "109:\tlearn: 0.2816573\ttotal: 263ms\tremaining: 2.13s\n",
      "110:\tlearn: 0.2805517\ttotal: 264ms\tremaining: 2.11s\n",
      "111:\tlearn: 0.2791054\ttotal: 266ms\tremaining: 2.1s\n",
      "112:\tlearn: 0.2778717\ttotal: 267ms\tremaining: 2.09s\n",
      "113:\tlearn: 0.2768206\ttotal: 268ms\tremaining: 2.08s\n",
      "114:\tlearn: 0.2756477\ttotal: 269ms\tremaining: 2.07s\n",
      "115:\tlearn: 0.2744548\ttotal: 271ms\tremaining: 2.06s\n",
      "116:\tlearn: 0.2731288\ttotal: 272ms\tremaining: 2.05s\n",
      "117:\tlearn: 0.2716537\ttotal: 273ms\tremaining: 2.04s\n",
      "118:\tlearn: 0.2704948\ttotal: 275ms\tremaining: 2.03s\n",
      "119:\tlearn: 0.2696193\ttotal: 276ms\tremaining: 2.02s\n",
      "120:\tlearn: 0.2684706\ttotal: 277ms\tremaining: 2.02s\n",
      "121:\tlearn: 0.2675210\ttotal: 279ms\tremaining: 2.01s\n",
      "122:\tlearn: 0.2664886\ttotal: 280ms\tremaining: 2s\n",
      "123:\tlearn: 0.2655074\ttotal: 282ms\tremaining: 1.99s\n",
      "124:\tlearn: 0.2646521\ttotal: 283ms\tremaining: 1.98s\n",
      "125:\tlearn: 0.2637501\ttotal: 284ms\tremaining: 1.97s\n",
      "126:\tlearn: 0.2624353\ttotal: 286ms\tremaining: 1.96s\n",
      "127:\tlearn: 0.2614286\ttotal: 287ms\tremaining: 1.95s\n"
     ]
    },
    {
     "name": "stdout",
     "output_type": "stream",
     "text": [
      "128:\tlearn: 0.2603347\ttotal: 292ms\tremaining: 1.97s\n",
      "129:\tlearn: 0.2589755\ttotal: 294ms\tremaining: 1.97s\n",
      "130:\tlearn: 0.2583658\ttotal: 295ms\tremaining: 1.96s\n",
      "131:\tlearn: 0.2572026\ttotal: 297ms\tremaining: 1.95s\n",
      "132:\tlearn: 0.2558767\ttotal: 298ms\tremaining: 1.94s\n",
      "133:\tlearn: 0.2549213\ttotal: 299ms\tremaining: 1.93s\n",
      "134:\tlearn: 0.2537773\ttotal: 301ms\tremaining: 1.93s\n",
      "135:\tlearn: 0.2526927\ttotal: 302ms\tremaining: 1.92s\n",
      "136:\tlearn: 0.2513849\ttotal: 304ms\tremaining: 1.91s\n",
      "137:\tlearn: 0.2504340\ttotal: 305ms\tremaining: 1.9s\n",
      "138:\tlearn: 0.2494224\ttotal: 306ms\tremaining: 1.9s\n",
      "139:\tlearn: 0.2487186\ttotal: 308ms\tremaining: 1.89s\n",
      "140:\tlearn: 0.2478898\ttotal: 309ms\tremaining: 1.88s\n",
      "141:\tlearn: 0.2472755\ttotal: 311ms\tremaining: 1.88s\n",
      "142:\tlearn: 0.2463546\ttotal: 312ms\tremaining: 1.87s\n"
     ]
    },
    {
     "name": "stdout",
     "output_type": "stream",
     "text": [
      "143:\tlearn: 0.2453613\ttotal: 313ms\tremaining: 1.86s\n",
      "144:\tlearn: 0.2445467\ttotal: 315ms\tremaining: 1.86s\n",
      "145:\tlearn: 0.2438677\ttotal: 317ms\tremaining: 1.85s\n",
      "146:\tlearn: 0.2432985\ttotal: 319ms\tremaining: 1.85s\n",
      "147:\tlearn: 0.2426001\ttotal: 320ms\tremaining: 1.84s\n",
      "148:\tlearn: 0.2416129\ttotal: 321ms\tremaining: 1.84s\n",
      "149:\tlearn: 0.2408746\ttotal: 323ms\tremaining: 1.83s\n",
      "150:\tlearn: 0.2396732\ttotal: 324ms\tremaining: 1.82s\n",
      "151:\tlearn: 0.2389706\ttotal: 326ms\tremaining: 1.82s\n",
      "152:\tlearn: 0.2382773\ttotal: 327ms\tremaining: 1.81s\n",
      "153:\tlearn: 0.2376887\ttotal: 328ms\tremaining: 1.8s\n",
      "154:\tlearn: 0.2371082\ttotal: 330ms\tremaining: 1.8s\n",
      "155:\tlearn: 0.2363061\ttotal: 331ms\tremaining: 1.79s\n",
      "156:\tlearn: 0.2356885\ttotal: 332ms\tremaining: 1.78s\n",
      "157:\tlearn: 0.2349659\ttotal: 334ms\tremaining: 1.78s\n",
      "158:\tlearn: 0.2340563\ttotal: 335ms\tremaining: 1.77s\n",
      "159:\tlearn: 0.2331043\ttotal: 337ms\tremaining: 1.77s\n",
      "160:\tlearn: 0.2325171\ttotal: 338ms\tremaining: 1.76s\n",
      "161:\tlearn: 0.2318287\ttotal: 339ms\tremaining: 1.75s\n",
      "162:\tlearn: 0.2313146\ttotal: 341ms\tremaining: 1.75s\n",
      "163:\tlearn: 0.2305424\ttotal: 342ms\tremaining: 1.75s\n",
      "164:\tlearn: 0.2299340\ttotal: 344ms\tremaining: 1.74s\n",
      "165:\tlearn: 0.2293498\ttotal: 346ms\tremaining: 1.74s\n",
      "166:\tlearn: 0.2284376\ttotal: 347ms\tremaining: 1.73s\n",
      "167:\tlearn: 0.2277594\ttotal: 348ms\tremaining: 1.73s\n",
      "168:\tlearn: 0.2271157\ttotal: 350ms\tremaining: 1.72s\n",
      "169:\tlearn: 0.2265135\ttotal: 351ms\tremaining: 1.71s\n",
      "170:\tlearn: 0.2253959\ttotal: 353ms\tremaining: 1.71s\n",
      "171:\tlearn: 0.2248148\ttotal: 354ms\tremaining: 1.7s\n",
      "172:\tlearn: 0.2243838\ttotal: 356ms\tremaining: 1.7s\n",
      "173:\tlearn: 0.2234542\ttotal: 357ms\tremaining: 1.69s\n"
     ]
    },
    {
     "name": "stdout",
     "output_type": "stream",
     "text": [
      "174:\tlearn: 0.2230700\ttotal: 360ms\tremaining: 1.69s\n",
      "175:\tlearn: 0.2226012\ttotal: 362ms\tremaining: 1.69s\n",
      "176:\tlearn: 0.2217653\ttotal: 365ms\tremaining: 1.7s\n",
      "177:\tlearn: 0.2212635\ttotal: 368ms\tremaining: 1.7s\n",
      "178:\tlearn: 0.2208310\ttotal: 370ms\tremaining: 1.7s\n",
      "179:\tlearn: 0.2199962\ttotal: 371ms\tremaining: 1.69s\n",
      "180:\tlearn: 0.2191633\ttotal: 373ms\tremaining: 1.69s\n",
      "181:\tlearn: 0.2184600\ttotal: 376ms\tremaining: 1.69s\n",
      "182:\tlearn: 0.2179691\ttotal: 377ms\tremaining: 1.68s\n",
      "183:\tlearn: 0.2173970\ttotal: 379ms\tremaining: 1.68s\n",
      "184:\tlearn: 0.2163898\ttotal: 381ms\tremaining: 1.68s\n",
      "185:\tlearn: 0.2159182\ttotal: 382ms\tremaining: 1.67s\n",
      "186:\tlearn: 0.2150026\ttotal: 384ms\tremaining: 1.67s\n",
      "187:\tlearn: 0.2146197\ttotal: 385ms\tremaining: 1.66s\n",
      "188:\tlearn: 0.2141324\ttotal: 386ms\tremaining: 1.66s\n",
      "189:\tlearn: 0.2135377\ttotal: 388ms\tremaining: 1.65s\n",
      "190:\tlearn: 0.2128190\ttotal: 389ms\tremaining: 1.65s\n",
      "191:\tlearn: 0.2122485\ttotal: 390ms\tremaining: 1.64s\n",
      "192:\tlearn: 0.2116249\ttotal: 392ms\tremaining: 1.64s\n",
      "193:\tlearn: 0.2108237\ttotal: 393ms\tremaining: 1.63s\n",
      "194:\tlearn: 0.2101598\ttotal: 395ms\tremaining: 1.63s\n",
      "195:\tlearn: 0.2095077\ttotal: 396ms\tremaining: 1.63s\n",
      "196:\tlearn: 0.2087016\ttotal: 398ms\tremaining: 1.62s\n",
      "197:\tlearn: 0.2081718\ttotal: 399ms\tremaining: 1.62s\n",
      "198:\tlearn: 0.2076781\ttotal: 400ms\tremaining: 1.61s\n",
      "199:\tlearn: 0.2070081\ttotal: 402ms\tremaining: 1.61s\n",
      "200:\tlearn: 0.2063850\ttotal: 403ms\tremaining: 1.6s\n",
      "201:\tlearn: 0.2057337\ttotal: 405ms\tremaining: 1.6s\n",
      "202:\tlearn: 0.2049393\ttotal: 406ms\tremaining: 1.59s\n",
      "203:\tlearn: 0.2043127\ttotal: 408ms\tremaining: 1.59s\n",
      "204:\tlearn: 0.2039822\ttotal: 409ms\tremaining: 1.58s\n",
      "205:\tlearn: 0.2031702\ttotal: 410ms\tremaining: 1.58s\n",
      "206:\tlearn: 0.2026880\ttotal: 412ms\tremaining: 1.58s\n",
      "207:\tlearn: 0.2021413\ttotal: 413ms\tremaining: 1.57s\n",
      "208:\tlearn: 0.2013692\ttotal: 414ms\tremaining: 1.57s\n",
      "209:\tlearn: 0.2008902\ttotal: 416ms\tremaining: 1.56s\n",
      "210:\tlearn: 0.2001616\ttotal: 417ms\tremaining: 1.56s\n",
      "211:\tlearn: 0.1997069\ttotal: 419ms\tremaining: 1.55s\n",
      "212:\tlearn: 0.1992079\ttotal: 420ms\tremaining: 1.55s\n",
      "213:\tlearn: 0.1989508\ttotal: 421ms\tremaining: 1.55s\n",
      "214:\tlearn: 0.1985315\ttotal: 423ms\tremaining: 1.54s\n",
      "215:\tlearn: 0.1981583\ttotal: 424ms\tremaining: 1.54s\n",
      "216:\tlearn: 0.1978744\ttotal: 425ms\tremaining: 1.53s\n",
      "217:\tlearn: 0.1971444\ttotal: 427ms\tremaining: 1.53s\n",
      "218:\tlearn: 0.1965730\ttotal: 428ms\tremaining: 1.53s\n",
      "219:\tlearn: 0.1961346\ttotal: 430ms\tremaining: 1.52s\n",
      "220:\tlearn: 0.1954710\ttotal: 433ms\tremaining: 1.52s\n",
      "221:\tlearn: 0.1949275\ttotal: 434ms\tremaining: 1.52s\n",
      "222:\tlearn: 0.1945161\ttotal: 435ms\tremaining: 1.52s\n",
      "223:\tlearn: 0.1939301\ttotal: 437ms\tremaining: 1.51s\n",
      "224:\tlearn: 0.1935862\ttotal: 438ms\tremaining: 1.51s\n",
      "225:\tlearn: 0.1928006\ttotal: 440ms\tremaining: 1.51s\n",
      "226:\tlearn: 0.1924850\ttotal: 442ms\tremaining: 1.5s\n",
      "227:\tlearn: 0.1916338\ttotal: 443ms\tremaining: 1.5s\n",
      "228:\tlearn: 0.1912196\ttotal: 445ms\tremaining: 1.5s\n",
      "229:\tlearn: 0.1908832\ttotal: 446ms\tremaining: 1.49s\n",
      "230:\tlearn: 0.1902649\ttotal: 447ms\tremaining: 1.49s\n",
      "231:\tlearn: 0.1895731\ttotal: 449ms\tremaining: 1.49s\n",
      "232:\tlearn: 0.1889095\ttotal: 450ms\tremaining: 1.48s\n",
      "233:\tlearn: 0.1886050\ttotal: 451ms\tremaining: 1.48s\n",
      "234:\tlearn: 0.1883662\ttotal: 453ms\tremaining: 1.47s\n",
      "235:\tlearn: 0.1879816\ttotal: 454ms\tremaining: 1.47s\n",
      "236:\tlearn: 0.1873915\ttotal: 456ms\tremaining: 1.47s\n",
      "237:\tlearn: 0.1871257\ttotal: 457ms\tremaining: 1.46s\n",
      "238:\tlearn: 0.1865702\ttotal: 458ms\tremaining: 1.46s\n",
      "239:\tlearn: 0.1863445\ttotal: 460ms\tremaining: 1.46s\n",
      "240:\tlearn: 0.1859944\ttotal: 461ms\tremaining: 1.45s\n",
      "241:\tlearn: 0.1857529\ttotal: 462ms\tremaining: 1.45s\n",
      "242:\tlearn: 0.1852536\ttotal: 464ms\tremaining: 1.45s\n",
      "243:\tlearn: 0.1846264\ttotal: 466ms\tremaining: 1.44s\n",
      "244:\tlearn: 0.1843174\ttotal: 467ms\tremaining: 1.44s\n",
      "245:\tlearn: 0.1836435\ttotal: 468ms\tremaining: 1.44s\n",
      "246:\tlearn: 0.1830223\ttotal: 470ms\tremaining: 1.43s\n"
     ]
    },
    {
     "name": "stdout",
     "output_type": "stream",
     "text": [
      "247:\tlearn: 0.1828396\ttotal: 472ms\tremaining: 1.43s\n",
      "248:\tlearn: 0.1823241\ttotal: 474ms\tremaining: 1.43s\n",
      "249:\tlearn: 0.1818145\ttotal: 475ms\tremaining: 1.42s\n",
      "250:\tlearn: 0.1812591\ttotal: 476ms\tremaining: 1.42s\n",
      "251:\tlearn: 0.1810572\ttotal: 478ms\tremaining: 1.42s\n",
      "252:\tlearn: 0.1805677\ttotal: 479ms\tremaining: 1.41s\n",
      "253:\tlearn: 0.1800823\ttotal: 481ms\tremaining: 1.41s\n",
      "254:\tlearn: 0.1798995\ttotal: 482ms\tremaining: 1.41s\n",
      "255:\tlearn: 0.1791930\ttotal: 483ms\tremaining: 1.41s\n",
      "256:\tlearn: 0.1789151\ttotal: 485ms\tremaining: 1.4s\n",
      "257:\tlearn: 0.1783000\ttotal: 486ms\tremaining: 1.4s\n",
      "258:\tlearn: 0.1778692\ttotal: 488ms\tremaining: 1.39s\n",
      "259:\tlearn: 0.1776334\ttotal: 489ms\tremaining: 1.39s\n",
      "260:\tlearn: 0.1769326\ttotal: 490ms\tremaining: 1.39s\n"
     ]
    },
    {
     "name": "stdout",
     "output_type": "stream",
     "text": [
      "261:\tlearn: 0.1766578\ttotal: 492ms\tremaining: 1.39s\n",
      "262:\tlearn: 0.1761159\ttotal: 494ms\tremaining: 1.38s\n",
      "263:\tlearn: 0.1756712\ttotal: 496ms\tremaining: 1.38s\n",
      "264:\tlearn: 0.1754796\ttotal: 497ms\tremaining: 1.38s\n",
      "265:\tlearn: 0.1753257\ttotal: 499ms\tremaining: 1.38s\n",
      "266:\tlearn: 0.1750974\ttotal: 500ms\tremaining: 1.37s\n",
      "267:\tlearn: 0.1748685\ttotal: 502ms\tremaining: 1.37s\n",
      "268:\tlearn: 0.1747261\ttotal: 503ms\tremaining: 1.37s\n",
      "269:\tlearn: 0.1741880\ttotal: 505ms\tremaining: 1.36s\n",
      "270:\tlearn: 0.1738145\ttotal: 506ms\tremaining: 1.36s\n",
      "271:\tlearn: 0.1735964\ttotal: 508ms\tremaining: 1.36s\n",
      "272:\tlearn: 0.1733033\ttotal: 509ms\tremaining: 1.35s\n",
      "273:\tlearn: 0.1729111\ttotal: 510ms\tremaining: 1.35s\n",
      "274:\tlearn: 0.1724300\ttotal: 512ms\tremaining: 1.35s\n",
      "275:\tlearn: 0.1722069\ttotal: 513ms\tremaining: 1.35s\n",
      "276:\tlearn: 0.1716974\ttotal: 515ms\tremaining: 1.34s\n",
      "277:\tlearn: 0.1712192\ttotal: 516ms\tremaining: 1.34s\n",
      "278:\tlearn: 0.1707104\ttotal: 518ms\tremaining: 1.34s\n",
      "279:\tlearn: 0.1700675\ttotal: 519ms\tremaining: 1.33s\n",
      "280:\tlearn: 0.1694193\ttotal: 521ms\tremaining: 1.33s\n",
      "281:\tlearn: 0.1688675\ttotal: 522ms\tremaining: 1.33s\n",
      "282:\tlearn: 0.1683956\ttotal: 523ms\tremaining: 1.33s\n",
      "283:\tlearn: 0.1680981\ttotal: 525ms\tremaining: 1.32s\n",
      "284:\tlearn: 0.1676504\ttotal: 526ms\tremaining: 1.32s\n",
      "285:\tlearn: 0.1674851\ttotal: 527ms\tremaining: 1.32s\n",
      "286:\tlearn: 0.1670989\ttotal: 529ms\tremaining: 1.31s\n",
      "287:\tlearn: 0.1666997\ttotal: 530ms\tremaining: 1.31s\n",
      "288:\tlearn: 0.1665340\ttotal: 532ms\tremaining: 1.31s\n",
      "289:\tlearn: 0.1660111\ttotal: 533ms\tremaining: 1.3s\n",
      "290:\tlearn: 0.1658274\ttotal: 534ms\tremaining: 1.3s\n",
      "291:\tlearn: 0.1655193\ttotal: 536ms\tremaining: 1.3s\n",
      "292:\tlearn: 0.1653366\ttotal: 537ms\tremaining: 1.3s\n",
      "293:\tlearn: 0.1650538\ttotal: 539ms\tremaining: 1.29s\n",
      "294:\tlearn: 0.1646813\ttotal: 540ms\tremaining: 1.29s\n"
     ]
    },
    {
     "name": "stdout",
     "output_type": "stream",
     "text": [
      "295:\tlearn: 0.1641585\ttotal: 542ms\tremaining: 1.29s\n",
      "296:\tlearn: 0.1637022\ttotal: 544ms\tremaining: 1.29s\n",
      "297:\tlearn: 0.1631059\ttotal: 545ms\tremaining: 1.28s\n",
      "298:\tlearn: 0.1625795\ttotal: 547ms\tremaining: 1.28s\n",
      "299:\tlearn: 0.1620499\ttotal: 548ms\tremaining: 1.28s\n",
      "300:\tlearn: 0.1617827\ttotal: 550ms\tremaining: 1.28s\n",
      "301:\tlearn: 0.1614005\ttotal: 551ms\tremaining: 1.27s\n",
      "302:\tlearn: 0.1609166\ttotal: 552ms\tremaining: 1.27s\n",
      "303:\tlearn: 0.1604457\ttotal: 554ms\tremaining: 1.27s\n",
      "304:\tlearn: 0.1602144\ttotal: 555ms\tremaining: 1.26s\n",
      "305:\tlearn: 0.1598823\ttotal: 556ms\tremaining: 1.26s\n",
      "306:\tlearn: 0.1594175\ttotal: 558ms\tremaining: 1.26s\n",
      "307:\tlearn: 0.1592427\ttotal: 559ms\tremaining: 1.26s\n",
      "308:\tlearn: 0.1586133\ttotal: 560ms\tremaining: 1.25s\n",
      "309:\tlearn: 0.1581040\ttotal: 562ms\tremaining: 1.25s\n",
      "310:\tlearn: 0.1576912\ttotal: 563ms\tremaining: 1.25s\n",
      "311:\tlearn: 0.1573025\ttotal: 565ms\tremaining: 1.25s\n",
      "312:\tlearn: 0.1571148\ttotal: 566ms\tremaining: 1.24s\n",
      "313:\tlearn: 0.1567757\ttotal: 568ms\tremaining: 1.24s\n",
      "314:\tlearn: 0.1565085\ttotal: 570ms\tremaining: 1.24s\n",
      "315:\tlearn: 0.1560202\ttotal: 573ms\tremaining: 1.24s\n",
      "316:\tlearn: 0.1558199\ttotal: 575ms\tremaining: 1.24s\n",
      "317:\tlearn: 0.1556037\ttotal: 578ms\tremaining: 1.24s\n",
      "318:\tlearn: 0.1554299\ttotal: 581ms\tremaining: 1.24s\n",
      "319:\tlearn: 0.1552486\ttotal: 584ms\tremaining: 1.24s\n",
      "320:\tlearn: 0.1548991\ttotal: 586ms\tremaining: 1.24s\n",
      "321:\tlearn: 0.1544949\ttotal: 588ms\tremaining: 1.24s\n",
      "322:\tlearn: 0.1540016\ttotal: 591ms\tremaining: 1.24s\n",
      "323:\tlearn: 0.1535610\ttotal: 593ms\tremaining: 1.24s\n",
      "324:\tlearn: 0.1532269\ttotal: 595ms\tremaining: 1.24s\n",
      "325:\tlearn: 0.1528028\ttotal: 598ms\tremaining: 1.24s\n",
      "326:\tlearn: 0.1524191\ttotal: 602ms\tremaining: 1.24s\n",
      "327:\tlearn: 0.1522587\ttotal: 605ms\tremaining: 1.24s\n",
      "328:\tlearn: 0.1517589\ttotal: 607ms\tremaining: 1.24s\n",
      "329:\tlearn: 0.1513552\ttotal: 610ms\tremaining: 1.24s\n",
      "330:\tlearn: 0.1511600\ttotal: 612ms\tremaining: 1.24s\n",
      "331:\tlearn: 0.1508981\ttotal: 614ms\tremaining: 1.24s\n",
      "332:\tlearn: 0.1506073\ttotal: 616ms\tremaining: 1.23s\n",
      "333:\tlearn: 0.1502718\ttotal: 619ms\tremaining: 1.23s\n",
      "334:\tlearn: 0.1499945\ttotal: 621ms\tremaining: 1.23s\n",
      "335:\tlearn: 0.1496844\ttotal: 624ms\tremaining: 1.23s\n",
      "336:\tlearn: 0.1493836\ttotal: 627ms\tremaining: 1.23s\n",
      "337:\tlearn: 0.1491426\ttotal: 628ms\tremaining: 1.23s\n",
      "338:\tlearn: 0.1488447\ttotal: 630ms\tremaining: 1.23s\n",
      "339:\tlearn: 0.1486794\ttotal: 632ms\tremaining: 1.23s\n",
      "340:\tlearn: 0.1482115\ttotal: 633ms\tremaining: 1.22s\n",
      "341:\tlearn: 0.1478640\ttotal: 634ms\tremaining: 1.22s\n",
      "342:\tlearn: 0.1474086\ttotal: 636ms\tremaining: 1.22s\n",
      "343:\tlearn: 0.1470468\ttotal: 637ms\tremaining: 1.22s\n",
      "344:\tlearn: 0.1468019\ttotal: 639ms\tremaining: 1.21s\n",
      "345:\tlearn: 0.1466302\ttotal: 640ms\tremaining: 1.21s\n",
      "346:\tlearn: 0.1462528\ttotal: 642ms\tremaining: 1.21s\n",
      "347:\tlearn: 0.1458628\ttotal: 643ms\tremaining: 1.2s\n",
      "348:\tlearn: 0.1455133\ttotal: 644ms\tremaining: 1.2s\n",
      "349:\tlearn: 0.1454225\ttotal: 646ms\tremaining: 1.2s\n",
      "350:\tlearn: 0.1452116\ttotal: 647ms\tremaining: 1.2s\n",
      "351:\tlearn: 0.1449052\ttotal: 648ms\tremaining: 1.19s\n",
      "352:\tlearn: 0.1444243\ttotal: 650ms\tremaining: 1.19s\n"
     ]
    },
    {
     "name": "stdout",
     "output_type": "stream",
     "text": [
      "353:\tlearn: 0.1440871\ttotal: 651ms\tremaining: 1.19s\n",
      "354:\tlearn: 0.1438480\ttotal: 653ms\tremaining: 1.19s\n",
      "355:\tlearn: 0.1437153\ttotal: 655ms\tremaining: 1.18s\n",
      "356:\tlearn: 0.1435881\ttotal: 656ms\tremaining: 1.18s\n",
      "357:\tlearn: 0.1432313\ttotal: 658ms\tremaining: 1.18s\n",
      "358:\tlearn: 0.1430433\ttotal: 659ms\tremaining: 1.18s\n",
      "359:\tlearn: 0.1425676\ttotal: 661ms\tremaining: 1.17s\n",
      "360:\tlearn: 0.1421423\ttotal: 662ms\tremaining: 1.17s\n",
      "361:\tlearn: 0.1417175\ttotal: 663ms\tremaining: 1.17s\n",
      "362:\tlearn: 0.1414846\ttotal: 665ms\tremaining: 1.17s\n",
      "363:\tlearn: 0.1413865\ttotal: 666ms\tremaining: 1.16s\n",
      "364:\tlearn: 0.1411937\ttotal: 668ms\tremaining: 1.16s\n",
      "365:\tlearn: 0.1410365\ttotal: 669ms\tremaining: 1.16s\n",
      "366:\tlearn: 0.1406862\ttotal: 671ms\tremaining: 1.16s\n"
     ]
    },
    {
     "name": "stdout",
     "output_type": "stream",
     "text": [
      "367:\tlearn: 0.1404137\ttotal: 673ms\tremaining: 1.16s\n",
      "368:\tlearn: 0.1403603\ttotal: 675ms\tremaining: 1.15s\n",
      "369:\tlearn: 0.1401759\ttotal: 676ms\tremaining: 1.15s\n",
      "370:\tlearn: 0.1401184\ttotal: 677ms\tremaining: 1.15s\n",
      "371:\tlearn: 0.1398168\ttotal: 679ms\tremaining: 1.15s\n",
      "372:\tlearn: 0.1394541\ttotal: 680ms\tremaining: 1.14s\n",
      "373:\tlearn: 0.1391462\ttotal: 682ms\tremaining: 1.14s\n",
      "374:\tlearn: 0.1390101\ttotal: 683ms\tremaining: 1.14s\n",
      "375:\tlearn: 0.1389320\ttotal: 684ms\tremaining: 1.14s\n",
      "376:\tlearn: 0.1386163\ttotal: 686ms\tremaining: 1.13s\n",
      "377:\tlearn: 0.1383968\ttotal: 687ms\tremaining: 1.13s\n",
      "378:\tlearn: 0.1380005\ttotal: 689ms\tremaining: 1.13s\n",
      "379:\tlearn: 0.1377344\ttotal: 690ms\tremaining: 1.13s\n",
      "380:\tlearn: 0.1374101\ttotal: 691ms\tremaining: 1.12s\n",
      "381:\tlearn: 0.1372525\ttotal: 693ms\tremaining: 1.12s\n",
      "382:\tlearn: 0.1371495\ttotal: 694ms\tremaining: 1.12s\n",
      "383:\tlearn: 0.1369993\ttotal: 696ms\tremaining: 1.11s\n",
      "384:\tlearn: 0.1369079\ttotal: 697ms\tremaining: 1.11s\n",
      "385:\tlearn: 0.1367894\ttotal: 698ms\tremaining: 1.11s\n",
      "386:\tlearn: 0.1365275\ttotal: 700ms\tremaining: 1.11s\n",
      "387:\tlearn: 0.1362070\ttotal: 701ms\tremaining: 1.11s\n",
      "388:\tlearn: 0.1361154\ttotal: 703ms\tremaining: 1.1s\n",
      "389:\tlearn: 0.1359554\ttotal: 704ms\tremaining: 1.1s\n",
      "390:\tlearn: 0.1356865\ttotal: 705ms\tremaining: 1.1s\n",
      "391:\tlearn: 0.1352679\ttotal: 708ms\tremaining: 1.1s\n",
      "392:\tlearn: 0.1348674\ttotal: 710ms\tremaining: 1.1s\n",
      "393:\tlearn: 0.1345684\ttotal: 711ms\tremaining: 1.09s\n",
      "394:\tlearn: 0.1345463\ttotal: 712ms\tremaining: 1.09s\n",
      "395:\tlearn: 0.1345175\ttotal: 714ms\tremaining: 1.09s\n",
      "396:\tlearn: 0.1342762\ttotal: 715ms\tremaining: 1.09s\n",
      "397:\tlearn: 0.1342079\ttotal: 716ms\tremaining: 1.08s\n",
      "398:\tlearn: 0.1338885\ttotal: 718ms\tremaining: 1.08s\n",
      "399:\tlearn: 0.1335890\ttotal: 719ms\tremaining: 1.08s\n"
     ]
    },
    {
     "name": "stdout",
     "output_type": "stream",
     "text": [
      "400:\tlearn: 0.1333764\ttotal: 721ms\tremaining: 1.08s\n",
      "401:\tlearn: 0.1332097\ttotal: 722ms\tremaining: 1.07s\n",
      "402:\tlearn: 0.1329140\ttotal: 724ms\tremaining: 1.07s\n",
      "403:\tlearn: 0.1326076\ttotal: 725ms\tremaining: 1.07s\n",
      "404:\tlearn: 0.1323655\ttotal: 727ms\tremaining: 1.07s\n",
      "405:\tlearn: 0.1322481\ttotal: 728ms\tremaining: 1.06s\n",
      "406:\tlearn: 0.1319418\ttotal: 729ms\tremaining: 1.06s\n",
      "407:\tlearn: 0.1315571\ttotal: 731ms\tremaining: 1.06s\n",
      "408:\tlearn: 0.1312847\ttotal: 733ms\tremaining: 1.06s\n",
      "409:\tlearn: 0.1310172\ttotal: 736ms\tremaining: 1.06s\n",
      "410:\tlearn: 0.1307638\ttotal: 740ms\tremaining: 1.06s\n",
      "411:\tlearn: 0.1305972\ttotal: 742ms\tremaining: 1.06s\n",
      "412:\tlearn: 0.1301968\ttotal: 745ms\tremaining: 1.06s\n",
      "413:\tlearn: 0.1298888\ttotal: 748ms\tremaining: 1.06s\n",
      "414:\tlearn: 0.1296222\ttotal: 749ms\tremaining: 1.06s\n",
      "415:\tlearn: 0.1292388\ttotal: 753ms\tremaining: 1.06s\n",
      "416:\tlearn: 0.1289475\ttotal: 755ms\tremaining: 1.05s\n",
      "417:\tlearn: 0.1286510\ttotal: 756ms\tremaining: 1.05s\n",
      "418:\tlearn: 0.1282612\ttotal: 758ms\tremaining: 1.05s\n",
      "419:\tlearn: 0.1279810\ttotal: 759ms\tremaining: 1.05s\n",
      "420:\tlearn: 0.1277936\ttotal: 760ms\tremaining: 1.04s\n",
      "421:\tlearn: 0.1275966\ttotal: 762ms\tremaining: 1.04s\n",
      "422:\tlearn: 0.1274967\ttotal: 763ms\tremaining: 1.04s\n",
      "423:\tlearn: 0.1273593\ttotal: 765ms\tremaining: 1.04s\n",
      "424:\tlearn: 0.1270780\ttotal: 766ms\tremaining: 1.04s\n",
      "425:\tlearn: 0.1267114\ttotal: 767ms\tremaining: 1.03s\n",
      "426:\tlearn: 0.1264506\ttotal: 769ms\tremaining: 1.03s\n",
      "427:\tlearn: 0.1261877\ttotal: 770ms\tremaining: 1.03s\n",
      "428:\tlearn: 0.1259610\ttotal: 771ms\tremaining: 1.03s\n",
      "429:\tlearn: 0.1258842\ttotal: 773ms\tremaining: 1.02s\n",
      "430:\tlearn: 0.1257670\ttotal: 774ms\tremaining: 1.02s\n",
      "431:\tlearn: 0.1255879\ttotal: 776ms\tremaining: 1.02s\n",
      "432:\tlearn: 0.1253011\ttotal: 777ms\tremaining: 1.02s\n",
      "433:\tlearn: 0.1250884\ttotal: 779ms\tremaining: 1.01s\n",
      "434:\tlearn: 0.1247583\ttotal: 780ms\tremaining: 1.01s\n",
      "435:\tlearn: 0.1245538\ttotal: 781ms\tremaining: 1.01s\n",
      "436:\tlearn: 0.1243639\ttotal: 783ms\tremaining: 1.01s\n",
      "437:\tlearn: 0.1240671\ttotal: 784ms\tremaining: 1.01s\n",
      "438:\tlearn: 0.1237735\ttotal: 786ms\tremaining: 1s\n",
      "439:\tlearn: 0.1234961\ttotal: 787ms\tremaining: 1s\n",
      "440:\tlearn: 0.1231715\ttotal: 790ms\tremaining: 1s\n",
      "441:\tlearn: 0.1228139\ttotal: 792ms\tremaining: 1s\n",
      "442:\tlearn: 0.1227084\ttotal: 795ms\tremaining: 1000ms\n",
      "443:\tlearn: 0.1226920\ttotal: 799ms\tremaining: 1s\n",
      "444:\tlearn: 0.1225239\ttotal: 801ms\tremaining: 999ms\n",
      "445:\tlearn: 0.1223834\ttotal: 802ms\tremaining: 997ms\n",
      "446:\tlearn: 0.1222593\ttotal: 804ms\tremaining: 994ms\n",
      "447:\tlearn: 0.1219047\ttotal: 805ms\tremaining: 992ms\n",
      "448:\tlearn: 0.1217809\ttotal: 807ms\tremaining: 990ms\n",
      "449:\tlearn: 0.1216654\ttotal: 808ms\tremaining: 987ms\n",
      "450:\tlearn: 0.1214121\ttotal: 811ms\tremaining: 987ms\n",
      "451:\tlearn: 0.1211729\ttotal: 813ms\tremaining: 985ms\n",
      "452:\tlearn: 0.1208819\ttotal: 814ms\tremaining: 983ms\n"
     ]
    },
    {
     "name": "stdout",
     "output_type": "stream",
     "text": [
      "453:\tlearn: 0.1205619\ttotal: 817ms\tremaining: 983ms\n",
      "454:\tlearn: 0.1202040\ttotal: 820ms\tremaining: 982ms\n",
      "455:\tlearn: 0.1201324\ttotal: 821ms\tremaining: 980ms\n",
      "456:\tlearn: 0.1199422\ttotal: 823ms\tremaining: 977ms\n",
      "457:\tlearn: 0.1196675\ttotal: 824ms\tremaining: 975ms\n",
      "458:\tlearn: 0.1195946\ttotal: 825ms\tremaining: 973ms\n",
      "459:\tlearn: 0.1192346\ttotal: 827ms\tremaining: 971ms\n",
      "460:\tlearn: 0.1190814\ttotal: 828ms\tremaining: 969ms\n",
      "461:\tlearn: 0.1188564\ttotal: 830ms\tremaining: 966ms\n",
      "462:\tlearn: 0.1185042\ttotal: 831ms\tremaining: 964ms\n",
      "463:\tlearn: 0.1182171\ttotal: 833ms\tremaining: 962ms\n",
      "464:\tlearn: 0.1179917\ttotal: 834ms\tremaining: 959ms\n",
      "465:\tlearn: 0.1177220\ttotal: 835ms\tremaining: 957ms\n",
      "466:\tlearn: 0.1175652\ttotal: 836ms\tremaining: 955ms\n"
     ]
    },
    {
     "name": "stdout",
     "output_type": "stream",
     "text": [
      "467:\tlearn: 0.1172987\ttotal: 839ms\tremaining: 954ms\n",
      "468:\tlearn: 0.1168861\ttotal: 844ms\tremaining: 956ms\n",
      "469:\tlearn: 0.1167671\ttotal: 855ms\tremaining: 964ms\n",
      "470:\tlearn: 0.1165772\ttotal: 859ms\tremaining: 964ms\n",
      "471:\tlearn: 0.1164716\ttotal: 860ms\tremaining: 962ms\n",
      "472:\tlearn: 0.1162524\ttotal: 862ms\tremaining: 960ms\n",
      "473:\tlearn: 0.1160467\ttotal: 863ms\tremaining: 958ms\n",
      "474:\tlearn: 0.1158193\ttotal: 865ms\tremaining: 956ms\n",
      "475:\tlearn: 0.1155412\ttotal: 866ms\tremaining: 953ms\n",
      "476:\tlearn: 0.1155097\ttotal: 867ms\tremaining: 951ms\n",
      "477:\tlearn: 0.1152547\ttotal: 869ms\tremaining: 948ms\n",
      "478:\tlearn: 0.1149751\ttotal: 870ms\tremaining: 946ms\n",
      "479:\tlearn: 0.1147002\ttotal: 872ms\tremaining: 945ms\n",
      "480:\tlearn: 0.1144857\ttotal: 873ms\tremaining: 942ms\n",
      "481:\tlearn: 0.1142311\ttotal: 875ms\tremaining: 940ms\n",
      "482:\tlearn: 0.1141656\ttotal: 876ms\tremaining: 938ms\n",
      "483:\tlearn: 0.1139244\ttotal: 877ms\tremaining: 935ms\n",
      "484:\tlearn: 0.1137081\ttotal: 879ms\tremaining: 933ms\n",
      "485:\tlearn: 0.1136496\ttotal: 880ms\tremaining: 931ms\n",
      "486:\tlearn: 0.1133366\ttotal: 881ms\tremaining: 928ms\n"
     ]
    },
    {
     "name": "stdout",
     "output_type": "stream",
     "text": [
      "487:\tlearn: 0.1131999\ttotal: 884ms\tremaining: 927ms\n",
      "488:\tlearn: 0.1129246\ttotal: 958ms\tremaining: 1s\n",
      "489:\tlearn: 0.1128060\ttotal: 961ms\tremaining: 1000ms\n",
      "490:\tlearn: 0.1125730\ttotal: 964ms\tremaining: 999ms\n",
      "491:\tlearn: 0.1122990\ttotal: 966ms\tremaining: 998ms\n",
      "492:\tlearn: 0.1121002\ttotal: 969ms\tremaining: 997ms\n",
      "493:\tlearn: 0.1118316\ttotal: 972ms\tremaining: 995ms\n",
      "494:\tlearn: 0.1116450\ttotal: 975ms\tremaining: 994ms\n",
      "495:\tlearn: 0.1115972\ttotal: 977ms\tremaining: 993ms\n",
      "496:\tlearn: 0.1113825\ttotal: 984ms\tremaining: 996ms\n",
      "497:\tlearn: 0.1111322\ttotal: 988ms\tremaining: 996ms\n",
      "498:\tlearn: 0.1110495\ttotal: 990ms\tremaining: 994ms\n",
      "499:\tlearn: 0.1110094\ttotal: 991ms\tremaining: 991ms\n",
      "500:\tlearn: 0.1107998\ttotal: 993ms\tremaining: 989ms\n",
      "501:\tlearn: 0.1105510\ttotal: 994ms\tremaining: 986ms\n",
      "502:\tlearn: 0.1102462\ttotal: 996ms\tremaining: 984ms\n",
      "503:\tlearn: 0.1101044\ttotal: 997ms\tremaining: 981ms\n",
      "504:\tlearn: 0.1100150\ttotal: 999ms\tremaining: 979ms\n",
      "505:\tlearn: 0.1099737\ttotal: 1s\tremaining: 977ms\n"
     ]
    },
    {
     "name": "stdout",
     "output_type": "stream",
     "text": [
      "506:\tlearn: 0.1097349\ttotal: 1s\tremaining: 974ms\n",
      "507:\tlearn: 0.1094304\ttotal: 1s\tremaining: 973ms\n",
      "508:\tlearn: 0.1092677\ttotal: 1s\tremaining: 970ms\n",
      "509:\tlearn: 0.1092190\ttotal: 1.01s\tremaining: 968ms\n",
      "510:\tlearn: 0.1089890\ttotal: 1.01s\tremaining: 966ms\n",
      "511:\tlearn: 0.1087375\ttotal: 1.01s\tremaining: 963ms\n",
      "512:\tlearn: 0.1084721\ttotal: 1.01s\tremaining: 963ms\n",
      "513:\tlearn: 0.1082465\ttotal: 1.02s\tremaining: 963ms\n"
     ]
    },
    {
     "name": "stdout",
     "output_type": "stream",
     "text": [
      "514:\tlearn: 0.1079221\ttotal: 1.02s\tremaining: 965ms\n",
      "515:\tlearn: 0.1077165\ttotal: 1.03s\tremaining: 964ms\n",
      "516:\tlearn: 0.1074575\ttotal: 1.03s\tremaining: 962ms\n",
      "517:\tlearn: 0.1073355\ttotal: 1.03s\tremaining: 961ms\n",
      "518:\tlearn: 0.1073257\ttotal: 1.03s\tremaining: 958ms\n",
      "519:\tlearn: 0.1071173\ttotal: 1.03s\tremaining: 956ms\n",
      "520:\tlearn: 0.1069057\ttotal: 1.04s\tremaining: 953ms\n",
      "521:\tlearn: 0.1067005\ttotal: 1.04s\tremaining: 951ms\n",
      "522:\tlearn: 0.1066897\ttotal: 1.04s\tremaining: 948ms\n",
      "523:\tlearn: 0.1065865\ttotal: 1.04s\tremaining: 946ms\n",
      "524:\tlearn: 0.1065070\ttotal: 1.04s\tremaining: 943ms\n",
      "525:\tlearn: 0.1064628\ttotal: 1.04s\tremaining: 941ms\n",
      "526:\tlearn: 0.1063172\ttotal: 1.04s\tremaining: 939ms\n",
      "527:\tlearn: 0.1060932\ttotal: 1.05s\tremaining: 936ms\n",
      "528:\tlearn: 0.1060579\ttotal: 1.05s\tremaining: 934ms\n",
      "529:\tlearn: 0.1059812\ttotal: 1.05s\tremaining: 931ms\n",
      "530:\tlearn: 0.1057846\ttotal: 1.05s\tremaining: 929ms\n",
      "531:\tlearn: 0.1055875\ttotal: 1.05s\tremaining: 926ms\n",
      "532:\tlearn: 0.1053634\ttotal: 1.05s\tremaining: 924ms\n",
      "533:\tlearn: 0.1050891\ttotal: 1.05s\tremaining: 921ms\n",
      "534:\tlearn: 0.1049601\ttotal: 1.06s\tremaining: 920ms\n",
      "535:\tlearn: 0.1047082\ttotal: 1.06s\tremaining: 918ms\n",
      "536:\tlearn: 0.1044687\ttotal: 1.06s\tremaining: 915ms\n",
      "537:\tlearn: 0.1042461\ttotal: 1.06s\tremaining: 913ms\n",
      "538:\tlearn: 0.1040647\ttotal: 1.06s\tremaining: 910ms\n",
      "539:\tlearn: 0.1037982\ttotal: 1.07s\tremaining: 908ms\n",
      "540:\tlearn: 0.1036280\ttotal: 1.07s\tremaining: 906ms\n"
     ]
    },
    {
     "name": "stdout",
     "output_type": "stream",
     "text": [
      "541:\tlearn: 0.1033816\ttotal: 1.07s\tremaining: 904ms\n",
      "542:\tlearn: 0.1033673\ttotal: 1.07s\tremaining: 902ms\n",
      "543:\tlearn: 0.1031257\ttotal: 1.07s\tremaining: 900ms\n",
      "544:\tlearn: 0.1028886\ttotal: 1.07s\tremaining: 897ms\n",
      "545:\tlearn: 0.1027826\ttotal: 1.08s\tremaining: 895ms\n",
      "546:\tlearn: 0.1024970\ttotal: 1.08s\tremaining: 892ms\n",
      "547:\tlearn: 0.1023330\ttotal: 1.08s\tremaining: 890ms\n",
      "548:\tlearn: 0.1021917\ttotal: 1.08s\tremaining: 888ms\n",
      "549:\tlearn: 0.1018502\ttotal: 1.08s\tremaining: 885ms\n",
      "550:\tlearn: 0.1016556\ttotal: 1.08s\tremaining: 883ms\n",
      "551:\tlearn: 0.1015671\ttotal: 1.08s\tremaining: 880ms\n",
      "552:\tlearn: 0.1014032\ttotal: 1.09s\tremaining: 878ms\n",
      "553:\tlearn: 0.1012357\ttotal: 1.09s\tremaining: 876ms\n",
      "554:\tlearn: 0.1010459\ttotal: 1.09s\tremaining: 873ms\n",
      "555:\tlearn: 0.1009783\ttotal: 1.09s\tremaining: 871ms\n",
      "556:\tlearn: 0.1008448\ttotal: 1.09s\tremaining: 868ms\n",
      "557:\tlearn: 0.1007903\ttotal: 1.09s\tremaining: 866ms\n",
      "558:\tlearn: 0.1005857\ttotal: 1.09s\tremaining: 865ms\n",
      "559:\tlearn: 0.1004285\ttotal: 1.1s\tremaining: 864ms\n",
      "560:\tlearn: 0.1002053\ttotal: 1.1s\tremaining: 862ms\n",
      "561:\tlearn: 0.1000054\ttotal: 1.1s\tremaining: 861ms\n",
      "562:\tlearn: 0.0997811\ttotal: 1.11s\tremaining: 862ms\n",
      "563:\tlearn: 0.0996360\ttotal: 1.11s\tremaining: 860ms\n",
      "564:\tlearn: 0.0994953\ttotal: 1.12s\tremaining: 860ms\n",
      "565:\tlearn: 0.0993101\ttotal: 1.12s\tremaining: 858ms\n",
      "566:\tlearn: 0.0990688\ttotal: 1.12s\tremaining: 857ms\n",
      "567:\tlearn: 0.0990123\ttotal: 1.12s\tremaining: 855ms\n",
      "568:\tlearn: 0.0988975\ttotal: 1.13s\tremaining: 854ms\n",
      "569:\tlearn: 0.0987600\ttotal: 1.13s\tremaining: 852ms\n",
      "570:\tlearn: 0.0985930\ttotal: 1.13s\tremaining: 850ms\n",
      "571:\tlearn: 0.0983586\ttotal: 1.13s\tremaining: 849ms\n",
      "572:\tlearn: 0.0981469\ttotal: 1.14s\tremaining: 847ms\n",
      "573:\tlearn: 0.0980170\ttotal: 1.14s\tremaining: 845ms\n",
      "574:\tlearn: 0.0977948\ttotal: 1.14s\tremaining: 843ms\n",
      "575:\tlearn: 0.0977518\ttotal: 1.14s\tremaining: 842ms\n",
      "576:\tlearn: 0.0975243\ttotal: 1.15s\tremaining: 840ms\n",
      "577:\tlearn: 0.0973253\ttotal: 1.15s\tremaining: 839ms\n",
      "578:\tlearn: 0.0972932\ttotal: 1.15s\tremaining: 838ms\n",
      "579:\tlearn: 0.0971797\ttotal: 1.16s\tremaining: 837ms\n",
      "580:\tlearn: 0.0970512\ttotal: 1.16s\tremaining: 836ms\n",
      "581:\tlearn: 0.0967905\ttotal: 1.16s\tremaining: 834ms\n",
      "582:\tlearn: 0.0965484\ttotal: 1.16s\tremaining: 832ms\n",
      "583:\tlearn: 0.0965184\ttotal: 1.17s\tremaining: 831ms\n"
     ]
    },
    {
     "name": "stdout",
     "output_type": "stream",
     "text": [
      "584:\tlearn: 0.0962847\ttotal: 1.17s\tremaining: 829ms\n",
      "585:\tlearn: 0.0961530\ttotal: 1.17s\tremaining: 827ms\n",
      "586:\tlearn: 0.0959742\ttotal: 1.17s\tremaining: 826ms\n",
      "587:\tlearn: 0.0957856\ttotal: 1.18s\tremaining: 825ms\n",
      "588:\tlearn: 0.0957285\ttotal: 1.18s\tremaining: 823ms\n",
      "589:\tlearn: 0.0955501\ttotal: 1.18s\tremaining: 821ms\n",
      "590:\tlearn: 0.0954142\ttotal: 1.18s\tremaining: 819ms\n",
      "591:\tlearn: 0.0952177\ttotal: 1.19s\tremaining: 818ms\n"
     ]
    },
    {
     "name": "stdout",
     "output_type": "stream",
     "text": [
      "592:\tlearn: 0.0950170\ttotal: 1.19s\tremaining: 818ms\n",
      "593:\tlearn: 0.0948458\ttotal: 1.2s\tremaining: 820ms\n",
      "594:\tlearn: 0.0946615\ttotal: 1.2s\tremaining: 818ms\n",
      "595:\tlearn: 0.0946215\ttotal: 1.2s\tremaining: 816ms\n",
      "596:\tlearn: 0.0944979\ttotal: 1.21s\tremaining: 814ms\n",
      "597:\tlearn: 0.0943787\ttotal: 1.21s\tremaining: 813ms\n",
      "598:\tlearn: 0.0942282\ttotal: 1.21s\tremaining: 811ms\n",
      "599:\tlearn: 0.0940521\ttotal: 1.21s\tremaining: 809ms\n",
      "600:\tlearn: 0.0938412\ttotal: 1.22s\tremaining: 808ms\n",
      "601:\tlearn: 0.0937404\ttotal: 1.22s\tremaining: 806ms\n",
      "602:\tlearn: 0.0935951\ttotal: 1.22s\tremaining: 804ms\n",
      "603:\tlearn: 0.0934485\ttotal: 1.22s\tremaining: 802ms\n",
      "604:\tlearn: 0.0933479\ttotal: 1.23s\tremaining: 800ms\n"
     ]
    },
    {
     "name": "stdout",
     "output_type": "stream",
     "text": [
      "605:\tlearn: 0.0932070\ttotal: 1.23s\tremaining: 802ms\n",
      "606:\tlearn: 0.0930448\ttotal: 1.24s\tremaining: 801ms\n",
      "607:\tlearn: 0.0929877\ttotal: 1.24s\tremaining: 799ms\n",
      "608:\tlearn: 0.0928457\ttotal: 1.24s\tremaining: 797ms\n",
      "609:\tlearn: 0.0926009\ttotal: 1.24s\tremaining: 795ms\n",
      "610:\tlearn: 0.0924395\ttotal: 1.25s\tremaining: 795ms\n",
      "611:\tlearn: 0.0923068\ttotal: 1.25s\tremaining: 793ms\n",
      "612:\tlearn: 0.0921671\ttotal: 1.25s\tremaining: 791ms\n",
      "613:\tlearn: 0.0919909\ttotal: 1.25s\tremaining: 789ms\n",
      "614:\tlearn: 0.0918475\ttotal: 1.26s\tremaining: 787ms\n",
      "615:\tlearn: 0.0915620\ttotal: 1.26s\tremaining: 785ms\n",
      "616:\tlearn: 0.0913745\ttotal: 1.26s\tremaining: 783ms\n",
      "617:\tlearn: 0.0912275\ttotal: 1.26s\tremaining: 781ms\n",
      "618:\tlearn: 0.0911391\ttotal: 1.27s\tremaining: 780ms\n",
      "619:\tlearn: 0.0909839\ttotal: 1.27s\tremaining: 778ms\n",
      "620:\tlearn: 0.0908794\ttotal: 1.27s\tremaining: 776ms\n",
      "621:\tlearn: 0.0907855\ttotal: 1.27s\tremaining: 774ms\n",
      "622:\tlearn: 0.0905666\ttotal: 1.28s\tremaining: 772ms\n",
      "623:\tlearn: 0.0904493\ttotal: 1.28s\tremaining: 770ms\n",
      "624:\tlearn: 0.0903637\ttotal: 1.28s\tremaining: 768ms\n",
      "625:\tlearn: 0.0902167\ttotal: 1.28s\tremaining: 767ms\n",
      "626:\tlearn: 0.0899856\ttotal: 1.28s\tremaining: 765ms\n",
      "627:\tlearn: 0.0897461\ttotal: 1.29s\tremaining: 763ms\n",
      "628:\tlearn: 0.0895761\ttotal: 1.29s\tremaining: 761ms\n",
      "629:\tlearn: 0.0895449\ttotal: 1.29s\tremaining: 760ms\n",
      "630:\tlearn: 0.0894016\ttotal: 1.3s\tremaining: 758ms\n",
      "631:\tlearn: 0.0891995\ttotal: 1.3s\tremaining: 757ms\n",
      "632:\tlearn: 0.0891828\ttotal: 1.3s\tremaining: 755ms\n",
      "633:\tlearn: 0.0890319\ttotal: 1.3s\tremaining: 753ms\n",
      "634:\tlearn: 0.0889617\ttotal: 1.31s\tremaining: 751ms\n",
      "635:\tlearn: 0.0888861\ttotal: 1.31s\tremaining: 749ms\n",
      "636:\tlearn: 0.0887039\ttotal: 1.31s\tremaining: 747ms\n",
      "637:\tlearn: 0.0886609\ttotal: 1.31s\tremaining: 745ms\n",
      "638:\tlearn: 0.0885078\ttotal: 1.32s\tremaining: 744ms\n",
      "639:\tlearn: 0.0883537\ttotal: 1.32s\tremaining: 742ms\n",
      "640:\tlearn: 0.0881238\ttotal: 1.32s\tremaining: 740ms\n",
      "641:\tlearn: 0.0879476\ttotal: 1.32s\tremaining: 738ms\n",
      "642:\tlearn: 0.0877419\ttotal: 1.32s\tremaining: 736ms\n",
      "643:\tlearn: 0.0876403\ttotal: 1.33s\tremaining: 734ms\n",
      "644:\tlearn: 0.0874442\ttotal: 1.33s\tremaining: 732ms\n",
      "645:\tlearn: 0.0873570\ttotal: 1.33s\tremaining: 730ms\n",
      "646:\tlearn: 0.0872817\ttotal: 1.33s\tremaining: 728ms\n",
      "647:\tlearn: 0.0871533\ttotal: 1.34s\tremaining: 726ms\n",
      "648:\tlearn: 0.0869772\ttotal: 1.34s\tremaining: 724ms\n"
     ]
    },
    {
     "name": "stdout",
     "output_type": "stream",
     "text": [
      "649:\tlearn: 0.0867946\ttotal: 1.34s\tremaining: 722ms\n",
      "650:\tlearn: 0.0865711\ttotal: 1.34s\tremaining: 721ms\n",
      "651:\tlearn: 0.0863900\ttotal: 1.36s\tremaining: 725ms\n",
      "652:\tlearn: 0.0863397\ttotal: 1.36s\tremaining: 724ms\n"
     ]
    },
    {
     "name": "stdout",
     "output_type": "stream",
     "text": [
      "653:\tlearn: 0.0861908\ttotal: 1.36s\tremaining: 722ms\n",
      "654:\tlearn: 0.0860238\ttotal: 1.37s\tremaining: 723ms\n",
      "655:\tlearn: 0.0858726\ttotal: 1.38s\tremaining: 722ms\n",
      "656:\tlearn: 0.0857577\ttotal: 1.38s\tremaining: 720ms\n",
      "657:\tlearn: 0.0855389\ttotal: 1.38s\tremaining: 719ms\n",
      "658:\tlearn: 0.0855230\ttotal: 1.38s\tremaining: 717ms\n",
      "659:\tlearn: 0.0854361\ttotal: 1.39s\tremaining: 715ms\n",
      "660:\tlearn: 0.0852705\ttotal: 1.39s\tremaining: 713ms\n",
      "661:\tlearn: 0.0851006\ttotal: 1.39s\tremaining: 711ms\n",
      "662:\tlearn: 0.0849496\ttotal: 1.39s\tremaining: 709ms\n",
      "663:\tlearn: 0.0849033\ttotal: 1.4s\tremaining: 707ms\n",
      "664:\tlearn: 0.0847524\ttotal: 1.4s\tremaining: 705ms\n",
      "665:\tlearn: 0.0846396\ttotal: 1.4s\tremaining: 703ms\n",
      "666:\tlearn: 0.0844818\ttotal: 1.4s\tremaining: 701ms\n"
     ]
    },
    {
     "name": "stdout",
     "output_type": "stream",
     "text": [
      "667:\tlearn: 0.0843793\ttotal: 1.41s\tremaining: 700ms\n",
      "668:\tlearn: 0.0843516\ttotal: 1.41s\tremaining: 698ms\n",
      "669:\tlearn: 0.0841838\ttotal: 1.41s\tremaining: 696ms\n",
      "670:\tlearn: 0.0840436\ttotal: 1.42s\tremaining: 695ms\n",
      "671:\tlearn: 0.0838406\ttotal: 1.42s\tremaining: 693ms\n",
      "672:\tlearn: 0.0836677\ttotal: 1.42s\tremaining: 691ms\n",
      "673:\tlearn: 0.0835171\ttotal: 1.42s\tremaining: 689ms\n",
      "674:\tlearn: 0.0834193\ttotal: 1.43s\tremaining: 688ms\n",
      "675:\tlearn: 0.0833300\ttotal: 1.43s\tremaining: 686ms\n",
      "676:\tlearn: 0.0831937\ttotal: 1.44s\tremaining: 687ms\n",
      "677:\tlearn: 0.0830305\ttotal: 1.45s\tremaining: 686ms\n",
      "678:\tlearn: 0.0829035\ttotal: 1.45s\tremaining: 685ms\n",
      "679:\tlearn: 0.0827130\ttotal: 1.45s\tremaining: 683ms\n",
      "680:\tlearn: 0.0826246\ttotal: 1.45s\tremaining: 681ms\n",
      "681:\tlearn: 0.0825217\ttotal: 1.46s\tremaining: 679ms\n",
      "682:\tlearn: 0.0823599\ttotal: 1.46s\tremaining: 677ms\n",
      "683:\tlearn: 0.0822051\ttotal: 1.46s\tremaining: 675ms\n",
      "684:\tlearn: 0.0820356\ttotal: 1.46s\tremaining: 674ms\n",
      "685:\tlearn: 0.0818900\ttotal: 1.47s\tremaining: 672ms\n",
      "686:\tlearn: 0.0818004\ttotal: 1.47s\tremaining: 670ms\n",
      "687:\tlearn: 0.0817606\ttotal: 1.47s\tremaining: 667ms\n",
      "688:\tlearn: 0.0816380\ttotal: 1.47s\tremaining: 665ms\n",
      "689:\tlearn: 0.0814480\ttotal: 1.48s\tremaining: 663ms\n",
      "690:\tlearn: 0.0813276\ttotal: 1.48s\tremaining: 661ms\n",
      "691:\tlearn: 0.0812795\ttotal: 1.48s\tremaining: 659ms\n",
      "692:\tlearn: 0.0811813\ttotal: 1.48s\tremaining: 657ms\n",
      "693:\tlearn: 0.0810657\ttotal: 1.49s\tremaining: 655ms\n",
      "694:\tlearn: 0.0809176\ttotal: 1.49s\tremaining: 653ms\n",
      "695:\tlearn: 0.0808467\ttotal: 1.49s\tremaining: 651ms\n",
      "696:\tlearn: 0.0807701\ttotal: 1.49s\tremaining: 649ms\n",
      "697:\tlearn: 0.0806491\ttotal: 1.49s\tremaining: 647ms\n",
      "698:\tlearn: 0.0804979\ttotal: 1.5s\tremaining: 645ms\n",
      "699:\tlearn: 0.0804129\ttotal: 1.5s\tremaining: 643ms\n",
      "700:\tlearn: 0.0803904\ttotal: 1.5s\tremaining: 641ms\n",
      "701:\tlearn: 0.0803612\ttotal: 1.5s\tremaining: 638ms\n",
      "702:\tlearn: 0.0803203\ttotal: 1.5s\tremaining: 636ms\n"
     ]
    },
    {
     "name": "stdout",
     "output_type": "stream",
     "text": [
      "703:\tlearn: 0.0802088\ttotal: 1.51s\tremaining: 635ms\n",
      "704:\tlearn: 0.0801839\ttotal: 1.51s\tremaining: 633ms\n",
      "705:\tlearn: 0.0800762\ttotal: 1.51s\tremaining: 631ms\n",
      "706:\tlearn: 0.0798838\ttotal: 1.52s\tremaining: 629ms\n",
      "707:\tlearn: 0.0798756\ttotal: 1.52s\tremaining: 627ms\n",
      "708:\tlearn: 0.0797504\ttotal: 1.52s\tremaining: 625ms\n",
      "709:\tlearn: 0.0795154\ttotal: 1.52s\tremaining: 623ms\n",
      "710:\tlearn: 0.0792932\ttotal: 1.53s\tremaining: 620ms\n",
      "711:\tlearn: 0.0790904\ttotal: 1.53s\tremaining: 618ms\n"
     ]
    },
    {
     "name": "stdout",
     "output_type": "stream",
     "text": [
      "712:\tlearn: 0.0789350\ttotal: 1.53s\tremaining: 616ms\n",
      "713:\tlearn: 0.0789073\ttotal: 1.53s\tremaining: 614ms\n",
      "714:\tlearn: 0.0787427\ttotal: 1.53s\tremaining: 612ms\n",
      "715:\tlearn: 0.0787203\ttotal: 1.54s\tremaining: 610ms\n",
      "716:\tlearn: 0.0786861\ttotal: 1.54s\tremaining: 609ms\n",
      "717:\tlearn: 0.0785450\ttotal: 1.54s\tremaining: 607ms\n",
      "718:\tlearn: 0.0783645\ttotal: 1.55s\tremaining: 605ms\n",
      "719:\tlearn: 0.0783516\ttotal: 1.55s\tremaining: 603ms\n",
      "720:\tlearn: 0.0782420\ttotal: 1.55s\tremaining: 600ms\n",
      "721:\tlearn: 0.0781213\ttotal: 1.55s\tremaining: 598ms\n",
      "722:\tlearn: 0.0779286\ttotal: 1.56s\tremaining: 596ms\n",
      "723:\tlearn: 0.0777925\ttotal: 1.56s\tremaining: 594ms\n",
      "724:\tlearn: 0.0776187\ttotal: 1.56s\tremaining: 592ms\n",
      "725:\tlearn: 0.0775341\ttotal: 1.56s\tremaining: 590ms\n",
      "726:\tlearn: 0.0773952\ttotal: 1.57s\tremaining: 588ms\n",
      "727:\tlearn: 0.0772190\ttotal: 1.57s\tremaining: 586ms\n"
     ]
    },
    {
     "name": "stdout",
     "output_type": "stream",
     "text": [
      "728:\tlearn: 0.0771155\ttotal: 1.57s\tremaining: 584ms\n",
      "729:\tlearn: 0.0770600\ttotal: 1.57s\tremaining: 582ms\n",
      "730:\tlearn: 0.0769496\ttotal: 1.57s\tremaining: 580ms\n",
      "731:\tlearn: 0.0768569\ttotal: 1.58s\tremaining: 578ms\n",
      "732:\tlearn: 0.0768476\ttotal: 1.58s\tremaining: 575ms\n",
      "733:\tlearn: 0.0766960\ttotal: 1.58s\tremaining: 573ms\n",
      "734:\tlearn: 0.0765745\ttotal: 1.58s\tremaining: 571ms\n",
      "735:\tlearn: 0.0764282\ttotal: 1.59s\tremaining: 569ms\n",
      "736:\tlearn: 0.0763012\ttotal: 1.59s\tremaining: 567ms\n",
      "737:\tlearn: 0.0761690\ttotal: 1.59s\tremaining: 565ms\n",
      "738:\tlearn: 0.0760308\ttotal: 1.59s\tremaining: 563ms\n",
      "739:\tlearn: 0.0759883\ttotal: 1.6s\tremaining: 561ms\n",
      "740:\tlearn: 0.0758766\ttotal: 1.6s\tremaining: 559ms\n",
      "741:\tlearn: 0.0758655\ttotal: 1.6s\tremaining: 557ms\n",
      "742:\tlearn: 0.0757819\ttotal: 1.6s\tremaining: 555ms\n",
      "743:\tlearn: 0.0756244\ttotal: 1.61s\tremaining: 553ms\n",
      "744:\tlearn: 0.0754506\ttotal: 1.61s\tremaining: 551ms\n",
      "745:\tlearn: 0.0754358\ttotal: 1.61s\tremaining: 549ms\n",
      "746:\tlearn: 0.0753347\ttotal: 1.62s\tremaining: 548ms\n",
      "747:\tlearn: 0.0751783\ttotal: 1.62s\tremaining: 545ms\n",
      "748:\tlearn: 0.0750912\ttotal: 1.62s\tremaining: 543ms\n",
      "749:\tlearn: 0.0750193\ttotal: 1.62s\tremaining: 541ms\n",
      "750:\tlearn: 0.0749202\ttotal: 1.63s\tremaining: 539ms\n",
      "751:\tlearn: 0.0748984\ttotal: 1.63s\tremaining: 537ms\n",
      "752:\tlearn: 0.0747506\ttotal: 1.63s\tremaining: 535ms\n",
      "753:\tlearn: 0.0745656\ttotal: 1.63s\tremaining: 533ms\n",
      "754:\tlearn: 0.0744937\ttotal: 1.64s\tremaining: 531ms\n",
      "755:\tlearn: 0.0744491\ttotal: 1.64s\tremaining: 529ms\n",
      "756:\tlearn: 0.0743444\ttotal: 1.64s\tremaining: 526ms\n",
      "757:\tlearn: 0.0743087\ttotal: 1.64s\tremaining: 524ms\n",
      "758:\tlearn: 0.0742139\ttotal: 1.65s\tremaining: 522ms\n",
      "759:\tlearn: 0.0741233\ttotal: 1.65s\tremaining: 521ms\n",
      "760:\tlearn: 0.0739600\ttotal: 1.65s\tremaining: 519ms\n",
      "761:\tlearn: 0.0739192\ttotal: 1.66s\tremaining: 517ms\n",
      "762:\tlearn: 0.0738578\ttotal: 1.66s\tremaining: 515ms\n",
      "763:\tlearn: 0.0737792\ttotal: 1.66s\tremaining: 513ms\n",
      "764:\tlearn: 0.0736276\ttotal: 1.67s\tremaining: 511ms\n",
      "765:\tlearn: 0.0735760\ttotal: 1.67s\tremaining: 509ms\n",
      "766:\tlearn: 0.0734542\ttotal: 1.67s\tremaining: 507ms\n",
      "767:\tlearn: 0.0733947\ttotal: 1.67s\tremaining: 505ms\n",
      "768:\tlearn: 0.0732272\ttotal: 1.67s\tremaining: 503ms\n",
      "769:\tlearn: 0.0731718\ttotal: 1.68s\tremaining: 501ms\n",
      "770:\tlearn: 0.0729522\ttotal: 1.68s\tremaining: 499ms\n",
      "771:\tlearn: 0.0728118\ttotal: 1.68s\tremaining: 497ms\n"
     ]
    },
    {
     "name": "stdout",
     "output_type": "stream",
     "text": [
      "772:\tlearn: 0.0728011\ttotal: 1.68s\tremaining: 495ms\n",
      "773:\tlearn: 0.0727274\ttotal: 1.69s\tremaining: 493ms\n",
      "774:\tlearn: 0.0726087\ttotal: 1.69s\tremaining: 491ms\n",
      "775:\tlearn: 0.0725437\ttotal: 1.69s\tremaining: 489ms\n",
      "776:\tlearn: 0.0725082\ttotal: 1.69s\tremaining: 486ms\n",
      "777:\tlearn: 0.0723579\ttotal: 1.7s\tremaining: 484ms\n",
      "778:\tlearn: 0.0723059\ttotal: 1.7s\tremaining: 482ms\n",
      "779:\tlearn: 0.0720592\ttotal: 1.7s\tremaining: 480ms\n",
      "780:\tlearn: 0.0719156\ttotal: 1.7s\tremaining: 478ms\n"
     ]
    },
    {
     "name": "stdout",
     "output_type": "stream",
     "text": [
      "781:\tlearn: 0.0718856\ttotal: 1.71s\tremaining: 476ms\n",
      "782:\tlearn: 0.0717823\ttotal: 1.71s\tremaining: 474ms\n",
      "783:\tlearn: 0.0717357\ttotal: 1.71s\tremaining: 472ms\n",
      "784:\tlearn: 0.0716433\ttotal: 1.71s\tremaining: 470ms\n",
      "785:\tlearn: 0.0716314\ttotal: 1.72s\tremaining: 467ms\n",
      "786:\tlearn: 0.0715282\ttotal: 1.72s\tremaining: 465ms\n",
      "787:\tlearn: 0.0714079\ttotal: 1.72s\tremaining: 463ms\n",
      "788:\tlearn: 0.0714001\ttotal: 1.72s\tremaining: 461ms\n",
      "789:\tlearn: 0.0712778\ttotal: 1.73s\tremaining: 459ms\n",
      "790:\tlearn: 0.0712292\ttotal: 1.73s\tremaining: 457ms\n",
      "791:\tlearn: 0.0710254\ttotal: 1.73s\tremaining: 455ms\n",
      "792:\tlearn: 0.0709132\ttotal: 1.73s\tremaining: 452ms\n",
      "793:\tlearn: 0.0707581\ttotal: 1.74s\tremaining: 450ms\n",
      "794:\tlearn: 0.0706501\ttotal: 1.74s\tremaining: 448ms\n",
      "795:\tlearn: 0.0705120\ttotal: 1.74s\tremaining: 446ms\n",
      "796:\tlearn: 0.0703976\ttotal: 1.74s\tremaining: 444ms\n",
      "797:\tlearn: 0.0702988\ttotal: 1.74s\tremaining: 442ms\n"
     ]
    },
    {
     "name": "stdout",
     "output_type": "stream",
     "text": [
      "798:\tlearn: 0.0701979\ttotal: 1.75s\tremaining: 439ms\n",
      "799:\tlearn: 0.0701861\ttotal: 1.75s\tremaining: 437ms\n",
      "800:\tlearn: 0.0700397\ttotal: 1.75s\tremaining: 435ms\n",
      "801:\tlearn: 0.0699656\ttotal: 1.75s\tremaining: 433ms\n",
      "802:\tlearn: 0.0697898\ttotal: 1.75s\tremaining: 431ms\n",
      "803:\tlearn: 0.0697083\ttotal: 1.76s\tremaining: 429ms\n",
      "804:\tlearn: 0.0696014\ttotal: 1.76s\tremaining: 426ms\n",
      "805:\tlearn: 0.0694233\ttotal: 1.76s\tremaining: 424ms\n",
      "806:\tlearn: 0.0693160\ttotal: 1.76s\tremaining: 422ms\n",
      "807:\tlearn: 0.0691833\ttotal: 1.77s\tremaining: 420ms\n",
      "808:\tlearn: 0.0691522\ttotal: 1.77s\tremaining: 418ms\n",
      "809:\tlearn: 0.0689647\ttotal: 1.77s\tremaining: 415ms\n",
      "810:\tlearn: 0.0688384\ttotal: 1.77s\tremaining: 413ms\n",
      "811:\tlearn: 0.0686785\ttotal: 1.78s\tremaining: 411ms\n",
      "812:\tlearn: 0.0685789\ttotal: 1.79s\tremaining: 411ms\n",
      "813:\tlearn: 0.0685418\ttotal: 1.79s\tremaining: 409ms\n",
      "814:\tlearn: 0.0684403\ttotal: 1.8s\tremaining: 408ms\n",
      "815:\tlearn: 0.0683574\ttotal: 1.8s\tremaining: 407ms\n",
      "816:\tlearn: 0.0682883\ttotal: 1.8s\tremaining: 404ms\n",
      "817:\tlearn: 0.0681667\ttotal: 1.81s\tremaining: 402ms\n",
      "818:\tlearn: 0.0679585\ttotal: 1.81s\tremaining: 400ms\n",
      "819:\tlearn: 0.0677961\ttotal: 1.81s\tremaining: 398ms\n",
      "820:\tlearn: 0.0677867\ttotal: 1.81s\tremaining: 396ms\n",
      "821:\tlearn: 0.0676012\ttotal: 1.82s\tremaining: 393ms\n",
      "822:\tlearn: 0.0674431\ttotal: 1.82s\tremaining: 392ms\n",
      "823:\tlearn: 0.0673173\ttotal: 1.82s\tremaining: 389ms\n",
      "824:\tlearn: 0.0672359\ttotal: 1.83s\tremaining: 387ms\n",
      "825:\tlearn: 0.0671074\ttotal: 1.83s\tremaining: 386ms\n",
      "826:\tlearn: 0.0670419\ttotal: 1.83s\tremaining: 383ms\n",
      "827:\tlearn: 0.0668698\ttotal: 1.83s\tremaining: 381ms\n",
      "828:\tlearn: 0.0668412\ttotal: 1.84s\tremaining: 379ms\n",
      "829:\tlearn: 0.0667189\ttotal: 1.84s\tremaining: 377ms\n",
      "830:\tlearn: 0.0665436\ttotal: 1.84s\tremaining: 375ms\n",
      "831:\tlearn: 0.0665296\ttotal: 1.84s\tremaining: 372ms\n",
      "832:\tlearn: 0.0665204\ttotal: 1.85s\tremaining: 370ms\n",
      "833:\tlearn: 0.0664454\ttotal: 1.85s\tremaining: 368ms\n",
      "834:\tlearn: 0.0663817\ttotal: 1.85s\tremaining: 366ms\n",
      "835:\tlearn: 0.0663769\ttotal: 1.85s\tremaining: 364ms\n"
     ]
    },
    {
     "name": "stdout",
     "output_type": "stream",
     "text": [
      "836:\tlearn: 0.0662002\ttotal: 1.86s\tremaining: 363ms\n",
      "837:\tlearn: 0.0661114\ttotal: 1.87s\tremaining: 361ms\n",
      "838:\tlearn: 0.0659746\ttotal: 1.87s\tremaining: 359ms\n",
      "839:\tlearn: 0.0659650\ttotal: 1.87s\tremaining: 356ms\n",
      "840:\tlearn: 0.0658905\ttotal: 1.87s\tremaining: 354ms\n",
      "841:\tlearn: 0.0657656\ttotal: 1.88s\tremaining: 352ms\n",
      "842:\tlearn: 0.0657586\ttotal: 1.88s\tremaining: 350ms\n"
     ]
    },
    {
     "name": "stdout",
     "output_type": "stream",
     "text": [
      "843:\tlearn: 0.0656864\ttotal: 1.88s\tremaining: 348ms\n",
      "844:\tlearn: 0.0655101\ttotal: 1.88s\tremaining: 345ms\n",
      "845:\tlearn: 0.0654792\ttotal: 1.89s\tremaining: 343ms\n",
      "846:\tlearn: 0.0652895\ttotal: 1.89s\tremaining: 341ms\n",
      "847:\tlearn: 0.0652475\ttotal: 1.89s\tremaining: 339ms\n",
      "848:\tlearn: 0.0652090\ttotal: 1.89s\tremaining: 336ms\n",
      "849:\tlearn: 0.0651046\ttotal: 1.89s\tremaining: 334ms\n",
      "850:\tlearn: 0.0650252\ttotal: 1.9s\tremaining: 332ms\n",
      "851:\tlearn: 0.0648437\ttotal: 1.9s\tremaining: 330ms\n",
      "852:\tlearn: 0.0647395\ttotal: 1.9s\tremaining: 328ms\n",
      "853:\tlearn: 0.0646419\ttotal: 1.91s\tremaining: 326ms\n",
      "854:\tlearn: 0.0644863\ttotal: 1.91s\tremaining: 324ms\n",
      "855:\tlearn: 0.0643593\ttotal: 1.91s\tremaining: 321ms\n",
      "856:\tlearn: 0.0642857\ttotal: 1.91s\tremaining: 319ms\n",
      "857:\tlearn: 0.0642039\ttotal: 1.91s\tremaining: 317ms\n",
      "858:\tlearn: 0.0641869\ttotal: 1.92s\tremaining: 315ms\n",
      "859:\tlearn: 0.0639956\ttotal: 1.92s\tremaining: 312ms\n",
      "860:\tlearn: 0.0638946\ttotal: 1.92s\tremaining: 310ms\n"
     ]
    },
    {
     "name": "stdout",
     "output_type": "stream",
     "text": [
      "861:\tlearn: 0.0638384\ttotal: 1.92s\tremaining: 308ms\n",
      "862:\tlearn: 0.0638310\ttotal: 1.93s\tremaining: 306ms\n",
      "863:\tlearn: 0.0637230\ttotal: 1.93s\tremaining: 304ms\n",
      "864:\tlearn: 0.0636566\ttotal: 1.93s\tremaining: 302ms\n",
      "865:\tlearn: 0.0635179\ttotal: 1.93s\tremaining: 299ms\n",
      "866:\tlearn: 0.0635061\ttotal: 1.94s\tremaining: 297ms\n",
      "867:\tlearn: 0.0633779\ttotal: 1.94s\tremaining: 295ms\n",
      "868:\tlearn: 0.0632541\ttotal: 1.94s\tremaining: 293ms\n",
      "869:\tlearn: 0.0631830\ttotal: 1.94s\tremaining: 291ms\n",
      "870:\tlearn: 0.0630722\ttotal: 1.95s\tremaining: 288ms\n",
      "871:\tlearn: 0.0629613\ttotal: 1.95s\tremaining: 286ms\n",
      "872:\tlearn: 0.0627867\ttotal: 1.95s\tremaining: 284ms\n",
      "873:\tlearn: 0.0627249\ttotal: 1.95s\tremaining: 282ms\n",
      "874:\tlearn: 0.0626292\ttotal: 1.96s\tremaining: 280ms\n",
      "875:\tlearn: 0.0625632\ttotal: 1.96s\tremaining: 277ms\n",
      "876:\tlearn: 0.0624823\ttotal: 1.96s\tremaining: 275ms\n",
      "877:\tlearn: 0.0623766\ttotal: 1.96s\tremaining: 273ms\n",
      "878:\tlearn: 0.0622316\ttotal: 1.97s\tremaining: 271ms\n",
      "879:\tlearn: 0.0621894\ttotal: 1.97s\tremaining: 268ms\n",
      "880:\tlearn: 0.0620666\ttotal: 1.97s\tremaining: 266ms\n",
      "881:\tlearn: 0.0620141\ttotal: 1.97s\tremaining: 264ms\n",
      "882:\tlearn: 0.0619094\ttotal: 1.98s\tremaining: 262ms\n",
      "883:\tlearn: 0.0618109\ttotal: 1.98s\tremaining: 260ms\n",
      "884:\tlearn: 0.0617088\ttotal: 1.98s\tremaining: 257ms\n",
      "885:\tlearn: 0.0616411\ttotal: 1.98s\tremaining: 255ms\n",
      "886:\tlearn: 0.0615417\ttotal: 1.98s\tremaining: 253ms\n",
      "887:\tlearn: 0.0614298\ttotal: 1.99s\tremaining: 251ms\n",
      "888:\tlearn: 0.0613986\ttotal: 1.99s\tremaining: 248ms\n",
      "889:\tlearn: 0.0612986\ttotal: 1.99s\tremaining: 246ms\n",
      "890:\tlearn: 0.0612295\ttotal: 1.99s\tremaining: 244ms\n",
      "891:\tlearn: 0.0611604\ttotal: 2s\tremaining: 242ms\n",
      "892:\tlearn: 0.0610815\ttotal: 2s\tremaining: 239ms\n",
      "893:\tlearn: 0.0609451\ttotal: 2s\tremaining: 237ms\n",
      "894:\tlearn: 0.0608071\ttotal: 2s\tremaining: 235ms\n",
      "895:\tlearn: 0.0607278\ttotal: 2s\tremaining: 233ms\n",
      "896:\tlearn: 0.0605757\ttotal: 2.01s\tremaining: 230ms\n",
      "897:\tlearn: 0.0605653\ttotal: 2.01s\tremaining: 228ms\n",
      "898:\tlearn: 0.0604768\ttotal: 2.01s\tremaining: 226ms\n",
      "899:\tlearn: 0.0603563\ttotal: 2.01s\tremaining: 224ms\n",
      "900:\tlearn: 0.0603362\ttotal: 2.02s\tremaining: 222ms\n",
      "901:\tlearn: 0.0602131\ttotal: 2.02s\tremaining: 219ms\n",
      "902:\tlearn: 0.0601614\ttotal: 2.02s\tremaining: 217ms\n",
      "903:\tlearn: 0.0600445\ttotal: 2.02s\tremaining: 215ms\n",
      "904:\tlearn: 0.0598978\ttotal: 2.02s\tremaining: 213ms\n",
      "905:\tlearn: 0.0598455\ttotal: 2.03s\tremaining: 210ms\n",
      "906:\tlearn: 0.0597677\ttotal: 2.03s\tremaining: 208ms\n",
      "907:\tlearn: 0.0596691\ttotal: 2.03s\tremaining: 206ms\n",
      "908:\tlearn: 0.0595769\ttotal: 2.03s\tremaining: 204ms\n"
     ]
    },
    {
     "name": "stdout",
     "output_type": "stream",
     "text": [
      "909:\tlearn: 0.0595272\ttotal: 2.04s\tremaining: 202ms\n",
      "910:\tlearn: 0.0594806\ttotal: 2.04s\tremaining: 199ms\n",
      "911:\tlearn: 0.0594194\ttotal: 2.04s\tremaining: 197ms\n",
      "912:\tlearn: 0.0592850\ttotal: 2.04s\tremaining: 195ms\n",
      "913:\tlearn: 0.0592056\ttotal: 2.05s\tremaining: 193ms\n",
      "914:\tlearn: 0.0591239\ttotal: 2.05s\tremaining: 190ms\n",
      "915:\tlearn: 0.0589816\ttotal: 2.05s\tremaining: 188ms\n"
     ]
    },
    {
     "name": "stdout",
     "output_type": "stream",
     "text": [
      "916:\tlearn: 0.0588829\ttotal: 2.05s\tremaining: 186ms\n",
      "917:\tlearn: 0.0587569\ttotal: 2.06s\tremaining: 184ms\n",
      "918:\tlearn: 0.0586509\ttotal: 2.06s\tremaining: 182ms\n",
      "919:\tlearn: 0.0585985\ttotal: 2.06s\tremaining: 179ms\n",
      "920:\tlearn: 0.0585657\ttotal: 2.06s\tremaining: 177ms\n",
      "921:\tlearn: 0.0584649\ttotal: 2.07s\tremaining: 175ms\n",
      "922:\tlearn: 0.0584257\ttotal: 2.07s\tremaining: 173ms\n",
      "923:\tlearn: 0.0583637\ttotal: 2.07s\tremaining: 170ms\n",
      "924:\tlearn: 0.0582980\ttotal: 2.08s\tremaining: 169ms\n",
      "925:\tlearn: 0.0582188\ttotal: 2.08s\tremaining: 166ms\n",
      "926:\tlearn: 0.0581541\ttotal: 2.08s\tremaining: 164ms\n",
      "927:\tlearn: 0.0580728\ttotal: 2.09s\tremaining: 162ms\n",
      "928:\tlearn: 0.0579557\ttotal: 2.09s\tremaining: 160ms\n",
      "929:\tlearn: 0.0578845\ttotal: 2.09s\tremaining: 157ms\n",
      "930:\tlearn: 0.0577367\ttotal: 2.09s\tremaining: 155ms\n"
     ]
    },
    {
     "name": "stdout",
     "output_type": "stream",
     "text": [
      "931:\tlearn: 0.0576250\ttotal: 2.1s\tremaining: 153ms\n",
      "932:\tlearn: 0.0575059\ttotal: 2.1s\tremaining: 151ms\n",
      "933:\tlearn: 0.0574775\ttotal: 2.1s\tremaining: 149ms\n",
      "934:\tlearn: 0.0574498\ttotal: 2.1s\tremaining: 146ms\n",
      "935:\tlearn: 0.0573032\ttotal: 2.11s\tremaining: 144ms\n",
      "936:\tlearn: 0.0572159\ttotal: 2.11s\tremaining: 142ms\n",
      "937:\tlearn: 0.0571247\ttotal: 2.11s\tremaining: 140ms\n",
      "938:\tlearn: 0.0571210\ttotal: 2.11s\tremaining: 137ms\n",
      "939:\tlearn: 0.0569547\ttotal: 2.12s\tremaining: 135ms\n",
      "940:\tlearn: 0.0568593\ttotal: 2.12s\tremaining: 133ms\n",
      "941:\tlearn: 0.0567237\ttotal: 2.12s\tremaining: 131ms\n",
      "942:\tlearn: 0.0565971\ttotal: 2.12s\tremaining: 128ms\n",
      "943:\tlearn: 0.0565277\ttotal: 2.13s\tremaining: 126ms\n",
      "944:\tlearn: 0.0564434\ttotal: 2.13s\tremaining: 124ms\n",
      "945:\tlearn: 0.0563037\ttotal: 2.13s\tremaining: 122ms\n",
      "946:\tlearn: 0.0561769\ttotal: 2.13s\tremaining: 119ms\n",
      "947:\tlearn: 0.0561728\ttotal: 2.13s\tremaining: 117ms\n",
      "948:\tlearn: 0.0560799\ttotal: 2.13s\tremaining: 115ms\n",
      "949:\tlearn: 0.0560316\ttotal: 2.14s\tremaining: 113ms\n",
      "950:\tlearn: 0.0559618\ttotal: 2.14s\tremaining: 110ms\n",
      "951:\tlearn: 0.0559558\ttotal: 2.14s\tremaining: 108ms\n",
      "952:\tlearn: 0.0558562\ttotal: 2.15s\tremaining: 106ms\n",
      "953:\tlearn: 0.0557858\ttotal: 2.15s\tremaining: 104ms\n",
      "954:\tlearn: 0.0557469\ttotal: 2.15s\tremaining: 101ms\n",
      "955:\tlearn: 0.0556460\ttotal: 2.15s\tremaining: 99.1ms\n",
      "956:\tlearn: 0.0555648\ttotal: 2.16s\tremaining: 96.9ms\n",
      "957:\tlearn: 0.0554506\ttotal: 2.16s\tremaining: 94.7ms\n",
      "958:\tlearn: 0.0553879\ttotal: 2.16s\tremaining: 92.5ms\n",
      "959:\tlearn: 0.0553053\ttotal: 2.17s\tremaining: 90.3ms\n",
      "960:\tlearn: 0.0552040\ttotal: 2.17s\tremaining: 88.2ms\n",
      "961:\tlearn: 0.0551010\ttotal: 2.18s\tremaining: 86ms\n",
      "962:\tlearn: 0.0550797\ttotal: 2.18s\tremaining: 83.8ms\n",
      "963:\tlearn: 0.0550734\ttotal: 2.18s\tremaining: 81.5ms\n",
      "964:\tlearn: 0.0550506\ttotal: 2.18s\tremaining: 79.2ms\n",
      "965:\tlearn: 0.0549641\ttotal: 2.19s\tremaining: 77ms\n",
      "966:\tlearn: 0.0549452\ttotal: 2.19s\tremaining: 74.7ms\n",
      "967:\tlearn: 0.0548399\ttotal: 2.19s\tremaining: 72.5ms\n",
      "968:\tlearn: 0.0548119\ttotal: 2.19s\tremaining: 70.2ms\n",
      "969:\tlearn: 0.0546937\ttotal: 2.2s\tremaining: 68ms\n",
      "970:\tlearn: 0.0545996\ttotal: 2.2s\tremaining: 65.7ms\n",
      "971:\tlearn: 0.0545276\ttotal: 2.2s\tremaining: 63.4ms\n",
      "972:\tlearn: 0.0544148\ttotal: 2.2s\tremaining: 61.2ms\n",
      "973:\tlearn: 0.0543386\ttotal: 2.21s\tremaining: 58.9ms\n",
      "974:\tlearn: 0.0542232\ttotal: 2.21s\tremaining: 56.7ms\n",
      "975:\tlearn: 0.0541379\ttotal: 2.21s\tremaining: 54.4ms\n"
     ]
    },
    {
     "name": "stdout",
     "output_type": "stream",
     "text": [
      "976:\tlearn: 0.0540816\ttotal: 2.21s\tremaining: 52.1ms\n",
      "977:\tlearn: 0.0540649\ttotal: 2.22s\tremaining: 49.9ms\n",
      "978:\tlearn: 0.0539362\ttotal: 2.22s\tremaining: 47.6ms\n",
      "979:\tlearn: 0.0538564\ttotal: 2.22s\tremaining: 45.3ms\n",
      "980:\tlearn: 0.0537829\ttotal: 2.22s\tremaining: 43.1ms\n",
      "981:\tlearn: 0.0537105\ttotal: 2.23s\tremaining: 40.8ms\n"
     ]
    },
    {
     "name": "stdout",
     "output_type": "stream",
     "text": [
      "982:\tlearn: 0.0535945\ttotal: 2.23s\tremaining: 38.6ms\n",
      "983:\tlearn: 0.0535747\ttotal: 2.23s\tremaining: 36.3ms\n",
      "984:\tlearn: 0.0534667\ttotal: 2.23s\tremaining: 34ms\n",
      "985:\tlearn: 0.0533739\ttotal: 2.23s\tremaining: 31.7ms\n",
      "986:\tlearn: 0.0533122\ttotal: 2.24s\tremaining: 29.5ms\n",
      "987:\tlearn: 0.0531985\ttotal: 2.24s\tremaining: 27.2ms\n",
      "988:\tlearn: 0.0530778\ttotal: 2.24s\tremaining: 24.9ms\n",
      "989:\tlearn: 0.0530431\ttotal: 2.24s\tremaining: 22.7ms\n",
      "990:\tlearn: 0.0529450\ttotal: 2.25s\tremaining: 20.4ms\n",
      "991:\tlearn: 0.0528332\ttotal: 2.25s\tremaining: 18.1ms\n",
      "992:\tlearn: 0.0526975\ttotal: 2.25s\tremaining: 15.9ms\n",
      "993:\tlearn: 0.0526888\ttotal: 2.25s\tremaining: 13.6ms\n",
      "994:\tlearn: 0.0526489\ttotal: 2.26s\tremaining: 11.3ms\n",
      "995:\tlearn: 0.0526217\ttotal: 2.26s\tremaining: 9.07ms\n",
      "996:\tlearn: 0.0525758\ttotal: 2.26s\tremaining: 6.8ms\n",
      "997:\tlearn: 0.0524791\ttotal: 2.26s\tremaining: 4.54ms\n",
      "998:\tlearn: 0.0524082\ttotal: 2.27s\tremaining: 2.27ms\n",
      "999:\tlearn: 0.0523633\ttotal: 2.27s\tremaining: 0us\n"
     ]
    },
    {
     "name": "stdout",
     "output_type": "stream",
     "text": [
      "Mean Absolute error 0.2319288675868622\n"
     ]
    },
    {
     "data": {
      "application/scrapbook.scrap.json+json": {
       "data": 0.2319288675868622,
       "encoder": "json",
       "name": "Catboost MAE",
       "version": 1
      }
     },
     "metadata": {
      "scrapbook": {
       "data": true,
       "display": false,
       "name": "Catboost MAE"
      }
     },
     "output_type": "display_data"
    },
    {
     "name": "stdout",
     "output_type": "stream",
     "text": [
      "Catboost MAE 0.2319288675868622\n"
     ]
    }
   ],
   "source": [
    "mae_cb = baselineModels.catboost(X_train,y_train,X_test,y_test)\n",
    "#Store MSE Value\n",
    "sb.glue(\"Catboost MAE\",mae_cb)\n",
    "print(\"Catboost MAE\",mae_cb)"
   ]
  },
  {
   "cell_type": "markdown",
   "id": "40aef4b9",
   "metadata": {
    "papermill": {
     "duration": 0.0169,
     "end_time": "2022-07-21T10:30:05.225954",
     "exception": false,
     "start_time": "2022-07-21T10:30:05.209054",
     "status": "completed"
    },
    "tags": []
   },
   "source": [
    "# TabNet Regressor"
   ]
  },
  {
   "cell_type": "code",
   "execution_count": 7,
   "id": "df57d859",
   "metadata": {
    "execution": {
     "iopub.execute_input": "2022-07-21T10:30:05.248568Z",
     "iopub.status.busy": "2022-07-21T10:30:05.247984Z",
     "iopub.status.idle": "2022-07-21T10:30:05.253076Z",
     "shell.execute_reply": "2022-07-21T10:30:05.252360Z"
    },
    "papermill": {
     "duration": 0.020178,
     "end_time": "2022-07-21T10:30:05.256390",
     "exception": false,
     "start_time": "2022-07-21T10:30:05.236212",
     "status": "completed"
    },
    "tags": []
   },
   "outputs": [],
   "source": [
    "n_epochs = 1000\n",
    "batch_size = 32"
   ]
  },
  {
   "cell_type": "code",
   "execution_count": 8,
   "id": "e41f78d2",
   "metadata": {
    "execution": {
     "iopub.execute_input": "2022-07-21T10:30:05.285507Z",
     "iopub.status.busy": "2022-07-21T10:30:05.285184Z",
     "iopub.status.idle": "2022-07-21T10:31:38.840189Z",
     "shell.execute_reply": "2022-07-21T10:31:38.839268Z"
    },
    "papermill": {
     "duration": 93.578163,
     "end_time": "2022-07-21T10:31:38.843255",
     "exception": false,
     "start_time": "2022-07-21T10:30:05.265092",
     "status": "completed"
    },
    "tags": []
   },
   "outputs": [
    {
     "name": "stdout",
     "output_type": "stream",
     "text": [
      "Device used : cpu\n"
     ]
    },
    {
     "name": "stdout",
     "output_type": "stream",
     "text": [
      "epoch 0  | loss: 2.4045  | train_mse: 1.46227 | train_mae: 0.87942 |  0:00:01s\n"
     ]
    },
    {
     "name": "stdout",
     "output_type": "stream",
     "text": [
      "epoch 1  | loss: 1.126   | train_mse: 0.83728 | train_mae: 0.61542 |  0:00:01s\n"
     ]
    },
    {
     "name": "stdout",
     "output_type": "stream",
     "text": [
      "epoch 2  | loss: 0.65946 | train_mse: 0.55818 | train_mae: 0.51123 |  0:00:02s\n"
     ]
    },
    {
     "name": "stdout",
     "output_type": "stream",
     "text": [
      "epoch 3  | loss: 0.53701 | train_mse: 0.61271 | train_mae: 0.50406 |  0:00:02s\n"
     ]
    },
    {
     "name": "stdout",
     "output_type": "stream",
     "text": [
      "epoch 4  | loss: 0.5536  | train_mse: 0.54253 | train_mae: 0.47568 |  0:00:02s\n"
     ]
    },
    {
     "name": "stdout",
     "output_type": "stream",
     "text": [
      "epoch 5  | loss: 0.50345 | train_mse: 0.3169  | train_mae: 0.38654 |  0:00:02s\n"
     ]
    },
    {
     "name": "stdout",
     "output_type": "stream",
     "text": [
      "epoch 6  | loss: 0.45732 | train_mse: 0.49818 | train_mae: 0.47025 |  0:00:03s\n"
     ]
    },
    {
     "name": "stdout",
     "output_type": "stream",
     "text": [
      "epoch 7  | loss: 0.39077 | train_mse: 0.40451 | train_mae: 0.41927 |  0:00:03s\n"
     ]
    },
    {
     "name": "stdout",
     "output_type": "stream",
     "text": [
      "epoch 8  | loss: 0.39448 | train_mse: 0.28499 | train_mae: 0.35555 |  0:00:03s\n"
     ]
    },
    {
     "name": "stdout",
     "output_type": "stream",
     "text": [
      "epoch 9  | loss: 0.35835 | train_mse: 0.24924 | train_mae: 0.33822 |  0:00:04s\n"
     ]
    },
    {
     "name": "stdout",
     "output_type": "stream",
     "text": [
      "epoch 10 | loss: 0.26296 | train_mse: 0.23013 | train_mae: 0.32854 |  0:00:04s\n"
     ]
    },
    {
     "name": "stdout",
     "output_type": "stream",
     "text": [
      "epoch 11 | loss: 0.30344 | train_mse: 0.26588 | train_mae: 0.33872 |  0:00:04s\n"
     ]
    },
    {
     "name": "stdout",
     "output_type": "stream",
     "text": [
      "epoch 12 | loss: 0.23022 | train_mse: 0.25087 | train_mae: 0.34676 |  0:00:04s\n"
     ]
    },
    {
     "name": "stdout",
     "output_type": "stream",
     "text": [
      "epoch 13 | loss: 0.25174 | train_mse: 0.2277  | train_mae: 0.33037 |  0:00:05s\n"
     ]
    },
    {
     "name": "stdout",
     "output_type": "stream",
     "text": [
      "epoch 14 | loss: 0.27919 | train_mse: 0.19944 | train_mae: 0.30166 |  0:00:05s\n"
     ]
    },
    {
     "name": "stdout",
     "output_type": "stream",
     "text": [
      "epoch 15 | loss: 0.28507 | train_mse: 0.19619 | train_mae: 0.30201 |  0:00:05s\n"
     ]
    },
    {
     "name": "stdout",
     "output_type": "stream",
     "text": [
      "epoch 16 | loss: 0.2575  | train_mse: 0.17861 | train_mae: 0.28682 |  0:00:06s\n"
     ]
    },
    {
     "name": "stdout",
     "output_type": "stream",
     "text": [
      "epoch 17 | loss: 0.26971 | train_mse: 0.18971 | train_mae: 0.28609 |  0:00:06s\n"
     ]
    },
    {
     "name": "stdout",
     "output_type": "stream",
     "text": [
      "epoch 18 | loss: 0.26109 | train_mse: 0.17341 | train_mae: 0.27634 |  0:00:06s\n"
     ]
    },
    {
     "name": "stdout",
     "output_type": "stream",
     "text": [
      "epoch 19 | loss: 0.2501  | train_mse: 0.19377 | train_mae: 0.28447 |  0:00:07s\n"
     ]
    },
    {
     "name": "stdout",
     "output_type": "stream",
     "text": [
      "epoch 20 | loss: 0.29602 | train_mse: 0.18759 | train_mae: 0.28091 |  0:00:07s\n"
     ]
    },
    {
     "name": "stdout",
     "output_type": "stream",
     "text": [
      "epoch 21 | loss: 0.25256 | train_mse: 0.16509 | train_mae: 0.27044 |  0:00:08s\n"
     ]
    },
    {
     "name": "stdout",
     "output_type": "stream",
     "text": [
      "epoch 22 | loss: 0.2717  | train_mse: 0.16242 | train_mae: 0.26903 |  0:00:08s\n"
     ]
    },
    {
     "name": "stdout",
     "output_type": "stream",
     "text": [
      "epoch 23 | loss: 0.20538 | train_mse: 0.15476 | train_mae: 0.26294 |  0:00:09s\n"
     ]
    },
    {
     "name": "stdout",
     "output_type": "stream",
     "text": [
      "epoch 24 | loss: 0.22413 | train_mse: 0.17231 | train_mae: 0.27912 |  0:00:09s\n"
     ]
    },
    {
     "name": "stdout",
     "output_type": "stream",
     "text": [
      "epoch 25 | loss: 0.20454 | train_mse: 0.16437 | train_mae: 0.28156 |  0:00:09s\n"
     ]
    },
    {
     "name": "stdout",
     "output_type": "stream",
     "text": [
      "epoch 26 | loss: 0.26054 | train_mse: 0.15623 | train_mae: 0.27167 |  0:00:09s\n"
     ]
    },
    {
     "name": "stdout",
     "output_type": "stream",
     "text": [
      "epoch 27 | loss: 0.22406 | train_mse: 0.15993 | train_mae: 0.27522 |  0:00:10s\n"
     ]
    },
    {
     "name": "stdout",
     "output_type": "stream",
     "text": [
      "epoch 28 | loss: 0.22029 | train_mse: 0.15181 | train_mae: 0.26686 |  0:00:10s\n"
     ]
    },
    {
     "name": "stdout",
     "output_type": "stream",
     "text": [
      "epoch 29 | loss: 0.22199 | train_mse: 0.14414 | train_mae: 0.26909 |  0:00:10s\n"
     ]
    },
    {
     "name": "stdout",
     "output_type": "stream",
     "text": [
      "epoch 30 | loss: 0.19172 | train_mse: 0.14907 | train_mae: 0.27649 |  0:00:11s\n"
     ]
    },
    {
     "name": "stdout",
     "output_type": "stream",
     "text": [
      "epoch 31 | loss: 0.20482 | train_mse: 0.15718 | train_mae: 0.27817 |  0:00:11s\n"
     ]
    },
    {
     "name": "stdout",
     "output_type": "stream",
     "text": [
      "epoch 32 | loss: 0.21372 | train_mse: 0.13866 | train_mae: 0.277   |  0:00:11s\n"
     ]
    },
    {
     "name": "stdout",
     "output_type": "stream",
     "text": [
      "epoch 33 | loss: 0.18859 | train_mse: 0.13087 | train_mae: 0.25897 |  0:00:11s\n"
     ]
    },
    {
     "name": "stdout",
     "output_type": "stream",
     "text": [
      "epoch 34 | loss: 0.22357 | train_mse: 0.16446 | train_mae: 0.27306 |  0:00:12s\n"
     ]
    },
    {
     "name": "stdout",
     "output_type": "stream",
     "text": [
      "epoch 35 | loss: 0.25045 | train_mse: 0.13273 | train_mae: 0.26184 |  0:00:12s\n"
     ]
    },
    {
     "name": "stdout",
     "output_type": "stream",
     "text": [
      "epoch 36 | loss: 0.23062 | train_mse: 0.1212  | train_mae: 0.2519  |  0:00:12s\n"
     ]
    },
    {
     "name": "stdout",
     "output_type": "stream",
     "text": [
      "epoch 37 | loss: 0.2347  | train_mse: 0.12999 | train_mae: 0.25644 |  0:00:13s\n"
     ]
    },
    {
     "name": "stdout",
     "output_type": "stream",
     "text": [
      "epoch 38 | loss: 0.21547 | train_mse: 0.12068 | train_mae: 0.24717 |  0:00:13s\n"
     ]
    },
    {
     "name": "stdout",
     "output_type": "stream",
     "text": [
      "epoch 39 | loss: 0.16744 | train_mse: 0.10522 | train_mae: 0.23574 |  0:00:13s\n"
     ]
    },
    {
     "name": "stdout",
     "output_type": "stream",
     "text": [
      "epoch 40 | loss: 0.19611 | train_mse: 0.11194 | train_mae: 0.24161 |  0:00:13s\n"
     ]
    },
    {
     "name": "stdout",
     "output_type": "stream",
     "text": [
      "epoch 41 | loss: 0.19308 | train_mse: 0.11038 | train_mae: 0.24057 |  0:00:14s\n"
     ]
    },
    {
     "name": "stdout",
     "output_type": "stream",
     "text": [
      "epoch 42 | loss: 0.24048 | train_mse: 0.13732 | train_mae: 0.25953 |  0:00:14s\n"
     ]
    },
    {
     "name": "stdout",
     "output_type": "stream",
     "text": [
      "epoch 43 | loss: 0.20275 | train_mse: 0.1245  | train_mae: 0.25561 |  0:00:14s\n"
     ]
    },
    {
     "name": "stdout",
     "output_type": "stream",
     "text": [
      "epoch 44 | loss: 0.17772 | train_mse: 0.1337  | train_mae: 0.25322 |  0:00:15s\n"
     ]
    },
    {
     "name": "stdout",
     "output_type": "stream",
     "text": [
      "epoch 45 | loss: 0.16182 | train_mse: 0.12256 | train_mae: 0.25196 |  0:00:15s\n"
     ]
    },
    {
     "name": "stdout",
     "output_type": "stream",
     "text": [
      "epoch 46 | loss: 0.17566 | train_mse: 0.13066 | train_mae: 0.25599 |  0:00:15s\n"
     ]
    },
    {
     "name": "stdout",
     "output_type": "stream",
     "text": [
      "epoch 47 | loss: 0.16789 | train_mse: 0.11384 | train_mae: 0.24992 |  0:00:15s\n"
     ]
    },
    {
     "name": "stdout",
     "output_type": "stream",
     "text": [
      "epoch 48 | loss: 0.16267 | train_mse: 0.10632 | train_mae: 0.2383  |  0:00:16s\n"
     ]
    },
    {
     "name": "stdout",
     "output_type": "stream",
     "text": [
      "epoch 49 | loss: 0.18239 | train_mse: 0.1138  | train_mae: 0.24986 |  0:00:16s\n"
     ]
    },
    {
     "name": "stdout",
     "output_type": "stream",
     "text": [
      "epoch 50 | loss: 0.17679 | train_mse: 0.11491 | train_mae: 0.24418 |  0:00:16s\n"
     ]
    },
    {
     "name": "stdout",
     "output_type": "stream",
     "text": [
      "epoch 51 | loss: 0.15829 | train_mse: 0.09799 | train_mae: 0.23517 |  0:00:16s\n"
     ]
    },
    {
     "name": "stdout",
     "output_type": "stream",
     "text": [
      "epoch 52 | loss: 0.16609 | train_mse: 0.10025 | train_mae: 0.23805 |  0:00:17s\n"
     ]
    },
    {
     "name": "stdout",
     "output_type": "stream",
     "text": [
      "epoch 53 | loss: 0.19174 | train_mse: 0.09928 | train_mae: 0.23519 |  0:00:17s\n"
     ]
    },
    {
     "name": "stdout",
     "output_type": "stream",
     "text": [
      "epoch 54 | loss: 0.16946 | train_mse: 0.10107 | train_mae: 0.23547 |  0:00:17s\n"
     ]
    },
    {
     "name": "stdout",
     "output_type": "stream",
     "text": [
      "epoch 55 | loss: 0.16138 | train_mse: 0.10619 | train_mae: 0.24133 |  0:00:18s\n"
     ]
    },
    {
     "name": "stdout",
     "output_type": "stream",
     "text": [
      "epoch 56 | loss: 0.14713 | train_mse: 0.10217 | train_mae: 0.23582 |  0:00:18s\n"
     ]
    },
    {
     "name": "stdout",
     "output_type": "stream",
     "text": [
      "epoch 57 | loss: 0.20765 | train_mse: 0.10415 | train_mae: 0.23479 |  0:00:18s\n"
     ]
    },
    {
     "name": "stdout",
     "output_type": "stream",
     "text": [
      "epoch 58 | loss: 0.15246 | train_mse: 0.11258 | train_mae: 0.24209 |  0:00:18s\n"
     ]
    },
    {
     "name": "stdout",
     "output_type": "stream",
     "text": [
      "epoch 59 | loss: 0.18256 | train_mse: 0.10195 | train_mae: 0.23161 |  0:00:19s\n"
     ]
    },
    {
     "name": "stdout",
     "output_type": "stream",
     "text": [
      "epoch 60 | loss: 0.15176 | train_mse: 0.09903 | train_mae: 0.23242 |  0:00:19s\n"
     ]
    },
    {
     "name": "stdout",
     "output_type": "stream",
     "text": [
      "epoch 61 | loss: 0.12772 | train_mse: 0.12131 | train_mae: 0.24718 |  0:00:19s\n"
     ]
    },
    {
     "name": "stdout",
     "output_type": "stream",
     "text": [
      "epoch 62 | loss: 0.14894 | train_mse: 0.09273 | train_mae: 0.22747 |  0:00:20s\n"
     ]
    },
    {
     "name": "stdout",
     "output_type": "stream",
     "text": [
      "epoch 63 | loss: 0.15786 | train_mse: 0.09207 | train_mae: 0.22258 |  0:00:20s\n"
     ]
    },
    {
     "name": "stdout",
     "output_type": "stream",
     "text": [
      "epoch 64 | loss: 0.15601 | train_mse: 0.0952  | train_mae: 0.23273 |  0:00:20s\n"
     ]
    },
    {
     "name": "stdout",
     "output_type": "stream",
     "text": [
      "epoch 65 | loss: 0.16939 | train_mse: 0.09196 | train_mae: 0.22277 |  0:00:20s\n"
     ]
    },
    {
     "name": "stdout",
     "output_type": "stream",
     "text": [
      "epoch 66 | loss: 0.14054 | train_mse: 0.11161 | train_mae: 0.23976 |  0:00:21s\n"
     ]
    },
    {
     "name": "stdout",
     "output_type": "stream",
     "text": [
      "epoch 67 | loss: 0.21131 | train_mse: 0.11633 | train_mae: 0.25409 |  0:00:21s\n"
     ]
    },
    {
     "name": "stdout",
     "output_type": "stream",
     "text": [
      "epoch 68 | loss: 0.17699 | train_mse: 0.09898 | train_mae: 0.2287  |  0:00:21s\n"
     ]
    },
    {
     "name": "stdout",
     "output_type": "stream",
     "text": [
      "epoch 69 | loss: 0.1602  | train_mse: 0.09746 | train_mae: 0.22885 |  0:00:22s\n"
     ]
    },
    {
     "name": "stdout",
     "output_type": "stream",
     "text": [
      "epoch 70 | loss: 0.16546 | train_mse: 0.12646 | train_mae: 0.23828 |  0:00:22s\n"
     ]
    },
    {
     "name": "stdout",
     "output_type": "stream",
     "text": [
      "epoch 71 | loss: 0.14922 | train_mse: 0.11673 | train_mae: 0.24736 |  0:00:22s\n"
     ]
    },
    {
     "name": "stdout",
     "output_type": "stream",
     "text": [
      "epoch 72 | loss: 0.16579 | train_mse: 0.10981 | train_mae: 0.24541 |  0:00:22s\n"
     ]
    },
    {
     "name": "stdout",
     "output_type": "stream",
     "text": [
      "epoch 73 | loss: 0.14628 | train_mse: 0.13554 | train_mae: 0.24792 |  0:00:23s\n"
     ]
    },
    {
     "name": "stdout",
     "output_type": "stream",
     "text": [
      "epoch 74 | loss: 0.18193 | train_mse: 0.10119 | train_mae: 0.22752 |  0:00:23s\n"
     ]
    },
    {
     "name": "stdout",
     "output_type": "stream",
     "text": [
      "epoch 75 | loss: 0.16889 | train_mse: 0.10091 | train_mae: 0.22839 |  0:00:23s\n"
     ]
    },
    {
     "name": "stdout",
     "output_type": "stream",
     "text": [
      "epoch 76 | loss: 0.16156 | train_mse: 0.09961 | train_mae: 0.22868 |  0:00:24s\n"
     ]
    },
    {
     "name": "stdout",
     "output_type": "stream",
     "text": [
      "epoch 77 | loss: 0.17027 | train_mse: 0.09567 | train_mae: 0.2303  |  0:00:24s\n"
     ]
    },
    {
     "name": "stdout",
     "output_type": "stream",
     "text": [
      "epoch 78 | loss: 0.18826 | train_mse: 0.11395 | train_mae: 0.24462 |  0:00:24s\n"
     ]
    },
    {
     "name": "stdout",
     "output_type": "stream",
     "text": [
      "epoch 79 | loss: 0.18589 | train_mse: 0.1205  | train_mae: 0.24818 |  0:00:24s\n"
     ]
    },
    {
     "name": "stdout",
     "output_type": "stream",
     "text": [
      "epoch 80 | loss: 0.16375 | train_mse: 0.09699 | train_mae: 0.23886 |  0:00:25s\n"
     ]
    },
    {
     "name": "stdout",
     "output_type": "stream",
     "text": [
      "epoch 81 | loss: 0.17505 | train_mse: 0.09478 | train_mae: 0.23184 |  0:00:25s\n"
     ]
    },
    {
     "name": "stdout",
     "output_type": "stream",
     "text": [
      "epoch 82 | loss: 0.14316 | train_mse: 0.09412 | train_mae: 0.22829 |  0:00:25s\n"
     ]
    },
    {
     "name": "stdout",
     "output_type": "stream",
     "text": [
      "epoch 83 | loss: 0.13323 | train_mse: 0.09542 | train_mae: 0.22763 |  0:00:26s\n"
     ]
    },
    {
     "name": "stdout",
     "output_type": "stream",
     "text": [
      "epoch 84 | loss: 0.17081 | train_mse: 0.1161  | train_mae: 0.24699 |  0:00:26s\n"
     ]
    },
    {
     "name": "stdout",
     "output_type": "stream",
     "text": [
      "epoch 85 | loss: 0.16008 | train_mse: 0.08777 | train_mae: 0.22239 |  0:00:27s\n"
     ]
    },
    {
     "name": "stdout",
     "output_type": "stream",
     "text": [
      "epoch 86 | loss: 0.15608 | train_mse: 0.09214 | train_mae: 0.22748 |  0:00:27s\n"
     ]
    },
    {
     "name": "stdout",
     "output_type": "stream",
     "text": [
      "epoch 87 | loss: 0.16258 | train_mse: 0.09724 | train_mae: 0.23307 |  0:00:28s\n"
     ]
    },
    {
     "name": "stdout",
     "output_type": "stream",
     "text": [
      "epoch 88 | loss: 0.16615 | train_mse: 0.10142 | train_mae: 0.22907 |  0:00:28s\n"
     ]
    },
    {
     "name": "stdout",
     "output_type": "stream",
     "text": [
      "epoch 89 | loss: 0.15734 | train_mse: 0.10726 | train_mae: 0.23736 |  0:00:28s\n"
     ]
    },
    {
     "name": "stdout",
     "output_type": "stream",
     "text": [
      "epoch 90 | loss: 0.15059 | train_mse: 0.0942  | train_mae: 0.22072 |  0:00:29s\n"
     ]
    },
    {
     "name": "stdout",
     "output_type": "stream",
     "text": [
      "epoch 91 | loss: 0.14829 | train_mse: 0.0911  | train_mae: 0.21422 |  0:00:30s\n"
     ]
    },
    {
     "name": "stdout",
     "output_type": "stream",
     "text": [
      "epoch 92 | loss: 0.15484 | train_mse: 0.09622 | train_mae: 0.22653 |  0:00:30s\n"
     ]
    },
    {
     "name": "stdout",
     "output_type": "stream",
     "text": [
      "epoch 93 | loss: 0.1249  | train_mse: 0.10343 | train_mae: 0.23423 |  0:00:30s\n"
     ]
    },
    {
     "name": "stdout",
     "output_type": "stream",
     "text": [
      "epoch 94 | loss: 0.16796 | train_mse: 0.1139  | train_mae: 0.24198 |  0:00:31s\n"
     ]
    },
    {
     "name": "stdout",
     "output_type": "stream",
     "text": [
      "epoch 95 | loss: 0.12684 | train_mse: 0.12544 | train_mae: 0.24959 |  0:00:31s\n"
     ]
    },
    {
     "name": "stdout",
     "output_type": "stream",
     "text": [
      "epoch 96 | loss: 0.15399 | train_mse: 0.10568 | train_mae: 0.23885 |  0:00:31s\n"
     ]
    },
    {
     "name": "stdout",
     "output_type": "stream",
     "text": [
      "epoch 97 | loss: 0.16545 | train_mse: 0.10572 | train_mae: 0.24095 |  0:00:32s\n"
     ]
    },
    {
     "name": "stdout",
     "output_type": "stream",
     "text": [
      "epoch 98 | loss: 0.17485 | train_mse: 0.09589 | train_mae: 0.22305 |  0:00:32s\n"
     ]
    },
    {
     "name": "stdout",
     "output_type": "stream",
     "text": [
      "epoch 99 | loss: 0.18463 | train_mse: 0.09885 | train_mae: 0.23446 |  0:00:32s\n"
     ]
    },
    {
     "name": "stdout",
     "output_type": "stream",
     "text": [
      "epoch 100| loss: 0.19607 | train_mse: 0.08618 | train_mae: 0.21688 |  0:00:33s\n"
     ]
    },
    {
     "name": "stdout",
     "output_type": "stream",
     "text": [
      "epoch 101| loss: 0.15122 | train_mse: 0.08807 | train_mae: 0.2215  |  0:00:33s\n"
     ]
    },
    {
     "name": "stdout",
     "output_type": "stream",
     "text": [
      "epoch 102| loss: 0.15345 | train_mse: 0.09011 | train_mae: 0.22746 |  0:00:33s\n"
     ]
    },
    {
     "name": "stdout",
     "output_type": "stream",
     "text": [
      "epoch 103| loss: 0.1396  | train_mse: 0.08845 | train_mae: 0.22314 |  0:00:34s\n"
     ]
    },
    {
     "name": "stdout",
     "output_type": "stream",
     "text": [
      "epoch 104| loss: 0.18538 | train_mse: 0.08651 | train_mae: 0.22893 |  0:00:34s\n"
     ]
    },
    {
     "name": "stdout",
     "output_type": "stream",
     "text": [
      "epoch 105| loss: 0.12752 | train_mse: 0.07768 | train_mae: 0.21416 |  0:00:34s\n"
     ]
    },
    {
     "name": "stdout",
     "output_type": "stream",
     "text": [
      "epoch 106| loss: 0.12829 | train_mse: 0.08281 | train_mae: 0.21682 |  0:00:35s\n"
     ]
    },
    {
     "name": "stdout",
     "output_type": "stream",
     "text": [
      "epoch 107| loss: 0.12942 | train_mse: 0.08105 | train_mae: 0.21094 |  0:00:35s\n"
     ]
    },
    {
     "name": "stdout",
     "output_type": "stream",
     "text": [
      "epoch 108| loss: 0.14864 | train_mse: 0.08199 | train_mae: 0.21454 |  0:00:35s\n"
     ]
    },
    {
     "name": "stdout",
     "output_type": "stream",
     "text": [
      "epoch 109| loss: 0.1355  | train_mse: 0.09736 | train_mae: 0.22446 |  0:00:35s\n"
     ]
    },
    {
     "name": "stdout",
     "output_type": "stream",
     "text": [
      "epoch 110| loss: 0.13427 | train_mse: 0.08457 | train_mae: 0.21633 |  0:00:36s\n"
     ]
    },
    {
     "name": "stdout",
     "output_type": "stream",
     "text": [
      "epoch 111| loss: 0.18613 | train_mse: 0.08588 | train_mae: 0.21625 |  0:00:36s\n"
     ]
    },
    {
     "name": "stdout",
     "output_type": "stream",
     "text": [
      "epoch 112| loss: 0.14934 | train_mse: 0.11174 | train_mae: 0.22201 |  0:00:36s\n"
     ]
    },
    {
     "name": "stdout",
     "output_type": "stream",
     "text": [
      "epoch 113| loss: 0.16401 | train_mse: 0.12    | train_mae: 0.22659 |  0:00:37s\n"
     ]
    },
    {
     "name": "stdout",
     "output_type": "stream",
     "text": [
      "epoch 114| loss: 0.14286 | train_mse: 0.10446 | train_mae: 0.226   |  0:00:37s\n"
     ]
    },
    {
     "name": "stdout",
     "output_type": "stream",
     "text": [
      "epoch 115| loss: 0.18549 | train_mse: 0.092   | train_mae: 0.22233 |  0:00:37s\n"
     ]
    },
    {
     "name": "stdout",
     "output_type": "stream",
     "text": [
      "epoch 116| loss: 0.17309 | train_mse: 0.11712 | train_mae: 0.22853 |  0:00:37s\n"
     ]
    },
    {
     "name": "stdout",
     "output_type": "stream",
     "text": [
      "epoch 117| loss: 0.18033 | train_mse: 0.10755 | train_mae: 0.2316  |  0:00:38s\n"
     ]
    },
    {
     "name": "stdout",
     "output_type": "stream",
     "text": [
      "epoch 118| loss: 0.19728 | train_mse: 0.14521 | train_mae: 0.25874 |  0:00:38s\n"
     ]
    },
    {
     "name": "stdout",
     "output_type": "stream",
     "text": [
      "epoch 119| loss: 0.16114 | train_mse: 0.12025 | train_mae: 0.22361 |  0:00:38s\n"
     ]
    },
    {
     "name": "stdout",
     "output_type": "stream",
     "text": [
      "epoch 120| loss: 0.16895 | train_mse: 0.10142 | train_mae: 0.22465 |  0:00:39s\n"
     ]
    },
    {
     "name": "stdout",
     "output_type": "stream",
     "text": [
      "epoch 121| loss: 0.11755 | train_mse: 0.11708 | train_mae: 0.23308 |  0:00:39s\n"
     ]
    },
    {
     "name": "stdout",
     "output_type": "stream",
     "text": [
      "epoch 122| loss: 0.15529 | train_mse: 0.218   | train_mae: 0.25107 |  0:00:39s\n"
     ]
    },
    {
     "name": "stdout",
     "output_type": "stream",
     "text": [
      "epoch 123| loss: 0.19893 | train_mse: 0.1687  | train_mae: 0.25834 |  0:00:39s\n"
     ]
    },
    {
     "name": "stdout",
     "output_type": "stream",
     "text": [
      "epoch 124| loss: 0.16367 | train_mse: 0.13892 | train_mae: 0.24314 |  0:00:40s\n"
     ]
    },
    {
     "name": "stdout",
     "output_type": "stream",
     "text": [
      "epoch 125| loss: 0.16575 | train_mse: 0.1114  | train_mae: 0.22696 |  0:00:40s\n"
     ]
    },
    {
     "name": "stdout",
     "output_type": "stream",
     "text": [
      "epoch 126| loss: 0.14353 | train_mse: 0.10428 | train_mae: 0.23388 |  0:00:40s\n"
     ]
    },
    {
     "name": "stdout",
     "output_type": "stream",
     "text": [
      "epoch 127| loss: 0.17322 | train_mse: 0.10709 | train_mae: 0.22987 |  0:00:41s\n"
     ]
    },
    {
     "name": "stdout",
     "output_type": "stream",
     "text": [
      "epoch 128| loss: 0.15085 | train_mse: 0.09462 | train_mae: 0.22374 |  0:00:41s\n"
     ]
    },
    {
     "name": "stdout",
     "output_type": "stream",
     "text": [
      "epoch 129| loss: 0.12897 | train_mse: 0.08598 | train_mae: 0.21432 |  0:00:41s\n"
     ]
    },
    {
     "name": "stdout",
     "output_type": "stream",
     "text": [
      "epoch 130| loss: 0.11509 | train_mse: 0.09645 | train_mae: 0.22543 |  0:00:41s\n"
     ]
    },
    {
     "name": "stdout",
     "output_type": "stream",
     "text": [
      "epoch 131| loss: 0.16732 | train_mse: 0.08795 | train_mae: 0.2135  |  0:00:42s\n"
     ]
    },
    {
     "name": "stdout",
     "output_type": "stream",
     "text": [
      "epoch 132| loss: 0.14982 | train_mse: 0.09712 | train_mae: 0.21346 |  0:00:42s\n"
     ]
    },
    {
     "name": "stdout",
     "output_type": "stream",
     "text": [
      "epoch 133| loss: 0.13398 | train_mse: 0.10554 | train_mae: 0.21666 |  0:00:43s\n"
     ]
    },
    {
     "name": "stdout",
     "output_type": "stream",
     "text": [
      "epoch 134| loss: 0.1483  | train_mse: 0.09347 | train_mae: 0.22019 |  0:00:43s\n"
     ]
    },
    {
     "name": "stdout",
     "output_type": "stream",
     "text": [
      "epoch 135| loss: 0.14573 | train_mse: 0.08903 | train_mae: 0.21639 |  0:00:43s\n"
     ]
    },
    {
     "name": "stdout",
     "output_type": "stream",
     "text": [
      "epoch 136| loss: 0.14104 | train_mse: 0.0925  | train_mae: 0.21961 |  0:00:44s\n"
     ]
    },
    {
     "name": "stdout",
     "output_type": "stream",
     "text": [
      "epoch 137| loss: 0.17425 | train_mse: 0.09086 | train_mae: 0.21103 |  0:00:44s\n"
     ]
    },
    {
     "name": "stdout",
     "output_type": "stream",
     "text": [
      "epoch 138| loss: 0.14998 | train_mse: 0.10152 | train_mae: 0.22676 |  0:00:44s\n"
     ]
    },
    {
     "name": "stdout",
     "output_type": "stream",
     "text": [
      "epoch 139| loss: 0.12498 | train_mse: 0.08582 | train_mae: 0.21316 |  0:00:45s\n"
     ]
    },
    {
     "name": "stdout",
     "output_type": "stream",
     "text": [
      "epoch 140| loss: 0.13222 | train_mse: 0.07736 | train_mae: 0.20216 |  0:00:45s\n"
     ]
    },
    {
     "name": "stdout",
     "output_type": "stream",
     "text": [
      "epoch 141| loss: 0.1274  | train_mse: 0.0767  | train_mae: 0.20332 |  0:00:46s\n"
     ]
    },
    {
     "name": "stdout",
     "output_type": "stream",
     "text": [
      "epoch 142| loss: 0.18774 | train_mse: 0.09246 | train_mae: 0.21833 |  0:00:47s\n"
     ]
    },
    {
     "name": "stdout",
     "output_type": "stream",
     "text": [
      "epoch 143| loss: 0.12381 | train_mse: 0.08939 | train_mae: 0.21789 |  0:00:47s\n"
     ]
    },
    {
     "name": "stdout",
     "output_type": "stream",
     "text": [
      "epoch 144| loss: 0.18069 | train_mse: 0.07708 | train_mae: 0.20165 |  0:00:47s\n"
     ]
    },
    {
     "name": "stdout",
     "output_type": "stream",
     "text": [
      "epoch 145| loss: 0.13682 | train_mse: 0.08875 | train_mae: 0.22379 |  0:00:48s\n"
     ]
    },
    {
     "name": "stdout",
     "output_type": "stream",
     "text": [
      "epoch 146| loss: 0.1472  | train_mse: 0.0909  | train_mae: 0.22024 |  0:00:49s\n"
     ]
    },
    {
     "name": "stdout",
     "output_type": "stream",
     "text": [
      "epoch 147| loss: 0.11943 | train_mse: 0.08453 | train_mae: 0.21513 |  0:00:49s\n"
     ]
    },
    {
     "name": "stdout",
     "output_type": "stream",
     "text": [
      "epoch 148| loss: 0.11683 | train_mse: 0.08475 | train_mae: 0.21072 |  0:00:50s\n"
     ]
    },
    {
     "name": "stdout",
     "output_type": "stream",
     "text": [
      "epoch 149| loss: 0.12751 | train_mse: 0.09252 | train_mae: 0.2261  |  0:00:51s\n"
     ]
    },
    {
     "name": "stdout",
     "output_type": "stream",
     "text": [
      "epoch 150| loss: 0.11857 | train_mse: 0.07961 | train_mae: 0.21088 |  0:00:52s\n"
     ]
    },
    {
     "name": "stdout",
     "output_type": "stream",
     "text": [
      "epoch 151| loss: 0.11819 | train_mse: 0.08246 | train_mae: 0.20982 |  0:00:52s\n"
     ]
    },
    {
     "name": "stdout",
     "output_type": "stream",
     "text": [
      "epoch 152| loss: 0.11087 | train_mse: 0.09247 | train_mae: 0.21755 |  0:00:53s\n"
     ]
    },
    {
     "name": "stdout",
     "output_type": "stream",
     "text": [
      "epoch 153| loss: 0.15453 | train_mse: 0.08966 | train_mae: 0.2168  |  0:00:53s\n"
     ]
    },
    {
     "name": "stdout",
     "output_type": "stream",
     "text": [
      "epoch 154| loss: 0.16637 | train_mse: 0.09159 | train_mae: 0.21949 |  0:00:53s\n"
     ]
    },
    {
     "name": "stdout",
     "output_type": "stream",
     "text": [
      "epoch 155| loss: 0.1484  | train_mse: 0.07943 | train_mae: 0.20612 |  0:00:54s\n"
     ]
    },
    {
     "name": "stdout",
     "output_type": "stream",
     "text": [
      "epoch 156| loss: 0.09855 | train_mse: 0.08045 | train_mae: 0.21324 |  0:00:54s\n"
     ]
    },
    {
     "name": "stdout",
     "output_type": "stream",
     "text": [
      "epoch 157| loss: 0.18238 | train_mse: 0.08252 | train_mae: 0.21275 |  0:00:55s\n"
     ]
    },
    {
     "name": "stdout",
     "output_type": "stream",
     "text": [
      "epoch 158| loss: 0.14825 | train_mse: 0.08508 | train_mae: 0.2157  |  0:00:56s\n"
     ]
    },
    {
     "name": "stdout",
     "output_type": "stream",
     "text": [
      "epoch 159| loss: 0.17498 | train_mse: 0.09316 | train_mae: 0.22461 |  0:00:56s\n"
     ]
    },
    {
     "name": "stdout",
     "output_type": "stream",
     "text": [
      "epoch 160| loss: 0.13784 | train_mse: 0.08953 | train_mae: 0.21927 |  0:00:56s\n"
     ]
    },
    {
     "name": "stdout",
     "output_type": "stream",
     "text": [
      "epoch 161| loss: 0.17564 | train_mse: 0.09758 | train_mae: 0.21974 |  0:00:57s\n"
     ]
    },
    {
     "name": "stdout",
     "output_type": "stream",
     "text": [
      "epoch 162| loss: 0.17836 | train_mse: 0.08063 | train_mae: 0.21048 |  0:00:57s\n"
     ]
    },
    {
     "name": "stdout",
     "output_type": "stream",
     "text": [
      "epoch 163| loss: 0.13941 | train_mse: 0.07993 | train_mae: 0.20535 |  0:00:58s\n"
     ]
    },
    {
     "name": "stdout",
     "output_type": "stream",
     "text": [
      "epoch 164| loss: 0.14794 | train_mse: 0.10608 | train_mae: 0.22172 |  0:00:58s\n"
     ]
    },
    {
     "name": "stdout",
     "output_type": "stream",
     "text": [
      "epoch 165| loss: 0.14398 | train_mse: 0.07905 | train_mae: 0.20587 |  0:00:59s\n"
     ]
    },
    {
     "name": "stdout",
     "output_type": "stream",
     "text": [
      "epoch 166| loss: 0.16281 | train_mse: 0.08093 | train_mae: 0.21044 |  0:00:59s\n"
     ]
    },
    {
     "name": "stdout",
     "output_type": "stream",
     "text": [
      "epoch 167| loss: 0.15255 | train_mse: 0.07644 | train_mae: 0.20413 |  0:00:59s\n"
     ]
    },
    {
     "name": "stdout",
     "output_type": "stream",
     "text": [
      "epoch 168| loss: 0.10723 | train_mse: 0.0772  | train_mae: 0.20316 |  0:01:00s\n"
     ]
    },
    {
     "name": "stdout",
     "output_type": "stream",
     "text": [
      "epoch 169| loss: 0.13309 | train_mse: 0.07538 | train_mae: 0.20231 |  0:01:00s\n"
     ]
    },
    {
     "name": "stdout",
     "output_type": "stream",
     "text": [
      "epoch 170| loss: 0.1228  | train_mse: 0.08003 | train_mae: 0.20633 |  0:01:01s\n"
     ]
    },
    {
     "name": "stdout",
     "output_type": "stream",
     "text": [
      "epoch 171| loss: 0.13368 | train_mse: 0.08641 | train_mae: 0.21472 |  0:01:01s\n"
     ]
    },
    {
     "name": "stdout",
     "output_type": "stream",
     "text": [
      "epoch 172| loss: 0.12452 | train_mse: 0.0799  | train_mae: 0.20787 |  0:01:01s\n"
     ]
    },
    {
     "name": "stdout",
     "output_type": "stream",
     "text": [
      "epoch 173| loss: 0.16899 | train_mse: 0.08638 | train_mae: 0.21343 |  0:01:02s\n"
     ]
    },
    {
     "name": "stdout",
     "output_type": "stream",
     "text": [
      "epoch 174| loss: 0.1617  | train_mse: 0.08638 | train_mae: 0.21089 |  0:01:02s\n"
     ]
    },
    {
     "name": "stdout",
     "output_type": "stream",
     "text": [
      "epoch 175| loss: 0.14034 | train_mse: 0.08264 | train_mae: 0.21609 |  0:01:03s\n"
     ]
    },
    {
     "name": "stdout",
     "output_type": "stream",
     "text": [
      "epoch 176| loss: 0.13957 | train_mse: 0.07988 | train_mae: 0.20737 |  0:01:03s\n"
     ]
    },
    {
     "name": "stdout",
     "output_type": "stream",
     "text": [
      "epoch 177| loss: 0.11673 | train_mse: 0.07751 | train_mae: 0.21061 |  0:01:04s\n"
     ]
    },
    {
     "name": "stdout",
     "output_type": "stream",
     "text": [
      "epoch 178| loss: 0.11685 | train_mse: 0.08558 | train_mae: 0.21606 |  0:01:04s\n"
     ]
    },
    {
     "name": "stdout",
     "output_type": "stream",
     "text": [
      "epoch 179| loss: 0.16572 | train_mse: 0.09857 | train_mae: 0.22946 |  0:01:05s\n"
     ]
    },
    {
     "name": "stdout",
     "output_type": "stream",
     "text": [
      "epoch 180| loss: 0.1692  | train_mse: 0.09816 | train_mae: 0.22164 |  0:01:05s\n"
     ]
    },
    {
     "name": "stdout",
     "output_type": "stream",
     "text": [
      "epoch 181| loss: 0.15219 | train_mse: 0.08723 | train_mae: 0.21777 |  0:01:06s\n"
     ]
    },
    {
     "name": "stdout",
     "output_type": "stream",
     "text": [
      "epoch 182| loss: 0.1452  | train_mse: 0.08411 | train_mae: 0.21213 |  0:01:06s\n"
     ]
    },
    {
     "name": "stdout",
     "output_type": "stream",
     "text": [
      "epoch 183| loss: 0.14612 | train_mse: 0.08747 | train_mae: 0.21173 |  0:01:07s\n"
     ]
    },
    {
     "name": "stdout",
     "output_type": "stream",
     "text": [
      "epoch 184| loss: 0.13178 | train_mse: 0.08058 | train_mae: 0.20299 |  0:01:07s\n"
     ]
    },
    {
     "name": "stdout",
     "output_type": "stream",
     "text": [
      "epoch 185| loss: 0.16776 | train_mse: 0.08341 | train_mae: 0.2061  |  0:01:08s\n"
     ]
    },
    {
     "name": "stdout",
     "output_type": "stream",
     "text": [
      "epoch 186| loss: 0.17212 | train_mse: 0.07975 | train_mae: 0.20026 |  0:01:08s\n"
     ]
    },
    {
     "name": "stdout",
     "output_type": "stream",
     "text": [
      "epoch 187| loss: 0.15009 | train_mse: 0.08184 | train_mae: 0.20466 |  0:01:09s\n"
     ]
    },
    {
     "name": "stdout",
     "output_type": "stream",
     "text": [
      "epoch 188| loss: 0.11651 | train_mse: 0.08096 | train_mae: 0.20569 |  0:01:09s\n"
     ]
    },
    {
     "name": "stdout",
     "output_type": "stream",
     "text": [
      "epoch 189| loss: 0.18895 | train_mse: 0.07913 | train_mae: 0.20393 |  0:01:10s\n"
     ]
    },
    {
     "name": "stdout",
     "output_type": "stream",
     "text": [
      "epoch 190| loss: 0.1518  | train_mse: 0.08608 | train_mae: 0.21621 |  0:01:10s\n"
     ]
    },
    {
     "name": "stdout",
     "output_type": "stream",
     "text": [
      "epoch 191| loss: 0.12511 | train_mse: 0.0801  | train_mae: 0.20766 |  0:01:10s\n"
     ]
    },
    {
     "name": "stdout",
     "output_type": "stream",
     "text": [
      "epoch 192| loss: 0.14078 | train_mse: 0.08087 | train_mae: 0.20481 |  0:01:11s\n"
     ]
    },
    {
     "name": "stdout",
     "output_type": "stream",
     "text": [
      "epoch 193| loss: 0.12499 | train_mse: 0.07991 | train_mae: 0.20499 |  0:01:11s\n"
     ]
    },
    {
     "name": "stdout",
     "output_type": "stream",
     "text": [
      "epoch 194| loss: 0.12694 | train_mse: 0.08317 | train_mae: 0.20557 |  0:01:11s\n"
     ]
    },
    {
     "name": "stdout",
     "output_type": "stream",
     "text": [
      "epoch 195| loss: 0.11929 | train_mse: 0.08481 | train_mae: 0.21008 |  0:01:12s\n"
     ]
    },
    {
     "name": "stdout",
     "output_type": "stream",
     "text": [
      "epoch 196| loss: 0.16153 | train_mse: 0.09288 | train_mae: 0.21835 |  0:01:12s\n"
     ]
    },
    {
     "name": "stdout",
     "output_type": "stream",
     "text": [
      "epoch 197| loss: 0.14254 | train_mse: 0.07961 | train_mae: 0.20685 |  0:01:13s\n"
     ]
    },
    {
     "name": "stdout",
     "output_type": "stream",
     "text": [
      "epoch 198| loss: 0.20149 | train_mse: 0.10808 | train_mae: 0.24182 |  0:01:13s\n"
     ]
    },
    {
     "name": "stdout",
     "output_type": "stream",
     "text": [
      "epoch 199| loss: 0.12651 | train_mse: 0.08405 | train_mae: 0.21391 |  0:01:13s\n"
     ]
    },
    {
     "name": "stdout",
     "output_type": "stream",
     "text": [
      "epoch 200| loss: 0.13947 | train_mse: 0.07923 | train_mae: 0.20247 |  0:01:14s\n"
     ]
    },
    {
     "name": "stdout",
     "output_type": "stream",
     "text": [
      "epoch 201| loss: 0.13147 | train_mse: 0.0926  | train_mae: 0.22087 |  0:01:14s\n"
     ]
    },
    {
     "name": "stdout",
     "output_type": "stream",
     "text": [
      "epoch 202| loss: 0.11491 | train_mse: 0.0778  | train_mae: 0.19756 |  0:01:14s\n"
     ]
    },
    {
     "name": "stdout",
     "output_type": "stream",
     "text": [
      "epoch 203| loss: 0.13867 | train_mse: 0.08389 | train_mae: 0.20951 |  0:01:15s\n"
     ]
    },
    {
     "name": "stdout",
     "output_type": "stream",
     "text": [
      "epoch 204| loss: 0.12241 | train_mse: 0.09271 | train_mae: 0.22014 |  0:01:15s\n"
     ]
    },
    {
     "name": "stdout",
     "output_type": "stream",
     "text": [
      "epoch 205| loss: 0.15622 | train_mse: 0.08921 | train_mae: 0.2154  |  0:01:15s\n"
     ]
    },
    {
     "name": "stdout",
     "output_type": "stream",
     "text": [
      "epoch 206| loss: 0.12642 | train_mse: 0.09128 | train_mae: 0.21294 |  0:01:16s\n"
     ]
    },
    {
     "name": "stdout",
     "output_type": "stream",
     "text": [
      "epoch 207| loss: 0.16512 | train_mse: 0.07979 | train_mae: 0.20369 |  0:01:16s\n"
     ]
    },
    {
     "name": "stdout",
     "output_type": "stream",
     "text": [
      "epoch 208| loss: 0.14438 | train_mse: 0.08289 | train_mae: 0.22273 |  0:01:16s\n"
     ]
    },
    {
     "name": "stdout",
     "output_type": "stream",
     "text": [
      "epoch 209| loss: 0.13456 | train_mse: 0.08087 | train_mae: 0.21111 |  0:01:17s\n"
     ]
    },
    {
     "name": "stdout",
     "output_type": "stream",
     "text": [
      "epoch 210| loss: 0.1261  | train_mse: 0.08416 | train_mae: 0.21306 |  0:01:17s\n"
     ]
    },
    {
     "name": "stdout",
     "output_type": "stream",
     "text": [
      "epoch 211| loss: 0.10752 | train_mse: 0.09525 | train_mae: 0.22302 |  0:01:17s\n"
     ]
    },
    {
     "name": "stdout",
     "output_type": "stream",
     "text": [
      "epoch 212| loss: 0.15615 | train_mse: 0.08568 | train_mae: 0.21105 |  0:01:18s\n"
     ]
    },
    {
     "name": "stdout",
     "output_type": "stream",
     "text": [
      "epoch 213| loss: 0.14278 | train_mse: 0.08344 | train_mae: 0.21628 |  0:01:18s\n"
     ]
    },
    {
     "name": "stdout",
     "output_type": "stream",
     "text": [
      "epoch 214| loss: 0.14029 | train_mse: 0.07927 | train_mae: 0.20438 |  0:01:18s\n"
     ]
    },
    {
     "name": "stdout",
     "output_type": "stream",
     "text": [
      "epoch 215| loss: 0.1064  | train_mse: 0.08734 | train_mae: 0.21629 |  0:01:19s\n"
     ]
    },
    {
     "name": "stdout",
     "output_type": "stream",
     "text": [
      "epoch 216| loss: 0.14566 | train_mse: 0.08401 | train_mae: 0.2098  |  0:01:19s\n"
     ]
    },
    {
     "name": "stdout",
     "output_type": "stream",
     "text": [
      "epoch 217| loss: 0.13597 | train_mse: 0.08563 | train_mae: 0.21681 |  0:01:20s\n"
     ]
    },
    {
     "name": "stdout",
     "output_type": "stream",
     "text": [
      "epoch 218| loss: 0.1169  | train_mse: 0.07827 | train_mae: 0.20262 |  0:01:20s\n"
     ]
    },
    {
     "name": "stdout",
     "output_type": "stream",
     "text": [
      "epoch 219| loss: 0.12705 | train_mse: 0.08139 | train_mae: 0.21289 |  0:01:21s\n"
     ]
    },
    {
     "name": "stdout",
     "output_type": "stream",
     "text": [
      "epoch 220| loss: 0.142   | train_mse: 0.07979 | train_mae: 0.20272 |  0:01:21s\n"
     ]
    },
    {
     "name": "stdout",
     "output_type": "stream",
     "text": [
      "epoch 221| loss: 0.16613 | train_mse: 0.09525 | train_mae: 0.23018 |  0:01:21s\n"
     ]
    },
    {
     "name": "stdout",
     "output_type": "stream",
     "text": [
      "epoch 222| loss: 0.15107 | train_mse: 0.08689 | train_mae: 0.21456 |  0:01:22s\n"
     ]
    },
    {
     "name": "stdout",
     "output_type": "stream",
     "text": [
      "epoch 223| loss: 0.1372  | train_mse: 0.08354 | train_mae: 0.21161 |  0:01:22s\n"
     ]
    },
    {
     "name": "stdout",
     "output_type": "stream",
     "text": [
      "epoch 224| loss: 0.11544 | train_mse: 0.0828  | train_mae: 0.20921 |  0:01:23s\n"
     ]
    },
    {
     "name": "stdout",
     "output_type": "stream",
     "text": [
      "epoch 225| loss: 0.15209 | train_mse: 0.09027 | train_mae: 0.21616 |  0:01:23s\n"
     ]
    },
    {
     "name": "stdout",
     "output_type": "stream",
     "text": [
      "epoch 226| loss: 0.16389 | train_mse: 0.09069 | train_mae: 0.21727 |  0:01:24s\n"
     ]
    },
    {
     "name": "stdout",
     "output_type": "stream",
     "text": [
      "epoch 227| loss: 0.13029 | train_mse: 0.10073 | train_mae: 0.22405 |  0:01:24s\n"
     ]
    },
    {
     "name": "stdout",
     "output_type": "stream",
     "text": [
      "epoch 228| loss: 0.14681 | train_mse: 0.09266 | train_mae: 0.22679 |  0:01:25s\n"
     ]
    },
    {
     "name": "stdout",
     "output_type": "stream",
     "text": [
      "epoch 229| loss: 0.11427 | train_mse: 0.08983 | train_mae: 0.22521 |  0:01:25s\n"
     ]
    },
    {
     "name": "stdout",
     "output_type": "stream",
     "text": [
      "epoch 230| loss: 0.1423  | train_mse: 0.0832  | train_mae: 0.2125  |  0:01:25s\n"
     ]
    },
    {
     "name": "stdout",
     "output_type": "stream",
     "text": [
      "epoch 231| loss: 0.11671 | train_mse: 0.08848 | train_mae: 0.21356 |  0:01:26s\n"
     ]
    },
    {
     "name": "stdout",
     "output_type": "stream",
     "text": [
      "epoch 232| loss: 0.15133 | train_mse: 0.09309 | train_mae: 0.21989 |  0:01:26s\n"
     ]
    },
    {
     "name": "stdout",
     "output_type": "stream",
     "text": [
      "epoch 233| loss: 0.15694 | train_mse: 0.08755 | train_mae: 0.2163  |  0:01:26s\n"
     ]
    },
    {
     "name": "stdout",
     "output_type": "stream",
     "text": [
      "epoch 234| loss: 0.13188 | train_mse: 0.08853 | train_mae: 0.21456 |  0:01:27s\n"
     ]
    },
    {
     "name": "stdout",
     "output_type": "stream",
     "text": [
      "epoch 235| loss: 0.11866 | train_mse: 0.07998 | train_mae: 0.20306 |  0:01:27s\n"
     ]
    },
    {
     "name": "stdout",
     "output_type": "stream",
     "text": [
      "epoch 236| loss: 0.18811 | train_mse: 0.09505 | train_mae: 0.21771 |  0:01:27s\n"
     ]
    },
    {
     "name": "stdout",
     "output_type": "stream",
     "text": [
      "epoch 237| loss: 0.1264  | train_mse: 0.0911  | train_mae: 0.21261 |  0:01:28s\n"
     ]
    },
    {
     "name": "stdout",
     "output_type": "stream",
     "text": [
      "epoch 238| loss: 0.12528 | train_mse: 0.09584 | train_mae: 0.21574 |  0:01:28s\n"
     ]
    },
    {
     "name": "stdout",
     "output_type": "stream",
     "text": [
      "epoch 239| loss: 0.15053 | train_mse: 0.09692 | train_mae: 0.22207 |  0:01:28s\n"
     ]
    },
    {
     "name": "stdout",
     "output_type": "stream",
     "text": [
      "epoch 240| loss: 0.13892 | train_mse: 0.08318 | train_mae: 0.20735 |  0:01:29s\n"
     ]
    },
    {
     "name": "stdout",
     "output_type": "stream",
     "text": [
      "epoch 241| loss: 0.11249 | train_mse: 0.08217 | train_mae: 0.21155 |  0:01:29s\n"
     ]
    },
    {
     "name": "stdout",
     "output_type": "stream",
     "text": [
      "epoch 242| loss: 0.19151 | train_mse: 0.11731 | train_mae: 0.22695 |  0:01:29s\n"
     ]
    },
    {
     "name": "stdout",
     "output_type": "stream",
     "text": [
      "epoch 243| loss: 0.17774 | train_mse: 0.13981 | train_mae: 0.24829 |  0:01:30s\n"
     ]
    },
    {
     "name": "stdout",
     "output_type": "stream",
     "text": [
      "epoch 244| loss: 0.21284 | train_mse: 0.18809 | train_mae: 0.27164 |  0:01:30s\n"
     ]
    },
    {
     "name": "stdout",
     "output_type": "stream",
     "text": [
      "epoch 245| loss: 0.22107 | train_mse: 0.13079 | train_mae: 0.23738 |  0:01:30s\n"
     ]
    },
    {
     "name": "stdout",
     "output_type": "stream",
     "text": [
      "epoch 246| loss: 0.18424 | train_mse: 0.10861 | train_mae: 0.23301 |  0:01:31s\n"
     ]
    },
    {
     "name": "stdout",
     "output_type": "stream",
     "text": [
      "epoch 247| loss: 0.18176 | train_mse: 0.14878 | train_mae: 0.26931 |  0:01:31s\n"
     ]
    },
    {
     "name": "stdout",
     "output_type": "stream",
     "text": [
      "epoch 248| loss: 0.20052 | train_mse: 0.13192 | train_mae: 0.24848 |  0:01:31s\n"
     ]
    },
    {
     "name": "stdout",
     "output_type": "stream",
     "text": [
      "epoch 249| loss: 0.18201 | train_mse: 0.11789 | train_mae: 0.23096 |  0:01:31s\n"
     ]
    },
    {
     "name": "stdout",
     "output_type": "stream",
     "text": [
      "epoch 250| loss: 0.19455 | train_mse: 0.12263 | train_mae: 0.23831 |  0:01:32s\n"
     ]
    },
    {
     "name": "stdout",
     "output_type": "stream",
     "text": [
      "epoch 251| loss: 0.20839 | train_mse: 0.10131 | train_mae: 0.22708 |  0:01:32s\n"
     ]
    },
    {
     "name": "stdout",
     "output_type": "stream",
     "text": [
      "epoch 252| loss: 0.14208 | train_mse: 0.09958 | train_mae: 0.21925 |  0:01:33s\n",
      "\n",
      "Early stopping occurred at epoch 252 with best_epoch = 202 and best_train_mae = 0.19756\n",
      "Best weights from best epoch are automatically used!\n",
      "BEST VALID SCORE FOR dataset : 0.1975568224055601\n",
      "FINAL TEST SCORE FOR dataset: 0.2782649297804943\n",
      "{'loss': [2.4044960347732696, 1.1260010912866876, 0.6594624212472746, 0.5370083587004406, 0.5535967290991604, 0.5034514333647077, 0.4573182251193736, 0.39076533471003616, 0.3944824702373826, 0.3583469384967691, 0.262956424514846, 0.30344443451059927, 0.2302230016724898, 0.25173791490568975, 0.2791850720301714, 0.285066610073099, 0.2574969205525842, 0.2697126617526064, 0.26108871975747666, 0.2501040030233931, 0.2960164243041879, 0.2525581965352049, 0.2717047304210096, 0.20538055129570537, 0.22412930178170157, 0.204540487563256, 0.2605394014332554, 0.22405938376294504, 0.22029163194174814, 0.2219871967145712, 0.19172195883670656, 0.2048181991765995, 0.2137161772144903, 0.1885913327188775, 0.22357382367152978, 0.25044823430552343, 0.23062482741799686, 0.23469799638974784, 0.21546678982748843, 0.1674412062557617, 0.1961058549361654, 0.19307794635838801, 0.24047947608598388, 0.2027511986175386, 0.1777199350371219, 0.1618223181455442, 0.17565950028377003, 0.16788889408701718, 0.16267329026566874, 0.1823876228663001, 0.17679230308178628, 0.1582928180399508, 0.16608809215007442, 0.19174153306106528, 0.16946405541188647, 0.16138052069904782, 0.14712869198900638, 0.20765375795930918, 0.15245654529864244, 0.18256231168709178, 0.151760927963965, 0.12772035539740384, 0.1489418629962619, 0.1578636594337992, 0.15601317009123244, 0.16938622133566603, 0.1405433177357853, 0.2113126596011738, 0.17698611260050595, 0.16019609363952486, 0.16546425909394086, 0.14921599301961389, 0.16579358176429673, 0.14627778131772975, 0.18192630821820532, 0.16889462317570603, 0.16155838922108753, 0.17027093352067588, 0.1882632882288187, 0.18589424253395287, 0.16374724468972424, 0.17504751453600306, 0.1431558586583279, 0.1332256232600401, 0.17080748759874023, 0.16008106582235582, 0.1560786621700419, 0.1625752993444405, 0.16614967968204233, 0.15733632769915137, 0.15059034526348114, 0.14828970172617695, 0.15484116160043396, 0.12490329839805565, 0.16796261013144315, 0.1268380137510819, 0.15399206097763363, 0.16544908108097492, 0.17485111627248254, 0.184628634022014, 0.19606542056149776, 0.1512167820393449, 0.15345426272637774, 0.13959701831388002, 0.18538074726515477, 0.1275236987241424, 0.1282890822627757, 0.1294192060975745, 0.1486435585682935, 0.1355003788329587, 0.1342719796270427, 0.18613385859102305, 0.14933534276367413, 0.16400583811325603, 0.1428637696374761, 0.1854904541874876, 0.1730945516045731, 0.18033141723953852, 0.19728263320014028, 0.16114251241825595, 0.16894801285597358, 0.11755325180469173, 0.15528618064847324, 0.1989277695665265, 0.1636731742632271, 0.16574740262314824, 0.14353358288212578, 0.17322278273577738, 0.15084574268300935, 0.1289727776357443, 0.11508547300749486, 0.16731515084162796, 0.14981734162510033, 0.13397817210395738, 0.14830062221182455, 0.14572696830376541, 0.14103591235557406, 0.1742540211370676, 0.14997971360341153, 0.12498287421346892, 0.13222389609211743, 0.12739664670264367, 0.18773538007004426, 0.12380963047542194, 0.18068633486728858, 0.13682469046942078, 0.1471994980284483, 0.11943100820673574, 0.11682814064592419, 0.1275120749331937, 0.11856525442977943, 0.11819443792694866, 0.11086813050626527, 0.1545325854774749, 0.16636680099781198, 0.14840024580607322, 0.09855300866731323, 0.18237907609136977, 0.14824873725376506, 0.17498189004340975, 0.137843521219669, 0.17563972806576456, 0.17835911547783578, 0.1394103735980421, 0.1479435287194677, 0.14397953347404405, 0.1628149352451362, 0.15255248266281468, 0.10722704939913041, 0.13309249495810802, 0.12279990758046065, 0.13368389622704818, 0.1245209646992164, 0.16899003936807708, 0.16170459214856128, 0.14034452754082066, 0.13956814097000822, 0.11672773973850331, 0.11684779557261137, 0.16571950912475586, 0.16919889824815315, 0.15219191056076842, 0.1451995919394021, 0.14612256462621218, 0.131776755989188, 0.16776030060678426, 0.17211604339651543, 0.15009368734784645, 0.11651189868698025, 0.1889479509969749, 0.15179872306266634, 0.1251139612776218, 0.14078019448731205, 0.12499338329428493, 0.1269404879300901, 0.11928632161994972, 0.16152556491370249, 0.14254087866237847, 0.20148633612264502, 0.1265061582521637, 0.13947011958254446, 0.13146823113507564, 0.1149117123372484, 0.13867089963785492, 0.12241425770934265, 0.15621924562619463, 0.12642171492080878, 0.1651182257302917, 0.14438410457408074, 0.134560262876572, 0.12610357011308765, 0.1075220082213383, 0.15615056927251345, 0.14278284091465543, 0.14029049415989678, 0.10640275972609473, 0.14566410635367483, 0.13596596701605485, 0.11689609517850498, 0.12705251722052546, 0.14200004994279086, 0.16612580189905543, 0.15107178865092816, 0.13720247149467468, 0.11543802577670258, 0.15208557971043163, 0.16388846624015582, 0.1302940468165544, 0.14681321175971834, 0.11427306376471377, 0.14230252064690732, 0.1167072746718284, 0.15132608670409364, 0.15693798971058118, 0.13187791230064808, 0.11865556535154285, 0.1881069442128191, 0.12640062431887825, 0.12527550838076246, 0.1505331293781205, 0.13892457538312025, 0.11249484667683592, 0.1915116000293505, 0.177744988757785, 0.2128426712928432, 0.22107083225014187, 0.1842430931801843, 0.18175844007199354, 0.20052477864935847, 0.1820051324839639, 0.19454692613960492, 0.20838661949233253, 0.14207777690769421], 'lr': [0.01, 0.01, 0.01, 0.01, 0.01, 0.01, 0.01, 0.01, 0.01, 0.01, 0.01, 0.01, 0.01, 0.01, 0.01, 0.01, 0.01, 0.01, 0.01, 0.01, 0.01, 0.01, 0.01, 0.01, 0.01, 0.01, 0.01, 0.01, 0.01, 0.01, 0.01, 0.01, 0.01, 0.01, 0.01, 0.01, 0.01, 0.01, 0.01, 0.01, 0.01, 0.01, 0.01, 0.01, 0.01, 0.01, 0.01, 0.01, 0.01, 0.01, 0.01, 0.01, 0.01, 0.01, 0.01, 0.01, 0.01, 0.01, 0.01, 0.01, 0.01, 0.01, 0.01, 0.01, 0.01, 0.01, 0.01, 0.01, 0.01, 0.01, 0.01, 0.01, 0.01, 0.01, 0.01, 0.01, 0.01, 0.01, 0.01, 0.01, 0.01, 0.01, 0.01, 0.01, 0.01, 0.01, 0.01, 0.01, 0.01, 0.01, 0.01, 0.01, 0.01, 0.01, 0.01, 0.01, 0.01, 0.01, 0.01, 0.01, 0.01, 0.01, 0.01, 0.01, 0.01, 0.01, 0.01, 0.01, 0.01, 0.01, 0.01, 0.01, 0.01, 0.01, 0.01, 0.01, 0.01, 0.01, 0.01, 0.01, 0.01, 0.01, 0.01, 0.01, 0.01, 0.01, 0.01, 0.01, 0.01, 0.01, 0.01, 0.01, 0.01, 0.01, 0.01, 0.01, 0.01, 0.01, 0.01, 0.01, 0.01, 0.01, 0.01, 0.01, 0.01, 0.01, 0.01, 0.01, 0.01, 0.01, 0.01, 0.01, 0.01, 0.01, 0.01, 0.01, 0.01, 0.01, 0.01, 0.01, 0.01, 0.01, 0.01, 0.01, 0.01, 0.01, 0.01, 0.01, 0.01, 0.01, 0.01, 0.01, 0.01, 0.01, 0.01, 0.01, 0.01, 0.01, 0.01, 0.01, 0.01, 0.01, 0.01, 0.01, 0.01, 0.01, 0.01, 0.01, 0.01, 0.01, 0.01, 0.01, 0.01, 0.01, 0.01, 0.01, 0.01, 0.01, 0.01, 0.01, 0.01, 0.01, 0.01, 0.01, 0.01, 0.01, 0.01, 0.01, 0.01, 0.01, 0.01, 0.01, 0.01, 0.01, 0.01, 0.01, 0.01, 0.01, 0.01, 0.01, 0.01, 0.01, 0.01, 0.01, 0.01, 0.01, 0.01, 0.01, 0.01, 0.01, 0.01, 0.01, 0.01, 0.01, 0.01, 0.01, 0.01, 0.01, 0.01, 0.01, 0.01, 0.01, 0.01, 0.01, 0.01, 0.01, 0.01, 0.01, 0.01, 0.01, 0.01, 0.01, 0.01], 'train_mse': [1.4622696843248388, 0.8372810913362888, 0.5581805857536513, 0.6127100531377062, 0.5425259214940568, 0.3169022510400441, 0.49818182916782006, 0.40451454640983997, 0.2849861188460381, 0.24924474193313584, 0.23012635857961444, 0.2658764495079372, 0.25087203331597097, 0.22769967147459097, 0.19943716510676826, 0.19618683979045537, 0.17860967092315178, 0.18970600298441187, 0.17340951050350698, 0.1937656351432178, 0.18759173672593876, 0.1650892983398913, 0.1624192946841279, 0.15476363327680445, 0.17230842346169617, 0.16437403529398287, 0.15623105932744308, 0.15993440946412274, 0.1518084685533964, 0.1441350602474625, 0.14907487767773062, 0.15717506507010326, 0.13866445575440517, 0.1308694706990528, 0.16446341877237405, 0.13272992929315638, 0.12119641287869969, 0.12999058335235658, 0.12067899384762172, 0.10522055727165433, 0.1119369658872457, 0.11037623938942528, 0.137317003238656, 0.12449863817238596, 0.1336977232258994, 0.12256421394485414, 0.13066127612631134, 0.11383640272986982, 0.10632451858116158, 0.1137952454900996, 0.11490957086012643, 0.09799394123548473, 0.10024581758925279, 0.09927729510802188, 0.10106502119044729, 0.10619294590816833, 0.10217094674283884, 0.10415350302758404, 0.11257657792725438, 0.1019488775914633, 0.09903217170688351, 0.12131426072205795, 0.09273331722756908, 0.09207210020290722, 0.0952031245158946, 0.09196493510451474, 0.11160770567279066, 0.11633009470559544, 0.09897857559524399, 0.0974639909965247, 0.1264574003271685, 0.11673227236813588, 0.1098149898003741, 0.1355418176175971, 0.10119450461822758, 0.1009121147661681, 0.09960614729478656, 0.09566900759690035, 0.11395318554933971, 0.12050347964962198, 0.09698549700698744, 0.09478232967707732, 0.0941154129472982, 0.0954183492672114, 0.1161040081489668, 0.08777191372374027, 0.09213675980906193, 0.09723894220951204, 0.1014239125676839, 0.10726344839283884, 0.09419565714488691, 0.09109523931304962, 0.09621577393145313, 0.10343178879144437, 0.11389867065955517, 0.12543874235566, 0.10567704593725727, 0.10571631861607873, 0.0958874925906102, 0.09884591202578398, 0.08618008413999356, 0.08806693549195364, 0.09010598936402903, 0.08845430389943457, 0.08650566344142543, 0.07767993101908677, 0.08281470993344602, 0.08105178674247461, 0.08198873110219841, 0.09736491342817517, 0.08456582487627949, 0.08588136894636804, 0.1117383384975445, 0.11999510386347702, 0.1044616677841116, 0.09200139738067716, 0.11711598394495902, 0.10755064805337836, 0.1452090799594405, 0.120247907805692, 0.10141906678166444, 0.11707836485644216, 0.2180045561720543, 0.168698229974155, 0.13892158379515662, 0.11140256375410425, 0.10427755596092399, 0.10708848797420914, 0.09461750148646977, 0.08597567279393577, 0.09645387999518712, 0.0879464583919298, 0.0971200628487154, 0.10554002790331886, 0.0934723712773397, 0.08903428256278155, 0.09250165410309202, 0.09086113304950864, 0.10151823752747015, 0.08581570272392092, 0.07736402999303264, 0.07669902507214225, 0.09245911203170767, 0.089389519017209, 0.07708195369742284, 0.08875348590411933, 0.09090358515753433, 0.0845310057979647, 0.08475022844238629, 0.0925220353353094, 0.0796101897551154, 0.08246446918109185, 0.09247349112212631, 0.08966156506659902, 0.09159226543849831, 0.07942914541658747, 0.0804461318812651, 0.082518699241027, 0.08507538221926668, 0.09315844000793426, 0.08953242675433297, 0.09758110126583644, 0.08063454754651816, 0.07993242274187985, 0.1060827878968457, 0.07904767640735598, 0.08093014599737912, 0.07644120396854687, 0.07720282000303744, 0.07537639277092376, 0.08002801075629151, 0.08640545821702356, 0.0798954341463936, 0.08638070856902652, 0.0863815887504996, 0.08263589059108993, 0.07987760134029917, 0.07751443379332347, 0.0855813930619052, 0.09856590407696171, 0.09815533840931207, 0.08722582031241181, 0.08410825082382656, 0.08746943954080244, 0.08057910942975076, 0.08341141677510334, 0.07975496682779369, 0.08183931569277918, 0.08095613427870006, 0.07913258954762539, 0.08607943255923554, 0.08009503107991958, 0.08086679292791525, 0.07991338653447806, 0.08316508927948392, 0.08480961691664154, 0.09287921235504194, 0.07960860750551772, 0.1080759943352168, 0.08404543597819909, 0.07923455050801577, 0.09259661997229056, 0.07780084590018511, 0.08389233075406895, 0.09270719422664568, 0.08920905777978162, 0.0912754089669177, 0.07978846338372918, 0.08288764892567513, 0.08087224077878218, 0.08415750680209624, 0.09524733813089564, 0.08568115625150816, 0.08343878147861841, 0.07926678747426949, 0.08734093712375027, 0.08400923378318309, 0.08562881912517299, 0.07827402701508702, 0.08139439677914752, 0.07978575333817478, 0.09524824987534247, 0.08689400037776834, 0.08354456408415284, 0.0827962416377909, 0.09027296181443233, 0.09068841065496605, 0.10073290995863213, 0.09265938319876048, 0.0898322190064422, 0.08320099637519171, 0.08847716782476715, 0.09308548404654825, 0.08754957544211228, 0.08853228304038588, 0.07998327668065879, 0.09504861562269834, 0.09109517384467218, 0.0958381078653969, 0.096924889974674, 0.0831840113920594, 0.08216758117447528, 0.11730892826410734, 0.1398131649732914, 0.18808742785686983, 0.13078917149962696, 0.10860994923975344, 0.14877666734601486, 0.13191840877792715, 0.1178858097978884, 0.12263166548584008, 0.10131179096187655, 0.09957572018877453], 'train_mae': [0.8794190794524932, 0.6154227817416134, 0.5112256534301173, 0.504064097682416, 0.4756821615263824, 0.3865418047886378, 0.4702466196231929, 0.41926932996251504, 0.355546929907875, 0.338216965715606, 0.32853877682209265, 0.33872457632292935, 0.346763030856881, 0.3303657818785534, 0.30166316573761637, 0.30200719758320677, 0.2868159580216517, 0.2860947766713398, 0.27633609746097987, 0.2844725940792987, 0.2809130326684729, 0.2704371131600123, 0.2690250644504209, 0.26294176552532394, 0.27912366835185837, 0.2815620583800889, 0.27167286003054425, 0.2752224442765668, 0.2668608263846156, 0.26909336932113287, 0.27648961614476014, 0.2781729278415518, 0.27700290846085734, 0.25896795338164164, 0.2730551088180628, 0.26183712429350275, 0.2518997854516849, 0.2564443934666157, 0.24717486142340012, 0.23573825451584507, 0.24161075588821693, 0.24056826192567235, 0.2595258376138493, 0.2556076433385469, 0.2532231671938513, 0.2519615676706018, 0.25598578937168337, 0.24992297498794933, 0.23830489603410826, 0.24986331260832262, 0.2441770025966375, 0.23517291959181658, 0.23805237294039247, 0.23519265185147548, 0.23546519978586075, 0.24132946676515984, 0.23581926307277282, 0.23479363775562861, 0.24208895392714844, 0.2316068852232036, 0.2324249270612264, 0.2471786186124761, 0.22747300863520617, 0.22258343449581613, 0.23272864101075316, 0.222770296238127, 0.23976484404790038, 0.25409036589334505, 0.22870257193693583, 0.22884943677568295, 0.23828359478307606, 0.24736288494107161, 0.24540547747777527, 0.24792447820990288, 0.2275179183647162, 0.22838818346768824, 0.22868234504682983, 0.23030162774363835, 0.2446237502620141, 0.24817640798156929, 0.23886140140193407, 0.23184080484121775, 0.22828560265393205, 0.22763016976467487, 0.2469855901822834, 0.22238753239839001, 0.2274795039638087, 0.23306548944350874, 0.2290725575186018, 0.23735857135581098, 0.22071628530615725, 0.21421982033164244, 0.2265349516613258, 0.23423492438261698, 0.2419839557400591, 0.2495859020791633, 0.23884838711435094, 0.24094835191480762, 0.22305165451567055, 0.23445735477340945, 0.21687692366865782, 0.22149662687787272, 0.2274596427439059, 0.22314152268026707, 0.22893007253967734, 0.21415913653314078, 0.21681860884211224, 0.21094227258728296, 0.21453725190468495, 0.22445994057087348, 0.21632979393754379, 0.2162503540205088, 0.2220056603906795, 0.22658762756618836, 0.22599816356735233, 0.22233281892114393, 0.22853084310723865, 0.23159551114092275, 0.2587442433057616, 0.22361445189971302, 0.22465456024169797, 0.2330813529713979, 0.2510729414656873, 0.25834326924414086, 0.24313522942566523, 0.22696285814885145, 0.23388020838643375, 0.22986823221396693, 0.22373803119024202, 0.2143240674449657, 0.22542793753386112, 0.21349602792394753, 0.21346424809324602, 0.21665679697652998, 0.22019390295197178, 0.21639025478415452, 0.21961316275377882, 0.21102552233449606, 0.2267591834196252, 0.21315678493357393, 0.20215821599042683, 0.20331746564799913, 0.21833444264623914, 0.21788881545479874, 0.2016529380014667, 0.22378852625472603, 0.2202386032686537, 0.21513002630810432, 0.21072496274739164, 0.2260965074335833, 0.21087707716087414, 0.20982039566078747, 0.21754836444356168, 0.21680019048561244, 0.21949110029678895, 0.20611805698490113, 0.21324101524894948, 0.21274656005021328, 0.2156952357781678, 0.22460957228162912, 0.21926765274413013, 0.21974111622261436, 0.21047795862583435, 0.20534855595509466, 0.22172172190137882, 0.2058716220086923, 0.2104361375964051, 0.20413085324438562, 0.20316381202243008, 0.2023109984194686, 0.20632835986541845, 0.21471540920911966, 0.20787391630849916, 0.21342572038800636, 0.21088947123659146, 0.21608654524717874, 0.20736506585098505, 0.21060705549322098, 0.21605752713697776, 0.22946176750872344, 0.22163554952852332, 0.21776953676180014, 0.21212575511806372, 0.21172791900876295, 0.2029945137046622, 0.20610118631231383, 0.20026476982292934, 0.20465722698482636, 0.20569382041314926, 0.20393111880429515, 0.21620520384523223, 0.20765969775522075, 0.20480760553396396, 0.20498674112872686, 0.20556559435477445, 0.21008149634031534, 0.21834557738027655, 0.20684842769477557, 0.24182002643737024, 0.2139100574852306, 0.20247194969717788, 0.22087397975961037, 0.1975568224055601, 0.2095103530345641, 0.22013733853961934, 0.21540392356658042, 0.21293986960646719, 0.20368660847427333, 0.22272534922039205, 0.2111090484129105, 0.21305997977543029, 0.223023336360009, 0.21104990742912427, 0.21627900028543826, 0.2043759141024551, 0.2162876474176499, 0.20980071151456228, 0.21681059372511036, 0.202617800048545, 0.21288815363509095, 0.20272010096910814, 0.2301804464379784, 0.2145606041359883, 0.21161089097944474, 0.2092094749185116, 0.21615629342614057, 0.21726548075391228, 0.22405172385810793, 0.226786040741579, 0.22521434325213036, 0.21250395228473304, 0.21356025572972012, 0.21989114946857735, 0.21629601938286655, 0.21456372501544863, 0.20305954916736707, 0.21770710519905062, 0.21261398036314602, 0.2157382453693729, 0.22207128520709923, 0.20735183036278015, 0.21154504044552508, 0.22694949422574623, 0.2482874765281767, 0.27164339067109683, 0.23737917355789276, 0.23300780344127447, 0.2693061791845863, 0.24847959682409154, 0.23096406259943153, 0.23830969682708444, 0.22708188121628264, 0.21924669515578324]}\n"
     ]
    },
    {
     "data": {
      "application/scrapbook.scrap.json+json": {
       "data": 0.2782649297804943,
       "encoder": "json",
       "name": "TabNet MAE",
       "version": 1
      }
     },
     "metadata": {
      "scrapbook": {
       "data": true,
       "display": false,
       "name": "TabNet MAE"
      }
     },
     "output_type": "display_data"
    },
    {
     "name": "stdout",
     "output_type": "stream",
     "text": [
      "TabNet MAE 0.2782649297804943\n"
     ]
    },
    {
     "data": {
      "image/png": "[encoded data removed]",
      "text/plain": [
       "<Figure size 432x288 with 1 Axes>"
      ]
     },
     "metadata": {
      "needs_background": "light"
     },
     "output_type": "display_data"
    }
   ],
   "source": [
    "lr = 0.01\n",
    "\n",
    "y_train = np.reshape(y_train, (-1, 1))\n",
    "y_test = np.reshape(y_test, (-1, 1))\n",
    "\n",
    "device = torch.device('cuda' if torch.cuda.is_available() else 'cpu')\n",
    "mae_tab= baselineModels.tabnetreg(X_train,y_train,X_test,y_test,batch_size,n_features,n_target,n_epochs, lr)\n",
    "sb.glue(\"TabNet MAE\",mae_tab)\n",
    "print(\"TabNet MAE\",mae_tab)"
   ]
  }
 ],
 "metadata": {
  "kernelspec": {
   "display_name": "Python 3.7.3 64-bit",
   "language": "python",
   "name": "python3"
  },
  "language_info": {
   "codemirror_mode": {
    "name": "ipython",
    "version": 3
   },
   "file_extension": ".py",
   "mimetype": "text/x-python",
   "name": "python",
   "nbconvert_exporter": "python",
   "pygments_lexer": "ipython3",
   "version": "3.8.13"
  },
  "papermill": {
   "default_parameters": {},
   "duration": 116.57116,
   "end_time": "2022-07-21T10:31:40.714813",
   "environment_variables": {},
   "exception": null,
   "input_path": "BaselineModels.ipynb",
   "output_path": "./BaseLine_Model_Output/BaselineModels_output_6.ipynb",
   "parameters": {},
   "start_time": "2022-07-21T10:29:44.143653",
   "version": "2.3.3"
  },
  "vscode": {
   "interpreter": {
    "hash": "aee8b7b246df8f9039afb4144a1f6fd8d2ca17a180786b69acc140d282b71a49"
   }
  }
 },
 "nbformat": 4,
 "nbformat_minor": 5
}