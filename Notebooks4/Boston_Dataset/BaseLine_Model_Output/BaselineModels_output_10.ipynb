{
 "cells": [
  {
   "cell_type": "markdown",
   "id": "8c67bd99",
   "metadata": {
    "papermill": {
     "duration": 0.011707,
     "end_time": "2022-07-21T10:37:48.760870",
     "exception": false,
     "start_time": "2022-07-21T10:37:48.749163",
     "status": "completed"
    },
    "tags": []
   },
   "source": [
    "## Import Libraries "
   ]
  },
  {
   "cell_type": "code",
   "execution_count": 1,
   "id": "003e2a0c",
   "metadata": {
    "execution": {
     "iopub.execute_input": "2022-07-21T10:37:48.808729Z",
     "iopub.status.busy": "2022-07-21T10:37:48.784144Z",
     "iopub.status.idle": "2022-07-21T10:37:48.845526Z",
     "shell.execute_reply": "2022-07-21T10:37:48.843227Z"
    },
    "papermill": {
     "duration": 0.083918,
     "end_time": "2022-07-21T10:37:48.849612",
     "exception": false,
     "start_time": "2022-07-21T10:37:48.765694",
     "status": "completed"
    },
    "tags": []
   },
   "outputs": [],
   "source": [
    "import warnings\n",
    "import sys\n",
    "sys.path.insert(0, '../../src')\n",
    "warnings.filterwarnings('ignore')"
   ]
  },
  {
   "cell_type": "code",
   "execution_count": 2,
   "id": "f166b75a",
   "metadata": {
    "execution": {
     "iopub.execute_input": "2022-07-21T10:37:48.873487Z",
     "iopub.status.busy": "2022-07-21T10:37:48.870894Z",
     "iopub.status.idle": "2022-07-21T10:38:09.461566Z",
     "shell.execute_reply": "2022-07-21T10:38:09.460267Z"
    },
    "papermill": {
     "duration": 20.605922,
     "end_time": "2022-07-21T10:38:09.465916",
     "exception": false,
     "start_time": "2022-07-21T10:37:48.859994",
     "status": "completed"
    },
    "tags": []
   },
   "outputs": [],
   "source": [
    "import statsModel\n",
    "import scrapbook as sb \n",
    "import torch \n",
    "import statsModel\n",
    "import baselineModels\n",
    "import bostonDataset\n",
    "import dataset \n",
    "from torch.utils.data import random_split \n",
    "from sklearn.model_selection import train_test_split\n",
    "import numpy as np\n",
    "from sklearn.metrics import mean_squared_error,mean_absolute_error "
   ]
  },
  {
   "cell_type": "markdown",
   "id": "6b4e9120",
   "metadata": {
    "papermill": {
     "duration": 0.004449,
     "end_time": "2022-07-21T10:38:09.528489",
     "exception": false,
     "start_time": "2022-07-21T10:38:09.524040",
     "status": "completed"
    },
    "tags": []
   },
   "source": [
    "## Import Dataset \n"
   ]
  },
  {
   "cell_type": "code",
   "execution_count": 3,
   "id": "1b0ebba5",
   "metadata": {
    "execution": {
     "iopub.execute_input": "2022-07-21T10:38:09.544326Z",
     "iopub.status.busy": "2022-07-21T10:38:09.543506Z",
     "iopub.status.idle": "2022-07-21T10:38:09.611357Z",
     "shell.execute_reply": "2022-07-21T10:38:09.603834Z"
    },
    "papermill": {
     "duration": 0.08426,
     "end_time": "2022-07-21T10:38:09.617049",
     "exception": false,
     "start_time": "2022-07-21T10:38:09.532789",
     "status": "completed"
    },
    "tags": []
   },
   "outputs": [
    {
     "name": "stdout",
     "output_type": "stream",
     "text": [
      "         X1        X2        X3        X4        X5        X6        X7  \\\n",
      "0 -0.419782  0.284830 -1.287909 -0.272599 -0.144217  0.413672 -0.120013   \n",
      "1 -0.417339 -0.487722 -0.593381 -0.272599 -0.740262  0.194274  0.367166   \n",
      "2 -0.417342 -0.487722 -0.593381 -0.272599 -0.740262  1.282714 -0.265812   \n",
      "3 -0.416750 -0.487722 -1.306878 -0.272599 -0.835284  1.016303 -0.809889   \n",
      "4 -0.412482 -0.487722 -1.306878 -0.272599 -0.835284  1.228577 -0.511180   \n",
      "\n",
      "         X8        X9       X10       X11       X12       X13         Y  \n",
      "0  0.140214 -0.982843 -0.666608 -1.459000  0.441052 -1.075562  0.159686  \n",
      "1  0.557160 -0.867883 -0.987329 -0.303094  0.441052 -0.492439 -0.101524  \n",
      "2  0.557160 -0.867883 -0.987329 -0.303094  0.396427 -1.208727  1.324247  \n",
      "3  1.077737 -0.752922 -1.106115  0.113032  0.416163 -1.361517  1.182758  \n",
      "4  1.077737 -0.752922 -1.106115  0.113032  0.441052 -1.026501  1.487503  \n"
     ]
    }
   ],
   "source": [
    "n_features = 13\n",
    "n_samples= 506\n",
    "n_target = 1 \n",
    "X,Y = bostonDataset.boston_data()"
   ]
  },
  {
   "cell_type": "code",
   "execution_count": 4,
   "id": "6bf7ffc1",
   "metadata": {
    "execution": {
     "iopub.execute_input": "2022-07-21T10:38:09.630011Z",
     "iopub.status.busy": "2022-07-21T10:38:09.629356Z",
     "iopub.status.idle": "2022-07-21T10:38:09.638137Z",
     "shell.execute_reply": "2022-07-21T10:38:09.636859Z"
    },
    "papermill": {
     "duration": 0.022034,
     "end_time": "2022-07-21T10:38:09.644602",
     "exception": false,
     "start_time": "2022-07-21T10:38:09.622568",
     "status": "completed"
    },
    "tags": []
   },
   "outputs": [],
   "source": [
    "# Train test split for dataset \n",
    "real_dataset = dataset.CustomDataset(X,Y)\n",
    "X_train, X_test, y_train, y_test = train_test_split(X, Y, test_size=0.2)"
   ]
  },
  {
   "cell_type": "markdown",
   "id": "e163f4a4",
   "metadata": {
    "papermill": {
     "duration": 0.004695,
     "end_time": "2022-07-21T10:38:09.654799",
     "exception": false,
     "start_time": "2022-07-21T10:38:09.650104",
     "status": "completed"
    },
    "tags": []
   },
   "source": [
    "## Stats Model \n",
    "\n"
   ]
  },
  {
   "cell_type": "code",
   "execution_count": 5,
   "id": "bb542880",
   "metadata": {
    "execution": {
     "iopub.execute_input": "2022-07-21T10:38:09.684931Z",
     "iopub.status.busy": "2022-07-21T10:38:09.678628Z",
     "iopub.status.idle": "2022-07-21T10:38:11.029905Z",
     "shell.execute_reply": "2022-07-21T10:38:11.028239Z"
    },
    "papermill": {
     "duration": 1.371991,
     "end_time": "2022-07-21T10:38:11.032675",
     "exception": false,
     "start_time": "2022-07-21T10:38:09.660684",
     "status": "completed"
    },
    "tags": []
   },
   "outputs": [
    {
     "name": "stderr",
     "output_type": "stream",
     "text": [
      "No artists with labels found to put in legend.  Note that artists whose label start with an underscore are ignored when legend() is called with no argument.\n"
     ]
    },
    {
     "name": "stdout",
     "output_type": "stream",
     "text": [
      "                                 OLS Regression Results                                \n",
      "=======================================================================================\n",
      "Dep. Variable:                      y   R-squared (uncentered):                   0.787\n",
      "Model:                            OLS   Adj. R-squared (uncentered):              0.780\n",
      "Method:                 Least Squares   F-statistic:                              111.4\n",
      "Date:                Thu, 21 Jul 2022   Prob (F-statistic):                   1.50e-122\n",
      "Time:                        16:08:09   Log-Likelihood:                         -256.74\n",
      "No. Observations:                 404   AIC:                                      539.5\n",
      "Df Residuals:                     391   BIC:                                      591.5\n",
      "Df Model:                          13                                                  \n",
      "Covariance Type:            nonrobust                                                  \n",
      "==============================================================================\n",
      "                 coef    std err          t      P>|t|      [0.025      0.975]\n",
      "------------------------------------------------------------------------------\n",
      "x1            -0.0948      0.030     -3.151      0.002      -0.154      -0.036\n",
      "x2             0.0972      0.034      2.896      0.004       0.031       0.163\n",
      "x3             0.0571      0.045      1.261      0.208      -0.032       0.146\n",
      "x4             0.0637      0.026      2.476      0.014       0.013       0.114\n",
      "x5            -0.2122      0.050     -4.248      0.000      -0.310      -0.114\n",
      "x6             0.3697      0.033     11.140      0.000       0.304       0.435\n",
      "x7            -0.0198      0.041     -0.480      0.632      -0.101       0.061\n",
      "x8            -0.2806      0.045     -6.282      0.000      -0.368      -0.193\n",
      "x9             0.2648      0.064      4.164      0.000       0.140       0.390\n",
      "x10           -0.2379      0.070     -3.421      0.001      -0.375      -0.101\n",
      "x11           -0.2306      0.031     -7.476      0.000      -0.291      -0.170\n",
      "x12            0.0997      0.029      3.484      0.001       0.043       0.156\n",
      "x13           -0.3401      0.041     -8.257      0.000      -0.421      -0.259\n",
      "==============================================================================\n",
      "Omnibus:                      134.161   Durbin-Watson:                   1.955\n",
      "Prob(Omnibus):                  0.000   Jarque-Bera (JB):              530.981\n",
      "Skew:                           1.429   Prob(JB):                    5.00e-116\n",
      "Kurtosis:                       7.834   Cond. No.                         9.74\n",
      "==============================================================================\n",
      "\n",
      "Notes:\n",
      "[1] R² is computed without centering (uncentered) since the model does not contain a constant.\n",
      "[2] Standard Errors assume that the covariance matrix of the errors is correctly specified.\n"
     ]
    },
    {
     "data": {
      "image/png": "[encoded data removed]",
      "text/plain": [
       "<Figure size 432x288 with 1 Axes>"
      ]
     },
     "metadata": {
      "needs_background": "light"
     },
     "output_type": "display_data"
    },
    {
     "name": "stdout",
     "output_type": "stream",
     "text": [
      "Performance Metrics\n",
      "Mean Squared Error: 0.48332750006675856\n",
      "Mean Absolute Error: 0.44812404081385454\n",
      "Manhattan distance: 45.708652163013156\n",
      "Euclidean distance: 7.021353502481511\n"
     ]
    },
    {
     "data": {
      "application/scrapbook.scrap.json+json": {
       "data": 0.48332750006675856,
       "encoder": "json",
       "name": "Stats Model MSE",
       "version": 1
      }
     },
     "metadata": {
      "scrapbook": {
       "data": true,
       "display": false,
       "name": "Stats Model MSE"
      }
     },
     "output_type": "display_data"
    },
    {
     "data": {
      "application/scrapbook.scrap.json+json": {
       "data": 0.44812404081385454,
       "encoder": "json",
       "name": "Stats Model MAE",
       "version": 1
      }
     },
     "metadata": {
      "scrapbook": {
       "data": true,
       "display": false,
       "name": "Stats Model MAE"
      }
     },
     "output_type": "display_data"
    },
    {
     "data": {
      "application/scrapbook.scrap.json+json": {
       "data": 45.708652163013156,
       "encoder": "json",
       "name": "Stats Model Manhattan Distance",
       "version": 1
      }
     },
     "metadata": {
      "scrapbook": {
       "data": true,
       "display": false,
       "name": "Stats Model Manhattan Distance"
      }
     },
     "output_type": "display_data"
    },
    {
     "data": {
      "application/scrapbook.scrap.json+json": {
       "data": 7.021353502481511,
       "encoder": "json",
       "name": "Stats Model Euclidean distance",
       "version": 1
      }
     },
     "metadata": {
      "scrapbook": {
       "data": true,
       "display": false,
       "name": "Stats Model Euclidean distance"
      }
     },
     "output_type": "display_data"
    },
    {
     "data": {
      "application/scrapbook.scrap.json+json": {
       "data": [
        -0.09477233294810605,
        0.0971781588968907,
        0.05707754497276663,
        0.06366429365549571,
        -0.21219859192872134,
        0.3696718473933007,
        -0.0197544092804878,
        -0.2805621022326653,
        0.26475704794129595,
        -0.23790733106914827,
        -0.23056511633854138,
        0.09970573126522345,
        -0.3400769237028745
       ],
       "encoder": "json",
       "name": "Coefficients",
       "version": 1
      }
     },
     "metadata": {
      "scrapbook": {
       "data": true,
       "display": false,
       "name": "Coefficients"
      }
     },
     "output_type": "display_data"
    },
    {
     "name": "stdout",
     "output_type": "stream",
     "text": [
      "Stats Model MAE 0.44812404081385454\n"
     ]
    }
   ],
   "source": [
    "coefficients , y_pred =statsModel.statsModel(X_train,y_train,X_test,y_test)\n",
    "#Store MSE Value \n",
    "sb.glue(\"Coefficients\",coefficients)\n",
    "mae = mean_absolute_error(y_pred, y_test)\n",
    "print(\"Stats Model MAE\", mae)"
   ]
  },
  {
   "cell_type": "markdown",
   "id": "e5d92d9d",
   "metadata": {
    "papermill": {
     "duration": 0.008532,
     "end_time": "2022-07-21T10:38:11.048478",
     "exception": false,
     "start_time": "2022-07-21T10:38:11.039946",
     "status": "completed"
    },
    "tags": []
   },
   "source": [
    "# Catboost Model "
   ]
  },
  {
   "cell_type": "code",
   "execution_count": 6,
   "id": "4e520a8e",
   "metadata": {
    "execution": {
     "iopub.execute_input": "2022-07-21T10:38:11.069801Z",
     "iopub.status.busy": "2022-07-21T10:38:11.068406Z",
     "iopub.status.idle": "2022-07-21T10:38:15.495989Z",
     "shell.execute_reply": "2022-07-21T10:38:15.495080Z"
    },
    "papermill": {
     "duration": 4.441983,
     "end_time": "2022-07-21T10:38:15.499396",
     "exception": false,
     "start_time": "2022-07-21T10:38:11.057413",
     "status": "completed"
    },
    "tags": []
   },
   "outputs": [
    {
     "name": "stdout",
     "output_type": "stream",
     "text": [
      "Learning rate set to 0.03548\n"
     ]
    },
    {
     "name": "stdout",
     "output_type": "stream",
     "text": [
      "0:\tlearn: 0.9674248\ttotal: 159ms\tremaining: 2m 38s\n",
      "1:\tlearn: 0.9458189\ttotal: 164ms\tremaining: 1m 21s\n",
      "2:\tlearn: 0.9245551\ttotal: 167ms\tremaining: 55.6s\n",
      "3:\tlearn: 0.9059497\ttotal: 171ms\tremaining: 42.6s\n",
      "4:\tlearn: 0.8882130\ttotal: 174ms\tremaining: 34.6s\n",
      "5:\tlearn: 0.8704004\ttotal: 179ms\tremaining: 29.7s\n",
      "6:\tlearn: 0.8517789\ttotal: 182ms\tremaining: 25.8s\n"
     ]
    },
    {
     "name": "stdout",
     "output_type": "stream",
     "text": [
      "7:\tlearn: 0.8345427\ttotal: 185ms\tremaining: 22.9s\n",
      "8:\tlearn: 0.8181885\ttotal: 188ms\tremaining: 20.7s\n",
      "9:\tlearn: 0.8010276\ttotal: 192ms\tremaining: 19s\n",
      "10:\tlearn: 0.7858688\ttotal: 195ms\tremaining: 17.5s\n",
      "11:\tlearn: 0.7697717\ttotal: 198ms\tremaining: 16.3s\n",
      "12:\tlearn: 0.7541858\ttotal: 203ms\tremaining: 15.4s\n",
      "13:\tlearn: 0.7383669\ttotal: 206ms\tremaining: 14.5s\n",
      "14:\tlearn: 0.7256705\ttotal: 208ms\tremaining: 13.7s\n",
      "15:\tlearn: 0.7112544\ttotal: 211ms\tremaining: 13s\n",
      "16:\tlearn: 0.6991061\ttotal: 214ms\tremaining: 12.4s\n",
      "17:\tlearn: 0.6861659\ttotal: 218ms\tremaining: 11.9s\n",
      "18:\tlearn: 0.6732805\ttotal: 221ms\tremaining: 11.4s\n",
      "19:\tlearn: 0.6616424\ttotal: 223ms\tremaining: 10.9s\n",
      "20:\tlearn: 0.6489349\ttotal: 226ms\tremaining: 10.5s\n",
      "21:\tlearn: 0.6374916\ttotal: 230ms\tremaining: 10.2s\n",
      "22:\tlearn: 0.6266986\ttotal: 234ms\tremaining: 9.92s\n",
      "23:\tlearn: 0.6161857\ttotal: 237ms\tremaining: 9.64s\n",
      "24:\tlearn: 0.6054958\ttotal: 240ms\tremaining: 9.36s\n",
      "25:\tlearn: 0.5954260\ttotal: 243ms\tremaining: 9.11s\n",
      "26:\tlearn: 0.5862207\ttotal: 248ms\tremaining: 8.93s\n",
      "27:\tlearn: 0.5775088\ttotal: 273ms\tremaining: 9.49s\n"
     ]
    },
    {
     "name": "stdout",
     "output_type": "stream",
     "text": [
      "28:\tlearn: 0.5678951\ttotal: 284ms\tremaining: 9.5s\n",
      "29:\tlearn: 0.5585277\ttotal: 286ms\tremaining: 9.26s\n"
     ]
    },
    {
     "name": "stdout",
     "output_type": "stream",
     "text": [
      "30:\tlearn: 0.5488164\ttotal: 293ms\tremaining: 9.17s\n",
      "31:\tlearn: 0.5409648\ttotal: 296ms\tremaining: 8.96s\n",
      "32:\tlearn: 0.5340387\ttotal: 301ms\tremaining: 8.83s\n",
      "33:\tlearn: 0.5261133\ttotal: 308ms\tremaining: 8.74s\n",
      "34:\tlearn: 0.5187791\ttotal: 327ms\tremaining: 9.02s\n",
      "35:\tlearn: 0.5111903\ttotal: 332ms\tremaining: 8.9s\n",
      "36:\tlearn: 0.5047735\ttotal: 335ms\tremaining: 8.71s\n",
      "37:\tlearn: 0.4981562\ttotal: 341ms\tremaining: 8.63s\n",
      "38:\tlearn: 0.4907509\ttotal: 344ms\tremaining: 8.48s\n",
      "39:\tlearn: 0.4831054\ttotal: 347ms\tremaining: 8.32s\n",
      "40:\tlearn: 0.4778331\ttotal: 352ms\tremaining: 8.24s\n"
     ]
    },
    {
     "name": "stdout",
     "output_type": "stream",
     "text": [
      "41:\tlearn: 0.4714639\ttotal: 360ms\tremaining: 8.22s\n",
      "42:\tlearn: 0.4660869\ttotal: 367ms\tremaining: 8.17s\n",
      "43:\tlearn: 0.4600626\ttotal: 377ms\tremaining: 8.19s\n",
      "44:\tlearn: 0.4535079\ttotal: 380ms\tremaining: 8.07s\n"
     ]
    },
    {
     "name": "stdout",
     "output_type": "stream",
     "text": [
      "45:\tlearn: 0.4481918\ttotal: 386ms\tremaining: 8.01s\n",
      "46:\tlearn: 0.4433198\ttotal: 391ms\tremaining: 7.93s\n",
      "47:\tlearn: 0.4372854\ttotal: 396ms\tremaining: 7.86s\n",
      "48:\tlearn: 0.4328559\ttotal: 401ms\tremaining: 7.78s\n",
      "49:\tlearn: 0.4282411\ttotal: 405ms\tremaining: 7.7s\n",
      "50:\tlearn: 0.4227969\ttotal: 412ms\tremaining: 7.66s\n",
      "51:\tlearn: 0.4182805\ttotal: 416ms\tremaining: 7.59s\n",
      "52:\tlearn: 0.4145388\ttotal: 422ms\tremaining: 7.53s\n",
      "53:\tlearn: 0.4109361\ttotal: 424ms\tremaining: 7.43s\n",
      "54:\tlearn: 0.4067674\ttotal: 429ms\tremaining: 7.37s\n",
      "55:\tlearn: 0.4027328\ttotal: 436ms\tremaining: 7.35s\n",
      "56:\tlearn: 0.3983548\ttotal: 460ms\tremaining: 7.61s\n"
     ]
    },
    {
     "name": "stdout",
     "output_type": "stream",
     "text": [
      "57:\tlearn: 0.3946480\ttotal: 485ms\tremaining: 7.88s\n",
      "58:\tlearn: 0.3910475\ttotal: 488ms\tremaining: 7.78s\n"
     ]
    },
    {
     "name": "stdout",
     "output_type": "stream",
     "text": [
      "59:\tlearn: 0.3878046\ttotal: 491ms\tremaining: 7.69s\n",
      "60:\tlearn: 0.3839281\ttotal: 494ms\tremaining: 7.61s\n",
      "61:\tlearn: 0.3806377\ttotal: 498ms\tremaining: 7.53s\n",
      "62:\tlearn: 0.3781924\ttotal: 501ms\tremaining: 7.46s\n",
      "63:\tlearn: 0.3753967\ttotal: 529ms\tremaining: 7.74s\n",
      "64:\tlearn: 0.3728941\ttotal: 535ms\tremaining: 7.69s\n",
      "65:\tlearn: 0.3694962\ttotal: 548ms\tremaining: 7.76s\n",
      "66:\tlearn: 0.3662065\ttotal: 553ms\tremaining: 7.71s\n",
      "67:\tlearn: 0.3637277\ttotal: 559ms\tremaining: 7.66s\n",
      "68:\tlearn: 0.3607185\ttotal: 563ms\tremaining: 7.59s\n",
      "69:\tlearn: 0.3587081\ttotal: 566ms\tremaining: 7.52s\n",
      "70:\tlearn: 0.3557257\ttotal: 569ms\tremaining: 7.45s\n",
      "71:\tlearn: 0.3532857\ttotal: 576ms\tremaining: 7.42s\n",
      "72:\tlearn: 0.3511813\ttotal: 580ms\tremaining: 7.37s\n",
      "73:\tlearn: 0.3481395\ttotal: 588ms\tremaining: 7.35s\n",
      "74:\tlearn: 0.3456122\ttotal: 591ms\tremaining: 7.29s\n",
      "75:\tlearn: 0.3434933\ttotal: 595ms\tremaining: 7.24s\n"
     ]
    },
    {
     "name": "stdout",
     "output_type": "stream",
     "text": [
      "76:\tlearn: 0.3402474\ttotal: 600ms\tremaining: 7.2s\n",
      "77:\tlearn: 0.3378189\ttotal: 604ms\tremaining: 7.14s\n"
     ]
    },
    {
     "name": "stdout",
     "output_type": "stream",
     "text": [
      "78:\tlearn: 0.3356711\ttotal: 607ms\tremaining: 7.08s\n",
      "79:\tlearn: 0.3339300\ttotal: 612ms\tremaining: 7.03s\n",
      "80:\tlearn: 0.3318282\ttotal: 615ms\tremaining: 6.97s\n",
      "81:\tlearn: 0.3295309\ttotal: 618ms\tremaining: 6.92s\n",
      "82:\tlearn: 0.3280360\ttotal: 644ms\tremaining: 7.12s\n",
      "83:\tlearn: 0.3263128\ttotal: 661ms\tremaining: 7.21s\n",
      "84:\tlearn: 0.3241842\ttotal: 664ms\tremaining: 7.15s\n",
      "85:\tlearn: 0.3230860\ttotal: 666ms\tremaining: 7.08s\n",
      "86:\tlearn: 0.3216202\ttotal: 668ms\tremaining: 7.01s\n",
      "87:\tlearn: 0.3196660\ttotal: 672ms\tremaining: 6.97s\n",
      "88:\tlearn: 0.3175677\ttotal: 674ms\tremaining: 6.9s\n",
      "89:\tlearn: 0.3156515\ttotal: 676ms\tremaining: 6.83s\n",
      "90:\tlearn: 0.3140005\ttotal: 680ms\tremaining: 6.79s\n",
      "91:\tlearn: 0.3122959\ttotal: 681ms\tremaining: 6.72s\n",
      "92:\tlearn: 0.3104281\ttotal: 684ms\tremaining: 6.67s\n",
      "93:\tlearn: 0.3089513\ttotal: 687ms\tremaining: 6.63s\n",
      "94:\tlearn: 0.3072772\ttotal: 689ms\tremaining: 6.57s\n",
      "95:\tlearn: 0.3067211\ttotal: 691ms\tremaining: 6.51s\n",
      "96:\tlearn: 0.3056730\ttotal: 693ms\tremaining: 6.46s\n",
      "97:\tlearn: 0.3043762\ttotal: 698ms\tremaining: 6.43s\n",
      "98:\tlearn: 0.3023710\ttotal: 700ms\tremaining: 6.37s\n",
      "99:\tlearn: 0.3012021\ttotal: 704ms\tremaining: 6.34s\n",
      "100:\tlearn: 0.3001477\ttotal: 706ms\tremaining: 6.28s\n",
      "101:\tlearn: 0.2986225\ttotal: 708ms\tremaining: 6.23s\n",
      "102:\tlearn: 0.2973675\ttotal: 713ms\tremaining: 6.21s\n"
     ]
    },
    {
     "name": "stdout",
     "output_type": "stream",
     "text": [
      "103:\tlearn: 0.2957297\ttotal: 716ms\tremaining: 6.17s\n",
      "104:\tlearn: 0.2941299\ttotal: 719ms\tremaining: 6.13s\n"
     ]
    },
    {
     "name": "stdout",
     "output_type": "stream",
     "text": [
      "105:\tlearn: 0.2925930\ttotal: 721ms\tremaining: 6.08s\n",
      "106:\tlearn: 0.2911016\ttotal: 731ms\tremaining: 6.1s\n"
     ]
    },
    {
     "name": "stdout",
     "output_type": "stream",
     "text": [
      "107:\tlearn: 0.2892409\ttotal: 826ms\tremaining: 6.82s\n",
      "108:\tlearn: 0.2881816\ttotal: 832ms\tremaining: 6.8s\n",
      "109:\tlearn: 0.2873256\ttotal: 837ms\tremaining: 6.77s\n",
      "110:\tlearn: 0.2859975\ttotal: 843ms\tremaining: 6.75s\n",
      "111:\tlearn: 0.2847766\ttotal: 850ms\tremaining: 6.74s\n",
      "112:\tlearn: 0.2835808\ttotal: 856ms\tremaining: 6.72s\n",
      "113:\tlearn: 0.2824130\ttotal: 896ms\tremaining: 6.96s\n",
      "114:\tlearn: 0.2813255\ttotal: 898ms\tremaining: 6.91s\n",
      "115:\tlearn: 0.2807018\ttotal: 907ms\tremaining: 6.91s\n",
      "116:\tlearn: 0.2795704\ttotal: 910ms\tremaining: 6.87s\n",
      "117:\tlearn: 0.2786571\ttotal: 916ms\tremaining: 6.84s\n",
      "118:\tlearn: 0.2775313\ttotal: 925ms\tremaining: 6.85s\n",
      "119:\tlearn: 0.2766041\ttotal: 930ms\tremaining: 6.82s\n",
      "120:\tlearn: 0.2756538\ttotal: 934ms\tremaining: 6.79s\n"
     ]
    },
    {
     "name": "stdout",
     "output_type": "stream",
     "text": [
      "121:\tlearn: 0.2750347\ttotal: 939ms\tremaining: 6.75s\n",
      "122:\tlearn: 0.2739935\ttotal: 941ms\tremaining: 6.71s\n",
      "123:\tlearn: 0.2729764\ttotal: 948ms\tremaining: 6.7s\n",
      "124:\tlearn: 0.2720744\ttotal: 952ms\tremaining: 6.66s\n",
      "125:\tlearn: 0.2715005\ttotal: 957ms\tremaining: 6.63s\n",
      "126:\tlearn: 0.2703859\ttotal: 960ms\tremaining: 6.6s\n",
      "127:\tlearn: 0.2692875\ttotal: 971ms\tremaining: 6.62s\n",
      "128:\tlearn: 0.2681965\ttotal: 974ms\tremaining: 6.58s\n",
      "129:\tlearn: 0.2671571\ttotal: 976ms\tremaining: 6.53s\n",
      "130:\tlearn: 0.2663555\ttotal: 979ms\tremaining: 6.5s\n",
      "131:\tlearn: 0.2654486\ttotal: 982ms\tremaining: 6.46s\n",
      "132:\tlearn: 0.2649280\ttotal: 986ms\tremaining: 6.42s\n",
      "133:\tlearn: 0.2641104\ttotal: 988ms\tremaining: 6.39s\n",
      "134:\tlearn: 0.2631997\ttotal: 992ms\tremaining: 6.36s\n",
      "135:\tlearn: 0.2625132\ttotal: 995ms\tremaining: 6.32s\n",
      "136:\tlearn: 0.2617917\ttotal: 998ms\tremaining: 6.29s\n"
     ]
    },
    {
     "name": "stdout",
     "output_type": "stream",
     "text": [
      "137:\tlearn: 0.2608175\ttotal: 1.21s\tremaining: 7.55s\n",
      "138:\tlearn: 0.2596729\ttotal: 1.22s\tremaining: 7.54s\n",
      "139:\tlearn: 0.2587083\ttotal: 1.22s\tremaining: 7.51s\n",
      "140:\tlearn: 0.2580238\ttotal: 1.23s\tremaining: 7.48s\n",
      "141:\tlearn: 0.2574907\ttotal: 1.23s\tremaining: 7.45s\n",
      "142:\tlearn: 0.2567374\ttotal: 1.24s\tremaining: 7.41s\n",
      "143:\tlearn: 0.2557571\ttotal: 1.24s\tremaining: 7.37s\n",
      "144:\tlearn: 0.2552286\ttotal: 1.24s\tremaining: 7.33s\n",
      "145:\tlearn: 0.2545312\ttotal: 1.25s\tremaining: 7.29s\n",
      "146:\tlearn: 0.2535485\ttotal: 1.25s\tremaining: 7.26s\n",
      "147:\tlearn: 0.2527261\ttotal: 1.25s\tremaining: 7.22s\n",
      "148:\tlearn: 0.2519554\ttotal: 1.26s\tremaining: 7.19s\n",
      "149:\tlearn: 0.2514897\ttotal: 1.26s\tremaining: 7.15s\n",
      "150:\tlearn: 0.2507690\ttotal: 1.27s\tremaining: 7.12s\n",
      "151:\tlearn: 0.2498923\ttotal: 1.27s\tremaining: 7.08s\n",
      "152:\tlearn: 0.2493728\ttotal: 1.27s\tremaining: 7.05s\n",
      "153:\tlearn: 0.2489564\ttotal: 1.28s\tremaining: 7.01s\n",
      "154:\tlearn: 0.2482922\ttotal: 1.28s\tremaining: 6.97s\n",
      "155:\tlearn: 0.2473277\ttotal: 1.28s\tremaining: 6.94s\n",
      "156:\tlearn: 0.2465722\ttotal: 1.28s\tremaining: 6.9s\n",
      "157:\tlearn: 0.2457866\ttotal: 1.29s\tremaining: 6.87s\n",
      "158:\tlearn: 0.2454953\ttotal: 1.29s\tremaining: 6.83s\n",
      "159:\tlearn: 0.2450645\ttotal: 1.29s\tremaining: 6.8s\n",
      "160:\tlearn: 0.2442392\ttotal: 1.3s\tremaining: 6.76s\n",
      "161:\tlearn: 0.2439774\ttotal: 1.3s\tremaining: 6.73s\n",
      "162:\tlearn: 0.2433627\ttotal: 1.31s\tremaining: 6.71s\n",
      "163:\tlearn: 0.2429839\ttotal: 1.31s\tremaining: 6.68s\n",
      "164:\tlearn: 0.2420196\ttotal: 1.33s\tremaining: 6.71s\n",
      "165:\tlearn: 0.2414161\ttotal: 1.33s\tremaining: 6.68s\n",
      "166:\tlearn: 0.2407264\ttotal: 1.34s\tremaining: 6.67s\n",
      "167:\tlearn: 0.2403686\ttotal: 1.34s\tremaining: 6.65s\n",
      "168:\tlearn: 0.2400765\ttotal: 1.35s\tremaining: 6.62s\n",
      "169:\tlearn: 0.2396404\ttotal: 1.35s\tremaining: 6.6s\n",
      "170:\tlearn: 0.2392517\ttotal: 1.35s\tremaining: 6.56s\n",
      "171:\tlearn: 0.2384914\ttotal: 1.36s\tremaining: 6.56s\n",
      "172:\tlearn: 0.2378994\ttotal: 1.37s\tremaining: 6.54s\n",
      "173:\tlearn: 0.2376679\ttotal: 1.37s\tremaining: 6.5s\n",
      "174:\tlearn: 0.2370970\ttotal: 1.38s\tremaining: 6.5s\n"
     ]
    },
    {
     "name": "stdout",
     "output_type": "stream",
     "text": [
      "175:\tlearn: 0.2368424\ttotal: 1.38s\tremaining: 6.48s\n",
      "176:\tlearn: 0.2365121\ttotal: 1.39s\tremaining: 6.46s\n",
      "177:\tlearn: 0.2360216\ttotal: 1.39s\tremaining: 6.43s\n",
      "178:\tlearn: 0.2354643\ttotal: 1.39s\tremaining: 6.4s\n",
      "179:\tlearn: 0.2349330\ttotal: 1.4s\tremaining: 6.37s\n",
      "180:\tlearn: 0.2341016\ttotal: 1.4s\tremaining: 6.35s\n",
      "181:\tlearn: 0.2332821\ttotal: 1.41s\tremaining: 6.32s\n",
      "182:\tlearn: 0.2329092\ttotal: 1.41s\tremaining: 6.29s\n",
      "183:\tlearn: 0.2325624\ttotal: 1.41s\tremaining: 6.26s\n",
      "184:\tlearn: 0.2314739\ttotal: 1.42s\tremaining: 6.24s\n",
      "185:\tlearn: 0.2311530\ttotal: 1.42s\tremaining: 6.22s\n",
      "186:\tlearn: 0.2302845\ttotal: 1.43s\tremaining: 6.2s\n",
      "187:\tlearn: 0.2300863\ttotal: 1.44s\tremaining: 6.2s\n",
      "188:\tlearn: 0.2296095\ttotal: 1.44s\tremaining: 6.18s\n",
      "189:\tlearn: 0.2286744\ttotal: 1.44s\tremaining: 6.16s\n",
      "190:\tlearn: 0.2282305\ttotal: 1.45s\tremaining: 6.14s\n",
      "191:\tlearn: 0.2275798\ttotal: 1.46s\tremaining: 6.14s\n",
      "192:\tlearn: 0.2269537\ttotal: 1.47s\tremaining: 6.13s\n",
      "193:\tlearn: 0.2264930\ttotal: 1.48s\tremaining: 6.17s\n",
      "194:\tlearn: 0.2261422\ttotal: 1.49s\tremaining: 6.15s\n",
      "195:\tlearn: 0.2257601\ttotal: 1.49s\tremaining: 6.12s\n",
      "196:\tlearn: 0.2254586\ttotal: 1.5s\tremaining: 6.11s\n",
      "197:\tlearn: 0.2248681\ttotal: 1.5s\tremaining: 6.08s\n",
      "198:\tlearn: 0.2242075\ttotal: 1.5s\tremaining: 6.05s\n",
      "199:\tlearn: 0.2237265\ttotal: 1.5s\tremaining: 6.02s\n",
      "200:\tlearn: 0.2234472\ttotal: 1.51s\tremaining: 6s\n",
      "201:\tlearn: 0.2227262\ttotal: 1.51s\tremaining: 5.98s\n",
      "202:\tlearn: 0.2221355\ttotal: 1.52s\tremaining: 5.96s\n",
      "203:\tlearn: 0.2218233\ttotal: 1.52s\tremaining: 5.94s\n",
      "204:\tlearn: 0.2214681\ttotal: 1.53s\tremaining: 5.95s\n",
      "205:\tlearn: 0.2207718\ttotal: 1.54s\tremaining: 5.92s\n",
      "206:\tlearn: 0.2203465\ttotal: 1.54s\tremaining: 5.89s\n",
      "207:\tlearn: 0.2199697\ttotal: 1.55s\tremaining: 5.89s\n"
     ]
    },
    {
     "name": "stdout",
     "output_type": "stream",
     "text": [
      "208:\tlearn: 0.2196743\ttotal: 1.57s\tremaining: 5.93s\n",
      "209:\tlearn: 0.2192099\ttotal: 1.57s\tremaining: 5.91s\n",
      "210:\tlearn: 0.2189282\ttotal: 1.57s\tremaining: 5.88s\n",
      "211:\tlearn: 0.2185256\ttotal: 1.57s\tremaining: 5.85s\n",
      "212:\tlearn: 0.2180710\ttotal: 1.58s\tremaining: 5.83s\n",
      "213:\tlearn: 0.2176665\ttotal: 1.58s\tremaining: 5.8s\n",
      "214:\tlearn: 0.2169944\ttotal: 1.58s\tremaining: 5.78s\n",
      "215:\tlearn: 0.2166764\ttotal: 1.59s\tremaining: 5.76s\n",
      "216:\tlearn: 0.2162354\ttotal: 1.59s\tremaining: 5.74s\n",
      "217:\tlearn: 0.2159106\ttotal: 1.59s\tremaining: 5.71s\n",
      "218:\tlearn: 0.2156589\ttotal: 1.59s\tremaining: 5.69s\n",
      "219:\tlearn: 0.2155400\ttotal: 1.61s\tremaining: 5.71s\n",
      "220:\tlearn: 0.2152702\ttotal: 1.61s\tremaining: 5.68s\n",
      "221:\tlearn: 0.2148678\ttotal: 1.61s\tremaining: 5.65s\n",
      "222:\tlearn: 0.2145624\ttotal: 1.61s\tremaining: 5.63s\n",
      "223:\tlearn: 0.2142388\ttotal: 1.62s\tremaining: 5.6s\n",
      "224:\tlearn: 0.2138507\ttotal: 1.62s\tremaining: 5.57s\n",
      "225:\tlearn: 0.2131568\ttotal: 1.62s\tremaining: 5.55s\n",
      "226:\tlearn: 0.2124576\ttotal: 1.62s\tremaining: 5.52s\n",
      "227:\tlearn: 0.2119684\ttotal: 1.62s\tremaining: 5.5s\n",
      "228:\tlearn: 0.2115023\ttotal: 1.63s\tremaining: 5.47s\n",
      "229:\tlearn: 0.2113731\ttotal: 1.63s\tremaining: 5.45s\n",
      "230:\tlearn: 0.2112227\ttotal: 1.63s\tremaining: 5.43s\n",
      "231:\tlearn: 0.2106075\ttotal: 1.63s\tremaining: 5.41s\n",
      "232:\tlearn: 0.2104169\ttotal: 1.64s\tremaining: 5.39s\n",
      "233:\tlearn: 0.2099693\ttotal: 1.64s\tremaining: 5.37s\n",
      "234:\tlearn: 0.2096335\ttotal: 1.65s\tremaining: 5.36s\n",
      "235:\tlearn: 0.2092106\ttotal: 1.65s\tremaining: 5.33s\n",
      "236:\tlearn: 0.2089875\ttotal: 1.65s\tremaining: 5.31s\n",
      "237:\tlearn: 0.2089193\ttotal: 1.65s\tremaining: 5.29s\n",
      "238:\tlearn: 0.2085230\ttotal: 1.65s\tremaining: 5.26s\n",
      "239:\tlearn: 0.2082422\ttotal: 1.66s\tremaining: 5.24s\n",
      "240:\tlearn: 0.2077820\ttotal: 1.66s\tremaining: 5.22s\n",
      "241:\tlearn: 0.2074052\ttotal: 1.66s\tremaining: 5.2s\n",
      "242:\tlearn: 0.2069924\ttotal: 1.66s\tremaining: 5.17s\n",
      "243:\tlearn: 0.2066929\ttotal: 1.66s\tremaining: 5.15s\n",
      "244:\tlearn: 0.2065202\ttotal: 1.66s\tremaining: 5.13s\n",
      "245:\tlearn: 0.2059723\ttotal: 1.67s\tremaining: 5.11s\n",
      "246:\tlearn: 0.2056483\ttotal: 1.67s\tremaining: 5.08s\n",
      "247:\tlearn: 0.2055011\ttotal: 1.67s\tremaining: 5.06s\n",
      "248:\tlearn: 0.2051678\ttotal: 1.67s\tremaining: 5.05s\n",
      "249:\tlearn: 0.2048746\ttotal: 1.68s\tremaining: 5.03s\n",
      "250:\tlearn: 0.2045165\ttotal: 1.68s\tremaining: 5.01s\n",
      "251:\tlearn: 0.2041435\ttotal: 1.68s\tremaining: 5s\n",
      "252:\tlearn: 0.2040680\ttotal: 1.69s\tremaining: 4.98s\n",
      "253:\tlearn: 0.2039919\ttotal: 1.69s\tremaining: 4.96s\n",
      "254:\tlearn: 0.2038828\ttotal: 1.69s\tremaining: 4.94s\n",
      "255:\tlearn: 0.2037843\ttotal: 1.69s\tremaining: 4.92s\n",
      "256:\tlearn: 0.2036092\ttotal: 1.7s\tremaining: 4.9s\n",
      "257:\tlearn: 0.2030574\ttotal: 1.7s\tremaining: 4.88s\n",
      "258:\tlearn: 0.2028556\ttotal: 1.7s\tremaining: 4.86s\n",
      "259:\tlearn: 0.2025538\ttotal: 1.7s\tremaining: 4.84s\n",
      "260:\tlearn: 0.2023720\ttotal: 1.7s\tremaining: 4.82s\n",
      "261:\tlearn: 0.2022902\ttotal: 1.7s\tremaining: 4.8s\n",
      "262:\tlearn: 0.2021406\ttotal: 1.71s\tremaining: 4.78s\n",
      "263:\tlearn: 0.2014500\ttotal: 1.71s\tremaining: 4.76s\n",
      "264:\tlearn: 0.2006354\ttotal: 1.71s\tremaining: 4.75s\n",
      "265:\tlearn: 0.2001013\ttotal: 1.71s\tremaining: 4.72s\n",
      "266:\tlearn: 0.2000275\ttotal: 1.71s\tremaining: 4.71s\n",
      "267:\tlearn: 0.1999549\ttotal: 1.72s\tremaining: 4.69s\n",
      "268:\tlearn: 0.1993824\ttotal: 1.72s\tremaining: 4.67s\n",
      "269:\tlearn: 0.1988431\ttotal: 1.72s\tremaining: 4.65s\n",
      "270:\tlearn: 0.1982705\ttotal: 1.72s\tremaining: 4.63s\n",
      "271:\tlearn: 0.1981184\ttotal: 1.72s\tremaining: 4.61s\n",
      "272:\tlearn: 0.1976834\ttotal: 1.73s\tremaining: 4.6s\n",
      "273:\tlearn: 0.1976053\ttotal: 1.73s\tremaining: 4.58s\n",
      "274:\tlearn: 0.1967186\ttotal: 1.73s\tremaining: 4.56s\n",
      "275:\tlearn: 0.1959847\ttotal: 1.73s\tremaining: 4.54s\n",
      "276:\tlearn: 0.1955222\ttotal: 1.73s\tremaining: 4.53s\n",
      "277:\tlearn: 0.1949936\ttotal: 1.74s\tremaining: 4.51s\n",
      "278:\tlearn: 0.1946996\ttotal: 1.74s\tremaining: 4.49s\n",
      "279:\tlearn: 0.1944406\ttotal: 1.74s\tremaining: 4.47s\n"
     ]
    },
    {
     "name": "stdout",
     "output_type": "stream",
     "text": [
      "280:\tlearn: 0.1941960\ttotal: 1.74s\tremaining: 4.46s\n",
      "281:\tlearn: 0.1938209\ttotal: 1.74s\tremaining: 4.44s\n",
      "282:\tlearn: 0.1933757\ttotal: 1.75s\tremaining: 4.42s\n",
      "283:\tlearn: 0.1929376\ttotal: 1.75s\tremaining: 4.41s\n",
      "284:\tlearn: 0.1925452\ttotal: 1.75s\tremaining: 4.39s\n",
      "285:\tlearn: 0.1921186\ttotal: 1.75s\tremaining: 4.37s\n",
      "286:\tlearn: 0.1916423\ttotal: 1.75s\tremaining: 4.36s\n",
      "287:\tlearn: 0.1912126\ttotal: 1.75s\tremaining: 4.34s\n",
      "288:\tlearn: 0.1910697\ttotal: 1.76s\tremaining: 4.32s\n",
      "289:\tlearn: 0.1908852\ttotal: 1.76s\tremaining: 4.3s\n",
      "290:\tlearn: 0.1903767\ttotal: 1.76s\tremaining: 4.29s\n",
      "291:\tlearn: 0.1901740\ttotal: 1.76s\tremaining: 4.27s\n",
      "292:\tlearn: 0.1896554\ttotal: 1.76s\tremaining: 4.26s\n",
      "293:\tlearn: 0.1895300\ttotal: 1.77s\tremaining: 4.24s\n",
      "294:\tlearn: 0.1893139\ttotal: 1.77s\tremaining: 4.23s\n",
      "295:\tlearn: 0.1888362\ttotal: 1.77s\tremaining: 4.21s\n",
      "296:\tlearn: 0.1881496\ttotal: 1.77s\tremaining: 4.2s\n",
      "297:\tlearn: 0.1878845\ttotal: 1.77s\tremaining: 4.18s\n",
      "298:\tlearn: 0.1878202\ttotal: 1.78s\tremaining: 4.16s\n",
      "299:\tlearn: 0.1875766\ttotal: 1.78s\tremaining: 4.15s\n",
      "300:\tlearn: 0.1874985\ttotal: 1.78s\tremaining: 4.13s\n",
      "301:\tlearn: 0.1872698\ttotal: 1.78s\tremaining: 4.12s\n",
      "302:\tlearn: 0.1872037\ttotal: 1.78s\tremaining: 4.1s\n",
      "303:\tlearn: 0.1863991\ttotal: 1.78s\tremaining: 4.09s\n",
      "304:\tlearn: 0.1858963\ttotal: 1.79s\tremaining: 4.07s\n",
      "305:\tlearn: 0.1857726\ttotal: 1.79s\tremaining: 4.06s\n",
      "306:\tlearn: 0.1855618\ttotal: 1.79s\tremaining: 4.04s\n",
      "307:\tlearn: 0.1849588\ttotal: 1.79s\tremaining: 4.03s\n",
      "308:\tlearn: 0.1845424\ttotal: 1.79s\tremaining: 4.01s\n",
      "309:\tlearn: 0.1841204\ttotal: 1.8s\tremaining: 4s\n",
      "310:\tlearn: 0.1834726\ttotal: 1.8s\tremaining: 3.98s\n",
      "311:\tlearn: 0.1831163\ttotal: 1.8s\tremaining: 3.97s\n",
      "312:\tlearn: 0.1826639\ttotal: 1.8s\tremaining: 3.95s\n",
      "313:\tlearn: 0.1824981\ttotal: 1.8s\tremaining: 3.94s\n",
      "314:\tlearn: 0.1820511\ttotal: 1.8s\tremaining: 3.92s\n",
      "315:\tlearn: 0.1816597\ttotal: 1.81s\tremaining: 3.91s\n",
      "316:\tlearn: 0.1812917\ttotal: 1.81s\tremaining: 3.9s\n",
      "317:\tlearn: 0.1811090\ttotal: 1.81s\tremaining: 3.88s\n",
      "318:\tlearn: 0.1804817\ttotal: 1.81s\tremaining: 3.87s\n",
      "319:\tlearn: 0.1804301\ttotal: 1.81s\tremaining: 3.85s\n",
      "320:\tlearn: 0.1802420\ttotal: 1.81s\tremaining: 3.84s\n",
      "321:\tlearn: 0.1796953\ttotal: 1.82s\tremaining: 3.83s\n",
      "322:\tlearn: 0.1791232\ttotal: 1.82s\tremaining: 3.81s\n",
      "323:\tlearn: 0.1789591\ttotal: 1.82s\tremaining: 3.8s\n",
      "324:\tlearn: 0.1787264\ttotal: 1.82s\tremaining: 3.79s\n",
      "325:\tlearn: 0.1780077\ttotal: 1.82s\tremaining: 3.77s\n",
      "326:\tlearn: 0.1778635\ttotal: 1.83s\tremaining: 3.76s\n",
      "327:\tlearn: 0.1775827\ttotal: 1.83s\tremaining: 3.75s\n",
      "328:\tlearn: 0.1769019\ttotal: 1.83s\tremaining: 3.73s\n",
      "329:\tlearn: 0.1766907\ttotal: 1.83s\tremaining: 3.72s\n",
      "330:\tlearn: 0.1764260\ttotal: 1.83s\tremaining: 3.71s\n",
      "331:\tlearn: 0.1762064\ttotal: 1.83s\tremaining: 3.69s\n",
      "332:\tlearn: 0.1758670\ttotal: 1.84s\tremaining: 3.68s\n",
      "333:\tlearn: 0.1755184\ttotal: 1.84s\tremaining: 3.67s\n",
      "334:\tlearn: 0.1749595\ttotal: 1.84s\tremaining: 3.65s\n",
      "335:\tlearn: 0.1746010\ttotal: 1.84s\tremaining: 3.64s\n",
      "336:\tlearn: 0.1742623\ttotal: 1.84s\tremaining: 3.63s\n",
      "337:\tlearn: 0.1738552\ttotal: 1.84s\tremaining: 3.62s\n",
      "338:\tlearn: 0.1735979\ttotal: 1.85s\tremaining: 3.6s\n",
      "339:\tlearn: 0.1731146\ttotal: 1.85s\tremaining: 3.59s\n",
      "340:\tlearn: 0.1726186\ttotal: 1.85s\tremaining: 3.58s\n",
      "341:\tlearn: 0.1724752\ttotal: 1.85s\tremaining: 3.56s\n",
      "342:\tlearn: 0.1720576\ttotal: 1.85s\tremaining: 3.55s\n",
      "343:\tlearn: 0.1715658\ttotal: 1.86s\tremaining: 3.54s\n",
      "344:\tlearn: 0.1711447\ttotal: 1.86s\tremaining: 3.53s\n",
      "345:\tlearn: 0.1710986\ttotal: 1.86s\tremaining: 3.52s\n",
      "346:\tlearn: 0.1707560\ttotal: 1.86s\tremaining: 3.5s\n",
      "347:\tlearn: 0.1704612\ttotal: 1.86s\tremaining: 3.49s\n",
      "348:\tlearn: 0.1700266\ttotal: 1.87s\tremaining: 3.48s\n",
      "349:\tlearn: 0.1694782\ttotal: 1.87s\tremaining: 3.47s\n",
      "350:\tlearn: 0.1690510\ttotal: 1.87s\tremaining: 3.46s\n",
      "351:\tlearn: 0.1685931\ttotal: 1.87s\tremaining: 3.44s\n",
      "352:\tlearn: 0.1680789\ttotal: 1.87s\tremaining: 3.43s\n",
      "353:\tlearn: 0.1679082\ttotal: 1.87s\tremaining: 3.42s\n",
      "354:\tlearn: 0.1672626\ttotal: 1.88s\tremaining: 3.41s\n",
      "355:\tlearn: 0.1670543\ttotal: 1.88s\tremaining: 3.4s\n",
      "356:\tlearn: 0.1670031\ttotal: 1.88s\tremaining: 3.39s\n",
      "357:\tlearn: 0.1665117\ttotal: 1.88s\tremaining: 3.38s\n",
      "358:\tlearn: 0.1663303\ttotal: 1.88s\tremaining: 3.36s\n",
      "359:\tlearn: 0.1657589\ttotal: 1.89s\tremaining: 3.35s\n",
      "360:\tlearn: 0.1652311\ttotal: 1.89s\tremaining: 3.34s\n",
      "361:\tlearn: 0.1647188\ttotal: 1.89s\tremaining: 3.33s\n",
      "362:\tlearn: 0.1643031\ttotal: 1.89s\tremaining: 3.32s\n",
      "363:\tlearn: 0.1638525\ttotal: 1.89s\tremaining: 3.31s\n",
      "364:\tlearn: 0.1634250\ttotal: 1.89s\tremaining: 3.3s\n",
      "365:\tlearn: 0.1628873\ttotal: 1.9s\tremaining: 3.29s\n",
      "366:\tlearn: 0.1627829\ttotal: 1.9s\tremaining: 3.27s\n",
      "367:\tlearn: 0.1627369\ttotal: 1.9s\tremaining: 3.26s\n",
      "368:\tlearn: 0.1626073\ttotal: 1.9s\tremaining: 3.25s\n",
      "369:\tlearn: 0.1623390\ttotal: 1.9s\tremaining: 3.24s\n",
      "370:\tlearn: 0.1620296\ttotal: 1.91s\tremaining: 3.23s\n",
      "371:\tlearn: 0.1618147\ttotal: 1.91s\tremaining: 3.22s\n",
      "372:\tlearn: 0.1616510\ttotal: 1.91s\tremaining: 3.21s\n",
      "373:\tlearn: 0.1612661\ttotal: 1.91s\tremaining: 3.2s\n",
      "374:\tlearn: 0.1609073\ttotal: 1.91s\tremaining: 3.19s\n",
      "375:\tlearn: 0.1604156\ttotal: 1.91s\tremaining: 3.18s\n",
      "376:\tlearn: 0.1599537\ttotal: 1.92s\tremaining: 3.17s\n",
      "377:\tlearn: 0.1599181\ttotal: 1.92s\tremaining: 3.15s\n"
     ]
    },
    {
     "name": "stdout",
     "output_type": "stream",
     "text": [
      "378:\tlearn: 0.1596373\ttotal: 1.92s\tremaining: 3.15s\n",
      "379:\tlearn: 0.1590747\ttotal: 1.92s\tremaining: 3.14s\n",
      "380:\tlearn: 0.1587936\ttotal: 1.92s\tremaining: 3.13s\n",
      "381:\tlearn: 0.1584171\ttotal: 1.93s\tremaining: 3.12s\n",
      "382:\tlearn: 0.1581086\ttotal: 1.93s\tremaining: 3.1s\n",
      "383:\tlearn: 0.1580678\ttotal: 1.93s\tremaining: 3.1s\n",
      "384:\tlearn: 0.1578495\ttotal: 1.93s\tremaining: 3.08s\n",
      "385:\tlearn: 0.1573165\ttotal: 1.93s\tremaining: 3.08s\n",
      "386:\tlearn: 0.1569200\ttotal: 1.94s\tremaining: 3.07s\n",
      "387:\tlearn: 0.1565341\ttotal: 1.94s\tremaining: 3.06s\n",
      "388:\tlearn: 0.1564007\ttotal: 1.94s\tremaining: 3.05s\n",
      "389:\tlearn: 0.1562211\ttotal: 1.95s\tremaining: 3.04s\n",
      "390:\tlearn: 0.1561167\ttotal: 1.95s\tremaining: 3.04s\n",
      "391:\tlearn: 0.1559015\ttotal: 1.95s\tremaining: 3.03s\n",
      "392:\tlearn: 0.1554038\ttotal: 1.95s\tremaining: 3.02s\n",
      "393:\tlearn: 0.1549927\ttotal: 1.96s\tremaining: 3.01s\n",
      "394:\tlearn: 0.1545433\ttotal: 1.96s\tremaining: 3s\n",
      "395:\tlearn: 0.1543488\ttotal: 1.96s\tremaining: 2.99s\n",
      "396:\tlearn: 0.1542572\ttotal: 1.96s\tremaining: 2.98s\n",
      "397:\tlearn: 0.1542257\ttotal: 1.96s\tremaining: 2.97s\n",
      "398:\tlearn: 0.1539032\ttotal: 1.97s\tremaining: 2.96s\n",
      "399:\tlearn: 0.1534803\ttotal: 1.97s\tremaining: 2.95s\n",
      "400:\tlearn: 0.1533935\ttotal: 1.97s\tremaining: 2.94s\n",
      "401:\tlearn: 0.1530381\ttotal: 1.97s\tremaining: 2.94s\n",
      "402:\tlearn: 0.1528797\ttotal: 1.98s\tremaining: 2.93s\n",
      "403:\tlearn: 0.1522563\ttotal: 1.98s\tremaining: 2.92s\n",
      "404:\tlearn: 0.1521728\ttotal: 1.98s\tremaining: 2.91s\n",
      "405:\tlearn: 0.1517579\ttotal: 1.98s\tremaining: 2.9s\n",
      "406:\tlearn: 0.1515011\ttotal: 1.98s\tremaining: 2.89s\n",
      "407:\tlearn: 0.1511794\ttotal: 1.98s\tremaining: 2.88s\n",
      "408:\tlearn: 0.1506273\ttotal: 1.99s\tremaining: 2.87s\n",
      "409:\tlearn: 0.1500324\ttotal: 1.99s\tremaining: 2.86s\n",
      "410:\tlearn: 0.1496703\ttotal: 1.99s\tremaining: 2.85s\n",
      "411:\tlearn: 0.1493937\ttotal: 1.99s\tremaining: 2.84s\n",
      "412:\tlearn: 0.1493577\ttotal: 1.99s\tremaining: 2.83s\n",
      "413:\tlearn: 0.1488706\ttotal: 1.99s\tremaining: 2.82s\n",
      "414:\tlearn: 0.1485381\ttotal: 2s\tremaining: 2.81s\n",
      "415:\tlearn: 0.1484899\ttotal: 2s\tremaining: 2.81s\n",
      "416:\tlearn: 0.1482839\ttotal: 2s\tremaining: 2.79s\n",
      "417:\tlearn: 0.1479364\ttotal: 2s\tremaining: 2.79s\n",
      "418:\tlearn: 0.1477173\ttotal: 2s\tremaining: 2.78s\n",
      "419:\tlearn: 0.1476647\ttotal: 2s\tremaining: 2.77s\n",
      "420:\tlearn: 0.1473165\ttotal: 2.01s\tremaining: 2.76s\n",
      "421:\tlearn: 0.1468550\ttotal: 2.01s\tremaining: 2.75s\n",
      "422:\tlearn: 0.1465009\ttotal: 2.01s\tremaining: 2.74s\n",
      "423:\tlearn: 0.1463515\ttotal: 2.01s\tremaining: 2.73s\n",
      "424:\tlearn: 0.1458204\ttotal: 2.01s\tremaining: 2.73s\n",
      "425:\tlearn: 0.1456299\ttotal: 2.02s\tremaining: 2.72s\n",
      "426:\tlearn: 0.1453325\ttotal: 2.02s\tremaining: 2.71s\n",
      "427:\tlearn: 0.1450528\ttotal: 2.02s\tremaining: 2.7s\n",
      "428:\tlearn: 0.1447440\ttotal: 2.02s\tremaining: 2.69s\n",
      "429:\tlearn: 0.1444917\ttotal: 2.02s\tremaining: 2.68s\n",
      "430:\tlearn: 0.1440756\ttotal: 2.02s\tremaining: 2.67s\n",
      "431:\tlearn: 0.1440391\ttotal: 2.03s\tremaining: 2.66s\n",
      "432:\tlearn: 0.1437493\ttotal: 2.03s\tremaining: 2.66s\n",
      "433:\tlearn: 0.1434962\ttotal: 2.03s\tremaining: 2.65s\n",
      "434:\tlearn: 0.1430190\ttotal: 2.03s\tremaining: 2.64s\n",
      "435:\tlearn: 0.1426066\ttotal: 2.03s\tremaining: 2.63s\n",
      "436:\tlearn: 0.1423227\ttotal: 2.04s\tremaining: 2.62s\n"
     ]
    },
    {
     "name": "stdout",
     "output_type": "stream",
     "text": [
      "437:\tlearn: 0.1418930\ttotal: 2.04s\tremaining: 2.61s\n",
      "438:\tlearn: 0.1414900\ttotal: 2.04s\tremaining: 2.61s\n",
      "439:\tlearn: 0.1410264\ttotal: 2.04s\tremaining: 2.6s\n",
      "440:\tlearn: 0.1407055\ttotal: 2.04s\tremaining: 2.59s\n",
      "441:\tlearn: 0.1403056\ttotal: 2.05s\tremaining: 2.58s\n",
      "442:\tlearn: 0.1398716\ttotal: 2.05s\tremaining: 2.58s\n",
      "443:\tlearn: 0.1395707\ttotal: 2.05s\tremaining: 2.57s\n",
      "444:\tlearn: 0.1392947\ttotal: 2.05s\tremaining: 2.56s\n",
      "445:\tlearn: 0.1390318\ttotal: 2.05s\tremaining: 2.55s\n",
      "446:\tlearn: 0.1388830\ttotal: 2.06s\tremaining: 2.54s\n",
      "447:\tlearn: 0.1383765\ttotal: 2.06s\tremaining: 2.54s\n",
      "448:\tlearn: 0.1380155\ttotal: 2.06s\tremaining: 2.53s\n",
      "449:\tlearn: 0.1375865\ttotal: 2.06s\tremaining: 2.52s\n",
      "450:\tlearn: 0.1375105\ttotal: 2.06s\tremaining: 2.51s\n",
      "451:\tlearn: 0.1374441\ttotal: 2.06s\tremaining: 2.5s\n",
      "452:\tlearn: 0.1371382\ttotal: 2.07s\tremaining: 2.5s\n",
      "453:\tlearn: 0.1368610\ttotal: 2.07s\tremaining: 2.49s\n",
      "454:\tlearn: 0.1366291\ttotal: 2.07s\tremaining: 2.48s\n",
      "455:\tlearn: 0.1363431\ttotal: 2.07s\tremaining: 2.47s\n",
      "456:\tlearn: 0.1360610\ttotal: 2.07s\tremaining: 2.46s\n",
      "457:\tlearn: 0.1356611\ttotal: 2.08s\tremaining: 2.46s\n",
      "458:\tlearn: 0.1352731\ttotal: 2.08s\tremaining: 2.45s\n",
      "459:\tlearn: 0.1350401\ttotal: 2.08s\tremaining: 2.44s\n",
      "460:\tlearn: 0.1347706\ttotal: 2.08s\tremaining: 2.43s\n",
      "461:\tlearn: 0.1343005\ttotal: 2.08s\tremaining: 2.42s\n",
      "462:\tlearn: 0.1342467\ttotal: 2.08s\tremaining: 2.42s\n",
      "463:\tlearn: 0.1340301\ttotal: 2.09s\tremaining: 2.41s\n",
      "464:\tlearn: 0.1337605\ttotal: 2.09s\tremaining: 2.4s\n",
      "465:\tlearn: 0.1333799\ttotal: 2.09s\tremaining: 2.4s\n",
      "466:\tlearn: 0.1333402\ttotal: 2.09s\tremaining: 2.39s\n",
      "467:\tlearn: 0.1333066\ttotal: 2.09s\tremaining: 2.38s\n",
      "468:\tlearn: 0.1330155\ttotal: 2.1s\tremaining: 2.37s\n",
      "469:\tlearn: 0.1327624\ttotal: 2.1s\tremaining: 2.36s\n",
      "470:\tlearn: 0.1324235\ttotal: 2.1s\tremaining: 2.36s\n",
      "471:\tlearn: 0.1321989\ttotal: 2.1s\tremaining: 2.35s\n",
      "472:\tlearn: 0.1320411\ttotal: 2.1s\tremaining: 2.34s\n",
      "473:\tlearn: 0.1317697\ttotal: 2.1s\tremaining: 2.33s\n",
      "474:\tlearn: 0.1313773\ttotal: 2.11s\tremaining: 2.33s\n",
      "475:\tlearn: 0.1311835\ttotal: 2.11s\tremaining: 2.32s\n",
      "476:\tlearn: 0.1307999\ttotal: 2.11s\tremaining: 2.31s\n",
      "477:\tlearn: 0.1305201\ttotal: 2.11s\tremaining: 2.31s\n",
      "478:\tlearn: 0.1300660\ttotal: 2.11s\tremaining: 2.3s\n",
      "479:\tlearn: 0.1296690\ttotal: 2.11s\tremaining: 2.29s\n",
      "480:\tlearn: 0.1294171\ttotal: 2.12s\tremaining: 2.28s\n",
      "481:\tlearn: 0.1291875\ttotal: 2.12s\tremaining: 2.28s\n",
      "482:\tlearn: 0.1288226\ttotal: 2.12s\tremaining: 2.27s\n",
      "483:\tlearn: 0.1286364\ttotal: 2.12s\tremaining: 2.26s\n",
      "484:\tlearn: 0.1283634\ttotal: 2.12s\tremaining: 2.25s\n",
      "485:\tlearn: 0.1281262\ttotal: 2.13s\tremaining: 2.25s\n",
      "486:\tlearn: 0.1280995\ttotal: 2.13s\tremaining: 2.24s\n",
      "487:\tlearn: 0.1279673\ttotal: 2.13s\tremaining: 2.23s\n",
      "488:\tlearn: 0.1277758\ttotal: 2.13s\tremaining: 2.23s\n",
      "489:\tlearn: 0.1274408\ttotal: 2.13s\tremaining: 2.22s\n",
      "490:\tlearn: 0.1274089\ttotal: 2.13s\tremaining: 2.21s\n",
      "491:\tlearn: 0.1270079\ttotal: 2.13s\tremaining: 2.21s\n",
      "492:\tlearn: 0.1266541\ttotal: 2.14s\tremaining: 2.2s\n",
      "493:\tlearn: 0.1264026\ttotal: 2.14s\tremaining: 2.19s\n",
      "494:\tlearn: 0.1261698\ttotal: 2.14s\tremaining: 2.18s\n",
      "495:\tlearn: 0.1258784\ttotal: 2.14s\tremaining: 2.18s\n",
      "496:\tlearn: 0.1258384\ttotal: 2.15s\tremaining: 2.17s\n",
      "497:\tlearn: 0.1254947\ttotal: 2.15s\tremaining: 2.16s\n",
      "498:\tlearn: 0.1252693\ttotal: 2.15s\tremaining: 2.16s\n",
      "499:\tlearn: 0.1250597\ttotal: 2.15s\tremaining: 2.15s\n",
      "500:\tlearn: 0.1249827\ttotal: 2.15s\tremaining: 2.14s\n",
      "501:\tlearn: 0.1247502\ttotal: 2.15s\tremaining: 2.14s\n",
      "502:\tlearn: 0.1244639\ttotal: 2.16s\tremaining: 2.13s\n",
      "503:\tlearn: 0.1241900\ttotal: 2.16s\tremaining: 2.12s\n",
      "504:\tlearn: 0.1240343\ttotal: 2.16s\tremaining: 2.12s\n",
      "505:\tlearn: 0.1237265\ttotal: 2.16s\tremaining: 2.11s\n",
      "506:\tlearn: 0.1235755\ttotal: 2.16s\tremaining: 2.1s\n",
      "507:\tlearn: 0.1233713\ttotal: 2.16s\tremaining: 2.1s\n",
      "508:\tlearn: 0.1231564\ttotal: 2.17s\tremaining: 2.09s\n",
      "509:\tlearn: 0.1227484\ttotal: 2.17s\tremaining: 2.08s\n",
      "510:\tlearn: 0.1226571\ttotal: 2.17s\tremaining: 2.08s\n",
      "511:\tlearn: 0.1225809\ttotal: 2.17s\tremaining: 2.07s\n",
      "512:\tlearn: 0.1224421\ttotal: 2.17s\tremaining: 2.06s\n",
      "513:\tlearn: 0.1222529\ttotal: 2.18s\tremaining: 2.06s\n",
      "514:\tlearn: 0.1219115\ttotal: 2.18s\tremaining: 2.05s\n",
      "515:\tlearn: 0.1217025\ttotal: 2.18s\tremaining: 2.04s\n",
      "516:\tlearn: 0.1213223\ttotal: 2.18s\tremaining: 2.04s\n",
      "517:\tlearn: 0.1211372\ttotal: 2.18s\tremaining: 2.03s\n",
      "518:\tlearn: 0.1211139\ttotal: 2.18s\tremaining: 2.02s\n",
      "519:\tlearn: 0.1210312\ttotal: 2.19s\tremaining: 2.02s\n",
      "520:\tlearn: 0.1206196\ttotal: 2.19s\tremaining: 2.01s\n",
      "521:\tlearn: 0.1203397\ttotal: 2.19s\tremaining: 2.01s\n",
      "522:\tlearn: 0.1202910\ttotal: 2.19s\tremaining: 2s\n",
      "523:\tlearn: 0.1201526\ttotal: 2.19s\tremaining: 1.99s\n",
      "524:\tlearn: 0.1200691\ttotal: 2.2s\tremaining: 1.99s\n",
      "525:\tlearn: 0.1199671\ttotal: 2.2s\tremaining: 1.98s\n",
      "526:\tlearn: 0.1197282\ttotal: 2.2s\tremaining: 1.97s\n",
      "527:\tlearn: 0.1194855\ttotal: 2.2s\tremaining: 1.97s\n",
      "528:\tlearn: 0.1192343\ttotal: 2.2s\tremaining: 1.96s\n",
      "529:\tlearn: 0.1190422\ttotal: 2.21s\tremaining: 1.96s\n",
      "530:\tlearn: 0.1187005\ttotal: 2.21s\tremaining: 1.95s\n",
      "531:\tlearn: 0.1186218\ttotal: 2.21s\tremaining: 1.94s\n",
      "532:\tlearn: 0.1185710\ttotal: 2.21s\tremaining: 1.94s\n",
      "533:\tlearn: 0.1182958\ttotal: 2.21s\tremaining: 1.93s\n",
      "534:\tlearn: 0.1181753\ttotal: 2.21s\tremaining: 1.92s\n",
      "535:\tlearn: 0.1179403\ttotal: 2.22s\tremaining: 1.92s\n"
     ]
    },
    {
     "name": "stdout",
     "output_type": "stream",
     "text": [
      "536:\tlearn: 0.1176464\ttotal: 2.22s\tremaining: 1.91s\n",
      "537:\tlearn: 0.1175735\ttotal: 2.22s\tremaining: 1.91s\n",
      "538:\tlearn: 0.1172554\ttotal: 2.22s\tremaining: 1.9s\n",
      "539:\tlearn: 0.1170167\ttotal: 2.22s\tremaining: 1.89s\n",
      "540:\tlearn: 0.1167928\ttotal: 2.23s\tremaining: 1.89s\n",
      "541:\tlearn: 0.1166719\ttotal: 2.23s\tremaining: 1.88s\n",
      "542:\tlearn: 0.1165150\ttotal: 2.23s\tremaining: 1.88s\n",
      "543:\tlearn: 0.1162745\ttotal: 2.23s\tremaining: 1.87s\n",
      "544:\tlearn: 0.1161888\ttotal: 2.23s\tremaining: 1.86s\n",
      "545:\tlearn: 0.1158952\ttotal: 2.23s\tremaining: 1.86s\n",
      "546:\tlearn: 0.1158578\ttotal: 2.24s\tremaining: 1.85s\n",
      "547:\tlearn: 0.1156182\ttotal: 2.24s\tremaining: 1.85s\n",
      "548:\tlearn: 0.1153928\ttotal: 2.24s\tremaining: 1.84s\n",
      "549:\tlearn: 0.1150440\ttotal: 2.24s\tremaining: 1.83s\n",
      "550:\tlearn: 0.1146935\ttotal: 2.24s\tremaining: 1.83s\n",
      "551:\tlearn: 0.1145196\ttotal: 2.25s\tremaining: 1.82s\n",
      "552:\tlearn: 0.1142176\ttotal: 2.25s\tremaining: 1.82s\n",
      "553:\tlearn: 0.1141764\ttotal: 2.25s\tremaining: 1.81s\n",
      "554:\tlearn: 0.1139545\ttotal: 2.25s\tremaining: 1.8s\n",
      "555:\tlearn: 0.1137238\ttotal: 2.25s\tremaining: 1.8s\n",
      "556:\tlearn: 0.1135950\ttotal: 2.25s\tremaining: 1.79s\n",
      "557:\tlearn: 0.1134280\ttotal: 2.25s\tremaining: 1.79s\n",
      "558:\tlearn: 0.1131933\ttotal: 2.26s\tremaining: 1.78s\n",
      "559:\tlearn: 0.1129335\ttotal: 2.26s\tremaining: 1.77s\n",
      "560:\tlearn: 0.1126914\ttotal: 2.26s\tremaining: 1.77s\n",
      "561:\tlearn: 0.1126093\ttotal: 2.26s\tremaining: 1.76s\n",
      "562:\tlearn: 0.1123687\ttotal: 2.27s\tremaining: 1.76s\n",
      "563:\tlearn: 0.1121667\ttotal: 2.27s\tremaining: 1.75s\n",
      "564:\tlearn: 0.1118657\ttotal: 2.27s\tremaining: 1.75s\n",
      "565:\tlearn: 0.1118015\ttotal: 2.27s\tremaining: 1.74s\n",
      "566:\tlearn: 0.1116025\ttotal: 2.27s\tremaining: 1.74s\n",
      "567:\tlearn: 0.1113419\ttotal: 2.27s\tremaining: 1.73s\n",
      "568:\tlearn: 0.1112036\ttotal: 2.28s\tremaining: 1.72s\n",
      "569:\tlearn: 0.1109515\ttotal: 2.28s\tremaining: 1.72s\n",
      "570:\tlearn: 0.1107916\ttotal: 2.28s\tremaining: 1.71s\n",
      "571:\tlearn: 0.1106320\ttotal: 2.28s\tremaining: 1.71s\n",
      "572:\tlearn: 0.1104362\ttotal: 2.28s\tremaining: 1.7s\n",
      "573:\tlearn: 0.1102305\ttotal: 2.29s\tremaining: 1.7s\n",
      "574:\tlearn: 0.1100120\ttotal: 2.29s\tremaining: 1.69s\n",
      "575:\tlearn: 0.1098225\ttotal: 2.29s\tremaining: 1.69s\n",
      "576:\tlearn: 0.1095997\ttotal: 2.29s\tremaining: 1.68s\n",
      "577:\tlearn: 0.1094193\ttotal: 2.29s\tremaining: 1.67s\n",
      "578:\tlearn: 0.1093268\ttotal: 2.29s\tremaining: 1.67s\n",
      "579:\tlearn: 0.1091786\ttotal: 2.3s\tremaining: 1.66s\n",
      "580:\tlearn: 0.1088175\ttotal: 2.3s\tremaining: 1.66s\n",
      "581:\tlearn: 0.1087492\ttotal: 2.3s\tremaining: 1.65s\n",
      "582:\tlearn: 0.1086338\ttotal: 2.3s\tremaining: 1.65s\n",
      "583:\tlearn: 0.1083747\ttotal: 2.3s\tremaining: 1.64s\n",
      "584:\tlearn: 0.1080719\ttotal: 2.3s\tremaining: 1.64s\n",
      "585:\tlearn: 0.1079005\ttotal: 2.31s\tremaining: 1.63s\n",
      "586:\tlearn: 0.1078248\ttotal: 2.31s\tremaining: 1.62s\n",
      "587:\tlearn: 0.1075140\ttotal: 2.31s\tremaining: 1.62s\n",
      "588:\tlearn: 0.1073660\ttotal: 2.31s\tremaining: 1.61s\n",
      "589:\tlearn: 0.1072053\ttotal: 2.31s\tremaining: 1.61s\n",
      "590:\tlearn: 0.1070849\ttotal: 2.31s\tremaining: 1.6s\n",
      "591:\tlearn: 0.1069311\ttotal: 2.32s\tremaining: 1.6s\n",
      "592:\tlearn: 0.1067966\ttotal: 2.32s\tremaining: 1.59s\n",
      "593:\tlearn: 0.1066561\ttotal: 2.32s\tremaining: 1.59s\n",
      "594:\tlearn: 0.1063885\ttotal: 2.32s\tremaining: 1.58s\n",
      "595:\tlearn: 0.1061806\ttotal: 2.32s\tremaining: 1.57s\n",
      "596:\tlearn: 0.1059171\ttotal: 2.33s\tremaining: 1.57s\n",
      "597:\tlearn: 0.1057072\ttotal: 2.33s\tremaining: 1.56s\n",
      "598:\tlearn: 0.1054345\ttotal: 2.33s\tremaining: 1.56s\n",
      "599:\tlearn: 0.1052927\ttotal: 2.33s\tremaining: 1.55s\n",
      "600:\tlearn: 0.1051721\ttotal: 2.33s\tremaining: 1.55s\n",
      "601:\tlearn: 0.1049904\ttotal: 2.34s\tremaining: 1.54s\n",
      "602:\tlearn: 0.1048453\ttotal: 2.34s\tremaining: 1.54s\n",
      "603:\tlearn: 0.1046992\ttotal: 2.34s\tremaining: 1.53s\n",
      "604:\tlearn: 0.1045094\ttotal: 2.34s\tremaining: 1.53s\n",
      "605:\tlearn: 0.1043991\ttotal: 2.34s\tremaining: 1.52s\n",
      "606:\tlearn: 0.1042116\ttotal: 2.34s\tremaining: 1.52s\n",
      "607:\tlearn: 0.1040677\ttotal: 2.35s\tremaining: 1.51s\n",
      "608:\tlearn: 0.1038877\ttotal: 2.35s\tremaining: 1.51s\n",
      "609:\tlearn: 0.1036648\ttotal: 2.35s\tremaining: 1.5s\n",
      "610:\tlearn: 0.1034646\ttotal: 2.36s\tremaining: 1.5s\n",
      "611:\tlearn: 0.1033476\ttotal: 2.36s\tremaining: 1.5s\n",
      "612:\tlearn: 0.1031343\ttotal: 2.36s\tremaining: 1.49s\n",
      "613:\tlearn: 0.1029384\ttotal: 2.36s\tremaining: 1.49s\n",
      "614:\tlearn: 0.1026146\ttotal: 2.37s\tremaining: 1.48s\n",
      "615:\tlearn: 0.1023597\ttotal: 2.37s\tremaining: 1.48s\n",
      "616:\tlearn: 0.1021530\ttotal: 2.37s\tremaining: 1.47s\n",
      "617:\tlearn: 0.1020929\ttotal: 2.37s\tremaining: 1.47s\n",
      "618:\tlearn: 0.1019748\ttotal: 2.38s\tremaining: 1.46s\n",
      "619:\tlearn: 0.1017330\ttotal: 2.38s\tremaining: 1.46s\n",
      "620:\tlearn: 0.1015762\ttotal: 2.38s\tremaining: 1.45s\n",
      "621:\tlearn: 0.1015000\ttotal: 2.38s\tremaining: 1.45s\n",
      "622:\tlearn: 0.1014815\ttotal: 2.38s\tremaining: 1.44s\n",
      "623:\tlearn: 0.1012734\ttotal: 2.39s\tremaining: 1.44s\n",
      "624:\tlearn: 0.1011033\ttotal: 2.39s\tremaining: 1.43s\n",
      "625:\tlearn: 0.1009328\ttotal: 2.39s\tremaining: 1.43s\n",
      "626:\tlearn: 0.1008845\ttotal: 2.39s\tremaining: 1.42s\n"
     ]
    },
    {
     "name": "stdout",
     "output_type": "stream",
     "text": [
      "627:\tlearn: 0.1006364\ttotal: 2.4s\tremaining: 1.42s\n",
      "628:\tlearn: 0.1004279\ttotal: 2.4s\tremaining: 1.42s\n",
      "629:\tlearn: 0.1001924\ttotal: 2.4s\tremaining: 1.41s\n",
      "630:\tlearn: 0.0999829\ttotal: 2.41s\tremaining: 1.41s\n",
      "631:\tlearn: 0.0997544\ttotal: 2.41s\tremaining: 1.4s\n",
      "632:\tlearn: 0.0996045\ttotal: 2.42s\tremaining: 1.4s\n",
      "633:\tlearn: 0.0992780\ttotal: 2.42s\tremaining: 1.4s\n",
      "634:\tlearn: 0.0992044\ttotal: 2.42s\tremaining: 1.39s\n",
      "635:\tlearn: 0.0991325\ttotal: 2.43s\tremaining: 1.39s\n",
      "636:\tlearn: 0.0989118\ttotal: 2.43s\tremaining: 1.38s\n",
      "637:\tlearn: 0.0987520\ttotal: 2.43s\tremaining: 1.38s\n",
      "638:\tlearn: 0.0987075\ttotal: 2.43s\tremaining: 1.37s\n",
      "639:\tlearn: 0.0984039\ttotal: 2.44s\tremaining: 1.37s\n",
      "640:\tlearn: 0.0981709\ttotal: 2.44s\tremaining: 1.36s\n",
      "641:\tlearn: 0.0980349\ttotal: 2.44s\tremaining: 1.36s\n",
      "642:\tlearn: 0.0980000\ttotal: 2.44s\tremaining: 1.35s\n",
      "643:\tlearn: 0.0977945\ttotal: 2.44s\tremaining: 1.35s\n",
      "644:\tlearn: 0.0976382\ttotal: 2.44s\tremaining: 1.34s\n",
      "645:\tlearn: 0.0975561\ttotal: 2.45s\tremaining: 1.34s\n",
      "646:\tlearn: 0.0973977\ttotal: 2.45s\tremaining: 1.33s\n",
      "647:\tlearn: 0.0972785\ttotal: 2.45s\tremaining: 1.33s\n",
      "648:\tlearn: 0.0972359\ttotal: 2.45s\tremaining: 1.33s\n",
      "649:\tlearn: 0.0969568\ttotal: 2.46s\tremaining: 1.32s\n",
      "650:\tlearn: 0.0968632\ttotal: 2.46s\tremaining: 1.32s\n",
      "651:\tlearn: 0.0966962\ttotal: 2.46s\tremaining: 1.31s\n",
      "652:\tlearn: 0.0965547\ttotal: 2.46s\tremaining: 1.31s\n",
      "653:\tlearn: 0.0963939\ttotal: 2.47s\tremaining: 1.31s\n",
      "654:\tlearn: 0.0962881\ttotal: 2.47s\tremaining: 1.3s\n",
      "655:\tlearn: 0.0961004\ttotal: 2.48s\tremaining: 1.3s\n",
      "656:\tlearn: 0.0959541\ttotal: 2.48s\tremaining: 1.29s\n",
      "657:\tlearn: 0.0958233\ttotal: 2.48s\tremaining: 1.29s\n",
      "658:\tlearn: 0.0957082\ttotal: 2.48s\tremaining: 1.28s\n",
      "659:\tlearn: 0.0954825\ttotal: 2.48s\tremaining: 1.28s\n",
      "660:\tlearn: 0.0954288\ttotal: 2.49s\tremaining: 1.27s\n",
      "661:\tlearn: 0.0952581\ttotal: 2.49s\tremaining: 1.27s\n",
      "662:\tlearn: 0.0951465\ttotal: 2.49s\tremaining: 1.26s\n",
      "663:\tlearn: 0.0950248\ttotal: 2.49s\tremaining: 1.26s\n",
      "664:\tlearn: 0.0948279\ttotal: 2.49s\tremaining: 1.26s\n",
      "665:\tlearn: 0.0947131\ttotal: 2.5s\tremaining: 1.25s\n",
      "666:\tlearn: 0.0946058\ttotal: 2.5s\tremaining: 1.25s\n",
      "667:\tlearn: 0.0945306\ttotal: 2.51s\tremaining: 1.25s\n",
      "668:\tlearn: 0.0943529\ttotal: 2.52s\tremaining: 1.25s\n",
      "669:\tlearn: 0.0941588\ttotal: 2.52s\tremaining: 1.24s\n",
      "670:\tlearn: 0.0939635\ttotal: 2.52s\tremaining: 1.24s\n",
      "671:\tlearn: 0.0938305\ttotal: 2.52s\tremaining: 1.23s\n",
      "672:\tlearn: 0.0936407\ttotal: 2.52s\tremaining: 1.23s\n",
      "673:\tlearn: 0.0933865\ttotal: 2.53s\tremaining: 1.22s\n",
      "674:\tlearn: 0.0932753\ttotal: 2.53s\tremaining: 1.22s\n",
      "675:\tlearn: 0.0931506\ttotal: 2.53s\tremaining: 1.21s\n",
      "676:\tlearn: 0.0930192\ttotal: 2.53s\tremaining: 1.21s\n",
      "677:\tlearn: 0.0929223\ttotal: 2.53s\tremaining: 1.2s\n",
      "678:\tlearn: 0.0927597\ttotal: 2.54s\tremaining: 1.2s\n",
      "679:\tlearn: 0.0925681\ttotal: 2.54s\tremaining: 1.19s\n",
      "680:\tlearn: 0.0924413\ttotal: 2.54s\tremaining: 1.19s\n",
      "681:\tlearn: 0.0921775\ttotal: 2.54s\tremaining: 1.19s\n",
      "682:\tlearn: 0.0920037\ttotal: 2.54s\tremaining: 1.18s\n",
      "683:\tlearn: 0.0918050\ttotal: 2.55s\tremaining: 1.18s\n",
      "684:\tlearn: 0.0916898\ttotal: 2.55s\tremaining: 1.17s\n",
      "685:\tlearn: 0.0915354\ttotal: 2.55s\tremaining: 1.17s\n",
      "686:\tlearn: 0.0914228\ttotal: 2.56s\tremaining: 1.16s\n",
      "687:\tlearn: 0.0913528\ttotal: 2.56s\tremaining: 1.16s\n",
      "688:\tlearn: 0.0912782\ttotal: 2.56s\tremaining: 1.16s\n",
      "689:\tlearn: 0.0912410\ttotal: 2.56s\tremaining: 1.15s\n",
      "690:\tlearn: 0.0911138\ttotal: 2.57s\tremaining: 1.15s\n",
      "691:\tlearn: 0.0910357\ttotal: 2.57s\tremaining: 1.14s\n",
      "692:\tlearn: 0.0907912\ttotal: 2.57s\tremaining: 1.14s\n",
      "693:\tlearn: 0.0907540\ttotal: 2.57s\tremaining: 1.13s\n",
      "694:\tlearn: 0.0906243\ttotal: 2.57s\tremaining: 1.13s\n",
      "695:\tlearn: 0.0905028\ttotal: 2.57s\tremaining: 1.12s\n"
     ]
    },
    {
     "name": "stdout",
     "output_type": "stream",
     "text": [
      "696:\tlearn: 0.0903419\ttotal: 2.58s\tremaining: 1.12s\n",
      "697:\tlearn: 0.0901425\ttotal: 2.58s\tremaining: 1.12s\n",
      "698:\tlearn: 0.0900390\ttotal: 2.58s\tremaining: 1.11s\n",
      "699:\tlearn: 0.0898717\ttotal: 2.58s\tremaining: 1.11s\n",
      "700:\tlearn: 0.0897219\ttotal: 2.58s\tremaining: 1.1s\n",
      "701:\tlearn: 0.0895022\ttotal: 2.59s\tremaining: 1.1s\n",
      "702:\tlearn: 0.0894034\ttotal: 2.59s\tremaining: 1.09s\n",
      "703:\tlearn: 0.0893498\ttotal: 2.59s\tremaining: 1.09s\n",
      "704:\tlearn: 0.0892593\ttotal: 2.59s\tremaining: 1.08s\n",
      "705:\tlearn: 0.0890109\ttotal: 2.59s\tremaining: 1.08s\n",
      "706:\tlearn: 0.0889676\ttotal: 2.6s\tremaining: 1.07s\n",
      "707:\tlearn: 0.0887318\ttotal: 2.6s\tremaining: 1.07s\n",
      "708:\tlearn: 0.0885430\ttotal: 2.6s\tremaining: 1.07s\n",
      "709:\tlearn: 0.0885242\ttotal: 2.6s\tremaining: 1.06s\n",
      "710:\tlearn: 0.0884697\ttotal: 2.6s\tremaining: 1.06s\n",
      "711:\tlearn: 0.0882877\ttotal: 2.6s\tremaining: 1.05s\n",
      "712:\tlearn: 0.0882707\ttotal: 2.61s\tremaining: 1.05s\n",
      "713:\tlearn: 0.0881532\ttotal: 2.61s\tremaining: 1.04s\n",
      "714:\tlearn: 0.0879956\ttotal: 2.61s\tremaining: 1.04s\n",
      "715:\tlearn: 0.0877849\ttotal: 2.61s\tremaining: 1.03s\n",
      "716:\tlearn: 0.0875995\ttotal: 2.61s\tremaining: 1.03s\n",
      "717:\tlearn: 0.0874687\ttotal: 2.62s\tremaining: 1.03s\n",
      "718:\tlearn: 0.0874582\ttotal: 2.62s\tremaining: 1.02s\n",
      "719:\tlearn: 0.0874137\ttotal: 2.62s\tremaining: 1.02s\n",
      "720:\tlearn: 0.0872666\ttotal: 2.62s\tremaining: 1.01s\n",
      "721:\tlearn: 0.0872297\ttotal: 2.62s\tremaining: 1.01s\n",
      "722:\tlearn: 0.0871641\ttotal: 2.62s\tremaining: 1s\n",
      "723:\tlearn: 0.0869927\ttotal: 2.63s\tremaining: 1s\n",
      "724:\tlearn: 0.0868774\ttotal: 2.63s\tremaining: 997ms\n",
      "725:\tlearn: 0.0866238\ttotal: 2.63s\tremaining: 993ms\n",
      "726:\tlearn: 0.0864891\ttotal: 2.63s\tremaining: 989ms\n",
      "727:\tlearn: 0.0863502\ttotal: 2.63s\tremaining: 984ms\n",
      "728:\tlearn: 0.0863378\ttotal: 2.64s\tremaining: 980ms\n",
      "729:\tlearn: 0.0862802\ttotal: 2.64s\tremaining: 976ms\n",
      "730:\tlearn: 0.0860903\ttotal: 2.64s\tremaining: 972ms\n",
      "731:\tlearn: 0.0860295\ttotal: 2.64s\tremaining: 968ms\n",
      "732:\tlearn: 0.0858255\ttotal: 2.65s\tremaining: 964ms\n",
      "733:\tlearn: 0.0857190\ttotal: 2.65s\tremaining: 960ms\n",
      "734:\tlearn: 0.0856085\ttotal: 2.65s\tremaining: 956ms\n",
      "735:\tlearn: 0.0853802\ttotal: 2.65s\tremaining: 951ms\n",
      "736:\tlearn: 0.0853449\ttotal: 2.65s\tremaining: 947ms\n",
      "737:\tlearn: 0.0852647\ttotal: 2.65s\tremaining: 943ms\n",
      "738:\tlearn: 0.0851628\ttotal: 2.66s\tremaining: 938ms\n",
      "739:\tlearn: 0.0850456\ttotal: 2.66s\tremaining: 934ms\n",
      "740:\tlearn: 0.0848701\ttotal: 2.66s\tremaining: 930ms\n",
      "741:\tlearn: 0.0846668\ttotal: 2.66s\tremaining: 926ms\n",
      "742:\tlearn: 0.0845394\ttotal: 2.66s\tremaining: 921ms\n",
      "743:\tlearn: 0.0842812\ttotal: 2.67s\tremaining: 917ms\n",
      "744:\tlearn: 0.0841083\ttotal: 2.67s\tremaining: 913ms\n",
      "745:\tlearn: 0.0840197\ttotal: 2.67s\tremaining: 909ms\n",
      "746:\tlearn: 0.0837941\ttotal: 2.67s\tremaining: 905ms\n",
      "747:\tlearn: 0.0835815\ttotal: 2.67s\tremaining: 901ms\n",
      "748:\tlearn: 0.0834234\ttotal: 2.67s\tremaining: 896ms\n",
      "749:\tlearn: 0.0832389\ttotal: 2.68s\tremaining: 892ms\n",
      "750:\tlearn: 0.0831278\ttotal: 2.68s\tremaining: 888ms\n",
      "751:\tlearn: 0.0829417\ttotal: 2.68s\tremaining: 884ms\n",
      "752:\tlearn: 0.0828915\ttotal: 2.68s\tremaining: 880ms\n",
      "753:\tlearn: 0.0826788\ttotal: 2.68s\tremaining: 875ms\n",
      "754:\tlearn: 0.0826365\ttotal: 2.69s\tremaining: 871ms\n",
      "755:\tlearn: 0.0824916\ttotal: 2.69s\tremaining: 867ms\n",
      "756:\tlearn: 0.0822719\ttotal: 2.69s\tremaining: 863ms\n",
      "757:\tlearn: 0.0821879\ttotal: 2.69s\tremaining: 859ms\n",
      "758:\tlearn: 0.0821572\ttotal: 2.69s\tremaining: 855ms\n",
      "759:\tlearn: 0.0821113\ttotal: 2.69s\tremaining: 851ms\n",
      "760:\tlearn: 0.0818629\ttotal: 2.69s\tremaining: 847ms\n",
      "761:\tlearn: 0.0817812\ttotal: 2.7s\tremaining: 843ms\n",
      "762:\tlearn: 0.0816276\ttotal: 2.7s\tremaining: 839ms\n",
      "763:\tlearn: 0.0815453\ttotal: 2.7s\tremaining: 834ms\n",
      "764:\tlearn: 0.0814567\ttotal: 2.7s\tremaining: 830ms\n",
      "765:\tlearn: 0.0814248\ttotal: 2.7s\tremaining: 826ms\n",
      "766:\tlearn: 0.0813312\ttotal: 2.71s\tremaining: 822ms\n",
      "767:\tlearn: 0.0813006\ttotal: 2.71s\tremaining: 818ms\n",
      "768:\tlearn: 0.0811617\ttotal: 2.71s\tremaining: 814ms\n",
      "769:\tlearn: 0.0809884\ttotal: 2.71s\tremaining: 810ms\n",
      "770:\tlearn: 0.0808446\ttotal: 2.71s\tremaining: 806ms\n",
      "771:\tlearn: 0.0807332\ttotal: 2.72s\tremaining: 803ms\n",
      "772:\tlearn: 0.0806078\ttotal: 2.72s\tremaining: 799ms\n",
      "773:\tlearn: 0.0805449\ttotal: 2.72s\tremaining: 794ms\n",
      "774:\tlearn: 0.0803881\ttotal: 2.72s\tremaining: 790ms\n",
      "775:\tlearn: 0.0802535\ttotal: 2.72s\tremaining: 786ms\n",
      "776:\tlearn: 0.0802049\ttotal: 2.73s\tremaining: 782ms\n",
      "777:\tlearn: 0.0800188\ttotal: 2.73s\tremaining: 778ms\n",
      "778:\tlearn: 0.0799240\ttotal: 2.73s\tremaining: 774ms\n",
      "779:\tlearn: 0.0798863\ttotal: 2.73s\tremaining: 770ms\n",
      "780:\tlearn: 0.0798466\ttotal: 2.73s\tremaining: 766ms\n",
      "781:\tlearn: 0.0797801\ttotal: 2.73s\tremaining: 762ms\n",
      "782:\tlearn: 0.0796344\ttotal: 2.74s\tremaining: 758ms\n",
      "783:\tlearn: 0.0795532\ttotal: 2.74s\tremaining: 754ms\n",
      "784:\tlearn: 0.0794624\ttotal: 2.74s\tremaining: 750ms\n",
      "785:\tlearn: 0.0793894\ttotal: 2.74s\tremaining: 747ms\n",
      "786:\tlearn: 0.0792183\ttotal: 2.74s\tremaining: 743ms\n",
      "787:\tlearn: 0.0790478\ttotal: 2.75s\tremaining: 739ms\n",
      "788:\tlearn: 0.0790101\ttotal: 2.75s\tremaining: 735ms\n",
      "789:\tlearn: 0.0789538\ttotal: 2.75s\tremaining: 731ms\n",
      "790:\tlearn: 0.0787561\ttotal: 2.75s\tremaining: 727ms\n",
      "791:\tlearn: 0.0786984\ttotal: 2.75s\tremaining: 723ms\n"
     ]
    },
    {
     "name": "stdout",
     "output_type": "stream",
     "text": [
      "792:\tlearn: 0.0785487\ttotal: 2.75s\tremaining: 719ms\n",
      "793:\tlearn: 0.0784134\ttotal: 2.76s\tremaining: 716ms\n",
      "794:\tlearn: 0.0782936\ttotal: 2.76s\tremaining: 712ms\n",
      "795:\tlearn: 0.0781557\ttotal: 2.76s\tremaining: 708ms\n",
      "796:\tlearn: 0.0780571\ttotal: 2.76s\tremaining: 704ms\n",
      "797:\tlearn: 0.0779253\ttotal: 2.77s\tremaining: 700ms\n",
      "798:\tlearn: 0.0777568\ttotal: 2.77s\tremaining: 696ms\n",
      "799:\tlearn: 0.0776718\ttotal: 2.77s\tremaining: 692ms\n",
      "800:\tlearn: 0.0774971\ttotal: 2.77s\tremaining: 688ms\n",
      "801:\tlearn: 0.0773742\ttotal: 2.77s\tremaining: 685ms\n",
      "802:\tlearn: 0.0773291\ttotal: 2.77s\tremaining: 681ms\n",
      "803:\tlearn: 0.0772463\ttotal: 2.78s\tremaining: 677ms\n",
      "804:\tlearn: 0.0771072\ttotal: 2.78s\tremaining: 673ms\n",
      "805:\tlearn: 0.0769571\ttotal: 2.78s\tremaining: 669ms\n",
      "806:\tlearn: 0.0768423\ttotal: 2.78s\tremaining: 665ms\n",
      "807:\tlearn: 0.0767739\ttotal: 2.78s\tremaining: 662ms\n",
      "808:\tlearn: 0.0766623\ttotal: 2.79s\tremaining: 658ms\n",
      "809:\tlearn: 0.0764914\ttotal: 2.79s\tremaining: 654ms\n",
      "810:\tlearn: 0.0763592\ttotal: 2.79s\tremaining: 650ms\n",
      "811:\tlearn: 0.0762252\ttotal: 2.79s\tremaining: 646ms\n",
      "812:\tlearn: 0.0760154\ttotal: 2.79s\tremaining: 643ms\n",
      "813:\tlearn: 0.0758877\ttotal: 2.8s\tremaining: 639ms\n",
      "814:\tlearn: 0.0757585\ttotal: 2.8s\tremaining: 635ms\n",
      "815:\tlearn: 0.0756062\ttotal: 2.8s\tremaining: 631ms\n",
      "816:\tlearn: 0.0755739\ttotal: 2.8s\tremaining: 627ms\n",
      "817:\tlearn: 0.0754658\ttotal: 2.8s\tremaining: 624ms\n",
      "818:\tlearn: 0.0753894\ttotal: 2.8s\tremaining: 620ms\n",
      "819:\tlearn: 0.0753114\ttotal: 2.81s\tremaining: 616ms\n",
      "820:\tlearn: 0.0752595\ttotal: 2.81s\tremaining: 612ms\n",
      "821:\tlearn: 0.0752233\ttotal: 2.81s\tremaining: 609ms\n",
      "822:\tlearn: 0.0751726\ttotal: 2.81s\tremaining: 605ms\n",
      "823:\tlearn: 0.0750406\ttotal: 2.81s\tremaining: 601ms\n",
      "824:\tlearn: 0.0748443\ttotal: 2.81s\tremaining: 597ms\n",
      "825:\tlearn: 0.0747318\ttotal: 2.82s\tremaining: 594ms\n",
      "826:\tlearn: 0.0745550\ttotal: 2.82s\tremaining: 590ms\n",
      "827:\tlearn: 0.0745320\ttotal: 2.82s\tremaining: 586ms\n",
      "828:\tlearn: 0.0743388\ttotal: 2.82s\tremaining: 582ms\n",
      "829:\tlearn: 0.0742697\ttotal: 2.83s\tremaining: 579ms\n",
      "830:\tlearn: 0.0740741\ttotal: 2.83s\tremaining: 575ms\n",
      "831:\tlearn: 0.0740434\ttotal: 2.83s\tremaining: 571ms\n",
      "832:\tlearn: 0.0739308\ttotal: 2.83s\tremaining: 568ms\n",
      "833:\tlearn: 0.0738923\ttotal: 2.83s\tremaining: 564ms\n",
      "834:\tlearn: 0.0738605\ttotal: 2.83s\tremaining: 560ms\n",
      "835:\tlearn: 0.0738308\ttotal: 2.84s\tremaining: 556ms\n",
      "836:\tlearn: 0.0737319\ttotal: 2.84s\tremaining: 553ms\n",
      "837:\tlearn: 0.0735901\ttotal: 2.84s\tremaining: 549ms\n",
      "838:\tlearn: 0.0735713\ttotal: 2.84s\tremaining: 545ms\n",
      "839:\tlearn: 0.0735105\ttotal: 2.84s\tremaining: 542ms\n",
      "840:\tlearn: 0.0734746\ttotal: 2.85s\tremaining: 538ms\n",
      "841:\tlearn: 0.0734452\ttotal: 2.85s\tremaining: 534ms\n",
      "842:\tlearn: 0.0733796\ttotal: 2.85s\tremaining: 531ms\n",
      "843:\tlearn: 0.0733583\ttotal: 2.85s\tremaining: 527ms\n",
      "844:\tlearn: 0.0733007\ttotal: 2.85s\tremaining: 523ms\n",
      "845:\tlearn: 0.0731858\ttotal: 2.85s\tremaining: 520ms\n",
      "846:\tlearn: 0.0730646\ttotal: 2.86s\tremaining: 516ms\n",
      "847:\tlearn: 0.0729630\ttotal: 2.86s\tremaining: 512ms\n",
      "848:\tlearn: 0.0728134\ttotal: 2.86s\tremaining: 509ms\n",
      "849:\tlearn: 0.0726883\ttotal: 2.86s\tremaining: 505ms\n",
      "850:\tlearn: 0.0726125\ttotal: 2.86s\tremaining: 502ms\n",
      "851:\tlearn: 0.0725480\ttotal: 2.87s\tremaining: 498ms\n",
      "852:\tlearn: 0.0724108\ttotal: 2.87s\tremaining: 494ms\n",
      "853:\tlearn: 0.0722789\ttotal: 2.87s\tremaining: 491ms\n",
      "854:\tlearn: 0.0721040\ttotal: 2.87s\tremaining: 487ms\n",
      "855:\tlearn: 0.0719008\ttotal: 2.87s\tremaining: 483ms\n",
      "856:\tlearn: 0.0717440\ttotal: 2.88s\tremaining: 480ms\n",
      "857:\tlearn: 0.0716159\ttotal: 2.88s\tremaining: 476ms\n",
      "858:\tlearn: 0.0714756\ttotal: 2.88s\tremaining: 473ms\n",
      "859:\tlearn: 0.0713655\ttotal: 2.88s\tremaining: 469ms\n",
      "860:\tlearn: 0.0713488\ttotal: 2.88s\tremaining: 465ms\n",
      "861:\tlearn: 0.0711562\ttotal: 2.88s\tremaining: 462ms\n",
      "862:\tlearn: 0.0709145\ttotal: 2.89s\tremaining: 458ms\n",
      "863:\tlearn: 0.0707831\ttotal: 2.89s\tremaining: 455ms\n",
      "864:\tlearn: 0.0707280\ttotal: 2.89s\tremaining: 451ms\n",
      "865:\tlearn: 0.0704818\ttotal: 2.89s\tremaining: 447ms\n",
      "866:\tlearn: 0.0704611\ttotal: 2.89s\tremaining: 444ms\n",
      "867:\tlearn: 0.0703235\ttotal: 2.9s\tremaining: 440ms\n",
      "868:\tlearn: 0.0702972\ttotal: 2.9s\tremaining: 437ms\n",
      "869:\tlearn: 0.0701753\ttotal: 2.9s\tremaining: 433ms\n",
      "870:\tlearn: 0.0699825\ttotal: 2.9s\tremaining: 430ms\n",
      "871:\tlearn: 0.0699055\ttotal: 2.9s\tremaining: 426ms\n",
      "872:\tlearn: 0.0697535\ttotal: 2.9s\tremaining: 423ms\n",
      "873:\tlearn: 0.0696259\ttotal: 2.91s\tremaining: 419ms\n",
      "874:\tlearn: 0.0695628\ttotal: 2.91s\tremaining: 416ms\n",
      "875:\tlearn: 0.0694867\ttotal: 2.91s\tremaining: 412ms\n",
      "876:\tlearn: 0.0694005\ttotal: 2.91s\tremaining: 408ms\n",
      "877:\tlearn: 0.0693265\ttotal: 2.91s\tremaining: 405ms\n",
      "878:\tlearn: 0.0692536\ttotal: 2.92s\tremaining: 401ms\n",
      "879:\tlearn: 0.0691019\ttotal: 2.92s\tremaining: 398ms\n",
      "880:\tlearn: 0.0689785\ttotal: 2.92s\tremaining: 394ms\n",
      "881:\tlearn: 0.0689696\ttotal: 2.92s\tremaining: 391ms\n",
      "882:\tlearn: 0.0688802\ttotal: 2.92s\tremaining: 387ms\n",
      "883:\tlearn: 0.0687592\ttotal: 2.92s\tremaining: 384ms\n",
      "884:\tlearn: 0.0686042\ttotal: 2.93s\tremaining: 380ms\n",
      "885:\tlearn: 0.0685484\ttotal: 2.93s\tremaining: 377ms\n",
      "886:\tlearn: 0.0684141\ttotal: 2.93s\tremaining: 373ms\n",
      "887:\tlearn: 0.0682949\ttotal: 2.93s\tremaining: 370ms\n",
      "888:\tlearn: 0.0682798\ttotal: 2.93s\tremaining: 366ms\n"
     ]
    },
    {
     "name": "stdout",
     "output_type": "stream",
     "text": [
      "889:\tlearn: 0.0681895\ttotal: 2.94s\tremaining: 363ms\n",
      "890:\tlearn: 0.0681652\ttotal: 2.94s\tremaining: 360ms\n",
      "891:\tlearn: 0.0681417\ttotal: 2.94s\tremaining: 356ms\n",
      "892:\tlearn: 0.0680183\ttotal: 2.94s\tremaining: 353ms\n",
      "893:\tlearn: 0.0679462\ttotal: 2.94s\tremaining: 349ms\n",
      "894:\tlearn: 0.0679129\ttotal: 2.95s\tremaining: 346ms\n",
      "895:\tlearn: 0.0678051\ttotal: 2.95s\tremaining: 342ms\n",
      "896:\tlearn: 0.0677375\ttotal: 2.95s\tremaining: 339ms\n",
      "897:\tlearn: 0.0676123\ttotal: 2.95s\tremaining: 335ms\n",
      "898:\tlearn: 0.0674574\ttotal: 2.95s\tremaining: 332ms\n",
      "899:\tlearn: 0.0673503\ttotal: 2.96s\tremaining: 328ms\n",
      "900:\tlearn: 0.0672236\ttotal: 2.96s\tremaining: 325ms\n",
      "901:\tlearn: 0.0671321\ttotal: 2.96s\tremaining: 322ms\n",
      "902:\tlearn: 0.0670801\ttotal: 2.96s\tremaining: 318ms\n",
      "903:\tlearn: 0.0669950\ttotal: 2.96s\tremaining: 315ms\n",
      "904:\tlearn: 0.0669716\ttotal: 2.96s\tremaining: 311ms\n",
      "905:\tlearn: 0.0668081\ttotal: 2.96s\tremaining: 308ms\n",
      "906:\tlearn: 0.0666784\ttotal: 2.97s\tremaining: 304ms\n",
      "907:\tlearn: 0.0665602\ttotal: 2.97s\tremaining: 301ms\n",
      "908:\tlearn: 0.0664284\ttotal: 2.97s\tremaining: 297ms\n",
      "909:\tlearn: 0.0663071\ttotal: 2.97s\tremaining: 294ms\n",
      "910:\tlearn: 0.0662294\ttotal: 2.97s\tremaining: 291ms\n",
      "911:\tlearn: 0.0661249\ttotal: 2.98s\tremaining: 287ms\n",
      "912:\tlearn: 0.0660640\ttotal: 2.98s\tremaining: 284ms\n",
      "913:\tlearn: 0.0660050\ttotal: 2.98s\tremaining: 280ms\n",
      "914:\tlearn: 0.0658771\ttotal: 2.98s\tremaining: 277ms\n",
      "915:\tlearn: 0.0658141\ttotal: 2.98s\tremaining: 274ms\n",
      "916:\tlearn: 0.0657138\ttotal: 2.98s\tremaining: 270ms\n",
      "917:\tlearn: 0.0656834\ttotal: 2.99s\tremaining: 267ms\n",
      "918:\tlearn: 0.0656759\ttotal: 2.99s\tremaining: 263ms\n",
      "919:\tlearn: 0.0655656\ttotal: 2.99s\tremaining: 260ms\n",
      "920:\tlearn: 0.0655125\ttotal: 2.99s\tremaining: 257ms\n",
      "921:\tlearn: 0.0653525\ttotal: 2.99s\tremaining: 253ms\n",
      "922:\tlearn: 0.0652703\ttotal: 3s\tremaining: 250ms\n",
      "923:\tlearn: 0.0652607\ttotal: 3s\tremaining: 247ms\n",
      "924:\tlearn: 0.0651351\ttotal: 3s\tremaining: 243ms\n",
      "925:\tlearn: 0.0650180\ttotal: 3s\tremaining: 240ms\n",
      "926:\tlearn: 0.0650102\ttotal: 3s\tremaining: 237ms\n",
      "927:\tlearn: 0.0649688\ttotal: 3s\tremaining: 233ms\n",
      "928:\tlearn: 0.0648264\ttotal: 3.01s\tremaining: 230ms\n",
      "929:\tlearn: 0.0647409\ttotal: 3.01s\tremaining: 226ms\n",
      "930:\tlearn: 0.0645901\ttotal: 3.01s\tremaining: 223ms\n",
      "931:\tlearn: 0.0645317\ttotal: 3.01s\tremaining: 220ms\n",
      "932:\tlearn: 0.0644127\ttotal: 3.01s\tremaining: 216ms\n",
      "933:\tlearn: 0.0643318\ttotal: 3.02s\tremaining: 213ms\n",
      "934:\tlearn: 0.0643117\ttotal: 3.02s\tremaining: 210ms\n",
      "935:\tlearn: 0.0641991\ttotal: 3.02s\tremaining: 206ms\n",
      "936:\tlearn: 0.0640569\ttotal: 3.02s\tremaining: 203ms\n",
      "937:\tlearn: 0.0639077\ttotal: 3.02s\tremaining: 200ms\n",
      "938:\tlearn: 0.0637992\ttotal: 3.02s\tremaining: 196ms\n",
      "939:\tlearn: 0.0637868\ttotal: 3.03s\tremaining: 193ms\n",
      "940:\tlearn: 0.0637526\ttotal: 3.03s\tremaining: 190ms\n",
      "941:\tlearn: 0.0636948\ttotal: 3.03s\tremaining: 187ms\n",
      "942:\tlearn: 0.0635753\ttotal: 3.03s\tremaining: 183ms\n",
      "943:\tlearn: 0.0634514\ttotal: 3.03s\tremaining: 180ms\n",
      "944:\tlearn: 0.0633229\ttotal: 3.04s\tremaining: 177ms\n",
      "945:\tlearn: 0.0632706\ttotal: 3.04s\tremaining: 173ms\n",
      "946:\tlearn: 0.0632150\ttotal: 3.04s\tremaining: 170ms\n",
      "947:\tlearn: 0.0630558\ttotal: 3.04s\tremaining: 167ms\n",
      "948:\tlearn: 0.0629433\ttotal: 3.04s\tremaining: 164ms\n",
      "949:\tlearn: 0.0629244\ttotal: 3.04s\tremaining: 160ms\n",
      "950:\tlearn: 0.0628183\ttotal: 3.05s\tremaining: 157ms\n",
      "951:\tlearn: 0.0627006\ttotal: 3.05s\tremaining: 154ms\n",
      "952:\tlearn: 0.0626564\ttotal: 3.05s\tremaining: 150ms\n",
      "953:\tlearn: 0.0625555\ttotal: 3.05s\tremaining: 147ms\n",
      "954:\tlearn: 0.0624892\ttotal: 3.05s\tremaining: 144ms\n",
      "955:\tlearn: 0.0623781\ttotal: 3.05s\tremaining: 141ms\n",
      "956:\tlearn: 0.0622672\ttotal: 3.06s\tremaining: 137ms\n",
      "957:\tlearn: 0.0621608\ttotal: 3.06s\tremaining: 134ms\n",
      "958:\tlearn: 0.0620232\ttotal: 3.06s\tremaining: 131ms\n",
      "959:\tlearn: 0.0619575\ttotal: 3.06s\tremaining: 128ms\n",
      "960:\tlearn: 0.0618766\ttotal: 3.06s\tremaining: 124ms\n",
      "961:\tlearn: 0.0617824\ttotal: 3.06s\tremaining: 121ms\n",
      "962:\tlearn: 0.0616754\ttotal: 3.07s\tremaining: 118ms\n",
      "963:\tlearn: 0.0616036\ttotal: 3.07s\tremaining: 115ms\n",
      "964:\tlearn: 0.0615133\ttotal: 3.07s\tremaining: 111ms\n",
      "965:\tlearn: 0.0613136\ttotal: 3.07s\tremaining: 108ms\n",
      "966:\tlearn: 0.0612866\ttotal: 3.07s\tremaining: 105ms\n",
      "967:\tlearn: 0.0612472\ttotal: 3.08s\tremaining: 102ms\n",
      "968:\tlearn: 0.0612118\ttotal: 3.08s\tremaining: 98.5ms\n",
      "969:\tlearn: 0.0610877\ttotal: 3.08s\tremaining: 95.2ms\n",
      "970:\tlearn: 0.0610359\ttotal: 3.08s\tremaining: 92ms\n",
      "971:\tlearn: 0.0608872\ttotal: 3.08s\tremaining: 88.8ms\n",
      "972:\tlearn: 0.0607988\ttotal: 3.08s\tremaining: 85.6ms\n",
      "973:\tlearn: 0.0607384\ttotal: 3.09s\tremaining: 82.4ms\n",
      "974:\tlearn: 0.0606562\ttotal: 3.09s\tremaining: 79.2ms\n",
      "975:\tlearn: 0.0605278\ttotal: 3.09s\tremaining: 76ms\n",
      "976:\tlearn: 0.0605115\ttotal: 3.09s\tremaining: 72.8ms\n",
      "977:\tlearn: 0.0603532\ttotal: 3.09s\tremaining: 69.6ms\n",
      "978:\tlearn: 0.0602120\ttotal: 3.1s\tremaining: 66.4ms\n",
      "979:\tlearn: 0.0601573\ttotal: 3.1s\tremaining: 63.2ms\n",
      "980:\tlearn: 0.0599468\ttotal: 3.1s\tremaining: 60ms\n",
      "981:\tlearn: 0.0599187\ttotal: 3.1s\tremaining: 56.9ms\n",
      "982:\tlearn: 0.0598620\ttotal: 3.1s\tremaining: 53.7ms\n",
      "983:\tlearn: 0.0597354\ttotal: 3.1s\tremaining: 50.5ms\n",
      "984:\tlearn: 0.0597212\ttotal: 3.11s\tremaining: 47.3ms\n",
      "985:\tlearn: 0.0597042\ttotal: 3.11s\tremaining: 44.1ms\n",
      "986:\tlearn: 0.0595404\ttotal: 3.11s\tremaining: 41ms\n",
      "987:\tlearn: 0.0595263\ttotal: 3.11s\tremaining: 37.8ms\n",
      "988:\tlearn: 0.0594582\ttotal: 3.11s\tremaining: 34.6ms\n"
     ]
    },
    {
     "name": "stdout",
     "output_type": "stream",
     "text": [
      "989:\tlearn: 0.0593300\ttotal: 3.12s\tremaining: 31.5ms\n",
      "990:\tlearn: 0.0592446\ttotal: 3.12s\tremaining: 28.3ms\n",
      "991:\tlearn: 0.0591550\ttotal: 3.12s\tremaining: 25.2ms\n",
      "992:\tlearn: 0.0591189\ttotal: 3.12s\tremaining: 22ms\n",
      "993:\tlearn: 0.0590494\ttotal: 3.13s\tremaining: 18.9ms\n",
      "994:\tlearn: 0.0588519\ttotal: 3.13s\tremaining: 15.7ms\n",
      "995:\tlearn: 0.0586945\ttotal: 3.13s\tremaining: 12.6ms\n",
      "996:\tlearn: 0.0585917\ttotal: 3.13s\tremaining: 9.42ms\n",
      "997:\tlearn: 0.0584986\ttotal: 3.13s\tremaining: 6.28ms\n",
      "998:\tlearn: 0.0584672\ttotal: 3.13s\tremaining: 3.14ms\n",
      "999:\tlearn: 0.0584125\ttotal: 3.14s\tremaining: 0us\n",
      "Mean Absolute error 0.27579017259207966\n"
     ]
    },
    {
     "data": {
      "application/scrapbook.scrap.json+json": {
       "data": 0.27579017259207966,
       "encoder": "json",
       "name": "Catboost MAE",
       "version": 1
      }
     },
     "metadata": {
      "scrapbook": {
       "data": true,
       "display": false,
       "name": "Catboost MAE"
      }
     },
     "output_type": "display_data"
    },
    {
     "name": "stdout",
     "output_type": "stream",
     "text": [
      "Catboost MAE 0.27579017259207966\n"
     ]
    }
   ],
   "source": [
    "mae_cb = baselineModels.catboost(X_train,y_train,X_test,y_test)\n",
    "#Store MSE Value\n",
    "sb.glue(\"Catboost MAE\",mae_cb)\n",
    "print(\"Catboost MAE\",mae_cb)"
   ]
  },
  {
   "cell_type": "markdown",
   "id": "22c4d80b",
   "metadata": {
    "papermill": {
     "duration": 0.034977,
     "end_time": "2022-07-21T10:38:15.570075",
     "exception": false,
     "start_time": "2022-07-21T10:38:15.535098",
     "status": "completed"
    },
    "tags": []
   },
   "source": [
    "# TabNet Regressor"
   ]
  },
  {
   "cell_type": "code",
   "execution_count": 7,
   "id": "3f07ab80",
   "metadata": {
    "execution": {
     "iopub.execute_input": "2022-07-21T10:38:15.681320Z",
     "iopub.status.busy": "2022-07-21T10:38:15.680955Z",
     "iopub.status.idle": "2022-07-21T10:38:15.714363Z",
     "shell.execute_reply": "2022-07-21T10:38:15.690800Z"
    },
    "papermill": {
     "duration": 0.106533,
     "end_time": "2022-07-21T10:38:15.717269",
     "exception": false,
     "start_time": "2022-07-21T10:38:15.610736",
     "status": "completed"
    },
    "tags": []
   },
   "outputs": [],
   "source": [
    "n_epochs = 1000\n",
    "batch_size = 32"
   ]
  },
  {
   "cell_type": "code",
   "execution_count": 8,
   "id": "9d64d787",
   "metadata": {
    "execution": {
     "iopub.execute_input": "2022-07-21T10:38:15.760041Z",
     "iopub.status.busy": "2022-07-21T10:38:15.756884Z",
     "iopub.status.idle": "2022-07-21T10:41:10.925544Z",
     "shell.execute_reply": "2022-07-21T10:41:10.924872Z"
    },
    "papermill": {
     "duration": 175.198604,
     "end_time": "2022-07-21T10:41:10.927865",
     "exception": false,
     "start_time": "2022-07-21T10:38:15.729261",
     "status": "completed"
    },
    "tags": []
   },
   "outputs": [
    {
     "name": "stdout",
     "output_type": "stream",
     "text": [
      "Device used : cpu\n"
     ]
    },
    {
     "name": "stdout",
     "output_type": "stream",
     "text": [
      "epoch 0  | loss: 2.63549 | train_mse: 1.90394 | train_mae: 0.94795 |  0:00:03s\n"
     ]
    },
    {
     "name": "stdout",
     "output_type": "stream",
     "text": [
      "epoch 1  | loss: 0.77097 | train_mse: 1.09991 | train_mae: 0.74488 |  0:00:04s\n"
     ]
    },
    {
     "name": "stdout",
     "output_type": "stream",
     "text": [
      "epoch 2  | loss: 0.50907 | train_mse: 0.66263 | train_mae: 0.5809  |  0:00:05s\n"
     ]
    },
    {
     "name": "stdout",
     "output_type": "stream",
     "text": [
      "epoch 3  | loss: 0.43321 | train_mse: 0.36779 | train_mae: 0.45795 |  0:00:06s\n"
     ]
    },
    {
     "name": "stdout",
     "output_type": "stream",
     "text": [
      "epoch 4  | loss: 0.37738 | train_mse: 0.34762 | train_mae: 0.40496 |  0:00:07s\n"
     ]
    },
    {
     "name": "stdout",
     "output_type": "stream",
     "text": [
      "epoch 5  | loss: 0.39032 | train_mse: 0.35319 | train_mae: 0.40189 |  0:00:08s\n"
     ]
    },
    {
     "name": "stdout",
     "output_type": "stream",
     "text": [
      "epoch 6  | loss: 0.39937 | train_mse: 0.27221 | train_mae: 0.35741 |  0:00:08s\n"
     ]
    },
    {
     "name": "stdout",
     "output_type": "stream",
     "text": [
      "epoch 7  | loss: 0.36387 | train_mse: 0.24665 | train_mae: 0.34982 |  0:00:09s\n"
     ]
    },
    {
     "name": "stdout",
     "output_type": "stream",
     "text": [
      "epoch 8  | loss: 0.29077 | train_mse: 0.21482 | train_mae: 0.33053 |  0:00:09s\n"
     ]
    },
    {
     "name": "stdout",
     "output_type": "stream",
     "text": [
      "epoch 9  | loss: 0.23928 | train_mse: 0.27309 | train_mae: 0.35417 |  0:00:09s\n"
     ]
    },
    {
     "name": "stdout",
     "output_type": "stream",
     "text": [
      "epoch 10 | loss: 0.25751 | train_mse: 0.20118 | train_mae: 0.30903 |  0:00:10s\n"
     ]
    },
    {
     "name": "stdout",
     "output_type": "stream",
     "text": [
      "epoch 11 | loss: 0.26993 | train_mse: 0.20625 | train_mae: 0.31195 |  0:00:10s\n"
     ]
    },
    {
     "name": "stdout",
     "output_type": "stream",
     "text": [
      "epoch 12 | loss: 0.24049 | train_mse: 0.21164 | train_mae: 0.31312 |  0:00:11s\n"
     ]
    },
    {
     "name": "stdout",
     "output_type": "stream",
     "text": [
      "epoch 13 | loss: 0.25275 | train_mse: 0.23261 | train_mae: 0.3447  |  0:00:11s\n"
     ]
    },
    {
     "name": "stdout",
     "output_type": "stream",
     "text": [
      "epoch 14 | loss: 0.30324 | train_mse: 0.19143 | train_mae: 0.30514 |  0:00:11s\n"
     ]
    },
    {
     "name": "stdout",
     "output_type": "stream",
     "text": [
      "epoch 15 | loss: 0.21939 | train_mse: 0.24036 | train_mae: 0.34856 |  0:00:12s\n"
     ]
    },
    {
     "name": "stdout",
     "output_type": "stream",
     "text": [
      "epoch 16 | loss: 0.27243 | train_mse: 0.20293 | train_mae: 0.32982 |  0:00:12s\n"
     ]
    },
    {
     "name": "stdout",
     "output_type": "stream",
     "text": [
      "epoch 17 | loss: 0.23654 | train_mse: 0.19898 | train_mae: 0.32006 |  0:00:12s\n"
     ]
    },
    {
     "name": "stdout",
     "output_type": "stream",
     "text": [
      "epoch 18 | loss: 0.23766 | train_mse: 0.19375 | train_mae: 0.31361 |  0:00:13s\n"
     ]
    },
    {
     "name": "stdout",
     "output_type": "stream",
     "text": [
      "epoch 19 | loss: 0.24563 | train_mse: 0.15445 | train_mae: 0.28491 |  0:00:13s\n"
     ]
    },
    {
     "name": "stdout",
     "output_type": "stream",
     "text": [
      "epoch 20 | loss: 0.19928 | train_mse: 0.14442 | train_mae: 0.26795 |  0:00:13s\n"
     ]
    },
    {
     "name": "stdout",
     "output_type": "stream",
     "text": [
      "epoch 21 | loss: 0.22109 | train_mse: 0.16116 | train_mae: 0.28482 |  0:00:14s\n"
     ]
    },
    {
     "name": "stdout",
     "output_type": "stream",
     "text": [
      "epoch 22 | loss: 0.21099 | train_mse: 0.15033 | train_mae: 0.27604 |  0:00:14s\n"
     ]
    },
    {
     "name": "stdout",
     "output_type": "stream",
     "text": [
      "epoch 23 | loss: 0.24435 | train_mse: 0.1348  | train_mae: 0.25339 |  0:00:15s\n"
     ]
    },
    {
     "name": "stdout",
     "output_type": "stream",
     "text": [
      "epoch 24 | loss: 0.1754  | train_mse: 0.13108 | train_mae: 0.24622 |  0:00:15s\n"
     ]
    },
    {
     "name": "stdout",
     "output_type": "stream",
     "text": [
      "epoch 25 | loss: 0.17976 | train_mse: 0.1344  | train_mae: 0.25903 |  0:00:15s\n"
     ]
    },
    {
     "name": "stdout",
     "output_type": "stream",
     "text": [
      "epoch 26 | loss: 0.23016 | train_mse: 0.12125 | train_mae: 0.24036 |  0:00:17s\n"
     ]
    },
    {
     "name": "stdout",
     "output_type": "stream",
     "text": [
      "epoch 27 | loss: 0.19908 | train_mse: 0.13166 | train_mae: 0.25571 |  0:00:17s\n"
     ]
    },
    {
     "name": "stdout",
     "output_type": "stream",
     "text": [
      "epoch 28 | loss: 0.19438 | train_mse: 0.1302  | train_mae: 0.2452  |  0:00:18s\n"
     ]
    },
    {
     "name": "stdout",
     "output_type": "stream",
     "text": [
      "epoch 29 | loss: 0.17416 | train_mse: 0.12381 | train_mae: 0.23793 |  0:00:18s\n"
     ]
    },
    {
     "name": "stdout",
     "output_type": "stream",
     "text": [
      "epoch 30 | loss: 0.16898 | train_mse: 0.12467 | train_mae: 0.23886 |  0:00:18s\n"
     ]
    },
    {
     "name": "stdout",
     "output_type": "stream",
     "text": [
      "epoch 31 | loss: 0.17302 | train_mse: 0.13126 | train_mae: 0.24995 |  0:00:19s\n"
     ]
    },
    {
     "name": "stdout",
     "output_type": "stream",
     "text": [
      "epoch 32 | loss: 0.20062 | train_mse: 0.13599 | train_mae: 0.24829 |  0:00:19s\n"
     ]
    },
    {
     "name": "stdout",
     "output_type": "stream",
     "text": [
      "epoch 33 | loss: 0.18506 | train_mse: 0.1142  | train_mae: 0.2279  |  0:00:19s\n"
     ]
    },
    {
     "name": "stdout",
     "output_type": "stream",
     "text": [
      "epoch 34 | loss: 0.17541 | train_mse: 0.12064 | train_mae: 0.23505 |  0:00:20s\n"
     ]
    },
    {
     "name": "stdout",
     "output_type": "stream",
     "text": [
      "epoch 35 | loss: 0.18841 | train_mse: 0.11408 | train_mae: 0.22879 |  0:00:20s\n"
     ]
    },
    {
     "name": "stdout",
     "output_type": "stream",
     "text": [
      "epoch 36 | loss: 0.15982 | train_mse: 0.11561 | train_mae: 0.23018 |  0:00:20s\n"
     ]
    },
    {
     "name": "stdout",
     "output_type": "stream",
     "text": [
      "epoch 37 | loss: 0.19405 | train_mse: 0.10858 | train_mae: 0.22237 |  0:00:21s\n"
     ]
    },
    {
     "name": "stdout",
     "output_type": "stream",
     "text": [
      "epoch 38 | loss: 0.16401 | train_mse: 0.11617 | train_mae: 0.22872 |  0:00:21s\n"
     ]
    },
    {
     "name": "stdout",
     "output_type": "stream",
     "text": [
      "epoch 39 | loss: 0.21881 | train_mse: 0.11472 | train_mae: 0.23262 |  0:00:22s\n"
     ]
    },
    {
     "name": "stdout",
     "output_type": "stream",
     "text": [
      "epoch 40 | loss: 0.19504 | train_mse: 0.12523 | train_mae: 0.24556 |  0:00:23s\n"
     ]
    },
    {
     "name": "stdout",
     "output_type": "stream",
     "text": [
      "epoch 41 | loss: 0.21645 | train_mse: 0.11705 | train_mae: 0.23512 |  0:00:23s\n"
     ]
    },
    {
     "name": "stdout",
     "output_type": "stream",
     "text": [
      "epoch 42 | loss: 0.16    | train_mse: 0.11274 | train_mae: 0.22944 |  0:00:23s\n"
     ]
    },
    {
     "name": "stdout",
     "output_type": "stream",
     "text": [
      "epoch 43 | loss: 0.16455 | train_mse: 0.1261  | train_mae: 0.24079 |  0:00:24s\n"
     ]
    },
    {
     "name": "stdout",
     "output_type": "stream",
     "text": [
      "epoch 44 | loss: 0.18956 | train_mse: 0.12453 | train_mae: 0.24036 |  0:00:24s\n"
     ]
    },
    {
     "name": "stdout",
     "output_type": "stream",
     "text": [
      "epoch 45 | loss: 0.15458 | train_mse: 0.11106 | train_mae: 0.23353 |  0:00:24s\n"
     ]
    },
    {
     "name": "stdout",
     "output_type": "stream",
     "text": [
      "epoch 46 | loss: 0.19904 | train_mse: 0.11859 | train_mae: 0.24727 |  0:00:25s\n"
     ]
    },
    {
     "name": "stdout",
     "output_type": "stream",
     "text": [
      "epoch 47 | loss: 0.1752  | train_mse: 0.11383 | train_mae: 0.24228 |  0:00:25s\n"
     ]
    },
    {
     "name": "stdout",
     "output_type": "stream",
     "text": [
      "epoch 48 | loss: 0.15168 | train_mse: 0.10633 | train_mae: 0.22623 |  0:00:26s\n"
     ]
    },
    {
     "name": "stdout",
     "output_type": "stream",
     "text": [
      "epoch 49 | loss: 0.19386 | train_mse: 0.1118  | train_mae: 0.23831 |  0:00:26s\n"
     ]
    },
    {
     "name": "stdout",
     "output_type": "stream",
     "text": [
      "epoch 50 | loss: 0.17373 | train_mse: 0.11268 | train_mae: 0.23626 |  0:00:26s\n"
     ]
    },
    {
     "name": "stdout",
     "output_type": "stream",
     "text": [
      "epoch 51 | loss: 0.1626  | train_mse: 0.1277  | train_mae: 0.25415 |  0:00:27s\n"
     ]
    },
    {
     "name": "stdout",
     "output_type": "stream",
     "text": [
      "epoch 52 | loss: 0.17836 | train_mse: 0.11028 | train_mae: 0.22971 |  0:00:27s\n"
     ]
    },
    {
     "name": "stdout",
     "output_type": "stream",
     "text": [
      "epoch 53 | loss: 0.21409 | train_mse: 0.10484 | train_mae: 0.22548 |  0:00:27s\n"
     ]
    },
    {
     "name": "stdout",
     "output_type": "stream",
     "text": [
      "epoch 54 | loss: 0.18027 | train_mse: 0.10704 | train_mae: 0.22694 |  0:00:28s\n"
     ]
    },
    {
     "name": "stdout",
     "output_type": "stream",
     "text": [
      "epoch 55 | loss: 0.16542 | train_mse: 0.11123 | train_mae: 0.2274  |  0:00:28s\n"
     ]
    },
    {
     "name": "stdout",
     "output_type": "stream",
     "text": [
      "epoch 56 | loss: 0.1812  | train_mse: 0.10438 | train_mae: 0.22428 |  0:00:28s\n"
     ]
    },
    {
     "name": "stdout",
     "output_type": "stream",
     "text": [
      "epoch 57 | loss: 0.14847 | train_mse: 0.10918 | train_mae: 0.22631 |  0:00:29s\n"
     ]
    },
    {
     "name": "stdout",
     "output_type": "stream",
     "text": [
      "epoch 58 | loss: 0.16957 | train_mse: 0.10783 | train_mae: 0.2272  |  0:00:29s\n"
     ]
    },
    {
     "name": "stdout",
     "output_type": "stream",
     "text": [
      "epoch 59 | loss: 0.1648  | train_mse: 0.10991 | train_mae: 0.22819 |  0:00:30s\n"
     ]
    },
    {
     "name": "stdout",
     "output_type": "stream",
     "text": [
      "epoch 60 | loss: 0.14408 | train_mse: 0.10397 | train_mae: 0.21958 |  0:00:30s\n"
     ]
    },
    {
     "name": "stdout",
     "output_type": "stream",
     "text": [
      "epoch 61 | loss: 0.16573 | train_mse: 0.11532 | train_mae: 0.23252 |  0:00:31s\n"
     ]
    },
    {
     "name": "stdout",
     "output_type": "stream",
     "text": [
      "epoch 62 | loss: 0.15764 | train_mse: 0.10582 | train_mae: 0.22247 |  0:00:31s\n"
     ]
    },
    {
     "name": "stdout",
     "output_type": "stream",
     "text": [
      "epoch 63 | loss: 0.17835 | train_mse: 0.11017 | train_mae: 0.23195 |  0:00:31s\n"
     ]
    },
    {
     "name": "stdout",
     "output_type": "stream",
     "text": [
      "epoch 64 | loss: 0.14476 | train_mse: 0.10165 | train_mae: 0.22131 |  0:00:32s\n"
     ]
    },
    {
     "name": "stdout",
     "output_type": "stream",
     "text": [
      "epoch 65 | loss: 0.15583 | train_mse: 0.1048  | train_mae: 0.2207  |  0:00:33s\n"
     ]
    },
    {
     "name": "stdout",
     "output_type": "stream",
     "text": [
      "epoch 66 | loss: 0.1566  | train_mse: 0.10138 | train_mae: 0.22089 |  0:00:33s\n"
     ]
    },
    {
     "name": "stdout",
     "output_type": "stream",
     "text": [
      "epoch 67 | loss: 0.19359 | train_mse: 0.10567 | train_mae: 0.22725 |  0:00:34s\n"
     ]
    },
    {
     "name": "stdout",
     "output_type": "stream",
     "text": [
      "epoch 68 | loss: 0.15091 | train_mse: 0.10165 | train_mae: 0.22138 |  0:00:35s\n"
     ]
    },
    {
     "name": "stdout",
     "output_type": "stream",
     "text": [
      "epoch 69 | loss: 0.14593 | train_mse: 0.09928 | train_mae: 0.21761 |  0:00:37s\n"
     ]
    },
    {
     "name": "stdout",
     "output_type": "stream",
     "text": [
      "epoch 70 | loss: 0.12048 | train_mse: 0.09854 | train_mae: 0.21675 |  0:00:39s\n"
     ]
    },
    {
     "name": "stdout",
     "output_type": "stream",
     "text": [
      "epoch 71 | loss: 0.19589 | train_mse: 0.10606 | train_mae: 0.22603 |  0:00:40s\n"
     ]
    },
    {
     "name": "stdout",
     "output_type": "stream",
     "text": [
      "epoch 72 | loss: 0.15743 | train_mse: 0.09126 | train_mae: 0.20727 |  0:00:42s\n"
     ]
    },
    {
     "name": "stdout",
     "output_type": "stream",
     "text": [
      "epoch 73 | loss: 0.13531 | train_mse: 0.09041 | train_mae: 0.2056  |  0:00:44s\n"
     ]
    },
    {
     "name": "stdout",
     "output_type": "stream",
     "text": [
      "epoch 74 | loss: 0.14029 | train_mse: 0.08932 | train_mae: 0.20266 |  0:00:45s\n"
     ]
    },
    {
     "name": "stdout",
     "output_type": "stream",
     "text": [
      "epoch 75 | loss: 0.11726 | train_mse: 0.09552 | train_mae: 0.21386 |  0:00:46s\n"
     ]
    },
    {
     "name": "stdout",
     "output_type": "stream",
     "text": [
      "epoch 76 | loss: 0.1315  | train_mse: 0.09472 | train_mae: 0.21035 |  0:00:47s\n"
     ]
    },
    {
     "name": "stdout",
     "output_type": "stream",
     "text": [
      "epoch 77 | loss: 0.15601 | train_mse: 0.08841 | train_mae: 0.19922 |  0:00:49s\n"
     ]
    },
    {
     "name": "stdout",
     "output_type": "stream",
     "text": [
      "epoch 78 | loss: 0.14746 | train_mse: 0.10559 | train_mae: 0.22504 |  0:00:50s\n"
     ]
    },
    {
     "name": "stdout",
     "output_type": "stream",
     "text": [
      "epoch 79 | loss: 0.14696 | train_mse: 0.08669 | train_mae: 0.20415 |  0:00:51s\n"
     ]
    },
    {
     "name": "stdout",
     "output_type": "stream",
     "text": [
      "epoch 80 | loss: 0.15816 | train_mse: 0.08885 | train_mae: 0.2019  |  0:00:51s\n"
     ]
    },
    {
     "name": "stdout",
     "output_type": "stream",
     "text": [
      "epoch 81 | loss: 0.10909 | train_mse: 0.08763 | train_mae: 0.20272 |  0:00:52s\n"
     ]
    },
    {
     "name": "stdout",
     "output_type": "stream",
     "text": [
      "epoch 82 | loss: 0.14143 | train_mse: 0.09427 | train_mae: 0.21279 |  0:00:53s\n"
     ]
    },
    {
     "name": "stdout",
     "output_type": "stream",
     "text": [
      "epoch 83 | loss: 0.14307 | train_mse: 0.09869 | train_mae: 0.22431 |  0:00:54s\n"
     ]
    },
    {
     "name": "stdout",
     "output_type": "stream",
     "text": [
      "epoch 84 | loss: 0.15127 | train_mse: 0.08835 | train_mae: 0.20521 |  0:00:54s\n"
     ]
    },
    {
     "name": "stdout",
     "output_type": "stream",
     "text": [
      "epoch 85 | loss: 0.13484 | train_mse: 0.08318 | train_mae: 0.19178 |  0:00:55s\n"
     ]
    },
    {
     "name": "stdout",
     "output_type": "stream",
     "text": [
      "epoch 86 | loss: 0.14609 | train_mse: 0.08581 | train_mae: 0.20253 |  0:00:55s\n"
     ]
    },
    {
     "name": "stdout",
     "output_type": "stream",
     "text": [
      "epoch 87 | loss: 0.14654 | train_mse: 0.09272 | train_mae: 0.21086 |  0:00:55s\n"
     ]
    },
    {
     "name": "stdout",
     "output_type": "stream",
     "text": [
      "epoch 88 | loss: 0.14325 | train_mse: 0.10237 | train_mae: 0.22344 |  0:00:56s\n"
     ]
    },
    {
     "name": "stdout",
     "output_type": "stream",
     "text": [
      "epoch 89 | loss: 0.18996 | train_mse: 0.0934  | train_mae: 0.21106 |  0:00:56s\n"
     ]
    },
    {
     "name": "stdout",
     "output_type": "stream",
     "text": [
      "epoch 90 | loss: 0.15505 | train_mse: 0.09243 | train_mae: 0.20607 |  0:00:57s\n"
     ]
    },
    {
     "name": "stdout",
     "output_type": "stream",
     "text": [
      "epoch 91 | loss: 0.14835 | train_mse: 0.09398 | train_mae: 0.19799 |  0:00:57s\n"
     ]
    },
    {
     "name": "stdout",
     "output_type": "stream",
     "text": [
      "epoch 92 | loss: 0.13003 | train_mse: 0.09277 | train_mae: 0.19709 |  0:00:58s\n"
     ]
    },
    {
     "name": "stdout",
     "output_type": "stream",
     "text": [
      "epoch 93 | loss: 0.14366 | train_mse: 0.09086 | train_mae: 0.20864 |  0:00:58s\n"
     ]
    },
    {
     "name": "stdout",
     "output_type": "stream",
     "text": [
      "epoch 94 | loss: 0.16681 | train_mse: 0.09345 | train_mae: 0.21838 |  0:00:58s\n"
     ]
    },
    {
     "name": "stdout",
     "output_type": "stream",
     "text": [
      "epoch 95 | loss: 0.13865 | train_mse: 0.08263 | train_mae: 0.19958 |  0:00:59s\n"
     ]
    },
    {
     "name": "stdout",
     "output_type": "stream",
     "text": [
      "epoch 96 | loss: 0.15183 | train_mse: 0.08616 | train_mae: 0.2061  |  0:00:59s\n"
     ]
    },
    {
     "name": "stdout",
     "output_type": "stream",
     "text": [
      "epoch 97 | loss: 0.12525 | train_mse: 0.08102 | train_mae: 0.2033  |  0:01:00s\n"
     ]
    },
    {
     "name": "stdout",
     "output_type": "stream",
     "text": [
      "epoch 98 | loss: 0.1524  | train_mse: 0.07962 | train_mae: 0.19893 |  0:01:00s\n"
     ]
    },
    {
     "name": "stdout",
     "output_type": "stream",
     "text": [
      "epoch 99 | loss: 0.10917 | train_mse: 0.08115 | train_mae: 0.20188 |  0:01:01s\n"
     ]
    },
    {
     "name": "stdout",
     "output_type": "stream",
     "text": [
      "epoch 100| loss: 0.15174 | train_mse: 0.0773  | train_mae: 0.19838 |  0:01:01s\n"
     ]
    },
    {
     "name": "stdout",
     "output_type": "stream",
     "text": [
      "epoch 101| loss: 0.12698 | train_mse: 0.08481 | train_mae: 0.21012 |  0:01:02s\n"
     ]
    },
    {
     "name": "stdout",
     "output_type": "stream",
     "text": [
      "epoch 102| loss: 0.13452 | train_mse: 0.07263 | train_mae: 0.18909 |  0:01:02s\n"
     ]
    },
    {
     "name": "stdout",
     "output_type": "stream",
     "text": [
      "epoch 103| loss: 0.14677 | train_mse: 0.0784  | train_mae: 0.19496 |  0:01:03s\n"
     ]
    },
    {
     "name": "stdout",
     "output_type": "stream",
     "text": [
      "epoch 104| loss: 0.12267 | train_mse: 0.07524 | train_mae: 0.19331 |  0:01:03s\n"
     ]
    },
    {
     "name": "stdout",
     "output_type": "stream",
     "text": [
      "epoch 105| loss: 0.11695 | train_mse: 0.06999 | train_mae: 0.18788 |  0:01:04s\n"
     ]
    },
    {
     "name": "stdout",
     "output_type": "stream",
     "text": [
      "epoch 106| loss: 0.13217 | train_mse: 0.06403 | train_mae: 0.1786  |  0:01:04s\n"
     ]
    },
    {
     "name": "stdout",
     "output_type": "stream",
     "text": [
      "epoch 107| loss: 0.14371 | train_mse: 0.07377 | train_mae: 0.19698 |  0:01:05s\n"
     ]
    },
    {
     "name": "stdout",
     "output_type": "stream",
     "text": [
      "epoch 108| loss: 0.13022 | train_mse: 0.08205 | train_mae: 0.19676 |  0:01:06s\n"
     ]
    },
    {
     "name": "stdout",
     "output_type": "stream",
     "text": [
      "epoch 109| loss: 0.14318 | train_mse: 0.09029 | train_mae: 0.20854 |  0:01:07s\n"
     ]
    },
    {
     "name": "stdout",
     "output_type": "stream",
     "text": [
      "epoch 110| loss: 0.13643 | train_mse: 0.08685 | train_mae: 0.19306 |  0:01:08s\n"
     ]
    },
    {
     "name": "stdout",
     "output_type": "stream",
     "text": [
      "epoch 111| loss: 0.1354  | train_mse: 0.07182 | train_mae: 0.19226 |  0:01:09s\n"
     ]
    },
    {
     "name": "stdout",
     "output_type": "stream",
     "text": [
      "epoch 112| loss: 0.14645 | train_mse: 0.07766 | train_mae: 0.20019 |  0:01:10s\n"
     ]
    },
    {
     "name": "stdout",
     "output_type": "stream",
     "text": [
      "epoch 113| loss: 0.13591 | train_mse: 0.08864 | train_mae: 0.21664 |  0:01:11s\n"
     ]
    },
    {
     "name": "stdout",
     "output_type": "stream",
     "text": [
      "epoch 114| loss: 0.13336 | train_mse: 0.07531 | train_mae: 0.19885 |  0:01:11s\n"
     ]
    },
    {
     "name": "stdout",
     "output_type": "stream",
     "text": [
      "epoch 115| loss: 0.14489 | train_mse: 0.08276 | train_mae: 0.20994 |  0:01:12s\n"
     ]
    },
    {
     "name": "stdout",
     "output_type": "stream",
     "text": [
      "epoch 116| loss: 0.11624 | train_mse: 0.07284 | train_mae: 0.19888 |  0:01:12s\n"
     ]
    },
    {
     "name": "stdout",
     "output_type": "stream",
     "text": [
      "epoch 117| loss: 0.15219 | train_mse: 0.07461 | train_mae: 0.19655 |  0:01:13s\n"
     ]
    },
    {
     "name": "stdout",
     "output_type": "stream",
     "text": [
      "epoch 118| loss: 0.13375 | train_mse: 0.06981 | train_mae: 0.18798 |  0:01:13s\n"
     ]
    },
    {
     "name": "stdout",
     "output_type": "stream",
     "text": [
      "epoch 119| loss: 0.11829 | train_mse: 0.06651 | train_mae: 0.18615 |  0:01:14s\n"
     ]
    },
    {
     "name": "stdout",
     "output_type": "stream",
     "text": [
      "epoch 120| loss: 0.12053 | train_mse: 0.06401 | train_mae: 0.18239 |  0:01:14s\n"
     ]
    },
    {
     "name": "stdout",
     "output_type": "stream",
     "text": [
      "epoch 121| loss: 0.13093 | train_mse: 0.08096 | train_mae: 0.19971 |  0:01:15s\n"
     ]
    },
    {
     "name": "stdout",
     "output_type": "stream",
     "text": [
      "epoch 122| loss: 0.17743 | train_mse: 0.07691 | train_mae: 0.20587 |  0:01:15s\n"
     ]
    },
    {
     "name": "stdout",
     "output_type": "stream",
     "text": [
      "epoch 123| loss: 0.1574  | train_mse: 0.07632 | train_mae: 0.19881 |  0:01:15s\n"
     ]
    },
    {
     "name": "stdout",
     "output_type": "stream",
     "text": [
      "epoch 124| loss: 0.12901 | train_mse: 0.07034 | train_mae: 0.19503 |  0:01:16s\n"
     ]
    },
    {
     "name": "stdout",
     "output_type": "stream",
     "text": [
      "epoch 125| loss: 0.12585 | train_mse: 0.0788  | train_mae: 0.19575 |  0:01:16s\n"
     ]
    },
    {
     "name": "stdout",
     "output_type": "stream",
     "text": [
      "epoch 126| loss: 0.13478 | train_mse: 0.08682 | train_mae: 0.19334 |  0:01:16s\n"
     ]
    },
    {
     "name": "stdout",
     "output_type": "stream",
     "text": [
      "epoch 127| loss: 0.12482 | train_mse: 0.07043 | train_mae: 0.18683 |  0:01:17s\n"
     ]
    },
    {
     "name": "stdout",
     "output_type": "stream",
     "text": [
      "epoch 128| loss: 0.15833 | train_mse: 0.06933 | train_mae: 0.18341 |  0:01:17s\n"
     ]
    },
    {
     "name": "stdout",
     "output_type": "stream",
     "text": [
      "epoch 129| loss: 0.1243  | train_mse: 0.0677  | train_mae: 0.188   |  0:01:17s\n"
     ]
    },
    {
     "name": "stdout",
     "output_type": "stream",
     "text": [
      "epoch 130| loss: 0.11504 | train_mse: 0.06919 | train_mae: 0.18765 |  0:01:18s\n"
     ]
    },
    {
     "name": "stdout",
     "output_type": "stream",
     "text": [
      "epoch 131| loss: 0.10341 | train_mse: 0.07191 | train_mae: 0.19558 |  0:01:18s\n"
     ]
    },
    {
     "name": "stdout",
     "output_type": "stream",
     "text": [
      "epoch 132| loss: 0.1344  | train_mse: 0.07948 | train_mae: 0.20151 |  0:01:19s\n"
     ]
    },
    {
     "name": "stdout",
     "output_type": "stream",
     "text": [
      "epoch 133| loss: 0.11595 | train_mse: 0.07666 | train_mae: 0.19688 |  0:01:20s\n"
     ]
    },
    {
     "name": "stdout",
     "output_type": "stream",
     "text": [
      "epoch 134| loss: 0.11673 | train_mse: 0.08539 | train_mae: 0.20748 |  0:01:20s\n"
     ]
    },
    {
     "name": "stdout",
     "output_type": "stream",
     "text": [
      "epoch 135| loss: 0.14573 | train_mse: 0.07927 | train_mae: 0.20029 |  0:01:21s\n"
     ]
    },
    {
     "name": "stdout",
     "output_type": "stream",
     "text": [
      "epoch 136| loss: 0.09616 | train_mse: 0.07499 | train_mae: 0.19465 |  0:01:21s\n"
     ]
    },
    {
     "name": "stdout",
     "output_type": "stream",
     "text": [
      "epoch 137| loss: 0.11623 | train_mse: 0.06264 | train_mae: 0.17782 |  0:01:22s\n"
     ]
    },
    {
     "name": "stdout",
     "output_type": "stream",
     "text": [
      "epoch 138| loss: 0.10887 | train_mse: 0.06877 | train_mae: 0.18444 |  0:01:22s\n"
     ]
    },
    {
     "name": "stdout",
     "output_type": "stream",
     "text": [
      "epoch 139| loss: 0.12682 | train_mse: 0.06284 | train_mae: 0.18006 |  0:01:23s\n"
     ]
    },
    {
     "name": "stdout",
     "output_type": "stream",
     "text": [
      "epoch 140| loss: 0.13366 | train_mse: 0.0734  | train_mae: 0.19385 |  0:01:24s\n"
     ]
    },
    {
     "name": "stdout",
     "output_type": "stream",
     "text": [
      "epoch 141| loss: 0.15052 | train_mse: 0.06175 | train_mae: 0.18182 |  0:01:25s\n"
     ]
    },
    {
     "name": "stdout",
     "output_type": "stream",
     "text": [
      "epoch 142| loss: 0.10937 | train_mse: 0.06642 | train_mae: 0.18476 |  0:01:25s\n"
     ]
    },
    {
     "name": "stdout",
     "output_type": "stream",
     "text": [
      "epoch 143| loss: 0.14029 | train_mse: 0.06757 | train_mae: 0.18689 |  0:01:26s\n"
     ]
    },
    {
     "name": "stdout",
     "output_type": "stream",
     "text": [
      "epoch 144| loss: 0.13676 | train_mse: 0.09977 | train_mae: 0.23033 |  0:01:26s\n"
     ]
    },
    {
     "name": "stdout",
     "output_type": "stream",
     "text": [
      "epoch 145| loss: 0.11424 | train_mse: 0.06344 | train_mae: 0.18543 |  0:01:26s\n"
     ]
    },
    {
     "name": "stdout",
     "output_type": "stream",
     "text": [
      "epoch 146| loss: 0.13623 | train_mse: 0.0784  | train_mae: 0.20465 |  0:01:27s\n"
     ]
    },
    {
     "name": "stdout",
     "output_type": "stream",
     "text": [
      "epoch 147| loss: 0.14029 | train_mse: 0.06256 | train_mae: 0.1798  |  0:01:27s\n"
     ]
    },
    {
     "name": "stdout",
     "output_type": "stream",
     "text": [
      "epoch 148| loss: 0.12169 | train_mse: 0.06786 | train_mae: 0.18901 |  0:01:28s\n"
     ]
    },
    {
     "name": "stdout",
     "output_type": "stream",
     "text": [
      "epoch 149| loss: 0.13749 | train_mse: 0.09304 | train_mae: 0.19982 |  0:01:28s\n"
     ]
    },
    {
     "name": "stdout",
     "output_type": "stream",
     "text": [
      "epoch 150| loss: 0.12799 | train_mse: 0.08563 | train_mae: 0.18769 |  0:01:29s\n"
     ]
    },
    {
     "name": "stdout",
     "output_type": "stream",
     "text": [
      "epoch 151| loss: 0.1672  | train_mse: 0.07626 | train_mae: 0.19338 |  0:01:29s\n"
     ]
    },
    {
     "name": "stdout",
     "output_type": "stream",
     "text": [
      "epoch 152| loss: 0.10946 | train_mse: 0.06514 | train_mae: 0.18183 |  0:01:30s\n"
     ]
    },
    {
     "name": "stdout",
     "output_type": "stream",
     "text": [
      "epoch 153| loss: 0.11868 | train_mse: 0.062   | train_mae: 0.18181 |  0:01:30s\n"
     ]
    },
    {
     "name": "stdout",
     "output_type": "stream",
     "text": [
      "epoch 154| loss: 0.1136  | train_mse: 0.06212 | train_mae: 0.18121 |  0:01:30s\n"
     ]
    },
    {
     "name": "stdout",
     "output_type": "stream",
     "text": [
      "epoch 155| loss: 0.09287 | train_mse: 0.06945 | train_mae: 0.19219 |  0:01:31s\n"
     ]
    },
    {
     "name": "stdout",
     "output_type": "stream",
     "text": [
      "epoch 156| loss: 0.09945 | train_mse: 0.06451 | train_mae: 0.18273 |  0:01:32s\n"
     ]
    },
    {
     "name": "stdout",
     "output_type": "stream",
     "text": [
      "epoch 157| loss: 0.13607 | train_mse: 0.08838 | train_mae: 0.20951 |  0:01:33s\n"
     ]
    },
    {
     "name": "stdout",
     "output_type": "stream",
     "text": [
      "epoch 158| loss: 0.11041 | train_mse: 0.06428 | train_mae: 0.18987 |  0:01:33s\n"
     ]
    },
    {
     "name": "stdout",
     "output_type": "stream",
     "text": [
      "epoch 159| loss: 0.11635 | train_mse: 0.06741 | train_mae: 0.19149 |  0:01:34s\n"
     ]
    },
    {
     "name": "stdout",
     "output_type": "stream",
     "text": [
      "epoch 160| loss: 0.11316 | train_mse: 0.05695 | train_mae: 0.17836 |  0:01:34s\n"
     ]
    },
    {
     "name": "stdout",
     "output_type": "stream",
     "text": [
      "epoch 161| loss: 0.11705 | train_mse: 0.05882 | train_mae: 0.17704 |  0:01:34s\n"
     ]
    },
    {
     "name": "stdout",
     "output_type": "stream",
     "text": [
      "epoch 162| loss: 0.11137 | train_mse: 0.0822  | train_mae: 0.20944 |  0:01:35s\n"
     ]
    },
    {
     "name": "stdout",
     "output_type": "stream",
     "text": [
      "epoch 163| loss: 0.12442 | train_mse: 0.05937 | train_mae: 0.17548 |  0:01:35s\n"
     ]
    },
    {
     "name": "stdout",
     "output_type": "stream",
     "text": [
      "epoch 164| loss: 0.11185 | train_mse: 0.06    | train_mae: 0.17786 |  0:01:36s\n"
     ]
    },
    {
     "name": "stdout",
     "output_type": "stream",
     "text": [
      "epoch 165| loss: 0.09551 | train_mse: 0.05768 | train_mae: 0.1695  |  0:01:36s\n"
     ]
    },
    {
     "name": "stdout",
     "output_type": "stream",
     "text": [
      "epoch 166| loss: 0.11719 | train_mse: 0.05667 | train_mae: 0.17058 |  0:01:37s\n"
     ]
    },
    {
     "name": "stdout",
     "output_type": "stream",
     "text": [
      "epoch 167| loss: 0.14301 | train_mse: 0.06219 | train_mae: 0.18146 |  0:01:38s\n"
     ]
    },
    {
     "name": "stdout",
     "output_type": "stream",
     "text": [
      "epoch 168| loss: 0.1118  | train_mse: 0.06413 | train_mae: 0.18615 |  0:01:39s\n"
     ]
    },
    {
     "name": "stdout",
     "output_type": "stream",
     "text": [
      "epoch 169| loss: 0.102   | train_mse: 0.08206 | train_mae: 0.21314 |  0:01:40s\n"
     ]
    },
    {
     "name": "stdout",
     "output_type": "stream",
     "text": [
      "epoch 170| loss: 0.11341 | train_mse: 0.06583 | train_mae: 0.19077 |  0:01:41s\n"
     ]
    },
    {
     "name": "stdout",
     "output_type": "stream",
     "text": [
      "epoch 171| loss: 0.11292 | train_mse: 0.07687 | train_mae: 0.2011  |  0:01:42s\n"
     ]
    },
    {
     "name": "stdout",
     "output_type": "stream",
     "text": [
      "epoch 172| loss: 0.13518 | train_mse: 0.06679 | train_mae: 0.19321 |  0:01:42s\n"
     ]
    },
    {
     "name": "stdout",
     "output_type": "stream",
     "text": [
      "epoch 173| loss: 0.10426 | train_mse: 0.05745 | train_mae: 0.175   |  0:01:43s\n"
     ]
    },
    {
     "name": "stdout",
     "output_type": "stream",
     "text": [
      "epoch 174| loss: 0.11871 | train_mse: 0.05051 | train_mae: 0.16591 |  0:01:43s\n"
     ]
    },
    {
     "name": "stdout",
     "output_type": "stream",
     "text": [
      "epoch 175| loss: 0.09799 | train_mse: 0.05591 | train_mae: 0.17083 |  0:01:43s\n"
     ]
    },
    {
     "name": "stdout",
     "output_type": "stream",
     "text": [
      "epoch 176| loss: 0.10594 | train_mse: 0.05355 | train_mae: 0.16699 |  0:01:44s\n"
     ]
    },
    {
     "name": "stdout",
     "output_type": "stream",
     "text": [
      "epoch 177| loss: 0.10752 | train_mse: 0.05724 | train_mae: 0.17388 |  0:01:44s\n"
     ]
    },
    {
     "name": "stdout",
     "output_type": "stream",
     "text": [
      "epoch 178| loss: 0.11329 | train_mse: 0.0572  | train_mae: 0.17704 |  0:01:45s\n"
     ]
    },
    {
     "name": "stdout",
     "output_type": "stream",
     "text": [
      "epoch 179| loss: 0.09261 | train_mse: 0.05093 | train_mae: 0.16571 |  0:01:45s\n"
     ]
    },
    {
     "name": "stdout",
     "output_type": "stream",
     "text": [
      "epoch 180| loss: 0.08979 | train_mse: 0.05499 | train_mae: 0.17228 |  0:01:45s\n"
     ]
    },
    {
     "name": "stdout",
     "output_type": "stream",
     "text": [
      "epoch 181| loss: 0.12347 | train_mse: 0.05762 | train_mae: 0.17504 |  0:01:46s\n"
     ]
    },
    {
     "name": "stdout",
     "output_type": "stream",
     "text": [
      "epoch 182| loss: 0.10388 | train_mse: 0.06028 | train_mae: 0.18058 |  0:01:46s\n"
     ]
    },
    {
     "name": "stdout",
     "output_type": "stream",
     "text": [
      "epoch 183| loss: 0.09521 | train_mse: 0.06602 | train_mae: 0.1771  |  0:01:47s\n"
     ]
    },
    {
     "name": "stdout",
     "output_type": "stream",
     "text": [
      "epoch 184| loss: 0.09849 | train_mse: 0.05381 | train_mae: 0.16517 |  0:01:47s\n"
     ]
    },
    {
     "name": "stdout",
     "output_type": "stream",
     "text": [
      "epoch 185| loss: 0.07976 | train_mse: 0.04906 | train_mae: 0.16063 |  0:01:48s\n"
     ]
    },
    {
     "name": "stdout",
     "output_type": "stream",
     "text": [
      "epoch 186| loss: 0.09505 | train_mse: 0.06155 | train_mae: 0.17855 |  0:01:48s\n"
     ]
    },
    {
     "name": "stdout",
     "output_type": "stream",
     "text": [
      "epoch 187| loss: 0.13897 | train_mse: 0.06245 | train_mae: 0.18039 |  0:01:49s\n"
     ]
    },
    {
     "name": "stdout",
     "output_type": "stream",
     "text": [
      "epoch 188| loss: 0.10849 | train_mse: 0.05389 | train_mae: 0.167   |  0:01:50s\n"
     ]
    },
    {
     "name": "stdout",
     "output_type": "stream",
     "text": [
      "epoch 189| loss: 0.10121 | train_mse: 0.06728 | train_mae: 0.19193 |  0:01:50s\n"
     ]
    },
    {
     "name": "stdout",
     "output_type": "stream",
     "text": [
      "epoch 190| loss: 0.09196 | train_mse: 0.05719 | train_mae: 0.17411 |  0:01:51s\n"
     ]
    },
    {
     "name": "stdout",
     "output_type": "stream",
     "text": [
      "epoch 191| loss: 0.11347 | train_mse: 0.06006 | train_mae: 0.17888 |  0:01:51s\n"
     ]
    },
    {
     "name": "stdout",
     "output_type": "stream",
     "text": [
      "epoch 192| loss: 0.12029 | train_mse: 0.04607 | train_mae: 0.15946 |  0:01:51s\n"
     ]
    },
    {
     "name": "stdout",
     "output_type": "stream",
     "text": [
      "epoch 193| loss: 0.10018 | train_mse: 0.05545 | train_mae: 0.17126 |  0:01:52s\n"
     ]
    },
    {
     "name": "stdout",
     "output_type": "stream",
     "text": [
      "epoch 194| loss: 0.07568 | train_mse: 0.05073 | train_mae: 0.16173 |  0:01:52s\n"
     ]
    },
    {
     "name": "stdout",
     "output_type": "stream",
     "text": [
      "epoch 195| loss: 0.1004  | train_mse: 0.05745 | train_mae: 0.17557 |  0:01:52s\n"
     ]
    },
    {
     "name": "stdout",
     "output_type": "stream",
     "text": [
      "epoch 196| loss: 0.12642 | train_mse: 0.06198 | train_mae: 0.18206 |  0:01:53s\n"
     ]
    },
    {
     "name": "stdout",
     "output_type": "stream",
     "text": [
      "epoch 197| loss: 0.1057  | train_mse: 0.05852 | train_mae: 0.1756  |  0:01:53s\n"
     ]
    },
    {
     "name": "stdout",
     "output_type": "stream",
     "text": [
      "epoch 198| loss: 0.11217 | train_mse: 0.06552 | train_mae: 0.19231 |  0:01:54s\n"
     ]
    },
    {
     "name": "stdout",
     "output_type": "stream",
     "text": [
      "epoch 199| loss: 0.08631 | train_mse: 0.054   | train_mae: 0.17276 |  0:01:54s\n"
     ]
    },
    {
     "name": "stdout",
     "output_type": "stream",
     "text": [
      "epoch 200| loss: 0.07909 | train_mse: 0.05028 | train_mae: 0.16874 |  0:01:55s\n"
     ]
    },
    {
     "name": "stdout",
     "output_type": "stream",
     "text": [
      "epoch 201| loss: 0.09972 | train_mse: 0.05081 | train_mae: 0.16866 |  0:01:55s\n"
     ]
    },
    {
     "name": "stdout",
     "output_type": "stream",
     "text": [
      "epoch 202| loss: 0.09129 | train_mse: 0.0501  | train_mae: 0.16541 |  0:01:56s\n"
     ]
    },
    {
     "name": "stdout",
     "output_type": "stream",
     "text": [
      "epoch 203| loss: 0.10927 | train_mse: 0.05788 | train_mae: 0.17833 |  0:01:56s\n"
     ]
    },
    {
     "name": "stdout",
     "output_type": "stream",
     "text": [
      "epoch 204| loss: 0.08796 | train_mse: 0.04644 | train_mae: 0.16428 |  0:01:57s\n"
     ]
    },
    {
     "name": "stdout",
     "output_type": "stream",
     "text": [
      "epoch 205| loss: 0.09738 | train_mse: 0.0509  | train_mae: 0.17145 |  0:01:57s\n"
     ]
    },
    {
     "name": "stdout",
     "output_type": "stream",
     "text": [
      "epoch 206| loss: 0.10428 | train_mse: 0.0473  | train_mae: 0.16396 |  0:01:58s\n"
     ]
    },
    {
     "name": "stdout",
     "output_type": "stream",
     "text": [
      "epoch 207| loss: 0.09303 | train_mse: 0.04642 | train_mae: 0.16037 |  0:01:59s\n"
     ]
    },
    {
     "name": "stdout",
     "output_type": "stream",
     "text": [
      "epoch 208| loss: 0.08493 | train_mse: 0.06379 | train_mae: 0.18375 |  0:01:59s\n"
     ]
    },
    {
     "name": "stdout",
     "output_type": "stream",
     "text": [
      "epoch 209| loss: 0.10378 | train_mse: 0.05474 | train_mae: 0.1708  |  0:01:59s\n"
     ]
    },
    {
     "name": "stdout",
     "output_type": "stream",
     "text": [
      "epoch 210| loss: 0.12388 | train_mse: 0.04956 | train_mae: 0.17071 |  0:02:00s\n"
     ]
    },
    {
     "name": "stdout",
     "output_type": "stream",
     "text": [
      "epoch 211| loss: 0.09281 | train_mse: 0.06676 | train_mae: 0.19068 |  0:02:00s\n"
     ]
    },
    {
     "name": "stdout",
     "output_type": "stream",
     "text": [
      "epoch 212| loss: 0.11579 | train_mse: 0.053   | train_mae: 0.17187 |  0:02:01s\n"
     ]
    },
    {
     "name": "stdout",
     "output_type": "stream",
     "text": [
      "epoch 213| loss: 0.08345 | train_mse: 0.04808 | train_mae: 0.16498 |  0:02:01s\n"
     ]
    },
    {
     "name": "stdout",
     "output_type": "stream",
     "text": [
      "epoch 214| loss: 0.11204 | train_mse: 0.05809 | train_mae: 0.17768 |  0:02:02s\n"
     ]
    },
    {
     "name": "stdout",
     "output_type": "stream",
     "text": [
      "epoch 215| loss: 0.11328 | train_mse: 0.06306 | train_mae: 0.1818  |  0:02:02s\n"
     ]
    },
    {
     "name": "stdout",
     "output_type": "stream",
     "text": [
      "epoch 216| loss: 0.07538 | train_mse: 0.05766 | train_mae: 0.16826 |  0:02:03s\n"
     ]
    },
    {
     "name": "stdout",
     "output_type": "stream",
     "text": [
      "epoch 217| loss: 0.10178 | train_mse: 0.05325 | train_mae: 0.16779 |  0:02:03s\n"
     ]
    },
    {
     "name": "stdout",
     "output_type": "stream",
     "text": [
      "epoch 218| loss: 0.09124 | train_mse: 0.04942 | train_mae: 0.15827 |  0:02:04s\n"
     ]
    },
    {
     "name": "stdout",
     "output_type": "stream",
     "text": [
      "epoch 219| loss: 0.09517 | train_mse: 0.05759 | train_mae: 0.1738  |  0:02:04s\n"
     ]
    },
    {
     "name": "stdout",
     "output_type": "stream",
     "text": [
      "epoch 220| loss: 0.10669 | train_mse: 0.05465 | train_mae: 0.16821 |  0:02:05s\n"
     ]
    },
    {
     "name": "stdout",
     "output_type": "stream",
     "text": [
      "epoch 221| loss: 0.07516 | train_mse: 0.04525 | train_mae: 0.15723 |  0:02:05s\n"
     ]
    },
    {
     "name": "stdout",
     "output_type": "stream",
     "text": [
      "epoch 222| loss: 0.09004 | train_mse: 0.05597 | train_mae: 0.17293 |  0:02:06s\n"
     ]
    },
    {
     "name": "stdout",
     "output_type": "stream",
     "text": [
      "epoch 223| loss: 0.0899  | train_mse: 0.06412 | train_mae: 0.17505 |  0:02:06s\n"
     ]
    },
    {
     "name": "stdout",
     "output_type": "stream",
     "text": [
      "epoch 224| loss: 0.09829 | train_mse: 0.06144 | train_mae: 0.18473 |  0:02:07s\n"
     ]
    },
    {
     "name": "stdout",
     "output_type": "stream",
     "text": [
      "epoch 225| loss: 0.12379 | train_mse: 0.06297 | train_mae: 0.18547 |  0:02:08s\n"
     ]
    },
    {
     "name": "stdout",
     "output_type": "stream",
     "text": [
      "epoch 226| loss: 0.09118 | train_mse: 0.06088 | train_mae: 0.17956 |  0:02:08s\n"
     ]
    },
    {
     "name": "stdout",
     "output_type": "stream",
     "text": [
      "epoch 227| loss: 0.09953 | train_mse: 0.05916 | train_mae: 0.17879 |  0:02:08s\n"
     ]
    },
    {
     "name": "stdout",
     "output_type": "stream",
     "text": [
      "epoch 228| loss: 0.11027 | train_mse: 0.05009 | train_mae: 0.1619  |  0:02:09s\n"
     ]
    },
    {
     "name": "stdout",
     "output_type": "stream",
     "text": [
      "epoch 229| loss: 0.10481 | train_mse: 0.05462 | train_mae: 0.1762  |  0:02:09s\n"
     ]
    },
    {
     "name": "stdout",
     "output_type": "stream",
     "text": [
      "epoch 230| loss: 0.11601 | train_mse: 0.07928 | train_mae: 0.19145 |  0:02:09s\n"
     ]
    },
    {
     "name": "stdout",
     "output_type": "stream",
     "text": [
      "epoch 231| loss: 0.16325 | train_mse: 0.07894 | train_mae: 0.19418 |  0:02:10s\n"
     ]
    },
    {
     "name": "stdout",
     "output_type": "stream",
     "text": [
      "epoch 232| loss: 0.12952 | train_mse: 0.07426 | train_mae: 0.19404 |  0:02:11s\n"
     ]
    },
    {
     "name": "stdout",
     "output_type": "stream",
     "text": [
      "epoch 233| loss: 0.12514 | train_mse: 0.08742 | train_mae: 0.20845 |  0:02:12s\n"
     ]
    },
    {
     "name": "stdout",
     "output_type": "stream",
     "text": [
      "epoch 234| loss: 0.14701 | train_mse: 0.06377 | train_mae: 0.1896  |  0:02:12s\n"
     ]
    },
    {
     "name": "stdout",
     "output_type": "stream",
     "text": [
      "epoch 235| loss: 0.09714 | train_mse: 0.05187 | train_mae: 0.16624 |  0:02:13s\n"
     ]
    },
    {
     "name": "stdout",
     "output_type": "stream",
     "text": [
      "epoch 236| loss: 0.1172  | train_mse: 0.05979 | train_mae: 0.17654 |  0:02:14s\n"
     ]
    },
    {
     "name": "stdout",
     "output_type": "stream",
     "text": [
      "epoch 237| loss: 0.13057 | train_mse: 0.05097 | train_mae: 0.16601 |  0:02:14s\n"
     ]
    },
    {
     "name": "stdout",
     "output_type": "stream",
     "text": [
      "epoch 238| loss: 0.12125 | train_mse: 0.04987 | train_mae: 0.16517 |  0:02:15s\n"
     ]
    },
    {
     "name": "stdout",
     "output_type": "stream",
     "text": [
      "epoch 239| loss: 0.09714 | train_mse: 0.04399 | train_mae: 0.15633 |  0:02:15s\n"
     ]
    },
    {
     "name": "stdout",
     "output_type": "stream",
     "text": [
      "epoch 240| loss: 0.07061 | train_mse: 0.04614 | train_mae: 0.16207 |  0:02:15s\n"
     ]
    },
    {
     "name": "stdout",
     "output_type": "stream",
     "text": [
      "epoch 241| loss: 0.08915 | train_mse: 0.05028 | train_mae: 0.16611 |  0:02:16s\n"
     ]
    },
    {
     "name": "stdout",
     "output_type": "stream",
     "text": [
      "epoch 242| loss: 0.09308 | train_mse: 0.0503  | train_mae: 0.16546 |  0:02:16s\n"
     ]
    },
    {
     "name": "stdout",
     "output_type": "stream",
     "text": [
      "epoch 243| loss: 0.06918 | train_mse: 0.0543  | train_mae: 0.17215 |  0:02:16s\n"
     ]
    },
    {
     "name": "stdout",
     "output_type": "stream",
     "text": [
      "epoch 244| loss: 0.07356 | train_mse: 0.05746 | train_mae: 0.17466 |  0:02:17s\n"
     ]
    },
    {
     "name": "stdout",
     "output_type": "stream",
     "text": [
      "epoch 245| loss: 0.08244 | train_mse: 0.0439  | train_mae: 0.15371 |  0:02:17s\n"
     ]
    },
    {
     "name": "stdout",
     "output_type": "stream",
     "text": [
      "epoch 246| loss: 0.12719 | train_mse: 0.07177 | train_mae: 0.18536 |  0:02:17s\n"
     ]
    },
    {
     "name": "stdout",
     "output_type": "stream",
     "text": [
      "epoch 247| loss: 0.09106 | train_mse: 0.0539  | train_mae: 0.17175 |  0:02:18s\n"
     ]
    },
    {
     "name": "stdout",
     "output_type": "stream",
     "text": [
      "epoch 248| loss: 0.09009 | train_mse: 0.0456  | train_mae: 0.15978 |  0:02:18s\n"
     ]
    },
    {
     "name": "stdout",
     "output_type": "stream",
     "text": [
      "epoch 249| loss: 0.08535 | train_mse: 0.04714 | train_mae: 0.16472 |  0:02:19s\n"
     ]
    },
    {
     "name": "stdout",
     "output_type": "stream",
     "text": [
      "epoch 250| loss: 0.08571 | train_mse: 0.04617 | train_mae: 0.15997 |  0:02:19s\n"
     ]
    },
    {
     "name": "stdout",
     "output_type": "stream",
     "text": [
      "epoch 251| loss: 0.08429 | train_mse: 0.0448  | train_mae: 0.15882 |  0:02:19s\n"
     ]
    },
    {
     "name": "stdout",
     "output_type": "stream",
     "text": [
      "epoch 252| loss: 0.07956 | train_mse: 0.0453  | train_mae: 0.15743 |  0:02:20s\n"
     ]
    },
    {
     "name": "stdout",
     "output_type": "stream",
     "text": [
      "epoch 253| loss: 0.09206 | train_mse: 0.05283 | train_mae: 0.17302 |  0:02:20s\n"
     ]
    },
    {
     "name": "stdout",
     "output_type": "stream",
     "text": [
      "epoch 254| loss: 0.07278 | train_mse: 0.04155 | train_mae: 0.15023 |  0:02:21s\n"
     ]
    },
    {
     "name": "stdout",
     "output_type": "stream",
     "text": [
      "epoch 255| loss: 0.13163 | train_mse: 0.0607  | train_mae: 0.18522 |  0:02:21s\n"
     ]
    },
    {
     "name": "stdout",
     "output_type": "stream",
     "text": [
      "epoch 256| loss: 0.11007 | train_mse: 0.04858 | train_mae: 0.16355 |  0:02:22s\n"
     ]
    },
    {
     "name": "stdout",
     "output_type": "stream",
     "text": [
      "epoch 257| loss: 0.09426 | train_mse: 0.04919 | train_mae: 0.16126 |  0:02:22s\n"
     ]
    },
    {
     "name": "stdout",
     "output_type": "stream",
     "text": [
      "epoch 258| loss: 0.11695 | train_mse: 0.05218 | train_mae: 0.16969 |  0:02:24s\n"
     ]
    },
    {
     "name": "stdout",
     "output_type": "stream",
     "text": [
      "epoch 259| loss: 0.07957 | train_mse: 0.04398 | train_mae: 0.15684 |  0:02:24s\n"
     ]
    },
    {
     "name": "stdout",
     "output_type": "stream",
     "text": [
      "epoch 260| loss: 0.11296 | train_mse: 0.04656 | train_mae: 0.1636  |  0:02:25s\n"
     ]
    },
    {
     "name": "stdout",
     "output_type": "stream",
     "text": [
      "epoch 261| loss: 0.11363 | train_mse: 0.05771 | train_mae: 0.17788 |  0:02:25s\n"
     ]
    },
    {
     "name": "stdout",
     "output_type": "stream",
     "text": [
      "epoch 262| loss: 0.12466 | train_mse: 0.08768 | train_mae: 0.22105 |  0:02:26s\n"
     ]
    },
    {
     "name": "stdout",
     "output_type": "stream",
     "text": [
      "epoch 263| loss: 0.10602 | train_mse: 0.05955 | train_mae: 0.17996 |  0:02:26s\n"
     ]
    },
    {
     "name": "stdout",
     "output_type": "stream",
     "text": [
      "epoch 264| loss: 0.1083  | train_mse: 0.056   | train_mae: 0.17385 |  0:02:27s\n"
     ]
    },
    {
     "name": "stdout",
     "output_type": "stream",
     "text": [
      "epoch 265| loss: 0.10176 | train_mse: 0.05216 | train_mae: 0.17097 |  0:02:27s\n"
     ]
    },
    {
     "name": "stdout",
     "output_type": "stream",
     "text": [
      "epoch 266| loss: 0.08954 | train_mse: 0.05028 | train_mae: 0.16466 |  0:02:27s\n"
     ]
    },
    {
     "name": "stdout",
     "output_type": "stream",
     "text": [
      "epoch 267| loss: 0.10174 | train_mse: 0.05342 | train_mae: 0.17032 |  0:02:28s\n"
     ]
    },
    {
     "name": "stdout",
     "output_type": "stream",
     "text": [
      "epoch 268| loss: 0.13415 | train_mse: 0.05712 | train_mae: 0.17457 |  0:02:28s\n"
     ]
    },
    {
     "name": "stdout",
     "output_type": "stream",
     "text": [
      "epoch 269| loss: 0.09032 | train_mse: 0.05155 | train_mae: 0.16291 |  0:02:28s\n"
     ]
    },
    {
     "name": "stdout",
     "output_type": "stream",
     "text": [
      "epoch 270| loss: 0.09121 | train_mse: 0.0594  | train_mae: 0.17755 |  0:02:29s\n"
     ]
    },
    {
     "name": "stdout",
     "output_type": "stream",
     "text": [
      "epoch 271| loss: 0.09194 | train_mse: 0.05975 | train_mae: 0.1795  |  0:02:29s\n"
     ]
    },
    {
     "name": "stdout",
     "output_type": "stream",
     "text": [
      "epoch 272| loss: 0.0967  | train_mse: 0.07354 | train_mae: 0.1981  |  0:02:29s\n"
     ]
    },
    {
     "name": "stdout",
     "output_type": "stream",
     "text": [
      "epoch 273| loss: 0.10053 | train_mse: 0.06581 | train_mae: 0.18653 |  0:02:30s\n"
     ]
    },
    {
     "name": "stdout",
     "output_type": "stream",
     "text": [
      "epoch 274| loss: 0.09742 | train_mse: 0.06833 | train_mae: 0.18676 |  0:02:30s\n"
     ]
    },
    {
     "name": "stdout",
     "output_type": "stream",
     "text": [
      "epoch 275| loss: 0.11123 | train_mse: 0.0579  | train_mae: 0.1777  |  0:02:30s\n"
     ]
    },
    {
     "name": "stdout",
     "output_type": "stream",
     "text": [
      "epoch 276| loss: 0.08104 | train_mse: 0.06003 | train_mae: 0.18076 |  0:02:30s\n"
     ]
    },
    {
     "name": "stdout",
     "output_type": "stream",
     "text": [
      "epoch 277| loss: 0.09523 | train_mse: 0.04537 | train_mae: 0.15997 |  0:02:31s\n"
     ]
    },
    {
     "name": "stdout",
     "output_type": "stream",
     "text": [
      "epoch 278| loss: 0.09433 | train_mse: 0.04424 | train_mae: 0.15822 |  0:02:31s\n"
     ]
    },
    {
     "name": "stdout",
     "output_type": "stream",
     "text": [
      "epoch 279| loss: 0.07834 | train_mse: 0.04808 | train_mae: 0.16366 |  0:02:31s\n"
     ]
    },
    {
     "name": "stdout",
     "output_type": "stream",
     "text": [
      "epoch 280| loss: 0.08665 | train_mse: 0.05301 | train_mae: 0.17045 |  0:02:32s\n"
     ]
    },
    {
     "name": "stdout",
     "output_type": "stream",
     "text": [
      "epoch 281| loss: 0.0956  | train_mse: 0.0534  | train_mae: 0.16456 |  0:02:32s\n"
     ]
    },
    {
     "name": "stdout",
     "output_type": "stream",
     "text": [
      "epoch 282| loss: 0.08851 | train_mse: 0.04628 | train_mae: 0.15811 |  0:02:32s\n"
     ]
    },
    {
     "name": "stdout",
     "output_type": "stream",
     "text": [
      "epoch 283| loss: 0.08618 | train_mse: 0.05519 | train_mae: 0.17108 |  0:02:33s\n"
     ]
    },
    {
     "name": "stdout",
     "output_type": "stream",
     "text": [
      "epoch 284| loss: 0.1034  | train_mse: 0.04523 | train_mae: 0.15242 |  0:02:33s\n"
     ]
    },
    {
     "name": "stdout",
     "output_type": "stream",
     "text": [
      "epoch 285| loss: 0.09016 | train_mse: 0.04699 | train_mae: 0.15838 |  0:02:33s\n"
     ]
    },
    {
     "name": "stdout",
     "output_type": "stream",
     "text": [
      "epoch 286| loss: 0.09061 | train_mse: 0.04131 | train_mae: 0.14783 |  0:02:33s\n"
     ]
    },
    {
     "name": "stdout",
     "output_type": "stream",
     "text": [
      "epoch 287| loss: 0.08955 | train_mse: 0.05256 | train_mae: 0.17184 |  0:02:34s\n"
     ]
    },
    {
     "name": "stdout",
     "output_type": "stream",
     "text": [
      "epoch 288| loss: 0.10859 | train_mse: 0.04959 | train_mae: 0.16453 |  0:02:34s\n"
     ]
    },
    {
     "name": "stdout",
     "output_type": "stream",
     "text": [
      "epoch 289| loss: 0.09403 | train_mse: 0.06375 | train_mae: 0.18747 |  0:02:34s\n"
     ]
    },
    {
     "name": "stdout",
     "output_type": "stream",
     "text": [
      "epoch 290| loss: 0.08754 | train_mse: 0.05401 | train_mae: 0.17354 |  0:02:35s\n"
     ]
    },
    {
     "name": "stdout",
     "output_type": "stream",
     "text": [
      "epoch 291| loss: 0.08139 | train_mse: 0.05087 | train_mae: 0.16927 |  0:02:35s\n"
     ]
    },
    {
     "name": "stdout",
     "output_type": "stream",
     "text": [
      "epoch 292| loss: 0.08763 | train_mse: 0.05035 | train_mae: 0.16472 |  0:02:35s\n"
     ]
    },
    {
     "name": "stdout",
     "output_type": "stream",
     "text": [
      "epoch 293| loss: 0.08657 | train_mse: 0.05051 | train_mae: 0.17018 |  0:02:36s\n"
     ]
    },
    {
     "name": "stdout",
     "output_type": "stream",
     "text": [
      "epoch 294| loss: 0.11706 | train_mse: 0.04488 | train_mae: 0.15772 |  0:02:36s\n"
     ]
    },
    {
     "name": "stdout",
     "output_type": "stream",
     "text": [
      "epoch 295| loss: 0.07964 | train_mse: 0.0495  | train_mae: 0.16496 |  0:02:36s\n"
     ]
    },
    {
     "name": "stdout",
     "output_type": "stream",
     "text": [
      "epoch 296| loss: 0.09378 | train_mse: 0.04277 | train_mae: 0.15102 |  0:02:36s\n"
     ]
    },
    {
     "name": "stdout",
     "output_type": "stream",
     "text": [
      "epoch 297| loss: 0.08083 | train_mse: 0.04654 | train_mae: 0.16063 |  0:02:37s\n"
     ]
    },
    {
     "name": "stdout",
     "output_type": "stream",
     "text": [
      "epoch 298| loss: 0.08768 | train_mse: 0.04931 | train_mae: 0.16109 |  0:02:37s\n"
     ]
    },
    {
     "name": "stdout",
     "output_type": "stream",
     "text": [
      "epoch 299| loss: 0.0941  | train_mse: 0.04491 | train_mae: 0.15793 |  0:02:38s\n"
     ]
    },
    {
     "name": "stdout",
     "output_type": "stream",
     "text": [
      "epoch 300| loss: 0.07936 | train_mse: 0.04134 | train_mae: 0.14992 |  0:02:38s\n"
     ]
    },
    {
     "name": "stdout",
     "output_type": "stream",
     "text": [
      "epoch 301| loss: 0.10126 | train_mse: 0.04905 | train_mae: 0.16671 |  0:02:39s\n"
     ]
    },
    {
     "name": "stdout",
     "output_type": "stream",
     "text": [
      "epoch 302| loss: 0.08273 | train_mse: 0.04831 | train_mae: 0.16616 |  0:02:39s\n"
     ]
    },
    {
     "name": "stdout",
     "output_type": "stream",
     "text": [
      "epoch 303| loss: 0.08026 | train_mse: 0.04657 | train_mae: 0.16095 |  0:02:40s\n"
     ]
    },
    {
     "name": "stdout",
     "output_type": "stream",
     "text": [
      "epoch 304| loss: 0.11852 | train_mse: 0.0681  | train_mae: 0.18779 |  0:02:40s\n"
     ]
    },
    {
     "name": "stdout",
     "output_type": "stream",
     "text": [
      "epoch 305| loss: 0.09086 | train_mse: 0.05295 | train_mae: 0.16219 |  0:02:41s\n"
     ]
    },
    {
     "name": "stdout",
     "output_type": "stream",
     "text": [
      "epoch 306| loss: 0.10673 | train_mse: 0.05715 | train_mae: 0.1707  |  0:02:42s\n"
     ]
    },
    {
     "name": "stdout",
     "output_type": "stream",
     "text": [
      "epoch 307| loss: 0.07713 | train_mse: 0.05616 | train_mae: 0.17353 |  0:02:43s\n"
     ]
    },
    {
     "name": "stdout",
     "output_type": "stream",
     "text": [
      "epoch 308| loss: 0.12739 | train_mse: 0.05331 | train_mae: 0.16803 |  0:02:43s\n"
     ]
    },
    {
     "name": "stdout",
     "output_type": "stream",
     "text": [
      "epoch 309| loss: 0.08742 | train_mse: 0.0596  | train_mae: 0.1817  |  0:02:44s\n"
     ]
    },
    {
     "name": "stdout",
     "output_type": "stream",
     "text": [
      "epoch 310| loss: 0.07921 | train_mse: 0.05367 | train_mae: 0.17258 |  0:02:45s\n"
     ]
    },
    {
     "name": "stdout",
     "output_type": "stream",
     "text": [
      "epoch 311| loss: 0.07974 | train_mse: 0.05166 | train_mae: 0.16753 |  0:02:45s\n"
     ]
    },
    {
     "name": "stdout",
     "output_type": "stream",
     "text": [
      "epoch 312| loss: 0.11523 | train_mse: 0.04745 | train_mae: 0.16028 |  0:02:46s\n"
     ]
    },
    {
     "name": "stdout",
     "output_type": "stream",
     "text": [
      "epoch 313| loss: 0.08183 | train_mse: 0.04511 | train_mae: 0.15987 |  0:02:46s\n"
     ]
    },
    {
     "name": "stdout",
     "output_type": "stream",
     "text": [
      "epoch 314| loss: 0.07064 | train_mse: 0.04542 | train_mae: 0.15967 |  0:02:47s\n"
     ]
    },
    {
     "name": "stdout",
     "output_type": "stream",
     "text": [
      "epoch 315| loss: 0.08945 | train_mse: 0.05098 | train_mae: 0.16975 |  0:02:47s\n"
     ]
    },
    {
     "name": "stdout",
     "output_type": "stream",
     "text": [
      "epoch 316| loss: 0.07657 | train_mse: 0.05066 | train_mae: 0.16534 |  0:02:47s\n"
     ]
    },
    {
     "name": "stdout",
     "output_type": "stream",
     "text": [
      "epoch 317| loss: 0.08057 | train_mse: 0.04856 | train_mae: 0.16643 |  0:02:48s\n"
     ]
    },
    {
     "name": "stdout",
     "output_type": "stream",
     "text": [
      "epoch 318| loss: 0.07579 | train_mse: 0.05219 | train_mae: 0.16772 |  0:02:48s\n"
     ]
    },
    {
     "name": "stdout",
     "output_type": "stream",
     "text": [
      "epoch 319| loss: 0.07991 | train_mse: 0.04856 | train_mae: 0.16449 |  0:02:48s\n"
     ]
    },
    {
     "name": "stdout",
     "output_type": "stream",
     "text": [
      "epoch 320| loss: 0.10228 | train_mse: 0.05667 | train_mae: 0.17875 |  0:02:49s\n"
     ]
    },
    {
     "name": "stdout",
     "output_type": "stream",
     "text": [
      "epoch 321| loss: 0.11662 | train_mse: 0.05477 | train_mae: 0.17682 |  0:02:49s\n"
     ]
    },
    {
     "name": "stdout",
     "output_type": "stream",
     "text": [
      "epoch 322| loss: 0.0992  | train_mse: 0.05036 | train_mae: 0.16999 |  0:02:49s\n"
     ]
    },
    {
     "name": "stdout",
     "output_type": "stream",
     "text": [
      "epoch 323| loss: 0.09546 | train_mse: 0.05042 | train_mae: 0.16959 |  0:02:50s\n"
     ]
    },
    {
     "name": "stdout",
     "output_type": "stream",
     "text": [
      "epoch 324| loss: 0.10631 | train_mse: 0.05271 | train_mae: 0.17428 |  0:02:50s\n"
     ]
    },
    {
     "name": "stdout",
     "output_type": "stream",
     "text": [
      "epoch 325| loss: 0.07373 | train_mse: 0.05007 | train_mae: 0.16671 |  0:02:50s\n"
     ]
    },
    {
     "name": "stdout",
     "output_type": "stream",
     "text": [
      "epoch 326| loss: 0.10029 | train_mse: 0.04769 | train_mae: 0.15913 |  0:02:50s\n"
     ]
    },
    {
     "name": "stdout",
     "output_type": "stream",
     "text": [
      "epoch 327| loss: 0.08229 | train_mse: 0.04749 | train_mae: 0.16324 |  0:02:51s\n"
     ]
    },
    {
     "name": "stdout",
     "output_type": "stream",
     "text": [
      "epoch 328| loss: 0.08037 | train_mse: 0.04975 | train_mae: 0.15926 |  0:02:51s\n"
     ]
    },
    {
     "name": "stdout",
     "output_type": "stream",
     "text": [
      "epoch 329| loss: 0.10665 | train_mse: 0.05195 | train_mae: 0.16442 |  0:02:51s\n"
     ]
    },
    {
     "name": "stdout",
     "output_type": "stream",
     "text": [
      "epoch 330| loss: 0.0682  | train_mse: 0.06243 | train_mae: 0.18108 |  0:02:52s\n"
     ]
    },
    {
     "name": "stdout",
     "output_type": "stream",
     "text": [
      "epoch 331| loss: 0.09008 | train_mse: 0.05439 | train_mae: 0.16984 |  0:02:52s\n"
     ]
    },
    {
     "name": "stdout",
     "output_type": "stream",
     "text": [
      "epoch 332| loss: 0.08491 | train_mse: 0.06207 | train_mae: 0.18622 |  0:02:52s\n"
     ]
    },
    {
     "name": "stdout",
     "output_type": "stream",
     "text": [
      "epoch 333| loss: 0.09937 | train_mse: 0.06215 | train_mae: 0.18796 |  0:02:53s\n"
     ]
    },
    {
     "name": "stdout",
     "output_type": "stream",
     "text": [
      "epoch 334| loss: 0.09378 | train_mse: 0.04905 | train_mae: 0.16145 |  0:02:53s\n"
     ]
    },
    {
     "name": "stdout",
     "output_type": "stream",
     "text": [
      "epoch 335| loss: 0.08898 | train_mse: 0.04778 | train_mae: 0.16022 |  0:02:54s\n"
     ]
    },
    {
     "name": "stdout",
     "output_type": "stream",
     "text": [
      "epoch 336| loss: 0.08636 | train_mse: 0.04548 | train_mae: 0.16125 |  0:02:54s\n",
      "\n",
      "Early stopping occurred at epoch 336 with best_epoch = 286 and best_train_mae = 0.14783\n",
      "Best weights from best epoch are automatically used!\n",
      "BEST VALID SCORE FOR dataset : 0.14782577381918352\n",
      "FINAL TEST SCORE FOR dataset: 0.29831429118116126\n",
      "{'loss': [2.635485796645136, 0.7709740010818632, 0.5090683958317974, 0.4332098099264768, 0.3773847242983261, 0.3903232330437934, 0.3993675177640254, 0.3638690701215574, 0.2907683288696969, 0.23927806325183057, 0.25750533867590497, 0.2699348284761504, 0.24048729344169692, 0.2527451618473128, 0.3032414736133991, 0.21939210283874286, 0.27243102245991774, 0.2365350077057829, 0.2376558774768716, 0.2456325634871379, 0.1992828227800898, 0.22108634081807468, 0.21098997834885475, 0.24435078950211553, 0.17539845834864248, 0.17976473861991768, 0.23015620441424964, 0.19908065592298413, 0.1943827218348437, 0.17415987530557236, 0.16898461674699689, 0.17301528111542805, 0.20062122014489506, 0.18505667917209095, 0.1754121402702709, 0.18840791137501745, 0.15982333902675327, 0.1940500290677099, 0.16400508036707886, 0.21881001641844758, 0.1950370214953281, 0.21644797773644475, 0.16000259276663903, 0.16454691447243833, 0.18955764956403487, 0.15457754080543423, 0.19903847206347058, 0.17520187219770827, 0.15167808259772783, 0.19385938169342457, 0.1737277348442833, 0.16259559826685652, 0.17836470592139972, 0.21409184743862342, 0.18026837171746954, 0.16542208556196478, 0.18119608647752516, 0.14847084680701247, 0.16956959672198438, 0.16479790505796377, 0.1440812676849932, 0.16573215032568073, 0.1576363608093545, 0.17834854155483812, 0.144759729357049, 0.1558266574203378, 0.1566025269503641, 0.19359402166734827, 0.15091028470214052, 0.14593056685263567, 0.12048110660940113, 0.19588699258200012, 0.1574271814067765, 0.13530642111407648, 0.140287780083052, 0.11726163674404125, 0.1315022203886863, 0.15600864899040448, 0.147459610854045, 0.14695768486155142, 0.15816447227308067, 0.10908704442848073, 0.1414301082639411, 0.14307222596489558, 0.1512660776624585, 0.13483899923982007, 0.14609152314686538, 0.1465411826525584, 0.1432494720314989, 0.18996497324787745, 0.15504862235324218, 0.1483510369711583, 0.1300329061427919, 0.14365787494300616, 0.16680925405851685, 0.13865189619436122, 0.15182653644887528, 0.12524925209213011, 0.15239736585333796, 0.10917317660728304, 0.1517401674006245, 0.1269769813164626, 0.13451614843146634, 0.14676882688066747, 0.1226689842077765, 0.11695055545556664, 0.13216517334527308, 0.1437114654201092, 0.13021526242246723, 0.1431773588208869, 0.1364319386458633, 0.1354029697946983, 0.14644807355828804, 0.1359124182179423, 0.13336278859636572, 0.14488737152354553, 0.11623836242326416, 0.15219040967450284, 0.13374673560409261, 0.11828732239727927, 0.1205319095366072, 0.13093013368030587, 0.17742565451282086, 0.15739602971785138, 0.12900640808119632, 0.12584660327670597, 0.1347754181611656, 0.1248209815804321, 0.1583298435158068, 0.12429630284262176, 0.11504204113884728, 0.10341032513297431, 0.13440047971682972, 0.11595174611204921, 0.11672550299675158, 0.14573155332467344, 0.09615647733801662, 0.11623436478104922, 0.10887171221103999, 0.1268183426691754, 0.13366053880441306, 0.1505238473562911, 0.10936864435967833, 0.14028974216763335, 0.13676226530039665, 0.11423835822261207, 0.13622938258813158, 0.14029278392248815, 0.12168896493345203, 0.13749186325781415, 0.12799232578513645, 0.16719742525036974, 0.10945645837795616, 0.11867546238521538, 0.11359515048489713, 0.09287293174184195, 0.0994490961184596, 0.13607442954389176, 0.11041387517263393, 0.11634773853244168, 0.11315712207319713, 0.11704598795069326, 0.11137081712189287, 0.1244170758688804, 0.11184834666771463, 0.09551209056436426, 0.1171915002240993, 0.14300705433481992, 0.11179787134475047, 0.10199698289432148, 0.11340951240888916, 0.11292314013042072, 0.1351823629719196, 0.10426147311630815, 0.11870730749451287, 0.09799473968767884, 0.10594271868467331, 0.10751638819675634, 0.11328970117144066, 0.0926052036483099, 0.08979431827469628, 0.12346642678326898, 0.10388453422796608, 0.09520993695253192, 0.09849076725468778, 0.0797623614273449, 0.09504896015076354, 0.13897378403361482, 0.10848618649167589, 0.10120740068135875, 0.09196369615521761, 0.1134705843754334, 0.12028622420707552, 0.10018141154605563, 0.07568097689954359, 0.10039979012885897, 0.12641563952559293, 0.10569585092587046, 0.11216544654994907, 0.08631154658770797, 0.07909292026911632, 0.09972251228766867, 0.09128666226521577, 0.10926521517852746, 0.08795775532132329, 0.09737851345303035, 0.1042792471771193, 0.09302870328030964, 0.08492834216887409, 0.1037849199653852, 0.12388231937247927, 0.09280749192774886, 0.11578719465449305, 0.08345064756893876, 0.1120368498976868, 0.11328411795715294, 0.0753824778712622, 0.10177654913156339, 0.09123743967254563, 0.09516872491429348, 0.10669266734973039, 0.07516044540570514, 0.09003806047805465, 0.08989677216747019, 0.09828892851820087, 0.12378616771190473, 0.09117629740497854, 0.0995286619014079, 0.11027201316734352, 0.10481154461308281, 0.1160068928015114, 0.16325459120297195, 0.12951955199241638, 0.12514042028106084, 0.14701489890270894, 0.09713782200423798, 0.11719650896911574, 0.13057148456573486, 0.12124505403018233, 0.09713771784364587, 0.07060718016311673, 0.08915000416264676, 0.09307642989229448, 0.06918323703921668, 0.07356226612066868, 0.08243682951030165, 0.12719145218039504, 0.09105617372263776, 0.09008932880835958, 0.08534503835115102, 0.08570926286058851, 0.08428826002348767, 0.07955763407863013, 0.09205954440749518, 0.07278318636783279, 0.1316292887867087, 0.11006755027735587, 0.09425922520089858, 0.11694607905822225, 0.07956666698550234, 0.11296086485433106, 0.11363119978715877, 0.12465956239121975, 0.10602266629143517, 0.10829626849972375, 0.10175833460127953, 0.08954443863712915, 0.1017407330841121, 0.13415163784924122, 0.09031887145915835, 0.09121162134526979, 0.09193599666699323, 0.09670202375048458, 0.10052969491127695, 0.09741618816215213, 0.1112252838245713, 0.08104315647246814, 0.09523086190813838, 0.09432783457312253, 0.07833761980037877, 0.08664764065553646, 0.09559742103118708, 0.08851084334425408, 0.0861765527636698, 0.10340100939911191, 0.09015854355869907, 0.09061384942419458, 0.08954838287122178, 0.10859426435562644, 0.09403022843422276, 0.08754415070582734, 0.08139290682750173, 0.08763120625868882, 0.08657279618010663, 0.11706467695755533, 0.07964229532102547, 0.09377559960478603, 0.08082823927449706, 0.08768006849406969, 0.0940952689783408, 0.07935703783710994, 0.10125744460832954, 0.08273184447005244, 0.08025549960756066, 0.1185150689417773, 0.09086267096866475, 0.10672740712024198, 0.07712577976802788, 0.12738709255020217, 0.08741547137793929, 0.07920627642681102, 0.07973591304651581, 0.11523330927190215, 0.0818311350770516, 0.07064256075732779, 0.08945457666817276, 0.07656967020270848, 0.08057413213323839, 0.075791864111872, 0.07991303296962587, 0.10227751495814559, 0.11661542155364953, 0.09919971655500998, 0.09545700377461934, 0.10630751659374425, 0.07373081472250495, 0.10029052065150572, 0.08228888783124413, 0.08037292868784159, 0.1066464553817664, 0.06820215860215745, 0.09008037380062707, 0.08491369742568176, 0.09936865219975462, 0.09377642149234762, 0.08897732316267372, 0.0863594654763099], 'lr': [0.01, 0.01, 0.01, 0.01, 0.01, 0.01, 0.01, 0.01, 0.01, 0.01, 0.01, 0.01, 0.01, 0.01, 0.01, 0.01, 0.01, 0.01, 0.01, 0.01, 0.01, 0.01, 0.01, 0.01, 0.01, 0.01, 0.01, 0.01, 0.01, 0.01, 0.01, 0.01, 0.01, 0.01, 0.01, 0.01, 0.01, 0.01, 0.01, 0.01, 0.01, 0.01, 0.01, 0.01, 0.01, 0.01, 0.01, 0.01, 0.01, 0.01, 0.01, 0.01, 0.01, 0.01, 0.01, 0.01, 0.01, 0.01, 0.01, 0.01, 0.01, 0.01, 0.01, 0.01, 0.01, 0.01, 0.01, 0.01, 0.01, 0.01, 0.01, 0.01, 0.01, 0.01, 0.01, 0.01, 0.01, 0.01, 0.01, 0.01, 0.01, 0.01, 0.01, 0.01, 0.01, 0.01, 0.01, 0.01, 0.01, 0.01, 0.01, 0.01, 0.01, 0.01, 0.01, 0.01, 0.01, 0.01, 0.01, 0.01, 0.01, 0.01, 0.01, 0.01, 0.01, 0.01, 0.01, 0.01, 0.01, 0.01, 0.01, 0.01, 0.01, 0.01, 0.01, 0.01, 0.01, 0.01, 0.01, 0.01, 0.01, 0.01, 0.01, 0.01, 0.01, 0.01, 0.01, 0.01, 0.01, 0.01, 0.01, 0.01, 0.01, 0.01, 0.01, 0.01, 0.01, 0.01, 0.01, 0.01, 0.01, 0.01, 0.01, 0.01, 0.01, 0.01, 0.01, 0.01, 0.01, 0.01, 0.01, 0.01, 0.01, 0.01, 0.01, 0.01, 0.01, 0.01, 0.01, 0.01, 0.01, 0.01, 0.01, 0.01, 0.01, 0.01, 0.01, 0.01, 0.01, 0.01, 0.01, 0.01, 0.01, 0.01, 0.01, 0.01, 0.01, 0.01, 0.01, 0.01, 0.01, 0.01, 0.01, 0.01, 0.01, 0.01, 0.01, 0.01, 0.01, 0.01, 0.01, 0.01, 0.01, 0.01, 0.01, 0.01, 0.01, 0.01, 0.01, 0.01, 0.01, 0.01, 0.01, 0.01, 0.01, 0.01, 0.01, 0.01, 0.01, 0.01, 0.01, 0.01, 0.01, 0.01, 0.01, 0.01, 0.01, 0.01, 0.01, 0.01, 0.01, 0.01, 0.01, 0.01, 0.01, 0.01, 0.01, 0.01, 0.01, 0.01, 0.01, 0.01, 0.01, 0.01, 0.01, 0.01, 0.01, 0.01, 0.01, 0.01, 0.01, 0.01, 0.01, 0.01, 0.01, 0.01, 0.01, 0.01, 0.01, 0.01, 0.01, 0.01, 0.01, 0.01, 0.01, 0.01, 0.01, 0.01, 0.01, 0.01, 0.01, 0.01, 0.01, 0.01, 0.01, 0.01, 0.01, 0.01, 0.01, 0.01, 0.01, 0.01, 0.01, 0.01, 0.01, 0.01, 0.01, 0.01, 0.01, 0.01, 0.01, 0.01, 0.01, 0.01, 0.01, 0.01, 0.01, 0.01, 0.01, 0.01, 0.01, 0.01, 0.01, 0.01, 0.01, 0.01, 0.01, 0.01, 0.01, 0.01, 0.01, 0.01, 0.01, 0.01, 0.01, 0.01, 0.01, 0.01, 0.01, 0.01, 0.01, 0.01, 0.01, 0.01, 0.01, 0.01, 0.01, 0.01, 0.01, 0.01, 0.01, 0.01, 0.01, 0.01, 0.01, 0.01, 0.01, 0.01, 0.01, 0.01, 0.01, 0.01, 0.01, 0.01, 0.01, 0.01, 0.01], 'train_mse': [1.9039356088355344, 1.099906531113413, 0.6626300548032932, 0.36778548553392626, 0.34762368695873175, 0.35319299144106914, 0.27220887266290367, 0.24664975028288177, 0.21481814061443044, 0.27308784618377296, 0.20117827240560546, 0.20625454270102753, 0.21163996711045627, 0.23261222559989975, 0.1914313844950958, 0.24036283777616607, 0.20293194977803103, 0.19898016245526462, 0.19374575583751313, 0.15445416387298488, 0.14442466164282516, 0.16116345271177965, 0.15032648931267173, 0.13479999955838237, 0.13108373947802848, 0.13439824181387872, 0.12125257020072885, 0.13165977009885785, 0.13020203947019912, 0.12381199456270986, 0.12467158226588144, 0.1312581709369477, 0.13599045837394066, 0.1141964292942623, 0.12063579206811759, 0.11408070072362562, 0.11560520855322759, 0.10857513657779727, 0.11616560307164357, 0.1147182710415616, 0.1252293699649674, 0.11705230043772975, 0.11274054860984345, 0.12609701432580683, 0.12453397179648304, 0.11105561180589363, 0.11858626187843282, 0.11382678120258959, 0.10633459966220601, 0.11179799831672574, 0.11268138066668741, 0.1276972762864405, 0.11028109998769656, 0.10484068275217501, 0.10704352541492287, 0.11123040969544001, 0.10437581956845128, 0.10918475650166036, 0.10782812834992973, 0.10991219462397955, 0.10397176873876025, 0.11531767494444979, 0.10581968023008098, 0.1101681159972427, 0.10164876029832465, 0.10479530508422308, 0.10137650109218985, 0.1056679065009872, 0.10165273357958438, 0.09927610216297633, 0.09853686202017448, 0.10606374304115408, 0.09125987903602527, 0.09041074976319362, 0.08932218430348586, 0.09551915836639342, 0.09472362490166063, 0.08840727087206854, 0.1055903110280079, 0.08669044489443829, 0.08885065664028077, 0.08762773042976141, 0.09427267002038908, 0.09869278021167728, 0.08835146876875194, 0.0831789890846184, 0.08580596813184041, 0.09272123470312818, 0.10236614095575171, 0.0934009608124268, 0.09242687476497673, 0.09397970607404109, 0.09277091962538075, 0.09086390575816741, 0.0934480659462445, 0.08262594430584935, 0.08616269387284163, 0.08101963214500041, 0.07962141004467144, 0.0811501946563365, 0.0773035201819245, 0.08480832146326825, 0.07263358221507028, 0.07840466799303826, 0.07524062882730473, 0.06998575563375962, 0.06402878348603697, 0.07376691240192657, 0.08204505185192991, 0.09028712028406126, 0.08685157624881908, 0.07182499005919298, 0.07766459750858613, 0.08863965850580877, 0.07530693711295432, 0.0827589043700153, 0.07283551956080515, 0.07460954520329932, 0.0698058961075465, 0.06650567178815926, 0.06400774073498078, 0.080961731542124, 0.07691302887909382, 0.07631942619967028, 0.07034143615349917, 0.07880123940734567, 0.08681901060036712, 0.07042832540007773, 0.06933466640858768, 0.06769528112028592, 0.06919326675777975, 0.0719137746999458, 0.07947612762439238, 0.07665609922802744, 0.08539297695201407, 0.07926657229437314, 0.07499134937839655, 0.06263846684809987, 0.06876791956585723, 0.06283834974577217, 0.0734032576964237, 0.0617522317009894, 0.06642225637749401, 0.06756826104238743, 0.0997687462914405, 0.06343665644611837, 0.07840317060516337, 0.06256319280893793, 0.06786036290371865, 0.09303722159774476, 0.08562780752212454, 0.07625667804127734, 0.0651449889682659, 0.06199767708260425, 0.062124633404897586, 0.06945451509895316, 0.06450596033482184, 0.08838026272813145, 0.06428325557137288, 0.06741104715729601, 0.05694652349170655, 0.058821661099451944, 0.08219976369528792, 0.05936718678982126, 0.06000361784806463, 0.057683010361182036, 0.05667053536940388, 0.06218839909161123, 0.06413113778781838, 0.08205620207795523, 0.06583016830983136, 0.07687195303677855, 0.06679491840648989, 0.057450896915957304, 0.050510847281057945, 0.05590659670233942, 0.05355121634733912, 0.05724106933851467, 0.057200182808919725, 0.05093257991878111, 0.05499074026217464, 0.057618242141203306, 0.06027828974050939, 0.0660171043022686, 0.053807925846912685, 0.049058956449495046, 0.06155420481558278, 0.06245486135005833, 0.0538932483532206, 0.06728225800573286, 0.057194226485941406, 0.06005701211015418, 0.04606732387270751, 0.0554533203579233, 0.05072858900195529, 0.05745317814867206, 0.061984264241353004, 0.05851568515999321, 0.0655229288769859, 0.05399569305898033, 0.050278580814210674, 0.050806046200910344, 0.05009585698570827, 0.0578787554635183, 0.04644420641145459, 0.05089889064031885, 0.047297317911210245, 0.04642194009028939, 0.06379455335727105, 0.05474053607031848, 0.04955676708967585, 0.06676071904393716, 0.05299620837665343, 0.04808041684766634, 0.05809302577657351, 0.06306017647399624, 0.057659841011294316, 0.0532545103030839, 0.04941751235488282, 0.05759464260452524, 0.0546479405736886, 0.04525326621499012, 0.05596580952393275, 0.06411977573781975, 0.061435638541463874, 0.06297156471570764, 0.06087683190867349, 0.05916325897318408, 0.05008915315644739, 0.05461567661581293, 0.07927661249432456, 0.07894079431330549, 0.07425546296252518, 0.087420588378525, 0.06377212148147111, 0.05187186752161694, 0.059792920698388645, 0.05096554492187191, 0.04987130827808366, 0.04398937377643646, 0.046143630810656235, 0.05027993603603292, 0.050302992084301626, 0.05429677579735157, 0.0574563510387602, 0.04389867886340124, 0.0717662791463908, 0.053901232315508536, 0.04560251083566591, 0.04713800557638694, 0.0461651560717696, 0.04480203097021969, 0.04529522335716097, 0.05283296982393739, 0.04155412050444567, 0.06070120755334461, 0.04858142367525099, 0.049185743092876676, 0.05218346625273868, 0.04398377740558286, 0.04655670054549007, 0.057707620979409846, 0.08767899230652039, 0.05955372739643227, 0.05599982620230578, 0.05215638930258058, 0.05027549506761973, 0.05341941325688878, 0.05712066152536093, 0.05154502096607012, 0.059403085878268654, 0.059752268824933494, 0.07354323801519762, 0.06581170970901087, 0.06833174123009317, 0.05790438368417641, 0.06002841863740478, 0.045367713375900065, 0.04423782937556682, 0.04808099768439207, 0.05301074678797304, 0.05340150839561864, 0.04627741154472985, 0.0551931869443043, 0.04523443511329288, 0.04698867768574526, 0.04131299657755741, 0.05256309428418189, 0.04958919324326601, 0.06375310520499393, 0.05400787532831487, 0.05087384258119332, 0.05034954797291746, 0.050511390308356406, 0.04487785614642541, 0.049504647455407634, 0.04277084066808689, 0.046544198632449525, 0.04931303880659197, 0.04491456463673781, 0.041340879093472165, 0.0490531836295612, 0.048305763273706136, 0.04657209576281167, 0.0680995620017663, 0.05295459884867264, 0.05715349552625282, 0.05615635763720467, 0.05331254186671226, 0.05960474156863342, 0.05366597040347017, 0.051662144116483434, 0.04744697484316152, 0.0451146254072748, 0.045423884505400976, 0.050978857027353434, 0.05065504871088895, 0.048555207454725115, 0.05218739655984595, 0.0485584123191084, 0.0566679950485137, 0.0547655874625609, 0.05036049023582103, 0.05041706383610136, 0.05270595781059748, 0.050074443179573595, 0.04768559954540726, 0.047493763932589646, 0.049747853421585164, 0.05195205202838143, 0.062431880017830066, 0.0543933852653314, 0.06207253433311884, 0.0621533219255723, 0.04905079727904673, 0.047778348791689816, 0.04547991970244646], 'train_mae': [0.9479451871582252, 0.7448790690596396, 0.5809001964331786, 0.4579528620489145, 0.4049567926394772, 0.40189352793727967, 0.357414364706733, 0.3498157902763297, 0.3305309181440622, 0.3541715298771141, 0.3090338720507836, 0.31195087876799943, 0.3131156577834623, 0.3447003517499662, 0.3051375109729041, 0.3485576901236558, 0.3298176910586713, 0.3200555248643492, 0.31361065251693787, 0.2849120104298996, 0.26795039743903787, 0.2848193918159131, 0.2760411389921547, 0.2533908281903594, 0.2462201450344344, 0.25903356039474246, 0.24036091480313226, 0.25571266831214867, 0.2452000994077137, 0.23792915587056354, 0.23886117182147115, 0.2499506599823762, 0.2482896800819861, 0.2279011246216835, 0.23504769824305718, 0.22879240879988397, 0.2301783286637475, 0.22236755486958093, 0.22871592313004654, 0.23262321163531602, 0.24555866889723627, 0.23511929559345085, 0.22943546243659838, 0.2407901421359755, 0.2403615014756191, 0.23352734097277403, 0.24726767373038647, 0.24228262939819104, 0.2262263223173125, 0.2383090211443913, 0.23625661212519417, 0.25414728220110594, 0.2297096475274613, 0.22547615367213952, 0.22694095529238806, 0.22740149379009286, 0.2242845383264537, 0.22630521507039886, 0.22720162639683275, 0.22818895982269552, 0.21957998450849914, 0.2325191772993075, 0.22247107914503103, 0.23194662124583845, 0.22130760695544152, 0.22069618242433658, 0.2208949829773121, 0.22725389611502791, 0.2213807029900286, 0.21760675897118262, 0.21674535219848337, 0.22602697124913404, 0.20727388630114074, 0.2055953592149114, 0.20265737245255494, 0.21385577596227998, 0.21035049718183801, 0.19922367263906163, 0.2250373736158118, 0.20414549190099227, 0.20189983520634813, 0.20272206428069817, 0.21278527234754852, 0.22430906150254115, 0.20520537664132782, 0.19178224445006106, 0.20252791886110352, 0.21085608027044395, 0.22344278999494208, 0.21106295397454358, 0.20607015643637933, 0.1979940089582966, 0.19708616325186715, 0.2086360497461495, 0.2183758261863609, 0.19958275437054354, 0.20609590192085603, 0.2032963597202083, 0.19893234290872802, 0.2018757457920311, 0.198378772240632, 0.2101223444093594, 0.18909194749493988, 0.19495508243761647, 0.19330665961557864, 0.1878771197850199, 0.17859600736871845, 0.19697791019525154, 0.19676160041441773, 0.2085404415349947, 0.19305742940343848, 0.19225785458267783, 0.20018863754517116, 0.21663570476604804, 0.1988515519645193, 0.20994234554936383, 0.19888155973974145, 0.19654767298717238, 0.18798444565305908, 0.18614805511972918, 0.18239108555444297, 0.19971499784511046, 0.20587346560073425, 0.1988066001046885, 0.19502885478675128, 0.19575202289391946, 0.1933373382038368, 0.18683267535764322, 0.1834066830723981, 0.18799684447323176, 0.18764565209130166, 0.1955779711831156, 0.20150666105003348, 0.19687855947596275, 0.20747767648202, 0.20029359143842113, 0.1946459064618961, 0.17781750226856075, 0.18443616383665706, 0.18005847027814137, 0.19385037611238887, 0.18181982920869125, 0.18475747580312438, 0.1868913281740706, 0.23033173633861437, 0.18543341264838925, 0.20465316000726763, 0.17980205850592185, 0.18900971640821052, 0.19981844238881555, 0.1876914123899356, 0.19337826296627358, 0.18182877814429466, 0.1818111830178991, 0.18121019475996358, 0.19219288197448336, 0.18273197782858813, 0.20950889393046218, 0.18987154249345023, 0.19148582084396606, 0.1783583848093136, 0.17703679600746333, 0.20944256472442033, 0.17548399010696877, 0.1778647042721594, 0.16949820141423966, 0.1705809221915986, 0.18145928830414393, 0.18614933715260634, 0.21314291825345172, 0.1907745549337177, 0.20109845354322528, 0.19320911249882305, 0.17500307350892386, 0.16590652612077839, 0.17083073582081945, 0.1669858765785044, 0.17388189494564613, 0.17704454598260536, 0.16570547852623638, 0.17228080891982273, 0.17503823716567793, 0.18057736644672703, 0.1770975421097917, 0.1651730403397263, 0.16063489756118216, 0.17855058412529837, 0.18038633574994573, 0.16699518368764207, 0.19193060299483716, 0.1741079949084536, 0.1788761191596655, 0.15946468008750617, 0.17125523619061217, 0.16172981835355457, 0.1755670778936099, 0.18206043407108788, 0.17560295952754196, 0.1923100539019127, 0.17275916436534536, 0.16873963206500048, 0.16865791807930872, 0.16541110902460238, 0.17832889073298538, 0.1642803594675267, 0.17144509988702972, 0.16395763081570408, 0.16037013861636149, 0.18375286379995415, 0.17079524553616351, 0.1707122847849308, 0.190684542177683, 0.17187228277434305, 0.1649763378361722, 0.17767929299060412, 0.1817965883157425, 0.16825838995781914, 0.16779044007959018, 0.15827423832856805, 0.1738003816783855, 0.16820864871392188, 0.1572306266114571, 0.1729302010935734, 0.1750519658904478, 0.18472697086152595, 0.18547262347707644, 0.17955748808739017, 0.17879308371867678, 0.16190499718387183, 0.176200735819919, 0.1914472817192077, 0.19418315929636443, 0.19403555497945682, 0.20844842319654538, 0.18959716187852418, 0.16624122636966754, 0.1765396117298655, 0.16601015440917088, 0.165166492117696, 0.15632529780061252, 0.1620660652109452, 0.1661135248484799, 0.16546110725137597, 0.17215397855796716, 0.17466219091748858, 0.1537127106013576, 0.18535990305667166, 0.17175258503347055, 0.15978316519181832, 0.16472321061593861, 0.1599664245686233, 0.15882036312741818, 0.15743329163621847, 0.17301857209066815, 0.15022534234302262, 0.1852152088175478, 0.16354880915405295, 0.1612648819372647, 0.1696939194048277, 0.15684028330647976, 0.16359705595706933, 0.17788331900011542, 0.2210519562703584, 0.17995691861125218, 0.17384722608416106, 0.17097273861110981, 0.16465973337022713, 0.17032492867601237, 0.17456963328807212, 0.1629065355493427, 0.17755216359098347, 0.17949610658500428, 0.19809708827626732, 0.18652898893247338, 0.1867607955021722, 0.1777026416886479, 0.1807572926850459, 0.1599685309741162, 0.1582151245779142, 0.16366173776802567, 0.17045286257949369, 0.16456271361113964, 0.15811190480668597, 0.171077010723708, 0.15242064165800703, 0.15837940529240868, 0.14782577381918352, 0.1718446560207171, 0.16452587955747347, 0.18747438674801262, 0.17354110708095366, 0.1692741243784932, 0.16472333419244423, 0.17017595137622274, 0.15772019385815753, 0.16495640643619125, 0.15101968575858707, 0.16062914463948733, 0.16108716824801214, 0.15792971967933933, 0.14992370814881217, 0.16671456203115395, 0.16616150137789745, 0.16095337741705476, 0.1877900519919669, 0.16219118527950674, 0.17069696910580934, 0.173530477743865, 0.16803164077658161, 0.18169679273047026, 0.17257565069415867, 0.16753175929204553, 0.1602802904439955, 0.1598655130710612, 0.15967401787754598, 0.16974974812747712, 0.16534101910691118, 0.1664332154507208, 0.167724819601527, 0.1644871908557257, 0.17875050272268314, 0.17681696569696526, 0.16999000361750674, 0.16959474792071708, 0.17427907289542963, 0.1667059256200074, 0.1591347705316449, 0.16323519918029544, 0.15925550417983608, 0.1644158231702146, 0.18107656452590698, 0.16983774977000454, 0.18621963958966314, 0.187956051870641, 0.16145060089747734, 0.16021626934777988, 0.16124711824347357]}\n"
     ]
    },
    {
     "data": {
      "application/scrapbook.scrap.json+json": {
       "data": 0.29831429118116126,
       "encoder": "json",
       "name": "TabNet MAE",
       "version": 1
      }
     },
     "metadata": {
      "scrapbook": {
       "data": true,
       "display": false,
       "name": "TabNet MAE"
      }
     },
     "output_type": "display_data"
    },
    {
     "name": "stdout",
     "output_type": "stream",
     "text": [
      "TabNet MAE 0.29831429118116126\n"
     ]
    },
    {
     "data": {
      "image/png": "[encoded data removed]",
      "text/plain": [
       "<Figure size 432x288 with 1 Axes>"
      ]
     },
     "metadata": {
      "needs_background": "light"
     },
     "output_type": "display_data"
    }
   ],
   "source": [
    "lr = 0.01\n",
    "\n",
    "y_train = np.reshape(y_train, (-1, 1))\n",
    "y_test = np.reshape(y_test, (-1, 1))\n",
    "\n",
    "device = torch.device('cuda' if torch.cuda.is_available() else 'cpu')\n",
    "mae_tab= baselineModels.tabnetreg(X_train,y_train,X_test,y_test,batch_size,n_features,n_target,n_epochs, lr)\n",
    "sb.glue(\"TabNet MAE\",mae_tab)\n",
    "print(\"TabNet MAE\",mae_tab)"
   ]
  }
 ],
 "metadata": {
  "kernelspec": {
   "display_name": "Python 3.7.3 64-bit",
   "language": "python",
   "name": "python3"
  },
  "language_info": {
   "codemirror_mode": {
    "name": "ipython",
    "version": 3
   },
   "file_extension": ".py",
   "mimetype": "text/x-python",
   "name": "python",
   "nbconvert_exporter": "python",
   "pygments_lexer": "ipython3",
   "version": "3.8.13"
  },
  "papermill": {
   "default_parameters": {},
   "duration": 210.501109,
   "end_time": "2022-07-21T10:41:12.008303",
   "environment_variables": {},
   "exception": null,
   "input_path": "BaselineModels.ipynb",
   "output_path": "./BaseLine_Model_Output/BaselineModels_output_10.ipynb",
   "parameters": {},
   "start_time": "2022-07-21T10:37:41.507194",
   "version": "2.3.3"
  },
  "vscode": {
   "interpreter": {
    "hash": "aee8b7b246df8f9039afb4144a1f6fd8d2ca17a180786b69acc140d282b71a49"
   }
  }
 },
 "nbformat": 4,
 "nbformat_minor": 5
}