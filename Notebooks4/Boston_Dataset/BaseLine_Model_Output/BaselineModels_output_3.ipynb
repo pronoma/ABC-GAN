{
 "cells": [
  {
   "cell_type": "markdown",
   "id": "098b9c5e",
   "metadata": {
    "papermill": {
     "duration": 0.009571,
     "end_time": "2022-07-21T10:20:16.151789",
     "exception": false,
     "start_time": "2022-07-21T10:20:16.142218",
     "status": "completed"
    },
    "tags": []
   },
   "source": [
    "## Import Libraries "
   ]
  },
  {
   "cell_type": "code",
   "execution_count": 1,
   "id": "7f914b09",
   "metadata": {
    "execution": {
     "iopub.execute_input": "2022-07-21T10:20:16.180687Z",
     "iopub.status.busy": "2022-07-21T10:20:16.180146Z",
     "iopub.status.idle": "2022-07-21T10:20:16.206956Z",
     "shell.execute_reply": "2022-07-21T10:20:16.203472Z"
    },
    "papermill": {
     "duration": 0.035063,
     "end_time": "2022-07-21T10:20:16.209858",
     "exception": false,
     "start_time": "2022-07-21T10:20:16.174795",
     "status": "completed"
    },
    "tags": []
   },
   "outputs": [],
   "source": [
    "import warnings\n",
    "import sys\n",
    "sys.path.insert(0, '../../src')\n",
    "warnings.filterwarnings('ignore')"
   ]
  },
  {
   "cell_type": "code",
   "execution_count": 2,
   "id": "1fb02853",
   "metadata": {
    "execution": {
     "iopub.execute_input": "2022-07-21T10:20:16.224573Z",
     "iopub.status.busy": "2022-07-21T10:20:16.223832Z",
     "iopub.status.idle": "2022-07-21T10:20:29.397272Z",
     "shell.execute_reply": "2022-07-21T10:20:29.395802Z"
    },
    "papermill": {
     "duration": 13.191519,
     "end_time": "2022-07-21T10:20:29.405141",
     "exception": false,
     "start_time": "2022-07-21T10:20:16.213622",
     "status": "completed"
    },
    "tags": []
   },
   "outputs": [],
   "source": [
    "import statsModel\n",
    "import scrapbook as sb \n",
    "import torch \n",
    "import statsModel\n",
    "import baselineModels\n",
    "import bostonDataset\n",
    "import dataset \n",
    "from torch.utils.data import random_split \n",
    "from sklearn.model_selection import train_test_split\n",
    "import numpy as np\n",
    "from sklearn.metrics import mean_squared_error,mean_absolute_error "
   ]
  },
  {
   "cell_type": "markdown",
   "id": "b265d292",
   "metadata": {
    "papermill": {
     "duration": 0.00567,
     "end_time": "2022-07-21T10:20:29.486421",
     "exception": false,
     "start_time": "2022-07-21T10:20:29.480751",
     "status": "completed"
    },
    "tags": []
   },
   "source": [
    "## Import Dataset \n"
   ]
  },
  {
   "cell_type": "code",
   "execution_count": 3,
   "id": "75b5ce8c",
   "metadata": {
    "execution": {
     "iopub.execute_input": "2022-07-21T10:20:29.508941Z",
     "iopub.status.busy": "2022-07-21T10:20:29.505343Z",
     "iopub.status.idle": "2022-07-21T10:20:29.563021Z",
     "shell.execute_reply": "2022-07-21T10:20:29.561077Z"
    },
    "papermill": {
     "duration": 0.074558,
     "end_time": "2022-07-21T10:20:29.567169",
     "exception": false,
     "start_time": "2022-07-21T10:20:29.492611",
     "status": "completed"
    },
    "tags": []
   },
   "outputs": [
    {
     "name": "stdout",
     "output_type": "stream",
     "text": [
      "         X1        X2        X3        X4        X5        X6        X7  \\\n",
      "0 -0.419782  0.284830 -1.287909 -0.272599 -0.144217  0.413672 -0.120013   \n",
      "1 -0.417339 -0.487722 -0.593381 -0.272599 -0.740262  0.194274  0.367166   \n",
      "2 -0.417342 -0.487722 -0.593381 -0.272599 -0.740262  1.282714 -0.265812   \n",
      "3 -0.416750 -0.487722 -1.306878 -0.272599 -0.835284  1.016303 -0.809889   \n",
      "4 -0.412482 -0.487722 -1.306878 -0.272599 -0.835284  1.228577 -0.511180   \n",
      "\n",
      "         X8        X9       X10       X11       X12       X13         Y  \n",
      "0  0.140214 -0.982843 -0.666608 -1.459000  0.441052 -1.075562  0.159686  \n",
      "1  0.557160 -0.867883 -0.987329 -0.303094  0.441052 -0.492439 -0.101524  \n",
      "2  0.557160 -0.867883 -0.987329 -0.303094  0.396427 -1.208727  1.324247  \n",
      "3  1.077737 -0.752922 -1.106115  0.113032  0.416163 -1.361517  1.182758  \n",
      "4  1.077737 -0.752922 -1.106115  0.113032  0.441052 -1.026501  1.487503  \n"
     ]
    }
   ],
   "source": [
    "n_features = 13\n",
    "n_samples= 506\n",
    "n_target = 1 \n",
    "X,Y = bostonDataset.boston_data()"
   ]
  },
  {
   "cell_type": "code",
   "execution_count": 4,
   "id": "4ea70e98",
   "metadata": {
    "execution": {
     "iopub.execute_input": "2022-07-21T10:20:29.579000Z",
     "iopub.status.busy": "2022-07-21T10:20:29.577007Z",
     "iopub.status.idle": "2022-07-21T10:20:29.584448Z",
     "shell.execute_reply": "2022-07-21T10:20:29.583292Z"
    },
    "papermill": {
     "duration": 0.016219,
     "end_time": "2022-07-21T10:20:29.587166",
     "exception": false,
     "start_time": "2022-07-21T10:20:29.570947",
     "status": "completed"
    },
    "tags": []
   },
   "outputs": [],
   "source": [
    "# Train test split for dataset \n",
    "real_dataset = dataset.CustomDataset(X,Y)\n",
    "X_train, X_test, y_train, y_test = train_test_split(X, Y, test_size=0.2)"
   ]
  },
  {
   "cell_type": "markdown",
   "id": "67a01fc4",
   "metadata": {
    "papermill": {
     "duration": 0.006542,
     "end_time": "2022-07-21T10:20:29.599515",
     "exception": false,
     "start_time": "2022-07-21T10:20:29.592973",
     "status": "completed"
    },
    "tags": []
   },
   "source": [
    "## Stats Model \n",
    "\n"
   ]
  },
  {
   "cell_type": "code",
   "execution_count": 5,
   "id": "79c3d70b",
   "metadata": {
    "execution": {
     "iopub.execute_input": "2022-07-21T10:20:29.614234Z",
     "iopub.status.busy": "2022-07-21T10:20:29.613158Z",
     "iopub.status.idle": "2022-07-21T10:20:30.143208Z",
     "shell.execute_reply": "2022-07-21T10:20:30.141978Z"
    },
    "papermill": {
     "duration": 0.541785,
     "end_time": "2022-07-21T10:20:30.146082",
     "exception": false,
     "start_time": "2022-07-21T10:20:29.604297",
     "status": "completed"
    },
    "tags": []
   },
   "outputs": [
    {
     "name": "stdout",
     "output_type": "stream",
     "text": [
      "                                 OLS Regression Results                                \n",
      "=======================================================================================\n",
      "Dep. Variable:                      y   R-squared (uncentered):                   0.719\n",
      "Model:                            OLS   Adj. R-squared (uncentered):              0.710\n",
      "Method:                 Least Squares   F-statistic:                              77.08\n",
      "Date:                Thu, 21 Jul 2022   Prob (F-statistic):                    3.36e-99\n",
      "Time:                        15:50:29   Log-Likelihood:                         -296.59\n",
      "No. Observations:                 404   AIC:                                      619.2\n",
      "Df Residuals:                     391   BIC:                                      671.2\n",
      "Df Model:                          13                                                  \n",
      "Covariance Type:            nonrobust                                                  \n",
      "==============================================================================\n",
      "                 coef    std err          t      P>|t|      [0.025      0.975]\n",
      "------------------------------------------------------------------------------\n",
      "x1            -0.0863      0.037     -2.309      0.021      -0.160      -0.013\n",
      "x2             0.1270      0.040      3.159      0.002       0.048       0.206\n",
      "x3             0.0469      0.054      0.870      0.385      -0.059       0.153\n",
      "x4             0.0611      0.026      2.343      0.020       0.010       0.112\n",
      "x5            -0.2367      0.053     -4.495      0.000      -0.340      -0.133\n",
      "x6             0.2946      0.036      8.179      0.000       0.224       0.365\n",
      "x7            -0.0314      0.044     -0.708      0.479      -0.119       0.056\n",
      "x8            -0.3409      0.052     -6.567      0.000      -0.443      -0.239\n",
      "x9             0.3002      0.070      4.304      0.000       0.163       0.437\n",
      "x10           -0.2708      0.079     -3.409      0.001      -0.427      -0.115\n",
      "x11           -0.2154      0.033     -6.508      0.000      -0.281      -0.150\n",
      "x12            0.0748      0.031      2.420      0.016       0.014       0.136\n",
      "x13           -0.3621      0.043     -8.331      0.000      -0.448      -0.277\n",
      "==============================================================================\n",
      "Omnibus:                      144.057   Durbin-Watson:                   1.753\n",
      "Prob(Omnibus):                  0.000   Jarque-Bera (JB):              607.162\n",
      "Skew:                           1.522   Prob(JB):                    1.43e-132\n",
      "Kurtosis:                       8.177   Cond. No.                         9.95\n",
      "==============================================================================\n",
      "\n",
      "Notes:\n",
      "[1] R² is computed without centering (uncentered) since the model does not contain a constant.\n",
      "[2] Standard Errors assume that the covariance matrix of the errors is correctly specified.\n"
     ]
    },
    {
     "name": "stderr",
     "output_type": "stream",
     "text": [
      "No artists with labels found to put in legend.  Note that artists whose label start with an underscore are ignored when legend() is called with no argument.\n"
     ]
    },
    {
     "data": {
      "image/png": "[encoded data removed]",
      "text/plain": [
       "<Figure size 432x288 with 1 Axes>"
      ]
     },
     "metadata": {
      "needs_background": "light"
     },
     "output_type": "display_data"
    },
    {
     "name": "stdout",
     "output_type": "stream",
     "text": [
      "Performance Metrics\n",
      "Mean Squared Error: 0.2935705752503102\n",
      "Mean Absolute Error: 0.3717524858292614\n",
      "Manhattan distance: 37.91875355458465\n",
      "Euclidean distance: 5.472129263415809\n"
     ]
    },
    {
     "data": {
      "application/scrapbook.scrap.json+json": {
       "data": 0.2935705752503102,
       "encoder": "json",
       "name": "Stats Model MSE",
       "version": 1
      }
     },
     "metadata": {
      "scrapbook": {
       "data": true,
       "display": false,
       "name": "Stats Model MSE"
      }
     },
     "output_type": "display_data"
    },
    {
     "data": {
      "application/scrapbook.scrap.json+json": {
       "data": 0.3717524858292614,
       "encoder": "json",
       "name": "Stats Model MAE",
       "version": 1
      }
     },
     "metadata": {
      "scrapbook": {
       "data": true,
       "display": false,
       "name": "Stats Model MAE"
      }
     },
     "output_type": "display_data"
    },
    {
     "data": {
      "application/scrapbook.scrap.json+json": {
       "data": 37.91875355458465,
       "encoder": "json",
       "name": "Stats Model Manhattan Distance",
       "version": 1
      }
     },
     "metadata": {
      "scrapbook": {
       "data": true,
       "display": false,
       "name": "Stats Model Manhattan Distance"
      }
     },
     "output_type": "display_data"
    },
    {
     "data": {
      "application/scrapbook.scrap.json+json": {
       "data": 5.472129263415809,
       "encoder": "json",
       "name": "Stats Model Euclidean distance",
       "version": 1
      }
     },
     "metadata": {
      "scrapbook": {
       "data": true,
       "display": false,
       "name": "Stats Model Euclidean distance"
      }
     },
     "output_type": "display_data"
    },
    {
     "data": {
      "application/scrapbook.scrap.json+json": {
       "data": [
        -0.08627867349449933,
        0.12703148985263724,
        0.0468885105388752,
        0.06108571111460609,
        -0.23665202958136283,
        0.2946115280763148,
        -0.03138929337452259,
        -0.34094075910043975,
        0.30023686185297055,
        -0.27079653156414557,
        -0.21544795558005417,
        0.07480218400548116,
        -0.36208856077994717
       ],
       "encoder": "json",
       "name": "Coefficients",
       "version": 1
      }
     },
     "metadata": {
      "scrapbook": {
       "data": true,
       "display": false,
       "name": "Coefficients"
      }
     },
     "output_type": "display_data"
    },
    {
     "name": "stdout",
     "output_type": "stream",
     "text": [
      "Stats Model MAE 0.3717524858292614\n"
     ]
    }
   ],
   "source": [
    "coefficients , y_pred =statsModel.statsModel(X_train,y_train,X_test,y_test)\n",
    "#Store MSE Value \n",
    "sb.glue(\"Coefficients\",coefficients)\n",
    "mae = mean_absolute_error(y_pred, y_test)\n",
    "print(\"Stats Model MAE\", mae)"
   ]
  },
  {
   "cell_type": "markdown",
   "id": "b72a0d35",
   "metadata": {
    "papermill": {
     "duration": 0.00735,
     "end_time": "2022-07-21T10:20:30.162045",
     "exception": false,
     "start_time": "2022-07-21T10:20:30.154695",
     "status": "completed"
    },
    "tags": []
   },
   "source": [
    "# Catboost Model "
   ]
  },
  {
   "cell_type": "code",
   "execution_count": 6,
   "id": "a4b2ba59",
   "metadata": {
    "execution": {
     "iopub.execute_input": "2022-07-21T10:20:30.183180Z",
     "iopub.status.busy": "2022-07-21T10:20:30.182282Z",
     "iopub.status.idle": "2022-07-21T10:20:33.504232Z",
     "shell.execute_reply": "2022-07-21T10:20:33.503500Z"
    },
    "papermill": {
     "duration": 3.335148,
     "end_time": "2022-07-21T10:20:33.507005",
     "exception": false,
     "start_time": "2022-07-21T10:20:30.171857",
     "status": "completed"
    },
    "tags": []
   },
   "outputs": [
    {
     "name": "stdout",
     "output_type": "stream",
     "text": [
      "Learning rate set to 0.03548\n"
     ]
    },
    {
     "name": "stdout",
     "output_type": "stream",
     "text": [
      "0:\tlearn: 0.9311381\ttotal: 61.1ms\tremaining: 1m 1s\n",
      "1:\tlearn: 0.9100129\ttotal: 72.5ms\tremaining: 36.2s\n",
      "2:\tlearn: 0.8904171\ttotal: 74.6ms\tremaining: 24.8s\n",
      "3:\tlearn: 0.8714576\ttotal: 80.8ms\tremaining: 20.1s\n",
      "4:\tlearn: 0.8552026\ttotal: 85.9ms\tremaining: 17.1s\n",
      "5:\tlearn: 0.8387630\ttotal: 88ms\tremaining: 14.6s\n",
      "6:\tlearn: 0.8236838\ttotal: 91.5ms\tremaining: 13s\n",
      "7:\tlearn: 0.8082310\ttotal: 95.5ms\tremaining: 11.8s\n",
      "8:\tlearn: 0.7936233\ttotal: 101ms\tremaining: 11.1s\n",
      "9:\tlearn: 0.7779927\ttotal: 102ms\tremaining: 10.1s\n",
      "10:\tlearn: 0.7639263\ttotal: 106ms\tremaining: 9.51s\n"
     ]
    },
    {
     "name": "stdout",
     "output_type": "stream",
     "text": [
      "11:\tlearn: 0.7499843\ttotal: 108ms\tremaining: 8.9s\n",
      "12:\tlearn: 0.7360035\ttotal: 113ms\tremaining: 8.55s\n",
      "13:\tlearn: 0.7224901\ttotal: 115ms\tremaining: 8.13s\n",
      "14:\tlearn: 0.7109368\ttotal: 117ms\tremaining: 7.69s\n",
      "15:\tlearn: 0.6994284\ttotal: 121ms\tremaining: 7.45s\n",
      "16:\tlearn: 0.6887499\ttotal: 124ms\tremaining: 7.17s\n",
      "17:\tlearn: 0.6773409\ttotal: 128ms\tremaining: 6.98s\n",
      "18:\tlearn: 0.6657236\ttotal: 130ms\tremaining: 6.69s\n",
      "19:\tlearn: 0.6540122\ttotal: 131ms\tremaining: 6.43s\n",
      "20:\tlearn: 0.6426420\ttotal: 134ms\tremaining: 6.26s\n",
      "21:\tlearn: 0.6319819\ttotal: 136ms\tremaining: 6.06s\n",
      "22:\tlearn: 0.6216400\ttotal: 139ms\tremaining: 5.89s\n",
      "23:\tlearn: 0.6136800\ttotal: 141ms\tremaining: 5.75s\n",
      "24:\tlearn: 0.6041422\ttotal: 143ms\tremaining: 5.58s\n",
      "25:\tlearn: 0.5957029\ttotal: 144ms\tremaining: 5.41s\n",
      "26:\tlearn: 0.5878598\ttotal: 148ms\tremaining: 5.34s\n",
      "27:\tlearn: 0.5790863\ttotal: 150ms\tremaining: 5.2s\n",
      "28:\tlearn: 0.5708997\ttotal: 154ms\tremaining: 5.16s\n",
      "29:\tlearn: 0.5618361\ttotal: 156ms\tremaining: 5.05s\n",
      "30:\tlearn: 0.5531453\ttotal: 158ms\tremaining: 4.94s\n"
     ]
    },
    {
     "name": "stdout",
     "output_type": "stream",
     "text": [
      "31:\tlearn: 0.5441693\ttotal: 161ms\tremaining: 4.88s\n",
      "32:\tlearn: 0.5372024\ttotal: 164ms\tremaining: 4.8s\n",
      "33:\tlearn: 0.5317356\ttotal: 166ms\tremaining: 4.72s\n",
      "34:\tlearn: 0.5252129\ttotal: 170ms\tremaining: 4.7s\n",
      "35:\tlearn: 0.5185195\ttotal: 172ms\tremaining: 4.61s\n",
      "36:\tlearn: 0.5119499\ttotal: 175ms\tremaining: 4.54s\n",
      "37:\tlearn: 0.5051349\ttotal: 177ms\tremaining: 4.49s\n",
      "38:\tlearn: 0.4980215\ttotal: 179ms\tremaining: 4.41s\n",
      "39:\tlearn: 0.4910985\ttotal: 183ms\tremaining: 4.39s\n",
      "40:\tlearn: 0.4854269\ttotal: 185ms\tremaining: 4.34s\n",
      "41:\tlearn: 0.4800169\ttotal: 187ms\tremaining: 4.27s\n",
      "42:\tlearn: 0.4742621\ttotal: 191ms\tremaining: 4.24s\n",
      "43:\tlearn: 0.4685028\ttotal: 192ms\tremaining: 4.18s\n",
      "44:\tlearn: 0.4614222\ttotal: 194ms\tremaining: 4.12s\n",
      "45:\tlearn: 0.4555561\ttotal: 199ms\tremaining: 4.12s\n",
      "46:\tlearn: 0.4523951\ttotal: 203ms\tremaining: 4.11s\n",
      "47:\tlearn: 0.4483898\ttotal: 205ms\tremaining: 4.06s\n",
      "48:\tlearn: 0.4440689\ttotal: 207ms\tremaining: 4.01s\n",
      "49:\tlearn: 0.4386558\ttotal: 210ms\tremaining: 3.99s\n",
      "50:\tlearn: 0.4348456\ttotal: 212ms\tremaining: 3.95s\n",
      "51:\tlearn: 0.4297810\ttotal: 215ms\tremaining: 3.92s\n",
      "52:\tlearn: 0.4252754\ttotal: 221ms\tremaining: 3.95s\n"
     ]
    },
    {
     "name": "stdout",
     "output_type": "stream",
     "text": [
      "53:\tlearn: 0.4217907\ttotal: 223ms\tremaining: 3.9s\n",
      "54:\tlearn: 0.4179700\ttotal: 225ms\tremaining: 3.87s\n",
      "55:\tlearn: 0.4146368\ttotal: 230ms\tremaining: 3.88s\n",
      "56:\tlearn: 0.4109766\ttotal: 238ms\tremaining: 3.94s\n",
      "57:\tlearn: 0.4071876\ttotal: 265ms\tremaining: 4.3s\n"
     ]
    },
    {
     "name": "stdout",
     "output_type": "stream",
     "text": [
      "58:\tlearn: 0.4035270\ttotal: 291ms\tremaining: 4.64s\n",
      "59:\tlearn: 0.4001287\ttotal: 295ms\tremaining: 4.63s\n",
      "60:\tlearn: 0.3963421\ttotal: 302ms\tremaining: 4.64s\n"
     ]
    },
    {
     "name": "stdout",
     "output_type": "stream",
     "text": [
      "61:\tlearn: 0.3930047\ttotal: 307ms\tremaining: 4.64s\n",
      "62:\tlearn: 0.3897233\ttotal: 311ms\tremaining: 4.63s\n",
      "63:\tlearn: 0.3870439\ttotal: 315ms\tremaining: 4.6s\n",
      "64:\tlearn: 0.3847190\ttotal: 320ms\tremaining: 4.6s\n",
      "65:\tlearn: 0.3816258\ttotal: 324ms\tremaining: 4.58s\n",
      "66:\tlearn: 0.3782931\ttotal: 326ms\tremaining: 4.54s\n",
      "67:\tlearn: 0.3750968\ttotal: 328ms\tremaining: 4.5s\n",
      "68:\tlearn: 0.3725128\ttotal: 332ms\tremaining: 4.48s\n",
      "69:\tlearn: 0.3704434\ttotal: 334ms\tremaining: 4.44s\n",
      "70:\tlearn: 0.3673159\ttotal: 338ms\tremaining: 4.42s\n",
      "71:\tlearn: 0.3644270\ttotal: 340ms\tremaining: 4.38s\n",
      "72:\tlearn: 0.3621005\ttotal: 344ms\tremaining: 4.37s\n",
      "73:\tlearn: 0.3590292\ttotal: 347ms\tremaining: 4.34s\n",
      "74:\tlearn: 0.3563328\ttotal: 350ms\tremaining: 4.32s\n",
      "75:\tlearn: 0.3544442\ttotal: 355ms\tremaining: 4.31s\n",
      "76:\tlearn: 0.3522152\ttotal: 361ms\tremaining: 4.33s\n",
      "77:\tlearn: 0.3493780\ttotal: 366ms\tremaining: 4.33s\n"
     ]
    },
    {
     "name": "stdout",
     "output_type": "stream",
     "text": [
      "78:\tlearn: 0.3472842\ttotal: 372ms\tremaining: 4.34s\n",
      "79:\tlearn: 0.3452651\ttotal: 376ms\tremaining: 4.32s\n",
      "80:\tlearn: 0.3434506\ttotal: 378ms\tremaining: 4.29s\n",
      "81:\tlearn: 0.3413260\ttotal: 381ms\tremaining: 4.26s\n",
      "82:\tlearn: 0.3399558\ttotal: 383ms\tremaining: 4.24s\n",
      "83:\tlearn: 0.3385096\ttotal: 387ms\tremaining: 4.22s\n",
      "84:\tlearn: 0.3361099\ttotal: 388ms\tremaining: 4.18s\n",
      "85:\tlearn: 0.3340030\ttotal: 390ms\tremaining: 4.14s\n",
      "86:\tlearn: 0.3322876\ttotal: 391ms\tremaining: 4.11s\n",
      "87:\tlearn: 0.3304043\ttotal: 394ms\tremaining: 4.08s\n",
      "88:\tlearn: 0.3287538\ttotal: 396ms\tremaining: 4.05s\n",
      "89:\tlearn: 0.3261911\ttotal: 398ms\tremaining: 4.03s\n",
      "90:\tlearn: 0.3242221\ttotal: 402ms\tremaining: 4.02s\n",
      "91:\tlearn: 0.3224938\ttotal: 405ms\tremaining: 4s\n",
      "92:\tlearn: 0.3210664\ttotal: 410ms\tremaining: 4s\n",
      "93:\tlearn: 0.3192364\ttotal: 412ms\tremaining: 3.97s\n",
      "94:\tlearn: 0.3176033\ttotal: 413ms\tremaining: 3.94s\n",
      "95:\tlearn: 0.3162148\ttotal: 416ms\tremaining: 3.91s\n",
      "96:\tlearn: 0.3148013\ttotal: 417ms\tremaining: 3.88s\n",
      "97:\tlearn: 0.3132148\ttotal: 419ms\tremaining: 3.85s\n",
      "98:\tlearn: 0.3118157\ttotal: 420ms\tremaining: 3.82s\n",
      "99:\tlearn: 0.3109542\ttotal: 423ms\tremaining: 3.81s\n",
      "100:\tlearn: 0.3095011\ttotal: 426ms\tremaining: 3.79s\n",
      "101:\tlearn: 0.3077867\ttotal: 429ms\tremaining: 3.77s\n",
      "102:\tlearn: 0.3064491\ttotal: 431ms\tremaining: 3.75s\n",
      "103:\tlearn: 0.3047046\ttotal: 432ms\tremaining: 3.72s\n",
      "104:\tlearn: 0.3030381\ttotal: 434ms\tremaining: 3.7s\n",
      "105:\tlearn: 0.3013316\ttotal: 439ms\tremaining: 3.7s\n",
      "106:\tlearn: 0.2998940\ttotal: 442ms\tremaining: 3.69s\n",
      "107:\tlearn: 0.2981297\ttotal: 444ms\tremaining: 3.67s\n"
     ]
    },
    {
     "name": "stdout",
     "output_type": "stream",
     "text": [
      "108:\tlearn: 0.2966522\ttotal: 458ms\tremaining: 3.75s\n",
      "109:\tlearn: 0.2957285\ttotal: 462ms\tremaining: 3.73s\n",
      "110:\tlearn: 0.2944743\ttotal: 464ms\tremaining: 3.71s\n",
      "111:\tlearn: 0.2934251\ttotal: 466ms\tremaining: 3.69s\n",
      "112:\tlearn: 0.2919810\ttotal: 467ms\tremaining: 3.67s\n",
      "113:\tlearn: 0.2908156\ttotal: 469ms\tremaining: 3.64s\n"
     ]
    },
    {
     "name": "stdout",
     "output_type": "stream",
     "text": [
      "114:\tlearn: 0.2897917\ttotal: 474ms\tremaining: 3.65s\n",
      "115:\tlearn: 0.2887296\ttotal: 478ms\tremaining: 3.65s\n",
      "116:\tlearn: 0.2876856\ttotal: 481ms\tremaining: 3.63s\n",
      "117:\tlearn: 0.2862229\ttotal: 483ms\tremaining: 3.61s\n",
      "118:\tlearn: 0.2852417\ttotal: 487ms\tremaining: 3.6s\n",
      "119:\tlearn: 0.2842640\ttotal: 489ms\tremaining: 3.59s\n",
      "120:\tlearn: 0.2833175\ttotal: 493ms\tremaining: 3.58s\n",
      "121:\tlearn: 0.2823222\ttotal: 497ms\tremaining: 3.57s\n",
      "122:\tlearn: 0.2812571\ttotal: 501ms\tremaining: 3.57s\n",
      "123:\tlearn: 0.2798492\ttotal: 504ms\tremaining: 3.56s\n",
      "124:\tlearn: 0.2783163\ttotal: 507ms\tremaining: 3.55s\n",
      "125:\tlearn: 0.2770804\ttotal: 508ms\tremaining: 3.53s\n",
      "126:\tlearn: 0.2756077\ttotal: 510ms\tremaining: 3.5s\n",
      "127:\tlearn: 0.2747006\ttotal: 514ms\tremaining: 3.5s\n",
      "128:\tlearn: 0.2737547\ttotal: 516ms\tremaining: 3.48s\n",
      "129:\tlearn: 0.2728260\ttotal: 518ms\tremaining: 3.47s\n",
      "130:\tlearn: 0.2719371\ttotal: 521ms\tremaining: 3.45s\n",
      "131:\tlearn: 0.2708878\ttotal: 522ms\tremaining: 3.44s\n",
      "132:\tlearn: 0.2699320\ttotal: 524ms\tremaining: 3.42s\n",
      "133:\tlearn: 0.2690392\ttotal: 526ms\tremaining: 3.4s\n",
      "134:\tlearn: 0.2681856\ttotal: 529ms\tremaining: 3.39s\n",
      "135:\tlearn: 0.2676982\ttotal: 530ms\tremaining: 3.37s\n",
      "136:\tlearn: 0.2666338\ttotal: 532ms\tremaining: 3.35s\n",
      "137:\tlearn: 0.2652201\ttotal: 533ms\tremaining: 3.33s\n"
     ]
    },
    {
     "name": "stdout",
     "output_type": "stream",
     "text": [
      "138:\tlearn: 0.2640715\ttotal: 536ms\tremaining: 3.32s\n",
      "139:\tlearn: 0.2631989\ttotal: 538ms\tremaining: 3.31s\n",
      "140:\tlearn: 0.2623394\ttotal: 540ms\tremaining: 3.29s\n",
      "141:\tlearn: 0.2613806\ttotal: 542ms\tremaining: 3.27s\n",
      "142:\tlearn: 0.2605867\ttotal: 544ms\tremaining: 3.26s\n",
      "143:\tlearn: 0.2597098\ttotal: 546ms\tremaining: 3.24s\n",
      "144:\tlearn: 0.2588425\ttotal: 547ms\tremaining: 3.23s\n",
      "145:\tlearn: 0.2579096\ttotal: 550ms\tremaining: 3.21s\n",
      "146:\tlearn: 0.2569295\ttotal: 551ms\tremaining: 3.2s\n",
      "147:\tlearn: 0.2562963\ttotal: 552ms\tremaining: 3.18s\n",
      "148:\tlearn: 0.2551187\ttotal: 554ms\tremaining: 3.16s\n",
      "149:\tlearn: 0.2544970\ttotal: 555ms\tremaining: 3.15s\n",
      "150:\tlearn: 0.2535003\ttotal: 557ms\tremaining: 3.13s\n",
      "151:\tlearn: 0.2527740\ttotal: 558ms\tremaining: 3.11s\n",
      "152:\tlearn: 0.2521029\ttotal: 560ms\tremaining: 3.1s\n",
      "153:\tlearn: 0.2515601\ttotal: 561ms\tremaining: 3.08s\n",
      "154:\tlearn: 0.2509329\ttotal: 563ms\tremaining: 3.07s\n",
      "155:\tlearn: 0.2501892\ttotal: 565ms\tremaining: 3.06s\n",
      "156:\tlearn: 0.2492277\ttotal: 566ms\tremaining: 3.04s\n",
      "157:\tlearn: 0.2481695\ttotal: 568ms\tremaining: 3.02s\n",
      "158:\tlearn: 0.2474221\ttotal: 573ms\tremaining: 3.03s\n",
      "159:\tlearn: 0.2468156\ttotal: 577ms\tremaining: 3.03s\n",
      "160:\tlearn: 0.2456524\ttotal: 579ms\tremaining: 3.02s\n",
      "161:\tlearn: 0.2448257\ttotal: 597ms\tremaining: 3.09s\n",
      "162:\tlearn: 0.2444556\ttotal: 599ms\tremaining: 3.08s\n",
      "163:\tlearn: 0.2437889\ttotal: 604ms\tremaining: 3.08s\n",
      "164:\tlearn: 0.2431970\ttotal: 608ms\tremaining: 3.08s\n",
      "165:\tlearn: 0.2421584\ttotal: 612ms\tremaining: 3.08s\n",
      "166:\tlearn: 0.2416090\ttotal: 615ms\tremaining: 3.07s\n",
      "167:\tlearn: 0.2402229\ttotal: 627ms\tremaining: 3.11s\n"
     ]
    },
    {
     "name": "stdout",
     "output_type": "stream",
     "text": [
      "168:\tlearn: 0.2395952\ttotal: 657ms\tremaining: 3.23s\n",
      "169:\tlearn: 0.2388095\ttotal: 662ms\tremaining: 3.23s\n",
      "170:\tlearn: 0.2380860\ttotal: 668ms\tremaining: 3.24s\n"
     ]
    },
    {
     "name": "stdout",
     "output_type": "stream",
     "text": [
      "171:\tlearn: 0.2372145\ttotal: 671ms\tremaining: 3.23s\n",
      "172:\tlearn: 0.2366808\ttotal: 673ms\tremaining: 3.22s\n",
      "173:\tlearn: 0.2362247\ttotal: 676ms\tremaining: 3.21s\n",
      "174:\tlearn: 0.2355383\ttotal: 679ms\tremaining: 3.2s\n",
      "175:\tlearn: 0.2350020\ttotal: 682ms\tremaining: 3.19s\n",
      "176:\tlearn: 0.2341448\ttotal: 686ms\tremaining: 3.19s\n",
      "177:\tlearn: 0.2336027\ttotal: 689ms\tremaining: 3.18s\n",
      "178:\tlearn: 0.2329798\ttotal: 691ms\tremaining: 3.17s\n",
      "179:\tlearn: 0.2324100\ttotal: 693ms\tremaining: 3.16s\n",
      "180:\tlearn: 0.2317243\ttotal: 695ms\tremaining: 3.14s\n",
      "181:\tlearn: 0.2307365\ttotal: 697ms\tremaining: 3.13s\n",
      "182:\tlearn: 0.2302262\ttotal: 699ms\tremaining: 3.12s\n",
      "183:\tlearn: 0.2297042\ttotal: 701ms\tremaining: 3.11s\n",
      "184:\tlearn: 0.2289828\ttotal: 703ms\tremaining: 3.1s\n",
      "185:\tlearn: 0.2285073\ttotal: 705ms\tremaining: 3.08s\n",
      "186:\tlearn: 0.2278527\ttotal: 706ms\tremaining: 3.07s\n",
      "187:\tlearn: 0.2273413\ttotal: 708ms\tremaining: 3.06s\n",
      "188:\tlearn: 0.2267498\ttotal: 709ms\tremaining: 3.04s\n",
      "189:\tlearn: 0.2262619\ttotal: 711ms\tremaining: 3.03s\n",
      "190:\tlearn: 0.2254004\ttotal: 712ms\tremaining: 3.02s\n",
      "191:\tlearn: 0.2246898\ttotal: 714ms\tremaining: 3s\n",
      "192:\tlearn: 0.2240507\ttotal: 717ms\tremaining: 3s\n",
      "193:\tlearn: 0.2232992\ttotal: 720ms\tremaining: 2.99s\n",
      "194:\tlearn: 0.2227586\ttotal: 722ms\tremaining: 2.98s\n",
      "195:\tlearn: 0.2220662\ttotal: 725ms\tremaining: 2.98s\n",
      "196:\tlearn: 0.2216481\ttotal: 727ms\tremaining: 2.96s\n",
      "197:\tlearn: 0.2213233\ttotal: 729ms\tremaining: 2.95s\n",
      "198:\tlearn: 0.2208022\ttotal: 731ms\tremaining: 2.94s\n",
      "199:\tlearn: 0.2201213\ttotal: 733ms\tremaining: 2.93s\n",
      "200:\tlearn: 0.2195041\ttotal: 734ms\tremaining: 2.92s\n",
      "201:\tlearn: 0.2189984\ttotal: 739ms\tremaining: 2.92s\n",
      "202:\tlearn: 0.2181082\ttotal: 744ms\tremaining: 2.92s\n",
      "203:\tlearn: 0.2174628\ttotal: 749ms\tremaining: 2.92s\n",
      "204:\tlearn: 0.2167510\ttotal: 752ms\tremaining: 2.92s\n",
      "205:\tlearn: 0.2160830\ttotal: 756ms\tremaining: 2.92s\n",
      "206:\tlearn: 0.2156677\ttotal: 759ms\tremaining: 2.91s\n",
      "207:\tlearn: 0.2151757\ttotal: 763ms\tremaining: 2.9s\n",
      "208:\tlearn: 0.2148396\ttotal: 766ms\tremaining: 2.9s\n",
      "209:\tlearn: 0.2143689\ttotal: 770ms\tremaining: 2.9s\n",
      "210:\tlearn: 0.2139139\ttotal: 773ms\tremaining: 2.89s\n",
      "211:\tlearn: 0.2133383\ttotal: 776ms\tremaining: 2.88s\n",
      "212:\tlearn: 0.2128109\ttotal: 778ms\tremaining: 2.88s\n",
      "213:\tlearn: 0.2124621\ttotal: 780ms\tremaining: 2.87s\n",
      "214:\tlearn: 0.2117952\ttotal: 784ms\tremaining: 2.86s\n",
      "215:\tlearn: 0.2110114\ttotal: 786ms\tremaining: 2.85s\n",
      "216:\tlearn: 0.2104546\ttotal: 789ms\tremaining: 2.85s\n"
     ]
    },
    {
     "name": "stdout",
     "output_type": "stream",
     "text": [
      "217:\tlearn: 0.2099976\ttotal: 801ms\tremaining: 2.87s\n",
      "218:\tlearn: 0.2093796\ttotal: 804ms\tremaining: 2.87s\n",
      "219:\tlearn: 0.2089708\ttotal: 806ms\tremaining: 2.86s\n",
      "220:\tlearn: 0.2083288\ttotal: 807ms\tremaining: 2.84s\n",
      "221:\tlearn: 0.2077919\ttotal: 808ms\tremaining: 2.83s\n",
      "222:\tlearn: 0.2074311\ttotal: 811ms\tremaining: 2.83s\n",
      "223:\tlearn: 0.2070557\ttotal: 813ms\tremaining: 2.82s\n",
      "224:\tlearn: 0.2064493\ttotal: 814ms\tremaining: 2.8s\n",
      "225:\tlearn: 0.2058835\ttotal: 816ms\tremaining: 2.79s\n",
      "226:\tlearn: 0.2052558\ttotal: 818ms\tremaining: 2.78s\n",
      "227:\tlearn: 0.2047984\ttotal: 819ms\tremaining: 2.77s\n",
      "228:\tlearn: 0.2044729\ttotal: 821ms\tremaining: 2.76s\n",
      "229:\tlearn: 0.2039831\ttotal: 822ms\tremaining: 2.75s\n",
      "230:\tlearn: 0.2032729\ttotal: 823ms\tremaining: 2.74s\n",
      "231:\tlearn: 0.2029209\ttotal: 825ms\tremaining: 2.73s\n",
      "232:\tlearn: 0.2025448\ttotal: 827ms\tremaining: 2.72s\n",
      "233:\tlearn: 0.2023267\ttotal: 828ms\tremaining: 2.71s\n",
      "234:\tlearn: 0.2017438\ttotal: 829ms\tremaining: 2.7s\n",
      "235:\tlearn: 0.2012991\ttotal: 830ms\tremaining: 2.69s\n",
      "236:\tlearn: 0.2006040\ttotal: 832ms\tremaining: 2.68s\n",
      "237:\tlearn: 0.2002776\ttotal: 846ms\tremaining: 2.71s\n",
      "238:\tlearn: 0.1999373\ttotal: 847ms\tremaining: 2.7s\n"
     ]
    },
    {
     "name": "stdout",
     "output_type": "stream",
     "text": [
      "239:\tlearn: 0.1994462\ttotal: 849ms\tremaining: 2.69s\n",
      "240:\tlearn: 0.1986783\ttotal: 851ms\tremaining: 2.68s\n",
      "241:\tlearn: 0.1981143\ttotal: 854ms\tremaining: 2.67s\n",
      "242:\tlearn: 0.1974308\ttotal: 855ms\tremaining: 2.66s\n",
      "243:\tlearn: 0.1969039\ttotal: 857ms\tremaining: 2.65s\n",
      "244:\tlearn: 0.1963861\ttotal: 862ms\tremaining: 2.66s\n",
      "245:\tlearn: 0.1958807\ttotal: 864ms\tremaining: 2.65s\n",
      "246:\tlearn: 0.1955630\ttotal: 866ms\tremaining: 2.64s\n",
      "247:\tlearn: 0.1951635\ttotal: 869ms\tremaining: 2.63s\n",
      "248:\tlearn: 0.1947156\ttotal: 871ms\tremaining: 2.63s\n",
      "249:\tlearn: 0.1941367\ttotal: 873ms\tremaining: 2.62s\n",
      "250:\tlearn: 0.1937267\ttotal: 875ms\tremaining: 2.61s\n",
      "251:\tlearn: 0.1932707\ttotal: 877ms\tremaining: 2.6s\n",
      "252:\tlearn: 0.1926627\ttotal: 878ms\tremaining: 2.59s\n",
      "253:\tlearn: 0.1922156\ttotal: 881ms\tremaining: 2.59s\n",
      "254:\tlearn: 0.1917950\ttotal: 885ms\tremaining: 2.58s\n",
      "255:\tlearn: 0.1913834\ttotal: 888ms\tremaining: 2.58s\n",
      "256:\tlearn: 0.1909347\ttotal: 891ms\tremaining: 2.58s\n",
      "257:\tlearn: 0.1903867\ttotal: 893ms\tremaining: 2.57s\n",
      "258:\tlearn: 0.1900667\ttotal: 895ms\tremaining: 2.56s\n",
      "259:\tlearn: 0.1894488\ttotal: 897ms\tremaining: 2.55s\n",
      "260:\tlearn: 0.1889895\ttotal: 899ms\tremaining: 2.55s\n",
      "261:\tlearn: 0.1885899\ttotal: 901ms\tremaining: 2.54s\n",
      "262:\tlearn: 0.1881148\ttotal: 903ms\tremaining: 2.53s\n",
      "263:\tlearn: 0.1876355\ttotal: 905ms\tremaining: 2.52s\n",
      "264:\tlearn: 0.1871378\ttotal: 907ms\tremaining: 2.52s\n",
      "265:\tlearn: 0.1867353\ttotal: 909ms\tremaining: 2.51s\n",
      "266:\tlearn: 0.1862829\ttotal: 912ms\tremaining: 2.5s\n",
      "267:\tlearn: 0.1858290\ttotal: 915ms\tremaining: 2.5s\n",
      "268:\tlearn: 0.1856302\ttotal: 918ms\tremaining: 2.49s\n",
      "269:\tlearn: 0.1850685\ttotal: 920ms\tremaining: 2.49s\n",
      "270:\tlearn: 0.1846744\ttotal: 922ms\tremaining: 2.48s\n",
      "271:\tlearn: 0.1843151\ttotal: 924ms\tremaining: 2.47s\n",
      "272:\tlearn: 0.1837747\ttotal: 925ms\tremaining: 2.46s\n",
      "273:\tlearn: 0.1833548\ttotal: 927ms\tremaining: 2.46s\n",
      "274:\tlearn: 0.1830859\ttotal: 928ms\tremaining: 2.45s\n",
      "275:\tlearn: 0.1827273\ttotal: 930ms\tremaining: 2.44s\n",
      "276:\tlearn: 0.1823419\ttotal: 931ms\tremaining: 2.43s\n",
      "277:\tlearn: 0.1818831\ttotal: 933ms\tremaining: 2.42s\n",
      "278:\tlearn: 0.1816441\ttotal: 935ms\tremaining: 2.42s\n",
      "279:\tlearn: 0.1811304\ttotal: 936ms\tremaining: 2.41s\n",
      "280:\tlearn: 0.1808295\ttotal: 938ms\tremaining: 2.4s\n",
      "281:\tlearn: 0.1805246\ttotal: 940ms\tremaining: 2.39s\n",
      "282:\tlearn: 0.1800960\ttotal: 942ms\tremaining: 2.39s\n",
      "283:\tlearn: 0.1798181\ttotal: 944ms\tremaining: 2.38s\n",
      "284:\tlearn: 0.1793761\ttotal: 946ms\tremaining: 2.37s\n",
      "285:\tlearn: 0.1789695\ttotal: 948ms\tremaining: 2.37s\n",
      "286:\tlearn: 0.1788114\ttotal: 950ms\tremaining: 2.36s\n",
      "287:\tlearn: 0.1785984\ttotal: 953ms\tremaining: 2.36s\n",
      "288:\tlearn: 0.1782437\ttotal: 955ms\tremaining: 2.35s\n",
      "289:\tlearn: 0.1778547\ttotal: 958ms\tremaining: 2.35s\n",
      "290:\tlearn: 0.1774970\ttotal: 961ms\tremaining: 2.34s\n",
      "291:\tlearn: 0.1771416\ttotal: 963ms\tremaining: 2.33s\n",
      "292:\tlearn: 0.1768391\ttotal: 967ms\tremaining: 2.33s\n"
     ]
    },
    {
     "name": "stdout",
     "output_type": "stream",
     "text": [
      "293:\tlearn: 0.1764742\ttotal: 969ms\tremaining: 2.33s\n",
      "294:\tlearn: 0.1761022\ttotal: 972ms\tremaining: 2.32s\n",
      "295:\tlearn: 0.1758569\ttotal: 974ms\tremaining: 2.32s\n",
      "296:\tlearn: 0.1754004\ttotal: 976ms\tremaining: 2.31s\n",
      "297:\tlearn: 0.1750388\ttotal: 978ms\tremaining: 2.3s\n",
      "298:\tlearn: 0.1748581\ttotal: 981ms\tremaining: 2.3s\n",
      "299:\tlearn: 0.1743579\ttotal: 983ms\tremaining: 2.29s\n",
      "300:\tlearn: 0.1739811\ttotal: 985ms\tremaining: 2.29s\n",
      "301:\tlearn: 0.1735675\ttotal: 988ms\tremaining: 2.28s\n",
      "302:\tlearn: 0.1732063\ttotal: 990ms\tremaining: 2.28s\n",
      "303:\tlearn: 0.1729527\ttotal: 992ms\tremaining: 2.27s\n",
      "304:\tlearn: 0.1725458\ttotal: 995ms\tremaining: 2.27s\n",
      "305:\tlearn: 0.1721937\ttotal: 997ms\tremaining: 2.26s\n",
      "306:\tlearn: 0.1716533\ttotal: 1s\tremaining: 2.26s\n",
      "307:\tlearn: 0.1712242\ttotal: 1.01s\tremaining: 2.26s\n",
      "308:\tlearn: 0.1709249\ttotal: 1.01s\tremaining: 2.26s\n",
      "309:\tlearn: 0.1705874\ttotal: 1.01s\tremaining: 2.25s\n"
     ]
    },
    {
     "name": "stdout",
     "output_type": "stream",
     "text": [
      "310:\tlearn: 0.1702098\ttotal: 1.01s\tremaining: 2.25s\n",
      "311:\tlearn: 0.1699681\ttotal: 1.02s\tremaining: 2.24s\n",
      "312:\tlearn: 0.1696437\ttotal: 1.02s\tremaining: 2.23s\n",
      "313:\tlearn: 0.1691150\ttotal: 1.02s\tremaining: 2.23s\n",
      "314:\tlearn: 0.1688724\ttotal: 1.02s\tremaining: 2.22s\n",
      "315:\tlearn: 0.1687344\ttotal: 1.02s\tremaining: 2.22s\n",
      "316:\tlearn: 0.1683052\ttotal: 1.03s\tremaining: 2.21s\n",
      "317:\tlearn: 0.1679586\ttotal: 1.03s\tremaining: 2.21s\n",
      "318:\tlearn: 0.1675714\ttotal: 1.03s\tremaining: 2.2s\n",
      "319:\tlearn: 0.1673036\ttotal: 1.03s\tremaining: 2.2s\n",
      "320:\tlearn: 0.1669148\ttotal: 1.03s\tremaining: 2.19s\n",
      "321:\tlearn: 0.1665119\ttotal: 1.04s\tremaining: 2.19s\n",
      "322:\tlearn: 0.1661643\ttotal: 1.04s\tremaining: 2.19s\n",
      "323:\tlearn: 0.1657972\ttotal: 1.05s\tremaining: 2.19s\n",
      "324:\tlearn: 0.1653665\ttotal: 1.05s\tremaining: 2.19s\n",
      "325:\tlearn: 0.1650607\ttotal: 1.06s\tremaining: 2.19s\n",
      "326:\tlearn: 0.1649414\ttotal: 1.06s\tremaining: 2.18s\n",
      "327:\tlearn: 0.1645300\ttotal: 1.06s\tremaining: 2.17s\n",
      "328:\tlearn: 0.1640910\ttotal: 1.06s\tremaining: 2.17s\n",
      "329:\tlearn: 0.1635511\ttotal: 1.07s\tremaining: 2.16s\n",
      "330:\tlearn: 0.1632881\ttotal: 1.07s\tremaining: 2.16s\n",
      "331:\tlearn: 0.1628999\ttotal: 1.07s\tremaining: 2.15s\n",
      "332:\tlearn: 0.1626867\ttotal: 1.07s\tremaining: 2.15s\n",
      "333:\tlearn: 0.1623221\ttotal: 1.07s\tremaining: 2.14s\n",
      "334:\tlearn: 0.1620930\ttotal: 1.08s\tremaining: 2.14s\n",
      "335:\tlearn: 0.1617592\ttotal: 1.08s\tremaining: 2.13s\n",
      "336:\tlearn: 0.1614850\ttotal: 1.08s\tremaining: 2.13s\n",
      "337:\tlearn: 0.1610994\ttotal: 1.08s\tremaining: 2.12s\n",
      "338:\tlearn: 0.1607674\ttotal: 1.09s\tremaining: 2.12s\n",
      "339:\tlearn: 0.1603564\ttotal: 1.09s\tremaining: 2.12s\n",
      "340:\tlearn: 0.1600425\ttotal: 1.09s\tremaining: 2.11s\n",
      "341:\tlearn: 0.1596568\ttotal: 1.09s\tremaining: 2.11s\n",
      "342:\tlearn: 0.1595544\ttotal: 1.1s\tremaining: 2.1s\n",
      "343:\tlearn: 0.1591587\ttotal: 1.1s\tremaining: 2.1s\n",
      "344:\tlearn: 0.1588885\ttotal: 1.1s\tremaining: 2.1s\n",
      "345:\tlearn: 0.1587957\ttotal: 1.11s\tremaining: 2.09s\n",
      "346:\tlearn: 0.1583734\ttotal: 1.11s\tremaining: 2.09s\n",
      "347:\tlearn: 0.1579545\ttotal: 1.11s\tremaining: 2.08s\n",
      "348:\tlearn: 0.1576654\ttotal: 1.13s\tremaining: 2.1s\n",
      "349:\tlearn: 0.1573119\ttotal: 1.13s\tremaining: 2.1s\n",
      "350:\tlearn: 0.1571085\ttotal: 1.13s\tremaining: 2.09s\n",
      "351:\tlearn: 0.1567858\ttotal: 1.14s\tremaining: 2.09s\n",
      "352:\tlearn: 0.1564902\ttotal: 1.14s\tremaining: 2.09s\n"
     ]
    },
    {
     "name": "stdout",
     "output_type": "stream",
     "text": [
      "353:\tlearn: 0.1561050\ttotal: 1.14s\tremaining: 2.09s\n",
      "354:\tlearn: 0.1557067\ttotal: 1.15s\tremaining: 2.08s\n",
      "355:\tlearn: 0.1554957\ttotal: 1.15s\tremaining: 2.08s\n",
      "356:\tlearn: 0.1552757\ttotal: 1.15s\tremaining: 2.08s\n",
      "357:\tlearn: 0.1549162\ttotal: 1.16s\tremaining: 2.07s\n",
      "358:\tlearn: 0.1545985\ttotal: 1.16s\tremaining: 2.07s\n",
      "359:\tlearn: 0.1543580\ttotal: 1.16s\tremaining: 2.07s\n",
      "360:\tlearn: 0.1541589\ttotal: 1.17s\tremaining: 2.06s\n",
      "361:\tlearn: 0.1538080\ttotal: 1.17s\tremaining: 2.06s\n",
      "362:\tlearn: 0.1536192\ttotal: 1.17s\tremaining: 2.06s\n",
      "363:\tlearn: 0.1531901\ttotal: 1.17s\tremaining: 2.05s\n",
      "364:\tlearn: 0.1530331\ttotal: 1.18s\tremaining: 2.05s\n",
      "365:\tlearn: 0.1528906\ttotal: 1.18s\tremaining: 2.04s\n",
      "366:\tlearn: 0.1528012\ttotal: 1.18s\tremaining: 2.04s\n",
      "367:\tlearn: 0.1526026\ttotal: 1.18s\tremaining: 2.03s\n",
      "368:\tlearn: 0.1523090\ttotal: 1.19s\tremaining: 2.03s\n"
     ]
    },
    {
     "name": "stdout",
     "output_type": "stream",
     "text": [
      "369:\tlearn: 0.1519774\ttotal: 1.19s\tremaining: 2.02s\n",
      "370:\tlearn: 0.1516826\ttotal: 1.19s\tremaining: 2.02s\n",
      "371:\tlearn: 0.1512688\ttotal: 1.19s\tremaining: 2.01s\n",
      "372:\tlearn: 0.1508181\ttotal: 1.2s\tremaining: 2.01s\n",
      "373:\tlearn: 0.1506649\ttotal: 1.2s\tremaining: 2s\n",
      "374:\tlearn: 0.1504233\ttotal: 1.2s\tremaining: 2s\n",
      "375:\tlearn: 0.1502030\ttotal: 1.2s\tremaining: 2s\n",
      "376:\tlearn: 0.1499714\ttotal: 1.21s\tremaining: 1.99s\n",
      "377:\tlearn: 0.1498383\ttotal: 1.21s\tremaining: 1.99s\n",
      "378:\tlearn: 0.1495039\ttotal: 1.21s\tremaining: 1.99s\n",
      "379:\tlearn: 0.1491124\ttotal: 1.21s\tremaining: 1.98s\n",
      "380:\tlearn: 0.1487548\ttotal: 1.22s\tremaining: 1.98s\n",
      "381:\tlearn: 0.1484796\ttotal: 1.22s\tremaining: 1.97s\n",
      "382:\tlearn: 0.1482741\ttotal: 1.22s\tremaining: 1.97s\n",
      "383:\tlearn: 0.1480705\ttotal: 1.22s\tremaining: 1.96s\n",
      "384:\tlearn: 0.1476952\ttotal: 1.23s\tremaining: 1.96s\n",
      "385:\tlearn: 0.1473833\ttotal: 1.23s\tremaining: 1.96s\n",
      "386:\tlearn: 0.1472659\ttotal: 1.23s\tremaining: 1.95s\n",
      "387:\tlearn: 0.1470394\ttotal: 1.23s\tremaining: 1.95s\n",
      "388:\tlearn: 0.1466744\ttotal: 1.24s\tremaining: 1.94s\n",
      "389:\tlearn: 0.1463744\ttotal: 1.24s\tremaining: 1.94s\n",
      "390:\tlearn: 0.1463165\ttotal: 1.24s\tremaining: 1.93s\n",
      "391:\tlearn: 0.1462599\ttotal: 1.24s\tremaining: 1.93s\n",
      "392:\tlearn: 0.1458907\ttotal: 1.24s\tremaining: 1.92s\n",
      "393:\tlearn: 0.1454778\ttotal: 1.25s\tremaining: 1.92s\n",
      "394:\tlearn: 0.1451824\ttotal: 1.25s\tremaining: 1.91s\n",
      "395:\tlearn: 0.1448706\ttotal: 1.25s\tremaining: 1.91s\n",
      "396:\tlearn: 0.1447142\ttotal: 1.25s\tremaining: 1.9s\n",
      "397:\tlearn: 0.1445017\ttotal: 1.26s\tremaining: 1.9s\n",
      "398:\tlearn: 0.1442414\ttotal: 1.26s\tremaining: 1.9s\n",
      "399:\tlearn: 0.1438803\ttotal: 1.26s\tremaining: 1.89s\n",
      "400:\tlearn: 0.1436829\ttotal: 1.26s\tremaining: 1.89s\n",
      "401:\tlearn: 0.1433488\ttotal: 1.27s\tremaining: 1.88s\n",
      "402:\tlearn: 0.1429569\ttotal: 1.27s\tremaining: 1.88s\n",
      "403:\tlearn: 0.1428569\ttotal: 1.27s\tremaining: 1.87s\n",
      "404:\tlearn: 0.1425195\ttotal: 1.27s\tremaining: 1.87s\n",
      "405:\tlearn: 0.1422983\ttotal: 1.27s\tremaining: 1.86s\n",
      "406:\tlearn: 0.1421223\ttotal: 1.28s\tremaining: 1.86s\n",
      "407:\tlearn: 0.1418508\ttotal: 1.28s\tremaining: 1.85s\n",
      "408:\tlearn: 0.1416848\ttotal: 1.28s\tremaining: 1.85s\n",
      "409:\tlearn: 0.1415923\ttotal: 1.28s\tremaining: 1.84s\n",
      "410:\tlearn: 0.1412570\ttotal: 1.28s\tremaining: 1.84s\n",
      "411:\tlearn: 0.1410363\ttotal: 1.29s\tremaining: 1.84s\n",
      "412:\tlearn: 0.1408784\ttotal: 1.29s\tremaining: 1.83s\n",
      "413:\tlearn: 0.1404829\ttotal: 1.29s\tremaining: 1.83s\n",
      "414:\tlearn: 0.1400961\ttotal: 1.29s\tremaining: 1.82s\n",
      "415:\tlearn: 0.1398023\ttotal: 1.29s\tremaining: 1.81s\n",
      "416:\tlearn: 0.1394659\ttotal: 1.29s\tremaining: 1.81s\n",
      "417:\tlearn: 0.1390719\ttotal: 1.3s\tremaining: 1.81s\n",
      "418:\tlearn: 0.1387891\ttotal: 1.3s\tremaining: 1.8s\n",
      "419:\tlearn: 0.1384842\ttotal: 1.3s\tremaining: 1.8s\n",
      "420:\tlearn: 0.1381691\ttotal: 1.31s\tremaining: 1.8s\n",
      "421:\tlearn: 0.1378745\ttotal: 1.31s\tremaining: 1.79s\n",
      "422:\tlearn: 0.1376119\ttotal: 1.31s\tremaining: 1.79s\n",
      "423:\tlearn: 0.1372116\ttotal: 1.31s\tremaining: 1.78s\n",
      "424:\tlearn: 0.1370993\ttotal: 1.31s\tremaining: 1.78s\n",
      "425:\tlearn: 0.1369237\ttotal: 1.32s\tremaining: 1.77s\n",
      "426:\tlearn: 0.1367329\ttotal: 1.32s\tremaining: 1.77s\n",
      "427:\tlearn: 0.1365054\ttotal: 1.32s\tremaining: 1.77s\n"
     ]
    },
    {
     "name": "stdout",
     "output_type": "stream",
     "text": [
      "428:\tlearn: 0.1362777\ttotal: 1.32s\tremaining: 1.76s\n",
      "429:\tlearn: 0.1360172\ttotal: 1.33s\tremaining: 1.76s\n",
      "430:\tlearn: 0.1356389\ttotal: 1.33s\tremaining: 1.75s\n",
      "431:\tlearn: 0.1355794\ttotal: 1.33s\tremaining: 1.75s\n",
      "432:\tlearn: 0.1353580\ttotal: 1.33s\tremaining: 1.74s\n",
      "433:\tlearn: 0.1350452\ttotal: 1.33s\tremaining: 1.74s\n",
      "434:\tlearn: 0.1348639\ttotal: 1.34s\tremaining: 1.74s\n",
      "435:\tlearn: 0.1345299\ttotal: 1.34s\tremaining: 1.73s\n",
      "436:\tlearn: 0.1342641\ttotal: 1.34s\tremaining: 1.73s\n",
      "437:\tlearn: 0.1340858\ttotal: 1.34s\tremaining: 1.72s\n",
      "438:\tlearn: 0.1337528\ttotal: 1.34s\tremaining: 1.72s\n",
      "439:\tlearn: 0.1335218\ttotal: 1.35s\tremaining: 1.71s\n",
      "440:\tlearn: 0.1332572\ttotal: 1.35s\tremaining: 1.71s\n",
      "441:\tlearn: 0.1330217\ttotal: 1.35s\tremaining: 1.71s\n",
      "442:\tlearn: 0.1329633\ttotal: 1.35s\tremaining: 1.7s\n",
      "443:\tlearn: 0.1327577\ttotal: 1.36s\tremaining: 1.7s\n",
      "444:\tlearn: 0.1325085\ttotal: 1.36s\tremaining: 1.69s\n",
      "445:\tlearn: 0.1322306\ttotal: 1.36s\tremaining: 1.69s\n",
      "446:\tlearn: 0.1319306\ttotal: 1.36s\tremaining: 1.69s\n",
      "447:\tlearn: 0.1317093\ttotal: 1.36s\tremaining: 1.68s\n",
      "448:\tlearn: 0.1313853\ttotal: 1.37s\tremaining: 1.68s\n"
     ]
    },
    {
     "name": "stdout",
     "output_type": "stream",
     "text": [
      "449:\tlearn: 0.1312350\ttotal: 1.37s\tremaining: 1.67s\n",
      "450:\tlearn: 0.1311939\ttotal: 1.37s\tremaining: 1.67s\n",
      "451:\tlearn: 0.1308690\ttotal: 1.38s\tremaining: 1.67s\n",
      "452:\tlearn: 0.1306471\ttotal: 1.38s\tremaining: 1.66s\n",
      "453:\tlearn: 0.1304494\ttotal: 1.38s\tremaining: 1.66s\n",
      "454:\tlearn: 0.1300041\ttotal: 1.38s\tremaining: 1.65s\n",
      "455:\tlearn: 0.1297745\ttotal: 1.38s\tremaining: 1.65s\n",
      "456:\tlearn: 0.1295478\ttotal: 1.38s\tremaining: 1.64s\n",
      "457:\tlearn: 0.1294771\ttotal: 1.39s\tremaining: 1.64s\n",
      "458:\tlearn: 0.1292188\ttotal: 1.39s\tremaining: 1.64s\n",
      "459:\tlearn: 0.1289983\ttotal: 1.39s\tremaining: 1.63s\n",
      "460:\tlearn: 0.1287191\ttotal: 1.39s\tremaining: 1.63s\n",
      "461:\tlearn: 0.1284945\ttotal: 1.39s\tremaining: 1.62s\n",
      "462:\tlearn: 0.1282565\ttotal: 1.4s\tremaining: 1.62s\n",
      "463:\tlearn: 0.1280727\ttotal: 1.4s\tremaining: 1.62s\n",
      "464:\tlearn: 0.1277413\ttotal: 1.4s\tremaining: 1.61s\n",
      "465:\tlearn: 0.1275681\ttotal: 1.4s\tremaining: 1.61s\n",
      "466:\tlearn: 0.1274982\ttotal: 1.4s\tremaining: 1.6s\n",
      "467:\tlearn: 0.1274594\ttotal: 1.41s\tremaining: 1.6s\n",
      "468:\tlearn: 0.1273117\ttotal: 1.41s\tremaining: 1.59s\n",
      "469:\tlearn: 0.1268714\ttotal: 1.41s\tremaining: 1.59s\n",
      "470:\tlearn: 0.1266779\ttotal: 1.41s\tremaining: 1.59s\n",
      "471:\tlearn: 0.1265174\ttotal: 1.42s\tremaining: 1.58s\n",
      "472:\tlearn: 0.1263332\ttotal: 1.42s\tremaining: 1.58s\n",
      "473:\tlearn: 0.1261247\ttotal: 1.42s\tremaining: 1.57s\n",
      "474:\tlearn: 0.1260040\ttotal: 1.42s\tremaining: 1.57s\n",
      "475:\tlearn: 0.1258175\ttotal: 1.42s\tremaining: 1.57s\n",
      "476:\tlearn: 0.1255136\ttotal: 1.43s\tremaining: 1.56s\n",
      "477:\tlearn: 0.1252149\ttotal: 1.43s\tremaining: 1.56s\n",
      "478:\tlearn: 0.1248925\ttotal: 1.43s\tremaining: 1.55s\n",
      "479:\tlearn: 0.1248189\ttotal: 1.43s\tremaining: 1.55s\n",
      "480:\tlearn: 0.1244628\ttotal: 1.43s\tremaining: 1.55s\n",
      "481:\tlearn: 0.1241946\ttotal: 1.44s\tremaining: 1.54s\n",
      "482:\tlearn: 0.1239989\ttotal: 1.44s\tremaining: 1.54s\n",
      "483:\tlearn: 0.1239528\ttotal: 1.44s\tremaining: 1.54s\n",
      "484:\tlearn: 0.1236865\ttotal: 1.44s\tremaining: 1.53s\n",
      "485:\tlearn: 0.1233123\ttotal: 1.44s\tremaining: 1.53s\n",
      "486:\tlearn: 0.1230149\ttotal: 1.45s\tremaining: 1.52s\n",
      "487:\tlearn: 0.1228120\ttotal: 1.45s\tremaining: 1.52s\n",
      "488:\tlearn: 0.1226024\ttotal: 1.45s\tremaining: 1.52s\n",
      "489:\tlearn: 0.1222197\ttotal: 1.45s\tremaining: 1.51s\n",
      "490:\tlearn: 0.1219463\ttotal: 1.46s\tremaining: 1.51s\n",
      "491:\tlearn: 0.1217425\ttotal: 1.46s\tremaining: 1.5s\n",
      "492:\tlearn: 0.1216348\ttotal: 1.46s\tremaining: 1.5s\n",
      "493:\tlearn: 0.1213723\ttotal: 1.49s\tremaining: 1.52s\n",
      "494:\tlearn: 0.1211330\ttotal: 1.49s\tremaining: 1.52s\n",
      "495:\tlearn: 0.1209169\ttotal: 1.5s\tremaining: 1.52s\n"
     ]
    },
    {
     "name": "stdout",
     "output_type": "stream",
     "text": [
      "496:\tlearn: 0.1207421\ttotal: 1.5s\tremaining: 1.52s\n",
      "497:\tlearn: 0.1204701\ttotal: 1.5s\tremaining: 1.52s\n",
      "498:\tlearn: 0.1201432\ttotal: 1.51s\tremaining: 1.51s\n",
      "499:\tlearn: 0.1199351\ttotal: 1.51s\tremaining: 1.51s\n",
      "500:\tlearn: 0.1198965\ttotal: 1.51s\tremaining: 1.5s\n",
      "501:\tlearn: 0.1198808\ttotal: 1.51s\tremaining: 1.5s\n",
      "502:\tlearn: 0.1196874\ttotal: 1.52s\tremaining: 1.5s\n",
      "503:\tlearn: 0.1195143\ttotal: 1.52s\tremaining: 1.5s\n",
      "504:\tlearn: 0.1194942\ttotal: 1.52s\tremaining: 1.49s\n",
      "505:\tlearn: 0.1193237\ttotal: 1.52s\tremaining: 1.49s\n",
      "506:\tlearn: 0.1191358\ttotal: 1.53s\tremaining: 1.48s\n",
      "507:\tlearn: 0.1188494\ttotal: 1.53s\tremaining: 1.48s\n",
      "508:\tlearn: 0.1186355\ttotal: 1.53s\tremaining: 1.48s\n",
      "509:\tlearn: 0.1184676\ttotal: 1.53s\tremaining: 1.47s\n",
      "510:\tlearn: 0.1182439\ttotal: 1.54s\tremaining: 1.47s\n",
      "511:\tlearn: 0.1180539\ttotal: 1.54s\tremaining: 1.47s\n"
     ]
    },
    {
     "name": "stdout",
     "output_type": "stream",
     "text": [
      "512:\tlearn: 0.1178159\ttotal: 1.54s\tremaining: 1.46s\n",
      "513:\tlearn: 0.1175042\ttotal: 1.55s\tremaining: 1.46s\n",
      "514:\tlearn: 0.1173023\ttotal: 1.55s\tremaining: 1.46s\n",
      "515:\tlearn: 0.1170308\ttotal: 1.55s\tremaining: 1.46s\n",
      "516:\tlearn: 0.1168694\ttotal: 1.56s\tremaining: 1.46s\n",
      "517:\tlearn: 0.1165732\ttotal: 1.56s\tremaining: 1.45s\n",
      "518:\tlearn: 0.1163700\ttotal: 1.56s\tremaining: 1.45s\n",
      "519:\tlearn: 0.1160984\ttotal: 1.57s\tremaining: 1.45s\n",
      "520:\tlearn: 0.1158597\ttotal: 1.57s\tremaining: 1.44s\n",
      "521:\tlearn: 0.1155498\ttotal: 1.57s\tremaining: 1.44s\n",
      "522:\tlearn: 0.1153596\ttotal: 1.58s\tremaining: 1.44s\n",
      "523:\tlearn: 0.1150499\ttotal: 1.58s\tremaining: 1.43s\n",
      "524:\tlearn: 0.1148026\ttotal: 1.58s\tremaining: 1.43s\n",
      "525:\tlearn: 0.1147028\ttotal: 1.58s\tremaining: 1.43s\n",
      "526:\tlearn: 0.1145492\ttotal: 1.59s\tremaining: 1.42s\n",
      "527:\tlearn: 0.1144247\ttotal: 1.59s\tremaining: 1.42s\n",
      "528:\tlearn: 0.1142706\ttotal: 1.59s\tremaining: 1.42s\n",
      "529:\tlearn: 0.1139835\ttotal: 1.59s\tremaining: 1.41s\n",
      "530:\tlearn: 0.1136172\ttotal: 1.6s\tremaining: 1.41s\n",
      "531:\tlearn: 0.1135257\ttotal: 1.6s\tremaining: 1.41s\n",
      "532:\tlearn: 0.1132919\ttotal: 1.6s\tremaining: 1.4s\n",
      "533:\tlearn: 0.1130228\ttotal: 1.6s\tremaining: 1.4s\n",
      "534:\tlearn: 0.1128194\ttotal: 1.61s\tremaining: 1.4s\n",
      "535:\tlearn: 0.1126553\ttotal: 1.61s\tremaining: 1.4s\n",
      "536:\tlearn: 0.1125574\ttotal: 1.62s\tremaining: 1.39s\n",
      "537:\tlearn: 0.1124088\ttotal: 1.62s\tremaining: 1.39s\n",
      "538:\tlearn: 0.1122026\ttotal: 1.62s\tremaining: 1.39s\n",
      "539:\tlearn: 0.1119583\ttotal: 1.63s\tremaining: 1.38s\n",
      "540:\tlearn: 0.1117680\ttotal: 1.63s\tremaining: 1.38s\n",
      "541:\tlearn: 0.1117536\ttotal: 1.63s\tremaining: 1.38s\n",
      "542:\tlearn: 0.1114619\ttotal: 1.63s\tremaining: 1.37s\n",
      "543:\tlearn: 0.1112922\ttotal: 1.64s\tremaining: 1.37s\n",
      "544:\tlearn: 0.1110008\ttotal: 1.64s\tremaining: 1.37s\n",
      "545:\tlearn: 0.1108540\ttotal: 1.64s\tremaining: 1.36s\n",
      "546:\tlearn: 0.1106211\ttotal: 1.64s\tremaining: 1.36s\n",
      "547:\tlearn: 0.1103802\ttotal: 1.64s\tremaining: 1.35s\n",
      "548:\tlearn: 0.1101459\ttotal: 1.65s\tremaining: 1.35s\n",
      "549:\tlearn: 0.1097978\ttotal: 1.65s\tremaining: 1.35s\n",
      "550:\tlearn: 0.1094642\ttotal: 1.65s\tremaining: 1.34s\n",
      "551:\tlearn: 0.1092263\ttotal: 1.65s\tremaining: 1.34s\n",
      "552:\tlearn: 0.1090848\ttotal: 1.65s\tremaining: 1.34s\n",
      "553:\tlearn: 0.1088825\ttotal: 1.66s\tremaining: 1.33s\n",
      "554:\tlearn: 0.1087713\ttotal: 1.66s\tremaining: 1.33s\n",
      "555:\tlearn: 0.1085494\ttotal: 1.66s\tremaining: 1.33s\n",
      "556:\tlearn: 0.1084477\ttotal: 1.67s\tremaining: 1.32s\n",
      "557:\tlearn: 0.1082789\ttotal: 1.67s\tremaining: 1.32s\n",
      "558:\tlearn: 0.1080421\ttotal: 1.67s\tremaining: 1.32s\n",
      "559:\tlearn: 0.1078854\ttotal: 1.67s\tremaining: 1.31s\n",
      "560:\tlearn: 0.1076626\ttotal: 1.67s\tremaining: 1.31s\n",
      "561:\tlearn: 0.1074914\ttotal: 1.67s\tremaining: 1.3s\n",
      "562:\tlearn: 0.1072795\ttotal: 1.68s\tremaining: 1.3s\n",
      "563:\tlearn: 0.1071817\ttotal: 1.68s\tremaining: 1.3s\n"
     ]
    },
    {
     "name": "stdout",
     "output_type": "stream",
     "text": [
      "564:\tlearn: 0.1069518\ttotal: 1.68s\tremaining: 1.29s\n",
      "565:\tlearn: 0.1068181\ttotal: 1.68s\tremaining: 1.29s\n",
      "566:\tlearn: 0.1064921\ttotal: 1.69s\tremaining: 1.29s\n",
      "567:\tlearn: 0.1064399\ttotal: 1.69s\tremaining: 1.28s\n",
      "568:\tlearn: 0.1064078\ttotal: 1.69s\tremaining: 1.28s\n",
      "569:\tlearn: 0.1060905\ttotal: 1.7s\tremaining: 1.28s\n",
      "570:\tlearn: 0.1059261\ttotal: 1.7s\tremaining: 1.28s\n",
      "571:\tlearn: 0.1057117\ttotal: 1.7s\tremaining: 1.27s\n",
      "572:\tlearn: 0.1056897\ttotal: 1.71s\tremaining: 1.27s\n",
      "573:\tlearn: 0.1054433\ttotal: 1.71s\tremaining: 1.27s\n",
      "574:\tlearn: 0.1052898\ttotal: 1.71s\tremaining: 1.26s\n",
      "575:\tlearn: 0.1049057\ttotal: 1.71s\tremaining: 1.26s\n",
      "576:\tlearn: 0.1047083\ttotal: 1.71s\tremaining: 1.25s\n",
      "577:\tlearn: 0.1045103\ttotal: 1.71s\tremaining: 1.25s\n",
      "578:\tlearn: 0.1043836\ttotal: 1.72s\tremaining: 1.25s\n",
      "579:\tlearn: 0.1043533\ttotal: 1.72s\tremaining: 1.24s\n"
     ]
    },
    {
     "name": "stdout",
     "output_type": "stream",
     "text": [
      "580:\tlearn: 0.1041465\ttotal: 1.72s\tremaining: 1.24s\n",
      "581:\tlearn: 0.1039942\ttotal: 1.72s\tremaining: 1.24s\n",
      "582:\tlearn: 0.1038065\ttotal: 1.72s\tremaining: 1.23s\n",
      "583:\tlearn: 0.1036427\ttotal: 1.73s\tremaining: 1.23s\n",
      "584:\tlearn: 0.1035216\ttotal: 1.73s\tremaining: 1.23s\n",
      "585:\tlearn: 0.1033429\ttotal: 1.73s\tremaining: 1.22s\n",
      "586:\tlearn: 0.1031493\ttotal: 1.73s\tremaining: 1.22s\n",
      "587:\tlearn: 0.1029194\ttotal: 1.73s\tremaining: 1.22s\n",
      "588:\tlearn: 0.1027192\ttotal: 1.74s\tremaining: 1.21s\n",
      "589:\tlearn: 0.1024670\ttotal: 1.74s\tremaining: 1.21s\n",
      "590:\tlearn: 0.1023314\ttotal: 1.74s\tremaining: 1.2s\n",
      "591:\tlearn: 0.1021525\ttotal: 1.74s\tremaining: 1.2s\n",
      "592:\tlearn: 0.1021322\ttotal: 1.75s\tremaining: 1.2s\n",
      "593:\tlearn: 0.1019334\ttotal: 1.75s\tremaining: 1.2s\n",
      "594:\tlearn: 0.1018380\ttotal: 1.75s\tremaining: 1.19s\n",
      "595:\tlearn: 0.1015919\ttotal: 1.75s\tremaining: 1.19s\n",
      "596:\tlearn: 0.1014463\ttotal: 1.75s\tremaining: 1.18s\n",
      "597:\tlearn: 0.1012932\ttotal: 1.75s\tremaining: 1.18s\n",
      "598:\tlearn: 0.1010919\ttotal: 1.76s\tremaining: 1.18s\n",
      "599:\tlearn: 0.1009543\ttotal: 1.76s\tremaining: 1.17s\n",
      "600:\tlearn: 0.1008352\ttotal: 1.76s\tremaining: 1.17s\n",
      "601:\tlearn: 0.1006978\ttotal: 1.76s\tremaining: 1.17s\n",
      "602:\tlearn: 0.1005399\ttotal: 1.76s\tremaining: 1.16s\n",
      "603:\tlearn: 0.1003673\ttotal: 1.77s\tremaining: 1.16s\n",
      "604:\tlearn: 0.1002057\ttotal: 1.77s\tremaining: 1.16s\n",
      "605:\tlearn: 0.0999630\ttotal: 1.77s\tremaining: 1.15s\n",
      "606:\tlearn: 0.0997842\ttotal: 1.77s\tremaining: 1.15s\n",
      "607:\tlearn: 0.0995729\ttotal: 1.77s\tremaining: 1.14s\n",
      "608:\tlearn: 0.0993686\ttotal: 1.78s\tremaining: 1.14s\n",
      "609:\tlearn: 0.0991649\ttotal: 1.78s\tremaining: 1.14s\n",
      "610:\tlearn: 0.0989408\ttotal: 1.78s\tremaining: 1.13s\n",
      "611:\tlearn: 0.0987828\ttotal: 1.78s\tremaining: 1.13s\n",
      "612:\tlearn: 0.0986116\ttotal: 1.79s\tremaining: 1.13s\n",
      "613:\tlearn: 0.0984652\ttotal: 1.79s\tremaining: 1.13s\n",
      "614:\tlearn: 0.0983714\ttotal: 1.79s\tremaining: 1.12s\n",
      "615:\tlearn: 0.0981847\ttotal: 1.79s\tremaining: 1.12s\n",
      "616:\tlearn: 0.0980820\ttotal: 1.8s\tremaining: 1.11s\n",
      "617:\tlearn: 0.0980380\ttotal: 1.8s\tremaining: 1.11s\n",
      "618:\tlearn: 0.0978849\ttotal: 1.8s\tremaining: 1.11s\n",
      "619:\tlearn: 0.0976817\ttotal: 1.8s\tremaining: 1.1s\n",
      "620:\tlearn: 0.0974553\ttotal: 1.81s\tremaining: 1.1s\n",
      "621:\tlearn: 0.0973254\ttotal: 1.81s\tremaining: 1.1s\n",
      "622:\tlearn: 0.0972026\ttotal: 1.81s\tremaining: 1.1s\n",
      "623:\tlearn: 0.0968561\ttotal: 1.81s\tremaining: 1.09s\n",
      "624:\tlearn: 0.0966746\ttotal: 1.81s\tremaining: 1.09s\n",
      "625:\tlearn: 0.0965377\ttotal: 1.82s\tremaining: 1.08s\n",
      "626:\tlearn: 0.0964284\ttotal: 1.82s\tremaining: 1.08s\n",
      "627:\tlearn: 0.0962608\ttotal: 1.82s\tremaining: 1.08s\n",
      "628:\tlearn: 0.0961180\ttotal: 1.82s\tremaining: 1.07s\n",
      "629:\tlearn: 0.0959353\ttotal: 1.82s\tremaining: 1.07s\n",
      "630:\tlearn: 0.0957763\ttotal: 1.83s\tremaining: 1.07s\n",
      "631:\tlearn: 0.0956750\ttotal: 1.83s\tremaining: 1.06s\n",
      "632:\tlearn: 0.0956529\ttotal: 1.83s\tremaining: 1.06s\n",
      "633:\tlearn: 0.0955131\ttotal: 1.84s\tremaining: 1.06s\n",
      "634:\tlearn: 0.0954409\ttotal: 1.84s\tremaining: 1.06s\n",
      "635:\tlearn: 0.0952554\ttotal: 1.84s\tremaining: 1.05s\n",
      "636:\tlearn: 0.0951344\ttotal: 1.84s\tremaining: 1.05s\n",
      "637:\tlearn: 0.0949239\ttotal: 1.84s\tremaining: 1.05s\n",
      "638:\tlearn: 0.0947650\ttotal: 1.85s\tremaining: 1.04s\n",
      "639:\tlearn: 0.0946027\ttotal: 1.85s\tremaining: 1.04s\n",
      "640:\tlearn: 0.0943774\ttotal: 1.85s\tremaining: 1.04s\n",
      "641:\tlearn: 0.0941841\ttotal: 1.85s\tremaining: 1.03s\n",
      "642:\tlearn: 0.0941612\ttotal: 1.86s\tremaining: 1.03s\n"
     ]
    },
    {
     "name": "stdout",
     "output_type": "stream",
     "text": [
      "643:\tlearn: 0.0940884\ttotal: 1.86s\tremaining: 1.03s\n",
      "644:\tlearn: 0.0939990\ttotal: 1.86s\tremaining: 1.02s\n",
      "645:\tlearn: 0.0938813\ttotal: 1.86s\tremaining: 1.02s\n",
      "646:\tlearn: 0.0936956\ttotal: 1.87s\tremaining: 1.02s\n",
      "647:\tlearn: 0.0934298\ttotal: 1.87s\tremaining: 1.01s\n",
      "648:\tlearn: 0.0932890\ttotal: 1.87s\tremaining: 1.01s\n",
      "649:\tlearn: 0.0930636\ttotal: 1.87s\tremaining: 1.01s\n",
      "650:\tlearn: 0.0929944\ttotal: 1.87s\tremaining: 1s\n",
      "651:\tlearn: 0.0928226\ttotal: 1.88s\tremaining: 1s\n",
      "652:\tlearn: 0.0926699\ttotal: 1.88s\tremaining: 998ms\n",
      "653:\tlearn: 0.0925063\ttotal: 1.88s\tremaining: 995ms\n",
      "654:\tlearn: 0.0923407\ttotal: 1.88s\tremaining: 992ms\n",
      "655:\tlearn: 0.0921418\ttotal: 1.89s\tremaining: 989ms\n",
      "656:\tlearn: 0.0920889\ttotal: 1.89s\tremaining: 986ms\n",
      "657:\tlearn: 0.0919870\ttotal: 1.89s\tremaining: 982ms\n",
      "658:\tlearn: 0.0918779\ttotal: 1.89s\tremaining: 979ms\n",
      "659:\tlearn: 0.0916829\ttotal: 1.89s\tremaining: 975ms\n",
      "660:\tlearn: 0.0915465\ttotal: 1.89s\tremaining: 972ms\n",
      "661:\tlearn: 0.0913020\ttotal: 1.9s\tremaining: 968ms\n",
      "662:\tlearn: 0.0912033\ttotal: 1.9s\tremaining: 965ms\n"
     ]
    },
    {
     "name": "stdout",
     "output_type": "stream",
     "text": [
      "663:\tlearn: 0.0910027\ttotal: 1.9s\tremaining: 961ms\n",
      "664:\tlearn: 0.0908399\ttotal: 1.9s\tremaining: 958ms\n",
      "665:\tlearn: 0.0907675\ttotal: 1.9s\tremaining: 955ms\n",
      "666:\tlearn: 0.0905525\ttotal: 1.91s\tremaining: 952ms\n",
      "667:\tlearn: 0.0903213\ttotal: 1.91s\tremaining: 949ms\n",
      "668:\tlearn: 0.0901458\ttotal: 1.91s\tremaining: 945ms\n",
      "669:\tlearn: 0.0901295\ttotal: 1.91s\tremaining: 942ms\n",
      "670:\tlearn: 0.0900492\ttotal: 1.92s\tremaining: 939ms\n",
      "671:\tlearn: 0.0899488\ttotal: 1.92s\tremaining: 936ms\n",
      "672:\tlearn: 0.0897336\ttotal: 1.92s\tremaining: 933ms\n",
      "673:\tlearn: 0.0894541\ttotal: 1.92s\tremaining: 929ms\n",
      "674:\tlearn: 0.0893090\ttotal: 1.92s\tremaining: 926ms\n",
      "675:\tlearn: 0.0891216\ttotal: 1.93s\tremaining: 926ms\n",
      "676:\tlearn: 0.0891099\ttotal: 1.93s\tremaining: 922ms\n",
      "677:\tlearn: 0.0889713\ttotal: 1.94s\tremaining: 919ms\n",
      "678:\tlearn: 0.0888416\ttotal: 1.94s\tremaining: 916ms\n",
      "679:\tlearn: 0.0887445\ttotal: 1.94s\tremaining: 912ms\n",
      "680:\tlearn: 0.0886772\ttotal: 1.94s\tremaining: 909ms\n",
      "681:\tlearn: 0.0885313\ttotal: 1.94s\tremaining: 906ms\n",
      "682:\tlearn: 0.0884733\ttotal: 1.95s\tremaining: 903ms\n",
      "683:\tlearn: 0.0882889\ttotal: 1.95s\tremaining: 900ms\n",
      "684:\tlearn: 0.0881260\ttotal: 1.95s\tremaining: 897ms\n",
      "685:\tlearn: 0.0880025\ttotal: 1.95s\tremaining: 893ms\n",
      "686:\tlearn: 0.0878845\ttotal: 1.95s\tremaining: 890ms\n",
      "687:\tlearn: 0.0877741\ttotal: 1.95s\tremaining: 887ms\n",
      "688:\tlearn: 0.0875949\ttotal: 1.96s\tremaining: 883ms\n",
      "689:\tlearn: 0.0874407\ttotal: 1.96s\tremaining: 881ms\n",
      "690:\tlearn: 0.0872742\ttotal: 1.96s\tremaining: 878ms\n",
      "691:\tlearn: 0.0871772\ttotal: 1.97s\tremaining: 876ms\n",
      "692:\tlearn: 0.0870512\ttotal: 1.97s\tremaining: 873ms\n",
      "693:\tlearn: 0.0869165\ttotal: 1.97s\tremaining: 870ms\n",
      "694:\tlearn: 0.0867377\ttotal: 1.98s\tremaining: 867ms\n",
      "695:\tlearn: 0.0865818\ttotal: 1.98s\tremaining: 864ms\n",
      "696:\tlearn: 0.0865103\ttotal: 1.98s\tremaining: 861ms\n",
      "697:\tlearn: 0.0864134\ttotal: 1.98s\tremaining: 858ms\n",
      "698:\tlearn: 0.0863220\ttotal: 1.99s\tremaining: 855ms\n",
      "699:\tlearn: 0.0860843\ttotal: 1.99s\tremaining: 852ms\n",
      "700:\tlearn: 0.0859861\ttotal: 1.99s\tremaining: 849ms\n",
      "701:\tlearn: 0.0858871\ttotal: 1.99s\tremaining: 846ms\n",
      "702:\tlearn: 0.0858449\ttotal: 2s\tremaining: 843ms\n",
      "703:\tlearn: 0.0857696\ttotal: 2s\tremaining: 840ms\n",
      "704:\tlearn: 0.0856700\ttotal: 2s\tremaining: 837ms\n",
      "705:\tlearn: 0.0855817\ttotal: 2.01s\tremaining: 838ms\n",
      "706:\tlearn: 0.0854987\ttotal: 2.02s\tremaining: 836ms\n",
      "707:\tlearn: 0.0854865\ttotal: 2.02s\tremaining: 832ms\n",
      "708:\tlearn: 0.0853716\ttotal: 2.02s\tremaining: 830ms\n",
      "709:\tlearn: 0.0851982\ttotal: 2.02s\tremaining: 826ms\n",
      "710:\tlearn: 0.0850376\ttotal: 2.02s\tremaining: 823ms\n",
      "711:\tlearn: 0.0848657\ttotal: 2.03s\tremaining: 820ms\n",
      "712:\tlearn: 0.0847984\ttotal: 2.03s\tremaining: 817ms\n",
      "713:\tlearn: 0.0846127\ttotal: 2.03s\tremaining: 813ms\n",
      "714:\tlearn: 0.0845485\ttotal: 2.03s\tremaining: 810ms\n",
      "715:\tlearn: 0.0844840\ttotal: 2.03s\tremaining: 807ms\n"
     ]
    },
    {
     "name": "stdout",
     "output_type": "stream",
     "text": [
      "716:\tlearn: 0.0843408\ttotal: 2.04s\tremaining: 807ms\n",
      "717:\tlearn: 0.0841395\ttotal: 2.05s\tremaining: 805ms\n",
      "718:\tlearn: 0.0840541\ttotal: 2.05s\tremaining: 802ms\n",
      "719:\tlearn: 0.0840124\ttotal: 2.05s\tremaining: 799ms\n",
      "720:\tlearn: 0.0840012\ttotal: 2.06s\tremaining: 796ms\n",
      "721:\tlearn: 0.0838650\ttotal: 2.06s\tremaining: 792ms\n",
      "722:\tlearn: 0.0838083\ttotal: 2.06s\tremaining: 789ms\n",
      "723:\tlearn: 0.0836189\ttotal: 2.06s\tremaining: 786ms\n",
      "724:\tlearn: 0.0833955\ttotal: 2.06s\tremaining: 783ms\n",
      "725:\tlearn: 0.0832341\ttotal: 2.06s\tremaining: 779ms\n",
      "726:\tlearn: 0.0829452\ttotal: 2.07s\tremaining: 776ms\n",
      "727:\tlearn: 0.0828646\ttotal: 2.07s\tremaining: 773ms\n",
      "728:\tlearn: 0.0827697\ttotal: 2.07s\tremaining: 770ms\n",
      "729:\tlearn: 0.0826940\ttotal: 2.07s\tremaining: 767ms\n"
     ]
    },
    {
     "name": "stdout",
     "output_type": "stream",
     "text": [
      "730:\tlearn: 0.0825664\ttotal: 2.08s\tremaining: 764ms\n",
      "731:\tlearn: 0.0824217\ttotal: 2.08s\tremaining: 762ms\n",
      "732:\tlearn: 0.0822434\ttotal: 2.08s\tremaining: 759ms\n",
      "733:\tlearn: 0.0821243\ttotal: 2.09s\tremaining: 756ms\n",
      "734:\tlearn: 0.0820065\ttotal: 2.09s\tremaining: 753ms\n",
      "735:\tlearn: 0.0818508\ttotal: 2.09s\tremaining: 750ms\n",
      "736:\tlearn: 0.0816376\ttotal: 2.09s\tremaining: 747ms\n",
      "737:\tlearn: 0.0816229\ttotal: 2.1s\tremaining: 744ms\n",
      "738:\tlearn: 0.0815047\ttotal: 2.1s\tremaining: 741ms\n",
      "739:\tlearn: 0.0814337\ttotal: 2.1s\tremaining: 737ms\n",
      "740:\tlearn: 0.0813226\ttotal: 2.1s\tremaining: 734ms\n",
      "741:\tlearn: 0.0812384\ttotal: 2.1s\tremaining: 731ms\n",
      "742:\tlearn: 0.0810325\ttotal: 2.1s\tremaining: 728ms\n",
      "743:\tlearn: 0.0809429\ttotal: 2.11s\tremaining: 725ms\n",
      "744:\tlearn: 0.0807661\ttotal: 2.11s\tremaining: 722ms\n",
      "745:\tlearn: 0.0806825\ttotal: 2.11s\tremaining: 719ms\n",
      "746:\tlearn: 0.0805762\ttotal: 2.11s\tremaining: 716ms\n",
      "747:\tlearn: 0.0805211\ttotal: 2.11s\tremaining: 712ms\n",
      "748:\tlearn: 0.0803995\ttotal: 2.12s\tremaining: 709ms\n",
      "749:\tlearn: 0.0802888\ttotal: 2.12s\tremaining: 706ms\n",
      "750:\tlearn: 0.0802491\ttotal: 2.12s\tremaining: 703ms\n",
      "751:\tlearn: 0.0801592\ttotal: 2.12s\tremaining: 700ms\n",
      "752:\tlearn: 0.0800327\ttotal: 2.12s\tremaining: 697ms\n",
      "753:\tlearn: 0.0799661\ttotal: 2.13s\tremaining: 694ms\n",
      "754:\tlearn: 0.0799373\ttotal: 2.13s\tremaining: 691ms\n",
      "755:\tlearn: 0.0798029\ttotal: 2.13s\tremaining: 688ms\n",
      "756:\tlearn: 0.0796755\ttotal: 2.13s\tremaining: 685ms\n",
      "757:\tlearn: 0.0795808\ttotal: 2.13s\tremaining: 682ms\n",
      "758:\tlearn: 0.0794644\ttotal: 2.14s\tremaining: 679ms\n",
      "759:\tlearn: 0.0793287\ttotal: 2.14s\tremaining: 675ms\n",
      "760:\tlearn: 0.0792033\ttotal: 2.14s\tremaining: 672ms\n",
      "761:\tlearn: 0.0791789\ttotal: 2.14s\tremaining: 669ms\n",
      "762:\tlearn: 0.0790365\ttotal: 2.14s\tremaining: 666ms\n",
      "763:\tlearn: 0.0789613\ttotal: 2.15s\tremaining: 663ms\n",
      "764:\tlearn: 0.0787872\ttotal: 2.15s\tremaining: 660ms\n",
      "765:\tlearn: 0.0786723\ttotal: 2.15s\tremaining: 657ms\n",
      "766:\tlearn: 0.0785355\ttotal: 2.15s\tremaining: 654ms\n",
      "767:\tlearn: 0.0783572\ttotal: 2.15s\tremaining: 651ms\n",
      "768:\tlearn: 0.0782246\ttotal: 2.16s\tremaining: 648ms\n",
      "769:\tlearn: 0.0781315\ttotal: 2.16s\tremaining: 645ms\n",
      "770:\tlearn: 0.0779930\ttotal: 2.16s\tremaining: 642ms\n",
      "771:\tlearn: 0.0779766\ttotal: 2.16s\tremaining: 639ms\n",
      "772:\tlearn: 0.0778116\ttotal: 2.17s\tremaining: 636ms\n",
      "773:\tlearn: 0.0776223\ttotal: 2.17s\tremaining: 633ms\n",
      "774:\tlearn: 0.0775236\ttotal: 2.17s\tremaining: 630ms\n",
      "775:\tlearn: 0.0774074\ttotal: 2.17s\tremaining: 627ms\n",
      "776:\tlearn: 0.0772920\ttotal: 2.17s\tremaining: 624ms\n",
      "777:\tlearn: 0.0772133\ttotal: 2.17s\tremaining: 621ms\n",
      "778:\tlearn: 0.0770075\ttotal: 2.18s\tremaining: 618ms\n",
      "779:\tlearn: 0.0769005\ttotal: 2.18s\tremaining: 615ms\n",
      "780:\tlearn: 0.0767824\ttotal: 2.18s\tremaining: 611ms\n",
      "781:\tlearn: 0.0766682\ttotal: 2.18s\tremaining: 609ms\n",
      "782:\tlearn: 0.0765880\ttotal: 2.19s\tremaining: 606ms\n",
      "783:\tlearn: 0.0765467\ttotal: 2.19s\tremaining: 603ms\n",
      "784:\tlearn: 0.0764050\ttotal: 2.19s\tremaining: 600ms\n",
      "785:\tlearn: 0.0763642\ttotal: 2.19s\tremaining: 597ms\n",
      "786:\tlearn: 0.0762157\ttotal: 2.19s\tremaining: 594ms\n",
      "787:\tlearn: 0.0761194\ttotal: 2.2s\tremaining: 591ms\n",
      "788:\tlearn: 0.0759891\ttotal: 2.2s\tremaining: 588ms\n",
      "789:\tlearn: 0.0758810\ttotal: 2.2s\tremaining: 585ms\n",
      "790:\tlearn: 0.0758251\ttotal: 2.2s\tremaining: 582ms\n",
      "791:\tlearn: 0.0756231\ttotal: 2.21s\tremaining: 579ms\n",
      "792:\tlearn: 0.0755251\ttotal: 2.21s\tremaining: 576ms\n",
      "793:\tlearn: 0.0753820\ttotal: 2.21s\tremaining: 573ms\n",
      "794:\tlearn: 0.0752495\ttotal: 2.21s\tremaining: 570ms\n",
      "795:\tlearn: 0.0751410\ttotal: 2.21s\tremaining: 567ms\n",
      "796:\tlearn: 0.0751302\ttotal: 2.21s\tremaining: 564ms\n",
      "797:\tlearn: 0.0750554\ttotal: 2.22s\tremaining: 561ms\n",
      "798:\tlearn: 0.0749359\ttotal: 2.22s\tremaining: 558ms\n",
      "799:\tlearn: 0.0748259\ttotal: 2.22s\tremaining: 555ms\n",
      "800:\tlearn: 0.0746734\ttotal: 2.22s\tremaining: 552ms\n"
     ]
    },
    {
     "name": "stdout",
     "output_type": "stream",
     "text": [
      "801:\tlearn: 0.0746637\ttotal: 2.23s\tremaining: 549ms\n",
      "802:\tlearn: 0.0745150\ttotal: 2.23s\tremaining: 547ms\n",
      "803:\tlearn: 0.0744640\ttotal: 2.23s\tremaining: 544ms\n",
      "804:\tlearn: 0.0743781\ttotal: 2.23s\tremaining: 541ms\n",
      "805:\tlearn: 0.0742612\ttotal: 2.23s\tremaining: 538ms\n",
      "806:\tlearn: 0.0740985\ttotal: 2.24s\tremaining: 535ms\n",
      "807:\tlearn: 0.0739869\ttotal: 2.24s\tremaining: 532ms\n",
      "808:\tlearn: 0.0739497\ttotal: 2.24s\tremaining: 529ms\n",
      "809:\tlearn: 0.0739059\ttotal: 2.24s\tremaining: 526ms\n",
      "810:\tlearn: 0.0737862\ttotal: 2.24s\tremaining: 523ms\n",
      "811:\tlearn: 0.0736880\ttotal: 2.24s\tremaining: 520ms\n",
      "812:\tlearn: 0.0736390\ttotal: 2.25s\tremaining: 517ms\n",
      "813:\tlearn: 0.0735856\ttotal: 2.25s\tremaining: 514ms\n",
      "814:\tlearn: 0.0734332\ttotal: 2.25s\tremaining: 511ms\n",
      "815:\tlearn: 0.0733380\ttotal: 2.25s\tremaining: 508ms\n",
      "816:\tlearn: 0.0733065\ttotal: 2.25s\tremaining: 505ms\n",
      "817:\tlearn: 0.0732046\ttotal: 2.25s\tremaining: 502ms\n"
     ]
    },
    {
     "name": "stdout",
     "output_type": "stream",
     "text": [
      "818:\tlearn: 0.0730674\ttotal: 2.26s\tremaining: 499ms\n",
      "819:\tlearn: 0.0729357\ttotal: 2.26s\tremaining: 496ms\n",
      "820:\tlearn: 0.0728026\ttotal: 2.26s\tremaining: 493ms\n",
      "821:\tlearn: 0.0726718\ttotal: 2.26s\tremaining: 490ms\n",
      "822:\tlearn: 0.0725235\ttotal: 2.27s\tremaining: 488ms\n",
      "823:\tlearn: 0.0725078\ttotal: 2.27s\tremaining: 485ms\n",
      "824:\tlearn: 0.0724037\ttotal: 2.27s\tremaining: 482ms\n",
      "825:\tlearn: 0.0723566\ttotal: 2.27s\tremaining: 479ms\n",
      "826:\tlearn: 0.0721788\ttotal: 2.27s\tremaining: 476ms\n",
      "827:\tlearn: 0.0721060\ttotal: 2.28s\tremaining: 473ms\n",
      "828:\tlearn: 0.0719682\ttotal: 2.28s\tremaining: 470ms\n",
      "829:\tlearn: 0.0717657\ttotal: 2.28s\tremaining: 467ms\n",
      "830:\tlearn: 0.0716170\ttotal: 2.28s\tremaining: 464ms\n",
      "831:\tlearn: 0.0715126\ttotal: 2.28s\tremaining: 461ms\n",
      "832:\tlearn: 0.0713333\ttotal: 2.28s\tremaining: 458ms\n",
      "833:\tlearn: 0.0711710\ttotal: 2.29s\tremaining: 455ms\n",
      "834:\tlearn: 0.0711632\ttotal: 2.29s\tremaining: 452ms\n",
      "835:\tlearn: 0.0710985\ttotal: 2.29s\tremaining: 450ms\n",
      "836:\tlearn: 0.0709633\ttotal: 2.29s\tremaining: 447ms\n",
      "837:\tlearn: 0.0708457\ttotal: 2.3s\tremaining: 444ms\n",
      "838:\tlearn: 0.0706751\ttotal: 2.3s\tremaining: 441ms\n",
      "839:\tlearn: 0.0705427\ttotal: 2.3s\tremaining: 438ms\n",
      "840:\tlearn: 0.0705080\ttotal: 2.3s\tremaining: 435ms\n",
      "841:\tlearn: 0.0703686\ttotal: 2.3s\tremaining: 432ms\n",
      "842:\tlearn: 0.0703080\ttotal: 2.31s\tremaining: 429ms\n",
      "843:\tlearn: 0.0702034\ttotal: 2.31s\tremaining: 426ms\n",
      "844:\tlearn: 0.0700650\ttotal: 2.31s\tremaining: 423ms\n",
      "845:\tlearn: 0.0699858\ttotal: 2.31s\tremaining: 420ms\n",
      "846:\tlearn: 0.0698689\ttotal: 2.31s\tremaining: 417ms\n",
      "847:\tlearn: 0.0697047\ttotal: 2.31s\tremaining: 415ms\n",
      "848:\tlearn: 0.0695249\ttotal: 2.31s\tremaining: 412ms\n",
      "849:\tlearn: 0.0693846\ttotal: 2.32s\tremaining: 409ms\n",
      "850:\tlearn: 0.0692689\ttotal: 2.32s\tremaining: 406ms\n",
      "851:\tlearn: 0.0691617\ttotal: 2.32s\tremaining: 403ms\n",
      "852:\tlearn: 0.0690804\ttotal: 2.32s\tremaining: 400ms\n",
      "853:\tlearn: 0.0689525\ttotal: 2.32s\tremaining: 397ms\n",
      "854:\tlearn: 0.0688377\ttotal: 2.33s\tremaining: 395ms\n",
      "855:\tlearn: 0.0687357\ttotal: 2.33s\tremaining: 392ms\n",
      "856:\tlearn: 0.0686164\ttotal: 2.33s\tremaining: 389ms\n",
      "857:\tlearn: 0.0684882\ttotal: 2.33s\tremaining: 386ms\n",
      "858:\tlearn: 0.0683718\ttotal: 2.33s\tremaining: 383ms\n",
      "859:\tlearn: 0.0682664\ttotal: 2.34s\tremaining: 380ms\n",
      "860:\tlearn: 0.0682268\ttotal: 2.34s\tremaining: 378ms\n",
      "861:\tlearn: 0.0680437\ttotal: 2.34s\tremaining: 375ms\n",
      "862:\tlearn: 0.0679925\ttotal: 2.34s\tremaining: 372ms\n",
      "863:\tlearn: 0.0679384\ttotal: 2.34s\tremaining: 369ms\n",
      "864:\tlearn: 0.0678058\ttotal: 2.35s\tremaining: 366ms\n",
      "865:\tlearn: 0.0676550\ttotal: 2.35s\tremaining: 363ms\n",
      "866:\tlearn: 0.0675595\ttotal: 2.35s\tremaining: 360ms\n",
      "867:\tlearn: 0.0674154\ttotal: 2.35s\tremaining: 358ms\n",
      "868:\tlearn: 0.0673496\ttotal: 2.35s\tremaining: 355ms\n",
      "869:\tlearn: 0.0672606\ttotal: 2.36s\tremaining: 352ms\n",
      "870:\tlearn: 0.0671716\ttotal: 2.36s\tremaining: 349ms\n",
      "871:\tlearn: 0.0670947\ttotal: 2.36s\tremaining: 347ms\n",
      "872:\tlearn: 0.0670228\ttotal: 2.36s\tremaining: 344ms\n",
      "873:\tlearn: 0.0669332\ttotal: 2.37s\tremaining: 341ms\n",
      "874:\tlearn: 0.0668005\ttotal: 2.37s\tremaining: 339ms\n",
      "875:\tlearn: 0.0666544\ttotal: 2.37s\tremaining: 336ms\n",
      "876:\tlearn: 0.0666191\ttotal: 2.37s\tremaining: 333ms\n",
      "877:\tlearn: 0.0664826\ttotal: 2.38s\tremaining: 330ms\n",
      "878:\tlearn: 0.0663702\ttotal: 2.38s\tremaining: 327ms\n",
      "879:\tlearn: 0.0662947\ttotal: 2.38s\tremaining: 325ms\n",
      "880:\tlearn: 0.0662205\ttotal: 2.38s\tremaining: 322ms\n",
      "881:\tlearn: 0.0661297\ttotal: 2.38s\tremaining: 319ms\n",
      "882:\tlearn: 0.0660380\ttotal: 2.39s\tremaining: 316ms\n",
      "883:\tlearn: 0.0659899\ttotal: 2.39s\tremaining: 314ms\n",
      "884:\tlearn: 0.0658802\ttotal: 2.39s\tremaining: 311ms\n",
      "885:\tlearn: 0.0657818\ttotal: 2.39s\tremaining: 308ms\n",
      "886:\tlearn: 0.0656327\ttotal: 2.39s\tremaining: 305ms\n",
      "887:\tlearn: 0.0655196\ttotal: 2.4s\tremaining: 302ms\n",
      "888:\tlearn: 0.0654433\ttotal: 2.4s\tremaining: 299ms\n"
     ]
    },
    {
     "name": "stdout",
     "output_type": "stream",
     "text": [
      "889:\tlearn: 0.0652715\ttotal: 2.4s\tremaining: 297ms\n",
      "890:\tlearn: 0.0651473\ttotal: 2.4s\tremaining: 294ms\n",
      "891:\tlearn: 0.0650254\ttotal: 2.4s\tremaining: 291ms\n",
      "892:\tlearn: 0.0649277\ttotal: 2.41s\tremaining: 288ms\n",
      "893:\tlearn: 0.0648539\ttotal: 2.41s\tremaining: 286ms\n",
      "894:\tlearn: 0.0647928\ttotal: 2.41s\tremaining: 283ms\n",
      "895:\tlearn: 0.0646994\ttotal: 2.41s\tremaining: 280ms\n",
      "896:\tlearn: 0.0646075\ttotal: 2.42s\tremaining: 277ms\n",
      "897:\tlearn: 0.0645271\ttotal: 2.42s\tremaining: 275ms\n",
      "898:\tlearn: 0.0643946\ttotal: 2.42s\tremaining: 272ms\n",
      "899:\tlearn: 0.0643017\ttotal: 2.42s\tremaining: 269ms\n",
      "900:\tlearn: 0.0642277\ttotal: 2.42s\tremaining: 266ms\n",
      "901:\tlearn: 0.0641793\ttotal: 2.42s\tremaining: 263ms\n",
      "902:\tlearn: 0.0640935\ttotal: 2.43s\tremaining: 261ms\n"
     ]
    },
    {
     "name": "stdout",
     "output_type": "stream",
     "text": [
      "903:\tlearn: 0.0640083\ttotal: 2.43s\tremaining: 258ms\n",
      "904:\tlearn: 0.0638964\ttotal: 2.43s\tremaining: 255ms\n",
      "905:\tlearn: 0.0638322\ttotal: 2.43s\tremaining: 252ms\n",
      "906:\tlearn: 0.0637651\ttotal: 2.44s\tremaining: 250ms\n",
      "907:\tlearn: 0.0636939\ttotal: 2.44s\tremaining: 247ms\n",
      "908:\tlearn: 0.0636658\ttotal: 2.44s\tremaining: 244ms\n",
      "909:\tlearn: 0.0635510\ttotal: 2.44s\tremaining: 242ms\n",
      "910:\tlearn: 0.0634430\ttotal: 2.44s\tremaining: 239ms\n",
      "911:\tlearn: 0.0634100\ttotal: 2.45s\tremaining: 236ms\n",
      "912:\tlearn: 0.0633449\ttotal: 2.45s\tremaining: 233ms\n",
      "913:\tlearn: 0.0632142\ttotal: 2.45s\tremaining: 231ms\n",
      "914:\tlearn: 0.0631762\ttotal: 2.45s\tremaining: 228ms\n",
      "915:\tlearn: 0.0631038\ttotal: 2.45s\tremaining: 225ms\n",
      "916:\tlearn: 0.0629673\ttotal: 2.46s\tremaining: 222ms\n",
      "917:\tlearn: 0.0629065\ttotal: 2.46s\tremaining: 220ms\n",
      "918:\tlearn: 0.0627885\ttotal: 2.46s\tremaining: 217ms\n",
      "919:\tlearn: 0.0626877\ttotal: 2.46s\tremaining: 214ms\n",
      "920:\tlearn: 0.0626450\ttotal: 2.46s\tremaining: 211ms\n",
      "921:\tlearn: 0.0625783\ttotal: 2.47s\tremaining: 209ms\n",
      "922:\tlearn: 0.0625407\ttotal: 2.47s\tremaining: 206ms\n",
      "923:\tlearn: 0.0624705\ttotal: 2.47s\tremaining: 203ms\n",
      "924:\tlearn: 0.0624068\ttotal: 2.47s\tremaining: 200ms\n",
      "925:\tlearn: 0.0623488\ttotal: 2.47s\tremaining: 198ms\n",
      "926:\tlearn: 0.0622956\ttotal: 2.48s\tremaining: 195ms\n",
      "927:\tlearn: 0.0621591\ttotal: 2.48s\tremaining: 192ms\n",
      "928:\tlearn: 0.0620492\ttotal: 2.48s\tremaining: 189ms\n",
      "929:\tlearn: 0.0619699\ttotal: 2.48s\tremaining: 187ms\n",
      "930:\tlearn: 0.0618260\ttotal: 2.48s\tremaining: 184ms\n",
      "931:\tlearn: 0.0617148\ttotal: 2.48s\tremaining: 181ms\n",
      "932:\tlearn: 0.0617063\ttotal: 2.49s\tremaining: 179ms\n",
      "933:\tlearn: 0.0615924\ttotal: 2.49s\tremaining: 176ms\n",
      "934:\tlearn: 0.0614826\ttotal: 2.49s\tremaining: 173ms\n",
      "935:\tlearn: 0.0614071\ttotal: 2.5s\tremaining: 171ms\n",
      "936:\tlearn: 0.0613052\ttotal: 2.5s\tremaining: 168ms\n",
      "937:\tlearn: 0.0611850\ttotal: 2.5s\tremaining: 165ms\n",
      "938:\tlearn: 0.0610539\ttotal: 2.51s\tremaining: 163ms\n",
      "939:\tlearn: 0.0609542\ttotal: 2.52s\tremaining: 161ms\n",
      "940:\tlearn: 0.0608767\ttotal: 2.52s\tremaining: 158ms\n",
      "941:\tlearn: 0.0607617\ttotal: 2.52s\tremaining: 155ms\n",
      "942:\tlearn: 0.0606924\ttotal: 2.52s\tremaining: 152ms\n",
      "943:\tlearn: 0.0606428\ttotal: 2.52s\tremaining: 150ms\n",
      "944:\tlearn: 0.0605565\ttotal: 2.53s\tremaining: 147ms\n",
      "945:\tlearn: 0.0604671\ttotal: 2.53s\tremaining: 144ms\n",
      "946:\tlearn: 0.0604246\ttotal: 2.53s\tremaining: 142ms\n",
      "947:\tlearn: 0.0604157\ttotal: 2.53s\tremaining: 139ms\n",
      "948:\tlearn: 0.0603403\ttotal: 2.54s\tremaining: 136ms\n",
      "949:\tlearn: 0.0603326\ttotal: 2.54s\tremaining: 134ms\n",
      "950:\tlearn: 0.0602226\ttotal: 2.54s\tremaining: 131ms\n",
      "951:\tlearn: 0.0601179\ttotal: 2.55s\tremaining: 128ms\n",
      "952:\tlearn: 0.0600839\ttotal: 2.55s\tremaining: 126ms\n",
      "953:\tlearn: 0.0599921\ttotal: 2.55s\tremaining: 123ms\n",
      "954:\tlearn: 0.0599404\ttotal: 2.56s\tremaining: 121ms\n",
      "955:\tlearn: 0.0598320\ttotal: 2.56s\tremaining: 118ms\n",
      "956:\tlearn: 0.0597728\ttotal: 2.56s\tremaining: 115ms\n"
     ]
    },
    {
     "name": "stdout",
     "output_type": "stream",
     "text": [
      "957:\tlearn: 0.0597324\ttotal: 2.57s\tremaining: 113ms\n",
      "958:\tlearn: 0.0596559\ttotal: 2.58s\tremaining: 110ms\n",
      "959:\tlearn: 0.0595566\ttotal: 2.58s\tremaining: 107ms\n",
      "960:\tlearn: 0.0595019\ttotal: 2.59s\tremaining: 105ms\n",
      "961:\tlearn: 0.0594245\ttotal: 2.59s\tremaining: 102ms\n",
      "962:\tlearn: 0.0593217\ttotal: 2.59s\tremaining: 99.6ms\n",
      "963:\tlearn: 0.0592679\ttotal: 2.6s\tremaining: 97ms\n",
      "964:\tlearn: 0.0592155\ttotal: 2.6s\tremaining: 94.3ms\n"
     ]
    },
    {
     "name": "stdout",
     "output_type": "stream",
     "text": [
      "965:\tlearn: 0.0591006\ttotal: 2.6s\tremaining: 91.6ms\n",
      "966:\tlearn: 0.0589924\ttotal: 2.6s\tremaining: 88.9ms\n",
      "967:\tlearn: 0.0589240\ttotal: 2.61s\tremaining: 86.2ms\n",
      "968:\tlearn: 0.0588499\ttotal: 2.61s\tremaining: 83.5ms\n",
      "969:\tlearn: 0.0587155\ttotal: 2.61s\tremaining: 80.8ms\n",
      "970:\tlearn: 0.0586477\ttotal: 2.62s\tremaining: 78.2ms\n",
      "971:\tlearn: 0.0585927\ttotal: 2.62s\tremaining: 75.5ms\n",
      "972:\tlearn: 0.0585218\ttotal: 2.62s\tremaining: 72.8ms\n",
      "973:\tlearn: 0.0584883\ttotal: 2.63s\tremaining: 70.1ms\n",
      "974:\tlearn: 0.0583841\ttotal: 2.63s\tremaining: 67.4ms\n",
      "975:\tlearn: 0.0583367\ttotal: 2.63s\tremaining: 64.7ms\n",
      "976:\tlearn: 0.0582908\ttotal: 2.63s\tremaining: 62ms\n",
      "977:\tlearn: 0.0582408\ttotal: 2.64s\tremaining: 59.3ms\n",
      "978:\tlearn: 0.0581522\ttotal: 2.64s\tremaining: 56.7ms\n",
      "979:\tlearn: 0.0580577\ttotal: 2.65s\tremaining: 54ms\n",
      "980:\tlearn: 0.0579771\ttotal: 2.65s\tremaining: 51.3ms\n",
      "981:\tlearn: 0.0579146\ttotal: 2.66s\tremaining: 48.8ms\n",
      "982:\tlearn: 0.0579090\ttotal: 2.66s\tremaining: 46ms\n",
      "983:\tlearn: 0.0578369\ttotal: 2.66s\tremaining: 43.3ms\n",
      "984:\tlearn: 0.0577667\ttotal: 2.67s\tremaining: 40.6ms\n",
      "985:\tlearn: 0.0577223\ttotal: 2.68s\tremaining: 38ms\n",
      "986:\tlearn: 0.0576589\ttotal: 2.68s\tremaining: 35.3ms\n",
      "987:\tlearn: 0.0576047\ttotal: 2.68s\tremaining: 32.6ms\n",
      "988:\tlearn: 0.0575345\ttotal: 2.68s\tremaining: 29.8ms\n",
      "989:\tlearn: 0.0574684\ttotal: 2.69s\tremaining: 27.1ms\n",
      "990:\tlearn: 0.0573727\ttotal: 2.69s\tremaining: 24.4ms\n",
      "991:\tlearn: 0.0572957\ttotal: 2.69s\tremaining: 21.7ms\n",
      "992:\tlearn: 0.0572154\ttotal: 2.69s\tremaining: 19ms\n",
      "993:\tlearn: 0.0571402\ttotal: 2.7s\tremaining: 16.3ms\n",
      "994:\tlearn: 0.0570356\ttotal: 2.7s\tremaining: 13.6ms\n",
      "995:\tlearn: 0.0569864\ttotal: 2.7s\tremaining: 10.9ms\n",
      "996:\tlearn: 0.0569090\ttotal: 2.71s\tremaining: 8.14ms\n",
      "997:\tlearn: 0.0568227\ttotal: 2.71s\tremaining: 5.42ms\n",
      "998:\tlearn: 0.0567947\ttotal: 2.71s\tremaining: 2.71ms\n",
      "999:\tlearn: 0.0567519\ttotal: 2.71s\tremaining: 0us\n"
     ]
    },
    {
     "name": "stdout",
     "output_type": "stream",
     "text": [
      "Mean Absolute error 0.20399645456679538\n"
     ]
    },
    {
     "data": {
      "application/scrapbook.scrap.json+json": {
       "data": 0.20399645456679538,
       "encoder": "json",
       "name": "Catboost MAE",
       "version": 1
      }
     },
     "metadata": {
      "scrapbook": {
       "data": true,
       "display": false,
       "name": "Catboost MAE"
      }
     },
     "output_type": "display_data"
    },
    {
     "name": "stdout",
     "output_type": "stream",
     "text": [
      "Catboost MAE 0.20399645456679538\n"
     ]
    }
   ],
   "source": [
    "mae_cb = baselineModels.catboost(X_train,y_train,X_test,y_test)\n",
    "#Store MSE Value\n",
    "sb.glue(\"Catboost MAE\",mae_cb)\n",
    "print(\"Catboost MAE\",mae_cb)"
   ]
  },
  {
   "cell_type": "markdown",
   "id": "708af690",
   "metadata": {
    "papermill": {
     "duration": 0.012725,
     "end_time": "2022-07-21T10:20:33.529369",
     "exception": false,
     "start_time": "2022-07-21T10:20:33.516644",
     "status": "completed"
    },
    "tags": []
   },
   "source": [
    "# TabNet Regressor"
   ]
  },
  {
   "cell_type": "code",
   "execution_count": 7,
   "id": "6f3b23fd",
   "metadata": {
    "execution": {
     "iopub.execute_input": "2022-07-21T10:20:33.560617Z",
     "iopub.status.busy": "2022-07-21T10:20:33.558133Z",
     "iopub.status.idle": "2022-07-21T10:20:33.566923Z",
     "shell.execute_reply": "2022-07-21T10:20:33.565910Z"
    },
    "papermill": {
     "duration": 0.030627,
     "end_time": "2022-07-21T10:20:33.570211",
     "exception": false,
     "start_time": "2022-07-21T10:20:33.539584",
     "status": "completed"
    },
    "tags": []
   },
   "outputs": [],
   "source": [
    "n_epochs = 1000\n",
    "batch_size = 32"
   ]
  },
  {
   "cell_type": "code",
   "execution_count": 8,
   "id": "c0f16fae",
   "metadata": {
    "execution": {
     "iopub.execute_input": "2022-07-21T10:20:33.605101Z",
     "iopub.status.busy": "2022-07-21T10:20:33.604321Z",
     "iopub.status.idle": "2022-07-21T10:23:40.879362Z",
     "shell.execute_reply": "2022-07-21T10:23:40.878556Z"
    },
    "papermill": {
     "duration": 187.300761,
     "end_time": "2022-07-21T10:23:40.881949",
     "exception": false,
     "start_time": "2022-07-21T10:20:33.581188",
     "status": "completed"
    },
    "tags": []
   },
   "outputs": [
    {
     "name": "stdout",
     "output_type": "stream",
     "text": [
      "Device used : cpu\n"
     ]
    },
    {
     "name": "stdout",
     "output_type": "stream",
     "text": [
      "epoch 0  | loss: 2.65888 | train_mse: 1.00292 | train_mae: 0.77615 |  0:00:03s\n"
     ]
    },
    {
     "name": "stdout",
     "output_type": "stream",
     "text": [
      "epoch 1  | loss: 0.90011 | train_mse: 0.71629 | train_mae: 0.59035 |  0:00:03s\n"
     ]
    },
    {
     "name": "stdout",
     "output_type": "stream",
     "text": [
      "epoch 2  | loss: 0.50976 | train_mse: 0.46877 | train_mae: 0.5039  |  0:00:03s\n"
     ]
    },
    {
     "name": "stdout",
     "output_type": "stream",
     "text": [
      "epoch 3  | loss: 0.43159 | train_mse: 0.45383 | train_mae: 0.49475 |  0:00:04s\n"
     ]
    },
    {
     "name": "stdout",
     "output_type": "stream",
     "text": [
      "epoch 4  | loss: 0.50499 | train_mse: 0.3541  | train_mae: 0.40798 |  0:00:04s\n"
     ]
    },
    {
     "name": "stdout",
     "output_type": "stream",
     "text": [
      "epoch 5  | loss: 0.40042 | train_mse: 0.4768  | train_mae: 0.49132 |  0:00:04s\n"
     ]
    },
    {
     "name": "stdout",
     "output_type": "stream",
     "text": [
      "epoch 6  | loss: 0.35834 | train_mse: 0.32409 | train_mae: 0.39621 |  0:00:05s\n"
     ]
    },
    {
     "name": "stdout",
     "output_type": "stream",
     "text": [
      "epoch 7  | loss: 0.25938 | train_mse: 0.46432 | train_mae: 0.44991 |  0:00:05s\n"
     ]
    },
    {
     "name": "stdout",
     "output_type": "stream",
     "text": [
      "epoch 8  | loss: 0.28083 | train_mse: 0.24802 | train_mae: 0.3254  |  0:00:06s\n"
     ]
    },
    {
     "name": "stdout",
     "output_type": "stream",
     "text": [
      "epoch 9  | loss: 0.24208 | train_mse: 0.26121 | train_mae: 0.34488 |  0:00:06s\n"
     ]
    },
    {
     "name": "stdout",
     "output_type": "stream",
     "text": [
      "epoch 10 | loss: 0.22523 | train_mse: 0.20469 | train_mae: 0.31041 |  0:00:06s\n"
     ]
    },
    {
     "name": "stdout",
     "output_type": "stream",
     "text": [
      "epoch 11 | loss: 0.28958 | train_mse: 0.21909 | train_mae: 0.31762 |  0:00:07s\n"
     ]
    },
    {
     "name": "stdout",
     "output_type": "stream",
     "text": [
      "epoch 12 | loss: 0.24821 | train_mse: 0.23189 | train_mae: 0.30001 |  0:00:08s\n"
     ]
    },
    {
     "name": "stdout",
     "output_type": "stream",
     "text": [
      "epoch 13 | loss: 0.25791 | train_mse: 0.22431 | train_mae: 0.32391 |  0:00:08s\n"
     ]
    },
    {
     "name": "stdout",
     "output_type": "stream",
     "text": [
      "epoch 14 | loss: 0.30715 | train_mse: 0.14367 | train_mae: 0.27168 |  0:00:09s\n"
     ]
    },
    {
     "name": "stdout",
     "output_type": "stream",
     "text": [
      "epoch 15 | loss: 0.2333  | train_mse: 0.17098 | train_mae: 0.29612 |  0:00:09s\n"
     ]
    },
    {
     "name": "stdout",
     "output_type": "stream",
     "text": [
      "epoch 16 | loss: 0.21721 | train_mse: 0.1711  | train_mae: 0.29476 |  0:00:09s\n"
     ]
    },
    {
     "name": "stdout",
     "output_type": "stream",
     "text": [
      "epoch 17 | loss: 0.21194 | train_mse: 0.17383 | train_mae: 0.29814 |  0:00:10s\n"
     ]
    },
    {
     "name": "stdout",
     "output_type": "stream",
     "text": [
      "epoch 18 | loss: 0.22599 | train_mse: 0.14379 | train_mae: 0.27841 |  0:00:10s\n"
     ]
    },
    {
     "name": "stdout",
     "output_type": "stream",
     "text": [
      "epoch 19 | loss: 0.19713 | train_mse: 0.14775 | train_mae: 0.27422 |  0:00:10s\n"
     ]
    },
    {
     "name": "stdout",
     "output_type": "stream",
     "text": [
      "epoch 20 | loss: 0.19401 | train_mse: 0.13919 | train_mae: 0.27438 |  0:00:11s\n"
     ]
    },
    {
     "name": "stdout",
     "output_type": "stream",
     "text": [
      "epoch 21 | loss: 0.19942 | train_mse: 0.14344 | train_mae: 0.27231 |  0:00:11s\n"
     ]
    },
    {
     "name": "stdout",
     "output_type": "stream",
     "text": [
      "epoch 22 | loss: 0.25882 | train_mse: 0.17003 | train_mae: 0.298   |  0:00:11s\n"
     ]
    },
    {
     "name": "stdout",
     "output_type": "stream",
     "text": [
      "epoch 23 | loss: 0.26068 | train_mse: 0.14447 | train_mae: 0.27875 |  0:00:12s\n"
     ]
    },
    {
     "name": "stdout",
     "output_type": "stream",
     "text": [
      "epoch 24 | loss: 0.22669 | train_mse: 0.15678 | train_mae: 0.28504 |  0:00:12s\n"
     ]
    },
    {
     "name": "stdout",
     "output_type": "stream",
     "text": [
      "epoch 25 | loss: 0.15374 | train_mse: 0.12089 | train_mae: 0.26127 |  0:00:13s\n"
     ]
    },
    {
     "name": "stdout",
     "output_type": "stream",
     "text": [
      "epoch 26 | loss: 0.15733 | train_mse: 0.12893 | train_mae: 0.26922 |  0:00:13s\n"
     ]
    },
    {
     "name": "stdout",
     "output_type": "stream",
     "text": [
      "epoch 27 | loss: 0.21313 | train_mse: 0.11328 | train_mae: 0.25906 |  0:00:14s\n"
     ]
    },
    {
     "name": "stdout",
     "output_type": "stream",
     "text": [
      "epoch 28 | loss: 0.208   | train_mse: 0.12626 | train_mae: 0.26541 |  0:00:14s\n"
     ]
    },
    {
     "name": "stdout",
     "output_type": "stream",
     "text": [
      "epoch 29 | loss: 0.2128  | train_mse: 0.13266 | train_mae: 0.26719 |  0:00:15s\n"
     ]
    },
    {
     "name": "stdout",
     "output_type": "stream",
     "text": [
      "epoch 30 | loss: 0.2267  | train_mse: 0.10892 | train_mae: 0.24812 |  0:00:15s\n"
     ]
    },
    {
     "name": "stdout",
     "output_type": "stream",
     "text": [
      "epoch 31 | loss: 0.19427 | train_mse: 0.10249 | train_mae: 0.24014 |  0:00:15s\n"
     ]
    },
    {
     "name": "stdout",
     "output_type": "stream",
     "text": [
      "epoch 32 | loss: 0.20036 | train_mse: 0.11155 | train_mae: 0.24562 |  0:00:16s\n"
     ]
    },
    {
     "name": "stdout",
     "output_type": "stream",
     "text": [
      "epoch 33 | loss: 0.19538 | train_mse: 0.12585 | train_mae: 0.25503 |  0:00:16s\n"
     ]
    },
    {
     "name": "stdout",
     "output_type": "stream",
     "text": [
      "epoch 34 | loss: 0.174   | train_mse: 0.11362 | train_mae: 0.24101 |  0:00:17s\n"
     ]
    },
    {
     "name": "stdout",
     "output_type": "stream",
     "text": [
      "epoch 35 | loss: 0.17308 | train_mse: 0.09994 | train_mae: 0.23469 |  0:00:17s\n"
     ]
    },
    {
     "name": "stdout",
     "output_type": "stream",
     "text": [
      "epoch 36 | loss: 0.15118 | train_mse: 0.09809 | train_mae: 0.23144 |  0:00:18s\n"
     ]
    },
    {
     "name": "stdout",
     "output_type": "stream",
     "text": [
      "epoch 37 | loss: 0.15558 | train_mse: 0.12107 | train_mae: 0.26346 |  0:00:18s\n"
     ]
    },
    {
     "name": "stdout",
     "output_type": "stream",
     "text": [
      "epoch 38 | loss: 0.17529 | train_mse: 0.10499 | train_mae: 0.24344 |  0:00:19s\n"
     ]
    },
    {
     "name": "stdout",
     "output_type": "stream",
     "text": [
      "epoch 39 | loss: 0.19043 | train_mse: 0.10882 | train_mae: 0.24381 |  0:00:19s\n"
     ]
    },
    {
     "name": "stdout",
     "output_type": "stream",
     "text": [
      "epoch 40 | loss: 0.14398 | train_mse: 0.0873  | train_mae: 0.21965 |  0:00:20s\n"
     ]
    },
    {
     "name": "stdout",
     "output_type": "stream",
     "text": [
      "epoch 41 | loss: 0.20834 | train_mse: 0.10127 | train_mae: 0.2365  |  0:00:21s\n"
     ]
    },
    {
     "name": "stdout",
     "output_type": "stream",
     "text": [
      "epoch 42 | loss: 0.14712 | train_mse: 0.10243 | train_mae: 0.24005 |  0:00:21s\n"
     ]
    },
    {
     "name": "stdout",
     "output_type": "stream",
     "text": [
      "epoch 43 | loss: 0.15071 | train_mse: 0.09326 | train_mae: 0.22624 |  0:00:22s\n"
     ]
    },
    {
     "name": "stdout",
     "output_type": "stream",
     "text": [
      "epoch 44 | loss: 0.13281 | train_mse: 0.09572 | train_mae: 0.23113 |  0:00:22s\n"
     ]
    },
    {
     "name": "stdout",
     "output_type": "stream",
     "text": [
      "epoch 45 | loss: 0.11747 | train_mse: 0.10214 | train_mae: 0.22691 |  0:00:22s\n"
     ]
    },
    {
     "name": "stdout",
     "output_type": "stream",
     "text": [
      "epoch 46 | loss: 0.13902 | train_mse: 0.09121 | train_mae: 0.22306 |  0:00:23s\n"
     ]
    },
    {
     "name": "stdout",
     "output_type": "stream",
     "text": [
      "epoch 47 | loss: 0.14957 | train_mse: 0.09166 | train_mae: 0.22626 |  0:00:24s\n"
     ]
    },
    {
     "name": "stdout",
     "output_type": "stream",
     "text": [
      "epoch 48 | loss: 0.13233 | train_mse: 0.08843 | train_mae: 0.22185 |  0:00:24s\n"
     ]
    },
    {
     "name": "stdout",
     "output_type": "stream",
     "text": [
      "epoch 49 | loss: 0.14518 | train_mse: 0.08995 | train_mae: 0.22175 |  0:00:25s\n"
     ]
    },
    {
     "name": "stdout",
     "output_type": "stream",
     "text": [
      "epoch 50 | loss: 0.15095 | train_mse: 0.09708 | train_mae: 0.23123 |  0:00:26s\n"
     ]
    },
    {
     "name": "stdout",
     "output_type": "stream",
     "text": [
      "epoch 51 | loss: 0.14225 | train_mse: 0.0949  | train_mae: 0.23303 |  0:00:26s\n"
     ]
    },
    {
     "name": "stdout",
     "output_type": "stream",
     "text": [
      "epoch 52 | loss: 0.13943 | train_mse: 0.09879 | train_mae: 0.24001 |  0:00:27s\n"
     ]
    },
    {
     "name": "stdout",
     "output_type": "stream",
     "text": [
      "epoch 53 | loss: 0.1646  | train_mse: 0.09774 | train_mae: 0.23433 |  0:00:28s\n"
     ]
    },
    {
     "name": "stdout",
     "output_type": "stream",
     "text": [
      "epoch 54 | loss: 0.19449 | train_mse: 0.09339 | train_mae: 0.23191 |  0:00:28s\n"
     ]
    },
    {
     "name": "stdout",
     "output_type": "stream",
     "text": [
      "epoch 55 | loss: 0.15165 | train_mse: 0.09308 | train_mae: 0.22582 |  0:00:29s\n"
     ]
    },
    {
     "name": "stdout",
     "output_type": "stream",
     "text": [
      "epoch 56 | loss: 0.14111 | train_mse: 0.10679 | train_mae: 0.23588 |  0:00:29s\n"
     ]
    },
    {
     "name": "stdout",
     "output_type": "stream",
     "text": [
      "epoch 57 | loss: 0.14719 | train_mse: 0.09323 | train_mae: 0.22658 |  0:00:30s\n"
     ]
    },
    {
     "name": "stdout",
     "output_type": "stream",
     "text": [
      "epoch 58 | loss: 0.16068 | train_mse: 0.08716 | train_mae: 0.21881 |  0:00:31s\n"
     ]
    },
    {
     "name": "stdout",
     "output_type": "stream",
     "text": [
      "epoch 59 | loss: 0.13322 | train_mse: 0.11444 | train_mae: 0.23708 |  0:00:32s\n"
     ]
    },
    {
     "name": "stdout",
     "output_type": "stream",
     "text": [
      "epoch 60 | loss: 0.15831 | train_mse: 0.09324 | train_mae: 0.22599 |  0:00:32s\n"
     ]
    },
    {
     "name": "stdout",
     "output_type": "stream",
     "text": [
      "epoch 61 | loss: 0.13626 | train_mse: 0.11361 | train_mae: 0.24159 |  0:00:33s\n"
     ]
    },
    {
     "name": "stdout",
     "output_type": "stream",
     "text": [
      "epoch 62 | loss: 0.12929 | train_mse: 0.09519 | train_mae: 0.22804 |  0:00:34s\n"
     ]
    },
    {
     "name": "stdout",
     "output_type": "stream",
     "text": [
      "epoch 63 | loss: 0.14677 | train_mse: 0.09311 | train_mae: 0.22754 |  0:00:35s\n"
     ]
    },
    {
     "name": "stdout",
     "output_type": "stream",
     "text": [
      "epoch 64 | loss: 0.14588 | train_mse: 0.08916 | train_mae: 0.21751 |  0:00:35s\n"
     ]
    },
    {
     "name": "stdout",
     "output_type": "stream",
     "text": [
      "epoch 65 | loss: 0.15946 | train_mse: 0.09267 | train_mae: 0.21545 |  0:00:36s\n"
     ]
    },
    {
     "name": "stdout",
     "output_type": "stream",
     "text": [
      "epoch 66 | loss: 0.13837 | train_mse: 0.08673 | train_mae: 0.21972 |  0:00:37s\n"
     ]
    },
    {
     "name": "stdout",
     "output_type": "stream",
     "text": [
      "epoch 67 | loss: 0.14041 | train_mse: 0.08847 | train_mae: 0.21789 |  0:00:37s\n"
     ]
    },
    {
     "name": "stdout",
     "output_type": "stream",
     "text": [
      "epoch 68 | loss: 0.11356 | train_mse: 0.10509 | train_mae: 0.22335 |  0:00:38s\n"
     ]
    },
    {
     "name": "stdout",
     "output_type": "stream",
     "text": [
      "epoch 69 | loss: 0.17864 | train_mse: 0.14895 | train_mae: 0.26136 |  0:00:38s\n"
     ]
    },
    {
     "name": "stdout",
     "output_type": "stream",
     "text": [
      "epoch 70 | loss: 0.20165 | train_mse: 0.10428 | train_mae: 0.23686 |  0:00:39s\n"
     ]
    },
    {
     "name": "stdout",
     "output_type": "stream",
     "text": [
      "epoch 71 | loss: 0.17991 | train_mse: 0.09318 | train_mae: 0.22224 |  0:00:39s\n"
     ]
    },
    {
     "name": "stdout",
     "output_type": "stream",
     "text": [
      "epoch 72 | loss: 0.13247 | train_mse: 0.09754 | train_mae: 0.22563 |  0:00:40s\n"
     ]
    },
    {
     "name": "stdout",
     "output_type": "stream",
     "text": [
      "epoch 73 | loss: 0.14559 | train_mse: 0.08196 | train_mae: 0.21254 |  0:00:40s\n"
     ]
    },
    {
     "name": "stdout",
     "output_type": "stream",
     "text": [
      "epoch 74 | loss: 0.12292 | train_mse: 0.08293 | train_mae: 0.21294 |  0:00:40s\n"
     ]
    },
    {
     "name": "stdout",
     "output_type": "stream",
     "text": [
      "epoch 75 | loss: 0.15129 | train_mse: 0.09641 | train_mae: 0.22053 |  0:00:41s\n"
     ]
    },
    {
     "name": "stdout",
     "output_type": "stream",
     "text": [
      "epoch 76 | loss: 0.12596 | train_mse: 0.08686 | train_mae: 0.2134  |  0:00:42s\n"
     ]
    },
    {
     "name": "stdout",
     "output_type": "stream",
     "text": [
      "epoch 77 | loss: 0.16862 | train_mse: 0.08043 | train_mae: 0.21668 |  0:00:42s\n"
     ]
    },
    {
     "name": "stdout",
     "output_type": "stream",
     "text": [
      "epoch 78 | loss: 0.17691 | train_mse: 0.08292 | train_mae: 0.21558 |  0:00:42s\n"
     ]
    },
    {
     "name": "stdout",
     "output_type": "stream",
     "text": [
      "epoch 79 | loss: 0.14934 | train_mse: 0.10866 | train_mae: 0.22997 |  0:00:43s\n"
     ]
    },
    {
     "name": "stdout",
     "output_type": "stream",
     "text": [
      "epoch 80 | loss: 0.15183 | train_mse: 0.08804 | train_mae: 0.22276 |  0:00:43s\n"
     ]
    },
    {
     "name": "stdout",
     "output_type": "stream",
     "text": [
      "epoch 81 | loss: 0.1348  | train_mse: 0.08325 | train_mae: 0.21442 |  0:00:43s\n"
     ]
    },
    {
     "name": "stdout",
     "output_type": "stream",
     "text": [
      "epoch 82 | loss: 0.14044 | train_mse: 0.08908 | train_mae: 0.22274 |  0:00:44s\n"
     ]
    },
    {
     "name": "stdout",
     "output_type": "stream",
     "text": [
      "epoch 83 | loss: 0.13117 | train_mse: 0.10659 | train_mae: 0.21898 |  0:00:44s\n"
     ]
    },
    {
     "name": "stdout",
     "output_type": "stream",
     "text": [
      "epoch 84 | loss: 0.14315 | train_mse: 0.08266 | train_mae: 0.20755 |  0:00:45s\n"
     ]
    },
    {
     "name": "stdout",
     "output_type": "stream",
     "text": [
      "epoch 85 | loss: 0.13226 | train_mse: 0.08561 | train_mae: 0.21217 |  0:00:45s\n"
     ]
    },
    {
     "name": "stdout",
     "output_type": "stream",
     "text": [
      "epoch 86 | loss: 0.13418 | train_mse: 0.09035 | train_mae: 0.21878 |  0:00:46s\n"
     ]
    },
    {
     "name": "stdout",
     "output_type": "stream",
     "text": [
      "epoch 87 | loss: 0.13931 | train_mse: 0.09045 | train_mae: 0.21913 |  0:00:46s\n"
     ]
    },
    {
     "name": "stdout",
     "output_type": "stream",
     "text": [
      "epoch 88 | loss: 0.13632 | train_mse: 0.10211 | train_mae: 0.23188 |  0:00:46s\n"
     ]
    },
    {
     "name": "stdout",
     "output_type": "stream",
     "text": [
      "epoch 89 | loss: 0.12939 | train_mse: 0.09456 | train_mae: 0.22445 |  0:00:47s\n"
     ]
    },
    {
     "name": "stdout",
     "output_type": "stream",
     "text": [
      "epoch 90 | loss: 0.14427 | train_mse: 0.09134 | train_mae: 0.21844 |  0:00:47s\n"
     ]
    },
    {
     "name": "stdout",
     "output_type": "stream",
     "text": [
      "epoch 91 | loss: 0.12505 | train_mse: 0.0896  | train_mae: 0.21513 |  0:00:48s\n"
     ]
    },
    {
     "name": "stdout",
     "output_type": "stream",
     "text": [
      "epoch 92 | loss: 0.11781 | train_mse: 0.08798 | train_mae: 0.21293 |  0:00:48s\n"
     ]
    },
    {
     "name": "stdout",
     "output_type": "stream",
     "text": [
      "epoch 93 | loss: 0.11487 | train_mse: 0.09641 | train_mae: 0.21556 |  0:00:49s\n"
     ]
    },
    {
     "name": "stdout",
     "output_type": "stream",
     "text": [
      "epoch 94 | loss: 0.14839 | train_mse: 0.07342 | train_mae: 0.20006 |  0:00:49s\n"
     ]
    },
    {
     "name": "stdout",
     "output_type": "stream",
     "text": [
      "epoch 95 | loss: 0.12082 | train_mse: 0.07744 | train_mae: 0.20781 |  0:00:50s\n"
     ]
    },
    {
     "name": "stdout",
     "output_type": "stream",
     "text": [
      "epoch 96 | loss: 0.15379 | train_mse: 0.08607 | train_mae: 0.21725 |  0:00:50s\n"
     ]
    },
    {
     "name": "stdout",
     "output_type": "stream",
     "text": [
      "epoch 97 | loss: 0.11529 | train_mse: 0.09181 | train_mae: 0.21879 |  0:00:51s\n"
     ]
    },
    {
     "name": "stdout",
     "output_type": "stream",
     "text": [
      "epoch 98 | loss: 0.12975 | train_mse: 0.07903 | train_mae: 0.21006 |  0:00:52s\n"
     ]
    },
    {
     "name": "stdout",
     "output_type": "stream",
     "text": [
      "epoch 99 | loss: 0.12038 | train_mse: 0.0802  | train_mae: 0.21352 |  0:00:53s\n"
     ]
    },
    {
     "name": "stdout",
     "output_type": "stream",
     "text": [
      "epoch 100| loss: 0.1181  | train_mse: 0.07302 | train_mae: 0.20101 |  0:00:53s\n"
     ]
    },
    {
     "name": "stdout",
     "output_type": "stream",
     "text": [
      "epoch 101| loss: 0.10621 | train_mse: 0.07803 | train_mae: 0.21216 |  0:00:54s\n"
     ]
    },
    {
     "name": "stdout",
     "output_type": "stream",
     "text": [
      "epoch 102| loss: 0.12189 | train_mse: 0.07726 | train_mae: 0.20862 |  0:00:55s\n"
     ]
    },
    {
     "name": "stdout",
     "output_type": "stream",
     "text": [
      "epoch 103| loss: 0.12651 | train_mse: 0.07458 | train_mae: 0.20315 |  0:00:55s\n"
     ]
    },
    {
     "name": "stdout",
     "output_type": "stream",
     "text": [
      "epoch 104| loss: 0.11926 | train_mse: 0.07381 | train_mae: 0.20527 |  0:00:55s\n"
     ]
    },
    {
     "name": "stdout",
     "output_type": "stream",
     "text": [
      "epoch 105| loss: 0.13996 | train_mse: 0.07235 | train_mae: 0.19975 |  0:00:56s\n"
     ]
    },
    {
     "name": "stdout",
     "output_type": "stream",
     "text": [
      "epoch 106| loss: 0.13245 | train_mse: 0.0743  | train_mae: 0.20333 |  0:00:56s\n"
     ]
    },
    {
     "name": "stdout",
     "output_type": "stream",
     "text": [
      "epoch 107| loss: 0.10822 | train_mse: 0.06554 | train_mae: 0.1929  |  0:00:57s\n"
     ]
    },
    {
     "name": "stdout",
     "output_type": "stream",
     "text": [
      "epoch 108| loss: 0.10497 | train_mse: 0.08035 | train_mae: 0.20211 |  0:00:57s\n"
     ]
    },
    {
     "name": "stdout",
     "output_type": "stream",
     "text": [
      "epoch 109| loss: 0.12726 | train_mse: 0.08582 | train_mae: 0.21458 |  0:00:57s\n"
     ]
    },
    {
     "name": "stdout",
     "output_type": "stream",
     "text": [
      "epoch 110| loss: 0.13355 | train_mse: 0.07343 | train_mae: 0.1998  |  0:00:58s\n"
     ]
    },
    {
     "name": "stdout",
     "output_type": "stream",
     "text": [
      "epoch 111| loss: 0.10401 | train_mse: 0.07873 | train_mae: 0.20791 |  0:00:59s\n"
     ]
    },
    {
     "name": "stdout",
     "output_type": "stream",
     "text": [
      "epoch 112| loss: 0.11969 | train_mse: 0.07373 | train_mae: 0.20191 |  0:00:59s\n"
     ]
    },
    {
     "name": "stdout",
     "output_type": "stream",
     "text": [
      "epoch 113| loss: 0.13527 | train_mse: 0.09915 | train_mae: 0.22514 |  0:01:00s\n"
     ]
    },
    {
     "name": "stdout",
     "output_type": "stream",
     "text": [
      "epoch 114| loss: 0.1666  | train_mse: 0.09841 | train_mae: 0.21603 |  0:01:00s\n"
     ]
    },
    {
     "name": "stdout",
     "output_type": "stream",
     "text": [
      "epoch 115| loss: 0.19743 | train_mse: 0.0894  | train_mae: 0.2084  |  0:01:01s\n"
     ]
    },
    {
     "name": "stdout",
     "output_type": "stream",
     "text": [
      "epoch 116| loss: 0.14271 | train_mse: 0.09403 | train_mae: 0.22119 |  0:01:01s\n"
     ]
    },
    {
     "name": "stdout",
     "output_type": "stream",
     "text": [
      "epoch 117| loss: 0.14684 | train_mse: 0.07819 | train_mae: 0.20725 |  0:01:02s\n"
     ]
    },
    {
     "name": "stdout",
     "output_type": "stream",
     "text": [
      "epoch 118| loss: 0.12362 | train_mse: 0.08125 | train_mae: 0.21465 |  0:01:02s\n"
     ]
    },
    {
     "name": "stdout",
     "output_type": "stream",
     "text": [
      "epoch 119| loss: 0.12949 | train_mse: 0.08761 | train_mae: 0.22022 |  0:01:02s\n"
     ]
    },
    {
     "name": "stdout",
     "output_type": "stream",
     "text": [
      "epoch 120| loss: 0.12861 | train_mse: 0.07713 | train_mae: 0.20662 |  0:01:03s\n"
     ]
    },
    {
     "name": "stdout",
     "output_type": "stream",
     "text": [
      "epoch 121| loss: 0.1352  | train_mse: 0.09411 | train_mae: 0.22223 |  0:01:03s\n"
     ]
    },
    {
     "name": "stdout",
     "output_type": "stream",
     "text": [
      "epoch 122| loss: 0.16027 | train_mse: 0.0773  | train_mae: 0.20638 |  0:01:04s\n"
     ]
    },
    {
     "name": "stdout",
     "output_type": "stream",
     "text": [
      "epoch 123| loss: 0.11865 | train_mse: 0.0862  | train_mae: 0.21537 |  0:01:04s\n"
     ]
    },
    {
     "name": "stdout",
     "output_type": "stream",
     "text": [
      "epoch 124| loss: 0.15711 | train_mse: 0.07093 | train_mae: 0.19852 |  0:01:04s\n"
     ]
    },
    {
     "name": "stdout",
     "output_type": "stream",
     "text": [
      "epoch 125| loss: 0.1255  | train_mse: 0.07136 | train_mae: 0.19786 |  0:01:05s\n"
     ]
    },
    {
     "name": "stdout",
     "output_type": "stream",
     "text": [
      "epoch 126| loss: 0.13524 | train_mse: 0.07146 | train_mae: 0.1997  |  0:01:06s\n"
     ]
    },
    {
     "name": "stdout",
     "output_type": "stream",
     "text": [
      "epoch 127| loss: 0.14168 | train_mse: 0.07937 | train_mae: 0.20426 |  0:01:06s\n"
     ]
    },
    {
     "name": "stdout",
     "output_type": "stream",
     "text": [
      "epoch 128| loss: 0.16015 | train_mse: 0.07622 | train_mae: 0.20507 |  0:01:07s\n"
     ]
    },
    {
     "name": "stdout",
     "output_type": "stream",
     "text": [
      "epoch 129| loss: 0.14443 | train_mse: 0.07466 | train_mae: 0.20226 |  0:01:07s\n"
     ]
    },
    {
     "name": "stdout",
     "output_type": "stream",
     "text": [
      "epoch 130| loss: 0.14188 | train_mse: 0.07875 | train_mae: 0.20674 |  0:01:07s\n"
     ]
    },
    {
     "name": "stdout",
     "output_type": "stream",
     "text": [
      "epoch 131| loss: 0.13836 | train_mse: 0.09157 | train_mae: 0.21785 |  0:01:08s\n"
     ]
    },
    {
     "name": "stdout",
     "output_type": "stream",
     "text": [
      "epoch 132| loss: 0.14145 | train_mse: 0.08503 | train_mae: 0.21505 |  0:01:09s\n"
     ]
    },
    {
     "name": "stdout",
     "output_type": "stream",
     "text": [
      "epoch 133| loss: 0.1274  | train_mse: 0.08739 | train_mae: 0.20883 |  0:01:10s\n"
     ]
    },
    {
     "name": "stdout",
     "output_type": "stream",
     "text": [
      "epoch 134| loss: 0.14927 | train_mse: 0.07828 | train_mae: 0.20416 |  0:01:10s\n"
     ]
    },
    {
     "name": "stdout",
     "output_type": "stream",
     "text": [
      "epoch 135| loss: 0.11942 | train_mse: 0.08076 | train_mae: 0.21469 |  0:01:11s\n"
     ]
    },
    {
     "name": "stdout",
     "output_type": "stream",
     "text": [
      "epoch 136| loss: 0.14081 | train_mse: 0.06469 | train_mae: 0.19092 |  0:01:11s\n"
     ]
    },
    {
     "name": "stdout",
     "output_type": "stream",
     "text": [
      "epoch 137| loss: 0.15187 | train_mse: 0.07992 | train_mae: 0.21189 |  0:01:11s\n"
     ]
    },
    {
     "name": "stdout",
     "output_type": "stream",
     "text": [
      "epoch 138| loss: 0.13805 | train_mse: 0.0798  | train_mae: 0.20338 |  0:01:12s\n"
     ]
    },
    {
     "name": "stdout",
     "output_type": "stream",
     "text": [
      "epoch 139| loss: 0.17193 | train_mse: 0.07755 | train_mae: 0.20777 |  0:01:13s\n"
     ]
    },
    {
     "name": "stdout",
     "output_type": "stream",
     "text": [
      "epoch 140| loss: 0.13293 | train_mse: 0.073   | train_mae: 0.20699 |  0:01:13s\n"
     ]
    },
    {
     "name": "stdout",
     "output_type": "stream",
     "text": [
      "epoch 141| loss: 0.11095 | train_mse: 0.07898 | train_mae: 0.20631 |  0:01:14s\n"
     ]
    },
    {
     "name": "stdout",
     "output_type": "stream",
     "text": [
      "epoch 142| loss: 0.11729 | train_mse: 0.08284 | train_mae: 0.20989 |  0:01:15s\n"
     ]
    },
    {
     "name": "stdout",
     "output_type": "stream",
     "text": [
      "epoch 143| loss: 0.12196 | train_mse: 0.07895 | train_mae: 0.20567 |  0:01:15s\n"
     ]
    },
    {
     "name": "stdout",
     "output_type": "stream",
     "text": [
      "epoch 144| loss: 0.11431 | train_mse: 0.09142 | train_mae: 0.2279  |  0:01:16s\n"
     ]
    },
    {
     "name": "stdout",
     "output_type": "stream",
     "text": [
      "epoch 145| loss: 0.1464  | train_mse: 0.08352 | train_mae: 0.21706 |  0:01:17s\n"
     ]
    },
    {
     "name": "stdout",
     "output_type": "stream",
     "text": [
      "epoch 146| loss: 0.13818 | train_mse: 0.09431 | train_mae: 0.22729 |  0:01:17s\n"
     ]
    },
    {
     "name": "stdout",
     "output_type": "stream",
     "text": [
      "epoch 147| loss: 0.13675 | train_mse: 0.08712 | train_mae: 0.21816 |  0:01:18s\n"
     ]
    },
    {
     "name": "stdout",
     "output_type": "stream",
     "text": [
      "epoch 148| loss: 0.14479 | train_mse: 0.07752 | train_mae: 0.21194 |  0:01:19s\n"
     ]
    },
    {
     "name": "stdout",
     "output_type": "stream",
     "text": [
      "epoch 149| loss: 0.14194 | train_mse: 0.08831 | train_mae: 0.22318 |  0:01:19s\n"
     ]
    },
    {
     "name": "stdout",
     "output_type": "stream",
     "text": [
      "epoch 150| loss: 0.11543 | train_mse: 0.07363 | train_mae: 0.19871 |  0:01:20s\n"
     ]
    },
    {
     "name": "stdout",
     "output_type": "stream",
     "text": [
      "epoch 151| loss: 0.11429 | train_mse: 0.08178 | train_mae: 0.21534 |  0:01:21s\n"
     ]
    },
    {
     "name": "stdout",
     "output_type": "stream",
     "text": [
      "epoch 152| loss: 0.11772 | train_mse: 0.114   | train_mae: 0.22563 |  0:01:22s\n"
     ]
    },
    {
     "name": "stdout",
     "output_type": "stream",
     "text": [
      "epoch 153| loss: 0.14929 | train_mse: 0.07611 | train_mae: 0.20916 |  0:01:23s\n"
     ]
    },
    {
     "name": "stdout",
     "output_type": "stream",
     "text": [
      "epoch 154| loss: 0.14033 | train_mse: 0.08177 | train_mae: 0.21176 |  0:01:24s\n"
     ]
    },
    {
     "name": "stdout",
     "output_type": "stream",
     "text": [
      "epoch 155| loss: 0.11442 | train_mse: 0.0739  | train_mae: 0.20242 |  0:01:25s\n"
     ]
    },
    {
     "name": "stdout",
     "output_type": "stream",
     "text": [
      "epoch 156| loss: 0.12737 | train_mse: 0.08354 | train_mae: 0.20456 |  0:01:26s\n"
     ]
    },
    {
     "name": "stdout",
     "output_type": "stream",
     "text": [
      "epoch 157| loss: 0.12297 | train_mse: 0.08    | train_mae: 0.20956 |  0:01:26s\n"
     ]
    },
    {
     "name": "stdout",
     "output_type": "stream",
     "text": [
      "epoch 158| loss: 0.09879 | train_mse: 0.07898 | train_mae: 0.20798 |  0:01:27s\n"
     ]
    },
    {
     "name": "stdout",
     "output_type": "stream",
     "text": [
      "epoch 159| loss: 0.11606 | train_mse: 0.07558 | train_mae: 0.20231 |  0:01:28s\n"
     ]
    },
    {
     "name": "stdout",
     "output_type": "stream",
     "text": [
      "epoch 160| loss: 0.12592 | train_mse: 0.07619 | train_mae: 0.20514 |  0:01:29s\n"
     ]
    },
    {
     "name": "stdout",
     "output_type": "stream",
     "text": [
      "epoch 161| loss: 0.13136 | train_mse: 0.08752 | train_mae: 0.2156  |  0:01:30s\n"
     ]
    },
    {
     "name": "stdout",
     "output_type": "stream",
     "text": [
      "epoch 162| loss: 0.15412 | train_mse: 0.07936 | train_mae: 0.20702 |  0:01:30s\n"
     ]
    },
    {
     "name": "stdout",
     "output_type": "stream",
     "text": [
      "epoch 163| loss: 0.1178  | train_mse: 0.08793 | train_mae: 0.21442 |  0:01:31s\n"
     ]
    },
    {
     "name": "stdout",
     "output_type": "stream",
     "text": [
      "epoch 164| loss: 0.13817 | train_mse: 0.08239 | train_mae: 0.21704 |  0:01:31s\n"
     ]
    },
    {
     "name": "stdout",
     "output_type": "stream",
     "text": [
      "epoch 165| loss: 0.1324  | train_mse: 0.09252 | train_mae: 0.22265 |  0:01:32s\n"
     ]
    },
    {
     "name": "stdout",
     "output_type": "stream",
     "text": [
      "epoch 166| loss: 0.10801 | train_mse: 0.087   | train_mae: 0.22283 |  0:01:32s\n"
     ]
    },
    {
     "name": "stdout",
     "output_type": "stream",
     "text": [
      "epoch 167| loss: 0.13898 | train_mse: 0.07064 | train_mae: 0.20139 |  0:01:33s\n"
     ]
    },
    {
     "name": "stdout",
     "output_type": "stream",
     "text": [
      "epoch 168| loss: 0.14149 | train_mse: 0.08795 | train_mae: 0.21678 |  0:01:33s\n"
     ]
    },
    {
     "name": "stdout",
     "output_type": "stream",
     "text": [
      "epoch 169| loss: 0.11699 | train_mse: 0.07574 | train_mae: 0.20568 |  0:01:34s\n"
     ]
    },
    {
     "name": "stdout",
     "output_type": "stream",
     "text": [
      "epoch 170| loss: 0.1079  | train_mse: 0.07093 | train_mae: 0.19847 |  0:01:34s\n"
     ]
    },
    {
     "name": "stdout",
     "output_type": "stream",
     "text": [
      "epoch 171| loss: 0.11647 | train_mse: 0.07769 | train_mae: 0.2045  |  0:01:35s\n"
     ]
    },
    {
     "name": "stdout",
     "output_type": "stream",
     "text": [
      "epoch 172| loss: 0.12979 | train_mse: 0.07598 | train_mae: 0.20267 |  0:01:35s\n"
     ]
    },
    {
     "name": "stdout",
     "output_type": "stream",
     "text": [
      "epoch 173| loss: 0.13236 | train_mse: 0.07582 | train_mae: 0.20752 |  0:01:36s\n"
     ]
    },
    {
     "name": "stdout",
     "output_type": "stream",
     "text": [
      "epoch 174| loss: 0.09821 | train_mse: 0.07657 | train_mae: 0.20797 |  0:01:37s\n"
     ]
    },
    {
     "name": "stdout",
     "output_type": "stream",
     "text": [
      "epoch 175| loss: 0.11098 | train_mse: 0.09365 | train_mae: 0.22626 |  0:01:37s\n"
     ]
    },
    {
     "name": "stdout",
     "output_type": "stream",
     "text": [
      "epoch 176| loss: 0.11555 | train_mse: 0.07878 | train_mae: 0.20814 |  0:01:37s\n"
     ]
    },
    {
     "name": "stdout",
     "output_type": "stream",
     "text": [
      "epoch 177| loss: 0.11949 | train_mse: 0.07528 | train_mae: 0.20512 |  0:01:38s\n"
     ]
    },
    {
     "name": "stdout",
     "output_type": "stream",
     "text": [
      "epoch 178| loss: 0.10483 | train_mse: 0.07348 | train_mae: 0.20255 |  0:01:38s\n"
     ]
    },
    {
     "name": "stdout",
     "output_type": "stream",
     "text": [
      "epoch 179| loss: 0.11971 | train_mse: 0.0831  | train_mae: 0.21258 |  0:01:40s\n"
     ]
    },
    {
     "name": "stdout",
     "output_type": "stream",
     "text": [
      "epoch 180| loss: 0.12084 | train_mse: 0.07779 | train_mae: 0.20536 |  0:01:40s\n"
     ]
    },
    {
     "name": "stdout",
     "output_type": "stream",
     "text": [
      "epoch 181| loss: 0.14165 | train_mse: 0.07687 | train_mae: 0.20165 |  0:01:41s\n"
     ]
    },
    {
     "name": "stdout",
     "output_type": "stream",
     "text": [
      "epoch 182| loss: 0.10592 | train_mse: 0.06694 | train_mae: 0.19574 |  0:01:42s\n"
     ]
    },
    {
     "name": "stdout",
     "output_type": "stream",
     "text": [
      "epoch 183| loss: 0.12575 | train_mse: 0.06746 | train_mae: 0.18997 |  0:01:43s\n"
     ]
    },
    {
     "name": "stdout",
     "output_type": "stream",
     "text": [
      "epoch 184| loss: 0.11724 | train_mse: 0.09355 | train_mae: 0.21768 |  0:01:44s\n"
     ]
    },
    {
     "name": "stdout",
     "output_type": "stream",
     "text": [
      "epoch 185| loss: 0.14135 | train_mse: 0.07217 | train_mae: 0.19913 |  0:01:44s\n"
     ]
    },
    {
     "name": "stdout",
     "output_type": "stream",
     "text": [
      "epoch 186| loss: 0.12712 | train_mse: 0.07207 | train_mae: 0.20141 |  0:01:45s\n"
     ]
    },
    {
     "name": "stdout",
     "output_type": "stream",
     "text": [
      "epoch 187| loss: 0.09854 | train_mse: 0.07517 | train_mae: 0.19744 |  0:01:45s\n"
     ]
    },
    {
     "name": "stdout",
     "output_type": "stream",
     "text": [
      "epoch 188| loss: 0.12617 | train_mse: 0.094   | train_mae: 0.22147 |  0:01:45s\n"
     ]
    },
    {
     "name": "stdout",
     "output_type": "stream",
     "text": [
      "epoch 189| loss: 0.10326 | train_mse: 0.07544 | train_mae: 0.20446 |  0:01:46s\n"
     ]
    },
    {
     "name": "stdout",
     "output_type": "stream",
     "text": [
      "epoch 190| loss: 0.11216 | train_mse: 0.07369 | train_mae: 0.20327 |  0:01:46s\n"
     ]
    },
    {
     "name": "stdout",
     "output_type": "stream",
     "text": [
      "epoch 191| loss: 0.10268 | train_mse: 0.06679 | train_mae: 0.19518 |  0:01:47s\n"
     ]
    },
    {
     "name": "stdout",
     "output_type": "stream",
     "text": [
      "epoch 192| loss: 0.11712 | train_mse: 0.07784 | train_mae: 0.20611 |  0:01:47s\n"
     ]
    },
    {
     "name": "stdout",
     "output_type": "stream",
     "text": [
      "epoch 193| loss: 0.14105 | train_mse: 0.102   | train_mae: 0.23068 |  0:01:48s\n"
     ]
    },
    {
     "name": "stdout",
     "output_type": "stream",
     "text": [
      "epoch 194| loss: 0.10698 | train_mse: 0.07575 | train_mae: 0.20117 |  0:01:48s\n"
     ]
    },
    {
     "name": "stdout",
     "output_type": "stream",
     "text": [
      "epoch 195| loss: 0.10635 | train_mse: 0.07526 | train_mae: 0.2008  |  0:01:48s\n"
     ]
    },
    {
     "name": "stdout",
     "output_type": "stream",
     "text": [
      "epoch 196| loss: 0.10626 | train_mse: 0.06825 | train_mae: 0.19769 |  0:01:49s\n"
     ]
    },
    {
     "name": "stdout",
     "output_type": "stream",
     "text": [
      "epoch 197| loss: 0.11826 | train_mse: 0.0805  | train_mae: 0.20313 |  0:01:49s\n"
     ]
    },
    {
     "name": "stdout",
     "output_type": "stream",
     "text": [
      "epoch 198| loss: 0.11688 | train_mse: 0.07288 | train_mae: 0.19807 |  0:01:50s\n"
     ]
    },
    {
     "name": "stdout",
     "output_type": "stream",
     "text": [
      "epoch 199| loss: 0.11746 | train_mse: 0.07204 | train_mae: 0.19843 |  0:01:50s\n"
     ]
    },
    {
     "name": "stdout",
     "output_type": "stream",
     "text": [
      "epoch 200| loss: 0.12022 | train_mse: 0.06148 | train_mae: 0.18465 |  0:01:50s\n"
     ]
    },
    {
     "name": "stdout",
     "output_type": "stream",
     "text": [
      "epoch 201| loss: 0.12715 | train_mse: 0.06565 | train_mae: 0.18992 |  0:01:51s\n"
     ]
    },
    {
     "name": "stdout",
     "output_type": "stream",
     "text": [
      "epoch 202| loss: 0.11365 | train_mse: 0.07471 | train_mae: 0.19929 |  0:01:51s\n"
     ]
    },
    {
     "name": "stdout",
     "output_type": "stream",
     "text": [
      "epoch 203| loss: 0.13532 | train_mse: 0.06967 | train_mae: 0.1952  |  0:01:52s\n"
     ]
    },
    {
     "name": "stdout",
     "output_type": "stream",
     "text": [
      "epoch 204| loss: 0.10711 | train_mse: 0.06577 | train_mae: 0.19683 |  0:01:52s\n"
     ]
    },
    {
     "name": "stdout",
     "output_type": "stream",
     "text": [
      "epoch 205| loss: 0.1123  | train_mse: 0.06169 | train_mae: 0.1867  |  0:01:53s\n"
     ]
    },
    {
     "name": "stdout",
     "output_type": "stream",
     "text": [
      "epoch 206| loss: 0.11852 | train_mse: 0.07251 | train_mae: 0.19828 |  0:01:53s\n"
     ]
    },
    {
     "name": "stdout",
     "output_type": "stream",
     "text": [
      "epoch 207| loss: 0.10568 | train_mse: 0.06974 | train_mae: 0.19871 |  0:01:54s\n"
     ]
    },
    {
     "name": "stdout",
     "output_type": "stream",
     "text": [
      "epoch 208| loss: 0.11508 | train_mse: 0.07811 | train_mae: 0.20253 |  0:01:54s\n"
     ]
    },
    {
     "name": "stdout",
     "output_type": "stream",
     "text": [
      "epoch 209| loss: 0.12225 | train_mse: 0.06331 | train_mae: 0.18511 |  0:01:55s\n"
     ]
    },
    {
     "name": "stdout",
     "output_type": "stream",
     "text": [
      "epoch 210| loss: 0.11244 | train_mse: 0.05904 | train_mae: 0.17849 |  0:01:56s\n"
     ]
    },
    {
     "name": "stdout",
     "output_type": "stream",
     "text": [
      "epoch 211| loss: 0.13654 | train_mse: 0.06051 | train_mae: 0.182   |  0:01:56s\n"
     ]
    },
    {
     "name": "stdout",
     "output_type": "stream",
     "text": [
      "epoch 212| loss: 0.10669 | train_mse: 0.06709 | train_mae: 0.18743 |  0:01:57s\n"
     ]
    },
    {
     "name": "stdout",
     "output_type": "stream",
     "text": [
      "epoch 213| loss: 0.12651 | train_mse: 0.0703  | train_mae: 0.1895  |  0:01:58s\n"
     ]
    },
    {
     "name": "stdout",
     "output_type": "stream",
     "text": [
      "epoch 214| loss: 0.09866 | train_mse: 0.06524 | train_mae: 0.18917 |  0:01:59s\n"
     ]
    },
    {
     "name": "stdout",
     "output_type": "stream",
     "text": [
      "epoch 215| loss: 0.10548 | train_mse: 0.06959 | train_mae: 0.19107 |  0:02:00s\n"
     ]
    },
    {
     "name": "stdout",
     "output_type": "stream",
     "text": [
      "epoch 216| loss: 0.09876 | train_mse: 0.07025 | train_mae: 0.19504 |  0:02:01s\n"
     ]
    },
    {
     "name": "stdout",
     "output_type": "stream",
     "text": [
      "epoch 217| loss: 0.09435 | train_mse: 0.06038 | train_mae: 0.18167 |  0:02:01s\n"
     ]
    },
    {
     "name": "stdout",
     "output_type": "stream",
     "text": [
      "epoch 218| loss: 0.11711 | train_mse: 0.07957 | train_mae: 0.20201 |  0:02:02s\n"
     ]
    },
    {
     "name": "stdout",
     "output_type": "stream",
     "text": [
      "epoch 219| loss: 0.09758 | train_mse: 0.07349 | train_mae: 0.19194 |  0:02:02s\n"
     ]
    },
    {
     "name": "stdout",
     "output_type": "stream",
     "text": [
      "epoch 220| loss: 0.10251 | train_mse: 0.06978 | train_mae: 0.18579 |  0:02:03s\n"
     ]
    },
    {
     "name": "stdout",
     "output_type": "stream",
     "text": [
      "epoch 221| loss: 0.09148 | train_mse: 0.09772 | train_mae: 0.2087  |  0:02:03s\n"
     ]
    },
    {
     "name": "stdout",
     "output_type": "stream",
     "text": [
      "epoch 222| loss: 0.0965  | train_mse: 0.07136 | train_mae: 0.18914 |  0:02:03s\n"
     ]
    },
    {
     "name": "stdout",
     "output_type": "stream",
     "text": [
      "epoch 223| loss: 0.11614 | train_mse: 0.06563 | train_mae: 0.19035 |  0:02:04s\n"
     ]
    },
    {
     "name": "stdout",
     "output_type": "stream",
     "text": [
      "epoch 224| loss: 0.09737 | train_mse: 0.06869 | train_mae: 0.18834 |  0:02:04s\n"
     ]
    },
    {
     "name": "stdout",
     "output_type": "stream",
     "text": [
      "epoch 225| loss: 0.1009  | train_mse: 0.06645 | train_mae: 0.19377 |  0:02:05s\n"
     ]
    },
    {
     "name": "stdout",
     "output_type": "stream",
     "text": [
      "epoch 226| loss: 0.11588 | train_mse: 0.05662 | train_mae: 0.17922 |  0:02:05s\n"
     ]
    },
    {
     "name": "stdout",
     "output_type": "stream",
     "text": [
      "epoch 227| loss: 0.11788 | train_mse: 0.06326 | train_mae: 0.1889  |  0:02:06s\n"
     ]
    },
    {
     "name": "stdout",
     "output_type": "stream",
     "text": [
      "epoch 228| loss: 0.11197 | train_mse: 0.06862 | train_mae: 0.19154 |  0:02:07s\n"
     ]
    },
    {
     "name": "stdout",
     "output_type": "stream",
     "text": [
      "epoch 229| loss: 0.09117 | train_mse: 0.064   | train_mae: 0.19102 |  0:02:08s\n"
     ]
    },
    {
     "name": "stdout",
     "output_type": "stream",
     "text": [
      "epoch 230| loss: 0.11198 | train_mse: 0.05933 | train_mae: 0.18557 |  0:02:08s\n"
     ]
    },
    {
     "name": "stdout",
     "output_type": "stream",
     "text": [
      "epoch 231| loss: 0.09915 | train_mse: 0.05814 | train_mae: 0.17925 |  0:02:09s\n"
     ]
    },
    {
     "name": "stdout",
     "output_type": "stream",
     "text": [
      "epoch 232| loss: 0.09658 | train_mse: 0.05419 | train_mae: 0.17387 |  0:02:09s\n"
     ]
    },
    {
     "name": "stdout",
     "output_type": "stream",
     "text": [
      "epoch 233| loss: 0.09487 | train_mse: 0.05415 | train_mae: 0.17574 |  0:02:10s\n"
     ]
    },
    {
     "name": "stdout",
     "output_type": "stream",
     "text": [
      "epoch 234| loss: 0.10498 | train_mse: 0.06195 | train_mae: 0.18299 |  0:02:10s\n"
     ]
    },
    {
     "name": "stdout",
     "output_type": "stream",
     "text": [
      "epoch 235| loss: 0.09218 | train_mse: 0.0594  | train_mae: 0.18239 |  0:02:10s\n"
     ]
    },
    {
     "name": "stdout",
     "output_type": "stream",
     "text": [
      "epoch 236| loss: 0.12072 | train_mse: 0.06918 | train_mae: 0.19501 |  0:02:11s\n"
     ]
    },
    {
     "name": "stdout",
     "output_type": "stream",
     "text": [
      "epoch 237| loss: 0.12864 | train_mse: 0.05898 | train_mae: 0.18273 |  0:02:12s\n"
     ]
    },
    {
     "name": "stdout",
     "output_type": "stream",
     "text": [
      "epoch 238| loss: 0.10714 | train_mse: 0.07164 | train_mae: 0.19883 |  0:02:12s\n"
     ]
    },
    {
     "name": "stdout",
     "output_type": "stream",
     "text": [
      "epoch 239| loss: 0.10157 | train_mse: 0.07198 | train_mae: 0.19612 |  0:02:13s\n"
     ]
    },
    {
     "name": "stdout",
     "output_type": "stream",
     "text": [
      "epoch 240| loss: 0.09758 | train_mse: 0.06802 | train_mae: 0.18455 |  0:02:13s\n"
     ]
    },
    {
     "name": "stdout",
     "output_type": "stream",
     "text": [
      "epoch 241| loss: 0.12774 | train_mse: 0.06978 | train_mae: 0.1925  |  0:02:14s\n"
     ]
    },
    {
     "name": "stdout",
     "output_type": "stream",
     "text": [
      "epoch 242| loss: 0.11123 | train_mse: 0.06667 | train_mae: 0.19219 |  0:02:15s\n"
     ]
    },
    {
     "name": "stdout",
     "output_type": "stream",
     "text": [
      "epoch 243| loss: 0.1276  | train_mse: 0.06073 | train_mae: 0.18362 |  0:02:15s\n"
     ]
    },
    {
     "name": "stdout",
     "output_type": "stream",
     "text": [
      "epoch 244| loss: 0.13128 | train_mse: 0.06999 | train_mae: 0.19746 |  0:02:16s\n"
     ]
    },
    {
     "name": "stdout",
     "output_type": "stream",
     "text": [
      "epoch 245| loss: 0.08186 | train_mse: 0.06259 | train_mae: 0.18636 |  0:02:16s\n"
     ]
    },
    {
     "name": "stdout",
     "output_type": "stream",
     "text": [
      "epoch 246| loss: 0.09923 | train_mse: 0.06492 | train_mae: 0.19396 |  0:02:17s\n"
     ]
    },
    {
     "name": "stdout",
     "output_type": "stream",
     "text": [
      "epoch 247| loss: 0.14227 | train_mse: 0.06245 | train_mae: 0.18519 |  0:02:18s\n"
     ]
    },
    {
     "name": "stdout",
     "output_type": "stream",
     "text": [
      "epoch 248| loss: 0.14066 | train_mse: 0.06245 | train_mae: 0.18468 |  0:02:19s\n"
     ]
    },
    {
     "name": "stdout",
     "output_type": "stream",
     "text": [
      "epoch 249| loss: 0.09707 | train_mse: 0.07002 | train_mae: 0.19726 |  0:02:19s\n"
     ]
    },
    {
     "name": "stdout",
     "output_type": "stream",
     "text": [
      "epoch 250| loss: 0.12138 | train_mse: 0.06297 | train_mae: 0.19038 |  0:02:20s\n"
     ]
    },
    {
     "name": "stdout",
     "output_type": "stream",
     "text": [
      "epoch 251| loss: 0.11054 | train_mse: 0.06752 | train_mae: 0.1934  |  0:02:20s\n"
     ]
    },
    {
     "name": "stdout",
     "output_type": "stream",
     "text": [
      "epoch 252| loss: 0.12079 | train_mse: 0.06228 | train_mae: 0.1876  |  0:02:21s\n"
     ]
    },
    {
     "name": "stdout",
     "output_type": "stream",
     "text": [
      "epoch 253| loss: 0.10337 | train_mse: 0.06514 | train_mae: 0.19233 |  0:02:22s\n"
     ]
    },
    {
     "name": "stdout",
     "output_type": "stream",
     "text": [
      "epoch 254| loss: 0.11091 | train_mse: 0.06571 | train_mae: 0.19056 |  0:02:22s\n"
     ]
    },
    {
     "name": "stdout",
     "output_type": "stream",
     "text": [
      "epoch 255| loss: 0.11197 | train_mse: 0.07668 | train_mae: 0.19971 |  0:02:23s\n"
     ]
    },
    {
     "name": "stdout",
     "output_type": "stream",
     "text": [
      "epoch 256| loss: 0.10687 | train_mse: 0.06473 | train_mae: 0.19138 |  0:02:24s\n"
     ]
    },
    {
     "name": "stdout",
     "output_type": "stream",
     "text": [
      "epoch 257| loss: 0.08689 | train_mse: 0.06675 | train_mae: 0.194   |  0:02:24s\n"
     ]
    },
    {
     "name": "stdout",
     "output_type": "stream",
     "text": [
      "epoch 258| loss: 0.10838 | train_mse: 0.06586 | train_mae: 0.1918  |  0:02:24s\n"
     ]
    },
    {
     "name": "stdout",
     "output_type": "stream",
     "text": [
      "epoch 259| loss: 0.10555 | train_mse: 0.05627 | train_mae: 0.18204 |  0:02:25s\n"
     ]
    },
    {
     "name": "stdout",
     "output_type": "stream",
     "text": [
      "epoch 260| loss: 0.09258 | train_mse: 0.06182 | train_mae: 0.18228 |  0:02:25s\n"
     ]
    },
    {
     "name": "stdout",
     "output_type": "stream",
     "text": [
      "epoch 261| loss: 0.11085 | train_mse: 0.0659  | train_mae: 0.18932 |  0:02:25s\n"
     ]
    },
    {
     "name": "stdout",
     "output_type": "stream",
     "text": [
      "epoch 262| loss: 0.1172  | train_mse: 0.06977 | train_mae: 0.19192 |  0:02:25s\n"
     ]
    },
    {
     "name": "stdout",
     "output_type": "stream",
     "text": [
      "epoch 263| loss: 0.12336 | train_mse: 0.0553  | train_mae: 0.17587 |  0:02:26s\n"
     ]
    },
    {
     "name": "stdout",
     "output_type": "stream",
     "text": [
      "epoch 264| loss: 0.12366 | train_mse: 0.05962 | train_mae: 0.18099 |  0:02:26s\n"
     ]
    },
    {
     "name": "stdout",
     "output_type": "stream",
     "text": [
      "epoch 265| loss: 0.10427 | train_mse: 0.06382 | train_mae: 0.18737 |  0:02:26s\n"
     ]
    },
    {
     "name": "stdout",
     "output_type": "stream",
     "text": [
      "epoch 266| loss: 0.10683 | train_mse: 0.05723 | train_mae: 0.1794  |  0:02:27s\n"
     ]
    },
    {
     "name": "stdout",
     "output_type": "stream",
     "text": [
      "epoch 267| loss: 0.08623 | train_mse: 0.06365 | train_mae: 0.18575 |  0:02:27s\n"
     ]
    },
    {
     "name": "stdout",
     "output_type": "stream",
     "text": [
      "epoch 268| loss: 0.11902 | train_mse: 0.0587  | train_mae: 0.17706 |  0:02:27s\n"
     ]
    },
    {
     "name": "stdout",
     "output_type": "stream",
     "text": [
      "epoch 269| loss: 0.09366 | train_mse: 0.06399 | train_mae: 0.18641 |  0:02:28s\n"
     ]
    },
    {
     "name": "stdout",
     "output_type": "stream",
     "text": [
      "epoch 270| loss: 0.09698 | train_mse: 0.06415 | train_mae: 0.18629 |  0:02:28s\n"
     ]
    },
    {
     "name": "stdout",
     "output_type": "stream",
     "text": [
      "epoch 271| loss: 0.10534 | train_mse: 0.06154 | train_mae: 0.17721 |  0:02:29s\n"
     ]
    },
    {
     "name": "stdout",
     "output_type": "stream",
     "text": [
      "epoch 272| loss: 0.11239 | train_mse: 0.05862 | train_mae: 0.18029 |  0:02:29s\n"
     ]
    },
    {
     "name": "stdout",
     "output_type": "stream",
     "text": [
      "epoch 273| loss: 0.12817 | train_mse: 0.07085 | train_mae: 0.19145 |  0:02:30s\n"
     ]
    },
    {
     "name": "stdout",
     "output_type": "stream",
     "text": [
      "epoch 274| loss: 0.0895  | train_mse: 0.05976 | train_mae: 0.18046 |  0:02:30s\n"
     ]
    },
    {
     "name": "stdout",
     "output_type": "stream",
     "text": [
      "epoch 275| loss: 0.1117  | train_mse: 0.06864 | train_mae: 0.19482 |  0:02:30s\n"
     ]
    },
    {
     "name": "stdout",
     "output_type": "stream",
     "text": [
      "epoch 276| loss: 0.12303 | train_mse: 0.06013 | train_mae: 0.1804  |  0:02:31s\n"
     ]
    },
    {
     "name": "stdout",
     "output_type": "stream",
     "text": [
      "epoch 277| loss: 0.09422 | train_mse: 0.06502 | train_mae: 0.18873 |  0:02:31s\n"
     ]
    },
    {
     "name": "stdout",
     "output_type": "stream",
     "text": [
      "epoch 278| loss: 0.10936 | train_mse: 0.0724  | train_mae: 0.19088 |  0:02:31s\n"
     ]
    },
    {
     "name": "stdout",
     "output_type": "stream",
     "text": [
      "epoch 279| loss: 0.11917 | train_mse: 0.07287 | train_mae: 0.20174 |  0:02:32s\n"
     ]
    },
    {
     "name": "stdout",
     "output_type": "stream",
     "text": [
      "epoch 280| loss: 0.11288 | train_mse: 0.05466 | train_mae: 0.17263 |  0:02:32s\n"
     ]
    },
    {
     "name": "stdout",
     "output_type": "stream",
     "text": [
      "epoch 281| loss: 0.09081 | train_mse: 0.08145 | train_mae: 0.20189 |  0:02:32s\n"
     ]
    },
    {
     "name": "stdout",
     "output_type": "stream",
     "text": [
      "epoch 282| loss: 0.09299 | train_mse: 0.06087 | train_mae: 0.18281 |  0:02:32s\n"
     ]
    },
    {
     "name": "stdout",
     "output_type": "stream",
     "text": [
      "epoch 283| loss: 0.0878  | train_mse: 0.0555  | train_mae: 0.17826 |  0:02:33s\n"
     ]
    },
    {
     "name": "stdout",
     "output_type": "stream",
     "text": [
      "epoch 284| loss: 0.08739 | train_mse: 0.05872 | train_mae: 0.18337 |  0:02:34s\n"
     ]
    },
    {
     "name": "stdout",
     "output_type": "stream",
     "text": [
      "epoch 285| loss: 0.116   | train_mse: 0.06401 | train_mae: 0.18858 |  0:02:34s\n"
     ]
    },
    {
     "name": "stdout",
     "output_type": "stream",
     "text": [
      "epoch 286| loss: 0.10109 | train_mse: 0.05784 | train_mae: 0.18144 |  0:02:34s\n"
     ]
    },
    {
     "name": "stdout",
     "output_type": "stream",
     "text": [
      "epoch 287| loss: 0.09453 | train_mse: 0.05619 | train_mae: 0.17874 |  0:02:35s\n"
     ]
    },
    {
     "name": "stdout",
     "output_type": "stream",
     "text": [
      "epoch 288| loss: 0.09691 | train_mse: 0.06113 | train_mae: 0.1793  |  0:02:35s\n"
     ]
    },
    {
     "name": "stdout",
     "output_type": "stream",
     "text": [
      "epoch 289| loss: 0.09814 | train_mse: 0.05628 | train_mae: 0.17463 |  0:02:36s\n"
     ]
    },
    {
     "name": "stdout",
     "output_type": "stream",
     "text": [
      "epoch 290| loss: 0.11069 | train_mse: 0.06433 | train_mae: 0.1888  |  0:02:36s\n"
     ]
    },
    {
     "name": "stdout",
     "output_type": "stream",
     "text": [
      "epoch 291| loss: 0.12467 | train_mse: 0.07974 | train_mae: 0.2033  |  0:02:36s\n"
     ]
    },
    {
     "name": "stdout",
     "output_type": "stream",
     "text": [
      "epoch 292| loss: 0.11207 | train_mse: 0.06841 | train_mae: 0.19591 |  0:02:37s\n"
     ]
    },
    {
     "name": "stdout",
     "output_type": "stream",
     "text": [
      "epoch 293| loss: 0.10624 | train_mse: 0.06443 | train_mae: 0.18686 |  0:02:37s\n"
     ]
    },
    {
     "name": "stdout",
     "output_type": "stream",
     "text": [
      "epoch 294| loss: 0.12279 | train_mse: 0.05839 | train_mae: 0.17928 |  0:02:37s\n"
     ]
    },
    {
     "name": "stdout",
     "output_type": "stream",
     "text": [
      "epoch 295| loss: 0.09515 | train_mse: 0.05827 | train_mae: 0.17634 |  0:02:37s\n"
     ]
    },
    {
     "name": "stdout",
     "output_type": "stream",
     "text": [
      "epoch 296| loss: 0.1028  | train_mse: 0.06549 | train_mae: 0.18888 |  0:02:38s\n"
     ]
    },
    {
     "name": "stdout",
     "output_type": "stream",
     "text": [
      "epoch 297| loss: 0.09749 | train_mse: 0.06073 | train_mae: 0.1828  |  0:02:38s\n"
     ]
    },
    {
     "name": "stdout",
     "output_type": "stream",
     "text": [
      "epoch 298| loss: 0.09998 | train_mse: 0.06257 | train_mae: 0.18701 |  0:02:38s\n"
     ]
    },
    {
     "name": "stdout",
     "output_type": "stream",
     "text": [
      "epoch 299| loss: 0.1147  | train_mse: 0.06694 | train_mae: 0.18822 |  0:02:39s\n"
     ]
    },
    {
     "name": "stdout",
     "output_type": "stream",
     "text": [
      "epoch 300| loss: 0.09664 | train_mse: 0.05383 | train_mae: 0.16795 |  0:02:39s\n"
     ]
    },
    {
     "name": "stdout",
     "output_type": "stream",
     "text": [
      "epoch 301| loss: 0.09058 | train_mse: 0.05943 | train_mae: 0.17594 |  0:02:39s\n"
     ]
    },
    {
     "name": "stdout",
     "output_type": "stream",
     "text": [
      "epoch 302| loss: 0.10665 | train_mse: 0.05952 | train_mae: 0.1816  |  0:02:40s\n"
     ]
    },
    {
     "name": "stdout",
     "output_type": "stream",
     "text": [
      "epoch 303| loss: 0.09001 | train_mse: 0.05398 | train_mae: 0.17491 |  0:02:40s\n"
     ]
    },
    {
     "name": "stdout",
     "output_type": "stream",
     "text": [
      "epoch 304| loss: 0.07992 | train_mse: 0.05046 | train_mae: 0.16846 |  0:02:40s\n"
     ]
    },
    {
     "name": "stdout",
     "output_type": "stream",
     "text": [
      "epoch 305| loss: 0.10385 | train_mse: 0.05444 | train_mae: 0.17375 |  0:02:40s\n"
     ]
    },
    {
     "name": "stdout",
     "output_type": "stream",
     "text": [
      "epoch 306| loss: 0.09331 | train_mse: 0.05855 | train_mae: 0.17779 |  0:02:41s\n"
     ]
    },
    {
     "name": "stdout",
     "output_type": "stream",
     "text": [
      "epoch 307| loss: 0.09036 | train_mse: 0.06125 | train_mae: 0.1816  |  0:02:41s\n"
     ]
    },
    {
     "name": "stdout",
     "output_type": "stream",
     "text": [
      "epoch 308| loss: 0.1089  | train_mse: 0.05892 | train_mae: 0.17627 |  0:02:41s\n"
     ]
    },
    {
     "name": "stdout",
     "output_type": "stream",
     "text": [
      "epoch 309| loss: 0.10215 | train_mse: 0.0622  | train_mae: 0.18587 |  0:02:42s\n"
     ]
    },
    {
     "name": "stdout",
     "output_type": "stream",
     "text": [
      "epoch 310| loss: 0.09723 | train_mse: 0.05609 | train_mae: 0.17957 |  0:02:42s\n"
     ]
    },
    {
     "name": "stdout",
     "output_type": "stream",
     "text": [
      "epoch 311| loss: 0.12764 | train_mse: 0.06025 | train_mae: 0.18176 |  0:02:42s\n"
     ]
    },
    {
     "name": "stdout",
     "output_type": "stream",
     "text": [
      "epoch 312| loss: 0.0972  | train_mse: 0.06091 | train_mae: 0.18224 |  0:02:43s\n"
     ]
    },
    {
     "name": "stdout",
     "output_type": "stream",
     "text": [
      "epoch 313| loss: 0.08774 | train_mse: 0.05961 | train_mae: 0.18571 |  0:02:44s\n"
     ]
    },
    {
     "name": "stdout",
     "output_type": "stream",
     "text": [
      "epoch 314| loss: 0.09234 | train_mse: 0.05429 | train_mae: 0.17829 |  0:02:45s\n"
     ]
    },
    {
     "name": "stdout",
     "output_type": "stream",
     "text": [
      "epoch 315| loss: 0.12051 | train_mse: 0.05738 | train_mae: 0.17751 |  0:02:46s\n"
     ]
    },
    {
     "name": "stdout",
     "output_type": "stream",
     "text": [
      "epoch 316| loss: 0.10074 | train_mse: 0.06314 | train_mae: 0.18637 |  0:02:46s\n"
     ]
    },
    {
     "name": "stdout",
     "output_type": "stream",
     "text": [
      "epoch 317| loss: 0.125   | train_mse: 0.08671 | train_mae: 0.21066 |  0:02:47s\n"
     ]
    },
    {
     "name": "stdout",
     "output_type": "stream",
     "text": [
      "epoch 318| loss: 0.09067 | train_mse: 0.06811 | train_mae: 0.1964  |  0:02:48s\n"
     ]
    },
    {
     "name": "stdout",
     "output_type": "stream",
     "text": [
      "epoch 319| loss: 0.09715 | train_mse: 0.06045 | train_mae: 0.18093 |  0:02:48s\n"
     ]
    },
    {
     "name": "stdout",
     "output_type": "stream",
     "text": [
      "epoch 320| loss: 0.10313 | train_mse: 0.06113 | train_mae: 0.18384 |  0:02:49s\n"
     ]
    },
    {
     "name": "stdout",
     "output_type": "stream",
     "text": [
      "epoch 321| loss: 0.09698 | train_mse: 0.05952 | train_mae: 0.18093 |  0:02:49s\n"
     ]
    },
    {
     "name": "stdout",
     "output_type": "stream",
     "text": [
      "epoch 322| loss: 0.13093 | train_mse: 0.06319 | train_mae: 0.18471 |  0:02:50s\n"
     ]
    },
    {
     "name": "stdout",
     "output_type": "stream",
     "text": [
      "epoch 323| loss: 0.1058  | train_mse: 0.05306 | train_mae: 0.17224 |  0:02:50s\n"
     ]
    },
    {
     "name": "stdout",
     "output_type": "stream",
     "text": [
      "epoch 324| loss: 0.09288 | train_mse: 0.05238 | train_mae: 0.17231 |  0:02:51s\n"
     ]
    },
    {
     "name": "stdout",
     "output_type": "stream",
     "text": [
      "epoch 325| loss: 0.11216 | train_mse: 0.05383 | train_mae: 0.17571 |  0:02:52s\n"
     ]
    },
    {
     "name": "stdout",
     "output_type": "stream",
     "text": [
      "epoch 326| loss: 0.12237 | train_mse: 0.07209 | train_mae: 0.1985  |  0:02:54s\n"
     ]
    },
    {
     "name": "stdout",
     "output_type": "stream",
     "text": [
      "epoch 327| loss: 0.11343 | train_mse: 0.06509 | train_mae: 0.19167 |  0:02:56s\n"
     ]
    },
    {
     "name": "stdout",
     "output_type": "stream",
     "text": [
      "epoch 328| loss: 0.14361 | train_mse: 0.0697  | train_mae: 0.19695 |  0:02:57s\n"
     ]
    },
    {
     "name": "stdout",
     "output_type": "stream",
     "text": [
      "epoch 329| loss: 0.1143  | train_mse: 0.07186 | train_mae: 0.19554 |  0:02:57s\n"
     ]
    },
    {
     "name": "stdout",
     "output_type": "stream",
     "text": [
      "epoch 330| loss: 0.10938 | train_mse: 0.06311 | train_mae: 0.18377 |  0:02:58s\n"
     ]
    },
    {
     "name": "stdout",
     "output_type": "stream",
     "text": [
      "epoch 331| loss: 0.10964 | train_mse: 0.05899 | train_mae: 0.18179 |  0:02:58s\n"
     ]
    },
    {
     "name": "stdout",
     "output_type": "stream",
     "text": [
      "epoch 332| loss: 0.0993  | train_mse: 0.05378 | train_mae: 0.17775 |  0:02:58s\n"
     ]
    },
    {
     "name": "stdout",
     "output_type": "stream",
     "text": [
      "epoch 333| loss: 0.1194  | train_mse: 0.05759 | train_mae: 0.18275 |  0:02:59s\n"
     ]
    },
    {
     "name": "stdout",
     "output_type": "stream",
     "text": [
      "epoch 334| loss: 0.10373 | train_mse: 0.0673  | train_mae: 0.19523 |  0:02:59s\n"
     ]
    },
    {
     "name": "stdout",
     "output_type": "stream",
     "text": [
      "epoch 335| loss: 0.0965  | train_mse: 0.05123 | train_mae: 0.17163 |  0:02:59s\n"
     ]
    },
    {
     "name": "stdout",
     "output_type": "stream",
     "text": [
      "epoch 336| loss: 0.08774 | train_mse: 0.05678 | train_mae: 0.17866 |  0:03:00s\n"
     ]
    },
    {
     "name": "stdout",
     "output_type": "stream",
     "text": [
      "epoch 337| loss: 0.09469 | train_mse: 0.05772 | train_mae: 0.17871 |  0:03:00s\n"
     ]
    },
    {
     "name": "stdout",
     "output_type": "stream",
     "text": [
      "epoch 338| loss: 0.08535 | train_mse: 0.05798 | train_mae: 0.1781  |  0:03:00s\n"
     ]
    },
    {
     "name": "stdout",
     "output_type": "stream",
     "text": [
      "epoch 339| loss: 0.10607 | train_mse: 0.0515  | train_mae: 0.17211 |  0:03:01s\n"
     ]
    },
    {
     "name": "stdout",
     "output_type": "stream",
     "text": [
      "epoch 340| loss: 0.0797  | train_mse: 0.05397 | train_mae: 0.17167 |  0:03:01s\n"
     ]
    },
    {
     "name": "stdout",
     "output_type": "stream",
     "text": [
      "epoch 341| loss: 0.09582 | train_mse: 0.05377 | train_mae: 0.17471 |  0:03:02s\n"
     ]
    },
    {
     "name": "stdout",
     "output_type": "stream",
     "text": [
      "epoch 342| loss: 0.11053 | train_mse: 0.05445 | train_mae: 0.17656 |  0:03:02s\n"
     ]
    },
    {
     "name": "stdout",
     "output_type": "stream",
     "text": [
      "epoch 343| loss: 0.11082 | train_mse: 0.05309 | train_mae: 0.17254 |  0:03:03s\n"
     ]
    },
    {
     "name": "stdout",
     "output_type": "stream",
     "text": [
      "epoch 344| loss: 0.08141 | train_mse: 0.05975 | train_mae: 0.17792 |  0:03:04s\n"
     ]
    },
    {
     "name": "stdout",
     "output_type": "stream",
     "text": [
      "epoch 345| loss: 0.09528 | train_mse: 0.05614 | train_mae: 0.18085 |  0:03:04s\n"
     ]
    },
    {
     "name": "stdout",
     "output_type": "stream",
     "text": [
      "epoch 346| loss: 0.10156 | train_mse: 0.05083 | train_mae: 0.16962 |  0:03:05s\n"
     ]
    },
    {
     "name": "stdout",
     "output_type": "stream",
     "text": [
      "epoch 347| loss: 0.09885 | train_mse: 0.05483 | train_mae: 0.17493 |  0:03:05s\n"
     ]
    },
    {
     "name": "stdout",
     "output_type": "stream",
     "text": [
      "epoch 348| loss: 0.1035  | train_mse: 0.06881 | train_mae: 0.1921  |  0:03:05s\n"
     ]
    },
    {
     "name": "stdout",
     "output_type": "stream",
     "text": [
      "epoch 349| loss: 0.10633 | train_mse: 0.06397 | train_mae: 0.18258 |  0:03:06s\n"
     ]
    },
    {
     "name": "stdout",
     "output_type": "stream",
     "text": [
      "epoch 350| loss: 0.09942 | train_mse: 0.05581 | train_mae: 0.17658 |  0:03:06s\n",
      "\n",
      "Early stopping occurred at epoch 350 with best_epoch = 300 and best_train_mae = 0.16795\n",
      "Best weights from best epoch are automatically used!\n",
      "BEST VALID SCORE FOR dataset : 0.16794596888315086\n",
      "FINAL TEST SCORE FOR dataset: 0.2173507095142033\n",
      "{'loss': [2.658884609099662, 0.9001076994556012, 0.5097641655714205, 0.4315857730879642, 0.504992132729823, 0.4004240413703541, 0.35834394262568786, 0.2593800832729528, 0.2808282505167593, 0.2420782826029428, 0.22523192751525653, 0.28958184530239295, 0.2482100465510151, 0.25791093648070157, 0.30715081833376745, 0.2332980166567434, 0.21720742847364727, 0.2119352693604951, 0.2259875173025792, 0.19713419882377775, 0.19401029209689338, 0.19941652971919221, 0.25882272141994817, 0.2606836108878107, 0.22669199551686203, 0.15373646069576244, 0.1573304717272225, 0.21313088630685711, 0.2079952469851711, 0.2127971584253972, 0.22669596040602957, 0.19427448039007658, 0.20035836690723305, 0.1953766384337208, 0.17399928696674877, 0.17308367715023532, 0.15118405945820385, 0.15557952948135906, 0.17529435736117976, 0.19043328413868896, 0.1439838506797753, 0.20833663627652838, 0.1471228149562779, 0.15071351693408325, 0.1328102876939396, 0.1174703952994677, 0.1390237535285478, 0.14957432773443732, 0.13232976139181907, 0.1451794941826622, 0.15095297490606213, 0.14224908936141742, 0.13942905316258422, 0.1645960723704631, 0.19449375835385654, 0.15164687963995607, 0.14111129327280686, 0.14719229626773608, 0.16067739553970867, 0.13321956933134854, 0.15830986349299403, 0.13626014625672064, 0.12928941167227112, 0.1467684005746747, 0.1458810034881134, 0.15945687432690422, 0.13836771485829116, 0.14040739081873752, 0.113563735001158, 0.17864255009606334, 0.2016528065841977, 0.1799127444772437, 0.13247389785281502, 0.1455946745406283, 0.1229182362261385, 0.15128888735676757, 0.12595789650879283, 0.16862238847678251, 0.1769134009828662, 0.14933545798948494, 0.15183450266866402, 0.1348015950752957, 0.14043687062688393, 0.13117349885477878, 0.14315394039201265, 0.13226037656906808, 0.13418410792209134, 0.13931296426470918, 0.13632476831426715, 0.12939381909252398, 0.14426901899647004, 0.12504544271395937, 0.11781351474842222, 0.11486948038091754, 0.1483851005092706, 0.12082104193102015, 0.15379045121740587, 0.11528694083785067, 0.1297547988372274, 0.12038228874749476, 0.11809618343221079, 0.10621037636653032, 0.12189375542768158, 0.12651248895885922, 0.11926348352491266, 0.13995926450974872, 0.13245312928563296, 0.10822425672028324, 0.10497424198259221, 0.12726336540562094, 0.1335452744866362, 0.10400815765456398, 0.11968827066887722, 0.13527259879773207, 0.16659618633808476, 0.19742672617482668, 0.1427114479022451, 0.1468357060215261, 0.12362016862866902, 0.12949086858494446, 0.12861472663312856, 0.1351994057693104, 0.16026870773570373, 0.11865404432657922, 0.15710824816533836, 0.1254955738930419, 0.13523614642643692, 0.1416770868962354, 0.16015203710239712, 0.1444274495438774, 0.14188090556918984, 0.1383615403187157, 0.14145336646844844, 0.12739919465367155, 0.14926978149036368, 0.11941550967126789, 0.14080937029701648, 0.15187396182872281, 0.1380466901429809, 0.17193309652923358, 0.13293039385635075, 0.11095159345924265, 0.11729174306487093, 0.12196134104587064, 0.11431467924082633, 0.14639987154762343, 0.13817834883633226, 0.13675300588849748, 0.1447859742853901, 0.14194376899464295, 0.11543185802379458, 0.11429471316018908, 0.11771919888139952, 0.14929106949579599, 0.1403310800542926, 0.11441994030581842, 0.12736525873441507, 0.12297307788440497, 0.0987932018124231, 0.11606121771406419, 0.12591677417259406, 0.1313609480857849, 0.15411807227842877, 0.11779579962834273, 0.13817495933853755, 0.1324049703555532, 0.10801240713289469, 0.13898055816050803, 0.14148997367903737, 0.11699227442835818, 0.10789966944715765, 0.1164659449074528, 0.12979470090110704, 0.13235656179413938, 0.09820739231487312, 0.11097659937816091, 0.1155527002445542, 0.11948784654683406, 0.10483314524782766, 0.11971003849907677, 0.12083720275671175, 0.14165148316043438, 0.10592402665331813, 0.1257531290302182, 0.11724389735424873, 0.14134918610648353, 0.12711757620667466, 0.09853559027951543, 0.12616857657633204, 0.10326338050389054, 0.11215662823455168, 0.10267818925699385, 0.11712398925925245, 0.1410524564804417, 0.10697813612399715, 0.10635136569490528, 0.10625752356677952, 0.11826123127547822, 0.11687766329044162, 0.11745967664340935, 0.12021650359182075, 0.12714769993678177, 0.11364680108162437, 0.1353166526792073, 0.10711251789390451, 0.11230201222518883, 0.11851962275876857, 0.1056794544847885, 0.11508251328279476, 0.12225241619761627, 0.11243950140358198, 0.13653788826253155, 0.10668935221020538, 0.12650715463822432, 0.09866161777241396, 0.10547618936784196, 0.09876124221499603, 0.09434842266658745, 0.11711355911032988, 0.09757514806962249, 0.10251090284621361, 0.09147820865163708, 0.09650065432680716, 0.11613653880534786, 0.09736839940052221, 0.10089715902167971, 0.11588496899250711, 0.11788325395324442, 0.11197107248377092, 0.09117123868205759, 0.11198121655990581, 0.0991469525759763, 0.096582693923818, 0.09487354666879862, 0.10497643887111456, 0.09218100650180684, 0.12071825482762687, 0.1286444727442052, 0.107138955283283, 0.10157212939592872, 0.09758393687777, 0.12774383549643034, 0.11123328342443646, 0.12760161128964756, 0.13128485110136542, 0.08185638804541956, 0.09922692223940746, 0.14226666727278492, 0.14066162528377948, 0.09707188266928833, 0.12138405434861041, 0.11054029647666629, 0.12078510254326433, 0.10337395774255885, 0.11090957882380721, 0.11197372887394216, 0.10687201809470016, 0.08688809980850408, 0.10837884616143632, 0.10554990946951479, 0.09257966324244396, 0.11085370123976528, 0.1172033827198614, 0.12335541106686734, 0.12366463118555522, 0.104265924358722, 0.10682756888984453, 0.0862334583434138, 0.11901500894881711, 0.09366227922463181, 0.0969768327356565, 0.10534439110519862, 0.11239398484772975, 0.12817332937870876, 0.08949896641591988, 0.11169768884630486, 0.12302555236043317, 0.0942202932247431, 0.1093571156558424, 0.11917139906989466, 0.1128753928264769, 0.09080674300099363, 0.09298559521684552, 0.08780225063904677, 0.0873882653984693, 0.11599551196588148, 0.10109029201292756, 0.09452745229891031, 0.09691202640533447, 0.09813875048467428, 0.11068865155229474, 0.12466705944573529, 0.11207140517411845, 0.10623504368975611, 0.12279017881886793, 0.09515179501901759, 0.1028040734553101, 0.09749398483793334, 0.09997888720861756, 0.11470469721768162, 0.09663569986230076, 0.0905807417365584, 0.10664524344524534, 0.0900068052555665, 0.079923081958648, 0.10384754954588295, 0.09330969687440607, 0.09036323671588803, 0.10890329297226255, 0.10215352741208407, 0.09722801202004498, 0.12764310726139805, 0.09720071545331785, 0.08774416487995941, 0.0923378999059153, 0.1205108178281548, 0.10073607274801424, 0.12499791501772285, 0.09066614766817281, 0.09715441883643075, 0.10313040844284661, 0.09697557616942, 0.13093137475523617, 0.1057984797228681, 0.09288161351244048, 0.11215681206471849, 0.12237281278513445, 0.1134308736660693, 0.14361308684738555, 0.11429859004398384, 0.10937539591352538, 0.10963544983527448, 0.09929630713592662, 0.1193990424127862, 0.10373298218934843, 0.09650386493689943, 0.08774115418148513, 0.09468842327299684, 0.08534683102723395, 0.10606553243233426, 0.07970013255530065, 0.09582312154297781, 0.11052814509608958, 0.11082071648670895, 0.08140707001237586, 0.09527811142477659, 0.10156347086228946, 0.09885023401515318, 0.1035045163687503, 0.10633100082378576, 0.09941701310695988], 'lr': [0.01, 0.01, 0.01, 0.01, 0.01, 0.01, 0.01, 0.01, 0.01, 0.01, 0.01, 0.01, 0.01, 0.01, 0.01, 0.01, 0.01, 0.01, 0.01, 0.01, 0.01, 0.01, 0.01, 0.01, 0.01, 0.01, 0.01, 0.01, 0.01, 0.01, 0.01, 0.01, 0.01, 0.01, 0.01, 0.01, 0.01, 0.01, 0.01, 0.01, 0.01, 0.01, 0.01, 0.01, 0.01, 0.01, 0.01, 0.01, 0.01, 0.01, 0.01, 0.01, 0.01, 0.01, 0.01, 0.01, 0.01, 0.01, 0.01, 0.01, 0.01, 0.01, 0.01, 0.01, 0.01, 0.01, 0.01, 0.01, 0.01, 0.01, 0.01, 0.01, 0.01, 0.01, 0.01, 0.01, 0.01, 0.01, 0.01, 0.01, 0.01, 0.01, 0.01, 0.01, 0.01, 0.01, 0.01, 0.01, 0.01, 0.01, 0.01, 0.01, 0.01, 0.01, 0.01, 0.01, 0.01, 0.01, 0.01, 0.01, 0.01, 0.01, 0.01, 0.01, 0.01, 0.01, 0.01, 0.01, 0.01, 0.01, 0.01, 0.01, 0.01, 0.01, 0.01, 0.01, 0.01, 0.01, 0.01, 0.01, 0.01, 0.01, 0.01, 0.01, 0.01, 0.01, 0.01, 0.01, 0.01, 0.01, 0.01, 0.01, 0.01, 0.01, 0.01, 0.01, 0.01, 0.01, 0.01, 0.01, 0.01, 0.01, 0.01, 0.01, 0.01, 0.01, 0.01, 0.01, 0.01, 0.01, 0.01, 0.01, 0.01, 0.01, 0.01, 0.01, 0.01, 0.01, 0.01, 0.01, 0.01, 0.01, 0.01, 0.01, 0.01, 0.01, 0.01, 0.01, 0.01, 0.01, 0.01, 0.01, 0.01, 0.01, 0.01, 0.01, 0.01, 0.01, 0.01, 0.01, 0.01, 0.01, 0.01, 0.01, 0.01, 0.01, 0.01, 0.01, 0.01, 0.01, 0.01, 0.01, 0.01, 0.01, 0.01, 0.01, 0.01, 0.01, 0.01, 0.01, 0.01, 0.01, 0.01, 0.01, 0.01, 0.01, 0.01, 0.01, 0.01, 0.01, 0.01, 0.01, 0.01, 0.01, 0.01, 0.01, 0.01, 0.01, 0.01, 0.01, 0.01, 0.01, 0.01, 0.01, 0.01, 0.01, 0.01, 0.01, 0.01, 0.01, 0.01, 0.01, 0.01, 0.01, 0.01, 0.01, 0.01, 0.01, 0.01, 0.01, 0.01, 0.01, 0.01, 0.01, 0.01, 0.01, 0.01, 0.01, 0.01, 0.01, 0.01, 0.01, 0.01, 0.01, 0.01, 0.01, 0.01, 0.01, 0.01, 0.01, 0.01, 0.01, 0.01, 0.01, 0.01, 0.01, 0.01, 0.01, 0.01, 0.01, 0.01, 0.01, 0.01, 0.01, 0.01, 0.01, 0.01, 0.01, 0.01, 0.01, 0.01, 0.01, 0.01, 0.01, 0.01, 0.01, 0.01, 0.01, 0.01, 0.01, 0.01, 0.01, 0.01, 0.01, 0.01, 0.01, 0.01, 0.01, 0.01, 0.01, 0.01, 0.01, 0.01, 0.01, 0.01, 0.01, 0.01, 0.01, 0.01, 0.01, 0.01, 0.01, 0.01, 0.01, 0.01, 0.01, 0.01, 0.01, 0.01, 0.01, 0.01, 0.01, 0.01, 0.01, 0.01, 0.01, 0.01, 0.01, 0.01, 0.01, 0.01, 0.01, 0.01, 0.01, 0.01, 0.01, 0.01, 0.01, 0.01, 0.01, 0.01, 0.01, 0.01, 0.01, 0.01, 0.01, 0.01, 0.01, 0.01, 0.01, 0.01], 'train_mse': [1.002921952943386, 0.7162919064687517, 0.46877082248526636, 0.4538287495649272, 0.35409505245041495, 0.47679617264421775, 0.3240919906819616, 0.4643249020136924, 0.24802266249840282, 0.2612137192728265, 0.20468543508525566, 0.2190920404451078, 0.23188949913357657, 0.22430802454866738, 0.14367379126487703, 0.17097768813164146, 0.17110332999257485, 0.17383442333426752, 0.14378888167655887, 0.1477517157328246, 0.13918828658581756, 0.1434439944862909, 0.17002602631348313, 0.1444650509086073, 0.15677966949852778, 0.12088572178039354, 0.12893015628938756, 0.11327876803680313, 0.12625812490323332, 0.1326601193754098, 0.10892440407917589, 0.10249406239770978, 0.11155364302663978, 0.12585352535246688, 0.11362393472005888, 0.09994077503968862, 0.0980906234312749, 0.12106686049847598, 0.10498752763236514, 0.10882346710582781, 0.08730014264611442, 0.10127083280579995, 0.10242980919223978, 0.09325898804783095, 0.09572170441725152, 0.10214178009396613, 0.09120607372560983, 0.09165939324424706, 0.0884319021464089, 0.08995062139760855, 0.09708379589132815, 0.09490341927328652, 0.09878954630232469, 0.09774051892863447, 0.09338769136695316, 0.09307520028010514, 0.10679299274995019, 0.09323388066584912, 0.08716004762791559, 0.11444207680769232, 0.09324215673732258, 0.11361201760545443, 0.09519157335634328, 0.09310740319866252, 0.08916496721986297, 0.09266721173319015, 0.08672924042445082, 0.08847225257001563, 0.10509499841115261, 0.14895147211273724, 0.10427911668515233, 0.09317534168245925, 0.09754420045513434, 0.08196388675964197, 0.08293346988313166, 0.09640768676585983, 0.08685755087684764, 0.08043093167468406, 0.0829229534460064, 0.10865738441573021, 0.08803821000806508, 0.08324700623672066, 0.08908096643682945, 0.10658543804920545, 0.08265853081108299, 0.08561463442037806, 0.0903540289735927, 0.09045029737918397, 0.10210979468539837, 0.09456252010814777, 0.09133939250699076, 0.08959744531814444, 0.08797849087644755, 0.0964128772235417, 0.07342084055507865, 0.07743875856310006, 0.08606635593989878, 0.09180747680021856, 0.07902662188214485, 0.08020283010054415, 0.07301669967432774, 0.07802508641280503, 0.07726093008883818, 0.07458021863541126, 0.07381416110722598, 0.07235487440292611, 0.07430068152690182, 0.06553924972145303, 0.0803499668146508, 0.08581866865645958, 0.0734300447147472, 0.07872791953899495, 0.07372526248209493, 0.09914714721054171, 0.0984109374892861, 0.08940332077125958, 0.09403243426908069, 0.07819322515298092, 0.08125070359813363, 0.0876115304313788, 0.07712778085300555, 0.09411103788109121, 0.07730052472383239, 0.08619980708861215, 0.07093138514369166, 0.07136121403318572, 0.07145690476269627, 0.07936725664466157, 0.07622134599412467, 0.07466477083662565, 0.07875420152562777, 0.09156957910702729, 0.08502837419795284, 0.08739438075279529, 0.07828451942108282, 0.08075780001034608, 0.06469254566797675, 0.07991963548716612, 0.07979954150605564, 0.07755060357346728, 0.0730030098775888, 0.07897850124744742, 0.08284010389799434, 0.07894690204564418, 0.09142495503591583, 0.08352495459526368, 0.09431368571209493, 0.08712241479999809, 0.07752105553672706, 0.08831041941210604, 0.073628744709571, 0.08177556266802105, 0.11399843424081016, 0.07611329617086557, 0.08176854602018466, 0.07389542728380767, 0.08354384647278519, 0.07999681366380929, 0.0789848853216438, 0.0755798947303695, 0.07619022813717313, 0.08752047008126719, 0.07935876803240607, 0.08793130509015196, 0.08238999623878024, 0.09252078108992143, 0.08700264133588508, 0.0706389441942351, 0.08795186999785838, 0.07574442177620952, 0.07093233695494842, 0.07768994847917665, 0.0759761364238395, 0.07582261094537154, 0.07656894133484095, 0.09364784046648258, 0.0787777427480502, 0.07528365345486739, 0.07348352242210154, 0.0830987710815798, 0.07779226515243548, 0.07687012732697629, 0.066940113056344, 0.06746035007763622, 0.09354713352109391, 0.07216967472568124, 0.0720664116091717, 0.07516616528804561, 0.09400416468569658, 0.07543672904951113, 0.07368565130447169, 0.06678980697580371, 0.0778402960705594, 0.10199720329432378, 0.07575090343553922, 0.07526419804740918, 0.06824901376955168, 0.08049679878298126, 0.07288036492584508, 0.07204215510023619, 0.06148426514777388, 0.06565003704454424, 0.07471055210695915, 0.06966540132976329, 0.06577415861611252, 0.06169475403684704, 0.07251495937004952, 0.0697439214504244, 0.07810710564519, 0.06330967290359849, 0.05903602179059766, 0.060513743249446326, 0.06709181105812151, 0.07029697334376914, 0.06523668820334601, 0.06958620812271618, 0.07024570481174676, 0.06037755397436521, 0.07956553826146136, 0.07348748180666523, 0.06977573008722616, 0.09771864425593915, 0.07135744235010948, 0.06562504340280984, 0.0686860845695116, 0.06644958650263388, 0.05662392932950529, 0.06326233021170115, 0.0686227856105935, 0.0640038140254029, 0.05932708441396968, 0.05814093828059263, 0.054189537347148216, 0.05415369987424011, 0.061947442169525364, 0.05940243577663056, 0.0691807958161114, 0.05897882750578239, 0.07164190211669735, 0.07198427398934217, 0.06801916022163997, 0.06977646818766163, 0.06666642500403874, 0.06072524022921561, 0.06999371776043688, 0.06259194691769092, 0.06492259045258349, 0.062451721893986206, 0.06244870175992457, 0.07002484134488796, 0.06296949729740806, 0.0675223625001199, 0.06228088823134931, 0.06514398586854832, 0.06571490130647635, 0.07667855904512993, 0.06472709436911946, 0.06674636776139704, 0.06586486175588353, 0.056269636475742145, 0.061820119011089227, 0.06590070537469592, 0.06976659408026115, 0.05529805767115777, 0.059618586257366275, 0.06381685357664026, 0.057225107601258304, 0.06364881999225636, 0.05870423832271577, 0.06398865680164804, 0.06414860583057182, 0.0615437014138632, 0.058616418501833356, 0.07085336618924737, 0.05975710854983189, 0.06863921566865655, 0.060134572135902065, 0.06501754740831477, 0.07239646763989264, 0.07287306438852009, 0.05465972328843276, 0.08145404859736172, 0.060873529040517085, 0.05550464786028345, 0.05871610721895962, 0.06401171322854743, 0.057838772941852856, 0.05618991156298147, 0.06113013874589285, 0.05628262814368743, 0.06433012453596988, 0.0797435151669181, 0.06840974324316977, 0.06442596404919207, 0.05838615819090163, 0.05827162965079935, 0.06548564299227476, 0.06072521885326502, 0.06257163905282866, 0.06693826965805037, 0.05383408401254654, 0.05942818729983926, 0.05951563691434479, 0.05398058054598443, 0.05046264174801443, 0.05443887169852459, 0.058549529630528556, 0.06125379858258361, 0.058924364510329334, 0.06220148794402249, 0.05608869965123085, 0.0602545461957679, 0.06090567683657318, 0.05960848985787443, 0.05428583523024428, 0.057378455983413616, 0.0631399434528113, 0.08671065005047146, 0.0681128440731245, 0.060447486844775876, 0.061131021252182664, 0.0595223848118506, 0.06319409074390643, 0.053057974130820355, 0.05237546724435659, 0.05383358055033405, 0.07208626825666418, 0.065090122264295, 0.06969905790336917, 0.07186383539198452, 0.06311193129396671, 0.058986727928141684, 0.053775084079617445, 0.057589541966916416, 0.06730232293865826, 0.05123205987305952, 0.05678004933624344, 0.05772434935794744, 0.05797657789405462, 0.051503381785204305, 0.05397338711067372, 0.05376798127307037, 0.05445016416108561, 0.053090979715657995, 0.05974683898298984, 0.0561427555639718, 0.05083309631055488, 0.0548323703446509, 0.06881332746274693, 0.06397233960351438, 0.05581284545389556], 'train_mae': [0.7761489094495685, 0.5903475353513726, 0.5038965723461781, 0.49475188678029874, 0.40798196819149524, 0.4913225141974074, 0.3962134150778099, 0.4499137188240319, 0.3254007510951304, 0.34487918028839837, 0.31041450650969676, 0.317616851162434, 0.3000090001063825, 0.32390746756370803, 0.27167728296334553, 0.29612262497487923, 0.29475847442592146, 0.2981438916712394, 0.27840957868767274, 0.2742213995747148, 0.27438056754296897, 0.2723078108336958, 0.29799614480387193, 0.27874602105634577, 0.285040633213471, 0.2612659355228642, 0.2692246066529414, 0.25905508865588117, 0.26540731286917846, 0.2671906350110253, 0.24812171586479223, 0.2401418377279993, 0.24561954133405414, 0.2550296132925269, 0.24100604106621723, 0.23469216907001722, 0.2314421110065054, 0.2634609851222004, 0.243443221955684, 0.2438133130729359, 0.21965046504527388, 0.23649744555197086, 0.24004776435146885, 0.2262404329768066, 0.23112667133184672, 0.22691231493055058, 0.22305945781771178, 0.22625593985307885, 0.22185445528446093, 0.22175372163593193, 0.23123059616459773, 0.23302627012670213, 0.2400119504137442, 0.2343338866820927, 0.2319103003176749, 0.2258188916108319, 0.23588467267240232, 0.22657784622425747, 0.2188102621699762, 0.23707869063172637, 0.22599445226710715, 0.24159256050949968, 0.22804399783199, 0.2275421166766127, 0.21751116034529644, 0.21545376537502117, 0.21971636056024343, 0.21789159372018732, 0.22334983165583058, 0.2613621072808467, 0.23686224489072605, 0.22224299945525874, 0.2256331935238704, 0.212542891175382, 0.21293958973909102, 0.22052768280906804, 0.21339549293138282, 0.21668078245322145, 0.21558350126510756, 0.22997244514848383, 0.22275729412421522, 0.2144161806977523, 0.22273567036030467, 0.2189829298500227, 0.2075467968577958, 0.2121725113735396, 0.21877572643881135, 0.2191315090110818, 0.23188274365152295, 0.22445322178286642, 0.2184423539851391, 0.21513156989864013, 0.21292591623493282, 0.21556373300077356, 0.20005900348927297, 0.20780934582060015, 0.2172455578509359, 0.21879229096641803, 0.210058851626464, 0.2135225489517509, 0.20101005521833787, 0.21216077545043507, 0.2086245595492596, 0.2031459790151975, 0.2052695816100021, 0.19975453667530965, 0.2033267552350271, 0.19289812149874708, 0.2021090637240602, 0.2145817659201413, 0.19979978421489084, 0.20790538664940944, 0.2019108868309511, 0.22514176618273016, 0.2160334732094291, 0.20840197371749017, 0.2211938637710355, 0.20725323134868104, 0.21465032602889728, 0.22021881969681892, 0.20662046435762008, 0.22222771690449059, 0.20638268829463868, 0.21536715002381335, 0.19852209523838288, 0.19786021003725274, 0.19969750387715837, 0.20425822848325584, 0.20506687495419823, 0.20225805009743428, 0.20673635369377008, 0.2178510388749483, 0.21504592314607038, 0.2088320653942817, 0.20416340700051583, 0.21468855887231944, 0.19091910561706862, 0.211889218731924, 0.20338249120646362, 0.20777353829124773, 0.20699209454896578, 0.20631062458018137, 0.2098888462754125, 0.20566589945643335, 0.22790411150716577, 0.21706339980269374, 0.22728977196015407, 0.21815847805144764, 0.21194276770201914, 0.22317839638559467, 0.19871398200374052, 0.21534384523882205, 0.2256310367737664, 0.20915576197258137, 0.21175628136609673, 0.20242067314523662, 0.20455786180114716, 0.20955943104855448, 0.2079798981639402, 0.20231249546775434, 0.20514203287446517, 0.21559703110999984, 0.20702482471469374, 0.21441524361356862, 0.2170415928116006, 0.2226516113067438, 0.22283293125487535, 0.20138852616796943, 0.21678048606216238, 0.20568131503602283, 0.19847295618450014, 0.20449714127062021, 0.2026734691524301, 0.20752270071657533, 0.2079685513775009, 0.22626405962151705, 0.20814326831048804, 0.20511970899025828, 0.20255131777679217, 0.21258283835090558, 0.20536496288124678, 0.20165049366436968, 0.19573810837075564, 0.18997114766550216, 0.21767887506423939, 0.19913284381671814, 0.2014110299962158, 0.19743787462673132, 0.22146693230362338, 0.2044581350344814, 0.20327246352769965, 0.1951840567986192, 0.20611044902356596, 0.2306841138388032, 0.2011713009952545, 0.2007954237013369, 0.19769174075237259, 0.20312535760786382, 0.1980697172459269, 0.19843223478424812, 0.1846476219725047, 0.18991704088470107, 0.1992946471490346, 0.19519837987878166, 0.19682639769756688, 0.18669812702427088, 0.1982773402569167, 0.1987060946648044, 0.2025342762376044, 0.18510876684176458, 0.1784939397774217, 0.18200099221226793, 0.1874299642399911, 0.18950474065342815, 0.18916763333789496, 0.1910733540575636, 0.19503952923837822, 0.18167085943877695, 0.20201036691699148, 0.19193874742697642, 0.18579468208440686, 0.20869503595097125, 0.18913699254486568, 0.19035297563212075, 0.18834237621468075, 0.19377085910338127, 0.17921737923173117, 0.1889024367018367, 0.19154041983879466, 0.191017798820817, 0.1855727868787568, 0.1792471216723446, 0.1738651507486021, 0.1757368279935262, 0.18298884552965453, 0.18238857086383956, 0.19501122507734503, 0.18272512831301224, 0.19883255406039804, 0.19611661798149976, 0.18455165310550078, 0.19250452499794193, 0.19218998407575447, 0.1836194308787112, 0.19745959256321338, 0.1863564850056071, 0.1939574779582824, 0.185187041798699, 0.1846806613648783, 0.19725949020452158, 0.1903765092723265, 0.1934020824996945, 0.18760289377846268, 0.1923254345259111, 0.19055666493087886, 0.19971472731270276, 0.19137799645930875, 0.19400242719746574, 0.19180004986236907, 0.18204344298942543, 0.18228278339741588, 0.18932055815479784, 0.19191597853795683, 0.17587000852962112, 0.18099126637761967, 0.1873716357083068, 0.17940131204947055, 0.18574808045733607, 0.17706295152234208, 0.18641113312568322, 0.18628536719099917, 0.17721366747008097, 0.18029233918252843, 0.19145274747237678, 0.1804575631813091, 0.19481686501010043, 0.18040004044556293, 0.18873314090821092, 0.19087593141922246, 0.20174142562291456, 0.17262674904168665, 0.20189226126410983, 0.18281242417086316, 0.17825991215619438, 0.1833716806428727, 0.18858358395302968, 0.18143926149238793, 0.17873989996407844, 0.17930495313704428, 0.17463280809302797, 0.18879616791015402, 0.20329505446540094, 0.19590556961820368, 0.18686077696388773, 0.1792779918458506, 0.17633535434767517, 0.18888455896789424, 0.18279688229904, 0.18701290093199902, 0.18821518552586383, 0.16794596888315086, 0.1759415572099637, 0.18159626845314536, 0.17491050811968734, 0.16845697365068626, 0.17374825792240986, 0.17778765411664327, 0.18160076160688524, 0.17626511137338846, 0.18587470012813542, 0.1795650218552028, 0.1817643938590076, 0.18224247273957606, 0.18571033952935279, 0.17829011975605227, 0.1775075040045894, 0.18637312403402534, 0.21065624808524094, 0.1964045419467683, 0.1809347390422598, 0.18384354090507682, 0.1809264660181377, 0.184706150736124, 0.1722437079552275, 0.17231249397425458, 0.1757122113586543, 0.19850169510427462, 0.19166594291549105, 0.19694690985823046, 0.19553502601069667, 0.18377320764684754, 0.18178737216698532, 0.17774954529951337, 0.18274516428917523, 0.195227913786318, 0.17162962380258817, 0.1786612830842826, 0.17870830532395762, 0.17810006659168345, 0.17210566592999066, 0.17167258172307612, 0.17470568370055886, 0.17655659622859124, 0.17253995315402681, 0.1779177592686075, 0.1808483892368313, 0.16962155323201503, 0.17493155643795016, 0.19209721295686175, 0.18257678045846304, 0.1765750813087668]}\n"
     ]
    },
    {
     "data": {
      "application/scrapbook.scrap.json+json": {
       "data": 0.2173507095142033,
       "encoder": "json",
       "name": "TabNet MAE",
       "version": 1
      }
     },
     "metadata": {
      "scrapbook": {
       "data": true,
       "display": false,
       "name": "TabNet MAE"
      }
     },
     "output_type": "display_data"
    },
    {
     "name": "stdout",
     "output_type": "stream",
     "text": [
      "TabNet MAE 0.2173507095142033\n"
     ]
    },
    {
     "data": {
      "image/png": "[encoded data removed]",
      "text/plain": [
       "<Figure size 432x288 with 1 Axes>"
      ]
     },
     "metadata": {
      "needs_background": "light"
     },
     "output_type": "display_data"
    }
   ],
   "source": [
    "lr = 0.01\n",
    "\n",
    "y_train = np.reshape(y_train, (-1, 1))\n",
    "y_test = np.reshape(y_test, (-1, 1))\n",
    "\n",
    "device = torch.device('cuda' if torch.cuda.is_available() else 'cpu')\n",
    "mae_tab= baselineModels.tabnetreg(X_train,y_train,X_test,y_test,batch_size,n_features,n_target,n_epochs, lr)\n",
    "sb.glue(\"TabNet MAE\",mae_tab)\n",
    "print(\"TabNet MAE\",mae_tab)"
   ]
  }
 ],
 "metadata": {
  "kernelspec": {
   "display_name": "Python 3.7.3 64-bit",
   "language": "python",
   "name": "python3"
  },
  "language_info": {
   "codemirror_mode": {
    "name": "ipython",
    "version": 3
   },
   "file_extension": ".py",
   "mimetype": "text/x-python",
   "name": "python",
   "nbconvert_exporter": "python",
   "pygments_lexer": "ipython3",
   "version": "3.8.13"
  },
  "papermill": {
   "default_parameters": {},
   "duration": 211.401895,
   "end_time": "2022-07-21T10:23:41.961699",
   "environment_variables": {},
   "exception": null,
   "input_path": "BaselineModels.ipynb",
   "output_path": "./BaseLine_Model_Output/BaselineModels_output_3.ipynb",
   "parameters": {},
   "start_time": "2022-07-21T10:20:10.559804",
   "version": "2.3.3"
  },
  "vscode": {
   "interpreter": {
    "hash": "aee8b7b246df8f9039afb4144a1f6fd8d2ca17a180786b69acc140d282b71a49"
   }
  }
 },
 "nbformat": 4,
 "nbformat_minor": 5
}