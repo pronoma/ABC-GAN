{
 "cells": [
  {
   "cell_type": "markdown",
   "id": "a4a1ff90",
   "metadata": {
    "papermill": {
     "duration": 0.010478,
     "end_time": "2022-07-21T10:27:42.554870",
     "exception": false,
     "start_time": "2022-07-21T10:27:42.544392",
     "status": "completed"
    },
    "tags": []
   },
   "source": [
    "## Import Libraries "
   ]
  },
  {
   "cell_type": "code",
   "execution_count": 1,
   "id": "8ddba1c6",
   "metadata": {
    "execution": {
     "iopub.execute_input": "2022-07-21T10:27:42.579177Z",
     "iopub.status.busy": "2022-07-21T10:27:42.578426Z",
     "iopub.status.idle": "2022-07-21T10:27:42.631965Z",
     "shell.execute_reply": "2022-07-21T10:27:42.628299Z"
    },
    "papermill": {
     "duration": 0.075722,
     "end_time": "2022-07-21T10:27:42.637324",
     "exception": false,
     "start_time": "2022-07-21T10:27:42.561602",
     "status": "completed"
    },
    "tags": []
   },
   "outputs": [],
   "source": [
    "import warnings\n",
    "import sys\n",
    "sys.path.insert(0, '../../src')\n",
    "warnings.filterwarnings('ignore')"
   ]
  },
  {
   "cell_type": "code",
   "execution_count": 2,
   "id": "9ea74083",
   "metadata": {
    "execution": {
     "iopub.execute_input": "2022-07-21T10:27:42.651659Z",
     "iopub.status.busy": "2022-07-21T10:27:42.650416Z",
     "iopub.status.idle": "2022-07-21T10:27:55.259079Z",
     "shell.execute_reply": "2022-07-21T10:27:55.258365Z"
    },
    "papermill": {
     "duration": 12.618297,
     "end_time": "2022-07-21T10:27:55.262322",
     "exception": false,
     "start_time": "2022-07-21T10:27:42.644025",
     "status": "completed"
    },
    "tags": []
   },
   "outputs": [],
   "source": [
    "import statsModel\n",
    "import scrapbook as sb \n",
    "import torch \n",
    "import statsModel\n",
    "import baselineModels\n",
    "import bostonDataset\n",
    "import dataset \n",
    "from torch.utils.data import random_split \n",
    "from sklearn.model_selection import train_test_split\n",
    "import numpy as np\n",
    "from sklearn.metrics import mean_squared_error,mean_absolute_error "
   ]
  },
  {
   "cell_type": "markdown",
   "id": "08248576",
   "metadata": {
    "papermill": {
     "duration": 0.004189,
     "end_time": "2022-07-21T10:27:55.318269",
     "exception": false,
     "start_time": "2022-07-21T10:27:55.314080",
     "status": "completed"
    },
    "tags": []
   },
   "source": [
    "## Import Dataset \n"
   ]
  },
  {
   "cell_type": "code",
   "execution_count": 3,
   "id": "370b0cf2",
   "metadata": {
    "execution": {
     "iopub.execute_input": "2022-07-21T10:27:55.339810Z",
     "iopub.status.busy": "2022-07-21T10:27:55.339419Z",
     "iopub.status.idle": "2022-07-21T10:27:55.402579Z",
     "shell.execute_reply": "2022-07-21T10:27:55.400949Z"
    },
    "papermill": {
     "duration": 0.083686,
     "end_time": "2022-07-21T10:27:55.405858",
     "exception": false,
     "start_time": "2022-07-21T10:27:55.322172",
     "status": "completed"
    },
    "tags": []
   },
   "outputs": [
    {
     "name": "stdout",
     "output_type": "stream",
     "text": [
      "         X1        X2        X3        X4        X5        X6        X7  \\\n",
      "0 -0.419782  0.284830 -1.287909 -0.272599 -0.144217  0.413672 -0.120013   \n",
      "1 -0.417339 -0.487722 -0.593381 -0.272599 -0.740262  0.194274  0.367166   \n",
      "2 -0.417342 -0.487722 -0.593381 -0.272599 -0.740262  1.282714 -0.265812   \n",
      "3 -0.416750 -0.487722 -1.306878 -0.272599 -0.835284  1.016303 -0.809889   \n",
      "4 -0.412482 -0.487722 -1.306878 -0.272599 -0.835284  1.228577 -0.511180   \n",
      "\n",
      "         X8        X9       X10       X11       X12       X13         Y  \n",
      "0  0.140214 -0.982843 -0.666608 -1.459000  0.441052 -1.075562  0.159686  \n",
      "1  0.557160 -0.867883 -0.987329 -0.303094  0.441052 -0.492439 -0.101524  \n",
      "2  0.557160 -0.867883 -0.987329 -0.303094  0.396427 -1.208727  1.324247  \n",
      "3  1.077737 -0.752922 -1.106115  0.113032  0.416163 -1.361517  1.182758  \n",
      "4  1.077737 -0.752922 -1.106115  0.113032  0.441052 -1.026501  1.487503  \n"
     ]
    }
   ],
   "source": [
    "n_features = 13\n",
    "n_samples= 506\n",
    "n_target = 1 \n",
    "X,Y = bostonDataset.boston_data()"
   ]
  },
  {
   "cell_type": "code",
   "execution_count": 4,
   "id": "da98c3cf",
   "metadata": {
    "execution": {
     "iopub.execute_input": "2022-07-21T10:27:55.456207Z",
     "iopub.status.busy": "2022-07-21T10:27:55.455050Z",
     "iopub.status.idle": "2022-07-21T10:27:55.463639Z",
     "shell.execute_reply": "2022-07-21T10:27:55.462614Z"
    },
    "papermill": {
     "duration": 0.056906,
     "end_time": "2022-07-21T10:27:55.466255",
     "exception": false,
     "start_time": "2022-07-21T10:27:55.409349",
     "status": "completed"
    },
    "tags": []
   },
   "outputs": [],
   "source": [
    "# Train test split for dataset \n",
    "real_dataset = dataset.CustomDataset(X,Y)\n",
    "X_train, X_test, y_train, y_test = train_test_split(X, Y, test_size=0.2)"
   ]
  },
  {
   "cell_type": "markdown",
   "id": "d7e203e2",
   "metadata": {
    "papermill": {
     "duration": 0.024928,
     "end_time": "2022-07-21T10:27:55.497573",
     "exception": false,
     "start_time": "2022-07-21T10:27:55.472645",
     "status": "completed"
    },
    "tags": []
   },
   "source": [
    "## Stats Model \n",
    "\n"
   ]
  },
  {
   "cell_type": "code",
   "execution_count": 5,
   "id": "72072818",
   "metadata": {
    "execution": {
     "iopub.execute_input": "2022-07-21T10:27:55.508975Z",
     "iopub.status.busy": "2022-07-21T10:27:55.508520Z",
     "iopub.status.idle": "2022-07-21T10:27:55.908226Z",
     "shell.execute_reply": "2022-07-21T10:27:55.906380Z"
    },
    "papermill": {
     "duration": 0.409318,
     "end_time": "2022-07-21T10:27:55.913009",
     "exception": false,
     "start_time": "2022-07-21T10:27:55.503691",
     "status": "completed"
    },
    "tags": []
   },
   "outputs": [
    {
     "name": "stderr",
     "output_type": "stream",
     "text": [
      "No artists with labels found to put in legend.  Note that artists whose label start with an underscore are ignored when legend() is called with no argument.\n"
     ]
    },
    {
     "name": "stdout",
     "output_type": "stream",
     "text": [
      "                                 OLS Regression Results                                \n",
      "=======================================================================================\n",
      "Dep. Variable:                      y   R-squared (uncentered):                   0.739\n",
      "Model:                            OLS   Adj. R-squared (uncentered):              0.730\n",
      "Method:                 Least Squares   F-statistic:                              84.95\n",
      "Date:                Thu, 21 Jul 2022   Prob (F-statistic):                   3.69e-105\n",
      "Time:                        15:57:55   Log-Likelihood:                         -313.02\n",
      "No. Observations:                 404   AIC:                                      652.0\n",
      "Df Residuals:                     391   BIC:                                      704.1\n",
      "Df Model:                          13                                                  \n",
      "Covariance Type:            nonrobust                                                  \n",
      "==============================================================================\n",
      "                 coef    std err          t      P>|t|      [0.025      0.975]\n",
      "------------------------------------------------------------------------------\n",
      "x1            -0.0918      0.034     -2.693      0.007      -0.159      -0.025\n",
      "x2             0.1200      0.040      2.989      0.003       0.041       0.199\n",
      "x3             0.0165      0.053      0.314      0.754      -0.087       0.120\n",
      "x4             0.1073      0.029      3.648      0.000       0.049       0.165\n",
      "x5            -0.2604      0.056     -4.611      0.000      -0.371      -0.149\n",
      "x6             0.2496      0.038      6.544      0.000       0.175       0.325\n",
      "x7             0.0569      0.047      1.206      0.229      -0.036       0.150\n",
      "x8            -0.3495      0.053     -6.649      0.000      -0.453      -0.246\n",
      "x9             0.3111      0.074      4.214      0.000       0.166       0.456\n",
      "x10           -0.2645      0.080     -3.306      0.001      -0.422      -0.107\n",
      "x11           -0.2411      0.035     -6.835      0.000      -0.311      -0.172\n",
      "x12            0.0626      0.032      1.976      0.049       0.000       0.125\n",
      "x13           -0.4327      0.046     -9.411      0.000      -0.523      -0.342\n",
      "==============================================================================\n",
      "Omnibus:                      132.352   Durbin-Watson:                   2.077\n",
      "Prob(Omnibus):                  0.000   Jarque-Bera (JB):              493.963\n",
      "Skew:                           1.431   Prob(JB):                    5.46e-108\n",
      "Kurtosis:                       7.599   Cond. No.                         10.1\n",
      "==============================================================================\n",
      "\n",
      "Notes:\n",
      "[1] R² is computed without centering (uncentered) since the model does not contain a constant.\n",
      "[2] Standard Errors assume that the covariance matrix of the errors is correctly specified.\n"
     ]
    },
    {
     "data": {
      "image/png": "[encoded data removed]",
      "text/plain": [
       "<Figure size 432x288 with 1 Axes>"
      ]
     },
     "metadata": {
      "needs_background": "light"
     },
     "output_type": "display_data"
    },
    {
     "name": "stdout",
     "output_type": "stream",
     "text": [
      "Performance Metrics\n",
      "Mean Squared Error: 0.21459059841034014\n",
      "Mean Absolute Error: 0.3440062889158584\n",
      "Manhattan distance: 35.08864146941757\n",
      "Euclidean distance: 4.678487045814565\n"
     ]
    },
    {
     "data": {
      "application/scrapbook.scrap.json+json": {
       "data": 0.21459059841034014,
       "encoder": "json",
       "name": "Stats Model MSE",
       "version": 1
      }
     },
     "metadata": {
      "scrapbook": {
       "data": true,
       "display": false,
       "name": "Stats Model MSE"
      }
     },
     "output_type": "display_data"
    },
    {
     "data": {
      "application/scrapbook.scrap.json+json": {
       "data": 0.3440062889158584,
       "encoder": "json",
       "name": "Stats Model MAE",
       "version": 1
      }
     },
     "metadata": {
      "scrapbook": {
       "data": true,
       "display": false,
       "name": "Stats Model MAE"
      }
     },
     "output_type": "display_data"
    },
    {
     "data": {
      "application/scrapbook.scrap.json+json": {
       "data": 35.08864146941757,
       "encoder": "json",
       "name": "Stats Model Manhattan Distance",
       "version": 1
      }
     },
     "metadata": {
      "scrapbook": {
       "data": true,
       "display": false,
       "name": "Stats Model Manhattan Distance"
      }
     },
     "output_type": "display_data"
    },
    {
     "data": {
      "application/scrapbook.scrap.json+json": {
       "data": 4.678487045814565,
       "encoder": "json",
       "name": "Stats Model Euclidean distance",
       "version": 1
      }
     },
     "metadata": {
      "scrapbook": {
       "data": true,
       "display": false,
       "name": "Stats Model Euclidean distance"
      }
     },
     "output_type": "display_data"
    },
    {
     "data": {
      "application/scrapbook.scrap.json+json": {
       "data": [
        -0.09181915254666875,
        0.11996160318053768,
        0.016466317187368323,
        0.10733446747237041,
        -0.2604143587702187,
        0.2496396800755305,
        0.05694423040486454,
        -0.34950982882975346,
        0.3111080369647766,
        -0.26451576556928014,
        -0.24114689542632517,
        0.06260258268715488,
        -0.43273133410477593
       ],
       "encoder": "json",
       "name": "Coefficients",
       "version": 1
      }
     },
     "metadata": {
      "scrapbook": {
       "data": true,
       "display": false,
       "name": "Coefficients"
      }
     },
     "output_type": "display_data"
    },
    {
     "name": "stdout",
     "output_type": "stream",
     "text": [
      "Stats Model MAE 0.3440062889158584\n"
     ]
    }
   ],
   "source": [
    "coefficients , y_pred =statsModel.statsModel(X_train,y_train,X_test,y_test)\n",
    "#Store MSE Value \n",
    "sb.glue(\"Coefficients\",coefficients)\n",
    "mae = mean_absolute_error(y_pred, y_test)\n",
    "print(\"Stats Model MAE\", mae)"
   ]
  },
  {
   "cell_type": "markdown",
   "id": "e95b9f8e",
   "metadata": {
    "papermill": {
     "duration": 0.021449,
     "end_time": "2022-07-21T10:27:55.941836",
     "exception": false,
     "start_time": "2022-07-21T10:27:55.920387",
     "status": "completed"
    },
    "tags": []
   },
   "source": [
    "# Catboost Model "
   ]
  },
  {
   "cell_type": "code",
   "execution_count": 6,
   "id": "42c88789",
   "metadata": {
    "execution": {
     "iopub.execute_input": "2022-07-21T10:27:55.958248Z",
     "iopub.status.busy": "2022-07-21T10:27:55.957756Z",
     "iopub.status.idle": "2022-07-21T10:27:58.661086Z",
     "shell.execute_reply": "2022-07-21T10:27:58.659220Z"
    },
    "papermill": {
     "duration": 2.717062,
     "end_time": "2022-07-21T10:27:58.664892",
     "exception": false,
     "start_time": "2022-07-21T10:27:55.947830",
     "status": "completed"
    },
    "tags": []
   },
   "outputs": [
    {
     "name": "stdout",
     "output_type": "stream",
     "text": [
      "Learning rate set to 0.03548\n"
     ]
    },
    {
     "name": "stdout",
     "output_type": "stream",
     "text": [
      "0:\tlearn: 1.0034431\ttotal: 64.4ms\tremaining: 1m 4s\n",
      "1:\tlearn: 0.9810312\ttotal: 70.3ms\tremaining: 35.1s\n",
      "2:\tlearn: 0.9569666\ttotal: 75.8ms\tremaining: 25.2s\n",
      "3:\tlearn: 0.9396421\ttotal: 78.6ms\tremaining: 19.6s\n",
      "4:\tlearn: 0.9220226\ttotal: 80.6ms\tremaining: 16s\n",
      "5:\tlearn: 0.9034976\ttotal: 82.2ms\tremaining: 13.6s\n",
      "6:\tlearn: 0.8859312\ttotal: 83.7ms\tremaining: 11.9s\n",
      "7:\tlearn: 0.8675110\ttotal: 85.3ms\tremaining: 10.6s\n",
      "8:\tlearn: 0.8506963\ttotal: 87.1ms\tremaining: 9.59s\n",
      "9:\tlearn: 0.8341679\ttotal: 88.9ms\tremaining: 8.8s\n",
      "10:\tlearn: 0.8174539\ttotal: 90.4ms\tremaining: 8.13s\n",
      "11:\tlearn: 0.8015969\ttotal: 91.9ms\tremaining: 7.56s\n",
      "12:\tlearn: 0.7847100\ttotal: 93.4ms\tremaining: 7.09s\n",
      "13:\tlearn: 0.7693583\ttotal: 95.1ms\tremaining: 6.7s\n",
      "14:\tlearn: 0.7552632\ttotal: 96.6ms\tremaining: 6.34s\n",
      "15:\tlearn: 0.7399736\ttotal: 98ms\tremaining: 6.03s\n",
      "16:\tlearn: 0.7281471\ttotal: 99.5ms\tremaining: 5.75s\n",
      "17:\tlearn: 0.7156869\ttotal: 101ms\tremaining: 5.51s\n",
      "18:\tlearn: 0.7026587\ttotal: 103ms\tremaining: 5.3s\n",
      "19:\tlearn: 0.6886327\ttotal: 104ms\tremaining: 5.1s\n",
      "20:\tlearn: 0.6778030\ttotal: 106ms\tremaining: 4.95s\n",
      "21:\tlearn: 0.6657462\ttotal: 109ms\tremaining: 4.83s\n",
      "22:\tlearn: 0.6550218\ttotal: 110ms\tremaining: 4.69s\n",
      "23:\tlearn: 0.6454310\ttotal: 112ms\tremaining: 4.55s\n",
      "24:\tlearn: 0.6352284\ttotal: 113ms\tremaining: 4.42s\n",
      "25:\tlearn: 0.6239261\ttotal: 115ms\tremaining: 4.3s\n",
      "26:\tlearn: 0.6145182\ttotal: 116ms\tremaining: 4.2s\n",
      "27:\tlearn: 0.6052681\ttotal: 118ms\tremaining: 4.09s\n"
     ]
    },
    {
     "name": "stdout",
     "output_type": "stream",
     "text": [
      "28:\tlearn: 0.5952235\ttotal: 120ms\tremaining: 4s\n",
      "29:\tlearn: 0.5853617\ttotal: 121ms\tremaining: 3.92s\n",
      "30:\tlearn: 0.5745687\ttotal: 123ms\tremaining: 3.86s\n",
      "31:\tlearn: 0.5667718\ttotal: 125ms\tremaining: 3.78s\n",
      "32:\tlearn: 0.5596357\ttotal: 127ms\tremaining: 3.71s\n",
      "33:\tlearn: 0.5518931\ttotal: 128ms\tremaining: 3.64s\n",
      "34:\tlearn: 0.5446344\ttotal: 130ms\tremaining: 3.59s\n",
      "35:\tlearn: 0.5371559\ttotal: 132ms\tremaining: 3.53s\n",
      "36:\tlearn: 0.5307681\ttotal: 133ms\tremaining: 3.47s\n",
      "37:\tlearn: 0.5239478\ttotal: 135ms\tremaining: 3.41s\n",
      "38:\tlearn: 0.5164696\ttotal: 136ms\tremaining: 3.36s\n",
      "39:\tlearn: 0.5091762\ttotal: 138ms\tremaining: 3.31s\n",
      "40:\tlearn: 0.5038678\ttotal: 139ms\tremaining: 3.26s\n",
      "41:\tlearn: 0.4963592\ttotal: 141ms\tremaining: 3.21s\n",
      "42:\tlearn: 0.4918791\ttotal: 143ms\tremaining: 3.17s\n",
      "43:\tlearn: 0.4853634\ttotal: 144ms\tremaining: 3.13s\n",
      "44:\tlearn: 0.4789905\ttotal: 146ms\tremaining: 3.1s\n",
      "45:\tlearn: 0.4721323\ttotal: 147ms\tremaining: 3.06s\n",
      "46:\tlearn: 0.4669638\ttotal: 149ms\tremaining: 3.02s\n",
      "47:\tlearn: 0.4606035\ttotal: 151ms\tremaining: 2.99s\n",
      "48:\tlearn: 0.4543033\ttotal: 152ms\tremaining: 2.95s\n",
      "49:\tlearn: 0.4496932\ttotal: 154ms\tremaining: 2.92s\n",
      "50:\tlearn: 0.4444051\ttotal: 155ms\tremaining: 2.89s\n",
      "51:\tlearn: 0.4390709\ttotal: 157ms\tremaining: 2.86s\n",
      "52:\tlearn: 0.4336350\ttotal: 158ms\tremaining: 2.83s\n",
      "53:\tlearn: 0.4303580\ttotal: 159ms\tremaining: 2.79s\n",
      "54:\tlearn: 0.4250371\ttotal: 161ms\tremaining: 2.77s\n",
      "55:\tlearn: 0.4209235\ttotal: 162ms\tremaining: 2.74s\n",
      "56:\tlearn: 0.4164045\ttotal: 164ms\tremaining: 2.71s\n",
      "57:\tlearn: 0.4112847\ttotal: 165ms\tremaining: 2.69s\n",
      "58:\tlearn: 0.4075416\ttotal: 167ms\tremaining: 2.66s\n",
      "59:\tlearn: 0.4038917\ttotal: 168ms\tremaining: 2.64s\n",
      "60:\tlearn: 0.3997689\ttotal: 170ms\tremaining: 2.62s\n",
      "61:\tlearn: 0.3962820\ttotal: 172ms\tremaining: 2.6s\n",
      "62:\tlearn: 0.3934063\ttotal: 173ms\tremaining: 2.58s\n",
      "63:\tlearn: 0.3900199\ttotal: 175ms\tremaining: 2.55s\n",
      "64:\tlearn: 0.3863969\ttotal: 176ms\tremaining: 2.53s\n",
      "65:\tlearn: 0.3834859\ttotal: 178ms\tremaining: 2.52s\n",
      "66:\tlearn: 0.3800754\ttotal: 179ms\tremaining: 2.49s\n",
      "67:\tlearn: 0.3772623\ttotal: 181ms\tremaining: 2.48s\n"
     ]
    },
    {
     "name": "stdout",
     "output_type": "stream",
     "text": [
      "68:\tlearn: 0.3741799\ttotal: 183ms\tremaining: 2.47s\n",
      "69:\tlearn: 0.3717687\ttotal: 185ms\tremaining: 2.46s\n",
      "70:\tlearn: 0.3680611\ttotal: 186ms\tremaining: 2.44s\n",
      "71:\tlearn: 0.3653663\ttotal: 188ms\tremaining: 2.42s\n",
      "72:\tlearn: 0.3630941\ttotal: 189ms\tremaining: 2.4s\n",
      "73:\tlearn: 0.3598328\ttotal: 192ms\tremaining: 2.41s\n",
      "74:\tlearn: 0.3577572\ttotal: 197ms\tremaining: 2.43s\n",
      "75:\tlearn: 0.3550451\ttotal: 199ms\tremaining: 2.42s\n",
      "76:\tlearn: 0.3521065\ttotal: 200ms\tremaining: 2.4s\n",
      "77:\tlearn: 0.3494586\ttotal: 202ms\tremaining: 2.38s\n",
      "78:\tlearn: 0.3459898\ttotal: 204ms\tremaining: 2.38s\n",
      "79:\tlearn: 0.3435531\ttotal: 206ms\tremaining: 2.36s\n",
      "80:\tlearn: 0.3408537\ttotal: 207ms\tremaining: 2.35s\n",
      "81:\tlearn: 0.3382851\ttotal: 209ms\tremaining: 2.33s\n",
      "82:\tlearn: 0.3361098\ttotal: 211ms\tremaining: 2.33s\n",
      "83:\tlearn: 0.3339425\ttotal: 213ms\tremaining: 2.32s\n",
      "84:\tlearn: 0.3320858\ttotal: 214ms\tremaining: 2.31s\n",
      "85:\tlearn: 0.3300479\ttotal: 216ms\tremaining: 2.29s\n",
      "86:\tlearn: 0.3283897\ttotal: 218ms\tremaining: 2.29s\n",
      "87:\tlearn: 0.3260807\ttotal: 219ms\tremaining: 2.27s\n",
      "88:\tlearn: 0.3241134\ttotal: 221ms\tremaining: 2.26s\n",
      "89:\tlearn: 0.3217436\ttotal: 222ms\tremaining: 2.25s\n",
      "90:\tlearn: 0.3194553\ttotal: 224ms\tremaining: 2.24s\n",
      "91:\tlearn: 0.3175634\ttotal: 226ms\tremaining: 2.23s\n",
      "92:\tlearn: 0.3159224\ttotal: 228ms\tremaining: 2.22s\n",
      "93:\tlearn: 0.3135755\ttotal: 229ms\tremaining: 2.21s\n",
      "94:\tlearn: 0.3115943\ttotal: 231ms\tremaining: 2.2s\n",
      "95:\tlearn: 0.3102453\ttotal: 233ms\tremaining: 2.2s\n",
      "96:\tlearn: 0.3090587\ttotal: 235ms\tremaining: 2.19s\n",
      "97:\tlearn: 0.3075168\ttotal: 236ms\tremaining: 2.18s\n",
      "98:\tlearn: 0.3061624\ttotal: 238ms\tremaining: 2.17s\n",
      "99:\tlearn: 0.3050007\ttotal: 240ms\tremaining: 2.16s\n",
      "100:\tlearn: 0.3029248\ttotal: 242ms\tremaining: 2.15s\n",
      "101:\tlearn: 0.3014156\ttotal: 243ms\tremaining: 2.14s\n",
      "102:\tlearn: 0.2998638\ttotal: 245ms\tremaining: 2.13s\n",
      "103:\tlearn: 0.2984630\ttotal: 246ms\tremaining: 2.12s\n"
     ]
    },
    {
     "name": "stdout",
     "output_type": "stream",
     "text": [
      "104:\tlearn: 0.2970634\ttotal: 249ms\tremaining: 2.12s\n",
      "105:\tlearn: 0.2957467\ttotal: 251ms\tremaining: 2.11s\n",
      "106:\tlearn: 0.2942174\ttotal: 252ms\tremaining: 2.1s\n",
      "107:\tlearn: 0.2929798\ttotal: 253ms\tremaining: 2.09s\n",
      "108:\tlearn: 0.2914057\ttotal: 256ms\tremaining: 2.09s\n",
      "109:\tlearn: 0.2899298\ttotal: 257ms\tremaining: 2.08s\n",
      "110:\tlearn: 0.2883252\ttotal: 258ms\tremaining: 2.07s\n",
      "111:\tlearn: 0.2870272\ttotal: 260ms\tremaining: 2.06s\n",
      "112:\tlearn: 0.2854245\ttotal: 262ms\tremaining: 2.06s\n",
      "113:\tlearn: 0.2841175\ttotal: 264ms\tremaining: 2.05s\n",
      "114:\tlearn: 0.2830259\ttotal: 265ms\tremaining: 2.04s\n",
      "115:\tlearn: 0.2816460\ttotal: 266ms\tremaining: 2.03s\n",
      "116:\tlearn: 0.2803123\ttotal: 268ms\tremaining: 2.02s\n",
      "117:\tlearn: 0.2792783\ttotal: 269ms\tremaining: 2.01s\n",
      "118:\tlearn: 0.2781182\ttotal: 271ms\tremaining: 2s\n",
      "119:\tlearn: 0.2773978\ttotal: 272ms\tremaining: 2s\n",
      "120:\tlearn: 0.2759565\ttotal: 274ms\tremaining: 1.99s\n",
      "121:\tlearn: 0.2748179\ttotal: 275ms\tremaining: 1.98s\n",
      "122:\tlearn: 0.2732147\ttotal: 276ms\tremaining: 1.97s\n",
      "123:\tlearn: 0.2715873\ttotal: 278ms\tremaining: 1.96s\n",
      "124:\tlearn: 0.2704438\ttotal: 279ms\tremaining: 1.96s\n",
      "125:\tlearn: 0.2692191\ttotal: 281ms\tremaining: 1.95s\n",
      "126:\tlearn: 0.2681647\ttotal: 283ms\tremaining: 1.94s\n",
      "127:\tlearn: 0.2672181\ttotal: 284ms\tremaining: 1.94s\n",
      "128:\tlearn: 0.2660009\ttotal: 287ms\tremaining: 1.93s\n",
      "129:\tlearn: 0.2650993\ttotal: 288ms\tremaining: 1.93s\n",
      "130:\tlearn: 0.2638361\ttotal: 291ms\tremaining: 1.93s\n",
      "131:\tlearn: 0.2629108\ttotal: 293ms\tremaining: 1.92s\n",
      "132:\tlearn: 0.2618712\ttotal: 294ms\tremaining: 1.92s\n",
      "133:\tlearn: 0.2613111\ttotal: 296ms\tremaining: 1.91s\n"
     ]
    },
    {
     "name": "stdout",
     "output_type": "stream",
     "text": [
      "134:\tlearn: 0.2597766\ttotal: 302ms\tremaining: 1.93s\n",
      "135:\tlearn: 0.2586152\ttotal: 306ms\tremaining: 1.94s\n",
      "136:\tlearn: 0.2578709\ttotal: 308ms\tremaining: 1.94s\n",
      "137:\tlearn: 0.2566476\ttotal: 309ms\tremaining: 1.93s\n",
      "138:\tlearn: 0.2552921\ttotal: 311ms\tremaining: 1.92s\n",
      "139:\tlearn: 0.2546732\ttotal: 313ms\tremaining: 1.92s\n",
      "140:\tlearn: 0.2540117\ttotal: 316ms\tremaining: 1.93s\n",
      "141:\tlearn: 0.2529396\ttotal: 319ms\tremaining: 1.92s\n",
      "142:\tlearn: 0.2524142\ttotal: 323ms\tremaining: 1.93s\n",
      "143:\tlearn: 0.2511592\ttotal: 326ms\tremaining: 1.94s\n",
      "144:\tlearn: 0.2505610\ttotal: 333ms\tremaining: 1.96s\n",
      "145:\tlearn: 0.2496434\ttotal: 338ms\tremaining: 1.98s\n",
      "146:\tlearn: 0.2489163\ttotal: 340ms\tremaining: 1.98s\n",
      "147:\tlearn: 0.2483957\ttotal: 345ms\tremaining: 1.99s\n",
      "148:\tlearn: 0.2475523\ttotal: 348ms\tremaining: 1.98s\n",
      "149:\tlearn: 0.2466734\ttotal: 353ms\tremaining: 2s\n",
      "150:\tlearn: 0.2460994\ttotal: 355ms\tremaining: 2s\n",
      "151:\tlearn: 0.2455274\ttotal: 359ms\tremaining: 2s\n",
      "152:\tlearn: 0.2447897\ttotal: 362ms\tremaining: 2s\n",
      "153:\tlearn: 0.2440445\ttotal: 364ms\tremaining: 2s\n"
     ]
    },
    {
     "name": "stdout",
     "output_type": "stream",
     "text": [
      "154:\tlearn: 0.2433448\ttotal: 366ms\tremaining: 2s\n",
      "155:\tlearn: 0.2426405\ttotal: 371ms\tremaining: 2s\n",
      "156:\tlearn: 0.2417084\ttotal: 373ms\tremaining: 2s\n",
      "157:\tlearn: 0.2409524\ttotal: 379ms\tremaining: 2.02s\n",
      "158:\tlearn: 0.2403713\ttotal: 380ms\tremaining: 2.01s\n",
      "159:\tlearn: 0.2399692\ttotal: 382ms\tremaining: 2s\n",
      "160:\tlearn: 0.2389180\ttotal: 384ms\tremaining: 2s\n",
      "161:\tlearn: 0.2382509\ttotal: 386ms\tremaining: 2s\n",
      "162:\tlearn: 0.2377469\ttotal: 387ms\tremaining: 1.99s\n",
      "163:\tlearn: 0.2369137\ttotal: 389ms\tremaining: 1.98s\n",
      "164:\tlearn: 0.2356999\ttotal: 392ms\tremaining: 1.99s\n",
      "165:\tlearn: 0.2350951\ttotal: 394ms\tremaining: 1.98s\n",
      "166:\tlearn: 0.2343019\ttotal: 396ms\tremaining: 1.97s\n",
      "167:\tlearn: 0.2337283\ttotal: 399ms\tremaining: 1.97s\n",
      "168:\tlearn: 0.2330221\ttotal: 400ms\tremaining: 1.97s\n",
      "169:\tlearn: 0.2321652\ttotal: 401ms\tremaining: 1.96s\n",
      "170:\tlearn: 0.2315847\ttotal: 403ms\tremaining: 1.95s\n",
      "171:\tlearn: 0.2309127\ttotal: 406ms\tremaining: 1.96s\n",
      "172:\tlearn: 0.2300773\ttotal: 408ms\tremaining: 1.95s\n",
      "173:\tlearn: 0.2294384\ttotal: 409ms\tremaining: 1.94s\n",
      "174:\tlearn: 0.2289906\ttotal: 411ms\tremaining: 1.94s\n",
      "175:\tlearn: 0.2285074\ttotal: 413ms\tremaining: 1.93s\n",
      "176:\tlearn: 0.2275409\ttotal: 415ms\tremaining: 1.93s\n",
      "177:\tlearn: 0.2269554\ttotal: 416ms\tremaining: 1.92s\n",
      "178:\tlearn: 0.2262869\ttotal: 420ms\tremaining: 1.93s\n",
      "179:\tlearn: 0.2256814\ttotal: 422ms\tremaining: 1.92s\n",
      "180:\tlearn: 0.2249476\ttotal: 424ms\tremaining: 1.92s\n",
      "181:\tlearn: 0.2240394\ttotal: 426ms\tremaining: 1.92s\n"
     ]
    },
    {
     "name": "stdout",
     "output_type": "stream",
     "text": [
      "182:\tlearn: 0.2235477\ttotal: 428ms\tremaining: 1.91s\n",
      "183:\tlearn: 0.2228862\ttotal: 430ms\tremaining: 1.91s\n",
      "184:\tlearn: 0.2223139\ttotal: 432ms\tremaining: 1.9s\n",
      "185:\tlearn: 0.2217348\ttotal: 435ms\tremaining: 1.91s\n",
      "186:\tlearn: 0.2208622\ttotal: 438ms\tremaining: 1.91s\n",
      "187:\tlearn: 0.2203963\ttotal: 440ms\tremaining: 1.9s\n",
      "188:\tlearn: 0.2199046\ttotal: 441ms\tremaining: 1.89s\n",
      "189:\tlearn: 0.2191915\ttotal: 443ms\tremaining: 1.89s\n",
      "190:\tlearn: 0.2182585\ttotal: 445ms\tremaining: 1.88s\n",
      "191:\tlearn: 0.2177886\ttotal: 448ms\tremaining: 1.88s\n",
      "192:\tlearn: 0.2171986\ttotal: 450ms\tremaining: 1.88s\n",
      "193:\tlearn: 0.2168588\ttotal: 451ms\tremaining: 1.87s\n",
      "194:\tlearn: 0.2163411\ttotal: 453ms\tremaining: 1.87s\n",
      "195:\tlearn: 0.2158123\ttotal: 454ms\tremaining: 1.86s\n",
      "196:\tlearn: 0.2150573\ttotal: 456ms\tremaining: 1.86s\n",
      "197:\tlearn: 0.2145741\ttotal: 459ms\tremaining: 1.86s\n",
      "198:\tlearn: 0.2138405\ttotal: 461ms\tremaining: 1.85s\n",
      "199:\tlearn: 0.2133189\ttotal: 462ms\tremaining: 1.85s\n",
      "200:\tlearn: 0.2127069\ttotal: 464ms\tremaining: 1.84s\n",
      "201:\tlearn: 0.2120643\ttotal: 465ms\tremaining: 1.84s\n",
      "202:\tlearn: 0.2114292\ttotal: 467ms\tremaining: 1.83s\n",
      "203:\tlearn: 0.2109548\ttotal: 468ms\tremaining: 1.83s\n",
      "204:\tlearn: 0.2104407\ttotal: 470ms\tremaining: 1.82s\n",
      "205:\tlearn: 0.2097368\ttotal: 472ms\tremaining: 1.82s\n",
      "206:\tlearn: 0.2091109\ttotal: 473ms\tremaining: 1.81s\n",
      "207:\tlearn: 0.2086783\ttotal: 474ms\tremaining: 1.81s\n"
     ]
    },
    {
     "name": "stdout",
     "output_type": "stream",
     "text": [
      "208:\tlearn: 0.2080650\ttotal: 476ms\tremaining: 1.8s\n",
      "209:\tlearn: 0.2073357\ttotal: 478ms\tremaining: 1.8s\n",
      "210:\tlearn: 0.2068705\ttotal: 480ms\tremaining: 1.79s\n",
      "211:\tlearn: 0.2062741\ttotal: 481ms\tremaining: 1.79s\n",
      "212:\tlearn: 0.2060496\ttotal: 483ms\tremaining: 1.78s\n",
      "213:\tlearn: 0.2052477\ttotal: 485ms\tremaining: 1.78s\n",
      "214:\tlearn: 0.2046055\ttotal: 486ms\tremaining: 1.77s\n",
      "215:\tlearn: 0.2041386\ttotal: 488ms\tremaining: 1.77s\n",
      "216:\tlearn: 0.2033934\ttotal: 489ms\tremaining: 1.76s\n",
      "217:\tlearn: 0.2028215\ttotal: 491ms\tremaining: 1.76s\n",
      "218:\tlearn: 0.2022247\ttotal: 492ms\tremaining: 1.75s\n",
      "219:\tlearn: 0.2017084\ttotal: 494ms\tremaining: 1.75s\n",
      "220:\tlearn: 0.2010826\ttotal: 495ms\tremaining: 1.75s\n",
      "221:\tlearn: 0.2007897\ttotal: 497ms\tremaining: 1.74s\n",
      "222:\tlearn: 0.2002467\ttotal: 498ms\tremaining: 1.74s\n",
      "223:\tlearn: 0.1996806\ttotal: 500ms\tremaining: 1.73s\n",
      "224:\tlearn: 0.1991959\ttotal: 502ms\tremaining: 1.73s\n",
      "225:\tlearn: 0.1988348\ttotal: 504ms\tremaining: 1.73s\n",
      "226:\tlearn: 0.1982574\ttotal: 506ms\tremaining: 1.72s\n",
      "227:\tlearn: 0.1978674\ttotal: 507ms\tremaining: 1.72s\n",
      "228:\tlearn: 0.1973945\ttotal: 509ms\tremaining: 1.71s\n",
      "229:\tlearn: 0.1970387\ttotal: 512ms\tremaining: 1.71s\n",
      "230:\tlearn: 0.1960955\ttotal: 514ms\tremaining: 1.71s\n",
      "231:\tlearn: 0.1953818\ttotal: 517ms\tremaining: 1.71s\n",
      "232:\tlearn: 0.1951221\ttotal: 519ms\tremaining: 1.71s\n",
      "233:\tlearn: 0.1947986\ttotal: 522ms\tremaining: 1.71s\n",
      "234:\tlearn: 0.1944061\ttotal: 524ms\tremaining: 1.71s\n",
      "235:\tlearn: 0.1939380\ttotal: 526ms\tremaining: 1.7s\n",
      "236:\tlearn: 0.1934823\ttotal: 529ms\tremaining: 1.7s\n",
      "237:\tlearn: 0.1932255\ttotal: 533ms\tremaining: 1.71s\n"
     ]
    },
    {
     "name": "stdout",
     "output_type": "stream",
     "text": [
      "238:\tlearn: 0.1928364\ttotal: 536ms\tremaining: 1.71s\n",
      "239:\tlearn: 0.1921605\ttotal: 538ms\tremaining: 1.7s\n",
      "240:\tlearn: 0.1918679\ttotal: 540ms\tremaining: 1.7s\n",
      "241:\tlearn: 0.1916584\ttotal: 543ms\tremaining: 1.7s\n",
      "242:\tlearn: 0.1912713\ttotal: 545ms\tremaining: 1.7s\n",
      "243:\tlearn: 0.1907748\ttotal: 547ms\tremaining: 1.69s\n",
      "244:\tlearn: 0.1905362\ttotal: 548ms\tremaining: 1.69s\n",
      "245:\tlearn: 0.1899723\ttotal: 550ms\tremaining: 1.69s\n",
      "246:\tlearn: 0.1895692\ttotal: 552ms\tremaining: 1.68s\n",
      "247:\tlearn: 0.1891417\ttotal: 554ms\tremaining: 1.68s\n",
      "248:\tlearn: 0.1886743\ttotal: 555ms\tremaining: 1.67s\n",
      "249:\tlearn: 0.1881226\ttotal: 557ms\tremaining: 1.67s\n",
      "250:\tlearn: 0.1878935\ttotal: 558ms\tremaining: 1.67s\n",
      "251:\tlearn: 0.1874488\ttotal: 560ms\tremaining: 1.66s\n",
      "252:\tlearn: 0.1872113\ttotal: 562ms\tremaining: 1.66s\n",
      "253:\tlearn: 0.1866901\ttotal: 564ms\tremaining: 1.66s\n",
      "254:\tlearn: 0.1864686\ttotal: 566ms\tremaining: 1.65s\n",
      "255:\tlearn: 0.1859117\ttotal: 567ms\tremaining: 1.65s\n",
      "256:\tlearn: 0.1856703\ttotal: 569ms\tremaining: 1.64s\n",
      "257:\tlearn: 0.1854789\ttotal: 570ms\tremaining: 1.64s\n",
      "258:\tlearn: 0.1850281\ttotal: 573ms\tremaining: 1.64s\n",
      "259:\tlearn: 0.1846079\ttotal: 576ms\tremaining: 1.64s\n",
      "260:\tlearn: 0.1841931\ttotal: 578ms\tremaining: 1.64s\n"
     ]
    },
    {
     "name": "stdout",
     "output_type": "stream",
     "text": [
      "261:\tlearn: 0.1835817\ttotal: 584ms\tremaining: 1.64s\n",
      "262:\tlearn: 0.1831283\ttotal: 587ms\tremaining: 1.64s\n",
      "263:\tlearn: 0.1828189\ttotal: 592ms\tremaining: 1.65s\n",
      "264:\tlearn: 0.1821781\ttotal: 595ms\tremaining: 1.65s\n",
      "265:\tlearn: 0.1816377\ttotal: 596ms\tremaining: 1.64s\n",
      "266:\tlearn: 0.1811902\ttotal: 597ms\tremaining: 1.64s\n",
      "267:\tlearn: 0.1808032\ttotal: 599ms\tremaining: 1.64s\n",
      "268:\tlearn: 0.1805574\ttotal: 602ms\tremaining: 1.63s\n",
      "269:\tlearn: 0.1799165\ttotal: 604ms\tremaining: 1.63s\n",
      "270:\tlearn: 0.1794140\ttotal: 607ms\tremaining: 1.63s\n",
      "271:\tlearn: 0.1790193\ttotal: 611ms\tremaining: 1.64s\n"
     ]
    },
    {
     "name": "stdout",
     "output_type": "stream",
     "text": [
      "272:\tlearn: 0.1787259\ttotal: 619ms\tremaining: 1.65s\n",
      "273:\tlearn: 0.1780679\ttotal: 622ms\tremaining: 1.65s\n"
     ]
    },
    {
     "name": "stdout",
     "output_type": "stream",
     "text": [
      "274:\tlearn: 0.1774426\ttotal: 630ms\tremaining: 1.66s\n",
      "275:\tlearn: 0.1769421\ttotal: 631ms\tremaining: 1.66s\n",
      "276:\tlearn: 0.1761743\ttotal: 638ms\tremaining: 1.67s\n",
      "277:\tlearn: 0.1757260\ttotal: 642ms\tremaining: 1.67s\n",
      "278:\tlearn: 0.1752917\ttotal: 644ms\tremaining: 1.66s\n",
      "279:\tlearn: 0.1748411\ttotal: 645ms\tremaining: 1.66s\n",
      "280:\tlearn: 0.1743221\ttotal: 648ms\tremaining: 1.66s\n",
      "281:\tlearn: 0.1739926\ttotal: 650ms\tremaining: 1.65s\n",
      "282:\tlearn: 0.1735914\ttotal: 651ms\tremaining: 1.65s\n",
      "283:\tlearn: 0.1731970\ttotal: 653ms\tremaining: 1.65s\n",
      "284:\tlearn: 0.1726528\ttotal: 659ms\tremaining: 1.65s\n",
      "285:\tlearn: 0.1720629\ttotal: 665ms\tremaining: 1.66s\n",
      "286:\tlearn: 0.1715073\ttotal: 666ms\tremaining: 1.66s\n",
      "287:\tlearn: 0.1710965\ttotal: 669ms\tremaining: 1.65s\n",
      "288:\tlearn: 0.1707241\ttotal: 673ms\tremaining: 1.66s\n",
      "289:\tlearn: 0.1703460\ttotal: 677ms\tremaining: 1.66s\n",
      "290:\tlearn: 0.1698946\ttotal: 678ms\tremaining: 1.65s\n",
      "291:\tlearn: 0.1696067\ttotal: 681ms\tremaining: 1.65s\n",
      "292:\tlearn: 0.1690816\ttotal: 683ms\tremaining: 1.65s\n",
      "293:\tlearn: 0.1685495\ttotal: 685ms\tremaining: 1.64s\n",
      "294:\tlearn: 0.1679997\ttotal: 686ms\tremaining: 1.64s\n",
      "295:\tlearn: 0.1674687\ttotal: 688ms\tremaining: 1.64s\n",
      "296:\tlearn: 0.1670135\ttotal: 689ms\tremaining: 1.63s\n",
      "297:\tlearn: 0.1666287\ttotal: 691ms\tremaining: 1.63s\n",
      "298:\tlearn: 0.1664976\ttotal: 693ms\tremaining: 1.62s\n"
     ]
    },
    {
     "name": "stdout",
     "output_type": "stream",
     "text": [
      "299:\tlearn: 0.1661610\ttotal: 694ms\tremaining: 1.62s\n",
      "300:\tlearn: 0.1656284\ttotal: 698ms\tremaining: 1.62s\n",
      "301:\tlearn: 0.1654591\ttotal: 700ms\tremaining: 1.62s\n",
      "302:\tlearn: 0.1651119\ttotal: 701ms\tremaining: 1.61s\n",
      "303:\tlearn: 0.1646607\ttotal: 703ms\tremaining: 1.61s\n",
      "304:\tlearn: 0.1645466\ttotal: 704ms\tremaining: 1.6s\n",
      "305:\tlearn: 0.1640982\ttotal: 706ms\tremaining: 1.6s\n",
      "306:\tlearn: 0.1636582\ttotal: 707ms\tremaining: 1.6s\n",
      "307:\tlearn: 0.1633040\ttotal: 709ms\tremaining: 1.59s\n",
      "308:\tlearn: 0.1628700\ttotal: 710ms\tremaining: 1.59s\n",
      "309:\tlearn: 0.1623618\ttotal: 712ms\tremaining: 1.58s\n",
      "310:\tlearn: 0.1621945\ttotal: 714ms\tremaining: 1.58s\n",
      "311:\tlearn: 0.1617452\ttotal: 715ms\tremaining: 1.58s\n",
      "312:\tlearn: 0.1613083\ttotal: 717ms\tremaining: 1.57s\n",
      "313:\tlearn: 0.1609633\ttotal: 718ms\tremaining: 1.57s\n",
      "314:\tlearn: 0.1605988\ttotal: 720ms\tremaining: 1.56s\n",
      "315:\tlearn: 0.1600604\ttotal: 721ms\tremaining: 1.56s\n",
      "316:\tlearn: 0.1595639\ttotal: 723ms\tremaining: 1.56s\n",
      "317:\tlearn: 0.1592349\ttotal: 724ms\tremaining: 1.55s\n",
      "318:\tlearn: 0.1589700\ttotal: 726ms\tremaining: 1.55s\n",
      "319:\tlearn: 0.1585451\ttotal: 727ms\tremaining: 1.54s\n",
      "320:\tlearn: 0.1581719\ttotal: 730ms\tremaining: 1.54s\n",
      "321:\tlearn: 0.1579030\ttotal: 731ms\tremaining: 1.54s\n",
      "322:\tlearn: 0.1574673\ttotal: 733ms\tremaining: 1.53s\n",
      "323:\tlearn: 0.1570171\ttotal: 734ms\tremaining: 1.53s\n",
      "324:\tlearn: 0.1566471\ttotal: 735ms\tremaining: 1.53s\n",
      "325:\tlearn: 0.1563388\ttotal: 737ms\tremaining: 1.52s\n",
      "326:\tlearn: 0.1560551\ttotal: 738ms\tremaining: 1.52s\n",
      "327:\tlearn: 0.1558675\ttotal: 740ms\tremaining: 1.51s\n",
      "328:\tlearn: 0.1553765\ttotal: 742ms\tremaining: 1.51s\n",
      "329:\tlearn: 0.1552312\ttotal: 744ms\tremaining: 1.51s\n",
      "330:\tlearn: 0.1548076\ttotal: 745ms\tremaining: 1.51s\n",
      "331:\tlearn: 0.1544758\ttotal: 747ms\tremaining: 1.5s\n",
      "332:\tlearn: 0.1542432\ttotal: 748ms\tremaining: 1.5s\n",
      "333:\tlearn: 0.1540557\ttotal: 749ms\tremaining: 1.49s\n",
      "334:\tlearn: 0.1537684\ttotal: 750ms\tremaining: 1.49s\n",
      "335:\tlearn: 0.1536268\ttotal: 752ms\tremaining: 1.49s\n",
      "336:\tlearn: 0.1531385\ttotal: 753ms\tremaining: 1.48s\n",
      "337:\tlearn: 0.1527491\ttotal: 755ms\tremaining: 1.48s\n",
      "338:\tlearn: 0.1524457\ttotal: 757ms\tremaining: 1.48s\n",
      "339:\tlearn: 0.1519227\ttotal: 758ms\tremaining: 1.47s\n",
      "340:\tlearn: 0.1513706\ttotal: 760ms\tremaining: 1.47s\n",
      "341:\tlearn: 0.1510770\ttotal: 761ms\tremaining: 1.46s\n",
      "342:\tlearn: 0.1507710\ttotal: 763ms\tremaining: 1.46s\n",
      "343:\tlearn: 0.1505645\ttotal: 766ms\tremaining: 1.46s\n",
      "344:\tlearn: 0.1504455\ttotal: 776ms\tremaining: 1.47s\n",
      "345:\tlearn: 0.1503194\ttotal: 778ms\tremaining: 1.47s\n",
      "346:\tlearn: 0.1500259\ttotal: 779ms\tremaining: 1.47s\n",
      "347:\tlearn: 0.1497460\ttotal: 781ms\tremaining: 1.46s\n",
      "348:\tlearn: 0.1492592\ttotal: 782ms\tremaining: 1.46s\n",
      "349:\tlearn: 0.1489055\ttotal: 784ms\tremaining: 1.46s\n",
      "350:\tlearn: 0.1485207\ttotal: 785ms\tremaining: 1.45s\n",
      "351:\tlearn: 0.1484596\ttotal: 788ms\tremaining: 1.45s\n",
      "352:\tlearn: 0.1481691\ttotal: 790ms\tremaining: 1.45s\n",
      "353:\tlearn: 0.1478827\ttotal: 791ms\tremaining: 1.44s\n",
      "354:\tlearn: 0.1475953\ttotal: 792ms\tremaining: 1.44s\n",
      "355:\tlearn: 0.1472802\ttotal: 794ms\tremaining: 1.44s\n",
      "356:\tlearn: 0.1469029\ttotal: 795ms\tremaining: 1.43s\n"
     ]
    },
    {
     "name": "stdout",
     "output_type": "stream",
     "text": [
      "357:\tlearn: 0.1464431\ttotal: 797ms\tremaining: 1.43s\n",
      "358:\tlearn: 0.1459740\ttotal: 799ms\tremaining: 1.43s\n",
      "359:\tlearn: 0.1456194\ttotal: 802ms\tremaining: 1.43s\n",
      "360:\tlearn: 0.1453095\ttotal: 804ms\tremaining: 1.42s\n",
      "361:\tlearn: 0.1449278\ttotal: 806ms\tremaining: 1.42s\n"
     ]
    },
    {
     "name": "stdout",
     "output_type": "stream",
     "text": [
      "362:\tlearn: 0.1444610\ttotal: 807ms\tremaining: 1.42s\n",
      "363:\tlearn: 0.1441652\ttotal: 819ms\tremaining: 1.43s\n",
      "364:\tlearn: 0.1439175\ttotal: 821ms\tremaining: 1.43s\n",
      "365:\tlearn: 0.1436074\ttotal: 823ms\tremaining: 1.43s\n",
      "366:\tlearn: 0.1432568\ttotal: 825ms\tremaining: 1.42s\n",
      "367:\tlearn: 0.1429627\ttotal: 827ms\tremaining: 1.42s\n",
      "368:\tlearn: 0.1427666\ttotal: 832ms\tremaining: 1.42s\n",
      "369:\tlearn: 0.1425499\ttotal: 834ms\tremaining: 1.42s\n",
      "370:\tlearn: 0.1422693\ttotal: 836ms\tremaining: 1.42s\n",
      "371:\tlearn: 0.1419812\ttotal: 838ms\tremaining: 1.41s\n",
      "372:\tlearn: 0.1416885\ttotal: 840ms\tremaining: 1.41s\n",
      "373:\tlearn: 0.1413873\ttotal: 841ms\tremaining: 1.41s\n",
      "374:\tlearn: 0.1409559\ttotal: 844ms\tremaining: 1.41s\n",
      "375:\tlearn: 0.1405940\ttotal: 847ms\tremaining: 1.41s\n",
      "376:\tlearn: 0.1405043\ttotal: 849ms\tremaining: 1.4s\n",
      "377:\tlearn: 0.1401566\ttotal: 851ms\tremaining: 1.4s\n",
      "378:\tlearn: 0.1399067\ttotal: 852ms\tremaining: 1.4s\n",
      "379:\tlearn: 0.1397705\ttotal: 855ms\tremaining: 1.39s\n",
      "380:\tlearn: 0.1395942\ttotal: 859ms\tremaining: 1.4s\n"
     ]
    },
    {
     "name": "stdout",
     "output_type": "stream",
     "text": [
      "381:\tlearn: 0.1393627\ttotal: 861ms\tremaining: 1.39s\n",
      "382:\tlearn: 0.1391861\ttotal: 863ms\tremaining: 1.39s\n",
      "383:\tlearn: 0.1389599\ttotal: 865ms\tremaining: 1.39s\n",
      "384:\tlearn: 0.1386949\ttotal: 867ms\tremaining: 1.39s\n",
      "385:\tlearn: 0.1383096\ttotal: 870ms\tremaining: 1.38s\n",
      "386:\tlearn: 0.1379742\ttotal: 872ms\tremaining: 1.38s\n",
      "387:\tlearn: 0.1377736\ttotal: 874ms\tremaining: 1.38s\n",
      "388:\tlearn: 0.1375253\ttotal: 876ms\tremaining: 1.38s\n",
      "389:\tlearn: 0.1373722\ttotal: 879ms\tremaining: 1.38s\n",
      "390:\tlearn: 0.1372626\ttotal: 886ms\tremaining: 1.38s\n",
      "391:\tlearn: 0.1369756\ttotal: 888ms\tremaining: 1.38s\n",
      "392:\tlearn: 0.1367743\ttotal: 889ms\tremaining: 1.37s\n",
      "393:\tlearn: 0.1365429\ttotal: 891ms\tremaining: 1.37s\n",
      "394:\tlearn: 0.1364453\ttotal: 892ms\tremaining: 1.37s\n",
      "395:\tlearn: 0.1360842\ttotal: 894ms\tremaining: 1.36s\n",
      "396:\tlearn: 0.1358949\ttotal: 895ms\tremaining: 1.36s\n",
      "397:\tlearn: 0.1357099\ttotal: 896ms\tremaining: 1.35s\n",
      "398:\tlearn: 0.1356147\ttotal: 899ms\tremaining: 1.35s\n",
      "399:\tlearn: 0.1353100\ttotal: 901ms\tremaining: 1.35s\n",
      "400:\tlearn: 0.1352196\ttotal: 902ms\tremaining: 1.35s\n",
      "401:\tlearn: 0.1349620\ttotal: 904ms\tremaining: 1.34s\n",
      "402:\tlearn: 0.1347115\ttotal: 905ms\tremaining: 1.34s\n",
      "403:\tlearn: 0.1344033\ttotal: 907ms\tremaining: 1.34s\n",
      "404:\tlearn: 0.1342213\ttotal: 908ms\tremaining: 1.33s\n",
      "405:\tlearn: 0.1339089\ttotal: 910ms\tremaining: 1.33s\n",
      "406:\tlearn: 0.1338105\ttotal: 912ms\tremaining: 1.33s\n",
      "407:\tlearn: 0.1335292\ttotal: 913ms\tremaining: 1.32s\n",
      "408:\tlearn: 0.1332031\ttotal: 915ms\tremaining: 1.32s\n",
      "409:\tlearn: 0.1328006\ttotal: 917ms\tremaining: 1.32s\n",
      "410:\tlearn: 0.1327234\ttotal: 918ms\tremaining: 1.31s\n",
      "411:\tlearn: 0.1324631\ttotal: 920ms\tremaining: 1.31s\n",
      "412:\tlearn: 0.1322253\ttotal: 921ms\tremaining: 1.31s\n",
      "413:\tlearn: 0.1318353\ttotal: 923ms\tremaining: 1.31s\n",
      "414:\tlearn: 0.1314427\ttotal: 924ms\tremaining: 1.3s\n",
      "415:\tlearn: 0.1312892\ttotal: 926ms\tremaining: 1.3s\n",
      "416:\tlearn: 0.1309332\ttotal: 928ms\tremaining: 1.3s\n",
      "417:\tlearn: 0.1307569\ttotal: 930ms\tremaining: 1.29s\n",
      "418:\tlearn: 0.1305991\ttotal: 931ms\tremaining: 1.29s\n",
      "419:\tlearn: 0.1302151\ttotal: 933ms\tremaining: 1.29s\n",
      "420:\tlearn: 0.1300216\ttotal: 934ms\tremaining: 1.28s\n",
      "421:\tlearn: 0.1297784\ttotal: 935ms\tremaining: 1.28s\n",
      "422:\tlearn: 0.1295580\ttotal: 937ms\tremaining: 1.28s\n",
      "423:\tlearn: 0.1290797\ttotal: 938ms\tremaining: 1.27s\n",
      "424:\tlearn: 0.1288592\ttotal: 939ms\tremaining: 1.27s\n",
      "425:\tlearn: 0.1286256\ttotal: 941ms\tremaining: 1.27s\n",
      "426:\tlearn: 0.1283593\ttotal: 943ms\tremaining: 1.26s\n",
      "427:\tlearn: 0.1281649\ttotal: 945ms\tremaining: 1.26s\n",
      "428:\tlearn: 0.1277875\ttotal: 946ms\tremaining: 1.26s\n",
      "429:\tlearn: 0.1275438\ttotal: 947ms\tremaining: 1.25s\n",
      "430:\tlearn: 0.1273486\ttotal: 950ms\tremaining: 1.25s\n",
      "431:\tlearn: 0.1271190\ttotal: 951ms\tremaining: 1.25s\n"
     ]
    },
    {
     "name": "stdout",
     "output_type": "stream",
     "text": [
      "432:\tlearn: 0.1267834\ttotal: 953ms\tremaining: 1.25s\n",
      "433:\tlearn: 0.1265707\ttotal: 955ms\tremaining: 1.24s\n",
      "434:\tlearn: 0.1263187\ttotal: 957ms\tremaining: 1.24s\n",
      "435:\tlearn: 0.1260867\ttotal: 958ms\tremaining: 1.24s\n",
      "436:\tlearn: 0.1259833\ttotal: 960ms\tremaining: 1.24s\n",
      "437:\tlearn: 0.1257057\ttotal: 961ms\tremaining: 1.23s\n",
      "438:\tlearn: 0.1254715\ttotal: 963ms\tremaining: 1.23s\n"
     ]
    },
    {
     "name": "stdout",
     "output_type": "stream",
     "text": [
      "439:\tlearn: 0.1252617\ttotal: 965ms\tremaining: 1.23s\n",
      "440:\tlearn: 0.1249974\ttotal: 967ms\tremaining: 1.23s\n",
      "441:\tlearn: 0.1245996\ttotal: 968ms\tremaining: 1.22s\n",
      "442:\tlearn: 0.1245474\ttotal: 970ms\tremaining: 1.22s\n",
      "443:\tlearn: 0.1243107\ttotal: 972ms\tremaining: 1.22s\n",
      "444:\tlearn: 0.1242130\ttotal: 974ms\tremaining: 1.21s\n",
      "445:\tlearn: 0.1238771\ttotal: 975ms\tremaining: 1.21s\n",
      "446:\tlearn: 0.1236085\ttotal: 977ms\tremaining: 1.21s\n",
      "447:\tlearn: 0.1235604\ttotal: 978ms\tremaining: 1.21s\n",
      "448:\tlearn: 0.1233769\ttotal: 980ms\tremaining: 1.2s\n",
      "449:\tlearn: 0.1231277\ttotal: 981ms\tremaining: 1.2s\n",
      "450:\tlearn: 0.1229038\ttotal: 983ms\tremaining: 1.2s\n",
      "451:\tlearn: 0.1226018\ttotal: 984ms\tremaining: 1.19s\n",
      "452:\tlearn: 0.1223486\ttotal: 991ms\tremaining: 1.2s\n",
      "453:\tlearn: 0.1220995\ttotal: 992ms\tremaining: 1.19s\n",
      "454:\tlearn: 0.1218308\ttotal: 994ms\tremaining: 1.19s\n",
      "455:\tlearn: 0.1216824\ttotal: 995ms\tremaining: 1.19s\n",
      "456:\tlearn: 0.1213735\ttotal: 996ms\tremaining: 1.18s\n",
      "457:\tlearn: 0.1212554\ttotal: 998ms\tremaining: 1.18s\n",
      "458:\tlearn: 0.1211519\ttotal: 1000ms\tremaining: 1.18s\n",
      "459:\tlearn: 0.1210788\ttotal: 1s\tremaining: 1.18s\n",
      "460:\tlearn: 0.1209069\ttotal: 1s\tremaining: 1.17s\n",
      "461:\tlearn: 0.1207469\ttotal: 1s\tremaining: 1.17s\n",
      "462:\tlearn: 0.1205538\ttotal: 1s\tremaining: 1.17s\n",
      "463:\tlearn: 0.1205120\ttotal: 1.01s\tremaining: 1.16s\n",
      "464:\tlearn: 0.1204648\ttotal: 1.01s\tremaining: 1.16s\n",
      "465:\tlearn: 0.1202662\ttotal: 1.01s\tremaining: 1.16s\n",
      "466:\tlearn: 0.1199411\ttotal: 1.01s\tremaining: 1.15s\n",
      "467:\tlearn: 0.1197425\ttotal: 1.01s\tremaining: 1.15s\n",
      "468:\tlearn: 0.1195767\ttotal: 1.01s\tremaining: 1.15s\n",
      "469:\tlearn: 0.1194140\ttotal: 1.02s\tremaining: 1.15s\n",
      "470:\tlearn: 0.1193613\ttotal: 1.02s\tremaining: 1.14s\n",
      "471:\tlearn: 0.1191476\ttotal: 1.02s\tremaining: 1.14s\n",
      "472:\tlearn: 0.1188190\ttotal: 1.02s\tremaining: 1.14s\n",
      "473:\tlearn: 0.1185083\ttotal: 1.02s\tremaining: 1.14s\n",
      "474:\tlearn: 0.1182388\ttotal: 1.02s\tremaining: 1.13s\n",
      "475:\tlearn: 0.1180972\ttotal: 1.02s\tremaining: 1.13s\n",
      "476:\tlearn: 0.1179525\ttotal: 1.03s\tremaining: 1.13s\n",
      "477:\tlearn: 0.1177995\ttotal: 1.03s\tremaining: 1.13s\n",
      "478:\tlearn: 0.1175313\ttotal: 1.03s\tremaining: 1.12s\n",
      "479:\tlearn: 0.1172733\ttotal: 1.03s\tremaining: 1.12s\n",
      "480:\tlearn: 0.1170777\ttotal: 1.03s\tremaining: 1.12s\n",
      "481:\tlearn: 0.1168721\ttotal: 1.04s\tremaining: 1.11s\n"
     ]
    },
    {
     "name": "stdout",
     "output_type": "stream",
     "text": [
      "482:\tlearn: 0.1166702\ttotal: 1.04s\tremaining: 1.11s\n",
      "483:\tlearn: 0.1163030\ttotal: 1.04s\tremaining: 1.11s\n",
      "484:\tlearn: 0.1160748\ttotal: 1.04s\tremaining: 1.11s\n",
      "485:\tlearn: 0.1158735\ttotal: 1.04s\tremaining: 1.1s\n",
      "486:\tlearn: 0.1157596\ttotal: 1.05s\tremaining: 1.1s\n",
      "487:\tlearn: 0.1155722\ttotal: 1.05s\tremaining: 1.1s\n",
      "488:\tlearn: 0.1152800\ttotal: 1.05s\tremaining: 1.1s\n",
      "489:\tlearn: 0.1150285\ttotal: 1.05s\tremaining: 1.09s\n",
      "490:\tlearn: 0.1148418\ttotal: 1.05s\tremaining: 1.09s\n",
      "491:\tlearn: 0.1145364\ttotal: 1.05s\tremaining: 1.09s\n",
      "492:\tlearn: 0.1142981\ttotal: 1.05s\tremaining: 1.08s\n",
      "493:\tlearn: 0.1140823\ttotal: 1.06s\tremaining: 1.08s\n",
      "494:\tlearn: 0.1139474\ttotal: 1.06s\tremaining: 1.08s\n",
      "495:\tlearn: 0.1136139\ttotal: 1.06s\tremaining: 1.08s\n",
      "496:\tlearn: 0.1133303\ttotal: 1.06s\tremaining: 1.07s\n",
      "497:\tlearn: 0.1132982\ttotal: 1.06s\tremaining: 1.07s\n",
      "498:\tlearn: 0.1130684\ttotal: 1.06s\tremaining: 1.07s\n",
      "499:\tlearn: 0.1129572\ttotal: 1.07s\tremaining: 1.07s\n",
      "500:\tlearn: 0.1126957\ttotal: 1.07s\tremaining: 1.06s\n",
      "501:\tlearn: 0.1125164\ttotal: 1.07s\tremaining: 1.06s\n",
      "502:\tlearn: 0.1123181\ttotal: 1.07s\tremaining: 1.06s\n",
      "503:\tlearn: 0.1121295\ttotal: 1.07s\tremaining: 1.06s\n",
      "504:\tlearn: 0.1118947\ttotal: 1.07s\tremaining: 1.05s\n",
      "505:\tlearn: 0.1116361\ttotal: 1.08s\tremaining: 1.05s\n",
      "506:\tlearn: 0.1113933\ttotal: 1.08s\tremaining: 1.05s\n",
      "507:\tlearn: 0.1112042\ttotal: 1.08s\tremaining: 1.05s\n",
      "508:\tlearn: 0.1110140\ttotal: 1.08s\tremaining: 1.04s\n",
      "509:\tlearn: 0.1109345\ttotal: 1.09s\tremaining: 1.04s\n",
      "510:\tlearn: 0.1106681\ttotal: 1.09s\tremaining: 1.04s\n",
      "511:\tlearn: 0.1104208\ttotal: 1.09s\tremaining: 1.04s\n",
      "512:\tlearn: 0.1102677\ttotal: 1.09s\tremaining: 1.04s\n",
      "513:\tlearn: 0.1100187\ttotal: 1.09s\tremaining: 1.03s\n",
      "514:\tlearn: 0.1097583\ttotal: 1.09s\tremaining: 1.03s\n",
      "515:\tlearn: 0.1096051\ttotal: 1.1s\tremaining: 1.03s\n",
      "516:\tlearn: 0.1092626\ttotal: 1.1s\tremaining: 1.03s\n",
      "517:\tlearn: 0.1089871\ttotal: 1.1s\tremaining: 1.02s\n",
      "518:\tlearn: 0.1086265\ttotal: 1.1s\tremaining: 1.02s\n",
      "519:\tlearn: 0.1084183\ttotal: 1.1s\tremaining: 1.02s\n",
      "520:\tlearn: 0.1082921\ttotal: 1.1s\tremaining: 1.02s\n",
      "521:\tlearn: 0.1082428\ttotal: 1.11s\tremaining: 1.01s\n",
      "522:\tlearn: 0.1079512\ttotal: 1.11s\tremaining: 1.01s\n",
      "523:\tlearn: 0.1078729\ttotal: 1.11s\tremaining: 1.01s\n",
      "524:\tlearn: 0.1076963\ttotal: 1.11s\tremaining: 1s\n",
      "525:\tlearn: 0.1075179\ttotal: 1.11s\tremaining: 1s\n",
      "526:\tlearn: 0.1073418\ttotal: 1.11s\tremaining: 1s\n",
      "527:\tlearn: 0.1071971\ttotal: 1.11s\tremaining: 997ms\n",
      "528:\tlearn: 0.1069289\ttotal: 1.12s\tremaining: 994ms\n",
      "529:\tlearn: 0.1066966\ttotal: 1.12s\tremaining: 992ms\n",
      "530:\tlearn: 0.1064441\ttotal: 1.12s\tremaining: 990ms\n",
      "531:\tlearn: 0.1063064\ttotal: 1.12s\tremaining: 987ms\n",
      "532:\tlearn: 0.1061002\ttotal: 1.12s\tremaining: 984ms\n",
      "533:\tlearn: 0.1059439\ttotal: 1.12s\tremaining: 982ms\n"
     ]
    },
    {
     "name": "stdout",
     "output_type": "stream",
     "text": [
      "534:\tlearn: 0.1057679\ttotal: 1.13s\tremaining: 980ms\n",
      "535:\tlearn: 0.1056145\ttotal: 1.13s\tremaining: 978ms\n",
      "536:\tlearn: 0.1053225\ttotal: 1.13s\tremaining: 975ms\n",
      "537:\tlearn: 0.1051730\ttotal: 1.13s\tremaining: 973ms\n",
      "538:\tlearn: 0.1049325\ttotal: 1.13s\tremaining: 970ms\n",
      "539:\tlearn: 0.1048117\ttotal: 1.14s\tremaining: 967ms\n",
      "540:\tlearn: 0.1045946\ttotal: 1.14s\tremaining: 965ms\n",
      "541:\tlearn: 0.1044029\ttotal: 1.14s\tremaining: 962ms\n"
     ]
    },
    {
     "name": "stdout",
     "output_type": "stream",
     "text": [
      "542:\tlearn: 0.1042968\ttotal: 1.14s\tremaining: 960ms\n",
      "543:\tlearn: 0.1041513\ttotal: 1.15s\tremaining: 961ms\n",
      "544:\tlearn: 0.1040611\ttotal: 1.15s\tremaining: 960ms\n",
      "545:\tlearn: 0.1039559\ttotal: 1.15s\tremaining: 957ms\n",
      "546:\tlearn: 0.1038281\ttotal: 1.15s\tremaining: 955ms\n",
      "547:\tlearn: 0.1036848\ttotal: 1.15s\tremaining: 952ms\n",
      "548:\tlearn: 0.1034619\ttotal: 1.16s\tremaining: 951ms\n",
      "549:\tlearn: 0.1033422\ttotal: 1.16s\tremaining: 950ms\n",
      "550:\tlearn: 0.1030901\ttotal: 1.16s\tremaining: 948ms\n",
      "551:\tlearn: 0.1028834\ttotal: 1.16s\tremaining: 945ms\n",
      "552:\tlearn: 0.1027044\ttotal: 1.17s\tremaining: 942ms\n",
      "553:\tlearn: 0.1024806\ttotal: 1.17s\tremaining: 941ms\n",
      "554:\tlearn: 0.1023640\ttotal: 1.17s\tremaining: 939ms\n",
      "555:\tlearn: 0.1022954\ttotal: 1.17s\tremaining: 937ms\n",
      "556:\tlearn: 0.1020963\ttotal: 1.18s\tremaining: 936ms\n",
      "557:\tlearn: 0.1020677\ttotal: 1.18s\tremaining: 934ms\n",
      "558:\tlearn: 0.1019033\ttotal: 1.18s\tremaining: 931ms\n",
      "559:\tlearn: 0.1018491\ttotal: 1.18s\tremaining: 930ms\n",
      "560:\tlearn: 0.1016402\ttotal: 1.19s\tremaining: 928ms\n",
      "561:\tlearn: 0.1014559\ttotal: 1.19s\tremaining: 928ms\n",
      "562:\tlearn: 0.1012579\ttotal: 1.19s\tremaining: 925ms\n",
      "563:\tlearn: 0.1010971\ttotal: 1.19s\tremaining: 923ms\n",
      "564:\tlearn: 0.1010004\ttotal: 1.2s\tremaining: 920ms\n",
      "565:\tlearn: 0.1007760\ttotal: 1.2s\tremaining: 919ms\n",
      "566:\tlearn: 0.1005925\ttotal: 1.2s\tremaining: 916ms\n",
      "567:\tlearn: 0.1004849\ttotal: 1.2s\tremaining: 915ms\n",
      "568:\tlearn: 0.1002750\ttotal: 1.21s\tremaining: 913ms\n",
      "569:\tlearn: 0.1000977\ttotal: 1.21s\tremaining: 910ms\n",
      "570:\tlearn: 0.0999409\ttotal: 1.21s\tremaining: 908ms\n",
      "571:\tlearn: 0.0998092\ttotal: 1.21s\tremaining: 907ms\n"
     ]
    },
    {
     "name": "stdout",
     "output_type": "stream",
     "text": [
      "572:\tlearn: 0.0996590\ttotal: 1.21s\tremaining: 905ms\n",
      "573:\tlearn: 0.0995407\ttotal: 1.22s\tremaining: 905ms\n",
      "574:\tlearn: 0.0993753\ttotal: 1.22s\tremaining: 902ms\n",
      "575:\tlearn: 0.0992554\ttotal: 1.22s\tremaining: 900ms\n",
      "576:\tlearn: 0.0990003\ttotal: 1.23s\tremaining: 898ms\n",
      "577:\tlearn: 0.0988336\ttotal: 1.23s\tremaining: 896ms\n",
      "578:\tlearn: 0.0986042\ttotal: 1.23s\tremaining: 897ms\n",
      "579:\tlearn: 0.0985795\ttotal: 1.24s\tremaining: 895ms\n",
      "580:\tlearn: 0.0983511\ttotal: 1.24s\tremaining: 893ms\n",
      "581:\tlearn: 0.0980960\ttotal: 1.24s\tremaining: 891ms\n",
      "582:\tlearn: 0.0979018\ttotal: 1.24s\tremaining: 889ms\n",
      "583:\tlearn: 0.0976255\ttotal: 1.24s\tremaining: 886ms\n",
      "584:\tlearn: 0.0974530\ttotal: 1.25s\tremaining: 885ms\n",
      "585:\tlearn: 0.0972363\ttotal: 1.25s\tremaining: 883ms\n",
      "586:\tlearn: 0.0970187\ttotal: 1.25s\tremaining: 881ms\n",
      "587:\tlearn: 0.0969612\ttotal: 1.25s\tremaining: 879ms\n",
      "588:\tlearn: 0.0968941\ttotal: 1.25s\tremaining: 876ms\n",
      "589:\tlearn: 0.0966383\ttotal: 1.26s\tremaining: 874ms\n",
      "590:\tlearn: 0.0965097\ttotal: 1.26s\tremaining: 872ms\n",
      "591:\tlearn: 0.0964804\ttotal: 1.26s\tremaining: 870ms\n",
      "592:\tlearn: 0.0963860\ttotal: 1.26s\tremaining: 868ms\n",
      "593:\tlearn: 0.0961653\ttotal: 1.27s\tremaining: 866ms\n",
      "594:\tlearn: 0.0961056\ttotal: 1.27s\tremaining: 863ms\n",
      "595:\tlearn: 0.0959239\ttotal: 1.27s\tremaining: 861ms\n",
      "596:\tlearn: 0.0956990\ttotal: 1.27s\tremaining: 859ms\n",
      "597:\tlearn: 0.0955935\ttotal: 1.27s\tremaining: 857ms\n",
      "598:\tlearn: 0.0953382\ttotal: 1.28s\tremaining: 855ms\n",
      "599:\tlearn: 0.0951984\ttotal: 1.28s\tremaining: 852ms\n",
      "600:\tlearn: 0.0950875\ttotal: 1.28s\tremaining: 850ms\n",
      "601:\tlearn: 0.0949009\ttotal: 1.28s\tremaining: 849ms\n",
      "602:\tlearn: 0.0948626\ttotal: 1.28s\tremaining: 846ms\n",
      "603:\tlearn: 0.0946028\ttotal: 1.29s\tremaining: 844ms\n",
      "604:\tlearn: 0.0944985\ttotal: 1.29s\tremaining: 842ms\n",
      "605:\tlearn: 0.0943235\ttotal: 1.29s\tremaining: 840ms\n",
      "606:\tlearn: 0.0941850\ttotal: 1.29s\tremaining: 837ms\n"
     ]
    },
    {
     "name": "stdout",
     "output_type": "stream",
     "text": [
      "607:\tlearn: 0.0940622\ttotal: 1.29s\tremaining: 835ms\n",
      "608:\tlearn: 0.0937903\ttotal: 1.3s\tremaining: 834ms\n",
      "609:\tlearn: 0.0935108\ttotal: 1.3s\tremaining: 833ms\n",
      "610:\tlearn: 0.0933011\ttotal: 1.3s\tremaining: 831ms\n",
      "611:\tlearn: 0.0931827\ttotal: 1.31s\tremaining: 828ms\n"
     ]
    },
    {
     "name": "stdout",
     "output_type": "stream",
     "text": [
      "612:\tlearn: 0.0931600\ttotal: 1.31s\tremaining: 830ms\n",
      "613:\tlearn: 0.0931292\ttotal: 1.32s\tremaining: 830ms\n",
      "614:\tlearn: 0.0930319\ttotal: 1.33s\tremaining: 830ms\n",
      "615:\tlearn: 0.0928711\ttotal: 1.33s\tremaining: 830ms\n",
      "616:\tlearn: 0.0927627\ttotal: 1.33s\tremaining: 828ms\n",
      "617:\tlearn: 0.0926222\ttotal: 1.34s\tremaining: 827ms\n",
      "618:\tlearn: 0.0924452\ttotal: 1.34s\tremaining: 826ms\n",
      "619:\tlearn: 0.0922999\ttotal: 1.35s\tremaining: 825ms\n",
      "620:\tlearn: 0.0922533\ttotal: 1.35s\tremaining: 823ms\n",
      "621:\tlearn: 0.0921247\ttotal: 1.35s\tremaining: 823ms\n",
      "622:\tlearn: 0.0918961\ttotal: 1.36s\tremaining: 822ms\n",
      "623:\tlearn: 0.0917030\ttotal: 1.36s\tremaining: 821ms\n",
      "624:\tlearn: 0.0916117\ttotal: 1.36s\tremaining: 819ms\n",
      "625:\tlearn: 0.0914778\ttotal: 1.36s\tremaining: 816ms\n",
      "626:\tlearn: 0.0913479\ttotal: 1.37s\tremaining: 814ms\n",
      "627:\tlearn: 0.0911944\ttotal: 1.37s\tremaining: 812ms\n",
      "628:\tlearn: 0.0910426\ttotal: 1.37s\tremaining: 809ms\n",
      "629:\tlearn: 0.0908802\ttotal: 1.38s\tremaining: 808ms\n",
      "630:\tlearn: 0.0907771\ttotal: 1.38s\tremaining: 805ms\n",
      "631:\tlearn: 0.0907600\ttotal: 1.38s\tremaining: 803ms\n",
      "632:\tlearn: 0.0906689\ttotal: 1.38s\tremaining: 800ms\n"
     ]
    },
    {
     "name": "stdout",
     "output_type": "stream",
     "text": [
      "633:\tlearn: 0.0906519\ttotal: 1.39s\tremaining: 801ms\n",
      "634:\tlearn: 0.0904021\ttotal: 1.39s\tremaining: 802ms\n",
      "635:\tlearn: 0.0902620\ttotal: 1.4s\tremaining: 802ms\n",
      "636:\tlearn: 0.0901039\ttotal: 1.4s\tremaining: 800ms\n",
      "637:\tlearn: 0.0899877\ttotal: 1.41s\tremaining: 798ms\n",
      "638:\tlearn: 0.0897351\ttotal: 1.41s\tremaining: 796ms\n",
      "639:\tlearn: 0.0895394\ttotal: 1.41s\tremaining: 793ms\n",
      "640:\tlearn: 0.0895183\ttotal: 1.41s\tremaining: 791ms\n",
      "641:\tlearn: 0.0894126\ttotal: 1.41s\tremaining: 788ms\n",
      "642:\tlearn: 0.0892216\ttotal: 1.42s\tremaining: 787ms\n",
      "643:\tlearn: 0.0889992\ttotal: 1.42s\tremaining: 784ms\n",
      "644:\tlearn: 0.0888300\ttotal: 1.42s\tremaining: 782ms\n",
      "645:\tlearn: 0.0886657\ttotal: 1.42s\tremaining: 779ms\n",
      "646:\tlearn: 0.0885592\ttotal: 1.42s\tremaining: 777ms\n",
      "647:\tlearn: 0.0884871\ttotal: 1.43s\tremaining: 775ms\n",
      "648:\tlearn: 0.0882921\ttotal: 1.43s\tremaining: 772ms\n",
      "649:\tlearn: 0.0881574\ttotal: 1.43s\tremaining: 771ms\n",
      "650:\tlearn: 0.0879833\ttotal: 1.43s\tremaining: 769ms\n",
      "651:\tlearn: 0.0878990\ttotal: 1.44s\tremaining: 768ms\n",
      "652:\tlearn: 0.0877876\ttotal: 1.44s\tremaining: 766ms\n",
      "653:\tlearn: 0.0876454\ttotal: 1.44s\tremaining: 764ms\n",
      "654:\tlearn: 0.0874409\ttotal: 1.45s\tremaining: 762ms\n",
      "655:\tlearn: 0.0873763\ttotal: 1.45s\tremaining: 760ms\n",
      "656:\tlearn: 0.0871064\ttotal: 1.45s\tremaining: 757ms\n",
      "657:\tlearn: 0.0869804\ttotal: 1.45s\tremaining: 754ms\n",
      "658:\tlearn: 0.0868642\ttotal: 1.45s\tremaining: 753ms\n",
      "659:\tlearn: 0.0867435\ttotal: 1.46s\tremaining: 750ms\n",
      "660:\tlearn: 0.0866005\ttotal: 1.46s\tremaining: 747ms\n",
      "661:\tlearn: 0.0864642\ttotal: 1.46s\tremaining: 745ms\n",
      "662:\tlearn: 0.0863840\ttotal: 1.46s\tremaining: 743ms\n",
      "663:\tlearn: 0.0863214\ttotal: 1.46s\tremaining: 741ms\n",
      "664:\tlearn: 0.0861296\ttotal: 1.47s\tremaining: 738ms\n",
      "665:\tlearn: 0.0858709\ttotal: 1.47s\tremaining: 736ms\n",
      "666:\tlearn: 0.0857528\ttotal: 1.47s\tremaining: 734ms\n",
      "667:\tlearn: 0.0856248\ttotal: 1.47s\tremaining: 731ms\n",
      "668:\tlearn: 0.0854206\ttotal: 1.47s\tremaining: 728ms\n"
     ]
    },
    {
     "name": "stdout",
     "output_type": "stream",
     "text": [
      "669:\tlearn: 0.0853349\ttotal: 1.48s\tremaining: 727ms\n",
      "670:\tlearn: 0.0852245\ttotal: 1.48s\tremaining: 725ms\n",
      "671:\tlearn: 0.0850051\ttotal: 1.48s\tremaining: 722ms\n",
      "672:\tlearn: 0.0849366\ttotal: 1.49s\tremaining: 722ms\n",
      "673:\tlearn: 0.0848230\ttotal: 1.49s\tremaining: 720ms\n",
      "674:\tlearn: 0.0847156\ttotal: 1.49s\tremaining: 719ms\n",
      "675:\tlearn: 0.0845525\ttotal: 1.49s\tremaining: 716ms\n"
     ]
    },
    {
     "name": "stdout",
     "output_type": "stream",
     "text": [
      "676:\tlearn: 0.0843684\ttotal: 1.5s\tremaining: 715ms\n",
      "677:\tlearn: 0.0842771\ttotal: 1.5s\tremaining: 712ms\n",
      "678:\tlearn: 0.0842106\ttotal: 1.5s\tremaining: 710ms\n",
      "679:\tlearn: 0.0841127\ttotal: 1.51s\tremaining: 709ms\n",
      "680:\tlearn: 0.0840897\ttotal: 1.51s\tremaining: 706ms\n",
      "681:\tlearn: 0.0840232\ttotal: 1.51s\tremaining: 704ms\n",
      "682:\tlearn: 0.0839160\ttotal: 1.51s\tremaining: 702ms\n",
      "683:\tlearn: 0.0837905\ttotal: 1.51s\tremaining: 699ms\n",
      "684:\tlearn: 0.0837188\ttotal: 1.51s\tremaining: 697ms\n",
      "685:\tlearn: 0.0836008\ttotal: 1.52s\tremaining: 694ms\n",
      "686:\tlearn: 0.0834643\ttotal: 1.52s\tremaining: 693ms\n",
      "687:\tlearn: 0.0832861\ttotal: 1.52s\tremaining: 690ms\n",
      "688:\tlearn: 0.0832117\ttotal: 1.52s\tremaining: 688ms\n",
      "689:\tlearn: 0.0831030\ttotal: 1.53s\tremaining: 686ms\n",
      "690:\tlearn: 0.0829823\ttotal: 1.53s\tremaining: 683ms\n",
      "691:\tlearn: 0.0828573\ttotal: 1.53s\tremaining: 681ms\n",
      "692:\tlearn: 0.0827990\ttotal: 1.53s\tremaining: 678ms\n",
      "693:\tlearn: 0.0826571\ttotal: 1.53s\tremaining: 676ms\n",
      "694:\tlearn: 0.0825001\ttotal: 1.53s\tremaining: 674ms\n",
      "695:\tlearn: 0.0822988\ttotal: 1.54s\tremaining: 672ms\n",
      "696:\tlearn: 0.0821729\ttotal: 1.54s\tremaining: 669ms\n",
      "697:\tlearn: 0.0821162\ttotal: 1.54s\tremaining: 667ms\n",
      "698:\tlearn: 0.0820381\ttotal: 1.54s\tremaining: 664ms\n",
      "699:\tlearn: 0.0819687\ttotal: 1.54s\tremaining: 662ms\n",
      "700:\tlearn: 0.0818515\ttotal: 1.55s\tremaining: 660ms\n",
      "701:\tlearn: 0.0817107\ttotal: 1.55s\tremaining: 657ms\n",
      "702:\tlearn: 0.0815013\ttotal: 1.55s\tremaining: 655ms\n",
      "703:\tlearn: 0.0813250\ttotal: 1.55s\tremaining: 652ms\n",
      "704:\tlearn: 0.0811916\ttotal: 1.55s\tremaining: 651ms\n",
      "705:\tlearn: 0.0810218\ttotal: 1.56s\tremaining: 648ms\n",
      "706:\tlearn: 0.0808773\ttotal: 1.56s\tremaining: 646ms\n",
      "707:\tlearn: 0.0807704\ttotal: 1.56s\tremaining: 643ms\n",
      "708:\tlearn: 0.0806711\ttotal: 1.56s\tremaining: 641ms\n",
      "709:\tlearn: 0.0806193\ttotal: 1.56s\tremaining: 639ms\n",
      "710:\tlearn: 0.0805060\ttotal: 1.56s\tremaining: 636ms\n",
      "711:\tlearn: 0.0803075\ttotal: 1.57s\tremaining: 634ms\n"
     ]
    },
    {
     "name": "stdout",
     "output_type": "stream",
     "text": [
      "712:\tlearn: 0.0801855\ttotal: 1.57s\tremaining: 632ms\n",
      "713:\tlearn: 0.0800589\ttotal: 1.57s\tremaining: 629ms\n",
      "714:\tlearn: 0.0799213\ttotal: 1.57s\tremaining: 627ms\n",
      "715:\tlearn: 0.0798755\ttotal: 1.58s\tremaining: 625ms\n",
      "716:\tlearn: 0.0798106\ttotal: 1.58s\tremaining: 623ms\n",
      "717:\tlearn: 0.0796308\ttotal: 1.58s\tremaining: 621ms\n",
      "718:\tlearn: 0.0795152\ttotal: 1.58s\tremaining: 618ms\n",
      "719:\tlearn: 0.0793128\ttotal: 1.58s\tremaining: 616ms\n",
      "720:\tlearn: 0.0791785\ttotal: 1.58s\tremaining: 613ms\n",
      "721:\tlearn: 0.0791559\ttotal: 1.59s\tremaining: 611ms\n",
      "722:\tlearn: 0.0789759\ttotal: 1.59s\tremaining: 608ms\n",
      "723:\tlearn: 0.0788568\ttotal: 1.59s\tremaining: 606ms\n",
      "724:\tlearn: 0.0787259\ttotal: 1.59s\tremaining: 604ms\n",
      "725:\tlearn: 0.0786645\ttotal: 1.59s\tremaining: 602ms\n",
      "726:\tlearn: 0.0784931\ttotal: 1.6s\tremaining: 600ms\n",
      "727:\tlearn: 0.0784485\ttotal: 1.6s\tremaining: 598ms\n",
      "728:\tlearn: 0.0783068\ttotal: 1.6s\tremaining: 596ms\n",
      "729:\tlearn: 0.0781755\ttotal: 1.6s\tremaining: 594ms\n",
      "730:\tlearn: 0.0781048\ttotal: 1.61s\tremaining: 591ms\n",
      "731:\tlearn: 0.0780011\ttotal: 1.61s\tremaining: 589ms\n",
      "732:\tlearn: 0.0778818\ttotal: 1.61s\tremaining: 587ms\n",
      "733:\tlearn: 0.0778418\ttotal: 1.61s\tremaining: 584ms\n",
      "734:\tlearn: 0.0778051\ttotal: 1.61s\tremaining: 582ms\n",
      "735:\tlearn: 0.0777370\ttotal: 1.61s\tremaining: 579ms\n",
      "736:\tlearn: 0.0775631\ttotal: 1.62s\tremaining: 577ms\n",
      "737:\tlearn: 0.0774702\ttotal: 1.62s\tremaining: 575ms\n",
      "738:\tlearn: 0.0774241\ttotal: 1.62s\tremaining: 572ms\n",
      "739:\tlearn: 0.0773904\ttotal: 1.62s\tremaining: 570ms\n",
      "740:\tlearn: 0.0773053\ttotal: 1.62s\tremaining: 568ms\n",
      "741:\tlearn: 0.0772304\ttotal: 1.63s\tremaining: 565ms\n",
      "742:\tlearn: 0.0771314\ttotal: 1.63s\tremaining: 563ms\n",
      "743:\tlearn: 0.0769579\ttotal: 1.63s\tremaining: 560ms\n",
      "744:\tlearn: 0.0767717\ttotal: 1.63s\tremaining: 558ms\n",
      "745:\tlearn: 0.0766825\ttotal: 1.63s\tremaining: 556ms\n",
      "746:\tlearn: 0.0764449\ttotal: 1.63s\tremaining: 553ms\n",
      "747:\tlearn: 0.0762938\ttotal: 1.63s\tremaining: 551ms\n",
      "748:\tlearn: 0.0761701\ttotal: 1.64s\tremaining: 548ms\n",
      "749:\tlearn: 0.0760760\ttotal: 1.64s\tremaining: 546ms\n",
      "750:\tlearn: 0.0758927\ttotal: 1.64s\tremaining: 544ms\n",
      "751:\tlearn: 0.0758286\ttotal: 1.64s\tremaining: 541ms\n",
      "752:\tlearn: 0.0756890\ttotal: 1.64s\tremaining: 539ms\n",
      "753:\tlearn: 0.0755751\ttotal: 1.64s\tremaining: 537ms\n",
      "754:\tlearn: 0.0754657\ttotal: 1.65s\tremaining: 535ms\n",
      "755:\tlearn: 0.0753618\ttotal: 1.65s\tremaining: 532ms\n",
      "756:\tlearn: 0.0752004\ttotal: 1.65s\tremaining: 530ms\n",
      "757:\tlearn: 0.0750319\ttotal: 1.65s\tremaining: 527ms\n",
      "758:\tlearn: 0.0749337\ttotal: 1.65s\tremaining: 525ms\n"
     ]
    },
    {
     "name": "stdout",
     "output_type": "stream",
     "text": [
      "759:\tlearn: 0.0747799\ttotal: 1.66s\tremaining: 523ms\n",
      "760:\tlearn: 0.0746488\ttotal: 1.66s\tremaining: 521ms\n",
      "761:\tlearn: 0.0745742\ttotal: 1.66s\tremaining: 519ms\n",
      "762:\tlearn: 0.0744262\ttotal: 1.67s\tremaining: 517ms\n",
      "763:\tlearn: 0.0742143\ttotal: 1.67s\tremaining: 516ms\n",
      "764:\tlearn: 0.0740484\ttotal: 1.67s\tremaining: 513ms\n",
      "765:\tlearn: 0.0739987\ttotal: 1.67s\tremaining: 511ms\n",
      "766:\tlearn: 0.0738563\ttotal: 1.68s\tremaining: 509ms\n",
      "767:\tlearn: 0.0737505\ttotal: 1.68s\tremaining: 507ms\n"
     ]
    },
    {
     "name": "stdout",
     "output_type": "stream",
     "text": [
      "768:\tlearn: 0.0736397\ttotal: 1.68s\tremaining: 505ms\n",
      "769:\tlearn: 0.0735950\ttotal: 1.68s\tremaining: 503ms\n",
      "770:\tlearn: 0.0735074\ttotal: 1.69s\tremaining: 500ms\n",
      "771:\tlearn: 0.0733429\ttotal: 1.69s\tremaining: 498ms\n",
      "772:\tlearn: 0.0732988\ttotal: 1.69s\tremaining: 496ms\n",
      "773:\tlearn: 0.0731350\ttotal: 1.69s\tremaining: 494ms\n",
      "774:\tlearn: 0.0730448\ttotal: 1.7s\tremaining: 492ms\n",
      "775:\tlearn: 0.0729942\ttotal: 1.7s\tremaining: 491ms\n",
      "776:\tlearn: 0.0729148\ttotal: 1.7s\tremaining: 489ms\n",
      "777:\tlearn: 0.0728345\ttotal: 1.71s\tremaining: 487ms\n",
      "778:\tlearn: 0.0727095\ttotal: 1.72s\tremaining: 487ms\n",
      "779:\tlearn: 0.0726464\ttotal: 1.72s\tremaining: 485ms\n",
      "780:\tlearn: 0.0725341\ttotal: 1.73s\tremaining: 485ms\n",
      "781:\tlearn: 0.0724989\ttotal: 1.73s\tremaining: 483ms\n",
      "782:\tlearn: 0.0723269\ttotal: 1.73s\tremaining: 480ms\n",
      "783:\tlearn: 0.0722365\ttotal: 1.73s\tremaining: 478ms\n",
      "784:\tlearn: 0.0721598\ttotal: 1.74s\tremaining: 476ms\n",
      "785:\tlearn: 0.0721208\ttotal: 1.74s\tremaining: 474ms\n",
      "786:\tlearn: 0.0720512\ttotal: 1.74s\tremaining: 471ms\n"
     ]
    },
    {
     "name": "stdout",
     "output_type": "stream",
     "text": [
      "787:\tlearn: 0.0719768\ttotal: 1.74s\tremaining: 469ms\n",
      "788:\tlearn: 0.0718742\ttotal: 1.75s\tremaining: 468ms\n",
      "789:\tlearn: 0.0717805\ttotal: 1.75s\tremaining: 465ms\n",
      "790:\tlearn: 0.0716550\ttotal: 1.75s\tremaining: 463ms\n",
      "791:\tlearn: 0.0715879\ttotal: 1.75s\tremaining: 461ms\n",
      "792:\tlearn: 0.0713973\ttotal: 1.76s\tremaining: 459ms\n",
      "793:\tlearn: 0.0712784\ttotal: 1.76s\tremaining: 456ms\n",
      "794:\tlearn: 0.0712132\ttotal: 1.76s\tremaining: 454ms\n",
      "795:\tlearn: 0.0711133\ttotal: 1.76s\tremaining: 452ms\n",
      "796:\tlearn: 0.0709630\ttotal: 1.76s\tremaining: 449ms\n",
      "797:\tlearn: 0.0708564\ttotal: 1.76s\tremaining: 447ms\n",
      "798:\tlearn: 0.0706782\ttotal: 1.77s\tremaining: 444ms\n",
      "799:\tlearn: 0.0705803\ttotal: 1.77s\tremaining: 442ms\n",
      "800:\tlearn: 0.0705327\ttotal: 1.77s\tremaining: 440ms\n",
      "801:\tlearn: 0.0704469\ttotal: 1.77s\tremaining: 437ms\n",
      "802:\tlearn: 0.0704133\ttotal: 1.77s\tremaining: 435ms\n",
      "803:\tlearn: 0.0703428\ttotal: 1.77s\tremaining: 433ms\n",
      "804:\tlearn: 0.0702460\ttotal: 1.78s\tremaining: 430ms\n",
      "805:\tlearn: 0.0701320\ttotal: 1.78s\tremaining: 428ms\n",
      "806:\tlearn: 0.0700618\ttotal: 1.78s\tremaining: 426ms\n",
      "807:\tlearn: 0.0699315\ttotal: 1.78s\tremaining: 423ms\n",
      "808:\tlearn: 0.0698900\ttotal: 1.78s\tremaining: 421ms\n",
      "809:\tlearn: 0.0697900\ttotal: 1.78s\tremaining: 419ms\n",
      "810:\tlearn: 0.0697598\ttotal: 1.79s\tremaining: 416ms\n",
      "811:\tlearn: 0.0695824\ttotal: 1.79s\tremaining: 414ms\n",
      "812:\tlearn: 0.0694249\ttotal: 1.79s\tremaining: 412ms\n",
      "813:\tlearn: 0.0693199\ttotal: 1.79s\tremaining: 409ms\n",
      "814:\tlearn: 0.0691706\ttotal: 1.79s\tremaining: 407ms\n",
      "815:\tlearn: 0.0690932\ttotal: 1.79s\tremaining: 405ms\n",
      "816:\tlearn: 0.0688785\ttotal: 1.79s\tremaining: 402ms\n",
      "817:\tlearn: 0.0687143\ttotal: 1.8s\tremaining: 400ms\n",
      "818:\tlearn: 0.0686444\ttotal: 1.8s\tremaining: 398ms\n",
      "819:\tlearn: 0.0685836\ttotal: 1.8s\tremaining: 396ms\n",
      "820:\tlearn: 0.0685361\ttotal: 1.8s\tremaining: 393ms\n",
      "821:\tlearn: 0.0683811\ttotal: 1.8s\tremaining: 391ms\n",
      "822:\tlearn: 0.0683446\ttotal: 1.81s\tremaining: 389ms\n",
      "823:\tlearn: 0.0683054\ttotal: 1.81s\tremaining: 386ms\n",
      "824:\tlearn: 0.0682372\ttotal: 1.81s\tremaining: 384ms\n",
      "825:\tlearn: 0.0681188\ttotal: 1.81s\tremaining: 382ms\n",
      "826:\tlearn: 0.0679398\ttotal: 1.81s\tremaining: 379ms\n",
      "827:\tlearn: 0.0678295\ttotal: 1.81s\tremaining: 377ms\n",
      "828:\tlearn: 0.0677436\ttotal: 1.82s\tremaining: 375ms\n",
      "829:\tlearn: 0.0676785\ttotal: 1.82s\tremaining: 372ms\n",
      "830:\tlearn: 0.0675603\ttotal: 1.82s\tremaining: 370ms\n",
      "831:\tlearn: 0.0674615\ttotal: 1.82s\tremaining: 368ms\n",
      "832:\tlearn: 0.0673695\ttotal: 1.82s\tremaining: 366ms\n",
      "833:\tlearn: 0.0672161\ttotal: 1.82s\tremaining: 363ms\n",
      "834:\tlearn: 0.0671551\ttotal: 1.83s\tremaining: 361ms\n"
     ]
    },
    {
     "name": "stdout",
     "output_type": "stream",
     "text": [
      "835:\tlearn: 0.0670535\ttotal: 1.83s\tremaining: 359ms\n",
      "836:\tlearn: 0.0670178\ttotal: 1.83s\tremaining: 356ms\n",
      "837:\tlearn: 0.0668822\ttotal: 1.83s\tremaining: 354ms\n",
      "838:\tlearn: 0.0667342\ttotal: 1.83s\tremaining: 352ms\n",
      "839:\tlearn: 0.0667223\ttotal: 1.84s\tremaining: 350ms\n",
      "840:\tlearn: 0.0666317\ttotal: 1.84s\tremaining: 348ms\n",
      "841:\tlearn: 0.0665314\ttotal: 1.84s\tremaining: 345ms\n",
      "842:\tlearn: 0.0664930\ttotal: 1.84s\tremaining: 343ms\n",
      "843:\tlearn: 0.0663791\ttotal: 1.84s\tremaining: 341ms\n",
      "844:\tlearn: 0.0662631\ttotal: 1.84s\tremaining: 338ms\n",
      "845:\tlearn: 0.0661306\ttotal: 1.85s\tremaining: 336ms\n",
      "846:\tlearn: 0.0660324\ttotal: 1.85s\tremaining: 334ms\n",
      "847:\tlearn: 0.0659265\ttotal: 1.85s\tremaining: 332ms\n",
      "848:\tlearn: 0.0658176\ttotal: 1.85s\tremaining: 329ms\n",
      "849:\tlearn: 0.0656983\ttotal: 1.85s\tremaining: 327ms\n",
      "850:\tlearn: 0.0656670\ttotal: 1.85s\tremaining: 325ms\n"
     ]
    },
    {
     "name": "stdout",
     "output_type": "stream",
     "text": [
      "851:\tlearn: 0.0655233\ttotal: 1.86s\tremaining: 323ms\n",
      "852:\tlearn: 0.0653663\ttotal: 1.86s\tremaining: 320ms\n",
      "853:\tlearn: 0.0653050\ttotal: 1.86s\tremaining: 318ms\n",
      "854:\tlearn: 0.0652728\ttotal: 1.86s\tremaining: 316ms\n",
      "855:\tlearn: 0.0652115\ttotal: 1.87s\tremaining: 314ms\n",
      "856:\tlearn: 0.0651495\ttotal: 1.87s\tremaining: 312ms\n",
      "857:\tlearn: 0.0650930\ttotal: 1.87s\tremaining: 310ms\n",
      "858:\tlearn: 0.0650215\ttotal: 1.87s\tremaining: 308ms\n",
      "859:\tlearn: 0.0649591\ttotal: 1.88s\tremaining: 306ms\n",
      "860:\tlearn: 0.0648567\ttotal: 1.88s\tremaining: 303ms\n",
      "861:\tlearn: 0.0648468\ttotal: 1.88s\tremaining: 301ms\n",
      "862:\tlearn: 0.0646774\ttotal: 1.88s\tremaining: 299ms\n",
      "863:\tlearn: 0.0646206\ttotal: 1.88s\tremaining: 296ms\n",
      "864:\tlearn: 0.0644684\ttotal: 1.89s\tremaining: 294ms\n",
      "865:\tlearn: 0.0644499\ttotal: 1.89s\tremaining: 292ms\n",
      "866:\tlearn: 0.0644333\ttotal: 1.89s\tremaining: 290ms\n",
      "867:\tlearn: 0.0643122\ttotal: 1.89s\tremaining: 287ms\n",
      "868:\tlearn: 0.0642185\ttotal: 1.89s\tremaining: 285ms\n",
      "869:\tlearn: 0.0641346\ttotal: 1.89s\tremaining: 283ms\n",
      "870:\tlearn: 0.0641250\ttotal: 1.89s\tremaining: 281ms\n",
      "871:\tlearn: 0.0640083\ttotal: 1.9s\tremaining: 278ms\n",
      "872:\tlearn: 0.0638849\ttotal: 1.9s\tremaining: 276ms\n",
      "873:\tlearn: 0.0637744\ttotal: 1.9s\tremaining: 274ms\n",
      "874:\tlearn: 0.0636688\ttotal: 1.9s\tremaining: 272ms\n",
      "875:\tlearn: 0.0636076\ttotal: 1.9s\tremaining: 269ms\n",
      "876:\tlearn: 0.0635694\ttotal: 1.9s\tremaining: 267ms\n",
      "877:\tlearn: 0.0634303\ttotal: 1.91s\tremaining: 265ms\n",
      "878:\tlearn: 0.0632730\ttotal: 1.91s\tremaining: 263ms\n",
      "879:\tlearn: 0.0632577\ttotal: 1.91s\tremaining: 260ms\n",
      "880:\tlearn: 0.0631119\ttotal: 1.91s\tremaining: 258ms\n",
      "881:\tlearn: 0.0629725\ttotal: 1.91s\tremaining: 256ms\n",
      "882:\tlearn: 0.0629328\ttotal: 1.91s\tremaining: 254ms\n",
      "883:\tlearn: 0.0628596\ttotal: 1.91s\tremaining: 251ms\n",
      "884:\tlearn: 0.0627263\ttotal: 1.92s\tremaining: 249ms\n",
      "885:\tlearn: 0.0626338\ttotal: 1.92s\tremaining: 247ms\n",
      "886:\tlearn: 0.0624881\ttotal: 1.92s\tremaining: 244ms\n",
      "887:\tlearn: 0.0624024\ttotal: 1.92s\tremaining: 242ms\n",
      "888:\tlearn: 0.0623382\ttotal: 1.92s\tremaining: 240ms\n"
     ]
    },
    {
     "name": "stdout",
     "output_type": "stream",
     "text": [
      "889:\tlearn: 0.0622053\ttotal: 1.93s\tremaining: 238ms\n",
      "890:\tlearn: 0.0620914\ttotal: 1.93s\tremaining: 236ms\n",
      "891:\tlearn: 0.0620278\ttotal: 1.93s\tremaining: 234ms\n",
      "892:\tlearn: 0.0619353\ttotal: 1.93s\tremaining: 231ms\n",
      "893:\tlearn: 0.0618369\ttotal: 1.93s\tremaining: 229ms\n",
      "894:\tlearn: 0.0617465\ttotal: 1.93s\tremaining: 227ms\n",
      "895:\tlearn: 0.0616168\ttotal: 1.94s\tremaining: 225ms\n",
      "896:\tlearn: 0.0615482\ttotal: 1.94s\tremaining: 222ms\n",
      "897:\tlearn: 0.0614745\ttotal: 1.94s\tremaining: 220ms\n",
      "898:\tlearn: 0.0614097\ttotal: 1.94s\tremaining: 218ms\n",
      "899:\tlearn: 0.0612787\ttotal: 1.94s\tremaining: 216ms\n",
      "900:\tlearn: 0.0611861\ttotal: 1.94s\tremaining: 213ms\n",
      "901:\tlearn: 0.0611504\ttotal: 1.94s\tremaining: 211ms\n",
      "902:\tlearn: 0.0610360\ttotal: 1.95s\tremaining: 209ms\n",
      "903:\tlearn: 0.0609803\ttotal: 1.95s\tremaining: 207ms\n",
      "904:\tlearn: 0.0609286\ttotal: 1.95s\tremaining: 204ms\n",
      "905:\tlearn: 0.0608489\ttotal: 1.95s\tremaining: 202ms\n",
      "906:\tlearn: 0.0607929\ttotal: 1.95s\tremaining: 200ms\n",
      "907:\tlearn: 0.0607746\ttotal: 1.95s\tremaining: 198ms\n",
      "908:\tlearn: 0.0607652\ttotal: 1.95s\tremaining: 196ms\n",
      "909:\tlearn: 0.0607066\ttotal: 1.96s\tremaining: 193ms\n",
      "910:\tlearn: 0.0605444\ttotal: 1.96s\tremaining: 191ms\n",
      "911:\tlearn: 0.0604831\ttotal: 1.96s\tremaining: 189ms\n",
      "912:\tlearn: 0.0604256\ttotal: 1.96s\tremaining: 187ms\n",
      "913:\tlearn: 0.0602885\ttotal: 1.96s\tremaining: 185ms\n",
      "914:\tlearn: 0.0601506\ttotal: 1.96s\tremaining: 182ms\n",
      "915:\tlearn: 0.0601389\ttotal: 1.96s\tremaining: 180ms\n",
      "916:\tlearn: 0.0601251\ttotal: 1.97s\tremaining: 178ms\n",
      "917:\tlearn: 0.0599962\ttotal: 1.97s\tremaining: 176ms\n",
      "918:\tlearn: 0.0599241\ttotal: 1.97s\tremaining: 174ms\n",
      "919:\tlearn: 0.0599129\ttotal: 1.97s\tremaining: 171ms\n",
      "920:\tlearn: 0.0597925\ttotal: 1.97s\tremaining: 169ms\n",
      "921:\tlearn: 0.0596945\ttotal: 1.97s\tremaining: 167ms\n",
      "922:\tlearn: 0.0596215\ttotal: 1.98s\tremaining: 165ms\n",
      "923:\tlearn: 0.0594801\ttotal: 1.98s\tremaining: 163ms\n",
      "924:\tlearn: 0.0593787\ttotal: 1.98s\tremaining: 160ms\n",
      "925:\tlearn: 0.0592854\ttotal: 1.98s\tremaining: 158ms\n",
      "926:\tlearn: 0.0591712\ttotal: 1.98s\tremaining: 156ms\n",
      "927:\tlearn: 0.0590478\ttotal: 1.98s\tremaining: 154ms\n",
      "928:\tlearn: 0.0590257\ttotal: 1.98s\tremaining: 152ms\n",
      "929:\tlearn: 0.0589715\ttotal: 1.99s\tremaining: 149ms\n",
      "930:\tlearn: 0.0588761\ttotal: 1.99s\tremaining: 147ms\n",
      "931:\tlearn: 0.0587921\ttotal: 1.99s\tremaining: 145ms\n",
      "932:\tlearn: 0.0587818\ttotal: 1.99s\tremaining: 143ms\n",
      "933:\tlearn: 0.0586771\ttotal: 1.99s\tremaining: 141ms\n",
      "934:\tlearn: 0.0586336\ttotal: 1.99s\tremaining: 139ms\n",
      "935:\tlearn: 0.0586013\ttotal: 2s\tremaining: 136ms\n",
      "936:\tlearn: 0.0584839\ttotal: 2s\tremaining: 134ms\n",
      "937:\tlearn: 0.0584761\ttotal: 2s\tremaining: 132ms\n",
      "938:\tlearn: 0.0584058\ttotal: 2s\tremaining: 130ms\n",
      "939:\tlearn: 0.0583305\ttotal: 2s\tremaining: 128ms\n",
      "940:\tlearn: 0.0582572\ttotal: 2s\tremaining: 126ms\n",
      "941:\tlearn: 0.0581685\ttotal: 2s\tremaining: 123ms\n",
      "942:\tlearn: 0.0580827\ttotal: 2.01s\tremaining: 121ms\n"
     ]
    },
    {
     "name": "stdout",
     "output_type": "stream",
     "text": [
      "943:\tlearn: 0.0580526\ttotal: 2.01s\tremaining: 119ms\n",
      "944:\tlearn: 0.0579839\ttotal: 2.01s\tremaining: 117ms\n",
      "945:\tlearn: 0.0578648\ttotal: 2.01s\tremaining: 115ms\n",
      "946:\tlearn: 0.0578177\ttotal: 2.01s\tremaining: 113ms\n",
      "947:\tlearn: 0.0578089\ttotal: 2.02s\tremaining: 111ms\n",
      "948:\tlearn: 0.0577368\ttotal: 2.02s\tremaining: 108ms\n",
      "949:\tlearn: 0.0577286\ttotal: 2.02s\tremaining: 106ms\n",
      "950:\tlearn: 0.0576641\ttotal: 2.02s\tremaining: 104ms\n",
      "951:\tlearn: 0.0575357\ttotal: 2.02s\tremaining: 102ms\n",
      "952:\tlearn: 0.0574963\ttotal: 2.02s\tremaining: 99.8ms\n",
      "953:\tlearn: 0.0574876\ttotal: 2.03s\tremaining: 97.7ms\n",
      "954:\tlearn: 0.0573825\ttotal: 2.03s\tremaining: 95.5ms\n",
      "955:\tlearn: 0.0573139\ttotal: 2.03s\tremaining: 93.4ms\n",
      "956:\tlearn: 0.0572408\ttotal: 2.03s\tremaining: 91.3ms\n",
      "957:\tlearn: 0.0571511\ttotal: 2.03s\tremaining: 89.2ms\n"
     ]
    },
    {
     "name": "stdout",
     "output_type": "stream",
     "text": [
      "958:\tlearn: 0.0570421\ttotal: 2.04s\tremaining: 87.1ms\n",
      "959:\tlearn: 0.0569386\ttotal: 2.04s\tremaining: 85ms\n",
      "960:\tlearn: 0.0568590\ttotal: 2.04s\tremaining: 82.8ms\n",
      "961:\tlearn: 0.0568146\ttotal: 2.04s\tremaining: 80.7ms\n",
      "962:\tlearn: 0.0566955\ttotal: 2.04s\tremaining: 78.5ms\n",
      "963:\tlearn: 0.0566894\ttotal: 2.05s\tremaining: 76.4ms\n",
      "964:\tlearn: 0.0565816\ttotal: 2.05s\tremaining: 74.3ms\n",
      "965:\tlearn: 0.0564695\ttotal: 2.05s\tremaining: 72.1ms\n",
      "966:\tlearn: 0.0563784\ttotal: 2.05s\tremaining: 70ms\n",
      "967:\tlearn: 0.0562670\ttotal: 2.05s\tremaining: 67.8ms\n",
      "968:\tlearn: 0.0561458\ttotal: 2.05s\tremaining: 65.7ms\n",
      "969:\tlearn: 0.0560293\ttotal: 2.06s\tremaining: 63.6ms\n",
      "970:\tlearn: 0.0559482\ttotal: 2.06s\tremaining: 61.5ms\n",
      "971:\tlearn: 0.0558542\ttotal: 2.06s\tremaining: 59.3ms\n",
      "972:\tlearn: 0.0557553\ttotal: 2.06s\tremaining: 57.2ms\n",
      "973:\tlearn: 0.0556371\ttotal: 2.06s\tremaining: 55.1ms\n",
      "974:\tlearn: 0.0555747\ttotal: 2.06s\tremaining: 53ms\n",
      "975:\tlearn: 0.0554863\ttotal: 2.07s\tremaining: 50.9ms\n",
      "976:\tlearn: 0.0554794\ttotal: 2.07s\tremaining: 48.8ms\n",
      "977:\tlearn: 0.0554703\ttotal: 2.07s\tremaining: 46.7ms\n",
      "978:\tlearn: 0.0553825\ttotal: 2.08s\tremaining: 44.6ms\n",
      "979:\tlearn: 0.0552711\ttotal: 2.08s\tremaining: 42.4ms\n",
      "980:\tlearn: 0.0552022\ttotal: 2.08s\tremaining: 40.3ms\n",
      "981:\tlearn: 0.0551347\ttotal: 2.08s\tremaining: 38.2ms\n",
      "982:\tlearn: 0.0550739\ttotal: 2.08s\tremaining: 36ms\n",
      "983:\tlearn: 0.0549713\ttotal: 2.08s\tremaining: 33.9ms\n"
     ]
    },
    {
     "name": "stdout",
     "output_type": "stream",
     "text": [
      "984:\tlearn: 0.0548975\ttotal: 2.09s\tremaining: 31.8ms\n",
      "985:\tlearn: 0.0548095\ttotal: 2.1s\tremaining: 29.8ms\n",
      "986:\tlearn: 0.0547572\ttotal: 2.1s\tremaining: 27.7ms\n",
      "987:\tlearn: 0.0547198\ttotal: 2.11s\tremaining: 25.7ms\n",
      "988:\tlearn: 0.0546851\ttotal: 2.12s\tremaining: 23.5ms\n",
      "989:\tlearn: 0.0546072\ttotal: 2.12s\tremaining: 21.4ms\n",
      "990:\tlearn: 0.0545570\ttotal: 2.12s\tremaining: 19.3ms\n",
      "991:\tlearn: 0.0545003\ttotal: 2.13s\tremaining: 17.2ms\n",
      "992:\tlearn: 0.0544481\ttotal: 2.13s\tremaining: 15ms\n",
      "993:\tlearn: 0.0543694\ttotal: 2.13s\tremaining: 12.9ms\n",
      "994:\tlearn: 0.0543323\ttotal: 2.13s\tremaining: 10.7ms\n",
      "995:\tlearn: 0.0543049\ttotal: 2.14s\tremaining: 8.59ms\n",
      "996:\tlearn: 0.0542484\ttotal: 2.14s\tremaining: 6.44ms\n",
      "997:\tlearn: 0.0540853\ttotal: 2.14s\tremaining: 4.29ms\n",
      "998:\tlearn: 0.0540597\ttotal: 2.15s\tremaining: 2.15ms\n",
      "999:\tlearn: 0.0540520\ttotal: 2.16s\tremaining: 0us\n"
     ]
    },
    {
     "name": "stdout",
     "output_type": "stream",
     "text": [
      "Mean Absolute error 0.19839858127363708\n"
     ]
    },
    {
     "data": {
      "application/scrapbook.scrap.json+json": {
       "data": 0.19839858127363708,
       "encoder": "json",
       "name": "Catboost MAE",
       "version": 1
      }
     },
     "metadata": {
      "scrapbook": {
       "data": true,
       "display": false,
       "name": "Catboost MAE"
      }
     },
     "output_type": "display_data"
    },
    {
     "name": "stdout",
     "output_type": "stream",
     "text": [
      "Catboost MAE 0.19839858127363708\n"
     ]
    }
   ],
   "source": [
    "mae_cb = baselineModels.catboost(X_train,y_train,X_test,y_test)\n",
    "#Store MSE Value\n",
    "sb.glue(\"Catboost MAE\",mae_cb)\n",
    "print(\"Catboost MAE\",mae_cb)"
   ]
  },
  {
   "cell_type": "markdown",
   "id": "ff66ef5d",
   "metadata": {
    "papermill": {
     "duration": 0.014331,
     "end_time": "2022-07-21T10:27:58.689674",
     "exception": false,
     "start_time": "2022-07-21T10:27:58.675343",
     "status": "completed"
    },
    "tags": []
   },
   "source": [
    "# TabNet Regressor"
   ]
  },
  {
   "cell_type": "code",
   "execution_count": 7,
   "id": "6b37959d",
   "metadata": {
    "execution": {
     "iopub.execute_input": "2022-07-21T10:27:58.739469Z",
     "iopub.status.busy": "2022-07-21T10:27:58.736614Z",
     "iopub.status.idle": "2022-07-21T10:27:58.752557Z",
     "shell.execute_reply": "2022-07-21T10:27:58.751561Z"
    },
    "papermill": {
     "duration": 0.058388,
     "end_time": "2022-07-21T10:27:58.757001",
     "exception": false,
     "start_time": "2022-07-21T10:27:58.698613",
     "status": "completed"
    },
    "tags": []
   },
   "outputs": [],
   "source": [
    "n_epochs = 1000\n",
    "batch_size = 32"
   ]
  },
  {
   "cell_type": "code",
   "execution_count": 8,
   "id": "0e335b5a",
   "metadata": {
    "execution": {
     "iopub.execute_input": "2022-07-21T10:27:58.798620Z",
     "iopub.status.busy": "2022-07-21T10:27:58.797166Z",
     "iopub.status.idle": "2022-07-21T10:29:40.450936Z",
     "shell.execute_reply": "2022-07-21T10:29:40.449803Z"
    },
    "papermill": {
     "duration": 101.685572,
     "end_time": "2022-07-21T10:29:40.453802",
     "exception": false,
     "start_time": "2022-07-21T10:27:58.768230",
     "status": "completed"
    },
    "tags": []
   },
   "outputs": [
    {
     "name": "stdout",
     "output_type": "stream",
     "text": [
      "Device used : cpu\n"
     ]
    },
    {
     "name": "stdout",
     "output_type": "stream",
     "text": [
      "epoch 0  | loss: 2.60877 | train_mse: 1.18682 | train_mae: 0.83032 |  0:00:01s\n"
     ]
    },
    {
     "name": "stdout",
     "output_type": "stream",
     "text": [
      "epoch 1  | loss: 0.88606 | train_mse: 1.94281 | train_mae: 0.71757 |  0:00:02s\n"
     ]
    },
    {
     "name": "stdout",
     "output_type": "stream",
     "text": [
      "epoch 2  | loss: 0.72033 | train_mse: 0.58302 | train_mae: 0.56891 |  0:00:02s\n"
     ]
    },
    {
     "name": "stdout",
     "output_type": "stream",
     "text": [
      "epoch 3  | loss: 0.53326 | train_mse: 0.48592 | train_mae: 0.49865 |  0:00:03s\n"
     ]
    },
    {
     "name": "stdout",
     "output_type": "stream",
     "text": [
      "epoch 4  | loss: 0.50949 | train_mse: 0.39856 | train_mae: 0.45779 |  0:00:03s\n"
     ]
    },
    {
     "name": "stdout",
     "output_type": "stream",
     "text": [
      "epoch 5  | loss: 0.43629 | train_mse: 0.39561 | train_mae: 0.44584 |  0:00:03s\n"
     ]
    },
    {
     "name": "stdout",
     "output_type": "stream",
     "text": [
      "epoch 6  | loss: 0.46116 | train_mse: 0.46979 | train_mae: 0.49071 |  0:00:04s\n"
     ]
    },
    {
     "name": "stdout",
     "output_type": "stream",
     "text": [
      "epoch 7  | loss: 0.41014 | train_mse: 0.32339 | train_mae: 0.41896 |  0:00:04s\n"
     ]
    },
    {
     "name": "stdout",
     "output_type": "stream",
     "text": [
      "epoch 8  | loss: 0.37274 | train_mse: 0.2879  | train_mae: 0.39109 |  0:00:05s\n"
     ]
    },
    {
     "name": "stdout",
     "output_type": "stream",
     "text": [
      "epoch 9  | loss: 0.34548 | train_mse: 0.26846 | train_mae: 0.38432 |  0:00:05s\n"
     ]
    },
    {
     "name": "stdout",
     "output_type": "stream",
     "text": [
      "epoch 10 | loss: 0.39122 | train_mse: 0.2404  | train_mae: 0.35117 |  0:00:05s\n"
     ]
    },
    {
     "name": "stdout",
     "output_type": "stream",
     "text": [
      "epoch 11 | loss: 0.3305  | train_mse: 0.23485 | train_mae: 0.34212 |  0:00:06s\n"
     ]
    },
    {
     "name": "stdout",
     "output_type": "stream",
     "text": [
      "epoch 12 | loss: 0.30833 | train_mse: 0.23842 | train_mae: 0.33063 |  0:00:06s\n"
     ]
    },
    {
     "name": "stdout",
     "output_type": "stream",
     "text": [
      "epoch 13 | loss: 0.31091 | train_mse: 0.23321 | train_mae: 0.33203 |  0:00:08s\n"
     ]
    },
    {
     "name": "stdout",
     "output_type": "stream",
     "text": [
      "epoch 14 | loss: 0.28995 | train_mse: 0.22448 | train_mae: 0.32205 |  0:00:09s\n"
     ]
    },
    {
     "name": "stdout",
     "output_type": "stream",
     "text": [
      "epoch 15 | loss: 0.28744 | train_mse: 0.27171 | train_mae: 0.37632 |  0:00:10s\n"
     ]
    },
    {
     "name": "stdout",
     "output_type": "stream",
     "text": [
      "epoch 16 | loss: 0.34772 | train_mse: 0.21402 | train_mae: 0.31778 |  0:00:12s\n"
     ]
    },
    {
     "name": "stdout",
     "output_type": "stream",
     "text": [
      "epoch 17 | loss: 0.25196 | train_mse: 0.26054 | train_mae: 0.34081 |  0:00:13s\n"
     ]
    },
    {
     "name": "stdout",
     "output_type": "stream",
     "text": [
      "epoch 18 | loss: 0.31691 | train_mse: 0.21956 | train_mae: 0.32591 |  0:00:13s\n"
     ]
    },
    {
     "name": "stdout",
     "output_type": "stream",
     "text": [
      "epoch 19 | loss: 0.20341 | train_mse: 0.18949 | train_mae: 0.3075  |  0:00:14s\n"
     ]
    },
    {
     "name": "stdout",
     "output_type": "stream",
     "text": [
      "epoch 20 | loss: 0.26361 | train_mse: 0.16637 | train_mae: 0.29006 |  0:00:14s\n"
     ]
    },
    {
     "name": "stdout",
     "output_type": "stream",
     "text": [
      "epoch 21 | loss: 0.27129 | train_mse: 0.19798 | train_mae: 0.31265 |  0:00:15s\n"
     ]
    },
    {
     "name": "stdout",
     "output_type": "stream",
     "text": [
      "epoch 22 | loss: 0.19754 | train_mse: 0.18223 | train_mae: 0.28557 |  0:00:15s\n"
     ]
    },
    {
     "name": "stdout",
     "output_type": "stream",
     "text": [
      "epoch 23 | loss: 0.20814 | train_mse: 0.17574 | train_mae: 0.28024 |  0:00:16s\n"
     ]
    },
    {
     "name": "stdout",
     "output_type": "stream",
     "text": [
      "epoch 24 | loss: 0.23685 | train_mse: 0.15788 | train_mae: 0.27296 |  0:00:16s\n"
     ]
    },
    {
     "name": "stdout",
     "output_type": "stream",
     "text": [
      "epoch 25 | loss: 0.22039 | train_mse: 0.15276 | train_mae: 0.26927 |  0:00:16s\n"
     ]
    },
    {
     "name": "stdout",
     "output_type": "stream",
     "text": [
      "epoch 26 | loss: 0.18825 | train_mse: 0.16243 | train_mae: 0.27002 |  0:00:17s\n"
     ]
    },
    {
     "name": "stdout",
     "output_type": "stream",
     "text": [
      "epoch 27 | loss: 0.21455 | train_mse: 0.1646  | train_mae: 0.27517 |  0:00:17s\n"
     ]
    },
    {
     "name": "stdout",
     "output_type": "stream",
     "text": [
      "epoch 28 | loss: 0.18775 | train_mse: 0.15706 | train_mae: 0.26723 |  0:00:17s\n"
     ]
    },
    {
     "name": "stdout",
     "output_type": "stream",
     "text": [
      "epoch 29 | loss: 0.231   | train_mse: 0.1473  | train_mae: 0.25503 |  0:00:18s\n"
     ]
    },
    {
     "name": "stdout",
     "output_type": "stream",
     "text": [
      "epoch 30 | loss: 0.22884 | train_mse: 0.1578  | train_mae: 0.26707 |  0:00:18s\n"
     ]
    },
    {
     "name": "stdout",
     "output_type": "stream",
     "text": [
      "epoch 31 | loss: 0.23477 | train_mse: 0.13769 | train_mae: 0.25045 |  0:00:19s\n"
     ]
    },
    {
     "name": "stdout",
     "output_type": "stream",
     "text": [
      "epoch 32 | loss: 0.20828 | train_mse: 0.14241 | train_mae: 0.255   |  0:00:19s\n"
     ]
    },
    {
     "name": "stdout",
     "output_type": "stream",
     "text": [
      "epoch 33 | loss: 0.21344 | train_mse: 0.13852 | train_mae: 0.2485  |  0:00:20s\n"
     ]
    },
    {
     "name": "stdout",
     "output_type": "stream",
     "text": [
      "epoch 34 | loss: 0.20121 | train_mse: 0.14103 | train_mae: 0.25034 |  0:00:20s\n"
     ]
    },
    {
     "name": "stdout",
     "output_type": "stream",
     "text": [
      "epoch 35 | loss: 0.19281 | train_mse: 0.14358 | train_mae: 0.25464 |  0:00:20s\n"
     ]
    },
    {
     "name": "stdout",
     "output_type": "stream",
     "text": [
      "epoch 36 | loss: 0.22697 | train_mse: 0.14497 | train_mae: 0.25005 |  0:00:21s\n"
     ]
    },
    {
     "name": "stdout",
     "output_type": "stream",
     "text": [
      "epoch 37 | loss: 0.19702 | train_mse: 0.14765 | train_mae: 0.24991 |  0:00:21s\n"
     ]
    },
    {
     "name": "stdout",
     "output_type": "stream",
     "text": [
      "epoch 38 | loss: 0.21796 | train_mse: 0.13846 | train_mae: 0.24923 |  0:00:21s\n"
     ]
    },
    {
     "name": "stdout",
     "output_type": "stream",
     "text": [
      "epoch 39 | loss: 0.18852 | train_mse: 0.13593 | train_mae: 0.24377 |  0:00:22s\n"
     ]
    },
    {
     "name": "stdout",
     "output_type": "stream",
     "text": [
      "epoch 40 | loss: 0.17277 | train_mse: 0.13943 | train_mae: 0.24481 |  0:00:22s\n"
     ]
    },
    {
     "name": "stdout",
     "output_type": "stream",
     "text": [
      "epoch 41 | loss: 0.2218  | train_mse: 0.15525 | train_mae: 0.26635 |  0:00:22s\n"
     ]
    },
    {
     "name": "stdout",
     "output_type": "stream",
     "text": [
      "epoch 42 | loss: 0.21911 | train_mse: 0.13792 | train_mae: 0.24524 |  0:00:23s\n"
     ]
    },
    {
     "name": "stdout",
     "output_type": "stream",
     "text": [
      "epoch 43 | loss: 0.20985 | train_mse: 0.13473 | train_mae: 0.24457 |  0:00:23s\n"
     ]
    },
    {
     "name": "stdout",
     "output_type": "stream",
     "text": [
      "epoch 44 | loss: 0.19889 | train_mse: 0.15398 | train_mae: 0.26346 |  0:00:24s\n"
     ]
    },
    {
     "name": "stdout",
     "output_type": "stream",
     "text": [
      "epoch 45 | loss: 0.18875 | train_mse: 0.13323 | train_mae: 0.24838 |  0:00:24s\n"
     ]
    },
    {
     "name": "stdout",
     "output_type": "stream",
     "text": [
      "epoch 46 | loss: 0.21419 | train_mse: 0.14456 | train_mae: 0.25678 |  0:00:24s\n"
     ]
    },
    {
     "name": "stdout",
     "output_type": "stream",
     "text": [
      "epoch 47 | loss: 0.22134 | train_mse: 0.13414 | train_mae: 0.248   |  0:00:25s\n"
     ]
    },
    {
     "name": "stdout",
     "output_type": "stream",
     "text": [
      "epoch 48 | loss: 0.18888 | train_mse: 0.14164 | train_mae: 0.25337 |  0:00:25s\n"
     ]
    },
    {
     "name": "stdout",
     "output_type": "stream",
     "text": [
      "epoch 49 | loss: 0.19537 | train_mse: 0.13357 | train_mae: 0.24592 |  0:00:25s\n"
     ]
    },
    {
     "name": "stdout",
     "output_type": "stream",
     "text": [
      "epoch 50 | loss: 0.19233 | train_mse: 0.14031 | train_mae: 0.2534  |  0:00:26s\n"
     ]
    },
    {
     "name": "stdout",
     "output_type": "stream",
     "text": [
      "epoch 51 | loss: 0.21762 | train_mse: 0.13496 | train_mae: 0.24909 |  0:00:26s\n"
     ]
    },
    {
     "name": "stdout",
     "output_type": "stream",
     "text": [
      "epoch 52 | loss: 0.17942 | train_mse: 0.12766 | train_mae: 0.23825 |  0:00:26s\n"
     ]
    },
    {
     "name": "stdout",
     "output_type": "stream",
     "text": [
      "epoch 53 | loss: 0.22239 | train_mse: 0.13385 | train_mae: 0.24823 |  0:00:27s\n"
     ]
    },
    {
     "name": "stdout",
     "output_type": "stream",
     "text": [
      "epoch 54 | loss: 0.19651 | train_mse: 0.12689 | train_mae: 0.23672 |  0:00:27s\n"
     ]
    },
    {
     "name": "stdout",
     "output_type": "stream",
     "text": [
      "epoch 55 | loss: 0.19158 | train_mse: 0.12636 | train_mae: 0.23837 |  0:00:28s\n"
     ]
    },
    {
     "name": "stdout",
     "output_type": "stream",
     "text": [
      "epoch 56 | loss: 0.17671 | train_mse: 0.12337 | train_mae: 0.23745 |  0:00:28s\n"
     ]
    },
    {
     "name": "stdout",
     "output_type": "stream",
     "text": [
      "epoch 57 | loss: 0.16457 | train_mse: 0.13338 | train_mae: 0.24661 |  0:00:29s\n"
     ]
    },
    {
     "name": "stdout",
     "output_type": "stream",
     "text": [
      "epoch 58 | loss: 0.16303 | train_mse: 0.12988 | train_mae: 0.24388 |  0:00:29s\n"
     ]
    },
    {
     "name": "stdout",
     "output_type": "stream",
     "text": [
      "epoch 59 | loss: 0.22379 | train_mse: 0.12791 | train_mae: 0.24156 |  0:00:30s\n"
     ]
    },
    {
     "name": "stdout",
     "output_type": "stream",
     "text": [
      "epoch 60 | loss: 0.20495 | train_mse: 0.1281  | train_mae: 0.24035 |  0:00:30s\n"
     ]
    },
    {
     "name": "stdout",
     "output_type": "stream",
     "text": [
      "epoch 61 | loss: 0.1606  | train_mse: 0.12926 | train_mae: 0.23625 |  0:00:30s\n"
     ]
    },
    {
     "name": "stdout",
     "output_type": "stream",
     "text": [
      "epoch 62 | loss: 0.16078 | train_mse: 0.15066 | train_mae: 0.24899 |  0:00:31s\n"
     ]
    },
    {
     "name": "stdout",
     "output_type": "stream",
     "text": [
      "epoch 63 | loss: 0.23375 | train_mse: 0.15303 | train_mae: 0.25236 |  0:00:31s\n"
     ]
    },
    {
     "name": "stdout",
     "output_type": "stream",
     "text": [
      "epoch 64 | loss: 0.17351 | train_mse: 0.14027 | train_mae: 0.24664 |  0:00:31s\n"
     ]
    },
    {
     "name": "stdout",
     "output_type": "stream",
     "text": [
      "epoch 65 | loss: 0.19934 | train_mse: 0.14142 | train_mae: 0.24508 |  0:00:32s\n"
     ]
    },
    {
     "name": "stdout",
     "output_type": "stream",
     "text": [
      "epoch 66 | loss: 0.20853 | train_mse: 0.1482  | train_mae: 0.25073 |  0:00:32s\n"
     ]
    },
    {
     "name": "stdout",
     "output_type": "stream",
     "text": [
      "epoch 67 | loss: 0.22461 | train_mse: 0.13812 | train_mae: 0.24954 |  0:00:32s\n"
     ]
    },
    {
     "name": "stdout",
     "output_type": "stream",
     "text": [
      "epoch 68 | loss: 0.17841 | train_mse: 0.13076 | train_mae: 0.2379  |  0:00:33s\n"
     ]
    },
    {
     "name": "stdout",
     "output_type": "stream",
     "text": [
      "epoch 69 | loss: 0.1933  | train_mse: 0.13454 | train_mae: 0.24456 |  0:00:33s\n"
     ]
    },
    {
     "name": "stdout",
     "output_type": "stream",
     "text": [
      "epoch 70 | loss: 0.19219 | train_mse: 0.13116 | train_mae: 0.24669 |  0:00:33s\n"
     ]
    },
    {
     "name": "stdout",
     "output_type": "stream",
     "text": [
      "epoch 71 | loss: 0.18613 | train_mse: 0.13266 | train_mae: 0.24383 |  0:00:34s\n"
     ]
    },
    {
     "name": "stdout",
     "output_type": "stream",
     "text": [
      "epoch 72 | loss: 0.20833 | train_mse: 0.15642 | train_mae: 0.26756 |  0:00:34s\n"
     ]
    },
    {
     "name": "stdout",
     "output_type": "stream",
     "text": [
      "epoch 73 | loss: 0.22181 | train_mse: 0.13008 | train_mae: 0.24156 |  0:00:35s\n"
     ]
    },
    {
     "name": "stdout",
     "output_type": "stream",
     "text": [
      "epoch 74 | loss: 0.19911 | train_mse: 0.12524 | train_mae: 0.23263 |  0:00:35s\n"
     ]
    },
    {
     "name": "stdout",
     "output_type": "stream",
     "text": [
      "epoch 75 | loss: 0.19175 | train_mse: 0.12956 | train_mae: 0.23476 |  0:00:35s\n"
     ]
    },
    {
     "name": "stdout",
     "output_type": "stream",
     "text": [
      "epoch 76 | loss: 0.18129 | train_mse: 0.12562 | train_mae: 0.23377 |  0:00:36s\n"
     ]
    },
    {
     "name": "stdout",
     "output_type": "stream",
     "text": [
      "epoch 77 | loss: 0.1781  | train_mse: 0.13808 | train_mae: 0.25181 |  0:00:36s\n"
     ]
    },
    {
     "name": "stdout",
     "output_type": "stream",
     "text": [
      "epoch 78 | loss: 0.21614 | train_mse: 0.12194 | train_mae: 0.23103 |  0:00:36s\n"
     ]
    },
    {
     "name": "stdout",
     "output_type": "stream",
     "text": [
      "epoch 79 | loss: 0.2108  | train_mse: 0.14432 | train_mae: 0.25818 |  0:00:37s\n"
     ]
    },
    {
     "name": "stdout",
     "output_type": "stream",
     "text": [
      "epoch 80 | loss: 0.19574 | train_mse: 0.1283  | train_mae: 0.24076 |  0:00:37s\n"
     ]
    },
    {
     "name": "stdout",
     "output_type": "stream",
     "text": [
      "epoch 81 | loss: 0.17124 | train_mse: 0.12326 | train_mae: 0.23451 |  0:00:38s\n"
     ]
    },
    {
     "name": "stdout",
     "output_type": "stream",
     "text": [
      "epoch 82 | loss: 0.1943  | train_mse: 0.12326 | train_mae: 0.23953 |  0:00:38s\n"
     ]
    },
    {
     "name": "stdout",
     "output_type": "stream",
     "text": [
      "epoch 83 | loss: 0.18338 | train_mse: 0.11965 | train_mae: 0.23201 |  0:00:38s\n"
     ]
    },
    {
     "name": "stdout",
     "output_type": "stream",
     "text": [
      "epoch 84 | loss: 0.22355 | train_mse: 0.12611 | train_mae: 0.24249 |  0:00:39s\n"
     ]
    },
    {
     "name": "stdout",
     "output_type": "stream",
     "text": [
      "epoch 85 | loss: 0.16736 | train_mse: 0.12414 | train_mae: 0.23402 |  0:00:39s\n"
     ]
    },
    {
     "name": "stdout",
     "output_type": "stream",
     "text": [
      "epoch 86 | loss: 0.17075 | train_mse: 0.12564 | train_mae: 0.23399 |  0:00:39s\n"
     ]
    },
    {
     "name": "stdout",
     "output_type": "stream",
     "text": [
      "epoch 87 | loss: 0.19609 | train_mse: 0.13058 | train_mae: 0.24124 |  0:00:40s\n"
     ]
    },
    {
     "name": "stdout",
     "output_type": "stream",
     "text": [
      "epoch 88 | loss: 0.16596 | train_mse: 0.12302 | train_mae: 0.23551 |  0:00:40s\n"
     ]
    },
    {
     "name": "stdout",
     "output_type": "stream",
     "text": [
      "epoch 89 | loss: 0.21525 | train_mse: 0.11716 | train_mae: 0.22067 |  0:00:41s\n"
     ]
    },
    {
     "name": "stdout",
     "output_type": "stream",
     "text": [
      "epoch 90 | loss: 0.16902 | train_mse: 0.11814 | train_mae: 0.22832 |  0:00:41s\n"
     ]
    },
    {
     "name": "stdout",
     "output_type": "stream",
     "text": [
      "epoch 91 | loss: 0.1636  | train_mse: 0.11335 | train_mae: 0.21593 |  0:00:42s\n"
     ]
    },
    {
     "name": "stdout",
     "output_type": "stream",
     "text": [
      "epoch 92 | loss: 0.18886 | train_mse: 0.11494 | train_mae: 0.22186 |  0:00:42s\n"
     ]
    },
    {
     "name": "stdout",
     "output_type": "stream",
     "text": [
      "epoch 93 | loss: 0.16416 | train_mse: 0.11433 | train_mae: 0.22647 |  0:00:42s\n"
     ]
    },
    {
     "name": "stdout",
     "output_type": "stream",
     "text": [
      "epoch 94 | loss: 0.16864 | train_mse: 0.11495 | train_mae: 0.2193  |  0:00:43s\n"
     ]
    },
    {
     "name": "stdout",
     "output_type": "stream",
     "text": [
      "epoch 95 | loss: 0.20325 | train_mse: 0.12211 | train_mae: 0.23574 |  0:00:43s\n"
     ]
    },
    {
     "name": "stdout",
     "output_type": "stream",
     "text": [
      "epoch 96 | loss: 0.18497 | train_mse: 0.11752 | train_mae: 0.2248  |  0:00:43s\n"
     ]
    },
    {
     "name": "stdout",
     "output_type": "stream",
     "text": [
      "epoch 97 | loss: 0.17055 | train_mse: 0.10988 | train_mae: 0.21344 |  0:00:44s\n"
     ]
    },
    {
     "name": "stdout",
     "output_type": "stream",
     "text": [
      "epoch 98 | loss: 0.2497  | train_mse: 0.13601 | train_mae: 0.24218 |  0:00:44s\n"
     ]
    },
    {
     "name": "stdout",
     "output_type": "stream",
     "text": [
      "epoch 99 | loss: 0.15808 | train_mse: 0.11911 | train_mae: 0.22834 |  0:00:45s\n"
     ]
    },
    {
     "name": "stdout",
     "output_type": "stream",
     "text": [
      "epoch 100| loss: 0.17968 | train_mse: 0.13057 | train_mae: 0.2361  |  0:00:45s\n"
     ]
    },
    {
     "name": "stdout",
     "output_type": "stream",
     "text": [
      "epoch 101| loss: 0.16246 | train_mse: 0.11716 | train_mae: 0.22067 |  0:00:46s\n"
     ]
    },
    {
     "name": "stdout",
     "output_type": "stream",
     "text": [
      "epoch 102| loss: 0.17418 | train_mse: 0.1228  | train_mae: 0.23015 |  0:00:47s\n"
     ]
    },
    {
     "name": "stdout",
     "output_type": "stream",
     "text": [
      "epoch 103| loss: 0.16048 | train_mse: 0.11673 | train_mae: 0.225   |  0:00:47s\n"
     ]
    },
    {
     "name": "stdout",
     "output_type": "stream",
     "text": [
      "epoch 104| loss: 0.16988 | train_mse: 0.1134  | train_mae: 0.21501 |  0:00:47s\n"
     ]
    },
    {
     "name": "stdout",
     "output_type": "stream",
     "text": [
      "epoch 105| loss: 0.22014 | train_mse: 0.12777 | train_mae: 0.23666 |  0:00:48s\n"
     ]
    },
    {
     "name": "stdout",
     "output_type": "stream",
     "text": [
      "epoch 106| loss: 0.17766 | train_mse: 0.12007 | train_mae: 0.22213 |  0:00:48s\n"
     ]
    },
    {
     "name": "stdout",
     "output_type": "stream",
     "text": [
      "epoch 107| loss: 0.15725 | train_mse: 0.11597 | train_mae: 0.21537 |  0:00:48s\n"
     ]
    },
    {
     "name": "stdout",
     "output_type": "stream",
     "text": [
      "epoch 108| loss: 0.18375 | train_mse: 0.10999 | train_mae: 0.21048 |  0:00:48s\n"
     ]
    },
    {
     "name": "stdout",
     "output_type": "stream",
     "text": [
      "epoch 109| loss: 0.16698 | train_mse: 0.12367 | train_mae: 0.22591 |  0:00:49s\n"
     ]
    },
    {
     "name": "stdout",
     "output_type": "stream",
     "text": [
      "epoch 110| loss: 0.14559 | train_mse: 0.11387 | train_mae: 0.21431 |  0:00:49s\n"
     ]
    },
    {
     "name": "stdout",
     "output_type": "stream",
     "text": [
      "epoch 111| loss: 0.2238  | train_mse: 0.1179  | train_mae: 0.22199 |  0:00:49s\n"
     ]
    },
    {
     "name": "stdout",
     "output_type": "stream",
     "text": [
      "epoch 112| loss: 0.17236 | train_mse: 0.11968 | train_mae: 0.22754 |  0:00:50s\n"
     ]
    },
    {
     "name": "stdout",
     "output_type": "stream",
     "text": [
      "epoch 113| loss: 0.15988 | train_mse: 0.12283 | train_mae: 0.23081 |  0:00:50s\n"
     ]
    },
    {
     "name": "stdout",
     "output_type": "stream",
     "text": [
      "epoch 114| loss: 0.19184 | train_mse: 0.12182 | train_mae: 0.22478 |  0:00:50s\n"
     ]
    },
    {
     "name": "stdout",
     "output_type": "stream",
     "text": [
      "epoch 115| loss: 0.16338 | train_mse: 0.12526 | train_mae: 0.23176 |  0:00:51s\n"
     ]
    },
    {
     "name": "stdout",
     "output_type": "stream",
     "text": [
      "epoch 116| loss: 0.18458 | train_mse: 0.11827 | train_mae: 0.22176 |  0:00:51s\n"
     ]
    },
    {
     "name": "stdout",
     "output_type": "stream",
     "text": [
      "epoch 117| loss: 0.15877 | train_mse: 0.11179 | train_mae: 0.21164 |  0:00:51s\n"
     ]
    },
    {
     "name": "stdout",
     "output_type": "stream",
     "text": [
      "epoch 118| loss: 0.17298 | train_mse: 0.11229 | train_mae: 0.21612 |  0:00:51s\n"
     ]
    },
    {
     "name": "stdout",
     "output_type": "stream",
     "text": [
      "epoch 119| loss: 0.18886 | train_mse: 0.12247 | train_mae: 0.22972 |  0:00:52s\n"
     ]
    },
    {
     "name": "stdout",
     "output_type": "stream",
     "text": [
      "epoch 120| loss: 0.18655 | train_mse: 0.13091 | train_mae: 0.24048 |  0:00:52s\n"
     ]
    },
    {
     "name": "stdout",
     "output_type": "stream",
     "text": [
      "epoch 121| loss: 0.21458 | train_mse: 0.11626 | train_mae: 0.22036 |  0:00:52s\n"
     ]
    },
    {
     "name": "stdout",
     "output_type": "stream",
     "text": [
      "epoch 122| loss: 0.17276 | train_mse: 0.1306  | train_mae: 0.23507 |  0:00:53s\n"
     ]
    },
    {
     "name": "stdout",
     "output_type": "stream",
     "text": [
      "epoch 123| loss: 0.17341 | train_mse: 0.12656 | train_mae: 0.23282 |  0:00:53s\n"
     ]
    },
    {
     "name": "stdout",
     "output_type": "stream",
     "text": [
      "epoch 124| loss: 0.1598  | train_mse: 0.11913 | train_mae: 0.22015 |  0:00:53s\n"
     ]
    },
    {
     "name": "stdout",
     "output_type": "stream",
     "text": [
      "epoch 125| loss: 0.1963  | train_mse: 0.11971 | train_mae: 0.22486 |  0:00:54s\n"
     ]
    },
    {
     "name": "stdout",
     "output_type": "stream",
     "text": [
      "epoch 126| loss: 0.17488 | train_mse: 0.11793 | train_mae: 0.22113 |  0:00:54s\n"
     ]
    },
    {
     "name": "stdout",
     "output_type": "stream",
     "text": [
      "epoch 127| loss: 0.17271 | train_mse: 0.12124 | train_mae: 0.23243 |  0:00:54s\n"
     ]
    },
    {
     "name": "stdout",
     "output_type": "stream",
     "text": [
      "epoch 128| loss: 0.14898 | train_mse: 0.12416 | train_mae: 0.22723 |  0:00:55s\n"
     ]
    },
    {
     "name": "stdout",
     "output_type": "stream",
     "text": [
      "epoch 129| loss: 0.19664 | train_mse: 0.13115 | train_mae: 0.23651 |  0:00:55s\n"
     ]
    },
    {
     "name": "stdout",
     "output_type": "stream",
     "text": [
      "epoch 130| loss: 0.17222 | train_mse: 0.11376 | train_mae: 0.2153  |  0:00:55s\n"
     ]
    },
    {
     "name": "stdout",
     "output_type": "stream",
     "text": [
      "epoch 131| loss: 0.18044 | train_mse: 0.11531 | train_mae: 0.21775 |  0:00:56s\n"
     ]
    },
    {
     "name": "stdout",
     "output_type": "stream",
     "text": [
      "epoch 132| loss: 0.17842 | train_mse: 0.11622 | train_mae: 0.2189  |  0:00:56s\n"
     ]
    },
    {
     "name": "stdout",
     "output_type": "stream",
     "text": [
      "epoch 133| loss: 0.16662 | train_mse: 0.12877 | train_mae: 0.23432 |  0:00:56s\n"
     ]
    },
    {
     "name": "stdout",
     "output_type": "stream",
     "text": [
      "epoch 134| loss: 0.19101 | train_mse: 0.11007 | train_mae: 0.21521 |  0:00:57s\n"
     ]
    },
    {
     "name": "stdout",
     "output_type": "stream",
     "text": [
      "epoch 135| loss: 0.15952 | train_mse: 0.11367 | train_mae: 0.21524 |  0:00:57s\n"
     ]
    },
    {
     "name": "stdout",
     "output_type": "stream",
     "text": [
      "epoch 136| loss: 0.18658 | train_mse: 0.13274 | train_mae: 0.23408 |  0:00:57s\n"
     ]
    },
    {
     "name": "stdout",
     "output_type": "stream",
     "text": [
      "epoch 137| loss: 0.13719 | train_mse: 0.12008 | train_mae: 0.22477 |  0:00:58s\n"
     ]
    },
    {
     "name": "stdout",
     "output_type": "stream",
     "text": [
      "epoch 138| loss: 0.17048 | train_mse: 0.11416 | train_mae: 0.21439 |  0:00:58s\n"
     ]
    },
    {
     "name": "stdout",
     "output_type": "stream",
     "text": [
      "epoch 139| loss: 0.15676 | train_mse: 0.11356 | train_mae: 0.22044 |  0:00:58s\n"
     ]
    },
    {
     "name": "stdout",
     "output_type": "stream",
     "text": [
      "epoch 140| loss: 0.16724 | train_mse: 0.11596 | train_mae: 0.22276 |  0:00:59s\n"
     ]
    },
    {
     "name": "stdout",
     "output_type": "stream",
     "text": [
      "epoch 141| loss: 0.17248 | train_mse: 0.11036 | train_mae: 0.21471 |  0:00:59s\n"
     ]
    },
    {
     "name": "stdout",
     "output_type": "stream",
     "text": [
      "epoch 142| loss: 0.15878 | train_mse: 0.11311 | train_mae: 0.21751 |  0:00:59s\n"
     ]
    },
    {
     "name": "stdout",
     "output_type": "stream",
     "text": [
      "epoch 143| loss: 0.18342 | train_mse: 0.11548 | train_mae: 0.21875 |  0:01:00s\n"
     ]
    },
    {
     "name": "stdout",
     "output_type": "stream",
     "text": [
      "epoch 144| loss: 0.15628 | train_mse: 0.12555 | train_mae: 0.23294 |  0:01:00s\n"
     ]
    },
    {
     "name": "stdout",
     "output_type": "stream",
     "text": [
      "epoch 145| loss: 0.16241 | train_mse: 0.10838 | train_mae: 0.20987 |  0:01:00s\n"
     ]
    },
    {
     "name": "stdout",
     "output_type": "stream",
     "text": [
      "epoch 146| loss: 0.20796 | train_mse: 0.11433 | train_mae: 0.21793 |  0:01:01s\n"
     ]
    },
    {
     "name": "stdout",
     "output_type": "stream",
     "text": [
      "epoch 147| loss: 0.18618 | train_mse: 0.11557 | train_mae: 0.22192 |  0:01:01s\n"
     ]
    },
    {
     "name": "stdout",
     "output_type": "stream",
     "text": [
      "epoch 148| loss: 0.16706 | train_mse: 0.11233 | train_mae: 0.21715 |  0:01:01s\n"
     ]
    },
    {
     "name": "stdout",
     "output_type": "stream",
     "text": [
      "epoch 149| loss: 0.14771 | train_mse: 0.11178 | train_mae: 0.21591 |  0:01:02s\n"
     ]
    },
    {
     "name": "stdout",
     "output_type": "stream",
     "text": [
      "epoch 150| loss: 0.13393 | train_mse: 0.12159 | train_mae: 0.22529 |  0:01:02s\n"
     ]
    },
    {
     "name": "stdout",
     "output_type": "stream",
     "text": [
      "epoch 151| loss: 0.17157 | train_mse: 0.11332 | train_mae: 0.21037 |  0:01:03s\n"
     ]
    },
    {
     "name": "stdout",
     "output_type": "stream",
     "text": [
      "epoch 152| loss: 0.14722 | train_mse: 0.12091 | train_mae: 0.22396 |  0:01:04s\n"
     ]
    },
    {
     "name": "stdout",
     "output_type": "stream",
     "text": [
      "epoch 153| loss: 0.1397  | train_mse: 0.11292 | train_mae: 0.21543 |  0:01:04s\n"
     ]
    },
    {
     "name": "stdout",
     "output_type": "stream",
     "text": [
      "epoch 154| loss: 0.17822 | train_mse: 0.10949 | train_mae: 0.21259 |  0:01:06s\n"
     ]
    },
    {
     "name": "stdout",
     "output_type": "stream",
     "text": [
      "epoch 155| loss: 0.1928  | train_mse: 0.11388 | train_mae: 0.21543 |  0:01:06s\n"
     ]
    },
    {
     "name": "stdout",
     "output_type": "stream",
     "text": [
      "epoch 156| loss: 0.14596 | train_mse: 0.11672 | train_mae: 0.21751 |  0:01:07s\n"
     ]
    },
    {
     "name": "stdout",
     "output_type": "stream",
     "text": [
      "epoch 157| loss: 0.16523 | train_mse: 0.10884 | train_mae: 0.21268 |  0:01:07s\n"
     ]
    },
    {
     "name": "stdout",
     "output_type": "stream",
     "text": [
      "epoch 158| loss: 0.18242 | train_mse: 0.11379 | train_mae: 0.21926 |  0:01:08s\n"
     ]
    },
    {
     "name": "stdout",
     "output_type": "stream",
     "text": [
      "epoch 159| loss: 0.16281 | train_mse: 0.1101  | train_mae: 0.21593 |  0:01:08s\n"
     ]
    },
    {
     "name": "stdout",
     "output_type": "stream",
     "text": [
      "epoch 160| loss: 0.14024 | train_mse: 0.12741 | train_mae: 0.23473 |  0:01:09s\n"
     ]
    },
    {
     "name": "stdout",
     "output_type": "stream",
     "text": [
      "epoch 161| loss: 0.17042 | train_mse: 0.10775 | train_mae: 0.21289 |  0:01:10s\n"
     ]
    },
    {
     "name": "stdout",
     "output_type": "stream",
     "text": [
      "epoch 162| loss: 0.1818  | train_mse: 0.11372 | train_mae: 0.21808 |  0:01:10s\n"
     ]
    },
    {
     "name": "stdout",
     "output_type": "stream",
     "text": [
      "epoch 163| loss: 0.17137 | train_mse: 0.10997 | train_mae: 0.21705 |  0:01:10s\n"
     ]
    },
    {
     "name": "stdout",
     "output_type": "stream",
     "text": [
      "epoch 164| loss: 0.16377 | train_mse: 0.11237 | train_mae: 0.2173  |  0:01:11s\n"
     ]
    },
    {
     "name": "stdout",
     "output_type": "stream",
     "text": [
      "epoch 165| loss: 0.18304 | train_mse: 0.11534 | train_mae: 0.22221 |  0:01:11s\n"
     ]
    },
    {
     "name": "stdout",
     "output_type": "stream",
     "text": [
      "epoch 166| loss: 0.16277 | train_mse: 0.10561 | train_mae: 0.20935 |  0:01:12s\n"
     ]
    },
    {
     "name": "stdout",
     "output_type": "stream",
     "text": [
      "epoch 167| loss: 0.17438 | train_mse: 0.11485 | train_mae: 0.22131 |  0:01:13s\n"
     ]
    },
    {
     "name": "stdout",
     "output_type": "stream",
     "text": [
      "epoch 168| loss: 0.15454 | train_mse: 0.11279 | train_mae: 0.21611 |  0:01:13s\n"
     ]
    },
    {
     "name": "stdout",
     "output_type": "stream",
     "text": [
      "epoch 169| loss: 0.15396 | train_mse: 0.10674 | train_mae: 0.21347 |  0:01:14s\n"
     ]
    },
    {
     "name": "stdout",
     "output_type": "stream",
     "text": [
      "epoch 170| loss: 0.16315 | train_mse: 0.10683 | train_mae: 0.21064 |  0:01:15s\n"
     ]
    },
    {
     "name": "stdout",
     "output_type": "stream",
     "text": [
      "epoch 171| loss: 0.12651 | train_mse: 0.10896 | train_mae: 0.21252 |  0:01:15s\n"
     ]
    },
    {
     "name": "stdout",
     "output_type": "stream",
     "text": [
      "epoch 172| loss: 0.15708 | train_mse: 0.11497 | train_mae: 0.22388 |  0:01:16s\n"
     ]
    },
    {
     "name": "stdout",
     "output_type": "stream",
     "text": [
      "epoch 173| loss: 0.18141 | train_mse: 0.10967 | train_mae: 0.21911 |  0:01:16s\n"
     ]
    },
    {
     "name": "stdout",
     "output_type": "stream",
     "text": [
      "epoch 174| loss: 0.14219 | train_mse: 0.11318 | train_mae: 0.21799 |  0:01:17s\n"
     ]
    },
    {
     "name": "stdout",
     "output_type": "stream",
     "text": [
      "epoch 175| loss: 0.14899 | train_mse: 0.11462 | train_mae: 0.21838 |  0:01:17s\n"
     ]
    },
    {
     "name": "stdout",
     "output_type": "stream",
     "text": [
      "epoch 176| loss: 0.19469 | train_mse: 0.11067 | train_mae: 0.20845 |  0:01:18s\n"
     ]
    },
    {
     "name": "stdout",
     "output_type": "stream",
     "text": [
      "epoch 177| loss: 0.17633 | train_mse: 0.12087 | train_mae: 0.22762 |  0:01:18s\n"
     ]
    },
    {
     "name": "stdout",
     "output_type": "stream",
     "text": [
      "epoch 178| loss: 0.1509  | train_mse: 0.10642 | train_mae: 0.20599 |  0:01:19s\n"
     ]
    },
    {
     "name": "stdout",
     "output_type": "stream",
     "text": [
      "epoch 179| loss: 0.18484 | train_mse: 0.11912 | train_mae: 0.22439 |  0:01:19s\n"
     ]
    },
    {
     "name": "stdout",
     "output_type": "stream",
     "text": [
      "epoch 180| loss: 0.15123 | train_mse: 0.11116 | train_mae: 0.20729 |  0:01:20s\n"
     ]
    },
    {
     "name": "stdout",
     "output_type": "stream",
     "text": [
      "epoch 181| loss: 0.15799 | train_mse: 0.11181 | train_mae: 0.20655 |  0:01:20s\n"
     ]
    },
    {
     "name": "stdout",
     "output_type": "stream",
     "text": [
      "epoch 182| loss: 0.16999 | train_mse: 0.10808 | train_mae: 0.20545 |  0:01:20s\n"
     ]
    },
    {
     "name": "stdout",
     "output_type": "stream",
     "text": [
      "epoch 183| loss: 0.15891 | train_mse: 0.10481 | train_mae: 0.20041 |  0:01:21s\n"
     ]
    },
    {
     "name": "stdout",
     "output_type": "stream",
     "text": [
      "epoch 184| loss: 0.14409 | train_mse: 0.10344 | train_mae: 0.20487 |  0:01:21s\n"
     ]
    },
    {
     "name": "stdout",
     "output_type": "stream",
     "text": [
      "epoch 185| loss: 0.17044 | train_mse: 0.10288 | train_mae: 0.20231 |  0:01:22s\n"
     ]
    },
    {
     "name": "stdout",
     "output_type": "stream",
     "text": [
      "epoch 186| loss: 0.15182 | train_mse: 0.11089 | train_mae: 0.21096 |  0:01:22s\n"
     ]
    },
    {
     "name": "stdout",
     "output_type": "stream",
     "text": [
      "epoch 187| loss: 0.14877 | train_mse: 0.10326 | train_mae: 0.20225 |  0:01:23s\n"
     ]
    },
    {
     "name": "stdout",
     "output_type": "stream",
     "text": [
      "epoch 188| loss: 0.13974 | train_mse: 0.10342 | train_mae: 0.20189 |  0:01:23s\n"
     ]
    },
    {
     "name": "stdout",
     "output_type": "stream",
     "text": [
      "epoch 189| loss: 0.21628 | train_mse: 0.10581 | train_mae: 0.21111 |  0:01:23s\n"
     ]
    },
    {
     "name": "stdout",
     "output_type": "stream",
     "text": [
      "epoch 190| loss: 0.1453  | train_mse: 0.11106 | train_mae: 0.21558 |  0:01:23s\n"
     ]
    },
    {
     "name": "stdout",
     "output_type": "stream",
     "text": [
      "epoch 191| loss: 0.1583  | train_mse: 0.1044  | train_mae: 0.20632 |  0:01:24s\n"
     ]
    },
    {
     "name": "stdout",
     "output_type": "stream",
     "text": [
      "epoch 192| loss: 0.15203 | train_mse: 0.10282 | train_mae: 0.20468 |  0:01:24s\n"
     ]
    },
    {
     "name": "stdout",
     "output_type": "stream",
     "text": [
      "epoch 193| loss: 0.1447  | train_mse: 0.10344 | train_mae: 0.20596 |  0:01:24s\n"
     ]
    },
    {
     "name": "stdout",
     "output_type": "stream",
     "text": [
      "epoch 194| loss: 0.17335 | train_mse: 0.10607 | train_mae: 0.20834 |  0:01:25s\n"
     ]
    },
    {
     "name": "stdout",
     "output_type": "stream",
     "text": [
      "epoch 195| loss: 0.14314 | train_mse: 0.10391 | train_mae: 0.20602 |  0:01:25s\n"
     ]
    },
    {
     "name": "stdout",
     "output_type": "stream",
     "text": [
      "epoch 196| loss: 0.141   | train_mse: 0.10638 | train_mae: 0.20494 |  0:01:25s\n"
     ]
    },
    {
     "name": "stdout",
     "output_type": "stream",
     "text": [
      "epoch 197| loss: 0.18146 | train_mse: 0.10498 | train_mae: 0.20877 |  0:01:26s\n"
     ]
    },
    {
     "name": "stdout",
     "output_type": "stream",
     "text": [
      "epoch 198| loss: 0.13824 | train_mse: 0.11671 | train_mae: 0.22419 |  0:01:26s\n"
     ]
    },
    {
     "name": "stdout",
     "output_type": "stream",
     "text": [
      "epoch 199| loss: 0.14865 | train_mse: 0.11473 | train_mae: 0.22014 |  0:01:26s\n"
     ]
    },
    {
     "name": "stdout",
     "output_type": "stream",
     "text": [
      "epoch 200| loss: 0.13406 | train_mse: 0.11327 | train_mae: 0.21198 |  0:01:27s\n"
     ]
    },
    {
     "name": "stdout",
     "output_type": "stream",
     "text": [
      "epoch 201| loss: 0.18432 | train_mse: 0.11245 | train_mae: 0.21345 |  0:01:27s\n"
     ]
    },
    {
     "name": "stdout",
     "output_type": "stream",
     "text": [
      "epoch 202| loss: 0.15992 | train_mse: 0.1193  | train_mae: 0.21733 |  0:01:27s\n"
     ]
    },
    {
     "name": "stdout",
     "output_type": "stream",
     "text": [
      "epoch 203| loss: 0.16238 | train_mse: 0.10925 | train_mae: 0.20997 |  0:01:28s\n"
     ]
    },
    {
     "name": "stdout",
     "output_type": "stream",
     "text": [
      "epoch 204| loss: 0.13707 | train_mse: 0.10982 | train_mae: 0.21082 |  0:01:28s\n"
     ]
    },
    {
     "name": "stdout",
     "output_type": "stream",
     "text": [
      "epoch 205| loss: 0.17005 | train_mse: 0.1223  | train_mae: 0.22683 |  0:01:29s\n"
     ]
    },
    {
     "name": "stdout",
     "output_type": "stream",
     "text": [
      "epoch 206| loss: 0.16887 | train_mse: 0.11999 | train_mae: 0.22186 |  0:01:29s\n"
     ]
    },
    {
     "name": "stdout",
     "output_type": "stream",
     "text": [
      "epoch 207| loss: 0.1816  | train_mse: 0.12164 | train_mae: 0.22895 |  0:01:30s\n"
     ]
    },
    {
     "name": "stdout",
     "output_type": "stream",
     "text": [
      "epoch 208| loss: 0.15843 | train_mse: 0.11044 | train_mae: 0.21263 |  0:01:31s\n"
     ]
    },
    {
     "name": "stdout",
     "output_type": "stream",
     "text": [
      "epoch 209| loss: 0.18746 | train_mse: 0.12606 | train_mae: 0.24133 |  0:01:31s\n"
     ]
    },
    {
     "name": "stdout",
     "output_type": "stream",
     "text": [
      "epoch 210| loss: 0.17439 | train_mse: 0.10901 | train_mae: 0.20741 |  0:01:32s\n"
     ]
    },
    {
     "name": "stdout",
     "output_type": "stream",
     "text": [
      "epoch 211| loss: 0.16884 | train_mse: 0.10971 | train_mae: 0.21438 |  0:01:32s\n"
     ]
    },
    {
     "name": "stdout",
     "output_type": "stream",
     "text": [
      "epoch 212| loss: 0.15947 | train_mse: 0.12351 | train_mae: 0.22831 |  0:01:33s\n"
     ]
    },
    {
     "name": "stdout",
     "output_type": "stream",
     "text": [
      "epoch 213| loss: 0.17827 | train_mse: 0.11824 | train_mae: 0.22644 |  0:01:33s\n"
     ]
    },
    {
     "name": "stdout",
     "output_type": "stream",
     "text": [
      "epoch 214| loss: 0.19604 | train_mse: 0.11499 | train_mae: 0.22109 |  0:01:34s\n"
     ]
    },
    {
     "name": "stdout",
     "output_type": "stream",
     "text": [
      "epoch 215| loss: 0.17863 | train_mse: 0.12403 | train_mae: 0.23449 |  0:01:34s\n"
     ]
    },
    {
     "name": "stdout",
     "output_type": "stream",
     "text": [
      "epoch 216| loss: 0.1546  | train_mse: 0.10885 | train_mae: 0.21168 |  0:01:34s\n"
     ]
    },
    {
     "name": "stdout",
     "output_type": "stream",
     "text": [
      "epoch 217| loss: 0.14861 | train_mse: 0.11005 | train_mae: 0.21574 |  0:01:35s\n"
     ]
    },
    {
     "name": "stdout",
     "output_type": "stream",
     "text": [
      "epoch 218| loss: 0.17802 | train_mse: 0.11486 | train_mae: 0.22244 |  0:01:35s\n"
     ]
    },
    {
     "name": "stdout",
     "output_type": "stream",
     "text": [
      "epoch 219| loss: 0.14147 | train_mse: 0.11086 | train_mae: 0.21487 |  0:01:36s\n"
     ]
    },
    {
     "name": "stdout",
     "output_type": "stream",
     "text": [
      "epoch 220| loss: 0.1604  | train_mse: 0.11712 | train_mae: 0.22119 |  0:01:36s\n"
     ]
    },
    {
     "name": "stdout",
     "output_type": "stream",
     "text": [
      "epoch 221| loss: 0.15855 | train_mse: 0.12168 | train_mae: 0.22994 |  0:01:36s\n"
     ]
    },
    {
     "name": "stdout",
     "output_type": "stream",
     "text": [
      "epoch 222| loss: 0.14083 | train_mse: 0.1063  | train_mae: 0.20649 |  0:01:37s\n"
     ]
    },
    {
     "name": "stdout",
     "output_type": "stream",
     "text": [
      "epoch 223| loss: 0.15466 | train_mse: 0.11177 | train_mae: 0.21584 |  0:01:37s\n"
     ]
    },
    {
     "name": "stdout",
     "output_type": "stream",
     "text": [
      "epoch 224| loss: 0.15248 | train_mse: 0.10919 | train_mae: 0.2124  |  0:01:37s\n"
     ]
    },
    {
     "name": "stdout",
     "output_type": "stream",
     "text": [
      "epoch 225| loss: 0.17245 | train_mse: 0.11382 | train_mae: 0.21996 |  0:01:38s\n"
     ]
    },
    {
     "name": "stdout",
     "output_type": "stream",
     "text": [
      "epoch 226| loss: 0.16769 | train_mse: 0.10669 | train_mae: 0.21122 |  0:01:38s\n"
     ]
    },
    {
     "name": "stdout",
     "output_type": "stream",
     "text": [
      "epoch 227| loss: 0.17052 | train_mse: 0.12858 | train_mae: 0.23962 |  0:01:39s\n"
     ]
    },
    {
     "name": "stdout",
     "output_type": "stream",
     "text": [
      "epoch 228| loss: 0.16359 | train_mse: 0.10526 | train_mae: 0.20744 |  0:01:39s\n"
     ]
    },
    {
     "name": "stdout",
     "output_type": "stream",
     "text": [
      "epoch 229| loss: 0.17042 | train_mse: 0.13675 | train_mae: 0.24454 |  0:01:39s\n"
     ]
    },
    {
     "name": "stdout",
     "output_type": "stream",
     "text": [
      "epoch 230| loss: 0.14392 | train_mse: 0.10851 | train_mae: 0.21648 |  0:01:40s\n"
     ]
    },
    {
     "name": "stdout",
     "output_type": "stream",
     "text": [
      "epoch 231| loss: 0.16937 | train_mse: 0.11634 | train_mae: 0.22287 |  0:01:40s\n"
     ]
    },
    {
     "name": "stdout",
     "output_type": "stream",
     "text": [
      "epoch 232| loss: 0.17946 | train_mse: 0.11004 | train_mae: 0.21597 |  0:01:40s\n"
     ]
    },
    {
     "name": "stdout",
     "output_type": "stream",
     "text": [
      "epoch 233| loss: 0.17194 | train_mse: 0.11388 | train_mae: 0.21653 |  0:01:41s\n",
      "\n",
      "Early stopping occurred at epoch 233 with best_epoch = 183 and best_train_mae = 0.20041\n",
      "Best weights from best epoch are automatically used!\n",
      "BEST VALID SCORE FOR dataset : 0.20040894809026882\n",
      "FINAL TEST SCORE FOR dataset: 0.27276617528391217\n",
      "{'loss': [2.6087657750243007, 0.8860645589261952, 0.7203329583205799, 0.5332554537470978, 0.5094862302931229, 0.436287653623241, 0.4611616698232028, 0.41013781357519696, 0.37273977829678223, 0.34548233552734453, 0.39121976524296376, 0.3304962315181694, 0.3083337126391949, 0.3109143562246077, 0.2899463135417145, 0.2874387958557299, 0.34772464396929975, 0.25195664226418674, 0.3169051978257623, 0.20340617546940795, 0.26360664819136703, 0.27129238298033725, 0.19754136619296406, 0.20813708110611037, 0.23684711887104676, 0.22039462198125254, 0.18825374174826215, 0.2145504361332053, 0.1877481450538824, 0.2309995399843348, 0.22883955485159807, 0.23477386196356012, 0.2082811616139837, 0.21343698669778238, 0.2012106988689687, 0.19281111314597696, 0.22696831320772076, 0.1970210621262541, 0.21795847200521148, 0.18851955884163923, 0.17277109268868324, 0.2217984951958798, 0.21910730682977356, 0.20985034403234426, 0.19889098140272762, 0.18874910945939546, 0.21418550625295923, 0.22134235648825618, 0.18888483698120212, 0.19536987994567, 0.19233480863051838, 0.2176192469968654, 0.1794154992198, 0.22239061201562976, 0.1965141929317229, 0.19157634380430277, 0.1767050089812515, 0.16456958629412227, 0.1630305356465944, 0.2237895721256143, 0.2049468084432111, 0.1606007153444951, 0.16077988845582056, 0.23374935660031762, 0.17350839535788734, 0.19934077133046518, 0.20853208728355938, 0.22460878544514723, 0.17841093537240926, 0.19330368744264734, 0.1921917077633414, 0.18612512252708474, 0.2083341319224622, 0.22180831624139655, 0.1991067944776894, 0.19175482268380648, 0.18128990699159037, 0.1781040332695045, 0.21614042426099872, 0.21080167045687684, 0.1957439367133792, 0.1712401007661725, 0.19430068253290536, 0.18337667416227926, 0.22355381170711894, 0.1673649651284265, 0.17075061532530453, 0.19608856162222305, 0.16596092873870735, 0.21525066781162036, 0.16901897085775244, 0.16360315953445906, 0.18885630044606652, 0.164155838955747, 0.16864114453886994, 0.2032471085243886, 0.18497276999572715, 0.17054860249604328, 0.24970263095185308, 0.15807582504383408, 0.17968377352941153, 0.16246298044034752, 0.17418103200374263, 0.16047820463629053, 0.16987564894232418, 0.22013901601923574, 0.17765719045211772, 0.15724968585637536, 0.1837476579712169, 0.1669762200943314, 0.14559303887999883, 0.223804436550282, 0.1723610564033584, 0.15988084858301843, 0.19184379043555497, 0.16338006650457287, 0.18457831508747422, 0.158772345816735, 0.17298356288730507, 0.18885948228659016, 0.18655025457391644, 0.2145808203385608, 0.17275924759336037, 0.1734113342101031, 0.1598027656869133, 0.19630225902736778, 0.17488438776223966, 0.17271200737150588, 0.14898001719819437, 0.19663707528373983, 0.1722249406399113, 0.18044326520792328, 0.17841833106952137, 0.16662402200226736, 0.19100762018472842, 0.15951999048195262, 0.18658313627290254, 0.13719069057762032, 0.170475772849404, 0.15676162163219828, 0.16723555429737166, 0.1724762993283791, 0.158778372229916, 0.1834225088062853, 0.15627814962132142, 0.1624062553712047, 0.20796167496407386, 0.18617780904958744, 0.16705908102564293, 0.1477077538424199, 0.13392552283435766, 0.17156747160571637, 0.1472183082363393, 0.13970131390165574, 0.17822163382379136, 0.19279993524645814, 0.14595685161576413, 0.1652257257316372, 0.1824209200273646, 0.16280514532976811, 0.14023660506942484, 0.17041608964157576, 0.1818006010633884, 0.17136870132814538, 0.1637746234341423, 0.18303669974355413, 0.16276960148669706, 0.1743781306956074, 0.15453933253146634, 0.15396165419923197, 0.16315340457281263, 0.1265103646581716, 0.157076699456366, 0.18141460285918548, 0.14219344798291086, 0.1489929069239314, 0.19468710099411482, 0.17633024853940057, 0.15089658905964087, 0.18484275780691958, 0.1512253136180415, 0.15799155639539852, 0.1699940762897529, 0.1589122375491822, 0.1440877864266386, 0.17043664785895016, 0.15182187688527723, 0.14876938633399434, 0.13974196161374008, 0.21627858310642809, 0.14529503800786367, 0.15829537410547237, 0.15202701704041793, 0.1446977141912621, 0.17335458741624757, 0.14313954911609691, 0.14100431274659564, 0.1814589013557623, 0.1382368645160505, 0.14865476483165627, 0.13406400286620207, 0.18431508555860804, 0.15991672349743324, 0.16238328135839783, 0.13706834333958012, 0.17004549739384414, 0.1688710750624685, 0.18159918737883615, 0.1584257229720012, 0.18746096928520958, 0.17439101112656075, 0.1688429917586912, 0.15947245872846924, 0.17827372208680256, 0.19603605288090092, 0.1786348793176141, 0.15459882991738838, 0.1486067101728208, 0.17801692432696276, 0.1414722362072161, 0.16040468511014877, 0.1585453259620336, 0.14083125715208525, 0.1546553982661502, 0.15247985499330086, 0.17245463481043824, 0.1676871124470588, 0.17052196246562618, 0.16359113850215873, 0.17041653697148407, 0.14391923577773688, 0.1693705397077126, 0.17946134522409724, 0.17193968771117749], 'lr': [0.01, 0.01, 0.01, 0.01, 0.01, 0.01, 0.01, 0.01, 0.01, 0.01, 0.01, 0.01, 0.01, 0.01, 0.01, 0.01, 0.01, 0.01, 0.01, 0.01, 0.01, 0.01, 0.01, 0.01, 0.01, 0.01, 0.01, 0.01, 0.01, 0.01, 0.01, 0.01, 0.01, 0.01, 0.01, 0.01, 0.01, 0.01, 0.01, 0.01, 0.01, 0.01, 0.01, 0.01, 0.01, 0.01, 0.01, 0.01, 0.01, 0.01, 0.01, 0.01, 0.01, 0.01, 0.01, 0.01, 0.01, 0.01, 0.01, 0.01, 0.01, 0.01, 0.01, 0.01, 0.01, 0.01, 0.01, 0.01, 0.01, 0.01, 0.01, 0.01, 0.01, 0.01, 0.01, 0.01, 0.01, 0.01, 0.01, 0.01, 0.01, 0.01, 0.01, 0.01, 0.01, 0.01, 0.01, 0.01, 0.01, 0.01, 0.01, 0.01, 0.01, 0.01, 0.01, 0.01, 0.01, 0.01, 0.01, 0.01, 0.01, 0.01, 0.01, 0.01, 0.01, 0.01, 0.01, 0.01, 0.01, 0.01, 0.01, 0.01, 0.01, 0.01, 0.01, 0.01, 0.01, 0.01, 0.01, 0.01, 0.01, 0.01, 0.01, 0.01, 0.01, 0.01, 0.01, 0.01, 0.01, 0.01, 0.01, 0.01, 0.01, 0.01, 0.01, 0.01, 0.01, 0.01, 0.01, 0.01, 0.01, 0.01, 0.01, 0.01, 0.01, 0.01, 0.01, 0.01, 0.01, 0.01, 0.01, 0.01, 0.01, 0.01, 0.01, 0.01, 0.01, 0.01, 0.01, 0.01, 0.01, 0.01, 0.01, 0.01, 0.01, 0.01, 0.01, 0.01, 0.01, 0.01, 0.01, 0.01, 0.01, 0.01, 0.01, 0.01, 0.01, 0.01, 0.01, 0.01, 0.01, 0.01, 0.01, 0.01, 0.01, 0.01, 0.01, 0.01, 0.01, 0.01, 0.01, 0.01, 0.01, 0.01, 0.01, 0.01, 0.01, 0.01, 0.01, 0.01, 0.01, 0.01, 0.01, 0.01, 0.01, 0.01, 0.01, 0.01, 0.01, 0.01, 0.01, 0.01, 0.01, 0.01, 0.01, 0.01, 0.01, 0.01, 0.01, 0.01, 0.01, 0.01, 0.01, 0.01, 0.01, 0.01, 0.01, 0.01, 0.01, 0.01, 0.01, 0.01, 0.01, 0.01], 'train_mse': [1.1868240902128981, 1.9428126507704009, 0.5830164428301905, 0.4859154653177965, 0.39855992137656177, 0.39561279078979555, 0.46978810968593954, 0.323389304572074, 0.28790367099564074, 0.2684649598121533, 0.2403986894258422, 0.2348482847879437, 0.23842245598137604, 0.23320677456924388, 0.22447782478194805, 0.2717050829845583, 0.2140193193534051, 0.26053945506473014, 0.2195601779792864, 0.1894866493502455, 0.16636678453862508, 0.19798211095541293, 0.18223119568978213, 0.17573563537977976, 0.15788145868444656, 0.15275866351814132, 0.16242502355460195, 0.1646014351492992, 0.15706267685955466, 0.1473042663286592, 0.15780395605543704, 0.1376852410739631, 0.14240628422684418, 0.1385161530539683, 0.1410323877929196, 0.14358386935064663, 0.1449743587046844, 0.1476477296243636, 0.13846314252827982, 0.1359262037873381, 0.13943335555214023, 0.15524864978624023, 0.13791845774866784, 0.13473223068318532, 0.15398338032295078, 0.1332307028116937, 0.14455503357405608, 0.13413898676691008, 0.14163670316866595, 0.13356526996076237, 0.14031138175333138, 0.13495833636712126, 0.12765819894928507, 0.1338451426333154, 0.12689287484733108, 0.1263578192336827, 0.12337067616028563, 0.13338423854393242, 0.12988082603168075, 0.12791354658589563, 0.128098588328963, 0.1292616214932331, 0.15065932012249164, 0.1530318297032565, 0.14027196192409963, 0.14142044139266777, 0.14819828721420686, 0.13811978486276927, 0.1307623238105212, 0.13454196778631966, 0.13116330420092756, 0.13266078719058277, 0.15642084095941156, 0.13008228243330655, 0.12524376616656344, 0.12955916241340876, 0.12562153893341152, 0.13807842092389364, 0.1219376771497881, 0.14432175501569777, 0.1282968780416699, 0.12326068244305814, 0.12325563987414992, 0.11964644518321803, 0.12611019439987384, 0.12414280875427652, 0.1256360214441191, 0.13057836147423013, 0.1230191845363582, 0.11715899688052508, 0.11814385146196851, 0.113353905876582, 0.11494039311696112, 0.11433270282493004, 0.11494955057620884, 0.12211297599033903, 0.11751522302009863, 0.10987966956535503, 0.13600902201282147, 0.11910749969220939, 0.1305657560386921, 0.11716127609842232, 0.1228011020715821, 0.11673034394929117, 0.11339849571153027, 0.12777141294268002, 0.12007184538756507, 0.11597393905213566, 0.10998624094023726, 0.12367459952241591, 0.11386754180294316, 0.11790129732776658, 0.11968030997945787, 0.12283215544093148, 0.1218174551579978, 0.12525785928887037, 0.11826511847007357, 0.11179473750228464, 0.11228695528637056, 0.12247195832609842, 0.13091480884500206, 0.11626150827113474, 0.13060305458707, 0.1265565147755246, 0.119134371386193, 0.11971497114872334, 0.11792592336114893, 0.12124406108784755, 0.12416257137208685, 0.1311511724062057, 0.1137585651287427, 0.11530997152086649, 0.11622163528010847, 0.1287668089226207, 0.11007186059322085, 0.11367356723795005, 0.13273587438379628, 0.12007832326828763, 0.11415521005311446, 0.11355851193990889, 0.1159576801595172, 0.11035516664619663, 0.11310781000685591, 0.1154819273630684, 0.1255505229243411, 0.10838111203390341, 0.11433019877254053, 0.11557387816221384, 0.11233433928548979, 0.11178461242117588, 0.121591124903507, 0.11332008371135918, 0.12090747076399513, 0.112918657053239, 0.1094931720135297, 0.1138825040303809, 0.11672142226953877, 0.10884334235095265, 0.11378565364787133, 0.110097248952904, 0.12740556374266135, 0.1077511772599634, 0.11372226584990067, 0.10997487534368973, 0.11237045785022445, 0.1153375061630888, 0.10561204336665832, 0.11485158467007074, 0.11278789013629408, 0.10673958379113628, 0.10683150167352252, 0.1089619961381548, 0.11497260607043522, 0.10966914540772067, 0.11317845293757656, 0.1146207587816035, 0.11066996070941999, 0.12087075274071334, 0.10641630313802936, 0.11912237173809068, 0.1111628474380948, 0.11181155773248704, 0.10807884792187923, 0.10480816280213355, 0.10344061767540842, 0.10288043689746171, 0.1108889551012584, 0.10325647349986651, 0.10342159670217424, 0.10581358575296491, 0.11106412319811881, 0.10440371008113751, 0.10281558329719309, 0.1034390977137949, 0.10606924993135619, 0.10390706880112144, 0.10638435376246072, 0.10497608722968604, 0.11671387058439167, 0.11472976599862275, 0.11326926673167437, 0.11244513113847543, 0.11929507031824568, 0.10924670657119676, 0.10982311547308184, 0.12230008213124705, 0.1199903703345219, 0.12164074390353627, 0.11044172926493717, 0.12606104527524747, 0.10901206080049528, 0.10970788317186449, 0.123506977550248, 0.11824098980013292, 0.11499321380186156, 0.12403483450258361, 0.10885440882813453, 0.11004537315145507, 0.11485581867388138, 0.11086319096807583, 0.1171215179448273, 0.12168140391447593, 0.1062952360606859, 0.11177311753788435, 0.10919137869091515, 0.11381718290236618, 0.10668761267810169, 0.12858484096980058, 0.10525838311922323, 0.1367526581584479, 0.10851496038471482, 0.11633582151711842, 0.11003980599732081, 0.11387742127468858], 'train_mae': [0.8303223758678527, 0.7175706124309568, 0.5689088577197097, 0.4986462065210196, 0.45779376781398984, 0.4458403956327346, 0.49070548732481956, 0.4189622502942622, 0.39108873310894804, 0.38431580629292555, 0.3511695131003447, 0.3421159476523572, 0.3306268792596186, 0.3320266966331307, 0.32204509827725286, 0.37631699722535183, 0.3177831861662565, 0.34081341728994524, 0.325911177085686, 0.30750061946844853, 0.29006201643498475, 0.3126517722674786, 0.28556569021067213, 0.2802383556931441, 0.2729646054347686, 0.26926813281796397, 0.2700222789626716, 0.2751686693193268, 0.2672319752058686, 0.2550347893806177, 0.26707348920608326, 0.250447754537795, 0.25499790825966445, 0.24849725141581683, 0.250337517514044, 0.25463635232840376, 0.2500547570317361, 0.24991043531853252, 0.2492277811080705, 0.24377066363989217, 0.244814338720608, 0.26635109689921027, 0.24524242445592673, 0.244571786694496, 0.26346187776400587, 0.2483812944833384, 0.25677862408837815, 0.2479991081148482, 0.2533700251541519, 0.24591557957630458, 0.2534012118368365, 0.24909225660858825, 0.23824659604280557, 0.24822566732989898, 0.23671603365115704, 0.23836778794625654, 0.2374518701403904, 0.24661315910605008, 0.24387948667693693, 0.2415619301188969, 0.24034684195918976, 0.2362508754358859, 0.24898646864000212, 0.2523557445949755, 0.24663670413358166, 0.24508277417143726, 0.25073211153549174, 0.24954128222601024, 0.23789724268336437, 0.24455570494918813, 0.24669495877359213, 0.24382639624033184, 0.26756219767595113, 0.24155645177878698, 0.23263269763164704, 0.23476470625272408, 0.23376897189525403, 0.2518135387996812, 0.23102881194042352, 0.2581761538164217, 0.2407571548907549, 0.23451315813089876, 0.2395308028650809, 0.23200999563386668, 0.2424945223562133, 0.2340235248681461, 0.23399249384315338, 0.24123764551933205, 0.23550970759514173, 0.22067228585571672, 0.2283205542727448, 0.2159296734417111, 0.2218649315159847, 0.22646902479300704, 0.21929760376182672, 0.23573520549860386, 0.2247992040235664, 0.213435354395759, 0.2421838190024206, 0.22833982210273784, 0.236098120810251, 0.2206683619818403, 0.23014943594591541, 0.2249982465000857, 0.21500948864711966, 0.23665811657046648, 0.2221307356676218, 0.21537331279187563, 0.21047883086450325, 0.225914861642869, 0.21431280645517814, 0.22199388734631384, 0.22754105038908493, 0.23080809747374884, 0.22478015399736084, 0.23175813511392374, 0.22175841183116357, 0.21163525102724276, 0.21611998009680625, 0.22972099590427503, 0.24047728299190663, 0.22035748859084162, 0.23507047158995148, 0.23281960397283266, 0.22014776534345873, 0.22485857550685237, 0.2211276324982083, 0.2324291835764197, 0.22722635573065358, 0.23651368144904497, 0.21530164714417582, 0.21775309261318573, 0.21890462839808267, 0.23431774902876107, 0.2152050730389456, 0.21524157499697993, 0.23408361426347923, 0.22477065562757578, 0.21439003763478626, 0.22044287277231206, 0.22275564676420354, 0.2147054626190309, 0.21750781465353297, 0.21875375972280459, 0.232941738061212, 0.20986718969660484, 0.21792795632745532, 0.22192180256896715, 0.21714891845554476, 0.21590832534590543, 0.225292360597724, 0.21036882346660113, 0.2239550951131282, 0.21542551292843737, 0.2125856163173549, 0.21542595203871315, 0.217509585821976, 0.21267694680669758, 0.21926051921065104, 0.2159282357166956, 0.23472646053915905, 0.2128865393702573, 0.21807789012555595, 0.21704678223372417, 0.21729896365920354, 0.22220702878719523, 0.20935149026884114, 0.2213135521061503, 0.21610686670077936, 0.21347483853564772, 0.21063906618140982, 0.21252133562156506, 0.22388270605924995, 0.2191063044788941, 0.21798739624506364, 0.2183790888373769, 0.20845407321018547, 0.22762310607006206, 0.2059876809000347, 0.22439170309402984, 0.20729484834984951, 0.206553149769102, 0.20545000712105727, 0.20040894809026882, 0.20486546961232066, 0.20230998347706913, 0.21095817602698924, 0.20224750932029656, 0.20189430418968585, 0.21111022543354196, 0.21558386727880643, 0.20632215182889715, 0.2046755314409516, 0.20596130162065654, 0.20834129197847098, 0.2060223134391225, 0.2049414616780488, 0.20876935400582367, 0.22419293929951128, 0.2201377907842932, 0.211980594718201, 0.21345041270284493, 0.21733316877519743, 0.20997017227681422, 0.21082272024720558, 0.22683133314093648, 0.2218595010938711, 0.22895499069698957, 0.21262665522044144, 0.24133232632539994, 0.20740932037077497, 0.21438171529396216, 0.2283098359712766, 0.22644422554364219, 0.22108834974097602, 0.23448941959418573, 0.21168475353177807, 0.21574294661997645, 0.222438824573439, 0.21487218591654478, 0.22119480176559764, 0.2299370201231033, 0.20648559852565276, 0.2158402142481995, 0.21239712826718202, 0.21996101427253187, 0.21121966864127947, 0.23961588411900198, 0.20743763399956897, 0.2445364874719517, 0.21648408012129708, 0.2228737276007608, 0.21597172105290754, 0.21653123973801588]}\n"
     ]
    },
    {
     "data": {
      "application/scrapbook.scrap.json+json": {
       "data": 0.27276617528391217,
       "encoder": "json",
       "name": "TabNet MAE",
       "version": 1
      }
     },
     "metadata": {
      "scrapbook": {
       "data": true,
       "display": false,
       "name": "TabNet MAE"
      }
     },
     "output_type": "display_data"
    },
    {
     "name": "stdout",
     "output_type": "stream",
     "text": [
      "TabNet MAE 0.27276617528391217\n"
     ]
    },
    {
     "data": {
      "image/png": "[encoded data removed]",
      "text/plain": [
       "<Figure size 432x288 with 1 Axes>"
      ]
     },
     "metadata": {
      "needs_background": "light"
     },
     "output_type": "display_data"
    }
   ],
   "source": [
    "lr = 0.01\n",
    "\n",
    "y_train = np.reshape(y_train, (-1, 1))\n",
    "y_test = np.reshape(y_test, (-1, 1))\n",
    "\n",
    "device = torch.device('cuda' if torch.cuda.is_available() else 'cpu')\n",
    "mae_tab= baselineModels.tabnetreg(X_train,y_train,X_test,y_test,batch_size,n_features,n_target,n_epochs, lr)\n",
    "sb.glue(\"TabNet MAE\",mae_tab)\n",
    "print(\"TabNet MAE\",mae_tab)"
   ]
  }
 ],
 "metadata": {
  "kernelspec": {
   "display_name": "Python 3.7.3 64-bit",
   "language": "python",
   "name": "python3"
  },
  "language_info": {
   "codemirror_mode": {
    "name": "ipython",
    "version": 3
   },
   "file_extension": ".py",
   "mimetype": "text/x-python",
   "name": "python",
   "nbconvert_exporter": "python",
   "pygments_lexer": "ipython3",
   "version": "3.8.13"
  },
  "papermill": {
   "default_parameters": {},
   "duration": 124.955655,
   "end_time": "2022-07-21T10:29:41.752852",
   "environment_variables": {},
   "exception": null,
   "input_path": "BaselineModels.ipynb",
   "output_path": "./BaseLine_Model_Output/BaselineModels_output_5.ipynb",
   "parameters": {},
   "start_time": "2022-07-21T10:27:36.797197",
   "version": "2.3.3"
  },
  "vscode": {
   "interpreter": {
    "hash": "aee8b7b246df8f9039afb4144a1f6fd8d2ca17a180786b69acc140d282b71a49"
   }
  }
 },
 "nbformat": 4,
 "nbformat_minor": 5
}