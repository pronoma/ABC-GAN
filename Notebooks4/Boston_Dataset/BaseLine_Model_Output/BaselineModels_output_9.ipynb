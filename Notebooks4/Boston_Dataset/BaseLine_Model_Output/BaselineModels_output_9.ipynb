{
 "cells": [
  {
   "cell_type": "markdown",
   "id": "4683a008",
   "metadata": {
    "papermill": {
     "duration": 0.01145,
     "end_time": "2022-07-21T10:35:08.689103",
     "exception": false,
     "start_time": "2022-07-21T10:35:08.677653",
     "status": "completed"
    },
    "tags": []
   },
   "source": [
    "## Import Libraries "
   ]
  },
  {
   "cell_type": "code",
   "execution_count": 1,
   "id": "abec854d",
   "metadata": {
    "execution": {
     "iopub.execute_input": "2022-07-21T10:35:08.703315Z",
     "iopub.status.busy": "2022-07-21T10:35:08.702573Z",
     "iopub.status.idle": "2022-07-21T10:35:08.756728Z",
     "shell.execute_reply": "2022-07-21T10:35:08.755424Z"
    },
    "papermill": {
     "duration": 0.067012,
     "end_time": "2022-07-21T10:35:08.760318",
     "exception": false,
     "start_time": "2022-07-21T10:35:08.693306",
     "status": "completed"
    },
    "tags": []
   },
   "outputs": [],
   "source": [
    "import warnings\n",
    "import sys\n",
    "sys.path.insert(0, '../../src')\n",
    "warnings.filterwarnings('ignore')"
   ]
  },
  {
   "cell_type": "code",
   "execution_count": 2,
   "id": "d0977889",
   "metadata": {
    "execution": {
     "iopub.execute_input": "2022-07-21T10:35:08.771487Z",
     "iopub.status.busy": "2022-07-21T10:35:08.771071Z",
     "iopub.status.idle": "2022-07-21T10:35:18.003963Z",
     "shell.execute_reply": "2022-07-21T10:35:18.002591Z"
    },
    "papermill": {
     "duration": 9.242599,
     "end_time": "2022-07-21T10:35:18.007317",
     "exception": false,
     "start_time": "2022-07-21T10:35:08.764718",
     "status": "completed"
    },
    "tags": []
   },
   "outputs": [],
   "source": [
    "import statsModel\n",
    "import scrapbook as sb \n",
    "import torch \n",
    "import statsModel\n",
    "import baselineModels\n",
    "import bostonDataset\n",
    "import dataset \n",
    "from torch.utils.data import random_split \n",
    "from sklearn.model_selection import train_test_split\n",
    "import numpy as np\n",
    "from sklearn.metrics import mean_squared_error,mean_absolute_error "
   ]
  },
  {
   "cell_type": "markdown",
   "id": "48b32c30",
   "metadata": {
    "papermill": {
     "duration": 0.004513,
     "end_time": "2022-07-21T10:35:18.071108",
     "exception": false,
     "start_time": "2022-07-21T10:35:18.066595",
     "status": "completed"
    },
    "tags": []
   },
   "source": [
    "## Import Dataset \n"
   ]
  },
  {
   "cell_type": "code",
   "execution_count": 3,
   "id": "adbfb5d9",
   "metadata": {
    "execution": {
     "iopub.execute_input": "2022-07-21T10:35:18.086017Z",
     "iopub.status.busy": "2022-07-21T10:35:18.085520Z",
     "iopub.status.idle": "2022-07-21T10:35:18.164363Z",
     "shell.execute_reply": "2022-07-21T10:35:18.133184Z"
    },
    "papermill": {
     "duration": 0.113576,
     "end_time": "2022-07-21T10:35:18.189471",
     "exception": false,
     "start_time": "2022-07-21T10:35:18.075895",
     "status": "completed"
    },
    "tags": []
   },
   "outputs": [
    {
     "name": "stdout",
     "output_type": "stream",
     "text": [
      "         X1        X2        X3        X4        X5        X6        X7  \\\n",
      "0 -0.419782  0.284830 -1.287909 -0.272599 -0.144217  0.413672 -0.120013   \n",
      "1 -0.417339 -0.487722 -0.593381 -0.272599 -0.740262  0.194274  0.367166   \n",
      "2 -0.417342 -0.487722 -0.593381 -0.272599 -0.740262  1.282714 -0.265812   \n",
      "3 -0.416750 -0.487722 -1.306878 -0.272599 -0.835284  1.016303 -0.809889   \n",
      "4 -0.412482 -0.487722 -1.306878 -0.272599 -0.835284  1.228577 -0.511180   \n",
      "\n",
      "         X8        X9       X10       X11       X12       X13         Y  \n",
      "0  0.140214 -0.982843 -0.666608 -1.459000  0.441052 -1.075562  0.159686  \n",
      "1  0.557160 -0.867883 -0.987329 -0.303094  0.441052 -0.492439 -0.101524  \n",
      "2  0.557160 -0.867883 -0.987329 -0.303094  0.396427 -1.208727  1.324247  \n",
      "3  1.077737 -0.752922 -1.106115  0.113032  0.416163 -1.361517  1.182758  \n",
      "4  1.077737 -0.752922 -1.106115  0.113032  0.441052 -1.026501  1.487503  \n"
     ]
    }
   ],
   "source": [
    "n_features = 13\n",
    "n_samples= 506\n",
    "n_target = 1 \n",
    "X,Y = bostonDataset.boston_data()"
   ]
  },
  {
   "cell_type": "code",
   "execution_count": 4,
   "id": "68cd989c",
   "metadata": {
    "execution": {
     "iopub.execute_input": "2022-07-21T10:35:18.253674Z",
     "iopub.status.busy": "2022-07-21T10:35:18.253076Z",
     "iopub.status.idle": "2022-07-21T10:35:18.270201Z",
     "shell.execute_reply": "2022-07-21T10:35:18.263252Z"
    },
    "papermill": {
     "duration": 0.08543,
     "end_time": "2022-07-21T10:35:18.287861",
     "exception": false,
     "start_time": "2022-07-21T10:35:18.202431",
     "status": "completed"
    },
    "tags": []
   },
   "outputs": [],
   "source": [
    "# Train test split for dataset \n",
    "real_dataset = dataset.CustomDataset(X,Y)\n",
    "X_train, X_test, y_train, y_test = train_test_split(X, Y, test_size=0.2)"
   ]
  },
  {
   "cell_type": "markdown",
   "id": "2dc06722",
   "metadata": {
    "papermill": {
     "duration": 0.005999,
     "end_time": "2022-07-21T10:35:18.299636",
     "exception": false,
     "start_time": "2022-07-21T10:35:18.293637",
     "status": "completed"
    },
    "tags": []
   },
   "source": [
    "## Stats Model \n",
    "\n"
   ]
  },
  {
   "cell_type": "code",
   "execution_count": 5,
   "id": "1fb2801d",
   "metadata": {
    "execution": {
     "iopub.execute_input": "2022-07-21T10:35:18.322085Z",
     "iopub.status.busy": "2022-07-21T10:35:18.321674Z",
     "iopub.status.idle": "2022-07-21T10:35:18.731012Z",
     "shell.execute_reply": "2022-07-21T10:35:18.730090Z"
    },
    "papermill": {
     "duration": 0.427717,
     "end_time": "2022-07-21T10:35:18.733371",
     "exception": false,
     "start_time": "2022-07-21T10:35:18.305654",
     "status": "completed"
    },
    "tags": []
   },
   "outputs": [
    {
     "name": "stderr",
     "output_type": "stream",
     "text": [
      "No artists with labels found to put in legend.  Note that artists whose label start with an underscore are ignored when legend() is called with no argument.\n"
     ]
    },
    {
     "name": "stdout",
     "output_type": "stream",
     "text": [
      "                                 OLS Regression Results                                \n",
      "=======================================================================================\n",
      "Dep. Variable:                      y   R-squared (uncentered):                   0.743\n",
      "Model:                            OLS   Adj. R-squared (uncentered):              0.734\n",
      "Method:                 Least Squares   F-statistic:                              86.88\n",
      "Date:                Thu, 21 Jul 2022   Prob (F-statistic):                   1.49e-106\n",
      "Time:                        16:05:18   Log-Likelihood:                         -297.78\n",
      "No. Observations:                 404   AIC:                                      621.6\n",
      "Df Residuals:                     391   BIC:                                      673.6\n",
      "Df Model:                          13                                                  \n",
      "Covariance Type:            nonrobust                                                  \n",
      "==============================================================================\n",
      "                 coef    std err          t      P>|t|      [0.025      0.975]\n",
      "------------------------------------------------------------------------------\n",
      "x1            -0.0946      0.035     -2.676      0.008      -0.164      -0.025\n",
      "x2             0.1142      0.038      2.966      0.003       0.038       0.190\n",
      "x3             0.0075      0.051      0.148      0.883      -0.092       0.107\n",
      "x4            -0.0024      0.026     -0.094      0.925      -0.054       0.049\n",
      "x5            -0.2195      0.053     -4.165      0.000      -0.323      -0.116\n",
      "x6             0.2958      0.034      8.739      0.000       0.229       0.362\n",
      "x7            -0.0034      0.045     -0.076      0.939      -0.092       0.085\n",
      "x8            -0.3337      0.050     -6.618      0.000      -0.433      -0.235\n",
      "x9             0.3067      0.072      4.288      0.000       0.166       0.447\n",
      "x10           -0.2698      0.077     -3.513      0.000      -0.421      -0.119\n",
      "x11           -0.2561      0.035     -7.359      0.000      -0.325      -0.188\n",
      "x12            0.0868      0.029      2.965      0.003       0.029       0.144\n",
      "x13           -0.3772      0.043     -8.809      0.000      -0.461      -0.293\n",
      "==============================================================================\n",
      "Omnibus:                      136.482   Durbin-Watson:                   1.995\n",
      "Prob(Omnibus):                  0.000   Jarque-Bera (JB):              576.478\n",
      "Skew:                           1.431   Prob(JB):                    6.60e-126\n",
      "Kurtosis:                       8.104   Cond. No.                         9.87\n",
      "==============================================================================\n",
      "\n",
      "Notes:\n",
      "[1] R² is computed without centering (uncentered) since the model does not contain a constant.\n",
      "[2] Standard Errors assume that the covariance matrix of the errors is correctly specified.\n"
     ]
    },
    {
     "data": {
      "image/png": "[encoded data removed]",
      "text/plain": [
       "<Figure size 432x288 with 1 Axes>"
      ]
     },
     "metadata": {
      "needs_background": "light"
     },
     "output_type": "display_data"
    },
    {
     "name": "stdout",
     "output_type": "stream",
     "text": [
      "Performance Metrics\n",
      "Mean Squared Error: 0.31136398975473467\n",
      "Mean Absolute Error: 0.3533031057266751\n",
      "Manhattan distance: 36.03691678412087\n",
      "Euclidean distance: 5.6355236628890975\n"
     ]
    },
    {
     "data": {
      "application/scrapbook.scrap.json+json": {
       "data": 0.31136398975473467,
       "encoder": "json",
       "name": "Stats Model MSE",
       "version": 1
      }
     },
     "metadata": {
      "scrapbook": {
       "data": true,
       "display": false,
       "name": "Stats Model MSE"
      }
     },
     "output_type": "display_data"
    },
    {
     "data": {
      "application/scrapbook.scrap.json+json": {
       "data": 0.3533031057266751,
       "encoder": "json",
       "name": "Stats Model MAE",
       "version": 1
      }
     },
     "metadata": {
      "scrapbook": {
       "data": true,
       "display": false,
       "name": "Stats Model MAE"
      }
     },
     "output_type": "display_data"
    },
    {
     "data": {
      "application/scrapbook.scrap.json+json": {
       "data": 36.03691678412087,
       "encoder": "json",
       "name": "Stats Model Manhattan Distance",
       "version": 1
      }
     },
     "metadata": {
      "scrapbook": {
       "data": true,
       "display": false,
       "name": "Stats Model Manhattan Distance"
      }
     },
     "output_type": "display_data"
    },
    {
     "data": {
      "application/scrapbook.scrap.json+json": {
       "data": 5.6355236628890975,
       "encoder": "json",
       "name": "Stats Model Euclidean distance",
       "version": 1
      }
     },
     "metadata": {
      "scrapbook": {
       "data": true,
       "display": false,
       "name": "Stats Model Euclidean distance"
      }
     },
     "output_type": "display_data"
    },
    {
     "data": {
      "application/scrapbook.scrap.json+json": {
       "data": [
        -0.0946114902891669,
        0.11416645071735898,
        0.007470634102212926,
        -0.0024478860350232645,
        -0.21952580684332462,
        0.2957626610322132,
        -0.0034428856497334993,
        -0.33372865811051133,
        0.3067080287344048,
        -0.26980854420036215,
        -0.25613299419758884,
        0.08679957424185017,
        -0.3772094021501596
       ],
       "encoder": "json",
       "name": "Coefficients",
       "version": 1
      }
     },
     "metadata": {
      "scrapbook": {
       "data": true,
       "display": false,
       "name": "Coefficients"
      }
     },
     "output_type": "display_data"
    },
    {
     "name": "stdout",
     "output_type": "stream",
     "text": [
      "Stats Model MAE 0.3533031057266751\n"
     ]
    }
   ],
   "source": [
    "coefficients , y_pred =statsModel.statsModel(X_train,y_train,X_test,y_test)\n",
    "#Store MSE Value \n",
    "sb.glue(\"Coefficients\",coefficients)\n",
    "mae = mean_absolute_error(y_pred, y_test)\n",
    "print(\"Stats Model MAE\", mae)"
   ]
  },
  {
   "cell_type": "markdown",
   "id": "44ee65ed",
   "metadata": {
    "papermill": {
     "duration": 0.006454,
     "end_time": "2022-07-21T10:35:18.746965",
     "exception": false,
     "start_time": "2022-07-21T10:35:18.740511",
     "status": "completed"
    },
    "tags": []
   },
   "source": [
    "# Catboost Model "
   ]
  },
  {
   "cell_type": "code",
   "execution_count": 6,
   "id": "67236cbc",
   "metadata": {
    "execution": {
     "iopub.execute_input": "2022-07-21T10:35:18.762482Z",
     "iopub.status.busy": "2022-07-21T10:35:18.761942Z",
     "iopub.status.idle": "2022-07-21T10:35:21.097844Z",
     "shell.execute_reply": "2022-07-21T10:35:21.097076Z"
    },
    "papermill": {
     "duration": 2.347849,
     "end_time": "2022-07-21T10:35:21.100090",
     "exception": false,
     "start_time": "2022-07-21T10:35:18.752241",
     "status": "completed"
    },
    "tags": []
   },
   "outputs": [
    {
     "name": "stdout",
     "output_type": "stream",
     "text": [
      "Learning rate set to 0.03548\n",
      "0:\tlearn: 0.9750674\ttotal: 59.3ms\tremaining: 59.2s\n",
      "1:\tlearn: 0.9532090\ttotal: 66.1ms\tremaining: 33s\n",
      "2:\tlearn: 0.9319482\ttotal: 68.8ms\tremaining: 22.9s\n",
      "3:\tlearn: 0.9116834\ttotal: 70.6ms\tremaining: 17.6s\n",
      "4:\tlearn: 0.8927950\ttotal: 72.2ms\tremaining: 14.4s\n",
      "5:\tlearn: 0.8766542\ttotal: 73.9ms\tremaining: 12.2s\n",
      "6:\tlearn: 0.8579990\ttotal: 75.5ms\tremaining: 10.7s\n",
      "7:\tlearn: 0.8403450\ttotal: 77.1ms\tremaining: 9.56s\n",
      "8:\tlearn: 0.8238804\ttotal: 78.6ms\tremaining: 8.65s\n",
      "9:\tlearn: 0.8073582\ttotal: 83.4ms\tremaining: 8.26s\n",
      "10:\tlearn: 0.7902952\ttotal: 90.2ms\tremaining: 8.11s\n",
      "11:\tlearn: 0.7749071\ttotal: 93.5ms\tremaining: 7.7s\n",
      "12:\tlearn: 0.7588330\ttotal: 101ms\tremaining: 7.66s\n",
      "13:\tlearn: 0.7427422\ttotal: 103ms\tremaining: 7.23s\n",
      "14:\tlearn: 0.7298992\ttotal: 105ms\tremaining: 6.88s\n"
     ]
    },
    {
     "name": "stdout",
     "output_type": "stream",
     "text": [
      "15:\tlearn: 0.7150336\ttotal: 109ms\tremaining: 6.71s\n",
      "16:\tlearn: 0.7029684\ttotal: 111ms\tremaining: 6.44s\n",
      "17:\tlearn: 0.6906844\ttotal: 113ms\tremaining: 6.17s\n",
      "18:\tlearn: 0.6775237\ttotal: 115ms\tremaining: 5.93s\n",
      "19:\tlearn: 0.6648149\ttotal: 116ms\tremaining: 5.71s\n",
      "20:\tlearn: 0.6538941\ttotal: 118ms\tremaining: 5.5s\n",
      "21:\tlearn: 0.6434595\ttotal: 121ms\tremaining: 5.4s\n",
      "22:\tlearn: 0.6315338\ttotal: 124ms\tremaining: 5.26s\n",
      "23:\tlearn: 0.6214980\ttotal: 126ms\tremaining: 5.11s\n",
      "24:\tlearn: 0.6110814\ttotal: 127ms\tremaining: 4.97s\n",
      "25:\tlearn: 0.6019941\ttotal: 129ms\tremaining: 4.83s\n",
      "26:\tlearn: 0.5932244\ttotal: 131ms\tremaining: 4.7s\n",
      "27:\tlearn: 0.5834324\ttotal: 132ms\tremaining: 4.59s\n",
      "28:\tlearn: 0.5736212\ttotal: 134ms\tremaining: 4.48s\n",
      "29:\tlearn: 0.5638939\ttotal: 135ms\tremaining: 4.37s\n",
      "30:\tlearn: 0.5542341\ttotal: 137ms\tremaining: 4.28s\n"
     ]
    },
    {
     "name": "stdout",
     "output_type": "stream",
     "text": [
      "31:\tlearn: 0.5464758\ttotal: 139ms\tremaining: 4.2s\n",
      "32:\tlearn: 0.5398243\ttotal: 141ms\tremaining: 4.13s\n",
      "33:\tlearn: 0.5324782\ttotal: 142ms\tremaining: 4.04s\n",
      "34:\tlearn: 0.5249147\ttotal: 144ms\tremaining: 3.97s\n",
      "35:\tlearn: 0.5175791\ttotal: 145ms\tremaining: 3.89s\n",
      "36:\tlearn: 0.5107329\ttotal: 147ms\tremaining: 3.82s\n",
      "37:\tlearn: 0.5032967\ttotal: 148ms\tremaining: 3.75s\n",
      "38:\tlearn: 0.4968957\ttotal: 150ms\tremaining: 3.69s\n",
      "39:\tlearn: 0.4897338\ttotal: 151ms\tremaining: 3.62s\n",
      "40:\tlearn: 0.4837963\ttotal: 152ms\tremaining: 3.56s\n",
      "41:\tlearn: 0.4766413\ttotal: 154ms\tremaining: 3.51s\n",
      "42:\tlearn: 0.4723922\ttotal: 155ms\tremaining: 3.44s\n",
      "43:\tlearn: 0.4673058\ttotal: 156ms\tremaining: 3.39s\n",
      "44:\tlearn: 0.4621001\ttotal: 157ms\tremaining: 3.34s\n",
      "45:\tlearn: 0.4567761\ttotal: 159ms\tremaining: 3.29s\n",
      "46:\tlearn: 0.4520182\ttotal: 160ms\tremaining: 3.25s\n",
      "47:\tlearn: 0.4472657\ttotal: 162ms\tremaining: 3.2s\n",
      "48:\tlearn: 0.4430982\ttotal: 163ms\tremaining: 3.16s\n",
      "49:\tlearn: 0.4379695\ttotal: 164ms\tremaining: 3.12s\n",
      "50:\tlearn: 0.4335531\ttotal: 166ms\tremaining: 3.08s\n",
      "51:\tlearn: 0.4291694\ttotal: 167ms\tremaining: 3.04s\n",
      "52:\tlearn: 0.4246204\ttotal: 168ms\tremaining: 3s\n",
      "53:\tlearn: 0.4197068\ttotal: 169ms\tremaining: 2.97s\n",
      "54:\tlearn: 0.4158676\ttotal: 171ms\tremaining: 2.93s\n",
      "55:\tlearn: 0.4124055\ttotal: 172ms\tremaining: 2.9s\n",
      "56:\tlearn: 0.4073678\ttotal: 174ms\tremaining: 2.87s\n",
      "57:\tlearn: 0.4029717\ttotal: 175ms\tremaining: 2.84s\n",
      "58:\tlearn: 0.3998144\ttotal: 177ms\tremaining: 2.81s\n",
      "59:\tlearn: 0.3955380\ttotal: 178ms\tremaining: 2.78s\n",
      "60:\tlearn: 0.3919901\ttotal: 179ms\tremaining: 2.76s\n",
      "61:\tlearn: 0.3897293\ttotal: 181ms\tremaining: 2.73s\n"
     ]
    },
    {
     "name": "stdout",
     "output_type": "stream",
     "text": [
      "62:\tlearn: 0.3854496\ttotal: 182ms\tremaining: 2.71s\n",
      "63:\tlearn: 0.3823565\ttotal: 184ms\tremaining: 2.69s\n",
      "64:\tlearn: 0.3787716\ttotal: 185ms\tremaining: 2.66s\n",
      "65:\tlearn: 0.3754895\ttotal: 187ms\tremaining: 2.64s\n",
      "66:\tlearn: 0.3720594\ttotal: 188ms\tremaining: 2.62s\n",
      "67:\tlearn: 0.3691987\ttotal: 189ms\tremaining: 2.59s\n",
      "68:\tlearn: 0.3661110\ttotal: 191ms\tremaining: 2.57s\n",
      "69:\tlearn: 0.3624814\ttotal: 192ms\tremaining: 2.55s\n",
      "70:\tlearn: 0.3594462\ttotal: 193ms\tremaining: 2.53s\n",
      "71:\tlearn: 0.3561879\ttotal: 195ms\tremaining: 2.51s\n",
      "72:\tlearn: 0.3539706\ttotal: 196ms\tremaining: 2.48s\n",
      "73:\tlearn: 0.3519341\ttotal: 197ms\tremaining: 2.46s\n",
      "74:\tlearn: 0.3490830\ttotal: 198ms\tremaining: 2.44s\n",
      "75:\tlearn: 0.3464355\ttotal: 199ms\tremaining: 2.42s\n",
      "76:\tlearn: 0.3441334\ttotal: 201ms\tremaining: 2.4s\n",
      "77:\tlearn: 0.3417266\ttotal: 202ms\tremaining: 2.38s\n",
      "78:\tlearn: 0.3386629\ttotal: 203ms\tremaining: 2.37s\n",
      "79:\tlearn: 0.3364205\ttotal: 204ms\tremaining: 2.35s\n",
      "80:\tlearn: 0.3342885\ttotal: 205ms\tremaining: 2.33s\n",
      "81:\tlearn: 0.3320093\ttotal: 207ms\tremaining: 2.31s\n",
      "82:\tlearn: 0.3292401\ttotal: 208ms\tremaining: 2.3s\n",
      "83:\tlearn: 0.3274607\ttotal: 209ms\tremaining: 2.28s\n",
      "84:\tlearn: 0.3254403\ttotal: 211ms\tremaining: 2.27s\n",
      "85:\tlearn: 0.3230739\ttotal: 212ms\tremaining: 2.25s\n",
      "86:\tlearn: 0.3213361\ttotal: 213ms\tremaining: 2.24s\n",
      "87:\tlearn: 0.3190642\ttotal: 214ms\tremaining: 2.22s\n",
      "88:\tlearn: 0.3172992\ttotal: 216ms\tremaining: 2.21s\n",
      "89:\tlearn: 0.3157281\ttotal: 217ms\tremaining: 2.19s\n",
      "90:\tlearn: 0.3135442\ttotal: 219ms\tremaining: 2.18s\n",
      "91:\tlearn: 0.3121922\ttotal: 221ms\tremaining: 2.18s\n",
      "92:\tlearn: 0.3107998\ttotal: 222ms\tremaining: 2.16s\n",
      "93:\tlearn: 0.3091275\ttotal: 223ms\tremaining: 2.15s\n",
      "94:\tlearn: 0.3068678\ttotal: 224ms\tremaining: 2.13s\n",
      "95:\tlearn: 0.3057389\ttotal: 225ms\tremaining: 2.12s\n",
      "96:\tlearn: 0.3039939\ttotal: 227ms\tremaining: 2.11s\n",
      "97:\tlearn: 0.3026938\ttotal: 228ms\tremaining: 2.1s\n",
      "98:\tlearn: 0.3014435\ttotal: 233ms\tremaining: 2.12s\n",
      "99:\tlearn: 0.2996907\ttotal: 238ms\tremaining: 2.14s\n"
     ]
    },
    {
     "name": "stdout",
     "output_type": "stream",
     "text": [
      "100:\tlearn: 0.2979570\ttotal: 241ms\tremaining: 2.15s\n",
      "101:\tlearn: 0.2964263\ttotal: 244ms\tremaining: 2.15s\n",
      "102:\tlearn: 0.2953475\ttotal: 246ms\tremaining: 2.14s\n",
      "103:\tlearn: 0.2942112\ttotal: 249ms\tremaining: 2.14s\n",
      "104:\tlearn: 0.2928046\ttotal: 251ms\tremaining: 2.14s\n",
      "105:\tlearn: 0.2912975\ttotal: 253ms\tremaining: 2.14s\n",
      "106:\tlearn: 0.2896379\ttotal: 256ms\tremaining: 2.13s\n"
     ]
    },
    {
     "name": "stdout",
     "output_type": "stream",
     "text": [
      "107:\tlearn: 0.2891595\ttotal: 258ms\tremaining: 2.13s\n",
      "108:\tlearn: 0.2882494\ttotal: 260ms\tremaining: 2.13s\n",
      "109:\tlearn: 0.2876481\ttotal: 263ms\tremaining: 2.12s\n",
      "110:\tlearn: 0.2864887\ttotal: 265ms\tremaining: 2.12s\n",
      "111:\tlearn: 0.2853513\ttotal: 268ms\tremaining: 2.13s\n",
      "112:\tlearn: 0.2839359\ttotal: 271ms\tremaining: 2.13s\n",
      "113:\tlearn: 0.2825250\ttotal: 273ms\tremaining: 2.12s\n",
      "114:\tlearn: 0.2815372\ttotal: 274ms\tremaining: 2.11s\n",
      "115:\tlearn: 0.2807457\ttotal: 275ms\tremaining: 2.1s\n",
      "116:\tlearn: 0.2799020\ttotal: 277ms\tremaining: 2.09s\n",
      "117:\tlearn: 0.2783737\ttotal: 278ms\tremaining: 2.08s\n",
      "118:\tlearn: 0.2778255\ttotal: 279ms\tremaining: 2.07s\n",
      "119:\tlearn: 0.2771130\ttotal: 281ms\tremaining: 2.06s\n",
      "120:\tlearn: 0.2760246\ttotal: 282ms\tremaining: 2.05s\n",
      "121:\tlearn: 0.2754461\ttotal: 283ms\tremaining: 2.04s\n",
      "122:\tlearn: 0.2740150\ttotal: 284ms\tremaining: 2.03s\n",
      "123:\tlearn: 0.2728739\ttotal: 286ms\tremaining: 2.02s\n",
      "124:\tlearn: 0.2716473\ttotal: 287ms\tremaining: 2.01s\n",
      "125:\tlearn: 0.2707230\ttotal: 288ms\tremaining: 2s\n",
      "126:\tlearn: 0.2697399\ttotal: 290ms\tremaining: 1.99s\n",
      "127:\tlearn: 0.2685577\ttotal: 291ms\tremaining: 1.98s\n",
      "128:\tlearn: 0.2673950\ttotal: 293ms\tremaining: 1.98s\n",
      "129:\tlearn: 0.2665718\ttotal: 294ms\tremaining: 1.97s\n"
     ]
    },
    {
     "name": "stdout",
     "output_type": "stream",
     "text": [
      "130:\tlearn: 0.2656892\ttotal: 295ms\tremaining: 1.96s\n",
      "131:\tlearn: 0.2649580\ttotal: 297ms\tremaining: 1.95s\n",
      "132:\tlearn: 0.2638929\ttotal: 298ms\tremaining: 1.94s\n",
      "133:\tlearn: 0.2628291\ttotal: 299ms\tremaining: 1.94s\n",
      "134:\tlearn: 0.2615794\ttotal: 301ms\tremaining: 1.93s\n",
      "135:\tlearn: 0.2605615\ttotal: 302ms\tremaining: 1.92s\n",
      "136:\tlearn: 0.2596700\ttotal: 303ms\tremaining: 1.91s\n",
      "137:\tlearn: 0.2591353\ttotal: 304ms\tremaining: 1.9s\n",
      "138:\tlearn: 0.2585300\ttotal: 306ms\tremaining: 1.89s\n",
      "139:\tlearn: 0.2576467\ttotal: 307ms\tremaining: 1.88s\n",
      "140:\tlearn: 0.2569528\ttotal: 308ms\tremaining: 1.88s\n",
      "141:\tlearn: 0.2562584\ttotal: 309ms\tremaining: 1.87s\n",
      "142:\tlearn: 0.2551519\ttotal: 311ms\tremaining: 1.86s\n",
      "143:\tlearn: 0.2543947\ttotal: 312ms\tremaining: 1.85s\n",
      "144:\tlearn: 0.2534065\ttotal: 314ms\tremaining: 1.85s\n",
      "145:\tlearn: 0.2526393\ttotal: 319ms\tremaining: 1.86s\n",
      "146:\tlearn: 0.2516308\ttotal: 322ms\tremaining: 1.87s\n",
      "147:\tlearn: 0.2509963\ttotal: 324ms\tremaining: 1.86s\n",
      "148:\tlearn: 0.2500643\ttotal: 325ms\tremaining: 1.86s\n",
      "149:\tlearn: 0.2492225\ttotal: 329ms\tremaining: 1.86s\n",
      "150:\tlearn: 0.2489792\ttotal: 330ms\tremaining: 1.86s\n",
      "151:\tlearn: 0.2479256\ttotal: 332ms\tremaining: 1.85s\n",
      "152:\tlearn: 0.2469881\ttotal: 333ms\tremaining: 1.85s\n",
      "153:\tlearn: 0.2464106\ttotal: 336ms\tremaining: 1.84s\n",
      "154:\tlearn: 0.2456033\ttotal: 337ms\tremaining: 1.84s\n",
      "155:\tlearn: 0.2450734\ttotal: 339ms\tremaining: 1.83s\n",
      "156:\tlearn: 0.2443344\ttotal: 340ms\tremaining: 1.83s\n",
      "157:\tlearn: 0.2437770\ttotal: 343ms\tremaining: 1.82s\n",
      "158:\tlearn: 0.2427942\ttotal: 344ms\tremaining: 1.82s\n",
      "159:\tlearn: 0.2420921\ttotal: 346ms\tremaining: 1.81s\n",
      "160:\tlearn: 0.2417571\ttotal: 347ms\tremaining: 1.81s\n",
      "161:\tlearn: 0.2409754\ttotal: 349ms\tremaining: 1.8s\n",
      "162:\tlearn: 0.2404154\ttotal: 350ms\tremaining: 1.8s\n",
      "163:\tlearn: 0.2399091\ttotal: 352ms\tremaining: 1.79s\n",
      "164:\tlearn: 0.2389994\ttotal: 353ms\tremaining: 1.78s\n",
      "165:\tlearn: 0.2382459\ttotal: 354ms\tremaining: 1.78s\n",
      "166:\tlearn: 0.2375781\ttotal: 356ms\tremaining: 1.77s\n",
      "167:\tlearn: 0.2370668\ttotal: 357ms\tremaining: 1.77s\n",
      "168:\tlearn: 0.2364398\ttotal: 358ms\tremaining: 1.76s\n",
      "169:\tlearn: 0.2360646\ttotal: 361ms\tremaining: 1.76s\n",
      "170:\tlearn: 0.2354250\ttotal: 363ms\tremaining: 1.76s\n",
      "171:\tlearn: 0.2344912\ttotal: 364ms\tremaining: 1.75s\n",
      "172:\tlearn: 0.2337801\ttotal: 368ms\tremaining: 1.76s\n",
      "173:\tlearn: 0.2333743\ttotal: 370ms\tremaining: 1.76s\n",
      "174:\tlearn: 0.2327068\ttotal: 372ms\tremaining: 1.75s\n",
      "175:\tlearn: 0.2321106\ttotal: 373ms\tremaining: 1.75s\n",
      "176:\tlearn: 0.2313538\ttotal: 374ms\tremaining: 1.74s\n",
      "177:\tlearn: 0.2307090\ttotal: 376ms\tremaining: 1.73s\n",
      "178:\tlearn: 0.2297763\ttotal: 377ms\tremaining: 1.73s\n",
      "179:\tlearn: 0.2294488\ttotal: 378ms\tremaining: 1.72s\n",
      "180:\tlearn: 0.2285305\ttotal: 380ms\tremaining: 1.72s\n",
      "181:\tlearn: 0.2278206\ttotal: 381ms\tremaining: 1.71s\n",
      "182:\tlearn: 0.2276151\ttotal: 382ms\tremaining: 1.71s\n",
      "183:\tlearn: 0.2274537\ttotal: 383ms\tremaining: 1.7s\n",
      "184:\tlearn: 0.2272724\ttotal: 385ms\tremaining: 1.69s\n",
      "185:\tlearn: 0.2268619\ttotal: 386ms\tremaining: 1.69s\n",
      "186:\tlearn: 0.2263333\ttotal: 387ms\tremaining: 1.68s\n",
      "187:\tlearn: 0.2261273\ttotal: 388ms\tremaining: 1.68s\n",
      "188:\tlearn: 0.2253418\ttotal: 390ms\tremaining: 1.67s\n",
      "189:\tlearn: 0.2246370\ttotal: 391ms\tremaining: 1.67s\n",
      "190:\tlearn: 0.2237607\ttotal: 393ms\tremaining: 1.66s\n",
      "191:\tlearn: 0.2227994\ttotal: 394ms\tremaining: 1.66s\n",
      "192:\tlearn: 0.2221293\ttotal: 395ms\tremaining: 1.65s\n",
      "193:\tlearn: 0.2216826\ttotal: 404ms\tremaining: 1.68s\n",
      "194:\tlearn: 0.2210820\ttotal: 409ms\tremaining: 1.69s\n",
      "195:\tlearn: 0.2201784\ttotal: 419ms\tremaining: 1.72s\n"
     ]
    },
    {
     "name": "stdout",
     "output_type": "stream",
     "text": [
      "196:\tlearn: 0.2194324\ttotal: 422ms\tremaining: 1.72s\n",
      "197:\tlearn: 0.2190055\ttotal: 425ms\tremaining: 1.72s\n",
      "198:\tlearn: 0.2186696\ttotal: 426ms\tremaining: 1.72s\n",
      "199:\tlearn: 0.2179334\ttotal: 428ms\tremaining: 1.71s\n",
      "200:\tlearn: 0.2168113\ttotal: 429ms\tremaining: 1.71s\n",
      "201:\tlearn: 0.2166642\ttotal: 430ms\tremaining: 1.7s\n",
      "202:\tlearn: 0.2162154\ttotal: 432ms\tremaining: 1.7s\n",
      "203:\tlearn: 0.2158467\ttotal: 433ms\tremaining: 1.69s\n",
      "204:\tlearn: 0.2156451\ttotal: 435ms\tremaining: 1.69s\n"
     ]
    },
    {
     "name": "stdout",
     "output_type": "stream",
     "text": [
      "205:\tlearn: 0.2151170\ttotal: 436ms\tremaining: 1.68s\n",
      "206:\tlearn: 0.2143263\ttotal: 438ms\tremaining: 1.68s\n",
      "207:\tlearn: 0.2137845\ttotal: 440ms\tremaining: 1.67s\n",
      "208:\tlearn: 0.2133661\ttotal: 441ms\tremaining: 1.67s\n",
      "209:\tlearn: 0.2131572\ttotal: 442ms\tremaining: 1.66s\n",
      "210:\tlearn: 0.2128597\ttotal: 444ms\tremaining: 1.66s\n",
      "211:\tlearn: 0.2126980\ttotal: 447ms\tremaining: 1.66s\n",
      "212:\tlearn: 0.2119270\ttotal: 453ms\tremaining: 1.67s\n",
      "213:\tlearn: 0.2113155\ttotal: 458ms\tremaining: 1.68s\n",
      "214:\tlearn: 0.2110438\ttotal: 460ms\tremaining: 1.68s\n",
      "215:\tlearn: 0.2106736\ttotal: 463ms\tremaining: 1.68s\n",
      "216:\tlearn: 0.2104993\ttotal: 465ms\tremaining: 1.68s\n",
      "217:\tlearn: 0.2100823\ttotal: 468ms\tremaining: 1.68s\n",
      "218:\tlearn: 0.2095523\ttotal: 471ms\tremaining: 1.68s\n",
      "219:\tlearn: 0.2090308\ttotal: 474ms\tremaining: 1.68s\n",
      "220:\tlearn: 0.2084233\ttotal: 476ms\tremaining: 1.68s\n"
     ]
    },
    {
     "name": "stdout",
     "output_type": "stream",
     "text": [
      "221:\tlearn: 0.2078713\ttotal: 480ms\tremaining: 1.68s\n",
      "222:\tlearn: 0.2077812\ttotal: 482ms\tremaining: 1.68s\n",
      "223:\tlearn: 0.2073123\ttotal: 487ms\tremaining: 1.69s\n",
      "224:\tlearn: 0.2066023\ttotal: 490ms\tremaining: 1.69s\n",
      "225:\tlearn: 0.2063036\ttotal: 496ms\tremaining: 1.7s\n",
      "226:\tlearn: 0.2058587\ttotal: 498ms\tremaining: 1.7s\n",
      "227:\tlearn: 0.2051035\ttotal: 500ms\tremaining: 1.69s\n",
      "228:\tlearn: 0.2049080\ttotal: 502ms\tremaining: 1.69s\n",
      "229:\tlearn: 0.2047203\ttotal: 505ms\tremaining: 1.69s\n",
      "230:\tlearn: 0.2043545\ttotal: 507ms\tremaining: 1.69s\n",
      "231:\tlearn: 0.2039580\ttotal: 508ms\tremaining: 1.68s\n",
      "232:\tlearn: 0.2037621\ttotal: 509ms\tremaining: 1.68s\n",
      "233:\tlearn: 0.2035700\ttotal: 511ms\tremaining: 1.67s\n",
      "234:\tlearn: 0.2030230\ttotal: 512ms\tremaining: 1.67s\n",
      "235:\tlearn: 0.2023473\ttotal: 514ms\tremaining: 1.66s\n",
      "236:\tlearn: 0.2017855\ttotal: 515ms\tremaining: 1.66s\n",
      "237:\tlearn: 0.2016130\ttotal: 516ms\tremaining: 1.65s\n",
      "238:\tlearn: 0.2013942\ttotal: 518ms\tremaining: 1.65s\n",
      "239:\tlearn: 0.2008526\ttotal: 521ms\tremaining: 1.65s\n",
      "240:\tlearn: 0.2001993\ttotal: 522ms\tremaining: 1.65s\n",
      "241:\tlearn: 0.1995594\ttotal: 524ms\tremaining: 1.64s\n",
      "242:\tlearn: 0.1990608\ttotal: 526ms\tremaining: 1.64s\n",
      "243:\tlearn: 0.1984251\ttotal: 527ms\tremaining: 1.63s\n",
      "244:\tlearn: 0.1980987\ttotal: 529ms\tremaining: 1.63s\n",
      "245:\tlearn: 0.1979499\ttotal: 531ms\tremaining: 1.63s\n",
      "246:\tlearn: 0.1978629\ttotal: 532ms\tremaining: 1.62s\n",
      "247:\tlearn: 0.1977532\ttotal: 533ms\tremaining: 1.62s\n",
      "248:\tlearn: 0.1973341\ttotal: 535ms\tremaining: 1.61s\n",
      "249:\tlearn: 0.1968760\ttotal: 536ms\tremaining: 1.61s\n",
      "250:\tlearn: 0.1963000\ttotal: 537ms\tremaining: 1.6s\n",
      "251:\tlearn: 0.1957815\ttotal: 540ms\tremaining: 1.6s\n",
      "252:\tlearn: 0.1955042\ttotal: 542ms\tremaining: 1.6s\n",
      "253:\tlearn: 0.1951218\ttotal: 543ms\tremaining: 1.59s\n",
      "254:\tlearn: 0.1949763\ttotal: 545ms\tremaining: 1.59s\n",
      "255:\tlearn: 0.1947233\ttotal: 546ms\tremaining: 1.59s\n",
      "256:\tlearn: 0.1942051\ttotal: 548ms\tremaining: 1.58s\n",
      "257:\tlearn: 0.1935790\ttotal: 549ms\tremaining: 1.58s\n",
      "258:\tlearn: 0.1932842\ttotal: 550ms\tremaining: 1.57s\n",
      "259:\tlearn: 0.1928598\ttotal: 552ms\tremaining: 1.57s\n",
      "260:\tlearn: 0.1923500\ttotal: 554ms\tremaining: 1.57s\n",
      "261:\tlearn: 0.1918927\ttotal: 561ms\tremaining: 1.58s\n",
      "262:\tlearn: 0.1915007\ttotal: 564ms\tremaining: 1.58s\n",
      "263:\tlearn: 0.1910526\ttotal: 568ms\tremaining: 1.58s\n",
      "264:\tlearn: 0.1906615\ttotal: 576ms\tremaining: 1.6s\n",
      "265:\tlearn: 0.1903506\ttotal: 579ms\tremaining: 1.6s\n"
     ]
    },
    {
     "name": "stdout",
     "output_type": "stream",
     "text": [
      "266:\tlearn: 0.1901777\ttotal: 585ms\tremaining: 1.6s\n",
      "267:\tlearn: 0.1897522\ttotal: 588ms\tremaining: 1.61s\n",
      "268:\tlearn: 0.1893803\ttotal: 590ms\tremaining: 1.6s\n",
      "269:\tlearn: 0.1887870\ttotal: 592ms\tremaining: 1.6s\n",
      "270:\tlearn: 0.1882219\ttotal: 594ms\tremaining: 1.6s\n",
      "271:\tlearn: 0.1877898\ttotal: 596ms\tremaining: 1.59s\n"
     ]
    },
    {
     "name": "stdout",
     "output_type": "stream",
     "text": [
      "272:\tlearn: 0.1872418\ttotal: 597ms\tremaining: 1.59s\n",
      "273:\tlearn: 0.1867052\ttotal: 600ms\tremaining: 1.59s\n",
      "274:\tlearn: 0.1864410\ttotal: 604ms\tremaining: 1.59s\n",
      "275:\tlearn: 0.1858133\ttotal: 607ms\tremaining: 1.59s\n",
      "276:\tlearn: 0.1852546\ttotal: 610ms\tremaining: 1.59s\n",
      "277:\tlearn: 0.1848842\ttotal: 612ms\tremaining: 1.59s\n",
      "278:\tlearn: 0.1842891\ttotal: 614ms\tremaining: 1.59s\n",
      "279:\tlearn: 0.1836650\ttotal: 617ms\tremaining: 1.59s\n",
      "280:\tlearn: 0.1835946\ttotal: 623ms\tremaining: 1.59s\n",
      "281:\tlearn: 0.1835458\ttotal: 625ms\tremaining: 1.59s\n",
      "282:\tlearn: 0.1830649\ttotal: 627ms\tremaining: 1.59s\n",
      "283:\tlearn: 0.1827130\ttotal: 628ms\tremaining: 1.58s\n",
      "284:\tlearn: 0.1826520\ttotal: 630ms\tremaining: 1.58s\n",
      "285:\tlearn: 0.1820663\ttotal: 633ms\tremaining: 1.58s\n",
      "286:\tlearn: 0.1816409\ttotal: 635ms\tremaining: 1.58s\n",
      "287:\tlearn: 0.1810858\ttotal: 636ms\tremaining: 1.57s\n",
      "288:\tlearn: 0.1808929\ttotal: 638ms\tremaining: 1.57s\n"
     ]
    },
    {
     "name": "stdout",
     "output_type": "stream",
     "text": [
      "289:\tlearn: 0.1802810\ttotal: 640ms\tremaining: 1.57s\n",
      "290:\tlearn: 0.1798777\ttotal: 642ms\tremaining: 1.56s\n",
      "291:\tlearn: 0.1793979\ttotal: 644ms\tremaining: 1.56s\n",
      "292:\tlearn: 0.1790273\ttotal: 646ms\tremaining: 1.56s\n",
      "293:\tlearn: 0.1785007\ttotal: 648ms\tremaining: 1.55s\n",
      "294:\tlearn: 0.1779730\ttotal: 649ms\tremaining: 1.55s\n",
      "295:\tlearn: 0.1775208\ttotal: 656ms\tremaining: 1.56s\n",
      "296:\tlearn: 0.1771088\ttotal: 660ms\tremaining: 1.56s\n",
      "297:\tlearn: 0.1766484\ttotal: 662ms\tremaining: 1.56s\n",
      "298:\tlearn: 0.1765233\ttotal: 665ms\tremaining: 1.56s\n",
      "299:\tlearn: 0.1759224\ttotal: 668ms\tremaining: 1.56s\n",
      "300:\tlearn: 0.1755541\ttotal: 673ms\tremaining: 1.56s\n",
      "301:\tlearn: 0.1751494\ttotal: 675ms\tremaining: 1.56s\n",
      "302:\tlearn: 0.1747374\ttotal: 677ms\tremaining: 1.56s\n",
      "303:\tlearn: 0.1742282\ttotal: 678ms\tremaining: 1.55s\n",
      "304:\tlearn: 0.1736923\ttotal: 680ms\tremaining: 1.55s\n",
      "305:\tlearn: 0.1734374\ttotal: 681ms\tremaining: 1.54s\n",
      "306:\tlearn: 0.1731217\ttotal: 683ms\tremaining: 1.54s\n",
      "307:\tlearn: 0.1727531\ttotal: 686ms\tremaining: 1.54s\n",
      "308:\tlearn: 0.1724690\ttotal: 688ms\tremaining: 1.54s\n",
      "309:\tlearn: 0.1721067\ttotal: 691ms\tremaining: 1.54s\n",
      "310:\tlearn: 0.1716240\ttotal: 697ms\tremaining: 1.54s\n",
      "311:\tlearn: 0.1710667\ttotal: 700ms\tremaining: 1.54s\n",
      "312:\tlearn: 0.1706365\ttotal: 702ms\tremaining: 1.54s\n",
      "313:\tlearn: 0.1700656\ttotal: 705ms\tremaining: 1.54s\n",
      "314:\tlearn: 0.1696528\ttotal: 707ms\tremaining: 1.54s\n",
      "315:\tlearn: 0.1691137\ttotal: 710ms\tremaining: 1.54s\n",
      "316:\tlearn: 0.1686338\ttotal: 712ms\tremaining: 1.53s\n",
      "317:\tlearn: 0.1681759\ttotal: 715ms\tremaining: 1.53s\n",
      "318:\tlearn: 0.1678560\ttotal: 716ms\tremaining: 1.53s\n",
      "319:\tlearn: 0.1674078\ttotal: 718ms\tremaining: 1.52s\n",
      "320:\tlearn: 0.1670087\ttotal: 719ms\tremaining: 1.52s\n",
      "321:\tlearn: 0.1667972\ttotal: 723ms\tremaining: 1.52s\n",
      "322:\tlearn: 0.1663054\ttotal: 726ms\tremaining: 1.52s\n",
      "323:\tlearn: 0.1662413\ttotal: 729ms\tremaining: 1.52s\n",
      "324:\tlearn: 0.1657912\ttotal: 738ms\tremaining: 1.53s\n",
      "325:\tlearn: 0.1652806\ttotal: 742ms\tremaining: 1.53s\n",
      "326:\tlearn: 0.1648631\ttotal: 744ms\tremaining: 1.53s\n",
      "327:\tlearn: 0.1645486\ttotal: 746ms\tremaining: 1.53s\n",
      "328:\tlearn: 0.1642786\ttotal: 747ms\tremaining: 1.52s\n",
      "329:\tlearn: 0.1638138\ttotal: 749ms\tremaining: 1.52s\n",
      "330:\tlearn: 0.1634561\ttotal: 750ms\tremaining: 1.52s\n",
      "331:\tlearn: 0.1629801\ttotal: 752ms\tremaining: 1.51s\n"
     ]
    },
    {
     "name": "stdout",
     "output_type": "stream",
     "text": [
      "332:\tlearn: 0.1629104\ttotal: 753ms\tremaining: 1.51s\n",
      "333:\tlearn: 0.1628710\ttotal: 755ms\tremaining: 1.5s\n",
      "334:\tlearn: 0.1625043\ttotal: 757ms\tremaining: 1.5s\n",
      "335:\tlearn: 0.1619033\ttotal: 758ms\tremaining: 1.5s\n",
      "336:\tlearn: 0.1614558\ttotal: 759ms\tremaining: 1.49s\n",
      "337:\tlearn: 0.1610804\ttotal: 760ms\tremaining: 1.49s\n",
      "338:\tlearn: 0.1605258\ttotal: 762ms\tremaining: 1.49s\n",
      "339:\tlearn: 0.1602854\ttotal: 763ms\tremaining: 1.48s\n",
      "340:\tlearn: 0.1600253\ttotal: 765ms\tremaining: 1.48s\n"
     ]
    },
    {
     "name": "stdout",
     "output_type": "stream",
     "text": [
      "341:\tlearn: 0.1597128\ttotal: 769ms\tremaining: 1.48s\n",
      "342:\tlearn: 0.1593160\ttotal: 772ms\tremaining: 1.48s\n",
      "343:\tlearn: 0.1589536\ttotal: 773ms\tremaining: 1.47s\n",
      "344:\tlearn: 0.1585873\ttotal: 776ms\tremaining: 1.47s\n",
      "345:\tlearn: 0.1581244\ttotal: 783ms\tremaining: 1.48s\n",
      "346:\tlearn: 0.1577826\ttotal: 784ms\tremaining: 1.48s\n",
      "347:\tlearn: 0.1573665\ttotal: 786ms\tremaining: 1.47s\n",
      "348:\tlearn: 0.1572766\ttotal: 788ms\tremaining: 1.47s\n",
      "349:\tlearn: 0.1568909\ttotal: 790ms\tremaining: 1.47s\n",
      "350:\tlearn: 0.1566520\ttotal: 792ms\tremaining: 1.46s\n",
      "351:\tlearn: 0.1562260\ttotal: 793ms\tremaining: 1.46s\n",
      "352:\tlearn: 0.1559058\ttotal: 795ms\tremaining: 1.46s\n",
      "353:\tlearn: 0.1554253\ttotal: 796ms\tremaining: 1.45s\n",
      "354:\tlearn: 0.1549762\ttotal: 798ms\tremaining: 1.45s\n",
      "355:\tlearn: 0.1545592\ttotal: 799ms\tremaining: 1.45s\n",
      "356:\tlearn: 0.1540860\ttotal: 800ms\tremaining: 1.44s\n",
      "357:\tlearn: 0.1538624\ttotal: 802ms\tremaining: 1.44s\n",
      "358:\tlearn: 0.1535067\ttotal: 803ms\tremaining: 1.43s\n",
      "359:\tlearn: 0.1532420\ttotal: 804ms\tremaining: 1.43s\n",
      "360:\tlearn: 0.1528951\ttotal: 806ms\tremaining: 1.43s\n",
      "361:\tlearn: 0.1523091\ttotal: 807ms\tremaining: 1.42s\n",
      "362:\tlearn: 0.1519925\ttotal: 808ms\tremaining: 1.42s\n"
     ]
    },
    {
     "name": "stdout",
     "output_type": "stream",
     "text": [
      "363:\tlearn: 0.1517777\ttotal: 810ms\tremaining: 1.42s\n",
      "364:\tlearn: 0.1513658\ttotal: 812ms\tremaining: 1.41s\n",
      "365:\tlearn: 0.1510144\ttotal: 819ms\tremaining: 1.42s\n",
      "366:\tlearn: 0.1507272\ttotal: 822ms\tremaining: 1.42s\n",
      "367:\tlearn: 0.1504902\ttotal: 824ms\tremaining: 1.41s\n",
      "368:\tlearn: 0.1503368\ttotal: 825ms\tremaining: 1.41s\n",
      "369:\tlearn: 0.1500060\ttotal: 827ms\tremaining: 1.41s\n",
      "370:\tlearn: 0.1495972\ttotal: 828ms\tremaining: 1.4s\n",
      "371:\tlearn: 0.1495436\ttotal: 829ms\tremaining: 1.4s\n",
      "372:\tlearn: 0.1492344\ttotal: 831ms\tremaining: 1.4s\n",
      "373:\tlearn: 0.1489522\ttotal: 833ms\tremaining: 1.39s\n",
      "374:\tlearn: 0.1486289\ttotal: 835ms\tremaining: 1.39s\n",
      "375:\tlearn: 0.1484033\ttotal: 837ms\tremaining: 1.39s\n",
      "376:\tlearn: 0.1481448\ttotal: 838ms\tremaining: 1.39s\n",
      "377:\tlearn: 0.1477344\ttotal: 840ms\tremaining: 1.38s\n",
      "378:\tlearn: 0.1475097\ttotal: 842ms\tremaining: 1.38s\n",
      "379:\tlearn: 0.1472241\ttotal: 843ms\tremaining: 1.38s\n",
      "380:\tlearn: 0.1468118\ttotal: 845ms\tremaining: 1.37s\n",
      "381:\tlearn: 0.1464576\ttotal: 846ms\tremaining: 1.37s\n",
      "382:\tlearn: 0.1461026\ttotal: 847ms\tremaining: 1.36s\n",
      "383:\tlearn: 0.1458872\ttotal: 849ms\tremaining: 1.36s\n",
      "384:\tlearn: 0.1455733\ttotal: 850ms\tremaining: 1.36s\n",
      "385:\tlearn: 0.1452947\ttotal: 852ms\tremaining: 1.35s\n",
      "386:\tlearn: 0.1450547\ttotal: 853ms\tremaining: 1.35s\n",
      "387:\tlearn: 0.1445881\ttotal: 854ms\tremaining: 1.35s\n",
      "388:\tlearn: 0.1442605\ttotal: 855ms\tremaining: 1.34s\n",
      "389:\tlearn: 0.1440116\ttotal: 857ms\tremaining: 1.34s\n",
      "390:\tlearn: 0.1437233\ttotal: 858ms\tremaining: 1.34s\n",
      "391:\tlearn: 0.1433773\ttotal: 860ms\tremaining: 1.33s\n",
      "392:\tlearn: 0.1431190\ttotal: 861ms\tremaining: 1.33s\n",
      "393:\tlearn: 0.1430101\ttotal: 865ms\tremaining: 1.33s\n",
      "394:\tlearn: 0.1428262\ttotal: 866ms\tremaining: 1.33s\n",
      "395:\tlearn: 0.1425926\ttotal: 867ms\tremaining: 1.32s\n",
      "396:\tlearn: 0.1425361\ttotal: 868ms\tremaining: 1.32s\n",
      "397:\tlearn: 0.1422625\ttotal: 870ms\tremaining: 1.31s\n",
      "398:\tlearn: 0.1422258\ttotal: 871ms\tremaining: 1.31s\n",
      "399:\tlearn: 0.1419696\ttotal: 872ms\tremaining: 1.31s\n",
      "400:\tlearn: 0.1419417\ttotal: 873ms\tremaining: 1.3s\n",
      "401:\tlearn: 0.1415104\ttotal: 874ms\tremaining: 1.3s\n",
      "402:\tlearn: 0.1411058\ttotal: 876ms\tremaining: 1.3s\n",
      "403:\tlearn: 0.1406669\ttotal: 877ms\tremaining: 1.29s\n",
      "404:\tlearn: 0.1402903\ttotal: 878ms\tremaining: 1.29s\n",
      "405:\tlearn: 0.1400429\ttotal: 879ms\tremaining: 1.29s\n",
      "406:\tlearn: 0.1396736\ttotal: 881ms\tremaining: 1.28s\n",
      "407:\tlearn: 0.1394326\ttotal: 882ms\tremaining: 1.28s\n",
      "408:\tlearn: 0.1391364\ttotal: 884ms\tremaining: 1.28s\n",
      "409:\tlearn: 0.1388078\ttotal: 889ms\tremaining: 1.28s\n",
      "410:\tlearn: 0.1387009\ttotal: 892ms\tremaining: 1.28s\n",
      "411:\tlearn: 0.1385423\ttotal: 894ms\tremaining: 1.27s\n",
      "412:\tlearn: 0.1380722\ttotal: 898ms\tremaining: 1.27s\n",
      "413:\tlearn: 0.1379479\ttotal: 900ms\tremaining: 1.27s\n",
      "414:\tlearn: 0.1376365\ttotal: 901ms\tremaining: 1.27s\n",
      "415:\tlearn: 0.1373248\ttotal: 903ms\tremaining: 1.27s\n",
      "416:\tlearn: 0.1370804\ttotal: 904ms\tremaining: 1.26s\n",
      "417:\tlearn: 0.1365995\ttotal: 906ms\tremaining: 1.26s\n",
      "418:\tlearn: 0.1365099\ttotal: 907ms\tremaining: 1.26s\n",
      "419:\tlearn: 0.1363533\ttotal: 909ms\tremaining: 1.25s\n",
      "420:\tlearn: 0.1359550\ttotal: 910ms\tremaining: 1.25s\n",
      "421:\tlearn: 0.1356910\ttotal: 912ms\tremaining: 1.25s\n",
      "422:\tlearn: 0.1353597\ttotal: 913ms\tremaining: 1.25s\n",
      "423:\tlearn: 0.1353258\ttotal: 915ms\tremaining: 1.24s\n",
      "424:\tlearn: 0.1350802\ttotal: 917ms\tremaining: 1.24s\n",
      "425:\tlearn: 0.1348105\ttotal: 918ms\tremaining: 1.24s\n",
      "426:\tlearn: 0.1346742\ttotal: 920ms\tremaining: 1.23s\n",
      "427:\tlearn: 0.1345261\ttotal: 922ms\tremaining: 1.23s\n",
      "428:\tlearn: 0.1342907\ttotal: 923ms\tremaining: 1.23s\n",
      "429:\tlearn: 0.1339056\ttotal: 924ms\tremaining: 1.23s\n",
      "430:\tlearn: 0.1337926\ttotal: 926ms\tremaining: 1.22s\n",
      "431:\tlearn: 0.1336465\ttotal: 927ms\tremaining: 1.22s\n",
      "432:\tlearn: 0.1333841\ttotal: 928ms\tremaining: 1.22s\n"
     ]
    },
    {
     "name": "stdout",
     "output_type": "stream",
     "text": [
      "433:\tlearn: 0.1331082\ttotal: 933ms\tremaining: 1.22s\n",
      "434:\tlearn: 0.1328182\ttotal: 934ms\tremaining: 1.21s\n",
      "435:\tlearn: 0.1325697\ttotal: 935ms\tremaining: 1.21s\n",
      "436:\tlearn: 0.1323277\ttotal: 937ms\tremaining: 1.21s\n",
      "437:\tlearn: 0.1319733\ttotal: 938ms\tremaining: 1.2s\n",
      "438:\tlearn: 0.1317354\ttotal: 940ms\tremaining: 1.2s\n",
      "439:\tlearn: 0.1313883\ttotal: 941ms\tremaining: 1.2s\n",
      "440:\tlearn: 0.1309886\ttotal: 943ms\tremaining: 1.19s\n",
      "441:\tlearn: 0.1309665\ttotal: 944ms\tremaining: 1.19s\n",
      "442:\tlearn: 0.1306932\ttotal: 945ms\tremaining: 1.19s\n"
     ]
    },
    {
     "name": "stdout",
     "output_type": "stream",
     "text": [
      "443:\tlearn: 0.1305051\ttotal: 948ms\tremaining: 1.19s\n",
      "444:\tlearn: 0.1304813\ttotal: 949ms\tremaining: 1.18s\n",
      "445:\tlearn: 0.1301778\ttotal: 950ms\tremaining: 1.18s\n",
      "446:\tlearn: 0.1297821\ttotal: 952ms\tremaining: 1.18s\n",
      "447:\tlearn: 0.1296674\ttotal: 953ms\tremaining: 1.17s\n",
      "448:\tlearn: 0.1294396\ttotal: 954ms\tremaining: 1.17s\n",
      "449:\tlearn: 0.1292228\ttotal: 956ms\tremaining: 1.17s\n",
      "450:\tlearn: 0.1289817\ttotal: 957ms\tremaining: 1.17s\n",
      "451:\tlearn: 0.1288277\ttotal: 959ms\tremaining: 1.16s\n",
      "452:\tlearn: 0.1285815\ttotal: 960ms\tremaining: 1.16s\n",
      "453:\tlearn: 0.1282993\ttotal: 961ms\tremaining: 1.16s\n",
      "454:\tlearn: 0.1281785\ttotal: 963ms\tremaining: 1.15s\n",
      "455:\tlearn: 0.1279681\ttotal: 964ms\tremaining: 1.15s\n",
      "456:\tlearn: 0.1278040\ttotal: 965ms\tremaining: 1.15s\n",
      "457:\tlearn: 0.1277552\ttotal: 967ms\tremaining: 1.14s\n",
      "458:\tlearn: 0.1275647\ttotal: 968ms\tremaining: 1.14s\n",
      "459:\tlearn: 0.1273914\ttotal: 970ms\tremaining: 1.14s\n",
      "460:\tlearn: 0.1270488\ttotal: 971ms\tremaining: 1.14s\n",
      "461:\tlearn: 0.1268402\ttotal: 973ms\tremaining: 1.13s\n",
      "462:\tlearn: 0.1266543\ttotal: 974ms\tremaining: 1.13s\n",
      "463:\tlearn: 0.1263773\ttotal: 976ms\tremaining: 1.13s\n",
      "464:\tlearn: 0.1262767\ttotal: 978ms\tremaining: 1.12s\n",
      "465:\tlearn: 0.1261101\ttotal: 979ms\tremaining: 1.12s\n",
      "466:\tlearn: 0.1258529\ttotal: 980ms\tremaining: 1.12s\n",
      "467:\tlearn: 0.1256945\ttotal: 982ms\tremaining: 1.12s\n",
      "468:\tlearn: 0.1253232\ttotal: 983ms\tremaining: 1.11s\n",
      "469:\tlearn: 0.1252868\ttotal: 985ms\tremaining: 1.11s\n",
      "470:\tlearn: 0.1250712\ttotal: 986ms\tremaining: 1.11s\n"
     ]
    },
    {
     "name": "stdout",
     "output_type": "stream",
     "text": [
      "471:\tlearn: 0.1247565\ttotal: 988ms\tremaining: 1.1s\n",
      "472:\tlearn: 0.1245454\ttotal: 990ms\tremaining: 1.1s\n",
      "473:\tlearn: 0.1241685\ttotal: 991ms\tremaining: 1.1s\n",
      "474:\tlearn: 0.1238809\ttotal: 993ms\tremaining: 1.1s\n",
      "475:\tlearn: 0.1235632\ttotal: 994ms\tremaining: 1.09s\n",
      "476:\tlearn: 0.1232495\ttotal: 996ms\tremaining: 1.09s\n",
      "477:\tlearn: 0.1230154\ttotal: 997ms\tremaining: 1.09s\n",
      "478:\tlearn: 0.1229742\ttotal: 998ms\tremaining: 1.08s\n",
      "479:\tlearn: 0.1227733\ttotal: 1000ms\tremaining: 1.08s\n",
      "480:\tlearn: 0.1227371\ttotal: 1s\tremaining: 1.08s\n",
      "481:\tlearn: 0.1224607\ttotal: 1s\tremaining: 1.08s\n",
      "482:\tlearn: 0.1221067\ttotal: 1s\tremaining: 1.07s\n",
      "483:\tlearn: 0.1219431\ttotal: 1s\tremaining: 1.07s\n",
      "484:\tlearn: 0.1216473\ttotal: 1.01s\tremaining: 1.07s\n",
      "485:\tlearn: 0.1213851\ttotal: 1.01s\tremaining: 1.07s\n",
      "486:\tlearn: 0.1210974\ttotal: 1.01s\tremaining: 1.06s\n",
      "487:\tlearn: 0.1208943\ttotal: 1.01s\tremaining: 1.06s\n",
      "488:\tlearn: 0.1205387\ttotal: 1.01s\tremaining: 1.06s\n",
      "489:\tlearn: 0.1203479\ttotal: 1.01s\tremaining: 1.06s\n",
      "490:\tlearn: 0.1202898\ttotal: 1.02s\tremaining: 1.06s\n",
      "491:\tlearn: 0.1200475\ttotal: 1.02s\tremaining: 1.05s\n",
      "492:\tlearn: 0.1197648\ttotal: 1.02s\tremaining: 1.05s\n",
      "493:\tlearn: 0.1196131\ttotal: 1.02s\tremaining: 1.05s\n",
      "494:\tlearn: 0.1194101\ttotal: 1.03s\tremaining: 1.05s\n",
      "495:\tlearn: 0.1192982\ttotal: 1.03s\tremaining: 1.05s\n",
      "496:\tlearn: 0.1190840\ttotal: 1.04s\tremaining: 1.05s\n",
      "497:\tlearn: 0.1189716\ttotal: 1.04s\tremaining: 1.05s\n",
      "498:\tlearn: 0.1187834\ttotal: 1.04s\tremaining: 1.05s\n",
      "499:\tlearn: 0.1185851\ttotal: 1.04s\tremaining: 1.04s\n",
      "500:\tlearn: 0.1183382\ttotal: 1.04s\tremaining: 1.04s\n",
      "501:\tlearn: 0.1179538\ttotal: 1.05s\tremaining: 1.04s\n",
      "502:\tlearn: 0.1177033\ttotal: 1.05s\tremaining: 1.04s\n",
      "503:\tlearn: 0.1176153\ttotal: 1.05s\tremaining: 1.03s\n",
      "504:\tlearn: 0.1174160\ttotal: 1.05s\tremaining: 1.03s\n",
      "505:\tlearn: 0.1172545\ttotal: 1.05s\tremaining: 1.03s\n",
      "506:\tlearn: 0.1170179\ttotal: 1.05s\tremaining: 1.02s\n",
      "507:\tlearn: 0.1168517\ttotal: 1.06s\tremaining: 1.02s\n",
      "508:\tlearn: 0.1166111\ttotal: 1.06s\tremaining: 1.02s\n",
      "509:\tlearn: 0.1164708\ttotal: 1.06s\tremaining: 1.02s\n",
      "510:\tlearn: 0.1163729\ttotal: 1.06s\tremaining: 1.01s\n",
      "511:\tlearn: 0.1162618\ttotal: 1.06s\tremaining: 1.01s\n",
      "512:\tlearn: 0.1160532\ttotal: 1.06s\tremaining: 1.01s\n",
      "513:\tlearn: 0.1160225\ttotal: 1.07s\tremaining: 1.01s\n",
      "514:\tlearn: 0.1158095\ttotal: 1.07s\tremaining: 1.01s\n",
      "515:\tlearn: 0.1155931\ttotal: 1.07s\tremaining: 1.01s\n",
      "516:\tlearn: 0.1153356\ttotal: 1.08s\tremaining: 1s\n",
      "517:\tlearn: 0.1152458\ttotal: 1.08s\tremaining: 1s\n",
      "518:\tlearn: 0.1150600\ttotal: 1.08s\tremaining: 1s\n",
      "519:\tlearn: 0.1149191\ttotal: 1.08s\tremaining: 999ms\n",
      "520:\tlearn: 0.1147421\ttotal: 1.08s\tremaining: 996ms\n",
      "521:\tlearn: 0.1145522\ttotal: 1.08s\tremaining: 994ms\n",
      "522:\tlearn: 0.1143275\ttotal: 1.09s\tremaining: 993ms\n",
      "523:\tlearn: 0.1140851\ttotal: 1.09s\tremaining: 990ms\n",
      "524:\tlearn: 0.1140578\ttotal: 1.09s\tremaining: 987ms\n",
      "525:\tlearn: 0.1138131\ttotal: 1.09s\tremaining: 985ms\n",
      "526:\tlearn: 0.1136123\ttotal: 1.09s\tremaining: 982ms\n",
      "527:\tlearn: 0.1133493\ttotal: 1.1s\tremaining: 981ms\n",
      "528:\tlearn: 0.1131214\ttotal: 1.1s\tremaining: 978ms\n",
      "529:\tlearn: 0.1128277\ttotal: 1.1s\tremaining: 975ms\n",
      "530:\tlearn: 0.1125454\ttotal: 1.1s\tremaining: 974ms\n",
      "531:\tlearn: 0.1123797\ttotal: 1.1s\tremaining: 972ms\n",
      "532:\tlearn: 0.1121037\ttotal: 1.1s\tremaining: 969ms\n",
      "533:\tlearn: 0.1119629\ttotal: 1.11s\tremaining: 966ms\n",
      "534:\tlearn: 0.1116959\ttotal: 1.11s\tremaining: 964ms\n"
     ]
    },
    {
     "name": "stdout",
     "output_type": "stream",
     "text": [
      "535:\tlearn: 0.1115178\ttotal: 1.11s\tremaining: 963ms\n",
      "536:\tlearn: 0.1113579\ttotal: 1.11s\tremaining: 961ms\n",
      "537:\tlearn: 0.1111576\ttotal: 1.12s\tremaining: 960ms\n",
      "538:\tlearn: 0.1110799\ttotal: 1.12s\tremaining: 957ms\n",
      "539:\tlearn: 0.1108127\ttotal: 1.12s\tremaining: 955ms\n",
      "540:\tlearn: 0.1105243\ttotal: 1.12s\tremaining: 952ms\n",
      "541:\tlearn: 0.1103433\ttotal: 1.12s\tremaining: 949ms\n"
     ]
    },
    {
     "name": "stdout",
     "output_type": "stream",
     "text": [
      "542:\tlearn: 0.1102668\ttotal: 1.13s\tremaining: 947ms\n",
      "543:\tlearn: 0.1100796\ttotal: 1.13s\tremaining: 946ms\n",
      "544:\tlearn: 0.1098998\ttotal: 1.13s\tremaining: 943ms\n",
      "545:\tlearn: 0.1096583\ttotal: 1.13s\tremaining: 942ms\n",
      "546:\tlearn: 0.1095117\ttotal: 1.13s\tremaining: 940ms\n",
      "547:\tlearn: 0.1093683\ttotal: 1.14s\tremaining: 937ms\n",
      "548:\tlearn: 0.1091935\ttotal: 1.14s\tremaining: 934ms\n",
      "549:\tlearn: 0.1089949\ttotal: 1.14s\tremaining: 933ms\n",
      "550:\tlearn: 0.1088439\ttotal: 1.14s\tremaining: 931ms\n",
      "551:\tlearn: 0.1085579\ttotal: 1.14s\tremaining: 928ms\n",
      "552:\tlearn: 0.1083246\ttotal: 1.15s\tremaining: 931ms\n",
      "553:\tlearn: 0.1081743\ttotal: 1.16s\tremaining: 931ms\n",
      "554:\tlearn: 0.1079844\ttotal: 1.16s\tremaining: 930ms\n",
      "555:\tlearn: 0.1077472\ttotal: 1.16s\tremaining: 930ms\n"
     ]
    },
    {
     "name": "stdout",
     "output_type": "stream",
     "text": [
      "556:\tlearn: 0.1075572\ttotal: 1.17s\tremaining: 930ms\n",
      "557:\tlearn: 0.1074637\ttotal: 1.17s\tremaining: 929ms\n",
      "558:\tlearn: 0.1074176\ttotal: 1.17s\tremaining: 926ms\n",
      "559:\tlearn: 0.1073598\ttotal: 1.18s\tremaining: 925ms\n",
      "560:\tlearn: 0.1073318\ttotal: 1.18s\tremaining: 923ms\n",
      "561:\tlearn: 0.1070916\ttotal: 1.18s\tremaining: 920ms\n",
      "562:\tlearn: 0.1068272\ttotal: 1.18s\tremaining: 918ms\n",
      "563:\tlearn: 0.1066921\ttotal: 1.19s\tremaining: 918ms\n",
      "564:\tlearn: 0.1065001\ttotal: 1.19s\tremaining: 915ms\n",
      "565:\tlearn: 0.1062551\ttotal: 1.19s\tremaining: 914ms\n",
      "566:\tlearn: 0.1060348\ttotal: 1.19s\tremaining: 912ms\n",
      "567:\tlearn: 0.1057496\ttotal: 1.2s\tremaining: 909ms\n",
      "568:\tlearn: 0.1057031\ttotal: 1.2s\tremaining: 907ms\n",
      "569:\tlearn: 0.1055372\ttotal: 1.2s\tremaining: 905ms\n",
      "570:\tlearn: 0.1053299\ttotal: 1.2s\tremaining: 903ms\n",
      "571:\tlearn: 0.1051791\ttotal: 1.21s\tremaining: 904ms\n",
      "572:\tlearn: 0.1049673\ttotal: 1.21s\tremaining: 902ms\n",
      "573:\tlearn: 0.1047994\ttotal: 1.21s\tremaining: 899ms\n",
      "574:\tlearn: 0.1046593\ttotal: 1.21s\tremaining: 897ms\n",
      "575:\tlearn: 0.1045221\ttotal: 1.22s\tremaining: 895ms\n",
      "576:\tlearn: 0.1043821\ttotal: 1.22s\tremaining: 893ms\n",
      "577:\tlearn: 0.1041021\ttotal: 1.22s\tremaining: 891ms\n",
      "578:\tlearn: 0.1040804\ttotal: 1.22s\tremaining: 889ms\n",
      "579:\tlearn: 0.1040120\ttotal: 1.22s\tremaining: 887ms\n",
      "580:\tlearn: 0.1037831\ttotal: 1.23s\tremaining: 884ms\n",
      "581:\tlearn: 0.1036194\ttotal: 1.23s\tremaining: 882ms\n",
      "582:\tlearn: 0.1033583\ttotal: 1.23s\tremaining: 880ms\n",
      "583:\tlearn: 0.1031886\ttotal: 1.24s\tremaining: 883ms\n",
      "584:\tlearn: 0.1029051\ttotal: 1.25s\tremaining: 885ms\n",
      "585:\tlearn: 0.1026807\ttotal: 1.25s\tremaining: 883ms\n",
      "586:\tlearn: 0.1026369\ttotal: 1.25s\tremaining: 880ms\n",
      "587:\tlearn: 0.1025456\ttotal: 1.25s\tremaining: 878ms\n",
      "588:\tlearn: 0.1023312\ttotal: 1.25s\tremaining: 875ms\n",
      "589:\tlearn: 0.1021688\ttotal: 1.25s\tremaining: 873ms\n",
      "590:\tlearn: 0.1021056\ttotal: 1.26s\tremaining: 870ms\n",
      "591:\tlearn: 0.1019524\ttotal: 1.26s\tremaining: 868ms\n",
      "592:\tlearn: 0.1016632\ttotal: 1.26s\tremaining: 866ms\n",
      "593:\tlearn: 0.1015980\ttotal: 1.26s\tremaining: 863ms\n",
      "594:\tlearn: 0.1013371\ttotal: 1.26s\tremaining: 861ms\n",
      "595:\tlearn: 0.1011728\ttotal: 1.27s\tremaining: 858ms\n",
      "596:\tlearn: 0.1009734\ttotal: 1.27s\tremaining: 856ms\n",
      "597:\tlearn: 0.1007798\ttotal: 1.27s\tremaining: 853ms\n",
      "598:\tlearn: 0.1005810\ttotal: 1.27s\tremaining: 851ms\n",
      "599:\tlearn: 0.1004155\ttotal: 1.27s\tremaining: 848ms\n",
      "600:\tlearn: 0.1002255\ttotal: 1.27s\tremaining: 846ms\n",
      "601:\tlearn: 0.0999470\ttotal: 1.27s\tremaining: 843ms\n",
      "602:\tlearn: 0.0998335\ttotal: 1.28s\tremaining: 841ms\n",
      "603:\tlearn: 0.0997933\ttotal: 1.28s\tremaining: 839ms\n",
      "604:\tlearn: 0.0997511\ttotal: 1.28s\tremaining: 837ms\n",
      "605:\tlearn: 0.0995728\ttotal: 1.28s\tremaining: 834ms\n",
      "606:\tlearn: 0.0993693\ttotal: 1.28s\tremaining: 832ms\n",
      "607:\tlearn: 0.0991540\ttotal: 1.28s\tremaining: 829ms\n",
      "608:\tlearn: 0.0988388\ttotal: 1.29s\tremaining: 826ms\n",
      "609:\tlearn: 0.0987389\ttotal: 1.29s\tremaining: 824ms\n",
      "610:\tlearn: 0.0985697\ttotal: 1.29s\tremaining: 821ms\n"
     ]
    },
    {
     "name": "stdout",
     "output_type": "stream",
     "text": [
      "611:\tlearn: 0.0983362\ttotal: 1.29s\tremaining: 819ms\n",
      "612:\tlearn: 0.0982038\ttotal: 1.29s\tremaining: 817ms\n",
      "613:\tlearn: 0.0980201\ttotal: 1.29s\tremaining: 814ms\n",
      "614:\tlearn: 0.0978866\ttotal: 1.3s\tremaining: 811ms\n",
      "615:\tlearn: 0.0976838\ttotal: 1.3s\tremaining: 809ms\n",
      "616:\tlearn: 0.0974879\ttotal: 1.3s\tremaining: 806ms\n",
      "617:\tlearn: 0.0972221\ttotal: 1.3s\tremaining: 804ms\n",
      "618:\tlearn: 0.0969943\ttotal: 1.3s\tremaining: 801ms\n",
      "619:\tlearn: 0.0968344\ttotal: 1.3s\tremaining: 798ms\n",
      "620:\tlearn: 0.0965823\ttotal: 1.3s\tremaining: 796ms\n"
     ]
    },
    {
     "name": "stdout",
     "output_type": "stream",
     "text": [
      "621:\tlearn: 0.0964013\ttotal: 1.31s\tremaining: 794ms\n",
      "622:\tlearn: 0.0961915\ttotal: 1.31s\tremaining: 791ms\n",
      "623:\tlearn: 0.0960411\ttotal: 1.31s\tremaining: 789ms\n",
      "624:\tlearn: 0.0958149\ttotal: 1.31s\tremaining: 786ms\n",
      "625:\tlearn: 0.0957118\ttotal: 1.31s\tremaining: 784ms\n",
      "626:\tlearn: 0.0953939\ttotal: 1.31s\tremaining: 781ms\n",
      "627:\tlearn: 0.0952146\ttotal: 1.31s\tremaining: 778ms\n",
      "628:\tlearn: 0.0950162\ttotal: 1.31s\tremaining: 776ms\n",
      "629:\tlearn: 0.0949433\ttotal: 1.32s\tremaining: 773ms\n",
      "630:\tlearn: 0.0946859\ttotal: 1.32s\tremaining: 770ms\n",
      "631:\tlearn: 0.0945037\ttotal: 1.32s\tremaining: 768ms\n",
      "632:\tlearn: 0.0943205\ttotal: 1.32s\tremaining: 765ms\n",
      "633:\tlearn: 0.0941066\ttotal: 1.32s\tremaining: 763ms\n",
      "634:\tlearn: 0.0939176\ttotal: 1.32s\tremaining: 760ms\n",
      "635:\tlearn: 0.0937639\ttotal: 1.32s\tremaining: 758ms\n",
      "636:\tlearn: 0.0935238\ttotal: 1.32s\tremaining: 755ms\n",
      "637:\tlearn: 0.0933188\ttotal: 1.33s\tremaining: 753ms\n",
      "638:\tlearn: 0.0930851\ttotal: 1.33s\tremaining: 751ms\n",
      "639:\tlearn: 0.0929242\ttotal: 1.33s\tremaining: 748ms\n",
      "640:\tlearn: 0.0927857\ttotal: 1.33s\tremaining: 746ms\n",
      "641:\tlearn: 0.0925457\ttotal: 1.33s\tremaining: 743ms\n",
      "642:\tlearn: 0.0924009\ttotal: 1.33s\tremaining: 741ms\n",
      "643:\tlearn: 0.0922887\ttotal: 1.33s\tremaining: 739ms\n",
      "644:\tlearn: 0.0920538\ttotal: 1.34s\tremaining: 736ms\n",
      "645:\tlearn: 0.0918656\ttotal: 1.34s\tremaining: 734ms\n",
      "646:\tlearn: 0.0917756\ttotal: 1.34s\tremaining: 731ms\n",
      "647:\tlearn: 0.0916080\ttotal: 1.34s\tremaining: 729ms\n",
      "648:\tlearn: 0.0914647\ttotal: 1.34s\tremaining: 726ms\n",
      "649:\tlearn: 0.0912886\ttotal: 1.34s\tremaining: 724ms\n",
      "650:\tlearn: 0.0912215\ttotal: 1.34s\tremaining: 722ms\n",
      "651:\tlearn: 0.0910620\ttotal: 1.35s\tremaining: 719ms\n"
     ]
    },
    {
     "name": "stdout",
     "output_type": "stream",
     "text": [
      "652:\tlearn: 0.0909476\ttotal: 1.35s\tremaining: 717ms\n",
      "653:\tlearn: 0.0908972\ttotal: 1.35s\tremaining: 715ms\n",
      "654:\tlearn: 0.0907978\ttotal: 1.35s\tremaining: 712ms\n",
      "655:\tlearn: 0.0906382\ttotal: 1.35s\tremaining: 710ms\n",
      "656:\tlearn: 0.0905747\ttotal: 1.35s\tremaining: 707ms\n",
      "657:\tlearn: 0.0903514\ttotal: 1.36s\tremaining: 705ms\n",
      "658:\tlearn: 0.0902337\ttotal: 1.36s\tremaining: 702ms\n",
      "659:\tlearn: 0.0901164\ttotal: 1.36s\tremaining: 700ms\n",
      "660:\tlearn: 0.0900367\ttotal: 1.36s\tremaining: 698ms\n",
      "661:\tlearn: 0.0898771\ttotal: 1.36s\tremaining: 695ms\n",
      "662:\tlearn: 0.0896554\ttotal: 1.36s\tremaining: 693ms\n",
      "663:\tlearn: 0.0895244\ttotal: 1.36s\tremaining: 691ms\n",
      "664:\tlearn: 0.0893715\ttotal: 1.37s\tremaining: 688ms\n",
      "665:\tlearn: 0.0892949\ttotal: 1.37s\tremaining: 686ms\n",
      "666:\tlearn: 0.0891561\ttotal: 1.37s\tremaining: 684ms\n",
      "667:\tlearn: 0.0890533\ttotal: 1.37s\tremaining: 681ms\n",
      "668:\tlearn: 0.0890025\ttotal: 1.37s\tremaining: 679ms\n",
      "669:\tlearn: 0.0889009\ttotal: 1.37s\tremaining: 676ms\n",
      "670:\tlearn: 0.0886977\ttotal: 1.37s\tremaining: 674ms\n",
      "671:\tlearn: 0.0886367\ttotal: 1.38s\tremaining: 672ms\n",
      "672:\tlearn: 0.0885079\ttotal: 1.38s\tremaining: 669ms\n",
      "673:\tlearn: 0.0883489\ttotal: 1.38s\tremaining: 667ms\n",
      "674:\tlearn: 0.0882375\ttotal: 1.38s\tremaining: 664ms\n",
      "675:\tlearn: 0.0880239\ttotal: 1.38s\tremaining: 662ms\n",
      "676:\tlearn: 0.0879211\ttotal: 1.38s\tremaining: 660ms\n",
      "677:\tlearn: 0.0877297\ttotal: 1.38s\tremaining: 658ms\n",
      "678:\tlearn: 0.0875162\ttotal: 1.39s\tremaining: 655ms\n",
      "679:\tlearn: 0.0873030\ttotal: 1.39s\tremaining: 653ms\n",
      "680:\tlearn: 0.0872331\ttotal: 1.39s\tremaining: 650ms\n",
      "681:\tlearn: 0.0870962\ttotal: 1.39s\tremaining: 648ms\n",
      "682:\tlearn: 0.0868705\ttotal: 1.39s\tremaining: 646ms\n",
      "683:\tlearn: 0.0867893\ttotal: 1.39s\tremaining: 643ms\n",
      "684:\tlearn: 0.0867134\ttotal: 1.39s\tremaining: 641ms\n",
      "685:\tlearn: 0.0865800\ttotal: 1.4s\tremaining: 639ms\n",
      "686:\tlearn: 0.0864386\ttotal: 1.4s\tremaining: 638ms\n",
      "687:\tlearn: 0.0863025\ttotal: 1.4s\tremaining: 637ms\n",
      "688:\tlearn: 0.0861461\ttotal: 1.41s\tremaining: 635ms\n",
      "689:\tlearn: 0.0860021\ttotal: 1.41s\tremaining: 632ms\n",
      "690:\tlearn: 0.0858840\ttotal: 1.41s\tremaining: 630ms\n",
      "691:\tlearn: 0.0856106\ttotal: 1.41s\tremaining: 628ms\n",
      "692:\tlearn: 0.0855565\ttotal: 1.41s\tremaining: 625ms\n",
      "693:\tlearn: 0.0853464\ttotal: 1.41s\tremaining: 623ms\n",
      "694:\tlearn: 0.0852240\ttotal: 1.41s\tremaining: 621ms\n",
      "695:\tlearn: 0.0849948\ttotal: 1.42s\tremaining: 618ms\n",
      "696:\tlearn: 0.0847987\ttotal: 1.42s\tremaining: 616ms\n",
      "697:\tlearn: 0.0847351\ttotal: 1.42s\tremaining: 614ms\n",
      "698:\tlearn: 0.0846236\ttotal: 1.42s\tremaining: 612ms\n",
      "699:\tlearn: 0.0844412\ttotal: 1.42s\tremaining: 610ms\n",
      "700:\tlearn: 0.0841947\ttotal: 1.42s\tremaining: 607ms\n",
      "701:\tlearn: 0.0839821\ttotal: 1.43s\tremaining: 605ms\n",
      "702:\tlearn: 0.0837877\ttotal: 1.43s\tremaining: 603ms\n",
      "703:\tlearn: 0.0837324\ttotal: 1.43s\tremaining: 601ms\n",
      "704:\tlearn: 0.0836624\ttotal: 1.43s\tremaining: 598ms\n",
      "705:\tlearn: 0.0835278\ttotal: 1.43s\tremaining: 596ms\n",
      "706:\tlearn: 0.0834930\ttotal: 1.43s\tremaining: 594ms\n",
      "707:\tlearn: 0.0833621\ttotal: 1.43s\tremaining: 592ms\n",
      "708:\tlearn: 0.0832439\ttotal: 1.44s\tremaining: 589ms\n",
      "709:\tlearn: 0.0831313\ttotal: 1.44s\tremaining: 588ms\n",
      "710:\tlearn: 0.0829542\ttotal: 1.44s\tremaining: 586ms\n",
      "711:\tlearn: 0.0827918\ttotal: 1.44s\tremaining: 583ms\n",
      "712:\tlearn: 0.0826590\ttotal: 1.44s\tremaining: 581ms\n",
      "713:\tlearn: 0.0825644\ttotal: 1.45s\tremaining: 579ms\n",
      "714:\tlearn: 0.0824952\ttotal: 1.45s\tremaining: 577ms\n",
      "715:\tlearn: 0.0823976\ttotal: 1.45s\tremaining: 574ms\n",
      "716:\tlearn: 0.0823681\ttotal: 1.45s\tremaining: 572ms\n",
      "717:\tlearn: 0.0822796\ttotal: 1.45s\tremaining: 570ms\n",
      "718:\tlearn: 0.0822516\ttotal: 1.45s\tremaining: 568ms\n",
      "719:\tlearn: 0.0821639\ttotal: 1.45s\tremaining: 565ms\n",
      "720:\tlearn: 0.0819026\ttotal: 1.46s\tremaining: 563ms\n",
      "721:\tlearn: 0.0818260\ttotal: 1.46s\tremaining: 561ms\n",
      "722:\tlearn: 0.0817088\ttotal: 1.46s\tremaining: 559ms\n",
      "723:\tlearn: 0.0815730\ttotal: 1.46s\tremaining: 556ms\n",
      "724:\tlearn: 0.0815146\ttotal: 1.46s\tremaining: 554ms\n",
      "725:\tlearn: 0.0813746\ttotal: 1.46s\tremaining: 552ms\n",
      "726:\tlearn: 0.0812314\ttotal: 1.46s\tremaining: 550ms\n",
      "727:\tlearn: 0.0811670\ttotal: 1.47s\tremaining: 547ms\n",
      "728:\tlearn: 0.0811043\ttotal: 1.47s\tremaining: 545ms\n",
      "729:\tlearn: 0.0809946\ttotal: 1.47s\tremaining: 543ms\n"
     ]
    },
    {
     "name": "stdout",
     "output_type": "stream",
     "text": [
      "730:\tlearn: 0.0808710\ttotal: 1.47s\tremaining: 541ms\n",
      "731:\tlearn: 0.0807150\ttotal: 1.47s\tremaining: 539ms\n",
      "732:\tlearn: 0.0806063\ttotal: 1.47s\tremaining: 537ms\n",
      "733:\tlearn: 0.0804159\ttotal: 1.47s\tremaining: 534ms\n",
      "734:\tlearn: 0.0802645\ttotal: 1.48s\tremaining: 532ms\n",
      "735:\tlearn: 0.0801991\ttotal: 1.48s\tremaining: 530ms\n",
      "736:\tlearn: 0.0800084\ttotal: 1.48s\tremaining: 528ms\n",
      "737:\tlearn: 0.0799222\ttotal: 1.48s\tremaining: 525ms\n",
      "738:\tlearn: 0.0798632\ttotal: 1.48s\tremaining: 523ms\n",
      "739:\tlearn: 0.0797750\ttotal: 1.48s\tremaining: 521ms\n"
     ]
    },
    {
     "name": "stdout",
     "output_type": "stream",
     "text": [
      "740:\tlearn: 0.0795767\ttotal: 1.49s\tremaining: 519ms\n",
      "741:\tlearn: 0.0794996\ttotal: 1.49s\tremaining: 517ms\n",
      "742:\tlearn: 0.0794331\ttotal: 1.49s\tremaining: 515ms\n",
      "743:\tlearn: 0.0792693\ttotal: 1.49s\tremaining: 513ms\n",
      "744:\tlearn: 0.0790696\ttotal: 1.49s\tremaining: 511ms\n",
      "745:\tlearn: 0.0789747\ttotal: 1.5s\tremaining: 510ms\n",
      "746:\tlearn: 0.0788315\ttotal: 1.5s\tremaining: 508ms\n",
      "747:\tlearn: 0.0786760\ttotal: 1.5s\tremaining: 507ms\n",
      "748:\tlearn: 0.0785371\ttotal: 1.51s\tremaining: 505ms\n",
      "749:\tlearn: 0.0783857\ttotal: 1.51s\tremaining: 503ms\n",
      "750:\tlearn: 0.0782659\ttotal: 1.51s\tremaining: 501ms\n",
      "751:\tlearn: 0.0781856\ttotal: 1.51s\tremaining: 500ms\n",
      "752:\tlearn: 0.0781116\ttotal: 1.52s\tremaining: 497ms\n",
      "753:\tlearn: 0.0780096\ttotal: 1.52s\tremaining: 495ms\n",
      "754:\tlearn: 0.0777595\ttotal: 1.52s\tremaining: 493ms\n",
      "755:\tlearn: 0.0776356\ttotal: 1.52s\tremaining: 491ms\n",
      "756:\tlearn: 0.0774767\ttotal: 1.52s\tremaining: 489ms\n",
      "757:\tlearn: 0.0772768\ttotal: 1.53s\tremaining: 487ms\n"
     ]
    },
    {
     "name": "stdout",
     "output_type": "stream",
     "text": [
      "758:\tlearn: 0.0771602\ttotal: 1.53s\tremaining: 485ms\n",
      "759:\tlearn: 0.0770590\ttotal: 1.53s\tremaining: 484ms\n",
      "760:\tlearn: 0.0769408\ttotal: 1.54s\tremaining: 482ms\n",
      "761:\tlearn: 0.0767246\ttotal: 1.54s\tremaining: 481ms\n",
      "762:\tlearn: 0.0766182\ttotal: 1.54s\tremaining: 479ms\n",
      "763:\tlearn: 0.0765407\ttotal: 1.54s\tremaining: 477ms\n",
      "764:\tlearn: 0.0764645\ttotal: 1.54s\tremaining: 475ms\n",
      "765:\tlearn: 0.0763208\ttotal: 1.55s\tremaining: 473ms\n",
      "766:\tlearn: 0.0762174\ttotal: 1.55s\tremaining: 470ms\n",
      "767:\tlearn: 0.0760941\ttotal: 1.55s\tremaining: 468ms\n",
      "768:\tlearn: 0.0759493\ttotal: 1.55s\tremaining: 466ms\n",
      "769:\tlearn: 0.0758101\ttotal: 1.55s\tremaining: 464ms\n",
      "770:\tlearn: 0.0755622\ttotal: 1.55s\tremaining: 461ms\n",
      "771:\tlearn: 0.0754383\ttotal: 1.55s\tremaining: 459ms\n",
      "772:\tlearn: 0.0753107\ttotal: 1.56s\tremaining: 457ms\n",
      "773:\tlearn: 0.0752019\ttotal: 1.56s\tremaining: 455ms\n",
      "774:\tlearn: 0.0750629\ttotal: 1.56s\tremaining: 453ms\n",
      "775:\tlearn: 0.0749371\ttotal: 1.56s\tremaining: 451ms\n",
      "776:\tlearn: 0.0748714\ttotal: 1.56s\tremaining: 449ms\n",
      "777:\tlearn: 0.0746194\ttotal: 1.57s\tremaining: 447ms\n",
      "778:\tlearn: 0.0744979\ttotal: 1.57s\tremaining: 445ms\n",
      "779:\tlearn: 0.0744124\ttotal: 1.57s\tremaining: 444ms\n",
      "780:\tlearn: 0.0742353\ttotal: 1.58s\tremaining: 443ms\n",
      "781:\tlearn: 0.0740871\ttotal: 1.58s\tremaining: 441ms\n",
      "782:\tlearn: 0.0740361\ttotal: 1.58s\tremaining: 439ms\n",
      "783:\tlearn: 0.0738619\ttotal: 1.58s\tremaining: 437ms\n",
      "784:\tlearn: 0.0737969\ttotal: 1.59s\tremaining: 434ms\n",
      "785:\tlearn: 0.0735639\ttotal: 1.59s\tremaining: 432ms\n",
      "786:\tlearn: 0.0735061\ttotal: 1.59s\tremaining: 430ms\n",
      "787:\tlearn: 0.0734219\ttotal: 1.59s\tremaining: 428ms\n",
      "788:\tlearn: 0.0733479\ttotal: 1.59s\tremaining: 426ms\n",
      "789:\tlearn: 0.0733097\ttotal: 1.59s\tremaining: 424ms\n",
      "790:\tlearn: 0.0732038\ttotal: 1.59s\tremaining: 422ms\n",
      "791:\tlearn: 0.0730902\ttotal: 1.6s\tremaining: 419ms\n",
      "792:\tlearn: 0.0729616\ttotal: 1.6s\tremaining: 417ms\n",
      "793:\tlearn: 0.0728004\ttotal: 1.6s\tremaining: 415ms\n",
      "794:\tlearn: 0.0727526\ttotal: 1.6s\tremaining: 413ms\n",
      "795:\tlearn: 0.0726398\ttotal: 1.6s\tremaining: 411ms\n",
      "796:\tlearn: 0.0725010\ttotal: 1.61s\tremaining: 409ms\n",
      "797:\tlearn: 0.0723741\ttotal: 1.61s\tremaining: 408ms\n",
      "798:\tlearn: 0.0722897\ttotal: 1.61s\tremaining: 406ms\n",
      "799:\tlearn: 0.0722226\ttotal: 1.61s\tremaining: 404ms\n",
      "800:\tlearn: 0.0721476\ttotal: 1.62s\tremaining: 402ms\n",
      "801:\tlearn: 0.0720604\ttotal: 1.62s\tremaining: 400ms\n",
      "802:\tlearn: 0.0719752\ttotal: 1.62s\tremaining: 398ms\n",
      "803:\tlearn: 0.0718633\ttotal: 1.62s\tremaining: 396ms\n",
      "804:\tlearn: 0.0717187\ttotal: 1.63s\tremaining: 394ms\n",
      "805:\tlearn: 0.0715955\ttotal: 1.63s\tremaining: 391ms\n",
      "806:\tlearn: 0.0715519\ttotal: 1.63s\tremaining: 389ms\n",
      "807:\tlearn: 0.0714954\ttotal: 1.63s\tremaining: 387ms\n",
      "808:\tlearn: 0.0713699\ttotal: 1.63s\tremaining: 385ms\n",
      "809:\tlearn: 0.0712047\ttotal: 1.63s\tremaining: 383ms\n",
      "810:\tlearn: 0.0710236\ttotal: 1.63s\tremaining: 381ms\n",
      "811:\tlearn: 0.0708815\ttotal: 1.63s\tremaining: 379ms\n",
      "812:\tlearn: 0.0707692\ttotal: 1.64s\tremaining: 376ms\n",
      "813:\tlearn: 0.0706492\ttotal: 1.64s\tremaining: 374ms\n",
      "814:\tlearn: 0.0705010\ttotal: 1.64s\tremaining: 372ms\n",
      "815:\tlearn: 0.0704386\ttotal: 1.64s\tremaining: 370ms\n",
      "816:\tlearn: 0.0703246\ttotal: 1.64s\tremaining: 368ms\n",
      "817:\tlearn: 0.0702341\ttotal: 1.64s\tremaining: 366ms\n",
      "818:\tlearn: 0.0701447\ttotal: 1.64s\tremaining: 363ms\n",
      "819:\tlearn: 0.0699225\ttotal: 1.65s\tremaining: 361ms\n"
     ]
    },
    {
     "name": "stdout",
     "output_type": "stream",
     "text": [
      "820:\tlearn: 0.0698938\ttotal: 1.65s\tremaining: 359ms\n",
      "821:\tlearn: 0.0697836\ttotal: 1.65s\tremaining: 357ms\n",
      "822:\tlearn: 0.0696930\ttotal: 1.65s\tremaining: 355ms\n",
      "823:\tlearn: 0.0696276\ttotal: 1.65s\tremaining: 353ms\n",
      "824:\tlearn: 0.0695596\ttotal: 1.65s\tremaining: 351ms\n",
      "825:\tlearn: 0.0694690\ttotal: 1.66s\tremaining: 349ms\n",
      "826:\tlearn: 0.0693968\ttotal: 1.66s\tremaining: 347ms\n",
      "827:\tlearn: 0.0693195\ttotal: 1.66s\tremaining: 345ms\n",
      "828:\tlearn: 0.0691207\ttotal: 1.66s\tremaining: 342ms\n",
      "829:\tlearn: 0.0689479\ttotal: 1.66s\tremaining: 340ms\n",
      "830:\tlearn: 0.0688152\ttotal: 1.66s\tremaining: 338ms\n"
     ]
    },
    {
     "name": "stdout",
     "output_type": "stream",
     "text": [
      "831:\tlearn: 0.0687241\ttotal: 1.66s\tremaining: 336ms\n",
      "832:\tlearn: 0.0686630\ttotal: 1.67s\tremaining: 334ms\n",
      "833:\tlearn: 0.0685511\ttotal: 1.67s\tremaining: 332ms\n",
      "834:\tlearn: 0.0684347\ttotal: 1.67s\tremaining: 330ms\n",
      "835:\tlearn: 0.0683676\ttotal: 1.67s\tremaining: 328ms\n",
      "836:\tlearn: 0.0681978\ttotal: 1.67s\tremaining: 326ms\n",
      "837:\tlearn: 0.0680512\ttotal: 1.68s\tremaining: 324ms\n",
      "838:\tlearn: 0.0679467\ttotal: 1.68s\tremaining: 322ms\n",
      "839:\tlearn: 0.0679001\ttotal: 1.68s\tremaining: 320ms\n",
      "840:\tlearn: 0.0678125\ttotal: 1.68s\tremaining: 318ms\n",
      "841:\tlearn: 0.0677955\ttotal: 1.68s\tremaining: 316ms\n",
      "842:\tlearn: 0.0676780\ttotal: 1.68s\tremaining: 314ms\n",
      "843:\tlearn: 0.0675436\ttotal: 1.69s\tremaining: 312ms\n",
      "844:\tlearn: 0.0674602\ttotal: 1.69s\tremaining: 309ms\n",
      "845:\tlearn: 0.0673672\ttotal: 1.69s\tremaining: 307ms\n",
      "846:\tlearn: 0.0672779\ttotal: 1.69s\tremaining: 305ms\n",
      "847:\tlearn: 0.0672137\ttotal: 1.69s\tremaining: 303ms\n",
      "848:\tlearn: 0.0670916\ttotal: 1.69s\tremaining: 301ms\n",
      "849:\tlearn: 0.0669787\ttotal: 1.69s\tremaining: 299ms\n",
      "850:\tlearn: 0.0668636\ttotal: 1.7s\tremaining: 297ms\n",
      "851:\tlearn: 0.0666408\ttotal: 1.7s\tremaining: 295ms\n",
      "852:\tlearn: 0.0665867\ttotal: 1.7s\tremaining: 293ms\n",
      "853:\tlearn: 0.0664946\ttotal: 1.7s\tremaining: 291ms\n",
      "854:\tlearn: 0.0663711\ttotal: 1.7s\tremaining: 289ms\n",
      "855:\tlearn: 0.0662945\ttotal: 1.7s\tremaining: 286ms\n",
      "856:\tlearn: 0.0661290\ttotal: 1.7s\tremaining: 284ms\n",
      "857:\tlearn: 0.0660576\ttotal: 1.71s\tremaining: 282ms\n",
      "858:\tlearn: 0.0659096\ttotal: 1.71s\tremaining: 280ms\n",
      "859:\tlearn: 0.0658656\ttotal: 1.71s\tremaining: 278ms\n"
     ]
    },
    {
     "name": "stdout",
     "output_type": "stream",
     "text": [
      "860:\tlearn: 0.0657610\ttotal: 1.71s\tremaining: 276ms\n",
      "861:\tlearn: 0.0656272\ttotal: 1.71s\tremaining: 274ms\n",
      "862:\tlearn: 0.0655306\ttotal: 1.71s\tremaining: 272ms\n",
      "863:\tlearn: 0.0654446\ttotal: 1.72s\tremaining: 270ms\n",
      "864:\tlearn: 0.0654334\ttotal: 1.72s\tremaining: 268ms\n",
      "865:\tlearn: 0.0654276\ttotal: 1.72s\tremaining: 266ms\n",
      "866:\tlearn: 0.0653835\ttotal: 1.72s\tremaining: 264ms\n",
      "867:\tlearn: 0.0652935\ttotal: 1.72s\tremaining: 262ms\n",
      "868:\tlearn: 0.0651917\ttotal: 1.72s\tremaining: 260ms\n",
      "869:\tlearn: 0.0651299\ttotal: 1.72s\tremaining: 258ms\n",
      "870:\tlearn: 0.0650291\ttotal: 1.73s\tremaining: 256ms\n",
      "871:\tlearn: 0.0649064\ttotal: 1.73s\tremaining: 254ms\n",
      "872:\tlearn: 0.0648112\ttotal: 1.73s\tremaining: 252ms\n",
      "873:\tlearn: 0.0646914\ttotal: 1.73s\tremaining: 249ms\n",
      "874:\tlearn: 0.0645693\ttotal: 1.73s\tremaining: 247ms\n",
      "875:\tlearn: 0.0644842\ttotal: 1.73s\tremaining: 245ms\n",
      "876:\tlearn: 0.0644530\ttotal: 1.74s\tremaining: 243ms\n",
      "877:\tlearn: 0.0643547\ttotal: 1.74s\tremaining: 241ms\n",
      "878:\tlearn: 0.0641985\ttotal: 1.74s\tremaining: 239ms\n",
      "879:\tlearn: 0.0641628\ttotal: 1.74s\tremaining: 237ms\n",
      "880:\tlearn: 0.0640504\ttotal: 1.74s\tremaining: 235ms\n",
      "881:\tlearn: 0.0639101\ttotal: 1.74s\tremaining: 233ms\n",
      "882:\tlearn: 0.0638603\ttotal: 1.74s\tremaining: 231ms\n",
      "883:\tlearn: 0.0637843\ttotal: 1.74s\tremaining: 229ms\n",
      "884:\tlearn: 0.0637793\ttotal: 1.75s\tremaining: 227ms\n",
      "885:\tlearn: 0.0637005\ttotal: 1.75s\tremaining: 225ms\n",
      "886:\tlearn: 0.0635212\ttotal: 1.75s\tremaining: 223ms\n",
      "887:\tlearn: 0.0634041\ttotal: 1.75s\tremaining: 221ms\n",
      "888:\tlearn: 0.0633132\ttotal: 1.75s\tremaining: 219ms\n",
      "889:\tlearn: 0.0632035\ttotal: 1.75s\tremaining: 217ms\n",
      "890:\tlearn: 0.0631556\ttotal: 1.75s\tremaining: 215ms\n",
      "891:\tlearn: 0.0630357\ttotal: 1.76s\tremaining: 213ms\n",
      "892:\tlearn: 0.0629767\ttotal: 1.76s\tremaining: 211ms\n",
      "893:\tlearn: 0.0628859\ttotal: 1.76s\tremaining: 209ms\n",
      "894:\tlearn: 0.0628061\ttotal: 1.76s\tremaining: 207ms\n",
      "895:\tlearn: 0.0627046\ttotal: 1.77s\tremaining: 205ms\n",
      "896:\tlearn: 0.0626490\ttotal: 1.77s\tremaining: 203ms\n",
      "897:\tlearn: 0.0625788\ttotal: 1.77s\tremaining: 201ms\n",
      "898:\tlearn: 0.0623948\ttotal: 1.78s\tremaining: 200ms\n",
      "899:\tlearn: 0.0623199\ttotal: 1.78s\tremaining: 198ms\n",
      "900:\tlearn: 0.0623065\ttotal: 1.78s\tremaining: 196ms\n",
      "901:\tlearn: 0.0622213\ttotal: 1.78s\tremaining: 194ms\n",
      "902:\tlearn: 0.0621590\ttotal: 1.78s\tremaining: 192ms\n",
      "903:\tlearn: 0.0620665\ttotal: 1.78s\tremaining: 190ms\n",
      "904:\tlearn: 0.0619631\ttotal: 1.79s\tremaining: 188ms\n",
      "905:\tlearn: 0.0618658\ttotal: 1.79s\tremaining: 186ms\n",
      "906:\tlearn: 0.0617715\ttotal: 1.79s\tremaining: 184ms\n",
      "907:\tlearn: 0.0616759\ttotal: 1.79s\tremaining: 182ms\n",
      "908:\tlearn: 0.0616274\ttotal: 1.79s\tremaining: 180ms\n",
      "909:\tlearn: 0.0615228\ttotal: 1.79s\tremaining: 178ms\n",
      "910:\tlearn: 0.0614127\ttotal: 1.8s\tremaining: 176ms\n",
      "911:\tlearn: 0.0614020\ttotal: 1.8s\tremaining: 173ms\n",
      "912:\tlearn: 0.0613039\ttotal: 1.8s\tremaining: 171ms\n",
      "913:\tlearn: 0.0611656\ttotal: 1.8s\tremaining: 169ms\n",
      "914:\tlearn: 0.0610493\ttotal: 1.8s\tremaining: 167ms\n",
      "915:\tlearn: 0.0609832\ttotal: 1.8s\tremaining: 165ms\n",
      "916:\tlearn: 0.0609360\ttotal: 1.8s\tremaining: 163ms\n",
      "917:\tlearn: 0.0609300\ttotal: 1.81s\tremaining: 161ms\n",
      "918:\tlearn: 0.0609251\ttotal: 1.81s\tremaining: 159ms\n",
      "919:\tlearn: 0.0608545\ttotal: 1.81s\tremaining: 157ms\n",
      "920:\tlearn: 0.0608383\ttotal: 1.81s\tremaining: 155ms\n",
      "921:\tlearn: 0.0607278\ttotal: 1.81s\tremaining: 153ms\n",
      "922:\tlearn: 0.0607177\ttotal: 1.81s\tremaining: 151ms\n",
      "923:\tlearn: 0.0606411\ttotal: 1.82s\tremaining: 149ms\n",
      "924:\tlearn: 0.0606000\ttotal: 1.82s\tremaining: 147ms\n",
      "925:\tlearn: 0.0604579\ttotal: 1.82s\tremaining: 145ms\n",
      "926:\tlearn: 0.0603138\ttotal: 1.82s\tremaining: 143ms\n",
      "927:\tlearn: 0.0601523\ttotal: 1.82s\tremaining: 141ms\n",
      "928:\tlearn: 0.0600209\ttotal: 1.82s\tremaining: 139ms\n",
      "929:\tlearn: 0.0599362\ttotal: 1.82s\tremaining: 137ms\n"
     ]
    },
    {
     "name": "stdout",
     "output_type": "stream",
     "text": [
      "930:\tlearn: 0.0598489\ttotal: 1.83s\tremaining: 135ms\n",
      "931:\tlearn: 0.0597564\ttotal: 1.83s\tremaining: 133ms\n",
      "932:\tlearn: 0.0596208\ttotal: 1.83s\tremaining: 131ms\n",
      "933:\tlearn: 0.0595287\ttotal: 1.83s\tremaining: 129ms\n",
      "934:\tlearn: 0.0594052\ttotal: 1.83s\tremaining: 127ms\n",
      "935:\tlearn: 0.0592725\ttotal: 1.83s\tremaining: 125ms\n",
      "936:\tlearn: 0.0591180\ttotal: 1.84s\tremaining: 123ms\n",
      "937:\tlearn: 0.0590502\ttotal: 1.84s\tremaining: 121ms\n",
      "938:\tlearn: 0.0590404\ttotal: 1.84s\tremaining: 119ms\n",
      "939:\tlearn: 0.0589440\ttotal: 1.84s\tremaining: 117ms\n",
      "940:\tlearn: 0.0588565\ttotal: 1.84s\tremaining: 116ms\n",
      "941:\tlearn: 0.0588246\ttotal: 1.84s\tremaining: 114ms\n"
     ]
    },
    {
     "name": "stdout",
     "output_type": "stream",
     "text": [
      "942:\tlearn: 0.0586870\ttotal: 1.84s\tremaining: 112ms\n",
      "943:\tlearn: 0.0585619\ttotal: 1.85s\tremaining: 110ms\n",
      "944:\tlearn: 0.0584831\ttotal: 1.85s\tremaining: 108ms\n",
      "945:\tlearn: 0.0584380\ttotal: 1.85s\tremaining: 106ms\n",
      "946:\tlearn: 0.0583319\ttotal: 1.85s\tremaining: 104ms\n",
      "947:\tlearn: 0.0582320\ttotal: 1.85s\tremaining: 102ms\n",
      "948:\tlearn: 0.0581174\ttotal: 1.85s\tremaining: 99.7ms\n",
      "949:\tlearn: 0.0580617\ttotal: 1.86s\tremaining: 97.7ms\n",
      "950:\tlearn: 0.0579950\ttotal: 1.86s\tremaining: 95.7ms\n",
      "951:\tlearn: 0.0579291\ttotal: 1.86s\tremaining: 93.7ms\n",
      "952:\tlearn: 0.0578221\ttotal: 1.86s\tremaining: 91.8ms\n",
      "953:\tlearn: 0.0577781\ttotal: 1.86s\tremaining: 89.8ms\n",
      "954:\tlearn: 0.0577209\ttotal: 1.86s\tremaining: 87.8ms\n",
      "955:\tlearn: 0.0576833\ttotal: 1.86s\tremaining: 85.8ms\n",
      "956:\tlearn: 0.0576057\ttotal: 1.87s\tremaining: 83.9ms\n",
      "957:\tlearn: 0.0575345\ttotal: 1.87s\tremaining: 81.9ms\n",
      "958:\tlearn: 0.0573798\ttotal: 1.87s\tremaining: 79.9ms\n",
      "959:\tlearn: 0.0573107\ttotal: 1.87s\tremaining: 78ms\n",
      "960:\tlearn: 0.0573041\ttotal: 1.87s\tremaining: 76ms\n",
      "961:\tlearn: 0.0572083\ttotal: 1.87s\tremaining: 74ms\n",
      "962:\tlearn: 0.0571372\ttotal: 1.88s\tremaining: 72ms\n",
      "963:\tlearn: 0.0570058\ttotal: 1.88s\tremaining: 70.1ms\n",
      "964:\tlearn: 0.0569339\ttotal: 1.88s\tremaining: 68.1ms\n",
      "965:\tlearn: 0.0568023\ttotal: 1.88s\tremaining: 66.3ms\n",
      "966:\tlearn: 0.0566861\ttotal: 1.89s\tremaining: 64.4ms\n"
     ]
    },
    {
     "name": "stdout",
     "output_type": "stream",
     "text": [
      "967:\tlearn: 0.0565999\ttotal: 1.89s\tremaining: 62.6ms\n",
      "968:\tlearn: 0.0565017\ttotal: 1.9s\tremaining: 60.6ms\n",
      "969:\tlearn: 0.0564078\ttotal: 1.9s\tremaining: 58.7ms\n",
      "970:\tlearn: 0.0563297\ttotal: 1.9s\tremaining: 56.7ms\n",
      "971:\tlearn: 0.0562994\ttotal: 1.9s\tremaining: 54.7ms\n",
      "972:\tlearn: 0.0562131\ttotal: 1.9s\tremaining: 52.8ms\n",
      "973:\tlearn: 0.0561761\ttotal: 1.91s\tremaining: 50.9ms\n",
      "974:\tlearn: 0.0560955\ttotal: 1.91s\tremaining: 48.9ms\n",
      "975:\tlearn: 0.0560102\ttotal: 1.91s\tremaining: 46.9ms\n",
      "976:\tlearn: 0.0559339\ttotal: 1.91s\tremaining: 45ms\n",
      "977:\tlearn: 0.0559246\ttotal: 1.91s\tremaining: 43.1ms\n",
      "978:\tlearn: 0.0558757\ttotal: 1.92s\tremaining: 41.1ms\n",
      "979:\tlearn: 0.0558011\ttotal: 1.92s\tremaining: 39.1ms\n",
      "980:\tlearn: 0.0556851\ttotal: 1.92s\tremaining: 37.2ms\n",
      "981:\tlearn: 0.0556180\ttotal: 1.92s\tremaining: 35.2ms\n",
      "982:\tlearn: 0.0556022\ttotal: 1.92s\tremaining: 33.2ms\n",
      "983:\tlearn: 0.0554859\ttotal: 1.92s\tremaining: 31.3ms\n",
      "984:\tlearn: 0.0553734\ttotal: 1.93s\tremaining: 29.3ms\n",
      "985:\tlearn: 0.0552931\ttotal: 1.93s\tremaining: 27.4ms\n",
      "986:\tlearn: 0.0552843\ttotal: 1.93s\tremaining: 25.4ms\n",
      "987:\tlearn: 0.0552755\ttotal: 1.93s\tremaining: 23.4ms\n",
      "988:\tlearn: 0.0551724\ttotal: 1.93s\tremaining: 21.5ms\n",
      "989:\tlearn: 0.0550362\ttotal: 1.93s\tremaining: 19.5ms\n",
      "990:\tlearn: 0.0549563\ttotal: 1.93s\tremaining: 17.6ms\n",
      "991:\tlearn: 0.0549479\ttotal: 1.93s\tremaining: 15.6ms\n",
      "992:\tlearn: 0.0548255\ttotal: 1.94s\tremaining: 13.6ms\n",
      "993:\tlearn: 0.0547712\ttotal: 1.94s\tremaining: 11.7ms\n",
      "994:\tlearn: 0.0547629\ttotal: 1.94s\tremaining: 9.74ms\n",
      "995:\tlearn: 0.0546812\ttotal: 1.94s\tremaining: 7.79ms\n",
      "996:\tlearn: 0.0545796\ttotal: 1.94s\tremaining: 5.84ms\n",
      "997:\tlearn: 0.0545713\ttotal: 1.94s\tremaining: 3.89ms\n",
      "998:\tlearn: 0.0544570\ttotal: 1.94s\tremaining: 1.95ms\n",
      "999:\tlearn: 0.0543801\ttotal: 1.95s\tremaining: 0us\n",
      "Mean Absolute error 0.22618860114267694\n"
     ]
    },
    {
     "data": {
      "application/scrapbook.scrap.json+json": {
       "data": 0.22618860114267694,
       "encoder": "json",
       "name": "Catboost MAE",
       "version": 1
      }
     },
     "metadata": {
      "scrapbook": {
       "data": true,
       "display": false,
       "name": "Catboost MAE"
      }
     },
     "output_type": "display_data"
    },
    {
     "name": "stdout",
     "output_type": "stream",
     "text": [
      "Catboost MAE 0.22618860114267694\n"
     ]
    }
   ],
   "source": [
    "mae_cb = baselineModels.catboost(X_train,y_train,X_test,y_test)\n",
    "#Store MSE Value\n",
    "sb.glue(\"Catboost MAE\",mae_cb)\n",
    "print(\"Catboost MAE\",mae_cb)"
   ]
  },
  {
   "cell_type": "markdown",
   "id": "d8e15cae",
   "metadata": {
    "papermill": {
     "duration": 0.010828,
     "end_time": "2022-07-21T10:35:21.118991",
     "exception": false,
     "start_time": "2022-07-21T10:35:21.108163",
     "status": "completed"
    },
    "tags": []
   },
   "source": [
    "# TabNet Regressor"
   ]
  },
  {
   "cell_type": "code",
   "execution_count": 7,
   "id": "36ec6a44",
   "metadata": {
    "execution": {
     "iopub.execute_input": "2022-07-21T10:35:21.148846Z",
     "iopub.status.busy": "2022-07-21T10:35:21.147891Z",
     "iopub.status.idle": "2022-07-21T10:35:21.152381Z",
     "shell.execute_reply": "2022-07-21T10:35:21.151579Z"
    },
    "papermill": {
     "duration": 0.022465,
     "end_time": "2022-07-21T10:35:21.155043",
     "exception": false,
     "start_time": "2022-07-21T10:35:21.132578",
     "status": "completed"
    },
    "tags": []
   },
   "outputs": [],
   "source": [
    "n_epochs = 1000\n",
    "batch_size = 32"
   ]
  },
  {
   "cell_type": "code",
   "execution_count": 8,
   "id": "1923a5ba",
   "metadata": {
    "execution": {
     "iopub.execute_input": "2022-07-21T10:35:21.207472Z",
     "iopub.status.busy": "2022-07-21T10:35:21.206754Z",
     "iopub.status.idle": "2022-07-21T10:37:34.765755Z",
     "shell.execute_reply": "2022-07-21T10:37:34.749140Z"
    },
    "papermill": {
     "duration": 133.604657,
     "end_time": "2022-07-21T10:37:34.775580",
     "exception": false,
     "start_time": "2022-07-21T10:35:21.170923",
     "status": "completed"
    },
    "tags": []
   },
   "outputs": [
    {
     "name": "stdout",
     "output_type": "stream",
     "text": [
      "Device used : cpu\n"
     ]
    },
    {
     "name": "stdout",
     "output_type": "stream",
     "text": [
      "epoch 0  | loss: 2.62752 | train_mse: 1.0838  | train_mae: 0.7657  |  0:00:01s\n"
     ]
    },
    {
     "name": "stdout",
     "output_type": "stream",
     "text": [
      "epoch 1  | loss: 0.79924 | train_mse: 0.92222 | train_mae: 0.67208 |  0:00:01s\n"
     ]
    },
    {
     "name": "stdout",
     "output_type": "stream",
     "text": [
      "epoch 2  | loss: 0.60735 | train_mse: 0.52765 | train_mae: 0.52091 |  0:00:02s\n"
     ]
    },
    {
     "name": "stdout",
     "output_type": "stream",
     "text": [
      "epoch 3  | loss: 0.47591 | train_mse: 0.43688 | train_mae: 0.44139 |  0:00:02s\n"
     ]
    },
    {
     "name": "stdout",
     "output_type": "stream",
     "text": [
      "epoch 4  | loss: 0.44271 | train_mse: 0.40457 | train_mae: 0.40666 |  0:00:02s\n"
     ]
    },
    {
     "name": "stdout",
     "output_type": "stream",
     "text": [
      "epoch 5  | loss: 0.4127  | train_mse: 0.49864 | train_mae: 0.4285  |  0:00:03s\n"
     ]
    },
    {
     "name": "stdout",
     "output_type": "stream",
     "text": [
      "epoch 6  | loss: 0.29954 | train_mse: 0.33779 | train_mae: 0.39596 |  0:00:03s\n"
     ]
    },
    {
     "name": "stdout",
     "output_type": "stream",
     "text": [
      "epoch 7  | loss: 0.32753 | train_mse: 0.3231  | train_mae: 0.38028 |  0:00:03s\n"
     ]
    },
    {
     "name": "stdout",
     "output_type": "stream",
     "text": [
      "epoch 8  | loss: 0.31047 | train_mse: 0.25859 | train_mae: 0.35803 |  0:00:04s\n"
     ]
    },
    {
     "name": "stdout",
     "output_type": "stream",
     "text": [
      "epoch 9  | loss: 0.2584  | train_mse: 0.19779 | train_mae: 0.30447 |  0:00:04s\n"
     ]
    },
    {
     "name": "stdout",
     "output_type": "stream",
     "text": [
      "epoch 10 | loss: 0.27132 | train_mse: 0.29838 | train_mae: 0.39126 |  0:00:04s\n"
     ]
    },
    {
     "name": "stdout",
     "output_type": "stream",
     "text": [
      "epoch 11 | loss: 0.27134 | train_mse: 0.22451 | train_mae: 0.32622 |  0:00:05s\n"
     ]
    },
    {
     "name": "stdout",
     "output_type": "stream",
     "text": [
      "epoch 12 | loss: 0.28519 | train_mse: 0.19776 | train_mae: 0.31611 |  0:00:05s\n"
     ]
    },
    {
     "name": "stdout",
     "output_type": "stream",
     "text": [
      "epoch 13 | loss: 0.2395  | train_mse: 0.1752  | train_mae: 0.3013  |  0:00:05s\n"
     ]
    },
    {
     "name": "stdout",
     "output_type": "stream",
     "text": [
      "epoch 14 | loss: 0.25649 | train_mse: 0.18305 | train_mae: 0.30498 |  0:00:06s\n"
     ]
    },
    {
     "name": "stdout",
     "output_type": "stream",
     "text": [
      "epoch 15 | loss: 0.2636  | train_mse: 0.17824 | train_mae: 0.31153 |  0:00:06s\n"
     ]
    },
    {
     "name": "stdout",
     "output_type": "stream",
     "text": [
      "epoch 16 | loss: 0.25896 | train_mse: 0.15826 | train_mae: 0.29398 |  0:00:07s\n"
     ]
    },
    {
     "name": "stdout",
     "output_type": "stream",
     "text": [
      "epoch 17 | loss: 0.2523  | train_mse: 0.14606 | train_mae: 0.2808  |  0:00:07s\n"
     ]
    },
    {
     "name": "stdout",
     "output_type": "stream",
     "text": [
      "epoch 18 | loss: 0.22823 | train_mse: 0.14608 | train_mae: 0.27481 |  0:00:08s\n"
     ]
    },
    {
     "name": "stdout",
     "output_type": "stream",
     "text": [
      "epoch 19 | loss: 0.28323 | train_mse: 0.13867 | train_mae: 0.27851 |  0:00:08s\n"
     ]
    },
    {
     "name": "stdout",
     "output_type": "stream",
     "text": [
      "epoch 20 | loss: 0.19059 | train_mse: 0.1454  | train_mae: 0.2758  |  0:00:09s\n"
     ]
    },
    {
     "name": "stdout",
     "output_type": "stream",
     "text": [
      "epoch 21 | loss: 0.21496 | train_mse: 0.1554  | train_mae: 0.28484 |  0:00:09s\n"
     ]
    },
    {
     "name": "stdout",
     "output_type": "stream",
     "text": [
      "epoch 22 | loss: 0.25618 | train_mse: 0.12865 | train_mae: 0.2615  |  0:00:10s\n"
     ]
    },
    {
     "name": "stdout",
     "output_type": "stream",
     "text": [
      "epoch 23 | loss: 0.17031 | train_mse: 0.13762 | train_mae: 0.25803 |  0:00:10s\n"
     ]
    },
    {
     "name": "stdout",
     "output_type": "stream",
     "text": [
      "epoch 24 | loss: 0.19415 | train_mse: 0.13469 | train_mae: 0.26471 |  0:00:10s\n"
     ]
    },
    {
     "name": "stdout",
     "output_type": "stream",
     "text": [
      "epoch 25 | loss: 0.17429 | train_mse: 0.1128  | train_mae: 0.2512  |  0:00:11s\n"
     ]
    },
    {
     "name": "stdout",
     "output_type": "stream",
     "text": [
      "epoch 26 | loss: 0.17905 | train_mse: 0.13674 | train_mae: 0.27596 |  0:00:11s\n"
     ]
    },
    {
     "name": "stdout",
     "output_type": "stream",
     "text": [
      "epoch 27 | loss: 0.18972 | train_mse: 0.12973 | train_mae: 0.26514 |  0:00:11s\n"
     ]
    },
    {
     "name": "stdout",
     "output_type": "stream",
     "text": [
      "epoch 28 | loss: 0.22636 | train_mse: 0.12866 | train_mae: 0.25884 |  0:00:12s\n"
     ]
    },
    {
     "name": "stdout",
     "output_type": "stream",
     "text": [
      "epoch 29 | loss: 0.19289 | train_mse: 0.12538 | train_mae: 0.2553  |  0:00:12s\n"
     ]
    },
    {
     "name": "stdout",
     "output_type": "stream",
     "text": [
      "epoch 30 | loss: 0.16685 | train_mse: 0.12544 | train_mae: 0.25042 |  0:00:12s\n"
     ]
    },
    {
     "name": "stdout",
     "output_type": "stream",
     "text": [
      "epoch 31 | loss: 0.17298 | train_mse: 0.13468 | train_mae: 0.26078 |  0:00:13s\n"
     ]
    },
    {
     "name": "stdout",
     "output_type": "stream",
     "text": [
      "epoch 32 | loss: 0.17173 | train_mse: 0.13037 | train_mae: 0.26049 |  0:00:13s\n"
     ]
    },
    {
     "name": "stdout",
     "output_type": "stream",
     "text": [
      "epoch 33 | loss: 0.16974 | train_mse: 0.12236 | train_mae: 0.25074 |  0:00:13s\n"
     ]
    },
    {
     "name": "stdout",
     "output_type": "stream",
     "text": [
      "epoch 34 | loss: 0.1789  | train_mse: 0.11649 | train_mae: 0.24715 |  0:00:14s\n"
     ]
    },
    {
     "name": "stdout",
     "output_type": "stream",
     "text": [
      "epoch 35 | loss: 0.16629 | train_mse: 0.14002 | train_mae: 0.27106 |  0:00:14s\n"
     ]
    },
    {
     "name": "stdout",
     "output_type": "stream",
     "text": [
      "epoch 36 | loss: 0.15394 | train_mse: 0.12123 | train_mae: 0.25287 |  0:00:14s\n"
     ]
    },
    {
     "name": "stdout",
     "output_type": "stream",
     "text": [
      "epoch 37 | loss: 0.18861 | train_mse: 0.12362 | train_mae: 0.25337 |  0:00:15s\n"
     ]
    },
    {
     "name": "stdout",
     "output_type": "stream",
     "text": [
      "epoch 38 | loss: 0.2283  | train_mse: 0.11891 | train_mae: 0.24796 |  0:00:15s\n"
     ]
    },
    {
     "name": "stdout",
     "output_type": "stream",
     "text": [
      "epoch 39 | loss: 0.18453 | train_mse: 0.11013 | train_mae: 0.23864 |  0:00:15s\n"
     ]
    },
    {
     "name": "stdout",
     "output_type": "stream",
     "text": [
      "epoch 40 | loss: 0.14166 | train_mse: 0.10379 | train_mae: 0.23074 |  0:00:15s\n"
     ]
    },
    {
     "name": "stdout",
     "output_type": "stream",
     "text": [
      "epoch 41 | loss: 0.13646 | train_mse: 0.1137  | train_mae: 0.2409  |  0:00:16s\n"
     ]
    },
    {
     "name": "stdout",
     "output_type": "stream",
     "text": [
      "epoch 42 | loss: 0.19572 | train_mse: 0.11989 | train_mae: 0.24793 |  0:00:16s\n"
     ]
    },
    {
     "name": "stdout",
     "output_type": "stream",
     "text": [
      "epoch 43 | loss: 0.1539  | train_mse: 0.12471 | train_mae: 0.25307 |  0:00:16s\n"
     ]
    },
    {
     "name": "stdout",
     "output_type": "stream",
     "text": [
      "epoch 44 | loss: 0.16376 | train_mse: 0.11916 | train_mae: 0.24222 |  0:00:17s\n"
     ]
    },
    {
     "name": "stdout",
     "output_type": "stream",
     "text": [
      "epoch 45 | loss: 0.19491 | train_mse: 0.11785 | train_mae: 0.24331 |  0:00:17s\n"
     ]
    },
    {
     "name": "stdout",
     "output_type": "stream",
     "text": [
      "epoch 46 | loss: 0.16245 | train_mse: 0.10195 | train_mae: 0.23156 |  0:00:17s\n"
     ]
    },
    {
     "name": "stdout",
     "output_type": "stream",
     "text": [
      "epoch 47 | loss: 0.17625 | train_mse: 0.09479 | train_mae: 0.23074 |  0:00:18s\n"
     ]
    },
    {
     "name": "stdout",
     "output_type": "stream",
     "text": [
      "epoch 48 | loss: 0.1784  | train_mse: 0.10523 | train_mae: 0.23395 |  0:00:18s\n"
     ]
    },
    {
     "name": "stdout",
     "output_type": "stream",
     "text": [
      "epoch 49 | loss: 0.15393 | train_mse: 0.08798 | train_mae: 0.2151  |  0:00:18s\n"
     ]
    },
    {
     "name": "stdout",
     "output_type": "stream",
     "text": [
      "epoch 50 | loss: 0.15331 | train_mse: 0.10995 | train_mae: 0.23506 |  0:00:19s\n"
     ]
    },
    {
     "name": "stdout",
     "output_type": "stream",
     "text": [
      "epoch 51 | loss: 0.18616 | train_mse: 0.11158 | train_mae: 0.23668 |  0:00:19s\n"
     ]
    },
    {
     "name": "stdout",
     "output_type": "stream",
     "text": [
      "epoch 52 | loss: 0.14605 | train_mse: 0.09105 | train_mae: 0.21765 |  0:00:19s\n"
     ]
    },
    {
     "name": "stdout",
     "output_type": "stream",
     "text": [
      "epoch 53 | loss: 0.13621 | train_mse: 0.09294 | train_mae: 0.22187 |  0:00:19s\n"
     ]
    },
    {
     "name": "stdout",
     "output_type": "stream",
     "text": [
      "epoch 54 | loss: 0.13266 | train_mse: 0.09504 | train_mae: 0.22971 |  0:00:20s\n"
     ]
    },
    {
     "name": "stdout",
     "output_type": "stream",
     "text": [
      "epoch 55 | loss: 0.14831 | train_mse: 0.101   | train_mae: 0.22791 |  0:00:20s\n"
     ]
    },
    {
     "name": "stdout",
     "output_type": "stream",
     "text": [
      "epoch 56 | loss: 0.13827 | train_mse: 0.09496 | train_mae: 0.2273  |  0:00:20s\n"
     ]
    },
    {
     "name": "stdout",
     "output_type": "stream",
     "text": [
      "epoch 57 | loss: 0.1693  | train_mse: 0.09471 | train_mae: 0.22195 |  0:00:21s\n"
     ]
    },
    {
     "name": "stdout",
     "output_type": "stream",
     "text": [
      "epoch 58 | loss: 0.16307 | train_mse: 0.11385 | train_mae: 0.23995 |  0:00:21s\n"
     ]
    },
    {
     "name": "stdout",
     "output_type": "stream",
     "text": [
      "epoch 59 | loss: 0.15953 | train_mse: 0.11026 | train_mae: 0.23633 |  0:00:21s\n"
     ]
    },
    {
     "name": "stdout",
     "output_type": "stream",
     "text": [
      "epoch 60 | loss: 0.17623 | train_mse: 0.09155 | train_mae: 0.22297 |  0:00:21s\n"
     ]
    },
    {
     "name": "stdout",
     "output_type": "stream",
     "text": [
      "epoch 61 | loss: 0.15233 | train_mse: 0.09367 | train_mae: 0.22391 |  0:00:22s\n"
     ]
    },
    {
     "name": "stdout",
     "output_type": "stream",
     "text": [
      "epoch 62 | loss: 0.14214 | train_mse: 0.08154 | train_mae: 0.21084 |  0:00:22s\n"
     ]
    },
    {
     "name": "stdout",
     "output_type": "stream",
     "text": [
      "epoch 63 | loss: 0.16087 | train_mse: 0.09568 | train_mae: 0.2197  |  0:00:22s\n"
     ]
    },
    {
     "name": "stdout",
     "output_type": "stream",
     "text": [
      "epoch 64 | loss: 0.12253 | train_mse: 0.08369 | train_mae: 0.2078  |  0:00:23s\n"
     ]
    },
    {
     "name": "stdout",
     "output_type": "stream",
     "text": [
      "epoch 65 | loss: 0.12707 | train_mse: 0.08516 | train_mae: 0.21024 |  0:00:23s\n"
     ]
    },
    {
     "name": "stdout",
     "output_type": "stream",
     "text": [
      "epoch 66 | loss: 0.13216 | train_mse: 0.07034 | train_mae: 0.19644 |  0:00:23s\n"
     ]
    },
    {
     "name": "stdout",
     "output_type": "stream",
     "text": [
      "epoch 67 | loss: 0.16428 | train_mse: 0.08165 | train_mae: 0.20808 |  0:00:24s\n"
     ]
    },
    {
     "name": "stdout",
     "output_type": "stream",
     "text": [
      "epoch 68 | loss: 0.14217 | train_mse: 0.09521 | train_mae: 0.23019 |  0:00:24s\n"
     ]
    },
    {
     "name": "stdout",
     "output_type": "stream",
     "text": [
      "epoch 69 | loss: 0.14384 | train_mse: 0.09524 | train_mae: 0.2261  |  0:00:24s\n"
     ]
    },
    {
     "name": "stdout",
     "output_type": "stream",
     "text": [
      "epoch 70 | loss: 0.15407 | train_mse: 0.09669 | train_mae: 0.22579 |  0:00:25s\n"
     ]
    },
    {
     "name": "stdout",
     "output_type": "stream",
     "text": [
      "epoch 71 | loss: 0.13751 | train_mse: 0.11243 | train_mae: 0.24901 |  0:00:25s\n"
     ]
    },
    {
     "name": "stdout",
     "output_type": "stream",
     "text": [
      "epoch 72 | loss: 0.15895 | train_mse: 0.09407 | train_mae: 0.22793 |  0:00:25s\n"
     ]
    },
    {
     "name": "stdout",
     "output_type": "stream",
     "text": [
      "epoch 73 | loss: 0.14593 | train_mse: 0.11469 | train_mae: 0.24954 |  0:00:26s\n"
     ]
    },
    {
     "name": "stdout",
     "output_type": "stream",
     "text": [
      "epoch 74 | loss: 0.12149 | train_mse: 0.08349 | train_mae: 0.21766 |  0:00:26s\n"
     ]
    },
    {
     "name": "stdout",
     "output_type": "stream",
     "text": [
      "epoch 75 | loss: 0.13678 | train_mse: 0.07424 | train_mae: 0.2032  |  0:00:26s\n"
     ]
    },
    {
     "name": "stdout",
     "output_type": "stream",
     "text": [
      "epoch 76 | loss: 0.12567 | train_mse: 0.08681 | train_mae: 0.21213 |  0:00:26s\n"
     ]
    },
    {
     "name": "stdout",
     "output_type": "stream",
     "text": [
      "epoch 77 | loss: 0.14534 | train_mse: 0.07444 | train_mae: 0.20143 |  0:00:27s\n"
     ]
    },
    {
     "name": "stdout",
     "output_type": "stream",
     "text": [
      "epoch 78 | loss: 0.14335 | train_mse: 0.10236 | train_mae: 0.22748 |  0:00:27s\n"
     ]
    },
    {
     "name": "stdout",
     "output_type": "stream",
     "text": [
      "epoch 79 | loss: 0.12781 | train_mse: 0.07187 | train_mae: 0.1968  |  0:00:27s\n"
     ]
    },
    {
     "name": "stdout",
     "output_type": "stream",
     "text": [
      "epoch 80 | loss: 0.11826 | train_mse: 0.10131 | train_mae: 0.2235  |  0:00:28s\n"
     ]
    },
    {
     "name": "stdout",
     "output_type": "stream",
     "text": [
      "epoch 81 | loss: 0.13751 | train_mse: 0.08107 | train_mae: 0.21002 |  0:00:28s\n"
     ]
    },
    {
     "name": "stdout",
     "output_type": "stream",
     "text": [
      "epoch 82 | loss: 0.12184 | train_mse: 0.08627 | train_mae: 0.22222 |  0:00:28s\n"
     ]
    },
    {
     "name": "stdout",
     "output_type": "stream",
     "text": [
      "epoch 83 | loss: 0.11666 | train_mse: 0.0843  | train_mae: 0.20459 |  0:00:29s\n"
     ]
    },
    {
     "name": "stdout",
     "output_type": "stream",
     "text": [
      "epoch 84 | loss: 0.12381 | train_mse: 0.07726 | train_mae: 0.21015 |  0:00:29s\n"
     ]
    },
    {
     "name": "stdout",
     "output_type": "stream",
     "text": [
      "epoch 85 | loss: 0.16991 | train_mse: 0.07573 | train_mae: 0.21015 |  0:00:29s\n"
     ]
    },
    {
     "name": "stdout",
     "output_type": "stream",
     "text": [
      "epoch 86 | loss: 0.10893 | train_mse: 0.06509 | train_mae: 0.19672 |  0:00:29s\n"
     ]
    },
    {
     "name": "stdout",
     "output_type": "stream",
     "text": [
      "epoch 87 | loss: 0.11118 | train_mse: 0.0664  | train_mae: 0.19588 |  0:00:30s\n"
     ]
    },
    {
     "name": "stdout",
     "output_type": "stream",
     "text": [
      "epoch 88 | loss: 0.1573  | train_mse: 0.06877 | train_mae: 0.1997  |  0:00:30s\n"
     ]
    },
    {
     "name": "stdout",
     "output_type": "stream",
     "text": [
      "epoch 89 | loss: 0.1272  | train_mse: 0.08213 | train_mae: 0.21684 |  0:00:30s\n"
     ]
    },
    {
     "name": "stdout",
     "output_type": "stream",
     "text": [
      "epoch 90 | loss: 0.14982 | train_mse: 0.08694 | train_mae: 0.21913 |  0:00:31s\n"
     ]
    },
    {
     "name": "stdout",
     "output_type": "stream",
     "text": [
      "epoch 91 | loss: 0.14804 | train_mse: 0.07282 | train_mae: 0.20386 |  0:00:31s\n"
     ]
    },
    {
     "name": "stdout",
     "output_type": "stream",
     "text": [
      "epoch 92 | loss: 0.14537 | train_mse: 0.0824  | train_mae: 0.21465 |  0:00:31s\n"
     ]
    },
    {
     "name": "stdout",
     "output_type": "stream",
     "text": [
      "epoch 93 | loss: 0.14183 | train_mse: 0.07812 | train_mae: 0.2055  |  0:00:31s\n"
     ]
    },
    {
     "name": "stdout",
     "output_type": "stream",
     "text": [
      "epoch 94 | loss: 0.17589 | train_mse: 0.08084 | train_mae: 0.21325 |  0:00:32s\n"
     ]
    },
    {
     "name": "stdout",
     "output_type": "stream",
     "text": [
      "epoch 95 | loss: 0.10899 | train_mse: 0.07384 | train_mae: 0.20629 |  0:00:32s\n"
     ]
    },
    {
     "name": "stdout",
     "output_type": "stream",
     "text": [
      "epoch 96 | loss: 0.14111 | train_mse: 0.08522 | train_mae: 0.21633 |  0:00:33s\n"
     ]
    },
    {
     "name": "stdout",
     "output_type": "stream",
     "text": [
      "epoch 97 | loss: 0.11652 | train_mse: 0.08108 | train_mae: 0.21076 |  0:00:34s\n"
     ]
    },
    {
     "name": "stdout",
     "output_type": "stream",
     "text": [
      "epoch 98 | loss: 0.15397 | train_mse: 0.07484 | train_mae: 0.20401 |  0:00:35s\n"
     ]
    },
    {
     "name": "stdout",
     "output_type": "stream",
     "text": [
      "epoch 99 | loss: 0.14433 | train_mse: 0.07252 | train_mae: 0.20011 |  0:00:36s\n"
     ]
    },
    {
     "name": "stdout",
     "output_type": "stream",
     "text": [
      "epoch 100| loss: 0.20156 | train_mse: 0.07057 | train_mae: 0.19837 |  0:00:36s\n"
     ]
    },
    {
     "name": "stdout",
     "output_type": "stream",
     "text": [
      "epoch 101| loss: 0.15076 | train_mse: 0.08775 | train_mae: 0.21779 |  0:00:36s\n"
     ]
    },
    {
     "name": "stdout",
     "output_type": "stream",
     "text": [
      "epoch 102| loss: 0.17091 | train_mse: 0.083   | train_mae: 0.21051 |  0:00:37s\n"
     ]
    },
    {
     "name": "stdout",
     "output_type": "stream",
     "text": [
      "epoch 103| loss: 0.15622 | train_mse: 0.07243 | train_mae: 0.19386 |  0:00:37s\n"
     ]
    },
    {
     "name": "stdout",
     "output_type": "stream",
     "text": [
      "epoch 104| loss: 0.15639 | train_mse: 0.08642 | train_mae: 0.21871 |  0:00:38s\n"
     ]
    },
    {
     "name": "stdout",
     "output_type": "stream",
     "text": [
      "epoch 105| loss: 0.11    | train_mse: 0.07225 | train_mae: 0.19779 |  0:00:38s\n"
     ]
    },
    {
     "name": "stdout",
     "output_type": "stream",
     "text": [
      "epoch 106| loss: 0.14188 | train_mse: 0.08229 | train_mae: 0.21668 |  0:00:39s\n"
     ]
    },
    {
     "name": "stdout",
     "output_type": "stream",
     "text": [
      "epoch 107| loss: 0.15595 | train_mse: 0.09269 | train_mae: 0.22437 |  0:00:39s\n"
     ]
    },
    {
     "name": "stdout",
     "output_type": "stream",
     "text": [
      "epoch 108| loss: 0.11026 | train_mse: 0.0806  | train_mae: 0.20563 |  0:00:39s\n"
     ]
    },
    {
     "name": "stdout",
     "output_type": "stream",
     "text": [
      "epoch 109| loss: 0.12624 | train_mse: 0.09587 | train_mae: 0.2288  |  0:00:40s\n"
     ]
    },
    {
     "name": "stdout",
     "output_type": "stream",
     "text": [
      "epoch 110| loss: 0.10588 | train_mse: 0.06812 | train_mae: 0.19466 |  0:00:40s\n"
     ]
    },
    {
     "name": "stdout",
     "output_type": "stream",
     "text": [
      "epoch 111| loss: 0.14498 | train_mse: 0.08696 | train_mae: 0.21679 |  0:00:40s\n"
     ]
    },
    {
     "name": "stdout",
     "output_type": "stream",
     "text": [
      "epoch 112| loss: 0.12213 | train_mse: 0.07228 | train_mae: 0.20297 |  0:00:41s\n"
     ]
    },
    {
     "name": "stdout",
     "output_type": "stream",
     "text": [
      "epoch 113| loss: 0.13045 | train_mse: 0.08944 | train_mae: 0.21894 |  0:00:42s\n"
     ]
    },
    {
     "name": "stdout",
     "output_type": "stream",
     "text": [
      "epoch 114| loss: 0.14242 | train_mse: 0.09859 | train_mae: 0.2317  |  0:00:42s\n"
     ]
    },
    {
     "name": "stdout",
     "output_type": "stream",
     "text": [
      "epoch 115| loss: 0.10481 | train_mse: 0.07076 | train_mae: 0.19896 |  0:00:43s\n"
     ]
    },
    {
     "name": "stdout",
     "output_type": "stream",
     "text": [
      "epoch 116| loss: 0.11627 | train_mse: 0.08142 | train_mae: 0.21568 |  0:00:45s\n"
     ]
    },
    {
     "name": "stdout",
     "output_type": "stream",
     "text": [
      "epoch 117| loss: 0.14085 | train_mse: 0.06237 | train_mae: 0.1878  |  0:00:46s\n"
     ]
    },
    {
     "name": "stdout",
     "output_type": "stream",
     "text": [
      "epoch 118| loss: 0.11925 | train_mse: 0.06882 | train_mae: 0.19289 |  0:00:46s\n"
     ]
    },
    {
     "name": "stdout",
     "output_type": "stream",
     "text": [
      "epoch 119| loss: 0.10484 | train_mse: 0.09025 | train_mae: 0.21862 |  0:00:46s\n"
     ]
    },
    {
     "name": "stdout",
     "output_type": "stream",
     "text": [
      "epoch 120| loss: 0.12486 | train_mse: 0.07559 | train_mae: 0.20055 |  0:00:47s\n"
     ]
    },
    {
     "name": "stdout",
     "output_type": "stream",
     "text": [
      "epoch 121| loss: 0.13224 | train_mse: 0.0688  | train_mae: 0.19373 |  0:00:47s\n"
     ]
    },
    {
     "name": "stdout",
     "output_type": "stream",
     "text": [
      "epoch 122| loss: 0.13816 | train_mse: 0.07932 | train_mae: 0.20509 |  0:00:48s\n"
     ]
    },
    {
     "name": "stdout",
     "output_type": "stream",
     "text": [
      "epoch 123| loss: 0.08844 | train_mse: 0.06416 | train_mae: 0.1883  |  0:00:48s\n"
     ]
    },
    {
     "name": "stdout",
     "output_type": "stream",
     "text": [
      "epoch 124| loss: 0.13773 | train_mse: 0.06967 | train_mae: 0.19454 |  0:00:48s\n"
     ]
    },
    {
     "name": "stdout",
     "output_type": "stream",
     "text": [
      "epoch 125| loss: 0.09028 | train_mse: 0.06065 | train_mae: 0.18476 |  0:00:48s\n"
     ]
    },
    {
     "name": "stdout",
     "output_type": "stream",
     "text": [
      "epoch 126| loss: 0.12959 | train_mse: 0.06789 | train_mae: 0.19657 |  0:00:49s\n"
     ]
    },
    {
     "name": "stdout",
     "output_type": "stream",
     "text": [
      "epoch 127| loss: 0.08986 | train_mse: 0.05619 | train_mae: 0.18151 |  0:00:49s\n"
     ]
    },
    {
     "name": "stdout",
     "output_type": "stream",
     "text": [
      "epoch 128| loss: 0.09384 | train_mse: 0.06727 | train_mae: 0.19769 |  0:00:50s\n"
     ]
    },
    {
     "name": "stdout",
     "output_type": "stream",
     "text": [
      "epoch 129| loss: 0.17208 | train_mse: 0.0776  | train_mae: 0.21085 |  0:00:51s\n"
     ]
    },
    {
     "name": "stdout",
     "output_type": "stream",
     "text": [
      "epoch 130| loss: 0.12455 | train_mse: 0.07192 | train_mae: 0.20011 |  0:00:51s\n"
     ]
    },
    {
     "name": "stdout",
     "output_type": "stream",
     "text": [
      "epoch 131| loss: 0.13831 | train_mse: 0.07704 | train_mae: 0.20346 |  0:00:52s\n"
     ]
    },
    {
     "name": "stdout",
     "output_type": "stream",
     "text": [
      "epoch 132| loss: 0.13527 | train_mse: 0.08111 | train_mae: 0.21096 |  0:00:53s\n"
     ]
    },
    {
     "name": "stdout",
     "output_type": "stream",
     "text": [
      "epoch 133| loss: 0.13287 | train_mse: 0.07153 | train_mae: 0.19804 |  0:00:53s\n"
     ]
    },
    {
     "name": "stdout",
     "output_type": "stream",
     "text": [
      "epoch 134| loss: 0.1298  | train_mse: 0.10248 | train_mae: 0.22687 |  0:00:54s\n"
     ]
    },
    {
     "name": "stdout",
     "output_type": "stream",
     "text": [
      "epoch 135| loss: 0.17731 | train_mse: 0.06396 | train_mae: 0.19012 |  0:00:54s\n"
     ]
    },
    {
     "name": "stdout",
     "output_type": "stream",
     "text": [
      "epoch 136| loss: 0.11925 | train_mse: 0.05988 | train_mae: 0.18667 |  0:00:54s\n"
     ]
    },
    {
     "name": "stdout",
     "output_type": "stream",
     "text": [
      "epoch 137| loss: 0.13374 | train_mse: 0.08297 | train_mae: 0.21622 |  0:00:55s\n"
     ]
    },
    {
     "name": "stdout",
     "output_type": "stream",
     "text": [
      "epoch 138| loss: 0.1078  | train_mse: 0.06306 | train_mae: 0.19117 |  0:00:55s\n"
     ]
    },
    {
     "name": "stdout",
     "output_type": "stream",
     "text": [
      "epoch 139| loss: 0.10644 | train_mse: 0.06625 | train_mae: 0.19523 |  0:00:56s\n"
     ]
    },
    {
     "name": "stdout",
     "output_type": "stream",
     "text": [
      "epoch 140| loss: 0.11259 | train_mse: 0.06146 | train_mae: 0.18974 |  0:00:56s\n"
     ]
    },
    {
     "name": "stdout",
     "output_type": "stream",
     "text": [
      "epoch 141| loss: 0.12825 | train_mse: 0.08744 | train_mae: 0.2086  |  0:00:57s\n"
     ]
    },
    {
     "name": "stdout",
     "output_type": "stream",
     "text": [
      "epoch 142| loss: 0.12996 | train_mse: 0.0641  | train_mae: 0.19225 |  0:00:58s\n"
     ]
    },
    {
     "name": "stdout",
     "output_type": "stream",
     "text": [
      "epoch 143| loss: 0.14259 | train_mse: 0.08683 | train_mae: 0.2217  |  0:00:58s\n"
     ]
    },
    {
     "name": "stdout",
     "output_type": "stream",
     "text": [
      "epoch 144| loss: 0.11828 | train_mse: 0.07114 | train_mae: 0.19866 |  0:00:59s\n"
     ]
    },
    {
     "name": "stdout",
     "output_type": "stream",
     "text": [
      "epoch 145| loss: 0.15182 | train_mse: 0.06327 | train_mae: 0.19031 |  0:00:59s\n"
     ]
    },
    {
     "name": "stdout",
     "output_type": "stream",
     "text": [
      "epoch 146| loss: 0.1369  | train_mse: 0.09558 | train_mae: 0.22203 |  0:01:00s\n"
     ]
    },
    {
     "name": "stdout",
     "output_type": "stream",
     "text": [
      "epoch 147| loss: 0.11555 | train_mse: 0.06386 | train_mae: 0.18847 |  0:01:00s\n"
     ]
    },
    {
     "name": "stdout",
     "output_type": "stream",
     "text": [
      "epoch 148| loss: 0.15141 | train_mse: 0.07623 | train_mae: 0.20639 |  0:01:01s\n"
     ]
    },
    {
     "name": "stdout",
     "output_type": "stream",
     "text": [
      "epoch 149| loss: 0.11231 | train_mse: 0.06013 | train_mae: 0.18393 |  0:01:01s\n"
     ]
    },
    {
     "name": "stdout",
     "output_type": "stream",
     "text": [
      "epoch 150| loss: 0.12154 | train_mse: 0.06244 | train_mae: 0.17994 |  0:01:01s\n"
     ]
    },
    {
     "name": "stdout",
     "output_type": "stream",
     "text": [
      "epoch 151| loss: 0.0947  | train_mse: 0.0619  | train_mae: 0.18803 |  0:01:02s\n"
     ]
    },
    {
     "name": "stdout",
     "output_type": "stream",
     "text": [
      "epoch 152| loss: 0.11038 | train_mse: 0.06516 | train_mae: 0.19205 |  0:01:02s\n"
     ]
    },
    {
     "name": "stdout",
     "output_type": "stream",
     "text": [
      "epoch 153| loss: 0.16166 | train_mse: 0.09413 | train_mae: 0.22547 |  0:01:03s\n"
     ]
    },
    {
     "name": "stdout",
     "output_type": "stream",
     "text": [
      "epoch 154| loss: 0.1143  | train_mse: 0.06318 | train_mae: 0.18895 |  0:01:03s\n"
     ]
    },
    {
     "name": "stdout",
     "output_type": "stream",
     "text": [
      "epoch 155| loss: 0.10121 | train_mse: 0.06836 | train_mae: 0.19734 |  0:01:04s\n"
     ]
    },
    {
     "name": "stdout",
     "output_type": "stream",
     "text": [
      "epoch 156| loss: 0.12935 | train_mse: 0.08695 | train_mae: 0.2206  |  0:01:04s\n"
     ]
    },
    {
     "name": "stdout",
     "output_type": "stream",
     "text": [
      "epoch 157| loss: 0.12742 | train_mse: 0.06559 | train_mae: 0.19103 |  0:01:04s\n"
     ]
    },
    {
     "name": "stdout",
     "output_type": "stream",
     "text": [
      "epoch 158| loss: 0.09396 | train_mse: 0.08319 | train_mae: 0.20694 |  0:01:05s\n"
     ]
    },
    {
     "name": "stdout",
     "output_type": "stream",
     "text": [
      "epoch 159| loss: 0.14069 | train_mse: 0.07766 | train_mae: 0.19804 |  0:01:05s\n"
     ]
    },
    {
     "name": "stdout",
     "output_type": "stream",
     "text": [
      "epoch 160| loss: 0.12176 | train_mse: 0.06876 | train_mae: 0.19702 |  0:01:05s\n"
     ]
    },
    {
     "name": "stdout",
     "output_type": "stream",
     "text": [
      "epoch 161| loss: 0.14007 | train_mse: 0.11519 | train_mae: 0.25256 |  0:01:06s\n"
     ]
    },
    {
     "name": "stdout",
     "output_type": "stream",
     "text": [
      "epoch 162| loss: 0.13541 | train_mse: 0.06244 | train_mae: 0.1893  |  0:01:06s\n"
     ]
    },
    {
     "name": "stdout",
     "output_type": "stream",
     "text": [
      "epoch 163| loss: 0.10672 | train_mse: 0.08924 | train_mae: 0.21983 |  0:01:06s\n"
     ]
    },
    {
     "name": "stdout",
     "output_type": "stream",
     "text": [
      "epoch 164| loss: 0.11375 | train_mse: 0.0635  | train_mae: 0.18828 |  0:01:07s\n"
     ]
    },
    {
     "name": "stdout",
     "output_type": "stream",
     "text": [
      "epoch 165| loss: 0.11855 | train_mse: 0.07221 | train_mae: 0.19964 |  0:01:07s\n"
     ]
    },
    {
     "name": "stdout",
     "output_type": "stream",
     "text": [
      "epoch 166| loss: 0.11338 | train_mse: 0.08337 | train_mae: 0.21676 |  0:01:07s\n"
     ]
    },
    {
     "name": "stdout",
     "output_type": "stream",
     "text": [
      "epoch 167| loss: 0.13483 | train_mse: 0.05668 | train_mae: 0.1807  |  0:01:08s\n"
     ]
    },
    {
     "name": "stdout",
     "output_type": "stream",
     "text": [
      "epoch 168| loss: 0.11891 | train_mse: 0.06727 | train_mae: 0.19507 |  0:01:08s\n"
     ]
    },
    {
     "name": "stdout",
     "output_type": "stream",
     "text": [
      "epoch 169| loss: 0.10046 | train_mse: 0.05881 | train_mae: 0.18185 |  0:01:08s\n"
     ]
    },
    {
     "name": "stdout",
     "output_type": "stream",
     "text": [
      "epoch 170| loss: 0.09793 | train_mse: 0.05616 | train_mae: 0.17933 |  0:01:09s\n"
     ]
    },
    {
     "name": "stdout",
     "output_type": "stream",
     "text": [
      "epoch 171| loss: 0.10829 | train_mse: 0.05714 | train_mae: 0.18372 |  0:01:09s\n"
     ]
    },
    {
     "name": "stdout",
     "output_type": "stream",
     "text": [
      "epoch 172| loss: 0.13067 | train_mse: 0.06789 | train_mae: 0.19677 |  0:01:09s\n"
     ]
    },
    {
     "name": "stdout",
     "output_type": "stream",
     "text": [
      "epoch 173| loss: 0.11822 | train_mse: 0.06364 | train_mae: 0.18887 |  0:01:10s\n"
     ]
    },
    {
     "name": "stdout",
     "output_type": "stream",
     "text": [
      "epoch 174| loss: 0.10873 | train_mse: 0.07262 | train_mae: 0.20049 |  0:01:10s\n"
     ]
    },
    {
     "name": "stdout",
     "output_type": "stream",
     "text": [
      "epoch 175| loss: 0.14202 | train_mse: 0.07493 | train_mae: 0.20861 |  0:01:10s\n"
     ]
    },
    {
     "name": "stdout",
     "output_type": "stream",
     "text": [
      "epoch 176| loss: 0.10026 | train_mse: 0.072   | train_mae: 0.1973  |  0:01:11s\n"
     ]
    },
    {
     "name": "stdout",
     "output_type": "stream",
     "text": [
      "epoch 177| loss: 0.11981 | train_mse: 0.08321 | train_mae: 0.2208  |  0:01:11s\n"
     ]
    },
    {
     "name": "stdout",
     "output_type": "stream",
     "text": [
      "epoch 178| loss: 0.11509 | train_mse: 0.07181 | train_mae: 0.20219 |  0:01:11s\n"
     ]
    },
    {
     "name": "stdout",
     "output_type": "stream",
     "text": [
      "epoch 179| loss: 0.11299 | train_mse: 0.08591 | train_mae: 0.22496 |  0:01:12s\n"
     ]
    },
    {
     "name": "stdout",
     "output_type": "stream",
     "text": [
      "epoch 180| loss: 0.10956 | train_mse: 0.06389 | train_mae: 0.19123 |  0:01:13s\n"
     ]
    },
    {
     "name": "stdout",
     "output_type": "stream",
     "text": [
      "epoch 181| loss: 0.12757 | train_mse: 0.07015 | train_mae: 0.20365 |  0:01:13s\n"
     ]
    },
    {
     "name": "stdout",
     "output_type": "stream",
     "text": [
      "epoch 182| loss: 0.09587 | train_mse: 0.07244 | train_mae: 0.1993  |  0:01:13s\n"
     ]
    },
    {
     "name": "stdout",
     "output_type": "stream",
     "text": [
      "epoch 183| loss: 0.10888 | train_mse: 0.0738  | train_mae: 0.19689 |  0:01:14s\n"
     ]
    },
    {
     "name": "stdout",
     "output_type": "stream",
     "text": [
      "epoch 184| loss: 0.13027 | train_mse: 0.08395 | train_mae: 0.21209 |  0:01:14s\n"
     ]
    },
    {
     "name": "stdout",
     "output_type": "stream",
     "text": [
      "epoch 185| loss: 0.16231 | train_mse: 0.07335 | train_mae: 0.20406 |  0:01:14s\n"
     ]
    },
    {
     "name": "stdout",
     "output_type": "stream",
     "text": [
      "epoch 186| loss: 0.1222  | train_mse: 0.0646  | train_mae: 0.18962 |  0:01:15s\n"
     ]
    },
    {
     "name": "stdout",
     "output_type": "stream",
     "text": [
      "epoch 187| loss: 0.15481 | train_mse: 0.06135 | train_mae: 0.1829  |  0:01:15s\n"
     ]
    },
    {
     "name": "stdout",
     "output_type": "stream",
     "text": [
      "epoch 188| loss: 0.10064 | train_mse: 0.06552 | train_mae: 0.19065 |  0:01:16s\n"
     ]
    },
    {
     "name": "stdout",
     "output_type": "stream",
     "text": [
      "epoch 189| loss: 0.12368 | train_mse: 0.06788 | train_mae: 0.18732 |  0:01:16s\n"
     ]
    },
    {
     "name": "stdout",
     "output_type": "stream",
     "text": [
      "epoch 190| loss: 0.10866 | train_mse: 0.05854 | train_mae: 0.18254 |  0:01:16s\n"
     ]
    },
    {
     "name": "stdout",
     "output_type": "stream",
     "text": [
      "epoch 191| loss: 0.11405 | train_mse: 0.06622 | train_mae: 0.19246 |  0:01:17s\n"
     ]
    },
    {
     "name": "stdout",
     "output_type": "stream",
     "text": [
      "epoch 192| loss: 0.11243 | train_mse: 0.06593 | train_mae: 0.19493 |  0:01:18s\n"
     ]
    },
    {
     "name": "stdout",
     "output_type": "stream",
     "text": [
      "epoch 193| loss: 0.14187 | train_mse: 0.07041 | train_mae: 0.20346 |  0:01:19s\n"
     ]
    },
    {
     "name": "stdout",
     "output_type": "stream",
     "text": [
      "epoch 194| loss: 0.12054 | train_mse: 0.06415 | train_mae: 0.19005 |  0:01:19s\n"
     ]
    },
    {
     "name": "stdout",
     "output_type": "stream",
     "text": [
      "epoch 195| loss: 0.12193 | train_mse: 0.07438 | train_mae: 0.20343 |  0:01:19s\n"
     ]
    },
    {
     "name": "stdout",
     "output_type": "stream",
     "text": [
      "epoch 196| loss: 0.1094  | train_mse: 0.06497 | train_mae: 0.19223 |  0:01:20s\n"
     ]
    },
    {
     "name": "stdout",
     "output_type": "stream",
     "text": [
      "epoch 197| loss: 0.11606 | train_mse: 0.05929 | train_mae: 0.18492 |  0:01:20s\n"
     ]
    },
    {
     "name": "stdout",
     "output_type": "stream",
     "text": [
      "epoch 198| loss: 0.12465 | train_mse: 0.07052 | train_mae: 0.19828 |  0:01:20s\n"
     ]
    },
    {
     "name": "stdout",
     "output_type": "stream",
     "text": [
      "epoch 199| loss: 0.10922 | train_mse: 0.05803 | train_mae: 0.18317 |  0:01:21s\n"
     ]
    },
    {
     "name": "stdout",
     "output_type": "stream",
     "text": [
      "epoch 200| loss: 0.09566 | train_mse: 0.06668 | train_mae: 0.19546 |  0:01:22s\n"
     ]
    },
    {
     "name": "stdout",
     "output_type": "stream",
     "text": [
      "epoch 201| loss: 0.15069 | train_mse: 0.08252 | train_mae: 0.21803 |  0:01:24s\n"
     ]
    },
    {
     "name": "stdout",
     "output_type": "stream",
     "text": [
      "epoch 202| loss: 0.08936 | train_mse: 0.0581  | train_mae: 0.18113 |  0:01:25s\n"
     ]
    },
    {
     "name": "stdout",
     "output_type": "stream",
     "text": [
      "epoch 203| loss: 0.11569 | train_mse: 0.06296 | train_mae: 0.18343 |  0:01:26s\n"
     ]
    },
    {
     "name": "stdout",
     "output_type": "stream",
     "text": [
      "epoch 204| loss: 0.1315  | train_mse: 0.05282 | train_mae: 0.17331 |  0:01:27s\n"
     ]
    },
    {
     "name": "stdout",
     "output_type": "stream",
     "text": [
      "epoch 205| loss: 0.12926 | train_mse: 0.0635  | train_mae: 0.19138 |  0:01:29s\n"
     ]
    },
    {
     "name": "stdout",
     "output_type": "stream",
     "text": [
      "epoch 206| loss: 0.09135 | train_mse: 0.04944 | train_mae: 0.17195 |  0:01:29s\n"
     ]
    },
    {
     "name": "stdout",
     "output_type": "stream",
     "text": [
      "epoch 207| loss: 0.11043 | train_mse: 0.05137 | train_mae: 0.17281 |  0:01:30s\n"
     ]
    },
    {
     "name": "stdout",
     "output_type": "stream",
     "text": [
      "epoch 208| loss: 0.11408 | train_mse: 0.04845 | train_mae: 0.16671 |  0:01:30s\n"
     ]
    },
    {
     "name": "stdout",
     "output_type": "stream",
     "text": [
      "epoch 209| loss: 0.08394 | train_mse: 0.05717 | train_mae: 0.18508 |  0:01:31s\n"
     ]
    },
    {
     "name": "stdout",
     "output_type": "stream",
     "text": [
      "epoch 210| loss: 0.10633 | train_mse: 0.06282 | train_mae: 0.18893 |  0:01:31s\n"
     ]
    },
    {
     "name": "stdout",
     "output_type": "stream",
     "text": [
      "epoch 211| loss: 0.10654 | train_mse: 0.05591 | train_mae: 0.18449 |  0:01:32s\n"
     ]
    },
    {
     "name": "stdout",
     "output_type": "stream",
     "text": [
      "epoch 212| loss: 0.13189 | train_mse: 0.06722 | train_mae: 0.1983  |  0:01:32s\n"
     ]
    },
    {
     "name": "stdout",
     "output_type": "stream",
     "text": [
      "epoch 213| loss: 0.13038 | train_mse: 0.06679 | train_mae: 0.19987 |  0:01:33s\n"
     ]
    },
    {
     "name": "stdout",
     "output_type": "stream",
     "text": [
      "epoch 214| loss: 0.09978 | train_mse: 0.06242 | train_mae: 0.19128 |  0:01:33s\n"
     ]
    },
    {
     "name": "stdout",
     "output_type": "stream",
     "text": [
      "epoch 215| loss: 0.10581 | train_mse: 0.06274 | train_mae: 0.19333 |  0:01:34s\n"
     ]
    },
    {
     "name": "stdout",
     "output_type": "stream",
     "text": [
      "epoch 216| loss: 0.12255 | train_mse: 0.08667 | train_mae: 0.22137 |  0:01:34s\n"
     ]
    },
    {
     "name": "stdout",
     "output_type": "stream",
     "text": [
      "epoch 217| loss: 0.10281 | train_mse: 0.0548  | train_mae: 0.17355 |  0:01:35s\n"
     ]
    },
    {
     "name": "stdout",
     "output_type": "stream",
     "text": [
      "epoch 218| loss: 0.09999 | train_mse: 0.06851 | train_mae: 0.20072 |  0:01:35s\n"
     ]
    },
    {
     "name": "stdout",
     "output_type": "stream",
     "text": [
      "epoch 219| loss: 0.13957 | train_mse: 0.05866 | train_mae: 0.18412 |  0:01:35s\n"
     ]
    },
    {
     "name": "stdout",
     "output_type": "stream",
     "text": [
      "epoch 220| loss: 0.11315 | train_mse: 0.06158 | train_mae: 0.18789 |  0:01:36s\n"
     ]
    },
    {
     "name": "stdout",
     "output_type": "stream",
     "text": [
      "epoch 221| loss: 0.09787 | train_mse: 0.07994 | train_mae: 0.20347 |  0:01:37s\n"
     ]
    },
    {
     "name": "stdout",
     "output_type": "stream",
     "text": [
      "epoch 222| loss: 0.1116  | train_mse: 0.06006 | train_mae: 0.18508 |  0:01:39s\n"
     ]
    },
    {
     "name": "stdout",
     "output_type": "stream",
     "text": [
      "epoch 223| loss: 0.1237  | train_mse: 0.07262 | train_mae: 0.20029 |  0:01:40s\n"
     ]
    },
    {
     "name": "stdout",
     "output_type": "stream",
     "text": [
      "epoch 224| loss: 0.11233 | train_mse: 0.05818 | train_mae: 0.18315 |  0:01:41s\n"
     ]
    },
    {
     "name": "stdout",
     "output_type": "stream",
     "text": [
      "epoch 225| loss: 0.11265 | train_mse: 0.07867 | train_mae: 0.20734 |  0:01:42s\n"
     ]
    },
    {
     "name": "stdout",
     "output_type": "stream",
     "text": [
      "epoch 226| loss: 0.17419 | train_mse: 0.07728 | train_mae: 0.20323 |  0:01:43s\n"
     ]
    },
    {
     "name": "stdout",
     "output_type": "stream",
     "text": [
      "epoch 227| loss: 0.13762 | train_mse: 0.06192 | train_mae: 0.18277 |  0:01:43s\n"
     ]
    },
    {
     "name": "stdout",
     "output_type": "stream",
     "text": [
      "epoch 228| loss: 0.11867 | train_mse: 0.06242 | train_mae: 0.18828 |  0:01:45s\n"
     ]
    },
    {
     "name": "stdout",
     "output_type": "stream",
     "text": [
      "epoch 229| loss: 0.13893 | train_mse: 0.06801 | train_mae: 0.18525 |  0:01:46s\n"
     ]
    },
    {
     "name": "stdout",
     "output_type": "stream",
     "text": [
      "epoch 230| loss: 0.12013 | train_mse: 0.07012 | train_mae: 0.19772 |  0:01:47s\n"
     ]
    },
    {
     "name": "stdout",
     "output_type": "stream",
     "text": [
      "epoch 231| loss: 0.09595 | train_mse: 0.07008 | train_mae: 0.19802 |  0:01:48s\n"
     ]
    },
    {
     "name": "stdout",
     "output_type": "stream",
     "text": [
      "epoch 232| loss: 0.12099 | train_mse: 0.0737  | train_mae: 0.19938 |  0:01:48s\n"
     ]
    },
    {
     "name": "stdout",
     "output_type": "stream",
     "text": [
      "epoch 233| loss: 0.11939 | train_mse: 0.06855 | train_mae: 0.1959  |  0:01:49s\n"
     ]
    },
    {
     "name": "stdout",
     "output_type": "stream",
     "text": [
      "epoch 234| loss: 0.1158  | train_mse: 0.07072 | train_mae: 0.19245 |  0:01:51s\n"
     ]
    },
    {
     "name": "stdout",
     "output_type": "stream",
     "text": [
      "epoch 235| loss: 0.11174 | train_mse: 0.05624 | train_mae: 0.17635 |  0:01:52s\n"
     ]
    },
    {
     "name": "stdout",
     "output_type": "stream",
     "text": [
      "epoch 236| loss: 0.14869 | train_mse: 0.06133 | train_mae: 0.18092 |  0:01:53s\n"
     ]
    },
    {
     "name": "stdout",
     "output_type": "stream",
     "text": [
      "epoch 237| loss: 0.12708 | train_mse: 0.06054 | train_mae: 0.18585 |  0:01:55s\n"
     ]
    },
    {
     "name": "stdout",
     "output_type": "stream",
     "text": [
      "epoch 238| loss: 0.11701 | train_mse: 0.06123 | train_mae: 0.18393 |  0:01:55s\n"
     ]
    },
    {
     "name": "stdout",
     "output_type": "stream",
     "text": [
      "epoch 239| loss: 0.08282 | train_mse: 0.05722 | train_mae: 0.18029 |  0:01:57s\n"
     ]
    },
    {
     "name": "stdout",
     "output_type": "stream",
     "text": [
      "epoch 240| loss: 0.11177 | train_mse: 0.06575 | train_mae: 0.18314 |  0:01:58s\n"
     ]
    },
    {
     "name": "stdout",
     "output_type": "stream",
     "text": [
      "epoch 241| loss: 0.12474 | train_mse: 0.06071 | train_mae: 0.18837 |  0:01:59s\n"
     ]
    },
    {
     "name": "stdout",
     "output_type": "stream",
     "text": [
      "epoch 242| loss: 0.11728 | train_mse: 0.05428 | train_mae: 0.17528 |  0:02:00s\n"
     ]
    },
    {
     "name": "stdout",
     "output_type": "stream",
     "text": [
      "epoch 243| loss: 0.10842 | train_mse: 0.06295 | train_mae: 0.19095 |  0:02:00s\n"
     ]
    },
    {
     "name": "stdout",
     "output_type": "stream",
     "text": [
      "epoch 244| loss: 0.11463 | train_mse: 0.0575  | train_mae: 0.18574 |  0:02:01s\n"
     ]
    },
    {
     "name": "stdout",
     "output_type": "stream",
     "text": [
      "epoch 245| loss: 0.08886 | train_mse: 0.04957 | train_mae: 0.17208 |  0:02:01s\n"
     ]
    },
    {
     "name": "stdout",
     "output_type": "stream",
     "text": [
      "epoch 246| loss: 0.08016 | train_mse: 0.0489  | train_mae: 0.17238 |  0:02:03s\n"
     ]
    },
    {
     "name": "stdout",
     "output_type": "stream",
     "text": [
      "epoch 247| loss: 0.08805 | train_mse: 0.05236 | train_mae: 0.17654 |  0:02:03s\n"
     ]
    },
    {
     "name": "stdout",
     "output_type": "stream",
     "text": [
      "epoch 248| loss: 0.0828  | train_mse: 0.0468  | train_mae: 0.16713 |  0:02:05s\n"
     ]
    },
    {
     "name": "stdout",
     "output_type": "stream",
     "text": [
      "epoch 249| loss: 0.09038 | train_mse: 0.05293 | train_mae: 0.17807 |  0:02:05s\n"
     ]
    },
    {
     "name": "stdout",
     "output_type": "stream",
     "text": [
      "epoch 250| loss: 0.10212 | train_mse: 0.07547 | train_mae: 0.19492 |  0:02:06s\n"
     ]
    },
    {
     "name": "stdout",
     "output_type": "stream",
     "text": [
      "epoch 251| loss: 0.15178 | train_mse: 0.0613  | train_mae: 0.18716 |  0:02:06s\n"
     ]
    },
    {
     "name": "stdout",
     "output_type": "stream",
     "text": [
      "epoch 252| loss: 0.08934 | train_mse: 0.05958 | train_mae: 0.19144 |  0:02:07s\n"
     ]
    },
    {
     "name": "stdout",
     "output_type": "stream",
     "text": [
      "epoch 253| loss: 0.09056 | train_mse: 0.05534 | train_mae: 0.1787  |  0:02:08s\n"
     ]
    },
    {
     "name": "stdout",
     "output_type": "stream",
     "text": [
      "epoch 254| loss: 0.14681 | train_mse: 0.05654 | train_mae: 0.18274 |  0:02:10s\n"
     ]
    },
    {
     "name": "stdout",
     "output_type": "stream",
     "text": [
      "epoch 255| loss: 0.10697 | train_mse: 0.0522  | train_mae: 0.1731  |  0:02:10s\n"
     ]
    },
    {
     "name": "stdout",
     "output_type": "stream",
     "text": [
      "epoch 256| loss: 0.10695 | train_mse: 0.05644 | train_mae: 0.18169 |  0:02:11s\n"
     ]
    },
    {
     "name": "stdout",
     "output_type": "stream",
     "text": [
      "epoch 257| loss: 0.10887 | train_mse: 0.05516 | train_mae: 0.17878 |  0:02:12s\n"
     ]
    },
    {
     "name": "stdout",
     "output_type": "stream",
     "text": [
      "epoch 258| loss: 0.09572 | train_mse: 0.05093 | train_mae: 0.17227 |  0:02:13s\n",
      "\n",
      "Early stopping occurred at epoch 258 with best_epoch = 208 and best_train_mae = 0.16671\n",
      "Best weights from best epoch are automatically used!\n",
      "BEST VALID SCORE FOR dataset : 0.1667061835559903\n",
      "FINAL TEST SCORE FOR dataset: 0.26198952385640384\n",
      "{'loss': [2.627517349649184, 0.7992434749508849, 0.6073508185915427, 0.47591322985025913, 0.4427116519153708, 0.41269680710122136, 0.29954401056955354, 0.3275296950694358, 0.31047357058171, 0.25839756768528777, 0.27131535924307193, 0.271339213494027, 0.28519136628302016, 0.23950302320541722, 0.25648600689255363, 0.2635967468861306, 0.2589579237864749, 0.25229908334146633, 0.22822843182204974, 0.2832263690410274, 0.19059186686973761, 0.21496395604445204, 0.2561781881469311, 0.17030635151532617, 0.19415450523985495, 0.17429007707846048, 0.17904825213522013, 0.1897219983067843, 0.2263606621487306, 0.19289157392069844, 0.16685196181925216, 0.17298251065877404, 0.17172568623382267, 0.169740231615482, 0.17890061098750276, 0.16629256971991888, 0.15393598599008995, 0.18861385235692016, 0.22829645134434842, 0.18453226658967462, 0.14166004704956964, 0.1364642030531817, 0.19572007951169912, 0.1538973744257842, 0.16375927309883703, 0.1949089738992181, 0.16245237442821558, 0.17624724398155023, 0.17840263155279773, 0.15393078917323952, 0.15330985940919062, 0.1861626262416934, 0.14605070827621044, 0.13620605607434075, 0.13266390444028495, 0.14830763431468816, 0.1382728229359825, 0.16929530271209112, 0.1630692718790309, 0.15952768685794114, 0.17623016975893832, 0.15232991198501963, 0.14214050504240658, 0.16087048154066105, 0.12253305581536623, 0.12707340997634547, 0.13215783548237073, 0.1642798914177583, 0.14217100609647165, 0.14383613207552692, 0.1540674680825507, 0.13750825741208425, 0.15894569471330927, 0.1459333148628178, 0.12148588401551294, 0.13677682572662245, 0.12566902982716513, 0.14534301878792225, 0.14335127499434028, 0.12780596042918688, 0.11825613766023428, 0.13750638407055693, 0.1218414518355143, 0.11665589480411888, 0.12380762324474825, 0.1699093159767661, 0.10893483135369744, 0.11118421364243668, 0.15730213115711023, 0.12719978259341552, 0.14982099137683907, 0.14804095369164305, 0.14537285120770482, 0.14183347605832733, 0.17588630318641663, 0.10899005277026998, 0.14110993424264512, 0.1165218707358483, 0.1539650401561567, 0.14433441060309363, 0.20156210351108325, 0.15075854529248606, 0.17091462650511524, 0.1562194313743327, 0.15639316814370674, 0.1099951889107723, 0.14188191766786104, 0.15595001911762918, 0.11025908257406537, 0.12624197637680734, 0.10587950832772963, 0.14497576292493555, 0.12212803723788497, 0.13044794995595912, 0.14241619688449517, 0.10481158739859515, 0.11626509761456216, 0.14084592218151187, 0.11925400977972711, 0.10484465624731366, 0.12486244291804802, 0.132236912108884, 0.13816427974270126, 0.08843832772852171, 0.13772810899680205, 0.09028186936779778, 0.12959450394800393, 0.08985934620446498, 0.09383612731010607, 0.17208407450430463, 0.12454982957627514, 0.138306094647044, 0.13527347132711126, 0.13286871190118318, 0.12980198461820583, 0.17730549272924367, 0.11925445851122979, 0.13374049032088553, 0.10779642011269484, 0.10644399455868371, 0.112591817827508, 0.12824941625689515, 0.12996308542419188, 0.14258796758580916, 0.11828497568569561, 0.15182201726601854, 0.13689532330130585, 0.11554515147858327, 0.1514120157992486, 0.11230601267059251, 0.12153889482269192, 0.09469591575388861, 0.11038384756239333, 0.16166048651874657, 0.11430272223925826, 0.10120693719623113, 0.12935305099086006, 0.1274198651461318, 0.09395759058470773, 0.1406858722762306, 0.12175900282541124, 0.14006803000327384, 0.13540831975417564, 0.10672088085424782, 0.11374757933144522, 0.11855065453760695, 0.11337966036678541, 0.13482740809126656, 0.11891121063197013, 0.1004559401385855, 0.09793377866839419, 0.10828843476748702, 0.13066612095525948, 0.11821544900684074, 0.1087331605134624, 0.14201559790290227, 0.10025884402860509, 0.11980663461260277, 0.11508641768210005, 0.11299430246990506, 0.1095613928714601, 0.12756572176914405, 0.0958728571929554, 0.10888186399594392, 0.13027358527230745, 0.16231324354020676, 0.1221951700673245, 0.15480511819962228, 0.1006357755401347, 0.12367938031064402, 0.10866440316238025, 0.11404807806605159, 0.11243237407490758, 0.1418741194918604, 0.12053869590900912, 0.12193293426886644, 0.10940463280323709, 0.1160552445614692, 0.1246548978113892, 0.10922252261402583, 0.09565750280819317, 0.15068576211976534, 0.08935628846140191, 0.11569053458400291, 0.13150143003699802, 0.12926085529350997, 0.09134786185061577, 0.11042832206971574, 0.11407609564242976, 0.08394237961804513, 0.10633317904897255, 0.10654483440488872, 0.13188801152576315, 0.1303751772583121, 0.09978042107702483, 0.10580808366879378, 0.12254971029734847, 0.10281258969023677, 0.09999304109870798, 0.13956674962940782, 0.113150884461875, 0.09786689724072371, 0.11159909501819328, 0.12369887899644304, 0.11232932155380154, 0.11264629352210771, 0.17418781741715894, 0.13762403161513923, 0.11866949218334538, 0.13892577345123386, 0.12013287849650525, 0.09594894842346116, 0.12099413632756413, 0.11938777123347367, 0.11579713350770497, 0.11173803410907783, 0.14868730690219614, 0.1270788595227912, 0.11700594144882542, 0.08281581443135101, 0.11177116315258612, 0.12473559069751512, 0.11727773080957998, 0.10841507958893729, 0.11463422881494655, 0.08885866728159461, 0.08015894771802544, 0.0880462427688117, 0.08280215862363872, 0.09037599867523306, 0.10212276105095844, 0.151781297261172, 0.08934358551655666, 0.09055953354823708, 0.14680557513591086, 0.10697373570782123, 0.10695316826943124, 0.10887427878851938, 0.0957207589751423], 'lr': [0.01, 0.01, 0.01, 0.01, 0.01, 0.01, 0.01, 0.01, 0.01, 0.01, 0.01, 0.01, 0.01, 0.01, 0.01, 0.01, 0.01, 0.01, 0.01, 0.01, 0.01, 0.01, 0.01, 0.01, 0.01, 0.01, 0.01, 0.01, 0.01, 0.01, 0.01, 0.01, 0.01, 0.01, 0.01, 0.01, 0.01, 0.01, 0.01, 0.01, 0.01, 0.01, 0.01, 0.01, 0.01, 0.01, 0.01, 0.01, 0.01, 0.01, 0.01, 0.01, 0.01, 0.01, 0.01, 0.01, 0.01, 0.01, 0.01, 0.01, 0.01, 0.01, 0.01, 0.01, 0.01, 0.01, 0.01, 0.01, 0.01, 0.01, 0.01, 0.01, 0.01, 0.01, 0.01, 0.01, 0.01, 0.01, 0.01, 0.01, 0.01, 0.01, 0.01, 0.01, 0.01, 0.01, 0.01, 0.01, 0.01, 0.01, 0.01, 0.01, 0.01, 0.01, 0.01, 0.01, 0.01, 0.01, 0.01, 0.01, 0.01, 0.01, 0.01, 0.01, 0.01, 0.01, 0.01, 0.01, 0.01, 0.01, 0.01, 0.01, 0.01, 0.01, 0.01, 0.01, 0.01, 0.01, 0.01, 0.01, 0.01, 0.01, 0.01, 0.01, 0.01, 0.01, 0.01, 0.01, 0.01, 0.01, 0.01, 0.01, 0.01, 0.01, 0.01, 0.01, 0.01, 0.01, 0.01, 0.01, 0.01, 0.01, 0.01, 0.01, 0.01, 0.01, 0.01, 0.01, 0.01, 0.01, 0.01, 0.01, 0.01, 0.01, 0.01, 0.01, 0.01, 0.01, 0.01, 0.01, 0.01, 0.01, 0.01, 0.01, 0.01, 0.01, 0.01, 0.01, 0.01, 0.01, 0.01, 0.01, 0.01, 0.01, 0.01, 0.01, 0.01, 0.01, 0.01, 0.01, 0.01, 0.01, 0.01, 0.01, 0.01, 0.01, 0.01, 0.01, 0.01, 0.01, 0.01, 0.01, 0.01, 0.01, 0.01, 0.01, 0.01, 0.01, 0.01, 0.01, 0.01, 0.01, 0.01, 0.01, 0.01, 0.01, 0.01, 0.01, 0.01, 0.01, 0.01, 0.01, 0.01, 0.01, 0.01, 0.01, 0.01, 0.01, 0.01, 0.01, 0.01, 0.01, 0.01, 0.01, 0.01, 0.01, 0.01, 0.01, 0.01, 0.01, 0.01, 0.01, 0.01, 0.01, 0.01, 0.01, 0.01, 0.01, 0.01, 0.01, 0.01, 0.01, 0.01, 0.01, 0.01, 0.01, 0.01, 0.01, 0.01, 0.01, 0.01, 0.01, 0.01, 0.01, 0.01, 0.01, 0.01, 0.01, 0.01], 'train_mse': [1.08379828415155, 0.9222228308937841, 0.52764657227908, 0.43688086916854474, 0.4045701242678348, 0.4986416739606061, 0.33779189738888626, 0.3230962878169098, 0.2585938055345943, 0.19779139194912335, 0.2983787399738767, 0.22451195518986097, 0.19776282374620333, 0.1751984138550399, 0.1830548216702433, 0.1782441198509197, 0.15825764465691083, 0.14606477271542415, 0.146081418120024, 0.138669257855089, 0.1454030377451314, 0.15539688034572594, 0.12865095351806832, 0.13761939896876146, 0.1346873812816622, 0.11279898775617414, 0.13674145227366072, 0.12973099395308482, 0.12865526920262071, 0.1253817264678703, 0.12543811877166977, 0.13467985101584576, 0.1303710200764486, 0.1223571918096952, 0.11649103203489679, 0.14002420199571364, 0.12122787896474845, 0.12361689663840637, 0.11891313599237484, 0.11013379286169382, 0.1037886954675502, 0.11369693354731188, 0.11989043242756638, 0.1247054702787471, 0.11916334211526693, 0.1178540299479274, 0.10195341271139656, 0.09478805729571164, 0.10522862348011537, 0.08797891780535413, 0.10994740299910209, 0.11158473233266908, 0.09105066552694553, 0.09293716097789645, 0.0950390396143234, 0.10099524147770533, 0.09496240095604196, 0.09470513629430685, 0.11384790577800653, 0.11026105883330248, 0.09154922467318505, 0.09366814197598403, 0.08153925122413327, 0.09568435880736141, 0.08368888904348892, 0.08515955570595501, 0.0703396667000624, 0.08164752038573593, 0.09521144345006366, 0.09524386242209869, 0.09668540227981925, 0.11243158683652801, 0.09407492497292995, 0.11469295762989444, 0.083488332154506, 0.07424246241899296, 0.0868069619155896, 0.07444007413095677, 0.10236208619568866, 0.07186938530347343, 0.10130668361035845, 0.08107375169506405, 0.08627054769285031, 0.08429975439390519, 0.07725751673045629, 0.07572557907661413, 0.06508505089469259, 0.06640230397701813, 0.0687708731742736, 0.08213125126300204, 0.08693804837031183, 0.07282023684429724, 0.08239988542312067, 0.07812243460540365, 0.08084002430984043, 0.07384463465178347, 0.08522259887340815, 0.08108010379529942, 0.07483543064484746, 0.07252429706128256, 0.07057061454048057, 0.08775468831433353, 0.08299725700915522, 0.07242870959350574, 0.08642036050227991, 0.07225497357661585, 0.08228636746199358, 0.09269225809923137, 0.08060115162158611, 0.09586828524878209, 0.06811618043191411, 0.08695725168001635, 0.07227657504950086, 0.08944105430401227, 0.09858937536215026, 0.0707550213656043, 0.08142174076959208, 0.06236853078910469, 0.06882021221903303, 0.09025366320358139, 0.07558932963946265, 0.06879569470168245, 0.07931746576394114, 0.06416050653782968, 0.06966669125894624, 0.06064771271629857, 0.06788562812209357, 0.05618962370267798, 0.06727259907862525, 0.07759525586565619, 0.07192123153770762, 0.07704396340839509, 0.0811146575976643, 0.07152632711193146, 0.10248257169510361, 0.06396210987591337, 0.05988498552986366, 0.08297069843060106, 0.06305616018869563, 0.06624983125708159, 0.06145690292714339, 0.08743803774384418, 0.06410462278338792, 0.08682590179321248, 0.07114377790445893, 0.06326840473444223, 0.09557868784185976, 0.06385913734087927, 0.07622544829043579, 0.06012768769354019, 0.06244446106723197, 0.06190323059498354, 0.06515595155261382, 0.09413291701115763, 0.06317892448919614, 0.06835615639138984, 0.0869467687753143, 0.06558804653729948, 0.08318970863896932, 0.07765897129773588, 0.06876492601179679, 0.11518740365177972, 0.06243594990116779, 0.08923562142473049, 0.06350104006189772, 0.07220931070323401, 0.0833727376363082, 0.05668483366351877, 0.06727014827864386, 0.05880649862499285, 0.05616058382623564, 0.05714133203216277, 0.06789312574487955, 0.06364268897689118, 0.07262090339808747, 0.07492951633185896, 0.07199650760256994, 0.0832130834980814, 0.07180598522042655, 0.08591330219625139, 0.06389329633324789, 0.070154299795519, 0.07244108901186146, 0.07380139561208215, 0.08394537371172468, 0.07335478647597372, 0.06459824149935918, 0.06134903312214457, 0.06552487017094037, 0.06787872116065723, 0.05853847021671353, 0.0662211223422911, 0.06593275991547344, 0.07040792715131186, 0.06414899788205954, 0.07438039665562561, 0.06497393726398504, 0.05928886881514417, 0.07052089945918658, 0.05802693644594546, 0.06667518697601742, 0.08252182649979191, 0.05809936515454412, 0.06296476326574302, 0.052822090690165684, 0.06349755477078049, 0.04943531249466073, 0.051372396865850815, 0.048445710245128185, 0.05717134459653784, 0.06281714564044559, 0.05590685541261001, 0.06721802324705661, 0.06679391285479318, 0.0624229492290468, 0.06274176709826164, 0.08666646100912122, 0.0548010445624674, 0.06850783709767001, 0.05865535344436767, 0.06157735485982301, 0.07993927852952358, 0.06006075389189541, 0.07261611882950263, 0.05818196964094363, 0.07867108279935282, 0.0772761823796507, 0.06192097380768896, 0.06241787896984912, 0.06801129833990793, 0.07011758835924155, 0.0700772295926595, 0.07369540679913729, 0.06855483982578237, 0.07071747147910552, 0.05623985023457165, 0.06132891819372822, 0.060537762259856326, 0.06122800307236409, 0.057220584020577725, 0.06574644262593472, 0.06070690317579763, 0.05428099299012053, 0.06295227528652177, 0.0574993320697302, 0.04957432311828422, 0.04890163000333291, 0.052357452463046635, 0.046802445867382955, 0.05293317202640471, 0.07546522579294375, 0.061301268391755294, 0.05958204550000823, 0.05534295539412996, 0.05654344308957122, 0.05220277096937689, 0.056439841889773926, 0.05516136886987151, 0.050933187143846766], 'train_mae': [0.7656952742610316, 0.6720782223817159, 0.5209097006847104, 0.4413914553562288, 0.40666236476306933, 0.42849952797720714, 0.39595894459853215, 0.3802777631057229, 0.35802629816056736, 0.3044663643922958, 0.3912594874464867, 0.3262199670642611, 0.31611134912294425, 0.3012976619340295, 0.304976877854355, 0.31153416851602156, 0.2939834359827187, 0.28079698382920293, 0.2748100546735147, 0.27851251674261635, 0.27579694423867124, 0.28484246494257126, 0.2615033126636625, 0.2580309522500901, 0.264706009890848, 0.2511996602614106, 0.2759563219807946, 0.2651356296095208, 0.2588368142744489, 0.2552956229904516, 0.25042005140578183, 0.26077640186364354, 0.26049241049443184, 0.2507430913645962, 0.2471488372812557, 0.27106187703232637, 0.25286991493470995, 0.25336656776151223, 0.24796393434908176, 0.23864250354272487, 0.2307429051446944, 0.24090366201542115, 0.24793493589892165, 0.2530671151374796, 0.24221567300531624, 0.24330825115453664, 0.23155912775928614, 0.2307363278949779, 0.23395274980277056, 0.21509726274255, 0.23505855767252398, 0.23667806843349865, 0.21765141589313194, 0.22186975760832403, 0.22970894932928643, 0.22790632870001168, 0.2273042719969372, 0.22194667341445407, 0.23995187290040387, 0.2363343142776924, 0.222969245659247, 0.22391398502118565, 0.21084345847058586, 0.21970031658343028, 0.20780300769678656, 0.21023674649099017, 0.19644162250416988, 0.20807581605887399, 0.23019189326429176, 0.22610313369468873, 0.22578670033191825, 0.24900722351991134, 0.22792710768218497, 0.2495368420275332, 0.21766049678594626, 0.20319522745221635, 0.21212749804067413, 0.20143452310334686, 0.2274789957393615, 0.19680402236925476, 0.22349808633147838, 0.21002472846199974, 0.22221980947046174, 0.20458938141974548, 0.21015180278087456, 0.21015136509878, 0.19672122914574802, 0.19588344523097562, 0.19969572143173278, 0.2168380006386987, 0.21913033849709634, 0.20386410112315317, 0.21465489216535488, 0.2055040283102761, 0.21324980308971844, 0.2062937799688131, 0.21632907470693974, 0.21075531134330178, 0.2040088715166226, 0.20010913586658463, 0.1983725035427817, 0.21779296422233724, 0.21051112635130573, 0.1938557064254894, 0.21870614479635428, 0.19779359396275883, 0.21667670588996918, 0.22437231943833133, 0.20563490025242137, 0.22880298624801115, 0.19465616140223793, 0.2167867746836577, 0.20297437961412654, 0.2189438479611467, 0.23170097408224224, 0.1989647631211309, 0.215681524159232, 0.18779966972736942, 0.19288831838369344, 0.2186188727586714, 0.20055131558798608, 0.19372766794592677, 0.2050936505973123, 0.1883026301960796, 0.19453617443311325, 0.18475893177650454, 0.19656725461609392, 0.1815140224903656, 0.19768935901724097, 0.21084847128424408, 0.20011423551205076, 0.2034592723666171, 0.2109576095892466, 0.19804411270910902, 0.22686630836939098, 0.1901239764521776, 0.18667265359961333, 0.21622252921612753, 0.19117441306064223, 0.1952303423218791, 0.18974124035650883, 0.20859679290678962, 0.1922481837007581, 0.22170242244045918, 0.19866037566847877, 0.19030728668027136, 0.22202756612218072, 0.18847113108204222, 0.20639155591541286, 0.18393480117831054, 0.17993666375510337, 0.1880317113883584, 0.1920535871982219, 0.22546684913152581, 0.18894552956255248, 0.19733842070317575, 0.22060003206652706, 0.19103281811493905, 0.2069384865567751, 0.19803553783135208, 0.1970172357832474, 0.25256446015421824, 0.1893017124343204, 0.21982517056992762, 0.18828050224303472, 0.19963997315902657, 0.2167642640090019, 0.18070236638264311, 0.19506664442052615, 0.1818538990819285, 0.1793285554956694, 0.1837238218533163, 0.1967746395174209, 0.1888735263269026, 0.20049204452405855, 0.2086145742238695, 0.19729986143655584, 0.22080190174152547, 0.20219029826092905, 0.22495881005515966, 0.19122635329535703, 0.20365339196379925, 0.19930101660728453, 0.19688877051721723, 0.21209345359859388, 0.20406373430495764, 0.18962110924464887, 0.18289903386080006, 0.1906538847617718, 0.18731838227838613, 0.18253662033950935, 0.19246193053678545, 0.1949269511228718, 0.20346259648732093, 0.19005115955780932, 0.20342947549807, 0.19222866570382566, 0.1849238392370749, 0.19828495331802673, 0.18317187813576322, 0.1954591512290861, 0.21803394020184108, 0.1811255355119474, 0.18342740488950315, 0.17331425725809305, 0.19138281843168978, 0.17195346518767157, 0.1728107776025254, 0.1667061835559903, 0.18507735153844584, 0.18893371467114475, 0.18448649833508968, 0.19830150736867694, 0.1998734991421631, 0.19128063383869748, 0.1933320323660038, 0.2213739141843938, 0.17354727556111624, 0.2007191113883804, 0.18411970765712202, 0.18788781024430426, 0.20347080739074166, 0.18508403994468844, 0.20028912951245664, 0.18315212060995756, 0.20734019098280293, 0.2032256207969324, 0.182774459795747, 0.18827974662881214, 0.18525121269251316, 0.19772215319160305, 0.19802448707005949, 0.1993758111527111, 0.19589863705420316, 0.19244645526136628, 0.17635057568629237, 0.18091791791151557, 0.18584889316951944, 0.18393296784390517, 0.18028517437578892, 0.18313519625209074, 0.18836762112105818, 0.17528417023418083, 0.19094793331163765, 0.1857403338325475, 0.1720785086523958, 0.17237771522409864, 0.17653817391259094, 0.16712593709590795, 0.17806872205615087, 0.19491882940968216, 0.18715986539939858, 0.19144253476175507, 0.17870071023205938, 0.18273892905481087, 0.1730991748261184, 0.1816856324230212, 0.17878018523332212, 0.17227298372444041]}\n"
     ]
    },
    {
     "data": {
      "application/scrapbook.scrap.json+json": {
       "data": 0.26198952385640384,
       "encoder": "json",
       "name": "TabNet MAE",
       "version": 1
      }
     },
     "metadata": {
      "scrapbook": {
       "data": true,
       "display": false,
       "name": "TabNet MAE"
      }
     },
     "output_type": "display_data"
    },
    {
     "name": "stdout",
     "output_type": "stream",
     "text": [
      "TabNet MAE 0.26198952385640384\n"
     ]
    },
    {
     "data": {
      "image/png": "[encoded data removed]",
      "text/plain": [
       "<Figure size 432x288 with 1 Axes>"
      ]
     },
     "metadata": {
      "needs_background": "light"
     },
     "output_type": "display_data"
    }
   ],
   "source": [
    "lr = 0.01\n",
    "\n",
    "y_train = np.reshape(y_train, (-1, 1))\n",
    "y_test = np.reshape(y_test, (-1, 1))\n",
    "\n",
    "device = torch.device('cuda' if torch.cuda.is_available() else 'cpu')\n",
    "mae_tab= baselineModels.tabnetreg(X_train,y_train,X_test,y_test,batch_size,n_features,n_target,n_epochs, lr)\n",
    "sb.glue(\"TabNet MAE\",mae_tab)\n",
    "print(\"TabNet MAE\",mae_tab)"
   ]
  }
 ],
 "metadata": {
  "kernelspec": {
   "display_name": "Python 3.7.3 64-bit",
   "language": "python",
   "name": "python3"
  },
  "language_info": {
   "codemirror_mode": {
    "name": "ipython",
    "version": 3
   },
   "file_extension": ".py",
   "mimetype": "text/x-python",
   "name": "python",
   "nbconvert_exporter": "python",
   "pygments_lexer": "ipython3",
   "version": "3.8.13"
  },
  "papermill": {
   "default_parameters": {},
   "duration": 152.795824,
   "end_time": "2022-07-21T10:37:37.278414",
   "environment_variables": {},
   "exception": null,
   "input_path": "BaselineModels.ipynb",
   "output_path": "./BaseLine_Model_Output/BaselineModels_output_9.ipynb",
   "parameters": {},
   "start_time": "2022-07-21T10:35:04.482590",
   "version": "2.3.3"
  },
  "vscode": {
   "interpreter": {
    "hash": "aee8b7b246df8f9039afb4144a1f6fd8d2ca17a180786b69acc140d282b71a49"
   }
  }
 },
 "nbformat": 4,
 "nbformat_minor": 5
}