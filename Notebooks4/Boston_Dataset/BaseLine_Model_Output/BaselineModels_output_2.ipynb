{
 "cells": [
  {
   "cell_type": "markdown",
   "id": "1c11cdf9",
   "metadata": {
    "papermill": {
     "duration": 0.009963,
     "end_time": "2022-07-21T10:17:17.515718",
     "exception": false,
     "start_time": "2022-07-21T10:17:17.505755",
     "status": "completed"
    },
    "tags": []
   },
   "source": [
    "## Import Libraries "
   ]
  },
  {
   "cell_type": "code",
   "execution_count": 1,
   "id": "bb3ec7b7",
   "metadata": {
    "execution": {
     "iopub.execute_input": "2022-07-21T10:17:17.536836Z",
     "iopub.status.busy": "2022-07-21T10:17:17.533477Z",
     "iopub.status.idle": "2022-07-21T10:17:17.615095Z",
     "shell.execute_reply": "2022-07-21T10:17:17.579762Z"
    },
    "papermill": {
     "duration": 0.101617,
     "end_time": "2022-07-21T10:17:17.622032",
     "exception": false,
     "start_time": "2022-07-21T10:17:17.520415",
     "status": "completed"
    },
    "tags": []
   },
   "outputs": [],
   "source": [
    "import warnings\n",
    "import sys\n",
    "sys.path.insert(0, '../../src')\n",
    "warnings.filterwarnings('ignore')"
   ]
  },
  {
   "cell_type": "code",
   "execution_count": 2,
   "id": "e42be7ad",
   "metadata": {
    "execution": {
     "iopub.execute_input": "2022-07-21T10:17:17.660280Z",
     "iopub.status.busy": "2022-07-21T10:17:17.657806Z",
     "iopub.status.idle": "2022-07-21T10:17:32.894351Z",
     "shell.execute_reply": "2022-07-21T10:17:32.891214Z"
    },
    "papermill": {
     "duration": 15.272387,
     "end_time": "2022-07-21T10:17:32.898458",
     "exception": false,
     "start_time": "2022-07-21T10:17:17.626071",
     "status": "completed"
    },
    "tags": []
   },
   "outputs": [],
   "source": [
    "import statsModel\n",
    "import scrapbook as sb \n",
    "import torch \n",
    "import statsModel\n",
    "import baselineModels\n",
    "import bostonDataset\n",
    "import dataset \n",
    "from torch.utils.data import random_split \n",
    "from sklearn.model_selection import train_test_split\n",
    "import numpy as np\n",
    "from sklearn.metrics import mean_squared_error,mean_absolute_error "
   ]
  },
  {
   "cell_type": "markdown",
   "id": "94148006",
   "metadata": {
    "papermill": {
     "duration": 0.006515,
     "end_time": "2022-07-21T10:17:33.107878",
     "exception": false,
     "start_time": "2022-07-21T10:17:33.101363",
     "status": "completed"
    },
    "tags": []
   },
   "source": [
    "## Import Dataset \n"
   ]
  },
  {
   "cell_type": "code",
   "execution_count": 3,
   "id": "4853f231",
   "metadata": {
    "execution": {
     "iopub.execute_input": "2022-07-21T10:17:33.136117Z",
     "iopub.status.busy": "2022-07-21T10:17:33.135629Z",
     "iopub.status.idle": "2022-07-21T10:17:33.168476Z",
     "shell.execute_reply": "2022-07-21T10:17:33.167624Z"
    },
    "papermill": {
     "duration": 0.088679,
     "end_time": "2022-07-21T10:17:33.200951",
     "exception": false,
     "start_time": "2022-07-21T10:17:33.112272",
     "status": "completed"
    },
    "tags": []
   },
   "outputs": [
    {
     "name": "stdout",
     "output_type": "stream",
     "text": [
      "         X1        X2        X3        X4        X5        X6        X7  \\\n",
      "0 -0.419782  0.284830 -1.287909 -0.272599 -0.144217  0.413672 -0.120013   \n",
      "1 -0.417339 -0.487722 -0.593381 -0.272599 -0.740262  0.194274  0.367166   \n",
      "2 -0.417342 -0.487722 -0.593381 -0.272599 -0.740262  1.282714 -0.265812   \n",
      "3 -0.416750 -0.487722 -1.306878 -0.272599 -0.835284  1.016303 -0.809889   \n",
      "4 -0.412482 -0.487722 -1.306878 -0.272599 -0.835284  1.228577 -0.511180   \n",
      "\n",
      "         X8        X9       X10       X11       X12       X13         Y  \n",
      "0  0.140214 -0.982843 -0.666608 -1.459000  0.441052 -1.075562  0.159686  \n",
      "1  0.557160 -0.867883 -0.987329 -0.303094  0.441052 -0.492439 -0.101524  \n",
      "2  0.557160 -0.867883 -0.987329 -0.303094  0.396427 -1.208727  1.324247  \n",
      "3  1.077737 -0.752922 -1.106115  0.113032  0.416163 -1.361517  1.182758  \n",
      "4  1.077737 -0.752922 -1.106115  0.113032  0.441052 -1.026501  1.487503  \n"
     ]
    }
   ],
   "source": [
    "n_features = 13\n",
    "n_samples= 506\n",
    "n_target = 1 \n",
    "X,Y = bostonDataset.boston_data()"
   ]
  },
  {
   "cell_type": "code",
   "execution_count": 4,
   "id": "6d8eedaf",
   "metadata": {
    "execution": {
     "iopub.execute_input": "2022-07-21T10:17:33.215332Z",
     "iopub.status.busy": "2022-07-21T10:17:33.214371Z",
     "iopub.status.idle": "2022-07-21T10:17:33.224539Z",
     "shell.execute_reply": "2022-07-21T10:17:33.222769Z"
    },
    "papermill": {
     "duration": 0.059256,
     "end_time": "2022-07-21T10:17:33.265566",
     "exception": false,
     "start_time": "2022-07-21T10:17:33.206310",
     "status": "completed"
    },
    "tags": []
   },
   "outputs": [],
   "source": [
    "# Train test split for dataset \n",
    "real_dataset = dataset.CustomDataset(X,Y)\n",
    "X_train, X_test, y_train, y_test = train_test_split(X, Y, test_size=0.2)"
   ]
  },
  {
   "cell_type": "markdown",
   "id": "4afa3de0",
   "metadata": {
    "papermill": {
     "duration": 0.004308,
     "end_time": "2022-07-21T10:17:33.273536",
     "exception": false,
     "start_time": "2022-07-21T10:17:33.269228",
     "status": "completed"
    },
    "tags": []
   },
   "source": [
    "## Stats Model \n",
    "\n"
   ]
  },
  {
   "cell_type": "code",
   "execution_count": 5,
   "id": "c067b429",
   "metadata": {
    "execution": {
     "iopub.execute_input": "2022-07-21T10:17:33.286069Z",
     "iopub.status.busy": "2022-07-21T10:17:33.285672Z",
     "iopub.status.idle": "2022-07-21T10:17:34.572077Z",
     "shell.execute_reply": "2022-07-21T10:17:34.569538Z"
    },
    "papermill": {
     "duration": 1.300005,
     "end_time": "2022-07-21T10:17:34.577567",
     "exception": false,
     "start_time": "2022-07-21T10:17:33.277562",
     "status": "completed"
    },
    "tags": []
   },
   "outputs": [
    {
     "name": "stdout",
     "output_type": "stream",
     "text": [
      "                                 OLS Regression Results                                \n",
      "=======================================================================================\n",
      "Dep. Variable:                      y   R-squared (uncentered):                   0.750\n",
      "Model:                            OLS   Adj. R-squared (uncentered):              0.741\n",
      "Method:                 Least Squares   F-statistic:                              90.10\n",
      "Date:                Thu, 21 Jul 2022   Prob (F-statistic):                   7.74e-109\n",
      "Time:                        15:47:33   Log-Likelihood:                         -295.56\n",
      "No. Observations:                 404   AIC:                                      617.1\n",
      "Df Residuals:                     391   BIC:                                      669.1\n",
      "Df Model:                          13                                                  \n",
      "Covariance Type:            nonrobust                                                  \n",
      "==============================================================================\n",
      "                 coef    std err          t      P>|t|      [0.025      0.975]\n",
      "------------------------------------------------------------------------------\n",
      "x1            -0.0802      0.038     -2.104      0.036      -0.155      -0.005\n",
      "x2             0.1151      0.039      2.952      0.003       0.038       0.192\n",
      "x3             0.0166      0.052      0.321      0.749      -0.085       0.118\n",
      "x4             0.1022      0.027      3.731      0.000       0.048       0.156\n",
      "x5            -0.2234      0.054     -4.171      0.000      -0.329      -0.118\n",
      "x6             0.3425      0.036      9.599      0.000       0.272       0.413\n",
      "x7            -0.0198      0.045     -0.442      0.658      -0.108       0.068\n",
      "x8            -0.3259      0.049     -6.612      0.000      -0.423      -0.229\n",
      "x9             0.2547      0.069      3.684      0.000       0.119       0.391\n",
      "x10           -0.1853      0.077     -2.412      0.016      -0.336      -0.034\n",
      "x11           -0.2115      0.034     -6.201      0.000      -0.279      -0.144\n",
      "x12            0.1019      0.030      3.356      0.001       0.042       0.162\n",
      "x13           -0.3681      0.043     -8.506      0.000      -0.453      -0.283\n",
      "==============================================================================\n",
      "Omnibus:                      133.362   Durbin-Watson:                   2.084\n",
      "Prob(Omnibus):                  0.000   Jarque-Bera (JB):              485.040\n",
      "Skew:                           1.454   Prob(JB):                    4.73e-106\n",
      "Kurtosis:                       7.512   Cond. No.                         9.98\n",
      "==============================================================================\n",
      "\n",
      "Notes:\n",
      "[1] R² is computed without centering (uncentered) since the model does not contain a constant.\n",
      "[2] Standard Errors assume that the covariance matrix of the errors is correctly specified.\n"
     ]
    },
    {
     "name": "stderr",
     "output_type": "stream",
     "text": [
      "No artists with labels found to put in legend.  Note that artists whose label start with an underscore are ignored when legend() is called with no argument.\n"
     ]
    },
    {
     "data": {
      "image/png": "[encoded data removed]",
      "text/plain": [
       "<Figure size 432x288 with 1 Axes>"
      ]
     },
     "metadata": {
      "needs_background": "light"
     },
     "output_type": "display_data"
    },
    {
     "name": "stdout",
     "output_type": "stream",
     "text": [
      "Performance Metrics\n",
      "Mean Squared Error: 0.2981731372215643\n",
      "Mean Absolute Error: 0.36663353345783306\n",
      "Manhattan distance: 37.396620412698944\n",
      "Euclidean distance: 5.514858112100397\n"
     ]
    },
    {
     "data": {
      "application/scrapbook.scrap.json+json": {
       "data": 0.2981731372215643,
       "encoder": "json",
       "name": "Stats Model MSE",
       "version": 1
      }
     },
     "metadata": {
      "scrapbook": {
       "data": true,
       "display": false,
       "name": "Stats Model MSE"
      }
     },
     "output_type": "display_data"
    },
    {
     "data": {
      "application/scrapbook.scrap.json+json": {
       "data": 0.36663353345783306,
       "encoder": "json",
       "name": "Stats Model MAE",
       "version": 1
      }
     },
     "metadata": {
      "scrapbook": {
       "data": true,
       "display": false,
       "name": "Stats Model MAE"
      }
     },
     "output_type": "display_data"
    },
    {
     "data": {
      "application/scrapbook.scrap.json+json": {
       "data": 37.396620412698944,
       "encoder": "json",
       "name": "Stats Model Manhattan Distance",
       "version": 1
      }
     },
     "metadata": {
      "scrapbook": {
       "data": true,
       "display": false,
       "name": "Stats Model Manhattan Distance"
      }
     },
     "output_type": "display_data"
    },
    {
     "data": {
      "application/scrapbook.scrap.json+json": {
       "data": 5.514858112100397,
       "encoder": "json",
       "name": "Stats Model Euclidean distance",
       "version": 1
      }
     },
     "metadata": {
      "scrapbook": {
       "data": true,
       "display": false,
       "name": "Stats Model Euclidean distance"
      }
     },
     "output_type": "display_data"
    },
    {
     "data": {
      "application/scrapbook.scrap.json+json": {
       "data": [
        -0.08019215317015016,
        0.11512575850505433,
        0.01662112883755895,
        0.1022007863887914,
        -0.22341786068340158,
        0.3425416704865476,
        -0.019770228243461876,
        -0.32590349988302236,
        0.2547085682537137,
        -0.1853428450968013,
        -0.211525780433081,
        0.1018647778069465,
        -0.36810989261810806
       ],
       "encoder": "json",
       "name": "Coefficients",
       "version": 1
      }
     },
     "metadata": {
      "scrapbook": {
       "data": true,
       "display": false,
       "name": "Coefficients"
      }
     },
     "output_type": "display_data"
    },
    {
     "name": "stdout",
     "output_type": "stream",
     "text": [
      "Stats Model MAE 0.36663353345783306\n"
     ]
    }
   ],
   "source": [
    "coefficients , y_pred =statsModel.statsModel(X_train,y_train,X_test,y_test)\n",
    "#Store MSE Value \n",
    "sb.glue(\"Coefficients\",coefficients)\n",
    "mae = mean_absolute_error(y_pred, y_test)\n",
    "print(\"Stats Model MAE\", mae)"
   ]
  },
  {
   "cell_type": "markdown",
   "id": "7bb54e3c",
   "metadata": {
    "papermill": {
     "duration": 0.006927,
     "end_time": "2022-07-21T10:17:34.592884",
     "exception": false,
     "start_time": "2022-07-21T10:17:34.585957",
     "status": "completed"
    },
    "tags": []
   },
   "source": [
    "# Catboost Model "
   ]
  },
  {
   "cell_type": "code",
   "execution_count": 6,
   "id": "ff86efe9",
   "metadata": {
    "execution": {
     "iopub.execute_input": "2022-07-21T10:17:34.608795Z",
     "iopub.status.busy": "2022-07-21T10:17:34.608036Z",
     "iopub.status.idle": "2022-07-21T10:17:45.417814Z",
     "shell.execute_reply": "2022-07-21T10:17:45.413232Z"
    },
    "papermill": {
     "duration": 10.822067,
     "end_time": "2022-07-21T10:17:45.421007",
     "exception": false,
     "start_time": "2022-07-21T10:17:34.598940",
     "status": "completed"
    },
    "tags": []
   },
   "outputs": [
    {
     "name": "stdout",
     "output_type": "stream",
     "text": [
      "Learning rate set to 0.03548\n"
     ]
    },
    {
     "name": "stdout",
     "output_type": "stream",
     "text": [
      "0:\tlearn: 0.9833392\ttotal: 61.8ms\tremaining: 1m 1s\n",
      "1:\tlearn: 0.9613593\ttotal: 65.8ms\tremaining: 32.8s\n",
      "2:\tlearn: 0.9405295\ttotal: 70.6ms\tremaining: 23.5s\n",
      "3:\tlearn: 0.9227304\ttotal: 73.9ms\tremaining: 18.4s\n",
      "4:\tlearn: 0.9042413\ttotal: 76.3ms\tremaining: 15.2s\n",
      "5:\tlearn: 0.8856210\ttotal: 79.7ms\tremaining: 13.2s\n",
      "6:\tlearn: 0.8700796\ttotal: 83.3ms\tremaining: 11.8s\n",
      "7:\tlearn: 0.8525571\ttotal: 86.5ms\tremaining: 10.7s\n",
      "8:\tlearn: 0.8366286\ttotal: 90.7ms\tremaining: 9.98s\n",
      "9:\tlearn: 0.8192986\ttotal: 93.8ms\tremaining: 9.29s\n",
      "10:\tlearn: 0.8059798\ttotal: 97.7ms\tremaining: 8.79s\n",
      "11:\tlearn: 0.7915037\ttotal: 100ms\tremaining: 8.25s\n",
      "12:\tlearn: 0.7759792\ttotal: 104ms\tremaining: 7.86s\n",
      "13:\tlearn: 0.7603348\ttotal: 106ms\tremaining: 7.46s\n",
      "14:\tlearn: 0.7482100\ttotal: 114ms\tremaining: 7.45s\n",
      "15:\tlearn: 0.7339531\ttotal: 118ms\tremaining: 7.26s\n",
      "16:\tlearn: 0.7203877\ttotal: 121ms\tremaining: 6.98s\n",
      "17:\tlearn: 0.7064896\ttotal: 128ms\tremaining: 6.99s\n"
     ]
    },
    {
     "name": "stdout",
     "output_type": "stream",
     "text": [
      "18:\tlearn: 0.6942195\ttotal: 161ms\tremaining: 8.31s\n",
      "19:\tlearn: 0.6807442\ttotal: 167ms\tremaining: 8.19s\n",
      "20:\tlearn: 0.6678181\ttotal: 173ms\tremaining: 8.06s\n",
      "21:\tlearn: 0.6569006\ttotal: 177ms\tremaining: 7.85s\n",
      "22:\tlearn: 0.6455724\ttotal: 179ms\tremaining: 7.6s\n",
      "23:\tlearn: 0.6365303\ttotal: 182ms\tremaining: 7.39s\n",
      "24:\tlearn: 0.6259733\ttotal: 184ms\tremaining: 7.18s\n",
      "25:\tlearn: 0.6169465\ttotal: 192ms\tremaining: 7.19s\n",
      "26:\tlearn: 0.6080746\ttotal: 195ms\tremaining: 7.01s\n",
      "27:\tlearn: 0.5990003\ttotal: 198ms\tremaining: 6.86s\n",
      "28:\tlearn: 0.5894060\ttotal: 205ms\tremaining: 6.86s\n",
      "29:\tlearn: 0.5793796\ttotal: 208ms\tremaining: 6.71s\n",
      "30:\tlearn: 0.5701453\ttotal: 210ms\tremaining: 6.58s\n",
      "31:\tlearn: 0.5629371\ttotal: 213ms\tremaining: 6.45s\n",
      "32:\tlearn: 0.5557065\ttotal: 216ms\tremaining: 6.34s\n",
      "33:\tlearn: 0.5476748\ttotal: 218ms\tremaining: 6.2s\n",
      "34:\tlearn: 0.5409888\ttotal: 220ms\tremaining: 6.05s\n",
      "35:\tlearn: 0.5337974\ttotal: 223ms\tremaining: 5.96s\n",
      "36:\tlearn: 0.5280367\ttotal: 287ms\tremaining: 7.48s\n"
     ]
    },
    {
     "name": "stdout",
     "output_type": "stream",
     "text": [
      "37:\tlearn: 0.5205973\ttotal: 306ms\tremaining: 7.73s\n",
      "38:\tlearn: 0.5127121\ttotal: 308ms\tremaining: 7.59s\n",
      "39:\tlearn: 0.5054458\ttotal: 310ms\tremaining: 7.45s\n",
      "40:\tlearn: 0.4977658\ttotal: 313ms\tremaining: 7.32s\n",
      "41:\tlearn: 0.4902811\ttotal: 317ms\tremaining: 7.22s\n",
      "42:\tlearn: 0.4853511\ttotal: 319ms\tremaining: 7.1s\n",
      "43:\tlearn: 0.4798501\ttotal: 323ms\tremaining: 7.01s\n",
      "44:\tlearn: 0.4739315\ttotal: 326ms\tremaining: 6.91s\n",
      "45:\tlearn: 0.4678005\ttotal: 331ms\tremaining: 6.86s\n",
      "46:\tlearn: 0.4613535\ttotal: 334ms\tremaining: 6.78s\n",
      "47:\tlearn: 0.4555007\ttotal: 341ms\tremaining: 6.77s\n",
      "48:\tlearn: 0.4507024\ttotal: 348ms\tremaining: 6.74s\n",
      "49:\tlearn: 0.4454588\ttotal: 353ms\tremaining: 6.7s\n",
      "50:\tlearn: 0.4399885\ttotal: 356ms\tremaining: 6.63s\n",
      "51:\tlearn: 0.4360469\ttotal: 360ms\tremaining: 6.57s\n",
      "52:\tlearn: 0.4319382\ttotal: 366ms\tremaining: 6.54s\n",
      "53:\tlearn: 0.4279272\ttotal: 368ms\tremaining: 6.45s\n",
      "54:\tlearn: 0.4235525\ttotal: 371ms\tremaining: 6.37s\n",
      "55:\tlearn: 0.4198320\ttotal: 374ms\tremaining: 6.3s\n",
      "56:\tlearn: 0.4164260\ttotal: 379ms\tremaining: 6.26s\n",
      "57:\tlearn: 0.4124222\ttotal: 381ms\tremaining: 6.2s\n",
      "58:\tlearn: 0.4091975\ttotal: 385ms\tremaining: 6.15s\n"
     ]
    },
    {
     "name": "stdout",
     "output_type": "stream",
     "text": [
      "59:\tlearn: 0.4051786\ttotal: 390ms\tremaining: 6.11s\n",
      "60:\tlearn: 0.4012702\ttotal: 454ms\tremaining: 7s\n",
      "61:\tlearn: 0.3973775\ttotal: 459ms\tremaining: 6.94s\n",
      "62:\tlearn: 0.3943947\ttotal: 464ms\tremaining: 6.9s\n",
      "63:\tlearn: 0.3907131\ttotal: 470ms\tremaining: 6.87s\n",
      "64:\tlearn: 0.3877205\ttotal: 473ms\tremaining: 6.81s\n",
      "65:\tlearn: 0.3844518\ttotal: 476ms\tremaining: 6.74s\n",
      "66:\tlearn: 0.3805180\ttotal: 480ms\tremaining: 6.68s\n",
      "67:\tlearn: 0.3766733\ttotal: 483ms\tremaining: 6.62s\n",
      "68:\tlearn: 0.3743938\ttotal: 486ms\tremaining: 6.56s\n",
      "69:\tlearn: 0.3713733\ttotal: 489ms\tremaining: 6.5s\n",
      "70:\tlearn: 0.3674718\ttotal: 492ms\tremaining: 6.43s\n",
      "71:\tlearn: 0.3650809\ttotal: 497ms\tremaining: 6.41s\n",
      "72:\tlearn: 0.3626112\ttotal: 500ms\tremaining: 6.35s\n",
      "73:\tlearn: 0.3599672\ttotal: 567ms\tremaining: 7.1s\n",
      "74:\tlearn: 0.3570638\ttotal: 573ms\tremaining: 7.06s\n",
      "75:\tlearn: 0.3549682\ttotal: 576ms\tremaining: 7s\n"
     ]
    },
    {
     "name": "stdout",
     "output_type": "stream",
     "text": [
      "76:\tlearn: 0.3525462\ttotal: 583ms\tremaining: 6.98s\n",
      "77:\tlearn: 0.3487829\ttotal: 587ms\tremaining: 6.94s\n",
      "78:\tlearn: 0.3456219\ttotal: 592ms\tremaining: 6.91s\n",
      "79:\tlearn: 0.3436023\ttotal: 597ms\tremaining: 6.86s\n",
      "80:\tlearn: 0.3416327\ttotal: 601ms\tremaining: 6.82s\n",
      "81:\tlearn: 0.3390839\ttotal: 604ms\tremaining: 6.76s\n",
      "82:\tlearn: 0.3366696\ttotal: 607ms\tremaining: 6.7s\n",
      "83:\tlearn: 0.3345119\ttotal: 609ms\tremaining: 6.64s\n",
      "84:\tlearn: 0.3323950\ttotal: 613ms\tremaining: 6.6s\n",
      "85:\tlearn: 0.3298029\ttotal: 616ms\tremaining: 6.55s\n",
      "86:\tlearn: 0.3280403\ttotal: 637ms\tremaining: 6.68s\n",
      "87:\tlearn: 0.3256404\ttotal: 642ms\tremaining: 6.65s\n",
      "88:\tlearn: 0.3234814\ttotal: 645ms\tremaining: 6.6s\n",
      "89:\tlearn: 0.3215070\ttotal: 647ms\tremaining: 6.55s\n",
      "90:\tlearn: 0.3193537\ttotal: 660ms\tremaining: 6.59s\n",
      "91:\tlearn: 0.3175926\ttotal: 666ms\tremaining: 6.57s\n",
      "92:\tlearn: 0.3159021\ttotal: 670ms\tremaining: 6.54s\n",
      "93:\tlearn: 0.3137430\ttotal: 673ms\tremaining: 6.48s\n",
      "94:\tlearn: 0.3121858\ttotal: 678ms\tremaining: 6.46s\n",
      "95:\tlearn: 0.3113746\ttotal: 682ms\tremaining: 6.42s\n",
      "96:\tlearn: 0.3099152\ttotal: 687ms\tremaining: 6.4s\n",
      "97:\tlearn: 0.3080512\ttotal: 690ms\tremaining: 6.35s\n",
      "98:\tlearn: 0.3063931\ttotal: 693ms\tremaining: 6.3s\n",
      "99:\tlearn: 0.3040344\ttotal: 695ms\tremaining: 6.26s\n"
     ]
    },
    {
     "name": "stdout",
     "output_type": "stream",
     "text": [
      "100:\tlearn: 0.3023040\ttotal: 716ms\tremaining: 6.37s\n",
      "101:\tlearn: 0.3005127\ttotal: 720ms\tremaining: 6.33s\n",
      "102:\tlearn: 0.2989412\ttotal: 723ms\tremaining: 6.29s\n",
      "103:\tlearn: 0.2972197\ttotal: 726ms\tremaining: 6.25s\n",
      "104:\tlearn: 0.2958167\ttotal: 728ms\tremaining: 6.21s\n",
      "105:\tlearn: 0.2943172\ttotal: 731ms\tremaining: 6.16s\n",
      "106:\tlearn: 0.2928411\ttotal: 733ms\tremaining: 6.12s\n",
      "107:\tlearn: 0.2912925\ttotal: 735ms\tremaining: 6.07s\n",
      "108:\tlearn: 0.2899956\ttotal: 738ms\tremaining: 6.03s\n",
      "109:\tlearn: 0.2886955\ttotal: 740ms\tremaining: 5.99s\n",
      "110:\tlearn: 0.2873845\ttotal: 743ms\tremaining: 5.95s\n",
      "111:\tlearn: 0.2861966\ttotal: 745ms\tremaining: 5.91s\n",
      "112:\tlearn: 0.2847612\ttotal: 748ms\tremaining: 5.87s\n",
      "113:\tlearn: 0.2835347\ttotal: 752ms\tremaining: 5.84s\n",
      "114:\tlearn: 0.2821952\ttotal: 755ms\tremaining: 5.81s\n",
      "115:\tlearn: 0.2813074\ttotal: 757ms\tremaining: 5.77s\n",
      "116:\tlearn: 0.2801061\ttotal: 760ms\tremaining: 5.73s\n",
      "117:\tlearn: 0.2790015\ttotal: 762ms\tremaining: 5.69s\n",
      "118:\tlearn: 0.2778923\ttotal: 765ms\tremaining: 5.66s\n",
      "119:\tlearn: 0.2771849\ttotal: 768ms\tremaining: 5.63s\n",
      "120:\tlearn: 0.2760656\ttotal: 780ms\tremaining: 5.66s\n",
      "121:\tlearn: 0.2749315\ttotal: 790ms\tremaining: 5.68s\n",
      "122:\tlearn: 0.2741017\ttotal: 794ms\tremaining: 5.66s\n",
      "123:\tlearn: 0.2726540\ttotal: 796ms\tremaining: 5.63s\n",
      "124:\tlearn: 0.2716944\ttotal: 799ms\tremaining: 5.59s\n",
      "125:\tlearn: 0.2703554\ttotal: 801ms\tremaining: 5.56s\n",
      "126:\tlearn: 0.2692641\ttotal: 804ms\tremaining: 5.53s\n",
      "127:\tlearn: 0.2681836\ttotal: 817ms\tremaining: 5.56s\n",
      "128:\tlearn: 0.2671547\ttotal: 819ms\tremaining: 5.53s\n",
      "129:\tlearn: 0.2657613\ttotal: 822ms\tremaining: 5.5s\n",
      "130:\tlearn: 0.2648069\ttotal: 823ms\tremaining: 5.46s\n",
      "131:\tlearn: 0.2636708\ttotal: 826ms\tremaining: 5.43s\n"
     ]
    },
    {
     "name": "stdout",
     "output_type": "stream",
     "text": [
      "132:\tlearn: 0.2626248\ttotal: 836ms\tremaining: 5.45s\n",
      "133:\tlearn: 0.2618474\ttotal: 841ms\tremaining: 5.43s\n",
      "134:\tlearn: 0.2612105\ttotal: 855ms\tremaining: 5.47s\n",
      "135:\tlearn: 0.2605865\ttotal: 857ms\tremaining: 5.44s\n"
     ]
    },
    {
     "name": "stdout",
     "output_type": "stream",
     "text": [
      "136:\tlearn: 0.2599419\ttotal: 866ms\tremaining: 5.45s\n",
      "137:\tlearn: 0.2590764\ttotal: 871ms\tremaining: 5.44s\n",
      "138:\tlearn: 0.2576750\ttotal: 887ms\tremaining: 5.5s\n",
      "139:\tlearn: 0.2565223\ttotal: 890ms\tremaining: 5.47s\n",
      "140:\tlearn: 0.2556590\ttotal: 895ms\tremaining: 5.45s\n",
      "141:\tlearn: 0.2544668\ttotal: 898ms\tremaining: 5.42s\n",
      "142:\tlearn: 0.2535638\ttotal: 901ms\tremaining: 5.4s\n",
      "143:\tlearn: 0.2525433\ttotal: 904ms\tremaining: 5.37s\n",
      "144:\tlearn: 0.2517870\ttotal: 906ms\tremaining: 5.34s\n",
      "145:\tlearn: 0.2508089\ttotal: 911ms\tremaining: 5.33s\n",
      "146:\tlearn: 0.2500470\ttotal: 914ms\tremaining: 5.3s\n",
      "147:\tlearn: 0.2494269\ttotal: 917ms\tremaining: 5.28s\n",
      "148:\tlearn: 0.2483665\ttotal: 919ms\tremaining: 5.25s\n",
      "149:\tlearn: 0.2478695\ttotal: 923ms\tremaining: 5.23s\n",
      "150:\tlearn: 0.2468731\ttotal: 926ms\tremaining: 5.21s\n",
      "151:\tlearn: 0.2461316\ttotal: 931ms\tremaining: 5.2s\n",
      "152:\tlearn: 0.2453112\ttotal: 935ms\tremaining: 5.18s\n",
      "153:\tlearn: 0.2442348\ttotal: 939ms\tremaining: 5.16s\n",
      "154:\tlearn: 0.2433744\ttotal: 941ms\tremaining: 5.13s\n",
      "155:\tlearn: 0.2425085\ttotal: 945ms\tremaining: 5.12s\n",
      "156:\tlearn: 0.2416897\ttotal: 948ms\tremaining: 5.09s\n",
      "157:\tlearn: 0.2411870\ttotal: 951ms\tremaining: 5.07s\n"
     ]
    },
    {
     "name": "stdout",
     "output_type": "stream",
     "text": [
      "158:\tlearn: 0.2403321\ttotal: 1.01s\tremaining: 5.37s\n",
      "159:\tlearn: 0.2394475\ttotal: 1.02s\tremaining: 5.36s\n",
      "160:\tlearn: 0.2386729\ttotal: 1.02s\tremaining: 5.34s\n",
      "161:\tlearn: 0.2379552\ttotal: 1.04s\tremaining: 5.36s\n",
      "162:\tlearn: 0.2373364\ttotal: 1.04s\tremaining: 5.37s\n",
      "163:\tlearn: 0.2363922\ttotal: 1.05s\tremaining: 5.35s\n",
      "164:\tlearn: 0.2356531\ttotal: 1.05s\tremaining: 5.33s\n",
      "165:\tlearn: 0.2350371\ttotal: 1.06s\tremaining: 5.33s\n",
      "166:\tlearn: 0.2344678\ttotal: 1.06s\tremaining: 5.31s\n",
      "167:\tlearn: 0.2337771\ttotal: 1.07s\tremaining: 5.29s\n",
      "168:\tlearn: 0.2332002\ttotal: 1.08s\tremaining: 5.32s\n",
      "169:\tlearn: 0.2325463\ttotal: 1.08s\tremaining: 5.3s\n",
      "170:\tlearn: 0.2318026\ttotal: 1.09s\tremaining: 5.27s\n",
      "171:\tlearn: 0.2313693\ttotal: 1.09s\tremaining: 5.24s\n",
      "172:\tlearn: 0.2308039\ttotal: 1.09s\tremaining: 5.21s\n",
      "173:\tlearn: 0.2304053\ttotal: 1.09s\tremaining: 5.19s\n"
     ]
    },
    {
     "name": "stdout",
     "output_type": "stream",
     "text": [
      "174:\tlearn: 0.2298861\ttotal: 1.11s\tremaining: 5.25s\n",
      "175:\tlearn: 0.2293642\ttotal: 1.11s\tremaining: 5.22s\n",
      "176:\tlearn: 0.2288450\ttotal: 1.12s\tremaining: 5.19s\n",
      "177:\tlearn: 0.2281358\ttotal: 1.12s\tremaining: 5.17s\n",
      "178:\tlearn: 0.2273616\ttotal: 1.12s\tremaining: 5.16s\n",
      "179:\tlearn: 0.2264547\ttotal: 1.13s\tremaining: 5.14s\n",
      "180:\tlearn: 0.2257732\ttotal: 1.13s\tremaining: 5.12s\n",
      "181:\tlearn: 0.2253107\ttotal: 1.13s\tremaining: 5.1s\n",
      "182:\tlearn: 0.2245783\ttotal: 1.14s\tremaining: 5.09s\n",
      "183:\tlearn: 0.2240583\ttotal: 1.14s\tremaining: 5.07s\n",
      "184:\tlearn: 0.2231941\ttotal: 1.15s\tremaining: 5.05s\n",
      "185:\tlearn: 0.2225455\ttotal: 1.15s\tremaining: 5.02s\n",
      "186:\tlearn: 0.2216868\ttotal: 1.15s\tremaining: 5.01s\n",
      "187:\tlearn: 0.2213689\ttotal: 1.15s\tremaining: 4.99s\n",
      "188:\tlearn: 0.2208434\ttotal: 1.16s\tremaining: 4.98s\n",
      "189:\tlearn: 0.2200004\ttotal: 1.16s\tremaining: 4.96s\n",
      "190:\tlearn: 0.2195081\ttotal: 1.17s\tremaining: 4.94s\n",
      "191:\tlearn: 0.2187325\ttotal: 1.17s\tremaining: 4.91s\n",
      "192:\tlearn: 0.2179929\ttotal: 1.18s\tremaining: 4.94s\n",
      "193:\tlearn: 0.2175250\ttotal: 1.18s\tremaining: 4.91s\n",
      "194:\tlearn: 0.2168211\ttotal: 1.19s\tremaining: 4.91s\n",
      "195:\tlearn: 0.2162668\ttotal: 1.19s\tremaining: 4.89s\n",
      "196:\tlearn: 0.2159342\ttotal: 1.19s\tremaining: 4.86s\n",
      "197:\tlearn: 0.2151032\ttotal: 1.2s\tremaining: 4.84s\n",
      "198:\tlearn: 0.2146134\ttotal: 1.2s\tremaining: 4.83s\n",
      "199:\tlearn: 0.2137029\ttotal: 1.2s\tremaining: 4.81s\n"
     ]
    },
    {
     "name": "stdout",
     "output_type": "stream",
     "text": [
      "200:\tlearn: 0.2130846\ttotal: 1.27s\tremaining: 5.04s\n",
      "201:\tlearn: 0.2126164\ttotal: 1.29s\tremaining: 5.08s\n",
      "202:\tlearn: 0.2119882\ttotal: 1.29s\tremaining: 5.06s\n",
      "203:\tlearn: 0.2112271\ttotal: 1.29s\tremaining: 5.03s\n",
      "204:\tlearn: 0.2103995\ttotal: 1.29s\tremaining: 5.01s\n",
      "205:\tlearn: 0.2098494\ttotal: 1.3s\tremaining: 5s\n",
      "206:\tlearn: 0.2092617\ttotal: 1.3s\tremaining: 4.98s\n",
      "207:\tlearn: 0.2086067\ttotal: 1.3s\tremaining: 4.96s\n",
      "208:\tlearn: 0.2081557\ttotal: 1.3s\tremaining: 4.94s\n",
      "209:\tlearn: 0.2075580\ttotal: 1.31s\tremaining: 4.92s\n",
      "210:\tlearn: 0.2067329\ttotal: 1.31s\tremaining: 4.91s\n",
      "211:\tlearn: 0.2062996\ttotal: 1.31s\tremaining: 4.89s\n",
      "212:\tlearn: 0.2054867\ttotal: 1.32s\tremaining: 4.87s\n",
      "213:\tlearn: 0.2051443\ttotal: 1.32s\tremaining: 4.85s\n",
      "214:\tlearn: 0.2047602\ttotal: 1.32s\tremaining: 4.83s\n",
      "215:\tlearn: 0.2044165\ttotal: 1.33s\tremaining: 4.81s\n",
      "216:\tlearn: 0.2039959\ttotal: 1.33s\tremaining: 4.79s\n",
      "217:\tlearn: 0.2036563\ttotal: 1.33s\tremaining: 4.78s\n",
      "218:\tlearn: 0.2031365\ttotal: 1.34s\tremaining: 4.77s\n",
      "219:\tlearn: 0.2024605\ttotal: 1.34s\tremaining: 4.76s\n",
      "220:\tlearn: 0.2020405\ttotal: 1.34s\tremaining: 4.74s\n",
      "221:\tlearn: 0.2014019\ttotal: 1.35s\tremaining: 4.72s\n",
      "222:\tlearn: 0.2010261\ttotal: 1.35s\tremaining: 4.71s\n",
      "223:\tlearn: 0.2004124\ttotal: 1.35s\tremaining: 4.69s\n",
      "224:\tlearn: 0.1999656\ttotal: 1.35s\tremaining: 4.67s\n",
      "225:\tlearn: 0.1991735\ttotal: 1.36s\tremaining: 4.66s\n",
      "226:\tlearn: 0.1989083\ttotal: 1.36s\tremaining: 4.65s\n",
      "227:\tlearn: 0.1986218\ttotal: 1.37s\tremaining: 4.63s\n",
      "228:\tlearn: 0.1983305\ttotal: 1.37s\tremaining: 4.62s\n",
      "229:\tlearn: 0.1980115\ttotal: 1.37s\tremaining: 4.6s\n"
     ]
    },
    {
     "name": "stdout",
     "output_type": "stream",
     "text": [
      "230:\tlearn: 0.1972200\ttotal: 1.38s\tremaining: 4.58s\n",
      "231:\tlearn: 0.1965926\ttotal: 1.44s\tremaining: 4.76s\n",
      "232:\tlearn: 0.1963705\ttotal: 1.44s\tremaining: 4.75s\n",
      "233:\tlearn: 0.1959604\ttotal: 1.45s\tremaining: 4.74s\n",
      "234:\tlearn: 0.1956613\ttotal: 1.49s\tremaining: 4.84s\n",
      "235:\tlearn: 0.1951947\ttotal: 1.49s\tremaining: 4.83s\n",
      "236:\tlearn: 0.1945836\ttotal: 1.49s\tremaining: 4.81s\n",
      "237:\tlearn: 0.1940483\ttotal: 1.5s\tremaining: 4.8s\n",
      "238:\tlearn: 0.1938464\ttotal: 1.5s\tremaining: 4.79s\n"
     ]
    },
    {
     "name": "stdout",
     "output_type": "stream",
     "text": [
      "239:\tlearn: 0.1935061\ttotal: 1.51s\tremaining: 4.78s\n",
      "240:\tlearn: 0.1930197\ttotal: 1.51s\tremaining: 4.77s\n",
      "241:\tlearn: 0.1926174\ttotal: 1.52s\tremaining: 4.75s\n",
      "242:\tlearn: 0.1921064\ttotal: 1.52s\tremaining: 4.74s\n",
      "243:\tlearn: 0.1916511\ttotal: 1.52s\tremaining: 4.73s\n",
      "244:\tlearn: 0.1910633\ttotal: 1.53s\tremaining: 4.71s\n",
      "245:\tlearn: 0.1904515\ttotal: 1.53s\tremaining: 4.69s\n",
      "246:\tlearn: 0.1899111\ttotal: 1.53s\tremaining: 4.67s\n",
      "247:\tlearn: 0.1893668\ttotal: 1.54s\tremaining: 4.66s\n",
      "248:\tlearn: 0.1887838\ttotal: 1.54s\tremaining: 4.65s\n",
      "249:\tlearn: 0.1883764\ttotal: 1.54s\tremaining: 4.64s\n",
      "250:\tlearn: 0.1881885\ttotal: 1.55s\tremaining: 4.62s\n",
      "251:\tlearn: 0.1877638\ttotal: 1.61s\tremaining: 4.78s\n",
      "252:\tlearn: 0.1875889\ttotal: 1.61s\tremaining: 4.77s\n",
      "253:\tlearn: 0.1870937\ttotal: 1.62s\tremaining: 4.76s\n"
     ]
    },
    {
     "name": "stdout",
     "output_type": "stream",
     "text": [
      "254:\tlearn: 0.1866776\ttotal: 1.63s\tremaining: 4.75s\n",
      "255:\tlearn: 0.1860870\ttotal: 1.63s\tremaining: 4.73s\n",
      "256:\tlearn: 0.1857521\ttotal: 1.63s\tremaining: 4.72s\n",
      "257:\tlearn: 0.1851505\ttotal: 1.64s\tremaining: 4.7s\n",
      "258:\tlearn: 0.1846365\ttotal: 1.64s\tremaining: 4.69s\n",
      "259:\tlearn: 0.1838796\ttotal: 1.64s\tremaining: 4.67s\n",
      "260:\tlearn: 0.1836932\ttotal: 1.65s\tremaining: 4.66s\n",
      "261:\tlearn: 0.1832669\ttotal: 1.65s\tremaining: 4.65s\n",
      "262:\tlearn: 0.1830180\ttotal: 1.65s\tremaining: 4.63s\n",
      "263:\tlearn: 0.1823298\ttotal: 1.66s\tremaining: 4.62s\n",
      "264:\tlearn: 0.1819651\ttotal: 1.66s\tremaining: 4.6s\n",
      "265:\tlearn: 0.1818039\ttotal: 1.66s\tremaining: 4.59s\n",
      "266:\tlearn: 0.1813591\ttotal: 1.66s\tremaining: 4.57s\n",
      "267:\tlearn: 0.1805534\ttotal: 1.67s\tremaining: 4.55s\n",
      "268:\tlearn: 0.1800283\ttotal: 1.67s\tremaining: 4.54s\n",
      "269:\tlearn: 0.1794962\ttotal: 1.67s\tremaining: 4.52s\n",
      "270:\tlearn: 0.1792319\ttotal: 1.68s\tremaining: 4.51s\n",
      "271:\tlearn: 0.1787430\ttotal: 1.68s\tremaining: 4.49s\n",
      "272:\tlearn: 0.1783867\ttotal: 1.68s\tremaining: 4.48s\n",
      "273:\tlearn: 0.1778663\ttotal: 1.69s\tremaining: 4.47s\n",
      "274:\tlearn: 0.1774371\ttotal: 1.69s\tremaining: 4.46s\n",
      "275:\tlearn: 0.1772894\ttotal: 1.69s\tremaining: 4.44s\n",
      "276:\tlearn: 0.1771341\ttotal: 1.7s\tremaining: 4.43s\n",
      "277:\tlearn: 0.1769605\ttotal: 1.7s\tremaining: 4.42s\n",
      "278:\tlearn: 0.1763423\ttotal: 1.7s\tremaining: 4.4s\n",
      "279:\tlearn: 0.1758001\ttotal: 1.71s\tremaining: 4.39s\n",
      "280:\tlearn: 0.1753053\ttotal: 1.77s\tremaining: 4.52s\n"
     ]
    },
    {
     "name": "stdout",
     "output_type": "stream",
     "text": [
      "281:\tlearn: 0.1747926\ttotal: 1.8s\tremaining: 4.59s\n",
      "282:\tlearn: 0.1743328\ttotal: 1.82s\tremaining: 4.61s\n",
      "283:\tlearn: 0.1739329\ttotal: 1.82s\tremaining: 4.6s\n",
      "284:\tlearn: 0.1736470\ttotal: 1.83s\tremaining: 4.58s\n",
      "285:\tlearn: 0.1733062\ttotal: 1.83s\tremaining: 4.57s\n",
      "286:\tlearn: 0.1729068\ttotal: 1.83s\tremaining: 4.56s\n",
      "287:\tlearn: 0.1727828\ttotal: 1.84s\tremaining: 4.54s\n",
      "288:\tlearn: 0.1724852\ttotal: 1.84s\tremaining: 4.54s\n",
      "289:\tlearn: 0.1721595\ttotal: 1.85s\tremaining: 4.52s\n",
      "290:\tlearn: 0.1717494\ttotal: 1.85s\tremaining: 4.51s\n",
      "291:\tlearn: 0.1714788\ttotal: 1.85s\tremaining: 4.5s\n",
      "292:\tlearn: 0.1713848\ttotal: 1.86s\tremaining: 4.48s\n",
      "293:\tlearn: 0.1712231\ttotal: 1.86s\tremaining: 4.47s\n",
      "294:\tlearn: 0.1708039\ttotal: 1.86s\tremaining: 4.46s\n",
      "295:\tlearn: 0.1703323\ttotal: 1.87s\tremaining: 4.44s\n",
      "296:\tlearn: 0.1699859\ttotal: 1.87s\tremaining: 4.43s\n",
      "297:\tlearn: 0.1698866\ttotal: 1.88s\tremaining: 4.42s\n",
      "298:\tlearn: 0.1694534\ttotal: 1.88s\tremaining: 4.41s\n",
      "299:\tlearn: 0.1690938\ttotal: 1.88s\tremaining: 4.4s\n",
      "300:\tlearn: 0.1687335\ttotal: 1.89s\tremaining: 4.38s\n",
      "301:\tlearn: 0.1686299\ttotal: 1.89s\tremaining: 4.37s\n",
      "302:\tlearn: 0.1682357\ttotal: 1.89s\tremaining: 4.36s\n",
      "303:\tlearn: 0.1681088\ttotal: 1.9s\tremaining: 4.35s\n",
      "304:\tlearn: 0.1677053\ttotal: 1.9s\tremaining: 4.34s\n",
      "305:\tlearn: 0.1676265\ttotal: 1.91s\tremaining: 4.32s\n"
     ]
    },
    {
     "name": "stdout",
     "output_type": "stream",
     "text": [
      "306:\tlearn: 0.1671996\ttotal: 2.03s\tremaining: 4.58s\n",
      "307:\tlearn: 0.1669354\ttotal: 2.03s\tremaining: 4.56s\n",
      "308:\tlearn: 0.1668941\ttotal: 2.03s\tremaining: 4.54s\n",
      "309:\tlearn: 0.1667805\ttotal: 2.04s\tremaining: 4.53s\n",
      "310:\tlearn: 0.1665842\ttotal: 2.04s\tremaining: 4.52s\n",
      "311:\tlearn: 0.1660081\ttotal: 2.04s\tremaining: 4.5s\n",
      "312:\tlearn: 0.1656191\ttotal: 2.04s\tremaining: 4.49s\n",
      "313:\tlearn: 0.1653321\ttotal: 2.05s\tremaining: 4.47s\n",
      "314:\tlearn: 0.1649537\ttotal: 2.05s\tremaining: 4.46s\n",
      "315:\tlearn: 0.1647548\ttotal: 2.05s\tremaining: 4.44s\n",
      "316:\tlearn: 0.1646690\ttotal: 2.06s\tremaining: 4.43s\n",
      "317:\tlearn: 0.1643145\ttotal: 2.06s\tremaining: 4.41s\n",
      "318:\tlearn: 0.1641349\ttotal: 2.06s\tremaining: 4.4s\n",
      "319:\tlearn: 0.1637088\ttotal: 2.06s\tremaining: 4.39s\n",
      "320:\tlearn: 0.1633480\ttotal: 2.07s\tremaining: 4.38s\n",
      "321:\tlearn: 0.1632556\ttotal: 2.07s\tremaining: 4.37s\n",
      "322:\tlearn: 0.1628379\ttotal: 2.08s\tremaining: 4.36s\n",
      "323:\tlearn: 0.1627112\ttotal: 2.08s\tremaining: 4.35s\n",
      "324:\tlearn: 0.1624838\ttotal: 2.09s\tremaining: 4.34s\n",
      "325:\tlearn: 0.1624088\ttotal: 2.09s\tremaining: 4.33s\n",
      "326:\tlearn: 0.1619629\ttotal: 2.1s\tremaining: 4.32s\n",
      "327:\tlearn: 0.1618726\ttotal: 2.1s\tremaining: 4.3s\n",
      "328:\tlearn: 0.1614508\ttotal: 2.1s\tremaining: 4.29s\n",
      "329:\tlearn: 0.1610058\ttotal: 2.11s\tremaining: 4.28s\n",
      "330:\tlearn: 0.1609415\ttotal: 2.11s\tremaining: 4.27s\n",
      "331:\tlearn: 0.1607772\ttotal: 2.12s\tremaining: 4.26s\n",
      "332:\tlearn: 0.1607387\ttotal: 2.12s\tremaining: 4.25s\n",
      "333:\tlearn: 0.1603646\ttotal: 2.12s\tremaining: 4.23s\n"
     ]
    },
    {
     "name": "stdout",
     "output_type": "stream",
     "text": [
      "334:\tlearn: 0.1602486\ttotal: 2.23s\tremaining: 4.43s\n",
      "335:\tlearn: 0.1601374\ttotal: 2.24s\tremaining: 4.44s\n",
      "336:\tlearn: 0.1598777\ttotal: 2.25s\tremaining: 4.42s\n",
      "337:\tlearn: 0.1593220\ttotal: 2.25s\tremaining: 4.41s\n",
      "338:\tlearn: 0.1591683\ttotal: 2.26s\tremaining: 4.4s\n",
      "339:\tlearn: 0.1589896\ttotal: 2.27s\tremaining: 4.41s\n",
      "340:\tlearn: 0.1585625\ttotal: 2.28s\tremaining: 4.41s\n",
      "341:\tlearn: 0.1584388\ttotal: 2.28s\tremaining: 4.39s\n",
      "342:\tlearn: 0.1579907\ttotal: 2.29s\tremaining: 4.38s\n",
      "343:\tlearn: 0.1578382\ttotal: 2.29s\tremaining: 4.37s\n",
      "344:\tlearn: 0.1571710\ttotal: 2.3s\tremaining: 4.36s\n",
      "345:\tlearn: 0.1569690\ttotal: 2.3s\tremaining: 4.35s\n",
      "346:\tlearn: 0.1566128\ttotal: 2.31s\tremaining: 4.34s\n",
      "347:\tlearn: 0.1564944\ttotal: 2.31s\tremaining: 4.32s\n",
      "348:\tlearn: 0.1559527\ttotal: 2.31s\tremaining: 4.31s\n",
      "349:\tlearn: 0.1554172\ttotal: 2.32s\tremaining: 4.32s\n",
      "350:\tlearn: 0.1550790\ttotal: 2.33s\tremaining: 4.3s\n",
      "351:\tlearn: 0.1550022\ttotal: 2.34s\tremaining: 4.3s\n",
      "352:\tlearn: 0.1547233\ttotal: 2.34s\tremaining: 4.29s\n"
     ]
    },
    {
     "name": "stdout",
     "output_type": "stream",
     "text": [
      "353:\tlearn: 0.1546850\ttotal: 2.34s\tremaining: 4.28s\n",
      "354:\tlearn: 0.1545719\ttotal: 2.35s\tremaining: 4.26s\n",
      "355:\tlearn: 0.1543814\ttotal: 2.35s\tremaining: 4.25s\n",
      "356:\tlearn: 0.1543346\ttotal: 2.35s\tremaining: 4.23s\n",
      "357:\tlearn: 0.1539901\ttotal: 2.35s\tremaining: 4.22s\n",
      "358:\tlearn: 0.1537118\ttotal: 2.35s\tremaining: 4.21s\n",
      "359:\tlearn: 0.1533090\ttotal: 2.36s\tremaining: 4.19s\n",
      "360:\tlearn: 0.1530220\ttotal: 2.36s\tremaining: 4.18s\n",
      "361:\tlearn: 0.1526189\ttotal: 2.36s\tremaining: 4.17s\n",
      "362:\tlearn: 0.1523722\ttotal: 2.37s\tremaining: 4.15s\n",
      "363:\tlearn: 0.1520199\ttotal: 2.37s\tremaining: 4.14s\n",
      "364:\tlearn: 0.1516970\ttotal: 2.37s\tremaining: 4.13s\n",
      "365:\tlearn: 0.1514808\ttotal: 2.38s\tremaining: 4.12s\n",
      "366:\tlearn: 0.1510523\ttotal: 2.38s\tremaining: 4.11s\n",
      "367:\tlearn: 0.1508513\ttotal: 2.38s\tremaining: 4.09s\n",
      "368:\tlearn: 0.1507671\ttotal: 2.39s\tremaining: 4.08s\n",
      "369:\tlearn: 0.1503519\ttotal: 2.39s\tremaining: 4.07s\n",
      "370:\tlearn: 0.1502417\ttotal: 2.4s\tremaining: 4.07s\n",
      "371:\tlearn: 0.1498792\ttotal: 2.41s\tremaining: 4.08s\n",
      "372:\tlearn: 0.1493498\ttotal: 2.42s\tremaining: 4.06s\n",
      "373:\tlearn: 0.1490821\ttotal: 2.42s\tremaining: 4.05s\n",
      "374:\tlearn: 0.1485637\ttotal: 2.43s\tremaining: 4.04s\n",
      "375:\tlearn: 0.1485100\ttotal: 2.43s\tremaining: 4.03s\n",
      "376:\tlearn: 0.1481699\ttotal: 2.43s\tremaining: 4.02s\n",
      "377:\tlearn: 0.1480056\ttotal: 2.44s\tremaining: 4.01s\n",
      "378:\tlearn: 0.1478311\ttotal: 2.44s\tremaining: 4s\n",
      "379:\tlearn: 0.1473003\ttotal: 2.44s\tremaining: 3.98s\n",
      "380:\tlearn: 0.1471684\ttotal: 2.44s\tremaining: 3.97s\n",
      "381:\tlearn: 0.1466175\ttotal: 2.45s\tremaining: 3.96s\n",
      "382:\tlearn: 0.1463923\ttotal: 2.45s\tremaining: 3.95s\n",
      "383:\tlearn: 0.1460600\ttotal: 2.46s\tremaining: 3.95s\n",
      "384:\tlearn: 0.1454947\ttotal: 2.46s\tremaining: 3.94s\n",
      "385:\tlearn: 0.1454322\ttotal: 2.47s\tremaining: 3.92s\n",
      "386:\tlearn: 0.1452014\ttotal: 2.47s\tremaining: 3.91s\n",
      "387:\tlearn: 0.1446957\ttotal: 2.47s\tremaining: 3.9s\n",
      "388:\tlearn: 0.1442587\ttotal: 2.48s\tremaining: 3.89s\n",
      "389:\tlearn: 0.1438100\ttotal: 2.48s\tremaining: 3.88s\n"
     ]
    },
    {
     "name": "stdout",
     "output_type": "stream",
     "text": [
      "390:\tlearn: 0.1434144\ttotal: 2.49s\tremaining: 3.88s\n",
      "391:\tlearn: 0.1433787\ttotal: 2.5s\tremaining: 3.87s\n",
      "392:\tlearn: 0.1432699\ttotal: 2.5s\tremaining: 3.86s\n",
      "393:\tlearn: 0.1429275\ttotal: 2.5s\tremaining: 3.85s\n",
      "394:\tlearn: 0.1425483\ttotal: 2.51s\tremaining: 3.84s\n",
      "395:\tlearn: 0.1422558\ttotal: 2.51s\tremaining: 3.83s\n",
      "396:\tlearn: 0.1420129\ttotal: 2.51s\tremaining: 3.81s\n",
      "397:\tlearn: 0.1415867\ttotal: 2.52s\tremaining: 3.81s\n",
      "398:\tlearn: 0.1413710\ttotal: 2.52s\tremaining: 3.8s\n",
      "399:\tlearn: 0.1411076\ttotal: 2.53s\tremaining: 3.8s\n",
      "400:\tlearn: 0.1408996\ttotal: 2.54s\tremaining: 3.79s\n",
      "401:\tlearn: 0.1407552\ttotal: 2.54s\tremaining: 3.78s\n",
      "402:\tlearn: 0.1403479\ttotal: 2.55s\tremaining: 3.77s\n",
      "403:\tlearn: 0.1402830\ttotal: 2.55s\tremaining: 3.76s\n",
      "404:\tlearn: 0.1400912\ttotal: 2.55s\tremaining: 3.75s\n",
      "405:\tlearn: 0.1398705\ttotal: 2.56s\tremaining: 3.74s\n",
      "406:\tlearn: 0.1394430\ttotal: 2.57s\tremaining: 3.74s\n",
      "407:\tlearn: 0.1391339\ttotal: 2.57s\tremaining: 3.73s\n",
      "408:\tlearn: 0.1389198\ttotal: 2.58s\tremaining: 3.73s\n",
      "409:\tlearn: 0.1388269\ttotal: 2.66s\tremaining: 3.83s\n"
     ]
    },
    {
     "name": "stdout",
     "output_type": "stream",
     "text": [
      "410:\tlearn: 0.1387506\ttotal: 2.69s\tremaining: 3.86s\n",
      "411:\tlearn: 0.1383870\ttotal: 2.7s\tremaining: 3.85s\n",
      "412:\tlearn: 0.1381154\ttotal: 2.7s\tremaining: 3.84s\n",
      "413:\tlearn: 0.1378520\ttotal: 2.71s\tremaining: 3.83s\n",
      "414:\tlearn: 0.1375893\ttotal: 2.71s\tremaining: 3.82s\n",
      "415:\tlearn: 0.1373197\ttotal: 2.72s\tremaining: 3.82s\n",
      "416:\tlearn: 0.1370659\ttotal: 2.73s\tremaining: 3.81s\n",
      "417:\tlearn: 0.1370328\ttotal: 2.73s\tremaining: 3.81s\n",
      "418:\tlearn: 0.1367146\ttotal: 2.74s\tremaining: 3.8s\n",
      "419:\tlearn: 0.1366219\ttotal: 2.74s\tremaining: 3.79s\n",
      "420:\tlearn: 0.1363500\ttotal: 2.75s\tremaining: 3.78s\n",
      "421:\tlearn: 0.1362843\ttotal: 2.75s\tremaining: 3.77s\n",
      "422:\tlearn: 0.1358761\ttotal: 2.75s\tremaining: 3.75s\n"
     ]
    },
    {
     "name": "stdout",
     "output_type": "stream",
     "text": [
      "423:\tlearn: 0.1356863\ttotal: 2.76s\tremaining: 3.74s\n",
      "424:\tlearn: 0.1353236\ttotal: 2.76s\tremaining: 3.73s\n",
      "425:\tlearn: 0.1349633\ttotal: 2.76s\tremaining: 3.72s\n",
      "426:\tlearn: 0.1345478\ttotal: 2.77s\tremaining: 3.71s\n",
      "427:\tlearn: 0.1342624\ttotal: 2.77s\tremaining: 3.7s\n",
      "428:\tlearn: 0.1342449\ttotal: 2.77s\tremaining: 3.69s\n",
      "429:\tlearn: 0.1338755\ttotal: 2.78s\tremaining: 3.68s\n",
      "430:\tlearn: 0.1335553\ttotal: 2.78s\tremaining: 3.67s\n",
      "431:\tlearn: 0.1334352\ttotal: 2.79s\tremaining: 3.66s\n",
      "432:\tlearn: 0.1332721\ttotal: 2.79s\tremaining: 3.65s\n",
      "433:\tlearn: 0.1329435\ttotal: 2.79s\tremaining: 3.64s\n",
      "434:\tlearn: 0.1325648\ttotal: 2.8s\tremaining: 3.64s\n",
      "435:\tlearn: 0.1323156\ttotal: 2.8s\tremaining: 3.63s\n",
      "436:\tlearn: 0.1320339\ttotal: 2.81s\tremaining: 3.62s\n",
      "437:\tlearn: 0.1316848\ttotal: 2.81s\tremaining: 3.61s\n",
      "438:\tlearn: 0.1313119\ttotal: 2.81s\tremaining: 3.6s\n",
      "439:\tlearn: 0.1310035\ttotal: 2.82s\tremaining: 3.59s\n",
      "440:\tlearn: 0.1308974\ttotal: 2.82s\tremaining: 3.58s\n",
      "441:\tlearn: 0.1307234\ttotal: 2.83s\tremaining: 3.57s\n",
      "442:\tlearn: 0.1304734\ttotal: 2.83s\tremaining: 3.56s\n",
      "443:\tlearn: 0.1303746\ttotal: 2.84s\tremaining: 3.56s\n",
      "444:\tlearn: 0.1300017\ttotal: 2.84s\tremaining: 3.54s\n",
      "445:\tlearn: 0.1298563\ttotal: 2.85s\tremaining: 3.54s\n",
      "446:\tlearn: 0.1296372\ttotal: 2.85s\tremaining: 3.53s\n",
      "447:\tlearn: 0.1294689\ttotal: 2.85s\tremaining: 3.52s\n",
      "448:\tlearn: 0.1291030\ttotal: 2.86s\tremaining: 3.5s\n"
     ]
    },
    {
     "name": "stdout",
     "output_type": "stream",
     "text": [
      "449:\tlearn: 0.1288234\ttotal: 2.98s\tremaining: 3.64s\n",
      "450:\tlearn: 0.1287476\ttotal: 2.98s\tremaining: 3.63s\n",
      "451:\tlearn: 0.1286039\ttotal: 2.99s\tremaining: 3.62s\n",
      "452:\tlearn: 0.1284156\ttotal: 2.99s\tremaining: 3.61s\n",
      "453:\tlearn: 0.1281972\ttotal: 3s\tremaining: 3.6s\n",
      "454:\tlearn: 0.1279347\ttotal: 3s\tremaining: 3.6s\n",
      "455:\tlearn: 0.1276139\ttotal: 3s\tremaining: 3.58s\n",
      "456:\tlearn: 0.1275414\ttotal: 3.01s\tremaining: 3.57s\n",
      "457:\tlearn: 0.1275170\ttotal: 3.01s\tremaining: 3.56s\n",
      "458:\tlearn: 0.1272734\ttotal: 3.02s\tremaining: 3.55s\n",
      "459:\tlearn: 0.1271354\ttotal: 3.06s\tremaining: 3.59s\n",
      "460:\tlearn: 0.1268580\ttotal: 3.06s\tremaining: 3.58s\n",
      "461:\tlearn: 0.1267870\ttotal: 3.07s\tremaining: 3.57s\n",
      "462:\tlearn: 0.1264266\ttotal: 3.07s\tremaining: 3.56s\n",
      "463:\tlearn: 0.1261179\ttotal: 3.07s\tremaining: 3.55s\n",
      "464:\tlearn: 0.1258536\ttotal: 3.08s\tremaining: 3.54s\n",
      "465:\tlearn: 0.1257623\ttotal: 3.08s\tremaining: 3.53s\n",
      "466:\tlearn: 0.1255918\ttotal: 3.08s\tremaining: 3.52s\n",
      "467:\tlearn: 0.1255527\ttotal: 3.08s\tremaining: 3.51s\n",
      "468:\tlearn: 0.1251676\ttotal: 3.09s\tremaining: 3.5s\n",
      "469:\tlearn: 0.1249168\ttotal: 3.09s\tremaining: 3.49s\n",
      "470:\tlearn: 0.1247406\ttotal: 3.1s\tremaining: 3.48s\n",
      "471:\tlearn: 0.1244344\ttotal: 3.1s\tremaining: 3.47s\n",
      "472:\tlearn: 0.1241529\ttotal: 3.1s\tremaining: 3.46s\n",
      "473:\tlearn: 0.1239474\ttotal: 3.11s\tremaining: 3.45s\n"
     ]
    },
    {
     "name": "stdout",
     "output_type": "stream",
     "text": [
      "474:\tlearn: 0.1235334\ttotal: 3.11s\tremaining: 3.44s\n",
      "475:\tlearn: 0.1234367\ttotal: 3.12s\tremaining: 3.43s\n",
      "476:\tlearn: 0.1233737\ttotal: 3.13s\tremaining: 3.43s\n",
      "477:\tlearn: 0.1232898\ttotal: 3.24s\tremaining: 3.54s\n",
      "478:\tlearn: 0.1230620\ttotal: 3.24s\tremaining: 3.53s\n"
     ]
    },
    {
     "name": "stdout",
     "output_type": "stream",
     "text": [
      "479:\tlearn: 0.1229564\ttotal: 3.25s\tremaining: 3.52s\n",
      "480:\tlearn: 0.1229330\ttotal: 3.25s\tremaining: 3.51s\n",
      "481:\tlearn: 0.1227822\ttotal: 3.26s\tremaining: 3.5s\n",
      "482:\tlearn: 0.1225287\ttotal: 3.26s\tremaining: 3.49s\n",
      "483:\tlearn: 0.1223313\ttotal: 3.26s\tremaining: 3.48s\n",
      "484:\tlearn: 0.1222896\ttotal: 3.26s\tremaining: 3.47s\n",
      "485:\tlearn: 0.1219807\ttotal: 3.27s\tremaining: 3.46s\n",
      "486:\tlearn: 0.1217648\ttotal: 3.27s\tremaining: 3.45s\n",
      "487:\tlearn: 0.1216965\ttotal: 3.27s\tremaining: 3.44s\n",
      "488:\tlearn: 0.1214322\ttotal: 3.28s\tremaining: 3.42s\n",
      "489:\tlearn: 0.1211690\ttotal: 3.28s\tremaining: 3.41s\n",
      "490:\tlearn: 0.1209790\ttotal: 3.29s\tremaining: 3.41s\n",
      "491:\tlearn: 0.1207527\ttotal: 3.29s\tremaining: 3.4s\n",
      "492:\tlearn: 0.1202828\ttotal: 3.3s\tremaining: 3.39s\n",
      "493:\tlearn: 0.1202030\ttotal: 3.3s\tremaining: 3.38s\n",
      "494:\tlearn: 0.1200539\ttotal: 3.3s\tremaining: 3.37s\n",
      "495:\tlearn: 0.1197771\ttotal: 3.31s\tremaining: 3.36s\n",
      "496:\tlearn: 0.1195107\ttotal: 3.31s\tremaining: 3.35s\n",
      "497:\tlearn: 0.1192940\ttotal: 3.31s\tremaining: 3.34s\n",
      "498:\tlearn: 0.1191622\ttotal: 3.32s\tremaining: 3.33s\n",
      "499:\tlearn: 0.1190064\ttotal: 3.32s\tremaining: 3.32s\n",
      "500:\tlearn: 0.1188312\ttotal: 3.33s\tremaining: 3.32s\n",
      "501:\tlearn: 0.1185477\ttotal: 3.33s\tremaining: 3.31s\n",
      "502:\tlearn: 0.1184381\ttotal: 3.34s\tremaining: 3.3s\n"
     ]
    },
    {
     "name": "stdout",
     "output_type": "stream",
     "text": [
      "503:\tlearn: 0.1182448\ttotal: 3.34s\tremaining: 3.29s\n",
      "504:\tlearn: 0.1181007\ttotal: 3.35s\tremaining: 3.29s\n",
      "505:\tlearn: 0.1179525\ttotal: 3.35s\tremaining: 3.27s\n",
      "506:\tlearn: 0.1178296\ttotal: 3.36s\tremaining: 3.27s\n",
      "507:\tlearn: 0.1175258\ttotal: 3.36s\tremaining: 3.26s\n",
      "508:\tlearn: 0.1173632\ttotal: 3.37s\tremaining: 3.25s\n",
      "509:\tlearn: 0.1171839\ttotal: 3.37s\tremaining: 3.24s\n",
      "510:\tlearn: 0.1170599\ttotal: 3.37s\tremaining: 3.23s\n",
      "511:\tlearn: 0.1167523\ttotal: 3.38s\tremaining: 3.22s\n",
      "512:\tlearn: 0.1165188\ttotal: 3.38s\tremaining: 3.21s\n",
      "513:\tlearn: 0.1163314\ttotal: 3.38s\tremaining: 3.2s\n",
      "514:\tlearn: 0.1161007\ttotal: 3.38s\tremaining: 3.19s\n",
      "515:\tlearn: 0.1159743\ttotal: 3.39s\tremaining: 3.18s\n",
      "516:\tlearn: 0.1156872\ttotal: 3.39s\tremaining: 3.17s\n",
      "517:\tlearn: 0.1155727\ttotal: 3.39s\tremaining: 3.16s\n",
      "518:\tlearn: 0.1153704\ttotal: 3.4s\tremaining: 3.15s\n",
      "519:\tlearn: 0.1150890\ttotal: 3.4s\tremaining: 3.14s\n",
      "520:\tlearn: 0.1147186\ttotal: 3.4s\tremaining: 3.13s\n",
      "521:\tlearn: 0.1143765\ttotal: 3.41s\tremaining: 3.12s\n",
      "522:\tlearn: 0.1141714\ttotal: 3.41s\tremaining: 3.11s\n",
      "523:\tlearn: 0.1139190\ttotal: 3.42s\tremaining: 3.11s\n",
      "524:\tlearn: 0.1136831\ttotal: 3.42s\tremaining: 3.1s\n",
      "525:\tlearn: 0.1134093\ttotal: 3.43s\tremaining: 3.09s\n",
      "526:\tlearn: 0.1132724\ttotal: 3.43s\tremaining: 3.08s\n",
      "527:\tlearn: 0.1129663\ttotal: 3.43s\tremaining: 3.07s\n"
     ]
    },
    {
     "name": "stdout",
     "output_type": "stream",
     "text": [
      "528:\tlearn: 0.1128462\ttotal: 3.44s\tremaining: 3.06s\n",
      "529:\tlearn: 0.1127800\ttotal: 3.45s\tremaining: 3.06s\n",
      "530:\tlearn: 0.1125034\ttotal: 3.46s\tremaining: 3.05s\n",
      "531:\tlearn: 0.1122750\ttotal: 3.47s\tremaining: 3.05s\n",
      "532:\tlearn: 0.1120986\ttotal: 3.49s\tremaining: 3.06s\n",
      "533:\tlearn: 0.1119885\ttotal: 3.49s\tremaining: 3.05s\n",
      "534:\tlearn: 0.1117687\ttotal: 3.5s\tremaining: 3.04s\n",
      "535:\tlearn: 0.1117102\ttotal: 3.5s\tremaining: 3.03s\n",
      "536:\tlearn: 0.1115989\ttotal: 3.5s\tremaining: 3.02s\n",
      "537:\tlearn: 0.1114948\ttotal: 3.51s\tremaining: 3.01s\n",
      "538:\tlearn: 0.1114519\ttotal: 3.51s\tremaining: 3s\n",
      "539:\tlearn: 0.1111140\ttotal: 3.51s\tremaining: 2.99s\n",
      "540:\tlearn: 0.1108451\ttotal: 3.52s\tremaining: 2.98s\n",
      "541:\tlearn: 0.1108195\ttotal: 3.52s\tremaining: 2.97s\n",
      "542:\tlearn: 0.1105928\ttotal: 3.52s\tremaining: 2.96s\n",
      "543:\tlearn: 0.1102592\ttotal: 3.53s\tremaining: 2.96s\n",
      "544:\tlearn: 0.1100009\ttotal: 3.53s\tremaining: 2.95s\n"
     ]
    },
    {
     "name": "stdout",
     "output_type": "stream",
     "text": [
      "545:\tlearn: 0.1097024\ttotal: 3.54s\tremaining: 2.95s\n",
      "546:\tlearn: 0.1095737\ttotal: 3.57s\tremaining: 2.96s\n",
      "547:\tlearn: 0.1092437\ttotal: 3.57s\tremaining: 2.95s\n",
      "548:\tlearn: 0.1091471\ttotal: 3.58s\tremaining: 2.94s\n",
      "549:\tlearn: 0.1089452\ttotal: 3.59s\tremaining: 2.94s\n",
      "550:\tlearn: 0.1087407\ttotal: 3.59s\tremaining: 2.93s\n",
      "551:\tlearn: 0.1086186\ttotal: 3.6s\tremaining: 2.93s\n",
      "552:\tlearn: 0.1085121\ttotal: 3.61s\tremaining: 2.92s\n",
      "553:\tlearn: 0.1083187\ttotal: 3.61s\tremaining: 2.91s\n",
      "554:\tlearn: 0.1082266\ttotal: 3.62s\tremaining: 2.9s\n",
      "555:\tlearn: 0.1081567\ttotal: 3.62s\tremaining: 2.89s\n",
      "556:\tlearn: 0.1080191\ttotal: 3.62s\tremaining: 2.88s\n",
      "557:\tlearn: 0.1078704\ttotal: 3.63s\tremaining: 2.87s\n",
      "558:\tlearn: 0.1076865\ttotal: 3.63s\tremaining: 2.86s\n",
      "559:\tlearn: 0.1074139\ttotal: 3.63s\tremaining: 2.85s\n",
      "560:\tlearn: 0.1072414\ttotal: 3.64s\tremaining: 2.85s\n",
      "561:\tlearn: 0.1070461\ttotal: 3.64s\tremaining: 2.84s\n",
      "562:\tlearn: 0.1069505\ttotal: 3.65s\tremaining: 2.83s\n",
      "563:\tlearn: 0.1067220\ttotal: 3.65s\tremaining: 2.82s\n",
      "564:\tlearn: 0.1065804\ttotal: 3.65s\tremaining: 2.81s\n",
      "565:\tlearn: 0.1063000\ttotal: 3.66s\tremaining: 2.8s\n",
      "566:\tlearn: 0.1062499\ttotal: 3.66s\tremaining: 2.79s\n",
      "567:\tlearn: 0.1059945\ttotal: 3.66s\tremaining: 2.79s\n"
     ]
    },
    {
     "name": "stdout",
     "output_type": "stream",
     "text": [
      "568:\tlearn: 0.1056759\ttotal: 3.67s\tremaining: 2.78s\n",
      "569:\tlearn: 0.1054380\ttotal: 3.67s\tremaining: 2.77s\n",
      "570:\tlearn: 0.1052115\ttotal: 3.67s\tremaining: 2.76s\n",
      "571:\tlearn: 0.1049691\ttotal: 3.68s\tremaining: 2.75s\n",
      "572:\tlearn: 0.1047321\ttotal: 3.68s\tremaining: 2.74s\n",
      "573:\tlearn: 0.1045330\ttotal: 3.69s\tremaining: 2.74s\n",
      "574:\tlearn: 0.1043963\ttotal: 3.7s\tremaining: 2.73s\n",
      "575:\tlearn: 0.1042895\ttotal: 3.71s\tremaining: 2.73s\n",
      "576:\tlearn: 0.1041444\ttotal: 3.72s\tremaining: 2.73s\n",
      "577:\tlearn: 0.1039628\ttotal: 3.73s\tremaining: 2.72s\n",
      "578:\tlearn: 0.1038813\ttotal: 3.73s\tremaining: 2.71s\n",
      "579:\tlearn: 0.1036885\ttotal: 3.76s\tremaining: 2.72s\n",
      "580:\tlearn: 0.1035164\ttotal: 3.76s\tremaining: 2.71s\n",
      "581:\tlearn: 0.1032577\ttotal: 3.76s\tremaining: 2.7s\n"
     ]
    },
    {
     "name": "stdout",
     "output_type": "stream",
     "text": [
      "582:\tlearn: 0.1030227\ttotal: 3.77s\tremaining: 2.69s\n",
      "583:\tlearn: 0.1027600\ttotal: 3.77s\tremaining: 2.69s\n",
      "584:\tlearn: 0.1025732\ttotal: 3.77s\tremaining: 2.68s\n",
      "585:\tlearn: 0.1022754\ttotal: 3.78s\tremaining: 2.67s\n",
      "586:\tlearn: 0.1019900\ttotal: 3.78s\tremaining: 2.66s\n",
      "587:\tlearn: 0.1018421\ttotal: 3.79s\tremaining: 2.65s\n",
      "588:\tlearn: 0.1016512\ttotal: 3.79s\tremaining: 2.65s\n",
      "589:\tlearn: 0.1013353\ttotal: 3.79s\tremaining: 2.64s\n",
      "590:\tlearn: 0.1012815\ttotal: 3.8s\tremaining: 2.63s\n",
      "591:\tlearn: 0.1011657\ttotal: 3.8s\tremaining: 2.62s\n",
      "592:\tlearn: 0.1009876\ttotal: 3.8s\tremaining: 2.61s\n",
      "593:\tlearn: 0.1008079\ttotal: 3.81s\tremaining: 2.6s\n",
      "594:\tlearn: 0.1006411\ttotal: 3.81s\tremaining: 2.59s\n",
      "595:\tlearn: 0.1004260\ttotal: 3.81s\tremaining: 2.58s\n",
      "596:\tlearn: 0.1002580\ttotal: 3.82s\tremaining: 2.58s\n",
      "597:\tlearn: 0.1000335\ttotal: 3.83s\tremaining: 2.57s\n",
      "598:\tlearn: 0.0999480\ttotal: 3.83s\tremaining: 2.57s\n",
      "599:\tlearn: 0.0998664\ttotal: 3.86s\tremaining: 2.57s\n",
      "600:\tlearn: 0.0996440\ttotal: 3.87s\tremaining: 2.56s\n",
      "601:\tlearn: 0.0994545\ttotal: 3.87s\tremaining: 2.56s\n",
      "602:\tlearn: 0.0992750\ttotal: 3.88s\tremaining: 2.55s\n",
      "603:\tlearn: 0.0991933\ttotal: 3.89s\tremaining: 2.55s\n"
     ]
    },
    {
     "name": "stdout",
     "output_type": "stream",
     "text": [
      "604:\tlearn: 0.0989353\ttotal: 3.92s\tremaining: 2.56s\n",
      "605:\tlearn: 0.0986835\ttotal: 3.93s\tremaining: 2.55s\n",
      "606:\tlearn: 0.0985956\ttotal: 3.93s\tremaining: 2.55s\n",
      "607:\tlearn: 0.0983594\ttotal: 3.94s\tremaining: 2.54s\n",
      "608:\tlearn: 0.0982790\ttotal: 3.94s\tremaining: 2.53s\n",
      "609:\tlearn: 0.0981909\ttotal: 3.95s\tremaining: 2.52s\n",
      "610:\tlearn: 0.0979859\ttotal: 3.95s\tremaining: 2.52s\n",
      "611:\tlearn: 0.0978224\ttotal: 3.96s\tremaining: 2.51s\n",
      "612:\tlearn: 0.0977443\ttotal: 3.97s\tremaining: 2.5s\n",
      "613:\tlearn: 0.0976262\ttotal: 3.97s\tremaining: 2.5s\n",
      "614:\tlearn: 0.0973661\ttotal: 3.97s\tremaining: 2.49s\n",
      "615:\tlearn: 0.0970690\ttotal: 3.98s\tremaining: 2.48s\n",
      "616:\tlearn: 0.0968223\ttotal: 4.01s\tremaining: 2.49s\n",
      "617:\tlearn: 0.0966622\ttotal: 4.02s\tremaining: 2.48s\n",
      "618:\tlearn: 0.0964762\ttotal: 4.02s\tremaining: 2.48s\n",
      "619:\tlearn: 0.0963304\ttotal: 4.03s\tremaining: 2.47s\n",
      "620:\tlearn: 0.0961908\ttotal: 4.03s\tremaining: 2.46s\n",
      "621:\tlearn: 0.0960435\ttotal: 4.03s\tremaining: 2.45s\n",
      "622:\tlearn: 0.0957802\ttotal: 4.04s\tremaining: 2.44s\n",
      "623:\tlearn: 0.0955218\ttotal: 4.04s\tremaining: 2.44s\n",
      "624:\tlearn: 0.0953309\ttotal: 4.04s\tremaining: 2.43s\n",
      "625:\tlearn: 0.0952221\ttotal: 4.05s\tremaining: 2.42s\n",
      "626:\tlearn: 0.0950472\ttotal: 4.05s\tremaining: 2.41s\n"
     ]
    },
    {
     "name": "stdout",
     "output_type": "stream",
     "text": [
      "627:\tlearn: 0.0948114\ttotal: 4.06s\tremaining: 2.4s\n",
      "628:\tlearn: 0.0946285\ttotal: 4.06s\tremaining: 2.4s\n",
      "629:\tlearn: 0.0944442\ttotal: 4.06s\tremaining: 2.39s\n",
      "630:\tlearn: 0.0943084\ttotal: 4.07s\tremaining: 2.38s\n",
      "631:\tlearn: 0.0940865\ttotal: 4.07s\tremaining: 2.37s\n",
      "632:\tlearn: 0.0938896\ttotal: 4.08s\tremaining: 2.37s\n",
      "633:\tlearn: 0.0937020\ttotal: 4.09s\tremaining: 2.36s\n",
      "634:\tlearn: 0.0935065\ttotal: 4.09s\tremaining: 2.35s\n",
      "635:\tlearn: 0.0934239\ttotal: 4.09s\tremaining: 2.34s\n",
      "636:\tlearn: 0.0932130\ttotal: 4.1s\tremaining: 2.33s\n",
      "637:\tlearn: 0.0931491\ttotal: 4.1s\tremaining: 2.33s\n",
      "638:\tlearn: 0.0930871\ttotal: 4.11s\tremaining: 2.32s\n",
      "639:\tlearn: 0.0929479\ttotal: 4.11s\tremaining: 2.31s\n",
      "640:\tlearn: 0.0928793\ttotal: 4.11s\tremaining: 2.3s\n",
      "641:\tlearn: 0.0927184\ttotal: 4.11s\tremaining: 2.29s\n",
      "642:\tlearn: 0.0925037\ttotal: 4.12s\tremaining: 2.29s\n",
      "643:\tlearn: 0.0923672\ttotal: 4.12s\tremaining: 2.28s\n",
      "644:\tlearn: 0.0921321\ttotal: 4.12s\tremaining: 2.27s\n",
      "645:\tlearn: 0.0919991\ttotal: 4.13s\tremaining: 2.26s\n",
      "646:\tlearn: 0.0918253\ttotal: 4.13s\tremaining: 2.25s\n",
      "647:\tlearn: 0.0916412\ttotal: 4.13s\tremaining: 2.24s\n",
      "648:\tlearn: 0.0913932\ttotal: 4.13s\tremaining: 2.23s\n",
      "649:\tlearn: 0.0912402\ttotal: 4.13s\tremaining: 2.23s\n",
      "650:\tlearn: 0.0909938\ttotal: 4.14s\tremaining: 2.22s\n",
      "651:\tlearn: 0.0908306\ttotal: 4.14s\tremaining: 2.21s\n",
      "652:\tlearn: 0.0906927\ttotal: 4.14s\tremaining: 2.2s\n",
      "653:\tlearn: 0.0905967\ttotal: 4.14s\tremaining: 2.19s\n",
      "654:\tlearn: 0.0904541\ttotal: 4.15s\tremaining: 2.18s\n",
      "655:\tlearn: 0.0902406\ttotal: 4.15s\tremaining: 2.18s\n",
      "656:\tlearn: 0.0901964\ttotal: 4.16s\tremaining: 2.17s\n",
      "657:\tlearn: 0.0901051\ttotal: 4.16s\tremaining: 2.16s\n",
      "658:\tlearn: 0.0900104\ttotal: 4.17s\tremaining: 2.15s\n",
      "659:\tlearn: 0.0898890\ttotal: 4.17s\tremaining: 2.15s\n",
      "660:\tlearn: 0.0898125\ttotal: 4.17s\tremaining: 2.14s\n",
      "661:\tlearn: 0.0897134\ttotal: 4.18s\tremaining: 2.13s\n",
      "662:\tlearn: 0.0894776\ttotal: 4.18s\tremaining: 2.13s\n",
      "663:\tlearn: 0.0893311\ttotal: 4.18s\tremaining: 2.12s\n",
      "664:\tlearn: 0.0892741\ttotal: 4.19s\tremaining: 2.11s\n",
      "665:\tlearn: 0.0890569\ttotal: 4.19s\tremaining: 2.1s\n",
      "666:\tlearn: 0.0889329\ttotal: 4.19s\tremaining: 2.09s\n",
      "667:\tlearn: 0.0888182\ttotal: 4.19s\tremaining: 2.08s\n"
     ]
    },
    {
     "name": "stdout",
     "output_type": "stream",
     "text": [
      "668:\tlearn: 0.0886934\ttotal: 4.2s\tremaining: 2.08s\n",
      "669:\tlearn: 0.0884735\ttotal: 4.2s\tremaining: 2.07s\n",
      "670:\tlearn: 0.0883406\ttotal: 4.2s\tremaining: 2.06s\n",
      "671:\tlearn: 0.0882847\ttotal: 4.21s\tremaining: 2.05s\n",
      "672:\tlearn: 0.0880674\ttotal: 4.21s\tremaining: 2.04s\n",
      "673:\tlearn: 0.0879341\ttotal: 4.21s\tremaining: 2.04s\n",
      "674:\tlearn: 0.0877547\ttotal: 4.21s\tremaining: 2.03s\n",
      "675:\tlearn: 0.0875505\ttotal: 4.21s\tremaining: 2.02s\n",
      "676:\tlearn: 0.0873726\ttotal: 4.22s\tremaining: 2.01s\n",
      "677:\tlearn: 0.0872502\ttotal: 4.22s\tremaining: 2s\n",
      "678:\tlearn: 0.0870581\ttotal: 4.22s\tremaining: 2s\n",
      "679:\tlearn: 0.0868811\ttotal: 4.22s\tremaining: 1.99s\n",
      "680:\tlearn: 0.0868144\ttotal: 4.23s\tremaining: 1.98s\n",
      "681:\tlearn: 0.0866210\ttotal: 4.23s\tremaining: 1.97s\n",
      "682:\tlearn: 0.0865112\ttotal: 4.24s\tremaining: 1.97s\n",
      "683:\tlearn: 0.0863993\ttotal: 4.24s\tremaining: 1.96s\n",
      "684:\tlearn: 0.0861821\ttotal: 4.25s\tremaining: 1.95s\n",
      "685:\tlearn: 0.0860888\ttotal: 4.27s\tremaining: 1.96s\n",
      "686:\tlearn: 0.0859647\ttotal: 4.29s\tremaining: 1.95s\n",
      "687:\tlearn: 0.0858855\ttotal: 4.29s\tremaining: 1.95s\n",
      "688:\tlearn: 0.0857054\ttotal: 4.29s\tremaining: 1.94s\n"
     ]
    },
    {
     "name": "stdout",
     "output_type": "stream",
     "text": [
      "689:\tlearn: 0.0855094\ttotal: 4.32s\tremaining: 1.94s\n",
      "690:\tlearn: 0.0853973\ttotal: 4.34s\tremaining: 1.94s\n"
     ]
    },
    {
     "name": "stdout",
     "output_type": "stream",
     "text": [
      "691:\tlearn: 0.0852986\ttotal: 4.43s\tremaining: 1.97s\n",
      "692:\tlearn: 0.0852657\ttotal: 4.43s\tremaining: 1.96s\n",
      "693:\tlearn: 0.0851995\ttotal: 4.44s\tremaining: 1.96s\n",
      "694:\tlearn: 0.0850508\ttotal: 4.44s\tremaining: 1.95s\n",
      "695:\tlearn: 0.0849529\ttotal: 4.45s\tremaining: 1.94s\n",
      "696:\tlearn: 0.0847683\ttotal: 4.45s\tremaining: 1.93s\n",
      "697:\tlearn: 0.0846525\ttotal: 4.45s\tremaining: 1.93s\n",
      "698:\tlearn: 0.0845753\ttotal: 4.45s\tremaining: 1.92s\n",
      "699:\tlearn: 0.0844884\ttotal: 4.46s\tremaining: 1.91s\n",
      "700:\tlearn: 0.0844136\ttotal: 4.46s\tremaining: 1.9s\n",
      "701:\tlearn: 0.0843579\ttotal: 4.47s\tremaining: 1.9s\n",
      "702:\tlearn: 0.0842078\ttotal: 4.47s\tremaining: 1.89s\n",
      "703:\tlearn: 0.0840466\ttotal: 4.49s\tremaining: 1.89s\n",
      "704:\tlearn: 0.0839225\ttotal: 4.49s\tremaining: 1.88s\n",
      "705:\tlearn: 0.0836989\ttotal: 4.5s\tremaining: 1.87s\n",
      "706:\tlearn: 0.0835851\ttotal: 4.5s\tremaining: 1.86s\n",
      "707:\tlearn: 0.0834856\ttotal: 4.5s\tremaining: 1.86s\n",
      "708:\tlearn: 0.0833111\ttotal: 4.5s\tremaining: 1.85s\n",
      "709:\tlearn: 0.0831079\ttotal: 4.51s\tremaining: 1.84s\n",
      "710:\tlearn: 0.0830202\ttotal: 4.51s\tremaining: 1.83s\n",
      "711:\tlearn: 0.0828573\ttotal: 4.52s\tremaining: 1.83s\n",
      "712:\tlearn: 0.0827184\ttotal: 4.52s\tremaining: 1.82s\n"
     ]
    },
    {
     "name": "stdout",
     "output_type": "stream",
     "text": [
      "713:\tlearn: 0.0825019\ttotal: 4.56s\tremaining: 1.83s\n",
      "714:\tlearn: 0.0822904\ttotal: 4.57s\tremaining: 1.82s\n",
      "715:\tlearn: 0.0821617\ttotal: 4.57s\tremaining: 1.81s\n",
      "716:\tlearn: 0.0820324\ttotal: 4.57s\tremaining: 1.8s\n",
      "717:\tlearn: 0.0818651\ttotal: 4.58s\tremaining: 1.8s\n",
      "718:\tlearn: 0.0816968\ttotal: 4.58s\tremaining: 1.79s\n",
      "719:\tlearn: 0.0816400\ttotal: 4.58s\tremaining: 1.78s\n",
      "720:\tlearn: 0.0815917\ttotal: 4.59s\tremaining: 1.77s\n",
      "721:\tlearn: 0.0814132\ttotal: 4.59s\tremaining: 1.77s\n",
      "722:\tlearn: 0.0812311\ttotal: 4.59s\tremaining: 1.76s\n",
      "723:\tlearn: 0.0810310\ttotal: 4.6s\tremaining: 1.75s\n",
      "724:\tlearn: 0.0808417\ttotal: 4.6s\tremaining: 1.75s\n",
      "725:\tlearn: 0.0807522\ttotal: 4.6s\tremaining: 1.74s\n",
      "726:\tlearn: 0.0806435\ttotal: 4.61s\tremaining: 1.73s\n",
      "727:\tlearn: 0.0805303\ttotal: 4.61s\tremaining: 1.72s\n",
      "728:\tlearn: 0.0803577\ttotal: 4.62s\tremaining: 1.72s\n",
      "729:\tlearn: 0.0801813\ttotal: 4.62s\tremaining: 1.71s\n",
      "730:\tlearn: 0.0800471\ttotal: 4.62s\tremaining: 1.7s\n",
      "731:\tlearn: 0.0799383\ttotal: 4.62s\tremaining: 1.69s\n",
      "732:\tlearn: 0.0798100\ttotal: 4.63s\tremaining: 1.68s\n",
      "733:\tlearn: 0.0797195\ttotal: 4.63s\tremaining: 1.68s\n",
      "734:\tlearn: 0.0796643\ttotal: 4.63s\tremaining: 1.67s\n",
      "735:\tlearn: 0.0795725\ttotal: 4.63s\tremaining: 1.66s\n",
      "736:\tlearn: 0.0794491\ttotal: 4.64s\tremaining: 1.66s\n",
      "737:\tlearn: 0.0793212\ttotal: 4.64s\tremaining: 1.65s\n",
      "738:\tlearn: 0.0791167\ttotal: 4.64s\tremaining: 1.64s\n",
      "739:\tlearn: 0.0790595\ttotal: 4.64s\tremaining: 1.63s\n",
      "740:\tlearn: 0.0789399\ttotal: 4.65s\tremaining: 1.62s\n",
      "741:\tlearn: 0.0787515\ttotal: 4.65s\tremaining: 1.62s\n",
      "742:\tlearn: 0.0786527\ttotal: 4.65s\tremaining: 1.61s\n",
      "743:\tlearn: 0.0785012\ttotal: 4.68s\tremaining: 1.61s\n",
      "744:\tlearn: 0.0784084\ttotal: 4.68s\tremaining: 1.6s\n",
      "745:\tlearn: 0.0782754\ttotal: 4.69s\tremaining: 1.6s\n"
     ]
    },
    {
     "name": "stdout",
     "output_type": "stream",
     "text": [
      "746:\tlearn: 0.0781791\ttotal: 4.69s\tremaining: 1.59s\n",
      "747:\tlearn: 0.0780926\ttotal: 4.69s\tremaining: 1.58s\n",
      "748:\tlearn: 0.0780101\ttotal: 4.7s\tremaining: 1.57s\n",
      "749:\tlearn: 0.0779636\ttotal: 4.7s\tremaining: 1.57s\n",
      "750:\tlearn: 0.0778017\ttotal: 4.72s\tremaining: 1.56s\n",
      "751:\tlearn: 0.0776016\ttotal: 4.74s\tremaining: 1.56s\n",
      "752:\tlearn: 0.0774023\ttotal: 4.75s\tremaining: 1.56s\n",
      "753:\tlearn: 0.0772484\ttotal: 4.75s\tremaining: 1.55s\n",
      "754:\tlearn: 0.0771307\ttotal: 4.76s\tremaining: 1.54s\n",
      "755:\tlearn: 0.0769945\ttotal: 4.76s\tremaining: 1.54s\n"
     ]
    },
    {
     "name": "stdout",
     "output_type": "stream",
     "text": [
      "756:\tlearn: 0.0768997\ttotal: 4.77s\tremaining: 1.53s\n",
      "757:\tlearn: 0.0767620\ttotal: 4.77s\tremaining: 1.52s\n",
      "758:\tlearn: 0.0766823\ttotal: 4.77s\tremaining: 1.52s\n",
      "759:\tlearn: 0.0765328\ttotal: 4.78s\tremaining: 1.51s\n",
      "760:\tlearn: 0.0764568\ttotal: 4.78s\tremaining: 1.5s\n",
      "761:\tlearn: 0.0763507\ttotal: 4.79s\tremaining: 1.5s\n",
      "762:\tlearn: 0.0762833\ttotal: 4.79s\tremaining: 1.49s\n",
      "763:\tlearn: 0.0761212\ttotal: 4.8s\tremaining: 1.48s\n",
      "764:\tlearn: 0.0759985\ttotal: 4.8s\tremaining: 1.47s\n",
      "765:\tlearn: 0.0759467\ttotal: 4.8s\tremaining: 1.47s\n",
      "766:\tlearn: 0.0758731\ttotal: 4.81s\tremaining: 1.46s\n",
      "767:\tlearn: 0.0757501\ttotal: 4.81s\tremaining: 1.45s\n",
      "768:\tlearn: 0.0756270\ttotal: 4.81s\tremaining: 1.45s\n",
      "769:\tlearn: 0.0755660\ttotal: 4.82s\tremaining: 1.44s\n",
      "770:\tlearn: 0.0754743\ttotal: 4.82s\tremaining: 1.43s\n",
      "771:\tlearn: 0.0753998\ttotal: 4.82s\tremaining: 1.42s\n",
      "772:\tlearn: 0.0751881\ttotal: 4.82s\tremaining: 1.42s\n",
      "773:\tlearn: 0.0750685\ttotal: 4.83s\tremaining: 1.41s\n",
      "774:\tlearn: 0.0748892\ttotal: 4.83s\tremaining: 1.4s\n",
      "775:\tlearn: 0.0747778\ttotal: 4.83s\tremaining: 1.4s\n",
      "776:\tlearn: 0.0746876\ttotal: 4.84s\tremaining: 1.39s\n",
      "777:\tlearn: 0.0745284\ttotal: 4.85s\tremaining: 1.38s\n",
      "778:\tlearn: 0.0743738\ttotal: 4.86s\tremaining: 1.38s\n",
      "779:\tlearn: 0.0742943\ttotal: 4.86s\tremaining: 1.37s\n",
      "780:\tlearn: 0.0741191\ttotal: 4.86s\tremaining: 1.36s\n",
      "781:\tlearn: 0.0739966\ttotal: 4.86s\tremaining: 1.36s\n"
     ]
    },
    {
     "name": "stdout",
     "output_type": "stream",
     "text": [
      "782:\tlearn: 0.0738851\ttotal: 4.87s\tremaining: 1.35s\n",
      "783:\tlearn: 0.0737648\ttotal: 4.87s\tremaining: 1.34s\n",
      "784:\tlearn: 0.0737143\ttotal: 4.87s\tremaining: 1.33s\n",
      "785:\tlearn: 0.0736620\ttotal: 4.88s\tremaining: 1.33s\n",
      "786:\tlearn: 0.0735493\ttotal: 4.88s\tremaining: 1.32s\n",
      "787:\tlearn: 0.0733570\ttotal: 4.88s\tremaining: 1.31s\n",
      "788:\tlearn: 0.0733369\ttotal: 4.89s\tremaining: 1.31s\n",
      "789:\tlearn: 0.0732100\ttotal: 4.89s\tremaining: 1.3s\n",
      "790:\tlearn: 0.0730735\ttotal: 4.89s\tremaining: 1.29s\n",
      "791:\tlearn: 0.0729573\ttotal: 4.9s\tremaining: 1.28s\n",
      "792:\tlearn: 0.0729095\ttotal: 4.9s\tremaining: 1.28s\n"
     ]
    },
    {
     "name": "stdout",
     "output_type": "stream",
     "text": [
      "793:\tlearn: 0.0727903\ttotal: 4.91s\tremaining: 1.27s\n",
      "794:\tlearn: 0.0726344\ttotal: 4.91s\tremaining: 1.26s\n",
      "795:\tlearn: 0.0725246\ttotal: 4.91s\tremaining: 1.26s\n",
      "796:\tlearn: 0.0724709\ttotal: 4.92s\tremaining: 1.25s\n",
      "797:\tlearn: 0.0723916\ttotal: 4.92s\tremaining: 1.25s\n",
      "798:\tlearn: 0.0723121\ttotal: 4.92s\tremaining: 1.24s\n",
      "799:\tlearn: 0.0721807\ttotal: 4.93s\tremaining: 1.23s\n",
      "800:\tlearn: 0.0721606\ttotal: 4.93s\tremaining: 1.22s\n",
      "801:\tlearn: 0.0721086\ttotal: 4.93s\tremaining: 1.22s\n",
      "802:\tlearn: 0.0719832\ttotal: 4.94s\tremaining: 1.21s\n",
      "803:\tlearn: 0.0719136\ttotal: 4.94s\tremaining: 1.21s\n",
      "804:\tlearn: 0.0718744\ttotal: 4.95s\tremaining: 1.2s\n",
      "805:\tlearn: 0.0718664\ttotal: 4.95s\tremaining: 1.19s\n",
      "806:\tlearn: 0.0717155\ttotal: 4.95s\tremaining: 1.19s\n",
      "807:\tlearn: 0.0715834\ttotal: 4.96s\tremaining: 1.18s\n",
      "808:\tlearn: 0.0714076\ttotal: 4.96s\tremaining: 1.17s\n",
      "809:\tlearn: 0.0713086\ttotal: 4.97s\tremaining: 1.17s\n",
      "810:\tlearn: 0.0712315\ttotal: 4.97s\tremaining: 1.16s\n",
      "811:\tlearn: 0.0711654\ttotal: 4.98s\tremaining: 1.15s\n",
      "812:\tlearn: 0.0710080\ttotal: 4.98s\tremaining: 1.15s\n",
      "813:\tlearn: 0.0709624\ttotal: 4.98s\tremaining: 1.14s\n",
      "814:\tlearn: 0.0708629\ttotal: 4.99s\tremaining: 1.13s\n",
      "815:\tlearn: 0.0707009\ttotal: 4.99s\tremaining: 1.13s\n"
     ]
    },
    {
     "name": "stdout",
     "output_type": "stream",
     "text": [
      "816:\tlearn: 0.0705956\ttotal: 5.16s\tremaining: 1.16s\n",
      "817:\tlearn: 0.0704990\ttotal: 5.18s\tremaining: 1.15s\n",
      "818:\tlearn: 0.0703934\ttotal: 5.18s\tremaining: 1.15s\n",
      "819:\tlearn: 0.0702987\ttotal: 5.19s\tremaining: 1.14s\n",
      "820:\tlearn: 0.0702235\ttotal: 5.19s\tremaining: 1.13s\n",
      "821:\tlearn: 0.0700832\ttotal: 5.19s\tremaining: 1.12s\n",
      "822:\tlearn: 0.0700151\ttotal: 5.2s\tremaining: 1.12s\n",
      "823:\tlearn: 0.0699108\ttotal: 5.2s\tremaining: 1.11s\n",
      "824:\tlearn: 0.0698299\ttotal: 5.21s\tremaining: 1.1s\n",
      "825:\tlearn: 0.0697486\ttotal: 5.21s\tremaining: 1.1s\n",
      "826:\tlearn: 0.0696467\ttotal: 5.22s\tremaining: 1.09s\n",
      "827:\tlearn: 0.0695623\ttotal: 5.22s\tremaining: 1.08s\n",
      "828:\tlearn: 0.0695516\ttotal: 5.22s\tremaining: 1.08s\n",
      "829:\tlearn: 0.0694846\ttotal: 5.22s\tremaining: 1.07s\n",
      "830:\tlearn: 0.0694262\ttotal: 5.28s\tremaining: 1.07s\n",
      "831:\tlearn: 0.0692740\ttotal: 5.28s\tremaining: 1.06s\n",
      "832:\tlearn: 0.0690935\ttotal: 5.29s\tremaining: 1.06s\n",
      "833:\tlearn: 0.0690254\ttotal: 5.29s\tremaining: 1.05s\n"
     ]
    },
    {
     "name": "stdout",
     "output_type": "stream",
     "text": [
      "834:\tlearn: 0.0689566\ttotal: 5.29s\tremaining: 1.04s\n",
      "835:\tlearn: 0.0688006\ttotal: 5.29s\tremaining: 1.04s\n",
      "836:\tlearn: 0.0686708\ttotal: 5.3s\tremaining: 1.03s\n",
      "837:\tlearn: 0.0685434\ttotal: 5.3s\tremaining: 1.02s\n",
      "838:\tlearn: 0.0684894\ttotal: 5.3s\tremaining: 1.02s\n",
      "839:\tlearn: 0.0683755\ttotal: 5.31s\tremaining: 1.01s\n",
      "840:\tlearn: 0.0682335\ttotal: 5.31s\tremaining: 1s\n",
      "841:\tlearn: 0.0681429\ttotal: 5.31s\tremaining: 997ms\n",
      "842:\tlearn: 0.0680826\ttotal: 5.31s\tremaining: 990ms\n",
      "843:\tlearn: 0.0679929\ttotal: 5.32s\tremaining: 983ms\n",
      "844:\tlearn: 0.0679761\ttotal: 5.32s\tremaining: 976ms\n",
      "845:\tlearn: 0.0679074\ttotal: 5.32s\tremaining: 969ms\n",
      "846:\tlearn: 0.0677360\ttotal: 5.33s\tremaining: 962ms\n",
      "847:\tlearn: 0.0675914\ttotal: 5.33s\tremaining: 955ms\n",
      "848:\tlearn: 0.0675002\ttotal: 5.33s\tremaining: 948ms\n",
      "849:\tlearn: 0.0673910\ttotal: 5.33s\tremaining: 941ms\n",
      "850:\tlearn: 0.0673052\ttotal: 5.33s\tremaining: 934ms\n",
      "851:\tlearn: 0.0671828\ttotal: 5.34s\tremaining: 928ms\n",
      "852:\tlearn: 0.0670981\ttotal: 5.34s\tremaining: 921ms\n",
      "853:\tlearn: 0.0669477\ttotal: 5.34s\tremaining: 914ms\n",
      "854:\tlearn: 0.0668374\ttotal: 5.35s\tremaining: 907ms\n",
      "855:\tlearn: 0.0667486\ttotal: 5.35s\tremaining: 900ms\n",
      "856:\tlearn: 0.0666240\ttotal: 5.35s\tremaining: 893ms\n",
      "857:\tlearn: 0.0665270\ttotal: 5.35s\tremaining: 886ms\n",
      "858:\tlearn: 0.0663787\ttotal: 5.36s\tremaining: 879ms\n",
      "859:\tlearn: 0.0663012\ttotal: 5.36s\tremaining: 872ms\n",
      "860:\tlearn: 0.0662388\ttotal: 5.36s\tremaining: 866ms\n",
      "861:\tlearn: 0.0661438\ttotal: 5.36s\tremaining: 859ms\n",
      "862:\tlearn: 0.0660480\ttotal: 5.37s\tremaining: 852ms\n",
      "863:\tlearn: 0.0658499\ttotal: 5.37s\tremaining: 845ms\n",
      "864:\tlearn: 0.0657436\ttotal: 5.37s\tremaining: 838ms\n",
      "865:\tlearn: 0.0656426\ttotal: 5.37s\tremaining: 832ms\n",
      "866:\tlearn: 0.0655307\ttotal: 5.38s\tremaining: 825ms\n",
      "867:\tlearn: 0.0654338\ttotal: 5.38s\tremaining: 818ms\n",
      "868:\tlearn: 0.0653308\ttotal: 5.38s\tremaining: 811ms\n",
      "869:\tlearn: 0.0652457\ttotal: 5.38s\tremaining: 805ms\n",
      "870:\tlearn: 0.0652075\ttotal: 5.39s\tremaining: 798ms\n",
      "871:\tlearn: 0.0651459\ttotal: 5.39s\tremaining: 791ms\n",
      "872:\tlearn: 0.0650472\ttotal: 5.39s\tremaining: 784ms\n",
      "873:\tlearn: 0.0649210\ttotal: 5.39s\tremaining: 778ms\n",
      "874:\tlearn: 0.0648656\ttotal: 5.4s\tremaining: 771ms\n",
      "875:\tlearn: 0.0648043\ttotal: 5.4s\tremaining: 764ms\n",
      "876:\tlearn: 0.0647876\ttotal: 5.4s\tremaining: 758ms\n",
      "877:\tlearn: 0.0647562\ttotal: 5.41s\tremaining: 751ms\n",
      "878:\tlearn: 0.0646379\ttotal: 5.41s\tremaining: 744ms\n",
      "879:\tlearn: 0.0645338\ttotal: 5.41s\tremaining: 738ms\n",
      "880:\tlearn: 0.0643601\ttotal: 5.41s\tremaining: 731ms\n",
      "881:\tlearn: 0.0642294\ttotal: 5.42s\tremaining: 725ms\n",
      "882:\tlearn: 0.0641297\ttotal: 5.42s\tremaining: 718ms\n",
      "883:\tlearn: 0.0640506\ttotal: 5.43s\tremaining: 713ms\n",
      "884:\tlearn: 0.0639357\ttotal: 5.43s\tremaining: 706ms\n",
      "885:\tlearn: 0.0638207\ttotal: 5.44s\tremaining: 700ms\n",
      "886:\tlearn: 0.0637665\ttotal: 5.44s\tremaining: 693ms\n",
      "887:\tlearn: 0.0637361\ttotal: 5.44s\tremaining: 686ms\n",
      "888:\tlearn: 0.0636788\ttotal: 5.44s\tremaining: 680ms\n",
      "889:\tlearn: 0.0636235\ttotal: 5.45s\tremaining: 673ms\n",
      "890:\tlearn: 0.0635335\ttotal: 5.45s\tremaining: 667ms\n",
      "891:\tlearn: 0.0634476\ttotal: 5.45s\tremaining: 660ms\n",
      "892:\tlearn: 0.0633455\ttotal: 5.45s\tremaining: 654ms\n",
      "893:\tlearn: 0.0632518\ttotal: 5.46s\tremaining: 647ms\n",
      "894:\tlearn: 0.0632364\ttotal: 5.46s\tremaining: 640ms\n"
     ]
    },
    {
     "name": "stdout",
     "output_type": "stream",
     "text": [
      "895:\tlearn: 0.0631164\ttotal: 5.48s\tremaining: 637ms\n",
      "896:\tlearn: 0.0629731\ttotal: 5.49s\tremaining: 631ms\n",
      "897:\tlearn: 0.0628551\ttotal: 5.5s\tremaining: 624ms\n",
      "898:\tlearn: 0.0627230\ttotal: 5.5s\tremaining: 618ms\n",
      "899:\tlearn: 0.0626545\ttotal: 5.5s\tremaining: 611ms\n",
      "900:\tlearn: 0.0625894\ttotal: 5.5s\tremaining: 605ms\n",
      "901:\tlearn: 0.0625184\ttotal: 5.51s\tremaining: 598ms\n",
      "902:\tlearn: 0.0624437\ttotal: 5.51s\tremaining: 592ms\n",
      "903:\tlearn: 0.0624022\ttotal: 5.51s\tremaining: 585ms\n",
      "904:\tlearn: 0.0623291\ttotal: 5.51s\tremaining: 579ms\n",
      "905:\tlearn: 0.0622027\ttotal: 5.52s\tremaining: 572ms\n",
      "906:\tlearn: 0.0620649\ttotal: 5.52s\tremaining: 566ms\n",
      "907:\tlearn: 0.0619690\ttotal: 5.52s\tremaining: 559ms\n",
      "908:\tlearn: 0.0619263\ttotal: 5.52s\tremaining: 553ms\n",
      "909:\tlearn: 0.0618702\ttotal: 5.53s\tremaining: 546ms\n",
      "910:\tlearn: 0.0618098\ttotal: 5.53s\tremaining: 540ms\n",
      "911:\tlearn: 0.0617046\ttotal: 5.53s\tremaining: 534ms\n",
      "912:\tlearn: 0.0615933\ttotal: 5.53s\tremaining: 527ms\n",
      "913:\tlearn: 0.0615096\ttotal: 5.54s\tremaining: 521ms\n",
      "914:\tlearn: 0.0614892\ttotal: 5.54s\tremaining: 515ms\n",
      "915:\tlearn: 0.0614160\ttotal: 5.54s\tremaining: 509ms\n",
      "916:\tlearn: 0.0613317\ttotal: 5.55s\tremaining: 502ms\n",
      "917:\tlearn: 0.0612745\ttotal: 5.55s\tremaining: 496ms\n",
      "918:\tlearn: 0.0612321\ttotal: 5.55s\tremaining: 489ms\n",
      "919:\tlearn: 0.0611506\ttotal: 5.55s\tremaining: 483ms\n",
      "920:\tlearn: 0.0610960\ttotal: 5.56s\tremaining: 477ms\n",
      "921:\tlearn: 0.0609596\ttotal: 5.56s\tremaining: 470ms\n",
      "922:\tlearn: 0.0608965\ttotal: 5.56s\tremaining: 464ms\n",
      "923:\tlearn: 0.0607898\ttotal: 5.57s\tremaining: 458ms\n",
      "924:\tlearn: 0.0607549\ttotal: 5.57s\tremaining: 452ms\n",
      "925:\tlearn: 0.0606588\ttotal: 5.57s\tremaining: 445ms\n",
      "926:\tlearn: 0.0606363\ttotal: 5.57s\tremaining: 439ms\n"
     ]
    },
    {
     "name": "stdout",
     "output_type": "stream",
     "text": [
      "927:\tlearn: 0.0605832\ttotal: 5.63s\tremaining: 437ms\n",
      "928:\tlearn: 0.0604643\ttotal: 5.63s\tremaining: 431ms\n",
      "929:\tlearn: 0.0604149\ttotal: 5.66s\tremaining: 426ms\n",
      "930:\tlearn: 0.0602932\ttotal: 5.68s\tremaining: 421ms\n"
     ]
    },
    {
     "name": "stdout",
     "output_type": "stream",
     "text": [
      "931:\tlearn: 0.0601916\ttotal: 5.68s\tremaining: 415ms\n",
      "932:\tlearn: 0.0601520\ttotal: 5.69s\tremaining: 408ms\n",
      "933:\tlearn: 0.0600588\ttotal: 5.69s\tremaining: 402ms\n",
      "934:\tlearn: 0.0600035\ttotal: 5.69s\tremaining: 396ms\n",
      "935:\tlearn: 0.0598581\ttotal: 5.7s\tremaining: 390ms\n",
      "936:\tlearn: 0.0597948\ttotal: 5.7s\tremaining: 383ms\n",
      "937:\tlearn: 0.0596951\ttotal: 5.7s\tremaining: 377ms\n",
      "938:\tlearn: 0.0596343\ttotal: 5.71s\tremaining: 371ms\n",
      "939:\tlearn: 0.0595391\ttotal: 5.71s\tremaining: 364ms\n",
      "940:\tlearn: 0.0594846\ttotal: 5.71s\tremaining: 358ms\n",
      "941:\tlearn: 0.0593953\ttotal: 5.71s\tremaining: 352ms\n",
      "942:\tlearn: 0.0593142\ttotal: 5.72s\tremaining: 346ms\n",
      "943:\tlearn: 0.0592583\ttotal: 5.72s\tremaining: 339ms\n",
      "944:\tlearn: 0.0591021\ttotal: 5.72s\tremaining: 333ms\n",
      "945:\tlearn: 0.0590277\ttotal: 5.73s\tremaining: 327ms\n",
      "946:\tlearn: 0.0590074\ttotal: 5.73s\tremaining: 321ms\n",
      "947:\tlearn: 0.0588980\ttotal: 5.74s\tremaining: 315ms\n",
      "948:\tlearn: 0.0588507\ttotal: 5.74s\tremaining: 309ms\n",
      "949:\tlearn: 0.0588032\ttotal: 5.75s\tremaining: 302ms\n",
      "950:\tlearn: 0.0587225\ttotal: 5.75s\tremaining: 296ms\n",
      "951:\tlearn: 0.0586232\ttotal: 5.75s\tremaining: 290ms\n",
      "952:\tlearn: 0.0585740\ttotal: 5.75s\tremaining: 284ms\n",
      "953:\tlearn: 0.0585242\ttotal: 5.76s\tremaining: 278ms\n",
      "954:\tlearn: 0.0584130\ttotal: 5.76s\tremaining: 271ms\n",
      "955:\tlearn: 0.0583623\ttotal: 5.76s\tremaining: 265ms\n",
      "956:\tlearn: 0.0582608\ttotal: 5.77s\tremaining: 259ms\n",
      "957:\tlearn: 0.0582240\ttotal: 5.77s\tremaining: 253ms\n",
      "958:\tlearn: 0.0581498\ttotal: 5.78s\tremaining: 247ms\n",
      "959:\tlearn: 0.0580455\ttotal: 5.78s\tremaining: 241ms\n",
      "960:\tlearn: 0.0579825\ttotal: 5.78s\tremaining: 235ms\n",
      "961:\tlearn: 0.0579344\ttotal: 5.79s\tremaining: 229ms\n",
      "962:\tlearn: 0.0578363\ttotal: 5.79s\tremaining: 222ms\n",
      "963:\tlearn: 0.0577862\ttotal: 5.79s\tremaining: 216ms\n"
     ]
    },
    {
     "name": "stdout",
     "output_type": "stream",
     "text": [
      "964:\tlearn: 0.0576930\ttotal: 5.79s\tremaining: 210ms\n",
      "965:\tlearn: 0.0576382\ttotal: 5.8s\tremaining: 204ms\n",
      "966:\tlearn: 0.0576212\ttotal: 5.81s\tremaining: 198ms\n",
      "967:\tlearn: 0.0575499\ttotal: 5.81s\tremaining: 192ms\n",
      "968:\tlearn: 0.0574540\ttotal: 5.82s\tremaining: 186ms\n",
      "969:\tlearn: 0.0573724\ttotal: 5.82s\tremaining: 180ms\n",
      "970:\tlearn: 0.0573093\ttotal: 5.83s\tremaining: 174ms\n",
      "971:\tlearn: 0.0571634\ttotal: 5.85s\tremaining: 169ms\n",
      "972:\tlearn: 0.0570899\ttotal: 5.86s\tremaining: 163ms\n",
      "973:\tlearn: 0.0570125\ttotal: 5.86s\tremaining: 156ms\n",
      "974:\tlearn: 0.0569937\ttotal: 5.86s\tremaining: 150ms\n",
      "975:\tlearn: 0.0568959\ttotal: 5.87s\tremaining: 144ms\n",
      "976:\tlearn: 0.0568137\ttotal: 5.87s\tremaining: 138ms\n",
      "977:\tlearn: 0.0567586\ttotal: 5.88s\tremaining: 132ms\n"
     ]
    },
    {
     "name": "stdout",
     "output_type": "stream",
     "text": [
      "978:\tlearn: 0.0566920\ttotal: 5.89s\tremaining: 126ms\n",
      "979:\tlearn: 0.0566583\ttotal: 5.89s\tremaining: 120ms\n",
      "980:\tlearn: 0.0565310\ttotal: 5.89s\tremaining: 114ms\n",
      "981:\tlearn: 0.0564890\ttotal: 5.9s\tremaining: 108ms\n",
      "982:\tlearn: 0.0563727\ttotal: 5.93s\tremaining: 103ms\n",
      "983:\tlearn: 0.0563078\ttotal: 5.94s\tremaining: 96.6ms\n",
      "984:\tlearn: 0.0562045\ttotal: 5.95s\tremaining: 90.6ms\n",
      "985:\tlearn: 0.0561649\ttotal: 5.95s\tremaining: 84.5ms\n",
      "986:\tlearn: 0.0560761\ttotal: 5.96s\tremaining: 78.5ms\n",
      "987:\tlearn: 0.0560594\ttotal: 5.96s\tremaining: 72.4ms\n",
      "988:\tlearn: 0.0559917\ttotal: 5.96s\tremaining: 66.3ms\n",
      "989:\tlearn: 0.0559535\ttotal: 5.96s\tremaining: 60.2ms\n",
      "990:\tlearn: 0.0559329\ttotal: 5.97s\tremaining: 54.2ms\n",
      "991:\tlearn: 0.0558691\ttotal: 5.98s\tremaining: 48.2ms\n",
      "992:\tlearn: 0.0557458\ttotal: 5.98s\tremaining: 42.1ms\n",
      "993:\tlearn: 0.0556737\ttotal: 5.98s\tremaining: 36.1ms\n",
      "994:\tlearn: 0.0555665\ttotal: 5.98s\tremaining: 30.1ms\n",
      "995:\tlearn: 0.0555219\ttotal: 5.99s\tremaining: 24ms\n",
      "996:\tlearn: 0.0555051\ttotal: 5.99s\tremaining: 18ms\n",
      "997:\tlearn: 0.0554031\ttotal: 5.99s\tremaining: 12ms\n",
      "998:\tlearn: 0.0553341\ttotal: 5.99s\tremaining: 6ms\n",
      "999:\tlearn: 0.0552887\ttotal: 5.99s\tremaining: 0us\n"
     ]
    },
    {
     "name": "stdout",
     "output_type": "stream",
     "text": [
      "Mean Absolute error 0.23786269108290184\n"
     ]
    },
    {
     "data": {
      "application/scrapbook.scrap.json+json": {
       "data": 0.23786269108290184,
       "encoder": "json",
       "name": "Catboost MAE",
       "version": 1
      }
     },
     "metadata": {
      "scrapbook": {
       "data": true,
       "display": false,
       "name": "Catboost MAE"
      }
     },
     "output_type": "display_data"
    },
    {
     "name": "stdout",
     "output_type": "stream",
     "text": [
      "Catboost MAE 0.23786269108290184\n"
     ]
    }
   ],
   "source": [
    "mae_cb = baselineModels.catboost(X_train,y_train,X_test,y_test)\n",
    "#Store MSE Value\n",
    "sb.glue(\"Catboost MAE\",mae_cb)\n",
    "print(\"Catboost MAE\",mae_cb)"
   ]
  },
  {
   "cell_type": "markdown",
   "id": "ae4fbf2c",
   "metadata": {
    "papermill": {
     "duration": 0.012354,
     "end_time": "2022-07-21T10:17:45.443842",
     "exception": false,
     "start_time": "2022-07-21T10:17:45.431488",
     "status": "completed"
    },
    "tags": []
   },
   "source": [
    "# TabNet Regressor"
   ]
  },
  {
   "cell_type": "code",
   "execution_count": 7,
   "id": "6c70535e",
   "metadata": {
    "execution": {
     "iopub.execute_input": "2022-07-21T10:17:45.562941Z",
     "iopub.status.busy": "2022-07-21T10:17:45.562461Z",
     "iopub.status.idle": "2022-07-21T10:17:45.573849Z",
     "shell.execute_reply": "2022-07-21T10:17:45.570364Z"
    },
    "papermill": {
     "duration": 0.128074,
     "end_time": "2022-07-21T10:17:45.587596",
     "exception": false,
     "start_time": "2022-07-21T10:17:45.459522",
     "status": "completed"
    },
    "tags": []
   },
   "outputs": [],
   "source": [
    "n_epochs = 1000\n",
    "batch_size = 32"
   ]
  },
  {
   "cell_type": "code",
   "execution_count": 8,
   "id": "4fc4f03f",
   "metadata": {
    "execution": {
     "iopub.execute_input": "2022-07-21T10:17:45.645995Z",
     "iopub.status.busy": "2022-07-21T10:17:45.645372Z",
     "iopub.status.idle": "2022-07-21T10:20:05.592399Z",
     "shell.execute_reply": "2022-07-21T10:20:05.584197Z"
    },
    "papermill": {
     "duration": 139.991941,
     "end_time": "2022-07-21T10:20:05.595185",
     "exception": false,
     "start_time": "2022-07-21T10:17:45.603244",
     "status": "completed"
    },
    "tags": []
   },
   "outputs": [
    {
     "name": "stdout",
     "output_type": "stream",
     "text": [
      "Device used : cpu\n"
     ]
    },
    {
     "name": "stdout",
     "output_type": "stream",
     "text": [
      "epoch 0  | loss: 2.00931 | train_mse: 1.26711 | train_mae: 0.81299 |  0:00:04s\n"
     ]
    },
    {
     "name": "stdout",
     "output_type": "stream",
     "text": [
      "epoch 1  | loss: 0.70939 | train_mse: 0.76718 | train_mae: 0.60621 |  0:00:05s\n"
     ]
    },
    {
     "name": "stdout",
     "output_type": "stream",
     "text": [
      "epoch 2  | loss: 0.52956 | train_mse: 0.54817 | train_mae: 0.54552 |  0:00:06s\n"
     ]
    },
    {
     "name": "stdout",
     "output_type": "stream",
     "text": [
      "epoch 3  | loss: 0.38728 | train_mse: 0.42531 | train_mae: 0.47091 |  0:00:07s\n"
     ]
    },
    {
     "name": "stdout",
     "output_type": "stream",
     "text": [
      "epoch 4  | loss: 0.35394 | train_mse: 0.37846 | train_mae: 0.46912 |  0:00:07s\n"
     ]
    },
    {
     "name": "stdout",
     "output_type": "stream",
     "text": [
      "epoch 5  | loss: 0.34067 | train_mse: 0.25006 | train_mae: 0.36788 |  0:00:07s\n"
     ]
    },
    {
     "name": "stdout",
     "output_type": "stream",
     "text": [
      "epoch 6  | loss: 0.2985  | train_mse: 0.34959 | train_mae: 0.44748 |  0:00:08s\n"
     ]
    },
    {
     "name": "stdout",
     "output_type": "stream",
     "text": [
      "epoch 7  | loss: 0.32368 | train_mse: 0.37325 | train_mae: 0.45774 |  0:00:08s\n"
     ]
    },
    {
     "name": "stdout",
     "output_type": "stream",
     "text": [
      "epoch 8  | loss: 0.33187 | train_mse: 0.32447 | train_mae: 0.41859 |  0:00:09s\n"
     ]
    },
    {
     "name": "stdout",
     "output_type": "stream",
     "text": [
      "epoch 9  | loss: 0.29997 | train_mse: 0.23517 | train_mae: 0.33761 |  0:00:10s\n"
     ]
    },
    {
     "name": "stdout",
     "output_type": "stream",
     "text": [
      "epoch 10 | loss: 0.23877 | train_mse: 0.30157 | train_mae: 0.35111 |  0:00:11s\n"
     ]
    },
    {
     "name": "stdout",
     "output_type": "stream",
     "text": [
      "epoch 11 | loss: 0.23144 | train_mse: 0.18649 | train_mae: 0.28833 |  0:00:11s\n"
     ]
    },
    {
     "name": "stdout",
     "output_type": "stream",
     "text": [
      "epoch 12 | loss: 0.28579 | train_mse: 0.20516 | train_mae: 0.31688 |  0:00:12s\n"
     ]
    },
    {
     "name": "stdout",
     "output_type": "stream",
     "text": [
      "epoch 13 | loss: 0.23721 | train_mse: 0.16378 | train_mae: 0.29406 |  0:00:13s\n"
     ]
    },
    {
     "name": "stdout",
     "output_type": "stream",
     "text": [
      "epoch 14 | loss: 0.22275 | train_mse: 0.19865 | train_mae: 0.31551 |  0:00:14s\n"
     ]
    },
    {
     "name": "stdout",
     "output_type": "stream",
     "text": [
      "epoch 15 | loss: 0.27914 | train_mse: 0.19108 | train_mae: 0.30744 |  0:00:14s\n"
     ]
    },
    {
     "name": "stdout",
     "output_type": "stream",
     "text": [
      "epoch 16 | loss: 0.2211  | train_mse: 0.20978 | train_mae: 0.32631 |  0:00:16s\n"
     ]
    },
    {
     "name": "stdout",
     "output_type": "stream",
     "text": [
      "epoch 17 | loss: 0.21719 | train_mse: 0.16783 | train_mae: 0.28784 |  0:00:17s\n"
     ]
    },
    {
     "name": "stdout",
     "output_type": "stream",
     "text": [
      "epoch 18 | loss: 0.19538 | train_mse: 0.14827 | train_mae: 0.26763 |  0:00:17s\n"
     ]
    },
    {
     "name": "stdout",
     "output_type": "stream",
     "text": [
      "epoch 19 | loss: 0.2118  | train_mse: 0.12579 | train_mae: 0.25582 |  0:00:18s\n"
     ]
    },
    {
     "name": "stdout",
     "output_type": "stream",
     "text": [
      "epoch 20 | loss: 0.15848 | train_mse: 0.11776 | train_mae: 0.24757 |  0:00:18s\n"
     ]
    },
    {
     "name": "stdout",
     "output_type": "stream",
     "text": [
      "epoch 21 | loss: 0.22836 | train_mse: 0.15036 | train_mae: 0.267   |  0:00:19s\n"
     ]
    },
    {
     "name": "stdout",
     "output_type": "stream",
     "text": [
      "epoch 22 | loss: 0.21059 | train_mse: 0.16963 | train_mae: 0.28584 |  0:00:19s\n"
     ]
    },
    {
     "name": "stdout",
     "output_type": "stream",
     "text": [
      "epoch 23 | loss: 0.19589 | train_mse: 0.15653 | train_mae: 0.277   |  0:00:19s\n"
     ]
    },
    {
     "name": "stdout",
     "output_type": "stream",
     "text": [
      "epoch 24 | loss: 0.17335 | train_mse: 0.13935 | train_mae: 0.25308 |  0:00:20s\n"
     ]
    },
    {
     "name": "stdout",
     "output_type": "stream",
     "text": [
      "epoch 25 | loss: 0.18985 | train_mse: 0.12757 | train_mae: 0.25164 |  0:00:20s\n"
     ]
    },
    {
     "name": "stdout",
     "output_type": "stream",
     "text": [
      "epoch 26 | loss: 0.2052  | train_mse: 0.1355  | train_mae: 0.25702 |  0:00:20s\n"
     ]
    },
    {
     "name": "stdout",
     "output_type": "stream",
     "text": [
      "epoch 27 | loss: 0.24365 | train_mse: 0.13519 | train_mae: 0.25205 |  0:00:20s\n"
     ]
    },
    {
     "name": "stdout",
     "output_type": "stream",
     "text": [
      "epoch 28 | loss: 0.23082 | train_mse: 0.17798 | train_mae: 0.29384 |  0:00:21s\n"
     ]
    },
    {
     "name": "stdout",
     "output_type": "stream",
     "text": [
      "epoch 29 | loss: 0.2311  | train_mse: 0.1541  | train_mae: 0.27533 |  0:00:21s\n"
     ]
    },
    {
     "name": "stdout",
     "output_type": "stream",
     "text": [
      "epoch 30 | loss: 0.20471 | train_mse: 0.17405 | train_mae: 0.29766 |  0:00:22s\n"
     ]
    },
    {
     "name": "stdout",
     "output_type": "stream",
     "text": [
      "epoch 31 | loss: 0.1914  | train_mse: 0.14784 | train_mae: 0.27279 |  0:00:22s\n"
     ]
    },
    {
     "name": "stdout",
     "output_type": "stream",
     "text": [
      "epoch 32 | loss: 0.2323  | train_mse: 0.15033 | train_mae: 0.28409 |  0:00:22s\n"
     ]
    },
    {
     "name": "stdout",
     "output_type": "stream",
     "text": [
      "epoch 33 | loss: 0.20584 | train_mse: 0.19289 | train_mae: 0.28844 |  0:00:23s\n"
     ]
    },
    {
     "name": "stdout",
     "output_type": "stream",
     "text": [
      "epoch 34 | loss: 0.17646 | train_mse: 0.14059 | train_mae: 0.25644 |  0:00:23s\n"
     ]
    },
    {
     "name": "stdout",
     "output_type": "stream",
     "text": [
      "epoch 35 | loss: 0.20721 | train_mse: 0.1361  | train_mae: 0.25694 |  0:00:23s\n"
     ]
    },
    {
     "name": "stdout",
     "output_type": "stream",
     "text": [
      "epoch 36 | loss: 0.21964 | train_mse: 0.11423 | train_mae: 0.2336  |  0:00:23s\n"
     ]
    },
    {
     "name": "stdout",
     "output_type": "stream",
     "text": [
      "epoch 37 | loss: 0.17111 | train_mse: 0.1116  | train_mae: 0.23838 |  0:00:24s\n"
     ]
    },
    {
     "name": "stdout",
     "output_type": "stream",
     "text": [
      "epoch 38 | loss: 0.16654 | train_mse: 0.13013 | train_mae: 0.24558 |  0:00:24s\n"
     ]
    },
    {
     "name": "stdout",
     "output_type": "stream",
     "text": [
      "epoch 39 | loss: 0.1883  | train_mse: 0.12694 | train_mae: 0.24549 |  0:00:25s\n"
     ]
    },
    {
     "name": "stdout",
     "output_type": "stream",
     "text": [
      "epoch 40 | loss: 0.18538 | train_mse: 0.12824 | train_mae: 0.24915 |  0:00:25s\n"
     ]
    },
    {
     "name": "stdout",
     "output_type": "stream",
     "text": [
      "epoch 41 | loss: 0.2163  | train_mse: 0.14525 | train_mae: 0.25412 |  0:00:26s\n"
     ]
    },
    {
     "name": "stdout",
     "output_type": "stream",
     "text": [
      "epoch 42 | loss: 0.16691 | train_mse: 0.13078 | train_mae: 0.24734 |  0:00:26s\n"
     ]
    },
    {
     "name": "stdout",
     "output_type": "stream",
     "text": [
      "epoch 43 | loss: 0.20534 | train_mse: 0.12883 | train_mae: 0.23819 |  0:00:27s\n"
     ]
    },
    {
     "name": "stdout",
     "output_type": "stream",
     "text": [
      "epoch 44 | loss: 0.16433 | train_mse: 0.13875 | train_mae: 0.2508  |  0:00:27s\n"
     ]
    },
    {
     "name": "stdout",
     "output_type": "stream",
     "text": [
      "epoch 45 | loss: 0.17053 | train_mse: 0.17088 | train_mae: 0.26318 |  0:00:28s\n"
     ]
    },
    {
     "name": "stdout",
     "output_type": "stream",
     "text": [
      "epoch 46 | loss: 0.17578 | train_mse: 0.15729 | train_mae: 0.24779 |  0:00:28s\n"
     ]
    },
    {
     "name": "stdout",
     "output_type": "stream",
     "text": [
      "epoch 47 | loss: 0.12869 | train_mse: 0.12124 | train_mae: 0.23656 |  0:00:28s\n"
     ]
    },
    {
     "name": "stdout",
     "output_type": "stream",
     "text": [
      "epoch 48 | loss: 0.16633 | train_mse: 0.1286  | train_mae: 0.24124 |  0:00:29s\n"
     ]
    },
    {
     "name": "stdout",
     "output_type": "stream",
     "text": [
      "epoch 49 | loss: 0.19466 | train_mse: 0.11872 | train_mae: 0.22839 |  0:00:29s\n"
     ]
    },
    {
     "name": "stdout",
     "output_type": "stream",
     "text": [
      "epoch 50 | loss: 0.16403 | train_mse: 0.12183 | train_mae: 0.22658 |  0:00:30s\n"
     ]
    },
    {
     "name": "stdout",
     "output_type": "stream",
     "text": [
      "epoch 51 | loss: 0.12749 | train_mse: 0.11256 | train_mae: 0.23031 |  0:00:30s\n"
     ]
    },
    {
     "name": "stdout",
     "output_type": "stream",
     "text": [
      "epoch 52 | loss: 0.13178 | train_mse: 0.1213  | train_mae: 0.23099 |  0:00:30s\n"
     ]
    },
    {
     "name": "stdout",
     "output_type": "stream",
     "text": [
      "epoch 53 | loss: 0.16009 | train_mse: 0.12385 | train_mae: 0.24466 |  0:00:31s\n"
     ]
    },
    {
     "name": "stdout",
     "output_type": "stream",
     "text": [
      "epoch 54 | loss: 0.18963 | train_mse: 0.0982  | train_mae: 0.22307 |  0:00:31s\n"
     ]
    },
    {
     "name": "stdout",
     "output_type": "stream",
     "text": [
      "epoch 55 | loss: 0.15126 | train_mse: 0.08666 | train_mae: 0.20883 |  0:00:31s\n"
     ]
    },
    {
     "name": "stdout",
     "output_type": "stream",
     "text": [
      "epoch 56 | loss: 0.14972 | train_mse: 0.11309 | train_mae: 0.2385  |  0:00:32s\n"
     ]
    },
    {
     "name": "stdout",
     "output_type": "stream",
     "text": [
      "epoch 57 | loss: 0.12315 | train_mse: 0.09206 | train_mae: 0.2198  |  0:00:32s\n"
     ]
    },
    {
     "name": "stdout",
     "output_type": "stream",
     "text": [
      "epoch 58 | loss: 0.15977 | train_mse: 0.11791 | train_mae: 0.24007 |  0:00:32s\n"
     ]
    },
    {
     "name": "stdout",
     "output_type": "stream",
     "text": [
      "epoch 59 | loss: 0.1683  | train_mse: 0.09484 | train_mae: 0.21865 |  0:00:33s\n"
     ]
    },
    {
     "name": "stdout",
     "output_type": "stream",
     "text": [
      "epoch 60 | loss: 0.15341 | train_mse: 0.13221 | train_mae: 0.24401 |  0:00:33s\n"
     ]
    },
    {
     "name": "stdout",
     "output_type": "stream",
     "text": [
      "epoch 61 | loss: 0.20537 | train_mse: 0.11802 | train_mae: 0.23632 |  0:00:33s\n"
     ]
    },
    {
     "name": "stdout",
     "output_type": "stream",
     "text": [
      "epoch 62 | loss: 0.1557  | train_mse: 0.147   | train_mae: 0.24957 |  0:00:34s\n"
     ]
    },
    {
     "name": "stdout",
     "output_type": "stream",
     "text": [
      "epoch 63 | loss: 0.13599 | train_mse: 0.12937 | train_mae: 0.23524 |  0:00:34s\n"
     ]
    },
    {
     "name": "stdout",
     "output_type": "stream",
     "text": [
      "epoch 64 | loss: 0.1467  | train_mse: 0.12043 | train_mae: 0.24398 |  0:00:34s\n"
     ]
    },
    {
     "name": "stdout",
     "output_type": "stream",
     "text": [
      "epoch 65 | loss: 0.15895 | train_mse: 0.10596 | train_mae: 0.2396  |  0:00:35s\n"
     ]
    },
    {
     "name": "stdout",
     "output_type": "stream",
     "text": [
      "epoch 66 | loss: 0.18836 | train_mse: 0.09831 | train_mae: 0.22529 |  0:00:35s\n"
     ]
    },
    {
     "name": "stdout",
     "output_type": "stream",
     "text": [
      "epoch 67 | loss: 0.14374 | train_mse: 0.08753 | train_mae: 0.22536 |  0:00:35s\n"
     ]
    },
    {
     "name": "stdout",
     "output_type": "stream",
     "text": [
      "epoch 68 | loss: 0.14286 | train_mse: 0.08734 | train_mae: 0.21527 |  0:00:36s\n"
     ]
    },
    {
     "name": "stdout",
     "output_type": "stream",
     "text": [
      "epoch 69 | loss: 0.14423 | train_mse: 0.09143 | train_mae: 0.21912 |  0:00:36s\n"
     ]
    },
    {
     "name": "stdout",
     "output_type": "stream",
     "text": [
      "epoch 70 | loss: 0.16558 | train_mse: 0.09679 | train_mae: 0.2239  |  0:00:36s\n"
     ]
    },
    {
     "name": "stdout",
     "output_type": "stream",
     "text": [
      "epoch 71 | loss: 0.173   | train_mse: 0.08304 | train_mae: 0.21023 |  0:00:37s\n"
     ]
    },
    {
     "name": "stdout",
     "output_type": "stream",
     "text": [
      "epoch 72 | loss: 0.13893 | train_mse: 0.07792 | train_mae: 0.20325 |  0:00:37s\n"
     ]
    },
    {
     "name": "stdout",
     "output_type": "stream",
     "text": [
      "epoch 73 | loss: 0.1378  | train_mse: 0.08686 | train_mae: 0.22019 |  0:00:37s\n"
     ]
    },
    {
     "name": "stdout",
     "output_type": "stream",
     "text": [
      "epoch 74 | loss: 0.15226 | train_mse: 0.11594 | train_mae: 0.243   |  0:00:37s\n"
     ]
    },
    {
     "name": "stdout",
     "output_type": "stream",
     "text": [
      "epoch 75 | loss: 0.15084 | train_mse: 0.11135 | train_mae: 0.23751 |  0:00:38s\n"
     ]
    },
    {
     "name": "stdout",
     "output_type": "stream",
     "text": [
      "epoch 76 | loss: 0.15525 | train_mse: 0.08164 | train_mae: 0.21161 |  0:00:38s\n"
     ]
    },
    {
     "name": "stdout",
     "output_type": "stream",
     "text": [
      "epoch 77 | loss: 0.13275 | train_mse: 0.09668 | train_mae: 0.2235  |  0:00:38s\n"
     ]
    },
    {
     "name": "stdout",
     "output_type": "stream",
     "text": [
      "epoch 78 | loss: 0.15533 | train_mse: 0.08803 | train_mae: 0.22087 |  0:00:39s\n"
     ]
    },
    {
     "name": "stdout",
     "output_type": "stream",
     "text": [
      "epoch 79 | loss: 0.22188 | train_mse: 0.09877 | train_mae: 0.23327 |  0:00:39s\n"
     ]
    },
    {
     "name": "stdout",
     "output_type": "stream",
     "text": [
      "epoch 80 | loss: 0.18295 | train_mse: 0.08345 | train_mae: 0.20353 |  0:00:39s\n"
     ]
    },
    {
     "name": "stdout",
     "output_type": "stream",
     "text": [
      "epoch 81 | loss: 0.1694  | train_mse: 0.10133 | train_mae: 0.22101 |  0:00:40s\n"
     ]
    },
    {
     "name": "stdout",
     "output_type": "stream",
     "text": [
      "epoch 82 | loss: 0.14553 | train_mse: 0.09646 | train_mae: 0.21617 |  0:00:40s\n"
     ]
    },
    {
     "name": "stdout",
     "output_type": "stream",
     "text": [
      "epoch 83 | loss: 0.14195 | train_mse: 0.09727 | train_mae: 0.21882 |  0:00:40s\n"
     ]
    },
    {
     "name": "stdout",
     "output_type": "stream",
     "text": [
      "epoch 84 | loss: 0.17621 | train_mse: 0.115   | train_mae: 0.23272 |  0:00:40s\n"
     ]
    },
    {
     "name": "stdout",
     "output_type": "stream",
     "text": [
      "epoch 85 | loss: 0.13874 | train_mse: 0.075   | train_mae: 0.19772 |  0:00:41s\n"
     ]
    },
    {
     "name": "stdout",
     "output_type": "stream",
     "text": [
      "epoch 86 | loss: 0.14704 | train_mse: 0.10116 | train_mae: 0.21929 |  0:00:41s\n"
     ]
    },
    {
     "name": "stdout",
     "output_type": "stream",
     "text": [
      "epoch 87 | loss: 0.13509 | train_mse: 0.10942 | train_mae: 0.21358 |  0:00:41s\n"
     ]
    },
    {
     "name": "stdout",
     "output_type": "stream",
     "text": [
      "epoch 88 | loss: 0.17555 | train_mse: 0.13189 | train_mae: 0.23529 |  0:00:42s\n"
     ]
    },
    {
     "name": "stdout",
     "output_type": "stream",
     "text": [
      "epoch 89 | loss: 0.15002 | train_mse: 0.12491 | train_mae: 0.25532 |  0:00:42s\n"
     ]
    },
    {
     "name": "stdout",
     "output_type": "stream",
     "text": [
      "epoch 90 | loss: 0.16956 | train_mse: 0.1053  | train_mae: 0.23157 |  0:00:43s\n"
     ]
    },
    {
     "name": "stdout",
     "output_type": "stream",
     "text": [
      "epoch 91 | loss: 0.15873 | train_mse: 0.08489 | train_mae: 0.21427 |  0:00:43s\n"
     ]
    },
    {
     "name": "stdout",
     "output_type": "stream",
     "text": [
      "epoch 92 | loss: 0.19208 | train_mse: 0.10158 | train_mae: 0.22464 |  0:00:44s\n"
     ]
    },
    {
     "name": "stdout",
     "output_type": "stream",
     "text": [
      "epoch 93 | loss: 0.17139 | train_mse: 0.10057 | train_mae: 0.22316 |  0:00:44s\n"
     ]
    },
    {
     "name": "stdout",
     "output_type": "stream",
     "text": [
      "epoch 94 | loss: 0.11636 | train_mse: 0.0935  | train_mae: 0.21276 |  0:00:45s\n"
     ]
    },
    {
     "name": "stdout",
     "output_type": "stream",
     "text": [
      "epoch 95 | loss: 0.13641 | train_mse: 0.08789 | train_mae: 0.20849 |  0:00:45s\n"
     ]
    },
    {
     "name": "stdout",
     "output_type": "stream",
     "text": [
      "epoch 96 | loss: 0.13584 | train_mse: 0.09513 | train_mae: 0.21533 |  0:00:46s\n"
     ]
    },
    {
     "name": "stdout",
     "output_type": "stream",
     "text": [
      "epoch 97 | loss: 0.14061 | train_mse: 0.10439 | train_mae: 0.22671 |  0:00:46s\n"
     ]
    },
    {
     "name": "stdout",
     "output_type": "stream",
     "text": [
      "epoch 98 | loss: 0.12921 | train_mse: 0.0853  | train_mae: 0.21116 |  0:00:46s\n"
     ]
    },
    {
     "name": "stdout",
     "output_type": "stream",
     "text": [
      "epoch 99 | loss: 0.14389 | train_mse: 0.08991 | train_mae: 0.21954 |  0:00:47s\n"
     ]
    },
    {
     "name": "stdout",
     "output_type": "stream",
     "text": [
      "epoch 100| loss: 0.13025 | train_mse: 0.07327 | train_mae: 0.1962  |  0:00:47s\n"
     ]
    },
    {
     "name": "stdout",
     "output_type": "stream",
     "text": [
      "epoch 101| loss: 0.13838 | train_mse: 0.09748 | train_mae: 0.22304 |  0:00:47s\n"
     ]
    },
    {
     "name": "stdout",
     "output_type": "stream",
     "text": [
      "epoch 102| loss: 0.15164 | train_mse: 0.08412 | train_mae: 0.2028  |  0:00:48s\n"
     ]
    },
    {
     "name": "stdout",
     "output_type": "stream",
     "text": [
      "epoch 103| loss: 0.13481 | train_mse: 0.11089 | train_mae: 0.21951 |  0:00:48s\n"
     ]
    },
    {
     "name": "stdout",
     "output_type": "stream",
     "text": [
      "epoch 104| loss: 0.13498 | train_mse: 0.09155 | train_mae: 0.21486 |  0:00:49s\n"
     ]
    },
    {
     "name": "stdout",
     "output_type": "stream",
     "text": [
      "epoch 105| loss: 0.11533 | train_mse: 0.15021 | train_mae: 0.22632 |  0:00:49s\n"
     ]
    },
    {
     "name": "stdout",
     "output_type": "stream",
     "text": [
      "epoch 106| loss: 0.12796 | train_mse: 0.10441 | train_mae: 0.22411 |  0:00:50s\n"
     ]
    },
    {
     "name": "stdout",
     "output_type": "stream",
     "text": [
      "epoch 107| loss: 0.12778 | train_mse: 0.079   | train_mae: 0.19958 |  0:00:50s\n"
     ]
    },
    {
     "name": "stdout",
     "output_type": "stream",
     "text": [
      "epoch 108| loss: 0.12337 | train_mse: 0.14578 | train_mae: 0.22803 |  0:00:50s\n"
     ]
    },
    {
     "name": "stdout",
     "output_type": "stream",
     "text": [
      "epoch 109| loss: 0.13664 | train_mse: 0.08695 | train_mae: 0.19575 |  0:00:51s\n"
     ]
    },
    {
     "name": "stdout",
     "output_type": "stream",
     "text": [
      "epoch 110| loss: 0.14202 | train_mse: 0.09542 | train_mae: 0.21787 |  0:00:51s\n"
     ]
    },
    {
     "name": "stdout",
     "output_type": "stream",
     "text": [
      "epoch 111| loss: 0.09471 | train_mse: 0.08649 | train_mae: 0.199   |  0:00:52s\n"
     ]
    },
    {
     "name": "stdout",
     "output_type": "stream",
     "text": [
      "epoch 112| loss: 0.10852 | train_mse: 0.07621 | train_mae: 0.20293 |  0:00:53s\n"
     ]
    },
    {
     "name": "stdout",
     "output_type": "stream",
     "text": [
      "epoch 113| loss: 0.19144 | train_mse: 0.16095 | train_mae: 0.24391 |  0:00:53s\n"
     ]
    },
    {
     "name": "stdout",
     "output_type": "stream",
     "text": [
      "epoch 114| loss: 0.14614 | train_mse: 0.10508 | train_mae: 0.20425 |  0:00:54s\n"
     ]
    },
    {
     "name": "stdout",
     "output_type": "stream",
     "text": [
      "epoch 115| loss: 0.14542 | train_mse: 0.08801 | train_mae: 0.20486 |  0:00:54s\n"
     ]
    },
    {
     "name": "stdout",
     "output_type": "stream",
     "text": [
      "epoch 116| loss: 0.15103 | train_mse: 0.0996  | train_mae: 0.20745 |  0:00:54s\n"
     ]
    },
    {
     "name": "stdout",
     "output_type": "stream",
     "text": [
      "epoch 117| loss: 0.10872 | train_mse: 0.11806 | train_mae: 0.21457 |  0:00:54s\n"
     ]
    },
    {
     "name": "stdout",
     "output_type": "stream",
     "text": [
      "epoch 118| loss: 0.09437 | train_mse: 0.07156 | train_mae: 0.19097 |  0:00:55s\n"
     ]
    },
    {
     "name": "stdout",
     "output_type": "stream",
     "text": [
      "epoch 119| loss: 0.10076 | train_mse: 0.07884 | train_mae: 0.20016 |  0:00:55s\n"
     ]
    },
    {
     "name": "stdout",
     "output_type": "stream",
     "text": [
      "epoch 120| loss: 0.1314  | train_mse: 0.0846  | train_mae: 0.20547 |  0:00:55s\n"
     ]
    },
    {
     "name": "stdout",
     "output_type": "stream",
     "text": [
      "epoch 121| loss: 0.11284 | train_mse: 0.07801 | train_mae: 0.19745 |  0:00:56s\n"
     ]
    },
    {
     "name": "stdout",
     "output_type": "stream",
     "text": [
      "epoch 122| loss: 0.13628 | train_mse: 0.08206 | train_mae: 0.21345 |  0:00:56s\n"
     ]
    },
    {
     "name": "stdout",
     "output_type": "stream",
     "text": [
      "epoch 123| loss: 0.12039 | train_mse: 0.07118 | train_mae: 0.19678 |  0:00:56s\n"
     ]
    },
    {
     "name": "stdout",
     "output_type": "stream",
     "text": [
      "epoch 124| loss: 0.12303 | train_mse: 0.07464 | train_mae: 0.19888 |  0:00:56s\n"
     ]
    },
    {
     "name": "stdout",
     "output_type": "stream",
     "text": [
      "epoch 125| loss: 0.14653 | train_mse: 0.0844  | train_mae: 0.21169 |  0:00:57s\n"
     ]
    },
    {
     "name": "stdout",
     "output_type": "stream",
     "text": [
      "epoch 126| loss: 0.10554 | train_mse: 0.07251 | train_mae: 0.20094 |  0:00:57s\n"
     ]
    },
    {
     "name": "stdout",
     "output_type": "stream",
     "text": [
      "epoch 127| loss: 0.15267 | train_mse: 0.07771 | train_mae: 0.20653 |  0:00:57s\n"
     ]
    },
    {
     "name": "stdout",
     "output_type": "stream",
     "text": [
      "epoch 128| loss: 0.10636 | train_mse: 0.07652 | train_mae: 0.19509 |  0:00:58s\n"
     ]
    },
    {
     "name": "stdout",
     "output_type": "stream",
     "text": [
      "epoch 129| loss: 0.14676 | train_mse: 0.08588 | train_mae: 0.2112  |  0:00:58s\n"
     ]
    },
    {
     "name": "stdout",
     "output_type": "stream",
     "text": [
      "epoch 130| loss: 0.12461 | train_mse: 0.08365 | train_mae: 0.19912 |  0:00:58s\n"
     ]
    },
    {
     "name": "stdout",
     "output_type": "stream",
     "text": [
      "epoch 131| loss: 0.15429 | train_mse: 0.1571  | train_mae: 0.24194 |  0:00:59s\n"
     ]
    },
    {
     "name": "stdout",
     "output_type": "stream",
     "text": [
      "epoch 132| loss: 0.16029 | train_mse: 0.0926  | train_mae: 0.22446 |  0:01:00s\n"
     ]
    },
    {
     "name": "stdout",
     "output_type": "stream",
     "text": [
      "epoch 133| loss: 0.11289 | train_mse: 0.07671 | train_mae: 0.20687 |  0:01:00s\n"
     ]
    },
    {
     "name": "stdout",
     "output_type": "stream",
     "text": [
      "epoch 134| loss: 0.10893 | train_mse: 0.07909 | train_mae: 0.20399 |  0:01:00s\n"
     ]
    },
    {
     "name": "stdout",
     "output_type": "stream",
     "text": [
      "epoch 135| loss: 0.11565 | train_mse: 0.12784 | train_mae: 0.21706 |  0:01:01s\n"
     ]
    },
    {
     "name": "stdout",
     "output_type": "stream",
     "text": [
      "epoch 136| loss: 0.11448 | train_mse: 0.13002 | train_mae: 0.22508 |  0:01:01s\n"
     ]
    },
    {
     "name": "stdout",
     "output_type": "stream",
     "text": [
      "epoch 137| loss: 0.12688 | train_mse: 0.07992 | train_mae: 0.2072  |  0:01:01s\n"
     ]
    },
    {
     "name": "stdout",
     "output_type": "stream",
     "text": [
      "epoch 138| loss: 0.13269 | train_mse: 0.09673 | train_mae: 0.21583 |  0:01:02s\n"
     ]
    },
    {
     "name": "stdout",
     "output_type": "stream",
     "text": [
      "epoch 139| loss: 0.14234 | train_mse: 0.12955 | train_mae: 0.23723 |  0:01:02s\n"
     ]
    },
    {
     "name": "stdout",
     "output_type": "stream",
     "text": [
      "epoch 140| loss: 0.13959 | train_mse: 0.08689 | train_mae: 0.20477 |  0:01:02s\n"
     ]
    },
    {
     "name": "stdout",
     "output_type": "stream",
     "text": [
      "epoch 141| loss: 0.12887 | train_mse: 0.07945 | train_mae: 0.21024 |  0:01:03s\n"
     ]
    },
    {
     "name": "stdout",
     "output_type": "stream",
     "text": [
      "epoch 142| loss: 0.12816 | train_mse: 0.0686  | train_mae: 0.19262 |  0:01:03s\n"
     ]
    },
    {
     "name": "stdout",
     "output_type": "stream",
     "text": [
      "epoch 143| loss: 0.12082 | train_mse: 0.08646 | train_mae: 0.21018 |  0:01:03s\n"
     ]
    },
    {
     "name": "stdout",
     "output_type": "stream",
     "text": [
      "epoch 144| loss: 0.13733 | train_mse: 0.08218 | train_mae: 0.21405 |  0:01:04s\n"
     ]
    },
    {
     "name": "stdout",
     "output_type": "stream",
     "text": [
      "epoch 145| loss: 0.11149 | train_mse: 0.08445 | train_mae: 0.2113  |  0:01:04s\n"
     ]
    },
    {
     "name": "stdout",
     "output_type": "stream",
     "text": [
      "epoch 146| loss: 0.14568 | train_mse: 0.0847  | train_mae: 0.21453 |  0:01:04s\n"
     ]
    },
    {
     "name": "stdout",
     "output_type": "stream",
     "text": [
      "epoch 147| loss: 0.12424 | train_mse: 0.06611 | train_mae: 0.1902  |  0:01:05s\n"
     ]
    },
    {
     "name": "stdout",
     "output_type": "stream",
     "text": [
      "epoch 148| loss: 0.1478  | train_mse: 0.10171 | train_mae: 0.22496 |  0:01:05s\n"
     ]
    },
    {
     "name": "stdout",
     "output_type": "stream",
     "text": [
      "epoch 149| loss: 0.11677 | train_mse: 0.09923 | train_mae: 0.22309 |  0:01:05s\n"
     ]
    },
    {
     "name": "stdout",
     "output_type": "stream",
     "text": [
      "epoch 150| loss: 0.11934 | train_mse: 0.08143 | train_mae: 0.21441 |  0:01:06s\n"
     ]
    },
    {
     "name": "stdout",
     "output_type": "stream",
     "text": [
      "epoch 151| loss: 0.10908 | train_mse: 0.07878 | train_mae: 0.20825 |  0:01:06s\n"
     ]
    },
    {
     "name": "stdout",
     "output_type": "stream",
     "text": [
      "epoch 152| loss: 0.11987 | train_mse: 0.07387 | train_mae: 0.20015 |  0:01:07s\n"
     ]
    },
    {
     "name": "stdout",
     "output_type": "stream",
     "text": [
      "epoch 153| loss: 0.1227  | train_mse: 0.07208 | train_mae: 0.20052 |  0:01:08s\n"
     ]
    },
    {
     "name": "stdout",
     "output_type": "stream",
     "text": [
      "epoch 154| loss: 0.11359 | train_mse: 0.06909 | train_mae: 0.1949  |  0:01:09s\n"
     ]
    },
    {
     "name": "stdout",
     "output_type": "stream",
     "text": [
      "epoch 155| loss: 0.13314 | train_mse: 0.06623 | train_mae: 0.19272 |  0:01:09s\n"
     ]
    },
    {
     "name": "stdout",
     "output_type": "stream",
     "text": [
      "epoch 156| loss: 0.13695 | train_mse: 0.08158 | train_mae: 0.2022  |  0:01:10s\n"
     ]
    },
    {
     "name": "stdout",
     "output_type": "stream",
     "text": [
      "epoch 157| loss: 0.10908 | train_mse: 0.0794  | train_mae: 0.20809 |  0:01:10s\n"
     ]
    },
    {
     "name": "stdout",
     "output_type": "stream",
     "text": [
      "epoch 158| loss: 0.11581 | train_mse: 0.09895 | train_mae: 0.21728 |  0:01:11s\n"
     ]
    },
    {
     "name": "stdout",
     "output_type": "stream",
     "text": [
      "epoch 159| loss: 0.10559 | train_mse: 0.08363 | train_mae: 0.19785 |  0:01:11s\n"
     ]
    },
    {
     "name": "stdout",
     "output_type": "stream",
     "text": [
      "epoch 160| loss: 0.12899 | train_mse: 0.06965 | train_mae: 0.19691 |  0:01:12s\n"
     ]
    },
    {
     "name": "stdout",
     "output_type": "stream",
     "text": [
      "epoch 161| loss: 0.1287  | train_mse: 0.07065 | train_mae: 0.19669 |  0:01:12s\n"
     ]
    },
    {
     "name": "stdout",
     "output_type": "stream",
     "text": [
      "epoch 162| loss: 0.113   | train_mse: 0.07302 | train_mae: 0.19647 |  0:01:13s\n"
     ]
    },
    {
     "name": "stdout",
     "output_type": "stream",
     "text": [
      "epoch 163| loss: 0.09186 | train_mse: 0.07096 | train_mae: 0.19995 |  0:01:13s\n"
     ]
    },
    {
     "name": "stdout",
     "output_type": "stream",
     "text": [
      "epoch 164| loss: 0.10792 | train_mse: 0.07389 | train_mae: 0.19981 |  0:01:14s\n"
     ]
    },
    {
     "name": "stdout",
     "output_type": "stream",
     "text": [
      "epoch 165| loss: 0.09024 | train_mse: 0.07736 | train_mae: 0.2044  |  0:01:14s\n"
     ]
    },
    {
     "name": "stdout",
     "output_type": "stream",
     "text": [
      "epoch 166| loss: 0.1113  | train_mse: 0.08546 | train_mae: 0.21204 |  0:01:14s\n"
     ]
    },
    {
     "name": "stdout",
     "output_type": "stream",
     "text": [
      "epoch 167| loss: 0.09894 | train_mse: 0.09438 | train_mae: 0.21505 |  0:01:15s\n"
     ]
    },
    {
     "name": "stdout",
     "output_type": "stream",
     "text": [
      "epoch 168| loss: 0.13669 | train_mse: 0.08025 | train_mae: 0.20345 |  0:01:15s\n"
     ]
    },
    {
     "name": "stdout",
     "output_type": "stream",
     "text": [
      "epoch 169| loss: 0.12269 | train_mse: 0.11642 | train_mae: 0.21993 |  0:01:15s\n"
     ]
    },
    {
     "name": "stdout",
     "output_type": "stream",
     "text": [
      "epoch 170| loss: 0.1015  | train_mse: 0.06575 | train_mae: 0.18618 |  0:01:16s\n"
     ]
    },
    {
     "name": "stdout",
     "output_type": "stream",
     "text": [
      "epoch 171| loss: 0.11194 | train_mse: 0.07763 | train_mae: 0.20253 |  0:01:16s\n"
     ]
    },
    {
     "name": "stdout",
     "output_type": "stream",
     "text": [
      "epoch 172| loss: 0.1423  | train_mse: 0.08514 | train_mae: 0.20726 |  0:01:16s\n"
     ]
    },
    {
     "name": "stdout",
     "output_type": "stream",
     "text": [
      "epoch 173| loss: 0.09412 | train_mse: 0.07104 | train_mae: 0.19353 |  0:01:17s\n"
     ]
    },
    {
     "name": "stdout",
     "output_type": "stream",
     "text": [
      "epoch 174| loss: 0.13064 | train_mse: 0.08272 | train_mae: 0.21011 |  0:01:17s\n"
     ]
    },
    {
     "name": "stdout",
     "output_type": "stream",
     "text": [
      "epoch 175| loss: 0.10286 | train_mse: 0.0839  | train_mae: 0.20744 |  0:01:17s\n"
     ]
    },
    {
     "name": "stdout",
     "output_type": "stream",
     "text": [
      "epoch 176| loss: 0.11419 | train_mse: 0.07996 | train_mae: 0.19927 |  0:01:18s\n"
     ]
    },
    {
     "name": "stdout",
     "output_type": "stream",
     "text": [
      "epoch 177| loss: 0.10881 | train_mse: 0.07941 | train_mae: 0.2004  |  0:01:18s\n"
     ]
    },
    {
     "name": "stdout",
     "output_type": "stream",
     "text": [
      "epoch 178| loss: 0.11813 | train_mse: 0.08125 | train_mae: 0.2086  |  0:01:18s\n"
     ]
    },
    {
     "name": "stdout",
     "output_type": "stream",
     "text": [
      "epoch 179| loss: 0.13415 | train_mse: 0.07706 | train_mae: 0.20838 |  0:01:18s\n"
     ]
    },
    {
     "name": "stdout",
     "output_type": "stream",
     "text": [
      "epoch 180| loss: 0.10056 | train_mse: 0.07417 | train_mae: 0.19286 |  0:01:19s\n"
     ]
    },
    {
     "name": "stdout",
     "output_type": "stream",
     "text": [
      "epoch 181| loss: 0.1473  | train_mse: 0.08842 | train_mae: 0.22267 |  0:01:19s\n"
     ]
    },
    {
     "name": "stdout",
     "output_type": "stream",
     "text": [
      "epoch 182| loss: 0.10787 | train_mse: 0.06256 | train_mae: 0.18253 |  0:01:19s\n"
     ]
    },
    {
     "name": "stdout",
     "output_type": "stream",
     "text": [
      "epoch 183| loss: 0.11746 | train_mse: 0.06986 | train_mae: 0.18691 |  0:01:20s\n"
     ]
    },
    {
     "name": "stdout",
     "output_type": "stream",
     "text": [
      "epoch 184| loss: 0.08717 | train_mse: 0.08877 | train_mae: 0.2022  |  0:01:20s\n"
     ]
    },
    {
     "name": "stdout",
     "output_type": "stream",
     "text": [
      "epoch 185| loss: 0.11463 | train_mse: 0.05714 | train_mae: 0.17715 |  0:01:20s\n"
     ]
    },
    {
     "name": "stdout",
     "output_type": "stream",
     "text": [
      "epoch 186| loss: 0.11299 | train_mse: 0.06763 | train_mae: 0.18921 |  0:01:21s\n"
     ]
    },
    {
     "name": "stdout",
     "output_type": "stream",
     "text": [
      "epoch 187| loss: 0.10752 | train_mse: 0.07455 | train_mae: 0.19602 |  0:01:21s\n"
     ]
    },
    {
     "name": "stdout",
     "output_type": "stream",
     "text": [
      "epoch 188| loss: 0.13164 | train_mse: 0.0745  | train_mae: 0.19696 |  0:01:22s\n"
     ]
    },
    {
     "name": "stdout",
     "output_type": "stream",
     "text": [
      "epoch 189| loss: 0.10444 | train_mse: 0.06336 | train_mae: 0.18651 |  0:01:22s\n"
     ]
    },
    {
     "name": "stdout",
     "output_type": "stream",
     "text": [
      "epoch 190| loss: 0.13601 | train_mse: 0.06343 | train_mae: 0.18307 |  0:01:22s\n"
     ]
    },
    {
     "name": "stdout",
     "output_type": "stream",
     "text": [
      "epoch 191| loss: 0.11122 | train_mse: 0.06536 | train_mae: 0.18837 |  0:01:23s\n"
     ]
    },
    {
     "name": "stdout",
     "output_type": "stream",
     "text": [
      "epoch 192| loss: 0.16081 | train_mse: 0.06207 | train_mae: 0.18235 |  0:01:23s\n"
     ]
    },
    {
     "name": "stdout",
     "output_type": "stream",
     "text": [
      "epoch 193| loss: 0.10722 | train_mse: 0.09058 | train_mae: 0.21056 |  0:01:23s\n"
     ]
    },
    {
     "name": "stdout",
     "output_type": "stream",
     "text": [
      "epoch 194| loss: 0.10921 | train_mse: 0.07423 | train_mae: 0.19114 |  0:01:24s\n"
     ]
    },
    {
     "name": "stdout",
     "output_type": "stream",
     "text": [
      "epoch 195| loss: 0.10663 | train_mse: 0.06708 | train_mae: 0.18354 |  0:01:24s\n"
     ]
    },
    {
     "name": "stdout",
     "output_type": "stream",
     "text": [
      "epoch 196| loss: 0.13748 | train_mse: 0.07077 | train_mae: 0.1969  |  0:01:25s\n"
     ]
    },
    {
     "name": "stdout",
     "output_type": "stream",
     "text": [
      "epoch 197| loss: 0.10613 | train_mse: 0.06934 | train_mae: 0.19194 |  0:01:25s\n"
     ]
    },
    {
     "name": "stdout",
     "output_type": "stream",
     "text": [
      "epoch 198| loss: 0.1418  | train_mse: 0.07015 | train_mae: 0.19409 |  0:01:26s\n"
     ]
    },
    {
     "name": "stdout",
     "output_type": "stream",
     "text": [
      "epoch 199| loss: 0.08331 | train_mse: 0.05747 | train_mae: 0.18168 |  0:01:26s\n"
     ]
    },
    {
     "name": "stdout",
     "output_type": "stream",
     "text": [
      "epoch 200| loss: 0.10668 | train_mse: 0.0657  | train_mae: 0.18668 |  0:01:26s\n"
     ]
    },
    {
     "name": "stdout",
     "output_type": "stream",
     "text": [
      "epoch 201| loss: 0.12066 | train_mse: 0.06115 | train_mae: 0.18667 |  0:01:27s\n"
     ]
    },
    {
     "name": "stdout",
     "output_type": "stream",
     "text": [
      "epoch 202| loss: 0.12186 | train_mse: 0.06148 | train_mae: 0.18473 |  0:01:27s\n"
     ]
    },
    {
     "name": "stdout",
     "output_type": "stream",
     "text": [
      "epoch 203| loss: 0.12138 | train_mse: 0.06958 | train_mae: 0.19559 |  0:01:27s\n"
     ]
    },
    {
     "name": "stdout",
     "output_type": "stream",
     "text": [
      "epoch 204| loss: 0.11961 | train_mse: 0.0672  | train_mae: 0.19152 |  0:01:28s\n"
     ]
    },
    {
     "name": "stdout",
     "output_type": "stream",
     "text": [
      "epoch 205| loss: 0.13171 | train_mse: 0.06053 | train_mae: 0.18071 |  0:01:28s\n"
     ]
    },
    {
     "name": "stdout",
     "output_type": "stream",
     "text": [
      "epoch 206| loss: 0.08886 | train_mse: 0.05795 | train_mae: 0.17349 |  0:01:28s\n"
     ]
    },
    {
     "name": "stdout",
     "output_type": "stream",
     "text": [
      "epoch 207| loss: 0.12147 | train_mse: 0.07598 | train_mae: 0.19613 |  0:01:28s\n"
     ]
    },
    {
     "name": "stdout",
     "output_type": "stream",
     "text": [
      "epoch 208| loss: 0.09296 | train_mse: 0.06016 | train_mae: 0.18362 |  0:01:29s\n"
     ]
    },
    {
     "name": "stdout",
     "output_type": "stream",
     "text": [
      "epoch 209| loss: 0.12289 | train_mse: 0.06465 | train_mae: 0.18803 |  0:01:29s\n"
     ]
    },
    {
     "name": "stdout",
     "output_type": "stream",
     "text": [
      "epoch 210| loss: 0.11272 | train_mse: 0.06607 | train_mae: 0.19301 |  0:01:29s\n"
     ]
    },
    {
     "name": "stdout",
     "output_type": "stream",
     "text": [
      "epoch 211| loss: 0.11734 | train_mse: 0.06028 | train_mae: 0.18194 |  0:01:30s\n"
     ]
    },
    {
     "name": "stdout",
     "output_type": "stream",
     "text": [
      "epoch 212| loss: 0.09356 | train_mse: 0.05483 | train_mae: 0.17026 |  0:01:31s\n"
     ]
    },
    {
     "name": "stdout",
     "output_type": "stream",
     "text": [
      "epoch 213| loss: 0.09126 | train_mse: 0.07167 | train_mae: 0.19261 |  0:01:31s\n"
     ]
    },
    {
     "name": "stdout",
     "output_type": "stream",
     "text": [
      "epoch 214| loss: 0.0893  | train_mse: 0.04889 | train_mae: 0.16752 |  0:01:32s\n"
     ]
    },
    {
     "name": "stdout",
     "output_type": "stream",
     "text": [
      "epoch 215| loss: 0.0936  | train_mse: 0.04954 | train_mae: 0.1688  |  0:01:32s\n"
     ]
    },
    {
     "name": "stdout",
     "output_type": "stream",
     "text": [
      "epoch 216| loss: 0.10814 | train_mse: 0.06839 | train_mae: 0.18482 |  0:01:33s\n"
     ]
    },
    {
     "name": "stdout",
     "output_type": "stream",
     "text": [
      "epoch 217| loss: 0.10651 | train_mse: 0.06039 | train_mae: 0.17524 |  0:01:34s\n"
     ]
    },
    {
     "name": "stdout",
     "output_type": "stream",
     "text": [
      "epoch 218| loss: 0.09396 | train_mse: 0.06009 | train_mae: 0.186   |  0:01:35s\n"
     ]
    },
    {
     "name": "stdout",
     "output_type": "stream",
     "text": [
      "epoch 219| loss: 0.09709 | train_mse: 0.06772 | train_mae: 0.1843  |  0:01:36s\n"
     ]
    },
    {
     "name": "stdout",
     "output_type": "stream",
     "text": [
      "epoch 220| loss: 0.10579 | train_mse: 0.07573 | train_mae: 0.20235 |  0:01:37s\n"
     ]
    },
    {
     "name": "stdout",
     "output_type": "stream",
     "text": [
      "epoch 221| loss: 0.10965 | train_mse: 0.06058 | train_mae: 0.18694 |  0:01:38s\n"
     ]
    },
    {
     "name": "stdout",
     "output_type": "stream",
     "text": [
      "epoch 222| loss: 0.10481 | train_mse: 0.06137 | train_mae: 0.17701 |  0:01:38s\n"
     ]
    },
    {
     "name": "stdout",
     "output_type": "stream",
     "text": [
      "epoch 223| loss: 0.13086 | train_mse: 0.06679 | train_mae: 0.18343 |  0:01:39s\n"
     ]
    },
    {
     "name": "stdout",
     "output_type": "stream",
     "text": [
      "epoch 224| loss: 0.1001  | train_mse: 0.06875 | train_mae: 0.19598 |  0:01:39s\n"
     ]
    },
    {
     "name": "stdout",
     "output_type": "stream",
     "text": [
      "epoch 225| loss: 0.09677 | train_mse: 0.07497 | train_mae: 0.18882 |  0:01:40s\n"
     ]
    },
    {
     "name": "stdout",
     "output_type": "stream",
     "text": [
      "epoch 226| loss: 0.12991 | train_mse: 0.07059 | train_mae: 0.18273 |  0:01:41s\n"
     ]
    },
    {
     "name": "stdout",
     "output_type": "stream",
     "text": [
      "epoch 227| loss: 0.13654 | train_mse: 0.07803 | train_mae: 0.19377 |  0:01:41s\n"
     ]
    },
    {
     "name": "stdout",
     "output_type": "stream",
     "text": [
      "epoch 228| loss: 0.09383 | train_mse: 0.06487 | train_mae: 0.18981 |  0:01:41s\n"
     ]
    },
    {
     "name": "stdout",
     "output_type": "stream",
     "text": [
      "epoch 229| loss: 0.16875 | train_mse: 0.06696 | train_mae: 0.19197 |  0:01:41s\n"
     ]
    },
    {
     "name": "stdout",
     "output_type": "stream",
     "text": [
      "epoch 230| loss: 0.11146 | train_mse: 0.06292 | train_mae: 0.18418 |  0:01:42s\n"
     ]
    },
    {
     "name": "stdout",
     "output_type": "stream",
     "text": [
      "epoch 231| loss: 0.13861 | train_mse: 0.09199 | train_mae: 0.20979 |  0:01:42s\n"
     ]
    },
    {
     "name": "stdout",
     "output_type": "stream",
     "text": [
      "epoch 232| loss: 0.1419  | train_mse: 0.06636 | train_mae: 0.19347 |  0:01:43s\n"
     ]
    },
    {
     "name": "stdout",
     "output_type": "stream",
     "text": [
      "epoch 233| loss: 0.11844 | train_mse: 0.07653 | train_mae: 0.19811 |  0:01:43s\n"
     ]
    },
    {
     "name": "stdout",
     "output_type": "stream",
     "text": [
      "epoch 234| loss: 0.10148 | train_mse: 0.06483 | train_mae: 0.18227 |  0:01:44s\n"
     ]
    },
    {
     "name": "stdout",
     "output_type": "stream",
     "text": [
      "epoch 235| loss: 0.11721 | train_mse: 0.0744  | train_mae: 0.1981  |  0:01:44s\n"
     ]
    },
    {
     "name": "stdout",
     "output_type": "stream",
     "text": [
      "epoch 236| loss: 0.12944 | train_mse: 0.06451 | train_mae: 0.19146 |  0:01:45s\n"
     ]
    },
    {
     "name": "stdout",
     "output_type": "stream",
     "text": [
      "epoch 237| loss: 0.11152 | train_mse: 0.0729  | train_mae: 0.19803 |  0:01:45s\n"
     ]
    },
    {
     "name": "stdout",
     "output_type": "stream",
     "text": [
      "epoch 238| loss: 0.16491 | train_mse: 0.06535 | train_mae: 0.19487 |  0:01:46s\n"
     ]
    },
    {
     "name": "stdout",
     "output_type": "stream",
     "text": [
      "epoch 239| loss: 0.09801 | train_mse: 0.0576  | train_mae: 0.17745 |  0:01:46s\n"
     ]
    },
    {
     "name": "stdout",
     "output_type": "stream",
     "text": [
      "epoch 240| loss: 0.12992 | train_mse: 0.05927 | train_mae: 0.18292 |  0:01:47s\n"
     ]
    },
    {
     "name": "stdout",
     "output_type": "stream",
     "text": [
      "epoch 241| loss: 0.1032  | train_mse: 0.05402 | train_mae: 0.17125 |  0:01:47s\n"
     ]
    },
    {
     "name": "stdout",
     "output_type": "stream",
     "text": [
      "epoch 242| loss: 0.11932 | train_mse: 0.06126 | train_mae: 0.18684 |  0:01:47s\n"
     ]
    },
    {
     "name": "stdout",
     "output_type": "stream",
     "text": [
      "epoch 243| loss: 0.09588 | train_mse: 0.05471 | train_mae: 0.17134 |  0:01:48s\n"
     ]
    },
    {
     "name": "stdout",
     "output_type": "stream",
     "text": [
      "epoch 244| loss: 0.09999 | train_mse: 0.05783 | train_mae: 0.17284 |  0:01:48s\n"
     ]
    },
    {
     "name": "stdout",
     "output_type": "stream",
     "text": [
      "epoch 245| loss: 0.11428 | train_mse: 0.05981 | train_mae: 0.1757  |  0:01:48s\n"
     ]
    },
    {
     "name": "stdout",
     "output_type": "stream",
     "text": [
      "epoch 246| loss: 0.10537 | train_mse: 0.06539 | train_mae: 0.1836  |  0:01:49s\n"
     ]
    },
    {
     "name": "stdout",
     "output_type": "stream",
     "text": [
      "epoch 247| loss: 0.10556 | train_mse: 0.05429 | train_mae: 0.17143 |  0:01:49s\n"
     ]
    },
    {
     "name": "stdout",
     "output_type": "stream",
     "text": [
      "epoch 248| loss: 0.11532 | train_mse: 0.04798 | train_mae: 0.16276 |  0:01:50s\n"
     ]
    },
    {
     "name": "stdout",
     "output_type": "stream",
     "text": [
      "epoch 249| loss: 0.12201 | train_mse: 0.0526  | train_mae: 0.16839 |  0:01:50s\n"
     ]
    },
    {
     "name": "stdout",
     "output_type": "stream",
     "text": [
      "epoch 250| loss: 0.12031 | train_mse: 0.06598 | train_mae: 0.19182 |  0:01:50s\n"
     ]
    },
    {
     "name": "stdout",
     "output_type": "stream",
     "text": [
      "epoch 251| loss: 0.11216 | train_mse: 0.04983 | train_mae: 0.16632 |  0:01:51s\n"
     ]
    },
    {
     "name": "stdout",
     "output_type": "stream",
     "text": [
      "epoch 252| loss: 0.13599 | train_mse: 0.05542 | train_mae: 0.17831 |  0:01:51s\n"
     ]
    },
    {
     "name": "stdout",
     "output_type": "stream",
     "text": [
      "epoch 253| loss: 0.13769 | train_mse: 0.06798 | train_mae: 0.18998 |  0:01:51s\n"
     ]
    },
    {
     "name": "stdout",
     "output_type": "stream",
     "text": [
      "epoch 254| loss: 0.09705 | train_mse: 0.05142 | train_mae: 0.16708 |  0:01:52s\n"
     ]
    },
    {
     "name": "stdout",
     "output_type": "stream",
     "text": [
      "epoch 255| loss: 0.09559 | train_mse: 0.05436 | train_mae: 0.16851 |  0:01:52s\n"
     ]
    },
    {
     "name": "stdout",
     "output_type": "stream",
     "text": [
      "epoch 256| loss: 0.13872 | train_mse: 0.06278 | train_mae: 0.18337 |  0:01:52s\n"
     ]
    },
    {
     "name": "stdout",
     "output_type": "stream",
     "text": [
      "epoch 257| loss: 0.09435 | train_mse: 0.05851 | train_mae: 0.17429 |  0:01:53s\n"
     ]
    },
    {
     "name": "stdout",
     "output_type": "stream",
     "text": [
      "epoch 258| loss: 0.12154 | train_mse: 0.06103 | train_mae: 0.18873 |  0:01:54s\n"
     ]
    },
    {
     "name": "stdout",
     "output_type": "stream",
     "text": [
      "epoch 259| loss: 0.09496 | train_mse: 0.06719 | train_mae: 0.18827 |  0:01:54s\n"
     ]
    },
    {
     "name": "stdout",
     "output_type": "stream",
     "text": [
      "epoch 260| loss: 0.11601 | train_mse: 0.05622 | train_mae: 0.17767 |  0:01:55s\n"
     ]
    },
    {
     "name": "stdout",
     "output_type": "stream",
     "text": [
      "epoch 261| loss: 0.10224 | train_mse: 0.05749 | train_mae: 0.17825 |  0:01:56s\n"
     ]
    },
    {
     "name": "stdout",
     "output_type": "stream",
     "text": [
      "epoch 262| loss: 0.09026 | train_mse: 0.05083 | train_mae: 0.16932 |  0:01:56s\n"
     ]
    },
    {
     "name": "stdout",
     "output_type": "stream",
     "text": [
      "epoch 263| loss: 0.10681 | train_mse: 0.05717 | train_mae: 0.1777  |  0:01:57s\n"
     ]
    },
    {
     "name": "stdout",
     "output_type": "stream",
     "text": [
      "epoch 264| loss: 0.08686 | train_mse: 0.05695 | train_mae: 0.17452 |  0:01:57s\n"
     ]
    },
    {
     "name": "stdout",
     "output_type": "stream",
     "text": [
      "epoch 265| loss: 0.09489 | train_mse: 0.05253 | train_mae: 0.17204 |  0:01:58s\n"
     ]
    },
    {
     "name": "stdout",
     "output_type": "stream",
     "text": [
      "epoch 266| loss: 0.13371 | train_mse: 0.05367 | train_mae: 0.17314 |  0:01:58s\n"
     ]
    },
    {
     "name": "stdout",
     "output_type": "stream",
     "text": [
      "epoch 267| loss: 0.11343 | train_mse: 0.07754 | train_mae: 0.20057 |  0:01:59s\n"
     ]
    },
    {
     "name": "stdout",
     "output_type": "stream",
     "text": [
      "epoch 268| loss: 0.09303 | train_mse: 0.07425 | train_mae: 0.19868 |  0:02:00s\n"
     ]
    },
    {
     "name": "stdout",
     "output_type": "stream",
     "text": [
      "epoch 269| loss: 0.10024 | train_mse: 0.05635 | train_mae: 0.17921 |  0:02:00s\n"
     ]
    },
    {
     "name": "stdout",
     "output_type": "stream",
     "text": [
      "epoch 270| loss: 0.11276 | train_mse: 0.05572 | train_mae: 0.17468 |  0:02:01s\n"
     ]
    },
    {
     "name": "stdout",
     "output_type": "stream",
     "text": [
      "epoch 271| loss: 0.08839 | train_mse: 0.05659 | train_mae: 0.17862 |  0:02:01s\n"
     ]
    },
    {
     "name": "stdout",
     "output_type": "stream",
     "text": [
      "epoch 272| loss: 0.09393 | train_mse: 0.05258 | train_mae: 0.17484 |  0:02:02s\n"
     ]
    },
    {
     "name": "stdout",
     "output_type": "stream",
     "text": [
      "epoch 273| loss: 0.10887 | train_mse: 0.05366 | train_mae: 0.17753 |  0:02:03s\n"
     ]
    },
    {
     "name": "stdout",
     "output_type": "stream",
     "text": [
      "epoch 274| loss: 0.08367 | train_mse: 0.05469 | train_mae: 0.17808 |  0:02:04s\n"
     ]
    },
    {
     "name": "stdout",
     "output_type": "stream",
     "text": [
      "epoch 275| loss: 0.10677 | train_mse: 0.04879 | train_mae: 0.16658 |  0:02:04s\n"
     ]
    },
    {
     "name": "stdout",
     "output_type": "stream",
     "text": [
      "epoch 276| loss: 0.08917 | train_mse: 0.0583  | train_mae: 0.17359 |  0:02:05s\n"
     ]
    },
    {
     "name": "stdout",
     "output_type": "stream",
     "text": [
      "epoch 277| loss: 0.07837 | train_mse: 0.05014 | train_mae: 0.16878 |  0:02:05s\n"
     ]
    },
    {
     "name": "stdout",
     "output_type": "stream",
     "text": [
      "epoch 278| loss: 0.09573 | train_mse: 0.05483 | train_mae: 0.17267 |  0:02:06s\n"
     ]
    },
    {
     "name": "stdout",
     "output_type": "stream",
     "text": [
      "epoch 279| loss: 0.10265 | train_mse: 0.05301 | train_mae: 0.17197 |  0:02:07s\n"
     ]
    },
    {
     "name": "stdout",
     "output_type": "stream",
     "text": [
      "epoch 280| loss: 0.10267 | train_mse: 0.05218 | train_mae: 0.16824 |  0:02:08s\n"
     ]
    },
    {
     "name": "stdout",
     "output_type": "stream",
     "text": [
      "epoch 281| loss: 0.08965 | train_mse: 0.05645 | train_mae: 0.17493 |  0:02:08s\n"
     ]
    },
    {
     "name": "stdout",
     "output_type": "stream",
     "text": [
      "epoch 282| loss: 0.09245 | train_mse: 0.05078 | train_mae: 0.16579 |  0:02:09s\n"
     ]
    },
    {
     "name": "stdout",
     "output_type": "stream",
     "text": [
      "epoch 283| loss: 0.08235 | train_mse: 0.05786 | train_mae: 0.18137 |  0:02:10s\n"
     ]
    },
    {
     "name": "stdout",
     "output_type": "stream",
     "text": [
      "epoch 284| loss: 0.10746 | train_mse: 0.06386 | train_mae: 0.19094 |  0:02:10s\n"
     ]
    },
    {
     "name": "stdout",
     "output_type": "stream",
     "text": [
      "epoch 285| loss: 0.0949  | train_mse: 0.05172 | train_mae: 0.17037 |  0:02:11s\n"
     ]
    },
    {
     "name": "stdout",
     "output_type": "stream",
     "text": [
      "epoch 286| loss: 0.10736 | train_mse: 0.06252 | train_mae: 0.19149 |  0:02:11s\n"
     ]
    },
    {
     "name": "stdout",
     "output_type": "stream",
     "text": [
      "epoch 287| loss: 0.08715 | train_mse: 0.04962 | train_mae: 0.16526 |  0:02:12s\n"
     ]
    },
    {
     "name": "stdout",
     "output_type": "stream",
     "text": [
      "epoch 288| loss: 0.10743 | train_mse: 0.0641  | train_mae: 0.19981 |  0:02:13s\n"
     ]
    },
    {
     "name": "stdout",
     "output_type": "stream",
     "text": [
      "epoch 289| loss: 0.09421 | train_mse: 0.05031 | train_mae: 0.1697  |  0:02:13s\n"
     ]
    },
    {
     "name": "stdout",
     "output_type": "stream",
     "text": [
      "epoch 290| loss: 0.10085 | train_mse: 0.05148 | train_mae: 0.17005 |  0:02:14s\n"
     ]
    },
    {
     "name": "stdout",
     "output_type": "stream",
     "text": [
      "epoch 291| loss: 0.09375 | train_mse: 0.04875 | train_mae: 0.16718 |  0:02:14s\n"
     ]
    },
    {
     "name": "stdout",
     "output_type": "stream",
     "text": [
      "epoch 292| loss: 0.11243 | train_mse: 0.05466 | train_mae: 0.17394 |  0:02:15s\n"
     ]
    },
    {
     "name": "stdout",
     "output_type": "stream",
     "text": [
      "epoch 293| loss: 0.11052 | train_mse: 0.05125 | train_mae: 0.16314 |  0:02:16s\n"
     ]
    },
    {
     "name": "stdout",
     "output_type": "stream",
     "text": [
      "epoch 294| loss: 0.0686  | train_mse: 0.05786 | train_mae: 0.17489 |  0:02:17s\n"
     ]
    },
    {
     "name": "stdout",
     "output_type": "stream",
     "text": [
      "epoch 295| loss: 0.13007 | train_mse: 0.0572  | train_mae: 0.17364 |  0:02:17s\n"
     ]
    },
    {
     "name": "stdout",
     "output_type": "stream",
     "text": [
      "epoch 296| loss: 0.08664 | train_mse: 0.05686 | train_mae: 0.17384 |  0:02:17s\n"
     ]
    },
    {
     "name": "stdout",
     "output_type": "stream",
     "text": [
      "epoch 297| loss: 0.08653 | train_mse: 0.06113 | train_mae: 0.17724 |  0:02:18s\n"
     ]
    },
    {
     "name": "stdout",
     "output_type": "stream",
     "text": [
      "epoch 298| loss: 0.10866 | train_mse: 0.05136 | train_mae: 0.16769 |  0:02:19s\n",
      "\n",
      "Early stopping occurred at epoch 298 with best_epoch = 248 and best_train_mae = 0.16276\n",
      "Best weights from best epoch are automatically used!\n"
     ]
    },
    {
     "name": "stdout",
     "output_type": "stream",
     "text": [
      "BEST VALID SCORE FOR dataset : 0.16276440768918213\n",
      "FINAL TEST SCORE FOR dataset: 0.2707828334153688\n",
      "{'loss': [2.009311650059011, 0.7093887606469711, 0.52955762614118, 0.3872760758541598, 0.3539374582838304, 0.34067358533934794, 0.2985035825778942, 0.32367945307552226, 0.3318730197330513, 0.299968022226107, 0.2387702228999374, 0.2314383346255463, 0.2857934436438107, 0.2372147657788626, 0.2227526560868367, 0.27913502876711366, 0.22110146350494705, 0.21719200038673855, 0.19538107027511786, 0.2118048372835216, 0.15848211531001744, 0.22835561279023048, 0.21058717458555015, 0.19589404385573794, 0.17334750589757864, 0.18985323062037476, 0.20519690259848491, 0.24364535200713885, 0.2308177527519736, 0.2310953146160239, 0.20470600346527476, 0.1913992435035139, 0.23229966777386052, 0.20584007714054373, 0.17646256885906259, 0.20721333156717886, 0.21963665435219756, 0.17110877609488986, 0.166541459831861, 0.18830390982698686, 0.18538477544737333, 0.21629704594021976, 0.16690998207224478, 0.20533683527224134, 0.16433365761053445, 0.17053399434184083, 0.17578068257558463, 0.12869355097265528, 0.16632870887175644, 0.1946621459014345, 0.1640251265598996, 0.12749047916714507, 0.13177993399376917, 0.16008883773690402, 0.18962759428685255, 0.151258054198605, 0.14972459539623545, 0.12314738229949876, 0.15976776049868896, 0.1682964330262477, 0.1534120756210667, 0.20537285064116562, 0.15569629778366278, 0.13598508911557716, 0.1466993509542824, 0.1589523220416343, 0.18835579375229258, 0.14373842058795513, 0.14286371726210756, 0.1442303164022984, 0.16558371277728884, 0.17299574753730604, 0.13893310858471558, 0.13779823968906213, 0.15225500620827817, 0.15083866573796414, 0.1552499526798135, 0.13275293943167912, 0.15533189313246473, 0.22187525388037804, 0.1829536209012022, 0.16939867870642408, 0.14552854104797439, 0.14194812839574153, 0.17621486213537726, 0.13873539555190814, 0.14704370321613727, 0.13509148241269706, 0.17554972756026996, 0.15002085002932217, 0.1695614877608743, 0.15872723100209, 0.19208396690906865, 0.1713867695024698, 0.11636456264422672, 0.13641255090732385, 0.13583994413366413, 0.14060723678310316, 0.12921128385137803, 0.14388605332610632, 0.13025230007006391, 0.1383779276125502, 0.15164238893159546, 0.13481485725629447, 0.13497721942344515, 0.1153277610198106, 0.12796202685573313, 0.12778176691862617, 0.12337415495721421, 0.13663913929226376, 0.14201695826089028, 0.09471485594121537, 0.10851926703264217, 0.19144014438780227, 0.14613815618328527, 0.14541917036075402, 0.1510274371888378, 0.10871696464791156, 0.09437091257607583, 0.10075692821404722, 0.13139930935484348, 0.11284318913032512, 0.1362815666021687, 0.12039473468419348, 0.12303368599698095, 0.14653457007785836, 0.10553957049799438, 0.15267231698968622, 0.10636416416947204, 0.14676170633866056, 0.12461087845339633, 0.15429079193289919, 0.160288538378064, 0.11289345273877134, 0.10892875935181533, 0.11564979370277707, 0.11447682902954592, 0.12687531541479696, 0.13268801105199474, 0.1423394653466669, 0.1395897270724325, 0.12887306647873162, 0.12816146901338407, 0.12082244205002737, 0.1373265547917621, 0.11148717055226316, 0.14568168500272355, 0.12424136506448878, 0.14779674682286706, 0.11676949439662518, 0.11933862572849387, 0.10908316621685972, 0.11986588738342323, 0.12269779051294422, 0.1135922643807855, 0.13313917830438898, 0.1369540806454007, 0.10907511818822067, 0.11580598435484536, 0.1055903088780913, 0.12898970328935302, 0.1286986518171754, 0.11300332497547169, 0.09185521791477015, 0.10791750716986043, 0.0902396063550864, 0.11129588427224962, 0.09893718361854553, 0.13669088866450999, 0.12269199927254479, 0.10150166829623798, 0.11193581486102377, 0.14230330826917498, 0.09411519559303133, 0.13063938561642527, 0.10285553004186933, 0.11419204792173782, 0.10881133790653531, 0.11813051246180392, 0.1341460403239373, 0.10056492450213668, 0.14730225090343174, 0.10786601369923884, 0.11745765274113948, 0.08716699702314812, 0.11463089257773787, 0.11298832798948383, 0.1075235780808005, 0.1316387793510267, 0.10443883344973667, 0.13601419403411374, 0.11122299170139993, 0.16081192056731422, 0.10721617099819797, 0.10920552949946706, 0.10662931026798664, 0.13748093406752782, 0.10613278093019335, 0.1418022867476586, 0.08330641686916351, 0.10667808184234223, 0.12066367578388441, 0.12186066098142379, 0.12137877992769279, 0.119613944082567, 0.1317102937120022, 0.08885576140762556, 0.12147011733291173, 0.09295793711253912, 0.12289365049045865, 0.11271781098134447, 0.11734458306195712, 0.09355996150781612, 0.09125714107315139, 0.0892969278415831, 0.09359797134552852, 0.10814282504638822, 0.10650596170142146, 0.09396408203214703, 0.09708516388246329, 0.10579427169396145, 0.10964885413056553, 0.10480631504318502, 0.13086291712404477, 0.10010171991468657, 0.09677223920231999, 0.12991208538855656, 0.13654142618179324, 0.09382613829456933, 0.16874896358735492, 0.11145833990361431, 0.13860975264912784, 0.141903685166104, 0.11843582338625842, 0.10147946335301541, 0.11720863810860284, 0.12944193435187387, 0.11152003904675493, 0.16491034833511503, 0.0980140764524441, 0.12991894884864882, 0.10319658745043349, 0.11932340942987121, 0.09588201771868338, 0.09999269719171051, 0.11428390863803353, 0.10537115668896402, 0.10555734227199366, 0.11531589659723905, 0.12200605780771463, 0.12031316624419523, 0.11215739741478817, 0.1359933498177198, 0.1376869271297266, 0.09704554523571883, 0.09558994330392026, 0.13871677492809772, 0.09434768321490523, 0.12154387601531379, 0.09496472421849128, 0.11600958312502002, 0.10223729218734373, 0.09025508689113182, 0.10680925650614323, 0.08685518860226811, 0.0948906930366365, 0.13370807896746267, 0.11342832032996829, 0.09303325053193781, 0.10024210589356941, 0.11275806403396153, 0.0883898335960832, 0.09392962700659686, 0.10886718081955862, 0.08366539487891858, 0.10676541157288126, 0.08917324495787668, 0.07837089460970152, 0.09572590385923291, 0.10264505438580371, 0.10266601463945785, 0.08964620028982068, 0.09245012730064958, 0.08235253282997868, 0.10746458593276467, 0.09490334367988133, 0.10736083062273441, 0.08715385714970013, 0.10743119803690675, 0.09420664136362548, 0.10085347722662558, 0.09374850590040187, 0.11242561300497243, 0.11051857213277629, 0.0685960967646967, 0.13006520551620143, 0.08663924285533404, 0.08652996175950116, 0.10865855298124917], 'lr': [0.01, 0.01, 0.01, 0.01, 0.01, 0.01, 0.01, 0.01, 0.01, 0.01, 0.01, 0.01, 0.01, 0.01, 0.01, 0.01, 0.01, 0.01, 0.01, 0.01, 0.01, 0.01, 0.01, 0.01, 0.01, 0.01, 0.01, 0.01, 0.01, 0.01, 0.01, 0.01, 0.01, 0.01, 0.01, 0.01, 0.01, 0.01, 0.01, 0.01, 0.01, 0.01, 0.01, 0.01, 0.01, 0.01, 0.01, 0.01, 0.01, 0.01, 0.01, 0.01, 0.01, 0.01, 0.01, 0.01, 0.01, 0.01, 0.01, 0.01, 0.01, 0.01, 0.01, 0.01, 0.01, 0.01, 0.01, 0.01, 0.01, 0.01, 0.01, 0.01, 0.01, 0.01, 0.01, 0.01, 0.01, 0.01, 0.01, 0.01, 0.01, 0.01, 0.01, 0.01, 0.01, 0.01, 0.01, 0.01, 0.01, 0.01, 0.01, 0.01, 0.01, 0.01, 0.01, 0.01, 0.01, 0.01, 0.01, 0.01, 0.01, 0.01, 0.01, 0.01, 0.01, 0.01, 0.01, 0.01, 0.01, 0.01, 0.01, 0.01, 0.01, 0.01, 0.01, 0.01, 0.01, 0.01, 0.01, 0.01, 0.01, 0.01, 0.01, 0.01, 0.01, 0.01, 0.01, 0.01, 0.01, 0.01, 0.01, 0.01, 0.01, 0.01, 0.01, 0.01, 0.01, 0.01, 0.01, 0.01, 0.01, 0.01, 0.01, 0.01, 0.01, 0.01, 0.01, 0.01, 0.01, 0.01, 0.01, 0.01, 0.01, 0.01, 0.01, 0.01, 0.01, 0.01, 0.01, 0.01, 0.01, 0.01, 0.01, 0.01, 0.01, 0.01, 0.01, 0.01, 0.01, 0.01, 0.01, 0.01, 0.01, 0.01, 0.01, 0.01, 0.01, 0.01, 0.01, 0.01, 0.01, 0.01, 0.01, 0.01, 0.01, 0.01, 0.01, 0.01, 0.01, 0.01, 0.01, 0.01, 0.01, 0.01, 0.01, 0.01, 0.01, 0.01, 0.01, 0.01, 0.01, 0.01, 0.01, 0.01, 0.01, 0.01, 0.01, 0.01, 0.01, 0.01, 0.01, 0.01, 0.01, 0.01, 0.01, 0.01, 0.01, 0.01, 0.01, 0.01, 0.01, 0.01, 0.01, 0.01, 0.01, 0.01, 0.01, 0.01, 0.01, 0.01, 0.01, 0.01, 0.01, 0.01, 0.01, 0.01, 0.01, 0.01, 0.01, 0.01, 0.01, 0.01, 0.01, 0.01, 0.01, 0.01, 0.01, 0.01, 0.01, 0.01, 0.01, 0.01, 0.01, 0.01, 0.01, 0.01, 0.01, 0.01, 0.01, 0.01, 0.01, 0.01, 0.01, 0.01, 0.01, 0.01, 0.01, 0.01, 0.01, 0.01, 0.01, 0.01, 0.01, 0.01, 0.01, 0.01, 0.01, 0.01, 0.01, 0.01, 0.01, 0.01, 0.01, 0.01, 0.01, 0.01, 0.01, 0.01, 0.01, 0.01, 0.01, 0.01, 0.01, 0.01, 0.01, 0.01, 0.01, 0.01, 0.01], 'train_mse': [1.2671121220102188, 0.7671776721922055, 0.5481691617316959, 0.42531129334251633, 0.37846391706003696, 0.2500642011992158, 0.34959306464550843, 0.3732487211001879, 0.3244695921255199, 0.2351663317188172, 0.30156939429697766, 0.18648533337255835, 0.20516326673828028, 0.16377944362655225, 0.19865436067738731, 0.19107688691721542, 0.20978471820915215, 0.16783264121503955, 0.14826706426271383, 0.12579165405327153, 0.11776173038754933, 0.1503595409488471, 0.16963274800265757, 0.1565291261924148, 0.13935114796197795, 0.12756662755681974, 0.13550161175443506, 0.13518991901394745, 0.17798316276655254, 0.15409509080408912, 0.17404571632395535, 0.1478394149675972, 0.15033352410803985, 0.19288823744292238, 0.14058824936427416, 0.13610445008985425, 0.114227516260063, 0.11160267492381792, 0.13012684785733233, 0.12693776314217448, 0.12824062274087197, 0.14525067573030823, 0.1307834256128552, 0.12882681013854919, 0.13875039037793285, 0.17087790236240025, 0.1572869027467448, 0.12123543591728987, 0.1286011176132204, 0.11872331252248047, 0.12183345570456401, 0.11256278822976766, 0.12130005408378865, 0.12384601700210773, 0.09820471457410314, 0.08666448279612435, 0.1130862146967488, 0.09205919181173035, 0.11791489043134211, 0.0948443237124134, 0.13220656460199914, 0.11801566201885826, 0.14700434466737505, 0.12936925363242596, 0.12042543480322246, 0.10595925024436696, 0.09831168317367937, 0.08752875807958573, 0.08733626160983814, 0.09143385611821644, 0.09679107064060088, 0.08304194365495456, 0.07791662601243778, 0.08686338368580093, 0.11593664058233003, 0.11134814415352837, 0.08164324563652844, 0.09668457463015674, 0.08802813956886754, 0.09877144942382657, 0.0834479031996095, 0.10133098203798357, 0.09646335608794691, 0.0972698308561927, 0.1149953734776582, 0.07500171716607724, 0.1011550900392193, 0.1094167539978291, 0.13188740760585663, 0.12490861563382802, 0.10530359466821937, 0.08489363248585759, 0.10157700834839596, 0.1005677699453036, 0.09349939085557071, 0.08789378913117503, 0.0951258180402368, 0.10439398589130423, 0.08530248663098439, 0.0899059831910846, 0.07327122332690729, 0.09747628398189934, 0.08412342287003649, 0.11089393964764899, 0.09154538594990932, 0.15020539593977608, 0.1044070577745473, 0.07900429771723227, 0.1457779297885662, 0.08694804367250945, 0.095423358877494, 0.08648885054673223, 0.07621079856184027, 0.16095013194742402, 0.10508168406411243, 0.0880060256250697, 0.09960144002965747, 0.11806056040933134, 0.07155522919828279, 0.07884094275571803, 0.08459676495389483, 0.07801106930367625, 0.08205522444412816, 0.07118204245332362, 0.07464396729489188, 0.08440029066056627, 0.07251163863028602, 0.07771285527073629, 0.07651534514334819, 0.0858751996529595, 0.0836456286668028, 0.1570984685726586, 0.09259681044259618, 0.07670938184327528, 0.07908836104632316, 0.12784476106240716, 0.1300231062635815, 0.07992174283134261, 0.09673352825534269, 0.12955320359821668, 0.0868881291082641, 0.07945177855029138, 0.06860337687422573, 0.08646357285681502, 0.08218386618647835, 0.08444517728429757, 0.0847030455817102, 0.0661140575175389, 0.10171287982664627, 0.09922680601759118, 0.08142630247448114, 0.07878425349283699, 0.07386983051166751, 0.072075867204574, 0.06908808617166512, 0.06622667627695655, 0.08158134300771051, 0.07940278639154273, 0.09894624489542414, 0.08363425970252028, 0.06965220300300722, 0.07065132827367418, 0.07302394433357037, 0.07095808812501063, 0.07388815720164284, 0.07736080406970702, 0.08546387491989053, 0.09437636120559256, 0.08025211114272258, 0.1164244979653792, 0.06575124323563347, 0.07763488397237908, 0.08513715782494662, 0.07104258835867934, 0.08271843395423169, 0.08390070597438408, 0.07995947733858363, 0.07941416431343294, 0.08124562245396001, 0.07705975107210256, 0.07417436531495201, 0.08842346079114605, 0.0625576239733547, 0.06985554633349426, 0.08876838414698172, 0.057135163921647594, 0.06762715651589776, 0.07454514676237346, 0.07449615182902887, 0.06335764386134422, 0.06342973062982167, 0.06535819522305805, 0.06206790689827723, 0.0905847225783559, 0.07423332806146282, 0.06707705814604685, 0.0707720840425367, 0.06933784131116502, 0.07015454638767918, 0.057473128808760716, 0.06569511580211833, 0.0611465963432684, 0.06147514056092824, 0.06958246758504738, 0.06719592741277584, 0.06053204069252963, 0.05795220328139024, 0.07598202124081371, 0.06016104360456454, 0.06464881944243278, 0.06607002215066866, 0.06027822140559767, 0.054832775071548726, 0.071669523396022, 0.048888184866709886, 0.049537562201478834, 0.06838597843474767, 0.060386811847069295, 0.060087721554934255, 0.06771679390695752, 0.07572820805679871, 0.06058220760387799, 0.061374186032512434, 0.0667877461373964, 0.06874555199391144, 0.0749699640716214, 0.07059289227098353, 0.07803423294003153, 0.06486556939349769, 0.06695757768501952, 0.06292286018177981, 0.09198581765875607, 0.06635650924463382, 0.07652839652588585, 0.06482947029224405, 0.07440367605881085, 0.06451185580881016, 0.07289578632616657, 0.06534652333724442, 0.05760241175867746, 0.059272102522532226, 0.05401572672271522, 0.06125603885356943, 0.054706526876577885, 0.05783059503952852, 0.05981447759352474, 0.06538977261081519, 0.054287083374129554, 0.047982639019522766, 0.052597013771445135, 0.06597678451944815, 0.04982746373414007, 0.05542093136926964, 0.06798160262477156, 0.051419139139839365, 0.05435586124490343, 0.06277994414798303, 0.05850942347051221, 0.06102626006570115, 0.06719291052362973, 0.056224947329880356, 0.05748535973978659, 0.05083472472089881, 0.057171686262462294, 0.05695360358986201, 0.05252947911055601, 0.05367346652530319, 0.07754032997552189, 0.07425363720575044, 0.0563531232887241, 0.05571967950737783, 0.05658536391874873, 0.052583345050569955, 0.05365873415492779, 0.05469461668848296, 0.04878634475034499, 0.05829605603699295, 0.050138010881510306, 0.05483070733658176, 0.05300945189689937, 0.052184869326161905, 0.05644967073527579, 0.05077980416908641, 0.057863882030609014, 0.06385847691654359, 0.05172179220398038, 0.06252482414306716, 0.04961701275423785, 0.06410346348247442, 0.05031111852047758, 0.051482645860586165, 0.04874778833691919, 0.05465949972872404, 0.05124696795802717, 0.05786277221997549, 0.05720114450604001, 0.05685516226564648, 0.06113285139205875, 0.05136393974333853], 'train_mae': [0.8129874308778582, 0.6062112114708025, 0.5455198329274079, 0.4709055011634539, 0.46911971702588745, 0.36788429870767686, 0.4474760774934909, 0.457742595897568, 0.41859201476994495, 0.337609954314707, 0.3511077306001679, 0.28832918985797423, 0.31688364292499777, 0.29405723229184144, 0.31551201497354414, 0.3074390170225487, 0.32630752149166564, 0.28783903622936957, 0.26762657318288424, 0.25582059315890116, 0.24757217790461444, 0.2669957858731897, 0.28583678103540827, 0.27700372931153033, 0.2530836953797411, 0.2516385628968546, 0.2570231563815002, 0.2520542056925043, 0.2938368441666624, 0.27532760154414154, 0.29765906095028394, 0.2727916236855895, 0.28409211460797684, 0.28843803359537973, 0.2564368174414257, 0.25693820815153956, 0.23359860168649454, 0.2383788692698483, 0.2455797395123881, 0.24549487140760076, 0.24914714633003193, 0.2541174318038776, 0.24733738023856566, 0.23819497607205561, 0.25080448423009266, 0.2631815915324223, 0.24779122320114133, 0.23655732821696787, 0.2412414923337963, 0.22838650848844963, 0.22658024184734274, 0.23031337393401216, 0.2309939179462692, 0.2446568632191768, 0.22307452786223805, 0.20882878885472492, 0.23849811011849392, 0.21979944001435253, 0.24006840154947162, 0.21864553386967486, 0.24401086287329182, 0.23631750662800352, 0.2495728453599543, 0.23524117365101832, 0.24397582943781523, 0.23960384761353898, 0.22529084636873029, 0.22536154241897602, 0.2152721275768722, 0.21911566909233834, 0.22389511100831522, 0.2102284853679846, 0.20325206978231056, 0.22019280024134413, 0.2429958831220802, 0.2375062697305617, 0.21161366633801815, 0.22350456302300162, 0.22087408059324534, 0.23327119407007518, 0.2035270970797802, 0.2210093485907659, 0.2161687196696632, 0.21882072516516124, 0.23272379829450468, 0.19772314303133462, 0.219293417328053, 0.2135821947056041, 0.2352888913690406, 0.25532054603097376, 0.23157484532994096, 0.21427275192402226, 0.22463831243819146, 0.2231600342864313, 0.21276268499920886, 0.20848978644664917, 0.21533194628941588, 0.22671086215917927, 0.21115553551858512, 0.2195354428045231, 0.19620393685079476, 0.2230441116504616, 0.20279855492189275, 0.21951130891301932, 0.21485748492843332, 0.22631521945006525, 0.22410810689745753, 0.1995807820308831, 0.22802983437813754, 0.19575157787690628, 0.21786829391222223, 0.19899902559938518, 0.20293320718637786, 0.24391045474539993, 0.2042522100662448, 0.20486254316687005, 0.20745060405254367, 0.21456752081668085, 0.19096937955354615, 0.2001598480349078, 0.2054676469468309, 0.19745384978724956, 0.21344987186926864, 0.19678248422488284, 0.19888137320813085, 0.21168542821403455, 0.2009446618022064, 0.20652712169572401, 0.1950870473262248, 0.21119549575063137, 0.19912328790537526, 0.24194235273968445, 0.22446475721365358, 0.20686721445861903, 0.20399139780535683, 0.21706139881069902, 0.22507980272332664, 0.20719544109806232, 0.21582853245028263, 0.23722541155471008, 0.20477064900658, 0.21024382363941196, 0.19261857327763254, 0.21018190304467424, 0.2140504750294355, 0.2113044959432776, 0.21453181759451234, 0.19020278519887193, 0.22496418069357688, 0.223090125122612, 0.21441291240702406, 0.2082494411995056, 0.20014653152176903, 0.2005211702891162, 0.19490248198088625, 0.19272067816948815, 0.20220097510399906, 0.20808577756749222, 0.21728443873244202, 0.19784656613873988, 0.19691186175153286, 0.19668700339283882, 0.19646632506168854, 0.19995049593934652, 0.199808970176364, 0.20440188694990205, 0.2120443099199508, 0.21504786562028108, 0.2034476099110757, 0.2199276541159705, 0.1861763273064109, 0.20252658112555932, 0.20725519845905022, 0.1935303776432303, 0.21010659956342895, 0.20743700244333665, 0.19927386782275786, 0.20039825607012987, 0.20860122830573438, 0.20838122545594806, 0.19285683798614003, 0.22266794043705257, 0.18252758558944285, 0.18691473511904821, 0.20219804700060695, 0.17714711907954034, 0.18920677496031632, 0.19601751428699576, 0.19696318169760738, 0.18650961451838688, 0.18306662851922323, 0.18837342699190862, 0.18235257590514475, 0.21055758521991502, 0.19113745397230197, 0.18354275904161968, 0.19690383960784316, 0.1919394828870124, 0.1940910092063472, 0.18167579862151623, 0.18667708625976712, 0.18666741384077892, 0.18472796286028428, 0.19558901947262308, 0.19152398236890492, 0.18070764748402326, 0.1734868608449687, 0.1961254896183082, 0.18361803011193442, 0.1880271881950797, 0.19300786743074497, 0.18193785876404103, 0.17025987928979847, 0.192607246330903, 0.1675150430813901, 0.16880098468550203, 0.1848177310345841, 0.17524262421390407, 0.18600023513292552, 0.18430379921658996, 0.20235079214430757, 0.1869416704379016, 0.17701269793398602, 0.1834328241826417, 0.19598175941595106, 0.1888209886197769, 0.18272577230209883, 0.19377200657118407, 0.1898101927714388, 0.19197132379235565, 0.1841849955445525, 0.20979419924164755, 0.19346882430083379, 0.19810728604733552, 0.18226595675856064, 0.1981048564259089, 0.19146160614338997, 0.1980269758865952, 0.19486976892771748, 0.17745466115691577, 0.18291779278001227, 0.1712502427458951, 0.18684258636873782, 0.17133891806711848, 0.17283628100974208, 0.17570245188219016, 0.1835977177544682, 0.17142672851046584, 0.16276440768918213, 0.16839282939467173, 0.19181858361024579, 0.16632064090135268, 0.17830540644032364, 0.18998495064501922, 0.16707981653481624, 0.1685076967657895, 0.18336988651262998, 0.17429027728339855, 0.1887250408286659, 0.18827424208725782, 0.17766855663734546, 0.17824844373033583, 0.1693212223048461, 0.17769828710005225, 0.1745216555085737, 0.172042108369234, 0.1731434453481068, 0.20057339299788224, 0.198677160661411, 0.17921376666954286, 0.17468383773294302, 0.17861790008791006, 0.1748395264268385, 0.1775337481274105, 0.17807879705333085, 0.16658058372630988, 0.1735937408098955, 0.16877625103004276, 0.17267023729303552, 0.17196942042470606, 0.16824479045447094, 0.17492618986828992, 0.1657925207541493, 0.1813674082903502, 0.19093525882164422, 0.1703651828384781, 0.1914946865858034, 0.16525969484260652, 0.19981083774009056, 0.16969938142336385, 0.17004690230848798, 0.16718335369675466, 0.17393804963714846, 0.16313848968904693, 0.17488734405877374, 0.17363865620745628, 0.17383533585597755, 0.17723604124953873, 0.16768866604628446]}\n"
     ]
    },
    {
     "data": {
      "application/scrapbook.scrap.json+json": {
       "data": 0.2707828334153688,
       "encoder": "json",
       "name": "TabNet MAE",
       "version": 1
      }
     },
     "metadata": {
      "scrapbook": {
       "data": true,
       "display": false,
       "name": "TabNet MAE"
      }
     },
     "output_type": "display_data"
    },
    {
     "name": "stdout",
     "output_type": "stream",
     "text": [
      "TabNet MAE 0.2707828334153688\n"
     ]
    },
    {
     "data": {
      "image/png": "[encoded data removed]",
      "text/plain": [
       "<Figure size 432x288 with 1 Axes>"
      ]
     },
     "metadata": {
      "needs_background": "light"
     },
     "output_type": "display_data"
    }
   ],
   "source": [
    "lr = 0.01\n",
    "\n",
    "y_train = np.reshape(y_train, (-1, 1))\n",
    "y_test = np.reshape(y_test, (-1, 1))\n",
    "\n",
    "device = torch.device('cuda' if torch.cuda.is_available() else 'cpu')\n",
    "mae_tab= baselineModels.tabnetreg(X_train,y_train,X_test,y_test,batch_size,n_features,n_target,n_epochs, lr)\n",
    "sb.glue(\"TabNet MAE\",mae_tab)\n",
    "print(\"TabNet MAE\",mae_tab)"
   ]
  }
 ],
 "metadata": {
  "kernelspec": {
   "display_name": "Python 3.7.3 64-bit",
   "language": "python",
   "name": "python3"
  },
  "language_info": {
   "codemirror_mode": {
    "name": "ipython",
    "version": 3
   },
   "file_extension": ".py",
   "mimetype": "text/x-python",
   "name": "python",
   "nbconvert_exporter": "python",
   "pygments_lexer": "ipython3",
   "version": "3.8.13"
  },
  "papermill": {
   "default_parameters": {},
   "duration": 172.838166,
   "end_time": "2022-07-21T10:20:07.026349",
   "environment_variables": {},
   "exception": null,
   "input_path": "BaselineModels.ipynb",
   "output_path": "./BaseLine_Model_Output/BaselineModels_output_2.ipynb",
   "parameters": {},
   "start_time": "2022-07-21T10:17:14.188183",
   "version": "2.3.3"
  },
  "vscode": {
   "interpreter": {
    "hash": "aee8b7b246df8f9039afb4144a1f6fd8d2ca17a180786b69acc140d282b71a49"
   }
  }
 },
 "nbformat": 4,
 "nbformat_minor": 5
}