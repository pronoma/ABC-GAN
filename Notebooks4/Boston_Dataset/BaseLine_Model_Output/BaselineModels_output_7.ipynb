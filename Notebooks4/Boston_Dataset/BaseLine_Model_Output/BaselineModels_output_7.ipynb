{
 "cells": [
  {
   "cell_type": "markdown",
   "id": "b3be5a78",
   "metadata": {
    "papermill": {
     "duration": 0.011932,
     "end_time": "2022-07-21T10:31:46.718348",
     "exception": false,
     "start_time": "2022-07-21T10:31:46.706416",
     "status": "completed"
    },
    "tags": []
   },
   "source": [
    "## Import Libraries "
   ]
  },
  {
   "cell_type": "code",
   "execution_count": 1,
   "id": "8003f493",
   "metadata": {
    "execution": {
     "iopub.execute_input": "2022-07-21T10:31:46.747033Z",
     "iopub.status.busy": "2022-07-21T10:31:46.744652Z",
     "iopub.status.idle": "2022-07-21T10:31:46.794834Z",
     "shell.execute_reply": "2022-07-21T10:31:46.791197Z"
    },
    "papermill": {
     "duration": 0.073132,
     "end_time": "2022-07-21T10:31:46.798394",
     "exception": false,
     "start_time": "2022-07-21T10:31:46.725262",
     "status": "completed"
    },
    "tags": []
   },
   "outputs": [],
   "source": [
    "import warnings\n",
    "import sys\n",
    "sys.path.insert(0, '../../src')\n",
    "warnings.filterwarnings('ignore')"
   ]
  },
  {
   "cell_type": "code",
   "execution_count": 2,
   "id": "0778876f",
   "metadata": {
    "execution": {
     "iopub.execute_input": "2022-07-21T10:31:46.812601Z",
     "iopub.status.busy": "2022-07-21T10:31:46.812188Z",
     "iopub.status.idle": "2022-07-21T10:31:55.903467Z",
     "shell.execute_reply": "2022-07-21T10:31:55.902329Z"
    },
    "papermill": {
     "duration": 9.102258,
     "end_time": "2022-07-21T10:31:55.906912",
     "exception": false,
     "start_time": "2022-07-21T10:31:46.804654",
     "status": "completed"
    },
    "tags": []
   },
   "outputs": [],
   "source": [
    "import statsModel\n",
    "import scrapbook as sb \n",
    "import torch \n",
    "import statsModel\n",
    "import baselineModels\n",
    "import bostonDataset\n",
    "import dataset \n",
    "from torch.utils.data import random_split \n",
    "from sklearn.model_selection import train_test_split\n",
    "import numpy as np\n",
    "from sklearn.metrics import mean_squared_error,mean_absolute_error "
   ]
  },
  {
   "cell_type": "markdown",
   "id": "bad21cfe",
   "metadata": {
    "papermill": {
     "duration": 0.004661,
     "end_time": "2022-07-21T10:31:55.970000",
     "exception": false,
     "start_time": "2022-07-21T10:31:55.965339",
     "status": "completed"
    },
    "tags": []
   },
   "source": [
    "## Import Dataset \n"
   ]
  },
  {
   "cell_type": "code",
   "execution_count": 3,
   "id": "b4cc00c2",
   "metadata": {
    "execution": {
     "iopub.execute_input": "2022-07-21T10:31:55.982905Z",
     "iopub.status.busy": "2022-07-21T10:31:55.982064Z",
     "iopub.status.idle": "2022-07-21T10:31:56.032219Z",
     "shell.execute_reply": "2022-07-21T10:31:56.028800Z"
    },
    "papermill": {
     "duration": 0.06128,
     "end_time": "2022-07-21T10:31:56.035484",
     "exception": false,
     "start_time": "2022-07-21T10:31:55.974204",
     "status": "completed"
    },
    "tags": []
   },
   "outputs": [
    {
     "name": "stdout",
     "output_type": "stream",
     "text": [
      "         X1        X2        X3        X4        X5        X6        X7  \\\n",
      "0 -0.419782  0.284830 -1.287909 -0.272599 -0.144217  0.413672 -0.120013   \n",
      "1 -0.417339 -0.487722 -0.593381 -0.272599 -0.740262  0.194274  0.367166   \n",
      "2 -0.417342 -0.487722 -0.593381 -0.272599 -0.740262  1.282714 -0.265812   \n",
      "3 -0.416750 -0.487722 -1.306878 -0.272599 -0.835284  1.016303 -0.809889   \n",
      "4 -0.412482 -0.487722 -1.306878 -0.272599 -0.835284  1.228577 -0.511180   \n",
      "\n",
      "         X8        X9       X10       X11       X12       X13         Y  \n",
      "0  0.140214 -0.982843 -0.666608 -1.459000  0.441052 -1.075562  0.159686  \n",
      "1  0.557160 -0.867883 -0.987329 -0.303094  0.441052 -0.492439 -0.101524  \n",
      "2  0.557160 -0.867883 -0.987329 -0.303094  0.396427 -1.208727  1.324247  \n",
      "3  1.077737 -0.752922 -1.106115  0.113032  0.416163 -1.361517  1.182758  \n",
      "4  1.077737 -0.752922 -1.106115  0.113032  0.441052 -1.026501  1.487503  \n"
     ]
    }
   ],
   "source": [
    "n_features = 13\n",
    "n_samples= 506\n",
    "n_target = 1 \n",
    "X,Y = bostonDataset.boston_data()"
   ]
  },
  {
   "cell_type": "code",
   "execution_count": 4,
   "id": "76b726a9",
   "metadata": {
    "execution": {
     "iopub.execute_input": "2022-07-21T10:31:56.044763Z",
     "iopub.status.busy": "2022-07-21T10:31:56.044444Z",
     "iopub.status.idle": "2022-07-21T10:31:56.049779Z",
     "shell.execute_reply": "2022-07-21T10:31:56.048826Z"
    },
    "papermill": {
     "duration": 0.012669,
     "end_time": "2022-07-21T10:31:56.052201",
     "exception": false,
     "start_time": "2022-07-21T10:31:56.039532",
     "status": "completed"
    },
    "tags": []
   },
   "outputs": [],
   "source": [
    "# Train test split for dataset \n",
    "real_dataset = dataset.CustomDataset(X,Y)\n",
    "X_train, X_test, y_train, y_test = train_test_split(X, Y, test_size=0.2)"
   ]
  },
  {
   "cell_type": "markdown",
   "id": "0d4b9120",
   "metadata": {
    "papermill": {
     "duration": 0.003247,
     "end_time": "2022-07-21T10:31:56.059014",
     "exception": false,
     "start_time": "2022-07-21T10:31:56.055767",
     "status": "completed"
    },
    "tags": []
   },
   "source": [
    "## Stats Model \n",
    "\n"
   ]
  },
  {
   "cell_type": "code",
   "execution_count": 5,
   "id": "0dad6228",
   "metadata": {
    "execution": {
     "iopub.execute_input": "2022-07-21T10:31:56.067872Z",
     "iopub.status.busy": "2022-07-21T10:31:56.067565Z",
     "iopub.status.idle": "2022-07-21T10:31:56.288926Z",
     "shell.execute_reply": "2022-07-21T10:31:56.287301Z"
    },
    "papermill": {
     "duration": 0.229554,
     "end_time": "2022-07-21T10:31:56.291969",
     "exception": false,
     "start_time": "2022-07-21T10:31:56.062415",
     "status": "completed"
    },
    "tags": []
   },
   "outputs": [
    {
     "name": "stderr",
     "output_type": "stream",
     "text": [
      "No artists with labels found to put in legend.  Note that artists whose label start with an underscore are ignored when legend() is called with no argument.\n"
     ]
    },
    {
     "name": "stdout",
     "output_type": "stream",
     "text": [
      "                                 OLS Regression Results                                \n",
      "=======================================================================================\n",
      "Dep. Variable:                      y   R-squared (uncentered):                   0.732\n",
      "Model:                            OLS   Adj. R-squared (uncentered):              0.723\n",
      "Method:                 Least Squares   F-statistic:                              82.07\n",
      "Date:                Thu, 21 Jul 2022   Prob (F-statistic):                   5.03e-103\n",
      "Time:                        16:01:56   Log-Likelihood:                         -306.31\n",
      "No. Observations:                 404   AIC:                                      638.6\n",
      "Df Residuals:                     391   BIC:                                      690.6\n",
      "Df Model:                          13                                                  \n",
      "Covariance Type:            nonrobust                                                  \n",
      "==============================================================================\n",
      "                 coef    std err          t      P>|t|      [0.025      0.975]\n",
      "------------------------------------------------------------------------------\n",
      "x1            -0.1014      0.038     -2.655      0.008      -0.177      -0.026\n",
      "x2             0.1147      0.040      2.833      0.005       0.035       0.194\n",
      "x3             0.0124      0.052      0.240      0.811      -0.089       0.114\n",
      "x4             0.1102      0.028      3.883      0.000       0.054       0.166\n",
      "x5            -0.2215      0.056     -3.928      0.000      -0.332      -0.111\n",
      "x6             0.2821      0.037      7.677      0.000       0.210       0.354\n",
      "x7            -0.0076      0.046     -0.165      0.869      -0.099       0.084\n",
      "x8            -0.3334      0.052     -6.415      0.000      -0.436      -0.231\n",
      "x9             0.2979      0.070      4.263      0.000       0.160       0.435\n",
      "x10           -0.2277      0.075     -3.026      0.003      -0.376      -0.080\n",
      "x11           -0.2043      0.035     -5.819      0.000      -0.273      -0.135\n",
      "x12            0.0789      0.031      2.538      0.012       0.018       0.140\n",
      "x13           -0.4151      0.044     -9.504      0.000      -0.501      -0.329\n",
      "==============================================================================\n",
      "Omnibus:                      153.646   Durbin-Watson:                   1.905\n",
      "Prob(Omnibus):                  0.000   Jarque-Bera (JB):              635.429\n",
      "Skew:                           1.647   Prob(JB):                    1.04e-138\n",
      "Kurtosis:                       8.187   Cond. No.                         9.45\n",
      "==============================================================================\n",
      "\n",
      "Notes:\n",
      "[1] R² is computed without centering (uncentered) since the model does not contain a constant.\n",
      "[2] Standard Errors assume that the covariance matrix of the errors is correctly specified.\n"
     ]
    },
    {
     "data": {
      "image/png": "[encoded data removed]",
      "text/plain": [
       "<Figure size 432x288 with 1 Axes>"
      ]
     },
     "metadata": {
      "needs_background": "light"
     },
     "output_type": "display_data"
    },
    {
     "name": "stdout",
     "output_type": "stream",
     "text": [
      "Performance Metrics\n",
      "Mean Squared Error: 0.23900058278195332\n",
      "Mean Absolute Error: 0.36633863322294646\n",
      "Manhattan distance: 37.36654058874054\n",
      "Euclidean distance: 4.93741424672462\n"
     ]
    },
    {
     "data": {
      "application/scrapbook.scrap.json+json": {
       "data": 0.23900058278195332,
       "encoder": "json",
       "name": "Stats Model MSE",
       "version": 1
      }
     },
     "metadata": {
      "scrapbook": {
       "data": true,
       "display": false,
       "name": "Stats Model MSE"
      }
     },
     "output_type": "display_data"
    },
    {
     "data": {
      "application/scrapbook.scrap.json+json": {
       "data": 0.36633863322294646,
       "encoder": "json",
       "name": "Stats Model MAE",
       "version": 1
      }
     },
     "metadata": {
      "scrapbook": {
       "data": true,
       "display": false,
       "name": "Stats Model MAE"
      }
     },
     "output_type": "display_data"
    },
    {
     "data": {
      "application/scrapbook.scrap.json+json": {
       "data": 37.36654058874054,
       "encoder": "json",
       "name": "Stats Model Manhattan Distance",
       "version": 1
      }
     },
     "metadata": {
      "scrapbook": {
       "data": true,
       "display": false,
       "name": "Stats Model Manhattan Distance"
      }
     },
     "output_type": "display_data"
    },
    {
     "data": {
      "application/scrapbook.scrap.json+json": {
       "data": 4.93741424672462,
       "encoder": "json",
       "name": "Stats Model Euclidean distance",
       "version": 1
      }
     },
     "metadata": {
      "scrapbook": {
       "data": true,
       "display": false,
       "name": "Stats Model Euclidean distance"
      }
     },
     "output_type": "display_data"
    },
    {
     "data": {
      "application/scrapbook.scrap.json+json": {
       "data": [
        -0.10141035295126988,
        0.1147324176964049,
        0.01239971238409016,
        0.11018478744143137,
        -0.22154340841554127,
        0.2821190313330394,
        -0.007643503211405167,
        -0.33337269748827547,
        0.2978883248942094,
        -0.22768445373065904,
        -0.20430655557462543,
        0.0788991379603917,
        -0.4150948900227626
       ],
       "encoder": "json",
       "name": "Coefficients",
       "version": 1
      }
     },
     "metadata": {
      "scrapbook": {
       "data": true,
       "display": false,
       "name": "Coefficients"
      }
     },
     "output_type": "display_data"
    },
    {
     "name": "stdout",
     "output_type": "stream",
     "text": [
      "Stats Model MAE 0.36633863322294646\n"
     ]
    }
   ],
   "source": [
    "coefficients , y_pred =statsModel.statsModel(X_train,y_train,X_test,y_test)\n",
    "#Store MSE Value \n",
    "sb.glue(\"Coefficients\",coefficients)\n",
    "mae = mean_absolute_error(y_pred, y_test)\n",
    "print(\"Stats Model MAE\", mae)"
   ]
  },
  {
   "cell_type": "markdown",
   "id": "5427c5d7",
   "metadata": {
    "papermill": {
     "duration": 0.005239,
     "end_time": "2022-07-21T10:31:56.303342",
     "exception": false,
     "start_time": "2022-07-21T10:31:56.298103",
     "status": "completed"
    },
    "tags": []
   },
   "source": [
    "# Catboost Model "
   ]
  },
  {
   "cell_type": "code",
   "execution_count": 6,
   "id": "c2a6d2b5",
   "metadata": {
    "execution": {
     "iopub.execute_input": "2022-07-21T10:31:56.317167Z",
     "iopub.status.busy": "2022-07-21T10:31:56.316874Z",
     "iopub.status.idle": "2022-07-21T10:31:58.514574Z",
     "shell.execute_reply": "2022-07-21T10:31:58.513918Z"
    },
    "papermill": {
     "duration": 2.20941,
     "end_time": "2022-07-21T10:31:58.518702",
     "exception": false,
     "start_time": "2022-07-21T10:31:56.309292",
     "status": "completed"
    },
    "tags": []
   },
   "outputs": [
    {
     "name": "stdout",
     "output_type": "stream",
     "text": [
      "Learning rate set to 0.03548\n",
      "0:\tlearn: 0.9753160\ttotal: 61ms\tremaining: 1m\n",
      "1:\tlearn: 0.9540879\ttotal: 63.9ms\tremaining: 31.9s\n",
      "2:\tlearn: 0.9349576\ttotal: 65.8ms\tremaining: 21.9s\n",
      "3:\tlearn: 0.9201067\ttotal: 67.7ms\tremaining: 16.8s\n",
      "4:\tlearn: 0.9017603\ttotal: 69.4ms\tremaining: 13.8s\n",
      "5:\tlearn: 0.8876481\ttotal: 71.9ms\tremaining: 11.9s\n",
      "6:\tlearn: 0.8709270\ttotal: 74.7ms\tremaining: 10.6s\n",
      "7:\tlearn: 0.8537637\ttotal: 77.3ms\tremaining: 9.59s\n",
      "8:\tlearn: 0.8385641\ttotal: 80.1ms\tremaining: 8.82s\n",
      "9:\tlearn: 0.8218449\ttotal: 83.1ms\tremaining: 8.22s\n",
      "10:\tlearn: 0.8082772\ttotal: 85.4ms\tremaining: 7.68s\n",
      "11:\tlearn: 0.7934005\ttotal: 87.8ms\tremaining: 7.23s\n",
      "12:\tlearn: 0.7781130\ttotal: 89.6ms\tremaining: 6.8s\n",
      "13:\tlearn: 0.7633154\ttotal: 91.2ms\tremaining: 6.42s\n",
      "14:\tlearn: 0.7505343\ttotal: 92.7ms\tremaining: 6.08s\n",
      "15:\tlearn: 0.7368185\ttotal: 94.1ms\tremaining: 5.79s\n",
      "16:\tlearn: 0.7256291\ttotal: 95.6ms\tremaining: 5.53s\n",
      "17:\tlearn: 0.7122400\ttotal: 97.2ms\tremaining: 5.3s\n",
      "18:\tlearn: 0.7003038\ttotal: 98.7ms\tremaining: 5.1s\n",
      "19:\tlearn: 0.6876355\ttotal: 100ms\tremaining: 4.91s\n",
      "20:\tlearn: 0.6735847\ttotal: 102ms\tremaining: 4.74s\n",
      "21:\tlearn: 0.6634944\ttotal: 104ms\tremaining: 4.61s\n",
      "22:\tlearn: 0.6508765\ttotal: 105ms\tremaining: 4.46s\n",
      "23:\tlearn: 0.6420835\ttotal: 107ms\tremaining: 4.33s\n",
      "24:\tlearn: 0.6325356\ttotal: 108ms\tremaining: 4.21s\n",
      "25:\tlearn: 0.6224828\ttotal: 109ms\tremaining: 4.09s\n",
      "26:\tlearn: 0.6135779\ttotal: 111ms\tremaining: 4s\n",
      "27:\tlearn: 0.6050675\ttotal: 112ms\tremaining: 3.9s\n",
      "28:\tlearn: 0.5959066\ttotal: 114ms\tremaining: 3.81s\n",
      "29:\tlearn: 0.5867449\ttotal: 115ms\tremaining: 3.73s\n",
      "30:\tlearn: 0.5771518\ttotal: 117ms\tremaining: 3.65s\n",
      "31:\tlearn: 0.5691182\ttotal: 119ms\tremaining: 3.6s\n",
      "32:\tlearn: 0.5624456\ttotal: 120ms\tremaining: 3.52s\n",
      "33:\tlearn: 0.5552634\ttotal: 122ms\tremaining: 3.46s\n",
      "34:\tlearn: 0.5488539\ttotal: 123ms\tremaining: 3.39s\n",
      "35:\tlearn: 0.5416077\ttotal: 124ms\tremaining: 3.33s\n",
      "36:\tlearn: 0.5359147\ttotal: 126ms\tremaining: 3.28s\n"
     ]
    },
    {
     "name": "stdout",
     "output_type": "stream",
     "text": [
      "37:\tlearn: 0.5290816\ttotal: 128ms\tremaining: 3.24s\n",
      "38:\tlearn: 0.5226610\ttotal: 130ms\tremaining: 3.19s\n",
      "39:\tlearn: 0.5159285\ttotal: 131ms\tremaining: 3.15s\n",
      "40:\tlearn: 0.5099424\ttotal: 132ms\tremaining: 3.1s\n",
      "41:\tlearn: 0.5023425\ttotal: 134ms\tremaining: 3.05s\n",
      "42:\tlearn: 0.4962343\ttotal: 135ms\tremaining: 3.01s\n",
      "43:\tlearn: 0.4906689\ttotal: 136ms\tremaining: 2.96s\n",
      "44:\tlearn: 0.4838023\ttotal: 138ms\tremaining: 2.93s\n",
      "45:\tlearn: 0.4771189\ttotal: 139ms\tremaining: 2.88s\n"
     ]
    },
    {
     "name": "stdout",
     "output_type": "stream",
     "text": [
      "46:\tlearn: 0.4717942\ttotal: 140ms\tremaining: 2.85s\n",
      "47:\tlearn: 0.4661926\ttotal: 143ms\tremaining: 2.83s\n",
      "48:\tlearn: 0.4618642\ttotal: 145ms\tremaining: 2.81s\n",
      "49:\tlearn: 0.4561687\ttotal: 146ms\tremaining: 2.77s\n",
      "50:\tlearn: 0.4508413\ttotal: 147ms\tremaining: 2.74s\n",
      "51:\tlearn: 0.4460939\ttotal: 149ms\tremaining: 2.71s\n",
      "52:\tlearn: 0.4415839\ttotal: 150ms\tremaining: 2.68s\n",
      "53:\tlearn: 0.4373957\ttotal: 151ms\tremaining: 2.65s\n",
      "54:\tlearn: 0.4331461\ttotal: 153ms\tremaining: 2.62s\n",
      "55:\tlearn: 0.4292343\ttotal: 154ms\tremaining: 2.59s\n",
      "56:\tlearn: 0.4260481\ttotal: 155ms\tremaining: 2.57s\n",
      "57:\tlearn: 0.4217669\ttotal: 157ms\tremaining: 2.55s\n",
      "58:\tlearn: 0.4185445\ttotal: 158ms\tremaining: 2.52s\n",
      "59:\tlearn: 0.4137961\ttotal: 160ms\tremaining: 2.5s\n",
      "60:\tlearn: 0.4096956\ttotal: 161ms\tremaining: 2.48s\n",
      "61:\tlearn: 0.4049549\ttotal: 162ms\tremaining: 2.46s\n",
      "62:\tlearn: 0.4012941\ttotal: 164ms\tremaining: 2.44s\n",
      "63:\tlearn: 0.3974568\ttotal: 165ms\tremaining: 2.42s\n",
      "64:\tlearn: 0.3949750\ttotal: 167ms\tremaining: 2.4s\n",
      "65:\tlearn: 0.3921361\ttotal: 168ms\tremaining: 2.38s\n",
      "66:\tlearn: 0.3884208\ttotal: 169ms\tremaining: 2.36s\n",
      "67:\tlearn: 0.3843217\ttotal: 171ms\tremaining: 2.34s\n",
      "68:\tlearn: 0.3816508\ttotal: 172ms\tremaining: 2.32s\n",
      "69:\tlearn: 0.3781956\ttotal: 173ms\tremaining: 2.3s\n",
      "70:\tlearn: 0.3744654\ttotal: 174ms\tremaining: 2.28s\n",
      "71:\tlearn: 0.3704710\ttotal: 176ms\tremaining: 2.27s\n"
     ]
    },
    {
     "name": "stdout",
     "output_type": "stream",
     "text": [
      "72:\tlearn: 0.3683442\ttotal: 177ms\tremaining: 2.25s\n",
      "73:\tlearn: 0.3648257\ttotal: 179ms\tremaining: 2.24s\n",
      "74:\tlearn: 0.3619642\ttotal: 180ms\tremaining: 2.22s\n",
      "75:\tlearn: 0.3594787\ttotal: 182ms\tremaining: 2.21s\n",
      "76:\tlearn: 0.3568648\ttotal: 183ms\tremaining: 2.19s\n",
      "77:\tlearn: 0.3546371\ttotal: 186ms\tremaining: 2.19s\n",
      "78:\tlearn: 0.3527424\ttotal: 187ms\tremaining: 2.19s\n",
      "79:\tlearn: 0.3508685\ttotal: 190ms\tremaining: 2.18s\n",
      "80:\tlearn: 0.3485178\ttotal: 192ms\tremaining: 2.18s\n",
      "81:\tlearn: 0.3456221\ttotal: 194ms\tremaining: 2.17s\n",
      "82:\tlearn: 0.3438787\ttotal: 197ms\tremaining: 2.17s\n",
      "83:\tlearn: 0.3415425\ttotal: 199ms\tremaining: 2.17s\n",
      "84:\tlearn: 0.3396840\ttotal: 202ms\tremaining: 2.17s\n",
      "85:\tlearn: 0.3370644\ttotal: 204ms\tremaining: 2.17s\n",
      "86:\tlearn: 0.3347810\ttotal: 207ms\tremaining: 2.17s\n",
      "87:\tlearn: 0.3327740\ttotal: 210ms\tremaining: 2.17s\n",
      "88:\tlearn: 0.3306029\ttotal: 212ms\tremaining: 2.17s\n",
      "89:\tlearn: 0.3281592\ttotal: 218ms\tremaining: 2.21s\n",
      "90:\tlearn: 0.3265586\ttotal: 221ms\tremaining: 2.21s\n",
      "91:\tlearn: 0.3249531\ttotal: 224ms\tremaining: 2.21s\n",
      "92:\tlearn: 0.3231693\ttotal: 227ms\tremaining: 2.21s\n",
      "93:\tlearn: 0.3211653\ttotal: 231ms\tremaining: 2.23s\n",
      "94:\tlearn: 0.3191729\ttotal: 236ms\tremaining: 2.25s\n",
      "95:\tlearn: 0.3182640\ttotal: 237ms\tremaining: 2.24s\n",
      "96:\tlearn: 0.3169324\ttotal: 239ms\tremaining: 2.22s\n",
      "97:\tlearn: 0.3148633\ttotal: 240ms\tremaining: 2.21s\n",
      "98:\tlearn: 0.3129056\ttotal: 242ms\tremaining: 2.2s\n",
      "99:\tlearn: 0.3117534\ttotal: 244ms\tremaining: 2.2s\n",
      "100:\tlearn: 0.3097728\ttotal: 247ms\tremaining: 2.19s\n",
      "101:\tlearn: 0.3081390\ttotal: 249ms\tremaining: 2.19s\n",
      "102:\tlearn: 0.3066978\ttotal: 252ms\tremaining: 2.19s\n",
      "103:\tlearn: 0.3049946\ttotal: 255ms\tremaining: 2.19s\n",
      "104:\tlearn: 0.3039584\ttotal: 256ms\tremaining: 2.18s\n",
      "105:\tlearn: 0.3030350\ttotal: 259ms\tremaining: 2.18s\n",
      "106:\tlearn: 0.3014015\ttotal: 263ms\tremaining: 2.19s\n",
      "107:\tlearn: 0.3000570\ttotal: 265ms\tremaining: 2.19s\n",
      "108:\tlearn: 0.2985696\ttotal: 267ms\tremaining: 2.18s\n",
      "109:\tlearn: 0.2971923\ttotal: 268ms\tremaining: 2.17s\n",
      "110:\tlearn: 0.2958130\ttotal: 270ms\tremaining: 2.16s\n",
      "111:\tlearn: 0.2946048\ttotal: 271ms\tremaining: 2.15s\n",
      "112:\tlearn: 0.2930605\ttotal: 273ms\tremaining: 2.14s\n",
      "113:\tlearn: 0.2919717\ttotal: 277ms\tremaining: 2.15s\n",
      "114:\tlearn: 0.2910132\ttotal: 279ms\tremaining: 2.14s\n",
      "115:\tlearn: 0.2897367\ttotal: 280ms\tremaining: 2.13s\n"
     ]
    },
    {
     "name": "stdout",
     "output_type": "stream",
     "text": [
      "116:\tlearn: 0.2880623\ttotal: 281ms\tremaining: 2.12s\n",
      "117:\tlearn: 0.2869660\ttotal: 283ms\tremaining: 2.11s\n",
      "118:\tlearn: 0.2859804\ttotal: 285ms\tremaining: 2.11s\n",
      "119:\tlearn: 0.2849059\ttotal: 286ms\tremaining: 2.1s\n",
      "120:\tlearn: 0.2835010\ttotal: 288ms\tremaining: 2.09s\n",
      "121:\tlearn: 0.2823664\ttotal: 289ms\tremaining: 2.08s\n",
      "122:\tlearn: 0.2814144\ttotal: 293ms\tremaining: 2.09s\n",
      "123:\tlearn: 0.2804661\ttotal: 295ms\tremaining: 2.08s\n",
      "124:\tlearn: 0.2794609\ttotal: 297ms\tremaining: 2.08s\n"
     ]
    },
    {
     "name": "stdout",
     "output_type": "stream",
     "text": [
      "125:\tlearn: 0.2784290\ttotal: 303ms\tremaining: 2.1s\n",
      "126:\tlearn: 0.2770761\ttotal: 305ms\tremaining: 2.1s\n",
      "127:\tlearn: 0.2761221\ttotal: 307ms\tremaining: 2.09s\n",
      "128:\tlearn: 0.2751504\ttotal: 310ms\tremaining: 2.09s\n",
      "129:\tlearn: 0.2740152\ttotal: 311ms\tremaining: 2.08s\n",
      "130:\tlearn: 0.2730823\ttotal: 313ms\tremaining: 2.07s\n",
      "131:\tlearn: 0.2721729\ttotal: 314ms\tremaining: 2.07s\n",
      "132:\tlearn: 0.2715058\ttotal: 315ms\tremaining: 2.05s\n",
      "133:\tlearn: 0.2706349\ttotal: 316ms\tremaining: 2.04s\n",
      "134:\tlearn: 0.2697010\ttotal: 318ms\tremaining: 2.04s\n",
      "135:\tlearn: 0.2686459\ttotal: 319ms\tremaining: 2.03s\n",
      "136:\tlearn: 0.2676226\ttotal: 320ms\tremaining: 2.02s\n",
      "137:\tlearn: 0.2669789\ttotal: 322ms\tremaining: 2.01s\n",
      "138:\tlearn: 0.2663150\ttotal: 323ms\tremaining: 2s\n",
      "139:\tlearn: 0.2655879\ttotal: 324ms\tremaining: 1.99s\n",
      "140:\tlearn: 0.2648844\ttotal: 326ms\tremaining: 1.98s\n",
      "141:\tlearn: 0.2641040\ttotal: 327ms\tremaining: 1.97s\n",
      "142:\tlearn: 0.2626971\ttotal: 328ms\tremaining: 1.97s\n",
      "143:\tlearn: 0.2612371\ttotal: 330ms\tremaining: 1.96s\n",
      "144:\tlearn: 0.2604438\ttotal: 331ms\tremaining: 1.95s\n",
      "145:\tlearn: 0.2592529\ttotal: 333ms\tremaining: 1.95s\n"
     ]
    },
    {
     "name": "stdout",
     "output_type": "stream",
     "text": [
      "146:\tlearn: 0.2583705\ttotal: 336ms\tremaining: 1.95s\n",
      "147:\tlearn: 0.2574508\ttotal: 338ms\tremaining: 1.95s\n",
      "148:\tlearn: 0.2567036\ttotal: 340ms\tremaining: 1.94s\n",
      "149:\tlearn: 0.2559248\ttotal: 341ms\tremaining: 1.93s\n",
      "150:\tlearn: 0.2550549\ttotal: 342ms\tremaining: 1.92s\n",
      "151:\tlearn: 0.2544996\ttotal: 344ms\tremaining: 1.92s\n",
      "152:\tlearn: 0.2535626\ttotal: 345ms\tremaining: 1.91s\n",
      "153:\tlearn: 0.2526138\ttotal: 346ms\tremaining: 1.9s\n",
      "154:\tlearn: 0.2517077\ttotal: 347ms\tremaining: 1.89s\n",
      "155:\tlearn: 0.2509357\ttotal: 349ms\tremaining: 1.89s\n",
      "156:\tlearn: 0.2501142\ttotal: 351ms\tremaining: 1.88s\n",
      "157:\tlearn: 0.2493572\ttotal: 352ms\tremaining: 1.88s\n",
      "158:\tlearn: 0.2486422\ttotal: 353ms\tremaining: 1.87s\n",
      "159:\tlearn: 0.2479796\ttotal: 354ms\tremaining: 1.86s\n",
      "160:\tlearn: 0.2471571\ttotal: 356ms\tremaining: 1.85s\n",
      "161:\tlearn: 0.2464351\ttotal: 357ms\tremaining: 1.85s\n",
      "162:\tlearn: 0.2459775\ttotal: 358ms\tremaining: 1.84s\n",
      "163:\tlearn: 0.2452281\ttotal: 360ms\tremaining: 1.83s\n",
      "164:\tlearn: 0.2442093\ttotal: 361ms\tremaining: 1.83s\n",
      "165:\tlearn: 0.2434358\ttotal: 362ms\tremaining: 1.82s\n",
      "166:\tlearn: 0.2426795\ttotal: 364ms\tremaining: 1.82s\n",
      "167:\tlearn: 0.2419455\ttotal: 365ms\tremaining: 1.81s\n",
      "168:\tlearn: 0.2414389\ttotal: 368ms\tremaining: 1.81s\n",
      "169:\tlearn: 0.2408227\ttotal: 370ms\tremaining: 1.8s\n",
      "170:\tlearn: 0.2400682\ttotal: 372ms\tremaining: 1.8s\n",
      "171:\tlearn: 0.2392214\ttotal: 374ms\tremaining: 1.8s\n",
      "172:\tlearn: 0.2384404\ttotal: 377ms\tremaining: 1.8s\n",
      "173:\tlearn: 0.2377755\ttotal: 379ms\tremaining: 1.8s\n",
      "174:\tlearn: 0.2372845\ttotal: 380ms\tremaining: 1.79s\n",
      "175:\tlearn: 0.2368043\ttotal: 383ms\tremaining: 1.79s\n",
      "176:\tlearn: 0.2362414\ttotal: 385ms\tremaining: 1.79s\n",
      "177:\tlearn: 0.2354867\ttotal: 388ms\tremaining: 1.79s\n",
      "178:\tlearn: 0.2347109\ttotal: 390ms\tremaining: 1.79s\n",
      "179:\tlearn: 0.2340389\ttotal: 392ms\tremaining: 1.79s\n",
      "180:\tlearn: 0.2332025\ttotal: 394ms\tremaining: 1.78s\n",
      "181:\tlearn: 0.2326271\ttotal: 396ms\tremaining: 1.78s\n",
      "182:\tlearn: 0.2319050\ttotal: 398ms\tremaining: 1.78s\n",
      "183:\tlearn: 0.2310989\ttotal: 400ms\tremaining: 1.77s\n",
      "184:\tlearn: 0.2302039\ttotal: 402ms\tremaining: 1.77s\n",
      "185:\tlearn: 0.2294518\ttotal: 404ms\tremaining: 1.77s\n",
      "186:\tlearn: 0.2285318\ttotal: 406ms\tremaining: 1.77s\n",
      "187:\tlearn: 0.2280467\ttotal: 408ms\tremaining: 1.76s\n",
      "188:\tlearn: 0.2274079\ttotal: 411ms\tremaining: 1.76s\n",
      "189:\tlearn: 0.2265620\ttotal: 413ms\tremaining: 1.76s\n",
      "190:\tlearn: 0.2258899\ttotal: 415ms\tremaining: 1.76s\n",
      "191:\tlearn: 0.2252924\ttotal: 417ms\tremaining: 1.75s\n",
      "192:\tlearn: 0.2247446\ttotal: 419ms\tremaining: 1.75s\n",
      "193:\tlearn: 0.2242181\ttotal: 420ms\tremaining: 1.75s\n",
      "194:\tlearn: 0.2236718\ttotal: 422ms\tremaining: 1.74s\n",
      "195:\tlearn: 0.2233076\ttotal: 423ms\tremaining: 1.73s\n",
      "196:\tlearn: 0.2227750\ttotal: 424ms\tremaining: 1.73s\n",
      "197:\tlearn: 0.2222852\ttotal: 426ms\tremaining: 1.72s\n",
      "198:\tlearn: 0.2218294\ttotal: 427ms\tremaining: 1.72s\n",
      "199:\tlearn: 0.2211590\ttotal: 428ms\tremaining: 1.71s\n",
      "200:\tlearn: 0.2205519\ttotal: 430ms\tremaining: 1.71s\n",
      "201:\tlearn: 0.2202626\ttotal: 431ms\tremaining: 1.7s\n",
      "202:\tlearn: 0.2194391\ttotal: 432ms\tremaining: 1.7s\n",
      "203:\tlearn: 0.2189178\ttotal: 434ms\tremaining: 1.69s\n",
      "204:\tlearn: 0.2185561\ttotal: 435ms\tremaining: 1.69s\n",
      "205:\tlearn: 0.2178855\ttotal: 437ms\tremaining: 1.68s\n",
      "206:\tlearn: 0.2171186\ttotal: 438ms\tremaining: 1.68s\n",
      "207:\tlearn: 0.2167427\ttotal: 440ms\tremaining: 1.67s\n",
      "208:\tlearn: 0.2163991\ttotal: 441ms\tremaining: 1.67s\n",
      "209:\tlearn: 0.2158608\ttotal: 443ms\tremaining: 1.67s\n",
      "210:\tlearn: 0.2154044\ttotal: 444ms\tremaining: 1.66s\n",
      "211:\tlearn: 0.2150474\ttotal: 445ms\tremaining: 1.65s\n",
      "212:\tlearn: 0.2144881\ttotal: 447ms\tremaining: 1.65s\n",
      "213:\tlearn: 0.2138286\ttotal: 448ms\tremaining: 1.65s\n",
      "214:\tlearn: 0.2135470\ttotal: 450ms\tremaining: 1.64s\n",
      "215:\tlearn: 0.2132166\ttotal: 451ms\tremaining: 1.64s\n",
      "216:\tlearn: 0.2127204\ttotal: 453ms\tremaining: 1.63s\n",
      "217:\tlearn: 0.2121411\ttotal: 454ms\tremaining: 1.63s\n",
      "218:\tlearn: 0.2114964\ttotal: 456ms\tremaining: 1.63s\n",
      "219:\tlearn: 0.2112101\ttotal: 458ms\tremaining: 1.62s\n"
     ]
    },
    {
     "name": "stdout",
     "output_type": "stream",
     "text": [
      "220:\tlearn: 0.2108519\ttotal: 460ms\tremaining: 1.62s\n",
      "221:\tlearn: 0.2102729\ttotal: 462ms\tremaining: 1.62s\n",
      "222:\tlearn: 0.2100671\ttotal: 463ms\tremaining: 1.61s\n",
      "223:\tlearn: 0.2096196\ttotal: 465ms\tremaining: 1.61s\n",
      "224:\tlearn: 0.2090880\ttotal: 466ms\tremaining: 1.6s\n",
      "225:\tlearn: 0.2086215\ttotal: 467ms\tremaining: 1.6s\n",
      "226:\tlearn: 0.2082646\ttotal: 469ms\tremaining: 1.6s\n",
      "227:\tlearn: 0.2078255\ttotal: 471ms\tremaining: 1.59s\n",
      "228:\tlearn: 0.2074766\ttotal: 472ms\tremaining: 1.59s\n",
      "229:\tlearn: 0.2071051\ttotal: 474ms\tremaining: 1.58s\n",
      "230:\tlearn: 0.2066611\ttotal: 475ms\tremaining: 1.58s\n",
      "231:\tlearn: 0.2062128\ttotal: 477ms\tremaining: 1.58s\n",
      "232:\tlearn: 0.2054408\ttotal: 478ms\tremaining: 1.57s\n",
      "233:\tlearn: 0.2047159\ttotal: 479ms\tremaining: 1.57s\n"
     ]
    },
    {
     "name": "stdout",
     "output_type": "stream",
     "text": [
      "234:\tlearn: 0.2039049\ttotal: 481ms\tremaining: 1.56s\n",
      "235:\tlearn: 0.2032422\ttotal: 482ms\tremaining: 1.56s\n",
      "236:\tlearn: 0.2029539\ttotal: 484ms\tremaining: 1.56s\n",
      "237:\tlearn: 0.2025271\ttotal: 486ms\tremaining: 1.55s\n",
      "238:\tlearn: 0.2022104\ttotal: 487ms\tremaining: 1.55s\n",
      "239:\tlearn: 0.2019396\ttotal: 488ms\tremaining: 1.54s\n",
      "240:\tlearn: 0.2016232\ttotal: 489ms\tremaining: 1.54s\n",
      "241:\tlearn: 0.2012758\ttotal: 491ms\tremaining: 1.54s\n",
      "242:\tlearn: 0.2003867\ttotal: 492ms\tremaining: 1.53s\n",
      "243:\tlearn: 0.1998418\ttotal: 494ms\tremaining: 1.53s\n",
      "244:\tlearn: 0.1992970\ttotal: 495ms\tremaining: 1.52s\n",
      "245:\tlearn: 0.1984725\ttotal: 496ms\tremaining: 1.52s\n",
      "246:\tlearn: 0.1981607\ttotal: 498ms\tremaining: 1.52s\n",
      "247:\tlearn: 0.1976457\ttotal: 500ms\tremaining: 1.51s\n",
      "248:\tlearn: 0.1968797\ttotal: 501ms\tremaining: 1.51s\n",
      "249:\tlearn: 0.1966393\ttotal: 502ms\tremaining: 1.51s\n",
      "250:\tlearn: 0.1964243\ttotal: 503ms\tremaining: 1.5s\n",
      "251:\tlearn: 0.1957815\ttotal: 505ms\tremaining: 1.5s\n",
      "252:\tlearn: 0.1952120\ttotal: 506ms\tremaining: 1.5s\n",
      "253:\tlearn: 0.1949397\ttotal: 508ms\tremaining: 1.49s\n",
      "254:\tlearn: 0.1945310\ttotal: 509ms\tremaining: 1.49s\n",
      "255:\tlearn: 0.1943256\ttotal: 510ms\tremaining: 1.48s\n",
      "256:\tlearn: 0.1938344\ttotal: 512ms\tremaining: 1.48s\n"
     ]
    },
    {
     "name": "stdout",
     "output_type": "stream",
     "text": [
      "257:\tlearn: 0.1933506\ttotal: 513ms\tremaining: 1.48s\n",
      "258:\tlearn: 0.1928196\ttotal: 515ms\tremaining: 1.47s\n",
      "259:\tlearn: 0.1921152\ttotal: 517ms\tremaining: 1.47s\n",
      "260:\tlearn: 0.1919506\ttotal: 518ms\tremaining: 1.47s\n",
      "261:\tlearn: 0.1914054\ttotal: 520ms\tremaining: 1.46s\n",
      "262:\tlearn: 0.1911106\ttotal: 521ms\tremaining: 1.46s\n",
      "263:\tlearn: 0.1909441\ttotal: 523ms\tremaining: 1.46s\n",
      "264:\tlearn: 0.1907356\ttotal: 524ms\tremaining: 1.45s\n",
      "265:\tlearn: 0.1901358\ttotal: 525ms\tremaining: 1.45s\n",
      "266:\tlearn: 0.1899379\ttotal: 527ms\tremaining: 1.45s\n",
      "267:\tlearn: 0.1892955\ttotal: 528ms\tremaining: 1.44s\n",
      "268:\tlearn: 0.1885467\ttotal: 529ms\tremaining: 1.44s\n",
      "269:\tlearn: 0.1880486\ttotal: 531ms\tremaining: 1.43s\n",
      "270:\tlearn: 0.1878004\ttotal: 532ms\tremaining: 1.43s\n",
      "271:\tlearn: 0.1873886\ttotal: 534ms\tremaining: 1.43s\n",
      "272:\tlearn: 0.1869753\ttotal: 535ms\tremaining: 1.42s\n",
      "273:\tlearn: 0.1865095\ttotal: 536ms\tremaining: 1.42s\n",
      "274:\tlearn: 0.1859965\ttotal: 537ms\tremaining: 1.42s\n",
      "275:\tlearn: 0.1855736\ttotal: 539ms\tremaining: 1.41s\n",
      "276:\tlearn: 0.1849407\ttotal: 540ms\tremaining: 1.41s\n",
      "277:\tlearn: 0.1846004\ttotal: 542ms\tremaining: 1.41s\n",
      "278:\tlearn: 0.1843756\ttotal: 543ms\tremaining: 1.4s\n",
      "279:\tlearn: 0.1842214\ttotal: 545ms\tremaining: 1.4s\n",
      "280:\tlearn: 0.1840807\ttotal: 548ms\tremaining: 1.4s\n",
      "281:\tlearn: 0.1837182\ttotal: 551ms\tremaining: 1.4s\n",
      "282:\tlearn: 0.1835636\ttotal: 553ms\tremaining: 1.4s\n",
      "283:\tlearn: 0.1832133\ttotal: 555ms\tremaining: 1.4s\n",
      "284:\tlearn: 0.1826674\ttotal: 558ms\tremaining: 1.4s\n",
      "285:\tlearn: 0.1820340\ttotal: 560ms\tremaining: 1.4s\n",
      "286:\tlearn: 0.1816235\ttotal: 563ms\tremaining: 1.4s\n",
      "287:\tlearn: 0.1815106\ttotal: 565ms\tremaining: 1.4s\n",
      "288:\tlearn: 0.1807581\ttotal: 567ms\tremaining: 1.4s\n",
      "289:\tlearn: 0.1801853\ttotal: 570ms\tremaining: 1.4s\n",
      "290:\tlearn: 0.1797765\ttotal: 572ms\tremaining: 1.39s\n",
      "291:\tlearn: 0.1792707\ttotal: 574ms\tremaining: 1.39s\n",
      "292:\tlearn: 0.1788185\ttotal: 577ms\tremaining: 1.39s\n",
      "293:\tlearn: 0.1782736\ttotal: 579ms\tremaining: 1.39s\n",
      "294:\tlearn: 0.1780977\ttotal: 582ms\tremaining: 1.39s\n",
      "295:\tlearn: 0.1779042\ttotal: 585ms\tremaining: 1.39s\n",
      "296:\tlearn: 0.1777430\ttotal: 587ms\tremaining: 1.39s\n",
      "297:\tlearn: 0.1772142\ttotal: 589ms\tremaining: 1.39s\n",
      "298:\tlearn: 0.1765687\ttotal: 591ms\tremaining: 1.39s\n",
      "299:\tlearn: 0.1760700\ttotal: 594ms\tremaining: 1.39s\n",
      "300:\tlearn: 0.1756351\ttotal: 597ms\tremaining: 1.39s\n",
      "301:\tlearn: 0.1754700\ttotal: 599ms\tremaining: 1.38s\n",
      "302:\tlearn: 0.1753432\ttotal: 602ms\tremaining: 1.38s\n",
      "303:\tlearn: 0.1752274\ttotal: 604ms\tremaining: 1.38s\n",
      "304:\tlearn: 0.1748347\ttotal: 605ms\tremaining: 1.38s\n",
      "305:\tlearn: 0.1743571\ttotal: 606ms\tremaining: 1.38s\n",
      "306:\tlearn: 0.1737051\ttotal: 608ms\tremaining: 1.37s\n",
      "307:\tlearn: 0.1735921\ttotal: 609ms\tremaining: 1.37s\n",
      "308:\tlearn: 0.1730948\ttotal: 610ms\tremaining: 1.36s\n",
      "309:\tlearn: 0.1725687\ttotal: 612ms\tremaining: 1.36s\n",
      "310:\tlearn: 0.1724918\ttotal: 613ms\tremaining: 1.36s\n",
      "311:\tlearn: 0.1719844\ttotal: 614ms\tremaining: 1.35s\n",
      "312:\tlearn: 0.1715224\ttotal: 616ms\tremaining: 1.35s\n",
      "313:\tlearn: 0.1711823\ttotal: 617ms\tremaining: 1.35s\n",
      "314:\tlearn: 0.1706923\ttotal: 619ms\tremaining: 1.35s\n",
      "315:\tlearn: 0.1701727\ttotal: 621ms\tremaining: 1.34s\n",
      "316:\tlearn: 0.1700328\ttotal: 622ms\tremaining: 1.34s\n",
      "317:\tlearn: 0.1697602\ttotal: 624ms\tremaining: 1.34s\n",
      "318:\tlearn: 0.1696290\ttotal: 626ms\tremaining: 1.33s\n",
      "319:\tlearn: 0.1691793\ttotal: 627ms\tremaining: 1.33s\n",
      "320:\tlearn: 0.1689647\ttotal: 628ms\tremaining: 1.33s\n",
      "321:\tlearn: 0.1687005\ttotal: 630ms\tremaining: 1.32s\n",
      "322:\tlearn: 0.1683833\ttotal: 631ms\tremaining: 1.32s\n",
      "323:\tlearn: 0.1678982\ttotal: 633ms\tremaining: 1.32s\n",
      "324:\tlearn: 0.1676941\ttotal: 634ms\tremaining: 1.32s\n",
      "325:\tlearn: 0.1673225\ttotal: 635ms\tremaining: 1.31s\n",
      "326:\tlearn: 0.1672167\ttotal: 637ms\tremaining: 1.31s\n"
     ]
    },
    {
     "name": "stdout",
     "output_type": "stream",
     "text": [
      "327:\tlearn: 0.1668616\ttotal: 638ms\tremaining: 1.31s\n",
      "328:\tlearn: 0.1663925\ttotal: 641ms\tremaining: 1.31s\n",
      "329:\tlearn: 0.1659291\ttotal: 642ms\tremaining: 1.3s\n",
      "330:\tlearn: 0.1655115\ttotal: 643ms\tremaining: 1.3s\n",
      "331:\tlearn: 0.1651137\ttotal: 645ms\tremaining: 1.3s\n",
      "332:\tlearn: 0.1650131\ttotal: 646ms\tremaining: 1.29s\n",
      "333:\tlearn: 0.1648951\ttotal: 647ms\tremaining: 1.29s\n",
      "334:\tlearn: 0.1645918\ttotal: 649ms\tremaining: 1.29s\n",
      "335:\tlearn: 0.1642069\ttotal: 650ms\tremaining: 1.28s\n",
      "336:\tlearn: 0.1641098\ttotal: 652ms\tremaining: 1.28s\n",
      "337:\tlearn: 0.1636632\ttotal: 653ms\tremaining: 1.28s\n",
      "338:\tlearn: 0.1635897\ttotal: 655ms\tremaining: 1.28s\n",
      "339:\tlearn: 0.1634559\ttotal: 656ms\tremaining: 1.27s\n",
      "340:\tlearn: 0.1633629\ttotal: 657ms\tremaining: 1.27s\n"
     ]
    },
    {
     "name": "stdout",
     "output_type": "stream",
     "text": [
      "341:\tlearn: 0.1632076\ttotal: 659ms\tremaining: 1.27s\n",
      "342:\tlearn: 0.1627195\ttotal: 661ms\tremaining: 1.27s\n",
      "343:\tlearn: 0.1622895\ttotal: 663ms\tremaining: 1.26s\n",
      "344:\tlearn: 0.1617863\ttotal: 664ms\tremaining: 1.26s\n",
      "345:\tlearn: 0.1613082\ttotal: 666ms\tremaining: 1.26s\n",
      "346:\tlearn: 0.1610916\ttotal: 667ms\tremaining: 1.25s\n",
      "347:\tlearn: 0.1608208\ttotal: 669ms\tremaining: 1.25s\n",
      "348:\tlearn: 0.1605252\ttotal: 670ms\tremaining: 1.25s\n",
      "349:\tlearn: 0.1604345\ttotal: 671ms\tremaining: 1.25s\n",
      "350:\tlearn: 0.1601601\ttotal: 673ms\tremaining: 1.24s\n",
      "351:\tlearn: 0.1598432\ttotal: 675ms\tremaining: 1.24s\n",
      "352:\tlearn: 0.1594540\ttotal: 676ms\tremaining: 1.24s\n",
      "353:\tlearn: 0.1593955\ttotal: 678ms\tremaining: 1.24s\n",
      "354:\tlearn: 0.1589700\ttotal: 679ms\tremaining: 1.23s\n",
      "355:\tlearn: 0.1586821\ttotal: 680ms\tremaining: 1.23s\n",
      "356:\tlearn: 0.1584136\ttotal: 681ms\tremaining: 1.23s\n",
      "357:\tlearn: 0.1583040\ttotal: 683ms\tremaining: 1.22s\n",
      "358:\tlearn: 0.1579135\ttotal: 685ms\tremaining: 1.22s\n",
      "359:\tlearn: 0.1578263\ttotal: 686ms\tremaining: 1.22s\n",
      "360:\tlearn: 0.1573652\ttotal: 687ms\tremaining: 1.22s\n",
      "361:\tlearn: 0.1569167\ttotal: 689ms\tremaining: 1.21s\n",
      "362:\tlearn: 0.1568142\ttotal: 690ms\tremaining: 1.21s\n"
     ]
    },
    {
     "name": "stdout",
     "output_type": "stream",
     "text": [
      "363:\tlearn: 0.1565501\ttotal: 692ms\tremaining: 1.21s\n",
      "364:\tlearn: 0.1563660\ttotal: 694ms\tremaining: 1.21s\n",
      "365:\tlearn: 0.1561085\ttotal: 696ms\tremaining: 1.2s\n",
      "366:\tlearn: 0.1559738\ttotal: 697ms\tremaining: 1.2s\n",
      "367:\tlearn: 0.1555199\ttotal: 699ms\tremaining: 1.2s\n",
      "368:\tlearn: 0.1550925\ttotal: 700ms\tremaining: 1.2s\n",
      "369:\tlearn: 0.1547840\ttotal: 701ms\tremaining: 1.19s\n",
      "370:\tlearn: 0.1542175\ttotal: 703ms\tremaining: 1.19s\n",
      "371:\tlearn: 0.1537627\ttotal: 704ms\tremaining: 1.19s\n",
      "372:\tlearn: 0.1533822\ttotal: 706ms\tremaining: 1.19s\n",
      "373:\tlearn: 0.1529963\ttotal: 707ms\tremaining: 1.18s\n",
      "374:\tlearn: 0.1529429\ttotal: 709ms\tremaining: 1.18s\n",
      "375:\tlearn: 0.1525314\ttotal: 710ms\tremaining: 1.18s\n",
      "376:\tlearn: 0.1522234\ttotal: 712ms\tremaining: 1.18s\n",
      "377:\tlearn: 0.1520213\ttotal: 713ms\tremaining: 1.17s\n",
      "378:\tlearn: 0.1516544\ttotal: 714ms\tremaining: 1.17s\n",
      "379:\tlearn: 0.1514994\ttotal: 716ms\tremaining: 1.17s\n",
      "380:\tlearn: 0.1513784\ttotal: 717ms\tremaining: 1.17s\n",
      "381:\tlearn: 0.1513121\ttotal: 719ms\tremaining: 1.16s\n",
      "382:\tlearn: 0.1509556\ttotal: 720ms\tremaining: 1.16s\n",
      "383:\tlearn: 0.1506552\ttotal: 721ms\tremaining: 1.16s\n",
      "384:\tlearn: 0.1505779\ttotal: 723ms\tremaining: 1.15s\n",
      "385:\tlearn: 0.1502217\ttotal: 724ms\tremaining: 1.15s\n",
      "386:\tlearn: 0.1498157\ttotal: 726ms\tremaining: 1.15s\n",
      "387:\tlearn: 0.1496631\ttotal: 727ms\tremaining: 1.15s\n",
      "388:\tlearn: 0.1496037\ttotal: 729ms\tremaining: 1.14s\n",
      "389:\tlearn: 0.1495490\ttotal: 730ms\tremaining: 1.14s\n",
      "390:\tlearn: 0.1493042\ttotal: 731ms\tremaining: 1.14s\n",
      "391:\tlearn: 0.1490931\ttotal: 733ms\tremaining: 1.14s\n",
      "392:\tlearn: 0.1488568\ttotal: 735ms\tremaining: 1.13s\n",
      "393:\tlearn: 0.1488011\ttotal: 736ms\tremaining: 1.13s\n",
      "394:\tlearn: 0.1483985\ttotal: 737ms\tremaining: 1.13s\n",
      "395:\tlearn: 0.1483572\ttotal: 739ms\tremaining: 1.13s\n",
      "396:\tlearn: 0.1482633\ttotal: 742ms\tremaining: 1.13s\n",
      "397:\tlearn: 0.1480741\ttotal: 744ms\tremaining: 1.13s\n",
      "398:\tlearn: 0.1478493\ttotal: 746ms\tremaining: 1.12s\n",
      "399:\tlearn: 0.1474728\ttotal: 749ms\tremaining: 1.12s\n",
      "400:\tlearn: 0.1472449\ttotal: 750ms\tremaining: 1.12s\n",
      "401:\tlearn: 0.1471241\ttotal: 752ms\tremaining: 1.12s\n",
      "402:\tlearn: 0.1471003\ttotal: 754ms\tremaining: 1.12s\n",
      "403:\tlearn: 0.1468684\ttotal: 755ms\tremaining: 1.11s\n",
      "404:\tlearn: 0.1464656\ttotal: 757ms\tremaining: 1.11s\n",
      "405:\tlearn: 0.1462550\ttotal: 758ms\tremaining: 1.11s\n",
      "406:\tlearn: 0.1457405\ttotal: 759ms\tremaining: 1.11s\n",
      "407:\tlearn: 0.1453955\ttotal: 761ms\tremaining: 1.1s\n",
      "408:\tlearn: 0.1450026\ttotal: 762ms\tremaining: 1.1s\n",
      "409:\tlearn: 0.1445793\ttotal: 764ms\tremaining: 1.1s\n",
      "410:\tlearn: 0.1442008\ttotal: 766ms\tremaining: 1.1s\n",
      "411:\tlearn: 0.1441129\ttotal: 767ms\tremaining: 1.09s\n",
      "412:\tlearn: 0.1435836\ttotal: 769ms\tremaining: 1.09s\n",
      "413:\tlearn: 0.1432699\ttotal: 770ms\tremaining: 1.09s\n",
      "414:\tlearn: 0.1432510\ttotal: 772ms\tremaining: 1.09s\n",
      "415:\tlearn: 0.1430390\ttotal: 773ms\tremaining: 1.08s\n",
      "416:\tlearn: 0.1427401\ttotal: 775ms\tremaining: 1.08s\n",
      "417:\tlearn: 0.1424975\ttotal: 777ms\tremaining: 1.08s\n",
      "418:\tlearn: 0.1424194\ttotal: 779ms\tremaining: 1.08s\n",
      "419:\tlearn: 0.1420758\ttotal: 782ms\tremaining: 1.08s\n",
      "420:\tlearn: 0.1417800\ttotal: 784ms\tremaining: 1.08s\n",
      "421:\tlearn: 0.1414733\ttotal: 786ms\tremaining: 1.08s\n",
      "422:\tlearn: 0.1413641\ttotal: 789ms\tremaining: 1.08s\n",
      "423:\tlearn: 0.1410447\ttotal: 791ms\tremaining: 1.07s\n",
      "424:\tlearn: 0.1408652\ttotal: 792ms\tremaining: 1.07s\n",
      "425:\tlearn: 0.1406371\ttotal: 794ms\tremaining: 1.07s\n",
      "426:\tlearn: 0.1403898\ttotal: 795ms\tremaining: 1.07s\n",
      "427:\tlearn: 0.1402962\ttotal: 796ms\tremaining: 1.06s\n",
      "428:\tlearn: 0.1400222\ttotal: 798ms\tremaining: 1.06s\n",
      "429:\tlearn: 0.1399913\ttotal: 800ms\tremaining: 1.06s\n",
      "430:\tlearn: 0.1399202\ttotal: 801ms\tremaining: 1.06s\n",
      "431:\tlearn: 0.1396778\ttotal: 802ms\tremaining: 1.05s\n",
      "432:\tlearn: 0.1393266\ttotal: 804ms\tremaining: 1.05s\n",
      "433:\tlearn: 0.1391171\ttotal: 806ms\tremaining: 1.05s\n",
      "434:\tlearn: 0.1388232\ttotal: 807ms\tremaining: 1.05s\n",
      "435:\tlearn: 0.1385079\ttotal: 809ms\tremaining: 1.05s\n",
      "436:\tlearn: 0.1384845\ttotal: 810ms\tremaining: 1.04s\n",
      "437:\tlearn: 0.1384109\ttotal: 811ms\tremaining: 1.04s\n",
      "438:\tlearn: 0.1381628\ttotal: 813ms\tremaining: 1.04s\n",
      "439:\tlearn: 0.1381124\ttotal: 814ms\tremaining: 1.04s\n",
      "440:\tlearn: 0.1377271\ttotal: 815ms\tremaining: 1.03s\n",
      "441:\tlearn: 0.1374039\ttotal: 817ms\tremaining: 1.03s\n"
     ]
    },
    {
     "name": "stdout",
     "output_type": "stream",
     "text": [
      "442:\tlearn: 0.1372075\ttotal: 818ms\tremaining: 1.03s\n",
      "443:\tlearn: 0.1368890\ttotal: 821ms\tremaining: 1.03s\n",
      "444:\tlearn: 0.1368225\ttotal: 822ms\tremaining: 1.02s\n",
      "445:\tlearn: 0.1362480\ttotal: 824ms\tremaining: 1.02s\n",
      "446:\tlearn: 0.1360676\ttotal: 825ms\tremaining: 1.02s\n",
      "447:\tlearn: 0.1356892\ttotal: 827ms\tremaining: 1.02s\n",
      "448:\tlearn: 0.1355041\ttotal: 828ms\tremaining: 1.02s\n",
      "449:\tlearn: 0.1351858\ttotal: 830ms\tremaining: 1.01s\n",
      "450:\tlearn: 0.1350385\ttotal: 831ms\tremaining: 1.01s\n",
      "451:\tlearn: 0.1346999\ttotal: 832ms\tremaining: 1.01s\n",
      "452:\tlearn: 0.1346177\ttotal: 834ms\tremaining: 1.01s\n",
      "453:\tlearn: 0.1343323\ttotal: 836ms\tremaining: 1s\n",
      "454:\tlearn: 0.1341535\ttotal: 837ms\tremaining: 1s\n"
     ]
    },
    {
     "name": "stdout",
     "output_type": "stream",
     "text": [
      "455:\tlearn: 0.1339572\ttotal: 838ms\tremaining: 1s\n",
      "456:\tlearn: 0.1337074\ttotal: 841ms\tremaining: 999ms\n",
      "457:\tlearn: 0.1336698\ttotal: 842ms\tremaining: 997ms\n",
      "458:\tlearn: 0.1334111\ttotal: 844ms\tremaining: 994ms\n",
      "459:\tlearn: 0.1330545\ttotal: 845ms\tremaining: 992ms\n",
      "460:\tlearn: 0.1328023\ttotal: 846ms\tremaining: 989ms\n",
      "461:\tlearn: 0.1325007\ttotal: 848ms\tremaining: 987ms\n",
      "462:\tlearn: 0.1323187\ttotal: 849ms\tremaining: 985ms\n",
      "463:\tlearn: 0.1320983\ttotal: 851ms\tremaining: 983ms\n",
      "464:\tlearn: 0.1320242\ttotal: 852ms\tremaining: 980ms\n",
      "465:\tlearn: 0.1318174\ttotal: 854ms\tremaining: 978ms\n",
      "466:\tlearn: 0.1317670\ttotal: 855ms\tremaining: 976ms\n",
      "467:\tlearn: 0.1317299\ttotal: 857ms\tremaining: 974ms\n",
      "468:\tlearn: 0.1316986\ttotal: 858ms\tremaining: 971ms\n",
      "469:\tlearn: 0.1314400\ttotal: 859ms\tremaining: 969ms\n",
      "470:\tlearn: 0.1311419\ttotal: 862ms\tremaining: 968ms\n",
      "471:\tlearn: 0.1309663\ttotal: 863ms\tremaining: 966ms\n",
      "472:\tlearn: 0.1305469\ttotal: 865ms\tremaining: 964ms\n",
      "473:\tlearn: 0.1305343\ttotal: 866ms\tremaining: 961ms\n",
      "474:\tlearn: 0.1305061\ttotal: 868ms\tremaining: 959ms\n",
      "475:\tlearn: 0.1304491\ttotal: 869ms\tremaining: 957ms\n",
      "476:\tlearn: 0.1302385\ttotal: 870ms\tremaining: 954ms\n",
      "477:\tlearn: 0.1300678\ttotal: 872ms\tremaining: 952ms\n"
     ]
    },
    {
     "name": "stdout",
     "output_type": "stream",
     "text": [
      "478:\tlearn: 0.1297707\ttotal: 873ms\tremaining: 950ms\n",
      "479:\tlearn: 0.1296174\ttotal: 876ms\tremaining: 949ms\n",
      "480:\tlearn: 0.1293544\ttotal: 877ms\tremaining: 947ms\n",
      "481:\tlearn: 0.1290602\ttotal: 879ms\tremaining: 944ms\n",
      "482:\tlearn: 0.1288593\ttotal: 880ms\tremaining: 942ms\n",
      "483:\tlearn: 0.1285874\ttotal: 881ms\tremaining: 940ms\n",
      "484:\tlearn: 0.1282105\ttotal: 883ms\tremaining: 937ms\n",
      "485:\tlearn: 0.1278151\ttotal: 884ms\tremaining: 935ms\n",
      "486:\tlearn: 0.1274836\ttotal: 886ms\tremaining: 933ms\n",
      "487:\tlearn: 0.1271946\ttotal: 887ms\tremaining: 931ms\n",
      "488:\tlearn: 0.1270039\ttotal: 889ms\tremaining: 929ms\n",
      "489:\tlearn: 0.1265866\ttotal: 891ms\tremaining: 928ms\n",
      "490:\tlearn: 0.1263330\ttotal: 893ms\tremaining: 926ms\n",
      "491:\tlearn: 0.1261381\ttotal: 894ms\tremaining: 923ms\n",
      "492:\tlearn: 0.1258754\ttotal: 896ms\tremaining: 921ms\n",
      "493:\tlearn: 0.1257583\ttotal: 897ms\tremaining: 919ms\n",
      "494:\tlearn: 0.1256082\ttotal: 898ms\tremaining: 917ms\n",
      "495:\tlearn: 0.1254618\ttotal: 900ms\tremaining: 914ms\n",
      "496:\tlearn: 0.1252229\ttotal: 901ms\tremaining: 912ms\n",
      "497:\tlearn: 0.1249685\ttotal: 903ms\tremaining: 910ms\n",
      "498:\tlearn: 0.1245487\ttotal: 904ms\tremaining: 908ms\n",
      "499:\tlearn: 0.1242073\ttotal: 906ms\tremaining: 906ms\n",
      "500:\tlearn: 0.1238030\ttotal: 908ms\tremaining: 904ms\n",
      "501:\tlearn: 0.1234761\ttotal: 909ms\tremaining: 902ms\n",
      "502:\tlearn: 0.1234143\ttotal: 911ms\tremaining: 900ms\n",
      "503:\tlearn: 0.1231700\ttotal: 912ms\tremaining: 898ms\n",
      "504:\tlearn: 0.1230479\ttotal: 914ms\tremaining: 896ms\n",
      "505:\tlearn: 0.1226555\ttotal: 915ms\tremaining: 894ms\n",
      "506:\tlearn: 0.1223607\ttotal: 917ms\tremaining: 891ms\n",
      "507:\tlearn: 0.1221836\ttotal: 918ms\tremaining: 889ms\n",
      "508:\tlearn: 0.1219638\ttotal: 920ms\tremaining: 887ms\n",
      "509:\tlearn: 0.1218705\ttotal: 921ms\tremaining: 885ms\n",
      "510:\tlearn: 0.1215636\ttotal: 923ms\tremaining: 883ms\n",
      "511:\tlearn: 0.1213976\ttotal: 924ms\tremaining: 881ms\n",
      "512:\tlearn: 0.1212814\ttotal: 926ms\tremaining: 879ms\n",
      "513:\tlearn: 0.1211488\ttotal: 927ms\tremaining: 876ms\n",
      "514:\tlearn: 0.1209620\ttotal: 928ms\tremaining: 874ms\n",
      "515:\tlearn: 0.1207145\ttotal: 930ms\tremaining: 872ms\n",
      "516:\tlearn: 0.1205190\ttotal: 931ms\tremaining: 870ms\n",
      "517:\tlearn: 0.1203065\ttotal: 933ms\tremaining: 868ms\n",
      "518:\tlearn: 0.1200057\ttotal: 935ms\tremaining: 866ms\n",
      "519:\tlearn: 0.1199652\ttotal: 936ms\tremaining: 864ms\n",
      "520:\tlearn: 0.1196785\ttotal: 938ms\tremaining: 862ms\n",
      "521:\tlearn: 0.1196340\ttotal: 939ms\tremaining: 860ms\n",
      "522:\tlearn: 0.1194984\ttotal: 941ms\tremaining: 858ms\n",
      "523:\tlearn: 0.1192647\ttotal: 943ms\tremaining: 856ms\n",
      "524:\tlearn: 0.1189609\ttotal: 944ms\tremaining: 854ms\n",
      "525:\tlearn: 0.1185388\ttotal: 945ms\tremaining: 852ms\n",
      "526:\tlearn: 0.1185005\ttotal: 947ms\tremaining: 850ms\n",
      "527:\tlearn: 0.1183814\ttotal: 948ms\tremaining: 848ms\n",
      "528:\tlearn: 0.1182860\ttotal: 950ms\tremaining: 846ms\n",
      "529:\tlearn: 0.1180796\ttotal: 951ms\tremaining: 843ms\n",
      "530:\tlearn: 0.1179482\ttotal: 953ms\tremaining: 841ms\n",
      "531:\tlearn: 0.1176499\ttotal: 954ms\tremaining: 839ms\n",
      "532:\tlearn: 0.1174394\ttotal: 955ms\tremaining: 837ms\n",
      "533:\tlearn: 0.1173015\ttotal: 957ms\tremaining: 835ms\n",
      "534:\tlearn: 0.1172304\ttotal: 958ms\tremaining: 833ms\n",
      "535:\tlearn: 0.1169099\ttotal: 959ms\tremaining: 831ms\n",
      "536:\tlearn: 0.1165817\ttotal: 961ms\tremaining: 829ms\n",
      "537:\tlearn: 0.1164166\ttotal: 963ms\tremaining: 827ms\n",
      "538:\tlearn: 0.1161347\ttotal: 964ms\tremaining: 825ms\n",
      "539:\tlearn: 0.1158995\ttotal: 966ms\tremaining: 823ms\n",
      "540:\tlearn: 0.1157232\ttotal: 967ms\tremaining: 820ms\n",
      "541:\tlearn: 0.1155030\ttotal: 969ms\tremaining: 819ms\n",
      "542:\tlearn: 0.1154521\ttotal: 970ms\tremaining: 817ms\n",
      "543:\tlearn: 0.1151897\ttotal: 972ms\tremaining: 814ms\n",
      "544:\tlearn: 0.1151033\ttotal: 973ms\tremaining: 812ms\n",
      "545:\tlearn: 0.1150367\ttotal: 974ms\tremaining: 810ms\n",
      "546:\tlearn: 0.1148626\ttotal: 976ms\tremaining: 808ms\n",
      "547:\tlearn: 0.1148158\ttotal: 977ms\tremaining: 806ms\n",
      "548:\tlearn: 0.1144007\ttotal: 979ms\tremaining: 804ms\n",
      "549:\tlearn: 0.1142272\ttotal: 980ms\tremaining: 802ms\n",
      "550:\tlearn: 0.1140440\ttotal: 982ms\tremaining: 800ms\n",
      "551:\tlearn: 0.1137988\ttotal: 984ms\tremaining: 798ms\n",
      "552:\tlearn: 0.1136217\ttotal: 985ms\tremaining: 796ms\n",
      "553:\tlearn: 0.1134402\ttotal: 986ms\tremaining: 794ms\n",
      "554:\tlearn: 0.1132267\ttotal: 988ms\tremaining: 792ms\n",
      "555:\tlearn: 0.1130663\ttotal: 989ms\tremaining: 790ms\n",
      "556:\tlearn: 0.1128332\ttotal: 991ms\tremaining: 788ms\n",
      "557:\tlearn: 0.1126046\ttotal: 992ms\tremaining: 786ms\n",
      "558:\tlearn: 0.1123908\ttotal: 994ms\tremaining: 784ms\n",
      "559:\tlearn: 0.1121645\ttotal: 995ms\tremaining: 782ms\n"
     ]
    },
    {
     "name": "stdout",
     "output_type": "stream",
     "text": [
      "560:\tlearn: 0.1120705\ttotal: 997ms\tremaining: 780ms\n",
      "561:\tlearn: 0.1120511\ttotal: 999ms\tremaining: 779ms\n",
      "562:\tlearn: 0.1120096\ttotal: 1s\tremaining: 777ms\n",
      "563:\tlearn: 0.1118320\ttotal: 1s\tremaining: 774ms\n",
      "564:\tlearn: 0.1115747\ttotal: 1s\tremaining: 772ms\n",
      "565:\tlearn: 0.1113685\ttotal: 1s\tremaining: 771ms\n",
      "566:\tlearn: 0.1111563\ttotal: 1.01s\tremaining: 769ms\n",
      "567:\tlearn: 0.1111132\ttotal: 1.01s\tremaining: 767ms\n",
      "568:\tlearn: 0.1109241\ttotal: 1.01s\tremaining: 765ms\n",
      "569:\tlearn: 0.1107239\ttotal: 1.01s\tremaining: 763ms\n",
      "570:\tlearn: 0.1103964\ttotal: 1.01s\tremaining: 761ms\n",
      "571:\tlearn: 0.1102882\ttotal: 1.01s\tremaining: 759ms\n",
      "572:\tlearn: 0.1100602\ttotal: 1.01s\tremaining: 757ms\n"
     ]
    },
    {
     "name": "stdout",
     "output_type": "stream",
     "text": [
      "573:\tlearn: 0.1098650\ttotal: 1.02s\tremaining: 755ms\n",
      "574:\tlearn: 0.1095491\ttotal: 1.02s\tremaining: 754ms\n",
      "575:\tlearn: 0.1093037\ttotal: 1.02s\tremaining: 752ms\n",
      "576:\tlearn: 0.1091062\ttotal: 1.02s\tremaining: 750ms\n",
      "577:\tlearn: 0.1090393\ttotal: 1.02s\tremaining: 748ms\n",
      "578:\tlearn: 0.1088023\ttotal: 1.02s\tremaining: 745ms\n",
      "579:\tlearn: 0.1087590\ttotal: 1.03s\tremaining: 746ms\n",
      "580:\tlearn: 0.1085959\ttotal: 1.03s\tremaining: 745ms\n",
      "581:\tlearn: 0.1085637\ttotal: 1.03s\tremaining: 744ms\n",
      "582:\tlearn: 0.1084324\ttotal: 1.04s\tremaining: 743ms\n",
      "583:\tlearn: 0.1081563\ttotal: 1.04s\tremaining: 741ms\n",
      "584:\tlearn: 0.1080514\ttotal: 1.04s\tremaining: 739ms\n",
      "585:\tlearn: 0.1078336\ttotal: 1.04s\tremaining: 737ms\n",
      "586:\tlearn: 0.1076386\ttotal: 1.04s\tremaining: 735ms\n",
      "587:\tlearn: 0.1074718\ttotal: 1.04s\tremaining: 733ms\n",
      "588:\tlearn: 0.1073568\ttotal: 1.05s\tremaining: 730ms\n",
      "589:\tlearn: 0.1070889\ttotal: 1.05s\tremaining: 729ms\n",
      "590:\tlearn: 0.1068633\ttotal: 1.05s\tremaining: 727ms\n",
      "591:\tlearn: 0.1066862\ttotal: 1.05s\tremaining: 725ms\n"
     ]
    },
    {
     "name": "stdout",
     "output_type": "stream",
     "text": [
      "592:\tlearn: 0.1065802\ttotal: 1.06s\tremaining: 725ms\n",
      "593:\tlearn: 0.1064738\ttotal: 1.06s\tremaining: 723ms\n",
      "594:\tlearn: 0.1062158\ttotal: 1.06s\tremaining: 721ms\n",
      "595:\tlearn: 0.1060966\ttotal: 1.06s\tremaining: 719ms\n",
      "596:\tlearn: 0.1058979\ttotal: 1.06s\tremaining: 717ms\n",
      "597:\tlearn: 0.1057372\ttotal: 1.06s\tremaining: 715ms\n",
      "598:\tlearn: 0.1056909\ttotal: 1.06s\tremaining: 713ms\n",
      "599:\tlearn: 0.1056597\ttotal: 1.07s\tremaining: 711ms\n",
      "600:\tlearn: 0.1055025\ttotal: 1.07s\tremaining: 709ms\n",
      "601:\tlearn: 0.1054258\ttotal: 1.07s\tremaining: 707ms\n",
      "602:\tlearn: 0.1053292\ttotal: 1.07s\tremaining: 705ms\n",
      "603:\tlearn: 0.1053189\ttotal: 1.07s\tremaining: 703ms\n",
      "604:\tlearn: 0.1051243\ttotal: 1.07s\tremaining: 701ms\n",
      "605:\tlearn: 0.1049352\ttotal: 1.07s\tremaining: 699ms\n",
      "606:\tlearn: 0.1046774\ttotal: 1.08s\tremaining: 697ms\n",
      "607:\tlearn: 0.1046477\ttotal: 1.08s\tremaining: 695ms\n",
      "608:\tlearn: 0.1046048\ttotal: 1.08s\tremaining: 693ms\n",
      "609:\tlearn: 0.1044673\ttotal: 1.08s\tremaining: 691ms\n",
      "610:\tlearn: 0.1042629\ttotal: 1.08s\tremaining: 689ms\n",
      "611:\tlearn: 0.1041746\ttotal: 1.08s\tremaining: 687ms\n",
      "612:\tlearn: 0.1039543\ttotal: 1.08s\tremaining: 685ms\n",
      "613:\tlearn: 0.1039210\ttotal: 1.09s\tremaining: 683ms\n",
      "614:\tlearn: 0.1038578\ttotal: 1.09s\tremaining: 681ms\n",
      "615:\tlearn: 0.1036167\ttotal: 1.09s\tremaining: 679ms\n",
      "616:\tlearn: 0.1033969\ttotal: 1.09s\tremaining: 677ms\n",
      "617:\tlearn: 0.1032706\ttotal: 1.09s\tremaining: 675ms\n",
      "618:\tlearn: 0.1030465\ttotal: 1.09s\tremaining: 673ms\n",
      "619:\tlearn: 0.1028107\ttotal: 1.09s\tremaining: 671ms\n",
      "620:\tlearn: 0.1027391\ttotal: 1.1s\tremaining: 669ms\n",
      "621:\tlearn: 0.1024745\ttotal: 1.1s\tremaining: 668ms\n",
      "622:\tlearn: 0.1023315\ttotal: 1.1s\tremaining: 666ms\n",
      "623:\tlearn: 0.1021580\ttotal: 1.1s\tremaining: 665ms\n",
      "624:\tlearn: 0.1021162\ttotal: 1.1s\tremaining: 663ms\n",
      "625:\tlearn: 0.1021051\ttotal: 1.11s\tremaining: 662ms\n",
      "626:\tlearn: 0.1018609\ttotal: 1.11s\tremaining: 661ms\n",
      "627:\tlearn: 0.1017358\ttotal: 1.11s\tremaining: 660ms\n",
      "628:\tlearn: 0.1014560\ttotal: 1.12s\tremaining: 658ms\n",
      "629:\tlearn: 0.1013795\ttotal: 1.12s\tremaining: 657ms\n",
      "630:\tlearn: 0.1013334\ttotal: 1.12s\tremaining: 656ms\n",
      "631:\tlearn: 0.1012434\ttotal: 1.12s\tremaining: 653ms\n",
      "632:\tlearn: 0.1010727\ttotal: 1.12s\tremaining: 652ms\n",
      "633:\tlearn: 0.1009689\ttotal: 1.13s\tremaining: 650ms\n",
      "634:\tlearn: 0.1009100\ttotal: 1.13s\tremaining: 648ms\n",
      "635:\tlearn: 0.1006659\ttotal: 1.13s\tremaining: 646ms\n",
      "636:\tlearn: 0.1005202\ttotal: 1.13s\tremaining: 644ms\n",
      "637:\tlearn: 0.1003449\ttotal: 1.13s\tremaining: 643ms\n",
      "638:\tlearn: 0.1001710\ttotal: 1.13s\tremaining: 641ms\n",
      "639:\tlearn: 0.0999633\ttotal: 1.14s\tremaining: 640ms\n",
      "640:\tlearn: 0.0996924\ttotal: 1.14s\tremaining: 638ms\n",
      "641:\tlearn: 0.0996621\ttotal: 1.14s\tremaining: 637ms\n",
      "642:\tlearn: 0.0994283\ttotal: 1.15s\tremaining: 637ms\n",
      "643:\tlearn: 0.0993820\ttotal: 1.15s\tremaining: 637ms\n",
      "644:\tlearn: 0.0992561\ttotal: 1.15s\tremaining: 635ms\n",
      "645:\tlearn: 0.0990291\ttotal: 1.16s\tremaining: 633ms\n",
      "646:\tlearn: 0.0990001\ttotal: 1.16s\tremaining: 631ms\n",
      "647:\tlearn: 0.0988507\ttotal: 1.16s\tremaining: 629ms\n",
      "648:\tlearn: 0.0984383\ttotal: 1.16s\tremaining: 627ms\n",
      "649:\tlearn: 0.0981891\ttotal: 1.16s\tremaining: 625ms\n",
      "650:\tlearn: 0.0980078\ttotal: 1.16s\tremaining: 624ms\n",
      "651:\tlearn: 0.0977742\ttotal: 1.17s\tremaining: 622ms\n",
      "652:\tlearn: 0.0976300\ttotal: 1.17s\tremaining: 620ms\n",
      "653:\tlearn: 0.0974188\ttotal: 1.17s\tremaining: 618ms\n",
      "654:\tlearn: 0.0972574\ttotal: 1.17s\tremaining: 616ms\n",
      "655:\tlearn: 0.0971291\ttotal: 1.17s\tremaining: 614ms\n",
      "656:\tlearn: 0.0969274\ttotal: 1.17s\tremaining: 612ms\n",
      "657:\tlearn: 0.0967157\ttotal: 1.17s\tremaining: 610ms\n",
      "658:\tlearn: 0.0966662\ttotal: 1.18s\tremaining: 609ms\n"
     ]
    },
    {
     "name": "stdout",
     "output_type": "stream",
     "text": [
      "659:\tlearn: 0.0964971\ttotal: 1.18s\tremaining: 610ms\n",
      "660:\tlearn: 0.0963260\ttotal: 1.19s\tremaining: 608ms\n",
      "661:\tlearn: 0.0962484\ttotal: 1.19s\tremaining: 608ms\n"
     ]
    },
    {
     "name": "stdout",
     "output_type": "stream",
     "text": [
      "662:\tlearn: 0.0960621\ttotal: 1.21s\tremaining: 615ms\n",
      "663:\tlearn: 0.0958135\ttotal: 1.21s\tremaining: 613ms\n",
      "664:\tlearn: 0.0955850\ttotal: 1.21s\tremaining: 611ms\n",
      "665:\tlearn: 0.0954329\ttotal: 1.21s\tremaining: 609ms\n",
      "666:\tlearn: 0.0952545\ttotal: 1.22s\tremaining: 607ms\n",
      "667:\tlearn: 0.0950489\ttotal: 1.22s\tremaining: 605ms\n",
      "668:\tlearn: 0.0948502\ttotal: 1.22s\tremaining: 603ms\n",
      "669:\tlearn: 0.0946996\ttotal: 1.22s\tremaining: 601ms\n",
      "670:\tlearn: 0.0946275\ttotal: 1.22s\tremaining: 599ms\n",
      "671:\tlearn: 0.0944291\ttotal: 1.22s\tremaining: 597ms\n",
      "672:\tlearn: 0.0943933\ttotal: 1.23s\tremaining: 596ms\n",
      "673:\tlearn: 0.0943561\ttotal: 1.23s\tremaining: 594ms\n",
      "674:\tlearn: 0.0941732\ttotal: 1.23s\tremaining: 592ms\n",
      "675:\tlearn: 0.0941629\ttotal: 1.23s\tremaining: 590ms\n",
      "676:\tlearn: 0.0940063\ttotal: 1.23s\tremaining: 588ms\n",
      "677:\tlearn: 0.0937806\ttotal: 1.23s\tremaining: 586ms\n",
      "678:\tlearn: 0.0936424\ttotal: 1.24s\tremaining: 584ms\n"
     ]
    },
    {
     "name": "stdout",
     "output_type": "stream",
     "text": [
      "679:\tlearn: 0.0934645\ttotal: 1.27s\tremaining: 596ms\n",
      "680:\tlearn: 0.0932705\ttotal: 1.27s\tremaining: 597ms\n",
      "681:\tlearn: 0.0930449\ttotal: 1.28s\tremaining: 596ms\n",
      "682:\tlearn: 0.0929232\ttotal: 1.28s\tremaining: 595ms\n",
      "683:\tlearn: 0.0927398\ttotal: 1.28s\tremaining: 593ms\n",
      "684:\tlearn: 0.0926425\ttotal: 1.28s\tremaining: 591ms\n",
      "685:\tlearn: 0.0925569\ttotal: 1.29s\tremaining: 589ms\n",
      "686:\tlearn: 0.0924222\ttotal: 1.29s\tremaining: 587ms\n",
      "687:\tlearn: 0.0922320\ttotal: 1.29s\tremaining: 585ms\n",
      "688:\tlearn: 0.0921791\ttotal: 1.29s\tremaining: 583ms\n",
      "689:\tlearn: 0.0920228\ttotal: 1.29s\tremaining: 581ms\n",
      "690:\tlearn: 0.0918169\ttotal: 1.29s\tremaining: 579ms\n",
      "691:\tlearn: 0.0916522\ttotal: 1.3s\tremaining: 577ms\n",
      "692:\tlearn: 0.0915064\ttotal: 1.3s\tremaining: 575ms\n",
      "693:\tlearn: 0.0914357\ttotal: 1.3s\tremaining: 573ms\n",
      "694:\tlearn: 0.0913372\ttotal: 1.3s\tremaining: 571ms\n",
      "695:\tlearn: 0.0911464\ttotal: 1.3s\tremaining: 569ms\n",
      "696:\tlearn: 0.0911321\ttotal: 1.3s\tremaining: 567ms\n",
      "697:\tlearn: 0.0908670\ttotal: 1.31s\tremaining: 565ms\n",
      "698:\tlearn: 0.0907598\ttotal: 1.31s\tremaining: 563ms\n",
      "699:\tlearn: 0.0905292\ttotal: 1.31s\tremaining: 561ms\n",
      "700:\tlearn: 0.0903343\ttotal: 1.31s\tremaining: 559ms\n",
      "701:\tlearn: 0.0901540\ttotal: 1.31s\tremaining: 557ms\n",
      "702:\tlearn: 0.0900963\ttotal: 1.31s\tremaining: 555ms\n",
      "703:\tlearn: 0.0899955\ttotal: 1.31s\tremaining: 553ms\n",
      "704:\tlearn: 0.0899755\ttotal: 1.32s\tremaining: 551ms\n",
      "705:\tlearn: 0.0897634\ttotal: 1.32s\tremaining: 549ms\n",
      "706:\tlearn: 0.0895189\ttotal: 1.32s\tremaining: 547ms\n",
      "707:\tlearn: 0.0893097\ttotal: 1.32s\tremaining: 545ms\n",
      "708:\tlearn: 0.0891676\ttotal: 1.32s\tremaining: 543ms\n",
      "709:\tlearn: 0.0890562\ttotal: 1.32s\tremaining: 541ms\n",
      "710:\tlearn: 0.0888680\ttotal: 1.33s\tremaining: 539ms\n",
      "711:\tlearn: 0.0886935\ttotal: 1.33s\tremaining: 537ms\n",
      "712:\tlearn: 0.0885502\ttotal: 1.33s\tremaining: 535ms\n",
      "713:\tlearn: 0.0884035\ttotal: 1.33s\tremaining: 533ms\n",
      "714:\tlearn: 0.0882737\ttotal: 1.33s\tremaining: 531ms\n",
      "715:\tlearn: 0.0881134\ttotal: 1.33s\tremaining: 529ms\n",
      "716:\tlearn: 0.0879529\ttotal: 1.33s\tremaining: 527ms\n",
      "717:\tlearn: 0.0877403\ttotal: 1.34s\tremaining: 525ms\n",
      "718:\tlearn: 0.0876462\ttotal: 1.34s\tremaining: 523ms\n",
      "719:\tlearn: 0.0874563\ttotal: 1.34s\tremaining: 521ms\n",
      "720:\tlearn: 0.0873746\ttotal: 1.34s\tremaining: 519ms\n"
     ]
    },
    {
     "name": "stdout",
     "output_type": "stream",
     "text": [
      "721:\tlearn: 0.0871943\ttotal: 1.34s\tremaining: 517ms\n",
      "722:\tlearn: 0.0871207\ttotal: 1.35s\tremaining: 516ms\n",
      "723:\tlearn: 0.0869457\ttotal: 1.35s\tremaining: 514ms\n",
      "724:\tlearn: 0.0869193\ttotal: 1.35s\tremaining: 512ms\n",
      "725:\tlearn: 0.0867677\ttotal: 1.35s\tremaining: 510ms\n",
      "726:\tlearn: 0.0866948\ttotal: 1.35s\tremaining: 508ms\n",
      "727:\tlearn: 0.0866061\ttotal: 1.35s\tremaining: 505ms\n",
      "728:\tlearn: 0.0865528\ttotal: 1.35s\tremaining: 503ms\n",
      "729:\tlearn: 0.0864212\ttotal: 1.35s\tremaining: 501ms\n",
      "730:\tlearn: 0.0862812\ttotal: 1.36s\tremaining: 499ms\n",
      "731:\tlearn: 0.0861751\ttotal: 1.36s\tremaining: 497ms\n",
      "732:\tlearn: 0.0860130\ttotal: 1.36s\tremaining: 495ms\n",
      "733:\tlearn: 0.0858317\ttotal: 1.36s\tremaining: 494ms\n",
      "734:\tlearn: 0.0856941\ttotal: 1.36s\tremaining: 491ms\n",
      "735:\tlearn: 0.0855863\ttotal: 1.36s\tremaining: 489ms\n"
     ]
    },
    {
     "name": "stdout",
     "output_type": "stream",
     "text": [
      "736:\tlearn: 0.0855586\ttotal: 1.37s\tremaining: 488ms\n",
      "737:\tlearn: 0.0854834\ttotal: 1.37s\tremaining: 486ms\n",
      "738:\tlearn: 0.0853970\ttotal: 1.37s\tremaining: 484ms\n",
      "739:\tlearn: 0.0853855\ttotal: 1.37s\tremaining: 482ms\n",
      "740:\tlearn: 0.0852273\ttotal: 1.37s\tremaining: 480ms\n",
      "741:\tlearn: 0.0851141\ttotal: 1.37s\tremaining: 478ms\n",
      "742:\tlearn: 0.0849320\ttotal: 1.38s\tremaining: 476ms\n",
      "743:\tlearn: 0.0847600\ttotal: 1.38s\tremaining: 474ms\n",
      "744:\tlearn: 0.0846072\ttotal: 1.38s\tremaining: 472ms\n",
      "745:\tlearn: 0.0845144\ttotal: 1.38s\tremaining: 470ms\n",
      "746:\tlearn: 0.0842919\ttotal: 1.38s\tremaining: 468ms\n",
      "747:\tlearn: 0.0841363\ttotal: 1.38s\tremaining: 466ms\n",
      "748:\tlearn: 0.0839743\ttotal: 1.39s\tremaining: 464ms\n",
      "749:\tlearn: 0.0838766\ttotal: 1.39s\tremaining: 462ms\n",
      "750:\tlearn: 0.0838585\ttotal: 1.39s\tremaining: 460ms\n",
      "751:\tlearn: 0.0837765\ttotal: 1.39s\tremaining: 458ms\n",
      "752:\tlearn: 0.0837368\ttotal: 1.39s\tremaining: 456ms\n",
      "753:\tlearn: 0.0836239\ttotal: 1.39s\tremaining: 454ms\n",
      "754:\tlearn: 0.0834967\ttotal: 1.39s\tremaining: 452ms\n",
      "755:\tlearn: 0.0834793\ttotal: 1.4s\tremaining: 450ms\n",
      "756:\tlearn: 0.0833637\ttotal: 1.4s\tremaining: 449ms\n",
      "757:\tlearn: 0.0832313\ttotal: 1.4s\tremaining: 447ms\n",
      "758:\tlearn: 0.0832155\ttotal: 1.4s\tremaining: 444ms\n",
      "759:\tlearn: 0.0832065\ttotal: 1.4s\tremaining: 443ms\n",
      "760:\tlearn: 0.0830901\ttotal: 1.4s\tremaining: 441ms\n",
      "761:\tlearn: 0.0829072\ttotal: 1.4s\tremaining: 439ms\n",
      "762:\tlearn: 0.0827379\ttotal: 1.41s\tremaining: 437ms\n",
      "763:\tlearn: 0.0825544\ttotal: 1.41s\tremaining: 435ms\n",
      "764:\tlearn: 0.0824812\ttotal: 1.41s\tremaining: 433ms\n",
      "765:\tlearn: 0.0823371\ttotal: 1.41s\tremaining: 431ms\n",
      "766:\tlearn: 0.0821538\ttotal: 1.41s\tremaining: 429ms\n",
      "767:\tlearn: 0.0819579\ttotal: 1.41s\tremaining: 427ms\n",
      "768:\tlearn: 0.0818435\ttotal: 1.41s\tremaining: 425ms\n",
      "769:\tlearn: 0.0816146\ttotal: 1.42s\tremaining: 423ms\n",
      "770:\tlearn: 0.0814375\ttotal: 1.42s\tremaining: 421ms\n",
      "771:\tlearn: 0.0813838\ttotal: 1.42s\tremaining: 419ms\n",
      "772:\tlearn: 0.0812026\ttotal: 1.42s\tremaining: 417ms\n",
      "773:\tlearn: 0.0811867\ttotal: 1.42s\tremaining: 415ms\n",
      "774:\tlearn: 0.0810260\ttotal: 1.42s\tremaining: 413ms\n",
      "775:\tlearn: 0.0808571\ttotal: 1.43s\tremaining: 412ms\n",
      "776:\tlearn: 0.0807665\ttotal: 1.43s\tremaining: 410ms\n"
     ]
    },
    {
     "name": "stdout",
     "output_type": "stream",
     "text": [
      "777:\tlearn: 0.0807349\ttotal: 1.43s\tremaining: 408ms\n",
      "778:\tlearn: 0.0805254\ttotal: 1.43s\tremaining: 406ms\n",
      "779:\tlearn: 0.0803682\ttotal: 1.43s\tremaining: 404ms\n",
      "780:\tlearn: 0.0802907\ttotal: 1.43s\tremaining: 402ms\n",
      "781:\tlearn: 0.0802158\ttotal: 1.44s\tremaining: 401ms\n",
      "782:\tlearn: 0.0802081\ttotal: 1.44s\tremaining: 399ms\n",
      "783:\tlearn: 0.0800988\ttotal: 1.44s\tremaining: 397ms\n",
      "784:\tlearn: 0.0799813\ttotal: 1.44s\tremaining: 395ms\n",
      "785:\tlearn: 0.0798490\ttotal: 1.44s\tremaining: 393ms\n",
      "786:\tlearn: 0.0796806\ttotal: 1.45s\tremaining: 391ms\n",
      "787:\tlearn: 0.0795855\ttotal: 1.45s\tremaining: 389ms\n",
      "788:\tlearn: 0.0795792\ttotal: 1.45s\tremaining: 388ms\n",
      "789:\tlearn: 0.0793826\ttotal: 1.45s\tremaining: 386ms\n",
      "790:\tlearn: 0.0792356\ttotal: 1.45s\tremaining: 384ms\n",
      "791:\tlearn: 0.0790504\ttotal: 1.45s\tremaining: 382ms\n",
      "792:\tlearn: 0.0788719\ttotal: 1.46s\tremaining: 380ms\n",
      "793:\tlearn: 0.0788059\ttotal: 1.46s\tremaining: 378ms\n",
      "794:\tlearn: 0.0786199\ttotal: 1.46s\tremaining: 376ms\n",
      "795:\tlearn: 0.0784201\ttotal: 1.46s\tremaining: 374ms\n",
      "796:\tlearn: 0.0783175\ttotal: 1.46s\tremaining: 372ms\n",
      "797:\tlearn: 0.0781740\ttotal: 1.46s\tremaining: 370ms\n",
      "798:\tlearn: 0.0779915\ttotal: 1.46s\tremaining: 368ms\n",
      "799:\tlearn: 0.0778530\ttotal: 1.47s\tremaining: 366ms\n",
      "800:\tlearn: 0.0777776\ttotal: 1.47s\tremaining: 364ms\n",
      "801:\tlearn: 0.0776850\ttotal: 1.47s\tremaining: 362ms\n",
      "802:\tlearn: 0.0775311\ttotal: 1.47s\tremaining: 361ms\n",
      "803:\tlearn: 0.0774795\ttotal: 1.47s\tremaining: 359ms\n",
      "804:\tlearn: 0.0773001\ttotal: 1.47s\tremaining: 357ms\n",
      "805:\tlearn: 0.0770677\ttotal: 1.47s\tremaining: 355ms\n",
      "806:\tlearn: 0.0768860\ttotal: 1.48s\tremaining: 353ms\n",
      "807:\tlearn: 0.0767777\ttotal: 1.48s\tremaining: 351ms\n",
      "808:\tlearn: 0.0765520\ttotal: 1.48s\tremaining: 350ms\n",
      "809:\tlearn: 0.0764424\ttotal: 1.48s\tremaining: 348ms\n",
      "810:\tlearn: 0.0763400\ttotal: 1.49s\tremaining: 347ms\n",
      "811:\tlearn: 0.0762339\ttotal: 1.49s\tremaining: 345ms\n",
      "812:\tlearn: 0.0761335\ttotal: 1.49s\tremaining: 343ms\n",
      "813:\tlearn: 0.0760283\ttotal: 1.49s\tremaining: 341ms\n",
      "814:\tlearn: 0.0758571\ttotal: 1.49s\tremaining: 339ms\n",
      "815:\tlearn: 0.0757700\ttotal: 1.49s\tremaining: 337ms\n",
      "816:\tlearn: 0.0756887\ttotal: 1.5s\tremaining: 335ms\n",
      "817:\tlearn: 0.0755587\ttotal: 1.5s\tremaining: 333ms\n",
      "818:\tlearn: 0.0754627\ttotal: 1.5s\tremaining: 331ms\n",
      "819:\tlearn: 0.0753626\ttotal: 1.5s\tremaining: 329ms\n",
      "820:\tlearn: 0.0752610\ttotal: 1.5s\tremaining: 327ms\n",
      "821:\tlearn: 0.0751288\ttotal: 1.5s\tremaining: 325ms\n",
      "822:\tlearn: 0.0750978\ttotal: 1.5s\tremaining: 324ms\n",
      "823:\tlearn: 0.0750146\ttotal: 1.5s\tremaining: 322ms\n",
      "824:\tlearn: 0.0749435\ttotal: 1.51s\tremaining: 320ms\n",
      "825:\tlearn: 0.0748588\ttotal: 1.51s\tremaining: 318ms\n",
      "826:\tlearn: 0.0746737\ttotal: 1.51s\tremaining: 316ms\n",
      "827:\tlearn: 0.0745230\ttotal: 1.51s\tremaining: 314ms\n",
      "828:\tlearn: 0.0744065\ttotal: 1.51s\tremaining: 312ms\n",
      "829:\tlearn: 0.0742957\ttotal: 1.51s\tremaining: 310ms\n",
      "830:\tlearn: 0.0741905\ttotal: 1.52s\tremaining: 308ms\n",
      "831:\tlearn: 0.0741366\ttotal: 1.52s\tremaining: 307ms\n",
      "832:\tlearn: 0.0740443\ttotal: 1.52s\tremaining: 305ms\n"
     ]
    },
    {
     "name": "stdout",
     "output_type": "stream",
     "text": [
      "833:\tlearn: 0.0739179\ttotal: 1.53s\tremaining: 304ms\n",
      "834:\tlearn: 0.0737667\ttotal: 1.53s\tremaining: 303ms\n",
      "835:\tlearn: 0.0736474\ttotal: 1.53s\tremaining: 301ms\n",
      "836:\tlearn: 0.0735445\ttotal: 1.53s\tremaining: 299ms\n",
      "837:\tlearn: 0.0734382\ttotal: 1.54s\tremaining: 297ms\n",
      "838:\tlearn: 0.0732668\ttotal: 1.54s\tremaining: 295ms\n",
      "839:\tlearn: 0.0731609\ttotal: 1.54s\tremaining: 293ms\n",
      "840:\tlearn: 0.0730924\ttotal: 1.54s\tremaining: 291ms\n",
      "841:\tlearn: 0.0730104\ttotal: 1.54s\tremaining: 290ms\n"
     ]
    },
    {
     "name": "stdout",
     "output_type": "stream",
     "text": [
      "842:\tlearn: 0.0728513\ttotal: 1.55s\tremaining: 288ms\n",
      "843:\tlearn: 0.0727525\ttotal: 1.55s\tremaining: 286ms\n",
      "844:\tlearn: 0.0726216\ttotal: 1.55s\tremaining: 285ms\n",
      "845:\tlearn: 0.0725319\ttotal: 1.55s\tremaining: 283ms\n",
      "846:\tlearn: 0.0723850\ttotal: 1.55s\tremaining: 281ms\n",
      "847:\tlearn: 0.0722531\ttotal: 1.56s\tremaining: 279ms\n",
      "848:\tlearn: 0.0721537\ttotal: 1.56s\tremaining: 277ms\n",
      "849:\tlearn: 0.0720666\ttotal: 1.56s\tremaining: 275ms\n",
      "850:\tlearn: 0.0719371\ttotal: 1.56s\tremaining: 273ms\n",
      "851:\tlearn: 0.0719192\ttotal: 1.56s\tremaining: 271ms\n",
      "852:\tlearn: 0.0718526\ttotal: 1.56s\tremaining: 269ms\n",
      "853:\tlearn: 0.0716969\ttotal: 1.57s\tremaining: 268ms\n",
      "854:\tlearn: 0.0715735\ttotal: 1.57s\tremaining: 267ms\n",
      "855:\tlearn: 0.0714901\ttotal: 1.57s\tremaining: 265ms\n",
      "856:\tlearn: 0.0714406\ttotal: 1.57s\tremaining: 263ms\n",
      "857:\tlearn: 0.0713237\ttotal: 1.58s\tremaining: 261ms\n",
      "858:\tlearn: 0.0712182\ttotal: 1.58s\tremaining: 259ms\n",
      "859:\tlearn: 0.0710633\ttotal: 1.58s\tremaining: 257ms\n",
      "860:\tlearn: 0.0709572\ttotal: 1.58s\tremaining: 255ms\n",
      "861:\tlearn: 0.0708922\ttotal: 1.58s\tremaining: 253ms\n",
      "862:\tlearn: 0.0707157\ttotal: 1.58s\tremaining: 252ms\n",
      "863:\tlearn: 0.0705958\ttotal: 1.59s\tremaining: 250ms\n",
      "864:\tlearn: 0.0705257\ttotal: 1.59s\tremaining: 248ms\n",
      "865:\tlearn: 0.0704451\ttotal: 1.59s\tremaining: 246ms\n",
      "866:\tlearn: 0.0704217\ttotal: 1.59s\tremaining: 244ms\n",
      "867:\tlearn: 0.0702947\ttotal: 1.59s\tremaining: 242ms\n",
      "868:\tlearn: 0.0701802\ttotal: 1.59s\tremaining: 240ms\n",
      "869:\tlearn: 0.0700688\ttotal: 1.6s\tremaining: 239ms\n",
      "870:\tlearn: 0.0699130\ttotal: 1.6s\tremaining: 237ms\n",
      "871:\tlearn: 0.0697994\ttotal: 1.6s\tremaining: 235ms\n"
     ]
    },
    {
     "name": "stdout",
     "output_type": "stream",
     "text": [
      "872:\tlearn: 0.0696639\ttotal: 1.6s\tremaining: 233ms\n",
      "873:\tlearn: 0.0695865\ttotal: 1.6s\tremaining: 231ms\n",
      "874:\tlearn: 0.0695804\ttotal: 1.61s\tremaining: 230ms\n",
      "875:\tlearn: 0.0695372\ttotal: 1.61s\tremaining: 228ms\n",
      "876:\tlearn: 0.0694360\ttotal: 1.61s\tremaining: 226ms\n",
      "877:\tlearn: 0.0694020\ttotal: 1.62s\tremaining: 225ms\n",
      "878:\tlearn: 0.0693015\ttotal: 1.62s\tremaining: 223ms\n",
      "879:\tlearn: 0.0691513\ttotal: 1.62s\tremaining: 221ms\n",
      "880:\tlearn: 0.0690714\ttotal: 1.62s\tremaining: 219ms\n",
      "881:\tlearn: 0.0689116\ttotal: 1.63s\tremaining: 217ms\n",
      "882:\tlearn: 0.0687817\ttotal: 1.63s\tremaining: 216ms\n",
      "883:\tlearn: 0.0686704\ttotal: 1.63s\tremaining: 214ms\n",
      "884:\tlearn: 0.0685324\ttotal: 1.63s\tremaining: 212ms\n",
      "885:\tlearn: 0.0684428\ttotal: 1.63s\tremaining: 210ms\n",
      "886:\tlearn: 0.0683055\ttotal: 1.64s\tremaining: 208ms\n",
      "887:\tlearn: 0.0681385\ttotal: 1.64s\tremaining: 207ms\n",
      "888:\tlearn: 0.0680374\ttotal: 1.64s\tremaining: 205ms\n",
      "889:\tlearn: 0.0679667\ttotal: 1.65s\tremaining: 204ms\n",
      "890:\tlearn: 0.0678951\ttotal: 1.65s\tremaining: 202ms\n",
      "891:\tlearn: 0.0677538\ttotal: 1.66s\tremaining: 201ms\n",
      "892:\tlearn: 0.0676342\ttotal: 1.66s\tremaining: 199ms\n",
      "893:\tlearn: 0.0675669\ttotal: 1.66s\tremaining: 197ms\n",
      "894:\tlearn: 0.0674207\ttotal: 1.66s\tremaining: 195ms\n",
      "895:\tlearn: 0.0672775\ttotal: 1.66s\tremaining: 193ms\n",
      "896:\tlearn: 0.0672559\ttotal: 1.67s\tremaining: 191ms\n",
      "897:\tlearn: 0.0671552\ttotal: 1.67s\tremaining: 190ms\n",
      "898:\tlearn: 0.0670309\ttotal: 1.67s\tremaining: 188ms\n",
      "899:\tlearn: 0.0669282\ttotal: 1.67s\tremaining: 186ms\n",
      "900:\tlearn: 0.0668136\ttotal: 1.68s\tremaining: 184ms\n",
      "901:\tlearn: 0.0667552\ttotal: 1.68s\tremaining: 182ms\n",
      "902:\tlearn: 0.0666790\ttotal: 1.68s\tremaining: 180ms\n",
      "903:\tlearn: 0.0665733\ttotal: 1.68s\tremaining: 178ms\n",
      "904:\tlearn: 0.0664607\ttotal: 1.68s\tremaining: 177ms\n",
      "905:\tlearn: 0.0663587\ttotal: 1.69s\tremaining: 175ms\n",
      "906:\tlearn: 0.0662447\ttotal: 1.69s\tremaining: 173ms\n",
      "907:\tlearn: 0.0661305\ttotal: 1.69s\tremaining: 171ms\n",
      "908:\tlearn: 0.0661115\ttotal: 1.69s\tremaining: 169ms\n",
      "909:\tlearn: 0.0659801\ttotal: 1.69s\tremaining: 167ms\n",
      "910:\tlearn: 0.0659595\ttotal: 1.69s\tremaining: 165ms\n",
      "911:\tlearn: 0.0659088\ttotal: 1.7s\tremaining: 164ms\n",
      "912:\tlearn: 0.0658563\ttotal: 1.7s\tremaining: 162ms\n",
      "913:\tlearn: 0.0657259\ttotal: 1.7s\tremaining: 160ms\n",
      "914:\tlearn: 0.0656444\ttotal: 1.7s\tremaining: 158ms\n"
     ]
    },
    {
     "name": "stdout",
     "output_type": "stream",
     "text": [
      "915:\tlearn: 0.0656313\ttotal: 1.7s\tremaining: 156ms\n",
      "916:\tlearn: 0.0655858\ttotal: 1.71s\tremaining: 154ms\n",
      "917:\tlearn: 0.0655662\ttotal: 1.71s\tremaining: 153ms\n",
      "918:\tlearn: 0.0655459\ttotal: 1.71s\tremaining: 151ms\n",
      "919:\tlearn: 0.0654213\ttotal: 1.71s\tremaining: 149ms\n",
      "920:\tlearn: 0.0653229\ttotal: 1.71s\tremaining: 147ms\n",
      "921:\tlearn: 0.0652446\ttotal: 1.72s\tremaining: 145ms\n",
      "922:\tlearn: 0.0651294\ttotal: 1.72s\tremaining: 143ms\n",
      "923:\tlearn: 0.0649861\ttotal: 1.72s\tremaining: 141ms\n",
      "924:\tlearn: 0.0648771\ttotal: 1.72s\tremaining: 140ms\n"
     ]
    },
    {
     "name": "stdout",
     "output_type": "stream",
     "text": [
      "925:\tlearn: 0.0647656\ttotal: 1.72s\tremaining: 138ms\n",
      "926:\tlearn: 0.0646560\ttotal: 1.73s\tremaining: 136ms\n",
      "927:\tlearn: 0.0645413\ttotal: 1.73s\tremaining: 134ms\n",
      "928:\tlearn: 0.0644587\ttotal: 1.73s\tremaining: 132ms\n",
      "929:\tlearn: 0.0643382\ttotal: 1.73s\tremaining: 130ms\n",
      "930:\tlearn: 0.0642091\ttotal: 1.73s\tremaining: 129ms\n",
      "931:\tlearn: 0.0641739\ttotal: 1.74s\tremaining: 127ms\n",
      "932:\tlearn: 0.0641147\ttotal: 1.74s\tremaining: 125ms\n",
      "933:\tlearn: 0.0640068\ttotal: 1.74s\tremaining: 123ms\n",
      "934:\tlearn: 0.0638544\ttotal: 1.74s\tremaining: 121ms\n",
      "935:\tlearn: 0.0637383\ttotal: 1.74s\tremaining: 119ms\n",
      "936:\tlearn: 0.0637285\ttotal: 1.74s\tremaining: 117ms\n",
      "937:\tlearn: 0.0636847\ttotal: 1.75s\tremaining: 116ms\n",
      "938:\tlearn: 0.0636665\ttotal: 1.75s\tremaining: 114ms\n",
      "939:\tlearn: 0.0635685\ttotal: 1.75s\tremaining: 112ms\n",
      "940:\tlearn: 0.0635622\ttotal: 1.75s\tremaining: 110ms\n",
      "941:\tlearn: 0.0635139\ttotal: 1.75s\tremaining: 108ms\n",
      "942:\tlearn: 0.0634020\ttotal: 1.75s\tremaining: 106ms\n",
      "943:\tlearn: 0.0632691\ttotal: 1.76s\tremaining: 104ms\n",
      "944:\tlearn: 0.0631632\ttotal: 1.76s\tremaining: 102ms\n",
      "945:\tlearn: 0.0631119\ttotal: 1.76s\tremaining: 101ms\n",
      "946:\tlearn: 0.0629920\ttotal: 1.76s\tremaining: 98.7ms\n",
      "947:\tlearn: 0.0629733\ttotal: 1.76s\tremaining: 96.8ms\n",
      "948:\tlearn: 0.0628922\ttotal: 1.77s\tremaining: 94.9ms\n",
      "949:\tlearn: 0.0627862\ttotal: 1.77s\tremaining: 93.1ms\n",
      "950:\tlearn: 0.0626694\ttotal: 1.77s\tremaining: 91.2ms\n",
      "951:\tlearn: 0.0625865\ttotal: 1.77s\tremaining: 89.4ms\n",
      "952:\tlearn: 0.0624951\ttotal: 1.77s\tremaining: 87.6ms\n",
      "953:\tlearn: 0.0624246\ttotal: 1.78s\tremaining: 85.7ms\n",
      "954:\tlearn: 0.0623128\ttotal: 1.78s\tremaining: 83.8ms\n",
      "955:\tlearn: 0.0622356\ttotal: 1.78s\tremaining: 81.9ms\n"
     ]
    },
    {
     "name": "stdout",
     "output_type": "stream",
     "text": [
      "956:\tlearn: 0.0621219\ttotal: 1.78s\tremaining: 80.1ms\n",
      "957:\tlearn: 0.0620172\ttotal: 1.78s\tremaining: 78.3ms\n",
      "958:\tlearn: 0.0619996\ttotal: 1.79s\tremaining: 76.4ms\n",
      "959:\tlearn: 0.0619050\ttotal: 1.79s\tremaining: 74.6ms\n",
      "960:\tlearn: 0.0618894\ttotal: 1.79s\tremaining: 72.7ms\n",
      "961:\tlearn: 0.0617930\ttotal: 1.79s\tremaining: 70.8ms\n",
      "962:\tlearn: 0.0617484\ttotal: 1.79s\tremaining: 68.9ms\n",
      "963:\tlearn: 0.0616804\ttotal: 1.79s\tremaining: 67ms\n",
      "964:\tlearn: 0.0616656\ttotal: 1.8s\tremaining: 65.2ms\n",
      "965:\tlearn: 0.0616277\ttotal: 1.8s\tremaining: 63.3ms\n",
      "966:\tlearn: 0.0615363\ttotal: 1.8s\tremaining: 61.4ms\n",
      "967:\tlearn: 0.0614904\ttotal: 1.8s\tremaining: 59.6ms\n",
      "968:\tlearn: 0.0614168\ttotal: 1.8s\tremaining: 57.8ms\n",
      "969:\tlearn: 0.0613295\ttotal: 1.81s\tremaining: 55.9ms\n",
      "970:\tlearn: 0.0612365\ttotal: 1.81s\tremaining: 54ms\n",
      "971:\tlearn: 0.0611340\ttotal: 1.81s\tremaining: 52.1ms\n",
      "972:\tlearn: 0.0611266\ttotal: 1.81s\tremaining: 50.3ms\n",
      "973:\tlearn: 0.0610484\ttotal: 1.81s\tremaining: 48.4ms\n",
      "974:\tlearn: 0.0608925\ttotal: 1.81s\tremaining: 46.5ms\n",
      "975:\tlearn: 0.0608797\ttotal: 1.82s\tremaining: 44.7ms\n",
      "976:\tlearn: 0.0608642\ttotal: 1.82s\tremaining: 42.8ms\n",
      "977:\tlearn: 0.0607353\ttotal: 1.82s\tremaining: 40.9ms\n",
      "978:\tlearn: 0.0606233\ttotal: 1.82s\tremaining: 39.1ms\n",
      "979:\tlearn: 0.0605246\ttotal: 1.82s\tremaining: 37.2ms\n",
      "980:\tlearn: 0.0604027\ttotal: 1.82s\tremaining: 35.4ms\n",
      "981:\tlearn: 0.0603336\ttotal: 1.83s\tremaining: 33.5ms\n",
      "982:\tlearn: 0.0603267\ttotal: 1.83s\tremaining: 31.6ms\n",
      "983:\tlearn: 0.0602635\ttotal: 1.83s\tremaining: 29.8ms\n",
      "984:\tlearn: 0.0601684\ttotal: 1.83s\tremaining: 27.9ms\n",
      "985:\tlearn: 0.0600993\ttotal: 1.83s\tremaining: 26.1ms\n",
      "986:\tlearn: 0.0600829\ttotal: 1.84s\tremaining: 24.2ms\n",
      "987:\tlearn: 0.0600273\ttotal: 1.84s\tremaining: 22.3ms\n",
      "988:\tlearn: 0.0599815\ttotal: 1.84s\tremaining: 20.5ms\n",
      "989:\tlearn: 0.0599248\ttotal: 1.84s\tremaining: 18.6ms\n",
      "990:\tlearn: 0.0598359\ttotal: 1.84s\tremaining: 16.7ms\n",
      "991:\tlearn: 0.0597636\ttotal: 1.85s\tremaining: 14.9ms\n",
      "992:\tlearn: 0.0597564\ttotal: 1.85s\tremaining: 13ms\n",
      "993:\tlearn: 0.0596758\ttotal: 1.85s\tremaining: 11.2ms\n",
      "994:\tlearn: 0.0595615\ttotal: 1.85s\tremaining: 9.31ms\n",
      "995:\tlearn: 0.0594804\ttotal: 1.85s\tremaining: 7.45ms\n",
      "996:\tlearn: 0.0594238\ttotal: 1.85s\tremaining: 5.58ms\n",
      "997:\tlearn: 0.0594156\ttotal: 1.86s\tremaining: 3.72ms\n",
      "998:\tlearn: 0.0593414\ttotal: 1.86s\tremaining: 1.86ms\n",
      "999:\tlearn: 0.0593084\ttotal: 1.86s\tremaining: 0us\n"
     ]
    },
    {
     "name": "stdout",
     "output_type": "stream",
     "text": [
      "Mean Absolute error 0.2244315886285965\n"
     ]
    },
    {
     "data": {
      "application/scrapbook.scrap.json+json": {
       "data": 0.2244315886285965,
       "encoder": "json",
       "name": "Catboost MAE",
       "version": 1
      }
     },
     "metadata": {
      "scrapbook": {
       "data": true,
       "display": false,
       "name": "Catboost MAE"
      }
     },
     "output_type": "display_data"
    },
    {
     "name": "stdout",
     "output_type": "stream",
     "text": [
      "Catboost MAE 0.2244315886285965\n"
     ]
    }
   ],
   "source": [
    "mae_cb = baselineModels.catboost(X_train,y_train,X_test,y_test)\n",
    "#Store MSE Value\n",
    "sb.glue(\"Catboost MAE\",mae_cb)\n",
    "print(\"Catboost MAE\",mae_cb)"
   ]
  },
  {
   "cell_type": "markdown",
   "id": "aba33405",
   "metadata": {
    "papermill": {
     "duration": 0.02161,
     "end_time": "2022-07-21T10:31:58.550675",
     "exception": false,
     "start_time": "2022-07-21T10:31:58.529065",
     "status": "completed"
    },
    "tags": []
   },
   "source": [
    "# TabNet Regressor"
   ]
  },
  {
   "cell_type": "code",
   "execution_count": 7,
   "id": "1defcebe",
   "metadata": {
    "execution": {
     "iopub.execute_input": "2022-07-21T10:31:58.575776Z",
     "iopub.status.busy": "2022-07-21T10:31:58.575469Z",
     "iopub.status.idle": "2022-07-21T10:31:58.583453Z",
     "shell.execute_reply": "2022-07-21T10:31:58.582585Z"
    },
    "papermill": {
     "duration": 0.024377,
     "end_time": "2022-07-21T10:31:58.586962",
     "exception": false,
     "start_time": "2022-07-21T10:31:58.562585",
     "status": "completed"
    },
    "tags": []
   },
   "outputs": [],
   "source": [
    "n_epochs = 1000\n",
    "batch_size = 32"
   ]
  },
  {
   "cell_type": "code",
   "execution_count": 8,
   "id": "71b8fa93",
   "metadata": {
    "execution": {
     "iopub.execute_input": "2022-07-21T10:31:58.632934Z",
     "iopub.status.busy": "2022-07-21T10:31:58.632548Z",
     "iopub.status.idle": "2022-07-21T10:33:19.845142Z",
     "shell.execute_reply": "2022-07-21T10:33:19.844320Z"
    },
    "papermill": {
     "duration": 81.239909,
     "end_time": "2022-07-21T10:33:19.847908",
     "exception": false,
     "start_time": "2022-07-21T10:31:58.607999",
     "status": "completed"
    },
    "tags": []
   },
   "outputs": [
    {
     "name": "stdout",
     "output_type": "stream",
     "text": [
      "Device used : cpu\n"
     ]
    },
    {
     "name": "stdout",
     "output_type": "stream",
     "text": [
      "epoch 0  | loss: 2.55853 | train_mse: 1.18049 | train_mae: 0.84598 |  0:00:01s\n"
     ]
    },
    {
     "name": "stdout",
     "output_type": "stream",
     "text": [
      "epoch 1  | loss: 0.87092 | train_mse: 0.62051 | train_mae: 0.58478 |  0:00:01s\n"
     ]
    },
    {
     "name": "stdout",
     "output_type": "stream",
     "text": [
      "epoch 2  | loss: 0.58788 | train_mse: 0.49659 | train_mae: 0.50873 |  0:00:02s\n"
     ]
    },
    {
     "name": "stdout",
     "output_type": "stream",
     "text": [
      "epoch 3  | loss: 0.54727 | train_mse: 0.46736 | train_mae: 0.46017 |  0:00:02s\n"
     ]
    },
    {
     "name": "stdout",
     "output_type": "stream",
     "text": [
      "epoch 4  | loss: 0.45931 | train_mse: 0.30141 | train_mae: 0.38756 |  0:00:02s\n"
     ]
    },
    {
     "name": "stdout",
     "output_type": "stream",
     "text": [
      "epoch 5  | loss: 0.42065 | train_mse: 0.3554  | train_mae: 0.39572 |  0:00:02s\n"
     ]
    },
    {
     "name": "stdout",
     "output_type": "stream",
     "text": [
      "epoch 6  | loss: 0.35268 | train_mse: 0.30525 | train_mae: 0.37411 |  0:00:03s\n"
     ]
    },
    {
     "name": "stdout",
     "output_type": "stream",
     "text": [
      "epoch 7  | loss: 0.37258 | train_mse: 0.28386 | train_mae: 0.36092 |  0:00:03s\n"
     ]
    },
    {
     "name": "stdout",
     "output_type": "stream",
     "text": [
      "epoch 8  | loss: 0.3439  | train_mse: 0.26593 | train_mae: 0.35864 |  0:00:03s\n"
     ]
    },
    {
     "name": "stdout",
     "output_type": "stream",
     "text": [
      "epoch 9  | loss: 0.31698 | train_mse: 0.2694  | train_mae: 0.34532 |  0:00:04s\n"
     ]
    },
    {
     "name": "stdout",
     "output_type": "stream",
     "text": [
      "epoch 10 | loss: 0.30169 | train_mse: 0.22187 | train_mae: 0.31971 |  0:00:04s\n"
     ]
    },
    {
     "name": "stdout",
     "output_type": "stream",
     "text": [
      "epoch 11 | loss: 0.30233 | train_mse: 0.2279  | train_mae: 0.31005 |  0:00:04s\n"
     ]
    },
    {
     "name": "stdout",
     "output_type": "stream",
     "text": [
      "epoch 12 | loss: 0.25011 | train_mse: 0.20299 | train_mae: 0.30053 |  0:00:04s\n"
     ]
    },
    {
     "name": "stdout",
     "output_type": "stream",
     "text": [
      "epoch 13 | loss: 0.25119 | train_mse: 0.19037 | train_mae: 0.29569 |  0:00:05s\n"
     ]
    },
    {
     "name": "stdout",
     "output_type": "stream",
     "text": [
      "epoch 14 | loss: 0.23329 | train_mse: 0.17346 | train_mae: 0.28116 |  0:00:05s\n"
     ]
    },
    {
     "name": "stdout",
     "output_type": "stream",
     "text": [
      "epoch 15 | loss: 0.25981 | train_mse: 0.18403 | train_mae: 0.31008 |  0:00:06s\n"
     ]
    },
    {
     "name": "stdout",
     "output_type": "stream",
     "text": [
      "epoch 16 | loss: 0.19996 | train_mse: 0.17129 | train_mae: 0.28325 |  0:00:06s\n"
     ]
    },
    {
     "name": "stdout",
     "output_type": "stream",
     "text": [
      "epoch 17 | loss: 0.23294 | train_mse: 0.1589  | train_mae: 0.27665 |  0:00:06s\n"
     ]
    },
    {
     "name": "stdout",
     "output_type": "stream",
     "text": [
      "epoch 18 | loss: 0.20706 | train_mse: 0.15473 | train_mae: 0.26865 |  0:00:07s\n"
     ]
    },
    {
     "name": "stdout",
     "output_type": "stream",
     "text": [
      "epoch 19 | loss: 0.22544 | train_mse: 0.14436 | train_mae: 0.26271 |  0:00:07s\n"
     ]
    },
    {
     "name": "stdout",
     "output_type": "stream",
     "text": [
      "epoch 20 | loss: 0.23225 | train_mse: 0.15953 | train_mae: 0.26962 |  0:00:07s\n"
     ]
    },
    {
     "name": "stdout",
     "output_type": "stream",
     "text": [
      "epoch 21 | loss: 0.22143 | train_mse: 0.14445 | train_mae: 0.26242 |  0:00:08s\n"
     ]
    },
    {
     "name": "stdout",
     "output_type": "stream",
     "text": [
      "epoch 22 | loss: 0.21582 | train_mse: 0.1405  | train_mae: 0.26665 |  0:00:08s\n"
     ]
    },
    {
     "name": "stdout",
     "output_type": "stream",
     "text": [
      "epoch 23 | loss: 0.2386  | train_mse: 0.12826 | train_mae: 0.2492  |  0:00:08s\n"
     ]
    },
    {
     "name": "stdout",
     "output_type": "stream",
     "text": [
      "epoch 24 | loss: 0.17797 | train_mse: 0.13505 | train_mae: 0.25672 |  0:00:08s\n"
     ]
    },
    {
     "name": "stdout",
     "output_type": "stream",
     "text": [
      "epoch 25 | loss: 0.1743  | train_mse: 0.12726 | train_mae: 0.25327 |  0:00:09s\n"
     ]
    },
    {
     "name": "stdout",
     "output_type": "stream",
     "text": [
      "epoch 26 | loss: 0.23696 | train_mse: 0.1372  | train_mae: 0.26203 |  0:00:09s\n"
     ]
    },
    {
     "name": "stdout",
     "output_type": "stream",
     "text": [
      "epoch 27 | loss: 0.22376 | train_mse: 0.15247 | train_mae: 0.27475 |  0:00:09s\n"
     ]
    },
    {
     "name": "stdout",
     "output_type": "stream",
     "text": [
      "epoch 28 | loss: 0.18593 | train_mse: 0.12863 | train_mae: 0.25262 |  0:00:10s\n"
     ]
    },
    {
     "name": "stdout",
     "output_type": "stream",
     "text": [
      "epoch 29 | loss: 0.17577 | train_mse: 0.12177 | train_mae: 0.25115 |  0:00:10s\n"
     ]
    },
    {
     "name": "stdout",
     "output_type": "stream",
     "text": [
      "epoch 30 | loss: 0.20947 | train_mse: 0.13669 | train_mae: 0.26504 |  0:00:10s\n"
     ]
    },
    {
     "name": "stdout",
     "output_type": "stream",
     "text": [
      "epoch 31 | loss: 0.21292 | train_mse: 0.14197 | train_mae: 0.25864 |  0:00:11s\n"
     ]
    },
    {
     "name": "stdout",
     "output_type": "stream",
     "text": [
      "epoch 32 | loss: 0.15881 | train_mse: 0.15337 | train_mae: 0.26305 |  0:00:11s\n"
     ]
    },
    {
     "name": "stdout",
     "output_type": "stream",
     "text": [
      "epoch 33 | loss: 0.22287 | train_mse: 0.13574 | train_mae: 0.25714 |  0:00:11s\n"
     ]
    },
    {
     "name": "stdout",
     "output_type": "stream",
     "text": [
      "epoch 34 | loss: 0.19337 | train_mse: 0.12003 | train_mae: 0.25269 |  0:00:12s\n"
     ]
    },
    {
     "name": "stdout",
     "output_type": "stream",
     "text": [
      "epoch 35 | loss: 0.23709 | train_mse: 0.13175 | train_mae: 0.26304 |  0:00:12s\n"
     ]
    },
    {
     "name": "stdout",
     "output_type": "stream",
     "text": [
      "epoch 36 | loss: 0.16962 | train_mse: 0.12827 | train_mae: 0.25957 |  0:00:12s\n"
     ]
    },
    {
     "name": "stdout",
     "output_type": "stream",
     "text": [
      "epoch 37 | loss: 0.19662 | train_mse: 0.11245 | train_mae: 0.24208 |  0:00:13s\n"
     ]
    },
    {
     "name": "stdout",
     "output_type": "stream",
     "text": [
      "epoch 38 | loss: 0.18469 | train_mse: 0.12885 | train_mae: 0.26205 |  0:00:13s\n"
     ]
    },
    {
     "name": "stdout",
     "output_type": "stream",
     "text": [
      "epoch 39 | loss: 0.18877 | train_mse: 0.12145 | train_mae: 0.25203 |  0:00:13s\n"
     ]
    },
    {
     "name": "stdout",
     "output_type": "stream",
     "text": [
      "epoch 40 | loss: 0.17866 | train_mse: 0.12417 | train_mae: 0.2536  |  0:00:14s\n"
     ]
    },
    {
     "name": "stdout",
     "output_type": "stream",
     "text": [
      "epoch 41 | loss: 0.19813 | train_mse: 0.13321 | train_mae: 0.27095 |  0:00:14s\n"
     ]
    },
    {
     "name": "stdout",
     "output_type": "stream",
     "text": [
      "epoch 42 | loss: 0.21611 | train_mse: 0.10511 | train_mae: 0.24023 |  0:00:14s\n"
     ]
    },
    {
     "name": "stdout",
     "output_type": "stream",
     "text": [
      "epoch 43 | loss: 0.17268 | train_mse: 0.10706 | train_mae: 0.24416 |  0:00:15s\n"
     ]
    },
    {
     "name": "stdout",
     "output_type": "stream",
     "text": [
      "epoch 44 | loss: 0.16558 | train_mse: 0.11456 | train_mae: 0.24677 |  0:00:15s\n"
     ]
    },
    {
     "name": "stdout",
     "output_type": "stream",
     "text": [
      "epoch 45 | loss: 0.20454 | train_mse: 0.09611 | train_mae: 0.2238  |  0:00:15s\n"
     ]
    },
    {
     "name": "stdout",
     "output_type": "stream",
     "text": [
      "epoch 46 | loss: 0.16288 | train_mse: 0.10578 | train_mae: 0.23329 |  0:00:15s\n"
     ]
    },
    {
     "name": "stdout",
     "output_type": "stream",
     "text": [
      "epoch 47 | loss: 0.14725 | train_mse: 0.10457 | train_mae: 0.2324  |  0:00:16s\n"
     ]
    },
    {
     "name": "stdout",
     "output_type": "stream",
     "text": [
      "epoch 48 | loss: 0.15119 | train_mse: 0.10688 | train_mae: 0.24407 |  0:00:16s\n"
     ]
    },
    {
     "name": "stdout",
     "output_type": "stream",
     "text": [
      "epoch 49 | loss: 0.14628 | train_mse: 0.10145 | train_mae: 0.23599 |  0:00:16s\n"
     ]
    },
    {
     "name": "stdout",
     "output_type": "stream",
     "text": [
      "epoch 50 | loss: 0.17862 | train_mse: 0.1314  | train_mae: 0.2515  |  0:00:17s\n"
     ]
    },
    {
     "name": "stdout",
     "output_type": "stream",
     "text": [
      "epoch 51 | loss: 0.19328 | train_mse: 0.107   | train_mae: 0.23529 |  0:00:17s\n"
     ]
    },
    {
     "name": "stdout",
     "output_type": "stream",
     "text": [
      "epoch 52 | loss: 0.19519 | train_mse: 0.10486 | train_mae: 0.23777 |  0:00:17s\n"
     ]
    },
    {
     "name": "stdout",
     "output_type": "stream",
     "text": [
      "epoch 53 | loss: 0.18085 | train_mse: 0.11533 | train_mae: 0.24625 |  0:00:18s\n"
     ]
    },
    {
     "name": "stdout",
     "output_type": "stream",
     "text": [
      "epoch 54 | loss: 0.12202 | train_mse: 0.09344 | train_mae: 0.22088 |  0:00:18s\n"
     ]
    },
    {
     "name": "stdout",
     "output_type": "stream",
     "text": [
      "epoch 55 | loss: 0.16576 | train_mse: 0.10393 | train_mae: 0.2319  |  0:00:18s\n"
     ]
    },
    {
     "name": "stdout",
     "output_type": "stream",
     "text": [
      "epoch 56 | loss: 0.14819 | train_mse: 0.08793 | train_mae: 0.2117  |  0:00:18s\n"
     ]
    },
    {
     "name": "stdout",
     "output_type": "stream",
     "text": [
      "epoch 57 | loss: 0.13273 | train_mse: 0.08573 | train_mae: 0.21366 |  0:00:19s\n"
     ]
    },
    {
     "name": "stdout",
     "output_type": "stream",
     "text": [
      "epoch 58 | loss: 0.12632 | train_mse: 0.08365 | train_mae: 0.21207 |  0:00:19s\n"
     ]
    },
    {
     "name": "stdout",
     "output_type": "stream",
     "text": [
      "epoch 59 | loss: 0.13522 | train_mse: 0.10772 | train_mae: 0.23578 |  0:00:19s\n"
     ]
    },
    {
     "name": "stdout",
     "output_type": "stream",
     "text": [
      "epoch 60 | loss: 0.15451 | train_mse: 0.09326 | train_mae: 0.21585 |  0:00:20s\n"
     ]
    },
    {
     "name": "stdout",
     "output_type": "stream",
     "text": [
      "epoch 61 | loss: 0.15184 | train_mse: 0.10804 | train_mae: 0.23613 |  0:00:20s\n"
     ]
    },
    {
     "name": "stdout",
     "output_type": "stream",
     "text": [
      "epoch 62 | loss: 0.145   | train_mse: 0.0985  | train_mae: 0.2272  |  0:00:20s\n"
     ]
    },
    {
     "name": "stdout",
     "output_type": "stream",
     "text": [
      "epoch 63 | loss: 0.13147 | train_mse: 0.08484 | train_mae: 0.21365 |  0:00:21s\n"
     ]
    },
    {
     "name": "stdout",
     "output_type": "stream",
     "text": [
      "epoch 64 | loss: 0.17137 | train_mse: 0.10741 | train_mae: 0.23442 |  0:00:21s\n"
     ]
    },
    {
     "name": "stdout",
     "output_type": "stream",
     "text": [
      "epoch 65 | loss: 0.17341 | train_mse: 0.09687 | train_mae: 0.22869 |  0:00:21s\n"
     ]
    },
    {
     "name": "stdout",
     "output_type": "stream",
     "text": [
      "epoch 66 | loss: 0.15401 | train_mse: 0.09938 | train_mae: 0.22892 |  0:00:21s\n"
     ]
    },
    {
     "name": "stdout",
     "output_type": "stream",
     "text": [
      "epoch 67 | loss: 0.12927 | train_mse: 0.09311 | train_mae: 0.22172 |  0:00:22s\n"
     ]
    },
    {
     "name": "stdout",
     "output_type": "stream",
     "text": [
      "epoch 68 | loss: 0.14296 | train_mse: 0.10295 | train_mae: 0.22986 |  0:00:22s\n"
     ]
    },
    {
     "name": "stdout",
     "output_type": "stream",
     "text": [
      "epoch 69 | loss: 0.16514 | train_mse: 0.09189 | train_mae: 0.21839 |  0:00:22s\n"
     ]
    },
    {
     "name": "stdout",
     "output_type": "stream",
     "text": [
      "epoch 70 | loss: 0.20555 | train_mse: 0.13017 | train_mae: 0.25332 |  0:00:23s\n"
     ]
    },
    {
     "name": "stdout",
     "output_type": "stream",
     "text": [
      "epoch 71 | loss: 0.15844 | train_mse: 0.08795 | train_mae: 0.22018 |  0:00:23s\n"
     ]
    },
    {
     "name": "stdout",
     "output_type": "stream",
     "text": [
      "epoch 72 | loss: 0.14702 | train_mse: 0.08545 | train_mae: 0.21163 |  0:00:23s\n"
     ]
    },
    {
     "name": "stdout",
     "output_type": "stream",
     "text": [
      "epoch 73 | loss: 0.14081 | train_mse: 0.09486 | train_mae: 0.22152 |  0:00:24s\n"
     ]
    },
    {
     "name": "stdout",
     "output_type": "stream",
     "text": [
      "epoch 74 | loss: 0.12593 | train_mse: 0.08179 | train_mae: 0.20409 |  0:00:24s\n"
     ]
    },
    {
     "name": "stdout",
     "output_type": "stream",
     "text": [
      "epoch 75 | loss: 0.13894 | train_mse: 0.07997 | train_mae: 0.20928 |  0:00:24s\n"
     ]
    },
    {
     "name": "stdout",
     "output_type": "stream",
     "text": [
      "epoch 76 | loss: 0.11709 | train_mse: 0.08769 | train_mae: 0.21327 |  0:00:24s\n"
     ]
    },
    {
     "name": "stdout",
     "output_type": "stream",
     "text": [
      "epoch 77 | loss: 0.13613 | train_mse: 0.09264 | train_mae: 0.21519 |  0:00:25s\n"
     ]
    },
    {
     "name": "stdout",
     "output_type": "stream",
     "text": [
      "epoch 78 | loss: 0.13552 | train_mse: 0.07995 | train_mae: 0.21011 |  0:00:25s\n"
     ]
    },
    {
     "name": "stdout",
     "output_type": "stream",
     "text": [
      "epoch 79 | loss: 0.12855 | train_mse: 0.08617 | train_mae: 0.21901 |  0:00:25s\n"
     ]
    },
    {
     "name": "stdout",
     "output_type": "stream",
     "text": [
      "epoch 80 | loss: 0.13623 | train_mse: 0.07644 | train_mae: 0.20156 |  0:00:26s\n"
     ]
    },
    {
     "name": "stdout",
     "output_type": "stream",
     "text": [
      "epoch 81 | loss: 0.20518 | train_mse: 0.08599 | train_mae: 0.20934 |  0:00:26s\n"
     ]
    },
    {
     "name": "stdout",
     "output_type": "stream",
     "text": [
      "epoch 82 | loss: 0.13762 | train_mse: 0.07832 | train_mae: 0.20387 |  0:00:26s\n"
     ]
    },
    {
     "name": "stdout",
     "output_type": "stream",
     "text": [
      "epoch 83 | loss: 0.13914 | train_mse: 0.07973 | train_mae: 0.20839 |  0:00:27s\n"
     ]
    },
    {
     "name": "stdout",
     "output_type": "stream",
     "text": [
      "epoch 84 | loss: 0.12269 | train_mse: 0.07471 | train_mae: 0.20335 |  0:00:27s\n"
     ]
    },
    {
     "name": "stdout",
     "output_type": "stream",
     "text": [
      "epoch 85 | loss: 0.15177 | train_mse: 0.07981 | train_mae: 0.20912 |  0:00:27s\n"
     ]
    },
    {
     "name": "stdout",
     "output_type": "stream",
     "text": [
      "epoch 86 | loss: 0.13484 | train_mse: 0.07475 | train_mae: 0.19963 |  0:00:27s\n"
     ]
    },
    {
     "name": "stdout",
     "output_type": "stream",
     "text": [
      "epoch 87 | loss: 0.1241  | train_mse: 0.0749  | train_mae: 0.19826 |  0:00:28s\n"
     ]
    },
    {
     "name": "stdout",
     "output_type": "stream",
     "text": [
      "epoch 88 | loss: 0.12371 | train_mse: 0.08502 | train_mae: 0.21416 |  0:00:28s\n"
     ]
    },
    {
     "name": "stdout",
     "output_type": "stream",
     "text": [
      "epoch 89 | loss: 0.15446 | train_mse: 0.07911 | train_mae: 0.2101  |  0:00:28s\n"
     ]
    },
    {
     "name": "stdout",
     "output_type": "stream",
     "text": [
      "epoch 90 | loss: 0.15553 | train_mse: 0.07878 | train_mae: 0.21051 |  0:00:29s\n"
     ]
    },
    {
     "name": "stdout",
     "output_type": "stream",
     "text": [
      "epoch 91 | loss: 0.15222 | train_mse: 0.07999 | train_mae: 0.20891 |  0:00:29s\n"
     ]
    },
    {
     "name": "stdout",
     "output_type": "stream",
     "text": [
      "epoch 92 | loss: 0.14125 | train_mse: 0.08362 | train_mae: 0.21321 |  0:00:29s\n"
     ]
    },
    {
     "name": "stdout",
     "output_type": "stream",
     "text": [
      "epoch 93 | loss: 0.1051  | train_mse: 0.07067 | train_mae: 0.19851 |  0:00:29s\n"
     ]
    },
    {
     "name": "stdout",
     "output_type": "stream",
     "text": [
      "epoch 94 | loss: 0.14347 | train_mse: 0.08241 | train_mae: 0.21337 |  0:00:30s\n"
     ]
    },
    {
     "name": "stdout",
     "output_type": "stream",
     "text": [
      "epoch 95 | loss: 0.12729 | train_mse: 0.08432 | train_mae: 0.21545 |  0:00:30s\n"
     ]
    },
    {
     "name": "stdout",
     "output_type": "stream",
     "text": [
      "epoch 96 | loss: 0.13568 | train_mse: 0.07948 | train_mae: 0.21143 |  0:00:30s\n"
     ]
    },
    {
     "name": "stdout",
     "output_type": "stream",
     "text": [
      "epoch 97 | loss: 0.12346 | train_mse: 0.0697  | train_mae: 0.19791 |  0:00:31s\n"
     ]
    },
    {
     "name": "stdout",
     "output_type": "stream",
     "text": [
      "epoch 98 | loss: 0.09604 | train_mse: 0.06984 | train_mae: 0.1995  |  0:00:31s\n"
     ]
    },
    {
     "name": "stdout",
     "output_type": "stream",
     "text": [
      "epoch 99 | loss: 0.13842 | train_mse: 0.06908 | train_mae: 0.19181 |  0:00:31s\n"
     ]
    },
    {
     "name": "stdout",
     "output_type": "stream",
     "text": [
      "epoch 100| loss: 0.12325 | train_mse: 0.08875 | train_mae: 0.21011 |  0:00:31s\n"
     ]
    },
    {
     "name": "stdout",
     "output_type": "stream",
     "text": [
      "epoch 101| loss: 0.11262 | train_mse: 0.07103 | train_mae: 0.1988  |  0:00:32s\n"
     ]
    },
    {
     "name": "stdout",
     "output_type": "stream",
     "text": [
      "epoch 102| loss: 0.12703 | train_mse: 0.07495 | train_mae: 0.20425 |  0:00:32s\n"
     ]
    },
    {
     "name": "stdout",
     "output_type": "stream",
     "text": [
      "epoch 103| loss: 0.16038 | train_mse: 0.08673 | train_mae: 0.21755 |  0:00:32s\n"
     ]
    },
    {
     "name": "stdout",
     "output_type": "stream",
     "text": [
      "epoch 104| loss: 0.15742 | train_mse: 0.08336 | train_mae: 0.21384 |  0:00:33s\n"
     ]
    },
    {
     "name": "stdout",
     "output_type": "stream",
     "text": [
      "epoch 105| loss: 0.12948 | train_mse: 0.08015 | train_mae: 0.20802 |  0:00:33s\n"
     ]
    },
    {
     "name": "stdout",
     "output_type": "stream",
     "text": [
      "epoch 106| loss: 0.11868 | train_mse: 0.07746 | train_mae: 0.20599 |  0:00:33s\n"
     ]
    },
    {
     "name": "stdout",
     "output_type": "stream",
     "text": [
      "epoch 107| loss: 0.13301 | train_mse: 0.0742  | train_mae: 0.2034  |  0:00:33s\n"
     ]
    },
    {
     "name": "stdout",
     "output_type": "stream",
     "text": [
      "epoch 108| loss: 0.17118 | train_mse: 0.09517 | train_mae: 0.22422 |  0:00:34s\n"
     ]
    },
    {
     "name": "stdout",
     "output_type": "stream",
     "text": [
      "epoch 109| loss: 0.11799 | train_mse: 0.08239 | train_mae: 0.2073  |  0:00:34s\n"
     ]
    },
    {
     "name": "stdout",
     "output_type": "stream",
     "text": [
      "epoch 110| loss: 0.11394 | train_mse: 0.06867 | train_mae: 0.19652 |  0:00:34s\n"
     ]
    },
    {
     "name": "stdout",
     "output_type": "stream",
     "text": [
      "epoch 111| loss: 0.1309  | train_mse: 0.07696 | train_mae: 0.20353 |  0:00:35s\n"
     ]
    },
    {
     "name": "stdout",
     "output_type": "stream",
     "text": [
      "epoch 112| loss: 0.14563 | train_mse: 0.08256 | train_mae: 0.20991 |  0:00:35s\n"
     ]
    },
    {
     "name": "stdout",
     "output_type": "stream",
     "text": [
      "epoch 113| loss: 0.15332 | train_mse: 0.07918 | train_mae: 0.20336 |  0:00:35s\n"
     ]
    },
    {
     "name": "stdout",
     "output_type": "stream",
     "text": [
      "epoch 114| loss: 0.12204 | train_mse: 0.07592 | train_mae: 0.20697 |  0:00:35s\n"
     ]
    },
    {
     "name": "stdout",
     "output_type": "stream",
     "text": [
      "epoch 115| loss: 0.11934 | train_mse: 0.07586 | train_mae: 0.20958 |  0:00:36s\n"
     ]
    },
    {
     "name": "stdout",
     "output_type": "stream",
     "text": [
      "epoch 116| loss: 0.12864 | train_mse: 0.07155 | train_mae: 0.19601 |  0:00:36s\n"
     ]
    },
    {
     "name": "stdout",
     "output_type": "stream",
     "text": [
      "epoch 117| loss: 0.11448 | train_mse: 0.07242 | train_mae: 0.20066 |  0:00:36s\n"
     ]
    },
    {
     "name": "stdout",
     "output_type": "stream",
     "text": [
      "epoch 118| loss: 0.13367 | train_mse: 0.08273 | train_mae: 0.20634 |  0:00:37s\n"
     ]
    },
    {
     "name": "stdout",
     "output_type": "stream",
     "text": [
      "epoch 119| loss: 0.12145 | train_mse: 0.07753 | train_mae: 0.20075 |  0:00:37s\n"
     ]
    },
    {
     "name": "stdout",
     "output_type": "stream",
     "text": [
      "epoch 120| loss: 0.12596 | train_mse: 0.08504 | train_mae: 0.2091  |  0:00:37s\n"
     ]
    },
    {
     "name": "stdout",
     "output_type": "stream",
     "text": [
      "epoch 121| loss: 0.12537 | train_mse: 0.07588 | train_mae: 0.20266 |  0:00:37s\n"
     ]
    },
    {
     "name": "stdout",
     "output_type": "stream",
     "text": [
      "epoch 122| loss: 0.15225 | train_mse: 0.07275 | train_mae: 0.19542 |  0:00:38s\n"
     ]
    },
    {
     "name": "stdout",
     "output_type": "stream",
     "text": [
      "epoch 123| loss: 0.16007 | train_mse: 0.06971 | train_mae: 0.19202 |  0:00:38s\n"
     ]
    },
    {
     "name": "stdout",
     "output_type": "stream",
     "text": [
      "epoch 124| loss: 0.13082 | train_mse: 0.07063 | train_mae: 0.19547 |  0:00:38s\n"
     ]
    },
    {
     "name": "stdout",
     "output_type": "stream",
     "text": [
      "epoch 125| loss: 0.12852 | train_mse: 0.0646  | train_mae: 0.18938 |  0:00:39s\n"
     ]
    },
    {
     "name": "stdout",
     "output_type": "stream",
     "text": [
      "epoch 126| loss: 0.11473 | train_mse: 0.06672 | train_mae: 0.19356 |  0:00:39s\n"
     ]
    },
    {
     "name": "stdout",
     "output_type": "stream",
     "text": [
      "epoch 127| loss: 0.11638 | train_mse: 0.07188 | train_mae: 0.19926 |  0:00:39s\n"
     ]
    },
    {
     "name": "stdout",
     "output_type": "stream",
     "text": [
      "epoch 128| loss: 0.16691 | train_mse: 0.07001 | train_mae: 0.19746 |  0:00:39s\n"
     ]
    },
    {
     "name": "stdout",
     "output_type": "stream",
     "text": [
      "epoch 129| loss: 0.13439 | train_mse: 0.0796  | train_mae: 0.21266 |  0:00:40s\n"
     ]
    },
    {
     "name": "stdout",
     "output_type": "stream",
     "text": [
      "epoch 130| loss: 0.12287 | train_mse: 0.058   | train_mae: 0.17959 |  0:00:40s\n"
     ]
    },
    {
     "name": "stdout",
     "output_type": "stream",
     "text": [
      "epoch 131| loss: 0.15711 | train_mse: 0.08491 | train_mae: 0.21921 |  0:00:40s\n"
     ]
    },
    {
     "name": "stdout",
     "output_type": "stream",
     "text": [
      "epoch 132| loss: 0.12092 | train_mse: 0.07323 | train_mae: 0.19974 |  0:00:41s\n"
     ]
    },
    {
     "name": "stdout",
     "output_type": "stream",
     "text": [
      "epoch 133| loss: 0.09391 | train_mse: 0.06689 | train_mae: 0.18655 |  0:00:41s\n"
     ]
    },
    {
     "name": "stdout",
     "output_type": "stream",
     "text": [
      "epoch 134| loss: 0.10382 | train_mse: 0.06616 | train_mae: 0.18973 |  0:00:41s\n"
     ]
    },
    {
     "name": "stdout",
     "output_type": "stream",
     "text": [
      "epoch 135| loss: 0.11423 | train_mse: 0.07137 | train_mae: 0.20077 |  0:00:41s\n"
     ]
    },
    {
     "name": "stdout",
     "output_type": "stream",
     "text": [
      "epoch 136| loss: 0.10978 | train_mse: 0.07168 | train_mae: 0.19633 |  0:00:42s\n"
     ]
    },
    {
     "name": "stdout",
     "output_type": "stream",
     "text": [
      "epoch 137| loss: 0.14067 | train_mse: 0.0745  | train_mae: 0.20908 |  0:00:42s\n"
     ]
    },
    {
     "name": "stdout",
     "output_type": "stream",
     "text": [
      "epoch 138| loss: 0.11666 | train_mse: 0.05959 | train_mae: 0.18162 |  0:00:42s\n"
     ]
    },
    {
     "name": "stdout",
     "output_type": "stream",
     "text": [
      "epoch 139| loss: 0.10462 | train_mse: 0.06549 | train_mae: 0.18752 |  0:00:43s\n"
     ]
    },
    {
     "name": "stdout",
     "output_type": "stream",
     "text": [
      "epoch 140| loss: 0.11413 | train_mse: 0.06305 | train_mae: 0.18499 |  0:00:43s\n"
     ]
    },
    {
     "name": "stdout",
     "output_type": "stream",
     "text": [
      "epoch 141| loss: 0.11963 | train_mse: 0.06368 | train_mae: 0.18283 |  0:00:43s\n"
     ]
    },
    {
     "name": "stdout",
     "output_type": "stream",
     "text": [
      "epoch 142| loss: 0.14357 | train_mse: 0.05955 | train_mae: 0.17765 |  0:00:43s\n"
     ]
    },
    {
     "name": "stdout",
     "output_type": "stream",
     "text": [
      "epoch 143| loss: 0.11891 | train_mse: 0.06602 | train_mae: 0.18843 |  0:00:44s\n"
     ]
    },
    {
     "name": "stdout",
     "output_type": "stream",
     "text": [
      "epoch 144| loss: 0.1012  | train_mse: 0.06489 | train_mae: 0.18684 |  0:00:44s\n"
     ]
    },
    {
     "name": "stdout",
     "output_type": "stream",
     "text": [
      "epoch 145| loss: 0.10608 | train_mse: 0.07928 | train_mae: 0.19921 |  0:00:44s\n"
     ]
    },
    {
     "name": "stdout",
     "output_type": "stream",
     "text": [
      "epoch 146| loss: 0.12733 | train_mse: 0.0794  | train_mae: 0.19968 |  0:00:45s\n"
     ]
    },
    {
     "name": "stdout",
     "output_type": "stream",
     "text": [
      "epoch 147| loss: 0.13808 | train_mse: 0.08264 | train_mae: 0.20597 |  0:00:45s\n"
     ]
    },
    {
     "name": "stdout",
     "output_type": "stream",
     "text": [
      "epoch 148| loss: 0.15378 | train_mse: 0.07508 | train_mae: 0.19763 |  0:00:45s\n"
     ]
    },
    {
     "name": "stdout",
     "output_type": "stream",
     "text": [
      "epoch 149| loss: 0.12785 | train_mse: 0.07135 | train_mae: 0.19504 |  0:00:45s\n"
     ]
    },
    {
     "name": "stdout",
     "output_type": "stream",
     "text": [
      "epoch 150| loss: 0.14138 | train_mse: 0.1045  | train_mae: 0.22892 |  0:00:46s\n"
     ]
    },
    {
     "name": "stdout",
     "output_type": "stream",
     "text": [
      "epoch 151| loss: 0.14411 | train_mse: 0.08095 | train_mae: 0.19942 |  0:00:46s\n"
     ]
    },
    {
     "name": "stdout",
     "output_type": "stream",
     "text": [
      "epoch 152| loss: 0.1062  | train_mse: 0.06318 | train_mae: 0.18834 |  0:00:46s\n"
     ]
    },
    {
     "name": "stdout",
     "output_type": "stream",
     "text": [
      "epoch 153| loss: 0.14845 | train_mse: 0.07631 | train_mae: 0.20586 |  0:00:47s\n"
     ]
    },
    {
     "name": "stdout",
     "output_type": "stream",
     "text": [
      "epoch 154| loss: 0.14626 | train_mse: 0.06769 | train_mae: 0.18864 |  0:00:47s\n"
     ]
    },
    {
     "name": "stdout",
     "output_type": "stream",
     "text": [
      "epoch 155| loss: 0.11019 | train_mse: 0.0763  | train_mae: 0.19945 |  0:00:47s\n"
     ]
    },
    {
     "name": "stdout",
     "output_type": "stream",
     "text": [
      "epoch 156| loss: 0.12701 | train_mse: 0.06722 | train_mae: 0.19032 |  0:00:47s\n"
     ]
    },
    {
     "name": "stdout",
     "output_type": "stream",
     "text": [
      "epoch 157| loss: 0.10021 | train_mse: 0.06145 | train_mae: 0.18161 |  0:00:48s\n"
     ]
    },
    {
     "name": "stdout",
     "output_type": "stream",
     "text": [
      "epoch 158| loss: 0.09498 | train_mse: 0.06357 | train_mae: 0.18473 |  0:00:48s\n"
     ]
    },
    {
     "name": "stdout",
     "output_type": "stream",
     "text": [
      "epoch 159| loss: 0.10596 | train_mse: 0.08681 | train_mae: 0.2053  |  0:00:48s\n"
     ]
    },
    {
     "name": "stdout",
     "output_type": "stream",
     "text": [
      "epoch 160| loss: 0.11247 | train_mse: 0.07377 | train_mae: 0.18386 |  0:00:49s\n"
     ]
    },
    {
     "name": "stdout",
     "output_type": "stream",
     "text": [
      "epoch 161| loss: 0.09651 | train_mse: 0.07535 | train_mae: 0.1955  |  0:00:49s\n"
     ]
    },
    {
     "name": "stdout",
     "output_type": "stream",
     "text": [
      "epoch 162| loss: 0.1448  | train_mse: 0.14589 | train_mae: 0.22429 |  0:00:49s\n"
     ]
    },
    {
     "name": "stdout",
     "output_type": "stream",
     "text": [
      "epoch 163| loss: 0.10041 | train_mse: 0.06958 | train_mae: 0.19468 |  0:00:49s\n"
     ]
    },
    {
     "name": "stdout",
     "output_type": "stream",
     "text": [
      "epoch 164| loss: 0.13239 | train_mse: 0.06601 | train_mae: 0.1854  |  0:00:50s\n"
     ]
    },
    {
     "name": "stdout",
     "output_type": "stream",
     "text": [
      "epoch 165| loss: 0.113   | train_mse: 0.07967 | train_mae: 0.20668 |  0:00:50s\n"
     ]
    },
    {
     "name": "stdout",
     "output_type": "stream",
     "text": [
      "epoch 166| loss: 0.13415 | train_mse: 0.06329 | train_mae: 0.18226 |  0:00:50s\n"
     ]
    },
    {
     "name": "stdout",
     "output_type": "stream",
     "text": [
      "epoch 167| loss: 0.10973 | train_mse: 0.10803 | train_mae: 0.23263 |  0:00:51s\n"
     ]
    },
    {
     "name": "stdout",
     "output_type": "stream",
     "text": [
      "epoch 168| loss: 0.1169  | train_mse: 0.06776 | train_mae: 0.18835 |  0:00:51s\n"
     ]
    },
    {
     "name": "stdout",
     "output_type": "stream",
     "text": [
      "epoch 169| loss: 0.11579 | train_mse: 0.08754 | train_mae: 0.20858 |  0:00:51s\n"
     ]
    },
    {
     "name": "stdout",
     "output_type": "stream",
     "text": [
      "epoch 170| loss: 0.12057 | train_mse: 0.06752 | train_mae: 0.1885  |  0:00:51s\n"
     ]
    },
    {
     "name": "stdout",
     "output_type": "stream",
     "text": [
      "epoch 171| loss: 0.13686 | train_mse: 0.07862 | train_mae: 0.20063 |  0:00:52s\n"
     ]
    },
    {
     "name": "stdout",
     "output_type": "stream",
     "text": [
      "epoch 172| loss: 0.14166 | train_mse: 0.06786 | train_mae: 0.19457 |  0:00:52s\n"
     ]
    },
    {
     "name": "stdout",
     "output_type": "stream",
     "text": [
      "epoch 173| loss: 0.11955 | train_mse: 0.07388 | train_mae: 0.20167 |  0:00:52s\n"
     ]
    },
    {
     "name": "stdout",
     "output_type": "stream",
     "text": [
      "epoch 174| loss: 0.11747 | train_mse: 0.07269 | train_mae: 0.19767 |  0:00:53s\n"
     ]
    },
    {
     "name": "stdout",
     "output_type": "stream",
     "text": [
      "epoch 175| loss: 0.13581 | train_mse: 0.06583 | train_mae: 0.18912 |  0:00:53s\n"
     ]
    },
    {
     "name": "stdout",
     "output_type": "stream",
     "text": [
      "epoch 176| loss: 0.12045 | train_mse: 0.07328 | train_mae: 0.1996  |  0:00:53s\n"
     ]
    },
    {
     "name": "stdout",
     "output_type": "stream",
     "text": [
      "epoch 177| loss: 0.13078 | train_mse: 0.08204 | train_mae: 0.21118 |  0:00:54s\n"
     ]
    },
    {
     "name": "stdout",
     "output_type": "stream",
     "text": [
      "epoch 178| loss: 0.11139 | train_mse: 0.0717  | train_mae: 0.19516 |  0:00:54s\n"
     ]
    },
    {
     "name": "stdout",
     "output_type": "stream",
     "text": [
      "epoch 179| loss: 0.11227 | train_mse: 0.05993 | train_mae: 0.18247 |  0:00:54s\n"
     ]
    },
    {
     "name": "stdout",
     "output_type": "stream",
     "text": [
      "epoch 180| loss: 0.09415 | train_mse: 0.06628 | train_mae: 0.18782 |  0:00:55s\n"
     ]
    },
    {
     "name": "stdout",
     "output_type": "stream",
     "text": [
      "epoch 181| loss: 0.13532 | train_mse: 0.06563 | train_mae: 0.18405 |  0:00:55s\n"
     ]
    },
    {
     "name": "stdout",
     "output_type": "stream",
     "text": [
      "epoch 182| loss: 0.14965 | train_mse: 0.05931 | train_mae: 0.17672 |  0:00:55s\n"
     ]
    },
    {
     "name": "stdout",
     "output_type": "stream",
     "text": [
      "epoch 183| loss: 0.13288 | train_mse: 0.06028 | train_mae: 0.17796 |  0:00:55s\n"
     ]
    },
    {
     "name": "stdout",
     "output_type": "stream",
     "text": [
      "epoch 184| loss: 0.1137  | train_mse: 0.05876 | train_mae: 0.18129 |  0:00:56s\n"
     ]
    },
    {
     "name": "stdout",
     "output_type": "stream",
     "text": [
      "epoch 185| loss: 0.09215 | train_mse: 0.06477 | train_mae: 0.18935 |  0:00:56s\n"
     ]
    },
    {
     "name": "stdout",
     "output_type": "stream",
     "text": [
      "epoch 186| loss: 0.12243 | train_mse: 0.06402 | train_mae: 0.1896  |  0:00:56s\n"
     ]
    },
    {
     "name": "stdout",
     "output_type": "stream",
     "text": [
      "epoch 187| loss: 0.10488 | train_mse: 0.06148 | train_mae: 0.18061 |  0:00:57s\n"
     ]
    },
    {
     "name": "stdout",
     "output_type": "stream",
     "text": [
      "epoch 188| loss: 0.08773 | train_mse: 0.06068 | train_mae: 0.17866 |  0:00:57s\n"
     ]
    },
    {
     "name": "stdout",
     "output_type": "stream",
     "text": [
      "epoch 189| loss: 0.11838 | train_mse: 0.05349 | train_mae: 0.16795 |  0:00:57s\n"
     ]
    },
    {
     "name": "stdout",
     "output_type": "stream",
     "text": [
      "epoch 190| loss: 0.10725 | train_mse: 0.08005 | train_mae: 0.19755 |  0:00:58s\n"
     ]
    },
    {
     "name": "stdout",
     "output_type": "stream",
     "text": [
      "epoch 191| loss: 0.1257  | train_mse: 0.06705 | train_mae: 0.19058 |  0:00:58s\n"
     ]
    },
    {
     "name": "stdout",
     "output_type": "stream",
     "text": [
      "epoch 192| loss: 0.11311 | train_mse: 0.0594  | train_mae: 0.17839 |  0:00:58s\n"
     ]
    },
    {
     "name": "stdout",
     "output_type": "stream",
     "text": [
      "epoch 193| loss: 0.11239 | train_mse: 0.06497 | train_mae: 0.18821 |  0:00:59s\n"
     ]
    },
    {
     "name": "stdout",
     "output_type": "stream",
     "text": [
      "epoch 194| loss: 0.16057 | train_mse: 0.07118 | train_mae: 0.20051 |  0:00:59s\n"
     ]
    },
    {
     "name": "stdout",
     "output_type": "stream",
     "text": [
      "epoch 195| loss: 0.11524 | train_mse: 0.06668 | train_mae: 0.19104 |  0:00:59s\n"
     ]
    },
    {
     "name": "stdout",
     "output_type": "stream",
     "text": [
      "epoch 196| loss: 0.08548 | train_mse: 0.06181 | train_mae: 0.18238 |  0:01:00s\n"
     ]
    },
    {
     "name": "stdout",
     "output_type": "stream",
     "text": [
      "epoch 197| loss: 0.10974 | train_mse: 0.05915 | train_mae: 0.18095 |  0:01:00s\n"
     ]
    },
    {
     "name": "stdout",
     "output_type": "stream",
     "text": [
      "epoch 198| loss: 0.12043 | train_mse: 0.0664  | train_mae: 0.18734 |  0:01:00s\n"
     ]
    },
    {
     "name": "stdout",
     "output_type": "stream",
     "text": [
      "epoch 199| loss: 0.11236 | train_mse: 0.07823 | train_mae: 0.19967 |  0:01:00s\n"
     ]
    },
    {
     "name": "stdout",
     "output_type": "stream",
     "text": [
      "epoch 200| loss: 0.09826 | train_mse: 0.07204 | train_mae: 0.18757 |  0:01:01s\n"
     ]
    },
    {
     "name": "stdout",
     "output_type": "stream",
     "text": [
      "epoch 201| loss: 0.11302 | train_mse: 0.0647  | train_mae: 0.18955 |  0:01:01s\n"
     ]
    },
    {
     "name": "stdout",
     "output_type": "stream",
     "text": [
      "epoch 202| loss: 0.09214 | train_mse: 0.05591 | train_mae: 0.17238 |  0:01:01s\n"
     ]
    },
    {
     "name": "stdout",
     "output_type": "stream",
     "text": [
      "epoch 203| loss: 0.09931 | train_mse: 0.06079 | train_mae: 0.17798 |  0:01:02s\n"
     ]
    },
    {
     "name": "stdout",
     "output_type": "stream",
     "text": [
      "epoch 204| loss: 0.10655 | train_mse: 0.05547 | train_mae: 0.17666 |  0:01:02s\n"
     ]
    },
    {
     "name": "stdout",
     "output_type": "stream",
     "text": [
      "epoch 205| loss: 0.09855 | train_mse: 0.0564  | train_mae: 0.17663 |  0:01:02s\n"
     ]
    },
    {
     "name": "stdout",
     "output_type": "stream",
     "text": [
      "epoch 206| loss: 0.09822 | train_mse: 0.05854 | train_mae: 0.17953 |  0:01:03s\n"
     ]
    },
    {
     "name": "stdout",
     "output_type": "stream",
     "text": [
      "epoch 207| loss: 0.11297 | train_mse: 0.04947 | train_mae: 0.16301 |  0:01:03s\n"
     ]
    },
    {
     "name": "stdout",
     "output_type": "stream",
     "text": [
      "epoch 208| loss: 0.10744 | train_mse: 0.06772 | train_mae: 0.18915 |  0:01:03s\n"
     ]
    },
    {
     "name": "stdout",
     "output_type": "stream",
     "text": [
      "epoch 209| loss: 0.11089 | train_mse: 0.05063 | train_mae: 0.16434 |  0:01:03s\n"
     ]
    },
    {
     "name": "stdout",
     "output_type": "stream",
     "text": [
      "epoch 210| loss: 0.09179 | train_mse: 0.0675  | train_mae: 0.19094 |  0:01:04s\n"
     ]
    },
    {
     "name": "stdout",
     "output_type": "stream",
     "text": [
      "epoch 211| loss: 0.11079 | train_mse: 0.0595  | train_mae: 0.17922 |  0:01:04s\n"
     ]
    },
    {
     "name": "stdout",
     "output_type": "stream",
     "text": [
      "epoch 212| loss: 0.11985 | train_mse: 0.0647  | train_mae: 0.18569 |  0:01:04s\n"
     ]
    },
    {
     "name": "stdout",
     "output_type": "stream",
     "text": [
      "epoch 213| loss: 0.1462  | train_mse: 0.05745 | train_mae: 0.17605 |  0:01:05s\n"
     ]
    },
    {
     "name": "stdout",
     "output_type": "stream",
     "text": [
      "epoch 214| loss: 0.107   | train_mse: 0.06917 | train_mae: 0.19353 |  0:01:05s\n"
     ]
    },
    {
     "name": "stdout",
     "output_type": "stream",
     "text": [
      "epoch 215| loss: 0.09034 | train_mse: 0.07102 | train_mae: 0.19082 |  0:01:05s\n"
     ]
    },
    {
     "name": "stdout",
     "output_type": "stream",
     "text": [
      "epoch 216| loss: 0.12192 | train_mse: 0.06315 | train_mae: 0.1836  |  0:01:06s\n"
     ]
    },
    {
     "name": "stdout",
     "output_type": "stream",
     "text": [
      "epoch 217| loss: 0.1156  | train_mse: 0.07148 | train_mae: 0.20126 |  0:01:06s\n"
     ]
    },
    {
     "name": "stdout",
     "output_type": "stream",
     "text": [
      "epoch 218| loss: 0.10929 | train_mse: 0.05644 | train_mae: 0.17869 |  0:01:06s\n"
     ]
    },
    {
     "name": "stdout",
     "output_type": "stream",
     "text": [
      "epoch 219| loss: 0.09521 | train_mse: 0.05579 | train_mae: 0.17553 |  0:01:07s\n"
     ]
    },
    {
     "name": "stdout",
     "output_type": "stream",
     "text": [
      "epoch 220| loss: 0.10946 | train_mse: 0.04998 | train_mae: 0.16443 |  0:01:07s\n"
     ]
    },
    {
     "name": "stdout",
     "output_type": "stream",
     "text": [
      "epoch 221| loss: 0.10277 | train_mse: 0.0592  | train_mae: 0.17621 |  0:01:07s\n"
     ]
    },
    {
     "name": "stdout",
     "output_type": "stream",
     "text": [
      "epoch 222| loss: 0.09175 | train_mse: 0.05813 | train_mae: 0.17526 |  0:01:08s\n"
     ]
    },
    {
     "name": "stdout",
     "output_type": "stream",
     "text": [
      "epoch 223| loss: 0.10587 | train_mse: 0.06302 | train_mae: 0.18275 |  0:01:08s\n"
     ]
    },
    {
     "name": "stdout",
     "output_type": "stream",
     "text": [
      "epoch 224| loss: 0.09029 | train_mse: 0.0564  | train_mae: 0.17574 |  0:01:08s\n"
     ]
    },
    {
     "name": "stdout",
     "output_type": "stream",
     "text": [
      "epoch 225| loss: 0.10239 | train_mse: 0.08401 | train_mae: 0.21371 |  0:01:08s\n"
     ]
    },
    {
     "name": "stdout",
     "output_type": "stream",
     "text": [
      "epoch 226| loss: 0.08616 | train_mse: 0.05478 | train_mae: 0.17219 |  0:01:09s\n"
     ]
    },
    {
     "name": "stdout",
     "output_type": "stream",
     "text": [
      "epoch 227| loss: 0.10546 | train_mse: 0.06765 | train_mae: 0.18396 |  0:01:09s\n"
     ]
    },
    {
     "name": "stdout",
     "output_type": "stream",
     "text": [
      "epoch 228| loss: 0.10861 | train_mse: 0.06374 | train_mae: 0.18169 |  0:01:09s\n"
     ]
    },
    {
     "name": "stdout",
     "output_type": "stream",
     "text": [
      "epoch 229| loss: 0.10644 | train_mse: 0.05446 | train_mae: 0.16989 |  0:01:10s\n"
     ]
    },
    {
     "name": "stdout",
     "output_type": "stream",
     "text": [
      "epoch 230| loss: 0.11248 | train_mse: 0.06074 | train_mae: 0.18054 |  0:01:10s\n"
     ]
    },
    {
     "name": "stdout",
     "output_type": "stream",
     "text": [
      "epoch 231| loss: 0.13056 | train_mse: 0.06038 | train_mae: 0.17627 |  0:01:10s\n"
     ]
    },
    {
     "name": "stdout",
     "output_type": "stream",
     "text": [
      "epoch 232| loss: 0.10045 | train_mse: 0.0688  | train_mae: 0.19301 |  0:01:11s\n"
     ]
    },
    {
     "name": "stdout",
     "output_type": "stream",
     "text": [
      "epoch 233| loss: 0.10617 | train_mse: 0.05935 | train_mae: 0.17878 |  0:01:11s\n"
     ]
    },
    {
     "name": "stdout",
     "output_type": "stream",
     "text": [
      "epoch 234| loss: 0.10231 | train_mse: 0.08037 | train_mae: 0.20415 |  0:01:11s\n"
     ]
    },
    {
     "name": "stdout",
     "output_type": "stream",
     "text": [
      "epoch 235| loss: 0.10797 | train_mse: 0.06406 | train_mae: 0.18565 |  0:01:11s\n"
     ]
    },
    {
     "name": "stdout",
     "output_type": "stream",
     "text": [
      "epoch 236| loss: 0.096   | train_mse: 0.06419 | train_mae: 0.1888  |  0:01:12s\n"
     ]
    },
    {
     "name": "stdout",
     "output_type": "stream",
     "text": [
      "epoch 237| loss: 0.11775 | train_mse: 0.05973 | train_mae: 0.17999 |  0:01:12s\n"
     ]
    },
    {
     "name": "stdout",
     "output_type": "stream",
     "text": [
      "epoch 238| loss: 0.10798 | train_mse: 0.06404 | train_mae: 0.1897  |  0:01:13s\n"
     ]
    },
    {
     "name": "stdout",
     "output_type": "stream",
     "text": [
      "epoch 239| loss: 0.08874 | train_mse: 0.05877 | train_mae: 0.17807 |  0:01:13s\n"
     ]
    },
    {
     "name": "stdout",
     "output_type": "stream",
     "text": [
      "epoch 240| loss: 0.11054 | train_mse: 0.05663 | train_mae: 0.17497 |  0:01:14s\n"
     ]
    },
    {
     "name": "stdout",
     "output_type": "stream",
     "text": [
      "epoch 241| loss: 0.14537 | train_mse: 0.06693 | train_mae: 0.17742 |  0:01:14s\n"
     ]
    },
    {
     "name": "stdout",
     "output_type": "stream",
     "text": [
      "epoch 242| loss: 0.10606 | train_mse: 0.06471 | train_mae: 0.1838  |  0:01:15s\n"
     ]
    },
    {
     "name": "stdout",
     "output_type": "stream",
     "text": [
      "epoch 243| loss: 0.09345 | train_mse: 0.07049 | train_mae: 0.19551 |  0:01:15s\n"
     ]
    },
    {
     "name": "stdout",
     "output_type": "stream",
     "text": [
      "epoch 244| loss: 0.08148 | train_mse: 0.05364 | train_mae: 0.17484 |  0:01:15s\n"
     ]
    },
    {
     "name": "stdout",
     "output_type": "stream",
     "text": [
      "epoch 245| loss: 0.09956 | train_mse: 0.05195 | train_mae: 0.16521 |  0:01:16s\n"
     ]
    },
    {
     "name": "stdout",
     "output_type": "stream",
     "text": [
      "epoch 246| loss: 0.11743 | train_mse: 0.07877 | train_mae: 0.19692 |  0:01:16s\n"
     ]
    },
    {
     "name": "stdout",
     "output_type": "stream",
     "text": [
      "epoch 247| loss: 0.11733 | train_mse: 0.06152 | train_mae: 0.17681 |  0:01:17s\n"
     ]
    },
    {
     "name": "stdout",
     "output_type": "stream",
     "text": [
      "epoch 248| loss: 0.12572 | train_mse: 0.08422 | train_mae: 0.20723 |  0:01:17s\n"
     ]
    },
    {
     "name": "stdout",
     "output_type": "stream",
     "text": [
      "epoch 249| loss: 0.12874 | train_mse: 0.10186 | train_mae: 0.22953 |  0:01:17s\n"
     ]
    },
    {
     "name": "stdout",
     "output_type": "stream",
     "text": [
      "epoch 250| loss: 0.18118 | train_mse: 0.09444 | train_mae: 0.21321 |  0:01:17s\n"
     ]
    },
    {
     "name": "stdout",
     "output_type": "stream",
     "text": [
      "epoch 251| loss: 0.10766 | train_mse: 0.06203 | train_mae: 0.18267 |  0:01:18s\n"
     ]
    },
    {
     "name": "stdout",
     "output_type": "stream",
     "text": [
      "epoch 252| loss: 0.12126 | train_mse: 0.06026 | train_mae: 0.18386 |  0:01:18s\n"
     ]
    },
    {
     "name": "stdout",
     "output_type": "stream",
     "text": [
      "epoch 253| loss: 0.14155 | train_mse: 0.06782 | train_mae: 0.1897  |  0:01:18s\n"
     ]
    },
    {
     "name": "stdout",
     "output_type": "stream",
     "text": [
      "epoch 254| loss: 0.16009 | train_mse: 0.09223 | train_mae: 0.20323 |  0:01:19s\n"
     ]
    },
    {
     "name": "stdout",
     "output_type": "stream",
     "text": [
      "epoch 255| loss: 0.1456  | train_mse: 0.09263 | train_mae: 0.21117 |  0:01:19s\n"
     ]
    },
    {
     "name": "stdout",
     "output_type": "stream",
     "text": [
      "epoch 256| loss: 0.15685 | train_mse: 0.09877 | train_mae: 0.22462 |  0:01:20s\n"
     ]
    },
    {
     "name": "stdout",
     "output_type": "stream",
     "text": [
      "epoch 257| loss: 0.12137 | train_mse: 0.08742 | train_mae: 0.21285 |  0:01:20s\n",
      "\n",
      "Early stopping occurred at epoch 257 with best_epoch = 207 and best_train_mae = 0.16301\n",
      "Best weights from best epoch are automatically used!\n",
      "BEST VALID SCORE FOR dataset : 0.16301215942334235\n",
      "FINAL TEST SCORE FOR dataset: 0.22871264161602128\n",
      "{'loss': [2.558527198168311, 0.8709193704151871, 0.5878802231042692, 0.5472715597341558, 0.4593111778249835, 0.42065414609295304, 0.35268190001497174, 0.37258075723553646, 0.3439002942920911, 0.31697976714608694, 0.30169185996055603, 0.30233059410411534, 0.250108871867161, 0.25118690375054237, 0.23328762671144881, 0.25981476371831236, 0.1999606099901813, 0.23293912469750583, 0.20706382659402225, 0.22543510676610587, 0.23225425405077416, 0.22143458825821924, 0.21582028845159135, 0.23859653496506192, 0.17797248463819523, 0.17429734397642682, 0.23695708899804863, 0.22376110780947278, 0.18592893605185026, 0.17576511868155828, 0.20947088721660104, 0.21292024703309087, 0.15880612704423394, 0.22286832937509707, 0.19337003183836984, 0.2370854604362261, 0.16962311261951332, 0.19662014358114488, 0.18469024678268056, 0.18877140100639644, 0.17866217322868877, 0.1981298832019957, 0.2161085012525615, 0.17268131599567904, 0.1655755859642926, 0.20454352872796577, 0.1628800568604233, 0.1472458022065682, 0.15119085660075196, 0.14627642767264112, 0.1786208214736221, 0.19328154756291077, 0.19518914671227483, 0.18085438337656531, 0.12202024245911305, 0.16576274204077107, 0.14819236262009874, 0.13273325547723486, 0.1263150740968119, 0.13522257899293805, 0.15451292453868554, 0.15183567882764457, 0.14499658434697899, 0.1314707920692935, 0.1713708625866635, 0.17341306540045406, 0.15401223965800634, 0.1292667554156615, 0.14295817424755286, 0.1651405420633826, 0.20554651637183557, 0.15843853310193165, 0.1470168857733802, 0.1408123008095392, 0.12593111307314125, 0.13893519563250023, 0.11708806838729593, 0.13612784976416295, 0.13551968527902472, 0.12854953124971674, 0.13622776308272144, 0.2051818586222016, 0.1376190191448325, 0.13913971812713263, 0.12269121865824897, 0.15177186585889005, 0.1348410001633191, 0.1241046274357503, 0.12370851259715486, 0.15446490698521675, 0.15552688596567305, 0.1522216560817001, 0.14124874785394953, 0.1051000534455375, 0.14346756439397831, 0.1272878733896973, 0.13568122021042475, 0.12345507667206301, 0.09603519059053742, 0.13842248459263604, 0.123247859722907, 0.1126166045075596, 0.12703444911996917, 0.16038434723816294, 0.15742208653747444, 0.12948348616609479, 0.1186770627109131, 0.13300542916991923, 0.17117533353295658, 0.11798551169657472, 0.11393933116209388, 0.1309032491823234, 0.1456254759047291, 0.15331512755981766, 0.12203689362152968, 0.11934087713166039, 0.1286399649216397, 0.11448402953620004, 0.13367278150992815, 0.12145012204009707, 0.1259550784188922, 0.1253722568992341, 0.15225346751584865, 0.16006890426177794, 0.13081714687961163, 0.12852380550143744, 0.1147315985347965, 0.11637643001752325, 0.16691202950654643, 0.13439480930861863, 0.12287294141726916, 0.15710752818844106, 0.1209195768921682, 0.09391099273568333, 0.10381797638417471, 0.11423252486061342, 0.10977573973117488, 0.14067304488455895, 0.11666358977851302, 0.10462133885167613, 0.11413394490090928, 0.11963345154677288, 0.1435670268417585, 0.1189066541224423, 0.10119595467159063, 0.10607821191891585, 0.12733275354793755, 0.13808205981950952, 0.15378077615900795, 0.12784585135407966, 0.1413752262545104, 0.14410651976814365, 0.10619758379341353, 0.14844567778677042, 0.14626077746990884, 0.11018502505699007, 0.12700990816154104, 0.10021313648707796, 0.09497850889911746, 0.10596129667050767, 0.11247228985965842, 0.09651269313722553, 0.14479931510320984, 0.10040729478149131, 0.132390462894841, 0.11300113140651495, 0.134146119403367, 0.10973227628976992, 0.11690182382665058, 0.11579267739659489, 0.12057059560671891, 0.1368562652923093, 0.14166388011509828, 0.1195548583227809, 0.11747120140065061, 0.13580674980536545, 0.12045211544131289, 0.1307761676535748, 0.11139303921620444, 0.11227070842639054, 0.09414715607567589, 0.13532230848132973, 0.14964728758181675, 0.13288385871023234, 0.11369662060595975, 0.09214981195360127, 0.12243325617348794, 0.1048812807934119, 0.08773415395528963, 0.11838171181112232, 0.10725387576783058, 0.1256956317932299, 0.11311191453201937, 0.11238906702192702, 0.16057173767597369, 0.11524475107688716, 0.08547819435301393, 0.10974192663584606, 0.1204284248080584, 0.11236271461342821, 0.09826200079209733, 0.11302477386918398, 0.09214001318605819, 0.0993056070096422, 0.10655231154201054, 0.09854548520380908, 0.09822141349610716, 0.1129740305466227, 0.10744151318132288, 0.11089029273774365, 0.09178731715915227, 0.11079435707023828, 0.11984781839764945, 0.1461965294167547, 0.1069957431000058, 0.0903397282161335, 0.12192397217939396, 0.11559995625278738, 0.1092946879049339, 0.09521372675305546, 0.10945602026906344, 0.10277417220986716, 0.09174984368947472, 0.10586711196321072, 0.09029296365114722, 0.10238806224695526, 0.08616009229185558, 0.10546487673084334, 0.10860572622554136, 0.10643576933900908, 0.112481890190946, 0.13056293690558707, 0.10044768290354474, 0.10616678619148708, 0.10231413271757636, 0.10796869435522816, 0.09599747442372955, 0.11774913804365857, 0.1079752175967292, 0.08874164108592685, 0.11054034103261362, 0.14537397735189683, 0.10606325163257004, 0.09344511449632079, 0.08148016433904667, 0.09955922536330648, 0.11743492522452137, 0.11733370665276405, 0.12572452765290099, 0.12873667257257027, 0.1811773331817424, 0.10766311343943719, 0.12126339573671321, 0.14154737892717417, 0.16009480602080278, 0.14559883912010949, 0.15685137339157637, 0.12136736431039206], 'lr': [0.01, 0.01, 0.01, 0.01, 0.01, 0.01, 0.01, 0.01, 0.01, 0.01, 0.01, 0.01, 0.01, 0.01, 0.01, 0.01, 0.01, 0.01, 0.01, 0.01, 0.01, 0.01, 0.01, 0.01, 0.01, 0.01, 0.01, 0.01, 0.01, 0.01, 0.01, 0.01, 0.01, 0.01, 0.01, 0.01, 0.01, 0.01, 0.01, 0.01, 0.01, 0.01, 0.01, 0.01, 0.01, 0.01, 0.01, 0.01, 0.01, 0.01, 0.01, 0.01, 0.01, 0.01, 0.01, 0.01, 0.01, 0.01, 0.01, 0.01, 0.01, 0.01, 0.01, 0.01, 0.01, 0.01, 0.01, 0.01, 0.01, 0.01, 0.01, 0.01, 0.01, 0.01, 0.01, 0.01, 0.01, 0.01, 0.01, 0.01, 0.01, 0.01, 0.01, 0.01, 0.01, 0.01, 0.01, 0.01, 0.01, 0.01, 0.01, 0.01, 0.01, 0.01, 0.01, 0.01, 0.01, 0.01, 0.01, 0.01, 0.01, 0.01, 0.01, 0.01, 0.01, 0.01, 0.01, 0.01, 0.01, 0.01, 0.01, 0.01, 0.01, 0.01, 0.01, 0.01, 0.01, 0.01, 0.01, 0.01, 0.01, 0.01, 0.01, 0.01, 0.01, 0.01, 0.01, 0.01, 0.01, 0.01, 0.01, 0.01, 0.01, 0.01, 0.01, 0.01, 0.01, 0.01, 0.01, 0.01, 0.01, 0.01, 0.01, 0.01, 0.01, 0.01, 0.01, 0.01, 0.01, 0.01, 0.01, 0.01, 0.01, 0.01, 0.01, 0.01, 0.01, 0.01, 0.01, 0.01, 0.01, 0.01, 0.01, 0.01, 0.01, 0.01, 0.01, 0.01, 0.01, 0.01, 0.01, 0.01, 0.01, 0.01, 0.01, 0.01, 0.01, 0.01, 0.01, 0.01, 0.01, 0.01, 0.01, 0.01, 0.01, 0.01, 0.01, 0.01, 0.01, 0.01, 0.01, 0.01, 0.01, 0.01, 0.01, 0.01, 0.01, 0.01, 0.01, 0.01, 0.01, 0.01, 0.01, 0.01, 0.01, 0.01, 0.01, 0.01, 0.01, 0.01, 0.01, 0.01, 0.01, 0.01, 0.01, 0.01, 0.01, 0.01, 0.01, 0.01, 0.01, 0.01, 0.01, 0.01, 0.01, 0.01, 0.01, 0.01, 0.01, 0.01, 0.01, 0.01, 0.01, 0.01, 0.01, 0.01, 0.01, 0.01, 0.01, 0.01, 0.01, 0.01, 0.01, 0.01, 0.01, 0.01, 0.01, 0.01, 0.01, 0.01, 0.01, 0.01, 0.01, 0.01, 0.01, 0.01, 0.01, 0.01], 'train_mse': [1.180487252002366, 0.6205098992748547, 0.4965892082463363, 0.467358682947877, 0.30141381942042017, 0.3553997434584001, 0.3052518208884929, 0.28385673316781274, 0.2659337405845526, 0.26940309582756006, 0.22186584069296655, 0.2278995005326922, 0.2029897961246633, 0.19037304517772433, 0.1734648139154278, 0.1840308173566198, 0.1712873365499125, 0.15889797820052712, 0.15472871884836017, 0.14435989325381668, 0.159527088894062, 0.1444497616856414, 0.14050379412898903, 0.12825623183400056, 0.1350546289484286, 0.1272576330495319, 0.1372007143929645, 0.1524735757797008, 0.12862771344000432, 0.12176747064563885, 0.13669320346095476, 0.14196575909988476, 0.15336827356464364, 0.13573715381633683, 0.12002737570807373, 0.13174984638533518, 0.12827448560635812, 0.11245378008962373, 0.1288534438789865, 0.12144830336783724, 0.1241722441654174, 0.13321183007569712, 0.1051107610803005, 0.1070557939486599, 0.11455835773743493, 0.09610821028695735, 0.1057833226456927, 0.10456792223528365, 0.10687958545693166, 0.10145171060996, 0.13140091075688323, 0.1069972732698535, 0.10485548219453472, 0.11532997098557063, 0.09343867830804897, 0.10392796603223162, 0.08793244132470429, 0.08573468838039955, 0.08365186341905936, 0.10771827383192252, 0.09326074081370778, 0.10803659959678359, 0.09849618002762942, 0.08483567007614767, 0.10740797632226831, 0.09686804097600468, 0.0993805334654966, 0.09310684120512694, 0.10295432777511249, 0.09188509078482479, 0.13016779663910757, 0.08795428895584093, 0.08545258713365377, 0.09486442577605333, 0.08179342791616993, 0.07996570845139292, 0.08769140498346574, 0.09263516307149956, 0.07995114162762595, 0.08617045382863239, 0.07643882696655278, 0.08598583282655096, 0.07832425805816577, 0.07973088633875813, 0.07470581884592237, 0.07981410414864928, 0.07474686281994222, 0.07489742101607359, 0.08501621376989331, 0.07910583178544028, 0.07877974773223974, 0.07999275810743398, 0.08362397577853797, 0.0706696267001157, 0.08240767015678604, 0.08432093768939984, 0.07947907856342226, 0.06969944118687828, 0.06983557543895579, 0.06907872146586258, 0.08874500769649427, 0.07102530072888649, 0.07495244537961758, 0.08673048867038388, 0.08335832177113539, 0.08015431665889947, 0.07746448596134299, 0.0741972317201706, 0.09517054291637643, 0.08239469253737694, 0.06867202461678854, 0.07696395336061593, 0.08256351318183462, 0.0791832693901654, 0.07592019324327884, 0.07586375696657663, 0.0715496187129739, 0.07241859991945115, 0.08272536224418012, 0.07753088878946407, 0.08504324812546654, 0.07587657215957595, 0.07275170436731535, 0.06971377958216539, 0.07062545297036789, 0.06459718372012917, 0.06671891442281884, 0.07187745380134776, 0.07001448206340793, 0.07960186519346044, 0.058001274019783125, 0.08491346655705365, 0.07323164616828155, 0.06688612177700322, 0.06616179867447848, 0.07137482805070872, 0.07167886739819525, 0.0744984237800319, 0.05958828693167816, 0.0654909464781513, 0.06304732145369733, 0.06367978792030178, 0.05955277534097952, 0.06601915559831581, 0.06489218437728343, 0.07928157663178172, 0.0794032752487907, 0.0826371993834733, 0.07508100977117156, 0.07134784702685043, 0.10449876413769016, 0.0809521429331463, 0.06317575889205872, 0.07630650982652182, 0.06769246290751825, 0.07629862637699568, 0.06721501923212747, 0.061448195684758115, 0.06356929013801947, 0.08680912758390993, 0.07377154306028331, 0.07534861385519172, 0.14588712008571542, 0.06958104638275128, 0.06600908852646595, 0.07967234255867713, 0.06329051742535581, 0.10803211170269854, 0.06775901735151404, 0.08754096752720188, 0.06751797518862898, 0.07861609787085276, 0.06786224837727435, 0.07388006025568335, 0.07268736366637592, 0.06582909383997627, 0.07327671297922124, 0.08203536623370686, 0.07170044259513318, 0.0599281920010066, 0.0662822247255255, 0.06563056028407879, 0.05931442373114456, 0.06028456479726743, 0.058758313179188254, 0.06477243038243512, 0.0640230878383486, 0.06148333159708011, 0.06068411345351054, 0.05349369409873152, 0.08005421157842582, 0.0670490794302788, 0.05940435940335454, 0.06496970865126114, 0.0711833893512561, 0.06667950545832158, 0.06180992452950431, 0.059149414829799615, 0.06640038992523617, 0.07823281136078189, 0.07203754165964622, 0.06470365254306977, 0.055905803564147094, 0.06079458472485526, 0.05547094129674006, 0.056397190908948146, 0.05854429789734166, 0.0494665537535153, 0.06771936214843846, 0.050630488840069224, 0.06749709131622787, 0.05949731896121573, 0.06469721864852508, 0.057454770135120875, 0.06916538018309563, 0.07101500876987493, 0.06315004321080261, 0.07148183744748864, 0.05643587334503675, 0.055791745689209686, 0.04997670308204348, 0.05919638613964531, 0.05812516932165009, 0.06302401034072998, 0.056395039425292136, 0.0840051110975285, 0.05478327214733456, 0.0676537769580845, 0.0637404239279936, 0.05446323735630467, 0.06073784860546375, 0.060378456710931894, 0.06880035943771508, 0.05935046167690207, 0.08036502467601263, 0.0640615341676984, 0.06419142203868025, 0.05972965753199664, 0.06403928426827464, 0.05876564938901484, 0.056630609539165565, 0.06692593718038937, 0.06470905898627864, 0.07048510716973067, 0.053644974132401026, 0.051949384128686375, 0.07877336085288594, 0.0615188265153452, 0.08421651112500474, 0.10185928245757354, 0.09444486133056265, 0.062031494228482385, 0.060264437536231244, 0.06782478258370589, 0.09222764797041298, 0.09262524737393005, 0.09876691171854489, 0.0874239023021299], 'train_mae': [0.8459846562441757, 0.5847779833799508, 0.508725994507723, 0.46016855592342537, 0.38756318688051067, 0.395723179017537, 0.3741117661698188, 0.36092237669602567, 0.35863721643735114, 0.34531947975815375, 0.31970861572455206, 0.3100487652098945, 0.30053445378640437, 0.2956898565795093, 0.28115997428427136, 0.31008349249762285, 0.28325245107771607, 0.276651783913964, 0.26864755311421834, 0.2627091811469019, 0.26962099198981576, 0.2624203037174495, 0.26665254664470994, 0.24920449542391318, 0.25671926211372487, 0.2532735259375221, 0.2620254034638294, 0.274752759803952, 0.2526216611037563, 0.25114697175029826, 0.2650376967643238, 0.2586367325618828, 0.2630506428198318, 0.25713571744741337, 0.25268658467503047, 0.26303531553602394, 0.2595684349929558, 0.24207512339351098, 0.2620539535446801, 0.2520276384324913, 0.2535955007960811, 0.27095007394754533, 0.2402347332603364, 0.24416080630638248, 0.24677050342981105, 0.22379614105205575, 0.23328764418867343, 0.23240010490101795, 0.2440664840083573, 0.2359910991827409, 0.25150402038796105, 0.2352879319099532, 0.2377677186355028, 0.24624947886735973, 0.22087521746279265, 0.2318970931644416, 0.2117046222405003, 0.21366253737659002, 0.21206550541884162, 0.23578112476658408, 0.21585388462883306, 0.23613249944374962, 0.22719677814260905, 0.21365330898912402, 0.23441755567820544, 0.2286913578781375, 0.22891869217978486, 0.22172359715049894, 0.22986266828331484, 0.2183913301482574, 0.25332229553959557, 0.22018112221865915, 0.21162924848319165, 0.22151892951637636, 0.2040889921053914, 0.2092836065686085, 0.21327081612482782, 0.2151946955591642, 0.21011484339009473, 0.21901362252121914, 0.20155773947842645, 0.20934326204763845, 0.20387085053216425, 0.20838866822045646, 0.20334765028101023, 0.20911629137417329, 0.1996308016656115, 0.19825988474290446, 0.214161655563312, 0.2101022794689286, 0.21050772229350143, 0.2089105488597315, 0.21321234997581928, 0.1985122644676311, 0.21337143413350793, 0.21544515075690013, 0.2114328319240499, 0.19791074523700983, 0.19950198439943934, 0.19180614057789042, 0.21011112906028004, 0.19880484744502772, 0.20425369351854553, 0.2175485665432871, 0.21383759078932155, 0.20802222262674955, 0.2059861410559597, 0.20339611826604345, 0.22422442823459773, 0.2072984970297006, 0.19652255362299617, 0.20353037003013175, 0.20990545436611477, 0.2033597543683472, 0.206974938976206, 0.2095760642509551, 0.19600540190269988, 0.20065670219110635, 0.20634404632667686, 0.2007546792139585, 0.20909881276764086, 0.2026620728627888, 0.19541793266431096, 0.19201691979666466, 0.19546920268399476, 0.18937992874253545, 0.19356208372373654, 0.19926163408550343, 0.19745623623148284, 0.2126649106170318, 0.1795875630857828, 0.21921389653900517, 0.19973893362116574, 0.18654771453196362, 0.18973090200939988, 0.20077450518657677, 0.1963347131549874, 0.20907767493563983, 0.18161963668726788, 0.18751516166455182, 0.1849884770859206, 0.1828282103419144, 0.17764541601862105, 0.1884327263431296, 0.1868378720395697, 0.1992054717606294, 0.199677871351174, 0.20596764906887224, 0.19762682545269744, 0.1950447713305498, 0.22892260211224513, 0.19942289924935572, 0.1883382901873974, 0.2058589281624075, 0.18864065376389563, 0.1994501402907501, 0.19032454618997285, 0.18161136971408434, 0.18472822740335285, 0.20529841152968234, 0.1838550638674404, 0.19549838393342625, 0.2242883114863573, 0.19467840399281128, 0.1854010305000786, 0.20668313661685472, 0.18226456332675595, 0.2326278325469461, 0.1883514071028691, 0.20857636261234608, 0.18850354759885896, 0.2006348752282667, 0.19456953625579537, 0.20166753674640514, 0.19766834146456233, 0.18912044463345373, 0.19960429834927013, 0.2111751574354734, 0.19516258061824227, 0.18246758689430315, 0.18781973469413749, 0.18404668452105882, 0.176719142361977, 0.17796315936539983, 0.18129142056390946, 0.18935301212540576, 0.18959531507456578, 0.18061208550943011, 0.1786555168192329, 0.1679471871745006, 0.19755419494122728, 0.19058380062152602, 0.17838917946197433, 0.18820586395890987, 0.20051323615774233, 0.1910425469639252, 0.18237847669970506, 0.18094978115431787, 0.18734206776570916, 0.19966873260890386, 0.1875704034745657, 0.1895539224206599, 0.17237731186209837, 0.17798492084703965, 0.17666046942872632, 0.17662731226714815, 0.17953143141153347, 0.16301215942334235, 0.1891469846030684, 0.1643386769417748, 0.19093887781754307, 0.17922292681865973, 0.18569091434833224, 0.17604626457739878, 0.19352973112133162, 0.1908181775656022, 0.183596928258624, 0.20126466373829924, 0.17869303840858206, 0.17553476193091486, 0.1644349858503441, 0.17621059143918075, 0.1752581233362602, 0.18274678286739796, 0.17574172415018108, 0.2137095963279202, 0.17219023505303604, 0.18396046387993384, 0.18169176753530736, 0.16988834183924081, 0.18054043559395988, 0.17627117563470915, 0.1930111987387065, 0.17878066059898542, 0.20415309807852128, 0.18564906126738087, 0.1887997627895174, 0.17999095800535558, 0.18970205629917924, 0.1780667074088913, 0.17496906383189606, 0.1774177098219114, 0.1838044390852831, 0.19550963159828771, 0.17483718876733995, 0.1652108318040838, 0.19691715032681412, 0.17681036709276957, 0.20723126450979246, 0.229530258883938, 0.213205011722504, 0.182670430507459, 0.18386424954750114, 0.1897046481434843, 0.20322758131460505, 0.21117243163988642, 0.22461575349050378, 0.21284520011993638]}\n"
     ]
    },
    {
     "data": {
      "application/scrapbook.scrap.json+json": {
       "data": 0.22871264161602128,
       "encoder": "json",
       "name": "TabNet MAE",
       "version": 1
      }
     },
     "metadata": {
      "scrapbook": {
       "data": true,
       "display": false,
       "name": "TabNet MAE"
      }
     },
     "output_type": "display_data"
    },
    {
     "name": "stdout",
     "output_type": "stream",
     "text": [
      "TabNet MAE 0.22871264161602128\n"
     ]
    },
    {
     "data": {
      "image/png": "[encoded data removed]",
      "text/plain": [
       "<Figure size 432x288 with 1 Axes>"
      ]
     },
     "metadata": {
      "needs_background": "light"
     },
     "output_type": "display_data"
    }
   ],
   "source": [
    "lr = 0.01\n",
    "\n",
    "y_train = np.reshape(y_train, (-1, 1))\n",
    "y_test = np.reshape(y_test, (-1, 1))\n",
    "\n",
    "device = torch.device('cuda' if torch.cuda.is_available() else 'cpu')\n",
    "mae_tab= baselineModels.tabnetreg(X_train,y_train,X_test,y_test,batch_size,n_features,n_target,n_epochs, lr)\n",
    "sb.glue(\"TabNet MAE\",mae_tab)\n",
    "print(\"TabNet MAE\",mae_tab)"
   ]
  }
 ],
 "metadata": {
  "kernelspec": {
   "display_name": "Python 3.7.3 64-bit",
   "language": "python",
   "name": "python3"
  },
  "language_info": {
   "codemirror_mode": {
    "name": "ipython",
    "version": 3
   },
   "file_extension": ".py",
   "mimetype": "text/x-python",
   "name": "python",
   "nbconvert_exporter": "python",
   "pygments_lexer": "ipython3",
   "version": "3.8.13"
  },
  "papermill": {
   "default_parameters": {},
   "duration": 97.464023,
   "end_time": "2022-07-21T10:33:20.815538",
   "environment_variables": {},
   "exception": null,
   "input_path": "BaselineModels.ipynb",
   "output_path": "./BaseLine_Model_Output/BaselineModels_output_7.ipynb",
   "parameters": {},
   "start_time": "2022-07-21T10:31:43.351515",
   "version": "2.3.3"
  },
  "vscode": {
   "interpreter": {
    "hash": "aee8b7b246df8f9039afb4144a1f6fd8d2ca17a180786b69acc140d282b71a49"
   }
  }
 },
 "nbformat": 4,
 "nbformat_minor": 5
}