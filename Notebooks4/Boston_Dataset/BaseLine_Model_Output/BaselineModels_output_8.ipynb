{
 "cells": [
  {
   "cell_type": "markdown",
   "id": "53ec3612",
   "metadata": {
    "papermill": {
     "duration": 0.011183,
     "end_time": "2022-07-21T10:33:26.148861",
     "exception": false,
     "start_time": "2022-07-21T10:33:26.137678",
     "status": "completed"
    },
    "tags": []
   },
   "source": [
    "## Import Libraries "
   ]
  },
  {
   "cell_type": "code",
   "execution_count": 1,
   "id": "1031ca2b",
   "metadata": {
    "execution": {
     "iopub.execute_input": "2022-07-21T10:33:26.162507Z",
     "iopub.status.busy": "2022-07-21T10:33:26.162013Z",
     "iopub.status.idle": "2022-07-21T10:33:26.193687Z",
     "shell.execute_reply": "2022-07-21T10:33:26.189838Z"
    },
    "papermill": {
     "duration": 0.045128,
     "end_time": "2022-07-21T10:33:26.198589",
     "exception": false,
     "start_time": "2022-07-21T10:33:26.153461",
     "status": "completed"
    },
    "tags": []
   },
   "outputs": [],
   "source": [
    "import warnings\n",
    "import sys\n",
    "sys.path.insert(0, '../../src')\n",
    "warnings.filterwarnings('ignore')"
   ]
  },
  {
   "cell_type": "code",
   "execution_count": 2,
   "id": "daf8e5b8",
   "metadata": {
    "execution": {
     "iopub.execute_input": "2022-07-21T10:33:26.209679Z",
     "iopub.status.busy": "2022-07-21T10:33:26.209108Z",
     "iopub.status.idle": "2022-07-21T10:33:35.077511Z",
     "shell.execute_reply": "2022-07-21T10:33:35.076040Z"
    },
    "papermill": {
     "duration": 8.878189,
     "end_time": "2022-07-21T10:33:35.081003",
     "exception": false,
     "start_time": "2022-07-21T10:33:26.202814",
     "status": "completed"
    },
    "tags": []
   },
   "outputs": [],
   "source": [
    "import statsModel\n",
    "import scrapbook as sb \n",
    "import torch \n",
    "import statsModel\n",
    "import baselineModels\n",
    "import bostonDataset\n",
    "import dataset \n",
    "from torch.utils.data import random_split \n",
    "from sklearn.model_selection import train_test_split\n",
    "import numpy as np\n",
    "from sklearn.metrics import mean_squared_error,mean_absolute_error "
   ]
  },
  {
   "cell_type": "markdown",
   "id": "3afa3e54",
   "metadata": {
    "papermill": {
     "duration": 0.005006,
     "end_time": "2022-07-21T10:33:35.138356",
     "exception": false,
     "start_time": "2022-07-21T10:33:35.133350",
     "status": "completed"
    },
    "tags": []
   },
   "source": [
    "## Import Dataset \n"
   ]
  },
  {
   "cell_type": "code",
   "execution_count": 3,
   "id": "e2a5bf25",
   "metadata": {
    "execution": {
     "iopub.execute_input": "2022-07-21T10:33:35.150283Z",
     "iopub.status.busy": "2022-07-21T10:33:35.149751Z",
     "iopub.status.idle": "2022-07-21T10:33:35.188582Z",
     "shell.execute_reply": "2022-07-21T10:33:35.184228Z"
    },
    "papermill": {
     "duration": 0.049085,
     "end_time": "2022-07-21T10:33:35.191706",
     "exception": false,
     "start_time": "2022-07-21T10:33:35.142621",
     "status": "completed"
    },
    "tags": []
   },
   "outputs": [
    {
     "name": "stdout",
     "output_type": "stream",
     "text": [
      "         X1        X2        X3        X4        X5        X6        X7  \\\n",
      "0 -0.419782  0.284830 -1.287909 -0.272599 -0.144217  0.413672 -0.120013   \n",
      "1 -0.417339 -0.487722 -0.593381 -0.272599 -0.740262  0.194274  0.367166   \n",
      "2 -0.417342 -0.487722 -0.593381 -0.272599 -0.740262  1.282714 -0.265812   \n",
      "3 -0.416750 -0.487722 -1.306878 -0.272599 -0.835284  1.016303 -0.809889   \n",
      "4 -0.412482 -0.487722 -1.306878 -0.272599 -0.835284  1.228577 -0.511180   \n",
      "\n",
      "         X8        X9       X10       X11       X12       X13         Y  \n",
      "0  0.140214 -0.982843 -0.666608 -1.459000  0.441052 -1.075562  0.159686  \n",
      "1  0.557160 -0.867883 -0.987329 -0.303094  0.441052 -0.492439 -0.101524  \n",
      "2  0.557160 -0.867883 -0.987329 -0.303094  0.396427 -1.208727  1.324247  \n",
      "3  1.077737 -0.752922 -1.106115  0.113032  0.416163 -1.361517  1.182758  \n",
      "4  1.077737 -0.752922 -1.106115  0.113032  0.441052 -1.026501  1.487503  \n"
     ]
    }
   ],
   "source": [
    "n_features = 13\n",
    "n_samples= 506\n",
    "n_target = 1 \n",
    "X,Y = bostonDataset.boston_data()"
   ]
  },
  {
   "cell_type": "code",
   "execution_count": 4,
   "id": "40600267",
   "metadata": {
    "execution": {
     "iopub.execute_input": "2022-07-21T10:33:35.201354Z",
     "iopub.status.busy": "2022-07-21T10:33:35.201049Z",
     "iopub.status.idle": "2022-07-21T10:33:35.206268Z",
     "shell.execute_reply": "2022-07-21T10:33:35.205314Z"
    },
    "papermill": {
     "duration": 0.012601,
     "end_time": "2022-07-21T10:33:35.208754",
     "exception": false,
     "start_time": "2022-07-21T10:33:35.196153",
     "status": "completed"
    },
    "tags": []
   },
   "outputs": [],
   "source": [
    "# Train test split for dataset \n",
    "real_dataset = dataset.CustomDataset(X,Y)\n",
    "X_train, X_test, y_train, y_test = train_test_split(X, Y, test_size=0.2)"
   ]
  },
  {
   "cell_type": "markdown",
   "id": "e67e32b2",
   "metadata": {
    "papermill": {
     "duration": 0.003222,
     "end_time": "2022-07-21T10:33:35.215430",
     "exception": false,
     "start_time": "2022-07-21T10:33:35.212208",
     "status": "completed"
    },
    "tags": []
   },
   "source": [
    "## Stats Model \n",
    "\n"
   ]
  },
  {
   "cell_type": "code",
   "execution_count": 5,
   "id": "6522ae68",
   "metadata": {
    "execution": {
     "iopub.execute_input": "2022-07-21T10:33:35.223305Z",
     "iopub.status.busy": "2022-07-21T10:33:35.223013Z",
     "iopub.status.idle": "2022-07-21T10:33:35.448144Z",
     "shell.execute_reply": "2022-07-21T10:33:35.447363Z"
    },
    "papermill": {
     "duration": 0.2317,
     "end_time": "2022-07-21T10:33:35.450163",
     "exception": false,
     "start_time": "2022-07-21T10:33:35.218463",
     "status": "completed"
    },
    "tags": []
   },
   "outputs": [
    {
     "name": "stderr",
     "output_type": "stream",
     "text": [
      "No artists with labels found to put in legend.  Note that artists whose label start with an underscore are ignored when legend() is called with no argument.\n"
     ]
    },
    {
     "name": "stdout",
     "output_type": "stream",
     "text": [
      "                                 OLS Regression Results                                \n",
      "=======================================================================================\n",
      "Dep. Variable:                      y   R-squared (uncentered):                   0.730\n",
      "Model:                            OLS   Adj. R-squared (uncentered):              0.721\n",
      "Method:                 Least Squares   F-statistic:                              81.31\n",
      "Date:                Thu, 21 Jul 2022   Prob (F-statistic):                   1.88e-102\n",
      "Time:                        16:03:35   Log-Likelihood:                         -314.81\n",
      "No. Observations:                 404   AIC:                                      655.6\n",
      "Df Residuals:                     391   BIC:                                      707.6\n",
      "Df Model:                          13                                                  \n",
      "Covariance Type:            nonrobust                                                  \n",
      "==============================================================================\n",
      "                 coef    std err          t      P>|t|      [0.025      0.975]\n",
      "------------------------------------------------------------------------------\n",
      "x1            -0.1049      0.033     -3.214      0.001      -0.169      -0.041\n",
      "x2             0.1281      0.040      3.174      0.002       0.049       0.207\n",
      "x3            -0.0034      0.052     -0.064      0.949      -0.106       0.099\n",
      "x4             0.0736      0.028      2.602      0.010       0.018       0.129\n",
      "x5            -0.2336      0.057     -4.092      0.000      -0.346      -0.121\n",
      "x6             0.2842      0.036      7.828      0.000       0.213       0.356\n",
      "x7            -0.0007      0.047     -0.014      0.989      -0.094       0.093\n",
      "x8            -0.3551      0.053     -6.650      0.000      -0.460      -0.250\n",
      "x9             0.2984      0.070      4.244      0.000       0.160       0.437\n",
      "x10           -0.2350      0.077     -3.041      0.003      -0.387      -0.083\n",
      "x11           -0.2098      0.036     -5.870      0.000      -0.280      -0.140\n",
      "x12            0.0947      0.030      3.114      0.002       0.035       0.155\n",
      "x13           -0.3925      0.046     -8.625      0.000      -0.482      -0.303\n",
      "==============================================================================\n",
      "Omnibus:                      145.678   Durbin-Watson:                   2.023\n",
      "Prob(Omnibus):                  0.000   Jarque-Bera (JB):              628.123\n",
      "Skew:                           1.532   Prob(JB):                    4.03e-137\n",
      "Kurtosis:                       8.284   Cond. No.                         9.48\n",
      "==============================================================================\n",
      "\n",
      "Notes:\n",
      "[1] R² is computed without centering (uncentered) since the model does not contain a constant.\n",
      "[2] Standard Errors assume that the covariance matrix of the errors is correctly specified.\n"
     ]
    },
    {
     "data": {
      "image/png": "[encoded data removed]",
      "text/plain": [
       "<Figure size 432x288 with 1 Axes>"
      ]
     },
     "metadata": {
      "needs_background": "light"
     },
     "output_type": "display_data"
    },
    {
     "name": "stdout",
     "output_type": "stream",
     "text": [
      "Performance Metrics\n",
      "Mean Squared Error: 0.18755309360799075\n",
      "Mean Absolute Error: 0.30687894564790313\n",
      "Manhattan distance: 31.301652456086124\n",
      "Euclidean distance: 4.373833049856276\n"
     ]
    },
    {
     "data": {
      "application/scrapbook.scrap.json+json": {
       "data": 0.18755309360799075,
       "encoder": "json",
       "name": "Stats Model MSE",
       "version": 1
      }
     },
     "metadata": {
      "scrapbook": {
       "data": true,
       "display": false,
       "name": "Stats Model MSE"
      }
     },
     "output_type": "display_data"
    },
    {
     "data": {
      "application/scrapbook.scrap.json+json": {
       "data": 0.30687894564790313,
       "encoder": "json",
       "name": "Stats Model MAE",
       "version": 1
      }
     },
     "metadata": {
      "scrapbook": {
       "data": true,
       "display": false,
       "name": "Stats Model MAE"
      }
     },
     "output_type": "display_data"
    },
    {
     "data": {
      "application/scrapbook.scrap.json+json": {
       "data": 31.301652456086124,
       "encoder": "json",
       "name": "Stats Model Manhattan Distance",
       "version": 1
      }
     },
     "metadata": {
      "scrapbook": {
       "data": true,
       "display": false,
       "name": "Stats Model Manhattan Distance"
      }
     },
     "output_type": "display_data"
    },
    {
     "data": {
      "application/scrapbook.scrap.json+json": {
       "data": 4.373833049856276,
       "encoder": "json",
       "name": "Stats Model Euclidean distance",
       "version": 1
      }
     },
     "metadata": {
      "scrapbook": {
       "data": true,
       "display": false,
       "name": "Stats Model Euclidean distance"
      }
     },
     "output_type": "display_data"
    },
    {
     "data": {
      "application/scrapbook.scrap.json+json": {
       "data": [
        -0.10491833191655124,
        0.12813098623022898,
        -0.003372132515363604,
        0.07357453949735619,
        -0.2336217140076818,
        0.28417817081511654,
        -0.0006810653880053447,
        -0.3550920148424426,
        0.2983591054196056,
        -0.23501575645958014,
        -0.20978313261526302,
        0.09472123020963105,
        -0.39247533159655773
       ],
       "encoder": "json",
       "name": "Coefficients",
       "version": 1
      }
     },
     "metadata": {
      "scrapbook": {
       "data": true,
       "display": false,
       "name": "Coefficients"
      }
     },
     "output_type": "display_data"
    },
    {
     "name": "stdout",
     "output_type": "stream",
     "text": [
      "Stats Model MAE 0.30687894564790313\n"
     ]
    }
   ],
   "source": [
    "coefficients , y_pred =statsModel.statsModel(X_train,y_train,X_test,y_test)\n",
    "#Store MSE Value \n",
    "sb.glue(\"Coefficients\",coefficients)\n",
    "mae = mean_absolute_error(y_pred, y_test)\n",
    "print(\"Stats Model MAE\", mae)"
   ]
  },
  {
   "cell_type": "markdown",
   "id": "efe95c01",
   "metadata": {
    "papermill": {
     "duration": 0.005267,
     "end_time": "2022-07-21T10:33:35.459938",
     "exception": false,
     "start_time": "2022-07-21T10:33:35.454671",
     "status": "completed"
    },
    "tags": []
   },
   "source": [
    "# Catboost Model "
   ]
  },
  {
   "cell_type": "code",
   "execution_count": 6,
   "id": "d1a8ed31",
   "metadata": {
    "execution": {
     "iopub.execute_input": "2022-07-21T10:33:35.478811Z",
     "iopub.status.busy": "2022-07-21T10:33:35.478156Z",
     "iopub.status.idle": "2022-07-21T10:33:37.586866Z",
     "shell.execute_reply": "2022-07-21T10:33:37.586140Z"
    },
    "papermill": {
     "duration": 2.123662,
     "end_time": "2022-07-21T10:33:37.589365",
     "exception": false,
     "start_time": "2022-07-21T10:33:35.465703",
     "status": "completed"
    },
    "tags": []
   },
   "outputs": [
    {
     "name": "stdout",
     "output_type": "stream",
     "text": [
      "Learning rate set to 0.03548\n",
      "0:\tlearn: 0.9916067\ttotal: 63.2ms\tremaining: 1m 3s\n",
      "1:\tlearn: 0.9704264\ttotal: 66.2ms\tremaining: 33s\n",
      "2:\tlearn: 0.9487219\ttotal: 69ms\tremaining: 22.9s\n",
      "3:\tlearn: 0.9289235\ttotal: 72.1ms\tremaining: 17.9s\n",
      "4:\tlearn: 0.9121986\ttotal: 75ms\tremaining: 14.9s\n",
      "5:\tlearn: 0.8940264\ttotal: 76.7ms\tremaining: 12.7s\n",
      "6:\tlearn: 0.8766983\ttotal: 78.2ms\tremaining: 11.1s\n",
      "7:\tlearn: 0.8596064\ttotal: 79.7ms\tremaining: 9.89s\n",
      "8:\tlearn: 0.8444015\ttotal: 86.9ms\tremaining: 9.56s\n",
      "9:\tlearn: 0.8271750\ttotal: 89.9ms\tremaining: 8.9s\n",
      "10:\tlearn: 0.8117636\ttotal: 92.6ms\tremaining: 8.32s\n",
      "11:\tlearn: 0.7961320\ttotal: 95.6ms\tremaining: 7.87s\n",
      "12:\tlearn: 0.7806326\ttotal: 98.1ms\tremaining: 7.45s\n",
      "13:\tlearn: 0.7648171\ttotal: 101ms\tremaining: 7.12s\n",
      "14:\tlearn: 0.7520648\ttotal: 104ms\tremaining: 6.81s\n",
      "15:\tlearn: 0.7391863\ttotal: 106ms\tremaining: 6.55s\n",
      "16:\tlearn: 0.7255369\ttotal: 108ms\tremaining: 6.27s\n",
      "17:\tlearn: 0.7128852\ttotal: 110ms\tremaining: 6s\n",
      "18:\tlearn: 0.7000623\ttotal: 111ms\tremaining: 5.75s\n"
     ]
    },
    {
     "name": "stdout",
     "output_type": "stream",
     "text": [
      "19:\tlearn: 0.6870296\ttotal: 113ms\tremaining: 5.53s\n",
      "20:\tlearn: 0.6733767\ttotal: 115ms\tremaining: 5.36s\n",
      "21:\tlearn: 0.6625366\ttotal: 117ms\tremaining: 5.18s\n",
      "22:\tlearn: 0.6523237\ttotal: 118ms\tremaining: 5.02s\n",
      "23:\tlearn: 0.6427858\ttotal: 120ms\tremaining: 4.88s\n",
      "24:\tlearn: 0.6331633\ttotal: 122ms\tremaining: 4.77s\n",
      "25:\tlearn: 0.6245710\ttotal: 124ms\tremaining: 4.65s\n",
      "26:\tlearn: 0.6161062\ttotal: 126ms\tremaining: 4.53s\n",
      "27:\tlearn: 0.6075427\ttotal: 127ms\tremaining: 4.42s\n",
      "28:\tlearn: 0.5975194\ttotal: 129ms\tremaining: 4.33s\n"
     ]
    },
    {
     "name": "stdout",
     "output_type": "stream",
     "text": [
      "29:\tlearn: 0.5871315\ttotal: 132ms\tremaining: 4.26s\n",
      "30:\tlearn: 0.5765469\ttotal: 135ms\tremaining: 4.2s\n",
      "31:\tlearn: 0.5670759\ttotal: 136ms\tremaining: 4.12s\n",
      "32:\tlearn: 0.5605237\ttotal: 138ms\tremaining: 4.04s\n",
      "33:\tlearn: 0.5521897\ttotal: 141ms\tremaining: 4s\n",
      "34:\tlearn: 0.5450992\ttotal: 143ms\tremaining: 3.94s\n",
      "35:\tlearn: 0.5385334\ttotal: 144ms\tremaining: 3.86s\n",
      "36:\tlearn: 0.5318784\ttotal: 146ms\tremaining: 3.79s\n",
      "37:\tlearn: 0.5246446\ttotal: 147ms\tremaining: 3.72s\n",
      "38:\tlearn: 0.5177415\ttotal: 149ms\tremaining: 3.66s\n",
      "39:\tlearn: 0.5101890\ttotal: 150ms\tremaining: 3.6s\n",
      "40:\tlearn: 0.5037183\ttotal: 151ms\tremaining: 3.54s\n",
      "41:\tlearn: 0.4972700\ttotal: 153ms\tremaining: 3.48s\n",
      "42:\tlearn: 0.4931468\ttotal: 154ms\tremaining: 3.42s\n",
      "43:\tlearn: 0.4869128\ttotal: 155ms\tremaining: 3.37s\n",
      "44:\tlearn: 0.4812794\ttotal: 156ms\tremaining: 3.32s\n",
      "45:\tlearn: 0.4769479\ttotal: 158ms\tremaining: 3.27s\n",
      "46:\tlearn: 0.4719749\ttotal: 159ms\tremaining: 3.22s\n",
      "47:\tlearn: 0.4668807\ttotal: 160ms\tremaining: 3.18s\n",
      "48:\tlearn: 0.4615518\ttotal: 162ms\tremaining: 3.14s\n",
      "49:\tlearn: 0.4565261\ttotal: 164ms\tremaining: 3.11s\n",
      "50:\tlearn: 0.4512586\ttotal: 165ms\tremaining: 3.08s\n",
      "51:\tlearn: 0.4458693\ttotal: 167ms\tremaining: 3.05s\n",
      "52:\tlearn: 0.4402811\ttotal: 171ms\tremaining: 3.05s\n",
      "53:\tlearn: 0.4355067\ttotal: 172ms\tremaining: 3.02s\n",
      "54:\tlearn: 0.4316888\ttotal: 174ms\tremaining: 2.99s\n",
      "55:\tlearn: 0.4281610\ttotal: 177ms\tremaining: 2.98s\n"
     ]
    },
    {
     "name": "stdout",
     "output_type": "stream",
     "text": [
      "56:\tlearn: 0.4237303\ttotal: 180ms\tremaining: 2.98s\n",
      "57:\tlearn: 0.4202037\ttotal: 182ms\tremaining: 2.95s\n",
      "58:\tlearn: 0.4163587\ttotal: 183ms\tremaining: 2.92s\n",
      "59:\tlearn: 0.4131524\ttotal: 185ms\tremaining: 2.9s\n",
      "60:\tlearn: 0.4097469\ttotal: 186ms\tremaining: 2.87s\n",
      "61:\tlearn: 0.4054614\ttotal: 188ms\tremaining: 2.84s\n",
      "62:\tlearn: 0.4008577\ttotal: 189ms\tremaining: 2.81s\n",
      "63:\tlearn: 0.3974383\ttotal: 190ms\tremaining: 2.78s\n",
      "64:\tlearn: 0.3936782\ttotal: 192ms\tremaining: 2.76s\n",
      "65:\tlearn: 0.3907249\ttotal: 193ms\tremaining: 2.73s\n",
      "66:\tlearn: 0.3876201\ttotal: 194ms\tremaining: 2.71s\n",
      "67:\tlearn: 0.3836908\ttotal: 196ms\tremaining: 2.68s\n",
      "68:\tlearn: 0.3812743\ttotal: 197ms\tremaining: 2.66s\n",
      "69:\tlearn: 0.3778946\ttotal: 198ms\tremaining: 2.64s\n",
      "70:\tlearn: 0.3738550\ttotal: 200ms\tremaining: 2.61s\n",
      "71:\tlearn: 0.3700366\ttotal: 201ms\tremaining: 2.59s\n",
      "72:\tlearn: 0.3672768\ttotal: 202ms\tremaining: 2.57s\n",
      "73:\tlearn: 0.3643223\ttotal: 204ms\tremaining: 2.55s\n",
      "74:\tlearn: 0.3618698\ttotal: 205ms\tremaining: 2.53s\n",
      "75:\tlearn: 0.3582638\ttotal: 206ms\tremaining: 2.51s\n",
      "76:\tlearn: 0.3561784\ttotal: 208ms\tremaining: 2.49s\n",
      "77:\tlearn: 0.3536500\ttotal: 209ms\tremaining: 2.47s\n",
      "78:\tlearn: 0.3511576\ttotal: 211ms\tremaining: 2.46s\n",
      "79:\tlearn: 0.3489950\ttotal: 213ms\tremaining: 2.45s\n",
      "80:\tlearn: 0.3465038\ttotal: 216ms\tremaining: 2.45s\n",
      "81:\tlearn: 0.3440275\ttotal: 218ms\tremaining: 2.44s\n",
      "82:\tlearn: 0.3414102\ttotal: 219ms\tremaining: 2.42s\n",
      "83:\tlearn: 0.3390014\ttotal: 220ms\tremaining: 2.4s\n",
      "84:\tlearn: 0.3367039\ttotal: 222ms\tremaining: 2.39s\n",
      "85:\tlearn: 0.3342570\ttotal: 223ms\tremaining: 2.37s\n",
      "86:\tlearn: 0.3321065\ttotal: 224ms\tremaining: 2.35s\n",
      "87:\tlearn: 0.3295241\ttotal: 225ms\tremaining: 2.34s\n",
      "88:\tlearn: 0.3274366\ttotal: 227ms\tremaining: 2.32s\n",
      "89:\tlearn: 0.3255192\ttotal: 228ms\tremaining: 2.3s\n",
      "90:\tlearn: 0.3239084\ttotal: 229ms\tremaining: 2.29s\n",
      "91:\tlearn: 0.3225003\ttotal: 230ms\tremaining: 2.27s\n",
      "92:\tlearn: 0.3207503\ttotal: 232ms\tremaining: 2.26s\n",
      "93:\tlearn: 0.3189690\ttotal: 233ms\tremaining: 2.24s\n",
      "94:\tlearn: 0.3169351\ttotal: 234ms\tremaining: 2.23s\n",
      "95:\tlearn: 0.3154477\ttotal: 235ms\tremaining: 2.21s\n",
      "96:\tlearn: 0.3135326\ttotal: 237ms\tremaining: 2.2s\n",
      "97:\tlearn: 0.3120291\ttotal: 238ms\tremaining: 2.19s\n",
      "98:\tlearn: 0.3106310\ttotal: 239ms\tremaining: 2.17s\n",
      "99:\tlearn: 0.3091651\ttotal: 240ms\tremaining: 2.16s\n",
      "100:\tlearn: 0.3078599\ttotal: 241ms\tremaining: 2.15s\n",
      "101:\tlearn: 0.3060919\ttotal: 243ms\tremaining: 2.13s\n",
      "102:\tlearn: 0.3047771\ttotal: 244ms\tremaining: 2.12s\n",
      "103:\tlearn: 0.3028976\ttotal: 245ms\tremaining: 2.11s\n",
      "104:\tlearn: 0.3016996\ttotal: 246ms\tremaining: 2.1s\n",
      "105:\tlearn: 0.3000556\ttotal: 248ms\tremaining: 2.09s\n",
      "106:\tlearn: 0.2982297\ttotal: 249ms\tremaining: 2.08s\n",
      "107:\tlearn: 0.2964519\ttotal: 250ms\tremaining: 2.07s\n",
      "108:\tlearn: 0.2949758\ttotal: 252ms\tremaining: 2.06s\n",
      "109:\tlearn: 0.2938953\ttotal: 253ms\tremaining: 2.04s\n",
      "110:\tlearn: 0.2925287\ttotal: 254ms\tremaining: 2.03s\n",
      "111:\tlearn: 0.2913899\ttotal: 255ms\tremaining: 2.02s\n",
      "112:\tlearn: 0.2897910\ttotal: 257ms\tremaining: 2.01s\n",
      "113:\tlearn: 0.2883320\ttotal: 258ms\tremaining: 2s\n",
      "114:\tlearn: 0.2872825\ttotal: 259ms\tremaining: 1.99s\n",
      "115:\tlearn: 0.2861659\ttotal: 260ms\tremaining: 1.98s\n",
      "116:\tlearn: 0.2849447\ttotal: 261ms\tremaining: 1.97s\n",
      "117:\tlearn: 0.2833035\ttotal: 263ms\tremaining: 1.96s\n",
      "118:\tlearn: 0.2818790\ttotal: 264ms\tremaining: 1.95s\n",
      "119:\tlearn: 0.2803824\ttotal: 265ms\tremaining: 1.94s\n",
      "120:\tlearn: 0.2790703\ttotal: 266ms\tremaining: 1.93s\n",
      "121:\tlearn: 0.2782525\ttotal: 268ms\tremaining: 1.93s\n",
      "122:\tlearn: 0.2770811\ttotal: 269ms\tremaining: 1.92s\n",
      "123:\tlearn: 0.2756594\ttotal: 270ms\tremaining: 1.91s\n",
      "124:\tlearn: 0.2743168\ttotal: 271ms\tremaining: 1.9s\n",
      "125:\tlearn: 0.2732835\ttotal: 273ms\tremaining: 1.89s\n",
      "126:\tlearn: 0.2720160\ttotal: 274ms\tremaining: 1.88s\n",
      "127:\tlearn: 0.2708761\ttotal: 275ms\tremaining: 1.87s\n",
      "128:\tlearn: 0.2699331\ttotal: 276ms\tremaining: 1.87s\n",
      "129:\tlearn: 0.2688990\ttotal: 278ms\tremaining: 1.86s\n",
      "130:\tlearn: 0.2681421\ttotal: 279ms\tremaining: 1.85s\n",
      "131:\tlearn: 0.2671263\ttotal: 280ms\tremaining: 1.84s\n",
      "132:\tlearn: 0.2663522\ttotal: 282ms\tremaining: 1.83s\n",
      "133:\tlearn: 0.2650034\ttotal: 283ms\tremaining: 1.83s\n",
      "134:\tlearn: 0.2640463\ttotal: 289ms\tremaining: 1.85s\n",
      "135:\tlearn: 0.2627576\ttotal: 291ms\tremaining: 1.85s\n",
      "136:\tlearn: 0.2618336\ttotal: 292ms\tremaining: 1.84s\n"
     ]
    },
    {
     "name": "stdout",
     "output_type": "stream",
     "text": [
      "137:\tlearn: 0.2609502\ttotal: 294ms\tremaining: 1.84s\n",
      "138:\tlearn: 0.2597575\ttotal: 296ms\tremaining: 1.83s\n",
      "139:\tlearn: 0.2586561\ttotal: 297ms\tremaining: 1.83s\n",
      "140:\tlearn: 0.2577088\ttotal: 299ms\tremaining: 1.82s\n",
      "141:\tlearn: 0.2569030\ttotal: 300ms\tremaining: 1.81s\n",
      "142:\tlearn: 0.2558192\ttotal: 301ms\tremaining: 1.8s\n",
      "143:\tlearn: 0.2550215\ttotal: 303ms\tremaining: 1.8s\n",
      "144:\tlearn: 0.2540835\ttotal: 304ms\tremaining: 1.79s\n",
      "145:\tlearn: 0.2528415\ttotal: 305ms\tremaining: 1.79s\n",
      "146:\tlearn: 0.2522792\ttotal: 309ms\tremaining: 1.79s\n"
     ]
    },
    {
     "name": "stdout",
     "output_type": "stream",
     "text": [
      "147:\tlearn: 0.2512869\ttotal: 315ms\tremaining: 1.81s\n",
      "148:\tlearn: 0.2505380\ttotal: 319ms\tremaining: 1.82s\n",
      "149:\tlearn: 0.2500008\ttotal: 321ms\tremaining: 1.82s\n",
      "150:\tlearn: 0.2490448\ttotal: 324ms\tremaining: 1.82s\n",
      "151:\tlearn: 0.2482746\ttotal: 326ms\tremaining: 1.82s\n",
      "152:\tlearn: 0.2474242\ttotal: 327ms\tremaining: 1.81s\n",
      "153:\tlearn: 0.2466516\ttotal: 329ms\tremaining: 1.8s\n",
      "154:\tlearn: 0.2458013\ttotal: 330ms\tremaining: 1.8s\n",
      "155:\tlearn: 0.2451187\ttotal: 332ms\tremaining: 1.79s\n",
      "156:\tlearn: 0.2443207\ttotal: 333ms\tremaining: 1.79s\n",
      "157:\tlearn: 0.2434169\ttotal: 335ms\tremaining: 1.78s\n",
      "158:\tlearn: 0.2426957\ttotal: 336ms\tremaining: 1.78s\n",
      "159:\tlearn: 0.2418648\ttotal: 337ms\tremaining: 1.77s\n",
      "160:\tlearn: 0.2413570\ttotal: 339ms\tremaining: 1.76s\n",
      "161:\tlearn: 0.2402307\ttotal: 340ms\tremaining: 1.76s\n",
      "162:\tlearn: 0.2396156\ttotal: 341ms\tremaining: 1.75s\n"
     ]
    },
    {
     "name": "stdout",
     "output_type": "stream",
     "text": [
      "163:\tlearn: 0.2391532\ttotal: 343ms\tremaining: 1.75s\n",
      "164:\tlearn: 0.2385515\ttotal: 345ms\tremaining: 1.75s\n",
      "165:\tlearn: 0.2378766\ttotal: 347ms\tremaining: 1.74s\n",
      "166:\tlearn: 0.2370555\ttotal: 348ms\tremaining: 1.74s\n",
      "167:\tlearn: 0.2360411\ttotal: 350ms\tremaining: 1.73s\n",
      "168:\tlearn: 0.2355428\ttotal: 351ms\tremaining: 1.73s\n",
      "169:\tlearn: 0.2349235\ttotal: 352ms\tremaining: 1.72s\n",
      "170:\tlearn: 0.2344372\ttotal: 354ms\tremaining: 1.71s\n",
      "171:\tlearn: 0.2337590\ttotal: 355ms\tremaining: 1.71s\n",
      "172:\tlearn: 0.2329601\ttotal: 356ms\tremaining: 1.7s\n",
      "173:\tlearn: 0.2319828\ttotal: 358ms\tremaining: 1.7s\n",
      "174:\tlearn: 0.2313183\ttotal: 359ms\tremaining: 1.69s\n",
      "175:\tlearn: 0.2305715\ttotal: 360ms\tremaining: 1.69s\n",
      "176:\tlearn: 0.2298464\ttotal: 362ms\tremaining: 1.68s\n",
      "177:\tlearn: 0.2290736\ttotal: 363ms\tremaining: 1.68s\n",
      "178:\tlearn: 0.2284750\ttotal: 364ms\tremaining: 1.67s\n",
      "179:\tlearn: 0.2276207\ttotal: 366ms\tremaining: 1.67s\n",
      "180:\tlearn: 0.2269173\ttotal: 367ms\tremaining: 1.66s\n",
      "181:\tlearn: 0.2258336\ttotal: 368ms\tremaining: 1.66s\n",
      "182:\tlearn: 0.2252086\ttotal: 370ms\tremaining: 1.65s\n",
      "183:\tlearn: 0.2245075\ttotal: 371ms\tremaining: 1.64s\n",
      "184:\tlearn: 0.2235905\ttotal: 372ms\tremaining: 1.64s\n",
      "185:\tlearn: 0.2227797\ttotal: 373ms\tremaining: 1.63s\n",
      "186:\tlearn: 0.2219326\ttotal: 375ms\tremaining: 1.63s\n",
      "187:\tlearn: 0.2213471\ttotal: 376ms\tremaining: 1.62s\n",
      "188:\tlearn: 0.2205052\ttotal: 377ms\tremaining: 1.62s\n",
      "189:\tlearn: 0.2199060\ttotal: 379ms\tremaining: 1.61s\n",
      "190:\tlearn: 0.2192176\ttotal: 380ms\tremaining: 1.61s\n",
      "191:\tlearn: 0.2186104\ttotal: 382ms\tremaining: 1.61s\n",
      "192:\tlearn: 0.2180223\ttotal: 383ms\tremaining: 1.6s\n",
      "193:\tlearn: 0.2173058\ttotal: 384ms\tremaining: 1.6s\n",
      "194:\tlearn: 0.2164728\ttotal: 385ms\tremaining: 1.59s\n",
      "195:\tlearn: 0.2159597\ttotal: 387ms\tremaining: 1.59s\n",
      "196:\tlearn: 0.2155878\ttotal: 388ms\tremaining: 1.58s\n",
      "197:\tlearn: 0.2150235\ttotal: 389ms\tremaining: 1.58s\n",
      "198:\tlearn: 0.2146425\ttotal: 390ms\tremaining: 1.57s\n",
      "199:\tlearn: 0.2138245\ttotal: 391ms\tremaining: 1.56s\n",
      "200:\tlearn: 0.2133472\ttotal: 393ms\tremaining: 1.56s\n",
      "201:\tlearn: 0.2127417\ttotal: 394ms\tremaining: 1.56s\n",
      "202:\tlearn: 0.2122183\ttotal: 395ms\tremaining: 1.55s\n",
      "203:\tlearn: 0.2114786\ttotal: 396ms\tremaining: 1.55s\n",
      "204:\tlearn: 0.2107198\ttotal: 398ms\tremaining: 1.54s\n",
      "205:\tlearn: 0.2100854\ttotal: 399ms\tremaining: 1.54s\n",
      "206:\tlearn: 0.2094723\ttotal: 400ms\tremaining: 1.53s\n",
      "207:\tlearn: 0.2090442\ttotal: 401ms\tremaining: 1.53s\n",
      "208:\tlearn: 0.2085102\ttotal: 403ms\tremaining: 1.52s\n",
      "209:\tlearn: 0.2079556\ttotal: 404ms\tremaining: 1.52s\n",
      "210:\tlearn: 0.2076072\ttotal: 405ms\tremaining: 1.51s\n",
      "211:\tlearn: 0.2070732\ttotal: 406ms\tremaining: 1.51s\n",
      "212:\tlearn: 0.2065620\ttotal: 408ms\tremaining: 1.51s\n",
      "213:\tlearn: 0.2059668\ttotal: 409ms\tremaining: 1.5s\n",
      "214:\tlearn: 0.2055002\ttotal: 410ms\tremaining: 1.5s\n",
      "215:\tlearn: 0.2049667\ttotal: 411ms\tremaining: 1.49s\n",
      "216:\tlearn: 0.2045556\ttotal: 413ms\tremaining: 1.49s\n",
      "217:\tlearn: 0.2039092\ttotal: 414ms\tremaining: 1.48s\n",
      "218:\tlearn: 0.2035126\ttotal: 415ms\tremaining: 1.48s\n",
      "219:\tlearn: 0.2031251\ttotal: 416ms\tremaining: 1.48s\n",
      "220:\tlearn: 0.2025304\ttotal: 418ms\tremaining: 1.47s\n",
      "221:\tlearn: 0.2020515\ttotal: 419ms\tremaining: 1.47s\n",
      "222:\tlearn: 0.2015478\ttotal: 421ms\tremaining: 1.47s\n",
      "223:\tlearn: 0.2010726\ttotal: 422ms\tremaining: 1.46s\n",
      "224:\tlearn: 0.2005347\ttotal: 424ms\tremaining: 1.46s\n",
      "225:\tlearn: 0.1998032\ttotal: 425ms\tremaining: 1.45s\n",
      "226:\tlearn: 0.1992676\ttotal: 426ms\tremaining: 1.45s\n",
      "227:\tlearn: 0.1985357\ttotal: 427ms\tremaining: 1.45s\n",
      "228:\tlearn: 0.1980086\ttotal: 429ms\tremaining: 1.44s\n",
      "229:\tlearn: 0.1975439\ttotal: 430ms\tremaining: 1.44s\n",
      "230:\tlearn: 0.1970556\ttotal: 431ms\tremaining: 1.44s\n",
      "231:\tlearn: 0.1965803\ttotal: 433ms\tremaining: 1.43s\n",
      "232:\tlearn: 0.1959441\ttotal: 434ms\tremaining: 1.43s\n",
      "233:\tlearn: 0.1953749\ttotal: 435ms\tremaining: 1.42s\n",
      "234:\tlearn: 0.1951400\ttotal: 437ms\tremaining: 1.42s\n",
      "235:\tlearn: 0.1946412\ttotal: 438ms\tremaining: 1.42s\n",
      "236:\tlearn: 0.1941237\ttotal: 439ms\tremaining: 1.41s\n",
      "237:\tlearn: 0.1935081\ttotal: 441ms\tremaining: 1.41s\n",
      "238:\tlearn: 0.1930654\ttotal: 442ms\tremaining: 1.41s\n",
      "239:\tlearn: 0.1927035\ttotal: 444ms\tremaining: 1.4s\n",
      "240:\tlearn: 0.1921695\ttotal: 445ms\tremaining: 1.4s\n",
      "241:\tlearn: 0.1917347\ttotal: 446ms\tremaining: 1.4s\n",
      "242:\tlearn: 0.1912555\ttotal: 448ms\tremaining: 1.4s\n",
      "243:\tlearn: 0.1907301\ttotal: 449ms\tremaining: 1.39s\n",
      "244:\tlearn: 0.1903206\ttotal: 451ms\tremaining: 1.39s\n",
      "245:\tlearn: 0.1896727\ttotal: 452ms\tremaining: 1.39s\n",
      "246:\tlearn: 0.1891889\ttotal: 453ms\tremaining: 1.38s\n",
      "247:\tlearn: 0.1882293\ttotal: 455ms\tremaining: 1.38s\n"
     ]
    },
    {
     "name": "stdout",
     "output_type": "stream",
     "text": [
      "248:\tlearn: 0.1877741\ttotal: 456ms\tremaining: 1.38s\n",
      "249:\tlearn: 0.1872371\ttotal: 458ms\tremaining: 1.37s\n",
      "250:\tlearn: 0.1867561\ttotal: 460ms\tremaining: 1.37s\n",
      "251:\tlearn: 0.1861176\ttotal: 461ms\tremaining: 1.37s\n",
      "252:\tlearn: 0.1855377\ttotal: 462ms\tremaining: 1.36s\n",
      "253:\tlearn: 0.1850761\ttotal: 464ms\tremaining: 1.36s\n",
      "254:\tlearn: 0.1846588\ttotal: 465ms\tremaining: 1.36s\n",
      "255:\tlearn: 0.1842077\ttotal: 466ms\tremaining: 1.35s\n",
      "256:\tlearn: 0.1837668\ttotal: 468ms\tremaining: 1.35s\n",
      "257:\tlearn: 0.1833756\ttotal: 469ms\tremaining: 1.35s\n",
      "258:\tlearn: 0.1829461\ttotal: 470ms\tremaining: 1.34s\n",
      "259:\tlearn: 0.1825370\ttotal: 472ms\tremaining: 1.34s\n",
      "260:\tlearn: 0.1817491\ttotal: 473ms\tremaining: 1.34s\n",
      "261:\tlearn: 0.1812512\ttotal: 474ms\tremaining: 1.34s\n",
      "262:\tlearn: 0.1807642\ttotal: 476ms\tremaining: 1.33s\n",
      "263:\tlearn: 0.1801184\ttotal: 477ms\tremaining: 1.33s\n",
      "264:\tlearn: 0.1797884\ttotal: 478ms\tremaining: 1.33s\n",
      "265:\tlearn: 0.1794137\ttotal: 480ms\tremaining: 1.32s\n",
      "266:\tlearn: 0.1791101\ttotal: 483ms\tremaining: 1.32s\n",
      "267:\tlearn: 0.1788921\ttotal: 484ms\tremaining: 1.32s\n",
      "268:\tlearn: 0.1786402\ttotal: 489ms\tremaining: 1.33s\n",
      "269:\tlearn: 0.1782764\ttotal: 492ms\tremaining: 1.33s\n",
      "270:\tlearn: 0.1779781\ttotal: 496ms\tremaining: 1.33s\n"
     ]
    },
    {
     "name": "stdout",
     "output_type": "stream",
     "text": [
      "271:\tlearn: 0.1776597\ttotal: 499ms\tremaining: 1.33s\n",
      "272:\tlearn: 0.1771818\ttotal: 504ms\tremaining: 1.34s\n",
      "273:\tlearn: 0.1767263\ttotal: 505ms\tremaining: 1.34s\n",
      "274:\tlearn: 0.1762425\ttotal: 507ms\tremaining: 1.33s\n",
      "275:\tlearn: 0.1758050\ttotal: 508ms\tremaining: 1.33s\n",
      "276:\tlearn: 0.1749936\ttotal: 509ms\tremaining: 1.33s\n",
      "277:\tlearn: 0.1745151\ttotal: 511ms\tremaining: 1.33s\n",
      "278:\tlearn: 0.1741666\ttotal: 512ms\tremaining: 1.32s\n",
      "279:\tlearn: 0.1734702\ttotal: 514ms\tremaining: 1.32s\n",
      "280:\tlearn: 0.1729956\ttotal: 517ms\tremaining: 1.32s\n",
      "281:\tlearn: 0.1726956\ttotal: 520ms\tremaining: 1.32s\n",
      "282:\tlearn: 0.1722641\ttotal: 522ms\tremaining: 1.32s\n"
     ]
    },
    {
     "name": "stdout",
     "output_type": "stream",
     "text": [
      "283:\tlearn: 0.1718254\ttotal: 525ms\tremaining: 1.32s\n",
      "284:\tlearn: 0.1712226\ttotal: 527ms\tremaining: 1.32s\n",
      "285:\tlearn: 0.1707228\ttotal: 529ms\tremaining: 1.32s\n",
      "286:\tlearn: 0.1703350\ttotal: 531ms\tremaining: 1.32s\n",
      "287:\tlearn: 0.1700925\ttotal: 532ms\tremaining: 1.32s\n",
      "288:\tlearn: 0.1694464\ttotal: 536ms\tremaining: 1.32s\n",
      "289:\tlearn: 0.1689381\ttotal: 546ms\tremaining: 1.34s\n",
      "290:\tlearn: 0.1683462\ttotal: 549ms\tremaining: 1.34s\n",
      "291:\tlearn: 0.1680404\ttotal: 552ms\tremaining: 1.34s\n",
      "292:\tlearn: 0.1677963\ttotal: 555ms\tremaining: 1.34s\n",
      "293:\tlearn: 0.1673875\ttotal: 557ms\tremaining: 1.34s\n",
      "294:\tlearn: 0.1669949\ttotal: 560ms\tremaining: 1.34s\n",
      "295:\tlearn: 0.1665687\ttotal: 562ms\tremaining: 1.34s\n",
      "296:\tlearn: 0.1662063\ttotal: 564ms\tremaining: 1.33s\n",
      "297:\tlearn: 0.1659164\ttotal: 566ms\tremaining: 1.33s\n",
      "298:\tlearn: 0.1653211\ttotal: 569ms\tremaining: 1.33s\n",
      "299:\tlearn: 0.1651272\ttotal: 572ms\tremaining: 1.33s\n",
      "300:\tlearn: 0.1649224\ttotal: 574ms\tremaining: 1.33s\n",
      "301:\tlearn: 0.1645419\ttotal: 578ms\tremaining: 1.33s\n",
      "302:\tlearn: 0.1642595\ttotal: 586ms\tremaining: 1.35s\n",
      "303:\tlearn: 0.1638205\ttotal: 589ms\tremaining: 1.35s\n",
      "304:\tlearn: 0.1636072\ttotal: 592ms\tremaining: 1.35s\n",
      "305:\tlearn: 0.1632408\ttotal: 594ms\tremaining: 1.35s\n",
      "306:\tlearn: 0.1629436\ttotal: 597ms\tremaining: 1.35s\n",
      "307:\tlearn: 0.1626492\ttotal: 599ms\tremaining: 1.34s\n",
      "308:\tlearn: 0.1624555\ttotal: 600ms\tremaining: 1.34s\n",
      "309:\tlearn: 0.1622419\ttotal: 601ms\tremaining: 1.34s\n",
      "310:\tlearn: 0.1617992\ttotal: 603ms\tremaining: 1.33s\n",
      "311:\tlearn: 0.1614331\ttotal: 604ms\tremaining: 1.33s\n",
      "312:\tlearn: 0.1610397\ttotal: 605ms\tremaining: 1.33s\n",
      "313:\tlearn: 0.1605578\ttotal: 607ms\tremaining: 1.32s\n",
      "314:\tlearn: 0.1600725\ttotal: 608ms\tremaining: 1.32s\n",
      "315:\tlearn: 0.1596180\ttotal: 609ms\tremaining: 1.32s\n"
     ]
    },
    {
     "name": "stdout",
     "output_type": "stream",
     "text": [
      "316:\tlearn: 0.1591844\ttotal: 613ms\tremaining: 1.32s\n",
      "317:\tlearn: 0.1587627\ttotal: 619ms\tremaining: 1.33s\n",
      "318:\tlearn: 0.1582277\ttotal: 621ms\tremaining: 1.32s\n",
      "319:\tlearn: 0.1579107\ttotal: 622ms\tremaining: 1.32s\n",
      "320:\tlearn: 0.1574100\ttotal: 624ms\tremaining: 1.32s\n",
      "321:\tlearn: 0.1570211\ttotal: 625ms\tremaining: 1.32s\n",
      "322:\tlearn: 0.1567180\ttotal: 626ms\tremaining: 1.31s\n",
      "323:\tlearn: 0.1563725\ttotal: 628ms\tremaining: 1.31s\n",
      "324:\tlearn: 0.1561614\ttotal: 629ms\tremaining: 1.31s\n",
      "325:\tlearn: 0.1559465\ttotal: 630ms\tremaining: 1.3s\n",
      "326:\tlearn: 0.1558150\ttotal: 632ms\tremaining: 1.3s\n",
      "327:\tlearn: 0.1554412\ttotal: 633ms\tremaining: 1.3s\n",
      "328:\tlearn: 0.1551679\ttotal: 634ms\tremaining: 1.29s\n",
      "329:\tlearn: 0.1547812\ttotal: 636ms\tremaining: 1.29s\n",
      "330:\tlearn: 0.1544514\ttotal: 637ms\tremaining: 1.29s\n",
      "331:\tlearn: 0.1540433\ttotal: 639ms\tremaining: 1.28s\n",
      "332:\tlearn: 0.1537535\ttotal: 640ms\tremaining: 1.28s\n",
      "333:\tlearn: 0.1534098\ttotal: 641ms\tremaining: 1.28s\n",
      "334:\tlearn: 0.1531086\ttotal: 642ms\tremaining: 1.27s\n",
      "335:\tlearn: 0.1527186\ttotal: 644ms\tremaining: 1.27s\n",
      "336:\tlearn: 0.1523458\ttotal: 645ms\tremaining: 1.27s\n",
      "337:\tlearn: 0.1518749\ttotal: 646ms\tremaining: 1.26s\n",
      "338:\tlearn: 0.1516806\ttotal: 648ms\tremaining: 1.26s\n",
      "339:\tlearn: 0.1512312\ttotal: 649ms\tremaining: 1.26s\n",
      "340:\tlearn: 0.1509048\ttotal: 650ms\tremaining: 1.26s\n",
      "341:\tlearn: 0.1505085\ttotal: 652ms\tremaining: 1.25s\n",
      "342:\tlearn: 0.1500519\ttotal: 653ms\tremaining: 1.25s\n",
      "343:\tlearn: 0.1498124\ttotal: 654ms\tremaining: 1.25s\n",
      "344:\tlearn: 0.1496097\ttotal: 655ms\tremaining: 1.24s\n"
     ]
    },
    {
     "name": "stdout",
     "output_type": "stream",
     "text": [
      "345:\tlearn: 0.1492724\ttotal: 657ms\tremaining: 1.24s\n",
      "346:\tlearn: 0.1489866\ttotal: 659ms\tremaining: 1.24s\n",
      "347:\tlearn: 0.1485565\ttotal: 660ms\tremaining: 1.24s\n",
      "348:\tlearn: 0.1481064\ttotal: 661ms\tremaining: 1.23s\n",
      "349:\tlearn: 0.1477248\ttotal: 663ms\tremaining: 1.23s\n",
      "350:\tlearn: 0.1474207\ttotal: 664ms\tremaining: 1.23s\n",
      "351:\tlearn: 0.1469873\ttotal: 665ms\tremaining: 1.22s\n",
      "352:\tlearn: 0.1466549\ttotal: 667ms\tremaining: 1.22s\n",
      "353:\tlearn: 0.1461920\ttotal: 668ms\tremaining: 1.22s\n",
      "354:\tlearn: 0.1458077\ttotal: 669ms\tremaining: 1.22s\n",
      "355:\tlearn: 0.1455800\ttotal: 670ms\tremaining: 1.21s\n",
      "356:\tlearn: 0.1453383\ttotal: 672ms\tremaining: 1.21s\n",
      "357:\tlearn: 0.1449643\ttotal: 673ms\tremaining: 1.21s\n",
      "358:\tlearn: 0.1445275\ttotal: 674ms\tremaining: 1.2s\n",
      "359:\tlearn: 0.1441800\ttotal: 676ms\tremaining: 1.2s\n",
      "360:\tlearn: 0.1439935\ttotal: 677ms\tremaining: 1.2s\n",
      "361:\tlearn: 0.1436262\ttotal: 678ms\tremaining: 1.2s\n"
     ]
    },
    {
     "name": "stdout",
     "output_type": "stream",
     "text": [
      "362:\tlearn: 0.1433529\ttotal: 679ms\tremaining: 1.19s\n",
      "363:\tlearn: 0.1431179\ttotal: 681ms\tremaining: 1.19s\n",
      "364:\tlearn: 0.1427458\ttotal: 683ms\tremaining: 1.19s\n",
      "365:\tlearn: 0.1425156\ttotal: 684ms\tremaining: 1.18s\n",
      "366:\tlearn: 0.1423295\ttotal: 685ms\tremaining: 1.18s\n",
      "367:\tlearn: 0.1421781\ttotal: 688ms\tremaining: 1.18s\n",
      "368:\tlearn: 0.1417939\ttotal: 689ms\tremaining: 1.18s\n",
      "369:\tlearn: 0.1413625\ttotal: 691ms\tremaining: 1.18s\n",
      "370:\tlearn: 0.1409536\ttotal: 692ms\tremaining: 1.17s\n",
      "371:\tlearn: 0.1406626\ttotal: 694ms\tremaining: 1.17s\n",
      "372:\tlearn: 0.1404729\ttotal: 695ms\tremaining: 1.17s\n",
      "373:\tlearn: 0.1399982\ttotal: 696ms\tremaining: 1.17s\n",
      "374:\tlearn: 0.1397395\ttotal: 698ms\tremaining: 1.16s\n",
      "375:\tlearn: 0.1394124\ttotal: 700ms\tremaining: 1.16s\n",
      "376:\tlearn: 0.1391904\ttotal: 701ms\tremaining: 1.16s\n",
      "377:\tlearn: 0.1390803\ttotal: 703ms\tremaining: 1.16s\n",
      "378:\tlearn: 0.1387461\ttotal: 704ms\tremaining: 1.15s\n",
      "379:\tlearn: 0.1385706\ttotal: 706ms\tremaining: 1.15s\n",
      "380:\tlearn: 0.1381542\ttotal: 707ms\tremaining: 1.15s\n",
      "381:\tlearn: 0.1379740\ttotal: 708ms\tremaining: 1.15s\n",
      "382:\tlearn: 0.1377992\ttotal: 710ms\tremaining: 1.14s\n",
      "383:\tlearn: 0.1375332\ttotal: 711ms\tremaining: 1.14s\n",
      "384:\tlearn: 0.1372761\ttotal: 712ms\tremaining: 1.14s\n",
      "385:\tlearn: 0.1371279\ttotal: 715ms\tremaining: 1.14s\n",
      "386:\tlearn: 0.1369225\ttotal: 716ms\tremaining: 1.13s\n",
      "387:\tlearn: 0.1367824\ttotal: 718ms\tremaining: 1.13s\n",
      "388:\tlearn: 0.1366235\ttotal: 719ms\tremaining: 1.13s\n",
      "389:\tlearn: 0.1363539\ttotal: 720ms\tremaining: 1.13s\n",
      "390:\tlearn: 0.1361925\ttotal: 722ms\tremaining: 1.12s\n",
      "391:\tlearn: 0.1359509\ttotal: 723ms\tremaining: 1.12s\n",
      "392:\tlearn: 0.1355211\ttotal: 725ms\tremaining: 1.12s\n",
      "393:\tlearn: 0.1351904\ttotal: 726ms\tremaining: 1.12s\n",
      "394:\tlearn: 0.1347986\ttotal: 727ms\tremaining: 1.11s\n",
      "395:\tlearn: 0.1344611\ttotal: 729ms\tremaining: 1.11s\n",
      "396:\tlearn: 0.1341908\ttotal: 730ms\tremaining: 1.11s\n",
      "397:\tlearn: 0.1337650\ttotal: 732ms\tremaining: 1.11s\n",
      "398:\tlearn: 0.1334480\ttotal: 733ms\tremaining: 1.1s\n",
      "399:\tlearn: 0.1330038\ttotal: 734ms\tremaining: 1.1s\n",
      "400:\tlearn: 0.1326804\ttotal: 736ms\tremaining: 1.1s\n",
      "401:\tlearn: 0.1323639\ttotal: 737ms\tremaining: 1.1s\n",
      "402:\tlearn: 0.1320683\ttotal: 738ms\tremaining: 1.09s\n",
      "403:\tlearn: 0.1318657\ttotal: 740ms\tremaining: 1.09s\n",
      "404:\tlearn: 0.1313809\ttotal: 741ms\tremaining: 1.09s\n",
      "405:\tlearn: 0.1309781\ttotal: 743ms\tremaining: 1.09s\n",
      "406:\tlearn: 0.1306742\ttotal: 744ms\tremaining: 1.08s\n",
      "407:\tlearn: 0.1304238\ttotal: 746ms\tremaining: 1.08s\n",
      "408:\tlearn: 0.1300318\ttotal: 747ms\tremaining: 1.08s\n",
      "409:\tlearn: 0.1298316\ttotal: 749ms\tremaining: 1.08s\n",
      "410:\tlearn: 0.1296544\ttotal: 750ms\tremaining: 1.07s\n",
      "411:\tlearn: 0.1294379\ttotal: 751ms\tremaining: 1.07s\n",
      "412:\tlearn: 0.1291378\ttotal: 753ms\tremaining: 1.07s\n",
      "413:\tlearn: 0.1288880\ttotal: 754ms\tremaining: 1.07s\n",
      "414:\tlearn: 0.1285325\ttotal: 755ms\tremaining: 1.06s\n",
      "415:\tlearn: 0.1283278\ttotal: 757ms\tremaining: 1.06s\n",
      "416:\tlearn: 0.1279122\ttotal: 758ms\tremaining: 1.06s\n",
      "417:\tlearn: 0.1275787\ttotal: 760ms\tremaining: 1.06s\n",
      "418:\tlearn: 0.1273046\ttotal: 761ms\tremaining: 1.05s\n",
      "419:\tlearn: 0.1269845\ttotal: 762ms\tremaining: 1.05s\n",
      "420:\tlearn: 0.1267009\ttotal: 764ms\tremaining: 1.05s\n",
      "421:\tlearn: 0.1265108\ttotal: 765ms\tremaining: 1.05s\n",
      "422:\tlearn: 0.1263208\ttotal: 766ms\tremaining: 1.04s\n",
      "423:\tlearn: 0.1260756\ttotal: 768ms\tremaining: 1.04s\n",
      "424:\tlearn: 0.1258621\ttotal: 769ms\tremaining: 1.04s\n",
      "425:\tlearn: 0.1255988\ttotal: 771ms\tremaining: 1.04s\n",
      "426:\tlearn: 0.1254052\ttotal: 772ms\tremaining: 1.03s\n",
      "427:\tlearn: 0.1251639\ttotal: 773ms\tremaining: 1.03s\n",
      "428:\tlearn: 0.1249419\ttotal: 775ms\tremaining: 1.03s\n",
      "429:\tlearn: 0.1246861\ttotal: 776ms\tremaining: 1.03s\n",
      "430:\tlearn: 0.1244023\ttotal: 777ms\tremaining: 1.03s\n",
      "431:\tlearn: 0.1241298\ttotal: 779ms\tremaining: 1.02s\n",
      "432:\tlearn: 0.1238810\ttotal: 780ms\tremaining: 1.02s\n",
      "433:\tlearn: 0.1237357\ttotal: 782ms\tremaining: 1.02s\n",
      "434:\tlearn: 0.1234084\ttotal: 783ms\tremaining: 1.02s\n",
      "435:\tlearn: 0.1231336\ttotal: 784ms\tremaining: 1.01s\n",
      "436:\tlearn: 0.1228281\ttotal: 786ms\tremaining: 1.01s\n",
      "437:\tlearn: 0.1226440\ttotal: 787ms\tremaining: 1.01s\n",
      "438:\tlearn: 0.1222973\ttotal: 788ms\tremaining: 1.01s\n",
      "439:\tlearn: 0.1221251\ttotal: 790ms\tremaining: 1s\n",
      "440:\tlearn: 0.1218319\ttotal: 791ms\tremaining: 1s\n"
     ]
    },
    {
     "name": "stdout",
     "output_type": "stream",
     "text": [
      "441:\tlearn: 0.1214952\ttotal: 792ms\tremaining: 1s\n",
      "442:\tlearn: 0.1211839\ttotal: 794ms\tremaining: 999ms\n",
      "443:\tlearn: 0.1209629\ttotal: 796ms\tremaining: 997ms\n",
      "444:\tlearn: 0.1206772\ttotal: 797ms\tremaining: 995ms\n",
      "445:\tlearn: 0.1203301\ttotal: 799ms\tremaining: 992ms\n",
      "446:\tlearn: 0.1201326\ttotal: 800ms\tremaining: 990ms\n",
      "447:\tlearn: 0.1199386\ttotal: 802ms\tremaining: 988ms\n",
      "448:\tlearn: 0.1197216\ttotal: 803ms\tremaining: 985ms\n",
      "449:\tlearn: 0.1193676\ttotal: 804ms\tremaining: 983ms\n",
      "450:\tlearn: 0.1191442\ttotal: 806ms\tremaining: 981ms\n",
      "451:\tlearn: 0.1190262\ttotal: 807ms\tremaining: 978ms\n",
      "452:\tlearn: 0.1188685\ttotal: 808ms\tremaining: 976ms\n",
      "453:\tlearn: 0.1188152\ttotal: 810ms\tremaining: 974ms\n",
      "454:\tlearn: 0.1184403\ttotal: 811ms\tremaining: 971ms\n",
      "455:\tlearn: 0.1181924\ttotal: 813ms\tremaining: 969ms\n",
      "456:\tlearn: 0.1178462\ttotal: 814ms\tremaining: 967ms\n",
      "457:\tlearn: 0.1176516\ttotal: 815ms\tremaining: 965ms\n",
      "458:\tlearn: 0.1175400\ttotal: 817ms\tremaining: 963ms\n",
      "459:\tlearn: 0.1172875\ttotal: 818ms\tremaining: 960ms\n",
      "460:\tlearn: 0.1171380\ttotal: 819ms\tremaining: 958ms\n",
      "461:\tlearn: 0.1168920\ttotal: 821ms\tremaining: 956ms\n",
      "462:\tlearn: 0.1167128\ttotal: 822ms\tremaining: 954ms\n",
      "463:\tlearn: 0.1165417\ttotal: 823ms\tremaining: 951ms\n",
      "464:\tlearn: 0.1162652\ttotal: 825ms\tremaining: 949ms\n",
      "465:\tlearn: 0.1161071\ttotal: 826ms\tremaining: 947ms\n",
      "466:\tlearn: 0.1159637\ttotal: 828ms\tremaining: 944ms\n",
      "467:\tlearn: 0.1158838\ttotal: 829ms\tremaining: 942ms\n",
      "468:\tlearn: 0.1155864\ttotal: 830ms\tremaining: 940ms\n",
      "469:\tlearn: 0.1153388\ttotal: 832ms\tremaining: 938ms\n",
      "470:\tlearn: 0.1151661\ttotal: 833ms\tremaining: 936ms\n",
      "471:\tlearn: 0.1148922\ttotal: 834ms\tremaining: 933ms\n",
      "472:\tlearn: 0.1147267\ttotal: 836ms\tremaining: 931ms\n"
     ]
    },
    {
     "name": "stdout",
     "output_type": "stream",
     "text": [
      "473:\tlearn: 0.1144113\ttotal: 838ms\tremaining: 930ms\n",
      "474:\tlearn: 0.1142978\ttotal: 840ms\tremaining: 929ms\n",
      "475:\tlearn: 0.1139946\ttotal: 841ms\tremaining: 926ms\n",
      "476:\tlearn: 0.1136637\ttotal: 843ms\tremaining: 924ms\n",
      "477:\tlearn: 0.1134486\ttotal: 844ms\tremaining: 922ms\n",
      "478:\tlearn: 0.1132718\ttotal: 846ms\tremaining: 920ms\n",
      "479:\tlearn: 0.1130886\ttotal: 848ms\tremaining: 919ms\n",
      "480:\tlearn: 0.1128571\ttotal: 850ms\tremaining: 917ms\n",
      "481:\tlearn: 0.1125867\ttotal: 851ms\tremaining: 915ms\n",
      "482:\tlearn: 0.1124822\ttotal: 853ms\tremaining: 913ms\n",
      "483:\tlearn: 0.1123895\ttotal: 854ms\tremaining: 910ms\n",
      "484:\tlearn: 0.1121671\ttotal: 855ms\tremaining: 908ms\n",
      "485:\tlearn: 0.1120058\ttotal: 857ms\tremaining: 906ms\n",
      "486:\tlearn: 0.1119225\ttotal: 858ms\tremaining: 904ms\n"
     ]
    },
    {
     "name": "stdout",
     "output_type": "stream",
     "text": [
      "487:\tlearn: 0.1117300\ttotal: 859ms\tremaining: 902ms\n",
      "488:\tlearn: 0.1115344\ttotal: 861ms\tremaining: 900ms\n",
      "489:\tlearn: 0.1112786\ttotal: 863ms\tremaining: 898ms\n",
      "490:\tlearn: 0.1109655\ttotal: 866ms\tremaining: 898ms\n",
      "491:\tlearn: 0.1107258\ttotal: 868ms\tremaining: 896ms\n",
      "492:\tlearn: 0.1104646\ttotal: 869ms\tremaining: 894ms\n",
      "493:\tlearn: 0.1102059\ttotal: 871ms\tremaining: 892ms\n",
      "494:\tlearn: 0.1100364\ttotal: 872ms\tremaining: 890ms\n",
      "495:\tlearn: 0.1099040\ttotal: 873ms\tremaining: 887ms\n",
      "496:\tlearn: 0.1096969\ttotal: 875ms\tremaining: 885ms\n",
      "497:\tlearn: 0.1094516\ttotal: 876ms\tremaining: 883ms\n",
      "498:\tlearn: 0.1092598\ttotal: 878ms\tremaining: 881ms\n",
      "499:\tlearn: 0.1091009\ttotal: 879ms\tremaining: 879ms\n",
      "500:\tlearn: 0.1089423\ttotal: 881ms\tremaining: 877ms\n",
      "501:\tlearn: 0.1087218\ttotal: 883ms\tremaining: 875ms\n",
      "502:\tlearn: 0.1086506\ttotal: 884ms\tremaining: 873ms\n",
      "503:\tlearn: 0.1084314\ttotal: 886ms\tremaining: 872ms\n",
      "504:\tlearn: 0.1082408\ttotal: 887ms\tremaining: 870ms\n",
      "505:\tlearn: 0.1080100\ttotal: 889ms\tremaining: 868ms\n",
      "506:\tlearn: 0.1079284\ttotal: 890ms\tremaining: 866ms\n",
      "507:\tlearn: 0.1077773\ttotal: 892ms\tremaining: 863ms\n",
      "508:\tlearn: 0.1076102\ttotal: 893ms\tremaining: 861ms\n",
      "509:\tlearn: 0.1074220\ttotal: 894ms\tremaining: 859ms\n",
      "510:\tlearn: 0.1073734\ttotal: 896ms\tremaining: 857ms\n",
      "511:\tlearn: 0.1071887\ttotal: 897ms\tremaining: 855ms\n",
      "512:\tlearn: 0.1070150\ttotal: 898ms\tremaining: 853ms\n",
      "513:\tlearn: 0.1066842\ttotal: 900ms\tremaining: 851ms\n",
      "514:\tlearn: 0.1064564\ttotal: 901ms\tremaining: 849ms\n",
      "515:\tlearn: 0.1062402\ttotal: 903ms\tremaining: 847ms\n",
      "516:\tlearn: 0.1061267\ttotal: 904ms\tremaining: 844ms\n",
      "517:\tlearn: 0.1059555\ttotal: 905ms\tremaining: 842ms\n",
      "518:\tlearn: 0.1058057\ttotal: 907ms\tremaining: 840ms\n",
      "519:\tlearn: 0.1056407\ttotal: 908ms\tremaining: 838ms\n",
      "520:\tlearn: 0.1052973\ttotal: 909ms\tremaining: 836ms\n",
      "521:\tlearn: 0.1051679\ttotal: 911ms\tremaining: 834ms\n",
      "522:\tlearn: 0.1050617\ttotal: 912ms\tremaining: 832ms\n",
      "523:\tlearn: 0.1047650\ttotal: 914ms\tremaining: 830ms\n",
      "524:\tlearn: 0.1045921\ttotal: 915ms\tremaining: 828ms\n",
      "525:\tlearn: 0.1044144\ttotal: 916ms\tremaining: 826ms\n",
      "526:\tlearn: 0.1040893\ttotal: 918ms\tremaining: 824ms\n",
      "527:\tlearn: 0.1040060\ttotal: 919ms\tremaining: 822ms\n",
      "528:\tlearn: 0.1038936\ttotal: 920ms\tremaining: 820ms\n",
      "529:\tlearn: 0.1038657\ttotal: 922ms\tremaining: 818ms\n",
      "530:\tlearn: 0.1038022\ttotal: 923ms\tremaining: 815ms\n",
      "531:\tlearn: 0.1036399\ttotal: 925ms\tremaining: 813ms\n",
      "532:\tlearn: 0.1033949\ttotal: 926ms\tremaining: 811ms\n",
      "533:\tlearn: 0.1032430\ttotal: 928ms\tremaining: 809ms\n",
      "534:\tlearn: 0.1031160\ttotal: 929ms\tremaining: 808ms\n",
      "535:\tlearn: 0.1029899\ttotal: 931ms\tremaining: 806ms\n",
      "536:\tlearn: 0.1028006\ttotal: 932ms\tremaining: 804ms\n",
      "537:\tlearn: 0.1025159\ttotal: 934ms\tremaining: 802ms\n",
      "538:\tlearn: 0.1023616\ttotal: 935ms\tremaining: 800ms\n",
      "539:\tlearn: 0.1021425\ttotal: 937ms\tremaining: 798ms\n",
      "540:\tlearn: 0.1019147\ttotal: 938ms\tremaining: 796ms\n",
      "541:\tlearn: 0.1017687\ttotal: 940ms\tremaining: 794ms\n",
      "542:\tlearn: 0.1015405\ttotal: 942ms\tremaining: 793ms\n",
      "543:\tlearn: 0.1013668\ttotal: 944ms\tremaining: 792ms\n",
      "544:\tlearn: 0.1011871\ttotal: 947ms\tremaining: 790ms\n",
      "545:\tlearn: 0.1009153\ttotal: 949ms\tremaining: 789ms\n",
      "546:\tlearn: 0.1007927\ttotal: 952ms\tremaining: 789ms\n",
      "547:\tlearn: 0.1006534\ttotal: 955ms\tremaining: 788ms\n",
      "548:\tlearn: 0.1004443\ttotal: 958ms\tremaining: 787ms\n",
      "549:\tlearn: 0.1002564\ttotal: 960ms\tremaining: 785ms\n",
      "550:\tlearn: 0.1001366\ttotal: 961ms\tremaining: 783ms\n",
      "551:\tlearn: 0.0999144\ttotal: 962ms\tremaining: 781ms\n",
      "552:\tlearn: 0.0997917\ttotal: 964ms\tremaining: 779ms\n",
      "553:\tlearn: 0.0996331\ttotal: 965ms\tremaining: 777ms\n",
      "554:\tlearn: 0.0994688\ttotal: 967ms\tremaining: 775ms\n",
      "555:\tlearn: 0.0993471\ttotal: 968ms\tremaining: 773ms\n",
      "556:\tlearn: 0.0991185\ttotal: 970ms\tremaining: 771ms\n"
     ]
    },
    {
     "name": "stdout",
     "output_type": "stream",
     "text": [
      "557:\tlearn: 0.0989596\ttotal: 973ms\tremaining: 771ms\n",
      "558:\tlearn: 0.0988177\ttotal: 977ms\tremaining: 771ms\n",
      "559:\tlearn: 0.0987187\ttotal: 979ms\tremaining: 769ms\n",
      "560:\tlearn: 0.0984763\ttotal: 982ms\tremaining: 768ms\n",
      "561:\tlearn: 0.0982895\ttotal: 985ms\tremaining: 768ms\n",
      "562:\tlearn: 0.0980386\ttotal: 990ms\tremaining: 768ms\n",
      "563:\tlearn: 0.0977658\ttotal: 994ms\tremaining: 769ms\n",
      "564:\tlearn: 0.0976148\ttotal: 996ms\tremaining: 766ms\n",
      "565:\tlearn: 0.0974903\ttotal: 997ms\tremaining: 764ms\n",
      "566:\tlearn: 0.0973150\ttotal: 998ms\tremaining: 762ms\n",
      "567:\tlearn: 0.0972416\ttotal: 1000ms\tremaining: 760ms\n",
      "568:\tlearn: 0.0970063\ttotal: 1s\tremaining: 758ms\n",
      "569:\tlearn: 0.0967453\ttotal: 1s\tremaining: 756ms\n",
      "570:\tlearn: 0.0965152\ttotal: 1s\tremaining: 754ms\n",
      "571:\tlearn: 0.0962447\ttotal: 1s\tremaining: 752ms\n",
      "572:\tlearn: 0.0960021\ttotal: 1.01s\tremaining: 750ms\n",
      "573:\tlearn: 0.0957934\ttotal: 1.01s\tremaining: 748ms\n",
      "574:\tlearn: 0.0956216\ttotal: 1.01s\tremaining: 746ms\n",
      "575:\tlearn: 0.0954173\ttotal: 1.01s\tremaining: 744ms\n",
      "576:\tlearn: 0.0953151\ttotal: 1.01s\tremaining: 742ms\n",
      "577:\tlearn: 0.0951142\ttotal: 1.01s\tremaining: 740ms\n",
      "578:\tlearn: 0.0950100\ttotal: 1.02s\tremaining: 739ms\n"
     ]
    },
    {
     "name": "stdout",
     "output_type": "stream",
     "text": [
      "579:\tlearn: 0.0947722\ttotal: 1.02s\tremaining: 741ms\n",
      "580:\tlearn: 0.0945078\ttotal: 1.02s\tremaining: 740ms\n",
      "581:\tlearn: 0.0943739\ttotal: 1.03s\tremaining: 738ms\n",
      "582:\tlearn: 0.0942587\ttotal: 1.03s\tremaining: 737ms\n",
      "583:\tlearn: 0.0941747\ttotal: 1.03s\tremaining: 736ms\n",
      "584:\tlearn: 0.0940005\ttotal: 1.03s\tremaining: 735ms\n",
      "585:\tlearn: 0.0938176\ttotal: 1.04s\tremaining: 733ms\n",
      "586:\tlearn: 0.0935631\ttotal: 1.04s\tremaining: 731ms\n"
     ]
    },
    {
     "name": "stdout",
     "output_type": "stream",
     "text": [
      "587:\tlearn: 0.0933473\ttotal: 1.04s\tremaining: 729ms\n",
      "588:\tlearn: 0.0931469\ttotal: 1.04s\tremaining: 727ms\n",
      "589:\tlearn: 0.0929783\ttotal: 1.04s\tremaining: 725ms\n",
      "590:\tlearn: 0.0928201\ttotal: 1.04s\tremaining: 723ms\n",
      "591:\tlearn: 0.0926636\ttotal: 1.05s\tremaining: 722ms\n",
      "592:\tlearn: 0.0924306\ttotal: 1.05s\tremaining: 722ms\n",
      "593:\tlearn: 0.0923947\ttotal: 1.05s\tremaining: 721ms\n",
      "594:\tlearn: 0.0921826\ttotal: 1.06s\tremaining: 719ms\n",
      "595:\tlearn: 0.0919649\ttotal: 1.06s\tremaining: 717ms\n",
      "596:\tlearn: 0.0917031\ttotal: 1.06s\tremaining: 715ms\n",
      "597:\tlearn: 0.0916093\ttotal: 1.06s\tremaining: 713ms\n",
      "598:\tlearn: 0.0914162\ttotal: 1.06s\tremaining: 712ms\n",
      "599:\tlearn: 0.0912417\ttotal: 1.06s\tremaining: 710ms\n",
      "600:\tlearn: 0.0911648\ttotal: 1.07s\tremaining: 709ms\n",
      "601:\tlearn: 0.0909484\ttotal: 1.07s\tremaining: 707ms\n",
      "602:\tlearn: 0.0907687\ttotal: 1.07s\tremaining: 705ms\n",
      "603:\tlearn: 0.0906118\ttotal: 1.07s\tremaining: 703ms\n",
      "604:\tlearn: 0.0904889\ttotal: 1.07s\tremaining: 701ms\n",
      "605:\tlearn: 0.0902955\ttotal: 1.07s\tremaining: 699ms\n",
      "606:\tlearn: 0.0901178\ttotal: 1.08s\tremaining: 698ms\n",
      "607:\tlearn: 0.0899275\ttotal: 1.08s\tremaining: 696ms\n",
      "608:\tlearn: 0.0897965\ttotal: 1.08s\tremaining: 694ms\n",
      "609:\tlearn: 0.0895705\ttotal: 1.08s\tremaining: 692ms\n",
      "610:\tlearn: 0.0894696\ttotal: 1.08s\tremaining: 690ms\n",
      "611:\tlearn: 0.0891993\ttotal: 1.08s\tremaining: 688ms\n",
      "612:\tlearn: 0.0890625\ttotal: 1.09s\tremaining: 686ms\n",
      "613:\tlearn: 0.0888762\ttotal: 1.09s\tremaining: 684ms\n",
      "614:\tlearn: 0.0887611\ttotal: 1.09s\tremaining: 682ms\n",
      "615:\tlearn: 0.0885371\ttotal: 1.09s\tremaining: 680ms\n",
      "616:\tlearn: 0.0883658\ttotal: 1.09s\tremaining: 678ms\n",
      "617:\tlearn: 0.0882185\ttotal: 1.09s\tremaining: 676ms\n",
      "618:\tlearn: 0.0880469\ttotal: 1.09s\tremaining: 674ms\n",
      "619:\tlearn: 0.0879892\ttotal: 1.1s\tremaining: 672ms\n",
      "620:\tlearn: 0.0877941\ttotal: 1.1s\tremaining: 670ms\n",
      "621:\tlearn: 0.0876652\ttotal: 1.1s\tremaining: 668ms\n",
      "622:\tlearn: 0.0874688\ttotal: 1.1s\tremaining: 666ms\n",
      "623:\tlearn: 0.0873723\ttotal: 1.1s\tremaining: 664ms\n",
      "624:\tlearn: 0.0873300\ttotal: 1.1s\tremaining: 661ms\n",
      "625:\tlearn: 0.0871085\ttotal: 1.1s\tremaining: 659ms\n",
      "626:\tlearn: 0.0868711\ttotal: 1.1s\tremaining: 657ms\n",
      "627:\tlearn: 0.0867504\ttotal: 1.11s\tremaining: 655ms\n",
      "628:\tlearn: 0.0866286\ttotal: 1.11s\tremaining: 653ms\n",
      "629:\tlearn: 0.0864664\ttotal: 1.11s\tremaining: 651ms\n",
      "630:\tlearn: 0.0863711\ttotal: 1.11s\tremaining: 649ms\n",
      "631:\tlearn: 0.0862161\ttotal: 1.11s\tremaining: 648ms\n",
      "632:\tlearn: 0.0861148\ttotal: 1.12s\tremaining: 648ms\n",
      "633:\tlearn: 0.0860410\ttotal: 1.12s\tremaining: 647ms\n",
      "634:\tlearn: 0.0858001\ttotal: 1.12s\tremaining: 647ms\n",
      "635:\tlearn: 0.0856929\ttotal: 1.13s\tremaining: 645ms\n",
      "636:\tlearn: 0.0856633\ttotal: 1.13s\tremaining: 644ms\n",
      "637:\tlearn: 0.0855332\ttotal: 1.13s\tremaining: 643ms\n",
      "638:\tlearn: 0.0853891\ttotal: 1.13s\tremaining: 640ms\n",
      "639:\tlearn: 0.0853296\ttotal: 1.13s\tremaining: 638ms\n",
      "640:\tlearn: 0.0852062\ttotal: 1.14s\tremaining: 636ms\n",
      "641:\tlearn: 0.0850943\ttotal: 1.14s\tremaining: 635ms\n",
      "642:\tlearn: 0.0849400\ttotal: 1.14s\tremaining: 633ms\n",
      "643:\tlearn: 0.0848253\ttotal: 1.14s\tremaining: 631ms\n",
      "644:\tlearn: 0.0846714\ttotal: 1.14s\tremaining: 629ms\n",
      "645:\tlearn: 0.0846312\ttotal: 1.14s\tremaining: 627ms\n",
      "646:\tlearn: 0.0845168\ttotal: 1.15s\tremaining: 625ms\n"
     ]
    },
    {
     "name": "stdout",
     "output_type": "stream",
     "text": [
      "647:\tlearn: 0.0843983\ttotal: 1.15s\tremaining: 623ms\n",
      "648:\tlearn: 0.0842145\ttotal: 1.15s\tremaining: 621ms\n",
      "649:\tlearn: 0.0840768\ttotal: 1.15s\tremaining: 619ms\n",
      "650:\tlearn: 0.0839603\ttotal: 1.15s\tremaining: 618ms\n",
      "651:\tlearn: 0.0838617\ttotal: 1.16s\tremaining: 617ms\n",
      "652:\tlearn: 0.0837402\ttotal: 1.16s\tremaining: 616ms\n",
      "653:\tlearn: 0.0836030\ttotal: 1.16s\tremaining: 616ms\n",
      "654:\tlearn: 0.0834413\ttotal: 1.17s\tremaining: 615ms\n",
      "655:\tlearn: 0.0832302\ttotal: 1.17s\tremaining: 614ms\n",
      "656:\tlearn: 0.0830475\ttotal: 1.17s\tremaining: 612ms\n",
      "657:\tlearn: 0.0828750\ttotal: 1.18s\tremaining: 611ms\n",
      "658:\tlearn: 0.0827484\ttotal: 1.18s\tremaining: 609ms\n",
      "659:\tlearn: 0.0825670\ttotal: 1.18s\tremaining: 608ms\n",
      "660:\tlearn: 0.0824066\ttotal: 1.19s\tremaining: 609ms\n",
      "661:\tlearn: 0.0822098\ttotal: 1.19s\tremaining: 608ms\n"
     ]
    },
    {
     "name": "stdout",
     "output_type": "stream",
     "text": [
      "662:\tlearn: 0.0820708\ttotal: 1.2s\tremaining: 612ms\n"
     ]
    },
    {
     "name": "stdout",
     "output_type": "stream",
     "text": [
      "663:\tlearn: 0.0818984\ttotal: 1.21s\tremaining: 611ms\n",
      "664:\tlearn: 0.0817835\ttotal: 1.21s\tremaining: 610ms\n",
      "665:\tlearn: 0.0815768\ttotal: 1.21s\tremaining: 608ms\n",
      "666:\tlearn: 0.0815219\ttotal: 1.21s\tremaining: 606ms\n",
      "667:\tlearn: 0.0814906\ttotal: 1.22s\tremaining: 604ms\n",
      "668:\tlearn: 0.0813595\ttotal: 1.22s\tremaining: 602ms\n",
      "669:\tlearn: 0.0812321\ttotal: 1.22s\tremaining: 600ms\n",
      "670:\tlearn: 0.0811007\ttotal: 1.22s\tremaining: 599ms\n",
      "671:\tlearn: 0.0810193\ttotal: 1.22s\tremaining: 597ms\n",
      "672:\tlearn: 0.0808615\ttotal: 1.22s\tremaining: 595ms\n",
      "673:\tlearn: 0.0807556\ttotal: 1.22s\tremaining: 592ms\n",
      "674:\tlearn: 0.0806863\ttotal: 1.23s\tremaining: 591ms\n",
      "675:\tlearn: 0.0805889\ttotal: 1.23s\tremaining: 589ms\n",
      "676:\tlearn: 0.0805355\ttotal: 1.23s\tremaining: 587ms\n",
      "677:\tlearn: 0.0804133\ttotal: 1.23s\tremaining: 585ms\n",
      "678:\tlearn: 0.0802470\ttotal: 1.23s\tremaining: 583ms\n",
      "679:\tlearn: 0.0801069\ttotal: 1.23s\tremaining: 581ms\n",
      "680:\tlearn: 0.0800703\ttotal: 1.24s\tremaining: 579ms\n",
      "681:\tlearn: 0.0799598\ttotal: 1.24s\tremaining: 577ms\n",
      "682:\tlearn: 0.0798793\ttotal: 1.24s\tremaining: 575ms\n",
      "683:\tlearn: 0.0797999\ttotal: 1.24s\tremaining: 573ms\n",
      "684:\tlearn: 0.0797010\ttotal: 1.24s\tremaining: 571ms\n",
      "685:\tlearn: 0.0795658\ttotal: 1.24s\tremaining: 569ms\n",
      "686:\tlearn: 0.0794325\ttotal: 1.25s\tremaining: 568ms\n",
      "687:\tlearn: 0.0793181\ttotal: 1.25s\tremaining: 566ms\n",
      "688:\tlearn: 0.0792161\ttotal: 1.25s\tremaining: 564ms\n",
      "689:\tlearn: 0.0791222\ttotal: 1.25s\tremaining: 562ms\n",
      "690:\tlearn: 0.0789409\ttotal: 1.25s\tremaining: 560ms\n",
      "691:\tlearn: 0.0786984\ttotal: 1.25s\tremaining: 558ms\n",
      "692:\tlearn: 0.0785149\ttotal: 1.26s\tremaining: 556ms\n",
      "693:\tlearn: 0.0783991\ttotal: 1.26s\tremaining: 554ms\n",
      "694:\tlearn: 0.0782159\ttotal: 1.26s\tremaining: 553ms\n",
      "695:\tlearn: 0.0781923\ttotal: 1.26s\tremaining: 550ms\n",
      "696:\tlearn: 0.0781583\ttotal: 1.26s\tremaining: 548ms\n",
      "697:\tlearn: 0.0779762\ttotal: 1.26s\tremaining: 546ms\n",
      "698:\tlearn: 0.0778963\ttotal: 1.26s\tremaining: 544ms\n",
      "699:\tlearn: 0.0777184\ttotal: 1.26s\tremaining: 543ms\n",
      "700:\tlearn: 0.0776588\ttotal: 1.27s\tremaining: 541ms\n",
      "701:\tlearn: 0.0775452\ttotal: 1.27s\tremaining: 539ms\n",
      "702:\tlearn: 0.0774513\ttotal: 1.27s\tremaining: 537ms\n",
      "703:\tlearn: 0.0772985\ttotal: 1.27s\tremaining: 535ms\n",
      "704:\tlearn: 0.0771728\ttotal: 1.27s\tremaining: 533ms\n",
      "705:\tlearn: 0.0770832\ttotal: 1.27s\tremaining: 531ms\n",
      "706:\tlearn: 0.0769443\ttotal: 1.28s\tremaining: 529ms\n",
      "707:\tlearn: 0.0769124\ttotal: 1.28s\tremaining: 527ms\n",
      "708:\tlearn: 0.0768826\ttotal: 1.28s\tremaining: 525ms\n",
      "709:\tlearn: 0.0768208\ttotal: 1.28s\tremaining: 523ms\n",
      "710:\tlearn: 0.0767298\ttotal: 1.28s\tremaining: 521ms\n",
      "711:\tlearn: 0.0766241\ttotal: 1.28s\tremaining: 519ms\n",
      "712:\tlearn: 0.0765961\ttotal: 1.28s\tremaining: 517ms\n",
      "713:\tlearn: 0.0764106\ttotal: 1.29s\tremaining: 515ms\n",
      "714:\tlearn: 0.0762926\ttotal: 1.29s\tremaining: 513ms\n",
      "715:\tlearn: 0.0761826\ttotal: 1.29s\tremaining: 511ms\n",
      "716:\tlearn: 0.0761368\ttotal: 1.29s\tremaining: 510ms\n",
      "717:\tlearn: 0.0759489\ttotal: 1.29s\tremaining: 508ms\n",
      "718:\tlearn: 0.0758611\ttotal: 1.29s\tremaining: 506ms\n",
      "719:\tlearn: 0.0758149\ttotal: 1.29s\tremaining: 504ms\n",
      "720:\tlearn: 0.0757041\ttotal: 1.3s\tremaining: 503ms\n",
      "721:\tlearn: 0.0755697\ttotal: 1.3s\tremaining: 501ms\n",
      "722:\tlearn: 0.0755068\ttotal: 1.3s\tremaining: 499ms\n",
      "723:\tlearn: 0.0753616\ttotal: 1.3s\tremaining: 497ms\n",
      "724:\tlearn: 0.0753357\ttotal: 1.3s\tremaining: 495ms\n",
      "725:\tlearn: 0.0752119\ttotal: 1.31s\tremaining: 493ms\n",
      "726:\tlearn: 0.0750615\ttotal: 1.31s\tremaining: 491ms\n",
      "727:\tlearn: 0.0749177\ttotal: 1.31s\tremaining: 489ms\n",
      "728:\tlearn: 0.0748675\ttotal: 1.31s\tremaining: 487ms\n",
      "729:\tlearn: 0.0747606\ttotal: 1.31s\tremaining: 485ms\n",
      "730:\tlearn: 0.0746661\ttotal: 1.31s\tremaining: 483ms\n",
      "731:\tlearn: 0.0745047\ttotal: 1.31s\tremaining: 481ms\n"
     ]
    },
    {
     "name": "stdout",
     "output_type": "stream",
     "text": [
      "732:\tlearn: 0.0743773\ttotal: 1.32s\tremaining: 480ms\n",
      "733:\tlearn: 0.0743154\ttotal: 1.32s\tremaining: 478ms\n",
      "734:\tlearn: 0.0742727\ttotal: 1.32s\tremaining: 476ms\n",
      "735:\tlearn: 0.0742464\ttotal: 1.32s\tremaining: 474ms\n",
      "736:\tlearn: 0.0742099\ttotal: 1.32s\tremaining: 472ms\n",
      "737:\tlearn: 0.0741610\ttotal: 1.32s\tremaining: 470ms\n",
      "738:\tlearn: 0.0740224\ttotal: 1.33s\tremaining: 468ms\n",
      "739:\tlearn: 0.0737997\ttotal: 1.33s\tremaining: 467ms\n",
      "740:\tlearn: 0.0737109\ttotal: 1.33s\tremaining: 465ms\n",
      "741:\tlearn: 0.0736757\ttotal: 1.33s\tremaining: 463ms\n",
      "742:\tlearn: 0.0735297\ttotal: 1.33s\tremaining: 461ms\n",
      "743:\tlearn: 0.0734506\ttotal: 1.33s\tremaining: 459ms\n",
      "744:\tlearn: 0.0732513\ttotal: 1.33s\tremaining: 457ms\n",
      "745:\tlearn: 0.0730811\ttotal: 1.34s\tremaining: 455ms\n",
      "746:\tlearn: 0.0729423\ttotal: 1.34s\tremaining: 453ms\n",
      "747:\tlearn: 0.0727726\ttotal: 1.34s\tremaining: 451ms\n",
      "748:\tlearn: 0.0727019\ttotal: 1.34s\tremaining: 449ms\n",
      "749:\tlearn: 0.0725752\ttotal: 1.34s\tremaining: 447ms\n",
      "750:\tlearn: 0.0725133\ttotal: 1.34s\tremaining: 446ms\n",
      "751:\tlearn: 0.0723981\ttotal: 1.35s\tremaining: 444ms\n",
      "752:\tlearn: 0.0722707\ttotal: 1.35s\tremaining: 443ms\n",
      "753:\tlearn: 0.0722244\ttotal: 1.35s\tremaining: 441ms\n",
      "754:\tlearn: 0.0721060\ttotal: 1.35s\tremaining: 439ms\n",
      "755:\tlearn: 0.0720550\ttotal: 1.35s\tremaining: 438ms\n",
      "756:\tlearn: 0.0719319\ttotal: 1.36s\tremaining: 436ms\n",
      "757:\tlearn: 0.0718187\ttotal: 1.36s\tremaining: 434ms\n",
      "758:\tlearn: 0.0716632\ttotal: 1.36s\tremaining: 432ms\n",
      "759:\tlearn: 0.0715996\ttotal: 1.36s\tremaining: 430ms\n",
      "760:\tlearn: 0.0714115\ttotal: 1.36s\tremaining: 428ms\n",
      "761:\tlearn: 0.0713933\ttotal: 1.36s\tremaining: 426ms\n",
      "762:\tlearn: 0.0713321\ttotal: 1.37s\tremaining: 425ms\n",
      "763:\tlearn: 0.0711529\ttotal: 1.37s\tremaining: 423ms\n"
     ]
    },
    {
     "name": "stdout",
     "output_type": "stream",
     "text": [
      "764:\tlearn: 0.0710406\ttotal: 1.37s\tremaining: 422ms\n",
      "765:\tlearn: 0.0708895\ttotal: 1.38s\tremaining: 420ms\n",
      "766:\tlearn: 0.0708502\ttotal: 1.38s\tremaining: 418ms\n",
      "767:\tlearn: 0.0706998\ttotal: 1.38s\tremaining: 416ms\n",
      "768:\tlearn: 0.0706659\ttotal: 1.38s\tremaining: 414ms\n",
      "769:\tlearn: 0.0706424\ttotal: 1.38s\tremaining: 412ms\n",
      "770:\tlearn: 0.0705256\ttotal: 1.38s\tremaining: 410ms\n"
     ]
    },
    {
     "name": "stdout",
     "output_type": "stream",
     "text": [
      "771:\tlearn: 0.0703676\ttotal: 1.38s\tremaining: 409ms\n",
      "772:\tlearn: 0.0701797\ttotal: 1.39s\tremaining: 407ms\n",
      "773:\tlearn: 0.0700490\ttotal: 1.39s\tremaining: 405ms\n",
      "774:\tlearn: 0.0700278\ttotal: 1.39s\tremaining: 403ms\n",
      "775:\tlearn: 0.0700056\ttotal: 1.39s\tremaining: 401ms\n",
      "776:\tlearn: 0.0699300\ttotal: 1.39s\tremaining: 399ms\n",
      "777:\tlearn: 0.0697980\ttotal: 1.39s\tremaining: 397ms\n",
      "778:\tlearn: 0.0697459\ttotal: 1.4s\tremaining: 396ms\n",
      "779:\tlearn: 0.0696719\ttotal: 1.4s\tremaining: 395ms\n",
      "780:\tlearn: 0.0694999\ttotal: 1.4s\tremaining: 393ms\n",
      "781:\tlearn: 0.0694025\ttotal: 1.4s\tremaining: 391ms\n",
      "782:\tlearn: 0.0692673\ttotal: 1.4s\tremaining: 389ms\n",
      "783:\tlearn: 0.0692084\ttotal: 1.41s\tremaining: 387ms\n",
      "784:\tlearn: 0.0691004\ttotal: 1.41s\tremaining: 385ms\n",
      "785:\tlearn: 0.0690778\ttotal: 1.41s\tremaining: 384ms\n",
      "786:\tlearn: 0.0689584\ttotal: 1.41s\tremaining: 383ms\n",
      "787:\tlearn: 0.0688435\ttotal: 1.41s\tremaining: 381ms\n",
      "788:\tlearn: 0.0687600\ttotal: 1.42s\tremaining: 379ms\n",
      "789:\tlearn: 0.0685867\ttotal: 1.42s\tremaining: 377ms\n",
      "790:\tlearn: 0.0684893\ttotal: 1.42s\tremaining: 375ms\n",
      "791:\tlearn: 0.0684205\ttotal: 1.42s\tremaining: 373ms\n",
      "792:\tlearn: 0.0683971\ttotal: 1.42s\tremaining: 371ms\n",
      "793:\tlearn: 0.0683741\ttotal: 1.42s\tremaining: 369ms\n",
      "794:\tlearn: 0.0682810\ttotal: 1.43s\tremaining: 368ms\n",
      "795:\tlearn: 0.0681402\ttotal: 1.43s\tremaining: 366ms\n",
      "796:\tlearn: 0.0680173\ttotal: 1.43s\tremaining: 364ms\n",
      "797:\tlearn: 0.0678898\ttotal: 1.43s\tremaining: 362ms\n",
      "798:\tlearn: 0.0677255\ttotal: 1.43s\tremaining: 360ms\n",
      "799:\tlearn: 0.0676508\ttotal: 1.43s\tremaining: 358ms\n",
      "800:\tlearn: 0.0674937\ttotal: 1.43s\tremaining: 356ms\n",
      "801:\tlearn: 0.0674561\ttotal: 1.44s\tremaining: 354ms\n",
      "802:\tlearn: 0.0673493\ttotal: 1.44s\tremaining: 352ms\n",
      "803:\tlearn: 0.0673288\ttotal: 1.44s\tremaining: 351ms\n",
      "804:\tlearn: 0.0672442\ttotal: 1.44s\tremaining: 349ms\n",
      "805:\tlearn: 0.0670477\ttotal: 1.44s\tremaining: 347ms\n",
      "806:\tlearn: 0.0669967\ttotal: 1.44s\tremaining: 345ms\n",
      "807:\tlearn: 0.0668906\ttotal: 1.44s\tremaining: 343ms\n",
      "808:\tlearn: 0.0667496\ttotal: 1.45s\tremaining: 341ms\n",
      "809:\tlearn: 0.0666687\ttotal: 1.45s\tremaining: 339ms\n",
      "810:\tlearn: 0.0665259\ttotal: 1.45s\tremaining: 338ms\n",
      "811:\tlearn: 0.0664690\ttotal: 1.45s\tremaining: 336ms\n",
      "812:\tlearn: 0.0663967\ttotal: 1.45s\tremaining: 334ms\n",
      "813:\tlearn: 0.0662781\ttotal: 1.45s\tremaining: 332ms\n",
      "814:\tlearn: 0.0660990\ttotal: 1.46s\tremaining: 330ms\n",
      "815:\tlearn: 0.0659529\ttotal: 1.46s\tremaining: 328ms\n",
      "816:\tlearn: 0.0658948\ttotal: 1.46s\tremaining: 327ms\n",
      "817:\tlearn: 0.0657674\ttotal: 1.46s\tremaining: 325ms\n",
      "818:\tlearn: 0.0656091\ttotal: 1.46s\tremaining: 323ms\n",
      "819:\tlearn: 0.0655053\ttotal: 1.46s\tremaining: 321ms\n",
      "820:\tlearn: 0.0654655\ttotal: 1.46s\tremaining: 319ms\n",
      "821:\tlearn: 0.0653646\ttotal: 1.46s\tremaining: 317ms\n",
      "822:\tlearn: 0.0652090\ttotal: 1.47s\tremaining: 315ms\n",
      "823:\tlearn: 0.0650671\ttotal: 1.47s\tremaining: 313ms\n",
      "824:\tlearn: 0.0649574\ttotal: 1.47s\tremaining: 312ms\n",
      "825:\tlearn: 0.0649110\ttotal: 1.47s\tremaining: 310ms\n",
      "826:\tlearn: 0.0648598\ttotal: 1.47s\tremaining: 308ms\n",
      "827:\tlearn: 0.0647665\ttotal: 1.47s\tremaining: 306ms\n",
      "828:\tlearn: 0.0646428\ttotal: 1.47s\tremaining: 304ms\n",
      "829:\tlearn: 0.0645966\ttotal: 1.48s\tremaining: 302ms\n",
      "830:\tlearn: 0.0645261\ttotal: 1.48s\tremaining: 300ms\n",
      "831:\tlearn: 0.0644234\ttotal: 1.48s\tremaining: 299ms\n",
      "832:\tlearn: 0.0643841\ttotal: 1.48s\tremaining: 297ms\n",
      "833:\tlearn: 0.0642576\ttotal: 1.48s\tremaining: 295ms\n"
     ]
    },
    {
     "name": "stdout",
     "output_type": "stream",
     "text": [
      "834:\tlearn: 0.0642184\ttotal: 1.48s\tremaining: 293ms\n",
      "835:\tlearn: 0.0641133\ttotal: 1.49s\tremaining: 292ms\n",
      "836:\tlearn: 0.0639691\ttotal: 1.49s\tremaining: 291ms\n",
      "837:\tlearn: 0.0638581\ttotal: 1.49s\tremaining: 289ms\n",
      "838:\tlearn: 0.0637985\ttotal: 1.5s\tremaining: 287ms\n",
      "839:\tlearn: 0.0637103\ttotal: 1.5s\tremaining: 285ms\n",
      "840:\tlearn: 0.0636460\ttotal: 1.5s\tremaining: 283ms\n",
      "841:\tlearn: 0.0635117\ttotal: 1.5s\tremaining: 281ms\n",
      "842:\tlearn: 0.0634574\ttotal: 1.5s\tremaining: 280ms\n",
      "843:\tlearn: 0.0633317\ttotal: 1.5s\tremaining: 278ms\n",
      "844:\tlearn: 0.0632896\ttotal: 1.5s\tremaining: 276ms\n",
      "845:\tlearn: 0.0632027\ttotal: 1.5s\tremaining: 274ms\n",
      "846:\tlearn: 0.0631456\ttotal: 1.51s\tremaining: 272ms\n",
      "847:\tlearn: 0.0630249\ttotal: 1.51s\tremaining: 270ms\n",
      "848:\tlearn: 0.0628624\ttotal: 1.51s\tremaining: 269ms\n",
      "849:\tlearn: 0.0627367\ttotal: 1.51s\tremaining: 267ms\n",
      "850:\tlearn: 0.0626150\ttotal: 1.51s\tremaining: 265ms\n",
      "851:\tlearn: 0.0625828\ttotal: 1.51s\tremaining: 263ms\n",
      "852:\tlearn: 0.0625060\ttotal: 1.51s\tremaining: 261ms\n",
      "853:\tlearn: 0.0623920\ttotal: 1.52s\tremaining: 259ms\n",
      "854:\tlearn: 0.0623302\ttotal: 1.52s\tremaining: 258ms\n",
      "855:\tlearn: 0.0622072\ttotal: 1.52s\tremaining: 256ms\n",
      "856:\tlearn: 0.0621892\ttotal: 1.52s\tremaining: 254ms\n",
      "857:\tlearn: 0.0620563\ttotal: 1.52s\tremaining: 252ms\n",
      "858:\tlearn: 0.0619701\ttotal: 1.52s\tremaining: 250ms\n",
      "859:\tlearn: 0.0619501\ttotal: 1.52s\tremaining: 248ms\n",
      "860:\tlearn: 0.0618231\ttotal: 1.53s\tremaining: 247ms\n",
      "861:\tlearn: 0.0617760\ttotal: 1.53s\tremaining: 245ms\n",
      "862:\tlearn: 0.0617195\ttotal: 1.53s\tremaining: 243ms\n",
      "863:\tlearn: 0.0616735\ttotal: 1.53s\tremaining: 241ms\n",
      "864:\tlearn: 0.0615408\ttotal: 1.53s\tremaining: 240ms\n",
      "865:\tlearn: 0.0614494\ttotal: 1.54s\tremaining: 238ms\n",
      "866:\tlearn: 0.0614309\ttotal: 1.54s\tremaining: 236ms\n"
     ]
    },
    {
     "name": "stdout",
     "output_type": "stream",
     "text": [
      "867:\tlearn: 0.0613822\ttotal: 1.54s\tremaining: 234ms\n",
      "868:\tlearn: 0.0612727\ttotal: 1.54s\tremaining: 232ms\n",
      "869:\tlearn: 0.0611944\ttotal: 1.54s\tremaining: 231ms\n",
      "870:\tlearn: 0.0610697\ttotal: 1.54s\tremaining: 229ms\n",
      "871:\tlearn: 0.0609609\ttotal: 1.54s\tremaining: 227ms\n",
      "872:\tlearn: 0.0608996\ttotal: 1.55s\tremaining: 225ms\n"
     ]
    },
    {
     "name": "stdout",
     "output_type": "stream",
     "text": [
      "873:\tlearn: 0.0607683\ttotal: 1.55s\tremaining: 223ms\n",
      "874:\tlearn: 0.0606419\ttotal: 1.55s\tremaining: 222ms\n",
      "875:\tlearn: 0.0605506\ttotal: 1.55s\tremaining: 220ms\n",
      "876:\tlearn: 0.0604311\ttotal: 1.55s\tremaining: 218ms\n",
      "877:\tlearn: 0.0603621\ttotal: 1.56s\tremaining: 216ms\n",
      "878:\tlearn: 0.0602585\ttotal: 1.56s\tremaining: 214ms\n",
      "879:\tlearn: 0.0600542\ttotal: 1.56s\tremaining: 213ms\n",
      "880:\tlearn: 0.0599842\ttotal: 1.56s\tremaining: 211ms\n",
      "881:\tlearn: 0.0598449\ttotal: 1.56s\tremaining: 209ms\n",
      "882:\tlearn: 0.0598302\ttotal: 1.56s\tremaining: 207ms\n",
      "883:\tlearn: 0.0597415\ttotal: 1.56s\tremaining: 205ms\n",
      "884:\tlearn: 0.0596214\ttotal: 1.57s\tremaining: 204ms\n",
      "885:\tlearn: 0.0595465\ttotal: 1.57s\tremaining: 202ms\n",
      "886:\tlearn: 0.0595011\ttotal: 1.57s\tremaining: 200ms\n",
      "887:\tlearn: 0.0594629\ttotal: 1.57s\tremaining: 198ms\n",
      "888:\tlearn: 0.0594052\ttotal: 1.57s\tremaining: 196ms\n",
      "889:\tlearn: 0.0592686\ttotal: 1.57s\tremaining: 195ms\n",
      "890:\tlearn: 0.0591457\ttotal: 1.58s\tremaining: 193ms\n",
      "891:\tlearn: 0.0590134\ttotal: 1.58s\tremaining: 191ms\n",
      "892:\tlearn: 0.0588576\ttotal: 1.58s\tremaining: 189ms\n",
      "893:\tlearn: 0.0587382\ttotal: 1.58s\tremaining: 187ms\n",
      "894:\tlearn: 0.0587226\ttotal: 1.59s\tremaining: 186ms\n",
      "895:\tlearn: 0.0586225\ttotal: 1.59s\tremaining: 185ms\n",
      "896:\tlearn: 0.0585675\ttotal: 1.59s\tremaining: 183ms\n",
      "897:\tlearn: 0.0584557\ttotal: 1.6s\tremaining: 181ms\n",
      "898:\tlearn: 0.0583760\ttotal: 1.6s\tremaining: 180ms\n",
      "899:\tlearn: 0.0583229\ttotal: 1.6s\tremaining: 178ms\n",
      "900:\tlearn: 0.0582037\ttotal: 1.6s\tremaining: 176ms\n",
      "901:\tlearn: 0.0581075\ttotal: 1.6s\tremaining: 174ms\n",
      "902:\tlearn: 0.0580033\ttotal: 1.61s\tremaining: 173ms\n",
      "903:\tlearn: 0.0578295\ttotal: 1.61s\tremaining: 171ms\n",
      "904:\tlearn: 0.0578119\ttotal: 1.61s\tremaining: 169ms\n",
      "905:\tlearn: 0.0577482\ttotal: 1.61s\tremaining: 167ms\n",
      "906:\tlearn: 0.0576368\ttotal: 1.61s\tremaining: 165ms\n",
      "907:\tlearn: 0.0575258\ttotal: 1.61s\tremaining: 164ms\n",
      "908:\tlearn: 0.0574730\ttotal: 1.61s\tremaining: 162ms\n",
      "909:\tlearn: 0.0573382\ttotal: 1.62s\tremaining: 160ms\n",
      "910:\tlearn: 0.0572760\ttotal: 1.62s\tremaining: 158ms\n",
      "911:\tlearn: 0.0571906\ttotal: 1.62s\tremaining: 156ms\n",
      "912:\tlearn: 0.0570931\ttotal: 1.62s\tremaining: 155ms\n",
      "913:\tlearn: 0.0569919\ttotal: 1.62s\tremaining: 153ms\n",
      "914:\tlearn: 0.0569414\ttotal: 1.62s\tremaining: 151ms\n",
      "915:\tlearn: 0.0568368\ttotal: 1.63s\tremaining: 149ms\n",
      "916:\tlearn: 0.0568080\ttotal: 1.63s\tremaining: 147ms\n",
      "917:\tlearn: 0.0567480\ttotal: 1.63s\tremaining: 146ms\n",
      "918:\tlearn: 0.0567299\ttotal: 1.63s\tremaining: 144ms\n",
      "919:\tlearn: 0.0566251\ttotal: 1.63s\tremaining: 142ms\n",
      "920:\tlearn: 0.0565540\ttotal: 1.63s\tremaining: 140ms\n",
      "921:\tlearn: 0.0564385\ttotal: 1.63s\tremaining: 138ms\n",
      "922:\tlearn: 0.0564097\ttotal: 1.64s\tremaining: 136ms\n",
      "923:\tlearn: 0.0563555\ttotal: 1.64s\tremaining: 135ms\n",
      "924:\tlearn: 0.0562620\ttotal: 1.64s\tremaining: 133ms\n",
      "925:\tlearn: 0.0561547\ttotal: 1.64s\tremaining: 131ms\n",
      "926:\tlearn: 0.0560494\ttotal: 1.64s\tremaining: 129ms\n",
      "927:\tlearn: 0.0559679\ttotal: 1.64s\tremaining: 127ms\n",
      "928:\tlearn: 0.0559038\ttotal: 1.64s\tremaining: 126ms\n",
      "929:\tlearn: 0.0557895\ttotal: 1.64s\tremaining: 124ms\n",
      "930:\tlearn: 0.0557615\ttotal: 1.65s\tremaining: 122ms\n",
      "931:\tlearn: 0.0556958\ttotal: 1.65s\tremaining: 120ms\n",
      "932:\tlearn: 0.0555847\ttotal: 1.65s\tremaining: 118ms\n",
      "933:\tlearn: 0.0554438\ttotal: 1.65s\tremaining: 117ms\n",
      "934:\tlearn: 0.0554239\ttotal: 1.65s\tremaining: 115ms\n",
      "935:\tlearn: 0.0553303\ttotal: 1.65s\tremaining: 113ms\n",
      "936:\tlearn: 0.0552130\ttotal: 1.65s\tremaining: 111ms\n",
      "937:\tlearn: 0.0551228\ttotal: 1.66s\tremaining: 109ms\n",
      "938:\tlearn: 0.0549992\ttotal: 1.66s\tremaining: 108ms\n"
     ]
    },
    {
     "name": "stdout",
     "output_type": "stream",
     "text": [
      "939:\tlearn: 0.0549300\ttotal: 1.66s\tremaining: 106ms\n",
      "940:\tlearn: 0.0548539\ttotal: 1.66s\tremaining: 104ms\n",
      "941:\tlearn: 0.0548007\ttotal: 1.66s\tremaining: 102ms\n",
      "942:\tlearn: 0.0547748\ttotal: 1.66s\tremaining: 101ms\n",
      "943:\tlearn: 0.0547603\ttotal: 1.66s\tremaining: 98.8ms\n",
      "944:\tlearn: 0.0547005\ttotal: 1.67s\tremaining: 97ms\n",
      "945:\tlearn: 0.0545757\ttotal: 1.67s\tremaining: 95.3ms\n",
      "946:\tlearn: 0.0545159\ttotal: 1.67s\tremaining: 93.6ms\n",
      "947:\tlearn: 0.0544398\ttotal: 1.67s\tremaining: 91.8ms\n",
      "948:\tlearn: 0.0543866\ttotal: 1.68s\tremaining: 90.1ms\n",
      "949:\tlearn: 0.0542770\ttotal: 1.68s\tremaining: 88.3ms\n",
      "950:\tlearn: 0.0542087\ttotal: 1.68s\tremaining: 86.5ms\n",
      "951:\tlearn: 0.0541517\ttotal: 1.68s\tremaining: 84.7ms\n",
      "952:\tlearn: 0.0540951\ttotal: 1.68s\tremaining: 82.9ms\n",
      "953:\tlearn: 0.0540289\ttotal: 1.68s\tremaining: 81.2ms\n",
      "954:\tlearn: 0.0539734\ttotal: 1.68s\tremaining: 79.4ms\n",
      "955:\tlearn: 0.0538806\ttotal: 1.69s\tremaining: 77.6ms\n",
      "956:\tlearn: 0.0538125\ttotal: 1.69s\tremaining: 75.8ms\n",
      "957:\tlearn: 0.0536485\ttotal: 1.69s\tremaining: 74.1ms\n",
      "958:\tlearn: 0.0535808\ttotal: 1.69s\tremaining: 72.3ms\n",
      "959:\tlearn: 0.0535205\ttotal: 1.69s\tremaining: 70.5ms\n",
      "960:\tlearn: 0.0534332\ttotal: 1.69s\tremaining: 68.8ms\n",
      "961:\tlearn: 0.0533738\ttotal: 1.7s\tremaining: 67ms\n",
      "962:\tlearn: 0.0532468\ttotal: 1.7s\tremaining: 65.2ms\n",
      "963:\tlearn: 0.0531671\ttotal: 1.7s\tremaining: 63.4ms\n",
      "964:\tlearn: 0.0530738\ttotal: 1.7s\tremaining: 61.7ms\n",
      "965:\tlearn: 0.0530462\ttotal: 1.7s\tremaining: 59.9ms\n",
      "966:\tlearn: 0.0529537\ttotal: 1.7s\tremaining: 58.1ms\n",
      "967:\tlearn: 0.0529240\ttotal: 1.7s\tremaining: 56.4ms\n",
      "968:\tlearn: 0.0528529\ttotal: 1.71s\tremaining: 54.6ms\n",
      "969:\tlearn: 0.0527698\ttotal: 1.71s\tremaining: 52.8ms\n",
      "970:\tlearn: 0.0526677\ttotal: 1.71s\tremaining: 51ms\n",
      "971:\tlearn: 0.0526587\ttotal: 1.71s\tremaining: 49.3ms\n",
      "972:\tlearn: 0.0526235\ttotal: 1.71s\tremaining: 47.5ms\n",
      "973:\tlearn: 0.0525291\ttotal: 1.71s\tremaining: 45.7ms\n",
      "974:\tlearn: 0.0524300\ttotal: 1.71s\tremaining: 44ms\n"
     ]
    },
    {
     "name": "stdout",
     "output_type": "stream",
     "text": [
      "975:\tlearn: 0.0523393\ttotal: 1.72s\tremaining: 42.2ms\n",
      "976:\tlearn: 0.0522164\ttotal: 1.72s\tremaining: 40.5ms\n",
      "977:\tlearn: 0.0521331\ttotal: 1.72s\tremaining: 38.7ms\n",
      "978:\tlearn: 0.0519941\ttotal: 1.72s\tremaining: 36.9ms\n",
      "979:\tlearn: 0.0519809\ttotal: 1.72s\tremaining: 35.2ms\n",
      "980:\tlearn: 0.0519043\ttotal: 1.72s\tremaining: 33.4ms\n"
     ]
    },
    {
     "name": "stdout",
     "output_type": "stream",
     "text": [
      "981:\tlearn: 0.0518295\ttotal: 1.73s\tremaining: 31.7ms\n",
      "982:\tlearn: 0.0517635\ttotal: 1.73s\tremaining: 29.9ms\n",
      "983:\tlearn: 0.0517096\ttotal: 1.73s\tremaining: 28.1ms\n",
      "984:\tlearn: 0.0516583\ttotal: 1.73s\tremaining: 26.4ms\n",
      "985:\tlearn: 0.0515782\ttotal: 1.73s\tremaining: 24.6ms\n",
      "986:\tlearn: 0.0514915\ttotal: 1.73s\tremaining: 22.8ms\n",
      "987:\tlearn: 0.0514755\ttotal: 1.74s\tremaining: 21.1ms\n",
      "988:\tlearn: 0.0513997\ttotal: 1.74s\tremaining: 19.3ms\n",
      "989:\tlearn: 0.0513171\ttotal: 1.74s\tremaining: 17.6ms\n",
      "990:\tlearn: 0.0512834\ttotal: 1.74s\tremaining: 15.8ms\n",
      "991:\tlearn: 0.0512235\ttotal: 1.74s\tremaining: 14ms\n",
      "992:\tlearn: 0.0511265\ttotal: 1.74s\tremaining: 12.3ms\n",
      "993:\tlearn: 0.0510125\ttotal: 1.74s\tremaining: 10.5ms\n",
      "994:\tlearn: 0.0509872\ttotal: 1.75s\tremaining: 8.77ms\n",
      "995:\tlearn: 0.0509614\ttotal: 1.75s\tremaining: 7.02ms\n",
      "996:\tlearn: 0.0508343\ttotal: 1.75s\tremaining: 5.26ms\n",
      "997:\tlearn: 0.0508217\ttotal: 1.75s\tremaining: 3.51ms\n",
      "998:\tlearn: 0.0507238\ttotal: 1.75s\tremaining: 1.75ms\n",
      "999:\tlearn: 0.0506694\ttotal: 1.75s\tremaining: 0us\n",
      "Mean Absolute error 0.19807219077851979\n"
     ]
    },
    {
     "data": {
      "application/scrapbook.scrap.json+json": {
       "data": 0.19807219077851979,
       "encoder": "json",
       "name": "Catboost MAE",
       "version": 1
      }
     },
     "metadata": {
      "scrapbook": {
       "data": true,
       "display": false,
       "name": "Catboost MAE"
      }
     },
     "output_type": "display_data"
    },
    {
     "name": "stdout",
     "output_type": "stream",
     "text": [
      "Catboost MAE 0.19807219077851979\n"
     ]
    }
   ],
   "source": [
    "mae_cb = baselineModels.catboost(X_train,y_train,X_test,y_test)\n",
    "#Store MSE Value\n",
    "sb.glue(\"Catboost MAE\",mae_cb)\n",
    "print(\"Catboost MAE\",mae_cb)"
   ]
  },
  {
   "cell_type": "markdown",
   "id": "c4214dd3",
   "metadata": {
    "papermill": {
     "duration": 0.014992,
     "end_time": "2022-07-21T10:33:37.612892",
     "exception": false,
     "start_time": "2022-07-21T10:33:37.597900",
     "status": "completed"
    },
    "tags": []
   },
   "source": [
    "# TabNet Regressor"
   ]
  },
  {
   "cell_type": "code",
   "execution_count": 7,
   "id": "2997920b",
   "metadata": {
    "execution": {
     "iopub.execute_input": "2022-07-21T10:33:37.643351Z",
     "iopub.status.busy": "2022-07-21T10:33:37.643021Z",
     "iopub.status.idle": "2022-07-21T10:33:37.649556Z",
     "shell.execute_reply": "2022-07-21T10:33:37.648739Z"
    },
    "papermill": {
     "duration": 0.029729,
     "end_time": "2022-07-21T10:33:37.652886",
     "exception": false,
     "start_time": "2022-07-21T10:33:37.623157",
     "status": "completed"
    },
    "tags": []
   },
   "outputs": [],
   "source": [
    "n_epochs = 1000\n",
    "batch_size = 32"
   ]
  },
  {
   "cell_type": "code",
   "execution_count": 8,
   "id": "aeff68f2",
   "metadata": {
    "execution": {
     "iopub.execute_input": "2022-07-21T10:33:37.674590Z",
     "iopub.status.busy": "2022-07-21T10:33:37.673973Z",
     "iopub.status.idle": "2022-07-21T10:35:00.819431Z",
     "shell.execute_reply": "2022-07-21T10:35:00.818816Z"
    },
    "papermill": {
     "duration": 83.159467,
     "end_time": "2022-07-21T10:35:00.821922",
     "exception": false,
     "start_time": "2022-07-21T10:33:37.662455",
     "status": "completed"
    },
    "tags": []
   },
   "outputs": [
    {
     "name": "stdout",
     "output_type": "stream",
     "text": [
      "Device used : cpu\n"
     ]
    },
    {
     "name": "stdout",
     "output_type": "stream",
     "text": [
      "epoch 0  | loss: 2.9046  | train_mse: 0.92814 | train_mae: 0.69054 |  0:00:02s\n"
     ]
    },
    {
     "name": "stdout",
     "output_type": "stream",
     "text": [
      "epoch 1  | loss: 1.13312 | train_mse: 0.87914 | train_mae: 0.64478 |  0:00:02s\n"
     ]
    },
    {
     "name": "stdout",
     "output_type": "stream",
     "text": [
      "epoch 2  | loss: 0.72808 | train_mse: 0.65333 | train_mae: 0.55374 |  0:00:03s\n"
     ]
    },
    {
     "name": "stdout",
     "output_type": "stream",
     "text": [
      "epoch 3  | loss: 0.54715 | train_mse: 0.45786 | train_mae: 0.48895 |  0:00:03s\n"
     ]
    },
    {
     "name": "stdout",
     "output_type": "stream",
     "text": [
      "epoch 4  | loss: 0.44495 | train_mse: 0.46099 | train_mae: 0.48528 |  0:00:04s\n"
     ]
    },
    {
     "name": "stdout",
     "output_type": "stream",
     "text": [
      "epoch 5  | loss: 0.44788 | train_mse: 0.40869 | train_mae: 0.45354 |  0:00:04s\n"
     ]
    },
    {
     "name": "stdout",
     "output_type": "stream",
     "text": [
      "epoch 6  | loss: 0.45809 | train_mse: 0.36497 | train_mae: 0.41501 |  0:00:04s\n"
     ]
    },
    {
     "name": "stdout",
     "output_type": "stream",
     "text": [
      "epoch 7  | loss: 0.37106 | train_mse: 0.40438 | train_mae: 0.43592 |  0:00:05s\n"
     ]
    },
    {
     "name": "stdout",
     "output_type": "stream",
     "text": [
      "epoch 8  | loss: 0.38069 | train_mse: 0.34893 | train_mae: 0.38246 |  0:00:05s\n"
     ]
    },
    {
     "name": "stdout",
     "output_type": "stream",
     "text": [
      "epoch 9  | loss: 0.42444 | train_mse: 0.36959 | train_mae: 0.38717 |  0:00:06s\n"
     ]
    },
    {
     "name": "stdout",
     "output_type": "stream",
     "text": [
      "epoch 10 | loss: 0.45431 | train_mse: 0.2964  | train_mae: 0.36024 |  0:00:06s\n"
     ]
    },
    {
     "name": "stdout",
     "output_type": "stream",
     "text": [
      "epoch 11 | loss: 0.3534  | train_mse: 0.30509 | train_mae: 0.36827 |  0:00:06s\n"
     ]
    },
    {
     "name": "stdout",
     "output_type": "stream",
     "text": [
      "epoch 12 | loss: 0.38556 | train_mse: 0.31065 | train_mae: 0.38228 |  0:00:07s\n"
     ]
    },
    {
     "name": "stdout",
     "output_type": "stream",
     "text": [
      "epoch 13 | loss: 0.32148 | train_mse: 0.28752 | train_mae: 0.35402 |  0:00:07s\n"
     ]
    },
    {
     "name": "stdout",
     "output_type": "stream",
     "text": [
      "epoch 14 | loss: 0.31684 | train_mse: 0.2638  | train_mae: 0.33099 |  0:00:08s\n"
     ]
    },
    {
     "name": "stdout",
     "output_type": "stream",
     "text": [
      "epoch 15 | loss: 0.29573 | train_mse: 0.26824 | train_mae: 0.3418  |  0:00:08s\n"
     ]
    },
    {
     "name": "stdout",
     "output_type": "stream",
     "text": [
      "epoch 16 | loss: 0.32083 | train_mse: 0.24518 | train_mae: 0.31337 |  0:00:09s\n"
     ]
    },
    {
     "name": "stdout",
     "output_type": "stream",
     "text": [
      "epoch 17 | loss: 0.31149 | train_mse: 0.25491 | train_mae: 0.32203 |  0:00:09s\n"
     ]
    },
    {
     "name": "stdout",
     "output_type": "stream",
     "text": [
      "epoch 18 | loss: 0.30683 | train_mse: 0.24741 | train_mae: 0.32165 |  0:00:09s\n"
     ]
    },
    {
     "name": "stdout",
     "output_type": "stream",
     "text": [
      "epoch 19 | loss: 0.22846 | train_mse: 0.21322 | train_mae: 0.30203 |  0:00:10s\n"
     ]
    },
    {
     "name": "stdout",
     "output_type": "stream",
     "text": [
      "epoch 20 | loss: 0.29635 | train_mse: 0.20377 | train_mae: 0.29958 |  0:00:10s\n"
     ]
    },
    {
     "name": "stdout",
     "output_type": "stream",
     "text": [
      "epoch 21 | loss: 0.26153 | train_mse: 0.18707 | train_mae: 0.27955 |  0:00:10s\n"
     ]
    },
    {
     "name": "stdout",
     "output_type": "stream",
     "text": [
      "epoch 22 | loss: 0.26876 | train_mse: 0.19418 | train_mae: 0.30333 |  0:00:11s\n"
     ]
    },
    {
     "name": "stdout",
     "output_type": "stream",
     "text": [
      "epoch 23 | loss: 0.27852 | train_mse: 0.17666 | train_mae: 0.29081 |  0:00:11s\n"
     ]
    },
    {
     "name": "stdout",
     "output_type": "stream",
     "text": [
      "epoch 24 | loss: 0.2595  | train_mse: 0.16849 | train_mae: 0.28262 |  0:00:12s\n"
     ]
    },
    {
     "name": "stdout",
     "output_type": "stream",
     "text": [
      "epoch 25 | loss: 0.22972 | train_mse: 0.16651 | train_mae: 0.27908 |  0:00:12s\n"
     ]
    },
    {
     "name": "stdout",
     "output_type": "stream",
     "text": [
      "epoch 26 | loss: 0.25002 | train_mse: 0.17234 | train_mae: 0.2876  |  0:00:12s\n"
     ]
    },
    {
     "name": "stdout",
     "output_type": "stream",
     "text": [
      "epoch 27 | loss: 0.25453 | train_mse: 0.15475 | train_mae: 0.26859 |  0:00:13s\n"
     ]
    },
    {
     "name": "stdout",
     "output_type": "stream",
     "text": [
      "epoch 28 | loss: 0.24373 | train_mse: 0.16365 | train_mae: 0.27464 |  0:00:13s\n"
     ]
    },
    {
     "name": "stdout",
     "output_type": "stream",
     "text": [
      "epoch 29 | loss: 0.22348 | train_mse: 0.14823 | train_mae: 0.26944 |  0:00:14s\n"
     ]
    },
    {
     "name": "stdout",
     "output_type": "stream",
     "text": [
      "epoch 30 | loss: 0.26134 | train_mse: 0.16108 | train_mae: 0.28837 |  0:00:14s\n"
     ]
    },
    {
     "name": "stdout",
     "output_type": "stream",
     "text": [
      "epoch 31 | loss: 0.31488 | train_mse: 0.18267 | train_mae: 0.31567 |  0:00:14s\n"
     ]
    },
    {
     "name": "stdout",
     "output_type": "stream",
     "text": [
      "epoch 32 | loss: 0.26125 | train_mse: 0.17176 | train_mae: 0.29134 |  0:00:15s\n"
     ]
    },
    {
     "name": "stdout",
     "output_type": "stream",
     "text": [
      "epoch 33 | loss: 0.21792 | train_mse: 0.16256 | train_mae: 0.28048 |  0:00:15s\n"
     ]
    },
    {
     "name": "stdout",
     "output_type": "stream",
     "text": [
      "epoch 34 | loss: 0.21432 | train_mse: 0.14373 | train_mae: 0.26446 |  0:00:16s\n"
     ]
    },
    {
     "name": "stdout",
     "output_type": "stream",
     "text": [
      "epoch 35 | loss: 0.23459 | train_mse: 0.15272 | train_mae: 0.26832 |  0:00:16s\n"
     ]
    },
    {
     "name": "stdout",
     "output_type": "stream",
     "text": [
      "epoch 36 | loss: 0.2197  | train_mse: 0.14196 | train_mae: 0.25513 |  0:00:16s\n"
     ]
    },
    {
     "name": "stdout",
     "output_type": "stream",
     "text": [
      "epoch 37 | loss: 0.25288 | train_mse: 0.14863 | train_mae: 0.2637  |  0:00:17s\n"
     ]
    },
    {
     "name": "stdout",
     "output_type": "stream",
     "text": [
      "epoch 38 | loss: 0.18704 | train_mse: 0.13218 | train_mae: 0.25725 |  0:00:17s\n"
     ]
    },
    {
     "name": "stdout",
     "output_type": "stream",
     "text": [
      "epoch 39 | loss: 0.19238 | train_mse: 0.12944 | train_mae: 0.24798 |  0:00:18s\n"
     ]
    },
    {
     "name": "stdout",
     "output_type": "stream",
     "text": [
      "epoch 40 | loss: 0.20184 | train_mse: 0.13932 | train_mae: 0.25396 |  0:00:18s\n"
     ]
    },
    {
     "name": "stdout",
     "output_type": "stream",
     "text": [
      "epoch 41 | loss: 0.26951 | train_mse: 0.16842 | train_mae: 0.28334 |  0:00:19s\n"
     ]
    },
    {
     "name": "stdout",
     "output_type": "stream",
     "text": [
      "epoch 42 | loss: 0.22271 | train_mse: 0.13104 | train_mae: 0.25505 |  0:00:19s\n"
     ]
    },
    {
     "name": "stdout",
     "output_type": "stream",
     "text": [
      "epoch 43 | loss: 0.20977 | train_mse: 0.12346 | train_mae: 0.23919 |  0:00:19s\n"
     ]
    },
    {
     "name": "stdout",
     "output_type": "stream",
     "text": [
      "epoch 44 | loss: 0.19407 | train_mse: 0.13137 | train_mae: 0.25117 |  0:00:20s\n"
     ]
    },
    {
     "name": "stdout",
     "output_type": "stream",
     "text": [
      "epoch 45 | loss: 0.17317 | train_mse: 0.12535 | train_mae: 0.24408 |  0:00:20s\n"
     ]
    },
    {
     "name": "stdout",
     "output_type": "stream",
     "text": [
      "epoch 46 | loss: 0.20832 | train_mse: 0.1142  | train_mae: 0.23274 |  0:00:20s\n"
     ]
    },
    {
     "name": "stdout",
     "output_type": "stream",
     "text": [
      "epoch 47 | loss: 0.21115 | train_mse: 0.11605 | train_mae: 0.23892 |  0:00:21s\n"
     ]
    },
    {
     "name": "stdout",
     "output_type": "stream",
     "text": [
      "epoch 48 | loss: 0.18858 | train_mse: 0.11808 | train_mae: 0.24557 |  0:00:21s\n"
     ]
    },
    {
     "name": "stdout",
     "output_type": "stream",
     "text": [
      "epoch 49 | loss: 0.15821 | train_mse: 0.11143 | train_mae: 0.22643 |  0:00:22s\n"
     ]
    },
    {
     "name": "stdout",
     "output_type": "stream",
     "text": [
      "epoch 50 | loss: 0.2305  | train_mse: 0.12264 | train_mae: 0.23373 |  0:00:22s\n"
     ]
    },
    {
     "name": "stdout",
     "output_type": "stream",
     "text": [
      "epoch 51 | loss: 0.20095 | train_mse: 0.11677 | train_mae: 0.23377 |  0:00:22s\n"
     ]
    },
    {
     "name": "stdout",
     "output_type": "stream",
     "text": [
      "epoch 52 | loss: 0.16082 | train_mse: 0.11631 | train_mae: 0.24209 |  0:00:23s\n"
     ]
    },
    {
     "name": "stdout",
     "output_type": "stream",
     "text": [
      "epoch 53 | loss: 0.17119 | train_mse: 0.12065 | train_mae: 0.24311 |  0:00:23s\n"
     ]
    },
    {
     "name": "stdout",
     "output_type": "stream",
     "text": [
      "epoch 54 | loss: 0.21368 | train_mse: 0.10774 | train_mae: 0.22572 |  0:00:24s\n"
     ]
    },
    {
     "name": "stdout",
     "output_type": "stream",
     "text": [
      "epoch 55 | loss: 0.20836 | train_mse: 0.11577 | train_mae: 0.24149 |  0:00:24s\n"
     ]
    },
    {
     "name": "stdout",
     "output_type": "stream",
     "text": [
      "epoch 56 | loss: 0.20021 | train_mse: 0.11169 | train_mae: 0.22729 |  0:00:24s\n"
     ]
    },
    {
     "name": "stdout",
     "output_type": "stream",
     "text": [
      "epoch 57 | loss: 0.18437 | train_mse: 0.13569 | train_mae: 0.25258 |  0:00:25s\n"
     ]
    },
    {
     "name": "stdout",
     "output_type": "stream",
     "text": [
      "epoch 58 | loss: 0.18955 | train_mse: 0.13244 | train_mae: 0.25472 |  0:00:25s\n"
     ]
    },
    {
     "name": "stdout",
     "output_type": "stream",
     "text": [
      "epoch 59 | loss: 0.15712 | train_mse: 0.1295  | train_mae: 0.25087 |  0:00:26s\n"
     ]
    },
    {
     "name": "stdout",
     "output_type": "stream",
     "text": [
      "epoch 60 | loss: 0.17373 | train_mse: 0.10957 | train_mae: 0.22623 |  0:00:26s\n"
     ]
    },
    {
     "name": "stdout",
     "output_type": "stream",
     "text": [
      "epoch 61 | loss: 0.21466 | train_mse: 0.11378 | train_mae: 0.23197 |  0:00:26s\n"
     ]
    },
    {
     "name": "stdout",
     "output_type": "stream",
     "text": [
      "epoch 62 | loss: 0.19191 | train_mse: 0.11519 | train_mae: 0.23754 |  0:00:27s\n"
     ]
    },
    {
     "name": "stdout",
     "output_type": "stream",
     "text": [
      "epoch 63 | loss: 0.20829 | train_mse: 0.10936 | train_mae: 0.23134 |  0:00:27s\n"
     ]
    },
    {
     "name": "stdout",
     "output_type": "stream",
     "text": [
      "epoch 64 | loss: 0.1741  | train_mse: 0.13044 | train_mae: 0.24892 |  0:00:28s\n"
     ]
    },
    {
     "name": "stdout",
     "output_type": "stream",
     "text": [
      "epoch 65 | loss: 0.14459 | train_mse: 0.11143 | train_mae: 0.23369 |  0:00:28s\n"
     ]
    },
    {
     "name": "stdout",
     "output_type": "stream",
     "text": [
      "epoch 66 | loss: 0.16655 | train_mse: 0.11921 | train_mae: 0.2419  |  0:00:28s\n"
     ]
    },
    {
     "name": "stdout",
     "output_type": "stream",
     "text": [
      "epoch 67 | loss: 0.18541 | train_mse: 0.1118  | train_mae: 0.24524 |  0:00:29s\n"
     ]
    },
    {
     "name": "stdout",
     "output_type": "stream",
     "text": [
      "epoch 68 | loss: 0.15833 | train_mse: 0.12024 | train_mae: 0.24447 |  0:00:29s\n"
     ]
    },
    {
     "name": "stdout",
     "output_type": "stream",
     "text": [
      "epoch 69 | loss: 0.15375 | train_mse: 0.16334 | train_mae: 0.25952 |  0:00:29s\n"
     ]
    },
    {
     "name": "stdout",
     "output_type": "stream",
     "text": [
      "epoch 70 | loss: 0.21776 | train_mse: 0.19279 | train_mae: 0.26584 |  0:00:30s\n"
     ]
    },
    {
     "name": "stdout",
     "output_type": "stream",
     "text": [
      "epoch 71 | loss: 0.18604 | train_mse: 0.14428 | train_mae: 0.24713 |  0:00:30s\n"
     ]
    },
    {
     "name": "stdout",
     "output_type": "stream",
     "text": [
      "epoch 72 | loss: 0.22108 | train_mse: 0.11746 | train_mae: 0.23506 |  0:00:30s\n"
     ]
    },
    {
     "name": "stdout",
     "output_type": "stream",
     "text": [
      "epoch 73 | loss: 0.17983 | train_mse: 0.11268 | train_mae: 0.23514 |  0:00:31s\n"
     ]
    },
    {
     "name": "stdout",
     "output_type": "stream",
     "text": [
      "epoch 74 | loss: 0.19843 | train_mse: 0.11664 | train_mae: 0.23211 |  0:00:31s\n"
     ]
    },
    {
     "name": "stdout",
     "output_type": "stream",
     "text": [
      "epoch 75 | loss: 0.20179 | train_mse: 0.10166 | train_mae: 0.21633 |  0:00:31s\n"
     ]
    },
    {
     "name": "stdout",
     "output_type": "stream",
     "text": [
      "epoch 76 | loss: 0.14601 | train_mse: 0.0974  | train_mae: 0.21444 |  0:00:31s\n"
     ]
    },
    {
     "name": "stdout",
     "output_type": "stream",
     "text": [
      "epoch 77 | loss: 0.16897 | train_mse: 0.10257 | train_mae: 0.22165 |  0:00:32s\n"
     ]
    },
    {
     "name": "stdout",
     "output_type": "stream",
     "text": [
      "epoch 78 | loss: 0.18825 | train_mse: 0.10528 | train_mae: 0.22194 |  0:00:32s\n"
     ]
    },
    {
     "name": "stdout",
     "output_type": "stream",
     "text": [
      "epoch 79 | loss: 0.13761 | train_mse: 0.08636 | train_mae: 0.2091  |  0:00:32s\n"
     ]
    },
    {
     "name": "stdout",
     "output_type": "stream",
     "text": [
      "epoch 80 | loss: 0.16507 | train_mse: 0.0957  | train_mae: 0.21984 |  0:00:33s\n"
     ]
    },
    {
     "name": "stdout",
     "output_type": "stream",
     "text": [
      "epoch 81 | loss: 0.16191 | train_mse: 0.09227 | train_mae: 0.21373 |  0:00:33s\n"
     ]
    },
    {
     "name": "stdout",
     "output_type": "stream",
     "text": [
      "epoch 82 | loss: 0.16893 | train_mse: 0.09163 | train_mae: 0.21578 |  0:00:33s\n"
     ]
    },
    {
     "name": "stdout",
     "output_type": "stream",
     "text": [
      "epoch 83 | loss: 0.15937 | train_mse: 0.07917 | train_mae: 0.20633 |  0:00:33s\n"
     ]
    },
    {
     "name": "stdout",
     "output_type": "stream",
     "text": [
      "epoch 84 | loss: 0.12991 | train_mse: 0.08282 | train_mae: 0.21191 |  0:00:34s\n"
     ]
    },
    {
     "name": "stdout",
     "output_type": "stream",
     "text": [
      "epoch 85 | loss: 0.14275 | train_mse: 0.07591 | train_mae: 0.19951 |  0:00:34s\n"
     ]
    },
    {
     "name": "stdout",
     "output_type": "stream",
     "text": [
      "epoch 86 | loss: 0.13288 | train_mse: 0.08042 | train_mae: 0.20357 |  0:00:34s\n"
     ]
    },
    {
     "name": "stdout",
     "output_type": "stream",
     "text": [
      "epoch 87 | loss: 0.12727 | train_mse: 0.09014 | train_mae: 0.21693 |  0:00:35s\n"
     ]
    },
    {
     "name": "stdout",
     "output_type": "stream",
     "text": [
      "epoch 88 | loss: 0.1979  | train_mse: 0.09613 | train_mae: 0.22587 |  0:00:35s\n"
     ]
    },
    {
     "name": "stdout",
     "output_type": "stream",
     "text": [
      "epoch 89 | loss: 0.17474 | train_mse: 0.09048 | train_mae: 0.21515 |  0:00:35s\n"
     ]
    },
    {
     "name": "stdout",
     "output_type": "stream",
     "text": [
      "epoch 90 | loss: 0.16511 | train_mse: 0.111   | train_mae: 0.2507  |  0:00:36s\n"
     ]
    },
    {
     "name": "stdout",
     "output_type": "stream",
     "text": [
      "epoch 91 | loss: 0.1357  | train_mse: 0.10256 | train_mae: 0.22103 |  0:00:36s\n"
     ]
    },
    {
     "name": "stdout",
     "output_type": "stream",
     "text": [
      "epoch 92 | loss: 0.20091 | train_mse: 0.11799 | train_mae: 0.22678 |  0:00:36s\n"
     ]
    },
    {
     "name": "stdout",
     "output_type": "stream",
     "text": [
      "epoch 93 | loss: 0.22582 | train_mse: 0.13748 | train_mae: 0.2498  |  0:00:36s\n"
     ]
    },
    {
     "name": "stdout",
     "output_type": "stream",
     "text": [
      "epoch 94 | loss: 0.19959 | train_mse: 0.12155 | train_mae: 0.23986 |  0:00:37s\n"
     ]
    },
    {
     "name": "stdout",
     "output_type": "stream",
     "text": [
      "epoch 95 | loss: 0.1646  | train_mse: 0.09686 | train_mae: 0.2239  |  0:00:37s\n"
     ]
    },
    {
     "name": "stdout",
     "output_type": "stream",
     "text": [
      "epoch 96 | loss: 0.12801 | train_mse: 0.09052 | train_mae: 0.2203  |  0:00:37s\n"
     ]
    },
    {
     "name": "stdout",
     "output_type": "stream",
     "text": [
      "epoch 97 | loss: 0.1682  | train_mse: 0.0882  | train_mae: 0.2097  |  0:00:38s\n"
     ]
    },
    {
     "name": "stdout",
     "output_type": "stream",
     "text": [
      "epoch 98 | loss: 0.14305 | train_mse: 0.08758 | train_mae: 0.21422 |  0:00:38s\n"
     ]
    },
    {
     "name": "stdout",
     "output_type": "stream",
     "text": [
      "epoch 99 | loss: 0.12446 | train_mse: 0.09711 | train_mae: 0.22304 |  0:00:38s\n"
     ]
    },
    {
     "name": "stdout",
     "output_type": "stream",
     "text": [
      "epoch 100| loss: 0.1692  | train_mse: 0.07698 | train_mae: 0.20479 |  0:00:38s\n"
     ]
    },
    {
     "name": "stdout",
     "output_type": "stream",
     "text": [
      "epoch 101| loss: 0.14693 | train_mse: 0.07894 | train_mae: 0.21055 |  0:00:39s\n"
     ]
    },
    {
     "name": "stdout",
     "output_type": "stream",
     "text": [
      "epoch 102| loss: 0.13358 | train_mse: 0.07958 | train_mae: 0.2089  |  0:00:39s\n"
     ]
    },
    {
     "name": "stdout",
     "output_type": "stream",
     "text": [
      "epoch 103| loss: 0.146   | train_mse: 0.09955 | train_mae: 0.22802 |  0:00:39s\n"
     ]
    },
    {
     "name": "stdout",
     "output_type": "stream",
     "text": [
      "epoch 104| loss: 0.14337 | train_mse: 0.08786 | train_mae: 0.21067 |  0:00:40s\n"
     ]
    },
    {
     "name": "stdout",
     "output_type": "stream",
     "text": [
      "epoch 105| loss: 0.14531 | train_mse: 0.10322 | train_mae: 0.22673 |  0:00:40s\n"
     ]
    },
    {
     "name": "stdout",
     "output_type": "stream",
     "text": [
      "epoch 106| loss: 0.15033 | train_mse: 0.09249 | train_mae: 0.21753 |  0:00:40s\n"
     ]
    },
    {
     "name": "stdout",
     "output_type": "stream",
     "text": [
      "epoch 107| loss: 0.1528  | train_mse: 0.09543 | train_mae: 0.22009 |  0:00:40s\n"
     ]
    },
    {
     "name": "stdout",
     "output_type": "stream",
     "text": [
      "epoch 108| loss: 0.14025 | train_mse: 0.07662 | train_mae: 0.20045 |  0:00:41s\n"
     ]
    },
    {
     "name": "stdout",
     "output_type": "stream",
     "text": [
      "epoch 109| loss: 0.12839 | train_mse: 0.07386 | train_mae: 0.20152 |  0:00:41s\n"
     ]
    },
    {
     "name": "stdout",
     "output_type": "stream",
     "text": [
      "epoch 110| loss: 0.12684 | train_mse: 0.08723 | train_mae: 0.20983 |  0:00:42s\n"
     ]
    },
    {
     "name": "stdout",
     "output_type": "stream",
     "text": [
      "epoch 111| loss: 0.12946 | train_mse: 0.07379 | train_mae: 0.20208 |  0:00:42s\n"
     ]
    },
    {
     "name": "stdout",
     "output_type": "stream",
     "text": [
      "epoch 112| loss: 0.15036 | train_mse: 0.07196 | train_mae: 0.19949 |  0:00:42s\n"
     ]
    },
    {
     "name": "stdout",
     "output_type": "stream",
     "text": [
      "epoch 113| loss: 0.1457  | train_mse: 0.11537 | train_mae: 0.23965 |  0:00:43s\n"
     ]
    },
    {
     "name": "stdout",
     "output_type": "stream",
     "text": [
      "epoch 114| loss: 0.15    | train_mse: 0.08057 | train_mae: 0.21278 |  0:00:43s\n"
     ]
    },
    {
     "name": "stdout",
     "output_type": "stream",
     "text": [
      "epoch 115| loss: 0.18336 | train_mse: 0.08826 | train_mae: 0.22338 |  0:00:44s\n"
     ]
    },
    {
     "name": "stdout",
     "output_type": "stream",
     "text": [
      "epoch 116| loss: 0.16959 | train_mse: 0.1067  | train_mae: 0.23598 |  0:00:44s\n"
     ]
    },
    {
     "name": "stdout",
     "output_type": "stream",
     "text": [
      "epoch 117| loss: 0.13008 | train_mse: 0.09039 | train_mae: 0.2112  |  0:00:44s\n"
     ]
    },
    {
     "name": "stdout",
     "output_type": "stream",
     "text": [
      "epoch 118| loss: 0.14102 | train_mse: 0.08576 | train_mae: 0.21721 |  0:00:45s\n"
     ]
    },
    {
     "name": "stdout",
     "output_type": "stream",
     "text": [
      "epoch 119| loss: 0.14619 | train_mse: 0.07825 | train_mae: 0.21139 |  0:00:45s\n"
     ]
    },
    {
     "name": "stdout",
     "output_type": "stream",
     "text": [
      "epoch 120| loss: 0.15422 | train_mse: 0.0828  | train_mae: 0.21428 |  0:00:45s\n"
     ]
    },
    {
     "name": "stdout",
     "output_type": "stream",
     "text": [
      "epoch 121| loss: 0.13253 | train_mse: 0.08148 | train_mae: 0.2132  |  0:00:46s\n"
     ]
    },
    {
     "name": "stdout",
     "output_type": "stream",
     "text": [
      "epoch 122| loss: 0.12479 | train_mse: 0.11369 | train_mae: 0.23604 |  0:00:46s\n"
     ]
    },
    {
     "name": "stdout",
     "output_type": "stream",
     "text": [
      "epoch 123| loss: 0.14397 | train_mse: 0.08342 | train_mae: 0.21406 |  0:00:46s\n"
     ]
    },
    {
     "name": "stdout",
     "output_type": "stream",
     "text": [
      "epoch 124| loss: 0.12442 | train_mse: 0.10517 | train_mae: 0.2273  |  0:00:47s\n"
     ]
    },
    {
     "name": "stdout",
     "output_type": "stream",
     "text": [
      "epoch 125| loss: 0.12781 | train_mse: 0.10232 | train_mae: 0.21173 |  0:00:47s\n"
     ]
    },
    {
     "name": "stdout",
     "output_type": "stream",
     "text": [
      "epoch 126| loss: 0.16905 | train_mse: 0.10056 | train_mae: 0.23172 |  0:00:47s\n"
     ]
    },
    {
     "name": "stdout",
     "output_type": "stream",
     "text": [
      "epoch 127| loss: 0.15513 | train_mse: 0.07279 | train_mae: 0.19655 |  0:00:48s\n"
     ]
    },
    {
     "name": "stdout",
     "output_type": "stream",
     "text": [
      "epoch 128| loss: 0.11507 | train_mse: 0.1096  | train_mae: 0.21984 |  0:00:48s\n"
     ]
    },
    {
     "name": "stdout",
     "output_type": "stream",
     "text": [
      "epoch 129| loss: 0.13693 | train_mse: 0.08835 | train_mae: 0.22182 |  0:00:48s\n"
     ]
    },
    {
     "name": "stdout",
     "output_type": "stream",
     "text": [
      "epoch 130| loss: 0.13838 | train_mse: 0.08286 | train_mae: 0.21526 |  0:00:49s\n"
     ]
    },
    {
     "name": "stdout",
     "output_type": "stream",
     "text": [
      "epoch 131| loss: 0.1237  | train_mse: 0.06953 | train_mae: 0.19581 |  0:00:49s\n"
     ]
    },
    {
     "name": "stdout",
     "output_type": "stream",
     "text": [
      "epoch 132| loss: 0.12763 | train_mse: 0.07101 | train_mae: 0.19591 |  0:00:50s\n"
     ]
    },
    {
     "name": "stdout",
     "output_type": "stream",
     "text": [
      "epoch 133| loss: 0.13972 | train_mse: 0.08855 | train_mae: 0.21772 |  0:00:50s\n"
     ]
    },
    {
     "name": "stdout",
     "output_type": "stream",
     "text": [
      "epoch 134| loss: 0.14721 | train_mse: 0.07302 | train_mae: 0.2018  |  0:00:51s\n"
     ]
    },
    {
     "name": "stdout",
     "output_type": "stream",
     "text": [
      "epoch 135| loss: 0.1561  | train_mse: 0.08137 | train_mae: 0.20856 |  0:00:51s\n"
     ]
    },
    {
     "name": "stdout",
     "output_type": "stream",
     "text": [
      "epoch 136| loss: 0.12013 | train_mse: 0.09759 | train_mae: 0.21345 |  0:00:51s\n"
     ]
    },
    {
     "name": "stdout",
     "output_type": "stream",
     "text": [
      "epoch 137| loss: 0.16198 | train_mse: 0.1035  | train_mae: 0.21683 |  0:00:52s\n"
     ]
    },
    {
     "name": "stdout",
     "output_type": "stream",
     "text": [
      "epoch 138| loss: 0.13749 | train_mse: 0.11887 | train_mae: 0.24033 |  0:00:52s\n"
     ]
    },
    {
     "name": "stdout",
     "output_type": "stream",
     "text": [
      "epoch 139| loss: 0.13112 | train_mse: 0.10083 | train_mae: 0.22842 |  0:00:52s\n"
     ]
    },
    {
     "name": "stdout",
     "output_type": "stream",
     "text": [
      "epoch 140| loss: 0.11045 | train_mse: 0.07653 | train_mae: 0.20798 |  0:00:53s\n"
     ]
    },
    {
     "name": "stdout",
     "output_type": "stream",
     "text": [
      "epoch 141| loss: 0.12624 | train_mse: 0.13152 | train_mae: 0.25622 |  0:00:53s\n"
     ]
    },
    {
     "name": "stdout",
     "output_type": "stream",
     "text": [
      "epoch 142| loss: 0.14285 | train_mse: 0.09844 | train_mae: 0.21725 |  0:00:53s\n"
     ]
    },
    {
     "name": "stdout",
     "output_type": "stream",
     "text": [
      "epoch 143| loss: 0.16828 | train_mse: 0.14491 | train_mae: 0.26056 |  0:00:54s\n"
     ]
    },
    {
     "name": "stdout",
     "output_type": "stream",
     "text": [
      "epoch 144| loss: 0.13511 | train_mse: 0.08183 | train_mae: 0.20373 |  0:00:54s\n"
     ]
    },
    {
     "name": "stdout",
     "output_type": "stream",
     "text": [
      "epoch 145| loss: 0.15186 | train_mse: 0.09552 | train_mae: 0.21764 |  0:00:54s\n"
     ]
    },
    {
     "name": "stdout",
     "output_type": "stream",
     "text": [
      "epoch 146| loss: 0.12871 | train_mse: 0.1237  | train_mae: 0.23897 |  0:00:54s\n"
     ]
    },
    {
     "name": "stdout",
     "output_type": "stream",
     "text": [
      "epoch 147| loss: 0.13904 | train_mse: 0.07423 | train_mae: 0.19618 |  0:00:55s\n"
     ]
    },
    {
     "name": "stdout",
     "output_type": "stream",
     "text": [
      "epoch 148| loss: 0.1551  | train_mse: 0.08404 | train_mae: 0.2172  |  0:00:55s\n"
     ]
    },
    {
     "name": "stdout",
     "output_type": "stream",
     "text": [
      "epoch 149| loss: 0.12061 | train_mse: 0.09586 | train_mae: 0.2169  |  0:00:55s\n"
     ]
    },
    {
     "name": "stdout",
     "output_type": "stream",
     "text": [
      "epoch 150| loss: 0.18843 | train_mse: 0.08828 | train_mae: 0.21857 |  0:00:56s\n"
     ]
    },
    {
     "name": "stdout",
     "output_type": "stream",
     "text": [
      "epoch 151| loss: 0.15323 | train_mse: 0.0766  | train_mae: 0.20944 |  0:00:56s\n"
     ]
    },
    {
     "name": "stdout",
     "output_type": "stream",
     "text": [
      "epoch 152| loss: 0.14625 | train_mse: 0.0758  | train_mae: 0.21224 |  0:00:56s\n"
     ]
    },
    {
     "name": "stdout",
     "output_type": "stream",
     "text": [
      "epoch 153| loss: 0.1357  | train_mse: 0.08598 | train_mae: 0.21518 |  0:00:57s\n"
     ]
    },
    {
     "name": "stdout",
     "output_type": "stream",
     "text": [
      "epoch 154| loss: 0.14244 | train_mse: 0.07429 | train_mae: 0.20082 |  0:00:57s\n"
     ]
    },
    {
     "name": "stdout",
     "output_type": "stream",
     "text": [
      "epoch 155| loss: 0.12141 | train_mse: 0.07335 | train_mae: 0.20067 |  0:00:57s\n"
     ]
    },
    {
     "name": "stdout",
     "output_type": "stream",
     "text": [
      "epoch 156| loss: 0.13257 | train_mse: 0.06985 | train_mae: 0.19962 |  0:00:58s\n"
     ]
    },
    {
     "name": "stdout",
     "output_type": "stream",
     "text": [
      "epoch 157| loss: 0.13496 | train_mse: 0.06323 | train_mae: 0.18966 |  0:00:58s\n"
     ]
    },
    {
     "name": "stdout",
     "output_type": "stream",
     "text": [
      "epoch 158| loss: 0.09702 | train_mse: 0.0998  | train_mae: 0.20946 |  0:00:58s\n"
     ]
    },
    {
     "name": "stdout",
     "output_type": "stream",
     "text": [
      "epoch 159| loss: 0.12154 | train_mse: 0.07558 | train_mae: 0.20007 |  0:00:59s\n"
     ]
    },
    {
     "name": "stdout",
     "output_type": "stream",
     "text": [
      "epoch 160| loss: 0.15131 | train_mse: 0.07974 | train_mae: 0.20319 |  0:00:59s\n"
     ]
    },
    {
     "name": "stdout",
     "output_type": "stream",
     "text": [
      "epoch 161| loss: 0.12421 | train_mse: 0.08743 | train_mae: 0.216   |  0:00:59s\n"
     ]
    },
    {
     "name": "stdout",
     "output_type": "stream",
     "text": [
      "epoch 162| loss: 0.16641 | train_mse: 0.14755 | train_mae: 0.22696 |  0:01:00s\n"
     ]
    },
    {
     "name": "stdout",
     "output_type": "stream",
     "text": [
      "epoch 163| loss: 0.13162 | train_mse: 0.06937 | train_mae: 0.19673 |  0:01:00s\n"
     ]
    },
    {
     "name": "stdout",
     "output_type": "stream",
     "text": [
      "epoch 164| loss: 0.12932 | train_mse: 0.08418 | train_mae: 0.21184 |  0:01:01s\n"
     ]
    },
    {
     "name": "stdout",
     "output_type": "stream",
     "text": [
      "epoch 165| loss: 0.13427 | train_mse: 0.07604 | train_mae: 0.20037 |  0:01:01s\n"
     ]
    },
    {
     "name": "stdout",
     "output_type": "stream",
     "text": [
      "epoch 166| loss: 0.1587  | train_mse: 0.08553 | train_mae: 0.21324 |  0:01:02s\n"
     ]
    },
    {
     "name": "stdout",
     "output_type": "stream",
     "text": [
      "epoch 167| loss: 0.10228 | train_mse: 0.07247 | train_mae: 0.18745 |  0:01:02s\n"
     ]
    },
    {
     "name": "stdout",
     "output_type": "stream",
     "text": [
      "epoch 168| loss: 0.12793 | train_mse: 0.08237 | train_mae: 0.2032  |  0:01:02s\n"
     ]
    },
    {
     "name": "stdout",
     "output_type": "stream",
     "text": [
      "epoch 169| loss: 0.10944 | train_mse: 0.06692 | train_mae: 0.18481 |  0:01:03s\n"
     ]
    },
    {
     "name": "stdout",
     "output_type": "stream",
     "text": [
      "epoch 170| loss: 0.12272 | train_mse: 0.08145 | train_mae: 0.2088  |  0:01:03s\n"
     ]
    },
    {
     "name": "stdout",
     "output_type": "stream",
     "text": [
      "epoch 171| loss: 0.12812 | train_mse: 0.06477 | train_mae: 0.18784 |  0:01:03s\n"
     ]
    },
    {
     "name": "stdout",
     "output_type": "stream",
     "text": [
      "epoch 172| loss: 0.11709 | train_mse: 0.07989 | train_mae: 0.20944 |  0:01:04s\n"
     ]
    },
    {
     "name": "stdout",
     "output_type": "stream",
     "text": [
      "epoch 173| loss: 0.10526 | train_mse: 0.08137 | train_mae: 0.21401 |  0:01:04s\n"
     ]
    },
    {
     "name": "stdout",
     "output_type": "stream",
     "text": [
      "epoch 174| loss: 0.10333 | train_mse: 0.07544 | train_mae: 0.20339 |  0:01:04s\n"
     ]
    },
    {
     "name": "stdout",
     "output_type": "stream",
     "text": [
      "epoch 175| loss: 0.11468 | train_mse: 0.07769 | train_mae: 0.20515 |  0:01:05s\n"
     ]
    },
    {
     "name": "stdout",
     "output_type": "stream",
     "text": [
      "epoch 176| loss: 0.15229 | train_mse: 0.05808 | train_mae: 0.17865 |  0:01:05s\n"
     ]
    },
    {
     "name": "stdout",
     "output_type": "stream",
     "text": [
      "epoch 177| loss: 0.14401 | train_mse: 0.05881 | train_mae: 0.18002 |  0:01:05s\n"
     ]
    },
    {
     "name": "stdout",
     "output_type": "stream",
     "text": [
      "epoch 178| loss: 0.18241 | train_mse: 0.07048 | train_mae: 0.19889 |  0:01:05s\n"
     ]
    },
    {
     "name": "stdout",
     "output_type": "stream",
     "text": [
      "epoch 179| loss: 0.12264 | train_mse: 0.1071  | train_mae: 0.22078 |  0:01:06s\n"
     ]
    },
    {
     "name": "stdout",
     "output_type": "stream",
     "text": [
      "epoch 180| loss: 0.10618 | train_mse: 0.10115 | train_mae: 0.21399 |  0:01:06s\n"
     ]
    },
    {
     "name": "stdout",
     "output_type": "stream",
     "text": [
      "epoch 181| loss: 0.12153 | train_mse: 0.12713 | train_mae: 0.21586 |  0:01:06s\n"
     ]
    },
    {
     "name": "stdout",
     "output_type": "stream",
     "text": [
      "epoch 182| loss: 0.12711 | train_mse: 0.08016 | train_mae: 0.19253 |  0:01:07s\n"
     ]
    },
    {
     "name": "stdout",
     "output_type": "stream",
     "text": [
      "epoch 183| loss: 0.09297 | train_mse: 0.07957 | train_mae: 0.19634 |  0:01:07s\n"
     ]
    },
    {
     "name": "stdout",
     "output_type": "stream",
     "text": [
      "epoch 184| loss: 0.13868 | train_mse: 0.08719 | train_mae: 0.21098 |  0:01:07s\n"
     ]
    },
    {
     "name": "stdout",
     "output_type": "stream",
     "text": [
      "epoch 185| loss: 0.11896 | train_mse: 0.10088 | train_mae: 0.20483 |  0:01:08s\n"
     ]
    },
    {
     "name": "stdout",
     "output_type": "stream",
     "text": [
      "epoch 186| loss: 0.10039 | train_mse: 0.09736 | train_mae: 0.20213 |  0:01:08s\n"
     ]
    },
    {
     "name": "stdout",
     "output_type": "stream",
     "text": [
      "epoch 187| loss: 0.13404 | train_mse: 0.08366 | train_mae: 0.19413 |  0:01:08s\n"
     ]
    },
    {
     "name": "stdout",
     "output_type": "stream",
     "text": [
      "epoch 188| loss: 0.14636 | train_mse: 0.09506 | train_mae: 0.20532 |  0:01:09s\n"
     ]
    },
    {
     "name": "stdout",
     "output_type": "stream",
     "text": [
      "epoch 189| loss: 0.1386  | train_mse: 0.12491 | train_mae: 0.21768 |  0:01:09s\n"
     ]
    },
    {
     "name": "stdout",
     "output_type": "stream",
     "text": [
      "epoch 190| loss: 0.13624 | train_mse: 0.06927 | train_mae: 0.18806 |  0:01:09s\n"
     ]
    },
    {
     "name": "stdout",
     "output_type": "stream",
     "text": [
      "epoch 191| loss: 0.11351 | train_mse: 0.09127 | train_mae: 0.20283 |  0:01:10s\n"
     ]
    },
    {
     "name": "stdout",
     "output_type": "stream",
     "text": [
      "epoch 192| loss: 0.14608 | train_mse: 0.07541 | train_mae: 0.19585 |  0:01:10s\n"
     ]
    },
    {
     "name": "stdout",
     "output_type": "stream",
     "text": [
      "epoch 193| loss: 0.13781 | train_mse: 0.0746  | train_mae: 0.19826 |  0:01:10s\n"
     ]
    },
    {
     "name": "stdout",
     "output_type": "stream",
     "text": [
      "epoch 194| loss: 0.15691 | train_mse: 0.10295 | train_mae: 0.20119 |  0:01:11s\n"
     ]
    },
    {
     "name": "stdout",
     "output_type": "stream",
     "text": [
      "epoch 195| loss: 0.1035  | train_mse: 0.09904 | train_mae: 0.21076 |  0:01:11s\n"
     ]
    },
    {
     "name": "stdout",
     "output_type": "stream",
     "text": [
      "epoch 196| loss: 0.09697 | train_mse: 0.08148 | train_mae: 0.20284 |  0:01:11s\n"
     ]
    },
    {
     "name": "stdout",
     "output_type": "stream",
     "text": [
      "epoch 197| loss: 0.09898 | train_mse: 0.10866 | train_mae: 0.2111  |  0:01:12s\n"
     ]
    },
    {
     "name": "stdout",
     "output_type": "stream",
     "text": [
      "epoch 198| loss: 0.12175 | train_mse: 0.08664 | train_mae: 0.2026  |  0:01:12s\n"
     ]
    },
    {
     "name": "stdout",
     "output_type": "stream",
     "text": [
      "epoch 199| loss: 0.10209 | train_mse: 0.08067 | train_mae: 0.2021  |  0:01:12s\n"
     ]
    },
    {
     "name": "stdout",
     "output_type": "stream",
     "text": [
      "epoch 200| loss: 0.16059 | train_mse: 0.13211 | train_mae: 0.2412  |  0:01:13s\n"
     ]
    },
    {
     "name": "stdout",
     "output_type": "stream",
     "text": [
      "epoch 201| loss: 0.115   | train_mse: 0.08571 | train_mae: 0.2002  |  0:01:13s\n"
     ]
    },
    {
     "name": "stdout",
     "output_type": "stream",
     "text": [
      "epoch 202| loss: 0.1009  | train_mse: 0.07234 | train_mae: 0.19497 |  0:01:13s\n"
     ]
    },
    {
     "name": "stdout",
     "output_type": "stream",
     "text": [
      "epoch 203| loss: 0.10779 | train_mse: 0.06902 | train_mae: 0.18312 |  0:01:14s\n"
     ]
    },
    {
     "name": "stdout",
     "output_type": "stream",
     "text": [
      "epoch 204| loss: 0.10857 | train_mse: 0.09043 | train_mae: 0.20065 |  0:01:14s\n"
     ]
    },
    {
     "name": "stdout",
     "output_type": "stream",
     "text": [
      "epoch 205| loss: 0.09558 | train_mse: 0.11963 | train_mae: 0.2165  |  0:01:14s\n"
     ]
    },
    {
     "name": "stdout",
     "output_type": "stream",
     "text": [
      "epoch 206| loss: 0.12551 | train_mse: 0.06907 | train_mae: 0.1851  |  0:01:15s\n"
     ]
    },
    {
     "name": "stdout",
     "output_type": "stream",
     "text": [
      "epoch 207| loss: 0.13398 | train_mse: 0.11517 | train_mae: 0.20945 |  0:01:15s\n"
     ]
    },
    {
     "name": "stdout",
     "output_type": "stream",
     "text": [
      "epoch 208| loss: 0.1218  | train_mse: 0.09566 | train_mae: 0.21067 |  0:01:15s\n"
     ]
    },
    {
     "name": "stdout",
     "output_type": "stream",
     "text": [
      "epoch 209| loss: 0.10921 | train_mse: 0.10902 | train_mae: 0.19995 |  0:01:16s\n"
     ]
    },
    {
     "name": "stdout",
     "output_type": "stream",
     "text": [
      "epoch 210| loss: 0.12932 | train_mse: 0.10274 | train_mae: 0.20422 |  0:01:16s\n"
     ]
    },
    {
     "name": "stdout",
     "output_type": "stream",
     "text": [
      "epoch 211| loss: 0.09349 | train_mse: 0.06842 | train_mae: 0.18509 |  0:01:17s\n"
     ]
    },
    {
     "name": "stdout",
     "output_type": "stream",
     "text": [
      "epoch 212| loss: 0.10547 | train_mse: 0.07681 | train_mae: 0.19033 |  0:01:18s\n"
     ]
    },
    {
     "name": "stdout",
     "output_type": "stream",
     "text": [
      "epoch 213| loss: 0.09776 | train_mse: 0.10822 | train_mae: 0.19963 |  0:01:18s\n"
     ]
    },
    {
     "name": "stdout",
     "output_type": "stream",
     "text": [
      "epoch 214| loss: 0.10866 | train_mse: 0.09474 | train_mae: 0.19557 |  0:01:18s\n"
     ]
    },
    {
     "name": "stdout",
     "output_type": "stream",
     "text": [
      "epoch 215| loss: 0.10169 | train_mse: 0.07897 | train_mae: 0.19175 |  0:01:19s\n"
     ]
    },
    {
     "name": "stdout",
     "output_type": "stream",
     "text": [
      "epoch 216| loss: 0.09491 | train_mse: 0.10727 | train_mae: 0.21332 |  0:01:19s\n"
     ]
    },
    {
     "name": "stdout",
     "output_type": "stream",
     "text": [
      "epoch 217| loss: 0.12234 | train_mse: 0.07135 | train_mae: 0.18941 |  0:01:19s\n"
     ]
    },
    {
     "name": "stdout",
     "output_type": "stream",
     "text": [
      "epoch 218| loss: 0.11445 | train_mse: 0.07471 | train_mae: 0.19647 |  0:01:20s\n"
     ]
    },
    {
     "name": "stdout",
     "output_type": "stream",
     "text": [
      "epoch 219| loss: 0.13579 | train_mse: 0.08974 | train_mae: 0.19459 |  0:01:20s\n"
     ]
    },
    {
     "name": "stdout",
     "output_type": "stream",
     "text": [
      "epoch 220| loss: 0.10355 | train_mse: 0.10312 | train_mae: 0.19613 |  0:01:20s\n"
     ]
    },
    {
     "name": "stdout",
     "output_type": "stream",
     "text": [
      "epoch 221| loss: 0.13856 | train_mse: 0.07028 | train_mae: 0.19356 |  0:01:21s\n"
     ]
    },
    {
     "name": "stdout",
     "output_type": "stream",
     "text": [
      "epoch 222| loss: 0.11213 | train_mse: 0.08475 | train_mae: 0.20752 |  0:01:21s\n"
     ]
    },
    {
     "name": "stdout",
     "output_type": "stream",
     "text": [
      "epoch 223| loss: 0.12691 | train_mse: 0.12416 | train_mae: 0.2361  |  0:01:21s\n"
     ]
    },
    {
     "name": "stdout",
     "output_type": "stream",
     "text": [
      "epoch 224| loss: 0.10439 | train_mse: 0.08073 | train_mae: 0.18924 |  0:01:22s\n"
     ]
    },
    {
     "name": "stdout",
     "output_type": "stream",
     "text": [
      "epoch 225| loss: 0.105   | train_mse: 0.09265 | train_mae: 0.20096 |  0:01:22s\n"
     ]
    },
    {
     "name": "stdout",
     "output_type": "stream",
     "text": [
      "epoch 226| loss: 0.08695 | train_mse: 0.07824 | train_mae: 0.19652 |  0:01:22s\n",
      "\n",
      "Early stopping occurred at epoch 226 with best_epoch = 176 and best_train_mae = 0.17865\n",
      "Best weights from best epoch are automatically used!\n",
      "BEST VALID SCORE FOR dataset : 0.1786509028523866\n",
      "FINAL TEST SCORE FOR dataset: 0.2127351163011871\n",
      "{'loss': [2.9046044963421207, 1.1331162169428155, 0.728082286839438, 0.5471521804828455, 0.444954780658873, 0.44787873431007463, 0.458091806952316, 0.3710599113809, 0.38069117703650257, 0.4244377430122678, 0.45431037055383816, 0.3533971687354664, 0.38555997049454416, 0.32148280061117496, 0.3168376195106177, 0.29572662858679744, 0.32083266368596863, 0.311485887459009, 0.3068321388546783, 0.22846142903412922, 0.2963481890683127, 0.26153256161378163, 0.26876352550369675, 0.2785177819504596, 0.25949838344413456, 0.22971922218209445, 0.2500166928414071, 0.2545293714150344, 0.24373299798162856, 0.22347544045141426, 0.26134419824817395, 0.31487639690979874, 0.2612477166227775, 0.21791527058818552, 0.21431905997566658, 0.23458557657086024, 0.2196980036131226, 0.2528761085307244, 0.18703734461623844, 0.19237754294777862, 0.201837956905365, 0.26951048102709324, 0.2227134852126093, 0.20976916368645016, 0.19407277369853293, 0.17316680261404208, 0.2083176688687636, 0.21114712289654383, 0.18857882621854838, 0.1582113477853265, 0.2304978317553454, 0.20095168968828597, 0.16082223054796163, 0.1711930806684022, 0.21368359752220684, 0.2083608384179597, 0.20020805402557448, 0.18437397863605234, 0.18955415870883677, 0.15712190677623938, 0.17373371825064762, 0.21466179501892316, 0.19191253155764967, 0.20829000980547158, 0.17410459598102193, 0.14458998794307804, 0.1665534602828545, 0.1854125470808237, 0.15832814773415574, 0.15375353174634498, 0.2177643637255867, 0.1860393695902116, 0.22107736013903476, 0.17982561665006203, 0.19843049435922416, 0.20178660174997726, 0.14601051925432565, 0.16897456266797414, 0.18824525811884663, 0.1376103945445306, 0.16507129039209667, 0.16190825019142416, 0.16892622544033692, 0.1593749765122291, 0.12990648417484643, 0.14274615137883936, 0.1328773613613431, 0.1272745663576787, 0.19789978537229028, 0.174743722718541, 0.16511189967098802, 0.13569663715834665, 0.2009095301722536, 0.22581592076780774, 0.19958612691647937, 0.16459828659449477, 0.12800542811060897, 0.16820073769529267, 0.14305054993912728, 0.12446285843259038, 0.16919758399524312, 0.1469314268393682, 0.13358466105886024, 0.14600285415602202, 0.14336864546974104, 0.1453132613165544, 0.15032528886700622, 0.15279924972812728, 0.1402528967597697, 0.12838953792458713, 0.12684285581702054, 0.12946358817343664, 0.15035942905020006, 0.14570409170176724, 0.1499966121103504, 0.18335808533253056, 0.16958875865629403, 0.13008172618280542, 0.14102097158089721, 0.14618848323231876, 0.15422308290063744, 0.13253286820236998, 0.12479336294207242, 0.14397489168856403, 0.12441728241962961, 0.12780658694187014, 0.16905474928346012, 0.15512704672199665, 0.11507000855290063, 0.13693362828528527, 0.1383781911122917, 0.12369783067762262, 0.12763147727392687, 0.13971856679066574, 0.1472141984665748, 0.15609628640779175, 0.12012958312683766, 0.1619788608928718, 0.1374886583278675, 0.13112171186078894, 0.11044906492870633, 0.1262402867916787, 0.14284661397485449, 0.1682819095578524, 0.1351130752280207, 0.15185827651236317, 0.1287144407777503, 0.1390364928410785, 0.15510114444659487, 0.12060704251917281, 0.1884265165444058, 0.15322882069809604, 0.14625066002406698, 0.13569845923102727, 0.1424411555180455, 0.12140760548634104, 0.13257380556499604, 0.1349647265702191, 0.09701712237726344, 0.12154057002303624, 0.15130968480417045, 0.12420985139537566, 0.166408106242076, 0.1316180975720434, 0.12932218788283886, 0.13426753849086195, 0.1586974360565148, 0.10227645048410586, 0.12793149673702695, 0.10944361704410893, 0.12272107416745459, 0.12812011386498368, 0.11708510069563838, 0.10526478010238988, 0.10332832979683829, 0.114678953543748, 0.15229267774537059, 0.1440050307624411, 0.1824103859391543, 0.12263738430372559, 0.10618237693711083, 0.12152911840689064, 0.1271075461760606, 0.09297287560040408, 0.13868052955016053, 0.11895949290235444, 0.10038657567583688, 0.13404332293142188, 0.14636169698568854, 0.1385990169157486, 0.1362413159101316, 0.11350861597474259, 0.14608019258421245, 0.13781056678531192, 0.15691346343200985, 0.10350122074089428, 0.0969732024587027, 0.09898008162727451, 0.12175046682062715, 0.10209002603988836, 0.16058570176067918, 0.11500322951538729, 0.100896487879281, 0.10778876991555242, 0.10857333257646844, 0.09558183699846268, 0.1255081908242537, 0.1339849894589717, 0.12179958407241519, 0.10921412326469279, 0.1293176843388246, 0.09349245637065114, 0.10546531981908448, 0.09776163359384725, 0.108657969106542, 0.10169380726200519, 0.09491260275982394, 0.12233645136993711, 0.11445287659321682, 0.13579213191377054, 0.10354969060361975, 0.13856209637504996, 0.11213160741447221, 0.12690991605862534, 0.10439107692477727, 0.1050011254478209, 0.08694658959561055], 'lr': [0.01, 0.01, 0.01, 0.01, 0.01, 0.01, 0.01, 0.01, 0.01, 0.01, 0.01, 0.01, 0.01, 0.01, 0.01, 0.01, 0.01, 0.01, 0.01, 0.01, 0.01, 0.01, 0.01, 0.01, 0.01, 0.01, 0.01, 0.01, 0.01, 0.01, 0.01, 0.01, 0.01, 0.01, 0.01, 0.01, 0.01, 0.01, 0.01, 0.01, 0.01, 0.01, 0.01, 0.01, 0.01, 0.01, 0.01, 0.01, 0.01, 0.01, 0.01, 0.01, 0.01, 0.01, 0.01, 0.01, 0.01, 0.01, 0.01, 0.01, 0.01, 0.01, 0.01, 0.01, 0.01, 0.01, 0.01, 0.01, 0.01, 0.01, 0.01, 0.01, 0.01, 0.01, 0.01, 0.01, 0.01, 0.01, 0.01, 0.01, 0.01, 0.01, 0.01, 0.01, 0.01, 0.01, 0.01, 0.01, 0.01, 0.01, 0.01, 0.01, 0.01, 0.01, 0.01, 0.01, 0.01, 0.01, 0.01, 0.01, 0.01, 0.01, 0.01, 0.01, 0.01, 0.01, 0.01, 0.01, 0.01, 0.01, 0.01, 0.01, 0.01, 0.01, 0.01, 0.01, 0.01, 0.01, 0.01, 0.01, 0.01, 0.01, 0.01, 0.01, 0.01, 0.01, 0.01, 0.01, 0.01, 0.01, 0.01, 0.01, 0.01, 0.01, 0.01, 0.01, 0.01, 0.01, 0.01, 0.01, 0.01, 0.01, 0.01, 0.01, 0.01, 0.01, 0.01, 0.01, 0.01, 0.01, 0.01, 0.01, 0.01, 0.01, 0.01, 0.01, 0.01, 0.01, 0.01, 0.01, 0.01, 0.01, 0.01, 0.01, 0.01, 0.01, 0.01, 0.01, 0.01, 0.01, 0.01, 0.01, 0.01, 0.01, 0.01, 0.01, 0.01, 0.01, 0.01, 0.01, 0.01, 0.01, 0.01, 0.01, 0.01, 0.01, 0.01, 0.01, 0.01, 0.01, 0.01, 0.01, 0.01, 0.01, 0.01, 0.01, 0.01, 0.01, 0.01, 0.01, 0.01, 0.01, 0.01, 0.01, 0.01, 0.01, 0.01, 0.01, 0.01, 0.01, 0.01, 0.01, 0.01, 0.01, 0.01, 0.01, 0.01, 0.01, 0.01, 0.01, 0.01, 0.01, 0.01, 0.01, 0.01, 0.01, 0.01], 'train_mse': [0.928138389384117, 0.8791360939608017, 0.6533259700761321, 0.4578614274949141, 0.46099393622940543, 0.4086913101658544, 0.36497417743095956, 0.4043842465215793, 0.3489289066803264, 0.36958893771252355, 0.29639750264740095, 0.30508659488377654, 0.31064625162113046, 0.2875208362658826, 0.26380491554481256, 0.26824466982508244, 0.24518201737340214, 0.2549096210713, 0.24741154803734353, 0.21322458968880417, 0.20377046574357668, 0.18706860897495728, 0.1941816082894075, 0.17665564393411437, 0.1684913054306553, 0.1665131400824257, 0.17234083091907187, 0.15475387127193338, 0.16364980818845004, 0.14823388272537866, 0.16108017001132294, 0.18267257769065728, 0.17175986647690944, 0.16256328413569207, 0.1437290474304788, 0.1527247886079929, 0.1419559126799692, 0.14863194533600593, 0.13218302937258042, 0.1294389951281919, 0.13931630009707832, 0.16841866936185276, 0.1310357716716581, 0.12346202549517979, 0.131369082201278, 0.12534844625149325, 0.11420031796358043, 0.11604548971624896, 0.11807537116418403, 0.11142583702959233, 0.12264038430205265, 0.11676758642577846, 0.11630531142408294, 0.12064787112865427, 0.10774256169039542, 0.11576820947044114, 0.1116891694640723, 0.13568994115715166, 0.13244249559706767, 0.129501611977903, 0.10956824173502024, 0.11377929752361593, 0.11519056338016423, 0.10936425638463869, 0.13043809323757066, 0.11143249483094401, 0.11921395610251165, 0.11179979741040628, 0.12023508196127, 0.16333567278765534, 0.19279077084186563, 0.14428260932194129, 0.11746340914962738, 0.11268435414727024, 0.11664038855110528, 0.10165668716115153, 0.09739954155731091, 0.10257134991666257, 0.10528030666275395, 0.08636462800338758, 0.09570062560678406, 0.09226581747042405, 0.09163043356048291, 0.07917147186194887, 0.08282193005493982, 0.0759145135534483, 0.0804193997688823, 0.09014101404853202, 0.09613462751537766, 0.09048357378070654, 0.1110023137248988, 0.10255922348708518, 0.11799182540337484, 0.13748286358706657, 0.12155165281260052, 0.09686273001202883, 0.09051656146069326, 0.08820138516157976, 0.08758259552411599, 0.09710651266428398, 0.07697786159422058, 0.0789417603354001, 0.07958377740207719, 0.09955203767276143, 0.08785643485787131, 0.10322004495093608, 0.09248996198052134, 0.095433869025851, 0.0766231225996781, 0.0738586491940991, 0.08723267479480945, 0.07379346386982404, 0.0719612379769481, 0.11537123164954816, 0.0805669560674494, 0.08825868326052438, 0.10670007773316577, 0.09038667893797245, 0.08575669185678923, 0.0782521806565592, 0.08279531501637329, 0.08147608684111736, 0.1136869078268499, 0.08342098342644205, 0.10517446215125174, 0.10232317163578362, 0.10056271984380993, 0.07279107957264702, 0.10960324756297, 0.08835049844677526, 0.08285588331479947, 0.06952719290323607, 0.07100736765368021, 0.08855262806606275, 0.07301767964773696, 0.08137449404238212, 0.09759280892520437, 0.10349888191597904, 0.1188656431270083, 0.10083495910119591, 0.076531943072935, 0.1315222427896777, 0.09844112294706396, 0.14490685227137592, 0.08183055437149864, 0.09551520993484519, 0.12369711190681193, 0.07423206030964433, 0.08403832081205724, 0.09585991920779205, 0.08828251418241338, 0.07660462600033306, 0.07580033454843034, 0.0859826518913031, 0.0742850011356523, 0.07334632853511189, 0.06985490903542631, 0.06322747425402869, 0.09979654684902348, 0.07557667323427392, 0.07973639673262288, 0.08742501813349263, 0.14755006261975673, 0.06937255111934133, 0.08418324003796793, 0.07603698049570344, 0.08552605652092446, 0.0724728447178233, 0.0823716648423301, 0.06691831685879461, 0.08144814203039816, 0.06477243267719976, 0.07989260190308378, 0.08136639178145882, 0.07543995971004197, 0.07769104627699945, 0.058080604704941884, 0.05880879970803274, 0.0704845615265843, 0.10710384073593845, 0.10115062704824541, 0.1271316717495677, 0.08015798178226292, 0.07957448235616267, 0.08719313917831929, 0.10087506309374421, 0.09735619510874609, 0.08365722923477156, 0.09505999251414525, 0.12490784411560005, 0.06927206621243708, 0.09126873724368517, 0.07541332563692262, 0.07459771368743137, 0.10295269539965503, 0.09903771000263742, 0.08147823083780018, 0.10865720390138153, 0.08664221507397156, 0.0806658855671693, 0.13211008589911186, 0.08570709782674868, 0.07233542280898231, 0.06901713143897836, 0.09042522435865921, 0.11962855242199444, 0.06906877505093414, 0.11517017787552959, 0.0956595306568188, 0.10902098952755107, 0.10273516557315931, 0.06841927466654645, 0.07680763986345096, 0.10821772825812882, 0.09474335277518443, 0.07896729663535369, 0.10726860969327064, 0.07135238987544326, 0.07471162561165927, 0.0897371475012388, 0.10312260291196991, 0.070281913331363, 0.08474560723963388, 0.12415648806114726, 0.08072889551658304, 0.09265441292979357, 0.07824256838775406], 'train_mae': [0.6905368138187544, 0.6447804491508577, 0.5537387474482675, 0.4889512088471713, 0.4852807336855275, 0.45353535194431455, 0.4150066558343844, 0.43592130001457247, 0.38246366863553466, 0.38716619945131475, 0.3602370898165654, 0.368272642251928, 0.38228081965901906, 0.35401931363504663, 0.33098711404806774, 0.3417983746490638, 0.3133688406709939, 0.322034475274799, 0.32164581171891055, 0.3020269355510432, 0.2995848053369043, 0.2795531603734407, 0.30333123478792184, 0.2908076409911715, 0.28262285806831666, 0.27908159309979885, 0.2876037886357292, 0.26859063692343016, 0.274638712167282, 0.26943972107880326, 0.2883657804648088, 0.31566550010021993, 0.2913400277644365, 0.2804828938206852, 0.26445994892847796, 0.2683159632655458, 0.25512874335150054, 0.26369999811954853, 0.2572505885008878, 0.2479761753515014, 0.2539604609646825, 0.28334278889789355, 0.2550539632538436, 0.2391933422203211, 0.2511700755635805, 0.24407757472126895, 0.23273503157136097, 0.23892168851963452, 0.24557244528035355, 0.2264346607558687, 0.23372741215375342, 0.2337702443223442, 0.2420903524085077, 0.24311389510084147, 0.22572048475721246, 0.24149064705246945, 0.2272927025966417, 0.25258129449812466, 0.2547239681293778, 0.2508666747964373, 0.22623332885334818, 0.2319714138388665, 0.23754486998333202, 0.23134340983307508, 0.24891826041440757, 0.23369268245403102, 0.2419013462722431, 0.24524311066964868, 0.24446954205257648, 0.2595179524823954, 0.26583932177180236, 0.24712593177948725, 0.2350632344276896, 0.23514496802558446, 0.2321121751564604, 0.21632533383506253, 0.21443915623445597, 0.2216505378762179, 0.22193664873379343, 0.20909788809688942, 0.2198424396426684, 0.2137290144697429, 0.21578012682183756, 0.20633222107972854, 0.21190734133274058, 0.1995074223859895, 0.20357227658447147, 0.21692622781192225, 0.2258696612830271, 0.21515230157063056, 0.25069623271394137, 0.2210315887239204, 0.22678283423605552, 0.24980133689529593, 0.23985683302149408, 0.223899225985677, 0.22030098779409016, 0.2096966070288638, 0.21422050439543466, 0.22304056056875593, 0.20478873316365034, 0.2105509388858211, 0.20889979564542693, 0.2280158412359659, 0.21067342237905273, 0.2267325703992449, 0.21753256535176044, 0.2200866451545103, 0.2004540948929735, 0.20151637698139552, 0.2098308773794223, 0.2020750869005164, 0.1994854133420505, 0.2396528527496651, 0.21278122975983055, 0.2233756453210497, 0.2359750832839844, 0.21120095004030737, 0.21721192033619113, 0.21138869234085897, 0.21428495885141688, 0.21319997140765767, 0.23604283888388702, 0.2140632536159386, 0.22730101715452794, 0.21172835217973504, 0.2317167164705291, 0.19655436484421052, 0.21984161108722294, 0.22181753010535246, 0.21525833194959304, 0.19581305536097945, 0.19590825971911108, 0.21771788515591958, 0.20180417165269882, 0.2085556892870898, 0.21345155067197166, 0.21682706858417453, 0.24032535815160205, 0.22841542100577847, 0.2079761097367962, 0.25622088776481133, 0.21725406049143514, 0.260562833730883, 0.20372637102636623, 0.21764482979472488, 0.23896922253058667, 0.1961776315591977, 0.2172025757761243, 0.21689826841391577, 0.21856503809641056, 0.20944046942557373, 0.21223706360592426, 0.2151811125676066, 0.2008196240920559, 0.20066500256550387, 0.19961704730334964, 0.1896635370978399, 0.209462581132865, 0.20007289689862398, 0.20318940481451078, 0.21600006441222402, 0.22696451800389136, 0.19673426811464148, 0.2118421725458382, 0.20036697399433043, 0.21323727955280172, 0.18744720548376723, 0.20319948082031272, 0.18481323239095573, 0.2088049252147341, 0.1878387828620162, 0.20944460327776263, 0.21401018658830118, 0.20338652188354112, 0.2051486040911083, 0.1786509028523866, 0.18001930013978232, 0.19889415762251864, 0.22078122790788182, 0.213985044886131, 0.21586457379804153, 0.19252740696218473, 0.19634466087614033, 0.21098413829908055, 0.2048293373556436, 0.20212623630193224, 0.19413288549282295, 0.2053204381318288, 0.21767654393195207, 0.18805641392967026, 0.2028311679321555, 0.1958535344018121, 0.19826432976437208, 0.20119016000277007, 0.2107550672010503, 0.20283511058433362, 0.21109801114085372, 0.2026001807692917, 0.2021024169128645, 0.24120125527276773, 0.20019527019154187, 0.1949698493724635, 0.18312408172093195, 0.2006540744024599, 0.21649739256698397, 0.1851046140479312, 0.20945060877991886, 0.2106747776208318, 0.19994888375337458, 0.20421821365441126, 0.18508632336299616, 0.19032533956939876, 0.19962571637726173, 0.19557023373229493, 0.19175378285170094, 0.21331718701570054, 0.18941475648820724, 0.1964749210654429, 0.19459163264713358, 0.19613358618852597, 0.19356068175897956, 0.20751978964123907, 0.23609902118956866, 0.18923544136345516, 0.20095612943675556, 0.19652453785103433]}\n"
     ]
    },
    {
     "data": {
      "application/scrapbook.scrap.json+json": {
       "data": 0.2127351163011871,
       "encoder": "json",
       "name": "TabNet MAE",
       "version": 1
      }
     },
     "metadata": {
      "scrapbook": {
       "data": true,
       "display": false,
       "name": "TabNet MAE"
      }
     },
     "output_type": "display_data"
    },
    {
     "name": "stdout",
     "output_type": "stream",
     "text": [
      "TabNet MAE 0.2127351163011871\n"
     ]
    },
    {
     "data": {
      "image/png": "[encoded data removed]",
      "text/plain": [
       "<Figure size 432x288 with 1 Axes>"
      ]
     },
     "metadata": {
      "needs_background": "light"
     },
     "output_type": "display_data"
    }
   ],
   "source": [
    "lr = 0.01\n",
    "\n",
    "y_train = np.reshape(y_train, (-1, 1))\n",
    "y_test = np.reshape(y_test, (-1, 1))\n",
    "\n",
    "device = torch.device('cuda' if torch.cuda.is_available() else 'cpu')\n",
    "mae_tab= baselineModels.tabnetreg(X_train,y_train,X_test,y_test,batch_size,n_features,n_target,n_epochs, lr)\n",
    "sb.glue(\"TabNet MAE\",mae_tab)\n",
    "print(\"TabNet MAE\",mae_tab)"
   ]
  }
 ],
 "metadata": {
  "kernelspec": {
   "display_name": "Python 3.7.3 64-bit",
   "language": "python",
   "name": "python3"
  },
  "language_info": {
   "codemirror_mode": {
    "name": "ipython",
    "version": 3
   },
   "file_extension": ".py",
   "mimetype": "text/x-python",
   "name": "python",
   "nbconvert_exporter": "python",
   "pygments_lexer": "ipython3",
   "version": "3.8.13"
  },
  "papermill": {
   "default_parameters": {},
   "duration": 99.232685,
   "end_time": "2022-07-21T10:35:02.094469",
   "environment_variables": {},
   "exception": null,
   "input_path": "BaselineModels.ipynb",
   "output_path": "./BaseLine_Model_Output/BaselineModels_output_8.ipynb",
   "parameters": {},
   "start_time": "2022-07-21T10:33:22.861784",
   "version": "2.3.3"
  },
  "vscode": {
   "interpreter": {
    "hash": "aee8b7b246df8f9039afb4144a1f6fd8d2ca17a180786b69acc140d282b71a49"
   }
  }
 },
 "nbformat": 4,
 "nbformat_minor": 5
}