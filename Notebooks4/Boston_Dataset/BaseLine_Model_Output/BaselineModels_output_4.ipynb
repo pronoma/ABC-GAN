{
 "cells": [
  {
   "cell_type": "markdown",
   "id": "e9b85208",
   "metadata": {
    "papermill": {
     "duration": 0.011262,
     "end_time": "2022-07-21T10:23:49.611862",
     "exception": false,
     "start_time": "2022-07-21T10:23:49.600600",
     "status": "completed"
    },
    "tags": []
   },
   "source": [
    "## Import Libraries "
   ]
  },
  {
   "cell_type": "code",
   "execution_count": 1,
   "id": "f350d5ce",
   "metadata": {
    "execution": {
     "iopub.execute_input": "2022-07-21T10:23:49.636587Z",
     "iopub.status.busy": "2022-07-21T10:23:49.635476Z",
     "iopub.status.idle": "2022-07-21T10:23:49.682233Z",
     "shell.execute_reply": "2022-07-21T10:23:49.674501Z"
    },
    "papermill": {
     "duration": 0.071075,
     "end_time": "2022-07-21T10:23:49.687619",
     "exception": false,
     "start_time": "2022-07-21T10:23:49.616544",
     "status": "completed"
    },
    "tags": []
   },
   "outputs": [],
   "source": [
    "import warnings\n",
    "import sys\n",
    "sys.path.insert(0, '../../src')\n",
    "warnings.filterwarnings('ignore')"
   ]
  },
  {
   "cell_type": "code",
   "execution_count": 2,
   "id": "fb830ad6",
   "metadata": {
    "execution": {
     "iopub.execute_input": "2022-07-21T10:23:49.698232Z",
     "iopub.status.busy": "2022-07-21T10:23:49.697779Z",
     "iopub.status.idle": "2022-07-21T10:24:04.387624Z",
     "shell.execute_reply": "2022-07-21T10:24:04.386594Z"
    },
    "papermill": {
     "duration": 14.701015,
     "end_time": "2022-07-21T10:24:04.392841",
     "exception": false,
     "start_time": "2022-07-21T10:23:49.691826",
     "status": "completed"
    },
    "tags": []
   },
   "outputs": [],
   "source": [
    "import statsModel\n",
    "import scrapbook as sb \n",
    "import torch \n",
    "import statsModel\n",
    "import baselineModels\n",
    "import bostonDataset\n",
    "import dataset \n",
    "from torch.utils.data import random_split \n",
    "from sklearn.model_selection import train_test_split\n",
    "import numpy as np\n",
    "from sklearn.metrics import mean_squared_error,mean_absolute_error "
   ]
  },
  {
   "cell_type": "markdown",
   "id": "ccefa535",
   "metadata": {
    "papermill": {
     "duration": 0.021278,
     "end_time": "2022-07-21T10:24:04.467556",
     "exception": false,
     "start_time": "2022-07-21T10:24:04.446278",
     "status": "completed"
    },
    "tags": []
   },
   "source": [
    "## Import Dataset \n"
   ]
  },
  {
   "cell_type": "code",
   "execution_count": 3,
   "id": "2cc7b8f5",
   "metadata": {
    "execution": {
     "iopub.execute_input": "2022-07-21T10:24:04.485395Z",
     "iopub.status.busy": "2022-07-21T10:24:04.482573Z",
     "iopub.status.idle": "2022-07-21T10:24:04.549869Z",
     "shell.execute_reply": "2022-07-21T10:24:04.547852Z"
    },
    "papermill": {
     "duration": 0.081028,
     "end_time": "2022-07-21T10:24:04.554153",
     "exception": false,
     "start_time": "2022-07-21T10:24:04.473125",
     "status": "completed"
    },
    "tags": []
   },
   "outputs": [
    {
     "name": "stdout",
     "output_type": "stream",
     "text": [
      "         X1        X2        X3        X4        X5        X6        X7  \\\n",
      "0 -0.419782  0.284830 -1.287909 -0.272599 -0.144217  0.413672 -0.120013   \n",
      "1 -0.417339 -0.487722 -0.593381 -0.272599 -0.740262  0.194274  0.367166   \n",
      "2 -0.417342 -0.487722 -0.593381 -0.272599 -0.740262  1.282714 -0.265812   \n",
      "3 -0.416750 -0.487722 -1.306878 -0.272599 -0.835284  1.016303 -0.809889   \n",
      "4 -0.412482 -0.487722 -1.306878 -0.272599 -0.835284  1.228577 -0.511180   \n",
      "\n",
      "         X8        X9       X10       X11       X12       X13         Y  \n",
      "0  0.140214 -0.982843 -0.666608 -1.459000  0.441052 -1.075562  0.159686  \n",
      "1  0.557160 -0.867883 -0.987329 -0.303094  0.441052 -0.492439 -0.101524  \n",
      "2  0.557160 -0.867883 -0.987329 -0.303094  0.396427 -1.208727  1.324247  \n",
      "3  1.077737 -0.752922 -1.106115  0.113032  0.416163 -1.361517  1.182758  \n",
      "4  1.077737 -0.752922 -1.106115  0.113032  0.441052 -1.026501  1.487503  \n"
     ]
    }
   ],
   "source": [
    "n_features = 13\n",
    "n_samples= 506\n",
    "n_target = 1 \n",
    "X,Y = bostonDataset.boston_data()"
   ]
  },
  {
   "cell_type": "code",
   "execution_count": 4,
   "id": "76ac1b11",
   "metadata": {
    "execution": {
     "iopub.execute_input": "2022-07-21T10:24:04.571042Z",
     "iopub.status.busy": "2022-07-21T10:24:04.570019Z",
     "iopub.status.idle": "2022-07-21T10:24:04.582687Z",
     "shell.execute_reply": "2022-07-21T10:24:04.579444Z"
    },
    "papermill": {
     "duration": 0.027308,
     "end_time": "2022-07-21T10:24:04.586270",
     "exception": false,
     "start_time": "2022-07-21T10:24:04.558962",
     "status": "completed"
    },
    "tags": []
   },
   "outputs": [],
   "source": [
    "# Train test split for dataset \n",
    "real_dataset = dataset.CustomDataset(X,Y)\n",
    "X_train, X_test, y_train, y_test = train_test_split(X, Y, test_size=0.2)"
   ]
  },
  {
   "cell_type": "markdown",
   "id": "0a6e2d49",
   "metadata": {
    "papermill": {
     "duration": 0.004678,
     "end_time": "2022-07-21T10:24:04.595143",
     "exception": false,
     "start_time": "2022-07-21T10:24:04.590465",
     "status": "completed"
    },
    "tags": []
   },
   "source": [
    "## Stats Model \n",
    "\n"
   ]
  },
  {
   "cell_type": "code",
   "execution_count": 5,
   "id": "6278c75d",
   "metadata": {
    "execution": {
     "iopub.execute_input": "2022-07-21T10:24:04.604216Z",
     "iopub.status.busy": "2022-07-21T10:24:04.603785Z",
     "iopub.status.idle": "2022-07-21T10:24:04.882134Z",
     "shell.execute_reply": "2022-07-21T10:24:04.881409Z"
    },
    "papermill": {
     "duration": 0.285737,
     "end_time": "2022-07-21T10:24:04.884827",
     "exception": false,
     "start_time": "2022-07-21T10:24:04.599090",
     "status": "completed"
    },
    "tags": []
   },
   "outputs": [
    {
     "name": "stderr",
     "output_type": "stream",
     "text": [
      "No artists with labels found to put in legend.  Note that artists whose label start with an underscore are ignored when legend() is called with no argument.\n"
     ]
    },
    {
     "name": "stdout",
     "output_type": "stream",
     "text": [
      "                                 OLS Regression Results                                \n",
      "=======================================================================================\n",
      "Dep. Variable:                      y   R-squared (uncentered):                   0.740\n",
      "Model:                            OLS   Adj. R-squared (uncentered):              0.731\n",
      "Method:                 Least Squares   F-statistic:                              85.38\n",
      "Date:                Thu, 21 Jul 2022   Prob (F-statistic):                   1.80e-105\n",
      "Time:                        15:54:04   Log-Likelihood:                         -312.33\n",
      "No. Observations:                 404   AIC:                                      650.7\n",
      "Df Residuals:                     391   BIC:                                      702.7\n",
      "Df Model:                          13                                                  \n",
      "Covariance Type:            nonrobust                                                  \n",
      "==============================================================================\n",
      "                 coef    std err          t      P>|t|      [0.025      0.975]\n",
      "------------------------------------------------------------------------------\n",
      "x1            -0.1408      0.046     -3.067      0.002      -0.231      -0.051\n",
      "x2             0.1457      0.041      3.536      0.000       0.065       0.227\n",
      "x3             0.0030      0.054      0.055      0.956      -0.103       0.109\n",
      "x4             0.0684      0.028      2.444      0.015       0.013       0.123\n",
      "x5            -0.2418      0.057     -4.266      0.000      -0.353      -0.130\n",
      "x6             0.2597      0.035      7.340      0.000       0.190       0.329\n",
      "x7             0.0318      0.048      0.665      0.506      -0.062       0.126\n",
      "x8            -0.3898      0.054     -7.257      0.000      -0.495      -0.284\n",
      "x9             0.3237      0.076      4.286      0.000       0.175       0.472\n",
      "x10           -0.2091      0.083     -2.532      0.012      -0.371      -0.047\n",
      "x11           -0.2473      0.036     -6.843      0.000      -0.318      -0.176\n",
      "x12            0.0930      0.030      3.095      0.002       0.034       0.152\n",
      "x13           -0.4526      0.046     -9.894      0.000      -0.543      -0.363\n",
      "==============================================================================\n",
      "Omnibus:                      121.221   Durbin-Watson:                   2.107\n",
      "Prob(Omnibus):                  0.000   Jarque-Bera (JB):              420.475\n",
      "Skew:                           1.329   Prob(JB):                     4.96e-92\n",
      "Kurtosis:                       7.233   Cond. No.                         10.2\n",
      "==============================================================================\n",
      "\n",
      "Notes:\n",
      "[1] R² is computed without centering (uncentered) since the model does not contain a constant.\n",
      "[2] Standard Errors assume that the covariance matrix of the errors is correctly specified.\n"
     ]
    },
    {
     "data": {
      "image/png": "[encoded data removed]",
      "text/plain": [
       "<Figure size 432x288 with 1 Axes>"
      ]
     },
     "metadata": {
      "needs_background": "light"
     },
     "output_type": "display_data"
    },
    {
     "name": "stdout",
     "output_type": "stream",
     "text": [
      "Performance Metrics\n",
      "Mean Squared Error: 0.21510452175306885\n",
      "Mean Absolute Error: 0.33584522374333214\n",
      "Manhattan distance: 34.25621282181988\n",
      "Euclidean distance: 4.684085953397208\n"
     ]
    },
    {
     "data": {
      "application/scrapbook.scrap.json+json": {
       "data": 0.21510452175306885,
       "encoder": "json",
       "name": "Stats Model MSE",
       "version": 1
      }
     },
     "metadata": {
      "scrapbook": {
       "data": true,
       "display": false,
       "name": "Stats Model MSE"
      }
     },
     "output_type": "display_data"
    },
    {
     "data": {
      "application/scrapbook.scrap.json+json": {
       "data": 0.33584522374333214,
       "encoder": "json",
       "name": "Stats Model MAE",
       "version": 1
      }
     },
     "metadata": {
      "scrapbook": {
       "data": true,
       "display": false,
       "name": "Stats Model MAE"
      }
     },
     "output_type": "display_data"
    },
    {
     "data": {
      "application/scrapbook.scrap.json+json": {
       "data": 34.25621282181988,
       "encoder": "json",
       "name": "Stats Model Manhattan Distance",
       "version": 1
      }
     },
     "metadata": {
      "scrapbook": {
       "data": true,
       "display": false,
       "name": "Stats Model Manhattan Distance"
      }
     },
     "output_type": "display_data"
    },
    {
     "data": {
      "application/scrapbook.scrap.json+json": {
       "data": 4.684085953397208,
       "encoder": "json",
       "name": "Stats Model Euclidean distance",
       "version": 1
      }
     },
     "metadata": {
      "scrapbook": {
       "data": true,
       "display": false,
       "name": "Stats Model Euclidean distance"
      }
     },
     "output_type": "display_data"
    },
    {
     "data": {
      "application/scrapbook.scrap.json+json": {
       "data": [
        -0.14076229127943257,
        0.14567827570672326,
        0.0029632761202318045,
        0.06843184989620787,
        -0.24178772464263376,
        0.2597449273171214,
        0.03178413658047341,
        -0.38983043308345877,
        0.3237214831237912,
        -0.20911233537160315,
        -0.24729734414111168,
        0.09295755514289425,
        -0.45258521509771166
       ],
       "encoder": "json",
       "name": "Coefficients",
       "version": 1
      }
     },
     "metadata": {
      "scrapbook": {
       "data": true,
       "display": false,
       "name": "Coefficients"
      }
     },
     "output_type": "display_data"
    },
    {
     "name": "stdout",
     "output_type": "stream",
     "text": [
      "Stats Model MAE 0.33584522374333214\n"
     ]
    }
   ],
   "source": [
    "coefficients , y_pred =statsModel.statsModel(X_train,y_train,X_test,y_test)\n",
    "#Store MSE Value \n",
    "sb.glue(\"Coefficients\",coefficients)\n",
    "mae = mean_absolute_error(y_pred, y_test)\n",
    "print(\"Stats Model MAE\", mae)"
   ]
  },
  {
   "cell_type": "markdown",
   "id": "2d06622a",
   "metadata": {
    "papermill": {
     "duration": 0.005018,
     "end_time": "2022-07-21T10:24:04.895240",
     "exception": false,
     "start_time": "2022-07-21T10:24:04.890222",
     "status": "completed"
    },
    "tags": []
   },
   "source": [
    "# Catboost Model "
   ]
  },
  {
   "cell_type": "code",
   "execution_count": 6,
   "id": "b0a5b317",
   "metadata": {
    "execution": {
     "iopub.execute_input": "2022-07-21T10:24:04.909071Z",
     "iopub.status.busy": "2022-07-21T10:24:04.908651Z",
     "iopub.status.idle": "2022-07-21T10:24:09.696673Z",
     "shell.execute_reply": "2022-07-21T10:24:09.695936Z"
    },
    "papermill": {
     "duration": 4.799593,
     "end_time": "2022-07-21T10:24:09.700552",
     "exception": false,
     "start_time": "2022-07-21T10:24:04.900959",
     "status": "completed"
    },
    "tags": []
   },
   "outputs": [
    {
     "name": "stdout",
     "output_type": "stream",
     "text": [
      "Learning rate set to 0.03548\n",
      "0:\tlearn: 1.0068925\ttotal: 62.8ms\tremaining: 1m 2s\n",
      "1:\tlearn: 0.9873128\ttotal: 65.8ms\tremaining: 32.9s\n",
      "2:\tlearn: 0.9654968\ttotal: 68.2ms\tremaining: 22.7s\n",
      "3:\tlearn: 0.9478178\ttotal: 69.9ms\tremaining: 17.4s\n",
      "4:\tlearn: 0.9293565\ttotal: 71.4ms\tremaining: 14.2s\n",
      "5:\tlearn: 0.9149650\ttotal: 72.8ms\tremaining: 12.1s\n",
      "6:\tlearn: 0.8974280\ttotal: 76.5ms\tremaining: 10.9s\n",
      "7:\tlearn: 0.8805648\ttotal: 79.1ms\tremaining: 9.8s\n",
      "8:\tlearn: 0.8637181\ttotal: 81.6ms\tremaining: 8.98s\n",
      "9:\tlearn: 0.8462958\ttotal: 85.2ms\tremaining: 8.43s\n",
      "10:\tlearn: 0.8312984\ttotal: 89.1ms\tremaining: 8.01s\n",
      "11:\tlearn: 0.8170172\ttotal: 93.5ms\tremaining: 7.7s\n"
     ]
    },
    {
     "name": "stdout",
     "output_type": "stream",
     "text": [
      "12:\tlearn: 0.8011434\ttotal: 96.3ms\tremaining: 7.31s\n",
      "13:\tlearn: 0.7856039\ttotal: 99ms\tremaining: 6.97s\n",
      "14:\tlearn: 0.7725689\ttotal: 101ms\tremaining: 6.61s\n",
      "15:\tlearn: 0.7574396\ttotal: 102ms\tremaining: 6.29s\n",
      "16:\tlearn: 0.7435780\ttotal: 104ms\tremaining: 6s\n",
      "17:\tlearn: 0.7301455\ttotal: 105ms\tremaining: 5.75s\n",
      "18:\tlearn: 0.7175366\ttotal: 107ms\tremaining: 5.53s\n",
      "19:\tlearn: 0.7026053\ttotal: 109ms\tremaining: 5.33s\n",
      "20:\tlearn: 0.6882835\ttotal: 110ms\tremaining: 5.14s\n",
      "21:\tlearn: 0.6780860\ttotal: 112ms\tremaining: 4.98s\n",
      "22:\tlearn: 0.6668939\ttotal: 115ms\tremaining: 4.87s\n"
     ]
    },
    {
     "name": "stdout",
     "output_type": "stream",
     "text": [
      "23:\tlearn: 0.6571212\ttotal: 117ms\tremaining: 4.77s\n",
      "24:\tlearn: 0.6474505\ttotal: 120ms\tremaining: 4.68s\n",
      "25:\tlearn: 0.6378421\ttotal: 122ms\tremaining: 4.57s\n",
      "26:\tlearn: 0.6286974\ttotal: 124ms\tremaining: 4.45s\n",
      "27:\tlearn: 0.6201701\ttotal: 125ms\tremaining: 4.34s\n",
      "28:\tlearn: 0.6114713\ttotal: 126ms\tremaining: 4.23s\n",
      "29:\tlearn: 0.6017544\ttotal: 128ms\tremaining: 4.13s\n",
      "30:\tlearn: 0.5906903\ttotal: 129ms\tremaining: 4.04s\n",
      "31:\tlearn: 0.5818424\ttotal: 131ms\tremaining: 3.96s\n",
      "32:\tlearn: 0.5747808\ttotal: 132ms\tremaining: 3.88s\n",
      "33:\tlearn: 0.5676916\ttotal: 134ms\tremaining: 3.8s\n",
      "34:\tlearn: 0.5599114\ttotal: 135ms\tremaining: 3.73s\n",
      "35:\tlearn: 0.5527723\ttotal: 137ms\tremaining: 3.66s\n",
      "36:\tlearn: 0.5458196\ttotal: 138ms\tremaining: 3.6s\n",
      "37:\tlearn: 0.5378508\ttotal: 140ms\tremaining: 3.53s\n",
      "38:\tlearn: 0.5304659\ttotal: 141ms\tremaining: 3.47s\n",
      "39:\tlearn: 0.5228983\ttotal: 142ms\tremaining: 3.41s\n",
      "40:\tlearn: 0.5166179\ttotal: 144ms\tremaining: 3.36s\n",
      "41:\tlearn: 0.5089703\ttotal: 145ms\tremaining: 3.3s\n",
      "42:\tlearn: 0.5047185\ttotal: 145ms\tremaining: 3.24s\n",
      "43:\tlearn: 0.4975679\ttotal: 147ms\tremaining: 3.2s\n",
      "44:\tlearn: 0.4927008\ttotal: 149ms\tremaining: 3.15s\n",
      "45:\tlearn: 0.4882314\ttotal: 150ms\tremaining: 3.11s\n",
      "46:\tlearn: 0.4833914\ttotal: 151ms\tremaining: 3.07s\n"
     ]
    },
    {
     "name": "stdout",
     "output_type": "stream",
     "text": [
      "47:\tlearn: 0.4775822\ttotal: 153ms\tremaining: 3.04s\n",
      "48:\tlearn: 0.4724249\ttotal: 155ms\tremaining: 3.01s\n",
      "49:\tlearn: 0.4650391\ttotal: 157ms\tremaining: 2.98s\n",
      "50:\tlearn: 0.4601972\ttotal: 158ms\tremaining: 2.94s\n",
      "51:\tlearn: 0.4548024\ttotal: 160ms\tremaining: 2.91s\n",
      "52:\tlearn: 0.4504572\ttotal: 161ms\tremaining: 2.88s\n",
      "53:\tlearn: 0.4460669\ttotal: 162ms\tremaining: 2.84s\n",
      "54:\tlearn: 0.4407300\ttotal: 163ms\tremaining: 2.81s\n",
      "55:\tlearn: 0.4358113\ttotal: 165ms\tremaining: 2.78s\n",
      "56:\tlearn: 0.4308704\ttotal: 166ms\tremaining: 2.75s\n",
      "57:\tlearn: 0.4266283\ttotal: 167ms\tremaining: 2.72s\n",
      "58:\tlearn: 0.4233227\ttotal: 169ms\tremaining: 2.69s\n",
      "59:\tlearn: 0.4188065\ttotal: 170ms\tremaining: 2.67s\n",
      "60:\tlearn: 0.4146001\ttotal: 172ms\tremaining: 2.64s\n",
      "61:\tlearn: 0.4112948\ttotal: 173ms\tremaining: 2.62s\n",
      "62:\tlearn: 0.4073992\ttotal: 174ms\tremaining: 2.59s\n",
      "63:\tlearn: 0.4041431\ttotal: 176ms\tremaining: 2.57s\n",
      "64:\tlearn: 0.3997957\ttotal: 177ms\tremaining: 2.55s\n",
      "65:\tlearn: 0.3960112\ttotal: 178ms\tremaining: 2.52s\n",
      "66:\tlearn: 0.3925379\ttotal: 180ms\tremaining: 2.5s\n",
      "67:\tlearn: 0.3890669\ttotal: 181ms\tremaining: 2.48s\n",
      "68:\tlearn: 0.3855135\ttotal: 182ms\tremaining: 2.46s\n",
      "69:\tlearn: 0.3821592\ttotal: 183ms\tremaining: 2.44s\n",
      "70:\tlearn: 0.3787084\ttotal: 184ms\tremaining: 2.41s\n",
      "71:\tlearn: 0.3752945\ttotal: 186ms\tremaining: 2.39s\n",
      "72:\tlearn: 0.3726264\ttotal: 187ms\tremaining: 2.37s\n",
      "73:\tlearn: 0.3699667\ttotal: 188ms\tremaining: 2.35s\n",
      "74:\tlearn: 0.3672890\ttotal: 190ms\tremaining: 2.34s\n",
      "75:\tlearn: 0.3647476\ttotal: 191ms\tremaining: 2.32s\n",
      "76:\tlearn: 0.3620609\ttotal: 192ms\tremaining: 2.3s\n",
      "77:\tlearn: 0.3597468\ttotal: 193ms\tremaining: 2.29s\n",
      "78:\tlearn: 0.3573926\ttotal: 195ms\tremaining: 2.27s\n",
      "79:\tlearn: 0.3533690\ttotal: 196ms\tremaining: 2.25s\n",
      "80:\tlearn: 0.3508516\ttotal: 197ms\tremaining: 2.24s\n",
      "81:\tlearn: 0.3485615\ttotal: 199ms\tremaining: 2.22s\n",
      "82:\tlearn: 0.3468838\ttotal: 200ms\tremaining: 2.21s\n",
      "83:\tlearn: 0.3447614\ttotal: 201ms\tremaining: 2.19s\n",
      "84:\tlearn: 0.3423583\ttotal: 203ms\tremaining: 2.18s\n",
      "85:\tlearn: 0.3398073\ttotal: 204ms\tremaining: 2.17s\n",
      "86:\tlearn: 0.3368944\ttotal: 205ms\tremaining: 2.15s\n",
      "87:\tlearn: 0.3347728\ttotal: 206ms\tremaining: 2.14s\n",
      "88:\tlearn: 0.3320534\ttotal: 208ms\tremaining: 2.13s\n",
      "89:\tlearn: 0.3298542\ttotal: 209ms\tremaining: 2.12s\n",
      "90:\tlearn: 0.3282858\ttotal: 210ms\tremaining: 2.1s\n",
      "91:\tlearn: 0.3267874\ttotal: 212ms\tremaining: 2.09s\n",
      "92:\tlearn: 0.3247515\ttotal: 213ms\tremaining: 2.08s\n",
      "93:\tlearn: 0.3228482\ttotal: 214ms\tremaining: 2.07s\n",
      "94:\tlearn: 0.3207029\ttotal: 216ms\tremaining: 2.06s\n",
      "95:\tlearn: 0.3185882\ttotal: 217ms\tremaining: 2.04s\n",
      "96:\tlearn: 0.3171388\ttotal: 219ms\tremaining: 2.03s\n",
      "97:\tlearn: 0.3156632\ttotal: 220ms\tremaining: 2.03s\n",
      "98:\tlearn: 0.3136306\ttotal: 222ms\tremaining: 2.02s\n",
      "99:\tlearn: 0.3121741\ttotal: 223ms\tremaining: 2.01s\n",
      "100:\tlearn: 0.3104307\ttotal: 225ms\tremaining: 2s\n",
      "101:\tlearn: 0.3090000\ttotal: 226ms\tremaining: 1.99s\n",
      "102:\tlearn: 0.3072663\ttotal: 228ms\tremaining: 1.98s\n",
      "103:\tlearn: 0.3055577\ttotal: 229ms\tremaining: 1.97s\n",
      "104:\tlearn: 0.3046434\ttotal: 231ms\tremaining: 1.96s\n",
      "105:\tlearn: 0.3030956\ttotal: 232ms\tremaining: 1.96s\n",
      "106:\tlearn: 0.3012701\ttotal: 233ms\tremaining: 1.95s\n",
      "107:\tlearn: 0.2991754\ttotal: 235ms\tremaining: 1.94s\n",
      "108:\tlearn: 0.2972517\ttotal: 236ms\tremaining: 1.93s\n",
      "109:\tlearn: 0.2959220\ttotal: 237ms\tremaining: 1.92s\n",
      "110:\tlearn: 0.2945574\ttotal: 239ms\tremaining: 1.91s\n",
      "111:\tlearn: 0.2928441\ttotal: 240ms\tremaining: 1.9s\n",
      "112:\tlearn: 0.2909360\ttotal: 242ms\tremaining: 1.9s\n",
      "113:\tlearn: 0.2893615\ttotal: 243ms\tremaining: 1.89s\n",
      "114:\tlearn: 0.2882490\ttotal: 245ms\tremaining: 1.88s\n",
      "115:\tlearn: 0.2870100\ttotal: 246ms\tremaining: 1.88s\n",
      "116:\tlearn: 0.2858924\ttotal: 248ms\tremaining: 1.87s\n",
      "117:\tlearn: 0.2846123\ttotal: 249ms\tremaining: 1.86s\n",
      "118:\tlearn: 0.2833187\ttotal: 250ms\tremaining: 1.85s\n",
      "119:\tlearn: 0.2822417\ttotal: 252ms\tremaining: 1.85s\n",
      "120:\tlearn: 0.2808256\ttotal: 253ms\tremaining: 1.84s\n",
      "121:\tlearn: 0.2798520\ttotal: 259ms\tremaining: 1.86s\n",
      "122:\tlearn: 0.2787685\ttotal: 260ms\tremaining: 1.86s\n",
      "123:\tlearn: 0.2778631\ttotal: 262ms\tremaining: 1.85s\n",
      "124:\tlearn: 0.2768707\ttotal: 263ms\tremaining: 1.84s\n",
      "125:\tlearn: 0.2757806\ttotal: 265ms\tremaining: 1.83s\n",
      "126:\tlearn: 0.2744246\ttotal: 266ms\tremaining: 1.83s\n",
      "127:\tlearn: 0.2735341\ttotal: 268ms\tremaining: 1.82s\n",
      "128:\tlearn: 0.2726658\ttotal: 269ms\tremaining: 1.82s\n"
     ]
    },
    {
     "name": "stdout",
     "output_type": "stream",
     "text": [
      "129:\tlearn: 0.2717235\ttotal: 270ms\tremaining: 1.81s\n",
      "130:\tlearn: 0.2707447\ttotal: 274ms\tremaining: 1.81s\n",
      "131:\tlearn: 0.2696284\ttotal: 275ms\tremaining: 1.81s\n",
      "132:\tlearn: 0.2686417\ttotal: 276ms\tremaining: 1.8s\n",
      "133:\tlearn: 0.2675477\ttotal: 278ms\tremaining: 1.79s\n",
      "134:\tlearn: 0.2665456\ttotal: 279ms\tremaining: 1.79s\n",
      "135:\tlearn: 0.2653939\ttotal: 280ms\tremaining: 1.78s\n",
      "136:\tlearn: 0.2646420\ttotal: 284ms\tremaining: 1.79s\n",
      "137:\tlearn: 0.2637701\ttotal: 286ms\tremaining: 1.78s\n",
      "138:\tlearn: 0.2627358\ttotal: 287ms\tremaining: 1.78s\n",
      "139:\tlearn: 0.2619275\ttotal: 288ms\tremaining: 1.77s\n",
      "140:\tlearn: 0.2611764\ttotal: 290ms\tremaining: 1.76s\n"
     ]
    },
    {
     "name": "stdout",
     "output_type": "stream",
     "text": [
      "141:\tlearn: 0.2604334\ttotal: 291ms\tremaining: 1.76s\n",
      "142:\tlearn: 0.2592036\ttotal: 293ms\tremaining: 1.75s\n",
      "143:\tlearn: 0.2583021\ttotal: 295ms\tremaining: 1.75s\n",
      "144:\tlearn: 0.2570639\ttotal: 298ms\tremaining: 1.75s\n",
      "145:\tlearn: 0.2563212\ttotal: 300ms\tremaining: 1.75s\n",
      "146:\tlearn: 0.2556660\ttotal: 302ms\tremaining: 1.75s\n",
      "147:\tlearn: 0.2548410\ttotal: 305ms\tremaining: 1.75s\n",
      "148:\tlearn: 0.2537563\ttotal: 307ms\tremaining: 1.75s\n",
      "149:\tlearn: 0.2528423\ttotal: 309ms\tremaining: 1.75s\n",
      "150:\tlearn: 0.2520717\ttotal: 314ms\tremaining: 1.76s\n",
      "151:\tlearn: 0.2512956\ttotal: 316ms\tremaining: 1.76s\n",
      "152:\tlearn: 0.2504420\ttotal: 318ms\tremaining: 1.76s\n",
      "153:\tlearn: 0.2500214\ttotal: 320ms\tremaining: 1.75s\n",
      "154:\tlearn: 0.2493801\ttotal: 321ms\tremaining: 1.75s\n",
      "155:\tlearn: 0.2485519\ttotal: 323ms\tremaining: 1.75s\n",
      "156:\tlearn: 0.2478578\ttotal: 326ms\tremaining: 1.75s\n"
     ]
    },
    {
     "name": "stdout",
     "output_type": "stream",
     "text": [
      "157:\tlearn: 0.2469774\ttotal: 328ms\tremaining: 1.75s\n",
      "158:\tlearn: 0.2458690\ttotal: 330ms\tremaining: 1.75s\n",
      "159:\tlearn: 0.2450837\ttotal: 331ms\tremaining: 1.74s\n",
      "160:\tlearn: 0.2439747\ttotal: 333ms\tremaining: 1.73s\n",
      "161:\tlearn: 0.2432241\ttotal: 335ms\tremaining: 1.73s\n",
      "162:\tlearn: 0.2421770\ttotal: 337ms\tremaining: 1.73s\n",
      "163:\tlearn: 0.2417216\ttotal: 338ms\tremaining: 1.72s\n",
      "164:\tlearn: 0.2409787\ttotal: 340ms\tremaining: 1.72s\n",
      "165:\tlearn: 0.2402598\ttotal: 341ms\tremaining: 1.71s\n",
      "166:\tlearn: 0.2396587\ttotal: 343ms\tremaining: 1.71s\n",
      "167:\tlearn: 0.2385235\ttotal: 344ms\tremaining: 1.7s\n",
      "168:\tlearn: 0.2378926\ttotal: 346ms\tremaining: 1.7s\n",
      "169:\tlearn: 0.2371362\ttotal: 347ms\tremaining: 1.7s\n",
      "170:\tlearn: 0.2365308\ttotal: 349ms\tremaining: 1.69s\n",
      "171:\tlearn: 0.2359252\ttotal: 351ms\tremaining: 1.69s\n",
      "172:\tlearn: 0.2351597\ttotal: 352ms\tremaining: 1.68s\n",
      "173:\tlearn: 0.2344250\ttotal: 354ms\tremaining: 1.68s\n",
      "174:\tlearn: 0.2339044\ttotal: 355ms\tremaining: 1.67s\n",
      "175:\tlearn: 0.2329559\ttotal: 357ms\tremaining: 1.67s\n",
      "176:\tlearn: 0.2319823\ttotal: 358ms\tremaining: 1.66s\n",
      "177:\tlearn: 0.2314301\ttotal: 360ms\tremaining: 1.66s\n",
      "178:\tlearn: 0.2308181\ttotal: 361ms\tremaining: 1.66s\n",
      "179:\tlearn: 0.2299492\ttotal: 363ms\tremaining: 1.65s\n",
      "180:\tlearn: 0.2290491\ttotal: 364ms\tremaining: 1.65s\n",
      "181:\tlearn: 0.2283248\ttotal: 371ms\tremaining: 1.67s\n",
      "182:\tlearn: 0.2275050\ttotal: 372ms\tremaining: 1.66s\n",
      "183:\tlearn: 0.2268188\ttotal: 374ms\tremaining: 1.66s\n",
      "184:\tlearn: 0.2261975\ttotal: 375ms\tremaining: 1.65s\n",
      "185:\tlearn: 0.2252867\ttotal: 377ms\tremaining: 1.65s\n",
      "186:\tlearn: 0.2245447\ttotal: 378ms\tremaining: 1.64s\n",
      "187:\tlearn: 0.2239529\ttotal: 379ms\tremaining: 1.64s\n",
      "188:\tlearn: 0.2233010\ttotal: 381ms\tremaining: 1.63s\n",
      "189:\tlearn: 0.2227147\ttotal: 382ms\tremaining: 1.63s\n",
      "190:\tlearn: 0.2220894\ttotal: 384ms\tremaining: 1.63s\n",
      "191:\tlearn: 0.2216208\ttotal: 385ms\tremaining: 1.62s\n",
      "192:\tlearn: 0.2208426\ttotal: 387ms\tremaining: 1.62s\n",
      "193:\tlearn: 0.2202351\ttotal: 388ms\tremaining: 1.61s\n",
      "194:\tlearn: 0.2195334\ttotal: 390ms\tremaining: 1.61s\n",
      "195:\tlearn: 0.2186212\ttotal: 392ms\tremaining: 1.61s\n",
      "196:\tlearn: 0.2181417\ttotal: 393ms\tremaining: 1.6s\n",
      "197:\tlearn: 0.2175566\ttotal: 395ms\tremaining: 1.6s\n",
      "198:\tlearn: 0.2168885\ttotal: 396ms\tremaining: 1.59s\n",
      "199:\tlearn: 0.2162136\ttotal: 398ms\tremaining: 1.59s\n",
      "200:\tlearn: 0.2156555\ttotal: 399ms\tremaining: 1.59s\n",
      "201:\tlearn: 0.2152453\ttotal: 401ms\tremaining: 1.58s\n",
      "202:\tlearn: 0.2145510\ttotal: 402ms\tremaining: 1.58s\n",
      "203:\tlearn: 0.2137831\ttotal: 404ms\tremaining: 1.57s\n",
      "204:\tlearn: 0.2130937\ttotal: 406ms\tremaining: 1.57s\n",
      "205:\tlearn: 0.2124586\ttotal: 407ms\tremaining: 1.57s\n",
      "206:\tlearn: 0.2119405\ttotal: 409ms\tremaining: 1.56s\n",
      "207:\tlearn: 0.2113640\ttotal: 410ms\tremaining: 1.56s\n",
      "208:\tlearn: 0.2107634\ttotal: 412ms\tremaining: 1.56s\n",
      "209:\tlearn: 0.2100637\ttotal: 413ms\tremaining: 1.55s\n",
      "210:\tlearn: 0.2095216\ttotal: 415ms\tremaining: 1.55s\n",
      "211:\tlearn: 0.2091101\ttotal: 416ms\tremaining: 1.55s\n",
      "212:\tlearn: 0.2083777\ttotal: 418ms\tremaining: 1.54s\n",
      "213:\tlearn: 0.2077512\ttotal: 419ms\tremaining: 1.54s\n",
      "214:\tlearn: 0.2070283\ttotal: 421ms\tremaining: 1.54s\n",
      "215:\tlearn: 0.2063046\ttotal: 422ms\tremaining: 1.53s\n",
      "216:\tlearn: 0.2058489\ttotal: 424ms\tremaining: 1.53s\n",
      "217:\tlearn: 0.2054294\ttotal: 425ms\tremaining: 1.52s\n",
      "218:\tlearn: 0.2051524\ttotal: 426ms\tremaining: 1.52s\n",
      "219:\tlearn: 0.2046409\ttotal: 428ms\tremaining: 1.51s\n",
      "220:\tlearn: 0.2038057\ttotal: 429ms\tremaining: 1.51s\n",
      "221:\tlearn: 0.2032849\ttotal: 431ms\tremaining: 1.51s\n",
      "222:\tlearn: 0.2027649\ttotal: 432ms\tremaining: 1.5s\n",
      "223:\tlearn: 0.2022547\ttotal: 433ms\tremaining: 1.5s\n",
      "224:\tlearn: 0.2014615\ttotal: 435ms\tremaining: 1.5s\n",
      "225:\tlearn: 0.2009674\ttotal: 436ms\tremaining: 1.49s\n",
      "226:\tlearn: 0.2003414\ttotal: 438ms\tremaining: 1.49s\n",
      "227:\tlearn: 0.1997232\ttotal: 441ms\tremaining: 1.49s\n",
      "228:\tlearn: 0.1993187\ttotal: 443ms\tremaining: 1.49s\n",
      "229:\tlearn: 0.1989593\ttotal: 447ms\tremaining: 1.5s\n"
     ]
    },
    {
     "name": "stdout",
     "output_type": "stream",
     "text": [
      "230:\tlearn: 0.1982621\ttotal: 451ms\tremaining: 1.5s\n",
      "231:\tlearn: 0.1978540\ttotal: 453ms\tremaining: 1.5s\n",
      "232:\tlearn: 0.1970796\ttotal: 455ms\tremaining: 1.5s\n",
      "233:\tlearn: 0.1964653\ttotal: 465ms\tremaining: 1.52s\n",
      "234:\tlearn: 0.1961193\ttotal: 468ms\tremaining: 1.52s\n"
     ]
    },
    {
     "name": "stdout",
     "output_type": "stream",
     "text": [
      "235:\tlearn: 0.1958990\ttotal: 470ms\tremaining: 1.52s\n",
      "236:\tlearn: 0.1952939\ttotal: 472ms\tremaining: 1.52s\n",
      "237:\tlearn: 0.1950226\ttotal: 477ms\tremaining: 1.53s\n",
      "238:\tlearn: 0.1945421\ttotal: 479ms\tremaining: 1.52s\n",
      "239:\tlearn: 0.1939640\ttotal: 481ms\tremaining: 1.52s\n",
      "240:\tlearn: 0.1934355\ttotal: 484ms\tremaining: 1.52s\n",
      "241:\tlearn: 0.1931767\ttotal: 486ms\tremaining: 1.52s\n",
      "242:\tlearn: 0.1925851\ttotal: 488ms\tremaining: 1.52s\n",
      "243:\tlearn: 0.1920162\ttotal: 491ms\tremaining: 1.52s\n",
      "244:\tlearn: 0.1917309\ttotal: 494ms\tremaining: 1.52s\n",
      "245:\tlearn: 0.1912627\ttotal: 496ms\tremaining: 1.52s\n",
      "246:\tlearn: 0.1908512\ttotal: 499ms\tremaining: 1.52s\n",
      "247:\tlearn: 0.1901960\ttotal: 500ms\tremaining: 1.52s\n",
      "248:\tlearn: 0.1896201\ttotal: 502ms\tremaining: 1.51s\n",
      "249:\tlearn: 0.1891106\ttotal: 503ms\tremaining: 1.51s\n"
     ]
    },
    {
     "name": "stdout",
     "output_type": "stream",
     "text": [
      "250:\tlearn: 0.1883433\ttotal: 505ms\tremaining: 1.51s\n",
      "251:\tlearn: 0.1878809\ttotal: 507ms\tremaining: 1.51s\n",
      "252:\tlearn: 0.1872520\ttotal: 509ms\tremaining: 1.5s\n",
      "253:\tlearn: 0.1866665\ttotal: 510ms\tremaining: 1.5s\n",
      "254:\tlearn: 0.1863674\ttotal: 512ms\tremaining: 1.5s\n",
      "255:\tlearn: 0.1861101\ttotal: 513ms\tremaining: 1.49s\n",
      "256:\tlearn: 0.1855854\ttotal: 515ms\tremaining: 1.49s\n",
      "257:\tlearn: 0.1853197\ttotal: 516ms\tremaining: 1.48s\n",
      "258:\tlearn: 0.1849235\ttotal: 518ms\tremaining: 1.48s\n",
      "259:\tlearn: 0.1844761\ttotal: 519ms\tremaining: 1.48s\n",
      "260:\tlearn: 0.1837928\ttotal: 520ms\tremaining: 1.47s\n",
      "261:\tlearn: 0.1832968\ttotal: 523ms\tremaining: 1.47s\n",
      "262:\tlearn: 0.1830497\ttotal: 525ms\tremaining: 1.47s\n",
      "263:\tlearn: 0.1824430\ttotal: 528ms\tremaining: 1.47s\n",
      "264:\tlearn: 0.1820769\ttotal: 533ms\tremaining: 1.48s\n",
      "265:\tlearn: 0.1816725\ttotal: 535ms\tremaining: 1.48s\n",
      "266:\tlearn: 0.1813604\ttotal: 542ms\tremaining: 1.49s\n",
      "267:\tlearn: 0.1808392\ttotal: 545ms\tremaining: 1.49s\n",
      "268:\tlearn: 0.1806569\ttotal: 548ms\tremaining: 1.49s\n",
      "269:\tlearn: 0.1804208\ttotal: 551ms\tremaining: 1.49s\n",
      "270:\tlearn: 0.1798459\ttotal: 582ms\tremaining: 1.56s\n",
      "271:\tlearn: 0.1793146\ttotal: 585ms\tremaining: 1.56s\n",
      "272:\tlearn: 0.1788783\ttotal: 591ms\tremaining: 1.57s\n",
      "273:\tlearn: 0.1783405\ttotal: 609ms\tremaining: 1.61s\n",
      "274:\tlearn: 0.1778448\ttotal: 612ms\tremaining: 1.61s\n",
      "275:\tlearn: 0.1775894\ttotal: 615ms\tremaining: 1.61s\n",
      "276:\tlearn: 0.1771652\ttotal: 618ms\tremaining: 1.61s\n",
      "277:\tlearn: 0.1766372\ttotal: 621ms\tremaining: 1.61s\n",
      "278:\tlearn: 0.1761049\ttotal: 623ms\tremaining: 1.61s\n",
      "279:\tlearn: 0.1758589\ttotal: 626ms\tremaining: 1.61s\n",
      "280:\tlearn: 0.1753700\ttotal: 628ms\tremaining: 1.61s\n",
      "281:\tlearn: 0.1748682\ttotal: 631ms\tremaining: 1.61s\n"
     ]
    },
    {
     "name": "stdout",
     "output_type": "stream",
     "text": [
      "282:\tlearn: 0.1743812\ttotal: 639ms\tremaining: 1.62s\n",
      "283:\tlearn: 0.1739028\ttotal: 653ms\tremaining: 1.65s\n"
     ]
    },
    {
     "name": "stdout",
     "output_type": "stream",
     "text": [
      "284:\tlearn: 0.1734684\ttotal: 656ms\tremaining: 1.65s\n",
      "285:\tlearn: 0.1730500\ttotal: 659ms\tremaining: 1.65s\n",
      "286:\tlearn: 0.1725354\ttotal: 662ms\tremaining: 1.64s\n",
      "287:\tlearn: 0.1722134\ttotal: 666ms\tremaining: 1.65s\n",
      "288:\tlearn: 0.1718547\ttotal: 670ms\tremaining: 1.65s\n"
     ]
    },
    {
     "name": "stdout",
     "output_type": "stream",
     "text": [
      "289:\tlearn: 0.1714447\ttotal: 678ms\tremaining: 1.66s\n",
      "290:\tlearn: 0.1710391\ttotal: 680ms\tremaining: 1.66s\n",
      "291:\tlearn: 0.1707887\ttotal: 683ms\tremaining: 1.66s\n",
      "292:\tlearn: 0.1703016\ttotal: 685ms\tremaining: 1.65s\n",
      "293:\tlearn: 0.1699244\ttotal: 690ms\tremaining: 1.66s\n",
      "294:\tlearn: 0.1693614\ttotal: 693ms\tremaining: 1.66s\n",
      "295:\tlearn: 0.1688658\ttotal: 695ms\tremaining: 1.65s\n",
      "296:\tlearn: 0.1684598\ttotal: 698ms\tremaining: 1.65s\n",
      "297:\tlearn: 0.1682726\ttotal: 701ms\tremaining: 1.65s\n",
      "298:\tlearn: 0.1678571\ttotal: 703ms\tremaining: 1.65s\n",
      "299:\tlearn: 0.1675264\ttotal: 706ms\tremaining: 1.65s\n",
      "300:\tlearn: 0.1670325\ttotal: 708ms\tremaining: 1.64s\n",
      "301:\tlearn: 0.1665775\ttotal: 710ms\tremaining: 1.64s\n",
      "302:\tlearn: 0.1662645\ttotal: 712ms\tremaining: 1.64s\n",
      "303:\tlearn: 0.1659239\ttotal: 725ms\tremaining: 1.66s\n",
      "304:\tlearn: 0.1654445\ttotal: 729ms\tremaining: 1.66s\n",
      "305:\tlearn: 0.1650395\ttotal: 732ms\tremaining: 1.66s\n",
      "306:\tlearn: 0.1648289\ttotal: 735ms\tremaining: 1.66s\n",
      "307:\tlearn: 0.1646978\ttotal: 737ms\tremaining: 1.66s\n",
      "308:\tlearn: 0.1642334\ttotal: 740ms\tremaining: 1.65s\n",
      "309:\tlearn: 0.1639463\ttotal: 742ms\tremaining: 1.65s\n",
      "310:\tlearn: 0.1634450\ttotal: 750ms\tremaining: 1.66s\n",
      "311:\tlearn: 0.1631564\ttotal: 753ms\tremaining: 1.66s\n",
      "312:\tlearn: 0.1628309\ttotal: 755ms\tremaining: 1.66s\n",
      "313:\tlearn: 0.1624270\ttotal: 758ms\tremaining: 1.66s\n",
      "314:\tlearn: 0.1623178\ttotal: 762ms\tremaining: 1.66s\n",
      "315:\tlearn: 0.1619697\ttotal: 765ms\tremaining: 1.65s\n",
      "316:\tlearn: 0.1614612\ttotal: 767ms\tremaining: 1.65s\n",
      "317:\tlearn: 0.1610833\ttotal: 770ms\tremaining: 1.65s\n",
      "318:\tlearn: 0.1607405\ttotal: 773ms\tremaining: 1.65s\n",
      "319:\tlearn: 0.1601447\ttotal: 775ms\tremaining: 1.65s\n",
      "320:\tlearn: 0.1596119\ttotal: 777ms\tremaining: 1.64s\n",
      "321:\tlearn: 0.1593396\ttotal: 780ms\tremaining: 1.64s\n",
      "322:\tlearn: 0.1590885\ttotal: 783ms\tremaining: 1.64s\n",
      "323:\tlearn: 0.1587150\ttotal: 786ms\tremaining: 1.64s\n",
      "324:\tlearn: 0.1585051\ttotal: 788ms\tremaining: 1.64s\n"
     ]
    },
    {
     "name": "stdout",
     "output_type": "stream",
     "text": [
      "325:\tlearn: 0.1581274\ttotal: 791ms\tremaining: 1.63s\n",
      "326:\tlearn: 0.1576976\ttotal: 793ms\tremaining: 1.63s\n",
      "327:\tlearn: 0.1573368\ttotal: 796ms\tremaining: 1.63s\n",
      "328:\tlearn: 0.1569873\ttotal: 798ms\tremaining: 1.63s\n",
      "329:\tlearn: 0.1565187\ttotal: 801ms\tremaining: 1.63s\n",
      "330:\tlearn: 0.1561684\ttotal: 804ms\tremaining: 1.62s\n",
      "331:\tlearn: 0.1559649\ttotal: 806ms\tremaining: 1.62s\n",
      "332:\tlearn: 0.1556391\ttotal: 808ms\tremaining: 1.62s\n",
      "333:\tlearn: 0.1552822\ttotal: 811ms\tremaining: 1.62s\n",
      "334:\tlearn: 0.1551615\ttotal: 813ms\tremaining: 1.61s\n"
     ]
    },
    {
     "name": "stdout",
     "output_type": "stream",
     "text": [
      "335:\tlearn: 0.1550264\ttotal: 816ms\tremaining: 1.61s\n",
      "336:\tlearn: 0.1545638\ttotal: 818ms\tremaining: 1.61s\n",
      "337:\tlearn: 0.1540766\ttotal: 820ms\tremaining: 1.61s\n",
      "338:\tlearn: 0.1539418\ttotal: 823ms\tremaining: 1.6s\n",
      "339:\tlearn: 0.1537552\ttotal: 825ms\tremaining: 1.6s\n",
      "340:\tlearn: 0.1533119\ttotal: 828ms\tremaining: 1.6s\n",
      "341:\tlearn: 0.1529423\ttotal: 831ms\tremaining: 1.6s\n",
      "342:\tlearn: 0.1528242\ttotal: 834ms\tremaining: 1.6s\n"
     ]
    },
    {
     "name": "stdout",
     "output_type": "stream",
     "text": [
      "343:\tlearn: 0.1524100\ttotal: 839ms\tremaining: 1.6s\n",
      "344:\tlearn: 0.1522883\ttotal: 841ms\tremaining: 1.6s\n",
      "345:\tlearn: 0.1518395\ttotal: 844ms\tremaining: 1.6s\n",
      "346:\tlearn: 0.1514020\ttotal: 847ms\tremaining: 1.59s\n",
      "347:\tlearn: 0.1512095\ttotal: 850ms\tremaining: 1.59s\n",
      "348:\tlearn: 0.1510913\ttotal: 852ms\tremaining: 1.59s\n",
      "349:\tlearn: 0.1507573\ttotal: 855ms\tremaining: 1.59s\n",
      "350:\tlearn: 0.1504799\ttotal: 859ms\tremaining: 1.59s\n",
      "351:\tlearn: 0.1503841\ttotal: 863ms\tremaining: 1.59s\n",
      "352:\tlearn: 0.1499391\ttotal: 869ms\tremaining: 1.59s\n",
      "353:\tlearn: 0.1495104\ttotal: 872ms\tremaining: 1.59s\n",
      "354:\tlearn: 0.1492896\ttotal: 874ms\tremaining: 1.59s\n",
      "355:\tlearn: 0.1490359\ttotal: 877ms\tremaining: 1.58s\n",
      "356:\tlearn: 0.1487967\ttotal: 879ms\tremaining: 1.58s\n",
      "357:\tlearn: 0.1483550\ttotal: 882ms\tremaining: 1.58s\n",
      "358:\tlearn: 0.1480547\ttotal: 885ms\tremaining: 1.58s\n",
      "359:\tlearn: 0.1476720\ttotal: 887ms\tremaining: 1.58s\n",
      "360:\tlearn: 0.1473063\ttotal: 889ms\tremaining: 1.57s\n",
      "361:\tlearn: 0.1470111\ttotal: 893ms\tremaining: 1.57s\n",
      "362:\tlearn: 0.1468638\ttotal: 895ms\tremaining: 1.57s\n",
      "363:\tlearn: 0.1464498\ttotal: 898ms\tremaining: 1.57s\n",
      "364:\tlearn: 0.1460582\ttotal: 902ms\tremaining: 1.57s\n",
      "365:\tlearn: 0.1457493\ttotal: 907ms\tremaining: 1.57s\n",
      "366:\tlearn: 0.1454068\ttotal: 910ms\tremaining: 1.57s\n",
      "367:\tlearn: 0.1450944\ttotal: 912ms\tremaining: 1.56s\n",
      "368:\tlearn: 0.1448878\ttotal: 915ms\tremaining: 1.56s\n",
      "369:\tlearn: 0.1447609\ttotal: 917ms\tremaining: 1.56s\n",
      "370:\tlearn: 0.1444198\ttotal: 921ms\tremaining: 1.56s\n",
      "371:\tlearn: 0.1441239\ttotal: 924ms\tremaining: 1.56s\n",
      "372:\tlearn: 0.1437887\ttotal: 927ms\tremaining: 1.56s\n",
      "373:\tlearn: 0.1433921\ttotal: 929ms\tremaining: 1.55s\n",
      "374:\tlearn: 0.1432056\ttotal: 931ms\tremaining: 1.55s\n",
      "375:\tlearn: 0.1428274\ttotal: 933ms\tremaining: 1.55s\n",
      "376:\tlearn: 0.1427339\ttotal: 937ms\tremaining: 1.55s\n",
      "377:\tlearn: 0.1424383\ttotal: 942ms\tremaining: 1.55s\n"
     ]
    },
    {
     "name": "stdout",
     "output_type": "stream",
     "text": [
      "378:\tlearn: 0.1420500\ttotal: 946ms\tremaining: 1.55s\n"
     ]
    },
    {
     "name": "stdout",
     "output_type": "stream",
     "text": [
      "379:\tlearn: 0.1418113\ttotal: 966ms\tremaining: 1.58s\n",
      "380:\tlearn: 0.1416107\ttotal: 969ms\tremaining: 1.57s\n"
     ]
    },
    {
     "name": "stdout",
     "output_type": "stream",
     "text": [
      "381:\tlearn: 0.1413129\ttotal: 973ms\tremaining: 1.57s\n",
      "382:\tlearn: 0.1409207\ttotal: 977ms\tremaining: 1.57s\n",
      "383:\tlearn: 0.1406794\ttotal: 980ms\tremaining: 1.57s\n",
      "384:\tlearn: 0.1402847\ttotal: 983ms\tremaining: 1.57s\n",
      "385:\tlearn: 0.1400570\ttotal: 985ms\tremaining: 1.57s\n",
      "386:\tlearn: 0.1397924\ttotal: 987ms\tremaining: 1.56s\n",
      "387:\tlearn: 0.1394233\ttotal: 990ms\tremaining: 1.56s\n",
      "388:\tlearn: 0.1391628\ttotal: 993ms\tremaining: 1.56s\n",
      "389:\tlearn: 0.1387524\ttotal: 1s\tremaining: 1.57s\n",
      "390:\tlearn: 0.1384180\ttotal: 1.01s\tremaining: 1.57s\n",
      "391:\tlearn: 0.1382418\ttotal: 1.01s\tremaining: 1.57s\n",
      "392:\tlearn: 0.1379878\ttotal: 1.02s\tremaining: 1.57s\n",
      "393:\tlearn: 0.1376637\ttotal: 1.02s\tremaining: 1.57s\n",
      "394:\tlearn: 0.1372322\ttotal: 1.02s\tremaining: 1.56s\n",
      "395:\tlearn: 0.1369330\ttotal: 1.02s\tremaining: 1.56s\n",
      "396:\tlearn: 0.1368667\ttotal: 1.03s\tremaining: 1.56s\n",
      "397:\tlearn: 0.1364538\ttotal: 1.03s\tremaining: 1.56s\n",
      "398:\tlearn: 0.1361256\ttotal: 1.03s\tremaining: 1.55s\n",
      "399:\tlearn: 0.1358419\ttotal: 1.03s\tremaining: 1.55s\n",
      "400:\tlearn: 0.1356685\ttotal: 1.04s\tremaining: 1.55s\n",
      "401:\tlearn: 0.1353618\ttotal: 1.04s\tremaining: 1.55s\n",
      "402:\tlearn: 0.1349954\ttotal: 1.05s\tremaining: 1.55s\n",
      "403:\tlearn: 0.1346826\ttotal: 1.05s\tremaining: 1.55s\n",
      "404:\tlearn: 0.1343012\ttotal: 1.05s\tremaining: 1.55s\n",
      "405:\tlearn: 0.1340268\ttotal: 1.06s\tremaining: 1.55s\n",
      "406:\tlearn: 0.1337879\ttotal: 1.06s\tremaining: 1.55s\n",
      "407:\tlearn: 0.1334609\ttotal: 1.06s\tremaining: 1.55s\n",
      "408:\tlearn: 0.1331220\ttotal: 1.07s\tremaining: 1.54s\n",
      "409:\tlearn: 0.1328452\ttotal: 1.07s\tremaining: 1.54s\n",
      "410:\tlearn: 0.1327261\ttotal: 1.08s\tremaining: 1.55s\n",
      "411:\tlearn: 0.1324406\ttotal: 1.08s\tremaining: 1.54s\n"
     ]
    },
    {
     "name": "stdout",
     "output_type": "stream",
     "text": [
      "412:\tlearn: 0.1321011\ttotal: 1.08s\tremaining: 1.54s\n",
      "413:\tlearn: 0.1318075\ttotal: 1.1s\tremaining: 1.55s\n",
      "414:\tlearn: 0.1315769\ttotal: 1.1s\tremaining: 1.55s\n"
     ]
    },
    {
     "name": "stdout",
     "output_type": "stream",
     "text": [
      "415:\tlearn: 0.1312966\ttotal: 1.1s\tremaining: 1.55s\n",
      "416:\tlearn: 0.1310142\ttotal: 1.1s\tremaining: 1.54s\n",
      "417:\tlearn: 0.1308699\ttotal: 1.11s\tremaining: 1.54s\n",
      "418:\tlearn: 0.1305669\ttotal: 1.11s\tremaining: 1.54s\n",
      "419:\tlearn: 0.1303652\ttotal: 1.11s\tremaining: 1.54s\n",
      "420:\tlearn: 0.1300882\ttotal: 1.12s\tremaining: 1.54s\n",
      "421:\tlearn: 0.1297040\ttotal: 1.12s\tremaining: 1.54s\n",
      "422:\tlearn: 0.1295297\ttotal: 1.12s\tremaining: 1.53s\n",
      "423:\tlearn: 0.1292519\ttotal: 1.13s\tremaining: 1.53s\n",
      "424:\tlearn: 0.1290511\ttotal: 1.13s\tremaining: 1.53s\n",
      "425:\tlearn: 0.1287695\ttotal: 1.13s\tremaining: 1.53s\n",
      "426:\tlearn: 0.1284804\ttotal: 1.14s\tremaining: 1.53s\n",
      "427:\tlearn: 0.1284228\ttotal: 1.15s\tremaining: 1.54s\n",
      "428:\tlearn: 0.1281764\ttotal: 1.15s\tremaining: 1.53s\n",
      "429:\tlearn: 0.1279579\ttotal: 1.16s\tremaining: 1.53s\n",
      "430:\tlearn: 0.1278335\ttotal: 1.16s\tremaining: 1.53s\n",
      "431:\tlearn: 0.1275588\ttotal: 1.17s\tremaining: 1.53s\n"
     ]
    },
    {
     "name": "stdout",
     "output_type": "stream",
     "text": [
      "432:\tlearn: 0.1274415\ttotal: 1.18s\tremaining: 1.54s\n",
      "433:\tlearn: 0.1271722\ttotal: 1.18s\tremaining: 1.54s\n",
      "434:\tlearn: 0.1269601\ttotal: 1.19s\tremaining: 1.54s\n"
     ]
    },
    {
     "name": "stdout",
     "output_type": "stream",
     "text": [
      "435:\tlearn: 0.1266712\ttotal: 1.2s\tremaining: 1.55s\n",
      "436:\tlearn: 0.1264713\ttotal: 1.2s\tremaining: 1.55s\n",
      "437:\tlearn: 0.1262154\ttotal: 1.21s\tremaining: 1.55s\n",
      "438:\tlearn: 0.1258654\ttotal: 1.22s\tremaining: 1.56s\n",
      "439:\tlearn: 0.1255990\ttotal: 1.22s\tremaining: 1.55s\n",
      "440:\tlearn: 0.1253904\ttotal: 1.22s\tremaining: 1.55s\n",
      "441:\tlearn: 0.1251906\ttotal: 1.23s\tremaining: 1.55s\n",
      "442:\tlearn: 0.1250358\ttotal: 1.24s\tremaining: 1.55s\n",
      "443:\tlearn: 0.1247549\ttotal: 1.24s\tremaining: 1.55s\n",
      "444:\tlearn: 0.1244895\ttotal: 1.27s\tremaining: 1.58s\n",
      "445:\tlearn: 0.1243740\ttotal: 1.27s\tremaining: 1.58s\n",
      "446:\tlearn: 0.1242034\ttotal: 1.28s\tremaining: 1.58s\n",
      "447:\tlearn: 0.1239597\ttotal: 1.3s\tremaining: 1.6s\n",
      "448:\tlearn: 0.1236725\ttotal: 1.31s\tremaining: 1.61s\n",
      "449:\tlearn: 0.1233640\ttotal: 1.31s\tremaining: 1.61s\n",
      "450:\tlearn: 0.1231791\ttotal: 1.31s\tremaining: 1.6s\n"
     ]
    },
    {
     "name": "stdout",
     "output_type": "stream",
     "text": [
      "451:\tlearn: 0.1230351\ttotal: 1.33s\tremaining: 1.61s\n",
      "452:\tlearn: 0.1228974\ttotal: 1.33s\tremaining: 1.61s\n",
      "453:\tlearn: 0.1226238\ttotal: 1.34s\tremaining: 1.61s\n",
      "454:\tlearn: 0.1222971\ttotal: 1.34s\tremaining: 1.61s\n"
     ]
    },
    {
     "name": "stdout",
     "output_type": "stream",
     "text": [
      "455:\tlearn: 0.1220673\ttotal: 1.35s\tremaining: 1.61s\n",
      "456:\tlearn: 0.1217977\ttotal: 1.35s\tremaining: 1.61s\n",
      "457:\tlearn: 0.1215751\ttotal: 1.37s\tremaining: 1.62s\n",
      "458:\tlearn: 0.1214125\ttotal: 1.37s\tremaining: 1.62s\n",
      "459:\tlearn: 0.1211204\ttotal: 1.38s\tremaining: 1.62s\n",
      "460:\tlearn: 0.1208260\ttotal: 1.38s\tremaining: 1.61s\n",
      "461:\tlearn: 0.1205901\ttotal: 1.38s\tremaining: 1.61s\n",
      "462:\tlearn: 0.1204148\ttotal: 1.39s\tremaining: 1.61s\n",
      "463:\tlearn: 0.1202232\ttotal: 1.4s\tremaining: 1.62s\n",
      "464:\tlearn: 0.1200156\ttotal: 1.45s\tremaining: 1.67s\n"
     ]
    },
    {
     "name": "stdout",
     "output_type": "stream",
     "text": [
      "465:\tlearn: 0.1197962\ttotal: 1.47s\tremaining: 1.68s\n"
     ]
    },
    {
     "name": "stdout",
     "output_type": "stream",
     "text": [
      "466:\tlearn: 0.1195083\ttotal: 1.49s\tremaining: 1.71s\n",
      "467:\tlearn: 0.1192671\ttotal: 1.5s\tremaining: 1.71s\n",
      "468:\tlearn: 0.1190242\ttotal: 1.5s\tremaining: 1.71s\n",
      "469:\tlearn: 0.1188468\ttotal: 1.51s\tremaining: 1.7s\n",
      "470:\tlearn: 0.1187144\ttotal: 1.52s\tremaining: 1.7s\n",
      "471:\tlearn: 0.1184632\ttotal: 1.52s\tremaining: 1.7s\n",
      "472:\tlearn: 0.1181918\ttotal: 1.52s\tremaining: 1.7s\n",
      "473:\tlearn: 0.1180684\ttotal: 1.54s\tremaining: 1.71s\n"
     ]
    },
    {
     "name": "stdout",
     "output_type": "stream",
     "text": [
      "474:\tlearn: 0.1177299\ttotal: 1.57s\tremaining: 1.73s\n"
     ]
    },
    {
     "name": "stdout",
     "output_type": "stream",
     "text": [
      "475:\tlearn: 0.1175041\ttotal: 1.57s\tremaining: 1.73s\n",
      "476:\tlearn: 0.1172345\ttotal: 1.57s\tremaining: 1.73s\n",
      "477:\tlearn: 0.1169692\ttotal: 1.58s\tremaining: 1.72s\n",
      "478:\tlearn: 0.1166819\ttotal: 1.58s\tremaining: 1.72s\n",
      "479:\tlearn: 0.1163349\ttotal: 1.58s\tremaining: 1.71s\n",
      "480:\tlearn: 0.1160750\ttotal: 1.58s\tremaining: 1.71s\n",
      "481:\tlearn: 0.1157595\ttotal: 1.59s\tremaining: 1.71s\n",
      "482:\tlearn: 0.1156864\ttotal: 1.59s\tremaining: 1.71s\n",
      "483:\tlearn: 0.1154229\ttotal: 1.59s\tremaining: 1.7s\n",
      "484:\tlearn: 0.1152889\ttotal: 1.6s\tremaining: 1.7s\n",
      "485:\tlearn: 0.1151998\ttotal: 1.6s\tremaining: 1.7s\n",
      "486:\tlearn: 0.1150765\ttotal: 1.6s\tremaining: 1.69s\n",
      "487:\tlearn: 0.1149915\ttotal: 1.61s\tremaining: 1.69s\n",
      "488:\tlearn: 0.1147594\ttotal: 1.61s\tremaining: 1.69s\n",
      "489:\tlearn: 0.1145575\ttotal: 1.62s\tremaining: 1.68s\n",
      "490:\tlearn: 0.1143902\ttotal: 1.62s\tremaining: 1.68s\n",
      "491:\tlearn: 0.1143227\ttotal: 1.62s\tremaining: 1.67s\n",
      "492:\tlearn: 0.1140993\ttotal: 1.62s\tremaining: 1.67s\n",
      "493:\tlearn: 0.1138596\ttotal: 1.63s\tremaining: 1.67s\n",
      "494:\tlearn: 0.1137907\ttotal: 1.63s\tremaining: 1.66s\n",
      "495:\tlearn: 0.1136047\ttotal: 1.63s\tremaining: 1.66s\n",
      "496:\tlearn: 0.1134251\ttotal: 1.65s\tremaining: 1.67s\n"
     ]
    },
    {
     "name": "stdout",
     "output_type": "stream",
     "text": [
      "497:\tlearn: 0.1130905\ttotal: 1.65s\tremaining: 1.67s\n",
      "498:\tlearn: 0.1128674\ttotal: 1.66s\tremaining: 1.67s\n",
      "499:\tlearn: 0.1125707\ttotal: 1.67s\tremaining: 1.67s\n",
      "500:\tlearn: 0.1125164\ttotal: 1.69s\tremaining: 1.69s\n",
      "501:\tlearn: 0.1122887\ttotal: 1.7s\tremaining: 1.69s\n",
      "502:\tlearn: 0.1122040\ttotal: 1.71s\tremaining: 1.69s\n",
      "503:\tlearn: 0.1120705\ttotal: 1.71s\tremaining: 1.69s\n",
      "504:\tlearn: 0.1119147\ttotal: 1.72s\tremaining: 1.69s\n"
     ]
    },
    {
     "name": "stdout",
     "output_type": "stream",
     "text": [
      "505:\tlearn: 0.1117729\ttotal: 1.73s\tremaining: 1.69s\n",
      "506:\tlearn: 0.1116539\ttotal: 1.74s\tremaining: 1.69s\n",
      "507:\tlearn: 0.1114863\ttotal: 1.75s\tremaining: 1.7s\n",
      "508:\tlearn: 0.1112419\ttotal: 1.77s\tremaining: 1.7s\n",
      "509:\tlearn: 0.1110149\ttotal: 1.83s\tremaining: 1.75s\n",
      "510:\tlearn: 0.1109198\ttotal: 1.83s\tremaining: 1.75s\n",
      "511:\tlearn: 0.1107195\ttotal: 1.84s\tremaining: 1.75s\n",
      "512:\tlearn: 0.1106445\ttotal: 1.84s\tremaining: 1.75s\n",
      "513:\tlearn: 0.1105383\ttotal: 1.85s\tremaining: 1.75s\n",
      "514:\tlearn: 0.1103475\ttotal: 1.85s\tremaining: 1.74s\n",
      "515:\tlearn: 0.1101835\ttotal: 1.85s\tremaining: 1.74s\n",
      "516:\tlearn: 0.1100252\ttotal: 1.86s\tremaining: 1.74s\n",
      "517:\tlearn: 0.1098779\ttotal: 1.86s\tremaining: 1.73s\n",
      "518:\tlearn: 0.1096778\ttotal: 1.86s\tremaining: 1.73s\n",
      "519:\tlearn: 0.1095449\ttotal: 1.87s\tremaining: 1.73s\n",
      "520:\tlearn: 0.1092852\ttotal: 1.87s\tremaining: 1.72s\n",
      "521:\tlearn: 0.1091457\ttotal: 1.88s\tremaining: 1.72s\n",
      "522:\tlearn: 0.1090421\ttotal: 1.88s\tremaining: 1.71s\n",
      "523:\tlearn: 0.1087457\ttotal: 1.88s\tremaining: 1.71s\n",
      "524:\tlearn: 0.1085802\ttotal: 1.89s\tremaining: 1.71s\n",
      "525:\tlearn: 0.1083841\ttotal: 1.89s\tremaining: 1.7s\n",
      "526:\tlearn: 0.1081459\ttotal: 1.89s\tremaining: 1.7s\n",
      "527:\tlearn: 0.1079253\ttotal: 1.89s\tremaining: 1.69s\n",
      "528:\tlearn: 0.1077639\ttotal: 1.9s\tremaining: 1.69s\n"
     ]
    },
    {
     "name": "stdout",
     "output_type": "stream",
     "text": [
      "529:\tlearn: 0.1076778\ttotal: 1.91s\tremaining: 1.69s\n",
      "530:\tlearn: 0.1075079\ttotal: 1.91s\tremaining: 1.69s\n",
      "531:\tlearn: 0.1073236\ttotal: 1.92s\tremaining: 1.69s\n",
      "532:\tlearn: 0.1071257\ttotal: 1.92s\tremaining: 1.68s\n",
      "533:\tlearn: 0.1069193\ttotal: 1.92s\tremaining: 1.68s\n",
      "534:\tlearn: 0.1066634\ttotal: 1.92s\tremaining: 1.67s\n",
      "535:\tlearn: 0.1065118\ttotal: 1.93s\tremaining: 1.67s\n",
      "536:\tlearn: 0.1062131\ttotal: 1.93s\tremaining: 1.66s\n",
      "537:\tlearn: 0.1059211\ttotal: 1.93s\tremaining: 1.66s\n",
      "538:\tlearn: 0.1056850\ttotal: 1.94s\tremaining: 1.66s\n",
      "539:\tlearn: 0.1056071\ttotal: 1.94s\tremaining: 1.65s\n",
      "540:\tlearn: 0.1053084\ttotal: 1.95s\tremaining: 1.65s\n",
      "541:\tlearn: 0.1050530\ttotal: 1.95s\tremaining: 1.65s\n",
      "542:\tlearn: 0.1050078\ttotal: 1.95s\tremaining: 1.64s\n",
      "543:\tlearn: 0.1048558\ttotal: 1.96s\tremaining: 1.64s\n",
      "544:\tlearn: 0.1046251\ttotal: 1.96s\tremaining: 1.63s\n",
      "545:\tlearn: 0.1043540\ttotal: 1.96s\tremaining: 1.63s\n",
      "546:\tlearn: 0.1041790\ttotal: 1.96s\tremaining: 1.63s\n",
      "547:\tlearn: 0.1039509\ttotal: 1.97s\tremaining: 1.62s\n",
      "548:\tlearn: 0.1036756\ttotal: 1.97s\tremaining: 1.62s\n",
      "549:\tlearn: 0.1036419\ttotal: 1.97s\tremaining: 1.61s\n",
      "550:\tlearn: 0.1034227\ttotal: 1.98s\tremaining: 1.61s\n",
      "551:\tlearn: 0.1032877\ttotal: 1.98s\tremaining: 1.6s\n",
      "552:\tlearn: 0.1031724\ttotal: 1.98s\tremaining: 1.6s\n",
      "553:\tlearn: 0.1029336\ttotal: 2s\tremaining: 1.61s\n",
      "554:\tlearn: 0.1027684\ttotal: 2s\tremaining: 1.6s\n",
      "555:\tlearn: 0.1025528\ttotal: 2s\tremaining: 1.6s\n",
      "556:\tlearn: 0.1024661\ttotal: 2.01s\tremaining: 1.6s\n",
      "557:\tlearn: 0.1022582\ttotal: 2.01s\tremaining: 1.59s\n",
      "558:\tlearn: 0.1021223\ttotal: 2.01s\tremaining: 1.59s\n",
      "559:\tlearn: 0.1019512\ttotal: 2.02s\tremaining: 1.58s\n",
      "560:\tlearn: 0.1019028\ttotal: 2.02s\tremaining: 1.58s\n",
      "561:\tlearn: 0.1016673\ttotal: 2.02s\tremaining: 1.58s\n",
      "562:\tlearn: 0.1014811\ttotal: 2.03s\tremaining: 1.58s\n",
      "563:\tlearn: 0.1013274\ttotal: 2.04s\tremaining: 1.57s\n",
      "564:\tlearn: 0.1011288\ttotal: 2.04s\tremaining: 1.57s\n",
      "565:\tlearn: 0.1008963\ttotal: 2.04s\tremaining: 1.56s\n",
      "566:\tlearn: 0.1006422\ttotal: 2.04s\tremaining: 1.56s\n",
      "567:\tlearn: 0.1004558\ttotal: 2.05s\tremaining: 1.56s\n",
      "568:\tlearn: 0.1002451\ttotal: 2.05s\tremaining: 1.55s\n",
      "569:\tlearn: 0.1001008\ttotal: 2.05s\tremaining: 1.55s\n",
      "570:\tlearn: 0.1000284\ttotal: 2.05s\tremaining: 1.54s\n",
      "571:\tlearn: 0.0998897\ttotal: 2.06s\tremaining: 1.54s\n",
      "572:\tlearn: 0.0997395\ttotal: 2.06s\tremaining: 1.54s\n",
      "573:\tlearn: 0.0996114\ttotal: 2.07s\tremaining: 1.53s\n",
      "574:\tlearn: 0.0994023\ttotal: 2.07s\tremaining: 1.53s\n"
     ]
    },
    {
     "name": "stdout",
     "output_type": "stream",
     "text": [
      "575:\tlearn: 0.0992137\ttotal: 2.08s\tremaining: 1.53s\n",
      "576:\tlearn: 0.0990999\ttotal: 2.08s\tremaining: 1.52s\n",
      "577:\tlearn: 0.0989753\ttotal: 2.08s\tremaining: 1.52s\n",
      "578:\tlearn: 0.0988153\ttotal: 2.09s\tremaining: 1.52s\n",
      "579:\tlearn: 0.0986527\ttotal: 2.1s\tremaining: 1.52s\n",
      "580:\tlearn: 0.0985655\ttotal: 2.1s\tremaining: 1.51s\n",
      "581:\tlearn: 0.0983437\ttotal: 2.1s\tremaining: 1.51s\n",
      "582:\tlearn: 0.0981249\ttotal: 2.1s\tremaining: 1.51s\n",
      "583:\tlearn: 0.0979844\ttotal: 2.11s\tremaining: 1.5s\n",
      "584:\tlearn: 0.0976817\ttotal: 2.12s\tremaining: 1.5s\n",
      "585:\tlearn: 0.0975246\ttotal: 2.12s\tremaining: 1.5s\n",
      "586:\tlearn: 0.0973784\ttotal: 2.13s\tremaining: 1.5s\n",
      "587:\tlearn: 0.0971639\ttotal: 2.13s\tremaining: 1.5s\n",
      "588:\tlearn: 0.0970267\ttotal: 2.14s\tremaining: 1.49s\n",
      "589:\tlearn: 0.0968153\ttotal: 2.14s\tremaining: 1.49s\n",
      "590:\tlearn: 0.0966352\ttotal: 2.14s\tremaining: 1.48s\n",
      "591:\tlearn: 0.0964176\ttotal: 2.15s\tremaining: 1.48s\n",
      "592:\tlearn: 0.0961597\ttotal: 2.15s\tremaining: 1.47s\n",
      "593:\tlearn: 0.0960372\ttotal: 2.15s\tremaining: 1.47s\n",
      "594:\tlearn: 0.0958317\ttotal: 2.15s\tremaining: 1.47s\n",
      "595:\tlearn: 0.0955694\ttotal: 2.15s\tremaining: 1.46s\n",
      "596:\tlearn: 0.0954461\ttotal: 2.15s\tremaining: 1.46s\n",
      "597:\tlearn: 0.0954002\ttotal: 2.16s\tremaining: 1.45s\n",
      "598:\tlearn: 0.0951814\ttotal: 2.16s\tremaining: 1.45s\n",
      "599:\tlearn: 0.0950043\ttotal: 2.17s\tremaining: 1.45s\n",
      "600:\tlearn: 0.0948804\ttotal: 2.17s\tremaining: 1.44s\n",
      "601:\tlearn: 0.0947333\ttotal: 2.18s\tremaining: 1.44s\n",
      "602:\tlearn: 0.0945629\ttotal: 2.18s\tremaining: 1.44s\n",
      "603:\tlearn: 0.0942659\ttotal: 2.18s\tremaining: 1.43s\n",
      "604:\tlearn: 0.0941121\ttotal: 2.19s\tremaining: 1.43s\n",
      "605:\tlearn: 0.0940302\ttotal: 2.19s\tremaining: 1.42s\n",
      "606:\tlearn: 0.0937961\ttotal: 2.19s\tremaining: 1.42s\n",
      "607:\tlearn: 0.0936384\ttotal: 2.19s\tremaining: 1.41s\n",
      "608:\tlearn: 0.0934354\ttotal: 2.2s\tremaining: 1.41s\n",
      "609:\tlearn: 0.0932193\ttotal: 2.2s\tremaining: 1.41s\n",
      "610:\tlearn: 0.0931169\ttotal: 2.2s\tremaining: 1.4s\n",
      "611:\tlearn: 0.0928653\ttotal: 2.2s\tremaining: 1.4s\n",
      "612:\tlearn: 0.0926850\ttotal: 2.21s\tremaining: 1.39s\n",
      "613:\tlearn: 0.0925768\ttotal: 2.21s\tremaining: 1.39s\n",
      "614:\tlearn: 0.0924472\ttotal: 2.21s\tremaining: 1.38s\n",
      "615:\tlearn: 0.0922648\ttotal: 2.21s\tremaining: 1.38s\n",
      "616:\tlearn: 0.0920154\ttotal: 2.21s\tremaining: 1.37s\n",
      "617:\tlearn: 0.0917979\ttotal: 2.21s\tremaining: 1.37s\n",
      "618:\tlearn: 0.0917240\ttotal: 2.21s\tremaining: 1.36s\n",
      "619:\tlearn: 0.0915294\ttotal: 2.22s\tremaining: 1.36s\n",
      "620:\tlearn: 0.0913771\ttotal: 2.22s\tremaining: 1.35s\n",
      "621:\tlearn: 0.0913210\ttotal: 2.22s\tremaining: 1.35s\n",
      "622:\tlearn: 0.0911150\ttotal: 2.23s\tremaining: 1.35s\n"
     ]
    },
    {
     "name": "stdout",
     "output_type": "stream",
     "text": [
      "623:\tlearn: 0.0908832\ttotal: 2.23s\tremaining: 1.34s\n",
      "624:\tlearn: 0.0907381\ttotal: 2.23s\tremaining: 1.34s\n",
      "625:\tlearn: 0.0905851\ttotal: 2.23s\tremaining: 1.33s\n",
      "626:\tlearn: 0.0903803\ttotal: 2.24s\tremaining: 1.33s\n",
      "627:\tlearn: 0.0902439\ttotal: 2.24s\tremaining: 1.33s\n",
      "628:\tlearn: 0.0901291\ttotal: 2.24s\tremaining: 1.32s\n",
      "629:\tlearn: 0.0900123\ttotal: 2.25s\tremaining: 1.32s\n",
      "630:\tlearn: 0.0899209\ttotal: 2.26s\tremaining: 1.32s\n",
      "631:\tlearn: 0.0897934\ttotal: 2.26s\tremaining: 1.32s\n",
      "632:\tlearn: 0.0896324\ttotal: 2.27s\tremaining: 1.32s\n",
      "633:\tlearn: 0.0895049\ttotal: 2.27s\tremaining: 1.31s\n",
      "634:\tlearn: 0.0894602\ttotal: 2.27s\tremaining: 1.31s\n",
      "635:\tlearn: 0.0892502\ttotal: 2.27s\tremaining: 1.3s\n",
      "636:\tlearn: 0.0889937\ttotal: 2.28s\tremaining: 1.3s\n",
      "637:\tlearn: 0.0888866\ttotal: 2.28s\tremaining: 1.29s\n",
      "638:\tlearn: 0.0886907\ttotal: 2.28s\tremaining: 1.29s\n",
      "639:\tlearn: 0.0886301\ttotal: 2.28s\tremaining: 1.28s\n",
      "640:\tlearn: 0.0884663\ttotal: 2.28s\tremaining: 1.28s\n",
      "641:\tlearn: 0.0883574\ttotal: 2.29s\tremaining: 1.27s\n",
      "642:\tlearn: 0.0881961\ttotal: 2.29s\tremaining: 1.27s\n",
      "643:\tlearn: 0.0879192\ttotal: 2.29s\tremaining: 1.27s\n",
      "644:\tlearn: 0.0877998\ttotal: 2.3s\tremaining: 1.26s\n",
      "645:\tlearn: 0.0876954\ttotal: 2.3s\tremaining: 1.26s\n",
      "646:\tlearn: 0.0875614\ttotal: 2.3s\tremaining: 1.25s\n",
      "647:\tlearn: 0.0873035\ttotal: 2.3s\tremaining: 1.25s\n",
      "648:\tlearn: 0.0871296\ttotal: 2.3s\tremaining: 1.25s\n",
      "649:\tlearn: 0.0869849\ttotal: 2.31s\tremaining: 1.24s\n",
      "650:\tlearn: 0.0868344\ttotal: 2.31s\tremaining: 1.24s\n",
      "651:\tlearn: 0.0867613\ttotal: 2.31s\tremaining: 1.23s\n",
      "652:\tlearn: 0.0866682\ttotal: 2.31s\tremaining: 1.23s\n",
      "653:\tlearn: 0.0866211\ttotal: 2.32s\tremaining: 1.23s\n",
      "654:\tlearn: 0.0864259\ttotal: 2.32s\tremaining: 1.22s\n",
      "655:\tlearn: 0.0861756\ttotal: 2.33s\tremaining: 1.22s\n",
      "656:\tlearn: 0.0859952\ttotal: 2.33s\tremaining: 1.22s\n",
      "657:\tlearn: 0.0858645\ttotal: 2.33s\tremaining: 1.21s\n",
      "658:\tlearn: 0.0857037\ttotal: 2.33s\tremaining: 1.21s\n",
      "659:\tlearn: 0.0855431\ttotal: 2.34s\tremaining: 1.2s\n",
      "660:\tlearn: 0.0854279\ttotal: 2.34s\tremaining: 1.2s\n",
      "661:\tlearn: 0.0852040\ttotal: 2.34s\tremaining: 1.19s\n",
      "662:\tlearn: 0.0849889\ttotal: 2.34s\tremaining: 1.19s\n",
      "663:\tlearn: 0.0849748\ttotal: 2.34s\tremaining: 1.19s\n",
      "664:\tlearn: 0.0848232\ttotal: 2.35s\tremaining: 1.18s\n",
      "665:\tlearn: 0.0846733\ttotal: 2.35s\tremaining: 1.18s\n",
      "666:\tlearn: 0.0844736\ttotal: 2.35s\tremaining: 1.17s\n",
      "667:\tlearn: 0.0843024\ttotal: 2.35s\tremaining: 1.17s\n",
      "668:\tlearn: 0.0841224\ttotal: 2.35s\tremaining: 1.16s\n",
      "669:\tlearn: 0.0840436\ttotal: 2.35s\tremaining: 1.16s\n",
      "670:\tlearn: 0.0838910\ttotal: 2.35s\tremaining: 1.15s\n",
      "671:\tlearn: 0.0837316\ttotal: 2.35s\tremaining: 1.15s\n",
      "672:\tlearn: 0.0836197\ttotal: 2.36s\tremaining: 1.15s\n",
      "673:\tlearn: 0.0835683\ttotal: 2.36s\tremaining: 1.14s\n",
      "674:\tlearn: 0.0834207\ttotal: 2.36s\tremaining: 1.14s\n",
      "675:\tlearn: 0.0833951\ttotal: 2.36s\tremaining: 1.13s\n",
      "676:\tlearn: 0.0832707\ttotal: 2.36s\tremaining: 1.13s\n",
      "677:\tlearn: 0.0830623\ttotal: 2.36s\tremaining: 1.12s\n",
      "678:\tlearn: 0.0830159\ttotal: 2.37s\tremaining: 1.12s\n",
      "679:\tlearn: 0.0828378\ttotal: 2.37s\tremaining: 1.11s\n",
      "680:\tlearn: 0.0826367\ttotal: 2.37s\tremaining: 1.11s\n",
      "681:\tlearn: 0.0824190\ttotal: 2.37s\tremaining: 1.1s\n",
      "682:\tlearn: 0.0822641\ttotal: 2.37s\tremaining: 1.1s\n"
     ]
    },
    {
     "name": "stdout",
     "output_type": "stream",
     "text": [
      "683:\tlearn: 0.0822066\ttotal: 2.37s\tremaining: 1.1s\n",
      "684:\tlearn: 0.0820032\ttotal: 2.38s\tremaining: 1.09s\n",
      "685:\tlearn: 0.0819039\ttotal: 2.38s\tremaining: 1.09s\n",
      "686:\tlearn: 0.0817949\ttotal: 2.38s\tremaining: 1.08s\n",
      "687:\tlearn: 0.0816231\ttotal: 2.38s\tremaining: 1.08s\n",
      "688:\tlearn: 0.0815235\ttotal: 2.38s\tremaining: 1.07s\n",
      "689:\tlearn: 0.0814213\ttotal: 2.38s\tremaining: 1.07s\n",
      "690:\tlearn: 0.0812819\ttotal: 2.39s\tremaining: 1.07s\n",
      "691:\tlearn: 0.0811349\ttotal: 2.39s\tremaining: 1.06s\n",
      "692:\tlearn: 0.0809951\ttotal: 2.39s\tremaining: 1.06s\n",
      "693:\tlearn: 0.0808013\ttotal: 2.4s\tremaining: 1.06s\n",
      "694:\tlearn: 0.0806582\ttotal: 2.4s\tremaining: 1.05s\n",
      "695:\tlearn: 0.0805907\ttotal: 2.43s\tremaining: 1.06s\n",
      "696:\tlearn: 0.0804292\ttotal: 2.43s\tremaining: 1.06s\n",
      "697:\tlearn: 0.0802975\ttotal: 2.44s\tremaining: 1.05s\n"
     ]
    },
    {
     "name": "stdout",
     "output_type": "stream",
     "text": [
      "698:\tlearn: 0.0801901\ttotal: 2.49s\tremaining: 1.07s\n",
      "699:\tlearn: 0.0800090\ttotal: 2.5s\tremaining: 1.07s\n",
      "700:\tlearn: 0.0798321\ttotal: 2.5s\tremaining: 1.07s\n",
      "701:\tlearn: 0.0796656\ttotal: 2.51s\tremaining: 1.06s\n",
      "702:\tlearn: 0.0796247\ttotal: 2.51s\tremaining: 1.06s\n",
      "703:\tlearn: 0.0794432\ttotal: 2.51s\tremaining: 1.06s\n",
      "704:\tlearn: 0.0793421\ttotal: 2.52s\tremaining: 1.05s\n",
      "705:\tlearn: 0.0791767\ttotal: 2.52s\tremaining: 1.05s\n",
      "706:\tlearn: 0.0790302\ttotal: 2.53s\tremaining: 1.05s\n",
      "707:\tlearn: 0.0789141\ttotal: 2.53s\tremaining: 1.04s\n",
      "708:\tlearn: 0.0787634\ttotal: 2.54s\tremaining: 1.04s\n",
      "709:\tlearn: 0.0786020\ttotal: 2.54s\tremaining: 1.04s\n",
      "710:\tlearn: 0.0784411\ttotal: 2.54s\tremaining: 1.03s\n",
      "711:\tlearn: 0.0782972\ttotal: 2.54s\tremaining: 1.03s\n",
      "712:\tlearn: 0.0781353\ttotal: 2.55s\tremaining: 1.02s\n",
      "713:\tlearn: 0.0779270\ttotal: 2.55s\tremaining: 1.02s\n",
      "714:\tlearn: 0.0778244\ttotal: 2.55s\tremaining: 1.02s\n",
      "715:\tlearn: 0.0776825\ttotal: 2.56s\tremaining: 1.01s\n",
      "716:\tlearn: 0.0775733\ttotal: 2.56s\tremaining: 1.01s\n",
      "717:\tlearn: 0.0774525\ttotal: 2.57s\tremaining: 1.01s\n",
      "718:\tlearn: 0.0773985\ttotal: 2.57s\tremaining: 1.01s\n",
      "719:\tlearn: 0.0772022\ttotal: 2.58s\tremaining: 1s\n",
      "720:\tlearn: 0.0770380\ttotal: 2.58s\tremaining: 999ms\n",
      "721:\tlearn: 0.0770017\ttotal: 2.59s\tremaining: 997ms\n",
      "722:\tlearn: 0.0768718\ttotal: 2.59s\tremaining: 993ms\n",
      "723:\tlearn: 0.0767000\ttotal: 2.59s\tremaining: 989ms\n",
      "724:\tlearn: 0.0766421\ttotal: 2.6s\tremaining: 985ms\n",
      "725:\tlearn: 0.0764726\ttotal: 2.6s\tremaining: 981ms\n",
      "726:\tlearn: 0.0763081\ttotal: 2.6s\tremaining: 976ms\n",
      "727:\tlearn: 0.0761523\ttotal: 2.6s\tremaining: 972ms\n",
      "728:\tlearn: 0.0760454\ttotal: 2.6s\tremaining: 968ms\n",
      "729:\tlearn: 0.0758886\ttotal: 2.6s\tremaining: 963ms\n",
      "730:\tlearn: 0.0756722\ttotal: 2.61s\tremaining: 959ms\n",
      "731:\tlearn: 0.0755557\ttotal: 2.61s\tremaining: 955ms\n",
      "732:\tlearn: 0.0754509\ttotal: 2.61s\tremaining: 950ms\n",
      "733:\tlearn: 0.0753331\ttotal: 2.61s\tremaining: 946ms\n",
      "734:\tlearn: 0.0751816\ttotal: 2.61s\tremaining: 942ms\n",
      "735:\tlearn: 0.0749818\ttotal: 2.61s\tremaining: 937ms\n",
      "736:\tlearn: 0.0748574\ttotal: 2.61s\tremaining: 933ms\n",
      "737:\tlearn: 0.0748295\ttotal: 2.62s\tremaining: 929ms\n",
      "738:\tlearn: 0.0747226\ttotal: 2.62s\tremaining: 924ms\n",
      "739:\tlearn: 0.0745125\ttotal: 2.62s\tremaining: 920ms\n",
      "740:\tlearn: 0.0744710\ttotal: 2.62s\tremaining: 916ms\n",
      "741:\tlearn: 0.0743838\ttotal: 2.62s\tremaining: 912ms\n",
      "742:\tlearn: 0.0742717\ttotal: 2.62s\tremaining: 907ms\n",
      "743:\tlearn: 0.0741948\ttotal: 2.62s\tremaining: 903ms\n",
      "744:\tlearn: 0.0740848\ttotal: 2.63s\tremaining: 899ms\n",
      "745:\tlearn: 0.0739590\ttotal: 2.63s\tremaining: 895ms\n",
      "746:\tlearn: 0.0738193\ttotal: 2.63s\tremaining: 890ms\n",
      "747:\tlearn: 0.0737027\ttotal: 2.63s\tremaining: 886ms\n",
      "748:\tlearn: 0.0735481\ttotal: 2.63s\tremaining: 882ms\n",
      "749:\tlearn: 0.0734472\ttotal: 2.63s\tremaining: 878ms\n",
      "750:\tlearn: 0.0734113\ttotal: 2.63s\tremaining: 874ms\n",
      "751:\tlearn: 0.0733759\ttotal: 2.64s\tremaining: 870ms\n",
      "752:\tlearn: 0.0732424\ttotal: 2.64s\tremaining: 865ms\n",
      "753:\tlearn: 0.0731211\ttotal: 2.64s\tremaining: 861ms\n",
      "754:\tlearn: 0.0730331\ttotal: 2.64s\tremaining: 857ms\n",
      "755:\tlearn: 0.0728972\ttotal: 2.64s\tremaining: 853ms\n",
      "756:\tlearn: 0.0727763\ttotal: 2.64s\tremaining: 849ms\n",
      "757:\tlearn: 0.0726814\ttotal: 2.65s\tremaining: 845ms\n",
      "758:\tlearn: 0.0725181\ttotal: 2.65s\tremaining: 840ms\n",
      "759:\tlearn: 0.0723534\ttotal: 2.65s\tremaining: 836ms\n"
     ]
    },
    {
     "name": "stdout",
     "output_type": "stream",
     "text": [
      "760:\tlearn: 0.0723111\ttotal: 2.65s\tremaining: 833ms\n",
      "761:\tlearn: 0.0721831\ttotal: 2.65s\tremaining: 829ms\n",
      "762:\tlearn: 0.0720260\ttotal: 2.65s\tremaining: 825ms\n",
      "763:\tlearn: 0.0718267\ttotal: 2.66s\tremaining: 821ms\n",
      "764:\tlearn: 0.0717615\ttotal: 2.66s\tremaining: 817ms\n",
      "765:\tlearn: 0.0716905\ttotal: 2.66s\tremaining: 813ms\n",
      "766:\tlearn: 0.0715742\ttotal: 2.67s\tremaining: 811ms\n",
      "767:\tlearn: 0.0714314\ttotal: 2.67s\tremaining: 807ms\n",
      "768:\tlearn: 0.0713410\ttotal: 2.67s\tremaining: 803ms\n",
      "769:\tlearn: 0.0712277\ttotal: 2.67s\tremaining: 799ms\n",
      "770:\tlearn: 0.0711294\ttotal: 2.67s\tremaining: 795ms\n",
      "771:\tlearn: 0.0710803\ttotal: 2.68s\tremaining: 791ms\n",
      "772:\tlearn: 0.0709308\ttotal: 2.68s\tremaining: 787ms\n",
      "773:\tlearn: 0.0708349\ttotal: 2.68s\tremaining: 783ms\n",
      "774:\tlearn: 0.0706491\ttotal: 2.68s\tremaining: 779ms\n",
      "775:\tlearn: 0.0705962\ttotal: 2.68s\tremaining: 775ms\n",
      "776:\tlearn: 0.0704762\ttotal: 2.69s\tremaining: 771ms\n",
      "777:\tlearn: 0.0703816\ttotal: 2.69s\tremaining: 767ms\n",
      "778:\tlearn: 0.0703179\ttotal: 2.69s\tremaining: 763ms\n",
      "779:\tlearn: 0.0702859\ttotal: 2.69s\tremaining: 759ms\n",
      "780:\tlearn: 0.0702281\ttotal: 2.69s\tremaining: 755ms\n",
      "781:\tlearn: 0.0701403\ttotal: 2.69s\tremaining: 751ms\n",
      "782:\tlearn: 0.0700578\ttotal: 2.69s\tremaining: 747ms\n",
      "783:\tlearn: 0.0699101\ttotal: 2.7s\tremaining: 743ms\n",
      "784:\tlearn: 0.0698407\ttotal: 2.7s\tremaining: 739ms\n",
      "785:\tlearn: 0.0697649\ttotal: 2.7s\tremaining: 735ms\n",
      "786:\tlearn: 0.0695824\ttotal: 2.7s\tremaining: 731ms\n",
      "787:\tlearn: 0.0695243\ttotal: 2.7s\tremaining: 727ms\n",
      "788:\tlearn: 0.0694377\ttotal: 2.7s\tremaining: 723ms\n",
      "789:\tlearn: 0.0693343\ttotal: 2.71s\tremaining: 719ms\n",
      "790:\tlearn: 0.0692342\ttotal: 2.71s\tremaining: 715ms\n",
      "791:\tlearn: 0.0690812\ttotal: 2.71s\tremaining: 711ms\n",
      "792:\tlearn: 0.0689442\ttotal: 2.71s\tremaining: 707ms\n",
      "793:\tlearn: 0.0689291\ttotal: 2.71s\tremaining: 703ms\n",
      "794:\tlearn: 0.0688723\ttotal: 2.71s\tremaining: 700ms\n",
      "795:\tlearn: 0.0687314\ttotal: 2.71s\tremaining: 696ms\n",
      "796:\tlearn: 0.0686038\ttotal: 2.71s\tremaining: 692ms\n",
      "797:\tlearn: 0.0685405\ttotal: 2.72s\tremaining: 688ms\n",
      "798:\tlearn: 0.0684545\ttotal: 2.72s\tremaining: 684ms\n",
      "799:\tlearn: 0.0682922\ttotal: 2.72s\tremaining: 680ms\n",
      "800:\tlearn: 0.0681815\ttotal: 2.72s\tremaining: 676ms\n",
      "801:\tlearn: 0.0680916\ttotal: 2.73s\tremaining: 673ms\n",
      "802:\tlearn: 0.0680041\ttotal: 2.73s\tremaining: 669ms\n",
      "803:\tlearn: 0.0678888\ttotal: 2.73s\tremaining: 665ms\n",
      "804:\tlearn: 0.0676817\ttotal: 2.73s\tremaining: 661ms\n",
      "805:\tlearn: 0.0675502\ttotal: 2.73s\tremaining: 658ms\n",
      "806:\tlearn: 0.0674456\ttotal: 2.73s\tremaining: 654ms\n",
      "807:\tlearn: 0.0672767\ttotal: 2.73s\tremaining: 650ms\n",
      "808:\tlearn: 0.0671820\ttotal: 2.74s\tremaining: 646ms\n",
      "809:\tlearn: 0.0671446\ttotal: 2.74s\tremaining: 643ms\n",
      "810:\tlearn: 0.0670942\ttotal: 2.74s\tremaining: 639ms\n",
      "811:\tlearn: 0.0669316\ttotal: 2.74s\tremaining: 635ms\n",
      "812:\tlearn: 0.0668087\ttotal: 2.74s\tremaining: 631ms\n",
      "813:\tlearn: 0.0667569\ttotal: 2.75s\tremaining: 627ms\n",
      "814:\tlearn: 0.0666491\ttotal: 2.75s\tremaining: 624ms\n",
      "815:\tlearn: 0.0665259\ttotal: 2.75s\tremaining: 620ms\n",
      "816:\tlearn: 0.0664320\ttotal: 2.75s\tremaining: 616ms\n",
      "817:\tlearn: 0.0663357\ttotal: 2.75s\tremaining: 612ms\n",
      "818:\tlearn: 0.0662912\ttotal: 2.75s\tremaining: 609ms\n",
      "819:\tlearn: 0.0661526\ttotal: 2.75s\tremaining: 605ms\n",
      "820:\tlearn: 0.0660518\ttotal: 2.76s\tremaining: 601ms\n",
      "821:\tlearn: 0.0659230\ttotal: 2.76s\tremaining: 597ms\n",
      "822:\tlearn: 0.0657703\ttotal: 2.76s\tremaining: 594ms\n",
      "823:\tlearn: 0.0656782\ttotal: 2.76s\tremaining: 590ms\n",
      "824:\tlearn: 0.0656191\ttotal: 2.76s\tremaining: 586ms\n",
      "825:\tlearn: 0.0655176\ttotal: 2.77s\tremaining: 583ms\n",
      "826:\tlearn: 0.0654635\ttotal: 2.77s\tremaining: 579ms\n",
      "827:\tlearn: 0.0653432\ttotal: 2.77s\tremaining: 575ms\n",
      "828:\tlearn: 0.0653019\ttotal: 2.77s\tremaining: 572ms\n",
      "829:\tlearn: 0.0651688\ttotal: 2.77s\tremaining: 568ms\n",
      "830:\tlearn: 0.0650689\ttotal: 2.77s\tremaining: 564ms\n",
      "831:\tlearn: 0.0649535\ttotal: 2.77s\tremaining: 561ms\n",
      "832:\tlearn: 0.0649015\ttotal: 2.78s\tremaining: 557ms\n",
      "833:\tlearn: 0.0647973\ttotal: 2.78s\tremaining: 553ms\n",
      "834:\tlearn: 0.0646758\ttotal: 2.78s\tremaining: 550ms\n",
      "835:\tlearn: 0.0646285\ttotal: 2.78s\tremaining: 546ms\n",
      "836:\tlearn: 0.0645134\ttotal: 2.78s\tremaining: 542ms\n",
      "837:\tlearn: 0.0643950\ttotal: 2.79s\tremaining: 538ms\n",
      "838:\tlearn: 0.0642982\ttotal: 2.79s\tremaining: 535ms\n",
      "839:\tlearn: 0.0641948\ttotal: 2.79s\tremaining: 531ms\n",
      "840:\tlearn: 0.0640977\ttotal: 2.79s\tremaining: 528ms\n",
      "841:\tlearn: 0.0640074\ttotal: 2.79s\tremaining: 524ms\n",
      "842:\tlearn: 0.0639241\ttotal: 2.79s\tremaining: 520ms\n",
      "843:\tlearn: 0.0638831\ttotal: 2.79s\tremaining: 517ms\n",
      "844:\tlearn: 0.0637815\ttotal: 2.8s\tremaining: 514ms\n",
      "845:\tlearn: 0.0637356\ttotal: 2.8s\tremaining: 510ms\n",
      "846:\tlearn: 0.0636022\ttotal: 2.8s\tremaining: 507ms\n",
      "847:\tlearn: 0.0635366\ttotal: 2.81s\tremaining: 503ms\n",
      "848:\tlearn: 0.0634625\ttotal: 2.81s\tremaining: 499ms\n",
      "849:\tlearn: 0.0634554\ttotal: 2.81s\tremaining: 496ms\n",
      "850:\tlearn: 0.0633085\ttotal: 2.81s\tremaining: 493ms\n",
      "851:\tlearn: 0.0632602\ttotal: 2.81s\tremaining: 489ms\n",
      "852:\tlearn: 0.0631808\ttotal: 2.81s\tremaining: 485ms\n",
      "853:\tlearn: 0.0631242\ttotal: 2.82s\tremaining: 482ms\n",
      "854:\tlearn: 0.0630311\ttotal: 2.82s\tremaining: 478ms\n",
      "855:\tlearn: 0.0629052\ttotal: 2.83s\tremaining: 475ms\n",
      "856:\tlearn: 0.0628899\ttotal: 2.83s\tremaining: 472ms\n",
      "857:\tlearn: 0.0627825\ttotal: 2.83s\tremaining: 468ms\n"
     ]
    },
    {
     "name": "stdout",
     "output_type": "stream",
     "text": [
      "858:\tlearn: 0.0626541\ttotal: 2.83s\tremaining: 465ms\n",
      "859:\tlearn: 0.0625954\ttotal: 2.83s\tremaining: 461ms\n",
      "860:\tlearn: 0.0624498\ttotal: 2.84s\tremaining: 458ms\n",
      "861:\tlearn: 0.0623060\ttotal: 2.84s\tremaining: 455ms\n",
      "862:\tlearn: 0.0622187\ttotal: 2.84s\tremaining: 452ms\n",
      "863:\tlearn: 0.0621937\ttotal: 2.85s\tremaining: 448ms\n",
      "864:\tlearn: 0.0620860\ttotal: 2.85s\tremaining: 445ms\n",
      "865:\tlearn: 0.0620506\ttotal: 2.85s\tremaining: 441ms\n",
      "866:\tlearn: 0.0619926\ttotal: 2.86s\tremaining: 438ms\n",
      "867:\tlearn: 0.0619303\ttotal: 2.86s\tremaining: 435ms\n",
      "868:\tlearn: 0.0618237\ttotal: 2.86s\tremaining: 431ms\n",
      "869:\tlearn: 0.0616874\ttotal: 2.86s\tremaining: 428ms\n",
      "870:\tlearn: 0.0616171\ttotal: 2.87s\tremaining: 424ms\n",
      "871:\tlearn: 0.0615525\ttotal: 2.87s\tremaining: 421ms\n",
      "872:\tlearn: 0.0614567\ttotal: 2.87s\tremaining: 418ms\n",
      "873:\tlearn: 0.0613510\ttotal: 2.87s\tremaining: 414ms\n",
      "874:\tlearn: 0.0613227\ttotal: 2.87s\tremaining: 411ms\n",
      "875:\tlearn: 0.0612323\ttotal: 2.88s\tremaining: 407ms\n",
      "876:\tlearn: 0.0611402\ttotal: 2.88s\tremaining: 404ms\n",
      "877:\tlearn: 0.0609663\ttotal: 2.88s\tremaining: 400ms\n",
      "878:\tlearn: 0.0608498\ttotal: 2.88s\tremaining: 397ms\n",
      "879:\tlearn: 0.0607474\ttotal: 2.88s\tremaining: 393ms\n",
      "880:\tlearn: 0.0606491\ttotal: 2.88s\tremaining: 390ms\n",
      "881:\tlearn: 0.0606359\ttotal: 2.89s\tremaining: 386ms\n",
      "882:\tlearn: 0.0605462\ttotal: 2.89s\tremaining: 383ms\n",
      "883:\tlearn: 0.0604299\ttotal: 2.89s\tremaining: 379ms\n",
      "884:\tlearn: 0.0603632\ttotal: 2.89s\tremaining: 376ms\n",
      "885:\tlearn: 0.0602359\ttotal: 2.89s\tremaining: 372ms\n",
      "886:\tlearn: 0.0602020\ttotal: 2.9s\tremaining: 369ms\n",
      "887:\tlearn: 0.0601848\ttotal: 2.9s\tremaining: 366ms\n",
      "888:\tlearn: 0.0600174\ttotal: 2.9s\tremaining: 362ms\n",
      "889:\tlearn: 0.0598735\ttotal: 2.9s\tremaining: 359ms\n",
      "890:\tlearn: 0.0598296\ttotal: 2.9s\tremaining: 355ms\n",
      "891:\tlearn: 0.0597568\ttotal: 2.91s\tremaining: 352ms\n",
      "892:\tlearn: 0.0596473\ttotal: 2.91s\tremaining: 348ms\n",
      "893:\tlearn: 0.0595827\ttotal: 2.91s\tremaining: 345ms\n",
      "894:\tlearn: 0.0594698\ttotal: 2.91s\tremaining: 342ms\n",
      "895:\tlearn: 0.0593933\ttotal: 2.92s\tremaining: 338ms\n",
      "896:\tlearn: 0.0593407\ttotal: 2.92s\tremaining: 335ms\n",
      "897:\tlearn: 0.0592757\ttotal: 2.92s\tremaining: 332ms\n",
      "898:\tlearn: 0.0592418\ttotal: 2.92s\tremaining: 328ms\n",
      "899:\tlearn: 0.0592009\ttotal: 2.92s\tremaining: 325ms\n",
      "900:\tlearn: 0.0591837\ttotal: 2.93s\tremaining: 322ms\n",
      "901:\tlearn: 0.0590667\ttotal: 2.93s\tremaining: 318ms\n",
      "902:\tlearn: 0.0590047\ttotal: 2.94s\tremaining: 315ms\n",
      "903:\tlearn: 0.0589588\ttotal: 2.94s\tremaining: 312ms\n",
      "904:\tlearn: 0.0589237\ttotal: 2.94s\tremaining: 309ms\n",
      "905:\tlearn: 0.0588367\ttotal: 2.94s\tremaining: 305ms\n",
      "906:\tlearn: 0.0587563\ttotal: 2.94s\tremaining: 302ms\n",
      "907:\tlearn: 0.0586668\ttotal: 2.94s\tremaining: 298ms\n",
      "908:\tlearn: 0.0585873\ttotal: 2.95s\tremaining: 295ms\n",
      "909:\tlearn: 0.0585116\ttotal: 2.95s\tremaining: 292ms\n",
      "910:\tlearn: 0.0584368\ttotal: 2.95s\tremaining: 288ms\n",
      "911:\tlearn: 0.0584246\ttotal: 2.95s\tremaining: 285ms\n",
      "912:\tlearn: 0.0584126\ttotal: 2.96s\tremaining: 282ms\n",
      "913:\tlearn: 0.0582898\ttotal: 2.96s\tremaining: 278ms\n",
      "914:\tlearn: 0.0582155\ttotal: 2.96s\tremaining: 275ms\n",
      "915:\tlearn: 0.0581073\ttotal: 2.96s\tremaining: 272ms\n",
      "916:\tlearn: 0.0580833\ttotal: 2.96s\tremaining: 268ms\n",
      "917:\tlearn: 0.0580711\ttotal: 2.97s\tremaining: 265ms\n",
      "918:\tlearn: 0.0579631\ttotal: 2.97s\tremaining: 262ms\n",
      "919:\tlearn: 0.0578396\ttotal: 2.97s\tremaining: 258ms\n",
      "920:\tlearn: 0.0577616\ttotal: 2.97s\tremaining: 255ms\n",
      "921:\tlearn: 0.0577431\ttotal: 2.97s\tremaining: 252ms\n",
      "922:\tlearn: 0.0577152\ttotal: 2.98s\tremaining: 248ms\n",
      "923:\tlearn: 0.0576339\ttotal: 2.98s\tremaining: 245ms\n",
      "924:\tlearn: 0.0575237\ttotal: 2.98s\tremaining: 242ms\n",
      "925:\tlearn: 0.0574940\ttotal: 2.98s\tremaining: 238ms\n",
      "926:\tlearn: 0.0574429\ttotal: 2.99s\tremaining: 235ms\n",
      "927:\tlearn: 0.0573225\ttotal: 2.99s\tremaining: 232ms\n",
      "928:\tlearn: 0.0571991\ttotal: 2.99s\tremaining: 228ms\n"
     ]
    },
    {
     "name": "stdout",
     "output_type": "stream",
     "text": [
      "929:\tlearn: 0.0571205\ttotal: 2.99s\tremaining: 225ms\n",
      "930:\tlearn: 0.0569934\ttotal: 2.99s\tremaining: 222ms\n",
      "931:\tlearn: 0.0569036\ttotal: 3s\tremaining: 219ms\n",
      "932:\tlearn: 0.0568779\ttotal: 3s\tremaining: 215ms\n",
      "933:\tlearn: 0.0568199\ttotal: 3s\tremaining: 212ms\n",
      "934:\tlearn: 0.0567218\ttotal: 3s\tremaining: 209ms\n",
      "935:\tlearn: 0.0566135\ttotal: 3s\tremaining: 205ms\n",
      "936:\tlearn: 0.0564953\ttotal: 3.01s\tremaining: 202ms\n",
      "937:\tlearn: 0.0563888\ttotal: 3.01s\tremaining: 199ms\n",
      "938:\tlearn: 0.0562486\ttotal: 3.02s\tremaining: 196ms\n",
      "939:\tlearn: 0.0561669\ttotal: 3.02s\tremaining: 193ms\n",
      "940:\tlearn: 0.0560956\ttotal: 3.03s\tremaining: 190ms\n",
      "941:\tlearn: 0.0560559\ttotal: 3.03s\tremaining: 187ms\n",
      "942:\tlearn: 0.0560192\ttotal: 3.03s\tremaining: 183ms\n",
      "943:\tlearn: 0.0559286\ttotal: 3.03s\tremaining: 180ms\n",
      "944:\tlearn: 0.0558229\ttotal: 3.04s\tremaining: 177ms\n",
      "945:\tlearn: 0.0556582\ttotal: 3.04s\tremaining: 174ms\n",
      "946:\tlearn: 0.0556029\ttotal: 3.04s\tremaining: 170ms\n",
      "947:\tlearn: 0.0555964\ttotal: 3.05s\tremaining: 167ms\n",
      "948:\tlearn: 0.0555380\ttotal: 3.05s\tremaining: 164ms\n",
      "949:\tlearn: 0.0554170\ttotal: 3.05s\tremaining: 161ms\n",
      "950:\tlearn: 0.0552625\ttotal: 3.05s\tremaining: 157ms\n",
      "951:\tlearn: 0.0551497\ttotal: 3.06s\tremaining: 154ms\n",
      "952:\tlearn: 0.0550608\ttotal: 3.06s\tremaining: 151ms\n",
      "953:\tlearn: 0.0549750\ttotal: 3.06s\tremaining: 148ms\n",
      "954:\tlearn: 0.0548774\ttotal: 3.06s\tremaining: 144ms\n",
      "955:\tlearn: 0.0547464\ttotal: 3.06s\tremaining: 141ms\n",
      "956:\tlearn: 0.0546350\ttotal: 3.06s\tremaining: 138ms\n",
      "957:\tlearn: 0.0545152\ttotal: 3.07s\tremaining: 134ms\n",
      "958:\tlearn: 0.0544474\ttotal: 3.07s\tremaining: 131ms\n",
      "959:\tlearn: 0.0543983\ttotal: 3.07s\tremaining: 128ms\n",
      "960:\tlearn: 0.0543420\ttotal: 3.07s\tremaining: 125ms\n",
      "961:\tlearn: 0.0542931\ttotal: 3.07s\tremaining: 121ms\n",
      "962:\tlearn: 0.0542749\ttotal: 3.08s\tremaining: 118ms\n",
      "963:\tlearn: 0.0542114\ttotal: 3.08s\tremaining: 115ms\n",
      "964:\tlearn: 0.0541283\ttotal: 3.08s\tremaining: 112ms\n",
      "965:\tlearn: 0.0540172\ttotal: 3.08s\tremaining: 109ms\n",
      "966:\tlearn: 0.0539743\ttotal: 3.08s\tremaining: 105ms\n",
      "967:\tlearn: 0.0538910\ttotal: 3.09s\tremaining: 102ms\n",
      "968:\tlearn: 0.0537681\ttotal: 3.09s\tremaining: 98.8ms\n",
      "969:\tlearn: 0.0536247\ttotal: 3.09s\tremaining: 95.6ms\n",
      "970:\tlearn: 0.0535139\ttotal: 3.09s\tremaining: 92.3ms\n",
      "971:\tlearn: 0.0534336\ttotal: 3.1s\tremaining: 89.2ms\n",
      "972:\tlearn: 0.0533492\ttotal: 3.1s\tremaining: 85.9ms\n",
      "973:\tlearn: 0.0532500\ttotal: 3.1s\tremaining: 82.7ms\n",
      "974:\tlearn: 0.0532360\ttotal: 3.1s\tremaining: 79.5ms\n",
      "975:\tlearn: 0.0531583\ttotal: 3.1s\tremaining: 76.3ms\n",
      "976:\tlearn: 0.0530892\ttotal: 3.1s\tremaining: 73.1ms\n",
      "977:\tlearn: 0.0529813\ttotal: 3.11s\tremaining: 69.9ms\n",
      "978:\tlearn: 0.0529021\ttotal: 3.11s\tremaining: 66.7ms\n",
      "979:\tlearn: 0.0528956\ttotal: 3.11s\tremaining: 63.5ms\n",
      "980:\tlearn: 0.0528717\ttotal: 3.11s\tremaining: 60.3ms\n",
      "981:\tlearn: 0.0528215\ttotal: 3.11s\tremaining: 57.1ms\n",
      "982:\tlearn: 0.0528164\ttotal: 3.12s\tremaining: 53.9ms\n",
      "983:\tlearn: 0.0527299\ttotal: 3.12s\tremaining: 50.7ms\n",
      "984:\tlearn: 0.0526676\ttotal: 3.12s\tremaining: 47.5ms\n",
      "985:\tlearn: 0.0526044\ttotal: 3.12s\tremaining: 44.3ms\n",
      "986:\tlearn: 0.0525572\ttotal: 3.12s\tremaining: 41.1ms\n",
      "987:\tlearn: 0.0524482\ttotal: 3.13s\tremaining: 38ms\n",
      "988:\tlearn: 0.0523884\ttotal: 3.13s\tremaining: 34.8ms\n",
      "989:\tlearn: 0.0523328\ttotal: 3.13s\tremaining: 31.6ms\n",
      "990:\tlearn: 0.0522532\ttotal: 3.13s\tremaining: 28.4ms\n",
      "991:\tlearn: 0.0521613\ttotal: 3.13s\tremaining: 25.3ms\n",
      "992:\tlearn: 0.0520660\ttotal: 3.14s\tremaining: 22.1ms\n",
      "993:\tlearn: 0.0519766\ttotal: 3.14s\tremaining: 19ms\n",
      "994:\tlearn: 0.0519376\ttotal: 3.15s\tremaining: 15.8ms\n"
     ]
    },
    {
     "name": "stdout",
     "output_type": "stream",
     "text": [
      "995:\tlearn: 0.0518990\ttotal: 3.15s\tremaining: 12.7ms\n",
      "996:\tlearn: 0.0517560\ttotal: 3.15s\tremaining: 9.49ms\n",
      "997:\tlearn: 0.0516319\ttotal: 3.15s\tremaining: 6.32ms\n",
      "998:\tlearn: 0.0515830\ttotal: 3.16s\tremaining: 3.16ms\n",
      "999:\tlearn: 0.0515215\ttotal: 3.16s\tremaining: 0us\n",
      "Mean Absolute error 0.2044840952942296\n"
     ]
    },
    {
     "data": {
      "application/scrapbook.scrap.json+json": {
       "data": 0.2044840952942296,
       "encoder": "json",
       "name": "Catboost MAE",
       "version": 1
      }
     },
     "metadata": {
      "scrapbook": {
       "data": true,
       "display": false,
       "name": "Catboost MAE"
      }
     },
     "output_type": "display_data"
    },
    {
     "name": "stdout",
     "output_type": "stream",
     "text": [
      "Catboost MAE 0.2044840952942296\n"
     ]
    }
   ],
   "source": [
    "mae_cb = baselineModels.catboost(X_train,y_train,X_test,y_test)\n",
    "#Store MSE Value\n",
    "sb.glue(\"Catboost MAE\",mae_cb)\n",
    "print(\"Catboost MAE\",mae_cb)"
   ]
  },
  {
   "cell_type": "markdown",
   "id": "3c3382ea",
   "metadata": {
    "papermill": {
     "duration": 0.015438,
     "end_time": "2022-07-21T10:24:09.725513",
     "exception": false,
     "start_time": "2022-07-21T10:24:09.710075",
     "status": "completed"
    },
    "tags": []
   },
   "source": [
    "# TabNet Regressor"
   ]
  },
  {
   "cell_type": "code",
   "execution_count": 7,
   "id": "b940dc8e",
   "metadata": {
    "execution": {
     "iopub.execute_input": "2022-07-21T10:24:09.761929Z",
     "iopub.status.busy": "2022-07-21T10:24:09.761618Z",
     "iopub.status.idle": "2022-07-21T10:24:09.773862Z",
     "shell.execute_reply": "2022-07-21T10:24:09.771082Z"
    },
    "papermill": {
     "duration": 0.032749,
     "end_time": "2022-07-21T10:24:09.778432",
     "exception": false,
     "start_time": "2022-07-21T10:24:09.745683",
     "status": "completed"
    },
    "tags": []
   },
   "outputs": [],
   "source": [
    "n_epochs = 1000\n",
    "batch_size = 32"
   ]
  },
  {
   "cell_type": "code",
   "execution_count": 8,
   "id": "cd836639",
   "metadata": {
    "execution": {
     "iopub.execute_input": "2022-07-21T10:24:09.802541Z",
     "iopub.status.busy": "2022-07-21T10:24:09.802245Z",
     "iopub.status.idle": "2022-07-21T10:27:30.177753Z",
     "shell.execute_reply": "2022-07-21T10:27:30.159096Z"
    },
    "papermill": {
     "duration": 200.473596,
     "end_time": "2022-07-21T10:27:30.264580",
     "exception": false,
     "start_time": "2022-07-21T10:24:09.790984",
     "status": "completed"
    },
    "tags": []
   },
   "outputs": [
    {
     "name": "stdout",
     "output_type": "stream",
     "text": [
      "Device used : cpu\n"
     ]
    },
    {
     "name": "stdout",
     "output_type": "stream",
     "text": [
      "epoch 0  | loss: 2.48667 | train_mse: 1.56119 | train_mae: 0.80268 |  0:00:01s\n"
     ]
    },
    {
     "name": "stdout",
     "output_type": "stream",
     "text": [
      "epoch 1  | loss: 0.78385 | train_mse: 0.99979 | train_mae: 0.70424 |  0:00:02s\n"
     ]
    },
    {
     "name": "stdout",
     "output_type": "stream",
     "text": [
      "epoch 2  | loss: 0.60141 | train_mse: 0.67037 | train_mae: 0.55531 |  0:00:02s\n"
     ]
    },
    {
     "name": "stdout",
     "output_type": "stream",
     "text": [
      "epoch 3  | loss: 0.54299 | train_mse: 0.47658 | train_mae: 0.49206 |  0:00:03s\n"
     ]
    },
    {
     "name": "stdout",
     "output_type": "stream",
     "text": [
      "epoch 4  | loss: 0.45728 | train_mse: 0.35175 | train_mae: 0.42006 |  0:00:03s\n"
     ]
    },
    {
     "name": "stdout",
     "output_type": "stream",
     "text": [
      "epoch 5  | loss: 0.33515 | train_mse: 0.33605 | train_mae: 0.40888 |  0:00:03s\n"
     ]
    },
    {
     "name": "stdout",
     "output_type": "stream",
     "text": [
      "epoch 6  | loss: 0.38696 | train_mse: 0.31886 | train_mae: 0.39672 |  0:00:04s\n"
     ]
    },
    {
     "name": "stdout",
     "output_type": "stream",
     "text": [
      "epoch 7  | loss: 0.37727 | train_mse: 0.26255 | train_mae: 0.36121 |  0:00:04s\n"
     ]
    },
    {
     "name": "stdout",
     "output_type": "stream",
     "text": [
      "epoch 8  | loss: 0.38362 | train_mse: 0.23065 | train_mae: 0.34242 |  0:00:05s\n"
     ]
    },
    {
     "name": "stdout",
     "output_type": "stream",
     "text": [
      "epoch 9  | loss: 0.31591 | train_mse: 0.20902 | train_mae: 0.31065 |  0:00:05s\n"
     ]
    },
    {
     "name": "stdout",
     "output_type": "stream",
     "text": [
      "epoch 10 | loss: 0.37712 | train_mse: 0.26917 | train_mae: 0.35755 |  0:00:06s\n"
     ]
    },
    {
     "name": "stdout",
     "output_type": "stream",
     "text": [
      "epoch 11 | loss: 0.28567 | train_mse: 0.26491 | train_mae: 0.35431 |  0:00:07s\n"
     ]
    },
    {
     "name": "stdout",
     "output_type": "stream",
     "text": [
      "epoch 12 | loss: 0.28888 | train_mse: 0.26213 | train_mae: 0.34627 |  0:00:07s\n"
     ]
    },
    {
     "name": "stdout",
     "output_type": "stream",
     "text": [
      "epoch 13 | loss: 0.29069 | train_mse: 0.23665 | train_mae: 0.32078 |  0:00:08s\n"
     ]
    },
    {
     "name": "stdout",
     "output_type": "stream",
     "text": [
      "epoch 14 | loss: 0.24701 | train_mse: 0.26043 | train_mae: 0.34034 |  0:00:09s\n"
     ]
    },
    {
     "name": "stdout",
     "output_type": "stream",
     "text": [
      "epoch 15 | loss: 0.28459 | train_mse: 0.26585 | train_mae: 0.34569 |  0:00:10s\n"
     ]
    },
    {
     "name": "stdout",
     "output_type": "stream",
     "text": [
      "epoch 16 | loss: 0.31898 | train_mse: 0.21778 | train_mae: 0.3091  |  0:00:11s\n"
     ]
    },
    {
     "name": "stdout",
     "output_type": "stream",
     "text": [
      "epoch 17 | loss: 0.30226 | train_mse: 0.22662 | train_mae: 0.33018 |  0:00:12s\n"
     ]
    },
    {
     "name": "stdout",
     "output_type": "stream",
     "text": [
      "epoch 18 | loss: 0.27588 | train_mse: 0.18547 | train_mae: 0.28767 |  0:00:13s\n"
     ]
    },
    {
     "name": "stdout",
     "output_type": "stream",
     "text": [
      "epoch 19 | loss: 0.26725 | train_mse: 0.1797  | train_mae: 0.28793 |  0:00:15s\n"
     ]
    },
    {
     "name": "stdout",
     "output_type": "stream",
     "text": [
      "epoch 20 | loss: 0.24336 | train_mse: 0.17287 | train_mae: 0.29075 |  0:00:16s\n"
     ]
    },
    {
     "name": "stdout",
     "output_type": "stream",
     "text": [
      "epoch 21 | loss: 0.22619 | train_mse: 0.17528 | train_mae: 0.30228 |  0:00:17s\n"
     ]
    },
    {
     "name": "stdout",
     "output_type": "stream",
     "text": [
      "epoch 22 | loss: 0.2271  | train_mse: 0.15321 | train_mae: 0.27279 |  0:00:18s\n"
     ]
    },
    {
     "name": "stdout",
     "output_type": "stream",
     "text": [
      "epoch 23 | loss: 0.1897  | train_mse: 0.15441 | train_mae: 0.27702 |  0:00:18s\n"
     ]
    },
    {
     "name": "stdout",
     "output_type": "stream",
     "text": [
      "epoch 24 | loss: 0.23091 | train_mse: 0.15442 | train_mae: 0.27345 |  0:00:19s\n"
     ]
    },
    {
     "name": "stdout",
     "output_type": "stream",
     "text": [
      "epoch 25 | loss: 0.20952 | train_mse: 0.14276 | train_mae: 0.26304 |  0:00:19s\n"
     ]
    },
    {
     "name": "stdout",
     "output_type": "stream",
     "text": [
      "epoch 26 | loss: 0.23079 | train_mse: 0.14547 | train_mae: 0.26795 |  0:00:20s\n"
     ]
    },
    {
     "name": "stdout",
     "output_type": "stream",
     "text": [
      "epoch 27 | loss: 0.21385 | train_mse: 0.15958 | train_mae: 0.28045 |  0:00:21s\n"
     ]
    },
    {
     "name": "stdout",
     "output_type": "stream",
     "text": [
      "epoch 28 | loss: 0.23024 | train_mse: 0.15398 | train_mae: 0.27283 |  0:00:22s\n"
     ]
    },
    {
     "name": "stdout",
     "output_type": "stream",
     "text": [
      "epoch 29 | loss: 0.19954 | train_mse: 0.16412 | train_mae: 0.28734 |  0:00:22s\n"
     ]
    },
    {
     "name": "stdout",
     "output_type": "stream",
     "text": [
      "epoch 30 | loss: 0.20286 | train_mse: 0.13649 | train_mae: 0.25954 |  0:00:22s\n"
     ]
    },
    {
     "name": "stdout",
     "output_type": "stream",
     "text": [
      "epoch 31 | loss: 0.24876 | train_mse: 0.17824 | train_mae: 0.30161 |  0:00:23s\n"
     ]
    },
    {
     "name": "stdout",
     "output_type": "stream",
     "text": [
      "epoch 32 | loss: 0.21331 | train_mse: 0.15454 | train_mae: 0.28146 |  0:00:23s\n"
     ]
    },
    {
     "name": "stdout",
     "output_type": "stream",
     "text": [
      "epoch 33 | loss: 0.20193 | train_mse: 0.14281 | train_mae: 0.26423 |  0:00:24s\n"
     ]
    },
    {
     "name": "stdout",
     "output_type": "stream",
     "text": [
      "epoch 34 | loss: 0.22006 | train_mse: 0.13485 | train_mae: 0.25915 |  0:00:24s\n"
     ]
    },
    {
     "name": "stdout",
     "output_type": "stream",
     "text": [
      "epoch 35 | loss: 0.2053  | train_mse: 0.1736  | train_mae: 0.27798 |  0:00:25s\n"
     ]
    },
    {
     "name": "stdout",
     "output_type": "stream",
     "text": [
      "epoch 36 | loss: 0.2086  | train_mse: 0.14396 | train_mae: 0.27367 |  0:00:25s\n"
     ]
    },
    {
     "name": "stdout",
     "output_type": "stream",
     "text": [
      "epoch 37 | loss: 0.23873 | train_mse: 0.13902 | train_mae: 0.26855 |  0:00:26s\n"
     ]
    },
    {
     "name": "stdout",
     "output_type": "stream",
     "text": [
      "epoch 38 | loss: 0.22712 | train_mse: 0.14866 | train_mae: 0.27114 |  0:00:26s\n"
     ]
    },
    {
     "name": "stdout",
     "output_type": "stream",
     "text": [
      "epoch 39 | loss: 0.20515 | train_mse: 0.16081 | train_mae: 0.27041 |  0:00:27s\n"
     ]
    },
    {
     "name": "stdout",
     "output_type": "stream",
     "text": [
      "epoch 40 | loss: 0.19983 | train_mse: 0.16231 | train_mae: 0.26977 |  0:00:27s\n"
     ]
    },
    {
     "name": "stdout",
     "output_type": "stream",
     "text": [
      "epoch 41 | loss: 0.197   | train_mse: 0.14146 | train_mae: 0.25431 |  0:00:27s\n"
     ]
    },
    {
     "name": "stdout",
     "output_type": "stream",
     "text": [
      "epoch 42 | loss: 0.23023 | train_mse: 0.1408  | train_mae: 0.25489 |  0:00:28s\n"
     ]
    },
    {
     "name": "stdout",
     "output_type": "stream",
     "text": [
      "epoch 43 | loss: 0.20704 | train_mse: 0.11734 | train_mae: 0.23973 |  0:00:28s\n"
     ]
    },
    {
     "name": "stdout",
     "output_type": "stream",
     "text": [
      "epoch 44 | loss: 0.1817  | train_mse: 0.14542 | train_mae: 0.27077 |  0:00:29s\n"
     ]
    },
    {
     "name": "stdout",
     "output_type": "stream",
     "text": [
      "epoch 45 | loss: 0.28112 | train_mse: 0.14069 | train_mae: 0.27022 |  0:00:29s\n"
     ]
    },
    {
     "name": "stdout",
     "output_type": "stream",
     "text": [
      "epoch 46 | loss: 0.21063 | train_mse: 0.12887 | train_mae: 0.24976 |  0:00:29s\n"
     ]
    },
    {
     "name": "stdout",
     "output_type": "stream",
     "text": [
      "epoch 47 | loss: 0.21591 | train_mse: 0.15036 | train_mae: 0.27073 |  0:00:29s\n"
     ]
    },
    {
     "name": "stdout",
     "output_type": "stream",
     "text": [
      "epoch 48 | loss: 0.18697 | train_mse: 0.13026 | train_mae: 0.25243 |  0:00:30s\n"
     ]
    },
    {
     "name": "stdout",
     "output_type": "stream",
     "text": [
      "epoch 49 | loss: 0.19554 | train_mse: 0.14118 | train_mae: 0.26268 |  0:00:30s\n"
     ]
    },
    {
     "name": "stdout",
     "output_type": "stream",
     "text": [
      "epoch 50 | loss: 0.19612 | train_mse: 0.12634 | train_mae: 0.25616 |  0:00:30s\n"
     ]
    },
    {
     "name": "stdout",
     "output_type": "stream",
     "text": [
      "epoch 51 | loss: 0.15083 | train_mse: 0.12264 | train_mae: 0.2449  |  0:00:31s\n"
     ]
    },
    {
     "name": "stdout",
     "output_type": "stream",
     "text": [
      "epoch 52 | loss: 0.19327 | train_mse: 0.11798 | train_mae: 0.24249 |  0:00:31s\n"
     ]
    },
    {
     "name": "stdout",
     "output_type": "stream",
     "text": [
      "epoch 53 | loss: 0.18545 | train_mse: 0.11455 | train_mae: 0.23784 |  0:00:32s\n"
     ]
    },
    {
     "name": "stdout",
     "output_type": "stream",
     "text": [
      "epoch 54 | loss: 0.18304 | train_mse: 0.11681 | train_mae: 0.23883 |  0:00:33s\n"
     ]
    },
    {
     "name": "stdout",
     "output_type": "stream",
     "text": [
      "epoch 55 | loss: 0.20418 | train_mse: 0.11804 | train_mae: 0.24191 |  0:00:35s\n"
     ]
    },
    {
     "name": "stdout",
     "output_type": "stream",
     "text": [
      "epoch 56 | loss: 0.21353 | train_mse: 0.12019 | train_mae: 0.24694 |  0:00:36s\n"
     ]
    },
    {
     "name": "stdout",
     "output_type": "stream",
     "text": [
      "epoch 57 | loss: 0.19038 | train_mse: 0.14511 | train_mae: 0.23939 |  0:00:37s\n"
     ]
    },
    {
     "name": "stdout",
     "output_type": "stream",
     "text": [
      "epoch 58 | loss: 0.16208 | train_mse: 0.11617 | train_mae: 0.24501 |  0:00:39s\n"
     ]
    },
    {
     "name": "stdout",
     "output_type": "stream",
     "text": [
      "epoch 59 | loss: 0.16581 | train_mse: 0.11628 | train_mae: 0.23971 |  0:00:41s\n"
     ]
    },
    {
     "name": "stdout",
     "output_type": "stream",
     "text": [
      "epoch 60 | loss: 0.18763 | train_mse: 0.1283  | train_mae: 0.24506 |  0:00:43s\n"
     ]
    },
    {
     "name": "stdout",
     "output_type": "stream",
     "text": [
      "epoch 61 | loss: 0.19827 | train_mse: 0.11799 | train_mae: 0.235   |  0:00:44s\n"
     ]
    },
    {
     "name": "stdout",
     "output_type": "stream",
     "text": [
      "epoch 62 | loss: 0.15036 | train_mse: 0.1038  | train_mae: 0.23063 |  0:00:46s\n"
     ]
    },
    {
     "name": "stdout",
     "output_type": "stream",
     "text": [
      "epoch 63 | loss: 0.15203 | train_mse: 0.13781 | train_mae: 0.24942 |  0:00:47s\n"
     ]
    },
    {
     "name": "stdout",
     "output_type": "stream",
     "text": [
      "epoch 64 | loss: 0.23036 | train_mse: 0.16398 | train_mae: 0.27369 |  0:00:48s\n"
     ]
    },
    {
     "name": "stdout",
     "output_type": "stream",
     "text": [
      "epoch 65 | loss: 0.21503 | train_mse: 0.11536 | train_mae: 0.23505 |  0:00:49s\n"
     ]
    },
    {
     "name": "stdout",
     "output_type": "stream",
     "text": [
      "epoch 66 | loss: 0.19456 | train_mse: 0.11803 | train_mae: 0.24566 |  0:00:49s\n"
     ]
    },
    {
     "name": "stdout",
     "output_type": "stream",
     "text": [
      "epoch 67 | loss: 0.16762 | train_mse: 0.12228 | train_mae: 0.25279 |  0:00:50s\n"
     ]
    },
    {
     "name": "stdout",
     "output_type": "stream",
     "text": [
      "epoch 68 | loss: 0.16501 | train_mse: 0.11287 | train_mae: 0.23955 |  0:00:51s\n"
     ]
    },
    {
     "name": "stdout",
     "output_type": "stream",
     "text": [
      "epoch 69 | loss: 0.18054 | train_mse: 0.11593 | train_mae: 0.24482 |  0:00:52s\n"
     ]
    },
    {
     "name": "stdout",
     "output_type": "stream",
     "text": [
      "epoch 70 | loss: 0.25623 | train_mse: 0.12609 | train_mae: 0.25036 |  0:00:52s\n"
     ]
    },
    {
     "name": "stdout",
     "output_type": "stream",
     "text": [
      "epoch 71 | loss: 0.1973  | train_mse: 0.11063 | train_mae: 0.24276 |  0:00:53s\n"
     ]
    },
    {
     "name": "stdout",
     "output_type": "stream",
     "text": [
      "epoch 72 | loss: 0.178   | train_mse: 0.11602 | train_mae: 0.24579 |  0:00:53s\n"
     ]
    },
    {
     "name": "stdout",
     "output_type": "stream",
     "text": [
      "epoch 73 | loss: 0.30414 | train_mse: 0.14026 | train_mae: 0.24455 |  0:00:53s\n"
     ]
    },
    {
     "name": "stdout",
     "output_type": "stream",
     "text": [
      "epoch 74 | loss: 0.24006 | train_mse: 0.187   | train_mae: 0.28172 |  0:00:54s\n"
     ]
    },
    {
     "name": "stdout",
     "output_type": "stream",
     "text": [
      "epoch 75 | loss: 0.21821 | train_mse: 0.17283 | train_mae: 0.2723  |  0:00:54s\n"
     ]
    },
    {
     "name": "stdout",
     "output_type": "stream",
     "text": [
      "epoch 76 | loss: 0.26633 | train_mse: 0.17915 | train_mae: 0.2908  |  0:00:55s\n"
     ]
    },
    {
     "name": "stdout",
     "output_type": "stream",
     "text": [
      "epoch 77 | loss: 0.22862 | train_mse: 0.12599 | train_mae: 0.25412 |  0:00:55s\n"
     ]
    },
    {
     "name": "stdout",
     "output_type": "stream",
     "text": [
      "epoch 78 | loss: 0.21176 | train_mse: 0.13828 | train_mae: 0.26172 |  0:00:56s\n"
     ]
    },
    {
     "name": "stdout",
     "output_type": "stream",
     "text": [
      "epoch 79 | loss: 0.17231 | train_mse: 0.10209 | train_mae: 0.23187 |  0:00:56s\n"
     ]
    },
    {
     "name": "stdout",
     "output_type": "stream",
     "text": [
      "epoch 80 | loss: 0.16497 | train_mse: 0.1116  | train_mae: 0.23353 |  0:00:57s\n"
     ]
    },
    {
     "name": "stdout",
     "output_type": "stream",
     "text": [
      "epoch 81 | loss: 0.18546 | train_mse: 0.09681 | train_mae: 0.21978 |  0:00:57s\n"
     ]
    },
    {
     "name": "stdout",
     "output_type": "stream",
     "text": [
      "epoch 82 | loss: 0.14453 | train_mse: 0.10426 | train_mae: 0.2303  |  0:00:57s\n"
     ]
    },
    {
     "name": "stdout",
     "output_type": "stream",
     "text": [
      "epoch 83 | loss: 0.16091 | train_mse: 0.10183 | train_mae: 0.2247  |  0:00:58s\n"
     ]
    },
    {
     "name": "stdout",
     "output_type": "stream",
     "text": [
      "epoch 84 | loss: 0.13787 | train_mse: 0.1087  | train_mae: 0.22154 |  0:00:58s\n"
     ]
    },
    {
     "name": "stdout",
     "output_type": "stream",
     "text": [
      "epoch 85 | loss: 0.1825  | train_mse: 0.10507 | train_mae: 0.22276 |  0:00:58s\n"
     ]
    },
    {
     "name": "stdout",
     "output_type": "stream",
     "text": [
      "epoch 86 | loss: 0.17131 | train_mse: 0.09859 | train_mae: 0.215   |  0:00:58s\n"
     ]
    },
    {
     "name": "stdout",
     "output_type": "stream",
     "text": [
      "epoch 87 | loss: 0.16783 | train_mse: 0.11788 | train_mae: 0.24776 |  0:00:59s\n"
     ]
    },
    {
     "name": "stdout",
     "output_type": "stream",
     "text": [
      "epoch 88 | loss: 0.16085 | train_mse: 0.11898 | train_mae: 0.24676 |  0:00:59s\n"
     ]
    },
    {
     "name": "stdout",
     "output_type": "stream",
     "text": [
      "epoch 89 | loss: 0.1514  | train_mse: 0.10324 | train_mae: 0.23219 |  0:01:00s\n"
     ]
    },
    {
     "name": "stdout",
     "output_type": "stream",
     "text": [
      "epoch 90 | loss: 0.16469 | train_mse: 0.11029 | train_mae: 0.23523 |  0:01:01s\n"
     ]
    },
    {
     "name": "stdout",
     "output_type": "stream",
     "text": [
      "epoch 91 | loss: 0.2055  | train_mse: 0.11054 | train_mae: 0.24014 |  0:01:03s\n"
     ]
    },
    {
     "name": "stdout",
     "output_type": "stream",
     "text": [
      "epoch 92 | loss: 0.1917  | train_mse: 0.10947 | train_mae: 0.23824 |  0:01:04s\n"
     ]
    },
    {
     "name": "stdout",
     "output_type": "stream",
     "text": [
      "epoch 93 | loss: 0.18051 | train_mse: 0.11652 | train_mae: 0.24035 |  0:01:04s\n"
     ]
    },
    {
     "name": "stdout",
     "output_type": "stream",
     "text": [
      "epoch 94 | loss: 0.15885 | train_mse: 0.09164 | train_mae: 0.21179 |  0:01:06s\n"
     ]
    },
    {
     "name": "stdout",
     "output_type": "stream",
     "text": [
      "epoch 95 | loss: 0.16199 | train_mse: 0.10318 | train_mae: 0.22114 |  0:01:06s\n"
     ]
    },
    {
     "name": "stdout",
     "output_type": "stream",
     "text": [
      "epoch 96 | loss: 0.1606  | train_mse: 0.08924 | train_mae: 0.21321 |  0:01:07s\n"
     ]
    },
    {
     "name": "stdout",
     "output_type": "stream",
     "text": [
      "epoch 97 | loss: 0.17662 | train_mse: 0.09031 | train_mae: 0.21334 |  0:01:07s\n"
     ]
    },
    {
     "name": "stdout",
     "output_type": "stream",
     "text": [
      "epoch 98 | loss: 0.15485 | train_mse: 0.09406 | train_mae: 0.21025 |  0:01:07s\n"
     ]
    },
    {
     "name": "stdout",
     "output_type": "stream",
     "text": [
      "epoch 99 | loss: 0.14562 | train_mse: 0.08559 | train_mae: 0.20768 |  0:01:08s\n"
     ]
    },
    {
     "name": "stdout",
     "output_type": "stream",
     "text": [
      "epoch 100| loss: 0.18722 | train_mse: 0.10094 | train_mae: 0.22955 |  0:01:08s\n"
     ]
    },
    {
     "name": "stdout",
     "output_type": "stream",
     "text": [
      "epoch 101| loss: 0.16118 | train_mse: 0.09941 | train_mae: 0.22803 |  0:01:08s\n"
     ]
    },
    {
     "name": "stdout",
     "output_type": "stream",
     "text": [
      "epoch 102| loss: 0.18056 | train_mse: 0.08208 | train_mae: 0.20496 |  0:01:09s\n"
     ]
    },
    {
     "name": "stdout",
     "output_type": "stream",
     "text": [
      "epoch 103| loss: 0.1386  | train_mse: 0.08932 | train_mae: 0.21761 |  0:01:09s\n"
     ]
    },
    {
     "name": "stdout",
     "output_type": "stream",
     "text": [
      "epoch 104| loss: 0.13295 | train_mse: 0.09333 | train_mae: 0.21659 |  0:01:10s\n"
     ]
    },
    {
     "name": "stdout",
     "output_type": "stream",
     "text": [
      "epoch 105| loss: 0.14177 | train_mse: 0.07941 | train_mae: 0.2038  |  0:01:10s\n"
     ]
    },
    {
     "name": "stdout",
     "output_type": "stream",
     "text": [
      "epoch 106| loss: 0.14654 | train_mse: 0.08818 | train_mae: 0.21037 |  0:01:11s\n"
     ]
    },
    {
     "name": "stdout",
     "output_type": "stream",
     "text": [
      "epoch 107| loss: 0.18405 | train_mse: 0.10387 | train_mae: 0.21559 |  0:01:12s\n"
     ]
    },
    {
     "name": "stdout",
     "output_type": "stream",
     "text": [
      "epoch 108| loss: 0.16751 | train_mse: 0.10481 | train_mae: 0.22372 |  0:01:12s\n"
     ]
    },
    {
     "name": "stdout",
     "output_type": "stream",
     "text": [
      "epoch 109| loss: 0.18964 | train_mse: 0.08669 | train_mae: 0.20908 |  0:01:13s\n"
     ]
    },
    {
     "name": "stdout",
     "output_type": "stream",
     "text": [
      "epoch 110| loss: 0.20384 | train_mse: 0.10905 | train_mae: 0.23254 |  0:01:13s\n"
     ]
    },
    {
     "name": "stdout",
     "output_type": "stream",
     "text": [
      "epoch 111| loss: 0.12607 | train_mse: 0.10437 | train_mae: 0.22621 |  0:01:14s\n"
     ]
    },
    {
     "name": "stdout",
     "output_type": "stream",
     "text": [
      "epoch 112| loss: 0.14565 | train_mse: 0.09171 | train_mae: 0.21245 |  0:01:15s\n"
     ]
    },
    {
     "name": "stdout",
     "output_type": "stream",
     "text": [
      "epoch 113| loss: 0.11499 | train_mse: 0.09072 | train_mae: 0.20937 |  0:01:17s\n"
     ]
    },
    {
     "name": "stdout",
     "output_type": "stream",
     "text": [
      "epoch 114| loss: 0.13623 | train_mse: 0.0985  | train_mae: 0.21557 |  0:01:18s\n"
     ]
    },
    {
     "name": "stdout",
     "output_type": "stream",
     "text": [
      "epoch 115| loss: 0.12005 | train_mse: 0.08792 | train_mae: 0.209   |  0:01:19s\n"
     ]
    },
    {
     "name": "stdout",
     "output_type": "stream",
     "text": [
      "epoch 116| loss: 0.11572 | train_mse: 0.07888 | train_mae: 0.20285 |  0:01:20s\n"
     ]
    },
    {
     "name": "stdout",
     "output_type": "stream",
     "text": [
      "epoch 117| loss: 0.13257 | train_mse: 0.0817  | train_mae: 0.21316 |  0:01:21s\n"
     ]
    },
    {
     "name": "stdout",
     "output_type": "stream",
     "text": [
      "epoch 118| loss: 0.12917 | train_mse: 0.08796 | train_mae: 0.21767 |  0:01:23s\n"
     ]
    },
    {
     "name": "stdout",
     "output_type": "stream",
     "text": [
      "epoch 119| loss: 0.12123 | train_mse: 0.08992 | train_mae: 0.21892 |  0:01:24s\n"
     ]
    },
    {
     "name": "stdout",
     "output_type": "stream",
     "text": [
      "epoch 120| loss: 0.16296 | train_mse: 0.08459 | train_mae: 0.21172 |  0:01:25s\n"
     ]
    },
    {
     "name": "stdout",
     "output_type": "stream",
     "text": [
      "epoch 121| loss: 0.11813 | train_mse: 0.0801  | train_mae: 0.20903 |  0:01:26s\n"
     ]
    },
    {
     "name": "stdout",
     "output_type": "stream",
     "text": [
      "epoch 122| loss: 0.14621 | train_mse: 0.07507 | train_mae: 0.19717 |  0:01:27s\n"
     ]
    },
    {
     "name": "stdout",
     "output_type": "stream",
     "text": [
      "epoch 123| loss: 0.13163 | train_mse: 0.07317 | train_mae: 0.19707 |  0:01:28s\n"
     ]
    },
    {
     "name": "stdout",
     "output_type": "stream",
     "text": [
      "epoch 124| loss: 0.14355 | train_mse: 0.0698  | train_mae: 0.19246 |  0:01:29s\n"
     ]
    },
    {
     "name": "stdout",
     "output_type": "stream",
     "text": [
      "epoch 125| loss: 0.12119 | train_mse: 0.07171 | train_mae: 0.19307 |  0:01:30s\n"
     ]
    },
    {
     "name": "stdout",
     "output_type": "stream",
     "text": [
      "epoch 126| loss: 0.14996 | train_mse: 0.08469 | train_mae: 0.2122  |  0:01:31s\n"
     ]
    },
    {
     "name": "stdout",
     "output_type": "stream",
     "text": [
      "epoch 127| loss: 0.15046 | train_mse: 0.08873 | train_mae: 0.20472 |  0:01:31s\n"
     ]
    },
    {
     "name": "stdout",
     "output_type": "stream",
     "text": [
      "epoch 128| loss: 0.12938 | train_mse: 0.08524 | train_mae: 0.20527 |  0:01:33s\n"
     ]
    },
    {
     "name": "stdout",
     "output_type": "stream",
     "text": [
      "epoch 129| loss: 0.16013 | train_mse: 0.09706 | train_mae: 0.21568 |  0:01:33s\n"
     ]
    },
    {
     "name": "stdout",
     "output_type": "stream",
     "text": [
      "epoch 130| loss: 0.15512 | train_mse: 0.10267 | train_mae: 0.21809 |  0:01:34s\n"
     ]
    },
    {
     "name": "stdout",
     "output_type": "stream",
     "text": [
      "epoch 131| loss: 0.12649 | train_mse: 0.08055 | train_mae: 0.19951 |  0:01:35s\n"
     ]
    },
    {
     "name": "stdout",
     "output_type": "stream",
     "text": [
      "epoch 132| loss: 0.14916 | train_mse: 0.09755 | train_mae: 0.21887 |  0:01:35s\n"
     ]
    },
    {
     "name": "stdout",
     "output_type": "stream",
     "text": [
      "epoch 133| loss: 0.15553 | train_mse: 0.07656 | train_mae: 0.19438 |  0:01:36s\n"
     ]
    },
    {
     "name": "stdout",
     "output_type": "stream",
     "text": [
      "epoch 134| loss: 0.14234 | train_mse: 0.07729 | train_mae: 0.1964  |  0:01:36s\n"
     ]
    },
    {
     "name": "stdout",
     "output_type": "stream",
     "text": [
      "epoch 135| loss: 0.10885 | train_mse: 0.07204 | train_mae: 0.19367 |  0:01:37s\n"
     ]
    },
    {
     "name": "stdout",
     "output_type": "stream",
     "text": [
      "epoch 136| loss: 0.13624 | train_mse: 0.07954 | train_mae: 0.19912 |  0:01:37s\n"
     ]
    },
    {
     "name": "stdout",
     "output_type": "stream",
     "text": [
      "epoch 137| loss: 0.16036 | train_mse: 0.09565 | train_mae: 0.21766 |  0:01:38s\n"
     ]
    },
    {
     "name": "stdout",
     "output_type": "stream",
     "text": [
      "epoch 138| loss: 0.17563 | train_mse: 0.09008 | train_mae: 0.21489 |  0:01:39s\n"
     ]
    },
    {
     "name": "stdout",
     "output_type": "stream",
     "text": [
      "epoch 139| loss: 0.1426  | train_mse: 0.07922 | train_mae: 0.20632 |  0:01:40s\n"
     ]
    },
    {
     "name": "stdout",
     "output_type": "stream",
     "text": [
      "epoch 140| loss: 0.13348 | train_mse: 0.09606 | train_mae: 0.22413 |  0:01:40s\n"
     ]
    },
    {
     "name": "stdout",
     "output_type": "stream",
     "text": [
      "epoch 141| loss: 0.2101  | train_mse: 0.09402 | train_mae: 0.20767 |  0:01:41s\n"
     ]
    },
    {
     "name": "stdout",
     "output_type": "stream",
     "text": [
      "epoch 142| loss: 0.13612 | train_mse: 0.10387 | train_mae: 0.22791 |  0:01:42s\n"
     ]
    },
    {
     "name": "stdout",
     "output_type": "stream",
     "text": [
      "epoch 143| loss: 0.12346 | train_mse: 0.08055 | train_mae: 0.20802 |  0:01:44s\n"
     ]
    },
    {
     "name": "stdout",
     "output_type": "stream",
     "text": [
      "epoch 144| loss: 0.15196 | train_mse: 0.07411 | train_mae: 0.19621 |  0:01:45s\n"
     ]
    },
    {
     "name": "stdout",
     "output_type": "stream",
     "text": [
      "epoch 145| loss: 0.12489 | train_mse: 0.07451 | train_mae: 0.19633 |  0:01:45s\n"
     ]
    },
    {
     "name": "stdout",
     "output_type": "stream",
     "text": [
      "epoch 146| loss: 0.18381 | train_mse: 0.07507 | train_mae: 0.19812 |  0:01:46s\n"
     ]
    },
    {
     "name": "stdout",
     "output_type": "stream",
     "text": [
      "epoch 147| loss: 0.15983 | train_mse: 0.08058 | train_mae: 0.2064  |  0:01:46s\n"
     ]
    },
    {
     "name": "stdout",
     "output_type": "stream",
     "text": [
      "epoch 148| loss: 0.21478 | train_mse: 0.09261 | train_mae: 0.21128 |  0:01:47s\n"
     ]
    },
    {
     "name": "stdout",
     "output_type": "stream",
     "text": [
      "epoch 149| loss: 0.22299 | train_mse: 0.11344 | train_mae: 0.23263 |  0:01:48s\n"
     ]
    },
    {
     "name": "stdout",
     "output_type": "stream",
     "text": [
      "epoch 150| loss: 0.19599 | train_mse: 0.11525 | train_mae: 0.22913 |  0:01:48s\n"
     ]
    },
    {
     "name": "stdout",
     "output_type": "stream",
     "text": [
      "epoch 151| loss: 0.17514 | train_mse: 0.09945 | train_mae: 0.23517 |  0:01:48s\n"
     ]
    },
    {
     "name": "stdout",
     "output_type": "stream",
     "text": [
      "epoch 152| loss: 0.17373 | train_mse: 0.08593 | train_mae: 0.21514 |  0:01:49s\n"
     ]
    },
    {
     "name": "stdout",
     "output_type": "stream",
     "text": [
      "epoch 153| loss: 0.18774 | train_mse: 0.0888  | train_mae: 0.22302 |  0:01:49s\n"
     ]
    },
    {
     "name": "stdout",
     "output_type": "stream",
     "text": [
      "epoch 154| loss: 0.12908 | train_mse: 0.07162 | train_mae: 0.19196 |  0:01:50s\n"
     ]
    },
    {
     "name": "stdout",
     "output_type": "stream",
     "text": [
      "epoch 155| loss: 0.20836 | train_mse: 0.07504 | train_mae: 0.20082 |  0:01:50s\n"
     ]
    },
    {
     "name": "stdout",
     "output_type": "stream",
     "text": [
      "epoch 156| loss: 0.14749 | train_mse: 0.07739 | train_mae: 0.20406 |  0:01:51s\n"
     ]
    },
    {
     "name": "stdout",
     "output_type": "stream",
     "text": [
      "epoch 157| loss: 0.14391 | train_mse: 0.07057 | train_mae: 0.19046 |  0:01:51s\n"
     ]
    },
    {
     "name": "stdout",
     "output_type": "stream",
     "text": [
      "epoch 158| loss: 0.2101  | train_mse: 0.08667 | train_mae: 0.21189 |  0:01:51s\n"
     ]
    },
    {
     "name": "stdout",
     "output_type": "stream",
     "text": [
      "epoch 159| loss: 0.14699 | train_mse: 0.07687 | train_mae: 0.19998 |  0:01:52s\n"
     ]
    },
    {
     "name": "stdout",
     "output_type": "stream",
     "text": [
      "epoch 160| loss: 0.10393 | train_mse: 0.07371 | train_mae: 0.19394 |  0:01:53s\n"
     ]
    },
    {
     "name": "stdout",
     "output_type": "stream",
     "text": [
      "epoch 161| loss: 0.14241 | train_mse: 0.07265 | train_mae: 0.19511 |  0:01:53s\n"
     ]
    },
    {
     "name": "stdout",
     "output_type": "stream",
     "text": [
      "epoch 162| loss: 0.1393  | train_mse: 0.07756 | train_mae: 0.19632 |  0:01:53s\n"
     ]
    },
    {
     "name": "stdout",
     "output_type": "stream",
     "text": [
      "epoch 163| loss: 0.15602 | train_mse: 0.08034 | train_mae: 0.2049  |  0:01:54s\n"
     ]
    },
    {
     "name": "stdout",
     "output_type": "stream",
     "text": [
      "epoch 164| loss: 0.13101 | train_mse: 0.07866 | train_mae: 0.19751 |  0:01:54s\n"
     ]
    },
    {
     "name": "stdout",
     "output_type": "stream",
     "text": [
      "epoch 165| loss: 0.10223 | train_mse: 0.07405 | train_mae: 0.19444 |  0:01:55s\n"
     ]
    },
    {
     "name": "stdout",
     "output_type": "stream",
     "text": [
      "epoch 166| loss: 0.17729 | train_mse: 0.07046 | train_mae: 0.18886 |  0:01:55s\n"
     ]
    },
    {
     "name": "stdout",
     "output_type": "stream",
     "text": [
      "epoch 167| loss: 0.10601 | train_mse: 0.06724 | train_mae: 0.18938 |  0:01:55s\n"
     ]
    },
    {
     "name": "stdout",
     "output_type": "stream",
     "text": [
      "epoch 168| loss: 0.18373 | train_mse: 0.08082 | train_mae: 0.20318 |  0:01:56s\n"
     ]
    },
    {
     "name": "stdout",
     "output_type": "stream",
     "text": [
      "epoch 169| loss: 0.11467 | train_mse: 0.0571  | train_mae: 0.17684 |  0:01:56s\n"
     ]
    },
    {
     "name": "stdout",
     "output_type": "stream",
     "text": [
      "epoch 170| loss: 0.13479 | train_mse: 0.06671 | train_mae: 0.18941 |  0:01:57s\n"
     ]
    },
    {
     "name": "stdout",
     "output_type": "stream",
     "text": [
      "epoch 171| loss: 0.14183 | train_mse: 0.06276 | train_mae: 0.19061 |  0:01:57s\n"
     ]
    },
    {
     "name": "stdout",
     "output_type": "stream",
     "text": [
      "epoch 172| loss: 0.0978  | train_mse: 0.08012 | train_mae: 0.19868 |  0:01:57s\n"
     ]
    },
    {
     "name": "stdout",
     "output_type": "stream",
     "text": [
      "epoch 173| loss: 0.10891 | train_mse: 0.06611 | train_mae: 0.19124 |  0:01:58s\n"
     ]
    },
    {
     "name": "stdout",
     "output_type": "stream",
     "text": [
      "epoch 174| loss: 0.11716 | train_mse: 0.06117 | train_mae: 0.18329 |  0:01:58s\n"
     ]
    },
    {
     "name": "stdout",
     "output_type": "stream",
     "text": [
      "epoch 175| loss: 0.15881 | train_mse: 0.06081 | train_mae: 0.18411 |  0:01:59s\n"
     ]
    },
    {
     "name": "stdout",
     "output_type": "stream",
     "text": [
      "epoch 176| loss: 0.1166  | train_mse: 0.06079 | train_mae: 0.18175 |  0:01:59s\n"
     ]
    },
    {
     "name": "stdout",
     "output_type": "stream",
     "text": [
      "epoch 177| loss: 0.14726 | train_mse: 0.08018 | train_mae: 0.1888  |  0:01:59s\n"
     ]
    },
    {
     "name": "stdout",
     "output_type": "stream",
     "text": [
      "epoch 178| loss: 0.12696 | train_mse: 0.083   | train_mae: 0.19865 |  0:02:00s\n"
     ]
    },
    {
     "name": "stdout",
     "output_type": "stream",
     "text": [
      "epoch 179| loss: 0.14063 | train_mse: 0.08794 | train_mae: 0.20475 |  0:02:00s\n"
     ]
    },
    {
     "name": "stdout",
     "output_type": "stream",
     "text": [
      "epoch 180| loss: 0.14268 | train_mse: 0.07747 | train_mae: 0.19158 |  0:02:01s\n"
     ]
    },
    {
     "name": "stdout",
     "output_type": "stream",
     "text": [
      "epoch 181| loss: 0.18583 | train_mse: 0.09212 | train_mae: 0.22004 |  0:02:01s\n"
     ]
    },
    {
     "name": "stdout",
     "output_type": "stream",
     "text": [
      "epoch 182| loss: 0.12911 | train_mse: 0.07465 | train_mae: 0.20421 |  0:02:02s\n"
     ]
    },
    {
     "name": "stdout",
     "output_type": "stream",
     "text": [
      "epoch 183| loss: 0.11114 | train_mse: 0.0605  | train_mae: 0.18409 |  0:02:02s\n"
     ]
    },
    {
     "name": "stdout",
     "output_type": "stream",
     "text": [
      "epoch 184| loss: 0.15526 | train_mse: 0.07296 | train_mae: 0.20121 |  0:02:02s\n"
     ]
    },
    {
     "name": "stdout",
     "output_type": "stream",
     "text": [
      "epoch 185| loss: 0.1122  | train_mse: 0.07643 | train_mae: 0.19606 |  0:02:03s\n"
     ]
    },
    {
     "name": "stdout",
     "output_type": "stream",
     "text": [
      "epoch 186| loss: 0.12757 | train_mse: 0.07138 | train_mae: 0.18925 |  0:02:04s\n"
     ]
    },
    {
     "name": "stdout",
     "output_type": "stream",
     "text": [
      "epoch 187| loss: 0.14005 | train_mse: 0.06394 | train_mae: 0.19106 |  0:02:05s\n"
     ]
    },
    {
     "name": "stdout",
     "output_type": "stream",
     "text": [
      "epoch 188| loss: 0.13947 | train_mse: 0.06655 | train_mae: 0.19276 |  0:02:05s\n"
     ]
    },
    {
     "name": "stdout",
     "output_type": "stream",
     "text": [
      "epoch 189| loss: 0.10328 | train_mse: 0.0675  | train_mae: 0.18809 |  0:02:06s\n"
     ]
    },
    {
     "name": "stdout",
     "output_type": "stream",
     "text": [
      "epoch 190| loss: 0.11221 | train_mse: 0.06737 | train_mae: 0.19433 |  0:02:07s\n"
     ]
    },
    {
     "name": "stdout",
     "output_type": "stream",
     "text": [
      "epoch 191| loss: 0.10035 | train_mse: 0.06976 | train_mae: 0.1895  |  0:02:07s\n"
     ]
    },
    {
     "name": "stdout",
     "output_type": "stream",
     "text": [
      "epoch 192| loss: 0.14109 | train_mse: 0.0694  | train_mae: 0.19442 |  0:02:08s\n"
     ]
    },
    {
     "name": "stdout",
     "output_type": "stream",
     "text": [
      "epoch 193| loss: 0.10864 | train_mse: 0.07236 | train_mae: 0.19785 |  0:02:08s\n"
     ]
    },
    {
     "name": "stdout",
     "output_type": "stream",
     "text": [
      "epoch 194| loss: 0.11927 | train_mse: 0.05842 | train_mae: 0.17949 |  0:02:08s\n"
     ]
    },
    {
     "name": "stdout",
     "output_type": "stream",
     "text": [
      "epoch 195| loss: 0.13942 | train_mse: 0.06388 | train_mae: 0.19272 |  0:02:09s\n"
     ]
    },
    {
     "name": "stdout",
     "output_type": "stream",
     "text": [
      "epoch 196| loss: 0.12409 | train_mse: 0.07214 | train_mae: 0.18727 |  0:02:10s\n"
     ]
    },
    {
     "name": "stdout",
     "output_type": "stream",
     "text": [
      "epoch 197| loss: 0.15813 | train_mse: 0.08244 | train_mae: 0.21023 |  0:02:10s\n"
     ]
    },
    {
     "name": "stdout",
     "output_type": "stream",
     "text": [
      "epoch 198| loss: 0.13709 | train_mse: 0.0762  | train_mae: 0.19638 |  0:02:11s\n"
     ]
    },
    {
     "name": "stdout",
     "output_type": "stream",
     "text": [
      "epoch 199| loss: 0.15082 | train_mse: 0.08735 | train_mae: 0.19259 |  0:02:11s\n"
     ]
    },
    {
     "name": "stdout",
     "output_type": "stream",
     "text": [
      "epoch 200| loss: 0.11315 | train_mse: 0.06367 | train_mae: 0.17942 |  0:02:11s\n"
     ]
    },
    {
     "name": "stdout",
     "output_type": "stream",
     "text": [
      "epoch 201| loss: 0.13405 | train_mse: 0.06667 | train_mae: 0.18614 |  0:02:12s\n"
     ]
    },
    {
     "name": "stdout",
     "output_type": "stream",
     "text": [
      "epoch 202| loss: 0.10586 | train_mse: 0.06816 | train_mae: 0.18457 |  0:02:12s\n"
     ]
    },
    {
     "name": "stdout",
     "output_type": "stream",
     "text": [
      "epoch 203| loss: 0.12402 | train_mse: 0.06317 | train_mae: 0.18395 |  0:02:13s\n"
     ]
    },
    {
     "name": "stdout",
     "output_type": "stream",
     "text": [
      "epoch 204| loss: 0.13295 | train_mse: 0.06519 | train_mae: 0.18163 |  0:02:14s\n"
     ]
    },
    {
     "name": "stdout",
     "output_type": "stream",
     "text": [
      "epoch 205| loss: 0.11397 | train_mse: 0.06684 | train_mae: 0.18402 |  0:02:16s\n"
     ]
    },
    {
     "name": "stdout",
     "output_type": "stream",
     "text": [
      "epoch 206| loss: 0.09238 | train_mse: 0.06122 | train_mae: 0.18002 |  0:02:16s\n"
     ]
    },
    {
     "name": "stdout",
     "output_type": "stream",
     "text": [
      "epoch 207| loss: 0.11204 | train_mse: 0.0706  | train_mae: 0.18952 |  0:02:17s\n"
     ]
    },
    {
     "name": "stdout",
     "output_type": "stream",
     "text": [
      "epoch 208| loss: 0.12276 | train_mse: 0.06479 | train_mae: 0.1853  |  0:02:17s\n"
     ]
    },
    {
     "name": "stdout",
     "output_type": "stream",
     "text": [
      "epoch 209| loss: 0.14566 | train_mse: 0.06032 | train_mae: 0.18165 |  0:02:18s\n"
     ]
    },
    {
     "name": "stdout",
     "output_type": "stream",
     "text": [
      "epoch 210| loss: 0.09254 | train_mse: 0.07182 | train_mae: 0.18867 |  0:02:18s\n"
     ]
    },
    {
     "name": "stdout",
     "output_type": "stream",
     "text": [
      "epoch 211| loss: 0.1385  | train_mse: 0.07837 | train_mae: 0.1966  |  0:02:19s\n"
     ]
    },
    {
     "name": "stdout",
     "output_type": "stream",
     "text": [
      "epoch 212| loss: 0.16526 | train_mse: 0.06975 | train_mae: 0.19222 |  0:02:19s\n"
     ]
    },
    {
     "name": "stdout",
     "output_type": "stream",
     "text": [
      "epoch 213| loss: 0.11899 | train_mse: 0.064   | train_mae: 0.17769 |  0:02:20s\n"
     ]
    },
    {
     "name": "stdout",
     "output_type": "stream",
     "text": [
      "epoch 214| loss: 0.12729 | train_mse: 0.06888 | train_mae: 0.18025 |  0:02:20s\n"
     ]
    },
    {
     "name": "stdout",
     "output_type": "stream",
     "text": [
      "epoch 215| loss: 0.12493 | train_mse: 0.06916 | train_mae: 0.18946 |  0:02:21s\n"
     ]
    },
    {
     "name": "stdout",
     "output_type": "stream",
     "text": [
      "epoch 216| loss: 0.10493 | train_mse: 0.0771  | train_mae: 0.19224 |  0:02:21s\n"
     ]
    },
    {
     "name": "stdout",
     "output_type": "stream",
     "text": [
      "epoch 217| loss: 0.10877 | train_mse: 0.06019 | train_mae: 0.17645 |  0:02:21s\n"
     ]
    },
    {
     "name": "stdout",
     "output_type": "stream",
     "text": [
      "epoch 218| loss: 0.10658 | train_mse: 0.06646 | train_mae: 0.17937 |  0:02:22s\n"
     ]
    },
    {
     "name": "stdout",
     "output_type": "stream",
     "text": [
      "epoch 219| loss: 0.16231 | train_mse: 0.0781  | train_mae: 0.20196 |  0:02:22s\n"
     ]
    },
    {
     "name": "stdout",
     "output_type": "stream",
     "text": [
      "epoch 220| loss: 0.12712 | train_mse: 0.06511 | train_mae: 0.18653 |  0:02:23s\n"
     ]
    },
    {
     "name": "stdout",
     "output_type": "stream",
     "text": [
      "epoch 221| loss: 0.11247 | train_mse: 0.06756 | train_mae: 0.18936 |  0:02:24s\n"
     ]
    },
    {
     "name": "stdout",
     "output_type": "stream",
     "text": [
      "epoch 222| loss: 0.13614 | train_mse: 0.06677 | train_mae: 0.1863  |  0:02:25s\n"
     ]
    },
    {
     "name": "stdout",
     "output_type": "stream",
     "text": [
      "epoch 223| loss: 0.10376 | train_mse: 0.05959 | train_mae: 0.18393 |  0:02:25s\n"
     ]
    },
    {
     "name": "stdout",
     "output_type": "stream",
     "text": [
      "epoch 224| loss: 0.11461 | train_mse: 0.05348 | train_mae: 0.17554 |  0:02:26s\n"
     ]
    },
    {
     "name": "stdout",
     "output_type": "stream",
     "text": [
      "epoch 225| loss: 0.08936 | train_mse: 0.06046 | train_mae: 0.17752 |  0:02:26s\n"
     ]
    },
    {
     "name": "stdout",
     "output_type": "stream",
     "text": [
      "epoch 226| loss: 0.0896  | train_mse: 0.07294 | train_mae: 0.1948  |  0:02:27s\n"
     ]
    },
    {
     "name": "stdout",
     "output_type": "stream",
     "text": [
      "epoch 227| loss: 0.12173 | train_mse: 0.06419 | train_mae: 0.18678 |  0:02:27s\n"
     ]
    },
    {
     "name": "stdout",
     "output_type": "stream",
     "text": [
      "epoch 228| loss: 0.10647 | train_mse: 0.06959 | train_mae: 0.20393 |  0:02:28s\n"
     ]
    },
    {
     "name": "stdout",
     "output_type": "stream",
     "text": [
      "epoch 229| loss: 0.10142 | train_mse: 0.05484 | train_mae: 0.17503 |  0:02:29s\n"
     ]
    },
    {
     "name": "stdout",
     "output_type": "stream",
     "text": [
      "epoch 230| loss: 0.13075 | train_mse: 0.06529 | train_mae: 0.18289 |  0:02:31s\n"
     ]
    },
    {
     "name": "stdout",
     "output_type": "stream",
     "text": [
      "epoch 231| loss: 0.11453 | train_mse: 0.05688 | train_mae: 0.17028 |  0:02:33s\n"
     ]
    },
    {
     "name": "stdout",
     "output_type": "stream",
     "text": [
      "epoch 232| loss: 0.13572 | train_mse: 0.06167 | train_mae: 0.17551 |  0:02:35s\n"
     ]
    },
    {
     "name": "stdout",
     "output_type": "stream",
     "text": [
      "epoch 233| loss: 0.11932 | train_mse: 0.06884 | train_mae: 0.19055 |  0:02:36s\n"
     ]
    },
    {
     "name": "stdout",
     "output_type": "stream",
     "text": [
      "epoch 234| loss: 0.11314 | train_mse: 0.05319 | train_mae: 0.1732  |  0:02:36s\n"
     ]
    },
    {
     "name": "stdout",
     "output_type": "stream",
     "text": [
      "epoch 235| loss: 0.11868 | train_mse: 0.05701 | train_mae: 0.17437 |  0:02:37s\n"
     ]
    },
    {
     "name": "stdout",
     "output_type": "stream",
     "text": [
      "epoch 236| loss: 0.11602 | train_mse: 0.05914 | train_mae: 0.17652 |  0:02:38s\n"
     ]
    },
    {
     "name": "stdout",
     "output_type": "stream",
     "text": [
      "epoch 237| loss: 0.10931 | train_mse: 0.05248 | train_mae: 0.17006 |  0:02:39s\n"
     ]
    },
    {
     "name": "stdout",
     "output_type": "stream",
     "text": [
      "epoch 238| loss: 0.12078 | train_mse: 0.0522  | train_mae: 0.16881 |  0:02:39s\n"
     ]
    },
    {
     "name": "stdout",
     "output_type": "stream",
     "text": [
      "epoch 239| loss: 0.11245 | train_mse: 0.05167 | train_mae: 0.16767 |  0:02:40s\n"
     ]
    },
    {
     "name": "stdout",
     "output_type": "stream",
     "text": [
      "epoch 240| loss: 0.09843 | train_mse: 0.05435 | train_mae: 0.17077 |  0:02:41s\n"
     ]
    },
    {
     "name": "stdout",
     "output_type": "stream",
     "text": [
      "epoch 241| loss: 0.13373 | train_mse: 0.05865 | train_mae: 0.17305 |  0:02:42s\n"
     ]
    },
    {
     "name": "stdout",
     "output_type": "stream",
     "text": [
      "epoch 242| loss: 0.13305 | train_mse: 0.07253 | train_mae: 0.19229 |  0:02:43s\n"
     ]
    },
    {
     "name": "stdout",
     "output_type": "stream",
     "text": [
      "epoch 243| loss: 0.10296 | train_mse: 0.05748 | train_mae: 0.17129 |  0:02:44s\n"
     ]
    },
    {
     "name": "stdout",
     "output_type": "stream",
     "text": [
      "epoch 244| loss: 0.11593 | train_mse: 0.06471 | train_mae: 0.17845 |  0:02:45s\n"
     ]
    },
    {
     "name": "stdout",
     "output_type": "stream",
     "text": [
      "epoch 245| loss: 0.11475 | train_mse: 0.05856 | train_mae: 0.17152 |  0:02:46s\n"
     ]
    },
    {
     "name": "stdout",
     "output_type": "stream",
     "text": [
      "epoch 246| loss: 0.11384 | train_mse: 0.08019 | train_mae: 0.19267 |  0:02:48s\n"
     ]
    },
    {
     "name": "stdout",
     "output_type": "stream",
     "text": [
      "epoch 247| loss: 0.12347 | train_mse: 0.06444 | train_mae: 0.17695 |  0:02:49s\n"
     ]
    },
    {
     "name": "stdout",
     "output_type": "stream",
     "text": [
      "epoch 248| loss: 0.11604 | train_mse: 0.08765 | train_mae: 0.20141 |  0:02:50s\n"
     ]
    },
    {
     "name": "stdout",
     "output_type": "stream",
     "text": [
      "epoch 249| loss: 0.10768 | train_mse: 0.07768 | train_mae: 0.1893  |  0:02:51s\n"
     ]
    },
    {
     "name": "stdout",
     "output_type": "stream",
     "text": [
      "epoch 250| loss: 0.13724 | train_mse: 0.06838 | train_mae: 0.18959 |  0:02:52s\n"
     ]
    },
    {
     "name": "stdout",
     "output_type": "stream",
     "text": [
      "epoch 251| loss: 0.14301 | train_mse: 0.06242 | train_mae: 0.17944 |  0:02:53s\n"
     ]
    },
    {
     "name": "stdout",
     "output_type": "stream",
     "text": [
      "epoch 252| loss: 0.14713 | train_mse: 0.06679 | train_mae: 0.18537 |  0:02:54s\n"
     ]
    },
    {
     "name": "stdout",
     "output_type": "stream",
     "text": [
      "epoch 253| loss: 0.18131 | train_mse: 0.06471 | train_mae: 0.18145 |  0:02:56s\n"
     ]
    },
    {
     "name": "stdout",
     "output_type": "stream",
     "text": [
      "epoch 254| loss: 0.1409  | train_mse: 0.07746 | train_mae: 0.19727 |  0:02:56s\n"
     ]
    },
    {
     "name": "stdout",
     "output_type": "stream",
     "text": [
      "epoch 255| loss: 0.16189 | train_mse: 0.08794 | train_mae: 0.21562 |  0:02:57s\n"
     ]
    },
    {
     "name": "stdout",
     "output_type": "stream",
     "text": [
      "epoch 256| loss: 0.1896  | train_mse: 0.08207 | train_mae: 0.20926 |  0:02:58s\n"
     ]
    },
    {
     "name": "stdout",
     "output_type": "stream",
     "text": [
      "epoch 257| loss: 0.1755  | train_mse: 0.08009 | train_mae: 0.20022 |  0:02:59s\n"
     ]
    },
    {
     "name": "stdout",
     "output_type": "stream",
     "text": [
      "epoch 258| loss: 0.12904 | train_mse: 0.07615 | train_mae: 0.19716 |  0:03:00s\n"
     ]
    },
    {
     "name": "stdout",
     "output_type": "stream",
     "text": [
      "epoch 259| loss: 0.14117 | train_mse: 0.07788 | train_mae: 0.20479 |  0:03:01s\n"
     ]
    },
    {
     "name": "stdout",
     "output_type": "stream",
     "text": [
      "epoch 260| loss: 0.11665 | train_mse: 0.07574 | train_mae: 0.19357 |  0:03:02s\n"
     ]
    },
    {
     "name": "stdout",
     "output_type": "stream",
     "text": [
      "epoch 261| loss: 0.14023 | train_mse: 0.07219 | train_mae: 0.18583 |  0:03:02s\n"
     ]
    },
    {
     "name": "stdout",
     "output_type": "stream",
     "text": [
      "epoch 262| loss: 0.1098  | train_mse: 0.06877 | train_mae: 0.17903 |  0:03:03s\n"
     ]
    },
    {
     "name": "stdout",
     "output_type": "stream",
     "text": [
      "epoch 263| loss: 0.11468 | train_mse: 0.08605 | train_mae: 0.2069  |  0:03:03s\n"
     ]
    },
    {
     "name": "stdout",
     "output_type": "stream",
     "text": [
      "epoch 264| loss: 0.13993 | train_mse: 0.07242 | train_mae: 0.19252 |  0:03:04s\n"
     ]
    },
    {
     "name": "stdout",
     "output_type": "stream",
     "text": [
      "epoch 265| loss: 0.1514  | train_mse: 0.07472 | train_mae: 0.19223 |  0:03:04s\n"
     ]
    },
    {
     "name": "stdout",
     "output_type": "stream",
     "text": [
      "epoch 266| loss: 0.13174 | train_mse: 0.06972 | train_mae: 0.18204 |  0:03:05s\n"
     ]
    },
    {
     "name": "stdout",
     "output_type": "stream",
     "text": [
      "epoch 267| loss: 0.08708 | train_mse: 0.07483 | train_mae: 0.19144 |  0:03:05s\n"
     ]
    },
    {
     "name": "stdout",
     "output_type": "stream",
     "text": [
      "epoch 268| loss: 0.09591 | train_mse: 0.06649 | train_mae: 0.18272 |  0:03:06s\n"
     ]
    },
    {
     "name": "stdout",
     "output_type": "stream",
     "text": [
      "epoch 269| loss: 0.11997 | train_mse: 0.06939 | train_mae: 0.18791 |  0:03:07s\n"
     ]
    },
    {
     "name": "stdout",
     "output_type": "stream",
     "text": [
      "epoch 270| loss: 0.12817 | train_mse: 0.07319 | train_mae: 0.18367 |  0:03:08s\n"
     ]
    },
    {
     "name": "stdout",
     "output_type": "stream",
     "text": [
      "epoch 271| loss: 0.08839 | train_mse: 0.06635 | train_mae: 0.18526 |  0:03:08s\n"
     ]
    },
    {
     "name": "stdout",
     "output_type": "stream",
     "text": [
      "epoch 272| loss: 0.10715 | train_mse: 0.06798 | train_mae: 0.18698 |  0:03:09s\n"
     ]
    },
    {
     "name": "stdout",
     "output_type": "stream",
     "text": [
      "epoch 273| loss: 0.10034 | train_mse: 0.06941 | train_mae: 0.18036 |  0:03:10s\n"
     ]
    },
    {
     "name": "stdout",
     "output_type": "stream",
     "text": [
      "epoch 274| loss: 0.16463 | train_mse: 0.08051 | train_mae: 0.19669 |  0:03:10s\n"
     ]
    },
    {
     "name": "stdout",
     "output_type": "stream",
     "text": [
      "epoch 275| loss: 0.11407 | train_mse: 0.0688  | train_mae: 0.17911 |  0:03:11s\n"
     ]
    },
    {
     "name": "stdout",
     "output_type": "stream",
     "text": [
      "epoch 276| loss: 0.1447  | train_mse: 0.08095 | train_mae: 0.19806 |  0:03:11s\n"
     ]
    },
    {
     "name": "stdout",
     "output_type": "stream",
     "text": [
      "epoch 277| loss: 0.09881 | train_mse: 0.07606 | train_mae: 0.18974 |  0:03:12s\n"
     ]
    },
    {
     "name": "stdout",
     "output_type": "stream",
     "text": [
      "epoch 278| loss: 0.13496 | train_mse: 0.08015 | train_mae: 0.19209 |  0:03:13s\n"
     ]
    },
    {
     "name": "stdout",
     "output_type": "stream",
     "text": [
      "epoch 279| loss: 0.12182 | train_mse: 0.0706  | train_mae: 0.18664 |  0:03:13s\n"
     ]
    },
    {
     "name": "stdout",
     "output_type": "stream",
     "text": [
      "epoch 280| loss: 0.13913 | train_mse: 0.07191 | train_mae: 0.20111 |  0:03:14s\n"
     ]
    },
    {
     "name": "stdout",
     "output_type": "stream",
     "text": [
      "epoch 281| loss: 0.13524 | train_mse: 0.06109 | train_mae: 0.17975 |  0:03:15s\n"
     ]
    },
    {
     "name": "stdout",
     "output_type": "stream",
     "text": [
      "epoch 282| loss: 0.11504 | train_mse: 0.06616 | train_mae: 0.18124 |  0:03:16s\n"
     ]
    },
    {
     "name": "stdout",
     "output_type": "stream",
     "text": [
      "epoch 283| loss: 0.14456 | train_mse: 0.07125 | train_mae: 0.19308 |  0:03:17s\n"
     ]
    },
    {
     "name": "stdout",
     "output_type": "stream",
     "text": [
      "epoch 284| loss: 0.13667 | train_mse: 0.0627  | train_mae: 0.1826  |  0:03:17s\n"
     ]
    },
    {
     "name": "stdout",
     "output_type": "stream",
     "text": [
      "epoch 285| loss: 0.11638 | train_mse: 0.06042 | train_mae: 0.18111 |  0:03:17s\n"
     ]
    },
    {
     "name": "stdout",
     "output_type": "stream",
     "text": [
      "epoch 286| loss: 0.12249 | train_mse: 0.06205 | train_mae: 0.17741 |  0:03:18s\n"
     ]
    },
    {
     "name": "stdout",
     "output_type": "stream",
     "text": [
      "epoch 287| loss: 0.12586 | train_mse: 0.06163 | train_mae: 0.18042 |  0:03:18s\n"
     ]
    },
    {
     "name": "stdout",
     "output_type": "stream",
     "text": [
      "epoch 288| loss: 0.1332  | train_mse: 0.06343 | train_mae: 0.17971 |  0:03:19s\n"
     ]
    },
    {
     "name": "stdout",
     "output_type": "stream",
     "text": [
      "epoch 289| loss: 0.15276 | train_mse: 0.05832 | train_mae: 0.17813 |  0:03:19s\n",
      "\n",
      "Early stopping occurred at epoch 289 with best_epoch = 239 and best_train_mae = 0.16767\n",
      "Best weights from best epoch are automatically used!\n",
      "BEST VALID SCORE FOR dataset : 0.16767386944082194\n",
      "FINAL TEST SCORE FOR dataset: 0.23378551965775834\n",
      "{'loss': [2.4866660567793515, 0.7838510829623383, 0.6014147766745916, 0.5429929317814288, 0.4572835116103144, 0.3351469615308365, 0.3869635310798588, 0.3772744415420117, 0.38361562360631357, 0.31590500090381884, 0.3771170655099472, 0.2856671208202249, 0.2888795625750381, 0.2906870756408956, 0.2470141762849128, 0.28459213452764076, 0.31898449582628685, 0.30226398488082507, 0.2758792986964235, 0.2672543247589971, 0.24335816679614605, 0.22618577149834965, 0.22709632569020338, 0.18970362547010478, 0.23090620988076277, 0.20951595371312434, 0.2307895566567336, 0.21385144361174932, 0.23024381092279264, 0.19953942889034157, 0.2028594238333183, 0.24876094454585915, 0.21331324937319993, 0.2019297068957055, 0.2200608250528279, 0.20530237419770495, 0.20859965416464474, 0.2387299727980453, 0.22711661207203818, 0.20514546880627624, 0.19982874806564632, 0.19699538521247334, 0.23023040636931316, 0.20703519216858515, 0.1817002340708629, 0.28112254918801904, 0.21063281846518564, 0.21591215219238016, 0.18696651010230037, 0.19553659369449805, 0.19612030139063844, 0.15083403487016658, 0.19326714035308007, 0.18545006953253604, 0.18303845188405254, 0.20417814163288267, 0.2135327942300551, 0.19037566562690358, 0.1620753268794258, 0.1658147634698613, 0.18763190891483042, 0.19827447979166957, 0.15035634082142668, 0.15202751873743417, 0.2303612152538677, 0.21502779350422396, 0.194559577520531, 0.16762272947200454, 0.1650147908689952, 0.18053613883433955, 0.25622817918215646, 0.1972988693430872, 0.17799502507884904, 0.3041445602579872, 0.24006412200408406, 0.21821036433229352, 0.26633485384506755, 0.22862283855971724, 0.21175696280333076, 0.172312462388879, 0.16496817516808462, 0.18545676192434707, 0.14452978865344923, 0.1609066671664172, 0.13787253916558653, 0.18250471825646883, 0.1713145629014119, 0.16782720372228338, 0.1608455015881227, 0.15140497640217884, 0.1646915585687845, 0.2055016576063515, 0.19170174740328647, 0.18050735598743553, 0.15884873831626212, 0.1619901120072544, 0.1605982771604368, 0.17662198664528309, 0.15485184617561873, 0.14562418525761897, 0.18721523703915058, 0.16117806776915447, 0.1805562922860136, 0.13860470639302, 0.1329453971126292, 0.14176559595778437, 0.14654311360699115, 0.18404592470367356, 0.16751309432605704, 0.18963743318425547, 0.2038381813776375, 0.12606521806504467, 0.14565386055129587, 0.11499253682570883, 0.1362290535085272, 0.12005262652246079, 0.11571662091087587, 0.1325727806675552, 0.12916520769053166, 0.1212290351343627, 0.16295808811884116, 0.11813031675496904, 0.14621404152695494, 0.13162963641899647, 0.14355160222195162, 0.12118722321373401, 0.1499623942493212, 0.15045660940727384, 0.12937625283652013, 0.16012950175174392, 0.15511585609747633, 0.1264933220820852, 0.1491618510520104, 0.1555306308782927, 0.14234236539295406, 0.10884575361367499, 0.13623535168347972, 0.16035636436968748, 0.1756299105611178, 0.14260492451710277, 0.13347530881367106, 0.21010254847236198, 0.1361229580522764, 0.12346099567885446, 0.15196347339908675, 0.12489285740521874, 0.18381305599566733, 0.15983179919790513, 0.21478241298458364, 0.22299065020414863, 0.19599371499354296, 0.17513515800237656, 0.17373477792975925, 0.18773679383615455, 0.129081729762625, 0.20836040060413946, 0.14748699254918807, 0.14390507318300777, 0.2101043985031619, 0.14699123844061748, 0.10393429451649731, 0.14240526149768637, 0.1392994233877352, 0.15601843580751132, 0.13100837938266224, 0.10223378639410038, 0.17729052311123009, 0.10601366237543597, 0.18373071129369264, 0.11467092642837232, 0.13478763298232957, 0.1418250214197848, 0.0977984747969278, 0.10891382403597974, 0.117161760235777, 0.15880800355779062, 0.1165972886109116, 0.14725649725682666, 0.12695602939860656, 0.14062897816743, 0.14267500231761743, 0.1858292806266558, 0.1291145877082749, 0.11113693845449107, 0.15526314920718126, 0.11219754092174002, 0.12757385691793838, 0.14004880595620317, 0.1394721995485891, 0.10328158795243443, 0.11220901702890301, 0.10035270482006639, 0.14109416202743455, 0.10863912120313927, 0.11926950735620934, 0.13942266403153392, 0.12408842633266261, 0.15812714065950695, 0.13709007218332572, 0.15082149318244198, 0.11314718233476771, 0.1340464409625176, 0.10586441190230965, 0.12402394871310432, 0.1329507028112317, 0.11396535508113333, 0.09238021916682178, 0.11203820708364544, 0.12276440194927819, 0.14565795335439172, 0.09254260198904736, 0.13849716817978586, 0.16525849065568188, 0.11898605016493562, 0.1272894384542314, 0.12493262786676387, 0.10492921495201564, 0.1087712300295877, 0.10657918630260052, 0.16231388768347182, 0.12712050428484925, 0.11247167286306324, 0.13614317538714646, 0.10376302779901146, 0.1146119093835944, 0.08936100844109413, 0.08960115407953168, 0.12173150243735549, 0.10647176305698876, 0.10142324186197602, 0.13075131487728345, 0.11453107678064026, 0.13572019095172977, 0.11932369314207888, 0.11313749421941172, 0.11867934354756138, 0.11601899224932831, 0.10931430926712432, 0.12078026158384758, 0.11244615440321441, 0.09843060580810697, 0.13373058355680786, 0.13304913634120827, 0.10295529914374399, 0.1159337319359921, 0.11475140033382, 0.11384180689802265, 0.12346570238028423, 0.11604184926588937, 0.1076843879821867, 0.13723599947620146, 0.14300803648363244, 0.14713252007518662, 0.18131080646030973, 0.1408995035851356, 0.1618917883917837, 0.18959867555906276, 0.1755016215219356, 0.12904178402801553, 0.1411735005307906, 0.11664964022612807, 0.1402339043077266, 0.10979832100248572, 0.11468467204877646, 0.13992961680535043, 0.15139683063077455, 0.13173993658458832, 0.08707763667743985, 0.09591311467165994, 0.11996510241291311, 0.1281685188117594, 0.08839043373666187, 0.10714919924145878, 0.10034130956276809, 0.1646268353013709, 0.11407263676571373, 0.14469791343896696, 0.09881027267858533, 0.13495619034413067, 0.12182294127374592, 0.1391255778841453, 0.13524244843733194, 0.11503674827589846, 0.14455679914738873, 0.13667223351721716, 0.11637521734332094, 0.12249279287782046, 0.12585566775633558, 0.13320085730883155, 0.15275893913637292], 'lr': [0.01, 0.01, 0.01, 0.01, 0.01, 0.01, 0.01, 0.01, 0.01, 0.01, 0.01, 0.01, 0.01, 0.01, 0.01, 0.01, 0.01, 0.01, 0.01, 0.01, 0.01, 0.01, 0.01, 0.01, 0.01, 0.01, 0.01, 0.01, 0.01, 0.01, 0.01, 0.01, 0.01, 0.01, 0.01, 0.01, 0.01, 0.01, 0.01, 0.01, 0.01, 0.01, 0.01, 0.01, 0.01, 0.01, 0.01, 0.01, 0.01, 0.01, 0.01, 0.01, 0.01, 0.01, 0.01, 0.01, 0.01, 0.01, 0.01, 0.01, 0.01, 0.01, 0.01, 0.01, 0.01, 0.01, 0.01, 0.01, 0.01, 0.01, 0.01, 0.01, 0.01, 0.01, 0.01, 0.01, 0.01, 0.01, 0.01, 0.01, 0.01, 0.01, 0.01, 0.01, 0.01, 0.01, 0.01, 0.01, 0.01, 0.01, 0.01, 0.01, 0.01, 0.01, 0.01, 0.01, 0.01, 0.01, 0.01, 0.01, 0.01, 0.01, 0.01, 0.01, 0.01, 0.01, 0.01, 0.01, 0.01, 0.01, 0.01, 0.01, 0.01, 0.01, 0.01, 0.01, 0.01, 0.01, 0.01, 0.01, 0.01, 0.01, 0.01, 0.01, 0.01, 0.01, 0.01, 0.01, 0.01, 0.01, 0.01, 0.01, 0.01, 0.01, 0.01, 0.01, 0.01, 0.01, 0.01, 0.01, 0.01, 0.01, 0.01, 0.01, 0.01, 0.01, 0.01, 0.01, 0.01, 0.01, 0.01, 0.01, 0.01, 0.01, 0.01, 0.01, 0.01, 0.01, 0.01, 0.01, 0.01, 0.01, 0.01, 0.01, 0.01, 0.01, 0.01, 0.01, 0.01, 0.01, 0.01, 0.01, 0.01, 0.01, 0.01, 0.01, 0.01, 0.01, 0.01, 0.01, 0.01, 0.01, 0.01, 0.01, 0.01, 0.01, 0.01, 0.01, 0.01, 0.01, 0.01, 0.01, 0.01, 0.01, 0.01, 0.01, 0.01, 0.01, 0.01, 0.01, 0.01, 0.01, 0.01, 0.01, 0.01, 0.01, 0.01, 0.01, 0.01, 0.01, 0.01, 0.01, 0.01, 0.01, 0.01, 0.01, 0.01, 0.01, 0.01, 0.01, 0.01, 0.01, 0.01, 0.01, 0.01, 0.01, 0.01, 0.01, 0.01, 0.01, 0.01, 0.01, 0.01, 0.01, 0.01, 0.01, 0.01, 0.01, 0.01, 0.01, 0.01, 0.01, 0.01, 0.01, 0.01, 0.01, 0.01, 0.01, 0.01, 0.01, 0.01, 0.01, 0.01, 0.01, 0.01, 0.01, 0.01, 0.01, 0.01, 0.01, 0.01, 0.01, 0.01, 0.01, 0.01, 0.01, 0.01, 0.01, 0.01, 0.01, 0.01, 0.01, 0.01, 0.01, 0.01, 0.01, 0.01, 0.01, 0.01, 0.01, 0.01, 0.01, 0.01, 0.01, 0.01, 0.01, 0.01, 0.01, 0.01, 0.01], 'train_mse': [1.561190072404393, 0.999790186633539, 0.6703661871582608, 0.47658333158362126, 0.3517494611751123, 0.33604779845440985, 0.3188633506622631, 0.26254713647816985, 0.23065106928102289, 0.20901760774678546, 0.2691678341220918, 0.2649145944582392, 0.26213145394818843, 0.2366456628356776, 0.2604349150439717, 0.2658455689851382, 0.21778008465346307, 0.22661836340478533, 0.1854655092163043, 0.17970244873238053, 0.17287496393783505, 0.17527584487519843, 0.15321067722200366, 0.15440898956054036, 0.15442273868675535, 0.14276185810501668, 0.1454749152802791, 0.15958456274222266, 0.15398018543780517, 0.16412340495119587, 0.13649488807246385, 0.17823841824381467, 0.15453626070486845, 0.14280959859644143, 0.13484714556625108, 0.17359824698082385, 0.14396346104273572, 0.13902048325203992, 0.14866126001139515, 0.16081117099455428, 0.1623110032632758, 0.1414557981629092, 0.14080300399344223, 0.1173360912925456, 0.14542090194847063, 0.14069008003992378, 0.1288723815112818, 0.15035774722799106, 0.13025705865550802, 0.14118344238536362, 0.12634266057036445, 0.12264376268084008, 0.11797501378920001, 0.11454781361943027, 0.11681010478924157, 0.11804089662343671, 0.12018574796808264, 0.14511026561992751, 0.11616516103114984, 0.11627816319930614, 0.12829592177461419, 0.11798585874557294, 0.10379954306280435, 0.1378050884954624, 0.16397905172069732, 0.11536419137341189, 0.11803030567988508, 0.12227505341165304, 0.11286662934931968, 0.11593480216127436, 0.12609476622495186, 0.11063145850202336, 0.11602264307455287, 0.14026079039853265, 0.18700268895138, 0.17282999655009582, 0.1791510075089336, 0.12599164192682855, 0.1382780645719846, 0.10209369375535023, 0.11159627192691615, 0.09681455648176868, 0.1042619068889214, 0.10182716693664064, 0.1087041137555497, 0.10506692656143136, 0.09858687333169625, 0.11787698160565338, 0.11897909399744369, 0.1032440130661876, 0.11028943563542126, 0.1105419993952749, 0.10946908633058515, 0.11651834676499652, 0.09164245071352722, 0.10317888042637323, 0.08923718620592334, 0.09030769830805228, 0.09406341472719769, 0.0855855447897381, 0.10093533649816466, 0.09941176197531533, 0.08208286709706893, 0.08931814430343045, 0.09332659506979542, 0.07941335991859498, 0.08817712640619879, 0.10387039872750886, 0.10480891147363137, 0.08668726689553005, 0.10904583420230059, 0.10437491839979175, 0.09171051180264075, 0.09072225197173428, 0.09849953254152707, 0.08792407402408361, 0.07888369570261557, 0.08170346046257759, 0.08796240134441331, 0.08991665672305955, 0.08458787433971096, 0.08009627727465941, 0.0750661633920276, 0.07316543773787718, 0.06980364318412699, 0.07170720770704092, 0.08469144823804416, 0.0887279126669329, 0.08523668682634185, 0.09705552553751065, 0.1026681152037948, 0.08054930193315868, 0.09755082758668324, 0.07656439725109764, 0.07729056918410349, 0.07204099767733825, 0.07953565851780371, 0.09565323893210967, 0.09007613534856261, 0.07922403754544123, 0.0960567533740257, 0.094023526206021, 0.10386670529346441, 0.08054723415166859, 0.0741099079454791, 0.0745127720324049, 0.07506890560784449, 0.08058432322774421, 0.09261267271524738, 0.11344400750793714, 0.11525106170043493, 0.09944946521804632, 0.08593052626344948, 0.08879584401181816, 0.07161605969394848, 0.07503564439153405, 0.07739426446537942, 0.07056778915621943, 0.086668947500771, 0.07687002866612302, 0.07371261434140644, 0.0726451357179328, 0.07755864941343839, 0.08034280939652154, 0.07865661977677456, 0.07404899549507668, 0.07046251508907223, 0.06724364999626922, 0.08081838182145887, 0.05710060974382081, 0.06671369838239409, 0.062757819991899, 0.08011677113132122, 0.06610910520723666, 0.06117167133620812, 0.060806771061529215, 0.060793851529601844, 0.08018258041910725, 0.08300497863614253, 0.08793644509790512, 0.07747470932503778, 0.09211978175868014, 0.07465434634797209, 0.060502804971433774, 0.07296408887298572, 0.07642519281044209, 0.07137577770026984, 0.06393903305814619, 0.06654581277269814, 0.06749724393617774, 0.06736561704773962, 0.06975797985142804, 0.06939757695878188, 0.07236062063255062, 0.058418662661734774, 0.06387940735786096, 0.07213668450405489, 0.08244336154139682, 0.07619967228420357, 0.08735448400617143, 0.06367398392493331, 0.06667207061617385, 0.06815681020135803, 0.06316564158099071, 0.06518739782727025, 0.06684364447613216, 0.06121789779445446, 0.07060191117518186, 0.06478759858415913, 0.06031985676294732, 0.07182340945187601, 0.07837297929061307, 0.06975165413326125, 0.06399549695114069, 0.06887608757217138, 0.0691619077611509, 0.07710339446394529, 0.060189896970053815, 0.06646048100300267, 0.07809981703184082, 0.06510714613715755, 0.06755769520762372, 0.06677089166466156, 0.05959333374549601, 0.05348252804005028, 0.060455413766680816, 0.07293940056259107, 0.06419457831006793, 0.0695927445570249, 0.054838215451405596, 0.06529341989350661, 0.05688191240108466, 0.06167221467657208, 0.06884178779948859, 0.053189958736662706, 0.05700654179612368, 0.05914199548238199, 0.05247785759973097, 0.05220046147605295, 0.05166897360892271, 0.054348596453961846, 0.05864598216137481, 0.07253046591978543, 0.05748383492325365, 0.06470864746696763, 0.05856239200670867, 0.0801914265359338, 0.06444193470128416, 0.08765139359983558, 0.07767652970450852, 0.06837773744562776, 0.062419089071087154, 0.0667870698251439, 0.06470940178715262, 0.07746422055137041, 0.08793956639955747, 0.08207405301847848, 0.08008601612763788, 0.07614550417504888, 0.07787748412886936, 0.07574306623003736, 0.07219328219888949, 0.06876783121692509, 0.08604984072745421, 0.07241803411521067, 0.07471552799680053, 0.06971721362529942, 0.07482668835655644, 0.06649154659958348, 0.06939048223651348, 0.07318861185326897, 0.06635424608556509, 0.0679842678666855, 0.06941187762605233, 0.08050506341845655, 0.06879587782874787, 0.0809534143814046, 0.07606304358765979, 0.08014503601255582, 0.07060117245349139, 0.07191097391724482, 0.06108743705522177, 0.06616013386637574, 0.07124953625730876, 0.06270231855527436, 0.06041963697603994, 0.0620475201426147, 0.061625114611176056, 0.0634278280379592, 0.05831761883938486], 'train_mae': [0.8026784764885353, 0.7042397632620158, 0.5553113696629519, 0.49206124260966155, 0.4200591307230278, 0.40888442472059244, 0.3967237254253933, 0.3612095497141871, 0.3424219643100292, 0.310645548335695, 0.35754800118353625, 0.3543117880043296, 0.3462724078840738, 0.32078200610186597, 0.34034475324461194, 0.3456903835698397, 0.3090971003706742, 0.330178574186389, 0.28767447102331867, 0.2879293636423486, 0.29074617254583285, 0.30228370588282, 0.2727861421799329, 0.2770152166473315, 0.2734451940801139, 0.2630413317561707, 0.2679451592267234, 0.2804514354694813, 0.2728342339572786, 0.28733991496732225, 0.25954203315231433, 0.30160805940478996, 0.28146391737460885, 0.26423254139174857, 0.2591541428703148, 0.277979545046914, 0.2736749490684403, 0.268546386256727, 0.27114158321227283, 0.27040875184846536, 0.26976692179241096, 0.2543140160871421, 0.25489011868662526, 0.23973031967189928, 0.27077003202073385, 0.27021542925003617, 0.24975761843727248, 0.2707340431897799, 0.2524271583485007, 0.26268313685922984, 0.25616463219389973, 0.24489540168044735, 0.24249307443775425, 0.2378425051978895, 0.23883272109891843, 0.24191296844549734, 0.2469436966980211, 0.23939357761241442, 0.24500692039244037, 0.23971362984122516, 0.24506426343169077, 0.235003814757689, 0.230630405176866, 0.2494162000343197, 0.27368660196405376, 0.23504995067207363, 0.24566124214323717, 0.25278928788949906, 0.23955082990069768, 0.24481928443709264, 0.25035509373702547, 0.24276453125416145, 0.2457892544796831, 0.24455172258984817, 0.2817248037522971, 0.2722999931804591, 0.2908031660447656, 0.2541171896418691, 0.26172197034953104, 0.2318719269202711, 0.2335268849882129, 0.21977899451533636, 0.2302998023738407, 0.2246985269265801, 0.22154368191153725, 0.22275538005339265, 0.2150042673677752, 0.24775620328860648, 0.24675561281592848, 0.23219026178061372, 0.23523215626656183, 0.2401425270973811, 0.23824237888220526, 0.2403510360475094, 0.21179474541265506, 0.2211449405778503, 0.2132096495627224, 0.21333840332266385, 0.21025474072532932, 0.20767681713464936, 0.2295510238035024, 0.22803268117707132, 0.2049647995201148, 0.21761364581152037, 0.21659248896931302, 0.20379624629810353, 0.21037443407734224, 0.2155863957313202, 0.2237242957667395, 0.209079640920872, 0.232539318211345, 0.2262136500163302, 0.21244682632284534, 0.2093688363224114, 0.2155681661409328, 0.20900404298489494, 0.20285040777720137, 0.21316115721478116, 0.2176747751644646, 0.21891660833262894, 0.21172489562400265, 0.2090339570150232, 0.19717301402807963, 0.19706541831767027, 0.1924601007871066, 0.19307447929190028, 0.21219842758142002, 0.2047184204547228, 0.20526810085784386, 0.2156817306451369, 0.21809212147725418, 0.19951160879750815, 0.2188723344136066, 0.1943814148142817, 0.19640168858025348, 0.1936716715785191, 0.19911902467893697, 0.21766484357402466, 0.2148890276554622, 0.2063196485504698, 0.22413145534114765, 0.20767182887192004, 0.22790546638577566, 0.20801949643913106, 0.19620523737250978, 0.19633401768801254, 0.19812282209683174, 0.2064045386128512, 0.21128106539415384, 0.23263164929551233, 0.22913090160037308, 0.23517482384282495, 0.21513815670020098, 0.22301601546332694, 0.19196147687190396, 0.20081963508701517, 0.20406488782046592, 0.19046076479607835, 0.21189167869942352, 0.1999809749809645, 0.19394404655764466, 0.19510649285868456, 0.1963249036143483, 0.20490043000812602, 0.1975063527610563, 0.19443809067463172, 0.1888583713415889, 0.18938073512122328, 0.2031800963148898, 0.17684213788445674, 0.18941436848100773, 0.19061348011245072, 0.19867769592929, 0.19123732429397838, 0.18328720135868423, 0.18410813633400866, 0.1817513656210673, 0.18880100163677307, 0.1986496401243067, 0.20474880017791908, 0.19158392022996779, 0.220039625957631, 0.20420809538374352, 0.18408526656347854, 0.20120856164392034, 0.1960583150422653, 0.18924913384925457, 0.19105591329600008, 0.19275703963663635, 0.1880926106356, 0.19432914389913855, 0.18949969473555645, 0.1944208890920582, 0.19785074955505708, 0.1794920412754864, 0.19272025981375174, 0.18726672445481873, 0.2102294917584649, 0.19638374750827273, 0.1925900839129199, 0.17942177319428249, 0.18614117958941362, 0.1845662099119738, 0.18395122385469018, 0.18162779305440485, 0.1840226906497979, 0.18001757123250717, 0.18951604739699415, 0.18530178854393434, 0.18165254207086223, 0.18867491556881727, 0.19660448310549547, 0.19221964496243116, 0.1776894032347802, 0.18025118893236236, 0.18946414615016113, 0.19223661798900404, 0.1764547450445644, 0.179370523274818, 0.20196484762504335, 0.18653068143280085, 0.18935978633801964, 0.18630327947344125, 0.18393202229093855, 0.17553754563728305, 0.17752162619119993, 0.19479507292547607, 0.18677604378399196, 0.2039307001830391, 0.17503245210412982, 0.18288672910971757, 0.17028409071197015, 0.17551105676805082, 0.1905482167223551, 0.1731966990945128, 0.17437012375766342, 0.17652134637323633, 0.17005564200237466, 0.1688082840828174, 0.16767386944082194, 0.1707652203289972, 0.17305207526234795, 0.19229115472306693, 0.17128619306289117, 0.1784517358978227, 0.17151588752440156, 0.1926714253442215, 0.17694686705555632, 0.20140714962225312, 0.1893013527080222, 0.18958891966400532, 0.1794375232692819, 0.18537242375303353, 0.181453175083787, 0.19727129701793578, 0.21562059202832315, 0.2092647060160386, 0.20022081051461305, 0.1971643775118012, 0.20478964738337618, 0.19357117009393712, 0.18582827806617136, 0.17902957643397438, 0.206901400000967, 0.19252403003547194, 0.19222505779536375, 0.18204002067319106, 0.19144349608256137, 0.18271601672878432, 0.18790881542470586, 0.18366512572850896, 0.1852639842489562, 0.18698088597942963, 0.18035827851935088, 0.19668520229473868, 0.17911476328388576, 0.19806491334973678, 0.18973859851382163, 0.1920944256381358, 0.18664124981925737, 0.20111178442026406, 0.17974863421671514, 0.1812355963462346, 0.1930842365450492, 0.18260454029799075, 0.1811071429948666, 0.17740825382681932, 0.18042262359026384, 0.17970572220600678, 0.17812690983148916]}\n"
     ]
    },
    {
     "data": {
      "application/scrapbook.scrap.json+json": {
       "data": 0.23378551965775834,
       "encoder": "json",
       "name": "TabNet MAE",
       "version": 1
      }
     },
     "metadata": {
      "scrapbook": {
       "data": true,
       "display": false,
       "name": "TabNet MAE"
      }
     },
     "output_type": "display_data"
    },
    {
     "name": "stdout",
     "output_type": "stream",
     "text": [
      "TabNet MAE 0.23378551965775834\n"
     ]
    },
    {
     "data": {
      "image/png": "[encoded data removed]",
      "text/plain": [
       "<Figure size 432x288 with 1 Axes>"
      ]
     },
     "metadata": {
      "needs_background": "light"
     },
     "output_type": "display_data"
    }
   ],
   "source": [
    "lr = 0.01\n",
    "\n",
    "y_train = np.reshape(y_train, (-1, 1))\n",
    "y_test = np.reshape(y_test, (-1, 1))\n",
    "\n",
    "device = torch.device('cuda' if torch.cuda.is_available() else 'cpu')\n",
    "mae_tab= baselineModels.tabnetreg(X_train,y_train,X_test,y_test,batch_size,n_features,n_target,n_epochs, lr)\n",
    "sb.glue(\"TabNet MAE\",mae_tab)\n",
    "print(\"TabNet MAE\",mae_tab)"
   ]
  }
 ],
 "metadata": {
  "kernelspec": {
   "display_name": "Python 3.7.3 64-bit",
   "language": "python",
   "name": "python3"
  },
  "language_info": {
   "codemirror_mode": {
    "name": "ipython",
    "version": 3
   },
   "file_extension": ".py",
   "mimetype": "text/x-python",
   "name": "python",
   "nbconvert_exporter": "python",
   "pygments_lexer": "ipython3",
   "version": "3.8.13"
  },
  "papermill": {
   "default_parameters": {},
   "duration": 229.268016,
   "end_time": "2022-07-21T10:27:33.704939",
   "environment_variables": {},
   "exception": null,
   "input_path": "BaselineModels.ipynb",
   "output_path": "./BaseLine_Model_Output/BaselineModels_output_4.ipynb",
   "parameters": {},
   "start_time": "2022-07-21T10:23:44.436923",
   "version": "2.3.3"
  },
  "vscode": {
   "interpreter": {
    "hash": "aee8b7b246df8f9039afb4144a1f6fd8d2ca17a180786b69acc140d282b71a49"
   }
  }
 },
 "nbformat": 4,
 "nbformat_minor": 5
}