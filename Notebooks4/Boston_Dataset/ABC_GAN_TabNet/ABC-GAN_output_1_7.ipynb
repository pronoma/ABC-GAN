{
 "cells": [
  {
   "cell_type": "markdown",
   "id": "622780e6",
   "metadata": {
    "id": "622780e6",
    "papermill": {
     "duration": 0.013368,
     "end_time": "2022-07-22T13:05:31.662010",
     "exception": false,
     "start_time": "2022-07-22T13:05:31.648642",
     "status": "completed"
    },
    "tags": []
   },
   "source": [
    "## Import Libraries "
   ]
  },
  {
   "cell_type": "code",
   "execution_count": 1,
   "id": "a62397e3",
   "metadata": {
    "execution": {
     "iopub.execute_input": "2022-07-22T13:05:31.683075Z",
     "iopub.status.busy": "2022-07-22T13:05:31.682643Z",
     "iopub.status.idle": "2022-07-22T13:05:31.703393Z",
     "shell.execute_reply": "2022-07-22T13:05:31.702052Z"
    },
    "id": "a62397e3",
    "papermill": {
     "duration": 0.036832,
     "end_time": "2022-07-22T13:05:31.707521",
     "exception": false,
     "start_time": "2022-07-22T13:05:31.670689",
     "status": "completed"
    },
    "tags": []
   },
   "outputs": [],
   "source": [
    "import warnings\n",
    "import sys\n",
    "sys.path.insert(0, '../../src')\n",
    "warnings.filterwarnings('ignore')"
   ]
  },
  {
   "cell_type": "code",
   "execution_count": 2,
   "id": "d6a4e155",
   "metadata": {
    "execution": {
     "iopub.execute_input": "2022-07-22T13:05:31.734457Z",
     "iopub.status.busy": "2022-07-22T13:05:31.733314Z",
     "iopub.status.idle": "2022-07-22T13:05:38.337361Z",
     "shell.execute_reply": "2022-07-22T13:05:38.336375Z"
    },
    "id": "d6a4e155",
    "papermill": {
     "duration": 6.622896,
     "end_time": "2022-07-22T13:05:38.340199",
     "exception": false,
     "start_time": "2022-07-22T13:05:31.717303",
     "status": "completed"
    },
    "tags": []
   },
   "outputs": [],
   "source": [
    "import ABC_train_test2\n",
    "import bostonDataset\n",
    "import network\n",
    "import dataset\n",
    "import sanityChecks\n",
    "import torch \n",
    "import scrapbook as sb\n",
    "from statistics import mean \n",
    "import catboost as ctb \n",
    "from sklearn.model_selection import train_test_split\n",
    "from sklearn.metrics import mean_squared_error,mean_absolute_error\n",
    "import numpy as np\n",
    "from pytorch_tabnet.tab_model import TabNetRegressor"
   ]
  },
  {
   "cell_type": "markdown",
   "id": "2fa5b0f7",
   "metadata": {
    "id": "2fa5b0f7",
    "papermill": {
     "duration": 0.007995,
     "end_time": "2022-07-22T13:05:38.355710",
     "exception": false,
     "start_time": "2022-07-22T13:05:38.347715",
     "status": "completed"
    },
    "tags": []
   },
   "source": [
    "## Parameters "
   ]
  },
  {
   "cell_type": "code",
   "execution_count": 3,
   "id": "783186fb",
   "metadata": {
    "execution": {
     "iopub.execute_input": "2022-07-22T13:05:38.383904Z",
     "iopub.status.busy": "2022-07-22T13:05:38.378555Z",
     "iopub.status.idle": "2022-07-22T13:05:38.392239Z",
     "shell.execute_reply": "2022-07-22T13:05:38.390345Z"
    },
    "id": "783186fb",
    "papermill": {
     "duration": 0.028404,
     "end_time": "2022-07-22T13:05:38.396615",
     "exception": false,
     "start_time": "2022-07-22T13:05:38.368211",
     "status": "completed"
    },
    "tags": [
     "parameters"
    ]
   },
   "outputs": [],
   "source": [
    "variance = 1\n",
    "bias = 1 "
   ]
  },
  {
   "cell_type": "code",
   "execution_count": 4,
   "id": "b2fb3964",
   "metadata": {
    "execution": {
     "iopub.execute_input": "2022-07-22T13:05:38.413919Z",
     "iopub.status.busy": "2022-07-22T13:05:38.413626Z",
     "iopub.status.idle": "2022-07-22T13:05:38.418134Z",
     "shell.execute_reply": "2022-07-22T13:05:38.417176Z"
    },
    "papermill": {
     "duration": 0.015802,
     "end_time": "2022-07-22T13:05:38.420589",
     "exception": false,
     "start_time": "2022-07-22T13:05:38.404787",
     "status": "completed"
    },
    "tags": [
     "injected-parameters"
    ]
   },
   "outputs": [],
   "source": [
    "# Parameters\n",
    "variance = 0.1\n",
    "bias = 0.01\n"
   ]
  },
  {
   "cell_type": "markdown",
   "id": "391cdbfd",
   "metadata": {
    "id": "391cdbfd",
    "papermill": {
     "duration": 0.006616,
     "end_time": "2022-07-22T13:05:38.433876",
     "exception": false,
     "start_time": "2022-07-22T13:05:38.427260",
     "status": "completed"
    },
    "tags": []
   },
   "source": [
    "## Dataset \n"
   ]
  },
  {
   "cell_type": "code",
   "execution_count": 5,
   "id": "5b51f161",
   "metadata": {
    "execution": {
     "iopub.execute_input": "2022-07-22T13:05:38.452711Z",
     "iopub.status.busy": "2022-07-22T13:05:38.452152Z",
     "iopub.status.idle": "2022-07-22T13:05:38.456829Z",
     "shell.execute_reply": "2022-07-22T13:05:38.455645Z"
    },
    "id": "5b51f161",
    "papermill": {
     "duration": 0.018237,
     "end_time": "2022-07-22T13:05:38.459233",
     "exception": false,
     "start_time": "2022-07-22T13:05:38.440996",
     "status": "completed"
    },
    "tags": []
   },
   "outputs": [],
   "source": [
    "#Parameters \n",
    "n_features = 13\n",
    "n_samples= 506\n",
    "n_target = 1 "
   ]
  },
  {
   "cell_type": "code",
   "execution_count": 6,
   "id": "5d6eced4",
   "metadata": {
    "execution": {
     "iopub.execute_input": "2022-07-22T13:05:38.491788Z",
     "iopub.status.busy": "2022-07-22T13:05:38.489991Z",
     "iopub.status.idle": "2022-07-22T13:05:38.521435Z",
     "shell.execute_reply": "2022-07-22T13:05:38.520597Z"
    },
    "id": "5d6eced4",
    "papermill": {
     "duration": 0.057919,
     "end_time": "2022-07-22T13:05:38.524290",
     "exception": false,
     "start_time": "2022-07-22T13:05:38.466371",
     "status": "completed"
    },
    "tags": []
   },
   "outputs": [
    {
     "name": "stdout",
     "output_type": "stream",
     "text": [
      "         X1        X2        X3        X4        X5        X6        X7  \\\n",
      "0 -0.419782  0.284830 -1.287909 -0.272599 -0.144217  0.413672 -0.120013   \n",
      "1 -0.417339 -0.487722 -0.593381 -0.272599 -0.740262  0.194274  0.367166   \n",
      "2 -0.417342 -0.487722 -0.593381 -0.272599 -0.740262  1.282714 -0.265812   \n",
      "3 -0.416750 -0.487722 -1.306878 -0.272599 -0.835284  1.016303 -0.809889   \n",
      "4 -0.412482 -0.487722 -1.306878 -0.272599 -0.835284  1.228577 -0.511180   \n",
      "\n",
      "         X8        X9       X10       X11       X12       X13         Y  \n",
      "0  0.140214 -0.982843 -0.666608 -1.459000  0.441052 -1.075562  0.159686  \n",
      "1  0.557160 -0.867883 -0.987329 -0.303094  0.441052 -0.492439 -0.101524  \n",
      "2  0.557160 -0.867883 -0.987329 -0.303094  0.396427 -1.208727  1.324247  \n",
      "3  1.077737 -0.752922 -1.106115  0.113032  0.416163 -1.361517  1.182758  \n",
      "4  1.077737 -0.752922 -1.106115  0.113032  0.441052 -1.026501  1.487503  \n"
     ]
    }
   ],
   "source": [
    "X,Y = bostonDataset.boston_data()"
   ]
  },
  {
   "cell_type": "code",
   "execution_count": 7,
   "id": "fe007438",
   "metadata": {
    "execution": {
     "iopub.execute_input": "2022-07-22T13:05:38.539947Z",
     "iopub.status.busy": "2022-07-22T13:05:38.539672Z",
     "iopub.status.idle": "2022-07-22T13:05:38.545052Z",
     "shell.execute_reply": "2022-07-22T13:05:38.544323Z"
    },
    "id": "fe007438",
    "papermill": {
     "duration": 0.015848,
     "end_time": "2022-07-22T13:05:38.547444",
     "exception": false,
     "start_time": "2022-07-22T13:05:38.531596",
     "status": "completed"
    },
    "tags": []
   },
   "outputs": [],
   "source": [
    "#Train test split for dataset \n",
    "X_train,X_test,Y_train,Y_test = train_test_split(X,Y,test_size = 0.2)\n",
    "train_data = dataset.CustomDataset(X_train,Y_train)\n",
    "test_data = dataset.CustomDataset(X_test,Y_test)\n"
   ]
  },
  {
   "cell_type": "markdown",
   "id": "a9a1af34",
   "metadata": {
    "id": "a9a1af34",
    "papermill": {
     "duration": 0.007624,
     "end_time": "2022-07-22T13:05:38.562369",
     "exception": false,
     "start_time": "2022-07-22T13:05:38.554745",
     "status": "completed"
    },
    "tags": []
   },
   "source": [
    "## Training Parameters "
   ]
  },
  {
   "cell_type": "code",
   "execution_count": 8,
   "id": "952b7fc8",
   "metadata": {
    "execution": {
     "iopub.execute_input": "2022-07-22T13:05:38.583467Z",
     "iopub.status.busy": "2022-07-22T13:05:38.582853Z",
     "iopub.status.idle": "2022-07-22T13:05:38.587362Z",
     "shell.execute_reply": "2022-07-22T13:05:38.586682Z"
    },
    "id": "952b7fc8",
    "papermill": {
     "duration": 0.020279,
     "end_time": "2022-07-22T13:05:38.589756",
     "exception": false,
     "start_time": "2022-07-22T13:05:38.569477",
     "status": "completed"
    },
    "tags": []
   },
   "outputs": [],
   "source": [
    "batch_size = 32\n",
    "n_epochs = 1000\n",
    "#Select the device \n",
    "device = torch.device('cuda' if torch.cuda.is_available() else 'cpu')"
   ]
  },
  {
   "cell_type": "markdown",
   "id": "a95e1600",
   "metadata": {
    "id": "a95e1600",
    "papermill": {
     "duration": 0.007974,
     "end_time": "2022-07-22T13:05:38.609801",
     "exception": false,
     "start_time": "2022-07-22T13:05:38.601827",
     "status": "completed"
    },
    "tags": []
   },
   "source": [
    "# ABC Pre-generator Model \n",
    "\n",
    "1. The catboost model is used as a pre-generator model for the ABC-GAN. \n",
    "2. The model is first trained on the entire dataset \n",
    "3. It generats X,Y pairs and we add some Gaussian noise with mean 0 and variance 1 to it which is then feed as input to the generator.\n"
   ]
  },
  {
   "cell_type": "code",
   "execution_count": 9,
   "id": "ff8ce7bd",
   "metadata": {
    "execution": {
     "iopub.execute_input": "2022-07-22T13:05:38.625683Z",
     "iopub.status.busy": "2022-07-22T13:05:38.625180Z",
     "iopub.status.idle": "2022-07-22T13:06:34.453948Z",
     "shell.execute_reply": "2022-07-22T13:06:34.453220Z"
    },
    "id": "ff8ce7bd",
    "papermill": {
     "duration": 55.839041,
     "end_time": "2022-07-22T13:06:34.456223",
     "exception": false,
     "start_time": "2022-07-22T13:05:38.617182",
     "status": "completed"
    },
    "tags": []
   },
   "outputs": [
    {
     "name": "stdout",
     "output_type": "stream",
     "text": [
      "Device used : cpu\n"
     ]
    },
    {
     "name": "stdout",
     "output_type": "stream",
     "text": [
      "epoch 0  | loss: 2.83075 | train_mse: 1.53902 | train_mae: 0.88857 |  0:00:00s\n"
     ]
    },
    {
     "name": "stdout",
     "output_type": "stream",
     "text": [
      "epoch 1  | loss: 1.14784 | train_mse: 1.2882  | train_mae: 0.71059 |  0:00:00s\n"
     ]
    },
    {
     "name": "stdout",
     "output_type": "stream",
     "text": [
      "epoch 2  | loss: 0.66823 | train_mse: 0.75848 | train_mae: 0.58801 |  0:00:01s\n"
     ]
    },
    {
     "name": "stdout",
     "output_type": "stream",
     "text": [
      "epoch 3  | loss: 0.50579 | train_mse: 0.59069 | train_mae: 0.49833 |  0:00:01s\n"
     ]
    },
    {
     "name": "stdout",
     "output_type": "stream",
     "text": [
      "epoch 4  | loss: 0.49618 | train_mse: 0.49327 | train_mae: 0.48638 |  0:00:01s\n"
     ]
    },
    {
     "name": "stdout",
     "output_type": "stream",
     "text": [
      "epoch 5  | loss: 0.39543 | train_mse: 0.43047 | train_mae: 0.46438 |  0:00:01s\n"
     ]
    },
    {
     "name": "stdout",
     "output_type": "stream",
     "text": [
      "epoch 6  | loss: 0.41758 | train_mse: 0.43646 | train_mae: 0.43703 |  0:00:02s\n"
     ]
    },
    {
     "name": "stdout",
     "output_type": "stream",
     "text": [
      "epoch 7  | loss: 0.40069 | train_mse: 0.27142 | train_mae: 0.38214 |  0:00:02s\n"
     ]
    },
    {
     "name": "stdout",
     "output_type": "stream",
     "text": [
      "epoch 8  | loss: 0.31312 | train_mse: 0.31592 | train_mae: 0.38036 |  0:00:02s\n"
     ]
    },
    {
     "name": "stdout",
     "output_type": "stream",
     "text": [
      "epoch 9  | loss: 0.34383 | train_mse: 0.37166 | train_mae: 0.40099 |  0:00:03s\n"
     ]
    },
    {
     "name": "stdout",
     "output_type": "stream",
     "text": [
      "epoch 10 | loss: 0.32578 | train_mse: 0.31661 | train_mae: 0.36847 |  0:00:03s\n"
     ]
    },
    {
     "name": "stdout",
     "output_type": "stream",
     "text": [
      "epoch 11 | loss: 0.31511 | train_mse: 0.23477 | train_mae: 0.34224 |  0:00:03s\n"
     ]
    },
    {
     "name": "stdout",
     "output_type": "stream",
     "text": [
      "epoch 12 | loss: 0.27677 | train_mse: 0.21823 | train_mae: 0.34212 |  0:00:04s\n"
     ]
    },
    {
     "name": "stdout",
     "output_type": "stream",
     "text": [
      "epoch 13 | loss: 0.27325 | train_mse: 0.20513 | train_mae: 0.31908 |  0:00:04s\n"
     ]
    },
    {
     "name": "stdout",
     "output_type": "stream",
     "text": [
      "epoch 14 | loss: 0.22778 | train_mse: 0.19426 | train_mae: 0.30649 |  0:00:04s\n"
     ]
    },
    {
     "name": "stdout",
     "output_type": "stream",
     "text": [
      "epoch 15 | loss: 0.27299 | train_mse: 0.18892 | train_mae: 0.30303 |  0:00:05s\n"
     ]
    },
    {
     "name": "stdout",
     "output_type": "stream",
     "text": [
      "epoch 16 | loss: 0.23525 | train_mse: 0.17467 | train_mae: 0.28494 |  0:00:05s\n"
     ]
    },
    {
     "name": "stdout",
     "output_type": "stream",
     "text": [
      "epoch 17 | loss: 0.30273 | train_mse: 0.17885 | train_mae: 0.28397 |  0:00:05s\n"
     ]
    },
    {
     "name": "stdout",
     "output_type": "stream",
     "text": [
      "epoch 18 | loss: 0.22046 | train_mse: 0.16522 | train_mae: 0.27207 |  0:00:06s\n"
     ]
    },
    {
     "name": "stdout",
     "output_type": "stream",
     "text": [
      "epoch 19 | loss: 0.22217 | train_mse: 0.19726 | train_mae: 0.29116 |  0:00:06s\n"
     ]
    },
    {
     "name": "stdout",
     "output_type": "stream",
     "text": [
      "epoch 20 | loss: 0.23213 | train_mse: 0.16648 | train_mae: 0.27819 |  0:00:06s\n"
     ]
    },
    {
     "name": "stdout",
     "output_type": "stream",
     "text": [
      "epoch 21 | loss: 0.25286 | train_mse: 0.17263 | train_mae: 0.2866  |  0:00:07s\n"
     ]
    },
    {
     "name": "stdout",
     "output_type": "stream",
     "text": [
      "epoch 22 | loss: 0.22599 | train_mse: 0.15565 | train_mae: 0.27565 |  0:00:07s\n"
     ]
    },
    {
     "name": "stdout",
     "output_type": "stream",
     "text": [
      "epoch 23 | loss: 0.19916 | train_mse: 0.17079 | train_mae: 0.26986 |  0:00:07s\n"
     ]
    },
    {
     "name": "stdout",
     "output_type": "stream",
     "text": [
      "epoch 24 | loss: 0.21236 | train_mse: 0.18243 | train_mae: 0.27914 |  0:00:08s\n"
     ]
    },
    {
     "name": "stdout",
     "output_type": "stream",
     "text": [
      "epoch 25 | loss: 0.22748 | train_mse: 0.17003 | train_mae: 0.27461 |  0:00:08s\n"
     ]
    },
    {
     "name": "stdout",
     "output_type": "stream",
     "text": [
      "epoch 26 | loss: 0.22101 | train_mse: 0.16953 | train_mae: 0.28845 |  0:00:08s\n"
     ]
    },
    {
     "name": "stdout",
     "output_type": "stream",
     "text": [
      "epoch 27 | loss: 0.26888 | train_mse: 0.15949 | train_mae: 0.27418 |  0:00:09s\n"
     ]
    },
    {
     "name": "stdout",
     "output_type": "stream",
     "text": [
      "epoch 28 | loss: 0.1991  | train_mse: 0.14935 | train_mae: 0.27009 |  0:00:09s\n"
     ]
    },
    {
     "name": "stdout",
     "output_type": "stream",
     "text": [
      "epoch 29 | loss: 0.21304 | train_mse: 0.18338 | train_mae: 0.29432 |  0:00:09s\n"
     ]
    },
    {
     "name": "stdout",
     "output_type": "stream",
     "text": [
      "epoch 30 | loss: 0.21188 | train_mse: 0.15945 | train_mae: 0.27111 |  0:00:09s\n"
     ]
    },
    {
     "name": "stdout",
     "output_type": "stream",
     "text": [
      "epoch 31 | loss: 0.2188  | train_mse: 0.17246 | train_mae: 0.28554 |  0:00:10s\n"
     ]
    },
    {
     "name": "stdout",
     "output_type": "stream",
     "text": [
      "epoch 32 | loss: 0.18791 | train_mse: 0.15312 | train_mae: 0.2618  |  0:00:10s\n"
     ]
    },
    {
     "name": "stdout",
     "output_type": "stream",
     "text": [
      "epoch 33 | loss: 0.22388 | train_mse: 0.15331 | train_mae: 0.27519 |  0:00:10s\n"
     ]
    },
    {
     "name": "stdout",
     "output_type": "stream",
     "text": [
      "epoch 34 | loss: 0.23204 | train_mse: 0.14898 | train_mae: 0.25846 |  0:00:11s\n"
     ]
    },
    {
     "name": "stdout",
     "output_type": "stream",
     "text": [
      "epoch 35 | loss: 0.20711 | train_mse: 0.17075 | train_mae: 0.27582 |  0:00:11s\n"
     ]
    },
    {
     "name": "stdout",
     "output_type": "stream",
     "text": [
      "epoch 36 | loss: 0.2131  | train_mse: 0.12937 | train_mae: 0.24742 |  0:00:11s\n"
     ]
    },
    {
     "name": "stdout",
     "output_type": "stream",
     "text": [
      "epoch 37 | loss: 0.14623 | train_mse: 0.15994 | train_mae: 0.28028 |  0:00:11s\n"
     ]
    },
    {
     "name": "stdout",
     "output_type": "stream",
     "text": [
      "epoch 38 | loss: 0.18586 | train_mse: 0.14853 | train_mae: 0.27948 |  0:00:12s\n"
     ]
    },
    {
     "name": "stdout",
     "output_type": "stream",
     "text": [
      "epoch 39 | loss: 0.17617 | train_mse: 0.11781 | train_mae: 0.25712 |  0:00:12s\n"
     ]
    },
    {
     "name": "stdout",
     "output_type": "stream",
     "text": [
      "epoch 40 | loss: 0.1689  | train_mse: 0.12387 | train_mae: 0.25229 |  0:00:12s\n"
     ]
    },
    {
     "name": "stdout",
     "output_type": "stream",
     "text": [
      "epoch 41 | loss: 0.13394 | train_mse: 0.09845 | train_mae: 0.23774 |  0:00:13s\n"
     ]
    },
    {
     "name": "stdout",
     "output_type": "stream",
     "text": [
      "epoch 42 | loss: 0.17115 | train_mse: 0.10381 | train_mae: 0.2413  |  0:00:13s\n"
     ]
    },
    {
     "name": "stdout",
     "output_type": "stream",
     "text": [
      "epoch 43 | loss: 0.19063 | train_mse: 0.12442 | train_mae: 0.25261 |  0:00:13s\n"
     ]
    },
    {
     "name": "stdout",
     "output_type": "stream",
     "text": [
      "epoch 44 | loss: 0.19719 | train_mse: 0.14417 | train_mae: 0.2513  |  0:00:13s\n"
     ]
    },
    {
     "name": "stdout",
     "output_type": "stream",
     "text": [
      "epoch 45 | loss: 0.17317 | train_mse: 0.12059 | train_mae: 0.23    |  0:00:14s\n"
     ]
    },
    {
     "name": "stdout",
     "output_type": "stream",
     "text": [
      "epoch 46 | loss: 0.20916 | train_mse: 0.10614 | train_mae: 0.22975 |  0:00:14s\n"
     ]
    },
    {
     "name": "stdout",
     "output_type": "stream",
     "text": [
      "epoch 47 | loss: 0.22879 | train_mse: 0.10355 | train_mae: 0.23947 |  0:00:14s\n"
     ]
    },
    {
     "name": "stdout",
     "output_type": "stream",
     "text": [
      "epoch 48 | loss: 0.16949 | train_mse: 0.07851 | train_mae: 0.20842 |  0:00:15s\n"
     ]
    },
    {
     "name": "stdout",
     "output_type": "stream",
     "text": [
      "epoch 49 | loss: 0.18529 | train_mse: 0.13567 | train_mae: 0.24585 |  0:00:15s\n"
     ]
    },
    {
     "name": "stdout",
     "output_type": "stream",
     "text": [
      "epoch 50 | loss: 0.15459 | train_mse: 0.08729 | train_mae: 0.21349 |  0:00:16s\n"
     ]
    },
    {
     "name": "stdout",
     "output_type": "stream",
     "text": [
      "epoch 51 | loss: 0.12692 | train_mse: 0.10625 | train_mae: 0.23786 |  0:00:16s\n"
     ]
    },
    {
     "name": "stdout",
     "output_type": "stream",
     "text": [
      "epoch 52 | loss: 0.21991 | train_mse: 0.10334 | train_mae: 0.21974 |  0:00:17s\n"
     ]
    },
    {
     "name": "stdout",
     "output_type": "stream",
     "text": [
      "epoch 53 | loss: 0.1694  | train_mse: 0.13883 | train_mae: 0.25433 |  0:00:17s\n"
     ]
    },
    {
     "name": "stdout",
     "output_type": "stream",
     "text": [
      "epoch 54 | loss: 0.17359 | train_mse: 0.11671 | train_mae: 0.24153 |  0:00:17s\n"
     ]
    },
    {
     "name": "stdout",
     "output_type": "stream",
     "text": [
      "epoch 55 | loss: 0.18923 | train_mse: 0.09918 | train_mae: 0.23276 |  0:00:18s\n"
     ]
    },
    {
     "name": "stdout",
     "output_type": "stream",
     "text": [
      "epoch 56 | loss: 0.17655 | train_mse: 0.0833  | train_mae: 0.22033 |  0:00:18s\n"
     ]
    },
    {
     "name": "stdout",
     "output_type": "stream",
     "text": [
      "epoch 57 | loss: 0.16515 | train_mse: 0.08446 | train_mae: 0.2184  |  0:00:19s\n"
     ]
    },
    {
     "name": "stdout",
     "output_type": "stream",
     "text": [
      "epoch 58 | loss: 0.13764 | train_mse: 0.09466 | train_mae: 0.23726 |  0:00:19s\n"
     ]
    },
    {
     "name": "stdout",
     "output_type": "stream",
     "text": [
      "epoch 59 | loss: 0.13934 | train_mse: 0.08708 | train_mae: 0.21556 |  0:00:19s\n"
     ]
    },
    {
     "name": "stdout",
     "output_type": "stream",
     "text": [
      "epoch 60 | loss: 0.20527 | train_mse: 0.08796 | train_mae: 0.22271 |  0:00:20s\n"
     ]
    },
    {
     "name": "stdout",
     "output_type": "stream",
     "text": [
      "epoch 61 | loss: 0.16061 | train_mse: 0.08351 | train_mae: 0.21496 |  0:00:20s\n"
     ]
    },
    {
     "name": "stdout",
     "output_type": "stream",
     "text": [
      "epoch 62 | loss: 0.15489 | train_mse: 0.09614 | train_mae: 0.22723 |  0:00:21s\n"
     ]
    },
    {
     "name": "stdout",
     "output_type": "stream",
     "text": [
      "epoch 63 | loss: 0.10958 | train_mse: 0.07652 | train_mae: 0.20408 |  0:00:21s\n"
     ]
    },
    {
     "name": "stdout",
     "output_type": "stream",
     "text": [
      "epoch 64 | loss: 0.18655 | train_mse: 0.08679 | train_mae: 0.21112 |  0:00:22s\n"
     ]
    },
    {
     "name": "stdout",
     "output_type": "stream",
     "text": [
      "epoch 65 | loss: 0.13254 | train_mse: 0.08991 | train_mae: 0.22512 |  0:00:22s\n"
     ]
    },
    {
     "name": "stdout",
     "output_type": "stream",
     "text": [
      "epoch 66 | loss: 0.20898 | train_mse: 0.10825 | train_mae: 0.23959 |  0:00:22s\n"
     ]
    },
    {
     "name": "stdout",
     "output_type": "stream",
     "text": [
      "epoch 67 | loss: 0.15349 | train_mse: 0.10159 | train_mae: 0.23082 |  0:00:23s\n"
     ]
    },
    {
     "name": "stdout",
     "output_type": "stream",
     "text": [
      "epoch 68 | loss: 0.16164 | train_mse: 0.0786  | train_mae: 0.20685 |  0:00:23s\n"
     ]
    },
    {
     "name": "stdout",
     "output_type": "stream",
     "text": [
      "epoch 69 | loss: 0.15464 | train_mse: 0.10359 | train_mae: 0.22149 |  0:00:23s\n"
     ]
    },
    {
     "name": "stdout",
     "output_type": "stream",
     "text": [
      "epoch 70 | loss: 0.19285 | train_mse: 0.08318 | train_mae: 0.2147  |  0:00:24s\n"
     ]
    },
    {
     "name": "stdout",
     "output_type": "stream",
     "text": [
      "epoch 71 | loss: 0.12282 | train_mse: 0.0951  | train_mae: 0.22171 |  0:00:24s\n"
     ]
    },
    {
     "name": "stdout",
     "output_type": "stream",
     "text": [
      "epoch 72 | loss: 0.17498 | train_mse: 0.07607 | train_mae: 0.20475 |  0:00:24s\n"
     ]
    },
    {
     "name": "stdout",
     "output_type": "stream",
     "text": [
      "epoch 73 | loss: 0.15919 | train_mse: 0.09354 | train_mae: 0.22236 |  0:00:25s\n"
     ]
    },
    {
     "name": "stdout",
     "output_type": "stream",
     "text": [
      "epoch 74 | loss: 0.1512  | train_mse: 0.08654 | train_mae: 0.21186 |  0:00:25s\n"
     ]
    },
    {
     "name": "stdout",
     "output_type": "stream",
     "text": [
      "epoch 75 | loss: 0.1591  | train_mse: 0.10664 | train_mae: 0.22985 |  0:00:25s\n"
     ]
    },
    {
     "name": "stdout",
     "output_type": "stream",
     "text": [
      "epoch 76 | loss: 0.16421 | train_mse: 0.10271 | train_mae: 0.2358  |  0:00:26s\n"
     ]
    },
    {
     "name": "stdout",
     "output_type": "stream",
     "text": [
      "epoch 77 | loss: 0.13976 | train_mse: 0.08619 | train_mae: 0.21132 |  0:00:26s\n"
     ]
    },
    {
     "name": "stdout",
     "output_type": "stream",
     "text": [
      "epoch 78 | loss: 0.15493 | train_mse: 0.09053 | train_mae: 0.22277 |  0:00:26s\n"
     ]
    },
    {
     "name": "stdout",
     "output_type": "stream",
     "text": [
      "epoch 79 | loss: 0.16333 | train_mse: 0.12165 | train_mae: 0.23138 |  0:00:26s\n"
     ]
    },
    {
     "name": "stdout",
     "output_type": "stream",
     "text": [
      "epoch 80 | loss: 0.19905 | train_mse: 0.10851 | train_mae: 0.22488 |  0:00:27s\n"
     ]
    },
    {
     "name": "stdout",
     "output_type": "stream",
     "text": [
      "epoch 81 | loss: 0.16836 | train_mse: 0.13051 | train_mae: 0.24837 |  0:00:27s\n"
     ]
    },
    {
     "name": "stdout",
     "output_type": "stream",
     "text": [
      "epoch 82 | loss: 0.16031 | train_mse: 0.12427 | train_mae: 0.24101 |  0:00:27s\n"
     ]
    },
    {
     "name": "stdout",
     "output_type": "stream",
     "text": [
      "epoch 83 | loss: 0.17883 | train_mse: 0.12373 | train_mae: 0.22892 |  0:00:27s\n"
     ]
    },
    {
     "name": "stdout",
     "output_type": "stream",
     "text": [
      "epoch 84 | loss: 0.17047 | train_mse: 0.10504 | train_mae: 0.22354 |  0:00:28s\n"
     ]
    },
    {
     "name": "stdout",
     "output_type": "stream",
     "text": [
      "epoch 85 | loss: 0.17786 | train_mse: 0.11205 | train_mae: 0.22683 |  0:00:28s\n"
     ]
    },
    {
     "name": "stdout",
     "output_type": "stream",
     "text": [
      "epoch 86 | loss: 0.17766 | train_mse: 0.1133  | train_mae: 0.24312 |  0:00:28s\n"
     ]
    },
    {
     "name": "stdout",
     "output_type": "stream",
     "text": [
      "epoch 87 | loss: 0.14613 | train_mse: 0.13711 | train_mae: 0.25227 |  0:00:29s\n"
     ]
    },
    {
     "name": "stdout",
     "output_type": "stream",
     "text": [
      "epoch 88 | loss: 0.13181 | train_mse: 0.10408 | train_mae: 0.21852 |  0:00:29s\n"
     ]
    },
    {
     "name": "stdout",
     "output_type": "stream",
     "text": [
      "epoch 89 | loss: 0.14197 | train_mse: 0.11932 | train_mae: 0.23315 |  0:00:29s\n"
     ]
    },
    {
     "name": "stdout",
     "output_type": "stream",
     "text": [
      "epoch 90 | loss: 0.16723 | train_mse: 0.07584 | train_mae: 0.20362 |  0:00:30s\n"
     ]
    },
    {
     "name": "stdout",
     "output_type": "stream",
     "text": [
      "epoch 91 | loss: 0.1315  | train_mse: 0.07693 | train_mae: 0.20449 |  0:00:30s\n"
     ]
    },
    {
     "name": "stdout",
     "output_type": "stream",
     "text": [
      "epoch 92 | loss: 0.17053 | train_mse: 0.10569 | train_mae: 0.23728 |  0:00:30s\n"
     ]
    },
    {
     "name": "stdout",
     "output_type": "stream",
     "text": [
      "epoch 93 | loss: 0.14215 | train_mse: 0.09878 | train_mae: 0.23262 |  0:00:30s\n"
     ]
    },
    {
     "name": "stdout",
     "output_type": "stream",
     "text": [
      "epoch 94 | loss: 0.1268  | train_mse: 0.09609 | train_mae: 0.23014 |  0:00:31s\n"
     ]
    },
    {
     "name": "stdout",
     "output_type": "stream",
     "text": [
      "epoch 95 | loss: 0.13927 | train_mse: 0.12353 | train_mae: 0.24736 |  0:00:31s\n"
     ]
    },
    {
     "name": "stdout",
     "output_type": "stream",
     "text": [
      "epoch 96 | loss: 0.11282 | train_mse: 0.06887 | train_mae: 0.19166 |  0:00:31s\n"
     ]
    },
    {
     "name": "stdout",
     "output_type": "stream",
     "text": [
      "epoch 97 | loss: 0.15671 | train_mse: 0.07583 | train_mae: 0.19567 |  0:00:32s\n"
     ]
    },
    {
     "name": "stdout",
     "output_type": "stream",
     "text": [
      "epoch 98 | loss: 0.13041 | train_mse: 0.07698 | train_mae: 0.20562 |  0:00:32s\n"
     ]
    },
    {
     "name": "stdout",
     "output_type": "stream",
     "text": [
      "epoch 99 | loss: 0.12076 | train_mse: 0.08403 | train_mae: 0.21286 |  0:00:32s\n"
     ]
    },
    {
     "name": "stdout",
     "output_type": "stream",
     "text": [
      "epoch 100| loss: 0.15857 | train_mse: 0.0726  | train_mae: 0.20312 |  0:00:33s\n"
     ]
    },
    {
     "name": "stdout",
     "output_type": "stream",
     "text": [
      "epoch 101| loss: 0.14671 | train_mse: 0.08549 | train_mae: 0.21866 |  0:00:33s\n"
     ]
    },
    {
     "name": "stdout",
     "output_type": "stream",
     "text": [
      "epoch 102| loss: 0.14759 | train_mse: 0.06974 | train_mae: 0.20262 |  0:00:34s\n"
     ]
    },
    {
     "name": "stdout",
     "output_type": "stream",
     "text": [
      "epoch 103| loss: 0.12202 | train_mse: 0.08603 | train_mae: 0.22271 |  0:00:34s\n"
     ]
    },
    {
     "name": "stdout",
     "output_type": "stream",
     "text": [
      "epoch 104| loss: 0.14078 | train_mse: 0.08272 | train_mae: 0.2156  |  0:00:34s\n"
     ]
    },
    {
     "name": "stdout",
     "output_type": "stream",
     "text": [
      "epoch 105| loss: 0.15445 | train_mse: 0.08265 | train_mae: 0.21062 |  0:00:35s\n"
     ]
    },
    {
     "name": "stdout",
     "output_type": "stream",
     "text": [
      "epoch 106| loss: 0.16534 | train_mse: 0.08724 | train_mae: 0.2154  |  0:00:35s\n"
     ]
    },
    {
     "name": "stdout",
     "output_type": "stream",
     "text": [
      "epoch 107| loss: 0.13368 | train_mse: 0.0874  | train_mae: 0.21631 |  0:00:35s\n"
     ]
    },
    {
     "name": "stdout",
     "output_type": "stream",
     "text": [
      "epoch 108| loss: 0.14049 | train_mse: 0.10208 | train_mae: 0.23373 |  0:00:35s\n"
     ]
    },
    {
     "name": "stdout",
     "output_type": "stream",
     "text": [
      "epoch 109| loss: 0.16105 | train_mse: 0.08788 | train_mae: 0.22042 |  0:00:36s\n"
     ]
    },
    {
     "name": "stdout",
     "output_type": "stream",
     "text": [
      "epoch 110| loss: 0.12329 | train_mse: 0.11138 | train_mae: 0.24141 |  0:00:36s\n"
     ]
    },
    {
     "name": "stdout",
     "output_type": "stream",
     "text": [
      "epoch 111| loss: 0.16718 | train_mse: 0.10677 | train_mae: 0.23548 |  0:00:36s\n"
     ]
    },
    {
     "name": "stdout",
     "output_type": "stream",
     "text": [
      "epoch 112| loss: 0.13848 | train_mse: 0.11309 | train_mae: 0.24496 |  0:00:37s\n"
     ]
    },
    {
     "name": "stdout",
     "output_type": "stream",
     "text": [
      "epoch 113| loss: 0.15834 | train_mse: 0.1107  | train_mae: 0.23609 |  0:00:37s\n"
     ]
    },
    {
     "name": "stdout",
     "output_type": "stream",
     "text": [
      "epoch 114| loss: 0.17314 | train_mse: 0.1251  | train_mae: 0.25817 |  0:00:37s\n"
     ]
    },
    {
     "name": "stdout",
     "output_type": "stream",
     "text": [
      "epoch 115| loss: 0.12189 | train_mse: 0.11214 | train_mae: 0.22925 |  0:00:37s\n"
     ]
    },
    {
     "name": "stdout",
     "output_type": "stream",
     "text": [
      "epoch 116| loss: 0.13817 | train_mse: 0.08642 | train_mae: 0.22405 |  0:00:38s\n"
     ]
    },
    {
     "name": "stdout",
     "output_type": "stream",
     "text": [
      "epoch 117| loss: 0.11722 | train_mse: 0.08293 | train_mae: 0.21393 |  0:00:38s\n"
     ]
    },
    {
     "name": "stdout",
     "output_type": "stream",
     "text": [
      "epoch 118| loss: 0.1366  | train_mse: 0.10073 | train_mae: 0.22847 |  0:00:38s\n"
     ]
    },
    {
     "name": "stdout",
     "output_type": "stream",
     "text": [
      "epoch 119| loss: 0.16134 | train_mse: 0.11913 | train_mae: 0.23204 |  0:00:39s\n"
     ]
    },
    {
     "name": "stdout",
     "output_type": "stream",
     "text": [
      "epoch 120| loss: 0.14882 | train_mse: 0.10131 | train_mae: 0.22315 |  0:00:39s\n"
     ]
    },
    {
     "name": "stdout",
     "output_type": "stream",
     "text": [
      "epoch 121| loss: 0.14942 | train_mse: 0.08695 | train_mae: 0.21672 |  0:00:39s\n"
     ]
    },
    {
     "name": "stdout",
     "output_type": "stream",
     "text": [
      "epoch 122| loss: 0.1701  | train_mse: 0.07131 | train_mae: 0.19831 |  0:00:39s\n"
     ]
    },
    {
     "name": "stdout",
     "output_type": "stream",
     "text": [
      "epoch 123| loss: 0.14698 | train_mse: 0.08206 | train_mae: 0.21192 |  0:00:40s\n"
     ]
    },
    {
     "name": "stdout",
     "output_type": "stream",
     "text": [
      "epoch 124| loss: 0.20616 | train_mse: 0.08836 | train_mae: 0.22139 |  0:00:40s\n"
     ]
    },
    {
     "name": "stdout",
     "output_type": "stream",
     "text": [
      "epoch 125| loss: 0.09984 | train_mse: 0.07602 | train_mae: 0.19871 |  0:00:40s\n"
     ]
    },
    {
     "name": "stdout",
     "output_type": "stream",
     "text": [
      "epoch 126| loss: 0.13148 | train_mse: 0.06679 | train_mae: 0.19048 |  0:00:41s\n"
     ]
    },
    {
     "name": "stdout",
     "output_type": "stream",
     "text": [
      "epoch 127| loss: 0.14812 | train_mse: 0.07369 | train_mae: 0.19931 |  0:00:41s\n"
     ]
    },
    {
     "name": "stdout",
     "output_type": "stream",
     "text": [
      "epoch 128| loss: 0.14949 | train_mse: 0.07335 | train_mae: 0.19742 |  0:00:41s\n"
     ]
    },
    {
     "name": "stdout",
     "output_type": "stream",
     "text": [
      "epoch 129| loss: 0.11935 | train_mse: 0.09109 | train_mae: 0.21463 |  0:00:41s\n"
     ]
    },
    {
     "name": "stdout",
     "output_type": "stream",
     "text": [
      "epoch 130| loss: 0.13954 | train_mse: 0.08049 | train_mae: 0.20686 |  0:00:42s\n"
     ]
    },
    {
     "name": "stdout",
     "output_type": "stream",
     "text": [
      "epoch 131| loss: 0.12123 | train_mse: 0.08072 | train_mae: 0.21038 |  0:00:42s\n"
     ]
    },
    {
     "name": "stdout",
     "output_type": "stream",
     "text": [
      "epoch 132| loss: 0.12136 | train_mse: 0.10256 | train_mae: 0.23094 |  0:00:43s\n"
     ]
    },
    {
     "name": "stdout",
     "output_type": "stream",
     "text": [
      "epoch 133| loss: 0.15473 | train_mse: 0.0803  | train_mae: 0.20728 |  0:00:43s\n"
     ]
    },
    {
     "name": "stdout",
     "output_type": "stream",
     "text": [
      "epoch 134| loss: 0.14267 | train_mse: 0.07286 | train_mae: 0.19903 |  0:00:43s\n"
     ]
    },
    {
     "name": "stdout",
     "output_type": "stream",
     "text": [
      "epoch 135| loss: 0.15188 | train_mse: 0.08186 | train_mae: 0.21296 |  0:00:43s\n"
     ]
    },
    {
     "name": "stdout",
     "output_type": "stream",
     "text": [
      "epoch 136| loss: 0.11815 | train_mse: 0.07693 | train_mae: 0.19874 |  0:00:44s\n"
     ]
    },
    {
     "name": "stdout",
     "output_type": "stream",
     "text": [
      "epoch 137| loss: 0.12457 | train_mse: 0.08467 | train_mae: 0.20319 |  0:00:44s\n"
     ]
    },
    {
     "name": "stdout",
     "output_type": "stream",
     "text": [
      "epoch 138| loss: 0.11554 | train_mse: 0.07989 | train_mae: 0.21017 |  0:00:44s\n"
     ]
    },
    {
     "name": "stdout",
     "output_type": "stream",
     "text": [
      "epoch 139| loss: 0.10843 | train_mse: 0.07433 | train_mae: 0.1989  |  0:00:45s\n"
     ]
    },
    {
     "name": "stdout",
     "output_type": "stream",
     "text": [
      "epoch 140| loss: 0.12453 | train_mse: 0.09471 | train_mae: 0.21838 |  0:00:45s\n"
     ]
    },
    {
     "name": "stdout",
     "output_type": "stream",
     "text": [
      "epoch 141| loss: 0.1196  | train_mse: 0.07325 | train_mae: 0.19751 |  0:00:45s\n"
     ]
    },
    {
     "name": "stdout",
     "output_type": "stream",
     "text": [
      "epoch 142| loss: 0.17419 | train_mse: 0.08907 | train_mae: 0.2147  |  0:00:45s\n"
     ]
    },
    {
     "name": "stdout",
     "output_type": "stream",
     "text": [
      "epoch 143| loss: 0.12647 | train_mse: 0.11849 | train_mae: 0.23021 |  0:00:46s\n"
     ]
    },
    {
     "name": "stdout",
     "output_type": "stream",
     "text": [
      "epoch 144| loss: 0.13535 | train_mse: 0.09252 | train_mae: 0.21447 |  0:00:46s\n"
     ]
    },
    {
     "name": "stdout",
     "output_type": "stream",
     "text": [
      "epoch 145| loss: 0.16094 | train_mse: 0.09552 | train_mae: 0.22383 |  0:00:46s\n"
     ]
    },
    {
     "name": "stdout",
     "output_type": "stream",
     "text": [
      "epoch 146| loss: 0.11052 | train_mse: 0.07573 | train_mae: 0.20179 |  0:00:47s\n"
     ]
    },
    {
     "name": "stdout",
     "output_type": "stream",
     "text": [
      "epoch 147| loss: 0.13693 | train_mse: 0.16403 | train_mae: 0.25003 |  0:00:47s\n"
     ]
    },
    {
     "name": "stdout",
     "output_type": "stream",
     "text": [
      "epoch 148| loss: 0.14536 | train_mse: 0.11164 | train_mae: 0.21987 |  0:00:47s\n"
     ]
    },
    {
     "name": "stdout",
     "output_type": "stream",
     "text": [
      "epoch 149| loss: 0.16424 | train_mse: 0.11062 | train_mae: 0.2436  |  0:00:47s\n"
     ]
    },
    {
     "name": "stdout",
     "output_type": "stream",
     "text": [
      "epoch 150| loss: 0.145   | train_mse: 0.08723 | train_mae: 0.22679 |  0:00:48s\n"
     ]
    },
    {
     "name": "stdout",
     "output_type": "stream",
     "text": [
      "epoch 151| loss: 0.18695 | train_mse: 0.08589 | train_mae: 0.22115 |  0:00:48s\n"
     ]
    },
    {
     "name": "stdout",
     "output_type": "stream",
     "text": [
      "epoch 152| loss: 0.12674 | train_mse: 0.10515 | train_mae: 0.22498 |  0:00:48s\n"
     ]
    },
    {
     "name": "stdout",
     "output_type": "stream",
     "text": [
      "epoch 153| loss: 0.13033 | train_mse: 0.09274 | train_mae: 0.21846 |  0:00:49s\n"
     ]
    },
    {
     "name": "stdout",
     "output_type": "stream",
     "text": [
      "epoch 154| loss: 0.15022 | train_mse: 0.07638 | train_mae: 0.20698 |  0:00:49s\n"
     ]
    },
    {
     "name": "stdout",
     "output_type": "stream",
     "text": [
      "epoch 155| loss: 0.11198 | train_mse: 0.07917 | train_mae: 0.20881 |  0:00:49s\n"
     ]
    },
    {
     "name": "stdout",
     "output_type": "stream",
     "text": [
      "epoch 156| loss: 0.14301 | train_mse: 0.11086 | train_mae: 0.23034 |  0:00:49s\n"
     ]
    },
    {
     "name": "stdout",
     "output_type": "stream",
     "text": [
      "epoch 157| loss: 0.149   | train_mse: 0.08855 | train_mae: 0.20091 |  0:00:50s\n"
     ]
    },
    {
     "name": "stdout",
     "output_type": "stream",
     "text": [
      "epoch 158| loss: 0.15871 | train_mse: 0.0715  | train_mae: 0.19673 |  0:00:50s\n"
     ]
    },
    {
     "name": "stdout",
     "output_type": "stream",
     "text": [
      "epoch 159| loss: 0.12401 | train_mse: 0.09678 | train_mae: 0.21255 |  0:00:50s\n"
     ]
    },
    {
     "name": "stdout",
     "output_type": "stream",
     "text": [
      "epoch 160| loss: 0.17995 | train_mse: 0.09035 | train_mae: 0.22003 |  0:00:51s\n"
     ]
    },
    {
     "name": "stdout",
     "output_type": "stream",
     "text": [
      "epoch 161| loss: 0.10912 | train_mse: 0.09493 | train_mae: 0.2141  |  0:00:51s\n"
     ]
    },
    {
     "name": "stdout",
     "output_type": "stream",
     "text": [
      "epoch 162| loss: 0.10869 | train_mse: 0.11135 | train_mae: 0.22256 |  0:00:51s\n"
     ]
    },
    {
     "name": "stdout",
     "output_type": "stream",
     "text": [
      "epoch 163| loss: 0.12518 | train_mse: 0.13041 | train_mae: 0.22588 |  0:00:51s\n"
     ]
    },
    {
     "name": "stdout",
     "output_type": "stream",
     "text": [
      "epoch 164| loss: 0.15463 | train_mse: 0.12105 | train_mae: 0.2433  |  0:00:52s\n"
     ]
    },
    {
     "name": "stdout",
     "output_type": "stream",
     "text": [
      "epoch 165| loss: 0.15413 | train_mse: 0.11944 | train_mae: 0.21679 |  0:00:52s\n"
     ]
    },
    {
     "name": "stdout",
     "output_type": "stream",
     "text": [
      "epoch 166| loss: 0.1148  | train_mse: 0.102   | train_mae: 0.22975 |  0:00:52s\n"
     ]
    },
    {
     "name": "stdout",
     "output_type": "stream",
     "text": [
      "epoch 167| loss: 0.11613 | train_mse: 0.12038 | train_mae: 0.22853 |  0:00:53s\n"
     ]
    },
    {
     "name": "stdout",
     "output_type": "stream",
     "text": [
      "epoch 168| loss: 0.14732 | train_mse: 0.08587 | train_mae: 0.21559 |  0:00:53s\n"
     ]
    },
    {
     "name": "stdout",
     "output_type": "stream",
     "text": [
      "epoch 169| loss: 0.14384 | train_mse: 0.11108 | train_mae: 0.24153 |  0:00:53s\n"
     ]
    },
    {
     "name": "stdout",
     "output_type": "stream",
     "text": [
      "epoch 170| loss: 0.1375  | train_mse: 0.17305 | train_mae: 0.24658 |  0:00:54s\n"
     ]
    },
    {
     "name": "stdout",
     "output_type": "stream",
     "text": [
      "epoch 171| loss: 0.13095 | train_mse: 0.11849 | train_mae: 0.24768 |  0:00:54s\n"
     ]
    },
    {
     "name": "stdout",
     "output_type": "stream",
     "text": [
      "epoch 172| loss: 0.13696 | train_mse: 0.10239 | train_mae: 0.21728 |  0:00:54s\n"
     ]
    },
    {
     "name": "stdout",
     "output_type": "stream",
     "text": [
      "epoch 173| loss: 0.12676 | train_mse: 0.13886 | train_mae: 0.23313 |  0:00:54s\n"
     ]
    },
    {
     "name": "stdout",
     "output_type": "stream",
     "text": [
      "epoch 174| loss: 0.13769 | train_mse: 0.14266 | train_mae: 0.24103 |  0:00:55s\n"
     ]
    },
    {
     "name": "stdout",
     "output_type": "stream",
     "text": [
      "epoch 175| loss: 0.17875 | train_mse: 0.10045 | train_mae: 0.22319 |  0:00:55s\n"
     ]
    },
    {
     "name": "stdout",
     "output_type": "stream",
     "text": [
      "epoch 176| loss: 0.19746 | train_mse: 0.1042  | train_mae: 0.22445 |  0:00:55s\n",
      "\n",
      "Early stopping occurred at epoch 176 with best_epoch = 126 and best_train_mae = 0.19048\n",
      "Best weights from best epoch are automatically used!\n"
     ]
    }
   ],
   "source": [
    "#Train the Model\n",
    "\n",
    "Y_train = np.reshape(Y_train, (-1, 1))\n",
    "Y_test = np.reshape(Y_test, (-1, 1))\n",
    "\n",
    "prior_model = TabNetRegressor(optimizer_fn=torch.optim.Adam, optimizer_params=dict(lr = 0.01),\n",
    "          #scheduler_params={\"step_size\":10, ], \"gamma\":0.9},\n",
    "          #scheduler_fn=torch.optim.lr_scheduler.StepLR\n",
    "          )  #TabNetRegressor()\n",
    "\n",
    "prior_model.fit(X_train,Y_train,eval_set=[(X_train, Y_train)],\n",
    "            eval_name=['train'], \n",
    "            eval_metric=[ 'mse', 'mae'], \n",
    "            max_epochs = n_epochs, \n",
    "            batch_size = batch_size,\n",
    "            patience=50\n",
    "            )"
   ]
  },
  {
   "cell_type": "code",
   "execution_count": 10,
   "id": "af65dcda",
   "metadata": {
    "execution": {
     "iopub.execute_input": "2022-07-22T13:06:34.492879Z",
     "iopub.status.busy": "2022-07-22T13:06:34.492515Z",
     "iopub.status.idle": "2022-07-22T13:06:34.550270Z",
     "shell.execute_reply": "2022-07-22T13:06:34.549665Z"
    },
    "id": "af65dcda",
    "papermill": {
     "duration": 0.080984,
     "end_time": "2022-07-22T13:06:34.553472",
     "exception": false,
     "start_time": "2022-07-22T13:06:34.472488",
     "status": "completed"
    },
    "tags": []
   },
   "outputs": [
    {
     "data": {
      "application/scrapbook.scrap.json+json": {
       "data": 0.16376258072155214,
       "encoder": "json",
       "name": "Prior Model MSE",
       "version": 1
      }
     },
     "metadata": {
      "scrapbook": {
       "data": true,
       "display": false,
       "name": "Prior Model MSE"
      }
     },
     "output_type": "display_data"
    },
    {
     "data": {
      "application/scrapbook.scrap.json+json": {
       "data": 0.16756006866519313,
       "encoder": "json",
       "name": "ABC Pre-generator MSE",
       "version": 1
      }
     },
     "metadata": {
      "scrapbook": {
       "data": true,
       "display": false,
       "name": "ABC Pre-generator MSE"
      }
     },
     "output_type": "display_data"
    },
    {
     "data": {
      "application/scrapbook.scrap.json+json": {
       "data": 0.2849384911877044,
       "encoder": "json",
       "name": "Prior Model MAE",
       "version": 1
      }
     },
     "metadata": {
      "scrapbook": {
       "data": true,
       "display": false,
       "name": "Prior Model MAE"
      }
     },
     "output_type": "display_data"
    },
    {
     "name": "stdout",
     "output_type": "stream",
     "text": [
      "Prior Model MAE 0.2849384911877044\n"
     ]
    },
    {
     "data": {
      "application/scrapbook.scrap.json+json": {
       "data": 0.2864223710452085,
       "encoder": "json",
       "name": "ABC Pre-generator MAE",
       "version": 1
      }
     },
     "metadata": {
      "scrapbook": {
       "data": true,
       "display": false,
       "name": "ABC Pre-generator MAE"
      }
     },
     "output_type": "display_data"
    },
    {
     "name": "stdout",
     "output_type": "stream",
     "text": [
      "ABC Pre-generator MAE 0.2864223710452085\n"
     ]
    }
   ],
   "source": [
    "y_pred = prior_model.predict(X_test)\n",
    "y_abc = y_pred + np.random.normal(0,variance, y_pred.shape) + bias \n",
    "mse = mean_squared_error(y_pred,Y_test)\n",
    "sb.glue(\"Prior Model MSE\",mse)\n",
    "mse = mean_squared_error(y_abc,Y_test)\n",
    "sb.glue(\"ABC Pre-generator MSE\",mse)\n",
    "mae = mean_absolute_error(y_pred,Y_test)\n",
    "sb.glue(\"Prior Model MAE\",mae)\n",
    "print(\"Prior Model MAE\",mae)\n",
    "mae = mean_absolute_error(y_abc,Y_test)\n",
    "sb.glue(\"ABC Pre-generator MAE\",mae)\n",
    "print(\"ABC Pre-generator MAE\",mae)"
   ]
  },
  {
   "cell_type": "markdown",
   "id": "25609da2",
   "metadata": {
    "papermill": {
     "duration": 0.015145,
     "end_time": "2022-07-22T13:06:34.585262",
     "exception": false,
     "start_time": "2022-07-22T13:06:34.570117",
     "status": "completed"
    },
    "tags": []
   },
   "source": [
    "# mGAN Model"
   ]
  },
  {
   "cell_type": "code",
   "execution_count": 11,
   "id": "dfc3464d",
   "metadata": {
    "execution": {
     "iopub.execute_input": "2022-07-22T13:06:34.624719Z",
     "iopub.status.busy": "2022-07-22T13:06:34.624340Z",
     "iopub.status.idle": "2022-07-22T13:06:34.634147Z",
     "shell.execute_reply": "2022-07-22T13:06:34.633029Z"
    },
    "papermill": {
     "duration": 0.036865,
     "end_time": "2022-07-22T13:06:34.637640",
     "exception": false,
     "start_time": "2022-07-22T13:06:34.600775",
     "status": "completed"
    },
    "tags": []
   },
   "outputs": [],
   "source": [
    "gen = network.Generator(n_features+1).to(device)\n",
    "disc = network.Discriminator(n_features+1).to(device)\n",
    "\n",
    "criterion = torch.nn.BCELoss()\n",
    "gen_opt = torch.optim.Adam(gen.parameters(), lr=0.01, betas=(0.5, 0.999))\n",
    "disc_opt = torch.optim.Adam(disc.parameters(), lr=0.01, betas=(0.5, 0.999))"
   ]
  },
  {
   "cell_type": "code",
   "execution_count": 12,
   "id": "b75fdd85",
   "metadata": {
    "execution": {
     "iopub.execute_input": "2022-07-22T13:06:34.671909Z",
     "iopub.status.busy": "2022-07-22T13:06:34.671648Z",
     "iopub.status.idle": "2022-07-22T13:09:30.014201Z",
     "shell.execute_reply": "2022-07-22T13:09:30.013575Z"
    },
    "papermill": {
     "duration": 175.361392,
     "end_time": "2022-07-22T13:09:30.016446",
     "exception": false,
     "start_time": "2022-07-22T13:06:34.655054",
     "status": "completed"
    },
    "tags": []
   },
   "outputs": [
    {
     "data": {
      "image/png": "[encoded data removed]",
      "text/plain": [
       "<Figure size 432x288 with 1 Axes>"
      ]
     },
     "metadata": {
      "needs_background": "light"
     },
     "output_type": "display_data"
    },
    {
     "data": {
      "image/png": "[encoded data removed]",
      "text/plain": [
       "<Figure size 432x288 with 1 Axes>"
      ]
     },
     "metadata": {
      "needs_background": "light"
     },
     "output_type": "display_data"
    }
   ],
   "source": [
    "#Training the ABC_GAN \n",
    "ABC_train_test2.training_GAN(disc,gen,disc_opt,gen_opt,train_data,batch_size,n_epochs,criterion,prior_model,variance,bias,device)"
   ]
  },
  {
   "cell_type": "code",
   "execution_count": 13,
   "id": "1fa7c368",
   "metadata": {
    "execution": {
     "iopub.execute_input": "2022-07-22T13:09:30.062277Z",
     "iopub.status.busy": "2022-07-22T13:09:30.061872Z",
     "iopub.status.idle": "2022-07-22T13:09:32.404960Z",
     "shell.execute_reply": "2022-07-22T13:09:32.403187Z"
    },
    "papermill": {
     "duration": 2.374157,
     "end_time": "2022-07-22T13:09:32.408403",
     "exception": false,
     "start_time": "2022-07-22T13:09:30.034246",
     "status": "completed"
    },
    "tags": []
   },
   "outputs": [
    {
     "data": {
      "application/scrapbook.scrap.json+json": {
       "data": 0.2607566468013758,
       "encoder": "json",
       "name": "ABC-GAN Model 1 MSE",
       "version": 1
      }
     },
     "metadata": {
      "scrapbook": {
       "data": true,
       "display": false,
       "name": "ABC-GAN Model 1 MSE"
      }
     },
     "output_type": "display_data"
    },
    {
     "data": {
      "application/scrapbook.scrap.json+json": {
       "data": 0.3200784414553759,
       "encoder": "json",
       "name": "ABC-GAN Model 1 MAE",
       "version": 1
      }
     },
     "metadata": {
      "scrapbook": {
       "data": true,
       "display": false,
       "name": "ABC-GAN Model 1 MAE"
      }
     },
     "output_type": "display_data"
    },
    {
     "data": {
      "application/scrapbook.scrap.json+json": {
       "data": 32.64800102844834,
       "encoder": "json",
       "name": "ABC-GAN Model 1 Manhattan Distance",
       "version": 1
      }
     },
     "metadata": {
      "scrapbook": {
       "data": true,
       "display": false,
       "name": "ABC-GAN Model 1 Manhattan Distance"
      }
     },
     "output_type": "display_data"
    },
    {
     "data": {
      "application/scrapbook.scrap.json+json": {
       "data": 5.157151182165518,
       "encoder": "json",
       "name": "ABC-GAN Model 1 Euclidean distance",
       "version": 1
      }
     },
     "metadata": {
      "scrapbook": {
       "data": true,
       "display": false,
       "name": "ABC-GAN Model 1 Euclidean distance"
      }
     },
     "output_type": "display_data"
    },
    {
     "data": {
      "application/scrapbook.scrap.json+json": {
       "data": [
        [
         0.2652676849351653,
         0.2596413027345002,
         0.25574393480130364,
         0.2602020669224,
         0.25965216299656535,
         0.2650162343461818,
         0.259823074167911,
         0.264022497570874,
         0.26639426114617837,
         0.2623876608390478,
         0.2579331531161957,
         0.2598003016740199,
         0.262295621638589,
         0.2647945293856268,
         0.25613962297555376,
         0.26084635239967585,
         0.2613447862729928,
         0.258090620518859,
         0.2614322555199113,
         0.25872949618567004,
         0.2565839827064362,
         0.2573171590092837,
         0.2633604514592472,
         0.2634102486073539,
         0.2626860028144654,
         0.2577751172822326,
         0.26021829332102286,
         0.25723513208773807,
         0.26074577040105346,
         0.26239908269267165,
         0.26603527473079136,
         0.2621565161655765,
         0.26288854457633976,
         0.2632376345158728,
         0.2631292750643669,
         0.2602678706867325,
         0.2677612326100138,
         0.25867375265551906,
         0.26268825987042793,
         0.26083191708180326,
         0.2594952534823435,
         0.26206318717899435,
         0.2610210143518666,
         0.26428099696958274,
         0.2591423092340198,
         0.258910326222557,
         0.26157325739456827,
         0.25435956323551945,
         0.26215865195509724,
         0.26294370713878285,
         0.25836039058208826,
         0.25734505009029934,
         0.2634553769371473,
         0.2650986846140181,
         0.2559262417714168,
         0.2542521949556834,
         0.2624991846973985,
         0.2607932620037322,
         0.2616096560519133,
         0.2548933879043613,
         0.2654228133912305,
         0.2562640328328069,
         0.26191902665221756,
         0.2562159379143802,
         0.2638768720507251,
         0.26335740860348933,
         0.25977493524136736,
         0.26217873670761344,
         0.26114846101725814,
         0.25776642283180484,
         0.2585703381048418,
         0.2558449525513168,
         0.2648805078352398,
         0.2582890221760694,
         0.2592495692456798,
         0.25821272819526253,
         0.2593274368380792,
         0.2581772120684647,
         0.25808253404654663,
         0.2624921634169962,
         0.26539106470437124,
         0.2553962190011804,
         0.26547588993400273,
         0.26279948551297094,
         0.2559496641599583,
         0.26136530685713005,
         0.26248178369818786,
         0.2556335128119894,
         0.25419471416192657,
         0.2612264035119051,
         0.2650755801318615,
         0.25841953488265534,
         0.26055589397073775,
         0.26232380331423627,
         0.26362991431111743,
         0.25956218306597373,
         0.26498974526184493,
         0.26376606158284954,
         0.2641859111811582,
         0.26305006110256884
        ],
        [
         0.32114821708962027,
         0.3182781023502934,
         0.3193842842079261,
         0.320164639685376,
         0.32004825847552104,
         0.3208478691750297,
         0.321275347186362,
         0.3213385095929398,
         0.32146924043841224,
         0.3217366338506633,
         0.3191492829617916,
         0.31917398327998087,
         0.321147946713894,
         0.321671504089061,
         0.3183970216515602,
         0.3181831749411775,
         0.3204334865817252,
         0.3194915981342395,
         0.320082533410659,
         0.31852072258205977,
         0.31883316337331835,
         0.3180377059707455,
         0.32092137251268416,
         0.3197770705629213,
         0.321486428014788,
         0.31819991562880723,
         0.3187397822518559,
         0.31919306403427733,
         0.31798104660622045,
         0.3221484675053872,
         0.32246966857243986,
         0.3215169367910016,
         0.322183640381577,
         0.320741999930903,
         0.32286347583958913,
         0.32076009717203824,
         0.32146523553220663,
         0.319089112401593,
         0.3200461688798432,
         0.32115993345631105,
         0.3199393489927638,
         0.32171661209534197,
         0.3196489771864578,
         0.3239429195721944,
         0.31959564852363925,
         0.3192153958713307,
         0.32055355626724513,
         0.31776034996351776,
         0.3206921277165997,
         0.32069276379165695,
         0.3187614161813376,
         0.3202606465886621,
         0.32071472456057865,
         0.3199263491905203,
         0.32001714722490776,
         0.3182887652998461,
         0.31973153093428003,
         0.3179911944065608,
         0.32067814253854987,
         0.3167878095717991,
         0.3217941313324606,
         0.31875615895671006,
         0.3230565745456546,
         0.3181725393834652,
         0.3201917134517548,
         0.31970793735601155,
         0.3211319273447289,
         0.32094171435079155,
         0.3197922121879517,
         0.3182669913432762,
         0.3198579532258651,
         0.3175870429578365,
         0.3214773525867392,
         0.31970989247601406,
         0.319869972144564,
         0.3200232009312101,
         0.320276130063861,
         0.3206063916943237,
         0.31839670646278295,
         0.32272411389824224,
         0.3215522428280583,
         0.3176160492002964,
         0.32343583722032754,
         0.32303950431592326,
         0.3185937563505243,
         0.3201391731626263,
         0.3189866710089001,
         0.31736152323291583,
         0.3176826519855097,
         0.32113202153613757,
         0.3202290810717672,
         0.3207201002640467,
         0.32021133159743803,
         0.32120768101338076,
         0.3207348391194554,
         0.3186702907596733,
         0.3198049412127219,
         0.31834962945796696,
         0.3193978829784136,
         0.3201662122326739
        ],
        [
         32.75711814314127,
         32.46436643972993,
         32.57719698920846,
         32.656793247908354,
         32.644922364503145,
         32.72648265585303,
         32.77008541300893,
         32.77652797847986,
         32.789862524718046,
         32.81713665276766,
         32.55322686210275,
         32.55574629455805,
         32.75709056481719,
         32.81049341708422,
         32.47649620845914,
         32.4546838440001,
         32.684215631335974,
         32.58814300969243,
         32.64841840788722,
         32.489113703370094,
         32.520982664078474,
         32.43984600901604,
         32.73397999629378,
         32.617261197417974,
         32.79161565750837,
         32.456391394138336,
         32.5114577896893,
         32.557692531496286,
         32.434066753834486,
         32.8591436855495,
         32.891906194388866,
         32.79472755268216,
         32.86273131892085,
         32.71568399295211,
         32.932074535638094,
         32.7175299115479,
         32.78945402428508,
         32.54708946496248,
         32.64470922574401,
         32.758313212543726,
         32.633813597261906,
         32.81509443372488,
         32.604195673018694,
         33.04217779636383,
         32.5987561494112,
         32.55997037887573,
         32.696462739259005,
         32.41155569627881,
         32.71059702709317,
         32.71066190674901,
         32.513664450496435,
         32.66658595204353,
         32.712901905179024,
         32.63248761743307,
         32.641749016940594,
         32.46545406058431,
         32.612616155296564,
         32.435101829469204,
         32.709170538932085,
         32.31235657632351,
         32.82300139591098,
         32.51312821358442,
         32.95177060365677,
         32.45359901711345,
         32.65955477207899,
         32.61020961031318,
         32.75545658916235,
         32.73605486378074,
         32.61880564317107,
         32.46323311701417,
         32.62551122903824,
         32.393878381699324,
         32.7906899638474,
         32.610409032553434,
         32.62673715874553,
         32.642366494983435,
         32.668165266513824,
         32.701851952821016,
         32.47646405920386,
         32.91785961762071,
         32.79832876846194,
         32.39683701843023,
         32.99045539647341,
         32.95002944022417,
         32.49656314775348,
         32.65419566258788,
         32.53664044290781,
         32.370875369757414,
         32.40363050252199,
         32.75546619668603,
         32.66336626932025,
         32.713450226932764,
         32.66155582293868,
         32.76318346336484,
         32.71495359018445,
         32.50436965748668,
         32.620104003697634,
         32.47166220471263,
         32.57858406379819,
         32.656953647732735
        ],
        [
         5.201663566916537,
         5.146203734688225,
         5.107433930040894,
         5.15175803256372,
         5.146311361125526,
         5.19919762110564,
         5.148004814015516,
         5.189440697438323,
         5.212697443446166,
         5.17334914785218,
         5.129247665871863,
         5.1477792076535325,
         5.172441725832788,
         5.1970224164740655,
         5.111383525378082,
         5.158132214742748,
         5.163058027937054,
         5.130813122003532,
         5.163921965234462,
         5.137159585893585,
         5.115815305115743,
         5.123119188438517,
         5.182930256992005,
         5.183420237444587,
         5.176289432313022,
         5.1276760781847095,
         5.151918663832372,
         5.122302555779898,
         5.157137634473939,
         5.173461745741676,
         5.20918400736053,
         5.171069971378148,
         5.178284614308744,
         5.181721598138886,
         5.180654983355427,
         5.152409417937079,
         5.2260545085390575,
         5.1366061529830125,
         5.176311670174396,
         5.157989486451473,
         5.144756151189192,
         5.170149426492181,
         5.159858860849818,
         5.1919805171916265,
         5.141256222157191,
         5.138954492374962,
         5.165314342249265,
         5.093591606128526,
         5.171091035692557,
         5.178827872033965,
         5.133493921236588,
         5.123396833079644,
         5.183864238923414,
         5.200006329864402,
         5.1092540219375,
         5.092516459028848,
         5.174448457481691,
         5.157607267365428,
         5.165673713785565,
         5.098933767587578,
         5.203184310199429,
         5.1126247025325755,
         5.16872718553864,
         5.11214491845319,
         5.188009343589693,
         5.182900315224664,
         5.147527891582469,
         5.1712891182157446,
         5.161118388853363,
         5.127589602224821,
         5.135579274696659,
         5.108442537626738,
         5.197866081306295,
         5.132784844697766,
         5.142320105075076,
         5.13202672205794,
         5.143092314695904,
         5.131673765057888,
         5.130732742284259,
         5.174379254416284,
         5.20287311010425,
         5.103960652093667,
         5.203704524016355,
         5.17740741320625,
         5.109487816241051,
         5.163260723557087,
         5.174276948252303,
         5.1063311983089115,
         5.09194077386182,
         5.1618885263258365,
         5.199779723550784,
         5.134081471697818,
         5.155259565241623,
         5.172719588190731,
         5.185581091809671,
         5.145419581795961,
         5.198937777730003,
         5.186919922405845,
         5.191046420566679,
         5.179875117458142
        ]
       ],
       "encoder": "json",
       "name": "ABC_GAN_1 Metrics",
       "version": 1
      }
     },
     "metadata": {
      "scrapbook": {
       "data": true,
       "display": false,
       "name": "ABC_GAN_1 Metrics"
      }
     },
     "output_type": "display_data"
    },
    {
     "name": "stdout",
     "output_type": "stream",
     "text": [
      "MAE\n",
      "0.3200784414553759\n"
     ]
    }
   ],
   "source": [
    "ABC_GAN1_metrics=ABC_train_test2.test_generator(gen,test_data,prior_model,variance,bias,\"1\",device)\n",
    "sb.glue(\"ABC_GAN_1 Metrics\",ABC_GAN1_metrics)\n",
    "\n",
    "print(\"MAE\")\n",
    "print(mean(ABC_GAN1_metrics[1]))"
   ]
  },
  {
   "cell_type": "code",
   "execution_count": 14,
   "id": "eb22ce5c",
   "metadata": {
    "execution": {
     "iopub.execute_input": "2022-07-22T13:09:32.463092Z",
     "iopub.status.busy": "2022-07-22T13:09:32.462679Z",
     "iopub.status.idle": "2022-07-22T13:09:33.241090Z",
     "shell.execute_reply": "2022-07-22T13:09:33.240347Z"
    },
    "papermill": {
     "duration": 0.81297,
     "end_time": "2022-07-22T13:09:33.243504",
     "exception": false,
     "start_time": "2022-07-22T13:09:32.430534",
     "status": "completed"
    },
    "tags": []
   },
   "outputs": [
    {
     "data": {
      "image/png": "[encoded data removed]",
      "text/plain": [
       "<Figure size 432x288 with 1 Axes>"
      ]
     },
     "metadata": {
      "needs_background": "light"
     },
     "output_type": "display_data"
    },
    {
     "data": {
      "image/png": "[encoded data removed]",
      "text/plain": [
       "<Figure size 432x288 with 1 Axes>"
      ]
     },
     "metadata": {
      "needs_background": "light"
     },
     "output_type": "display_data"
    },
    {
     "data": {
      "image/png": "[encoded data removed]",
      "text/plain": [
       "<Figure size 432x288 with 1 Axes>"
      ]
     },
     "metadata": {
      "needs_background": "light"
     },
     "output_type": "display_data"
    },
    {
     "data": {
      "image/png": "[encoded data removed]",
      "text/plain": [
       "<Figure size 432x288 with 1 Axes>"
      ]
     },
     "metadata": {
      "needs_background": "light"
     },
     "output_type": "display_data"
    }
   ],
   "source": [
    "sanityChecks.discProbVsError(train_data,disc,device)\n",
    "sanityChecks.discProbVsError(test_data,disc,device)"
   ]
  },
  {
   "cell_type": "markdown",
   "id": "e7122687",
   "metadata": {
    "papermill": {
     "duration": 0.023319,
     "end_time": "2022-07-22T13:09:33.289768",
     "exception": false,
     "start_time": "2022-07-22T13:09:33.266449",
     "status": "completed"
    },
    "tags": []
   },
   "source": [
    "# mGAN Model with TabNet Generator"
   ]
  },
  {
   "cell_type": "code",
   "execution_count": 15,
   "id": "bb0cd565",
   "metadata": {
    "execution": {
     "iopub.execute_input": "2022-07-22T13:09:33.346164Z",
     "iopub.status.busy": "2022-07-22T13:09:33.345722Z",
     "iopub.status.idle": "2022-07-22T13:09:33.361642Z",
     "shell.execute_reply": "2022-07-22T13:09:33.360833Z"
    },
    "papermill": {
     "duration": 0.052193,
     "end_time": "2022-07-22T13:09:33.364458",
     "exception": false,
     "start_time": "2022-07-22T13:09:33.312265",
     "status": "completed"
    },
    "tags": []
   },
   "outputs": [],
   "source": [
    "gen2 = network.GeneratorTabnet(n_features+1).to(device)\n",
    "disc2 = network.Discriminator(n_features+1).to(device)\n",
    "\n",
    "criterion = torch.nn.BCELoss()\n",
    "gen_opt = torch.optim.Adam(gen2.parameters(), lr=0.01, betas=(0.5, 0.999))\n",
    "disc_opt = torch.optim.Adam(disc2.parameters(), lr=0.01, betas=(0.5, 0.999))"
   ]
  },
  {
   "cell_type": "code",
   "execution_count": 16,
   "id": "b278f64d",
   "metadata": {
    "execution": {
     "iopub.execute_input": "2022-07-22T13:09:33.419782Z",
     "iopub.status.busy": "2022-07-22T13:09:33.418598Z",
     "iopub.status.idle": "2022-07-22T13:24:19.728813Z",
     "shell.execute_reply": "2022-07-22T13:24:19.726800Z"
    },
    "papermill": {
     "duration": 886.346815,
     "end_time": "2022-07-22T13:24:19.734295",
     "exception": false,
     "start_time": "2022-07-22T13:09:33.387480",
     "status": "completed"
    },
    "tags": []
   },
   "outputs": [
    {
     "data": {
      "image/png": "[encoded data removed]",
      "text/plain": [
       "<Figure size 432x288 with 1 Axes>"
      ]
     },
     "metadata": {
      "needs_background": "light"
     },
     "output_type": "display_data"
    },
    {
     "data": {
      "image/png": "[encoded data removed]",
      "text/plain": [
       "<Figure size 432x288 with 1 Axes>"
      ]
     },
     "metadata": {
      "needs_background": "light"
     },
     "output_type": "display_data"
    }
   ],
   "source": [
    "#Training the ABC_GAN \n",
    "ABC_train_test2.training_GAN(disc2,gen2,disc_opt,gen_opt,train_data,batch_size,n_epochs,criterion,prior_model,variance,bias,device)"
   ]
  },
  {
   "cell_type": "code",
   "execution_count": 17,
   "id": "ac254d2a",
   "metadata": {
    "execution": {
     "iopub.execute_input": "2022-07-22T13:24:19.816174Z",
     "iopub.status.busy": "2022-07-22T13:24:19.815241Z",
     "iopub.status.idle": "2022-07-22T13:24:30.414842Z",
     "shell.execute_reply": "2022-07-22T13:24:30.413491Z"
    },
    "papermill": {
     "duration": 10.64895,
     "end_time": "2022-07-22T13:24:30.419792",
     "exception": false,
     "start_time": "2022-07-22T13:24:19.770842",
     "status": "completed"
    },
    "tags": []
   },
   "outputs": [
    {
     "data": {
      "application/scrapbook.scrap.json+json": {
       "data": 0.1794862668268933,
       "encoder": "json",
       "name": "ABC-GAN Model 1 MSE",
       "version": 1
      }
     },
     "metadata": {
      "scrapbook": {
       "data": true,
       "display": false,
       "name": "ABC-GAN Model 1 MSE"
      }
     },
     "output_type": "display_data"
    },
    {
     "data": {
      "application/scrapbook.scrap.json+json": {
       "data": 0.28859483720975676,
       "encoder": "json",
       "name": "ABC-GAN Model 1 MAE",
       "version": 1
      }
     },
     "metadata": {
      "scrapbook": {
       "data": true,
       "display": false,
       "name": "ABC-GAN Model 1 MAE"
      }
     },
     "output_type": "display_data"
    },
    {
     "data": {
      "application/scrapbook.scrap.json+json": {
       "data": 29.436673395395193,
       "encoder": "json",
       "name": "ABC-GAN Model 1 Manhattan Distance",
       "version": 1
      }
     },
     "metadata": {
      "scrapbook": {
       "data": true,
       "display": false,
       "name": "ABC-GAN Model 1 Manhattan Distance"
      }
     },
     "output_type": "display_data"
    },
    {
     "data": {
      "application/scrapbook.scrap.json+json": {
       "data": 4.278321410486022,
       "encoder": "json",
       "name": "ABC-GAN Model 1 Euclidean distance",
       "version": 1
      }
     },
     "metadata": {
      "scrapbook": {
       "data": true,
       "display": false,
       "name": "ABC-GAN Model 1 Euclidean distance"
      }
     },
     "output_type": "display_data"
    },
    {
     "data": {
      "application/scrapbook.scrap.json+json": {
       "data": [
        [
         0.17717070095711418,
         0.18705746311309532,
         0.17373994895038494,
         0.18498738320349328,
         0.1884468984463663,
         0.18068329562359314,
         0.18354136818319441,
         0.1711533937646513,
         0.18803079016408028,
         0.17573049613798747,
         0.19210169588788076,
         0.17369080262364742,
         0.18033272634622757,
         0.17631054503278457,
         0.17207987105891107,
         0.17830428443318413,
         0.17920560077328704,
         0.20061623244096957,
         0.1809442468933943,
         0.17759736997266976,
         0.1796875380822614,
         0.17918643013284533,
         0.1757452408262801,
         0.16832818551499146,
         0.17817173029862773,
         0.17964452558817715,
         0.17041714417115145,
         0.17845619230721346,
         0.17815888712337702,
         0.18076569718158944,
         0.1741629564379439,
         0.17550204338235187,
         0.17273086559744424,
         0.17840856688424137,
         0.17789108458818306,
         0.1825825385710091,
         0.18131104642195037,
         0.17522910722503518,
         0.18050064212580258,
         0.17948775280191948,
         0.18708312780989284,
         0.17712430129584067,
         0.1881844892466394,
         0.18163871637924076,
         0.179841699511418,
         0.17973721617768806,
         0.1855196685731049,
         0.18752169293121262,
         0.17155652528579884,
         0.17581934244125394,
         0.1769330974177264,
         0.18059461135249005,
         0.18100031611221726,
         0.18009939018128537,
         0.17988766574505263,
         0.18161176140659502,
         0.17257681316734444,
         0.17456341395676758,
         0.1796137225290365,
         0.18394393104150109,
         0.1831613970238882,
         0.1780968723164762,
         0.17976135931819764,
         0.188037455429467,
         0.1794922464220064,
         0.17763832195462342,
         0.18397215266143493,
         0.18271674304152935,
         0.17576777328362098,
         0.17706061666980438,
         0.1843126194052632,
         0.18257747132808486,
         0.1767402513831079,
         0.18174133783374913,
         0.16810808675916555,
         0.17666099473048633,
         0.1725856774530859,
         0.1797965908666419,
         0.17929268919539845,
         0.18222119709902598,
         0.1810046303798982,
         0.17145299121085272,
         0.1760381114738886,
         0.17362131390802898,
         0.18460873543996983,
         0.1831224638826136,
         0.17815066898025372,
         0.18299260413014706,
         0.18652356438927598,
         0.1762901349631558,
         0.17622576135140489,
         0.17931477301164833,
         0.18172523346301728,
         0.178940171611245,
         0.17625427415794762,
         0.1827014854964814,
         0.17754657014374797,
         0.17800085428900017,
         0.17908499172036993,
         0.18234070267990807
        ],
        [
         0.28935388216347085,
         0.29540278730621816,
         0.2819801272787884,
         0.2949251199835071,
         0.30137924444587794,
         0.2824705023884627,
         0.2930494329581658,
         0.2822293610330306,
         0.2962484282313609,
         0.28688264961409216,
         0.29511175147604707,
         0.28515216368524465,
         0.2841500900685787,
         0.2866881657574399,
         0.2829327572904089,
         0.2900986510748957,
         0.2889731732361457,
         0.3021540264872944,
         0.2939562696013965,
         0.28601063322275877,
         0.2911170940188801,
         0.29183310138828616,
         0.281178827735358,
         0.27809620162873877,
         0.28774745345992203,
         0.28507838268563446,
         0.2804225864591917,
         0.2816556957641653,
         0.28935230187341276,
         0.2904489043296552,
         0.2874363394563689,
         0.2819397303038368,
         0.28585980352306484,
         0.2920163370048006,
         0.2867789686858362,
         0.2840795123438333,
         0.2863015047110179,
         0.288590742129029,
         0.2873850948766203,
         0.2874524183023502,
         0.29255800339959415,
         0.2904599143338262,
         0.2878551040730421,
         0.2907011779573034,
         0.2870788737474119,
         0.2847879200479856,
         0.2926653910282196,
         0.293025754629543,
         0.2765783108405623,
         0.2921304811778314,
         0.2906181938288843,
         0.28718625805249404,
         0.29159944212319805,
         0.28655754513673337,
         0.2929730282219894,
         0.2905076395026317,
         0.2846184390980531,
         0.28525150422116413,
         0.29376273979798107,
         0.2984484631714283,
         0.2855889062744145,
         0.28559632310826405,
         0.291612734242032,
         0.2933275927698203,
         0.2883960311574971,
         0.28656765507241966,
         0.291436993224802,
         0.2941065659089124,
         0.28792232012047486,
         0.2913826839067042,
         0.28806277817370846,
         0.28820096610077456,
         0.28816553997788946,
         0.29488818864246796,
         0.2828343077836668,
         0.28148970375860144,
         0.2819900759632754,
         0.29141745946424846,
         0.29233774474328933,
         0.29020720981426684,
         0.2865630840042643,
         0.2818820227631459,
         0.2823151860605268,
         0.2908826381990723,
         0.2941433432457487,
         0.29621162336757956,
         0.2871443792702813,
         0.2908426340961573,
         0.2932904476628584,
         0.28676285707921373,
         0.2834021077655694,
         0.2897047081656352,
         0.2900879872916038,
         0.29086963890814316,
         0.28562908849733715,
         0.29038584126415207,
         0.28807933433163985,
         0.29326907622025294,
         0.2808025562222682,
         0.2883989839796342
        ],
        [
         29.51409598067403,
         30.131084305234253,
         28.76197298243642,
         30.082362238317728,
         30.740682933479548,
         28.811991243623197,
         29.891042161732912,
         28.78739482536912,
         30.21733967959881,
         29.262030260637403,
         30.101398650556803,
         29.085520695894957,
         28.98330918699503,
         29.242192907258868,
         28.859141243621707,
         29.59006240963936,
         29.47526367008686,
         30.819710701704025,
         29.98353949934244,
         29.173084588721395,
         29.693943589925766,
         29.766976341605186,
         28.680240429006517,
         28.365812566131353,
         29.350240252912045,
         29.077995033934712,
         28.603103818837553,
         28.72888096794486,
         29.513934791088104,
         29.625788241624832,
         29.318506624549627,
         28.757852490991354,
         29.157699959352612,
         29.785666374489665,
         29.25145480595529,
         28.976110259070992,
         29.202753480523825,
         29.43625569716096,
         29.313279677415267,
         29.32014666683972,
         29.840916346758604,
         29.62691126205027,
         29.361220615450293,
         29.651520151644945,
         29.282045122236013,
         29.04836784489453,
         29.851869884878397,
         29.888626972213387,
         28.210987705737352,
         29.797309080138803,
         29.643055770546198,
         29.29299832135439,
         29.7431430965662,
         29.228869603946805,
         29.883248878642917,
         29.63177922926843,
         29.031080788001418,
         29.09565343055874,
         29.963799459394068,
         30.44174324348569,
         29.130068439990282,
         29.130824957042933,
         29.74449889268726,
         29.919414462521672,
         29.416395178064704,
         29.229900817386806,
         29.7265733089298,
         29.99886972270906,
         29.368076652288437,
         29.721033758483827,
         29.38240337371826,
         29.396498542279005,
         29.392885077744722,
         30.07859524153173,
         28.84909939393401,
         28.71194978337735,
         28.76298774825409,
         29.724580865353346,
         29.81844996381551,
         29.601135401055217,
         29.229434568434954,
         28.751966321840882,
         28.796148978173733,
         29.67002909630537,
         30.002621011066367,
         30.213585583493114,
         29.28872668556869,
         29.665948677808046,
         29.915625661611557,
         29.2498114220798,
         28.90701499208808,
         29.549880232894793,
         29.588974703743588,
         29.6687031686306,
         29.13416702672839,
         29.61935580894351,
         29.384092101827264,
         29.9134457744658,
         28.641860734671354,
         29.41669636592269
        ],
        [
         4.251048282203538,
         4.368050049797475,
         4.2096882061429755,
         4.3438131965769795,
         4.384242653130568,
         4.292982198146937,
         4.326802463099722,
         4.178234814367716,
         4.379399570344796,
         4.233734829447249,
         4.4265531715505055,
         4.2090927606328705,
         4.28881546435787,
         4.240716400956803,
         4.189528236927031,
         4.264626245309755,
         4.275391359732495,
         4.523588808565483,
         4.296081142521196,
         4.256163969728178,
         4.281136401049453,
         4.275162672174033,
         4.233912441735253,
         4.143606511546327,
         4.26304075636863,
         4.280623974375005,
         4.169238384340412,
         4.266442501116799,
         4.262887106948114,
         4.293961005007162,
         4.214809788907475,
         4.230981969354146,
         4.197445448238644,
         4.265873160584198,
         4.259681986720918,
         4.315485944160047,
         4.300433319450371,
         4.227690733361841,
         4.2908117526677705,
         4.27875575206108,
         4.368349692573737,
         4.250491587119747,
         4.381189096941288,
         4.304317491854261,
         4.282972490007919,
         4.2817281616333585,
         4.350058182881776,
         4.37346689469392,
         4.183152588557041,
         4.234804945804222,
         4.248196786474009,
         4.291928512679816,
         4.296746704594787,
         4.286039873646898,
         4.283519803385455,
         4.303998102168808,
         4.195573255595608,
         4.219652618828983,
         4.280256966346965,
         4.331544870624464,
         4.322321424470489,
         4.262145114409008,
         4.282015722817486,
         4.379477189551925,
         4.278809312769691,
         4.256654653524477,
         4.331877141778881,
         4.317071668415524,
         4.234183849920707,
         4.249727391294653,
         4.335883667643407,
         4.315426059552481,
         4.245881020598317,
         4.305533237479698,
         4.140896623852724,
         4.244928911361132,
         4.195681005535902,
         4.282435319814821,
         4.276430088044307,
         4.311213530330022,
         4.296797912253917,
         4.181890135274596,
         4.2374387748186555,
         4.208250707671651,
         4.339365277880733,
         4.3218620195497435,
         4.262788786227377,
         4.320329341760301,
         4.361811959232785,
         4.240470936846742,
         4.239696646912759,
         4.276693447885659,
         4.305342473396021,
         4.272223952971917,
         4.2400396182241815,
         4.316891418676303,
         4.255555211093177,
         4.260996026456493,
         4.273952404446934,
         4.312627003735731
        ]
       ],
       "encoder": "json",
       "name": "ABC_GAN_2 Metrics",
       "version": 1
      }
     },
     "metadata": {
      "scrapbook": {
       "data": true,
       "display": false,
       "name": "ABC_GAN_2 Metrics"
      }
     },
     "output_type": "display_data"
    },
    {
     "name": "stdout",
     "output_type": "stream",
     "text": [
      "MAE\n",
      "0.28859483720975676\n"
     ]
    }
   ],
   "source": [
    "ABC_GAN2_metrics=ABC_train_test2.test_generator(gen2,test_data,prior_model,variance,bias,\"1\",device)\n",
    "sb.glue(\"ABC_GAN_2 Metrics\",ABC_GAN2_metrics)\n",
    "\n",
    "print(\"MAE\")\n",
    "print(mean(ABC_GAN2_metrics[1]))"
   ]
  },
  {
   "cell_type": "code",
   "execution_count": 18,
   "id": "e66a54be",
   "metadata": {
    "execution": {
     "iopub.execute_input": "2022-07-22T13:24:30.496909Z",
     "iopub.status.busy": "2022-07-22T13:24:30.496098Z",
     "iopub.status.idle": "2022-07-22T13:24:32.485379Z",
     "shell.execute_reply": "2022-07-22T13:24:32.484506Z"
    },
    "papermill": {
     "duration": 2.032343,
     "end_time": "2022-07-22T13:24:32.488011",
     "exception": false,
     "start_time": "2022-07-22T13:24:30.455668",
     "status": "completed"
    },
    "tags": []
   },
   "outputs": [
    {
     "data": {
      "image/png": "[encoded data removed]",
      "text/plain": [
       "<Figure size 432x288 with 1 Axes>"
      ]
     },
     "metadata": {
      "needs_background": "light"
     },
     "output_type": "display_data"
    },
    {
     "data": {
      "image/png": "[encoded data removed]",
      "text/plain": [
       "<Figure size 432x288 with 1 Axes>"
      ]
     },
     "metadata": {
      "needs_background": "light"
     },
     "output_type": "display_data"
    },
    {
     "data": {
      "image/png": "[encoded data removed]",
      "text/plain": [
       "<Figure size 432x288 with 1 Axes>"
      ]
     },
     "metadata": {
      "needs_background": "light"
     },
     "output_type": "display_data"
    },
    {
     "data": {
      "image/png": "[encoded data removed]",
      "text/plain": [
       "<Figure size 432x288 with 1 Axes>"
      ]
     },
     "metadata": {
      "needs_background": "light"
     },
     "output_type": "display_data"
    }
   ],
   "source": [
    "sanityChecks.discProbVsError(train_data,disc2,device)\n",
    "sanityChecks.discProbVsError(test_data,disc2,device)"
   ]
  },
  {
   "cell_type": "markdown",
   "id": "130f3a4d",
   "metadata": {
    "id": "130f3a4d",
    "papermill": {
     "duration": 0.032047,
     "end_time": "2022-07-22T13:24:32.548724",
     "exception": false,
     "start_time": "2022-07-22T13:24:32.516677",
     "status": "completed"
    },
    "tags": []
   },
   "source": [
    "# skipGAN Model"
   ]
  },
  {
   "cell_type": "code",
   "execution_count": 19,
   "id": "4e43dad1",
   "metadata": {
    "execution": {
     "iopub.execute_input": "2022-07-22T13:24:32.603298Z",
     "iopub.status.busy": "2022-07-22T13:24:32.603029Z",
     "iopub.status.idle": "2022-07-22T13:24:32.610564Z",
     "shell.execute_reply": "2022-07-22T13:24:32.609883Z"
    },
    "id": "4e43dad1",
    "papermill": {
     "duration": 0.036128,
     "end_time": "2022-07-22T13:24:32.612702",
     "exception": false,
     "start_time": "2022-07-22T13:24:32.576574",
     "status": "completed"
    },
    "tags": []
   },
   "outputs": [],
   "source": [
    "#Generator\n",
    "gen3 = network.GeneratorWithSkipConnection(n_features+1).to(device)\n",
    "constraints=network.weightConstraint()\n",
    "#Discriminator \n",
    "disc3 = network.Discriminator(n_features+1).to(device)\n",
    "\n",
    "criterion = torch.nn.BCELoss()\n",
    "gen_opt = torch.optim.Adam(gen3.parameters(), lr=0.01, betas=(0.5, 0.999))\n",
    "disc_opt = torch.optim.Adam(disc3.parameters(), lr=0.01, betas=(0.5, 0.999))\n"
   ]
  },
  {
   "cell_type": "code",
   "execution_count": 20,
   "id": "26acbc37",
   "metadata": {
    "execution": {
     "iopub.execute_input": "2022-07-22T13:24:32.676582Z",
     "iopub.status.busy": "2022-07-22T13:24:32.676227Z",
     "iopub.status.idle": "2022-07-22T13:33:55.697856Z",
     "shell.execute_reply": "2022-07-22T13:33:55.691303Z"
    },
    "id": "26acbc37",
    "papermill": {
     "duration": 563.072357,
     "end_time": "2022-07-22T13:33:55.712368",
     "exception": false,
     "start_time": "2022-07-22T13:24:32.640011",
     "status": "completed"
    },
    "tags": []
   },
   "outputs": [
    {
     "data": {
      "image/png": "[encoded data removed]",
      "text/plain": [
       "<Figure size 432x288 with 1 Axes>"
      ]
     },
     "metadata": {
      "needs_background": "light"
     },
     "output_type": "display_data"
    },
    {
     "data": {
      "image/png": "[encoded data removed]",
      "text/plain": [
       "<Figure size 432x288 with 1 Axes>"
      ]
     },
     "metadata": {
      "needs_background": "light"
     },
     "output_type": "display_data"
    }
   ],
   "source": [
    "ABC_train_test2.training_GAN_skip_connection(disc3,gen3,disc_opt,gen_opt,train_data,batch_size,n_epochs,criterion,prior_model,variance,bias,device)"
   ]
  },
  {
   "cell_type": "code",
   "execution_count": 21,
   "id": "c5e0717b",
   "metadata": {
    "execution": {
     "iopub.execute_input": "2022-07-22T13:33:55.856555Z",
     "iopub.status.busy": "2022-07-22T13:33:55.855430Z",
     "iopub.status.idle": "2022-07-22T13:34:00.712851Z",
     "shell.execute_reply": "2022-07-22T13:34:00.702886Z"
    },
    "id": "c5e0717b",
    "papermill": {
     "duration": 4.939624,
     "end_time": "2022-07-22T13:34:00.719418",
     "exception": false,
     "start_time": "2022-07-22T13:33:55.779794",
     "status": "completed"
    },
    "tags": []
   },
   "outputs": [
    {
     "data": {
      "application/scrapbook.scrap.json+json": {
       "data": 0.26530778558949647,
       "encoder": "json",
       "name": "ABC-GAN Model 3 MSE",
       "version": 1
      }
     },
     "metadata": {
      "scrapbook": {
       "data": true,
       "display": false,
       "name": "ABC-GAN Model 3 MSE"
      }
     },
     "output_type": "display_data"
    },
    {
     "data": {
      "application/scrapbook.scrap.json+json": {
       "data": 0.33563542149486203,
       "encoder": "json",
       "name": "ABC-GAN Model 3 MAE",
       "version": 1
      }
     },
     "metadata": {
      "scrapbook": {
       "data": true,
       "display": false,
       "name": "ABC-GAN Model 3 MAE"
      }
     },
     "output_type": "display_data"
    },
    {
     "data": {
      "application/scrapbook.scrap.json+json": {
       "data": 34.23481299247592,
       "encoder": "json",
       "name": "ABC-GAN Model 3 Manhattan Distance",
       "version": 1
      }
     },
     "metadata": {
      "scrapbook": {
       "data": true,
       "display": false,
       "name": "ABC-GAN Model 3 Manhattan Distance"
      }
     },
     "output_type": "display_data"
    },
    {
     "data": {
      "application/scrapbook.scrap.json+json": {
       "data": 5.2017417122612075,
       "encoder": "json",
       "name": "ABC-GAN Model 3 Euclidean distance",
       "version": 1
      }
     },
     "metadata": {
      "scrapbook": {
       "data": true,
       "display": false,
       "name": "ABC-GAN Model 3 Euclidean distance"
      }
     },
     "output_type": "display_data"
    },
    {
     "data": {
      "application/scrapbook.scrap.json+json": {
       "data": [
        [
         0.27032780616038554,
         0.26142595615852493,
         0.26377068584783164,
         0.27030069354056424,
         0.25391261980071783,
         0.2649090057483665,
         0.2652068836641467,
         0.26718938581522284,
         0.27219590925537135,
         0.26172623962799013,
         0.263334722998573,
         0.25504876041821173,
         0.2554733498547354,
         0.26940574396826905,
         0.27708363447372075,
         0.2741488390491146,
         0.25689362696930507,
         0.27211516154640486,
         0.26601721489064706,
         0.2594455846021145,
         0.2590678575868183,
         0.27532924095512007,
         0.26415754261598406,
         0.26943697105408326,
         0.268160813629064,
         0.2675162651552204,
         0.2604329605433573,
         0.2632543232570715,
         0.2700290734115791,
         0.2729217372083601,
         0.25853741079482545,
         0.2701134620303196,
         0.270532589607701,
         0.2697226827129867,
         0.2689935458378565,
         0.2647524033247716,
         0.26847897745141314,
         0.2709365235396774,
         0.26139254278212964,
         0.25213198422589667,
         0.27187938182859855,
         0.27478468356796953,
         0.27731926866452605,
         0.26759542670425945,
         0.2736906361216618,
         0.2650480361378853,
         0.2632899745323707,
         0.25872727387706035,
         0.2634771732998752,
         0.26720843348781576,
         0.264295531665755,
         0.25894786871190656,
         0.2695973859082503,
         0.26421371618084655,
         0.27444287661782163,
         0.2595449073144729,
         0.264154813377216,
         0.2674906749703471,
         0.2676348739273422,
         0.26002992737268066,
         0.26515913411742015,
         0.26743075936319927,
         0.2684078340782223,
         0.2644813208439075,
         0.25153067857825856,
         0.26562969643104745,
         0.266346922223505,
         0.2688569850680513,
         0.26960796512764046,
         0.2624317041947816,
         0.258271831040038,
         0.26771358464150835,
         0.2692084633635449,
         0.26842677483659794,
         0.2609699056021879,
         0.26318195226237406,
         0.2578728436690745,
         0.259774551689301,
         0.2706958796691258,
         0.2706222704137795,
         0.2646313535339431,
         0.2530379467364764,
         0.2739953026586394,
         0.26875505065791677,
         0.26253007474004486,
         0.25756857770821245,
         0.27263004772031,
         0.2658001192551006,
         0.26422019545569997,
         0.26692650515132926,
         0.24908394714332616,
         0.2599162824848647,
         0.2611546938000387,
         0.25943723673738595,
         0.26732200178743204,
         0.2669453758452355,
         0.26700203370164133,
         0.27099556744590064,
         0.26341708904231326,
         0.2595845037471531
        ],
        [
         0.3403768105907183,
         0.3345863940742086,
         0.3365032715978576,
         0.3338783885553187,
         0.33308860991953637,
         0.33203188161931785,
         0.34210083856448237,
         0.3271382186634868,
         0.3365155807239752,
         0.33387124737469004,
         0.33175133953930114,
         0.33161422215840397,
         0.3292325419538161,
         0.3392528997843756,
         0.3439154368916563,
         0.3480495066546342,
         0.3286270056212065,
         0.34095589491520445,
         0.3441680862257878,
         0.3385732581875488,
         0.32953707957822903,
         0.34742872119315116,
         0.32833907800708334,
         0.3365381307096458,
         0.33715345980782135,
         0.3366121769170551,
         0.32975882395882816,
         0.33952800454754456,
         0.3288496204688415,
         0.3445471242873692,
         0.3318198433547628,
         0.3325186976980345,
         0.34106053941536185,
         0.335672774735619,
         0.33827092998898495,
         0.3356647948716201,
         0.34576270462689446,
         0.333295240505215,
         0.3331348471270472,
         0.3206588883391198,
         0.3457004923154326,
         0.3448863127725382,
         0.34023369954643295,
         0.3384265627748534,
         0.33987112997063235,
         0.34618903373313303,
         0.33896172674847586,
         0.33149856688710405,
         0.33510115140062924,
         0.34484821068597776,
         0.33737357899400533,
         0.3393851863768171,
         0.331546577898895,
         0.33166294698329535,
         0.33701488781062994,
         0.334048198828218,
         0.33495532819891677,
         0.32956271929045516,
         0.33272977663642345,
         0.3270390421955609,
         0.33263197953940604,
         0.3418255964403643,
         0.3378108041178362,
         0.33166981305853993,
         0.3230741859285855,
         0.3295596277377769,
         0.3384992652663998,
         0.3354892936334306,
         0.33963757578064413,
         0.3267520854213074,
         0.3305477444447723,
         0.342010266713652,
         0.3400835089531599,
         0.3322763964533806,
         0.3344486025618572,
         0.33041969617353933,
         0.338623477913001,
         0.3300884532212627,
         0.3479762053226723,
         0.3345292521385001,
         0.3380959833077356,
         0.3289219213686153,
         0.3472722480621408,
         0.34110316170342997,
         0.32897282114215926,
         0.3262569785629417,
         0.3360378505917741,
         0.33801361637226507,
         0.33163519525060464,
         0.33528615428390457,
         0.3274555262543407,
         0.33617701991369914,
         0.330147380045816,
         0.32604089003129333,
         0.3349773906098277,
         0.33794681329791454,
         0.34384486594182606,
         0.3380591656793566,
         0.3359602880755476,
         0.32996500436874
        ],
        [
         34.71843468025327,
         34.12781219556928,
         34.32333370298147,
         34.05559563264251,
         33.97503821179271,
         33.86725192517042,
         34.894285533577204,
         33.36809830367565,
         34.32458923384547,
         34.054867232218385,
         33.83863663300872,
         33.824650660157204,
         33.581719279289246,
         34.603795778006315,
         35.07937456294894,
         35.50104967877269,
         33.519954573363066,
         34.77750128135085,
         35.105144795030355,
         34.534472335129976,
         33.61278211697936,
         35.43772956170142,
         33.4905859567225,
         34.32688933238387,
         34.38965290039778,
         34.33444204553962,
         33.63540004380047,
         34.631856463849545,
         33.54266128782183,
         35.14380667731166,
         33.8456240221858,
         33.91690716519952,
         34.78817502036691,
         34.23862302303314,
         34.50363485887647,
         34.23780907690525,
         35.267795871943235,
         33.99611453153193,
         33.97975440695882,
         32.70720661059022,
         35.261450216174126,
         35.17840390279889,
         34.70383735373616,
         34.519509403035045,
         34.6668552570045,
         35.31128144077957,
         34.574096128344536,
         33.81285382248461,
         34.18031744286418,
         35.17451748996973,
         34.412105057388544,
         34.61728901043534,
         33.817750945687294,
         33.82962059229612,
         34.375518556684256,
         34.07291628047824,
         34.16544347628951,
         33.61539736762643,
         33.93843721691519,
         33.35798230394721,
         33.92846191301942,
         34.86621083691716,
         34.45670202001929,
         33.83032093197107,
         32.95356696471572,
         33.615082029253244,
         34.526925057172775,
         34.21990795060992,
         34.6430327296257,
         33.328712712973356,
         33.715869933366776,
         34.8850472047925,
         34.68851791322231,
         33.89219243824482,
         34.11375746130943,
         33.702809009701014,
         34.5395947471261,
         33.66902222856879,
         35.49357294291258,
         34.12198371812701,
         34.48579029738903,
         33.55003597959876,
         35.42176930233836,
         34.79252249374986,
         33.555227756500244,
         33.27821181342006,
         34.275860760360956,
         34.47738886997104,
         33.826789915561676,
         34.199187736958265,
         33.40046367794275,
         34.29005603119731,
         33.67503276467323,
         33.25617078319192,
         34.167693842202425,
         34.47057495638728,
         35.072176326066256,
         34.482034899294376,
         34.267949383705854,
         33.65643044561148
        ],
        [
         5.251041442262604,
         5.1638597510166315,
         5.186965389944183,
         5.250778108160499,
         5.089114581110668,
         5.198145687294017,
         5.201067403307032,
         5.2204709895901855,
         5.269153892613868,
         5.166824599505483,
         5.182677082922921,
         5.100487580874754,
         5.1047313039163,
         5.242078393611015,
         5.316251566312444,
         5.288022464306453,
         5.1189012444927195,
         5.268372279721062,
         5.209007191283767,
         5.14426375970514,
         5.1405176270347965,
         5.29939454819343,
         5.190767703031062,
         5.242382192049383,
         5.229952484503518,
         5.223663374092216,
         5.154043264799243,
         5.181885850944739,
         5.248139240529072,
         5.276174484913546,
         5.13525227238859,
         5.248959242277709,
         5.253029996105629,
         5.24516097338534,
         5.238066597081538,
         5.196609003872305,
         5.233054146485027,
         5.256950199597394,
         5.163529738829556,
         5.07123874325016,
         5.2660893409167535,
         5.2941512751273825,
         5.318511577855372,
         5.224436191957412,
         5.283601506965633,
         5.199509562070666,
         5.182236718088224,
         5.137137523510554,
         5.184078671913387,
         5.220657067434827,
         5.192123287240683,
         5.139327057953645,
         5.243942539982825,
         5.191319586622108,
         5.290857531158612,
         5.145248346394587,
         5.190740887819004,
         5.223413524408669,
         5.224821254415207,
         5.150053649430598,
         5.200599165478613,
         5.222828491827615,
         5.232360755526961,
         5.193947894047317,
         5.065187974298918,
         5.205211718649572,
         5.2122342682191,
         5.2367368157031935,
         5.244045427245966,
         5.1737833186042606,
         5.1326140285515205,
         5.225589501045203,
         5.240158705905918,
         5.2325453684925645,
         5.1593536776832005,
         5.181173528339131,
         5.12864797527044,
         5.147524091474337,
         5.254615088305787,
         5.253900606426191,
         5.1954208742374455,
         5.080341579768095,
         5.286541484863352,
         5.235743993656251,
         5.174752904582457,
         5.125621418544064,
         5.273354233073255,
         5.206881231987173,
         5.191383239222605,
         5.21790221501281,
         5.040492298240249,
         5.148928122770428,
         5.1611799782224175,
         5.144180998683208,
         5.22176638526831,
         5.21808665472451,
         5.218640382088751,
         5.257522979453524,
         5.183487540480439,
         5.1456408135634195
        ]
       ],
       "encoder": "json",
       "name": "ABC_GAN_3 Metrics",
       "version": 1
      }
     },
     "metadata": {
      "scrapbook": {
       "data": true,
       "display": false,
       "name": "ABC_GAN_3 Metrics"
      }
     },
     "output_type": "display_data"
    },
    {
     "name": "stdout",
     "output_type": "stream",
     "text": [
      "MAE\n",
      "0.33563542149486203\n"
     ]
    }
   ],
   "source": [
    "ABC_GAN3_metrics=ABC_train_test2.test_generator(gen3,test_data,prior_model,variance,bias,\"3\",device)\n",
    "sb.glue(\"ABC_GAN_3 Metrics\",ABC_GAN3_metrics)\n",
    "\n",
    "print(\"MAE\")\n",
    "print(mean(ABC_GAN3_metrics[1]))"
   ]
  },
  {
   "cell_type": "code",
   "execution_count": 22,
   "id": "c8e46b48",
   "metadata": {
    "execution": {
     "iopub.execute_input": "2022-07-22T13:34:00.883755Z",
     "iopub.status.busy": "2022-07-22T13:34:00.883085Z",
     "iopub.status.idle": "2022-07-22T13:34:02.090555Z",
     "shell.execute_reply": "2022-07-22T13:34:02.089355Z"
    },
    "id": "c8e46b48",
    "papermill": {
     "duration": 1.292286,
     "end_time": "2022-07-22T13:34:02.093249",
     "exception": false,
     "start_time": "2022-07-22T13:34:00.800963",
     "status": "completed"
    },
    "tags": []
   },
   "outputs": [
    {
     "data": {
      "image/png": "[encoded data removed]",
      "text/plain": [
       "<Figure size 432x288 with 1 Axes>"
      ]
     },
     "metadata": {
      "needs_background": "light"
     },
     "output_type": "display_data"
    },
    {
     "data": {
      "image/png": "[encoded data removed]",
      "text/plain": [
       "<Figure size 432x288 with 1 Axes>"
      ]
     },
     "metadata": {
      "needs_background": "light"
     },
     "output_type": "display_data"
    },
    {
     "data": {
      "image/png": "[encoded data removed]",
      "text/plain": [
       "<Figure size 432x288 with 1 Axes>"
      ]
     },
     "metadata": {
      "needs_background": "light"
     },
     "output_type": "display_data"
    },
    {
     "data": {
      "image/png": "[encoded data removed]",
      "text/plain": [
       "<Figure size 432x288 with 1 Axes>"
      ]
     },
     "metadata": {
      "needs_background": "light"
     },
     "output_type": "display_data"
    }
   ],
   "source": [
    "sanityChecks.discProbVsError(train_data,disc3,device)\n",
    "sanityChecks.discProbVsError(test_data,disc3,device)"
   ]
  },
  {
   "cell_type": "markdown",
   "id": "2bd20c41",
   "metadata": {
    "id": "130f3a4d",
    "papermill": {
     "duration": 0.047992,
     "end_time": "2022-07-22T13:34:02.186624",
     "exception": false,
     "start_time": "2022-07-22T13:34:02.138632",
     "status": "completed"
    },
    "tags": []
   },
   "source": [
    "# skipGAN Model with TabNet Generator"
   ]
  },
  {
   "cell_type": "code",
   "execution_count": 23,
   "id": "e458bfb4",
   "metadata": {
    "execution": {
     "iopub.execute_input": "2022-07-22T13:34:02.279916Z",
     "iopub.status.busy": "2022-07-22T13:34:02.279472Z",
     "iopub.status.idle": "2022-07-22T13:34:02.308608Z",
     "shell.execute_reply": "2022-07-22T13:34:02.306414Z"
    },
    "id": "4e43dad1",
    "papermill": {
     "duration": 0.07825,
     "end_time": "2022-07-22T13:34:02.313609",
     "exception": false,
     "start_time": "2022-07-22T13:34:02.235359",
     "status": "completed"
    },
    "tags": []
   },
   "outputs": [],
   "source": [
    "#Generator\n",
    "gen4 = network.GeneratorTabnetskipConnection(n_features+1).to(device)\n",
    "constraints=network.weightConstraint()\n",
    "#Discriminator \n",
    "disc4 = network.Discriminator(n_features+1).to(device)\n",
    "\n",
    "criterion = torch.nn.BCELoss()\n",
    "gen_opt = torch.optim.Adam(gen4.parameters(), lr=0.01, betas=(0.5, 0.999))\n",
    "disc_opt = torch.optim.Adam(disc4.parameters(), lr=0.01, betas=(0.5, 0.999))\n"
   ]
  },
  {
   "cell_type": "code",
   "execution_count": 24,
   "id": "b1a66e55",
   "metadata": {
    "execution": {
     "iopub.execute_input": "2022-07-22T13:34:02.391591Z",
     "iopub.status.busy": "2022-07-22T13:34:02.390632Z",
     "iopub.status.idle": "2022-07-22T13:52:41.744874Z",
     "shell.execute_reply": "2022-07-22T13:52:41.743251Z"
    },
    "id": "26acbc37",
    "papermill": {
     "duration": 1119.402638,
     "end_time": "2022-07-22T13:52:41.752953",
     "exception": false,
     "start_time": "2022-07-22T13:34:02.350315",
     "status": "completed"
    },
    "tags": []
   },
   "outputs": [
    {
     "data": {
      "image/png": "[encoded data removed]",
      "text/plain": [
       "<Figure size 432x288 with 1 Axes>"
      ]
     },
     "metadata": {
      "needs_background": "light"
     },
     "output_type": "display_data"
    },
    {
     "data": {
      "image/png": "[encoded data removed]",
      "text/plain": [
       "<Figure size 432x288 with 1 Axes>"
      ]
     },
     "metadata": {
      "needs_background": "light"
     },
     "output_type": "display_data"
    }
   ],
   "source": [
    "ABC_train_test2.training_GAN_skip_connection(disc4,gen4,disc_opt,gen_opt,train_data,batch_size,n_epochs,criterion,prior_model,variance,bias,device)"
   ]
  },
  {
   "cell_type": "code",
   "execution_count": 25,
   "id": "bcd737a7",
   "metadata": {
    "execution": {
     "iopub.execute_input": "2022-07-22T13:52:41.844895Z",
     "iopub.status.busy": "2022-07-22T13:52:41.843103Z",
     "iopub.status.idle": "2022-07-22T13:52:46.627309Z",
     "shell.execute_reply": "2022-07-22T13:52:46.625835Z"
    },
    "id": "c5e0717b",
    "papermill": {
     "duration": 4.85252,
     "end_time": "2022-07-22T13:52:46.635690",
     "exception": false,
     "start_time": "2022-07-22T13:52:41.783170",
     "status": "completed"
    },
    "tags": []
   },
   "outputs": [
    {
     "data": {
      "application/scrapbook.scrap.json+json": {
       "data": 0.14835364338782042,
       "encoder": "json",
       "name": "ABC-GAN Model 3 MSE",
       "version": 1
      }
     },
     "metadata": {
      "scrapbook": {
       "data": true,
       "display": false,
       "name": "ABC-GAN Model 3 MSE"
      }
     },
     "output_type": "display_data"
    },
    {
     "data": {
      "application/scrapbook.scrap.json+json": {
       "data": 0.26651743599907585,
       "encoder": "json",
       "name": "ABC-GAN Model 3 MAE",
       "version": 1
      }
     },
     "metadata": {
      "scrapbook": {
       "data": true,
       "display": false,
       "name": "ABC-GAN Model 3 MAE"
      }
     },
     "output_type": "display_data"
    },
    {
     "data": {
      "application/scrapbook.scrap.json+json": {
       "data": 27.184778471905737,
       "encoder": "json",
       "name": "ABC-GAN Model 3 Manhattan Distance",
       "version": 1
      }
     },
     "metadata": {
      "scrapbook": {
       "data": true,
       "display": false,
       "name": "ABC-GAN Model 3 Manhattan Distance"
      }
     },
     "output_type": "display_data"
    },
    {
     "data": {
      "application/scrapbook.scrap.json+json": {
       "data": 3.8892970330917245,
       "encoder": "json",
       "name": "ABC-GAN Model 3 Euclidean distance",
       "version": 1
      }
     },
     "metadata": {
      "scrapbook": {
       "data": true,
       "display": false,
       "name": "ABC-GAN Model 3 Euclidean distance"
      }
     },
     "output_type": "display_data"
    },
    {
     "data": {
      "application/scrapbook.scrap.json+json": {
       "data": [
        [
         0.14641971057960482,
         0.14172810038170525,
         0.14702572642826672,
         0.15126067462660112,
         0.14621226820916575,
         0.14715288422004671,
         0.1478029166940268,
         0.14642815961248237,
         0.15431462791575462,
         0.1511789106370995,
         0.14174772224968138,
         0.14580005705568586,
         0.13934561451523647,
         0.1398871500090594,
         0.1584237265963662,
         0.15030473147656012,
         0.15084564305972115,
         0.13989131101950647,
         0.14734728599958088,
         0.14714988831224113,
         0.14586906765674543,
         0.14978375670697106,
         0.151193022030243,
         0.15178662228819095,
         0.15031712138515688,
         0.1554461257998896,
         0.1517116507154232,
         0.15167943717272658,
         0.1500723732008047,
         0.14855451505506542,
         0.14740940840866074,
         0.14705407913224808,
         0.1407337353609384,
         0.14776525218573033,
         0.1513664418031581,
         0.14428762394975875,
         0.1383021338503588,
         0.14762889333424342,
         0.14693505847372348,
         0.15609994289830942,
         0.14748410987036942,
         0.15731631218049197,
         0.1495486862861108,
         0.14258353608693922,
         0.1489269639724722,
         0.15070041508374796,
         0.14827964838574373,
         0.15106832055235295,
         0.14688481395732875,
         0.14905970317797498,
         0.1395567313883672,
         0.13777532961838324,
         0.14847534041118443,
         0.14536926378852197,
         0.14683660594662856,
         0.15483098582342464,
         0.1586941999246343,
         0.14950233436191937,
         0.15446999784807613,
         0.14723391640447972,
         0.15589127277842335,
         0.14607901137327414,
         0.14561032305263896,
         0.144934912756953,
         0.14314364515436312,
         0.14592935034810903,
         0.15373867165526747,
         0.15510779707971684,
         0.13827495478682447,
         0.15560002201754145,
         0.15142732618696833,
         0.16463981062572475,
         0.15422717890821752,
         0.14571533360509092,
         0.15060259737147483,
         0.13435110661860922,
         0.14616345867230934,
         0.1412768813172549,
         0.14347208439368223,
         0.14551093906305457,
         0.1452939969705827,
         0.15133120971619074,
         0.15274270921994265,
         0.14978287341741606,
         0.15955655184486683,
         0.15409073317225053,
         0.14743210433915876,
         0.13666502448622747,
         0.1563268631439836,
         0.1586607271192129,
         0.1525264697041765,
         0.15537970155639308,
         0.14846483126957571,
         0.15241341866591043,
         0.14203256551711957,
         0.13583787953365153,
         0.1431408931823194,
         0.15081541995635928,
         0.14446627504136278,
         0.1478468270839525
        ],
        [
         0.26518986644405945,
         0.2608109146867897,
         0.2683335187680581,
         0.2579251440862815,
         0.2702003123749997,
         0.2725623002750616,
         0.2612023964962539,
         0.26932290957911925,
         0.277845186309195,
         0.2665638462183814,
         0.2596928141463329,
         0.26358985784007055,
         0.2536673991228728,
         0.2592230388237273,
         0.2738395405787171,
         0.2665421646818811,
         0.26525739522869973,
         0.26185568473210524,
         0.26428802230157983,
         0.26578108097116154,
         0.2705620921709958,
         0.26319706373318447,
         0.26935762075670794,
         0.2609918977535677,
         0.26865792515523296,
         0.27492647781493323,
         0.27359232348481227,
         0.27111552239340897,
         0.2670347209216333,
         0.26901728283686965,
         0.27063839967983466,
         0.2668728340033661,
         0.26192794700025346,
         0.25973329890300245,
         0.26956644124698403,
         0.26183092577711625,
         0.25893942020176086,
         0.26847651334223793,
         0.2627769708633423,
         0.2748766802981788,
         0.26951312964015145,
         0.2760502987851699,
         0.2670320570560209,
         0.25891758496051326,
         0.2674997631898698,
         0.2714784429865141,
         0.2688008975968057,
         0.26552171822564274,
         0.26159631826129615,
         0.26913139740845154,
         0.2502602897949663,
         0.2565640000918624,
         0.26726562165490847,
         0.2619387680920316,
         0.2638489728720457,
         0.2724554250838564,
         0.2786086838071545,
         0.2672643667342616,
         0.2714257879620966,
         0.26197673303677754,
         0.27249185750078336,
         0.2634327506244767,
         0.2604081429924597,
         0.26609989474801454,
         0.26204414130645054,
         0.2620917311047806,
         0.2716135195657319,
         0.2668381045188974,
         0.2516812381024162,
         0.2682808064216492,
         0.27043181699791957,
         0.2797074090762466,
         0.26673208300352974,
         0.26381379911931707,
         0.26694393274830835,
         0.2593977082447678,
         0.26435809621733486,
         0.26411755412689175,
         0.260171404984944,
         0.26900703496500555,
         0.2647580197994031,
         0.27380183580167156,
         0.2674465272575617,
         0.26339189412401004,
         0.2717093991882661,
         0.27318006744790896,
         0.26722531121078075,
         0.256380766812785,
         0.2719518256501532,
         0.2785641147444646,
         0.2723888956996448,
         0.2712732528646787,
         0.2677779796478503,
         0.27156056310324106,
         0.2636026642193981,
         0.25887717803319293,
         0.26734986671191807,
         0.2732296969522448,
         0.2661068563294761,
         0.2665678486958438
        ],
        [
         27.049366377294064,
         26.60271329805255,
         27.370018914341927,
         26.30836469680071,
         27.56043186224997,
         27.801354628056288,
         26.642644442617893,
         27.470936777070165,
         28.340209003537893,
         27.189512314274907,
         26.488667042925954,
         26.886165499687195,
         25.874074710533023,
         26.440749960020185,
         27.931633139029145,
         27.18730079755187,
         27.056254313327372,
         26.709279842674732,
         26.95737827476114,
         27.109670259058475,
         27.597333401441574,
         26.846100500784814,
         27.47447731718421,
         26.621173570863903,
         27.40310836583376,
         28.04250073712319,
         27.906416995450854,
         27.653783284127712,
         27.237541534006596,
         27.439762849360704,
         27.605116767343134,
         27.22102906834334,
         26.71665059402585,
         26.49279648810625,
         27.495777007192373,
         26.706754429265857,
         26.41182086057961,
         27.38460436090827,
         26.803251028060913,
         28.037421390414238,
         27.49033922329545,
         28.15713047608733,
         27.23726981971413,
         26.409593665972352,
         27.284975845366716,
         27.690801184624434,
         27.41769155487418,
         27.08321525901556,
         26.682824462652206,
         27.451402535662055,
         25.52654955908656,
         26.16952800936997,
         27.26109340880066,
         26.71775434538722,
         26.91259523294866,
         27.79045335855335,
         28.41808574832976,
         27.260965406894684,
         27.68543037213385,
         26.72162676975131,
         27.794169465079904,
         26.870140563696623,
         26.561630585230887,
         27.142189264297485,
         26.728502413257957,
         26.733356572687626,
         27.70457899570465,
         27.217486660927534,
         25.671486286446452,
         27.36464225500822,
         27.5840453337878,
         28.53015572577715,
         27.206672466360033,
         26.90900751017034,
         27.228281140327454,
         26.45856624096632,
         26.964525814168155,
         26.939990520942956,
         26.53748330846429,
         27.43871756643057,
         27.005318019539118,
         27.927787251770496,
         27.27954578027129,
         26.865973200649023,
         27.71435871720314,
         27.864366879686713,
         27.256981743499637,
         26.15083821490407,
         27.739086216315627,
         28.413539703935385,
         27.78366736136377,
         27.669871792197227,
         27.31335392408073,
         27.69917743653059,
         26.88747175037861,
         26.40547215938568,
         27.26968640461564,
         27.86942908912897,
         27.142899345606565,
         27.18992056697607
        ],
        [
         3.864558251484856,
         3.802139692190955,
         3.872547494309554,
         3.9279242370383516,
         3.8618196950835113,
         3.874221752874345,
         3.8827693084692445,
         3.8646697505056236,
         3.967378485525041,
         3.9268624733983426,
         3.8024028810039976,
         3.856372105966948,
         3.7700467743191357,
         3.777365391502926,
         4.019853245185618,
         3.9154926395805076,
         3.922531783439308,
         3.7774215708588383,
         3.8767800004587896,
         3.8741823147405694,
         3.8572846538709102,
         3.9087009586448342,
         3.9270457403861223,
         3.9347471930729516,
         3.9156540170558984,
         3.9818971397549605,
         3.9337753333119014,
         3.933357674000435,
         3.912464960415885,
         3.892629000510665,
         3.87759714999939,
         3.872920870801429,
         3.788778300034948,
         3.8822745553276485,
         3.929297273549321,
         3.83631824056287,
         3.755904372150148,
         3.880482846256742,
         3.8713532471630376,
         3.990262419393936,
         3.8785795346721557,
         4.005778805976458,
         3.905632599359968,
         3.813596816768626,
         3.8975056542861055,
         3.9206431026736275,
         3.8890261165677282,
         3.9254259254684705,
         3.87069128498354,
         3.8992421987039276,
         3.7729016156816826,
         3.7487442725631586,
         3.891591540994611,
         3.8506707086466423,
         3.870056046952823,
         3.974010638384013,
         4.023283285118349,
         3.9050272860654602,
         3.969375238057466,
         3.8752883084045404,
         3.987594490842716,
         3.860059476235302,
         3.8538620825568177,
         3.8449136662881265,
         3.821079926636583,
         3.8580816133808153,
         3.959967740883413,
         3.977561476851252,
         3.7555352998282543,
         3.983867749535522,
         3.930087438094828,
         4.097958111526267,
         3.966254183563905,
         3.8552514869615537,
         3.9193704764783877,
         3.701866134140745,
         3.861175052309277,
         3.796082440406161,
         3.8254610974568255,
         3.8525466622004156,
         3.8496737122773714,
         3.9288399548787236,
         3.9471200058313585,
         3.908689433630719,
         4.034199832454561,
         3.96449931057751,
         3.8778956461712824,
         3.733608508881883,
         3.9931616597235733,
         4.022858954296025,
         3.944325025885417,
         3.981046289451064,
         3.8914538143856623,
         3.9428630085158756,
         3.8062214442601987,
         3.722292803156739,
         3.8210431958558884,
         3.9221388088068276,
         3.838692492792175,
         3.883346026632594
        ]
       ],
       "encoder": "json",
       "name": "ABC_GAN_4 Metrics",
       "version": 1
      }
     },
     "metadata": {
      "scrapbook": {
       "data": true,
       "display": false,
       "name": "ABC_GAN_4 Metrics"
      }
     },
     "output_type": "display_data"
    },
    {
     "name": "stdout",
     "output_type": "stream",
     "text": [
      "MAE\n",
      "0.26651743599907585\n"
     ]
    }
   ],
   "source": [
    "ABC_GAN4_metrics=ABC_train_test2.test_generator(gen4,test_data,prior_model,variance,bias,\"3\",device)\n",
    "sb.glue(\"ABC_GAN_4 Metrics\",ABC_GAN4_metrics)\n",
    "\n",
    "print(\"MAE\")\n",
    "print(mean(ABC_GAN4_metrics[1]))"
   ]
  },
  {
   "cell_type": "code",
   "execution_count": 26,
   "id": "11681273",
   "metadata": {
    "execution": {
     "iopub.execute_input": "2022-07-22T13:52:46.731347Z",
     "iopub.status.busy": "2022-07-22T13:52:46.731017Z",
     "iopub.status.idle": "2022-07-22T13:52:47.785551Z",
     "shell.execute_reply": "2022-07-22T13:52:47.784829Z"
    },
    "id": "c8e46b48",
    "papermill": {
     "duration": 1.099681,
     "end_time": "2022-07-22T13:52:47.787751",
     "exception": false,
     "start_time": "2022-07-22T13:52:46.688070",
     "status": "completed"
    },
    "tags": []
   },
   "outputs": [
    {
     "data": {
      "image/png": "[encoded data removed]",
      "text/plain": [
       "<Figure size 432x288 with 1 Axes>"
      ]
     },
     "metadata": {
      "needs_background": "light"
     },
     "output_type": "display_data"
    },
    {
     "data": {
      "image/png": "[encoded data removed]",
      "text/plain": [
       "<Figure size 432x288 with 1 Axes>"
      ]
     },
     "metadata": {
      "needs_background": "light"
     },
     "output_type": "display_data"
    },
    {
     "data": {
      "image/png": "[encoded data removed]",
      "text/plain": [
       "<Figure size 432x288 with 1 Axes>"
      ]
     },
     "metadata": {
      "needs_background": "light"
     },
     "output_type": "display_data"
    },
    {
     "data": {
      "image/png": "[encoded data removed]",
      "text/plain": [
       "<Figure size 432x288 with 1 Axes>"
      ]
     },
     "metadata": {
      "needs_background": "light"
     },
     "output_type": "display_data"
    }
   ],
   "source": [
    "sanityChecks.discProbVsError(train_data,disc4,device)\n",
    "sanityChecks.discProbVsError(test_data,disc4,device)"
   ]
  },
  {
   "cell_type": "markdown",
   "id": "a5bd74c3",
   "metadata": {
    "id": "a5bd74c3",
    "papermill": {
     "duration": 0.052725,
     "end_time": "2022-07-22T13:52:47.883195",
     "exception": false,
     "start_time": "2022-07-22T13:52:47.830470",
     "status": "completed"
    },
    "tags": []
   },
   "source": [
    "## Skip Connection Model Analysis - ABC-GAN "
   ]
  },
  {
   "cell_type": "markdown",
   "id": "5744a8bf",
   "metadata": {
    "id": "5744a8bf",
    "papermill": {
     "duration": 0.038427,
     "end_time": "2022-07-22T13:52:47.962337",
     "exception": false,
     "start_time": "2022-07-22T13:52:47.923910",
     "status": "completed"
    },
    "tags": []
   },
   "source": [
    "### Weight Analysis \n",
    "\n",
    "Study the weights of the skip connection layer\n",
    "\n",
    "Equation of the skip connection is \n",
    "\n",
    "$output = y_{gan} * w + y_{abc} * (1-w)$"
   ]
  },
  {
   "cell_type": "code",
   "execution_count": 27,
   "id": "52c31dea",
   "metadata": {
    "execution": {
     "iopub.execute_input": "2022-07-22T13:52:48.468354Z",
     "iopub.status.busy": "2022-07-22T13:52:48.467767Z",
     "iopub.status.idle": "2022-07-22T13:52:48.494646Z",
     "shell.execute_reply": "2022-07-22T13:52:48.493911Z"
    },
    "id": "52c31dea",
    "papermill": {
     "duration": 0.078117,
     "end_time": "2022-07-22T13:52:48.497587",
     "exception": false,
     "start_time": "2022-07-22T13:52:48.419470",
     "status": "completed"
    },
    "tags": []
   },
   "outputs": [
    {
     "name": "stdout",
     "output_type": "stream",
     "text": [
      "Weight of the node at skip connection\n",
      "Parameter containing:\n",
      "tensor([[0.1382]], requires_grad=True)\n"
     ]
    },
    {
     "data": {
      "application/scrapbook.scrap.json+json": {
       "data": 0.13821972906589508,
       "encoder": "json",
       "name": "Skip Connection Weight",
       "version": 1
      }
     },
     "metadata": {
      "scrapbook": {
       "data": true,
       "display": false,
       "name": "Skip Connection Weight"
      }
     },
     "output_type": "display_data"
    }
   ],
   "source": [
    "print(\"Weight of the node at skip connection\")\n",
    "for name,param in gen3.named_parameters():\n",
    "    if(name == \"skipNode.weight\"):\n",
    "        print(param)\n",
    "        sb.glue(\"Skip Connection Weight\",param.item())"
   ]
  },
  {
   "cell_type": "markdown",
   "id": "1be63349",
   "metadata": {
    "id": "a5bd74c3",
    "papermill": {
     "duration": 0.120543,
     "end_time": "2022-07-22T13:52:48.694160",
     "exception": false,
     "start_time": "2022-07-22T13:52:48.573617",
     "status": "completed"
    },
    "tags": []
   },
   "source": [
    "## skipGAN Model Analysis (TabNet Generator) "
   ]
  },
  {
   "cell_type": "markdown",
   "id": "dbbe85b6",
   "metadata": {
    "id": "5744a8bf",
    "papermill": {
     "duration": 0.043968,
     "end_time": "2022-07-22T13:52:48.779114",
     "exception": false,
     "start_time": "2022-07-22T13:52:48.735146",
     "status": "completed"
    },
    "tags": []
   },
   "source": [
    "### Weight Analysis \n",
    "\n",
    "Study the weights of the skip connection layer\n",
    "\n",
    "Equation of the skip connection is \n",
    "\n",
    "$output = y_{gan} * w + y_{abc} * (1-w)$"
   ]
  },
  {
   "cell_type": "code",
   "execution_count": 28,
   "id": "d269e955",
   "metadata": {
    "execution": {
     "iopub.execute_input": "2022-07-22T13:52:48.856813Z",
     "iopub.status.busy": "2022-07-22T13:52:48.856507Z",
     "iopub.status.idle": "2022-07-22T13:52:48.866896Z",
     "shell.execute_reply": "2022-07-22T13:52:48.866142Z"
    },
    "id": "52c31dea",
    "papermill": {
     "duration": 0.052532,
     "end_time": "2022-07-22T13:52:48.869184",
     "exception": false,
     "start_time": "2022-07-22T13:52:48.816652",
     "status": "completed"
    },
    "tags": []
   },
   "outputs": [
    {
     "name": "stdout",
     "output_type": "stream",
     "text": [
      "Weight of the node at skip connection\n",
      "Parameter containing:\n",
      "tensor([[0.2107]], requires_grad=True)\n"
     ]
    },
    {
     "data": {
      "application/scrapbook.scrap.json+json": {
       "data": 0.21072238683700562,
       "encoder": "json",
       "name": "Skip Connection Weight",
       "version": 1
      }
     },
     "metadata": {
      "scrapbook": {
       "data": true,
       "display": false,
       "name": "Skip Connection Weight"
      }
     },
     "output_type": "display_data"
    }
   ],
   "source": [
    "print(\"Weight of the node at skip connection\")\n",
    "for name,param in gen4.named_parameters():\n",
    "    if(name == \"skipNode.weight\"):\n",
    "        print(param)\n",
    "        sb.glue(\"Skip Connection Weight\",param.item())"
   ]
  }
 ],
 "metadata": {
  "colab": {
   "collapsed_sections": [],
   "name": "ABC_GAN_Model-Catboost_Pre-gen.ipynb",
   "provenance": []
  },
  "interpreter": {
   "hash": "31f2aee4e71d21fbe5cf8b01ff0e069b9275f58929596ceb00d14d90e3e16cd6"
  },
  "kernelspec": {
   "display_name": "Python 3 (ipykernel)",
   "language": "python",
   "name": "python3"
  },
  "language_info": {
   "codemirror_mode": {
    "name": "ipython",
    "version": 3
   },
   "file_extension": ".py",
   "mimetype": "text/x-python",
   "name": "python",
   "nbconvert_exporter": "python",
   "pygments_lexer": "ipython3",
   "version": "3.8.13"
  },
  "papermill": {
   "default_parameters": {},
   "duration": 2842.126921,
   "end_time": "2022-07-22T13:52:50.624737",
   "environment_variables": {},
   "exception": null,
   "input_path": "ABC_GAN-TabNet.ipynb",
   "output_path": "./ABC_GAN_TabNet/ABC-GAN_output_1_7.ipynb",
   "parameters": {
    "bias": 0.01,
    "variance": 0.1
   },
   "start_time": "2022-07-22T13:05:28.497816",
   "version": "2.3.3"
  }
 },
 "nbformat": 4,
 "nbformat_minor": 5
}