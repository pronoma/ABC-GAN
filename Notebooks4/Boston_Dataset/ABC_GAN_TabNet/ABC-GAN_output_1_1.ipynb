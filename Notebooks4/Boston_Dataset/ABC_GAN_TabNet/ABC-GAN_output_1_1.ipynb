{
 "cells": [
  {
   "cell_type": "markdown",
   "id": "622780e6",
   "metadata": {
    "id": "622780e6",
    "papermill": {
     "duration": 0.009389,
     "end_time": "2022-07-22T08:50:36.791792",
     "exception": false,
     "start_time": "2022-07-22T08:50:36.782403",
     "status": "completed"
    },
    "tags": []
   },
   "source": [
    "## Import Libraries "
   ]
  },
  {
   "cell_type": "code",
   "execution_count": 1,
   "id": "a62397e3",
   "metadata": {
    "execution": {
     "iopub.execute_input": "2022-07-22T08:50:36.813631Z",
     "iopub.status.busy": "2022-07-22T08:50:36.812794Z",
     "iopub.status.idle": "2022-07-22T08:50:36.829743Z",
     "shell.execute_reply": "2022-07-22T08:50:36.827397Z"
    },
    "id": "a62397e3",
    "papermill": {
     "duration": 0.041414,
     "end_time": "2022-07-22T08:50:36.840817",
     "exception": false,
     "start_time": "2022-07-22T08:50:36.799403",
     "status": "completed"
    },
    "tags": []
   },
   "outputs": [],
   "source": [
    "import warnings\n",
    "import sys\n",
    "sys.path.insert(0, '../../src')\n",
    "warnings.filterwarnings('ignore')"
   ]
  },
  {
   "cell_type": "code",
   "execution_count": 2,
   "id": "d6a4e155",
   "metadata": {
    "execution": {
     "iopub.execute_input": "2022-07-22T08:50:36.861967Z",
     "iopub.status.busy": "2022-07-22T08:50:36.861098Z",
     "iopub.status.idle": "2022-07-22T08:50:43.744439Z",
     "shell.execute_reply": "2022-07-22T08:50:43.573151Z"
    },
    "id": "d6a4e155",
    "papermill": {
     "duration": 6.89772,
     "end_time": "2022-07-22T08:50:43.747747",
     "exception": false,
     "start_time": "2022-07-22T08:50:36.850027",
     "status": "completed"
    },
    "tags": []
   },
   "outputs": [],
   "source": [
    "import ABC_train_test2\n",
    "import bostonDataset\n",
    "import network\n",
    "import dataset\n",
    "import sanityChecks\n",
    "import torch \n",
    "import scrapbook as sb\n",
    "from statistics import mean \n",
    "import catboost as ctb \n",
    "from sklearn.model_selection import train_test_split\n",
    "from sklearn.metrics import mean_squared_error,mean_absolute_error\n",
    "import numpy as np\n",
    "from pytorch_tabnet.tab_model import TabNetRegressor"
   ]
  },
  {
   "cell_type": "markdown",
   "id": "2fa5b0f7",
   "metadata": {
    "id": "2fa5b0f7",
    "papermill": {
     "duration": 0.007615,
     "end_time": "2022-07-22T08:50:43.763716",
     "exception": false,
     "start_time": "2022-07-22T08:50:43.756101",
     "status": "completed"
    },
    "tags": []
   },
   "source": [
    "## Parameters "
   ]
  },
  {
   "cell_type": "code",
   "execution_count": 3,
   "id": "783186fb",
   "metadata": {
    "execution": {
     "iopub.execute_input": "2022-07-22T08:50:43.801647Z",
     "iopub.status.busy": "2022-07-22T08:50:43.795338Z",
     "iopub.status.idle": "2022-07-22T08:50:43.807274Z",
     "shell.execute_reply": "2022-07-22T08:50:43.805946Z"
    },
    "id": "783186fb",
    "papermill": {
     "duration": 0.03853,
     "end_time": "2022-07-22T08:50:43.810386",
     "exception": false,
     "start_time": "2022-07-22T08:50:43.771856",
     "status": "completed"
    },
    "tags": [
     "parameters"
    ]
   },
   "outputs": [],
   "source": [
    "variance = 1\n",
    "bias = 1 "
   ]
  },
  {
   "cell_type": "code",
   "execution_count": 4,
   "id": "d7e17fc4",
   "metadata": {
    "execution": {
     "iopub.execute_input": "2022-07-22T08:50:43.906891Z",
     "iopub.status.busy": "2022-07-22T08:50:43.906419Z",
     "iopub.status.idle": "2022-07-22T08:50:43.912360Z",
     "shell.execute_reply": "2022-07-22T08:50:43.910547Z"
    },
    "papermill": {
     "duration": 0.097987,
     "end_time": "2022-07-22T08:50:43.916287",
     "exception": false,
     "start_time": "2022-07-22T08:50:43.818300",
     "status": "completed"
    },
    "tags": [
     "injected-parameters"
    ]
   },
   "outputs": [],
   "source": [
    "# Parameters\n",
    "variance = 0.1\n",
    "bias = 1\n"
   ]
  },
  {
   "cell_type": "markdown",
   "id": "391cdbfd",
   "metadata": {
    "id": "391cdbfd",
    "papermill": {
     "duration": 0.013696,
     "end_time": "2022-07-22T08:50:43.940890",
     "exception": false,
     "start_time": "2022-07-22T08:50:43.927194",
     "status": "completed"
    },
    "tags": []
   },
   "source": [
    "## Dataset \n"
   ]
  },
  {
   "cell_type": "code",
   "execution_count": 5,
   "id": "5b51f161",
   "metadata": {
    "execution": {
     "iopub.execute_input": "2022-07-22T08:50:43.973335Z",
     "iopub.status.busy": "2022-07-22T08:50:43.972706Z",
     "iopub.status.idle": "2022-07-22T08:50:43.979535Z",
     "shell.execute_reply": "2022-07-22T08:50:43.978298Z"
    },
    "id": "5b51f161",
    "papermill": {
     "duration": 0.056735,
     "end_time": "2022-07-22T08:50:44.011162",
     "exception": false,
     "start_time": "2022-07-22T08:50:43.954427",
     "status": "completed"
    },
    "tags": []
   },
   "outputs": [],
   "source": [
    "#Parameters \n",
    "n_features = 13\n",
    "n_samples= 506\n",
    "n_target = 1 "
   ]
  },
  {
   "cell_type": "code",
   "execution_count": 6,
   "id": "5d6eced4",
   "metadata": {
    "execution": {
     "iopub.execute_input": "2022-07-22T08:50:44.160547Z",
     "iopub.status.busy": "2022-07-22T08:50:44.159931Z",
     "iopub.status.idle": "2022-07-22T08:50:44.193063Z",
     "shell.execute_reply": "2022-07-22T08:50:44.191087Z"
    },
    "id": "5d6eced4",
    "papermill": {
     "duration": 0.082113,
     "end_time": "2022-07-22T08:50:44.210935",
     "exception": false,
     "start_time": "2022-07-22T08:50:44.128822",
     "status": "completed"
    },
    "tags": []
   },
   "outputs": [
    {
     "name": "stdout",
     "output_type": "stream",
     "text": [
      "         X1        X2        X3        X4        X5        X6        X7  \\\n",
      "0 -0.419782  0.284830 -1.287909 -0.272599 -0.144217  0.413672 -0.120013   \n",
      "1 -0.417339 -0.487722 -0.593381 -0.272599 -0.740262  0.194274  0.367166   \n",
      "2 -0.417342 -0.487722 -0.593381 -0.272599 -0.740262  1.282714 -0.265812   \n",
      "3 -0.416750 -0.487722 -1.306878 -0.272599 -0.835284  1.016303 -0.809889   \n",
      "4 -0.412482 -0.487722 -1.306878 -0.272599 -0.835284  1.228577 -0.511180   \n",
      "\n",
      "         X8        X9       X10       X11       X12       X13         Y  \n",
      "0  0.140214 -0.982843 -0.666608 -1.459000  0.441052 -1.075562  0.159686  \n",
      "1  0.557160 -0.867883 -0.987329 -0.303094  0.441052 -0.492439 -0.101524  \n",
      "2  0.557160 -0.867883 -0.987329 -0.303094  0.396427 -1.208727  1.324247  \n",
      "3  1.077737 -0.752922 -1.106115  0.113032  0.416163 -1.361517  1.182758  \n",
      "4  1.077737 -0.752922 -1.106115  0.113032  0.441052 -1.026501  1.487503  \n"
     ]
    }
   ],
   "source": [
    "X,Y = bostonDataset.boston_data()"
   ]
  },
  {
   "cell_type": "code",
   "execution_count": 7,
   "id": "fe007438",
   "metadata": {
    "execution": {
     "iopub.execute_input": "2022-07-22T08:50:44.251560Z",
     "iopub.status.busy": "2022-07-22T08:50:44.251221Z",
     "iopub.status.idle": "2022-07-22T08:50:44.269515Z",
     "shell.execute_reply": "2022-07-22T08:50:44.266349Z"
    },
    "id": "fe007438",
    "papermill": {
     "duration": 0.053266,
     "end_time": "2022-07-22T08:50:44.291910",
     "exception": false,
     "start_time": "2022-07-22T08:50:44.238644",
     "status": "completed"
    },
    "tags": []
   },
   "outputs": [],
   "source": [
    "#Train test split for dataset \n",
    "X_train,X_test,Y_train,Y_test = train_test_split(X,Y,test_size = 0.2)\n",
    "train_data = dataset.CustomDataset(X_train,Y_train)\n",
    "test_data = dataset.CustomDataset(X_test,Y_test)\n"
   ]
  },
  {
   "cell_type": "markdown",
   "id": "a9a1af34",
   "metadata": {
    "id": "a9a1af34",
    "papermill": {
     "duration": 0.020211,
     "end_time": "2022-07-22T08:50:44.323102",
     "exception": false,
     "start_time": "2022-07-22T08:50:44.302891",
     "status": "completed"
    },
    "tags": []
   },
   "source": [
    "## Training Parameters "
   ]
  },
  {
   "cell_type": "code",
   "execution_count": 8,
   "id": "952b7fc8",
   "metadata": {
    "execution": {
     "iopub.execute_input": "2022-07-22T08:50:44.349231Z",
     "iopub.status.busy": "2022-07-22T08:50:44.348253Z",
     "iopub.status.idle": "2022-07-22T08:50:44.353345Z",
     "shell.execute_reply": "2022-07-22T08:50:44.352121Z"
    },
    "id": "952b7fc8",
    "papermill": {
     "duration": 0.020017,
     "end_time": "2022-07-22T08:50:44.357040",
     "exception": false,
     "start_time": "2022-07-22T08:50:44.337023",
     "status": "completed"
    },
    "tags": []
   },
   "outputs": [],
   "source": [
    "batch_size = 32\n",
    "n_epochs = 1000\n",
    "#Select the device \n",
    "device = torch.device('cuda' if torch.cuda.is_available() else 'cpu')"
   ]
  },
  {
   "cell_type": "markdown",
   "id": "a95e1600",
   "metadata": {
    "id": "a95e1600",
    "papermill": {
     "duration": 0.012037,
     "end_time": "2022-07-22T08:50:44.377425",
     "exception": false,
     "start_time": "2022-07-22T08:50:44.365388",
     "status": "completed"
    },
    "tags": []
   },
   "source": [
    "# ABC Pre-generator Model \n",
    "\n",
    "1. The catboost model is used as a pre-generator model for the ABC-GAN. \n",
    "2. The model is first trained on the entire dataset \n",
    "3. It generats X,Y pairs and we add some Gaussian noise with mean 0 and variance 1 to it which is then feed as input to the generator.\n"
   ]
  },
  {
   "cell_type": "code",
   "execution_count": 9,
   "id": "ff8ce7bd",
   "metadata": {
    "execution": {
     "iopub.execute_input": "2022-07-22T08:50:44.399506Z",
     "iopub.status.busy": "2022-07-22T08:50:44.399149Z",
     "iopub.status.idle": "2022-07-22T08:52:59.771143Z",
     "shell.execute_reply": "2022-07-22T08:52:59.769988Z"
    },
    "id": "ff8ce7bd",
    "papermill": {
     "duration": 135.388262,
     "end_time": "2022-07-22T08:52:59.774874",
     "exception": false,
     "start_time": "2022-07-22T08:50:44.386612",
     "status": "completed"
    },
    "tags": []
   },
   "outputs": [
    {
     "name": "stdout",
     "output_type": "stream",
     "text": [
      "Device used : cpu\n"
     ]
    },
    {
     "name": "stdout",
     "output_type": "stream",
     "text": [
      "epoch 0  | loss: 2.06209 | train_mse: 1.17286 | train_mae: 0.81214 |  0:00:00s\n"
     ]
    },
    {
     "name": "stdout",
     "output_type": "stream",
     "text": [
      "epoch 1  | loss: 0.93752 | train_mse: 0.96535 | train_mae: 0.70874 |  0:00:00s\n"
     ]
    },
    {
     "name": "stdout",
     "output_type": "stream",
     "text": [
      "epoch 2  | loss: 0.62754 | train_mse: 0.65675 | train_mae: 0.5804  |  0:00:01s\n"
     ]
    },
    {
     "name": "stdout",
     "output_type": "stream",
     "text": [
      "epoch 3  | loss: 0.50211 | train_mse: 0.51569 | train_mae: 0.51771 |  0:00:01s\n"
     ]
    },
    {
     "name": "stdout",
     "output_type": "stream",
     "text": [
      "epoch 4  | loss: 0.52455 | train_mse: 0.44127 | train_mae: 0.45934 |  0:00:02s\n"
     ]
    },
    {
     "name": "stdout",
     "output_type": "stream",
     "text": [
      "epoch 5  | loss: 0.47693 | train_mse: 0.39406 | train_mae: 0.43804 |  0:00:02s\n"
     ]
    },
    {
     "name": "stdout",
     "output_type": "stream",
     "text": [
      "epoch 6  | loss: 0.45866 | train_mse: 0.34288 | train_mae: 0.41187 |  0:00:02s\n"
     ]
    },
    {
     "name": "stdout",
     "output_type": "stream",
     "text": [
      "epoch 7  | loss: 0.34465 | train_mse: 0.32143 | train_mae: 0.38527 |  0:00:03s\n"
     ]
    },
    {
     "name": "stdout",
     "output_type": "stream",
     "text": [
      "epoch 8  | loss: 0.36157 | train_mse: 0.26825 | train_mae: 0.36847 |  0:00:03s\n"
     ]
    },
    {
     "name": "stdout",
     "output_type": "stream",
     "text": [
      "epoch 9  | loss: 0.3172  | train_mse: 0.25855 | train_mae: 0.36248 |  0:00:04s\n"
     ]
    },
    {
     "name": "stdout",
     "output_type": "stream",
     "text": [
      "epoch 10 | loss: 0.28192 | train_mse: 0.34217 | train_mae: 0.36367 |  0:00:04s\n"
     ]
    },
    {
     "name": "stdout",
     "output_type": "stream",
     "text": [
      "epoch 11 | loss: 0.31022 | train_mse: 0.25324 | train_mae: 0.37643 |  0:00:04s\n"
     ]
    },
    {
     "name": "stdout",
     "output_type": "stream",
     "text": [
      "epoch 12 | loss: 0.27374 | train_mse: 0.2675  | train_mae: 0.36202 |  0:00:05s\n"
     ]
    },
    {
     "name": "stdout",
     "output_type": "stream",
     "text": [
      "epoch 13 | loss: 0.27808 | train_mse: 0.32332 | train_mae: 0.36424 |  0:00:05s\n"
     ]
    },
    {
     "name": "stdout",
     "output_type": "stream",
     "text": [
      "epoch 14 | loss: 0.23706 | train_mse: 0.16925 | train_mae: 0.29223 |  0:00:05s\n"
     ]
    },
    {
     "name": "stdout",
     "output_type": "stream",
     "text": [
      "epoch 15 | loss: 0.23528 | train_mse: 0.16574 | train_mae: 0.29414 |  0:00:06s\n"
     ]
    },
    {
     "name": "stdout",
     "output_type": "stream",
     "text": [
      "epoch 16 | loss: 0.28136 | train_mse: 0.15349 | train_mae: 0.27868 |  0:00:06s\n"
     ]
    },
    {
     "name": "stdout",
     "output_type": "stream",
     "text": [
      "epoch 17 | loss: 0.23186 | train_mse: 0.19848 | train_mae: 0.30986 |  0:00:07s\n"
     ]
    },
    {
     "name": "stdout",
     "output_type": "stream",
     "text": [
      "epoch 18 | loss: 0.2355  | train_mse: 0.15908 | train_mae: 0.28247 |  0:00:07s\n"
     ]
    },
    {
     "name": "stdout",
     "output_type": "stream",
     "text": [
      "epoch 19 | loss: 0.23102 | train_mse: 0.1515  | train_mae: 0.26858 |  0:00:07s\n"
     ]
    },
    {
     "name": "stdout",
     "output_type": "stream",
     "text": [
      "epoch 20 | loss: 0.21531 | train_mse: 0.14805 | train_mae: 0.26828 |  0:00:08s\n"
     ]
    },
    {
     "name": "stdout",
     "output_type": "stream",
     "text": [
      "epoch 21 | loss: 0.24198 | train_mse: 0.15551 | train_mae: 0.27818 |  0:00:08s\n"
     ]
    },
    {
     "name": "stdout",
     "output_type": "stream",
     "text": [
      "epoch 22 | loss: 0.23617 | train_mse: 0.15607 | train_mae: 0.28383 |  0:00:08s\n"
     ]
    },
    {
     "name": "stdout",
     "output_type": "stream",
     "text": [
      "epoch 23 | loss: 0.21384 | train_mse: 0.14885 | train_mae: 0.27545 |  0:00:09s\n"
     ]
    },
    {
     "name": "stdout",
     "output_type": "stream",
     "text": [
      "epoch 24 | loss: 0.23379 | train_mse: 0.18187 | train_mae: 0.28231 |  0:00:10s\n"
     ]
    },
    {
     "name": "stdout",
     "output_type": "stream",
     "text": [
      "epoch 25 | loss: 0.21776 | train_mse: 0.15235 | train_mae: 0.27417 |  0:00:11s\n"
     ]
    },
    {
     "name": "stdout",
     "output_type": "stream",
     "text": [
      "epoch 26 | loss: 0.22779 | train_mse: 0.14145 | train_mae: 0.26985 |  0:00:11s\n"
     ]
    },
    {
     "name": "stdout",
     "output_type": "stream",
     "text": [
      "epoch 27 | loss: 0.20772 | train_mse: 0.13456 | train_mae: 0.26214 |  0:00:11s\n"
     ]
    },
    {
     "name": "stdout",
     "output_type": "stream",
     "text": [
      "epoch 28 | loss: 0.16549 | train_mse: 0.14764 | train_mae: 0.27058 |  0:00:12s\n"
     ]
    },
    {
     "name": "stdout",
     "output_type": "stream",
     "text": [
      "epoch 29 | loss: 0.19293 | train_mse: 0.12301 | train_mae: 0.2537  |  0:00:12s\n"
     ]
    },
    {
     "name": "stdout",
     "output_type": "stream",
     "text": [
      "epoch 30 | loss: 0.2128  | train_mse: 0.14666 | train_mae: 0.26717 |  0:00:12s\n"
     ]
    },
    {
     "name": "stdout",
     "output_type": "stream",
     "text": [
      "epoch 31 | loss: 0.19284 | train_mse: 0.1233  | train_mae: 0.26093 |  0:00:13s\n"
     ]
    },
    {
     "name": "stdout",
     "output_type": "stream",
     "text": [
      "epoch 32 | loss: 0.1463  | train_mse: 0.10833 | train_mae: 0.24562 |  0:00:13s\n"
     ]
    },
    {
     "name": "stdout",
     "output_type": "stream",
     "text": [
      "epoch 33 | loss: 0.22413 | train_mse: 0.1584  | train_mae: 0.2751  |  0:00:14s\n"
     ]
    },
    {
     "name": "stdout",
     "output_type": "stream",
     "text": [
      "epoch 34 | loss: 0.19584 | train_mse: 0.13055 | train_mae: 0.24717 |  0:00:14s\n"
     ]
    },
    {
     "name": "stdout",
     "output_type": "stream",
     "text": [
      "epoch 35 | loss: 0.16124 | train_mse: 0.11236 | train_mae: 0.24026 |  0:00:14s\n"
     ]
    },
    {
     "name": "stdout",
     "output_type": "stream",
     "text": [
      "epoch 36 | loss: 0.1837  | train_mse: 0.11787 | train_mae: 0.23955 |  0:00:15s\n"
     ]
    },
    {
     "name": "stdout",
     "output_type": "stream",
     "text": [
      "epoch 37 | loss: 0.2047  | train_mse: 0.12781 | train_mae: 0.25178 |  0:00:15s\n"
     ]
    },
    {
     "name": "stdout",
     "output_type": "stream",
     "text": [
      "epoch 38 | loss: 0.20761 | train_mse: 0.11326 | train_mae: 0.23869 |  0:00:16s\n"
     ]
    },
    {
     "name": "stdout",
     "output_type": "stream",
     "text": [
      "epoch 39 | loss: 0.18674 | train_mse: 0.11307 | train_mae: 0.23492 |  0:00:16s\n"
     ]
    },
    {
     "name": "stdout",
     "output_type": "stream",
     "text": [
      "epoch 40 | loss: 0.20955 | train_mse: 0.12406 | train_mae: 0.24995 |  0:00:16s\n"
     ]
    },
    {
     "name": "stdout",
     "output_type": "stream",
     "text": [
      "epoch 41 | loss: 0.15066 | train_mse: 0.12556 | train_mae: 0.24478 |  0:00:17s\n"
     ]
    },
    {
     "name": "stdout",
     "output_type": "stream",
     "text": [
      "epoch 42 | loss: 0.16487 | train_mse: 0.14863 | train_mae: 0.25952 |  0:00:17s\n"
     ]
    },
    {
     "name": "stdout",
     "output_type": "stream",
     "text": [
      "epoch 43 | loss: 0.19985 | train_mse: 0.13113 | train_mae: 0.25748 |  0:00:17s\n"
     ]
    },
    {
     "name": "stdout",
     "output_type": "stream",
     "text": [
      "epoch 44 | loss: 0.15085 | train_mse: 0.13618 | train_mae: 0.26103 |  0:00:18s\n"
     ]
    },
    {
     "name": "stdout",
     "output_type": "stream",
     "text": [
      "epoch 45 | loss: 0.227   | train_mse: 0.12781 | train_mae: 0.25509 |  0:00:18s\n"
     ]
    },
    {
     "name": "stdout",
     "output_type": "stream",
     "text": [
      "epoch 46 | loss: 0.18658 | train_mse: 0.10668 | train_mae: 0.23472 |  0:00:19s\n"
     ]
    },
    {
     "name": "stdout",
     "output_type": "stream",
     "text": [
      "epoch 47 | loss: 0.1615  | train_mse: 0.10179 | train_mae: 0.23332 |  0:00:19s\n"
     ]
    },
    {
     "name": "stdout",
     "output_type": "stream",
     "text": [
      "epoch 48 | loss: 0.15828 | train_mse: 0.111   | train_mae: 0.23369 |  0:00:19s\n"
     ]
    },
    {
     "name": "stdout",
     "output_type": "stream",
     "text": [
      "epoch 49 | loss: 0.21443 | train_mse: 0.13107 | train_mae: 0.25847 |  0:00:20s\n"
     ]
    },
    {
     "name": "stdout",
     "output_type": "stream",
     "text": [
      "epoch 50 | loss: 0.1616  | train_mse: 0.10723 | train_mae: 0.2388  |  0:00:20s\n"
     ]
    },
    {
     "name": "stdout",
     "output_type": "stream",
     "text": [
      "epoch 51 | loss: 0.24658 | train_mse: 0.11541 | train_mae: 0.24195 |  0:00:20s\n"
     ]
    },
    {
     "name": "stdout",
     "output_type": "stream",
     "text": [
      "epoch 52 | loss: 0.18317 | train_mse: 0.11384 | train_mae: 0.24527 |  0:00:21s\n"
     ]
    },
    {
     "name": "stdout",
     "output_type": "stream",
     "text": [
      "epoch 53 | loss: 0.19709 | train_mse: 0.11596 | train_mae: 0.24574 |  0:00:21s\n"
     ]
    },
    {
     "name": "stdout",
     "output_type": "stream",
     "text": [
      "epoch 54 | loss: 0.15366 | train_mse: 0.10769 | train_mae: 0.22979 |  0:00:22s\n"
     ]
    },
    {
     "name": "stdout",
     "output_type": "stream",
     "text": [
      "epoch 55 | loss: 0.14719 | train_mse: 0.09444 | train_mae: 0.22608 |  0:00:22s\n"
     ]
    },
    {
     "name": "stdout",
     "output_type": "stream",
     "text": [
      "epoch 56 | loss: 0.13006 | train_mse: 0.0902  | train_mae: 0.22373 |  0:00:22s\n"
     ]
    },
    {
     "name": "stdout",
     "output_type": "stream",
     "text": [
      "epoch 57 | loss: 0.14426 | train_mse: 0.104   | train_mae: 0.23176 |  0:00:23s\n"
     ]
    },
    {
     "name": "stdout",
     "output_type": "stream",
     "text": [
      "epoch 58 | loss: 0.16015 | train_mse: 0.09362 | train_mae: 0.22923 |  0:00:23s\n"
     ]
    },
    {
     "name": "stdout",
     "output_type": "stream",
     "text": [
      "epoch 59 | loss: 0.1695  | train_mse: 0.09239 | train_mae: 0.22512 |  0:00:23s\n"
     ]
    },
    {
     "name": "stdout",
     "output_type": "stream",
     "text": [
      "epoch 60 | loss: 0.17196 | train_mse: 0.088   | train_mae: 0.22523 |  0:00:24s\n"
     ]
    },
    {
     "name": "stdout",
     "output_type": "stream",
     "text": [
      "epoch 61 | loss: 0.15917 | train_mse: 0.08995 | train_mae: 0.2271  |  0:00:24s\n"
     ]
    },
    {
     "name": "stdout",
     "output_type": "stream",
     "text": [
      "epoch 62 | loss: 0.15589 | train_mse: 0.09442 | train_mae: 0.23156 |  0:00:25s\n"
     ]
    },
    {
     "name": "stdout",
     "output_type": "stream",
     "text": [
      "epoch 63 | loss: 0.19925 | train_mse: 0.10314 | train_mae: 0.24227 |  0:00:25s\n"
     ]
    },
    {
     "name": "stdout",
     "output_type": "stream",
     "text": [
      "epoch 64 | loss: 0.1537  | train_mse: 0.09282 | train_mae: 0.22874 |  0:00:25s\n"
     ]
    },
    {
     "name": "stdout",
     "output_type": "stream",
     "text": [
      "epoch 65 | loss: 0.12737 | train_mse: 0.08887 | train_mae: 0.22062 |  0:00:26s\n"
     ]
    },
    {
     "name": "stdout",
     "output_type": "stream",
     "text": [
      "epoch 66 | loss: 0.15989 | train_mse: 0.10205 | train_mae: 0.23245 |  0:00:26s\n"
     ]
    },
    {
     "name": "stdout",
     "output_type": "stream",
     "text": [
      "epoch 67 | loss: 0.16997 | train_mse: 0.09145 | train_mae: 0.22277 |  0:00:26s\n"
     ]
    },
    {
     "name": "stdout",
     "output_type": "stream",
     "text": [
      "epoch 68 | loss: 0.20992 | train_mse: 0.08695 | train_mae: 0.21348 |  0:00:27s\n"
     ]
    },
    {
     "name": "stdout",
     "output_type": "stream",
     "text": [
      "epoch 69 | loss: 0.11072 | train_mse: 0.09564 | train_mae: 0.23029 |  0:00:27s\n"
     ]
    },
    {
     "name": "stdout",
     "output_type": "stream",
     "text": [
      "epoch 70 | loss: 0.13838 | train_mse: 0.09398 | train_mae: 0.22236 |  0:00:28s\n"
     ]
    },
    {
     "name": "stdout",
     "output_type": "stream",
     "text": [
      "epoch 71 | loss: 0.14252 | train_mse: 0.09143 | train_mae: 0.22573 |  0:00:28s\n"
     ]
    },
    {
     "name": "stdout",
     "output_type": "stream",
     "text": [
      "epoch 72 | loss: 0.15754 | train_mse: 0.09496 | train_mae: 0.23073 |  0:00:28s\n"
     ]
    },
    {
     "name": "stdout",
     "output_type": "stream",
     "text": [
      "epoch 73 | loss: 0.13715 | train_mse: 0.08059 | train_mae: 0.21447 |  0:00:29s\n"
     ]
    },
    {
     "name": "stdout",
     "output_type": "stream",
     "text": [
      "epoch 74 | loss: 0.12773 | train_mse: 0.07544 | train_mae: 0.20187 |  0:00:29s\n"
     ]
    },
    {
     "name": "stdout",
     "output_type": "stream",
     "text": [
      "epoch 75 | loss: 0.1415  | train_mse: 0.08443 | train_mae: 0.22077 |  0:00:29s\n"
     ]
    },
    {
     "name": "stdout",
     "output_type": "stream",
     "text": [
      "epoch 76 | loss: 0.13204 | train_mse: 0.08324 | train_mae: 0.21421 |  0:00:30s\n"
     ]
    },
    {
     "name": "stdout",
     "output_type": "stream",
     "text": [
      "epoch 77 | loss: 0.13291 | train_mse: 0.08357 | train_mae: 0.21569 |  0:00:30s\n"
     ]
    },
    {
     "name": "stdout",
     "output_type": "stream",
     "text": [
      "epoch 78 | loss: 0.14959 | train_mse: 0.08373 | train_mae: 0.21637 |  0:00:30s\n"
     ]
    },
    {
     "name": "stdout",
     "output_type": "stream",
     "text": [
      "epoch 79 | loss: 0.15927 | train_mse: 0.09564 | train_mae: 0.21922 |  0:00:31s\n"
     ]
    },
    {
     "name": "stdout",
     "output_type": "stream",
     "text": [
      "epoch 80 | loss: 0.14031 | train_mse: 0.09132 | train_mae: 0.22764 |  0:00:31s\n"
     ]
    },
    {
     "name": "stdout",
     "output_type": "stream",
     "text": [
      "epoch 81 | loss: 0.12352 | train_mse: 0.08861 | train_mae: 0.22004 |  0:00:32s\n"
     ]
    },
    {
     "name": "stdout",
     "output_type": "stream",
     "text": [
      "epoch 82 | loss: 0.14631 | train_mse: 0.07894 | train_mae: 0.20988 |  0:00:32s\n"
     ]
    },
    {
     "name": "stdout",
     "output_type": "stream",
     "text": [
      "epoch 83 | loss: 0.16628 | train_mse: 0.07974 | train_mae: 0.21104 |  0:00:32s\n"
     ]
    },
    {
     "name": "stdout",
     "output_type": "stream",
     "text": [
      "epoch 84 | loss: 0.17936 | train_mse: 0.07635 | train_mae: 0.20975 |  0:00:33s\n"
     ]
    },
    {
     "name": "stdout",
     "output_type": "stream",
     "text": [
      "epoch 85 | loss: 0.16745 | train_mse: 0.08758 | train_mae: 0.22011 |  0:00:33s\n"
     ]
    },
    {
     "name": "stdout",
     "output_type": "stream",
     "text": [
      "epoch 86 | loss: 0.16445 | train_mse: 0.06889 | train_mae: 0.19646 |  0:00:33s\n"
     ]
    },
    {
     "name": "stdout",
     "output_type": "stream",
     "text": [
      "epoch 87 | loss: 0.13377 | train_mse: 0.08379 | train_mae: 0.21852 |  0:00:34s\n"
     ]
    },
    {
     "name": "stdout",
     "output_type": "stream",
     "text": [
      "epoch 88 | loss: 0.13671 | train_mse: 0.07227 | train_mae: 0.20434 |  0:00:34s\n"
     ]
    },
    {
     "name": "stdout",
     "output_type": "stream",
     "text": [
      "epoch 89 | loss: 0.15605 | train_mse: 0.10149 | train_mae: 0.22995 |  0:00:35s\n"
     ]
    },
    {
     "name": "stdout",
     "output_type": "stream",
     "text": [
      "epoch 90 | loss: 0.10087 | train_mse: 0.09269 | train_mae: 0.21612 |  0:00:35s\n"
     ]
    },
    {
     "name": "stdout",
     "output_type": "stream",
     "text": [
      "epoch 91 | loss: 0.11763 | train_mse: 0.07789 | train_mae: 0.19718 |  0:00:35s\n"
     ]
    },
    {
     "name": "stdout",
     "output_type": "stream",
     "text": [
      "epoch 92 | loss: 0.16581 | train_mse: 0.07559 | train_mae: 0.20286 |  0:00:36s\n"
     ]
    },
    {
     "name": "stdout",
     "output_type": "stream",
     "text": [
      "epoch 93 | loss: 0.14494 | train_mse: 0.07867 | train_mae: 0.20542 |  0:00:36s\n"
     ]
    },
    {
     "name": "stdout",
     "output_type": "stream",
     "text": [
      "epoch 94 | loss: 0.13593 | train_mse: 0.06694 | train_mae: 0.19119 |  0:00:36s\n"
     ]
    },
    {
     "name": "stdout",
     "output_type": "stream",
     "text": [
      "epoch 95 | loss: 0.15232 | train_mse: 0.07542 | train_mae: 0.20678 |  0:00:37s\n"
     ]
    },
    {
     "name": "stdout",
     "output_type": "stream",
     "text": [
      "epoch 96 | loss: 0.14039 | train_mse: 0.06973 | train_mae: 0.19665 |  0:00:37s\n"
     ]
    },
    {
     "name": "stdout",
     "output_type": "stream",
     "text": [
      "epoch 97 | loss: 0.1579  | train_mse: 0.08382 | train_mae: 0.21431 |  0:00:38s\n"
     ]
    },
    {
     "name": "stdout",
     "output_type": "stream",
     "text": [
      "epoch 98 | loss: 0.12393 | train_mse: 0.0699  | train_mae: 0.1966  |  0:00:38s\n"
     ]
    },
    {
     "name": "stdout",
     "output_type": "stream",
     "text": [
      "epoch 99 | loss: 0.1216  | train_mse: 0.07182 | train_mae: 0.19695 |  0:00:38s\n"
     ]
    },
    {
     "name": "stdout",
     "output_type": "stream",
     "text": [
      "epoch 100| loss: 0.09513 | train_mse: 0.07379 | train_mae: 0.19952 |  0:00:39s\n"
     ]
    },
    {
     "name": "stdout",
     "output_type": "stream",
     "text": [
      "epoch 101| loss: 0.13149 | train_mse: 0.08068 | train_mae: 0.20862 |  0:00:39s\n"
     ]
    },
    {
     "name": "stdout",
     "output_type": "stream",
     "text": [
      "epoch 102| loss: 0.15131 | train_mse: 0.09347 | train_mae: 0.22318 |  0:00:39s\n"
     ]
    },
    {
     "name": "stdout",
     "output_type": "stream",
     "text": [
      "epoch 103| loss: 0.09619 | train_mse: 0.06479 | train_mae: 0.189   |  0:00:40s\n"
     ]
    },
    {
     "name": "stdout",
     "output_type": "stream",
     "text": [
      "epoch 104| loss: 0.14598 | train_mse: 0.07857 | train_mae: 0.21024 |  0:00:40s\n"
     ]
    },
    {
     "name": "stdout",
     "output_type": "stream",
     "text": [
      "epoch 105| loss: 0.13274 | train_mse: 0.07474 | train_mae: 0.20029 |  0:00:40s\n"
     ]
    },
    {
     "name": "stdout",
     "output_type": "stream",
     "text": [
      "epoch 106| loss: 0.11642 | train_mse: 0.0697  | train_mae: 0.19391 |  0:00:41s\n"
     ]
    },
    {
     "name": "stdout",
     "output_type": "stream",
     "text": [
      "epoch 107| loss: 0.16338 | train_mse: 0.07119 | train_mae: 0.19864 |  0:00:41s\n"
     ]
    },
    {
     "name": "stdout",
     "output_type": "stream",
     "text": [
      "epoch 108| loss: 0.09744 | train_mse: 0.0692  | train_mae: 0.19939 |  0:00:42s\n"
     ]
    },
    {
     "name": "stdout",
     "output_type": "stream",
     "text": [
      "epoch 109| loss: 0.11957 | train_mse: 0.0709  | train_mae: 0.19665 |  0:00:42s\n"
     ]
    },
    {
     "name": "stdout",
     "output_type": "stream",
     "text": [
      "epoch 110| loss: 0.13758 | train_mse: 0.06716 | train_mae: 0.18635 |  0:00:42s\n"
     ]
    },
    {
     "name": "stdout",
     "output_type": "stream",
     "text": [
      "epoch 111| loss: 0.11728 | train_mse: 0.06446 | train_mae: 0.18604 |  0:00:43s\n"
     ]
    },
    {
     "name": "stdout",
     "output_type": "stream",
     "text": [
      "epoch 112| loss: 0.12813 | train_mse: 0.07072 | train_mae: 0.19381 |  0:00:43s\n"
     ]
    },
    {
     "name": "stdout",
     "output_type": "stream",
     "text": [
      "epoch 113| loss: 0.11808 | train_mse: 0.06868 | train_mae: 0.19156 |  0:00:43s\n"
     ]
    },
    {
     "name": "stdout",
     "output_type": "stream",
     "text": [
      "epoch 114| loss: 0.12812 | train_mse: 0.07453 | train_mae: 0.1969  |  0:00:44s\n"
     ]
    },
    {
     "name": "stdout",
     "output_type": "stream",
     "text": [
      "epoch 115| loss: 0.1101  | train_mse: 0.07706 | train_mae: 0.19852 |  0:00:44s\n"
     ]
    },
    {
     "name": "stdout",
     "output_type": "stream",
     "text": [
      "epoch 116| loss: 0.14966 | train_mse: 0.07783 | train_mae: 0.1989  |  0:00:45s\n"
     ]
    },
    {
     "name": "stdout",
     "output_type": "stream",
     "text": [
      "epoch 117| loss: 0.12554 | train_mse: 0.07585 | train_mae: 0.20314 |  0:00:45s\n"
     ]
    },
    {
     "name": "stdout",
     "output_type": "stream",
     "text": [
      "epoch 118| loss: 0.10853 | train_mse: 0.06452 | train_mae: 0.18845 |  0:00:45s\n"
     ]
    },
    {
     "name": "stdout",
     "output_type": "stream",
     "text": [
      "epoch 119| loss: 0.12488 | train_mse: 0.06161 | train_mae: 0.18371 |  0:00:46s\n"
     ]
    },
    {
     "name": "stdout",
     "output_type": "stream",
     "text": [
      "epoch 120| loss: 0.11591 | train_mse: 0.07295 | train_mae: 0.20024 |  0:00:46s\n"
     ]
    },
    {
     "name": "stdout",
     "output_type": "stream",
     "text": [
      "epoch 121| loss: 0.10295 | train_mse: 0.06189 | train_mae: 0.18134 |  0:00:46s\n"
     ]
    },
    {
     "name": "stdout",
     "output_type": "stream",
     "text": [
      "epoch 122| loss: 0.13677 | train_mse: 0.07994 | train_mae: 0.21176 |  0:00:47s\n"
     ]
    },
    {
     "name": "stdout",
     "output_type": "stream",
     "text": [
      "epoch 123| loss: 0.12989 | train_mse: 0.06556 | train_mae: 0.18858 |  0:00:47s\n"
     ]
    },
    {
     "name": "stdout",
     "output_type": "stream",
     "text": [
      "epoch 124| loss: 0.10807 | train_mse: 0.07182 | train_mae: 0.19508 |  0:00:48s\n"
     ]
    },
    {
     "name": "stdout",
     "output_type": "stream",
     "text": [
      "epoch 125| loss: 0.13987 | train_mse: 0.08183 | train_mae: 0.20755 |  0:00:48s\n"
     ]
    },
    {
     "name": "stdout",
     "output_type": "stream",
     "text": [
      "epoch 126| loss: 0.11499 | train_mse: 0.06599 | train_mae: 0.19304 |  0:00:48s\n"
     ]
    },
    {
     "name": "stdout",
     "output_type": "stream",
     "text": [
      "epoch 127| loss: 0.09901 | train_mse: 0.06158 | train_mae: 0.18231 |  0:00:49s\n"
     ]
    },
    {
     "name": "stdout",
     "output_type": "stream",
     "text": [
      "epoch 128| loss: 0.12177 | train_mse: 0.08774 | train_mae: 0.21596 |  0:00:49s\n"
     ]
    },
    {
     "name": "stdout",
     "output_type": "stream",
     "text": [
      "epoch 129| loss: 0.12056 | train_mse: 0.0654  | train_mae: 0.18891 |  0:00:49s\n"
     ]
    },
    {
     "name": "stdout",
     "output_type": "stream",
     "text": [
      "epoch 130| loss: 0.10177 | train_mse: 0.07381 | train_mae: 0.20143 |  0:00:50s\n"
     ]
    },
    {
     "name": "stdout",
     "output_type": "stream",
     "text": [
      "epoch 131| loss: 0.1229  | train_mse: 0.06026 | train_mae: 0.17965 |  0:00:50s\n"
     ]
    },
    {
     "name": "stdout",
     "output_type": "stream",
     "text": [
      "epoch 132| loss: 0.14329 | train_mse: 0.07025 | train_mae: 0.19895 |  0:00:51s\n"
     ]
    },
    {
     "name": "stdout",
     "output_type": "stream",
     "text": [
      "epoch 133| loss: 0.11205 | train_mse: 0.06259 | train_mae: 0.18617 |  0:00:51s\n"
     ]
    },
    {
     "name": "stdout",
     "output_type": "stream",
     "text": [
      "epoch 134| loss: 0.12477 | train_mse: 0.07096 | train_mae: 0.2019  |  0:00:51s\n"
     ]
    },
    {
     "name": "stdout",
     "output_type": "stream",
     "text": [
      "epoch 135| loss: 0.10492 | train_mse: 0.06458 | train_mae: 0.19292 |  0:00:52s\n"
     ]
    },
    {
     "name": "stdout",
     "output_type": "stream",
     "text": [
      "epoch 136| loss: 0.10435 | train_mse: 0.06046 | train_mae: 0.18326 |  0:00:52s\n"
     ]
    },
    {
     "name": "stdout",
     "output_type": "stream",
     "text": [
      "epoch 137| loss: 0.1053  | train_mse: 0.07538 | train_mae: 0.20485 |  0:00:52s\n"
     ]
    },
    {
     "name": "stdout",
     "output_type": "stream",
     "text": [
      "epoch 138| loss: 0.1182  | train_mse: 0.06261 | train_mae: 0.18806 |  0:00:53s\n"
     ]
    },
    {
     "name": "stdout",
     "output_type": "stream",
     "text": [
      "epoch 139| loss: 0.12727 | train_mse: 0.06595 | train_mae: 0.19326 |  0:00:53s\n"
     ]
    },
    {
     "name": "stdout",
     "output_type": "stream",
     "text": [
      "epoch 140| loss: 0.14231 | train_mse: 0.06039 | train_mae: 0.18809 |  0:00:53s\n"
     ]
    },
    {
     "name": "stdout",
     "output_type": "stream",
     "text": [
      "epoch 141| loss: 0.11386 | train_mse: 0.05976 | train_mae: 0.18506 |  0:00:54s\n"
     ]
    },
    {
     "name": "stdout",
     "output_type": "stream",
     "text": [
      "epoch 142| loss: 0.11023 | train_mse: 0.05818 | train_mae: 0.17996 |  0:00:54s\n"
     ]
    },
    {
     "name": "stdout",
     "output_type": "stream",
     "text": [
      "epoch 143| loss: 0.12869 | train_mse: 0.07211 | train_mae: 0.20266 |  0:00:55s\n"
     ]
    },
    {
     "name": "stdout",
     "output_type": "stream",
     "text": [
      "epoch 144| loss: 0.11623 | train_mse: 0.05925 | train_mae: 0.18221 |  0:00:56s\n"
     ]
    },
    {
     "name": "stdout",
     "output_type": "stream",
     "text": [
      "epoch 145| loss: 0.12133 | train_mse: 0.0663  | train_mae: 0.19247 |  0:00:56s\n"
     ]
    },
    {
     "name": "stdout",
     "output_type": "stream",
     "text": [
      "epoch 146| loss: 0.11494 | train_mse: 0.06447 | train_mae: 0.19199 |  0:00:56s\n"
     ]
    },
    {
     "name": "stdout",
     "output_type": "stream",
     "text": [
      "epoch 147| loss: 0.11664 | train_mse: 0.06055 | train_mae: 0.18423 |  0:00:57s\n"
     ]
    },
    {
     "name": "stdout",
     "output_type": "stream",
     "text": [
      "epoch 148| loss: 0.11136 | train_mse: 0.07044 | train_mae: 0.19333 |  0:00:57s\n"
     ]
    },
    {
     "name": "stdout",
     "output_type": "stream",
     "text": [
      "epoch 149| loss: 0.10335 | train_mse: 0.06555 | train_mae: 0.19016 |  0:00:58s\n"
     ]
    },
    {
     "name": "stdout",
     "output_type": "stream",
     "text": [
      "epoch 150| loss: 0.13543 | train_mse: 0.0783  | train_mae: 0.2051  |  0:00:58s\n"
     ]
    },
    {
     "name": "stdout",
     "output_type": "stream",
     "text": [
      "epoch 151| loss: 0.11939 | train_mse: 0.06697 | train_mae: 0.19129 |  0:00:58s\n"
     ]
    },
    {
     "name": "stdout",
     "output_type": "stream",
     "text": [
      "epoch 152| loss: 0.11379 | train_mse: 0.08113 | train_mae: 0.21183 |  0:00:59s\n"
     ]
    },
    {
     "name": "stdout",
     "output_type": "stream",
     "text": [
      "epoch 153| loss: 0.11982 | train_mse: 0.10961 | train_mae: 0.23708 |  0:00:59s\n"
     ]
    },
    {
     "name": "stdout",
     "output_type": "stream",
     "text": [
      "epoch 154| loss: 0.13746 | train_mse: 0.08068 | train_mae: 0.20675 |  0:01:00s\n"
     ]
    },
    {
     "name": "stdout",
     "output_type": "stream",
     "text": [
      "epoch 155| loss: 0.13063 | train_mse: 0.06915 | train_mae: 0.19489 |  0:01:00s\n"
     ]
    },
    {
     "name": "stdout",
     "output_type": "stream",
     "text": [
      "epoch 156| loss: 0.13225 | train_mse: 0.06559 | train_mae: 0.1917  |  0:01:01s\n"
     ]
    },
    {
     "name": "stdout",
     "output_type": "stream",
     "text": [
      "epoch 157| loss: 0.13682 | train_mse: 0.07538 | train_mae: 0.2047  |  0:01:01s\n"
     ]
    },
    {
     "name": "stdout",
     "output_type": "stream",
     "text": [
      "epoch 158| loss: 0.14945 | train_mse: 0.07406 | train_mae: 0.19818 |  0:01:01s\n"
     ]
    },
    {
     "name": "stdout",
     "output_type": "stream",
     "text": [
      "epoch 159| loss: 0.10869 | train_mse: 0.09118 | train_mae: 0.2212  |  0:01:02s\n"
     ]
    },
    {
     "name": "stdout",
     "output_type": "stream",
     "text": [
      "epoch 160| loss: 0.12131 | train_mse: 0.06373 | train_mae: 0.18624 |  0:01:02s\n"
     ]
    },
    {
     "name": "stdout",
     "output_type": "stream",
     "text": [
      "epoch 161| loss: 0.10181 | train_mse: 0.06036 | train_mae: 0.18198 |  0:01:02s\n"
     ]
    },
    {
     "name": "stdout",
     "output_type": "stream",
     "text": [
      "epoch 162| loss: 0.10236 | train_mse: 0.05975 | train_mae: 0.18003 |  0:01:03s\n"
     ]
    },
    {
     "name": "stdout",
     "output_type": "stream",
     "text": [
      "epoch 163| loss: 0.12985 | train_mse: 0.0655  | train_mae: 0.18882 |  0:01:03s\n"
     ]
    },
    {
     "name": "stdout",
     "output_type": "stream",
     "text": [
      "epoch 164| loss: 0.11648 | train_mse: 0.06732 | train_mae: 0.19098 |  0:01:03s\n"
     ]
    },
    {
     "name": "stdout",
     "output_type": "stream",
     "text": [
      "epoch 165| loss: 0.12951 | train_mse: 0.06038 | train_mae: 0.18363 |  0:01:04s\n"
     ]
    },
    {
     "name": "stdout",
     "output_type": "stream",
     "text": [
      "epoch 166| loss: 0.11019 | train_mse: 0.06134 | train_mae: 0.18657 |  0:01:04s\n"
     ]
    },
    {
     "name": "stdout",
     "output_type": "stream",
     "text": [
      "epoch 167| loss: 0.11046 | train_mse: 0.0683  | train_mae: 0.19057 |  0:01:05s\n"
     ]
    },
    {
     "name": "stdout",
     "output_type": "stream",
     "text": [
      "epoch 168| loss: 0.11268 | train_mse: 0.06915 | train_mae: 0.19283 |  0:01:05s\n"
     ]
    },
    {
     "name": "stdout",
     "output_type": "stream",
     "text": [
      "epoch 169| loss: 0.13781 | train_mse: 0.09482 | train_mae: 0.22028 |  0:01:05s\n"
     ]
    },
    {
     "name": "stdout",
     "output_type": "stream",
     "text": [
      "epoch 170| loss: 0.14366 | train_mse: 0.08046 | train_mae: 0.21129 |  0:01:06s\n"
     ]
    },
    {
     "name": "stdout",
     "output_type": "stream",
     "text": [
      "epoch 171| loss: 0.09954 | train_mse: 0.07504 | train_mae: 0.20045 |  0:01:06s\n"
     ]
    },
    {
     "name": "stdout",
     "output_type": "stream",
     "text": [
      "epoch 172| loss: 0.10053 | train_mse: 0.06361 | train_mae: 0.18715 |  0:01:06s\n"
     ]
    },
    {
     "name": "stdout",
     "output_type": "stream",
     "text": [
      "epoch 173| loss: 0.09757 | train_mse: 0.08673 | train_mae: 0.21527 |  0:01:07s\n"
     ]
    },
    {
     "name": "stdout",
     "output_type": "stream",
     "text": [
      "epoch 174| loss: 0.12341 | train_mse: 0.0571  | train_mae: 0.17601 |  0:01:07s\n"
     ]
    },
    {
     "name": "stdout",
     "output_type": "stream",
     "text": [
      "epoch 175| loss: 0.10095 | train_mse: 0.07095 | train_mae: 0.19661 |  0:01:08s\n"
     ]
    },
    {
     "name": "stdout",
     "output_type": "stream",
     "text": [
      "epoch 176| loss: 0.11427 | train_mse: 0.06035 | train_mae: 0.18448 |  0:01:08s\n"
     ]
    },
    {
     "name": "stdout",
     "output_type": "stream",
     "text": [
      "epoch 177| loss: 0.10713 | train_mse: 0.05948 | train_mae: 0.17885 |  0:01:08s\n"
     ]
    },
    {
     "name": "stdout",
     "output_type": "stream",
     "text": [
      "epoch 178| loss: 0.11488 | train_mse: 0.06651 | train_mae: 0.19332 |  0:01:09s\n"
     ]
    },
    {
     "name": "stdout",
     "output_type": "stream",
     "text": [
      "epoch 179| loss: 0.13068 | train_mse: 0.07572 | train_mae: 0.20723 |  0:01:09s\n"
     ]
    },
    {
     "name": "stdout",
     "output_type": "stream",
     "text": [
      "epoch 180| loss: 0.10666 | train_mse: 0.06175 | train_mae: 0.18761 |  0:01:09s\n"
     ]
    },
    {
     "name": "stdout",
     "output_type": "stream",
     "text": [
      "epoch 181| loss: 0.11093 | train_mse: 0.06523 | train_mae: 0.18787 |  0:01:10s\n"
     ]
    },
    {
     "name": "stdout",
     "output_type": "stream",
     "text": [
      "epoch 182| loss: 0.08919 | train_mse: 0.05982 | train_mae: 0.1734  |  0:01:10s\n"
     ]
    },
    {
     "name": "stdout",
     "output_type": "stream",
     "text": [
      "epoch 183| loss: 0.10751 | train_mse: 0.05819 | train_mae: 0.1788  |  0:01:10s\n"
     ]
    },
    {
     "name": "stdout",
     "output_type": "stream",
     "text": [
      "epoch 184| loss: 0.12705 | train_mse: 0.07145 | train_mae: 0.198   |  0:01:11s\n"
     ]
    },
    {
     "name": "stdout",
     "output_type": "stream",
     "text": [
      "epoch 185| loss: 0.13955 | train_mse: 0.07371 | train_mae: 0.19942 |  0:01:11s\n"
     ]
    },
    {
     "name": "stdout",
     "output_type": "stream",
     "text": [
      "epoch 186| loss: 0.11049 | train_mse: 0.10237 | train_mae: 0.23471 |  0:01:12s\n"
     ]
    },
    {
     "name": "stdout",
     "output_type": "stream",
     "text": [
      "epoch 187| loss: 0.10674 | train_mse: 0.07262 | train_mae: 0.20491 |  0:01:12s\n"
     ]
    },
    {
     "name": "stdout",
     "output_type": "stream",
     "text": [
      "epoch 188| loss: 0.10727 | train_mse: 0.06484 | train_mae: 0.18766 |  0:01:12s\n"
     ]
    },
    {
     "name": "stdout",
     "output_type": "stream",
     "text": [
      "epoch 189| loss: 0.0988  | train_mse: 0.06499 | train_mae: 0.19245 |  0:01:13s\n"
     ]
    },
    {
     "name": "stdout",
     "output_type": "stream",
     "text": [
      "epoch 190| loss: 0.08982 | train_mse: 0.05484 | train_mae: 0.17459 |  0:01:13s\n"
     ]
    },
    {
     "name": "stdout",
     "output_type": "stream",
     "text": [
      "epoch 191| loss: 0.10022 | train_mse: 0.05408 | train_mae: 0.17244 |  0:01:13s\n"
     ]
    },
    {
     "name": "stdout",
     "output_type": "stream",
     "text": [
      "epoch 192| loss: 0.15027 | train_mse: 0.06266 | train_mae: 0.18513 |  0:01:14s\n"
     ]
    },
    {
     "name": "stdout",
     "output_type": "stream",
     "text": [
      "epoch 193| loss: 0.08143 | train_mse: 0.05907 | train_mae: 0.18135 |  0:01:14s\n"
     ]
    },
    {
     "name": "stdout",
     "output_type": "stream",
     "text": [
      "epoch 194| loss: 0.0821  | train_mse: 0.0593  | train_mae: 0.18238 |  0:01:15s\n"
     ]
    },
    {
     "name": "stdout",
     "output_type": "stream",
     "text": [
      "epoch 195| loss: 0.08737 | train_mse: 0.05353 | train_mae: 0.17234 |  0:01:15s\n"
     ]
    },
    {
     "name": "stdout",
     "output_type": "stream",
     "text": [
      "epoch 196| loss: 0.11257 | train_mse: 0.0534  | train_mae: 0.17147 |  0:01:15s\n"
     ]
    },
    {
     "name": "stdout",
     "output_type": "stream",
     "text": [
      "epoch 197| loss: 0.09257 | train_mse: 0.06668 | train_mae: 0.19037 |  0:01:16s\n"
     ]
    },
    {
     "name": "stdout",
     "output_type": "stream",
     "text": [
      "epoch 198| loss: 0.11535 | train_mse: 0.06806 | train_mae: 0.19747 |  0:01:17s\n"
     ]
    },
    {
     "name": "stdout",
     "output_type": "stream",
     "text": [
      "epoch 199| loss: 0.10693 | train_mse: 0.05663 | train_mae: 0.18093 |  0:01:18s\n"
     ]
    },
    {
     "name": "stdout",
     "output_type": "stream",
     "text": [
      "epoch 200| loss: 0.08763 | train_mse: 0.06192 | train_mae: 0.17982 |  0:01:18s\n"
     ]
    },
    {
     "name": "stdout",
     "output_type": "stream",
     "text": [
      "epoch 201| loss: 0.1316  | train_mse: 0.07021 | train_mae: 0.19198 |  0:01:18s\n"
     ]
    },
    {
     "name": "stdout",
     "output_type": "stream",
     "text": [
      "epoch 202| loss: 0.11277 | train_mse: 0.07392 | train_mae: 0.2039  |  0:01:19s\n"
     ]
    },
    {
     "name": "stdout",
     "output_type": "stream",
     "text": [
      "epoch 203| loss: 0.11201 | train_mse: 0.08179 | train_mae: 0.21269 |  0:01:19s\n"
     ]
    },
    {
     "name": "stdout",
     "output_type": "stream",
     "text": [
      "epoch 204| loss: 0.10211 | train_mse: 0.07278 | train_mae: 0.19771 |  0:01:19s\n"
     ]
    },
    {
     "name": "stdout",
     "output_type": "stream",
     "text": [
      "epoch 205| loss: 0.10177 | train_mse: 0.06257 | train_mae: 0.18852 |  0:01:20s\n"
     ]
    },
    {
     "name": "stdout",
     "output_type": "stream",
     "text": [
      "epoch 206| loss: 0.1181  | train_mse: 0.06882 | train_mae: 0.19552 |  0:01:20s\n"
     ]
    },
    {
     "name": "stdout",
     "output_type": "stream",
     "text": [
      "epoch 207| loss: 0.10987 | train_mse: 0.0637  | train_mae: 0.18256 |  0:01:20s\n"
     ]
    },
    {
     "name": "stdout",
     "output_type": "stream",
     "text": [
      "epoch 208| loss: 0.10419 | train_mse: 0.05389 | train_mae: 0.17499 |  0:01:21s\n"
     ]
    },
    {
     "name": "stdout",
     "output_type": "stream",
     "text": [
      "epoch 209| loss: 0.0919  | train_mse: 0.053   | train_mae: 0.17354 |  0:01:21s\n"
     ]
    },
    {
     "name": "stdout",
     "output_type": "stream",
     "text": [
      "epoch 210| loss: 0.11025 | train_mse: 0.05782 | train_mae: 0.17831 |  0:01:22s\n"
     ]
    },
    {
     "name": "stdout",
     "output_type": "stream",
     "text": [
      "epoch 211| loss: 0.11126 | train_mse: 0.0532  | train_mae: 0.17372 |  0:01:22s\n"
     ]
    },
    {
     "name": "stdout",
     "output_type": "stream",
     "text": [
      "epoch 212| loss: 0.11861 | train_mse: 0.06391 | train_mae: 0.18818 |  0:01:22s\n"
     ]
    },
    {
     "name": "stdout",
     "output_type": "stream",
     "text": [
      "epoch 213| loss: 0.0837  | train_mse: 0.05094 | train_mae: 0.16731 |  0:01:23s\n"
     ]
    },
    {
     "name": "stdout",
     "output_type": "stream",
     "text": [
      "epoch 214| loss: 0.11435 | train_mse: 0.05513 | train_mae: 0.17491 |  0:01:23s\n"
     ]
    },
    {
     "name": "stdout",
     "output_type": "stream",
     "text": [
      "epoch 215| loss: 0.12974 | train_mse: 0.06418 | train_mae: 0.18776 |  0:01:23s\n"
     ]
    },
    {
     "name": "stdout",
     "output_type": "stream",
     "text": [
      "epoch 216| loss: 0.1327  | train_mse: 0.05678 | train_mae: 0.17909 |  0:01:24s\n"
     ]
    },
    {
     "name": "stdout",
     "output_type": "stream",
     "text": [
      "epoch 217| loss: 0.10127 | train_mse: 0.05745 | train_mae: 0.17688 |  0:01:24s\n"
     ]
    },
    {
     "name": "stdout",
     "output_type": "stream",
     "text": [
      "epoch 218| loss: 0.12541 | train_mse: 0.05341 | train_mae: 0.16572 |  0:01:25s\n"
     ]
    },
    {
     "name": "stdout",
     "output_type": "stream",
     "text": [
      "epoch 219| loss: 0.09569 | train_mse: 0.05924 | train_mae: 0.17697 |  0:01:25s\n"
     ]
    },
    {
     "name": "stdout",
     "output_type": "stream",
     "text": [
      "epoch 220| loss: 0.08968 | train_mse: 0.05484 | train_mae: 0.17275 |  0:01:25s\n"
     ]
    },
    {
     "name": "stdout",
     "output_type": "stream",
     "text": [
      "epoch 221| loss: 0.11402 | train_mse: 0.05295 | train_mae: 0.1691  |  0:01:26s\n"
     ]
    },
    {
     "name": "stdout",
     "output_type": "stream",
     "text": [
      "epoch 222| loss: 0.11525 | train_mse: 0.05275 | train_mae: 0.16824 |  0:01:26s\n"
     ]
    },
    {
     "name": "stdout",
     "output_type": "stream",
     "text": [
      "epoch 223| loss: 0.08503 | train_mse: 0.05159 | train_mae: 0.16723 |  0:01:26s\n"
     ]
    },
    {
     "name": "stdout",
     "output_type": "stream",
     "text": [
      "epoch 224| loss: 0.09979 | train_mse: 0.05023 | train_mae: 0.16744 |  0:01:27s\n"
     ]
    },
    {
     "name": "stdout",
     "output_type": "stream",
     "text": [
      "epoch 225| loss: 0.097   | train_mse: 0.04878 | train_mae: 0.16585 |  0:01:27s\n"
     ]
    },
    {
     "name": "stdout",
     "output_type": "stream",
     "text": [
      "epoch 226| loss: 0.11827 | train_mse: 0.04895 | train_mae: 0.16626 |  0:01:27s\n"
     ]
    },
    {
     "name": "stdout",
     "output_type": "stream",
     "text": [
      "epoch 227| loss: 0.09652 | train_mse: 0.0624  | train_mae: 0.18502 |  0:01:28s\n"
     ]
    },
    {
     "name": "stdout",
     "output_type": "stream",
     "text": [
      "epoch 228| loss: 0.14139 | train_mse: 0.05538 | train_mae: 0.17947 |  0:01:28s\n"
     ]
    },
    {
     "name": "stdout",
     "output_type": "stream",
     "text": [
      "epoch 229| loss: 0.08547 | train_mse: 0.06252 | train_mae: 0.18652 |  0:01:29s\n"
     ]
    },
    {
     "name": "stdout",
     "output_type": "stream",
     "text": [
      "epoch 230| loss: 0.08924 | train_mse: 0.05569 | train_mae: 0.17416 |  0:01:29s\n"
     ]
    },
    {
     "name": "stdout",
     "output_type": "stream",
     "text": [
      "epoch 231| loss: 0.07314 | train_mse: 0.04867 | train_mae: 0.16716 |  0:01:29s\n"
     ]
    },
    {
     "name": "stdout",
     "output_type": "stream",
     "text": [
      "epoch 232| loss: 0.08383 | train_mse: 0.05594 | train_mae: 0.17694 |  0:01:30s\n"
     ]
    },
    {
     "name": "stdout",
     "output_type": "stream",
     "text": [
      "epoch 233| loss: 0.08284 | train_mse: 0.06171 | train_mae: 0.18178 |  0:01:30s\n"
     ]
    },
    {
     "name": "stdout",
     "output_type": "stream",
     "text": [
      "epoch 234| loss: 0.0881  | train_mse: 0.05053 | train_mae: 0.16595 |  0:01:30s\n"
     ]
    },
    {
     "name": "stdout",
     "output_type": "stream",
     "text": [
      "epoch 235| loss: 0.08547 | train_mse: 0.06352 | train_mae: 0.1841  |  0:01:31s\n"
     ]
    },
    {
     "name": "stdout",
     "output_type": "stream",
     "text": [
      "epoch 236| loss: 0.07285 | train_mse: 0.05562 | train_mae: 0.17393 |  0:01:31s\n"
     ]
    },
    {
     "name": "stdout",
     "output_type": "stream",
     "text": [
      "epoch 237| loss: 0.08847 | train_mse: 0.06696 | train_mae: 0.1931  |  0:01:32s\n"
     ]
    },
    {
     "name": "stdout",
     "output_type": "stream",
     "text": [
      "epoch 238| loss: 0.09766 | train_mse: 0.05472 | train_mae: 0.17175 |  0:01:32s\n"
     ]
    },
    {
     "name": "stdout",
     "output_type": "stream",
     "text": [
      "epoch 239| loss: 0.09105 | train_mse: 0.05042 | train_mae: 0.16737 |  0:01:32s\n"
     ]
    },
    {
     "name": "stdout",
     "output_type": "stream",
     "text": [
      "epoch 240| loss: 0.09222 | train_mse: 0.04812 | train_mae: 0.16342 |  0:01:33s\n"
     ]
    },
    {
     "name": "stdout",
     "output_type": "stream",
     "text": [
      "epoch 241| loss: 0.11049 | train_mse: 0.06872 | train_mae: 0.19496 |  0:01:33s\n"
     ]
    },
    {
     "name": "stdout",
     "output_type": "stream",
     "text": [
      "epoch 242| loss: 0.093   | train_mse: 0.05478 | train_mae: 0.17101 |  0:01:33s\n"
     ]
    },
    {
     "name": "stdout",
     "output_type": "stream",
     "text": [
      "epoch 243| loss: 0.09519 | train_mse: 0.05383 | train_mae: 0.17298 |  0:01:34s\n"
     ]
    },
    {
     "name": "stdout",
     "output_type": "stream",
     "text": [
      "epoch 244| loss: 0.08846 | train_mse: 0.04993 | train_mae: 0.16955 |  0:01:34s\n"
     ]
    },
    {
     "name": "stdout",
     "output_type": "stream",
     "text": [
      "epoch 245| loss: 0.10414 | train_mse: 0.05585 | train_mae: 0.17783 |  0:01:34s\n"
     ]
    },
    {
     "name": "stdout",
     "output_type": "stream",
     "text": [
      "epoch 246| loss: 0.09214 | train_mse: 0.0517  | train_mae: 0.17174 |  0:01:35s\n"
     ]
    },
    {
     "name": "stdout",
     "output_type": "stream",
     "text": [
      "epoch 247| loss: 0.10036 | train_mse: 0.05003 | train_mae: 0.16564 |  0:01:35s\n"
     ]
    },
    {
     "name": "stdout",
     "output_type": "stream",
     "text": [
      "epoch 248| loss: 0.08731 | train_mse: 0.06179 | train_mae: 0.18508 |  0:01:36s\n"
     ]
    },
    {
     "name": "stdout",
     "output_type": "stream",
     "text": [
      "epoch 249| loss: 0.08512 | train_mse: 0.06026 | train_mae: 0.18574 |  0:01:36s\n"
     ]
    },
    {
     "name": "stdout",
     "output_type": "stream",
     "text": [
      "epoch 250| loss: 0.0934  | train_mse: 0.06387 | train_mae: 0.18958 |  0:01:36s\n"
     ]
    },
    {
     "name": "stdout",
     "output_type": "stream",
     "text": [
      "epoch 251| loss: 0.11634 | train_mse: 0.05319 | train_mae: 0.17127 |  0:01:37s\n"
     ]
    },
    {
     "name": "stdout",
     "output_type": "stream",
     "text": [
      "epoch 252| loss: 0.09209 | train_mse: 0.06373 | train_mae: 0.18723 |  0:01:37s\n"
     ]
    },
    {
     "name": "stdout",
     "output_type": "stream",
     "text": [
      "epoch 253| loss: 0.08948 | train_mse: 0.04906 | train_mae: 0.1633  |  0:01:37s\n"
     ]
    },
    {
     "name": "stdout",
     "output_type": "stream",
     "text": [
      "epoch 254| loss: 0.08565 | train_mse: 0.05421 | train_mae: 0.17751 |  0:01:38s\n"
     ]
    },
    {
     "name": "stdout",
     "output_type": "stream",
     "text": [
      "epoch 255| loss: 0.08634 | train_mse: 0.05154 | train_mae: 0.17028 |  0:01:38s\n"
     ]
    },
    {
     "name": "stdout",
     "output_type": "stream",
     "text": [
      "epoch 256| loss: 0.09047 | train_mse: 0.0703  | train_mae: 0.19376 |  0:01:38s\n"
     ]
    },
    {
     "name": "stdout",
     "output_type": "stream",
     "text": [
      "epoch 257| loss: 0.09419 | train_mse: 0.05799 | train_mae: 0.17384 |  0:01:39s\n"
     ]
    },
    {
     "name": "stdout",
     "output_type": "stream",
     "text": [
      "epoch 258| loss: 0.12269 | train_mse: 0.05166 | train_mae: 0.17062 |  0:01:39s\n"
     ]
    },
    {
     "name": "stdout",
     "output_type": "stream",
     "text": [
      "epoch 259| loss: 0.08524 | train_mse: 0.05839 | train_mae: 0.17884 |  0:01:40s\n"
     ]
    },
    {
     "name": "stdout",
     "output_type": "stream",
     "text": [
      "epoch 260| loss: 0.0885  | train_mse: 0.05616 | train_mae: 0.17905 |  0:01:40s\n"
     ]
    },
    {
     "name": "stdout",
     "output_type": "stream",
     "text": [
      "epoch 261| loss: 0.08517 | train_mse: 0.07382 | train_mae: 0.18023 |  0:01:40s\n"
     ]
    },
    {
     "name": "stdout",
     "output_type": "stream",
     "text": [
      "epoch 262| loss: 0.10971 | train_mse: 0.06925 | train_mae: 0.19554 |  0:01:41s\n"
     ]
    },
    {
     "name": "stdout",
     "output_type": "stream",
     "text": [
      "epoch 263| loss: 0.14674 | train_mse: 0.06971 | train_mae: 0.19247 |  0:01:41s\n"
     ]
    },
    {
     "name": "stdout",
     "output_type": "stream",
     "text": [
      "epoch 264| loss: 0.08615 | train_mse: 0.05041 | train_mae: 0.17237 |  0:01:41s\n"
     ]
    },
    {
     "name": "stdout",
     "output_type": "stream",
     "text": [
      "epoch 265| loss: 0.11918 | train_mse: 0.07248 | train_mae: 0.19318 |  0:01:42s\n"
     ]
    },
    {
     "name": "stdout",
     "output_type": "stream",
     "text": [
      "epoch 266| loss: 0.12265 | train_mse: 0.05051 | train_mae: 0.16825 |  0:01:42s\n"
     ]
    },
    {
     "name": "stdout",
     "output_type": "stream",
     "text": [
      "epoch 267| loss: 0.1056  | train_mse: 0.09027 | train_mae: 0.21531 |  0:01:42s\n"
     ]
    },
    {
     "name": "stdout",
     "output_type": "stream",
     "text": [
      "epoch 268| loss: 0.11856 | train_mse: 0.05546 | train_mae: 0.17301 |  0:01:43s\n"
     ]
    },
    {
     "name": "stdout",
     "output_type": "stream",
     "text": [
      "epoch 269| loss: 0.08139 | train_mse: 0.05509 | train_mae: 0.17493 |  0:01:43s\n"
     ]
    },
    {
     "name": "stdout",
     "output_type": "stream",
     "text": [
      "epoch 270| loss: 0.08709 | train_mse: 0.05012 | train_mae: 0.16894 |  0:01:44s\n"
     ]
    },
    {
     "name": "stdout",
     "output_type": "stream",
     "text": [
      "epoch 271| loss: 0.08723 | train_mse: 0.0602  | train_mae: 0.18419 |  0:01:44s\n"
     ]
    },
    {
     "name": "stdout",
     "output_type": "stream",
     "text": [
      "epoch 272| loss: 0.08908 | train_mse: 0.04452 | train_mae: 0.15573 |  0:01:44s\n"
     ]
    },
    {
     "name": "stdout",
     "output_type": "stream",
     "text": [
      "epoch 273| loss: 0.07686 | train_mse: 0.04889 | train_mae: 0.1618  |  0:01:45s\n"
     ]
    },
    {
     "name": "stdout",
     "output_type": "stream",
     "text": [
      "epoch 274| loss: 0.08091 | train_mse: 0.05527 | train_mae: 0.17266 |  0:01:45s\n"
     ]
    },
    {
     "name": "stdout",
     "output_type": "stream",
     "text": [
      "epoch 275| loss: 0.11858 | train_mse: 0.04823 | train_mae: 0.15976 |  0:01:45s\n"
     ]
    },
    {
     "name": "stdout",
     "output_type": "stream",
     "text": [
      "epoch 276| loss: 0.10095 | train_mse: 0.05974 | train_mae: 0.17931 |  0:01:46s\n"
     ]
    },
    {
     "name": "stdout",
     "output_type": "stream",
     "text": [
      "epoch 277| loss: 0.10613 | train_mse: 0.06042 | train_mae: 0.17787 |  0:01:46s\n"
     ]
    },
    {
     "name": "stdout",
     "output_type": "stream",
     "text": [
      "epoch 278| loss: 0.09075 | train_mse: 0.04274 | train_mae: 0.15125 |  0:01:47s\n"
     ]
    },
    {
     "name": "stdout",
     "output_type": "stream",
     "text": [
      "epoch 279| loss: 0.07619 | train_mse: 0.04956 | train_mae: 0.16524 |  0:01:47s\n"
     ]
    },
    {
     "name": "stdout",
     "output_type": "stream",
     "text": [
      "epoch 280| loss: 0.10472 | train_mse: 0.04668 | train_mae: 0.16154 |  0:01:47s\n"
     ]
    },
    {
     "name": "stdout",
     "output_type": "stream",
     "text": [
      "epoch 281| loss: 0.08215 | train_mse: 0.0539  | train_mae: 0.17466 |  0:01:48s\n"
     ]
    },
    {
     "name": "stdout",
     "output_type": "stream",
     "text": [
      "epoch 282| loss: 0.09394 | train_mse: 0.05625 | train_mae: 0.18117 |  0:01:48s\n"
     ]
    },
    {
     "name": "stdout",
     "output_type": "stream",
     "text": [
      "epoch 283| loss: 0.09042 | train_mse: 0.05395 | train_mae: 0.17234 |  0:01:48s\n"
     ]
    },
    {
     "name": "stdout",
     "output_type": "stream",
     "text": [
      "epoch 284| loss: 0.13035 | train_mse: 0.04946 | train_mae: 0.16473 |  0:01:49s\n"
     ]
    },
    {
     "name": "stdout",
     "output_type": "stream",
     "text": [
      "epoch 285| loss: 0.09114 | train_mse: 0.0689  | train_mae: 0.19589 |  0:01:49s\n"
     ]
    },
    {
     "name": "stdout",
     "output_type": "stream",
     "text": [
      "epoch 286| loss: 0.09706 | train_mse: 0.05847 | train_mae: 0.17554 |  0:01:49s\n"
     ]
    },
    {
     "name": "stdout",
     "output_type": "stream",
     "text": [
      "epoch 287| loss: 0.10302 | train_mse: 0.05216 | train_mae: 0.17304 |  0:01:50s\n"
     ]
    },
    {
     "name": "stdout",
     "output_type": "stream",
     "text": [
      "epoch 288| loss: 0.09354 | train_mse: 0.06236 | train_mae: 0.18588 |  0:01:50s\n"
     ]
    },
    {
     "name": "stdout",
     "output_type": "stream",
     "text": [
      "epoch 289| loss: 0.09339 | train_mse: 0.0538  | train_mae: 0.17661 |  0:01:51s\n"
     ]
    },
    {
     "name": "stdout",
     "output_type": "stream",
     "text": [
      "epoch 290| loss: 0.08789 | train_mse: 0.0572  | train_mae: 0.17987 |  0:01:51s\n"
     ]
    },
    {
     "name": "stdout",
     "output_type": "stream",
     "text": [
      "epoch 291| loss: 0.0816  | train_mse: 0.05867 | train_mae: 0.18347 |  0:01:51s\n"
     ]
    },
    {
     "name": "stdout",
     "output_type": "stream",
     "text": [
      "epoch 292| loss: 0.11525 | train_mse: 0.08665 | train_mae: 0.22494 |  0:01:52s\n"
     ]
    },
    {
     "name": "stdout",
     "output_type": "stream",
     "text": [
      "epoch 293| loss: 0.07804 | train_mse: 0.0578  | train_mae: 0.18172 |  0:01:52s\n"
     ]
    },
    {
     "name": "stdout",
     "output_type": "stream",
     "text": [
      "epoch 294| loss: 0.13192 | train_mse: 0.05815 | train_mae: 0.18221 |  0:01:52s\n"
     ]
    },
    {
     "name": "stdout",
     "output_type": "stream",
     "text": [
      "epoch 295| loss: 0.09755 | train_mse: 0.05326 | train_mae: 0.17835 |  0:01:53s\n"
     ]
    },
    {
     "name": "stdout",
     "output_type": "stream",
     "text": [
      "epoch 296| loss: 0.10202 | train_mse: 0.05573 | train_mae: 0.17545 |  0:01:53s\n"
     ]
    },
    {
     "name": "stdout",
     "output_type": "stream",
     "text": [
      "epoch 297| loss: 0.08753 | train_mse: 0.04697 | train_mae: 0.1596  |  0:01:53s\n"
     ]
    },
    {
     "name": "stdout",
     "output_type": "stream",
     "text": [
      "epoch 298| loss: 0.13034 | train_mse: 0.05324 | train_mae: 0.17343 |  0:01:54s\n"
     ]
    },
    {
     "name": "stdout",
     "output_type": "stream",
     "text": [
      "epoch 299| loss: 0.12769 | train_mse: 0.0734  | train_mae: 0.19498 |  0:01:54s\n"
     ]
    },
    {
     "name": "stdout",
     "output_type": "stream",
     "text": [
      "epoch 300| loss: 0.0816  | train_mse: 0.04758 | train_mae: 0.1631  |  0:01:55s\n"
     ]
    },
    {
     "name": "stdout",
     "output_type": "stream",
     "text": [
      "epoch 301| loss: 0.09507 | train_mse: 0.06019 | train_mae: 0.17956 |  0:01:55s\n"
     ]
    },
    {
     "name": "stdout",
     "output_type": "stream",
     "text": [
      "epoch 302| loss: 0.08832 | train_mse: 0.0462  | train_mae: 0.16246 |  0:01:55s\n"
     ]
    },
    {
     "name": "stdout",
     "output_type": "stream",
     "text": [
      "epoch 303| loss: 0.10139 | train_mse: 0.04351 | train_mae: 0.15834 |  0:01:56s\n"
     ]
    },
    {
     "name": "stdout",
     "output_type": "stream",
     "text": [
      "epoch 304| loss: 0.08687 | train_mse: 0.04101 | train_mae: 0.15111 |  0:01:56s\n"
     ]
    },
    {
     "name": "stdout",
     "output_type": "stream",
     "text": [
      "epoch 305| loss: 0.09104 | train_mse: 0.04835 | train_mae: 0.16388 |  0:01:56s\n"
     ]
    },
    {
     "name": "stdout",
     "output_type": "stream",
     "text": [
      "epoch 306| loss: 0.10599 | train_mse: 0.04678 | train_mae: 0.15939 |  0:01:57s\n"
     ]
    },
    {
     "name": "stdout",
     "output_type": "stream",
     "text": [
      "epoch 307| loss: 0.10194 | train_mse: 0.05567 | train_mae: 0.17637 |  0:01:57s\n"
     ]
    },
    {
     "name": "stdout",
     "output_type": "stream",
     "text": [
      "epoch 308| loss: 0.08429 | train_mse: 0.04681 | train_mae: 0.16029 |  0:01:57s\n"
     ]
    },
    {
     "name": "stdout",
     "output_type": "stream",
     "text": [
      "epoch 309| loss: 0.08076 | train_mse: 0.04406 | train_mae: 0.1548  |  0:01:58s\n"
     ]
    },
    {
     "name": "stdout",
     "output_type": "stream",
     "text": [
      "epoch 310| loss: 0.08267 | train_mse: 0.05767 | train_mae: 0.17652 |  0:01:58s\n"
     ]
    },
    {
     "name": "stdout",
     "output_type": "stream",
     "text": [
      "epoch 311| loss: 0.08819 | train_mse: 0.04245 | train_mae: 0.15306 |  0:01:59s\n"
     ]
    },
    {
     "name": "stdout",
     "output_type": "stream",
     "text": [
      "epoch 312| loss: 0.08207 | train_mse: 0.05334 | train_mae: 0.17572 |  0:01:59s\n"
     ]
    },
    {
     "name": "stdout",
     "output_type": "stream",
     "text": [
      "epoch 313| loss: 0.09999 | train_mse: 0.06773 | train_mae: 0.19272 |  0:02:00s\n"
     ]
    },
    {
     "name": "stdout",
     "output_type": "stream",
     "text": [
      "epoch 314| loss: 0.08047 | train_mse: 0.06783 | train_mae: 0.19067 |  0:02:00s\n"
     ]
    },
    {
     "name": "stdout",
     "output_type": "stream",
     "text": [
      "epoch 315| loss: 0.11702 | train_mse: 0.05681 | train_mae: 0.17515 |  0:02:00s\n"
     ]
    },
    {
     "name": "stdout",
     "output_type": "stream",
     "text": [
      "epoch 316| loss: 0.11683 | train_mse: 0.06161 | train_mae: 0.18354 |  0:02:01s\n"
     ]
    },
    {
     "name": "stdout",
     "output_type": "stream",
     "text": [
      "epoch 317| loss: 0.08588 | train_mse: 0.04641 | train_mae: 0.16239 |  0:02:01s\n"
     ]
    },
    {
     "name": "stdout",
     "output_type": "stream",
     "text": [
      "epoch 318| loss: 0.08314 | train_mse: 0.05948 | train_mae: 0.18136 |  0:02:02s\n"
     ]
    },
    {
     "name": "stdout",
     "output_type": "stream",
     "text": [
      "epoch 319| loss: 0.09033 | train_mse: 0.05436 | train_mae: 0.17549 |  0:02:02s\n"
     ]
    },
    {
     "name": "stdout",
     "output_type": "stream",
     "text": [
      "epoch 320| loss: 0.10806 | train_mse: 0.059   | train_mae: 0.18369 |  0:02:02s\n"
     ]
    },
    {
     "name": "stdout",
     "output_type": "stream",
     "text": [
      "epoch 321| loss: 0.09987 | train_mse: 0.06385 | train_mae: 0.18767 |  0:02:03s\n"
     ]
    },
    {
     "name": "stdout",
     "output_type": "stream",
     "text": [
      "epoch 322| loss: 0.09096 | train_mse: 0.05735 | train_mae: 0.18044 |  0:02:03s\n"
     ]
    },
    {
     "name": "stdout",
     "output_type": "stream",
     "text": [
      "epoch 323| loss: 0.09527 | train_mse: 0.04871 | train_mae: 0.16075 |  0:02:03s\n"
     ]
    },
    {
     "name": "stdout",
     "output_type": "stream",
     "text": [
      "epoch 324| loss: 0.09748 | train_mse: 0.06137 | train_mae: 0.19113 |  0:02:04s\n"
     ]
    },
    {
     "name": "stdout",
     "output_type": "stream",
     "text": [
      "epoch 325| loss: 0.10082 | train_mse: 0.04818 | train_mae: 0.16273 |  0:02:04s\n"
     ]
    },
    {
     "name": "stdout",
     "output_type": "stream",
     "text": [
      "epoch 326| loss: 0.0918  | train_mse: 0.04767 | train_mae: 0.16382 |  0:02:05s\n"
     ]
    },
    {
     "name": "stdout",
     "output_type": "stream",
     "text": [
      "epoch 327| loss: 0.08749 | train_mse: 0.0502  | train_mae: 0.1683  |  0:02:05s\n"
     ]
    },
    {
     "name": "stdout",
     "output_type": "stream",
     "text": [
      "epoch 328| loss: 0.07532 | train_mse: 0.04938 | train_mae: 0.16568 |  0:02:05s\n"
     ]
    },
    {
     "name": "stdout",
     "output_type": "stream",
     "text": [
      "epoch 329| loss: 0.1277  | train_mse: 0.07265 | train_mae: 0.20225 |  0:02:06s\n"
     ]
    },
    {
     "name": "stdout",
     "output_type": "stream",
     "text": [
      "epoch 330| loss: 0.09304 | train_mse: 0.05089 | train_mae: 0.1753  |  0:02:06s\n"
     ]
    },
    {
     "name": "stdout",
     "output_type": "stream",
     "text": [
      "epoch 331| loss: 0.08475 | train_mse: 0.0555  | train_mae: 0.18081 |  0:02:06s\n"
     ]
    },
    {
     "name": "stdout",
     "output_type": "stream",
     "text": [
      "epoch 332| loss: 0.08799 | train_mse: 0.04838 | train_mae: 0.1652  |  0:02:07s\n"
     ]
    },
    {
     "name": "stdout",
     "output_type": "stream",
     "text": [
      "epoch 333| loss: 0.09346 | train_mse: 0.05644 | train_mae: 0.17779 |  0:02:07s\n"
     ]
    },
    {
     "name": "stdout",
     "output_type": "stream",
     "text": [
      "epoch 334| loss: 0.08576 | train_mse: 0.04838 | train_mae: 0.16372 |  0:02:07s\n"
     ]
    },
    {
     "name": "stdout",
     "output_type": "stream",
     "text": [
      "epoch 335| loss: 0.07255 | train_mse: 0.05098 | train_mae: 0.16699 |  0:02:08s\n"
     ]
    },
    {
     "name": "stdout",
     "output_type": "stream",
     "text": [
      "epoch 336| loss: 0.08198 | train_mse: 0.05243 | train_mae: 0.17445 |  0:02:08s\n"
     ]
    },
    {
     "name": "stdout",
     "output_type": "stream",
     "text": [
      "epoch 337| loss: 0.08333 | train_mse: 0.05097 | train_mae: 0.17363 |  0:02:09s\n"
     ]
    },
    {
     "name": "stdout",
     "output_type": "stream",
     "text": [
      "epoch 338| loss: 0.06834 | train_mse: 0.04493 | train_mae: 0.15979 |  0:02:09s\n"
     ]
    },
    {
     "name": "stdout",
     "output_type": "stream",
     "text": [
      "epoch 339| loss: 0.07656 | train_mse: 0.04735 | train_mae: 0.16149 |  0:02:09s\n"
     ]
    },
    {
     "name": "stdout",
     "output_type": "stream",
     "text": [
      "epoch 340| loss: 0.06878 | train_mse: 0.05003 | train_mae: 0.16784 |  0:02:10s\n"
     ]
    },
    {
     "name": "stdout",
     "output_type": "stream",
     "text": [
      "epoch 341| loss: 0.07846 | train_mse: 0.05435 | train_mae: 0.17761 |  0:02:10s\n"
     ]
    },
    {
     "name": "stdout",
     "output_type": "stream",
     "text": [
      "epoch 342| loss: 0.07462 | train_mse: 0.04355 | train_mae: 0.15862 |  0:02:10s\n"
     ]
    },
    {
     "name": "stdout",
     "output_type": "stream",
     "text": [
      "epoch 343| loss: 0.0923  | train_mse: 0.04789 | train_mae: 0.1642  |  0:02:11s\n"
     ]
    },
    {
     "name": "stdout",
     "output_type": "stream",
     "text": [
      "epoch 344| loss: 0.09656 | train_mse: 0.04552 | train_mae: 0.16227 |  0:02:11s\n"
     ]
    },
    {
     "name": "stdout",
     "output_type": "stream",
     "text": [
      "epoch 345| loss: 0.07188 | train_mse: 0.05144 | train_mae: 0.16973 |  0:02:11s\n"
     ]
    },
    {
     "name": "stdout",
     "output_type": "stream",
     "text": [
      "epoch 346| loss: 0.07466 | train_mse: 0.04377 | train_mae: 0.1559  |  0:02:12s\n"
     ]
    },
    {
     "name": "stdout",
     "output_type": "stream",
     "text": [
      "epoch 347| loss: 0.0656  | train_mse: 0.04202 | train_mae: 0.15352 |  0:02:12s\n"
     ]
    },
    {
     "name": "stdout",
     "output_type": "stream",
     "text": [
      "epoch 348| loss: 0.0882  | train_mse: 0.04521 | train_mae: 0.16055 |  0:02:13s\n"
     ]
    },
    {
     "name": "stdout",
     "output_type": "stream",
     "text": [
      "epoch 349| loss: 0.0813  | train_mse: 0.05373 | train_mae: 0.1756  |  0:02:13s\n"
     ]
    },
    {
     "name": "stdout",
     "output_type": "stream",
     "text": [
      "epoch 350| loss: 0.08664 | train_mse: 0.04262 | train_mae: 0.15844 |  0:02:13s\n"
     ]
    },
    {
     "name": "stdout",
     "output_type": "stream",
     "text": [
      "epoch 351| loss: 0.07682 | train_mse: 0.06537 | train_mae: 0.18562 |  0:02:14s\n"
     ]
    },
    {
     "name": "stdout",
     "output_type": "stream",
     "text": [
      "epoch 352| loss: 0.10357 | train_mse: 0.05161 | train_mae: 0.17024 |  0:02:14s\n"
     ]
    },
    {
     "name": "stdout",
     "output_type": "stream",
     "text": [
      "epoch 353| loss: 0.08942 | train_mse: 0.05892 | train_mae: 0.18067 |  0:02:14s\n"
     ]
    },
    {
     "name": "stdout",
     "output_type": "stream",
     "text": [
      "epoch 354| loss: 0.08187 | train_mse: 0.05077 | train_mae: 0.1679  |  0:02:15s\n",
      "\n",
      "Early stopping occurred at epoch 354 with best_epoch = 304 and best_train_mae = 0.15111\n",
      "Best weights from best epoch are automatically used!\n"
     ]
    }
   ],
   "source": [
    "#Train the Model\n",
    "\n",
    "Y_train = np.reshape(Y_train, (-1, 1))\n",
    "Y_test = np.reshape(Y_test, (-1, 1))\n",
    "\n",
    "prior_model = TabNetRegressor(optimizer_fn=torch.optim.Adam, optimizer_params=dict(lr = 0.01),\n",
    "          #scheduler_params={\"step_size\":10, ], \"gamma\":0.9},\n",
    "          #scheduler_fn=torch.optim.lr_scheduler.StepLR\n",
    "          )  #TabNetRegressor()\n",
    "\n",
    "prior_model.fit(X_train,Y_train,eval_set=[(X_train, Y_train)],\n",
    "            eval_name=['train'], \n",
    "            eval_metric=[ 'mse', 'mae'], \n",
    "            max_epochs = n_epochs, \n",
    "            batch_size = batch_size,\n",
    "            patience=50\n",
    "            )"
   ]
  },
  {
   "cell_type": "code",
   "execution_count": 10,
   "id": "af65dcda",
   "metadata": {
    "execution": {
     "iopub.execute_input": "2022-07-22T08:52:59.846387Z",
     "iopub.status.busy": "2022-07-22T08:52:59.845745Z",
     "iopub.status.idle": "2022-07-22T08:52:59.957703Z",
     "shell.execute_reply": "2022-07-22T08:52:59.956927Z"
    },
    "id": "af65dcda",
    "papermill": {
     "duration": 0.158348,
     "end_time": "2022-07-22T08:52:59.962667",
     "exception": false,
     "start_time": "2022-07-22T08:52:59.804319",
     "status": "completed"
    },
    "tags": []
   },
   "outputs": [
    {
     "data": {
      "application/scrapbook.scrap.json+json": {
       "data": 0.08696667385743645,
       "encoder": "json",
       "name": "Prior Model MSE",
       "version": 1
      }
     },
     "metadata": {
      "scrapbook": {
       "data": true,
       "display": false,
       "name": "Prior Model MSE"
      }
     },
     "output_type": "display_data"
    },
    {
     "data": {
      "application/scrapbook.scrap.json+json": {
       "data": 1.201521196361808,
       "encoder": "json",
       "name": "ABC Pre-generator MSE",
       "version": 1
      }
     },
     "metadata": {
      "scrapbook": {
       "data": true,
       "display": false,
       "name": "ABC Pre-generator MSE"
      }
     },
     "output_type": "display_data"
    },
    {
     "data": {
      "application/scrapbook.scrap.json+json": {
       "data": 0.1848267179429286,
       "encoder": "json",
       "name": "Prior Model MAE",
       "version": 1
      }
     },
     "metadata": {
      "scrapbook": {
       "data": true,
       "display": false,
       "name": "Prior Model MAE"
      }
     },
     "output_type": "display_data"
    },
    {
     "name": "stdout",
     "output_type": "stream",
     "text": [
      "Prior Model MAE 0.1848267179429286\n"
     ]
    },
    {
     "data": {
      "application/scrapbook.scrap.json+json": {
       "data": 1.062054876565241,
       "encoder": "json",
       "name": "ABC Pre-generator MAE",
       "version": 1
      }
     },
     "metadata": {
      "scrapbook": {
       "data": true,
       "display": false,
       "name": "ABC Pre-generator MAE"
      }
     },
     "output_type": "display_data"
    },
    {
     "name": "stdout",
     "output_type": "stream",
     "text": [
      "ABC Pre-generator MAE 1.062054876565241\n"
     ]
    }
   ],
   "source": [
    "y_pred = prior_model.predict(X_test)\n",
    "y_abc = y_pred + np.random.normal(0,variance, y_pred.shape) + bias \n",
    "mse = mean_squared_error(y_pred,Y_test)\n",
    "sb.glue(\"Prior Model MSE\",mse)\n",
    "mse = mean_squared_error(y_abc,Y_test)\n",
    "sb.glue(\"ABC Pre-generator MSE\",mse)\n",
    "mae = mean_absolute_error(y_pred,Y_test)\n",
    "sb.glue(\"Prior Model MAE\",mae)\n",
    "print(\"Prior Model MAE\",mae)\n",
    "mae = mean_absolute_error(y_abc,Y_test)\n",
    "sb.glue(\"ABC Pre-generator MAE\",mae)\n",
    "print(\"ABC Pre-generator MAE\",mae)"
   ]
  },
  {
   "cell_type": "markdown",
   "id": "25609da2",
   "metadata": {
    "papermill": {
     "duration": 0.052597,
     "end_time": "2022-07-22T08:53:00.090912",
     "exception": false,
     "start_time": "2022-07-22T08:53:00.038315",
     "status": "completed"
    },
    "tags": []
   },
   "source": [
    "# mGAN Model"
   ]
  },
  {
   "cell_type": "code",
   "execution_count": 11,
   "id": "dfc3464d",
   "metadata": {
    "execution": {
     "iopub.execute_input": "2022-07-22T08:53:00.168088Z",
     "iopub.status.busy": "2022-07-22T08:53:00.167336Z",
     "iopub.status.idle": "2022-07-22T08:53:00.177413Z",
     "shell.execute_reply": "2022-07-22T08:53:00.175551Z"
    },
    "papermill": {
     "duration": 0.059907,
     "end_time": "2022-07-22T08:53:00.192999",
     "exception": false,
     "start_time": "2022-07-22T08:53:00.133092",
     "status": "completed"
    },
    "tags": []
   },
   "outputs": [],
   "source": [
    "gen = network.Generator(n_features+1).to(device)\n",
    "disc = network.Discriminator(n_features+1).to(device)\n",
    "\n",
    "criterion = torch.nn.BCELoss()\n",
    "gen_opt = torch.optim.Adam(gen.parameters(), lr=0.01, betas=(0.5, 0.999))\n",
    "disc_opt = torch.optim.Adam(disc.parameters(), lr=0.01, betas=(0.5, 0.999))"
   ]
  },
  {
   "cell_type": "code",
   "execution_count": 12,
   "id": "b75fdd85",
   "metadata": {
    "execution": {
     "iopub.execute_input": "2022-07-22T08:53:00.275983Z",
     "iopub.status.busy": "2022-07-22T08:53:00.275158Z",
     "iopub.status.idle": "2022-07-22T08:57:04.126800Z",
     "shell.execute_reply": "2022-07-22T08:57:04.125872Z"
    },
    "papermill": {
     "duration": 243.905504,
     "end_time": "2022-07-22T08:57:04.129856",
     "exception": false,
     "start_time": "2022-07-22T08:53:00.224352",
     "status": "completed"
    },
    "tags": []
   },
   "outputs": [
    {
     "data": {
      "image/png": "[encoded data removed]",
      "text/plain": [
       "<Figure size 432x288 with 1 Axes>"
      ]
     },
     "metadata": {
      "needs_background": "light"
     },
     "output_type": "display_data"
    },
    {
     "data": {
      "image/png": "[encoded data removed]",
      "text/plain": [
       "<Figure size 432x288 with 1 Axes>"
      ]
     },
     "metadata": {
      "needs_background": "light"
     },
     "output_type": "display_data"
    }
   ],
   "source": [
    "#Training the ABC_GAN \n",
    "ABC_train_test2.training_GAN(disc,gen,disc_opt,gen_opt,train_data,batch_size,n_epochs,criterion,prior_model,variance,bias,device)"
   ]
  },
  {
   "cell_type": "code",
   "execution_count": 13,
   "id": "1fa7c368",
   "metadata": {
    "execution": {
     "iopub.execute_input": "2022-07-22T08:57:04.229431Z",
     "iopub.status.busy": "2022-07-22T08:57:04.224735Z",
     "iopub.status.idle": "2022-07-22T08:57:07.032027Z",
     "shell.execute_reply": "2022-07-22T08:57:07.031052Z"
    },
    "papermill": {
     "duration": 2.873416,
     "end_time": "2022-07-22T08:57:07.034725",
     "exception": false,
     "start_time": "2022-07-22T08:57:04.161309",
     "status": "completed"
    },
    "tags": []
   },
   "outputs": [
    {
     "data": {
      "application/scrapbook.scrap.json+json": {
       "data": 0.4767714058071573,
       "encoder": "json",
       "name": "ABC-GAN Model 1 MSE",
       "version": 1
      }
     },
     "metadata": {
      "scrapbook": {
       "data": true,
       "display": false,
       "name": "ABC-GAN Model 1 MSE"
      }
     },
     "output_type": "display_data"
    },
    {
     "data": {
      "application/scrapbook.scrap.json+json": {
       "data": 0.44356343381252944,
       "encoder": "json",
       "name": "ABC-GAN Model 1 MAE",
       "version": 1
      }
     },
     "metadata": {
      "scrapbook": {
       "data": true,
       "display": false,
       "name": "ABC-GAN Model 1 MAE"
      }
     },
     "output_type": "display_data"
    },
    {
     "data": {
      "application/scrapbook.scrap.json+json": {
       "data": 45.243470248878005,
       "encoder": "json",
       "name": "ABC-GAN Model 1 Manhattan Distance",
       "version": 1
      }
     },
     "metadata": {
      "scrapbook": {
       "data": true,
       "display": false,
       "name": "ABC-GAN Model 1 Manhattan Distance"
      }
     },
     "output_type": "display_data"
    },
    {
     "data": {
      "application/scrapbook.scrap.json+json": {
       "data": 6.973529695563671,
       "encoder": "json",
       "name": "ABC-GAN Model 1 Euclidean distance",
       "version": 1
      }
     },
     "metadata": {
      "scrapbook": {
       "data": true,
       "display": false,
       "name": "ABC-GAN Model 1 Euclidean distance"
      }
     },
     "output_type": "display_data"
    },
    {
     "data": {
      "application/scrapbook.scrap.json+json": {
       "data": [
        [
         0.4768126499744141,
         0.48030724169674494,
         0.47475750793421273,
         0.47968611164753283,
         0.4826670959273042,
         0.4837868084783415,
         0.4724645940967402,
         0.47844767197028326,
         0.4764720754104752,
         0.4740976453687074,
         0.4744910374806285,
         0.4835590657801041,
         0.47162619607464296,
         0.475236269695629,
         0.47508842376367033,
         0.4761533135144996,
         0.47469475949485096,
         0.48097026310018465,
         0.4723425502189968,
         0.47482794458628674,
         0.4725826658955334,
         0.4748564702066092,
         0.4816745368815814,
         0.47881184116524805,
         0.4729963170639926,
         0.4745325365478096,
         0.48074468668515663,
         0.4821438674580281,
         0.47454436590532323,
         0.47274164887465037,
         0.4722824442866849,
         0.4739361537813623,
         0.4730596869056466,
         0.477294906225576,
         0.47897258844420365,
         0.4772218808310256,
         0.48045844572801466,
         0.47582489474145884,
         0.4778134527330257,
         0.4750770129409563,
         0.47653838674294774,
         0.4796778716616274,
         0.47802095961031743,
         0.4754936079275283,
         0.48287548795570023,
         0.47934865612367716,
         0.47400550996086444,
         0.47703951903545355,
         0.4756951663781961,
         0.48050643425618533,
         0.47646702783751854,
         0.4780723195611713,
         0.4777615596402848,
         0.4770922136735151,
         0.47938972883722863,
         0.46854921049700976,
         0.47549672177046276,
         0.4777905867084864,
         0.47076619003496756,
         0.4788330811082299,
         0.47778656922441554,
         0.4715274519531284,
         0.4722471785895097,
         0.4761441605592152,
         0.47694079171535037,
         0.479206181672333,
         0.47273073438269014,
         0.4723486512236265,
         0.47696075139069416,
         0.4773290751758229,
         0.48006792334056037,
         0.4762561205429896,
         0.47300092430026847,
         0.4783027882639112,
         0.4791821163829824,
         0.480008582738533,
         0.4852498664522589,
         0.4795861246809455,
         0.4772040794397425,
         0.4723876971914681,
         0.4804620387989799,
         0.4761626493737346,
         0.4800600666873915,
         0.4772410517090889,
         0.47624547483304713,
         0.4786145143631307,
         0.47917741137225045,
         0.4759204373781985,
         0.4721691932025597,
         0.4753395701730399,
         0.47553594664796706,
         0.4797389126326503,
         0.477749022049606,
         0.47906101781951416,
         0.4797496467538277,
         0.47593944936078936,
         0.4780883097248326,
         0.46938571598789486,
         0.47256502282112384,
         0.4779874909681487
        ],
        [
         0.4449284965555896,
         0.4442868299106611,
         0.43983425513165547,
         0.44626888905779694,
         0.4462756056466377,
         0.44873623512502686,
         0.43904325898334967,
         0.4434154660660116,
         0.4423621454568324,
         0.4426267345655052,
         0.43955333573816746,
         0.4524895918336423,
         0.43406777250963974,
         0.4442594545053355,
         0.4434602505929184,
         0.44398342846326677,
         0.4423302999953283,
         0.44738610325308115,
         0.4419258873014912,
         0.4404707494666617,
         0.44110433365601825,
         0.442716139414366,
         0.4484103403017655,
         0.44216982931738685,
         0.43851936351982695,
         0.4438253082243689,
         0.44842561841120615,
         0.45533826164718644,
         0.44207960526988493,
         0.4402930127621135,
         0.437927858858351,
         0.4440156919607783,
         0.440512309900905,
         0.4416116263406972,
         0.4433696124538341,
         0.44598266218478483,
         0.4466178233041337,
         0.44339300618123484,
         0.4455235979483262,
         0.4433936467120314,
         0.4441957784834884,
         0.4436746271710624,
         0.44790862441318585,
         0.44459976280546365,
         0.44885631759340566,
         0.4446891999766961,
         0.44374161745951163,
         0.43996734109104557,
         0.4415282354982314,
         0.44386434429964305,
         0.4436961200508271,
         0.4423112157713987,
         0.4466451968102917,
         0.44056136182089356,
         0.4425135880033029,
         0.43610152301798555,
         0.44294851056902723,
         0.44572601002622764,
         0.4372458217902949,
         0.4443432350789069,
         0.444141817397858,
         0.43980479780036735,
         0.4421094988984074,
         0.4475408029085135,
         0.4423245775842053,
         0.4419363080341296,
         0.440143979419315,
         0.4373994603588739,
         0.4437334163424869,
         0.4464988564506319,
         0.4425979224398878,
         0.4476229772610846,
         0.442062434493838,
         0.44726343992549705,
         0.4462139612593341,
         0.4446474373906705,
         0.4499383974802114,
         0.44544284998019246,
         0.4442750232969867,
         0.4404909248719467,
         0.4438570277929744,
         0.44397930537040037,
         0.4433894853436333,
         0.4422468977213344,
         0.4430464579468118,
         0.4453437887771311,
         0.44617326154976206,
         0.44235134372195484,
         0.43784126024875863,
         0.444571541576628,
         0.4461866950196232,
         0.446860063592812,
         0.44691177303263663,
         0.44329464368923915,
         0.4435093319500048,
         0.4451784303722282,
         0.44440117546850266,
         0.4400640801964876,
         0.4419500815280366,
         0.4409449825008564
        ],
        [
         45.38270664867014,
         45.31725665088743,
         44.86309402342886,
         45.51942668389529,
         45.52011177595705,
         45.77109598275274,
         44.78241241630167,
         45.228377538733184,
         45.120938836596906,
         45.14792692568153,
         44.83444024529308,
         46.153938367031515,
         44.274912795983255,
         45.31446435954422,
         45.232945560477674,
         45.28630970325321,
         45.117690599523485,
         45.63338253181428,
         45.0764405047521,
         44.928016445599496,
         44.992642032913864,
         45.15704622026533,
         45.737854710780084,
         45.10132259037346,
         44.72897507902235,
         45.27018143888563,
         45.73941307794303,
         46.44450268801302,
         45.092119737528265,
         44.90988730173558,
         44.668641603551805,
         45.28960057999939,
         44.93225560989231,
         45.044385886751115,
         45.22370047029108,
         45.49023154284805,
         45.555017977021635,
         45.22608663048595,
         45.44340699072927,
         45.226151964627206,
         45.307969405315816,
         45.25481197144836,
         45.686679690144956,
         45.34917580615729,
         45.783344394527376,
         45.358298397623,
         45.26164498087019,
         44.87666879128665,
         45.035880020819604,
         45.27416311856359,
         45.25700424518436,
         45.11574400868267,
         45.55781007464975,
         44.93725890573114,
         45.136385976336896,
         44.48235534783453,
         45.18074807804078,
         45.464053022675216,
         44.59907382261008,
         45.3230099780485,
         45.302465374581516,
         44.86008937563747,
         45.095168887637556,
         45.649161896668375,
         45.11710691358894,
         45.07750341948122,
         44.89468590077013,
         44.614744956605136,
         45.26080846693367,
         45.542883357964456,
         45.14498808886856,
         45.657543680630624,
         45.090368318371475,
         45.6208708724007,
         45.51382404845208,
         45.35403861384839,
         45.893716542981565,
         45.43517069797963,
         45.316052376292646,
         44.93007433693856,
         45.27341683488339,
         45.285889147780836,
         45.2257275050506,
         45.10918356757611,
         45.190738710574806,
         45.42506645526737,
         45.50967267807573,
         45.119837059639394,
         44.65980854537338,
         45.34629724081606,
         45.51104289200157,
         45.579726486466825,
         45.585000849328935,
         45.21605365630239,
         45.23795185890049,
         45.40819989796728,
         45.32891989778727,
         44.88653618004173,
         45.078908315859735,
         44.976388215087354
        ],
        [
         6.973871973114379,
         6.999381305020323,
         6.9588264678241325,
         6.994854064814246,
         7.0165549798020574,
         7.024688922990884,
         6.9420017716698625,
         6.985818673639397,
         6.9713809027959766,
         6.953988771029773,
         6.956873279212732,
         7.023035291778806,
         6.935839675166489,
         6.962334343376089,
         6.961251268550387,
         6.969048570535217,
         6.95836658048962,
         7.004210650474386,
         6.941105108146517,
         6.9593426663587445,
         6.942869141885391,
         6.9595517069042705,
         7.009336827540913,
         6.988476786743683,
         6.9459070207228715,
         6.957177497223755,
         7.002567960533193,
         7.012750849753531,
         6.957264212486327,
         6.9440368795978005,
         6.940663463764964,
         6.952804303710768,
         6.946372295261459,
         6.977397826912891,
         6.989649778158329,
         6.9768640408685485,
         7.000482945072968,
         6.966644763702886,
         6.981187017890915,
         6.961167669290659,
         6.971865994680381,
         6.9947939862076005,
         6.982702763275291,
         6.964219124109168,
         7.018069518854984,
         6.992393218678072,
         6.953313024451596,
         6.975530871669644,
         6.96569500987346,
         7.000832542928799,
         6.971343976553365,
         6.983077874063803,
         6.980807910500694,
         6.975916125835986,
         6.992692781854307,
         6.9131772341445865,
         6.964241927201209,
         6.981019971627758,
         6.929513069730562,
         6.988631788343084,
         6.98099062174491,
         6.935113560657757,
         6.9404043265598,
         6.968981588226501,
         6.974809012078091,
         6.991353984070465,
         6.9439567184015765,
         6.941149935335636,
         6.974954956259631,
         6.977647574070644,
         6.997637328465744,
         6.9698008791776065,
         6.945940849059066,
         6.984760869415571,
         6.991178432214715,
         6.997204830454113,
         7.035302863283884,
         6.994125014428641,
         6.976733913720214,
         6.941436819098028,
         7.000509121306532,
         6.9691168906914545,
         6.997580067574358,
         6.9770041761723975,
         6.969722981078287,
         6.987036601094868,
         6.991144109512373,
         6.967344157753101,
         6.939831244825848,
         6.9630909916250605,
         6.964529169878799,
         6.995239030121153,
         6.980716313463814,
         6.99029497357518,
         6.995317288650348,
         6.967483321458367,
         6.983194655165565,
         6.919345563762894,
         6.942739540538348,
         6.982458311995222
        ]
       ],
       "encoder": "json",
       "name": "ABC_GAN_1 Metrics",
       "version": 1
      }
     },
     "metadata": {
      "scrapbook": {
       "data": true,
       "display": false,
       "name": "ABC_GAN_1 Metrics"
      }
     },
     "output_type": "display_data"
    },
    {
     "name": "stdout",
     "output_type": "stream",
     "text": [
      "MAE\n",
      "0.44356343381252944\n"
     ]
    }
   ],
   "source": [
    "ABC_GAN1_metrics=ABC_train_test2.test_generator(gen,test_data,prior_model,variance,bias,\"1\",device)\n",
    "sb.glue(\"ABC_GAN_1 Metrics\",ABC_GAN1_metrics)\n",
    "\n",
    "print(\"MAE\")\n",
    "print(mean(ABC_GAN1_metrics[1]))"
   ]
  },
  {
   "cell_type": "code",
   "execution_count": 14,
   "id": "eb22ce5c",
   "metadata": {
    "execution": {
     "iopub.execute_input": "2022-07-22T08:57:07.121231Z",
     "iopub.status.busy": "2022-07-22T08:57:07.120765Z",
     "iopub.status.idle": "2022-07-22T08:57:07.988802Z",
     "shell.execute_reply": "2022-07-22T08:57:07.987814Z"
    },
    "papermill": {
     "duration": 0.921499,
     "end_time": "2022-07-22T08:57:07.991615",
     "exception": false,
     "start_time": "2022-07-22T08:57:07.070116",
     "status": "completed"
    },
    "tags": []
   },
   "outputs": [
    {
     "data": {
      "image/png": "[encoded data removed]",
      "text/plain": [
       "<Figure size 432x288 with 1 Axes>"
      ]
     },
     "metadata": {
      "needs_background": "light"
     },
     "output_type": "display_data"
    },
    {
     "data": {
      "image/png": "[encoded data removed]",
      "text/plain": [
       "<Figure size 432x288 with 1 Axes>"
      ]
     },
     "metadata": {
      "needs_background": "light"
     },
     "output_type": "display_data"
    },
    {
     "data": {
      "image/png": "[encoded data removed]",
      "text/plain": [
       "<Figure size 432x288 with 1 Axes>"
      ]
     },
     "metadata": {
      "needs_background": "light"
     },
     "output_type": "display_data"
    },
    {
     "data": {
      "image/png": "[encoded data removed]",
      "text/plain": [
       "<Figure size 432x288 with 1 Axes>"
      ]
     },
     "metadata": {
      "needs_background": "light"
     },
     "output_type": "display_data"
    }
   ],
   "source": [
    "sanityChecks.discProbVsError(train_data,disc,device)\n",
    "sanityChecks.discProbVsError(test_data,disc,device)"
   ]
  },
  {
   "cell_type": "markdown",
   "id": "d03ebf5f",
   "metadata": {
    "papermill": {
     "duration": 0.046671,
     "end_time": "2022-07-22T08:57:08.073021",
     "exception": false,
     "start_time": "2022-07-22T08:57:08.026350",
     "status": "completed"
    },
    "tags": []
   },
   "source": [
    "# mGAN Model with TabNet Generator"
   ]
  },
  {
   "cell_type": "code",
   "execution_count": 15,
   "id": "af64b6db",
   "metadata": {
    "execution": {
     "iopub.execute_input": "2022-07-22T08:57:08.147045Z",
     "iopub.status.busy": "2022-07-22T08:57:08.146605Z",
     "iopub.status.idle": "2022-07-22T08:57:08.167364Z",
     "shell.execute_reply": "2022-07-22T08:57:08.164891Z"
    },
    "papermill": {
     "duration": 0.061184,
     "end_time": "2022-07-22T08:57:08.170436",
     "exception": false,
     "start_time": "2022-07-22T08:57:08.109252",
     "status": "completed"
    },
    "tags": []
   },
   "outputs": [],
   "source": [
    "gen2 = network.GeneratorTabnet(n_features+1).to(device)\n",
    "disc2 = network.Discriminator(n_features+1).to(device)\n",
    "\n",
    "criterion = torch.nn.BCELoss()\n",
    "gen_opt = torch.optim.Adam(gen2.parameters(), lr=0.01, betas=(0.5, 0.999))\n",
    "disc_opt = torch.optim.Adam(disc2.parameters(), lr=0.01, betas=(0.5, 0.999))"
   ]
  },
  {
   "cell_type": "code",
   "execution_count": 16,
   "id": "a7036437",
   "metadata": {
    "execution": {
     "iopub.execute_input": "2022-07-22T08:57:08.246915Z",
     "iopub.status.busy": "2022-07-22T08:57:08.246524Z",
     "iopub.status.idle": "2022-07-22T09:10:41.613377Z",
     "shell.execute_reply": "2022-07-22T09:10:41.611254Z"
    },
    "papermill": {
     "duration": 813.41351,
     "end_time": "2022-07-22T09:10:41.619971",
     "exception": false,
     "start_time": "2022-07-22T08:57:08.206461",
     "status": "completed"
    },
    "tags": []
   },
   "outputs": [
    {
     "data": {
      "image/png": "[encoded data removed]",
      "text/plain": [
       "<Figure size 432x288 with 1 Axes>"
      ]
     },
     "metadata": {
      "needs_background": "light"
     },
     "output_type": "display_data"
    },
    {
     "data": {
      "image/png": "[encoded data removed]",
      "text/plain": [
       "<Figure size 432x288 with 1 Axes>"
      ]
     },
     "metadata": {
      "needs_background": "light"
     },
     "output_type": "display_data"
    }
   ],
   "source": [
    "#Training the ABC_GAN \n",
    "ABC_train_test2.training_GAN(disc2,gen2,disc_opt,gen_opt,train_data,batch_size,n_epochs,criterion,prior_model,variance,bias,device)"
   ]
  },
  {
   "cell_type": "code",
   "execution_count": 17,
   "id": "faa88446",
   "metadata": {
    "execution": {
     "iopub.execute_input": "2022-07-22T09:10:41.721386Z",
     "iopub.status.busy": "2022-07-22T09:10:41.720141Z",
     "iopub.status.idle": "2022-07-22T09:10:46.008114Z",
     "shell.execute_reply": "2022-07-22T09:10:46.006607Z"
    },
    "papermill": {
     "duration": 4.353581,
     "end_time": "2022-07-22T09:10:46.011913",
     "exception": false,
     "start_time": "2022-07-22T09:10:41.658332",
     "status": "completed"
    },
    "tags": []
   },
   "outputs": [
    {
     "data": {
      "application/scrapbook.scrap.json+json": {
       "data": 0.07278332548422632,
       "encoder": "json",
       "name": "ABC-GAN Model 1 MSE",
       "version": 1
      }
     },
     "metadata": {
      "scrapbook": {
       "data": true,
       "display": false,
       "name": "ABC-GAN Model 1 MSE"
      }
     },
     "output_type": "display_data"
    },
    {
     "data": {
      "application/scrapbook.scrap.json+json": {
       "data": 0.1848844488766889,
       "encoder": "json",
       "name": "ABC-GAN Model 1 MAE",
       "version": 1
      }
     },
     "metadata": {
      "scrapbook": {
       "data": true,
       "display": false,
       "name": "ABC-GAN Model 1 MAE"
      }
     },
     "output_type": "display_data"
    },
    {
     "data": {
      "application/scrapbook.scrap.json+json": {
       "data": 18.85821378542227,
       "encoder": "json",
       "name": "ABC-GAN Model 1 Manhattan Distance",
       "version": 1
      }
     },
     "metadata": {
      "scrapbook": {
       "data": true,
       "display": false,
       "name": "ABC-GAN Model 1 Manhattan Distance"
      }
     },
     "output_type": "display_data"
    },
    {
     "data": {
      "application/scrapbook.scrap.json+json": {
       "data": 2.722813191823048,
       "encoder": "json",
       "name": "ABC-GAN Model 1 Euclidean distance",
       "version": 1
      }
     },
     "metadata": {
      "scrapbook": {
       "data": true,
       "display": false,
       "name": "ABC-GAN Model 1 Euclidean distance"
      }
     },
     "output_type": "display_data"
    },
    {
     "data": {
      "application/scrapbook.scrap.json+json": {
       "data": [
        [
         0.07414696216902597,
         0.06595991809647354,
         0.07688160053316709,
         0.06856775481114533,
         0.07734313883911559,
         0.06433427197853862,
         0.07495856955957107,
         0.07014612960439713,
         0.06347717225750225,
         0.0727398918447792,
         0.06852998934218957,
         0.07406864736790082,
         0.07189019758145614,
         0.07936961696456622,
         0.07288083128062414,
         0.07924898403057469,
         0.06571421145943035,
         0.08145714690400138,
         0.06874182710561358,
         0.07685327130392838,
         0.07190327550641469,
         0.07202155238078131,
         0.06448592382101101,
         0.07645556726833816,
         0.07322276907815811,
         0.0734684492944397,
         0.06859445922849379,
         0.08376406020896603,
         0.07802239991404986,
         0.07585952153016949,
         0.07685397526284672,
         0.07265936894404879,
         0.08667595226913798,
         0.07458892995438852,
         0.06663665326247557,
         0.07179647880811306,
         0.0668808515461901,
         0.07354830141559072,
         0.06649931813513715,
         0.07056003511253801,
         0.07069073221828423,
         0.08659689760915257,
         0.0682067716804773,
         0.07045268764219147,
         0.07110447562584081,
         0.08503928438095024,
         0.0708363779714511,
         0.07665760396563871,
         0.07371460970284792,
         0.07226600130690443,
         0.06998786730948199,
         0.07513367909495043,
         0.0756188100410859,
         0.06651701872128457,
         0.07018801011772939,
         0.07118392713057653,
         0.07083465953402845,
         0.06955446928038032,
         0.06936212657421297,
         0.06955350896687575,
         0.0773110632622846,
         0.07331658021955208,
         0.06418480760624926,
         0.07036413235157911,
         0.06030515848428488,
         0.08042482922579072,
         0.06676891281963816,
         0.0864734436186338,
         0.0639819904131314,
         0.07248854903331829,
         0.07065633647137916,
         0.078899476719617,
         0.07179413596151724,
         0.07110069376175354,
         0.0828806463046526,
         0.07785714110961978,
         0.07230061454035389,
         0.07243528171216522,
         0.07749413298794641,
         0.07925008936547379,
         0.06539887610356308,
         0.07069968337443026,
         0.08253301064365677,
         0.07762033321473749,
         0.07212118426748869,
         0.06687225439265981,
         0.06587401072851681,
         0.07096537723680113,
         0.07217180101901587,
         0.07671734597441357,
         0.06972509806720573,
         0.07668233147449814,
         0.07731119613967181,
         0.06678313498514034,
         0.0736957545171547,
         0.07250469941255146,
         0.07422948222035126,
         0.07609194531102301,
         0.06383708750914005,
         0.07090243101203701
        ],
        [
         0.18392668983113825,
         0.1768869454972446,
         0.18359974081463673,
         0.18444632087815918,
         0.1860705162398517,
         0.17116840434826763,
         0.1760510529354945,
         0.18263355214331373,
         0.18564470723161802,
         0.19186294253221622,
         0.18482400251406372,
         0.19589308708650516,
         0.17944498671510933,
         0.1983655301178349,
         0.18057523024104097,
         0.19139430807976454,
         0.18139154185522713,
         0.189404876181381,
         0.17362501221142856,
         0.19346058691906579,
         0.18292904573072696,
         0.17718206551473806,
         0.1769966786709048,
         0.19164937819518588,
         0.18390451211884035,
         0.18106961875752198,
         0.18435077174731038,
         0.19731347765956148,
         0.192420968101086,
         0.1929934163687422,
         0.19102582500736212,
         0.1796921824433786,
         0.19231130570794144,
         0.1880196795397091,
         0.17522074440128954,
         0.18318092466021577,
         0.1731834009234958,
         0.18468216911652216,
         0.1842544420950991,
         0.17319226866661042,
         0.1897259887362666,
         0.19345935906155728,
         0.17826746244385255,
         0.18773072396459825,
         0.1847927090894504,
         0.19255241893195346,
         0.18151072689386852,
         0.1888703646083527,
         0.19047528945420886,
         0.18895907881761007,
         0.1789515347804363,
         0.18478378548524252,
         0.17641361033105674,
         0.17799484951640754,
         0.18363297401069134,
         0.18299376691563748,
         0.1866226378262189,
         0.18320763933782777,
         0.18954711674949995,
         0.1809312216298399,
         0.1951236757632418,
         0.17857147577017837,
         0.18069600840738298,
         0.19131075323321947,
         0.17351670385174014,
         0.18922203942658564,
         0.18382978610073528,
         0.19179983406930284,
         0.1771657829465089,
         0.1856419152543679,
         0.1819176011097928,
         0.19337444517797991,
         0.18929325695738525,
         0.17428300600024124,
         0.18847757719420627,
         0.18811543337891207,
         0.18361552324438213,
         0.1807112823715251,
         0.181006799990713,
         0.18515725445696243,
         0.18654223928666291,
         0.19202190656762788,
         0.1815233137549869,
         0.1934663742031975,
         0.18002036048610712,
         0.1833473246489816,
         0.17635801048291957,
         0.1842051580018711,
         0.186009386965238,
         0.19082637011603104,
         0.17897396531485604,
         0.19898474571642047,
         0.19111141428241835,
         0.17590682521718098,
         0.18615259494011602,
         0.18941920191305234,
         0.19010066892038666,
         0.18593473262244872,
         0.1830138093791902,
         0.18403016175965176
        ],
        [
         18.7605223627761,
         18.04246844071895,
         18.727173563092947,
         18.813524729572237,
         18.979192656464875,
         17.4591772435233,
         17.95720739942044,
         18.628622318618,
         18.93576013762504,
         19.570020138286054,
         18.8520482564345,
         19.981094882823527,
         18.30338864494115,
         20.23328407201916,
         18.41867348458618,
         19.522219424135983,
         18.501937269233167,
         19.319297370500863,
         17.709751245565712,
         19.73297986574471,
         18.65876266453415,
         18.072570682503283,
         18.05366122443229,
         19.54823657590896,
         18.758260236121714,
         18.469101113267243,
         18.803778718225658,
         20.12597472127527,
         19.62693874631077,
         19.685328469611704,
         19.484634150750935,
         18.328602609224617,
         19.615753182210028,
         19.17800731305033,
         17.872515928931534,
         18.68445431534201,
         17.66470689419657,
         18.83758124988526,
         18.79395309370011,
         17.665611403994262,
         19.352050851099193,
         19.732854624278843,
         18.18328116927296,
         19.14853384438902,
         18.84885632712394,
         19.640346731059253,
         18.51409414317459,
         19.264777190051973,
         19.428479524329305,
         19.273826039396226,
         18.2530565476045,
         18.847946119494736,
         17.99418825376779,
         18.15547465067357,
         18.730563349090517,
         18.665364225395024,
         19.03550905827433,
         18.68717921245843,
         19.333805908448994,
         18.45498460624367,
         19.902614927850664,
         18.214290528558195,
         18.430992857553065,
         19.513696829788387,
         17.698703792877495,
         19.300648021511734,
         18.750638182274997,
         19.56358307506889,
         18.070909860543907,
         18.935475355945528,
         18.555595313198864,
         19.72419340815395,
         19.307912209653296,
         17.776866612024605,
         19.22471287380904,
         19.18777420464903,
         18.728783370926976,
         18.43255080189556,
         18.462693599052727,
         18.88603995461017,
         19.027308407239616,
         19.586234469898045,
         18.515378003008664,
         19.733570168726146,
         18.362076769582927,
         18.70142711419612,
         17.988517069257796,
         18.78892611619085,
         18.972957470454276,
         19.464289751835167,
         18.255344462115318,
         20.296444063074887,
         19.49336425680667,
         17.94249617215246,
         18.987564683891833,
         19.320758595131338,
         19.39026822987944,
         18.96534272748977,
         18.6674085566774,
         18.77107649948448
        ],
        [
         2.7500891151452977,
         2.593821822300117,
         2.8003434172227952,
         2.6446003461273357,
         2.80873639944901,
         2.56165878715549,
         2.7650992920827,
         2.674865458233088,
         2.544537594586731,
         2.7238702186718586,
         2.643871954710238,
         2.748636394928562,
         2.707914354869542,
         2.845294524365756,
         2.7265078013135526,
         2.8431314375383026,
         2.588986204841944,
         2.8824692512164187,
         2.647955128919783,
         2.799827436289725,
         2.7081606491591845,
         2.7103871204755405,
         2.5646762426753056,
         2.792573698467149,
         2.73289634746218,
         2.7374772744322184,
         2.6451152793983033,
         2.923000879458392,
         2.8210432097422906,
         2.781666981519766,
         2.799840259159505,
         2.722362142018026,
         2.9733730225876585,
         2.7582731654692267,
         2.6070939056298887,
         2.7061487095922003,
         2.6118665466886686,
         2.7389645387244888,
         2.6044059686968906,
         2.682745530511397,
         2.6852289820916555,
         2.9720167489658533,
         2.637629752525681,
         2.6807040380287286,
         2.693075660622212,
         2.9451667197048317,
         2.687993778468993,
         2.7962610043583465,
         2.742059479604789,
         2.714982897423896,
         2.6718462653317387,
         2.768327160522206,
         2.777250191140647,
         2.6047525620624747,
         2.675663848843572,
         2.69457984986877,
         2.6879611739143296,
         2.6635607495604057,
         2.6598753562093322,
         2.6635423620849963,
         2.8081539225535743,
         2.734646445592979,
         2.5586813744265666,
         2.6790187569072876,
         2.4801463999927615,
         2.864146047433799,
         2.6096798860402575,
         2.969897514915396,
         2.5546355947843917,
         2.7191601647196997,
         2.684575631283401,
         2.836855058934265,
         2.7061045560130816,
         2.693004040787696,
         2.907546375051405,
         2.818054008208717,
         2.7156330170175966,
         2.7181609103658397,
         2.8114767587107194,
         2.8431512649309267,
         2.582766997342856,
         2.6853989841719765,
         2.9014422423431054,
         2.813765091101818,
         2.7122611959919802,
         2.6116986709900707,
         2.592132152169081,
         2.6904402015569335,
         2.713212801079122,
         2.797350405185268,
         2.6668258291187636,
         2.7967119641462563,
         2.8081563357916033,
         2.6099578097134657,
         2.7417087665814868,
         2.7194630609883723,
         2.751619011868436,
         2.7859250567314886,
         2.5517411557468526,
         2.689246727845509
        ]
       ],
       "encoder": "json",
       "name": "ABC_GAN_2 Metrics",
       "version": 1
      }
     },
     "metadata": {
      "scrapbook": {
       "data": true,
       "display": false,
       "name": "ABC_GAN_2 Metrics"
      }
     },
     "output_type": "display_data"
    },
    {
     "name": "stdout",
     "output_type": "stream",
     "text": [
      "MAE\n",
      "0.1848844488766889\n"
     ]
    }
   ],
   "source": [
    "ABC_GAN2_metrics=ABC_train_test2.test_generator(gen2,test_data,prior_model,variance,bias,\"1\",device)\n",
    "sb.glue(\"ABC_GAN_2 Metrics\",ABC_GAN2_metrics)\n",
    "\n",
    "print(\"MAE\")\n",
    "print(mean(ABC_GAN2_metrics[1]))"
   ]
  },
  {
   "cell_type": "code",
   "execution_count": 18,
   "id": "612374f5",
   "metadata": {
    "execution": {
     "iopub.execute_input": "2022-07-22T09:10:46.095769Z",
     "iopub.status.busy": "2022-07-22T09:10:46.095279Z",
     "iopub.status.idle": "2022-07-22T09:10:47.416440Z",
     "shell.execute_reply": "2022-07-22T09:10:47.415550Z"
    },
    "papermill": {
     "duration": 1.367743,
     "end_time": "2022-07-22T09:10:47.419335",
     "exception": false,
     "start_time": "2022-07-22T09:10:46.051592",
     "status": "completed"
    },
    "tags": []
   },
   "outputs": [
    {
     "data": {
      "image/png": "[encoded data removed]",
      "text/plain": [
       "<Figure size 432x288 with 1 Axes>"
      ]
     },
     "metadata": {
      "needs_background": "light"
     },
     "output_type": "display_data"
    },
    {
     "data": {
      "image/png": "[encoded data removed]",
      "text/plain": [
       "<Figure size 432x288 with 1 Axes>"
      ]
     },
     "metadata": {
      "needs_background": "light"
     },
     "output_type": "display_data"
    },
    {
     "data": {
      "image/png": "[encoded data removed]",
      "text/plain": [
       "<Figure size 432x288 with 1 Axes>"
      ]
     },
     "metadata": {
      "needs_background": "light"
     },
     "output_type": "display_data"
    },
    {
     "data": {
      "image/png": "[encoded data removed]",
      "text/plain": [
       "<Figure size 432x288 with 1 Axes>"
      ]
     },
     "metadata": {
      "needs_background": "light"
     },
     "output_type": "display_data"
    }
   ],
   "source": [
    "sanityChecks.discProbVsError(train_data,disc2,device)\n",
    "sanityChecks.discProbVsError(test_data,disc2,device)"
   ]
  },
  {
   "cell_type": "markdown",
   "id": "130f3a4d",
   "metadata": {
    "id": "130f3a4d",
    "papermill": {
     "duration": 0.057715,
     "end_time": "2022-07-22T09:10:47.524298",
     "exception": false,
     "start_time": "2022-07-22T09:10:47.466583",
     "status": "completed"
    },
    "tags": []
   },
   "source": [
    "# skipGAN Model"
   ]
  },
  {
   "cell_type": "code",
   "execution_count": 19,
   "id": "4e43dad1",
   "metadata": {
    "execution": {
     "iopub.execute_input": "2022-07-22T09:10:47.650676Z",
     "iopub.status.busy": "2022-07-22T09:10:47.649986Z",
     "iopub.status.idle": "2022-07-22T09:10:47.660572Z",
     "shell.execute_reply": "2022-07-22T09:10:47.658941Z"
    },
    "id": "4e43dad1",
    "papermill": {
     "duration": 0.091963,
     "end_time": "2022-07-22T09:10:47.667143",
     "exception": false,
     "start_time": "2022-07-22T09:10:47.575180",
     "status": "completed"
    },
    "tags": []
   },
   "outputs": [],
   "source": [
    "#Generator\n",
    "gen3 = network.GeneratorWithSkipConnection(n_features+1).to(device)\n",
    "constraints=network.weightConstraint()\n",
    "#Discriminator \n",
    "disc3 = network.Discriminator(n_features+1).to(device)\n",
    "\n",
    "criterion = torch.nn.BCELoss()\n",
    "gen_opt = torch.optim.Adam(gen3.parameters(), lr=0.01, betas=(0.5, 0.999))\n",
    "disc_opt = torch.optim.Adam(disc3.parameters(), lr=0.01, betas=(0.5, 0.999))\n"
   ]
  },
  {
   "cell_type": "code",
   "execution_count": 20,
   "id": "26acbc37",
   "metadata": {
    "execution": {
     "iopub.execute_input": "2022-07-22T09:10:47.880337Z",
     "iopub.status.busy": "2022-07-22T09:10:47.879959Z",
     "iopub.status.idle": "2022-07-22T09:19:53.593904Z",
     "shell.execute_reply": "2022-07-22T09:19:53.592040Z"
    },
    "id": "26acbc37",
    "papermill": {
     "duration": 545.782352,
     "end_time": "2022-07-22T09:19:53.599189",
     "exception": false,
     "start_time": "2022-07-22T09:10:47.816837",
     "status": "completed"
    },
    "tags": []
   },
   "outputs": [
    {
     "data": {
      "image/png": "[encoded data removed]",
      "text/plain": [
       "<Figure size 432x288 with 1 Axes>"
      ]
     },
     "metadata": {
      "needs_background": "light"
     },
     "output_type": "display_data"
    },
    {
     "data": {
      "image/png": "[encoded data removed]",
      "text/plain": [
       "<Figure size 432x288 with 1 Axes>"
      ]
     },
     "metadata": {
      "needs_background": "light"
     },
     "output_type": "display_data"
    }
   ],
   "source": [
    "ABC_train_test2.training_GAN_skip_connection(disc3,gen3,disc_opt,gen_opt,train_data,batch_size,n_epochs,criterion,prior_model,variance,bias,device)"
   ]
  },
  {
   "cell_type": "code",
   "execution_count": 21,
   "id": "c5e0717b",
   "metadata": {
    "execution": {
     "iopub.execute_input": "2022-07-22T09:19:53.726030Z",
     "iopub.status.busy": "2022-07-22T09:19:53.725458Z",
     "iopub.status.idle": "2022-07-22T09:19:57.455277Z",
     "shell.execute_reply": "2022-07-22T09:19:57.454169Z"
    },
    "id": "c5e0717b",
    "papermill": {
     "duration": 3.815741,
     "end_time": "2022-07-22T09:19:57.458036",
     "exception": false,
     "start_time": "2022-07-22T09:19:53.642295",
     "status": "completed"
    },
    "tags": []
   },
   "outputs": [
    {
     "data": {
      "application/scrapbook.scrap.json+json": {
       "data": 0.11887843539746518,
       "encoder": "json",
       "name": "ABC-GAN Model 3 MSE",
       "version": 1
      }
     },
     "metadata": {
      "scrapbook": {
       "data": true,
       "display": false,
       "name": "ABC-GAN Model 3 MSE"
      }
     },
     "output_type": "display_data"
    },
    {
     "data": {
      "application/scrapbook.scrap.json+json": {
       "data": 0.22116348062276694,
       "encoder": "json",
       "name": "ABC-GAN Model 3 MAE",
       "version": 1
      }
     },
     "metadata": {
      "scrapbook": {
       "data": true,
       "display": false,
       "name": "ABC-GAN Model 3 MAE"
      }
     },
     "output_type": "display_data"
    },
    {
     "data": {
      "application/scrapbook.scrap.json+json": {
       "data": 22.558675023522227,
       "encoder": "json",
       "name": "ABC-GAN Model 3 Manhattan Distance",
       "version": 1
      }
     },
     "metadata": {
      "scrapbook": {
       "data": true,
       "display": false,
       "name": "ABC-GAN Model 3 Manhattan Distance"
      }
     },
     "output_type": "display_data"
    },
    {
     "data": {
      "application/scrapbook.scrap.json+json": {
       "data": 3.481552984671184,
       "encoder": "json",
       "name": "ABC-GAN Model 3 Euclidean distance",
       "version": 1
      }
     },
     "metadata": {
      "scrapbook": {
       "data": true,
       "display": false,
       "name": "ABC-GAN Model 3 Euclidean distance"
      }
     },
     "output_type": "display_data"
    },
    {
     "data": {
      "application/scrapbook.scrap.json+json": {
       "data": [
        [
         0.11745063909555634,
         0.12047870961778127,
         0.12092429795990559,
         0.11341334868242622,
         0.11171336768076279,
         0.1145201206503415,
         0.11480236997230689,
         0.12204121571369395,
         0.127917006255968,
         0.11812540523140387,
         0.11091810358009131,
         0.12187889594911795,
         0.11914858751604301,
         0.11260014565734368,
         0.11386767877319068,
         0.12334675170347265,
         0.11614734427914963,
         0.12509129502677557,
         0.1228873568654279,
         0.1139552394528064,
         0.11542996795107537,
         0.12776948959100976,
         0.11612995758541818,
         0.1264816630694337,
         0.11812891500785672,
         0.11530092052402069,
         0.11786955598878798,
         0.12477526199136293,
         0.11529881658013234,
         0.11987059271300912,
         0.11743622877081883,
         0.1303998018252621,
         0.11874601656124016,
         0.11447603343168197,
         0.12239001832907821,
         0.12113388416372123,
         0.11695720956432125,
         0.11279131456211303,
         0.12211984259919306,
         0.1144466271114463,
         0.12038777128886131,
         0.11771066579491837,
         0.11604648219805654,
         0.11394517774801301,
         0.12050627434181783,
         0.11686254728392086,
         0.12466760252761606,
         0.11899830369597338,
         0.12139286379701889,
         0.12172288644245882,
         0.1141183060085918,
         0.11918932850393163,
         0.11932130834977872,
         0.12063232300953235,
         0.11871997819051854,
         0.12783629013831435,
         0.11682390544395933,
         0.11858396833707663,
         0.12219382230712354,
         0.11692304055586196,
         0.11822015523584406,
         0.11863928579777128,
         0.11954927810865207,
         0.11401205693003201,
         0.11969401508461015,
         0.11711722520451108,
         0.11248674797870159,
         0.1201195089229302,
         0.11904975010384318,
         0.11869225515837876,
         0.1138623768306594,
         0.11282596000648787,
         0.11614109036827285,
         0.1129994834773951,
         0.11852083114301482,
         0.11692728755182497,
         0.11798790820955224,
         0.11042417962277923,
         0.12111422243574871,
         0.12442390798036979,
         0.11416087399911755,
         0.11927290817756536,
         0.12756293523583526,
         0.11983869527252924,
         0.12056081546667778,
         0.11741225775028886,
         0.11690239448180649,
         0.11846498107737088,
         0.11783951306711879,
         0.11623204640749889,
         0.1167962556363276,
         0.12180903910402277,
         0.12193427590432655,
         0.11837893214930068,
         0.11717342802830297,
         0.11855477766768803,
         0.12329134310944319,
         0.11786211246965536,
         0.1405900832177011,
         0.12463550182466951
        ],
        [
         0.219111148277115,
         0.22487809038812331,
         0.2247426684160589,
         0.21794827739872477,
         0.22058735810695032,
         0.22066297949127414,
         0.21935839541073815,
         0.23007016618936962,
         0.22647050013035244,
         0.222548572136564,
         0.21435120395914303,
         0.21944678499016398,
         0.21968840830502848,
         0.22097475137378947,
         0.21440974225783171,
         0.22685630781137767,
         0.21624113890506766,
         0.22774465379359968,
         0.22633763513180846,
         0.20996499902513974,
         0.2139549590921139,
         0.22784962887674862,
         0.22197051646699215,
         0.22647867042242603,
         0.2187509010180685,
         0.22058025112959975,
         0.21902728220447898,
         0.2268517086483246,
         0.21711544372031794,
         0.22527928563638352,
         0.22003403053089393,
         0.2305696800844196,
         0.21896649295391113,
         0.21851200808533558,
         0.22045469040270238,
         0.22223841312213563,
         0.22555016833083594,
         0.22063554000730315,
         0.22333982350377768,
         0.21914181101373306,
         0.21888940780441843,
         0.21701730847103046,
         0.212617109082274,
         0.21914235448610841,
         0.22184492210291473,
         0.21587878948661918,
         0.22531839406263887,
         0.22317712495614792,
         0.2185181095995301,
         0.22193625877045242,
         0.2180173545436678,
         0.22110335968033062,
         0.2248692504385961,
         0.22502992069348693,
         0.21922334974777757,
         0.22958078291084544,
         0.21849387417565666,
         0.21697184126641528,
         0.22798473268345582,
         0.2167605767300462,
         0.22115661924266639,
         0.2208607138463241,
         0.21995210863978548,
         0.21689973326911235,
         0.224372619425184,
         0.22149622200203,
         0.212704847009816,
         0.22363458384814508,
         0.22851544860567824,
         0.2199057186588499,
         0.21681218308524466,
         0.21253822416103646,
         0.22023890526307857,
         0.22030214933386327,
         0.2247793069383239,
         0.22407772889652966,
         0.21270654095775066,
         0.2059042375881736,
         0.22299135024385416,
         0.2196106931979896,
         0.22085386621491873,
         0.21798154533676364,
         0.22922822804756315,
         0.2209731010336648,
         0.2239790904773947,
         0.21757926728905125,
         0.223618243757051,
         0.22046876268680482,
         0.21577803093903497,
         0.21740111804512494,
         0.22708354697690583,
         0.22560396639849334,
         0.22515208771744488,
         0.21965263759279074,
         0.21097694060710423,
         0.22252987395497223,
         0.23304879195148162,
         0.22512382488953425,
         0.2286597651465997,
         0.2291255305594235
        ],
        [
         22.34933712426573,
         22.937565219588578,
         22.923752178438008,
         22.230724294669926,
         22.499910526908934,
         22.507623908109963,
         22.374556331895292,
         23.4671569513157,
         23.09999101329595,
         22.699954357929528,
         21.86382280383259,
         22.383572068996727,
         22.408217647112906,
         22.539424640126526,
         21.869793710298836,
         23.139343396760523,
         22.0565961683169,
         23.229954686947167,
         23.086438783444464,
         21.416429900564253,
         21.823405827395618,
         23.24066214542836,
         22.6409926796332,
         23.100824383087456,
         22.312591903842986,
         22.499185615219176,
         22.340782784856856,
         23.13887428212911,
         22.14577525947243,
         22.97848713491112,
         22.44347111415118,
         23.5181073686108,
         22.334582281298935,
         22.28822482470423,
         22.486378421075642,
         22.668318138457835,
         23.006117169745266,
         22.504825080744922,
         22.780661997385323,
         22.35246472340077,
         22.32671959605068,
         22.135765464045107,
         21.686945126391947,
         22.352520157583058,
         22.6281820544973,
         22.019636527635157,
         22.982476194389164,
         22.76406674552709,
         22.28884717915207,
         22.637498394586146,
         22.237770163454115,
         22.552542687393725,
         22.936663544736803,
         22.953051910735667,
         22.360781674273312,
         23.417239856906235,
         22.28637516591698,
         22.13112780917436,
         23.254442733712494,
         22.109578826464713,
         22.557975162751973,
         22.52779281232506,
         22.435115081258118,
         22.12377279344946,
         22.886007181368768,
         22.59261464420706,
         21.695894395001233,
         22.810727552510798,
         23.30857575777918,
         22.43038330320269,
         22.114842674694955,
         21.67889886442572,
         22.464368336834013,
         22.470819232054055,
         22.92748930770904,
         22.855928347446024,
         21.696067177690566,
         21.00223223399371,
         22.745117724873126,
         22.400290706194937,
         22.52709435392171,
         22.234117624349892,
         23.381279260851443,
         22.53925630543381,
         22.84586722869426,
         22.193085263483226,
         22.8090608632192,
         22.48781379405409,
         22.009359155781567,
         22.174914040602744,
         23.162521791644394,
         23.01160457264632,
         22.965512947179377,
         22.404569034464657,
         21.51964794192463,
         22.698047143407166,
         23.770976779051125,
         22.962630138732493,
         23.323296044953167,
         23.370804117061198
        ],
        [
         3.4612086310632515,
         3.5055425230645376,
         3.5120191331925232,
         3.40120001846517,
         3.375613055940772,
         3.417755448585347,
         3.4219646019757857,
         3.5282012418223516,
         3.6121371289181043,
         3.4711368935268436,
         3.363576454485509,
         3.525854135781857,
         3.4861376803902027,
         3.388984340041873,
         3.4080057562840826,
         3.547022508210824,
         3.44195135300795,
         3.5720179300685353,
         3.540411049620318,
         3.4093158293397,
         3.4313053975141408,
         3.6100537306642675,
         3.441693721659824,
         3.591814253699966,
         3.471188460859103,
         3.4293868101236566,
         3.4673757671842216,
         3.567502869391841,
         3.429355521256654,
         3.496684208893753,
         3.460996292200198,
         3.6470234145363976,
         3.480243337648461,
         3.417097512514321,
         3.533239571493273,
         3.5150613344150288,
         3.4539304242501414,
         3.39185997431137,
         3.529337607132206,
         3.4166585965483183,
         3.5042192670356473,
         3.4650379378993343,
         3.440456537176681,
         3.4091653128437946,
         3.505943522486553,
         3.4525323782638053,
         3.5659634683794557,
         3.483938428989423,
         3.5188168618579625,
         3.523596801157987,
         3.4117542720536553,
         3.4867336444588104,
         3.4886635624085955,
         3.5077766386947014,
         3.4798617465975408,
         3.610997312946668,
         3.4519615228568017,
         3.47786784832055,
         3.5304064745191313,
         3.453425855103584,
         3.4725287376861402,
         3.4786789376676683,
         3.49199461154832,
         3.410165656806611,
         3.494107831568772,
         3.4562923734632363,
         3.387277416130476,
         3.500312830325152,
         3.4846914512754217,
         3.479455420917852,
         3.407926413044634,
         3.3923808631493255,
         3.4418586864605336,
         3.3949885588458604,
         3.476941871327088,
         3.4534885739330523,
         3.469116117597439,
         3.3560790100239704,
         3.514776050966314,
         3.5624764720623365,
         3.4123905327365427,
         3.4879559392445976,
         3.6071345128862604,
         3.4962189459182866,
         3.506736827536553,
         3.4606430458123625,
         3.4531209415750648,
         3.4761225625532584,
         3.466933851812883,
         3.4432061706445762,
         3.451552994654061,
         3.524843541011476,
         3.5266550926113123,
         3.4748598646893187,
         3.4571215857830193,
         3.477439765417105,
         3.5462257397355863,
         3.4672662822322784,
         3.786844133075127,
         3.5655043382551495
        ]
       ],
       "encoder": "json",
       "name": "ABC_GAN_3 Metrics",
       "version": 1
      }
     },
     "metadata": {
      "scrapbook": {
       "data": true,
       "display": false,
       "name": "ABC_GAN_3 Metrics"
      }
     },
     "output_type": "display_data"
    },
    {
     "name": "stdout",
     "output_type": "stream",
     "text": [
      "MAE\n",
      "0.22116348062276694\n"
     ]
    }
   ],
   "source": [
    "ABC_GAN3_metrics=ABC_train_test2.test_generator(gen3,test_data,prior_model,variance,bias,\"3\",device)\n",
    "sb.glue(\"ABC_GAN_3 Metrics\",ABC_GAN3_metrics)\n",
    "\n",
    "print(\"MAE\")\n",
    "print(mean(ABC_GAN3_metrics[1]))"
   ]
  },
  {
   "cell_type": "code",
   "execution_count": 22,
   "id": "c8e46b48",
   "metadata": {
    "execution": {
     "iopub.execute_input": "2022-07-22T09:19:57.552194Z",
     "iopub.status.busy": "2022-07-22T09:19:57.551807Z",
     "iopub.status.idle": "2022-07-22T09:19:58.459610Z",
     "shell.execute_reply": "2022-07-22T09:19:58.458582Z"
    },
    "id": "c8e46b48",
    "papermill": {
     "duration": 0.959702,
     "end_time": "2022-07-22T09:19:58.462494",
     "exception": false,
     "start_time": "2022-07-22T09:19:57.502792",
     "status": "completed"
    },
    "tags": []
   },
   "outputs": [
    {
     "data": {
      "image/png": "[encoded data removed]",
      "text/plain": [
       "<Figure size 432x288 with 1 Axes>"
      ]
     },
     "metadata": {
      "needs_background": "light"
     },
     "output_type": "display_data"
    },
    {
     "data": {
      "image/png": "[encoded data removed]",
      "text/plain": [
       "<Figure size 432x288 with 1 Axes>"
      ]
     },
     "metadata": {
      "needs_background": "light"
     },
     "output_type": "display_data"
    },
    {
     "data": {
      "image/png": "[encoded data removed]",
      "text/plain": [
       "<Figure size 432x288 with 1 Axes>"
      ]
     },
     "metadata": {
      "needs_background": "light"
     },
     "output_type": "display_data"
    },
    {
     "data": {
      "image/png": "[encoded data removed]",
      "text/plain": [
       "<Figure size 432x288 with 1 Axes>"
      ]
     },
     "metadata": {
      "needs_background": "light"
     },
     "output_type": "display_data"
    }
   ],
   "source": [
    "sanityChecks.discProbVsError(train_data,disc3,device)\n",
    "sanityChecks.discProbVsError(test_data,disc3,device)"
   ]
  },
  {
   "cell_type": "markdown",
   "id": "190c489b",
   "metadata": {
    "id": "130f3a4d",
    "papermill": {
     "duration": 0.070786,
     "end_time": "2022-07-22T09:19:58.582886",
     "exception": false,
     "start_time": "2022-07-22T09:19:58.512100",
     "status": "completed"
    },
    "tags": []
   },
   "source": [
    "# skipGAN Model with TabNet Generator"
   ]
  },
  {
   "cell_type": "code",
   "execution_count": 23,
   "id": "65dd1dcf",
   "metadata": {
    "execution": {
     "iopub.execute_input": "2022-07-22T09:19:58.861825Z",
     "iopub.status.busy": "2022-07-22T09:19:58.860350Z",
     "iopub.status.idle": "2022-07-22T09:19:58.882907Z",
     "shell.execute_reply": "2022-07-22T09:19:58.881662Z"
    },
    "id": "4e43dad1",
    "papermill": {
     "duration": 0.079729,
     "end_time": "2022-07-22T09:19:58.886105",
     "exception": false,
     "start_time": "2022-07-22T09:19:58.806376",
     "status": "completed"
    },
    "tags": []
   },
   "outputs": [],
   "source": [
    "#Generator\n",
    "gen4 = network.GeneratorTabnetskipConnection(n_features+1).to(device)\n",
    "constraints=network.weightConstraint()\n",
    "#Discriminator \n",
    "disc4 = network.Discriminator(n_features+1).to(device)\n",
    "\n",
    "criterion = torch.nn.BCELoss()\n",
    "gen_opt = torch.optim.Adam(gen4.parameters(), lr=0.01, betas=(0.5, 0.999))\n",
    "disc_opt = torch.optim.Adam(disc4.parameters(), lr=0.01, betas=(0.5, 0.999))\n"
   ]
  },
  {
   "cell_type": "code",
   "execution_count": 24,
   "id": "15cf0a94",
   "metadata": {
    "execution": {
     "iopub.execute_input": "2022-07-22T09:19:59.039073Z",
     "iopub.status.busy": "2022-07-22T09:19:59.038084Z",
     "iopub.status.idle": "2022-07-22T09:41:58.061128Z",
     "shell.execute_reply": "2022-07-22T09:41:58.055963Z"
    },
    "id": "26acbc37",
    "papermill": {
     "duration": 1319.131769,
     "end_time": "2022-07-22T09:41:58.071827",
     "exception": false,
     "start_time": "2022-07-22T09:19:58.940058",
     "status": "completed"
    },
    "tags": []
   },
   "outputs": [
    {
     "data": {
      "image/png": "[encoded data removed]",
      "text/plain": [
       "<Figure size 432x288 with 1 Axes>"
      ]
     },
     "metadata": {
      "needs_background": "light"
     },
     "output_type": "display_data"
    },
    {
     "data": {
      "image/png": "[encoded data removed]",
      "text/plain": [
       "<Figure size 432x288 with 1 Axes>"
      ]
     },
     "metadata": {
      "needs_background": "light"
     },
     "output_type": "display_data"
    }
   ],
   "source": [
    "ABC_train_test2.training_GAN_skip_connection(disc4,gen4,disc_opt,gen_opt,train_data,batch_size,n_epochs,criterion,prior_model,variance,bias,device)"
   ]
  },
  {
   "cell_type": "code",
   "execution_count": 25,
   "id": "8f3c8e55",
   "metadata": {
    "execution": {
     "iopub.execute_input": "2022-07-22T09:41:58.185261Z",
     "iopub.status.busy": "2022-07-22T09:41:58.184694Z",
     "iopub.status.idle": "2022-07-22T09:42:02.756633Z",
     "shell.execute_reply": "2022-07-22T09:42:02.754481Z"
    },
    "id": "c5e0717b",
    "papermill": {
     "duration": 4.636112,
     "end_time": "2022-07-22T09:42:02.760806",
     "exception": false,
     "start_time": "2022-07-22T09:41:58.124694",
     "status": "completed"
    },
    "tags": []
   },
   "outputs": [
    {
     "data": {
      "application/scrapbook.scrap.json+json": {
       "data": 0.12736678775958316,
       "encoder": "json",
       "name": "ABC-GAN Model 3 MSE",
       "version": 1
      }
     },
     "metadata": {
      "scrapbook": {
       "data": true,
       "display": false,
       "name": "ABC-GAN Model 3 MSE"
      }
     },
     "output_type": "display_data"
    },
    {
     "data": {
      "application/scrapbook.scrap.json+json": {
       "data": 0.23253322712821411,
       "encoder": "json",
       "name": "ABC-GAN Model 3 MAE",
       "version": 1
      }
     },
     "metadata": {
      "scrapbook": {
       "data": true,
       "display": false,
       "name": "ABC-GAN Model 3 MAE"
      }
     },
     "output_type": "display_data"
    },
    {
     "data": {
      "application/scrapbook.scrap.json+json": {
       "data": 23.718389167077838,
       "encoder": "json",
       "name": "ABC-GAN Model 3 Manhattan Distance",
       "version": 1
      }
     },
     "metadata": {
      "scrapbook": {
       "data": true,
       "display": false,
       "name": "ABC-GAN Model 3 Manhattan Distance"
      }
     },
     "output_type": "display_data"
    },
    {
     "data": {
      "application/scrapbook.scrap.json+json": {
       "data": 3.603408198898298,
       "encoder": "json",
       "name": "ABC-GAN Model 3 Euclidean distance",
       "version": 1
      }
     },
     "metadata": {
      "scrapbook": {
       "data": true,
       "display": false,
       "name": "ABC-GAN Model 3 Euclidean distance"
      }
     },
     "output_type": "display_data"
    },
    {
     "data": {
      "application/scrapbook.scrap.json+json": {
       "data": [
        [
         0.12734655058357827,
         0.1255643095679575,
         0.1215646276330076,
         0.1148426424925663,
         0.13630916688534236,
         0.1257752764378726,
         0.12834548511470678,
         0.12649066700485176,
         0.13343988770382215,
         0.12701851170870973,
         0.1275407788113986,
         0.12336930709416674,
         0.1302334165997323,
         0.12140635366058238,
         0.11761081214755978,
         0.13557399636527123,
         0.12624437382738118,
         0.1366792093562119,
         0.11582965995104787,
         0.12528199004168913,
         0.12893120050875675,
         0.14220992396948132,
         0.13745747054320295,
         0.1250500558213059,
         0.13438128057627097,
         0.12904647301715988,
         0.13192329283071702,
         0.1244592513552787,
         0.12811602185853369,
         0.12964581120890692,
         0.13049983659450062,
         0.12207245993487373,
         0.13840568236349168,
         0.12450507895739403,
         0.1300780612604155,
         0.12384011904606917,
         0.12576060324756994,
         0.13292047892150674,
         0.12094715261179731,
         0.13236134419301873,
         0.12729463896098295,
         0.12733369344549936,
         0.1282018996902329,
         0.12420013857879969,
         0.11848033165039577,
         0.12497298135573963,
         0.1397219801098745,
         0.11911890212542674,
         0.1395528618203778,
         0.13167197889280785,
         0.1228843899351244,
         0.13155156073095603,
         0.12205485604844278,
         0.130451266832196,
         0.13102119095839732,
         0.1154517580881219,
         0.13535894854191843,
         0.12316206172229821,
         0.1328443026515207,
         0.11953252119913103,
         0.13418807592904186,
         0.11946274652681584,
         0.12287502250423554,
         0.1262929811023692,
         0.1259156215848722,
         0.12507639301107148,
         0.11984278965215406,
         0.12217534863205229,
         0.1263721243542019,
         0.12654517679263796,
         0.11849298272045569,
         0.12412936319765475,
         0.1233009383483418,
         0.1250077785054135,
         0.13261225500373144,
         0.1393586570854731,
         0.1250383001824677,
         0.13495629922402094,
         0.13034651501237748,
         0.12779153736253634,
         0.1216199652913091,
         0.1269848589533837,
         0.12137433257757348,
         0.12971679009131365,
         0.13929709792152045,
         0.1272279368935068,
         0.1264321384078685,
         0.12793827567335972,
         0.12063306771375493,
         0.13301640949450752,
         0.12141807757237975,
         0.12591898191217132,
         0.13825647673026906,
         0.12838153484082848,
         0.12450534716561906,
         0.12629408120440236,
         0.12475763665872676,
         0.12928058435913276,
         0.12899781809558983,
         0.12090557252322238
        ],
        [
         0.22848318198549689,
         0.23177433425706684,
         0.2305449360123306,
         0.21949801932764695,
         0.23638042138305074,
         0.23198526596431346,
         0.23472210504662464,
         0.23124929702859007,
         0.23850382136765355,
         0.23196736214609415,
         0.22573213303899942,
         0.2293215199264095,
         0.23963600940381488,
         0.23123404013869517,
         0.22483192861774096,
         0.24554674695337228,
         0.2305855901784026,
         0.24013847539055289,
         0.22322285214585125,
         0.23083925542111197,
         0.23497953107945768,
         0.2512989804860862,
         0.24173284832424685,
         0.22940129234327697,
         0.23813391406563858,
         0.23279513896205553,
         0.2417569289294382,
         0.23013242767831565,
         0.22960384674918125,
         0.2321624367534384,
         0.23796307407867381,
         0.2268818162071208,
         0.244673194865897,
         0.23477431053441822,
         0.23293304804018608,
         0.2315893846965742,
         0.2329671671705357,
         0.2345319900424311,
         0.22267189631969028,
         0.24031160117181785,
         0.23033920225376883,
         0.23207257194079312,
         0.23246108275819935,
         0.22516850618572504,
         0.2179006550954107,
         0.23427157661895834,
         0.2381105608781617,
         0.22844010185194658,
         0.24145350111283215,
         0.23550786022279485,
         0.23345963323634922,
         0.23906991604313838,
         0.22422481535513902,
         0.23084762644059226,
         0.23589286941341034,
         0.21823845645778028,
         0.24101225676599378,
         0.22659458843625935,
         0.23731081906304347,
         0.23002024976463586,
         0.2407762370547097,
         0.23004459271061362,
         0.22841157350579605,
         0.2270156682249816,
         0.23286537821495942,
         0.23211636875445643,
         0.22230763020286082,
         0.22370106327877032,
         0.22822422829146186,
         0.23100818900902773,
         0.22400801207906768,
         0.2266406991299899,
         0.23467377473728038,
         0.22970828365571067,
         0.2464903576536944,
         0.24543323005348736,
         0.23687462379936786,
         0.242436729033715,
         0.2366909531091212,
         0.23074658400397383,
         0.2186119243338266,
         0.2257901092206,
         0.22486815268319904,
         0.230361531497728,
         0.2514709380601405,
         0.23314720504533717,
         0.23589678893011867,
         0.23476606171906872,
         0.23333622941601218,
         0.2300841150458391,
         0.22811673788865114,
         0.22326442163766308,
         0.23639684691842572,
         0.23601866720755602,
         0.22534901666108006,
         0.23095117870024315,
         0.22968709172096616,
         0.2323001043451037,
         0.2396293372628005,
         0.2332131038967739
        ],
        [
         23.305284562520683,
         23.640982094220817,
         23.51558347325772,
         22.38879797141999,
         24.110802981071174,
         23.662497128359973,
         23.941654714755714,
         23.587428296916187,
         24.327389779500663,
         23.660670938901603,
         23.02467756997794,
         23.39079503249377,
         24.442872959189117,
         23.585872094146907,
         22.93285671900958,
         25.045768189243972,
         23.519730198197067,
         24.494124489836395,
         22.768730918876827,
         23.545604052953422,
         23.967912170104682,
         25.63249600958079,
         24.65675052907318,
         23.39893181901425,
         24.289659234695137,
         23.745104174129665,
         24.659206750802696,
         23.473507623188198,
         23.419592368416488,
         23.680568548850715,
         24.27223355602473,
         23.141945253126323,
         24.956665876321495,
         23.946979674510658,
         23.75917090009898,
         23.622117239050567,
         23.76265105139464,
         23.922262984327972,
         22.71253342460841,
         24.51178331952542,
         23.494598629884422,
         23.6714023379609,
         23.711030441336334,
         22.967187630943954,
         22.22586681973189,
         23.89570081513375,
         24.287277209572494,
         23.30089038889855,
         24.62825711350888,
         24.021801742725074,
         23.81288259010762,
         24.385131436400115,
         22.87093116622418,
         23.54645789694041,
         24.061072680167854,
         22.260322558693588,
         24.583250190131366,
         23.112648020498455,
         24.205703544430435,
         23.46206547599286,
         24.55917617958039,
         23.46454845648259,
         23.297980497591197,
         23.155598158948123,
         23.75226857792586,
         23.675869612954557,
         22.675378280691803,
         22.817508454434574,
         23.27887128572911,
         23.56283527892083,
         22.848817232064903,
         23.11735131125897,
         23.936725023202598,
         23.430244932882488,
         25.14201648067683,
         25.03418946545571,
         24.161211627535522,
         24.72854636143893,
         24.142477217130363,
         23.53615156840533,
         22.29841628205031,
         23.0305911405012,
         22.9365515736863,
         23.496876212768257,
         25.65003568213433,
         23.781014914624393,
         24.061472470872104,
         23.94613829534501,
         23.800295400433242,
         23.468579734675586,
         23.267907264642417,
         22.772971007041633,
         24.112478385679424,
         24.073904055170715,
         22.985599699430168,
         23.5570202274248,
         23.428083355538547,
         23.694610643200576,
         24.442192400805652,
         23.78773659747094
        ],
        [
         3.6040738282567104,
         3.5787650909121793,
         3.5213054423845103,
         3.422564759685603,
         3.72874442973837,
         3.581770260173452,
         3.6181817922404194,
         3.591942097876145,
         3.6892910627639366,
         3.599428870569383,
         3.6068212374281403,
         3.547346800582798,
         3.644695939742121,
         3.51901237187075,
         3.4635679348110227,
         3.7186755208350286,
         3.588443413291183,
         3.7338022650287224,
         3.437240945148722,
         3.574739568731167,
         3.626428332656414,
         3.808597149199046,
         3.7444174440634543,
         3.5714290828424975,
         3.702281812447511,
         3.6280490966565355,
         3.668266057517248,
         3.5629824077924424,
         3.614945951127132,
         3.636464318992901,
         3.6484220332410913,
         3.5286528468180482,
         3.757310155027949,
         3.563638316896678,
         3.642521413603821,
         3.5541091911615563,
         3.581561325909712,
         3.682103861923735,
         3.512351002733544,
         3.674351249906289,
         3.6033391699950004,
         3.6038918867581096,
         3.616157320748609,
         3.5592715736562677,
         3.4763477714895514,
         3.5703282899875517,
         3.7751346957700984,
         3.4857033747571706,
         3.772849308636449,
         3.664770367576446,
         3.540368310413859,
         3.6630942104397914,
         3.5283984067762484,
         3.647743030544228,
         3.6557025970060155,
         3.4316292522631917,
         3.7157250640050963,
         3.5443659934711063,
         3.6810486101728,
         3.4917498710977797,
         3.699619405393244,
         3.4907306034317824,
         3.5402333673688835,
         3.5891341675175163,
         3.5837680451805136,
         3.5718051580579373,
         3.4962786708899096,
         3.5301395950400214,
         3.5902585817916504,
         3.5927159688526826,
         3.4765333649321533,
         3.5582573046592323,
         3.5463637308559957,
         3.5708253118224884,
         3.677832243371169,
         3.770223205954557,
         3.57126120839847,
         3.7101944047246533,
         3.6462781752442455,
         3.610365190805316,
         3.5221068211673434,
         3.598952015968695,
         3.5185482692315726,
         3.6374596340459897,
         3.7693904000507943,
         3.6023949760038363,
         3.5911109865336344,
         3.6124374207289307,
         3.5077874660251296,
         3.6834323352601124,
         3.5191822789367895,
         3.583815865113814,
         3.755284360269863,
         3.6186898946669226,
         3.5636421552806254,
         3.5891497994440185,
         3.567250893782231,
         3.6313385417269393,
         3.6273650830527333,
         3.5117472000940904
        ]
       ],
       "encoder": "json",
       "name": "ABC_GAN_4 Metrics",
       "version": 1
      }
     },
     "metadata": {
      "scrapbook": {
       "data": true,
       "display": false,
       "name": "ABC_GAN_4 Metrics"
      }
     },
     "output_type": "display_data"
    },
    {
     "name": "stdout",
     "output_type": "stream",
     "text": [
      "MAE\n",
      "0.23253322712821411\n"
     ]
    }
   ],
   "source": [
    "ABC_GAN4_metrics=ABC_train_test2.test_generator(gen4,test_data,prior_model,variance,bias,\"3\",device)\n",
    "sb.glue(\"ABC_GAN_4 Metrics\",ABC_GAN4_metrics)\n",
    "\n",
    "print(\"MAE\")\n",
    "print(mean(ABC_GAN4_metrics[1]))"
   ]
  },
  {
   "cell_type": "code",
   "execution_count": 26,
   "id": "767a69e4",
   "metadata": {
    "execution": {
     "iopub.execute_input": "2022-07-22T09:42:02.865879Z",
     "iopub.status.busy": "2022-07-22T09:42:02.865505Z",
     "iopub.status.idle": "2022-07-22T09:42:03.743183Z",
     "shell.execute_reply": "2022-07-22T09:42:03.742177Z"
    },
    "id": "c8e46b48",
    "papermill": {
     "duration": 0.936267,
     "end_time": "2022-07-22T09:42:03.746076",
     "exception": false,
     "start_time": "2022-07-22T09:42:02.809809",
     "status": "completed"
    },
    "tags": []
   },
   "outputs": [
    {
     "data": {
      "image/png": "[encoded data removed]",
      "text/plain": [
       "<Figure size 432x288 with 1 Axes>"
      ]
     },
     "metadata": {
      "needs_background": "light"
     },
     "output_type": "display_data"
    },
    {
     "data": {
      "image/png": "[encoded data removed]",
      "text/plain": [
       "<Figure size 432x288 with 1 Axes>"
      ]
     },
     "metadata": {
      "needs_background": "light"
     },
     "output_type": "display_data"
    },
    {
     "data": {
      "image/png": "[encoded data removed]",
      "text/plain": [
       "<Figure size 432x288 with 1 Axes>"
      ]
     },
     "metadata": {
      "needs_background": "light"
     },
     "output_type": "display_data"
    },
    {
     "data": {
      "image/png": "[encoded data removed]",
      "text/plain": [
       "<Figure size 432x288 with 1 Axes>"
      ]
     },
     "metadata": {
      "needs_background": "light"
     },
     "output_type": "display_data"
    }
   ],
   "source": [
    "sanityChecks.discProbVsError(train_data,disc4,device)\n",
    "sanityChecks.discProbVsError(test_data,disc4,device)"
   ]
  },
  {
   "cell_type": "markdown",
   "id": "a5bd74c3",
   "metadata": {
    "id": "a5bd74c3",
    "papermill": {
     "duration": 0.069956,
     "end_time": "2022-07-22T09:42:03.871813",
     "exception": false,
     "start_time": "2022-07-22T09:42:03.801857",
     "status": "completed"
    },
    "tags": []
   },
   "source": [
    "## Skip Connection Model Analysis - ABC-GAN "
   ]
  },
  {
   "cell_type": "markdown",
   "id": "5744a8bf",
   "metadata": {
    "id": "5744a8bf",
    "papermill": {
     "duration": 0.064708,
     "end_time": "2022-07-22T09:42:03.989130",
     "exception": false,
     "start_time": "2022-07-22T09:42:03.924422",
     "status": "completed"
    },
    "tags": []
   },
   "source": [
    "### Weight Analysis \n",
    "\n",
    "Study the weights of the skip connection layer\n",
    "\n",
    "Equation of the skip connection is \n",
    "\n",
    "$output = y_{gan} * w + y_{abc} * (1-w)$"
   ]
  },
  {
   "cell_type": "code",
   "execution_count": 27,
   "id": "52c31dea",
   "metadata": {
    "execution": {
     "iopub.execute_input": "2022-07-22T09:42:04.155869Z",
     "iopub.status.busy": "2022-07-22T09:42:04.154937Z",
     "iopub.status.idle": "2022-07-22T09:42:04.241160Z",
     "shell.execute_reply": "2022-07-22T09:42:04.240232Z"
    },
    "id": "52c31dea",
    "papermill": {
     "duration": 0.17838,
     "end_time": "2022-07-22T09:42:04.252166",
     "exception": false,
     "start_time": "2022-07-22T09:42:04.073786",
     "status": "completed"
    },
    "tags": []
   },
   "outputs": [
    {
     "name": "stdout",
     "output_type": "stream",
     "text": [
      "Weight of the node at skip connection\n",
      "Parameter containing:\n",
      "tensor([[0.3552]], requires_grad=True)\n"
     ]
    },
    {
     "data": {
      "application/scrapbook.scrap.json+json": {
       "data": 0.3551567494869232,
       "encoder": "json",
       "name": "Skip Connection Weight",
       "version": 1
      }
     },
     "metadata": {
      "scrapbook": {
       "data": true,
       "display": false,
       "name": "Skip Connection Weight"
      }
     },
     "output_type": "display_data"
    }
   ],
   "source": [
    "print(\"Weight of the node at skip connection\")\n",
    "for name,param in gen3.named_parameters():\n",
    "    if(name == \"skipNode.weight\"):\n",
    "        print(param)\n",
    "        sb.glue(\"Skip Connection Weight\",param.item())"
   ]
  },
  {
   "cell_type": "markdown",
   "id": "8c02c96b",
   "metadata": {
    "id": "a5bd74c3",
    "papermill": {
     "duration": 0.061365,
     "end_time": "2022-07-22T09:42:04.371916",
     "exception": false,
     "start_time": "2022-07-22T09:42:04.310551",
     "status": "completed"
    },
    "tags": []
   },
   "source": [
    "## skipGAN Model Analysis (TabNet Generator) "
   ]
  },
  {
   "cell_type": "markdown",
   "id": "cd435527",
   "metadata": {
    "id": "5744a8bf",
    "papermill": {
     "duration": 0.057167,
     "end_time": "2022-07-22T09:42:04.480714",
     "exception": false,
     "start_time": "2022-07-22T09:42:04.423547",
     "status": "completed"
    },
    "tags": []
   },
   "source": [
    "### Weight Analysis \n",
    "\n",
    "Study the weights of the skip connection layer\n",
    "\n",
    "Equation of the skip connection is \n",
    "\n",
    "$output = y_{gan} * w + y_{abc} * (1-w)$"
   ]
  },
  {
   "cell_type": "code",
   "execution_count": 28,
   "id": "2833c801",
   "metadata": {
    "execution": {
     "iopub.execute_input": "2022-07-22T09:42:04.603844Z",
     "iopub.status.busy": "2022-07-22T09:42:04.602998Z",
     "iopub.status.idle": "2022-07-22T09:42:04.615332Z",
     "shell.execute_reply": "2022-07-22T09:42:04.614523Z"
    },
    "id": "52c31dea",
    "papermill": {
     "duration": 0.086465,
     "end_time": "2022-07-22T09:42:04.623334",
     "exception": false,
     "start_time": "2022-07-22T09:42:04.536869",
     "status": "completed"
    },
    "tags": []
   },
   "outputs": [
    {
     "name": "stdout",
     "output_type": "stream",
     "text": [
      "Weight of the node at skip connection\n",
      "Parameter containing:\n",
      "tensor([[0.3762]], requires_grad=True)\n"
     ]
    },
    {
     "data": {
      "application/scrapbook.scrap.json+json": {
       "data": 0.3762085735797882,
       "encoder": "json",
       "name": "Skip Connection Weight",
       "version": 1
      }
     },
     "metadata": {
      "scrapbook": {
       "data": true,
       "display": false,
       "name": "Skip Connection Weight"
      }
     },
     "output_type": "display_data"
    }
   ],
   "source": [
    "print(\"Weight of the node at skip connection\")\n",
    "for name,param in gen4.named_parameters():\n",
    "    if(name == \"skipNode.weight\"):\n",
    "        print(param)\n",
    "        sb.glue(\"Skip Connection Weight\",param.item())"
   ]
  }
 ],
 "metadata": {
  "colab": {
   "collapsed_sections": [],
   "name": "ABC_GAN_Model-Catboost_Pre-gen.ipynb",
   "provenance": []
  },
  "interpreter": {
   "hash": "31f2aee4e71d21fbe5cf8b01ff0e069b9275f58929596ceb00d14d90e3e16cd6"
  },
  "kernelspec": {
   "display_name": "Python 3 (ipykernel)",
   "language": "python",
   "name": "python3"
  },
  "language_info": {
   "codemirror_mode": {
    "name": "ipython",
    "version": 3
   },
   "file_extension": ".py",
   "mimetype": "text/x-python",
   "name": "python",
   "nbconvert_exporter": "python",
   "pygments_lexer": "ipython3",
   "version": "3.8.13"
  },
  "papermill": {
   "default_parameters": {},
   "duration": 3092.938436,
   "end_time": "2022-07-22T09:42:06.309330",
   "environment_variables": {},
   "exception": null,
   "input_path": "ABC_GAN-TabNet.ipynb",
   "output_path": "./ABC_GAN_TabNet/ABC-GAN_output_1_1.ipynb",
   "parameters": {
    "bias": 1,
    "variance": 0.1
   },
   "start_time": "2022-07-22T08:50:33.370894",
   "version": "2.3.3"
  }
 },
 "nbformat": 4,
 "nbformat_minor": 5
}