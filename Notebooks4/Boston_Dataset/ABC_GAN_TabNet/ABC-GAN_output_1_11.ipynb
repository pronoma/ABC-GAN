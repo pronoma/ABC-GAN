{
 "cells": [
  {
   "cell_type": "markdown",
   "id": "622780e6",
   "metadata": {
    "id": "622780e6",
    "papermill": {
     "duration": 0.014109,
     "end_time": "2022-07-22T15:49:26.081804",
     "exception": false,
     "start_time": "2022-07-22T15:49:26.067695",
     "status": "completed"
    },
    "tags": []
   },
   "source": [
    "## Import Libraries "
   ]
  },
  {
   "cell_type": "code",
   "execution_count": 1,
   "id": "a62397e3",
   "metadata": {
    "execution": {
     "iopub.execute_input": "2022-07-22T15:49:26.101310Z",
     "iopub.status.busy": "2022-07-22T15:49:26.100863Z",
     "iopub.status.idle": "2022-07-22T15:49:26.118385Z",
     "shell.execute_reply": "2022-07-22T15:49:26.117493Z"
    },
    "id": "a62397e3",
    "papermill": {
     "duration": 0.030559,
     "end_time": "2022-07-22T15:49:26.121241",
     "exception": false,
     "start_time": "2022-07-22T15:49:26.090682",
     "status": "completed"
    },
    "tags": []
   },
   "outputs": [],
   "source": [
    "import warnings\n",
    "import sys\n",
    "sys.path.insert(0, '../../src')\n",
    "warnings.filterwarnings('ignore')"
   ]
  },
  {
   "cell_type": "code",
   "execution_count": 2,
   "id": "d6a4e155",
   "metadata": {
    "execution": {
     "iopub.execute_input": "2022-07-22T15:49:26.137572Z",
     "iopub.status.busy": "2022-07-22T15:49:26.137269Z",
     "iopub.status.idle": "2022-07-22T15:49:33.829628Z",
     "shell.execute_reply": "2022-07-22T15:49:33.828087Z"
    },
    "id": "d6a4e155",
    "papermill": {
     "duration": 7.704403,
     "end_time": "2022-07-22T15:49:33.833026",
     "exception": false,
     "start_time": "2022-07-22T15:49:26.128623",
     "status": "completed"
    },
    "tags": []
   },
   "outputs": [],
   "source": [
    "import ABC_train_test2\n",
    "import bostonDataset\n",
    "import network\n",
    "import dataset\n",
    "import sanityChecks\n",
    "import torch \n",
    "import scrapbook as sb\n",
    "from statistics import mean \n",
    "import catboost as ctb \n",
    "from sklearn.model_selection import train_test_split\n",
    "from sklearn.metrics import mean_squared_error,mean_absolute_error\n",
    "import numpy as np\n",
    "from pytorch_tabnet.tab_model import TabNetRegressor"
   ]
  },
  {
   "cell_type": "markdown",
   "id": "2fa5b0f7",
   "metadata": {
    "id": "2fa5b0f7",
    "papermill": {
     "duration": 0.008218,
     "end_time": "2022-07-22T15:49:33.849032",
     "exception": false,
     "start_time": "2022-07-22T15:49:33.840814",
     "status": "completed"
    },
    "tags": []
   },
   "source": [
    "## Parameters "
   ]
  },
  {
   "cell_type": "code",
   "execution_count": 3,
   "id": "783186fb",
   "metadata": {
    "execution": {
     "iopub.execute_input": "2022-07-22T15:49:33.865074Z",
     "iopub.status.busy": "2022-07-22T15:49:33.864771Z",
     "iopub.status.idle": "2022-07-22T15:49:33.868256Z",
     "shell.execute_reply": "2022-07-22T15:49:33.867577Z"
    },
    "id": "783186fb",
    "papermill": {
     "duration": 0.014286,
     "end_time": "2022-07-22T15:49:33.870597",
     "exception": false,
     "start_time": "2022-07-22T15:49:33.856311",
     "status": "completed"
    },
    "tags": [
     "parameters"
    ]
   },
   "outputs": [],
   "source": [
    "variance = 1\n",
    "bias = 1 "
   ]
  },
  {
   "cell_type": "code",
   "execution_count": 4,
   "id": "9ccef005",
   "metadata": {
    "execution": {
     "iopub.execute_input": "2022-07-22T15:49:33.885133Z",
     "iopub.status.busy": "2022-07-22T15:49:33.884848Z",
     "iopub.status.idle": "2022-07-22T15:49:33.888968Z",
     "shell.execute_reply": "2022-07-22T15:49:33.887930Z"
    },
    "papermill": {
     "duration": 0.014127,
     "end_time": "2022-07-22T15:49:33.891410",
     "exception": false,
     "start_time": "2022-07-22T15:49:33.877283",
     "status": "completed"
    },
    "tags": [
     "injected-parameters"
    ]
   },
   "outputs": [],
   "source": [
    "# Parameters\n",
    "variance = 0.01\n",
    "bias = 0\n"
   ]
  },
  {
   "cell_type": "markdown",
   "id": "391cdbfd",
   "metadata": {
    "id": "391cdbfd",
    "papermill": {
     "duration": 0.006189,
     "end_time": "2022-07-22T15:49:33.904019",
     "exception": false,
     "start_time": "2022-07-22T15:49:33.897830",
     "status": "completed"
    },
    "tags": []
   },
   "source": [
    "## Dataset \n"
   ]
  },
  {
   "cell_type": "code",
   "execution_count": 5,
   "id": "5b51f161",
   "metadata": {
    "execution": {
     "iopub.execute_input": "2022-07-22T15:49:33.916719Z",
     "iopub.status.busy": "2022-07-22T15:49:33.916452Z",
     "iopub.status.idle": "2022-07-22T15:49:33.919862Z",
     "shell.execute_reply": "2022-07-22T15:49:33.919079Z"
    },
    "id": "5b51f161",
    "papermill": {
     "duration": 0.012152,
     "end_time": "2022-07-22T15:49:33.921985",
     "exception": false,
     "start_time": "2022-07-22T15:49:33.909833",
     "status": "completed"
    },
    "tags": []
   },
   "outputs": [],
   "source": [
    "#Parameters \n",
    "n_features = 13\n",
    "n_samples= 506\n",
    "n_target = 1 "
   ]
  },
  {
   "cell_type": "code",
   "execution_count": 6,
   "id": "5d6eced4",
   "metadata": {
    "execution": {
     "iopub.execute_input": "2022-07-22T15:49:33.934660Z",
     "iopub.status.busy": "2022-07-22T15:49:33.934386Z",
     "iopub.status.idle": "2022-07-22T15:49:33.962536Z",
     "shell.execute_reply": "2022-07-22T15:49:33.961910Z"
    },
    "id": "5d6eced4",
    "papermill": {
     "duration": 0.037302,
     "end_time": "2022-07-22T15:49:33.965117",
     "exception": false,
     "start_time": "2022-07-22T15:49:33.927815",
     "status": "completed"
    },
    "tags": []
   },
   "outputs": [
    {
     "name": "stdout",
     "output_type": "stream",
     "text": [
      "         X1        X2        X3        X4        X5        X6        X7  \\\n",
      "0 -0.419782  0.284830 -1.287909 -0.272599 -0.144217  0.413672 -0.120013   \n",
      "1 -0.417339 -0.487722 -0.593381 -0.272599 -0.740262  0.194274  0.367166   \n",
      "2 -0.417342 -0.487722 -0.593381 -0.272599 -0.740262  1.282714 -0.265812   \n",
      "3 -0.416750 -0.487722 -1.306878 -0.272599 -0.835284  1.016303 -0.809889   \n",
      "4 -0.412482 -0.487722 -1.306878 -0.272599 -0.835284  1.228577 -0.511180   \n",
      "\n",
      "         X8        X9       X10       X11       X12       X13         Y  \n",
      "0  0.140214 -0.982843 -0.666608 -1.459000  0.441052 -1.075562  0.159686  \n",
      "1  0.557160 -0.867883 -0.987329 -0.303094  0.441052 -0.492439 -0.101524  \n",
      "2  0.557160 -0.867883 -0.987329 -0.303094  0.396427 -1.208727  1.324247  \n",
      "3  1.077737 -0.752922 -1.106115  0.113032  0.416163 -1.361517  1.182758  \n",
      "4  1.077737 -0.752922 -1.106115  0.113032  0.441052 -1.026501  1.487503  \n"
     ]
    }
   ],
   "source": [
    "X,Y = bostonDataset.boston_data()"
   ]
  },
  {
   "cell_type": "code",
   "execution_count": 7,
   "id": "fe007438",
   "metadata": {
    "execution": {
     "iopub.execute_input": "2022-07-22T15:49:33.980550Z",
     "iopub.status.busy": "2022-07-22T15:49:33.980259Z",
     "iopub.status.idle": "2022-07-22T15:49:33.985566Z",
     "shell.execute_reply": "2022-07-22T15:49:33.984763Z"
    },
    "id": "fe007438",
    "papermill": {
     "duration": 0.015689,
     "end_time": "2022-07-22T15:49:33.987944",
     "exception": false,
     "start_time": "2022-07-22T15:49:33.972255",
     "status": "completed"
    },
    "tags": []
   },
   "outputs": [],
   "source": [
    "#Train test split for dataset \n",
    "X_train,X_test,Y_train,Y_test = train_test_split(X,Y,test_size = 0.2)\n",
    "train_data = dataset.CustomDataset(X_train,Y_train)\n",
    "test_data = dataset.CustomDataset(X_test,Y_test)\n"
   ]
  },
  {
   "cell_type": "markdown",
   "id": "a9a1af34",
   "metadata": {
    "id": "a9a1af34",
    "papermill": {
     "duration": 0.007369,
     "end_time": "2022-07-22T15:49:34.003540",
     "exception": false,
     "start_time": "2022-07-22T15:49:33.996171",
     "status": "completed"
    },
    "tags": []
   },
   "source": [
    "## Training Parameters "
   ]
  },
  {
   "cell_type": "code",
   "execution_count": 8,
   "id": "952b7fc8",
   "metadata": {
    "execution": {
     "iopub.execute_input": "2022-07-22T15:49:34.018134Z",
     "iopub.status.busy": "2022-07-22T15:49:34.017852Z",
     "iopub.status.idle": "2022-07-22T15:49:34.022303Z",
     "shell.execute_reply": "2022-07-22T15:49:34.021505Z"
    },
    "id": "952b7fc8",
    "papermill": {
     "duration": 0.014708,
     "end_time": "2022-07-22T15:49:34.025013",
     "exception": false,
     "start_time": "2022-07-22T15:49:34.010305",
     "status": "completed"
    },
    "tags": []
   },
   "outputs": [],
   "source": [
    "batch_size = 32\n",
    "n_epochs = 1000\n",
    "#Select the device \n",
    "device = torch.device('cuda' if torch.cuda.is_available() else 'cpu')"
   ]
  },
  {
   "cell_type": "markdown",
   "id": "a95e1600",
   "metadata": {
    "id": "a95e1600",
    "papermill": {
     "duration": 0.006474,
     "end_time": "2022-07-22T15:49:34.038041",
     "exception": false,
     "start_time": "2022-07-22T15:49:34.031567",
     "status": "completed"
    },
    "tags": []
   },
   "source": [
    "# ABC Pre-generator Model \n",
    "\n",
    "1. The catboost model is used as a pre-generator model for the ABC-GAN. \n",
    "2. The model is first trained on the entire dataset \n",
    "3. It generats X,Y pairs and we add some Gaussian noise with mean 0 and variance 1 to it which is then feed as input to the generator.\n"
   ]
  },
  {
   "cell_type": "code",
   "execution_count": 9,
   "id": "ff8ce7bd",
   "metadata": {
    "execution": {
     "iopub.execute_input": "2022-07-22T15:49:34.052047Z",
     "iopub.status.busy": "2022-07-22T15:49:34.051760Z",
     "iopub.status.idle": "2022-07-22T15:52:57.461672Z",
     "shell.execute_reply": "2022-07-22T15:52:57.460993Z"
    },
    "id": "ff8ce7bd",
    "papermill": {
     "duration": 203.419531,
     "end_time": "2022-07-22T15:52:57.463951",
     "exception": false,
     "start_time": "2022-07-22T15:49:34.044420",
     "status": "completed"
    },
    "tags": []
   },
   "outputs": [
    {
     "name": "stdout",
     "output_type": "stream",
     "text": [
      "Device used : cpu\n"
     ]
    },
    {
     "name": "stdout",
     "output_type": "stream",
     "text": [
      "epoch 0  | loss: 2.91159 | train_mse: 2.17839 | train_mae: 0.97705 |  0:00:00s\n"
     ]
    },
    {
     "name": "stdout",
     "output_type": "stream",
     "text": [
      "epoch 1  | loss: 1.03338 | train_mse: 1.43521 | train_mae: 0.80043 |  0:00:00s\n"
     ]
    },
    {
     "name": "stdout",
     "output_type": "stream",
     "text": [
      "epoch 2  | loss: 0.80865 | train_mse: 0.95569 | train_mae: 0.72629 |  0:00:01s\n"
     ]
    },
    {
     "name": "stdout",
     "output_type": "stream",
     "text": [
      "epoch 3  | loss: 0.62446 | train_mse: 0.62578 | train_mae: 0.5668  |  0:00:01s\n"
     ]
    },
    {
     "name": "stdout",
     "output_type": "stream",
     "text": [
      "epoch 4  | loss: 0.5791  | train_mse: 0.59389 | train_mae: 0.53932 |  0:00:01s\n"
     ]
    },
    {
     "name": "stdout",
     "output_type": "stream",
     "text": [
      "epoch 5  | loss: 0.5009  | train_mse: 0.51904 | train_mae: 0.47244 |  0:00:01s\n"
     ]
    },
    {
     "name": "stdout",
     "output_type": "stream",
     "text": [
      "epoch 6  | loss: 0.47272 | train_mse: 0.45923 | train_mae: 0.45716 |  0:00:02s\n"
     ]
    },
    {
     "name": "stdout",
     "output_type": "stream",
     "text": [
      "epoch 7  | loss: 0.43787 | train_mse: 0.37973 | train_mae: 0.42771 |  0:00:02s\n"
     ]
    },
    {
     "name": "stdout",
     "output_type": "stream",
     "text": [
      "epoch 8  | loss: 0.36812 | train_mse: 0.30563 | train_mae: 0.38985 |  0:00:02s\n"
     ]
    },
    {
     "name": "stdout",
     "output_type": "stream",
     "text": [
      "epoch 9  | loss: 0.31125 | train_mse: 0.20958 | train_mae: 0.30845 |  0:00:03s\n"
     ]
    },
    {
     "name": "stdout",
     "output_type": "stream",
     "text": [
      "epoch 10 | loss: 0.32414 | train_mse: 0.21838 | train_mae: 0.30222 |  0:00:03s\n"
     ]
    },
    {
     "name": "stdout",
     "output_type": "stream",
     "text": [
      "epoch 11 | loss: 0.27373 | train_mse: 0.27428 | train_mae: 0.3347  |  0:00:03s\n"
     ]
    },
    {
     "name": "stdout",
     "output_type": "stream",
     "text": [
      "epoch 12 | loss: 0.25872 | train_mse: 0.2222  | train_mae: 0.3027  |  0:00:03s\n"
     ]
    },
    {
     "name": "stdout",
     "output_type": "stream",
     "text": [
      "epoch 13 | loss: 0.3471  | train_mse: 0.27182 | train_mae: 0.3386  |  0:00:04s\n"
     ]
    },
    {
     "name": "stdout",
     "output_type": "stream",
     "text": [
      "epoch 14 | loss: 0.24958 | train_mse: 0.35989 | train_mae: 0.38051 |  0:00:04s\n"
     ]
    },
    {
     "name": "stdout",
     "output_type": "stream",
     "text": [
      "epoch 15 | loss: 0.29525 | train_mse: 0.2348  | train_mae: 0.32048 |  0:00:04s\n"
     ]
    },
    {
     "name": "stdout",
     "output_type": "stream",
     "text": [
      "epoch 16 | loss: 0.22989 | train_mse: 0.21827 | train_mae: 0.29614 |  0:00:05s\n"
     ]
    },
    {
     "name": "stdout",
     "output_type": "stream",
     "text": [
      "epoch 17 | loss: 0.31182 | train_mse: 0.18441 | train_mae: 0.28635 |  0:00:05s\n"
     ]
    },
    {
     "name": "stdout",
     "output_type": "stream",
     "text": [
      "epoch 18 | loss: 0.26478 | train_mse: 0.18524 | train_mae: 0.28544 |  0:00:05s\n"
     ]
    },
    {
     "name": "stdout",
     "output_type": "stream",
     "text": [
      "epoch 19 | loss: 0.24202 | train_mse: 0.19434 | train_mae: 0.28379 |  0:00:06s\n"
     ]
    },
    {
     "name": "stdout",
     "output_type": "stream",
     "text": [
      "epoch 20 | loss: 0.22781 | train_mse: 0.18591 | train_mae: 0.30329 |  0:00:06s\n"
     ]
    },
    {
     "name": "stdout",
     "output_type": "stream",
     "text": [
      "epoch 21 | loss: 0.20596 | train_mse: 0.19795 | train_mae: 0.28844 |  0:00:06s\n"
     ]
    },
    {
     "name": "stdout",
     "output_type": "stream",
     "text": [
      "epoch 22 | loss: 0.215   | train_mse: 0.19113 | train_mae: 0.29717 |  0:00:06s\n"
     ]
    },
    {
     "name": "stdout",
     "output_type": "stream",
     "text": [
      "epoch 23 | loss: 0.23848 | train_mse: 0.21027 | train_mae: 0.31789 |  0:00:07s\n"
     ]
    },
    {
     "name": "stdout",
     "output_type": "stream",
     "text": [
      "epoch 24 | loss: 0.22531 | train_mse: 0.17203 | train_mae: 0.27932 |  0:00:07s\n"
     ]
    },
    {
     "name": "stdout",
     "output_type": "stream",
     "text": [
      "epoch 25 | loss: 0.19457 | train_mse: 0.20826 | train_mae: 0.29196 |  0:00:07s\n"
     ]
    },
    {
     "name": "stdout",
     "output_type": "stream",
     "text": [
      "epoch 26 | loss: 0.19867 | train_mse: 0.17304 | train_mae: 0.28274 |  0:00:08s\n"
     ]
    },
    {
     "name": "stdout",
     "output_type": "stream",
     "text": [
      "epoch 27 | loss: 0.2358  | train_mse: 0.15459 | train_mae: 0.26472 |  0:00:08s\n"
     ]
    },
    {
     "name": "stdout",
     "output_type": "stream",
     "text": [
      "epoch 28 | loss: 0.19005 | train_mse: 0.13226 | train_mae: 0.24727 |  0:00:08s\n"
     ]
    },
    {
     "name": "stdout",
     "output_type": "stream",
     "text": [
      "epoch 29 | loss: 0.21129 | train_mse: 0.16808 | train_mae: 0.26367 |  0:00:08s\n"
     ]
    },
    {
     "name": "stdout",
     "output_type": "stream",
     "text": [
      "epoch 30 | loss: 0.1812  | train_mse: 0.17138 | train_mae: 0.28564 |  0:00:09s\n"
     ]
    },
    {
     "name": "stdout",
     "output_type": "stream",
     "text": [
      "epoch 31 | loss: 0.20903 | train_mse: 0.19171 | train_mae: 0.30478 |  0:00:09s\n"
     ]
    },
    {
     "name": "stdout",
     "output_type": "stream",
     "text": [
      "epoch 32 | loss: 0.19832 | train_mse: 0.16604 | train_mae: 0.27182 |  0:00:09s\n"
     ]
    },
    {
     "name": "stdout",
     "output_type": "stream",
     "text": [
      "epoch 33 | loss: 0.23208 | train_mse: 0.16186 | train_mae: 0.27847 |  0:00:10s\n"
     ]
    },
    {
     "name": "stdout",
     "output_type": "stream",
     "text": [
      "epoch 34 | loss: 0.22823 | train_mse: 0.13692 | train_mae: 0.26116 |  0:00:10s\n"
     ]
    },
    {
     "name": "stdout",
     "output_type": "stream",
     "text": [
      "epoch 35 | loss: 0.15846 | train_mse: 0.13895 | train_mae: 0.26859 |  0:00:10s\n"
     ]
    },
    {
     "name": "stdout",
     "output_type": "stream",
     "text": [
      "epoch 36 | loss: 0.15654 | train_mse: 0.14572 | train_mae: 0.27319 |  0:00:11s\n"
     ]
    },
    {
     "name": "stdout",
     "output_type": "stream",
     "text": [
      "epoch 37 | loss: 0.22104 | train_mse: 0.16418 | train_mae: 0.28565 |  0:00:11s\n"
     ]
    },
    {
     "name": "stdout",
     "output_type": "stream",
     "text": [
      "epoch 38 | loss: 0.20332 | train_mse: 0.14184 | train_mae: 0.26672 |  0:00:11s\n"
     ]
    },
    {
     "name": "stdout",
     "output_type": "stream",
     "text": [
      "epoch 39 | loss: 0.18554 | train_mse: 0.12739 | train_mae: 0.25148 |  0:00:11s\n"
     ]
    },
    {
     "name": "stdout",
     "output_type": "stream",
     "text": [
      "epoch 40 | loss: 0.17624 | train_mse: 0.1131  | train_mae: 0.24358 |  0:00:12s\n"
     ]
    },
    {
     "name": "stdout",
     "output_type": "stream",
     "text": [
      "epoch 41 | loss: 0.17704 | train_mse: 0.1022  | train_mae: 0.23314 |  0:00:12s\n"
     ]
    },
    {
     "name": "stdout",
     "output_type": "stream",
     "text": [
      "epoch 42 | loss: 0.17122 | train_mse: 0.10821 | train_mae: 0.23057 |  0:00:12s\n"
     ]
    },
    {
     "name": "stdout",
     "output_type": "stream",
     "text": [
      "epoch 43 | loss: 0.17671 | train_mse: 0.11642 | train_mae: 0.24459 |  0:00:13s\n"
     ]
    },
    {
     "name": "stdout",
     "output_type": "stream",
     "text": [
      "epoch 44 | loss: 0.18706 | train_mse: 0.13066 | train_mae: 0.25543 |  0:00:13s\n"
     ]
    },
    {
     "name": "stdout",
     "output_type": "stream",
     "text": [
      "epoch 45 | loss: 0.15691 | train_mse: 0.11909 | train_mae: 0.2441  |  0:00:13s\n"
     ]
    },
    {
     "name": "stdout",
     "output_type": "stream",
     "text": [
      "epoch 46 | loss: 0.14561 | train_mse: 0.09408 | train_mae: 0.21948 |  0:00:13s\n"
     ]
    },
    {
     "name": "stdout",
     "output_type": "stream",
     "text": [
      "epoch 47 | loss: 0.15589 | train_mse: 0.10486 | train_mae: 0.22499 |  0:00:14s\n"
     ]
    },
    {
     "name": "stdout",
     "output_type": "stream",
     "text": [
      "epoch 48 | loss: 0.18893 | train_mse: 0.1137  | train_mae: 0.23172 |  0:00:14s\n"
     ]
    },
    {
     "name": "stdout",
     "output_type": "stream",
     "text": [
      "epoch 49 | loss: 0.17901 | train_mse: 0.11007 | train_mae: 0.23659 |  0:00:14s\n"
     ]
    },
    {
     "name": "stdout",
     "output_type": "stream",
     "text": [
      "epoch 50 | loss: 0.15444 | train_mse: 0.11522 | train_mae: 0.23614 |  0:00:15s\n"
     ]
    },
    {
     "name": "stdout",
     "output_type": "stream",
     "text": [
      "epoch 51 | loss: 0.25138 | train_mse: 0.15862 | train_mae: 0.27542 |  0:00:15s\n"
     ]
    },
    {
     "name": "stdout",
     "output_type": "stream",
     "text": [
      "epoch 52 | loss: 0.18785 | train_mse: 0.10689 | train_mae: 0.23907 |  0:00:15s\n"
     ]
    },
    {
     "name": "stdout",
     "output_type": "stream",
     "text": [
      "epoch 53 | loss: 0.14842 | train_mse: 0.10466 | train_mae: 0.23457 |  0:00:16s\n"
     ]
    },
    {
     "name": "stdout",
     "output_type": "stream",
     "text": [
      "epoch 54 | loss: 0.15293 | train_mse: 0.10969 | train_mae: 0.2435  |  0:00:16s\n"
     ]
    },
    {
     "name": "stdout",
     "output_type": "stream",
     "text": [
      "epoch 55 | loss: 0.14546 | train_mse: 0.11849 | train_mae: 0.25223 |  0:00:16s\n"
     ]
    },
    {
     "name": "stdout",
     "output_type": "stream",
     "text": [
      "epoch 56 | loss: 0.16775 | train_mse: 0.11522 | train_mae: 0.23998 |  0:00:16s\n"
     ]
    },
    {
     "name": "stdout",
     "output_type": "stream",
     "text": [
      "epoch 57 | loss: 0.17417 | train_mse: 0.10844 | train_mae: 0.22385 |  0:00:17s\n"
     ]
    },
    {
     "name": "stdout",
     "output_type": "stream",
     "text": [
      "epoch 58 | loss: 0.14433 | train_mse: 0.11151 | train_mae: 0.2325  |  0:00:17s\n"
     ]
    },
    {
     "name": "stdout",
     "output_type": "stream",
     "text": [
      "epoch 59 | loss: 0.18433 | train_mse: 0.1316  | train_mae: 0.24271 |  0:00:17s\n"
     ]
    },
    {
     "name": "stdout",
     "output_type": "stream",
     "text": [
      "epoch 60 | loss: 0.1685  | train_mse: 0.11726 | train_mae: 0.23193 |  0:00:18s\n"
     ]
    },
    {
     "name": "stdout",
     "output_type": "stream",
     "text": [
      "epoch 61 | loss: 0.15187 | train_mse: 0.08646 | train_mae: 0.2096  |  0:00:18s\n"
     ]
    },
    {
     "name": "stdout",
     "output_type": "stream",
     "text": [
      "epoch 62 | loss: 0.16957 | train_mse: 0.08964 | train_mae: 0.20712 |  0:00:18s\n"
     ]
    },
    {
     "name": "stdout",
     "output_type": "stream",
     "text": [
      "epoch 63 | loss: 0.16455 | train_mse: 0.09167 | train_mae: 0.22164 |  0:00:19s\n"
     ]
    },
    {
     "name": "stdout",
     "output_type": "stream",
     "text": [
      "epoch 64 | loss: 0.15919 | train_mse: 0.09862 | train_mae: 0.21934 |  0:00:19s\n"
     ]
    },
    {
     "name": "stdout",
     "output_type": "stream",
     "text": [
      "epoch 65 | loss: 0.16655 | train_mse: 0.10006 | train_mae: 0.22659 |  0:00:19s\n"
     ]
    },
    {
     "name": "stdout",
     "output_type": "stream",
     "text": [
      "epoch 66 | loss: 0.13897 | train_mse: 0.0857  | train_mae: 0.20582 |  0:00:19s\n"
     ]
    },
    {
     "name": "stdout",
     "output_type": "stream",
     "text": [
      "epoch 67 | loss: 0.14874 | train_mse: 0.08632 | train_mae: 0.20872 |  0:00:20s\n"
     ]
    },
    {
     "name": "stdout",
     "output_type": "stream",
     "text": [
      "epoch 68 | loss: 0.14281 | train_mse: 0.08345 | train_mae: 0.20442 |  0:00:20s\n"
     ]
    },
    {
     "name": "stdout",
     "output_type": "stream",
     "text": [
      "epoch 69 | loss: 0.15689 | train_mse: 0.08546 | train_mae: 0.20998 |  0:00:20s\n"
     ]
    },
    {
     "name": "stdout",
     "output_type": "stream",
     "text": [
      "epoch 70 | loss: 0.16456 | train_mse: 0.09319 | train_mae: 0.21565 |  0:00:21s\n"
     ]
    },
    {
     "name": "stdout",
     "output_type": "stream",
     "text": [
      "epoch 71 | loss: 0.16242 | train_mse: 0.08336 | train_mae: 0.2113  |  0:00:21s\n"
     ]
    },
    {
     "name": "stdout",
     "output_type": "stream",
     "text": [
      "epoch 72 | loss: 0.16452 | train_mse: 0.11399 | train_mae: 0.23079 |  0:00:21s\n"
     ]
    },
    {
     "name": "stdout",
     "output_type": "stream",
     "text": [
      "epoch 73 | loss: 0.18293 | train_mse: 0.07756 | train_mae: 0.20092 |  0:00:22s\n"
     ]
    },
    {
     "name": "stdout",
     "output_type": "stream",
     "text": [
      "epoch 74 | loss: 0.17225 | train_mse: 0.10133 | train_mae: 0.22419 |  0:00:22s\n"
     ]
    },
    {
     "name": "stdout",
     "output_type": "stream",
     "text": [
      "epoch 75 | loss: 0.13639 | train_mse: 0.08893 | train_mae: 0.2072  |  0:00:22s\n"
     ]
    },
    {
     "name": "stdout",
     "output_type": "stream",
     "text": [
      "epoch 76 | loss: 0.13788 | train_mse: 0.10417 | train_mae: 0.22609 |  0:00:22s\n"
     ]
    },
    {
     "name": "stdout",
     "output_type": "stream",
     "text": [
      "epoch 77 | loss: 0.13158 | train_mse: 0.09366 | train_mae: 0.21495 |  0:00:23s\n"
     ]
    },
    {
     "name": "stdout",
     "output_type": "stream",
     "text": [
      "epoch 78 | loss: 0.15667 | train_mse: 0.10679 | train_mae: 0.22918 |  0:00:23s\n"
     ]
    },
    {
     "name": "stdout",
     "output_type": "stream",
     "text": [
      "epoch 79 | loss: 0.20547 | train_mse: 0.13125 | train_mae: 0.25017 |  0:00:23s\n"
     ]
    },
    {
     "name": "stdout",
     "output_type": "stream",
     "text": [
      "epoch 80 | loss: 0.18633 | train_mse: 0.10353 | train_mae: 0.23194 |  0:00:24s\n"
     ]
    },
    {
     "name": "stdout",
     "output_type": "stream",
     "text": [
      "epoch 81 | loss: 0.16114 | train_mse: 0.10504 | train_mae: 0.22766 |  0:00:24s\n"
     ]
    },
    {
     "name": "stdout",
     "output_type": "stream",
     "text": [
      "epoch 82 | loss: 0.1937  | train_mse: 0.10604 | train_mae: 0.23242 |  0:00:24s\n"
     ]
    },
    {
     "name": "stdout",
     "output_type": "stream",
     "text": [
      "epoch 83 | loss: 0.14927 | train_mse: 0.0902  | train_mae: 0.21422 |  0:00:24s\n"
     ]
    },
    {
     "name": "stdout",
     "output_type": "stream",
     "text": [
      "epoch 84 | loss: 0.17088 | train_mse: 0.07322 | train_mae: 0.19575 |  0:00:25s\n"
     ]
    },
    {
     "name": "stdout",
     "output_type": "stream",
     "text": [
      "epoch 85 | loss: 0.1727  | train_mse: 0.07541 | train_mae: 0.20069 |  0:00:25s\n"
     ]
    },
    {
     "name": "stdout",
     "output_type": "stream",
     "text": [
      "epoch 86 | loss: 0.1372  | train_mse: 0.0757  | train_mae: 0.19539 |  0:00:25s\n"
     ]
    },
    {
     "name": "stdout",
     "output_type": "stream",
     "text": [
      "epoch 87 | loss: 0.18165 | train_mse: 0.10499 | train_mae: 0.2364  |  0:00:26s\n"
     ]
    },
    {
     "name": "stdout",
     "output_type": "stream",
     "text": [
      "epoch 88 | loss: 0.16859 | train_mse: 0.08101 | train_mae: 0.21248 |  0:00:26s\n"
     ]
    },
    {
     "name": "stdout",
     "output_type": "stream",
     "text": [
      "epoch 89 | loss: 0.1386  | train_mse: 0.08147 | train_mae: 0.2065  |  0:00:26s\n"
     ]
    },
    {
     "name": "stdout",
     "output_type": "stream",
     "text": [
      "epoch 90 | loss: 0.1324  | train_mse: 0.09395 | train_mae: 0.21432 |  0:00:26s\n"
     ]
    },
    {
     "name": "stdout",
     "output_type": "stream",
     "text": [
      "epoch 91 | loss: 0.17604 | train_mse: 0.12458 | train_mae: 0.23041 |  0:00:27s\n"
     ]
    },
    {
     "name": "stdout",
     "output_type": "stream",
     "text": [
      "epoch 92 | loss: 0.22455 | train_mse: 0.13875 | train_mae: 0.25919 |  0:00:27s\n"
     ]
    },
    {
     "name": "stdout",
     "output_type": "stream",
     "text": [
      "epoch 93 | loss: 0.15897 | train_mse: 0.07328 | train_mae: 0.19961 |  0:00:27s\n"
     ]
    },
    {
     "name": "stdout",
     "output_type": "stream",
     "text": [
      "epoch 94 | loss: 0.13406 | train_mse: 0.07151 | train_mae: 0.19489 |  0:00:28s\n"
     ]
    },
    {
     "name": "stdout",
     "output_type": "stream",
     "text": [
      "epoch 95 | loss: 0.15161 | train_mse: 0.07861 | train_mae: 0.20328 |  0:00:28s\n"
     ]
    },
    {
     "name": "stdout",
     "output_type": "stream",
     "text": [
      "epoch 96 | loss: 0.15378 | train_mse: 0.08421 | train_mae: 0.2122  |  0:00:28s\n"
     ]
    },
    {
     "name": "stdout",
     "output_type": "stream",
     "text": [
      "epoch 97 | loss: 0.13257 | train_mse: 0.08167 | train_mae: 0.20613 |  0:00:28s\n"
     ]
    },
    {
     "name": "stdout",
     "output_type": "stream",
     "text": [
      "epoch 98 | loss: 0.13794 | train_mse: 0.07608 | train_mae: 0.20111 |  0:00:29s\n"
     ]
    },
    {
     "name": "stdout",
     "output_type": "stream",
     "text": [
      "epoch 99 | loss: 0.17463 | train_mse: 0.08688 | train_mae: 0.20817 |  0:00:29s\n"
     ]
    },
    {
     "name": "stdout",
     "output_type": "stream",
     "text": [
      "epoch 100| loss: 0.15658 | train_mse: 0.08763 | train_mae: 0.21023 |  0:00:29s\n"
     ]
    },
    {
     "name": "stdout",
     "output_type": "stream",
     "text": [
      "epoch 101| loss: 0.14241 | train_mse: 0.08702 | train_mae: 0.20593 |  0:00:30s\n"
     ]
    },
    {
     "name": "stdout",
     "output_type": "stream",
     "text": [
      "epoch 102| loss: 0.16185 | train_mse: 0.09412 | train_mae: 0.21623 |  0:00:30s\n"
     ]
    },
    {
     "name": "stdout",
     "output_type": "stream",
     "text": [
      "epoch 103| loss: 0.13835 | train_mse: 0.07526 | train_mae: 0.20206 |  0:00:30s\n"
     ]
    },
    {
     "name": "stdout",
     "output_type": "stream",
     "text": [
      "epoch 104| loss: 0.13073 | train_mse: 0.07777 | train_mae: 0.20704 |  0:00:30s\n"
     ]
    },
    {
     "name": "stdout",
     "output_type": "stream",
     "text": [
      "epoch 105| loss: 0.14296 | train_mse: 0.07881 | train_mae: 0.19973 |  0:00:31s\n"
     ]
    },
    {
     "name": "stdout",
     "output_type": "stream",
     "text": [
      "epoch 106| loss: 0.14566 | train_mse: 0.08327 | train_mae: 0.21094 |  0:00:31s\n"
     ]
    },
    {
     "name": "stdout",
     "output_type": "stream",
     "text": [
      "epoch 107| loss: 0.11984 | train_mse: 0.07312 | train_mae: 0.19197 |  0:00:31s\n"
     ]
    },
    {
     "name": "stdout",
     "output_type": "stream",
     "text": [
      "epoch 108| loss: 0.18171 | train_mse: 0.0734  | train_mae: 0.19777 |  0:00:32s\n"
     ]
    },
    {
     "name": "stdout",
     "output_type": "stream",
     "text": [
      "epoch 109| loss: 0.12878 | train_mse: 0.07674 | train_mae: 0.20395 |  0:00:32s\n"
     ]
    },
    {
     "name": "stdout",
     "output_type": "stream",
     "text": [
      "epoch 110| loss: 0.10054 | train_mse: 0.06216 | train_mae: 0.18641 |  0:00:32s\n"
     ]
    },
    {
     "name": "stdout",
     "output_type": "stream",
     "text": [
      "epoch 111| loss: 0.14631 | train_mse: 0.06594 | train_mae: 0.18639 |  0:00:33s\n"
     ]
    },
    {
     "name": "stdout",
     "output_type": "stream",
     "text": [
      "epoch 112| loss: 0.18438 | train_mse: 0.0879  | train_mae: 0.2111  |  0:00:33s\n"
     ]
    },
    {
     "name": "stdout",
     "output_type": "stream",
     "text": [
      "epoch 113| loss: 0.13936 | train_mse: 0.07052 | train_mae: 0.19621 |  0:00:33s\n"
     ]
    },
    {
     "name": "stdout",
     "output_type": "stream",
     "text": [
      "epoch 114| loss: 0.12099 | train_mse: 0.06528 | train_mae: 0.18808 |  0:00:33s\n"
     ]
    },
    {
     "name": "stdout",
     "output_type": "stream",
     "text": [
      "epoch 115| loss: 0.14222 | train_mse: 0.06712 | train_mae: 0.18977 |  0:00:34s\n"
     ]
    },
    {
     "name": "stdout",
     "output_type": "stream",
     "text": [
      "epoch 116| loss: 0.12031 | train_mse: 0.06931 | train_mae: 0.19595 |  0:00:34s\n"
     ]
    },
    {
     "name": "stdout",
     "output_type": "stream",
     "text": [
      "epoch 117| loss: 0.0907  | train_mse: 0.06528 | train_mae: 0.19368 |  0:00:34s\n"
     ]
    },
    {
     "name": "stdout",
     "output_type": "stream",
     "text": [
      "epoch 118| loss: 0.11542 | train_mse: 0.06254 | train_mae: 0.18669 |  0:00:35s\n"
     ]
    },
    {
     "name": "stdout",
     "output_type": "stream",
     "text": [
      "epoch 119| loss: 0.11003 | train_mse: 0.06427 | train_mae: 0.18416 |  0:00:35s\n"
     ]
    },
    {
     "name": "stdout",
     "output_type": "stream",
     "text": [
      "epoch 120| loss: 0.12991 | train_mse: 0.0536  | train_mae: 0.17308 |  0:00:35s\n"
     ]
    },
    {
     "name": "stdout",
     "output_type": "stream",
     "text": [
      "epoch 121| loss: 0.13619 | train_mse: 0.05441 | train_mae: 0.17492 |  0:00:35s\n"
     ]
    },
    {
     "name": "stdout",
     "output_type": "stream",
     "text": [
      "epoch 122| loss: 0.11454 | train_mse: 0.05707 | train_mae: 0.17542 |  0:00:36s\n"
     ]
    },
    {
     "name": "stdout",
     "output_type": "stream",
     "text": [
      "epoch 123| loss: 0.13799 | train_mse: 0.07355 | train_mae: 0.20519 |  0:00:36s\n"
     ]
    },
    {
     "name": "stdout",
     "output_type": "stream",
     "text": [
      "epoch 124| loss: 0.14218 | train_mse: 0.05988 | train_mae: 0.18344 |  0:00:36s\n"
     ]
    },
    {
     "name": "stdout",
     "output_type": "stream",
     "text": [
      "epoch 125| loss: 0.14368 | train_mse: 0.09542 | train_mae: 0.23029 |  0:00:37s\n"
     ]
    },
    {
     "name": "stdout",
     "output_type": "stream",
     "text": [
      "epoch 126| loss: 0.14462 | train_mse: 0.06835 | train_mae: 0.19142 |  0:00:37s\n"
     ]
    },
    {
     "name": "stdout",
     "output_type": "stream",
     "text": [
      "epoch 127| loss: 0.14213 | train_mse: 0.07563 | train_mae: 0.19364 |  0:00:37s\n"
     ]
    },
    {
     "name": "stdout",
     "output_type": "stream",
     "text": [
      "epoch 128| loss: 0.12234 | train_mse: 0.06662 | train_mae: 0.19633 |  0:00:37s\n"
     ]
    },
    {
     "name": "stdout",
     "output_type": "stream",
     "text": [
      "epoch 129| loss: 0.13531 | train_mse: 0.05759 | train_mae: 0.18239 |  0:00:38s\n"
     ]
    },
    {
     "name": "stdout",
     "output_type": "stream",
     "text": [
      "epoch 130| loss: 0.10792 | train_mse: 0.05319 | train_mae: 0.17504 |  0:00:38s\n"
     ]
    },
    {
     "name": "stdout",
     "output_type": "stream",
     "text": [
      "epoch 131| loss: 0.15655 | train_mse: 0.06138 | train_mae: 0.18783 |  0:00:38s\n"
     ]
    },
    {
     "name": "stdout",
     "output_type": "stream",
     "text": [
      "epoch 132| loss: 0.12161 | train_mse: 0.06442 | train_mae: 0.18959 |  0:00:39s\n"
     ]
    },
    {
     "name": "stdout",
     "output_type": "stream",
     "text": [
      "epoch 133| loss: 0.11774 | train_mse: 0.06425 | train_mae: 0.186   |  0:00:39s\n"
     ]
    },
    {
     "name": "stdout",
     "output_type": "stream",
     "text": [
      "epoch 134| loss: 0.11214 | train_mse: 0.0725  | train_mae: 0.19602 |  0:00:39s\n"
     ]
    },
    {
     "name": "stdout",
     "output_type": "stream",
     "text": [
      "epoch 135| loss: 0.13873 | train_mse: 0.06499 | train_mae: 0.18773 |  0:00:40s\n"
     ]
    },
    {
     "name": "stdout",
     "output_type": "stream",
     "text": [
      "epoch 136| loss: 0.14617 | train_mse: 0.06084 | train_mae: 0.18057 |  0:00:40s\n"
     ]
    },
    {
     "name": "stdout",
     "output_type": "stream",
     "text": [
      "epoch 137| loss: 0.14943 | train_mse: 0.06741 | train_mae: 0.19112 |  0:00:40s\n"
     ]
    },
    {
     "name": "stdout",
     "output_type": "stream",
     "text": [
      "epoch 138| loss: 0.13246 | train_mse: 0.05653 | train_mae: 0.176   |  0:00:40s\n"
     ]
    },
    {
     "name": "stdout",
     "output_type": "stream",
     "text": [
      "epoch 139| loss: 0.09955 | train_mse: 0.05686 | train_mae: 0.17473 |  0:00:41s\n"
     ]
    },
    {
     "name": "stdout",
     "output_type": "stream",
     "text": [
      "epoch 140| loss: 0.10804 | train_mse: 0.05256 | train_mae: 0.16906 |  0:00:41s\n"
     ]
    },
    {
     "name": "stdout",
     "output_type": "stream",
     "text": [
      "epoch 141| loss: 0.12218 | train_mse: 0.07973 | train_mae: 0.20539 |  0:00:41s\n"
     ]
    },
    {
     "name": "stdout",
     "output_type": "stream",
     "text": [
      "epoch 142| loss: 0.20293 | train_mse: 0.07084 | train_mae: 0.18406 |  0:00:42s\n"
     ]
    },
    {
     "name": "stdout",
     "output_type": "stream",
     "text": [
      "epoch 143| loss: 0.14613 | train_mse: 0.09372 | train_mae: 0.21488 |  0:00:42s\n"
     ]
    },
    {
     "name": "stdout",
     "output_type": "stream",
     "text": [
      "epoch 144| loss: 0.14605 | train_mse: 0.06017 | train_mae: 0.18062 |  0:00:42s\n"
     ]
    },
    {
     "name": "stdout",
     "output_type": "stream",
     "text": [
      "epoch 145| loss: 0.12856 | train_mse: 0.06446 | train_mae: 0.18819 |  0:00:42s\n"
     ]
    },
    {
     "name": "stdout",
     "output_type": "stream",
     "text": [
      "epoch 146| loss: 0.09958 | train_mse: 0.07648 | train_mae: 0.19549 |  0:00:43s\n"
     ]
    },
    {
     "name": "stdout",
     "output_type": "stream",
     "text": [
      "epoch 147| loss: 0.11557 | train_mse: 0.05618 | train_mae: 0.17538 |  0:00:43s\n"
     ]
    },
    {
     "name": "stdout",
     "output_type": "stream",
     "text": [
      "epoch 148| loss: 0.1162  | train_mse: 0.07631 | train_mae: 0.21061 |  0:00:43s\n"
     ]
    },
    {
     "name": "stdout",
     "output_type": "stream",
     "text": [
      "epoch 149| loss: 0.11482 | train_mse: 0.05929 | train_mae: 0.18495 |  0:00:44s\n"
     ]
    },
    {
     "name": "stdout",
     "output_type": "stream",
     "text": [
      "epoch 150| loss: 0.10668 | train_mse: 0.05515 | train_mae: 0.17499 |  0:00:44s\n"
     ]
    },
    {
     "name": "stdout",
     "output_type": "stream",
     "text": [
      "epoch 151| loss: 0.10581 | train_mse: 0.06225 | train_mae: 0.18364 |  0:00:44s\n"
     ]
    },
    {
     "name": "stdout",
     "output_type": "stream",
     "text": [
      "epoch 152| loss: 0.0996  | train_mse: 0.06571 | train_mae: 0.18104 |  0:00:44s\n"
     ]
    },
    {
     "name": "stdout",
     "output_type": "stream",
     "text": [
      "epoch 153| loss: 0.12909 | train_mse: 0.08246 | train_mae: 0.20911 |  0:00:45s\n"
     ]
    },
    {
     "name": "stdout",
     "output_type": "stream",
     "text": [
      "epoch 154| loss: 0.11106 | train_mse: 0.07825 | train_mae: 0.20406 |  0:00:45s\n"
     ]
    },
    {
     "name": "stdout",
     "output_type": "stream",
     "text": [
      "epoch 155| loss: 0.11322 | train_mse: 0.06562 | train_mae: 0.18984 |  0:00:45s\n"
     ]
    },
    {
     "name": "stdout",
     "output_type": "stream",
     "text": [
      "epoch 156| loss: 0.13683 | train_mse: 0.05721 | train_mae: 0.17936 |  0:00:46s\n"
     ]
    },
    {
     "name": "stdout",
     "output_type": "stream",
     "text": [
      "epoch 157| loss: 0.10591 | train_mse: 0.06385 | train_mae: 0.18583 |  0:00:46s\n"
     ]
    },
    {
     "name": "stdout",
     "output_type": "stream",
     "text": [
      "epoch 158| loss: 0.1846  | train_mse: 0.09894 | train_mae: 0.20475 |  0:00:46s\n"
     ]
    },
    {
     "name": "stdout",
     "output_type": "stream",
     "text": [
      "epoch 159| loss: 0.16485 | train_mse: 0.06818 | train_mae: 0.18188 |  0:00:46s\n"
     ]
    },
    {
     "name": "stdout",
     "output_type": "stream",
     "text": [
      "epoch 160| loss: 0.10979 | train_mse: 0.06162 | train_mae: 0.18692 |  0:00:47s\n"
     ]
    },
    {
     "name": "stdout",
     "output_type": "stream",
     "text": [
      "epoch 161| loss: 0.13091 | train_mse: 0.06875 | train_mae: 0.2016  |  0:00:47s\n"
     ]
    },
    {
     "name": "stdout",
     "output_type": "stream",
     "text": [
      "epoch 162| loss: 0.13521 | train_mse: 0.05912 | train_mae: 0.18642 |  0:00:48s\n"
     ]
    },
    {
     "name": "stdout",
     "output_type": "stream",
     "text": [
      "epoch 163| loss: 0.1243  | train_mse: 0.06419 | train_mae: 0.19284 |  0:00:48s\n"
     ]
    },
    {
     "name": "stdout",
     "output_type": "stream",
     "text": [
      "epoch 164| loss: 0.12951 | train_mse: 0.06306 | train_mae: 0.18888 |  0:00:48s\n"
     ]
    },
    {
     "name": "stdout",
     "output_type": "stream",
     "text": [
      "epoch 165| loss: 0.10534 | train_mse: 0.07634 | train_mae: 0.20739 |  0:00:48s\n"
     ]
    },
    {
     "name": "stdout",
     "output_type": "stream",
     "text": [
      "epoch 166| loss: 0.1209  | train_mse: 0.0572  | train_mae: 0.17646 |  0:00:49s\n"
     ]
    },
    {
     "name": "stdout",
     "output_type": "stream",
     "text": [
      "epoch 167| loss: 0.18438 | train_mse: 0.08166 | train_mae: 0.20753 |  0:00:49s\n"
     ]
    },
    {
     "name": "stdout",
     "output_type": "stream",
     "text": [
      "epoch 168| loss: 0.10702 | train_mse: 0.05271 | train_mae: 0.17089 |  0:00:49s\n"
     ]
    },
    {
     "name": "stdout",
     "output_type": "stream",
     "text": [
      "epoch 169| loss: 0.11681 | train_mse: 0.07491 | train_mae: 0.20324 |  0:00:50s\n"
     ]
    },
    {
     "name": "stdout",
     "output_type": "stream",
     "text": [
      "epoch 170| loss: 0.13978 | train_mse: 0.08866 | train_mae: 0.2213  |  0:00:50s\n"
     ]
    },
    {
     "name": "stdout",
     "output_type": "stream",
     "text": [
      "epoch 171| loss: 0.10085 | train_mse: 0.06027 | train_mae: 0.18267 |  0:00:50s\n"
     ]
    },
    {
     "name": "stdout",
     "output_type": "stream",
     "text": [
      "epoch 172| loss: 0.14392 | train_mse: 0.06142 | train_mae: 0.18397 |  0:00:50s\n"
     ]
    },
    {
     "name": "stdout",
     "output_type": "stream",
     "text": [
      "epoch 173| loss: 0.10043 | train_mse: 0.06048 | train_mae: 0.18045 |  0:00:51s\n"
     ]
    },
    {
     "name": "stdout",
     "output_type": "stream",
     "text": [
      "epoch 174| loss: 0.13278 | train_mse: 0.06176 | train_mae: 0.18069 |  0:00:51s\n"
     ]
    },
    {
     "name": "stdout",
     "output_type": "stream",
     "text": [
      "epoch 175| loss: 0.10138 | train_mse: 0.0672  | train_mae: 0.18607 |  0:00:51s\n"
     ]
    },
    {
     "name": "stdout",
     "output_type": "stream",
     "text": [
      "epoch 176| loss: 0.11666 | train_mse: 0.06141 | train_mae: 0.18312 |  0:00:52s\n"
     ]
    },
    {
     "name": "stdout",
     "output_type": "stream",
     "text": [
      "epoch 177| loss: 0.13443 | train_mse: 0.07769 | train_mae: 0.20499 |  0:00:52s\n"
     ]
    },
    {
     "name": "stdout",
     "output_type": "stream",
     "text": [
      "epoch 178| loss: 0.12703 | train_mse: 0.05938 | train_mae: 0.17931 |  0:00:52s\n"
     ]
    },
    {
     "name": "stdout",
     "output_type": "stream",
     "text": [
      "epoch 179| loss: 0.10388 | train_mse: 0.06185 | train_mae: 0.18713 |  0:00:52s\n"
     ]
    },
    {
     "name": "stdout",
     "output_type": "stream",
     "text": [
      "epoch 180| loss: 0.11187 | train_mse: 0.05804 | train_mae: 0.18186 |  0:00:53s\n"
     ]
    },
    {
     "name": "stdout",
     "output_type": "stream",
     "text": [
      "epoch 181| loss: 0.10208 | train_mse: 0.06191 | train_mae: 0.18698 |  0:00:53s\n"
     ]
    },
    {
     "name": "stdout",
     "output_type": "stream",
     "text": [
      "epoch 182| loss: 0.18604 | train_mse: 0.08292 | train_mae: 0.21421 |  0:00:53s\n"
     ]
    },
    {
     "name": "stdout",
     "output_type": "stream",
     "text": [
      "epoch 183| loss: 0.10287 | train_mse: 0.05251 | train_mae: 0.16969 |  0:00:54s\n"
     ]
    },
    {
     "name": "stdout",
     "output_type": "stream",
     "text": [
      "epoch 184| loss: 0.09607 | train_mse: 0.063   | train_mae: 0.18667 |  0:00:54s\n"
     ]
    },
    {
     "name": "stdout",
     "output_type": "stream",
     "text": [
      "epoch 185| loss: 0.1082  | train_mse: 0.05137 | train_mae: 0.16832 |  0:00:54s\n"
     ]
    },
    {
     "name": "stdout",
     "output_type": "stream",
     "text": [
      "epoch 186| loss: 0.09731 | train_mse: 0.06355 | train_mae: 0.18904 |  0:00:54s\n"
     ]
    },
    {
     "name": "stdout",
     "output_type": "stream",
     "text": [
      "epoch 187| loss: 0.10086 | train_mse: 0.07165 | train_mae: 0.20071 |  0:00:55s\n"
     ]
    },
    {
     "name": "stdout",
     "output_type": "stream",
     "text": [
      "epoch 188| loss: 0.08652 | train_mse: 0.0565  | train_mae: 0.17831 |  0:00:55s\n"
     ]
    },
    {
     "name": "stdout",
     "output_type": "stream",
     "text": [
      "epoch 189| loss: 0.09221 | train_mse: 0.05263 | train_mae: 0.17033 |  0:00:55s\n"
     ]
    },
    {
     "name": "stdout",
     "output_type": "stream",
     "text": [
      "epoch 190| loss: 0.09937 | train_mse: 0.04936 | train_mae: 0.16578 |  0:00:56s\n"
     ]
    },
    {
     "name": "stdout",
     "output_type": "stream",
     "text": [
      "epoch 191| loss: 0.09747 | train_mse: 0.06532 | train_mae: 0.18269 |  0:00:56s\n"
     ]
    },
    {
     "name": "stdout",
     "output_type": "stream",
     "text": [
      "epoch 192| loss: 0.12842 | train_mse: 0.05768 | train_mae: 0.17756 |  0:00:56s\n"
     ]
    },
    {
     "name": "stdout",
     "output_type": "stream",
     "text": [
      "epoch 193| loss: 0.12063 | train_mse: 0.05574 | train_mae: 0.1702  |  0:00:56s\n"
     ]
    },
    {
     "name": "stdout",
     "output_type": "stream",
     "text": [
      "epoch 194| loss: 0.11683 | train_mse: 0.05566 | train_mae: 0.17388 |  0:00:57s\n"
     ]
    },
    {
     "name": "stdout",
     "output_type": "stream",
     "text": [
      "epoch 195| loss: 0.10305 | train_mse: 0.05236 | train_mae: 0.16839 |  0:00:57s\n"
     ]
    },
    {
     "name": "stdout",
     "output_type": "stream",
     "text": [
      "epoch 196| loss: 0.11007 | train_mse: 0.05781 | train_mae: 0.17021 |  0:00:57s\n"
     ]
    },
    {
     "name": "stdout",
     "output_type": "stream",
     "text": [
      "epoch 197| loss: 0.09765 | train_mse: 0.05303 | train_mae: 0.16626 |  0:00:58s\n"
     ]
    },
    {
     "name": "stdout",
     "output_type": "stream",
     "text": [
      "epoch 198| loss: 0.12329 | train_mse: 0.06559 | train_mae: 0.18611 |  0:00:58s\n"
     ]
    },
    {
     "name": "stdout",
     "output_type": "stream",
     "text": [
      "epoch 199| loss: 0.15536 | train_mse: 0.05426 | train_mae: 0.16999 |  0:00:58s\n"
     ]
    },
    {
     "name": "stdout",
     "output_type": "stream",
     "text": [
      "epoch 200| loss: 0.0904  | train_mse: 0.06497 | train_mae: 0.18908 |  0:00:59s\n"
     ]
    },
    {
     "name": "stdout",
     "output_type": "stream",
     "text": [
      "epoch 201| loss: 0.1312  | train_mse: 0.04737 | train_mae: 0.15989 |  0:00:59s\n"
     ]
    },
    {
     "name": "stdout",
     "output_type": "stream",
     "text": [
      "epoch 202| loss: 0.11279 | train_mse: 0.06532 | train_mae: 0.19218 |  0:00:59s\n"
     ]
    },
    {
     "name": "stdout",
     "output_type": "stream",
     "text": [
      "epoch 203| loss: 0.0965  | train_mse: 0.05005 | train_mae: 0.16711 |  0:00:59s\n"
     ]
    },
    {
     "name": "stdout",
     "output_type": "stream",
     "text": [
      "epoch 204| loss: 0.11648 | train_mse: 0.06927 | train_mae: 0.19422 |  0:01:00s\n"
     ]
    },
    {
     "name": "stdout",
     "output_type": "stream",
     "text": [
      "epoch 205| loss: 0.09678 | train_mse: 0.04717 | train_mae: 0.15988 |  0:01:00s\n"
     ]
    },
    {
     "name": "stdout",
     "output_type": "stream",
     "text": [
      "epoch 206| loss: 0.10858 | train_mse: 0.05415 | train_mae: 0.17403 |  0:01:00s\n"
     ]
    },
    {
     "name": "stdout",
     "output_type": "stream",
     "text": [
      "epoch 207| loss: 0.11857 | train_mse: 0.05365 | train_mae: 0.17134 |  0:01:01s\n"
     ]
    },
    {
     "name": "stdout",
     "output_type": "stream",
     "text": [
      "epoch 208| loss: 0.11772 | train_mse: 0.07112 | train_mae: 0.19931 |  0:01:01s\n"
     ]
    },
    {
     "name": "stdout",
     "output_type": "stream",
     "text": [
      "epoch 209| loss: 0.14333 | train_mse: 0.08031 | train_mae: 0.21359 |  0:01:01s\n"
     ]
    },
    {
     "name": "stdout",
     "output_type": "stream",
     "text": [
      "epoch 210| loss: 0.10044 | train_mse: 0.05337 | train_mae: 0.17079 |  0:01:02s\n"
     ]
    },
    {
     "name": "stdout",
     "output_type": "stream",
     "text": [
      "epoch 211| loss: 0.10192 | train_mse: 0.05255 | train_mae: 0.17118 |  0:01:02s\n"
     ]
    },
    {
     "name": "stdout",
     "output_type": "stream",
     "text": [
      "epoch 212| loss: 0.13275 | train_mse: 0.04564 | train_mae: 0.16254 |  0:01:02s\n"
     ]
    },
    {
     "name": "stdout",
     "output_type": "stream",
     "text": [
      "epoch 213| loss: 0.10314 | train_mse: 0.05261 | train_mae: 0.16816 |  0:01:02s\n"
     ]
    },
    {
     "name": "stdout",
     "output_type": "stream",
     "text": [
      "epoch 214| loss: 0.08948 | train_mse: 0.05173 | train_mae: 0.16967 |  0:01:03s\n"
     ]
    },
    {
     "name": "stdout",
     "output_type": "stream",
     "text": [
      "epoch 215| loss: 0.076   | train_mse: 0.05298 | train_mae: 0.17145 |  0:01:03s\n"
     ]
    },
    {
     "name": "stdout",
     "output_type": "stream",
     "text": [
      "epoch 216| loss: 0.09964 | train_mse: 0.04709 | train_mae: 0.16315 |  0:01:03s\n"
     ]
    },
    {
     "name": "stdout",
     "output_type": "stream",
     "text": [
      "epoch 217| loss: 0.10803 | train_mse: 0.04467 | train_mae: 0.16048 |  0:01:04s\n"
     ]
    },
    {
     "name": "stdout",
     "output_type": "stream",
     "text": [
      "epoch 218| loss: 0.10828 | train_mse: 0.06293 | train_mae: 0.18822 |  0:01:04s\n"
     ]
    },
    {
     "name": "stdout",
     "output_type": "stream",
     "text": [
      "epoch 219| loss: 0.08675 | train_mse: 0.06087 | train_mae: 0.18141 |  0:01:04s\n"
     ]
    },
    {
     "name": "stdout",
     "output_type": "stream",
     "text": [
      "epoch 220| loss: 0.0849  | train_mse: 0.05176 | train_mae: 0.16551 |  0:01:05s\n"
     ]
    },
    {
     "name": "stdout",
     "output_type": "stream",
     "text": [
      "epoch 221| loss: 0.1053  | train_mse: 0.06162 | train_mae: 0.18473 |  0:01:05s\n"
     ]
    },
    {
     "name": "stdout",
     "output_type": "stream",
     "text": [
      "epoch 222| loss: 0.087   | train_mse: 0.04656 | train_mae: 0.15996 |  0:01:05s\n"
     ]
    },
    {
     "name": "stdout",
     "output_type": "stream",
     "text": [
      "epoch 223| loss: 0.1005  | train_mse: 0.04594 | train_mae: 0.15961 |  0:01:05s\n"
     ]
    },
    {
     "name": "stdout",
     "output_type": "stream",
     "text": [
      "epoch 224| loss: 0.11276 | train_mse: 0.04542 | train_mae: 0.15837 |  0:01:06s\n"
     ]
    },
    {
     "name": "stdout",
     "output_type": "stream",
     "text": [
      "epoch 225| loss: 0.11682 | train_mse: 0.05719 | train_mae: 0.17415 |  0:01:06s\n"
     ]
    },
    {
     "name": "stdout",
     "output_type": "stream",
     "text": [
      "epoch 226| loss: 0.11048 | train_mse: 0.0631  | train_mae: 0.18811 |  0:01:06s\n"
     ]
    },
    {
     "name": "stdout",
     "output_type": "stream",
     "text": [
      "epoch 227| loss: 0.09712 | train_mse: 0.06055 | train_mae: 0.18468 |  0:01:07s\n"
     ]
    },
    {
     "name": "stdout",
     "output_type": "stream",
     "text": [
      "epoch 228| loss: 0.11003 | train_mse: 0.04952 | train_mae: 0.16535 |  0:01:07s\n"
     ]
    },
    {
     "name": "stdout",
     "output_type": "stream",
     "text": [
      "epoch 229| loss: 0.08789 | train_mse: 0.07512 | train_mae: 0.18851 |  0:01:07s\n"
     ]
    },
    {
     "name": "stdout",
     "output_type": "stream",
     "text": [
      "epoch 230| loss: 0.11646 | train_mse: 0.05807 | train_mae: 0.18399 |  0:01:07s\n"
     ]
    },
    {
     "name": "stdout",
     "output_type": "stream",
     "text": [
      "epoch 231| loss: 0.10909 | train_mse: 0.04691 | train_mae: 0.15911 |  0:01:08s\n"
     ]
    },
    {
     "name": "stdout",
     "output_type": "stream",
     "text": [
      "epoch 232| loss: 0.09    | train_mse: 0.04436 | train_mae: 0.1571  |  0:01:08s\n"
     ]
    },
    {
     "name": "stdout",
     "output_type": "stream",
     "text": [
      "epoch 233| loss: 0.10506 | train_mse: 0.05883 | train_mae: 0.17757 |  0:01:08s\n"
     ]
    },
    {
     "name": "stdout",
     "output_type": "stream",
     "text": [
      "epoch 234| loss: 0.08558 | train_mse: 0.05046 | train_mae: 0.16811 |  0:01:09s\n"
     ]
    },
    {
     "name": "stdout",
     "output_type": "stream",
     "text": [
      "epoch 235| loss: 0.09918 | train_mse: 0.06315 | train_mae: 0.18422 |  0:01:09s\n"
     ]
    },
    {
     "name": "stdout",
     "output_type": "stream",
     "text": [
      "epoch 236| loss: 0.11105 | train_mse: 0.05041 | train_mae: 0.16995 |  0:01:09s\n"
     ]
    },
    {
     "name": "stdout",
     "output_type": "stream",
     "text": [
      "epoch 237| loss: 0.09188 | train_mse: 0.05393 | train_mae: 0.17563 |  0:01:09s\n"
     ]
    },
    {
     "name": "stdout",
     "output_type": "stream",
     "text": [
      "epoch 238| loss: 0.10485 | train_mse: 0.04785 | train_mae: 0.16344 |  0:01:10s\n"
     ]
    },
    {
     "name": "stdout",
     "output_type": "stream",
     "text": [
      "epoch 239| loss: 0.10941 | train_mse: 0.05046 | train_mae: 0.16733 |  0:01:10s\n"
     ]
    },
    {
     "name": "stdout",
     "output_type": "stream",
     "text": [
      "epoch 240| loss: 0.09244 | train_mse: 0.05247 | train_mae: 0.16599 |  0:01:10s\n"
     ]
    },
    {
     "name": "stdout",
     "output_type": "stream",
     "text": [
      "epoch 241| loss: 0.09793 | train_mse: 0.04234 | train_mae: 0.15522 |  0:01:11s\n"
     ]
    },
    {
     "name": "stdout",
     "output_type": "stream",
     "text": [
      "epoch 242| loss: 0.09156 | train_mse: 0.06204 | train_mae: 0.18547 |  0:01:11s\n"
     ]
    },
    {
     "name": "stdout",
     "output_type": "stream",
     "text": [
      "epoch 243| loss: 0.11576 | train_mse: 0.06239 | train_mae: 0.18708 |  0:01:11s\n"
     ]
    },
    {
     "name": "stdout",
     "output_type": "stream",
     "text": [
      "epoch 244| loss: 0.11302 | train_mse: 0.07071 | train_mae: 0.19997 |  0:01:11s\n"
     ]
    },
    {
     "name": "stdout",
     "output_type": "stream",
     "text": [
      "epoch 245| loss: 0.10833 | train_mse: 0.05407 | train_mae: 0.17707 |  0:01:12s\n"
     ]
    },
    {
     "name": "stdout",
     "output_type": "stream",
     "text": [
      "epoch 246| loss: 0.12486 | train_mse: 0.04855 | train_mae: 0.16732 |  0:01:12s\n"
     ]
    },
    {
     "name": "stdout",
     "output_type": "stream",
     "text": [
      "epoch 247| loss: 0.08396 | train_mse: 0.05909 | train_mae: 0.17444 |  0:01:12s\n"
     ]
    },
    {
     "name": "stdout",
     "output_type": "stream",
     "text": [
      "epoch 248| loss: 0.10724 | train_mse: 0.05168 | train_mae: 0.1703  |  0:01:13s\n"
     ]
    },
    {
     "name": "stdout",
     "output_type": "stream",
     "text": [
      "epoch 249| loss: 0.11633 | train_mse: 0.04679 | train_mae: 0.16255 |  0:01:13s\n"
     ]
    },
    {
     "name": "stdout",
     "output_type": "stream",
     "text": [
      "epoch 250| loss: 0.0857  | train_mse: 0.04907 | train_mae: 0.16923 |  0:01:13s\n"
     ]
    },
    {
     "name": "stdout",
     "output_type": "stream",
     "text": [
      "epoch 251| loss: 0.09834 | train_mse: 0.04644 | train_mae: 0.16373 |  0:01:13s\n"
     ]
    },
    {
     "name": "stdout",
     "output_type": "stream",
     "text": [
      "epoch 252| loss: 0.07995 | train_mse: 0.04769 | train_mae: 0.16087 |  0:01:14s\n"
     ]
    },
    {
     "name": "stdout",
     "output_type": "stream",
     "text": [
      "epoch 253| loss: 0.09594 | train_mse: 0.05266 | train_mae: 0.16746 |  0:01:14s\n"
     ]
    },
    {
     "name": "stdout",
     "output_type": "stream",
     "text": [
      "epoch 254| loss: 0.07449 | train_mse: 0.04418 | train_mae: 0.15574 |  0:01:14s\n"
     ]
    },
    {
     "name": "stdout",
     "output_type": "stream",
     "text": [
      "epoch 255| loss: 0.11697 | train_mse: 0.05001 | train_mae: 0.16742 |  0:01:15s\n"
     ]
    },
    {
     "name": "stdout",
     "output_type": "stream",
     "text": [
      "epoch 256| loss: 0.11957 | train_mse: 0.05446 | train_mae: 0.17516 |  0:01:15s\n"
     ]
    },
    {
     "name": "stdout",
     "output_type": "stream",
     "text": [
      "epoch 257| loss: 0.09514 | train_mse: 0.04335 | train_mae: 0.15992 |  0:01:15s\n"
     ]
    },
    {
     "name": "stdout",
     "output_type": "stream",
     "text": [
      "epoch 258| loss: 0.09068 | train_mse: 0.04685 | train_mae: 0.16507 |  0:01:15s\n"
     ]
    },
    {
     "name": "stdout",
     "output_type": "stream",
     "text": [
      "epoch 259| loss: 0.09072 | train_mse: 0.06442 | train_mae: 0.18802 |  0:01:16s\n"
     ]
    },
    {
     "name": "stdout",
     "output_type": "stream",
     "text": [
      "epoch 260| loss: 0.11722 | train_mse: 0.04729 | train_mae: 0.16345 |  0:01:16s\n"
     ]
    },
    {
     "name": "stdout",
     "output_type": "stream",
     "text": [
      "epoch 261| loss: 0.08267 | train_mse: 0.05212 | train_mae: 0.17259 |  0:01:16s\n"
     ]
    },
    {
     "name": "stdout",
     "output_type": "stream",
     "text": [
      "epoch 262| loss: 0.09526 | train_mse: 0.05955 | train_mae: 0.17802 |  0:01:17s\n"
     ]
    },
    {
     "name": "stdout",
     "output_type": "stream",
     "text": [
      "epoch 263| loss: 0.0996  | train_mse: 0.04869 | train_mae: 0.16442 |  0:01:17s\n"
     ]
    },
    {
     "name": "stdout",
     "output_type": "stream",
     "text": [
      "epoch 264| loss: 0.1062  | train_mse: 0.05186 | train_mae: 0.16662 |  0:01:17s\n"
     ]
    },
    {
     "name": "stdout",
     "output_type": "stream",
     "text": [
      "epoch 265| loss: 0.08044 | train_mse: 0.04834 | train_mae: 0.16273 |  0:01:17s\n"
     ]
    },
    {
     "name": "stdout",
     "output_type": "stream",
     "text": [
      "epoch 266| loss: 0.12256 | train_mse: 0.05796 | train_mae: 0.17675 |  0:01:18s\n"
     ]
    },
    {
     "name": "stdout",
     "output_type": "stream",
     "text": [
      "epoch 267| loss: 0.10282 | train_mse: 0.05371 | train_mae: 0.17382 |  0:01:18s\n"
     ]
    },
    {
     "name": "stdout",
     "output_type": "stream",
     "text": [
      "epoch 268| loss: 0.09095 | train_mse: 0.0439  | train_mae: 0.1538  |  0:01:18s\n"
     ]
    },
    {
     "name": "stdout",
     "output_type": "stream",
     "text": [
      "epoch 269| loss: 0.10594 | train_mse: 0.04774 | train_mae: 0.16551 |  0:01:19s\n"
     ]
    },
    {
     "name": "stdout",
     "output_type": "stream",
     "text": [
      "epoch 270| loss: 0.08007 | train_mse: 0.04557 | train_mae: 0.16394 |  0:01:19s\n"
     ]
    },
    {
     "name": "stdout",
     "output_type": "stream",
     "text": [
      "epoch 271| loss: 0.07407 | train_mse: 0.05505 | train_mae: 0.17752 |  0:01:19s\n"
     ]
    },
    {
     "name": "stdout",
     "output_type": "stream",
     "text": [
      "epoch 272| loss: 0.10321 | train_mse: 0.05527 | train_mae: 0.17595 |  0:01:20s\n"
     ]
    },
    {
     "name": "stdout",
     "output_type": "stream",
     "text": [
      "epoch 273| loss: 0.11456 | train_mse: 0.05398 | train_mae: 0.17339 |  0:01:21s\n"
     ]
    },
    {
     "name": "stdout",
     "output_type": "stream",
     "text": [
      "epoch 274| loss: 0.09036 | train_mse: 0.0485  | train_mae: 0.16634 |  0:01:21s\n"
     ]
    },
    {
     "name": "stdout",
     "output_type": "stream",
     "text": [
      "epoch 275| loss: 0.09314 | train_mse: 0.04404 | train_mae: 0.15683 |  0:01:21s\n"
     ]
    },
    {
     "name": "stdout",
     "output_type": "stream",
     "text": [
      "epoch 276| loss: 0.16482 | train_mse: 0.05646 | train_mae: 0.17732 |  0:01:22s\n"
     ]
    },
    {
     "name": "stdout",
     "output_type": "stream",
     "text": [
      "epoch 277| loss: 0.10587 | train_mse: 0.041   | train_mae: 0.15144 |  0:01:22s\n"
     ]
    },
    {
     "name": "stdout",
     "output_type": "stream",
     "text": [
      "epoch 278| loss: 0.0721  | train_mse: 0.0427  | train_mae: 0.15389 |  0:01:22s\n"
     ]
    },
    {
     "name": "stdout",
     "output_type": "stream",
     "text": [
      "epoch 279| loss: 0.09865 | train_mse: 0.04476 | train_mae: 0.16257 |  0:01:22s\n"
     ]
    },
    {
     "name": "stdout",
     "output_type": "stream",
     "text": [
      "epoch 280| loss: 0.0901  | train_mse: 0.04449 | train_mae: 0.16135 |  0:01:23s\n"
     ]
    },
    {
     "name": "stdout",
     "output_type": "stream",
     "text": [
      "epoch 281| loss: 0.09206 | train_mse: 0.04515 | train_mae: 0.16074 |  0:01:23s\n"
     ]
    },
    {
     "name": "stdout",
     "output_type": "stream",
     "text": [
      "epoch 282| loss: 0.0946  | train_mse: 0.05794 | train_mae: 0.1702  |  0:01:23s\n"
     ]
    },
    {
     "name": "stdout",
     "output_type": "stream",
     "text": [
      "epoch 283| loss: 0.08498 | train_mse: 0.04196 | train_mae: 0.15052 |  0:01:24s\n"
     ]
    },
    {
     "name": "stdout",
     "output_type": "stream",
     "text": [
      "epoch 284| loss: 0.10578 | train_mse: 0.06342 | train_mae: 0.1829  |  0:01:24s\n"
     ]
    },
    {
     "name": "stdout",
     "output_type": "stream",
     "text": [
      "epoch 285| loss: 0.08268 | train_mse: 0.05338 | train_mae: 0.16728 |  0:01:24s\n"
     ]
    },
    {
     "name": "stdout",
     "output_type": "stream",
     "text": [
      "epoch 286| loss: 0.08326 | train_mse: 0.0508  | train_mae: 0.16607 |  0:01:24s\n"
     ]
    },
    {
     "name": "stdout",
     "output_type": "stream",
     "text": [
      "epoch 287| loss: 0.09768 | train_mse: 0.05088 | train_mae: 0.16548 |  0:01:25s\n"
     ]
    },
    {
     "name": "stdout",
     "output_type": "stream",
     "text": [
      "epoch 288| loss: 0.06769 | train_mse: 0.04126 | train_mae: 0.15289 |  0:01:25s\n"
     ]
    },
    {
     "name": "stdout",
     "output_type": "stream",
     "text": [
      "epoch 289| loss: 0.08378 | train_mse: 0.05521 | train_mae: 0.17481 |  0:01:25s\n"
     ]
    },
    {
     "name": "stdout",
     "output_type": "stream",
     "text": [
      "epoch 290| loss: 0.12409 | train_mse: 0.0535  | train_mae: 0.17219 |  0:01:26s\n"
     ]
    },
    {
     "name": "stdout",
     "output_type": "stream",
     "text": [
      "epoch 291| loss: 0.08179 | train_mse: 0.05616 | train_mae: 0.17222 |  0:01:26s\n"
     ]
    },
    {
     "name": "stdout",
     "output_type": "stream",
     "text": [
      "epoch 292| loss: 0.09622 | train_mse: 0.04723 | train_mae: 0.16066 |  0:01:26s\n"
     ]
    },
    {
     "name": "stdout",
     "output_type": "stream",
     "text": [
      "epoch 293| loss: 0.07097 | train_mse: 0.05011 | train_mae: 0.16551 |  0:01:27s\n"
     ]
    },
    {
     "name": "stdout",
     "output_type": "stream",
     "text": [
      "epoch 294| loss: 0.07791 | train_mse: 0.05906 | train_mae: 0.18107 |  0:01:27s\n"
     ]
    },
    {
     "name": "stdout",
     "output_type": "stream",
     "text": [
      "epoch 295| loss: 0.1224  | train_mse: 0.04906 | train_mae: 0.16883 |  0:01:27s\n"
     ]
    },
    {
     "name": "stdout",
     "output_type": "stream",
     "text": [
      "epoch 296| loss: 0.06771 | train_mse: 0.04614 | train_mae: 0.15937 |  0:01:27s\n"
     ]
    },
    {
     "name": "stdout",
     "output_type": "stream",
     "text": [
      "epoch 297| loss: 0.11336 | train_mse: 0.04993 | train_mae: 0.16199 |  0:01:28s\n"
     ]
    },
    {
     "name": "stdout",
     "output_type": "stream",
     "text": [
      "epoch 298| loss: 0.09318 | train_mse: 0.04169 | train_mae: 0.15316 |  0:01:28s\n"
     ]
    },
    {
     "name": "stdout",
     "output_type": "stream",
     "text": [
      "epoch 299| loss: 0.09866 | train_mse: 0.05075 | train_mae: 0.16831 |  0:01:28s\n"
     ]
    },
    {
     "name": "stdout",
     "output_type": "stream",
     "text": [
      "epoch 300| loss: 0.10579 | train_mse: 0.03916 | train_mae: 0.14918 |  0:01:29s\n"
     ]
    },
    {
     "name": "stdout",
     "output_type": "stream",
     "text": [
      "epoch 301| loss: 0.10745 | train_mse: 0.05698 | train_mae: 0.1763  |  0:01:29s\n"
     ]
    },
    {
     "name": "stdout",
     "output_type": "stream",
     "text": [
      "epoch 302| loss: 0.10801 | train_mse: 0.06305 | train_mae: 0.18456 |  0:01:29s\n"
     ]
    },
    {
     "name": "stdout",
     "output_type": "stream",
     "text": [
      "epoch 303| loss: 0.09051 | train_mse: 0.04163 | train_mae: 0.15206 |  0:01:29s\n"
     ]
    },
    {
     "name": "stdout",
     "output_type": "stream",
     "text": [
      "epoch 304| loss: 0.09659 | train_mse: 0.05422 | train_mae: 0.17542 |  0:01:30s\n"
     ]
    },
    {
     "name": "stdout",
     "output_type": "stream",
     "text": [
      "epoch 305| loss: 0.08327 | train_mse: 0.04415 | train_mae: 0.15898 |  0:01:30s\n"
     ]
    },
    {
     "name": "stdout",
     "output_type": "stream",
     "text": [
      "epoch 306| loss: 0.13947 | train_mse: 0.04795 | train_mae: 0.16313 |  0:01:30s\n"
     ]
    },
    {
     "name": "stdout",
     "output_type": "stream",
     "text": [
      "epoch 307| loss: 0.0997  | train_mse: 0.05033 | train_mae: 0.16867 |  0:01:31s\n"
     ]
    },
    {
     "name": "stdout",
     "output_type": "stream",
     "text": [
      "epoch 308| loss: 0.10789 | train_mse: 0.0431  | train_mae: 0.15825 |  0:01:31s\n"
     ]
    },
    {
     "name": "stdout",
     "output_type": "stream",
     "text": [
      "epoch 309| loss: 0.10152 | train_mse: 0.04488 | train_mae: 0.15659 |  0:01:31s\n"
     ]
    },
    {
     "name": "stdout",
     "output_type": "stream",
     "text": [
      "epoch 310| loss: 0.1033  | train_mse: 0.04721 | train_mae: 0.16394 |  0:01:31s\n"
     ]
    },
    {
     "name": "stdout",
     "output_type": "stream",
     "text": [
      "epoch 311| loss: 0.11366 | train_mse: 0.04883 | train_mae: 0.16676 |  0:01:32s\n"
     ]
    },
    {
     "name": "stdout",
     "output_type": "stream",
     "text": [
      "epoch 312| loss: 0.08607 | train_mse: 0.04326 | train_mae: 0.15801 |  0:01:32s\n"
     ]
    },
    {
     "name": "stdout",
     "output_type": "stream",
     "text": [
      "epoch 313| loss: 0.08826 | train_mse: 0.05259 | train_mae: 0.17221 |  0:01:33s\n"
     ]
    },
    {
     "name": "stdout",
     "output_type": "stream",
     "text": [
      "epoch 314| loss: 0.11981 | train_mse: 0.05692 | train_mae: 0.17792 |  0:01:33s\n"
     ]
    },
    {
     "name": "stdout",
     "output_type": "stream",
     "text": [
      "epoch 315| loss: 0.07789 | train_mse: 0.055   | train_mae: 0.17708 |  0:01:33s\n"
     ]
    },
    {
     "name": "stdout",
     "output_type": "stream",
     "text": [
      "epoch 316| loss: 0.11788 | train_mse: 0.06687 | train_mae: 0.19036 |  0:01:34s\n"
     ]
    },
    {
     "name": "stdout",
     "output_type": "stream",
     "text": [
      "epoch 317| loss: 0.08976 | train_mse: 0.06464 | train_mae: 0.18772 |  0:01:34s\n"
     ]
    },
    {
     "name": "stdout",
     "output_type": "stream",
     "text": [
      "epoch 318| loss: 0.11655 | train_mse: 0.06865 | train_mae: 0.19486 |  0:01:34s\n"
     ]
    },
    {
     "name": "stdout",
     "output_type": "stream",
     "text": [
      "epoch 319| loss: 0.08147 | train_mse: 0.05461 | train_mae: 0.17585 |  0:01:34s\n"
     ]
    },
    {
     "name": "stdout",
     "output_type": "stream",
     "text": [
      "epoch 320| loss: 0.11329 | train_mse: 0.04391 | train_mae: 0.15912 |  0:01:35s\n"
     ]
    },
    {
     "name": "stdout",
     "output_type": "stream",
     "text": [
      "epoch 321| loss: 0.07648 | train_mse: 0.0545  | train_mae: 0.17537 |  0:01:35s\n"
     ]
    },
    {
     "name": "stdout",
     "output_type": "stream",
     "text": [
      "epoch 322| loss: 0.08583 | train_mse: 0.04807 | train_mae: 0.16175 |  0:01:35s\n"
     ]
    },
    {
     "name": "stdout",
     "output_type": "stream",
     "text": [
      "epoch 323| loss: 0.06954 | train_mse: 0.06275 | train_mae: 0.18374 |  0:01:36s\n"
     ]
    },
    {
     "name": "stdout",
     "output_type": "stream",
     "text": [
      "epoch 324| loss: 0.06896 | train_mse: 0.04621 | train_mae: 0.15516 |  0:01:36s\n"
     ]
    },
    {
     "name": "stdout",
     "output_type": "stream",
     "text": [
      "epoch 325| loss: 0.08455 | train_mse: 0.05399 | train_mae: 0.17451 |  0:01:36s\n"
     ]
    },
    {
     "name": "stdout",
     "output_type": "stream",
     "text": [
      "epoch 326| loss: 0.08956 | train_mse: 0.0478  | train_mae: 0.16392 |  0:01:36s\n"
     ]
    },
    {
     "name": "stdout",
     "output_type": "stream",
     "text": [
      "epoch 327| loss: 0.0986  | train_mse: 0.05153 | train_mae: 0.16915 |  0:01:37s\n"
     ]
    },
    {
     "name": "stdout",
     "output_type": "stream",
     "text": [
      "epoch 328| loss: 0.082   | train_mse: 0.04696 | train_mae: 0.16334 |  0:01:37s\n"
     ]
    },
    {
     "name": "stdout",
     "output_type": "stream",
     "text": [
      "epoch 329| loss: 0.08577 | train_mse: 0.04397 | train_mae: 0.15468 |  0:01:37s\n"
     ]
    },
    {
     "name": "stdout",
     "output_type": "stream",
     "text": [
      "epoch 330| loss: 0.09368 | train_mse: 0.05813 | train_mae: 0.17891 |  0:01:38s\n"
     ]
    },
    {
     "name": "stdout",
     "output_type": "stream",
     "text": [
      "epoch 331| loss: 0.09911 | train_mse: 0.05222 | train_mae: 0.16733 |  0:01:38s\n"
     ]
    },
    {
     "name": "stdout",
     "output_type": "stream",
     "text": [
      "epoch 332| loss: 0.08821 | train_mse: 0.04322 | train_mae: 0.15575 |  0:01:38s\n"
     ]
    },
    {
     "name": "stdout",
     "output_type": "stream",
     "text": [
      "epoch 333| loss: 0.07663 | train_mse: 0.04867 | train_mae: 0.16966 |  0:01:38s\n"
     ]
    },
    {
     "name": "stdout",
     "output_type": "stream",
     "text": [
      "epoch 334| loss: 0.11302 | train_mse: 0.06224 | train_mae: 0.18631 |  0:01:39s\n"
     ]
    },
    {
     "name": "stdout",
     "output_type": "stream",
     "text": [
      "epoch 335| loss: 0.0939  | train_mse: 0.0589  | train_mae: 0.1818  |  0:01:39s\n"
     ]
    },
    {
     "name": "stdout",
     "output_type": "stream",
     "text": [
      "epoch 336| loss: 0.08395 | train_mse: 0.04807 | train_mae: 0.16514 |  0:01:39s\n"
     ]
    },
    {
     "name": "stdout",
     "output_type": "stream",
     "text": [
      "epoch 337| loss: 0.10905 | train_mse: 0.0561  | train_mae: 0.17884 |  0:01:40s\n"
     ]
    },
    {
     "name": "stdout",
     "output_type": "stream",
     "text": [
      "epoch 338| loss: 0.1151  | train_mse: 0.05136 | train_mae: 0.17243 |  0:01:40s\n"
     ]
    },
    {
     "name": "stdout",
     "output_type": "stream",
     "text": [
      "epoch 339| loss: 0.07025 | train_mse: 0.04616 | train_mae: 0.1602  |  0:01:40s\n"
     ]
    },
    {
     "name": "stdout",
     "output_type": "stream",
     "text": [
      "epoch 340| loss: 0.09725 | train_mse: 0.04497 | train_mae: 0.16197 |  0:01:40s\n"
     ]
    },
    {
     "name": "stdout",
     "output_type": "stream",
     "text": [
      "epoch 341| loss: 0.10483 | train_mse: 0.0454  | train_mae: 0.16322 |  0:01:41s\n"
     ]
    },
    {
     "name": "stdout",
     "output_type": "stream",
     "text": [
      "epoch 342| loss: 0.0901  | train_mse: 0.0383  | train_mae: 0.15056 |  0:01:41s\n"
     ]
    },
    {
     "name": "stdout",
     "output_type": "stream",
     "text": [
      "epoch 343| loss: 0.09094 | train_mse: 0.03968 | train_mae: 0.1502  |  0:01:41s\n"
     ]
    },
    {
     "name": "stdout",
     "output_type": "stream",
     "text": [
      "epoch 344| loss: 0.0728  | train_mse: 0.04015 | train_mae: 0.15194 |  0:01:42s\n"
     ]
    },
    {
     "name": "stdout",
     "output_type": "stream",
     "text": [
      "epoch 345| loss: 0.10454 | train_mse: 0.03824 | train_mae: 0.1454  |  0:01:42s\n"
     ]
    },
    {
     "name": "stdout",
     "output_type": "stream",
     "text": [
      "epoch 346| loss: 0.09048 | train_mse: 0.04275 | train_mae: 0.1557  |  0:01:42s\n"
     ]
    },
    {
     "name": "stdout",
     "output_type": "stream",
     "text": [
      "epoch 347| loss: 0.09706 | train_mse: 0.04277 | train_mae: 0.15256 |  0:01:42s\n"
     ]
    },
    {
     "name": "stdout",
     "output_type": "stream",
     "text": [
      "epoch 348| loss: 0.08438 | train_mse: 0.06245 | train_mae: 0.18948 |  0:01:43s\n"
     ]
    },
    {
     "name": "stdout",
     "output_type": "stream",
     "text": [
      "epoch 349| loss: 0.08521 | train_mse: 0.04256 | train_mae: 0.1584  |  0:01:43s\n"
     ]
    },
    {
     "name": "stdout",
     "output_type": "stream",
     "text": [
      "epoch 350| loss: 0.06754 | train_mse: 0.04928 | train_mae: 0.16804 |  0:01:43s\n"
     ]
    },
    {
     "name": "stdout",
     "output_type": "stream",
     "text": [
      "epoch 351| loss: 0.09452 | train_mse: 0.04155 | train_mae: 0.15053 |  0:01:44s\n"
     ]
    },
    {
     "name": "stdout",
     "output_type": "stream",
     "text": [
      "epoch 352| loss: 0.094   | train_mse: 0.06193 | train_mae: 0.17757 |  0:01:44s\n"
     ]
    },
    {
     "name": "stdout",
     "output_type": "stream",
     "text": [
      "epoch 353| loss: 0.12937 | train_mse: 0.05234 | train_mae: 0.16768 |  0:01:44s\n"
     ]
    },
    {
     "name": "stdout",
     "output_type": "stream",
     "text": [
      "epoch 354| loss: 0.10251 | train_mse: 0.05699 | train_mae: 0.17436 |  0:01:44s\n"
     ]
    },
    {
     "name": "stdout",
     "output_type": "stream",
     "text": [
      "epoch 355| loss: 0.08215 | train_mse: 0.04237 | train_mae: 0.15461 |  0:01:45s\n"
     ]
    },
    {
     "name": "stdout",
     "output_type": "stream",
     "text": [
      "epoch 356| loss: 0.11238 | train_mse: 0.05069 | train_mae: 0.17213 |  0:01:45s\n"
     ]
    },
    {
     "name": "stdout",
     "output_type": "stream",
     "text": [
      "epoch 357| loss: 0.07167 | train_mse: 0.04017 | train_mae: 0.15107 |  0:01:45s\n"
     ]
    },
    {
     "name": "stdout",
     "output_type": "stream",
     "text": [
      "epoch 358| loss: 0.07975 | train_mse: 0.04156 | train_mae: 0.15322 |  0:01:46s\n"
     ]
    },
    {
     "name": "stdout",
     "output_type": "stream",
     "text": [
      "epoch 359| loss: 0.08287 | train_mse: 0.05056 | train_mae: 0.16766 |  0:01:46s\n"
     ]
    },
    {
     "name": "stdout",
     "output_type": "stream",
     "text": [
      "epoch 360| loss: 0.09211 | train_mse: 0.04758 | train_mae: 0.16505 |  0:01:46s\n"
     ]
    },
    {
     "name": "stdout",
     "output_type": "stream",
     "text": [
      "epoch 361| loss: 0.10632 | train_mse: 0.0678  | train_mae: 0.18692 |  0:01:47s\n"
     ]
    },
    {
     "name": "stdout",
     "output_type": "stream",
     "text": [
      "epoch 362| loss: 0.13495 | train_mse: 0.04257 | train_mae: 0.15373 |  0:01:47s\n"
     ]
    },
    {
     "name": "stdout",
     "output_type": "stream",
     "text": [
      "epoch 363| loss: 0.07281 | train_mse: 0.04662 | train_mae: 0.16107 |  0:01:47s\n"
     ]
    },
    {
     "name": "stdout",
     "output_type": "stream",
     "text": [
      "epoch 364| loss: 0.09054 | train_mse: 0.04444 | train_mae: 0.15202 |  0:01:48s\n"
     ]
    },
    {
     "name": "stdout",
     "output_type": "stream",
     "text": [
      "epoch 365| loss: 0.10119 | train_mse: 0.06231 | train_mae: 0.18404 |  0:01:48s\n"
     ]
    },
    {
     "name": "stdout",
     "output_type": "stream",
     "text": [
      "epoch 366| loss: 0.07935 | train_mse: 0.04102 | train_mae: 0.15233 |  0:01:48s\n"
     ]
    },
    {
     "name": "stdout",
     "output_type": "stream",
     "text": [
      "epoch 367| loss: 0.08006 | train_mse: 0.06919 | train_mae: 0.19844 |  0:01:49s\n"
     ]
    },
    {
     "name": "stdout",
     "output_type": "stream",
     "text": [
      "epoch 368| loss: 0.08824 | train_mse: 0.04728 | train_mae: 0.16723 |  0:01:49s\n"
     ]
    },
    {
     "name": "stdout",
     "output_type": "stream",
     "text": [
      "epoch 369| loss: 0.0769  | train_mse: 0.0709  | train_mae: 0.20344 |  0:01:49s\n"
     ]
    },
    {
     "name": "stdout",
     "output_type": "stream",
     "text": [
      "epoch 370| loss: 0.09619 | train_mse: 0.05009 | train_mae: 0.1657  |  0:01:49s\n"
     ]
    },
    {
     "name": "stdout",
     "output_type": "stream",
     "text": [
      "epoch 371| loss: 0.07355 | train_mse: 0.04938 | train_mae: 0.16868 |  0:01:50s\n"
     ]
    },
    {
     "name": "stdout",
     "output_type": "stream",
     "text": [
      "epoch 372| loss: 0.09181 | train_mse: 0.04441 | train_mae: 0.1578  |  0:01:50s\n"
     ]
    },
    {
     "name": "stdout",
     "output_type": "stream",
     "text": [
      "epoch 373| loss: 0.07336 | train_mse: 0.04355 | train_mae: 0.15578 |  0:01:50s\n"
     ]
    },
    {
     "name": "stdout",
     "output_type": "stream",
     "text": [
      "epoch 374| loss: 0.07039 | train_mse: 0.04168 | train_mae: 0.15752 |  0:01:51s\n"
     ]
    },
    {
     "name": "stdout",
     "output_type": "stream",
     "text": [
      "epoch 375| loss: 0.07477 | train_mse: 0.04904 | train_mae: 0.17157 |  0:01:51s\n"
     ]
    },
    {
     "name": "stdout",
     "output_type": "stream",
     "text": [
      "epoch 376| loss: 0.08787 | train_mse: 0.04424 | train_mae: 0.15919 |  0:01:51s\n"
     ]
    },
    {
     "name": "stdout",
     "output_type": "stream",
     "text": [
      "epoch 377| loss: 0.07776 | train_mse: 0.04031 | train_mae: 0.14978 |  0:01:51s\n"
     ]
    },
    {
     "name": "stdout",
     "output_type": "stream",
     "text": [
      "epoch 378| loss: 0.08028 | train_mse: 0.04061 | train_mae: 0.1558  |  0:01:52s\n"
     ]
    },
    {
     "name": "stdout",
     "output_type": "stream",
     "text": [
      "epoch 379| loss: 0.08642 | train_mse: 0.04178 | train_mae: 0.14964 |  0:01:52s\n"
     ]
    },
    {
     "name": "stdout",
     "output_type": "stream",
     "text": [
      "epoch 380| loss: 0.08835 | train_mse: 0.04036 | train_mae: 0.14623 |  0:01:52s\n"
     ]
    },
    {
     "name": "stdout",
     "output_type": "stream",
     "text": [
      "epoch 381| loss: 0.09525 | train_mse: 0.05375 | train_mae: 0.16741 |  0:01:53s\n"
     ]
    },
    {
     "name": "stdout",
     "output_type": "stream",
     "text": [
      "epoch 382| loss: 0.08627 | train_mse: 0.04294 | train_mae: 0.15326 |  0:01:53s\n"
     ]
    },
    {
     "name": "stdout",
     "output_type": "stream",
     "text": [
      "epoch 383| loss: 0.07896 | train_mse: 0.03916 | train_mae: 0.14752 |  0:01:53s\n"
     ]
    },
    {
     "name": "stdout",
     "output_type": "stream",
     "text": [
      "epoch 384| loss: 0.08685 | train_mse: 0.04742 | train_mae: 0.16017 |  0:01:53s\n"
     ]
    },
    {
     "name": "stdout",
     "output_type": "stream",
     "text": [
      "epoch 385| loss: 0.09632 | train_mse: 0.04644 | train_mae: 0.16215 |  0:01:54s\n"
     ]
    },
    {
     "name": "stdout",
     "output_type": "stream",
     "text": [
      "epoch 386| loss: 0.0684  | train_mse: 0.04501 | train_mae: 0.1611  |  0:01:54s\n"
     ]
    },
    {
     "name": "stdout",
     "output_type": "stream",
     "text": [
      "epoch 387| loss: 0.07545 | train_mse: 0.03776 | train_mae: 0.14531 |  0:01:54s\n"
     ]
    },
    {
     "name": "stdout",
     "output_type": "stream",
     "text": [
      "epoch 388| loss: 0.0764  | train_mse: 0.04168 | train_mae: 0.15277 |  0:01:55s\n"
     ]
    },
    {
     "name": "stdout",
     "output_type": "stream",
     "text": [
      "epoch 389| loss: 0.06861 | train_mse: 0.04273 | train_mae: 0.15673 |  0:01:55s\n"
     ]
    },
    {
     "name": "stdout",
     "output_type": "stream",
     "text": [
      "epoch 390| loss: 0.07024 | train_mse: 0.04676 | train_mae: 0.16571 |  0:01:55s\n"
     ]
    },
    {
     "name": "stdout",
     "output_type": "stream",
     "text": [
      "epoch 391| loss: 0.07469 | train_mse: 0.04713 | train_mae: 0.16368 |  0:01:55s\n"
     ]
    },
    {
     "name": "stdout",
     "output_type": "stream",
     "text": [
      "epoch 392| loss: 0.13293 | train_mse: 0.06018 | train_mae: 0.17856 |  0:01:56s\n"
     ]
    },
    {
     "name": "stdout",
     "output_type": "stream",
     "text": [
      "epoch 393| loss: 0.06941 | train_mse: 0.03966 | train_mae: 0.15055 |  0:01:56s\n"
     ]
    },
    {
     "name": "stdout",
     "output_type": "stream",
     "text": [
      "epoch 394| loss: 0.10779 | train_mse: 0.05695 | train_mae: 0.17835 |  0:01:56s\n"
     ]
    },
    {
     "name": "stdout",
     "output_type": "stream",
     "text": [
      "epoch 395| loss: 0.09772 | train_mse: 0.04102 | train_mae: 0.15175 |  0:01:57s\n"
     ]
    },
    {
     "name": "stdout",
     "output_type": "stream",
     "text": [
      "epoch 396| loss: 0.08153 | train_mse: 0.04415 | train_mae: 0.15232 |  0:01:57s\n"
     ]
    },
    {
     "name": "stdout",
     "output_type": "stream",
     "text": [
      "epoch 397| loss: 0.07532 | train_mse: 0.0497  | train_mae: 0.16591 |  0:01:57s\n"
     ]
    },
    {
     "name": "stdout",
     "output_type": "stream",
     "text": [
      "epoch 398| loss: 0.07092 | train_mse: 0.04415 | train_mae: 0.15444 |  0:01:57s\n"
     ]
    },
    {
     "name": "stdout",
     "output_type": "stream",
     "text": [
      "epoch 399| loss: 0.08217 | train_mse: 0.04133 | train_mae: 0.15319 |  0:01:58s\n"
     ]
    },
    {
     "name": "stdout",
     "output_type": "stream",
     "text": [
      "epoch 400| loss: 0.08156 | train_mse: 0.04531 | train_mae: 0.15934 |  0:01:58s\n"
     ]
    },
    {
     "name": "stdout",
     "output_type": "stream",
     "text": [
      "epoch 401| loss: 0.08767 | train_mse: 0.04773 | train_mae: 0.16398 |  0:01:58s\n"
     ]
    },
    {
     "name": "stdout",
     "output_type": "stream",
     "text": [
      "epoch 402| loss: 0.07096 | train_mse: 0.03795 | train_mae: 0.14779 |  0:01:59s\n"
     ]
    },
    {
     "name": "stdout",
     "output_type": "stream",
     "text": [
      "epoch 403| loss: 0.07617 | train_mse: 0.03489 | train_mae: 0.1403  |  0:01:59s\n"
     ]
    },
    {
     "name": "stdout",
     "output_type": "stream",
     "text": [
      "epoch 404| loss: 0.06795 | train_mse: 0.04248 | train_mae: 0.1529  |  0:01:59s\n"
     ]
    },
    {
     "name": "stdout",
     "output_type": "stream",
     "text": [
      "epoch 405| loss: 0.07719 | train_mse: 0.0394  | train_mae: 0.14944 |  0:01:59s\n"
     ]
    },
    {
     "name": "stdout",
     "output_type": "stream",
     "text": [
      "epoch 406| loss: 0.10108 | train_mse: 0.03615 | train_mae: 0.14584 |  0:02:00s\n"
     ]
    },
    {
     "name": "stdout",
     "output_type": "stream",
     "text": [
      "epoch 407| loss: 0.12274 | train_mse: 0.06018 | train_mae: 0.17692 |  0:02:00s\n"
     ]
    },
    {
     "name": "stdout",
     "output_type": "stream",
     "text": [
      "epoch 408| loss: 0.08687 | train_mse: 0.04284 | train_mae: 0.15457 |  0:02:00s\n"
     ]
    },
    {
     "name": "stdout",
     "output_type": "stream",
     "text": [
      "epoch 409| loss: 0.07503 | train_mse: 0.04603 | train_mae: 0.16152 |  0:02:01s\n"
     ]
    },
    {
     "name": "stdout",
     "output_type": "stream",
     "text": [
      "epoch 410| loss: 0.0689  | train_mse: 0.03575 | train_mae: 0.14118 |  0:02:01s\n"
     ]
    },
    {
     "name": "stdout",
     "output_type": "stream",
     "text": [
      "epoch 411| loss: 0.05771 | train_mse: 0.04827 | train_mae: 0.16492 |  0:02:01s\n"
     ]
    },
    {
     "name": "stdout",
     "output_type": "stream",
     "text": [
      "epoch 412| loss: 0.07096 | train_mse: 0.03761 | train_mae: 0.14479 |  0:02:01s\n"
     ]
    },
    {
     "name": "stdout",
     "output_type": "stream",
     "text": [
      "epoch 413| loss: 0.08174 | train_mse: 0.04966 | train_mae: 0.16699 |  0:02:02s\n"
     ]
    },
    {
     "name": "stdout",
     "output_type": "stream",
     "text": [
      "epoch 414| loss: 0.08241 | train_mse: 0.03862 | train_mae: 0.1477  |  0:02:02s\n"
     ]
    },
    {
     "name": "stdout",
     "output_type": "stream",
     "text": [
      "epoch 415| loss: 0.09923 | train_mse: 0.04131 | train_mae: 0.14858 |  0:02:02s\n"
     ]
    },
    {
     "name": "stdout",
     "output_type": "stream",
     "text": [
      "epoch 416| loss: 0.08287 | train_mse: 0.03677 | train_mae: 0.14581 |  0:02:03s\n"
     ]
    },
    {
     "name": "stdout",
     "output_type": "stream",
     "text": [
      "epoch 417| loss: 0.07707 | train_mse: 0.05064 | train_mae: 0.17076 |  0:02:03s\n"
     ]
    },
    {
     "name": "stdout",
     "output_type": "stream",
     "text": [
      "epoch 418| loss: 0.09079 | train_mse: 0.05106 | train_mae: 0.16343 |  0:02:03s\n"
     ]
    },
    {
     "name": "stdout",
     "output_type": "stream",
     "text": [
      "epoch 419| loss: 0.0878  | train_mse: 0.05773 | train_mae: 0.17999 |  0:02:04s\n"
     ]
    },
    {
     "name": "stdout",
     "output_type": "stream",
     "text": [
      "epoch 420| loss: 0.09047 | train_mse: 0.04574 | train_mae: 0.16158 |  0:02:04s\n"
     ]
    },
    {
     "name": "stdout",
     "output_type": "stream",
     "text": [
      "epoch 421| loss: 0.08796 | train_mse: 0.04347 | train_mae: 0.15072 |  0:02:04s\n"
     ]
    },
    {
     "name": "stdout",
     "output_type": "stream",
     "text": [
      "epoch 422| loss: 0.07139 | train_mse: 0.03944 | train_mae: 0.15182 |  0:02:04s\n"
     ]
    },
    {
     "name": "stdout",
     "output_type": "stream",
     "text": [
      "epoch 423| loss: 0.10699 | train_mse: 0.03543 | train_mae: 0.14047 |  0:02:05s\n"
     ]
    },
    {
     "name": "stdout",
     "output_type": "stream",
     "text": [
      "epoch 424| loss: 0.07114 | train_mse: 0.04544 | train_mae: 0.15422 |  0:02:05s\n"
     ]
    },
    {
     "name": "stdout",
     "output_type": "stream",
     "text": [
      "epoch 425| loss: 0.12136 | train_mse: 0.04317 | train_mae: 0.15618 |  0:02:06s\n"
     ]
    },
    {
     "name": "stdout",
     "output_type": "stream",
     "text": [
      "epoch 426| loss: 0.09056 | train_mse: 0.04099 | train_mae: 0.15485 |  0:02:06s\n"
     ]
    },
    {
     "name": "stdout",
     "output_type": "stream",
     "text": [
      "epoch 427| loss: 0.08544 | train_mse: 0.05084 | train_mae: 0.16759 |  0:02:07s\n"
     ]
    },
    {
     "name": "stdout",
     "output_type": "stream",
     "text": [
      "epoch 428| loss: 0.09873 | train_mse: 0.06314 | train_mae: 0.17971 |  0:02:07s\n"
     ]
    },
    {
     "name": "stdout",
     "output_type": "stream",
     "text": [
      "epoch 429| loss: 0.07798 | train_mse: 0.05045 | train_mae: 0.16759 |  0:02:07s\n"
     ]
    },
    {
     "name": "stdout",
     "output_type": "stream",
     "text": [
      "epoch 430| loss: 0.10058 | train_mse: 0.08526 | train_mae: 0.20916 |  0:02:07s\n"
     ]
    },
    {
     "name": "stdout",
     "output_type": "stream",
     "text": [
      "epoch 431| loss: 0.11027 | train_mse: 0.06272 | train_mae: 0.18038 |  0:02:08s\n"
     ]
    },
    {
     "name": "stdout",
     "output_type": "stream",
     "text": [
      "epoch 432| loss: 0.0723  | train_mse: 0.06288 | train_mae: 0.17497 |  0:02:08s\n"
     ]
    },
    {
     "name": "stdout",
     "output_type": "stream",
     "text": [
      "epoch 433| loss: 0.07364 | train_mse: 0.04844 | train_mae: 0.16253 |  0:02:08s\n"
     ]
    },
    {
     "name": "stdout",
     "output_type": "stream",
     "text": [
      "epoch 434| loss: 0.0955  | train_mse: 0.04987 | train_mae: 0.16589 |  0:02:09s\n"
     ]
    },
    {
     "name": "stdout",
     "output_type": "stream",
     "text": [
      "epoch 435| loss: 0.06789 | train_mse: 0.04521 | train_mae: 0.16169 |  0:02:09s\n"
     ]
    },
    {
     "name": "stdout",
     "output_type": "stream",
     "text": [
      "epoch 436| loss: 0.06765 | train_mse: 0.04309 | train_mae: 0.15914 |  0:02:09s\n"
     ]
    },
    {
     "name": "stdout",
     "output_type": "stream",
     "text": [
      "epoch 437| loss: 0.08382 | train_mse: 0.04008 | train_mae: 0.15375 |  0:02:09s\n"
     ]
    },
    {
     "name": "stdout",
     "output_type": "stream",
     "text": [
      "epoch 438| loss: 0.06399 | train_mse: 0.03535 | train_mae: 0.14245 |  0:02:10s\n"
     ]
    },
    {
     "name": "stdout",
     "output_type": "stream",
     "text": [
      "epoch 439| loss: 0.07762 | train_mse: 0.03879 | train_mae: 0.1525  |  0:02:10s\n"
     ]
    },
    {
     "name": "stdout",
     "output_type": "stream",
     "text": [
      "epoch 440| loss: 0.07746 | train_mse: 0.04124 | train_mae: 0.15736 |  0:02:10s\n"
     ]
    },
    {
     "name": "stdout",
     "output_type": "stream",
     "text": [
      "epoch 441| loss: 0.08589 | train_mse: 0.03967 | train_mae: 0.15012 |  0:02:11s\n"
     ]
    },
    {
     "name": "stdout",
     "output_type": "stream",
     "text": [
      "epoch 442| loss: 0.07619 | train_mse: 0.04306 | train_mae: 0.15678 |  0:02:11s\n"
     ]
    },
    {
     "name": "stdout",
     "output_type": "stream",
     "text": [
      "epoch 443| loss: 0.08282 | train_mse: 0.04295 | train_mae: 0.15529 |  0:02:11s\n"
     ]
    },
    {
     "name": "stdout",
     "output_type": "stream",
     "text": [
      "epoch 444| loss: 0.06523 | train_mse: 0.04009 | train_mae: 0.15304 |  0:02:11s\n"
     ]
    },
    {
     "name": "stdout",
     "output_type": "stream",
     "text": [
      "epoch 445| loss: 0.06754 | train_mse: 0.03535 | train_mae: 0.14022 |  0:02:12s\n"
     ]
    },
    {
     "name": "stdout",
     "output_type": "stream",
     "text": [
      "epoch 446| loss: 0.0762  | train_mse: 0.04009 | train_mae: 0.15073 |  0:02:12s\n"
     ]
    },
    {
     "name": "stdout",
     "output_type": "stream",
     "text": [
      "epoch 447| loss: 0.08321 | train_mse: 0.04097 | train_mae: 0.15085 |  0:02:12s\n"
     ]
    },
    {
     "name": "stdout",
     "output_type": "stream",
     "text": [
      "epoch 448| loss: 0.06533 | train_mse: 0.03912 | train_mae: 0.14964 |  0:02:13s\n"
     ]
    },
    {
     "name": "stdout",
     "output_type": "stream",
     "text": [
      "epoch 449| loss: 0.08362 | train_mse: 0.03658 | train_mae: 0.14655 |  0:02:13s\n"
     ]
    },
    {
     "name": "stdout",
     "output_type": "stream",
     "text": [
      "epoch 450| loss: 0.09497 | train_mse: 0.03512 | train_mae: 0.14392 |  0:02:13s\n"
     ]
    },
    {
     "name": "stdout",
     "output_type": "stream",
     "text": [
      "epoch 451| loss: 0.08448 | train_mse: 0.04282 | train_mae: 0.15342 |  0:02:13s\n"
     ]
    },
    {
     "name": "stdout",
     "output_type": "stream",
     "text": [
      "epoch 452| loss: 0.07608 | train_mse: 0.04392 | train_mae: 0.15905 |  0:02:14s\n"
     ]
    },
    {
     "name": "stdout",
     "output_type": "stream",
     "text": [
      "epoch 453| loss: 0.08642 | train_mse: 0.05641 | train_mae: 0.18224 |  0:02:14s\n"
     ]
    },
    {
     "name": "stdout",
     "output_type": "stream",
     "text": [
      "epoch 454| loss: 0.09118 | train_mse: 0.04169 | train_mae: 0.15715 |  0:02:14s\n"
     ]
    },
    {
     "name": "stdout",
     "output_type": "stream",
     "text": [
      "epoch 455| loss: 0.07736 | train_mse: 0.0516  | train_mae: 0.16612 |  0:02:15s\n"
     ]
    },
    {
     "name": "stdout",
     "output_type": "stream",
     "text": [
      "epoch 456| loss: 0.08056 | train_mse: 0.03842 | train_mae: 0.14638 |  0:02:15s\n"
     ]
    },
    {
     "name": "stdout",
     "output_type": "stream",
     "text": [
      "epoch 457| loss: 0.08512 | train_mse: 0.04586 | train_mae: 0.16035 |  0:02:15s\n"
     ]
    },
    {
     "name": "stdout",
     "output_type": "stream",
     "text": [
      "epoch 458| loss: 0.09392 | train_mse: 0.03954 | train_mae: 0.14784 |  0:02:16s\n"
     ]
    },
    {
     "name": "stdout",
     "output_type": "stream",
     "text": [
      "epoch 459| loss: 0.08972 | train_mse: 0.0477  | train_mae: 0.1579  |  0:02:16s\n"
     ]
    },
    {
     "name": "stdout",
     "output_type": "stream",
     "text": [
      "epoch 460| loss: 0.05996 | train_mse: 0.05181 | train_mae: 0.16707 |  0:02:16s\n"
     ]
    },
    {
     "name": "stdout",
     "output_type": "stream",
     "text": [
      "epoch 461| loss: 0.08941 | train_mse: 0.03776 | train_mae: 0.14459 |  0:02:16s\n"
     ]
    },
    {
     "name": "stdout",
     "output_type": "stream",
     "text": [
      "epoch 462| loss: 0.07289 | train_mse: 0.05601 | train_mae: 0.18075 |  0:02:17s\n"
     ]
    },
    {
     "name": "stdout",
     "output_type": "stream",
     "text": [
      "epoch 463| loss: 0.08228 | train_mse: 0.03314 | train_mae: 0.13639 |  0:02:17s\n"
     ]
    },
    {
     "name": "stdout",
     "output_type": "stream",
     "text": [
      "epoch 464| loss: 0.06391 | train_mse: 0.03845 | train_mae: 0.14431 |  0:02:17s\n"
     ]
    },
    {
     "name": "stdout",
     "output_type": "stream",
     "text": [
      "epoch 465| loss: 0.09826 | train_mse: 0.03914 | train_mae: 0.14133 |  0:02:18s\n"
     ]
    },
    {
     "name": "stdout",
     "output_type": "stream",
     "text": [
      "epoch 466| loss: 0.08549 | train_mse: 0.04945 | train_mae: 0.16186 |  0:02:18s\n"
     ]
    },
    {
     "name": "stdout",
     "output_type": "stream",
     "text": [
      "epoch 467| loss: 0.07801 | train_mse: 0.05516 | train_mae: 0.16752 |  0:02:18s\n"
     ]
    },
    {
     "name": "stdout",
     "output_type": "stream",
     "text": [
      "epoch 468| loss: 0.08054 | train_mse: 0.04679 | train_mae: 0.16737 |  0:02:18s\n"
     ]
    },
    {
     "name": "stdout",
     "output_type": "stream",
     "text": [
      "epoch 469| loss: 0.07441 | train_mse: 0.04546 | train_mae: 0.16442 |  0:02:19s\n"
     ]
    },
    {
     "name": "stdout",
     "output_type": "stream",
     "text": [
      "epoch 470| loss: 0.08416 | train_mse: 0.04727 | train_mae: 0.16399 |  0:02:19s\n"
     ]
    },
    {
     "name": "stdout",
     "output_type": "stream",
     "text": [
      "epoch 471| loss: 0.08116 | train_mse: 0.03964 | train_mae: 0.15143 |  0:02:19s\n"
     ]
    },
    {
     "name": "stdout",
     "output_type": "stream",
     "text": [
      "epoch 472| loss: 0.06914 | train_mse: 0.0362  | train_mae: 0.14431 |  0:02:20s\n"
     ]
    },
    {
     "name": "stdout",
     "output_type": "stream",
     "text": [
      "epoch 473| loss: 0.06869 | train_mse: 0.03731 | train_mae: 0.14707 |  0:02:20s\n"
     ]
    },
    {
     "name": "stdout",
     "output_type": "stream",
     "text": [
      "epoch 474| loss: 0.06713 | train_mse: 0.06268 | train_mae: 0.18843 |  0:02:20s\n"
     ]
    },
    {
     "name": "stdout",
     "output_type": "stream",
     "text": [
      "epoch 475| loss: 0.09583 | train_mse: 0.06561 | train_mae: 0.1889  |  0:02:21s\n"
     ]
    },
    {
     "name": "stdout",
     "output_type": "stream",
     "text": [
      "epoch 476| loss: 0.1111  | train_mse: 0.04577 | train_mae: 0.16539 |  0:02:21s\n"
     ]
    },
    {
     "name": "stdout",
     "output_type": "stream",
     "text": [
      "epoch 477| loss: 0.06745 | train_mse: 0.04078 | train_mae: 0.15561 |  0:02:21s\n"
     ]
    },
    {
     "name": "stdout",
     "output_type": "stream",
     "text": [
      "epoch 478| loss: 0.06507 | train_mse: 0.03372 | train_mae: 0.14044 |  0:02:21s\n"
     ]
    },
    {
     "name": "stdout",
     "output_type": "stream",
     "text": [
      "epoch 479| loss: 0.05691 | train_mse: 0.03301 | train_mae: 0.13906 |  0:02:22s\n"
     ]
    },
    {
     "name": "stdout",
     "output_type": "stream",
     "text": [
      "epoch 480| loss: 0.06866 | train_mse: 0.03601 | train_mae: 0.14471 |  0:02:22s\n"
     ]
    },
    {
     "name": "stdout",
     "output_type": "stream",
     "text": [
      "epoch 481| loss: 0.0629  | train_mse: 0.04241 | train_mae: 0.15351 |  0:02:22s\n"
     ]
    },
    {
     "name": "stdout",
     "output_type": "stream",
     "text": [
      "epoch 482| loss: 0.08319 | train_mse: 0.05439 | train_mae: 0.17478 |  0:02:23s\n"
     ]
    },
    {
     "name": "stdout",
     "output_type": "stream",
     "text": [
      "epoch 483| loss: 0.06824 | train_mse: 0.04105 | train_mae: 0.15376 |  0:02:23s\n"
     ]
    },
    {
     "name": "stdout",
     "output_type": "stream",
     "text": [
      "epoch 484| loss: 0.07665 | train_mse: 0.0395  | train_mae: 0.14968 |  0:02:23s\n"
     ]
    },
    {
     "name": "stdout",
     "output_type": "stream",
     "text": [
      "epoch 485| loss: 0.07571 | train_mse: 0.05246 | train_mae: 0.16863 |  0:02:23s\n"
     ]
    },
    {
     "name": "stdout",
     "output_type": "stream",
     "text": [
      "epoch 486| loss: 0.08418 | train_mse: 0.03344 | train_mae: 0.13922 |  0:02:24s\n"
     ]
    },
    {
     "name": "stdout",
     "output_type": "stream",
     "text": [
      "epoch 487| loss: 0.0707  | train_mse: 0.04739 | train_mae: 0.1663  |  0:02:24s\n"
     ]
    },
    {
     "name": "stdout",
     "output_type": "stream",
     "text": [
      "epoch 488| loss: 0.07    | train_mse: 0.03546 | train_mae: 0.14128 |  0:02:24s\n"
     ]
    },
    {
     "name": "stdout",
     "output_type": "stream",
     "text": [
      "epoch 489| loss: 0.06838 | train_mse: 0.04814 | train_mae: 0.16548 |  0:02:25s\n"
     ]
    },
    {
     "name": "stdout",
     "output_type": "stream",
     "text": [
      "epoch 490| loss: 0.07774 | train_mse: 0.03555 | train_mae: 0.14298 |  0:02:25s\n"
     ]
    },
    {
     "name": "stdout",
     "output_type": "stream",
     "text": [
      "epoch 491| loss: 0.08021 | train_mse: 0.03613 | train_mae: 0.14248 |  0:02:25s\n"
     ]
    },
    {
     "name": "stdout",
     "output_type": "stream",
     "text": [
      "epoch 492| loss: 0.07103 | train_mse: 0.03793 | train_mae: 0.14739 |  0:02:26s\n"
     ]
    },
    {
     "name": "stdout",
     "output_type": "stream",
     "text": [
      "epoch 493| loss: 0.09321 | train_mse: 0.035   | train_mae: 0.14055 |  0:02:26s\n"
     ]
    },
    {
     "name": "stdout",
     "output_type": "stream",
     "text": [
      "epoch 494| loss: 0.07078 | train_mse: 0.04256 | train_mae: 0.14968 |  0:02:26s\n"
     ]
    },
    {
     "name": "stdout",
     "output_type": "stream",
     "text": [
      "epoch 495| loss: 0.06852 | train_mse: 0.03924 | train_mae: 0.14987 |  0:02:26s\n"
     ]
    },
    {
     "name": "stdout",
     "output_type": "stream",
     "text": [
      "epoch 496| loss: 0.07264 | train_mse: 0.04272 | train_mae: 0.15438 |  0:02:27s\n"
     ]
    },
    {
     "name": "stdout",
     "output_type": "stream",
     "text": [
      "epoch 497| loss: 0.08598 | train_mse: 0.03949 | train_mae: 0.15136 |  0:02:27s\n"
     ]
    },
    {
     "name": "stdout",
     "output_type": "stream",
     "text": [
      "epoch 498| loss: 0.10497 | train_mse: 0.0416  | train_mae: 0.14884 |  0:02:27s\n"
     ]
    },
    {
     "name": "stdout",
     "output_type": "stream",
     "text": [
      "epoch 499| loss: 0.07864 | train_mse: 0.03384 | train_mae: 0.14134 |  0:02:28s\n"
     ]
    },
    {
     "name": "stdout",
     "output_type": "stream",
     "text": [
      "epoch 500| loss: 0.07289 | train_mse: 0.03335 | train_mae: 0.13971 |  0:02:28s\n"
     ]
    },
    {
     "name": "stdout",
     "output_type": "stream",
     "text": [
      "epoch 501| loss: 0.069   | train_mse: 0.04271 | train_mae: 0.1566  |  0:02:28s\n"
     ]
    },
    {
     "name": "stdout",
     "output_type": "stream",
     "text": [
      "epoch 502| loss: 0.09687 | train_mse: 0.04616 | train_mae: 0.16051 |  0:02:28s\n"
     ]
    },
    {
     "name": "stdout",
     "output_type": "stream",
     "text": [
      "epoch 503| loss: 0.07726 | train_mse: 0.04575 | train_mae: 0.16299 |  0:02:29s\n"
     ]
    },
    {
     "name": "stdout",
     "output_type": "stream",
     "text": [
      "epoch 504| loss: 0.07299 | train_mse: 0.04213 | train_mae: 0.15068 |  0:02:29s\n"
     ]
    },
    {
     "name": "stdout",
     "output_type": "stream",
     "text": [
      "epoch 505| loss: 0.07761 | train_mse: 0.04241 | train_mae: 0.15384 |  0:02:29s\n"
     ]
    },
    {
     "name": "stdout",
     "output_type": "stream",
     "text": [
      "epoch 506| loss: 0.07847 | train_mse: 0.04258 | train_mae: 0.15446 |  0:02:30s\n"
     ]
    },
    {
     "name": "stdout",
     "output_type": "stream",
     "text": [
      "epoch 507| loss: 0.06627 | train_mse: 0.04195 | train_mae: 0.15576 |  0:02:30s\n"
     ]
    },
    {
     "name": "stdout",
     "output_type": "stream",
     "text": [
      "epoch 508| loss: 0.08736 | train_mse: 0.03156 | train_mae: 0.13314 |  0:02:30s\n"
     ]
    },
    {
     "name": "stdout",
     "output_type": "stream",
     "text": [
      "epoch 509| loss: 0.06105 | train_mse: 0.03438 | train_mae: 0.14233 |  0:02:30s\n"
     ]
    },
    {
     "name": "stdout",
     "output_type": "stream",
     "text": [
      "epoch 510| loss: 0.08967 | train_mse: 0.0358  | train_mae: 0.14579 |  0:02:31s\n"
     ]
    },
    {
     "name": "stdout",
     "output_type": "stream",
     "text": [
      "epoch 511| loss: 0.08108 | train_mse: 0.04145 | train_mae: 0.15506 |  0:02:31s\n"
     ]
    },
    {
     "name": "stdout",
     "output_type": "stream",
     "text": [
      "epoch 512| loss: 0.06133 | train_mse: 0.04469 | train_mae: 0.16484 |  0:02:31s\n"
     ]
    },
    {
     "name": "stdout",
     "output_type": "stream",
     "text": [
      "epoch 513| loss: 0.05595 | train_mse: 0.03692 | train_mae: 0.14655 |  0:02:32s\n"
     ]
    },
    {
     "name": "stdout",
     "output_type": "stream",
     "text": [
      "epoch 514| loss: 0.07333 | train_mse: 0.03872 | train_mae: 0.14465 |  0:02:32s\n"
     ]
    },
    {
     "name": "stdout",
     "output_type": "stream",
     "text": [
      "epoch 515| loss: 0.07597 | train_mse: 0.0406  | train_mae: 0.15374 |  0:02:32s\n"
     ]
    },
    {
     "name": "stdout",
     "output_type": "stream",
     "text": [
      "epoch 516| loss: 0.06332 | train_mse: 0.03881 | train_mae: 0.14996 |  0:02:32s\n"
     ]
    },
    {
     "name": "stdout",
     "output_type": "stream",
     "text": [
      "epoch 517| loss: 0.07166 | train_mse: 0.03686 | train_mae: 0.14444 |  0:02:33s\n"
     ]
    },
    {
     "name": "stdout",
     "output_type": "stream",
     "text": [
      "epoch 518| loss: 0.06474 | train_mse: 0.04503 | train_mae: 0.1585  |  0:02:33s\n"
     ]
    },
    {
     "name": "stdout",
     "output_type": "stream",
     "text": [
      "epoch 519| loss: 0.06157 | train_mse: 0.03467 | train_mae: 0.13937 |  0:02:33s\n"
     ]
    },
    {
     "name": "stdout",
     "output_type": "stream",
     "text": [
      "epoch 520| loss: 0.06158 | train_mse: 0.03129 | train_mae: 0.13384 |  0:02:34s\n"
     ]
    },
    {
     "name": "stdout",
     "output_type": "stream",
     "text": [
      "epoch 521| loss: 0.0579  | train_mse: 0.03214 | train_mae: 0.13252 |  0:02:34s\n"
     ]
    },
    {
     "name": "stdout",
     "output_type": "stream",
     "text": [
      "epoch 522| loss: 0.05346 | train_mse: 0.0336  | train_mae: 0.13583 |  0:02:34s\n"
     ]
    },
    {
     "name": "stdout",
     "output_type": "stream",
     "text": [
      "epoch 523| loss: 0.05602 | train_mse: 0.03277 | train_mae: 0.13311 |  0:02:34s\n"
     ]
    },
    {
     "name": "stdout",
     "output_type": "stream",
     "text": [
      "epoch 524| loss: 0.056   | train_mse: 0.03898 | train_mae: 0.14753 |  0:02:35s\n"
     ]
    },
    {
     "name": "stdout",
     "output_type": "stream",
     "text": [
      "epoch 525| loss: 0.08241 | train_mse: 0.04777 | train_mae: 0.16338 |  0:02:35s\n"
     ]
    },
    {
     "name": "stdout",
     "output_type": "stream",
     "text": [
      "epoch 526| loss: 0.07159 | train_mse: 0.03532 | train_mae: 0.13801 |  0:02:35s\n"
     ]
    },
    {
     "name": "stdout",
     "output_type": "stream",
     "text": [
      "epoch 527| loss: 0.05906 | train_mse: 0.04412 | train_mae: 0.15675 |  0:02:36s\n"
     ]
    },
    {
     "name": "stdout",
     "output_type": "stream",
     "text": [
      "epoch 528| loss: 0.07504 | train_mse: 0.03581 | train_mae: 0.14274 |  0:02:36s\n"
     ]
    },
    {
     "name": "stdout",
     "output_type": "stream",
     "text": [
      "epoch 529| loss: 0.05873 | train_mse: 0.03342 | train_mae: 0.13584 |  0:02:36s\n"
     ]
    },
    {
     "name": "stdout",
     "output_type": "stream",
     "text": [
      "epoch 530| loss: 0.05557 | train_mse: 0.04948 | train_mae: 0.16522 |  0:02:36s\n"
     ]
    },
    {
     "name": "stdout",
     "output_type": "stream",
     "text": [
      "epoch 531| loss: 0.06633 | train_mse: 0.0348  | train_mae: 0.1384  |  0:02:37s\n"
     ]
    },
    {
     "name": "stdout",
     "output_type": "stream",
     "text": [
      "epoch 532| loss: 0.06284 | train_mse: 0.03523 | train_mae: 0.14092 |  0:02:37s\n"
     ]
    },
    {
     "name": "stdout",
     "output_type": "stream",
     "text": [
      "epoch 533| loss: 0.07158 | train_mse: 0.02985 | train_mae: 0.13124 |  0:02:37s\n"
     ]
    },
    {
     "name": "stdout",
     "output_type": "stream",
     "text": [
      "epoch 534| loss: 0.07952 | train_mse: 0.03322 | train_mae: 0.13496 |  0:02:38s\n"
     ]
    },
    {
     "name": "stdout",
     "output_type": "stream",
     "text": [
      "epoch 535| loss: 0.06132 | train_mse: 0.03481 | train_mae: 0.13838 |  0:02:38s\n"
     ]
    },
    {
     "name": "stdout",
     "output_type": "stream",
     "text": [
      "epoch 536| loss: 0.07158 | train_mse: 0.05409 | train_mae: 0.17165 |  0:02:38s\n"
     ]
    },
    {
     "name": "stdout",
     "output_type": "stream",
     "text": [
      "epoch 537| loss: 0.06592 | train_mse: 0.03479 | train_mae: 0.13622 |  0:02:39s\n"
     ]
    },
    {
     "name": "stdout",
     "output_type": "stream",
     "text": [
      "epoch 538| loss: 0.06581 | train_mse: 0.04799 | train_mae: 0.16544 |  0:02:39s\n"
     ]
    },
    {
     "name": "stdout",
     "output_type": "stream",
     "text": [
      "epoch 539| loss: 0.08487 | train_mse: 0.04675 | train_mae: 0.15976 |  0:02:39s\n"
     ]
    },
    {
     "name": "stdout",
     "output_type": "stream",
     "text": [
      "epoch 540| loss: 0.08283 | train_mse: 0.04466 | train_mae: 0.15593 |  0:02:39s\n"
     ]
    },
    {
     "name": "stdout",
     "output_type": "stream",
     "text": [
      "epoch 541| loss: 0.08526 | train_mse: 0.03967 | train_mae: 0.1533  |  0:02:40s\n"
     ]
    },
    {
     "name": "stdout",
     "output_type": "stream",
     "text": [
      "epoch 542| loss: 0.06209 | train_mse: 0.03693 | train_mae: 0.14903 |  0:02:40s\n"
     ]
    },
    {
     "name": "stdout",
     "output_type": "stream",
     "text": [
      "epoch 543| loss: 0.08135 | train_mse: 0.03489 | train_mae: 0.13999 |  0:02:40s\n"
     ]
    },
    {
     "name": "stdout",
     "output_type": "stream",
     "text": [
      "epoch 544| loss: 0.07106 | train_mse: 0.03839 | train_mae: 0.14708 |  0:02:41s\n"
     ]
    },
    {
     "name": "stdout",
     "output_type": "stream",
     "text": [
      "epoch 545| loss: 0.06324 | train_mse: 0.03749 | train_mae: 0.14695 |  0:02:41s\n"
     ]
    },
    {
     "name": "stdout",
     "output_type": "stream",
     "text": [
      "epoch 546| loss: 0.08381 | train_mse: 0.05345 | train_mae: 0.17566 |  0:02:41s\n"
     ]
    },
    {
     "name": "stdout",
     "output_type": "stream",
     "text": [
      "epoch 547| loss: 0.08599 | train_mse: 0.03212 | train_mae: 0.13537 |  0:02:41s\n"
     ]
    },
    {
     "name": "stdout",
     "output_type": "stream",
     "text": [
      "epoch 548| loss: 0.07824 | train_mse: 0.04096 | train_mae: 0.15132 |  0:02:42s\n"
     ]
    },
    {
     "name": "stdout",
     "output_type": "stream",
     "text": [
      "epoch 549| loss: 0.06952 | train_mse: 0.03225 | train_mae: 0.13438 |  0:02:42s\n"
     ]
    },
    {
     "name": "stdout",
     "output_type": "stream",
     "text": [
      "epoch 550| loss: 0.08938 | train_mse: 0.0355  | train_mae: 0.14257 |  0:02:42s\n"
     ]
    },
    {
     "name": "stdout",
     "output_type": "stream",
     "text": [
      "epoch 551| loss: 0.06994 | train_mse: 0.03112 | train_mae: 0.13211 |  0:02:43s\n"
     ]
    },
    {
     "name": "stdout",
     "output_type": "stream",
     "text": [
      "epoch 552| loss: 0.06039 | train_mse: 0.02967 | train_mae: 0.12985 |  0:02:43s\n"
     ]
    },
    {
     "name": "stdout",
     "output_type": "stream",
     "text": [
      "epoch 553| loss: 0.05683 | train_mse: 0.03412 | train_mae: 0.13657 |  0:02:43s\n"
     ]
    },
    {
     "name": "stdout",
     "output_type": "stream",
     "text": [
      "epoch 554| loss: 0.07148 | train_mse: 0.04332 | train_mae: 0.15842 |  0:02:43s\n"
     ]
    },
    {
     "name": "stdout",
     "output_type": "stream",
     "text": [
      "epoch 555| loss: 0.0679  | train_mse: 0.04584 | train_mae: 0.16434 |  0:02:44s\n"
     ]
    },
    {
     "name": "stdout",
     "output_type": "stream",
     "text": [
      "epoch 556| loss: 0.05958 | train_mse: 0.04409 | train_mae: 0.15797 |  0:02:44s\n"
     ]
    },
    {
     "name": "stdout",
     "output_type": "stream",
     "text": [
      "epoch 557| loss: 0.07144 | train_mse: 0.03535 | train_mae: 0.14518 |  0:02:44s\n"
     ]
    },
    {
     "name": "stdout",
     "output_type": "stream",
     "text": [
      "epoch 558| loss: 0.09358 | train_mse: 0.03027 | train_mae: 0.13427 |  0:02:45s\n"
     ]
    },
    {
     "name": "stdout",
     "output_type": "stream",
     "text": [
      "epoch 559| loss: 0.08609 | train_mse: 0.03302 | train_mae: 0.13536 |  0:02:45s\n"
     ]
    },
    {
     "name": "stdout",
     "output_type": "stream",
     "text": [
      "epoch 560| loss: 0.06715 | train_mse: 0.03241 | train_mae: 0.13639 |  0:02:45s\n"
     ]
    },
    {
     "name": "stdout",
     "output_type": "stream",
     "text": [
      "epoch 561| loss: 0.07135 | train_mse: 0.03509 | train_mae: 0.13739 |  0:02:45s\n"
     ]
    },
    {
     "name": "stdout",
     "output_type": "stream",
     "text": [
      "epoch 562| loss: 0.0706  | train_mse: 0.03686 | train_mae: 0.14523 |  0:02:46s\n"
     ]
    },
    {
     "name": "stdout",
     "output_type": "stream",
     "text": [
      "epoch 563| loss: 0.07849 | train_mse: 0.04945 | train_mae: 0.16504 |  0:02:46s\n"
     ]
    },
    {
     "name": "stdout",
     "output_type": "stream",
     "text": [
      "epoch 564| loss: 0.09046 | train_mse: 0.04238 | train_mae: 0.15065 |  0:02:46s\n"
     ]
    },
    {
     "name": "stdout",
     "output_type": "stream",
     "text": [
      "epoch 565| loss: 0.07326 | train_mse: 0.03438 | train_mae: 0.1411  |  0:02:47s\n"
     ]
    },
    {
     "name": "stdout",
     "output_type": "stream",
     "text": [
      "epoch 566| loss: 0.05053 | train_mse: 0.03858 | train_mae: 0.15044 |  0:02:47s\n"
     ]
    },
    {
     "name": "stdout",
     "output_type": "stream",
     "text": [
      "epoch 567| loss: 0.06508 | train_mse: 0.03419 | train_mae: 0.13978 |  0:02:47s\n"
     ]
    },
    {
     "name": "stdout",
     "output_type": "stream",
     "text": [
      "epoch 568| loss: 0.06309 | train_mse: 0.03364 | train_mae: 0.13483 |  0:02:48s\n"
     ]
    },
    {
     "name": "stdout",
     "output_type": "stream",
     "text": [
      "epoch 569| loss: 0.0738  | train_mse: 0.03683 | train_mae: 0.14664 |  0:02:48s\n"
     ]
    },
    {
     "name": "stdout",
     "output_type": "stream",
     "text": [
      "epoch 570| loss: 0.06128 | train_mse: 0.03514 | train_mae: 0.14351 |  0:02:48s\n"
     ]
    },
    {
     "name": "stdout",
     "output_type": "stream",
     "text": [
      "epoch 571| loss: 0.06303 | train_mse: 0.03534 | train_mae: 0.14033 |  0:02:49s\n"
     ]
    },
    {
     "name": "stdout",
     "output_type": "stream",
     "text": [
      "epoch 572| loss: 0.0862  | train_mse: 0.02941 | train_mae: 0.12926 |  0:02:49s\n"
     ]
    },
    {
     "name": "stdout",
     "output_type": "stream",
     "text": [
      "epoch 573| loss: 0.07156 | train_mse: 0.03382 | train_mae: 0.13936 |  0:02:49s\n"
     ]
    },
    {
     "name": "stdout",
     "output_type": "stream",
     "text": [
      "epoch 574| loss: 0.11657 | train_mse: 0.03658 | train_mae: 0.14908 |  0:02:50s\n"
     ]
    },
    {
     "name": "stdout",
     "output_type": "stream",
     "text": [
      "epoch 575| loss: 0.06628 | train_mse: 0.04077 | train_mae: 0.15622 |  0:02:50s\n"
     ]
    },
    {
     "name": "stdout",
     "output_type": "stream",
     "text": [
      "epoch 576| loss: 0.09724 | train_mse: 0.03973 | train_mae: 0.1539  |  0:02:50s\n"
     ]
    },
    {
     "name": "stdout",
     "output_type": "stream",
     "text": [
      "epoch 577| loss: 0.05133 | train_mse: 0.03584 | train_mae: 0.14495 |  0:02:51s\n"
     ]
    },
    {
     "name": "stdout",
     "output_type": "stream",
     "text": [
      "epoch 578| loss: 0.06739 | train_mse: 0.02894 | train_mae: 0.13067 |  0:02:51s\n"
     ]
    },
    {
     "name": "stdout",
     "output_type": "stream",
     "text": [
      "epoch 579| loss: 0.05527 | train_mse: 0.03313 | train_mae: 0.14165 |  0:02:51s\n"
     ]
    },
    {
     "name": "stdout",
     "output_type": "stream",
     "text": [
      "epoch 580| loss: 0.0676  | train_mse: 0.04076 | train_mae: 0.15455 |  0:02:51s\n"
     ]
    },
    {
     "name": "stdout",
     "output_type": "stream",
     "text": [
      "epoch 581| loss: 0.08502 | train_mse: 0.04082 | train_mae: 0.15195 |  0:02:52s\n"
     ]
    },
    {
     "name": "stdout",
     "output_type": "stream",
     "text": [
      "epoch 582| loss: 0.10036 | train_mse: 0.04229 | train_mae: 0.15439 |  0:02:52s\n"
     ]
    },
    {
     "name": "stdout",
     "output_type": "stream",
     "text": [
      "epoch 583| loss: 0.06483 | train_mse: 0.03341 | train_mae: 0.13769 |  0:02:52s\n"
     ]
    },
    {
     "name": "stdout",
     "output_type": "stream",
     "text": [
      "epoch 584| loss: 0.07897 | train_mse: 0.03375 | train_mae: 0.14056 |  0:02:53s\n"
     ]
    },
    {
     "name": "stdout",
     "output_type": "stream",
     "text": [
      "epoch 585| loss: 0.07489 | train_mse: 0.03346 | train_mae: 0.14147 |  0:02:53s\n"
     ]
    },
    {
     "name": "stdout",
     "output_type": "stream",
     "text": [
      "epoch 586| loss: 0.06871 | train_mse: 0.03809 | train_mae: 0.14727 |  0:02:53s\n"
     ]
    },
    {
     "name": "stdout",
     "output_type": "stream",
     "text": [
      "epoch 587| loss: 0.04896 | train_mse: 0.04076 | train_mae: 0.14829 |  0:02:53s\n"
     ]
    },
    {
     "name": "stdout",
     "output_type": "stream",
     "text": [
      "epoch 588| loss: 0.10673 | train_mse: 0.0417  | train_mae: 0.14995 |  0:02:54s\n"
     ]
    },
    {
     "name": "stdout",
     "output_type": "stream",
     "text": [
      "epoch 589| loss: 0.08041 | train_mse: 0.03195 | train_mae: 0.13488 |  0:02:54s\n"
     ]
    },
    {
     "name": "stdout",
     "output_type": "stream",
     "text": [
      "epoch 590| loss: 0.08499 | train_mse: 0.04283 | train_mae: 0.15878 |  0:02:54s\n"
     ]
    },
    {
     "name": "stdout",
     "output_type": "stream",
     "text": [
      "epoch 591| loss: 0.05753 | train_mse: 0.04313 | train_mae: 0.15676 |  0:02:55s\n"
     ]
    },
    {
     "name": "stdout",
     "output_type": "stream",
     "text": [
      "epoch 592| loss: 0.06229 | train_mse: 0.04755 | train_mae: 0.16252 |  0:02:55s\n"
     ]
    },
    {
     "name": "stdout",
     "output_type": "stream",
     "text": [
      "epoch 593| loss: 0.05468 | train_mse: 0.03818 | train_mae: 0.15054 |  0:02:55s\n"
     ]
    },
    {
     "name": "stdout",
     "output_type": "stream",
     "text": [
      "epoch 594| loss: 0.05707 | train_mse: 0.05628 | train_mae: 0.18097 |  0:02:55s\n"
     ]
    },
    {
     "name": "stdout",
     "output_type": "stream",
     "text": [
      "epoch 595| loss: 0.05849 | train_mse: 0.03345 | train_mae: 0.13835 |  0:02:56s\n"
     ]
    },
    {
     "name": "stdout",
     "output_type": "stream",
     "text": [
      "epoch 596| loss: 0.05507 | train_mse: 0.03902 | train_mae: 0.15159 |  0:02:56s\n"
     ]
    },
    {
     "name": "stdout",
     "output_type": "stream",
     "text": [
      "epoch 597| loss: 0.05809 | train_mse: 0.03517 | train_mae: 0.1418  |  0:02:56s\n"
     ]
    },
    {
     "name": "stdout",
     "output_type": "stream",
     "text": [
      "epoch 598| loss: 0.05899 | train_mse: 0.037   | train_mae: 0.14822 |  0:02:57s\n"
     ]
    },
    {
     "name": "stdout",
     "output_type": "stream",
     "text": [
      "epoch 599| loss: 0.08523 | train_mse: 0.03365 | train_mae: 0.14019 |  0:02:57s\n"
     ]
    },
    {
     "name": "stdout",
     "output_type": "stream",
     "text": [
      "epoch 600| loss: 0.06704 | train_mse: 0.03804 | train_mae: 0.14251 |  0:02:57s\n"
     ]
    },
    {
     "name": "stdout",
     "output_type": "stream",
     "text": [
      "epoch 601| loss: 0.06827 | train_mse: 0.03977 | train_mae: 0.15322 |  0:02:57s\n"
     ]
    },
    {
     "name": "stdout",
     "output_type": "stream",
     "text": [
      "epoch 602| loss: 0.07024 | train_mse: 0.04895 | train_mae: 0.16766 |  0:02:58s\n"
     ]
    },
    {
     "name": "stdout",
     "output_type": "stream",
     "text": [
      "epoch 603| loss: 0.05791 | train_mse: 0.03016 | train_mae: 0.13098 |  0:02:58s\n"
     ]
    },
    {
     "name": "stdout",
     "output_type": "stream",
     "text": [
      "epoch 604| loss: 0.04478 | train_mse: 0.02946 | train_mae: 0.12751 |  0:02:58s\n"
     ]
    },
    {
     "name": "stdout",
     "output_type": "stream",
     "text": [
      "epoch 605| loss: 0.05221 | train_mse: 0.03592 | train_mae: 0.14202 |  0:02:59s\n"
     ]
    },
    {
     "name": "stdout",
     "output_type": "stream",
     "text": [
      "epoch 606| loss: 0.05535 | train_mse: 0.04123 | train_mae: 0.14985 |  0:02:59s\n"
     ]
    },
    {
     "name": "stdout",
     "output_type": "stream",
     "text": [
      "epoch 607| loss: 0.0842  | train_mse: 0.03104 | train_mae: 0.13248 |  0:02:59s\n"
     ]
    },
    {
     "name": "stdout",
     "output_type": "stream",
     "text": [
      "epoch 608| loss: 0.06898 | train_mse: 0.03224 | train_mae: 0.13377 |  0:02:59s\n"
     ]
    },
    {
     "name": "stdout",
     "output_type": "stream",
     "text": [
      "epoch 609| loss: 0.05998 | train_mse: 0.05676 | train_mae: 0.1706  |  0:03:00s\n"
     ]
    },
    {
     "name": "stdout",
     "output_type": "stream",
     "text": [
      "epoch 610| loss: 0.07682 | train_mse: 0.03886 | train_mae: 0.14749 |  0:03:00s\n"
     ]
    },
    {
     "name": "stdout",
     "output_type": "stream",
     "text": [
      "epoch 611| loss: 0.05764 | train_mse: 0.04283 | train_mae: 0.15901 |  0:03:00s\n"
     ]
    },
    {
     "name": "stdout",
     "output_type": "stream",
     "text": [
      "epoch 612| loss: 0.08413 | train_mse: 0.0422  | train_mae: 0.15418 |  0:03:01s\n"
     ]
    },
    {
     "name": "stdout",
     "output_type": "stream",
     "text": [
      "epoch 613| loss: 0.08618 | train_mse: 0.03663 | train_mae: 0.14593 |  0:03:01s\n"
     ]
    },
    {
     "name": "stdout",
     "output_type": "stream",
     "text": [
      "epoch 614| loss: 0.07081 | train_mse: 0.03921 | train_mae: 0.14941 |  0:03:01s\n"
     ]
    },
    {
     "name": "stdout",
     "output_type": "stream",
     "text": [
      "epoch 615| loss: 0.06255 | train_mse: 0.03254 | train_mae: 0.13598 |  0:03:01s\n"
     ]
    },
    {
     "name": "stdout",
     "output_type": "stream",
     "text": [
      "epoch 616| loss: 0.0607  | train_mse: 0.04626 | train_mae: 0.16519 |  0:03:02s\n"
     ]
    },
    {
     "name": "stdout",
     "output_type": "stream",
     "text": [
      "epoch 617| loss: 0.05917 | train_mse: 0.0365  | train_mae: 0.14805 |  0:03:02s\n"
     ]
    },
    {
     "name": "stdout",
     "output_type": "stream",
     "text": [
      "epoch 618| loss: 0.06114 | train_mse: 0.034   | train_mae: 0.13812 |  0:03:02s\n"
     ]
    },
    {
     "name": "stdout",
     "output_type": "stream",
     "text": [
      "epoch 619| loss: 0.06878 | train_mse: 0.03481 | train_mae: 0.14104 |  0:03:03s\n"
     ]
    },
    {
     "name": "stdout",
     "output_type": "stream",
     "text": [
      "epoch 620| loss: 0.0526  | train_mse: 0.03042 | train_mae: 0.12988 |  0:03:03s\n"
     ]
    },
    {
     "name": "stdout",
     "output_type": "stream",
     "text": [
      "epoch 621| loss: 0.07495 | train_mse: 0.0326  | train_mae: 0.13639 |  0:03:03s\n"
     ]
    },
    {
     "name": "stdout",
     "output_type": "stream",
     "text": [
      "epoch 622| loss: 0.0816  | train_mse: 0.0322  | train_mae: 0.13699 |  0:03:04s\n"
     ]
    },
    {
     "name": "stdout",
     "output_type": "stream",
     "text": [
      "epoch 623| loss: 0.05759 | train_mse: 0.04072 | train_mae: 0.15544 |  0:03:04s\n"
     ]
    },
    {
     "name": "stdout",
     "output_type": "stream",
     "text": [
      "epoch 624| loss: 0.05705 | train_mse: 0.03317 | train_mae: 0.13897 |  0:03:04s\n"
     ]
    },
    {
     "name": "stdout",
     "output_type": "stream",
     "text": [
      "epoch 625| loss: 0.07629 | train_mse: 0.02985 | train_mae: 0.13347 |  0:03:04s\n"
     ]
    },
    {
     "name": "stdout",
     "output_type": "stream",
     "text": [
      "epoch 626| loss: 0.07605 | train_mse: 0.04873 | train_mae: 0.16257 |  0:03:05s\n"
     ]
    },
    {
     "name": "stdout",
     "output_type": "stream",
     "text": [
      "epoch 627| loss: 0.05437 | train_mse: 0.03044 | train_mae: 0.13352 |  0:03:05s\n"
     ]
    },
    {
     "name": "stdout",
     "output_type": "stream",
     "text": [
      "epoch 628| loss: 0.04391 | train_mse: 0.0346  | train_mae: 0.14251 |  0:03:05s\n"
     ]
    },
    {
     "name": "stdout",
     "output_type": "stream",
     "text": [
      "epoch 629| loss: 0.06009 | train_mse: 0.03511 | train_mae: 0.13843 |  0:03:06s\n"
     ]
    },
    {
     "name": "stdout",
     "output_type": "stream",
     "text": [
      "epoch 630| loss: 0.06334 | train_mse: 0.02993 | train_mae: 0.12654 |  0:03:06s\n"
     ]
    },
    {
     "name": "stdout",
     "output_type": "stream",
     "text": [
      "epoch 631| loss: 0.0605  | train_mse: 0.02925 | train_mae: 0.1312  |  0:03:06s\n"
     ]
    },
    {
     "name": "stdout",
     "output_type": "stream",
     "text": [
      "epoch 632| loss: 0.08536 | train_mse: 0.04029 | train_mae: 0.14879 |  0:03:06s\n"
     ]
    },
    {
     "name": "stdout",
     "output_type": "stream",
     "text": [
      "epoch 633| loss: 0.06772 | train_mse: 0.038   | train_mae: 0.14791 |  0:03:07s\n"
     ]
    },
    {
     "name": "stdout",
     "output_type": "stream",
     "text": [
      "epoch 634| loss: 0.06563 | train_mse: 0.04004 | train_mae: 0.15027 |  0:03:07s\n"
     ]
    },
    {
     "name": "stdout",
     "output_type": "stream",
     "text": [
      "epoch 635| loss: 0.06876 | train_mse: 0.05002 | train_mae: 0.16878 |  0:03:07s\n"
     ]
    },
    {
     "name": "stdout",
     "output_type": "stream",
     "text": [
      "epoch 636| loss: 0.06849 | train_mse: 0.03795 | train_mae: 0.14777 |  0:03:08s\n"
     ]
    },
    {
     "name": "stdout",
     "output_type": "stream",
     "text": [
      "epoch 637| loss: 0.04982 | train_mse: 0.04141 | train_mae: 0.15572 |  0:03:08s\n"
     ]
    },
    {
     "name": "stdout",
     "output_type": "stream",
     "text": [
      "epoch 638| loss: 0.05011 | train_mse: 0.03024 | train_mae: 0.13164 |  0:03:08s\n"
     ]
    },
    {
     "name": "stdout",
     "output_type": "stream",
     "text": [
      "epoch 639| loss: 0.06141 | train_mse: 0.02709 | train_mae: 0.12421 |  0:03:08s\n"
     ]
    },
    {
     "name": "stdout",
     "output_type": "stream",
     "text": [
      "epoch 640| loss: 0.0704  | train_mse: 0.03833 | train_mae: 0.14732 |  0:03:09s\n"
     ]
    },
    {
     "name": "stdout",
     "output_type": "stream",
     "text": [
      "epoch 641| loss: 0.07636 | train_mse: 0.03188 | train_mae: 0.13699 |  0:03:09s\n"
     ]
    },
    {
     "name": "stdout",
     "output_type": "stream",
     "text": [
      "epoch 642| loss: 0.05777 | train_mse: 0.03918 | train_mae: 0.14918 |  0:03:09s\n"
     ]
    },
    {
     "name": "stdout",
     "output_type": "stream",
     "text": [
      "epoch 643| loss: 0.1101  | train_mse: 0.05358 | train_mae: 0.17363 |  0:03:10s\n"
     ]
    },
    {
     "name": "stdout",
     "output_type": "stream",
     "text": [
      "epoch 644| loss: 0.07083 | train_mse: 0.08095 | train_mae: 0.21024 |  0:03:10s\n"
     ]
    },
    {
     "name": "stdout",
     "output_type": "stream",
     "text": [
      "epoch 645| loss: 0.05731 | train_mse: 0.04825 | train_mae: 0.16305 |  0:03:10s\n"
     ]
    },
    {
     "name": "stdout",
     "output_type": "stream",
     "text": [
      "epoch 646| loss: 0.05829 | train_mse: 0.03882 | train_mae: 0.15037 |  0:03:10s\n"
     ]
    },
    {
     "name": "stdout",
     "output_type": "stream",
     "text": [
      "epoch 647| loss: 0.08137 | train_mse: 0.04177 | train_mae: 0.15617 |  0:03:11s\n"
     ]
    },
    {
     "name": "stdout",
     "output_type": "stream",
     "text": [
      "epoch 648| loss: 0.05765 | train_mse: 0.04334 | train_mae: 0.15706 |  0:03:11s\n"
     ]
    },
    {
     "name": "stdout",
     "output_type": "stream",
     "text": [
      "epoch 649| loss: 0.06364 | train_mse: 0.03249 | train_mae: 0.1347  |  0:03:11s\n"
     ]
    },
    {
     "name": "stdout",
     "output_type": "stream",
     "text": [
      "epoch 650| loss: 0.08671 | train_mse: 0.05132 | train_mae: 0.17352 |  0:03:12s\n"
     ]
    },
    {
     "name": "stdout",
     "output_type": "stream",
     "text": [
      "epoch 651| loss: 0.06556 | train_mse: 0.03283 | train_mae: 0.13923 |  0:03:12s\n"
     ]
    },
    {
     "name": "stdout",
     "output_type": "stream",
     "text": [
      "epoch 652| loss: 0.06806 | train_mse: 0.04689 | train_mae: 0.16193 |  0:03:12s\n"
     ]
    },
    {
     "name": "stdout",
     "output_type": "stream",
     "text": [
      "epoch 653| loss: 0.08195 | train_mse: 0.03897 | train_mae: 0.15142 |  0:03:12s\n"
     ]
    },
    {
     "name": "stdout",
     "output_type": "stream",
     "text": [
      "epoch 654| loss: 0.06493 | train_mse: 0.03297 | train_mae: 0.13657 |  0:03:13s\n"
     ]
    },
    {
     "name": "stdout",
     "output_type": "stream",
     "text": [
      "epoch 655| loss: 0.07278 | train_mse: 0.0308  | train_mae: 0.136   |  0:03:13s\n"
     ]
    },
    {
     "name": "stdout",
     "output_type": "stream",
     "text": [
      "epoch 656| loss: 0.07682 | train_mse: 0.03416 | train_mae: 0.14179 |  0:03:13s\n"
     ]
    },
    {
     "name": "stdout",
     "output_type": "stream",
     "text": [
      "epoch 657| loss: 0.06296 | train_mse: 0.03493 | train_mae: 0.14398 |  0:03:14s\n"
     ]
    },
    {
     "name": "stdout",
     "output_type": "stream",
     "text": [
      "epoch 658| loss: 0.07846 | train_mse: 0.04262 | train_mae: 0.15593 |  0:03:14s\n"
     ]
    },
    {
     "name": "stdout",
     "output_type": "stream",
     "text": [
      "epoch 659| loss: 0.08071 | train_mse: 0.03061 | train_mae: 0.13339 |  0:03:14s\n"
     ]
    },
    {
     "name": "stdout",
     "output_type": "stream",
     "text": [
      "epoch 660| loss: 0.08268 | train_mse: 0.04452 | train_mae: 0.15797 |  0:03:14s\n"
     ]
    },
    {
     "name": "stdout",
     "output_type": "stream",
     "text": [
      "epoch 661| loss: 0.06301 | train_mse: 0.03252 | train_mae: 0.13325 |  0:03:15s\n"
     ]
    },
    {
     "name": "stdout",
     "output_type": "stream",
     "text": [
      "epoch 662| loss: 0.05247 | train_mse: 0.03057 | train_mae: 0.13099 |  0:03:15s\n"
     ]
    },
    {
     "name": "stdout",
     "output_type": "stream",
     "text": [
      "epoch 663| loss: 0.09387 | train_mse: 0.03367 | train_mae: 0.1424  |  0:03:15s\n"
     ]
    },
    {
     "name": "stdout",
     "output_type": "stream",
     "text": [
      "epoch 664| loss: 0.08665 | train_mse: 0.0373  | train_mae: 0.14891 |  0:03:16s\n"
     ]
    },
    {
     "name": "stdout",
     "output_type": "stream",
     "text": [
      "epoch 665| loss: 0.08783 | train_mse: 0.06876 | train_mae: 0.19382 |  0:03:16s\n"
     ]
    },
    {
     "name": "stdout",
     "output_type": "stream",
     "text": [
      "epoch 666| loss: 0.08023 | train_mse: 0.04146 | train_mae: 0.15421 |  0:03:16s\n"
     ]
    },
    {
     "name": "stdout",
     "output_type": "stream",
     "text": [
      "epoch 667| loss: 0.06935 | train_mse: 0.03186 | train_mae: 0.13533 |  0:03:16s\n"
     ]
    },
    {
     "name": "stdout",
     "output_type": "stream",
     "text": [
      "epoch 668| loss: 0.0839  | train_mse: 0.04015 | train_mae: 0.15427 |  0:03:17s\n"
     ]
    },
    {
     "name": "stdout",
     "output_type": "stream",
     "text": [
      "epoch 669| loss: 0.05789 | train_mse: 0.03189 | train_mae: 0.13166 |  0:03:17s\n"
     ]
    },
    {
     "name": "stdout",
     "output_type": "stream",
     "text": [
      "epoch 670| loss: 0.05855 | train_mse: 0.03265 | train_mae: 0.13711 |  0:03:17s\n"
     ]
    },
    {
     "name": "stdout",
     "output_type": "stream",
     "text": [
      "epoch 671| loss: 0.06629 | train_mse: 0.03808 | train_mae: 0.14533 |  0:03:18s\n"
     ]
    },
    {
     "name": "stdout",
     "output_type": "stream",
     "text": [
      "epoch 672| loss: 0.06505 | train_mse: 0.03461 | train_mae: 0.13835 |  0:03:18s\n"
     ]
    },
    {
     "name": "stdout",
     "output_type": "stream",
     "text": [
      "epoch 673| loss: 0.07813 | train_mse: 0.03531 | train_mae: 0.14334 |  0:03:18s\n"
     ]
    },
    {
     "name": "stdout",
     "output_type": "stream",
     "text": [
      "epoch 674| loss: 0.0632  | train_mse: 0.0315  | train_mae: 0.13039 |  0:03:18s\n"
     ]
    },
    {
     "name": "stdout",
     "output_type": "stream",
     "text": [
      "epoch 675| loss: 0.05609 | train_mse: 0.03541 | train_mae: 0.14176 |  0:03:19s\n"
     ]
    },
    {
     "name": "stdout",
     "output_type": "stream",
     "text": [
      "epoch 676| loss: 0.0764  | train_mse: 0.04259 | train_mae: 0.16025 |  0:03:19s\n"
     ]
    },
    {
     "name": "stdout",
     "output_type": "stream",
     "text": [
      "epoch 677| loss: 0.05782 | train_mse: 0.03471 | train_mae: 0.14277 |  0:03:19s\n"
     ]
    },
    {
     "name": "stdout",
     "output_type": "stream",
     "text": [
      "epoch 678| loss: 0.0561  | train_mse: 0.03305 | train_mae: 0.1398  |  0:03:20s\n"
     ]
    },
    {
     "name": "stdout",
     "output_type": "stream",
     "text": [
      "epoch 679| loss: 0.06086 | train_mse: 0.06862 | train_mae: 0.19754 |  0:03:20s\n"
     ]
    },
    {
     "name": "stdout",
     "output_type": "stream",
     "text": [
      "epoch 680| loss: 0.06743 | train_mse: 0.03398 | train_mae: 0.14058 |  0:03:20s\n"
     ]
    },
    {
     "name": "stdout",
     "output_type": "stream",
     "text": [
      "epoch 681| loss: 0.06759 | train_mse: 0.04042 | train_mae: 0.15167 |  0:03:21s\n"
     ]
    },
    {
     "name": "stdout",
     "output_type": "stream",
     "text": [
      "epoch 682| loss: 0.06188 | train_mse: 0.03665 | train_mae: 0.14275 |  0:03:21s\n"
     ]
    },
    {
     "name": "stdout",
     "output_type": "stream",
     "text": [
      "epoch 683| loss: 0.07634 | train_mse: 0.03808 | train_mae: 0.14523 |  0:03:21s\n"
     ]
    },
    {
     "name": "stdout",
     "output_type": "stream",
     "text": [
      "epoch 684| loss: 0.10029 | train_mse: 0.04475 | train_mae: 0.15774 |  0:03:21s\n"
     ]
    },
    {
     "name": "stdout",
     "output_type": "stream",
     "text": [
      "epoch 685| loss: 0.09472 | train_mse: 0.03736 | train_mae: 0.14395 |  0:03:22s\n"
     ]
    },
    {
     "name": "stdout",
     "output_type": "stream",
     "text": [
      "epoch 686| loss: 0.06057 | train_mse: 0.03794 | train_mae: 0.14615 |  0:03:22s\n"
     ]
    },
    {
     "name": "stdout",
     "output_type": "stream",
     "text": [
      "epoch 687| loss: 0.07318 | train_mse: 0.03741 | train_mae: 0.14602 |  0:03:22s\n"
     ]
    },
    {
     "name": "stdout",
     "output_type": "stream",
     "text": [
      "epoch 688| loss: 0.0681  | train_mse: 0.06483 | train_mae: 0.18552 |  0:03:23s\n"
     ]
    },
    {
     "name": "stdout",
     "output_type": "stream",
     "text": [
      "epoch 689| loss: 0.08298 | train_mse: 0.0401  | train_mae: 0.14911 |  0:03:23s\n",
      "\n",
      "Early stopping occurred at epoch 689 with best_epoch = 639 and best_train_mae = 0.12421\n",
      "Best weights from best epoch are automatically used!\n"
     ]
    }
   ],
   "source": [
    "#Train the Model\n",
    "\n",
    "Y_train = np.reshape(Y_train, (-1, 1))\n",
    "Y_test = np.reshape(Y_test, (-1, 1))\n",
    "\n",
    "prior_model = TabNetRegressor(optimizer_fn=torch.optim.Adam, optimizer_params=dict(lr = 0.01),\n",
    "          #scheduler_params={\"step_size\":10, ], \"gamma\":0.9},\n",
    "          #scheduler_fn=torch.optim.lr_scheduler.StepLR\n",
    "          )  #TabNetRegressor()\n",
    "\n",
    "prior_model.fit(X_train,Y_train,eval_set=[(X_train, Y_train)],\n",
    "            eval_name=['train'], \n",
    "            eval_metric=[ 'mse', 'mae'], \n",
    "            max_epochs = n_epochs, \n",
    "            batch_size = batch_size,\n",
    "            patience=50\n",
    "            )"
   ]
  },
  {
   "cell_type": "code",
   "execution_count": 10,
   "id": "af65dcda",
   "metadata": {
    "execution": {
     "iopub.execute_input": "2022-07-22T15:52:57.551392Z",
     "iopub.status.busy": "2022-07-22T15:52:57.550655Z",
     "iopub.status.idle": "2022-07-22T15:52:57.624291Z",
     "shell.execute_reply": "2022-07-22T15:52:57.621974Z"
    },
    "id": "af65dcda",
    "papermill": {
     "duration": 0.12486,
     "end_time": "2022-07-22T15:52:57.627756",
     "exception": false,
     "start_time": "2022-07-22T15:52:57.502896",
     "status": "completed"
    },
    "tags": []
   },
   "outputs": [
    {
     "data": {
      "application/scrapbook.scrap.json+json": {
       "data": 0.07199741908008878,
       "encoder": "json",
       "name": "Prior Model MSE",
       "version": 1
      }
     },
     "metadata": {
      "scrapbook": {
       "data": true,
       "display": false,
       "name": "Prior Model MSE"
      }
     },
     "output_type": "display_data"
    },
    {
     "data": {
      "application/scrapbook.scrap.json+json": {
       "data": 0.07181029673905476,
       "encoder": "json",
       "name": "ABC Pre-generator MSE",
       "version": 1
      }
     },
     "metadata": {
      "scrapbook": {
       "data": true,
       "display": false,
       "name": "ABC Pre-generator MSE"
      }
     },
     "output_type": "display_data"
    },
    {
     "data": {
      "application/scrapbook.scrap.json+json": {
       "data": 0.20865753260625042,
       "encoder": "json",
       "name": "Prior Model MAE",
       "version": 1
      }
     },
     "metadata": {
      "scrapbook": {
       "data": true,
       "display": false,
       "name": "Prior Model MAE"
      }
     },
     "output_type": "display_data"
    },
    {
     "name": "stdout",
     "output_type": "stream",
     "text": [
      "Prior Model MAE 0.20865753260625042\n"
     ]
    },
    {
     "data": {
      "application/scrapbook.scrap.json+json": {
       "data": 0.20893967254812837,
       "encoder": "json",
       "name": "ABC Pre-generator MAE",
       "version": 1
      }
     },
     "metadata": {
      "scrapbook": {
       "data": true,
       "display": false,
       "name": "ABC Pre-generator MAE"
      }
     },
     "output_type": "display_data"
    },
    {
     "name": "stdout",
     "output_type": "stream",
     "text": [
      "ABC Pre-generator MAE 0.20893967254812837\n"
     ]
    }
   ],
   "source": [
    "y_pred = prior_model.predict(X_test)\n",
    "y_abc = y_pred + np.random.normal(0,variance, y_pred.shape) + bias \n",
    "mse = mean_squared_error(y_pred,Y_test)\n",
    "sb.glue(\"Prior Model MSE\",mse)\n",
    "mse = mean_squared_error(y_abc,Y_test)\n",
    "sb.glue(\"ABC Pre-generator MSE\",mse)\n",
    "mae = mean_absolute_error(y_pred,Y_test)\n",
    "sb.glue(\"Prior Model MAE\",mae)\n",
    "print(\"Prior Model MAE\",mae)\n",
    "mae = mean_absolute_error(y_abc,Y_test)\n",
    "sb.glue(\"ABC Pre-generator MAE\",mae)\n",
    "print(\"ABC Pre-generator MAE\",mae)"
   ]
  },
  {
   "cell_type": "markdown",
   "id": "25609da2",
   "metadata": {
    "papermill": {
     "duration": 0.0402,
     "end_time": "2022-07-22T15:52:57.708299",
     "exception": false,
     "start_time": "2022-07-22T15:52:57.668099",
     "status": "completed"
    },
    "tags": []
   },
   "source": [
    "# mGAN Model"
   ]
  },
  {
   "cell_type": "code",
   "execution_count": 11,
   "id": "dfc3464d",
   "metadata": {
    "execution": {
     "iopub.execute_input": "2022-07-22T15:52:57.799934Z",
     "iopub.status.busy": "2022-07-22T15:52:57.799623Z",
     "iopub.status.idle": "2022-07-22T15:52:57.807323Z",
     "shell.execute_reply": "2022-07-22T15:52:57.805869Z"
    },
    "papermill": {
     "duration": 0.057517,
     "end_time": "2022-07-22T15:52:57.809949",
     "exception": false,
     "start_time": "2022-07-22T15:52:57.752432",
     "status": "completed"
    },
    "tags": []
   },
   "outputs": [],
   "source": [
    "gen = network.Generator(n_features+1).to(device)\n",
    "disc = network.Discriminator(n_features+1).to(device)\n",
    "\n",
    "criterion = torch.nn.BCELoss()\n",
    "gen_opt = torch.optim.Adam(gen.parameters(), lr=0.01, betas=(0.5, 0.999))\n",
    "disc_opt = torch.optim.Adam(disc.parameters(), lr=0.01, betas=(0.5, 0.999))"
   ]
  },
  {
   "cell_type": "code",
   "execution_count": 12,
   "id": "b75fdd85",
   "metadata": {
    "execution": {
     "iopub.execute_input": "2022-07-22T15:52:57.891889Z",
     "iopub.status.busy": "2022-07-22T15:52:57.891601Z",
     "iopub.status.idle": "2022-07-22T15:56:01.860471Z",
     "shell.execute_reply": "2022-07-22T15:56:01.859517Z"
    },
    "papermill": {
     "duration": 184.01193,
     "end_time": "2022-07-22T15:56:01.862696",
     "exception": false,
     "start_time": "2022-07-22T15:52:57.850766",
     "status": "completed"
    },
    "tags": []
   },
   "outputs": [
    {
     "data": {
      "image/png": "[encoded data removed]",
      "text/plain": [
       "<Figure size 432x288 with 1 Axes>"
      ]
     },
     "metadata": {
      "needs_background": "light"
     },
     "output_type": "display_data"
    },
    {
     "data": {
      "image/png": "[encoded data removed]",
      "text/plain": [
       "<Figure size 432x288 with 1 Axes>"
      ]
     },
     "metadata": {
      "needs_background": "light"
     },
     "output_type": "display_data"
    }
   ],
   "source": [
    "#Training the ABC_GAN \n",
    "ABC_train_test2.training_GAN(disc,gen,disc_opt,gen_opt,train_data,batch_size,n_epochs,criterion,prior_model,variance,bias,device)"
   ]
  },
  {
   "cell_type": "code",
   "execution_count": 13,
   "id": "1fa7c368",
   "metadata": {
    "execution": {
     "iopub.execute_input": "2022-07-22T15:56:01.955728Z",
     "iopub.status.busy": "2022-07-22T15:56:01.955482Z",
     "iopub.status.idle": "2022-07-22T15:56:03.978832Z",
     "shell.execute_reply": "2022-07-22T15:56:03.978229Z"
    },
    "papermill": {
     "duration": 2.072358,
     "end_time": "2022-07-22T15:56:03.981178",
     "exception": false,
     "start_time": "2022-07-22T15:56:01.908820",
     "status": "completed"
    },
    "tags": []
   },
   "outputs": [
    {
     "data": {
      "application/scrapbook.scrap.json+json": {
       "data": 0.12428491846466623,
       "encoder": "json",
       "name": "ABC-GAN Model 1 MSE",
       "version": 1
      }
     },
     "metadata": {
      "scrapbook": {
       "data": true,
       "display": false,
       "name": "ABC-GAN Model 1 MSE"
      }
     },
     "output_type": "display_data"
    },
    {
     "data": {
      "application/scrapbook.scrap.json+json": {
       "data": 0.28493914364672757,
       "encoder": "json",
       "name": "ABC-GAN Model 1 MAE",
       "version": 1
      }
     },
     "metadata": {
      "scrapbook": {
       "data": true,
       "display": false,
       "name": "ABC-GAN Model 1 MAE"
      }
     },
     "output_type": "display_data"
    },
    {
     "data": {
      "application/scrapbook.scrap.json+json": {
       "data": 29.063792651966214,
       "encoder": "json",
       "name": "ABC-GAN Model 1 Manhattan Distance",
       "version": 1
      }
     },
     "metadata": {
      "scrapbook": {
       "data": true,
       "display": false,
       "name": "ABC-GAN Model 1 Manhattan Distance"
      }
     },
     "output_type": "display_data"
    },
    {
     "data": {
      "application/scrapbook.scrap.json+json": {
       "data": 3.5604782056193507,
       "encoder": "json",
       "name": "ABC-GAN Model 1 Euclidean distance",
       "version": 1
      }
     },
     "metadata": {
      "scrapbook": {
       "data": true,
       "display": false,
       "name": "ABC-GAN Model 1 Euclidean distance"
      }
     },
     "output_type": "display_data"
    },
    {
     "data": {
      "application/scrapbook.scrap.json+json": {
       "data": [
        [
         0.12375982474567154,
         0.12468583264467033,
         0.12385327420913687,
         0.12354099585948955,
         0.12388455627483007,
         0.12381757769777689,
         0.12461138777321043,
         0.12442293832286287,
         0.1250428538570564,
         0.12324274301510757,
         0.12502058413427275,
         0.12396935578149797,
         0.12496596801843972,
         0.12394421161885355,
         0.12496231562457245,
         0.12403697268406928,
         0.1241391019036482,
         0.123940965498408,
         0.12356991229458705,
         0.12362096632776123,
         0.1242260457710388,
         0.12416445058761655,
         0.12426060650951051,
         0.12248885510090324,
         0.1251358054914944,
         0.12463197442651754,
         0.12413039609574801,
         0.12394486235039899,
         0.12450022232951465,
         0.12386784129232492,
         0.12438496030464469,
         0.12475014865528496,
         0.12408750364825229,
         0.124871979084622,
         0.124305818929981,
         0.1250758167763415,
         0.12436486927954618,
         0.12456568229449823,
         0.12495772282123557,
         0.12426172408292042,
         0.12469371668842613,
         0.12410486728316523,
         0.12534310783222644,
         0.12393882241164321,
         0.1245385913354901,
         0.12475449101879069,
         0.1246249587002757,
         0.12349807021092098,
         0.12397873309330464,
         0.12385824919648818,
         0.12479767146188081,
         0.1245134717066694,
         0.12430195321904748,
         0.12542935980009007,
         0.12391294084358262,
         0.12510802055187867,
         0.12411331261444472,
         0.12387953634327191,
         0.1244217321435362,
         0.12426873436976174,
         0.12344352905732174,
         0.12417276788013372,
         0.12442560870740577,
         0.124365485237458,
         0.12314750286458759,
         0.12400239295014287,
         0.12370283481261364,
         0.12423831379255108,
         0.12412425012495143,
         0.12478009654906595,
         0.12478426802360791,
         0.12439327488320297,
         0.12374619541340554,
         0.12476485817865197,
         0.12426376091044272,
         0.1250903421307777,
         0.12409040946556839,
         0.12545246492081769,
         0.12370198435881395,
         0.12486151946671406,
         0.12382487386173928,
         0.12460540007358073,
         0.12460652886808825,
         0.12504143786504934,
         0.12439778912995404,
         0.12407290887999536,
         0.12422675799166333,
         0.12442748575030896,
         0.12422624173952833,
         0.12481610038563394,
         0.12447548656375966,
         0.12377940460759444,
         0.12423244453222348,
         0.12356715089785424,
         0.12341907160026624,
         0.12425449994506596,
         0.12430526240556991,
         0.12483451384669719,
         0.12386209064565495,
         0.12387457220494891
        ],
        [
         0.2842385988938166,
         0.2848961585036972,
         0.2855050710815133,
         0.2836529820901798,
         0.28376852773933436,
         0.285013913030864,
         0.2859123782528674,
         0.2853425768404907,
         0.28537292013346566,
         0.2837768846611474,
         0.2855087097405511,
         0.284865887525181,
         0.2856852595749147,
         0.2843461957961029,
         0.28645395671985313,
         0.28494497967482196,
         0.28440829039569576,
         0.2848527587256303,
         0.28455409299874423,
         0.28445478800830304,
         0.28451094434907037,
         0.2847101154609346,
         0.28493002752828245,
         0.282164871491784,
         0.2854200140847003,
         0.28558244170876695,
         0.2840507519340106,
         0.2841010442295787,
         0.2845413748576653,
         0.28463933275391656,
         0.2846600561786224,
         0.2856341972399284,
         0.2845368538161411,
         0.2855264112974207,
         0.28480809979944255,
         0.28584312364532083,
         0.28440612315328095,
         0.28601261982511655,
         0.2854348641144587,
         0.2859030676567379,
         0.28443378628249844,
         0.2851333338584678,
         0.2867290203222165,
         0.2839435262459458,
         0.28541143846643324,
         0.2858409150594882,
         0.28540417517297995,
         0.2836195751476814,
         0.28383962176374944,
         0.2844553596577516,
         0.28548392282762364,
         0.2852877944744393,
         0.2850179240728418,
         0.28631732548933986,
         0.2842376478491168,
         0.2867194729144959,
         0.2844741171518085,
         0.28521269685862694,
         0.2852874156635474,
         0.2851567961750369,
         0.2838145035191202,
         0.2858233113827951,
         0.28591723471660824,
         0.28468435222976934,
         0.28304973458323407,
         0.2846411712942462,
         0.2840973557539138,
         0.28534459960007785,
         0.2852454252139318,
         0.28568975256719426,
         0.28504357948972314,
         0.28506438764652203,
         0.2847200656382769,
         0.2857446446466972,
         0.28483843593401653,
         0.28616012379015776,
         0.2843623166611674,
         0.28608458805098835,
         0.2838963558897376,
         0.2854605112042205,
         0.2852517019628602,
         0.28518160456316727,
         0.2854604665007369,
         0.2864540930216511,
         0.2841538400663173,
         0.28546504320248084,
         0.2847139710633486,
         0.2847653840138924,
         0.285526444313719,
         0.28512393969896377,
         0.2848206807621846,
         0.28460567103077966,
         0.2848540207955475,
         0.28379257558388454,
         0.28433030546076743,
         0.284040628494147,
         0.28479296752416033,
         0.2861864193726112,
         0.283255327949483,
         0.2844796985132145
        ],
        [
         28.99233708716929,
         29.059408167377114,
         29.121517250314355,
         28.932604173198342,
         28.944389829412103,
         29.071419129148126,
         29.163062581792474,
         29.10494283773005,
         29.108037853613496,
         28.945242235437036,
         29.12188839353621,
         29.05632052756846,
         29.139896476641297,
         29.003311971202493,
         29.21830358542502,
         29.06438792683184,
         29.00964562036097,
         29.05498139001429,
         29.02451748587191,
         29.01438837684691,
         29.02011632360518,
         29.04043177701533,
         29.062862807884812,
         28.780816892161965,
         29.112841436639428,
         29.12940905429423,
         28.973176697269082,
         28.97830651141703,
         29.02322023548186,
         29.03321194089949,
         29.035325730219483,
         29.134688118472695,
         29.022759089246392,
         29.123693952336907,
         29.050426179543138,
         29.155998611822724,
         29.00942456163466,
         29.17328722216189,
         29.114356139674783,
         29.162112900987267,
         29.012246200814843,
         29.083600053563714,
         29.246360072866082,
         28.962239677086473,
         29.111966723576188,
         29.155773336067796,
         29.111225867643952,
         28.9291966650635,
         28.951641419902444,
         29.01444668509066,
         29.11936012841761,
         29.099355036392808,
         29.071828255429864,
         29.204367199912667,
         28.992240080609918,
         29.24538623727858,
         29.016359949484468,
         29.09169507957995,
         29.099316397681832,
         29.08599320985377,
         28.949079358950257,
         29.1539777610451,
         29.16355794109404,
         29.03780392743647,
         28.871072927489877,
         29.033399472013116,
         28.97793028689921,
         29.10514915920794,
         29.095033371821046,
         29.140354761853814,
         29.07444510795176,
         29.076567539945245,
         29.04144669510424,
         29.145953753963113,
         29.053520465269685,
         29.188332626596093,
         29.004956299439073,
         29.180627981200814,
         28.957428300753236,
         29.11697214283049,
         29.09567360021174,
         29.088523665443063,
         29.116967583075166,
         29.218317488208413,
         28.98369168676436,
         29.117434406653047,
         29.040825048461556,
         29.046069169417024,
         29.123697319999337,
         29.082641849294305,
         29.05170943774283,
         29.029778445139527,
         29.055110121145844,
         28.946842709556222,
         29.001691156998277,
         28.972144106402993,
         29.048882687464356,
         29.19101477600634,
         28.892043450847268,
         29.01692924834788
        ],
        [
         3.5529568142687147,
         3.5662241838892252,
         3.5542979573091444,
         3.549814301856921,
         3.554746789861785,
         3.5537857173967655,
         3.565159400765619,
         3.562462590530884,
         3.571326237326933,
         3.545526729209776,
         3.5710082024122847,
         3.5559632014002607,
         3.5702281072616144,
         3.5556025628749706,
         3.5701759331588114,
         3.5569328379623735,
         3.558396885420753,
         3.555556001645539,
         3.5502297184897595,
         3.5509630476015435,
         3.5596427726172126,
         3.5587601717363433,
         3.56013789957216,
         3.5346659276786156,
         3.572653378111627,
         3.565453882958632,
         3.5582721090110994,
         3.555611896669924,
         3.5635688119651183,
         3.554506971693422,
         3.5619188580137195,
         3.5671438382603897,
         3.557657287053059,
         3.5688852414488537,
         3.560785521603072,
         3.571796930284088,
         3.5616311805847767,
         3.564505518867774,
         3.5701103243129655,
         3.5601539090968926,
         3.566336930552057,
         3.557906190849171,
         3.5756114160919523,
         3.5555252616157302,
         3.564117887531218,
         3.567205921154069,
         3.565353529094712,
         3.549197537685658,
         3.5560976892539204,
         3.5543693418160407,
         3.567823214386027,
         3.5637584253257515,
         3.5607301538227856,
         3.5768414417764154,
         3.5551540003276134,
         3.5722567231781683,
         3.5580272464770926,
         3.5546747681066035,
         3.562445322898401,
         3.560254331605496,
         3.548413725011053,
         3.558879363475761,
         3.5625008193901357,
         3.561640000648678,
         3.5441564993927583,
         3.5564369924004797,
         3.5521386728119992,
         3.5598185356616443,
         3.5581840189547593,
         3.5675719821756533,
         3.567631614728181,
         3.562037905200715,
         3.552761170155878,
         3.5673541363624803,
         3.560183086986561,
         3.572004324932897,
         3.5576989425031416,
         3.5771708684270873,
         3.5521264623601203,
         3.5687357685327217,
         3.5538904223255683,
         3.5650737450304213,
         3.5650898929122388,
         3.571306016324425,
         3.562102538004109,
         3.557448060866037,
         3.5596529767871554,
         3.562527690633648,
         3.5596455803115976,
         3.568086635626251,
         3.5632147885727408,
         3.553237857219051,
         3.559734448282174,
         3.550190050065085,
         3.5480621898759264,
         3.560050420204288,
         3.5607775506717814,
         3.5683498164225873,
         3.5544244605641575,
         3.5546035453907923
        ]
       ],
       "encoder": "json",
       "name": "ABC_GAN_1 Metrics",
       "version": 1
      }
     },
     "metadata": {
      "scrapbook": {
       "data": true,
       "display": false,
       "name": "ABC_GAN_1 Metrics"
      }
     },
     "output_type": "display_data"
    },
    {
     "name": "stdout",
     "output_type": "stream",
     "text": [
      "MAE\n",
      "0.28493914364672757\n"
     ]
    }
   ],
   "source": [
    "ABC_GAN1_metrics=ABC_train_test2.test_generator(gen,test_data,prior_model,variance,bias,\"1\",device)\n",
    "sb.glue(\"ABC_GAN_1 Metrics\",ABC_GAN1_metrics)\n",
    "\n",
    "print(\"MAE\")\n",
    "print(mean(ABC_GAN1_metrics[1]))"
   ]
  },
  {
   "cell_type": "code",
   "execution_count": 14,
   "id": "eb22ce5c",
   "metadata": {
    "execution": {
     "iopub.execute_input": "2022-07-22T15:56:04.087952Z",
     "iopub.status.busy": "2022-07-22T15:56:04.087378Z",
     "iopub.status.idle": "2022-07-22T15:56:04.779245Z",
     "shell.execute_reply": "2022-07-22T15:56:04.778371Z"
    },
    "papermill": {
     "duration": 0.740577,
     "end_time": "2022-07-22T15:56:04.781522",
     "exception": false,
     "start_time": "2022-07-22T15:56:04.040945",
     "status": "completed"
    },
    "tags": []
   },
   "outputs": [
    {
     "data": {
      "image/png": "[encoded data removed]",
      "text/plain": [
       "<Figure size 432x288 with 1 Axes>"
      ]
     },
     "metadata": {
      "needs_background": "light"
     },
     "output_type": "display_data"
    },
    {
     "data": {
      "image/png": "[encoded data removed]",
      "text/plain": [
       "<Figure size 432x288 with 1 Axes>"
      ]
     },
     "metadata": {
      "needs_background": "light"
     },
     "output_type": "display_data"
    },
    {
     "data": {
      "image/png": "[encoded data removed]",
      "text/plain": [
       "<Figure size 432x288 with 1 Axes>"
      ]
     },
     "metadata": {
      "needs_background": "light"
     },
     "output_type": "display_data"
    },
    {
     "data": {
      "image/png": "[encoded data removed]",
      "text/plain": [
       "<Figure size 432x288 with 1 Axes>"
      ]
     },
     "metadata": {
      "needs_background": "light"
     },
     "output_type": "display_data"
    }
   ],
   "source": [
    "sanityChecks.discProbVsError(train_data,disc,device)\n",
    "sanityChecks.discProbVsError(test_data,disc,device)"
   ]
  },
  {
   "cell_type": "markdown",
   "id": "c6affde2",
   "metadata": {
    "papermill": {
     "duration": 0.044724,
     "end_time": "2022-07-22T15:56:04.878175",
     "exception": false,
     "start_time": "2022-07-22T15:56:04.833451",
     "status": "completed"
    },
    "tags": []
   },
   "source": [
    "# mGAN Model with TabNet Generator"
   ]
  },
  {
   "cell_type": "code",
   "execution_count": 15,
   "id": "1a581811",
   "metadata": {
    "execution": {
     "iopub.execute_input": "2022-07-22T15:56:04.969528Z",
     "iopub.status.busy": "2022-07-22T15:56:04.969232Z",
     "iopub.status.idle": "2022-07-22T15:56:04.983675Z",
     "shell.execute_reply": "2022-07-22T15:56:04.982450Z"
    },
    "papermill": {
     "duration": 0.062495,
     "end_time": "2022-07-22T15:56:04.986152",
     "exception": false,
     "start_time": "2022-07-22T15:56:04.923657",
     "status": "completed"
    },
    "tags": []
   },
   "outputs": [],
   "source": [
    "gen2 = network.GeneratorTabnet(n_features+1).to(device)\n",
    "disc2 = network.Discriminator(n_features+1).to(device)\n",
    "\n",
    "criterion = torch.nn.BCELoss()\n",
    "gen_opt = torch.optim.Adam(gen2.parameters(), lr=0.01, betas=(0.5, 0.999))\n",
    "disc_opt = torch.optim.Adam(disc2.parameters(), lr=0.01, betas=(0.5, 0.999))"
   ]
  },
  {
   "cell_type": "code",
   "execution_count": 16,
   "id": "1eb8577e",
   "metadata": {
    "execution": {
     "iopub.execute_input": "2022-07-22T15:56:05.075445Z",
     "iopub.status.busy": "2022-07-22T15:56:05.075160Z",
     "iopub.status.idle": "2022-07-22T16:05:30.998763Z",
     "shell.execute_reply": "2022-07-22T16:05:30.997226Z"
    },
    "papermill": {
     "duration": 565.972298,
     "end_time": "2022-07-22T16:05:31.002280",
     "exception": false,
     "start_time": "2022-07-22T15:56:05.029982",
     "status": "completed"
    },
    "tags": []
   },
   "outputs": [
    {
     "data": {
      "image/png": "[encoded data removed]",
      "text/plain": [
       "<Figure size 432x288 with 1 Axes>"
      ]
     },
     "metadata": {
      "needs_background": "light"
     },
     "output_type": "display_data"
    },
    {
     "data": {
      "image/png": "[encoded data removed]",
      "text/plain": [
       "<Figure size 432x288 with 1 Axes>"
      ]
     },
     "metadata": {
      "needs_background": "light"
     },
     "output_type": "display_data"
    }
   ],
   "source": [
    "#Training the ABC_GAN \n",
    "ABC_train_test2.training_GAN(disc2,gen2,disc_opt,gen_opt,train_data,batch_size,n_epochs,criterion,prior_model,variance,bias,device)"
   ]
  },
  {
   "cell_type": "code",
   "execution_count": 17,
   "id": "e5087720",
   "metadata": {
    "execution": {
     "iopub.execute_input": "2022-07-22T16:05:31.117575Z",
     "iopub.status.busy": "2022-07-22T16:05:31.116586Z",
     "iopub.status.idle": "2022-07-22T16:05:33.897061Z",
     "shell.execute_reply": "2022-07-22T16:05:33.896333Z"
    },
    "papermill": {
     "duration": 2.843091,
     "end_time": "2022-07-22T16:05:33.899321",
     "exception": false,
     "start_time": "2022-07-22T16:05:31.056230",
     "status": "completed"
    },
    "tags": []
   },
   "outputs": [
    {
     "data": {
      "application/scrapbook.scrap.json+json": {
       "data": 0.07526477449705622,
       "encoder": "json",
       "name": "ABC-GAN Model 1 MSE",
       "version": 1
      }
     },
     "metadata": {
      "scrapbook": {
       "data": true,
       "display": false,
       "name": "ABC-GAN Model 1 MSE"
      }
     },
     "output_type": "display_data"
    },
    {
     "data": {
      "application/scrapbook.scrap.json+json": {
       "data": 0.19809173038841096,
       "encoder": "json",
       "name": "ABC-GAN Model 1 MAE",
       "version": 1
      }
     },
     "metadata": {
      "scrapbook": {
       "data": true,
       "display": false,
       "name": "ABC-GAN Model 1 MAE"
      }
     },
     "output_type": "display_data"
    },
    {
     "data": {
      "application/scrapbook.scrap.json+json": {
       "data": 20.20535649961792,
       "encoder": "json",
       "name": "ABC-GAN Model 1 Manhattan Distance",
       "version": 1
      }
     },
     "metadata": {
      "scrapbook": {
       "data": true,
       "display": false,
       "name": "ABC-GAN Model 1 Manhattan Distance"
      }
     },
     "output_type": "display_data"
    },
    {
     "data": {
      "application/scrapbook.scrap.json+json": {
       "data": 2.770727724010865,
       "encoder": "json",
       "name": "ABC-GAN Model 1 Euclidean distance",
       "version": 1
      }
     },
     "metadata": {
      "scrapbook": {
       "data": true,
       "display": false,
       "name": "ABC-GAN Model 1 Euclidean distance"
      }
     },
     "output_type": "display_data"
    },
    {
     "data": {
      "application/scrapbook.scrap.json+json": {
       "data": [
        [
         0.0753326251141661,
         0.07442703613142859,
         0.07486433380713589,
         0.075463086875121,
         0.07532629719629391,
         0.07534687379660662,
         0.07528684754415099,
         0.07475394717638889,
         0.07555524725063187,
         0.07515375329705543,
         0.0753153239616971,
         0.07449250244468832,
         0.07553678424195284,
         0.07551834795869529,
         0.07598403906350688,
         0.0755265899503135,
         0.07500984176320803,
         0.07611705792004021,
         0.07472551994208997,
         0.07536562678624818,
         0.07521522159562023,
         0.07591869896104889,
         0.07522361989988288,
         0.07598158882407872,
         0.07510256078886468,
         0.07487163903041429,
         0.0761953513407931,
         0.07541997239985851,
         0.07599231892402743,
         0.07546317991815492,
         0.07493950979228751,
         0.07497317040240559,
         0.07534103394919821,
         0.07534380190719485,
         0.07485481222153004,
         0.07604966346289446,
         0.07543098106268263,
         0.0749294325577193,
         0.07541611105962957,
         0.07524763829841623,
         0.07494956479270994,
         0.0754986343484726,
         0.07454884347637318,
         0.07509563141747583,
         0.07538081161131611,
         0.075525017731888,
         0.07538887596178567,
         0.07520708093900563,
         0.07515309257444393,
         0.07583246471394839,
         0.07516705750747854,
         0.07476537022989123,
         0.07538768203173056,
         0.0745546031463799,
         0.07607717851503763,
         0.07484074306259894,
         0.07485819519390581,
         0.07506776761741683,
         0.07544587073946438,
         0.07573634789803935,
         0.07526181830030255,
         0.07443344877210223,
         0.0762996643150944,
         0.07514773085652611,
         0.07580964881058284,
         0.07521744579614151,
         0.0753677432235669,
         0.075984835112144,
         0.07547513473883553,
         0.07436741673043815,
         0.07525562521992438,
         0.07525409857621324,
         0.0751005685055043,
         0.07469413473018767,
         0.07501650053666511,
         0.0758758322616986,
         0.07477084331155343,
         0.07544530213778562,
         0.07562154330897179,
         0.07491221469047135,
         0.07517058017776564,
         0.075292780398386,
         0.07437022457938217,
         0.0751245018843208,
         0.07639393357737875,
         0.07592177997798201,
         0.07497899371963643,
         0.07458979746029448,
         0.07508057313654387,
         0.07601997861530309,
         0.07557800190226485,
         0.07462157127673624,
         0.0752866481032127,
         0.07536425204695749,
         0.0740668654495493,
         0.07545690952526157,
         0.07428492562791315,
         0.07537106154831279,
         0.07520797804210684,
         0.07549172059412067
        ],
        [
         0.19809114839881659,
         0.1970932718329862,
         0.196872476744009,
         0.1989546443025271,
         0.19853589123151466,
         0.1982456282621213,
         0.1975884497092635,
         0.19705599703479046,
         0.19896787048920112,
         0.19861780170935625,
         0.19895938210481523,
         0.19682367956813643,
         0.19829717294915633,
         0.19800134194905267,
         0.19926197222415723,
         0.1991444574303779,
         0.19747141856408001,
         0.1980509508364633,
         0.19823628318879535,
         0.19735474510154888,
         0.19770060853996113,
         0.1993097243465337,
         0.19755868250321523,
         0.1979809295860868,
         0.1990481961116779,
         0.19734337007371233,
         0.19909427378911013,
         0.19869597811324924,
         0.20034261679678572,
         0.19824010632274783,
         0.1981294366220633,
         0.197510535007014,
         0.19848499725591026,
         0.1995188383860331,
         0.19847833133284368,
         0.19892230701139746,
         0.19746429551684974,
         0.1968301687864404,
         0.1992031832718674,
         0.19872735362207772,
         0.1982280265576407,
         0.19813725889167366,
         0.1966569821952897,
         0.19742629576620518,
         0.19827187304184132,
         0.19707874206862613,
         0.19939387204381182,
         0.1984462823864876,
         0.19962714975882395,
         0.19860561241340988,
         0.19809929809222618,
         0.1972370990460702,
         0.19937445184982874,
         0.19705583673774027,
         0.1994016108048313,
         0.19683959212738508,
         0.19785526314494656,
         0.19756231557431758,
         0.1972853142731622,
         0.19784275842282703,
         0.19838972418002931,
         0.1976362759539602,
         0.20031257081484677,
         0.1965770645651455,
         0.1990456657265039,
         0.19693297799676657,
         0.19754643253434231,
         0.19822607410377732,
         0.19783673146922215,
         0.19689652916299655,
         0.19807375244358005,
         0.19745837044263004,
         0.19710842854179003,
         0.19667206304695675,
         0.19792103067990027,
         0.1984102327705306,
         0.19705296349803023,
         0.1982522590414566,
         0.1996716274971179,
         0.19749838736492628,
         0.19799525996524037,
         0.1986390509113085,
         0.19667703641907258,
         0.19759839387866213,
         0.19962733500071017,
         0.20014447443114192,
         0.19686875848428292,
         0.1974520287567786,
         0.1976373641769968,
         0.2010535928146804,
         0.1984739977610754,
         0.1968895859614599,
         0.19758804560657225,
         0.19823522442111782,
         0.19622983599045113,
         0.19787594893326363,
         0.19887214393227123,
         0.1977499678694442,
         0.19716817887463406,
         0.1982435009935323
        ],
        [
         20.20529713667929,
         20.103513726964593,
         20.080992627888918,
         20.293373718857765,
         20.250660905614495,
         20.221054082736373,
         20.154021870344877,
         20.099711697548628,
         20.294722789898515,
         20.25901577435434,
         20.293856974691153,
         20.076015315949917,
         20.226311640813947,
         20.196136878803372,
         20.324721166864038,
         20.312734657898545,
         20.142084693536162,
         20.201196985319257,
         20.220100885257125,
         20.130184000357985,
         20.165462071076035,
         20.32959188334644,
         20.150985615327954,
         20.194054817780852,
         20.302916003391147,
         20.12902374751866,
         20.307615926489234,
         20.266989767551422,
         20.434946913272142,
         20.220490844920278,
         20.20920253545046,
         20.146074570715427,
         20.245469720102847,
         20.350921515375376,
         20.244789795950055,
         20.29007531516254,
         20.141358142718673,
         20.076677216216922,
         20.318724693730474,
         20.270190069451928,
         20.21925870887935,
         20.210000406950712,
         20.05901218391955,
         20.13748216815293,
         20.223731050267816,
         20.102031690999866,
         20.338174948468804,
         20.241520803421736,
         20.361969275400043,
         20.257772466167808,
         20.20612840540707,
         20.11818410269916,
         20.336194088682532,
         20.099695347249508,
         20.33896430209279,
         20.07763839699328,
         20.18123684078455,
         20.151356188580394,
         20.123102055862546,
         20.179961359128356,
         20.23575186636299,
         20.15890014730394,
         20.43188222311437,
         20.05086058564484,
         20.3026579041034,
         20.08716375567019,
         20.149736118502915,
         20.219059558585286,
         20.17934660986066,
         20.083445974625647,
         20.203522749245167,
         20.140753785148263,
         20.105059711262584,
         20.06055043078959,
         20.187945129349828,
         20.237843742594123,
         20.099402276799083,
         20.221730422228575,
         20.366506004706025,
         20.14483551122248,
         20.195516516454518,
         20.261183192953467,
         20.061057714745402,
         20.155036175623536,
         20.361988170072436,
         20.414736391976476,
         20.080613365396857,
         20.14010693319142,
         20.159011146053672,
         20.5074664670974,
         20.24434777162969,
         20.08273776806891,
         20.15398065187037,
         20.219992890954018,
         20.015443271026015,
         20.18334679119289,
         20.284958681091666,
         20.17049672268331,
         20.111154245212674,
         20.220837101340294
        ],
        [
         2.7719898559780014,
         2.755278150279154,
         2.763360643913107,
         2.774389096947712,
         2.7718734303755608,
         2.7722519956262768,
         2.771147496887057,
         2.761322620048528,
         2.7760827112253788,
         2.7686969563857384,
         2.7716715252881436,
         2.756489660665936,
         2.7757435026816126,
         2.775404743778269,
         2.7839489909978057,
         2.7755561919968357,
         2.7660448043817394,
         2.7863847379434343,
         2.7607975358749464,
         2.772596965337247,
         2.7698289843875314,
         2.782751748544413,
         2.769983615436751,
         2.7839041039619215,
         2.7677538186161343,
         2.763495464281108,
         2.787817396595569,
         2.7735964350975006,
         2.784100668124412,
         2.7743908073037944,
         2.7647477278792225,
         2.7653685796011653,
         2.7721445602309807,
         2.7721954827417696,
         2.763184909953741,
         2.7851509246745016,
         2.7737988514659144,
         2.7645618316267346,
         2.773525433105349,
         2.770425798760626,
         2.76493320151797,
         2.775042468782092,
         2.7575318737215104,
         2.7676261316483,
         2.7728762656047676,
         2.775527302811589,
         2.773024584835507,
         2.769679088952107,
         2.7686847857048082,
         2.781170868685118,
         2.7689420119899246,
         2.7615335890495527,
         2.773002626619116,
         2.7576383956078705,
         2.7856547181109574,
         2.7629252238135384,
         2.763247348642244,
         2.7671126281697527,
         2.774072604569924,
         2.7794077580664576,
         2.7706868221852248,
         2.7553968452392525,
         2.789725033070397,
         2.7685860194990624,
         2.78075244829155,
         2.7698699375975098,
         2.772635895461902,
         2.7839635740143382,
         2.774610557062238,
         2.754174378376338,
         2.770572823881785,
         2.7705447216700447,
         2.767717107574659,
         2.760217698385245,
         2.766167575317851,
         2.781966011778947,
         2.761634664067362,
         2.774062151079916,
         2.777300383018575,
         2.764244182127924,
         2.769006893839756,
         2.7712566825603453,
         2.7542263717960767,
         2.768158086562384,
         2.791447872501407,
         2.782808214332092,
         2.765475973391003,
         2.7582892054587087,
         2.767348633607171,
         2.7846073006370062,
         2.7765007102522077,
         2.7588766319332034,
         2.771143826387886,
         2.772571677845257,
         2.7486033318494734,
         2.774275539952129,
         2.7526464382566713,
         2.7726969322174218,
         2.769695607877316,
         2.7749154042241195
        ]
       ],
       "encoder": "json",
       "name": "ABC_GAN_2 Metrics",
       "version": 1
      }
     },
     "metadata": {
      "scrapbook": {
       "data": true,
       "display": false,
       "name": "ABC_GAN_2 Metrics"
      }
     },
     "output_type": "display_data"
    },
    {
     "name": "stdout",
     "output_type": "stream",
     "text": [
      "MAE\n",
      "0.19809173038841096\n"
     ]
    }
   ],
   "source": [
    "ABC_GAN2_metrics=ABC_train_test2.test_generator(gen2,test_data,prior_model,variance,bias,\"1\",device)\n",
    "sb.glue(\"ABC_GAN_2 Metrics\",ABC_GAN2_metrics)\n",
    "\n",
    "print(\"MAE\")\n",
    "print(mean(ABC_GAN2_metrics[1]))"
   ]
  },
  {
   "cell_type": "code",
   "execution_count": 18,
   "id": "f10ecd8f",
   "metadata": {
    "execution": {
     "iopub.execute_input": "2022-07-22T16:05:33.996923Z",
     "iopub.status.busy": "2022-07-22T16:05:33.996622Z",
     "iopub.status.idle": "2022-07-22T16:05:35.106033Z",
     "shell.execute_reply": "2022-07-22T16:05:35.105305Z"
    },
    "papermill": {
     "duration": 1.161701,
     "end_time": "2022-07-22T16:05:35.108383",
     "exception": false,
     "start_time": "2022-07-22T16:05:33.946682",
     "status": "completed"
    },
    "tags": []
   },
   "outputs": [
    {
     "data": {
      "image/png": "[encoded data removed]",
      "text/plain": [
       "<Figure size 432x288 with 1 Axes>"
      ]
     },
     "metadata": {
      "needs_background": "light"
     },
     "output_type": "display_data"
    },
    {
     "data": {
      "image/png": "[encoded data removed]",
      "text/plain": [
       "<Figure size 432x288 with 1 Axes>"
      ]
     },
     "metadata": {
      "needs_background": "light"
     },
     "output_type": "display_data"
    },
    {
     "data": {
      "image/png": "[encoded data removed]",
      "text/plain": [
       "<Figure size 432x288 with 1 Axes>"
      ]
     },
     "metadata": {
      "needs_background": "light"
     },
     "output_type": "display_data"
    },
    {
     "data": {
      "image/png": "[encoded data removed]",
      "text/plain": [
       "<Figure size 432x288 with 1 Axes>"
      ]
     },
     "metadata": {
      "needs_background": "light"
     },
     "output_type": "display_data"
    }
   ],
   "source": [
    "sanityChecks.discProbVsError(train_data,disc2,device)\n",
    "sanityChecks.discProbVsError(test_data,disc2,device)"
   ]
  },
  {
   "cell_type": "markdown",
   "id": "130f3a4d",
   "metadata": {
    "id": "130f3a4d",
    "papermill": {
     "duration": 0.05141,
     "end_time": "2022-07-22T16:05:35.215960",
     "exception": false,
     "start_time": "2022-07-22T16:05:35.164550",
     "status": "completed"
    },
    "tags": []
   },
   "source": [
    "# skipGAN Model"
   ]
  },
  {
   "cell_type": "code",
   "execution_count": 19,
   "id": "4e43dad1",
   "metadata": {
    "execution": {
     "iopub.execute_input": "2022-07-22T16:05:35.479820Z",
     "iopub.status.busy": "2022-07-22T16:05:35.479550Z",
     "iopub.status.idle": "2022-07-22T16:05:35.487401Z",
     "shell.execute_reply": "2022-07-22T16:05:35.486169Z"
    },
    "id": "4e43dad1",
    "papermill": {
     "duration": 0.061135,
     "end_time": "2022-07-22T16:05:35.490024",
     "exception": false,
     "start_time": "2022-07-22T16:05:35.428889",
     "status": "completed"
    },
    "tags": []
   },
   "outputs": [],
   "source": [
    "#Generator\n",
    "gen3 = network.GeneratorWithSkipConnection(n_features+1).to(device)\n",
    "constraints=network.weightConstraint()\n",
    "#Discriminator \n",
    "disc3 = network.Discriminator(n_features+1).to(device)\n",
    "\n",
    "criterion = torch.nn.BCELoss()\n",
    "gen_opt = torch.optim.Adam(gen3.parameters(), lr=0.01, betas=(0.5, 0.999))\n",
    "disc_opt = torch.optim.Adam(disc3.parameters(), lr=0.01, betas=(0.5, 0.999))\n"
   ]
  },
  {
   "cell_type": "code",
   "execution_count": 20,
   "id": "26acbc37",
   "metadata": {
    "execution": {
     "iopub.execute_input": "2022-07-22T16:05:35.628376Z",
     "iopub.status.busy": "2022-07-22T16:05:35.628102Z",
     "iopub.status.idle": "2022-07-22T16:10:45.491363Z",
     "shell.execute_reply": "2022-07-22T16:10:45.488184Z"
    },
    "id": "26acbc37",
    "papermill": {
     "duration": 309.941819,
     "end_time": "2022-07-22T16:10:45.495438",
     "exception": false,
     "start_time": "2022-07-22T16:05:35.553619",
     "status": "completed"
    },
    "tags": []
   },
   "outputs": [
    {
     "data": {
      "image/png": "[encoded data removed]",
      "text/plain": [
       "<Figure size 432x288 with 1 Axes>"
      ]
     },
     "metadata": {
      "needs_background": "light"
     },
     "output_type": "display_data"
    },
    {
     "data": {
      "image/png": "[encoded data removed]",
      "text/plain": [
       "<Figure size 432x288 with 1 Axes>"
      ]
     },
     "metadata": {
      "needs_background": "light"
     },
     "output_type": "display_data"
    }
   ],
   "source": [
    "ABC_train_test2.training_GAN_skip_connection(disc3,gen3,disc_opt,gen_opt,train_data,batch_size,n_epochs,criterion,prior_model,variance,bias,device)"
   ]
  },
  {
   "cell_type": "code",
   "execution_count": 21,
   "id": "c5e0717b",
   "metadata": {
    "execution": {
     "iopub.execute_input": "2022-07-22T16:10:45.632421Z",
     "iopub.status.busy": "2022-07-22T16:10:45.632123Z",
     "iopub.status.idle": "2022-07-22T16:10:49.212323Z",
     "shell.execute_reply": "2022-07-22T16:10:49.211487Z"
    },
    "id": "c5e0717b",
    "papermill": {
     "duration": 3.64898,
     "end_time": "2022-07-22T16:10:49.214681",
     "exception": false,
     "start_time": "2022-07-22T16:10:45.565701",
     "status": "completed"
    },
    "tags": []
   },
   "outputs": [
    {
     "data": {
      "application/scrapbook.scrap.json+json": {
       "data": 6088062.823939124,
       "encoder": "json",
       "name": "ABC-GAN Model 3 MSE",
       "version": 1
      }
     },
     "metadata": {
      "scrapbook": {
       "data": true,
       "display": false,
       "name": "ABC-GAN Model 3 MSE"
      }
     },
     "output_type": "display_data"
    },
    {
     "data": {
      "application/scrapbook.scrap.json+json": {
       "data": 2303.4068145938413,
       "encoder": "json",
       "name": "ABC-GAN Model 3 MAE",
       "version": 1
      }
     },
     "metadata": {
      "scrapbook": {
       "data": true,
       "display": false,
       "name": "ABC-GAN Model 3 MAE"
      }
     },
     "output_type": "display_data"
    },
    {
     "data": {
      "application/scrapbook.scrap.json+json": {
       "data": 234947.49508857183,
       "encoder": "json",
       "name": "ABC-GAN Model 3 Manhattan Distance",
       "version": 1
      }
     },
     "metadata": {
      "scrapbook": {
       "data": true,
       "display": false,
       "name": "ABC-GAN Model 3 Manhattan Distance"
      }
     },
     "output_type": "display_data"
    },
    {
     "data": {
      "application/scrapbook.scrap.json+json": {
       "data": 24919.518014432088,
       "encoder": "json",
       "name": "ABC-GAN Model 3 Euclidean distance",
       "version": 1
      }
     },
     "metadata": {
      "scrapbook": {
       "data": true,
       "display": false,
       "name": "ABC-GAN Model 3 Euclidean distance"
      }
     },
     "output_type": "display_data"
    },
    {
     "data": {
      "application/scrapbook.scrap.json+json": {
       "data": [
        [
         6085225.262141301,
         6093066.101268582,
         6088393.402888439,
         6089510.524726128,
         6091930.678317914,
         6087681.836144113,
         6090509.338683116,
         6086729.00372094,
         6089563.789419078,
         6085443.690344151,
         6086100.2759358715,
         6088474.747802197,
         6083684.164483908,
         6085618.564499245,
         6086938.771842985,
         6082653.445063063,
         6086449.746957577,
         6090098.636942534,
         6088026.996537026,
         6090778.670678349,
         6084686.035306669,
         6085127.326279447,
         6090097.296781261,
         6086480.365438636,
         6092143.692346171,
         6087843.710720631,
         6086861.330282614,
         6090909.00914866,
         6083919.329369035,
         6092149.505036711,
         6089344.7309658555,
         6086699.40212431,
         6089360.676646936,
         6088713.8089831155,
         6087818.166876743,
         6088196.2605924755,
         6088827.934731746,
         6088663.320793532,
         6089942.393110458,
         6089518.020983136,
         6088700.55794676,
         6093319.685772323,
         6088058.817322396,
         6092328.493326254,
         6088317.754582764,
         6094015.15130418,
         6089445.497545819,
         6088819.774629383,
         6087240.613623991,
         6086265.865184448,
         6089406.150495592,
         6092316.620804288,
         6086532.408030294,
         6084355.352601349,
         6095730.727365336,
         6089077.043447036,
         6091715.239972318,
         6086075.712662012,
         6085187.049872718,
         6087730.198320237,
         6091362.960549699,
         6086748.257263946,
         6085499.184271988,
         6085917.324719432,
         6090665.520423915,
         6086358.241669362,
         6087167.563284075,
         6088629.023454894,
         6084890.901190587,
         6084377.872194816,
         6086377.548547995,
         6088167.916565624,
         6091759.430186186,
         6087963.156041165,
         6089890.189857328,
         6089846.566380726,
         6085314.808278266,
         6092085.84419709,
         6084706.033216283,
         6085703.539875353,
         6090416.675266388,
         6086974.491630715,
         6082836.32829633,
         6083536.240231775,
         6082395.523495627,
         6088783.60428001,
         6087369.598983493,
         6087289.52629397,
         6086737.006989109,
         6086135.724360621,
         6086654.340324664,
         6088386.380248866,
         6082873.737317527,
         6089156.308771281,
         6091724.822139587,
         6088557.824499768,
         6087529.577249783,
         6087496.869077517,
         6090332.182871606,
         6088845.069690852
        ],
        [
         2302.9190329210833,
         2304.0115177879547,
         2303.326041073465,
         2303.6067601573636,
         2303.9726391414033,
         2303.1249326271572,
         2303.8180011875893,
         2303.2405068842036,
         2303.67965528221,
         2303.1253042235494,
         2302.8802755968645,
         2303.537645322709,
         2302.5792570876542,
         2302.918265344155,
         2303.121583023766,
         2302.322821618569,
         2302.9030518826717,
         2303.8653091183296,
         2303.6694257601034,
         2303.682757902653,
         2302.765837970007,
         2302.8304716573443,
         2303.8806799547747,
         2303.5263333241546,
         2304.2740647012515,
         2303.2905666328347,
         2303.3583615822354,
         2304.009437057591,
         2302.64399220106,
         2304.303826370934,
         2303.5221148673627,
         2303.073642152471,
         2303.5475366083247,
         2303.6697636974027,
         2303.2777413214358,
         2303.4556909650382,
         2303.7074804320455,
         2303.283567336534,
         2303.968590625635,
         2303.857421670748,
         2303.546654291287,
         2304.1548724656413,
         2303.6834832935174,
         2304.2090081061037,
         2303.1307918525613,
         2304.6910939885524,
         2303.5957252105477,
         2303.5094360104194,
         2303.3661612169817,
         2302.933454122303,
         2303.768705275987,
         2304.4031684179336,
         2303.0917009293266,
         2302.641087645683,
         2304.6472257179776,
         2303.4593092427936,
         2303.866293908608,
         2303.3093976240934,
         2302.822833735843,
         2303.6563302783807,
         2303.9737232634066,
         2303.1726977231856,
         2302.9672854007863,
         2302.9476729201738,
         2303.782636550401,
         2303.2433952832157,
         2303.1445706886807,
         2303.405486557103,
         2302.817418660877,
         2302.8592433008894,
         2303.0615583883014,
         2303.4955994302554,
         2304.074158258572,
         2303.5506558339202,
         2303.5983121736776,
         2303.467434996757,
         2303.0996194928703,
         2304.2033936197085,
         2302.7165465462845,
         2303.0591129429604,
         2304.119619576644,
         2303.3996508182668,
         2302.600862934583,
         2302.3661034729366,
         2302.325767312838,
         2303.4999722700895,
         2303.277073674616,
         2303.39146761945,
         2302.9375973323213,
         2303.196959496987,
         2303.1826087554696,
         2303.640808948389,
         2302.5219820261404,
         2303.368623417072,
         2304.018540720419,
         2303.303985391451,
         2303.436997302881,
         2303.498698161203,
         2303.494998952027,
         2303.4199807611567
        ],
        [
         234897.7413579505,
         235009.1748143714,
         234939.25618949346,
         234967.88953605108,
         235005.20919242315,
         234918.74312797002,
         234989.4361211341,
         234930.53170218877,
         234975.32483878545,
         234918.78103080206,
         234893.78811088018,
         234960.8398229163,
         234863.08422294073,
         234897.6630651038,
         234918.40146842413,
         234836.92780509405,
         234896.11129203252,
         234994.26153006963,
         234974.28142753057,
         234975.6413060706,
         234882.11547294073,
         234888.70810904913,
         234995.82935538702,
         234959.68599906377,
         235035.95459952764,
         234935.63779654913,
         234942.552881388,
         235008.96257987432,
         234869.6872045081,
         235038.99028983526,
         234959.255716471,
         234913.51149955206,
         234961.84873404913,
         234974.31589713506,
         234934.32961478643,
         234952.4804784339,
         234978.16300406866,
         234934.92386832647,
         235004.79624381475,
         234993.4570104163,
         234961.75873771124,
         235023.79699149542,
         234975.71529593877,
         235029.31882682256,
         234919.34076896124,
         235078.49158683233,
         234966.76397147588,
         234957.9624730628,
         234943.34844413213,
         234899.2123204749,
         234984.4079381507,
         235049.1231786292,
         234915.3534947913,
         234869.39093985967,
         235074.0170232337,
         234952.84954276495,
         234994.36197867803,
         234937.55855765752,
         234887.92904105596,
         234972.94568839483,
         235005.3197728675,
         234923.61516776495,
         234902.66311088018,
         234900.66263785772,
         234985.82892814092,
         234930.826318888,
         234920.74621024542,
         234947.35962882452,
         234887.37670340948,
         234891.64281669073,
         234912.27895560674,
         234956.55114188604,
         235015.56414237432,
         234962.16689505987,
         234967.02784171514,
         234953.67836966924,
         234916.16118827276,
         235028.74614921026,
         234877.087747721,
         234912.02952018194,
         235020.20119681768,
         234946.7643834632,
         234865.28801932745,
         234841.34255423956,
         234837.22826590948,
         234956.99717154913,
         234934.26151481085,
         234945.9296971839,
         234899.63492789678,
         234926.08986869268,
         234924.62609305792,
         234971.36251273565,
         234857.2421666663,
         234943.5995885413,
         235009.89115348272,
         234937.00650992803,
         234950.57372489385,
         234956.86721244268,
         234956.48989310674,
         234948.838037638
        ],
        [
         24913.710617618017,
         24929.75616265421,
         24920.19516566073,
         24922.48128742531,
         24927.4332651484,
         24918.73887833611,
         24924.52512176867,
         24916.788685132276,
         24922.59028513582,
         24914.157750465965,
         24915.501763871,
         24920.361640149287,
         24910.55568985482,
         24914.515720337073,
         24917.21803749336,
         24908.44538297066,
         24916.21709228094,
         24923.68473898148,
         24919.445291714994,
         24925.076216717807,
         24912.606760459257,
         24913.51013567746,
         24923.681996681164,
         24916.279763936287,
         24927.8690749793,
         24919.07017714554,
         24917.05953134973,
         24925.342905026668,
         24911.037144118294,
         24927.88096717699,
         24922.1420138502,
         24916.728096134124,
         24922.17464464101,
         24920.850878657366,
         24919.017898413007,
         24919.791704194326,
         24921.084433520107,
         24920.747555419366,
         24923.365023553037,
         24922.496627350156,
         24920.82376067392,
         24930.274927260165,
         24919.51041587464,
         24928.24715697591,
         24920.04034843126,
         24931.697604315406,
         24922.348219011652,
         24921.06773419223,
         24917.835832785462,
         24915.840709251886,
         24922.267700804245,
         24928.222867305198,
         24916.386287322843,
         24911.929792076276,
         24935.206720443777,
         24921.594219303017,
         24926.99248760621,
         24915.451484802066,
         24913.632394474655,
         24918.837858709703,
         24926.271722342863,
         24916.828093497825,
         24914.271347878966,
         24915.127274838112,
         24924.8446952682,
         24916.029793092537,
         24917.686318255463,
         24920.677366243457,
         24913.026149415084,
         24911.97589441414,
         24916.06931182957,
         24919.733696203362,
         24927.082899508936,
         24919.31463576393,
         24923.258201235403,
         24923.16893516621,
         24913.89392376035,
         24927.750723001525,
         24912.64769927237,
         24914.689664278107,
         24924.335515258404,
         24917.29114784215,
         24908.819833268408,
         24910.252839014727,
         24907.91728339714,
         24920.993712863074,
         24918.099829166673,
         24917.935943452158,
         24916.80506631798,
         24915.574323799632,
         24916.635862674466,
         24920.18079359346,
         24908.89642690715,
         24921.75642876462,
         24927.01209247185,
         24920.531657630745,
         24918.42725533612,
         24918.360312145476,
         24924.162626914946,
         24921.119499502165
        ]
       ],
       "encoder": "json",
       "name": "ABC_GAN_3 Metrics",
       "version": 1
      }
     },
     "metadata": {
      "scrapbook": {
       "data": true,
       "display": false,
       "name": "ABC_GAN_3 Metrics"
      }
     },
     "output_type": "display_data"
    },
    {
     "name": "stdout",
     "output_type": "stream",
     "text": [
      "MAE\n",
      "2303.4068145938413\n"
     ]
    }
   ],
   "source": [
    "ABC_GAN3_metrics=ABC_train_test2.test_generator(gen3,test_data,prior_model,variance,bias,\"3\",device)\n",
    "sb.glue(\"ABC_GAN_3 Metrics\",ABC_GAN3_metrics)\n",
    "\n",
    "print(\"MAE\")\n",
    "print(mean(ABC_GAN3_metrics[1]))"
   ]
  },
  {
   "cell_type": "code",
   "execution_count": 22,
   "id": "c8e46b48",
   "metadata": {
    "execution": {
     "iopub.execute_input": "2022-07-22T16:10:49.328683Z",
     "iopub.status.busy": "2022-07-22T16:10:49.328249Z",
     "iopub.status.idle": "2022-07-22T16:10:50.164371Z",
     "shell.execute_reply": "2022-07-22T16:10:50.163304Z"
    },
    "id": "c8e46b48",
    "papermill": {
     "duration": 0.898158,
     "end_time": "2022-07-22T16:10:50.166758",
     "exception": false,
     "start_time": "2022-07-22T16:10:49.268600",
     "status": "completed"
    },
    "tags": []
   },
   "outputs": [
    {
     "data": {
      "image/png": "[encoded data removed]",
      "text/plain": [
       "<Figure size 432x288 with 1 Axes>"
      ]
     },
     "metadata": {
      "needs_background": "light"
     },
     "output_type": "display_data"
    },
    {
     "data": {
      "image/png": "[encoded data removed]",
      "text/plain": [
       "<Figure size 432x288 with 1 Axes>"
      ]
     },
     "metadata": {
      "needs_background": "light"
     },
     "output_type": "display_data"
    },
    {
     "data": {
      "image/png": "[encoded data removed]",
      "text/plain": [
       "<Figure size 432x288 with 1 Axes>"
      ]
     },
     "metadata": {
      "needs_background": "light"
     },
     "output_type": "display_data"
    },
    {
     "data": {
      "image/png": "[encoded data removed]",
      "text/plain": [
       "<Figure size 432x288 with 1 Axes>"
      ]
     },
     "metadata": {
      "needs_background": "light"
     },
     "output_type": "display_data"
    }
   ],
   "source": [
    "sanityChecks.discProbVsError(train_data,disc3,device)\n",
    "sanityChecks.discProbVsError(test_data,disc3,device)"
   ]
  },
  {
   "cell_type": "markdown",
   "id": "8e6b045f",
   "metadata": {
    "id": "130f3a4d",
    "papermill": {
     "duration": 0.081805,
     "end_time": "2022-07-22T16:10:50.318860",
     "exception": false,
     "start_time": "2022-07-22T16:10:50.237055",
     "status": "completed"
    },
    "tags": []
   },
   "source": [
    "# skipGAN Model with TabNet Generator"
   ]
  },
  {
   "cell_type": "code",
   "execution_count": 23,
   "id": "4ba3a8d4",
   "metadata": {
    "execution": {
     "iopub.execute_input": "2022-07-22T16:10:50.450706Z",
     "iopub.status.busy": "2022-07-22T16:10:50.450272Z",
     "iopub.status.idle": "2022-07-22T16:10:50.470525Z",
     "shell.execute_reply": "2022-07-22T16:10:50.469474Z"
    },
    "id": "4e43dad1",
    "papermill": {
     "duration": 0.089276,
     "end_time": "2022-07-22T16:10:50.473162",
     "exception": false,
     "start_time": "2022-07-22T16:10:50.383886",
     "status": "completed"
    },
    "tags": []
   },
   "outputs": [],
   "source": [
    "#Generator\n",
    "gen4 = network.GeneratorTabnetskipConnection(n_features+1).to(device)\n",
    "constraints=network.weightConstraint()\n",
    "#Discriminator \n",
    "disc4 = network.Discriminator(n_features+1).to(device)\n",
    "\n",
    "criterion = torch.nn.BCELoss()\n",
    "gen_opt = torch.optim.Adam(gen4.parameters(), lr=0.01, betas=(0.5, 0.999))\n",
    "disc_opt = torch.optim.Adam(disc4.parameters(), lr=0.01, betas=(0.5, 0.999))\n"
   ]
  },
  {
   "cell_type": "code",
   "execution_count": 24,
   "id": "8f73d4e3",
   "metadata": {
    "execution": {
     "iopub.execute_input": "2022-07-22T16:10:50.607280Z",
     "iopub.status.busy": "2022-07-22T16:10:50.606639Z",
     "iopub.status.idle": "2022-07-22T16:23:38.925211Z",
     "shell.execute_reply": "2022-07-22T16:23:38.923762Z"
    },
    "id": "26acbc37",
    "papermill": {
     "duration": 768.390608,
     "end_time": "2022-07-22T16:23:38.928679",
     "exception": false,
     "start_time": "2022-07-22T16:10:50.538071",
     "status": "completed"
    },
    "tags": []
   },
   "outputs": [
    {
     "data": {
      "image/png": "[encoded data removed]",
      "text/plain": [
       "<Figure size 432x288 with 1 Axes>"
      ]
     },
     "metadata": {
      "needs_background": "light"
     },
     "output_type": "display_data"
    },
    {
     "data": {
      "image/png": "[encoded data removed]",
      "text/plain": [
       "<Figure size 432x288 with 1 Axes>"
      ]
     },
     "metadata": {
      "needs_background": "light"
     },
     "output_type": "display_data"
    }
   ],
   "source": [
    "ABC_train_test2.training_GAN_skip_connection(disc4,gen4,disc_opt,gen_opt,train_data,batch_size,n_epochs,criterion,prior_model,variance,bias,device)"
   ]
  },
  {
   "cell_type": "code",
   "execution_count": 25,
   "id": "9e9515a3",
   "metadata": {
    "execution": {
     "iopub.execute_input": "2022-07-22T16:23:39.089896Z",
     "iopub.status.busy": "2022-07-22T16:23:39.089420Z",
     "iopub.status.idle": "2022-07-22T16:23:43.819748Z",
     "shell.execute_reply": "2022-07-22T16:23:43.819147Z"
    },
    "id": "c5e0717b",
    "papermill": {
     "duration": 4.822321,
     "end_time": "2022-07-22T16:23:43.821951",
     "exception": false,
     "start_time": "2022-07-22T16:23:38.999630",
     "status": "completed"
    },
    "tags": []
   },
   "outputs": [
    {
     "data": {
      "application/scrapbook.scrap.json+json": {
       "data": 0.12266643958416851,
       "encoder": "json",
       "name": "ABC-GAN Model 3 MSE",
       "version": 1
      }
     },
     "metadata": {
      "scrapbook": {
       "data": true,
       "display": false,
       "name": "ABC-GAN Model 3 MSE"
      }
     },
     "output_type": "display_data"
    },
    {
     "data": {
      "application/scrapbook.scrap.json+json": {
       "data": 0.2628174476937263,
       "encoder": "json",
       "name": "ABC-GAN Model 3 MAE",
       "version": 1
      }
     },
     "metadata": {
      "scrapbook": {
       "data": true,
       "display": false,
       "name": "ABC-GAN Model 3 MAE"
      }
     },
     "output_type": "display_data"
    },
    {
     "data": {
      "application/scrapbook.scrap.json+json": {
       "data": 26.807379664760084,
       "encoder": "json",
       "name": "ABC-GAN Model 3 Manhattan Distance",
       "version": 1
      }
     },
     "metadata": {
      "scrapbook": {
       "data": true,
       "display": false,
       "name": "ABC-GAN Model 3 Manhattan Distance"
      }
     },
     "output_type": "display_data"
    },
    {
     "data": {
      "application/scrapbook.scrap.json+json": {
       "data": 3.537212161642648,
       "encoder": "json",
       "name": "ABC-GAN Model 3 Euclidean distance",
       "version": 1
      }
     },
     "metadata": {
      "scrapbook": {
       "data": true,
       "display": false,
       "name": "ABC-GAN Model 3 Euclidean distance"
      }
     },
     "output_type": "display_data"
    },
    {
     "data": {
      "application/scrapbook.scrap.json+json": {
       "data": [
        [
         0.12227215462895694,
         0.12247314731620479,
         0.12266773966093528,
         0.12412164051748531,
         0.12229289849585272,
         0.12244935018304381,
         0.12175398167377993,
         0.1223903515839362,
         0.12297825335730116,
         0.12352927308506699,
         0.12273572819731716,
         0.1225098374638583,
         0.12323889793264942,
         0.12199221036864671,
         0.12319966641683414,
         0.12187660075466193,
         0.12230370026731982,
         0.12231460207987661,
         0.12286099891948775,
         0.12277009363165955,
         0.12354358043493978,
         0.12350404251783495,
         0.12272133847475312,
         0.12314837729747122,
         0.12268968416800118,
         0.12174777639735589,
         0.121859659639524,
         0.12193702905429372,
         0.12309579064038986,
         0.1222096529784896,
         0.1230969355467107,
         0.1235154278904077,
         0.12281826032795017,
         0.1223452914434465,
         0.12275799757370331,
         0.12269152264545674,
         0.12226439699224087,
         0.12263644741506928,
         0.12199160362405646,
         0.1219914497249731,
         0.12317284142550697,
         0.12352286969781684,
         0.12277102736831014,
         0.12183295921764875,
         0.12327544062861659,
         0.12378556941794953,
         0.12075673088229437,
         0.12222914842379826,
         0.12430491258967476,
         0.12335228498886323,
         0.12249741078301499,
         0.1246004934003908,
         0.12412125623197975,
         0.12185681288396392,
         0.1224406142357024,
         0.12220003225607955,
         0.1228926495561514,
         0.12251060860915669,
         0.12215124465917016,
         0.1239781995033308,
         0.122780333367149,
         0.12269018638358527,
         0.12258127004809473,
         0.12209359287320844,
         0.12207674694063216,
         0.12319263407425787,
         0.12352405448116505,
         0.12275597964809193,
         0.12231764505518826,
         0.1219685578384039,
         0.12219600805916873,
         0.12140823727225553,
         0.12279428676196026,
         0.12329207884056749,
         0.12358810199238951,
         0.12216982919090322,
         0.12188757469619844,
         0.1223306510685287,
         0.12255028456767032,
         0.1226324082768647,
         0.12209851393348775,
         0.1224513725227063,
         0.12282546404166132,
         0.12207632859100916,
         0.12373051838060965,
         0.12216088652040302,
         0.12237342211855,
         0.12186627505782713,
         0.12398974564736544,
         0.12201927973223119,
         0.12477365238698394,
         0.12287905713446605,
         0.12217190439832297,
         0.12303963786451255,
         0.1222022519224724,
         0.12333152703877273,
         0.12287557080668214,
         0.12121094938548838,
         0.12187607172621347,
         0.12231056968943849
        ],
        [
         0.26247363051801337,
         0.261490317664164,
         0.2614240783504119,
         0.2647024034979005,
         0.262394761703178,
         0.2639474534776573,
         0.26152523813367473,
         0.2630013230567177,
         0.26348691271143215,
         0.26527569846560556,
         0.2628572995537052,
         0.2628317317541908,
         0.26353047340743097,
         0.26217784292484614,
         0.2629206746487933,
         0.2607762096084508,
         0.26195571476630136,
         0.26356318269801493,
         0.2630600699168794,
         0.262488576400952,
         0.2642756880754057,
         0.2643341702756052,
         0.26201571807192237,
         0.26290251999436054,
         0.2629197087029324,
         0.2607897510934694,
         0.26319820512378334,
         0.26133401217121704,
         0.2628470586393686,
         0.2625149794142036,
         0.2633758509239438,
         0.2640713561216698,
         0.26355732542773086,
         0.2638569571370003,
         0.2641230705468094,
         0.26302091397491156,
         0.26265611159889135,
         0.2619406828729838,
         0.26263819757264617,
         0.2618227471214007,
         0.26234154664345233,
         0.26536378556606816,
         0.26295164030264406,
         0.26176458792578355,
         0.26429036686963897,
         0.26302625368550125,
         0.2602530510036969,
         0.2623867051785483,
         0.2647529768702738,
         0.26480418237327946,
         0.2622875538015482,
         0.26471543706515255,
         0.26604102431413007,
         0.261113940939015,
         0.26209663218069895,
         0.2617509939579987,
         0.26396103835135115,
         0.26204382684812244,
         0.26190326065190284,
         0.2645698415078953,
         0.2643916893239115,
         0.26327506880111556,
         0.26234234783652366,
         0.26292242931530757,
         0.26145252344362874,
         0.2636453567401451,
         0.2634335524201685,
         0.2616696282490796,
         0.2638523237524079,
         0.26142920424029525,
         0.26215480719053863,
         0.26101695331653546,
         0.26200071875663367,
         0.2640327465921348,
         0.2647367218947586,
         0.2624668765301798,
         0.2617372471072218,
         0.2625007787171532,
         0.2619827033988401,
         0.2611443787338395,
         0.26059721539929215,
         0.26204979341184975,
         0.26336211904737294,
         0.26146625586803635,
         0.2655592272423354,
         0.26132682334704727,
         0.26272045824603707,
         0.2618396846467958,
         0.2655827624212001,
         0.26188535420406683,
         0.26598751554083006,
         0.26273440730338005,
         0.26108092792770443,
         0.2615336365267342,
         0.2629016909711793,
         0.26371263000456724,
         0.26441746650665415,
         0.26064796144982766,
         0.26052107000906094,
         0.26313244878296177
        ],
        [
         26.772310312837362,
         26.672012401744723,
         26.665255991742015,
         26.999645156785846,
         26.764265693724155,
         26.922640254721045,
         26.675574289634824,
         26.826134951785207,
         26.87566509656608,
         27.05812124349177,
         26.81144455447793,
         26.80883663892746,
         26.88010828755796,
         26.742139978334308,
         26.817908814176917,
         26.599173380061984,
         26.71948290616274,
         26.88344463519752,
         26.832127131521702,
         26.773834792897105,
         26.956120183691382,
         26.96208536811173,
         26.72560324333608,
         26.816057039424777,
         26.817810287699103,
         26.60055461153388,
         26.8462169226259,
         26.656069241464138,
         26.810399981215596,
         26.776527900248766,
         26.864336794242263,
         26.93527832441032,
         26.88284719362855,
         26.913409627974033,
         26.940553195774555,
         26.82813322544098,
         26.79092338308692,
         26.717949653044343,
         26.78909615240991,
         26.70592020638287,
         26.758837757632136,
         27.067106127738953,
         26.821067310869694,
         26.699987968429923,
         26.957617420703173,
         26.82867787592113,
         26.54581120237708,
         26.763443928211927,
         27.004803640767932,
         27.010026602074504,
         26.75333048775792,
         27.00097458064556,
         27.136184480041265,
         26.633621975779533,
         26.733856482431293,
         26.698601383715868,
         26.924025911837816,
         26.728470338508487,
         26.714132586494088,
         26.986123833805323,
         26.96795231103897,
         26.854057017713785,
         26.758919479325414,
         26.81808779016137,
         26.668157391250134,
         26.891826387494802,
         26.87022234685719,
         26.690302081406116,
         26.91293702274561,
         26.665778832510114,
         26.73979033343494,
         26.623729238286614,
         26.724073313176632,
         26.931340152397752,
         27.003145633265376,
         26.77162140607834,
         26.697199204936624,
         26.775079429149628,
         26.72223574668169,
         26.636726630851626,
         26.5809159707278,
         26.729078928008676,
         26.86293614283204,
         26.66955809853971,
         27.08704117871821,
         26.65533598139882,
         26.79748674109578,
         26.70764783397317,
         27.08944176696241,
         26.712306128814816,
         27.130726585164666,
         26.798909544944763,
         26.63025464862585,
         26.67643092572689,
         26.815972479060292,
         26.89868826046586,
         26.970581583678722,
         26.58609206788242,
         26.573149140924215,
         26.839509775862098
        ],
        [
         3.5315378763583447,
         3.5344392803177263,
         3.5372460255706546,
         3.558146614852107,
         3.5318374320708723,
         3.5340958841930794,
         3.524046840030017,
         3.5332443818056922,
         3.5417201812741665,
         3.5496458773625332,
         3.53822614824524,
         3.5349686591699148,
         3.54547141987215,
         3.527492800503208,
         3.5449070473733273,
         3.5258209366012214,
         3.531993407024795,
         3.53215081956411,
         3.5400313402267707,
         3.538721457027845,
         3.549851434125639,
         3.549283355385868,
         3.5380187286707256,
         3.5441690823579597,
         3.537562407242609,
         3.523957036135699,
         3.5255758796587324,
         3.526694906500697,
         3.543412288362697,
         3.530635155861611,
         3.5434287668534403,
         3.5494469491487806,
         3.5394155666509284,
         3.532593909187913,
         3.538547124529747,
         3.5375889119337454,
         3.5314258442176816,
         3.536794825309642,
         3.527484028263453,
         3.5274818032056885,
         3.5445210995847813,
         3.5495538746689443,
         3.5387349140007127,
         3.5251896176234516,
         3.5459970310363897,
         3.5533263402945208,
         3.5095849540927238,
         3.5309167562019095,
         3.5607725403550874,
         3.5471020663161146,
         3.5347893713582885,
         3.5650035521496837,
         3.558141106766556,
         3.5255346990441487,
         3.5339698148175573,
         3.5304961818588776,
         3.5404872905756126,
         3.5349797846853352,
         3.529791347266203,
         3.556090036731317,
         3.538869028863487,
         3.5375696475300233,
         3.5359990872320175,
         3.528958270236028,
         3.5287148068304526,
         3.5448058727628937,
         3.5495708975985867,
         3.538518040664111,
         3.532194756186188,
         3.527150818935475,
         3.530438049596,
         3.5190396703887927,
         3.5390701108794023,
         3.54623632062753,
         3.5504910087512864,
         3.530059854658576,
         3.525979667980551,
         3.5323825400131743,
         3.5355521529037546,
         3.536736581121104,
         3.5290293879784778,
         3.534125068148557,
         3.539519364581787,
         3.52870876047924,
         3.5525361187216924,
         3.5299306544295037,
         3.5330000079383095,
         3.525671575161017,
         3.5562556229876487,
         3.5278841438867543,
         3.5674798588740995,
         3.5402914890889337,
         3.5300898357731554,
         3.542603994546989,
         3.530528246040837,
         3.546803597318974,
         3.5402412661118983,
         3.516179295388649,
         3.5258132843464325,
         3.53209259622716
        ]
       ],
       "encoder": "json",
       "name": "ABC_GAN_4 Metrics",
       "version": 1
      }
     },
     "metadata": {
      "scrapbook": {
       "data": true,
       "display": false,
       "name": "ABC_GAN_4 Metrics"
      }
     },
     "output_type": "display_data"
    },
    {
     "name": "stdout",
     "output_type": "stream",
     "text": [
      "MAE\n",
      "0.2628174476937263\n"
     ]
    }
   ],
   "source": [
    "ABC_GAN4_metrics=ABC_train_test2.test_generator(gen4,test_data,prior_model,variance,bias,\"3\",device)\n",
    "sb.glue(\"ABC_GAN_4 Metrics\",ABC_GAN4_metrics)\n",
    "\n",
    "print(\"MAE\")\n",
    "print(mean(ABC_GAN4_metrics[1]))"
   ]
  },
  {
   "cell_type": "code",
   "execution_count": 26,
   "id": "cd9143aa",
   "metadata": {
    "execution": {
     "iopub.execute_input": "2022-07-22T16:23:43.947083Z",
     "iopub.status.busy": "2022-07-22T16:23:43.946760Z",
     "iopub.status.idle": "2022-07-22T16:23:44.966382Z",
     "shell.execute_reply": "2022-07-22T16:23:44.965559Z"
    },
    "id": "c8e46b48",
    "papermill": {
     "duration": 1.090085,
     "end_time": "2022-07-22T16:23:44.968706",
     "exception": false,
     "start_time": "2022-07-22T16:23:43.878621",
     "status": "completed"
    },
    "tags": []
   },
   "outputs": [
    {
     "data": {
      "image/png": "[encoded data removed]",
      "text/plain": [
       "<Figure size 432x288 with 1 Axes>"
      ]
     },
     "metadata": {
      "needs_background": "light"
     },
     "output_type": "display_data"
    },
    {
     "data": {
      "image/png": "[encoded data removed]",
      "text/plain": [
       "<Figure size 432x288 with 1 Axes>"
      ]
     },
     "metadata": {
      "needs_background": "light"
     },
     "output_type": "display_data"
    },
    {
     "data": {
      "image/png": "[encoded data removed]",
      "text/plain": [
       "<Figure size 432x288 with 1 Axes>"
      ]
     },
     "metadata": {
      "needs_background": "light"
     },
     "output_type": "display_data"
    },
    {
     "data": {
      "image/png": "[encoded data removed]",
      "text/plain": [
       "<Figure size 432x288 with 1 Axes>"
      ]
     },
     "metadata": {
      "needs_background": "light"
     },
     "output_type": "display_data"
    }
   ],
   "source": [
    "sanityChecks.discProbVsError(train_data,disc4,device)\n",
    "sanityChecks.discProbVsError(test_data,disc4,device)"
   ]
  },
  {
   "cell_type": "markdown",
   "id": "a5bd74c3",
   "metadata": {
    "id": "a5bd74c3",
    "papermill": {
     "duration": 0.183555,
     "end_time": "2022-07-22T16:23:45.236622",
     "exception": false,
     "start_time": "2022-07-22T16:23:45.053067",
     "status": "completed"
    },
    "tags": []
   },
   "source": [
    "## Skip Connection Model Analysis - ABC-GAN "
   ]
  },
  {
   "cell_type": "markdown",
   "id": "5744a8bf",
   "metadata": {
    "id": "5744a8bf",
    "papermill": {
     "duration": 0.625482,
     "end_time": "2022-07-22T16:23:45.972856",
     "exception": false,
     "start_time": "2022-07-22T16:23:45.347374",
     "status": "completed"
    },
    "tags": []
   },
   "source": [
    "### Weight Analysis \n",
    "\n",
    "Study the weights of the skip connection layer\n",
    "\n",
    "Equation of the skip connection is \n",
    "\n",
    "$output = y_{gan} * w + y_{abc} * (1-w)$"
   ]
  },
  {
   "cell_type": "code",
   "execution_count": 27,
   "id": "52c31dea",
   "metadata": {
    "execution": {
     "iopub.execute_input": "2022-07-22T16:23:47.205967Z",
     "iopub.status.busy": "2022-07-22T16:23:47.205321Z",
     "iopub.status.idle": "2022-07-22T16:23:47.238266Z",
     "shell.execute_reply": "2022-07-22T16:23:47.237077Z"
    },
    "id": "52c31dea",
    "papermill": {
     "duration": 0.594251,
     "end_time": "2022-07-22T16:23:47.260145",
     "exception": false,
     "start_time": "2022-07-22T16:23:46.665894",
     "status": "completed"
    },
    "tags": []
   },
   "outputs": [
    {
     "name": "stdout",
     "output_type": "stream",
     "text": [
      "Weight of the node at skip connection\n",
      "Parameter containing:\n",
      "tensor([[0.1503]], requires_grad=True)\n"
     ]
    },
    {
     "data": {
      "application/scrapbook.scrap.json+json": {
       "data": 0.15026207268238068,
       "encoder": "json",
       "name": "Skip Connection Weight",
       "version": 1
      }
     },
     "metadata": {
      "scrapbook": {
       "data": true,
       "display": false,
       "name": "Skip Connection Weight"
      }
     },
     "output_type": "display_data"
    }
   ],
   "source": [
    "print(\"Weight of the node at skip connection\")\n",
    "for name,param in gen3.named_parameters():\n",
    "    if(name == \"skipNode.weight\"):\n",
    "        print(param)\n",
    "        sb.glue(\"Skip Connection Weight\",param.item())"
   ]
  },
  {
   "cell_type": "markdown",
   "id": "485b223a",
   "metadata": {
    "id": "a5bd74c3",
    "papermill": {
     "duration": 0.374666,
     "end_time": "2022-07-22T16:23:47.937101",
     "exception": false,
     "start_time": "2022-07-22T16:23:47.562435",
     "status": "completed"
    },
    "tags": []
   },
   "source": [
    "## skipGAN Model Analysis (TabNet Generator) "
   ]
  },
  {
   "cell_type": "markdown",
   "id": "87135954",
   "metadata": {
    "id": "5744a8bf",
    "papermill": {
     "duration": 0.262513,
     "end_time": "2022-07-22T16:23:48.374648",
     "exception": false,
     "start_time": "2022-07-22T16:23:48.112135",
     "status": "completed"
    },
    "tags": []
   },
   "source": [
    "### Weight Analysis \n",
    "\n",
    "Study the weights of the skip connection layer\n",
    "\n",
    "Equation of the skip connection is \n",
    "\n",
    "$output = y_{gan} * w + y_{abc} * (1-w)$"
   ]
  },
  {
   "cell_type": "code",
   "execution_count": 28,
   "id": "a68b0a3a",
   "metadata": {
    "execution": {
     "iopub.execute_input": "2022-07-22T16:23:48.673115Z",
     "iopub.status.busy": "2022-07-22T16:23:48.671971Z",
     "iopub.status.idle": "2022-07-22T16:23:48.701748Z",
     "shell.execute_reply": "2022-07-22T16:23:48.700165Z"
    },
    "id": "52c31dea",
    "papermill": {
     "duration": 0.243406,
     "end_time": "2022-07-22T16:23:48.705765",
     "exception": false,
     "start_time": "2022-07-22T16:23:48.462359",
     "status": "completed"
    },
    "tags": []
   },
   "outputs": [
    {
     "name": "stdout",
     "output_type": "stream",
     "text": [
      "Weight of the node at skip connection\n",
      "Parameter containing:\n",
      "tensor([[0.3504]], requires_grad=True)\n"
     ]
    },
    {
     "data": {
      "application/scrapbook.scrap.json+json": {
       "data": 0.3503531515598297,
       "encoder": "json",
       "name": "Skip Connection Weight",
       "version": 1
      }
     },
     "metadata": {
      "scrapbook": {
       "data": true,
       "display": false,
       "name": "Skip Connection Weight"
      }
     },
     "output_type": "display_data"
    }
   ],
   "source": [
    "print(\"Weight of the node at skip connection\")\n",
    "for name,param in gen4.named_parameters():\n",
    "    if(name == \"skipNode.weight\"):\n",
    "        print(param)\n",
    "        sb.glue(\"Skip Connection Weight\",param.item())"
   ]
  }
 ],
 "metadata": {
  "colab": {
   "collapsed_sections": [],
   "name": "ABC_GAN_Model-Catboost_Pre-gen.ipynb",
   "provenance": []
  },
  "interpreter": {
   "hash": "31f2aee4e71d21fbe5cf8b01ff0e069b9275f58929596ceb00d14d90e3e16cd6"
  },
  "kernelspec": {
   "display_name": "Python 3 (ipykernel)",
   "language": "python",
   "name": "python3"
  },
  "language_info": {
   "codemirror_mode": {
    "name": "ipython",
    "version": 3
   },
   "file_extension": ".py",
   "mimetype": "text/x-python",
   "name": "python",
   "nbconvert_exporter": "python",
   "pygments_lexer": "ipython3",
   "version": "3.8.13"
  },
  "papermill": {
   "default_parameters": {},
   "duration": 2069.385839,
   "end_time": "2022-07-22T16:23:52.031399",
   "environment_variables": {},
   "exception": null,
   "input_path": "ABC_GAN-TabNet.ipynb",
   "output_path": "./ABC_GAN_TabNet/ABC-GAN_output_1_11.ipynb",
   "parameters": {
    "bias": 0,
    "variance": 0.01
   },
   "start_time": "2022-07-22T15:49:22.645560",
   "version": "2.3.3"
  }
 },
 "nbformat": 4,
 "nbformat_minor": 5
}