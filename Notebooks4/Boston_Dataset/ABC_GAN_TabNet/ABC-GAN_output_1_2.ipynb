{
 "cells": [
  {
   "cell_type": "markdown",
   "id": "622780e6",
   "metadata": {
    "id": "622780e6",
    "papermill": {
     "duration": 0.009848,
     "end_time": "2022-07-22T09:42:12.630615",
     "exception": false,
     "start_time": "2022-07-22T09:42:12.620767",
     "status": "completed"
    },
    "tags": []
   },
   "source": [
    "## Import Libraries "
   ]
  },
  {
   "cell_type": "code",
   "execution_count": 1,
   "id": "a62397e3",
   "metadata": {
    "execution": {
     "iopub.execute_input": "2022-07-22T09:42:12.655538Z",
     "iopub.status.busy": "2022-07-22T09:42:12.654177Z",
     "iopub.status.idle": "2022-07-22T09:42:12.669138Z",
     "shell.execute_reply": "2022-07-22T09:42:12.668180Z"
    },
    "id": "a62397e3",
    "papermill": {
     "duration": 0.047296,
     "end_time": "2022-07-22T09:42:12.685789",
     "exception": false,
     "start_time": "2022-07-22T09:42:12.638493",
     "status": "completed"
    },
    "tags": []
   },
   "outputs": [],
   "source": [
    "import warnings\n",
    "import sys\n",
    "sys.path.insert(0, '../../src')\n",
    "warnings.filterwarnings('ignore')"
   ]
  },
  {
   "cell_type": "code",
   "execution_count": 2,
   "id": "d6a4e155",
   "metadata": {
    "execution": {
     "iopub.execute_input": "2022-07-22T09:42:12.707112Z",
     "iopub.status.busy": "2022-07-22T09:42:12.706632Z",
     "iopub.status.idle": "2022-07-22T09:42:19.137120Z",
     "shell.execute_reply": "2022-07-22T09:42:19.136185Z"
    },
    "id": "d6a4e155",
    "papermill": {
     "duration": 6.445551,
     "end_time": "2022-07-22T09:42:19.139945",
     "exception": false,
     "start_time": "2022-07-22T09:42:12.694394",
     "status": "completed"
    },
    "tags": []
   },
   "outputs": [],
   "source": [
    "import ABC_train_test2\n",
    "import bostonDataset\n",
    "import network\n",
    "import dataset\n",
    "import sanityChecks\n",
    "import torch \n",
    "import scrapbook as sb\n",
    "from statistics import mean \n",
    "import catboost as ctb \n",
    "from sklearn.model_selection import train_test_split\n",
    "from sklearn.metrics import mean_squared_error,mean_absolute_error\n",
    "import numpy as np\n",
    "from pytorch_tabnet.tab_model import TabNetRegressor"
   ]
  },
  {
   "cell_type": "markdown",
   "id": "2fa5b0f7",
   "metadata": {
    "id": "2fa5b0f7",
    "papermill": {
     "duration": 0.043439,
     "end_time": "2022-07-22T09:42:19.191455",
     "exception": false,
     "start_time": "2022-07-22T09:42:19.148016",
     "status": "completed"
    },
    "tags": []
   },
   "source": [
    "## Parameters "
   ]
  },
  {
   "cell_type": "code",
   "execution_count": 3,
   "id": "783186fb",
   "metadata": {
    "execution": {
     "iopub.execute_input": "2022-07-22T09:42:19.233565Z",
     "iopub.status.busy": "2022-07-22T09:42:19.232743Z",
     "iopub.status.idle": "2022-07-22T09:42:19.239152Z",
     "shell.execute_reply": "2022-07-22T09:42:19.237902Z"
    },
    "id": "783186fb",
    "papermill": {
     "duration": 0.029466,
     "end_time": "2022-07-22T09:42:19.252642",
     "exception": false,
     "start_time": "2022-07-22T09:42:19.223176",
     "status": "completed"
    },
    "tags": [
     "parameters"
    ]
   },
   "outputs": [],
   "source": [
    "variance = 1\n",
    "bias = 1 "
   ]
  },
  {
   "cell_type": "code",
   "execution_count": 4,
   "id": "8e1d8ff6",
   "metadata": {
    "execution": {
     "iopub.execute_input": "2022-07-22T09:42:19.287134Z",
     "iopub.status.busy": "2022-07-22T09:42:19.286142Z",
     "iopub.status.idle": "2022-07-22T09:42:19.293187Z",
     "shell.execute_reply": "2022-07-22T09:42:19.291583Z"
    },
    "papermill": {
     "duration": 0.038317,
     "end_time": "2022-07-22T09:42:19.301059",
     "exception": false,
     "start_time": "2022-07-22T09:42:19.262742",
     "status": "completed"
    },
    "tags": [
     "injected-parameters"
    ]
   },
   "outputs": [],
   "source": [
    "# Parameters\n",
    "variance = 0.01\n",
    "bias = 1\n"
   ]
  },
  {
   "cell_type": "markdown",
   "id": "391cdbfd",
   "metadata": {
    "id": "391cdbfd",
    "papermill": {
     "duration": 0.031374,
     "end_time": "2022-07-22T09:42:19.339696",
     "exception": false,
     "start_time": "2022-07-22T09:42:19.308322",
     "status": "completed"
    },
    "tags": []
   },
   "source": [
    "## Dataset \n"
   ]
  },
  {
   "cell_type": "code",
   "execution_count": 5,
   "id": "5b51f161",
   "metadata": {
    "execution": {
     "iopub.execute_input": "2022-07-22T09:42:19.381034Z",
     "iopub.status.busy": "2022-07-22T09:42:19.379503Z",
     "iopub.status.idle": "2022-07-22T09:42:19.392264Z",
     "shell.execute_reply": "2022-07-22T09:42:19.389118Z"
    },
    "id": "5b51f161",
    "papermill": {
     "duration": 0.059884,
     "end_time": "2022-07-22T09:42:19.417314",
     "exception": false,
     "start_time": "2022-07-22T09:42:19.357430",
     "status": "completed"
    },
    "tags": []
   },
   "outputs": [],
   "source": [
    "#Parameters \n",
    "n_features = 13\n",
    "n_samples= 506\n",
    "n_target = 1 "
   ]
  },
  {
   "cell_type": "code",
   "execution_count": 6,
   "id": "5d6eced4",
   "metadata": {
    "execution": {
     "iopub.execute_input": "2022-07-22T09:42:19.445582Z",
     "iopub.status.busy": "2022-07-22T09:42:19.444643Z",
     "iopub.status.idle": "2022-07-22T09:42:19.484510Z",
     "shell.execute_reply": "2022-07-22T09:42:19.482486Z"
    },
    "id": "5d6eced4",
    "papermill": {
     "duration": 0.069318,
     "end_time": "2022-07-22T09:42:19.494733",
     "exception": false,
     "start_time": "2022-07-22T09:42:19.425415",
     "status": "completed"
    },
    "tags": []
   },
   "outputs": [
    {
     "name": "stdout",
     "output_type": "stream",
     "text": [
      "         X1        X2        X3        X4        X5        X6        X7  \\\n",
      "0 -0.419782  0.284830 -1.287909 -0.272599 -0.144217  0.413672 -0.120013   \n",
      "1 -0.417339 -0.487722 -0.593381 -0.272599 -0.740262  0.194274  0.367166   \n",
      "2 -0.417342 -0.487722 -0.593381 -0.272599 -0.740262  1.282714 -0.265812   \n",
      "3 -0.416750 -0.487722 -1.306878 -0.272599 -0.835284  1.016303 -0.809889   \n",
      "4 -0.412482 -0.487722 -1.306878 -0.272599 -0.835284  1.228577 -0.511180   \n",
      "\n",
      "         X8        X9       X10       X11       X12       X13         Y  \n",
      "0  0.140214 -0.982843 -0.666608 -1.459000  0.441052 -1.075562  0.159686  \n",
      "1  0.557160 -0.867883 -0.987329 -0.303094  0.441052 -0.492439 -0.101524  \n",
      "2  0.557160 -0.867883 -0.987329 -0.303094  0.396427 -1.208727  1.324247  \n",
      "3  1.077737 -0.752922 -1.106115  0.113032  0.416163 -1.361517  1.182758  \n",
      "4  1.077737 -0.752922 -1.106115  0.113032  0.441052 -1.026501  1.487503  \n"
     ]
    }
   ],
   "source": [
    "X,Y = bostonDataset.boston_data()"
   ]
  },
  {
   "cell_type": "code",
   "execution_count": 7,
   "id": "fe007438",
   "metadata": {
    "execution": {
     "iopub.execute_input": "2022-07-22T09:42:19.520380Z",
     "iopub.status.busy": "2022-07-22T09:42:19.519975Z",
     "iopub.status.idle": "2022-07-22T09:42:19.529813Z",
     "shell.execute_reply": "2022-07-22T09:42:19.527791Z"
    },
    "id": "fe007438",
    "papermill": {
     "duration": 0.054177,
     "end_time": "2022-07-22T09:42:19.556675",
     "exception": false,
     "start_time": "2022-07-22T09:42:19.502498",
     "status": "completed"
    },
    "tags": []
   },
   "outputs": [],
   "source": [
    "#Train test split for dataset \n",
    "X_train,X_test,Y_train,Y_test = train_test_split(X,Y,test_size = 0.2)\n",
    "train_data = dataset.CustomDataset(X_train,Y_train)\n",
    "test_data = dataset.CustomDataset(X_test,Y_test)\n"
   ]
  },
  {
   "cell_type": "markdown",
   "id": "a9a1af34",
   "metadata": {
    "id": "a9a1af34",
    "papermill": {
     "duration": 0.050612,
     "end_time": "2022-07-22T09:42:19.617017",
     "exception": false,
     "start_time": "2022-07-22T09:42:19.566405",
     "status": "completed"
    },
    "tags": []
   },
   "source": [
    "## Training Parameters "
   ]
  },
  {
   "cell_type": "code",
   "execution_count": 8,
   "id": "952b7fc8",
   "metadata": {
    "execution": {
     "iopub.execute_input": "2022-07-22T09:42:19.638360Z",
     "iopub.status.busy": "2022-07-22T09:42:19.637544Z",
     "iopub.status.idle": "2022-07-22T09:42:19.644135Z",
     "shell.execute_reply": "2022-07-22T09:42:19.642939Z"
    },
    "id": "952b7fc8",
    "papermill": {
     "duration": 0.027303,
     "end_time": "2022-07-22T09:42:19.652422",
     "exception": false,
     "start_time": "2022-07-22T09:42:19.625119",
     "status": "completed"
    },
    "tags": []
   },
   "outputs": [],
   "source": [
    "batch_size = 32\n",
    "n_epochs = 1000\n",
    "#Select the device \n",
    "device = torch.device('cuda' if torch.cuda.is_available() else 'cpu')"
   ]
  },
  {
   "cell_type": "markdown",
   "id": "a95e1600",
   "metadata": {
    "id": "a95e1600",
    "papermill": {
     "duration": 0.009203,
     "end_time": "2022-07-22T09:42:19.674950",
     "exception": false,
     "start_time": "2022-07-22T09:42:19.665747",
     "status": "completed"
    },
    "tags": []
   },
   "source": [
    "# ABC Pre-generator Model \n",
    "\n",
    "1. The catboost model is used as a pre-generator model for the ABC-GAN. \n",
    "2. The model is first trained on the entire dataset \n",
    "3. It generats X,Y pairs and we add some Gaussian noise with mean 0 and variance 1 to it which is then feed as input to the generator.\n"
   ]
  },
  {
   "cell_type": "code",
   "execution_count": 9,
   "id": "ff8ce7bd",
   "metadata": {
    "execution": {
     "iopub.execute_input": "2022-07-22T09:42:19.717521Z",
     "iopub.status.busy": "2022-07-22T09:42:19.716553Z",
     "iopub.status.idle": "2022-07-22T09:44:03.044556Z",
     "shell.execute_reply": "2022-07-22T09:44:03.043569Z"
    },
    "id": "ff8ce7bd",
    "papermill": {
     "duration": 103.362208,
     "end_time": "2022-07-22T09:44:03.047046",
     "exception": false,
     "start_time": "2022-07-22T09:42:19.684838",
     "status": "completed"
    },
    "tags": []
   },
   "outputs": [
    {
     "name": "stdout",
     "output_type": "stream",
     "text": [
      "Device used : cpu\n"
     ]
    },
    {
     "name": "stdout",
     "output_type": "stream",
     "text": [
      "epoch 0  | loss: 2.72308 | train_mse: 1.77461 | train_mae: 1.00935 |  0:00:00s\n"
     ]
    },
    {
     "name": "stdout",
     "output_type": "stream",
     "text": [
      "epoch 1  | loss: 1.25433 | train_mse: 0.96838 | train_mae: 0.71167 |  0:00:01s\n"
     ]
    },
    {
     "name": "stdout",
     "output_type": "stream",
     "text": [
      "epoch 2  | loss: 0.78594 | train_mse: 0.79334 | train_mae: 0.63641 |  0:00:01s\n"
     ]
    },
    {
     "name": "stdout",
     "output_type": "stream",
     "text": [
      "epoch 3  | loss: 0.62565 | train_mse: 0.77913 | train_mae: 0.58089 |  0:00:02s\n"
     ]
    },
    {
     "name": "stdout",
     "output_type": "stream",
     "text": [
      "epoch 4  | loss: 0.50626 | train_mse: 0.57725 | train_mae: 0.51404 |  0:00:02s\n"
     ]
    },
    {
     "name": "stdout",
     "output_type": "stream",
     "text": [
      "epoch 5  | loss: 0.45936 | train_mse: 0.6458  | train_mae: 0.51312 |  0:00:03s\n"
     ]
    },
    {
     "name": "stdout",
     "output_type": "stream",
     "text": [
      "epoch 6  | loss: 0.43778 | train_mse: 0.66517 | train_mae: 0.49669 |  0:00:03s\n"
     ]
    },
    {
     "name": "stdout",
     "output_type": "stream",
     "text": [
      "epoch 7  | loss: 0.30927 | train_mse: 0.52247 | train_mae: 0.48749 |  0:00:03s\n"
     ]
    },
    {
     "name": "stdout",
     "output_type": "stream",
     "text": [
      "epoch 8  | loss: 0.35196 | train_mse: 0.30385 | train_mae: 0.39507 |  0:00:04s\n"
     ]
    },
    {
     "name": "stdout",
     "output_type": "stream",
     "text": [
      "epoch 9  | loss: 0.33622 | train_mse: 0.36201 | train_mae: 0.43315 |  0:00:04s\n"
     ]
    },
    {
     "name": "stdout",
     "output_type": "stream",
     "text": [
      "epoch 10 | loss: 0.31918 | train_mse: 0.2915  | train_mae: 0.39391 |  0:00:05s\n"
     ]
    },
    {
     "name": "stdout",
     "output_type": "stream",
     "text": [
      "epoch 11 | loss: 0.33926 | train_mse: 0.2921  | train_mae: 0.3912  |  0:00:05s\n"
     ]
    },
    {
     "name": "stdout",
     "output_type": "stream",
     "text": [
      "epoch 12 | loss: 0.34985 | train_mse: 0.28995 | train_mae: 0.38232 |  0:00:05s\n"
     ]
    },
    {
     "name": "stdout",
     "output_type": "stream",
     "text": [
      "epoch 13 | loss: 0.32135 | train_mse: 0.23033 | train_mae: 0.35452 |  0:00:06s\n"
     ]
    },
    {
     "name": "stdout",
     "output_type": "stream",
     "text": [
      "epoch 14 | loss: 0.25658 | train_mse: 0.20081 | train_mae: 0.31606 |  0:00:06s\n"
     ]
    },
    {
     "name": "stdout",
     "output_type": "stream",
     "text": [
      "epoch 15 | loss: 0.20494 | train_mse: 0.21655 | train_mae: 0.33356 |  0:00:07s\n"
     ]
    },
    {
     "name": "stdout",
     "output_type": "stream",
     "text": [
      "epoch 16 | loss: 0.35746 | train_mse: 0.22036 | train_mae: 0.33161 |  0:00:07s\n"
     ]
    },
    {
     "name": "stdout",
     "output_type": "stream",
     "text": [
      "epoch 17 | loss: 0.255   | train_mse: 0.16748 | train_mae: 0.29901 |  0:00:07s\n"
     ]
    },
    {
     "name": "stdout",
     "output_type": "stream",
     "text": [
      "epoch 18 | loss: 0.2776  | train_mse: 0.20934 | train_mae: 0.31834 |  0:00:08s\n"
     ]
    },
    {
     "name": "stdout",
     "output_type": "stream",
     "text": [
      "epoch 19 | loss: 0.25351 | train_mse: 0.17707 | train_mae: 0.30635 |  0:00:08s\n"
     ]
    },
    {
     "name": "stdout",
     "output_type": "stream",
     "text": [
      "epoch 20 | loss: 0.32014 | train_mse: 0.19362 | train_mae: 0.30807 |  0:00:08s\n"
     ]
    },
    {
     "name": "stdout",
     "output_type": "stream",
     "text": [
      "epoch 21 | loss: 0.25411 | train_mse: 0.24869 | train_mae: 0.33502 |  0:00:09s\n"
     ]
    },
    {
     "name": "stdout",
     "output_type": "stream",
     "text": [
      "epoch 22 | loss: 0.25772 | train_mse: 0.21737 | train_mae: 0.3313  |  0:00:09s\n"
     ]
    },
    {
     "name": "stdout",
     "output_type": "stream",
     "text": [
      "epoch 23 | loss: 0.23375 | train_mse: 0.16804 | train_mae: 0.30051 |  0:00:09s\n"
     ]
    },
    {
     "name": "stdout",
     "output_type": "stream",
     "text": [
      "epoch 24 | loss: 0.23095 | train_mse: 0.28803 | train_mae: 0.3619  |  0:00:10s\n"
     ]
    },
    {
     "name": "stdout",
     "output_type": "stream",
     "text": [
      "epoch 25 | loss: 0.27013 | train_mse: 0.19513 | train_mae: 0.3132  |  0:00:10s\n"
     ]
    },
    {
     "name": "stdout",
     "output_type": "stream",
     "text": [
      "epoch 26 | loss: 0.23132 | train_mse: 0.19009 | train_mae: 0.30535 |  0:00:11s\n"
     ]
    },
    {
     "name": "stdout",
     "output_type": "stream",
     "text": [
      "epoch 27 | loss: 0.21394 | train_mse: 0.17203 | train_mae: 0.30091 |  0:00:11s\n"
     ]
    },
    {
     "name": "stdout",
     "output_type": "stream",
     "text": [
      "epoch 28 | loss: 0.23393 | train_mse: 0.19439 | train_mae: 0.31481 |  0:00:11s\n"
     ]
    },
    {
     "name": "stdout",
     "output_type": "stream",
     "text": [
      "epoch 29 | loss: 0.23581 | train_mse: 0.24501 | train_mae: 0.31742 |  0:00:12s\n"
     ]
    },
    {
     "name": "stdout",
     "output_type": "stream",
     "text": [
      "epoch 30 | loss: 0.23222 | train_mse: 0.16738 | train_mae: 0.29791 |  0:00:12s\n"
     ]
    },
    {
     "name": "stdout",
     "output_type": "stream",
     "text": [
      "epoch 31 | loss: 0.21655 | train_mse: 0.17388 | train_mae: 0.29411 |  0:00:12s\n"
     ]
    },
    {
     "name": "stdout",
     "output_type": "stream",
     "text": [
      "epoch 32 | loss: 0.21773 | train_mse: 0.17718 | train_mae: 0.29627 |  0:00:13s\n"
     ]
    },
    {
     "name": "stdout",
     "output_type": "stream",
     "text": [
      "epoch 33 | loss: 0.23013 | train_mse: 0.18131 | train_mae: 0.30132 |  0:00:13s\n"
     ]
    },
    {
     "name": "stdout",
     "output_type": "stream",
     "text": [
      "epoch 34 | loss: 0.26527 | train_mse: 0.17639 | train_mae: 0.29182 |  0:00:14s\n"
     ]
    },
    {
     "name": "stdout",
     "output_type": "stream",
     "text": [
      "epoch 35 | loss: 0.23209 | train_mse: 0.19038 | train_mae: 0.29946 |  0:00:14s\n"
     ]
    },
    {
     "name": "stdout",
     "output_type": "stream",
     "text": [
      "epoch 36 | loss: 0.22072 | train_mse: 0.19571 | train_mae: 0.30627 |  0:00:14s\n"
     ]
    },
    {
     "name": "stdout",
     "output_type": "stream",
     "text": [
      "epoch 37 | loss: 0.19865 | train_mse: 0.16339 | train_mae: 0.29119 |  0:00:15s\n"
     ]
    },
    {
     "name": "stdout",
     "output_type": "stream",
     "text": [
      "epoch 38 | loss: 0.20487 | train_mse: 0.17701 | train_mae: 0.30729 |  0:00:15s\n"
     ]
    },
    {
     "name": "stdout",
     "output_type": "stream",
     "text": [
      "epoch 39 | loss: 0.21308 | train_mse: 0.2263  | train_mae: 0.33642 |  0:00:16s\n"
     ]
    },
    {
     "name": "stdout",
     "output_type": "stream",
     "text": [
      "epoch 40 | loss: 0.21175 | train_mse: 0.19329 | train_mae: 0.29246 |  0:00:16s\n"
     ]
    },
    {
     "name": "stdout",
     "output_type": "stream",
     "text": [
      "epoch 41 | loss: 0.24499 | train_mse: 0.18669 | train_mae: 0.29523 |  0:00:17s\n"
     ]
    },
    {
     "name": "stdout",
     "output_type": "stream",
     "text": [
      "epoch 42 | loss: 0.1877  | train_mse: 0.15033 | train_mae: 0.26929 |  0:00:17s\n"
     ]
    },
    {
     "name": "stdout",
     "output_type": "stream",
     "text": [
      "epoch 43 | loss: 0.20618 | train_mse: 0.19428 | train_mae: 0.29123 |  0:00:18s\n"
     ]
    },
    {
     "name": "stdout",
     "output_type": "stream",
     "text": [
      "epoch 44 | loss: 0.25636 | train_mse: 0.19648 | train_mae: 0.29606 |  0:00:18s\n"
     ]
    },
    {
     "name": "stdout",
     "output_type": "stream",
     "text": [
      "epoch 45 | loss: 0.21392 | train_mse: 0.2598  | train_mae: 0.31626 |  0:00:19s\n"
     ]
    },
    {
     "name": "stdout",
     "output_type": "stream",
     "text": [
      "epoch 46 | loss: 0.19984 | train_mse: 0.39611 | train_mae: 0.30707 |  0:00:19s\n"
     ]
    },
    {
     "name": "stdout",
     "output_type": "stream",
     "text": [
      "epoch 47 | loss: 0.2033  | train_mse: 0.17819 | train_mae: 0.28626 |  0:00:19s\n"
     ]
    },
    {
     "name": "stdout",
     "output_type": "stream",
     "text": [
      "epoch 48 | loss: 0.18828 | train_mse: 0.17857 | train_mae: 0.29295 |  0:00:20s\n"
     ]
    },
    {
     "name": "stdout",
     "output_type": "stream",
     "text": [
      "epoch 49 | loss: 0.18776 | train_mse: 0.22883 | train_mae: 0.2935  |  0:00:20s\n"
     ]
    },
    {
     "name": "stdout",
     "output_type": "stream",
     "text": [
      "epoch 50 | loss: 0.21197 | train_mse: 0.21297 | train_mae: 0.29654 |  0:00:21s\n"
     ]
    },
    {
     "name": "stdout",
     "output_type": "stream",
     "text": [
      "epoch 51 | loss: 0.1795  | train_mse: 0.19029 | train_mae: 0.27912 |  0:00:21s\n"
     ]
    },
    {
     "name": "stdout",
     "output_type": "stream",
     "text": [
      "epoch 52 | loss: 0.20089 | train_mse: 0.18233 | train_mae: 0.27575 |  0:00:21s\n"
     ]
    },
    {
     "name": "stdout",
     "output_type": "stream",
     "text": [
      "epoch 53 | loss: 0.1929  | train_mse: 0.15219 | train_mae: 0.27205 |  0:00:22s\n"
     ]
    },
    {
     "name": "stdout",
     "output_type": "stream",
     "text": [
      "epoch 54 | loss: 0.17752 | train_mse: 0.15003 | train_mae: 0.27157 |  0:00:22s\n"
     ]
    },
    {
     "name": "stdout",
     "output_type": "stream",
     "text": [
      "epoch 55 | loss: 0.18591 | train_mse: 0.13698 | train_mae: 0.26173 |  0:00:22s\n"
     ]
    },
    {
     "name": "stdout",
     "output_type": "stream",
     "text": [
      "epoch 56 | loss: 0.18322 | train_mse: 0.13626 | train_mae: 0.27145 |  0:00:23s\n"
     ]
    },
    {
     "name": "stdout",
     "output_type": "stream",
     "text": [
      "epoch 57 | loss: 0.1865  | train_mse: 0.14036 | train_mae: 0.26764 |  0:00:23s\n"
     ]
    },
    {
     "name": "stdout",
     "output_type": "stream",
     "text": [
      "epoch 58 | loss: 0.15708 | train_mse: 0.18337 | train_mae: 0.28002 |  0:00:23s\n"
     ]
    },
    {
     "name": "stdout",
     "output_type": "stream",
     "text": [
      "epoch 59 | loss: 0.18982 | train_mse: 0.15386 | train_mae: 0.28228 |  0:00:24s\n"
     ]
    },
    {
     "name": "stdout",
     "output_type": "stream",
     "text": [
      "epoch 60 | loss: 0.19079 | train_mse: 0.16512 | train_mae: 0.29377 |  0:00:24s\n"
     ]
    },
    {
     "name": "stdout",
     "output_type": "stream",
     "text": [
      "epoch 61 | loss: 0.18304 | train_mse: 0.15886 | train_mae: 0.26918 |  0:00:25s\n"
     ]
    },
    {
     "name": "stdout",
     "output_type": "stream",
     "text": [
      "epoch 62 | loss: 0.18347 | train_mse: 0.14823 | train_mae: 0.2678  |  0:00:25s\n"
     ]
    },
    {
     "name": "stdout",
     "output_type": "stream",
     "text": [
      "epoch 63 | loss: 0.16059 | train_mse: 0.13957 | train_mae: 0.25636 |  0:00:25s\n"
     ]
    },
    {
     "name": "stdout",
     "output_type": "stream",
     "text": [
      "epoch 64 | loss: 0.18355 | train_mse: 0.1376  | train_mae: 0.25725 |  0:00:26s\n"
     ]
    },
    {
     "name": "stdout",
     "output_type": "stream",
     "text": [
      "epoch 65 | loss: 0.14789 | train_mse: 0.11275 | train_mae: 0.24415 |  0:00:26s\n"
     ]
    },
    {
     "name": "stdout",
     "output_type": "stream",
     "text": [
      "epoch 66 | loss: 0.1702  | train_mse: 0.12795 | train_mae: 0.2607  |  0:00:26s\n"
     ]
    },
    {
     "name": "stdout",
     "output_type": "stream",
     "text": [
      "epoch 67 | loss: 0.18017 | train_mse: 0.13233 | train_mae: 0.26129 |  0:00:27s\n"
     ]
    },
    {
     "name": "stdout",
     "output_type": "stream",
     "text": [
      "epoch 68 | loss: 0.19815 | train_mse: 0.13999 | train_mae: 0.26862 |  0:00:27s\n"
     ]
    },
    {
     "name": "stdout",
     "output_type": "stream",
     "text": [
      "epoch 69 | loss: 0.17044 | train_mse: 0.13797 | train_mae: 0.26865 |  0:00:27s\n"
     ]
    },
    {
     "name": "stdout",
     "output_type": "stream",
     "text": [
      "epoch 70 | loss: 0.19416 | train_mse: 0.15765 | train_mae: 0.28408 |  0:00:28s\n"
     ]
    },
    {
     "name": "stdout",
     "output_type": "stream",
     "text": [
      "epoch 71 | loss: 0.16041 | train_mse: 0.13128 | train_mae: 0.2616  |  0:00:28s\n"
     ]
    },
    {
     "name": "stdout",
     "output_type": "stream",
     "text": [
      "epoch 72 | loss: 0.22187 | train_mse: 0.13462 | train_mae: 0.27377 |  0:00:29s\n"
     ]
    },
    {
     "name": "stdout",
     "output_type": "stream",
     "text": [
      "epoch 73 | loss: 0.20891 | train_mse: 0.13328 | train_mae: 0.26794 |  0:00:29s\n"
     ]
    },
    {
     "name": "stdout",
     "output_type": "stream",
     "text": [
      "epoch 74 | loss: 0.1674  | train_mse: 0.13048 | train_mae: 0.26313 |  0:00:29s\n"
     ]
    },
    {
     "name": "stdout",
     "output_type": "stream",
     "text": [
      "epoch 75 | loss: 0.1665  | train_mse: 0.13008 | train_mae: 0.27226 |  0:00:30s\n"
     ]
    },
    {
     "name": "stdout",
     "output_type": "stream",
     "text": [
      "epoch 76 | loss: 0.17174 | train_mse: 0.11418 | train_mae: 0.2465  |  0:00:30s\n"
     ]
    },
    {
     "name": "stdout",
     "output_type": "stream",
     "text": [
      "epoch 77 | loss: 0.1813  | train_mse: 0.11695 | train_mae: 0.24449 |  0:00:31s\n"
     ]
    },
    {
     "name": "stdout",
     "output_type": "stream",
     "text": [
      "epoch 78 | loss: 0.14856 | train_mse: 0.11646 | train_mae: 0.25168 |  0:00:31s\n"
     ]
    },
    {
     "name": "stdout",
     "output_type": "stream",
     "text": [
      "epoch 79 | loss: 0.15098 | train_mse: 0.11818 | train_mae: 0.25689 |  0:00:31s\n"
     ]
    },
    {
     "name": "stdout",
     "output_type": "stream",
     "text": [
      "epoch 80 | loss: 0.14562 | train_mse: 0.12704 | train_mae: 0.24575 |  0:00:32s\n"
     ]
    },
    {
     "name": "stdout",
     "output_type": "stream",
     "text": [
      "epoch 81 | loss: 0.18138 | train_mse: 0.12585 | train_mae: 0.25651 |  0:00:32s\n"
     ]
    },
    {
     "name": "stdout",
     "output_type": "stream",
     "text": [
      "epoch 82 | loss: 0.18368 | train_mse: 0.12365 | train_mae: 0.26286 |  0:00:32s\n"
     ]
    },
    {
     "name": "stdout",
     "output_type": "stream",
     "text": [
      "epoch 83 | loss: 0.12994 | train_mse: 0.12776 | train_mae: 0.24151 |  0:00:33s\n"
     ]
    },
    {
     "name": "stdout",
     "output_type": "stream",
     "text": [
      "epoch 84 | loss: 0.15733 | train_mse: 0.13296 | train_mae: 0.2555  |  0:00:33s\n"
     ]
    },
    {
     "name": "stdout",
     "output_type": "stream",
     "text": [
      "epoch 85 | loss: 0.16821 | train_mse: 0.17916 | train_mae: 0.26559 |  0:00:34s\n"
     ]
    },
    {
     "name": "stdout",
     "output_type": "stream",
     "text": [
      "epoch 86 | loss: 0.1574  | train_mse: 0.20072 | train_mae: 0.27215 |  0:00:34s\n"
     ]
    },
    {
     "name": "stdout",
     "output_type": "stream",
     "text": [
      "epoch 87 | loss: 0.14726 | train_mse: 0.15168 | train_mae: 0.26879 |  0:00:34s\n"
     ]
    },
    {
     "name": "stdout",
     "output_type": "stream",
     "text": [
      "epoch 88 | loss: 0.17676 | train_mse: 0.17147 | train_mae: 0.27863 |  0:00:35s\n"
     ]
    },
    {
     "name": "stdout",
     "output_type": "stream",
     "text": [
      "epoch 89 | loss: 0.1866  | train_mse: 0.16775 | train_mae: 0.26771 |  0:00:35s\n"
     ]
    },
    {
     "name": "stdout",
     "output_type": "stream",
     "text": [
      "epoch 90 | loss: 0.15314 | train_mse: 0.13519 | train_mae: 0.24722 |  0:00:35s\n"
     ]
    },
    {
     "name": "stdout",
     "output_type": "stream",
     "text": [
      "epoch 91 | loss: 0.16508 | train_mse: 0.2189  | train_mae: 0.29852 |  0:00:36s\n"
     ]
    },
    {
     "name": "stdout",
     "output_type": "stream",
     "text": [
      "epoch 92 | loss: 0.15146 | train_mse: 0.11794 | train_mae: 0.24935 |  0:00:36s\n"
     ]
    },
    {
     "name": "stdout",
     "output_type": "stream",
     "text": [
      "epoch 93 | loss: 0.12982 | train_mse: 0.11408 | train_mae: 0.24346 |  0:00:37s\n"
     ]
    },
    {
     "name": "stdout",
     "output_type": "stream",
     "text": [
      "epoch 94 | loss: 0.15866 | train_mse: 0.13119 | train_mae: 0.25245 |  0:00:37s\n"
     ]
    },
    {
     "name": "stdout",
     "output_type": "stream",
     "text": [
      "epoch 95 | loss: 0.17048 | train_mse: 0.12122 | train_mae: 0.24907 |  0:00:37s\n"
     ]
    },
    {
     "name": "stdout",
     "output_type": "stream",
     "text": [
      "epoch 96 | loss: 0.13522 | train_mse: 0.09379 | train_mae: 0.22127 |  0:00:38s\n"
     ]
    },
    {
     "name": "stdout",
     "output_type": "stream",
     "text": [
      "epoch 97 | loss: 0.14168 | train_mse: 0.129   | train_mae: 0.23372 |  0:00:38s\n"
     ]
    },
    {
     "name": "stdout",
     "output_type": "stream",
     "text": [
      "epoch 98 | loss: 0.17792 | train_mse: 0.1234  | train_mae: 0.25213 |  0:00:38s\n"
     ]
    },
    {
     "name": "stdout",
     "output_type": "stream",
     "text": [
      "epoch 99 | loss: 0.16172 | train_mse: 0.09151 | train_mae: 0.22097 |  0:00:39s\n"
     ]
    },
    {
     "name": "stdout",
     "output_type": "stream",
     "text": [
      "epoch 100| loss: 0.13826 | train_mse: 0.10594 | train_mae: 0.22742 |  0:00:39s\n"
     ]
    },
    {
     "name": "stdout",
     "output_type": "stream",
     "text": [
      "epoch 101| loss: 0.15236 | train_mse: 0.1279  | train_mae: 0.25433 |  0:00:39s\n"
     ]
    },
    {
     "name": "stdout",
     "output_type": "stream",
     "text": [
      "epoch 102| loss: 0.13375 | train_mse: 0.09432 | train_mae: 0.22827 |  0:00:40s\n"
     ]
    },
    {
     "name": "stdout",
     "output_type": "stream",
     "text": [
      "epoch 103| loss: 0.14194 | train_mse: 0.09763 | train_mae: 0.23116 |  0:00:40s\n"
     ]
    },
    {
     "name": "stdout",
     "output_type": "stream",
     "text": [
      "epoch 104| loss: 0.17328 | train_mse: 0.09442 | train_mae: 0.22614 |  0:00:41s\n"
     ]
    },
    {
     "name": "stdout",
     "output_type": "stream",
     "text": [
      "epoch 105| loss: 0.20422 | train_mse: 0.11577 | train_mae: 0.24419 |  0:00:41s\n"
     ]
    },
    {
     "name": "stdout",
     "output_type": "stream",
     "text": [
      "epoch 106| loss: 0.1113  | train_mse: 0.11086 | train_mae: 0.24247 |  0:00:41s\n"
     ]
    },
    {
     "name": "stdout",
     "output_type": "stream",
     "text": [
      "epoch 107| loss: 0.14642 | train_mse: 0.09918 | train_mae: 0.237   |  0:00:42s\n"
     ]
    },
    {
     "name": "stdout",
     "output_type": "stream",
     "text": [
      "epoch 108| loss: 0.16839 | train_mse: 0.11373 | train_mae: 0.23689 |  0:00:42s\n"
     ]
    },
    {
     "name": "stdout",
     "output_type": "stream",
     "text": [
      "epoch 109| loss: 0.18725 | train_mse: 0.11842 | train_mae: 0.23808 |  0:00:42s\n"
     ]
    },
    {
     "name": "stdout",
     "output_type": "stream",
     "text": [
      "epoch 110| loss: 0.1427  | train_mse: 0.09878 | train_mae: 0.22263 |  0:00:43s\n"
     ]
    },
    {
     "name": "stdout",
     "output_type": "stream",
     "text": [
      "epoch 111| loss: 0.14627 | train_mse: 0.1055  | train_mae: 0.23026 |  0:00:43s\n"
     ]
    },
    {
     "name": "stdout",
     "output_type": "stream",
     "text": [
      "epoch 112| loss: 0.13531 | train_mse: 0.10931 | train_mae: 0.23013 |  0:00:43s\n"
     ]
    },
    {
     "name": "stdout",
     "output_type": "stream",
     "text": [
      "epoch 113| loss: 0.15972 | train_mse: 0.11167 | train_mae: 0.24343 |  0:00:44s\n"
     ]
    },
    {
     "name": "stdout",
     "output_type": "stream",
     "text": [
      "epoch 114| loss: 0.1539  | train_mse: 0.08792 | train_mae: 0.21553 |  0:00:44s\n"
     ]
    },
    {
     "name": "stdout",
     "output_type": "stream",
     "text": [
      "epoch 115| loss: 0.1459  | train_mse: 0.11177 | train_mae: 0.24218 |  0:00:45s\n"
     ]
    },
    {
     "name": "stdout",
     "output_type": "stream",
     "text": [
      "epoch 116| loss: 0.13533 | train_mse: 0.09044 | train_mae: 0.21036 |  0:00:45s\n"
     ]
    },
    {
     "name": "stdout",
     "output_type": "stream",
     "text": [
      "epoch 117| loss: 0.12202 | train_mse: 0.07925 | train_mae: 0.20871 |  0:00:45s\n"
     ]
    },
    {
     "name": "stdout",
     "output_type": "stream",
     "text": [
      "epoch 118| loss: 0.15064 | train_mse: 0.10501 | train_mae: 0.23429 |  0:00:46s\n"
     ]
    },
    {
     "name": "stdout",
     "output_type": "stream",
     "text": [
      "epoch 119| loss: 0.11701 | train_mse: 0.09616 | train_mae: 0.22441 |  0:00:46s\n"
     ]
    },
    {
     "name": "stdout",
     "output_type": "stream",
     "text": [
      "epoch 120| loss: 0.10923 | train_mse: 0.08713 | train_mae: 0.21996 |  0:00:46s\n"
     ]
    },
    {
     "name": "stdout",
     "output_type": "stream",
     "text": [
      "epoch 121| loss: 0.12017 | train_mse: 0.07771 | train_mae: 0.20492 |  0:00:47s\n"
     ]
    },
    {
     "name": "stdout",
     "output_type": "stream",
     "text": [
      "epoch 122| loss: 0.1409  | train_mse: 0.09998 | train_mae: 0.23429 |  0:00:47s\n"
     ]
    },
    {
     "name": "stdout",
     "output_type": "stream",
     "text": [
      "epoch 123| loss: 0.14385 | train_mse: 0.07993 | train_mae: 0.20417 |  0:00:47s\n"
     ]
    },
    {
     "name": "stdout",
     "output_type": "stream",
     "text": [
      "epoch 124| loss: 0.1218  | train_mse: 0.11913 | train_mae: 0.25097 |  0:00:48s\n"
     ]
    },
    {
     "name": "stdout",
     "output_type": "stream",
     "text": [
      "epoch 125| loss: 0.14094 | train_mse: 0.10564 | train_mae: 0.22455 |  0:00:48s\n"
     ]
    },
    {
     "name": "stdout",
     "output_type": "stream",
     "text": [
      "epoch 126| loss: 0.16108 | train_mse: 0.11714 | train_mae: 0.23872 |  0:00:49s\n"
     ]
    },
    {
     "name": "stdout",
     "output_type": "stream",
     "text": [
      "epoch 127| loss: 0.1451  | train_mse: 0.089   | train_mae: 0.21307 |  0:00:49s\n"
     ]
    },
    {
     "name": "stdout",
     "output_type": "stream",
     "text": [
      "epoch 128| loss: 0.13307 | train_mse: 0.09709 | train_mae: 0.22046 |  0:00:50s\n"
     ]
    },
    {
     "name": "stdout",
     "output_type": "stream",
     "text": [
      "epoch 129| loss: 0.12762 | train_mse: 0.09346 | train_mae: 0.21817 |  0:00:50s\n"
     ]
    },
    {
     "name": "stdout",
     "output_type": "stream",
     "text": [
      "epoch 130| loss: 0.11111 | train_mse: 0.08365 | train_mae: 0.19967 |  0:00:50s\n"
     ]
    },
    {
     "name": "stdout",
     "output_type": "stream",
     "text": [
      "epoch 131| loss: 0.11005 | train_mse: 0.09012 | train_mae: 0.21311 |  0:00:51s\n"
     ]
    },
    {
     "name": "stdout",
     "output_type": "stream",
     "text": [
      "epoch 132| loss: 0.13778 | train_mse: 0.09841 | train_mae: 0.2133  |  0:00:51s\n"
     ]
    },
    {
     "name": "stdout",
     "output_type": "stream",
     "text": [
      "epoch 133| loss: 0.13147 | train_mse: 0.11245 | train_mae: 0.21839 |  0:00:51s\n"
     ]
    },
    {
     "name": "stdout",
     "output_type": "stream",
     "text": [
      "epoch 134| loss: 0.13677 | train_mse: 0.10533 | train_mae: 0.23535 |  0:00:52s\n"
     ]
    },
    {
     "name": "stdout",
     "output_type": "stream",
     "text": [
      "epoch 135| loss: 0.13419 | train_mse: 0.09146 | train_mae: 0.21842 |  0:00:52s\n"
     ]
    },
    {
     "name": "stdout",
     "output_type": "stream",
     "text": [
      "epoch 136| loss: 0.12931 | train_mse: 0.08755 | train_mae: 0.21025 |  0:00:52s\n"
     ]
    },
    {
     "name": "stdout",
     "output_type": "stream",
     "text": [
      "epoch 137| loss: 0.11963 | train_mse: 0.10847 | train_mae: 0.23458 |  0:00:53s\n"
     ]
    },
    {
     "name": "stdout",
     "output_type": "stream",
     "text": [
      "epoch 138| loss: 0.14748 | train_mse: 0.10186 | train_mae: 0.23387 |  0:00:53s\n"
     ]
    },
    {
     "name": "stdout",
     "output_type": "stream",
     "text": [
      "epoch 139| loss: 0.12879 | train_mse: 0.08603 | train_mae: 0.21149 |  0:00:54s\n"
     ]
    },
    {
     "name": "stdout",
     "output_type": "stream",
     "text": [
      "epoch 140| loss: 0.16938 | train_mse: 0.11327 | train_mae: 0.23481 |  0:00:54s\n"
     ]
    },
    {
     "name": "stdout",
     "output_type": "stream",
     "text": [
      "epoch 141| loss: 0.15328 | train_mse: 0.1084  | train_mae: 0.23426 |  0:00:54s\n"
     ]
    },
    {
     "name": "stdout",
     "output_type": "stream",
     "text": [
      "epoch 142| loss: 0.12673 | train_mse: 0.09139 | train_mae: 0.21241 |  0:00:55s\n"
     ]
    },
    {
     "name": "stdout",
     "output_type": "stream",
     "text": [
      "epoch 143| loss: 0.1487  | train_mse: 0.10411 | train_mae: 0.2341  |  0:00:55s\n"
     ]
    },
    {
     "name": "stdout",
     "output_type": "stream",
     "text": [
      "epoch 144| loss: 0.11976 | train_mse: 0.08879 | train_mae: 0.21582 |  0:00:55s\n"
     ]
    },
    {
     "name": "stdout",
     "output_type": "stream",
     "text": [
      "epoch 145| loss: 0.11095 | train_mse: 0.0944  | train_mae: 0.2151  |  0:00:56s\n"
     ]
    },
    {
     "name": "stdout",
     "output_type": "stream",
     "text": [
      "epoch 146| loss: 0.11742 | train_mse: 0.09769 | train_mae: 0.22531 |  0:00:56s\n"
     ]
    },
    {
     "name": "stdout",
     "output_type": "stream",
     "text": [
      "epoch 147| loss: 0.12368 | train_mse: 0.08348 | train_mae: 0.21121 |  0:00:56s\n"
     ]
    },
    {
     "name": "stdout",
     "output_type": "stream",
     "text": [
      "epoch 148| loss: 0.15302 | train_mse: 0.07759 | train_mae: 0.20704 |  0:00:57s\n"
     ]
    },
    {
     "name": "stdout",
     "output_type": "stream",
     "text": [
      "epoch 149| loss: 0.11228 | train_mse: 0.08017 | train_mae: 0.20582 |  0:00:57s\n"
     ]
    },
    {
     "name": "stdout",
     "output_type": "stream",
     "text": [
      "epoch 150| loss: 0.12713 | train_mse: 0.08947 | train_mae: 0.21874 |  0:00:57s\n"
     ]
    },
    {
     "name": "stdout",
     "output_type": "stream",
     "text": [
      "epoch 151| loss: 0.10168 | train_mse: 0.10087 | train_mae: 0.23289 |  0:00:58s\n"
     ]
    },
    {
     "name": "stdout",
     "output_type": "stream",
     "text": [
      "epoch 152| loss: 0.11015 | train_mse: 0.07429 | train_mae: 0.20162 |  0:00:58s\n"
     ]
    },
    {
     "name": "stdout",
     "output_type": "stream",
     "text": [
      "epoch 153| loss: 0.13599 | train_mse: 0.09939 | train_mae: 0.22427 |  0:00:58s\n"
     ]
    },
    {
     "name": "stdout",
     "output_type": "stream",
     "text": [
      "epoch 154| loss: 0.12349 | train_mse: 0.08806 | train_mae: 0.21297 |  0:00:59s\n"
     ]
    },
    {
     "name": "stdout",
     "output_type": "stream",
     "text": [
      "epoch 155| loss: 0.14308 | train_mse: 0.08697 | train_mae: 0.21088 |  0:00:59s\n"
     ]
    },
    {
     "name": "stdout",
     "output_type": "stream",
     "text": [
      "epoch 156| loss: 0.12046 | train_mse: 0.07659 | train_mae: 0.20757 |  0:01:00s\n"
     ]
    },
    {
     "name": "stdout",
     "output_type": "stream",
     "text": [
      "epoch 157| loss: 0.15163 | train_mse: 0.07861 | train_mae: 0.20565 |  0:01:00s\n"
     ]
    },
    {
     "name": "stdout",
     "output_type": "stream",
     "text": [
      "epoch 158| loss: 0.17544 | train_mse: 0.09101 | train_mae: 0.21776 |  0:01:01s\n"
     ]
    },
    {
     "name": "stdout",
     "output_type": "stream",
     "text": [
      "epoch 159| loss: 0.1171  | train_mse: 0.07646 | train_mae: 0.20103 |  0:01:01s\n"
     ]
    },
    {
     "name": "stdout",
     "output_type": "stream",
     "text": [
      "epoch 160| loss: 0.14569 | train_mse: 0.09671 | train_mae: 0.2287  |  0:01:02s\n"
     ]
    },
    {
     "name": "stdout",
     "output_type": "stream",
     "text": [
      "epoch 161| loss: 0.1445  | train_mse: 0.07752 | train_mae: 0.20368 |  0:01:02s\n"
     ]
    },
    {
     "name": "stdout",
     "output_type": "stream",
     "text": [
      "epoch 162| loss: 0.1071  | train_mse: 0.07923 | train_mae: 0.2133  |  0:01:02s\n"
     ]
    },
    {
     "name": "stdout",
     "output_type": "stream",
     "text": [
      "epoch 163| loss: 0.12588 | train_mse: 0.06811 | train_mae: 0.19634 |  0:01:03s\n"
     ]
    },
    {
     "name": "stdout",
     "output_type": "stream",
     "text": [
      "epoch 164| loss: 0.10074 | train_mse: 0.08762 | train_mae: 0.21481 |  0:01:03s\n"
     ]
    },
    {
     "name": "stdout",
     "output_type": "stream",
     "text": [
      "epoch 165| loss: 0.11186 | train_mse: 0.07519 | train_mae: 0.20851 |  0:01:03s\n"
     ]
    },
    {
     "name": "stdout",
     "output_type": "stream",
     "text": [
      "epoch 166| loss: 0.13424 | train_mse: 0.07673 | train_mae: 0.20479 |  0:01:04s\n"
     ]
    },
    {
     "name": "stdout",
     "output_type": "stream",
     "text": [
      "epoch 167| loss: 0.13918 | train_mse: 0.1     | train_mae: 0.22945 |  0:01:04s\n"
     ]
    },
    {
     "name": "stdout",
     "output_type": "stream",
     "text": [
      "epoch 168| loss: 0.13416 | train_mse: 0.08576 | train_mae: 0.21727 |  0:01:05s\n"
     ]
    },
    {
     "name": "stdout",
     "output_type": "stream",
     "text": [
      "epoch 169| loss: 0.13067 | train_mse: 0.06945 | train_mae: 0.19602 |  0:01:05s\n"
     ]
    },
    {
     "name": "stdout",
     "output_type": "stream",
     "text": [
      "epoch 170| loss: 0.10986 | train_mse: 0.06892 | train_mae: 0.19311 |  0:01:05s\n"
     ]
    },
    {
     "name": "stdout",
     "output_type": "stream",
     "text": [
      "epoch 171| loss: 0.12209 | train_mse: 0.08304 | train_mae: 0.21194 |  0:01:06s\n"
     ]
    },
    {
     "name": "stdout",
     "output_type": "stream",
     "text": [
      "epoch 172| loss: 0.14107 | train_mse: 0.06976 | train_mae: 0.19455 |  0:01:06s\n"
     ]
    },
    {
     "name": "stdout",
     "output_type": "stream",
     "text": [
      "epoch 173| loss: 0.13283 | train_mse: 0.08954 | train_mae: 0.21513 |  0:01:06s\n"
     ]
    },
    {
     "name": "stdout",
     "output_type": "stream",
     "text": [
      "epoch 174| loss: 0.10859 | train_mse: 0.07691 | train_mae: 0.20436 |  0:01:07s\n"
     ]
    },
    {
     "name": "stdout",
     "output_type": "stream",
     "text": [
      "epoch 175| loss: 0.13027 | train_mse: 0.07105 | train_mae: 0.19673 |  0:01:07s\n"
     ]
    },
    {
     "name": "stdout",
     "output_type": "stream",
     "text": [
      "epoch 176| loss: 0.12959 | train_mse: 0.08621 | train_mae: 0.21372 |  0:01:08s\n"
     ]
    },
    {
     "name": "stdout",
     "output_type": "stream",
     "text": [
      "epoch 177| loss: 0.14062 | train_mse: 0.08266 | train_mae: 0.21096 |  0:01:08s\n"
     ]
    },
    {
     "name": "stdout",
     "output_type": "stream",
     "text": [
      "epoch 178| loss: 0.1553  | train_mse: 0.08597 | train_mae: 0.21617 |  0:01:08s\n"
     ]
    },
    {
     "name": "stdout",
     "output_type": "stream",
     "text": [
      "epoch 179| loss: 0.12604 | train_mse: 0.07733 | train_mae: 0.20676 |  0:01:09s\n"
     ]
    },
    {
     "name": "stdout",
     "output_type": "stream",
     "text": [
      "epoch 180| loss: 0.1144  | train_mse: 0.07577 | train_mae: 0.20537 |  0:01:09s\n"
     ]
    },
    {
     "name": "stdout",
     "output_type": "stream",
     "text": [
      "epoch 181| loss: 0.12182 | train_mse: 0.07742 | train_mae: 0.20267 |  0:01:09s\n"
     ]
    },
    {
     "name": "stdout",
     "output_type": "stream",
     "text": [
      "epoch 182| loss: 0.12433 | train_mse: 0.08725 | train_mae: 0.20805 |  0:01:10s\n"
     ]
    },
    {
     "name": "stdout",
     "output_type": "stream",
     "text": [
      "epoch 183| loss: 0.12134 | train_mse: 0.08376 | train_mae: 0.21165 |  0:01:10s\n"
     ]
    },
    {
     "name": "stdout",
     "output_type": "stream",
     "text": [
      "epoch 184| loss: 0.11291 | train_mse: 0.0744  | train_mae: 0.20117 |  0:01:10s\n"
     ]
    },
    {
     "name": "stdout",
     "output_type": "stream",
     "text": [
      "epoch 185| loss: 0.12122 | train_mse: 0.11155 | train_mae: 0.22797 |  0:01:11s\n"
     ]
    },
    {
     "name": "stdout",
     "output_type": "stream",
     "text": [
      "epoch 186| loss: 0.13809 | train_mse: 0.08232 | train_mae: 0.20533 |  0:01:11s\n"
     ]
    },
    {
     "name": "stdout",
     "output_type": "stream",
     "text": [
      "epoch 187| loss: 0.12742 | train_mse: 0.08076 | train_mae: 0.21065 |  0:01:12s\n"
     ]
    },
    {
     "name": "stdout",
     "output_type": "stream",
     "text": [
      "epoch 188| loss: 0.1421  | train_mse: 0.0709  | train_mae: 0.20029 |  0:01:12s\n"
     ]
    },
    {
     "name": "stdout",
     "output_type": "stream",
     "text": [
      "epoch 189| loss: 0.1324  | train_mse: 0.10742 | train_mae: 0.23527 |  0:01:13s\n"
     ]
    },
    {
     "name": "stdout",
     "output_type": "stream",
     "text": [
      "epoch 190| loss: 0.12103 | train_mse: 0.09297 | train_mae: 0.22374 |  0:01:13s\n"
     ]
    },
    {
     "name": "stdout",
     "output_type": "stream",
     "text": [
      "epoch 191| loss: 0.14528 | train_mse: 0.10267 | train_mae: 0.22711 |  0:01:13s\n"
     ]
    },
    {
     "name": "stdout",
     "output_type": "stream",
     "text": [
      "epoch 192| loss: 0.12864 | train_mse: 0.09005 | train_mae: 0.21157 |  0:01:14s\n"
     ]
    },
    {
     "name": "stdout",
     "output_type": "stream",
     "text": [
      "epoch 193| loss: 0.11008 | train_mse: 0.11466 | train_mae: 0.22646 |  0:01:14s\n"
     ]
    },
    {
     "name": "stdout",
     "output_type": "stream",
     "text": [
      "epoch 194| loss: 0.10841 | train_mse: 0.08009 | train_mae: 0.20841 |  0:01:15s\n"
     ]
    },
    {
     "name": "stdout",
     "output_type": "stream",
     "text": [
      "epoch 195| loss: 0.11303 | train_mse: 0.07672 | train_mae: 0.20901 |  0:01:15s\n"
     ]
    },
    {
     "name": "stdout",
     "output_type": "stream",
     "text": [
      "epoch 196| loss: 0.13106 | train_mse: 0.0839  | train_mae: 0.21019 |  0:01:15s\n"
     ]
    },
    {
     "name": "stdout",
     "output_type": "stream",
     "text": [
      "epoch 197| loss: 0.12583 | train_mse: 0.06563 | train_mae: 0.19272 |  0:01:16s\n"
     ]
    },
    {
     "name": "stdout",
     "output_type": "stream",
     "text": [
      "epoch 198| loss: 0.129   | train_mse: 0.08143 | train_mae: 0.20907 |  0:01:16s\n"
     ]
    },
    {
     "name": "stdout",
     "output_type": "stream",
     "text": [
      "epoch 199| loss: 0.12069 | train_mse: 0.06899 | train_mae: 0.19781 |  0:01:17s\n"
     ]
    },
    {
     "name": "stdout",
     "output_type": "stream",
     "text": [
      "epoch 200| loss: 0.10384 | train_mse: 0.06706 | train_mae: 0.19173 |  0:01:17s\n"
     ]
    },
    {
     "name": "stdout",
     "output_type": "stream",
     "text": [
      "epoch 201| loss: 0.11801 | train_mse: 0.07752 | train_mae: 0.20529 |  0:01:18s\n"
     ]
    },
    {
     "name": "stdout",
     "output_type": "stream",
     "text": [
      "epoch 202| loss: 0.13587 | train_mse: 0.10277 | train_mae: 0.23234 |  0:01:18s\n"
     ]
    },
    {
     "name": "stdout",
     "output_type": "stream",
     "text": [
      "epoch 203| loss: 0.10977 | train_mse: 0.08084 | train_mae: 0.20944 |  0:01:18s\n"
     ]
    },
    {
     "name": "stdout",
     "output_type": "stream",
     "text": [
      "epoch 204| loss: 0.11235 | train_mse: 0.08376 | train_mae: 0.21027 |  0:01:19s\n"
     ]
    },
    {
     "name": "stdout",
     "output_type": "stream",
     "text": [
      "epoch 205| loss: 0.09396 | train_mse: 0.07885 | train_mae: 0.20403 |  0:01:19s\n"
     ]
    },
    {
     "name": "stdout",
     "output_type": "stream",
     "text": [
      "epoch 206| loss: 0.12122 | train_mse: 0.0895  | train_mae: 0.22174 |  0:01:19s\n"
     ]
    },
    {
     "name": "stdout",
     "output_type": "stream",
     "text": [
      "epoch 207| loss: 0.11919 | train_mse: 0.08406 | train_mae: 0.20588 |  0:01:20s\n"
     ]
    },
    {
     "name": "stdout",
     "output_type": "stream",
     "text": [
      "epoch 208| loss: 0.10814 | train_mse: 0.06591 | train_mae: 0.1936  |  0:01:20s\n"
     ]
    },
    {
     "name": "stdout",
     "output_type": "stream",
     "text": [
      "epoch 209| loss: 0.09952 | train_mse: 0.05868 | train_mae: 0.18233 |  0:01:20s\n"
     ]
    },
    {
     "name": "stdout",
     "output_type": "stream",
     "text": [
      "epoch 210| loss: 0.10563 | train_mse: 0.07242 | train_mae: 0.19448 |  0:01:21s\n"
     ]
    },
    {
     "name": "stdout",
     "output_type": "stream",
     "text": [
      "epoch 211| loss: 0.1     | train_mse: 0.06539 | train_mae: 0.18708 |  0:01:21s\n"
     ]
    },
    {
     "name": "stdout",
     "output_type": "stream",
     "text": [
      "epoch 212| loss: 0.11533 | train_mse: 0.07988 | train_mae: 0.2041  |  0:01:21s\n"
     ]
    },
    {
     "name": "stdout",
     "output_type": "stream",
     "text": [
      "epoch 213| loss: 0.09925 | train_mse: 0.06129 | train_mae: 0.18471 |  0:01:22s\n"
     ]
    },
    {
     "name": "stdout",
     "output_type": "stream",
     "text": [
      "epoch 214| loss: 0.11978 | train_mse: 0.06503 | train_mae: 0.19029 |  0:01:22s\n"
     ]
    },
    {
     "name": "stdout",
     "output_type": "stream",
     "text": [
      "epoch 215| loss: 0.11971 | train_mse: 0.09152 | train_mae: 0.22356 |  0:01:23s\n"
     ]
    },
    {
     "name": "stdout",
     "output_type": "stream",
     "text": [
      "epoch 216| loss: 0.09332 | train_mse: 0.06239 | train_mae: 0.18986 |  0:01:23s\n"
     ]
    },
    {
     "name": "stdout",
     "output_type": "stream",
     "text": [
      "epoch 217| loss: 0.10005 | train_mse: 0.06879 | train_mae: 0.19186 |  0:01:23s\n"
     ]
    },
    {
     "name": "stdout",
     "output_type": "stream",
     "text": [
      "epoch 218| loss: 0.09817 | train_mse: 0.085   | train_mae: 0.21255 |  0:01:24s\n"
     ]
    },
    {
     "name": "stdout",
     "output_type": "stream",
     "text": [
      "epoch 219| loss: 0.16209 | train_mse: 0.08983 | train_mae: 0.21876 |  0:01:24s\n"
     ]
    },
    {
     "name": "stdout",
     "output_type": "stream",
     "text": [
      "epoch 220| loss: 0.13529 | train_mse: 0.05391 | train_mae: 0.17371 |  0:01:24s\n"
     ]
    },
    {
     "name": "stdout",
     "output_type": "stream",
     "text": [
      "epoch 221| loss: 0.08836 | train_mse: 0.05611 | train_mae: 0.17906 |  0:01:25s\n"
     ]
    },
    {
     "name": "stdout",
     "output_type": "stream",
     "text": [
      "epoch 222| loss: 0.11504 | train_mse: 0.07034 | train_mae: 0.19688 |  0:01:25s\n"
     ]
    },
    {
     "name": "stdout",
     "output_type": "stream",
     "text": [
      "epoch 223| loss: 0.12107 | train_mse: 0.06929 | train_mae: 0.19914 |  0:01:25s\n"
     ]
    },
    {
     "name": "stdout",
     "output_type": "stream",
     "text": [
      "epoch 224| loss: 0.09677 | train_mse: 0.07296 | train_mae: 0.20135 |  0:01:26s\n"
     ]
    },
    {
     "name": "stdout",
     "output_type": "stream",
     "text": [
      "epoch 225| loss: 0.11359 | train_mse: 0.07491 | train_mae: 0.20914 |  0:01:26s\n"
     ]
    },
    {
     "name": "stdout",
     "output_type": "stream",
     "text": [
      "epoch 226| loss: 0.13512 | train_mse: 0.07066 | train_mae: 0.19643 |  0:01:27s\n"
     ]
    },
    {
     "name": "stdout",
     "output_type": "stream",
     "text": [
      "epoch 227| loss: 0.09002 | train_mse: 0.06077 | train_mae: 0.18424 |  0:01:27s\n"
     ]
    },
    {
     "name": "stdout",
     "output_type": "stream",
     "text": [
      "epoch 228| loss: 0.09753 | train_mse: 0.05801 | train_mae: 0.18169 |  0:01:27s\n"
     ]
    },
    {
     "name": "stdout",
     "output_type": "stream",
     "text": [
      "epoch 229| loss: 0.14473 | train_mse: 0.06869 | train_mae: 0.19332 |  0:01:28s\n"
     ]
    },
    {
     "name": "stdout",
     "output_type": "stream",
     "text": [
      "epoch 230| loss: 0.08982 | train_mse: 0.06324 | train_mae: 0.18262 |  0:01:28s\n"
     ]
    },
    {
     "name": "stdout",
     "output_type": "stream",
     "text": [
      "epoch 231| loss: 0.11544 | train_mse: 0.05981 | train_mae: 0.18164 |  0:01:28s\n"
     ]
    },
    {
     "name": "stdout",
     "output_type": "stream",
     "text": [
      "epoch 232| loss: 0.09558 | train_mse: 0.06005 | train_mae: 0.18491 |  0:01:29s\n"
     ]
    },
    {
     "name": "stdout",
     "output_type": "stream",
     "text": [
      "epoch 233| loss: 0.10713 | train_mse: 0.05587 | train_mae: 0.18    |  0:01:29s\n"
     ]
    },
    {
     "name": "stdout",
     "output_type": "stream",
     "text": [
      "epoch 234| loss: 0.11817 | train_mse: 0.07159 | train_mae: 0.20187 |  0:01:29s\n"
     ]
    },
    {
     "name": "stdout",
     "output_type": "stream",
     "text": [
      "epoch 235| loss: 0.11122 | train_mse: 0.06329 | train_mae: 0.1902  |  0:01:30s\n"
     ]
    },
    {
     "name": "stdout",
     "output_type": "stream",
     "text": [
      "epoch 236| loss: 0.11425 | train_mse: 0.07642 | train_mae: 0.20731 |  0:01:30s\n"
     ]
    },
    {
     "name": "stdout",
     "output_type": "stream",
     "text": [
      "epoch 237| loss: 0.09364 | train_mse: 0.06902 | train_mae: 0.19739 |  0:01:31s\n"
     ]
    },
    {
     "name": "stdout",
     "output_type": "stream",
     "text": [
      "epoch 238| loss: 0.1144  | train_mse: 0.08326 | train_mae: 0.19141 |  0:01:31s\n"
     ]
    },
    {
     "name": "stdout",
     "output_type": "stream",
     "text": [
      "epoch 239| loss: 0.11038 | train_mse: 0.06905 | train_mae: 0.18671 |  0:01:32s\n"
     ]
    },
    {
     "name": "stdout",
     "output_type": "stream",
     "text": [
      "epoch 240| loss: 0.09452 | train_mse: 0.06675 | train_mae: 0.19442 |  0:01:32s\n"
     ]
    },
    {
     "name": "stdout",
     "output_type": "stream",
     "text": [
      "epoch 241| loss: 0.1013  | train_mse: 0.06623 | train_mae: 0.19427 |  0:01:32s\n"
     ]
    },
    {
     "name": "stdout",
     "output_type": "stream",
     "text": [
      "epoch 242| loss: 0.09828 | train_mse: 0.05423 | train_mae: 0.17922 |  0:01:33s\n"
     ]
    },
    {
     "name": "stdout",
     "output_type": "stream",
     "text": [
      "epoch 243| loss: 0.11707 | train_mse: 0.08581 | train_mae: 0.20591 |  0:01:33s\n"
     ]
    },
    {
     "name": "stdout",
     "output_type": "stream",
     "text": [
      "epoch 244| loss: 0.09993 | train_mse: 0.0818  | train_mae: 0.19372 |  0:01:33s\n"
     ]
    },
    {
     "name": "stdout",
     "output_type": "stream",
     "text": [
      "epoch 245| loss: 0.10591 | train_mse: 0.06923 | train_mae: 0.19735 |  0:01:34s\n"
     ]
    },
    {
     "name": "stdout",
     "output_type": "stream",
     "text": [
      "epoch 246| loss: 0.10095 | train_mse: 0.05546 | train_mae: 0.17668 |  0:01:34s\n"
     ]
    },
    {
     "name": "stdout",
     "output_type": "stream",
     "text": [
      "epoch 247| loss: 0.1097  | train_mse: 0.0565  | train_mae: 0.17736 |  0:01:35s\n"
     ]
    },
    {
     "name": "stdout",
     "output_type": "stream",
     "text": [
      "epoch 248| loss: 0.09851 | train_mse: 0.05502 | train_mae: 0.18174 |  0:01:35s\n"
     ]
    },
    {
     "name": "stdout",
     "output_type": "stream",
     "text": [
      "epoch 249| loss: 0.10573 | train_mse: 0.06601 | train_mae: 0.19085 |  0:01:35s\n"
     ]
    },
    {
     "name": "stdout",
     "output_type": "stream",
     "text": [
      "epoch 250| loss: 0.12009 | train_mse: 0.07148 | train_mae: 0.19835 |  0:01:36s\n"
     ]
    },
    {
     "name": "stdout",
     "output_type": "stream",
     "text": [
      "epoch 251| loss: 0.13359 | train_mse: 0.06536 | train_mae: 0.19439 |  0:01:36s\n"
     ]
    },
    {
     "name": "stdout",
     "output_type": "stream",
     "text": [
      "epoch 252| loss: 0.11179 | train_mse: 0.07389 | train_mae: 0.20672 |  0:01:36s\n"
     ]
    },
    {
     "name": "stdout",
     "output_type": "stream",
     "text": [
      "epoch 253| loss: 0.09365 | train_mse: 0.06651 | train_mae: 0.19746 |  0:01:37s\n"
     ]
    },
    {
     "name": "stdout",
     "output_type": "stream",
     "text": [
      "epoch 254| loss: 0.12518 | train_mse: 0.07734 | train_mae: 0.2089  |  0:01:37s\n"
     ]
    },
    {
     "name": "stdout",
     "output_type": "stream",
     "text": [
      "epoch 255| loss: 0.10892 | train_mse: 0.06468 | train_mae: 0.19398 |  0:01:37s\n"
     ]
    },
    {
     "name": "stdout",
     "output_type": "stream",
     "text": [
      "epoch 256| loss: 0.08327 | train_mse: 0.05104 | train_mae: 0.17508 |  0:01:38s\n"
     ]
    },
    {
     "name": "stdout",
     "output_type": "stream",
     "text": [
      "epoch 257| loss: 0.10179 | train_mse: 0.0526  | train_mae: 0.1799  |  0:01:38s\n"
     ]
    },
    {
     "name": "stdout",
     "output_type": "stream",
     "text": [
      "epoch 258| loss: 0.08396 | train_mse: 0.05863 | train_mae: 0.18771 |  0:01:38s\n"
     ]
    },
    {
     "name": "stdout",
     "output_type": "stream",
     "text": [
      "epoch 259| loss: 0.1071  | train_mse: 0.05767 | train_mae: 0.18552 |  0:01:39s\n"
     ]
    },
    {
     "name": "stdout",
     "output_type": "stream",
     "text": [
      "epoch 260| loss: 0.09865 | train_mse: 0.05879 | train_mae: 0.18321 |  0:01:39s\n"
     ]
    },
    {
     "name": "stdout",
     "output_type": "stream",
     "text": [
      "epoch 261| loss: 0.11053 | train_mse: 0.05375 | train_mae: 0.17857 |  0:01:39s\n"
     ]
    },
    {
     "name": "stdout",
     "output_type": "stream",
     "text": [
      "epoch 262| loss: 0.11425 | train_mse: 0.06217 | train_mae: 0.18836 |  0:01:40s\n"
     ]
    },
    {
     "name": "stdout",
     "output_type": "stream",
     "text": [
      "epoch 263| loss: 0.13271 | train_mse: 0.06493 | train_mae: 0.18988 |  0:01:40s\n"
     ]
    },
    {
     "name": "stdout",
     "output_type": "stream",
     "text": [
      "epoch 264| loss: 0.09401 | train_mse: 0.05722 | train_mae: 0.17753 |  0:01:41s\n"
     ]
    },
    {
     "name": "stdout",
     "output_type": "stream",
     "text": [
      "epoch 265| loss: 0.11828 | train_mse: 0.05559 | train_mae: 0.17637 |  0:01:41s\n"
     ]
    },
    {
     "name": "stdout",
     "output_type": "stream",
     "text": [
      "epoch 266| loss: 0.11373 | train_mse: 0.05977 | train_mae: 0.18315 |  0:01:41s\n"
     ]
    },
    {
     "name": "stdout",
     "output_type": "stream",
     "text": [
      "epoch 267| loss: 0.10752 | train_mse: 0.06517 | train_mae: 0.19268 |  0:01:42s\n"
     ]
    },
    {
     "name": "stdout",
     "output_type": "stream",
     "text": [
      "epoch 268| loss: 0.09943 | train_mse: 0.05608 | train_mae: 0.17853 |  0:01:42s\n"
     ]
    },
    {
     "name": "stdout",
     "output_type": "stream",
     "text": [
      "epoch 269| loss: 0.11668 | train_mse: 0.06019 | train_mae: 0.18415 |  0:01:42s\n"
     ]
    },
    {
     "name": "stdout",
     "output_type": "stream",
     "text": [
      "epoch 270| loss: 0.09314 | train_mse: 0.08219 | train_mae: 0.19906 |  0:01:43s\n",
      "\n",
      "Early stopping occurred at epoch 270 with best_epoch = 220 and best_train_mae = 0.17371\n",
      "Best weights from best epoch are automatically used!\n"
     ]
    }
   ],
   "source": [
    "#Train the Model\n",
    "\n",
    "Y_train = np.reshape(Y_train, (-1, 1))\n",
    "Y_test = np.reshape(Y_test, (-1, 1))\n",
    "\n",
    "prior_model = TabNetRegressor(optimizer_fn=torch.optim.Adam, optimizer_params=dict(lr = 0.01),\n",
    "          #scheduler_params={\"step_size\":10, ], \"gamma\":0.9},\n",
    "          #scheduler_fn=torch.optim.lr_scheduler.StepLR\n",
    "          )  #TabNetRegressor()\n",
    "\n",
    "prior_model.fit(X_train,Y_train,eval_set=[(X_train, Y_train)],\n",
    "            eval_name=['train'], \n",
    "            eval_metric=[ 'mse', 'mae'], \n",
    "            max_epochs = n_epochs, \n",
    "            batch_size = batch_size,\n",
    "            patience=50\n",
    "            )"
   ]
  },
  {
   "cell_type": "code",
   "execution_count": 10,
   "id": "af65dcda",
   "metadata": {
    "execution": {
     "iopub.execute_input": "2022-07-22T09:44:03.119114Z",
     "iopub.status.busy": "2022-07-22T09:44:03.118328Z",
     "iopub.status.idle": "2022-07-22T09:44:03.196159Z",
     "shell.execute_reply": "2022-07-22T09:44:03.195402Z"
    },
    "id": "af65dcda",
    "papermill": {
     "duration": 0.120659,
     "end_time": "2022-07-22T09:44:03.200546",
     "exception": false,
     "start_time": "2022-07-22T09:44:03.079887",
     "status": "completed"
    },
    "tags": []
   },
   "outputs": [
    {
     "data": {
      "application/scrapbook.scrap.json+json": {
       "data": 0.2944012999822406,
       "encoder": "json",
       "name": "Prior Model MSE",
       "version": 1
      }
     },
     "metadata": {
      "scrapbook": {
       "data": true,
       "display": false,
       "name": "Prior Model MSE"
      }
     },
     "output_type": "display_data"
    },
    {
     "data": {
      "application/scrapbook.scrap.json+json": {
       "data": 1.3891762901472706,
       "encoder": "json",
       "name": "ABC Pre-generator MSE",
       "version": 1
      }
     },
     "metadata": {
      "scrapbook": {
       "data": true,
       "display": false,
       "name": "ABC Pre-generator MSE"
      }
     },
     "output_type": "display_data"
    },
    {
     "data": {
      "application/scrapbook.scrap.json+json": {
       "data": 0.27183879021962587,
       "encoder": "json",
       "name": "Prior Model MAE",
       "version": 1
      }
     },
     "metadata": {
      "scrapbook": {
       "data": true,
       "display": false,
       "name": "Prior Model MAE"
      }
     },
     "output_type": "display_data"
    },
    {
     "name": "stdout",
     "output_type": "stream",
     "text": [
      "Prior Model MAE 0.27183879021962587\n"
     ]
    },
    {
     "data": {
      "application/scrapbook.scrap.json+json": {
       "data": 1.086393380919631,
       "encoder": "json",
       "name": "ABC Pre-generator MAE",
       "version": 1
      }
     },
     "metadata": {
      "scrapbook": {
       "data": true,
       "display": false,
       "name": "ABC Pre-generator MAE"
      }
     },
     "output_type": "display_data"
    },
    {
     "name": "stdout",
     "output_type": "stream",
     "text": [
      "ABC Pre-generator MAE 1.086393380919631\n"
     ]
    }
   ],
   "source": [
    "y_pred = prior_model.predict(X_test)\n",
    "y_abc = y_pred + np.random.normal(0,variance, y_pred.shape) + bias \n",
    "mse = mean_squared_error(y_pred,Y_test)\n",
    "sb.glue(\"Prior Model MSE\",mse)\n",
    "mse = mean_squared_error(y_abc,Y_test)\n",
    "sb.glue(\"ABC Pre-generator MSE\",mse)\n",
    "mae = mean_absolute_error(y_pred,Y_test)\n",
    "sb.glue(\"Prior Model MAE\",mae)\n",
    "print(\"Prior Model MAE\",mae)\n",
    "mae = mean_absolute_error(y_abc,Y_test)\n",
    "sb.glue(\"ABC Pre-generator MAE\",mae)\n",
    "print(\"ABC Pre-generator MAE\",mae)"
   ]
  },
  {
   "cell_type": "markdown",
   "id": "25609da2",
   "metadata": {
    "papermill": {
     "duration": 0.041437,
     "end_time": "2022-07-22T09:44:03.272304",
     "exception": false,
     "start_time": "2022-07-22T09:44:03.230867",
     "status": "completed"
    },
    "tags": []
   },
   "source": [
    "# mGAN Model"
   ]
  },
  {
   "cell_type": "code",
   "execution_count": 11,
   "id": "dfc3464d",
   "metadata": {
    "execution": {
     "iopub.execute_input": "2022-07-22T09:44:03.330452Z",
     "iopub.status.busy": "2022-07-22T09:44:03.329934Z",
     "iopub.status.idle": "2022-07-22T09:44:03.338687Z",
     "shell.execute_reply": "2022-07-22T09:44:03.337226Z"
    },
    "papermill": {
     "duration": 0.041633,
     "end_time": "2022-07-22T09:44:03.342344",
     "exception": false,
     "start_time": "2022-07-22T09:44:03.300711",
     "status": "completed"
    },
    "tags": []
   },
   "outputs": [],
   "source": [
    "gen = network.Generator(n_features+1).to(device)\n",
    "disc = network.Discriminator(n_features+1).to(device)\n",
    "\n",
    "criterion = torch.nn.BCELoss()\n",
    "gen_opt = torch.optim.Adam(gen.parameters(), lr=0.01, betas=(0.5, 0.999))\n",
    "disc_opt = torch.optim.Adam(disc.parameters(), lr=0.01, betas=(0.5, 0.999))"
   ]
  },
  {
   "cell_type": "code",
   "execution_count": 12,
   "id": "b75fdd85",
   "metadata": {
    "execution": {
     "iopub.execute_input": "2022-07-22T09:44:03.444682Z",
     "iopub.status.busy": "2022-07-22T09:44:03.444236Z",
     "iopub.status.idle": "2022-07-22T09:48:00.142008Z",
     "shell.execute_reply": "2022-07-22T09:48:00.140331Z"
    },
    "papermill": {
     "duration": 236.777289,
     "end_time": "2022-07-22T09:48:00.144901",
     "exception": false,
     "start_time": "2022-07-22T09:44:03.367612",
     "status": "completed"
    },
    "tags": []
   },
   "outputs": [
    {
     "data": {
      "image/png": "[encoded data removed]",
      "text/plain": [
       "<Figure size 432x288 with 1 Axes>"
      ]
     },
     "metadata": {
      "needs_background": "light"
     },
     "output_type": "display_data"
    },
    {
     "data": {
      "image/png": "[encoded data removed]",
      "text/plain": [
       "<Figure size 432x288 with 1 Axes>"
      ]
     },
     "metadata": {
      "needs_background": "light"
     },
     "output_type": "display_data"
    }
   ],
   "source": [
    "#Training the ABC_GAN \n",
    "ABC_train_test2.training_GAN(disc,gen,disc_opt,gen_opt,train_data,batch_size,n_epochs,criterion,prior_model,variance,bias,device)"
   ]
  },
  {
   "cell_type": "code",
   "execution_count": 13,
   "id": "1fa7c368",
   "metadata": {
    "execution": {
     "iopub.execute_input": "2022-07-22T09:48:00.220579Z",
     "iopub.status.busy": "2022-07-22T09:48:00.219507Z",
     "iopub.status.idle": "2022-07-22T09:48:02.983789Z",
     "shell.execute_reply": "2022-07-22T09:48:02.982069Z"
    },
    "papermill": {
     "duration": 2.81139,
     "end_time": "2022-07-22T09:48:02.986868",
     "exception": false,
     "start_time": "2022-07-22T09:48:00.175478",
     "status": "completed"
    },
    "tags": []
   },
   "outputs": [
    {
     "data": {
      "application/scrapbook.scrap.json+json": {
       "data": 0.3611128120714309,
       "encoder": "json",
       "name": "ABC-GAN Model 1 MSE",
       "version": 1
      }
     },
     "metadata": {
      "scrapbook": {
       "data": true,
       "display": false,
       "name": "ABC-GAN Model 1 MSE"
      }
     },
     "output_type": "display_data"
    },
    {
     "data": {
      "application/scrapbook.scrap.json+json": {
       "data": 0.39827840272154585,
       "encoder": "json",
       "name": "ABC-GAN Model 1 MAE",
       "version": 1
      }
     },
     "metadata": {
      "scrapbook": {
       "data": true,
       "display": false,
       "name": "ABC-GAN Model 1 MAE"
      }
     },
     "output_type": "display_data"
    },
    {
     "data": {
      "application/scrapbook.scrap.json+json": {
       "data": 40.62439707759768,
       "encoder": "json",
       "name": "ABC-GAN Model 1 Manhattan Distance",
       "version": 1
      }
     },
     "metadata": {
      "scrapbook": {
       "data": true,
       "display": false,
       "name": "ABC-GAN Model 1 Manhattan Distance"
      }
     },
     "output_type": "display_data"
    },
    {
     "data": {
      "application/scrapbook.scrap.json+json": {
       "data": 6.0690492696532266,
       "encoder": "json",
       "name": "ABC-GAN Model 1 Euclidean distance",
       "version": 1
      }
     },
     "metadata": {
      "scrapbook": {
       "data": true,
       "display": false,
       "name": "ABC-GAN Model 1 Euclidean distance"
      }
     },
     "output_type": "display_data"
    },
    {
     "data": {
      "application/scrapbook.scrap.json+json": {
       "data": [
        [
         0.3584725251359796,
         0.3602466956364745,
         0.35952643488553115,
         0.3596986927779976,
         0.36101370504202707,
         0.36371074608977894,
         0.3625433347113057,
         0.3619131518880686,
         0.3615679917930594,
         0.36134409917888355,
         0.3586709232564451,
         0.36141639029963785,
         0.35992243559878817,
         0.3607037181928746,
         0.35979120737835296,
         0.36312419824304404,
         0.36263736211683906,
         0.3625331265263116,
         0.3624076852542915,
         0.36328351905658807,
         0.36100194519204765,
         0.3613802403673467,
         0.3610709452172817,
         0.3620089301193046,
         0.36177807886921587,
         0.3608892635964926,
         0.36157738274921225,
         0.36042229749260984,
         0.36089113133803996,
         0.35967012361609324,
         0.36207102833725024,
         0.3610758063023645,
         0.36138853304251217,
         0.3606294955079402,
         0.35993386187335774,
         0.3614387486058068,
         0.35944673141867894,
         0.36171435129475354,
         0.35991461066241176,
         0.3603704874218804,
         0.3608459477921475,
         0.35809219504953393,
         0.35966586843821063,
         0.36152537195259726,
         0.36075597699652157,
         0.3632537150587867,
         0.3597326720505326,
         0.36449708481308246,
         0.3602922268064418,
         0.3620860355533763,
         0.3619713802471291,
         0.36432145594284604,
         0.35849847399413737,
         0.36303584037862996,
         0.36009955303635627,
         0.36109253227659743,
         0.36361575851632,
         0.36069373345682737,
         0.3606947178956502,
         0.3633861972063061,
         0.36245076596505355,
         0.36103140754791496,
         0.35921081419969464,
         0.3628149694391617,
         0.3601507050028856,
         0.3605981063048496,
         0.3600272968082766,
         0.358402189564164,
         0.36204942832160436,
         0.36169179769912946,
         0.3589809446150226,
         0.36268842805229895,
         0.3637990072090394,
         0.3617977190930668,
         0.36272707111740654,
         0.35802508974127745,
         0.361687543592413,
         0.36085954034443823,
         0.3627401824102639,
         0.3615013847631044,
         0.36025956539311893,
         0.36153100170398433,
         0.36070796818340534,
         0.3611012656441254,
         0.36019589058430473,
         0.3605452802515918,
         0.3619265384210375,
         0.36165598759654,
         0.3608933128633649,
         0.36164307725788825,
         0.3580129671709275,
         0.3573955940677583,
         0.36222100809827706,
         0.3603000030806808,
         0.3600587009932411,
         0.3610315452015932,
         0.36038106796410685,
         0.3614510296984848,
         0.36209541367131737,
         0.3632809239573661
        ],
        [
         0.3964751446163099,
         0.3975849219999623,
         0.3974815405923508,
         0.3977858908565752,
         0.3985622644734879,
         0.3991252017463101,
         0.399232619104213,
         0.39914961591107295,
         0.39904380696551767,
         0.3983013814077804,
         0.397307112858649,
         0.3992397548977797,
         0.39862605232708886,
         0.39886908230426554,
         0.39655308006331325,
         0.3989802569096141,
         0.3982814439462827,
         0.39887479631522416,
         0.3984222389921984,
         0.39998257241449225,
         0.39749741792569265,
         0.3994446066390796,
         0.3980631535854556,
         0.3983012004390213,
         0.3983974557680388,
         0.39875257750242654,
         0.39830900112386136,
         0.3977410148043989,
         0.39780816696036386,
         0.397696134113871,
         0.3991591738372603,
         0.3978536459252092,
         0.39777228602336023,
         0.3984942674801192,
         0.3977576955586818,
         0.39846028067062006,
         0.3976498165569615,
         0.39847914199801343,
         0.3965149754567035,
         0.3983188968097024,
         0.3974629016501792,
         0.39707781930508856,
         0.39768517533244163,
         0.39806587063689153,
         0.397960256794285,
         0.3990976401495145,
         0.39882687169729786,
         0.3998198056063962,
         0.398062033259182,
         0.3984894312498178,
         0.39893842752402026,
         0.3998880701997847,
         0.3977249969326544,
         0.3993878737548549,
         0.3982124756747747,
         0.3981865125196968,
         0.3988894692110811,
         0.39887531135486914,
         0.39829400441992807,
         0.3992560728745279,
         0.3990999027520564,
         0.39878053299388755,
         0.39708914440673065,
         0.39844222276416774,
         0.3972157838608266,
         0.39838058188301967,
         0.3979182481930098,
         0.39647575622132303,
         0.3985894257476663,
         0.39838563260969284,
         0.3976003485366556,
         0.3990386858600758,
         0.39969838203350994,
         0.398801834751651,
         0.3993890743940046,
         0.3966463995348735,
         0.39822281901633333,
         0.3984615912058336,
         0.39846961066017256,
         0.3981738150138043,
         0.397859780127,
         0.3988532102301571,
         0.3975450320297158,
         0.39850739335787355,
         0.3971475141177721,
         0.3979646960985573,
         0.39813800942262306,
         0.3975796668571146,
         0.39838172112792436,
         0.39813413475548814,
         0.39743757551974235,
         0.39657513107921855,
         0.3990641024931535,
         0.3968321901344347,
         0.39829823682449905,
         0.399346413282568,
         0.39744076268820494,
         0.3987015543925558,
         0.3984740877286622,
         0.4001285594194105
        ],
        [
         40.44046475086361,
         40.553662043996155,
         40.54311714041978,
         40.574160867370665,
         40.65335097629577,
         40.71077057812363,
         40.721727148629725,
         40.71326082292944,
         40.7024683104828,
         40.6267409035936,
         40.525325511582196,
         40.72245499957353,
         40.659857337363064,
         40.68464639503509,
         40.44841416645795,
         40.69598620478064,
         40.62470728252083,
         40.68522922415286,
         40.63906837720424,
         40.79822238627821,
         40.54473662842065,
         40.74334987718612,
         40.60244166571647,
         40.62672244478017,
         40.63654048833996,
         40.67276290524751,
         40.62751811463386,
         40.56958351004869,
         40.576433029957116,
         40.56500567961484,
         40.71423573140055,
         40.58107188437134,
         40.572773174382746,
         40.64641528297216,
         40.57128494698554,
         40.642948628403246,
         40.560281288810074,
         40.64487248379737,
         40.44452749658376,
         40.628527474589646,
         40.541215968318284,
         40.501937569119036,
         40.56388788390905,
         40.60271880496293,
         40.591946193017066,
         40.707959295250475,
         40.68034091312438,
         40.78162017185241,
         40.602327392436564,
         40.645921987481415,
         40.69171960745007,
         40.78858316037804,
         40.56794968713075,
         40.7375631229952,
         40.61767251882702,
         40.61502427700907,
         40.68672585953027,
         40.68528175819665,
         40.625988450832665,
         40.72411943320185,
         40.708190080709755,
         40.67561436537653,
         40.503092729486525,
         40.64110672194511,
         40.516009953804314,
         40.63481935206801,
         40.587661315687,
         40.44052713457495,
         40.65612142626196,
         40.63533452618867,
         40.55523555073887,
         40.70194595772773,
         40.769234967418015,
         40.6777871446684,
         40.73768558818847,
         40.4579327525571,
         40.618727539666,
         40.643082302995026,
         40.6439002873376,
         40.613729131408036,
         40.581697572954,
         40.68302744347602,
         40.549593267031014,
         40.6477541225031,
         40.50904644001275,
         40.592399002052844,
         40.61007696110755,
         40.55312601942569,
         40.63493555504829,
         40.60968174505979,
         40.53863270301372,
         40.45066337008029,
         40.704538454301655,
         40.47688339371234,
         40.6264201560989,
         40.73333415482193,
         40.538957794196904,
         40.66755854804069,
         40.64435694832355,
         40.81311306077987
        ],
        [
         6.046833680850659,
         6.061778860608524,
         6.055716007073332,
         6.057166554037931,
         6.068228564769684,
         6.09085347887777,
         6.081070640977061,
         6.07578319993258,
         6.0728852420321635,
         6.0710047040210835,
         6.048506772101475,
         6.071611961461556,
         6.059050126139938,
         6.065622742610456,
         6.057945456389649,
         6.085940208446883,
         6.081859167714883,
         6.080985027582602,
         6.079932885808669,
         6.087275165767681,
         6.068129729133092,
         6.0713083036088165,
         6.068709616727656,
         6.076587107264163,
         6.074649293964221,
         6.067182615254154,
         6.072964106630274,
         6.0632560843367145,
         6.067198315242388,
         6.056926003249627,
         6.077108267128332,
         6.068750467999255,
         6.071377963060464,
         6.064998643182856,
         6.059146302168523,
         6.071799762656234,
         6.05504472359249,
         6.074114242592484,
         6.058984262033198,
         6.0628202774807525,
         6.066818496938822,
         6.043625062415144,
         6.0568901740660195,
         6.0725273106973265,
         6.066062120819832,
         6.087025458793172,
         6.057452645225905,
         6.097434103861591,
         6.062161919171827,
         6.077234208621911,
         6.076271947930503,
         6.095964936428875,
         6.047052533871523,
         6.085199727093618,
         6.060540768752268,
         6.068891026556082,
         6.0900580759681295,
         6.065538789967168,
         6.065547067277307,
         6.088135356169671,
         6.080294246863014,
         6.068377342411011,
         6.053057330669259,
         6.083348328247733,
         6.060971201902739,
         6.064734688598888,
         6.059932695537484,
         6.046240429849338,
         6.07692699386817,
         6.073924873202762,
         6.051120255847862,
         6.082287370828055,
         6.091592463003579,
         6.074814182136998,
         6.082611384428192,
         6.043058758080239,
         6.073889153287712,
         6.06693276006358,
         6.082721315813088,
         6.072325851421071,
         6.06188713769055,
         6.0725745918684595,
         6.06565847659653,
         6.068964417073212,
         6.061351403738203,
         6.0642904437091705,
         6.075895565177682,
         6.073624184525008,
         6.067216652804084,
         6.0735157759163325,
         6.04295644957289,
         6.037743833164118,
         6.07836678936244,
         6.06222733937201,
         6.060196985355393,
         6.068378499283189,
         6.062909279573536,
         6.071902916651867,
         6.077312909047415,
         6.087253423642828
        ]
       ],
       "encoder": "json",
       "name": "ABC_GAN_1 Metrics",
       "version": 1
      }
     },
     "metadata": {
      "scrapbook": {
       "data": true,
       "display": false,
       "name": "ABC_GAN_1 Metrics"
      }
     },
     "output_type": "display_data"
    },
    {
     "name": "stdout",
     "output_type": "stream",
     "text": [
      "MAE\n",
      "0.39827840272154585\n"
     ]
    }
   ],
   "source": [
    "ABC_GAN1_metrics=ABC_train_test2.test_generator(gen,test_data,prior_model,variance,bias,\"1\",device)\n",
    "sb.glue(\"ABC_GAN_1 Metrics\",ABC_GAN1_metrics)\n",
    "\n",
    "print(\"MAE\")\n",
    "print(mean(ABC_GAN1_metrics[1]))"
   ]
  },
  {
   "cell_type": "code",
   "execution_count": 14,
   "id": "eb22ce5c",
   "metadata": {
    "execution": {
     "iopub.execute_input": "2022-07-22T09:48:03.056151Z",
     "iopub.status.busy": "2022-07-22T09:48:03.055483Z",
     "iopub.status.idle": "2022-07-22T09:48:03.915061Z",
     "shell.execute_reply": "2022-07-22T09:48:03.913909Z"
    },
    "papermill": {
     "duration": 0.902152,
     "end_time": "2022-07-22T09:48:03.917923",
     "exception": false,
     "start_time": "2022-07-22T09:48:03.015771",
     "status": "completed"
    },
    "tags": []
   },
   "outputs": [
    {
     "data": {
      "image/png": "[encoded data removed]",
      "text/plain": [
       "<Figure size 432x288 with 1 Axes>"
      ]
     },
     "metadata": {
      "needs_background": "light"
     },
     "output_type": "display_data"
    },
    {
     "data": {
      "image/png": "[encoded data removed]",
      "text/plain": [
       "<Figure size 432x288 with 1 Axes>"
      ]
     },
     "metadata": {
      "needs_background": "light"
     },
     "output_type": "display_data"
    },
    {
     "data": {
      "image/png": "[encoded data removed]",
      "text/plain": [
       "<Figure size 432x288 with 1 Axes>"
      ]
     },
     "metadata": {
      "needs_background": "light"
     },
     "output_type": "display_data"
    },
    {
     "data": {
      "image/png": "[encoded data removed]",
      "text/plain": [
       "<Figure size 432x288 with 1 Axes>"
      ]
     },
     "metadata": {
      "needs_background": "light"
     },
     "output_type": "display_data"
    }
   ],
   "source": [
    "sanityChecks.discProbVsError(train_data,disc,device)\n",
    "sanityChecks.discProbVsError(test_data,disc,device)"
   ]
  },
  {
   "cell_type": "markdown",
   "id": "57d9a8ce",
   "metadata": {
    "papermill": {
     "duration": 0.042422,
     "end_time": "2022-07-22T09:48:03.991085",
     "exception": false,
     "start_time": "2022-07-22T09:48:03.948663",
     "status": "completed"
    },
    "tags": []
   },
   "source": [
    "# mGAN Model with TabNet Generator"
   ]
  },
  {
   "cell_type": "code",
   "execution_count": 15,
   "id": "cabb860c",
   "metadata": {
    "execution": {
     "iopub.execute_input": "2022-07-22T09:48:04.053849Z",
     "iopub.status.busy": "2022-07-22T09:48:04.053478Z",
     "iopub.status.idle": "2022-07-22T09:48:04.076205Z",
     "shell.execute_reply": "2022-07-22T09:48:04.073492Z"
    },
    "papermill": {
     "duration": 0.0627,
     "end_time": "2022-07-22T09:48:04.083470",
     "exception": false,
     "start_time": "2022-07-22T09:48:04.020770",
     "status": "completed"
    },
    "tags": []
   },
   "outputs": [],
   "source": [
    "gen2 = network.GeneratorTabnet(n_features+1).to(device)\n",
    "disc2 = network.Discriminator(n_features+1).to(device)\n",
    "\n",
    "criterion = torch.nn.BCELoss()\n",
    "gen_opt = torch.optim.Adam(gen2.parameters(), lr=0.01, betas=(0.5, 0.999))\n",
    "disc_opt = torch.optim.Adam(disc2.parameters(), lr=0.01, betas=(0.5, 0.999))"
   ]
  },
  {
   "cell_type": "code",
   "execution_count": 16,
   "id": "6635718a",
   "metadata": {
    "execution": {
     "iopub.execute_input": "2022-07-22T09:48:04.153209Z",
     "iopub.status.busy": "2022-07-22T09:48:04.152515Z",
     "iopub.status.idle": "2022-07-22T09:59:49.678982Z",
     "shell.execute_reply": "2022-07-22T09:59:49.678035Z"
    },
    "papermill": {
     "duration": 705.569114,
     "end_time": "2022-07-22T09:59:49.682155",
     "exception": false,
     "start_time": "2022-07-22T09:48:04.113041",
     "status": "completed"
    },
    "tags": []
   },
   "outputs": [
    {
     "data": {
      "image/png": "[encoded data removed]",
      "text/plain": [
       "<Figure size 432x288 with 1 Axes>"
      ]
     },
     "metadata": {
      "needs_background": "light"
     },
     "output_type": "display_data"
    },
    {
     "data": {
      "image/png": "[encoded data removed]",
      "text/plain": [
       "<Figure size 432x288 with 1 Axes>"
      ]
     },
     "metadata": {
      "needs_background": "light"
     },
     "output_type": "display_data"
    }
   ],
   "source": [
    "#Training the ABC_GAN \n",
    "ABC_train_test2.training_GAN(disc2,gen2,disc_opt,gen_opt,train_data,batch_size,n_epochs,criterion,prior_model,variance,bias,device)"
   ]
  },
  {
   "cell_type": "code",
   "execution_count": 17,
   "id": "04be51c1",
   "metadata": {
    "execution": {
     "iopub.execute_input": "2022-07-22T09:59:49.754782Z",
     "iopub.status.busy": "2022-07-22T09:59:49.753706Z",
     "iopub.status.idle": "2022-07-22T09:59:53.707870Z",
     "shell.execute_reply": "2022-07-22T09:59:53.706443Z"
    },
    "papermill": {
     "duration": 3.997362,
     "end_time": "2022-07-22T09:59:53.710701",
     "exception": false,
     "start_time": "2022-07-22T09:59:49.713339",
     "status": "completed"
    },
    "tags": []
   },
   "outputs": [
    {
     "data": {
      "application/scrapbook.scrap.json+json": {
       "data": 0.35642171823576985,
       "encoder": "json",
       "name": "ABC-GAN Model 1 MSE",
       "version": 1
      }
     },
     "metadata": {
      "scrapbook": {
       "data": true,
       "display": false,
       "name": "ABC-GAN Model 1 MSE"
      }
     },
     "output_type": "display_data"
    },
    {
     "data": {
      "application/scrapbook.scrap.json+json": {
       "data": 0.3016618925049974,
       "encoder": "json",
       "name": "ABC-GAN Model 1 MAE",
       "version": 1
      }
     },
     "metadata": {
      "scrapbook": {
       "data": true,
       "display": false,
       "name": "ABC-GAN Model 1 MAE"
      }
     },
     "output_type": "display_data"
    },
    {
     "data": {
      "application/scrapbook.scrap.json+json": {
       "data": 30.769513035509735,
       "encoder": "json",
       "name": "ABC-GAN Model 1 Manhattan Distance",
       "version": 1
      }
     },
     "metadata": {
      "scrapbook": {
       "data": true,
       "display": false,
       "name": "ABC-GAN Model 1 Manhattan Distance"
      }
     },
     "output_type": "display_data"
    },
    {
     "data": {
      "application/scrapbook.scrap.json+json": {
       "data": 6.029504839454506,
       "encoder": "json",
       "name": "ABC-GAN Model 1 Euclidean distance",
       "version": 1
      }
     },
     "metadata": {
      "scrapbook": {
       "data": true,
       "display": false,
       "name": "ABC-GAN Model 1 Euclidean distance"
      }
     },
     "output_type": "display_data"
    },
    {
     "data": {
      "application/scrapbook.scrap.json+json": {
       "data": [
        [
         0.35583079075383195,
         0.3563846016783567,
         0.35715938305532985,
         0.3547778954484738,
         0.3568962894210217,
         0.3574795792372838,
         0.3562231427418625,
         0.3567279538191291,
         0.3561655250395706,
         0.35599082281173644,
         0.35625459610308036,
         0.3561755803088647,
         0.3581249350919138,
         0.3569467832738231,
         0.35743002242179583,
         0.35619759677544327,
         0.35705254338565845,
         0.3565626368645451,
         0.356161531978586,
         0.355961055949527,
         0.35584525584967613,
         0.3562757878984395,
         0.35780800991682077,
         0.3571868975076688,
         0.35576273129456426,
         0.358154740345315,
         0.3546006458142974,
         0.3574154346202549,
         0.3581706630319739,
         0.35695204196438973,
         0.3560163514536168,
         0.35667233826014827,
         0.3556876889145092,
         0.35584847351182136,
         0.3553421896621657,
         0.356886736162534,
         0.3566611030039081,
         0.3540456079091583,
         0.35567455450180707,
         0.35603748341262675,
         0.35603165773038936,
         0.3571392787063605,
         0.3572585114579162,
         0.3580141008765515,
         0.3570803339109763,
         0.3555399515218128,
         0.3578381969122299,
         0.3559293103809591,
         0.3566526197786234,
         0.3548518521143477,
         0.355658510126111,
         0.3580075843117731,
         0.35693508747275715,
         0.35702678842075103,
         0.35539099914124195,
         0.35900869061284757,
         0.35433950184650803,
         0.35650143552697466,
         0.3566752602081389,
         0.3578504714782036,
         0.35524408323672213,
         0.3568838993212313,
         0.3582404523150326,
         0.3569649463152911,
         0.3556997187484576,
         0.35547054889193863,
         0.3559952805558382,
         0.35701461273037144,
         0.3589258151946622,
         0.35817379022346163,
         0.3572895254834263,
         0.35378854317772035,
         0.3570146918745823,
         0.35357891242299616,
         0.3563125158736972,
         0.35416445775260114,
         0.35668248987354045,
         0.35726194836081115,
         0.35521552181990884,
         0.35598787415407834,
         0.35610496053024204,
         0.35641255662392046,
         0.3565342088121667,
         0.35673499640080253,
         0.35463093826266,
         0.35600746962722285,
         0.3563129607108174,
         0.35768146915877425,
         0.35624623533060495,
         0.3567380643548238,
         0.35548631505992345,
         0.357006474164165,
         0.35501343703449056,
         0.35741143348213317,
         0.35598353074366273,
         0.35380836184206427,
         0.35781823498465004,
         0.35539545261092914,
         0.3566475275261506,
         0.35700942425940513
        ],
        [
         0.3012536377463417,
         0.301196675866331,
         0.301628532627707,
         0.30006181007689414,
         0.30200498241602497,
         0.3015665296994734,
         0.30153769978742095,
         0.30184113731899975,
         0.3023858179301754,
         0.3013979207961729,
         0.29998688159656584,
         0.30286556348095045,
         0.30240563358928935,
         0.3027934142132746,
         0.30245999963588865,
         0.3019558557345733,
         0.3026633541026682,
         0.3026423666571431,
         0.30186211782525857,
         0.30121458205850976,
         0.30093887701228844,
         0.3022050243327577,
         0.30345143798702195,
         0.30187444356909277,
         0.29992174551657896,
         0.30386561203711465,
         0.30176581067087893,
         0.301493087756064,
         0.3002456665568638,
         0.30201411898266156,
         0.30146921072703076,
         0.3014038552931857,
         0.3038456445541598,
         0.30417000784483905,
         0.30050355595006956,
         0.3039235069562553,
         0.3022191070988044,
         0.29789081837653236,
         0.30167207641380966,
         0.30141554017752115,
         0.3024243061321185,
         0.30188072528507487,
         0.3026658391999994,
         0.2997047301911402,
         0.2991350826478618,
         0.3000765032792354,
         0.30218730411291417,
         0.3016711505330807,
         0.30026578995417436,
         0.3019166533725665,
         0.3013168871494047,
         0.3046376457273522,
         0.3040354481313889,
         0.3031928358216058,
         0.300964108330435,
         0.3028686118640882,
         0.30270227783487413,
         0.30247289943965333,
         0.3017366162647365,
         0.30326358686365623,
         0.30131394007955403,
         0.30049305906811474,
         0.30232291085207286,
         0.3015267516340257,
         0.3015063009955281,
         0.2997190705500543,
         0.29940093678477053,
         0.30177061322747784,
         0.30406664323755633,
         0.3022153819180733,
         0.3023475901333286,
         0.30093234088089243,
         0.30342113388264,
         0.2991815803700364,
         0.30113291390714986,
         0.2998930854704596,
         0.3008571251149417,
         0.3017198732761922,
         0.30118564133733217,
         0.29981199813568415,
         0.30175789274896186,
         0.3023313582400043,
         0.3031175259007689,
         0.3027155446893006,
         0.2989818679223604,
         0.3013728765095128,
         0.3024065600543776,
         0.3027166467178248,
         0.30102404722870857,
         0.3015530575523336,
         0.30125657374988873,
         0.3018915141640487,
         0.30076228808063793,
         0.3028880899826832,
         0.30051002900718765,
         0.30207332469267295,
         0.3000965806217316,
         0.2996438637686272,
         0.3019159504614186,
         0.30122210444225106
        ],
        [
         30.72787105012685,
         30.722060938365757,
         30.766110328026116,
         30.6063046278432,
         30.804508206434548,
         30.759786029346287,
         30.75684537831694,
         30.787796006537974,
         30.84335342887789,
         30.742587921209633,
         30.598661922849715,
         30.892287475056946,
         30.845374626107514,
         30.88492824975401,
         30.850919962860644,
         30.799497284926474,
         30.87166211847216,
         30.8695213990286,
         30.789936018176377,
         30.723887369967997,
         30.695765455253422,
         30.824912481941283,
         30.95204667467624,
         30.791193244047463,
         30.592018042691052,
         30.994292427785695,
         30.780112688429654,
         30.75229495111853,
         30.62505798880011,
         30.805440136231482,
         30.749859494157135,
         30.74319323990494,
         30.9922557445243,
         31.02534080017358,
         30.651362706907094,
         31.000197709538043,
         30.826348924078047,
         30.384863474406302,
         30.770551794208586,
         30.74438509810716,
         30.847279225476086,
         30.791833979077637,
         30.871915598399937,
         30.5698824794963,
         30.511778430081904,
         30.607803334482014,
         30.823105019517243,
         30.77045735437423,
         30.627110575325787,
         30.795498644001782,
         30.734322489239275,
         31.073039864189923,
         31.011615709401667,
         30.92566925380379,
         30.698339049704373,
         30.892598410136998,
         30.875632339157164,
         30.85223574284464,
         30.777134859003127,
         30.932885860092938,
         30.734021888114512,
         30.650292024947703,
         30.836936906911433,
         30.75572866667062,
         30.753642701543868,
         30.57134519610554,
         30.538895552046597,
         30.78060254920274,
         31.014797610230744,
         30.825968955643475,
         30.839454193599522,
         30.69509876985103,
         30.948955656029284,
         30.516521197743714,
         30.715557218529284,
         30.58909471798688,
         30.687426761724055,
         30.775427074171603,
         30.720935416407883,
         30.580823809839785,
         30.77930506039411,
         30.837798540480435,
         30.917987641878426,
         30.87698555830866,
         30.49615052808076,
         30.7400334039703,
         30.845469125546515,
         30.877097965218127,
         30.704452817328274,
         30.758411870338023,
         30.728170522488654,
         30.792934444732964,
         30.67775338422507,
         30.894585178233683,
         30.65202295873314,
         30.81147911865264,
         30.609851223416626,
         30.56367410439998,
         30.795426947064698,
         30.72465465310961
        ],
        [
         6.024511652979921,
         6.0291980703234795,
         6.03574826112253,
         6.0155918524900205,
         6.033524800723389,
         6.038453202783222,
         6.027832160874253,
         6.032101730703087,
         6.027344652003583,
         6.025866238707685,
         6.028098274125448,
         6.027429733435654,
         6.043901337660567,
         6.033951598573688,
         6.038034637779346,
         6.0276160188830215,
         6.034845435082589,
         6.030703852800565,
         6.027310864872971,
         6.02561430120214,
         6.024634104795656,
         6.028277562093571,
         6.041226449282935,
         6.0359807443183735,
         6.02393547376178,
         6.044152836851674,
         6.01408894788382,
         6.03791142128352,
         6.044287189508895,
         6.033996045769979,
         6.0260822968383785,
         6.0316314959167645,
         6.023300114495369,
         6.024661343030475,
         6.020374020402794,
         6.033444048682183,
         6.0315364963165585,
         6.0093803346713,
         6.023188902830819,
         6.026261138391525,
         6.0262118356808285,
         6.035578383887394,
         6.036585803971269,
         6.042966017561927,
         6.0350802860375925,
         6.022049074461688,
         6.041481282355136,
         6.025345604930711,
         6.031464765495989,
         6.016218822122701,
         6.023053049149021,
         6.042911020344486,
         6.033852742835312,
         6.034627777992324,
         6.020787482747308,
         6.051354099911064,
         6.01187401633998,
         6.030186267749233,
         6.031656202174505,
         6.0415848989132614,
         6.019542880497294,
         6.0334200691453255,
         6.044876023222752,
         6.034105113781138,
         6.023401971672046,
         6.021461283357863,
         6.02590396676677,
         6.034524877610323,
         6.050655596698222,
         6.0443135758159565,
         6.0368478197905135,
         6.007198299051519,
         6.034525546487263,
         6.00541830908935,
         6.028588277459085,
         6.010388896799051,
         6.031717331498644,
         6.03661484052136,
         6.0193008917673065,
         6.02584128265224,
         6.026832167406413,
         6.029434531997165,
         6.030463439806347,
         6.032161273779228,
         6.0143458250080135,
         6.026007127607528,
         6.028592040642936,
         6.040158098443697,
         6.028027538401073,
         6.032187212296385,
         6.021594816667108,
         6.034456095187438,
         6.0175884353716,
         6.037877625058127,
         6.025804521875365,
         6.0073665534816945,
         6.041312768631856,
         6.0208252064243455,
         6.031421706999715,
         6.034481027765298
        ]
       ],
       "encoder": "json",
       "name": "ABC_GAN_2 Metrics",
       "version": 1
      }
     },
     "metadata": {
      "scrapbook": {
       "data": true,
       "display": false,
       "name": "ABC_GAN_2 Metrics"
      }
     },
     "output_type": "display_data"
    },
    {
     "name": "stdout",
     "output_type": "stream",
     "text": [
      "MAE\n",
      "0.3016618925049974\n"
     ]
    }
   ],
   "source": [
    "ABC_GAN2_metrics=ABC_train_test2.test_generator(gen2,test_data,prior_model,variance,bias,\"1\",device)\n",
    "sb.glue(\"ABC_GAN_2 Metrics\",ABC_GAN2_metrics)\n",
    "\n",
    "print(\"MAE\")\n",
    "print(mean(ABC_GAN2_metrics[1]))"
   ]
  },
  {
   "cell_type": "code",
   "execution_count": 18,
   "id": "3d4ff15c",
   "metadata": {
    "execution": {
     "iopub.execute_input": "2022-07-22T09:59:53.797097Z",
     "iopub.status.busy": "2022-07-22T09:59:53.796617Z",
     "iopub.status.idle": "2022-07-22T09:59:54.899318Z",
     "shell.execute_reply": "2022-07-22T09:59:54.898403Z"
    },
    "papermill": {
     "duration": 1.157877,
     "end_time": "2022-07-22T09:59:54.902302",
     "exception": false,
     "start_time": "2022-07-22T09:59:53.744425",
     "status": "completed"
    },
    "tags": []
   },
   "outputs": [
    {
     "data": {
      "image/png": "[encoded data removed]",
      "text/plain": [
       "<Figure size 432x288 with 1 Axes>"
      ]
     },
     "metadata": {
      "needs_background": "light"
     },
     "output_type": "display_data"
    },
    {
     "data": {
      "image/png": "[encoded data removed]",
      "text/plain": [
       "<Figure size 432x288 with 1 Axes>"
      ]
     },
     "metadata": {
      "needs_background": "light"
     },
     "output_type": "display_data"
    },
    {
     "data": {
      "image/png": "[encoded data removed]",
      "text/plain": [
       "<Figure size 432x288 with 1 Axes>"
      ]
     },
     "metadata": {
      "needs_background": "light"
     },
     "output_type": "display_data"
    },
    {
     "data": {
      "image/png": "[encoded data removed]",
      "text/plain": [
       "<Figure size 432x288 with 1 Axes>"
      ]
     },
     "metadata": {
      "needs_background": "light"
     },
     "output_type": "display_data"
    }
   ],
   "source": [
    "sanityChecks.discProbVsError(train_data,disc2,device)\n",
    "sanityChecks.discProbVsError(test_data,disc2,device)"
   ]
  },
  {
   "cell_type": "markdown",
   "id": "130f3a4d",
   "metadata": {
    "id": "130f3a4d",
    "papermill": {
     "duration": 0.046095,
     "end_time": "2022-07-22T09:59:54.984978",
     "exception": false,
     "start_time": "2022-07-22T09:59:54.938883",
     "status": "completed"
    },
    "tags": []
   },
   "source": [
    "# skipGAN Model"
   ]
  },
  {
   "cell_type": "code",
   "execution_count": 19,
   "id": "4e43dad1",
   "metadata": {
    "execution": {
     "iopub.execute_input": "2022-07-22T09:59:55.061554Z",
     "iopub.status.busy": "2022-07-22T09:59:55.061212Z",
     "iopub.status.idle": "2022-07-22T09:59:55.074106Z",
     "shell.execute_reply": "2022-07-22T09:59:55.072404Z"
    },
    "id": "4e43dad1",
    "papermill": {
     "duration": 0.054863,
     "end_time": "2022-07-22T09:59:55.077484",
     "exception": false,
     "start_time": "2022-07-22T09:59:55.022621",
     "status": "completed"
    },
    "tags": []
   },
   "outputs": [],
   "source": [
    "#Generator\n",
    "gen3 = network.GeneratorWithSkipConnection(n_features+1).to(device)\n",
    "constraints=network.weightConstraint()\n",
    "#Discriminator \n",
    "disc3 = network.Discriminator(n_features+1).to(device)\n",
    "\n",
    "criterion = torch.nn.BCELoss()\n",
    "gen_opt = torch.optim.Adam(gen3.parameters(), lr=0.01, betas=(0.5, 0.999))\n",
    "disc_opt = torch.optim.Adam(disc3.parameters(), lr=0.01, betas=(0.5, 0.999))\n"
   ]
  },
  {
   "cell_type": "code",
   "execution_count": 20,
   "id": "26acbc37",
   "metadata": {
    "execution": {
     "iopub.execute_input": "2022-07-22T09:59:55.164610Z",
     "iopub.status.busy": "2022-07-22T09:59:55.163989Z",
     "iopub.status.idle": "2022-07-22T10:06:54.274970Z",
     "shell.execute_reply": "2022-07-22T10:06:54.273867Z"
    },
    "id": "26acbc37",
    "papermill": {
     "duration": 419.165386,
     "end_time": "2022-07-22T10:06:54.278068",
     "exception": false,
     "start_time": "2022-07-22T09:59:55.112682",
     "status": "completed"
    },
    "tags": []
   },
   "outputs": [
    {
     "data": {
      "image/png": "[encoded data removed]",
      "text/plain": [
       "<Figure size 432x288 with 1 Axes>"
      ]
     },
     "metadata": {
      "needs_background": "light"
     },
     "output_type": "display_data"
    },
    {
     "data": {
      "image/png": "[encoded data removed]",
      "text/plain": [
       "<Figure size 432x288 with 1 Axes>"
      ]
     },
     "metadata": {
      "needs_background": "light"
     },
     "output_type": "display_data"
    }
   ],
   "source": [
    "ABC_train_test2.training_GAN_skip_connection(disc3,gen3,disc_opt,gen_opt,train_data,batch_size,n_epochs,criterion,prior_model,variance,bias,device)"
   ]
  },
  {
   "cell_type": "code",
   "execution_count": 21,
   "id": "c5e0717b",
   "metadata": {
    "execution": {
     "iopub.execute_input": "2022-07-22T10:06:54.368085Z",
     "iopub.status.busy": "2022-07-22T10:06:54.367757Z",
     "iopub.status.idle": "2022-07-22T10:06:58.091148Z",
     "shell.execute_reply": "2022-07-22T10:06:58.090254Z"
    },
    "id": "c5e0717b",
    "papermill": {
     "duration": 3.779247,
     "end_time": "2022-07-22T10:06:58.093909",
     "exception": false,
     "start_time": "2022-07-22T10:06:54.314662",
     "status": "completed"
    },
    "tags": []
   },
   "outputs": [
    {
     "data": {
      "application/scrapbook.scrap.json+json": {
       "data": 0.29248679710967007,
       "encoder": "json",
       "name": "ABC-GAN Model 3 MSE",
       "version": 1
      }
     },
     "metadata": {
      "scrapbook": {
       "data": true,
       "display": false,
       "name": "ABC-GAN Model 3 MSE"
      }
     },
     "output_type": "display_data"
    },
    {
     "data": {
      "application/scrapbook.scrap.json+json": {
       "data": 0.28970355574297263,
       "encoder": "json",
       "name": "ABC-GAN Model 3 MAE",
       "version": 1
      }
     },
     "metadata": {
      "scrapbook": {
       "data": true,
       "display": false,
       "name": "ABC-GAN Model 3 MAE"
      }
     },
     "output_type": "display_data"
    },
    {
     "data": {
      "application/scrapbook.scrap.json+json": {
       "data": 29.549762685783207,
       "encoder": "json",
       "name": "ABC-GAN Model 3 Manhattan Distance",
       "version": 1
      }
     },
     "metadata": {
      "scrapbook": {
       "data": true,
       "display": false,
       "name": "ABC-GAN Model 3 Manhattan Distance"
      }
     },
     "output_type": "display_data"
    },
    {
     "data": {
      "application/scrapbook.scrap.json+json": {
       "data": 5.462014262247373,
       "encoder": "json",
       "name": "ABC-GAN Model 3 Euclidean distance",
       "version": 1
      }
     },
     "metadata": {
      "scrapbook": {
       "data": true,
       "display": false,
       "name": "ABC-GAN Model 3 Euclidean distance"
      }
     },
     "output_type": "display_data"
    },
    {
     "data": {
      "application/scrapbook.scrap.json+json": {
       "data": [
        [
         0.29320645360848424,
         0.29366512263129413,
         0.29195026254831086,
         0.29184657050052953,
         0.2933803415119371,
         0.29273629255249783,
         0.29294247419105973,
         0.29264970679847346,
         0.2919354354546651,
         0.2921728638993805,
         0.2913593655642048,
         0.29172084220646033,
         0.2919180856539466,
         0.29251271071465007,
         0.29282483616997984,
         0.2925976670842488,
         0.2923791723445792,
         0.2937844619057649,
         0.2914902405344818,
         0.2910755689919487,
         0.2932797329792137,
         0.2916502331764435,
         0.29296154023948484,
         0.29306338596618603,
         0.2922730578047899,
         0.29171081344193966,
         0.2926084016736784,
         0.29226467769007036,
         0.2933503194920948,
         0.293925828809324,
         0.29278979327085214,
         0.29269614125244764,
         0.2932093502160232,
         0.29262001912526897,
         0.29320416291981644,
         0.29227742418481856,
         0.2907442691429543,
         0.29226628644458735,
         0.29305837030447174,
         0.29200908886416604,
         0.292188383288084,
         0.29138402996593377,
         0.2918309588078114,
         0.2920267504835076,
         0.29271497925572687,
         0.2909365955672806,
         0.2921798561223952,
         0.29270532196060134,
         0.2941892552857682,
         0.2915683643240154,
         0.2939051026353677,
         0.2931753874819873,
         0.2940492969238388,
         0.2914177777484988,
         0.29266837860399064,
         0.2932012055060948,
         0.2932327826281245,
         0.2922365547328472,
         0.29214046681016725,
         0.2935616609273331,
         0.29244223724629004,
         0.29362023155134814,
         0.2918197785115064,
         0.29213704142781544,
         0.29244083953557903,
         0.292736563356241,
         0.2932919337756564,
         0.2912163905652072,
         0.29257862741651247,
         0.2923431500665988,
         0.2939040939664052,
         0.29166257247172145,
         0.2921770884809995,
         0.2930791395612945,
         0.29226909809297724,
         0.29326855899787624,
         0.2919914421924173,
         0.2926902862829126,
         0.29172343551021096,
         0.29167816629378107,
         0.292002543572055,
         0.29190776110100175,
         0.2939493848666633,
         0.29333902055444067,
         0.2933086610091078,
         0.2924974494916186,
         0.29073962323888963,
         0.29181134131542613,
         0.2929147610405439,
         0.29380085165258235,
         0.2921835824231369,
         0.2924192632544188,
         0.2921286689836821,
         0.29157264576250214,
         0.2926951736748663,
         0.2921786602983253,
         0.2919682373038158,
         0.293490096491182,
         0.29198067000575734,
         0.29129615869873526
        ],
        [
         0.2897172091510512,
         0.29194118759101806,
         0.28927031251620133,
         0.2889847814324586,
         0.29039498729923485,
         0.2894172753645655,
         0.2904424197405723,
         0.2900533571419324,
         0.29096998132801816,
         0.2882445364478318,
         0.28915474466139485,
         0.2890703304597706,
         0.29014358893219455,
         0.2896275421440163,
         0.2899562845499638,
         0.2900608202862535,
         0.2893680182614309,
         0.28996127819204154,
         0.2901474982956607,
         0.28781681673089954,
         0.28967808542188767,
         0.28968826057754604,
         0.2896370447021635,
         0.29058336865558637,
         0.2896365742929572,
         0.2872375656448889,
         0.28948792001670776,
         0.2892758335425135,
         0.29003288353081136,
         0.29126836597809896,
         0.289746215868303,
         0.28973687546985116,
         0.28941797045990825,
         0.2906308209651387,
         0.2897532638253681,
         0.2902095844220443,
         0.289357093957198,
         0.28882071789463654,
         0.2900513636003084,
         0.2895394327465956,
         0.289047022998406,
         0.2892600099702238,
         0.28821538802345886,
         0.2897324404752284,
         0.28895586412217394,
         0.28988977949883715,
         0.28981728593398837,
         0.28920389307370664,
         0.29083215289146586,
         0.28932013060422795,
         0.29118312432375903,
         0.29062953186860563,
         0.2905395802786099,
         0.29036975028358547,
         0.29019929590068905,
         0.2906351455158609,
         0.2898618100192763,
         0.2909538787241806,
         0.2903524810064803,
         0.29142076278324514,
         0.288460671947356,
         0.28923630923507554,
         0.28896235080216737,
         0.289575004447982,
         0.2896396006895777,
         0.2916300688760684,
         0.29070163683454486,
         0.2885435282471864,
         0.2895052383799909,
         0.29145997708809435,
         0.28795799179294823,
         0.2883115420026668,
         0.28828396754996743,
         0.29045074189300923,
         0.29087382004431944,
         0.2912144214371402,
         0.29003824210524853,
         0.28991564382415486,
         0.28943280295888874,
         0.28941337505866793,
         0.28892402180160087,
         0.288900476798196,
         0.29018065980726887,
         0.2891035393044791,
         0.28983764734813106,
         0.2904999583831751,
         0.2897170025800519,
         0.2903757507766725,
         0.2882093936661441,
         0.2886757564767465,
         0.2899309058271933,
         0.29022603179784673,
         0.28975266135096844,
         0.28887420283703535,
         0.28929683775184495,
         0.28898033358193204,
         0.2888382004628725,
         0.28978957328032334,
         0.2888104577147055,
         0.2888736871399862
        ],
        [
         29.551155333407223,
         29.77800113428384,
         29.50557187665254,
         29.476447706110775,
         29.620288704521954,
         29.52056208718568,
         29.625126813538373,
         29.58544242847711,
         29.678938095457852,
         29.400942717678845,
         29.493783955462277,
         29.485173706896603,
         29.594646071083844,
         29.542009298689663,
         29.57554102409631,
         29.586203669197857,
         29.51553786266595,
         29.57605037558824,
         29.59504482615739,
         29.357315306551754,
         29.547164713032544,
         29.548202578909695,
         29.54297855962068,
         29.63950360286981,
         29.542930577881634,
         29.298231695778668,
         29.52776784170419,
         29.506135021336377,
         29.583354120142758,
         29.709373329766095,
         29.554114018566906,
         29.553161297924817,
         29.52063298691064,
         29.64434373844415,
         29.554832910187542,
         29.60137761104852,
         29.514423583634198,
         29.459713225252926,
         29.585239087231457,
         29.533022140152752,
         29.482796345837414,
         29.504521016962826,
         29.397969578392804,
         29.552708928473294,
         29.473498140461743,
         29.56875750888139,
         29.561363165266812,
         29.49879709351808,
         29.664879594929516,
         29.510653321631253,
         29.70067868102342,
         29.644212250597775,
         29.63503718841821,
         29.617714528925717,
         29.60032818187028,
         29.64478484261781,
         29.565904621966183,
         29.67729562986642,
         29.615953062660992,
         29.724917803891003,
         29.422988538630307,
         29.502103541977704,
         29.474159781821072,
         29.536650453694165,
         29.543239270336926,
         29.746267025358975,
         29.651566957123578,
         29.43143988121301,
         29.529534314759076,
         29.728917662985623,
         29.37171516288072,
         29.407777284272015,
         29.404964690096676,
         29.62597567308694,
         29.66912964452058,
         29.7038709865883,
         29.58390069473535,
         29.571395670063794,
         29.522145901806653,
         29.520164255984128,
         29.470250223763287,
         29.467848633415997,
         29.598427300341427,
         29.488561009056866,
         29.563440029509366,
         29.63099575508386,
         29.551134263165295,
         29.618326579220593,
         29.397358153946698,
         29.44492716062814,
         29.572952394373715,
         29.603055243380368,
         29.55477145779878,
         29.465168689377606,
         29.508277450688183,
         29.475994025357068,
         29.461496447212994,
         29.558536474592984,
         29.45866668689996,
         29.46511608827859
        ],
        [
         5.468734613058618,
         5.473010369841446,
         5.457007126615073,
         5.456037957259279,
         5.470356006167933,
         5.4643482539416155,
         5.4662722551559835,
         5.463540069720756,
         5.456868554067968,
         5.459087113953834,
         5.451481934992437,
         5.45486259268361,
         5.456706400082612,
         5.46226111540764,
         5.465174589099413,
         5.463054277837021,
         5.461014152989083,
         5.474122314525682,
         5.4527061661634715,
         5.448826299046314,
         5.469417954762627,
         5.454202396684343,
         5.466450137376855,
         5.467400238554973,
         5.460023067358651,
         5.454768828381075,
         5.463154489003143,
         5.459944791331426,
         5.470076104424295,
         5.475439209648029,
         5.4648475654520245,
         5.4639734999128295,
         5.468761626002211,
         5.463262939926783,
         5.468713250648755,
         5.4600638519024205,
         5.4457245112639825,
         5.4599598182905975,
         5.4673534521792275,
         5.4575568768584475,
         5.459232097592532,
         5.451712671860582,
         5.455892025910773,
         5.457721919383377,
         5.464149328494248,
         5.447525378358747,
         5.459152436457907,
         5.464059190746503,
         5.477892298973059,
         5.4534368210376805,
         5.475246156001345,
         5.468444890749352,
         5.476589110589869,
         5.452028368446634,
         5.463714360909347,
         5.46868567039848,
         5.468980145152174,
         5.459682095392589,
         5.45878444478595,
         5.472046181693642,
         5.461603079602323,
         5.472592038352348,
         5.4557875149398605,
         5.458752442237802,
         5.461590027879158,
         5.464350781413706,
         5.469531720825553,
         5.450144203381331,
         5.462876531323426,
         5.46067773328486,
         5.4752367605952275,
         5.454317775131513,
         5.459126580787621,
         5.467547186376359,
         5.4599860810705065,
         5.469313761138903,
         5.457391969029397,
         5.46391885013468,
         5.454886838610083,
         5.45446358150512,
         5.457495711803134,
         5.456609902888621,
         5.4756586139385695,
         5.46997075829048,
         5.469687689706697,
         5.462118622672441,
         5.44568100152467,
         5.455708644545955,
         5.466013686969277,
         5.474275008488649,
         5.459187247856586,
         5.4613885461438025,
         5.458674219655864,
         5.45347686047857,
         5.463964468665253,
         5.459141264927037,
         5.457175112179305,
         5.47137915356819,
         5.457291300690044,
         5.450890586617107
        ]
       ],
       "encoder": "json",
       "name": "ABC_GAN_3 Metrics",
       "version": 1
      }
     },
     "metadata": {
      "scrapbook": {
       "data": true,
       "display": false,
       "name": "ABC_GAN_3 Metrics"
      }
     },
     "output_type": "display_data"
    },
    {
     "name": "stdout",
     "output_type": "stream",
     "text": [
      "MAE\n",
      "0.28970355574297263\n"
     ]
    }
   ],
   "source": [
    "ABC_GAN3_metrics=ABC_train_test2.test_generator(gen3,test_data,prior_model,variance,bias,\"3\",device)\n",
    "sb.glue(\"ABC_GAN_3 Metrics\",ABC_GAN3_metrics)\n",
    "\n",
    "print(\"MAE\")\n",
    "print(mean(ABC_GAN3_metrics[1]))"
   ]
  },
  {
   "cell_type": "code",
   "execution_count": 22,
   "id": "c8e46b48",
   "metadata": {
    "execution": {
     "iopub.execute_input": "2022-07-22T10:06:58.181993Z",
     "iopub.status.busy": "2022-07-22T10:06:58.181543Z",
     "iopub.status.idle": "2022-07-22T10:06:59.119204Z",
     "shell.execute_reply": "2022-07-22T10:06:59.118007Z"
    },
    "id": "c8e46b48",
    "papermill": {
     "duration": 0.986607,
     "end_time": "2022-07-22T10:06:59.121881",
     "exception": false,
     "start_time": "2022-07-22T10:06:58.135274",
     "status": "completed"
    },
    "tags": []
   },
   "outputs": [
    {
     "data": {
      "image/png": "[encoded data removed]",
      "text/plain": [
       "<Figure size 432x288 with 1 Axes>"
      ]
     },
     "metadata": {
      "needs_background": "light"
     },
     "output_type": "display_data"
    },
    {
     "data": {
      "image/png": "[encoded data removed]",
      "text/plain": [
       "<Figure size 432x288 with 1 Axes>"
      ]
     },
     "metadata": {
      "needs_background": "light"
     },
     "output_type": "display_data"
    },
    {
     "data": {
      "image/png": "[encoded data removed]",
      "text/plain": [
       "<Figure size 432x288 with 1 Axes>"
      ]
     },
     "metadata": {
      "needs_background": "light"
     },
     "output_type": "display_data"
    },
    {
     "data": {
      "image/png": "[encoded data removed]",
      "text/plain": [
       "<Figure size 432x288 with 1 Axes>"
      ]
     },
     "metadata": {
      "needs_background": "light"
     },
     "output_type": "display_data"
    }
   ],
   "source": [
    "sanityChecks.discProbVsError(train_data,disc3,device)\n",
    "sanityChecks.discProbVsError(test_data,disc3,device)"
   ]
  },
  {
   "cell_type": "markdown",
   "id": "e363fff4",
   "metadata": {
    "id": "130f3a4d",
    "papermill": {
     "duration": 0.056369,
     "end_time": "2022-07-22T10:06:59.221722",
     "exception": false,
     "start_time": "2022-07-22T10:06:59.165353",
     "status": "completed"
    },
    "tags": []
   },
   "source": [
    "# skipGAN Model with TabNet Generator"
   ]
  },
  {
   "cell_type": "code",
   "execution_count": 23,
   "id": "d88b4b39",
   "metadata": {
    "execution": {
     "iopub.execute_input": "2022-07-22T10:06:59.308075Z",
     "iopub.status.busy": "2022-07-22T10:06:59.307719Z",
     "iopub.status.idle": "2022-07-22T10:06:59.327622Z",
     "shell.execute_reply": "2022-07-22T10:06:59.325622Z"
    },
    "id": "4e43dad1",
    "papermill": {
     "duration": 0.067706,
     "end_time": "2022-07-22T10:06:59.331703",
     "exception": false,
     "start_time": "2022-07-22T10:06:59.263997",
     "status": "completed"
    },
    "tags": []
   },
   "outputs": [],
   "source": [
    "#Generator\n",
    "gen4 = network.GeneratorTabnetskipConnection(n_features+1).to(device)\n",
    "constraints=network.weightConstraint()\n",
    "#Discriminator \n",
    "disc4 = network.Discriminator(n_features+1).to(device)\n",
    "\n",
    "criterion = torch.nn.BCELoss()\n",
    "gen_opt = torch.optim.Adam(gen4.parameters(), lr=0.01, betas=(0.5, 0.999))\n",
    "disc_opt = torch.optim.Adam(disc4.parameters(), lr=0.01, betas=(0.5, 0.999))\n"
   ]
  },
  {
   "cell_type": "code",
   "execution_count": 24,
   "id": "213f32b8",
   "metadata": {
    "execution": {
     "iopub.execute_input": "2022-07-22T10:06:59.443260Z",
     "iopub.status.busy": "2022-07-22T10:06:59.442132Z",
     "iopub.status.idle": "2022-07-22T10:21:40.908480Z",
     "shell.execute_reply": "2022-07-22T10:21:40.906587Z"
    },
    "id": "26acbc37",
    "papermill": {
     "duration": 881.539531,
     "end_time": "2022-07-22T10:21:40.913267",
     "exception": false,
     "start_time": "2022-07-22T10:06:59.373736",
     "status": "completed"
    },
    "tags": []
   },
   "outputs": [
    {
     "data": {
      "image/png": "[encoded data removed]",
      "text/plain": [
       "<Figure size 432x288 with 1 Axes>"
      ]
     },
     "metadata": {
      "needs_background": "light"
     },
     "output_type": "display_data"
    },
    {
     "data": {
      "image/png": "[encoded data removed]",
      "text/plain": [
       "<Figure size 432x288 with 1 Axes>"
      ]
     },
     "metadata": {
      "needs_background": "light"
     },
     "output_type": "display_data"
    }
   ],
   "source": [
    "ABC_train_test2.training_GAN_skip_connection(disc4,gen4,disc_opt,gen_opt,train_data,batch_size,n_epochs,criterion,prior_model,variance,bias,device)"
   ]
  },
  {
   "cell_type": "code",
   "execution_count": 25,
   "id": "272196b9",
   "metadata": {
    "execution": {
     "iopub.execute_input": "2022-07-22T10:21:41.187199Z",
     "iopub.status.busy": "2022-07-22T10:21:41.185242Z",
     "iopub.status.idle": "2022-07-22T10:21:45.823313Z",
     "shell.execute_reply": "2022-07-22T10:21:45.822456Z"
    },
    "id": "c5e0717b",
    "papermill": {
     "duration": 4.693105,
     "end_time": "2022-07-22T10:21:45.826254",
     "exception": false,
     "start_time": "2022-07-22T10:21:41.133149",
     "status": "completed"
    },
    "tags": []
   },
   "outputs": [
    {
     "data": {
      "application/scrapbook.scrap.json+json": {
       "data": 0.24910188367374086,
       "encoder": "json",
       "name": "ABC-GAN Model 3 MSE",
       "version": 1
      }
     },
     "metadata": {
      "scrapbook": {
       "data": true,
       "display": false,
       "name": "ABC-GAN Model 3 MSE"
      }
     },
     "output_type": "display_data"
    },
    {
     "data": {
      "application/scrapbook.scrap.json+json": {
       "data": 0.2697652874160193,
       "encoder": "json",
       "name": "ABC-GAN Model 3 MAE",
       "version": 1
      }
     },
     "metadata": {
      "scrapbook": {
       "data": true,
       "display": false,
       "name": "ABC-GAN Model 3 MAE"
      }
     },
     "output_type": "display_data"
    },
    {
     "data": {
      "application/scrapbook.scrap.json+json": {
       "data": 27.516059316433967,
       "encoder": "json",
       "name": "ABC-GAN Model 3 Manhattan Distance",
       "version": 1
      }
     },
     "metadata": {
      "scrapbook": {
       "data": true,
       "display": false,
       "name": "ABC-GAN Model 3 Manhattan Distance"
      }
     },
     "output_type": "display_data"
    },
    {
     "data": {
      "application/scrapbook.scrap.json+json": {
       "data": 5.0406674056640375,
       "encoder": "json",
       "name": "ABC-GAN Model 3 Euclidean distance",
       "version": 1
      }
     },
     "metadata": {
      "scrapbook": {
       "data": true,
       "display": false,
       "name": "ABC-GAN Model 3 Euclidean distance"
      }
     },
     "output_type": "display_data"
    },
    {
     "data": {
      "application/scrapbook.scrap.json+json": {
       "data": [
        [
         0.24929859011600683,
         0.2488940182976317,
         0.24929044722091348,
         0.2503857732785325,
         0.25017636971383894,
         0.24916311110134204,
         0.24943230207650807,
         0.24977551336373338,
         0.24889650540301708,
         0.25063251750394777,
         0.24809331548717437,
         0.24858132563647714,
         0.2491708899311104,
         0.24756638734653222,
         0.24849637812929368,
         0.24742342207277018,
         0.24953243225601113,
         0.24881646872273072,
         0.24891747626953595,
         0.24874048889655595,
         0.2503385686640663,
         0.24988287458432126,
         0.24904576072133433,
         0.24931634917487694,
         0.24979050290828192,
         0.24794530482464786,
         0.2513967796175263,
         0.24912815509466843,
         0.24751769998555426,
         0.24756945406726907,
         0.24942512599503736,
         0.24940445373397271,
         0.2501742447328024,
         0.24905426526366667,
         0.2489592481531472,
         0.2497886004983385,
         0.2498717028950131,
         0.24915152218214615,
         0.2494517631232091,
         0.25018696815144065,
         0.24843985650958691,
         0.2477800702756165,
         0.2477564468129556,
         0.24958388184172348,
         0.24826338456188837,
         0.25001502488102956,
         0.24843727150349654,
         0.24902010945162423,
         0.24954236151345682,
         0.24865360294011105,
         0.24893227238013516,
         0.24866519333165266,
         0.24871652067454997,
         0.24931365063325092,
         0.24802804255802327,
         0.24955121110152426,
         0.24994665884634498,
         0.24952497039596833,
         0.24783480023914947,
         0.2482669387175409,
         0.24886513896035797,
         0.24865646793669732,
         0.2487493413860365,
         0.24956293480199043,
         0.24900659808618336,
         0.24934967791719173,
         0.2503352324625232,
         0.24960348263736024,
         0.2486681025073495,
         0.2477566816848812,
         0.24927990844734574,
         0.24909010128808093,
         0.24764071658593131,
         0.24888096292609121,
         0.24817872261430857,
         0.2487245052135463,
         0.2501645884607785,
         0.24924562587509969,
         0.24933883603111193,
         0.2492537830137882,
         0.2492891265473601,
         0.2495755642425446,
         0.2481482260371109,
         0.24872099291258673,
         0.24915124329888536,
         0.2479532665148518,
         0.2509143425606856,
         0.24978471449433312,
         0.2500492524290209,
         0.24919283749206414,
         0.25008346620697247,
         0.24903461323868192,
         0.24922122464942406,
         0.24932497431877818,
         0.2498656114486354,
         0.24784713381122225,
         0.24875970580184736,
         0.24981852082652692,
         0.24938664325209714,
         0.24876015208919092
        ],
        [
         0.27130444414511906,
         0.27080865504731444,
         0.26880056433854443,
         0.2704135048860574,
         0.27025016829115794,
         0.2688149936296338,
         0.26998078451473634,
         0.2705406824985117,
         0.27006843314487855,
         0.27013577353757096,
         0.27031205135269787,
         0.26897522026453824,
         0.26960784993956194,
         0.26941339855137114,
         0.2692000340834698,
         0.2695309505980535,
         0.2701305636825661,
         0.27047388380685566,
         0.270867870508821,
         0.269675564614362,
         0.27040581442598327,
         0.27019692673439194,
         0.2685357458688611,
         0.27064830861876116,
         0.2705707471982083,
         0.2683561643786436,
         0.2704106780481251,
         0.27088607388420727,
         0.2703797782990424,
         0.26865880491723326,
         0.2693512437627742,
         0.2697470373035792,
         0.2703099082151026,
         0.27062314260276216,
         0.2686538185796463,
         0.26899044574512276,
         0.2699644952081144,
         0.26905094562828835,
         0.268449047991239,
         0.27020366176707195,
         0.27015908859560595,
         0.26883088235798125,
         0.26962577223814294,
         0.27002541115507483,
         0.26943222865206645,
         0.2701383283562666,
         0.2686010690533793,
         0.2696568759286082,
         0.27024315364257084,
         0.26882516323387917,
         0.2696941779177709,
         0.2701919290017994,
         0.2698734090846105,
         0.2695210229185428,
         0.269112412918213,
         0.2698794975237665,
         0.27120441586400074,
         0.26965553628499894,
         0.26886036795764867,
         0.26827206865281744,
         0.268733113794131,
         0.2685924634867001,
         0.2701688000621895,
         0.26978438195096804,
         0.27060134191175594,
         0.26909463992342353,
         0.26968249190123933,
         0.2698220699094236,
         0.2702480973219316,
         0.2692612007205539,
         0.269682294095629,
         0.26997713840511794,
         0.2689570835061079,
         0.26999320448650155,
         0.27041658066103563,
         0.268841180813444,
         0.2701227236265207,
         0.27102951070878145,
         0.2705274064404269,
         0.2691869885551141,
         0.2696568461262858,
         0.26943932452659103,
         0.2684423562011444,
         0.2693516016828225,
         0.2687050099119398,
         0.27031073157730345,
         0.2713062690990959,
         0.2701306457850425,
         0.27045818791706483,
         0.2705447584043677,
         0.2699410138998692,
         0.26860093611164715,
         0.2704237221155827,
         0.27025593971541406,
         0.2704235248943316,
         0.2689789300693162,
         0.2708518359828375,
         0.26993117738040345,
         0.27025257760439725,
         0.2682996483647502
        ],
        [
         27.673053302802145,
         27.62248281482607,
         27.41765756253153,
         27.58217749837786,
         27.56551716569811,
         27.419129350222647,
         27.538040020503104,
         27.595149614848197,
         27.54698018077761,
         27.553848900832236,
         27.57182923797518,
         27.4354724669829,
         27.500000693835318,
         27.48016665223986,
         27.458403476513922,
         27.492156961001456,
         27.55331749562174,
         27.588336148299277,
         27.62852279189974,
         27.506907590664923,
         27.581393071450293,
         27.56008652690798,
         27.39064607862383,
         27.60612747911364,
         27.598216214217246,
         27.37232876662165,
         27.58188916090876,
         27.63037953618914,
         27.578737386502326,
         27.40319810155779,
         27.47382686380297,
         27.51419780496508,
         27.571610637940466,
         27.60356054548174,
         27.402689495123923,
         27.437025466002524,
         27.536378511227667,
         27.44319645408541,
         27.381802895106375,
         27.56077350024134,
         27.556227036751807,
         27.42075000051409,
         27.50182876829058,
         27.542591937817633,
         27.48208732251078,
         27.554109492339194,
         27.397309043444693,
         27.50500134471804,
         27.564801671542227,
         27.420166649855673,
         27.50880614761263,
         27.55957675818354,
         27.52708772663027,
         27.491144337691367,
         27.44946611765772,
         27.527708747424185,
         27.662850418128073,
         27.50486470106989,
         27.423757531680167,
         27.363751002587378,
         27.410777607001364,
         27.39643127564341,
         27.55721760634333,
         27.51800695899874,
         27.601336874999106,
         27.4476532721892,
         27.507614173926413,
         27.521851130761206,
         27.565305926837027,
         27.464642473496497,
         27.507593997754157,
         27.537668117322028,
         27.433622517623007,
         27.53930685762316,
         27.582491227425635,
         27.42180044297129,
         27.552517809905112,
         27.645010092295706,
         27.593795456923544,
         27.457072832621634,
         27.504998304881155,
         27.482811101712286,
         27.38112033251673,
         27.473863371647894,
         27.40791101101786,
         27.571694620884955,
         27.67323944810778,
         27.55332587007433,
         27.58673516754061,
         27.595565357245505,
         27.533983417786658,
         27.397295483388007,
         27.583219655789435,
         27.566105850972235,
         27.583199539221823,
         27.435850867070258,
         27.626887270249426,
         27.532980092801154,
         27.56576291564852,
         27.36656413320452
        ],
        [
         5.042663600899102,
         5.0385702204453215,
         5.042581245407273,
         5.053647086452547,
         5.051533401929711,
         5.041293220229992,
         5.044015742620538,
         5.047484756103857,
         5.038595394661864,
         5.05613654734548,
         5.030459042641315,
         5.035404175924775,
         5.041371913772406,
         5.025114079237036,
         5.034543729990628,
         5.023662911802757,
         5.0450280564247745,
         5.037785208771661,
         5.038807654544145,
         5.037015968552085,
         5.053170688165476,
         5.048569421885844,
         5.040105910948309,
         5.042843207540508,
         5.04763620882535,
         5.028958251180266,
         5.063839602612594,
         5.0409395770685625,
         5.0246199257781194,
         5.025145203360937,
         5.043943184800342,
         5.043734160407864,
         5.0515119481939115,
         5.040191966274102,
         5.039230428509993,
         5.047616987334767,
         5.048456565653638,
         5.041175980123972,
         5.044212509259233,
         5.051640402032487,
         5.033971132612687,
         5.027282284506498,
         5.027042627123971,
         5.045548131556749,
         5.032182948315036,
         5.049904210761329,
         5.033944943417304,
         5.039846343299136,
         5.045128429918567,
         5.036136167727331,
         5.038957410295683,
         5.036253540066125,
         5.036773283442892,
         5.04281591619123,
         5.029797246501927,
         5.045217887500545,
         5.04921372119731,
         5.044952624196661,
         5.027837469965914,
         5.032218968724351,
         5.038277897650794,
         5.0361651809231915,
         5.037105599585511,
         5.0453363960991755,
         5.039709615125726,
         5.043180261259114,
         5.0531370168616405,
         5.045746250953445,
         5.036282999966309,
         5.027045009929579,
         5.042474656518291,
         5.040554565857239,
         5.025868391807031,
         5.0384380732982414,
         5.031324846067831,
         5.036854130484792,
         5.051414457654351,
         5.042127907863918,
         5.0430706196893,
         5.042210414828639,
         5.042567888271879,
         5.045464057224027,
         5.0310157081632445,
         5.03681856702064,
         5.041173158748497,
         5.029038992145008,
         5.058978448381643,
         5.047577723861413,
         5.050249869834177,
         5.0415939368606955,
         5.050595366202996,
         5.039993110148619,
         5.041881088863684,
         5.042930435819571,
         5.048395028893916,
         5.027962574318217,
         5.0372105367741415,
         5.047919286627486,
         5.043554065509153,
         5.037215055275828
        ]
       ],
       "encoder": "json",
       "name": "ABC_GAN_4 Metrics",
       "version": 1
      }
     },
     "metadata": {
      "scrapbook": {
       "data": true,
       "display": false,
       "name": "ABC_GAN_4 Metrics"
      }
     },
     "output_type": "display_data"
    },
    {
     "name": "stdout",
     "output_type": "stream",
     "text": [
      "MAE\n",
      "0.2697652874160193\n"
     ]
    }
   ],
   "source": [
    "ABC_GAN4_metrics=ABC_train_test2.test_generator(gen4,test_data,prior_model,variance,bias,\"3\",device)\n",
    "sb.glue(\"ABC_GAN_4 Metrics\",ABC_GAN4_metrics)\n",
    "\n",
    "print(\"MAE\")\n",
    "print(mean(ABC_GAN4_metrics[1]))"
   ]
  },
  {
   "cell_type": "code",
   "execution_count": 26,
   "id": "4324edf4",
   "metadata": {
    "execution": {
     "iopub.execute_input": "2022-07-22T10:21:45.926324Z",
     "iopub.status.busy": "2022-07-22T10:21:45.925275Z",
     "iopub.status.idle": "2022-07-22T10:21:46.777127Z",
     "shell.execute_reply": "2022-07-22T10:21:46.776224Z"
    },
    "id": "c8e46b48",
    "papermill": {
     "duration": 0.908154,
     "end_time": "2022-07-22T10:21:46.779965",
     "exception": false,
     "start_time": "2022-07-22T10:21:45.871811",
     "status": "completed"
    },
    "tags": []
   },
   "outputs": [
    {
     "data": {
      "image/png": "[encoded data removed]",
      "text/plain": [
       "<Figure size 432x288 with 1 Axes>"
      ]
     },
     "metadata": {
      "needs_background": "light"
     },
     "output_type": "display_data"
    },
    {
     "data": {
      "image/png": "[encoded data removed]",
      "text/plain": [
       "<Figure size 432x288 with 1 Axes>"
      ]
     },
     "metadata": {
      "needs_background": "light"
     },
     "output_type": "display_data"
    },
    {
     "data": {
      "image/png": "[encoded data removed]",
      "text/plain": [
       "<Figure size 432x288 with 1 Axes>"
      ]
     },
     "metadata": {
      "needs_background": "light"
     },
     "output_type": "display_data"
    },
    {
     "data": {
      "image/png": "[encoded data removed]",
      "text/plain": [
       "<Figure size 432x288 with 1 Axes>"
      ]
     },
     "metadata": {
      "needs_background": "light"
     },
     "output_type": "display_data"
    }
   ],
   "source": [
    "sanityChecks.discProbVsError(train_data,disc4,device)\n",
    "sanityChecks.discProbVsError(test_data,disc4,device)"
   ]
  },
  {
   "cell_type": "markdown",
   "id": "a5bd74c3",
   "metadata": {
    "id": "a5bd74c3",
    "papermill": {
     "duration": 0.047133,
     "end_time": "2022-07-22T10:21:46.874069",
     "exception": false,
     "start_time": "2022-07-22T10:21:46.826936",
     "status": "completed"
    },
    "tags": []
   },
   "source": [
    "## Skip Connection Model Analysis - ABC-GAN "
   ]
  },
  {
   "cell_type": "markdown",
   "id": "5744a8bf",
   "metadata": {
    "id": "5744a8bf",
    "papermill": {
     "duration": 0.043074,
     "end_time": "2022-07-22T10:21:46.964536",
     "exception": false,
     "start_time": "2022-07-22T10:21:46.921462",
     "status": "completed"
    },
    "tags": []
   },
   "source": [
    "### Weight Analysis \n",
    "\n",
    "Study the weights of the skip connection layer\n",
    "\n",
    "Equation of the skip connection is \n",
    "\n",
    "$output = y_{gan} * w + y_{abc} * (1-w)$"
   ]
  },
  {
   "cell_type": "code",
   "execution_count": 27,
   "id": "52c31dea",
   "metadata": {
    "execution": {
     "iopub.execute_input": "2022-07-22T10:21:47.068519Z",
     "iopub.status.busy": "2022-07-22T10:21:47.067986Z",
     "iopub.status.idle": "2022-07-22T10:21:47.086184Z",
     "shell.execute_reply": "2022-07-22T10:21:47.084697Z"
    },
    "id": "52c31dea",
    "papermill": {
     "duration": 0.074303,
     "end_time": "2022-07-22T10:21:47.089793",
     "exception": false,
     "start_time": "2022-07-22T10:21:47.015490",
     "status": "completed"
    },
    "tags": []
   },
   "outputs": [
    {
     "name": "stdout",
     "output_type": "stream",
     "text": [
      "Weight of the node at skip connection\n",
      "Parameter containing:\n",
      "tensor([[0.2173]], requires_grad=True)\n"
     ]
    },
    {
     "data": {
      "application/scrapbook.scrap.json+json": {
       "data": 0.21733246743679047,
       "encoder": "json",
       "name": "Skip Connection Weight",
       "version": 1
      }
     },
     "metadata": {
      "scrapbook": {
       "data": true,
       "display": false,
       "name": "Skip Connection Weight"
      }
     },
     "output_type": "display_data"
    }
   ],
   "source": [
    "print(\"Weight of the node at skip connection\")\n",
    "for name,param in gen3.named_parameters():\n",
    "    if(name == \"skipNode.weight\"):\n",
    "        print(param)\n",
    "        sb.glue(\"Skip Connection Weight\",param.item())"
   ]
  },
  {
   "cell_type": "markdown",
   "id": "5e40c8a4",
   "metadata": {
    "id": "a5bd74c3",
    "papermill": {
     "duration": 0.103381,
     "end_time": "2022-07-22T10:21:47.244144",
     "exception": false,
     "start_time": "2022-07-22T10:21:47.140763",
     "status": "completed"
    },
    "tags": []
   },
   "source": [
    "## skipGAN Model Analysis (TabNet Generator) "
   ]
  },
  {
   "cell_type": "markdown",
   "id": "2d77c64c",
   "metadata": {
    "id": "5744a8bf",
    "papermill": {
     "duration": 0.063779,
     "end_time": "2022-07-22T10:21:47.359849",
     "exception": false,
     "start_time": "2022-07-22T10:21:47.296070",
     "status": "completed"
    },
    "tags": []
   },
   "source": [
    "### Weight Analysis \n",
    "\n",
    "Study the weights of the skip connection layer\n",
    "\n",
    "Equation of the skip connection is \n",
    "\n",
    "$output = y_{gan} * w + y_{abc} * (1-w)$"
   ]
  },
  {
   "cell_type": "code",
   "execution_count": 28,
   "id": "9b3ec452",
   "metadata": {
    "execution": {
     "iopub.execute_input": "2022-07-22T10:21:47.492305Z",
     "iopub.status.busy": "2022-07-22T10:21:47.491940Z",
     "iopub.status.idle": "2022-07-22T10:21:47.510223Z",
     "shell.execute_reply": "2022-07-22T10:21:47.508269Z"
    },
    "id": "52c31dea",
    "papermill": {
     "duration": 0.083483,
     "end_time": "2022-07-22T10:21:47.514249",
     "exception": false,
     "start_time": "2022-07-22T10:21:47.430766",
     "status": "completed"
    },
    "tags": []
   },
   "outputs": [
    {
     "name": "stdout",
     "output_type": "stream",
     "text": [
      "Weight of the node at skip connection\n",
      "Parameter containing:\n",
      "tensor([[0.2799]], requires_grad=True)\n"
     ]
    },
    {
     "data": {
      "application/scrapbook.scrap.json+json": {
       "data": 0.2799184024333954,
       "encoder": "json",
       "name": "Skip Connection Weight",
       "version": 1
      }
     },
     "metadata": {
      "scrapbook": {
       "data": true,
       "display": false,
       "name": "Skip Connection Weight"
      }
     },
     "output_type": "display_data"
    }
   ],
   "source": [
    "print(\"Weight of the node at skip connection\")\n",
    "for name,param in gen4.named_parameters():\n",
    "    if(name == \"skipNode.weight\"):\n",
    "        print(param)\n",
    "        sb.glue(\"Skip Connection Weight\",param.item())"
   ]
  }
 ],
 "metadata": {
  "colab": {
   "collapsed_sections": [],
   "name": "ABC_GAN_Model-Catboost_Pre-gen.ipynb",
   "provenance": []
  },
  "interpreter": {
   "hash": "31f2aee4e71d21fbe5cf8b01ff0e069b9275f58929596ceb00d14d90e3e16cd6"
  },
  "kernelspec": {
   "display_name": "Python 3 (ipykernel)",
   "language": "python",
   "name": "python3"
  },
  "language_info": {
   "codemirror_mode": {
    "name": "ipython",
    "version": 3
   },
   "file_extension": ".py",
   "mimetype": "text/x-python",
   "name": "python",
   "nbconvert_exporter": "python",
   "pygments_lexer": "ipython3",
   "version": "3.8.13"
  },
  "papermill": {
   "default_parameters": {},
   "duration": 2379.810346,
   "end_time": "2022-07-22T10:21:48.753708",
   "environment_variables": {},
   "exception": null,
   "input_path": "ABC_GAN-TabNet.ipynb",
   "output_path": "./ABC_GAN_TabNet/ABC-GAN_output_1_2.ipynb",
   "parameters": {
    "bias": 1,
    "variance": 0.01
   },
   "start_time": "2022-07-22T09:42:08.943362",
   "version": "2.3.3"
  }
 },
 "nbformat": 4,
 "nbformat_minor": 5
}