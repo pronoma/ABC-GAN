{
 "cells": [
  {
   "cell_type": "markdown",
   "id": "622780e6",
   "metadata": {
    "id": "622780e6",
    "papermill": {
     "duration": 0.01623,
     "end_time": "2022-07-22T11:06:44.758809",
     "exception": false,
     "start_time": "2022-07-22T11:06:44.742579",
     "status": "completed"
    },
    "tags": []
   },
   "source": [
    "## Import Libraries "
   ]
  },
  {
   "cell_type": "code",
   "execution_count": 1,
   "id": "a62397e3",
   "metadata": {
    "execution": {
     "iopub.execute_input": "2022-07-22T11:06:44.821047Z",
     "iopub.status.busy": "2022-07-22T11:06:44.820081Z",
     "iopub.status.idle": "2022-07-22T11:06:44.851075Z",
     "shell.execute_reply": "2022-07-22T11:06:44.848095Z"
    },
    "id": "a62397e3",
    "papermill": {
     "duration": 0.085968,
     "end_time": "2022-07-22T11:06:44.854676",
     "exception": false,
     "start_time": "2022-07-22T11:06:44.768708",
     "status": "completed"
    },
    "tags": []
   },
   "outputs": [],
   "source": [
    "import warnings\n",
    "import sys\n",
    "sys.path.insert(0, '../../src')\n",
    "warnings.filterwarnings('ignore')"
   ]
  },
  {
   "cell_type": "code",
   "execution_count": 2,
   "id": "d6a4e155",
   "metadata": {
    "execution": {
     "iopub.execute_input": "2022-07-22T11:06:44.873190Z",
     "iopub.status.busy": "2022-07-22T11:06:44.872413Z",
     "iopub.status.idle": "2022-07-22T11:06:53.096048Z",
     "shell.execute_reply": "2022-07-22T11:06:53.094433Z"
    },
    "id": "d6a4e155",
    "papermill": {
     "duration": 8.236809,
     "end_time": "2022-07-22T11:06:53.100105",
     "exception": false,
     "start_time": "2022-07-22T11:06:44.863296",
     "status": "completed"
    },
    "tags": []
   },
   "outputs": [],
   "source": [
    "import ABC_train_test2\n",
    "import bostonDataset\n",
    "import network\n",
    "import dataset\n",
    "import sanityChecks\n",
    "import torch \n",
    "import scrapbook as sb\n",
    "from statistics import mean \n",
    "import catboost as ctb \n",
    "from sklearn.model_selection import train_test_split\n",
    "from sklearn.metrics import mean_squared_error,mean_absolute_error\n",
    "import numpy as np\n",
    "from pytorch_tabnet.tab_model import TabNetRegressor"
   ]
  },
  {
   "cell_type": "markdown",
   "id": "2fa5b0f7",
   "metadata": {
    "id": "2fa5b0f7",
    "papermill": {
     "duration": 0.01001,
     "end_time": "2022-07-22T11:06:53.118366",
     "exception": false,
     "start_time": "2022-07-22T11:06:53.108356",
     "status": "completed"
    },
    "tags": []
   },
   "source": [
    "## Parameters "
   ]
  },
  {
   "cell_type": "code",
   "execution_count": 3,
   "id": "783186fb",
   "metadata": {
    "execution": {
     "iopub.execute_input": "2022-07-22T11:06:53.143803Z",
     "iopub.status.busy": "2022-07-22T11:06:53.142222Z",
     "iopub.status.idle": "2022-07-22T11:06:53.157158Z",
     "shell.execute_reply": "2022-07-22T11:06:53.155931Z"
    },
    "id": "783186fb",
    "papermill": {
     "duration": 0.035996,
     "end_time": "2022-07-22T11:06:53.161944",
     "exception": false,
     "start_time": "2022-07-22T11:06:53.125948",
     "status": "completed"
    },
    "tags": [
     "parameters"
    ]
   },
   "outputs": [],
   "source": [
    "variance = 1\n",
    "bias = 1 "
   ]
  },
  {
   "cell_type": "code",
   "execution_count": 4,
   "id": "45e2188e",
   "metadata": {
    "execution": {
     "iopub.execute_input": "2022-07-22T11:06:53.186710Z",
     "iopub.status.busy": "2022-07-22T11:06:53.185846Z",
     "iopub.status.idle": "2022-07-22T11:06:53.193834Z",
     "shell.execute_reply": "2022-07-22T11:06:53.191021Z"
    },
    "papermill": {
     "duration": 0.027752,
     "end_time": "2022-07-22T11:06:53.199209",
     "exception": false,
     "start_time": "2022-07-22T11:06:53.171457",
     "status": "completed"
    },
    "tags": [
     "injected-parameters"
    ]
   },
   "outputs": [],
   "source": [
    "# Parameters\n",
    "variance = 0.1\n",
    "bias = 0.1\n"
   ]
  },
  {
   "cell_type": "markdown",
   "id": "391cdbfd",
   "metadata": {
    "id": "391cdbfd",
    "papermill": {
     "duration": 0.036891,
     "end_time": "2022-07-22T11:06:53.250811",
     "exception": false,
     "start_time": "2022-07-22T11:06:53.213920",
     "status": "completed"
    },
    "tags": []
   },
   "source": [
    "## Dataset \n"
   ]
  },
  {
   "cell_type": "code",
   "execution_count": 5,
   "id": "5b51f161",
   "metadata": {
    "execution": {
     "iopub.execute_input": "2022-07-22T11:06:53.298528Z",
     "iopub.status.busy": "2022-07-22T11:06:53.296393Z",
     "iopub.status.idle": "2022-07-22T11:06:53.305397Z",
     "shell.execute_reply": "2022-07-22T11:06:53.302868Z"
    },
    "id": "5b51f161",
    "papermill": {
     "duration": 0.04507,
     "end_time": "2022-07-22T11:06:53.313169",
     "exception": false,
     "start_time": "2022-07-22T11:06:53.268099",
     "status": "completed"
    },
    "tags": []
   },
   "outputs": [],
   "source": [
    "#Parameters \n",
    "n_features = 13\n",
    "n_samples= 506\n",
    "n_target = 1 "
   ]
  },
  {
   "cell_type": "code",
   "execution_count": 6,
   "id": "5d6eced4",
   "metadata": {
    "execution": {
     "iopub.execute_input": "2022-07-22T11:06:53.344744Z",
     "iopub.status.busy": "2022-07-22T11:06:53.344040Z",
     "iopub.status.idle": "2022-07-22T11:06:53.374377Z",
     "shell.execute_reply": "2022-07-22T11:06:53.373562Z"
    },
    "id": "5d6eced4",
    "papermill": {
     "duration": 0.058854,
     "end_time": "2022-07-22T11:06:53.383170",
     "exception": false,
     "start_time": "2022-07-22T11:06:53.324316",
     "status": "completed"
    },
    "tags": []
   },
   "outputs": [
    {
     "name": "stdout",
     "output_type": "stream",
     "text": [
      "         X1        X2        X3        X4        X5        X6        X7  \\\n",
      "0 -0.419782  0.284830 -1.287909 -0.272599 -0.144217  0.413672 -0.120013   \n",
      "1 -0.417339 -0.487722 -0.593381 -0.272599 -0.740262  0.194274  0.367166   \n",
      "2 -0.417342 -0.487722 -0.593381 -0.272599 -0.740262  1.282714 -0.265812   \n",
      "3 -0.416750 -0.487722 -1.306878 -0.272599 -0.835284  1.016303 -0.809889   \n",
      "4 -0.412482 -0.487722 -1.306878 -0.272599 -0.835284  1.228577 -0.511180   \n",
      "\n",
      "         X8        X9       X10       X11       X12       X13         Y  \n",
      "0  0.140214 -0.982843 -0.666608 -1.459000  0.441052 -1.075562  0.159686  \n",
      "1  0.557160 -0.867883 -0.987329 -0.303094  0.441052 -0.492439 -0.101524  \n",
      "2  0.557160 -0.867883 -0.987329 -0.303094  0.396427 -1.208727  1.324247  \n",
      "3  1.077737 -0.752922 -1.106115  0.113032  0.416163 -1.361517  1.182758  \n",
      "4  1.077737 -0.752922 -1.106115  0.113032  0.441052 -1.026501  1.487503  \n"
     ]
    }
   ],
   "source": [
    "X,Y = bostonDataset.boston_data()"
   ]
  },
  {
   "cell_type": "code",
   "execution_count": 7,
   "id": "fe007438",
   "metadata": {
    "execution": {
     "iopub.execute_input": "2022-07-22T11:06:53.400435Z",
     "iopub.status.busy": "2022-07-22T11:06:53.400020Z",
     "iopub.status.idle": "2022-07-22T11:06:53.408445Z",
     "shell.execute_reply": "2022-07-22T11:06:53.406363Z"
    },
    "id": "fe007438",
    "papermill": {
     "duration": 0.019567,
     "end_time": "2022-07-22T11:06:53.411274",
     "exception": false,
     "start_time": "2022-07-22T11:06:53.391707",
     "status": "completed"
    },
    "tags": []
   },
   "outputs": [],
   "source": [
    "#Train test split for dataset \n",
    "X_train,X_test,Y_train,Y_test = train_test_split(X,Y,test_size = 0.2)\n",
    "train_data = dataset.CustomDataset(X_train,Y_train)\n",
    "test_data = dataset.CustomDataset(X_test,Y_test)\n"
   ]
  },
  {
   "cell_type": "markdown",
   "id": "a9a1af34",
   "metadata": {
    "id": "a9a1af34",
    "papermill": {
     "duration": 0.008487,
     "end_time": "2022-07-22T11:06:53.437303",
     "exception": false,
     "start_time": "2022-07-22T11:06:53.428816",
     "status": "completed"
    },
    "tags": []
   },
   "source": [
    "## Training Parameters "
   ]
  },
  {
   "cell_type": "code",
   "execution_count": 8,
   "id": "952b7fc8",
   "metadata": {
    "execution": {
     "iopub.execute_input": "2022-07-22T11:06:53.460272Z",
     "iopub.status.busy": "2022-07-22T11:06:53.458805Z",
     "iopub.status.idle": "2022-07-22T11:06:53.474805Z",
     "shell.execute_reply": "2022-07-22T11:06:53.471980Z"
    },
    "id": "952b7fc8",
    "papermill": {
     "duration": 0.033235,
     "end_time": "2022-07-22T11:06:53.478856",
     "exception": false,
     "start_time": "2022-07-22T11:06:53.445621",
     "status": "completed"
    },
    "tags": []
   },
   "outputs": [],
   "source": [
    "batch_size = 32\n",
    "n_epochs = 1000\n",
    "#Select the device \n",
    "device = torch.device('cuda' if torch.cuda.is_available() else 'cpu')"
   ]
  },
  {
   "cell_type": "markdown",
   "id": "a95e1600",
   "metadata": {
    "id": "a95e1600",
    "papermill": {
     "duration": 0.008434,
     "end_time": "2022-07-22T11:06:53.495851",
     "exception": false,
     "start_time": "2022-07-22T11:06:53.487417",
     "status": "completed"
    },
    "tags": []
   },
   "source": [
    "# ABC Pre-generator Model \n",
    "\n",
    "1. The catboost model is used as a pre-generator model for the ABC-GAN. \n",
    "2. The model is first trained on the entire dataset \n",
    "3. It generats X,Y pairs and we add some Gaussian noise with mean 0 and variance 1 to it which is then feed as input to the generator.\n"
   ]
  },
  {
   "cell_type": "code",
   "execution_count": 9,
   "id": "ff8ce7bd",
   "metadata": {
    "execution": {
     "iopub.execute_input": "2022-07-22T11:06:53.515239Z",
     "iopub.status.busy": "2022-07-22T11:06:53.514885Z",
     "iopub.status.idle": "2022-07-22T11:10:14.370104Z",
     "shell.execute_reply": "2022-07-22T11:10:14.367113Z"
    },
    "id": "ff8ce7bd",
    "papermill": {
     "duration": 200.871684,
     "end_time": "2022-07-22T11:10:14.376085",
     "exception": false,
     "start_time": "2022-07-22T11:06:53.504401",
     "status": "completed"
    },
    "tags": []
   },
   "outputs": [
    {
     "name": "stdout",
     "output_type": "stream",
     "text": [
      "Device used : cpu\n"
     ]
    },
    {
     "name": "stdout",
     "output_type": "stream",
     "text": [
      "epoch 0  | loss: 2.4906  | train_mse: 1.34701 | train_mae: 0.88    |  0:00:00s\n"
     ]
    },
    {
     "name": "stdout",
     "output_type": "stream",
     "text": [
      "epoch 1  | loss: 0.99998 | train_mse: 0.64925 | train_mae: 0.58861 |  0:00:01s\n"
     ]
    },
    {
     "name": "stdout",
     "output_type": "stream",
     "text": [
      "epoch 2  | loss: 0.69674 | train_mse: 0.53059 | train_mae: 0.50249 |  0:00:01s\n"
     ]
    },
    {
     "name": "stdout",
     "output_type": "stream",
     "text": [
      "epoch 3  | loss: 0.50617 | train_mse: 0.67935 | train_mae: 0.50441 |  0:00:02s\n"
     ]
    },
    {
     "name": "stdout",
     "output_type": "stream",
     "text": [
      "epoch 4  | loss: 0.43543 | train_mse: 0.44264 | train_mae: 0.44636 |  0:00:02s\n"
     ]
    },
    {
     "name": "stdout",
     "output_type": "stream",
     "text": [
      "epoch 5  | loss: 0.44537 | train_mse: 0.4967  | train_mae: 0.48182 |  0:00:03s\n"
     ]
    },
    {
     "name": "stdout",
     "output_type": "stream",
     "text": [
      "epoch 6  | loss: 0.35359 | train_mse: 0.38156 | train_mae: 0.42313 |  0:00:03s\n"
     ]
    },
    {
     "name": "stdout",
     "output_type": "stream",
     "text": [
      "epoch 7  | loss: 0.35287 | train_mse: 0.27501 | train_mae: 0.36766 |  0:00:04s\n"
     ]
    },
    {
     "name": "stdout",
     "output_type": "stream",
     "text": [
      "epoch 8  | loss: 0.3304  | train_mse: 0.22839 | train_mae: 0.37422 |  0:00:04s\n"
     ]
    },
    {
     "name": "stdout",
     "output_type": "stream",
     "text": [
      "epoch 9  | loss: 0.30068 | train_mse: 0.20634 | train_mae: 0.33527 |  0:00:04s\n"
     ]
    },
    {
     "name": "stdout",
     "output_type": "stream",
     "text": [
      "epoch 10 | loss: 0.30136 | train_mse: 0.18858 | train_mae: 0.31708 |  0:00:05s\n"
     ]
    },
    {
     "name": "stdout",
     "output_type": "stream",
     "text": [
      "epoch 11 | loss: 0.26829 | train_mse: 0.18879 | train_mae: 0.31165 |  0:00:05s\n"
     ]
    },
    {
     "name": "stdout",
     "output_type": "stream",
     "text": [
      "epoch 12 | loss: 0.24547 | train_mse: 0.18227 | train_mae: 0.29757 |  0:00:06s\n"
     ]
    },
    {
     "name": "stdout",
     "output_type": "stream",
     "text": [
      "epoch 13 | loss: 0.25668 | train_mse: 0.18277 | train_mae: 0.30252 |  0:00:06s\n"
     ]
    },
    {
     "name": "stdout",
     "output_type": "stream",
     "text": [
      "epoch 14 | loss: 0.26343 | train_mse: 0.19891 | train_mae: 0.31438 |  0:00:07s\n"
     ]
    },
    {
     "name": "stdout",
     "output_type": "stream",
     "text": [
      "epoch 15 | loss: 0.2397  | train_mse: 0.14478 | train_mae: 0.27286 |  0:00:07s\n"
     ]
    },
    {
     "name": "stdout",
     "output_type": "stream",
     "text": [
      "epoch 16 | loss: 0.22185 | train_mse: 0.12998 | train_mae: 0.25395 |  0:00:08s\n"
     ]
    },
    {
     "name": "stdout",
     "output_type": "stream",
     "text": [
      "epoch 17 | loss: 0.22014 | train_mse: 0.15685 | train_mae: 0.27923 |  0:00:08s\n"
     ]
    },
    {
     "name": "stdout",
     "output_type": "stream",
     "text": [
      "epoch 18 | loss: 0.28231 | train_mse: 0.16359 | train_mae: 0.28837 |  0:00:09s\n"
     ]
    },
    {
     "name": "stdout",
     "output_type": "stream",
     "text": [
      "epoch 19 | loss: 0.18048 | train_mse: 0.16144 | train_mae: 0.28243 |  0:00:09s\n"
     ]
    },
    {
     "name": "stdout",
     "output_type": "stream",
     "text": [
      "epoch 20 | loss: 0.21007 | train_mse: 0.16931 | train_mae: 0.28923 |  0:00:10s\n"
     ]
    },
    {
     "name": "stdout",
     "output_type": "stream",
     "text": [
      "epoch 21 | loss: 0.22243 | train_mse: 0.12401 | train_mae: 0.24319 |  0:00:10s\n"
     ]
    },
    {
     "name": "stdout",
     "output_type": "stream",
     "text": [
      "epoch 22 | loss: 0.21144 | train_mse: 0.14249 | train_mae: 0.27326 |  0:00:11s\n"
     ]
    },
    {
     "name": "stdout",
     "output_type": "stream",
     "text": [
      "epoch 23 | loss: 0.21666 | train_mse: 0.11184 | train_mae: 0.23863 |  0:00:12s\n"
     ]
    },
    {
     "name": "stdout",
     "output_type": "stream",
     "text": [
      "epoch 24 | loss: 0.229   | train_mse: 0.11387 | train_mae: 0.24922 |  0:00:13s\n"
     ]
    },
    {
     "name": "stdout",
     "output_type": "stream",
     "text": [
      "epoch 25 | loss: 0.16579 | train_mse: 0.11058 | train_mae: 0.23851 |  0:00:14s\n"
     ]
    },
    {
     "name": "stdout",
     "output_type": "stream",
     "text": [
      "epoch 26 | loss: 0.22546 | train_mse: 0.114   | train_mae: 0.23942 |  0:00:15s\n"
     ]
    },
    {
     "name": "stdout",
     "output_type": "stream",
     "text": [
      "epoch 27 | loss: 0.15639 | train_mse: 0.10574 | train_mae: 0.23332 |  0:00:15s\n"
     ]
    },
    {
     "name": "stdout",
     "output_type": "stream",
     "text": [
      "epoch 28 | loss: 0.18683 | train_mse: 0.10166 | train_mae: 0.22799 |  0:00:16s\n"
     ]
    },
    {
     "name": "stdout",
     "output_type": "stream",
     "text": [
      "epoch 29 | loss: 0.19545 | train_mse: 0.10348 | train_mae: 0.23254 |  0:00:16s\n"
     ]
    },
    {
     "name": "stdout",
     "output_type": "stream",
     "text": [
      "epoch 30 | loss: 0.1633  | train_mse: 0.09863 | train_mae: 0.22385 |  0:00:16s\n"
     ]
    },
    {
     "name": "stdout",
     "output_type": "stream",
     "text": [
      "epoch 31 | loss: 0.21269 | train_mse: 0.10278 | train_mae: 0.22801 |  0:00:18s\n"
     ]
    },
    {
     "name": "stdout",
     "output_type": "stream",
     "text": [
      "epoch 32 | loss: 0.1643  | train_mse: 0.10955 | train_mae: 0.23781 |  0:00:18s\n"
     ]
    },
    {
     "name": "stdout",
     "output_type": "stream",
     "text": [
      "epoch 33 | loss: 0.16495 | train_mse: 0.1052  | train_mae: 0.23446 |  0:00:18s\n"
     ]
    },
    {
     "name": "stdout",
     "output_type": "stream",
     "text": [
      "epoch 34 | loss: 0.16014 | train_mse: 0.13165 | train_mae: 0.25622 |  0:00:19s\n"
     ]
    },
    {
     "name": "stdout",
     "output_type": "stream",
     "text": [
      "epoch 35 | loss: 0.18188 | train_mse: 0.11819 | train_mae: 0.25494 |  0:00:20s\n"
     ]
    },
    {
     "name": "stdout",
     "output_type": "stream",
     "text": [
      "epoch 36 | loss: 0.20277 | train_mse: 0.10933 | train_mae: 0.23176 |  0:00:20s\n"
     ]
    },
    {
     "name": "stdout",
     "output_type": "stream",
     "text": [
      "epoch 37 | loss: 0.17064 | train_mse: 0.10034 | train_mae: 0.22544 |  0:00:21s\n"
     ]
    },
    {
     "name": "stdout",
     "output_type": "stream",
     "text": [
      "epoch 38 | loss: 0.16187 | train_mse: 0.11236 | train_mae: 0.24108 |  0:00:21s\n"
     ]
    },
    {
     "name": "stdout",
     "output_type": "stream",
     "text": [
      "epoch 39 | loss: 0.18225 | train_mse: 0.13634 | train_mae: 0.24768 |  0:00:22s\n"
     ]
    },
    {
     "name": "stdout",
     "output_type": "stream",
     "text": [
      "epoch 40 | loss: 0.25633 | train_mse: 0.13516 | train_mae: 0.25526 |  0:00:23s\n"
     ]
    },
    {
     "name": "stdout",
     "output_type": "stream",
     "text": [
      "epoch 41 | loss: 0.21412 | train_mse: 0.12699 | train_mae: 0.25125 |  0:00:23s\n"
     ]
    },
    {
     "name": "stdout",
     "output_type": "stream",
     "text": [
      "epoch 42 | loss: 0.18612 | train_mse: 0.10852 | train_mae: 0.23819 |  0:00:24s\n"
     ]
    },
    {
     "name": "stdout",
     "output_type": "stream",
     "text": [
      "epoch 43 | loss: 0.1783  | train_mse: 0.1006  | train_mae: 0.23035 |  0:00:25s\n"
     ]
    },
    {
     "name": "stdout",
     "output_type": "stream",
     "text": [
      "epoch 44 | loss: 0.16751 | train_mse: 0.11343 | train_mae: 0.24792 |  0:00:25s\n"
     ]
    },
    {
     "name": "stdout",
     "output_type": "stream",
     "text": [
      "epoch 45 | loss: 0.13844 | train_mse: 0.0936  | train_mae: 0.22439 |  0:00:26s\n"
     ]
    },
    {
     "name": "stdout",
     "output_type": "stream",
     "text": [
      "epoch 46 | loss: 0.15935 | train_mse: 0.09125 | train_mae: 0.22262 |  0:00:27s\n"
     ]
    },
    {
     "name": "stdout",
     "output_type": "stream",
     "text": [
      "epoch 47 | loss: 0.15136 | train_mse: 0.09509 | train_mae: 0.22475 |  0:00:28s\n"
     ]
    },
    {
     "name": "stdout",
     "output_type": "stream",
     "text": [
      "epoch 48 | loss: 0.18317 | train_mse: 0.10354 | train_mae: 0.23371 |  0:00:29s\n"
     ]
    },
    {
     "name": "stdout",
     "output_type": "stream",
     "text": [
      "epoch 49 | loss: 0.20317 | train_mse: 0.1068  | train_mae: 0.23823 |  0:00:30s\n"
     ]
    },
    {
     "name": "stdout",
     "output_type": "stream",
     "text": [
      "epoch 50 | loss: 0.16895 | train_mse: 0.0985  | train_mae: 0.22374 |  0:00:31s\n"
     ]
    },
    {
     "name": "stdout",
     "output_type": "stream",
     "text": [
      "epoch 51 | loss: 0.18577 | train_mse: 0.09534 | train_mae: 0.22655 |  0:00:31s\n"
     ]
    },
    {
     "name": "stdout",
     "output_type": "stream",
     "text": [
      "epoch 52 | loss: 0.14431 | train_mse: 0.08702 | train_mae: 0.21425 |  0:00:32s\n"
     ]
    },
    {
     "name": "stdout",
     "output_type": "stream",
     "text": [
      "epoch 53 | loss: 0.15346 | train_mse: 0.10356 | train_mae: 0.2331  |  0:00:33s\n"
     ]
    },
    {
     "name": "stdout",
     "output_type": "stream",
     "text": [
      "epoch 54 | loss: 0.16053 | train_mse: 0.10051 | train_mae: 0.23266 |  0:00:33s\n"
     ]
    },
    {
     "name": "stdout",
     "output_type": "stream",
     "text": [
      "epoch 55 | loss: 0.16652 | train_mse: 0.09428 | train_mae: 0.21763 |  0:00:34s\n"
     ]
    },
    {
     "name": "stdout",
     "output_type": "stream",
     "text": [
      "epoch 56 | loss: 0.16707 | train_mse: 0.09729 | train_mae: 0.22319 |  0:00:35s\n"
     ]
    },
    {
     "name": "stdout",
     "output_type": "stream",
     "text": [
      "epoch 57 | loss: 0.191   | train_mse: 0.08777 | train_mae: 0.21278 |  0:00:35s\n"
     ]
    },
    {
     "name": "stdout",
     "output_type": "stream",
     "text": [
      "epoch 58 | loss: 0.18367 | train_mse: 0.081   | train_mae: 0.20399 |  0:00:36s\n"
     ]
    },
    {
     "name": "stdout",
     "output_type": "stream",
     "text": [
      "epoch 59 | loss: 0.14984 | train_mse: 0.08166 | train_mae: 0.2061  |  0:00:37s\n"
     ]
    },
    {
     "name": "stdout",
     "output_type": "stream",
     "text": [
      "epoch 60 | loss: 0.15258 | train_mse: 0.08047 | train_mae: 0.20478 |  0:00:37s"
     ]
    },
    {
     "name": "stdout",
     "output_type": "stream",
     "text": [
      "\n"
     ]
    },
    {
     "name": "stdout",
     "output_type": "stream",
     "text": [
      "epoch 61 | loss: 0.16368 | train_mse: 0.08107 | train_mae: 0.20434 |  0:00:39s\n"
     ]
    },
    {
     "name": "stdout",
     "output_type": "stream",
     "text": [
      "epoch 62 | loss: 0.13699 | train_mse: 0.08618 | train_mae: 0.20985 |  0:00:39s\n"
     ]
    },
    {
     "name": "stdout",
     "output_type": "stream",
     "text": [
      "epoch 63 | loss: 0.16643 | train_mse: 0.08561 | train_mae: 0.2073  |  0:00:40s\n"
     ]
    },
    {
     "name": "stdout",
     "output_type": "stream",
     "text": [
      "epoch 64 | loss: 0.14137 | train_mse: 0.09276 | train_mae: 0.215   |  0:00:41s\n"
     ]
    },
    {
     "name": "stdout",
     "output_type": "stream",
     "text": [
      "epoch 65 | loss: 0.17716 | train_mse: 0.09139 | train_mae: 0.21564 |  0:00:41s\n"
     ]
    },
    {
     "name": "stdout",
     "output_type": "stream",
     "text": [
      "epoch 66 | loss: 0.15948 | train_mse: 0.09731 | train_mae: 0.22337 |  0:00:42s\n"
     ]
    },
    {
     "name": "stdout",
     "output_type": "stream",
     "text": [
      "epoch 67 | loss: 0.17461 | train_mse: 0.09918 | train_mae: 0.22664 |  0:00:42s\n"
     ]
    },
    {
     "name": "stdout",
     "output_type": "stream",
     "text": [
      "epoch 68 | loss: 0.17028 | train_mse: 0.09015 | train_mae: 0.21669 |  0:00:43s\n"
     ]
    },
    {
     "name": "stdout",
     "output_type": "stream",
     "text": [
      "epoch 69 | loss: 0.14959 | train_mse: 0.0875  | train_mae: 0.20998 |  0:00:44s\n"
     ]
    },
    {
     "name": "stdout",
     "output_type": "stream",
     "text": [
      "epoch 70 | loss: 0.14686 | train_mse: 0.08719 | train_mae: 0.21189 |  0:00:44s\n"
     ]
    },
    {
     "name": "stdout",
     "output_type": "stream",
     "text": [
      "epoch 71 | loss: 0.19275 | train_mse: 0.09889 | train_mae: 0.21857 |  0:00:45s\n"
     ]
    },
    {
     "name": "stdout",
     "output_type": "stream",
     "text": [
      "epoch 72 | loss: 0.18129 | train_mse: 0.08435 | train_mae: 0.20845 |  0:00:45s\n"
     ]
    },
    {
     "name": "stdout",
     "output_type": "stream",
     "text": [
      "epoch 73 | loss: 0.15306 | train_mse: 0.09345 | train_mae: 0.21653 |  0:00:46s\n"
     ]
    },
    {
     "name": "stdout",
     "output_type": "stream",
     "text": [
      "epoch 74 | loss: 0.13897 | train_mse: 0.08629 | train_mae: 0.21598 |  0:00:46s\n"
     ]
    },
    {
     "name": "stdout",
     "output_type": "stream",
     "text": [
      "epoch 75 | loss: 0.16306 | train_mse: 0.10428 | train_mae: 0.23263 |  0:00:47s\n"
     ]
    },
    {
     "name": "stdout",
     "output_type": "stream",
     "text": [
      "epoch 76 | loss: 0.19128 | train_mse: 0.07979 | train_mae: 0.20417 |  0:00:47s\n"
     ]
    },
    {
     "name": "stdout",
     "output_type": "stream",
     "text": [
      "epoch 77 | loss: 0.17823 | train_mse: 0.10511 | train_mae: 0.23005 |  0:00:48s\n"
     ]
    },
    {
     "name": "stdout",
     "output_type": "stream",
     "text": [
      "epoch 78 | loss: 0.1286  | train_mse: 0.07444 | train_mae: 0.19834 |  0:00:48s\n"
     ]
    },
    {
     "name": "stdout",
     "output_type": "stream",
     "text": [
      "epoch 79 | loss: 0.13217 | train_mse: 0.08138 | train_mae: 0.21027 |  0:00:49s\n"
     ]
    },
    {
     "name": "stdout",
     "output_type": "stream",
     "text": [
      "epoch 80 | loss: 0.12081 | train_mse: 0.07228 | train_mae: 0.1972  |  0:00:49s\n"
     ]
    },
    {
     "name": "stdout",
     "output_type": "stream",
     "text": [
      "epoch 81 | loss: 0.11475 | train_mse: 0.07782 | train_mae: 0.20651 |  0:00:50s\n"
     ]
    },
    {
     "name": "stdout",
     "output_type": "stream",
     "text": [
      "epoch 82 | loss: 0.14706 | train_mse: 0.08548 | train_mae: 0.212   |  0:00:50s\n"
     ]
    },
    {
     "name": "stdout",
     "output_type": "stream",
     "text": [
      "epoch 83 | loss: 0.14338 | train_mse: 0.12088 | train_mae: 0.25204 |  0:00:51s\n"
     ]
    },
    {
     "name": "stdout",
     "output_type": "stream",
     "text": [
      "epoch 84 | loss: 0.16262 | train_mse: 0.07389 | train_mae: 0.20092 |  0:00:52s\n"
     ]
    },
    {
     "name": "stdout",
     "output_type": "stream",
     "text": [
      "epoch 85 | loss: 0.16088 | train_mse: 0.08112 | train_mae: 0.21195 |  0:00:52s\n"
     ]
    },
    {
     "name": "stdout",
     "output_type": "stream",
     "text": [
      "epoch 86 | loss: 0.13195 | train_mse: 0.07689 | train_mae: 0.20612 |  0:00:53s\n"
     ]
    },
    {
     "name": "stdout",
     "output_type": "stream",
     "text": [
      "epoch 87 | loss: 0.14914 | train_mse: 0.08669 | train_mae: 0.20452 |  0:00:53s\n"
     ]
    },
    {
     "name": "stdout",
     "output_type": "stream",
     "text": [
      "epoch 88 | loss: 0.13458 | train_mse: 0.08615 | train_mae: 0.20191 |  0:00:54s\n"
     ]
    },
    {
     "name": "stdout",
     "output_type": "stream",
     "text": [
      "epoch 89 | loss: 0.19345 | train_mse: 0.08673 | train_mae: 0.21631 |  0:00:55s\n"
     ]
    },
    {
     "name": "stdout",
     "output_type": "stream",
     "text": [
      "epoch 90 | loss: 0.1599  | train_mse: 0.07842 | train_mae: 0.20441 |  0:00:55s\n"
     ]
    },
    {
     "name": "stdout",
     "output_type": "stream",
     "text": [
      "epoch 91 | loss: 0.14319 | train_mse: 0.07783 | train_mae: 0.20607 |  0:00:56s\n"
     ]
    },
    {
     "name": "stdout",
     "output_type": "stream",
     "text": [
      "epoch 92 | loss: 0.12556 | train_mse: 0.08114 | train_mae: 0.20909 |  0:00:56s\n"
     ]
    },
    {
     "name": "stdout",
     "output_type": "stream",
     "text": [
      "epoch 93 | loss: 0.1197  | train_mse: 0.06903 | train_mae: 0.19702 |  0:00:57s\n"
     ]
    },
    {
     "name": "stdout",
     "output_type": "stream",
     "text": [
      "epoch 94 | loss: 0.15578 | train_mse: 0.08798 | train_mae: 0.22213 |  0:00:58s\n"
     ]
    },
    {
     "name": "stdout",
     "output_type": "stream",
     "text": [
      "epoch 95 | loss: 0.12186 | train_mse: 0.06519 | train_mae: 0.19246 |  0:00:59s\n"
     ]
    },
    {
     "name": "stdout",
     "output_type": "stream",
     "text": [
      "epoch 96 | loss: 0.16026 | train_mse: 0.08316 | train_mae: 0.21732 |  0:01:00s\n"
     ]
    },
    {
     "name": "stdout",
     "output_type": "stream",
     "text": [
      "epoch 97 | loss: 0.12298 | train_mse: 0.06472 | train_mae: 0.19476 |  0:01:01s\n"
     ]
    },
    {
     "name": "stdout",
     "output_type": "stream",
     "text": [
      "epoch 98 | loss: 0.16172 | train_mse: 0.06591 | train_mae: 0.19355 |  0:01:02s\n"
     ]
    },
    {
     "name": "stdout",
     "output_type": "stream",
     "text": [
      "epoch 99 | loss: 0.1233  | train_mse: 0.07662 | train_mae: 0.20634 |  0:01:02s\n"
     ]
    },
    {
     "name": "stdout",
     "output_type": "stream",
     "text": [
      "epoch 100| loss: 0.14196 | train_mse: 0.07332 | train_mae: 0.20599 |  0:01:03s\n"
     ]
    },
    {
     "name": "stdout",
     "output_type": "stream",
     "text": [
      "epoch 101| loss: 0.13918 | train_mse: 0.08434 | train_mae: 0.21712 |  0:01:04s\n"
     ]
    },
    {
     "name": "stdout",
     "output_type": "stream",
     "text": [
      "epoch 102| loss: 0.14822 | train_mse: 0.06035 | train_mae: 0.18539 |  0:01:04s\n"
     ]
    },
    {
     "name": "stdout",
     "output_type": "stream",
     "text": [
      "epoch 103| loss: 0.11149 | train_mse: 0.06272 | train_mae: 0.1901  |  0:01:04s\n"
     ]
    },
    {
     "name": "stdout",
     "output_type": "stream",
     "text": [
      "epoch 104| loss: 0.12093 | train_mse: 0.06968 | train_mae: 0.19465 |  0:01:05s\n"
     ]
    },
    {
     "name": "stdout",
     "output_type": "stream",
     "text": [
      "epoch 105| loss: 0.14103 | train_mse: 0.08577 | train_mae: 0.21559 |  0:01:06s\n"
     ]
    },
    {
     "name": "stdout",
     "output_type": "stream",
     "text": [
      "epoch 106| loss: 0.12922 | train_mse: 0.07259 | train_mae: 0.19907 |  0:01:06s\n"
     ]
    },
    {
     "name": "stdout",
     "output_type": "stream",
     "text": [
      "epoch 107| loss: 0.10685 | train_mse: 0.06397 | train_mae: 0.18816 |  0:01:07s\n"
     ]
    },
    {
     "name": "stdout",
     "output_type": "stream",
     "text": [
      "epoch 108| loss: 0.12633 | train_mse: 0.06984 | train_mae: 0.2001  |  0:01:08s\n"
     ]
    },
    {
     "name": "stdout",
     "output_type": "stream",
     "text": [
      "epoch 109| loss: 0.10491 | train_mse: 0.06729 | train_mae: 0.19589 |  0:01:10s\n"
     ]
    },
    {
     "name": "stdout",
     "output_type": "stream",
     "text": [
      "epoch 110| loss: 0.12755 | train_mse: 0.07476 | train_mae: 0.20191 |  0:01:10s\n"
     ]
    },
    {
     "name": "stdout",
     "output_type": "stream",
     "text": [
      "epoch 111| loss: 0.14144 | train_mse: 0.08072 | train_mae: 0.21344 |  0:01:11s\n"
     ]
    },
    {
     "name": "stdout",
     "output_type": "stream",
     "text": [
      "epoch 112| loss: 0.1251  | train_mse: 0.06844 | train_mae: 0.19773 |  0:01:12s\n"
     ]
    },
    {
     "name": "stdout",
     "output_type": "stream",
     "text": [
      "epoch 113| loss: 0.11209 | train_mse: 0.08284 | train_mae: 0.22223 |  0:01:12s\n"
     ]
    },
    {
     "name": "stdout",
     "output_type": "stream",
     "text": [
      "epoch 114| loss: 0.10704 | train_mse: 0.0645  | train_mae: 0.19201 |  0:01:13s\n"
     ]
    },
    {
     "name": "stdout",
     "output_type": "stream",
     "text": [
      "epoch 115| loss: 0.12534 | train_mse: 0.07401 | train_mae: 0.20658 |  0:01:14s\n"
     ]
    },
    {
     "name": "stdout",
     "output_type": "stream",
     "text": [
      "epoch 116| loss: 0.1248  | train_mse: 0.06528 | train_mae: 0.194   |  0:01:15s\n"
     ]
    },
    {
     "name": "stdout",
     "output_type": "stream",
     "text": [
      "epoch 117| loss: 0.09574 | train_mse: 0.06424 | train_mae: 0.19388 |  0:01:16s\n"
     ]
    },
    {
     "name": "stdout",
     "output_type": "stream",
     "text": [
      "epoch 118| loss: 0.11207 | train_mse: 0.06234 | train_mae: 0.19092 |  0:01:16s\n"
     ]
    },
    {
     "name": "stdout",
     "output_type": "stream",
     "text": [
      "epoch 119| loss: 0.11677 | train_mse: 0.07142 | train_mae: 0.20189 |  0:01:17s\n"
     ]
    },
    {
     "name": "stdout",
     "output_type": "stream",
     "text": [
      "epoch 120| loss: 0.12339 | train_mse: 0.06421 | train_mae: 0.18997 |  0:01:17s\n"
     ]
    },
    {
     "name": "stdout",
     "output_type": "stream",
     "text": [
      "epoch 121| loss: 0.10129 | train_mse: 0.06356 | train_mae: 0.19074 |  0:01:18s\n"
     ]
    },
    {
     "name": "stdout",
     "output_type": "stream",
     "text": [
      "epoch 122| loss: 0.11615 | train_mse: 0.06786 | train_mae: 0.19812 |  0:01:18s\n"
     ]
    },
    {
     "name": "stdout",
     "output_type": "stream",
     "text": [
      "epoch 123| loss: 0.11686 | train_mse: 0.05944 | train_mae: 0.18533 |  0:01:19s\n"
     ]
    },
    {
     "name": "stdout",
     "output_type": "stream",
     "text": [
      "epoch 124| loss: 0.14287 | train_mse: 0.06549 | train_mae: 0.19229 |  0:01:19s\n"
     ]
    },
    {
     "name": "stdout",
     "output_type": "stream",
     "text": [
      "epoch 125| loss: 0.13568 | train_mse: 0.0625  | train_mae: 0.19101 |  0:01:20s\n"
     ]
    },
    {
     "name": "stdout",
     "output_type": "stream",
     "text": [
      "epoch 126| loss: 0.138   | train_mse: 0.07169 | train_mae: 0.20347 |  0:01:21s\n"
     ]
    },
    {
     "name": "stdout",
     "output_type": "stream",
     "text": [
      "epoch 127| loss: 0.13587 | train_mse: 0.08739 | train_mae: 0.22378 |  0:01:22s\n"
     ]
    },
    {
     "name": "stdout",
     "output_type": "stream",
     "text": [
      "epoch 128| loss: 0.14453 | train_mse: 0.06506 | train_mae: 0.19258 |  0:01:23s\n"
     ]
    },
    {
     "name": "stdout",
     "output_type": "stream",
     "text": [
      "epoch 129| loss: 0.13659 | train_mse: 0.08365 | train_mae: 0.22212 |  0:01:24s\n"
     ]
    },
    {
     "name": "stdout",
     "output_type": "stream",
     "text": [
      "epoch 130| loss: 0.13081 | train_mse: 0.06334 | train_mae: 0.19112 |  0:01:25s\n"
     ]
    },
    {
     "name": "stdout",
     "output_type": "stream",
     "text": [
      "epoch 131| loss: 0.09653 | train_mse: 0.06658 | train_mae: 0.1951  |  0:01:25s\n"
     ]
    },
    {
     "name": "stdout",
     "output_type": "stream",
     "text": [
      "epoch 132| loss: 0.13914 | train_mse: 0.07524 | train_mae: 0.20671 |  0:01:26s\n"
     ]
    },
    {
     "name": "stdout",
     "output_type": "stream",
     "text": [
      "epoch 133| loss: 0.09742 | train_mse: 0.06465 | train_mae: 0.18915 |  0:01:26s\n"
     ]
    },
    {
     "name": "stdout",
     "output_type": "stream",
     "text": [
      "epoch 134| loss: 0.10949 | train_mse: 0.08965 | train_mae: 0.22657 |  0:01:28s\n"
     ]
    },
    {
     "name": "stdout",
     "output_type": "stream",
     "text": [
      "epoch 135| loss: 0.11482 | train_mse: 0.07413 | train_mae: 0.20193 |  0:01:29s\n"
     ]
    },
    {
     "name": "stdout",
     "output_type": "stream",
     "text": [
      "epoch 136| loss: 0.12244 | train_mse: 0.07548 | train_mae: 0.20959 |  0:01:30s\n"
     ]
    },
    {
     "name": "stdout",
     "output_type": "stream",
     "text": [
      "epoch 137| loss: 0.13771 | train_mse: 0.08077 | train_mae: 0.21019 |  0:01:31s\n"
     ]
    },
    {
     "name": "stdout",
     "output_type": "stream",
     "text": [
      "epoch 138| loss: 0.13753 | train_mse: 0.06237 | train_mae: 0.19356 |  0:01:32s\n"
     ]
    },
    {
     "name": "stdout",
     "output_type": "stream",
     "text": [
      "epoch 139| loss: 0.11651 | train_mse: 0.0612  | train_mae: 0.19006 |  0:01:33s\n"
     ]
    },
    {
     "name": "stdout",
     "output_type": "stream",
     "text": [
      "epoch 140| loss: 0.11648 | train_mse: 0.08451 | train_mae: 0.2246  |  0:01:34s\n"
     ]
    },
    {
     "name": "stdout",
     "output_type": "stream",
     "text": [
      "epoch 141| loss: 0.10671 | train_mse: 0.06278 | train_mae: 0.19239 |  0:01:35s\n"
     ]
    },
    {
     "name": "stdout",
     "output_type": "stream",
     "text": [
      "epoch 142| loss: 0.12284 | train_mse: 0.06701 | train_mae: 0.20029 |  0:01:36s\n"
     ]
    },
    {
     "name": "stdout",
     "output_type": "stream",
     "text": [
      "epoch 143| loss: 0.16411 | train_mse: 0.0825  | train_mae: 0.22149 |  0:01:36s\n"
     ]
    },
    {
     "name": "stdout",
     "output_type": "stream",
     "text": [
      "epoch 144| loss: 0.14022 | train_mse: 0.06347 | train_mae: 0.18999 |  0:01:37s\n"
     ]
    },
    {
     "name": "stdout",
     "output_type": "stream",
     "text": [
      "epoch 145| loss: 0.12139 | train_mse: 0.06606 | train_mae: 0.19961 |  0:01:37s\n"
     ]
    },
    {
     "name": "stdout",
     "output_type": "stream",
     "text": [
      "epoch 146| loss: 0.12729 | train_mse: 0.06488 | train_mae: 0.19242 |  0:01:38s\n"
     ]
    },
    {
     "name": "stdout",
     "output_type": "stream",
     "text": [
      "epoch 147| loss: 0.135   | train_mse: 0.07317 | train_mae: 0.1918  |  0:01:38s\n"
     ]
    },
    {
     "name": "stdout",
     "output_type": "stream",
     "text": [
      "epoch 148| loss: 0.10801 | train_mse: 0.07114 | train_mae: 0.19842 |  0:01:39s\n"
     ]
    },
    {
     "name": "stdout",
     "output_type": "stream",
     "text": [
      "epoch 149| loss: 0.10356 | train_mse: 0.06747 | train_mae: 0.19175 |  0:01:40s\n"
     ]
    },
    {
     "name": "stdout",
     "output_type": "stream",
     "text": [
      "epoch 150| loss: 0.12086 | train_mse: 0.06803 | train_mae: 0.19577 |  0:01:40s\n"
     ]
    },
    {
     "name": "stdout",
     "output_type": "stream",
     "text": [
      "epoch 151| loss: 0.14476 | train_mse: 0.0754  | train_mae: 0.20415 |  0:01:41s\n"
     ]
    },
    {
     "name": "stdout",
     "output_type": "stream",
     "text": [
      "epoch 152| loss: 0.11878 | train_mse: 0.06031 | train_mae: 0.18393 |  0:01:42s\n"
     ]
    },
    {
     "name": "stdout",
     "output_type": "stream",
     "text": [
      "epoch 153| loss: 0.11584 | train_mse: 0.06832 | train_mae: 0.19826 |  0:01:42s\n"
     ]
    },
    {
     "name": "stdout",
     "output_type": "stream",
     "text": [
      "epoch 154| loss: 0.12549 | train_mse: 0.06821 | train_mae: 0.19673 |  0:01:43s\n"
     ]
    },
    {
     "name": "stdout",
     "output_type": "stream",
     "text": [
      "epoch 155| loss: 0.11127 | train_mse: 0.08607 | train_mae: 0.21986 |  0:01:44s\n"
     ]
    },
    {
     "name": "stdout",
     "output_type": "stream",
     "text": [
      "epoch 156| loss: 0.11636 | train_mse: 0.07237 | train_mae: 0.20156 |  0:01:44s\n"
     ]
    },
    {
     "name": "stdout",
     "output_type": "stream",
     "text": [
      "epoch 157| loss: 0.14793 | train_mse: 0.06416 | train_mae: 0.18827 |  0:01:45s\n"
     ]
    },
    {
     "name": "stdout",
     "output_type": "stream",
     "text": [
      "epoch 158| loss: 0.12942 | train_mse: 0.0759  | train_mae: 0.2065  |  0:01:45s\n"
     ]
    },
    {
     "name": "stdout",
     "output_type": "stream",
     "text": [
      "epoch 159| loss: 0.12617 | train_mse: 0.06384 | train_mae: 0.18905 |  0:01:46s\n"
     ]
    },
    {
     "name": "stdout",
     "output_type": "stream",
     "text": [
      "epoch 160| loss: 0.13091 | train_mse: 0.06777 | train_mae: 0.19855 |  0:01:47s\n"
     ]
    },
    {
     "name": "stdout",
     "output_type": "stream",
     "text": [
      "epoch 161| loss: 0.12533 | train_mse: 0.07112 | train_mae: 0.20085 |  0:01:47s\n"
     ]
    },
    {
     "name": "stdout",
     "output_type": "stream",
     "text": [
      "epoch 162| loss: 0.12074 | train_mse: 0.10557 | train_mae: 0.23553 |  0:01:48s\n"
     ]
    },
    {
     "name": "stdout",
     "output_type": "stream",
     "text": [
      "epoch 163| loss: 0.13685 | train_mse: 0.06369 | train_mae: 0.19201 |  0:01:48s\n"
     ]
    },
    {
     "name": "stdout",
     "output_type": "stream",
     "text": [
      "epoch 164| loss: 0.10838 | train_mse: 0.0698  | train_mae: 0.19933 |  0:01:49s\n"
     ]
    },
    {
     "name": "stdout",
     "output_type": "stream",
     "text": [
      "epoch 165| loss: 0.12099 | train_mse: 0.07531 | train_mae: 0.20272 |  0:01:49s\n"
     ]
    },
    {
     "name": "stdout",
     "output_type": "stream",
     "text": [
      "epoch 166| loss: 0.10328 | train_mse: 0.06301 | train_mae: 0.19014 |  0:01:50s\n"
     ]
    },
    {
     "name": "stdout",
     "output_type": "stream",
     "text": [
      "epoch 167| loss: 0.1424  | train_mse: 0.0781  | train_mae: 0.21319 |  0:01:51s\n"
     ]
    },
    {
     "name": "stdout",
     "output_type": "stream",
     "text": [
      "epoch 168| loss: 0.11355 | train_mse: 0.06695 | train_mae: 0.19744 |  0:01:53s\n"
     ]
    },
    {
     "name": "stdout",
     "output_type": "stream",
     "text": [
      "epoch 169| loss: 0.09301 | train_mse: 0.06787 | train_mae: 0.19993 |  0:01:54s\n"
     ]
    },
    {
     "name": "stdout",
     "output_type": "stream",
     "text": [
      "epoch 170| loss: 0.09129 | train_mse: 0.08246 | train_mae: 0.22076 |  0:01:56s\n"
     ]
    },
    {
     "name": "stdout",
     "output_type": "stream",
     "text": [
      "epoch 171| loss: 0.16057 | train_mse: 0.06588 | train_mae: 0.19443 |  0:01:57s\n"
     ]
    },
    {
     "name": "stdout",
     "output_type": "stream",
     "text": [
      "epoch 172| loss: 0.11463 | train_mse: 0.06516 | train_mae: 0.19603 |  0:01:58s\n"
     ]
    },
    {
     "name": "stdout",
     "output_type": "stream",
     "text": [
      "epoch 173| loss: 0.12522 | train_mse: 0.05808 | train_mae: 0.18387 |  0:01:59s\n"
     ]
    },
    {
     "name": "stdout",
     "output_type": "stream",
     "text": [
      "epoch 174| loss: 0.14463 | train_mse: 0.05988 | train_mae: 0.18677 |  0:02:00s\n"
     ]
    },
    {
     "name": "stdout",
     "output_type": "stream",
     "text": [
      "epoch 175| loss: 0.11065 | train_mse: 0.06551 | train_mae: 0.19573 |  0:02:02s\n"
     ]
    },
    {
     "name": "stdout",
     "output_type": "stream",
     "text": [
      "epoch 176| loss: 0.11808 | train_mse: 0.06916 | train_mae: 0.19796 |  0:02:03s\n"
     ]
    },
    {
     "name": "stdout",
     "output_type": "stream",
     "text": [
      "epoch 177| loss: 0.08823 | train_mse: 0.07218 | train_mae: 0.20072 |  0:02:05s\n"
     ]
    },
    {
     "name": "stdout",
     "output_type": "stream",
     "text": [
      "epoch 178| loss: 0.11025 | train_mse: 0.06956 | train_mae: 0.20017 |  0:02:06s\n"
     ]
    },
    {
     "name": "stdout",
     "output_type": "stream",
     "text": [
      "epoch 179| loss: 0.12712 | train_mse: 0.09421 | train_mae: 0.203   |  0:02:08s\n"
     ]
    },
    {
     "name": "stdout",
     "output_type": "stream",
     "text": [
      "epoch 180| loss: 0.11965 | train_mse: 0.09596 | train_mae: 0.20304 |  0:02:09s\n"
     ]
    },
    {
     "name": "stdout",
     "output_type": "stream",
     "text": [
      "epoch 181| loss: 0.10101 | train_mse: 0.08638 | train_mae: 0.2048  |  0:02:10s\n"
     ]
    },
    {
     "name": "stdout",
     "output_type": "stream",
     "text": [
      "epoch 182| loss: 0.10981 | train_mse: 0.07322 | train_mae: 0.20401 |  0:02:11s\n"
     ]
    },
    {
     "name": "stdout",
     "output_type": "stream",
     "text": [
      "epoch 183| loss: 0.09886 | train_mse: 0.06661 | train_mae: 0.1968  |  0:02:13s\n"
     ]
    },
    {
     "name": "stdout",
     "output_type": "stream",
     "text": [
      "epoch 184| loss: 0.13961 | train_mse: 0.07182 | train_mae: 0.20394 |  0:02:14s\n"
     ]
    },
    {
     "name": "stdout",
     "output_type": "stream",
     "text": [
      "epoch 185| loss: 0.09781 | train_mse: 0.07054 | train_mae: 0.20227 |  0:02:15s\n"
     ]
    },
    {
     "name": "stdout",
     "output_type": "stream",
     "text": [
      "epoch 186| loss: 0.12451 | train_mse: 0.05621 | train_mae: 0.17978 |  0:02:16s\n"
     ]
    },
    {
     "name": "stdout",
     "output_type": "stream",
     "text": [
      "epoch 187| loss: 0.12859 | train_mse: 0.10781 | train_mae: 0.22148 |  0:02:17s\n"
     ]
    },
    {
     "name": "stdout",
     "output_type": "stream",
     "text": [
      "epoch 188| loss: 0.12609 | train_mse: 0.10579 | train_mae: 0.21538 |  0:02:17s\n"
     ]
    },
    {
     "name": "stdout",
     "output_type": "stream",
     "text": [
      "epoch 189| loss: 0.14451 | train_mse: 0.06838 | train_mae: 0.1917  |  0:02:18s\n"
     ]
    },
    {
     "name": "stdout",
     "output_type": "stream",
     "text": [
      "epoch 190| loss: 0.15916 | train_mse: 0.08845 | train_mae: 0.21542 |  0:02:19s\n"
     ]
    },
    {
     "name": "stdout",
     "output_type": "stream",
     "text": [
      "epoch 191| loss: 0.14491 | train_mse: 0.05592 | train_mae: 0.1765  |  0:02:20s\n"
     ]
    },
    {
     "name": "stdout",
     "output_type": "stream",
     "text": [
      "epoch 192| loss: 0.1212  | train_mse: 0.05824 | train_mae: 0.17838 |  0:02:20s\n"
     ]
    },
    {
     "name": "stdout",
     "output_type": "stream",
     "text": [
      "epoch 193| loss: 0.08995 | train_mse: 0.05904 | train_mae: 0.18441 |  0:02:20s\n"
     ]
    },
    {
     "name": "stdout",
     "output_type": "stream",
     "text": [
      "epoch 194| loss: 0.10788 | train_mse: 0.05956 | train_mae: 0.18517 |  0:02:21s\n"
     ]
    },
    {
     "name": "stdout",
     "output_type": "stream",
     "text": [
      "epoch 195| loss: 0.12546 | train_mse: 0.07089 | train_mae: 0.20125 |  0:02:21s\n"
     ]
    },
    {
     "name": "stdout",
     "output_type": "stream",
     "text": [
      "epoch 196| loss: 0.09823 | train_mse: 0.06367 | train_mae: 0.18855 |  0:02:21s\n"
     ]
    },
    {
     "name": "stdout",
     "output_type": "stream",
     "text": [
      "epoch 197| loss: 0.11221 | train_mse: 0.06966 | train_mae: 0.20236 |  0:02:22s\n"
     ]
    },
    {
     "name": "stdout",
     "output_type": "stream",
     "text": [
      "epoch 198| loss: 0.10341 | train_mse: 0.06033 | train_mae: 0.18225 |  0:02:22s\n"
     ]
    },
    {
     "name": "stdout",
     "output_type": "stream",
     "text": [
      "epoch 199| loss: 0.11843 | train_mse: 0.06287 | train_mae: 0.18857 |  0:02:23s\n"
     ]
    },
    {
     "name": "stdout",
     "output_type": "stream",
     "text": [
      "epoch 200| loss: 0.10135 | train_mse: 0.0658  | train_mae: 0.19379 |  0:02:24s\n"
     ]
    },
    {
     "name": "stdout",
     "output_type": "stream",
     "text": [
      "epoch 201| loss: 0.1268  | train_mse: 0.07661 | train_mae: 0.2062  |  0:02:25s\n"
     ]
    },
    {
     "name": "stdout",
     "output_type": "stream",
     "text": [
      "epoch 202| loss: 0.11231 | train_mse: 0.05919 | train_mae: 0.1838  |  0:02:26s\n"
     ]
    },
    {
     "name": "stdout",
     "output_type": "stream",
     "text": [
      "epoch 203| loss: 0.10478 | train_mse: 0.0703  | train_mae: 0.20121 |  0:02:26s\n"
     ]
    },
    {
     "name": "stdout",
     "output_type": "stream",
     "text": [
      "epoch 204| loss: 0.10801 | train_mse: 0.05275 | train_mae: 0.17271 |  0:02:27s\n"
     ]
    },
    {
     "name": "stdout",
     "output_type": "stream",
     "text": [
      "epoch 205| loss: 0.13229 | train_mse: 0.05578 | train_mae: 0.18425 |  0:02:27s\n"
     ]
    },
    {
     "name": "stdout",
     "output_type": "stream",
     "text": [
      "epoch 206| loss: 0.12119 | train_mse: 0.06189 | train_mae: 0.18966 |  0:02:28s\n"
     ]
    },
    {
     "name": "stdout",
     "output_type": "stream",
     "text": [
      "epoch 207| loss: 0.11545 | train_mse: 0.09121 | train_mae: 0.20142 |  0:02:28s\n"
     ]
    },
    {
     "name": "stdout",
     "output_type": "stream",
     "text": [
      "epoch 208| loss: 0.08929 | train_mse: 0.07158 | train_mae: 0.20028 |  0:02:29s\n"
     ]
    },
    {
     "name": "stdout",
     "output_type": "stream",
     "text": [
      "epoch 209| loss: 0.11406 | train_mse: 0.06466 | train_mae: 0.19169 |  0:02:29s\n"
     ]
    },
    {
     "name": "stdout",
     "output_type": "stream",
     "text": [
      "epoch 210| loss: 0.12917 | train_mse: 0.06259 | train_mae: 0.19082 |  0:02:29s\n"
     ]
    },
    {
     "name": "stdout",
     "output_type": "stream",
     "text": [
      "epoch 211| loss: 0.09378 | train_mse: 0.06372 | train_mae: 0.1936  |  0:02:30s\n"
     ]
    },
    {
     "name": "stdout",
     "output_type": "stream",
     "text": [
      "epoch 212| loss: 0.13329 | train_mse: 0.05933 | train_mae: 0.18661 |  0:02:30s\n"
     ]
    },
    {
     "name": "stdout",
     "output_type": "stream",
     "text": [
      "epoch 213| loss: 0.10212 | train_mse: 0.06295 | train_mae: 0.19032 |  0:02:31s\n"
     ]
    },
    {
     "name": "stdout",
     "output_type": "stream",
     "text": [
      "epoch 214| loss: 0.14718 | train_mse: 0.05591 | train_mae: 0.17641 |  0:02:31s\n"
     ]
    },
    {
     "name": "stdout",
     "output_type": "stream",
     "text": [
      "epoch 215| loss: 0.11006 | train_mse: 0.0653  | train_mae: 0.19354 |  0:02:32s\n"
     ]
    },
    {
     "name": "stdout",
     "output_type": "stream",
     "text": [
      "epoch 216| loss: 0.09672 | train_mse: 0.06383 | train_mae: 0.18595 |  0:02:32s\n"
     ]
    },
    {
     "name": "stdout",
     "output_type": "stream",
     "text": [
      "epoch 217| loss: 0.15147 | train_mse: 0.06483 | train_mae: 0.19198 |  0:02:32s\n"
     ]
    },
    {
     "name": "stdout",
     "output_type": "stream",
     "text": [
      "epoch 218| loss: 0.08915 | train_mse: 0.07679 | train_mae: 0.1956  |  0:02:33s\n"
     ]
    },
    {
     "name": "stdout",
     "output_type": "stream",
     "text": [
      "epoch 219| loss: 0.11796 | train_mse: 0.05699 | train_mae: 0.18399 |  0:02:33s\n"
     ]
    },
    {
     "name": "stdout",
     "output_type": "stream",
     "text": [
      "epoch 220| loss: 0.12723 | train_mse: 0.06216 | train_mae: 0.19014 |  0:02:34s\n"
     ]
    },
    {
     "name": "stdout",
     "output_type": "stream",
     "text": [
      "epoch 221| loss: 0.10521 | train_mse: 0.05549 | train_mae: 0.1778  |  0:02:34s\n"
     ]
    },
    {
     "name": "stdout",
     "output_type": "stream",
     "text": [
      "epoch 222| loss: 0.10989 | train_mse: 0.06322 | train_mae: 0.19235 |  0:02:35s\n"
     ]
    },
    {
     "name": "stdout",
     "output_type": "stream",
     "text": [
      "epoch 223| loss: 0.10643 | train_mse: 0.05394 | train_mae: 0.17784 |  0:02:35s\n"
     ]
    },
    {
     "name": "stdout",
     "output_type": "stream",
     "text": [
      "epoch 224| loss: 0.11311 | train_mse: 0.07241 | train_mae: 0.19565 |  0:02:36s\n"
     ]
    },
    {
     "name": "stdout",
     "output_type": "stream",
     "text": [
      "epoch 225| loss: 0.11675 | train_mse: 0.06537 | train_mae: 0.18361 |  0:02:37s\n"
     ]
    },
    {
     "name": "stdout",
     "output_type": "stream",
     "text": [
      "epoch 226| loss: 0.11455 | train_mse: 0.06308 | train_mae: 0.1917  |  0:02:37s\n"
     ]
    },
    {
     "name": "stdout",
     "output_type": "stream",
     "text": [
      "epoch 227| loss: 0.10825 | train_mse: 0.05791 | train_mae: 0.18433 |  0:02:38s\n"
     ]
    },
    {
     "name": "stdout",
     "output_type": "stream",
     "text": [
      "epoch 228| loss: 0.09626 | train_mse: 0.05003 | train_mae: 0.17137 |  0:02:38s\n"
     ]
    },
    {
     "name": "stdout",
     "output_type": "stream",
     "text": [
      "epoch 229| loss: 0.08464 | train_mse: 0.06345 | train_mae: 0.19215 |  0:02:38s\n"
     ]
    },
    {
     "name": "stdout",
     "output_type": "stream",
     "text": [
      "epoch 230| loss: 0.10191 | train_mse: 0.06603 | train_mae: 0.19576 |  0:02:39s\n"
     ]
    },
    {
     "name": "stdout",
     "output_type": "stream",
     "text": [
      "epoch 231| loss: 0.10104 | train_mse: 0.06541 | train_mae: 0.19636 |  0:02:39s\n"
     ]
    },
    {
     "name": "stdout",
     "output_type": "stream",
     "text": [
      "epoch 232| loss: 0.08884 | train_mse: 0.05607 | train_mae: 0.18338 |  0:02:40s\n"
     ]
    },
    {
     "name": "stdout",
     "output_type": "stream",
     "text": [
      "epoch 233| loss: 0.11086 | train_mse: 0.05679 | train_mae: 0.18232 |  0:02:41s\n"
     ]
    },
    {
     "name": "stdout",
     "output_type": "stream",
     "text": [
      "epoch 234| loss: 0.10497 | train_mse: 0.05325 | train_mae: 0.17607 |  0:02:41s\n"
     ]
    },
    {
     "name": "stdout",
     "output_type": "stream",
     "text": [
      "epoch 235| loss: 0.09863 | train_mse: 0.05166 | train_mae: 0.1734  |  0:02:41s\n"
     ]
    },
    {
     "name": "stdout",
     "output_type": "stream",
     "text": [
      "epoch 236| loss: 0.1136  | train_mse: 0.06295 | train_mae: 0.19068 |  0:02:42s\n"
     ]
    },
    {
     "name": "stdout",
     "output_type": "stream",
     "text": [
      "epoch 237| loss: 0.11945 | train_mse: 0.05217 | train_mae: 0.17353 |  0:02:43s\n"
     ]
    },
    {
     "name": "stdout",
     "output_type": "stream",
     "text": [
      "epoch 238| loss: 0.10032 | train_mse: 0.05083 | train_mae: 0.17168 |  0:02:43s\n"
     ]
    },
    {
     "name": "stdout",
     "output_type": "stream",
     "text": [
      "epoch 239| loss: 0.0989  | train_mse: 0.06935 | train_mae: 0.19836 |  0:02:44s\n"
     ]
    },
    {
     "name": "stdout",
     "output_type": "stream",
     "text": [
      "epoch 240| loss: 0.10439 | train_mse: 0.06035 | train_mae: 0.1856  |  0:02:44s\n"
     ]
    },
    {
     "name": "stdout",
     "output_type": "stream",
     "text": [
      "epoch 241| loss: 0.09251 | train_mse: 0.05686 | train_mae: 0.18091 |  0:02:45s\n"
     ]
    },
    {
     "name": "stdout",
     "output_type": "stream",
     "text": [
      "epoch 242| loss: 0.08375 | train_mse: 0.06316 | train_mae: 0.19115 |  0:02:46s\n"
     ]
    },
    {
     "name": "stdout",
     "output_type": "stream",
     "text": [
      "epoch 243| loss: 0.0869  | train_mse: 0.05708 | train_mae: 0.17962 |  0:02:46s\n"
     ]
    },
    {
     "name": "stdout",
     "output_type": "stream",
     "text": [
      "epoch 244| loss: 0.1096  | train_mse: 0.05332 | train_mae: 0.17382 |  0:02:47s\n"
     ]
    },
    {
     "name": "stdout",
     "output_type": "stream",
     "text": [
      "epoch 245| loss: 0.1023  | train_mse: 0.05921 | train_mae: 0.18387 |  0:02:47s\n"
     ]
    },
    {
     "name": "stdout",
     "output_type": "stream",
     "text": [
      "epoch 246| loss: 0.10353 | train_mse: 0.059   | train_mae: 0.18593 |  0:02:47s\n"
     ]
    },
    {
     "name": "stdout",
     "output_type": "stream",
     "text": [
      "epoch 247| loss: 0.1321  | train_mse: 0.05278 | train_mae: 0.16911 |  0:02:48s\n"
     ]
    },
    {
     "name": "stdout",
     "output_type": "stream",
     "text": [
      "epoch 248| loss: 0.08804 | train_mse: 0.0564  | train_mae: 0.17991 |  0:02:48s\n"
     ]
    },
    {
     "name": "stdout",
     "output_type": "stream",
     "text": [
      "epoch 249| loss: 0.08823 | train_mse: 0.06262 | train_mae: 0.18581 |  0:02:49s\n"
     ]
    },
    {
     "name": "stdout",
     "output_type": "stream",
     "text": [
      "epoch 250| loss: 0.10558 | train_mse: 0.05579 | train_mae: 0.17037 |  0:02:49s\n"
     ]
    },
    {
     "name": "stdout",
     "output_type": "stream",
     "text": [
      "epoch 251| loss: 0.10461 | train_mse: 0.05525 | train_mae: 0.16964 |  0:02:49s\n"
     ]
    },
    {
     "name": "stdout",
     "output_type": "stream",
     "text": [
      "epoch 252| loss: 0.16653 | train_mse: 0.07518 | train_mae: 0.19823 |  0:02:50s\n"
     ]
    },
    {
     "name": "stdout",
     "output_type": "stream",
     "text": [
      "epoch 253| loss: 0.10926 | train_mse: 0.05861 | train_mae: 0.17988 |  0:02:50s\n"
     ]
    },
    {
     "name": "stdout",
     "output_type": "stream",
     "text": [
      "epoch 254| loss: 0.15063 | train_mse: 0.05443 | train_mae: 0.17675 |  0:02:51s\n"
     ]
    },
    {
     "name": "stdout",
     "output_type": "stream",
     "text": [
      "epoch 255| loss: 0.13266 | train_mse: 0.07093 | train_mae: 0.19893 |  0:02:52s\n"
     ]
    },
    {
     "name": "stdout",
     "output_type": "stream",
     "text": [
      "epoch 256| loss: 0.12462 | train_mse: 0.06108 | train_mae: 0.18024 |  0:02:52s\n"
     ]
    },
    {
     "name": "stdout",
     "output_type": "stream",
     "text": [
      "epoch 257| loss: 0.10055 | train_mse: 0.11094 | train_mae: 0.21304 |  0:02:53s\n"
     ]
    },
    {
     "name": "stdout",
     "output_type": "stream",
     "text": [
      "epoch 258| loss: 0.13757 | train_mse: 0.07588 | train_mae: 0.20027 |  0:02:55s\n"
     ]
    },
    {
     "name": "stdout",
     "output_type": "stream",
     "text": [
      "epoch 259| loss: 0.08649 | train_mse: 0.06753 | train_mae: 0.18519 |  0:02:56s\n"
     ]
    },
    {
     "name": "stdout",
     "output_type": "stream",
     "text": [
      "epoch 260| loss: 0.10294 | train_mse: 0.07118 | train_mae: 0.19574 |  0:02:56s\n"
     ]
    },
    {
     "name": "stdout",
     "output_type": "stream",
     "text": [
      "epoch 261| loss: 0.11935 | train_mse: 0.05523 | train_mae: 0.17236 |  0:02:58s\n"
     ]
    },
    {
     "name": "stdout",
     "output_type": "stream",
     "text": [
      "epoch 262| loss: 0.12819 | train_mse: 0.05222 | train_mae: 0.17184 |  0:02:58s\n"
     ]
    },
    {
     "name": "stdout",
     "output_type": "stream",
     "text": [
      "epoch 263| loss: 0.08199 | train_mse: 0.0573  | train_mae: 0.17434 |  0:02:59s\n"
     ]
    },
    {
     "name": "stdout",
     "output_type": "stream",
     "text": [
      "epoch 264| loss: 0.1141  | train_mse: 0.05741 | train_mae: 0.18237 |  0:03:00s\n"
     ]
    },
    {
     "name": "stdout",
     "output_type": "stream",
     "text": [
      "epoch 265| loss: 0.15225 | train_mse: 0.05601 | train_mae: 0.17985 |  0:03:01s\n"
     ]
    },
    {
     "name": "stdout",
     "output_type": "stream",
     "text": [
      "epoch 266| loss: 0.13882 | train_mse: 0.06489 | train_mae: 0.19112 |  0:03:01s\n"
     ]
    },
    {
     "name": "stdout",
     "output_type": "stream",
     "text": [
      "epoch 267| loss: 0.09655 | train_mse: 0.05827 | train_mae: 0.17588 |  0:03:02s\n"
     ]
    },
    {
     "name": "stdout",
     "output_type": "stream",
     "text": [
      "epoch 268| loss: 0.11131 | train_mse: 0.09814 | train_mae: 0.20981 |  0:03:02s\n"
     ]
    },
    {
     "name": "stdout",
     "output_type": "stream",
     "text": [
      "epoch 269| loss: 0.10847 | train_mse: 0.07857 | train_mae: 0.20911 |  0:03:03s\n"
     ]
    },
    {
     "name": "stdout",
     "output_type": "stream",
     "text": [
      "epoch 270| loss: 0.12212 | train_mse: 0.0703  | train_mae: 0.19239 |  0:03:04s\n"
     ]
    },
    {
     "name": "stdout",
     "output_type": "stream",
     "text": [
      "epoch 271| loss: 0.09829 | train_mse: 0.06066 | train_mae: 0.1833  |  0:03:04s\n"
     ]
    },
    {
     "name": "stdout",
     "output_type": "stream",
     "text": [
      "epoch 272| loss: 0.09791 | train_mse: 0.05713 | train_mae: 0.17593 |  0:03:04s\n"
     ]
    },
    {
     "name": "stdout",
     "output_type": "stream",
     "text": [
      "epoch 273| loss: 0.12541 | train_mse: 0.07271 | train_mae: 0.18223 |  0:03:05s\n"
     ]
    },
    {
     "name": "stdout",
     "output_type": "stream",
     "text": [
      "epoch 274| loss: 0.12315 | train_mse: 0.07713 | train_mae: 0.19011 |  0:03:06s\n"
     ]
    },
    {
     "name": "stdout",
     "output_type": "stream",
     "text": [
      "epoch 275| loss: 0.13055 | train_mse: 0.07229 | train_mae: 0.2034  |  0:03:06s\n"
     ]
    },
    {
     "name": "stdout",
     "output_type": "stream",
     "text": [
      "epoch 276| loss: 0.12277 | train_mse: 0.05647 | train_mae: 0.18259 |  0:03:07s\n"
     ]
    },
    {
     "name": "stdout",
     "output_type": "stream",
     "text": [
      "epoch 277| loss: 0.108   | train_mse: 0.06375 | train_mae: 0.19226 |  0:03:07s\n"
     ]
    },
    {
     "name": "stdout",
     "output_type": "stream",
     "text": [
      "epoch 278| loss: 0.10209 | train_mse: 0.06581 | train_mae: 0.18994 |  0:03:08s\n"
     ]
    },
    {
     "name": "stdout",
     "output_type": "stream",
     "text": [
      "epoch 279| loss: 0.10233 | train_mse: 0.06081 | train_mae: 0.18926 |  0:03:08s\n"
     ]
    },
    {
     "name": "stdout",
     "output_type": "stream",
     "text": [
      "epoch 280| loss: 0.10373 | train_mse: 0.07085 | train_mae: 0.20488 |  0:03:09s\n"
     ]
    },
    {
     "name": "stdout",
     "output_type": "stream",
     "text": [
      "epoch 281| loss: 0.10793 | train_mse: 0.08129 | train_mae: 0.20032 |  0:03:09s\n"
     ]
    },
    {
     "name": "stdout",
     "output_type": "stream",
     "text": [
      "epoch 282| loss: 0.11426 | train_mse: 0.07764 | train_mae: 0.20711 |  0:03:09s\n"
     ]
    },
    {
     "name": "stdout",
     "output_type": "stream",
     "text": [
      "epoch 283| loss: 0.15286 | train_mse: 0.07679 | train_mae: 0.20149 |  0:03:10s\n"
     ]
    },
    {
     "name": "stdout",
     "output_type": "stream",
     "text": [
      "epoch 284| loss: 0.12468 | train_mse: 0.06152 | train_mae: 0.18316 |  0:03:10s\n"
     ]
    },
    {
     "name": "stdout",
     "output_type": "stream",
     "text": [
      "epoch 285| loss: 0.09251 | train_mse: 0.06177 | train_mae: 0.18379 |  0:03:10s\n"
     ]
    },
    {
     "name": "stdout",
     "output_type": "stream",
     "text": [
      "epoch 286| loss: 0.11497 | train_mse: 0.06589 | train_mae: 0.18703 |  0:03:11s\n"
     ]
    },
    {
     "name": "stdout",
     "output_type": "stream",
     "text": [
      "epoch 287| loss: 0.12122 | train_mse: 0.06867 | train_mae: 0.18771 |  0:03:11s\n"
     ]
    },
    {
     "name": "stdout",
     "output_type": "stream",
     "text": [
      "epoch 288| loss: 0.12376 | train_mse: 0.06594 | train_mae: 0.18803 |  0:03:12s\n"
     ]
    },
    {
     "name": "stdout",
     "output_type": "stream",
     "text": [
      "epoch 289| loss: 0.1352  | train_mse: 0.07531 | train_mae: 0.19664 |  0:03:13s\n"
     ]
    },
    {
     "name": "stdout",
     "output_type": "stream",
     "text": [
      "epoch 290| loss: 0.10779 | train_mse: 0.07458 | train_mae: 0.18901 |  0:03:13s\n"
     ]
    },
    {
     "name": "stdout",
     "output_type": "stream",
     "text": [
      "epoch 291| loss: 0.09898 | train_mse: 0.08042 | train_mae: 0.19483 |  0:03:14s\n"
     ]
    },
    {
     "name": "stdout",
     "output_type": "stream",
     "text": [
      "epoch 292| loss: 0.12392 | train_mse: 0.09208 | train_mae: 0.20302 |  0:03:15s\n"
     ]
    },
    {
     "name": "stdout",
     "output_type": "stream",
     "text": [
      "epoch 293| loss: 0.10436 | train_mse: 0.06338 | train_mae: 0.17772 |  0:03:16s\n"
     ]
    },
    {
     "name": "stdout",
     "output_type": "stream",
     "text": [
      "epoch 294| loss: 0.09883 | train_mse: 0.06034 | train_mae: 0.17301 |  0:03:17s\n"
     ]
    },
    {
     "name": "stdout",
     "output_type": "stream",
     "text": [
      "epoch 295| loss: 0.11721 | train_mse: 0.06752 | train_mae: 0.18399 |  0:03:18s\n"
     ]
    },
    {
     "name": "stdout",
     "output_type": "stream",
     "text": [
      "epoch 296| loss: 0.10871 | train_mse: 0.06127 | train_mae: 0.17624 |  0:03:20s\n"
     ]
    },
    {
     "name": "stdout",
     "output_type": "stream",
     "text": [
      "epoch 297| loss: 0.11126 | train_mse: 0.06923 | train_mae: 0.19192 |  0:03:20s\n",
      "\n",
      "Early stopping occurred at epoch 297 with best_epoch = 247 and best_train_mae = 0.16911\n",
      "Best weights from best epoch are automatically used!\n"
     ]
    }
   ],
   "source": [
    "#Train the Model\n",
    "\n",
    "Y_train = np.reshape(Y_train, (-1, 1))\n",
    "Y_test = np.reshape(Y_test, (-1, 1))\n",
    "\n",
    "prior_model = TabNetRegressor(optimizer_fn=torch.optim.Adam, optimizer_params=dict(lr = 0.01),\n",
    "          #scheduler_params={\"step_size\":10, ], \"gamma\":0.9},\n",
    "          #scheduler_fn=torch.optim.lr_scheduler.StepLR\n",
    "          )  #TabNetRegressor()\n",
    "\n",
    "prior_model.fit(X_train,Y_train,eval_set=[(X_train, Y_train)],\n",
    "            eval_name=['train'], \n",
    "            eval_metric=[ 'mse', 'mae'], \n",
    "            max_epochs = n_epochs, \n",
    "            batch_size = batch_size,\n",
    "            patience=50\n",
    "            )"
   ]
  },
  {
   "cell_type": "code",
   "execution_count": 10,
   "id": "af65dcda",
   "metadata": {
    "execution": {
     "iopub.execute_input": "2022-07-22T11:10:14.459432Z",
     "iopub.status.busy": "2022-07-22T11:10:14.458329Z",
     "iopub.status.idle": "2022-07-22T11:10:14.582630Z",
     "shell.execute_reply": "2022-07-22T11:10:14.580616Z"
    },
    "id": "af65dcda",
    "papermill": {
     "duration": 0.181614,
     "end_time": "2022-07-22T11:10:14.588864",
     "exception": false,
     "start_time": "2022-07-22T11:10:14.407250",
     "status": "completed"
    },
    "tags": []
   },
   "outputs": [
    {
     "data": {
      "application/scrapbook.scrap.json+json": {
       "data": 0.1314548025578684,
       "encoder": "json",
       "name": "Prior Model MSE",
       "version": 1
      }
     },
     "metadata": {
      "scrapbook": {
       "data": true,
       "display": false,
       "name": "Prior Model MSE"
      }
     },
     "output_type": "display_data"
    },
    {
     "data": {
      "application/scrapbook.scrap.json+json": {
       "data": 0.15353125176241952,
       "encoder": "json",
       "name": "ABC Pre-generator MSE",
       "version": 1
      }
     },
     "metadata": {
      "scrapbook": {
       "data": true,
       "display": false,
       "name": "ABC Pre-generator MSE"
      }
     },
     "output_type": "display_data"
    },
    {
     "data": {
      "application/scrapbook.scrap.json+json": {
       "data": 0.23500125078177256,
       "encoder": "json",
       "name": "Prior Model MAE",
       "version": 1
      }
     },
     "metadata": {
      "scrapbook": {
       "data": true,
       "display": false,
       "name": "Prior Model MAE"
      }
     },
     "output_type": "display_data"
    },
    {
     "name": "stdout",
     "output_type": "stream",
     "text": [
      "Prior Model MAE 0.23500125078177256\n"
     ]
    },
    {
     "data": {
      "application/scrapbook.scrap.json+json": {
       "data": 0.2796910309040307,
       "encoder": "json",
       "name": "ABC Pre-generator MAE",
       "version": 1
      }
     },
     "metadata": {
      "scrapbook": {
       "data": true,
       "display": false,
       "name": "ABC Pre-generator MAE"
      }
     },
     "output_type": "display_data"
    },
    {
     "name": "stdout",
     "output_type": "stream",
     "text": [
      "ABC Pre-generator MAE 0.2796910309040307\n"
     ]
    }
   ],
   "source": [
    "y_pred = prior_model.predict(X_test)\n",
    "y_abc = y_pred + np.random.normal(0,variance, y_pred.shape) + bias \n",
    "mse = mean_squared_error(y_pred,Y_test)\n",
    "sb.glue(\"Prior Model MSE\",mse)\n",
    "mse = mean_squared_error(y_abc,Y_test)\n",
    "sb.glue(\"ABC Pre-generator MSE\",mse)\n",
    "mae = mean_absolute_error(y_pred,Y_test)\n",
    "sb.glue(\"Prior Model MAE\",mae)\n",
    "print(\"Prior Model MAE\",mae)\n",
    "mae = mean_absolute_error(y_abc,Y_test)\n",
    "sb.glue(\"ABC Pre-generator MAE\",mae)\n",
    "print(\"ABC Pre-generator MAE\",mae)"
   ]
  },
  {
   "cell_type": "markdown",
   "id": "25609da2",
   "metadata": {
    "papermill": {
     "duration": 0.04902,
     "end_time": "2022-07-22T11:10:14.675527",
     "exception": false,
     "start_time": "2022-07-22T11:10:14.626507",
     "status": "completed"
    },
    "tags": []
   },
   "source": [
    "# mGAN Model"
   ]
  },
  {
   "cell_type": "code",
   "execution_count": 11,
   "id": "dfc3464d",
   "metadata": {
    "execution": {
     "iopub.execute_input": "2022-07-22T11:10:14.774405Z",
     "iopub.status.busy": "2022-07-22T11:10:14.773745Z",
     "iopub.status.idle": "2022-07-22T11:10:14.787321Z",
     "shell.execute_reply": "2022-07-22T11:10:14.784710Z"
    },
    "papermill": {
     "duration": 0.067842,
     "end_time": "2022-07-22T11:10:14.797662",
     "exception": false,
     "start_time": "2022-07-22T11:10:14.729820",
     "status": "completed"
    },
    "tags": []
   },
   "outputs": [],
   "source": [
    "gen = network.Generator(n_features+1).to(device)\n",
    "disc = network.Discriminator(n_features+1).to(device)\n",
    "\n",
    "criterion = torch.nn.BCELoss()\n",
    "gen_opt = torch.optim.Adam(gen.parameters(), lr=0.01, betas=(0.5, 0.999))\n",
    "disc_opt = torch.optim.Adam(disc.parameters(), lr=0.01, betas=(0.5, 0.999))"
   ]
  },
  {
   "cell_type": "code",
   "execution_count": 12,
   "id": "b75fdd85",
   "metadata": {
    "execution": {
     "iopub.execute_input": "2022-07-22T11:10:14.894830Z",
     "iopub.status.busy": "2022-07-22T11:10:14.894476Z",
     "iopub.status.idle": "2022-07-22T11:16:47.774956Z",
     "shell.execute_reply": "2022-07-22T11:16:47.773432Z"
    },
    "papermill": {
     "duration": 392.953035,
     "end_time": "2022-07-22T11:16:47.779854",
     "exception": false,
     "start_time": "2022-07-22T11:10:14.826819",
     "status": "completed"
    },
    "tags": []
   },
   "outputs": [
    {
     "data": {
      "image/png": "[encoded data removed]",
      "text/plain": [
       "<Figure size 432x288 with 1 Axes>"
      ]
     },
     "metadata": {
      "needs_background": "light"
     },
     "output_type": "display_data"
    },
    {
     "data": {
      "image/png": "[encoded data removed]",
      "text/plain": [
       "<Figure size 432x288 with 1 Axes>"
      ]
     },
     "metadata": {
      "needs_background": "light"
     },
     "output_type": "display_data"
    }
   ],
   "source": [
    "#Training the ABC_GAN \n",
    "ABC_train_test2.training_GAN(disc,gen,disc_opt,gen_opt,train_data,batch_size,n_epochs,criterion,prior_model,variance,bias,device)"
   ]
  },
  {
   "cell_type": "code",
   "execution_count": 13,
   "id": "1fa7c368",
   "metadata": {
    "execution": {
     "iopub.execute_input": "2022-07-22T11:16:47.872981Z",
     "iopub.status.busy": "2022-07-22T11:16:47.872267Z",
     "iopub.status.idle": "2022-07-22T11:16:54.268564Z",
     "shell.execute_reply": "2022-07-22T11:16:54.261209Z"
    },
    "papermill": {
     "duration": 6.46576,
     "end_time": "2022-07-22T11:16:54.273599",
     "exception": false,
     "start_time": "2022-07-22T11:16:47.807839",
     "status": "completed"
    },
    "tags": []
   },
   "outputs": [
    {
     "data": {
      "application/scrapbook.scrap.json+json": {
       "data": 0.18856588480489703,
       "encoder": "json",
       "name": "ABC-GAN Model 1 MSE",
       "version": 1
      }
     },
     "metadata": {
      "scrapbook": {
       "data": true,
       "display": false,
       "name": "ABC-GAN Model 1 MSE"
      }
     },
     "output_type": "display_data"
    },
    {
     "data": {
      "application/scrapbook.scrap.json+json": {
       "data": 0.2951101167335668,
       "encoder": "json",
       "name": "ABC-GAN Model 1 MAE",
       "version": 1
      }
     },
     "metadata": {
      "scrapbook": {
       "data": true,
       "display": false,
       "name": "ABC-GAN Model 1 MAE"
      }
     },
     "output_type": "display_data"
    },
    {
     "data": {
      "application/scrapbook.scrap.json+json": {
       "data": 30.101231906823813,
       "encoder": "json",
       "name": "ABC-GAN Model 1 Manhattan Distance",
       "version": 1
      }
     },
     "metadata": {
      "scrapbook": {
       "data": true,
       "display": false,
       "name": "ABC-GAN Model 1 Manhattan Distance"
      }
     },
     "output_type": "display_data"
    },
    {
     "data": {
      "application/scrapbook.scrap.json+json": {
       "data": 4.385191121090822,
       "encoder": "json",
       "name": "ABC-GAN Model 1 Euclidean distance",
       "version": 1
      }
     },
     "metadata": {
      "scrapbook": {
       "data": true,
       "display": false,
       "name": "ABC-GAN Model 1 Euclidean distance"
      }
     },
     "output_type": "display_data"
    },
    {
     "data": {
      "application/scrapbook.scrap.json+json": {
       "data": [
        [
         0.1908311375887158,
         0.18685050418550206,
         0.19237570898959996,
         0.18735166927207267,
         0.19443125749808982,
         0.1897334473804451,
         0.18267914005258398,
         0.17819761169467563,
         0.1933109031814508,
         0.1908007698560087,
         0.18941067655020555,
         0.18345089286774985,
         0.18409730470504962,
         0.18838387822344715,
         0.18743623159963202,
         0.17912358411463566,
         0.1864228570675889,
         0.1890286651841029,
         0.18730025806769035,
         0.1916516878034316,
         0.19924888016702677,
         0.1913235827728642,
         0.17971314669001492,
         0.18463350537562642,
         0.18894546714125718,
         0.19432853221478613,
         0.19217409137529448,
         0.18831638414707813,
         0.1836780924282994,
         0.19340452129901264,
         0.18723594359172574,
         0.18958972743040825,
         0.197902124819871,
         0.19214788392826218,
         0.1947642923232038,
         0.19138311659718288,
         0.1939897386348764,
         0.18563588623360347,
         0.18102497600890957,
         0.19086225866003398,
         0.19388243715558862,
         0.1875134045738282,
         0.19366773614608634,
         0.1886845301806607,
         0.18069063126572343,
         0.18009395604506256,
         0.18321200737250742,
         0.18762409154247778,
         0.18442969938738799,
         0.18144759807579205,
         0.1820972984693205,
         0.18306299477348445,
         0.20521630144622466,
         0.18925557541257157,
         0.18898652357858192,
         0.1968645883422184,
         0.19503281565467553,
         0.18667254943937334,
         0.19072340654012596,
         0.18181403871420454,
         0.19747411883480756,
         0.18298233278893072,
         0.18266173714712491,
         0.19169492763437726,
         0.18367237807553047,
         0.19099566528243367,
         0.1867304660316248,
         0.1863751883787262,
         0.1914950074483477,
         0.19274140975752332,
         0.18215029073385164,
         0.18248144442169498,
         0.18609757503281688,
         0.19846700979538545,
         0.18579410042126696,
         0.1982507419458171,
         0.18602008348594418,
         0.18405693994687447,
         0.1959174941774546,
         0.18093432995500303,
         0.1878508367118179,
         0.18720862049405068,
         0.18991240887076719,
         0.19917184794899356,
         0.19216900931166836,
         0.18800827606521237,
         0.18938254781299552,
         0.1827086672389716,
         0.1783566566283453,
         0.18725620541554805,
         0.18959308366037494,
         0.18445870649574334,
         0.18739384276601476,
         0.1971866977870839,
         0.19241968156710337,
         0.19562276439354265,
         0.18705293578300397,
         0.18846782978066345,
         0.18440522187256758,
         0.18682687675178758
        ],
        [
         0.29201977599558293,
         0.300972740385024,
         0.29530483095304055,
         0.29372468508560867,
         0.298811529689998,
         0.2939174393484113,
         0.2895993539771321,
         0.28935644222313867,
         0.300783913308645,
         0.299228265205873,
         0.29455152090054515,
         0.28956416546933206,
         0.2943007734001559,
         0.2980244801215389,
         0.2935522767879507,
         0.2964273617949848,
         0.2886618996842527,
         0.29579765453715534,
         0.2949317104785758,
         0.2979350644255094,
         0.3002058637018005,
         0.29514006556322175,
         0.2916079405147363,
         0.29441394530894127,
         0.2997001788451099,
         0.2975720507731917,
         0.2934813848057506,
         0.29549731527838635,
         0.2919133040944443,
         0.29671488101502846,
         0.29194069374352694,
         0.30035752395861876,
         0.3013195785346861,
         0.2983346636790563,
         0.30050489954723447,
         0.2988916206922309,
         0.2961977441776909,
         0.29723225112127905,
         0.2960621176798846,
         0.29379734530241464,
         0.29450524994628685,
         0.29497078767813306,
         0.2924661547785588,
         0.29863623568021197,
         0.28936258186677505,
         0.29219336232499166,
         0.2903140242229782,
         0.2911489187538916,
         0.29125584634568763,
         0.29027539792963686,
         0.2971484383349033,
         0.2943937393343624,
         0.29493760224431753,
         0.29237304600503516,
         0.2998075817766435,
         0.2979996401049635,
         0.2996137126294129,
         0.2933943494606544,
         0.2932035934508723,
         0.2891810790763474,
         0.3010543584640996,
         0.28930548744677914,
         0.29285876681188155,
         0.29440736955068275,
         0.2947529601663643,
         0.2955035115683488,
         0.2933876272108333,
         0.2939837782954176,
         0.29495130886561144,
         0.29513010187257155,
         0.28883034865572754,
         0.2946573456968455,
         0.295135995464436,
         0.2950816693368788,
         0.29125321592551234,
         0.30007335885117453,
         0.29390402552763034,
         0.29258371332623795,
         0.30022322726162043,
         0.29343403019376246,
         0.2899494108141345,
         0.2993256205181573,
         0.2933136405715463,
         0.3008062263366346,
         0.29864835638698994,
         0.29852630897406857,
         0.2961172735610721,
         0.2907802062109113,
         0.2956369964625029,
         0.2944893710790019,
         0.2957813571590711,
         0.2964964120411405,
         0.2920906603080677,
         0.29904666891796333,
         0.302413306746851,
         0.29545407952265995,
         0.2937804654277131,
         0.2939994857263039,
         0.29555384688736763,
         0.2927571851577537
        ],
        [
         29.78601715154946,
         30.699219519272447,
         30.121092757210135,
         29.959917878732085,
         30.478776028379798,
         29.979578813537955,
         29.539134105667472,
         29.514357106760144,
         30.67995915748179,
         30.521283050999045,
         30.044255131855607,
         29.53554487787187,
         30.018678886815906,
         30.39849697239697,
         29.942332232370973,
         30.23559090308845,
         29.443513767793775,
         30.171360762789845,
         30.08303446881473,
         30.389376571401954,
         30.62099809758365,
         30.10428668744862,
         29.744009932503104,
         30.030222421512008,
         30.56941824220121,
         30.352349178865552,
         29.935101250186563,
         30.14072615839541,
         29.77515701763332,
         30.2649178635329,
         29.777950761839747,
         30.63646744377911,
         30.734597010537982,
         30.430135695263743,
         30.651499753817916,
         30.486945310607553,
         30.212169906124473,
         30.317689614370465,
         30.19833600334823,
         29.967329220846295,
         30.03953549452126,
         30.08702034316957,
         29.831547787413,
         30.460896039381623,
         29.514983350411057,
         29.803722957149148,
         29.612030470743775,
         29.697189712896943,
         29.708096327260137,
         29.60809058882296,
         30.309140710160136,
         30.028161412104964,
         30.083635428920388,
         29.822050692513585,
         30.580373341217637,
         30.395963290706277,
         30.560598688200116,
         29.92622364498675,
         29.90676653198898,
         29.496470065787435,
         30.70754456333816,
         29.50915971957147,
         29.87159421481192,
         30.02955169416964,
         30.06480193696916,
         30.141358179971576,
         29.925537975504994,
         29.986345386132598,
         30.08503350429237,
         30.103270391002297,
         29.46069556288421,
         30.05504926107824,
         30.10387153737247,
         30.098330272361636,
         29.70782802440226,
         30.6074826028198,
         29.978210603818297,
         29.84353875927627,
         30.62276918068528,
         29.93027107976377,
         29.57483990304172,
         30.531213292852044,
         29.917991338297725,
         30.682235086336732,
         30.462132351472974,
         30.44968351535499,
         30.203961903229356,
         29.65958103351295,
         30.154973639175296,
         30.037915850058198,
         30.169698430225253,
         30.242634028196335,
         29.793247351422906,
         30.50276022963226,
         30.8461572881788,
         30.136316111311316,
         29.965607473626733,
         29.987947544083,
         30.146492382511497,
         29.861232886090875
        ],
        [
         4.4118903016789766,
         4.365632992696614,
         4.429709055563266,
         4.371483760206757,
         4.45331205562839,
         4.399183064252429,
         4.31662742026267,
         4.263350371815213,
         4.440463052938058,
         4.411539246715694,
         4.395439569385633,
         4.32573589953322,
         4.333350329700457,
         4.3835095048136505,
         4.3724701969438815,
         4.274412892982244,
         4.36063429112028,
         4.391004879156763,
         4.370883929241821,
         4.42136541760009,
         4.508146601103022,
         4.417579138264775,
         4.281441458478852,
         4.339656385972729,
         4.390038456370084,
         4.4521354747927635,
         4.427387188882405,
         4.382724173730532,
         4.328413731112882,
         4.4415381538943555,
         4.370133435760976,
         4.3975165943861585,
         4.4928851233507885,
         4.427085289519814,
         4.457124388769825,
         4.418266389989705,
         4.448252841370126,
         4.351420503218179,
         4.297039393920979,
         4.412250036355992,
         4.447022440900207,
         4.37337024119048,
         4.444559493009493,
         4.387006049508867,
         4.293069343616963,
         4.2859752118504355,
         4.322918545611951,
         4.374660825404951,
         4.337260579849172,
         4.3020524175945125,
         4.3097476079082275,
         4.32116019917052,
         4.5751571281776675,
         4.393639572391241,
         4.3905153917296955,
         4.481092278776043,
         4.460195869777122,
         4.363553602606031,
         4.410644790401155,
         4.306394309494761,
         4.488024077603681,
         4.320208090413114,
         4.316421803879545,
         4.421864156518885,
         4.328346400613531,
         4.413791777917059,
         4.364230463120128,
         4.3600767441216055,
         4.419557756125771,
         4.433917432166207,
         4.3103746536528424,
         4.314291057753624,
         4.356828279074964,
         4.499292722098588,
         4.353274427711769,
         4.4968406329859345,
         4.355921086930559,
         4.332875243366833,
         4.470300259054236,
         4.2959634141145,
         4.377303433005922,
         4.369814560183666,
         4.401257286823648,
         4.507275062695569,
         4.427328647140413,
         4.379137376088087,
         4.395113181355577,
         4.316976263355533,
         4.26525251023796,
         4.370369887364902,
         4.397555517939284,
         4.337601648672434,
         4.371975750405473,
         4.484756757537977,
         4.43021529046214,
         4.466936530570067,
         4.367997189773181,
         4.384486131535561,
         4.33697274962639,
         4.365356964634431
        ]
       ],
       "encoder": "json",
       "name": "ABC_GAN_1 Metrics",
       "version": 1
      }
     },
     "metadata": {
      "scrapbook": {
       "data": true,
       "display": false,
       "name": "ABC_GAN_1 Metrics"
      }
     },
     "output_type": "display_data"
    },
    {
     "name": "stdout",
     "output_type": "stream",
     "text": [
      "MAE\n",
      "0.2951101167335668\n"
     ]
    }
   ],
   "source": [
    "ABC_GAN1_metrics=ABC_train_test2.test_generator(gen,test_data,prior_model,variance,bias,\"1\",device)\n",
    "sb.glue(\"ABC_GAN_1 Metrics\",ABC_GAN1_metrics)\n",
    "\n",
    "print(\"MAE\")\n",
    "print(mean(ABC_GAN1_metrics[1]))"
   ]
  },
  {
   "cell_type": "code",
   "execution_count": 14,
   "id": "eb22ce5c",
   "metadata": {
    "execution": {
     "iopub.execute_input": "2022-07-22T11:16:54.354662Z",
     "iopub.status.busy": "2022-07-22T11:16:54.353810Z",
     "iopub.status.idle": "2022-07-22T11:16:56.751199Z",
     "shell.execute_reply": "2022-07-22T11:16:56.749062Z"
    },
    "papermill": {
     "duration": 2.459601,
     "end_time": "2022-07-22T11:16:56.765555",
     "exception": false,
     "start_time": "2022-07-22T11:16:54.305954",
     "status": "completed"
    },
    "tags": []
   },
   "outputs": [
    {
     "data": {
      "image/png": "[encoded data removed]",
      "text/plain": [
       "<Figure size 432x288 with 1 Axes>"
      ]
     },
     "metadata": {
      "needs_background": "light"
     },
     "output_type": "display_data"
    },
    {
     "data": {
      "image/png": "[encoded data removed]",
      "text/plain": [
       "<Figure size 432x288 with 1 Axes>"
      ]
     },
     "metadata": {
      "needs_background": "light"
     },
     "output_type": "display_data"
    },
    {
     "data": {
      "image/png": "[encoded data removed]",
      "text/plain": [
       "<Figure size 432x288 with 1 Axes>"
      ]
     },
     "metadata": {
      "needs_background": "light"
     },
     "output_type": "display_data"
    },
    {
     "data": {
      "image/png": "[encoded data removed]",
      "text/plain": [
       "<Figure size 432x288 with 1 Axes>"
      ]
     },
     "metadata": {
      "needs_background": "light"
     },
     "output_type": "display_data"
    }
   ],
   "source": [
    "sanityChecks.discProbVsError(train_data,disc,device)\n",
    "sanityChecks.discProbVsError(test_data,disc,device)"
   ]
  },
  {
   "cell_type": "markdown",
   "id": "925986d4",
   "metadata": {
    "papermill": {
     "duration": 0.084431,
     "end_time": "2022-07-22T11:16:56.895956",
     "exception": false,
     "start_time": "2022-07-22T11:16:56.811525",
     "status": "completed"
    },
    "tags": []
   },
   "source": [
    "# mGAN Model with TabNet Generator"
   ]
  },
  {
   "cell_type": "code",
   "execution_count": 15,
   "id": "01768c00",
   "metadata": {
    "execution": {
     "iopub.execute_input": "2022-07-22T11:16:57.097106Z",
     "iopub.status.busy": "2022-07-22T11:16:57.096597Z",
     "iopub.status.idle": "2022-07-22T11:16:57.116380Z",
     "shell.execute_reply": "2022-07-22T11:16:57.115529Z"
    },
    "papermill": {
     "duration": 0.111536,
     "end_time": "2022-07-22T11:16:57.131916",
     "exception": false,
     "start_time": "2022-07-22T11:16:57.020380",
     "status": "completed"
    },
    "tags": []
   },
   "outputs": [],
   "source": [
    "gen2 = network.GeneratorTabnet(n_features+1).to(device)\n",
    "disc2 = network.Discriminator(n_features+1).to(device)\n",
    "\n",
    "criterion = torch.nn.BCELoss()\n",
    "gen_opt = torch.optim.Adam(gen2.parameters(), lr=0.01, betas=(0.5, 0.999))\n",
    "disc_opt = torch.optim.Adam(disc2.parameters(), lr=0.01, betas=(0.5, 0.999))"
   ]
  },
  {
   "cell_type": "code",
   "execution_count": 16,
   "id": "65a6ce83",
   "metadata": {
    "execution": {
     "iopub.execute_input": "2022-07-22T11:16:57.308822Z",
     "iopub.status.busy": "2022-07-22T11:16:57.308434Z",
     "iopub.status.idle": "2022-07-22T11:32:39.503585Z",
     "shell.execute_reply": "2022-07-22T11:32:39.501758Z"
    },
    "papermill": {
     "duration": 942.297633,
     "end_time": "2022-07-22T11:32:39.508415",
     "exception": false,
     "start_time": "2022-07-22T11:16:57.210782",
     "status": "completed"
    },
    "tags": []
   },
   "outputs": [
    {
     "data": {
      "image/png": "[encoded data removed]",
      "text/plain": [
       "<Figure size 432x288 with 1 Axes>"
      ]
     },
     "metadata": {
      "needs_background": "light"
     },
     "output_type": "display_data"
    },
    {
     "data": {
      "image/png": "[encoded data removed]",
      "text/plain": [
       "<Figure size 432x288 with 1 Axes>"
      ]
     },
     "metadata": {
      "needs_background": "light"
     },
     "output_type": "display_data"
    }
   ],
   "source": [
    "#Training the ABC_GAN \n",
    "ABC_train_test2.training_GAN(disc2,gen2,disc_opt,gen_opt,train_data,batch_size,n_epochs,criterion,prior_model,variance,bias,device)"
   ]
  },
  {
   "cell_type": "code",
   "execution_count": 17,
   "id": "bb324c21",
   "metadata": {
    "execution": {
     "iopub.execute_input": "2022-07-22T11:32:39.598757Z",
     "iopub.status.busy": "2022-07-22T11:32:39.598111Z",
     "iopub.status.idle": "2022-07-22T11:32:43.880572Z",
     "shell.execute_reply": "2022-07-22T11:32:43.879334Z"
    },
    "papermill": {
     "duration": 4.34304,
     "end_time": "2022-07-22T11:32:43.883489",
     "exception": false,
     "start_time": "2022-07-22T11:32:39.540449",
     "status": "completed"
    },
    "tags": []
   },
   "outputs": [
    {
     "data": {
      "application/scrapbook.scrap.json+json": {
       "data": 0.14686600560703814,
       "encoder": "json",
       "name": "ABC-GAN Model 1 MSE",
       "version": 1
      }
     },
     "metadata": {
      "scrapbook": {
       "data": true,
       "display": false,
       "name": "ABC-GAN Model 1 MSE"
      }
     },
     "output_type": "display_data"
    },
    {
     "data": {
      "application/scrapbook.scrap.json+json": {
       "data": 0.268514167309063,
       "encoder": "json",
       "name": "ABC-GAN Model 1 MAE",
       "version": 1
      }
     },
     "metadata": {
      "scrapbook": {
       "data": true,
       "display": false,
       "name": "ABC-GAN Model 1 MAE"
      }
     },
     "output_type": "display_data"
    },
    {
     "data": {
      "application/scrapbook.scrap.json+json": {
       "data": 27.38844506552443,
       "encoder": "json",
       "name": "ABC-GAN Model 1 Manhattan Distance",
       "version": 1
      }
     },
     "metadata": {
      "scrapbook": {
       "data": true,
       "display": false,
       "name": "ABC-GAN Model 1 Manhattan Distance"
      }
     },
     "output_type": "display_data"
    },
    {
     "data": {
      "application/scrapbook.scrap.json+json": {
       "data": 3.8698554164944534,
       "encoder": "json",
       "name": "ABC-GAN Model 1 Euclidean distance",
       "version": 1
      }
     },
     "metadata": {
      "scrapbook": {
       "data": true,
       "display": false,
       "name": "ABC-GAN Model 1 Euclidean distance"
      }
     },
     "output_type": "display_data"
    },
    {
     "data": {
      "application/scrapbook.scrap.json+json": {
       "data": [
        [
         0.13965734489815168,
         0.13955975801651344,
         0.1541003373604129,
         0.14430496030628615,
         0.13947370756017033,
         0.1406807427329596,
         0.1469730598951517,
         0.159117980579941,
         0.14777219728861585,
         0.14901633678620824,
         0.14962028349028106,
         0.14177417107143447,
         0.1432075375460399,
         0.14093630328761864,
         0.14433214862741817,
         0.15470318071187905,
         0.14645598418306038,
         0.13726863266575692,
         0.15323815793632625,
         0.14680768253173035,
         0.14751059164228528,
         0.1551541818736926,
         0.15616681411837333,
         0.14386891069883445,
         0.14592624324656078,
         0.15581642603483398,
         0.14914131604346353,
         0.14589941984645086,
         0.14375473418023857,
         0.14978896469240552,
         0.13759872595246408,
         0.14336311513236233,
         0.14077055080942102,
         0.15564282153026068,
         0.15456993056152796,
         0.14300347569070215,
         0.1481688680471765,
         0.14355424202254496,
         0.15814319630102863,
         0.14701346229097376,
         0.1419926836305029,
         0.1503238805725192,
         0.15165691813776014,
         0.13927735800138774,
         0.15122388857318686,
         0.14204074464423744,
         0.15559681122208036,
         0.13644837458521075,
         0.1446120746567427,
         0.14737508786897285,
         0.15218927959205814,
         0.14643105297424264,
         0.15177298865899772,
         0.14554989973126983,
         0.14707184546641142,
         0.14306213870036544,
         0.15773060946564463,
         0.1450011838978304,
         0.15156085931569102,
         0.14038675051039676,
         0.14732900651830427,
         0.1448446376845837,
         0.15428140335575674,
         0.14779382736579888,
         0.14442234814267793,
         0.14219108691699714,
         0.15341734624693973,
         0.14327713169664721,
         0.14868906586157166,
         0.1478756694627792,
         0.14298110523052868,
         0.1403406738828379,
         0.14134796026706076,
         0.1488357103627819,
         0.14215570415041712,
         0.14094808059524175,
         0.1479075765857949,
         0.1402665879109174,
         0.14654377058099727,
         0.14553762320789623,
         0.15174873340149447,
         0.14593005303752535,
         0.14470968409919735,
         0.14889779791953886,
         0.14682333067780307,
         0.14649365982496096,
         0.15402683494203495,
         0.14565232727874108,
         0.1504838133077506,
         0.14878563512329612,
         0.15238299639819655,
         0.15161242408690256,
         0.13875664521448552,
         0.1506290360565419,
         0.14103036961582097,
         0.15003214426238468,
         0.14360076832713245,
         0.14603221562741311,
         0.14722347498509816,
         0.14560137209389876
        ],
        [
         0.25967999407108505,
         0.26324675111647916,
         0.27289291763422535,
         0.2660383874842641,
         0.2562556474414818,
         0.2669760162814283,
         0.26678834194500073,
         0.2794965314770154,
         0.2639767198695564,
         0.2697593743054598,
         0.26986320961412846,
         0.262321013792911,
         0.2670479437117191,
         0.26367854306876076,
         0.2622167344077253,
         0.27720317947586964,
         0.2632068451676591,
         0.2541823570488715,
         0.2725086905171766,
         0.2698064247219294,
         0.27268777875339284,
         0.2766849669792196,
         0.281406875900632,
         0.2629432364494777,
         0.2664827752091429,
         0.2673063678301725,
         0.2735840137500097,
         0.26626913512454314,
         0.26579834272464115,
         0.2727352118338732,
         0.25905553322723684,
         0.26699400543436114,
         0.26114846252854546,
         0.2804131213319944,
         0.27198578999834316,
         0.2633347818262729,
         0.2745531954820834,
         0.25932705736554723,
         0.2841892284615075,
         0.2695768002749366,
         0.2581238973447505,
         0.27844642031499567,
         0.2696261970764574,
         0.25216127422583456,
         0.2686667065227441,
         0.263896454143904,
         0.27670445956070633,
         0.253051380444245,
         0.27027001244691656,
         0.2688311018670599,
         0.28243948137570246,
         0.26593016396623614,
         0.277117762842453,
         0.2756490549072623,
         0.25927201649356707,
         0.2588913924079023,
         0.2767235921403649,
         0.26099998671926705,
         0.2757482970425603,
         0.25940127351193454,
         0.26988252549998315,
         0.26589350816885043,
         0.2738363420517713,
         0.269040137839814,
         0.26943551429419543,
         0.26393939216858614,
         0.2794101540839263,
         0.2656724215759074,
         0.2755923615038103,
         0.27501032174583157,
         0.2582876625854303,
         0.25905845034867525,
         0.26361034439840153,
         0.2684525338494602,
         0.26610345676468283,
         0.26723858683059615,
         0.27090440290596557,
         0.2637568859967823,
         0.2716749923522858,
         0.26804128002521455,
         0.2739743068266441,
         0.2637533398125978,
         0.26360415272852955,
         0.27866960585336475,
         0.26464993997897,
         0.269338530871798,
         0.27591015666942387,
         0.2645950449046259,
         0.27080630651656906,
         0.27736419817323194,
         0.2763422358708054,
         0.2783083262506361,
         0.25799661325108186,
         0.2713188723861879,
         0.2645591822653717,
         0.2740087227749766,
         0.27273669555856317,
         0.26447878487627297,
         0.2741778057945125,
         0.27440940555842486
        ],
        [
         26.487359395250678,
         26.851168613880873,
         27.835077598690987,
         27.135915523394942,
         26.138076039031148,
         27.231553660705686,
         27.212410878390074,
         28.50864621065557,
         26.92562542669475,
         27.5154561791569,
         27.526047380641103,
         26.75674340687692,
         27.238890258595347,
         26.895211393013597,
         26.74610690958798,
         28.2747243065387,
         26.847098207101226,
         25.92660041898489,
         27.795886432752013,
         27.520255321636796,
         27.81415343284607,
         28.221866631880403,
         28.703501341864467,
         26.820210117846727,
         27.181243071332574,
         27.265249518677592,
         27.905569402500987,
         27.1594517827034,
         27.1114309579134,
         27.818991607055068,
         26.423664389178157,
         27.233388554304838,
         26.63714317791164,
         28.602138375863433,
         27.742550579831004,
         26.860147746279836,
         28.004425939172506,
         26.451359851285815,
         28.987301303073764,
         27.496833628043532,
         26.328637529164553,
         28.40153487212956,
         27.501872101798654,
         25.720449971035123,
         27.404004065319896,
         26.91743832267821,
         28.223854875192046,
         25.81124080531299,
         27.56754126958549,
         27.420772390440106,
         28.80882710032165,
         27.12487672455609,
         28.266011809930205,
         28.116203600540757,
         26.44574568234384,
         26.406922025606036,
         28.225806398317218,
         26.621998645365238,
         28.126326298341155,
         26.45892989821732,
         27.528017600998282,
         27.121137833222747,
         27.931306889280677,
         27.44209405966103,
         27.48242245800793,
         26.92181800119579,
         28.499835716560483,
         27.098587000742555,
         28.110420873388648,
         28.051052818074822,
         26.34534158371389,
         26.423961935564876,
         26.888255128636956,
         27.382158452644944,
         27.14255258999765,
         27.258335856720805,
         27.632249096408486,
         26.903202371671796,
         27.710849219933152,
         27.340210562571883,
         27.945379296317697,
         26.902840660884976,
         26.887623578310013,
         28.424299797043204,
         26.994293877854943,
         27.472530148923397,
         28.142835980281234,
         26.98869458027184,
         27.62224326469004,
         28.291148213669658,
         28.186908058822155,
         28.387449277564883,
         26.31565455161035,
         27.674524983391166,
         26.98503659106791,
         27.948889723047614,
         27.819142946973443,
         26.976836057379842,
         27.966136191040277,
         27.989759366959333
        ],
        [
         3.774261408489278,
         3.772942527747325,
         3.9646228585783683,
         3.8365487030977716,
         3.7717791784696737,
         3.7880649095233148,
         3.87185383367005,
         4.028651637850309,
         3.8823657894947012,
         3.8986749482604006,
         3.9065674083533564,
         3.802757611166706,
         3.8219326040232664,
         3.791504046593792,
         3.836910105800845,
         3.97237012784706,
         3.8650369191861746,
         3.7418445360419774,
         3.953516423325603,
         3.869674872419709,
         3.8789277316692936,
         3.9781561748021708,
         3.991117016584966,
         3.8307478240261537,
         3.8580405403713938,
         3.986637111094144,
         3.900309505210231,
         3.8576859416414377,
         3.829227452944567,
         3.9087689108753114,
         3.7463408877398394,
         3.8240080731479837,
         3.789273833145467,
         3.9844156153803265,
         3.970659002895596,
         3.8192086248922847,
         3.8875730913787345,
         3.826556243713083,
         4.016292571850924,
         3.872385976846745,
         3.805687024744848,
         3.9157420520760753,
         3.933065680871797,
         3.7691233086941507,
         3.9274465794540165,
         3.806331035749809,
         3.9838266459087044,
         3.730647960836226,
         3.8406290650084585,
         3.8771457236780815,
         3.9399627559648236,
         3.8647079324798597,
         3.9345704776020676,
         3.853062388878425,
         3.873154817145058,
         3.8199919041062476,
         4.011050007852776,
         3.8457926045977437,
         3.931819890356179,
         3.784104722660364,
         3.8765395219018517,
         3.843716046201583,
         3.9669513662619034,
         3.8826499187167878,
         3.8381088455843906,
         3.8083448984478423,
         3.9558272607872866,
         3.8228611579624507,
         3.894391443843351,
         3.883724795245343,
         3.8189098881112553,
         3.783483677254266,
         3.7970372591324666,
         3.8963113911754736,
         3.8078710355449985,
         3.7916624613373298,
         3.8841437681619193,
         3.78248489315074,
         3.866195106207357,
         3.85289989062854,
         3.9342560677912712,
         3.858090902224517,
         3.8419250094344797,
         3.897123989276318,
         3.8698811001290343,
         3.865534025480311,
         3.963677227536012,
         3.8544179044872116,
         3.9178245184528824,
         3.895655886057726,
         3.9424694840437313,
         3.9324886848996847,
         3.7620709472147813,
         3.919714489317719,
         3.7927691336032754,
         3.9119405305759996,
         3.8271762919112446,
         3.8594411504771173,
         3.875150893640144,
         3.853743628418693
        ]
       ],
       "encoder": "json",
       "name": "ABC_GAN_2 Metrics",
       "version": 1
      }
     },
     "metadata": {
      "scrapbook": {
       "data": true,
       "display": false,
       "name": "ABC_GAN_2 Metrics"
      }
     },
     "output_type": "display_data"
    },
    {
     "name": "stdout",
     "output_type": "stream",
     "text": [
      "MAE\n",
      "0.268514167309063\n"
     ]
    }
   ],
   "source": [
    "ABC_GAN2_metrics=ABC_train_test2.test_generator(gen2,test_data,prior_model,variance,bias,\"1\",device)\n",
    "sb.glue(\"ABC_GAN_2 Metrics\",ABC_GAN2_metrics)\n",
    "\n",
    "print(\"MAE\")\n",
    "print(mean(ABC_GAN2_metrics[1]))"
   ]
  },
  {
   "cell_type": "code",
   "execution_count": 18,
   "id": "1b1511b9",
   "metadata": {
    "execution": {
     "iopub.execute_input": "2022-07-22T11:32:43.996707Z",
     "iopub.status.busy": "2022-07-22T11:32:43.995385Z",
     "iopub.status.idle": "2022-07-22T11:32:45.503015Z",
     "shell.execute_reply": "2022-07-22T11:32:45.501926Z"
    },
    "papermill": {
     "duration": 1.582727,
     "end_time": "2022-07-22T11:32:45.506369",
     "exception": false,
     "start_time": "2022-07-22T11:32:43.923642",
     "status": "completed"
    },
    "tags": []
   },
   "outputs": [
    {
     "data": {
      "image/png": "[encoded data removed]",
      "text/plain": [
       "<Figure size 432x288 with 1 Axes>"
      ]
     },
     "metadata": {
      "needs_background": "light"
     },
     "output_type": "display_data"
    },
    {
     "data": {
      "image/png": "[encoded data removed]",
      "text/plain": [
       "<Figure size 432x288 with 1 Axes>"
      ]
     },
     "metadata": {
      "needs_background": "light"
     },
     "output_type": "display_data"
    },
    {
     "data": {
      "image/png": "[encoded data removed]",
      "text/plain": [
       "<Figure size 432x288 with 1 Axes>"
      ]
     },
     "metadata": {
      "needs_background": "light"
     },
     "output_type": "display_data"
    },
    {
     "data": {
      "image/png": "[encoded data removed]",
      "text/plain": [
       "<Figure size 432x288 with 1 Axes>"
      ]
     },
     "metadata": {
      "needs_background": "light"
     },
     "output_type": "display_data"
    }
   ],
   "source": [
    "sanityChecks.discProbVsError(train_data,disc2,device)\n",
    "sanityChecks.discProbVsError(test_data,disc2,device)"
   ]
  },
  {
   "cell_type": "markdown",
   "id": "130f3a4d",
   "metadata": {
    "id": "130f3a4d",
    "papermill": {
     "duration": 0.058221,
     "end_time": "2022-07-22T11:32:45.603258",
     "exception": false,
     "start_time": "2022-07-22T11:32:45.545037",
     "status": "completed"
    },
    "tags": []
   },
   "source": [
    "# skipGAN Model"
   ]
  },
  {
   "cell_type": "code",
   "execution_count": 19,
   "id": "4e43dad1",
   "metadata": {
    "execution": {
     "iopub.execute_input": "2022-07-22T11:32:45.683139Z",
     "iopub.status.busy": "2022-07-22T11:32:45.682178Z",
     "iopub.status.idle": "2022-07-22T11:32:45.691348Z",
     "shell.execute_reply": "2022-07-22T11:32:45.690479Z"
    },
    "id": "4e43dad1",
    "papermill": {
     "duration": 0.053892,
     "end_time": "2022-07-22T11:32:45.694862",
     "exception": false,
     "start_time": "2022-07-22T11:32:45.640970",
     "status": "completed"
    },
    "tags": []
   },
   "outputs": [],
   "source": [
    "#Generator\n",
    "gen3 = network.GeneratorWithSkipConnection(n_features+1).to(device)\n",
    "constraints=network.weightConstraint()\n",
    "#Discriminator \n",
    "disc3 = network.Discriminator(n_features+1).to(device)\n",
    "\n",
    "criterion = torch.nn.BCELoss()\n",
    "gen_opt = torch.optim.Adam(gen3.parameters(), lr=0.01, betas=(0.5, 0.999))\n",
    "disc_opt = torch.optim.Adam(disc3.parameters(), lr=0.01, betas=(0.5, 0.999))\n"
   ]
  },
  {
   "cell_type": "code",
   "execution_count": 20,
   "id": "26acbc37",
   "metadata": {
    "execution": {
     "iopub.execute_input": "2022-07-22T11:32:45.798637Z",
     "iopub.status.busy": "2022-07-22T11:32:45.797865Z",
     "iopub.status.idle": "2022-07-22T11:39:20.178385Z",
     "shell.execute_reply": "2022-07-22T11:39:20.176972Z"
    },
    "id": "26acbc37",
    "papermill": {
     "duration": 394.454261,
     "end_time": "2022-07-22T11:39:20.188127",
     "exception": false,
     "start_time": "2022-07-22T11:32:45.733866",
     "status": "completed"
    },
    "tags": []
   },
   "outputs": [
    {
     "data": {
      "image/png": "[encoded data removed]",
      "text/plain": [
       "<Figure size 432x288 with 1 Axes>"
      ]
     },
     "metadata": {
      "needs_background": "light"
     },
     "output_type": "display_data"
    },
    {
     "data": {
      "image/png": "[encoded data removed]",
      "text/plain": [
       "<Figure size 432x288 with 1 Axes>"
      ]
     },
     "metadata": {
      "needs_background": "light"
     },
     "output_type": "display_data"
    }
   ],
   "source": [
    "ABC_train_test2.training_GAN_skip_connection(disc3,gen3,disc_opt,gen_opt,train_data,batch_size,n_epochs,criterion,prior_model,variance,bias,device)"
   ]
  },
  {
   "cell_type": "code",
   "execution_count": 21,
   "id": "c5e0717b",
   "metadata": {
    "execution": {
     "iopub.execute_input": "2022-07-22T11:39:20.269651Z",
     "iopub.status.busy": "2022-07-22T11:39:20.269152Z",
     "iopub.status.idle": "2022-07-22T11:39:24.671843Z",
     "shell.execute_reply": "2022-07-22T11:39:24.669131Z"
    },
    "id": "c5e0717b",
    "papermill": {
     "duration": 4.447304,
     "end_time": "2022-07-22T11:39:24.675871",
     "exception": false,
     "start_time": "2022-07-22T11:39:20.228567",
     "status": "completed"
    },
    "tags": []
   },
   "outputs": [
    {
     "data": {
      "application/scrapbook.scrap.json+json": {
       "data": 0.1254542231987993,
       "encoder": "json",
       "name": "ABC-GAN Model 3 MSE",
       "version": 1
      }
     },
     "metadata": {
      "scrapbook": {
       "data": true,
       "display": false,
       "name": "ABC-GAN Model 3 MSE"
      }
     },
     "output_type": "display_data"
    },
    {
     "data": {
      "application/scrapbook.scrap.json+json": {
       "data": 0.2400667728291021,
       "encoder": "json",
       "name": "ABC-GAN Model 3 MAE",
       "version": 1
      }
     },
     "metadata": {
      "scrapbook": {
       "data": true,
       "display": false,
       "name": "ABC-GAN Model 3 MAE"
      }
     },
     "output_type": "display_data"
    },
    {
     "data": {
      "application/scrapbook.scrap.json+json": {
       "data": 24.486810828568412,
       "encoder": "json",
       "name": "ABC-GAN Model 3 Manhattan Distance",
       "version": 1
      }
     },
     "metadata": {
      "scrapbook": {
       "data": true,
       "display": false,
       "name": "ABC-GAN Model 3 Manhattan Distance"
      }
     },
     "output_type": "display_data"
    },
    {
     "data": {
      "application/scrapbook.scrap.json+json": {
       "data": 3.5765827188106085,
       "encoder": "json",
       "name": "ABC-GAN Model 3 Euclidean distance",
       "version": 1
      }
     },
     "metadata": {
      "scrapbook": {
       "data": true,
       "display": false,
       "name": "ABC-GAN Model 3 Euclidean distance"
      }
     },
     "output_type": "display_data"
    },
    {
     "data": {
      "application/scrapbook.scrap.json+json": {
       "data": [
        [
         0.12481990155710476,
         0.13366028219289522,
         0.12999739199013471,
         0.12000719912950386,
         0.13668305234365064,
         0.12541294725710442,
         0.11682448690948016,
         0.12535039207133708,
         0.12039553170244228,
         0.1164027732799568,
         0.12646807085632192,
         0.12086273068328764,
         0.1321520563303786,
         0.12516666290073547,
         0.12783670498270616,
         0.12361185708702237,
         0.12707170042531715,
         0.1323659260641597,
         0.12523032699701714,
         0.12485568380461112,
         0.11732484198805163,
         0.12684019322794673,
         0.1181724340365525,
         0.12693347689540652,
         0.12381271388823538,
         0.12575224587225642,
         0.13047543456334296,
         0.12071564951033457,
         0.1309670780930705,
         0.1314405807693583,
         0.12899431930410937,
         0.12067665630130686,
         0.1261566915917891,
         0.12638739444739946,
         0.12042556884985206,
         0.13001381034584614,
         0.1261535135625876,
         0.12714644106085382,
         0.12796670562631426,
         0.13352384629460867,
         0.12461437601101405,
         0.1272534150856173,
         0.12600129751694225,
         0.12347118249503644,
         0.12412586017571511,
         0.12937574308025893,
         0.12064854443963877,
         0.13056676600981318,
         0.12403744925055843,
         0.1385239103230246,
         0.11696201091051703,
         0.12101273759834012,
         0.1240168683561027,
         0.12215369914137574,
         0.11748843701585956,
         0.12914007085311746,
         0.11709446465123338,
         0.12300836109363025,
         0.12438840588043047,
         0.1245779530762385,
         0.12458319404948048,
         0.12156410017257897,
         0.12592547588406958,
         0.13128368380445932,
         0.12578646300635285,
         0.12308245456463325,
         0.13120385515173727,
         0.12054794849820652,
         0.12205609159928987,
         0.1291735798088257,
         0.12397532357567238,
         0.12541079436916128,
         0.11650723406473658,
         0.12175332309075795,
         0.13623934158695597,
         0.12268803886511973,
         0.12322175480489425,
         0.12400918278111102,
         0.12251360958448437,
         0.13218192362606535,
         0.13229929232379112,
         0.12252008853335639,
         0.1286491195597164,
         0.12038418493551842,
         0.13037564463048157,
         0.1277326473915442,
         0.12242784425234472,
         0.12417441796565537,
         0.12386309624419956,
         0.12385286339647276,
         0.1233730741195616,
         0.12311694995436899,
         0.12875695320293748,
         0.11956198787655735,
         0.13053934065795164,
         0.1263079398713398,
         0.12187991301307438,
         0.12816031507243436,
         0.12809308957102433,
         0.13212935666015235
        ],
        [
         0.24025068817404555,
         0.24147482660106,
         0.2362975695480903,
         0.2317482777597273,
         0.25589715515939043,
         0.24245197119593037,
         0.23150841878982736,
         0.24162123640816585,
         0.24296681168397852,
         0.2361623852458947,
         0.2384584375164088,
         0.2278440337281163,
         0.2401844814565836,
         0.23680399665517696,
         0.24713189174950706,
         0.22741822209939652,
         0.2421044526512132,
         0.2448226351510076,
         0.23955647246090367,
         0.236305259405544,
         0.22683164997793295,
         0.24224858128410928,
         0.2330107113949078,
         0.24278485157764426,
         0.23941922974864058,
         0.24418449463030578,
         0.24222242821227102,
         0.24236255994650954,
         0.2377214878706225,
         0.2511844547721101,
         0.23765432907670153,
         0.23941465772177076,
         0.23933645772437254,
         0.24176428717214102,
         0.23523666170955287,
         0.25249380136237426,
         0.24133300952905534,
         0.24302904236623468,
         0.24267436889018498,
         0.24705676760469727,
         0.24664654628391944,
         0.23949385116643765,
         0.24710020970772295,
         0.2403527319833052,
         0.23188196181082257,
         0.24294923718872607,
         0.24092295986837617,
         0.23874784796955248,
         0.24200758354409652,
         0.24554272752036066,
         0.22343085682494382,
         0.2344879785954368,
         0.23967828698383242,
         0.24348992892705343,
         0.23325765936398038,
         0.2423575700023303,
         0.23021491304697358,
         0.23948725197902498,
         0.24179349783077544,
         0.24116562708627945,
         0.23783488105982542,
         0.2359877421575434,
         0.2344611896494148,
         0.24674891011205083,
         0.23936609987753862,
         0.24382220226906093,
         0.24964613188058138,
         0.23813923362496436,
         0.23792472775733353,
         0.24010870381094077,
         0.24808248174468092,
         0.23934080531163252,
         0.22989927584707154,
         0.24156252370562917,
         0.25055988235216514,
         0.2424436389359043,
         0.23888641475772887,
         0.2390057666263744,
         0.2360397083684802,
         0.24976323229059869,
         0.2399023950428647,
         0.2346543030375067,
         0.2459425230273137,
         0.23375409889016666,
         0.23900928312693448,
         0.24065241586490005,
         0.24521180784658475,
         0.2451133755236572,
         0.23347132059508094,
         0.2357883028795614,
         0.24212177537892962,
         0.23477647360414267,
         0.24465708750500983,
         0.23175435062205674,
         0.24004779962421047,
         0.24132399399783097,
         0.23185351213403776,
         0.24419754719836453,
         0.24661413715312294,
         0.2482249440223563
        ],
        [
         24.505570193752646,
         24.63043231330812,
         24.10235209390521,
         23.638324331492186,
         26.101509826257825,
         24.730101061984897,
         23.61385871656239,
         24.645366113632917,
         24.78261479176581,
         24.088563295081258,
         24.3227606266737,
         23.24009144026786,
         24.49881710857153,
         24.15400765882805,
         25.20745295844972,
         23.196658654138446,
         24.694654170423746,
         24.971908785402775,
         24.434760191012174,
         24.103136459365487,
         23.13682829774916,
         24.709355290979147,
         23.767092562280595,
         24.764054860919714,
         24.42076143436134,
         24.90681845229119,
         24.706687677651644,
         24.720981114543974,
         24.247591762803495,
         25.620814386755228,
         24.240741565823555,
         24.420295087620616,
         24.412318687886,
         24.659957291558385,
         23.994139494374394,
         25.754367738962173,
         24.615966971963644,
         24.78896232135594,
         24.752785626798868,
         25.199790295679122,
         25.157947720959783,
         24.42837281897664,
         25.20422139018774,
         24.51597866229713,
         23.651960104703903,
         24.78082219325006,
         24.57414190657437,
         24.35228049289435,
         24.684773521497846,
         25.045358207076788,
         22.78994739614427,
         23.917773816734552,
         24.447185272350907,
         24.83597275055945,
         23.792281255126,
         24.72047214023769,
         23.481921130791306,
         24.427699701860547,
         24.662936778739095,
         24.598893962800503,
         24.259157868102193,
         24.070749700069427,
         23.915041344240308,
         25.168388831429183,
         24.41534218750894,
         24.869864631444216,
         25.4639054518193,
         24.290201829746366,
         24.26832223124802,
         24.49108778871596,
         25.304413137957454,
         24.412762141786516,
         23.449726136401296,
         24.639377417974174,
         25.557107999920845,
         24.729251171462238,
         24.366414305288345,
         24.378588195890188,
         24.07605025358498,
         25.475849693641067,
         24.4700442943722,
         23.934738909825683,
         25.086137348785996,
         23.842918086797,
         24.378946878947318,
         24.546546418219805,
         25.011604400351644,
         25.001564303413033,
         23.814074700698256,
         24.050406893715262,
         24.696421088650823,
         23.947200307622552,
         24.955022925511003,
         23.638943763449788,
         24.48487556166947,
         24.61504738777876,
         23.649058237671852,
         24.908149814233184,
         25.15464198961854,
         25.318944290280342
        ],
        [
         3.568140966781537,
         3.6923364938308794,
         3.6413917645583997,
         3.498676079777806,
         3.7338547560198916,
         3.576607417682942,
         3.4519701135390743,
         3.575715311832918,
         3.5043322093730085,
         3.445734010999048,
         3.5916212533262506,
         3.5111249664025532,
         3.6714451848963527,
         3.5730938436983455,
         3.6110031720058107,
         3.550832215534308,
         3.600182418070277,
         3.6744148457331662,
         3.574002427768585,
         3.568652371424027,
         3.459354547134662,
         3.596901403882314,
         3.4718277998380564,
         3.598223817848393,
         3.5537159166990273,
         3.5814423182525434,
         3.648080909938947,
         3.508987923896878,
         3.6549476009230544,
         3.6615487486136993,
         3.627315890437329,
         3.5084211467173225,
         3.5871970314386803,
         3.590475488516073,
         3.504769325174612,
         3.6416217067779444,
         3.587151848386674,
         3.601241034450082,
         3.6128387694282798,
         3.6904515065300716,
         3.565202147582018,
         3.6027556590383645,
         3.5849870776235884,
         3.548811155090351,
         3.558207095985693,
         3.6326747437922937,
         3.508012476152722,
         3.6493574959163624,
         3.5569396710595136,
         3.758914584417755,
         3.454001319176462,
         3.5133031800615635,
         3.5566445664871362,
         3.529826810541889,
         3.461765528688746,
         3.6293645762058655,
         3.455956509336569,
         3.542153699594398,
         3.5619681918574044,
         3.564681081636382,
         3.564756063610386,
         3.5212978030270397,
         3.583908277310552,
         3.6593627516351606,
         3.5819295395984536,
         3.5432203382788074,
         3.658250022275295,
         3.5065496926205193,
         3.5284162655683873,
         3.629835415070527,
         3.5560487911048937,
         3.576576718826878,
         3.4472797789856178,
         3.5240373090047323,
         3.727789270045921,
         3.5375386873138517,
         3.5452248151702896,
         3.556534358567807,
         3.535023080210001,
         3.671860047694991,
         3.6734898689157554,
         3.5351165511765443,
         3.622459136428053,
         3.504167071277121,
         3.646685584514946,
         3.6095332155193565,
         3.5337855217513066,
         3.5589030097063397,
         3.554438889179042,
         3.5542920626251617,
         3.5474009584758366,
         3.5437168192937816,
         3.6239769903656422,
         3.492180230659472,
         3.648974204774687,
         3.589346718676904,
         3.5258688471543556,
         3.6155707899843836,
         3.6146224057630802,
         3.67112985051408
        ]
       ],
       "encoder": "json",
       "name": "ABC_GAN_3 Metrics",
       "version": 1
      }
     },
     "metadata": {
      "scrapbook": {
       "data": true,
       "display": false,
       "name": "ABC_GAN_3 Metrics"
      }
     },
     "output_type": "display_data"
    },
    {
     "name": "stdout",
     "output_type": "stream",
     "text": [
      "MAE\n",
      "0.2400667728291021\n"
     ]
    }
   ],
   "source": [
    "ABC_GAN3_metrics=ABC_train_test2.test_generator(gen3,test_data,prior_model,variance,bias,\"3\",device)\n",
    "sb.glue(\"ABC_GAN_3 Metrics\",ABC_GAN3_metrics)\n",
    "\n",
    "print(\"MAE\")\n",
    "print(mean(ABC_GAN3_metrics[1]))"
   ]
  },
  {
   "cell_type": "code",
   "execution_count": 22,
   "id": "c8e46b48",
   "metadata": {
    "execution": {
     "iopub.execute_input": "2022-07-22T11:39:24.771061Z",
     "iopub.status.busy": "2022-07-22T11:39:24.767110Z",
     "iopub.status.idle": "2022-07-22T11:39:26.506489Z",
     "shell.execute_reply": "2022-07-22T11:39:26.505632Z"
    },
    "id": "c8e46b48",
    "papermill": {
     "duration": 1.794108,
     "end_time": "2022-07-22T11:39:26.509263",
     "exception": false,
     "start_time": "2022-07-22T11:39:24.715155",
     "status": "completed"
    },
    "tags": []
   },
   "outputs": [
    {
     "data": {
      "image/png": "[encoded data removed]",
      "text/plain": [
       "<Figure size 432x288 with 1 Axes>"
      ]
     },
     "metadata": {
      "needs_background": "light"
     },
     "output_type": "display_data"
    },
    {
     "data": {
      "image/png": "[encoded data removed]",
      "text/plain": [
       "<Figure size 432x288 with 1 Axes>"
      ]
     },
     "metadata": {
      "needs_background": "light"
     },
     "output_type": "display_data"
    },
    {
     "data": {
      "image/png": "[encoded data removed]",
      "text/plain": [
       "<Figure size 432x288 with 1 Axes>"
      ]
     },
     "metadata": {
      "needs_background": "light"
     },
     "output_type": "display_data"
    },
    {
     "data": {
      "image/png": "[encoded data removed]",
      "text/plain": [
       "<Figure size 432x288 with 1 Axes>"
      ]
     },
     "metadata": {
      "needs_background": "light"
     },
     "output_type": "display_data"
    }
   ],
   "source": [
    "sanityChecks.discProbVsError(train_data,disc3,device)\n",
    "sanityChecks.discProbVsError(test_data,disc3,device)"
   ]
  },
  {
   "cell_type": "markdown",
   "id": "141b9cf2",
   "metadata": {
    "id": "130f3a4d",
    "papermill": {
     "duration": 0.048394,
     "end_time": "2022-07-22T11:39:26.601654",
     "exception": false,
     "start_time": "2022-07-22T11:39:26.553260",
     "status": "completed"
    },
    "tags": []
   },
   "source": [
    "# skipGAN Model with TabNet Generator"
   ]
  },
  {
   "cell_type": "code",
   "execution_count": 23,
   "id": "6f4044d1",
   "metadata": {
    "execution": {
     "iopub.execute_input": "2022-07-22T11:39:26.688124Z",
     "iopub.status.busy": "2022-07-22T11:39:26.687777Z",
     "iopub.status.idle": "2022-07-22T11:39:26.705789Z",
     "shell.execute_reply": "2022-07-22T11:39:26.705014Z"
    },
    "id": "4e43dad1",
    "papermill": {
     "duration": 0.065056,
     "end_time": "2022-07-22T11:39:26.708999",
     "exception": false,
     "start_time": "2022-07-22T11:39:26.643943",
     "status": "completed"
    },
    "tags": []
   },
   "outputs": [],
   "source": [
    "#Generator\n",
    "gen4 = network.GeneratorTabnetskipConnection(n_features+1).to(device)\n",
    "constraints=network.weightConstraint()\n",
    "#Discriminator \n",
    "disc4 = network.Discriminator(n_features+1).to(device)\n",
    "\n",
    "criterion = torch.nn.BCELoss()\n",
    "gen_opt = torch.optim.Adam(gen4.parameters(), lr=0.01, betas=(0.5, 0.999))\n",
    "disc_opt = torch.optim.Adam(disc4.parameters(), lr=0.01, betas=(0.5, 0.999))\n"
   ]
  },
  {
   "cell_type": "code",
   "execution_count": 24,
   "id": "51e8535b",
   "metadata": {
    "execution": {
     "iopub.execute_input": "2022-07-22T11:39:26.802105Z",
     "iopub.status.busy": "2022-07-22T11:39:26.801732Z",
     "iopub.status.idle": "2022-07-22T11:53:38.449123Z",
     "shell.execute_reply": "2022-07-22T11:53:38.447419Z"
    },
    "id": "26acbc37",
    "papermill": {
     "duration": 851.704112,
     "end_time": "2022-07-22T11:53:38.453226",
     "exception": false,
     "start_time": "2022-07-22T11:39:26.749114",
     "status": "completed"
    },
    "tags": []
   },
   "outputs": [
    {
     "data": {
      "image/png": "[encoded data removed]",
      "text/plain": [
       "<Figure size 432x288 with 1 Axes>"
      ]
     },
     "metadata": {
      "needs_background": "light"
     },
     "output_type": "display_data"
    },
    {
     "data": {
      "image/png": "[encoded data removed]",
      "text/plain": [
       "<Figure size 432x288 with 1 Axes>"
      ]
     },
     "metadata": {
      "needs_background": "light"
     },
     "output_type": "display_data"
    }
   ],
   "source": [
    "ABC_train_test2.training_GAN_skip_connection(disc4,gen4,disc_opt,gen_opt,train_data,batch_size,n_epochs,criterion,prior_model,variance,bias,device)"
   ]
  },
  {
   "cell_type": "code",
   "execution_count": 25,
   "id": "490f05cc",
   "metadata": {
    "execution": {
     "iopub.execute_input": "2022-07-22T11:53:38.547985Z",
     "iopub.status.busy": "2022-07-22T11:53:38.547484Z",
     "iopub.status.idle": "2022-07-22T11:53:44.213380Z",
     "shell.execute_reply": "2022-07-22T11:53:44.211463Z"
    },
    "id": "c5e0717b",
    "papermill": {
     "duration": 5.715075,
     "end_time": "2022-07-22T11:53:44.216698",
     "exception": false,
     "start_time": "2022-07-22T11:53:38.501623",
     "status": "completed"
    },
    "tags": []
   },
   "outputs": [
    {
     "data": {
      "application/scrapbook.scrap.json+json": {
       "data": 0.13620992224518566,
       "encoder": "json",
       "name": "ABC-GAN Model 3 MSE",
       "version": 1
      }
     },
     "metadata": {
      "scrapbook": {
       "data": true,
       "display": false,
       "name": "ABC-GAN Model 3 MSE"
      }
     },
     "output_type": "display_data"
    },
    {
     "data": {
      "application/scrapbook.scrap.json+json": {
       "data": 0.25064894848977964,
       "encoder": "json",
       "name": "ABC-GAN Model 3 MAE",
       "version": 1
      }
     },
     "metadata": {
      "scrapbook": {
       "data": true,
       "display": false,
       "name": "ABC-GAN Model 3 MAE"
      }
     },
     "output_type": "display_data"
    },
    {
     "data": {
      "application/scrapbook.scrap.json+json": {
       "data": 25.566192745957522,
       "encoder": "json",
       "name": "ABC-GAN Model 3 Manhattan Distance",
       "version": 1
      }
     },
     "metadata": {
      "scrapbook": {
       "data": true,
       "display": false,
       "name": "ABC-GAN Model 3 Manhattan Distance"
      }
     },
     "output_type": "display_data"
    },
    {
     "data": {
      "application/scrapbook.scrap.json+json": {
       "data": 3.7266220121268576,
       "encoder": "json",
       "name": "ABC-GAN Model 3 Euclidean distance",
       "version": 1
      }
     },
     "metadata": {
      "scrapbook": {
       "data": true,
       "display": false,
       "name": "ABC-GAN Model 3 Euclidean distance"
      }
     },
     "output_type": "display_data"
    },
    {
     "data": {
      "application/scrapbook.scrap.json+json": {
       "data": [
        [
         0.1374331975768569,
         0.13930558605639,
         0.1420888317661986,
         0.14718813006176118,
         0.12949911787701177,
         0.135849187758059,
         0.13615713810537963,
         0.14119736265499785,
         0.14445619961856773,
         0.14031301769090448,
         0.1365093579568795,
         0.13344110165328357,
         0.14299550556747084,
         0.13097165126095267,
         0.13511609607334407,
         0.13097206189687,
         0.13058208753064846,
         0.13879623360464396,
         0.13732481579984443,
         0.13657266592435335,
         0.14161735051680557,
         0.14261917649907316,
         0.13975243849126007,
         0.13118313899709047,
         0.13263180191032628,
         0.1370791800119919,
         0.13100619115474674,
         0.1337712007679066,
         0.14730386985518962,
         0.1383805974342238,
         0.14245673630236577,
         0.14688198896856458,
         0.1454620791177002,
         0.14417368274437145,
         0.14043344344310493,
         0.13676853516988827,
         0.13129370255306178,
         0.13716409485635228,
         0.12678865930736144,
         0.1308282563323072,
         0.13722464682031538,
         0.1291250234676398,
         0.1389812429808036,
         0.1430004277289214,
         0.12402664010869384,
         0.132920742047246,
         0.13634310428090773,
         0.13914536827289128,
         0.14243914117733536,
         0.14727228145730017,
         0.13092049288705385,
         0.1361489783966611,
         0.13436800203155522,
         0.1325588047603757,
         0.13897218304971248,
         0.13228501132839202,
         0.13439316126208323,
         0.1357103468252475,
         0.1417217076569288,
         0.13456207071334214,
         0.1402299093071155,
         0.14385221378853297,
         0.14032887232610092,
         0.1386525007649761,
         0.13491723855771218,
         0.13673013987314428,
         0.13651441688004887,
         0.13392827012257813,
         0.13450918687095229,
         0.12428906511048204,
         0.13538404009286914,
         0.1349904027124178,
         0.14120610413988796,
         0.13129193208917692,
         0.13352059200257207,
         0.1269781417158456,
         0.13561885101482693,
         0.13251745474960802,
         0.13890676624087792,
         0.13555492697783342,
         0.14160254991712545,
         0.12777025533887354,
         0.14471514544239972,
         0.13126990495599108,
         0.12539833709825152,
         0.12243174404063183,
         0.13209954999451903,
         0.133923223495388,
         0.13032784954572718,
         0.1405310951288616,
         0.13582846930276674,
         0.13094043616481393,
         0.13130968175449745,
         0.1384350785851501,
         0.13637050262304093,
         0.13934271520032787,
         0.14243761620199544,
         0.13946685204060685,
         0.13695629135557122,
         0.12342905287295064
        ],
        [
         0.2540437483466139,
         0.25557624698415693,
         0.25347474772556156,
         0.2553659458918607,
         0.2373812968349632,
         0.2491437507355038,
         0.25107413921139987,
         0.25853759097848455,
         0.26103944694805964,
         0.25190176371046724,
         0.25558940830695276,
         0.2506393340105812,
         0.2602766313790983,
         0.24405415807211517,
         0.2553895189079876,
         0.2459313898329057,
         0.24285289374928848,
         0.2508934380340518,
         0.24447045729075575,
         0.2483872620425388,
         0.25757169285241294,
         0.25009269811505197,
         0.25432316380023373,
         0.25154682629120845,
         0.24908371007654304,
         0.24566253588772288,
         0.2496069391513718,
         0.25193173847362105,
         0.25865696438168195,
         0.2560885680072448,
         0.2558163814429267,
         0.2652178172241239,
         0.25194939728095833,
         0.26305228115662055,
         0.2612869267662366,
         0.24820389744697832,
         0.24645676383492993,
         0.2557740133328765,
         0.23932236208416083,
         0.24097742500039293,
         0.24495679797495112,
         0.2451807556710407,
         0.2579151921741226,
         0.25829772196034445,
         0.2339864810015641,
         0.2515516310711117,
         0.2523296536037735,
         0.2472940040934904,
         0.25551474512572964,
         0.25742224118142737,
         0.2539618432010506,
         0.25460344978480365,
         0.25321682096988546,
         0.25494950860008303,
         0.25440122371575996,
         0.24949344802720874,
         0.2569471257282238,
         0.2451972686776928,
         0.2525787835794629,
         0.2552244508748545,
         0.24893327754940472,
         0.2580016289892442,
         0.25418915718282553,
         0.25430998675452143,
         0.24388258924306022,
         0.24818726258315876,
         0.25031897017969656,
         0.25213660375562075,
         0.24511071570290655,
         0.2464627854197341,
         0.24702193390797167,
         0.24609506813188395,
         0.2518003691426095,
         0.24474402022201056,
         0.24844511065120792,
         0.24511833198587685,
         0.2540588902638239,
         0.24170058972987474,
         0.25185721318292265,
         0.2442603354689245,
         0.25442449635296477,
         0.23895874125517758,
         0.2620188768624383,
         0.24395778957370887,
         0.24259783860807324,
         0.239495094098589,
         0.24823499260945062,
         0.24906873429997586,
         0.24469777651350288,
         0.25760064869388644,
         0.250926844154795,
         0.23730260559229874,
         0.24715789307054936,
         0.2511331111229226,
         0.2516901580909011,
         0.2555975174604386,
         0.2553272091363575,
         0.2534961077001165,
         0.25207771278698654,
         0.23882744233032652
        ],
        [
         25.912462331354618,
         26.068777192384005,
         25.85442426800728,
         26.047326480969787,
         24.212892277166247,
         25.412662575021386,
         25.609562199562788,
         26.370834279805422,
         26.626023588702083,
         25.69397989846766,
         26.070119647309184,
         25.56521206907928,
         26.548216400668025,
         24.893524123355746,
         26.049730928614736,
         25.08500176295638,
         24.770995162427425,
         25.59113067947328,
         24.93598664365709,
         25.335500728338957,
         26.27231267094612,
         25.5094552077353,
         25.94096270762384,
         25.657776281703264,
         25.40653842780739,
         25.057578660547733,
         25.459907793439925,
         25.69703732430935,
         26.383010366931558,
         26.121033936738968,
         26.09327090717852,
         27.052217356860638,
         25.698838522657752,
         26.831332677975297,
         26.651266530156136,
         25.31679753959179,
         25.138589911162853,
         26.088949359953403,
         24.410880932584405,
         24.579697350040078,
         24.985593393445015,
         25.00843707844615,
         26.307349601760507,
         26.346367639955133,
         23.86662106215954,
         25.658266369253397,
         25.737624667584896,
         25.22398841753602,
         26.062504002824426,
         26.25706860050559,
         25.90410800650716,
         25.96955187804997,
         25.828115738928318,
         26.00484987720847,
         25.948924819007516,
         25.44833169877529,
         26.20860682427883,
         25.010121405124664,
         25.763035925105214,
         26.032893989235163,
         25.391194310039282,
         26.31616615690291,
         25.927294032648206,
         25.939618648961186,
         24.876024102792144,
         25.315100783482194,
         25.53253495832905,
         25.717933583073318,
         25.001293001696467,
         25.139204112812877,
         25.19623725861311,
         25.101696949452162,
         25.683637652546167,
         24.963890062645078,
         25.341401286423206,
         25.002069862559438,
         25.914006806910038,
         24.653460152447224,
         25.689435744658113,
         24.9145542178303,
         25.951298628002405,
         24.373791608028114,
         26.725925439968705,
         24.883694536518306,
         24.744979538023472,
         24.428499598056078,
         25.319969246163964,
         25.40501089859754,
         24.959173204377294,
         26.27526616677642,
         25.59453810378909,
         24.20486577041447,
         25.210105093196034,
         25.615577334538102,
         25.672396125271916,
         26.070946780964732,
         26.043375331908464,
         25.856602985411882,
         25.711926704272628,
         24.360399117693305
        ],
        [
         3.7440868249600454,
         3.769505243099123,
         3.8069752875678424,
         3.8746856990341345,
         3.6344064196860537,
         3.7224477365467488,
         3.726664471984125,
         3.7950139645078744,
         3.83855863067036,
         3.783110863359975,
         3.7314815437841444,
         3.6893078441131637,
         3.819102193956326,
         3.655011412925707,
         3.712390308073909,
         3.655017142706822,
         3.6495716088502963,
         3.7626075835348125,
         3.742610213685648,
         3.7323467047266714,
         3.800653858576727,
         3.814073413413205,
         3.775546149381375,
         3.657961205057159,
         3.678103287681475,
         3.739261472700616,
         3.655493331656367,
         3.693868226984617,
         3.876208808259604,
         3.756969648305776,
         3.8119007204859514,
         3.870654062919287,
         3.851899800099352,
         3.8348032074574423,
         3.784733970994091,
         3.7350221669126147,
         3.6595023787958243,
         3.7404194517925298,
         3.5961706368512143,
         3.6530100117431012,
         3.741244976698554,
         3.6291531234847687,
         3.7651144450125247,
         3.8191679235600495,
         3.556784684386555,
         3.6821075064179056,
         3.7292085804702015,
         3.767336932613661,
         3.8116653053604015,
         3.87579317155142,
         3.6542975076585504,
         3.7265528033907467,
         3.702098892144648,
         3.677090981408852,
         3.7649917225766476,
         3.673291596850975,
         3.7024454687047705,
         3.720545037514697,
         3.8020539424114874,
         3.70477141167453,
         3.781990315868852,
         3.8305255261426416,
         3.7833245931670056,
         3.760658862224485,
         3.7096574414474763,
         3.734497860095881,
         3.7315506859434433,
         3.6960361946960103,
         3.704043339492282,
         3.5605455538820414,
         3.7160694408840977,
         3.7106631586101444,
         3.7951314367579645,
         3.6594777049595533,
         3.6904065337388445,
         3.598856826134689,
         3.719290631761969,
         3.676517426105855,
         3.7641054922211667,
         3.718413983372347,
         3.8004552479336993,
         3.610064548531661,
         3.8419975058717526,
         3.6591707128133675,
         3.576399080642658,
         3.5338418034972134,
         3.670715747567624,
         3.6959665578207788,
         3.6460170945381165,
         3.786049617100109,
         3.7221638691602776,
         3.6545758288495005,
         3.6597250633017153,
         3.757709144636571,
         3.7295832565516185,
         3.770007553100317,
         3.811644901168462,
         3.7716864806266575,
         3.7375850115105425,
         3.548205658222331
        ]
       ],
       "encoder": "json",
       "name": "ABC_GAN_4 Metrics",
       "version": 1
      }
     },
     "metadata": {
      "scrapbook": {
       "data": true,
       "display": false,
       "name": "ABC_GAN_4 Metrics"
      }
     },
     "output_type": "display_data"
    },
    {
     "name": "stdout",
     "output_type": "stream",
     "text": [
      "MAE\n",
      "0.25064894848977964\n"
     ]
    }
   ],
   "source": [
    "ABC_GAN4_metrics=ABC_train_test2.test_generator(gen4,test_data,prior_model,variance,bias,\"3\",device)\n",
    "sb.glue(\"ABC_GAN_4 Metrics\",ABC_GAN4_metrics)\n",
    "\n",
    "print(\"MAE\")\n",
    "print(mean(ABC_GAN4_metrics[1]))"
   ]
  },
  {
   "cell_type": "code",
   "execution_count": 26,
   "id": "fbbaebf0",
   "metadata": {
    "execution": {
     "iopub.execute_input": "2022-07-22T11:53:44.346152Z",
     "iopub.status.busy": "2022-07-22T11:53:44.345495Z",
     "iopub.status.idle": "2022-07-22T11:53:45.151069Z",
     "shell.execute_reply": "2022-07-22T11:53:45.150090Z"
    },
    "id": "c8e46b48",
    "papermill": {
     "duration": 0.889985,
     "end_time": "2022-07-22T11:53:45.154426",
     "exception": false,
     "start_time": "2022-07-22T11:53:44.264441",
     "status": "completed"
    },
    "tags": []
   },
   "outputs": [
    {
     "data": {
      "image/png": "[encoded data removed]",
      "text/plain": [
       "<Figure size 432x288 with 1 Axes>"
      ]
     },
     "metadata": {
      "needs_background": "light"
     },
     "output_type": "display_data"
    },
    {
     "data": {
      "image/png": "[encoded data removed]",
      "text/plain": [
       "<Figure size 432x288 with 1 Axes>"
      ]
     },
     "metadata": {
      "needs_background": "light"
     },
     "output_type": "display_data"
    },
    {
     "data": {
      "image/png": "[encoded data removed]",
      "text/plain": [
       "<Figure size 432x288 with 1 Axes>"
      ]
     },
     "metadata": {
      "needs_background": "light"
     },
     "output_type": "display_data"
    },
    {
     "data": {
      "image/png": "[encoded data removed]",
      "text/plain": [
       "<Figure size 432x288 with 1 Axes>"
      ]
     },
     "metadata": {
      "needs_background": "light"
     },
     "output_type": "display_data"
    }
   ],
   "source": [
    "sanityChecks.discProbVsError(train_data,disc4,device)\n",
    "sanityChecks.discProbVsError(test_data,disc4,device)"
   ]
  },
  {
   "cell_type": "markdown",
   "id": "a5bd74c3",
   "metadata": {
    "id": "a5bd74c3",
    "papermill": {
     "duration": 0.063884,
     "end_time": "2022-07-22T11:53:45.272222",
     "exception": false,
     "start_time": "2022-07-22T11:53:45.208338",
     "status": "completed"
    },
    "tags": []
   },
   "source": [
    "## Skip Connection Model Analysis - ABC-GAN "
   ]
  },
  {
   "cell_type": "markdown",
   "id": "5744a8bf",
   "metadata": {
    "id": "5744a8bf",
    "papermill": {
     "duration": 0.061002,
     "end_time": "2022-07-22T11:53:45.419950",
     "exception": false,
     "start_time": "2022-07-22T11:53:45.358948",
     "status": "completed"
    },
    "tags": []
   },
   "source": [
    "### Weight Analysis \n",
    "\n",
    "Study the weights of the skip connection layer\n",
    "\n",
    "Equation of the skip connection is \n",
    "\n",
    "$output = y_{gan} * w + y_{abc} * (1-w)$"
   ]
  },
  {
   "cell_type": "code",
   "execution_count": 27,
   "id": "52c31dea",
   "metadata": {
    "execution": {
     "iopub.execute_input": "2022-07-22T11:53:45.527075Z",
     "iopub.status.busy": "2022-07-22T11:53:45.526755Z",
     "iopub.status.idle": "2022-07-22T11:53:45.548835Z",
     "shell.execute_reply": "2022-07-22T11:53:45.547944Z"
    },
    "id": "52c31dea",
    "papermill": {
     "duration": 0.080107,
     "end_time": "2022-07-22T11:53:45.552077",
     "exception": false,
     "start_time": "2022-07-22T11:53:45.471970",
     "status": "completed"
    },
    "tags": []
   },
   "outputs": [
    {
     "name": "stdout",
     "output_type": "stream",
     "text": [
      "Weight of the node at skip connection\n",
      "Parameter containing:\n",
      "tensor([[0.1145]], requires_grad=True)\n"
     ]
    },
    {
     "data": {
      "application/scrapbook.scrap.json+json": {
       "data": 0.11447130143642426,
       "encoder": "json",
       "name": "Skip Connection Weight",
       "version": 1
      }
     },
     "metadata": {
      "scrapbook": {
       "data": true,
       "display": false,
       "name": "Skip Connection Weight"
      }
     },
     "output_type": "display_data"
    }
   ],
   "source": [
    "print(\"Weight of the node at skip connection\")\n",
    "for name,param in gen3.named_parameters():\n",
    "    if(name == \"skipNode.weight\"):\n",
    "        print(param)\n",
    "        sb.glue(\"Skip Connection Weight\",param.item())"
   ]
  },
  {
   "cell_type": "markdown",
   "id": "50ddf5dc",
   "metadata": {
    "id": "a5bd74c3",
    "papermill": {
     "duration": 0.054345,
     "end_time": "2022-07-22T11:53:45.653979",
     "exception": false,
     "start_time": "2022-07-22T11:53:45.599634",
     "status": "completed"
    },
    "tags": []
   },
   "source": [
    "## skipGAN Model Analysis (TabNet Generator) "
   ]
  },
  {
   "cell_type": "markdown",
   "id": "8dbbf5ec",
   "metadata": {
    "id": "5744a8bf",
    "papermill": {
     "duration": 0.059482,
     "end_time": "2022-07-22T11:53:45.764548",
     "exception": false,
     "start_time": "2022-07-22T11:53:45.705066",
     "status": "completed"
    },
    "tags": []
   },
   "source": [
    "### Weight Analysis \n",
    "\n",
    "Study the weights of the skip connection layer\n",
    "\n",
    "Equation of the skip connection is \n",
    "\n",
    "$output = y_{gan} * w + y_{abc} * (1-w)$"
   ]
  },
  {
   "cell_type": "code",
   "execution_count": 28,
   "id": "7623c57b",
   "metadata": {
    "execution": {
     "iopub.execute_input": "2022-07-22T11:53:45.866253Z",
     "iopub.status.busy": "2022-07-22T11:53:45.865915Z",
     "iopub.status.idle": "2022-07-22T11:53:45.878843Z",
     "shell.execute_reply": "2022-07-22T11:53:45.877216Z"
    },
    "id": "52c31dea",
    "papermill": {
     "duration": 0.069779,
     "end_time": "2022-07-22T11:53:45.882408",
     "exception": false,
     "start_time": "2022-07-22T11:53:45.812629",
     "status": "completed"
    },
    "tags": []
   },
   "outputs": [
    {
     "name": "stdout",
     "output_type": "stream",
     "text": [
      "Weight of the node at skip connection\n",
      "Parameter containing:\n",
      "tensor([[0.1688]], requires_grad=True)\n"
     ]
    },
    {
     "data": {
      "application/scrapbook.scrap.json+json": {
       "data": 0.16877034306526184,
       "encoder": "json",
       "name": "Skip Connection Weight",
       "version": 1
      }
     },
     "metadata": {
      "scrapbook": {
       "data": true,
       "display": false,
       "name": "Skip Connection Weight"
      }
     },
     "output_type": "display_data"
    }
   ],
   "source": [
    "print(\"Weight of the node at skip connection\")\n",
    "for name,param in gen4.named_parameters():\n",
    "    if(name == \"skipNode.weight\"):\n",
    "        print(param)\n",
    "        sb.glue(\"Skip Connection Weight\",param.item())"
   ]
  }
 ],
 "metadata": {
  "colab": {
   "collapsed_sections": [],
   "name": "ABC_GAN_Model-Catboost_Pre-gen.ipynb",
   "provenance": []
  },
  "interpreter": {
   "hash": "31f2aee4e71d21fbe5cf8b01ff0e069b9275f58929596ceb00d14d90e3e16cd6"
  },
  "kernelspec": {
   "display_name": "Python 3 (ipykernel)",
   "language": "python",
   "name": "python3"
  },
  "language_info": {
   "codemirror_mode": {
    "name": "ipython",
    "version": 3
   },
   "file_extension": ".py",
   "mimetype": "text/x-python",
   "name": "python",
   "nbconvert_exporter": "python",
   "pygments_lexer": "ipython3",
   "version": "3.8.13"
  },
  "papermill": {
   "default_parameters": {},
   "duration": 2826.394805,
   "end_time": "2022-07-22T11:53:47.141341",
   "environment_variables": {},
   "exception": null,
   "input_path": "ABC_GAN-TabNet.ipynb",
   "output_path": "./ABC_GAN_TabNet/ABC-GAN_output_1_4.ipynb",
   "parameters": {
    "bias": 0.1,
    "variance": 0.1
   },
   "start_time": "2022-07-22T11:06:40.746536",
   "version": "2.3.3"
  }
 },
 "nbformat": 4,
 "nbformat_minor": 5
}