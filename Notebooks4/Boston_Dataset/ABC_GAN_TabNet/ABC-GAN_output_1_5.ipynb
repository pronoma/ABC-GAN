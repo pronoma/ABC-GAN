{
 "cells": [
  {
   "cell_type": "markdown",
   "id": "622780e6",
   "metadata": {
    "id": "622780e6",
    "papermill": {
     "duration": 0.00961,
     "end_time": "2022-07-22T11:53:54.059829",
     "exception": false,
     "start_time": "2022-07-22T11:53:54.050219",
     "status": "completed"
    },
    "tags": []
   },
   "source": [
    "## Import Libraries "
   ]
  },
  {
   "cell_type": "code",
   "execution_count": 1,
   "id": "a62397e3",
   "metadata": {
    "execution": {
     "iopub.execute_input": "2022-07-22T11:53:54.095100Z",
     "iopub.status.busy": "2022-07-22T11:53:54.093687Z",
     "iopub.status.idle": "2022-07-22T11:53:54.132127Z",
     "shell.execute_reply": "2022-07-22T11:53:54.121348Z"
    },
    "id": "a62397e3",
    "papermill": {
     "duration": 0.06865,
     "end_time": "2022-07-22T11:53:54.135886",
     "exception": false,
     "start_time": "2022-07-22T11:53:54.067236",
     "status": "completed"
    },
    "tags": []
   },
   "outputs": [],
   "source": [
    "import warnings\n",
    "import sys\n",
    "sys.path.insert(0, '../../src')\n",
    "warnings.filterwarnings('ignore')"
   ]
  },
  {
   "cell_type": "code",
   "execution_count": 2,
   "id": "d6a4e155",
   "metadata": {
    "execution": {
     "iopub.execute_input": "2022-07-22T11:53:54.156484Z",
     "iopub.status.busy": "2022-07-22T11:53:54.154725Z",
     "iopub.status.idle": "2022-07-22T11:54:01.169237Z",
     "shell.execute_reply": "2022-07-22T11:54:01.168260Z"
    },
    "id": "d6a4e155",
    "papermill": {
     "duration": 7.027362,
     "end_time": "2022-07-22T11:54:01.172273",
     "exception": false,
     "start_time": "2022-07-22T11:53:54.144911",
     "status": "completed"
    },
    "tags": []
   },
   "outputs": [],
   "source": [
    "import ABC_train_test2\n",
    "import bostonDataset\n",
    "import network\n",
    "import dataset\n",
    "import sanityChecks\n",
    "import torch \n",
    "import scrapbook as sb\n",
    "from statistics import mean \n",
    "import catboost as ctb \n",
    "from sklearn.model_selection import train_test_split\n",
    "from sklearn.metrics import mean_squared_error,mean_absolute_error\n",
    "import numpy as np\n",
    "from pytorch_tabnet.tab_model import TabNetRegressor"
   ]
  },
  {
   "cell_type": "markdown",
   "id": "2fa5b0f7",
   "metadata": {
    "id": "2fa5b0f7",
    "papermill": {
     "duration": 0.010934,
     "end_time": "2022-07-22T11:54:01.190711",
     "exception": false,
     "start_time": "2022-07-22T11:54:01.179777",
     "status": "completed"
    },
    "tags": []
   },
   "source": [
    "## Parameters "
   ]
  },
  {
   "cell_type": "code",
   "execution_count": 3,
   "id": "783186fb",
   "metadata": {
    "execution": {
     "iopub.execute_input": "2022-07-22T11:54:01.212997Z",
     "iopub.status.busy": "2022-07-22T11:54:01.212422Z",
     "iopub.status.idle": "2022-07-22T11:54:01.222166Z",
     "shell.execute_reply": "2022-07-22T11:54:01.220533Z"
    },
    "id": "783186fb",
    "papermill": {
     "duration": 0.025905,
     "end_time": "2022-07-22T11:54:01.225294",
     "exception": false,
     "start_time": "2022-07-22T11:54:01.199389",
     "status": "completed"
    },
    "tags": [
     "parameters"
    ]
   },
   "outputs": [],
   "source": [
    "variance = 1\n",
    "bias = 1 "
   ]
  },
  {
   "cell_type": "code",
   "execution_count": 4,
   "id": "4a1dc6e2",
   "metadata": {
    "execution": {
     "iopub.execute_input": "2022-07-22T11:54:01.245117Z",
     "iopub.status.busy": "2022-07-22T11:54:01.243949Z",
     "iopub.status.idle": "2022-07-22T11:54:01.256593Z",
     "shell.execute_reply": "2022-07-22T11:54:01.254870Z"
    },
    "papermill": {
     "duration": 0.026241,
     "end_time": "2022-07-22T11:54:01.259583",
     "exception": false,
     "start_time": "2022-07-22T11:54:01.233342",
     "status": "completed"
    },
    "tags": [
     "injected-parameters"
    ]
   },
   "outputs": [],
   "source": [
    "# Parameters\n",
    "variance = 0.01\n",
    "bias = 0.1\n"
   ]
  },
  {
   "cell_type": "markdown",
   "id": "391cdbfd",
   "metadata": {
    "id": "391cdbfd",
    "papermill": {
     "duration": 0.007516,
     "end_time": "2022-07-22T11:54:01.274292",
     "exception": false,
     "start_time": "2022-07-22T11:54:01.266776",
     "status": "completed"
    },
    "tags": []
   },
   "source": [
    "## Dataset \n"
   ]
  },
  {
   "cell_type": "code",
   "execution_count": 5,
   "id": "5b51f161",
   "metadata": {
    "execution": {
     "iopub.execute_input": "2022-07-22T11:54:01.301909Z",
     "iopub.status.busy": "2022-07-22T11:54:01.300040Z",
     "iopub.status.idle": "2022-07-22T11:54:01.308074Z",
     "shell.execute_reply": "2022-07-22T11:54:01.306624Z"
    },
    "id": "5b51f161",
    "papermill": {
     "duration": 0.028805,
     "end_time": "2022-07-22T11:54:01.311130",
     "exception": false,
     "start_time": "2022-07-22T11:54:01.282325",
     "status": "completed"
    },
    "tags": []
   },
   "outputs": [],
   "source": [
    "#Parameters \n",
    "n_features = 13\n",
    "n_samples= 506\n",
    "n_target = 1 "
   ]
  },
  {
   "cell_type": "code",
   "execution_count": 6,
   "id": "5d6eced4",
   "metadata": {
    "execution": {
     "iopub.execute_input": "2022-07-22T11:54:01.330150Z",
     "iopub.status.busy": "2022-07-22T11:54:01.329249Z",
     "iopub.status.idle": "2022-07-22T11:54:01.361547Z",
     "shell.execute_reply": "2022-07-22T11:54:01.360247Z"
    },
    "id": "5d6eced4",
    "papermill": {
     "duration": 0.044694,
     "end_time": "2022-07-22T11:54:01.364309",
     "exception": false,
     "start_time": "2022-07-22T11:54:01.319615",
     "status": "completed"
    },
    "tags": []
   },
   "outputs": [
    {
     "name": "stdout",
     "output_type": "stream",
     "text": [
      "         X1        X2        X3        X4        X5        X6        X7  \\\n",
      "0 -0.419782  0.284830 -1.287909 -0.272599 -0.144217  0.413672 -0.120013   \n",
      "1 -0.417339 -0.487722 -0.593381 -0.272599 -0.740262  0.194274  0.367166   \n",
      "2 -0.417342 -0.487722 -0.593381 -0.272599 -0.740262  1.282714 -0.265812   \n",
      "3 -0.416750 -0.487722 -1.306878 -0.272599 -0.835284  1.016303 -0.809889   \n",
      "4 -0.412482 -0.487722 -1.306878 -0.272599 -0.835284  1.228577 -0.511180   \n",
      "\n",
      "         X8        X9       X10       X11       X12       X13         Y  \n",
      "0  0.140214 -0.982843 -0.666608 -1.459000  0.441052 -1.075562  0.159686  \n",
      "1  0.557160 -0.867883 -0.987329 -0.303094  0.441052 -0.492439 -0.101524  \n",
      "2  0.557160 -0.867883 -0.987329 -0.303094  0.396427 -1.208727  1.324247  \n",
      "3  1.077737 -0.752922 -1.106115  0.113032  0.416163 -1.361517  1.182758  \n",
      "4  1.077737 -0.752922 -1.106115  0.113032  0.441052 -1.026501  1.487503  \n"
     ]
    }
   ],
   "source": [
    "X,Y = bostonDataset.boston_data()"
   ]
  },
  {
   "cell_type": "code",
   "execution_count": 7,
   "id": "fe007438",
   "metadata": {
    "execution": {
     "iopub.execute_input": "2022-07-22T11:54:01.386313Z",
     "iopub.status.busy": "2022-07-22T11:54:01.382867Z",
     "iopub.status.idle": "2022-07-22T11:54:01.393791Z",
     "shell.execute_reply": "2022-07-22T11:54:01.391920Z"
    },
    "id": "fe007438",
    "papermill": {
     "duration": 0.027107,
     "end_time": "2022-07-22T11:54:01.398930",
     "exception": false,
     "start_time": "2022-07-22T11:54:01.371823",
     "status": "completed"
    },
    "tags": []
   },
   "outputs": [],
   "source": [
    "#Train test split for dataset \n",
    "X_train,X_test,Y_train,Y_test = train_test_split(X,Y,test_size = 0.2)\n",
    "train_data = dataset.CustomDataset(X_train,Y_train)\n",
    "test_data = dataset.CustomDataset(X_test,Y_test)\n"
   ]
  },
  {
   "cell_type": "markdown",
   "id": "a9a1af34",
   "metadata": {
    "id": "a9a1af34",
    "papermill": {
     "duration": 0.011304,
     "end_time": "2022-07-22T11:54:01.417856",
     "exception": false,
     "start_time": "2022-07-22T11:54:01.406552",
     "status": "completed"
    },
    "tags": []
   },
   "source": [
    "## Training Parameters "
   ]
  },
  {
   "cell_type": "code",
   "execution_count": 8,
   "id": "952b7fc8",
   "metadata": {
    "execution": {
     "iopub.execute_input": "2022-07-22T11:54:01.438969Z",
     "iopub.status.busy": "2022-07-22T11:54:01.438121Z",
     "iopub.status.idle": "2022-07-22T11:54:01.444634Z",
     "shell.execute_reply": "2022-07-22T11:54:01.443311Z"
    },
    "id": "952b7fc8",
    "papermill": {
     "duration": 0.02532,
     "end_time": "2022-07-22T11:54:01.452364",
     "exception": false,
     "start_time": "2022-07-22T11:54:01.427044",
     "status": "completed"
    },
    "tags": []
   },
   "outputs": [],
   "source": [
    "batch_size = 32\n",
    "n_epochs = 1000\n",
    "#Select the device \n",
    "device = torch.device('cuda' if torch.cuda.is_available() else 'cpu')"
   ]
  },
  {
   "cell_type": "markdown",
   "id": "a95e1600",
   "metadata": {
    "id": "a95e1600",
    "papermill": {
     "duration": 0.007493,
     "end_time": "2022-07-22T11:54:01.467829",
     "exception": false,
     "start_time": "2022-07-22T11:54:01.460336",
     "status": "completed"
    },
    "tags": []
   },
   "source": [
    "# ABC Pre-generator Model \n",
    "\n",
    "1. The catboost model is used as a pre-generator model for the ABC-GAN. \n",
    "2. The model is first trained on the entire dataset \n",
    "3. It generats X,Y pairs and we add some Gaussian noise with mean 0 and variance 1 to it which is then feed as input to the generator.\n"
   ]
  },
  {
   "cell_type": "code",
   "execution_count": 9,
   "id": "ff8ce7bd",
   "metadata": {
    "execution": {
     "iopub.execute_input": "2022-07-22T11:54:01.486868Z",
     "iopub.status.busy": "2022-07-22T11:54:01.486022Z",
     "iopub.status.idle": "2022-07-22T11:56:02.890986Z",
     "shell.execute_reply": "2022-07-22T11:56:02.890121Z"
    },
    "id": "ff8ce7bd",
    "papermill": {
     "duration": 121.418133,
     "end_time": "2022-07-22T11:56:02.894023",
     "exception": false,
     "start_time": "2022-07-22T11:54:01.475890",
     "status": "completed"
    },
    "tags": []
   },
   "outputs": [
    {
     "name": "stdout",
     "output_type": "stream",
     "text": [
      "Device used : cpu\n"
     ]
    },
    {
     "name": "stdout",
     "output_type": "stream",
     "text": [
      "epoch 0  | loss: 2.98701 | train_mse: 1.13278 | train_mae: 0.80146 |  0:00:00s\n"
     ]
    },
    {
     "name": "stdout",
     "output_type": "stream",
     "text": [
      "epoch 1  | loss: 0.95929 | train_mse: 0.72149 | train_mae: 0.58968 |  0:00:00s\n"
     ]
    },
    {
     "name": "stdout",
     "output_type": "stream",
     "text": [
      "epoch 2  | loss: 0.65784 | train_mse: 0.58794 | train_mae: 0.53704 |  0:00:01s\n"
     ]
    },
    {
     "name": "stdout",
     "output_type": "stream",
     "text": [
      "epoch 3  | loss: 0.45415 | train_mse: 0.48006 | train_mae: 0.49562 |  0:00:01s\n"
     ]
    },
    {
     "name": "stdout",
     "output_type": "stream",
     "text": [
      "epoch 4  | loss: 0.4387  | train_mse: 0.32079 | train_mae: 0.43271 |  0:00:02s\n"
     ]
    },
    {
     "name": "stdout",
     "output_type": "stream",
     "text": [
      "epoch 5  | loss: 0.34963 | train_mse: 0.27472 | train_mae: 0.396   |  0:00:02s\n"
     ]
    },
    {
     "name": "stdout",
     "output_type": "stream",
     "text": [
      "epoch 6  | loss: 0.26623 | train_mse: 0.2669  | train_mae: 0.37112 |  0:00:02s\n"
     ]
    },
    {
     "name": "stdout",
     "output_type": "stream",
     "text": [
      "epoch 7  | loss: 0.32971 | train_mse: 0.21404 | train_mae: 0.34786 |  0:00:03s\n"
     ]
    },
    {
     "name": "stdout",
     "output_type": "stream",
     "text": [
      "epoch 8  | loss: 0.33706 | train_mse: 0.21821 | train_mae: 0.35334 |  0:00:03s\n"
     ]
    },
    {
     "name": "stdout",
     "output_type": "stream",
     "text": [
      "epoch 9  | loss: 0.30377 | train_mse: 0.30063 | train_mae: 0.37824 |  0:00:03s\n"
     ]
    },
    {
     "name": "stdout",
     "output_type": "stream",
     "text": [
      "epoch 10 | loss: 0.2754  | train_mse: 0.25106 | train_mae: 0.35415 |  0:00:04s\n"
     ]
    },
    {
     "name": "stdout",
     "output_type": "stream",
     "text": [
      "epoch 11 | loss: 0.2728  | train_mse: 0.20348 | train_mae: 0.33348 |  0:00:04s\n"
     ]
    },
    {
     "name": "stdout",
     "output_type": "stream",
     "text": [
      "epoch 12 | loss: 0.26719 | train_mse: 0.18173 | train_mae: 0.30385 |  0:00:05s\n"
     ]
    },
    {
     "name": "stdout",
     "output_type": "stream",
     "text": [
      "epoch 13 | loss: 0.23722 | train_mse: 0.18361 | train_mae: 0.30495 |  0:00:05s\n"
     ]
    },
    {
     "name": "stdout",
     "output_type": "stream",
     "text": [
      "epoch 14 | loss: 0.22077 | train_mse: 0.15665 | train_mae: 0.28419 |  0:00:06s\n"
     ]
    },
    {
     "name": "stdout",
     "output_type": "stream",
     "text": [
      "epoch 15 | loss: 0.23693 | train_mse: 0.16819 | train_mae: 0.28725 |  0:00:06s\n"
     ]
    },
    {
     "name": "stdout",
     "output_type": "stream",
     "text": [
      "epoch 16 | loss: 0.26144 | train_mse: 0.17028 | train_mae: 0.29328 |  0:00:07s\n"
     ]
    },
    {
     "name": "stdout",
     "output_type": "stream",
     "text": [
      "epoch 17 | loss: 0.21832 | train_mse: 0.1767  | train_mae: 0.29266 |  0:00:07s\n"
     ]
    },
    {
     "name": "stdout",
     "output_type": "stream",
     "text": [
      "epoch 18 | loss: 0.23145 | train_mse: 0.16928 | train_mae: 0.29353 |  0:00:07s\n"
     ]
    },
    {
     "name": "stdout",
     "output_type": "stream",
     "text": [
      "epoch 19 | loss: 0.22485 | train_mse: 0.14403 | train_mae: 0.27334 |  0:00:08s\n"
     ]
    },
    {
     "name": "stdout",
     "output_type": "stream",
     "text": [
      "epoch 20 | loss: 0.21288 | train_mse: 0.13663 | train_mae: 0.26186 |  0:00:08s\n"
     ]
    },
    {
     "name": "stdout",
     "output_type": "stream",
     "text": [
      "epoch 21 | loss: 0.18729 | train_mse: 0.12793 | train_mae: 0.25669 |  0:00:09s\n"
     ]
    },
    {
     "name": "stdout",
     "output_type": "stream",
     "text": [
      "epoch 22 | loss: 0.18161 | train_mse: 0.15693 | train_mae: 0.27977 |  0:00:09s\n"
     ]
    },
    {
     "name": "stdout",
     "output_type": "stream",
     "text": [
      "epoch 23 | loss: 0.19859 | train_mse: 0.13376 | train_mae: 0.25472 |  0:00:09s\n"
     ]
    },
    {
     "name": "stdout",
     "output_type": "stream",
     "text": [
      "epoch 24 | loss: 0.20204 | train_mse: 0.12236 | train_mae: 0.24833 |  0:00:10s\n"
     ]
    },
    {
     "name": "stdout",
     "output_type": "stream",
     "text": [
      "epoch 25 | loss: 0.17209 | train_mse: 0.13358 | train_mae: 0.25328 |  0:00:10s\n"
     ]
    },
    {
     "name": "stdout",
     "output_type": "stream",
     "text": [
      "epoch 26 | loss: 0.21361 | train_mse: 0.12995 | train_mae: 0.25922 |  0:00:10s\n"
     ]
    },
    {
     "name": "stdout",
     "output_type": "stream",
     "text": [
      "epoch 27 | loss: 0.22169 | train_mse: 0.14151 | train_mae: 0.27669 |  0:00:11s\n"
     ]
    },
    {
     "name": "stdout",
     "output_type": "stream",
     "text": [
      "epoch 28 | loss: 0.19038 | train_mse: 0.12681 | train_mae: 0.25568 |  0:00:11s\n"
     ]
    },
    {
     "name": "stdout",
     "output_type": "stream",
     "text": [
      "epoch 29 | loss: 0.20197 | train_mse: 0.12824 | train_mae: 0.24912 |  0:00:11s\n"
     ]
    },
    {
     "name": "stdout",
     "output_type": "stream",
     "text": [
      "epoch 30 | loss: 0.20064 | train_mse: 0.15058 | train_mae: 0.25154 |  0:00:12s\n"
     ]
    },
    {
     "name": "stdout",
     "output_type": "stream",
     "text": [
      "epoch 31 | loss: 0.2071  | train_mse: 0.13721 | train_mae: 0.24357 |  0:00:12s\n"
     ]
    },
    {
     "name": "stdout",
     "output_type": "stream",
     "text": [
      "epoch 32 | loss: 0.14462 | train_mse: 0.11684 | train_mae: 0.23938 |  0:00:12s\n"
     ]
    },
    {
     "name": "stdout",
     "output_type": "stream",
     "text": [
      "epoch 33 | loss: 0.17619 | train_mse: 0.13393 | train_mae: 0.25283 |  0:00:13s\n"
     ]
    },
    {
     "name": "stdout",
     "output_type": "stream",
     "text": [
      "epoch 34 | loss: 0.20042 | train_mse: 0.14834 | train_mae: 0.26604 |  0:00:13s\n"
     ]
    },
    {
     "name": "stdout",
     "output_type": "stream",
     "text": [
      "epoch 35 | loss: 0.18547 | train_mse: 0.1398  | train_mae: 0.26608 |  0:00:13s\n"
     ]
    },
    {
     "name": "stdout",
     "output_type": "stream",
     "text": [
      "epoch 36 | loss: 0.19938 | train_mse: 0.12166 | train_mae: 0.25116 |  0:00:14s\n"
     ]
    },
    {
     "name": "stdout",
     "output_type": "stream",
     "text": [
      "epoch 37 | loss: 0.16262 | train_mse: 0.12734 | train_mae: 0.24164 |  0:00:14s\n"
     ]
    },
    {
     "name": "stdout",
     "output_type": "stream",
     "text": [
      "epoch 38 | loss: 0.19413 | train_mse: 0.11577 | train_mae: 0.2374  |  0:00:14s\n"
     ]
    },
    {
     "name": "stdout",
     "output_type": "stream",
     "text": [
      "epoch 39 | loss: 0.19153 | train_mse: 0.10965 | train_mae: 0.23654 |  0:00:15s\n"
     ]
    },
    {
     "name": "stdout",
     "output_type": "stream",
     "text": [
      "epoch 40 | loss: 0.13407 | train_mse: 0.1026  | train_mae: 0.23365 |  0:00:15s\n"
     ]
    },
    {
     "name": "stdout",
     "output_type": "stream",
     "text": [
      "epoch 41 | loss: 0.19258 | train_mse: 0.11815 | train_mae: 0.24755 |  0:00:16s\n"
     ]
    },
    {
     "name": "stdout",
     "output_type": "stream",
     "text": [
      "epoch 42 | loss: 0.196   | train_mse: 0.17019 | train_mae: 0.24893 |  0:00:16s\n"
     ]
    },
    {
     "name": "stdout",
     "output_type": "stream",
     "text": [
      "epoch 43 | loss: 0.19174 | train_mse: 0.20594 | train_mae: 0.24596 |  0:00:16s\n"
     ]
    },
    {
     "name": "stdout",
     "output_type": "stream",
     "text": [
      "epoch 44 | loss: 0.16735 | train_mse: 0.14996 | train_mae: 0.24567 |  0:00:17s\n"
     ]
    },
    {
     "name": "stdout",
     "output_type": "stream",
     "text": [
      "epoch 45 | loss: 0.20576 | train_mse: 0.10033 | train_mae: 0.23073 |  0:00:17s\n"
     ]
    },
    {
     "name": "stdout",
     "output_type": "stream",
     "text": [
      "epoch 46 | loss: 0.18224 | train_mse: 0.13553 | train_mae: 0.24761 |  0:00:17s\n"
     ]
    },
    {
     "name": "stdout",
     "output_type": "stream",
     "text": [
      "epoch 47 | loss: 0.17066 | train_mse: 0.14342 | train_mae: 0.24349 |  0:00:18s\n"
     ]
    },
    {
     "name": "stdout",
     "output_type": "stream",
     "text": [
      "epoch 48 | loss: 0.19661 | train_mse: 0.13794 | train_mae: 0.25434 |  0:00:18s\n"
     ]
    },
    {
     "name": "stdout",
     "output_type": "stream",
     "text": [
      "epoch 49 | loss: 0.20852 | train_mse: 0.13379 | train_mae: 0.25308 |  0:00:18s\n"
     ]
    },
    {
     "name": "stdout",
     "output_type": "stream",
     "text": [
      "epoch 50 | loss: 0.14601 | train_mse: 0.10187 | train_mae: 0.24151 |  0:00:19s\n"
     ]
    },
    {
     "name": "stdout",
     "output_type": "stream",
     "text": [
      "epoch 51 | loss: 0.1843  | train_mse: 0.11027 | train_mae: 0.24079 |  0:00:20s\n"
     ]
    },
    {
     "name": "stdout",
     "output_type": "stream",
     "text": [
      "epoch 52 | loss: 0.17523 | train_mse: 0.12455 | train_mae: 0.24378 |  0:00:20s\n"
     ]
    },
    {
     "name": "stdout",
     "output_type": "stream",
     "text": [
      "epoch 53 | loss: 0.17762 | train_mse: 0.17447 | train_mae: 0.29004 |  0:00:20s\n"
     ]
    },
    {
     "name": "stdout",
     "output_type": "stream",
     "text": [
      "epoch 54 | loss: 0.18331 | train_mse: 0.0981  | train_mae: 0.23035 |  0:00:21s\n"
     ]
    },
    {
     "name": "stdout",
     "output_type": "stream",
     "text": [
      "epoch 55 | loss: 0.19979 | train_mse: 0.11237 | train_mae: 0.23985 |  0:00:21s\n"
     ]
    },
    {
     "name": "stdout",
     "output_type": "stream",
     "text": [
      "epoch 56 | loss: 0.20681 | train_mse: 0.10664 | train_mae: 0.23296 |  0:00:21s\n"
     ]
    },
    {
     "name": "stdout",
     "output_type": "stream",
     "text": [
      "epoch 57 | loss: 0.19338 | train_mse: 0.12414 | train_mae: 0.25416 |  0:00:22s\n"
     ]
    },
    {
     "name": "stdout",
     "output_type": "stream",
     "text": [
      "epoch 58 | loss: 0.18437 | train_mse: 0.13055 | train_mae: 0.2646  |  0:00:22s\n"
     ]
    },
    {
     "name": "stdout",
     "output_type": "stream",
     "text": [
      "epoch 59 | loss: 0.137   | train_mse: 0.13331 | train_mae: 0.25332 |  0:00:22s\n"
     ]
    },
    {
     "name": "stdout",
     "output_type": "stream",
     "text": [
      "epoch 60 | loss: 0.14992 | train_mse: 0.12485 | train_mae: 0.24873 |  0:00:23s\n"
     ]
    },
    {
     "name": "stdout",
     "output_type": "stream",
     "text": [
      "epoch 61 | loss: 0.12825 | train_mse: 0.10514 | train_mae: 0.23442 |  0:00:23s\n"
     ]
    },
    {
     "name": "stdout",
     "output_type": "stream",
     "text": [
      "epoch 62 | loss: 0.14434 | train_mse: 0.10143 | train_mae: 0.22398 |  0:00:23s\n"
     ]
    },
    {
     "name": "stdout",
     "output_type": "stream",
     "text": [
      "epoch 63 | loss: 0.14803 | train_mse: 0.11228 | train_mae: 0.23148 |  0:00:24s\n"
     ]
    },
    {
     "name": "stdout",
     "output_type": "stream",
     "text": [
      "epoch 64 | loss: 0.15207 | train_mse: 0.108   | train_mae: 0.22229 |  0:00:24s\n"
     ]
    },
    {
     "name": "stdout",
     "output_type": "stream",
     "text": [
      "epoch 65 | loss: 0.15503 | train_mse: 0.10039 | train_mae: 0.223   |  0:00:25s\n"
     ]
    },
    {
     "name": "stdout",
     "output_type": "stream",
     "text": [
      "epoch 66 | loss: 0.18879 | train_mse: 0.1296  | train_mae: 0.24187 |  0:00:25s\n"
     ]
    },
    {
     "name": "stdout",
     "output_type": "stream",
     "text": [
      "epoch 67 | loss: 0.18555 | train_mse: 0.09356 | train_mae: 0.21686 |  0:00:25s\n"
     ]
    },
    {
     "name": "stdout",
     "output_type": "stream",
     "text": [
      "epoch 68 | loss: 0.15979 | train_mse: 0.09317 | train_mae: 0.21919 |  0:00:26s\n"
     ]
    },
    {
     "name": "stdout",
     "output_type": "stream",
     "text": [
      "epoch 69 | loss: 0.16978 | train_mse: 0.1151  | train_mae: 0.23804 |  0:00:26s\n"
     ]
    },
    {
     "name": "stdout",
     "output_type": "stream",
     "text": [
      "epoch 70 | loss: 0.13833 | train_mse: 0.09793 | train_mae: 0.22982 |  0:00:26s\n"
     ]
    },
    {
     "name": "stdout",
     "output_type": "stream",
     "text": [
      "epoch 71 | loss: 0.12725 | train_mse: 0.0915  | train_mae: 0.21913 |  0:00:27s\n"
     ]
    },
    {
     "name": "stdout",
     "output_type": "stream",
     "text": [
      "epoch 72 | loss: 0.14302 | train_mse: 0.08034 | train_mae: 0.20964 |  0:00:27s\n"
     ]
    },
    {
     "name": "stdout",
     "output_type": "stream",
     "text": [
      "epoch 73 | loss: 0.14199 | train_mse: 0.08253 | train_mae: 0.21217 |  0:00:27s\n"
     ]
    },
    {
     "name": "stdout",
     "output_type": "stream",
     "text": [
      "epoch 74 | loss: 0.12863 | train_mse: 0.08867 | train_mae: 0.22052 |  0:00:28s\n"
     ]
    },
    {
     "name": "stdout",
     "output_type": "stream",
     "text": [
      "epoch 75 | loss: 0.12564 | train_mse: 0.09761 | train_mae: 0.21398 |  0:00:28s\n"
     ]
    },
    {
     "name": "stdout",
     "output_type": "stream",
     "text": [
      "epoch 76 | loss: 0.11711 | train_mse: 0.08248 | train_mae: 0.20317 |  0:00:28s\n"
     ]
    },
    {
     "name": "stdout",
     "output_type": "stream",
     "text": [
      "epoch 77 | loss: 0.11509 | train_mse: 0.09766 | train_mae: 0.20991 |  0:00:29s\n"
     ]
    },
    {
     "name": "stdout",
     "output_type": "stream",
     "text": [
      "epoch 78 | loss: 0.13537 | train_mse: 0.10404 | train_mae: 0.20271 |  0:00:29s\n"
     ]
    },
    {
     "name": "stdout",
     "output_type": "stream",
     "text": [
      "epoch 79 | loss: 0.13268 | train_mse: 0.10736 | train_mae: 0.2037  |  0:00:30s\n"
     ]
    },
    {
     "name": "stdout",
     "output_type": "stream",
     "text": [
      "epoch 80 | loss: 0.11966 | train_mse: 0.11651 | train_mae: 0.21012 |  0:00:30s\n"
     ]
    },
    {
     "name": "stdout",
     "output_type": "stream",
     "text": [
      "epoch 81 | loss: 0.15517 | train_mse: 0.16078 | train_mae: 0.23052 |  0:00:30s\n"
     ]
    },
    {
     "name": "stdout",
     "output_type": "stream",
     "text": [
      "epoch 82 | loss: 0.13067 | train_mse: 0.09311 | train_mae: 0.20913 |  0:00:31s\n"
     ]
    },
    {
     "name": "stdout",
     "output_type": "stream",
     "text": [
      "epoch 83 | loss: 0.11593 | train_mse: 0.15459 | train_mae: 0.21493 |  0:00:31s\n"
     ]
    },
    {
     "name": "stdout",
     "output_type": "stream",
     "text": [
      "epoch 84 | loss: 0.11258 | train_mse: 0.162   | train_mae: 0.21379 |  0:00:31s\n"
     ]
    },
    {
     "name": "stdout",
     "output_type": "stream",
     "text": [
      "epoch 85 | loss: 0.18748 | train_mse: 0.15216 | train_mae: 0.20965 |  0:00:32s\n"
     ]
    },
    {
     "name": "stdout",
     "output_type": "stream",
     "text": [
      "epoch 86 | loss: 0.1664  | train_mse: 0.17395 | train_mae: 0.21671 |  0:00:32s\n"
     ]
    },
    {
     "name": "stdout",
     "output_type": "stream",
     "text": [
      "epoch 87 | loss: 0.13617 | train_mse: 0.14892 | train_mae: 0.23581 |  0:00:33s\n"
     ]
    },
    {
     "name": "stdout",
     "output_type": "stream",
     "text": [
      "epoch 88 | loss: 0.14927 | train_mse: 0.14214 | train_mae: 0.21569 |  0:00:33s\n"
     ]
    },
    {
     "name": "stdout",
     "output_type": "stream",
     "text": [
      "epoch 89 | loss: 0.14205 | train_mse: 0.1149  | train_mae: 0.20096 |  0:00:34s\n"
     ]
    },
    {
     "name": "stdout",
     "output_type": "stream",
     "text": [
      "epoch 90 | loss: 0.11566 | train_mse: 0.10557 | train_mae: 0.20816 |  0:00:34s\n"
     ]
    },
    {
     "name": "stdout",
     "output_type": "stream",
     "text": [
      "epoch 91 | loss: 0.09686 | train_mse: 0.10919 | train_mae: 0.20495 |  0:00:35s\n"
     ]
    },
    {
     "name": "stdout",
     "output_type": "stream",
     "text": [
      "epoch 92 | loss: 0.10109 | train_mse: 0.1204  | train_mae: 0.20808 |  0:00:35s\n"
     ]
    },
    {
     "name": "stdout",
     "output_type": "stream",
     "text": [
      "epoch 93 | loss: 0.12961 | train_mse: 0.12024 | train_mae: 0.20413 |  0:00:36s\n"
     ]
    },
    {
     "name": "stdout",
     "output_type": "stream",
     "text": [
      "epoch 94 | loss: 0.14156 | train_mse: 0.1223  | train_mae: 0.20991 |  0:00:36s\n"
     ]
    },
    {
     "name": "stdout",
     "output_type": "stream",
     "text": [
      "epoch 95 | loss: 0.123   | train_mse: 0.12959 | train_mae: 0.2036  |  0:00:36s\n"
     ]
    },
    {
     "name": "stdout",
     "output_type": "stream",
     "text": [
      "epoch 96 | loss: 0.12107 | train_mse: 0.11576 | train_mae: 0.20616 |  0:00:37s\n"
     ]
    },
    {
     "name": "stdout",
     "output_type": "stream",
     "text": [
      "epoch 97 | loss: 0.12323 | train_mse: 0.11424 | train_mae: 0.19486 |  0:00:38s\n"
     ]
    },
    {
     "name": "stdout",
     "output_type": "stream",
     "text": [
      "epoch 98 | loss: 0.10474 | train_mse: 0.11631 | train_mae: 0.20212 |  0:00:38s\n"
     ]
    },
    {
     "name": "stdout",
     "output_type": "stream",
     "text": [
      "epoch 99 | loss: 0.09985 | train_mse: 0.11628 | train_mae: 0.2073  |  0:00:38s\n"
     ]
    },
    {
     "name": "stdout",
     "output_type": "stream",
     "text": [
      "epoch 100| loss: 0.10301 | train_mse: 0.11283 | train_mae: 0.18886 |  0:00:39s\n"
     ]
    },
    {
     "name": "stdout",
     "output_type": "stream",
     "text": [
      "epoch 101| loss: 0.0987  | train_mse: 0.11786 | train_mae: 0.20716 |  0:00:39s\n"
     ]
    },
    {
     "name": "stdout",
     "output_type": "stream",
     "text": [
      "epoch 102| loss: 0.16819 | train_mse: 0.11635 | train_mae: 0.2188  |  0:00:39s\n"
     ]
    },
    {
     "name": "stdout",
     "output_type": "stream",
     "text": [
      "epoch 103| loss: 0.11454 | train_mse: 0.1125  | train_mae: 0.21107 |  0:00:40s\n"
     ]
    },
    {
     "name": "stdout",
     "output_type": "stream",
     "text": [
      "epoch 104| loss: 0.12865 | train_mse: 0.10294 | train_mae: 0.19015 |  0:00:40s\n"
     ]
    },
    {
     "name": "stdout",
     "output_type": "stream",
     "text": [
      "epoch 105| loss: 0.14822 | train_mse: 0.12355 | train_mae: 0.20837 |  0:00:41s\n"
     ]
    },
    {
     "name": "stdout",
     "output_type": "stream",
     "text": [
      "epoch 106| loss: 0.10084 | train_mse: 0.21959 | train_mae: 0.21493 |  0:00:41s\n"
     ]
    },
    {
     "name": "stdout",
     "output_type": "stream",
     "text": [
      "epoch 107| loss: 0.11505 | train_mse: 0.24161 | train_mae: 0.20763 |  0:00:41s\n"
     ]
    },
    {
     "name": "stdout",
     "output_type": "stream",
     "text": [
      "epoch 108| loss: 0.12067 | train_mse: 0.16884 | train_mae: 0.21841 |  0:00:42s\n"
     ]
    },
    {
     "name": "stdout",
     "output_type": "stream",
     "text": [
      "epoch 109| loss: 0.12778 | train_mse: 0.0866  | train_mae: 0.18985 |  0:00:42s\n"
     ]
    },
    {
     "name": "stdout",
     "output_type": "stream",
     "text": [
      "epoch 110| loss: 0.09625 | train_mse: 0.09033 | train_mae: 0.19528 |  0:00:42s\n"
     ]
    },
    {
     "name": "stdout",
     "output_type": "stream",
     "text": [
      "epoch 111| loss: 0.13027 | train_mse: 0.07789 | train_mae: 0.19084 |  0:00:43s\n"
     ]
    },
    {
     "name": "stdout",
     "output_type": "stream",
     "text": [
      "epoch 112| loss: 0.16235 | train_mse: 0.05799 | train_mae: 0.1881  |  0:00:43s\n"
     ]
    },
    {
     "name": "stdout",
     "output_type": "stream",
     "text": [
      "epoch 113| loss: 0.12164 | train_mse: 0.07941 | train_mae: 0.20138 |  0:00:43s\n"
     ]
    },
    {
     "name": "stdout",
     "output_type": "stream",
     "text": [
      "epoch 114| loss: 0.11803 | train_mse: 0.07113 | train_mae: 0.18731 |  0:00:44s\n"
     ]
    },
    {
     "name": "stdout",
     "output_type": "stream",
     "text": [
      "epoch 115| loss: 0.11264 | train_mse: 0.07238 | train_mae: 0.19557 |  0:00:44s\n"
     ]
    },
    {
     "name": "stdout",
     "output_type": "stream",
     "text": [
      "epoch 116| loss: 0.1128  | train_mse: 0.0681  | train_mae: 0.18911 |  0:00:44s\n"
     ]
    },
    {
     "name": "stdout",
     "output_type": "stream",
     "text": [
      "epoch 117| loss: 0.11163 | train_mse: 0.08307 | train_mae: 0.20726 |  0:00:45s\n"
     ]
    },
    {
     "name": "stdout",
     "output_type": "stream",
     "text": [
      "epoch 118| loss: 0.12708 | train_mse: 0.06062 | train_mae: 0.18292 |  0:00:45s\n"
     ]
    },
    {
     "name": "stdout",
     "output_type": "stream",
     "text": [
      "epoch 119| loss: 0.10186 | train_mse: 0.06794 | train_mae: 0.18704 |  0:00:45s\n"
     ]
    },
    {
     "name": "stdout",
     "output_type": "stream",
     "text": [
      "epoch 120| loss: 0.11001 | train_mse: 0.10707 | train_mae: 0.20258 |  0:00:46s\n"
     ]
    },
    {
     "name": "stdout",
     "output_type": "stream",
     "text": [
      "epoch 121| loss: 0.10815 | train_mse: 0.06354 | train_mae: 0.18953 |  0:00:46s\n"
     ]
    },
    {
     "name": "stdout",
     "output_type": "stream",
     "text": [
      "epoch 122| loss: 0.12113 | train_mse: 0.07985 | train_mae: 0.20087 |  0:00:46s\n"
     ]
    },
    {
     "name": "stdout",
     "output_type": "stream",
     "text": [
      "epoch 123| loss: 0.09359 | train_mse: 0.08091 | train_mae: 0.18971 |  0:00:47s\n"
     ]
    },
    {
     "name": "stdout",
     "output_type": "stream",
     "text": [
      "epoch 124| loss: 0.12625 | train_mse: 0.15465 | train_mae: 0.21033 |  0:00:47s\n"
     ]
    },
    {
     "name": "stdout",
     "output_type": "stream",
     "text": [
      "epoch 125| loss: 0.1078  | train_mse: 0.15092 | train_mae: 0.19644 |  0:00:47s\n"
     ]
    },
    {
     "name": "stdout",
     "output_type": "stream",
     "text": [
      "epoch 126| loss: 0.13633 | train_mse: 0.15031 | train_mae: 0.19372 |  0:00:48s\n"
     ]
    },
    {
     "name": "stdout",
     "output_type": "stream",
     "text": [
      "epoch 127| loss: 0.08851 | train_mse: 0.13818 | train_mae: 0.20284 |  0:00:48s\n"
     ]
    },
    {
     "name": "stdout",
     "output_type": "stream",
     "text": [
      "epoch 128| loss: 0.09547 | train_mse: 0.14761 | train_mae: 0.18585 |  0:00:49s\n"
     ]
    },
    {
     "name": "stdout",
     "output_type": "stream",
     "text": [
      "epoch 129| loss: 0.13761 | train_mse: 0.17102 | train_mae: 0.19348 |  0:00:49s\n"
     ]
    },
    {
     "name": "stdout",
     "output_type": "stream",
     "text": [
      "epoch 130| loss: 0.15807 | train_mse: 0.18978 | train_mae: 0.22077 |  0:00:49s\n"
     ]
    },
    {
     "name": "stdout",
     "output_type": "stream",
     "text": [
      "epoch 131| loss: 0.10202 | train_mse: 0.08239 | train_mae: 0.19648 |  0:00:50s\n"
     ]
    },
    {
     "name": "stdout",
     "output_type": "stream",
     "text": [
      "epoch 132| loss: 0.12644 | train_mse: 0.10434 | train_mae: 0.21754 |  0:00:50s\n"
     ]
    },
    {
     "name": "stdout",
     "output_type": "stream",
     "text": [
      "epoch 133| loss: 0.10159 | train_mse: 0.05475 | train_mae: 0.17749 |  0:00:50s\n"
     ]
    },
    {
     "name": "stdout",
     "output_type": "stream",
     "text": [
      "epoch 134| loss: 0.13257 | train_mse: 0.13014 | train_mae: 0.19289 |  0:00:51s\n"
     ]
    },
    {
     "name": "stdout",
     "output_type": "stream",
     "text": [
      "epoch 135| loss: 0.138   | train_mse: 0.12954 | train_mae: 0.20122 |  0:00:51s\n"
     ]
    },
    {
     "name": "stdout",
     "output_type": "stream",
     "text": [
      "epoch 136| loss: 0.13553 | train_mse: 0.14443 | train_mae: 0.22963 |  0:00:51s\n"
     ]
    },
    {
     "name": "stdout",
     "output_type": "stream",
     "text": [
      "epoch 137| loss: 0.13081 | train_mse: 0.14722 | train_mae: 0.2025  |  0:00:52s\n"
     ]
    },
    {
     "name": "stdout",
     "output_type": "stream",
     "text": [
      "epoch 138| loss: 0.11505 | train_mse: 0.09872 | train_mae: 0.20074 |  0:00:52s\n"
     ]
    },
    {
     "name": "stdout",
     "output_type": "stream",
     "text": [
      "epoch 139| loss: 0.08615 | train_mse: 0.15525 | train_mae: 0.2057  |  0:00:52s\n"
     ]
    },
    {
     "name": "stdout",
     "output_type": "stream",
     "text": [
      "epoch 140| loss: 0.0851  | train_mse: 0.14707 | train_mae: 0.18894 |  0:00:53s\n"
     ]
    },
    {
     "name": "stdout",
     "output_type": "stream",
     "text": [
      "epoch 141| loss: 0.11713 | train_mse: 0.13298 | train_mae: 0.1852  |  0:00:53s\n"
     ]
    },
    {
     "name": "stdout",
     "output_type": "stream",
     "text": [
      "epoch 142| loss: 0.10846 | train_mse: 0.14029 | train_mae: 0.21547 |  0:00:53s\n"
     ]
    },
    {
     "name": "stdout",
     "output_type": "stream",
     "text": [
      "epoch 143| loss: 0.11386 | train_mse: 0.13018 | train_mae: 0.19686 |  0:00:54s\n"
     ]
    },
    {
     "name": "stdout",
     "output_type": "stream",
     "text": [
      "epoch 144| loss: 0.13042 | train_mse: 0.1304  | train_mae: 0.21211 |  0:00:54s\n"
     ]
    },
    {
     "name": "stdout",
     "output_type": "stream",
     "text": [
      "epoch 145| loss: 0.09268 | train_mse: 0.1374  | train_mae: 0.18726 |  0:00:54s\n"
     ]
    },
    {
     "name": "stdout",
     "output_type": "stream",
     "text": [
      "epoch 146| loss: 0.08534 | train_mse: 0.13253 | train_mae: 0.18994 |  0:00:55s\n"
     ]
    },
    {
     "name": "stdout",
     "output_type": "stream",
     "text": [
      "epoch 147| loss: 0.08377 | train_mse: 0.1266  | train_mae: 0.18705 |  0:00:55s\n"
     ]
    },
    {
     "name": "stdout",
     "output_type": "stream",
     "text": [
      "epoch 148| loss: 0.12019 | train_mse: 0.13219 | train_mae: 0.20626 |  0:00:55s\n"
     ]
    },
    {
     "name": "stdout",
     "output_type": "stream",
     "text": [
      "epoch 149| loss: 0.09548 | train_mse: 0.12354 | train_mae: 0.19524 |  0:00:56s\n"
     ]
    },
    {
     "name": "stdout",
     "output_type": "stream",
     "text": [
      "epoch 150| loss: 0.12773 | train_mse: 0.09219 | train_mae: 0.1868  |  0:00:56s\n"
     ]
    },
    {
     "name": "stdout",
     "output_type": "stream",
     "text": [
      "epoch 151| loss: 0.114   | train_mse: 0.10619 | train_mae: 0.18766 |  0:00:56s\n"
     ]
    },
    {
     "name": "stdout",
     "output_type": "stream",
     "text": [
      "epoch 152| loss: 0.09084 | train_mse: 0.13399 | train_mae: 0.19218 |  0:00:57s\n"
     ]
    },
    {
     "name": "stdout",
     "output_type": "stream",
     "text": [
      "epoch 153| loss: 0.09924 | train_mse: 0.13327 | train_mae: 0.21499 |  0:00:57s\n"
     ]
    },
    {
     "name": "stdout",
     "output_type": "stream",
     "text": [
      "epoch 154| loss: 0.117   | train_mse: 0.14995 | train_mae: 0.1898  |  0:00:58s\n"
     ]
    },
    {
     "name": "stdout",
     "output_type": "stream",
     "text": [
      "epoch 155| loss: 0.11819 | train_mse: 0.08694 | train_mae: 0.18821 |  0:00:58s\n"
     ]
    },
    {
     "name": "stdout",
     "output_type": "stream",
     "text": [
      "epoch 156| loss: 0.12278 | train_mse: 0.05888 | train_mae: 0.17491 |  0:00:58s\n"
     ]
    },
    {
     "name": "stdout",
     "output_type": "stream",
     "text": [
      "epoch 157| loss: 0.10685 | train_mse: 0.08011 | train_mae: 0.19559 |  0:00:59s\n"
     ]
    },
    {
     "name": "stdout",
     "output_type": "stream",
     "text": [
      "epoch 158| loss: 0.09737 | train_mse: 0.06842 | train_mae: 0.19053 |  0:00:59s\n"
     ]
    },
    {
     "name": "stdout",
     "output_type": "stream",
     "text": [
      "epoch 159| loss: 0.09786 | train_mse: 0.10483 | train_mae: 0.2033  |  0:00:59s\n"
     ]
    },
    {
     "name": "stdout",
     "output_type": "stream",
     "text": [
      "epoch 160| loss: 0.12982 | train_mse: 0.14535 | train_mae: 0.19315 |  0:01:00s\n"
     ]
    },
    {
     "name": "stdout",
     "output_type": "stream",
     "text": [
      "epoch 161| loss: 0.11217 | train_mse: 0.156   | train_mae: 0.19154 |  0:01:00s\n"
     ]
    },
    {
     "name": "stdout",
     "output_type": "stream",
     "text": [
      "epoch 162| loss: 0.10739 | train_mse: 0.1697  | train_mae: 0.18872 |  0:01:00s\n"
     ]
    },
    {
     "name": "stdout",
     "output_type": "stream",
     "text": [
      "epoch 163| loss: 0.08711 | train_mse: 0.21658 | train_mae: 0.18704 |  0:01:01s\n"
     ]
    },
    {
     "name": "stdout",
     "output_type": "stream",
     "text": [
      "epoch 164| loss: 0.07987 | train_mse: 0.23898 | train_mae: 0.19356 |  0:01:01s\n"
     ]
    },
    {
     "name": "stdout",
     "output_type": "stream",
     "text": [
      "epoch 165| loss: 0.10301 | train_mse: 0.23012 | train_mae: 0.18804 |  0:01:01s\n"
     ]
    },
    {
     "name": "stdout",
     "output_type": "stream",
     "text": [
      "epoch 166| loss: 0.10859 | train_mse: 0.23863 | train_mae: 0.1973  |  0:01:02s\n"
     ]
    },
    {
     "name": "stdout",
     "output_type": "stream",
     "text": [
      "epoch 167| loss: 0.08372 | train_mse: 0.21052 | train_mae: 0.18632 |  0:01:02s\n"
     ]
    },
    {
     "name": "stdout",
     "output_type": "stream",
     "text": [
      "epoch 168| loss: 0.08508 | train_mse: 0.20037 | train_mae: 0.19646 |  0:01:03s\n"
     ]
    },
    {
     "name": "stdout",
     "output_type": "stream",
     "text": [
      "epoch 169| loss: 0.08685 | train_mse: 0.19452 | train_mae: 0.19666 |  0:01:03s\n"
     ]
    },
    {
     "name": "stdout",
     "output_type": "stream",
     "text": [
      "epoch 170| loss: 0.09686 | train_mse: 0.17811 | train_mae: 0.20198 |  0:01:04s\n"
     ]
    },
    {
     "name": "stdout",
     "output_type": "stream",
     "text": [
      "epoch 171| loss: 0.15723 | train_mse: 0.17481 | train_mae: 0.19521 |  0:01:04s\n"
     ]
    },
    {
     "name": "stdout",
     "output_type": "stream",
     "text": [
      "epoch 172| loss: 0.09412 | train_mse: 0.18151 | train_mae: 0.19474 |  0:01:05s\n"
     ]
    },
    {
     "name": "stdout",
     "output_type": "stream",
     "text": [
      "epoch 173| loss: 0.09975 | train_mse: 0.17828 | train_mae: 0.2075  |  0:01:05s\n"
     ]
    },
    {
     "name": "stdout",
     "output_type": "stream",
     "text": [
      "epoch 174| loss: 0.10971 | train_mse: 0.11546 | train_mae: 0.19962 |  0:01:05s\n"
     ]
    },
    {
     "name": "stdout",
     "output_type": "stream",
     "text": [
      "epoch 175| loss: 0.09079 | train_mse: 0.07526 | train_mae: 0.17848 |  0:01:06s\n"
     ]
    },
    {
     "name": "stdout",
     "output_type": "stream",
     "text": [
      "epoch 176| loss: 0.14809 | train_mse: 0.09251 | train_mae: 0.2149  |  0:01:06s\n"
     ]
    },
    {
     "name": "stdout",
     "output_type": "stream",
     "text": [
      "epoch 177| loss: 0.09457 | train_mse: 0.15962 | train_mae: 0.199   |  0:01:07s\n"
     ]
    },
    {
     "name": "stdout",
     "output_type": "stream",
     "text": [
      "epoch 178| loss: 0.12105 | train_mse: 0.06903 | train_mae: 0.18557 |  0:01:07s\n"
     ]
    },
    {
     "name": "stdout",
     "output_type": "stream",
     "text": [
      "epoch 179| loss: 0.13854 | train_mse: 0.10364 | train_mae: 0.19051 |  0:01:07s\n"
     ]
    },
    {
     "name": "stdout",
     "output_type": "stream",
     "text": [
      "epoch 180| loss: 0.09219 | train_mse: 0.09177 | train_mae: 0.19282 |  0:01:08s\n"
     ]
    },
    {
     "name": "stdout",
     "output_type": "stream",
     "text": [
      "epoch 181| loss: 0.09119 | train_mse: 0.06052 | train_mae: 0.17624 |  0:01:08s\n"
     ]
    },
    {
     "name": "stdout",
     "output_type": "stream",
     "text": [
      "epoch 182| loss: 0.09819 | train_mse: 0.05865 | train_mae: 0.18011 |  0:01:08s\n"
     ]
    },
    {
     "name": "stdout",
     "output_type": "stream",
     "text": [
      "epoch 183| loss: 0.09743 | train_mse: 0.08975 | train_mae: 0.18626 |  0:01:09s\n"
     ]
    },
    {
     "name": "stdout",
     "output_type": "stream",
     "text": [
      "epoch 184| loss: 0.14938 | train_mse: 0.11384 | train_mae: 0.21509 |  0:01:09s\n"
     ]
    },
    {
     "name": "stdout",
     "output_type": "stream",
     "text": [
      "epoch 185| loss: 0.11436 | train_mse: 0.05638 | train_mae: 0.17933 |  0:01:09s\n"
     ]
    },
    {
     "name": "stdout",
     "output_type": "stream",
     "text": [
      "epoch 186| loss: 0.08812 | train_mse: 0.06686 | train_mae: 0.18141 |  0:01:10s\n"
     ]
    },
    {
     "name": "stdout",
     "output_type": "stream",
     "text": [
      "epoch 187| loss: 0.1183  | train_mse: 0.06555 | train_mae: 0.18849 |  0:01:10s\n"
     ]
    },
    {
     "name": "stdout",
     "output_type": "stream",
     "text": [
      "epoch 188| loss: 0.12417 | train_mse: 0.08916 | train_mae: 0.17876 |  0:01:10s\n"
     ]
    },
    {
     "name": "stdout",
     "output_type": "stream",
     "text": [
      "epoch 189| loss: 0.11585 | train_mse: 0.1729  | train_mae: 0.2204  |  0:01:11s\n"
     ]
    },
    {
     "name": "stdout",
     "output_type": "stream",
     "text": [
      "epoch 190| loss: 0.08613 | train_mse: 0.16676 | train_mae: 0.21033 |  0:01:11s\n"
     ]
    },
    {
     "name": "stdout",
     "output_type": "stream",
     "text": [
      "epoch 191| loss: 0.11805 | train_mse: 0.12895 | train_mae: 0.19292 |  0:01:11s\n"
     ]
    },
    {
     "name": "stdout",
     "output_type": "stream",
     "text": [
      "epoch 192| loss: 0.09988 | train_mse: 0.10859 | train_mae: 0.17398 |  0:01:12s\n"
     ]
    },
    {
     "name": "stdout",
     "output_type": "stream",
     "text": [
      "epoch 193| loss: 0.11481 | train_mse: 0.1307  | train_mae: 0.21645 |  0:01:12s\n"
     ]
    },
    {
     "name": "stdout",
     "output_type": "stream",
     "text": [
      "epoch 194| loss: 0.07636 | train_mse: 0.10123 | train_mae: 0.17647 |  0:01:12s\n"
     ]
    },
    {
     "name": "stdout",
     "output_type": "stream",
     "text": [
      "epoch 195| loss: 0.09122 | train_mse: 0.10475 | train_mae: 0.17647 |  0:01:13s\n"
     ]
    },
    {
     "name": "stdout",
     "output_type": "stream",
     "text": [
      "epoch 196| loss: 0.085   | train_mse: 0.0587  | train_mae: 0.16403 |  0:01:13s\n"
     ]
    },
    {
     "name": "stdout",
     "output_type": "stream",
     "text": [
      "epoch 197| loss: 0.06312 | train_mse: 0.04788 | train_mae: 0.16467 |  0:01:14s\n"
     ]
    },
    {
     "name": "stdout",
     "output_type": "stream",
     "text": [
      "epoch 198| loss: 0.09878 | train_mse: 0.06873 | train_mae: 0.1692  |  0:01:14s\n"
     ]
    },
    {
     "name": "stdout",
     "output_type": "stream",
     "text": [
      "epoch 199| loss: 0.08652 | train_mse: 0.07196 | train_mae: 0.19344 |  0:01:14s\n"
     ]
    },
    {
     "name": "stdout",
     "output_type": "stream",
     "text": [
      "epoch 200| loss: 0.0769  | train_mse: 0.06008 | train_mae: 0.18822 |  0:01:15s\n"
     ]
    },
    {
     "name": "stdout",
     "output_type": "stream",
     "text": [
      "epoch 201| loss: 0.11902 | train_mse: 0.0763  | train_mae: 0.19006 |  0:01:15s\n"
     ]
    },
    {
     "name": "stdout",
     "output_type": "stream",
     "text": [
      "epoch 202| loss: 0.08225 | train_mse: 0.05505 | train_mae: 0.16082 |  0:01:15s\n"
     ]
    },
    {
     "name": "stdout",
     "output_type": "stream",
     "text": [
      "epoch 203| loss: 0.09362 | train_mse: 0.06979 | train_mae: 0.18484 |  0:01:16s\n"
     ]
    },
    {
     "name": "stdout",
     "output_type": "stream",
     "text": [
      "epoch 204| loss: 0.11853 | train_mse: 0.0889  | train_mae: 0.20314 |  0:01:16s\n"
     ]
    },
    {
     "name": "stdout",
     "output_type": "stream",
     "text": [
      "epoch 205| loss: 0.0909  | train_mse: 0.08399 | train_mae: 0.18505 |  0:01:16s\n"
     ]
    },
    {
     "name": "stdout",
     "output_type": "stream",
     "text": [
      "epoch 206| loss: 0.12016 | train_mse: 0.05236 | train_mae: 0.17474 |  0:01:17s\n"
     ]
    },
    {
     "name": "stdout",
     "output_type": "stream",
     "text": [
      "epoch 207| loss: 0.09538 | train_mse: 0.0493  | train_mae: 0.16369 |  0:01:17s\n"
     ]
    },
    {
     "name": "stdout",
     "output_type": "stream",
     "text": [
      "epoch 208| loss: 0.12437 | train_mse: 0.05391 | train_mae: 0.1805  |  0:01:18s\n"
     ]
    },
    {
     "name": "stdout",
     "output_type": "stream",
     "text": [
      "epoch 209| loss: 0.09056 | train_mse: 0.05597 | train_mae: 0.17038 |  0:01:18s\n"
     ]
    },
    {
     "name": "stdout",
     "output_type": "stream",
     "text": [
      "epoch 210| loss: 0.09898 | train_mse: 0.0491  | train_mae: 0.16155 |  0:01:19s\n"
     ]
    },
    {
     "name": "stdout",
     "output_type": "stream",
     "text": [
      "epoch 211| loss: 0.10914 | train_mse: 0.05601 | train_mae: 0.17578 |  0:01:19s\n"
     ]
    },
    {
     "name": "stdout",
     "output_type": "stream",
     "text": [
      "epoch 212| loss: 0.11044 | train_mse: 0.15071 | train_mae: 0.19303 |  0:01:20s\n"
     ]
    },
    {
     "name": "stdout",
     "output_type": "stream",
     "text": [
      "epoch 213| loss: 0.09081 | train_mse: 0.13774 | train_mae: 0.17194 |  0:01:20s\n"
     ]
    },
    {
     "name": "stdout",
     "output_type": "stream",
     "text": [
      "epoch 214| loss: 0.0892  | train_mse: 0.13762 | train_mae: 0.17819 |  0:01:21s\n"
     ]
    },
    {
     "name": "stdout",
     "output_type": "stream",
     "text": [
      "epoch 215| loss: 0.09795 | train_mse: 0.11886 | train_mae: 0.19216 |  0:01:21s\n"
     ]
    },
    {
     "name": "stdout",
     "output_type": "stream",
     "text": [
      "epoch 216| loss: 0.09589 | train_mse: 0.11585 | train_mae: 0.18635 |  0:01:21s\n"
     ]
    },
    {
     "name": "stdout",
     "output_type": "stream",
     "text": [
      "epoch 217| loss: 0.09219 | train_mse: 0.07964 | train_mae: 0.1762  |  0:01:22s\n"
     ]
    },
    {
     "name": "stdout",
     "output_type": "stream",
     "text": [
      "epoch 218| loss: 0.1056  | train_mse: 0.06533 | train_mae: 0.17153 |  0:01:22s\n"
     ]
    },
    {
     "name": "stdout",
     "output_type": "stream",
     "text": [
      "epoch 219| loss: 0.08174 | train_mse: 0.07372 | train_mae: 0.1765  |  0:01:23s\n"
     ]
    },
    {
     "name": "stdout",
     "output_type": "stream",
     "text": [
      "epoch 220| loss: 0.09465 | train_mse: 0.06328 | train_mae: 0.16609 |  0:01:23s\n"
     ]
    },
    {
     "name": "stdout",
     "output_type": "stream",
     "text": [
      "epoch 221| loss: 0.08065 | train_mse: 0.07403 | train_mae: 0.16453 |  0:01:23s\n"
     ]
    },
    {
     "name": "stdout",
     "output_type": "stream",
     "text": [
      "epoch 222| loss: 0.09715 | train_mse: 0.08245 | train_mae: 0.17514 |  0:01:24s\n"
     ]
    },
    {
     "name": "stdout",
     "output_type": "stream",
     "text": [
      "epoch 223| loss: 0.0974  | train_mse: 0.10692 | train_mae: 0.17198 |  0:01:24s\n"
     ]
    },
    {
     "name": "stdout",
     "output_type": "stream",
     "text": [
      "epoch 224| loss: 0.11551 | train_mse: 0.05619 | train_mae: 0.17988 |  0:01:24s\n"
     ]
    },
    {
     "name": "stdout",
     "output_type": "stream",
     "text": [
      "epoch 225| loss: 0.09729 | train_mse: 0.06376 | train_mae: 0.16973 |  0:01:25s\n"
     ]
    },
    {
     "name": "stdout",
     "output_type": "stream",
     "text": [
      "epoch 226| loss: 0.07953 | train_mse: 0.06588 | train_mae: 0.17676 |  0:01:25s\n"
     ]
    },
    {
     "name": "stdout",
     "output_type": "stream",
     "text": [
      "epoch 227| loss: 0.09198 | train_mse: 0.04347 | train_mae: 0.15726 |  0:01:25s\n"
     ]
    },
    {
     "name": "stdout",
     "output_type": "stream",
     "text": [
      "epoch 228| loss: 0.06649 | train_mse: 0.05869 | train_mae: 0.16707 |  0:01:26s\n"
     ]
    },
    {
     "name": "stdout",
     "output_type": "stream",
     "text": [
      "epoch 229| loss: 0.08797 | train_mse: 0.04599 | train_mae: 0.16186 |  0:01:26s\n"
     ]
    },
    {
     "name": "stdout",
     "output_type": "stream",
     "text": [
      "epoch 230| loss: 0.06926 | train_mse: 0.08951 | train_mae: 0.1732  |  0:01:26s\n"
     ]
    },
    {
     "name": "stdout",
     "output_type": "stream",
     "text": [
      "epoch 231| loss: 0.12909 | train_mse: 0.15329 | train_mae: 0.18171 |  0:01:27s\n"
     ]
    },
    {
     "name": "stdout",
     "output_type": "stream",
     "text": [
      "epoch 232| loss: 0.10056 | train_mse: 0.16493 | train_mae: 0.1941  |  0:01:27s\n"
     ]
    },
    {
     "name": "stdout",
     "output_type": "stream",
     "text": [
      "epoch 233| loss: 0.08446 | train_mse: 0.17286 | train_mae: 0.19364 |  0:01:27s\n"
     ]
    },
    {
     "name": "stdout",
     "output_type": "stream",
     "text": [
      "epoch 234| loss: 0.10233 | train_mse: 0.17689 | train_mae: 0.20255 |  0:01:28s\n"
     ]
    },
    {
     "name": "stdout",
     "output_type": "stream",
     "text": [
      "epoch 235| loss: 0.09599 | train_mse: 0.15803 | train_mae: 0.18846 |  0:01:28s\n"
     ]
    },
    {
     "name": "stdout",
     "output_type": "stream",
     "text": [
      "epoch 236| loss: 0.11935 | train_mse: 0.13956 | train_mae: 0.1893  |  0:01:28s\n"
     ]
    },
    {
     "name": "stdout",
     "output_type": "stream",
     "text": [
      "epoch 237| loss: 0.11442 | train_mse: 0.10462 | train_mae: 0.1832  |  0:01:29s\n"
     ]
    },
    {
     "name": "stdout",
     "output_type": "stream",
     "text": [
      "epoch 238| loss: 0.11172 | train_mse: 0.10877 | train_mae: 0.17972 |  0:01:29s\n"
     ]
    },
    {
     "name": "stdout",
     "output_type": "stream",
     "text": [
      "epoch 239| loss: 0.09664 | train_mse: 0.11087 | train_mae: 0.18105 |  0:01:29s\n"
     ]
    },
    {
     "name": "stdout",
     "output_type": "stream",
     "text": [
      "epoch 240| loss: 0.11749 | train_mse: 0.11422 | train_mae: 0.17864 |  0:01:30s\n"
     ]
    },
    {
     "name": "stdout",
     "output_type": "stream",
     "text": [
      "epoch 241| loss: 0.08987 | train_mse: 0.1101  | train_mae: 0.18858 |  0:01:30s\n"
     ]
    },
    {
     "name": "stdout",
     "output_type": "stream",
     "text": [
      "epoch 242| loss: 0.14311 | train_mse: 0.12615 | train_mae: 0.19585 |  0:01:30s\n"
     ]
    },
    {
     "name": "stdout",
     "output_type": "stream",
     "text": [
      "epoch 243| loss: 0.08372 | train_mse: 0.1345  | train_mae: 0.18879 |  0:01:31s\n"
     ]
    },
    {
     "name": "stdout",
     "output_type": "stream",
     "text": [
      "epoch 244| loss: 0.11176 | train_mse: 0.14654 | train_mae: 0.20653 |  0:01:31s\n"
     ]
    },
    {
     "name": "stdout",
     "output_type": "stream",
     "text": [
      "epoch 245| loss: 0.1168  | train_mse: 0.13331 | train_mae: 0.18443 |  0:01:32s\n"
     ]
    },
    {
     "name": "stdout",
     "output_type": "stream",
     "text": [
      "epoch 246| loss: 0.09944 | train_mse: 0.07887 | train_mae: 0.19175 |  0:01:32s\n"
     ]
    },
    {
     "name": "stdout",
     "output_type": "stream",
     "text": [
      "epoch 247| loss: 0.11125 | train_mse: 0.0861  | train_mae: 0.19568 |  0:01:32s\n"
     ]
    },
    {
     "name": "stdout",
     "output_type": "stream",
     "text": [
      "epoch 248| loss: 0.08797 | train_mse: 0.06055 | train_mae: 0.1863  |  0:01:33s\n"
     ]
    },
    {
     "name": "stdout",
     "output_type": "stream",
     "text": [
      "epoch 249| loss: 0.07188 | train_mse: 0.05844 | train_mae: 0.17954 |  0:01:33s\n"
     ]
    },
    {
     "name": "stdout",
     "output_type": "stream",
     "text": [
      "epoch 250| loss: 0.08727 | train_mse: 0.10686 | train_mae: 0.18533 |  0:01:34s\n"
     ]
    },
    {
     "name": "stdout",
     "output_type": "stream",
     "text": [
      "epoch 251| loss: 0.0834  | train_mse: 0.10152 | train_mae: 0.17462 |  0:01:34s\n"
     ]
    },
    {
     "name": "stdout",
     "output_type": "stream",
     "text": [
      "epoch 252| loss: 0.08241 | train_mse: 0.10935 | train_mae: 0.18031 |  0:01:35s\n"
     ]
    },
    {
     "name": "stdout",
     "output_type": "stream",
     "text": [
      "epoch 253| loss: 0.07336 | train_mse: 0.11075 | train_mae: 0.17307 |  0:01:35s\n"
     ]
    },
    {
     "name": "stdout",
     "output_type": "stream",
     "text": [
      "epoch 254| loss: 0.07504 | train_mse: 0.10671 | train_mae: 0.17393 |  0:01:36s\n"
     ]
    },
    {
     "name": "stdout",
     "output_type": "stream",
     "text": [
      "epoch 255| loss: 0.08814 | train_mse: 0.10406 | train_mae: 0.17164 |  0:01:36s\n"
     ]
    },
    {
     "name": "stdout",
     "output_type": "stream",
     "text": [
      "epoch 256| loss: 0.09479 | train_mse: 0.10946 | train_mae: 0.1822  |  0:01:36s\n"
     ]
    },
    {
     "name": "stdout",
     "output_type": "stream",
     "text": [
      "epoch 257| loss: 0.10463 | train_mse: 0.1081  | train_mae: 0.17645 |  0:01:37s\n"
     ]
    },
    {
     "name": "stdout",
     "output_type": "stream",
     "text": [
      "epoch 258| loss: 0.10633 | train_mse: 0.07894 | train_mae: 0.18002 |  0:01:37s\n"
     ]
    },
    {
     "name": "stdout",
     "output_type": "stream",
     "text": [
      "epoch 259| loss: 0.07899 | train_mse: 0.07325 | train_mae: 0.17276 |  0:01:37s\n"
     ]
    },
    {
     "name": "stdout",
     "output_type": "stream",
     "text": [
      "epoch 260| loss: 0.08344 | train_mse: 0.0727  | train_mae: 0.17866 |  0:01:38s\n"
     ]
    },
    {
     "name": "stdout",
     "output_type": "stream",
     "text": [
      "epoch 261| loss: 0.09999 | train_mse: 0.07354 | train_mae: 0.17905 |  0:01:38s\n"
     ]
    },
    {
     "name": "stdout",
     "output_type": "stream",
     "text": [
      "epoch 262| loss: 0.09032 | train_mse: 0.078   | train_mae: 0.19321 |  0:01:38s\n"
     ]
    },
    {
     "name": "stdout",
     "output_type": "stream",
     "text": [
      "epoch 263| loss: 0.09041 | train_mse: 0.07252 | train_mae: 0.17677 |  0:01:39s\n"
     ]
    },
    {
     "name": "stdout",
     "output_type": "stream",
     "text": [
      "epoch 264| loss: 0.10023 | train_mse: 0.06964 | train_mae: 0.16121 |  0:01:39s\n"
     ]
    },
    {
     "name": "stdout",
     "output_type": "stream",
     "text": [
      "epoch 265| loss: 0.10488 | train_mse: 0.0675  | train_mae: 0.16146 |  0:01:40s\n"
     ]
    },
    {
     "name": "stdout",
     "output_type": "stream",
     "text": [
      "epoch 266| loss: 0.06775 | train_mse: 0.06203 | train_mae: 0.15331 |  0:01:40s\n"
     ]
    },
    {
     "name": "stdout",
     "output_type": "stream",
     "text": [
      "epoch 267| loss: 0.08035 | train_mse: 0.06381 | train_mae: 0.15278 |  0:01:40s\n"
     ]
    },
    {
     "name": "stdout",
     "output_type": "stream",
     "text": [
      "epoch 268| loss: 0.07729 | train_mse: 0.04041 | train_mae: 0.1486  |  0:01:41s\n"
     ]
    },
    {
     "name": "stdout",
     "output_type": "stream",
     "text": [
      "epoch 269| loss: 0.08497 | train_mse: 0.0564  | train_mae: 0.16136 |  0:01:41s\n"
     ]
    },
    {
     "name": "stdout",
     "output_type": "stream",
     "text": [
      "epoch 270| loss: 0.07625 | train_mse: 0.05864 | train_mae: 0.16284 |  0:01:41s\n"
     ]
    },
    {
     "name": "stdout",
     "output_type": "stream",
     "text": [
      "epoch 271| loss: 0.08174 | train_mse: 0.06189 | train_mae: 0.16932 |  0:01:42s\n"
     ]
    },
    {
     "name": "stdout",
     "output_type": "stream",
     "text": [
      "epoch 272| loss: 0.08151 | train_mse: 0.05979 | train_mae: 0.17164 |  0:01:42s\n"
     ]
    },
    {
     "name": "stdout",
     "output_type": "stream",
     "text": [
      "epoch 273| loss: 0.07902 | train_mse: 0.10365 | train_mae: 0.17462 |  0:01:42s\n"
     ]
    },
    {
     "name": "stdout",
     "output_type": "stream",
     "text": [
      "epoch 274| loss: 0.12493 | train_mse: 0.08406 | train_mae: 0.17703 |  0:01:43s\n"
     ]
    },
    {
     "name": "stdout",
     "output_type": "stream",
     "text": [
      "epoch 275| loss: 0.1039  | train_mse: 0.05376 | train_mae: 0.17113 |  0:01:43s\n"
     ]
    },
    {
     "name": "stdout",
     "output_type": "stream",
     "text": [
      "epoch 276| loss: 0.08812 | train_mse: 0.03893 | train_mae: 0.15238 |  0:01:43s\n"
     ]
    },
    {
     "name": "stdout",
     "output_type": "stream",
     "text": [
      "epoch 277| loss: 0.0948  | train_mse: 0.05413 | train_mae: 0.15602 |  0:01:44s\n"
     ]
    },
    {
     "name": "stdout",
     "output_type": "stream",
     "text": [
      "epoch 278| loss: 0.10506 | train_mse: 0.06271 | train_mae: 0.17098 |  0:01:44s\n"
     ]
    },
    {
     "name": "stdout",
     "output_type": "stream",
     "text": [
      "epoch 279| loss: 0.13747 | train_mse: 0.08499 | train_mae: 0.20132 |  0:01:44s\n"
     ]
    },
    {
     "name": "stdout",
     "output_type": "stream",
     "text": [
      "epoch 280| loss: 0.07244 | train_mse: 0.06731 | train_mae: 0.18111 |  0:01:45s\n"
     ]
    },
    {
     "name": "stdout",
     "output_type": "stream",
     "text": [
      "epoch 281| loss: 0.08613 | train_mse: 0.06187 | train_mae: 0.16958 |  0:01:45s\n"
     ]
    },
    {
     "name": "stdout",
     "output_type": "stream",
     "text": [
      "epoch 282| loss: 0.10743 | train_mse: 0.05954 | train_mae: 0.16945 |  0:01:45s\n"
     ]
    },
    {
     "name": "stdout",
     "output_type": "stream",
     "text": [
      "epoch 283| loss: 0.08803 | train_mse: 0.05947 | train_mae: 0.17244 |  0:01:46s\n"
     ]
    },
    {
     "name": "stdout",
     "output_type": "stream",
     "text": [
      "epoch 284| loss: 0.17501 | train_mse: 0.07252 | train_mae: 0.1927  |  0:01:46s\n"
     ]
    },
    {
     "name": "stdout",
     "output_type": "stream",
     "text": [
      "epoch 285| loss: 0.12485 | train_mse: 0.06361 | train_mae: 0.18257 |  0:01:46s\n"
     ]
    },
    {
     "name": "stdout",
     "output_type": "stream",
     "text": [
      "epoch 286| loss: 0.11425 | train_mse: 0.06504 | train_mae: 0.18137 |  0:01:47s\n"
     ]
    },
    {
     "name": "stdout",
     "output_type": "stream",
     "text": [
      "epoch 287| loss: 0.10493 | train_mse: 0.06626 | train_mae: 0.17998 |  0:01:47s\n"
     ]
    },
    {
     "name": "stdout",
     "output_type": "stream",
     "text": [
      "epoch 288| loss: 0.09453 | train_mse: 0.05363 | train_mae: 0.16422 |  0:01:48s\n"
     ]
    },
    {
     "name": "stdout",
     "output_type": "stream",
     "text": [
      "epoch 289| loss: 0.09681 | train_mse: 0.06128 | train_mae: 0.17962 |  0:01:48s\n"
     ]
    },
    {
     "name": "stdout",
     "output_type": "stream",
     "text": [
      "epoch 290| loss: 0.08426 | train_mse: 0.05441 | train_mae: 0.16962 |  0:01:48s\n"
     ]
    },
    {
     "name": "stdout",
     "output_type": "stream",
     "text": [
      "epoch 291| loss: 0.119   | train_mse: 0.07788 | train_mae: 0.18619 |  0:01:49s\n"
     ]
    },
    {
     "name": "stdout",
     "output_type": "stream",
     "text": [
      "epoch 292| loss: 0.11361 | train_mse: 0.06387 | train_mae: 0.16954 |  0:01:49s\n"
     ]
    },
    {
     "name": "stdout",
     "output_type": "stream",
     "text": [
      "epoch 293| loss: 0.10549 | train_mse: 0.05531 | train_mae: 0.16243 |  0:01:49s\n"
     ]
    },
    {
     "name": "stdout",
     "output_type": "stream",
     "text": [
      "epoch 294| loss: 0.10756 | train_mse: 0.05801 | train_mae: 0.1712  |  0:01:50s\n"
     ]
    },
    {
     "name": "stdout",
     "output_type": "stream",
     "text": [
      "epoch 295| loss: 0.12034 | train_mse: 0.06843 | train_mae: 0.18297 |  0:01:50s\n"
     ]
    },
    {
     "name": "stdout",
     "output_type": "stream",
     "text": [
      "epoch 296| loss: 0.10723 | train_mse: 0.06464 | train_mae: 0.18789 |  0:01:50s\n"
     ]
    },
    {
     "name": "stdout",
     "output_type": "stream",
     "text": [
      "epoch 297| loss: 0.11579 | train_mse: 0.06964 | train_mae: 0.18849 |  0:01:51s\n"
     ]
    },
    {
     "name": "stdout",
     "output_type": "stream",
     "text": [
      "epoch 298| loss: 0.08918 | train_mse: 0.05316 | train_mae: 0.16393 |  0:01:51s\n"
     ]
    },
    {
     "name": "stdout",
     "output_type": "stream",
     "text": [
      "epoch 299| loss: 0.09631 | train_mse: 0.0577  | train_mae: 0.1729  |  0:01:51s\n"
     ]
    },
    {
     "name": "stdout",
     "output_type": "stream",
     "text": [
      "epoch 300| loss: 0.08686 | train_mse: 0.06519 | train_mae: 0.18198 |  0:01:52s\n"
     ]
    },
    {
     "name": "stdout",
     "output_type": "stream",
     "text": [
      "epoch 301| loss: 0.11518 | train_mse: 0.05692 | train_mae: 0.17224 |  0:01:53s\n"
     ]
    },
    {
     "name": "stdout",
     "output_type": "stream",
     "text": [
      "epoch 302| loss: 0.09613 | train_mse: 0.06645 | train_mae: 0.18452 |  0:01:54s\n"
     ]
    },
    {
     "name": "stdout",
     "output_type": "stream",
     "text": [
      "epoch 303| loss: 0.11644 | train_mse: 0.05509 | train_mae: 0.1681  |  0:01:54s\n"
     ]
    },
    {
     "name": "stdout",
     "output_type": "stream",
     "text": [
      "epoch 304| loss: 0.09448 | train_mse: 0.05209 | train_mae: 0.16156 |  0:01:55s\n"
     ]
    },
    {
     "name": "stdout",
     "output_type": "stream",
     "text": [
      "epoch 305| loss: 0.11171 | train_mse: 0.05663 | train_mae: 0.17235 |  0:01:56s\n"
     ]
    },
    {
     "name": "stdout",
     "output_type": "stream",
     "text": [
      "epoch 306| loss: 0.11756 | train_mse: 0.06184 | train_mae: 0.18106 |  0:01:56s\n"
     ]
    },
    {
     "name": "stdout",
     "output_type": "stream",
     "text": [
      "epoch 307| loss: 0.1307  | train_mse: 0.07488 | train_mae: 0.19273 |  0:01:56s\n"
     ]
    },
    {
     "name": "stdout",
     "output_type": "stream",
     "text": [
      "epoch 308| loss: 0.09743 | train_mse: 0.05221 | train_mae: 0.1621  |  0:01:57s\n"
     ]
    },
    {
     "name": "stdout",
     "output_type": "stream",
     "text": [
      "epoch 309| loss: 0.10121 | train_mse: 0.05715 | train_mae: 0.17037 |  0:01:57s\n"
     ]
    },
    {
     "name": "stdout",
     "output_type": "stream",
     "text": [
      "epoch 310| loss: 0.11332 | train_mse: 0.0567  | train_mae: 0.17306 |  0:01:58s\n"
     ]
    },
    {
     "name": "stdout",
     "output_type": "stream",
     "text": [
      "epoch 311| loss: 0.11088 | train_mse: 0.05327 | train_mae: 0.16887 |  0:01:58s\n"
     ]
    },
    {
     "name": "stdout",
     "output_type": "stream",
     "text": [
      "epoch 312| loss: 0.06946 | train_mse: 0.04128 | train_mae: 0.15013 |  0:01:58s\n"
     ]
    },
    {
     "name": "stdout",
     "output_type": "stream",
     "text": [
      "epoch 313| loss: 0.11008 | train_mse: 0.04495 | train_mae: 0.1594  |  0:01:59s\n"
     ]
    },
    {
     "name": "stdout",
     "output_type": "stream",
     "text": [
      "epoch 314| loss: 0.08853 | train_mse: 0.04577 | train_mae: 0.15988 |  0:01:59s\n"
     ]
    },
    {
     "name": "stdout",
     "output_type": "stream",
     "text": [
      "epoch 315| loss: 0.07828 | train_mse: 0.0427  | train_mae: 0.15396 |  0:02:00s\n"
     ]
    },
    {
     "name": "stdout",
     "output_type": "stream",
     "text": [
      "epoch 316| loss: 0.097   | train_mse: 0.04356 | train_mae: 0.15708 |  0:02:00s\n"
     ]
    },
    {
     "name": "stdout",
     "output_type": "stream",
     "text": [
      "epoch 317| loss: 0.13346 | train_mse: 0.05316 | train_mae: 0.1677  |  0:02:00s\n"
     ]
    },
    {
     "name": "stdout",
     "output_type": "stream",
     "text": [
      "epoch 318| loss: 0.09034 | train_mse: 0.04849 | train_mae: 0.15798 |  0:02:01s\n",
      "\n",
      "Early stopping occurred at epoch 318 with best_epoch = 268 and best_train_mae = 0.1486\n",
      "Best weights from best epoch are automatically used!\n"
     ]
    }
   ],
   "source": [
    "#Train the Model\n",
    "\n",
    "Y_train = np.reshape(Y_train, (-1, 1))\n",
    "Y_test = np.reshape(Y_test, (-1, 1))\n",
    "\n",
    "prior_model = TabNetRegressor(optimizer_fn=torch.optim.Adam, optimizer_params=dict(lr = 0.01),\n",
    "          #scheduler_params={\"step_size\":10, ], \"gamma\":0.9},\n",
    "          #scheduler_fn=torch.optim.lr_scheduler.StepLR\n",
    "          )  #TabNetRegressor()\n",
    "\n",
    "prior_model.fit(X_train,Y_train,eval_set=[(X_train, Y_train)],\n",
    "            eval_name=['train'], \n",
    "            eval_metric=[ 'mse', 'mae'], \n",
    "            max_epochs = n_epochs, \n",
    "            batch_size = batch_size,\n",
    "            patience=50\n",
    "            )"
   ]
  },
  {
   "cell_type": "code",
   "execution_count": 10,
   "id": "af65dcda",
   "metadata": {
    "execution": {
     "iopub.execute_input": "2022-07-22T11:56:02.957016Z",
     "iopub.status.busy": "2022-07-22T11:56:02.956644Z",
     "iopub.status.idle": "2022-07-22T11:56:03.030454Z",
     "shell.execute_reply": "2022-07-22T11:56:03.027944Z"
    },
    "id": "af65dcda",
    "papermill": {
     "duration": 0.115489,
     "end_time": "2022-07-22T11:56:03.036675",
     "exception": false,
     "start_time": "2022-07-22T11:56:02.921186",
     "status": "completed"
    },
    "tags": []
   },
   "outputs": [
    {
     "data": {
      "application/scrapbook.scrap.json+json": {
       "data": 0.2959777928287708,
       "encoder": "json",
       "name": "Prior Model MSE",
       "version": 1
      }
     },
     "metadata": {
      "scrapbook": {
       "data": true,
       "display": false,
       "name": "Prior Model MSE"
      }
     },
     "output_type": "display_data"
    },
    {
     "data": {
      "application/scrapbook.scrap.json+json": {
       "data": 0.3085478984660401,
       "encoder": "json",
       "name": "ABC Pre-generator MSE",
       "version": 1
      }
     },
     "metadata": {
      "scrapbook": {
       "data": true,
       "display": false,
       "name": "ABC Pre-generator MSE"
      }
     },
     "output_type": "display_data"
    },
    {
     "data": {
      "application/scrapbook.scrap.json+json": {
       "data": 0.25591573309714755,
       "encoder": "json",
       "name": "Prior Model MAE",
       "version": 1
      }
     },
     "metadata": {
      "scrapbook": {
       "data": true,
       "display": false,
       "name": "Prior Model MAE"
      }
     },
     "output_type": "display_data"
    },
    {
     "name": "stdout",
     "output_type": "stream",
     "text": [
      "Prior Model MAE 0.25591573309714755\n"
     ]
    },
    {
     "data": {
      "application/scrapbook.scrap.json+json": {
       "data": 0.26944838748809286,
       "encoder": "json",
       "name": "ABC Pre-generator MAE",
       "version": 1
      }
     },
     "metadata": {
      "scrapbook": {
       "data": true,
       "display": false,
       "name": "ABC Pre-generator MAE"
      }
     },
     "output_type": "display_data"
    },
    {
     "name": "stdout",
     "output_type": "stream",
     "text": [
      "ABC Pre-generator MAE 0.26944838748809286\n"
     ]
    }
   ],
   "source": [
    "y_pred = prior_model.predict(X_test)\n",
    "y_abc = y_pred + np.random.normal(0,variance, y_pred.shape) + bias \n",
    "mse = mean_squared_error(y_pred,Y_test)\n",
    "sb.glue(\"Prior Model MSE\",mse)\n",
    "mse = mean_squared_error(y_abc,Y_test)\n",
    "sb.glue(\"ABC Pre-generator MSE\",mse)\n",
    "mae = mean_absolute_error(y_pred,Y_test)\n",
    "sb.glue(\"Prior Model MAE\",mae)\n",
    "print(\"Prior Model MAE\",mae)\n",
    "mae = mean_absolute_error(y_abc,Y_test)\n",
    "sb.glue(\"ABC Pre-generator MAE\",mae)\n",
    "print(\"ABC Pre-generator MAE\",mae)"
   ]
  },
  {
   "cell_type": "markdown",
   "id": "25609da2",
   "metadata": {
    "papermill": {
     "duration": 0.029718,
     "end_time": "2022-07-22T11:56:03.091667",
     "exception": false,
     "start_time": "2022-07-22T11:56:03.061949",
     "status": "completed"
    },
    "tags": []
   },
   "source": [
    "# mGAN Model"
   ]
  },
  {
   "cell_type": "code",
   "execution_count": 11,
   "id": "dfc3464d",
   "metadata": {
    "execution": {
     "iopub.execute_input": "2022-07-22T11:56:03.151535Z",
     "iopub.status.busy": "2022-07-22T11:56:03.151162Z",
     "iopub.status.idle": "2022-07-22T11:56:03.159573Z",
     "shell.execute_reply": "2022-07-22T11:56:03.158550Z"
    },
    "papermill": {
     "duration": 0.040812,
     "end_time": "2022-07-22T11:56:03.162823",
     "exception": false,
     "start_time": "2022-07-22T11:56:03.122011",
     "status": "completed"
    },
    "tags": []
   },
   "outputs": [],
   "source": [
    "gen = network.Generator(n_features+1).to(device)\n",
    "disc = network.Discriminator(n_features+1).to(device)\n",
    "\n",
    "criterion = torch.nn.BCELoss()\n",
    "gen_opt = torch.optim.Adam(gen.parameters(), lr=0.01, betas=(0.5, 0.999))\n",
    "disc_opt = torch.optim.Adam(disc.parameters(), lr=0.01, betas=(0.5, 0.999))"
   ]
  },
  {
   "cell_type": "code",
   "execution_count": 12,
   "id": "b75fdd85",
   "metadata": {
    "execution": {
     "iopub.execute_input": "2022-07-22T11:56:03.226042Z",
     "iopub.status.busy": "2022-07-22T11:56:03.225576Z",
     "iopub.status.idle": "2022-07-22T12:00:07.471372Z",
     "shell.execute_reply": "2022-07-22T12:00:07.470476Z"
    },
    "papermill": {
     "duration": 244.282154,
     "end_time": "2022-07-22T12:00:07.474402",
     "exception": false,
     "start_time": "2022-07-22T11:56:03.192248",
     "status": "completed"
    },
    "tags": []
   },
   "outputs": [
    {
     "data": {
      "image/png": "[encoded data removed]",
      "text/plain": [
       "<Figure size 432x288 with 1 Axes>"
      ]
     },
     "metadata": {
      "needs_background": "light"
     },
     "output_type": "display_data"
    },
    {
     "data": {
      "image/png": "[encoded data removed]",
      "text/plain": [
       "<Figure size 432x288 with 1 Axes>"
      ]
     },
     "metadata": {
      "needs_background": "light"
     },
     "output_type": "display_data"
    }
   ],
   "source": [
    "#Training the ABC_GAN \n",
    "ABC_train_test2.training_GAN(disc,gen,disc_opt,gen_opt,train_data,batch_size,n_epochs,criterion,prior_model,variance,bias,device)"
   ]
  },
  {
   "cell_type": "code",
   "execution_count": 13,
   "id": "1fa7c368",
   "metadata": {
    "execution": {
     "iopub.execute_input": "2022-07-22T12:00:07.599916Z",
     "iopub.status.busy": "2022-07-22T12:00:07.599294Z",
     "iopub.status.idle": "2022-07-22T12:00:10.634059Z",
     "shell.execute_reply": "2022-07-22T12:00:10.631374Z"
    },
    "papermill": {
     "duration": 3.138824,
     "end_time": "2022-07-22T12:00:10.641737",
     "exception": false,
     "start_time": "2022-07-22T12:00:07.502913",
     "status": "completed"
    },
    "tags": []
   },
   "outputs": [
    {
     "data": {
      "application/scrapbook.scrap.json+json": {
       "data": 0.31888121494710153,
       "encoder": "json",
       "name": "ABC-GAN Model 1 MSE",
       "version": 1
      }
     },
     "metadata": {
      "scrapbook": {
       "data": true,
       "display": false,
       "name": "ABC-GAN Model 1 MSE"
      }
     },
     "output_type": "display_data"
    },
    {
     "data": {
      "application/scrapbook.scrap.json+json": {
       "data": 0.2977636756002903,
       "encoder": "json",
       "name": "ABC-GAN Model 1 MAE",
       "version": 1
      }
     },
     "metadata": {
      "scrapbook": {
       "data": true,
       "display": false,
       "name": "ABC-GAN Model 1 MAE"
      }
     },
     "output_type": "display_data"
    },
    {
     "data": {
      "application/scrapbook.scrap.json+json": {
       "data": 30.37189491122961,
       "encoder": "json",
       "name": "ABC-GAN Model 1 Manhattan Distance",
       "version": 1
      }
     },
     "metadata": {
      "scrapbook": {
       "data": true,
       "display": false,
       "name": "ABC-GAN Model 1 Manhattan Distance"
      }
     },
     "output_type": "display_data"
    },
    {
     "data": {
      "application/scrapbook.scrap.json+json": {
       "data": 5.7031391052858025,
       "encoder": "json",
       "name": "ABC-GAN Model 1 Euclidean distance",
       "version": 1
      }
     },
     "metadata": {
      "scrapbook": {
       "data": true,
       "display": false,
       "name": "ABC-GAN Model 1 Euclidean distance"
      }
     },
     "output_type": "display_data"
    },
    {
     "data": {
      "application/scrapbook.scrap.json+json": {
       "data": [
        [
         0.32014393540795627,
         0.3185627007158459,
         0.31692116896979167,
         0.31938599768087667,
         0.31789830982131134,
         0.32019309109019856,
         0.3197535957971864,
         0.3186709658072995,
         0.31879468328053234,
         0.320657152321579,
         0.3190950216716154,
         0.3178455967590282,
         0.31729129769709363,
         0.31858939730316044,
         0.31908452645115765,
         0.3199981362846805,
         0.3196955554370251,
         0.32041240125154224,
         0.3191475909345968,
         0.31663621895414035,
         0.31958853115575847,
         0.31977251631641385,
         0.31986662024487433,
         0.3196918220018297,
         0.31864477811850206,
         0.3195504265146817,
         0.3180362098876656,
         0.31655559051017146,
         0.319817049036092,
         0.31832707154979706,
         0.3178392848415918,
         0.3184572509938117,
         0.31840366881828386,
         0.3176190240926192,
         0.31885412987335743,
         0.31959213372115625,
         0.31780775660612093,
         0.31875335330839966,
         0.3197516423679507,
         0.32153859746202756,
         0.31786360516904405,
         0.31785852008346355,
         0.31920900392550283,
         0.31851252635776944,
         0.3192327429404923,
         0.3203974668226951,
         0.31939054059877053,
         0.31781733963496334,
         0.3176620091550753,
         0.3186896438641367,
         0.3183142945248653,
         0.3197360900516465,
         0.3194545473739744,
         0.317769900443383,
         0.31862590415151737,
         0.3210098783828268,
         0.3197697617164321,
         0.3202314275338768,
         0.31996515350627974,
         0.31838791501335595,
         0.31905094620233415,
         0.3188725936203155,
         0.31756492890947907,
         0.31872475847554166,
         0.31790735737623665,
         0.3200159311300092,
         0.3181704371257878,
         0.3188790377563142,
         0.3191968092015611,
         0.3172842281126077,
         0.3169692449132219,
         0.3179750241433489,
         0.31964247035695126,
         0.3196081331204771,
         0.318685490424011,
         0.3196523020571491,
         0.3184451815880074,
         0.31990560719592576,
         0.31926393216321547,
         0.3164393509373498,
         0.32074802542483855,
         0.31939407329457453,
         0.3190302236462069,
         0.319212651074677,
         0.318193753544935,
         0.3204502096380666,
         0.31864607039992066,
         0.31737266875316905,
         0.31770793057401914,
         0.31772454697501834,
         0.3184196453015182,
         0.31726696294076956,
         0.31960068887914705,
         0.3185229299932428,
         0.3189023130492853,
         0.3183216005969562,
         0.3209436239265227,
         0.3194151604895552,
         0.3186995226801247,
         0.3201520564099648
        ],
        [
         0.29911795397307356,
         0.2979150574435206,
         0.2971588968500203,
         0.29792585245826664,
         0.2968542465538371,
         0.29692136123776436,
         0.2996497184184252,
         0.29837411795468893,
         0.2973215631848457,
         0.2980754611392816,
         0.29726167877807336,
         0.29762624342944105,
         0.29590510715748747,
         0.2983505317539561,
         0.2978040014265799,
         0.29808391141248686,
         0.2986290696643147,
         0.298858802619518,
         0.2973836382084033,
         0.2965898409339727,
         0.2984651121876988,
         0.2977570918406926,
         0.29916060095032054,
         0.29826877404953916,
         0.29753745953534166,
         0.2974024329553632,
         0.29742243966343357,
         0.29773327876247613,
         0.29807717623371704,
         0.2980232332997462,
         0.2976679717939274,
         0.2973064141092347,
         0.29773467465066444,
         0.2975826730184695,
         0.2985905311709526,
         0.29903920878674467,
         0.29795728864915233,
         0.2981226304728611,
         0.29833264334821236,
         0.29923584085761334,
         0.2976354986575304,
         0.2966638684418856,
         0.2981082797780925,
         0.29676607784395126,
         0.29835036667246445,
         0.2980861717141142,
         0.2975912721571969,
         0.29720396891820666,
         0.2971646498669596,
         0.29860280388418364,
         0.29740063458973287,
         0.298494723132428,
         0.2981896905191973,
         0.29794635397254254,
         0.2981683805438818,
         0.2991502582296437,
         0.2979014122164717,
         0.2984403283426575,
         0.29804080249924286,
         0.2973746332321681,
         0.29755289246346434,
         0.296560154314719,
         0.29715141150004726,
         0.29836610361349347,
         0.29678793273427906,
         0.2975282623049091,
         0.2967317537495903,
         0.2973547930664876,
         0.29686227944843907,
         0.2969168010441696,
         0.29631877449505467,
         0.29751692617348596,
         0.29721705695869877,
         0.298599422635401,
         0.2972228126052548,
         0.2980282003534775,
         0.2977506088129446,
         0.29901307185783105,
         0.2978344054929182,
         0.29697174396292836,
         0.2990819026588225,
         0.29798689024413333,
         0.29681646539007916,
         0.2985040722962688,
         0.2972534077570719,
         0.2994510625653407,
         0.29755713009074625,
         0.29674261961789694,
         0.2979555272442453,
         0.2963899433174554,
         0.2967870808845642,
         0.2978140665766071,
         0.29723090335142377,
         0.29809122583737563,
         0.29842567772549744,
         0.2972625440680513,
         0.29761409503864306,
         0.296885426649276,
         0.29734859111554485,
         0.2983788138657224
        ],
        [
         30.510031305253506,
         30.3873358592391,
         30.31020747870207,
         30.3884369507432,
         30.279133148491383,
         30.285978846251965,
         30.56427127867937,
         30.43416003137827,
         30.32679944485426,
         30.403697036206722,
         30.320691235363483,
         30.35787682980299,
         30.182320930063725,
         30.431754238903522,
         30.37600814551115,
         30.404558964073658,
         30.460165105760098,
         30.483597867190838,
         30.333131097257137,
         30.252163775265217,
         30.443441443145275,
         30.371223367750645,
         30.514381296932697,
         30.423414953052998,
         30.348820872604847,
         30.335048161447048,
         30.337088845670223,
         30.368794433772564,
         30.403871975839138,
         30.398369796574116,
         30.362133122980595,
         30.32525423914194,
         30.36893681436777,
         30.353432647883892,
         30.45623417943716,
         30.50199929624796,
         30.391643442213535,
         30.40850830823183,
         30.42992962151766,
         30.52205576747656,
         30.358820863068104,
         30.25971458107233,
         30.407044537365437,
         30.270139940083027,
         30.431737400591373,
         30.40478951483965,
         30.354309760034084,
         30.314804829657078,
         30.310794286429882,
         30.457485996186733,
         30.334864728152752,
         30.446461759507656,
         30.415348432958126,
         30.390528105199337,
         30.41317481547594,
         30.513326339423656,
         30.385944046080112,
         30.44091349095106,
         30.40016185492277,
         30.33221258968115,
         30.350395031273365,
         30.249135740101337,
         30.309443973004818,
         30.433342568576336,
         30.272369138896465,
         30.347882755100727,
         30.26663888245821,
         30.330188892781734,
         30.279952503740788,
         30.2855137065053,
         30.22451499849558,
         30.346726469695568,
         30.316139809787273,
         30.4571411088109,
         30.31672688573599,
         30.398876436054707,
         30.370562098920345,
         30.499333329498768,
         30.379109360277653,
         30.291117884218693,
         30.506354071199894,
         30.3946628049016,
         30.275279469788074,
         30.447415374219418,
         30.319847591221333,
         30.544008381664753,
         30.350827269256115,
         30.267747201025486,
         30.39146377891302,
         30.23177421838045,
         30.272282250225544,
         30.377034790813923,
         30.317552141845226,
         30.40530503541231,
         30.439419128000736,
         30.320779494941235,
         30.356637693941593,
         30.282313518226147,
         30.329556293785572,
         30.434639014303684
        ],
        [
         5.714427478900362,
         5.700297840728701,
         5.685592250145867,
         5.707659044078353,
         5.6943504986761875,
         5.714866165642048,
         5.710942721767835,
         5.701266395490088,
         5.702372988030009,
         5.719005992023532,
         5.705058475642889,
         5.693878367986172,
         5.688911351489277,
         5.700536687446399,
         5.704964653529247,
         5.7131261058230995,
         5.710424384805088,
         5.7168229750148205,
         5.705528395804272,
         5.683035661802794,
         5.709468467194417,
         5.71111168375074,
         5.711951966270128,
         5.7103910412673695,
         5.701032131823781,
         5.709128086187726,
         5.695585431590144,
         5.682312049864692,
         5.711509345320323,
         5.698189299951284,
         5.693821831936996,
         5.699354314426222,
         5.698874820476841,
         5.69184859755134,
         5.7029046324730395,
         5.7095006471282534,
         5.693539424103809,
         5.702003335447706,
         5.710925277179782,
         5.726861002427666,
         5.694039666813228,
         5.693994120870979,
         5.706077321628344,
         5.69984891804094,
         5.706289493175948,
         5.7166897428419965,
         5.70769963655014,
         5.6936252636405795,
         5.692233738508784,
         5.701433475376341,
         5.698074941726921,
         5.710786389392265,
         5.7082715275418865,
         5.693200316625533,
         5.70086328756047,
         5.722150609259454,
         5.711087085229578,
         5.7152082734101155,
         5.7128316671892705,
         5.698733835806188,
         5.7046644522388945,
         5.703069747887727,
         5.691363874219155,
         5.701747571096536,
         5.6944315302210935,
         5.7132849548452365,
         5.6967872162149735,
         5.703127374620354,
         5.705968326109008,
         5.6888479736661965,
         5.686023477013495,
         5.695037529518272,
         5.709950260414624,
         5.709643559653148,
         5.7013963222397654,
         5.710038074288928,
         5.699246311748314,
         5.712300056368225,
         5.706568240251577,
         5.6812686783507855,
         5.719816307656526,
         5.707731202154373,
         5.704479188489787,
         5.70610991916709,
         5.69699595063779,
         5.717160255151397,
         5.701043692236704,
         5.6896407806489195,
         5.692645160077163,
         5.6927940232764325,
         5.6990177943883324,
         5.688693190879474,
         5.709577065393986,
         5.699942004907661,
         5.703335509246068,
         5.698140333555284,
         5.72156007051445,
         5.707919618384147,
         5.701521841874564,
         5.714499956585563
        ]
       ],
       "encoder": "json",
       "name": "ABC_GAN_1 Metrics",
       "version": 1
      }
     },
     "metadata": {
      "scrapbook": {
       "data": true,
       "display": false,
       "name": "ABC_GAN_1 Metrics"
      }
     },
     "output_type": "display_data"
    },
    {
     "name": "stdout",
     "output_type": "stream",
     "text": [
      "MAE\n",
      "0.2977636756002903\n"
     ]
    }
   ],
   "source": [
    "ABC_GAN1_metrics=ABC_train_test2.test_generator(gen,test_data,prior_model,variance,bias,\"1\",device)\n",
    "sb.glue(\"ABC_GAN_1 Metrics\",ABC_GAN1_metrics)\n",
    "\n",
    "print(\"MAE\")\n",
    "print(mean(ABC_GAN1_metrics[1]))"
   ]
  },
  {
   "cell_type": "code",
   "execution_count": 14,
   "id": "eb22ce5c",
   "metadata": {
    "execution": {
     "iopub.execute_input": "2022-07-22T12:00:10.716181Z",
     "iopub.status.busy": "2022-07-22T12:00:10.715563Z",
     "iopub.status.idle": "2022-07-22T12:00:11.768136Z",
     "shell.execute_reply": "2022-07-22T12:00:11.752860Z"
    },
    "papermill": {
     "duration": 1.105016,
     "end_time": "2022-07-22T12:00:11.780863",
     "exception": false,
     "start_time": "2022-07-22T12:00:10.675847",
     "status": "completed"
    },
    "tags": []
   },
   "outputs": [
    {
     "data": {
      "image/png": "[encoded data removed]",
      "text/plain": [
       "<Figure size 432x288 with 1 Axes>"
      ]
     },
     "metadata": {
      "needs_background": "light"
     },
     "output_type": "display_data"
    },
    {
     "data": {
      "image/png": "[encoded data removed]",
      "text/plain": [
       "<Figure size 432x288 with 1 Axes>"
      ]
     },
     "metadata": {
      "needs_background": "light"
     },
     "output_type": "display_data"
    },
    {
     "data": {
      "image/png": "[encoded data removed]",
      "text/plain": [
       "<Figure size 432x288 with 1 Axes>"
      ]
     },
     "metadata": {
      "needs_background": "light"
     },
     "output_type": "display_data"
    },
    {
     "data": {
      "image/png": "[encoded data removed]",
      "text/plain": [
       "<Figure size 432x288 with 1 Axes>"
      ]
     },
     "metadata": {
      "needs_background": "light"
     },
     "output_type": "display_data"
    }
   ],
   "source": [
    "sanityChecks.discProbVsError(train_data,disc,device)\n",
    "sanityChecks.discProbVsError(test_data,disc,device)"
   ]
  },
  {
   "cell_type": "markdown",
   "id": "e19b5b09",
   "metadata": {
    "papermill": {
     "duration": 0.034974,
     "end_time": "2022-07-22T12:00:11.849694",
     "exception": false,
     "start_time": "2022-07-22T12:00:11.814720",
     "status": "completed"
    },
    "tags": []
   },
   "source": [
    "# mGAN Model with TabNet Generator"
   ]
  },
  {
   "cell_type": "code",
   "execution_count": 15,
   "id": "88762983",
   "metadata": {
    "execution": {
     "iopub.execute_input": "2022-07-22T12:00:11.938811Z",
     "iopub.status.busy": "2022-07-22T12:00:11.938305Z",
     "iopub.status.idle": "2022-07-22T12:00:11.957988Z",
     "shell.execute_reply": "2022-07-22T12:00:11.955987Z"
    },
    "papermill": {
     "duration": 0.110055,
     "end_time": "2022-07-22T12:00:11.992492",
     "exception": false,
     "start_time": "2022-07-22T12:00:11.882437",
     "status": "completed"
    },
    "tags": []
   },
   "outputs": [],
   "source": [
    "gen2 = network.GeneratorTabnet(n_features+1).to(device)\n",
    "disc2 = network.Discriminator(n_features+1).to(device)\n",
    "\n",
    "criterion = torch.nn.BCELoss()\n",
    "gen_opt = torch.optim.Adam(gen2.parameters(), lr=0.01, betas=(0.5, 0.999))\n",
    "disc_opt = torch.optim.Adam(disc2.parameters(), lr=0.01, betas=(0.5, 0.999))"
   ]
  },
  {
   "cell_type": "code",
   "execution_count": 16,
   "id": "1c4bfbec",
   "metadata": {
    "execution": {
     "iopub.execute_input": "2022-07-22T12:00:12.099902Z",
     "iopub.status.busy": "2022-07-22T12:00:12.096677Z",
     "iopub.status.idle": "2022-07-22T12:11:29.719939Z",
     "shell.execute_reply": "2022-07-22T12:11:29.718230Z"
    },
    "papermill": {
     "duration": 677.694622,
     "end_time": "2022-07-22T12:11:29.724839",
     "exception": false,
     "start_time": "2022-07-22T12:00:12.030217",
     "status": "completed"
    },
    "tags": []
   },
   "outputs": [
    {
     "data": {
      "image/png": "[encoded data removed]",
      "text/plain": [
       "<Figure size 432x288 with 1 Axes>"
      ]
     },
     "metadata": {
      "needs_background": "light"
     },
     "output_type": "display_data"
    },
    {
     "data": {
      "image/png": "[encoded data removed]",
      "text/plain": [
       "<Figure size 432x288 with 1 Axes>"
      ]
     },
     "metadata": {
      "needs_background": "light"
     },
     "output_type": "display_data"
    }
   ],
   "source": [
    "#Training the ABC_GAN \n",
    "ABC_train_test2.training_GAN(disc2,gen2,disc_opt,gen_opt,train_data,batch_size,n_epochs,criterion,prior_model,variance,bias,device)"
   ]
  },
  {
   "cell_type": "code",
   "execution_count": 17,
   "id": "a3687106",
   "metadata": {
    "execution": {
     "iopub.execute_input": "2022-07-22T12:11:29.818927Z",
     "iopub.status.busy": "2022-07-22T12:11:29.817568Z",
     "iopub.status.idle": "2022-07-22T12:11:33.846607Z",
     "shell.execute_reply": "2022-07-22T12:11:33.840001Z"
    },
    "papermill": {
     "duration": 4.127863,
     "end_time": "2022-07-22T12:11:33.889342",
     "exception": false,
     "start_time": "2022-07-22T12:11:29.761479",
     "status": "completed"
    },
    "tags": []
   },
   "outputs": [
    {
     "data": {
      "application/scrapbook.scrap.json+json": {
       "data": 0.2796442570067199,
       "encoder": "json",
       "name": "ABC-GAN Model 1 MSE",
       "version": 1
      }
     },
     "metadata": {
      "scrapbook": {
       "data": true,
       "display": false,
       "name": "ABC-GAN Model 1 MSE"
      }
     },
     "output_type": "display_data"
    },
    {
     "data": {
      "application/scrapbook.scrap.json+json": {
       "data": 0.24595667857676745,
       "encoder": "json",
       "name": "ABC-GAN Model 1 MAE",
       "version": 1
      }
     },
     "metadata": {
      "scrapbook": {
       "data": true,
       "display": false,
       "name": "ABC-GAN Model 1 MAE"
      }
     },
     "output_type": "display_data"
    },
    {
     "data": {
      "application/scrapbook.scrap.json+json": {
       "data": 25.08758121483028,
       "encoder": "json",
       "name": "ABC-GAN Model 1 Manhattan Distance",
       "version": 1
      }
     },
     "metadata": {
      "scrapbook": {
       "data": true,
       "display": false,
       "name": "ABC-GAN Model 1 Manhattan Distance"
      }
     },
     "output_type": "display_data"
    },
    {
     "data": {
      "application/scrapbook.scrap.json+json": {
       "data": 5.3407468444355555,
       "encoder": "json",
       "name": "ABC-GAN Model 1 Euclidean distance",
       "version": 1
      }
     },
     "metadata": {
      "scrapbook": {
       "data": true,
       "display": false,
       "name": "ABC-GAN Model 1 Euclidean distance"
      }
     },
     "output_type": "display_data"
    },
    {
     "data": {
      "application/scrapbook.scrap.json+json": {
       "data": [
        [
         0.27840242872049964,
         0.27710239236782497,
         0.2796178465357416,
         0.28043021049106837,
         0.27948281270917197,
         0.27875247756899013,
         0.27882647829026425,
         0.2787571314125009,
         0.2800074340954718,
         0.2788727836917828,
         0.2799440278174909,
         0.27795126925343705,
         0.2774497068019275,
         0.2779014088619581,
         0.2801360347279416,
         0.28115248651890345,
         0.2793386905612889,
         0.2815434328665092,
         0.27804453094159587,
         0.2779283194751225,
         0.27978816927782707,
         0.2763781296638071,
         0.28127913968239115,
         0.2776831426930817,
         0.2787419278399265,
         0.27870587871539276,
         0.27960743679890876,
         0.27866408228582296,
         0.28185684940020245,
         0.27932662795091323,
         0.28092415938882087,
         0.2800514934817339,
         0.2810595556846868,
         0.2779563070503135,
         0.27920113942673364,
         0.27968168639798313,
         0.2800028929512995,
         0.2785698369322077,
         0.27876553764624235,
         0.28127678066458267,
         0.2814265923464102,
         0.2799621276427831,
         0.2814516202870937,
         0.2804473103310741,
         0.28030507514651254,
         0.27848422079039437,
         0.28025882704261873,
         0.27864706398351,
         0.2784012450323556,
         0.2790827233542141,
         0.2783273353179858,
         0.28001226882015,
         0.2796608053961924,
         0.2818030115962776,
         0.2816254168785626,
         0.28017638731364236,
         0.2801609007034489,
         0.2792025732841354,
         0.2770501484025754,
         0.28119633948990946,
         0.2795250007285749,
         0.2809382017672253,
         0.2802138767675257,
         0.2790500239992743,
         0.27852678573181666,
         0.28086554730606195,
         0.280261926340557,
         0.28120643738574286,
         0.2805450704728663,
         0.27915542118595105,
         0.2787965010509472,
         0.28083710174583937,
         0.27990115737275784,
         0.27895619723475285,
         0.27895238269459555,
         0.27847858893828037,
         0.2810588135369301,
         0.28064445668856863,
         0.2790026557416722,
         0.2824824720367502,
         0.2796219762098149,
         0.27788115189447904,
         0.28004386556972,
         0.27940626886787107,
         0.27897399912219023,
         0.2795547481426212,
         0.2818498547826124,
         0.28072936878481286,
         0.28239754433632974,
         0.2804310564766221,
         0.2803336002095863,
         0.2785280527943788,
         0.2802369554725787,
         0.2788278867680725,
         0.27999428238903273,
         0.2796791964323362,
         0.2785503142540066,
         0.2801067773994394,
         0.27919863185837956,
         0.27983687937819934
        ],
        [
         0.24686259991836315,
         0.2458639752631094,
         0.24511109842170103,
         0.24470635116392492,
         0.2455688260276528,
         0.2464047053865358,
         0.24552724053900615,
         0.2473076705766075,
         0.2460848477796889,
         0.24471541121602058,
         0.24562300759933742,
         0.2457127582062693,
         0.2455783902357022,
         0.24524400772198157,
         0.24591540614617804,
         0.24563860951685437,
         0.24659812665891415,
         0.24622421393937924,
         0.24609089425454536,
         0.24417462079402277,
         0.24576823891816185,
         0.2453386107021395,
         0.24641491240803517,
         0.24535472572361136,
         0.2461592283684249,
         0.24568582976273462,
         0.24594371066446982,
         0.2449039230670999,
         0.24638051083128826,
         0.2442673072949344,
         0.2468975368960231,
         0.24576243279757454,
         0.24589254330916732,
         0.24633671427328213,
         0.2461369874357593,
         0.2450979326066433,
         0.2470262958394254,
         0.24561346033770665,
         0.24691858157223345,
         0.2468251822260665,
         0.2471128073977489,
         0.24720040434861884,
         0.2466676257842896,
         0.2468335964150873,
         0.24609576253330007,
         0.24610273410365277,
         0.24668874849072275,
         0.2461278216146371,
         0.2460017839227529,
         0.24587066161135832,
         0.24450278081292032,
         0.24584607235795142,
         0.24535086944553197,
         0.24620342208985604,
         0.24692406373865464,
         0.24568666178075707,
         0.2454735897846666,
         0.24625038174802766,
         0.24575416192266286,
         0.24543472985718764,
         0.2470243946813485,
         0.2463969474329668,
         0.24560772481502272,
         0.24623996614679403,
         0.24557800711516073,
         0.24679224047006346,
         0.2462337499886167,
         0.24729994801329633,
         0.24664458238026676,
         0.2458244328405343,
         0.24598005205831108,
         0.2469813253219221,
         0.24506627927150795,
         0.24571233439971418,
         0.24542022361328789,
         0.24599001319238953,
         0.2452698184140757,
         0.24694912314561068,
         0.24594910132388273,
         0.24656408391527684,
         0.24611463620528287,
         0.24465318361991176,
         0.24574811038944652,
         0.24577523749686925,
         0.24422171467221251,
         0.24447948925708438,
         0.24670177548393316,
         0.24624455292873523,
         0.24698820628006668,
         0.2465400690139801,
         0.2476866110136696,
         0.2453312022136707,
         0.24645958205356316,
         0.24611889289728567,
         0.24578752207989787,
         0.24575590670985334,
         0.24571766879628687,
         0.24552335336293077,
         0.24485754802384796,
         0.2456321404772062
        ],
        [
         25.17998519167304,
         25.078125476837158,
         25.001332039013505,
         24.96004781872034,
         25.048020254820585,
         25.13327994942665,
         25.043778534978628,
         25.225382398813963,
         25.100654473528266,
         24.9609719440341,
         25.053546775132418,
         25.06270133703947,
         25.048995804041624,
         25.01488878764212,
         25.083371426910162,
         25.055138170719147,
         25.153008919209242,
         25.114869821816683,
         25.101271213963628,
         24.905811320990324,
         25.06836036965251,
         25.024538291618228,
         25.134321065619588,
         25.02618202380836,
         25.10824129357934,
         25.05995463579893,
         25.086258487775922,
         24.98020015284419,
         25.130812104791403,
         24.91526534408331,
         25.183548763394356,
         25.067768145352602,
         25.081039417535067,
         25.126344855874777,
         25.105972718447447,
         24.99998912587762,
         25.19668217562139,
         25.052572954446077,
         25.185695320367813,
         25.176168587058783,
         25.20550635457039,
         25.214441243559122,
         25.16009782999754,
         25.177026834338903,
         25.101767778396606,
         25.102478878572583,
         25.16225234605372,
         25.105037804692984,
         25.092181960120797,
         25.07880748435855,
         24.93928364291787,
         25.076299380511045,
         25.02578868344426,
         25.112749053165317,
         25.186254501342773,
         25.06003950163722,
         25.038306158035994,
         25.11753893829882,
         25.066924516111612,
         25.03434244543314,
         25.19648825749755,
         25.132488638162613,
         25.051987931132317,
         25.11647654697299,
         25.048956725746393,
         25.172808527946472,
         25.1158424988389,
         25.224594697356224,
         25.15774740278721,
         25.074092149734497,
         25.08996530994773,
         25.192095182836056,
         24.996760485693812,
         25.062658108770847,
         25.032862808555365,
         25.09098134562373,
         25.01752147823572,
         25.18881056085229,
         25.08680833503604,
         25.14953655935824,
         25.103692892938852,
         24.954624729231,
         25.066307259723544,
         25.069074224680662,
         24.910614896565676,
         24.936907904222608,
         25.16358109936118,
         25.116944398730993,
         25.192797040566802,
         25.14708703942597,
         25.2640343233943,
         25.02378262579441,
         25.138877369463444,
         25.104127075523138,
         25.070327252149582,
         25.06710248440504,
         25.06320221722126,
         25.043382043018937,
         24.975469898432493,
         25.05447832867503
        ],
        [
         5.328888038746072,
         5.316431511974752,
         5.340507498978505,
         5.348259667414156,
         5.339217816903103,
         5.332237120762447,
         5.332944851168719,
         5.332281632104131,
         5.344226630461897,
         5.333387660442643,
         5.343621509555487,
         5.324568476773548,
         5.319762221546807,
         5.3240908805090585,
         5.345453726509103,
         5.355142726849412,
         5.337840990255467,
         5.358864632772873,
         5.325461684778398,
         5.324348653728688,
         5.342133774657685,
         5.309479185919116,
         5.35634877949559,
         5.321999676314753,
         5.332136217284074,
         5.331791408989108,
         5.340408088665948,
         5.3313916000565875,
         5.361846569869437,
         5.337725737708256,
         5.352967799049395,
         5.344647073019589,
         5.3542576217285305,
         5.324616729787411,
         5.336526606466686,
         5.341117112795252,
         5.34418329410889,
         5.330489974391209,
         5.332362031962639,
         5.356326318269587,
         5.357752553014541,
         5.34379425310929,
         5.357990786599353,
         5.348422725792115,
         5.34706626711735,
         5.329670770377868,
         5.3466251372568765,
         5.3312288007848645,
         5.328876710273964,
         5.335394810333143,
         5.328169310601396,
         5.344272768081295,
         5.340917725486101,
         5.361334459145438,
         5.3596448130089165,
         5.34583870931321,
         5.34569096298615,
         5.336540309505946,
         5.3159303171752255,
         5.355560346777055,
         5.339620780010003,
         5.353101585086629,
         5.346196351639885,
         5.335082234410823,
         5.330078061777829,
         5.352409347688041,
         5.346654700533485,
         5.355656506288073,
         5.34935483850458,
         5.336089669502098,
         5.332658165230228,
         5.352138299602844,
         5.343212334543828,
         5.334185234686249,
         5.334148763846837,
         5.3296168785105555,
         5.3542505526699875,
         5.350302288864995,
         5.334629404715061,
         5.367793974040781,
         5.340546935792355,
         5.323896833451683,
         5.344574285021347,
         5.338486623053658,
         5.33435543533269,
         5.339904897144458,
         5.361780039112614,
         5.351111624331052,
         5.366987005975106,
         5.348267734567469,
         5.347338330550799,
         5.330090185449645,
         5.346416506240701,
         5.332958320701878,
         5.344101122142183,
         5.341093337145335,
         5.330303185927483,
         5.345174580380216,
         5.33650264213883,
         5.34259877742811
        ]
       ],
       "encoder": "json",
       "name": "ABC_GAN_2 Metrics",
       "version": 1
      }
     },
     "metadata": {
      "scrapbook": {
       "data": true,
       "display": false,
       "name": "ABC_GAN_2 Metrics"
      }
     },
     "output_type": "display_data"
    },
    {
     "name": "stdout",
     "output_type": "stream",
     "text": [
      "MAE\n",
      "0.24595667857676745\n"
     ]
    }
   ],
   "source": [
    "ABC_GAN2_metrics=ABC_train_test2.test_generator(gen2,test_data,prior_model,variance,bias,\"1\",device)\n",
    "sb.glue(\"ABC_GAN_2 Metrics\",ABC_GAN2_metrics)\n",
    "\n",
    "print(\"MAE\")\n",
    "print(mean(ABC_GAN2_metrics[1]))"
   ]
  },
  {
   "cell_type": "code",
   "execution_count": 18,
   "id": "9282c193",
   "metadata": {
    "execution": {
     "iopub.execute_input": "2022-07-22T12:11:33.980989Z",
     "iopub.status.busy": "2022-07-22T12:11:33.980535Z",
     "iopub.status.idle": "2022-07-22T12:11:35.499416Z",
     "shell.execute_reply": "2022-07-22T12:11:35.498408Z"
    },
    "papermill": {
     "duration": 1.577725,
     "end_time": "2022-07-22T12:11:35.502141",
     "exception": false,
     "start_time": "2022-07-22T12:11:33.924416",
     "status": "completed"
    },
    "tags": []
   },
   "outputs": [
    {
     "data": {
      "image/png": "[encoded data removed]",
      "text/plain": [
       "<Figure size 432x288 with 1 Axes>"
      ]
     },
     "metadata": {
      "needs_background": "light"
     },
     "output_type": "display_data"
    },
    {
     "data": {
      "image/png": "[encoded data removed]",
      "text/plain": [
       "<Figure size 432x288 with 1 Axes>"
      ]
     },
     "metadata": {
      "needs_background": "light"
     },
     "output_type": "display_data"
    },
    {
     "data": {
      "image/png": "[encoded data removed]",
      "text/plain": [
       "<Figure size 432x288 with 1 Axes>"
      ]
     },
     "metadata": {
      "needs_background": "light"
     },
     "output_type": "display_data"
    },
    {
     "data": {
      "image/png": "[encoded data removed]",
      "text/plain": [
       "<Figure size 432x288 with 1 Axes>"
      ]
     },
     "metadata": {
      "needs_background": "light"
     },
     "output_type": "display_data"
    }
   ],
   "source": [
    "sanityChecks.discProbVsError(train_data,disc2,device)\n",
    "sanityChecks.discProbVsError(test_data,disc2,device)"
   ]
  },
  {
   "cell_type": "markdown",
   "id": "130f3a4d",
   "metadata": {
    "id": "130f3a4d",
    "papermill": {
     "duration": 0.037614,
     "end_time": "2022-07-22T12:11:35.580693",
     "exception": false,
     "start_time": "2022-07-22T12:11:35.543079",
     "status": "completed"
    },
    "tags": []
   },
   "source": [
    "# skipGAN Model"
   ]
  },
  {
   "cell_type": "code",
   "execution_count": 19,
   "id": "4e43dad1",
   "metadata": {
    "execution": {
     "iopub.execute_input": "2022-07-22T12:11:35.659393Z",
     "iopub.status.busy": "2022-07-22T12:11:35.658813Z",
     "iopub.status.idle": "2022-07-22T12:11:35.668218Z",
     "shell.execute_reply": "2022-07-22T12:11:35.667419Z"
    },
    "id": "4e43dad1",
    "papermill": {
     "duration": 0.05107,
     "end_time": "2022-07-22T12:11:35.670823",
     "exception": false,
     "start_time": "2022-07-22T12:11:35.619753",
     "status": "completed"
    },
    "tags": []
   },
   "outputs": [],
   "source": [
    "#Generator\n",
    "gen3 = network.GeneratorWithSkipConnection(n_features+1).to(device)\n",
    "constraints=network.weightConstraint()\n",
    "#Discriminator \n",
    "disc3 = network.Discriminator(n_features+1).to(device)\n",
    "\n",
    "criterion = torch.nn.BCELoss()\n",
    "gen_opt = torch.optim.Adam(gen3.parameters(), lr=0.01, betas=(0.5, 0.999))\n",
    "disc_opt = torch.optim.Adam(disc3.parameters(), lr=0.01, betas=(0.5, 0.999))\n"
   ]
  },
  {
   "cell_type": "code",
   "execution_count": 20,
   "id": "26acbc37",
   "metadata": {
    "execution": {
     "iopub.execute_input": "2022-07-22T12:11:35.759482Z",
     "iopub.status.busy": "2022-07-22T12:11:35.758559Z",
     "iopub.status.idle": "2022-07-22T12:18:08.864231Z",
     "shell.execute_reply": "2022-07-22T12:18:08.863260Z"
    },
    "id": "26acbc37",
    "papermill": {
     "duration": 393.159498,
     "end_time": "2022-07-22T12:18:08.868273",
     "exception": false,
     "start_time": "2022-07-22T12:11:35.708775",
     "status": "completed"
    },
    "tags": []
   },
   "outputs": [
    {
     "data": {
      "image/png": "[encoded data removed]",
      "text/plain": [
       "<Figure size 432x288 with 1 Axes>"
      ]
     },
     "metadata": {
      "needs_background": "light"
     },
     "output_type": "display_data"
    },
    {
     "data": {
      "image/png": "[encoded data removed]",
      "text/plain": [
       "<Figure size 432x288 with 1 Axes>"
      ]
     },
     "metadata": {
      "needs_background": "light"
     },
     "output_type": "display_data"
    }
   ],
   "source": [
    "ABC_train_test2.training_GAN_skip_connection(disc3,gen3,disc_opt,gen_opt,train_data,batch_size,n_epochs,criterion,prior_model,variance,bias,device)"
   ]
  },
  {
   "cell_type": "code",
   "execution_count": 21,
   "id": "c5e0717b",
   "metadata": {
    "execution": {
     "iopub.execute_input": "2022-07-22T12:18:08.963211Z",
     "iopub.status.busy": "2022-07-22T12:18:08.962675Z",
     "iopub.status.idle": "2022-07-22T12:18:13.062328Z",
     "shell.execute_reply": "2022-07-22T12:18:13.052920Z"
    },
    "id": "c5e0717b",
    "papermill": {
     "duration": 4.170986,
     "end_time": "2022-07-22T12:18:13.080308",
     "exception": false,
     "start_time": "2022-07-22T12:18:08.909322",
     "status": "completed"
    },
    "tags": []
   },
   "outputs": [
    {
     "data": {
      "application/scrapbook.scrap.json+json": {
       "data": 320178.34127276693,
       "encoder": "json",
       "name": "ABC-GAN Model 3 MSE",
       "version": 1
      }
     },
     "metadata": {
      "scrapbook": {
       "data": true,
       "display": false,
       "name": "ABC-GAN Model 3 MSE"
      }
     },
     "output_type": "display_data"
    },
    {
     "data": {
      "application/scrapbook.scrap.json+json": {
       "data": 527.848286003913,
       "encoder": "json",
       "name": "ABC-GAN Model 3 MAE",
       "version": 1
      }
     },
     "metadata": {
      "scrapbook": {
       "data": true,
       "display": false,
       "name": "ABC-GAN Model 3 MAE"
      }
     },
     "output_type": "display_data"
    },
    {
     "data": {
      "application/scrapbook.scrap.json+json": {
       "data": 53840.52517239913,
       "encoder": "json",
       "name": "ABC-GAN Model 3 Manhattan Distance",
       "version": 1
      }
     },
     "metadata": {
      "scrapbook": {
       "data": true,
       "display": false,
       "name": "ABC-GAN Model 3 Manhattan Distance"
      }
     },
     "output_type": "display_data"
    },
    {
     "data": {
      "application/scrapbook.scrap.json+json": {
       "data": 5714.734500434424,
       "encoder": "json",
       "name": "ABC-GAN Model 3 Euclidean distance",
       "version": 1
      }
     },
     "metadata": {
      "scrapbook": {
       "data": true,
       "display": false,
       "name": "ABC-GAN Model 3 Euclidean distance"
      }
     },
     "output_type": "display_data"
    },
    {
     "data": {
      "application/scrapbook.scrap.json+json": {
       "data": [
        [
         320190.4404715526,
         320169.98234807845,
         320155.6742217136,
         320072.2439785142,
         320154.07564991905,
         320239.61835145426,
         320235.9012976928,
         320270.70341394306,
         320277.3762604831,
         320359.4146735077,
         320082.2305695918,
         320230.5662543995,
         320195.29104498145,
         320098.2285214485,
         320140.95676744526,
         320207.60450351506,
         320168.2162021101,
         320140.26990207814,
         320163.3909312484,
         320125.4293046855,
         320195.5289325181,
         320143.7810680726,
         320198.8348259692,
         320148.54176881845,
         320046.9489716948,
         320159.8300302857,
         320208.4018429922,
         320117.5038408274,
         320041.61224937945,
         320084.2961321166,
         320126.5189481306,
         320125.4360392873,
         320027.3032196179,
         320245.3412490204,
         320232.0837815375,
         320194.3993827408,
         320180.51559253846,
         320198.72572672757,
         320184.84466047346,
         320324.48088465317,
         320236.3349538444,
         320233.57744299097,
         320076.61139512656,
         320209.37709514255,
         320273.99063463847,
         320165.1554439437,
         320191.2234446115,
         320317.9260969655,
         320129.2462318433,
         320094.59075689793,
         320282.683144222,
         320190.0675042855,
         320204.6279486775,
         320160.628643185,
         320256.70008538524,
         320091.7674268078,
         320208.25816195854,
         320111.51685239177,
         320183.4595503639,
         320225.18322289083,
         320191.2678905206,
         320201.0410093659,
         320030.1294129433,
         320223.72683790105,
         320192.42278989195,
         320275.8020949675,
         320186.6183066348,
         320144.69756595715,
         320306.93172319,
         320094.50861980626,
         320129.02728088805,
         320334.49409341946,
         320195.2340270804,
         320125.6049193002,
         320043.6038294043,
         320122.76426742336,
         320103.4453198463,
         320252.36396054004,
         320232.79907668196,
         320150.2361675166,
         320202.1878546817,
         320259.6268075217,
         320249.28873971826,
         320182.0825537544,
         320220.45499728684,
         319993.0019816906,
         320092.14289507794,
         320156.01767380285,
         320176.5424012439,
         320223.8536561624,
         320194.8989085003,
         320153.28510974214,
         320156.9312669239,
         320209.59637040354,
         320288.9848022322,
         320150.18361636414,
         320193.10390979185,
         320107.23675885814,
         320168.5162258673,
         320214.00170185143
        ],
        [
         527.8247517317752,
         527.8456325618295,
         527.8436712838491,
         527.7523590997957,
         527.8267987282472,
         527.8987095864015,
         527.8873604880463,
         527.9474716647802,
         527.9162990058973,
         528.0144857980092,
         527.7751929052539,
         527.8778084860932,
         527.8505482854431,
         527.761712961885,
         527.8231282414978,
         527.8677748599108,
         527.857447202847,
         527.8458362367443,
         527.8539823357601,
         527.791570896575,
         527.8210488574981,
         527.8222551246118,
         527.8971762276967,
         527.8180549933264,
         527.7342146044488,
         527.842284155206,
         527.8845137515124,
         527.7749054565953,
         527.7006487092186,
         527.7888455571716,
         527.7949347115834,
         527.7861503613565,
         527.70549322515,
         527.9132337844474,
         527.9007262896893,
         527.8280109044018,
         527.8326708189047,
         527.8350416906543,
         527.8505739411522,
         527.9719016592511,
         527.9161981034148,
         527.9130048278134,
         527.7389941957287,
         527.8885925604651,
         527.937467882994,
         527.8392522188598,
         527.8471496145734,
         527.9721055585599,
         527.7974277284435,
         527.770906980679,
         527.9511021346073,
         527.8652506522907,
         527.8634876637701,
         527.847567361323,
         527.9081423603656,
         527.8069496616064,
         527.8791685378653,
         527.7969007766349,
         527.8828133689057,
         527.8716416913724,
         527.8475219589458,
         527.8777481241189,
         527.7103813483069,
         527.9058468101875,
         527.8318204406064,
         527.9553502114015,
         527.8553107479843,
         527.8133433934155,
         527.9911919101415,
         527.7772096833397,
         527.8040872174954,
         528.0070060742471,
         527.8677921382455,
         527.7960643855599,
         527.6948813357409,
         527.7667580112158,
         527.7903931274938,
         527.9023291357227,
         527.8984311135011,
         527.8061330919976,
         527.8630112753998,
         527.9209143408008,
         527.9336283527972,
         527.8861662634082,
         527.9018263436635,
         527.68740565107,
         527.75558865242,
         527.8106629328036,
         527.841593620203,
         527.8913893319448,
         527.8760418324713,
         527.8411851484036,
         527.8305152157577,
         527.8799526451485,
         527.9529415666692,
         527.831557376091,
         527.878942199161,
         527.7549041760537,
         527.8462102266723,
         527.88521191591
        ],
        [
         53838.12467664108,
         53840.254521306604,
         53840.0544709526,
         53830.74062817916,
         53838.33347028121,
         53845.66837781295,
         53844.510769780725,
         53850.64210980758,
         53847.462498601526,
         53857.477551396936,
         53833.0696763359,
         53843.53646558151,
         53840.7559251152,
         53831.69472211227,
         53837.959080632776,
         53842.5130357109,
         53841.45961469039,
         53840.27529614791,
         53841.10619824752,
         53834.74023145065,
         53837.74698346481,
         53837.87002271041,
         53845.51197522506,
         53837.4416093193,
         53828.88988965377,
         53839.91298383102,
         53844.22040265426,
         53833.04035657272,
         53825.466168340296,
         53834.46224683151,
         53835.08334058151,
         53834.18733685836,
         53825.960308965296,
         53847.149846013635,
         53845.8740815483,
         53838.45711224899,
         53838.932423528284,
         53839.17425244674,
         53840.75854199752,
         53853.133969243616,
         53847.4522065483,
         53847.126492436975,
         53829.37740796432,
         53844.636441167444,
         53849.62172406539,
         53839.603726323694,
         53840.40926068649,
         53853.15476697311,
         53835.33762830123,
         53832.63251202926,
         53851.012417729944,
         53842.255566533655,
         53842.07574170455,
         53840.451870854944,
         53846.63052075729,
         53836.30886548385,
         53843.67519086227,
         53835.28387921676,
         53844.04696362838,
         53842.90745251998,
         53840.44723981246,
         53843.53030866012,
         53826.45889752731,
         53846.396374639124,
         53838.84568494186,
         53851.44572156295,
         53841.2416962944,
         53836.96102612838,
         53855.101574834436,
         53833.27538770065,
         53836.016896184534,
         53856.714619573206,
         53842.51479810104,
         53835.19856732711,
         53824.87789624557,
         53832.20931714401,
         53834.62009900436,
         53846.03757184371,
         53845.63997357711,
         53836.22557538375,
         53842.027150090784,
         53847.93326276168,
         53849.230091985315,
         53844.38895886764,
         53845.986287053674,
         53824.11537640914,
         53831.07004254684,
         53836.68761914596,
         53839.842549260706,
         53844.92171185836,
         53843.35626691207,
         53839.80088513717,
         53838.71255200729,
         53843.75516980514,
         53851.20003980026,
         53838.81885236129,
         53843.65210431442,
         53831.00022595748,
         53840.31344312057,
         53844.291615422815
        ],
        [
         5714.842511224468,
         5714.659937345703,
         5714.532244253662,
         5713.787612941913,
         5714.517977598088,
         5715.281364189198,
         5715.248195167439,
         5715.558743309546,
         5715.618284890033,
         5716.350260148322,
         5713.876750341958,
         5715.200587726449,
         5714.885798210504,
         5714.019540497544,
         5714.400895131475,
         5714.995683231839,
         5714.644175503426,
         5714.3947649783495,
         5714.601112500096,
         5714.26231363926,
         5714.887921133434,
         5714.426101450905,
         5714.917423047236,
         5714.46858950327,
         5713.561830864603,
         5714.5693331246885,
         5715.002798598195,
         5714.19157814685,
         5713.514194384809,
         5713.895186777221,
         5714.27203873856,
         5714.26237374583,
         5713.386467621549,
         5715.332431923805,
         5715.214129472037,
         5714.877840955094,
         5714.753939623203,
         5714.916449444052,
         5714.792573258305,
         5716.038580191234,
         5715.252064895487,
         5715.227458219409,
         5713.826595400224,
         5715.011501624869,
         5715.588075144422,
         5714.616859885031,
         5714.849498573901,
         5715.980096351848,
         5714.296379752106,
         5713.9870718442835,
         5715.6656375885605,
         5714.839182814955,
         5714.969120718424,
         5714.576460386619,
         5715.433790073095,
         5713.961872250669,
         5715.001516405729,
         5714.1381431449445,
         5714.780212233636,
         5715.152551659044,
         5714.849895214493,
         5714.937111023648,
         5713.411695311324,
         5715.13955537972,
         5714.860201664514,
         5715.604238721107,
         5714.808401624392,
         5714.434280987719,
         5715.881999811174,
         5713.986338732378,
         5714.294425618143,
         5716.127919975968,
         5714.885289379149,
         5714.263881005901,
         5713.53197160909,
         5714.238528034788,
         5714.066102402414,
         5715.395097801646,
         5715.220512440578,
         5714.48371150769,
         5714.94734544226,
         5715.459905761497,
         5715.3676567173925,
         5714.767923589106,
         5715.110358490313,
         5713.080272684118,
         5713.965223493923,
         5714.535309430495,
         5714.718481686293,
         5715.140687063492,
         5714.882298758833,
         5714.510922309424,
         5714.543462887148,
         5715.013458407702,
         5715.721866031244,
         5714.483242504885,
         5714.866280045297,
         5714.09994219593,
         5714.646853046868,
         5715.052770849001
        ]
       ],
       "encoder": "json",
       "name": "ABC_GAN_3 Metrics",
       "version": 1
      }
     },
     "metadata": {
      "scrapbook": {
       "data": true,
       "display": false,
       "name": "ABC_GAN_3 Metrics"
      }
     },
     "output_type": "display_data"
    },
    {
     "name": "stdout",
     "output_type": "stream",
     "text": [
      "MAE\n",
      "527.848286003913\n"
     ]
    }
   ],
   "source": [
    "ABC_GAN3_metrics=ABC_train_test2.test_generator(gen3,test_data,prior_model,variance,bias,\"3\",device)\n",
    "sb.glue(\"ABC_GAN_3 Metrics\",ABC_GAN3_metrics)\n",
    "\n",
    "print(\"MAE\")\n",
    "print(mean(ABC_GAN3_metrics[1]))"
   ]
  },
  {
   "cell_type": "code",
   "execution_count": 22,
   "id": "c8e46b48",
   "metadata": {
    "execution": {
     "iopub.execute_input": "2022-07-22T12:18:13.180415Z",
     "iopub.status.busy": "2022-07-22T12:18:13.179485Z",
     "iopub.status.idle": "2022-07-22T12:18:14.180390Z",
     "shell.execute_reply": "2022-07-22T12:18:14.174269Z"
    },
    "id": "c8e46b48",
    "papermill": {
     "duration": 1.071187,
     "end_time": "2022-07-22T12:18:14.193108",
     "exception": false,
     "start_time": "2022-07-22T12:18:13.121921",
     "status": "completed"
    },
    "tags": []
   },
   "outputs": [
    {
     "data": {
      "image/png": "[encoded data removed]",
      "text/plain": [
       "<Figure size 432x288 with 1 Axes>"
      ]
     },
     "metadata": {
      "needs_background": "light"
     },
     "output_type": "display_data"
    },
    {
     "data": {
      "image/png": "[encoded data removed]",
      "text/plain": [
       "<Figure size 432x288 with 1 Axes>"
      ]
     },
     "metadata": {
      "needs_background": "light"
     },
     "output_type": "display_data"
    },
    {
     "data": {
      "image/png": "[encoded data removed]",
      "text/plain": [
       "<Figure size 432x288 with 1 Axes>"
      ]
     },
     "metadata": {
      "needs_background": "light"
     },
     "output_type": "display_data"
    },
    {
     "data": {
      "image/png": "[encoded data removed]",
      "text/plain": [
       "<Figure size 432x288 with 1 Axes>"
      ]
     },
     "metadata": {
      "needs_background": "light"
     },
     "output_type": "display_data"
    }
   ],
   "source": [
    "sanityChecks.discProbVsError(train_data,disc3,device)\n",
    "sanityChecks.discProbVsError(test_data,disc3,device)"
   ]
  },
  {
   "cell_type": "markdown",
   "id": "e51e7b8e",
   "metadata": {
    "id": "130f3a4d",
    "papermill": {
     "duration": 0.054559,
     "end_time": "2022-07-22T12:18:14.299775",
     "exception": false,
     "start_time": "2022-07-22T12:18:14.245216",
     "status": "completed"
    },
    "tags": []
   },
   "source": [
    "# skipGAN Model with TabNet Generator"
   ]
  },
  {
   "cell_type": "code",
   "execution_count": 23,
   "id": "be63ca87",
   "metadata": {
    "execution": {
     "iopub.execute_input": "2022-07-22T12:18:14.415914Z",
     "iopub.status.busy": "2022-07-22T12:18:14.415524Z",
     "iopub.status.idle": "2022-07-22T12:18:14.433327Z",
     "shell.execute_reply": "2022-07-22T12:18:14.432099Z"
    },
    "id": "4e43dad1",
    "papermill": {
     "duration": 0.079037,
     "end_time": "2022-07-22T12:18:14.435905",
     "exception": false,
     "start_time": "2022-07-22T12:18:14.356868",
     "status": "completed"
    },
    "tags": []
   },
   "outputs": [],
   "source": [
    "#Generator\n",
    "gen4 = network.GeneratorTabnetskipConnection(n_features+1).to(device)\n",
    "constraints=network.weightConstraint()\n",
    "#Discriminator \n",
    "disc4 = network.Discriminator(n_features+1).to(device)\n",
    "\n",
    "criterion = torch.nn.BCELoss()\n",
    "gen_opt = torch.optim.Adam(gen4.parameters(), lr=0.01, betas=(0.5, 0.999))\n",
    "disc_opt = torch.optim.Adam(disc4.parameters(), lr=0.01, betas=(0.5, 0.999))\n"
   ]
  },
  {
   "cell_type": "code",
   "execution_count": 24,
   "id": "2fe9e2f6",
   "metadata": {
    "execution": {
     "iopub.execute_input": "2022-07-22T12:18:14.701739Z",
     "iopub.status.busy": "2022-07-22T12:18:14.701349Z",
     "iopub.status.idle": "2022-07-22T12:32:07.572941Z",
     "shell.execute_reply": "2022-07-22T12:32:07.571356Z"
    },
    "id": "26acbc37",
    "papermill": {
     "duration": 833.096134,
     "end_time": "2022-07-22T12:32:07.577590",
     "exception": false,
     "start_time": "2022-07-22T12:18:14.481456",
     "status": "completed"
    },
    "tags": []
   },
   "outputs": [
    {
     "data": {
      "image/png": "[encoded data removed]",
      "text/plain": [
       "<Figure size 432x288 with 1 Axes>"
      ]
     },
     "metadata": {
      "needs_background": "light"
     },
     "output_type": "display_data"
    },
    {
     "data": {
      "image/png": "[encoded data removed]",
      "text/plain": [
       "<Figure size 432x288 with 1 Axes>"
      ]
     },
     "metadata": {
      "needs_background": "light"
     },
     "output_type": "display_data"
    }
   ],
   "source": [
    "ABC_train_test2.training_GAN_skip_connection(disc4,gen4,disc_opt,gen_opt,train_data,batch_size,n_epochs,criterion,prior_model,variance,bias,device)"
   ]
  },
  {
   "cell_type": "code",
   "execution_count": 25,
   "id": "065bb0d2",
   "metadata": {
    "execution": {
     "iopub.execute_input": "2022-07-22T12:32:07.706070Z",
     "iopub.status.busy": "2022-07-22T12:32:07.704741Z",
     "iopub.status.idle": "2022-07-22T12:32:13.064958Z",
     "shell.execute_reply": "2022-07-22T12:32:13.062897Z"
    },
    "id": "c5e0717b",
    "papermill": {
     "duration": 5.443135,
     "end_time": "2022-07-22T12:32:13.068206",
     "exception": false,
     "start_time": "2022-07-22T12:32:07.625071",
     "status": "completed"
    },
    "tags": []
   },
   "outputs": [
    {
     "data": {
      "application/scrapbook.scrap.json+json": {
       "data": 0.3486852282396039,
       "encoder": "json",
       "name": "ABC-GAN Model 3 MSE",
       "version": 1
      }
     },
     "metadata": {
      "scrapbook": {
       "data": true,
       "display": false,
       "name": "ABC-GAN Model 3 MSE"
      }
     },
     "output_type": "display_data"
    },
    {
     "data": {
      "application/scrapbook.scrap.json+json": {
       "data": 0.30083186543295526,
       "encoder": "json",
       "name": "ABC-GAN Model 3 MAE",
       "version": 1
      }
     },
     "metadata": {
      "scrapbook": {
       "data": true,
       "display": false,
       "name": "ABC-GAN Model 3 MAE"
      }
     },
     "output_type": "display_data"
    },
    {
     "data": {
      "application/scrapbook.scrap.json+json": {
       "data": 30.684850274161434,
       "encoder": "json",
       "name": "ABC-GAN Model 3 Manhattan Distance",
       "version": 1
      }
     },
     "metadata": {
      "scrapbook": {
       "data": true,
       "display": false,
       "name": "ABC-GAN Model 3 Manhattan Distance"
      }
     },
     "output_type": "display_data"
    },
    {
     "data": {
      "application/scrapbook.scrap.json+json": {
       "data": 5.9637064474267305,
       "encoder": "json",
       "name": "ABC-GAN Model 3 Euclidean distance",
       "version": 1
      }
     },
     "metadata": {
      "scrapbook": {
       "data": true,
       "display": false,
       "name": "ABC-GAN Model 3 Euclidean distance"
      }
     },
     "output_type": "display_data"
    },
    {
     "data": {
      "application/scrapbook.scrap.json+json": {
       "data": [
        [
         0.34770691205066817,
         0.3471211437041664,
         0.3477457832721981,
         0.3493825346637785,
         0.3476966409027744,
         0.35029394462040087,
         0.3507967569968146,
         0.3477978663862874,
         0.3484069135344268,
         0.3496314537404137,
         0.34869721418781874,
         0.3505648129950869,
         0.35001316912462116,
         0.34949304265187336,
         0.34841774178608376,
         0.34830273867569117,
         0.34913853556417423,
         0.34776148304761145,
         0.35012143324539474,
         0.3470823744795625,
         0.3481272384595843,
         0.34772658000738305,
         0.3499600524081929,
         0.34781327664010925,
         0.3477150189890283,
         0.3481098592905314,
         0.3485227024121669,
         0.34777466230095005,
         0.3507385339206908,
         0.3485592666318766,
         0.3474485740867908,
         0.3497074178607454,
         0.3510476415611034,
         0.34913082662046,
         0.34594327628532096,
         0.34832069063732624,
         0.347917672738739,
         0.34808497344138223,
         0.34972105157663014,
         0.3508922503363475,
         0.34967877072380577,
         0.34830696324598437,
         0.34995659519584216,
         0.3485563782328029,
         0.3492040918907646,
         0.3476602933303701,
         0.3506608794397582,
         0.34758400202781564,
         0.34860498328049294,
         0.3481297094763189,
         0.34767947262087207,
         0.3483621528786209,
         0.3476040961618955,
         0.3492312776711962,
         0.34850591555610605,
         0.3496882549187087,
         0.3467858576662115,
         0.3480721451049901,
         0.3499933005383486,
         0.34815048888770245,
         0.3470223184986003,
         0.34893436361946745,
         0.34847965755434024,
         0.3482893590422675,
         0.3476741440018937,
         0.3498413557158157,
         0.34804997787622016,
         0.3496303192415627,
         0.3502416806813103,
         0.3488799930739418,
         0.3498682922477842,
         0.3488498999254398,
         0.3509850298137171,
         0.35008044466254223,
         0.35082363144212775,
         0.3473732024239975,
         0.35011340610441355,
         0.3485345306145948,
         0.3474618261637661,
         0.34934855813109117,
         0.3480975183502632,
         0.3467817646263153,
         0.3492757317477367,
         0.34824395438824923,
         0.3495800777542493,
         0.34890756792209354,
         0.3479694891136072,
         0.3492601083277133,
         0.346919818383637,
         0.347765954961293,
         0.3490321456081715,
         0.34632596873470056,
         0.3498100006941341,
         0.3476687502345514,
         0.34598727667166684,
         0.3490279147609274,
         0.3481280863844292,
         0.3480099353511423,
         0.3499079416927129,
         0.349491136734091
        ],
        [
         0.3007218299031842,
         0.2999187642891033,
         0.30005816757386805,
         0.30066490985964445,
         0.2994144185281852,
         0.301339337949221,
         0.301758729450989,
         0.30002229478137166,
         0.3011139511112489,
         0.3010125609991305,
         0.3018625746755039,
         0.30186874364667077,
         0.3015051097152572,
         0.3009563626027575,
         0.30145246506321666,
         0.3023331828378871,
         0.30112109614499644,
         0.2994384658248985,
         0.30198714279514904,
         0.29975943375086667,
         0.30127528340866166,
         0.2994752293635233,
         0.3020686591409293,
         0.30265710090159204,
         0.2990910839015508,
         0.30125325059919966,
         0.3005193817776208,
         0.29837689232811626,
         0.3002287719179602,
         0.29990495745019585,
         0.29984490219138416,
         0.30199847386821227,
         0.30112667242978136,
         0.29998837024265645,
         0.2979097192486127,
         0.30046145004384656,
         0.3010695700478904,
         0.30220958163194794,
         0.3007181539866781,
         0.3025778277649307,
         0.3030230641072872,
         0.30061329280336696,
         0.30099600400118265,
         0.29932330256583645,
         0.30079525009747227,
         0.29954871056857063,
         0.3013566400326204,
         0.29972692443897914,
         0.29905680945033536,
         0.30036996045679437,
         0.29999353312978555,
         0.3010520156034652,
         0.30002115909740623,
         0.3011756883751528,
         0.3014125909802376,
         0.30052365267685816,
         0.29825167317746903,
         0.30110174618369223,
         0.2998405873921572,
         0.301898920324211,
         0.2992773740095835,
         0.3021231088422093,
         0.3003361660658437,
         0.30091411737250345,
         0.30058567618549453,
         0.30183554963007864,
         0.3015656671030264,
         0.30182780862292824,
         0.3018504113835447,
         0.30080753741968497,
         0.3016435053455187,
         0.30028563427428406,
         0.3013210897790451,
         0.3031161525743265,
         0.30300243974973756,
         0.3011288561803453,
         0.30244749879427985,
         0.30158130610909534,
         0.3019503913089341,
         0.30045548106963726,
         0.30143304559968265,
         0.2995834167973668,
         0.30333273558347834,
         0.30053927110252426,
         0.2995776912453128,
         0.3008704560936666,
         0.3025372571987556,
         0.30011572970040873,
         0.30031679000924616,
         0.2995900839713274,
         0.3014038823928465,
         0.29912797584399287,
         0.3014808137554164,
         0.3008654882364413,
         0.2987033282315322,
         0.3004893322347426,
         0.3011433777636757,
         0.3012568816798283,
         0.3013339243537071,
         0.30028289047015067
        ],
        [
         30.67362665012479,
         30.591713957488537,
         30.605933092534542,
         30.667820805683732,
         30.540270689874887,
         30.736612470820546,
         30.77939040400088,
         30.60227406769991,
         30.713623013347387,
         30.70328122191131,
         30.789982616901398,
         30.79061185196042,
         30.753521190956235,
         30.697548985481262,
         30.748151436448097,
         30.837984649464488,
         30.714351806789637,
         30.542723514139652,
         30.8026885651052,
         30.5754622425884,
         30.73007890768349,
         30.546473395079374,
         30.811003232374787,
         30.871024291962385,
         30.507290557958186,
         30.727831561118364,
         30.65297694131732,
         30.434443017467856,
         30.623334735631943,
         30.590305659919977,
         30.584180023521185,
         30.803844334557652,
         30.714920587837696,
         30.598813764750957,
         30.386791363358498,
         30.64706790447235,
         30.709096144884825,
         30.825377326458693,
         30.673251706641167,
         30.86293843202293,
         30.90835253894329,
         30.662555865943432,
         30.701592408120632,
         30.530976861715317,
         30.681115509942174,
         30.553968477994204,
         30.73837728332728,
         30.57214629277587,
         30.503794563934207,
         30.637735966593027,
         30.59934037923813,
         30.70730559155345,
         30.602158227935433,
         30.719920214265585,
         30.744084279984236,
         30.65341257303953,
         30.42167066410184,
         30.71237811073661,
         30.583739914000034,
         30.793689873069525,
         30.526292148977518,
         30.816557101905346,
         30.634288938716054,
         30.693239971995354,
         30.659738970920444,
         30.78722606226802,
         30.759698044508696,
         30.78643647953868,
         30.78874196112156,
         30.682368816807866,
         30.767637545242906,
         30.629134695976973,
         30.734751157462597,
         30.9178475625813,
         30.906248854473233,
         30.71514333039522,
         30.849644877016544,
         30.761293223127723,
         30.798939913511276,
         30.646459069103003,
         30.74617065116763,
         30.557508513331413,
         30.93993902951479,
         30.655005652457476,
         30.556924507021904,
         30.688786521553993,
         30.858800234273076,
         30.61180442944169,
         30.632312580943108,
         30.558188565075397,
         30.74319600407034,
         30.511053536087275,
         30.751043003052473,
         30.688279800117016,
         30.467739479616284,
         30.649911887943745,
         30.716624531894922,
         30.728201931342483,
         30.73606028407812,
         30.628854827955365
        ],
        [
         5.955342561865619,
         5.950324080066981,
         5.955675435562637,
         5.9696749103871145,
         5.955254601785132,
         5.977456177278165,
         5.98174466302893,
         5.956121420135869,
         5.961334177892692,
         5.9718010919254665,
         5.963817221139286,
         5.9797667952436795,
         5.975060104359734,
         5.970618925244776,
         5.961426814293751,
         5.960442881608757,
         5.967590018386465,
         5.955809875311364,
         5.975984119041002,
         5.949991781247717,
         5.958941040392798,
         5.955510990733966,
         5.974606710540508,
         5.956253370810475,
         5.955411987166033,
         5.958792297742404,
         5.962324684721642,
         5.955922729073716,
         5.981248235937919,
         5.9626374362736,
         5.9531298118596965,
         5.972449800692846,
         5.9838833076216105,
         5.9675241361293985,
         5.940220044838637,
         5.960596483994474,
         5.957147187987836,
         5.958579301395677,
         5.972566220714198,
         5.982558778174056,
         5.972205171779364,
         5.9604790286595595,
         5.97457719926489,
         5.9626127309884795,
         5.96815024717525,
         5.954943317924844,
         5.980586066837876,
         5.954289899462168,
         5.963028449924608,
         5.95896218871915,
         5.955107573111417,
         5.960951232279906,
         5.954462008318917,
         5.968382554969312,
         5.962181093083539,
         5.972286162074645,
         5.947449661994086,
         5.958469501533846,
         5.97489051405225,
         5.9591400274322845,
         5.949476992716018,
         5.96584487639309,
         5.96195648009466,
         5.960328398864553,
         5.9550619382331496,
         5.973593414605082,
         5.958279763771961,
         5.971791403141891,
         5.977010241708947,
         5.965380062790808,
         5.973823382832303,
         5.965122780999136,
         5.983349650571922,
         5.97563430571009,
         5.981973788566532,
         5.952484073666031,
         5.975915613749092,
         5.962425858884005,
         5.95324334028974,
         5.969384635736861,
         5.958686673397658,
         5.947414563647313,
         5.968762404240023,
         5.959939877851237,
         5.971362317841167,
         5.965615804596668,
         5.957590778963249,
         5.968628908671301,
         5.948598278177051,
         5.955848168485483,
         5.966680723151985,
         5.943504758216272,
         5.973325712766857,
         5.955015745060986,
         5.940597799928053,
         5.966644560019861,
         5.958948297410524,
         5.957937009218585,
         5.974161870309233,
         5.970602645200674
        ]
       ],
       "encoder": "json",
       "name": "ABC_GAN_4 Metrics",
       "version": 1
      }
     },
     "metadata": {
      "scrapbook": {
       "data": true,
       "display": false,
       "name": "ABC_GAN_4 Metrics"
      }
     },
     "output_type": "display_data"
    },
    {
     "name": "stdout",
     "output_type": "stream",
     "text": [
      "MAE\n",
      "0.30083186543295526\n"
     ]
    }
   ],
   "source": [
    "ABC_GAN4_metrics=ABC_train_test2.test_generator(gen4,test_data,prior_model,variance,bias,\"3\",device)\n",
    "sb.glue(\"ABC_GAN_4 Metrics\",ABC_GAN4_metrics)\n",
    "\n",
    "print(\"MAE\")\n",
    "print(mean(ABC_GAN4_metrics[1]))"
   ]
  },
  {
   "cell_type": "code",
   "execution_count": 26,
   "id": "bffdea82",
   "metadata": {
    "execution": {
     "iopub.execute_input": "2022-07-22T12:32:13.173611Z",
     "iopub.status.busy": "2022-07-22T12:32:13.172899Z",
     "iopub.status.idle": "2022-07-22T12:32:14.020834Z",
     "shell.execute_reply": "2022-07-22T12:32:14.019973Z"
    },
    "id": "c8e46b48",
    "papermill": {
     "duration": 0.910716,
     "end_time": "2022-07-22T12:32:14.023776",
     "exception": false,
     "start_time": "2022-07-22T12:32:13.113060",
     "status": "completed"
    },
    "tags": []
   },
   "outputs": [
    {
     "data": {
      "image/png": "[encoded data removed]",
      "text/plain": [
       "<Figure size 432x288 with 1 Axes>"
      ]
     },
     "metadata": {
      "needs_background": "light"
     },
     "output_type": "display_data"
    },
    {
     "data": {
      "image/png": "[encoded data removed]",
      "text/plain": [
       "<Figure size 432x288 with 1 Axes>"
      ]
     },
     "metadata": {
      "needs_background": "light"
     },
     "output_type": "display_data"
    },
    {
     "data": {
      "image/png": "[encoded data removed]",
      "text/plain": [
       "<Figure size 432x288 with 1 Axes>"
      ]
     },
     "metadata": {
      "needs_background": "light"
     },
     "output_type": "display_data"
    },
    {
     "data": {
      "image/png": "[encoded data removed]",
      "text/plain": [
       "<Figure size 432x288 with 1 Axes>"
      ]
     },
     "metadata": {
      "needs_background": "light"
     },
     "output_type": "display_data"
    }
   ],
   "source": [
    "sanityChecks.discProbVsError(train_data,disc4,device)\n",
    "sanityChecks.discProbVsError(test_data,disc4,device)"
   ]
  },
  {
   "cell_type": "markdown",
   "id": "a5bd74c3",
   "metadata": {
    "id": "a5bd74c3",
    "papermill": {
     "duration": 0.050237,
     "end_time": "2022-07-22T12:32:14.121952",
     "exception": false,
     "start_time": "2022-07-22T12:32:14.071715",
     "status": "completed"
    },
    "tags": []
   },
   "source": [
    "## Skip Connection Model Analysis - ABC-GAN "
   ]
  },
  {
   "cell_type": "markdown",
   "id": "5744a8bf",
   "metadata": {
    "id": "5744a8bf",
    "papermill": {
     "duration": 0.069107,
     "end_time": "2022-07-22T12:32:14.249759",
     "exception": false,
     "start_time": "2022-07-22T12:32:14.180652",
     "status": "completed"
    },
    "tags": []
   },
   "source": [
    "### Weight Analysis \n",
    "\n",
    "Study the weights of the skip connection layer\n",
    "\n",
    "Equation of the skip connection is \n",
    "\n",
    "$output = y_{gan} * w + y_{abc} * (1-w)$"
   ]
  },
  {
   "cell_type": "code",
   "execution_count": 27,
   "id": "52c31dea",
   "metadata": {
    "execution": {
     "iopub.execute_input": "2022-07-22T12:32:14.375585Z",
     "iopub.status.busy": "2022-07-22T12:32:14.375201Z",
     "iopub.status.idle": "2022-07-22T12:32:14.394476Z",
     "shell.execute_reply": "2022-07-22T12:32:14.392920Z"
    },
    "id": "52c31dea",
    "papermill": {
     "duration": 0.08103,
     "end_time": "2022-07-22T12:32:14.399027",
     "exception": false,
     "start_time": "2022-07-22T12:32:14.317997",
     "status": "completed"
    },
    "tags": []
   },
   "outputs": [
    {
     "name": "stdout",
     "output_type": "stream",
     "text": [
      "Weight of the node at skip connection\n",
      "Parameter containing:\n",
      "tensor([[0.0105]], requires_grad=True)\n"
     ]
    },
    {
     "data": {
      "application/scrapbook.scrap.json+json": {
       "data": 0.01046303566545248,
       "encoder": "json",
       "name": "Skip Connection Weight",
       "version": 1
      }
     },
     "metadata": {
      "scrapbook": {
       "data": true,
       "display": false,
       "name": "Skip Connection Weight"
      }
     },
     "output_type": "display_data"
    }
   ],
   "source": [
    "print(\"Weight of the node at skip connection\")\n",
    "for name,param in gen3.named_parameters():\n",
    "    if(name == \"skipNode.weight\"):\n",
    "        print(param)\n",
    "        sb.glue(\"Skip Connection Weight\",param.item())"
   ]
  },
  {
   "cell_type": "markdown",
   "id": "514c987a",
   "metadata": {
    "id": "a5bd74c3",
    "papermill": {
     "duration": 0.064064,
     "end_time": "2022-07-22T12:32:14.511970",
     "exception": false,
     "start_time": "2022-07-22T12:32:14.447906",
     "status": "completed"
    },
    "tags": []
   },
   "source": [
    "## skipGAN Model Analysis (TabNet Generator) "
   ]
  },
  {
   "cell_type": "markdown",
   "id": "1ee8a1dd",
   "metadata": {
    "id": "5744a8bf",
    "papermill": {
     "duration": 0.061725,
     "end_time": "2022-07-22T12:32:14.631150",
     "exception": false,
     "start_time": "2022-07-22T12:32:14.569425",
     "status": "completed"
    },
    "tags": []
   },
   "source": [
    "### Weight Analysis \n",
    "\n",
    "Study the weights of the skip connection layer\n",
    "\n",
    "Equation of the skip connection is \n",
    "\n",
    "$output = y_{gan} * w + y_{abc} * (1-w)$"
   ]
  },
  {
   "cell_type": "code",
   "execution_count": 28,
   "id": "6e8aecf9",
   "metadata": {
    "execution": {
     "iopub.execute_input": "2022-07-22T12:32:14.750969Z",
     "iopub.status.busy": "2022-07-22T12:32:14.750097Z",
     "iopub.status.idle": "2022-07-22T12:32:14.761530Z",
     "shell.execute_reply": "2022-07-22T12:32:14.760643Z"
    },
    "id": "52c31dea",
    "papermill": {
     "duration": 0.086313,
     "end_time": "2022-07-22T12:32:14.766738",
     "exception": false,
     "start_time": "2022-07-22T12:32:14.680425",
     "status": "completed"
    },
    "tags": []
   },
   "outputs": [
    {
     "name": "stdout",
     "output_type": "stream",
     "text": [
      "Weight of the node at skip connection\n",
      "Parameter containing:\n",
      "tensor([[0.1342]], requires_grad=True)\n"
     ]
    },
    {
     "data": {
      "application/scrapbook.scrap.json+json": {
       "data": 0.1342172920703888,
       "encoder": "json",
       "name": "Skip Connection Weight",
       "version": 1
      }
     },
     "metadata": {
      "scrapbook": {
       "data": true,
       "display": false,
       "name": "Skip Connection Weight"
      }
     },
     "output_type": "display_data"
    }
   ],
   "source": [
    "print(\"Weight of the node at skip connection\")\n",
    "for name,param in gen4.named_parameters():\n",
    "    if(name == \"skipNode.weight\"):\n",
    "        print(param)\n",
    "        sb.glue(\"Skip Connection Weight\",param.item())"
   ]
  }
 ],
 "metadata": {
  "colab": {
   "collapsed_sections": [],
   "name": "ABC_GAN_Model-Catboost_Pre-gen.ipynb",
   "provenance": []
  },
  "interpreter": {
   "hash": "31f2aee4e71d21fbe5cf8b01ff0e069b9275f58929596ceb00d14d90e3e16cd6"
  },
  "kernelspec": {
   "display_name": "Python 3 (ipykernel)",
   "language": "python",
   "name": "python3"
  },
  "language_info": {
   "codemirror_mode": {
    "name": "ipython",
    "version": 3
   },
   "file_extension": ".py",
   "mimetype": "text/x-python",
   "name": "python",
   "nbconvert_exporter": "python",
   "pygments_lexer": "ipython3",
   "version": "3.8.13"
  },
  "papermill": {
   "default_parameters": {},
   "duration": 2306.229552,
   "end_time": "2022-07-22T12:32:16.030062",
   "environment_variables": {},
   "exception": null,
   "input_path": "ABC_GAN-TabNet.ipynb",
   "output_path": "./ABC_GAN_TabNet/ABC-GAN_output_1_5.ipynb",
   "parameters": {
    "bias": 0.1,
    "variance": 0.01
   },
   "start_time": "2022-07-22T11:53:49.800510",
   "version": "2.3.3"
  }
 },
 "nbformat": 4,
 "nbformat_minor": 5
}