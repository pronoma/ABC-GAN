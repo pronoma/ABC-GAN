{
 "cells": [
  {
   "cell_type": "markdown",
   "id": "622780e6",
   "metadata": {
    "id": "622780e6",
    "papermill": {
     "duration": 0.020918,
     "end_time": "2022-07-22T13:52:58.131539",
     "exception": false,
     "start_time": "2022-07-22T13:52:58.110621",
     "status": "completed"
    },
    "tags": []
   },
   "source": [
    "## Import Libraries "
   ]
  },
  {
   "cell_type": "code",
   "execution_count": 1,
   "id": "a62397e3",
   "metadata": {
    "execution": {
     "iopub.execute_input": "2022-07-22T13:52:58.192345Z",
     "iopub.status.busy": "2022-07-22T13:52:58.191078Z",
     "iopub.status.idle": "2022-07-22T13:52:58.209023Z",
     "shell.execute_reply": "2022-07-22T13:52:58.205905Z"
    },
    "id": "a62397e3",
    "papermill": {
     "duration": 0.056512,
     "end_time": "2022-07-22T13:52:58.216566",
     "exception": false,
     "start_time": "2022-07-22T13:52:58.160054",
     "status": "completed"
    },
    "tags": []
   },
   "outputs": [],
   "source": [
    "import warnings\n",
    "import sys\n",
    "sys.path.insert(0, '../../src')\n",
    "warnings.filterwarnings('ignore')"
   ]
  },
  {
   "cell_type": "code",
   "execution_count": 2,
   "id": "d6a4e155",
   "metadata": {
    "execution": {
     "iopub.execute_input": "2022-07-22T13:52:58.246487Z",
     "iopub.status.busy": "2022-07-22T13:52:58.245455Z",
     "iopub.status.idle": "2022-07-22T13:53:07.575685Z",
     "shell.execute_reply": "2022-07-22T13:53:07.574527Z"
    },
    "id": "d6a4e155",
    "papermill": {
     "duration": 9.353979,
     "end_time": "2022-07-22T13:53:07.584325",
     "exception": false,
     "start_time": "2022-07-22T13:52:58.230346",
     "status": "completed"
    },
    "tags": []
   },
   "outputs": [],
   "source": [
    "import ABC_train_test2\n",
    "import bostonDataset\n",
    "import network\n",
    "import dataset\n",
    "import sanityChecks\n",
    "import torch \n",
    "import scrapbook as sb\n",
    "from statistics import mean \n",
    "import catboost as ctb \n",
    "from sklearn.model_selection import train_test_split\n",
    "from sklearn.metrics import mean_squared_error,mean_absolute_error\n",
    "import numpy as np\n",
    "from pytorch_tabnet.tab_model import TabNetRegressor"
   ]
  },
  {
   "cell_type": "markdown",
   "id": "2fa5b0f7",
   "metadata": {
    "id": "2fa5b0f7",
    "papermill": {
     "duration": 0.016765,
     "end_time": "2022-07-22T13:53:07.617754",
     "exception": false,
     "start_time": "2022-07-22T13:53:07.600989",
     "status": "completed"
    },
    "tags": []
   },
   "source": [
    "## Parameters "
   ]
  },
  {
   "cell_type": "code",
   "execution_count": 3,
   "id": "783186fb",
   "metadata": {
    "execution": {
     "iopub.execute_input": "2022-07-22T13:53:07.698576Z",
     "iopub.status.busy": "2022-07-22T13:53:07.692572Z",
     "iopub.status.idle": "2022-07-22T13:53:07.709472Z",
     "shell.execute_reply": "2022-07-22T13:53:07.704247Z"
    },
    "id": "783186fb",
    "papermill": {
     "duration": 0.086887,
     "end_time": "2022-07-22T13:53:07.724089",
     "exception": false,
     "start_time": "2022-07-22T13:53:07.637202",
     "status": "completed"
    },
    "tags": [
     "parameters"
    ]
   },
   "outputs": [],
   "source": [
    "variance = 1\n",
    "bias = 1 "
   ]
  },
  {
   "cell_type": "code",
   "execution_count": 4,
   "id": "72cc304a",
   "metadata": {
    "execution": {
     "iopub.execute_input": "2022-07-22T13:53:07.762127Z",
     "iopub.status.busy": "2022-07-22T13:53:07.761575Z",
     "iopub.status.idle": "2022-07-22T13:53:07.794169Z",
     "shell.execute_reply": "2022-07-22T13:53:07.783789Z"
    },
    "papermill": {
     "duration": 0.068659,
     "end_time": "2022-07-22T13:53:07.807082",
     "exception": false,
     "start_time": "2022-07-22T13:53:07.738423",
     "status": "completed"
    },
    "tags": [
     "injected-parameters"
    ]
   },
   "outputs": [],
   "source": [
    "# Parameters\n",
    "variance = 0.01\n",
    "bias = 0.01\n"
   ]
  },
  {
   "cell_type": "markdown",
   "id": "391cdbfd",
   "metadata": {
    "id": "391cdbfd",
    "papermill": {
     "duration": 0.019801,
     "end_time": "2022-07-22T13:53:07.951803",
     "exception": false,
     "start_time": "2022-07-22T13:53:07.932002",
     "status": "completed"
    },
    "tags": []
   },
   "source": [
    "## Dataset \n"
   ]
  },
  {
   "cell_type": "code",
   "execution_count": 5,
   "id": "5b51f161",
   "metadata": {
    "execution": {
     "iopub.execute_input": "2022-07-22T13:53:07.980126Z",
     "iopub.status.busy": "2022-07-22T13:53:07.979388Z",
     "iopub.status.idle": "2022-07-22T13:53:07.986033Z",
     "shell.execute_reply": "2022-07-22T13:53:07.984218Z"
    },
    "id": "5b51f161",
    "papermill": {
     "duration": 0.028918,
     "end_time": "2022-07-22T13:53:07.993836",
     "exception": false,
     "start_time": "2022-07-22T13:53:07.964918",
     "status": "completed"
    },
    "tags": []
   },
   "outputs": [],
   "source": [
    "#Parameters \n",
    "n_features = 13\n",
    "n_samples= 506\n",
    "n_target = 1 "
   ]
  },
  {
   "cell_type": "code",
   "execution_count": 6,
   "id": "5d6eced4",
   "metadata": {
    "execution": {
     "iopub.execute_input": "2022-07-22T13:53:08.014997Z",
     "iopub.status.busy": "2022-07-22T13:53:08.014339Z",
     "iopub.status.idle": "2022-07-22T13:53:08.049261Z",
     "shell.execute_reply": "2022-07-22T13:53:08.048324Z"
    },
    "id": "5d6eced4",
    "papermill": {
     "duration": 0.050881,
     "end_time": "2022-07-22T13:53:08.053149",
     "exception": false,
     "start_time": "2022-07-22T13:53:08.002268",
     "status": "completed"
    },
    "tags": []
   },
   "outputs": [
    {
     "name": "stdout",
     "output_type": "stream",
     "text": [
      "         X1        X2        X3        X4        X5        X6        X7  \\\n",
      "0 -0.419782  0.284830 -1.287909 -0.272599 -0.144217  0.413672 -0.120013   \n",
      "1 -0.417339 -0.487722 -0.593381 -0.272599 -0.740262  0.194274  0.367166   \n",
      "2 -0.417342 -0.487722 -0.593381 -0.272599 -0.740262  1.282714 -0.265812   \n",
      "3 -0.416750 -0.487722 -1.306878 -0.272599 -0.835284  1.016303 -0.809889   \n",
      "4 -0.412482 -0.487722 -1.306878 -0.272599 -0.835284  1.228577 -0.511180   \n",
      "\n",
      "         X8        X9       X10       X11       X12       X13         Y  \n",
      "0  0.140214 -0.982843 -0.666608 -1.459000  0.441052 -1.075562  0.159686  \n",
      "1  0.557160 -0.867883 -0.987329 -0.303094  0.441052 -0.492439 -0.101524  \n",
      "2  0.557160 -0.867883 -0.987329 -0.303094  0.396427 -1.208727  1.324247  \n",
      "3  1.077737 -0.752922 -1.106115  0.113032  0.416163 -1.361517  1.182758  \n",
      "4  1.077737 -0.752922 -1.106115  0.113032  0.441052 -1.026501  1.487503  \n"
     ]
    }
   ],
   "source": [
    "X,Y = bostonDataset.boston_data()"
   ]
  },
  {
   "cell_type": "code",
   "execution_count": 7,
   "id": "fe007438",
   "metadata": {
    "execution": {
     "iopub.execute_input": "2022-07-22T13:53:08.111230Z",
     "iopub.status.busy": "2022-07-22T13:53:08.110482Z",
     "iopub.status.idle": "2022-07-22T13:53:08.121971Z",
     "shell.execute_reply": "2022-07-22T13:53:08.119433Z"
    },
    "id": "fe007438",
    "papermill": {
     "duration": 0.079287,
     "end_time": "2022-07-22T13:53:08.146621",
     "exception": false,
     "start_time": "2022-07-22T13:53:08.067334",
     "status": "completed"
    },
    "tags": []
   },
   "outputs": [],
   "source": [
    "#Train test split for dataset \n",
    "X_train,X_test,Y_train,Y_test = train_test_split(X,Y,test_size = 0.2)\n",
    "train_data = dataset.CustomDataset(X_train,Y_train)\n",
    "test_data = dataset.CustomDataset(X_test,Y_test)\n"
   ]
  },
  {
   "cell_type": "markdown",
   "id": "a9a1af34",
   "metadata": {
    "id": "a9a1af34",
    "papermill": {
     "duration": 0.01729,
     "end_time": "2022-07-22T13:53:08.182030",
     "exception": false,
     "start_time": "2022-07-22T13:53:08.164740",
     "status": "completed"
    },
    "tags": []
   },
   "source": [
    "## Training Parameters "
   ]
  },
  {
   "cell_type": "code",
   "execution_count": 8,
   "id": "952b7fc8",
   "metadata": {
    "execution": {
     "iopub.execute_input": "2022-07-22T13:53:08.209357Z",
     "iopub.status.busy": "2022-07-22T13:53:08.208479Z",
     "iopub.status.idle": "2022-07-22T13:53:08.229462Z",
     "shell.execute_reply": "2022-07-22T13:53:08.226992Z"
    },
    "id": "952b7fc8",
    "papermill": {
     "duration": 0.104192,
     "end_time": "2022-07-22T13:53:08.295542",
     "exception": false,
     "start_time": "2022-07-22T13:53:08.191350",
     "status": "completed"
    },
    "tags": []
   },
   "outputs": [],
   "source": [
    "batch_size = 32\n",
    "n_epochs = 1000\n",
    "#Select the device \n",
    "device = torch.device('cuda' if torch.cuda.is_available() else 'cpu')"
   ]
  },
  {
   "cell_type": "markdown",
   "id": "a95e1600",
   "metadata": {
    "id": "a95e1600",
    "papermill": {
     "duration": 0.013867,
     "end_time": "2022-07-22T13:53:08.570166",
     "exception": false,
     "start_time": "2022-07-22T13:53:08.556299",
     "status": "completed"
    },
    "tags": []
   },
   "source": [
    "# ABC Pre-generator Model \n",
    "\n",
    "1. The catboost model is used as a pre-generator model for the ABC-GAN. \n",
    "2. The model is first trained on the entire dataset \n",
    "3. It generats X,Y pairs and we add some Gaussian noise with mean 0 and variance 1 to it which is then feed as input to the generator.\n"
   ]
  },
  {
   "cell_type": "code",
   "execution_count": 9,
   "id": "ff8ce7bd",
   "metadata": {
    "execution": {
     "iopub.execute_input": "2022-07-22T13:53:08.634857Z",
     "iopub.status.busy": "2022-07-22T13:53:08.634268Z",
     "iopub.status.idle": "2022-07-22T13:55:50.410758Z",
     "shell.execute_reply": "2022-07-22T13:55:50.393470Z"
    },
    "id": "ff8ce7bd",
    "papermill": {
     "duration": 161.80997,
     "end_time": "2022-07-22T13:55:50.413407",
     "exception": false,
     "start_time": "2022-07-22T13:53:08.603437",
     "status": "completed"
    },
    "tags": []
   },
   "outputs": [
    {
     "name": "stdout",
     "output_type": "stream",
     "text": [
      "Device used : cpu\n"
     ]
    },
    {
     "name": "stdout",
     "output_type": "stream",
     "text": [
      "epoch 0  | loss: 2.20152 | train_mse: 1.60375 | train_mae: 0.89976 |  0:00:01s\n"
     ]
    },
    {
     "name": "stdout",
     "output_type": "stream",
     "text": [
      "epoch 1  | loss: 0.94022 | train_mse: 1.42381 | train_mae: 0.81914 |  0:00:01s\n"
     ]
    },
    {
     "name": "stdout",
     "output_type": "stream",
     "text": [
      "epoch 2  | loss: 0.65655 | train_mse: 0.70135 | train_mae: 0.55987 |  0:00:01s\n"
     ]
    },
    {
     "name": "stdout",
     "output_type": "stream",
     "text": [
      "epoch 3  | loss: 0.50595 | train_mse: 0.3597  | train_mae: 0.41607 |  0:00:02s\n"
     ]
    },
    {
     "name": "stdout",
     "output_type": "stream",
     "text": [
      "epoch 4  | loss: 0.44837 | train_mse: 0.45767 | train_mae: 0.4686  |  0:00:02s\n"
     ]
    },
    {
     "name": "stdout",
     "output_type": "stream",
     "text": [
      "epoch 5  | loss: 0.39543 | train_mse: 0.35211 | train_mae: 0.43201 |  0:00:02s\n"
     ]
    },
    {
     "name": "stdout",
     "output_type": "stream",
     "text": [
      "epoch 6  | loss: 0.35068 | train_mse: 0.26232 | train_mae: 0.35225 |  0:00:03s\n"
     ]
    },
    {
     "name": "stdout",
     "output_type": "stream",
     "text": [
      "epoch 7  | loss: 0.35136 | train_mse: 0.27268 | train_mae: 0.36773 |  0:00:03s\n"
     ]
    },
    {
     "name": "stdout",
     "output_type": "stream",
     "text": [
      "epoch 8  | loss: 0.36984 | train_mse: 0.20378 | train_mae: 0.31547 |  0:00:03s\n"
     ]
    },
    {
     "name": "stdout",
     "output_type": "stream",
     "text": [
      "epoch 9  | loss: 0.2652  | train_mse: 0.20101 | train_mae: 0.31985 |  0:00:04s\n"
     ]
    },
    {
     "name": "stdout",
     "output_type": "stream",
     "text": [
      "epoch 10 | loss: 0.27788 | train_mse: 0.19283 | train_mae: 0.31163 |  0:00:04s\n"
     ]
    },
    {
     "name": "stdout",
     "output_type": "stream",
     "text": [
      "epoch 11 | loss: 0.26563 | train_mse: 0.18896 | train_mae: 0.31976 |  0:00:04s\n"
     ]
    },
    {
     "name": "stdout",
     "output_type": "stream",
     "text": [
      "epoch 12 | loss: 0.28878 | train_mse: 0.16479 | train_mae: 0.28622 |  0:00:05s\n"
     ]
    },
    {
     "name": "stdout",
     "output_type": "stream",
     "text": [
      "epoch 13 | loss: 0.27479 | train_mse: 0.16075 | train_mae: 0.28704 |  0:00:05s\n"
     ]
    },
    {
     "name": "stdout",
     "output_type": "stream",
     "text": [
      "epoch 14 | loss: 0.30266 | train_mse: 0.17265 | train_mae: 0.30045 |  0:00:06s\n"
     ]
    },
    {
     "name": "stdout",
     "output_type": "stream",
     "text": [
      "epoch 15 | loss: 0.22668 | train_mse: 0.20686 | train_mae: 0.32507 |  0:00:06s\n"
     ]
    },
    {
     "name": "stdout",
     "output_type": "stream",
     "text": [
      "epoch 16 | loss: 0.29438 | train_mse: 0.18396 | train_mae: 0.30695 |  0:00:06s\n"
     ]
    },
    {
     "name": "stdout",
     "output_type": "stream",
     "text": [
      "epoch 17 | loss: 0.24354 | train_mse: 0.16627 | train_mae: 0.29659 |  0:00:07s\n"
     ]
    },
    {
     "name": "stdout",
     "output_type": "stream",
     "text": [
      "epoch 18 | loss: 0.26546 | train_mse: 0.16253 | train_mae: 0.28287 |  0:00:07s\n"
     ]
    },
    {
     "name": "stdout",
     "output_type": "stream",
     "text": [
      "epoch 19 | loss: 0.23025 | train_mse: 0.15447 | train_mae: 0.27367 |  0:00:08s\n"
     ]
    },
    {
     "name": "stdout",
     "output_type": "stream",
     "text": [
      "epoch 20 | loss: 0.23142 | train_mse: 0.15668 | train_mae: 0.26773 |  0:00:08s\n"
     ]
    },
    {
     "name": "stdout",
     "output_type": "stream",
     "text": [
      "epoch 21 | loss: 0.23525 | train_mse: 0.16585 | train_mae: 0.27778 |  0:00:08s\n"
     ]
    },
    {
     "name": "stdout",
     "output_type": "stream",
     "text": [
      "epoch 22 | loss: 0.20507 | train_mse: 0.14005 | train_mae: 0.26301 |  0:00:09s\n"
     ]
    },
    {
     "name": "stdout",
     "output_type": "stream",
     "text": [
      "epoch 23 | loss: 0.2472  | train_mse: 0.16299 | train_mae: 0.27855 |  0:00:09s\n"
     ]
    },
    {
     "name": "stdout",
     "output_type": "stream",
     "text": [
      "epoch 24 | loss: 0.25081 | train_mse: 0.15957 | train_mae: 0.27782 |  0:00:10s\n"
     ]
    },
    {
     "name": "stdout",
     "output_type": "stream",
     "text": [
      "epoch 25 | loss: 0.18712 | train_mse: 0.15365 | train_mae: 0.27227 |  0:00:10s\n"
     ]
    },
    {
     "name": "stdout",
     "output_type": "stream",
     "text": [
      "epoch 26 | loss: 0.2117  | train_mse: 0.15124 | train_mae: 0.26881 |  0:00:11s\n"
     ]
    },
    {
     "name": "stdout",
     "output_type": "stream",
     "text": [
      "epoch 27 | loss: 0.24766 | train_mse: 0.16448 | train_mae: 0.2862  |  0:00:11s\n"
     ]
    },
    {
     "name": "stdout",
     "output_type": "stream",
     "text": [
      "epoch 28 | loss: 0.21045 | train_mse: 0.13047 | train_mae: 0.25475 |  0:00:11s\n"
     ]
    },
    {
     "name": "stdout",
     "output_type": "stream",
     "text": [
      "epoch 29 | loss: 0.21359 | train_mse: 0.14784 | train_mae: 0.26382 |  0:00:12s\n"
     ]
    },
    {
     "name": "stdout",
     "output_type": "stream",
     "text": [
      "epoch 30 | loss: 0.19368 | train_mse: 0.15769 | train_mae: 0.28559 |  0:00:13s\n"
     ]
    },
    {
     "name": "stdout",
     "output_type": "stream",
     "text": [
      "epoch 31 | loss: 0.17368 | train_mse: 0.12711 | train_mae: 0.25479 |  0:00:14s\n"
     ]
    },
    {
     "name": "stdout",
     "output_type": "stream",
     "text": [
      "epoch 32 | loss: 0.22073 | train_mse: 0.12204 | train_mae: 0.2468  |  0:00:14s\n"
     ]
    },
    {
     "name": "stdout",
     "output_type": "stream",
     "text": [
      "epoch 33 | loss: 0.1556  | train_mse: 0.11516 | train_mae: 0.24794 |  0:00:14s\n"
     ]
    },
    {
     "name": "stdout",
     "output_type": "stream",
     "text": [
      "epoch 34 | loss: 0.2078  | train_mse: 0.12788 | train_mae: 0.24361 |  0:00:15s\n"
     ]
    },
    {
     "name": "stdout",
     "output_type": "stream",
     "text": [
      "epoch 35 | loss: 0.17973 | train_mse: 0.11802 | train_mae: 0.23725 |  0:00:15s\n"
     ]
    },
    {
     "name": "stdout",
     "output_type": "stream",
     "text": [
      "epoch 36 | loss: 0.20373 | train_mse: 0.15118 | train_mae: 0.28014 |  0:00:16s\n"
     ]
    },
    {
     "name": "stdout",
     "output_type": "stream",
     "text": [
      "epoch 37 | loss: 0.17053 | train_mse: 0.12625 | train_mae: 0.25347 |  0:00:16s\n"
     ]
    },
    {
     "name": "stdout",
     "output_type": "stream",
     "text": [
      "epoch 38 | loss: 0.1774  | train_mse: 0.13041 | train_mae: 0.25358 |  0:00:16s\n"
     ]
    },
    {
     "name": "stdout",
     "output_type": "stream",
     "text": [
      "epoch 39 | loss: 0.16128 | train_mse: 0.12527 | train_mae: 0.24495 |  0:00:17s\n"
     ]
    },
    {
     "name": "stdout",
     "output_type": "stream",
     "text": [
      "epoch 40 | loss: 0.23155 | train_mse: 0.12473 | train_mae: 0.23895 |  0:00:17s\n"
     ]
    },
    {
     "name": "stdout",
     "output_type": "stream",
     "text": [
      "epoch 41 | loss: 0.16054 | train_mse: 0.1116  | train_mae: 0.22895 |  0:00:17s\n"
     ]
    },
    {
     "name": "stdout",
     "output_type": "stream",
     "text": [
      "epoch 42 | loss: 0.17316 | train_mse: 0.12905 | train_mae: 0.25418 |  0:00:18s\n"
     ]
    },
    {
     "name": "stdout",
     "output_type": "stream",
     "text": [
      "epoch 43 | loss: 0.16757 | train_mse: 0.11912 | train_mae: 0.25115 |  0:00:18s\n"
     ]
    },
    {
     "name": "stdout",
     "output_type": "stream",
     "text": [
      "epoch 44 | loss: 0.18811 | train_mse: 0.1187  | train_mae: 0.23547 |  0:00:19s\n"
     ]
    },
    {
     "name": "stdout",
     "output_type": "stream",
     "text": [
      "epoch 45 | loss: 0.14394 | train_mse: 0.10691 | train_mae: 0.22656 |  0:00:19s\n"
     ]
    },
    {
     "name": "stdout",
     "output_type": "stream",
     "text": [
      "epoch 46 | loss: 0.17988 | train_mse: 0.10995 | train_mae: 0.23342 |  0:00:19s\n"
     ]
    },
    {
     "name": "stdout",
     "output_type": "stream",
     "text": [
      "epoch 47 | loss: 0.22557 | train_mse: 0.11213 | train_mae: 0.24909 |  0:00:20s\n"
     ]
    },
    {
     "name": "stdout",
     "output_type": "stream",
     "text": [
      "epoch 48 | loss: 0.15634 | train_mse: 0.12893 | train_mae: 0.24527 |  0:00:20s\n"
     ]
    },
    {
     "name": "stdout",
     "output_type": "stream",
     "text": [
      "epoch 49 | loss: 0.14121 | train_mse: 0.11353 | train_mae: 0.24249 |  0:00:21s\n"
     ]
    },
    {
     "name": "stdout",
     "output_type": "stream",
     "text": [
      "epoch 50 | loss: 0.1608  | train_mse: 0.12382 | train_mae: 0.24598 |  0:00:21s\n"
     ]
    },
    {
     "name": "stdout",
     "output_type": "stream",
     "text": [
      "epoch 51 | loss: 0.15149 | train_mse: 0.09086 | train_mae: 0.21705 |  0:00:21s\n"
     ]
    },
    {
     "name": "stdout",
     "output_type": "stream",
     "text": [
      "epoch 52 | loss: 0.19297 | train_mse: 0.1013  | train_mae: 0.22954 |  0:00:22s\n"
     ]
    },
    {
     "name": "stdout",
     "output_type": "stream",
     "text": [
      "epoch 53 | loss: 0.13778 | train_mse: 0.09762 | train_mae: 0.22366 |  0:00:22s\n"
     ]
    },
    {
     "name": "stdout",
     "output_type": "stream",
     "text": [
      "epoch 54 | loss: 0.18505 | train_mse: 0.09977 | train_mae: 0.23358 |  0:00:23s\n"
     ]
    },
    {
     "name": "stdout",
     "output_type": "stream",
     "text": [
      "epoch 55 | loss: 0.18025 | train_mse: 0.1079  | train_mae: 0.23694 |  0:00:23s\n"
     ]
    },
    {
     "name": "stdout",
     "output_type": "stream",
     "text": [
      "epoch 56 | loss: 0.14193 | train_mse: 0.11331 | train_mae: 0.23997 |  0:00:23s\n"
     ]
    },
    {
     "name": "stdout",
     "output_type": "stream",
     "text": [
      "epoch 57 | loss: 0.14478 | train_mse: 0.13749 | train_mae: 0.27434 |  0:00:24s\n"
     ]
    },
    {
     "name": "stdout",
     "output_type": "stream",
     "text": [
      "epoch 58 | loss: 0.15704 | train_mse: 0.12684 | train_mae: 0.24944 |  0:00:24s\n"
     ]
    },
    {
     "name": "stdout",
     "output_type": "stream",
     "text": [
      "epoch 59 | loss: 0.14071 | train_mse: 0.10622 | train_mae: 0.23501 |  0:00:25s\n"
     ]
    },
    {
     "name": "stdout",
     "output_type": "stream",
     "text": [
      "epoch 60 | loss: 0.17293 | train_mse: 0.08884 | train_mae: 0.21323 |  0:00:25s\n"
     ]
    },
    {
     "name": "stdout",
     "output_type": "stream",
     "text": [
      "epoch 61 | loss: 0.16795 | train_mse: 0.10609 | train_mae: 0.23311 |  0:00:26s\n"
     ]
    },
    {
     "name": "stdout",
     "output_type": "stream",
     "text": [
      "epoch 62 | loss: 0.12737 | train_mse: 0.08222 | train_mae: 0.20636 |  0:00:26s\n"
     ]
    },
    {
     "name": "stdout",
     "output_type": "stream",
     "text": [
      "epoch 63 | loss: 0.17214 | train_mse: 0.09887 | train_mae: 0.22589 |  0:00:26s\n"
     ]
    },
    {
     "name": "stdout",
     "output_type": "stream",
     "text": [
      "epoch 64 | loss: 0.14342 | train_mse: 0.09919 | train_mae: 0.23026 |  0:00:27s\n"
     ]
    },
    {
     "name": "stdout",
     "output_type": "stream",
     "text": [
      "epoch 65 | loss: 0.16836 | train_mse: 0.11578 | train_mae: 0.2288  |  0:00:27s\n"
     ]
    },
    {
     "name": "stdout",
     "output_type": "stream",
     "text": [
      "epoch 66 | loss: 0.17974 | train_mse: 0.10596 | train_mae: 0.23661 |  0:00:28s\n"
     ]
    },
    {
     "name": "stdout",
     "output_type": "stream",
     "text": [
      "epoch 67 | loss: 0.17018 | train_mse: 0.14845 | train_mae: 0.27245 |  0:00:28s\n"
     ]
    },
    {
     "name": "stdout",
     "output_type": "stream",
     "text": [
      "epoch 68 | loss: 0.15708 | train_mse: 0.14822 | train_mae: 0.2648  |  0:00:28s\n"
     ]
    },
    {
     "name": "stdout",
     "output_type": "stream",
     "text": [
      "epoch 69 | loss: 0.17982 | train_mse: 0.15709 | train_mae: 0.27034 |  0:00:29s\n"
     ]
    },
    {
     "name": "stdout",
     "output_type": "stream",
     "text": [
      "epoch 70 | loss: 0.16503 | train_mse: 0.09581 | train_mae: 0.22155 |  0:00:29s\n"
     ]
    },
    {
     "name": "stdout",
     "output_type": "stream",
     "text": [
      "epoch 71 | loss: 0.19583 | train_mse: 0.11639 | train_mae: 0.2423  |  0:00:30s\n"
     ]
    },
    {
     "name": "stdout",
     "output_type": "stream",
     "text": [
      "epoch 72 | loss: 0.16579 | train_mse: 0.12581 | train_mae: 0.25519 |  0:00:30s\n"
     ]
    },
    {
     "name": "stdout",
     "output_type": "stream",
     "text": [
      "epoch 73 | loss: 0.15972 | train_mse: 0.1049  | train_mae: 0.23444 |  0:00:30s\n"
     ]
    },
    {
     "name": "stdout",
     "output_type": "stream",
     "text": [
      "epoch 74 | loss: 0.15872 | train_mse: 0.11187 | train_mae: 0.24484 |  0:00:31s\n"
     ]
    },
    {
     "name": "stdout",
     "output_type": "stream",
     "text": [
      "epoch 75 | loss: 0.16542 | train_mse: 0.09047 | train_mae: 0.22275 |  0:00:31s\n"
     ]
    },
    {
     "name": "stdout",
     "output_type": "stream",
     "text": [
      "epoch 76 | loss: 0.14976 | train_mse: 0.1053  | train_mae: 0.23674 |  0:00:32s\n"
     ]
    },
    {
     "name": "stdout",
     "output_type": "stream",
     "text": [
      "epoch 77 | loss: 0.15593 | train_mse: 0.10274 | train_mae: 0.22706 |  0:00:32s\n"
     ]
    },
    {
     "name": "stdout",
     "output_type": "stream",
     "text": [
      "epoch 78 | loss: 0.15903 | train_mse: 0.09666 | train_mae: 0.21626 |  0:00:32s\n"
     ]
    },
    {
     "name": "stdout",
     "output_type": "stream",
     "text": [
      "epoch 79 | loss: 0.15486 | train_mse: 0.11161 | train_mae: 0.23434 |  0:00:33s\n"
     ]
    },
    {
     "name": "stdout",
     "output_type": "stream",
     "text": [
      "epoch 80 | loss: 0.19017 | train_mse: 0.08852 | train_mae: 0.21956 |  0:00:33s\n"
     ]
    },
    {
     "name": "stdout",
     "output_type": "stream",
     "text": [
      "epoch 81 | loss: 0.1723  | train_mse: 0.11344 | train_mae: 0.24308 |  0:00:34s\n"
     ]
    },
    {
     "name": "stdout",
     "output_type": "stream",
     "text": [
      "epoch 82 | loss: 0.13525 | train_mse: 0.08227 | train_mae: 0.2172  |  0:00:34s\n"
     ]
    },
    {
     "name": "stdout",
     "output_type": "stream",
     "text": [
      "epoch 83 | loss: 0.13723 | train_mse: 0.09379 | train_mae: 0.2303  |  0:00:34s\n"
     ]
    },
    {
     "name": "stdout",
     "output_type": "stream",
     "text": [
      "epoch 84 | loss: 0.16184 | train_mse: 0.08331 | train_mae: 0.21749 |  0:00:35s\n"
     ]
    },
    {
     "name": "stdout",
     "output_type": "stream",
     "text": [
      "epoch 85 | loss: 0.16023 | train_mse: 0.09878 | train_mae: 0.23845 |  0:00:36s\n"
     ]
    },
    {
     "name": "stdout",
     "output_type": "stream",
     "text": [
      "epoch 86 | loss: 0.1423  | train_mse: 0.08694 | train_mae: 0.22412 |  0:00:36s\n"
     ]
    },
    {
     "name": "stdout",
     "output_type": "stream",
     "text": [
      "epoch 87 | loss: 0.13666 | train_mse: 0.1656  | train_mae: 0.25963 |  0:00:36s\n"
     ]
    },
    {
     "name": "stdout",
     "output_type": "stream",
     "text": [
      "epoch 88 | loss: 0.17729 | train_mse: 0.10686 | train_mae: 0.23092 |  0:00:37s\n"
     ]
    },
    {
     "name": "stdout",
     "output_type": "stream",
     "text": [
      "epoch 89 | loss: 0.10192 | train_mse: 0.07713 | train_mae: 0.20863 |  0:00:37s\n"
     ]
    },
    {
     "name": "stdout",
     "output_type": "stream",
     "text": [
      "epoch 90 | loss: 0.12797 | train_mse: 0.07873 | train_mae: 0.21122 |  0:00:38s\n"
     ]
    },
    {
     "name": "stdout",
     "output_type": "stream",
     "text": [
      "epoch 91 | loss: 0.15212 | train_mse: 0.07238 | train_mae: 0.20284 |  0:00:38s\n"
     ]
    },
    {
     "name": "stdout",
     "output_type": "stream",
     "text": [
      "epoch 92 | loss: 0.14983 | train_mse: 0.09612 | train_mae: 0.23375 |  0:00:39s\n"
     ]
    },
    {
     "name": "stdout",
     "output_type": "stream",
     "text": [
      "epoch 93 | loss: 0.14197 | train_mse: 0.08043 | train_mae: 0.21117 |  0:00:39s\n"
     ]
    },
    {
     "name": "stdout",
     "output_type": "stream",
     "text": [
      "epoch 94 | loss: 0.1404  | train_mse: 0.07732 | train_mae: 0.2074  |  0:00:40s\n"
     ]
    },
    {
     "name": "stdout",
     "output_type": "stream",
     "text": [
      "epoch 95 | loss: 0.12479 | train_mse: 0.09195 | train_mae: 0.2229  |  0:00:40s\n"
     ]
    },
    {
     "name": "stdout",
     "output_type": "stream",
     "text": [
      "epoch 96 | loss: 0.12621 | train_mse: 0.08118 | train_mae: 0.20872 |  0:00:40s\n"
     ]
    },
    {
     "name": "stdout",
     "output_type": "stream",
     "text": [
      "epoch 97 | loss: 0.12641 | train_mse: 0.0911  | train_mae: 0.22404 |  0:00:41s\n"
     ]
    },
    {
     "name": "stdout",
     "output_type": "stream",
     "text": [
      "epoch 98 | loss: 0.13277 | train_mse: 0.08332 | train_mae: 0.21002 |  0:00:41s\n"
     ]
    },
    {
     "name": "stdout",
     "output_type": "stream",
     "text": [
      "epoch 99 | loss: 0.15607 | train_mse: 0.08782 | train_mae: 0.21484 |  0:00:41s\n"
     ]
    },
    {
     "name": "stdout",
     "output_type": "stream",
     "text": [
      "epoch 100| loss: 0.11892 | train_mse: 0.06897 | train_mae: 0.19299 |  0:00:42s\n"
     ]
    },
    {
     "name": "stdout",
     "output_type": "stream",
     "text": [
      "epoch 101| loss: 0.16    | train_mse: 0.09156 | train_mae: 0.21807 |  0:00:42s\n"
     ]
    },
    {
     "name": "stdout",
     "output_type": "stream",
     "text": [
      "epoch 102| loss: 0.13714 | train_mse: 0.07637 | train_mae: 0.20466 |  0:00:42s\n"
     ]
    },
    {
     "name": "stdout",
     "output_type": "stream",
     "text": [
      "epoch 103| loss: 0.12011 | train_mse: 0.06839 | train_mae: 0.19016 |  0:00:43s\n"
     ]
    },
    {
     "name": "stdout",
     "output_type": "stream",
     "text": [
      "epoch 104| loss: 0.14952 | train_mse: 0.07299 | train_mae: 0.19949 |  0:00:43s\n"
     ]
    },
    {
     "name": "stdout",
     "output_type": "stream",
     "text": [
      "epoch 105| loss: 0.13318 | train_mse: 0.09196 | train_mae: 0.22428 |  0:00:44s\n"
     ]
    },
    {
     "name": "stdout",
     "output_type": "stream",
     "text": [
      "epoch 106| loss: 0.13931 | train_mse: 0.07001 | train_mae: 0.19524 |  0:00:44s\n"
     ]
    },
    {
     "name": "stdout",
     "output_type": "stream",
     "text": [
      "epoch 107| loss: 0.13434 | train_mse: 0.08528 | train_mae: 0.21736 |  0:00:45s\n"
     ]
    },
    {
     "name": "stdout",
     "output_type": "stream",
     "text": [
      "epoch 108| loss: 0.11665 | train_mse: 0.06625 | train_mae: 0.19039 |  0:00:45s\n"
     ]
    },
    {
     "name": "stdout",
     "output_type": "stream",
     "text": [
      "epoch 109| loss: 0.11948 | train_mse: 0.06603 | train_mae: 0.18758 |  0:00:45s\n"
     ]
    },
    {
     "name": "stdout",
     "output_type": "stream",
     "text": [
      "epoch 110| loss: 0.1357  | train_mse: 0.07231 | train_mae: 0.20187 |  0:00:46s\n"
     ]
    },
    {
     "name": "stdout",
     "output_type": "stream",
     "text": [
      "epoch 111| loss: 0.10893 | train_mse: 0.06254 | train_mae: 0.18643 |  0:00:46s\n"
     ]
    },
    {
     "name": "stdout",
     "output_type": "stream",
     "text": [
      "epoch 112| loss: 0.10323 | train_mse: 0.07235 | train_mae: 0.19693 |  0:00:47s\n"
     ]
    },
    {
     "name": "stdout",
     "output_type": "stream",
     "text": [
      "epoch 113| loss: 0.13611 | train_mse: 0.07971 | train_mae: 0.20801 |  0:00:47s\n"
     ]
    },
    {
     "name": "stdout",
     "output_type": "stream",
     "text": [
      "epoch 114| loss: 0.12986 | train_mse: 0.07574 | train_mae: 0.20662 |  0:00:47s\n"
     ]
    },
    {
     "name": "stdout",
     "output_type": "stream",
     "text": [
      "epoch 115| loss: 0.11145 | train_mse: 0.07626 | train_mae: 0.21138 |  0:00:48s\n"
     ]
    },
    {
     "name": "stdout",
     "output_type": "stream",
     "text": [
      "epoch 116| loss: 0.12693 | train_mse: 0.09214 | train_mae: 0.22716 |  0:00:48s\n"
     ]
    },
    {
     "name": "stdout",
     "output_type": "stream",
     "text": [
      "epoch 117| loss: 0.11357 | train_mse: 0.06813 | train_mae: 0.19836 |  0:00:48s\n"
     ]
    },
    {
     "name": "stdout",
     "output_type": "stream",
     "text": [
      "epoch 118| loss: 0.14008 | train_mse: 0.0824  | train_mae: 0.21489 |  0:00:49s\n"
     ]
    },
    {
     "name": "stdout",
     "output_type": "stream",
     "text": [
      "epoch 119| loss: 0.13524 | train_mse: 0.07505 | train_mae: 0.20828 |  0:00:49s\n"
     ]
    },
    {
     "name": "stdout",
     "output_type": "stream",
     "text": [
      "epoch 120| loss: 0.10973 | train_mse: 0.07074 | train_mae: 0.20612 |  0:00:50s\n"
     ]
    },
    {
     "name": "stdout",
     "output_type": "stream",
     "text": [
      "epoch 121| loss: 0.12668 | train_mse: 0.07225 | train_mae: 0.20231 |  0:00:50s\n"
     ]
    },
    {
     "name": "stdout",
     "output_type": "stream",
     "text": [
      "epoch 122| loss: 0.1073  | train_mse: 0.08548 | train_mae: 0.21701 |  0:00:50s\n"
     ]
    },
    {
     "name": "stdout",
     "output_type": "stream",
     "text": [
      "epoch 123| loss: 0.09822 | train_mse: 0.06883 | train_mae: 0.19563 |  0:00:51s\n"
     ]
    },
    {
     "name": "stdout",
     "output_type": "stream",
     "text": [
      "epoch 124| loss: 0.10207 | train_mse: 0.06295 | train_mae: 0.18479 |  0:00:51s\n"
     ]
    },
    {
     "name": "stdout",
     "output_type": "stream",
     "text": [
      "epoch 125| loss: 0.09741 | train_mse: 0.06677 | train_mae: 0.19477 |  0:00:52s\n"
     ]
    },
    {
     "name": "stdout",
     "output_type": "stream",
     "text": [
      "epoch 126| loss: 0.1224  | train_mse: 0.06162 | train_mae: 0.18515 |  0:00:52s\n"
     ]
    },
    {
     "name": "stdout",
     "output_type": "stream",
     "text": [
      "epoch 127| loss: 0.14882 | train_mse: 0.08296 | train_mae: 0.21484 |  0:00:52s\n"
     ]
    },
    {
     "name": "stdout",
     "output_type": "stream",
     "text": [
      "epoch 128| loss: 0.13149 | train_mse: 0.07451 | train_mae: 0.20806 |  0:00:53s\n"
     ]
    },
    {
     "name": "stdout",
     "output_type": "stream",
     "text": [
      "epoch 129| loss: 0.15132 | train_mse: 0.10215 | train_mae: 0.23757 |  0:00:53s\n"
     ]
    },
    {
     "name": "stdout",
     "output_type": "stream",
     "text": [
      "epoch 130| loss: 0.16507 | train_mse: 0.07115 | train_mae: 0.20312 |  0:00:54s\n"
     ]
    },
    {
     "name": "stdout",
     "output_type": "stream",
     "text": [
      "epoch 131| loss: 0.12599 | train_mse: 0.06981 | train_mae: 0.20172 |  0:00:54s\n"
     ]
    },
    {
     "name": "stdout",
     "output_type": "stream",
     "text": [
      "epoch 132| loss: 0.09609 | train_mse: 0.07205 | train_mae: 0.19703 |  0:00:54s\n"
     ]
    },
    {
     "name": "stdout",
     "output_type": "stream",
     "text": [
      "epoch 133| loss: 0.13111 | train_mse: 0.06356 | train_mae: 0.18928 |  0:00:55s\n"
     ]
    },
    {
     "name": "stdout",
     "output_type": "stream",
     "text": [
      "epoch 134| loss: 0.15328 | train_mse: 0.08705 | train_mae: 0.21786 |  0:00:55s\n"
     ]
    },
    {
     "name": "stdout",
     "output_type": "stream",
     "text": [
      "epoch 135| loss: 0.12358 | train_mse: 0.08303 | train_mae: 0.22152 |  0:00:56s\n"
     ]
    },
    {
     "name": "stdout",
     "output_type": "stream",
     "text": [
      "epoch 136| loss: 0.16944 | train_mse: 0.08167 | train_mae: 0.21307 |  0:00:56s\n"
     ]
    },
    {
     "name": "stdout",
     "output_type": "stream",
     "text": [
      "epoch 137| loss: 0.12398 | train_mse: 0.08377 | train_mae: 0.21706 |  0:00:56s\n"
     ]
    },
    {
     "name": "stdout",
     "output_type": "stream",
     "text": [
      "epoch 138| loss: 0.12785 | train_mse: 0.07729 | train_mae: 0.20754 |  0:00:57s\n"
     ]
    },
    {
     "name": "stdout",
     "output_type": "stream",
     "text": [
      "epoch 139| loss: 0.13417 | train_mse: 0.075   | train_mae: 0.20442 |  0:00:57s\n"
     ]
    },
    {
     "name": "stdout",
     "output_type": "stream",
     "text": [
      "epoch 140| loss: 0.133   | train_mse: 0.07923 | train_mae: 0.20614 |  0:00:58s\n"
     ]
    },
    {
     "name": "stdout",
     "output_type": "stream",
     "text": [
      "epoch 141| loss: 0.12888 | train_mse: 0.08286 | train_mae: 0.21683 |  0:00:58s\n"
     ]
    },
    {
     "name": "stdout",
     "output_type": "stream",
     "text": [
      "epoch 142| loss: 0.1323  | train_mse: 0.07863 | train_mae: 0.2061  |  0:00:58s\n"
     ]
    },
    {
     "name": "stdout",
     "output_type": "stream",
     "text": [
      "epoch 143| loss: 0.10434 | train_mse: 0.08445 | train_mae: 0.21295 |  0:00:59s\n"
     ]
    },
    {
     "name": "stdout",
     "output_type": "stream",
     "text": [
      "epoch 144| loss: 0.10454 | train_mse: 0.06904 | train_mae: 0.19914 |  0:00:59s\n"
     ]
    },
    {
     "name": "stdout",
     "output_type": "stream",
     "text": [
      "epoch 145| loss: 0.10243 | train_mse: 0.06946 | train_mae: 0.19879 |  0:01:00s\n"
     ]
    },
    {
     "name": "stdout",
     "output_type": "stream",
     "text": [
      "epoch 146| loss: 0.09643 | train_mse: 0.06199 | train_mae: 0.18765 |  0:01:00s\n"
     ]
    },
    {
     "name": "stdout",
     "output_type": "stream",
     "text": [
      "epoch 147| loss: 0.10037 | train_mse: 0.06002 | train_mae: 0.18757 |  0:01:01s\n"
     ]
    },
    {
     "name": "stdout",
     "output_type": "stream",
     "text": [
      "epoch 148| loss: 0.12598 | train_mse: 0.06233 | train_mae: 0.19064 |  0:01:01s\n"
     ]
    },
    {
     "name": "stdout",
     "output_type": "stream",
     "text": [
      "epoch 149| loss: 0.10886 | train_mse: 0.06892 | train_mae: 0.19893 |  0:01:02s\n"
     ]
    },
    {
     "name": "stdout",
     "output_type": "stream",
     "text": [
      "epoch 150| loss: 0.10207 | train_mse: 0.07091 | train_mae: 0.20089 |  0:01:02s\n"
     ]
    },
    {
     "name": "stdout",
     "output_type": "stream",
     "text": [
      "epoch 151| loss: 0.10371 | train_mse: 0.06812 | train_mae: 0.19374 |  0:01:03s\n"
     ]
    },
    {
     "name": "stdout",
     "output_type": "stream",
     "text": [
      "epoch 152| loss: 0.10229 | train_mse: 0.07205 | train_mae: 0.19971 |  0:01:03s\n"
     ]
    },
    {
     "name": "stdout",
     "output_type": "stream",
     "text": [
      "epoch 153| loss: 0.09334 | train_mse: 0.0818  | train_mae: 0.21234 |  0:01:03s\n"
     ]
    },
    {
     "name": "stdout",
     "output_type": "stream",
     "text": [
      "epoch 154| loss: 0.13376 | train_mse: 0.06385 | train_mae: 0.19075 |  0:01:04s\n"
     ]
    },
    {
     "name": "stdout",
     "output_type": "stream",
     "text": [
      "epoch 155| loss: 0.12257 | train_mse: 0.07112 | train_mae: 0.20687 |  0:01:04s\n"
     ]
    },
    {
     "name": "stdout",
     "output_type": "stream",
     "text": [
      "epoch 156| loss: 0.10622 | train_mse: 0.06562 | train_mae: 0.19211 |  0:01:04s\n"
     ]
    },
    {
     "name": "stdout",
     "output_type": "stream",
     "text": [
      "epoch 157| loss: 0.10482 | train_mse: 0.0674  | train_mae: 0.19739 |  0:01:05s\n"
     ]
    },
    {
     "name": "stdout",
     "output_type": "stream",
     "text": [
      "epoch 158| loss: 0.1151  | train_mse: 0.09449 | train_mae: 0.231   |  0:01:05s\n"
     ]
    },
    {
     "name": "stdout",
     "output_type": "stream",
     "text": [
      "epoch 159| loss: 0.15435 | train_mse: 0.08272 | train_mae: 0.21262 |  0:01:06s\n"
     ]
    },
    {
     "name": "stdout",
     "output_type": "stream",
     "text": [
      "epoch 160| loss: 0.11177 | train_mse: 0.07169 | train_mae: 0.19682 |  0:01:06s\n"
     ]
    },
    {
     "name": "stdout",
     "output_type": "stream",
     "text": [
      "epoch 161| loss: 0.16679 | train_mse: 0.08377 | train_mae: 0.21505 |  0:01:06s\n"
     ]
    },
    {
     "name": "stdout",
     "output_type": "stream",
     "text": [
      "epoch 162| loss: 0.12717 | train_mse: 0.06508 | train_mae: 0.19162 |  0:01:07s\n"
     ]
    },
    {
     "name": "stdout",
     "output_type": "stream",
     "text": [
      "epoch 163| loss: 0.09695 | train_mse: 0.06588 | train_mae: 0.19076 |  0:01:07s\n"
     ]
    },
    {
     "name": "stdout",
     "output_type": "stream",
     "text": [
      "epoch 164| loss: 0.0991  | train_mse: 0.07467 | train_mae: 0.20456 |  0:01:08s\n"
     ]
    },
    {
     "name": "stdout",
     "output_type": "stream",
     "text": [
      "epoch 165| loss: 0.12801 | train_mse: 0.05912 | train_mae: 0.18144 |  0:01:08s\n"
     ]
    },
    {
     "name": "stdout",
     "output_type": "stream",
     "text": [
      "epoch 166| loss: 0.08556 | train_mse: 0.07974 | train_mae: 0.20783 |  0:01:08s\n"
     ]
    },
    {
     "name": "stdout",
     "output_type": "stream",
     "text": [
      "epoch 167| loss: 0.12253 | train_mse: 0.06287 | train_mae: 0.18971 |  0:01:09s\n"
     ]
    },
    {
     "name": "stdout",
     "output_type": "stream",
     "text": [
      "epoch 168| loss: 0.09196 | train_mse: 0.06166 | train_mae: 0.18771 |  0:01:09s\n"
     ]
    },
    {
     "name": "stdout",
     "output_type": "stream",
     "text": [
      "epoch 169| loss: 0.09238 | train_mse: 0.06103 | train_mae: 0.19074 |  0:01:10s\n"
     ]
    },
    {
     "name": "stdout",
     "output_type": "stream",
     "text": [
      "epoch 170| loss: 0.12716 | train_mse: 0.08222 | train_mae: 0.21982 |  0:01:10s\n"
     ]
    },
    {
     "name": "stdout",
     "output_type": "stream",
     "text": [
      "epoch 171| loss: 0.11154 | train_mse: 0.06595 | train_mae: 0.19339 |  0:01:10s\n"
     ]
    },
    {
     "name": "stdout",
     "output_type": "stream",
     "text": [
      "epoch 172| loss: 0.11098 | train_mse: 0.06873 | train_mae: 0.19208 |  0:01:11s\n"
     ]
    },
    {
     "name": "stdout",
     "output_type": "stream",
     "text": [
      "epoch 173| loss: 0.0988  | train_mse: 0.05937 | train_mae: 0.17928 |  0:01:11s\n"
     ]
    },
    {
     "name": "stdout",
     "output_type": "stream",
     "text": [
      "epoch 174| loss: 0.12105 | train_mse: 0.08253 | train_mae: 0.20919 |  0:01:12s\n"
     ]
    },
    {
     "name": "stdout",
     "output_type": "stream",
     "text": [
      "epoch 175| loss: 0.11026 | train_mse: 0.05842 | train_mae: 0.17887 |  0:01:13s\n"
     ]
    },
    {
     "name": "stdout",
     "output_type": "stream",
     "text": [
      "epoch 176| loss: 0.09793 | train_mse: 0.05778 | train_mae: 0.17952 |  0:01:13s\n"
     ]
    },
    {
     "name": "stdout",
     "output_type": "stream",
     "text": [
      "epoch 177| loss: 0.11559 | train_mse: 0.06623 | train_mae: 0.18933 |  0:01:14s\n"
     ]
    },
    {
     "name": "stdout",
     "output_type": "stream",
     "text": [
      "epoch 178| loss: 0.08945 | train_mse: 0.06156 | train_mae: 0.1863  |  0:01:14s\n"
     ]
    },
    {
     "name": "stdout",
     "output_type": "stream",
     "text": [
      "epoch 179| loss: 0.08896 | train_mse: 0.0642  | train_mae: 0.19092 |  0:01:14s\n"
     ]
    },
    {
     "name": "stdout",
     "output_type": "stream",
     "text": [
      "epoch 180| loss: 0.0838  | train_mse: 0.06986 | train_mae: 0.19749 |  0:01:15s\n"
     ]
    },
    {
     "name": "stdout",
     "output_type": "stream",
     "text": [
      "epoch 181| loss: 0.07784 | train_mse: 0.05341 | train_mae: 0.17537 |  0:01:15s\n"
     ]
    },
    {
     "name": "stdout",
     "output_type": "stream",
     "text": [
      "epoch 182| loss: 0.10041 | train_mse: 0.06371 | train_mae: 0.18708 |  0:01:16s\n"
     ]
    },
    {
     "name": "stdout",
     "output_type": "stream",
     "text": [
      "epoch 183| loss: 0.11359 | train_mse: 0.07091 | train_mae: 0.19564 |  0:01:16s\n"
     ]
    },
    {
     "name": "stdout",
     "output_type": "stream",
     "text": [
      "epoch 184| loss: 0.11845 | train_mse: 0.05925 | train_mae: 0.17331 |  0:01:17s\n"
     ]
    },
    {
     "name": "stdout",
     "output_type": "stream",
     "text": [
      "epoch 185| loss: 0.10273 | train_mse: 0.06395 | train_mae: 0.18887 |  0:01:17s\n"
     ]
    },
    {
     "name": "stdout",
     "output_type": "stream",
     "text": [
      "epoch 186| loss: 0.09817 | train_mse: 0.05731 | train_mae: 0.18097 |  0:01:18s\n"
     ]
    },
    {
     "name": "stdout",
     "output_type": "stream",
     "text": [
      "epoch 187| loss: 0.13568 | train_mse: 0.06493 | train_mae: 0.18973 |  0:01:18s\n"
     ]
    },
    {
     "name": "stdout",
     "output_type": "stream",
     "text": [
      "epoch 188| loss: 0.0853  | train_mse: 0.05699 | train_mae: 0.18419 |  0:01:18s\n"
     ]
    },
    {
     "name": "stdout",
     "output_type": "stream",
     "text": [
      "epoch 189| loss: 0.09365 | train_mse: 0.06239 | train_mae: 0.19193 |  0:01:19s\n"
     ]
    },
    {
     "name": "stdout",
     "output_type": "stream",
     "text": [
      "epoch 190| loss: 0.07882 | train_mse: 0.06357 | train_mae: 0.19548 |  0:01:19s\n"
     ]
    },
    {
     "name": "stdout",
     "output_type": "stream",
     "text": [
      "epoch 191| loss: 0.10918 | train_mse: 0.06376 | train_mae: 0.19334 |  0:01:20s\n"
     ]
    },
    {
     "name": "stdout",
     "output_type": "stream",
     "text": [
      "epoch 192| loss: 0.08611 | train_mse: 0.06997 | train_mae: 0.20308 |  0:01:21s\n"
     ]
    },
    {
     "name": "stdout",
     "output_type": "stream",
     "text": [
      "epoch 193| loss: 0.08602 | train_mse: 0.05052 | train_mae: 0.17148 |  0:01:21s\n"
     ]
    },
    {
     "name": "stdout",
     "output_type": "stream",
     "text": [
      "epoch 194| loss: 0.0917  | train_mse: 0.07232 | train_mae: 0.20505 |  0:01:22s\n"
     ]
    },
    {
     "name": "stdout",
     "output_type": "stream",
     "text": [
      "epoch 195| loss: 0.1423  | train_mse: 0.06344 | train_mae: 0.18867 |  0:01:22s\n"
     ]
    },
    {
     "name": "stdout",
     "output_type": "stream",
     "text": [
      "epoch 196| loss: 0.14046 | train_mse: 0.05938 | train_mae: 0.17762 |  0:01:22s\n"
     ]
    },
    {
     "name": "stdout",
     "output_type": "stream",
     "text": [
      "epoch 197| loss: 0.08208 | train_mse: 0.0594  | train_mae: 0.18008 |  0:01:23s\n"
     ]
    },
    {
     "name": "stdout",
     "output_type": "stream",
     "text": [
      "epoch 198| loss: 0.10368 | train_mse: 0.05475 | train_mae: 0.17913 |  0:01:23s\n"
     ]
    },
    {
     "name": "stdout",
     "output_type": "stream",
     "text": [
      "epoch 199| loss: 0.10595 | train_mse: 0.07035 | train_mae: 0.19673 |  0:01:24s\n"
     ]
    },
    {
     "name": "stdout",
     "output_type": "stream",
     "text": [
      "epoch 200| loss: 0.08461 | train_mse: 0.06312 | train_mae: 0.1879  |  0:01:24s\n"
     ]
    },
    {
     "name": "stdout",
     "output_type": "stream",
     "text": [
      "epoch 201| loss: 0.09926 | train_mse: 0.08531 | train_mae: 0.21618 |  0:01:24s\n"
     ]
    },
    {
     "name": "stdout",
     "output_type": "stream",
     "text": [
      "epoch 202| loss: 0.11012 | train_mse: 0.06403 | train_mae: 0.18857 |  0:01:25s\n"
     ]
    },
    {
     "name": "stdout",
     "output_type": "stream",
     "text": [
      "epoch 203| loss: 0.11126 | train_mse: 0.05875 | train_mae: 0.18453 |  0:01:26s\n"
     ]
    },
    {
     "name": "stdout",
     "output_type": "stream",
     "text": [
      "epoch 204| loss: 0.13411 | train_mse: 0.07619 | train_mae: 0.20273 |  0:01:26s\n"
     ]
    },
    {
     "name": "stdout",
     "output_type": "stream",
     "text": [
      "epoch 205| loss: 0.10109 | train_mse: 0.06207 | train_mae: 0.18395 |  0:01:27s\n"
     ]
    },
    {
     "name": "stdout",
     "output_type": "stream",
     "text": [
      "epoch 206| loss: 0.10974 | train_mse: 0.0588  | train_mae: 0.17906 |  0:01:27s\n"
     ]
    },
    {
     "name": "stdout",
     "output_type": "stream",
     "text": [
      "epoch 207| loss: 0.09561 | train_mse: 0.0518  | train_mae: 0.17185 |  0:01:27s\n"
     ]
    },
    {
     "name": "stdout",
     "output_type": "stream",
     "text": [
      "epoch 208| loss: 0.09541 | train_mse: 0.06602 | train_mae: 0.18917 |  0:01:28s\n"
     ]
    },
    {
     "name": "stdout",
     "output_type": "stream",
     "text": [
      "epoch 209| loss: 0.08261 | train_mse: 0.04944 | train_mae: 0.16583 |  0:01:28s\n"
     ]
    },
    {
     "name": "stdout",
     "output_type": "stream",
     "text": [
      "epoch 210| loss: 0.13627 | train_mse: 0.06644 | train_mae: 0.19471 |  0:01:29s\n"
     ]
    },
    {
     "name": "stdout",
     "output_type": "stream",
     "text": [
      "epoch 211| loss: 0.09399 | train_mse: 0.05837 | train_mae: 0.18611 |  0:01:29s\n"
     ]
    },
    {
     "name": "stdout",
     "output_type": "stream",
     "text": [
      "epoch 212| loss: 0.12515 | train_mse: 0.0557  | train_mae: 0.17839 |  0:01:29s\n"
     ]
    },
    {
     "name": "stdout",
     "output_type": "stream",
     "text": [
      "epoch 213| loss: 0.09111 | train_mse: 0.06221 | train_mae: 0.18803 |  0:01:30s\n"
     ]
    },
    {
     "name": "stdout",
     "output_type": "stream",
     "text": [
      "epoch 214| loss: 0.11809 | train_mse: 0.07711 | train_mae: 0.21042 |  0:01:30s\n"
     ]
    },
    {
     "name": "stdout",
     "output_type": "stream",
     "text": [
      "epoch 215| loss: 0.10572 | train_mse: 0.06391 | train_mae: 0.19092 |  0:01:31s\n"
     ]
    },
    {
     "name": "stdout",
     "output_type": "stream",
     "text": [
      "epoch 216| loss: 0.14327 | train_mse: 0.05308 | train_mae: 0.17136 |  0:01:32s\n"
     ]
    },
    {
     "name": "stdout",
     "output_type": "stream",
     "text": [
      "epoch 217| loss: 0.11004 | train_mse: 0.05465 | train_mae: 0.17372 |  0:01:32s\n"
     ]
    },
    {
     "name": "stdout",
     "output_type": "stream",
     "text": [
      "epoch 218| loss: 0.10664 | train_mse: 0.07087 | train_mae: 0.19839 |  0:01:33s\n"
     ]
    },
    {
     "name": "stdout",
     "output_type": "stream",
     "text": [
      "epoch 219| loss: 0.09808 | train_mse: 0.0539  | train_mae: 0.17434 |  0:01:33s\n"
     ]
    },
    {
     "name": "stdout",
     "output_type": "stream",
     "text": [
      "epoch 220| loss: 0.11776 | train_mse: 0.07225 | train_mae: 0.20204 |  0:01:33s\n"
     ]
    },
    {
     "name": "stdout",
     "output_type": "stream",
     "text": [
      "epoch 221| loss: 0.10456 | train_mse: 0.05668 | train_mae: 0.17957 |  0:01:34s\n"
     ]
    },
    {
     "name": "stdout",
     "output_type": "stream",
     "text": [
      "epoch 222| loss: 0.09886 | train_mse: 0.06621 | train_mae: 0.19571 |  0:01:34s\n"
     ]
    },
    {
     "name": "stdout",
     "output_type": "stream",
     "text": [
      "epoch 223| loss: 0.07887 | train_mse: 0.0581  | train_mae: 0.18211 |  0:01:35s\n"
     ]
    },
    {
     "name": "stdout",
     "output_type": "stream",
     "text": [
      "epoch 224| loss: 0.09301 | train_mse: 0.05397 | train_mae: 0.17644 |  0:01:35s\n"
     ]
    },
    {
     "name": "stdout",
     "output_type": "stream",
     "text": [
      "epoch 225| loss: 0.07312 | train_mse: 0.05218 | train_mae: 0.17291 |  0:01:35s\n"
     ]
    },
    {
     "name": "stdout",
     "output_type": "stream",
     "text": [
      "epoch 226| loss: 0.10609 | train_mse: 0.06138 | train_mae: 0.1865  |  0:01:36s\n"
     ]
    },
    {
     "name": "stdout",
     "output_type": "stream",
     "text": [
      "epoch 227| loss: 0.10566 | train_mse: 0.05026 | train_mae: 0.17371 |  0:01:36s\n"
     ]
    },
    {
     "name": "stdout",
     "output_type": "stream",
     "text": [
      "epoch 228| loss: 0.08859 | train_mse: 0.05435 | train_mae: 0.17944 |  0:01:37s\n"
     ]
    },
    {
     "name": "stdout",
     "output_type": "stream",
     "text": [
      "epoch 229| loss: 0.11351 | train_mse: 0.05903 | train_mae: 0.17805 |  0:01:37s\n"
     ]
    },
    {
     "name": "stdout",
     "output_type": "stream",
     "text": [
      "epoch 230| loss: 0.11494 | train_mse: 0.07285 | train_mae: 0.2038  |  0:01:37s\n"
     ]
    },
    {
     "name": "stdout",
     "output_type": "stream",
     "text": [
      "epoch 231| loss: 0.10145 | train_mse: 0.05628 | train_mae: 0.1814  |  0:01:38s\n"
     ]
    },
    {
     "name": "stdout",
     "output_type": "stream",
     "text": [
      "epoch 232| loss: 0.08524 | train_mse: 0.0487  | train_mae: 0.16724 |  0:01:38s\n"
     ]
    },
    {
     "name": "stdout",
     "output_type": "stream",
     "text": [
      "epoch 233| loss: 0.10414 | train_mse: 0.05284 | train_mae: 0.18037 |  0:01:39s\n"
     ]
    },
    {
     "name": "stdout",
     "output_type": "stream",
     "text": [
      "epoch 234| loss: 0.09194 | train_mse: 0.06096 | train_mae: 0.18873 |  0:01:39s\n"
     ]
    },
    {
     "name": "stdout",
     "output_type": "stream",
     "text": [
      "epoch 235| loss: 0.11221 | train_mse: 0.06783 | train_mae: 0.19371 |  0:01:39s\n"
     ]
    },
    {
     "name": "stdout",
     "output_type": "stream",
     "text": [
      "epoch 236| loss: 0.10565 | train_mse: 0.05129 | train_mae: 0.17049 |  0:01:40s\n"
     ]
    },
    {
     "name": "stdout",
     "output_type": "stream",
     "text": [
      "epoch 237| loss: 0.08411 | train_mse: 0.05843 | train_mae: 0.18574 |  0:01:40s\n"
     ]
    },
    {
     "name": "stdout",
     "output_type": "stream",
     "text": [
      "epoch 238| loss: 0.09909 | train_mse: 0.0492  | train_mae: 0.16661 |  0:01:41s\n"
     ]
    },
    {
     "name": "stdout",
     "output_type": "stream",
     "text": [
      "epoch 239| loss: 0.10063 | train_mse: 0.05953 | train_mae: 0.18522 |  0:01:41s\n"
     ]
    },
    {
     "name": "stdout",
     "output_type": "stream",
     "text": [
      "epoch 240| loss: 0.08812 | train_mse: 0.05464 | train_mae: 0.1799  |  0:01:41s\n"
     ]
    },
    {
     "name": "stdout",
     "output_type": "stream",
     "text": [
      "epoch 241| loss: 0.08264 | train_mse: 0.05235 | train_mae: 0.17594 |  0:01:42s\n"
     ]
    },
    {
     "name": "stdout",
     "output_type": "stream",
     "text": [
      "epoch 242| loss: 0.07186 | train_mse: 0.05    | train_mae: 0.17182 |  0:01:42s\n"
     ]
    },
    {
     "name": "stdout",
     "output_type": "stream",
     "text": [
      "epoch 243| loss: 0.08552 | train_mse: 0.05785 | train_mae: 0.18469 |  0:01:43s\n"
     ]
    },
    {
     "name": "stdout",
     "output_type": "stream",
     "text": [
      "epoch 244| loss: 0.0957  | train_mse: 0.05479 | train_mae: 0.18001 |  0:01:43s\n"
     ]
    },
    {
     "name": "stdout",
     "output_type": "stream",
     "text": [
      "epoch 245| loss: 0.09908 | train_mse: 0.0581  | train_mae: 0.18159 |  0:01:43s\n"
     ]
    },
    {
     "name": "stdout",
     "output_type": "stream",
     "text": [
      "epoch 246| loss: 0.09335 | train_mse: 0.05592 | train_mae: 0.17765 |  0:01:44s\n"
     ]
    },
    {
     "name": "stdout",
     "output_type": "stream",
     "text": [
      "epoch 247| loss: 0.09738 | train_mse: 0.05824 | train_mae: 0.18232 |  0:01:44s\n"
     ]
    },
    {
     "name": "stdout",
     "output_type": "stream",
     "text": [
      "epoch 248| loss: 0.09304 | train_mse: 0.05249 | train_mae: 0.17677 |  0:01:45s\n"
     ]
    },
    {
     "name": "stdout",
     "output_type": "stream",
     "text": [
      "epoch 249| loss: 0.08565 | train_mse: 0.05648 | train_mae: 0.17974 |  0:01:45s\n"
     ]
    },
    {
     "name": "stdout",
     "output_type": "stream",
     "text": [
      "epoch 250| loss: 0.10086 | train_mse: 0.05036 | train_mae: 0.17183 |  0:01:46s\n"
     ]
    },
    {
     "name": "stdout",
     "output_type": "stream",
     "text": [
      "epoch 251| loss: 0.07349 | train_mse: 0.05715 | train_mae: 0.17867 |  0:01:46s\n"
     ]
    },
    {
     "name": "stdout",
     "output_type": "stream",
     "text": [
      "epoch 252| loss: 0.08139 | train_mse: 0.04918 | train_mae: 0.1685  |  0:01:47s\n"
     ]
    },
    {
     "name": "stdout",
     "output_type": "stream",
     "text": [
      "epoch 253| loss: 0.09257 | train_mse: 0.05006 | train_mae: 0.17194 |  0:01:47s\n"
     ]
    },
    {
     "name": "stdout",
     "output_type": "stream",
     "text": [
      "epoch 254| loss: 0.06764 | train_mse: 0.04435 | train_mae: 0.15925 |  0:01:47s\n"
     ]
    },
    {
     "name": "stdout",
     "output_type": "stream",
     "text": [
      "epoch 255| loss: 0.07766 | train_mse: 0.04328 | train_mae: 0.15856 |  0:01:48s\n"
     ]
    },
    {
     "name": "stdout",
     "output_type": "stream",
     "text": [
      "epoch 256| loss: 0.06956 | train_mse: 0.0446  | train_mae: 0.15821 |  0:01:48s\n"
     ]
    },
    {
     "name": "stdout",
     "output_type": "stream",
     "text": [
      "epoch 257| loss: 0.08774 | train_mse: 0.04305 | train_mae: 0.15655 |  0:01:49s\n"
     ]
    },
    {
     "name": "stdout",
     "output_type": "stream",
     "text": [
      "epoch 258| loss: 0.09009 | train_mse: 0.04583 | train_mae: 0.16108 |  0:01:49s\n"
     ]
    },
    {
     "name": "stdout",
     "output_type": "stream",
     "text": [
      "epoch 259| loss: 0.07616 | train_mse: 0.05048 | train_mae: 0.16562 |  0:01:49s\n"
     ]
    },
    {
     "name": "stdout",
     "output_type": "stream",
     "text": [
      "epoch 260| loss: 0.10865 | train_mse: 0.05845 | train_mae: 0.18671 |  0:01:50s\n"
     ]
    },
    {
     "name": "stdout",
     "output_type": "stream",
     "text": [
      "epoch 261| loss: 0.11197 | train_mse: 0.06245 | train_mae: 0.18865 |  0:01:50s\n"
     ]
    },
    {
     "name": "stdout",
     "output_type": "stream",
     "text": [
      "epoch 262| loss: 0.12648 | train_mse: 0.05864 | train_mae: 0.18555 |  0:01:51s\n"
     ]
    },
    {
     "name": "stdout",
     "output_type": "stream",
     "text": [
      "epoch 263| loss: 0.09046 | train_mse: 0.05658 | train_mae: 0.18447 |  0:01:51s\n"
     ]
    },
    {
     "name": "stdout",
     "output_type": "stream",
     "text": [
      "epoch 264| loss: 0.09757 | train_mse: 0.05657 | train_mae: 0.17652 |  0:01:51s\n"
     ]
    },
    {
     "name": "stdout",
     "output_type": "stream",
     "text": [
      "epoch 265| loss: 0.11721 | train_mse: 0.06217 | train_mae: 0.18977 |  0:01:52s\n"
     ]
    },
    {
     "name": "stdout",
     "output_type": "stream",
     "text": [
      "epoch 266| loss: 0.08058 | train_mse: 0.06047 | train_mae: 0.18366 |  0:01:52s\n"
     ]
    },
    {
     "name": "stdout",
     "output_type": "stream",
     "text": [
      "epoch 267| loss: 0.14075 | train_mse: 0.05788 | train_mae: 0.18119 |  0:01:53s\n"
     ]
    },
    {
     "name": "stdout",
     "output_type": "stream",
     "text": [
      "epoch 268| loss: 0.08967 | train_mse: 0.05583 | train_mae: 0.17752 |  0:01:53s\n"
     ]
    },
    {
     "name": "stdout",
     "output_type": "stream",
     "text": [
      "epoch 269| loss: 0.09869 | train_mse: 0.05014 | train_mae: 0.16919 |  0:01:53s\n"
     ]
    },
    {
     "name": "stdout",
     "output_type": "stream",
     "text": [
      "epoch 270| loss: 0.09297 | train_mse: 0.04458 | train_mae: 0.15736 |  0:01:54s\n"
     ]
    },
    {
     "name": "stdout",
     "output_type": "stream",
     "text": [
      "epoch 271| loss: 0.09453 | train_mse: 0.0647  | train_mae: 0.18675 |  0:01:54s\n"
     ]
    },
    {
     "name": "stdout",
     "output_type": "stream",
     "text": [
      "epoch 272| loss: 0.09638 | train_mse: 0.04797 | train_mae: 0.16737 |  0:01:55s\n"
     ]
    },
    {
     "name": "stdout",
     "output_type": "stream",
     "text": [
      "epoch 273| loss: 0.12414 | train_mse: 0.06475 | train_mae: 0.19185 |  0:01:55s\n"
     ]
    },
    {
     "name": "stdout",
     "output_type": "stream",
     "text": [
      "epoch 274| loss: 0.08788 | train_mse: 0.05126 | train_mae: 0.17252 |  0:01:56s\n"
     ]
    },
    {
     "name": "stdout",
     "output_type": "stream",
     "text": [
      "epoch 275| loss: 0.08192 | train_mse: 0.06155 | train_mae: 0.184   |  0:01:56s\n"
     ]
    },
    {
     "name": "stdout",
     "output_type": "stream",
     "text": [
      "epoch 276| loss: 0.10064 | train_mse: 0.0508  | train_mae: 0.17187 |  0:01:56s\n"
     ]
    },
    {
     "name": "stdout",
     "output_type": "stream",
     "text": [
      "epoch 277| loss: 0.07584 | train_mse: 0.0461  | train_mae: 0.16236 |  0:01:57s\n"
     ]
    },
    {
     "name": "stdout",
     "output_type": "stream",
     "text": [
      "epoch 278| loss: 0.07948 | train_mse: 0.05227 | train_mae: 0.17375 |  0:01:57s\n"
     ]
    },
    {
     "name": "stdout",
     "output_type": "stream",
     "text": [
      "epoch 279| loss: 0.09026 | train_mse: 0.05901 | train_mae: 0.17702 |  0:01:57s\n"
     ]
    },
    {
     "name": "stdout",
     "output_type": "stream",
     "text": [
      "epoch 280| loss: 0.10335 | train_mse: 0.07304 | train_mae: 0.1955  |  0:01:58s\n"
     ]
    },
    {
     "name": "stdout",
     "output_type": "stream",
     "text": [
      "epoch 281| loss: 0.06949 | train_mse: 0.0715  | train_mae: 0.19032 |  0:01:58s\n"
     ]
    },
    {
     "name": "stdout",
     "output_type": "stream",
     "text": [
      "epoch 282| loss: 0.10404 | train_mse: 0.06401 | train_mae: 0.18291 |  0:01:59s\n"
     ]
    },
    {
     "name": "stdout",
     "output_type": "stream",
     "text": [
      "epoch 283| loss: 0.11529 | train_mse: 0.06137 | train_mae: 0.17738 |  0:01:59s\n"
     ]
    },
    {
     "name": "stdout",
     "output_type": "stream",
     "text": [
      "epoch 284| loss: 0.0981  | train_mse: 0.06999 | train_mae: 0.19437 |  0:02:00s\n"
     ]
    },
    {
     "name": "stdout",
     "output_type": "stream",
     "text": [
      "epoch 285| loss: 0.09024 | train_mse: 0.06257 | train_mae: 0.18556 |  0:02:00s\n"
     ]
    },
    {
     "name": "stdout",
     "output_type": "stream",
     "text": [
      "epoch 286| loss: 0.09188 | train_mse: 0.06451 | train_mae: 0.18912 |  0:02:00s\n"
     ]
    },
    {
     "name": "stdout",
     "output_type": "stream",
     "text": [
      "epoch 287| loss: 0.09039 | train_mse: 0.07257 | train_mae: 0.20007 |  0:02:01s\n"
     ]
    },
    {
     "name": "stdout",
     "output_type": "stream",
     "text": [
      "epoch 288| loss: 0.08725 | train_mse: 0.0614  | train_mae: 0.1844  |  0:02:01s\n"
     ]
    },
    {
     "name": "stdout",
     "output_type": "stream",
     "text": [
      "epoch 289| loss: 0.06909 | train_mse: 0.05648 | train_mae: 0.17869 |  0:02:02s\n"
     ]
    },
    {
     "name": "stdout",
     "output_type": "stream",
     "text": [
      "epoch 290| loss: 0.08031 | train_mse: 0.04922 | train_mae: 0.16693 |  0:02:02s\n"
     ]
    },
    {
     "name": "stdout",
     "output_type": "stream",
     "text": [
      "epoch 291| loss: 0.07538 | train_mse: 0.04302 | train_mae: 0.15593 |  0:02:02s\n"
     ]
    },
    {
     "name": "stdout",
     "output_type": "stream",
     "text": [
      "epoch 292| loss: 0.08464 | train_mse: 0.07641 | train_mae: 0.20105 |  0:02:03s\n"
     ]
    },
    {
     "name": "stdout",
     "output_type": "stream",
     "text": [
      "epoch 293| loss: 0.08786 | train_mse: 0.0432  | train_mae: 0.15426 |  0:02:03s\n"
     ]
    },
    {
     "name": "stdout",
     "output_type": "stream",
     "text": [
      "epoch 294| loss: 0.08785 | train_mse: 0.05606 | train_mae: 0.17528 |  0:02:04s\n"
     ]
    },
    {
     "name": "stdout",
     "output_type": "stream",
     "text": [
      "epoch 295| loss: 0.08588 | train_mse: 0.0594  | train_mae: 0.18128 |  0:02:04s\n"
     ]
    },
    {
     "name": "stdout",
     "output_type": "stream",
     "text": [
      "epoch 296| loss: 0.07303 | train_mse: 0.05248 | train_mae: 0.17154 |  0:02:04s\n"
     ]
    },
    {
     "name": "stdout",
     "output_type": "stream",
     "text": [
      "epoch 297| loss: 0.0872  | train_mse: 0.06466 | train_mae: 0.18598 |  0:02:05s\n"
     ]
    },
    {
     "name": "stdout",
     "output_type": "stream",
     "text": [
      "epoch 298| loss: 0.08413 | train_mse: 0.05309 | train_mae: 0.16988 |  0:02:06s\n"
     ]
    },
    {
     "name": "stdout",
     "output_type": "stream",
     "text": [
      "epoch 299| loss: 0.09445 | train_mse: 0.0489  | train_mae: 0.1627  |  0:02:06s\n"
     ]
    },
    {
     "name": "stdout",
     "output_type": "stream",
     "text": [
      "epoch 300| loss: 0.08562 | train_mse: 0.04649 | train_mae: 0.16096 |  0:02:07s\n"
     ]
    },
    {
     "name": "stdout",
     "output_type": "stream",
     "text": [
      "epoch 301| loss: 0.0946  | train_mse: 0.05266 | train_mae: 0.17266 |  0:02:07s\n"
     ]
    },
    {
     "name": "stdout",
     "output_type": "stream",
     "text": [
      "epoch 302| loss: 0.08922 | train_mse: 0.05701 | train_mae: 0.17458 |  0:02:08s\n"
     ]
    },
    {
     "name": "stdout",
     "output_type": "stream",
     "text": [
      "epoch 303| loss: 0.0768  | train_mse: 0.05945 | train_mae: 0.18108 |  0:02:08s\n"
     ]
    },
    {
     "name": "stdout",
     "output_type": "stream",
     "text": [
      "epoch 304| loss: 0.09345 | train_mse: 0.059   | train_mae: 0.17955 |  0:02:08s\n"
     ]
    },
    {
     "name": "stdout",
     "output_type": "stream",
     "text": [
      "epoch 305| loss: 0.08049 | train_mse: 0.07323 | train_mae: 0.20023 |  0:02:09s\n"
     ]
    },
    {
     "name": "stdout",
     "output_type": "stream",
     "text": [
      "epoch 306| loss: 0.08391 | train_mse: 0.05039 | train_mae: 0.16778 |  0:02:09s\n"
     ]
    },
    {
     "name": "stdout",
     "output_type": "stream",
     "text": [
      "epoch 307| loss: 0.08086 | train_mse: 0.05592 | train_mae: 0.18098 |  0:02:09s\n"
     ]
    },
    {
     "name": "stdout",
     "output_type": "stream",
     "text": [
      "epoch 308| loss: 0.0748  | train_mse: 0.05479 | train_mae: 0.17469 |  0:02:10s\n"
     ]
    },
    {
     "name": "stdout",
     "output_type": "stream",
     "text": [
      "epoch 309| loss: 0.07678 | train_mse: 0.04884 | train_mae: 0.16688 |  0:02:10s\n"
     ]
    },
    {
     "name": "stdout",
     "output_type": "stream",
     "text": [
      "epoch 310| loss: 0.07384 | train_mse: 0.04915 | train_mae: 0.16698 |  0:02:10s\n"
     ]
    },
    {
     "name": "stdout",
     "output_type": "stream",
     "text": [
      "epoch 311| loss: 0.08156 | train_mse: 0.05102 | train_mae: 0.17178 |  0:02:11s\n"
     ]
    },
    {
     "name": "stdout",
     "output_type": "stream",
     "text": [
      "epoch 312| loss: 0.07991 | train_mse: 0.05495 | train_mae: 0.18041 |  0:02:12s\n"
     ]
    },
    {
     "name": "stdout",
     "output_type": "stream",
     "text": [
      "epoch 313| loss: 0.10017 | train_mse: 0.04724 | train_mae: 0.16861 |  0:02:13s\n"
     ]
    },
    {
     "name": "stdout",
     "output_type": "stream",
     "text": [
      "epoch 314| loss: 0.0998  | train_mse: 0.04305 | train_mae: 0.16013 |  0:02:13s\n"
     ]
    },
    {
     "name": "stdout",
     "output_type": "stream",
     "text": [
      "epoch 315| loss: 0.09897 | train_mse: 0.05323 | train_mae: 0.18264 |  0:02:14s\n"
     ]
    },
    {
     "name": "stdout",
     "output_type": "stream",
     "text": [
      "epoch 316| loss: 0.10168 | train_mse: 0.09039 | train_mae: 0.20979 |  0:02:14s\n"
     ]
    },
    {
     "name": "stdout",
     "output_type": "stream",
     "text": [
      "epoch 317| loss: 0.08597 | train_mse: 0.05786 | train_mae: 0.18306 |  0:02:14s\n"
     ]
    },
    {
     "name": "stdout",
     "output_type": "stream",
     "text": [
      "epoch 318| loss: 0.10598 | train_mse: 0.05232 | train_mae: 0.17093 |  0:02:15s\n"
     ]
    },
    {
     "name": "stdout",
     "output_type": "stream",
     "text": [
      "epoch 319| loss: 0.11377 | train_mse: 0.05888 | train_mae: 0.18178 |  0:02:15s\n"
     ]
    },
    {
     "name": "stdout",
     "output_type": "stream",
     "text": [
      "epoch 320| loss: 0.10865 | train_mse: 0.06443 | train_mae: 0.19208 |  0:02:16s\n"
     ]
    },
    {
     "name": "stdout",
     "output_type": "stream",
     "text": [
      "epoch 321| loss: 0.09369 | train_mse: 0.05318 | train_mae: 0.17475 |  0:02:16s\n"
     ]
    },
    {
     "name": "stdout",
     "output_type": "stream",
     "text": [
      "epoch 322| loss: 0.09051 | train_mse: 0.05562 | train_mae: 0.17842 |  0:02:17s\n"
     ]
    },
    {
     "name": "stdout",
     "output_type": "stream",
     "text": [
      "epoch 323| loss: 0.07575 | train_mse: 0.04985 | train_mae: 0.16915 |  0:02:17s\n"
     ]
    },
    {
     "name": "stdout",
     "output_type": "stream",
     "text": [
      "epoch 324| loss: 0.08725 | train_mse: 0.04549 | train_mae: 0.15896 |  0:02:18s\n"
     ]
    },
    {
     "name": "stdout",
     "output_type": "stream",
     "text": [
      "epoch 325| loss: 0.07391 | train_mse: 0.05029 | train_mae: 0.16766 |  0:02:18s\n"
     ]
    },
    {
     "name": "stdout",
     "output_type": "stream",
     "text": [
      "epoch 326| loss: 0.07011 | train_mse: 0.04747 | train_mae: 0.16548 |  0:02:18s\n"
     ]
    },
    {
     "name": "stdout",
     "output_type": "stream",
     "text": [
      "epoch 327| loss: 0.08499 | train_mse: 0.05323 | train_mae: 0.17551 |  0:02:19s\n"
     ]
    },
    {
     "name": "stdout",
     "output_type": "stream",
     "text": [
      "epoch 328| loss: 0.08746 | train_mse: 0.06498 | train_mae: 0.19274 |  0:02:19s\n"
     ]
    },
    {
     "name": "stdout",
     "output_type": "stream",
     "text": [
      "epoch 329| loss: 0.07088 | train_mse: 0.0545  | train_mae: 0.17685 |  0:02:20s\n"
     ]
    },
    {
     "name": "stdout",
     "output_type": "stream",
     "text": [
      "epoch 330| loss: 0.08577 | train_mse: 0.07033 | train_mae: 0.19698 |  0:02:20s\n"
     ]
    },
    {
     "name": "stdout",
     "output_type": "stream",
     "text": [
      "epoch 331| loss: 0.06936 | train_mse: 0.03834 | train_mae: 0.14642 |  0:02:20s\n"
     ]
    },
    {
     "name": "stdout",
     "output_type": "stream",
     "text": [
      "epoch 332| loss: 0.13939 | train_mse: 0.07057 | train_mae: 0.19776 |  0:02:21s\n"
     ]
    },
    {
     "name": "stdout",
     "output_type": "stream",
     "text": [
      "epoch 333| loss: 0.10046 | train_mse: 0.04688 | train_mae: 0.16898 |  0:02:21s\n"
     ]
    },
    {
     "name": "stdout",
     "output_type": "stream",
     "text": [
      "epoch 334| loss: 0.08008 | train_mse: 0.0668  | train_mae: 0.19499 |  0:02:21s\n"
     ]
    },
    {
     "name": "stdout",
     "output_type": "stream",
     "text": [
      "epoch 335| loss: 0.08649 | train_mse: 0.04246 | train_mae: 0.15753 |  0:02:22s\n"
     ]
    },
    {
     "name": "stdout",
     "output_type": "stream",
     "text": [
      "epoch 336| loss: 0.08714 | train_mse: 0.04898 | train_mae: 0.17167 |  0:02:22s\n"
     ]
    },
    {
     "name": "stdout",
     "output_type": "stream",
     "text": [
      "epoch 337| loss: 0.09629 | train_mse: 0.09489 | train_mae: 0.22165 |  0:02:23s\n"
     ]
    },
    {
     "name": "stdout",
     "output_type": "stream",
     "text": [
      "epoch 338| loss: 0.13462 | train_mse: 0.0634  | train_mae: 0.18653 |  0:02:23s\n"
     ]
    },
    {
     "name": "stdout",
     "output_type": "stream",
     "text": [
      "epoch 339| loss: 0.08537 | train_mse: 0.04601 | train_mae: 0.16318 |  0:02:23s\n"
     ]
    },
    {
     "name": "stdout",
     "output_type": "stream",
     "text": [
      "epoch 340| loss: 0.07914 | train_mse: 0.05905 | train_mae: 0.17722 |  0:02:24s\n"
     ]
    },
    {
     "name": "stdout",
     "output_type": "stream",
     "text": [
      "epoch 341| loss: 0.06974 | train_mse: 0.04075 | train_mae: 0.15546 |  0:02:24s\n"
     ]
    },
    {
     "name": "stdout",
     "output_type": "stream",
     "text": [
      "epoch 342| loss: 0.0805  | train_mse: 0.05832 | train_mae: 0.17925 |  0:02:25s\n"
     ]
    },
    {
     "name": "stdout",
     "output_type": "stream",
     "text": [
      "epoch 343| loss: 0.11724 | train_mse: 0.054   | train_mae: 0.17654 |  0:02:25s\n"
     ]
    },
    {
     "name": "stdout",
     "output_type": "stream",
     "text": [
      "epoch 344| loss: 0.06365 | train_mse: 0.05255 | train_mae: 0.17026 |  0:02:26s\n"
     ]
    },
    {
     "name": "stdout",
     "output_type": "stream",
     "text": [
      "epoch 345| loss: 0.10312 | train_mse: 0.0948  | train_mae: 0.2292  |  0:02:26s\n"
     ]
    },
    {
     "name": "stdout",
     "output_type": "stream",
     "text": [
      "epoch 346| loss: 0.08225 | train_mse: 0.04826 | train_mae: 0.16521 |  0:02:26s\n"
     ]
    },
    {
     "name": "stdout",
     "output_type": "stream",
     "text": [
      "epoch 347| loss: 0.1385  | train_mse: 0.07517 | train_mae: 0.20064 |  0:02:27s\n"
     ]
    },
    {
     "name": "stdout",
     "output_type": "stream",
     "text": [
      "epoch 348| loss: 0.08242 | train_mse: 0.05281 | train_mae: 0.17227 |  0:02:27s\n"
     ]
    },
    {
     "name": "stdout",
     "output_type": "stream",
     "text": [
      "epoch 349| loss: 0.09189 | train_mse: 0.05021 | train_mae: 0.16707 |  0:02:28s\n"
     ]
    },
    {
     "name": "stdout",
     "output_type": "stream",
     "text": [
      "epoch 350| loss: 0.09085 | train_mse: 0.04615 | train_mae: 0.15721 |  0:02:28s\n"
     ]
    },
    {
     "name": "stdout",
     "output_type": "stream",
     "text": [
      "epoch 351| loss: 0.12359 | train_mse: 0.05926 | train_mae: 0.18266 |  0:02:28s\n"
     ]
    },
    {
     "name": "stdout",
     "output_type": "stream",
     "text": [
      "epoch 352| loss: 0.07335 | train_mse: 0.04515 | train_mae: 0.1567  |  0:02:29s\n"
     ]
    },
    {
     "name": "stdout",
     "output_type": "stream",
     "text": [
      "epoch 353| loss: 0.1073  | train_mse: 0.04575 | train_mae: 0.16054 |  0:02:29s\n"
     ]
    },
    {
     "name": "stdout",
     "output_type": "stream",
     "text": [
      "epoch 354| loss: 0.10779 | train_mse: 0.04393 | train_mae: 0.1589  |  0:02:30s\n"
     ]
    },
    {
     "name": "stdout",
     "output_type": "stream",
     "text": [
      "epoch 355| loss: 0.08027 | train_mse: 0.05278 | train_mae: 0.17055 |  0:02:30s\n"
     ]
    },
    {
     "name": "stdout",
     "output_type": "stream",
     "text": [
      "epoch 356| loss: 0.07704 | train_mse: 0.04827 | train_mae: 0.1643  |  0:02:30s\n"
     ]
    },
    {
     "name": "stdout",
     "output_type": "stream",
     "text": [
      "epoch 357| loss: 0.07019 | train_mse: 0.06932 | train_mae: 0.19426 |  0:02:31s\n"
     ]
    },
    {
     "name": "stdout",
     "output_type": "stream",
     "text": [
      "epoch 358| loss: 0.0963  | train_mse: 0.04365 | train_mae: 0.15879 |  0:02:31s\n"
     ]
    },
    {
     "name": "stdout",
     "output_type": "stream",
     "text": [
      "epoch 359| loss: 0.08497 | train_mse: 0.06502 | train_mae: 0.18776 |  0:02:32s\n"
     ]
    },
    {
     "name": "stdout",
     "output_type": "stream",
     "text": [
      "epoch 360| loss: 0.09025 | train_mse: 0.04903 | train_mae: 0.16945 |  0:02:32s\n"
     ]
    },
    {
     "name": "stdout",
     "output_type": "stream",
     "text": [
      "epoch 361| loss: 0.10434 | train_mse: 0.0497  | train_mae: 0.16864 |  0:02:32s\n"
     ]
    },
    {
     "name": "stdout",
     "output_type": "stream",
     "text": [
      "epoch 362| loss: 0.11231 | train_mse: 0.05503 | train_mae: 0.17764 |  0:02:33s\n"
     ]
    },
    {
     "name": "stdout",
     "output_type": "stream",
     "text": [
      "epoch 363| loss: 0.09065 | train_mse: 0.08825 | train_mae: 0.21466 |  0:02:33s\n"
     ]
    },
    {
     "name": "stdout",
     "output_type": "stream",
     "text": [
      "epoch 364| loss: 0.09719 | train_mse: 0.05194 | train_mae: 0.1691  |  0:02:33s\n"
     ]
    },
    {
     "name": "stdout",
     "output_type": "stream",
     "text": [
      "epoch 365| loss: 0.09156 | train_mse: 0.05195 | train_mae: 0.17122 |  0:02:34s\n"
     ]
    },
    {
     "name": "stdout",
     "output_type": "stream",
     "text": [
      "epoch 366| loss: 0.07906 | train_mse: 0.06414 | train_mae: 0.18666 |  0:02:34s\n"
     ]
    },
    {
     "name": "stdout",
     "output_type": "stream",
     "text": [
      "epoch 367| loss: 0.09494 | train_mse: 0.04931 | train_mae: 0.1598  |  0:02:35s\n"
     ]
    },
    {
     "name": "stdout",
     "output_type": "stream",
     "text": [
      "epoch 368| loss: 0.099   | train_mse: 0.05869 | train_mae: 0.17979 |  0:02:35s\n"
     ]
    },
    {
     "name": "stdout",
     "output_type": "stream",
     "text": [
      "epoch 369| loss: 0.10017 | train_mse: 0.04435 | train_mae: 0.15644 |  0:02:35s\n"
     ]
    },
    {
     "name": "stdout",
     "output_type": "stream",
     "text": [
      "epoch 370| loss: 0.08432 | train_mse: 0.05467 | train_mae: 0.17665 |  0:02:36s\n"
     ]
    },
    {
     "name": "stdout",
     "output_type": "stream",
     "text": [
      "epoch 371| loss: 0.09421 | train_mse: 0.03773 | train_mae: 0.14795 |  0:02:37s\n"
     ]
    },
    {
     "name": "stdout",
     "output_type": "stream",
     "text": [
      "epoch 372| loss: 0.07533 | train_mse: 0.04951 | train_mae: 0.16896 |  0:02:37s\n"
     ]
    },
    {
     "name": "stdout",
     "output_type": "stream",
     "text": [
      "epoch 373| loss: 0.06652 | train_mse: 0.04664 | train_mae: 0.16161 |  0:02:37s\n"
     ]
    },
    {
     "name": "stdout",
     "output_type": "stream",
     "text": [
      "epoch 374| loss: 0.0834  | train_mse: 0.04619 | train_mae: 0.16157 |  0:02:38s\n"
     ]
    },
    {
     "name": "stdout",
     "output_type": "stream",
     "text": [
      "epoch 375| loss: 0.08523 | train_mse: 0.04412 | train_mae: 0.15931 |  0:02:39s\n"
     ]
    },
    {
     "name": "stdout",
     "output_type": "stream",
     "text": [
      "epoch 376| loss: 0.0953  | train_mse: 0.0461  | train_mae: 0.16482 |  0:02:39s\n"
     ]
    },
    {
     "name": "stdout",
     "output_type": "stream",
     "text": [
      "epoch 377| loss: 0.07506 | train_mse: 0.03793 | train_mae: 0.14887 |  0:02:40s\n"
     ]
    },
    {
     "name": "stdout",
     "output_type": "stream",
     "text": [
      "epoch 378| loss: 0.06988 | train_mse: 0.0535  | train_mae: 0.17307 |  0:02:40s\n"
     ]
    },
    {
     "name": "stdout",
     "output_type": "stream",
     "text": [
      "epoch 379| loss: 0.08599 | train_mse: 0.04939 | train_mae: 0.16374 |  0:02:40s\n"
     ]
    },
    {
     "name": "stdout",
     "output_type": "stream",
     "text": [
      "epoch 380| loss: 0.08511 | train_mse: 0.05689 | train_mae: 0.182   |  0:02:41s\n"
     ]
    },
    {
     "name": "stdout",
     "output_type": "stream",
     "text": [
      "epoch 381| loss: 0.08834 | train_mse: 0.04517 | train_mae: 0.16194 |  0:02:41s\n",
      "\n",
      "Early stopping occurred at epoch 381 with best_epoch = 331 and best_train_mae = 0.14642\n",
      "Best weights from best epoch are automatically used!\n"
     ]
    }
   ],
   "source": [
    "#Train the Model\n",
    "\n",
    "Y_train = np.reshape(Y_train, (-1, 1))\n",
    "Y_test = np.reshape(Y_test, (-1, 1))\n",
    "\n",
    "prior_model = TabNetRegressor(optimizer_fn=torch.optim.Adam, optimizer_params=dict(lr = 0.01),\n",
    "          #scheduler_params={\"step_size\":10, ], \"gamma\":0.9},\n",
    "          #scheduler_fn=torch.optim.lr_scheduler.StepLR\n",
    "          )  #TabNetRegressor()\n",
    "\n",
    "prior_model.fit(X_train,Y_train,eval_set=[(X_train, Y_train)],\n",
    "            eval_name=['train'], \n",
    "            eval_metric=[ 'mse', 'mae'], \n",
    "            max_epochs = n_epochs, \n",
    "            batch_size = batch_size,\n",
    "            patience=50\n",
    "            )"
   ]
  },
  {
   "cell_type": "code",
   "execution_count": 10,
   "id": "af65dcda",
   "metadata": {
    "execution": {
     "iopub.execute_input": "2022-07-22T13:55:50.669071Z",
     "iopub.status.busy": "2022-07-22T13:55:50.667448Z",
     "iopub.status.idle": "2022-07-22T13:55:50.807504Z",
     "shell.execute_reply": "2022-07-22T13:55:50.806260Z"
    },
    "id": "af65dcda",
    "papermill": {
     "duration": 0.363313,
     "end_time": "2022-07-22T13:55:50.810043",
     "exception": false,
     "start_time": "2022-07-22T13:55:50.446730",
     "status": "completed"
    },
    "tags": []
   },
   "outputs": [
    {
     "data": {
      "application/scrapbook.scrap.json+json": {
       "data": 0.08709869590853987,
       "encoder": "json",
       "name": "Prior Model MSE",
       "version": 1
      }
     },
     "metadata": {
      "scrapbook": {
       "data": true,
       "display": false,
       "name": "Prior Model MSE"
      }
     },
     "output_type": "display_data"
    },
    {
     "data": {
      "application/scrapbook.scrap.json+json": {
       "data": 0.08865926762681982,
       "encoder": "json",
       "name": "ABC Pre-generator MSE",
       "version": 1
      }
     },
     "metadata": {
      "scrapbook": {
       "data": true,
       "display": false,
       "name": "ABC Pre-generator MSE"
      }
     },
     "output_type": "display_data"
    },
    {
     "data": {
      "application/scrapbook.scrap.json+json": {
       "data": 0.222170259789958,
       "encoder": "json",
       "name": "Prior Model MAE",
       "version": 1
      }
     },
     "metadata": {
      "scrapbook": {
       "data": true,
       "display": false,
       "name": "Prior Model MAE"
      }
     },
     "output_type": "display_data"
    },
    {
     "name": "stdout",
     "output_type": "stream",
     "text": [
      "Prior Model MAE 0.222170259789958\n"
     ]
    },
    {
     "data": {
      "application/scrapbook.scrap.json+json": {
       "data": 0.22400115859803527,
       "encoder": "json",
       "name": "ABC Pre-generator MAE",
       "version": 1
      }
     },
     "metadata": {
      "scrapbook": {
       "data": true,
       "display": false,
       "name": "ABC Pre-generator MAE"
      }
     },
     "output_type": "display_data"
    },
    {
     "name": "stdout",
     "output_type": "stream",
     "text": [
      "ABC Pre-generator MAE 0.22400115859803527\n"
     ]
    }
   ],
   "source": [
    "y_pred = prior_model.predict(X_test)\n",
    "y_abc = y_pred + np.random.normal(0,variance, y_pred.shape) + bias \n",
    "mse = mean_squared_error(y_pred,Y_test)\n",
    "sb.glue(\"Prior Model MSE\",mse)\n",
    "mse = mean_squared_error(y_abc,Y_test)\n",
    "sb.glue(\"ABC Pre-generator MSE\",mse)\n",
    "mae = mean_absolute_error(y_pred,Y_test)\n",
    "sb.glue(\"Prior Model MAE\",mae)\n",
    "print(\"Prior Model MAE\",mae)\n",
    "mae = mean_absolute_error(y_abc,Y_test)\n",
    "sb.glue(\"ABC Pre-generator MAE\",mae)\n",
    "print(\"ABC Pre-generator MAE\",mae)"
   ]
  },
  {
   "cell_type": "markdown",
   "id": "25609da2",
   "metadata": {
    "papermill": {
     "duration": 0.040429,
     "end_time": "2022-07-22T13:55:50.891275",
     "exception": false,
     "start_time": "2022-07-22T13:55:50.850846",
     "status": "completed"
    },
    "tags": []
   },
   "source": [
    "# mGAN Model"
   ]
  },
  {
   "cell_type": "code",
   "execution_count": 11,
   "id": "dfc3464d",
   "metadata": {
    "execution": {
     "iopub.execute_input": "2022-07-22T13:55:50.946919Z",
     "iopub.status.busy": "2022-07-22T13:55:50.946640Z",
     "iopub.status.idle": "2022-07-22T13:55:50.954296Z",
     "shell.execute_reply": "2022-07-22T13:55:50.952763Z"
    },
    "papermill": {
     "duration": 0.03783,
     "end_time": "2022-07-22T13:55:50.956797",
     "exception": false,
     "start_time": "2022-07-22T13:55:50.918967",
     "status": "completed"
    },
    "tags": []
   },
   "outputs": [],
   "source": [
    "gen = network.Generator(n_features+1).to(device)\n",
    "disc = network.Discriminator(n_features+1).to(device)\n",
    "\n",
    "criterion = torch.nn.BCELoss()\n",
    "gen_opt = torch.optim.Adam(gen.parameters(), lr=0.01, betas=(0.5, 0.999))\n",
    "disc_opt = torch.optim.Adam(disc.parameters(), lr=0.01, betas=(0.5, 0.999))"
   ]
  },
  {
   "cell_type": "code",
   "execution_count": 12,
   "id": "b75fdd85",
   "metadata": {
    "execution": {
     "iopub.execute_input": "2022-07-22T13:55:51.022695Z",
     "iopub.status.busy": "2022-07-22T13:55:51.021984Z",
     "iopub.status.idle": "2022-07-22T14:00:17.636831Z",
     "shell.execute_reply": "2022-07-22T14:00:17.635597Z"
    },
    "papermill": {
     "duration": 266.652215,
     "end_time": "2022-07-22T14:00:17.640069",
     "exception": false,
     "start_time": "2022-07-22T13:55:50.987854",
     "status": "completed"
    },
    "tags": []
   },
   "outputs": [
    {
     "data": {
      "image/png": "[encoded data removed]",
      "text/plain": [
       "<Figure size 432x288 with 1 Axes>"
      ]
     },
     "metadata": {
      "needs_background": "light"
     },
     "output_type": "display_data"
    },
    {
     "data": {
      "image/png": "[encoded data removed]",
      "text/plain": [
       "<Figure size 432x288 with 1 Axes>"
      ]
     },
     "metadata": {
      "needs_background": "light"
     },
     "output_type": "display_data"
    }
   ],
   "source": [
    "#Training the ABC_GAN \n",
    "ABC_train_test2.training_GAN(disc,gen,disc_opt,gen_opt,train_data,batch_size,n_epochs,criterion,prior_model,variance,bias,device)"
   ]
  },
  {
   "cell_type": "code",
   "execution_count": 13,
   "id": "1fa7c368",
   "metadata": {
    "execution": {
     "iopub.execute_input": "2022-07-22T14:00:17.725249Z",
     "iopub.status.busy": "2022-07-22T14:00:17.724734Z",
     "iopub.status.idle": "2022-07-22T14:00:22.028171Z",
     "shell.execute_reply": "2022-07-22T14:00:22.026861Z"
    },
    "papermill": {
     "duration": 4.356825,
     "end_time": "2022-07-22T14:00:22.032522",
     "exception": false,
     "start_time": "2022-07-22T14:00:17.675697",
     "status": "completed"
    },
    "tags": []
   },
   "outputs": [
    {
     "data": {
      "application/scrapbook.scrap.json+json": {
       "data": 0.13080577363976578,
       "encoder": "json",
       "name": "ABC-GAN Model 1 MSE",
       "version": 1
      }
     },
     "metadata": {
      "scrapbook": {
       "data": true,
       "display": false,
       "name": "ABC-GAN Model 1 MSE"
      }
     },
     "output_type": "display_data"
    },
    {
     "data": {
      "application/scrapbook.scrap.json+json": {
       "data": 0.2725823409296572,
       "encoder": "json",
       "name": "ABC-GAN Model 1 MAE",
       "version": 1
      }
     },
     "metadata": {
      "scrapbook": {
       "data": true,
       "display": false,
       "name": "ABC-GAN Model 1 MAE"
      }
     },
     "output_type": "display_data"
    },
    {
     "data": {
      "application/scrapbook.scrap.json+json": {
       "data": 27.803398774825038,
       "encoder": "json",
       "name": "ABC-GAN Model 1 Manhattan Distance",
       "version": 1
      }
     },
     "metadata": {
      "scrapbook": {
       "data": true,
       "display": false,
       "name": "ABC-GAN Model 1 Manhattan Distance"
      }
     },
     "output_type": "display_data"
    },
    {
     "data": {
      "application/scrapbook.scrap.json+json": {
       "data": 3.65268322421416,
       "encoder": "json",
       "name": "ABC-GAN Model 1 Euclidean distance",
       "version": 1
      }
     },
     "metadata": {
      "scrapbook": {
       "data": true,
       "display": false,
       "name": "ABC-GAN Model 1 Euclidean distance"
      }
     },
     "output_type": "display_data"
    },
    {
     "data": {
      "application/scrapbook.scrap.json+json": {
       "data": [
        [
         0.13117841434390587,
         0.1305337893668963,
         0.13118106211990685,
         0.1314756780018818,
         0.1308792770189252,
         0.1300425292212735,
         0.13000131392005365,
         0.13021983871412862,
         0.1302414324779823,
         0.13037443089982084,
         0.12972423120295223,
         0.13030514032815,
         0.1304370494076877,
         0.12981486428673594,
         0.13133828607390263,
         0.13150073042188898,
         0.13271178477687592,
         0.13046871383536338,
         0.1306321392403633,
         0.1306149617748105,
         0.1313939593115173,
         0.1300066459925171,
         0.13127947297051604,
         0.13100681224615948,
         0.1303247297212992,
         0.1300881143527242,
         0.13070652474711658,
         0.13129264915700817,
         0.13054557352510057,
         0.13315118371686582,
         0.13086158633952308,
         0.131636206795177,
         0.13082791769938043,
         0.1310710263972586,
         0.12989400511329993,
         0.13046076822975652,
         0.13039587659225232,
         0.13198351632624977,
         0.13044681474501887,
         0.13187306131550763,
         0.13110899280585442,
         0.13053805819345443,
         0.1302661647313751,
         0.13110637548896723,
         0.1304687362668841,
         0.12999852076337556,
         0.13053193086493195,
         0.13137657825631605,
         0.1307281602689314,
         0.1303464059261913,
         0.13200821640843338,
         0.13041999800609685,
         0.13204970360494142,
         0.13134503900911462,
         0.13106857878328293,
         0.13128504495332585,
         0.13176084654762343,
         0.1296362576513733,
         0.13123243916659877,
         0.13137225310011774,
         0.13242198986636183,
         0.130745593443576,
         0.13013463257031538,
         0.13039034799488786,
         0.12916499314466298,
         0.13060154845294386,
         0.13031456892203525,
         0.13194757428336815,
         0.13094410726627756,
         0.1304718017877994,
         0.13044325420611444,
         0.13103721794467843,
         0.13108855935562969,
         0.13124252972937545,
         0.1307617921071659,
         0.13078525504475255,
         0.12986566501016047,
         0.13099281931193005,
         0.1292950610941457,
         0.13189742871547175,
         0.13015197290711172,
         0.13048946161074176,
         0.13118702138362412,
         0.1299729880809281,
         0.13121765522627227,
         0.13029664088954482,
         0.13034035489426002,
         0.1309260902904785,
         0.1310076005449135,
         0.1303859908221803,
         0.13004413994018726,
         0.13128439635642808,
         0.13071753659645083,
         0.13087745794110467,
         0.13138552226065517,
         0.1307537637558979,
         0.12990815979447315,
         0.1314427250085168,
         0.1314603317077337,
         0.13061040018847825
        ],
        [
         0.2730006759292355,
         0.27280657661750035,
         0.27304760319199045,
         0.273387513872163,
         0.27216833650919736,
         0.27273383703740206,
         0.27191933898218706,
         0.2718560706970154,
         0.27240136378974306,
         0.27234538188021556,
         0.2709625456482172,
         0.2722128699442335,
         0.27203605013589066,
         0.2721376453763714,
         0.273373856811839,
         0.27285457968565763,
         0.27438502302210704,
         0.27196388936364185,
         0.27182250831495314,
         0.2718822251567069,
         0.2733601147272423,
         0.2716338575689816,
         0.27321194459264186,
         0.2729256199490206,
         0.2722708930024037,
         0.2724121116174787,
         0.27255416351060074,
         0.2726099265775844,
         0.27169657012849463,
         0.2744594545961887,
         0.2728778737067592,
         0.2730602323461105,
         0.2725647319400427,
         0.2722804259654938,
         0.27213474841532753,
         0.2725800979407687,
         0.27246463149055544,
         0.2730518108708601,
         0.27211355750321176,
         0.27342030139384316,
         0.27293663977773164,
         0.2728089374289209,
         0.271868820831764,
         0.27291096743269294,
         0.27211920854945976,
         0.27193293935966256,
         0.27197626519802154,
         0.2734703041393967,
         0.2724807171479744,
         0.27181667231899853,
         0.27355765357759654,
         0.2722649068443799,
         0.2735381403609234,
         0.2726491882155339,
         0.27241931968898164,
         0.2727535921788099,
         0.2739070113017863,
         0.2715679999879178,
         0.2729911996672551,
         0.2736367372540282,
         0.2731673086025551,
         0.2726373131587809,
         0.27255250393029523,
         0.2721139551596899,
         0.2702914625041041,
         0.2725048520620547,
         0.2717911416628197,
         0.2733183485072325,
         0.27233273252917856,
         0.27271863142503244,
         0.27146093280730293,
         0.2732953116224677,
         0.2731751317121819,
         0.27326377753314435,
         0.2718222032794181,
         0.27289794148037244,
         0.27162798738801014,
         0.2726400970463075,
         0.27176050838156074,
         0.27287826405874654,
         0.2721856753250547,
         0.27246995938613133,
         0.27324056037354705,
         0.2717681374839124,
         0.2735671315926547,
         0.27235703283519136,
         0.27274043416129606,
         0.2728561156739791,
         0.27295544418488066,
         0.2724962415283217,
         0.2715459819152659,
         0.27274363323607864,
         0.2727090794885275,
         0.2728708339307238,
         0.27344927334171887,
         0.2730031901349624,
         0.27186402000998167,
         0.27298165182126505,
         0.273256057289009,
         0.2723350533302508
        ],
        [
         27.84606894478202,
         27.826270814985037,
         27.85085552558303,
         27.885526414960623,
         27.76117032393813,
         27.818851377815008,
         27.73577257618308,
         27.72931921109557,
         27.784939106553793,
         27.779228951781988,
         27.638179656118155,
         27.76571273431182,
         27.747677113860846,
         27.758039828389883,
         27.884133394807577,
         27.83116712793708,
         27.98727234825492,
         27.740316715091467,
         27.72589584812522,
         27.731986965984106,
         27.882731702178717,
         27.706653472036123,
         27.86761834844947,
         27.8384132348001,
         27.77163108624518,
         27.786035384982824,
         27.800524678081274,
         27.80621251091361,
         27.71305015310645,
         27.99486436881125,
         27.833543118089437,
         27.85214369930327,
         27.80160265788436,
         27.772603448480368,
         27.75774433836341,
         27.803169989958405,
         27.791392412036657,
         27.851284708827734,
         27.755582865327597,
         27.888870742172003,
         27.83953725732863,
         27.82651161774993,
         27.730619724839926,
         27.83691867813468,
         27.756159272044897,
         27.737159814685583,
         27.741579050198197,
         27.893971022218466,
         27.79303314909339,
         27.725300576537848,
         27.902880664914846,
         27.771020498126745,
         27.900890316814184,
         27.810217197984457,
         27.78677060827613,
         27.820866402238607,
         27.9385151527822,
         27.699935998767614,
         27.84510236606002,
         27.91094719991088,
         27.863065477460623,
         27.809005942195654,
         27.800355400890112,
         27.755623426288366,
         27.569729175418615,
         27.79549491032958,
         27.72269644960761,
         27.878471547737718,
         27.777938717976213,
         27.817300405353308,
         27.6890151463449,
         27.876121785491705,
         27.863863434642553,
         27.872905308380723,
         27.725864734500647,
         27.83559003099799,
         27.706054713577032,
         27.809289898723364,
         27.719571854919195,
         27.833582933992147,
         27.762938883155584,
         27.791935857385397,
         27.870537158101797,
         27.72035002335906,
         27.90384742245078,
         27.78041734918952,
         27.8195242844522,
         27.83132379874587,
         27.841455306857824,
         27.794616635888815,
         27.697690155357122,
         27.819850590080023,
         27.81632610782981,
         27.83282506093383,
         27.891825880855322,
         27.846325393766165,
         27.73013004101813,
         27.844128485769033,
         27.872117843478918,
         27.778175439685583
        ],
        [
         3.6578953324389145,
         3.6488966161599348,
         3.657932248720648,
         3.6620375689214253,
         3.6537222466862986,
         3.6420238852278133,
         3.6414466932588034,
         3.6445059402943927,
         3.6448081036941016,
         3.6466686100853365,
         3.637563962695519,
         3.645699427197928,
         3.6475442477897566,
         3.6388344503765304,
         3.6601236563179214,
         3.6623864491657177,
         3.6792121503443287,
         3.647986953267111,
         3.650270976587499,
         3.6500309726125164,
         3.660899322540127,
         3.6415213704215352,
         3.6593040653917566,
         3.655501996868319,
         3.6459734545896683,
         3.6426621671488926,
         3.6513101106597188,
         3.6594876983007922,
         3.6490613175939184,
         3.6852979172816287,
         3.6534753053266082,
         3.6642725189467082,
         3.6530052840554177,
         3.656397775477988,
         3.6399434777969546,
         3.647875869521215,
         3.6469685236384666,
         3.66910325083357,
         3.6476807842781316,
         3.6675676209419477,
         3.656927298456609,
         3.648956280326246,
         3.6451541534755783,
         3.6568907968210724,
         3.647987266866782,
         3.641407573708868,
         3.6488706401053816,
         3.6606571789972677,
         3.6516122942381215,
         3.646276649470184,
         3.66944656231157,
         3.647305827130744,
         3.6700231290421077,
         3.6602177502069035,
         3.6563636356214433,
         3.659381721717377,
         3.666006866859034,
         3.636330331589812,
         3.658648492953794,
         3.6605969207510416,
         3.675192915530953,
         3.6518557653944588,
         3.6433133988406987,
         3.646891209712535,
         3.629714768512207,
         3.6498435503731224,
         3.6458313222154963,
         3.668603627663194,
         3.6546270591074417,
         3.648030123553743,
         3.6476310023114555,
         3.6559261795552156,
         3.6566423197072786,
         3.658789148392716,
         3.6520819808611793,
         3.6524096175764242,
         3.639546377096515,
         3.655306768222999,
         3.6315418532082018,
         3.6679064504125667,
         3.6435561250686668,
         3.648277002133426,
         3.658015333637854,
         3.641049956297587,
         3.6584424053249456,
         3.645580525887965,
         3.6461920134867447,
         3.6543756251415656,
         3.655512994858748,
         3.6468302762621674,
         3.6420464403819865,
         3.659372682353584,
         3.651463916409141,
         3.6536968552402747,
         3.6607817840711054,
         3.651969866127264,
         3.640141796556318,
         3.6615786145962668,
         3.6618238398629774,
         3.6499672353631865
        ]
       ],
       "encoder": "json",
       "name": "ABC_GAN_1 Metrics",
       "version": 1
      }
     },
     "metadata": {
      "scrapbook": {
       "data": true,
       "display": false,
       "name": "ABC_GAN_1 Metrics"
      }
     },
     "output_type": "display_data"
    },
    {
     "name": "stdout",
     "output_type": "stream",
     "text": [
      "MAE\n",
      "0.2725823409296572\n"
     ]
    }
   ],
   "source": [
    "ABC_GAN1_metrics=ABC_train_test2.test_generator(gen,test_data,prior_model,variance,bias,\"1\",device)\n",
    "sb.glue(\"ABC_GAN_1 Metrics\",ABC_GAN1_metrics)\n",
    "\n",
    "print(\"MAE\")\n",
    "print(mean(ABC_GAN1_metrics[1]))"
   ]
  },
  {
   "cell_type": "code",
   "execution_count": 14,
   "id": "eb22ce5c",
   "metadata": {
    "execution": {
     "iopub.execute_input": "2022-07-22T14:00:22.134154Z",
     "iopub.status.busy": "2022-07-22T14:00:22.132170Z",
     "iopub.status.idle": "2022-07-22T14:00:23.030473Z",
     "shell.execute_reply": "2022-07-22T14:00:23.028910Z"
    },
    "papermill": {
     "duration": 0.96249,
     "end_time": "2022-07-22T14:00:23.033010",
     "exception": false,
     "start_time": "2022-07-22T14:00:22.070520",
     "status": "completed"
    },
    "tags": []
   },
   "outputs": [
    {
     "data": {
      "image/png": "[encoded data removed]",
      "text/plain": [
       "<Figure size 432x288 with 1 Axes>"
      ]
     },
     "metadata": {
      "needs_background": "light"
     },
     "output_type": "display_data"
    },
    {
     "data": {
      "image/png": "[encoded data removed]",
      "text/plain": [
       "<Figure size 432x288 with 1 Axes>"
      ]
     },
     "metadata": {
      "needs_background": "light"
     },
     "output_type": "display_data"
    },
    {
     "data": {
      "image/png": "[encoded data removed]",
      "text/plain": [
       "<Figure size 432x288 with 1 Axes>"
      ]
     },
     "metadata": {
      "needs_background": "light"
     },
     "output_type": "display_data"
    },
    {
     "data": {
      "image/png": "[encoded data removed]",
      "text/plain": [
       "<Figure size 432x288 with 1 Axes>"
      ]
     },
     "metadata": {
      "needs_background": "light"
     },
     "output_type": "display_data"
    }
   ],
   "source": [
    "sanityChecks.discProbVsError(train_data,disc,device)\n",
    "sanityChecks.discProbVsError(test_data,disc,device)"
   ]
  },
  {
   "cell_type": "markdown",
   "id": "871c3f83",
   "metadata": {
    "papermill": {
     "duration": 0.042146,
     "end_time": "2022-07-22T14:00:23.110201",
     "exception": false,
     "start_time": "2022-07-22T14:00:23.068055",
     "status": "completed"
    },
    "tags": []
   },
   "source": [
    "# mGAN Model with TabNet Generator"
   ]
  },
  {
   "cell_type": "code",
   "execution_count": 15,
   "id": "441fc9c0",
   "metadata": {
    "execution": {
     "iopub.execute_input": "2022-07-22T14:00:23.181310Z",
     "iopub.status.busy": "2022-07-22T14:00:23.181026Z",
     "iopub.status.idle": "2022-07-22T14:00:23.196664Z",
     "shell.execute_reply": "2022-07-22T14:00:23.195480Z"
    },
    "papermill": {
     "duration": 0.051269,
     "end_time": "2022-07-22T14:00:23.198996",
     "exception": false,
     "start_time": "2022-07-22T14:00:23.147727",
     "status": "completed"
    },
    "tags": []
   },
   "outputs": [],
   "source": [
    "gen2 = network.GeneratorTabnet(n_features+1).to(device)\n",
    "disc2 = network.Discriminator(n_features+1).to(device)\n",
    "\n",
    "criterion = torch.nn.BCELoss()\n",
    "gen_opt = torch.optim.Adam(gen2.parameters(), lr=0.01, betas=(0.5, 0.999))\n",
    "disc_opt = torch.optim.Adam(disc2.parameters(), lr=0.01, betas=(0.5, 0.999))"
   ]
  },
  {
   "cell_type": "code",
   "execution_count": 16,
   "id": "3a2dfced",
   "metadata": {
    "execution": {
     "iopub.execute_input": "2022-07-22T14:00:23.277159Z",
     "iopub.status.busy": "2022-07-22T14:00:23.276864Z",
     "iopub.status.idle": "2022-07-22T14:12:12.920864Z",
     "shell.execute_reply": "2022-07-22T14:12:12.919047Z"
    },
    "papermill": {
     "duration": 709.691885,
     "end_time": "2022-07-22T14:12:12.924163",
     "exception": false,
     "start_time": "2022-07-22T14:00:23.232278",
     "status": "completed"
    },
    "tags": []
   },
   "outputs": [
    {
     "data": {
      "image/png": "[encoded data removed]",
      "text/plain": [
       "<Figure size 432x288 with 1 Axes>"
      ]
     },
     "metadata": {
      "needs_background": "light"
     },
     "output_type": "display_data"
    },
    {
     "data": {
      "image/png": "[encoded data removed]",
      "text/plain": [
       "<Figure size 432x288 with 1 Axes>"
      ]
     },
     "metadata": {
      "needs_background": "light"
     },
     "output_type": "display_data"
    }
   ],
   "source": [
    "#Training the ABC_GAN \n",
    "ABC_train_test2.training_GAN(disc2,gen2,disc_opt,gen_opt,train_data,batch_size,n_epochs,criterion,prior_model,variance,bias,device)"
   ]
  },
  {
   "cell_type": "code",
   "execution_count": 17,
   "id": "83955298",
   "metadata": {
    "execution": {
     "iopub.execute_input": "2022-07-22T14:12:13.046313Z",
     "iopub.status.busy": "2022-07-22T14:12:13.042351Z",
     "iopub.status.idle": "2022-07-22T14:12:16.945874Z",
     "shell.execute_reply": "2022-07-22T14:12:16.945199Z"
    },
    "papermill": {
     "duration": 3.98583,
     "end_time": "2022-07-22T14:12:16.948123",
     "exception": false,
     "start_time": "2022-07-22T14:12:12.962293",
     "status": "completed"
    },
    "tags": []
   },
   "outputs": [
    {
     "data": {
      "application/scrapbook.scrap.json+json": {
       "data": 0.08649032464072576,
       "encoder": "json",
       "name": "ABC-GAN Model 1 MSE",
       "version": 1
      }
     },
     "metadata": {
      "scrapbook": {
       "data": true,
       "display": false,
       "name": "ABC-GAN Model 1 MSE"
      }
     },
     "output_type": "display_data"
    },
    {
     "data": {
      "application/scrapbook.scrap.json+json": {
       "data": 0.21426823127740885,
       "encoder": "json",
       "name": "ABC-GAN Model 1 MAE",
       "version": 1
      }
     },
     "metadata": {
      "scrapbook": {
       "data": true,
       "display": false,
       "name": "ABC-GAN Model 1 MAE"
      }
     },
     "output_type": "display_data"
    },
    {
     "data": {
      "application/scrapbook.scrap.json+json": {
       "data": 21.855359590295702,
       "encoder": "json",
       "name": "ABC-GAN Model 1 Manhattan Distance",
       "version": 1
      }
     },
     "metadata": {
      "scrapbook": {
       "data": true,
       "display": false,
       "name": "ABC-GAN Model 1 Manhattan Distance"
      }
     },
     "output_type": "display_data"
    },
    {
     "data": {
      "application/scrapbook.scrap.json+json": {
       "data": 2.970174460791516,
       "encoder": "json",
       "name": "ABC-GAN Model 1 Euclidean distance",
       "version": 1
      }
     },
     "metadata": {
      "scrapbook": {
       "data": true,
       "display": false,
       "name": "ABC-GAN Model 1 Euclidean distance"
      }
     },
     "output_type": "display_data"
    },
    {
     "data": {
      "application/scrapbook.scrap.json+json": {
       "data": [
        [
         0.08607100047606858,
         0.08571705742437098,
         0.08619843163197315,
         0.08520065953978968,
         0.08688619268937495,
         0.08709819453302114,
         0.08617291092210665,
         0.08665375710782498,
         0.08698643532840016,
         0.0870564396594758,
         0.08605366758257083,
         0.08638518064140763,
         0.08597701602262658,
         0.08683780396214154,
         0.08612009712566003,
         0.08769550585788831,
         0.08705134235301178,
         0.08640269061847068,
         0.08635681468500901,
         0.08636400908355854,
         0.0863325288740993,
         0.08684659291295907,
         0.08679688536172397,
         0.08634840698824013,
         0.0869793866816617,
         0.08624555911493541,
         0.08687029506894252,
         0.08719319486075863,
         0.08636517526878816,
         0.08693547144688882,
         0.0857953673080859,
         0.08614272565987476,
         0.08568684555253159,
         0.08601625644101524,
         0.08587142114334212,
         0.08646688573424895,
         0.08673538829847262,
         0.08579602627074553,
         0.08669316209722605,
         0.08589553573993182,
         0.0861287406423569,
         0.08628636125203298,
         0.08564016000326581,
         0.08630661623739272,
         0.08632298409512913,
         0.08683968859882357,
         0.08583733613114314,
         0.08664883447889238,
         0.08561546087536827,
         0.08582604070191982,
         0.08666464940888234,
         0.08600730446064128,
         0.0866929643607332,
         0.08749795945451262,
         0.0876996319518731,
         0.08668904284835985,
         0.08675849888824459,
         0.087209011350116,
         0.08695404689359318,
         0.08741838922326857,
         0.08691179490209384,
         0.08746024336560744,
         0.08670306978608085,
         0.08674745356639033,
         0.08589689349414069,
         0.0867592438766557,
         0.08646490725970905,
         0.08715962012703345,
         0.08651914867521986,
         0.08702987572171597,
         0.08699357497593242,
         0.0869027771238648,
         0.08649634138918656,
         0.08584455868401665,
         0.08649813724444737,
         0.08656406677337238,
         0.08703691175301488,
         0.08578013672130536,
         0.0866876764408344,
         0.0871997169045079,
         0.08672937719155092,
         0.08635046796101288,
         0.08727283144934758,
         0.08613718684070402,
         0.08664176891221821,
         0.08664323379549696,
         0.08619100658754862,
         0.08644219398161244,
         0.08578027793017388,
         0.08667539364921116,
         0.08590689604991401,
         0.08580649802795072,
         0.08613949314872732,
         0.08594728019244073,
         0.08659359144037092,
         0.0861226848522459,
         0.08639553678513773,
         0.08653544843771374,
         0.0870120239462171,
         0.08571108418207825
        ],
        [
         0.21490416025706366,
         0.21336682111609215,
         0.2145515967196986,
         0.21296262786741935,
         0.2153780772624647,
         0.21451255308427647,
         0.21315782913463374,
         0.21364093234068623,
         0.21422240578149462,
         0.21537955028607564,
         0.21347445353646488,
         0.21421268383296682,
         0.2129783451045845,
         0.21560101713254756,
         0.21361504471404294,
         0.21701705077772632,
         0.21560925097369096,
         0.21404861488982158,
         0.21499799613786094,
         0.21440515563111096,
         0.2136824093211223,
         0.21439954176472098,
         0.21448287901048566,
         0.2141697125728516,
         0.21571798304862835,
         0.21453974474513648,
         0.21539695690586871,
         0.21536462755837277,
         0.21461301749827816,
         0.21444556913247295,
         0.21381560033735106,
         0.21261284699407862,
         0.2141578937972001,
         0.2132886239309229,
         0.21378500491161556,
         0.21350409749749244,
         0.213546216688758,
         0.2132329953943982,
         0.21464343936931268,
         0.21290446231689522,
         0.21370092226082787,
         0.21430213243572735,
         0.21294082843643777,
         0.2130200882971871,
         0.2137913292675626,
         0.21455553603157693,
         0.21307354920781127,
         0.21449786161675172,
         0.2135188366085583,
         0.21304081621415474,
         0.21528771156262533,
         0.21424258494859233,
         0.21609566221926726,
         0.21547591096411148,
         0.21624683577786474,
         0.214564731052401,
         0.2146550491452217,
         0.21540614208389147,
         0.21414801675607176,
         0.21411833450125128,
         0.21442029749353728,
         0.21490211078130148,
         0.21416246805193961,
         0.2147178318826299,
         0.2134168139640607,
         0.21544077822609858,
         0.21450372794460432,
         0.21494127769826674,
         0.21477484975156247,
         0.21512950507595258,
         0.21403397776770824,
         0.21461007583375072,
         0.21485026277528674,
         0.21331121511392148,
         0.21423672440954866,
         0.21502509192727945,
         0.21477385509905278,
         0.2137641966087269,
         0.2139630149502088,
         0.2158185398461772,
         0.215086240741406,
         0.21449983673279777,
         0.21516059755402453,
         0.21317408904068025,
         0.21417778114989108,
         0.2142594539578639,
         0.21280004515075215,
         0.21382764078603655,
         0.2141252356197904,
         0.2147193870452397,
         0.21317963353266903,
         0.2137335778268821,
         0.21345074630031982,
         0.21362422596590191,
         0.21426238738657796,
         0.21353762901808118,
         0.21310448774374,
         0.2141165496671901,
         0.2145437656116544,
         0.21362053294319147
        ],
        [
         21.920224346220493,
         21.7634157538414,
         21.884262865409255,
         21.722188042476773,
         21.9685638807714,
         21.8802804145962,
         21.74209857173264,
         21.791375098749995,
         21.850685389712453,
         21.968714129179716,
         21.77439426071942,
         21.849693750962615,
         21.72379120066762,
         21.99130374751985,
         21.78873456083238,
         22.135739179328084,
         21.992143599316478,
         21.8329587187618,
         21.929795606061816,
         21.869325874373317,
         21.795605750754476,
         21.86875326000154,
         21.877253659069538,
         21.845310682430863,
         22.003234270960093,
         21.88305396400392,
         21.970489604398608,
         21.967192010954022,
         21.89052778482437,
         21.87344805151224,
         21.80919123440981,
         21.68651039339602,
         21.84410516731441,
         21.755439640954137,
         21.806070500984788,
         21.77741794474423,
         21.781714102253318,
         21.749765530228615,
         21.893630815669894,
         21.716255156323314,
         21.797494070604444,
         21.85881750844419,
         21.719964500516653,
         21.728049006313086,
         21.806715585291386,
         21.884664675220847,
         21.73350201919675,
         21.878781884908676,
         21.778921334072948,
         21.730163253843784,
         21.959346579387784,
         21.852743664756417,
         22.04175754636526,
         21.97854291833937,
         22.057177249342203,
         21.885602567344904,
         21.894815012812614,
         21.97142649255693,
         21.84309770911932,
         21.84007011912763,
         21.8708703443408,
         21.92001529969275,
         21.84457174129784,
         21.90121885202825,
         21.768515024334192,
         21.974959379062057,
         21.87938025034964,
         21.924010325223207,
         21.90703467465937,
         21.943209517747164,
         21.831465732306242,
         21.890227735042572,
         21.914726803079247,
         21.757743941619992,
         21.852145889773965,
         21.932559376582503,
         21.906933220103383,
         21.803948054090142,
         21.824227524921298,
         22.013491064310074,
         21.938796555623412,
         21.878983346745372,
         21.946380950510502,
         21.743757082149386,
         21.84613367728889,
         21.854464303702116,
         21.70560460537672,
         21.81041936017573,
         21.840774033218622,
         21.90137747861445,
         21.74432262033224,
         21.800824938341975,
         21.771976122632623,
         21.789671048521996,
         21.854763513430953,
         21.78083815984428,
         21.73665774986148,
         21.83988806605339,
         21.88346409238875,
         21.78929436020553
        ],
        [
         2.9629785771346704,
         2.956880088418507,
         2.9651711630968727,
         2.9479598492955335,
         2.9769769321101975,
         2.9806066232175215,
         2.964732182517483,
         2.97299230153698,
         2.9786937411383554,
         2.979892086178044,
         2.962680221256122,
         2.9683814487736546,
         2.9613604364055233,
         2.9761478464851905,
         2.9638235282852654,
         2.99080952210344,
         2.9798048459600843,
         2.9686822738521568,
         2.967894050984792,
         2.9680176762484027,
         2.96747669664955,
         2.976298452293019,
         2.975446572683812,
         2.967749570432197,
         2.9785730545899813,
         2.9659816300380903,
         2.976704569995507,
         2.9822316938489832,
         2.9680377149585544,
         2.9778210301464823,
         2.958230461851267,
         2.964212883263823,
         2.956358950864766,
         2.9620361505193604,
         2.9595413422726327,
         2.969784898758392,
         2.9743923087656423,
         2.958241822369504,
         2.9736681949936945,
         2.959956865475077,
         2.9639722578864336,
         2.9666831390809776,
         2.9555534710664793,
         2.967031320396544,
         2.9673126525027946,
         2.976180141906737,
         2.9589539174134827,
         2.9729078554248907,
         2.9551272407948126,
         2.9587592250123738,
         2.9731791469243825,
         2.9618820123336125,
         2.973664803705149,
         2.9874390143332277,
         2.990879880418311,
         2.973597546833247,
         2.9747885448550706,
         2.9825021639073177,
         2.9781391477139723,
         2.986080323898437,
         2.97741550342131,
         2.986795075543677,
         2.973838112302054,
         2.9745991769937365,
         2.9599802594615983,
         2.974801316965367,
         2.9697509222980845,
         2.9816574674092613,
         2.9706822726223048,
         2.979437417301298,
         2.9788159808126964,
         2.9772610343458648,
         2.9702906964970675,
         2.9590784014232705,
         2.970321531237592,
         2.9714533162888466,
         2.979557852904943,
         2.9579678743308127,
         2.9735741115642482,
         2.9823432271051242,
         2.9742892383791784,
         2.9677849874988107,
         2.983593271180483,
         2.964117585007688,
         2.972786643714321,
         2.972811774589957,
         2.9650434519463555,
         2.9693608379791883,
         2.957970308991917,
         2.973363440990613,
         2.960152596926589,
         2.958422349640256,
         2.964157266605499,
         2.960848287168553,
         2.9719600143537988,
         2.963868056261797,
         2.9685593731781825,
         2.9709620900723053,
         2.979131826978146,
         2.956777060681441
        ]
       ],
       "encoder": "json",
       "name": "ABC_GAN_2 Metrics",
       "version": 1
      }
     },
     "metadata": {
      "scrapbook": {
       "data": true,
       "display": false,
       "name": "ABC_GAN_2 Metrics"
      }
     },
     "output_type": "display_data"
    },
    {
     "name": "stdout",
     "output_type": "stream",
     "text": [
      "MAE\n",
      "0.21426823127740885\n"
     ]
    }
   ],
   "source": [
    "ABC_GAN2_metrics=ABC_train_test2.test_generator(gen2,test_data,prior_model,variance,bias,\"1\",device)\n",
    "sb.glue(\"ABC_GAN_2 Metrics\",ABC_GAN2_metrics)\n",
    "\n",
    "print(\"MAE\")\n",
    "print(mean(ABC_GAN2_metrics[1]))"
   ]
  },
  {
   "cell_type": "code",
   "execution_count": 18,
   "id": "5b391d25",
   "metadata": {
    "execution": {
     "iopub.execute_input": "2022-07-22T14:12:17.068103Z",
     "iopub.status.busy": "2022-07-22T14:12:17.059556Z",
     "iopub.status.idle": "2022-07-22T14:12:18.305953Z",
     "shell.execute_reply": "2022-07-22T14:12:18.305182Z"
    },
    "papermill": {
     "duration": 1.312273,
     "end_time": "2022-07-22T14:12:18.308351",
     "exception": false,
     "start_time": "2022-07-22T14:12:16.996078",
     "status": "completed"
    },
    "tags": []
   },
   "outputs": [
    {
     "data": {
      "image/png": "[encoded data removed]",
      "text/plain": [
       "<Figure size 432x288 with 1 Axes>"
      ]
     },
     "metadata": {
      "needs_background": "light"
     },
     "output_type": "display_data"
    },
    {
     "data": {
      "image/png": "[encoded data removed]",
      "text/plain": [
       "<Figure size 432x288 with 1 Axes>"
      ]
     },
     "metadata": {
      "needs_background": "light"
     },
     "output_type": "display_data"
    },
    {
     "data": {
      "image/png": "[encoded data removed]",
      "text/plain": [
       "<Figure size 432x288 with 1 Axes>"
      ]
     },
     "metadata": {
      "needs_background": "light"
     },
     "output_type": "display_data"
    },
    {
     "data": {
      "image/png": "[encoded data removed]",
      "text/plain": [
       "<Figure size 432x288 with 1 Axes>"
      ]
     },
     "metadata": {
      "needs_background": "light"
     },
     "output_type": "display_data"
    }
   ],
   "source": [
    "sanityChecks.discProbVsError(train_data,disc2,device)\n",
    "sanityChecks.discProbVsError(test_data,disc2,device)"
   ]
  },
  {
   "cell_type": "markdown",
   "id": "130f3a4d",
   "metadata": {
    "id": "130f3a4d",
    "papermill": {
     "duration": 0.044288,
     "end_time": "2022-07-22T14:12:18.397211",
     "exception": false,
     "start_time": "2022-07-22T14:12:18.352923",
     "status": "completed"
    },
    "tags": []
   },
   "source": [
    "# skipGAN Model"
   ]
  },
  {
   "cell_type": "code",
   "execution_count": 19,
   "id": "4e43dad1",
   "metadata": {
    "execution": {
     "iopub.execute_input": "2022-07-22T14:12:18.479681Z",
     "iopub.status.busy": "2022-07-22T14:12:18.479358Z",
     "iopub.status.idle": "2022-07-22T14:12:18.488060Z",
     "shell.execute_reply": "2022-07-22T14:12:18.486814Z"
    },
    "id": "4e43dad1",
    "papermill": {
     "duration": 0.054814,
     "end_time": "2022-07-22T14:12:18.490652",
     "exception": false,
     "start_time": "2022-07-22T14:12:18.435838",
     "status": "completed"
    },
    "tags": []
   },
   "outputs": [],
   "source": [
    "#Generator\n",
    "gen3 = network.GeneratorWithSkipConnection(n_features+1).to(device)\n",
    "constraints=network.weightConstraint()\n",
    "#Discriminator \n",
    "disc3 = network.Discriminator(n_features+1).to(device)\n",
    "\n",
    "criterion = torch.nn.BCELoss()\n",
    "gen_opt = torch.optim.Adam(gen3.parameters(), lr=0.01, betas=(0.5, 0.999))\n",
    "disc_opt = torch.optim.Adam(disc3.parameters(), lr=0.01, betas=(0.5, 0.999))\n"
   ]
  },
  {
   "cell_type": "code",
   "execution_count": 20,
   "id": "26acbc37",
   "metadata": {
    "execution": {
     "iopub.execute_input": "2022-07-22T14:12:18.581040Z",
     "iopub.status.busy": "2022-07-22T14:12:18.580742Z",
     "iopub.status.idle": "2022-07-22T14:19:18.079347Z",
     "shell.execute_reply": "2022-07-22T14:19:18.075567Z"
    },
    "id": "26acbc37",
    "papermill": {
     "duration": 419.55795,
     "end_time": "2022-07-22T14:19:18.094285",
     "exception": false,
     "start_time": "2022-07-22T14:12:18.536335",
     "status": "completed"
    },
    "tags": []
   },
   "outputs": [
    {
     "data": {
      "image/png": "[encoded data removed]",
      "text/plain": [
       "<Figure size 432x288 with 1 Axes>"
      ]
     },
     "metadata": {
      "needs_background": "light"
     },
     "output_type": "display_data"
    },
    {
     "data": {
      "image/png": "[encoded data removed]",
      "text/plain": [
       "<Figure size 432x288 with 1 Axes>"
      ]
     },
     "metadata": {
      "needs_background": "light"
     },
     "output_type": "display_data"
    }
   ],
   "source": [
    "ABC_train_test2.training_GAN_skip_connection(disc3,gen3,disc_opt,gen_opt,train_data,batch_size,n_epochs,criterion,prior_model,variance,bias,device)"
   ]
  },
  {
   "cell_type": "code",
   "execution_count": 21,
   "id": "c5e0717b",
   "metadata": {
    "execution": {
     "iopub.execute_input": "2022-07-22T14:19:18.274168Z",
     "iopub.status.busy": "2022-07-22T14:19:18.273497Z",
     "iopub.status.idle": "2022-07-22T14:19:30.740029Z",
     "shell.execute_reply": "2022-07-22T14:19:30.739089Z"
    },
    "id": "c5e0717b",
    "papermill": {
     "duration": 12.603269,
     "end_time": "2022-07-22T14:19:30.742624",
     "exception": false,
     "start_time": "2022-07-22T14:19:18.139355",
     "status": "completed"
    },
    "tags": []
   },
   "outputs": [
    {
     "data": {
      "application/scrapbook.scrap.json+json": {
       "data": 0.1416213869295688,
       "encoder": "json",
       "name": "ABC-GAN Model 3 MSE",
       "version": 1
      }
     },
     "metadata": {
      "scrapbook": {
       "data": true,
       "display": false,
       "name": "ABC-GAN Model 3 MSE"
      }
     },
     "output_type": "display_data"
    },
    {
     "data": {
      "application/scrapbook.scrap.json+json": {
       "data": 0.28200818787712384,
       "encoder": "json",
       "name": "ABC-GAN Model 3 MAE",
       "version": 1
      }
     },
     "metadata": {
      "scrapbook": {
       "data": true,
       "display": false,
       "name": "ABC-GAN Model 3 MAE"
      }
     },
     "output_type": "display_data"
    },
    {
     "data": {
      "application/scrapbook.scrap.json+json": {
       "data": 28.764835163466632,
       "encoder": "json",
       "name": "ABC-GAN Model 3 Manhattan Distance",
       "version": 1
      }
     },
     "metadata": {
      "scrapbook": {
       "data": true,
       "display": false,
       "name": "ABC-GAN Model 3 Manhattan Distance"
      }
     },
     "output_type": "display_data"
    },
    {
     "data": {
      "application/scrapbook.scrap.json+json": {
       "data": 3.8006972065169617,
       "encoder": "json",
       "name": "ABC-GAN Model 3 Euclidean distance",
       "version": 1
      }
     },
     "metadata": {
      "scrapbook": {
       "data": true,
       "display": false,
       "name": "ABC-GAN Model 3 Euclidean distance"
      }
     },
     "output_type": "display_data"
    },
    {
     "data": {
      "application/scrapbook.scrap.json+json": {
       "data": [
        [
         0.14086157631761023,
         0.14189817346372063,
         0.14184320003810336,
         0.14222627269126023,
         0.14304156620592573,
         0.14147731457879648,
         0.1420015576862991,
         0.14154734919337936,
         0.1416735874773267,
         0.14176806020450905,
         0.14102771538053036,
         0.14066913544055457,
         0.1409572036888678,
         0.14032132926471408,
         0.14175602760649073,
         0.14144058547540092,
         0.14139117421749423,
         0.14219538887102712,
         0.14115610356547692,
         0.14240032642478223,
         0.14214865154611647,
         0.1415844712491298,
         0.1422853744294561,
         0.14313987192286723,
         0.14136982279437083,
         0.14168150974780108,
         0.1418153408465389,
         0.1425911214412726,
         0.14169573689308254,
         0.1410542288475404,
         0.14173581504308733,
         0.1433801800444946,
         0.1407360258503859,
         0.1425540660482174,
         0.1408579984922871,
         0.1418351114385806,
         0.14044440750272869,
         0.14262434763796444,
         0.14180322186096264,
         0.14148615103127732,
         0.14048818335863067,
         0.14153967199665446,
         0.14256807296053303,
         0.1431861839124278,
         0.1407432851010271,
         0.1410200213421905,
         0.14050970273683697,
         0.1420112227152267,
         0.14143297506443311,
         0.14040509323304173,
         0.14081592600302933,
         0.1418300306152254,
         0.14149422960231367,
         0.14146979659307793,
         0.14175942441947226,
         0.14080562069235464,
         0.14172612815979263,
         0.1412237657101447,
         0.1414938630160381,
         0.14120513397459244,
         0.14096550904529825,
         0.14139951782250504,
         0.14075281204617301,
         0.14122590958063366,
         0.1420894596873418,
         0.14147916548605102,
         0.14142529157177988,
         0.14141816291445305,
         0.14181814846076063,
         0.14190023965381754,
         0.14119611478687702,
         0.1411963183597068,
         0.141244064175897,
         0.14156968606905715,
         0.14334674988185747,
         0.14112928273388836,
         0.14201974036576082,
         0.14202942837141522,
         0.141093570617242,
         0.14151145288685973,
         0.14205059533196568,
         0.14154757315749208,
         0.14214126615985614,
         0.14199398614043982,
         0.1404394429409281,
         0.1416311900105051,
         0.14276479466447686,
         0.14127139046216056,
         0.14110719429915414,
         0.14060072030518525,
         0.1418243680665993,
         0.14174944591870348,
         0.14123149990508144,
         0.14190711900928416,
         0.1430303641914152,
         0.1423974016641404,
         0.14267674319864518,
         0.14124575184254667,
         0.14188843775038332,
         0.141623349753067
        ],
        [
         0.2810359313426649,
         0.2824436282629476,
         0.28209715573957156,
         0.28450241305080115,
         0.2855727764978713,
         0.2811635426592593,
         0.2809076678080886,
         0.28242259823224125,
         0.2820813238401623,
         0.28136288772757145,
         0.2802226760735114,
         0.28139758807625254,
         0.2811987104223055,
         0.2812895435547712,
         0.28353116986360033,
         0.2822528868621471,
         0.2821230433662148,
         0.2813662483411677,
         0.28119515675101797,
         0.2808457786838214,
         0.2817766764657755,
         0.2811225861603138,
         0.2827582592692445,
         0.2848513584364863,
         0.281538376255947,
         0.28189199030691503,
         0.28261336205782844,
         0.28235707139852,
         0.28179502249786664,
         0.2816152989353035,
         0.28306289977741006,
         0.2843588912749992,
         0.2808469470371218,
         0.2838400781665947,
         0.2809358140928488,
         0.2829506533476068,
         0.28230644554338036,
         0.2820678975652246,
         0.2827410107734157,
         0.28149255189825506,
         0.2803105652405351,
         0.2830397169306582,
         0.28465439755396515,
         0.28356458064095647,
         0.2801862493449566,
         0.280292030533447,
         0.2809780648745158,
         0.28301219035889585,
         0.28115280257428393,
         0.28188915525143055,
         0.2806665830533294,
         0.2814716776723371,
         0.28256046005031643,
         0.28167271964690266,
         0.28157711299318894,
         0.28043095088180375,
         0.2828743220033014,
         0.2812975618403916,
         0.2813942853507458,
         0.2819038553930381,
         0.28137291317769125,
         0.2825274712533927,
         0.28000780253433716,
         0.28213561180175517,
         0.2816761171481773,
         0.2812906328004365,
         0.2817859444402012,
         0.2807040506352981,
         0.2832148889189257,
         0.28208060135297913,
         0.2820803219196843,
         0.2813188979657842,
         0.28114415372849677,
         0.2821670942300675,
         0.2830791575651543,
         0.2799497911816134,
         0.2828226182244572,
         0.2813505510635236,
         0.28116548912344025,
         0.2820894993184244,
         0.2824288663618705,
         0.28125503465679347,
         0.282857865935155,
         0.2820426562034032,
         0.2812167367733577,
         0.28300182773348165,
         0.28302554347935843,
         0.2811148947871783,
         0.2840379590132073,
         0.2797421486135207,
         0.28214169403209405,
         0.28270754974116297,
         0.2815621653023888,
         0.2822879966640589,
         0.2834790601011585,
         0.28349473696275085,
         0.2837222494988465,
         0.2822994896594216,
         0.2823005861730552,
         0.28127091703023394
        ],
        [
         28.66566499695182,
         28.809250082820654,
         28.773909885436296,
         29.019246131181717,
         29.12842320278287,
         28.67868135124445,
         28.652582116425037,
         28.807105019688606,
         28.772295031696558,
         28.69901454821229,
         28.582712959498167,
         28.70255398377776,
         28.68226846307516,
         28.69153344258666,
         28.920179326087236,
         28.789794459939003,
         28.77655042335391,
         28.699357330799103,
         28.68190598860383,
         28.64626942574978,
         28.741220999509096,
         28.674503788352013,
         28.841342445462942,
         29.054838560521603,
         28.716914378106594,
         28.752983011305332,
         28.8265629298985,
         28.80042128264904,
         28.7430922947824,
         28.724760491400957,
         28.872415777295828,
         29.004606910049915,
         28.646388597786427,
         28.95168797299266,
         28.65545303747058,
         28.86096664145589,
         28.795257445424795,
         28.77092555165291,
         28.839583098888397,
         28.712240293622017,
         28.59167765453458,
         28.870051126927137,
         29.034748550504446,
         28.92358722537756,
         28.578997433185577,
         28.589787114411592,
         28.659762617200613,
         28.86724341660738,
         28.67758586257696,
         28.752693835645914,
         28.6279914714396,
         28.710111122578382,
         28.821166925132275,
         28.73061740398407,
         28.72086552530527,
         28.60395698994398,
         28.853180844336748,
         28.692351307719946,
         28.70221710577607,
         28.754193250089884,
         28.700037144124508,
         28.81780206784606,
         28.560795858502388,
         28.77783240377903,
         28.730963949114084,
         28.69164454564452,
         28.742166332900524,
         28.631813164800406,
         28.887918669730425,
         28.772221338003874,
         28.7721928358078,
         28.694527592509985,
         28.676703680306673,
         28.781043611466885,
         28.874074071645737,
         28.55487870052457,
         28.847907058894634,
         28.697756208479404,
         28.678879890590906,
         28.773128930479288,
         28.80774436891079,
         28.688013534992933,
         28.85150232538581,
         28.768350932747126,
         28.684107150882483,
         28.866186428815126,
         28.86860543489456,
         28.67371926829219,
         28.971871819347143,
         28.53369915857911,
         28.778452791273594,
         28.836170073598623,
         28.71934086084366,
         28.79337565973401,
         28.914864130318165,
         28.916463170200586,
         28.93966944888234,
         28.794547945261,
         28.794659789651632,
         28.689633537083864
        ],
        [
         3.7904987514041255,
         3.8044202834728313,
         3.803683268081944,
         3.8088160646726616,
         3.8197172346921735,
         3.7987742874560517,
         3.80580594408103,
         3.7997144126532327,
         3.801408413034217,
         3.8026756554904755,
         3.7927334428897184,
         3.787908633393441,
         3.791785170109788,
         3.7832229097689756,
         3.8025142755632166,
         3.798281153165322,
         3.797617644021631,
         3.8084025082499835,
         3.794459456059405,
         3.8111459294191015,
         3.807776576652558,
         3.800212634499711,
         3.8096073540201636,
         3.821029564938285,
         3.79733089485573,
         3.801514697364157,
         3.803309712125343,
         3.8136982558941126,
         3.801705559757938,
         3.793089946527648,
         3.8022431713917113,
         3.824235657558049,
         3.788809131737749,
         3.8132026876260023,
         3.7904506125543023,
         3.803574814136724,
         3.784881710870014,
         3.814142558829228,
         3.803147200650822,
         3.798892918363227,
         3.785471529754295,
         3.79961136745046,
         3.8133900196510666,
         3.821647649779821,
         3.788906845028624,
         3.792629981543602,
         3.7857614398106714,
         3.8059354588528067,
         3.7981789658429963,
         3.7843519273146695,
         3.7898844906288356,
         3.803506687617755,
         3.799001371339051,
         3.7986733542769833,
         3.802559833952145,
         3.789745810819001,
         3.8021132377006923,
         3.795368770282376,
         3.7989964500688704,
         3.7951183993926225,
         3.7918968765804295,
         3.7977296925789106,
         3.7890350788439067,
         3.7953975782814418,
         3.806983699480319,
         3.798799136513695,
         3.798075794441383,
         3.7979800706789137,
         3.803347360286407,
         3.8044479815985635,
         3.794997194763318,
         3.7949999305257034,
         3.7956415196830013,
         3.8000142077423638,
         3.8237898069780787,
         3.7940989495342112,
         3.8060495946988913,
         3.80617940905107,
         3.7936188795078882,
         3.7992325796744386,
         3.8064630201619583,
         3.799717418712106,
         3.8076776581408933,
         3.805704479636438,
         3.784814814488903,
         3.8008395626586915,
         3.816020054425375,
         3.7960086705828755,
         3.793802026794982,
         3.7869873872418554,
         3.803430759563413,
         3.802425999767484,
         3.7954726965581376,
         3.8045402007268874,
         3.8195676650014136,
         3.8111067906504945,
         3.8148430906476096,
         3.7956641958871646,
         3.804289769528485,
         3.800734359937936
        ]
       ],
       "encoder": "json",
       "name": "ABC_GAN_3 Metrics",
       "version": 1
      }
     },
     "metadata": {
      "scrapbook": {
       "data": true,
       "display": false,
       "name": "ABC_GAN_3 Metrics"
      }
     },
     "output_type": "display_data"
    },
    {
     "name": "stdout",
     "output_type": "stream",
     "text": [
      "MAE\n",
      "0.28200818787712384\n"
     ]
    }
   ],
   "source": [
    "ABC_GAN3_metrics=ABC_train_test2.test_generator(gen3,test_data,prior_model,variance,bias,\"3\",device)\n",
    "sb.glue(\"ABC_GAN_3 Metrics\",ABC_GAN3_metrics)\n",
    "\n",
    "print(\"MAE\")\n",
    "print(mean(ABC_GAN3_metrics[1]))"
   ]
  },
  {
   "cell_type": "code",
   "execution_count": 22,
   "id": "c8e46b48",
   "metadata": {
    "execution": {
     "iopub.execute_input": "2022-07-22T14:19:30.853939Z",
     "iopub.status.busy": "2022-07-22T14:19:30.853122Z",
     "iopub.status.idle": "2022-07-22T14:19:33.105043Z",
     "shell.execute_reply": "2022-07-22T14:19:33.101916Z"
    },
    "id": "c8e46b48",
    "papermill": {
     "duration": 2.313144,
     "end_time": "2022-07-22T14:19:33.107637",
     "exception": false,
     "start_time": "2022-07-22T14:19:30.794493",
     "status": "completed"
    },
    "tags": []
   },
   "outputs": [
    {
     "data": {
      "image/png": "[encoded data removed]",
      "text/plain": [
       "<Figure size 432x288 with 1 Axes>"
      ]
     },
     "metadata": {
      "needs_background": "light"
     },
     "output_type": "display_data"
    },
    {
     "data": {
      "image/png": "[encoded data removed]",
      "text/plain": [
       "<Figure size 432x288 with 1 Axes>"
      ]
     },
     "metadata": {
      "needs_background": "light"
     },
     "output_type": "display_data"
    },
    {
     "data": {
      "image/png": "[encoded data removed]",
      "text/plain": [
       "<Figure size 432x288 with 1 Axes>"
      ]
     },
     "metadata": {
      "needs_background": "light"
     },
     "output_type": "display_data"
    },
    {
     "data": {
      "image/png": "[encoded data removed]",
      "text/plain": [
       "<Figure size 432x288 with 1 Axes>"
      ]
     },
     "metadata": {
      "needs_background": "light"
     },
     "output_type": "display_data"
    }
   ],
   "source": [
    "sanityChecks.discProbVsError(train_data,disc3,device)\n",
    "sanityChecks.discProbVsError(test_data,disc3,device)"
   ]
  },
  {
   "cell_type": "markdown",
   "id": "c94ea87b",
   "metadata": {
    "id": "130f3a4d",
    "papermill": {
     "duration": 0.638509,
     "end_time": "2022-07-22T14:19:33.795180",
     "exception": false,
     "start_time": "2022-07-22T14:19:33.156671",
     "status": "completed"
    },
    "tags": []
   },
   "source": [
    "# skipGAN Model with TabNet Generator"
   ]
  },
  {
   "cell_type": "code",
   "execution_count": 23,
   "id": "fe82c226",
   "metadata": {
    "execution": {
     "iopub.execute_input": "2022-07-22T14:19:34.006549Z",
     "iopub.status.busy": "2022-07-22T14:19:34.006223Z",
     "iopub.status.idle": "2022-07-22T14:19:34.024072Z",
     "shell.execute_reply": "2022-07-22T14:19:34.023091Z"
    },
    "id": "4e43dad1",
    "papermill": {
     "duration": 0.097106,
     "end_time": "2022-07-22T14:19:34.027366",
     "exception": false,
     "start_time": "2022-07-22T14:19:33.930260",
     "status": "completed"
    },
    "tags": []
   },
   "outputs": [],
   "source": [
    "#Generator\n",
    "gen4 = network.GeneratorTabnetskipConnection(n_features+1).to(device)\n",
    "constraints=network.weightConstraint()\n",
    "#Discriminator \n",
    "disc4 = network.Discriminator(n_features+1).to(device)\n",
    "\n",
    "criterion = torch.nn.BCELoss()\n",
    "gen_opt = torch.optim.Adam(gen4.parameters(), lr=0.01, betas=(0.5, 0.999))\n",
    "disc_opt = torch.optim.Adam(disc4.parameters(), lr=0.01, betas=(0.5, 0.999))\n"
   ]
  },
  {
   "cell_type": "code",
   "execution_count": 24,
   "id": "59fb9dd2",
   "metadata": {
    "execution": {
     "iopub.execute_input": "2022-07-22T14:19:34.137594Z",
     "iopub.status.busy": "2022-07-22T14:19:34.136822Z",
     "iopub.status.idle": "2022-07-22T14:39:24.739890Z",
     "shell.execute_reply": "2022-07-22T14:39:24.738370Z"
    },
    "id": "26acbc37",
    "papermill": {
     "duration": 1190.671624,
     "end_time": "2022-07-22T14:39:24.743502",
     "exception": false,
     "start_time": "2022-07-22T14:19:34.071878",
     "status": "completed"
    },
    "tags": []
   },
   "outputs": [
    {
     "data": {
      "image/png": "[encoded data removed]",
      "text/plain": [
       "<Figure size 432x288 with 1 Axes>"
      ]
     },
     "metadata": {
      "needs_background": "light"
     },
     "output_type": "display_data"
    },
    {
     "data": {
      "image/png": "[encoded data removed]",
      "text/plain": [
       "<Figure size 432x288 with 1 Axes>"
      ]
     },
     "metadata": {
      "needs_background": "light"
     },
     "output_type": "display_data"
    }
   ],
   "source": [
    "ABC_train_test2.training_GAN_skip_connection(disc4,gen4,disc_opt,gen_opt,train_data,batch_size,n_epochs,criterion,prior_model,variance,bias,device)"
   ]
  },
  {
   "cell_type": "code",
   "execution_count": 25,
   "id": "44c58286",
   "metadata": {
    "execution": {
     "iopub.execute_input": "2022-07-22T14:39:25.001797Z",
     "iopub.status.busy": "2022-07-22T14:39:24.999473Z",
     "iopub.status.idle": "2022-07-22T14:39:29.627976Z",
     "shell.execute_reply": "2022-07-22T14:39:29.627148Z"
    },
    "id": "c5e0717b",
    "papermill": {
     "duration": 4.814794,
     "end_time": "2022-07-22T14:39:29.630501",
     "exception": false,
     "start_time": "2022-07-22T14:39:24.815707",
     "status": "completed"
    },
    "tags": []
   },
   "outputs": [
    {
     "data": {
      "application/scrapbook.scrap.json+json": {
       "data": 0.15883836761691741,
       "encoder": "json",
       "name": "ABC-GAN Model 3 MSE",
       "version": 1
      }
     },
     "metadata": {
      "scrapbook": {
       "data": true,
       "display": false,
       "name": "ABC-GAN Model 3 MSE"
      }
     },
     "output_type": "display_data"
    },
    {
     "data": {
      "application/scrapbook.scrap.json+json": {
       "data": 0.29578513846741805,
       "encoder": "json",
       "name": "ABC-GAN Model 3 MAE",
       "version": 1
      }
     },
     "metadata": {
      "scrapbook": {
       "data": true,
       "display": false,
       "name": "ABC-GAN Model 3 MAE"
      }
     },
     "output_type": "display_data"
    },
    {
     "data": {
      "application/scrapbook.scrap.json+json": {
       "data": 30.17008412367664,
       "encoder": "json",
       "name": "ABC-GAN Model 3 Manhattan Distance",
       "version": 1
      }
     },
     "metadata": {
      "scrapbook": {
       "data": true,
       "display": false,
       "name": "ABC-GAN Model 3 Manhattan Distance"
      }
     },
     "output_type": "display_data"
    },
    {
     "data": {
      "application/scrapbook.scrap.json+json": {
       "data": 4.025102676218336,
       "encoder": "json",
       "name": "ABC-GAN Model 3 Euclidean distance",
       "version": 1
      }
     },
     "metadata": {
      "scrapbook": {
       "data": true,
       "display": false,
       "name": "ABC-GAN Model 3 Euclidean distance"
      }
     },
     "output_type": "display_data"
    },
    {
     "data": {
      "application/scrapbook.scrap.json+json": {
       "data": [
        [
         0.1577106863666489,
         0.15856365991150717,
         0.1598594831798222,
         0.15888356098700554,
         0.1592359970016547,
         0.15772096145140893,
         0.15841098027316206,
         0.15896438228357704,
         0.159221722860133,
         0.15945687036822392,
         0.15808343641426909,
         0.15887800698510696,
         0.15814183727506695,
         0.159069662185582,
         0.15862216680548957,
         0.15802426231653743,
         0.15834188298949478,
         0.15933927501296508,
         0.16033715025181156,
         0.15843691274220453,
         0.15955373583388135,
         0.15899660719769562,
         0.15866539078108055,
         0.15862024826524815,
         0.1585399609399852,
         0.15900264776182693,
         0.15883304049931393,
         0.15763511642689826,
         0.15814958591904965,
         0.15857918875390623,
         0.1577410286842293,
         0.15858066806215532,
         0.1586789814132645,
         0.15964809124003293,
         0.1591372225825566,
         0.1594043916271299,
         0.15850563791397032,
         0.15860527947059896,
         0.1582798983782168,
         0.15823904663581317,
         0.15839995155039333,
         0.1588522843381308,
         0.15887126979982097,
         0.15940078051562043,
         0.15854838600002824,
         0.15924689536153422,
         0.16007350197230474,
         0.15868024006465817,
         0.15811491175476713,
         0.15706539341551348,
         0.1586913321230613,
         0.1582566260698434,
         0.15874260795839942,
         0.15859642025780954,
         0.15901552803086058,
         0.1587054910057033,
         0.15970048027102626,
         0.15844073767031785,
         0.1593354818383586,
         0.15942023075844688,
         0.15876099091564264,
         0.15798072320737896,
         0.15957433099883822,
         0.1596007068869718,
         0.15835148691855083,
         0.15775112371710948,
         0.1589729988530634,
         0.15885248104854505,
         0.15949856858653835,
         0.15861715006858737,
         0.1586761748049601,
         0.15914853866106154,
         0.1597486455270008,
         0.1593007912635646,
         0.15919038243212827,
         0.15834291709115814,
         0.15903013329716212,
         0.1589388537180406,
         0.1579961933698516,
         0.15893522995333723,
         0.15928001618684082,
         0.15902861881676889,
         0.15940906947091774,
         0.1593583271746634,
         0.15871375280610914,
         0.15999159018943204,
         0.15883059788928514,
         0.15872073639330017,
         0.1597158857084996,
         0.15835564282833714,
         0.15813079457308715,
         0.15952771512893926,
         0.15780074663150376,
         0.15946560992288936,
         0.15794613925380627,
         0.15993523868025042,
         0.1600199683991464,
         0.1590899521798694,
         0.15931852481369957,
         0.15907219651978077
        ],
        [
         0.294117196426526,
         0.2951266482225893,
         0.29638272187873427,
         0.29700998295390724,
         0.2970762755539195,
         0.29496130003027765,
         0.2949197401575671,
         0.29658906920082573,
         0.29627109233143867,
         0.2957807091685633,
         0.29548234817590197,
         0.29577592223444404,
         0.29605016160719827,
         0.29677542802129014,
         0.2949682735271898,
         0.2950655648977879,
         0.29519463619034664,
         0.29624905899240106,
         0.296913798697585,
         0.29610911334919576,
         0.2969801650912154,
         0.2965603737872751,
         0.2952621937090275,
         0.296348370082092,
         0.29525394240102054,
         0.2960124375280358,
         0.29533841048239495,
         0.2951923951360525,
         0.29567549792209674,
         0.2957278098454516,
         0.2951225649163711,
         0.29440019270587786,
         0.29464606255037235,
         0.29626708148120373,
         0.2965674716066204,
         0.2968358418758155,
         0.29523595885428433,
         0.29554928549766246,
         0.2953437841862586,
         0.29535398918076183,
         0.2950752151253469,
         0.29533486973092543,
         0.2955778278136516,
         0.2955900085998662,
         0.29566650531784283,
         0.2959991427430627,
         0.2969792217984065,
         0.29539877172632545,
         0.29474509194237636,
         0.2938971450534083,
         0.296273009719181,
         0.295319739564815,
         0.2966309201483633,
         0.29599344823509455,
         0.2960879246740803,
         0.29515508378801103,
         0.29658699947792816,
         0.2952632573707139,
         0.29624384396946896,
         0.2966419104669316,
         0.29555224221857157,
         0.29512542372058126,
         0.29647403198531735,
         0.29660910850975153,
         0.2952921905043517,
         0.2945947906038925,
         0.2961427633760168,
         0.29625310368982016,
         0.29523160115030467,
         0.29541789452709694,
         0.2955564139228241,
         0.29616436533922075,
         0.2960973756351307,
         0.29572965390980244,
         0.29647684558386017,
         0.2952378396054401,
         0.2962174686493681,
         0.29591854811445173,
         0.2956238044973682,
         0.2953925871600707,
         0.2955603987051576,
         0.29674787871886554,
         0.2958998392135197,
         0.29573444429529355,
         0.2959491651523493,
         0.29722339896412164,
         0.2967602749282092,
         0.29599069817649093,
         0.2959247390538746,
         0.2955270264407291,
         0.29488448987660165,
         0.29653971855912137,
         0.29342576086648975,
         0.29757215000469894,
         0.29471437698777986,
         0.2971147222115713,
         0.29623090151660875,
         0.29589101046725524,
         0.2960890857959349,
         0.29467290638051197
        ],
        [
         29.999954035505652,
         30.10291811870411,
         30.231037631630898,
         30.295018261298537,
         30.30178010649979,
         30.08605260308832,
         30.081813496071845,
         30.252085058484226,
         30.219651417806745,
         30.169632335193455,
         30.139199513942003,
         30.169144067913294,
         30.197116483934224,
         30.271093658171594,
         30.08676389977336,
         30.096687619574368,
         30.109852891415358,
         30.217404017224908,
         30.28520746715367,
         30.20312956161797,
         30.29197683930397,
         30.249158126302063,
         30.11674375832081,
         30.22753374837339,
         30.115902124904096,
         30.193268627859652,
         30.124517869204283,
         30.109624303877354,
         30.15890078805387,
         30.164236604236066,
         30.102501621469855,
         30.02881965599954,
         30.05389838013798,
         30.21924231108278,
         30.24988210387528,
         30.277255871333182,
         30.114067803137004,
         30.146027120761573,
         30.12506598699838,
         30.126106896437705,
         30.097671942785382,
         30.124156712554395,
         30.148938436992466,
         30.150180877186358,
         30.15798354241997,
         30.1919125597924,
         30.291880623437464,
         30.130674716085196,
         30.06399937812239,
         29.977508795447648,
         30.219846991356462,
         30.12261343561113,
         30.256353855133057,
         30.191331719979644,
         30.20096831675619,
         30.105818546377122,
         30.251873946748674,
         30.116852251812816,
         30.216872084885836,
         30.257474867627025,
         30.146328706294298,
         30.10279321949929,
         30.240351262502372,
         30.254129067994654,
         30.11980343144387,
         30.048668641597033,
         30.206561864353716,
         30.217816576361656,
         30.113623317331076,
         30.13262524176389,
         30.14675422012806,
         30.208765264600515,
         30.201932314783335,
         30.16442469879985,
         30.24063824955374,
         30.11425963975489,
         30.214181802235544,
         30.183691907674074,
         30.153628058731556,
         30.130043890327215,
         30.147160667926073,
         30.268283629324287,
         30.18178359977901,
         30.164913318119943,
         30.18681484553963,
         30.316786694340408,
         30.269548042677343,
         30.191051214002073,
         30.18432338349521,
         30.14375669695437,
         30.078217967413366,
         30.24705129303038,
         29.929427608381957,
         30.352359300479293,
         30.060866452753544,
         30.305701665580273,
         30.215551954694092,
         30.180883067660034,
         30.201086751185358,
         30.05663645081222
        ],
        [
         4.010796680137025,
         4.021628191538065,
         4.038027647793148,
         4.0256829508388465,
         4.030145368863111,
         4.010927332680525,
         4.019691528943798,
         4.0267067180172,
         4.02996473082998,
         4.032939471100309,
         4.015533652486982,
         4.02561258847407,
         4.016275314524245,
         4.028039913274117,
         4.022370074242292,
         4.014782030980863,
         4.018814758722832,
         4.03145210207469,
         4.044056048781318,
         4.020020534736714,
         4.034164232533908,
         4.027114839952413,
         4.022918077673246,
         4.0223457488206185,
         4.021327643437983,
         4.027191337856489,
         4.025042873179118,
         4.009835641961353,
         4.016373708177945,
         4.021825114658571,
         4.011182484728336,
         4.021843873441613,
         4.02309036738587,
         4.035356899517484,
         4.02889522120156,
         4.032275777519098,
         4.020892322261934,
         4.0221559524713975,
         4.0180280778732875,
         4.0175095216878995,
         4.019551599138904,
         4.025286698173105,
         4.025527234981989,
         4.03223010412269,
         4.0214344918204095,
         4.0302832812193845,
         4.040729785716324,
         4.0231063230537565,
         4.015933390755659,
         4.002582932105514,
         4.023246932087596,
         4.017732676413902,
         4.023896868926531,
         4.022043618149431,
         4.027354449157384,
         4.023426410732739,
         4.036018952835167,
         4.020069059403385,
         4.031404116125369,
         4.032476104995736,
         4.0241298529490255,
         4.01422891314791,
         4.034424588696819,
         4.03475799800572,
         4.018936633699539,
         4.01131083551813,
         4.026815849155815,
         4.025289190474592,
         4.03346674658747,
         4.022306466070917,
         4.02305478835498,
         4.029038463880467,
         4.0366275334434905,
         4.030965232904346,
         4.029568092001558,
         4.018827881770769,
         4.027539397238782,
         4.02638337459812,
         4.014425453751117,
         4.026337474087387,
         4.030702376888891,
         4.027520219602929,
         4.032334942193369,
         4.03169311478635,
         4.023531133994507,
         4.0396958052955,
         4.025011923548435,
         4.023619653013516,
         4.036213614548535,
         4.018989371532399,
         4.016135088173066,
         4.033835264751376,
         4.011941694044591,
         4.033049988796905,
         4.0137895066742395,
         4.03898432101259,
         4.040054056162235,
         4.02829680167024,
         4.031189592539322,
         4.02807200097238
        ]
       ],
       "encoder": "json",
       "name": "ABC_GAN_4 Metrics",
       "version": 1
      }
     },
     "metadata": {
      "scrapbook": {
       "data": true,
       "display": false,
       "name": "ABC_GAN_4 Metrics"
      }
     },
     "output_type": "display_data"
    },
    {
     "name": "stdout",
     "output_type": "stream",
     "text": [
      "MAE\n",
      "0.29578513846741805\n"
     ]
    }
   ],
   "source": [
    "ABC_GAN4_metrics=ABC_train_test2.test_generator(gen4,test_data,prior_model,variance,bias,\"3\",device)\n",
    "sb.glue(\"ABC_GAN_4 Metrics\",ABC_GAN4_metrics)\n",
    "\n",
    "print(\"MAE\")\n",
    "print(mean(ABC_GAN4_metrics[1]))"
   ]
  },
  {
   "cell_type": "code",
   "execution_count": 26,
   "id": "c939c7f3",
   "metadata": {
    "execution": {
     "iopub.execute_input": "2022-07-22T14:39:29.722181Z",
     "iopub.status.busy": "2022-07-22T14:39:29.721872Z",
     "iopub.status.idle": "2022-07-22T14:39:30.673576Z",
     "shell.execute_reply": "2022-07-22T14:39:30.672759Z"
    },
    "id": "c8e46b48",
    "papermill": {
     "duration": 1.003815,
     "end_time": "2022-07-22T14:39:30.676170",
     "exception": false,
     "start_time": "2022-07-22T14:39:29.672355",
     "status": "completed"
    },
    "tags": []
   },
   "outputs": [
    {
     "data": {
      "image/png": "[encoded data removed]",
      "text/plain": [
       "<Figure size 432x288 with 1 Axes>"
      ]
     },
     "metadata": {
      "needs_background": "light"
     },
     "output_type": "display_data"
    },
    {
     "data": {
      "image/png": "[encoded data removed]",
      "text/plain": [
       "<Figure size 432x288 with 1 Axes>"
      ]
     },
     "metadata": {
      "needs_background": "light"
     },
     "output_type": "display_data"
    },
    {
     "data": {
      "image/png": "[encoded data removed]",
      "text/plain": [
       "<Figure size 432x288 with 1 Axes>"
      ]
     },
     "metadata": {
      "needs_background": "light"
     },
     "output_type": "display_data"
    },
    {
     "data": {
      "image/png": "[encoded data removed]",
      "text/plain": [
       "<Figure size 432x288 with 1 Axes>"
      ]
     },
     "metadata": {
      "needs_background": "light"
     },
     "output_type": "display_data"
    }
   ],
   "source": [
    "sanityChecks.discProbVsError(train_data,disc4,device)\n",
    "sanityChecks.discProbVsError(test_data,disc4,device)"
   ]
  },
  {
   "cell_type": "markdown",
   "id": "a5bd74c3",
   "metadata": {
    "id": "a5bd74c3",
    "papermill": {
     "duration": 0.050812,
     "end_time": "2022-07-22T14:39:30.776345",
     "exception": false,
     "start_time": "2022-07-22T14:39:30.725533",
     "status": "completed"
    },
    "tags": []
   },
   "source": [
    "## Skip Connection Model Analysis - ABC-GAN "
   ]
  },
  {
   "cell_type": "markdown",
   "id": "5744a8bf",
   "metadata": {
    "id": "5744a8bf",
    "papermill": {
     "duration": 0.174046,
     "end_time": "2022-07-22T14:39:31.001126",
     "exception": false,
     "start_time": "2022-07-22T14:39:30.827080",
     "status": "completed"
    },
    "tags": []
   },
   "source": [
    "### Weight Analysis \n",
    "\n",
    "Study the weights of the skip connection layer\n",
    "\n",
    "Equation of the skip connection is \n",
    "\n",
    "$output = y_{gan} * w + y_{abc} * (1-w)$"
   ]
  },
  {
   "cell_type": "code",
   "execution_count": 27,
   "id": "52c31dea",
   "metadata": {
    "execution": {
     "iopub.execute_input": "2022-07-22T14:39:31.120601Z",
     "iopub.status.busy": "2022-07-22T14:39:31.120103Z",
     "iopub.status.idle": "2022-07-22T14:39:31.182638Z",
     "shell.execute_reply": "2022-07-22T14:39:31.181137Z"
    },
    "id": "52c31dea",
    "papermill": {
     "duration": 0.131036,
     "end_time": "2022-07-22T14:39:31.186709",
     "exception": false,
     "start_time": "2022-07-22T14:39:31.055673",
     "status": "completed"
    },
    "tags": []
   },
   "outputs": [
    {
     "name": "stdout",
     "output_type": "stream",
     "text": [
      "Weight of the node at skip connection\n",
      "Parameter containing:\n",
      "tensor([[0.0735]], requires_grad=True)\n"
     ]
    },
    {
     "data": {
      "application/scrapbook.scrap.json+json": {
       "data": 0.073455311357975,
       "encoder": "json",
       "name": "Skip Connection Weight",
       "version": 1
      }
     },
     "metadata": {
      "scrapbook": {
       "data": true,
       "display": false,
       "name": "Skip Connection Weight"
      }
     },
     "output_type": "display_data"
    }
   ],
   "source": [
    "print(\"Weight of the node at skip connection\")\n",
    "for name,param in gen3.named_parameters():\n",
    "    if(name == \"skipNode.weight\"):\n",
    "        print(param)\n",
    "        sb.glue(\"Skip Connection Weight\",param.item())"
   ]
  },
  {
   "cell_type": "markdown",
   "id": "f20b47ce",
   "metadata": {
    "id": "a5bd74c3",
    "papermill": {
     "duration": 0.05224,
     "end_time": "2022-07-22T14:39:31.284947",
     "exception": false,
     "start_time": "2022-07-22T14:39:31.232707",
     "status": "completed"
    },
    "tags": []
   },
   "source": [
    "## skipGAN Model Analysis (TabNet Generator) "
   ]
  },
  {
   "cell_type": "markdown",
   "id": "08c62d0a",
   "metadata": {
    "id": "5744a8bf",
    "papermill": {
     "duration": 0.162147,
     "end_time": "2022-07-22T14:39:31.506972",
     "exception": false,
     "start_time": "2022-07-22T14:39:31.344825",
     "status": "completed"
    },
    "tags": []
   },
   "source": [
    "### Weight Analysis \n",
    "\n",
    "Study the weights of the skip connection layer\n",
    "\n",
    "Equation of the skip connection is \n",
    "\n",
    "$output = y_{gan} * w + y_{abc} * (1-w)$"
   ]
  },
  {
   "cell_type": "code",
   "execution_count": 28,
   "id": "2f8b8df9",
   "metadata": {
    "execution": {
     "iopub.execute_input": "2022-07-22T14:39:31.640355Z",
     "iopub.status.busy": "2022-07-22T14:39:31.640048Z",
     "iopub.status.idle": "2022-07-22T14:39:31.654181Z",
     "shell.execute_reply": "2022-07-22T14:39:31.653203Z"
    },
    "id": "52c31dea",
    "papermill": {
     "duration": 0.076775,
     "end_time": "2022-07-22T14:39:31.656661",
     "exception": false,
     "start_time": "2022-07-22T14:39:31.579886",
     "status": "completed"
    },
    "tags": []
   },
   "outputs": [
    {
     "name": "stdout",
     "output_type": "stream",
     "text": [
      "Weight of the node at skip connection\n",
      "Parameter containing:\n",
      "tensor([[0.2292]], requires_grad=True)\n"
     ]
    },
    {
     "data": {
      "application/scrapbook.scrap.json+json": {
       "data": 0.2292153537273407,
       "encoder": "json",
       "name": "Skip Connection Weight",
       "version": 1
      }
     },
     "metadata": {
      "scrapbook": {
       "data": true,
       "display": false,
       "name": "Skip Connection Weight"
      }
     },
     "output_type": "display_data"
    }
   ],
   "source": [
    "print(\"Weight of the node at skip connection\")\n",
    "for name,param in gen4.named_parameters():\n",
    "    if(name == \"skipNode.weight\"):\n",
    "        print(param)\n",
    "        sb.glue(\"Skip Connection Weight\",param.item())"
   ]
  }
 ],
 "metadata": {
  "colab": {
   "collapsed_sections": [],
   "name": "ABC_GAN_Model-Catboost_Pre-gen.ipynb",
   "provenance": []
  },
  "interpreter": {
   "hash": "31f2aee4e71d21fbe5cf8b01ff0e069b9275f58929596ceb00d14d90e3e16cd6"
  },
  "kernelspec": {
   "display_name": "Python 3 (ipykernel)",
   "language": "python",
   "name": "python3"
  },
  "language_info": {
   "codemirror_mode": {
    "name": "ipython",
    "version": 3
   },
   "file_extension": ".py",
   "mimetype": "text/x-python",
   "name": "python",
   "nbconvert_exporter": "python",
   "pygments_lexer": "ipython3",
   "version": "3.8.13"
  },
  "papermill": {
   "default_parameters": {},
   "duration": 2799.901365,
   "end_time": "2022-07-22T14:39:33.671596",
   "environment_variables": {},
   "exception": null,
   "input_path": "ABC_GAN-TabNet.ipynb",
   "output_path": "./ABC_GAN_TabNet/ABC-GAN_output_1_8.ipynb",
   "parameters": {
    "bias": 0.01,
    "variance": 0.01
   },
   "start_time": "2022-07-22T13:52:53.770231",
   "version": "2.3.3"
  }
 },
 "nbformat": 4,
 "nbformat_minor": 5
}