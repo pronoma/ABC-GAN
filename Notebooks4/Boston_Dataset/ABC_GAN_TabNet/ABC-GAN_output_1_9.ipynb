{
 "cells": [
  {
   "cell_type": "markdown",
   "id": "622780e6",
   "metadata": {
    "id": "622780e6",
    "papermill": {
     "duration": 0.017095,
     "end_time": "2022-07-22T14:39:41.711093",
     "exception": false,
     "start_time": "2022-07-22T14:39:41.693998",
     "status": "completed"
    },
    "tags": []
   },
   "source": [
    "## Import Libraries "
   ]
  },
  {
   "cell_type": "code",
   "execution_count": 1,
   "id": "a62397e3",
   "metadata": {
    "execution": {
     "iopub.execute_input": "2022-07-22T14:39:41.738040Z",
     "iopub.status.busy": "2022-07-22T14:39:41.737086Z",
     "iopub.status.idle": "2022-07-22T14:39:41.763047Z",
     "shell.execute_reply": "2022-07-22T14:39:41.762080Z"
    },
    "id": "a62397e3",
    "papermill": {
     "duration": 0.046385,
     "end_time": "2022-07-22T14:39:41.767007",
     "exception": false,
     "start_time": "2022-07-22T14:39:41.720622",
     "status": "completed"
    },
    "tags": []
   },
   "outputs": [],
   "source": [
    "import warnings\n",
    "import sys\n",
    "sys.path.insert(0, '../../src')\n",
    "warnings.filterwarnings('ignore')"
   ]
  },
  {
   "cell_type": "code",
   "execution_count": 2,
   "id": "d6a4e155",
   "metadata": {
    "execution": {
     "iopub.execute_input": "2022-07-22T14:39:41.785431Z",
     "iopub.status.busy": "2022-07-22T14:39:41.785122Z",
     "iopub.status.idle": "2022-07-22T14:39:51.534379Z",
     "shell.execute_reply": "2022-07-22T14:39:51.533086Z"
    },
    "id": "d6a4e155",
    "papermill": {
     "duration": 9.76158,
     "end_time": "2022-07-22T14:39:51.537279",
     "exception": false,
     "start_time": "2022-07-22T14:39:41.775699",
     "status": "completed"
    },
    "tags": []
   },
   "outputs": [],
   "source": [
    "import ABC_train_test2\n",
    "import bostonDataset\n",
    "import network\n",
    "import dataset\n",
    "import sanityChecks\n",
    "import torch \n",
    "import scrapbook as sb\n",
    "from statistics import mean \n",
    "import catboost as ctb \n",
    "from sklearn.model_selection import train_test_split\n",
    "from sklearn.metrics import mean_squared_error,mean_absolute_error\n",
    "import numpy as np\n",
    "from pytorch_tabnet.tab_model import TabNetRegressor"
   ]
  },
  {
   "cell_type": "markdown",
   "id": "2fa5b0f7",
   "metadata": {
    "id": "2fa5b0f7",
    "papermill": {
     "duration": 0.009073,
     "end_time": "2022-07-22T14:39:51.554884",
     "exception": false,
     "start_time": "2022-07-22T14:39:51.545811",
     "status": "completed"
    },
    "tags": []
   },
   "source": [
    "## Parameters "
   ]
  },
  {
   "cell_type": "code",
   "execution_count": 3,
   "id": "783186fb",
   "metadata": {
    "execution": {
     "iopub.execute_input": "2022-07-22T14:39:51.575603Z",
     "iopub.status.busy": "2022-07-22T14:39:51.575285Z",
     "iopub.status.idle": "2022-07-22T14:39:51.578757Z",
     "shell.execute_reply": "2022-07-22T14:39:51.578071Z"
    },
    "id": "783186fb",
    "papermill": {
     "duration": 0.017278,
     "end_time": "2022-07-22T14:39:51.581161",
     "exception": false,
     "start_time": "2022-07-22T14:39:51.563883",
     "status": "completed"
    },
    "tags": [
     "parameters"
    ]
   },
   "outputs": [],
   "source": [
    "variance = 1\n",
    "bias = 1 "
   ]
  },
  {
   "cell_type": "code",
   "execution_count": 4,
   "id": "3b6cf498",
   "metadata": {
    "execution": {
     "iopub.execute_input": "2022-07-22T14:39:51.597705Z",
     "iopub.status.busy": "2022-07-22T14:39:51.597164Z",
     "iopub.status.idle": "2022-07-22T14:39:51.603185Z",
     "shell.execute_reply": "2022-07-22T14:39:51.602429Z"
    },
    "papermill": {
     "duration": 0.017562,
     "end_time": "2022-07-22T14:39:51.606220",
     "exception": false,
     "start_time": "2022-07-22T14:39:51.588658",
     "status": "completed"
    },
    "tags": [
     "injected-parameters"
    ]
   },
   "outputs": [],
   "source": [
    "# Parameters\n",
    "variance = 1\n",
    "bias = 0\n"
   ]
  },
  {
   "cell_type": "markdown",
   "id": "391cdbfd",
   "metadata": {
    "id": "391cdbfd",
    "papermill": {
     "duration": 0.009301,
     "end_time": "2022-07-22T14:39:51.625055",
     "exception": false,
     "start_time": "2022-07-22T14:39:51.615754",
     "status": "completed"
    },
    "tags": []
   },
   "source": [
    "## Dataset \n"
   ]
  },
  {
   "cell_type": "code",
   "execution_count": 5,
   "id": "5b51f161",
   "metadata": {
    "execution": {
     "iopub.execute_input": "2022-07-22T14:39:51.643621Z",
     "iopub.status.busy": "2022-07-22T14:39:51.642399Z",
     "iopub.status.idle": "2022-07-22T14:39:51.648000Z",
     "shell.execute_reply": "2022-07-22T14:39:51.647257Z"
    },
    "id": "5b51f161",
    "papermill": {
     "duration": 0.023867,
     "end_time": "2022-07-22T14:39:51.656068",
     "exception": false,
     "start_time": "2022-07-22T14:39:51.632201",
     "status": "completed"
    },
    "tags": []
   },
   "outputs": [],
   "source": [
    "#Parameters \n",
    "n_features = 13\n",
    "n_samples= 506\n",
    "n_target = 1 "
   ]
  },
  {
   "cell_type": "code",
   "execution_count": 6,
   "id": "5d6eced4",
   "metadata": {
    "execution": {
     "iopub.execute_input": "2022-07-22T14:39:51.698175Z",
     "iopub.status.busy": "2022-07-22T14:39:51.696710Z",
     "iopub.status.idle": "2022-07-22T14:39:51.795476Z",
     "shell.execute_reply": "2022-07-22T14:39:51.794147Z"
    },
    "id": "5d6eced4",
    "papermill": {
     "duration": 0.127298,
     "end_time": "2022-07-22T14:39:51.798511",
     "exception": false,
     "start_time": "2022-07-22T14:39:51.671213",
     "status": "completed"
    },
    "tags": []
   },
   "outputs": [
    {
     "name": "stdout",
     "output_type": "stream",
     "text": [
      "         X1        X2        X3        X4        X5        X6        X7  \\\n",
      "0 -0.419782  0.284830 -1.287909 -0.272599 -0.144217  0.413672 -0.120013   \n",
      "1 -0.417339 -0.487722 -0.593381 -0.272599 -0.740262  0.194274  0.367166   \n",
      "2 -0.417342 -0.487722 -0.593381 -0.272599 -0.740262  1.282714 -0.265812   \n",
      "3 -0.416750 -0.487722 -1.306878 -0.272599 -0.835284  1.016303 -0.809889   \n",
      "4 -0.412482 -0.487722 -1.306878 -0.272599 -0.835284  1.228577 -0.511180   \n",
      "\n",
      "         X8        X9       X10       X11       X12       X13         Y  \n",
      "0  0.140214 -0.982843 -0.666608 -1.459000  0.441052 -1.075562  0.159686  \n",
      "1  0.557160 -0.867883 -0.987329 -0.303094  0.441052 -0.492439 -0.101524  \n",
      "2  0.557160 -0.867883 -0.987329 -0.303094  0.396427 -1.208727  1.324247  \n",
      "3  1.077737 -0.752922 -1.106115  0.113032  0.416163 -1.361517  1.182758  \n",
      "4  1.077737 -0.752922 -1.106115  0.113032  0.441052 -1.026501  1.487503  \n"
     ]
    }
   ],
   "source": [
    "X,Y = bostonDataset.boston_data()"
   ]
  },
  {
   "cell_type": "code",
   "execution_count": 7,
   "id": "fe007438",
   "metadata": {
    "execution": {
     "iopub.execute_input": "2022-07-22T14:39:51.820637Z",
     "iopub.status.busy": "2022-07-22T14:39:51.820110Z",
     "iopub.status.idle": "2022-07-22T14:39:51.827473Z",
     "shell.execute_reply": "2022-07-22T14:39:51.826185Z"
    },
    "id": "fe007438",
    "papermill": {
     "duration": 0.022819,
     "end_time": "2022-07-22T14:39:51.831181",
     "exception": false,
     "start_time": "2022-07-22T14:39:51.808362",
     "status": "completed"
    },
    "tags": []
   },
   "outputs": [],
   "source": [
    "#Train test split for dataset \n",
    "X_train,X_test,Y_train,Y_test = train_test_split(X,Y,test_size = 0.2)\n",
    "train_data = dataset.CustomDataset(X_train,Y_train)\n",
    "test_data = dataset.CustomDataset(X_test,Y_test)\n"
   ]
  },
  {
   "cell_type": "markdown",
   "id": "a9a1af34",
   "metadata": {
    "id": "a9a1af34",
    "papermill": {
     "duration": 0.01446,
     "end_time": "2022-07-22T14:39:51.853898",
     "exception": false,
     "start_time": "2022-07-22T14:39:51.839438",
     "status": "completed"
    },
    "tags": []
   },
   "source": [
    "## Training Parameters "
   ]
  },
  {
   "cell_type": "code",
   "execution_count": 8,
   "id": "952b7fc8",
   "metadata": {
    "execution": {
     "iopub.execute_input": "2022-07-22T14:39:51.874471Z",
     "iopub.status.busy": "2022-07-22T14:39:51.874135Z",
     "iopub.status.idle": "2022-07-22T14:39:51.880699Z",
     "shell.execute_reply": "2022-07-22T14:39:51.879899Z"
    },
    "id": "952b7fc8",
    "papermill": {
     "duration": 0.020411,
     "end_time": "2022-07-22T14:39:51.883926",
     "exception": false,
     "start_time": "2022-07-22T14:39:51.863515",
     "status": "completed"
    },
    "tags": []
   },
   "outputs": [],
   "source": [
    "batch_size = 32\n",
    "n_epochs = 1000\n",
    "#Select the device \n",
    "device = torch.device('cuda' if torch.cuda.is_available() else 'cpu')"
   ]
  },
  {
   "cell_type": "markdown",
   "id": "a95e1600",
   "metadata": {
    "id": "a95e1600",
    "papermill": {
     "duration": 0.007711,
     "end_time": "2022-07-22T14:39:51.899218",
     "exception": false,
     "start_time": "2022-07-22T14:39:51.891507",
     "status": "completed"
    },
    "tags": []
   },
   "source": [
    "# ABC Pre-generator Model \n",
    "\n",
    "1. The catboost model is used as a pre-generator model for the ABC-GAN. \n",
    "2. The model is first trained on the entire dataset \n",
    "3. It generats X,Y pairs and we add some Gaussian noise with mean 0 and variance 1 to it which is then feed as input to the generator.\n"
   ]
  },
  {
   "cell_type": "code",
   "execution_count": 9,
   "id": "ff8ce7bd",
   "metadata": {
    "execution": {
     "iopub.execute_input": "2022-07-22T14:39:51.915672Z",
     "iopub.status.busy": "2022-07-22T14:39:51.915357Z",
     "iopub.status.idle": "2022-07-22T14:42:06.188507Z",
     "shell.execute_reply": "2022-07-22T14:42:06.187182Z"
    },
    "id": "ff8ce7bd",
    "papermill": {
     "duration": 134.285038,
     "end_time": "2022-07-22T14:42:06.191625",
     "exception": false,
     "start_time": "2022-07-22T14:39:51.906587",
     "status": "completed"
    },
    "tags": []
   },
   "outputs": [
    {
     "name": "stdout",
     "output_type": "stream",
     "text": [
      "Device used : cpu\n"
     ]
    },
    {
     "name": "stdout",
     "output_type": "stream",
     "text": [
      "epoch 0  | loss: 2.29279 | train_mse: 1.51838 | train_mae: 0.94377 |  0:00:00s\n"
     ]
    },
    {
     "name": "stdout",
     "output_type": "stream",
     "text": [
      "epoch 1  | loss: 0.82805 | train_mse: 0.92007 | train_mae: 0.71629 |  0:00:01s\n"
     ]
    },
    {
     "name": "stdout",
     "output_type": "stream",
     "text": [
      "epoch 2  | loss: 0.63606 | train_mse: 0.67342 | train_mae: 0.61154 |  0:00:01s\n"
     ]
    },
    {
     "name": "stdout",
     "output_type": "stream",
     "text": [
      "epoch 3  | loss: 0.52454 | train_mse: 0.45471 | train_mae: 0.50032 |  0:00:01s\n"
     ]
    },
    {
     "name": "stdout",
     "output_type": "stream",
     "text": [
      "epoch 4  | loss: 0.45358 | train_mse: 0.41218 | train_mae: 0.46484 |  0:00:02s\n"
     ]
    },
    {
     "name": "stdout",
     "output_type": "stream",
     "text": [
      "epoch 5  | loss: 0.41643 | train_mse: 0.35461 | train_mae: 0.41082 |  0:00:02s\n"
     ]
    },
    {
     "name": "stdout",
     "output_type": "stream",
     "text": [
      "epoch 6  | loss: 0.41942 | train_mse: 0.32497 | train_mae: 0.39562 |  0:00:03s\n"
     ]
    },
    {
     "name": "stdout",
     "output_type": "stream",
     "text": [
      "epoch 7  | loss: 0.4376  | train_mse: 0.29828 | train_mae: 0.37161 |  0:00:03s\n"
     ]
    },
    {
     "name": "stdout",
     "output_type": "stream",
     "text": [
      "epoch 8  | loss: 0.3405  | train_mse: 0.24456 | train_mae: 0.33427 |  0:00:03s\n"
     ]
    },
    {
     "name": "stdout",
     "output_type": "stream",
     "text": [
      "epoch 9  | loss: 0.31539 | train_mse: 0.25493 | train_mae: 0.34394 |  0:00:04s\n"
     ]
    },
    {
     "name": "stdout",
     "output_type": "stream",
     "text": [
      "epoch 10 | loss: 0.33988 | train_mse: 0.27488 | train_mae: 0.34842 |  0:00:04s\n"
     ]
    },
    {
     "name": "stdout",
     "output_type": "stream",
     "text": [
      "epoch 11 | loss: 0.27601 | train_mse: 0.20105 | train_mae: 0.31775 |  0:00:04s\n"
     ]
    },
    {
     "name": "stdout",
     "output_type": "stream",
     "text": [
      "epoch 12 | loss: 0.31862 | train_mse: 0.22832 | train_mae: 0.3083  |  0:00:05s\n"
     ]
    },
    {
     "name": "stdout",
     "output_type": "stream",
     "text": [
      "epoch 13 | loss: 0.27394 | train_mse: 0.21861 | train_mae: 0.32453 |  0:00:05s\n"
     ]
    },
    {
     "name": "stdout",
     "output_type": "stream",
     "text": [
      "epoch 14 | loss: 0.2859  | train_mse: 0.21812 | train_mae: 0.32647 |  0:00:06s\n"
     ]
    },
    {
     "name": "stdout",
     "output_type": "stream",
     "text": [
      "epoch 15 | loss: 0.30004 | train_mse: 0.20483 | train_mae: 0.32657 |  0:00:06s\n"
     ]
    },
    {
     "name": "stdout",
     "output_type": "stream",
     "text": [
      "epoch 16 | loss: 0.24221 | train_mse: 0.2273  | train_mae: 0.31466 |  0:00:06s\n"
     ]
    },
    {
     "name": "stdout",
     "output_type": "stream",
     "text": [
      "epoch 17 | loss: 0.29045 | train_mse: 0.18118 | train_mae: 0.28051 |  0:00:07s\n"
     ]
    },
    {
     "name": "stdout",
     "output_type": "stream",
     "text": [
      "epoch 18 | loss: 0.2249  | train_mse: 0.1878  | train_mae: 0.29635 |  0:00:07s\n"
     ]
    },
    {
     "name": "stdout",
     "output_type": "stream",
     "text": [
      "epoch 19 | loss: 0.28222 | train_mse: 0.21821 | train_mae: 0.32595 |  0:00:07s\n"
     ]
    },
    {
     "name": "stdout",
     "output_type": "stream",
     "text": [
      "epoch 20 | loss: 0.24412 | train_mse: 0.17548 | train_mae: 0.28294 |  0:00:08s\n"
     ]
    },
    {
     "name": "stdout",
     "output_type": "stream",
     "text": [
      "epoch 21 | loss: 0.1933  | train_mse: 0.17651 | train_mae: 0.2823  |  0:00:08s\n"
     ]
    },
    {
     "name": "stdout",
     "output_type": "stream",
     "text": [
      "epoch 22 | loss: 0.2226  | train_mse: 0.1565  | train_mae: 0.26499 |  0:00:09s\n"
     ]
    },
    {
     "name": "stdout",
     "output_type": "stream",
     "text": [
      "epoch 23 | loss: 0.23185 | train_mse: 0.14204 | train_mae: 0.26536 |  0:00:09s\n"
     ]
    },
    {
     "name": "stdout",
     "output_type": "stream",
     "text": [
      "epoch 24 | loss: 0.2296  | train_mse: 0.13733 | train_mae: 0.26947 |  0:00:09s\n"
     ]
    },
    {
     "name": "stdout",
     "output_type": "stream",
     "text": [
      "epoch 25 | loss: 0.18763 | train_mse: 0.13522 | train_mae: 0.26232 |  0:00:10s\n"
     ]
    },
    {
     "name": "stdout",
     "output_type": "stream",
     "text": [
      "epoch 26 | loss: 0.1848  | train_mse: 0.13402 | train_mae: 0.26    |  0:00:10s\n"
     ]
    },
    {
     "name": "stdout",
     "output_type": "stream",
     "text": [
      "epoch 27 | loss: 0.19566 | train_mse: 0.12438 | train_mae: 0.24493 |  0:00:10s\n"
     ]
    },
    {
     "name": "stdout",
     "output_type": "stream",
     "text": [
      "epoch 28 | loss: 0.21293 | train_mse: 0.13992 | train_mae: 0.25897 |  0:00:11s\n"
     ]
    },
    {
     "name": "stdout",
     "output_type": "stream",
     "text": [
      "epoch 29 | loss: 0.17755 | train_mse: 0.12287 | train_mae: 0.2482  |  0:00:11s\n"
     ]
    },
    {
     "name": "stdout",
     "output_type": "stream",
     "text": [
      "epoch 30 | loss: 0.20154 | train_mse: 0.13252 | train_mae: 0.25445 |  0:00:12s\n"
     ]
    },
    {
     "name": "stdout",
     "output_type": "stream",
     "text": [
      "epoch 31 | loss: 0.17478 | train_mse: 0.13863 | train_mae: 0.25608 |  0:00:12s\n"
     ]
    },
    {
     "name": "stdout",
     "output_type": "stream",
     "text": [
      "epoch 32 | loss: 0.18856 | train_mse: 0.11562 | train_mae: 0.24092 |  0:00:13s\n"
     ]
    },
    {
     "name": "stdout",
     "output_type": "stream",
     "text": [
      "epoch 33 | loss: 0.16038 | train_mse: 0.1315  | train_mae: 0.24544 |  0:00:13s\n"
     ]
    },
    {
     "name": "stdout",
     "output_type": "stream",
     "text": [
      "epoch 34 | loss: 0.17808 | train_mse: 0.11647 | train_mae: 0.23678 |  0:00:14s\n"
     ]
    },
    {
     "name": "stdout",
     "output_type": "stream",
     "text": [
      "epoch 35 | loss: 0.17873 | train_mse: 0.11828 | train_mae: 0.24011 |  0:00:14s\n"
     ]
    },
    {
     "name": "stdout",
     "output_type": "stream",
     "text": [
      "epoch 36 | loss: 0.17391 | train_mse: 0.14099 | train_mae: 0.26328 |  0:00:14s\n"
     ]
    },
    {
     "name": "stdout",
     "output_type": "stream",
     "text": [
      "epoch 37 | loss: 0.17237 | train_mse: 0.11654 | train_mae: 0.2484  |  0:00:15s\n"
     ]
    },
    {
     "name": "stdout",
     "output_type": "stream",
     "text": [
      "epoch 38 | loss: 0.16578 | train_mse: 0.11354 | train_mae: 0.24775 |  0:00:15s\n"
     ]
    },
    {
     "name": "stdout",
     "output_type": "stream",
     "text": [
      "epoch 39 | loss: 0.17074 | train_mse: 0.12306 | train_mae: 0.2471  |  0:00:16s\n"
     ]
    },
    {
     "name": "stdout",
     "output_type": "stream",
     "text": [
      "epoch 40 | loss: 0.18031 | train_mse: 0.11897 | train_mae: 0.24992 |  0:00:16s\n"
     ]
    },
    {
     "name": "stdout",
     "output_type": "stream",
     "text": [
      "epoch 41 | loss: 0.20491 | train_mse: 0.1039  | train_mae: 0.23225 |  0:00:17s\n"
     ]
    },
    {
     "name": "stdout",
     "output_type": "stream",
     "text": [
      "epoch 42 | loss: 0.17126 | train_mse: 0.12372 | train_mae: 0.24661 |  0:00:17s\n"
     ]
    },
    {
     "name": "stdout",
     "output_type": "stream",
     "text": [
      "epoch 43 | loss: 0.1475  | train_mse: 0.09917 | train_mae: 0.23014 |  0:00:17s\n"
     ]
    },
    {
     "name": "stdout",
     "output_type": "stream",
     "text": [
      "epoch 44 | loss: 0.17168 | train_mse: 0.10045 | train_mae: 0.23114 |  0:00:18s\n"
     ]
    },
    {
     "name": "stdout",
     "output_type": "stream",
     "text": [
      "epoch 45 | loss: 0.16525 | train_mse: 0.10372 | train_mae: 0.22952 |  0:00:18s\n"
     ]
    },
    {
     "name": "stdout",
     "output_type": "stream",
     "text": [
      "epoch 46 | loss: 0.15078 | train_mse: 0.10265 | train_mae: 0.22833 |  0:00:18s\n"
     ]
    },
    {
     "name": "stdout",
     "output_type": "stream",
     "text": [
      "epoch 47 | loss: 0.18238 | train_mse: 0.09932 | train_mae: 0.22917 |  0:00:19s\n"
     ]
    },
    {
     "name": "stdout",
     "output_type": "stream",
     "text": [
      "epoch 48 | loss: 0.17188 | train_mse: 0.12461 | train_mae: 0.25234 |  0:00:19s\n"
     ]
    },
    {
     "name": "stdout",
     "output_type": "stream",
     "text": [
      "epoch 49 | loss: 0.16313 | train_mse: 0.10219 | train_mae: 0.23636 |  0:00:20s\n"
     ]
    },
    {
     "name": "stdout",
     "output_type": "stream",
     "text": [
      "epoch 50 | loss: 0.19658 | train_mse: 0.10263 | train_mae: 0.23322 |  0:00:20s\n"
     ]
    },
    {
     "name": "stdout",
     "output_type": "stream",
     "text": [
      "epoch 51 | loss: 0.15496 | train_mse: 0.11107 | train_mae: 0.24286 |  0:00:20s\n"
     ]
    },
    {
     "name": "stdout",
     "output_type": "stream",
     "text": [
      "epoch 52 | loss: 0.16764 | train_mse: 0.10473 | train_mae: 0.22816 |  0:00:21s\n"
     ]
    },
    {
     "name": "stdout",
     "output_type": "stream",
     "text": [
      "epoch 53 | loss: 0.14001 | train_mse: 0.10322 | train_mae: 0.22274 |  0:00:21s\n"
     ]
    },
    {
     "name": "stdout",
     "output_type": "stream",
     "text": [
      "epoch 54 | loss: 0.15018 | train_mse: 0.09193 | train_mae: 0.21523 |  0:00:21s\n"
     ]
    },
    {
     "name": "stdout",
     "output_type": "stream",
     "text": [
      "epoch 55 | loss: 0.152   | train_mse: 0.10652 | train_mae: 0.23353 |  0:00:22s\n"
     ]
    },
    {
     "name": "stdout",
     "output_type": "stream",
     "text": [
      "epoch 56 | loss: 0.13824 | train_mse: 0.08424 | train_mae: 0.20667 |  0:00:22s\n"
     ]
    },
    {
     "name": "stdout",
     "output_type": "stream",
     "text": [
      "epoch 57 | loss: 0.16958 | train_mse: 0.10917 | train_mae: 0.23076 |  0:00:23s\n"
     ]
    },
    {
     "name": "stdout",
     "output_type": "stream",
     "text": [
      "epoch 58 | loss: 0.16117 | train_mse: 0.10175 | train_mae: 0.22638 |  0:00:23s\n"
     ]
    },
    {
     "name": "stdout",
     "output_type": "stream",
     "text": [
      "epoch 59 | loss: 0.17413 | train_mse: 0.10847 | train_mae: 0.23178 |  0:00:23s\n"
     ]
    },
    {
     "name": "stdout",
     "output_type": "stream",
     "text": [
      "epoch 60 | loss: 0.18179 | train_mse: 0.1144  | train_mae: 0.24698 |  0:00:24s\n"
     ]
    },
    {
     "name": "stdout",
     "output_type": "stream",
     "text": [
      "epoch 61 | loss: 0.19958 | train_mse: 0.13313 | train_mae: 0.26145 |  0:00:24s\n"
     ]
    },
    {
     "name": "stdout",
     "output_type": "stream",
     "text": [
      "epoch 62 | loss: 0.16719 | train_mse: 0.127   | train_mae: 0.26103 |  0:00:25s\n"
     ]
    },
    {
     "name": "stdout",
     "output_type": "stream",
     "text": [
      "epoch 63 | loss: 0.14437 | train_mse: 0.11    | train_mae: 0.23693 |  0:00:25s\n"
     ]
    },
    {
     "name": "stdout",
     "output_type": "stream",
     "text": [
      "epoch 64 | loss: 0.16814 | train_mse: 0.09681 | train_mae: 0.22422 |  0:00:25s\n"
     ]
    },
    {
     "name": "stdout",
     "output_type": "stream",
     "text": [
      "epoch 65 | loss: 0.18929 | train_mse: 0.11052 | train_mae: 0.24162 |  0:00:26s\n"
     ]
    },
    {
     "name": "stdout",
     "output_type": "stream",
     "text": [
      "epoch 66 | loss: 0.14597 | train_mse: 0.09644 | train_mae: 0.22839 |  0:00:26s\n"
     ]
    },
    {
     "name": "stdout",
     "output_type": "stream",
     "text": [
      "epoch 67 | loss: 0.1478  | train_mse: 0.09536 | train_mae: 0.21804 |  0:00:26s\n"
     ]
    },
    {
     "name": "stdout",
     "output_type": "stream",
     "text": [
      "epoch 68 | loss: 0.13743 | train_mse: 0.07956 | train_mae: 0.20675 |  0:00:27s\n"
     ]
    },
    {
     "name": "stdout",
     "output_type": "stream",
     "text": [
      "epoch 69 | loss: 0.1335  | train_mse: 0.08539 | train_mae: 0.21054 |  0:00:27s\n"
     ]
    },
    {
     "name": "stdout",
     "output_type": "stream",
     "text": [
      "epoch 70 | loss: 0.15398 | train_mse: 0.09151 | train_mae: 0.21961 |  0:00:28s\n"
     ]
    },
    {
     "name": "stdout",
     "output_type": "stream",
     "text": [
      "epoch 71 | loss: 0.1378  | train_mse: 0.09366 | train_mae: 0.2207  |  0:00:28s\n"
     ]
    },
    {
     "name": "stdout",
     "output_type": "stream",
     "text": [
      "epoch 72 | loss: 0.16176 | train_mse: 0.10959 | train_mae: 0.2248  |  0:00:28s\n"
     ]
    },
    {
     "name": "stdout",
     "output_type": "stream",
     "text": [
      "epoch 73 | loss: 0.14147 | train_mse: 0.09317 | train_mae: 0.21517 |  0:00:29s\n"
     ]
    },
    {
     "name": "stdout",
     "output_type": "stream",
     "text": [
      "epoch 74 | loss: 0.14732 | train_mse: 0.09375 | train_mae: 0.21444 |  0:00:29s\n"
     ]
    },
    {
     "name": "stdout",
     "output_type": "stream",
     "text": [
      "epoch 75 | loss: 0.15859 | train_mse: 0.09314 | train_mae: 0.22133 |  0:00:30s\n"
     ]
    },
    {
     "name": "stdout",
     "output_type": "stream",
     "text": [
      "epoch 76 | loss: 0.15229 | train_mse: 0.09503 | train_mae: 0.22286 |  0:00:30s\n"
     ]
    },
    {
     "name": "stdout",
     "output_type": "stream",
     "text": [
      "epoch 77 | loss: 0.12316 | train_mse: 0.1021  | train_mae: 0.2279  |  0:00:30s\n"
     ]
    },
    {
     "name": "stdout",
     "output_type": "stream",
     "text": [
      "epoch 78 | loss: 0.11781 | train_mse: 0.10002 | train_mae: 0.22268 |  0:00:31s\n"
     ]
    },
    {
     "name": "stdout",
     "output_type": "stream",
     "text": [
      "epoch 79 | loss: 0.14208 | train_mse: 0.1103  | train_mae: 0.24185 |  0:00:31s\n"
     ]
    },
    {
     "name": "stdout",
     "output_type": "stream",
     "text": [
      "epoch 80 | loss: 0.11971 | train_mse: 0.08803 | train_mae: 0.21488 |  0:00:32s\n"
     ]
    },
    {
     "name": "stdout",
     "output_type": "stream",
     "text": [
      "epoch 81 | loss: 0.18437 | train_mse: 0.11604 | train_mae: 0.24275 |  0:00:32s\n"
     ]
    },
    {
     "name": "stdout",
     "output_type": "stream",
     "text": [
      "epoch 82 | loss: 0.12496 | train_mse: 0.08471 | train_mae: 0.19838 |  0:00:32s\n"
     ]
    },
    {
     "name": "stdout",
     "output_type": "stream",
     "text": [
      "epoch 83 | loss: 0.14153 | train_mse: 0.09249 | train_mae: 0.22365 |  0:00:33s\n"
     ]
    },
    {
     "name": "stdout",
     "output_type": "stream",
     "text": [
      "epoch 84 | loss: 0.20265 | train_mse: 0.08918 | train_mae: 0.2117  |  0:00:33s\n"
     ]
    },
    {
     "name": "stdout",
     "output_type": "stream",
     "text": [
      "epoch 85 | loss: 0.15448 | train_mse: 0.08888 | train_mae: 0.20711 |  0:00:34s\n"
     ]
    },
    {
     "name": "stdout",
     "output_type": "stream",
     "text": [
      "epoch 86 | loss: 0.14168 | train_mse: 0.08369 | train_mae: 0.20018 |  0:00:34s\n"
     ]
    },
    {
     "name": "stdout",
     "output_type": "stream",
     "text": [
      "epoch 87 | loss: 0.12543 | train_mse: 0.0833  | train_mae: 0.20474 |  0:00:34s\n"
     ]
    },
    {
     "name": "stdout",
     "output_type": "stream",
     "text": [
      "epoch 88 | loss: 0.11147 | train_mse: 0.08669 | train_mae: 0.20983 |  0:00:35s\n"
     ]
    },
    {
     "name": "stdout",
     "output_type": "stream",
     "text": [
      "epoch 89 | loss: 0.17354 | train_mse: 0.10521 | train_mae: 0.23425 |  0:00:35s\n"
     ]
    },
    {
     "name": "stdout",
     "output_type": "stream",
     "text": [
      "epoch 90 | loss: 0.18783 | train_mse: 0.08028 | train_mae: 0.21943 |  0:00:36s\n"
     ]
    },
    {
     "name": "stdout",
     "output_type": "stream",
     "text": [
      "epoch 91 | loss: 0.15597 | train_mse: 0.07611 | train_mae: 0.20094 |  0:00:36s\n"
     ]
    },
    {
     "name": "stdout",
     "output_type": "stream",
     "text": [
      "epoch 92 | loss: 0.15444 | train_mse: 0.10463 | train_mae: 0.22644 |  0:00:36s\n"
     ]
    },
    {
     "name": "stdout",
     "output_type": "stream",
     "text": [
      "epoch 93 | loss: 0.17724 | train_mse: 0.10831 | train_mae: 0.22674 |  0:00:37s\n"
     ]
    },
    {
     "name": "stdout",
     "output_type": "stream",
     "text": [
      "epoch 94 | loss: 0.13478 | train_mse: 0.08432 | train_mae: 0.20882 |  0:00:37s\n"
     ]
    },
    {
     "name": "stdout",
     "output_type": "stream",
     "text": [
      "epoch 95 | loss: 0.15847 | train_mse: 0.08365 | train_mae: 0.21066 |  0:00:37s\n"
     ]
    },
    {
     "name": "stdout",
     "output_type": "stream",
     "text": [
      "epoch 96 | loss: 0.13472 | train_mse: 0.07554 | train_mae: 0.20086 |  0:00:38s\n"
     ]
    },
    {
     "name": "stdout",
     "output_type": "stream",
     "text": [
      "epoch 97 | loss: 0.1572  | train_mse: 0.09574 | train_mae: 0.22121 |  0:00:38s\n"
     ]
    },
    {
     "name": "stdout",
     "output_type": "stream",
     "text": [
      "epoch 98 | loss: 0.17115 | train_mse: 0.08044 | train_mae: 0.2172  |  0:00:38s\n"
     ]
    },
    {
     "name": "stdout",
     "output_type": "stream",
     "text": [
      "epoch 99 | loss: 0.16452 | train_mse: 0.07074 | train_mae: 0.19867 |  0:00:39s\n"
     ]
    },
    {
     "name": "stdout",
     "output_type": "stream",
     "text": [
      "epoch 100| loss: 0.15962 | train_mse: 0.08109 | train_mae: 0.21054 |  0:00:39s\n"
     ]
    },
    {
     "name": "stdout",
     "output_type": "stream",
     "text": [
      "epoch 101| loss: 0.16351 | train_mse: 0.08416 | train_mae: 0.21075 |  0:00:40s\n"
     ]
    },
    {
     "name": "stdout",
     "output_type": "stream",
     "text": [
      "epoch 102| loss: 0.13515 | train_mse: 0.07424 | train_mae: 0.19572 |  0:00:40s\n"
     ]
    },
    {
     "name": "stdout",
     "output_type": "stream",
     "text": [
      "epoch 103| loss: 0.14398 | train_mse: 0.09799 | train_mae: 0.21968 |  0:00:40s\n"
     ]
    },
    {
     "name": "stdout",
     "output_type": "stream",
     "text": [
      "epoch 104| loss: 0.12486 | train_mse: 0.06902 | train_mae: 0.19236 |  0:00:41s\n"
     ]
    },
    {
     "name": "stdout",
     "output_type": "stream",
     "text": [
      "epoch 105| loss: 0.11777 | train_mse: 0.08053 | train_mae: 0.20056 |  0:00:41s\n"
     ]
    },
    {
     "name": "stdout",
     "output_type": "stream",
     "text": [
      "epoch 106| loss: 0.11067 | train_mse: 0.06492 | train_mae: 0.18695 |  0:00:42s\n"
     ]
    },
    {
     "name": "stdout",
     "output_type": "stream",
     "text": [
      "epoch 107| loss: 0.10447 | train_mse: 0.06385 | train_mae: 0.18438 |  0:00:42s\n"
     ]
    },
    {
     "name": "stdout",
     "output_type": "stream",
     "text": [
      "epoch 108| loss: 0.11259 | train_mse: 0.06349 | train_mae: 0.18396 |  0:00:43s\n"
     ]
    },
    {
     "name": "stdout",
     "output_type": "stream",
     "text": [
      "epoch 109| loss: 0.11866 | train_mse: 0.0883  | train_mae: 0.21495 |  0:00:43s\n"
     ]
    },
    {
     "name": "stdout",
     "output_type": "stream",
     "text": [
      "epoch 110| loss: 0.13498 | train_mse: 0.06775 | train_mae: 0.19119 |  0:00:43s\n"
     ]
    },
    {
     "name": "stdout",
     "output_type": "stream",
     "text": [
      "epoch 111| loss: 0.17487 | train_mse: 0.08771 | train_mae: 0.2252  |  0:00:44s\n"
     ]
    },
    {
     "name": "stdout",
     "output_type": "stream",
     "text": [
      "epoch 112| loss: 0.1207  | train_mse: 0.06405 | train_mae: 0.19066 |  0:00:44s\n"
     ]
    },
    {
     "name": "stdout",
     "output_type": "stream",
     "text": [
      "epoch 113| loss: 0.15151 | train_mse: 0.08834 | train_mae: 0.22488 |  0:00:45s\n"
     ]
    },
    {
     "name": "stdout",
     "output_type": "stream",
     "text": [
      "epoch 114| loss: 0.13932 | train_mse: 0.07209 | train_mae: 0.20174 |  0:00:45s\n"
     ]
    },
    {
     "name": "stdout",
     "output_type": "stream",
     "text": [
      "epoch 115| loss: 0.11686 | train_mse: 0.06818 | train_mae: 0.19377 |  0:00:45s\n"
     ]
    },
    {
     "name": "stdout",
     "output_type": "stream",
     "text": [
      "epoch 116| loss: 0.13192 | train_mse: 0.07618 | train_mae: 0.20956 |  0:00:46s\n"
     ]
    },
    {
     "name": "stdout",
     "output_type": "stream",
     "text": [
      "epoch 117| loss: 0.13827 | train_mse: 0.08987 | train_mae: 0.22105 |  0:00:46s\n"
     ]
    },
    {
     "name": "stdout",
     "output_type": "stream",
     "text": [
      "epoch 118| loss: 0.11053 | train_mse: 0.06724 | train_mae: 0.19308 |  0:00:47s\n"
     ]
    },
    {
     "name": "stdout",
     "output_type": "stream",
     "text": [
      "epoch 119| loss: 0.14925 | train_mse: 0.08249 | train_mae: 0.21614 |  0:00:47s\n"
     ]
    },
    {
     "name": "stdout",
     "output_type": "stream",
     "text": [
      "epoch 120| loss: 0.13026 | train_mse: 0.07438 | train_mae: 0.20634 |  0:00:47s\n"
     ]
    },
    {
     "name": "stdout",
     "output_type": "stream",
     "text": [
      "epoch 121| loss: 0.12278 | train_mse: 0.07003 | train_mae: 0.19562 |  0:00:48s\n"
     ]
    },
    {
     "name": "stdout",
     "output_type": "stream",
     "text": [
      "epoch 122| loss: 0.12116 | train_mse: 0.08396 | train_mae: 0.21769 |  0:00:48s\n"
     ]
    },
    {
     "name": "stdout",
     "output_type": "stream",
     "text": [
      "epoch 123| loss: 0.14917 | train_mse: 0.06507 | train_mae: 0.19465 |  0:00:49s\n"
     ]
    },
    {
     "name": "stdout",
     "output_type": "stream",
     "text": [
      "epoch 124| loss: 0.13563 | train_mse: 0.09174 | train_mae: 0.219   |  0:00:49s\n"
     ]
    },
    {
     "name": "stdout",
     "output_type": "stream",
     "text": [
      "epoch 125| loss: 0.13314 | train_mse: 0.06004 | train_mae: 0.1852  |  0:00:50s\n"
     ]
    },
    {
     "name": "stdout",
     "output_type": "stream",
     "text": [
      "epoch 126| loss: 0.12843 | train_mse: 0.07627 | train_mae: 0.2055  |  0:00:50s\n"
     ]
    },
    {
     "name": "stdout",
     "output_type": "stream",
     "text": [
      "epoch 127| loss: 0.12897 | train_mse: 0.05806 | train_mae: 0.17775 |  0:00:50s\n"
     ]
    },
    {
     "name": "stdout",
     "output_type": "stream",
     "text": [
      "epoch 128| loss: 0.10389 | train_mse: 0.06507 | train_mae: 0.18991 |  0:00:51s\n"
     ]
    },
    {
     "name": "stdout",
     "output_type": "stream",
     "text": [
      "epoch 129| loss: 0.15267 | train_mse: 0.07677 | train_mae: 0.19959 |  0:00:51s\n"
     ]
    },
    {
     "name": "stdout",
     "output_type": "stream",
     "text": [
      "epoch 130| loss: 0.15661 | train_mse: 0.07378 | train_mae: 0.2016  |  0:00:52s\n"
     ]
    },
    {
     "name": "stdout",
     "output_type": "stream",
     "text": [
      "epoch 131| loss: 0.10503 | train_mse: 0.06131 | train_mae: 0.1848  |  0:00:52s\n"
     ]
    },
    {
     "name": "stdout",
     "output_type": "stream",
     "text": [
      "epoch 132| loss: 0.10755 | train_mse: 0.06259 | train_mae: 0.18461 |  0:00:53s\n"
     ]
    },
    {
     "name": "stdout",
     "output_type": "stream",
     "text": [
      "epoch 133| loss: 0.10902 | train_mse: 0.06847 | train_mae: 0.19243 |  0:00:53s\n"
     ]
    },
    {
     "name": "stdout",
     "output_type": "stream",
     "text": [
      "epoch 134| loss: 0.12548 | train_mse: 0.07832 | train_mae: 0.19969 |  0:00:54s\n"
     ]
    },
    {
     "name": "stdout",
     "output_type": "stream",
     "text": [
      "epoch 135| loss: 0.12837 | train_mse: 0.06772 | train_mae: 0.19246 |  0:00:54s\n"
     ]
    },
    {
     "name": "stdout",
     "output_type": "stream",
     "text": [
      "epoch 136| loss: 0.12988 | train_mse: 0.06076 | train_mae: 0.19064 |  0:00:55s\n"
     ]
    },
    {
     "name": "stdout",
     "output_type": "stream",
     "text": [
      "epoch 137| loss: 0.12492 | train_mse: 0.06367 | train_mae: 0.19257 |  0:00:55s\n"
     ]
    },
    {
     "name": "stdout",
     "output_type": "stream",
     "text": [
      "epoch 138| loss: 0.11442 | train_mse: 0.06112 | train_mae: 0.18378 |  0:00:55s\n"
     ]
    },
    {
     "name": "stdout",
     "output_type": "stream",
     "text": [
      "epoch 139| loss: 0.12388 | train_mse: 0.06227 | train_mae: 0.18607 |  0:00:56s\n"
     ]
    },
    {
     "name": "stdout",
     "output_type": "stream",
     "text": [
      "epoch 140| loss: 0.15004 | train_mse: 0.06823 | train_mae: 0.19222 |  0:00:56s\n"
     ]
    },
    {
     "name": "stdout",
     "output_type": "stream",
     "text": [
      "epoch 141| loss: 0.11504 | train_mse: 0.06675 | train_mae: 0.19831 |  0:00:56s\n"
     ]
    },
    {
     "name": "stdout",
     "output_type": "stream",
     "text": [
      "epoch 142| loss: 0.13306 | train_mse: 0.06673 | train_mae: 0.1951  |  0:00:57s\n"
     ]
    },
    {
     "name": "stdout",
     "output_type": "stream",
     "text": [
      "epoch 143| loss: 0.12794 | train_mse: 0.06254 | train_mae: 0.18727 |  0:00:57s\n"
     ]
    },
    {
     "name": "stdout",
     "output_type": "stream",
     "text": [
      "epoch 144| loss: 0.14554 | train_mse: 0.08931 | train_mae: 0.2192  |  0:00:57s\n"
     ]
    },
    {
     "name": "stdout",
     "output_type": "stream",
     "text": [
      "epoch 145| loss: 0.19136 | train_mse: 0.0836  | train_mae: 0.21656 |  0:00:58s\n"
     ]
    },
    {
     "name": "stdout",
     "output_type": "stream",
     "text": [
      "epoch 146| loss: 0.13889 | train_mse: 0.06446 | train_mae: 0.1906  |  0:00:58s\n"
     ]
    },
    {
     "name": "stdout",
     "output_type": "stream",
     "text": [
      "epoch 147| loss: 0.12767 | train_mse: 0.077   | train_mae: 0.2066  |  0:00:59s\n"
     ]
    },
    {
     "name": "stdout",
     "output_type": "stream",
     "text": [
      "epoch 148| loss: 0.10096 | train_mse: 0.0617  | train_mae: 0.19142 |  0:00:59s\n"
     ]
    },
    {
     "name": "stdout",
     "output_type": "stream",
     "text": [
      "epoch 149| loss: 0.11366 | train_mse: 0.06377 | train_mae: 0.18983 |  0:00:59s\n"
     ]
    },
    {
     "name": "stdout",
     "output_type": "stream",
     "text": [
      "epoch 150| loss: 0.11026 | train_mse: 0.0665  | train_mae: 0.18976 |  0:01:00s\n"
     ]
    },
    {
     "name": "stdout",
     "output_type": "stream",
     "text": [
      "epoch 151| loss: 0.15369 | train_mse: 0.07061 | train_mae: 0.19501 |  0:01:00s\n"
     ]
    },
    {
     "name": "stdout",
     "output_type": "stream",
     "text": [
      "epoch 152| loss: 0.10697 | train_mse: 0.07511 | train_mae: 0.20055 |  0:01:00s\n"
     ]
    },
    {
     "name": "stdout",
     "output_type": "stream",
     "text": [
      "epoch 153| loss: 0.11605 | train_mse: 0.06674 | train_mae: 0.19362 |  0:01:01s\n"
     ]
    },
    {
     "name": "stdout",
     "output_type": "stream",
     "text": [
      "epoch 154| loss: 0.12749 | train_mse: 0.07215 | train_mae: 0.19995 |  0:01:01s\n"
     ]
    },
    {
     "name": "stdout",
     "output_type": "stream",
     "text": [
      "epoch 155| loss: 0.12172 | train_mse: 0.08354 | train_mae: 0.21576 |  0:01:02s\n"
     ]
    },
    {
     "name": "stdout",
     "output_type": "stream",
     "text": [
      "epoch 156| loss: 0.14191 | train_mse: 0.0856  | train_mae: 0.22147 |  0:01:03s\n"
     ]
    },
    {
     "name": "stdout",
     "output_type": "stream",
     "text": [
      "epoch 157| loss: 0.10434 | train_mse: 0.06111 | train_mae: 0.18562 |  0:01:03s\n"
     ]
    },
    {
     "name": "stdout",
     "output_type": "stream",
     "text": [
      "epoch 158| loss: 0.16672 | train_mse: 0.07004 | train_mae: 0.196   |  0:01:04s\n"
     ]
    },
    {
     "name": "stdout",
     "output_type": "stream",
     "text": [
      "epoch 159| loss: 0.14382 | train_mse: 0.06146 | train_mae: 0.18687 |  0:01:04s\n"
     ]
    },
    {
     "name": "stdout",
     "output_type": "stream",
     "text": [
      "epoch 160| loss: 0.13836 | train_mse: 0.06949 | train_mae: 0.19241 |  0:01:04s\n"
     ]
    },
    {
     "name": "stdout",
     "output_type": "stream",
     "text": [
      "epoch 161| loss: 0.12107 | train_mse: 0.06431 | train_mae: 0.18947 |  0:01:05s\n"
     ]
    },
    {
     "name": "stdout",
     "output_type": "stream",
     "text": [
      "epoch 162| loss: 0.15037 | train_mse: 0.07413 | train_mae: 0.1946  |  0:01:05s\n"
     ]
    },
    {
     "name": "stdout",
     "output_type": "stream",
     "text": [
      "epoch 163| loss: 0.13438 | train_mse: 0.05673 | train_mae: 0.18393 |  0:01:06s\n"
     ]
    },
    {
     "name": "stdout",
     "output_type": "stream",
     "text": [
      "epoch 164| loss: 0.12477 | train_mse: 0.05954 | train_mae: 0.1865  |  0:01:06s\n"
     ]
    },
    {
     "name": "stdout",
     "output_type": "stream",
     "text": [
      "epoch 165| loss: 0.11183 | train_mse: 0.07496 | train_mae: 0.20694 |  0:01:07s\n"
     ]
    },
    {
     "name": "stdout",
     "output_type": "stream",
     "text": [
      "epoch 166| loss: 0.13758 | train_mse: 0.06347 | train_mae: 0.18827 |  0:01:07s\n"
     ]
    },
    {
     "name": "stdout",
     "output_type": "stream",
     "text": [
      "epoch 167| loss: 0.1089  | train_mse: 0.06183 | train_mae: 0.18874 |  0:01:07s\n"
     ]
    },
    {
     "name": "stdout",
     "output_type": "stream",
     "text": [
      "epoch 168| loss: 0.09443 | train_mse: 0.05839 | train_mae: 0.18428 |  0:01:08s\n"
     ]
    },
    {
     "name": "stdout",
     "output_type": "stream",
     "text": [
      "epoch 169| loss: 0.0992  | train_mse: 0.05503 | train_mae: 0.17736 |  0:01:08s\n"
     ]
    },
    {
     "name": "stdout",
     "output_type": "stream",
     "text": [
      "epoch 170| loss: 0.14352 | train_mse: 0.07348 | train_mae: 0.19051 |  0:01:08s\n"
     ]
    },
    {
     "name": "stdout",
     "output_type": "stream",
     "text": [
      "epoch 171| loss: 0.12083 | train_mse: 0.06515 | train_mae: 0.18829 |  0:01:09s\n"
     ]
    },
    {
     "name": "stdout",
     "output_type": "stream",
     "text": [
      "epoch 172| loss: 0.10133 | train_mse: 0.05625 | train_mae: 0.18014 |  0:01:09s\n"
     ]
    },
    {
     "name": "stdout",
     "output_type": "stream",
     "text": [
      "epoch 173| loss: 0.115   | train_mse: 0.05888 | train_mae: 0.17883 |  0:01:09s\n"
     ]
    },
    {
     "name": "stdout",
     "output_type": "stream",
     "text": [
      "epoch 174| loss: 0.09817 | train_mse: 0.0551  | train_mae: 0.17551 |  0:01:10s\n"
     ]
    },
    {
     "name": "stdout",
     "output_type": "stream",
     "text": [
      "epoch 175| loss: 0.10653 | train_mse: 0.05541 | train_mae: 0.17889 |  0:01:10s\n"
     ]
    },
    {
     "name": "stdout",
     "output_type": "stream",
     "text": [
      "epoch 176| loss: 0.12244 | train_mse: 0.06206 | train_mae: 0.18862 |  0:01:11s\n"
     ]
    },
    {
     "name": "stdout",
     "output_type": "stream",
     "text": [
      "epoch 177| loss: 0.12428 | train_mse: 0.07311 | train_mae: 0.19409 |  0:01:11s\n"
     ]
    },
    {
     "name": "stdout",
     "output_type": "stream",
     "text": [
      "epoch 178| loss: 0.15613 | train_mse: 0.07824 | train_mae: 0.19765 |  0:01:11s\n"
     ]
    },
    {
     "name": "stdout",
     "output_type": "stream",
     "text": [
      "epoch 179| loss: 0.09958 | train_mse: 0.07017 | train_mae: 0.19154 |  0:01:12s\n"
     ]
    },
    {
     "name": "stdout",
     "output_type": "stream",
     "text": [
      "epoch 180| loss: 0.09049 | train_mse: 0.04976 | train_mae: 0.16785 |  0:01:12s\n"
     ]
    },
    {
     "name": "stdout",
     "output_type": "stream",
     "text": [
      "epoch 181| loss: 0.12429 | train_mse: 0.07393 | train_mae: 0.20069 |  0:01:13s\n"
     ]
    },
    {
     "name": "stdout",
     "output_type": "stream",
     "text": [
      "epoch 182| loss: 0.10899 | train_mse: 0.05333 | train_mae: 0.17675 |  0:01:13s\n"
     ]
    },
    {
     "name": "stdout",
     "output_type": "stream",
     "text": [
      "epoch 183| loss: 0.09686 | train_mse: 0.06365 | train_mae: 0.18993 |  0:01:13s\n"
     ]
    },
    {
     "name": "stdout",
     "output_type": "stream",
     "text": [
      "epoch 184| loss: 0.11284 | train_mse: 0.05255 | train_mae: 0.17058 |  0:01:14s\n"
     ]
    },
    {
     "name": "stdout",
     "output_type": "stream",
     "text": [
      "epoch 185| loss: 0.10127 | train_mse: 0.0558  | train_mae: 0.17951 |  0:01:14s\n"
     ]
    },
    {
     "name": "stdout",
     "output_type": "stream",
     "text": [
      "epoch 186| loss: 0.10655 | train_mse: 0.0651  | train_mae: 0.19194 |  0:01:15s\n"
     ]
    },
    {
     "name": "stdout",
     "output_type": "stream",
     "text": [
      "epoch 187| loss: 0.11129 | train_mse: 0.05179 | train_mae: 0.16879 |  0:01:15s\n"
     ]
    },
    {
     "name": "stdout",
     "output_type": "stream",
     "text": [
      "epoch 188| loss: 0.11329 | train_mse: 0.09432 | train_mae: 0.20326 |  0:01:15s\n"
     ]
    },
    {
     "name": "stdout",
     "output_type": "stream",
     "text": [
      "epoch 189| loss: 0.1306  | train_mse: 0.05818 | train_mae: 0.17978 |  0:01:16s\n"
     ]
    },
    {
     "name": "stdout",
     "output_type": "stream",
     "text": [
      "epoch 190| loss: 0.16679 | train_mse: 0.06777 | train_mae: 0.19152 |  0:01:16s\n"
     ]
    },
    {
     "name": "stdout",
     "output_type": "stream",
     "text": [
      "epoch 191| loss: 0.13456 | train_mse: 0.05923 | train_mae: 0.18187 |  0:01:17s\n"
     ]
    },
    {
     "name": "stdout",
     "output_type": "stream",
     "text": [
      "epoch 192| loss: 0.12656 | train_mse: 0.05778 | train_mae: 0.18311 |  0:01:17s\n"
     ]
    },
    {
     "name": "stdout",
     "output_type": "stream",
     "text": [
      "epoch 193| loss: 0.0947  | train_mse: 0.05534 | train_mae: 0.17933 |  0:01:17s\n"
     ]
    },
    {
     "name": "stdout",
     "output_type": "stream",
     "text": [
      "epoch 194| loss: 0.10203 | train_mse: 0.05517 | train_mae: 0.18041 |  0:01:18s\n"
     ]
    },
    {
     "name": "stdout",
     "output_type": "stream",
     "text": [
      "epoch 195| loss: 0.11582 | train_mse: 0.06372 | train_mae: 0.19142 |  0:01:18s\n"
     ]
    },
    {
     "name": "stdout",
     "output_type": "stream",
     "text": [
      "epoch 196| loss: 0.11494 | train_mse: 0.04988 | train_mae: 0.17196 |  0:01:18s\n"
     ]
    },
    {
     "name": "stdout",
     "output_type": "stream",
     "text": [
      "epoch 197| loss: 0.13359 | train_mse: 0.06778 | train_mae: 0.19851 |  0:01:19s\n"
     ]
    },
    {
     "name": "stdout",
     "output_type": "stream",
     "text": [
      "epoch 198| loss: 0.09472 | train_mse: 0.05037 | train_mae: 0.17213 |  0:01:19s\n"
     ]
    },
    {
     "name": "stdout",
     "output_type": "stream",
     "text": [
      "epoch 199| loss: 0.11975 | train_mse: 0.05198 | train_mae: 0.17182 |  0:01:20s\n"
     ]
    },
    {
     "name": "stdout",
     "output_type": "stream",
     "text": [
      "epoch 200| loss: 0.09531 | train_mse: 0.05981 | train_mae: 0.18708 |  0:01:20s\n"
     ]
    },
    {
     "name": "stdout",
     "output_type": "stream",
     "text": [
      "epoch 201| loss: 0.10766 | train_mse: 0.05193 | train_mae: 0.1738  |  0:01:20s\n"
     ]
    },
    {
     "name": "stdout",
     "output_type": "stream",
     "text": [
      "epoch 202| loss: 0.12116 | train_mse: 0.05791 | train_mae: 0.18335 |  0:01:21s\n"
     ]
    },
    {
     "name": "stdout",
     "output_type": "stream",
     "text": [
      "epoch 203| loss: 0.12465 | train_mse: 0.05868 | train_mae: 0.1852  |  0:01:21s\n"
     ]
    },
    {
     "name": "stdout",
     "output_type": "stream",
     "text": [
      "epoch 204| loss: 0.11833 | train_mse: 0.05907 | train_mae: 0.18228 |  0:01:22s\n"
     ]
    },
    {
     "name": "stdout",
     "output_type": "stream",
     "text": [
      "epoch 205| loss: 0.11176 | train_mse: 0.05134 | train_mae: 0.17242 |  0:01:22s\n"
     ]
    },
    {
     "name": "stdout",
     "output_type": "stream",
     "text": [
      "epoch 206| loss: 0.10927 | train_mse: 0.05679 | train_mae: 0.18138 |  0:01:22s\n"
     ]
    },
    {
     "name": "stdout",
     "output_type": "stream",
     "text": [
      "epoch 207| loss: 0.11813 | train_mse: 0.06649 | train_mae: 0.19447 |  0:01:23s\n"
     ]
    },
    {
     "name": "stdout",
     "output_type": "stream",
     "text": [
      "epoch 208| loss: 0.11018 | train_mse: 0.06482 | train_mae: 0.19078 |  0:01:23s\n"
     ]
    },
    {
     "name": "stdout",
     "output_type": "stream",
     "text": [
      "epoch 209| loss: 0.10402 | train_mse: 0.05751 | train_mae: 0.18019 |  0:01:23s\n"
     ]
    },
    {
     "name": "stdout",
     "output_type": "stream",
     "text": [
      "epoch 210| loss: 0.11256 | train_mse: 0.057   | train_mae: 0.17983 |  0:01:24s\n"
     ]
    },
    {
     "name": "stdout",
     "output_type": "stream",
     "text": [
      "epoch 211| loss: 0.08484 | train_mse: 0.04827 | train_mae: 0.16866 |  0:01:24s\n"
     ]
    },
    {
     "name": "stdout",
     "output_type": "stream",
     "text": [
      "epoch 212| loss: 0.11398 | train_mse: 0.0519  | train_mae: 0.17411 |  0:01:25s\n"
     ]
    },
    {
     "name": "stdout",
     "output_type": "stream",
     "text": [
      "epoch 213| loss: 0.0861  | train_mse: 0.04866 | train_mae: 0.17059 |  0:01:25s\n"
     ]
    },
    {
     "name": "stdout",
     "output_type": "stream",
     "text": [
      "epoch 214| loss: 0.10146 | train_mse: 0.05957 | train_mae: 0.18493 |  0:01:25s\n"
     ]
    },
    {
     "name": "stdout",
     "output_type": "stream",
     "text": [
      "epoch 215| loss: 0.07699 | train_mse: 0.04846 | train_mae: 0.17101 |  0:01:26s\n"
     ]
    },
    {
     "name": "stdout",
     "output_type": "stream",
     "text": [
      "epoch 216| loss: 0.10139 | train_mse: 0.05264 | train_mae: 0.17259 |  0:01:26s\n"
     ]
    },
    {
     "name": "stdout",
     "output_type": "stream",
     "text": [
      "epoch 217| loss: 0.09442 | train_mse: 0.04895 | train_mae: 0.16784 |  0:01:26s\n"
     ]
    },
    {
     "name": "stdout",
     "output_type": "stream",
     "text": [
      "epoch 218| loss: 0.0898  | train_mse: 0.05896 | train_mae: 0.18043 |  0:01:27s\n"
     ]
    },
    {
     "name": "stdout",
     "output_type": "stream",
     "text": [
      "epoch 219| loss: 0.11359 | train_mse: 0.07083 | train_mae: 0.19547 |  0:01:27s\n"
     ]
    },
    {
     "name": "stdout",
     "output_type": "stream",
     "text": [
      "epoch 220| loss: 0.15665 | train_mse: 0.0901  | train_mae: 0.20042 |  0:01:28s\n"
     ]
    },
    {
     "name": "stdout",
     "output_type": "stream",
     "text": [
      "epoch 221| loss: 0.11795 | train_mse: 0.06265 | train_mae: 0.18455 |  0:01:28s\n"
     ]
    },
    {
     "name": "stdout",
     "output_type": "stream",
     "text": [
      "epoch 222| loss: 0.12732 | train_mse: 0.06739 | train_mae: 0.19711 |  0:01:29s\n"
     ]
    },
    {
     "name": "stdout",
     "output_type": "stream",
     "text": [
      "epoch 223| loss: 0.10437 | train_mse: 0.05269 | train_mae: 0.17196 |  0:01:29s\n"
     ]
    },
    {
     "name": "stdout",
     "output_type": "stream",
     "text": [
      "epoch 224| loss: 0.09921 | train_mse: 0.05317 | train_mae: 0.17648 |  0:01:29s\n"
     ]
    },
    {
     "name": "stdout",
     "output_type": "stream",
     "text": [
      "epoch 225| loss: 0.11692 | train_mse: 0.04998 | train_mae: 0.17307 |  0:01:30s\n"
     ]
    },
    {
     "name": "stdout",
     "output_type": "stream",
     "text": [
      "epoch 226| loss: 0.10019 | train_mse: 0.05584 | train_mae: 0.18063 |  0:01:30s\n"
     ]
    },
    {
     "name": "stdout",
     "output_type": "stream",
     "text": [
      "epoch 227| loss: 0.0874  | train_mse: 0.05429 | train_mae: 0.17779 |  0:01:30s\n"
     ]
    },
    {
     "name": "stdout",
     "output_type": "stream",
     "text": [
      "epoch 228| loss: 0.10924 | train_mse: 0.05148 | train_mae: 0.1721  |  0:01:31s\n"
     ]
    },
    {
     "name": "stdout",
     "output_type": "stream",
     "text": [
      "epoch 229| loss: 0.09598 | train_mse: 0.06314 | train_mae: 0.18577 |  0:01:31s\n"
     ]
    },
    {
     "name": "stdout",
     "output_type": "stream",
     "text": [
      "epoch 230| loss: 0.13346 | train_mse: 0.05539 | train_mae: 0.17747 |  0:01:32s\n"
     ]
    },
    {
     "name": "stdout",
     "output_type": "stream",
     "text": [
      "epoch 231| loss: 0.1218  | train_mse: 0.04918 | train_mae: 0.16818 |  0:01:32s\n"
     ]
    },
    {
     "name": "stdout",
     "output_type": "stream",
     "text": [
      "epoch 232| loss: 0.08676 | train_mse: 0.05671 | train_mae: 0.17889 |  0:01:33s\n"
     ]
    },
    {
     "name": "stdout",
     "output_type": "stream",
     "text": [
      "epoch 233| loss: 0.10218 | train_mse: 0.05098 | train_mae: 0.17392 |  0:01:33s\n"
     ]
    },
    {
     "name": "stdout",
     "output_type": "stream",
     "text": [
      "epoch 234| loss: 0.10218 | train_mse: 0.0483  | train_mae: 0.17027 |  0:01:33s\n"
     ]
    },
    {
     "name": "stdout",
     "output_type": "stream",
     "text": [
      "epoch 235| loss: 0.08047 | train_mse: 0.04973 | train_mae: 0.16922 |  0:01:34s\n"
     ]
    },
    {
     "name": "stdout",
     "output_type": "stream",
     "text": [
      "epoch 236| loss: 0.10337 | train_mse: 0.05281 | train_mae: 0.17354 |  0:01:34s\n"
     ]
    },
    {
     "name": "stdout",
     "output_type": "stream",
     "text": [
      "epoch 237| loss: 0.07617 | train_mse: 0.04894 | train_mae: 0.16796 |  0:01:34s\n"
     ]
    },
    {
     "name": "stdout",
     "output_type": "stream",
     "text": [
      "epoch 238| loss: 0.10771 | train_mse: 0.04931 | train_mae: 0.16932 |  0:01:35s\n"
     ]
    },
    {
     "name": "stdout",
     "output_type": "stream",
     "text": [
      "epoch 239| loss: 0.10146 | train_mse: 0.04902 | train_mae: 0.1654  |  0:01:35s\n"
     ]
    },
    {
     "name": "stdout",
     "output_type": "stream",
     "text": [
      "epoch 240| loss: 0.10347 | train_mse: 0.05444 | train_mae: 0.17266 |  0:01:36s\n"
     ]
    },
    {
     "name": "stdout",
     "output_type": "stream",
     "text": [
      "epoch 241| loss: 0.13667 | train_mse: 0.0498  | train_mae: 0.17072 |  0:01:36s\n"
     ]
    },
    {
     "name": "stdout",
     "output_type": "stream",
     "text": [
      "epoch 242| loss: 0.0854  | train_mse: 0.04508 | train_mae: 0.1613  |  0:01:36s\n"
     ]
    },
    {
     "name": "stdout",
     "output_type": "stream",
     "text": [
      "epoch 243| loss: 0.11986 | train_mse: 0.05436 | train_mae: 0.17299 |  0:01:37s\n"
     ]
    },
    {
     "name": "stdout",
     "output_type": "stream",
     "text": [
      "epoch 244| loss: 0.10497 | train_mse: 0.05163 | train_mae: 0.17221 |  0:01:37s\n"
     ]
    },
    {
     "name": "stdout",
     "output_type": "stream",
     "text": [
      "epoch 245| loss: 0.10709 | train_mse: 0.05194 | train_mae: 0.17203 |  0:01:38s\n"
     ]
    },
    {
     "name": "stdout",
     "output_type": "stream",
     "text": [
      "epoch 246| loss: 0.09962 | train_mse: 0.04661 | train_mae: 0.16543 |  0:01:38s\n"
     ]
    },
    {
     "name": "stdout",
     "output_type": "stream",
     "text": [
      "epoch 247| loss: 0.10391 | train_mse: 0.05712 | train_mae: 0.18142 |  0:01:38s\n"
     ]
    },
    {
     "name": "stdout",
     "output_type": "stream",
     "text": [
      "epoch 248| loss: 0.10168 | train_mse: 0.04674 | train_mae: 0.16419 |  0:01:39s\n"
     ]
    },
    {
     "name": "stdout",
     "output_type": "stream",
     "text": [
      "epoch 249| loss: 0.08953 | train_mse: 0.0533  | train_mae: 0.17444 |  0:01:39s\n"
     ]
    },
    {
     "name": "stdout",
     "output_type": "stream",
     "text": [
      "epoch 250| loss: 0.08846 | train_mse: 0.04954 | train_mae: 0.17029 |  0:01:40s\n"
     ]
    },
    {
     "name": "stdout",
     "output_type": "stream",
     "text": [
      "epoch 251| loss: 0.1008  | train_mse: 0.06403 | train_mae: 0.18828 |  0:01:40s\n"
     ]
    },
    {
     "name": "stdout",
     "output_type": "stream",
     "text": [
      "epoch 252| loss: 0.10055 | train_mse: 0.06079 | train_mae: 0.18334 |  0:01:40s\n"
     ]
    },
    {
     "name": "stdout",
     "output_type": "stream",
     "text": [
      "epoch 253| loss: 0.1282  | train_mse: 0.05349 | train_mae: 0.17862 |  0:01:41s\n"
     ]
    },
    {
     "name": "stdout",
     "output_type": "stream",
     "text": [
      "epoch 254| loss: 0.10884 | train_mse: 0.06541 | train_mae: 0.19185 |  0:01:41s\n"
     ]
    },
    {
     "name": "stdout",
     "output_type": "stream",
     "text": [
      "epoch 255| loss: 0.14326 | train_mse: 0.05268 | train_mae: 0.17303 |  0:01:42s\n"
     ]
    },
    {
     "name": "stdout",
     "output_type": "stream",
     "text": [
      "epoch 256| loss: 0.10814 | train_mse: 0.04847 | train_mae: 0.17075 |  0:01:42s\n"
     ]
    },
    {
     "name": "stdout",
     "output_type": "stream",
     "text": [
      "epoch 257| loss: 0.09512 | train_mse: 0.05071 | train_mae: 0.16846 |  0:01:42s\n"
     ]
    },
    {
     "name": "stdout",
     "output_type": "stream",
     "text": [
      "epoch 258| loss: 0.1312  | train_mse: 0.05176 | train_mae: 0.17138 |  0:01:43s\n"
     ]
    },
    {
     "name": "stdout",
     "output_type": "stream",
     "text": [
      "epoch 259| loss: 0.12356 | train_mse: 0.06433 | train_mae: 0.1869  |  0:01:43s\n"
     ]
    },
    {
     "name": "stdout",
     "output_type": "stream",
     "text": [
      "epoch 260| loss: 0.08973 | train_mse: 0.05431 | train_mae: 0.17176 |  0:01:44s\n"
     ]
    },
    {
     "name": "stdout",
     "output_type": "stream",
     "text": [
      "epoch 261| loss: 0.09475 | train_mse: 0.06895 | train_mae: 0.19062 |  0:01:44s\n"
     ]
    },
    {
     "name": "stdout",
     "output_type": "stream",
     "text": [
      "epoch 262| loss: 0.10333 | train_mse: 0.05249 | train_mae: 0.16926 |  0:01:45s\n"
     ]
    },
    {
     "name": "stdout",
     "output_type": "stream",
     "text": [
      "epoch 263| loss: 0.08743 | train_mse: 0.06246 | train_mae: 0.18168 |  0:01:45s\n"
     ]
    },
    {
     "name": "stdout",
     "output_type": "stream",
     "text": [
      "epoch 264| loss: 0.1041  | train_mse: 0.05158 | train_mae: 0.16751 |  0:01:45s\n"
     ]
    },
    {
     "name": "stdout",
     "output_type": "stream",
     "text": [
      "epoch 265| loss: 0.09688 | train_mse: 0.06272 | train_mae: 0.18741 |  0:01:46s\n"
     ]
    },
    {
     "name": "stdout",
     "output_type": "stream",
     "text": [
      "epoch 266| loss: 0.09443 | train_mse: 0.05007 | train_mae: 0.17109 |  0:01:46s\n"
     ]
    },
    {
     "name": "stdout",
     "output_type": "stream",
     "text": [
      "epoch 267| loss: 0.11501 | train_mse: 0.05434 | train_mae: 0.18097 |  0:01:46s\n"
     ]
    },
    {
     "name": "stdout",
     "output_type": "stream",
     "text": [
      "epoch 268| loss: 0.1083  | train_mse: 0.05711 | train_mae: 0.18197 |  0:01:48s\n"
     ]
    },
    {
     "name": "stdout",
     "output_type": "stream",
     "text": [
      "epoch 269| loss: 0.09653 | train_mse: 0.05533 | train_mae: 0.17793 |  0:01:48s\n"
     ]
    },
    {
     "name": "stdout",
     "output_type": "stream",
     "text": [
      "epoch 270| loss: 0.11806 | train_mse: 0.05168 | train_mae: 0.17499 |  0:01:48s\n"
     ]
    },
    {
     "name": "stdout",
     "output_type": "stream",
     "text": [
      "epoch 271| loss: 0.09886 | train_mse: 0.05014 | train_mae: 0.17353 |  0:01:49s\n"
     ]
    },
    {
     "name": "stdout",
     "output_type": "stream",
     "text": [
      "epoch 272| loss: 0.11519 | train_mse: 0.04877 | train_mae: 0.17144 |  0:01:49s\n"
     ]
    },
    {
     "name": "stdout",
     "output_type": "stream",
     "text": [
      "epoch 273| loss: 0.101   | train_mse: 0.06001 | train_mae: 0.18421 |  0:01:49s\n"
     ]
    },
    {
     "name": "stdout",
     "output_type": "stream",
     "text": [
      "epoch 274| loss: 0.09267 | train_mse: 0.06007 | train_mae: 0.18958 |  0:01:50s\n"
     ]
    },
    {
     "name": "stdout",
     "output_type": "stream",
     "text": [
      "epoch 275| loss: 0.08953 | train_mse: 0.06136 | train_mae: 0.18909 |  0:01:50s\n"
     ]
    },
    {
     "name": "stdout",
     "output_type": "stream",
     "text": [
      "epoch 276| loss: 0.09483 | train_mse: 0.04612 | train_mae: 0.16495 |  0:01:51s\n"
     ]
    },
    {
     "name": "stdout",
     "output_type": "stream",
     "text": [
      "epoch 277| loss: 0.07602 | train_mse: 0.04217 | train_mae: 0.15794 |  0:01:51s\n"
     ]
    },
    {
     "name": "stdout",
     "output_type": "stream",
     "text": [
      "epoch 278| loss: 0.08788 | train_mse: 0.04739 | train_mae: 0.16603 |  0:01:51s\n"
     ]
    },
    {
     "name": "stdout",
     "output_type": "stream",
     "text": [
      "epoch 279| loss: 0.09767 | train_mse: 0.05014 | train_mae: 0.17478 |  0:01:52s\n"
     ]
    },
    {
     "name": "stdout",
     "output_type": "stream",
     "text": [
      "epoch 280| loss: 0.10262 | train_mse: 0.04694 | train_mae: 0.1642  |  0:01:52s\n"
     ]
    },
    {
     "name": "stdout",
     "output_type": "stream",
     "text": [
      "epoch 281| loss: 0.08329 | train_mse: 0.04889 | train_mae: 0.16509 |  0:01:52s\n"
     ]
    },
    {
     "name": "stdout",
     "output_type": "stream",
     "text": [
      "epoch 282| loss: 0.10214 | train_mse: 0.04866 | train_mae: 0.16981 |  0:01:53s\n"
     ]
    },
    {
     "name": "stdout",
     "output_type": "stream",
     "text": [
      "epoch 283| loss: 0.09409 | train_mse: 0.05273 | train_mae: 0.17205 |  0:01:53s\n"
     ]
    },
    {
     "name": "stdout",
     "output_type": "stream",
     "text": [
      "epoch 284| loss: 0.07935 | train_mse: 0.04361 | train_mae: 0.16029 |  0:01:54s\n"
     ]
    },
    {
     "name": "stdout",
     "output_type": "stream",
     "text": [
      "epoch 285| loss: 0.08886 | train_mse: 0.05821 | train_mae: 0.17659 |  0:01:54s\n"
     ]
    },
    {
     "name": "stdout",
     "output_type": "stream",
     "text": [
      "epoch 286| loss: 0.07925 | train_mse: 0.03971 | train_mae: 0.14996 |  0:01:54s\n"
     ]
    },
    {
     "name": "stdout",
     "output_type": "stream",
     "text": [
      "epoch 287| loss: 0.09695 | train_mse: 0.0604  | train_mae: 0.18436 |  0:01:55s\n"
     ]
    },
    {
     "name": "stdout",
     "output_type": "stream",
     "text": [
      "epoch 288| loss: 0.08303 | train_mse: 0.04513 | train_mae: 0.16076 |  0:01:55s\n"
     ]
    },
    {
     "name": "stdout",
     "output_type": "stream",
     "text": [
      "epoch 289| loss: 0.08859 | train_mse: 0.04799 | train_mae: 0.16499 |  0:01:55s\n"
     ]
    },
    {
     "name": "stdout",
     "output_type": "stream",
     "text": [
      "epoch 290| loss: 0.09887 | train_mse: 0.05374 | train_mae: 0.17665 |  0:01:56s\n"
     ]
    },
    {
     "name": "stdout",
     "output_type": "stream",
     "text": [
      "epoch 291| loss: 0.07513 | train_mse: 0.04464 | train_mae: 0.16552 |  0:01:56s\n"
     ]
    },
    {
     "name": "stdout",
     "output_type": "stream",
     "text": [
      "epoch 292| loss: 0.10537 | train_mse: 0.04441 | train_mae: 0.1632  |  0:01:57s\n"
     ]
    },
    {
     "name": "stdout",
     "output_type": "stream",
     "text": [
      "epoch 293| loss: 0.09955 | train_mse: 0.0436  | train_mae: 0.15956 |  0:01:57s\n"
     ]
    },
    {
     "name": "stdout",
     "output_type": "stream",
     "text": [
      "epoch 294| loss: 0.07762 | train_mse: 0.04675 | train_mae: 0.16661 |  0:01:57s\n"
     ]
    },
    {
     "name": "stdout",
     "output_type": "stream",
     "text": [
      "epoch 295| loss: 0.08253 | train_mse: 0.053   | train_mae: 0.17796 |  0:01:58s\n"
     ]
    },
    {
     "name": "stdout",
     "output_type": "stream",
     "text": [
      "epoch 296| loss: 0.08603 | train_mse: 0.04423 | train_mae: 0.16349 |  0:01:58s\n"
     ]
    },
    {
     "name": "stdout",
     "output_type": "stream",
     "text": [
      "epoch 297| loss: 0.09943 | train_mse: 0.07263 | train_mae: 0.19867 |  0:01:59s\n"
     ]
    },
    {
     "name": "stdout",
     "output_type": "stream",
     "text": [
      "epoch 298| loss: 0.10508 | train_mse: 0.04328 | train_mae: 0.15913 |  0:01:59s\n"
     ]
    },
    {
     "name": "stdout",
     "output_type": "stream",
     "text": [
      "epoch 299| loss: 0.10442 | train_mse: 0.04336 | train_mae: 0.15819 |  0:01:59s\n"
     ]
    },
    {
     "name": "stdout",
     "output_type": "stream",
     "text": [
      "epoch 300| loss: 0.09033 | train_mse: 0.04505 | train_mae: 0.16138 |  0:02:00s\n"
     ]
    },
    {
     "name": "stdout",
     "output_type": "stream",
     "text": [
      "epoch 301| loss: 0.09384 | train_mse: 0.04584 | train_mae: 0.16064 |  0:02:00s\n"
     ]
    },
    {
     "name": "stdout",
     "output_type": "stream",
     "text": [
      "epoch 302| loss: 0.07883 | train_mse: 0.04108 | train_mae: 0.15346 |  0:02:01s\n"
     ]
    },
    {
     "name": "stdout",
     "output_type": "stream",
     "text": [
      "epoch 303| loss: 0.077   | train_mse: 0.04585 | train_mae: 0.16306 |  0:02:01s\n"
     ]
    },
    {
     "name": "stdout",
     "output_type": "stream",
     "text": [
      "epoch 304| loss: 0.07801 | train_mse: 0.04027 | train_mae: 0.15277 |  0:02:02s\n"
     ]
    },
    {
     "name": "stdout",
     "output_type": "stream",
     "text": [
      "epoch 305| loss: 0.08279 | train_mse: 0.04671 | train_mae: 0.16404 |  0:02:02s\n"
     ]
    },
    {
     "name": "stdout",
     "output_type": "stream",
     "text": [
      "epoch 306| loss: 0.11235 | train_mse: 0.0542  | train_mae: 0.17785 |  0:02:02s\n"
     ]
    },
    {
     "name": "stdout",
     "output_type": "stream",
     "text": [
      "epoch 307| loss: 0.09119 | train_mse: 0.04891 | train_mae: 0.16931 |  0:02:03s\n"
     ]
    },
    {
     "name": "stdout",
     "output_type": "stream",
     "text": [
      "epoch 308| loss: 0.10337 | train_mse: 0.04489 | train_mae: 0.1636  |  0:02:03s\n"
     ]
    },
    {
     "name": "stdout",
     "output_type": "stream",
     "text": [
      "epoch 309| loss: 0.10677 | train_mse: 0.05117 | train_mae: 0.17248 |  0:02:04s\n"
     ]
    },
    {
     "name": "stdout",
     "output_type": "stream",
     "text": [
      "epoch 310| loss: 0.08472 | train_mse: 0.04191 | train_mae: 0.15846 |  0:02:04s\n"
     ]
    },
    {
     "name": "stdout",
     "output_type": "stream",
     "text": [
      "epoch 311| loss: 0.08071 | train_mse: 0.04344 | train_mae: 0.16233 |  0:02:04s\n"
     ]
    },
    {
     "name": "stdout",
     "output_type": "stream",
     "text": [
      "epoch 312| loss: 0.08056 | train_mse: 0.04768 | train_mae: 0.16652 |  0:02:05s\n"
     ]
    },
    {
     "name": "stdout",
     "output_type": "stream",
     "text": [
      "epoch 313| loss: 0.11975 | train_mse: 0.05128 | train_mae: 0.1712  |  0:02:05s\n"
     ]
    },
    {
     "name": "stdout",
     "output_type": "stream",
     "text": [
      "epoch 314| loss: 0.07769 | train_mse: 0.04717 | train_mae: 0.16523 |  0:02:05s\n"
     ]
    },
    {
     "name": "stdout",
     "output_type": "stream",
     "text": [
      "epoch 315| loss: 0.08727 | train_mse: 0.05592 | train_mae: 0.18009 |  0:02:06s\n"
     ]
    },
    {
     "name": "stdout",
     "output_type": "stream",
     "text": [
      "epoch 316| loss: 0.10562 | train_mse: 0.0528  | train_mae: 0.1758  |  0:02:06s\n"
     ]
    },
    {
     "name": "stdout",
     "output_type": "stream",
     "text": [
      "epoch 317| loss: 0.09076 | train_mse: 0.04583 | train_mae: 0.16227 |  0:02:07s\n"
     ]
    },
    {
     "name": "stdout",
     "output_type": "stream",
     "text": [
      "epoch 318| loss: 0.07424 | train_mse: 0.04454 | train_mae: 0.15763 |  0:02:07s\n"
     ]
    },
    {
     "name": "stdout",
     "output_type": "stream",
     "text": [
      "epoch 319| loss: 0.07464 | train_mse: 0.04784 | train_mae: 0.16436 |  0:02:07s\n"
     ]
    },
    {
     "name": "stdout",
     "output_type": "stream",
     "text": [
      "epoch 320| loss: 0.08659 | train_mse: 0.05085 | train_mae: 0.17171 |  0:02:08s\n"
     ]
    },
    {
     "name": "stdout",
     "output_type": "stream",
     "text": [
      "epoch 321| loss: 0.09341 | train_mse: 0.04844 | train_mae: 0.16445 |  0:02:08s\n"
     ]
    },
    {
     "name": "stdout",
     "output_type": "stream",
     "text": [
      "epoch 322| loss: 0.12217 | train_mse: 0.04945 | train_mae: 0.1687  |  0:02:08s\n"
     ]
    },
    {
     "name": "stdout",
     "output_type": "stream",
     "text": [
      "epoch 323| loss: 0.07692 | train_mse: 0.04606 | train_mae: 0.16628 |  0:02:09s\n"
     ]
    },
    {
     "name": "stdout",
     "output_type": "stream",
     "text": [
      "epoch 324| loss: 0.11426 | train_mse: 0.05489 | train_mae: 0.17575 |  0:02:09s\n"
     ]
    },
    {
     "name": "stdout",
     "output_type": "stream",
     "text": [
      "epoch 325| loss: 0.07429 | train_mse: 0.04136 | train_mae: 0.15398 |  0:02:10s\n"
     ]
    },
    {
     "name": "stdout",
     "output_type": "stream",
     "text": [
      "epoch 326| loss: 0.07738 | train_mse: 0.0461  | train_mae: 0.16157 |  0:02:10s\n"
     ]
    },
    {
     "name": "stdout",
     "output_type": "stream",
     "text": [
      "epoch 327| loss: 0.14749 | train_mse: 0.04784 | train_mae: 0.16418 |  0:02:10s\n"
     ]
    },
    {
     "name": "stdout",
     "output_type": "stream",
     "text": [
      "epoch 328| loss: 0.11191 | train_mse: 0.04948 | train_mae: 0.16693 |  0:02:11s\n"
     ]
    },
    {
     "name": "stdout",
     "output_type": "stream",
     "text": [
      "epoch 329| loss: 0.10966 | train_mse: 0.0481  | train_mae: 0.16767 |  0:02:11s\n"
     ]
    },
    {
     "name": "stdout",
     "output_type": "stream",
     "text": [
      "epoch 330| loss: 0.09191 | train_mse: 0.04132 | train_mae: 0.15307 |  0:02:11s\n"
     ]
    },
    {
     "name": "stdout",
     "output_type": "stream",
     "text": [
      "epoch 331| loss: 0.08268 | train_mse: 0.04484 | train_mae: 0.16062 |  0:02:12s\n"
     ]
    },
    {
     "name": "stdout",
     "output_type": "stream",
     "text": [
      "epoch 332| loss: 0.11129 | train_mse: 0.04542 | train_mae: 0.16129 |  0:02:12s\n"
     ]
    },
    {
     "name": "stdout",
     "output_type": "stream",
     "text": [
      "epoch 333| loss: 0.0899  | train_mse: 0.05247 | train_mae: 0.17326 |  0:02:13s\n"
     ]
    },
    {
     "name": "stdout",
     "output_type": "stream",
     "text": [
      "epoch 334| loss: 0.08541 | train_mse: 0.04243 | train_mae: 0.15688 |  0:02:13s\n"
     ]
    },
    {
     "name": "stdout",
     "output_type": "stream",
     "text": [
      "epoch 335| loss: 0.08018 | train_mse: 0.04355 | train_mae: 0.15932 |  0:02:13s\n"
     ]
    },
    {
     "name": "stdout",
     "output_type": "stream",
     "text": [
      "epoch 336| loss: 0.07089 | train_mse: 0.04691 | train_mae: 0.16299 |  0:02:14s\n",
      "\n",
      "Early stopping occurred at epoch 336 with best_epoch = 286 and best_train_mae = 0.14996\n",
      "Best weights from best epoch are automatically used!\n"
     ]
    }
   ],
   "source": [
    "#Train the Model\n",
    "\n",
    "Y_train = np.reshape(Y_train, (-1, 1))\n",
    "Y_test = np.reshape(Y_test, (-1, 1))\n",
    "\n",
    "prior_model = TabNetRegressor(optimizer_fn=torch.optim.Adam, optimizer_params=dict(lr = 0.01),\n",
    "          #scheduler_params={\"step_size\":10, ], \"gamma\":0.9},\n",
    "          #scheduler_fn=torch.optim.lr_scheduler.StepLR\n",
    "          )  #TabNetRegressor()\n",
    "\n",
    "prior_model.fit(X_train,Y_train,eval_set=[(X_train, Y_train)],\n",
    "            eval_name=['train'], \n",
    "            eval_metric=[ 'mse', 'mae'], \n",
    "            max_epochs = n_epochs, \n",
    "            batch_size = batch_size,\n",
    "            patience=50\n",
    "            )"
   ]
  },
  {
   "cell_type": "code",
   "execution_count": 10,
   "id": "af65dcda",
   "metadata": {
    "execution": {
     "iopub.execute_input": "2022-07-22T14:42:06.242935Z",
     "iopub.status.busy": "2022-07-22T14:42:06.242641Z",
     "iopub.status.idle": "2022-07-22T14:42:06.309366Z",
     "shell.execute_reply": "2022-07-22T14:42:06.307536Z"
    },
    "id": "af65dcda",
    "papermill": {
     "duration": 0.103221,
     "end_time": "2022-07-22T14:42:06.318555",
     "exception": false,
     "start_time": "2022-07-22T14:42:06.215334",
     "status": "completed"
    },
    "tags": []
   },
   "outputs": [
    {
     "data": {
      "application/scrapbook.scrap.json+json": {
       "data": 0.16408170312855738,
       "encoder": "json",
       "name": "Prior Model MSE",
       "version": 1
      }
     },
     "metadata": {
      "scrapbook": {
       "data": true,
       "display": false,
       "name": "Prior Model MSE"
      }
     },
     "output_type": "display_data"
    },
    {
     "data": {
      "application/scrapbook.scrap.json+json": {
       "data": 1.6054117583204706,
       "encoder": "json",
       "name": "ABC Pre-generator MSE",
       "version": 1
      }
     },
     "metadata": {
      "scrapbook": {
       "data": true,
       "display": false,
       "name": "ABC Pre-generator MSE"
      }
     },
     "output_type": "display_data"
    },
    {
     "data": {
      "application/scrapbook.scrap.json+json": {
       "data": 0.2541971912994179,
       "encoder": "json",
       "name": "Prior Model MAE",
       "version": 1
      }
     },
     "metadata": {
      "scrapbook": {
       "data": true,
       "display": false,
       "name": "Prior Model MAE"
      }
     },
     "output_type": "display_data"
    },
    {
     "name": "stdout",
     "output_type": "stream",
     "text": [
      "Prior Model MAE 0.2541971912994179\n"
     ]
    },
    {
     "data": {
      "application/scrapbook.scrap.json+json": {
       "data": 1.0423946354641134,
       "encoder": "json",
       "name": "ABC Pre-generator MAE",
       "version": 1
      }
     },
     "metadata": {
      "scrapbook": {
       "data": true,
       "display": false,
       "name": "ABC Pre-generator MAE"
      }
     },
     "output_type": "display_data"
    },
    {
     "name": "stdout",
     "output_type": "stream",
     "text": [
      "ABC Pre-generator MAE 1.0423946354641134\n"
     ]
    }
   ],
   "source": [
    "y_pred = prior_model.predict(X_test)\n",
    "y_abc = y_pred + np.random.normal(0,variance, y_pred.shape) + bias \n",
    "mse = mean_squared_error(y_pred,Y_test)\n",
    "sb.glue(\"Prior Model MSE\",mse)\n",
    "mse = mean_squared_error(y_abc,Y_test)\n",
    "sb.glue(\"ABC Pre-generator MSE\",mse)\n",
    "mae = mean_absolute_error(y_pred,Y_test)\n",
    "sb.glue(\"Prior Model MAE\",mae)\n",
    "print(\"Prior Model MAE\",mae)\n",
    "mae = mean_absolute_error(y_abc,Y_test)\n",
    "sb.glue(\"ABC Pre-generator MAE\",mae)\n",
    "print(\"ABC Pre-generator MAE\",mae)"
   ]
  },
  {
   "cell_type": "markdown",
   "id": "25609da2",
   "metadata": {
    "papermill": {
     "duration": 0.047973,
     "end_time": "2022-07-22T14:42:06.408141",
     "exception": false,
     "start_time": "2022-07-22T14:42:06.360168",
     "status": "completed"
    },
    "tags": []
   },
   "source": [
    "# mGAN Model"
   ]
  },
  {
   "cell_type": "code",
   "execution_count": 11,
   "id": "dfc3464d",
   "metadata": {
    "execution": {
     "iopub.execute_input": "2022-07-22T14:42:06.480810Z",
     "iopub.status.busy": "2022-07-22T14:42:06.480319Z",
     "iopub.status.idle": "2022-07-22T14:42:06.487859Z",
     "shell.execute_reply": "2022-07-22T14:42:06.486819Z"
    },
    "papermill": {
     "duration": 0.041697,
     "end_time": "2022-07-22T14:42:06.492123",
     "exception": false,
     "start_time": "2022-07-22T14:42:06.450426",
     "status": "completed"
    },
    "tags": []
   },
   "outputs": [],
   "source": [
    "gen = network.Generator(n_features+1).to(device)\n",
    "disc = network.Discriminator(n_features+1).to(device)\n",
    "\n",
    "criterion = torch.nn.BCELoss()\n",
    "gen_opt = torch.optim.Adam(gen.parameters(), lr=0.01, betas=(0.5, 0.999))\n",
    "disc_opt = torch.optim.Adam(disc.parameters(), lr=0.01, betas=(0.5, 0.999))"
   ]
  },
  {
   "cell_type": "code",
   "execution_count": 12,
   "id": "b75fdd85",
   "metadata": {
    "execution": {
     "iopub.execute_input": "2022-07-22T14:42:06.568984Z",
     "iopub.status.busy": "2022-07-22T14:42:06.568690Z",
     "iopub.status.idle": "2022-07-22T14:46:30.502433Z",
     "shell.execute_reply": "2022-07-22T14:46:30.501314Z"
    },
    "papermill": {
     "duration": 263.983396,
     "end_time": "2022-07-22T14:46:30.504859",
     "exception": false,
     "start_time": "2022-07-22T14:42:06.521463",
     "status": "completed"
    },
    "tags": []
   },
   "outputs": [
    {
     "data": {
      "image/png": "[encoded data removed]",
      "text/plain": [
       "<Figure size 432x288 with 1 Axes>"
      ]
     },
     "metadata": {
      "needs_background": "light"
     },
     "output_type": "display_data"
    },
    {
     "data": {
      "image/png": "[encoded data removed]",
      "text/plain": [
       "<Figure size 432x288 with 1 Axes>"
      ]
     },
     "metadata": {
      "needs_background": "light"
     },
     "output_type": "display_data"
    }
   ],
   "source": [
    "#Training the ABC_GAN \n",
    "ABC_train_test2.training_GAN(disc,gen,disc_opt,gen_opt,train_data,batch_size,n_epochs,criterion,prior_model,variance,bias,device)"
   ]
  },
  {
   "cell_type": "code",
   "execution_count": 13,
   "id": "1fa7c368",
   "metadata": {
    "execution": {
     "iopub.execute_input": "2022-07-22T14:46:30.695697Z",
     "iopub.status.busy": "2022-07-22T14:46:30.695124Z",
     "iopub.status.idle": "2022-07-22T14:46:32.989970Z",
     "shell.execute_reply": "2022-07-22T14:46:32.989456Z"
    },
    "papermill": {
     "duration": 2.456669,
     "end_time": "2022-07-22T14:46:32.992405",
     "exception": false,
     "start_time": "2022-07-22T14:46:30.535736",
     "status": "completed"
    },
    "tags": []
   },
   "outputs": [
    {
     "data": {
      "application/scrapbook.scrap.json+json": {
       "data": 0.2010675672317584,
       "encoder": "json",
       "name": "ABC-GAN Model 1 MSE",
       "version": 1
      }
     },
     "metadata": {
      "scrapbook": {
       "data": true,
       "display": false,
       "name": "ABC-GAN Model 1 MSE"
      }
     },
     "output_type": "display_data"
    },
    {
     "data": {
      "application/scrapbook.scrap.json+json": {
       "data": 0.27982852037302125,
       "encoder": "json",
       "name": "ABC-GAN Model 1 MAE",
       "version": 1
      }
     },
     "metadata": {
      "scrapbook": {
       "data": true,
       "display": false,
       "name": "ABC-GAN Model 1 MAE"
      }
     },
     "output_type": "display_data"
    },
    {
     "data": {
      "application/scrapbook.scrap.json+json": {
       "data": 28.54250907804817,
       "encoder": "json",
       "name": "ABC-GAN Model 1 Manhattan Distance",
       "version": 1
      }
     },
     "metadata": {
      "scrapbook": {
       "data": true,
       "display": false,
       "name": "ABC-GAN Model 1 Manhattan Distance"
      }
     },
     "output_type": "display_data"
    },
    {
     "data": {
      "application/scrapbook.scrap.json+json": {
       "data": 4.528630097373505,
       "encoder": "json",
       "name": "ABC-GAN Model 1 Euclidean distance",
       "version": 1
      }
     },
     "metadata": {
      "scrapbook": {
       "data": true,
       "display": false,
       "name": "ABC-GAN Model 1 Euclidean distance"
      }
     },
     "output_type": "display_data"
    },
    {
     "data": {
      "application/scrapbook.scrap.json+json": {
       "data": [
        [
         0.20181043521080505,
         0.20057798443354727,
         0.20253578854313284,
         0.20286793361355657,
         0.20163074555666274,
         0.2006787016344496,
         0.20209976545276667,
         0.1998308806903976,
         0.20152078627463602,
         0.20024735528733106,
         0.20142193691173205,
         0.1981051883530755,
         0.20154528348644996,
         0.20154568314288895,
         0.19976439508410657,
         0.19886039693729185,
         0.20261905631126778,
         0.20041688772837,
         0.20279816817011426,
         0.20156822346736644,
         0.20368178276993304,
         0.2003981250045119,
         0.19986647654350204,
         0.19978114220812057,
         0.20450703622830746,
         0.19924970837446213,
         0.2025726631713851,
         0.2023825884069536,
         0.20414733397173443,
         0.20078302330168346,
         0.202693975834792,
         0.2003135053772248,
         0.20242928572645183,
         0.20155725590022172,
         0.20203746018571753,
         0.20273404663688147,
         0.20191325132786275,
         0.2037471471844662,
         0.2016284716379085,
         0.2004009379987426,
         0.19622036996478676,
         0.20612871401755095,
         0.19991774462095302,
         0.19890635266171508,
         0.19881880725791562,
         0.20047808138098844,
         0.20223355497140946,
         0.1996067218668467,
         0.20299827970162276,
         0.19980334426336688,
         0.20175379388891335,
         0.19771152848429716,
         0.19981761775766932,
         0.20044686583756088,
         0.1996726029500907,
         0.19987482504753815,
         0.19908022859472907,
         0.2020720581007022,
         0.20346176063053667,
         0.201076938535413,
         0.20039751131600236,
         0.20376477274326946,
         0.2004460810360693,
         0.20153372990593937,
         0.19888100118518004,
         0.20241119485733294,
         0.20282591363638325,
         0.20128779200798372,
         0.20014189372762803,
         0.20335442314958374,
         0.19981465408229154,
         0.2012219916644668,
         0.20137287593386416,
         0.20183728235866505,
         0.2028537191424058,
         0.19802324770048393,
         0.19794285438127662,
         0.20254184781321635,
         0.19879971784293826,
         0.2009945612475508,
         0.20352013692405066,
         0.201835840313692,
         0.20097793864476407,
         0.20139978395812946,
         0.1993721111920572,
         0.20211463947122948,
         0.2038682619637689,
         0.2018147346176902,
         0.20193379217827342,
         0.19748584295403962,
         0.19948933770608251,
         0.1998343186073097,
         0.20059677670143006,
         0.19981277472808376,
         0.1998883119256293,
         0.20357447997065115,
         0.19667016221915717,
         0.2027318315458764,
         0.1986387351219995,
         0.20139884208397393
        ],
        [
         0.282518184734691,
         0.28065011220271974,
         0.28236535857157674,
         0.2835951534501624,
         0.2812923009726493,
         0.27996485703168256,
         0.2822923247665897,
         0.2782247881039831,
         0.2774325348528139,
         0.2788319923805402,
         0.27740844025952266,
         0.2771760681187551,
         0.28187297059076966,
         0.2805421842609112,
         0.27786525551631464,
         0.2771373073497385,
         0.28170008118282636,
         0.27804849933212,
         0.28157095882274646,
         0.27952406782766476,
         0.2834871604983859,
         0.279447432616543,
         0.2812064618109634,
         0.28030200529953136,
         0.28579132033365906,
         0.27885285860804077,
         0.281826689629359,
         0.28283234080299735,
         0.28130139447931274,
         0.2779779616177228,
         0.28071264419522063,
         0.2769672570512721,
         0.2809585234351164,
         0.2790685016387964,
         0.28098166566889954,
         0.2801548224399049,
         0.28483873365593015,
         0.2858718843381925,
         0.27962221476413746,
         0.2761012912618325,
         0.27359861947194325,
         0.28739743176665083,
         0.28366573309233667,
         0.27859890147787975,
         0.2774555908936058,
         0.27981231705851706,
         0.2832393023258477,
         0.2764036581741975,
         0.282323834148473,
         0.27924561362677053,
         0.2799824544265136,
         0.27886816721373037,
         0.27769693316818744,
         0.2795804029823664,
         0.27940913750881363,
         0.2804736441786529,
         0.27748908636653247,
         0.28174271778769644,
         0.28209862501050037,
         0.28026350332862315,
         0.2747399619342211,
         0.2840857990177385,
         0.27839274946417586,
         0.2776089146386321,
         0.27642335487967906,
         0.28187275540047124,
         0.27870907949502854,
         0.27689211327107804,
         0.27791633713515657,
         0.2796876460551193,
         0.2788038637361252,
         0.2782766908936787,
         0.2804513861534788,
         0.28267468082006364,
         0.28227871065667154,
         0.2761619972777279,
         0.27270538981675224,
         0.2811934395108883,
         0.27691584819124315,
         0.28093373111686576,
         0.28318356701592895,
         0.2785401048558746,
         0.282373919726952,
         0.27986535204428376,
         0.28138734335445015,
         0.2811655439527742,
         0.282763180277292,
         0.27944808359276135,
         0.27977715762259037,
         0.2757776320510197,
         0.27689885809177567,
         0.2773613150450675,
         0.2778892843691888,
         0.2783928783153932,
         0.2778358505582254,
         0.28423714675191863,
         0.27628068093612207,
         0.2801320823913842,
         0.27653835809734817,
         0.2786169703045458
        ],
        [
         28.816854842938483,
         28.626311444677413,
         28.801266574300826,
         28.926705651916564,
         28.691814699210227,
         28.55641541723162,
         28.793817126192153,
         28.378928386606276,
         28.298118554987013,
         28.440863222815096,
         28.295660906471312,
         28.271958948113024,
         28.751043000258505,
         28.615302794612944,
         28.34225606266409,
         28.26800534967333,
         28.73340828064829,
         28.360946931876242,
         28.72023779992014,
         28.511454918421805,
         28.915690370835364,
         28.50363812688738,
         28.683059104718268,
         28.5908045405522,
         29.150714674033225,
         28.442991578020155,
         28.746322342194617,
         28.84889876190573,
         28.6927422368899,
         28.353752085007727,
         28.632689707912505,
         28.250660219229758,
         28.657769390381873,
         28.464987167157233,
         28.66012989822775,
         28.5757918888703,
         29.053550832904875,
         29.158932202495635,
         28.521465905942023,
         28.162331708706915,
         27.907059186138213,
         29.314538040198386,
         28.93390477541834,
         28.417087950743735,
         28.300470271147788,
         28.54085633996874,
         28.890408837236464,
         28.19317313376814,
         28.797031083144248,
         28.483052589930594,
         28.558210351504385,
         28.444553055800498,
         28.32508718315512,
         28.517201104201376,
         28.499732025898993,
         28.608311706222594,
         28.303886809386313,
         28.737757214345038,
         28.774059751071036,
         28.58687733951956,
         28.023476117290556,
         28.976751499809325,
         28.396060445345938,
         28.31610929314047,
         28.195182197727263,
         28.751021050848067,
         28.42832610849291,
         28.242995553649962,
         28.34746638778597,
         28.528139897622168,
         28.43799410108477,
         28.384222471155226,
         28.60604138765484,
         28.83281744364649,
         28.792428486980498,
         28.168523722328246,
         27.81594976130873,
         28.68173083011061,
         28.245416515506804,
         28.65524057392031,
         28.884723835624754,
         28.411090695299208,
         28.802139812149107,
         28.546265908516943,
         28.701509022153914,
         28.678885483182967,
         28.84184438828379,
         28.50370452646166,
         28.537270077504218,
         28.12931846920401,
         28.24368352536112,
         28.290854134596884,
         28.344707005657256,
         28.39607358817011,
         28.339256756938994,
         28.9921889686957,
         28.18062945548445,
         28.573472403921187,
         28.20691252592951,
         28.418930971063673
        ],
        [
         4.537032553498168,
         4.52315757101406,
         4.54517881181803,
         4.548904178874596,
         4.535012243288831,
         4.524293046069612,
         4.540283699966578,
         4.514725886520748,
         4.5337754906934755,
         4.5194280876354,
         4.532663407423572,
         4.495189563523845,
         4.534051049074977,
         4.534055544495972,
         4.513974778239115,
         4.503749603120022,
         4.546113036842497,
         4.521340790992616,
         4.5481219369484425,
         4.534309075666476,
         4.558019508792516,
         4.521129145518873,
         4.515127972431922,
         4.514163987409883,
         4.567243993404267,
         4.508155970482291,
         4.545592551415192,
         4.543459476820417,
         4.563225620667568,
         4.525468857120962,
         4.546953434460131,
         4.520174504206329,
         4.543983620579863,
         4.534185715409396,
         4.539583784769611,
         4.547402858441497,
         4.53818814456188,
         4.558750817144489,
         4.534986671101324,
         4.521160877017289,
         4.473754322312328,
         4.585316655345648,
         4.515707026738692,
         4.504269970982527,
         4.5032786212167,
         4.522030992912456,
         4.541786279327085,
         4.512192995697143,
         4.550365318253636,
         4.514414814221597,
         4.536395813492156,
         4.490721089691311,
         4.514576061080627,
         4.521678926619095,
         4.512937568913318,
         4.515222270813353,
         4.506238266743378,
         4.539972458756949,
         4.555557000446239,
         4.528779938417424,
         4.521122222881421,
         4.558947994857309,
         4.52167007483729,
         4.533921090006509,
         4.503982917472974,
         4.543780570785517,
         4.548433047865066,
         4.531153802820462,
         4.518237837942803,
         4.5543551861111515,
         4.514542581081026,
         4.530413132350692,
         4.532111356228368,
         4.537334327618346,
         4.548744810662099,
         4.494259812855656,
         4.493347432248059,
         4.545246800444181,
         4.50306242683573,
         4.527852167115241,
         4.556210483093725,
         4.537318118888798,
         4.527664932585663,
         4.532414143006926,
         4.509540480092159,
         4.54045077344369,
         4.5601055602150735,
         4.537080882131637,
         4.5384189760514495,
         4.488157303539175,
         4.51086604168428,
         4.5147647223244745,
         4.523369454681529,
         4.514521350294463,
         4.515374604217705,
         4.556818732076843,
         4.478878938568672,
         4.547378015700849,
         4.5012388275278115,
         4.53240354476136
        ]
       ],
       "encoder": "json",
       "name": "ABC_GAN_1 Metrics",
       "version": 1
      }
     },
     "metadata": {
      "scrapbook": {
       "data": true,
       "display": false,
       "name": "ABC_GAN_1 Metrics"
      }
     },
     "output_type": "display_data"
    },
    {
     "name": "stdout",
     "output_type": "stream",
     "text": [
      "MAE\n",
      "0.27982852037302125\n"
     ]
    }
   ],
   "source": [
    "ABC_GAN1_metrics=ABC_train_test2.test_generator(gen,test_data,prior_model,variance,bias,\"1\",device)\n",
    "sb.glue(\"ABC_GAN_1 Metrics\",ABC_GAN1_metrics)\n",
    "\n",
    "print(\"MAE\")\n",
    "print(mean(ABC_GAN1_metrics[1]))"
   ]
  },
  {
   "cell_type": "code",
   "execution_count": 14,
   "id": "eb22ce5c",
   "metadata": {
    "execution": {
     "iopub.execute_input": "2022-07-22T14:46:33.056658Z",
     "iopub.status.busy": "2022-07-22T14:46:33.056358Z",
     "iopub.status.idle": "2022-07-22T14:46:33.787325Z",
     "shell.execute_reply": "2022-07-22T14:46:33.786694Z"
    },
    "papermill": {
     "duration": 0.772231,
     "end_time": "2022-07-22T14:46:33.792911",
     "exception": false,
     "start_time": "2022-07-22T14:46:33.020680",
     "status": "completed"
    },
    "tags": []
   },
   "outputs": [
    {
     "data": {
      "image/png": "[encoded data removed]",
      "text/plain": [
       "<Figure size 432x288 with 1 Axes>"
      ]
     },
     "metadata": {
      "needs_background": "light"
     },
     "output_type": "display_data"
    },
    {
     "data": {
      "image/png": "[encoded data removed]",
      "text/plain": [
       "<Figure size 432x288 with 1 Axes>"
      ]
     },
     "metadata": {
      "needs_background": "light"
     },
     "output_type": "display_data"
    },
    {
     "data": {
      "image/png": "[encoded data removed]",
      "text/plain": [
       "<Figure size 432x288 with 1 Axes>"
      ]
     },
     "metadata": {
      "needs_background": "light"
     },
     "output_type": "display_data"
    },
    {
     "data": {
      "image/png": "[encoded data removed]",
      "text/plain": [
       "<Figure size 432x288 with 1 Axes>"
      ]
     },
     "metadata": {
      "needs_background": "light"
     },
     "output_type": "display_data"
    }
   ],
   "source": [
    "sanityChecks.discProbVsError(train_data,disc,device)\n",
    "sanityChecks.discProbVsError(test_data,disc,device)"
   ]
  },
  {
   "cell_type": "markdown",
   "id": "2948dd17",
   "metadata": {
    "papermill": {
     "duration": 0.035474,
     "end_time": "2022-07-22T14:46:33.861075",
     "exception": false,
     "start_time": "2022-07-22T14:46:33.825601",
     "status": "completed"
    },
    "tags": []
   },
   "source": [
    "# mGAN Model with TabNet Generator"
   ]
  },
  {
   "cell_type": "code",
   "execution_count": 15,
   "id": "a3d667f1",
   "metadata": {
    "execution": {
     "iopub.execute_input": "2022-07-22T14:46:33.923771Z",
     "iopub.status.busy": "2022-07-22T14:46:33.923487Z",
     "iopub.status.idle": "2022-07-22T14:46:33.939322Z",
     "shell.execute_reply": "2022-07-22T14:46:33.938268Z"
    },
    "papermill": {
     "duration": 0.048438,
     "end_time": "2022-07-22T14:46:33.941933",
     "exception": false,
     "start_time": "2022-07-22T14:46:33.893495",
     "status": "completed"
    },
    "tags": []
   },
   "outputs": [],
   "source": [
    "gen2 = network.GeneratorTabnet(n_features+1).to(device)\n",
    "disc2 = network.Discriminator(n_features+1).to(device)\n",
    "\n",
    "criterion = torch.nn.BCELoss()\n",
    "gen_opt = torch.optim.Adam(gen2.parameters(), lr=0.01, betas=(0.5, 0.999))\n",
    "disc_opt = torch.optim.Adam(disc2.parameters(), lr=0.01, betas=(0.5, 0.999))"
   ]
  },
  {
   "cell_type": "code",
   "execution_count": 16,
   "id": "79de0476",
   "metadata": {
    "execution": {
     "iopub.execute_input": "2022-07-22T14:46:34.004714Z",
     "iopub.status.busy": "2022-07-22T14:46:34.004433Z",
     "iopub.status.idle": "2022-07-22T14:56:30.677247Z",
     "shell.execute_reply": "2022-07-22T14:56:30.675565Z"
    },
    "papermill": {
     "duration": 596.713319,
     "end_time": "2022-07-22T14:56:30.683691",
     "exception": false,
     "start_time": "2022-07-22T14:46:33.970372",
     "status": "completed"
    },
    "tags": []
   },
   "outputs": [
    {
     "data": {
      "image/png": "[encoded data removed]",
      "text/plain": [
       "<Figure size 432x288 with 1 Axes>"
      ]
     },
     "metadata": {
      "needs_background": "light"
     },
     "output_type": "display_data"
    },
    {
     "data": {
      "image/png": "[encoded data removed]",
      "text/plain": [
       "<Figure size 432x288 with 1 Axes>"
      ]
     },
     "metadata": {
      "needs_background": "light"
     },
     "output_type": "display_data"
    }
   ],
   "source": [
    "#Training the ABC_GAN \n",
    "ABC_train_test2.training_GAN(disc2,gen2,disc_opt,gen_opt,train_data,batch_size,n_epochs,criterion,prior_model,variance,bias,device)"
   ]
  },
  {
   "cell_type": "code",
   "execution_count": 17,
   "id": "d17671c7",
   "metadata": {
    "execution": {
     "iopub.execute_input": "2022-07-22T14:56:30.756259Z",
     "iopub.status.busy": "2022-07-22T14:56:30.755470Z",
     "iopub.status.idle": "2022-07-22T14:56:33.651673Z",
     "shell.execute_reply": "2022-07-22T14:56:33.650912Z"
    },
    "papermill": {
     "duration": 2.935178,
     "end_time": "2022-07-22T14:56:33.654026",
     "exception": false,
     "start_time": "2022-07-22T14:56:30.718848",
     "status": "completed"
    },
    "tags": []
   },
   "outputs": [
    {
     "data": {
      "application/scrapbook.scrap.json+json": {
       "data": 0.13960080040773754,
       "encoder": "json",
       "name": "ABC-GAN Model 1 MSE",
       "version": 1
      }
     },
     "metadata": {
      "scrapbook": {
       "data": true,
       "display": false,
       "name": "ABC-GAN Model 1 MSE"
      }
     },
     "output_type": "display_data"
    },
    {
     "data": {
      "application/scrapbook.scrap.json+json": {
       "data": 0.27544913621482386,
       "encoder": "json",
       "name": "ABC-GAN Model 1 MAE",
       "version": 1
      }
     },
     "metadata": {
      "scrapbook": {
       "data": true,
       "display": false,
       "name": "ABC-GAN Model 1 MAE"
      }
     },
     "output_type": "display_data"
    },
    {
     "data": {
      "application/scrapbook.scrap.json+json": {
       "data": 28.095811893912032,
       "encoder": "json",
       "name": "ABC-GAN Model 1 Manhattan Distance",
       "version": 1
      }
     },
     "metadata": {
      "scrapbook": {
       "data": true,
       "display": false,
       "name": "ABC-GAN Model 1 Manhattan Distance"
      }
     },
     "output_type": "display_data"
    },
    {
     "data": {
      "application/scrapbook.scrap.json+json": {
       "data": 3.7732900673499907,
       "encoder": "json",
       "name": "ABC-GAN Model 1 Euclidean distance",
       "version": 1
      }
     },
     "metadata": {
      "scrapbook": {
       "data": true,
       "display": false,
       "name": "ABC-GAN Model 1 Euclidean distance"
      }
     },
     "output_type": "display_data"
    },
    {
     "data": {
      "application/scrapbook.scrap.json+json": {
       "data": [
        [
         0.13137641700352334,
         0.13886976124143652,
         0.13971252563478867,
         0.13612582713621948,
         0.14239734019653946,
         0.14035065386846413,
         0.1361008662966758,
         0.14178740974322634,
         0.14696635502352787,
         0.13405770338998435,
         0.1415244643792582,
         0.13659135104738088,
         0.13863466412968553,
         0.14033768216332304,
         0.14034239630550133,
         0.13479935894686787,
         0.14271241407671983,
         0.13699251390720027,
         0.14313966086451413,
         0.14164994717761986,
         0.1363425901659189,
         0.14479526644081284,
         0.13443138890898168,
         0.14279007529090312,
         0.14206919215490324,
         0.1405398720232386,
         0.14355344202005552,
         0.1388408592579597,
         0.13797574253170045,
         0.14033135409930184,
         0.14391820782080067,
         0.13598591270034946,
         0.14065479384031584,
         0.13635518884481093,
         0.13751073069116665,
         0.1386000160273668,
         0.14026335999849088,
         0.13740378398160935,
         0.14086717443883176,
         0.1382482207892105,
         0.14290121566263844,
         0.1366089091364294,
         0.13936144229318587,
         0.1419472999172763,
         0.13641926194080217,
         0.13717315479333198,
         0.14426776952252435,
         0.14181231057602,
         0.13482286678011549,
         0.1370029652352285,
         0.14318765216391616,
         0.13741466239039304,
         0.1404480378172802,
         0.13583210543742738,
         0.139657446820518,
         0.1397313187569081,
         0.13915366177548033,
         0.1396633524537827,
         0.14047550129744368,
         0.1408960509867516,
         0.14579632322055383,
         0.14227321001580587,
         0.13858721543566593,
         0.1430457151377148,
         0.14196577119278525,
         0.13935065409468572,
         0.1392230617893766,
         0.13668725795553188,
         0.14286072037505956,
         0.14126327177611506,
         0.13805101716513704,
         0.13803849795997467,
         0.1332964155677054,
         0.14079161813397886,
         0.13851855703820537,
         0.13986942231966695,
         0.13891547471540494,
         0.13629324416258418,
         0.14414795954645482,
         0.134178093056823,
         0.14123927298819594,
         0.14131863644768405,
         0.14429300997890715,
         0.14041815284187542,
         0.14183844556225642,
         0.13938502776431358,
         0.14198356034759552,
         0.13855671337281814,
         0.13806837637892475,
         0.13912996912161466,
         0.1396965878987968,
         0.1393585331962088,
         0.1404141844856186,
         0.1391559145937557,
         0.14004827253510876,
         0.13627662968395554,
         0.13562194072803763,
         0.1383435751296537,
         0.14492051704523776,
         0.1421357496973251
        ],
        [
         0.2680723971833347,
         0.27515886992435246,
         0.2764819099421741,
         0.2743654391436162,
         0.2793158343856168,
         0.27611932545608164,
         0.27518665025412453,
         0.27778767659694104,
         0.28246041328883637,
         0.272670836215291,
         0.2775256737710579,
         0.2703560171192329,
         0.27514054845361147,
         0.2755060037734973,
         0.274473196406867,
         0.2709173507276265,
         0.27575771171855284,
         0.2734591721410991,
         0.2716942347184408,
         0.2758123349014889,
         0.27265699688053013,
         0.27864254665031446,
         0.27053812712284864,
         0.2766595764962189,
         0.2739444246981293,
         0.27751123864094124,
         0.2768367838169284,
         0.2759183502217353,
         0.27403327318218845,
         0.2736579035408795,
         0.27774035348100407,
         0.272755301210518,
         0.2738351057940984,
         0.2741361398560305,
         0.27186335379476934,
         0.2753823177852467,
         0.2774801086314826,
         0.27571861639472783,
         0.27682364224364947,
         0.27508618813190683,
         0.2784548346957594,
         0.2729801081906201,
         0.2748104454219049,
         0.2765453432449231,
         0.27151767536541266,
         0.2753746488597244,
         0.27839297981129263,
         0.2734447130248608,
         0.27307794057745854,
         0.2758044157012859,
         0.27826925265767116,
         0.2747237682616448,
         0.276265701411438,
         0.2741297253809285,
         0.2748053980644281,
         0.2762814738066392,
         0.27267808547955663,
         0.278653675060281,
         0.2789370106606215,
         0.27269897463402765,
         0.2791315232650103,
         0.27730708179411057,
         0.2745204122974446,
         0.2781442985230801,
         0.2764476870926207,
         0.2753173247363199,
         0.2755798862370498,
         0.2735174200041037,
         0.2760817218371028,
         0.275814108705769,
         0.27307095454421404,
         0.2727397983099389,
         0.2712529523060748,
         0.27675917779332865,
         0.27672228546283556,
         0.2776969219010104,
         0.2740905940687905,
         0.2727030174870628,
         0.27928407269749134,
         0.27216605479171607,
         0.27975039530143725,
         0.2739201533315959,
         0.27898502295982897,
         0.2761003247087858,
         0.27907540069381687,
         0.2736471224868414,
         0.2795257703948985,
         0.2740571276723024,
         0.27418437967642995,
         0.27647444593044473,
         0.2742456746397211,
         0.276216037151422,
         0.2757449506270681,
         0.27704398475550845,
         0.2797116653208493,
         0.27428819387968556,
         0.2726240368176471,
         0.27487300454602376,
         0.27896924775239884,
         0.27980127397413346
        ],
        [
         27.34338451270014,
         28.06620473228395,
         28.201154814101756,
         27.985274792648852,
         28.490215107332915,
         28.16417119652033,
         28.0690383259207,
         28.334343012887985,
         28.81096215546131,
         27.812425293959677,
         28.30761872464791,
         27.57631374616176,
         28.06433594226837,
         28.101612384896725,
         27.996266033500433,
         27.633569774217904,
         28.12728659529239,
         27.892835558392107,
         27.71281194128096,
         28.132858159951866,
         27.811013681814075,
         28.421539758332074,
         27.59488896653056,
         28.21927680261433,
         27.942331319209188,
         28.306146341376007,
         28.237351949326694,
         28.143671722617,
         27.951393864583224,
         27.913106161169708,
         28.329516055062413,
         27.821040723472834,
         27.93118079099804,
         27.961886265315115,
         27.73006208706647,
         28.088996414095163,
         28.302971080411226,
         28.12329887226224,
         28.236011508852243,
         28.058791189454496,
         28.402393138967454,
         27.843971035443246,
         28.0306654330343,
         28.207625010982156,
         27.69480288727209,
         28.08821418369189,
         28.39608394075185,
         27.8913607285358,
         27.85394993890077,
         28.13205040153116,
         28.38346377108246,
         28.021824362687767,
         28.17910154396668,
         27.961231988854706,
         28.030150602571666,
         28.1807103282772,
         27.813164718914777,
         28.42267485614866,
         28.45157508738339,
         27.81529541267082,
         28.47141537303105,
         28.28532234299928,
         28.00108205433935,
         28.37071844935417,
         28.197664083447307,
         28.082367123104632,
         28.10914839617908,
         27.898776840418577,
         28.160335627384484,
         28.133039087988436,
         27.853237363509834,
         27.819459427613765,
         27.667801135219634,
         28.229436134919524,
         28.225673117209226,
         28.325086033903062,
         27.95724059501663,
         27.81570778368041,
         28.486975415144116,
         27.76093758875504,
         28.5345403207466,
         27.93985563982278,
         28.456472341902554,
         28.16223312029615,
         28.465690870769322,
         27.912006493657827,
         28.51162858027965,
         27.953827022574842,
         27.966806726995856,
         28.200393484905362,
         27.973058813251555,
         28.174035789445043,
         28.125984963960946,
         28.258486445061862,
         28.53058986272663,
         27.977395775727928,
         27.807651755400002,
         28.037046463694423,
         28.45486327074468,
         28.539729945361614
        ],
        [
         3.6606549324348205,
         3.7636040767629266,
         3.7750069688344206,
         3.726235951720501,
         3.8111059680946977,
         3.783618201481664,
         3.725894303688839,
         3.802935155088643,
         3.8717655161954005,
         3.6978217568966736,
         3.7994072388577056,
         3.732602015596204,
         3.7604169637458984,
         3.783443349735654,
         3.783506894821408,
         3.708036490189993,
         3.8153199388551178,
         3.7380792418746855,
         3.8210267479017253,
         3.8010912396464818,
         3.7292015495174997,
         3.8430609124710613,
         3.702972004851796,
         3.8163579077010206,
         3.8067121771681305,
         3.7861678444530606,
         3.8265455813364695,
         3.7632124102037983,
         3.75146981038545,
         3.7833580478364435,
         3.831404076539261,
         3.7243204877447966,
         3.7877155346873947,
         3.7293738431767225,
         3.745142791736918,
         3.7599470255299354,
         3.782441370311781,
         3.7436861468510085,
         3.790574071662608,
         3.7551722357968447,
         3.8178428461094516,
         3.732841910919319,
         3.770260881411915,
         3.805078789139876,
         3.730249953818352,
         3.740542980493589,
         3.8360542868027143,
         3.803269077879455,
         3.7083598007167233,
         3.738221830495524,
         3.8216672435887777,
         3.7438343397939073,
         3.7849306278137496,
         3.7222136900798146,
         3.7742627857229065,
         3.7752608536635743,
         3.767449203519405,
         3.7743425851776933,
         3.785300666042165,
         3.790962569143707,
         3.8563227261857236,
         3.8094445030230055,
         3.759773394027614,
         3.819772629888709,
         3.805326354159928,
         3.7701149475391245,
         3.7683885551408327,
         3.733912199217363,
         3.817301858414668,
         3.7958995931351676,
         3.7524930047694927,
         3.7523228528362824,
         3.6873072000995455,
         3.789557368567712,
         3.758841951704932,
         3.777126033984838,
         3.7642234818048865,
         3.7285266399187202,
         3.834461093000995,
         3.6994817869258316,
         3.795577142516798,
         3.796643375096451,
         3.836389841745561,
         3.7845279216662275,
         3.803619519267161,
         3.770579906587312,
         3.805564761695002,
         3.7593596215349563,
         3.752728925815229,
         3.767128462158503,
         3.7747916453331927,
         3.77022153009784,
         3.7844744440322353,
         3.767479699820967,
         3.7795401570271876,
         3.728299374750298,
         3.7193329985710935,
         3.756467045406452,
         3.8447227128382426,
         3.8076037699749117
        ]
       ],
       "encoder": "json",
       "name": "ABC_GAN_2 Metrics",
       "version": 1
      }
     },
     "metadata": {
      "scrapbook": {
       "data": true,
       "display": false,
       "name": "ABC_GAN_2 Metrics"
      }
     },
     "output_type": "display_data"
    },
    {
     "name": "stdout",
     "output_type": "stream",
     "text": [
      "MAE\n",
      "0.27544913621482386\n"
     ]
    }
   ],
   "source": [
    "ABC_GAN2_metrics=ABC_train_test2.test_generator(gen2,test_data,prior_model,variance,bias,\"1\",device)\n",
    "sb.glue(\"ABC_GAN_2 Metrics\",ABC_GAN2_metrics)\n",
    "\n",
    "print(\"MAE\")\n",
    "print(mean(ABC_GAN2_metrics[1]))"
   ]
  },
  {
   "cell_type": "code",
   "execution_count": 18,
   "id": "0e4caa78",
   "metadata": {
    "execution": {
     "iopub.execute_input": "2022-07-22T14:56:33.724861Z",
     "iopub.status.busy": "2022-07-22T14:56:33.724574Z",
     "iopub.status.idle": "2022-07-22T14:56:34.782791Z",
     "shell.execute_reply": "2022-07-22T14:56:34.782063Z"
    },
    "papermill": {
     "duration": 1.09494,
     "end_time": "2022-07-22T14:56:34.785372",
     "exception": false,
     "start_time": "2022-07-22T14:56:33.690432",
     "status": "completed"
    },
    "tags": []
   },
   "outputs": [
    {
     "data": {
      "image/png": "[encoded data removed]",
      "text/plain": [
       "<Figure size 432x288 with 1 Axes>"
      ]
     },
     "metadata": {
      "needs_background": "light"
     },
     "output_type": "display_data"
    },
    {
     "data": {
      "image/png": "[encoded data removed]",
      "text/plain": [
       "<Figure size 432x288 with 1 Axes>"
      ]
     },
     "metadata": {
      "needs_background": "light"
     },
     "output_type": "display_data"
    },
    {
     "data": {
      "image/png": "[encoded data removed]",
      "text/plain": [
       "<Figure size 432x288 with 1 Axes>"
      ]
     },
     "metadata": {
      "needs_background": "light"
     },
     "output_type": "display_data"
    },
    {
     "data": {
      "image/png": "[encoded data removed]",
      "text/plain": [
       "<Figure size 432x288 with 1 Axes>"
      ]
     },
     "metadata": {
      "needs_background": "light"
     },
     "output_type": "display_data"
    }
   ],
   "source": [
    "sanityChecks.discProbVsError(train_data,disc2,device)\n",
    "sanityChecks.discProbVsError(test_data,disc2,device)"
   ]
  },
  {
   "cell_type": "markdown",
   "id": "130f3a4d",
   "metadata": {
    "id": "130f3a4d",
    "papermill": {
     "duration": 0.032413,
     "end_time": "2022-07-22T14:56:34.854617",
     "exception": false,
     "start_time": "2022-07-22T14:56:34.822204",
     "status": "completed"
    },
    "tags": []
   },
   "source": [
    "# skipGAN Model"
   ]
  },
  {
   "cell_type": "code",
   "execution_count": 19,
   "id": "4e43dad1",
   "metadata": {
    "execution": {
     "iopub.execute_input": "2022-07-22T14:56:34.925757Z",
     "iopub.status.busy": "2022-07-22T14:56:34.925378Z",
     "iopub.status.idle": "2022-07-22T14:56:34.933368Z",
     "shell.execute_reply": "2022-07-22T14:56:34.932720Z"
    },
    "id": "4e43dad1",
    "papermill": {
     "duration": 0.047494,
     "end_time": "2022-07-22T14:56:34.935590",
     "exception": false,
     "start_time": "2022-07-22T14:56:34.888096",
     "status": "completed"
    },
    "tags": []
   },
   "outputs": [],
   "source": [
    "#Generator\n",
    "gen3 = network.GeneratorWithSkipConnection(n_features+1).to(device)\n",
    "constraints=network.weightConstraint()\n",
    "#Discriminator \n",
    "disc3 = network.Discriminator(n_features+1).to(device)\n",
    "\n",
    "criterion = torch.nn.BCELoss()\n",
    "gen_opt = torch.optim.Adam(gen3.parameters(), lr=0.01, betas=(0.5, 0.999))\n",
    "disc_opt = torch.optim.Adam(disc3.parameters(), lr=0.01, betas=(0.5, 0.999))\n"
   ]
  },
  {
   "cell_type": "code",
   "execution_count": 20,
   "id": "26acbc37",
   "metadata": {
    "execution": {
     "iopub.execute_input": "2022-07-22T14:56:35.002261Z",
     "iopub.status.busy": "2022-07-22T14:56:35.001979Z",
     "iopub.status.idle": "2022-07-22T15:03:23.239499Z",
     "shell.execute_reply": "2022-07-22T15:03:23.238074Z"
    },
    "id": "26acbc37",
    "papermill": {
     "duration": 408.276962,
     "end_time": "2022-07-22T15:03:23.244448",
     "exception": false,
     "start_time": "2022-07-22T14:56:34.967486",
     "status": "completed"
    },
    "tags": []
   },
   "outputs": [
    {
     "data": {
      "image/png": "[encoded data removed]",
      "text/plain": [
       "<Figure size 432x288 with 1 Axes>"
      ]
     },
     "metadata": {
      "needs_background": "light"
     },
     "output_type": "display_data"
    },
    {
     "data": {
      "image/png": "[encoded data removed]",
      "text/plain": [
       "<Figure size 432x288 with 1 Axes>"
      ]
     },
     "metadata": {
      "needs_background": "light"
     },
     "output_type": "display_data"
    }
   ],
   "source": [
    "ABC_train_test2.training_GAN_skip_connection(disc3,gen3,disc_opt,gen_opt,train_data,batch_size,n_epochs,criterion,prior_model,variance,bias,device)"
   ]
  },
  {
   "cell_type": "code",
   "execution_count": 21,
   "id": "c5e0717b",
   "metadata": {
    "execution": {
     "iopub.execute_input": "2022-07-22T15:03:23.329345Z",
     "iopub.status.busy": "2022-07-22T15:03:23.328366Z",
     "iopub.status.idle": "2022-07-22T15:03:26.394696Z",
     "shell.execute_reply": "2022-07-22T15:03:26.393998Z"
    },
    "id": "c5e0717b",
    "papermill": {
     "duration": 3.114398,
     "end_time": "2022-07-22T15:03:26.397619",
     "exception": false,
     "start_time": "2022-07-22T15:03:23.283221",
     "status": "completed"
    },
    "tags": []
   },
   "outputs": [
    {
     "data": {
      "application/scrapbook.scrap.json+json": {
       "data": 0.25611442540452756,
       "encoder": "json",
       "name": "ABC-GAN Model 3 MSE",
       "version": 1
      }
     },
     "metadata": {
      "scrapbook": {
       "data": true,
       "display": false,
       "name": "ABC-GAN Model 3 MSE"
      }
     },
     "output_type": "display_data"
    },
    {
     "data": {
      "application/scrapbook.scrap.json+json": {
       "data": 0.3089729870977702,
       "encoder": "json",
       "name": "ABC-GAN Model 3 MAE",
       "version": 1
      }
     },
     "metadata": {
      "scrapbook": {
       "data": true,
       "display": false,
       "name": "ABC-GAN Model 3 MAE"
      }
     },
     "output_type": "display_data"
    },
    {
     "data": {
      "application/scrapbook.scrap.json+json": {
       "data": 31.51524468397256,
       "encoder": "json",
       "name": "ABC-GAN Model 3 Manhattan Distance",
       "version": 1
      }
     },
     "metadata": {
      "scrapbook": {
       "data": true,
       "display": false,
       "name": "ABC-GAN Model 3 Manhattan Distance"
      }
     },
     "output_type": "display_data"
    },
    {
     "data": {
      "application/scrapbook.scrap.json+json": {
       "data": 5.111056740271343,
       "encoder": "json",
       "name": "ABC-GAN Model 3 Euclidean distance",
       "version": 1
      }
     },
     "metadata": {
      "scrapbook": {
       "data": true,
       "display": false,
       "name": "ABC-GAN Model 3 Euclidean distance"
      }
     },
     "output_type": "display_data"
    },
    {
     "data": {
      "application/scrapbook.scrap.json+json": {
       "data": [
        [
         0.25515583692474736,
         0.2571807097612597,
         0.2546408655125829,
         0.25481047095152803,
         0.25412823637587195,
         0.25949691603861325,
         0.2530195066681714,
         0.25474797893500684,
         0.25712628198475396,
         0.25696482592075975,
         0.25535904707884655,
         0.25845607868369347,
         0.256425190577549,
         0.25406141082744793,
         0.25230495558107796,
         0.25534909315360643,
         0.25326208639501224,
         0.2554105895052786,
         0.25313558720037754,
         0.26054581076950206,
         0.25939426540927607,
         0.26009470421712083,
         0.2594327637288058,
         0.2575184895903417,
         0.2538443773599381,
         0.25628274658628214,
         0.2555279144137696,
         0.2596582490488132,
         0.24993004277259806,
         0.25636151282991293,
         0.25436286988266665,
         0.25615591565258583,
         0.2553237227456592,
         0.2587175914743867,
         0.25280070776016644,
         0.25728443588034033,
         0.25841424128233,
         0.25703277241962064,
         0.2561479257066753,
         0.2552128204862645,
         0.2588451796054552,
         0.25808324035639724,
         0.2539380780282371,
         0.2640997459052333,
         0.25284140213754996,
         0.25962400427175214,
         0.2574313693168289,
         0.26213249988669773,
         0.2561768651056413,
         0.2549167019088869,
         0.25791541157803033,
         0.25308824575133027,
         0.2558157981769471,
         0.25640254035065585,
         0.25781686512302443,
         0.2612345469840624,
         0.25716613848838027,
         0.25599056060186987,
         0.25672548782750904,
         0.2504512455379352,
         0.2534688400800894,
         0.2593152211494835,
         0.2546999752407748,
         0.25700805412711225,
         0.25645508480868234,
         0.2544266672679377,
         0.25530564275440204,
         0.2510565604399451,
         0.2532402972644877,
         0.2538479447461446,
         0.2552752477691133,
         0.25768254061611806,
         0.25490383778351183,
         0.2565252583035693,
         0.2537251780051005,
         0.257583545105269,
         0.26081161330180597,
         0.2583257645934171,
         0.2586209449296346,
         0.2541596667547259,
         0.25706118810811224,
         0.25051115614679115,
         0.2538810508205797,
         0.26247022964540534,
         0.25297335440031743,
         0.2593105847597442,
         0.2545637141962538,
         0.2537340430945612,
         0.25538408261159334,
         0.25767791436983756,
         0.25815938916834147,
         0.25818417119089454,
         0.25577012628456924,
         0.25515016954758757,
         0.24956695790530056,
         0.2517339460387425,
         0.2622123837966144,
         0.25503390537690596,
         0.25532826137403475,
         0.2545225515395767
        ],
        [
         0.30820743777953524,
         0.31176132936140194,
         0.3075537363103792,
         0.30402333135990534,
         0.3060863521726181,
         0.30935059842087476,
         0.30124912646544333,
         0.3072811675111891,
         0.31420685923840924,
         0.30875476740994584,
         0.3061845490763731,
         0.313183445853236,
         0.3128582908733127,
         0.30844706051307275,
         0.304518288713606,
         0.3078015624892478,
         0.31002987616275457,
         0.30508032986236844,
         0.30592703901450424,
         0.3143337989572947,
         0.31426126818063066,
         0.31314683102947827,
         0.3114177522194736,
         0.3092234656671245,
         0.30958324385916486,
         0.31223073614962105,
         0.30558296222714526,
         0.316436002259234,
         0.3086216928832251,
         0.30881120185093847,
         0.30374028322779956,
         0.3112786859091298,
         0.3071517292912319,
         0.3095208250223568,
         0.3065570922221477,
         0.31203204090250475,
         0.3106889351928497,
         0.3076933528588829,
         0.3069831371928255,
         0.30948829908818737,
         0.3136827310127224,
         0.3119821925738863,
         0.3039179582459231,
         0.3140427321560827,
         0.30720979490490885,
         0.31454881775311616,
         0.3079946108947636,
         0.3126835591963255,
         0.3081279520000167,
         0.30645537143573165,
         0.31533259239193856,
         0.305018252177237,
         0.31159499567686855,
         0.3091745778242601,
         0.3083907628760618,
         0.3139935778316987,
         0.3060250701245797,
         0.30700129125376835,
         0.30723221769885106,
         0.3016689274934869,
         0.3089787294430768,
         0.31016615720684915,
         0.30826217146457957,
         0.3105878078050035,
         0.3077462951597922,
         0.3085070528254351,
         0.30799887813262494,
         0.30724880747570127,
         0.30897942616366875,
         0.3071155392327437,
         0.3071902567182905,
         0.30738921716407525,
         0.30800589263512224,
         0.3160597581105928,
         0.30270643697882654,
         0.3086921327163045,
         0.31350064366215874,
         0.3130612534142154,
         0.310444490162327,
         0.3028295260726237,
         0.31188134101274256,
         0.29968420301984044,
         0.30442369101094263,
         0.31126042825681177,
         0.30430706464411583,
         0.30951132291617495,
         0.30578342923784957,
         0.3056606325759169,
         0.3108066202132214,
         0.31319146884568766,
         0.313517225536463,
         0.3097284991778068,
         0.3142526592858428,
         0.3086421869823015,
         0.3027363814705727,
         0.30663989702531813,
         0.314717158008659,
         0.30787276066200553,
         0.31024593182419447,
         0.3095988652248885
        ],
        [
         31.437158653512597,
         31.799655594862998,
         31.370481103658676,
         31.010379798710346,
         31.220807921607047,
         31.553761038929224,
         30.727410899475217,
         31.34267908614129,
         32.04909964231774,
         31.492986275814474,
         31.230824005790055,
         31.94471147703007,
         31.911545669077896,
         31.46160017233342,
         31.06086544878781,
         31.395759373903275,
         31.623047368600965,
         31.118193645961583,
         31.204557979479432,
         32.06204749364406,
         32.05464935442433,
         31.94097676500678,
         31.76461072638631,
         31.540793498046696,
         31.577490873634815,
         31.84753508726135,
         31.169462147168815,
         32.27647223044187,
         31.479412674088962,
         31.49874258879572,
         30.981508889235556,
         31.750425962731242,
         31.329476387705654,
         31.57112415228039,
         31.268823406659067,
         31.827268172055483,
         31.69027138967067,
         31.384721991606057,
         31.3122799936682,
         31.56780650699511,
         31.99563856329769,
         31.8221836425364,
         30.99963174108416,
         32.032358679920435,
         31.335399080300704,
         32.08397941081785,
         31.415450311265886,
         31.8937230380252,
         31.4290511040017,
         31.25844788644463,
         32.16392442397773,
         31.111861722078174,
         31.78268955904059,
         31.53580693807453,
         31.455857813358307,
         32.02734493883327,
         31.21455715270713,
         31.31413170788437,
         31.337686205282807,
         30.770230604335666,
         31.51583040319383,
         31.636948035098612,
         31.442741489387117,
         31.679956396110356,
         31.390122106298804,
         31.467719388194382,
         31.415885569527745,
         31.33937836252153,
         31.51590146869421,
         31.32578500173986,
         31.33340618526563,
         31.353700150735676,
         31.416601048782468,
         32.23809532728046,
         30.87605657184031,
         31.486597537063062,
         31.977065653540194,
         31.932247848249972,
         31.665337996557355,
         30.888611659407616,
         31.811896783299744,
         30.567788708023727,
         31.05121648311615,
         31.7485636821948,
         31.039320593699813,
         31.570154937449843,
         31.189909782260656,
         31.177384522743523,
         31.702275261748582,
         31.94552982226014,
         31.978757004719228,
         31.592306916136295,
         32.053771247155964,
         31.481503072194755,
         30.879110909998417,
         31.27726949658245,
         32.10115011688322,
         31.403021587524563,
         31.645085046067834,
         31.579084252938628
        ],
        [
         5.101558131230519,
         5.121760673406019,
         5.096407389748533,
         5.098104357215126,
         5.0912749002915705,
         5.144772632093526,
         5.080156462172546,
         5.097479166349844,
         5.121218679420447,
         5.119610555883864,
         5.10358920780683,
         5.134444470995546,
         5.114232047816172,
         5.09060545558185,
         5.0729779685378045,
         5.103489737588178,
         5.082591151400164,
         5.1041042436002835,
         5.0813216680740165,
         5.155159813089136,
         5.143754958369047,
         5.150695082233691,
         5.144136652572342,
         5.125123016886019,
         5.088430651066562,
         5.112811374557131,
         5.105276414671835,
         5.14637167361423,
         5.049045886383387,
         5.113597002957029,
         5.093624714094276,
         5.1115460867103355,
         5.1032362006923835,
         5.137041398547168,
         5.0779594515451745,
         5.12279342349413,
         5.134028886829296,
         5.120287373458769,
         5.111466367108452,
         5.102127761003145,
         5.138307923797135,
         5.130739763070479,
         5.089369701532812,
         5.190199811407437,
         5.078368145185035,
         5.146032300298815,
         5.124256011394878,
         5.170833103905324,
         5.11175510375599,
         5.09916695105254,
         5.1290712591032595,
         5.080846491150435,
         5.10815146741447,
         5.1140061708768885,
         5.128091286487448,
         5.161968984057766,
         5.121615577707369,
         5.1098960049487046,
         5.117225787319328,
         5.054307771086896,
         5.084665346723334,
         5.142971179896628,
         5.096998869389617,
         5.120041163991306,
         5.114530149533346,
         5.094263446400239,
         5.103055512234705,
         5.060411956044132,
         5.082372509072682,
         5.088466405913156,
         5.10275173533355,
         5.1267552255636355,
         5.099038287159472,
         5.115229843024071,
         5.087235807048879,
         5.125770342176621,
         5.157788727428082,
         5.133149909025504,
         5.1360818123179,
         5.091589732979479,
         5.1205703966479605,
         5.0549122570992955,
         5.088798206227,
         5.174163065060024,
         5.079693115615585,
         5.142925203179015,
         5.095635274234006,
         5.087324679597838,
         5.103839380934957,
         5.126709204326246,
         5.131496633066305,
         5.131742926284524,
         5.107695456957673,
         5.101501474453764,
         5.045377062850769,
         5.067234205752851,
         5.171620940020127,
         5.100339042499471,
         5.103281557993008,
         5.095223278428221
        ]
       ],
       "encoder": "json",
       "name": "ABC_GAN_3 Metrics",
       "version": 1
      }
     },
     "metadata": {
      "scrapbook": {
       "data": true,
       "display": false,
       "name": "ABC_GAN_3 Metrics"
      }
     },
     "output_type": "display_data"
    },
    {
     "name": "stdout",
     "output_type": "stream",
     "text": [
      "MAE\n",
      "0.3089729870977702\n"
     ]
    }
   ],
   "source": [
    "ABC_GAN3_metrics=ABC_train_test2.test_generator(gen3,test_data,prior_model,variance,bias,\"3\",device)\n",
    "sb.glue(\"ABC_GAN_3 Metrics\",ABC_GAN3_metrics)\n",
    "\n",
    "print(\"MAE\")\n",
    "print(mean(ABC_GAN3_metrics[1]))"
   ]
  },
  {
   "cell_type": "code",
   "execution_count": 22,
   "id": "c8e46b48",
   "metadata": {
    "execution": {
     "iopub.execute_input": "2022-07-22T15:03:26.475307Z",
     "iopub.status.busy": "2022-07-22T15:03:26.475023Z",
     "iopub.status.idle": "2022-07-22T15:03:27.233714Z",
     "shell.execute_reply": "2022-07-22T15:03:27.232569Z"
    },
    "id": "c8e46b48",
    "papermill": {
     "duration": 0.797901,
     "end_time": "2022-07-22T15:03:27.236734",
     "exception": false,
     "start_time": "2022-07-22T15:03:26.438833",
     "status": "completed"
    },
    "tags": []
   },
   "outputs": [
    {
     "data": {
      "image/png": "[encoded data removed]",
      "text/plain": [
       "<Figure size 432x288 with 1 Axes>"
      ]
     },
     "metadata": {
      "needs_background": "light"
     },
     "output_type": "display_data"
    },
    {
     "data": {
      "image/png": "[encoded data removed]",
      "text/plain": [
       "<Figure size 432x288 with 1 Axes>"
      ]
     },
     "metadata": {
      "needs_background": "light"
     },
     "output_type": "display_data"
    },
    {
     "data": {
      "image/png": "[encoded data removed]",
      "text/plain": [
       "<Figure size 432x288 with 1 Axes>"
      ]
     },
     "metadata": {
      "needs_background": "light"
     },
     "output_type": "display_data"
    },
    {
     "data": {
      "image/png": "[encoded data removed]",
      "text/plain": [
       "<Figure size 432x288 with 1 Axes>"
      ]
     },
     "metadata": {
      "needs_background": "light"
     },
     "output_type": "display_data"
    }
   ],
   "source": [
    "sanityChecks.discProbVsError(train_data,disc3,device)\n",
    "sanityChecks.discProbVsError(test_data,disc3,device)"
   ]
  },
  {
   "cell_type": "markdown",
   "id": "b8e729dd",
   "metadata": {
    "id": "130f3a4d",
    "papermill": {
     "duration": 0.040852,
     "end_time": "2022-07-22T15:03:27.318683",
     "exception": false,
     "start_time": "2022-07-22T15:03:27.277831",
     "status": "completed"
    },
    "tags": []
   },
   "source": [
    "# skipGAN Model with TabNet Generator"
   ]
  },
  {
   "cell_type": "code",
   "execution_count": 23,
   "id": "44e08e7f",
   "metadata": {
    "execution": {
     "iopub.execute_input": "2022-07-22T15:03:27.394280Z",
     "iopub.status.busy": "2022-07-22T15:03:27.393872Z",
     "iopub.status.idle": "2022-07-22T15:03:27.413217Z",
     "shell.execute_reply": "2022-07-22T15:03:27.411936Z"
    },
    "id": "4e43dad1",
    "papermill": {
     "duration": 0.061045,
     "end_time": "2022-07-22T15:03:27.415552",
     "exception": false,
     "start_time": "2022-07-22T15:03:27.354507",
     "status": "completed"
    },
    "tags": []
   },
   "outputs": [],
   "source": [
    "#Generator\n",
    "gen4 = network.GeneratorTabnetskipConnection(n_features+1).to(device)\n",
    "constraints=network.weightConstraint()\n",
    "#Discriminator \n",
    "disc4 = network.Discriminator(n_features+1).to(device)\n",
    "\n",
    "criterion = torch.nn.BCELoss()\n",
    "gen_opt = torch.optim.Adam(gen4.parameters(), lr=0.01, betas=(0.5, 0.999))\n",
    "disc_opt = torch.optim.Adam(disc4.parameters(), lr=0.01, betas=(0.5, 0.999))\n"
   ]
  },
  {
   "cell_type": "code",
   "execution_count": 24,
   "id": "15435fe3",
   "metadata": {
    "execution": {
     "iopub.execute_input": "2022-07-22T15:03:27.837926Z",
     "iopub.status.busy": "2022-07-22T15:03:27.837649Z",
     "iopub.status.idle": "2022-07-22T15:16:31.779651Z",
     "shell.execute_reply": "2022-07-22T15:16:31.778148Z"
    },
    "id": "26acbc37",
    "papermill": {
     "duration": 783.988913,
     "end_time": "2022-07-22T15:16:31.783241",
     "exception": false,
     "start_time": "2022-07-22T15:03:27.794328",
     "status": "completed"
    },
    "tags": []
   },
   "outputs": [
    {
     "data": {
      "image/png": "[encoded data removed]",
      "text/plain": [
       "<Figure size 432x288 with 1 Axes>"
      ]
     },
     "metadata": {
      "needs_background": "light"
     },
     "output_type": "display_data"
    },
    {
     "data": {
      "image/png": "[encoded data removed]",
      "text/plain": [
       "<Figure size 432x288 with 1 Axes>"
      ]
     },
     "metadata": {
      "needs_background": "light"
     },
     "output_type": "display_data"
    }
   ],
   "source": [
    "ABC_train_test2.training_GAN_skip_connection(disc4,gen4,disc_opt,gen_opt,train_data,batch_size,n_epochs,criterion,prior_model,variance,bias,device)"
   ]
  },
  {
   "cell_type": "code",
   "execution_count": 25,
   "id": "d1a06873",
   "metadata": {
    "execution": {
     "iopub.execute_input": "2022-07-22T15:16:31.862606Z",
     "iopub.status.busy": "2022-07-22T15:16:31.862132Z",
     "iopub.status.idle": "2022-07-22T15:16:35.229041Z",
     "shell.execute_reply": "2022-07-22T15:16:35.228340Z"
    },
    "id": "c5e0717b",
    "papermill": {
     "duration": 3.410939,
     "end_time": "2022-07-22T15:16:35.231372",
     "exception": false,
     "start_time": "2022-07-22T15:16:31.820433",
     "status": "completed"
    },
    "tags": []
   },
   "outputs": [
    {
     "data": {
      "application/scrapbook.scrap.json+json": {
       "data": 0.20279891522668603,
       "encoder": "json",
       "name": "ABC-GAN Model 3 MSE",
       "version": 1
      }
     },
     "metadata": {
      "scrapbook": {
       "data": true,
       "display": false,
       "name": "ABC-GAN Model 3 MSE"
      }
     },
     "output_type": "display_data"
    },
    {
     "data": {
      "application/scrapbook.scrap.json+json": {
       "data": 0.2915406828648502,
       "encoder": "json",
       "name": "ABC-GAN Model 3 MAE",
       "version": 1
      }
     },
     "metadata": {
      "scrapbook": {
       "data": true,
       "display": false,
       "name": "ABC-GAN Model 3 MAE"
      }
     },
     "output_type": "display_data"
    },
    {
     "data": {
      "application/scrapbook.scrap.json+json": {
       "data": 29.737149652214722,
       "encoder": "json",
       "name": "ABC-GAN Model 3 Manhattan Distance",
       "version": 1
      }
     },
     "metadata": {
      "scrapbook": {
       "data": true,
       "display": false,
       "name": "ABC-GAN Model 3 Manhattan Distance"
      }
     },
     "output_type": "display_data"
    },
    {
     "data": {
      "application/scrapbook.scrap.json+json": {
       "data": 4.54585697863004,
       "encoder": "json",
       "name": "ABC-GAN Model 3 Euclidean distance",
       "version": 1
      }
     },
     "metadata": {
      "scrapbook": {
       "data": true,
       "display": false,
       "name": "ABC-GAN Model 3 Euclidean distance"
      }
     },
     "output_type": "display_data"
    },
    {
     "data": {
      "application/scrapbook.scrap.json+json": {
       "data": [
        [
         0.20896348214340443,
         0.19127442831310706,
         0.20606817424858073,
         0.18755986269263905,
         0.21261323317627778,
         0.17953664351172086,
         0.20320910945321274,
         0.1950765330140897,
         0.1720021502747326,
         0.2428829101212747,
         0.20887517955542528,
         0.2188333640136945,
         0.19868699107606422,
         0.15609651573812636,
         0.2134608212073521,
         0.19911636406107946,
         0.2064821077724942,
         0.17720719411323946,
         0.19897375115803076,
         0.19787702796913917,
         0.19993957974482415,
         0.2059453024452637,
         0.20019054366542285,
         0.20995923344849798,
         0.21081319065132434,
         0.20503160878568055,
         0.2099413723315034,
         0.2330687893625284,
         0.18326745963318108,
         0.2109340162140351,
         0.17939707709760702,
         0.22122847735813908,
         0.20673449293815124,
         0.2207451496155997,
         0.2057347346610419,
         0.21088177317994097,
         0.19615355530563705,
         0.1992222485658769,
         0.2048190217060559,
         0.20443445748611155,
         0.19542881951000238,
         0.1966252704413335,
         0.20977822649063588,
         0.19327344850975264,
         0.20150652648522294,
         0.2004988976343445,
         0.18897323388670018,
         0.19908603121944332,
         0.21651619480360212,
         0.19510968740637766,
         0.19267347585497585,
         0.2107895167900215,
         0.2166225530811992,
         0.20023040599359662,
         0.20186416670423973,
         0.21032153473382614,
         0.17858478034032804,
         0.19518709557134095,
         0.19717130827916493,
         0.18948432669336646,
         0.1926547853962638,
         0.19887352870806424,
         0.21695108912707892,
         0.2140262660306687,
         0.21119876083491404,
         0.20021081831499082,
         0.19308480107858014,
         0.20409970793294518,
         0.21326211812707896,
         0.2020277401050834,
         0.1785903790962773,
         0.18948029621570012,
         0.20775412596619766,
         0.19568928029315377,
         0.2060916599324755,
         0.19658533158799454,
         0.2068880726879227,
         0.22565752219097393,
         0.19697995307987498,
         0.2041988077344101,
         0.21831335148595557,
         0.20085887771409797,
         0.20316674915426758,
         0.21105208423762248,
         0.20689191461733572,
         0.21331698094090104,
         0.22077139521860556,
         0.20238327023916028,
         0.1813596981472299,
         0.2043116526501739,
         0.21357387484569973,
         0.2053244489372843,
         0.20880508758894645,
         0.20360891127996694,
         0.1897320109667877,
         0.2052145047052897,
         0.21594411280280407,
         0.21732421387802744,
         0.2084211820652883,
         0.21224872851292761
        ],
        [
         0.2947275817083816,
         0.28291304658769684,
         0.28334944900673104,
         0.29066559335436015,
         0.2879733319357768,
         0.28412958739471494,
         0.28849149841413485,
         0.2697756847311907,
         0.2797542102726213,
         0.30702899253068894,
         0.2977879541268682,
         0.3083309466475804,
         0.3063113548354629,
         0.27993146234246735,
         0.3003650396130979,
         0.28205844965379906,
         0.2910339261916484,
         0.2829639027716921,
         0.27542697953279405,
         0.2900271953594889,
         0.29178562125775453,
         0.2885741883907102,
         0.289717294504026,
         0.2967870224760297,
         0.2962452258239044,
         0.28840361284457294,
         0.299744080122122,
         0.30941859409030453,
         0.2834242067628485,
         0.2950437023925285,
         0.2862522034796284,
         0.30567896799823524,
         0.29254798789271247,
         0.3077531468725818,
         0.2896625337592673,
         0.2908343784419783,
         0.2880254960618913,
         0.2894782122936757,
         0.30630741020956753,
         0.28986097696036395,
         0.28246399952902224,
         0.2895371142646992,
         0.2903831288601984,
         0.2873056109209417,
         0.2870695362433645,
         0.2920024591571122,
         0.27765165184460144,
         0.2924335129175554,
         0.29805038262195155,
         0.28667399845104297,
         0.28056491877628015,
         0.2913461728112809,
         0.3019402987031522,
         0.28645376885748086,
         0.28470571352826324,
         0.29617250881468254,
         0.28642504155526266,
         0.28282761094434294,
         0.2820229507507939,
         0.2809518807494611,
         0.28416355488383593,
         0.2878291851877436,
         0.3033831315023788,
         0.30003098403012346,
         0.29581910535218375,
         0.29012725351597457,
         0.2822714300333139,
         0.28978489583139033,
         0.304407831838391,
         0.2806436981293647,
         0.2927734066513093,
         0.267488994389115,
         0.2947663733023493,
         0.28634847301588046,
         0.29424906070070234,
         0.29197121275515825,
         0.2858025823245008,
         0.31198175548228857,
         0.2836041383938316,
         0.28627368220694216,
         0.2959038481463258,
         0.2896852546334997,
         0.30063990170282184,
         0.29262807551661835,
         0.2982892331521155,
         0.29691120135762233,
         0.30926213386998164,
         0.2808238754651564,
         0.289272859610398,
         0.28871976946681444,
         0.29985673227986576,
         0.2986894060455847,
         0.3043474403538686,
         0.29250772760304455,
         0.28172923205420375,
         0.29233251235393043,
         0.30152291171800566,
         0.29860964096973047,
         0.29973245696073364,
         0.3033100137505315
        ],
        [
         30.06221333425492,
         28.85713075194508,
         28.901643798686564,
         29.647890522144735,
         29.373279857449234,
         28.981217914260924,
         29.426132838241756,
         27.51711984258145,
         28.53492944780737,
         31.31695723813027,
         30.374371320940554,
         31.449756558053195,
         31.243758193217218,
         28.553009158931673,
         30.637234040535986,
         28.769961864687502,
         29.68546047154814,
         28.86231808271259,
         28.093551912344992,
         29.58277392666787,
         29.76213336829096,
         29.43456721585244,
         29.55116403941065,
         30.272276292555034,
         30.217013034038246,
         29.41716851014644,
         30.573896172456443,
         31.560696597211063,
         28.90926908981055,
         30.094457644037902,
         29.197724754922092,
         31.179254735819995,
         29.83989476505667,
         31.390820981003344,
         29.545578443445265,
         29.66510660108179,
         29.378600598312914,
         29.526777653954923,
         31.243355841375887,
         29.56581964995712,
         28.811327951960266,
         29.532785654999316,
         29.619079143740237,
         29.305172313936055,
         29.28109269682318,
         29.784250834025443,
         28.320468488149345,
         29.828218317590654,
         30.401139027439058,
         29.240747842006385,
         28.617621715180576,
         29.717309626750648,
         30.797910467721522,
         29.218284423463047,
         29.03998277988285,
         30.20959589909762,
         29.21535423863679,
         28.848416316322982,
         28.766340976580977,
         28.657091836445034,
         28.984682598151267,
         29.358576889149845,
         30.945079413242638,
         30.60316037107259,
         30.173548745922744,
         29.592979858629405,
         28.791685863398015,
         29.558059374801815,
         31.04959884751588,
         28.625657209195197,
         29.86288747843355,
         27.28387742768973,
         30.066170076839626,
         29.207544247619808,
         30.013404191471636,
         29.78106370102614,
         29.151863397099078,
         31.822139059193432,
         28.927622116170824,
         29.1999155851081,
         30.182192510925233,
         29.54789597261697,
         30.665269973687828,
         29.84806370269507,
         30.425501781515777,
         30.28494253847748,
         31.544737654738128,
         28.644035297445953,
         29.5058316802606,
         29.449416485615075,
         30.585386692546308,
         30.46631941664964,
         31.0434389160946,
         29.835788215510547,
         28.736381669528782,
         29.8179162601009,
         30.755336995236576,
         30.45818337891251,
         30.57271060999483,
         30.937621402554214
        ],
        [
         4.616738586776085,
         4.417011624156871,
         4.584643254753332,
         4.373911978383788,
         4.656881980894548,
         4.27933845800908,
         4.552727661987667,
         4.460695726838712,
         4.188582018777084,
         4.9773544009212385,
         4.615763026266987,
         4.724510887848269,
         4.5017855446209945,
         3.9902186162275473,
         4.666155137064124,
         4.50664721652695,
         4.589245579917729,
         4.251486069546792,
         4.505033031856608,
         4.492600232922154,
         4.51595362398376,
         4.583276213519854,
         4.518786944952498,
         4.62772533884054,
         4.637126852527875,
         4.5730978664510795,
         4.627528495624133,
         4.875758045163633,
         4.323572698889712,
         4.638455524615018,
         4.277674819800579,
         4.750295221407842,
         4.592049463985708,
         4.745103292952764,
         4.580932539934011,
         4.637881074839455,
         4.472992582284815,
         4.507845311644959,
         4.570726442702265,
         4.566433473027214,
         4.464721669938703,
         4.478367736688895,
         4.625730115564986,
         4.440032854382361,
         4.533615080870093,
         4.522265754984236,
         4.390361016641276,
         4.506303938305007,
         4.699431015555757,
         4.461074771335997,
         4.433135970981213,
         4.636866475604209,
         4.700585114034457,
         4.519236817356096,
         4.537636499746586,
         4.631716371157701,
         4.267979333913586,
         4.461959630955525,
         4.484581746882848,
         4.3962940441607605,
         4.432920945654108,
         4.503898303494713,
         4.70414828539259,
         4.672331231315713,
         4.641365489288818,
         4.519015763208738,
         4.437865445235488,
         4.562693306497864,
         4.663982852558749,
         4.539474583111851,
         4.268046235436103,
         4.396247287630827,
         4.603359734862371,
         4.46769589272834,
         4.584904504252242,
         4.4779128868229945,
         4.593754827389911,
         4.79761057855672,
         4.48240507028841,
         4.563800870865186,
         4.718894134388635,
         4.526323621531938,
         4.5522531139794165,
         4.639753505547196,
         4.593797480404229,
         4.6645827311745585,
         4.74538537026212,
         4.5434671303305745,
         4.30101025469801,
         4.5650617268902,
         4.6673906237062885,
         4.5763625065769205,
         4.614988508552598,
         4.557204071638292,
         4.399166411788982,
         4.575137099578498,
         4.693218459211761,
         4.708191777695424,
         4.610744036558461,
         4.652888383393547
        ]
       ],
       "encoder": "json",
       "name": "ABC_GAN_4 Metrics",
       "version": 1
      }
     },
     "metadata": {
      "scrapbook": {
       "data": true,
       "display": false,
       "name": "ABC_GAN_4 Metrics"
      }
     },
     "output_type": "display_data"
    },
    {
     "name": "stdout",
     "output_type": "stream",
     "text": [
      "MAE\n",
      "0.2915406828648502\n"
     ]
    }
   ],
   "source": [
    "ABC_GAN4_metrics=ABC_train_test2.test_generator(gen4,test_data,prior_model,variance,bias,\"3\",device)\n",
    "sb.glue(\"ABC_GAN_4 Metrics\",ABC_GAN4_metrics)\n",
    "\n",
    "print(\"MAE\")\n",
    "print(mean(ABC_GAN4_metrics[1]))"
   ]
  },
  {
   "cell_type": "code",
   "execution_count": 26,
   "id": "2f26d606",
   "metadata": {
    "execution": {
     "iopub.execute_input": "2022-07-22T15:16:35.313503Z",
     "iopub.status.busy": "2022-07-22T15:16:35.313201Z",
     "iopub.status.idle": "2022-07-22T15:16:36.160073Z",
     "shell.execute_reply": "2022-07-22T15:16:36.159426Z"
    },
    "id": "c8e46b48",
    "papermill": {
     "duration": 0.89388,
     "end_time": "2022-07-22T15:16:36.162703",
     "exception": false,
     "start_time": "2022-07-22T15:16:35.268823",
     "status": "completed"
    },
    "tags": []
   },
   "outputs": [
    {
     "data": {
      "image/png": "[encoded data removed]",
      "text/plain": [
       "<Figure size 432x288 with 1 Axes>"
      ]
     },
     "metadata": {
      "needs_background": "light"
     },
     "output_type": "display_data"
    },
    {
     "data": {
      "image/png": "[encoded data removed]",
      "text/plain": [
       "<Figure size 432x288 with 1 Axes>"
      ]
     },
     "metadata": {
      "needs_background": "light"
     },
     "output_type": "display_data"
    },
    {
     "data": {
      "image/png": "[encoded data removed]",
      "text/plain": [
       "<Figure size 432x288 with 1 Axes>"
      ]
     },
     "metadata": {
      "needs_background": "light"
     },
     "output_type": "display_data"
    },
    {
     "data": {
      "image/png": "[encoded data removed]",
      "text/plain": [
       "<Figure size 432x288 with 1 Axes>"
      ]
     },
     "metadata": {
      "needs_background": "light"
     },
     "output_type": "display_data"
    }
   ],
   "source": [
    "sanityChecks.discProbVsError(train_data,disc4,device)\n",
    "sanityChecks.discProbVsError(test_data,disc4,device)"
   ]
  },
  {
   "cell_type": "markdown",
   "id": "a5bd74c3",
   "metadata": {
    "id": "a5bd74c3",
    "papermill": {
     "duration": 0.041717,
     "end_time": "2022-07-22T15:16:36.255110",
     "exception": false,
     "start_time": "2022-07-22T15:16:36.213393",
     "status": "completed"
    },
    "tags": []
   },
   "source": [
    "## Skip Connection Model Analysis - ABC-GAN "
   ]
  },
  {
   "cell_type": "markdown",
   "id": "5744a8bf",
   "metadata": {
    "id": "5744a8bf",
    "papermill": {
     "duration": 0.039442,
     "end_time": "2022-07-22T15:16:36.334366",
     "exception": false,
     "start_time": "2022-07-22T15:16:36.294924",
     "status": "completed"
    },
    "tags": []
   },
   "source": [
    "### Weight Analysis \n",
    "\n",
    "Study the weights of the skip connection layer\n",
    "\n",
    "Equation of the skip connection is \n",
    "\n",
    "$output = y_{gan} * w + y_{abc} * (1-w)$"
   ]
  },
  {
   "cell_type": "code",
   "execution_count": 27,
   "id": "52c31dea",
   "metadata": {
    "execution": {
     "iopub.execute_input": "2022-07-22T15:16:36.419415Z",
     "iopub.status.busy": "2022-07-22T15:16:36.419142Z",
     "iopub.status.idle": "2022-07-22T15:16:36.446725Z",
     "shell.execute_reply": "2022-07-22T15:16:36.445974Z"
    },
    "id": "52c31dea",
    "papermill": {
     "duration": 0.071753,
     "end_time": "2022-07-22T15:16:36.448987",
     "exception": false,
     "start_time": "2022-07-22T15:16:36.377234",
     "status": "completed"
    },
    "tags": []
   },
   "outputs": [
    {
     "name": "stdout",
     "output_type": "stream",
     "text": [
      "Weight of the node at skip connection\n",
      "Parameter containing:\n",
      "tensor([[0.9857]], requires_grad=True)\n"
     ]
    },
    {
     "data": {
      "application/scrapbook.scrap.json+json": {
       "data": 0.9856815934181213,
       "encoder": "json",
       "name": "Skip Connection Weight",
       "version": 1
      }
     },
     "metadata": {
      "scrapbook": {
       "data": true,
       "display": false,
       "name": "Skip Connection Weight"
      }
     },
     "output_type": "display_data"
    }
   ],
   "source": [
    "print(\"Weight of the node at skip connection\")\n",
    "for name,param in gen3.named_parameters():\n",
    "    if(name == \"skipNode.weight\"):\n",
    "        print(param)\n",
    "        sb.glue(\"Skip Connection Weight\",param.item())"
   ]
  },
  {
   "cell_type": "markdown",
   "id": "37445a58",
   "metadata": {
    "id": "a5bd74c3",
    "papermill": {
     "duration": 0.050752,
     "end_time": "2022-07-22T15:16:36.538274",
     "exception": false,
     "start_time": "2022-07-22T15:16:36.487522",
     "status": "completed"
    },
    "tags": []
   },
   "source": [
    "## skipGAN Model Analysis (TabNet Generator) "
   ]
  },
  {
   "cell_type": "markdown",
   "id": "fc98cf91",
   "metadata": {
    "id": "5744a8bf",
    "papermill": {
     "duration": 0.05434,
     "end_time": "2022-07-22T15:16:36.642154",
     "exception": false,
     "start_time": "2022-07-22T15:16:36.587814",
     "status": "completed"
    },
    "tags": []
   },
   "source": [
    "### Weight Analysis \n",
    "\n",
    "Study the weights of the skip connection layer\n",
    "\n",
    "Equation of the skip connection is \n",
    "\n",
    "$output = y_{gan} * w + y_{abc} * (1-w)$"
   ]
  },
  {
   "cell_type": "code",
   "execution_count": 28,
   "id": "93be91d8",
   "metadata": {
    "execution": {
     "iopub.execute_input": "2022-07-22T15:16:36.727082Z",
     "iopub.status.busy": "2022-07-22T15:16:36.726835Z",
     "iopub.status.idle": "2022-07-22T15:16:36.735723Z",
     "shell.execute_reply": "2022-07-22T15:16:36.735117Z"
    },
    "id": "52c31dea",
    "papermill": {
     "duration": 0.052163,
     "end_time": "2022-07-22T15:16:36.737737",
     "exception": false,
     "start_time": "2022-07-22T15:16:36.685574",
     "status": "completed"
    },
    "tags": []
   },
   "outputs": [
    {
     "name": "stdout",
     "output_type": "stream",
     "text": [
      "Weight of the node at skip connection\n",
      "Parameter containing:\n",
      "tensor([[0.8586]], requires_grad=True)\n"
     ]
    },
    {
     "data": {
      "application/scrapbook.scrap.json+json": {
       "data": 0.858554482460022,
       "encoder": "json",
       "name": "Skip Connection Weight",
       "version": 1
      }
     },
     "metadata": {
      "scrapbook": {
       "data": true,
       "display": false,
       "name": "Skip Connection Weight"
      }
     },
     "output_type": "display_data"
    }
   ],
   "source": [
    "print(\"Weight of the node at skip connection\")\n",
    "for name,param in gen4.named_parameters():\n",
    "    if(name == \"skipNode.weight\"):\n",
    "        print(param)\n",
    "        sb.glue(\"Skip Connection Weight\",param.item())"
   ]
  }
 ],
 "metadata": {
  "colab": {
   "collapsed_sections": [],
   "name": "ABC_GAN_Model-Catboost_Pre-gen.ipynb",
   "provenance": []
  },
  "interpreter": {
   "hash": "31f2aee4e71d21fbe5cf8b01ff0e069b9275f58929596ceb00d14d90e3e16cd6"
  },
  "kernelspec": {
   "display_name": "Python 3 (ipykernel)",
   "language": "python",
   "name": "python3"
  },
  "language_info": {
   "codemirror_mode": {
    "name": "ipython",
    "version": 3
   },
   "file_extension": ".py",
   "mimetype": "text/x-python",
   "name": "python",
   "nbconvert_exporter": "python",
   "pygments_lexer": "ipython3",
   "version": "3.8.13"
  },
  "papermill": {
   "default_parameters": {},
   "duration": 2220.784506,
   "end_time": "2022-07-22T15:16:38.174939",
   "environment_variables": {},
   "exception": null,
   "input_path": "ABC_GAN-TabNet.ipynb",
   "output_path": "./ABC_GAN_TabNet/ABC-GAN_output_1_9.ipynb",
   "parameters": {
    "bias": 0,
    "variance": 1
   },
   "start_time": "2022-07-22T14:39:37.390433",
   "version": "2.3.3"
  }
 },
 "nbformat": 4,
 "nbformat_minor": 5
}