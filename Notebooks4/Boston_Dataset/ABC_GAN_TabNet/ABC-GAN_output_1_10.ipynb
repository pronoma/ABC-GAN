{
 "cells": [
  {
   "cell_type": "markdown",
   "id": "622780e6",
   "metadata": {
    "id": "622780e6",
    "papermill": {
     "duration": 0.013348,
     "end_time": "2022-07-22T15:16:44.924802",
     "exception": false,
     "start_time": "2022-07-22T15:16:44.911454",
     "status": "completed"
    },
    "tags": []
   },
   "source": [
    "## Import Libraries "
   ]
  },
  {
   "cell_type": "code",
   "execution_count": 1,
   "id": "a62397e3",
   "metadata": {
    "execution": {
     "iopub.execute_input": "2022-07-22T15:16:44.952241Z",
     "iopub.status.busy": "2022-07-22T15:16:44.949738Z",
     "iopub.status.idle": "2022-07-22T15:16:44.974162Z",
     "shell.execute_reply": "2022-07-22T15:16:44.969927Z"
    },
    "id": "a62397e3",
    "papermill": {
     "duration": 0.04607,
     "end_time": "2022-07-22T15:16:44.979671",
     "exception": false,
     "start_time": "2022-07-22T15:16:44.933601",
     "status": "completed"
    },
    "tags": []
   },
   "outputs": [],
   "source": [
    "import warnings\n",
    "import sys\n",
    "sys.path.insert(0, '../../src')\n",
    "warnings.filterwarnings('ignore')"
   ]
  },
  {
   "cell_type": "code",
   "execution_count": 2,
   "id": "d6a4e155",
   "metadata": {
    "execution": {
     "iopub.execute_input": "2022-07-22T15:16:44.997606Z",
     "iopub.status.busy": "2022-07-22T15:16:44.997135Z",
     "iopub.status.idle": "2022-07-22T15:16:52.667729Z",
     "shell.execute_reply": "2022-07-22T15:16:52.657005Z"
    },
    "id": "d6a4e155",
    "papermill": {
     "duration": 7.684893,
     "end_time": "2022-07-22T15:16:52.671991",
     "exception": false,
     "start_time": "2022-07-22T15:16:44.987098",
     "status": "completed"
    },
    "tags": []
   },
   "outputs": [],
   "source": [
    "import ABC_train_test2\n",
    "import bostonDataset\n",
    "import network\n",
    "import dataset\n",
    "import sanityChecks\n",
    "import torch \n",
    "import scrapbook as sb\n",
    "from statistics import mean \n",
    "import catboost as ctb \n",
    "from sklearn.model_selection import train_test_split\n",
    "from sklearn.metrics import mean_squared_error,mean_absolute_error\n",
    "import numpy as np\n",
    "from pytorch_tabnet.tab_model import TabNetRegressor"
   ]
  },
  {
   "cell_type": "markdown",
   "id": "2fa5b0f7",
   "metadata": {
    "id": "2fa5b0f7",
    "papermill": {
     "duration": 0.008942,
     "end_time": "2022-07-22T15:16:52.707616",
     "exception": false,
     "start_time": "2022-07-22T15:16:52.698674",
     "status": "completed"
    },
    "tags": []
   },
   "source": [
    "## Parameters "
   ]
  },
  {
   "cell_type": "code",
   "execution_count": 3,
   "id": "783186fb",
   "metadata": {
    "execution": {
     "iopub.execute_input": "2022-07-22T15:16:52.756854Z",
     "iopub.status.busy": "2022-07-22T15:16:52.756511Z",
     "iopub.status.idle": "2022-07-22T15:16:52.762565Z",
     "shell.execute_reply": "2022-07-22T15:16:52.761481Z"
    },
    "id": "783186fb",
    "papermill": {
     "duration": 0.06883,
     "end_time": "2022-07-22T15:16:52.783969",
     "exception": false,
     "start_time": "2022-07-22T15:16:52.715139",
     "status": "completed"
    },
    "tags": [
     "parameters"
    ]
   },
   "outputs": [],
   "source": [
    "variance = 1\n",
    "bias = 1 "
   ]
  },
  {
   "cell_type": "code",
   "execution_count": 4,
   "id": "38b7873e",
   "metadata": {
    "execution": {
     "iopub.execute_input": "2022-07-22T15:16:52.801930Z",
     "iopub.status.busy": "2022-07-22T15:16:52.801435Z",
     "iopub.status.idle": "2022-07-22T15:16:52.831594Z",
     "shell.execute_reply": "2022-07-22T15:16:52.829966Z"
    },
    "papermill": {
     "duration": 0.04222,
     "end_time": "2022-07-22T15:16:52.834390",
     "exception": false,
     "start_time": "2022-07-22T15:16:52.792170",
     "status": "completed"
    },
    "tags": [
     "injected-parameters"
    ]
   },
   "outputs": [],
   "source": [
    "# Parameters\n",
    "variance = 0.1\n",
    "bias = 0\n"
   ]
  },
  {
   "cell_type": "markdown",
   "id": "391cdbfd",
   "metadata": {
    "id": "391cdbfd",
    "papermill": {
     "duration": 0.010815,
     "end_time": "2022-07-22T15:16:52.860870",
     "exception": false,
     "start_time": "2022-07-22T15:16:52.850055",
     "status": "completed"
    },
    "tags": []
   },
   "source": [
    "## Dataset \n"
   ]
  },
  {
   "cell_type": "code",
   "execution_count": 5,
   "id": "5b51f161",
   "metadata": {
    "execution": {
     "iopub.execute_input": "2022-07-22T15:16:52.883199Z",
     "iopub.status.busy": "2022-07-22T15:16:52.882815Z",
     "iopub.status.idle": "2022-07-22T15:16:52.887698Z",
     "shell.execute_reply": "2022-07-22T15:16:52.886980Z"
    },
    "id": "5b51f161",
    "papermill": {
     "duration": 0.019792,
     "end_time": "2022-07-22T15:16:52.890097",
     "exception": false,
     "start_time": "2022-07-22T15:16:52.870305",
     "status": "completed"
    },
    "tags": []
   },
   "outputs": [],
   "source": [
    "#Parameters \n",
    "n_features = 13\n",
    "n_samples= 506\n",
    "n_target = 1 "
   ]
  },
  {
   "cell_type": "code",
   "execution_count": 6,
   "id": "5d6eced4",
   "metadata": {
    "execution": {
     "iopub.execute_input": "2022-07-22T15:16:52.908057Z",
     "iopub.status.busy": "2022-07-22T15:16:52.907674Z",
     "iopub.status.idle": "2022-07-22T15:16:52.934069Z",
     "shell.execute_reply": "2022-07-22T15:16:52.933432Z"
    },
    "id": "5d6eced4",
    "papermill": {
     "duration": 0.03847,
     "end_time": "2022-07-22T15:16:52.936561",
     "exception": false,
     "start_time": "2022-07-22T15:16:52.898091",
     "status": "completed"
    },
    "tags": []
   },
   "outputs": [
    {
     "name": "stdout",
     "output_type": "stream",
     "text": [
      "         X1        X2        X3        X4        X5        X6        X7  \\\n",
      "0 -0.419782  0.284830 -1.287909 -0.272599 -0.144217  0.413672 -0.120013   \n",
      "1 -0.417339 -0.487722 -0.593381 -0.272599 -0.740262  0.194274  0.367166   \n",
      "2 -0.417342 -0.487722 -0.593381 -0.272599 -0.740262  1.282714 -0.265812   \n",
      "3 -0.416750 -0.487722 -1.306878 -0.272599 -0.835284  1.016303 -0.809889   \n",
      "4 -0.412482 -0.487722 -1.306878 -0.272599 -0.835284  1.228577 -0.511180   \n",
      "\n",
      "         X8        X9       X10       X11       X12       X13         Y  \n",
      "0  0.140214 -0.982843 -0.666608 -1.459000  0.441052 -1.075562  0.159686  \n",
      "1  0.557160 -0.867883 -0.987329 -0.303094  0.441052 -0.492439 -0.101524  \n",
      "2  0.557160 -0.867883 -0.987329 -0.303094  0.396427 -1.208727  1.324247  \n",
      "3  1.077737 -0.752922 -1.106115  0.113032  0.416163 -1.361517  1.182758  \n",
      "4  1.077737 -0.752922 -1.106115  0.113032  0.441052 -1.026501  1.487503  \n"
     ]
    }
   ],
   "source": [
    "X,Y = bostonDataset.boston_data()"
   ]
  },
  {
   "cell_type": "code",
   "execution_count": 7,
   "id": "fe007438",
   "metadata": {
    "execution": {
     "iopub.execute_input": "2022-07-22T15:16:52.953136Z",
     "iopub.status.busy": "2022-07-22T15:16:52.952845Z",
     "iopub.status.idle": "2022-07-22T15:16:52.957937Z",
     "shell.execute_reply": "2022-07-22T15:16:52.957261Z"
    },
    "id": "fe007438",
    "papermill": {
     "duration": 0.016247,
     "end_time": "2022-07-22T15:16:52.960224",
     "exception": false,
     "start_time": "2022-07-22T15:16:52.943977",
     "status": "completed"
    },
    "tags": []
   },
   "outputs": [],
   "source": [
    "#Train test split for dataset \n",
    "X_train,X_test,Y_train,Y_test = train_test_split(X,Y,test_size = 0.2)\n",
    "train_data = dataset.CustomDataset(X_train,Y_train)\n",
    "test_data = dataset.CustomDataset(X_test,Y_test)\n"
   ]
  },
  {
   "cell_type": "markdown",
   "id": "a9a1af34",
   "metadata": {
    "id": "a9a1af34",
    "papermill": {
     "duration": 0.008237,
     "end_time": "2022-07-22T15:16:52.976138",
     "exception": false,
     "start_time": "2022-07-22T15:16:52.967901",
     "status": "completed"
    },
    "tags": []
   },
   "source": [
    "## Training Parameters "
   ]
  },
  {
   "cell_type": "code",
   "execution_count": 8,
   "id": "952b7fc8",
   "metadata": {
    "execution": {
     "iopub.execute_input": "2022-07-22T15:16:52.991554Z",
     "iopub.status.busy": "2022-07-22T15:16:52.991260Z",
     "iopub.status.idle": "2022-07-22T15:16:52.995399Z",
     "shell.execute_reply": "2022-07-22T15:16:52.994735Z"
    },
    "id": "952b7fc8",
    "papermill": {
     "duration": 0.01428,
     "end_time": "2022-07-22T15:16:52.997676",
     "exception": false,
     "start_time": "2022-07-22T15:16:52.983396",
     "status": "completed"
    },
    "tags": []
   },
   "outputs": [],
   "source": [
    "batch_size = 32\n",
    "n_epochs = 1000\n",
    "#Select the device \n",
    "device = torch.device('cuda' if torch.cuda.is_available() else 'cpu')"
   ]
  },
  {
   "cell_type": "markdown",
   "id": "a95e1600",
   "metadata": {
    "id": "a95e1600",
    "papermill": {
     "duration": 0.006818,
     "end_time": "2022-07-22T15:16:53.011225",
     "exception": false,
     "start_time": "2022-07-22T15:16:53.004407",
     "status": "completed"
    },
    "tags": []
   },
   "source": [
    "# ABC Pre-generator Model \n",
    "\n",
    "1. The catboost model is used as a pre-generator model for the ABC-GAN. \n",
    "2. The model is first trained on the entire dataset \n",
    "3. It generats X,Y pairs and we add some Gaussian noise with mean 0 and variance 1 to it which is then feed as input to the generator.\n"
   ]
  },
  {
   "cell_type": "code",
   "execution_count": 9,
   "id": "ff8ce7bd",
   "metadata": {
    "execution": {
     "iopub.execute_input": "2022-07-22T15:16:53.025319Z",
     "iopub.status.busy": "2022-07-22T15:16:53.025020Z",
     "iopub.status.idle": "2022-07-22T15:18:58.573932Z",
     "shell.execute_reply": "2022-07-22T15:18:58.573038Z"
    },
    "id": "ff8ce7bd",
    "papermill": {
     "duration": 125.559058,
     "end_time": "2022-07-22T15:18:58.576858",
     "exception": false,
     "start_time": "2022-07-22T15:16:53.017800",
     "status": "completed"
    },
    "tags": []
   },
   "outputs": [
    {
     "name": "stdout",
     "output_type": "stream",
     "text": [
      "Device used : cpu\n"
     ]
    },
    {
     "name": "stdout",
     "output_type": "stream",
     "text": [
      "epoch 0  | loss: 2.27752 | train_mse: 1.10864 | train_mae: 0.75683 |  0:00:00s\n"
     ]
    },
    {
     "name": "stdout",
     "output_type": "stream",
     "text": [
      "epoch 1  | loss: 0.98543 | train_mse: 0.87879 | train_mae: 0.64724 |  0:00:00s\n"
     ]
    },
    {
     "name": "stdout",
     "output_type": "stream",
     "text": [
      "epoch 2  | loss: 0.82338 | train_mse: 0.67887 | train_mae: 0.52067 |  0:00:01s\n"
     ]
    },
    {
     "name": "stdout",
     "output_type": "stream",
     "text": [
      "epoch 3  | loss: 0.60523 | train_mse: 0.45837 | train_mae: 0.46866 |  0:00:01s\n"
     ]
    },
    {
     "name": "stdout",
     "output_type": "stream",
     "text": [
      "epoch 4  | loss: 0.45172 | train_mse: 0.47544 | train_mae: 0.4825  |  0:00:01s\n"
     ]
    },
    {
     "name": "stdout",
     "output_type": "stream",
     "text": [
      "epoch 5  | loss: 0.40958 | train_mse: 0.39913 | train_mae: 0.42955 |  0:00:01s\n"
     ]
    },
    {
     "name": "stdout",
     "output_type": "stream",
     "text": [
      "epoch 6  | loss: 0.3971  | train_mse: 0.30074 | train_mae: 0.36602 |  0:00:02s\n"
     ]
    },
    {
     "name": "stdout",
     "output_type": "stream",
     "text": [
      "epoch 7  | loss: 0.3544  | train_mse: 0.32047 | train_mae: 0.37034 |  0:00:02s\n"
     ]
    },
    {
     "name": "stdout",
     "output_type": "stream",
     "text": [
      "epoch 8  | loss: 0.35676 | train_mse: 0.25712 | train_mae: 0.36726 |  0:00:02s\n"
     ]
    },
    {
     "name": "stdout",
     "output_type": "stream",
     "text": [
      "epoch 9  | loss: 0.28135 | train_mse: 0.18949 | train_mae: 0.32192 |  0:00:03s\n"
     ]
    },
    {
     "name": "stdout",
     "output_type": "stream",
     "text": [
      "epoch 10 | loss: 0.30843 | train_mse: 0.1483  | train_mae: 0.29083 |  0:00:03s\n"
     ]
    },
    {
     "name": "stdout",
     "output_type": "stream",
     "text": [
      "epoch 11 | loss: 0.25928 | train_mse: 0.18009 | train_mae: 0.30122 |  0:00:03s\n"
     ]
    },
    {
     "name": "stdout",
     "output_type": "stream",
     "text": [
      "epoch 12 | loss: 0.26626 | train_mse: 0.18376 | train_mae: 0.30242 |  0:00:04s\n"
     ]
    },
    {
     "name": "stdout",
     "output_type": "stream",
     "text": [
      "epoch 13 | loss: 0.23054 | train_mse: 0.26046 | train_mae: 0.34485 |  0:00:04s\n"
     ]
    },
    {
     "name": "stdout",
     "output_type": "stream",
     "text": [
      "epoch 14 | loss: 0.27964 | train_mse: 0.16783 | train_mae: 0.28965 |  0:00:04s\n"
     ]
    },
    {
     "name": "stdout",
     "output_type": "stream",
     "text": [
      "epoch 15 | loss: 0.26043 | train_mse: 0.18616 | train_mae: 0.30199 |  0:00:04s\n"
     ]
    },
    {
     "name": "stdout",
     "output_type": "stream",
     "text": [
      "epoch 16 | loss: 0.2395  | train_mse: 0.15461 | train_mae: 0.27447 |  0:00:05s\n"
     ]
    },
    {
     "name": "stdout",
     "output_type": "stream",
     "text": [
      "epoch 17 | loss: 0.20602 | train_mse: 0.21199 | train_mae: 0.31214 |  0:00:05s\n"
     ]
    },
    {
     "name": "stdout",
     "output_type": "stream",
     "text": [
      "epoch 18 | loss: 0.2077  | train_mse: 0.14151 | train_mae: 0.28751 |  0:00:05s\n"
     ]
    },
    {
     "name": "stdout",
     "output_type": "stream",
     "text": [
      "epoch 19 | loss: 0.17821 | train_mse: 0.14418 | train_mae: 0.27712 |  0:00:06s\n"
     ]
    },
    {
     "name": "stdout",
     "output_type": "stream",
     "text": [
      "epoch 20 | loss: 0.18983 | train_mse: 0.15566 | train_mae: 0.2976  |  0:00:06s\n"
     ]
    },
    {
     "name": "stdout",
     "output_type": "stream",
     "text": [
      "epoch 21 | loss: 0.26034 | train_mse: 0.16947 | train_mae: 0.29492 |  0:00:06s\n"
     ]
    },
    {
     "name": "stdout",
     "output_type": "stream",
     "text": [
      "epoch 22 | loss: 0.19844 | train_mse: 0.12967 | train_mae: 0.26916 |  0:00:07s\n"
     ]
    },
    {
     "name": "stdout",
     "output_type": "stream",
     "text": [
      "epoch 23 | loss: 0.20803 | train_mse: 0.11749 | train_mae: 0.25102 |  0:00:07s\n"
     ]
    },
    {
     "name": "stdout",
     "output_type": "stream",
     "text": [
      "epoch 24 | loss: 0.18448 | train_mse: 0.12849 | train_mae: 0.25509 |  0:00:07s\n"
     ]
    },
    {
     "name": "stdout",
     "output_type": "stream",
     "text": [
      "epoch 25 | loss: 0.20894 | train_mse: 0.11609 | train_mae: 0.24694 |  0:00:07s\n"
     ]
    },
    {
     "name": "stdout",
     "output_type": "stream",
     "text": [
      "epoch 26 | loss: 0.18426 | train_mse: 0.1075  | train_mae: 0.24278 |  0:00:08s\n"
     ]
    },
    {
     "name": "stdout",
     "output_type": "stream",
     "text": [
      "epoch 27 | loss: 0.21884 | train_mse: 0.12473 | train_mae: 0.26554 |  0:00:08s\n"
     ]
    },
    {
     "name": "stdout",
     "output_type": "stream",
     "text": [
      "epoch 28 | loss: 0.20832 | train_mse: 0.13777 | train_mae: 0.27015 |  0:00:08s\n"
     ]
    },
    {
     "name": "stdout",
     "output_type": "stream",
     "text": [
      "epoch 29 | loss: 0.195   | train_mse: 0.12891 | train_mae: 0.26021 |  0:00:09s\n"
     ]
    },
    {
     "name": "stdout",
     "output_type": "stream",
     "text": [
      "epoch 30 | loss: 0.21425 | train_mse: 0.11107 | train_mae: 0.2425  |  0:00:09s\n"
     ]
    },
    {
     "name": "stdout",
     "output_type": "stream",
     "text": [
      "epoch 31 | loss: 0.21766 | train_mse: 0.117   | train_mae: 0.25504 |  0:00:09s\n"
     ]
    },
    {
     "name": "stdout",
     "output_type": "stream",
     "text": [
      "epoch 32 | loss: 0.18537 | train_mse: 0.12129 | train_mae: 0.25181 |  0:00:09s\n"
     ]
    },
    {
     "name": "stdout",
     "output_type": "stream",
     "text": [
      "epoch 33 | loss: 0.21572 | train_mse: 0.12905 | train_mae: 0.2593  |  0:00:10s\n"
     ]
    },
    {
     "name": "stdout",
     "output_type": "stream",
     "text": [
      "epoch 34 | loss: 0.21954 | train_mse: 0.14385 | train_mae: 0.27234 |  0:00:10s\n"
     ]
    },
    {
     "name": "stdout",
     "output_type": "stream",
     "text": [
      "epoch 35 | loss: 0.23801 | train_mse: 0.11203 | train_mae: 0.24635 |  0:00:10s\n"
     ]
    },
    {
     "name": "stdout",
     "output_type": "stream",
     "text": [
      "epoch 36 | loss: 0.1721  | train_mse: 0.17097 | train_mae: 0.25804 |  0:00:11s\n"
     ]
    },
    {
     "name": "stdout",
     "output_type": "stream",
     "text": [
      "epoch 37 | loss: 0.16637 | train_mse: 0.15491 | train_mae: 0.26442 |  0:00:11s\n"
     ]
    },
    {
     "name": "stdout",
     "output_type": "stream",
     "text": [
      "epoch 38 | loss: 0.1826  | train_mse: 0.14005 | train_mae: 0.26462 |  0:00:11s\n"
     ]
    },
    {
     "name": "stdout",
     "output_type": "stream",
     "text": [
      "epoch 39 | loss: 0.22471 | train_mse: 0.12274 | train_mae: 0.24846 |  0:00:11s\n"
     ]
    },
    {
     "name": "stdout",
     "output_type": "stream",
     "text": [
      "epoch 40 | loss: 0.23632 | train_mse: 0.13992 | train_mae: 0.25224 |  0:00:12s\n"
     ]
    },
    {
     "name": "stdout",
     "output_type": "stream",
     "text": [
      "epoch 41 | loss: 0.20941 | train_mse: 0.10231 | train_mae: 0.23492 |  0:00:12s\n"
     ]
    },
    {
     "name": "stdout",
     "output_type": "stream",
     "text": [
      "epoch 42 | loss: 0.15047 | train_mse: 0.10448 | train_mae: 0.22976 |  0:00:12s\n"
     ]
    },
    {
     "name": "stdout",
     "output_type": "stream",
     "text": [
      "epoch 43 | loss: 0.16795 | train_mse: 0.09958 | train_mae: 0.22935 |  0:00:13s\n"
     ]
    },
    {
     "name": "stdout",
     "output_type": "stream",
     "text": [
      "epoch 44 | loss: 0.15615 | train_mse: 0.10326 | train_mae: 0.23137 |  0:00:13s\n"
     ]
    },
    {
     "name": "stdout",
     "output_type": "stream",
     "text": [
      "epoch 45 | loss: 0.17281 | train_mse: 0.13163 | train_mae: 0.24782 |  0:00:13s\n"
     ]
    },
    {
     "name": "stdout",
     "output_type": "stream",
     "text": [
      "epoch 46 | loss: 0.1745  | train_mse: 0.12191 | train_mae: 0.24325 |  0:00:14s\n"
     ]
    },
    {
     "name": "stdout",
     "output_type": "stream",
     "text": [
      "epoch 47 | loss: 0.1734  | train_mse: 0.11823 | train_mae: 0.24386 |  0:00:14s\n"
     ]
    },
    {
     "name": "stdout",
     "output_type": "stream",
     "text": [
      "epoch 48 | loss: 0.1794  | train_mse: 0.09949 | train_mae: 0.22458 |  0:00:14s\n"
     ]
    },
    {
     "name": "stdout",
     "output_type": "stream",
     "text": [
      "epoch 49 | loss: 0.15012 | train_mse: 0.10951 | train_mae: 0.23836 |  0:00:14s\n"
     ]
    },
    {
     "name": "stdout",
     "output_type": "stream",
     "text": [
      "epoch 50 | loss: 0.17018 | train_mse: 0.09063 | train_mae: 0.22191 |  0:00:15s\n"
     ]
    },
    {
     "name": "stdout",
     "output_type": "stream",
     "text": [
      "epoch 51 | loss: 0.15689 | train_mse: 0.11749 | train_mae: 0.25206 |  0:00:15s\n"
     ]
    },
    {
     "name": "stdout",
     "output_type": "stream",
     "text": [
      "epoch 52 | loss: 0.17748 | train_mse: 0.10424 | train_mae: 0.23015 |  0:00:15s\n"
     ]
    },
    {
     "name": "stdout",
     "output_type": "stream",
     "text": [
      "epoch 53 | loss: 0.16877 | train_mse: 0.09713 | train_mae: 0.22748 |  0:00:16s\n"
     ]
    },
    {
     "name": "stdout",
     "output_type": "stream",
     "text": [
      "epoch 54 | loss: 0.14426 | train_mse: 0.09701 | train_mae: 0.23575 |  0:00:16s\n"
     ]
    },
    {
     "name": "stdout",
     "output_type": "stream",
     "text": [
      "epoch 55 | loss: 0.17493 | train_mse: 0.0995  | train_mae: 0.24261 |  0:00:16s\n"
     ]
    },
    {
     "name": "stdout",
     "output_type": "stream",
     "text": [
      "epoch 56 | loss: 0.12794 | train_mse: 0.09387 | train_mae: 0.22201 |  0:00:17s\n"
     ]
    },
    {
     "name": "stdout",
     "output_type": "stream",
     "text": [
      "epoch 57 | loss: 0.12266 | train_mse: 0.09241 | train_mae: 0.22246 |  0:00:17s\n"
     ]
    },
    {
     "name": "stdout",
     "output_type": "stream",
     "text": [
      "epoch 58 | loss: 0.1674  | train_mse: 0.10368 | train_mae: 0.23024 |  0:00:17s\n"
     ]
    },
    {
     "name": "stdout",
     "output_type": "stream",
     "text": [
      "epoch 59 | loss: 0.18845 | train_mse: 0.11767 | train_mae: 0.23706 |  0:00:17s\n"
     ]
    },
    {
     "name": "stdout",
     "output_type": "stream",
     "text": [
      "epoch 60 | loss: 0.1877  | train_mse: 0.10944 | train_mae: 0.22606 |  0:00:18s\n"
     ]
    },
    {
     "name": "stdout",
     "output_type": "stream",
     "text": [
      "epoch 61 | loss: 0.17368 | train_mse: 0.10826 | train_mae: 0.22768 |  0:00:18s\n"
     ]
    },
    {
     "name": "stdout",
     "output_type": "stream",
     "text": [
      "epoch 62 | loss: 0.17797 | train_mse: 0.11274 | train_mae: 0.23243 |  0:00:19s\n"
     ]
    },
    {
     "name": "stdout",
     "output_type": "stream",
     "text": [
      "epoch 63 | loss: 0.16238 | train_mse: 0.10129 | train_mae: 0.22687 |  0:00:19s\n"
     ]
    },
    {
     "name": "stdout",
     "output_type": "stream",
     "text": [
      "epoch 64 | loss: 0.17208 | train_mse: 0.09233 | train_mae: 0.21232 |  0:00:19s\n"
     ]
    },
    {
     "name": "stdout",
     "output_type": "stream",
     "text": [
      "epoch 65 | loss: 0.12691 | train_mse: 0.08867 | train_mae: 0.21536 |  0:00:20s\n"
     ]
    },
    {
     "name": "stdout",
     "output_type": "stream",
     "text": [
      "epoch 66 | loss: 0.16337 | train_mse: 0.1104  | train_mae: 0.22915 |  0:00:20s\n"
     ]
    },
    {
     "name": "stdout",
     "output_type": "stream",
     "text": [
      "epoch 67 | loss: 0.1537  | train_mse: 0.09142 | train_mae: 0.21656 |  0:00:20s\n"
     ]
    },
    {
     "name": "stdout",
     "output_type": "stream",
     "text": [
      "epoch 68 | loss: 0.17075 | train_mse: 0.08079 | train_mae: 0.20883 |  0:00:20s\n"
     ]
    },
    {
     "name": "stdout",
     "output_type": "stream",
     "text": [
      "epoch 69 | loss: 0.11672 | train_mse: 0.10725 | train_mae: 0.22882 |  0:00:21s\n"
     ]
    },
    {
     "name": "stdout",
     "output_type": "stream",
     "text": [
      "epoch 70 | loss: 0.1282  | train_mse: 0.11324 | train_mae: 0.22348 |  0:00:21s\n"
     ]
    },
    {
     "name": "stdout",
     "output_type": "stream",
     "text": [
      "epoch 71 | loss: 0.13044 | train_mse: 0.09791 | train_mae: 0.21198 |  0:00:21s\n"
     ]
    },
    {
     "name": "stdout",
     "output_type": "stream",
     "text": [
      "epoch 72 | loss: 0.18545 | train_mse: 0.09128 | train_mae: 0.21991 |  0:00:22s\n"
     ]
    },
    {
     "name": "stdout",
     "output_type": "stream",
     "text": [
      "epoch 73 | loss: 0.12229 | train_mse: 0.07657 | train_mae: 0.20198 |  0:00:22s\n"
     ]
    },
    {
     "name": "stdout",
     "output_type": "stream",
     "text": [
      "epoch 74 | loss: 0.17444 | train_mse: 0.08281 | train_mae: 0.20773 |  0:00:22s\n"
     ]
    },
    {
     "name": "stdout",
     "output_type": "stream",
     "text": [
      "epoch 75 | loss: 0.15216 | train_mse: 0.08639 | train_mae: 0.20032 |  0:00:22s\n"
     ]
    },
    {
     "name": "stdout",
     "output_type": "stream",
     "text": [
      "epoch 76 | loss: 0.19635 | train_mse: 0.09476 | train_mae: 0.21891 |  0:00:23s\n"
     ]
    },
    {
     "name": "stdout",
     "output_type": "stream",
     "text": [
      "epoch 77 | loss: 0.11714 | train_mse: 0.08471 | train_mae: 0.2032  |  0:00:23s\n"
     ]
    },
    {
     "name": "stdout",
     "output_type": "stream",
     "text": [
      "epoch 78 | loss: 0.13371 | train_mse: 0.0815  | train_mae: 0.21132 |  0:00:23s\n"
     ]
    },
    {
     "name": "stdout",
     "output_type": "stream",
     "text": [
      "epoch 79 | loss: 0.1673  | train_mse: 0.07835 | train_mae: 0.20534 |  0:00:24s\n"
     ]
    },
    {
     "name": "stdout",
     "output_type": "stream",
     "text": [
      "epoch 80 | loss: 0.11081 | train_mse: 0.08597 | train_mae: 0.21378 |  0:00:24s\n"
     ]
    },
    {
     "name": "stdout",
     "output_type": "stream",
     "text": [
      "epoch 81 | loss: 0.10573 | train_mse: 0.10796 | train_mae: 0.22502 |  0:00:24s\n"
     ]
    },
    {
     "name": "stdout",
     "output_type": "stream",
     "text": [
      "epoch 82 | loss: 0.10601 | train_mse: 0.08492 | train_mae: 0.21875 |  0:00:25s\n"
     ]
    },
    {
     "name": "stdout",
     "output_type": "stream",
     "text": [
      "epoch 83 | loss: 0.10483 | train_mse: 0.07501 | train_mae: 0.20281 |  0:00:25s\n"
     ]
    },
    {
     "name": "stdout",
     "output_type": "stream",
     "text": [
      "epoch 84 | loss: 0.14797 | train_mse: 0.10028 | train_mae: 0.22912 |  0:00:25s\n"
     ]
    },
    {
     "name": "stdout",
     "output_type": "stream",
     "text": [
      "epoch 85 | loss: 0.10216 | train_mse: 0.08124 | train_mae: 0.20569 |  0:00:25s\n"
     ]
    },
    {
     "name": "stdout",
     "output_type": "stream",
     "text": [
      "epoch 86 | loss: 0.18728 | train_mse: 0.10198 | train_mae: 0.21328 |  0:00:26s\n"
     ]
    },
    {
     "name": "stdout",
     "output_type": "stream",
     "text": [
      "epoch 87 | loss: 0.13271 | train_mse: 0.10028 | train_mae: 0.21372 |  0:00:26s\n"
     ]
    },
    {
     "name": "stdout",
     "output_type": "stream",
     "text": [
      "epoch 88 | loss: 0.14718 | train_mse: 0.116   | train_mae: 0.2276  |  0:00:26s\n"
     ]
    },
    {
     "name": "stdout",
     "output_type": "stream",
     "text": [
      "epoch 89 | loss: 0.14139 | train_mse: 0.11016 | train_mae: 0.21919 |  0:00:27s\n"
     ]
    },
    {
     "name": "stdout",
     "output_type": "stream",
     "text": [
      "epoch 90 | loss: 0.17089 | train_mse: 0.10236 | train_mae: 0.22044 |  0:00:27s\n"
     ]
    },
    {
     "name": "stdout",
     "output_type": "stream",
     "text": [
      "epoch 91 | loss: 0.17246 | train_mse: 0.09916 | train_mae: 0.21646 |  0:00:27s\n"
     ]
    },
    {
     "name": "stdout",
     "output_type": "stream",
     "text": [
      "epoch 92 | loss: 0.12988 | train_mse: 0.09467 | train_mae: 0.21308 |  0:00:28s\n"
     ]
    },
    {
     "name": "stdout",
     "output_type": "stream",
     "text": [
      "epoch 93 | loss: 0.10961 | train_mse: 0.10342 | train_mae: 0.21401 |  0:00:28s\n"
     ]
    },
    {
     "name": "stdout",
     "output_type": "stream",
     "text": [
      "epoch 94 | loss: 0.13819 | train_mse: 0.08406 | train_mae: 0.20655 |  0:00:28s\n"
     ]
    },
    {
     "name": "stdout",
     "output_type": "stream",
     "text": [
      "epoch 95 | loss: 0.12822 | train_mse: 0.10368 | train_mae: 0.22016 |  0:00:29s\n"
     ]
    },
    {
     "name": "stdout",
     "output_type": "stream",
     "text": [
      "epoch 96 | loss: 0.12797 | train_mse: 0.07619 | train_mae: 0.19495 |  0:00:29s\n"
     ]
    },
    {
     "name": "stdout",
     "output_type": "stream",
     "text": [
      "epoch 97 | loss: 0.15397 | train_mse: 0.07721 | train_mae: 0.19304 |  0:00:29s\n"
     ]
    },
    {
     "name": "stdout",
     "output_type": "stream",
     "text": [
      "epoch 98 | loss: 0.10883 | train_mse: 0.09882 | train_mae: 0.20552 |  0:00:30s\n"
     ]
    },
    {
     "name": "stdout",
     "output_type": "stream",
     "text": [
      "epoch 99 | loss: 0.14493 | train_mse: 0.07716 | train_mae: 0.1943  |  0:00:30s\n"
     ]
    },
    {
     "name": "stdout",
     "output_type": "stream",
     "text": [
      "epoch 100| loss: 0.10444 | train_mse: 0.08818 | train_mae: 0.20666 |  0:00:30s\n"
     ]
    },
    {
     "name": "stdout",
     "output_type": "stream",
     "text": [
      "epoch 101| loss: 0.11852 | train_mse: 0.0929  | train_mae: 0.19845 |  0:00:30s\n"
     ]
    },
    {
     "name": "stdout",
     "output_type": "stream",
     "text": [
      "epoch 102| loss: 0.12491 | train_mse: 0.11823 | train_mae: 0.20956 |  0:00:31s\n"
     ]
    },
    {
     "name": "stdout",
     "output_type": "stream",
     "text": [
      "epoch 103| loss: 0.17731 | train_mse: 0.11935 | train_mae: 0.22318 |  0:00:31s\n"
     ]
    },
    {
     "name": "stdout",
     "output_type": "stream",
     "text": [
      "epoch 104| loss: 0.1651  | train_mse: 0.09133 | train_mae: 0.21802 |  0:00:31s\n"
     ]
    },
    {
     "name": "stdout",
     "output_type": "stream",
     "text": [
      "epoch 105| loss: 0.13796 | train_mse: 0.09012 | train_mae: 0.21707 |  0:00:32s\n"
     ]
    },
    {
     "name": "stdout",
     "output_type": "stream",
     "text": [
      "epoch 106| loss: 0.12209 | train_mse: 0.08751 | train_mae: 0.20222 |  0:00:32s\n"
     ]
    },
    {
     "name": "stdout",
     "output_type": "stream",
     "text": [
      "epoch 107| loss: 0.14816 | train_mse: 0.10096 | train_mae: 0.22519 |  0:00:32s\n"
     ]
    },
    {
     "name": "stdout",
     "output_type": "stream",
     "text": [
      "epoch 108| loss: 0.13146 | train_mse: 0.07696 | train_mae: 0.20135 |  0:00:32s\n"
     ]
    },
    {
     "name": "stdout",
     "output_type": "stream",
     "text": [
      "epoch 109| loss: 0.12202 | train_mse: 0.09165 | train_mae: 0.21867 |  0:00:33s\n"
     ]
    },
    {
     "name": "stdout",
     "output_type": "stream",
     "text": [
      "epoch 110| loss: 0.13516 | train_mse: 0.07626 | train_mae: 0.20099 |  0:00:33s\n"
     ]
    },
    {
     "name": "stdout",
     "output_type": "stream",
     "text": [
      "epoch 111| loss: 0.10906 | train_mse: 0.07464 | train_mae: 0.20143 |  0:00:33s\n"
     ]
    },
    {
     "name": "stdout",
     "output_type": "stream",
     "text": [
      "epoch 112| loss: 0.10796 | train_mse: 0.07371 | train_mae: 0.19656 |  0:00:34s\n"
     ]
    },
    {
     "name": "stdout",
     "output_type": "stream",
     "text": [
      "epoch 113| loss: 0.11984 | train_mse: 0.07234 | train_mae: 0.19122 |  0:00:34s\n"
     ]
    },
    {
     "name": "stdout",
     "output_type": "stream",
     "text": [
      "epoch 114| loss: 0.1365  | train_mse: 0.08601 | train_mae: 0.21108 |  0:00:34s\n"
     ]
    },
    {
     "name": "stdout",
     "output_type": "stream",
     "text": [
      "epoch 115| loss: 0.13837 | train_mse: 0.07949 | train_mae: 0.19883 |  0:00:35s\n"
     ]
    },
    {
     "name": "stdout",
     "output_type": "stream",
     "text": [
      "epoch 116| loss: 0.14412 | train_mse: 0.07807 | train_mae: 0.19646 |  0:00:35s\n"
     ]
    },
    {
     "name": "stdout",
     "output_type": "stream",
     "text": [
      "epoch 117| loss: 0.10271 | train_mse: 0.08547 | train_mae: 0.20119 |  0:00:35s\n"
     ]
    },
    {
     "name": "stdout",
     "output_type": "stream",
     "text": [
      "epoch 118| loss: 0.1323  | train_mse: 0.08462 | train_mae: 0.19608 |  0:00:35s\n"
     ]
    },
    {
     "name": "stdout",
     "output_type": "stream",
     "text": [
      "epoch 119| loss: 0.17637 | train_mse: 0.09478 | train_mae: 0.20465 |  0:00:36s\n"
     ]
    },
    {
     "name": "stdout",
     "output_type": "stream",
     "text": [
      "epoch 120| loss: 0.16065 | train_mse: 0.09115 | train_mae: 0.21133 |  0:00:36s\n"
     ]
    },
    {
     "name": "stdout",
     "output_type": "stream",
     "text": [
      "epoch 121| loss: 0.15203 | train_mse: 0.07252 | train_mae: 0.1922  |  0:00:36s\n"
     ]
    },
    {
     "name": "stdout",
     "output_type": "stream",
     "text": [
      "epoch 122| loss: 0.16175 | train_mse: 0.08219 | train_mae: 0.20303 |  0:00:37s\n"
     ]
    },
    {
     "name": "stdout",
     "output_type": "stream",
     "text": [
      "epoch 123| loss: 0.12133 | train_mse: 0.06781 | train_mae: 0.19101 |  0:00:37s\n"
     ]
    },
    {
     "name": "stdout",
     "output_type": "stream",
     "text": [
      "epoch 124| loss: 0.10046 | train_mse: 0.08917 | train_mae: 0.20208 |  0:00:37s\n"
     ]
    },
    {
     "name": "stdout",
     "output_type": "stream",
     "text": [
      "epoch 125| loss: 0.11203 | train_mse: 0.07799 | train_mae: 0.19557 |  0:00:37s\n"
     ]
    },
    {
     "name": "stdout",
     "output_type": "stream",
     "text": [
      "epoch 126| loss: 0.13683 | train_mse: 0.08615 | train_mae: 0.20662 |  0:00:38s\n"
     ]
    },
    {
     "name": "stdout",
     "output_type": "stream",
     "text": [
      "epoch 127| loss: 0.11932 | train_mse: 0.11129 | train_mae: 0.22378 |  0:00:38s\n"
     ]
    },
    {
     "name": "stdout",
     "output_type": "stream",
     "text": [
      "epoch 128| loss: 0.17016 | train_mse: 0.10777 | train_mae: 0.22028 |  0:00:38s\n"
     ]
    },
    {
     "name": "stdout",
     "output_type": "stream",
     "text": [
      "epoch 129| loss: 0.12866 | train_mse: 0.07922 | train_mae: 0.20491 |  0:00:39s\n"
     ]
    },
    {
     "name": "stdout",
     "output_type": "stream",
     "text": [
      "epoch 130| loss: 0.14384 | train_mse: 0.07498 | train_mae: 0.20189 |  0:00:39s\n"
     ]
    },
    {
     "name": "stdout",
     "output_type": "stream",
     "text": [
      "epoch 131| loss: 0.12792 | train_mse: 0.07129 | train_mae: 0.20118 |  0:00:39s\n"
     ]
    },
    {
     "name": "stdout",
     "output_type": "stream",
     "text": [
      "epoch 132| loss: 0.11437 | train_mse: 0.08656 | train_mae: 0.19603 |  0:00:40s\n"
     ]
    },
    {
     "name": "stdout",
     "output_type": "stream",
     "text": [
      "epoch 133| loss: 0.13382 | train_mse: 0.07519 | train_mae: 0.19476 |  0:00:40s\n"
     ]
    },
    {
     "name": "stdout",
     "output_type": "stream",
     "text": [
      "epoch 134| loss: 0.0959  | train_mse: 0.10069 | train_mae: 0.19952 |  0:00:40s\n"
     ]
    },
    {
     "name": "stdout",
     "output_type": "stream",
     "text": [
      "epoch 135| loss: 0.11945 | train_mse: 0.08383 | train_mae: 0.20451 |  0:00:40s\n"
     ]
    },
    {
     "name": "stdout",
     "output_type": "stream",
     "text": [
      "epoch 136| loss: 0.13578 | train_mse: 0.08823 | train_mae: 0.20785 |  0:00:41s\n"
     ]
    },
    {
     "name": "stdout",
     "output_type": "stream",
     "text": [
      "epoch 137| loss: 0.17796 | train_mse: 0.07547 | train_mae: 0.20173 |  0:00:41s\n"
     ]
    },
    {
     "name": "stdout",
     "output_type": "stream",
     "text": [
      "epoch 138| loss: 0.12375 | train_mse: 0.07328 | train_mae: 0.20004 |  0:00:41s\n"
     ]
    },
    {
     "name": "stdout",
     "output_type": "stream",
     "text": [
      "epoch 139| loss: 0.12366 | train_mse: 0.07882 | train_mae: 0.20836 |  0:00:42s\n"
     ]
    },
    {
     "name": "stdout",
     "output_type": "stream",
     "text": [
      "epoch 140| loss: 0.12383 | train_mse: 0.07541 | train_mae: 0.2015  |  0:00:42s\n"
     ]
    },
    {
     "name": "stdout",
     "output_type": "stream",
     "text": [
      "epoch 141| loss: 0.10934 | train_mse: 0.08234 | train_mae: 0.20921 |  0:00:42s\n"
     ]
    },
    {
     "name": "stdout",
     "output_type": "stream",
     "text": [
      "epoch 142| loss: 0.13004 | train_mse: 0.08023 | train_mae: 0.20317 |  0:00:42s\n"
     ]
    },
    {
     "name": "stdout",
     "output_type": "stream",
     "text": [
      "epoch 143| loss: 0.12284 | train_mse: 0.08905 | train_mae: 0.21979 |  0:00:43s\n"
     ]
    },
    {
     "name": "stdout",
     "output_type": "stream",
     "text": [
      "epoch 144| loss: 0.12119 | train_mse: 0.07928 | train_mae: 0.20491 |  0:00:43s\n"
     ]
    },
    {
     "name": "stdout",
     "output_type": "stream",
     "text": [
      "epoch 145| loss: 0.14103 | train_mse: 0.06651 | train_mae: 0.17972 |  0:00:43s\n"
     ]
    },
    {
     "name": "stdout",
     "output_type": "stream",
     "text": [
      "epoch 146| loss: 0.10116 | train_mse: 0.07254 | train_mae: 0.19933 |  0:00:44s\n"
     ]
    },
    {
     "name": "stdout",
     "output_type": "stream",
     "text": [
      "epoch 147| loss: 0.12426 | train_mse: 0.07312 | train_mae: 0.20064 |  0:00:44s\n"
     ]
    },
    {
     "name": "stdout",
     "output_type": "stream",
     "text": [
      "epoch 148| loss: 0.09347 | train_mse: 0.06852 | train_mae: 0.19152 |  0:00:44s\n"
     ]
    },
    {
     "name": "stdout",
     "output_type": "stream",
     "text": [
      "epoch 149| loss: 0.11591 | train_mse: 0.06497 | train_mae: 0.18518 |  0:00:45s\n"
     ]
    },
    {
     "name": "stdout",
     "output_type": "stream",
     "text": [
      "epoch 150| loss: 0.10339 | train_mse: 0.07906 | train_mae: 0.19058 |  0:00:45s\n"
     ]
    },
    {
     "name": "stdout",
     "output_type": "stream",
     "text": [
      "epoch 151| loss: 0.13928 | train_mse: 0.0732  | train_mae: 0.18887 |  0:00:45s\n"
     ]
    },
    {
     "name": "stdout",
     "output_type": "stream",
     "text": [
      "epoch 152| loss: 0.11683 | train_mse: 0.06349 | train_mae: 0.18324 |  0:00:45s\n"
     ]
    },
    {
     "name": "stdout",
     "output_type": "stream",
     "text": [
      "epoch 153| loss: 0.12226 | train_mse: 0.06341 | train_mae: 0.18833 |  0:00:46s\n"
     ]
    },
    {
     "name": "stdout",
     "output_type": "stream",
     "text": [
      "epoch 154| loss: 0.10421 | train_mse: 0.07603 | train_mae: 0.19531 |  0:00:46s\n"
     ]
    },
    {
     "name": "stdout",
     "output_type": "stream",
     "text": [
      "epoch 155| loss: 0.11666 | train_mse: 0.08615 | train_mae: 0.19196 |  0:00:46s\n"
     ]
    },
    {
     "name": "stdout",
     "output_type": "stream",
     "text": [
      "epoch 156| loss: 0.09312 | train_mse: 0.08075 | train_mae: 0.18866 |  0:00:47s\n"
     ]
    },
    {
     "name": "stdout",
     "output_type": "stream",
     "text": [
      "epoch 157| loss: 0.14695 | train_mse: 0.09462 | train_mae: 0.20483 |  0:00:47s\n"
     ]
    },
    {
     "name": "stdout",
     "output_type": "stream",
     "text": [
      "epoch 158| loss: 0.12322 | train_mse: 0.08    | train_mae: 0.18932 |  0:00:47s\n"
     ]
    },
    {
     "name": "stdout",
     "output_type": "stream",
     "text": [
      "epoch 159| loss: 0.09893 | train_mse: 0.073   | train_mae: 0.19484 |  0:00:47s\n"
     ]
    },
    {
     "name": "stdout",
     "output_type": "stream",
     "text": [
      "epoch 160| loss: 0.11087 | train_mse: 0.07553 | train_mae: 0.20229 |  0:00:48s\n"
     ]
    },
    {
     "name": "stdout",
     "output_type": "stream",
     "text": [
      "epoch 161| loss: 0.14356 | train_mse: 0.08665 | train_mae: 0.20636 |  0:00:48s\n"
     ]
    },
    {
     "name": "stdout",
     "output_type": "stream",
     "text": [
      "epoch 162| loss: 0.13891 | train_mse: 0.06591 | train_mae: 0.18466 |  0:00:48s\n"
     ]
    },
    {
     "name": "stdout",
     "output_type": "stream",
     "text": [
      "epoch 163| loss: 0.13746 | train_mse: 0.06394 | train_mae: 0.19102 |  0:00:49s\n"
     ]
    },
    {
     "name": "stdout",
     "output_type": "stream",
     "text": [
      "epoch 164| loss: 0.16864 | train_mse: 0.0683  | train_mae: 0.19469 |  0:00:49s\n"
     ]
    },
    {
     "name": "stdout",
     "output_type": "stream",
     "text": [
      "epoch 165| loss: 0.10426 | train_mse: 0.06534 | train_mae: 0.18732 |  0:00:49s\n"
     ]
    },
    {
     "name": "stdout",
     "output_type": "stream",
     "text": [
      "epoch 166| loss: 0.10365 | train_mse: 0.06609 | train_mae: 0.18702 |  0:00:50s\n"
     ]
    },
    {
     "name": "stdout",
     "output_type": "stream",
     "text": [
      "epoch 167| loss: 0.08177 | train_mse: 0.0643  | train_mae: 0.18821 |  0:00:50s\n"
     ]
    },
    {
     "name": "stdout",
     "output_type": "stream",
     "text": [
      "epoch 168| loss: 0.1142  | train_mse: 0.06352 | train_mae: 0.18086 |  0:00:50s\n"
     ]
    },
    {
     "name": "stdout",
     "output_type": "stream",
     "text": [
      "epoch 169| loss: 0.12975 | train_mse: 0.06873 | train_mae: 0.1934  |  0:00:50s\n"
     ]
    },
    {
     "name": "stdout",
     "output_type": "stream",
     "text": [
      "epoch 170| loss: 0.17672 | train_mse: 0.07836 | train_mae: 0.20861 |  0:00:51s\n"
     ]
    },
    {
     "name": "stdout",
     "output_type": "stream",
     "text": [
      "epoch 171| loss: 0.13714 | train_mse: 0.07019 | train_mae: 0.1961  |  0:00:51s\n"
     ]
    },
    {
     "name": "stdout",
     "output_type": "stream",
     "text": [
      "epoch 172| loss: 0.11731 | train_mse: 0.07449 | train_mae: 0.20436 |  0:00:51s\n"
     ]
    },
    {
     "name": "stdout",
     "output_type": "stream",
     "text": [
      "epoch 173| loss: 0.1302  | train_mse: 0.08516 | train_mae: 0.20183 |  0:00:52s\n"
     ]
    },
    {
     "name": "stdout",
     "output_type": "stream",
     "text": [
      "epoch 174| loss: 0.13219 | train_mse: 0.0778  | train_mae: 0.20576 |  0:00:52s\n"
     ]
    },
    {
     "name": "stdout",
     "output_type": "stream",
     "text": [
      "epoch 175| loss: 0.13971 | train_mse: 0.0733  | train_mae: 0.1976  |  0:00:52s\n"
     ]
    },
    {
     "name": "stdout",
     "output_type": "stream",
     "text": [
      "epoch 176| loss: 0.13412 | train_mse: 0.06608 | train_mae: 0.18724 |  0:00:52s\n"
     ]
    },
    {
     "name": "stdout",
     "output_type": "stream",
     "text": [
      "epoch 177| loss: 0.08136 | train_mse: 0.06249 | train_mae: 0.17977 |  0:00:53s\n"
     ]
    },
    {
     "name": "stdout",
     "output_type": "stream",
     "text": [
      "epoch 178| loss: 0.11669 | train_mse: 0.06581 | train_mae: 0.18874 |  0:00:53s\n"
     ]
    },
    {
     "name": "stdout",
     "output_type": "stream",
     "text": [
      "epoch 179| loss: 0.09557 | train_mse: 0.06081 | train_mae: 0.18039 |  0:00:53s\n"
     ]
    },
    {
     "name": "stdout",
     "output_type": "stream",
     "text": [
      "epoch 180| loss: 0.12087 | train_mse: 0.05696 | train_mae: 0.17533 |  0:00:54s\n"
     ]
    },
    {
     "name": "stdout",
     "output_type": "stream",
     "text": [
      "epoch 181| loss: 0.10636 | train_mse: 0.07844 | train_mae: 0.19608 |  0:00:54s\n"
     ]
    },
    {
     "name": "stdout",
     "output_type": "stream",
     "text": [
      "epoch 182| loss: 0.10723 | train_mse: 0.06421 | train_mae: 0.18338 |  0:00:54s\n"
     ]
    },
    {
     "name": "stdout",
     "output_type": "stream",
     "text": [
      "epoch 183| loss: 0.13378 | train_mse: 0.06414 | train_mae: 0.18062 |  0:00:55s\n"
     ]
    },
    {
     "name": "stdout",
     "output_type": "stream",
     "text": [
      "epoch 184| loss: 0.11952 | train_mse: 0.06824 | train_mae: 0.17877 |  0:00:55s\n"
     ]
    },
    {
     "name": "stdout",
     "output_type": "stream",
     "text": [
      "epoch 185| loss: 0.10474 | train_mse: 0.06456 | train_mae: 0.17525 |  0:00:55s\n"
     ]
    },
    {
     "name": "stdout",
     "output_type": "stream",
     "text": [
      "epoch 186| loss: 0.13899 | train_mse: 0.06861 | train_mae: 0.1841  |  0:00:55s\n"
     ]
    },
    {
     "name": "stdout",
     "output_type": "stream",
     "text": [
      "epoch 187| loss: 0.11431 | train_mse: 0.07034 | train_mae: 0.18731 |  0:00:56s\n"
     ]
    },
    {
     "name": "stdout",
     "output_type": "stream",
     "text": [
      "epoch 188| loss: 0.11212 | train_mse: 0.05932 | train_mae: 0.17942 |  0:00:56s\n"
     ]
    },
    {
     "name": "stdout",
     "output_type": "stream",
     "text": [
      "epoch 189| loss: 0.13505 | train_mse: 0.09589 | train_mae: 0.21895 |  0:00:56s\n"
     ]
    },
    {
     "name": "stdout",
     "output_type": "stream",
     "text": [
      "epoch 190| loss: 0.1129  | train_mse: 0.06251 | train_mae: 0.18371 |  0:00:57s\n"
     ]
    },
    {
     "name": "stdout",
     "output_type": "stream",
     "text": [
      "epoch 191| loss: 0.08286 | train_mse: 0.06419 | train_mae: 0.18804 |  0:00:57s\n"
     ]
    },
    {
     "name": "stdout",
     "output_type": "stream",
     "text": [
      "epoch 192| loss: 0.10279 | train_mse: 0.06577 | train_mae: 0.19057 |  0:00:57s\n"
     ]
    },
    {
     "name": "stdout",
     "output_type": "stream",
     "text": [
      "epoch 193| loss: 0.10244 | train_mse: 0.05489 | train_mae: 0.16864 |  0:00:58s\n"
     ]
    },
    {
     "name": "stdout",
     "output_type": "stream",
     "text": [
      "epoch 194| loss: 0.09359 | train_mse: 0.06798 | train_mae: 0.19095 |  0:00:58s\n"
     ]
    },
    {
     "name": "stdout",
     "output_type": "stream",
     "text": [
      "epoch 195| loss: 0.11193 | train_mse: 0.05898 | train_mae: 0.17816 |  0:00:58s\n"
     ]
    },
    {
     "name": "stdout",
     "output_type": "stream",
     "text": [
      "epoch 196| loss: 0.10591 | train_mse: 0.06279 | train_mae: 0.18392 |  0:00:58s\n"
     ]
    },
    {
     "name": "stdout",
     "output_type": "stream",
     "text": [
      "epoch 197| loss: 0.09259 | train_mse: 0.05722 | train_mae: 0.17203 |  0:00:59s\n"
     ]
    },
    {
     "name": "stdout",
     "output_type": "stream",
     "text": [
      "epoch 198| loss: 0.09666 | train_mse: 0.06347 | train_mae: 0.18635 |  0:00:59s\n"
     ]
    },
    {
     "name": "stdout",
     "output_type": "stream",
     "text": [
      "epoch 199| loss: 0.09612 | train_mse: 0.05001 | train_mae: 0.16858 |  0:00:59s\n"
     ]
    },
    {
     "name": "stdout",
     "output_type": "stream",
     "text": [
      "epoch 200| loss: 0.13404 | train_mse: 0.05969 | train_mae: 0.1818  |  0:01:00s\n"
     ]
    },
    {
     "name": "stdout",
     "output_type": "stream",
     "text": [
      "epoch 201| loss: 0.09414 | train_mse: 0.05466 | train_mae: 0.176   |  0:01:00s\n"
     ]
    },
    {
     "name": "stdout",
     "output_type": "stream",
     "text": [
      "epoch 202| loss: 0.1188  | train_mse: 0.05947 | train_mae: 0.17545 |  0:01:00s\n"
     ]
    },
    {
     "name": "stdout",
     "output_type": "stream",
     "text": [
      "epoch 203| loss: 0.12765 | train_mse: 0.07627 | train_mae: 0.18286 |  0:01:00s\n"
     ]
    },
    {
     "name": "stdout",
     "output_type": "stream",
     "text": [
      "epoch 204| loss: 0.09928 | train_mse: 0.06707 | train_mae: 0.18666 |  0:01:01s\n"
     ]
    },
    {
     "name": "stdout",
     "output_type": "stream",
     "text": [
      "epoch 205| loss: 0.15929 | train_mse: 0.06106 | train_mae: 0.17478 |  0:01:01s\n"
     ]
    },
    {
     "name": "stdout",
     "output_type": "stream",
     "text": [
      "epoch 206| loss: 0.09911 | train_mse: 0.05698 | train_mae: 0.17425 |  0:01:01s\n"
     ]
    },
    {
     "name": "stdout",
     "output_type": "stream",
     "text": [
      "epoch 207| loss: 0.09076 | train_mse: 0.06524 | train_mae: 0.1885  |  0:01:02s\n"
     ]
    },
    {
     "name": "stdout",
     "output_type": "stream",
     "text": [
      "epoch 208| loss: 0.08608 | train_mse: 0.05841 | train_mae: 0.18165 |  0:01:02s\n"
     ]
    },
    {
     "name": "stdout",
     "output_type": "stream",
     "text": [
      "epoch 209| loss: 0.10235 | train_mse: 0.0557  | train_mae: 0.17796 |  0:01:02s\n"
     ]
    },
    {
     "name": "stdout",
     "output_type": "stream",
     "text": [
      "epoch 210| loss: 0.14605 | train_mse: 0.0806  | train_mae: 0.1929  |  0:01:03s\n"
     ]
    },
    {
     "name": "stdout",
     "output_type": "stream",
     "text": [
      "epoch 211| loss: 0.15613 | train_mse: 0.07967 | train_mae: 0.18898 |  0:01:03s\n"
     ]
    },
    {
     "name": "stdout",
     "output_type": "stream",
     "text": [
      "epoch 212| loss: 0.09897 | train_mse: 0.06725 | train_mae: 0.18104 |  0:01:03s\n"
     ]
    },
    {
     "name": "stdout",
     "output_type": "stream",
     "text": [
      "epoch 213| loss: 0.10151 | train_mse: 0.06927 | train_mae: 0.18918 |  0:01:03s\n"
     ]
    },
    {
     "name": "stdout",
     "output_type": "stream",
     "text": [
      "epoch 214| loss: 0.10082 | train_mse: 0.06523 | train_mae: 0.18626 |  0:01:04s\n"
     ]
    },
    {
     "name": "stdout",
     "output_type": "stream",
     "text": [
      "epoch 215| loss: 0.09236 | train_mse: 0.065   | train_mae: 0.17992 |  0:01:04s\n"
     ]
    },
    {
     "name": "stdout",
     "output_type": "stream",
     "text": [
      "epoch 216| loss: 0.10874 | train_mse: 0.09199 | train_mae: 0.18844 |  0:01:04s\n"
     ]
    },
    {
     "name": "stdout",
     "output_type": "stream",
     "text": [
      "epoch 217| loss: 0.11884 | train_mse: 0.08111 | train_mae: 0.19042 |  0:01:05s\n"
     ]
    },
    {
     "name": "stdout",
     "output_type": "stream",
     "text": [
      "epoch 218| loss: 0.10125 | train_mse: 0.06292 | train_mae: 0.17811 |  0:01:05s\n"
     ]
    },
    {
     "name": "stdout",
     "output_type": "stream",
     "text": [
      "epoch 219| loss: 0.10369 | train_mse: 0.05651 | train_mae: 0.17191 |  0:01:05s\n"
     ]
    },
    {
     "name": "stdout",
     "output_type": "stream",
     "text": [
      "epoch 220| loss: 0.10475 | train_mse: 0.0571  | train_mae: 0.17516 |  0:01:05s\n"
     ]
    },
    {
     "name": "stdout",
     "output_type": "stream",
     "text": [
      "epoch 221| loss: 0.10818 | train_mse: 0.07184 | train_mae: 0.18405 |  0:01:06s\n"
     ]
    },
    {
     "name": "stdout",
     "output_type": "stream",
     "text": [
      "epoch 222| loss: 0.07905 | train_mse: 0.05327 | train_mae: 0.17281 |  0:01:06s\n"
     ]
    },
    {
     "name": "stdout",
     "output_type": "stream",
     "text": [
      "epoch 223| loss: 0.09464 | train_mse: 0.05553 | train_mae: 0.17554 |  0:01:06s\n"
     ]
    },
    {
     "name": "stdout",
     "output_type": "stream",
     "text": [
      "epoch 224| loss: 0.1025  | train_mse: 0.06026 | train_mae: 0.18043 |  0:01:07s\n"
     ]
    },
    {
     "name": "stdout",
     "output_type": "stream",
     "text": [
      "epoch 225| loss: 0.10067 | train_mse: 0.05289 | train_mae: 0.16779 |  0:01:07s\n"
     ]
    },
    {
     "name": "stdout",
     "output_type": "stream",
     "text": [
      "epoch 226| loss: 0.11645 | train_mse: 0.05982 | train_mae: 0.18315 |  0:01:07s\n"
     ]
    },
    {
     "name": "stdout",
     "output_type": "stream",
     "text": [
      "epoch 227| loss: 0.12336 | train_mse: 0.07539 | train_mae: 0.19304 |  0:01:08s\n"
     ]
    },
    {
     "name": "stdout",
     "output_type": "stream",
     "text": [
      "epoch 228| loss: 0.14469 | train_mse: 0.07968 | train_mae: 0.18766 |  0:01:08s\n"
     ]
    },
    {
     "name": "stdout",
     "output_type": "stream",
     "text": [
      "epoch 229| loss: 0.1219  | train_mse: 0.07393 | train_mae: 0.18116 |  0:01:08s\n"
     ]
    },
    {
     "name": "stdout",
     "output_type": "stream",
     "text": [
      "epoch 230| loss: 0.11048 | train_mse: 0.06841 | train_mae: 0.18133 |  0:01:08s\n"
     ]
    },
    {
     "name": "stdout",
     "output_type": "stream",
     "text": [
      "epoch 231| loss: 0.09225 | train_mse: 0.06142 | train_mae: 0.17763 |  0:01:09s\n"
     ]
    },
    {
     "name": "stdout",
     "output_type": "stream",
     "text": [
      "epoch 232| loss: 0.09513 | train_mse: 0.08008 | train_mae: 0.19108 |  0:01:09s\n"
     ]
    },
    {
     "name": "stdout",
     "output_type": "stream",
     "text": [
      "epoch 233| loss: 0.13862 | train_mse: 0.10279 | train_mae: 0.21115 |  0:01:09s\n"
     ]
    },
    {
     "name": "stdout",
     "output_type": "stream",
     "text": [
      "epoch 234| loss: 0.0917  | train_mse: 0.08078 | train_mae: 0.19305 |  0:01:10s\n"
     ]
    },
    {
     "name": "stdout",
     "output_type": "stream",
     "text": [
      "epoch 235| loss: 0.096   | train_mse: 0.0817  | train_mae: 0.19076 |  0:01:10s\n"
     ]
    },
    {
     "name": "stdout",
     "output_type": "stream",
     "text": [
      "epoch 236| loss: 0.09065 | train_mse: 0.05475 | train_mae: 0.17353 |  0:01:10s\n"
     ]
    },
    {
     "name": "stdout",
     "output_type": "stream",
     "text": [
      "epoch 237| loss: 0.08706 | train_mse: 0.05716 | train_mae: 0.18064 |  0:01:10s\n"
     ]
    },
    {
     "name": "stdout",
     "output_type": "stream",
     "text": [
      "epoch 238| loss: 0.10923 | train_mse: 0.06121 | train_mae: 0.17668 |  0:01:11s\n"
     ]
    },
    {
     "name": "stdout",
     "output_type": "stream",
     "text": [
      "epoch 239| loss: 0.08783 | train_mse: 0.06403 | train_mae: 0.19089 |  0:01:11s\n"
     ]
    },
    {
     "name": "stdout",
     "output_type": "stream",
     "text": [
      "epoch 240| loss: 0.09136 | train_mse: 0.0605  | train_mae: 0.182   |  0:01:11s\n"
     ]
    },
    {
     "name": "stdout",
     "output_type": "stream",
     "text": [
      "epoch 241| loss: 0.09336 | train_mse: 0.0686  | train_mae: 0.18717 |  0:01:12s\n"
     ]
    },
    {
     "name": "stdout",
     "output_type": "stream",
     "text": [
      "epoch 242| loss: 0.15368 | train_mse: 0.06051 | train_mae: 0.18559 |  0:01:12s\n"
     ]
    },
    {
     "name": "stdout",
     "output_type": "stream",
     "text": [
      "epoch 243| loss: 0.10413 | train_mse: 0.07645 | train_mae: 0.18373 |  0:01:12s\n"
     ]
    },
    {
     "name": "stdout",
     "output_type": "stream",
     "text": [
      "epoch 244| loss: 0.11004 | train_mse: 0.05384 | train_mae: 0.17369 |  0:01:12s\n"
     ]
    },
    {
     "name": "stdout",
     "output_type": "stream",
     "text": [
      "epoch 245| loss: 0.08012 | train_mse: 0.05659 | train_mae: 0.17545 |  0:01:13s\n"
     ]
    },
    {
     "name": "stdout",
     "output_type": "stream",
     "text": [
      "epoch 246| loss: 0.10469 | train_mse: 0.06431 | train_mae: 0.18295 |  0:01:13s\n"
     ]
    },
    {
     "name": "stdout",
     "output_type": "stream",
     "text": [
      "epoch 247| loss: 0.13115 | train_mse: 0.06826 | train_mae: 0.18622 |  0:01:13s\n"
     ]
    },
    {
     "name": "stdout",
     "output_type": "stream",
     "text": [
      "epoch 248| loss: 0.10945 | train_mse: 0.05657 | train_mae: 0.17867 |  0:01:14s\n"
     ]
    },
    {
     "name": "stdout",
     "output_type": "stream",
     "text": [
      "epoch 249| loss: 0.10214 | train_mse: 0.06948 | train_mae: 0.19491 |  0:01:14s\n"
     ]
    },
    {
     "name": "stdout",
     "output_type": "stream",
     "text": [
      "epoch 250| loss: 0.11904 | train_mse: 0.0735  | train_mae: 0.19265 |  0:01:14s\n"
     ]
    },
    {
     "name": "stdout",
     "output_type": "stream",
     "text": [
      "epoch 251| loss: 0.10353 | train_mse: 0.06691 | train_mae: 0.19748 |  0:01:15s\n"
     ]
    },
    {
     "name": "stdout",
     "output_type": "stream",
     "text": [
      "epoch 252| loss: 0.13024 | train_mse: 0.05747 | train_mae: 0.17046 |  0:01:15s\n"
     ]
    },
    {
     "name": "stdout",
     "output_type": "stream",
     "text": [
      "epoch 253| loss: 0.08794 | train_mse: 0.04881 | train_mae: 0.1647  |  0:01:15s\n"
     ]
    },
    {
     "name": "stdout",
     "output_type": "stream",
     "text": [
      "epoch 254| loss: 0.09168 | train_mse: 0.06565 | train_mae: 0.18792 |  0:01:15s\n"
     ]
    },
    {
     "name": "stdout",
     "output_type": "stream",
     "text": [
      "epoch 255| loss: 0.10015 | train_mse: 0.0725  | train_mae: 0.18838 |  0:01:16s\n"
     ]
    },
    {
     "name": "stdout",
     "output_type": "stream",
     "text": [
      "epoch 256| loss: 0.11849 | train_mse: 0.0726  | train_mae: 0.19596 |  0:01:16s\n"
     ]
    },
    {
     "name": "stdout",
     "output_type": "stream",
     "text": [
      "epoch 257| loss: 0.09043 | train_mse: 0.06875 | train_mae: 0.19071 |  0:01:16s\n"
     ]
    },
    {
     "name": "stdout",
     "output_type": "stream",
     "text": [
      "epoch 258| loss: 0.07339 | train_mse: 0.05893 | train_mae: 0.17375 |  0:01:17s\n"
     ]
    },
    {
     "name": "stdout",
     "output_type": "stream",
     "text": [
      "epoch 259| loss: 0.13801 | train_mse: 0.08561 | train_mae: 0.17635 |  0:01:17s\n"
     ]
    },
    {
     "name": "stdout",
     "output_type": "stream",
     "text": [
      "epoch 260| loss: 0.10907 | train_mse: 0.06822 | train_mae: 0.17119 |  0:01:17s\n"
     ]
    },
    {
     "name": "stdout",
     "output_type": "stream",
     "text": [
      "epoch 261| loss: 0.11765 | train_mse: 0.0708  | train_mae: 0.18024 |  0:01:18s\n"
     ]
    },
    {
     "name": "stdout",
     "output_type": "stream",
     "text": [
      "epoch 262| loss: 0.08823 | train_mse: 0.06475 | train_mae: 0.17329 |  0:01:18s\n"
     ]
    },
    {
     "name": "stdout",
     "output_type": "stream",
     "text": [
      "epoch 263| loss: 0.12814 | train_mse: 0.04988 | train_mae: 0.162   |  0:01:18s\n"
     ]
    },
    {
     "name": "stdout",
     "output_type": "stream",
     "text": [
      "epoch 264| loss: 0.12276 | train_mse: 0.05039 | train_mae: 0.16186 |  0:01:18s\n"
     ]
    },
    {
     "name": "stdout",
     "output_type": "stream",
     "text": [
      "epoch 265| loss: 0.12543 | train_mse: 0.06213 | train_mae: 0.17283 |  0:01:19s\n"
     ]
    },
    {
     "name": "stdout",
     "output_type": "stream",
     "text": [
      "epoch 266| loss: 0.13475 | train_mse: 0.05125 | train_mae: 0.17243 |  0:01:19s\n"
     ]
    },
    {
     "name": "stdout",
     "output_type": "stream",
     "text": [
      "epoch 267| loss: 0.09445 | train_mse: 0.06169 | train_mae: 0.18732 |  0:01:19s\n"
     ]
    },
    {
     "name": "stdout",
     "output_type": "stream",
     "text": [
      "epoch 268| loss: 0.09185 | train_mse: 0.05439 | train_mae: 0.17455 |  0:01:20s\n"
     ]
    },
    {
     "name": "stdout",
     "output_type": "stream",
     "text": [
      "epoch 269| loss: 0.1276  | train_mse: 0.07266 | train_mae: 0.19601 |  0:01:20s\n"
     ]
    },
    {
     "name": "stdout",
     "output_type": "stream",
     "text": [
      "epoch 270| loss: 0.09869 | train_mse: 0.06481 | train_mae: 0.1789  |  0:01:20s\n"
     ]
    },
    {
     "name": "stdout",
     "output_type": "stream",
     "text": [
      "epoch 271| loss: 0.0995  | train_mse: 0.0714  | train_mae: 0.18713 |  0:01:20s\n"
     ]
    },
    {
     "name": "stdout",
     "output_type": "stream",
     "text": [
      "epoch 272| loss: 0.10403 | train_mse: 0.06734 | train_mae: 0.18166 |  0:01:21s\n"
     ]
    },
    {
     "name": "stdout",
     "output_type": "stream",
     "text": [
      "epoch 273| loss: 0.09822 | train_mse: 0.05968 | train_mae: 0.17928 |  0:01:21s\n"
     ]
    },
    {
     "name": "stdout",
     "output_type": "stream",
     "text": [
      "epoch 274| loss: 0.09434 | train_mse: 0.06573 | train_mae: 0.18502 |  0:01:21s\n"
     ]
    },
    {
     "name": "stdout",
     "output_type": "stream",
     "text": [
      "epoch 275| loss: 0.1005  | train_mse: 0.06085 | train_mae: 0.17995 |  0:01:22s\n"
     ]
    },
    {
     "name": "stdout",
     "output_type": "stream",
     "text": [
      "epoch 276| loss: 0.09522 | train_mse: 0.06321 | train_mae: 0.18169 |  0:01:22s\n"
     ]
    },
    {
     "name": "stdout",
     "output_type": "stream",
     "text": [
      "epoch 277| loss: 0.09888 | train_mse: 0.05943 | train_mae: 0.17849 |  0:01:22s\n"
     ]
    },
    {
     "name": "stdout",
     "output_type": "stream",
     "text": [
      "epoch 278| loss: 0.09108 | train_mse: 0.05459 | train_mae: 0.17222 |  0:01:22s\n"
     ]
    },
    {
     "name": "stdout",
     "output_type": "stream",
     "text": [
      "epoch 279| loss: 0.1002  | train_mse: 0.05197 | train_mae: 0.17168 |  0:01:23s\n"
     ]
    },
    {
     "name": "stdout",
     "output_type": "stream",
     "text": [
      "epoch 280| loss: 0.08338 | train_mse: 0.05243 | train_mae: 0.17217 |  0:01:23s\n"
     ]
    },
    {
     "name": "stdout",
     "output_type": "stream",
     "text": [
      "epoch 281| loss: 0.10334 | train_mse: 0.05406 | train_mae: 0.17426 |  0:01:23s\n"
     ]
    },
    {
     "name": "stdout",
     "output_type": "stream",
     "text": [
      "epoch 282| loss: 0.0926  | train_mse: 0.0525  | train_mae: 0.17105 |  0:01:24s\n"
     ]
    },
    {
     "name": "stdout",
     "output_type": "stream",
     "text": [
      "epoch 283| loss: 0.0935  | train_mse: 0.04886 | train_mae: 0.1581  |  0:01:24s\n"
     ]
    },
    {
     "name": "stdout",
     "output_type": "stream",
     "text": [
      "epoch 284| loss: 0.10262 | train_mse: 0.0553  | train_mae: 0.17366 |  0:01:24s\n"
     ]
    },
    {
     "name": "stdout",
     "output_type": "stream",
     "text": [
      "epoch 285| loss: 0.09345 | train_mse: 0.0504  | train_mae: 0.16688 |  0:01:25s\n"
     ]
    },
    {
     "name": "stdout",
     "output_type": "stream",
     "text": [
      "epoch 286| loss: 0.08092 | train_mse: 0.04856 | train_mae: 0.16294 |  0:01:25s\n"
     ]
    },
    {
     "name": "stdout",
     "output_type": "stream",
     "text": [
      "epoch 287| loss: 0.09924 | train_mse: 0.05343 | train_mae: 0.17484 |  0:01:25s\n"
     ]
    },
    {
     "name": "stdout",
     "output_type": "stream",
     "text": [
      "epoch 288| loss: 0.07652 | train_mse: 0.05209 | train_mae: 0.16298 |  0:01:25s\n"
     ]
    },
    {
     "name": "stdout",
     "output_type": "stream",
     "text": [
      "epoch 289| loss: 0.11157 | train_mse: 0.05742 | train_mae: 0.17433 |  0:01:26s\n"
     ]
    },
    {
     "name": "stdout",
     "output_type": "stream",
     "text": [
      "epoch 290| loss: 0.09797 | train_mse: 0.05865 | train_mae: 0.17596 |  0:01:26s\n"
     ]
    },
    {
     "name": "stdout",
     "output_type": "stream",
     "text": [
      "epoch 291| loss: 0.10315 | train_mse: 0.05578 | train_mae: 0.17085 |  0:01:26s\n"
     ]
    },
    {
     "name": "stdout",
     "output_type": "stream",
     "text": [
      "epoch 292| loss: 0.08464 | train_mse: 0.06222 | train_mae: 0.182   |  0:01:27s\n"
     ]
    },
    {
     "name": "stdout",
     "output_type": "stream",
     "text": [
      "epoch 293| loss: 0.12097 | train_mse: 0.05378 | train_mae: 0.17036 |  0:01:27s\n"
     ]
    },
    {
     "name": "stdout",
     "output_type": "stream",
     "text": [
      "epoch 294| loss: 0.09808 | train_mse: 0.05301 | train_mae: 0.16864 |  0:01:27s\n"
     ]
    },
    {
     "name": "stdout",
     "output_type": "stream",
     "text": [
      "epoch 295| loss: 0.09048 | train_mse: 0.05664 | train_mae: 0.17457 |  0:01:28s\n"
     ]
    },
    {
     "name": "stdout",
     "output_type": "stream",
     "text": [
      "epoch 296| loss: 0.08117 | train_mse: 0.04831 | train_mae: 0.16164 |  0:01:28s\n"
     ]
    },
    {
     "name": "stdout",
     "output_type": "stream",
     "text": [
      "epoch 297| loss: 0.09053 | train_mse: 0.05075 | train_mae: 0.16282 |  0:01:29s\n"
     ]
    },
    {
     "name": "stdout",
     "output_type": "stream",
     "text": [
      "epoch 298| loss: 0.09507 | train_mse: 0.05116 | train_mae: 0.16463 |  0:01:29s\n"
     ]
    },
    {
     "name": "stdout",
     "output_type": "stream",
     "text": [
      "epoch 299| loss: 0.08871 | train_mse: 0.05314 | train_mae: 0.16982 |  0:01:29s\n"
     ]
    },
    {
     "name": "stdout",
     "output_type": "stream",
     "text": [
      "epoch 300| loss: 0.07498 | train_mse: 0.07206 | train_mae: 0.17124 |  0:01:29s\n"
     ]
    },
    {
     "name": "stdout",
     "output_type": "stream",
     "text": [
      "epoch 301| loss: 0.10187 | train_mse: 0.05869 | train_mae: 0.16813 |  0:01:30s\n"
     ]
    },
    {
     "name": "stdout",
     "output_type": "stream",
     "text": [
      "epoch 302| loss: 0.07746 | train_mse: 0.05243 | train_mae: 0.16722 |  0:01:30s\n"
     ]
    },
    {
     "name": "stdout",
     "output_type": "stream",
     "text": [
      "epoch 303| loss: 0.09716 | train_mse: 0.06592 | train_mae: 0.17527 |  0:01:31s\n"
     ]
    },
    {
     "name": "stdout",
     "output_type": "stream",
     "text": [
      "epoch 304| loss: 0.09599 | train_mse: 0.06895 | train_mae: 0.17136 |  0:01:31s\n"
     ]
    },
    {
     "name": "stdout",
     "output_type": "stream",
     "text": [
      "epoch 305| loss: 0.07725 | train_mse: 0.07079 | train_mae: 0.17159 |  0:01:31s\n"
     ]
    },
    {
     "name": "stdout",
     "output_type": "stream",
     "text": [
      "epoch 306| loss: 0.09058 | train_mse: 0.07273 | train_mae: 0.17517 |  0:01:31s\n"
     ]
    },
    {
     "name": "stdout",
     "output_type": "stream",
     "text": [
      "epoch 307| loss: 0.10608 | train_mse: 0.07324 | train_mae: 0.18364 |  0:01:32s\n"
     ]
    },
    {
     "name": "stdout",
     "output_type": "stream",
     "text": [
      "epoch 308| loss: 0.13603 | train_mse: 0.06205 | train_mae: 0.17376 |  0:01:32s\n"
     ]
    },
    {
     "name": "stdout",
     "output_type": "stream",
     "text": [
      "epoch 309| loss: 0.0867  | train_mse: 0.05645 | train_mae: 0.17033 |  0:01:32s\n"
     ]
    },
    {
     "name": "stdout",
     "output_type": "stream",
     "text": [
      "epoch 310| loss: 0.07286 | train_mse: 0.06069 | train_mae: 0.17288 |  0:01:33s\n"
     ]
    },
    {
     "name": "stdout",
     "output_type": "stream",
     "text": [
      "epoch 311| loss: 0.09972 | train_mse: 0.06593 | train_mae: 0.18206 |  0:01:33s\n"
     ]
    },
    {
     "name": "stdout",
     "output_type": "stream",
     "text": [
      "epoch 312| loss: 0.10442 | train_mse: 0.05671 | train_mae: 0.16869 |  0:01:33s\n"
     ]
    },
    {
     "name": "stdout",
     "output_type": "stream",
     "text": [
      "epoch 313| loss: 0.09118 | train_mse: 0.05297 | train_mae: 0.16228 |  0:01:33s\n"
     ]
    },
    {
     "name": "stdout",
     "output_type": "stream",
     "text": [
      "epoch 314| loss: 0.09197 | train_mse: 0.05051 | train_mae: 0.15872 |  0:01:34s\n"
     ]
    },
    {
     "name": "stdout",
     "output_type": "stream",
     "text": [
      "epoch 315| loss: 0.0908  | train_mse: 0.05353 | train_mae: 0.16737 |  0:01:34s\n"
     ]
    },
    {
     "name": "stdout",
     "output_type": "stream",
     "text": [
      "epoch 316| loss: 0.0885  | train_mse: 0.05429 | train_mae: 0.17071 |  0:01:34s\n"
     ]
    },
    {
     "name": "stdout",
     "output_type": "stream",
     "text": [
      "epoch 317| loss: 0.09478 | train_mse: 0.04817 | train_mae: 0.15574 |  0:01:35s\n"
     ]
    },
    {
     "name": "stdout",
     "output_type": "stream",
     "text": [
      "epoch 318| loss: 0.12399 | train_mse: 0.04694 | train_mae: 0.1606  |  0:01:35s\n"
     ]
    },
    {
     "name": "stdout",
     "output_type": "stream",
     "text": [
      "epoch 319| loss: 0.07804 | train_mse: 0.0502  | train_mae: 0.16151 |  0:01:35s\n"
     ]
    },
    {
     "name": "stdout",
     "output_type": "stream",
     "text": [
      "epoch 320| loss: 0.09417 | train_mse: 0.0754  | train_mae: 0.1928  |  0:01:35s\n"
     ]
    },
    {
     "name": "stdout",
     "output_type": "stream",
     "text": [
      "epoch 321| loss: 0.09824 | train_mse: 0.052   | train_mae: 0.15808 |  0:01:36s\n"
     ]
    },
    {
     "name": "stdout",
     "output_type": "stream",
     "text": [
      "epoch 322| loss: 0.09078 | train_mse: 0.06042 | train_mae: 0.1666  |  0:01:36s\n"
     ]
    },
    {
     "name": "stdout",
     "output_type": "stream",
     "text": [
      "epoch 323| loss: 0.07366 | train_mse: 0.04741 | train_mae: 0.16088 |  0:01:36s\n"
     ]
    },
    {
     "name": "stdout",
     "output_type": "stream",
     "text": [
      "epoch 324| loss: 0.08812 | train_mse: 0.04958 | train_mae: 0.1662  |  0:01:37s\n"
     ]
    },
    {
     "name": "stdout",
     "output_type": "stream",
     "text": [
      "epoch 325| loss: 0.10001 | train_mse: 0.06825 | train_mae: 0.19129 |  0:01:37s\n"
     ]
    },
    {
     "name": "stdout",
     "output_type": "stream",
     "text": [
      "epoch 326| loss: 0.11216 | train_mse: 0.05785 | train_mae: 0.17886 |  0:01:37s\n"
     ]
    },
    {
     "name": "stdout",
     "output_type": "stream",
     "text": [
      "epoch 327| loss: 0.12298 | train_mse: 0.05599 | train_mae: 0.17752 |  0:01:38s\n"
     ]
    },
    {
     "name": "stdout",
     "output_type": "stream",
     "text": [
      "epoch 328| loss: 0.10482 | train_mse: 0.05442 | train_mae: 0.16998 |  0:01:38s\n"
     ]
    },
    {
     "name": "stdout",
     "output_type": "stream",
     "text": [
      "epoch 329| loss: 0.07746 | train_mse: 0.06076 | train_mae: 0.17617 |  0:01:38s\n"
     ]
    },
    {
     "name": "stdout",
     "output_type": "stream",
     "text": [
      "epoch 330| loss: 0.10002 | train_mse: 0.0694  | train_mae: 0.18874 |  0:01:38s\n"
     ]
    },
    {
     "name": "stdout",
     "output_type": "stream",
     "text": [
      "epoch 331| loss: 0.09824 | train_mse: 0.05992 | train_mae: 0.17588 |  0:01:39s\n"
     ]
    },
    {
     "name": "stdout",
     "output_type": "stream",
     "text": [
      "epoch 332| loss: 0.12391 | train_mse: 0.04809 | train_mae: 0.15996 |  0:01:39s\n"
     ]
    },
    {
     "name": "stdout",
     "output_type": "stream",
     "text": [
      "epoch 333| loss: 0.09841 | train_mse: 0.06145 | train_mae: 0.1852  |  0:01:39s\n"
     ]
    },
    {
     "name": "stdout",
     "output_type": "stream",
     "text": [
      "epoch 334| loss: 0.09335 | train_mse: 0.05408 | train_mae: 0.17465 |  0:01:40s\n"
     ]
    },
    {
     "name": "stdout",
     "output_type": "stream",
     "text": [
      "epoch 335| loss: 0.07899 | train_mse: 0.04761 | train_mae: 0.16263 |  0:01:40s\n"
     ]
    },
    {
     "name": "stdout",
     "output_type": "stream",
     "text": [
      "epoch 336| loss: 0.0722  | train_mse: 0.04998 | train_mae: 0.16256 |  0:01:40s\n"
     ]
    },
    {
     "name": "stdout",
     "output_type": "stream",
     "text": [
      "epoch 337| loss: 0.09175 | train_mse: 0.05206 | train_mae: 0.16569 |  0:01:40s\n"
     ]
    },
    {
     "name": "stdout",
     "output_type": "stream",
     "text": [
      "epoch 338| loss: 0.06847 | train_mse: 0.04448 | train_mae: 0.15249 |  0:01:41s\n"
     ]
    },
    {
     "name": "stdout",
     "output_type": "stream",
     "text": [
      "epoch 339| loss: 0.09266 | train_mse: 0.05484 | train_mae: 0.17184 |  0:01:41s\n"
     ]
    },
    {
     "name": "stdout",
     "output_type": "stream",
     "text": [
      "epoch 340| loss: 0.07516 | train_mse: 0.04679 | train_mae: 0.16001 |  0:01:41s\n"
     ]
    },
    {
     "name": "stdout",
     "output_type": "stream",
     "text": [
      "epoch 341| loss: 0.073   | train_mse: 0.0703  | train_mae: 0.19611 |  0:01:42s\n"
     ]
    },
    {
     "name": "stdout",
     "output_type": "stream",
     "text": [
      "epoch 342| loss: 0.07095 | train_mse: 0.06009 | train_mae: 0.17725 |  0:01:42s\n"
     ]
    },
    {
     "name": "stdout",
     "output_type": "stream",
     "text": [
      "epoch 343| loss: 0.09215 | train_mse: 0.05894 | train_mae: 0.17675 |  0:01:42s\n"
     ]
    },
    {
     "name": "stdout",
     "output_type": "stream",
     "text": [
      "epoch 344| loss: 0.15208 | train_mse: 0.06561 | train_mae: 0.18694 |  0:01:42s\n"
     ]
    },
    {
     "name": "stdout",
     "output_type": "stream",
     "text": [
      "epoch 345| loss: 0.08859 | train_mse: 0.05832 | train_mae: 0.17644 |  0:01:43s\n"
     ]
    },
    {
     "name": "stdout",
     "output_type": "stream",
     "text": [
      "epoch 346| loss: 0.09286 | train_mse: 0.0672  | train_mae: 0.18726 |  0:01:43s\n"
     ]
    },
    {
     "name": "stdout",
     "output_type": "stream",
     "text": [
      "epoch 347| loss: 0.09742 | train_mse: 0.05822 | train_mae: 0.17719 |  0:01:43s\n"
     ]
    },
    {
     "name": "stdout",
     "output_type": "stream",
     "text": [
      "epoch 348| loss: 0.08261 | train_mse: 0.05313 | train_mae: 0.17607 |  0:01:44s\n"
     ]
    },
    {
     "name": "stdout",
     "output_type": "stream",
     "text": [
      "epoch 349| loss: 0.08602 | train_mse: 0.04743 | train_mae: 0.16032 |  0:01:44s\n"
     ]
    },
    {
     "name": "stdout",
     "output_type": "stream",
     "text": [
      "epoch 350| loss: 0.09623 | train_mse: 0.04841 | train_mae: 0.16651 |  0:01:44s\n"
     ]
    },
    {
     "name": "stdout",
     "output_type": "stream",
     "text": [
      "epoch 351| loss: 0.11736 | train_mse: 0.06242 | train_mae: 0.18273 |  0:01:45s\n"
     ]
    },
    {
     "name": "stdout",
     "output_type": "stream",
     "text": [
      "epoch 352| loss: 0.11292 | train_mse: 0.05471 | train_mae: 0.1734  |  0:01:45s\n"
     ]
    },
    {
     "name": "stdout",
     "output_type": "stream",
     "text": [
      "epoch 353| loss: 0.09601 | train_mse: 0.06123 | train_mae: 0.17826 |  0:01:45s\n"
     ]
    },
    {
     "name": "stdout",
     "output_type": "stream",
     "text": [
      "epoch 354| loss: 0.07792 | train_mse: 0.0544  | train_mae: 0.17309 |  0:01:45s\n"
     ]
    },
    {
     "name": "stdout",
     "output_type": "stream",
     "text": [
      "epoch 355| loss: 0.08402 | train_mse: 0.04398 | train_mae: 0.15385 |  0:01:46s\n"
     ]
    },
    {
     "name": "stdout",
     "output_type": "stream",
     "text": [
      "epoch 356| loss: 0.09786 | train_mse: 0.0452  | train_mae: 0.15608 |  0:01:46s\n"
     ]
    },
    {
     "name": "stdout",
     "output_type": "stream",
     "text": [
      "epoch 357| loss: 0.08686 | train_mse: 0.05752 | train_mae: 0.16725 |  0:01:46s\n"
     ]
    },
    {
     "name": "stdout",
     "output_type": "stream",
     "text": [
      "epoch 358| loss: 0.09665 | train_mse: 0.04915 | train_mae: 0.16024 |  0:01:47s\n"
     ]
    },
    {
     "name": "stdout",
     "output_type": "stream",
     "text": [
      "epoch 359| loss: 0.08442 | train_mse: 0.0421  | train_mae: 0.15247 |  0:01:47s\n"
     ]
    },
    {
     "name": "stdout",
     "output_type": "stream",
     "text": [
      "epoch 360| loss: 0.10179 | train_mse: 0.05084 | train_mae: 0.16429 |  0:01:47s\n"
     ]
    },
    {
     "name": "stdout",
     "output_type": "stream",
     "text": [
      "epoch 361| loss: 0.10835 | train_mse: 0.05886 | train_mae: 0.17798 |  0:01:47s\n"
     ]
    },
    {
     "name": "stdout",
     "output_type": "stream",
     "text": [
      "epoch 362| loss: 0.09205 | train_mse: 0.05541 | train_mae: 0.17913 |  0:01:48s\n"
     ]
    },
    {
     "name": "stdout",
     "output_type": "stream",
     "text": [
      "epoch 363| loss: 0.08376 | train_mse: 0.05572 | train_mae: 0.17856 |  0:01:48s\n"
     ]
    },
    {
     "name": "stdout",
     "output_type": "stream",
     "text": [
      "epoch 364| loss: 0.08468 | train_mse: 0.05604 | train_mae: 0.17434 |  0:01:48s\n"
     ]
    },
    {
     "name": "stdout",
     "output_type": "stream",
     "text": [
      "epoch 365| loss: 0.09204 | train_mse: 0.05266 | train_mae: 0.17297 |  0:01:49s\n"
     ]
    },
    {
     "name": "stdout",
     "output_type": "stream",
     "text": [
      "epoch 366| loss: 0.08174 | train_mse: 0.05887 | train_mae: 0.18465 |  0:01:49s\n"
     ]
    },
    {
     "name": "stdout",
     "output_type": "stream",
     "text": [
      "epoch 367| loss: 0.10829 | train_mse: 0.04773 | train_mae: 0.15838 |  0:01:49s\n"
     ]
    },
    {
     "name": "stdout",
     "output_type": "stream",
     "text": [
      "epoch 368| loss: 0.08068 | train_mse: 0.0512  | train_mae: 0.16613 |  0:01:50s\n"
     ]
    },
    {
     "name": "stdout",
     "output_type": "stream",
     "text": [
      "epoch 369| loss: 0.11489 | train_mse: 0.05035 | train_mae: 0.16195 |  0:01:50s\n"
     ]
    },
    {
     "name": "stdout",
     "output_type": "stream",
     "text": [
      "epoch 370| loss: 0.08196 | train_mse: 0.0451  | train_mae: 0.1524  |  0:01:50s\n"
     ]
    },
    {
     "name": "stdout",
     "output_type": "stream",
     "text": [
      "epoch 371| loss: 0.08316 | train_mse: 0.05069 | train_mae: 0.16441 |  0:01:50s\n"
     ]
    },
    {
     "name": "stdout",
     "output_type": "stream",
     "text": [
      "epoch 372| loss: 0.09184 | train_mse: 0.05166 | train_mae: 0.16571 |  0:01:51s\n"
     ]
    },
    {
     "name": "stdout",
     "output_type": "stream",
     "text": [
      "epoch 373| loss: 0.08431 | train_mse: 0.04777 | train_mae: 0.16133 |  0:01:51s\n"
     ]
    },
    {
     "name": "stdout",
     "output_type": "stream",
     "text": [
      "epoch 374| loss: 0.09902 | train_mse: 0.0595  | train_mae: 0.17942 |  0:01:51s\n"
     ]
    },
    {
     "name": "stdout",
     "output_type": "stream",
     "text": [
      "epoch 375| loss: 0.14161 | train_mse: 0.04695 | train_mae: 0.16252 |  0:01:52s\n"
     ]
    },
    {
     "name": "stdout",
     "output_type": "stream",
     "text": [
      "epoch 376| loss: 0.08793 | train_mse: 0.05136 | train_mae: 0.16578 |  0:01:52s\n"
     ]
    },
    {
     "name": "stdout",
     "output_type": "stream",
     "text": [
      "epoch 377| loss: 0.09518 | train_mse: 0.05335 | train_mae: 0.16788 |  0:01:52s\n"
     ]
    },
    {
     "name": "stdout",
     "output_type": "stream",
     "text": [
      "epoch 378| loss: 0.07398 | train_mse: 0.055   | train_mae: 0.17069 |  0:01:53s\n"
     ]
    },
    {
     "name": "stdout",
     "output_type": "stream",
     "text": [
      "epoch 379| loss: 0.10624 | train_mse: 0.05099 | train_mae: 0.1663  |  0:01:53s\n"
     ]
    },
    {
     "name": "stdout",
     "output_type": "stream",
     "text": [
      "epoch 380| loss: 0.08815 | train_mse: 0.05201 | train_mae: 0.17155 |  0:01:53s\n"
     ]
    },
    {
     "name": "stdout",
     "output_type": "stream",
     "text": [
      "epoch 381| loss: 0.10093 | train_mse: 0.05649 | train_mae: 0.17384 |  0:01:53s\n"
     ]
    },
    {
     "name": "stdout",
     "output_type": "stream",
     "text": [
      "epoch 382| loss: 0.11925 | train_mse: 0.05463 | train_mae: 0.17169 |  0:01:54s\n"
     ]
    },
    {
     "name": "stdout",
     "output_type": "stream",
     "text": [
      "epoch 383| loss: 0.0865  | train_mse: 0.05836 | train_mae: 0.17136 |  0:01:54s\n"
     ]
    },
    {
     "name": "stdout",
     "output_type": "stream",
     "text": [
      "epoch 384| loss: 0.11043 | train_mse: 0.05261 | train_mae: 0.17329 |  0:01:54s\n"
     ]
    },
    {
     "name": "stdout",
     "output_type": "stream",
     "text": [
      "epoch 385| loss: 0.08836 | train_mse: 0.05417 | train_mae: 0.1692  |  0:01:55s\n"
     ]
    },
    {
     "name": "stdout",
     "output_type": "stream",
     "text": [
      "epoch 386| loss: 0.0871  | train_mse: 0.06837 | train_mae: 0.18837 |  0:01:55s\n"
     ]
    },
    {
     "name": "stdout",
     "output_type": "stream",
     "text": [
      "epoch 387| loss: 0.10286 | train_mse: 0.05649 | train_mae: 0.17567 |  0:01:55s\n"
     ]
    },
    {
     "name": "stdout",
     "output_type": "stream",
     "text": [
      "epoch 388| loss: 0.08645 | train_mse: 0.05238 | train_mae: 0.16872 |  0:01:56s\n"
     ]
    },
    {
     "name": "stdout",
     "output_type": "stream",
     "text": [
      "epoch 389| loss: 0.08372 | train_mse: 0.05236 | train_mae: 0.17143 |  0:01:56s\n"
     ]
    },
    {
     "name": "stdout",
     "output_type": "stream",
     "text": [
      "epoch 390| loss: 0.10732 | train_mse: 0.05232 | train_mae: 0.16888 |  0:01:56s\n"
     ]
    },
    {
     "name": "stdout",
     "output_type": "stream",
     "text": [
      "epoch 391| loss: 0.10846 | train_mse: 0.05611 | train_mae: 0.17414 |  0:01:56s\n"
     ]
    },
    {
     "name": "stdout",
     "output_type": "stream",
     "text": [
      "epoch 392| loss: 0.1128  | train_mse: 0.05435 | train_mae: 0.17236 |  0:01:57s\n"
     ]
    },
    {
     "name": "stdout",
     "output_type": "stream",
     "text": [
      "epoch 393| loss: 0.08211 | train_mse: 0.04799 | train_mae: 0.1597  |  0:01:57s\n"
     ]
    },
    {
     "name": "stdout",
     "output_type": "stream",
     "text": [
      "epoch 394| loss: 0.11103 | train_mse: 0.06201 | train_mae: 0.18299 |  0:01:57s\n"
     ]
    },
    {
     "name": "stdout",
     "output_type": "stream",
     "text": [
      "epoch 395| loss: 0.06732 | train_mse: 0.04849 | train_mae: 0.16147 |  0:01:58s\n"
     ]
    },
    {
     "name": "stdout",
     "output_type": "stream",
     "text": [
      "epoch 396| loss: 0.09276 | train_mse: 0.05928 | train_mae: 0.17608 |  0:01:58s\n"
     ]
    },
    {
     "name": "stdout",
     "output_type": "stream",
     "text": [
      "epoch 397| loss: 0.09823 | train_mse: 0.047   | train_mae: 0.15689 |  0:01:58s\n"
     ]
    },
    {
     "name": "stdout",
     "output_type": "stream",
     "text": [
      "epoch 398| loss: 0.10585 | train_mse: 0.05107 | train_mae: 0.16454 |  0:01:59s\n"
     ]
    },
    {
     "name": "stdout",
     "output_type": "stream",
     "text": [
      "epoch 399| loss: 0.07576 | train_mse: 0.04543 | train_mae: 0.1556  |  0:01:59s\n"
     ]
    },
    {
     "name": "stdout",
     "output_type": "stream",
     "text": [
      "epoch 400| loss: 0.06821 | train_mse: 0.04677 | train_mae: 0.15484 |  0:01:59s\n"
     ]
    },
    {
     "name": "stdout",
     "output_type": "stream",
     "text": [
      "epoch 401| loss: 0.07327 | train_mse: 0.0629  | train_mae: 0.16831 |  0:01:59s\n"
     ]
    },
    {
     "name": "stdout",
     "output_type": "stream",
     "text": [
      "epoch 402| loss: 0.07843 | train_mse: 0.07091 | train_mae: 0.17023 |  0:02:00s\n"
     ]
    },
    {
     "name": "stdout",
     "output_type": "stream",
     "text": [
      "epoch 403| loss: 0.11165 | train_mse: 0.06764 | train_mae: 0.17988 |  0:02:00s\n"
     ]
    },
    {
     "name": "stdout",
     "output_type": "stream",
     "text": [
      "epoch 404| loss: 0.08398 | train_mse: 0.05625 | train_mae: 0.17341 |  0:02:00s\n"
     ]
    },
    {
     "name": "stdout",
     "output_type": "stream",
     "text": [
      "epoch 405| loss: 0.08088 | train_mse: 0.04822 | train_mae: 0.15931 |  0:02:01s\n"
     ]
    },
    {
     "name": "stdout",
     "output_type": "stream",
     "text": [
      "epoch 406| loss: 0.07161 | train_mse: 0.04906 | train_mae: 0.16263 |  0:02:01s\n"
     ]
    },
    {
     "name": "stdout",
     "output_type": "stream",
     "text": [
      "epoch 407| loss: 0.10248 | train_mse: 0.04936 | train_mae: 0.16983 |  0:02:01s\n"
     ]
    },
    {
     "name": "stdout",
     "output_type": "stream",
     "text": [
      "epoch 408| loss: 0.06871 | train_mse: 0.04389 | train_mae: 0.15563 |  0:02:01s\n"
     ]
    },
    {
     "name": "stdout",
     "output_type": "stream",
     "text": [
      "epoch 409| loss: 0.09233 | train_mse: 0.05016 | train_mae: 0.16392 |  0:02:02s\n"
     ]
    },
    {
     "name": "stdout",
     "output_type": "stream",
     "text": [
      "epoch 410| loss: 0.10131 | train_mse: 0.04958 | train_mae: 0.167   |  0:02:02s\n"
     ]
    },
    {
     "name": "stdout",
     "output_type": "stream",
     "text": [
      "epoch 411| loss: 0.07212 | train_mse: 0.0495  | train_mae: 0.1649  |  0:02:02s\n"
     ]
    },
    {
     "name": "stdout",
     "output_type": "stream",
     "text": [
      "epoch 412| loss: 0.08107 | train_mse: 0.04723 | train_mae: 0.16101 |  0:02:03s\n"
     ]
    },
    {
     "name": "stdout",
     "output_type": "stream",
     "text": [
      "epoch 413| loss: 0.08881 | train_mse: 0.05785 | train_mae: 0.17397 |  0:02:03s\n"
     ]
    },
    {
     "name": "stdout",
     "output_type": "stream",
     "text": [
      "epoch 414| loss: 0.0812  | train_mse: 0.06087 | train_mae: 0.17814 |  0:02:03s\n"
     ]
    },
    {
     "name": "stdout",
     "output_type": "stream",
     "text": [
      "epoch 415| loss: 0.0843  | train_mse: 0.04932 | train_mae: 0.15632 |  0:02:04s\n"
     ]
    },
    {
     "name": "stdout",
     "output_type": "stream",
     "text": [
      "epoch 416| loss: 0.08612 | train_mse: 0.04271 | train_mae: 0.1525  |  0:02:04s\n"
     ]
    },
    {
     "name": "stdout",
     "output_type": "stream",
     "text": [
      "epoch 417| loss: 0.07842 | train_mse: 0.05007 | train_mae: 0.16167 |  0:02:04s\n"
     ]
    },
    {
     "name": "stdout",
     "output_type": "stream",
     "text": [
      "epoch 418| loss: 0.10659 | train_mse: 0.0561  | train_mae: 0.17202 |  0:02:04s\n"
     ]
    },
    {
     "name": "stdout",
     "output_type": "stream",
     "text": [
      "epoch 419| loss: 0.07807 | train_mse: 0.04266 | train_mae: 0.1525  |  0:02:05s\n"
     ]
    },
    {
     "name": "stdout",
     "output_type": "stream",
     "text": [
      "epoch 420| loss: 0.08406 | train_mse: 0.04764 | train_mae: 0.16287 |  0:02:05s\n",
      "\n",
      "Early stopping occurred at epoch 420 with best_epoch = 370 and best_train_mae = 0.1524\n",
      "Best weights from best epoch are automatically used!\n"
     ]
    }
   ],
   "source": [
    "#Train the Model\n",
    "\n",
    "Y_train = np.reshape(Y_train, (-1, 1))\n",
    "Y_test = np.reshape(Y_test, (-1, 1))\n",
    "\n",
    "prior_model = TabNetRegressor(optimizer_fn=torch.optim.Adam, optimizer_params=dict(lr = 0.01),\n",
    "          #scheduler_params={\"step_size\":10, ], \"gamma\":0.9},\n",
    "          #scheduler_fn=torch.optim.lr_scheduler.StepLR\n",
    "          )  #TabNetRegressor()\n",
    "\n",
    "prior_model.fit(X_train,Y_train,eval_set=[(X_train, Y_train)],\n",
    "            eval_name=['train'], \n",
    "            eval_metric=[ 'mse', 'mae'], \n",
    "            max_epochs = n_epochs, \n",
    "            batch_size = batch_size,\n",
    "            patience=50\n",
    "            )"
   ]
  },
  {
   "cell_type": "code",
   "execution_count": 10,
   "id": "af65dcda",
   "metadata": {
    "execution": {
     "iopub.execute_input": "2022-07-22T15:18:58.639924Z",
     "iopub.status.busy": "2022-07-22T15:18:58.639598Z",
     "iopub.status.idle": "2022-07-22T15:18:58.699914Z",
     "shell.execute_reply": "2022-07-22T15:18:58.699324Z"
    },
    "id": "af65dcda",
    "papermill": {
     "duration": 0.095481,
     "end_time": "2022-07-22T15:18:58.703183",
     "exception": false,
     "start_time": "2022-07-22T15:18:58.607702",
     "status": "completed"
    },
    "tags": []
   },
   "outputs": [
    {
     "data": {
      "application/scrapbook.scrap.json+json": {
       "data": 0.10155763124289258,
       "encoder": "json",
       "name": "Prior Model MSE",
       "version": 1
      }
     },
     "metadata": {
      "scrapbook": {
       "data": true,
       "display": false,
       "name": "Prior Model MSE"
      }
     },
     "output_type": "display_data"
    },
    {
     "data": {
      "application/scrapbook.scrap.json+json": {
       "data": 0.10359795627227122,
       "encoder": "json",
       "name": "ABC Pre-generator MSE",
       "version": 1
      }
     },
     "metadata": {
      "scrapbook": {
       "data": true,
       "display": false,
       "name": "ABC Pre-generator MSE"
      }
     },
     "output_type": "display_data"
    },
    {
     "data": {
      "application/scrapbook.scrap.json+json": {
       "data": 0.22820718955140656,
       "encoder": "json",
       "name": "Prior Model MAE",
       "version": 1
      }
     },
     "metadata": {
      "scrapbook": {
       "data": true,
       "display": false,
       "name": "Prior Model MAE"
      }
     },
     "output_type": "display_data"
    },
    {
     "name": "stdout",
     "output_type": "stream",
     "text": [
      "Prior Model MAE 0.22820718955140656\n"
     ]
    },
    {
     "data": {
      "application/scrapbook.scrap.json+json": {
       "data": 0.23183568560919138,
       "encoder": "json",
       "name": "ABC Pre-generator MAE",
       "version": 1
      }
     },
     "metadata": {
      "scrapbook": {
       "data": true,
       "display": false,
       "name": "ABC Pre-generator MAE"
      }
     },
     "output_type": "display_data"
    },
    {
     "name": "stdout",
     "output_type": "stream",
     "text": [
      "ABC Pre-generator MAE 0.23183568560919138\n"
     ]
    }
   ],
   "source": [
    "y_pred = prior_model.predict(X_test)\n",
    "y_abc = y_pred + np.random.normal(0,variance, y_pred.shape) + bias \n",
    "mse = mean_squared_error(y_pred,Y_test)\n",
    "sb.glue(\"Prior Model MSE\",mse)\n",
    "mse = mean_squared_error(y_abc,Y_test)\n",
    "sb.glue(\"ABC Pre-generator MSE\",mse)\n",
    "mae = mean_absolute_error(y_pred,Y_test)\n",
    "sb.glue(\"Prior Model MAE\",mae)\n",
    "print(\"Prior Model MAE\",mae)\n",
    "mae = mean_absolute_error(y_abc,Y_test)\n",
    "sb.glue(\"ABC Pre-generator MAE\",mae)\n",
    "print(\"ABC Pre-generator MAE\",mae)"
   ]
  },
  {
   "cell_type": "markdown",
   "id": "25609da2",
   "metadata": {
    "papermill": {
     "duration": 0.026683,
     "end_time": "2022-07-22T15:18:58.760298",
     "exception": false,
     "start_time": "2022-07-22T15:18:58.733615",
     "status": "completed"
    },
    "tags": []
   },
   "source": [
    "# mGAN Model"
   ]
  },
  {
   "cell_type": "code",
   "execution_count": 11,
   "id": "dfc3464d",
   "metadata": {
    "execution": {
     "iopub.execute_input": "2022-07-22T15:18:58.815617Z",
     "iopub.status.busy": "2022-07-22T15:18:58.815324Z",
     "iopub.status.idle": "2022-07-22T15:18:58.822172Z",
     "shell.execute_reply": "2022-07-22T15:18:58.821507Z"
    },
    "papermill": {
     "duration": 0.038824,
     "end_time": "2022-07-22T15:18:58.824622",
     "exception": false,
     "start_time": "2022-07-22T15:18:58.785798",
     "status": "completed"
    },
    "tags": []
   },
   "outputs": [],
   "source": [
    "gen = network.Generator(n_features+1).to(device)\n",
    "disc = network.Discriminator(n_features+1).to(device)\n",
    "\n",
    "criterion = torch.nn.BCELoss()\n",
    "gen_opt = torch.optim.Adam(gen.parameters(), lr=0.01, betas=(0.5, 0.999))\n",
    "disc_opt = torch.optim.Adam(disc.parameters(), lr=0.01, betas=(0.5, 0.999))"
   ]
  },
  {
   "cell_type": "code",
   "execution_count": 12,
   "id": "b75fdd85",
   "metadata": {
    "execution": {
     "iopub.execute_input": "2022-07-22T15:18:58.885443Z",
     "iopub.status.busy": "2022-07-22T15:18:58.885098Z",
     "iopub.status.idle": "2022-07-22T15:22:01.696896Z",
     "shell.execute_reply": "2022-07-22T15:22:01.695936Z"
    },
    "papermill": {
     "duration": 182.844711,
     "end_time": "2022-07-22T15:22:01.699197",
     "exception": false,
     "start_time": "2022-07-22T15:18:58.854486",
     "status": "completed"
    },
    "tags": []
   },
   "outputs": [
    {
     "data": {
      "image/png": "[encoded data removed]",
      "text/plain": [
       "<Figure size 432x288 with 1 Axes>"
      ]
     },
     "metadata": {
      "needs_background": "light"
     },
     "output_type": "display_data"
    },
    {
     "data": {
      "image/png": "[encoded data removed]",
      "text/plain": [
       "<Figure size 432x288 with 1 Axes>"
      ]
     },
     "metadata": {
      "needs_background": "light"
     },
     "output_type": "display_data"
    }
   ],
   "source": [
    "#Training the ABC_GAN \n",
    "ABC_train_test2.training_GAN(disc,gen,disc_opt,gen_opt,train_data,batch_size,n_epochs,criterion,prior_model,variance,bias,device)"
   ]
  },
  {
   "cell_type": "code",
   "execution_count": 13,
   "id": "1fa7c368",
   "metadata": {
    "execution": {
     "iopub.execute_input": "2022-07-22T15:22:01.761695Z",
     "iopub.status.busy": "2022-07-22T15:22:01.761391Z",
     "iopub.status.idle": "2022-07-22T15:22:03.802060Z",
     "shell.execute_reply": "2022-07-22T15:22:03.801505Z"
    },
    "papermill": {
     "duration": 2.073601,
     "end_time": "2022-07-22T15:22:03.804402",
     "exception": false,
     "start_time": "2022-07-22T15:22:01.730801",
     "status": "completed"
    },
    "tags": []
   },
   "outputs": [
    {
     "data": {
      "application/scrapbook.scrap.json+json": {
       "data": 0.20987003340238308,
       "encoder": "json",
       "name": "ABC-GAN Model 1 MSE",
       "version": 1
      }
     },
     "metadata": {
      "scrapbook": {
       "data": true,
       "display": false,
       "name": "ABC-GAN Model 1 MSE"
      }
     },
     "output_type": "display_data"
    },
    {
     "data": {
      "application/scrapbook.scrap.json+json": {
       "data": 0.3291770549651747,
       "encoder": "json",
       "name": "ABC-GAN Model 1 MAE",
       "version": 1
      }
     },
     "metadata": {
      "scrapbook": {
       "data": true,
       "display": false,
       "name": "ABC-GAN Model 1 MAE"
      }
     },
     "output_type": "display_data"
    },
    {
     "data": {
      "application/scrapbook.scrap.json+json": {
       "data": 33.576059606447814,
       "encoder": "json",
       "name": "ABC-GAN Model 1 Manhattan Distance",
       "version": 1
      }
     },
     "metadata": {
      "scrapbook": {
       "data": true,
       "display": false,
       "name": "ABC-GAN Model 1 Manhattan Distance"
      }
     },
     "output_type": "display_data"
    },
    {
     "data": {
      "application/scrapbook.scrap.json+json": {
       "data": 4.6265298265656645,
       "encoder": "json",
       "name": "ABC-GAN Model 1 Euclidean distance",
       "version": 1
      }
     },
     "metadata": {
      "scrapbook": {
       "data": true,
       "display": false,
       "name": "ABC-GAN Model 1 Euclidean distance"
      }
     },
     "output_type": "display_data"
    },
    {
     "data": {
      "application/scrapbook.scrap.json+json": {
       "data": [
        [
         0.20577976543222237,
         0.20570557002467763,
         0.2022185100203138,
         0.21136670857239045,
         0.21278294180408525,
         0.2124602805902058,
         0.20858257339172956,
         0.21714706596263111,
         0.20287389606930387,
         0.21081233977861324,
         0.21295619081220182,
         0.2180999331149858,
         0.2093943187903652,
         0.20943507443419843,
         0.19932698582067815,
         0.20111031553378167,
         0.2090313106844115,
         0.20982533675285106,
         0.20477146337336852,
         0.21273276263391525,
         0.2116319141549129,
         0.20686618243710161,
         0.20723707493584237,
         0.20572219115674897,
         0.21085133328947187,
         0.2116454246984911,
         0.2139438317310982,
         0.203361317367757,
         0.21405630743326096,
         0.21646456597238492,
         0.2074336740905149,
         0.21084411236968378,
         0.20664694031089437,
         0.2114350572992036,
         0.2046350355105657,
         0.20999251068124306,
         0.21501131731189807,
         0.20920194788033253,
         0.20891524517983537,
         0.21355999928667155,
         0.21222085033458285,
         0.20910640064207334,
         0.2116396562659696,
         0.21803930781763223,
         0.2038561282211782,
         0.20592097849684549,
         0.2060383216926035,
         0.21039119416356541,
         0.20560209848245656,
         0.2128851877492491,
         0.21226088267220206,
         0.21138265749560253,
         0.21940041820316133,
         0.20962325921659072,
         0.21184891862402075,
         0.20396178823457317,
         0.20910996431882176,
         0.21464874340383253,
         0.20856165907462762,
         0.21191960196478496,
         0.2133388670814954,
         0.20730340671629008,
         0.21043115180633237,
         0.21095629690427747,
         0.20794503534282935,
         0.20608513517211702,
         0.21419628105712557,
         0.21575148550184262,
         0.2073959621447256,
         0.20359348647392422,
         0.2080985274180087,
         0.21122343859470197,
         0.20484493577589988,
         0.2188700380713115,
         0.2039224985932504,
         0.21418379548100783,
         0.20934534945001054,
         0.2108170901881031,
         0.2067941322945445,
         0.21475505840747725,
         0.208314066411099,
         0.210768529837766,
         0.20400679425378956,
         0.20973251134316492,
         0.21169909734541548,
         0.2089148155613497,
         0.21166116009231595,
         0.20518531661728567,
         0.21523288341118282,
         0.20675357670748298,
         0.21358181793468062,
         0.21461523764639617,
         0.21308461357528669,
         0.21024999338029596,
         0.21126910590271536,
         0.20742416284648393,
         0.20832812813486629,
         0.21373393243669397,
         0.2094643837575491,
         0.20884389679799648
        ],
        [
         0.3267224241486367,
         0.3281665329328355,
         0.3237734955972901,
         0.3268786733422209,
         0.3277096035798975,
         0.3310277482092965,
         0.3295237951930247,
         0.3366324218245698,
         0.32107084569539507,
         0.3292234424209478,
         0.3340801131710702,
         0.33524366683673623,
         0.3285816114980216,
         0.3271398478205882,
         0.31942065480146925,
         0.3203092640740614,
         0.32536721751824316,
         0.3283521451567318,
         0.3260850548086798,
         0.32783645731123057,
         0.33193636974137203,
         0.3275959574635707,
         0.3241970535805997,
         0.3247379618605562,
         0.33253814700041334,
         0.3286496527566045,
         0.33021470725390256,
         0.3245800093327667,
         0.33093512003474373,
         0.3380566927074802,
         0.32700771075107304,
         0.326841766160785,
         0.32824293922121617,
         0.3309174167978413,
         0.3225355822885153,
         0.3353529211279808,
         0.33541121651582856,
         0.32554957325405937,
         0.3316282569704687,
         0.3342233382384567,
         0.3321376607625508,
         0.3297258728348157,
         0.3295388379152499,
         0.33910721251923664,
         0.32531354119818584,
         0.32900686616844993,
         0.326105922862303,
         0.33230490584437755,
         0.32419765985333454,
         0.33001902359811697,
         0.3355254466261934,
         0.3296448874342091,
         0.3386987063157208,
         0.3287382914374272,
         0.33196006616687074,
         0.3252823395544992,
         0.3267157448492214,
         0.3311117207083632,
         0.3256412684260046,
         0.32438002910245867,
         0.3350848201662302,
         0.3249072421196045,
         0.3302177311669962,
         0.333119698270571,
         0.32768731662893996,
         0.3238557408034217,
         0.33460520686326073,
         0.3340801466986829,
         0.3281236338776116,
         0.3242225482256389,
         0.3280265080359052,
         0.32971702716952445,
         0.32456897137065727,
         0.33893337864063533,
         0.32207793694939096,
         0.333692782175015,
         0.32893541531966014,
         0.33328290798646565,
         0.3278109121191151,
         0.33518694571274166,
         0.3264648293090217,
         0.3304196779123124,
         0.32391143024113833,
         0.33320332891946913,
         0.32855984039020303,
         0.3318252368081434,
         0.3292212959232868,
         0.32448682448297156,
         0.3314234893038577,
         0.3276128078281295,
         0.3282723585691522,
         0.33386520307291956,
         0.3318681045271018,
         0.32592304938418026,
         0.3302795156909555,
         0.32381118311747614,
         0.3288629213165419,
         0.33290102175783876,
         0.32531137892282475,
         0.33189171556310326
        ],
        [
         33.325687263160944,
         33.47298635914922,
         33.024896550923586,
         33.341624680906534,
         33.426379565149546,
         33.76483031734824,
         33.61142710968852,
         34.33650702610612,
         32.7492262609303,
         33.580791126936674,
         34.07617154344916,
         34.1948540173471,
         33.515324372798204,
         33.368264477699995,
         32.58090678974986,
         32.671544935554266,
         33.1874561868608,
         33.49191880598664,
         33.260675590485334,
         33.439318645745516,
         33.85750971361995,
         33.41478766128421,
         33.06809946522117,
         33.123272109776735,
         33.91889099404216,
         33.52226458117366,
         33.68190013989806,
         33.107160951942205,
         33.75538224354386,
         34.48178265616298,
         33.35478649660945,
         33.33786014840007,
         33.48077980056405,
         33.75357651337981,
         32.898629393428564,
         34.205997955054045,
         34.211944084614515,
         33.20605647191405,
         33.826082210987806,
         34.09078050032258,
         33.87804139778018,
         33.6320390291512,
         33.61296146735549,
         34.58893567696214,
         33.181981202214956,
         33.55870034918189,
         33.26280413195491,
         33.89510039612651,
         33.06816130504012,
         33.66194040700793,
         34.223595555871725,
         33.62377851828933,
         34.54726804420352,
         33.531305726617575,
         33.859926749020815,
         33.178798634558916,
         33.32500597462058,
         33.773395512253046,
         33.21540937945247,
         33.086762968450785,
         34.17865165695548,
         33.140538696199656,
         33.68220857903361,
         33.97820922359824,
         33.42410629615188,
         33.033285561949015,
         34.129731100052595,
         34.07617496326566,
         33.468610655516386,
         33.07069991901517,
         33.45870381966233,
         33.631136771291494,
         33.10603507980704,
         34.571204621344805,
         32.85194956883788,
         34.03666378185153,
         33.55141236260533,
         33.99485661461949,
         33.43671303614974,
         34.18906846269965,
         33.299412589520216,
         33.702807147055864,
         33.03896588459611,
         33.98673954978585,
         33.51310371980071,
         33.84617415443063,
         33.58057218417525,
         33.0976560972631,
         33.80519590899348,
         33.41650639846921,
         33.483780574053526,
         34.054250713437796,
         33.85054666176438,
         33.244151037186384,
         33.68851060047746,
         33.02874067798257,
         33.54401797428727,
         33.955904219299555,
         33.181760650128126,
         33.85295498743653
        ],
        [
         4.5814338447790215,
         4.580607835486151,
         4.541617335495363,
         4.64321055675745,
         4.65874017992168,
         4.655206614125842,
         4.61252886017599,
         4.706272487668811,
         4.548971026404653,
         4.6371174944590905,
         4.660636379599312,
         4.716587026413119,
         4.621495484863883,
         4.621945217361219,
         4.509030112308984,
         4.529155791584755,
         4.617487811549693,
         4.62624949054748,
         4.570195757742068,
         4.6581908278493005,
         4.6461226031822624,
         4.59351179475838,
         4.597627827853829,
         4.580792889663142,
         4.637546333517988,
         4.646270904633746,
         4.671431347731872,
         4.5544323874124215,
         4.672659131393239,
         4.698870686578134,
         4.599808121784268,
         4.637466922977214,
         4.591076988214337,
         4.643961223408176,
         4.568673070167935,
         4.628092057153443,
         4.683071040013552,
         4.6193721092583475,
         4.616205693894415,
         4.667239004726509,
         4.652582802500934,
         4.618317103176381,
         4.646207586745225,
         4.715931445366703,
         4.559969855005642,
         4.5830055429464895,
         4.584311160103071,
         4.632483330211095,
         4.5794556494424725,
         4.659859348781185,
         4.653021602417574,
         4.643385732905619,
         4.730628146105172,
         4.624021241310668,
         4.648504028141755,
         4.56115143356658,
         4.618356456632579,
         4.679120839131099,
         4.61229760809209,
         4.649279449593029,
         4.664822016145153,
         4.598363565994058,
         4.63292321156372,
         4.638700495207284,
         4.605474308360496,
         4.584831925769573,
         4.674186631685432,
         4.691124760778374,
         4.599389974633811,
         4.557031448250085,
         4.607173731978955,
         4.641636644187004,
         4.571015581809123,
         4.724906759214806,
         4.560712099717713,
         4.674050399713593,
         4.62095505755045,
         4.63716974017412,
         4.592711779988327,
         4.6802794743009395,
         4.609559065022608,
         4.636635638418457,
         4.561654635533748,
         4.625226065502401,
         4.646860007492412,
         4.6162009474521,
         4.646443621676285,
         4.57481172235133,
         4.685483337708143,
         4.5922614063403735,
         4.667477416050069,
         4.678755629431015,
         4.662041461063945,
         4.630928559672475,
         4.642138386786522,
         4.5997026654275555,
         4.609714640816323,
         4.669139225654208,
         4.622268614357025,
         4.615417367193962
        ]
       ],
       "encoder": "json",
       "name": "ABC_GAN_1 Metrics",
       "version": 1
      }
     },
     "metadata": {
      "scrapbook": {
       "data": true,
       "display": false,
       "name": "ABC_GAN_1 Metrics"
      }
     },
     "output_type": "display_data"
    },
    {
     "name": "stdout",
     "output_type": "stream",
     "text": [
      "MAE\n",
      "0.3291770549651747\n"
     ]
    }
   ],
   "source": [
    "ABC_GAN1_metrics=ABC_train_test2.test_generator(gen,test_data,prior_model,variance,bias,\"1\",device)\n",
    "sb.glue(\"ABC_GAN_1 Metrics\",ABC_GAN1_metrics)\n",
    "\n",
    "print(\"MAE\")\n",
    "print(mean(ABC_GAN1_metrics[1]))"
   ]
  },
  {
   "cell_type": "code",
   "execution_count": 14,
   "id": "eb22ce5c",
   "metadata": {
    "execution": {
     "iopub.execute_input": "2022-07-22T15:22:03.868950Z",
     "iopub.status.busy": "2022-07-22T15:22:03.868247Z",
     "iopub.status.idle": "2022-07-22T15:22:04.568401Z",
     "shell.execute_reply": "2022-07-22T15:22:04.567645Z"
    },
    "papermill": {
     "duration": 0.737878,
     "end_time": "2022-07-22T15:22:04.570876",
     "exception": false,
     "start_time": "2022-07-22T15:22:03.832998",
     "status": "completed"
    },
    "tags": []
   },
   "outputs": [
    {
     "data": {
      "image/png": "[encoded data removed]",
      "text/plain": [
       "<Figure size 432x288 with 1 Axes>"
      ]
     },
     "metadata": {
      "needs_background": "light"
     },
     "output_type": "display_data"
    },
    {
     "data": {
      "image/png": "[encoded data removed]",
      "text/plain": [
       "<Figure size 432x288 with 1 Axes>"
      ]
     },
     "metadata": {
      "needs_background": "light"
     },
     "output_type": "display_data"
    },
    {
     "data": {
      "image/png": "[encoded data removed]",
      "text/plain": [
       "<Figure size 432x288 with 1 Axes>"
      ]
     },
     "metadata": {
      "needs_background": "light"
     },
     "output_type": "display_data"
    },
    {
     "data": {
      "image/png": "[encoded data removed]",
      "text/plain": [
       "<Figure size 432x288 with 1 Axes>"
      ]
     },
     "metadata": {
      "needs_background": "light"
     },
     "output_type": "display_data"
    }
   ],
   "source": [
    "sanityChecks.discProbVsError(train_data,disc,device)\n",
    "sanityChecks.discProbVsError(test_data,disc,device)"
   ]
  },
  {
   "cell_type": "markdown",
   "id": "fa08390d",
   "metadata": {
    "papermill": {
     "duration": 0.034151,
     "end_time": "2022-07-22T15:22:04.638259",
     "exception": false,
     "start_time": "2022-07-22T15:22:04.604108",
     "status": "completed"
    },
    "tags": []
   },
   "source": [
    "# mGAN Model with TabNet Generator"
   ]
  },
  {
   "cell_type": "code",
   "execution_count": 15,
   "id": "20fc4b19",
   "metadata": {
    "execution": {
     "iopub.execute_input": "2022-07-22T15:22:04.711955Z",
     "iopub.status.busy": "2022-07-22T15:22:04.711661Z",
     "iopub.status.idle": "2022-07-22T15:22:04.726390Z",
     "shell.execute_reply": "2022-07-22T15:22:04.725537Z"
    },
    "papermill": {
     "duration": 0.057034,
     "end_time": "2022-07-22T15:22:04.728910",
     "exception": false,
     "start_time": "2022-07-22T15:22:04.671876",
     "status": "completed"
    },
    "tags": []
   },
   "outputs": [],
   "source": [
    "gen2 = network.GeneratorTabnet(n_features+1).to(device)\n",
    "disc2 = network.Discriminator(n_features+1).to(device)\n",
    "\n",
    "criterion = torch.nn.BCELoss()\n",
    "gen_opt = torch.optim.Adam(gen2.parameters(), lr=0.01, betas=(0.5, 0.999))\n",
    "disc_opt = torch.optim.Adam(disc2.parameters(), lr=0.01, betas=(0.5, 0.999))"
   ]
  },
  {
   "cell_type": "code",
   "execution_count": 16,
   "id": "00c51218",
   "metadata": {
    "execution": {
     "iopub.execute_input": "2022-07-22T15:22:04.799551Z",
     "iopub.status.busy": "2022-07-22T15:22:04.799235Z",
     "iopub.status.idle": "2022-07-22T15:31:25.823933Z",
     "shell.execute_reply": "2022-07-22T15:31:25.822918Z"
    },
    "papermill": {
     "duration": 561.065402,
     "end_time": "2022-07-22T15:31:25.826273",
     "exception": false,
     "start_time": "2022-07-22T15:22:04.760871",
     "status": "completed"
    },
    "tags": []
   },
   "outputs": [
    {
     "data": {
      "image/png": "[encoded data removed]",
      "text/plain": [
       "<Figure size 432x288 with 1 Axes>"
      ]
     },
     "metadata": {
      "needs_background": "light"
     },
     "output_type": "display_data"
    },
    {
     "data": {
      "image/png": "[encoded data removed]",
      "text/plain": [
       "<Figure size 432x288 with 1 Axes>"
      ]
     },
     "metadata": {
      "needs_background": "light"
     },
     "output_type": "display_data"
    }
   ],
   "source": [
    "#Training the ABC_GAN \n",
    "ABC_train_test2.training_GAN(disc2,gen2,disc_opt,gen_opt,train_data,batch_size,n_epochs,criterion,prior_model,variance,bias,device)"
   ]
  },
  {
   "cell_type": "code",
   "execution_count": 17,
   "id": "8157154c",
   "metadata": {
    "execution": {
     "iopub.execute_input": "2022-07-22T15:31:25.910195Z",
     "iopub.status.busy": "2022-07-22T15:31:25.909882Z",
     "iopub.status.idle": "2022-07-22T15:31:28.696882Z",
     "shell.execute_reply": "2022-07-22T15:31:28.696071Z"
    },
    "papermill": {
     "duration": 2.833563,
     "end_time": "2022-07-22T15:31:28.699542",
     "exception": false,
     "start_time": "2022-07-22T15:31:25.865979",
     "status": "completed"
    },
    "tags": []
   },
   "outputs": [
    {
     "data": {
      "application/scrapbook.scrap.json+json": {
       "data": 0.11622661183386455,
       "encoder": "json",
       "name": "ABC-GAN Model 1 MSE",
       "version": 1
      }
     },
     "metadata": {
      "scrapbook": {
       "data": true,
       "display": false,
       "name": "ABC-GAN Model 1 MSE"
      }
     },
     "output_type": "display_data"
    },
    {
     "data": {
      "application/scrapbook.scrap.json+json": {
       "data": 0.24556926293372788,
       "encoder": "json",
       "name": "ABC-GAN Model 1 MAE",
       "version": 1
      }
     },
     "metadata": {
      "scrapbook": {
       "data": true,
       "display": false,
       "name": "ABC-GAN Model 1 MAE"
      }
     },
     "output_type": "display_data"
    },
    {
     "data": {
      "application/scrapbook.scrap.json+json": {
       "data": 25.048064819240246,
       "encoder": "json",
       "name": "ABC-GAN Model 1 Manhattan Distance",
       "version": 1
      }
     },
     "metadata": {
      "scrapbook": {
       "data": true,
       "display": false,
       "name": "ABC-GAN Model 1 Manhattan Distance"
      }
     },
     "output_type": "display_data"
    },
    {
     "data": {
      "application/scrapbook.scrap.json+json": {
       "data": 3.4422928446770533,
       "encoder": "json",
       "name": "ABC-GAN Model 1 Euclidean distance",
       "version": 1
      }
     },
     "metadata": {
      "scrapbook": {
       "data": true,
       "display": false,
       "name": "ABC-GAN Model 1 Euclidean distance"
      }
     },
     "output_type": "display_data"
    },
    {
     "data": {
      "application/scrapbook.scrap.json+json": {
       "data": [
        [
         0.12468197987532548,
         0.10525413190521125,
         0.11786032000953113,
         0.10330059945250848,
         0.11978410942899231,
         0.11642803652419498,
         0.10870616401680822,
         0.11526164864355654,
         0.1140405809765467,
         0.10917992706794899,
         0.1213557561457322,
         0.11815916818447893,
         0.11588721080132854,
         0.10957246896909499,
         0.11323442042136234,
         0.11650079282314217,
         0.12119613084010342,
         0.12216098395436725,
         0.1190165618654541,
         0.11631909449440159,
         0.11620751774145487,
         0.11464875494693917,
         0.11463452488395794,
         0.11607106478065757,
         0.11650319246550432,
         0.11163420501119344,
         0.11418932481462243,
         0.10946094312347328,
         0.12021182799808276,
         0.12348084886276343,
         0.12237845293708367,
         0.10791970167976772,
         0.11821278372963082,
         0.11236650720762592,
         0.11167518301279128,
         0.1076801333617781,
         0.11471958520484718,
         0.12011010264696585,
         0.11334367892471181,
         0.11712382177594212,
         0.11781571646447424,
         0.11545731970739348,
         0.11714075095536651,
         0.1094188653709364,
         0.1120585605691836,
         0.11397690783611965,
         0.11667156718730584,
         0.11318373341927701,
         0.12613925996152184,
         0.1163721641156096,
         0.11691848421148685,
         0.11401489519003451,
         0.10595101953222208,
         0.11900712037495266,
         0.11646514848527675,
         0.11652700159215765,
         0.12998808902453662,
         0.11759314987404046,
         0.12337036749502307,
         0.12051634068369652,
         0.1175300779283023,
         0.11092458720369418,
         0.1086125872995139,
         0.11982628272158977,
         0.1250449612013731,
         0.11902519562178344,
         0.11807990455514966,
         0.12361336111890128,
         0.1127909982171828,
         0.12029504417999268,
         0.1307602675821046,
         0.11646641144739871,
         0.1085455583656996,
         0.12495458761973906,
         0.110483917314837,
         0.11714297070014525,
         0.12000973291554301,
         0.11382678494404565,
         0.11207373393878757,
         0.12486622633132852,
         0.11815568042830378,
         0.11172039896496123,
         0.1260953772393188,
         0.11846713373118956,
         0.1100701871630474,
         0.11458969216913917,
         0.11759479193490996,
         0.110521663771388,
         0.11729041010252439,
         0.11785055341289233,
         0.11636780251460846,
         0.1174009691599927,
         0.11271997181117108,
         0.11569579084280053,
         0.11837826611571772,
         0.11806452412848485,
         0.11628556819786381,
         0.11730634632026168,
         0.11061572707636459,
         0.11353843353390423
        ],
        [
         0.2576449054987261,
         0.23254456310806906,
         0.24505617710597374,
         0.2317394176224137,
         0.2448414464061167,
         0.24594885627647825,
         0.22759119284284465,
         0.24267486946693823,
         0.2396212757072028,
         0.233929827544546,
         0.2514419369764772,
         0.24962264088018998,
         0.24423851938370397,
         0.24069443256502934,
         0.24947672295292803,
         0.24288337572258623,
         0.2523641268740974,
         0.2522329296551499,
         0.2530108713590558,
         0.24996415253582538,
         0.25289719100749375,
         0.23596463155220537,
         0.24421422293081002,
         0.24319463000203684,
         0.24252361698331787,
         0.2403928797107701,
         0.24985061909126885,
         0.23617961314762487,
         0.24299203093145408,
         0.25291313488474665,
         0.24857124647892573,
         0.23779038672207617,
         0.2391748793204041,
         0.2412568555377862,
         0.2437394480586198,
         0.2391755539175196,
         0.24008142840409397,
         0.24279766635713623,
         0.24176891705057785,
         0.25072826171184287,
         0.2447037409041442,
         0.23663310922097927,
         0.2437615170983561,
         0.24091091785835578,
         0.23759229052994474,
         0.2416859732612091,
         0.24489094578094928,
         0.24326496777654277,
         0.25485139559297,
         0.23986335264920605,
         0.24688531162545962,
         0.2457302501333841,
         0.2273739873997721,
         0.2538897662535401,
         0.24468400804143325,
         0.24985591358706064,
         0.26456524073785426,
         0.24926024096031837,
         0.24986031109138446,
         0.24992499432946538,
         0.25218669863819493,
         0.24195632255435282,
         0.22555829601033645,
         0.2500586646663792,
         0.25577272310414734,
         0.25348797100870046,
         0.254930417656022,
         0.25957333326668425,
         0.24820773942651703,
         0.2515452848929985,
         0.2645522371920593,
         0.25033104536580103,
         0.2436492823283462,
         0.25427010213481444,
         0.23984659737085595,
         0.24759125848319016,
         0.2555319150480643,
         0.24160069954015462,
         0.24015005685242952,
         0.2551593548234771,
         0.24729855385992458,
         0.24267696748560696,
         0.2588960421271622,
         0.2586779777398881,
         0.24133715196969172,
         0.241557406480698,
         0.24461393494743341,
         0.2358845184173654,
         0.2442346194978146,
         0.24812134957927115,
         0.247027119763159,
         0.2428043454054597,
         0.23318636835571013,
         0.25139818320452584,
         0.24858759559106594,
         0.24585157461172225,
         0.24565919193749627,
         0.2499676779204724,
         0.2359518542196419,
         0.2433161707777603
        ],
        [
         26.279780360870063,
         23.719545437023044,
         24.995730064809322,
         23.637420597486198,
         24.9738275334239,
         25.086783340200782,
         23.214301669970155,
         24.7528366856277,
         24.441370122134686,
         23.860842409543693,
         25.647077571600676,
         25.461509369779378,
         24.912328977137804,
         24.550832121632993,
         25.44662574119866,
         24.774104323703796,
         25.741140941157937,
         25.727758824825287,
         25.807108878623694,
         25.49634355865419,
         25.795513482764363,
         24.068392418324947,
         24.909850738942623,
         24.805852260207757,
         24.737408932298422,
         24.520073730498552,
         25.484763147309422,
         24.090320541057736,
         24.785187155008316,
         25.797139758244157,
         25.354267140850425,
         24.25461944565177,
         24.39583769068122,
         24.608199264854193,
         24.86142370197922,
         24.395906499587,
         24.488305697217584,
         24.765361968427896,
         24.66042953915894,
         25.574282694607973,
         24.95978157222271,
         24.136577140539885,
         24.863674744032323,
         24.57291362155229,
         24.234413634054363,
         24.651969272643328,
         24.978876469656825,
         24.813026713207364,
         25.99484235048294,
         24.466061970219016,
         25.18230178579688,
         25.064485513605177,
         23.192146714776754,
         25.89675615786109,
         24.957768820226192,
         25.485303185880184,
         26.985654555261135,
         25.424544577952474,
         25.485751731321216,
         25.492349421605468,
         25.72304326109588,
         24.679544900543988,
         23.00694619305432,
         25.50598379597068,
         26.08881775662303,
         25.85577304288745,
         26.00290260091424,
         26.476479993201792,
         25.317189421504736,
         25.657619059085846,
         26.984328193590045,
         25.533766627311707,
         24.852226797491312,
         25.935550417751074,
         24.464352931827307,
         25.254308365285397,
         26.064255334902555,
         24.64327135309577,
         24.49530579894781,
         26.026254191994667,
         25.224452493712306,
         24.75305068353191,
         26.407396296970546,
         26.385153729468584,
         24.616389500908554,
         24.6388554610312,
         24.95062136463821,
         24.060220878571272,
         24.91193118877709,
         25.308377657085657,
         25.196766215842217,
         24.76604323135689,
         23.785009572282434,
         25.642614686861634,
         25.355934750288725,
         25.07686061039567,
         25.05723757762462,
         25.496703147888184,
         24.067089130403474,
         24.81824941933155
        ],
        [
         3.566169085627208,
         3.276571600672194,
         3.467239916846277,
         3.246022357309922,
         3.495422601311208,
         3.446107909724807,
         3.329869176065996,
         3.4288027300564794,
         3.4105922153795754,
         3.33711740292888,
         3.5182790007139406,
         3.47163292339741,
         3.438094748801363,
         3.3431111011822043,
         3.398515982451599,
         3.447184484178429,
         3.515964355008529,
         3.529932062143046,
         3.4842056928769742,
         3.4444952661353683,
         3.4428428383573357,
         3.419674400376123,
         3.4194621708923334,
         3.4408209205983202,
         3.447219985942504,
         3.374416825340599,
         3.4128157188883614,
         3.341409313238094,
         3.5016576725608752,
         3.5489500678372283,
         3.5330726286877447,
         3.3178019186407592,
         3.4724204728722503,
         3.385466546161376,
         3.375036098666903,
         3.3141173188198025,
         3.420730578530616,
         3.5001757770132795,
         3.4001551803293633,
         3.4563897090961975,
         3.4665837764831777,
         3.4317119066369974,
         3.4566394948630927,
         3.340767017892076,
         3.3808243341020727,
         3.4096399515614846,
         3.449710111459396,
         3.397755260280859,
         3.5869491934058986,
         3.445280937716427,
         3.4533585666089848,
         3.410208103530269,
         3.2874007958091527,
         3.484067490483668,
         3.446657097173756,
         3.4475722127897597,
         3.6412614682967677,
         3.463307853361021,
         3.5473620458718824,
         3.5060899517463957,
         3.4623789435425514,
         3.363674760552334,
         3.328435654260184,
         3.496037877026243,
         3.571356330939277,
         3.484332067042679,
         3.470468306241287,
         3.5508538176230138,
         3.391855217746277,
         3.5028694675022147,
         3.652060691359697,
         3.4466757851057985,
         3.327408444014854,
         3.570065536823292,
         3.3569866794661802,
         3.4566722452981873,
         3.49871301443622,
         3.4073937348496512,
         3.38105321782375,
         3.568803032642107,
         3.471581686160788,
         3.3757192854895455,
         3.5863252053335204,
         3.476154145112287,
         3.3506953145027722,
         3.418793442320286,
         3.463332033946618,
         3.3575600820657807,
         3.4588468931795013,
         3.4670962559633405,
         3.445216372956865,
         3.460476680216073,
         3.390787095165288,
         3.435254090451774,
         3.474850089400003,
         3.4702422770039343,
         3.443998832198133,
         3.459081861515666,
         3.3589885623188995,
         3.4030751123738403
        ]
       ],
       "encoder": "json",
       "name": "ABC_GAN_2 Metrics",
       "version": 1
      }
     },
     "metadata": {
      "scrapbook": {
       "data": true,
       "display": false,
       "name": "ABC_GAN_2 Metrics"
      }
     },
     "output_type": "display_data"
    },
    {
     "name": "stdout",
     "output_type": "stream",
     "text": [
      "MAE\n",
      "0.24556926293372788\n"
     ]
    }
   ],
   "source": [
    "ABC_GAN2_metrics=ABC_train_test2.test_generator(gen2,test_data,prior_model,variance,bias,\"1\",device)\n",
    "sb.glue(\"ABC_GAN_2 Metrics\",ABC_GAN2_metrics)\n",
    "\n",
    "print(\"MAE\")\n",
    "print(mean(ABC_GAN2_metrics[1]))"
   ]
  },
  {
   "cell_type": "code",
   "execution_count": 18,
   "id": "8e2f6c9e",
   "metadata": {
    "execution": {
     "iopub.execute_input": "2022-07-22T15:31:28.781266Z",
     "iopub.status.busy": "2022-07-22T15:31:28.781002Z",
     "iopub.status.idle": "2022-07-22T15:31:29.700014Z",
     "shell.execute_reply": "2022-07-22T15:31:29.699196Z"
    },
    "papermill": {
     "duration": 0.962555,
     "end_time": "2022-07-22T15:31:29.702622",
     "exception": false,
     "start_time": "2022-07-22T15:31:28.740067",
     "status": "completed"
    },
    "tags": []
   },
   "outputs": [
    {
     "data": {
      "image/png": "[encoded data removed]",
      "text/plain": [
       "<Figure size 432x288 with 1 Axes>"
      ]
     },
     "metadata": {
      "needs_background": "light"
     },
     "output_type": "display_data"
    },
    {
     "data": {
      "image/png": "[encoded data removed]",
      "text/plain": [
       "<Figure size 432x288 with 1 Axes>"
      ]
     },
     "metadata": {
      "needs_background": "light"
     },
     "output_type": "display_data"
    },
    {
     "data": {
      "image/png": "[encoded data removed]",
      "text/plain": [
       "<Figure size 432x288 with 1 Axes>"
      ]
     },
     "metadata": {
      "needs_background": "light"
     },
     "output_type": "display_data"
    },
    {
     "data": {
      "image/png": "[encoded data removed]",
      "text/plain": [
       "<Figure size 432x288 with 1 Axes>"
      ]
     },
     "metadata": {
      "needs_background": "light"
     },
     "output_type": "display_data"
    }
   ],
   "source": [
    "sanityChecks.discProbVsError(train_data,disc2,device)\n",
    "sanityChecks.discProbVsError(test_data,disc2,device)"
   ]
  },
  {
   "cell_type": "markdown",
   "id": "130f3a4d",
   "metadata": {
    "id": "130f3a4d",
    "papermill": {
     "duration": 0.043846,
     "end_time": "2022-07-22T15:31:29.791778",
     "exception": false,
     "start_time": "2022-07-22T15:31:29.747932",
     "status": "completed"
    },
    "tags": []
   },
   "source": [
    "# skipGAN Model"
   ]
  },
  {
   "cell_type": "code",
   "execution_count": 19,
   "id": "4e43dad1",
   "metadata": {
    "execution": {
     "iopub.execute_input": "2022-07-22T15:31:29.875502Z",
     "iopub.status.busy": "2022-07-22T15:31:29.875199Z",
     "iopub.status.idle": "2022-07-22T15:31:29.884203Z",
     "shell.execute_reply": "2022-07-22T15:31:29.882481Z"
    },
    "id": "4e43dad1",
    "papermill": {
     "duration": 0.05404,
     "end_time": "2022-07-22T15:31:29.887070",
     "exception": false,
     "start_time": "2022-07-22T15:31:29.833030",
     "status": "completed"
    },
    "tags": []
   },
   "outputs": [],
   "source": [
    "#Generator\n",
    "gen3 = network.GeneratorWithSkipConnection(n_features+1).to(device)\n",
    "constraints=network.weightConstraint()\n",
    "#Discriminator \n",
    "disc3 = network.Discriminator(n_features+1).to(device)\n",
    "\n",
    "criterion = torch.nn.BCELoss()\n",
    "gen_opt = torch.optim.Adam(gen3.parameters(), lr=0.01, betas=(0.5, 0.999))\n",
    "disc_opt = torch.optim.Adam(disc3.parameters(), lr=0.01, betas=(0.5, 0.999))\n"
   ]
  },
  {
   "cell_type": "code",
   "execution_count": 20,
   "id": "26acbc37",
   "metadata": {
    "execution": {
     "iopub.execute_input": "2022-07-22T15:31:29.965177Z",
     "iopub.status.busy": "2022-07-22T15:31:29.964903Z",
     "iopub.status.idle": "2022-07-22T15:36:36.884527Z",
     "shell.execute_reply": "2022-07-22T15:36:36.883564Z"
    },
    "id": "26acbc37",
    "papermill": {
     "duration": 306.961098,
     "end_time": "2022-07-22T15:36:36.886769",
     "exception": false,
     "start_time": "2022-07-22T15:31:29.925671",
     "status": "completed"
    },
    "tags": []
   },
   "outputs": [
    {
     "data": {
      "image/png": "[encoded data removed]",
      "text/plain": [
       "<Figure size 432x288 with 1 Axes>"
      ]
     },
     "metadata": {
      "needs_background": "light"
     },
     "output_type": "display_data"
    },
    {
     "data": {
      "image/png": "[encoded data removed]",
      "text/plain": [
       "<Figure size 432x288 with 1 Axes>"
      ]
     },
     "metadata": {
      "needs_background": "light"
     },
     "output_type": "display_data"
    }
   ],
   "source": [
    "ABC_train_test2.training_GAN_skip_connection(disc3,gen3,disc_opt,gen_opt,train_data,batch_size,n_epochs,criterion,prior_model,variance,bias,device)"
   ]
  },
  {
   "cell_type": "code",
   "execution_count": 21,
   "id": "c5e0717b",
   "metadata": {
    "execution": {
     "iopub.execute_input": "2022-07-22T15:36:36.974043Z",
     "iopub.status.busy": "2022-07-22T15:36:36.973729Z",
     "iopub.status.idle": "2022-07-22T15:36:40.267183Z",
     "shell.execute_reply": "2022-07-22T15:36:40.266189Z"
    },
    "id": "c5e0717b",
    "papermill": {
     "duration": 3.337418,
     "end_time": "2022-07-22T15:36:40.269470",
     "exception": false,
     "start_time": "2022-07-22T15:36:36.932052",
     "status": "completed"
    },
    "tags": []
   },
   "outputs": [
    {
     "data": {
      "application/scrapbook.scrap.json+json": {
       "data": 130776.5808173423,
       "encoder": "json",
       "name": "ABC-GAN Model 3 MSE",
       "version": 1
      }
     },
     "metadata": {
      "scrapbook": {
       "data": true,
       "display": false,
       "name": "ABC-GAN Model 3 MSE"
      }
     },
     "output_type": "display_data"
    },
    {
     "data": {
      "application/scrapbook.scrap.json+json": {
       "data": 288.35858047556644,
       "encoder": "json",
       "name": "ABC-GAN Model 3 MAE",
       "version": 1
      }
     },
     "metadata": {
      "scrapbook": {
       "data": true,
       "display": false,
       "name": "ABC-GAN Model 3 MAE"
      }
     },
     "output_type": "display_data"
    },
    {
     "data": {
      "application/scrapbook.scrap.json+json": {
       "data": 29412.575208507777,
       "encoder": "json",
       "name": "ABC-GAN Model 3 Manhattan Distance",
       "version": 1
      }
     },
     "metadata": {
      "scrapbook": {
       "data": true,
       "display": false,
       "name": "ABC-GAN Model 3 Manhattan Distance"
      }
     },
     "output_type": "display_data"
    },
    {
     "data": {
      "application/scrapbook.scrap.json+json": {
       "data": 3652.281125131459,
       "encoder": "json",
       "name": "ABC-GAN Model 3 Euclidean distance",
       "version": 1
      }
     },
     "metadata": {
      "scrapbook": {
       "data": true,
       "display": false,
       "name": "ABC-GAN Model 3 Euclidean distance"
      }
     },
     "output_type": "display_data"
    },
    {
     "data": {
      "application/scrapbook.scrap.json+json": {
       "data": [
        [
         131293.34912369717,
         130208.31410943532,
         130631.34846376357,
         130902.92140615727,
         130476.12445757679,
         131123.2975539085,
         131086.05023834313,
         130070.88145488309,
         130114.55669269219,
         131537.40894802174,
         131786.74679837737,
         129609.68101931585,
         131741.49206959628,
         130768.66625548493,
         131333.4110836946,
         130849.54016465398,
         130634.23707124063,
         131159.8629839587,
         130778.12293032042,
         130855.6202278958,
         130771.8085075476,
         130518.05848026511,
         130297.17197453014,
         130289.5235728663,
         130733.76395325072,
         132149.38912743828,
         129737.25271828925,
         130858.67418194715,
         130881.87161434446,
         130685.2480148698,
         130754.18009233233,
         129407.32294057912,
         130615.26436286527,
         130187.31398528999,
         131050.46180166525,
         131497.833767159,
         130915.70861985993,
         131371.5147596763,
         130493.22233695307,
         130592.08967664701,
         131256.41692563702,
         129670.0517106014,
         129912.52006856502,
         130681.42677516717,
         131340.0637525972,
         131886.1102096654,
         131752.38764958666,
         131123.32302750423,
         130338.78169485547,
         131051.81380578555,
         131293.61755224745,
         130002.57748196597,
         130915.8237553575,
         130762.52579730163,
         130608.9120157586,
         131609.33373579974,
         130203.33434818784,
         131124.44734409847,
         131383.83885034174,
         131643.0159742379,
         131098.67672612445,
         130603.05696990088,
         130873.39904071791,
         130867.53786876325,
         130839.64801809168,
         131093.6895566057,
         131354.13493758795,
         130862.26256493689,
         129845.54535826527,
         130887.08357998455,
         130731.11168135055,
         129826.73160406655,
         130582.05377992551,
         131320.13780421458,
         130638.57129705351,
         130293.38653381329,
         130793.01220046259,
         130901.15015709601,
         130117.45846871893,
         130722.18021005481,
         131269.75390028465,
         131412.33583491863,
         130359.98145018703,
         130304.5840278149,
         130476.7252241921,
         130360.83899379004,
         130358.47245196416,
         130552.29761040985,
         130851.88059798328,
         131007.34655691526,
         130618.7243401786,
         130963.25269705783,
         130314.83178700034,
         131057.59537396007,
         130208.75278464318,
         131082.55654763957,
         131240.273852027,
         130573.60384521743,
         130354.17861986553,
         130709.63686378967
        ],
        [
         289.11996049653084,
         288.1117859368815,
         287.9741079401152,
         288.40541302135176,
         288.09865817982774,
         288.5361818907892,
         288.795356536905,
         287.8876160374459,
         287.7608941504184,
         289.18732719006493,
         288.8162476890812,
         287.38146764302957,
         289.36038521370466,
         288.3284135066411,
         289.0106109839444,
         288.09841261804104,
         288.6664492397332,
         288.81395043724893,
         288.14395986029916,
         288.6174121104619,
         287.9468980785094,
         288.1968205877963,
         287.7297022497537,
         287.6804087877858,
         288.71319366114983,
         290.0513288942622,
         287.5392669150058,
         288.41426500765715,
         288.49315563983777,
         288.3350484993528,
         288.0486866928199,
         286.86489274601144,
         288.29987633608135,
         287.61637309164394,
         288.34088479917426,
         289.3446194064968,
         288.8803746013665,
         288.86965481586316,
         287.748647588433,
         288.36769095735224,
         288.45369005349335,
         287.1965680884964,
         287.6320799206402,
         288.73284726195476,
         289.00781965401825,
         288.89272818056975,
         289.39851223399825,
         288.80995209222914,
         288.13482998077774,
         288.08018715387465,
         289.0786982812718,
         287.41622916536005,
         288.68362964514426,
         288.3207044148562,
         288.1566720210454,
         289.43518781808075,
         287.59057154521054,
         288.47656933612683,
         289.0008433580983,
         289.61807296936416,
         288.5733523944429,
         288.32794572003917,
         288.38599112600673,
         288.11037274114057,
         288.830759339765,
         288.4742777315425,
         289.04342906761406,
         288.5548245220208,
         287.78719239287517,
         288.25208133955795,
         288.10528348620034,
         287.8367528462527,
         288.0019222629421,
         288.89446880449265,
         287.92517702398345,
         288.4423507536743,
         288.270256427281,
         288.67604193179045,
         287.99052772481065,
         288.3358916222465,
         288.9837621722151,
         288.95511546000546,
         287.6507200274397,
         287.90068763991195,
         287.95632307348296,
         288.01732200880843,
         287.77991353910346,
         287.9937318648193,
         288.62885895108474,
         287.8781606744902,
         288.1948826841864,
         288.4465588696447,
         287.92285219039405,
         288.72597026036067,
         287.72425764828336,
         288.83507839984753,
         288.5356091252145,
         288.2320377981546,
         287.7071053856144,
         288.25740731142315
        ],
        [
         29490.235970646143,
         29387.402165561914,
         29373.35900989175,
         29417.35212817788,
         29386.063134342432,
         29430.6905528605,
         29457.126366764307,
         29364.536835819483,
         29351.611203342676,
         29497.10737338662,
         29459.25726428628,
         29312.909699589014,
         29514.759291797876,
         29409.498177677393,
         29479.08232036233,
         29386.038087040186,
         29443.977822452784,
         29459.02294459939,
         29390.683905750513,
         29438.976035267115,
         29370.58360400796,
         29396.075699955225,
         29348.42962947488,
         29343.40169635415,
         29448.74575343728,
         29585.235547214746,
         29329.00522533059,
         29418.25503078103,
         29426.301875263453,
         29410.174946933985,
         29380.966042667627,
         29260.219060093164,
         29406.5873862803,
         29336.87005534768,
         29410.770249515772,
         29513.15117946267,
         29465.79820933938,
         29464.704791218042,
         29350.362054020166,
         29413.504477649927,
         29422.276385456324,
         29294.049945026636,
         29338.4721519053,
         29450.750420719385,
         29478.797604709864,
         29467.058274418116,
         29518.648247867823,
         29458.615113407373,
         29389.75265803933,
         29384.179089695215,
         29486.027224689722,
         29316.455374866724,
         29445.730223804712,
         29408.711850315332,
         29391.98054614663,
         29522.38915744424,
         29334.238297611475,
         29424.610072284937,
         29478.086022526026,
         29541.043442875147,
         29434.48194423318,
         29409.450463443995,
         29415.371094852686,
         29387.25801959634,
         29460.73745265603,
         29424.376328617334,
         29482.42976489663,
         29432.59210124612,
         29354.293624073267,
         29401.712296634912,
         29386.738915592432,
         29359.348790317774,
         29376.196070820093,
         29467.235818058252,
         29368.368056446314,
         29421.11977687478,
         29403.566155582666,
         29444.956277042627,
         29375.03382793069,
         29410.26094546914,
         29476.343741565943,
         29473.421776920557,
         29340.373442798853,
         29365.87013927102,
         29371.544953495264,
         29377.766844898462,
         29353.55118098855,
         29375.360650211573,
         29440.143613010645,
         29363.572388798,
         29395.878033787012,
         29421.54900470376,
         29368.13092342019,
         29450.048966556787,
         29347.874280124903,
         29461.17799678445,
         29430.632130771875,
         29399.667855411768,
         29346.124749332666,
         29402.25554576516
        ],
        [
         3659.49745328742,
         3644.344665253604,
         3650.25992818373,
         3654.0522688418196,
         3648.090554615226,
         3657.1267889558694,
         3656.6073243255146,
         3642.420885674536,
         3643.032360912349,
         3662.897174737262,
         3666.3671629331516,
         3635.957571805564,
         3665.7376053256758,
         3652.177974587146,
         3660.0557277911557,
         3653.307145148722,
         3650.300286451314,
         3657.636672000622,
         3652.3100277622493,
         3653.392021566448,
         3652.221853580346,
         3648.6767416403227,
         3645.587955515828,
         3645.4809565312994,
         3651.6905568834245,
         3671.4081346261,
         3637.746524603591,
         3653.4346533855805,
         3653.7584628247027,
         3651.0129139071423,
         3651.9756802883967,
         3633.118074043159,
         3650.035200516874,
         3644.0507716687466,
         3656.1109260756652,
         3662.3461120230313,
         3654.2307369986515,
         3660.58663406386,
         3648.3295737048234,
         3649.7113785911883,
         3658.982717425019,
         3636.804266726675,
         3640.202885416365,
         3650.9595356655277,
         3660.1484263298557,
         3667.749070122691,
         3665.889188213118,
         3657.1271441946656,
         3646.17000877294,
         3656.129785468526,
         3659.5011941969965,
         3641.46438993443,
         3654.2323438783233,
         3652.0922265633935,
         3649.946441471076,
         3663.898475811192,
         3644.2749763862703,
         3657.1428231746763,
         3660.75833164863,
         3664.367289092657,
         3656.7834261909325,
         3649.8646291239197,
         3653.640198781652,
         3653.558383632846,
         3653.1690486268703,
         3656.713871056059,
         3660.344487016757,
         3653.4847449556382,
         3639.2644348196322,
         3653.8312119142047,
         3651.6535147105287,
         3639.000772686753,
         3649.5711372094665,
         3659.8707704002186,
         3650.3608413825964,
         3645.534998659175,
         3652.517932118497,
         3654.027547244792,
         3643.072983596312,
         3651.528773188785,
         3659.1686074611307,
         3661.1553169951285,
         3646.4665236251767,
         3645.6916450568224,
         3648.098953272457,
         3646.478517332385,
         3646.4454185000964,
         3649.155293525038,
         3653.3398173444393,
         3655.5094513357994,
         3650.0835446189744,
         3654.8942221492407,
         3645.8349993210113,
         3656.2104326944755,
         3644.3508041945693,
         3656.5585962567643,
         3658.7577034981086,
         3649.4530538441204,
         3646.3853635108685,
         3651.3535791684903
        ]
       ],
       "encoder": "json",
       "name": "ABC_GAN_3 Metrics",
       "version": 1
      }
     },
     "metadata": {
      "scrapbook": {
       "data": true,
       "display": false,
       "name": "ABC_GAN_3 Metrics"
      }
     },
     "output_type": "display_data"
    },
    {
     "name": "stdout",
     "output_type": "stream",
     "text": [
      "MAE\n",
      "288.35858047556644\n"
     ]
    }
   ],
   "source": [
    "ABC_GAN3_metrics=ABC_train_test2.test_generator(gen3,test_data,prior_model,variance,bias,\"3\",device)\n",
    "sb.glue(\"ABC_GAN_3 Metrics\",ABC_GAN3_metrics)\n",
    "\n",
    "print(\"MAE\")\n",
    "print(mean(ABC_GAN3_metrics[1]))"
   ]
  },
  {
   "cell_type": "code",
   "execution_count": 22,
   "id": "c8e46b48",
   "metadata": {
    "execution": {
     "iopub.execute_input": "2022-07-22T15:36:40.354177Z",
     "iopub.status.busy": "2022-07-22T15:36:40.353910Z",
     "iopub.status.idle": "2022-07-22T15:36:41.077274Z",
     "shell.execute_reply": "2022-07-22T15:36:41.076404Z"
    },
    "id": "c8e46b48",
    "papermill": {
     "duration": 0.765161,
     "end_time": "2022-07-22T15:36:41.079613",
     "exception": false,
     "start_time": "2022-07-22T15:36:40.314452",
     "status": "completed"
    },
    "tags": []
   },
   "outputs": [
    {
     "data": {
      "image/png": "[encoded data removed]",
      "text/plain": [
       "<Figure size 432x288 with 1 Axes>"
      ]
     },
     "metadata": {
      "needs_background": "light"
     },
     "output_type": "display_data"
    },
    {
     "data": {
      "image/png": "[encoded data removed]",
      "text/plain": [
       "<Figure size 432x288 with 1 Axes>"
      ]
     },
     "metadata": {
      "needs_background": "light"
     },
     "output_type": "display_data"
    },
    {
     "data": {
      "image/png": "[encoded data removed]",
      "text/plain": [
       "<Figure size 432x288 with 1 Axes>"
      ]
     },
     "metadata": {
      "needs_background": "light"
     },
     "output_type": "display_data"
    },
    {
     "data": {
      "image/png": "[encoded data removed]",
      "text/plain": [
       "<Figure size 432x288 with 1 Axes>"
      ]
     },
     "metadata": {
      "needs_background": "light"
     },
     "output_type": "display_data"
    }
   ],
   "source": [
    "sanityChecks.discProbVsError(train_data,disc3,device)\n",
    "sanityChecks.discProbVsError(test_data,disc3,device)"
   ]
  },
  {
   "cell_type": "markdown",
   "id": "60812649",
   "metadata": {
    "id": "130f3a4d",
    "papermill": {
     "duration": 0.041887,
     "end_time": "2022-07-22T15:36:41.169704",
     "exception": false,
     "start_time": "2022-07-22T15:36:41.127817",
     "status": "completed"
    },
    "tags": []
   },
   "source": [
    "# skipGAN Model with TabNet Generator"
   ]
  },
  {
   "cell_type": "code",
   "execution_count": 23,
   "id": "6f665e5c",
   "metadata": {
    "execution": {
     "iopub.execute_input": "2022-07-22T15:36:41.252202Z",
     "iopub.status.busy": "2022-07-22T15:36:41.251936Z",
     "iopub.status.idle": "2022-07-22T15:36:41.266068Z",
     "shell.execute_reply": "2022-07-22T15:36:41.264805Z"
    },
    "id": "4e43dad1",
    "papermill": {
     "duration": 0.057788,
     "end_time": "2022-07-22T15:36:41.268424",
     "exception": false,
     "start_time": "2022-07-22T15:36:41.210636",
     "status": "completed"
    },
    "tags": []
   },
   "outputs": [],
   "source": [
    "#Generator\n",
    "gen4 = network.GeneratorTabnetskipConnection(n_features+1).to(device)\n",
    "constraints=network.weightConstraint()\n",
    "#Discriminator \n",
    "disc4 = network.Discriminator(n_features+1).to(device)\n",
    "\n",
    "criterion = torch.nn.BCELoss()\n",
    "gen_opt = torch.optim.Adam(gen4.parameters(), lr=0.01, betas=(0.5, 0.999))\n",
    "disc_opt = torch.optim.Adam(disc4.parameters(), lr=0.01, betas=(0.5, 0.999))\n"
   ]
  },
  {
   "cell_type": "code",
   "execution_count": 24,
   "id": "5e599f8a",
   "metadata": {
    "execution": {
     "iopub.execute_input": "2022-07-22T15:36:41.359788Z",
     "iopub.status.busy": "2022-07-22T15:36:41.359470Z",
     "iopub.status.idle": "2022-07-22T15:49:13.258347Z",
     "shell.execute_reply": "2022-07-22T15:49:13.253599Z"
    },
    "id": "26acbc37",
    "papermill": {
     "duration": 751.950086,
     "end_time": "2022-07-22T15:49:13.263283",
     "exception": false,
     "start_time": "2022-07-22T15:36:41.313197",
     "status": "completed"
    },
    "tags": []
   },
   "outputs": [
    {
     "data": {
      "image/png": "[encoded data removed]",
      "text/plain": [
       "<Figure size 432x288 with 1 Axes>"
      ]
     },
     "metadata": {
      "needs_background": "light"
     },
     "output_type": "display_data"
    },
    {
     "data": {
      "image/png": "[encoded data removed]",
      "text/plain": [
       "<Figure size 432x288 with 1 Axes>"
      ]
     },
     "metadata": {
      "needs_background": "light"
     },
     "output_type": "display_data"
    }
   ],
   "source": [
    "ABC_train_test2.training_GAN_skip_connection(disc4,gen4,disc_opt,gen_opt,train_data,batch_size,n_epochs,criterion,prior_model,variance,bias,device)"
   ]
  },
  {
   "cell_type": "code",
   "execution_count": 25,
   "id": "f09f4cac",
   "metadata": {
    "execution": {
     "iopub.execute_input": "2022-07-22T15:49:13.551843Z",
     "iopub.status.busy": "2022-07-22T15:49:13.550450Z",
     "iopub.status.idle": "2022-07-22T15:49:17.019272Z",
     "shell.execute_reply": "2022-07-22T15:49:17.018534Z"
    },
    "id": "c5e0717b",
    "papermill": {
     "duration": 3.524684,
     "end_time": "2022-07-22T15:49:17.021419",
     "exception": false,
     "start_time": "2022-07-22T15:49:13.496735",
     "status": "completed"
    },
    "tags": []
   },
   "outputs": [
    {
     "data": {
      "application/scrapbook.scrap.json+json": {
       "data": 0.13568892242553637,
       "encoder": "json",
       "name": "ABC-GAN Model 3 MSE",
       "version": 1
      }
     },
     "metadata": {
      "scrapbook": {
       "data": true,
       "display": false,
       "name": "ABC-GAN Model 3 MSE"
      }
     },
     "output_type": "display_data"
    },
    {
     "data": {
      "application/scrapbook.scrap.json+json": {
       "data": 0.2643767476181029,
       "encoder": "json",
       "name": "ABC-GAN Model 3 MAE",
       "version": 1
      }
     },
     "metadata": {
      "scrapbook": {
       "data": true,
       "display": false,
       "name": "ABC-GAN Model 3 MAE"
      }
     },
     "output_type": "display_data"
    },
    {
     "data": {
      "application/scrapbook.scrap.json+json": {
       "data": 26.966428257046502,
       "encoder": "json",
       "name": "ABC-GAN Model 3 Manhattan Distance",
       "version": 1
      }
     },
     "metadata": {
      "scrapbook": {
       "data": true,
       "display": false,
       "name": "ABC-GAN Model 3 Manhattan Distance"
      }
     },
     "output_type": "display_data"
    },
    {
     "data": {
      "application/scrapbook.scrap.json+json": {
       "data": 3.7194647323959353,
       "encoder": "json",
       "name": "ABC-GAN Model 3 Euclidean distance",
       "version": 1
      }
     },
     "metadata": {
      "scrapbook": {
       "data": true,
       "display": false,
       "name": "ABC-GAN Model 3 Euclidean distance"
      }
     },
     "output_type": "display_data"
    },
    {
     "data": {
      "application/scrapbook.scrap.json+json": {
       "data": [
        [
         0.1385646186739043,
         0.13327206350557028,
         0.14852808504268813,
         0.13866571968549862,
         0.14042300516629486,
         0.1335426350643834,
         0.1415137975776724,
         0.1343592653595662,
         0.14494637555031217,
         0.1357845350994768,
         0.13858780578750093,
         0.14230161067108732,
         0.1389782852253928,
         0.12887129723236468,
         0.1404167458911073,
         0.1384242707993156,
         0.13175495342422078,
         0.13890963074964005,
         0.13019423422251297,
         0.14107540574799451,
         0.13422041449637534,
         0.1333585523836164,
         0.12616737556904037,
         0.14405871945370455,
         0.1371934423971601,
         0.13211962867497715,
         0.13366796823688568,
         0.1379559500238246,
         0.13778963449750814,
         0.14277413179967582,
         0.13983877118068821,
         0.13626620223318409,
         0.13667743897455026,
         0.13617628541185342,
         0.13634627073308847,
         0.14470939980552264,
         0.1269956584805579,
         0.13991095970788675,
         0.1248913068526059,
         0.12909710503027064,
         0.13573421686543002,
         0.13738685221770916,
         0.13614301774067547,
         0.1217188319783661,
         0.12714358122398434,
         0.1338112020779839,
         0.1372751208920625,
         0.1328239134839438,
         0.13560577482674885,
         0.14011568363244659,
         0.13338260661548787,
         0.1392328434262388,
         0.12775965839034212,
         0.12957031571344224,
         0.13404121294903498,
         0.12498459678088103,
         0.14205634852231863,
         0.12334751116327335,
         0.13555677489099308,
         0.13071771638942684,
         0.13187342110388564,
         0.1305493944674131,
         0.14417522358492968,
         0.13313114443926707,
         0.13116772498225684,
         0.14543063430580974,
         0.14062934713512545,
         0.1375349297001621,
         0.13520706964208312,
         0.14638395625740241,
         0.13393358639594777,
         0.13479057852625323,
         0.13851071199579965,
         0.12445287140152174,
         0.1371346462600225,
         0.14298247073508236,
         0.12940178942801428,
         0.13423248826840678,
         0.12659964276719302,
         0.13962404490013827,
         0.13876644912587968,
         0.1260767186401609,
         0.13793131807452916,
         0.13869782161911362,
         0.13698457841305633,
         0.13144902255334026,
         0.13657030953593324,
         0.13369460014012918,
         0.13362914294804645,
         0.13456103033891936,
         0.13999701051991384,
         0.1334529397849312,
         0.13363583787599032,
         0.1379987026742426,
         0.1367118808224596,
         0.1476756741535696,
         0.13021896049295656,
         0.13782207917470848,
         0.1455706140623443,
         0.13196453910642666
        ],
        [
         0.26804245912068175,
         0.2595199169408457,
         0.2811748983484565,
         0.2664728787745915,
         0.26851502396896776,
         0.2670326076867972,
         0.2735826731020329,
         0.264457173371578,
         0.2763075789199302,
         0.26051081001174214,
         0.2702241853500406,
         0.2689000195549691,
         0.2727415389198737,
         0.26054585681242104,
         0.2660666200624523,
         0.2633761832234906,
         0.2559133674584183,
         0.26110833717108356,
         0.2612260289389786,
         0.2700923805252886,
         0.2594209189216296,
         0.2607051787313585,
         0.2502773652108861,
         0.27179593797407897,
         0.265564709563977,
         0.2642724469632787,
         0.26494003310753944,
         0.2656311857897569,
         0.2763003580290459,
         0.27461694969850425,
         0.2741354139631285,
         0.25968386481662153,
         0.2673470056798382,
         0.2725411664475413,
         0.263910503217987,
         0.27039247843455155,
         0.2581615337700236,
         0.27413476333387343,
         0.2462551835924387,
         0.2571407223814258,
         0.2641176138091467,
         0.26260369236343634,
         0.26427063087056224,
         0.2450139080493839,
         0.25402243705649,
         0.2663544899071841,
         0.26247367390897125,
         0.2701667638349475,
         0.258908692144734,
         0.272739683277905,
         0.2593700755752769,
         0.264415616037178,
         0.2547080857843599,
         0.2583616689103199,
         0.2721333478066121,
         0.2551813050008872,
         0.2696223292024989,
         0.25066964220547794,
         0.27021151563773554,
         0.25011909146354916,
         0.2633377518504858,
         0.25679203983871085,
         0.267249417071249,
         0.2607124421709016,
         0.25237499442243694,
         0.2766331602983615,
         0.26419778767626223,
         0.2736948243177989,
         0.2596724776678956,
         0.27160441008962544,
         0.26888535562537463,
         0.26406964433251645,
         0.26671590741869866,
         0.25539527372365783,
         0.2682707208738315,
         0.27374050999060273,
         0.2514932737183556,
         0.26187559392522364,
         0.2504229462413373,
         0.26531570744426813,
         0.26071305516376797,
         0.2575229187222088,
         0.2742653507374081,
         0.26651197432668183,
         0.2649560269771838,
         0.25095383996399595,
         0.2726538836335142,
         0.2644104229961978,
         0.26033130097408397,
         0.26398391460123305,
         0.2731920261776038,
         0.2633537467130843,
         0.260891747081141,
         0.2654884545652963,
         0.2626971726250999,
         0.27862176896237273,
         0.2553812901434653,
         0.2659926645768185,
         0.27710606964925927,
         0.2676903737855016
        ],
        [
         27.34033083030954,
         26.47103152796626,
         28.679839631542563,
         27.180233635008335,
         27.38853244483471,
         27.237325984053314,
         27.905432656407356,
         26.974631683900952,
         28.18337304983288,
         26.5721026211977,
         27.56286690570414,
         27.427801994606853,
         27.819636969827116,
         26.575677394866943,
         27.138795246370137,
         26.864370688796043,
         26.103163480758667,
         26.633050391450524,
         26.64505495177582,
         27.54942281357944,
         26.460933730006218,
         26.59192823059857,
         25.52829125151038,
         27.723185673356056,
         27.087600375525653,
         26.955789590254426,
         27.023883376969025,
         27.094380950555205,
         28.18263651896268,
         28.010928869247437,
         27.96181222423911,
         26.487754211295396,
         27.269394579343498,
         27.799198977649212,
         26.918871328234673,
         27.58003280032426,
         26.332476444542408,
         27.96174586005509,
         25.118028726428747,
         26.228353682905436,
         26.939996608532965,
         26.785576621070504,
         26.95560434879735,
         24.991418621037155,
         25.910288579761982,
         27.168157970532775,
         26.772314738715068,
         27.55700991116464,
         26.40868659876287,
         27.81944769434631,
         26.455747708678246,
         26.970392835792154,
         25.98022475000471,
         26.35289022885263,
         27.75760147627443,
         26.028493110090494,
         27.501477578654885,
         25.56830350495875,
         27.561574595049024,
         25.512147329282016,
         26.86045068874955,
         26.192788063548505,
         27.259440541267395,
         26.592669101431966,
         25.742249431088567,
         28.216582350432873,
         26.948174342978746,
         27.916872080415487,
         26.48659272212535,
         27.703649829141796,
         27.426306273788214,
         26.935103721916676,
         27.205022556707263,
         26.050317919813097,
         27.363613529130816,
         27.92153201904148,
         25.652313919272274,
         26.71131058037281,
         25.543140516616404,
         27.062202159315348,
         26.592731626704335,
         26.2673377096653,
         27.975065775215626,
         27.18422138132155,
         27.025514751672745,
         25.597291676327586,
         27.810696130618453,
         26.96986314561218,
         26.553792699356563,
         26.926359289325774,
         27.86558667011559,
         26.862082164734602,
         26.61095820227638,
         27.07982236566022,
         26.79511160776019,
         28.41942043416202,
         26.04889159463346,
         27.13125178683549,
         28.264819104224443,
         27.304418126121163
        ],
        [
         3.759466864428816,
         3.6869703657024644,
         3.89228270740374,
         3.7608381257268784,
         3.78459331064278,
         3.690711147809742,
         3.7992640541192424,
         3.7019785340646902,
         3.845065708948528,
         3.7215618468791614,
         3.759781401933508,
         3.8098247057379035,
         3.7650743808044567,
         3.6255857895933445,
         3.7845089616610688,
         3.7575624574356965,
         3.6659248832007614,
         3.764144303352793,
         3.644147621968177,
         3.7933746699074478,
         3.700065172213901,
         3.688166528660124,
         3.5873489247691137,
         3.83327397719989,
         3.7408195792513608,
         3.6709947050966543,
         3.692442654959226,
         3.751200728090954,
         3.7489388790357503,
         3.81614484048587,
         3.776712149533003,
         3.728156733264412,
         3.733778083309736,
         3.7269264967274363,
         3.7292518840613345,
         3.841921235549124,
         3.599105050567003,
         3.777686843850936,
         3.5691614279779773,
         3.628760768235845,
         3.720872225738726,
         3.743455479394183,
         3.7264712275219423,
         3.5235381169774986,
         3.6012005338284623,
         3.6944204703788595,
         3.7419329671962824,
         3.6807661125589415,
         3.719111322927613,
         3.7804496730560437,
         3.688499135797616,
         3.768520933931023,
         3.6099148405211574,
         3.6354053698000586,
         3.6975943153355217,
         3.5704942055197155,
         3.8065401021500485,
         3.5470334279019538,
         3.718439328385135,
         3.6514664275769446,
         3.667572624038457,
         3.6491147194458184,
         3.8348236994238505,
         3.685020587840079,
         3.657746293578902,
         3.8514834413758807,
         3.7873728899836085,
         3.7454723105926875,
         3.713639872617225,
         3.864086378208314,
         3.6961095509179205,
         3.7079157231088504,
         3.7587355085948206,
         3.562891084913376,
         3.7400179035029093,
         3.8189281238298265,
         3.6330403963701605,
         3.7002315878033207,
         3.593489051361321,
         3.7738114128575773,
         3.762203850250504,
         3.5860598574614464,
         3.7508658258596737,
         3.761273428660776,
         3.7379709734201705,
         3.6616663283866684,
         3.732314506129566,
         3.692810476357157,
         3.69190636131264,
         3.7047570898197595,
         3.778848379206449,
         3.689471487633829,
         3.6919988438989253,
         3.7517819329983375,
         3.7342484978762305,
         3.881097623567862,
         3.6444936507396424,
         3.7493802255599875,
         3.8533365586669324,
         3.6688394607635146
        ]
       ],
       "encoder": "json",
       "name": "ABC_GAN_4 Metrics",
       "version": 1
      }
     },
     "metadata": {
      "scrapbook": {
       "data": true,
       "display": false,
       "name": "ABC_GAN_4 Metrics"
      }
     },
     "output_type": "display_data"
    },
    {
     "name": "stdout",
     "output_type": "stream",
     "text": [
      "MAE\n",
      "0.2643767476181029\n"
     ]
    }
   ],
   "source": [
    "ABC_GAN4_metrics=ABC_train_test2.test_generator(gen4,test_data,prior_model,variance,bias,\"3\",device)\n",
    "sb.glue(\"ABC_GAN_4 Metrics\",ABC_GAN4_metrics)\n",
    "\n",
    "print(\"MAE\")\n",
    "print(mean(ABC_GAN4_metrics[1]))"
   ]
  },
  {
   "cell_type": "code",
   "execution_count": 26,
   "id": "a94bc465",
   "metadata": {
    "execution": {
     "iopub.execute_input": "2022-07-22T15:49:17.189234Z",
     "iopub.status.busy": "2022-07-22T15:49:17.188952Z",
     "iopub.status.idle": "2022-07-22T15:49:17.924321Z",
     "shell.execute_reply": "2022-07-22T15:49:17.923519Z"
    },
    "id": "c8e46b48",
    "papermill": {
     "duration": 0.859097,
     "end_time": "2022-07-22T15:49:17.926705",
     "exception": false,
     "start_time": "2022-07-22T15:49:17.067608",
     "status": "completed"
    },
    "tags": []
   },
   "outputs": [
    {
     "data": {
      "image/png": "[encoded data removed]",
      "text/plain": [
       "<Figure size 432x288 with 1 Axes>"
      ]
     },
     "metadata": {
      "needs_background": "light"
     },
     "output_type": "display_data"
    },
    {
     "data": {
      "image/png": "[encoded data removed]",
      "text/plain": [
       "<Figure size 432x288 with 1 Axes>"
      ]
     },
     "metadata": {
      "needs_background": "light"
     },
     "output_type": "display_data"
    },
    {
     "data": {
      "image/png": "[encoded data removed]",
      "text/plain": [
       "<Figure size 432x288 with 1 Axes>"
      ]
     },
     "metadata": {
      "needs_background": "light"
     },
     "output_type": "display_data"
    },
    {
     "data": {
      "image/png": "[encoded data removed]",
      "text/plain": [
       "<Figure size 432x288 with 1 Axes>"
      ]
     },
     "metadata": {
      "needs_background": "light"
     },
     "output_type": "display_data"
    }
   ],
   "source": [
    "sanityChecks.discProbVsError(train_data,disc4,device)\n",
    "sanityChecks.discProbVsError(test_data,disc4,device)"
   ]
  },
  {
   "cell_type": "markdown",
   "id": "a5bd74c3",
   "metadata": {
    "id": "a5bd74c3",
    "papermill": {
     "duration": 0.057708,
     "end_time": "2022-07-22T15:49:18.039189",
     "exception": false,
     "start_time": "2022-07-22T15:49:17.981481",
     "status": "completed"
    },
    "tags": []
   },
   "source": [
    "## Skip Connection Model Analysis - ABC-GAN "
   ]
  },
  {
   "cell_type": "markdown",
   "id": "5744a8bf",
   "metadata": {
    "id": "5744a8bf",
    "papermill": {
     "duration": 0.047584,
     "end_time": "2022-07-22T15:49:18.135780",
     "exception": false,
     "start_time": "2022-07-22T15:49:18.088196",
     "status": "completed"
    },
    "tags": []
   },
   "source": [
    "### Weight Analysis \n",
    "\n",
    "Study the weights of the skip connection layer\n",
    "\n",
    "Equation of the skip connection is \n",
    "\n",
    "$output = y_{gan} * w + y_{abc} * (1-w)$"
   ]
  },
  {
   "cell_type": "code",
   "execution_count": 27,
   "id": "52c31dea",
   "metadata": {
    "execution": {
     "iopub.execute_input": "2022-07-22T15:49:18.240193Z",
     "iopub.status.busy": "2022-07-22T15:49:18.239879Z",
     "iopub.status.idle": "2022-07-22T15:49:18.251791Z",
     "shell.execute_reply": "2022-07-22T15:49:18.251174Z"
    },
    "id": "52c31dea",
    "papermill": {
     "duration": 0.063323,
     "end_time": "2022-07-22T15:49:18.254410",
     "exception": false,
     "start_time": "2022-07-22T15:49:18.191087",
     "status": "completed"
    },
    "tags": []
   },
   "outputs": [
    {
     "name": "stdout",
     "output_type": "stream",
     "text": [
      "Weight of the node at skip connection\n",
      "Parameter containing:\n",
      "tensor([[0.0923]], requires_grad=True)\n"
     ]
    },
    {
     "data": {
      "application/scrapbook.scrap.json+json": {
       "data": 0.09230078011751175,
       "encoder": "json",
       "name": "Skip Connection Weight",
       "version": 1
      }
     },
     "metadata": {
      "scrapbook": {
       "data": true,
       "display": false,
       "name": "Skip Connection Weight"
      }
     },
     "output_type": "display_data"
    }
   ],
   "source": [
    "print(\"Weight of the node at skip connection\")\n",
    "for name,param in gen3.named_parameters():\n",
    "    if(name == \"skipNode.weight\"):\n",
    "        print(param)\n",
    "        sb.glue(\"Skip Connection Weight\",param.item())"
   ]
  },
  {
   "cell_type": "markdown",
   "id": "f7e7d38f",
   "metadata": {
    "id": "a5bd74c3",
    "papermill": {
     "duration": 0.048488,
     "end_time": "2022-07-22T15:49:18.349337",
     "exception": false,
     "start_time": "2022-07-22T15:49:18.300849",
     "status": "completed"
    },
    "tags": []
   },
   "source": [
    "## skipGAN Model Analysis (TabNet Generator) "
   ]
  },
  {
   "cell_type": "markdown",
   "id": "65d84f3c",
   "metadata": {
    "id": "5744a8bf",
    "papermill": {
     "duration": 0.057241,
     "end_time": "2022-07-22T15:49:18.458126",
     "exception": false,
     "start_time": "2022-07-22T15:49:18.400885",
     "status": "completed"
    },
    "tags": []
   },
   "source": [
    "### Weight Analysis \n",
    "\n",
    "Study the weights of the skip connection layer\n",
    "\n",
    "Equation of the skip connection is \n",
    "\n",
    "$output = y_{gan} * w + y_{abc} * (1-w)$"
   ]
  },
  {
   "cell_type": "code",
   "execution_count": 28,
   "id": "1ad9dd02",
   "metadata": {
    "execution": {
     "iopub.execute_input": "2022-07-22T15:49:18.591685Z",
     "iopub.status.busy": "2022-07-22T15:49:18.591006Z",
     "iopub.status.idle": "2022-07-22T15:49:18.602265Z",
     "shell.execute_reply": "2022-07-22T15:49:18.601636Z"
    },
    "id": "52c31dea",
    "papermill": {
     "duration": 0.06668,
     "end_time": "2022-07-22T15:49:18.604610",
     "exception": false,
     "start_time": "2022-07-22T15:49:18.537930",
     "status": "completed"
    },
    "tags": []
   },
   "outputs": [
    {
     "name": "stdout",
     "output_type": "stream",
     "text": [
      "Weight of the node at skip connection\n",
      "Parameter containing:\n",
      "tensor([[0.2122]], requires_grad=True)\n"
     ]
    },
    {
     "data": {
      "application/scrapbook.scrap.json+json": {
       "data": 0.21223072707653046,
       "encoder": "json",
       "name": "Skip Connection Weight",
       "version": 1
      }
     },
     "metadata": {
      "scrapbook": {
       "data": true,
       "display": false,
       "name": "Skip Connection Weight"
      }
     },
     "output_type": "display_data"
    }
   ],
   "source": [
    "print(\"Weight of the node at skip connection\")\n",
    "for name,param in gen4.named_parameters():\n",
    "    if(name == \"skipNode.weight\"):\n",
    "        print(param)\n",
    "        sb.glue(\"Skip Connection Weight\",param.item())"
   ]
  }
 ],
 "metadata": {
  "colab": {
   "collapsed_sections": [],
   "name": "ABC_GAN_Model-Catboost_Pre-gen.ipynb",
   "provenance": []
  },
  "interpreter": {
   "hash": "31f2aee4e71d21fbe5cf8b01ff0e069b9275f58929596ceb00d14d90e3e16cd6"
  },
  "kernelspec": {
   "display_name": "Python 3 (ipykernel)",
   "language": "python",
   "name": "python3"
  },
  "language_info": {
   "codemirror_mode": {
    "name": "ipython",
    "version": 3
   },
   "file_extension": ".py",
   "mimetype": "text/x-python",
   "name": "python",
   "nbconvert_exporter": "python",
   "pygments_lexer": "ipython3",
   "version": "3.8.13"
  },
  "papermill": {
   "default_parameters": {},
   "duration": 1958.446138,
   "end_time": "2022-07-22T15:49:19.842706",
   "environment_variables": {},
   "exception": null,
   "input_path": "ABC_GAN-TabNet.ipynb",
   "output_path": "./ABC_GAN_TabNet/ABC-GAN_output_1_10.ipynb",
   "parameters": {
    "bias": 0,
    "variance": 0.1
   },
   "start_time": "2022-07-22T15:16:41.396568",
   "version": "2.3.3"
  }
 },
 "nbformat": 4,
 "nbformat_minor": 5
}