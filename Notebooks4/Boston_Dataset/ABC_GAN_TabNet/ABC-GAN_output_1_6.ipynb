{
 "cells": [
  {
   "cell_type": "markdown",
   "id": "622780e6",
   "metadata": {
    "id": "622780e6",
    "papermill": {
     "duration": 0.008028,
     "end_time": "2022-07-22T12:32:23.104456",
     "exception": false,
     "start_time": "2022-07-22T12:32:23.096428",
     "status": "completed"
    },
    "tags": []
   },
   "source": [
    "## Import Libraries "
   ]
  },
  {
   "cell_type": "code",
   "execution_count": 1,
   "id": "a62397e3",
   "metadata": {
    "execution": {
     "iopub.execute_input": "2022-07-22T12:32:23.145923Z",
     "iopub.status.busy": "2022-07-22T12:32:23.143276Z",
     "iopub.status.idle": "2022-07-22T12:32:23.175235Z",
     "shell.execute_reply": "2022-07-22T12:32:23.170914Z"
    },
    "id": "a62397e3",
    "papermill": {
     "duration": 0.068113,
     "end_time": "2022-07-22T12:32:23.179581",
     "exception": false,
     "start_time": "2022-07-22T12:32:23.111468",
     "status": "completed"
    },
    "tags": []
   },
   "outputs": [],
   "source": [
    "import warnings\n",
    "import sys\n",
    "sys.path.insert(0, '../../src')\n",
    "warnings.filterwarnings('ignore')"
   ]
  },
  {
   "cell_type": "code",
   "execution_count": 2,
   "id": "d6a4e155",
   "metadata": {
    "execution": {
     "iopub.execute_input": "2022-07-22T12:32:23.199186Z",
     "iopub.status.busy": "2022-07-22T12:32:23.197927Z",
     "iopub.status.idle": "2022-07-22T12:32:30.541850Z",
     "shell.execute_reply": "2022-07-22T12:32:30.541139Z"
    },
    "id": "d6a4e155",
    "papermill": {
     "duration": 7.359034,
     "end_time": "2022-07-22T12:32:30.546389",
     "exception": false,
     "start_time": "2022-07-22T12:32:23.187355",
     "status": "completed"
    },
    "tags": []
   },
   "outputs": [],
   "source": [
    "import ABC_train_test2\n",
    "import bostonDataset\n",
    "import network\n",
    "import dataset\n",
    "import sanityChecks\n",
    "import torch \n",
    "import scrapbook as sb\n",
    "from statistics import mean \n",
    "import catboost as ctb \n",
    "from sklearn.model_selection import train_test_split\n",
    "from sklearn.metrics import mean_squared_error,mean_absolute_error\n",
    "import numpy as np\n",
    "from pytorch_tabnet.tab_model import TabNetRegressor"
   ]
  },
  {
   "cell_type": "markdown",
   "id": "2fa5b0f7",
   "metadata": {
    "id": "2fa5b0f7",
    "papermill": {
     "duration": 0.008585,
     "end_time": "2022-07-22T12:32:30.562929",
     "exception": false,
     "start_time": "2022-07-22T12:32:30.554344",
     "status": "completed"
    },
    "tags": []
   },
   "source": [
    "## Parameters "
   ]
  },
  {
   "cell_type": "code",
   "execution_count": 3,
   "id": "783186fb",
   "metadata": {
    "execution": {
     "iopub.execute_input": "2022-07-22T12:32:30.583395Z",
     "iopub.status.busy": "2022-07-22T12:32:30.582982Z",
     "iopub.status.idle": "2022-07-22T12:32:30.588948Z",
     "shell.execute_reply": "2022-07-22T12:32:30.587157Z"
    },
    "id": "783186fb",
    "papermill": {
     "duration": 0.024562,
     "end_time": "2022-07-22T12:32:30.595715",
     "exception": false,
     "start_time": "2022-07-22T12:32:30.571153",
     "status": "completed"
    },
    "tags": [
     "parameters"
    ]
   },
   "outputs": [],
   "source": [
    "variance = 1\n",
    "bias = 1 "
   ]
  },
  {
   "cell_type": "code",
   "execution_count": 4,
   "id": "8ddc0e3c",
   "metadata": {
    "execution": {
     "iopub.execute_input": "2022-07-22T12:32:30.616088Z",
     "iopub.status.busy": "2022-07-22T12:32:30.615571Z",
     "iopub.status.idle": "2022-07-22T12:32:30.624985Z",
     "shell.execute_reply": "2022-07-22T12:32:30.622760Z"
    },
    "papermill": {
     "duration": 0.027545,
     "end_time": "2022-07-22T12:32:30.630564",
     "exception": false,
     "start_time": "2022-07-22T12:32:30.603019",
     "status": "completed"
    },
    "tags": [
     "injected-parameters"
    ]
   },
   "outputs": [],
   "source": [
    "# Parameters\n",
    "variance = 1\n",
    "bias = 0.01\n"
   ]
  },
  {
   "cell_type": "markdown",
   "id": "391cdbfd",
   "metadata": {
    "id": "391cdbfd",
    "papermill": {
     "duration": 0.007211,
     "end_time": "2022-07-22T12:32:30.645018",
     "exception": false,
     "start_time": "2022-07-22T12:32:30.637807",
     "status": "completed"
    },
    "tags": []
   },
   "source": [
    "## Dataset \n"
   ]
  },
  {
   "cell_type": "code",
   "execution_count": 5,
   "id": "5b51f161",
   "metadata": {
    "execution": {
     "iopub.execute_input": "2022-07-22T12:32:30.662414Z",
     "iopub.status.busy": "2022-07-22T12:32:30.661558Z",
     "iopub.status.idle": "2022-07-22T12:32:30.665972Z",
     "shell.execute_reply": "2022-07-22T12:32:30.665236Z"
    },
    "id": "5b51f161",
    "papermill": {
     "duration": 0.019573,
     "end_time": "2022-07-22T12:32:30.671504",
     "exception": false,
     "start_time": "2022-07-22T12:32:30.651931",
     "status": "completed"
    },
    "tags": []
   },
   "outputs": [],
   "source": [
    "#Parameters \n",
    "n_features = 13\n",
    "n_samples= 506\n",
    "n_target = 1 "
   ]
  },
  {
   "cell_type": "code",
   "execution_count": 6,
   "id": "5d6eced4",
   "metadata": {
    "execution": {
     "iopub.execute_input": "2022-07-22T12:32:30.702827Z",
     "iopub.status.busy": "2022-07-22T12:32:30.701979Z",
     "iopub.status.idle": "2022-07-22T12:32:30.732170Z",
     "shell.execute_reply": "2022-07-22T12:32:30.731370Z"
    },
    "id": "5d6eced4",
    "papermill": {
     "duration": 0.056563,
     "end_time": "2022-07-22T12:32:30.737472",
     "exception": false,
     "start_time": "2022-07-22T12:32:30.680909",
     "status": "completed"
    },
    "tags": []
   },
   "outputs": [
    {
     "name": "stdout",
     "output_type": "stream",
     "text": [
      "         X1        X2        X3        X4        X5        X6        X7  \\\n",
      "0 -0.419782  0.284830 -1.287909 -0.272599 -0.144217  0.413672 -0.120013   \n",
      "1 -0.417339 -0.487722 -0.593381 -0.272599 -0.740262  0.194274  0.367166   \n",
      "2 -0.417342 -0.487722 -0.593381 -0.272599 -0.740262  1.282714 -0.265812   \n",
      "3 -0.416750 -0.487722 -1.306878 -0.272599 -0.835284  1.016303 -0.809889   \n",
      "4 -0.412482 -0.487722 -1.306878 -0.272599 -0.835284  1.228577 -0.511180   \n",
      "\n",
      "         X8        X9       X10       X11       X12       X13         Y  \n",
      "0  0.140214 -0.982843 -0.666608 -1.459000  0.441052 -1.075562  0.159686  \n",
      "1  0.557160 -0.867883 -0.987329 -0.303094  0.441052 -0.492439 -0.101524  \n",
      "2  0.557160 -0.867883 -0.987329 -0.303094  0.396427 -1.208727  1.324247  \n",
      "3  1.077737 -0.752922 -1.106115  0.113032  0.416163 -1.361517  1.182758  \n",
      "4  1.077737 -0.752922 -1.106115  0.113032  0.441052 -1.026501  1.487503  \n"
     ]
    }
   ],
   "source": [
    "X,Y = bostonDataset.boston_data()"
   ]
  },
  {
   "cell_type": "code",
   "execution_count": 7,
   "id": "fe007438",
   "metadata": {
    "execution": {
     "iopub.execute_input": "2022-07-22T12:32:30.756080Z",
     "iopub.status.busy": "2022-07-22T12:32:30.755775Z",
     "iopub.status.idle": "2022-07-22T12:32:30.761055Z",
     "shell.execute_reply": "2022-07-22T12:32:30.760365Z"
    },
    "id": "fe007438",
    "papermill": {
     "duration": 0.020956,
     "end_time": "2022-07-22T12:32:30.766363",
     "exception": false,
     "start_time": "2022-07-22T12:32:30.745407",
     "status": "completed"
    },
    "tags": []
   },
   "outputs": [],
   "source": [
    "#Train test split for dataset \n",
    "X_train,X_test,Y_train,Y_test = train_test_split(X,Y,test_size = 0.2)\n",
    "train_data = dataset.CustomDataset(X_train,Y_train)\n",
    "test_data = dataset.CustomDataset(X_test,Y_test)\n"
   ]
  },
  {
   "cell_type": "markdown",
   "id": "a9a1af34",
   "metadata": {
    "id": "a9a1af34",
    "papermill": {
     "duration": 0.00752,
     "end_time": "2022-07-22T12:32:30.783955",
     "exception": false,
     "start_time": "2022-07-22T12:32:30.776435",
     "status": "completed"
    },
    "tags": []
   },
   "source": [
    "## Training Parameters "
   ]
  },
  {
   "cell_type": "code",
   "execution_count": 8,
   "id": "952b7fc8",
   "metadata": {
    "execution": {
     "iopub.execute_input": "2022-07-22T12:32:30.812162Z",
     "iopub.status.busy": "2022-07-22T12:32:30.811136Z",
     "iopub.status.idle": "2022-07-22T12:32:30.818953Z",
     "shell.execute_reply": "2022-07-22T12:32:30.817679Z"
    },
    "id": "952b7fc8",
    "papermill": {
     "duration": 0.033512,
     "end_time": "2022-07-22T12:32:30.825513",
     "exception": false,
     "start_time": "2022-07-22T12:32:30.792001",
     "status": "completed"
    },
    "tags": []
   },
   "outputs": [],
   "source": [
    "batch_size = 32\n",
    "n_epochs = 1000\n",
    "#Select the device \n",
    "device = torch.device('cuda' if torch.cuda.is_available() else 'cpu')"
   ]
  },
  {
   "cell_type": "markdown",
   "id": "a95e1600",
   "metadata": {
    "id": "a95e1600",
    "papermill": {
     "duration": 0.00737,
     "end_time": "2022-07-22T12:32:30.842912",
     "exception": false,
     "start_time": "2022-07-22T12:32:30.835542",
     "status": "completed"
    },
    "tags": []
   },
   "source": [
    "# ABC Pre-generator Model \n",
    "\n",
    "1. The catboost model is used as a pre-generator model for the ABC-GAN. \n",
    "2. The model is first trained on the entire dataset \n",
    "3. It generats X,Y pairs and we add some Gaussian noise with mean 0 and variance 1 to it which is then feed as input to the generator.\n"
   ]
  },
  {
   "cell_type": "code",
   "execution_count": 9,
   "id": "ff8ce7bd",
   "metadata": {
    "execution": {
     "iopub.execute_input": "2022-07-22T12:32:30.861571Z",
     "iopub.status.busy": "2022-07-22T12:32:30.860638Z",
     "iopub.status.idle": "2022-07-22T12:33:58.449725Z",
     "shell.execute_reply": "2022-07-22T12:33:58.448837Z"
    },
    "id": "ff8ce7bd",
    "papermill": {
     "duration": 87.601279,
     "end_time": "2022-07-22T12:33:58.452356",
     "exception": false,
     "start_time": "2022-07-22T12:32:30.851077",
     "status": "completed"
    },
    "tags": []
   },
   "outputs": [
    {
     "name": "stdout",
     "output_type": "stream",
     "text": [
      "Device used : cpu\n"
     ]
    },
    {
     "name": "stdout",
     "output_type": "stream",
     "text": [
      "epoch 0  | loss: 2.25572 | train_mse: 0.98862 | train_mae: 0.76863 |  0:00:00s\n"
     ]
    },
    {
     "name": "stdout",
     "output_type": "stream",
     "text": [
      "epoch 1  | loss: 0.85559 | train_mse: 0.66718 | train_mae: 0.58728 |  0:00:00s\n"
     ]
    },
    {
     "name": "stdout",
     "output_type": "stream",
     "text": [
      "epoch 2  | loss: 0.54464 | train_mse: 1.32771 | train_mae: 0.59097 |  0:00:01s\n"
     ]
    },
    {
     "name": "stdout",
     "output_type": "stream",
     "text": [
      "epoch 3  | loss: 0.51931 | train_mse: 0.75594 | train_mae: 0.49098 |  0:00:01s\n"
     ]
    },
    {
     "name": "stdout",
     "output_type": "stream",
     "text": [
      "epoch 4  | loss: 0.46518 | train_mse: 0.39269 | train_mae: 0.43719 |  0:00:01s\n"
     ]
    },
    {
     "name": "stdout",
     "output_type": "stream",
     "text": [
      "epoch 5  | loss: 0.40668 | train_mse: 0.42199 | train_mae: 0.44063 |  0:00:02s\n"
     ]
    },
    {
     "name": "stdout",
     "output_type": "stream",
     "text": [
      "epoch 6  | loss: 0.52079 | train_mse: 0.33629 | train_mae: 0.39619 |  0:00:02s\n"
     ]
    },
    {
     "name": "stdout",
     "output_type": "stream",
     "text": [
      "epoch 7  | loss: 0.45455 | train_mse: 0.32287 | train_mae: 0.39376 |  0:00:03s\n"
     ]
    },
    {
     "name": "stdout",
     "output_type": "stream",
     "text": [
      "epoch 8  | loss: 0.35632 | train_mse: 0.31487 | train_mae: 0.38743 |  0:00:03s\n"
     ]
    },
    {
     "name": "stdout",
     "output_type": "stream",
     "text": [
      "epoch 9  | loss: 0.35928 | train_mse: 0.34088 | train_mae: 0.3971  |  0:00:03s\n"
     ]
    },
    {
     "name": "stdout",
     "output_type": "stream",
     "text": [
      "epoch 10 | loss: 0.38615 | train_mse: 0.30264 | train_mae: 0.4     |  0:00:04s\n"
     ]
    },
    {
     "name": "stdout",
     "output_type": "stream",
     "text": [
      "epoch 11 | loss: 0.35562 | train_mse: 0.26628 | train_mae: 0.3528  |  0:00:04s\n"
     ]
    },
    {
     "name": "stdout",
     "output_type": "stream",
     "text": [
      "epoch 12 | loss: 0.36102 | train_mse: 0.24544 | train_mae: 0.34424 |  0:00:05s\n"
     ]
    },
    {
     "name": "stdout",
     "output_type": "stream",
     "text": [
      "epoch 13 | loss: 0.31701 | train_mse: 0.22388 | train_mae: 0.32198 |  0:00:05s\n"
     ]
    },
    {
     "name": "stdout",
     "output_type": "stream",
     "text": [
      "epoch 14 | loss: 0.31995 | train_mse: 0.21592 | train_mae: 0.33287 |  0:00:06s\n"
     ]
    },
    {
     "name": "stdout",
     "output_type": "stream",
     "text": [
      "epoch 15 | loss: 0.27413 | train_mse: 0.19936 | train_mae: 0.30573 |  0:00:06s\n"
     ]
    },
    {
     "name": "stdout",
     "output_type": "stream",
     "text": [
      "epoch 16 | loss: 0.2713  | train_mse: 0.19162 | train_mae: 0.29926 |  0:00:07s\n"
     ]
    },
    {
     "name": "stdout",
     "output_type": "stream",
     "text": [
      "epoch 17 | loss: 0.25515 | train_mse: 0.18186 | train_mae: 0.28917 |  0:00:07s\n"
     ]
    },
    {
     "name": "stdout",
     "output_type": "stream",
     "text": [
      "epoch 18 | loss: 0.25995 | train_mse: 0.21955 | train_mae: 0.30404 |  0:00:07s\n"
     ]
    },
    {
     "name": "stdout",
     "output_type": "stream",
     "text": [
      "epoch 19 | loss: 0.29426 | train_mse: 0.21342 | train_mae: 0.29671 |  0:00:08s\n"
     ]
    },
    {
     "name": "stdout",
     "output_type": "stream",
     "text": [
      "epoch 20 | loss: 0.23879 | train_mse: 0.25622 | train_mae: 0.315   |  0:00:08s\n"
     ]
    },
    {
     "name": "stdout",
     "output_type": "stream",
     "text": [
      "epoch 21 | loss: 0.26804 | train_mse: 0.21303 | train_mae: 0.29729 |  0:00:08s\n"
     ]
    },
    {
     "name": "stdout",
     "output_type": "stream",
     "text": [
      "epoch 22 | loss: 0.2803  | train_mse: 0.21426 | train_mae: 0.30363 |  0:00:09s\n"
     ]
    },
    {
     "name": "stdout",
     "output_type": "stream",
     "text": [
      "epoch 23 | loss: 0.26743 | train_mse: 0.24575 | train_mae: 0.35167 |  0:00:09s\n"
     ]
    },
    {
     "name": "stdout",
     "output_type": "stream",
     "text": [
      "epoch 24 | loss: 0.27249 | train_mse: 0.19766 | train_mae: 0.30402 |  0:00:10s\n"
     ]
    },
    {
     "name": "stdout",
     "output_type": "stream",
     "text": [
      "epoch 25 | loss: 0.26592 | train_mse: 0.20835 | train_mae: 0.31884 |  0:00:10s\n"
     ]
    },
    {
     "name": "stdout",
     "output_type": "stream",
     "text": [
      "epoch 26 | loss: 0.24716 | train_mse: 0.16062 | train_mae: 0.28261 |  0:00:10s\n"
     ]
    },
    {
     "name": "stdout",
     "output_type": "stream",
     "text": [
      "epoch 27 | loss: 0.23591 | train_mse: 0.16019 | train_mae: 0.28238 |  0:00:11s\n"
     ]
    },
    {
     "name": "stdout",
     "output_type": "stream",
     "text": [
      "epoch 28 | loss: 0.26163 | train_mse: 0.19382 | train_mae: 0.31187 |  0:00:11s\n"
     ]
    },
    {
     "name": "stdout",
     "output_type": "stream",
     "text": [
      "epoch 29 | loss: 0.27013 | train_mse: 0.19977 | train_mae: 0.29415 |  0:00:11s\n"
     ]
    },
    {
     "name": "stdout",
     "output_type": "stream",
     "text": [
      "epoch 30 | loss: 0.234   | train_mse: 0.14918 | train_mae: 0.26183 |  0:00:12s\n"
     ]
    },
    {
     "name": "stdout",
     "output_type": "stream",
     "text": [
      "epoch 31 | loss: 0.22949 | train_mse: 0.15282 | train_mae: 0.27772 |  0:00:12s\n"
     ]
    },
    {
     "name": "stdout",
     "output_type": "stream",
     "text": [
      "epoch 32 | loss: 0.19977 | train_mse: 0.15677 | train_mae: 0.27796 |  0:00:12s\n"
     ]
    },
    {
     "name": "stdout",
     "output_type": "stream",
     "text": [
      "epoch 33 | loss: 0.23303 | train_mse: 0.16899 | train_mae: 0.29415 |  0:00:13s\n"
     ]
    },
    {
     "name": "stdout",
     "output_type": "stream",
     "text": [
      "epoch 34 | loss: 0.19624 | train_mse: 0.16123 | train_mae: 0.28631 |  0:00:13s\n"
     ]
    },
    {
     "name": "stdout",
     "output_type": "stream",
     "text": [
      "epoch 35 | loss: 0.20216 | train_mse: 0.14155 | train_mae: 0.26215 |  0:00:13s\n"
     ]
    },
    {
     "name": "stdout",
     "output_type": "stream",
     "text": [
      "epoch 36 | loss: 0.23837 | train_mse: 0.14416 | train_mae: 0.27046 |  0:00:14s\n"
     ]
    },
    {
     "name": "stdout",
     "output_type": "stream",
     "text": [
      "epoch 37 | loss: 0.22957 | train_mse: 0.14257 | train_mae: 0.2664  |  0:00:14s\n"
     ]
    },
    {
     "name": "stdout",
     "output_type": "stream",
     "text": [
      "epoch 38 | loss: 0.2307  | train_mse: 0.14969 | train_mae: 0.2738  |  0:00:14s\n"
     ]
    },
    {
     "name": "stdout",
     "output_type": "stream",
     "text": [
      "epoch 39 | loss: 0.24125 | train_mse: 0.13703 | train_mae: 0.26125 |  0:00:15s\n"
     ]
    },
    {
     "name": "stdout",
     "output_type": "stream",
     "text": [
      "epoch 40 | loss: 0.20689 | train_mse: 0.13507 | train_mae: 0.25092 |  0:00:15s\n"
     ]
    },
    {
     "name": "stdout",
     "output_type": "stream",
     "text": [
      "epoch 41 | loss: 0.19806 | train_mse: 0.13376 | train_mae: 0.25665 |  0:00:15s\n"
     ]
    },
    {
     "name": "stdout",
     "output_type": "stream",
     "text": [
      "epoch 42 | loss: 0.18256 | train_mse: 0.12877 | train_mae: 0.25179 |  0:00:16s\n"
     ]
    },
    {
     "name": "stdout",
     "output_type": "stream",
     "text": [
      "epoch 43 | loss: 0.17973 | train_mse: 0.132   | train_mae: 0.26133 |  0:00:16s\n"
     ]
    },
    {
     "name": "stdout",
     "output_type": "stream",
     "text": [
      "epoch 44 | loss: 0.18617 | train_mse: 0.12636 | train_mae: 0.25155 |  0:00:17s\n"
     ]
    },
    {
     "name": "stdout",
     "output_type": "stream",
     "text": [
      "epoch 45 | loss: 0.19389 | train_mse: 0.12152 | train_mae: 0.24714 |  0:00:17s\n"
     ]
    },
    {
     "name": "stdout",
     "output_type": "stream",
     "text": [
      "epoch 46 | loss: 0.17599 | train_mse: 0.1256  | train_mae: 0.24181 |  0:00:17s\n"
     ]
    },
    {
     "name": "stdout",
     "output_type": "stream",
     "text": [
      "epoch 47 | loss: 0.16523 | train_mse: 0.13188 | train_mae: 0.25844 |  0:00:18s\n"
     ]
    },
    {
     "name": "stdout",
     "output_type": "stream",
     "text": [
      "epoch 48 | loss: 0.1759  | train_mse: 0.12504 | train_mae: 0.24505 |  0:00:18s\n"
     ]
    },
    {
     "name": "stdout",
     "output_type": "stream",
     "text": [
      "epoch 49 | loss: 0.20415 | train_mse: 0.14734 | train_mae: 0.25981 |  0:00:18s\n"
     ]
    },
    {
     "name": "stdout",
     "output_type": "stream",
     "text": [
      "epoch 50 | loss: 0.21103 | train_mse: 0.12028 | train_mae: 0.24662 |  0:00:19s\n"
     ]
    },
    {
     "name": "stdout",
     "output_type": "stream",
     "text": [
      "epoch 51 | loss: 0.19088 | train_mse: 0.15128 | train_mae: 0.28038 |  0:00:19s\n"
     ]
    },
    {
     "name": "stdout",
     "output_type": "stream",
     "text": [
      "epoch 52 | loss: 0.19361 | train_mse: 0.14277 | train_mae: 0.26949 |  0:00:19s\n"
     ]
    },
    {
     "name": "stdout",
     "output_type": "stream",
     "text": [
      "epoch 53 | loss: 0.1875  | train_mse: 0.12354 | train_mae: 0.25303 |  0:00:20s\n"
     ]
    },
    {
     "name": "stdout",
     "output_type": "stream",
     "text": [
      "epoch 54 | loss: 0.19115 | train_mse: 0.12514 | train_mae: 0.25309 |  0:00:20s\n"
     ]
    },
    {
     "name": "stdout",
     "output_type": "stream",
     "text": [
      "epoch 55 | loss: 0.19445 | train_mse: 0.12209 | train_mae: 0.25082 |  0:00:20s\n"
     ]
    },
    {
     "name": "stdout",
     "output_type": "stream",
     "text": [
      "epoch 56 | loss: 0.18717 | train_mse: 0.11128 | train_mae: 0.24024 |  0:00:21s\n"
     ]
    },
    {
     "name": "stdout",
     "output_type": "stream",
     "text": [
      "epoch 57 | loss: 0.19208 | train_mse: 0.1246  | train_mae: 0.25046 |  0:00:21s\n"
     ]
    },
    {
     "name": "stdout",
     "output_type": "stream",
     "text": [
      "epoch 58 | loss: 0.22585 | train_mse: 0.12465 | train_mae: 0.25312 |  0:00:22s\n"
     ]
    },
    {
     "name": "stdout",
     "output_type": "stream",
     "text": [
      "epoch 59 | loss: 0.21303 | train_mse: 0.12568 | train_mae: 0.25119 |  0:00:22s\n"
     ]
    },
    {
     "name": "stdout",
     "output_type": "stream",
     "text": [
      "epoch 60 | loss: 0.20563 | train_mse: 0.14927 | train_mae: 0.26755 |  0:00:22s\n"
     ]
    },
    {
     "name": "stdout",
     "output_type": "stream",
     "text": [
      "epoch 61 | loss: 0.17059 | train_mse: 0.14061 | train_mae: 0.25869 |  0:00:23s\n"
     ]
    },
    {
     "name": "stdout",
     "output_type": "stream",
     "text": [
      "epoch 62 | loss: 0.14481 | train_mse: 0.13056 | train_mae: 0.25081 |  0:00:23s\n"
     ]
    },
    {
     "name": "stdout",
     "output_type": "stream",
     "text": [
      "epoch 63 | loss: 0.16094 | train_mse: 0.1185  | train_mae: 0.24273 |  0:00:23s\n"
     ]
    },
    {
     "name": "stdout",
     "output_type": "stream",
     "text": [
      "epoch 64 | loss: 0.17793 | train_mse: 0.13099 | train_mae: 0.25371 |  0:00:24s\n"
     ]
    },
    {
     "name": "stdout",
     "output_type": "stream",
     "text": [
      "epoch 65 | loss: 0.18156 | train_mse: 0.11432 | train_mae: 0.24362 |  0:00:24s\n"
     ]
    },
    {
     "name": "stdout",
     "output_type": "stream",
     "text": [
      "epoch 66 | loss: 0.17532 | train_mse: 0.12306 | train_mae: 0.25086 |  0:00:24s\n"
     ]
    },
    {
     "name": "stdout",
     "output_type": "stream",
     "text": [
      "epoch 67 | loss: 0.17487 | train_mse: 0.1277  | train_mae: 0.24518 |  0:00:25s\n"
     ]
    },
    {
     "name": "stdout",
     "output_type": "stream",
     "text": [
      "epoch 68 | loss: 0.18787 | train_mse: 0.11366 | train_mae: 0.2425  |  0:00:25s\n"
     ]
    },
    {
     "name": "stdout",
     "output_type": "stream",
     "text": [
      "epoch 69 | loss: 0.1641  | train_mse: 0.14128 | train_mae: 0.2398  |  0:00:26s\n"
     ]
    },
    {
     "name": "stdout",
     "output_type": "stream",
     "text": [
      "epoch 70 | loss: 0.19107 | train_mse: 0.13286 | train_mae: 0.24397 |  0:00:26s\n"
     ]
    },
    {
     "name": "stdout",
     "output_type": "stream",
     "text": [
      "epoch 71 | loss: 0.17924 | train_mse: 0.10701 | train_mae: 0.22733 |  0:00:26s\n"
     ]
    },
    {
     "name": "stdout",
     "output_type": "stream",
     "text": [
      "epoch 72 | loss: 0.20193 | train_mse: 0.13395 | train_mae: 0.24979 |  0:00:27s\n"
     ]
    },
    {
     "name": "stdout",
     "output_type": "stream",
     "text": [
      "epoch 73 | loss: 0.18366 | train_mse: 0.13175 | train_mae: 0.2572  |  0:00:27s\n"
     ]
    },
    {
     "name": "stdout",
     "output_type": "stream",
     "text": [
      "epoch 74 | loss: 0.16821 | train_mse: 0.10225 | train_mae: 0.23507 |  0:00:27s\n"
     ]
    },
    {
     "name": "stdout",
     "output_type": "stream",
     "text": [
      "epoch 75 | loss: 0.17972 | train_mse: 0.13008 | train_mae: 0.26166 |  0:00:28s\n"
     ]
    },
    {
     "name": "stdout",
     "output_type": "stream",
     "text": [
      "epoch 76 | loss: 0.14556 | train_mse: 0.11771 | train_mae: 0.25356 |  0:00:28s\n"
     ]
    },
    {
     "name": "stdout",
     "output_type": "stream",
     "text": [
      "epoch 77 | loss: 0.16698 | train_mse: 0.13127 | train_mae: 0.2608  |  0:00:28s\n"
     ]
    },
    {
     "name": "stdout",
     "output_type": "stream",
     "text": [
      "epoch 78 | loss: 0.15778 | train_mse: 0.12845 | train_mae: 0.24788 |  0:00:29s\n"
     ]
    },
    {
     "name": "stdout",
     "output_type": "stream",
     "text": [
      "epoch 79 | loss: 0.15174 | train_mse: 0.12771 | train_mae: 0.24968 |  0:00:29s\n"
     ]
    },
    {
     "name": "stdout",
     "output_type": "stream",
     "text": [
      "epoch 80 | loss: 0.13971 | train_mse: 0.10882 | train_mae: 0.22671 |  0:00:30s\n"
     ]
    },
    {
     "name": "stdout",
     "output_type": "stream",
     "text": [
      "epoch 81 | loss: 0.15792 | train_mse: 0.09995 | train_mae: 0.22519 |  0:00:30s\n"
     ]
    },
    {
     "name": "stdout",
     "output_type": "stream",
     "text": [
      "epoch 82 | loss: 0.13016 | train_mse: 0.08796 | train_mae: 0.21761 |  0:00:30s\n"
     ]
    },
    {
     "name": "stdout",
     "output_type": "stream",
     "text": [
      "epoch 83 | loss: 0.13631 | train_mse: 0.11452 | train_mae: 0.23852 |  0:00:31s\n"
     ]
    },
    {
     "name": "stdout",
     "output_type": "stream",
     "text": [
      "epoch 84 | loss: 0.16836 | train_mse: 0.1851  | train_mae: 0.25818 |  0:00:31s\n"
     ]
    },
    {
     "name": "stdout",
     "output_type": "stream",
     "text": [
      "epoch 85 | loss: 0.19029 | train_mse: 0.18823 | train_mae: 0.25922 |  0:00:31s\n"
     ]
    },
    {
     "name": "stdout",
     "output_type": "stream",
     "text": [
      "epoch 86 | loss: 0.17149 | train_mse: 0.15074 | train_mae: 0.26135 |  0:00:32s\n"
     ]
    },
    {
     "name": "stdout",
     "output_type": "stream",
     "text": [
      "epoch 87 | loss: 0.15884 | train_mse: 0.10552 | train_mae: 0.23259 |  0:00:32s\n"
     ]
    },
    {
     "name": "stdout",
     "output_type": "stream",
     "text": [
      "epoch 88 | loss: 0.15799 | train_mse: 0.13052 | train_mae: 0.25173 |  0:00:33s\n"
     ]
    },
    {
     "name": "stdout",
     "output_type": "stream",
     "text": [
      "epoch 89 | loss: 0.13689 | train_mse: 0.12237 | train_mae: 0.24589 |  0:00:33s\n"
     ]
    },
    {
     "name": "stdout",
     "output_type": "stream",
     "text": [
      "epoch 90 | loss: 0.15501 | train_mse: 0.09254 | train_mae: 0.22296 |  0:00:34s\n"
     ]
    },
    {
     "name": "stdout",
     "output_type": "stream",
     "text": [
      "epoch 91 | loss: 0.12596 | train_mse: 0.09598 | train_mae: 0.22961 |  0:00:34s\n"
     ]
    },
    {
     "name": "stdout",
     "output_type": "stream",
     "text": [
      "epoch 92 | loss: 0.15199 | train_mse: 0.1144  | train_mae: 0.24437 |  0:00:35s\n"
     ]
    },
    {
     "name": "stdout",
     "output_type": "stream",
     "text": [
      "epoch 93 | loss: 0.13264 | train_mse: 0.08651 | train_mae: 0.21592 |  0:00:36s\n"
     ]
    },
    {
     "name": "stdout",
     "output_type": "stream",
     "text": [
      "epoch 94 | loss: 0.15824 | train_mse: 0.1008  | train_mae: 0.22381 |  0:00:36s\n"
     ]
    },
    {
     "name": "stdout",
     "output_type": "stream",
     "text": [
      "epoch 95 | loss: 0.14588 | train_mse: 0.09135 | train_mae: 0.22438 |  0:00:36s\n"
     ]
    },
    {
     "name": "stdout",
     "output_type": "stream",
     "text": [
      "epoch 96 | loss: 0.14791 | train_mse: 0.10995 | train_mae: 0.23628 |  0:00:37s\n"
     ]
    },
    {
     "name": "stdout",
     "output_type": "stream",
     "text": [
      "epoch 97 | loss: 0.1797  | train_mse: 0.09224 | train_mae: 0.21673 |  0:00:37s\n"
     ]
    },
    {
     "name": "stdout",
     "output_type": "stream",
     "text": [
      "epoch 98 | loss: 0.14602 | train_mse: 0.09181 | train_mae: 0.23318 |  0:00:37s\n"
     ]
    },
    {
     "name": "stdout",
     "output_type": "stream",
     "text": [
      "epoch 99 | loss: 0.18722 | train_mse: 0.09204 | train_mae: 0.22803 |  0:00:38s\n"
     ]
    },
    {
     "name": "stdout",
     "output_type": "stream",
     "text": [
      "epoch 100| loss: 0.14921 | train_mse: 0.09918 | train_mae: 0.22638 |  0:00:38s\n"
     ]
    },
    {
     "name": "stdout",
     "output_type": "stream",
     "text": [
      "epoch 101| loss: 0.17744 | train_mse: 0.09343 | train_mae: 0.22603 |  0:00:39s\n"
     ]
    },
    {
     "name": "stdout",
     "output_type": "stream",
     "text": [
      "epoch 102| loss: 0.15362 | train_mse: 0.08761 | train_mae: 0.21513 |  0:00:39s\n"
     ]
    },
    {
     "name": "stdout",
     "output_type": "stream",
     "text": [
      "epoch 103| loss: 0.13986 | train_mse: 0.09967 | train_mae: 0.23471 |  0:00:39s\n"
     ]
    },
    {
     "name": "stdout",
     "output_type": "stream",
     "text": [
      "epoch 104| loss: 0.12106 | train_mse: 0.09177 | train_mae: 0.21386 |  0:00:40s\n"
     ]
    },
    {
     "name": "stdout",
     "output_type": "stream",
     "text": [
      "epoch 105| loss: 0.17554 | train_mse: 0.09817 | train_mae: 0.22971 |  0:00:40s\n"
     ]
    },
    {
     "name": "stdout",
     "output_type": "stream",
     "text": [
      "epoch 106| loss: 0.12916 | train_mse: 0.0901  | train_mae: 0.2152  |  0:00:40s\n"
     ]
    },
    {
     "name": "stdout",
     "output_type": "stream",
     "text": [
      "epoch 107| loss: 0.13263 | train_mse: 0.09155 | train_mae: 0.21554 |  0:00:41s\n"
     ]
    },
    {
     "name": "stdout",
     "output_type": "stream",
     "text": [
      "epoch 108| loss: 0.15211 | train_mse: 0.1032  | train_mae: 0.23951 |  0:00:41s\n"
     ]
    },
    {
     "name": "stdout",
     "output_type": "stream",
     "text": [
      "epoch 109| loss: 0.17242 | train_mse: 0.11011 | train_mae: 0.23542 |  0:00:41s\n"
     ]
    },
    {
     "name": "stdout",
     "output_type": "stream",
     "text": [
      "epoch 110| loss: 0.17924 | train_mse: 0.10832 | train_mae: 0.24392 |  0:00:42s\n"
     ]
    },
    {
     "name": "stdout",
     "output_type": "stream",
     "text": [
      "epoch 111| loss: 0.14737 | train_mse: 0.10019 | train_mae: 0.22362 |  0:00:42s\n"
     ]
    },
    {
     "name": "stdout",
     "output_type": "stream",
     "text": [
      "epoch 112| loss: 0.1517  | train_mse: 0.10512 | train_mae: 0.23989 |  0:00:42s\n"
     ]
    },
    {
     "name": "stdout",
     "output_type": "stream",
     "text": [
      "epoch 113| loss: 0.13504 | train_mse: 0.0925  | train_mae: 0.22811 |  0:00:43s\n"
     ]
    },
    {
     "name": "stdout",
     "output_type": "stream",
     "text": [
      "epoch 114| loss: 0.15481 | train_mse: 0.09879 | train_mae: 0.23155 |  0:00:43s\n"
     ]
    },
    {
     "name": "stdout",
     "output_type": "stream",
     "text": [
      "epoch 115| loss: 0.16805 | train_mse: 0.08915 | train_mae: 0.22035 |  0:00:43s\n"
     ]
    },
    {
     "name": "stdout",
     "output_type": "stream",
     "text": [
      "epoch 116| loss: 0.12641 | train_mse: 0.08861 | train_mae: 0.2223  |  0:00:44s\n"
     ]
    },
    {
     "name": "stdout",
     "output_type": "stream",
     "text": [
      "epoch 117| loss: 0.12591 | train_mse: 0.08755 | train_mae: 0.21438 |  0:00:44s\n"
     ]
    },
    {
     "name": "stdout",
     "output_type": "stream",
     "text": [
      "epoch 118| loss: 0.12988 | train_mse: 0.08679 | train_mae: 0.21514 |  0:00:44s\n"
     ]
    },
    {
     "name": "stdout",
     "output_type": "stream",
     "text": [
      "epoch 119| loss: 0.14119 | train_mse: 0.08113 | train_mae: 0.20794 |  0:00:45s\n"
     ]
    },
    {
     "name": "stdout",
     "output_type": "stream",
     "text": [
      "epoch 120| loss: 0.11945 | train_mse: 0.08223 | train_mae: 0.21208 |  0:00:45s\n"
     ]
    },
    {
     "name": "stdout",
     "output_type": "stream",
     "text": [
      "epoch 121| loss: 0.12384 | train_mse: 0.08047 | train_mae: 0.20841 |  0:00:46s\n"
     ]
    },
    {
     "name": "stdout",
     "output_type": "stream",
     "text": [
      "epoch 122| loss: 0.13411 | train_mse: 0.08611 | train_mae: 0.2126  |  0:00:46s\n"
     ]
    },
    {
     "name": "stdout",
     "output_type": "stream",
     "text": [
      "epoch 123| loss: 0.16289 | train_mse: 0.10239 | train_mae: 0.22868 |  0:00:46s\n"
     ]
    },
    {
     "name": "stdout",
     "output_type": "stream",
     "text": [
      "epoch 124| loss: 0.12537 | train_mse: 0.08849 | train_mae: 0.21493 |  0:00:47s\n"
     ]
    },
    {
     "name": "stdout",
     "output_type": "stream",
     "text": [
      "epoch 125| loss: 0.12371 | train_mse: 0.10058 | train_mae: 0.22116 |  0:00:47s\n"
     ]
    },
    {
     "name": "stdout",
     "output_type": "stream",
     "text": [
      "epoch 126| loss: 0.12645 | train_mse: 0.08841 | train_mae: 0.20953 |  0:00:47s\n"
     ]
    },
    {
     "name": "stdout",
     "output_type": "stream",
     "text": [
      "epoch 127| loss: 0.12445 | train_mse: 0.0875  | train_mae: 0.21043 |  0:00:48s\n"
     ]
    },
    {
     "name": "stdout",
     "output_type": "stream",
     "text": [
      "epoch 128| loss: 0.1046  | train_mse: 0.08244 | train_mae: 0.20219 |  0:00:48s\n"
     ]
    },
    {
     "name": "stdout",
     "output_type": "stream",
     "text": [
      "epoch 129| loss: 0.1571  | train_mse: 0.07814 | train_mae: 0.20124 |  0:00:48s\n"
     ]
    },
    {
     "name": "stdout",
     "output_type": "stream",
     "text": [
      "epoch 130| loss: 0.14426 | train_mse: 0.07469 | train_mae: 0.20107 |  0:00:49s\n"
     ]
    },
    {
     "name": "stdout",
     "output_type": "stream",
     "text": [
      "epoch 131| loss: 0.12132 | train_mse: 0.08073 | train_mae: 0.20416 |  0:00:49s\n"
     ]
    },
    {
     "name": "stdout",
     "output_type": "stream",
     "text": [
      "epoch 132| loss: 0.14599 | train_mse: 0.09433 | train_mae: 0.217   |  0:00:50s\n"
     ]
    },
    {
     "name": "stdout",
     "output_type": "stream",
     "text": [
      "epoch 133| loss: 0.12771 | train_mse: 0.0814  | train_mae: 0.20471 |  0:00:50s\n"
     ]
    },
    {
     "name": "stdout",
     "output_type": "stream",
     "text": [
      "epoch 134| loss: 0.11927 | train_mse: 0.07784 | train_mae: 0.20187 |  0:00:50s\n"
     ]
    },
    {
     "name": "stdout",
     "output_type": "stream",
     "text": [
      "epoch 135| loss: 0.10298 | train_mse: 0.08216 | train_mae: 0.20628 |  0:00:51s\n"
     ]
    },
    {
     "name": "stdout",
     "output_type": "stream",
     "text": [
      "epoch 136| loss: 0.12534 | train_mse: 0.09602 | train_mae: 0.21775 |  0:00:51s\n"
     ]
    },
    {
     "name": "stdout",
     "output_type": "stream",
     "text": [
      "epoch 137| loss: 0.15936 | train_mse: 0.08216 | train_mae: 0.21349 |  0:00:51s\n"
     ]
    },
    {
     "name": "stdout",
     "output_type": "stream",
     "text": [
      "epoch 138| loss: 0.11742 | train_mse: 0.08754 | train_mae: 0.21593 |  0:00:52s\n"
     ]
    },
    {
     "name": "stdout",
     "output_type": "stream",
     "text": [
      "epoch 139| loss: 0.18351 | train_mse: 0.09103 | train_mae: 0.21254 |  0:00:52s\n"
     ]
    },
    {
     "name": "stdout",
     "output_type": "stream",
     "text": [
      "epoch 140| loss: 0.15011 | train_mse: 0.08803 | train_mae: 0.21546 |  0:00:53s\n"
     ]
    },
    {
     "name": "stdout",
     "output_type": "stream",
     "text": [
      "epoch 141| loss: 0.1099  | train_mse: 0.08139 | train_mae: 0.20495 |  0:00:53s\n"
     ]
    },
    {
     "name": "stdout",
     "output_type": "stream",
     "text": [
      "epoch 142| loss: 0.11645 | train_mse: 0.08768 | train_mae: 0.2103  |  0:00:53s\n"
     ]
    },
    {
     "name": "stdout",
     "output_type": "stream",
     "text": [
      "epoch 143| loss: 0.10525 | train_mse: 0.09197 | train_mae: 0.21344 |  0:00:54s\n"
     ]
    },
    {
     "name": "stdout",
     "output_type": "stream",
     "text": [
      "epoch 144| loss: 0.11422 | train_mse: 0.09901 | train_mae: 0.22331 |  0:00:54s\n"
     ]
    },
    {
     "name": "stdout",
     "output_type": "stream",
     "text": [
      "epoch 145| loss: 0.12841 | train_mse: 0.0935  | train_mae: 0.22057 |  0:00:54s\n"
     ]
    },
    {
     "name": "stdout",
     "output_type": "stream",
     "text": [
      "epoch 146| loss: 0.1166  | train_mse: 0.08217 | train_mae: 0.20517 |  0:00:55s\n"
     ]
    },
    {
     "name": "stdout",
     "output_type": "stream",
     "text": [
      "epoch 147| loss: 0.15034 | train_mse: 0.08568 | train_mae: 0.20979 |  0:00:55s\n"
     ]
    },
    {
     "name": "stdout",
     "output_type": "stream",
     "text": [
      "epoch 148| loss: 0.1209  | train_mse: 0.07484 | train_mae: 0.20093 |  0:00:55s\n"
     ]
    },
    {
     "name": "stdout",
     "output_type": "stream",
     "text": [
      "epoch 149| loss: 0.1199  | train_mse: 0.09082 | train_mae: 0.20194 |  0:00:56s\n"
     ]
    },
    {
     "name": "stdout",
     "output_type": "stream",
     "text": [
      "epoch 150| loss: 0.11505 | train_mse: 0.07861 | train_mae: 0.20599 |  0:00:56s\n"
     ]
    },
    {
     "name": "stdout",
     "output_type": "stream",
     "text": [
      "epoch 151| loss: 0.12267 | train_mse: 0.09806 | train_mae: 0.21286 |  0:00:56s\n"
     ]
    },
    {
     "name": "stdout",
     "output_type": "stream",
     "text": [
      "epoch 152| loss: 0.15497 | train_mse: 0.10561 | train_mae: 0.2122  |  0:00:57s\n"
     ]
    },
    {
     "name": "stdout",
     "output_type": "stream",
     "text": [
      "epoch 153| loss: 0.16041 | train_mse: 0.09458 | train_mae: 0.20588 |  0:00:57s\n"
     ]
    },
    {
     "name": "stdout",
     "output_type": "stream",
     "text": [
      "epoch 154| loss: 0.10723 | train_mse: 0.07345 | train_mae: 0.19676 |  0:00:57s\n"
     ]
    },
    {
     "name": "stdout",
     "output_type": "stream",
     "text": [
      "epoch 155| loss: 0.132   | train_mse: 0.08556 | train_mae: 0.20509 |  0:00:58s\n"
     ]
    },
    {
     "name": "stdout",
     "output_type": "stream",
     "text": [
      "epoch 156| loss: 0.10361 | train_mse: 0.08432 | train_mae: 0.20027 |  0:00:58s\n"
     ]
    },
    {
     "name": "stdout",
     "output_type": "stream",
     "text": [
      "epoch 157| loss: 0.11891 | train_mse: 0.07849 | train_mae: 0.20576 |  0:00:58s\n"
     ]
    },
    {
     "name": "stdout",
     "output_type": "stream",
     "text": [
      "epoch 158| loss: 0.0991  | train_mse: 0.07238 | train_mae: 0.19532 |  0:00:59s\n"
     ]
    },
    {
     "name": "stdout",
     "output_type": "stream",
     "text": [
      "epoch 159| loss: 0.15078 | train_mse: 0.08968 | train_mae: 0.2195  |  0:00:59s\n"
     ]
    },
    {
     "name": "stdout",
     "output_type": "stream",
     "text": [
      "epoch 160| loss: 0.11061 | train_mse: 0.06889 | train_mae: 0.19352 |  0:01:00s\n"
     ]
    },
    {
     "name": "stdout",
     "output_type": "stream",
     "text": [
      "epoch 161| loss: 0.14517 | train_mse: 0.09577 | train_mae: 0.22867 |  0:01:00s\n"
     ]
    },
    {
     "name": "stdout",
     "output_type": "stream",
     "text": [
      "epoch 162| loss: 0.12601 | train_mse: 0.07584 | train_mae: 0.2033  |  0:01:01s\n"
     ]
    },
    {
     "name": "stdout",
     "output_type": "stream",
     "text": [
      "epoch 163| loss: 0.13387 | train_mse: 0.07959 | train_mae: 0.20149 |  0:01:01s\n"
     ]
    },
    {
     "name": "stdout",
     "output_type": "stream",
     "text": [
      "epoch 164| loss: 0.12419 | train_mse: 0.08546 | train_mae: 0.21322 |  0:01:02s\n"
     ]
    },
    {
     "name": "stdout",
     "output_type": "stream",
     "text": [
      "epoch 165| loss: 0.13513 | train_mse: 0.0848  | train_mae: 0.2072  |  0:01:02s\n"
     ]
    },
    {
     "name": "stdout",
     "output_type": "stream",
     "text": [
      "epoch 166| loss: 0.15724 | train_mse: 0.08487 | train_mae: 0.20924 |  0:01:03s\n"
     ]
    },
    {
     "name": "stdout",
     "output_type": "stream",
     "text": [
      "epoch 167| loss: 0.11751 | train_mse: 0.08705 | train_mae: 0.20798 |  0:01:03s\n"
     ]
    },
    {
     "name": "stdout",
     "output_type": "stream",
     "text": [
      "epoch 168| loss: 0.11512 | train_mse: 0.09993 | train_mae: 0.22341 |  0:01:03s\n"
     ]
    },
    {
     "name": "stdout",
     "output_type": "stream",
     "text": [
      "epoch 169| loss: 0.16392 | train_mse: 0.09269 | train_mae: 0.21886 |  0:01:04s\n"
     ]
    },
    {
     "name": "stdout",
     "output_type": "stream",
     "text": [
      "epoch 170| loss: 0.13133 | train_mse: 0.10121 | train_mae: 0.2265  |  0:01:04s\n"
     ]
    },
    {
     "name": "stdout",
     "output_type": "stream",
     "text": [
      "epoch 171| loss: 0.10926 | train_mse: 0.07503 | train_mae: 0.19772 |  0:01:04s\n"
     ]
    },
    {
     "name": "stdout",
     "output_type": "stream",
     "text": [
      "epoch 172| loss: 0.13019 | train_mse: 0.08456 | train_mae: 0.21005 |  0:01:05s\n"
     ]
    },
    {
     "name": "stdout",
     "output_type": "stream",
     "text": [
      "epoch 173| loss: 0.12896 | train_mse: 0.08915 | train_mae: 0.20488 |  0:01:05s\n"
     ]
    },
    {
     "name": "stdout",
     "output_type": "stream",
     "text": [
      "epoch 174| loss: 0.14974 | train_mse: 0.07835 | train_mae: 0.20317 |  0:01:06s\n"
     ]
    },
    {
     "name": "stdout",
     "output_type": "stream",
     "text": [
      "epoch 175| loss: 0.13844 | train_mse: 0.06954 | train_mae: 0.19045 |  0:01:06s\n"
     ]
    },
    {
     "name": "stdout",
     "output_type": "stream",
     "text": [
      "epoch 176| loss: 0.12738 | train_mse: 0.06713 | train_mae: 0.18733 |  0:01:07s\n"
     ]
    },
    {
     "name": "stdout",
     "output_type": "stream",
     "text": [
      "epoch 177| loss: 0.13313 | train_mse: 0.07621 | train_mae: 0.19373 |  0:01:07s\n"
     ]
    },
    {
     "name": "stdout",
     "output_type": "stream",
     "text": [
      "epoch 178| loss: 0.13725 | train_mse: 0.10708 | train_mae: 0.21929 |  0:01:08s\n"
     ]
    },
    {
     "name": "stdout",
     "output_type": "stream",
     "text": [
      "epoch 179| loss: 0.11819 | train_mse: 0.0871  | train_mae: 0.20823 |  0:01:08s\n"
     ]
    },
    {
     "name": "stdout",
     "output_type": "stream",
     "text": [
      "epoch 180| loss: 0.09612 | train_mse: 0.07943 | train_mae: 0.20598 |  0:01:08s\n"
     ]
    },
    {
     "name": "stdout",
     "output_type": "stream",
     "text": [
      "epoch 181| loss: 0.12822 | train_mse: 0.0792  | train_mae: 0.19948 |  0:01:09s\n"
     ]
    },
    {
     "name": "stdout",
     "output_type": "stream",
     "text": [
      "epoch 182| loss: 0.15114 | train_mse: 0.07379 | train_mae: 0.20033 |  0:01:09s\n"
     ]
    },
    {
     "name": "stdout",
     "output_type": "stream",
     "text": [
      "epoch 183| loss: 0.11537 | train_mse: 0.08814 | train_mae: 0.20103 |  0:01:10s\n"
     ]
    },
    {
     "name": "stdout",
     "output_type": "stream",
     "text": [
      "epoch 184| loss: 0.12684 | train_mse: 0.09431 | train_mae: 0.21308 |  0:01:10s\n"
     ]
    },
    {
     "name": "stdout",
     "output_type": "stream",
     "text": [
      "epoch 185| loss: 0.10945 | train_mse: 0.07112 | train_mae: 0.19336 |  0:01:11s\n"
     ]
    },
    {
     "name": "stdout",
     "output_type": "stream",
     "text": [
      "epoch 186| loss: 0.10498 | train_mse: 0.0812  | train_mae: 0.20527 |  0:01:11s\n"
     ]
    },
    {
     "name": "stdout",
     "output_type": "stream",
     "text": [
      "epoch 187| loss: 0.12881 | train_mse: 0.08598 | train_mae: 0.20162 |  0:01:12s\n"
     ]
    },
    {
     "name": "stdout",
     "output_type": "stream",
     "text": [
      "epoch 188| loss: 0.15681 | train_mse: 0.09463 | train_mae: 0.21943 |  0:01:12s\n"
     ]
    },
    {
     "name": "stdout",
     "output_type": "stream",
     "text": [
      "epoch 189| loss: 0.11154 | train_mse: 0.07333 | train_mae: 0.19618 |  0:01:12s\n"
     ]
    },
    {
     "name": "stdout",
     "output_type": "stream",
     "text": [
      "epoch 190| loss: 0.11411 | train_mse: 0.07731 | train_mae: 0.20177 |  0:01:13s\n"
     ]
    },
    {
     "name": "stdout",
     "output_type": "stream",
     "text": [
      "epoch 191| loss: 0.13366 | train_mse: 0.07356 | train_mae: 0.19545 |  0:01:13s\n"
     ]
    },
    {
     "name": "stdout",
     "output_type": "stream",
     "text": [
      "epoch 192| loss: 0.09569 | train_mse: 0.07837 | train_mae: 0.20581 |  0:01:13s\n"
     ]
    },
    {
     "name": "stdout",
     "output_type": "stream",
     "text": [
      "epoch 193| loss: 0.15019 | train_mse: 0.06812 | train_mae: 0.19099 |  0:01:14s\n"
     ]
    },
    {
     "name": "stdout",
     "output_type": "stream",
     "text": [
      "epoch 194| loss: 0.10966 | train_mse: 0.07023 | train_mae: 0.18973 |  0:01:14s\n"
     ]
    },
    {
     "name": "stdout",
     "output_type": "stream",
     "text": [
      "epoch 195| loss: 0.14066 | train_mse: 0.07695 | train_mae: 0.20403 |  0:01:14s\n"
     ]
    },
    {
     "name": "stdout",
     "output_type": "stream",
     "text": [
      "epoch 196| loss: 0.11414 | train_mse: 0.111   | train_mae: 0.22489 |  0:01:15s\n"
     ]
    },
    {
     "name": "stdout",
     "output_type": "stream",
     "text": [
      "epoch 197| loss: 0.18482 | train_mse: 0.09101 | train_mae: 0.20699 |  0:01:15s\n"
     ]
    },
    {
     "name": "stdout",
     "output_type": "stream",
     "text": [
      "epoch 198| loss: 0.09804 | train_mse: 0.10568 | train_mae: 0.21573 |  0:01:15s\n"
     ]
    },
    {
     "name": "stdout",
     "output_type": "stream",
     "text": [
      "epoch 199| loss: 0.13837 | train_mse: 0.08858 | train_mae: 0.2031  |  0:01:16s\n"
     ]
    },
    {
     "name": "stdout",
     "output_type": "stream",
     "text": [
      "epoch 200| loss: 0.12734 | train_mse: 0.09017 | train_mae: 0.21516 |  0:01:16s\n"
     ]
    },
    {
     "name": "stdout",
     "output_type": "stream",
     "text": [
      "epoch 201| loss: 0.13192 | train_mse: 0.09072 | train_mae: 0.21724 |  0:01:17s\n"
     ]
    },
    {
     "name": "stdout",
     "output_type": "stream",
     "text": [
      "epoch 202| loss: 0.2032  | train_mse: 0.09064 | train_mae: 0.2179  |  0:01:17s\n"
     ]
    },
    {
     "name": "stdout",
     "output_type": "stream",
     "text": [
      "epoch 203| loss: 0.13994 | train_mse: 0.09893 | train_mae: 0.21546 |  0:01:17s\n"
     ]
    },
    {
     "name": "stdout",
     "output_type": "stream",
     "text": [
      "epoch 204| loss: 0.16464 | train_mse: 0.08651 | train_mae: 0.21834 |  0:01:18s\n"
     ]
    },
    {
     "name": "stdout",
     "output_type": "stream",
     "text": [
      "epoch 205| loss: 0.1279  | train_mse: 0.08219 | train_mae: 0.21025 |  0:01:18s\n"
     ]
    },
    {
     "name": "stdout",
     "output_type": "stream",
     "text": [
      "epoch 206| loss: 0.11029 | train_mse: 0.08418 | train_mae: 0.21404 |  0:01:19s\n"
     ]
    },
    {
     "name": "stdout",
     "output_type": "stream",
     "text": [
      "epoch 207| loss: 0.12138 | train_mse: 0.08518 | train_mae: 0.21176 |  0:01:19s\n"
     ]
    },
    {
     "name": "stdout",
     "output_type": "stream",
     "text": [
      "epoch 208| loss: 0.13359 | train_mse: 0.07043 | train_mae: 0.19746 |  0:01:20s\n"
     ]
    },
    {
     "name": "stdout",
     "output_type": "stream",
     "text": [
      "epoch 209| loss: 0.14716 | train_mse: 0.08409 | train_mae: 0.20668 |  0:01:20s\n"
     ]
    },
    {
     "name": "stdout",
     "output_type": "stream",
     "text": [
      "epoch 210| loss: 0.146   | train_mse: 0.07324 | train_mae: 0.19437 |  0:01:21s\n"
     ]
    },
    {
     "name": "stdout",
     "output_type": "stream",
     "text": [
      "epoch 211| loss: 0.16231 | train_mse: 0.08921 | train_mae: 0.21402 |  0:01:21s\n"
     ]
    },
    {
     "name": "stdout",
     "output_type": "stream",
     "text": [
      "epoch 212| loss: 0.14538 | train_mse: 0.09653 | train_mae: 0.21705 |  0:01:22s\n"
     ]
    },
    {
     "name": "stdout",
     "output_type": "stream",
     "text": [
      "epoch 213| loss: 0.13144 | train_mse: 0.08078 | train_mae: 0.20145 |  0:01:22s\n"
     ]
    },
    {
     "name": "stdout",
     "output_type": "stream",
     "text": [
      "epoch 214| loss: 0.11137 | train_mse: 0.08011 | train_mae: 0.20301 |  0:01:22s\n"
     ]
    },
    {
     "name": "stdout",
     "output_type": "stream",
     "text": [
      "epoch 215| loss: 0.11171 | train_mse: 0.07378 | train_mae: 0.19473 |  0:01:23s\n"
     ]
    },
    {
     "name": "stdout",
     "output_type": "stream",
     "text": [
      "epoch 216| loss: 0.14264 | train_mse: 0.07049 | train_mae: 0.195   |  0:01:23s\n"
     ]
    },
    {
     "name": "stdout",
     "output_type": "stream",
     "text": [
      "epoch 217| loss: 0.11795 | train_mse: 0.07557 | train_mae: 0.2021  |  0:01:23s\n"
     ]
    },
    {
     "name": "stdout",
     "output_type": "stream",
     "text": [
      "epoch 218| loss: 0.13352 | train_mse: 0.07745 | train_mae: 0.19866 |  0:01:24s\n"
     ]
    },
    {
     "name": "stdout",
     "output_type": "stream",
     "text": [
      "epoch 219| loss: 0.09534 | train_mse: 0.06966 | train_mae: 0.19775 |  0:01:25s\n"
     ]
    },
    {
     "name": "stdout",
     "output_type": "stream",
     "text": [
      "epoch 220| loss: 0.11547 | train_mse: 0.08254 | train_mae: 0.21737 |  0:01:25s\n"
     ]
    },
    {
     "name": "stdout",
     "output_type": "stream",
     "text": [
      "epoch 221| loss: 0.1519  | train_mse: 0.08115 | train_mae: 0.21589 |  0:01:25s\n"
     ]
    },
    {
     "name": "stdout",
     "output_type": "stream",
     "text": [
      "epoch 222| loss: 0.10655 | train_mse: 0.06634 | train_mae: 0.19579 |  0:01:26s\n"
     ]
    },
    {
     "name": "stdout",
     "output_type": "stream",
     "text": [
      "epoch 223| loss: 0.10423 | train_mse: 0.07351 | train_mae: 0.19856 |  0:01:26s\n"
     ]
    },
    {
     "name": "stdout",
     "output_type": "stream",
     "text": [
      "epoch 224| loss: 0.10662 | train_mse: 0.0729  | train_mae: 0.20044 |  0:01:26s\n"
     ]
    },
    {
     "name": "stdout",
     "output_type": "stream",
     "text": [
      "epoch 225| loss: 0.15661 | train_mse: 0.10609 | train_mae: 0.21467 |  0:01:27s\n"
     ]
    },
    {
     "name": "stdout",
     "output_type": "stream",
     "text": [
      "epoch 226| loss: 0.13709 | train_mse: 0.06771 | train_mae: 0.19518 |  0:01:27s\n",
      "\n",
      "Early stopping occurred at epoch 226 with best_epoch = 176 and best_train_mae = 0.18733\n",
      "Best weights from best epoch are automatically used!\n"
     ]
    }
   ],
   "source": [
    "#Train the Model\n",
    "\n",
    "Y_train = np.reshape(Y_train, (-1, 1))\n",
    "Y_test = np.reshape(Y_test, (-1, 1))\n",
    "\n",
    "prior_model = TabNetRegressor(optimizer_fn=torch.optim.Adam, optimizer_params=dict(lr = 0.01),\n",
    "          #scheduler_params={\"step_size\":10, ], \"gamma\":0.9},\n",
    "          #scheduler_fn=torch.optim.lr_scheduler.StepLR\n",
    "          )  #TabNetRegressor()\n",
    "\n",
    "prior_model.fit(X_train,Y_train,eval_set=[(X_train, Y_train)],\n",
    "            eval_name=['train'], \n",
    "            eval_metric=[ 'mse', 'mae'], \n",
    "            max_epochs = n_epochs, \n",
    "            batch_size = batch_size,\n",
    "            patience=50\n",
    "            )"
   ]
  },
  {
   "cell_type": "code",
   "execution_count": 10,
   "id": "af65dcda",
   "metadata": {
    "execution": {
     "iopub.execute_input": "2022-07-22T12:33:58.512178Z",
     "iopub.status.busy": "2022-07-22T12:33:58.510792Z",
     "iopub.status.idle": "2022-07-22T12:33:58.578778Z",
     "shell.execute_reply": "2022-07-22T12:33:58.578008Z"
    },
    "id": "af65dcda",
    "papermill": {
     "duration": 0.106566,
     "end_time": "2022-07-22T12:33:58.581286",
     "exception": false,
     "start_time": "2022-07-22T12:33:58.474720",
     "status": "completed"
    },
    "tags": []
   },
   "outputs": [
    {
     "data": {
      "application/scrapbook.scrap.json+json": {
       "data": 0.14024878211859163,
       "encoder": "json",
       "name": "Prior Model MSE",
       "version": 1
      }
     },
     "metadata": {
      "scrapbook": {
       "data": true,
       "display": false,
       "name": "Prior Model MSE"
      }
     },
     "output_type": "display_data"
    },
    {
     "data": {
      "application/scrapbook.scrap.json+json": {
       "data": 0.9418456580529825,
       "encoder": "json",
       "name": "ABC Pre-generator MSE",
       "version": 1
      }
     },
     "metadata": {
      "scrapbook": {
       "data": true,
       "display": false,
       "name": "ABC Pre-generator MSE"
      }
     },
     "output_type": "display_data"
    },
    {
     "data": {
      "application/scrapbook.scrap.json+json": {
       "data": 0.2772231070361285,
       "encoder": "json",
       "name": "Prior Model MAE",
       "version": 1
      }
     },
     "metadata": {
      "scrapbook": {
       "data": true,
       "display": false,
       "name": "Prior Model MAE"
      }
     },
     "output_type": "display_data"
    },
    {
     "name": "stdout",
     "output_type": "stream",
     "text": [
      "Prior Model MAE 0.2772231070361285\n"
     ]
    },
    {
     "data": {
      "application/scrapbook.scrap.json+json": {
       "data": 0.7705668964725085,
       "encoder": "json",
       "name": "ABC Pre-generator MAE",
       "version": 1
      }
     },
     "metadata": {
      "scrapbook": {
       "data": true,
       "display": false,
       "name": "ABC Pre-generator MAE"
      }
     },
     "output_type": "display_data"
    },
    {
     "name": "stdout",
     "output_type": "stream",
     "text": [
      "ABC Pre-generator MAE 0.7705668964725085\n"
     ]
    }
   ],
   "source": [
    "y_pred = prior_model.predict(X_test)\n",
    "y_abc = y_pred + np.random.normal(0,variance, y_pred.shape) + bias \n",
    "mse = mean_squared_error(y_pred,Y_test)\n",
    "sb.glue(\"Prior Model MSE\",mse)\n",
    "mse = mean_squared_error(y_abc,Y_test)\n",
    "sb.glue(\"ABC Pre-generator MSE\",mse)\n",
    "mae = mean_absolute_error(y_pred,Y_test)\n",
    "sb.glue(\"Prior Model MAE\",mae)\n",
    "print(\"Prior Model MAE\",mae)\n",
    "mae = mean_absolute_error(y_abc,Y_test)\n",
    "sb.glue(\"ABC Pre-generator MAE\",mae)\n",
    "print(\"ABC Pre-generator MAE\",mae)"
   ]
  },
  {
   "cell_type": "markdown",
   "id": "25609da2",
   "metadata": {
    "papermill": {
     "duration": 0.030973,
     "end_time": "2022-07-22T12:33:58.636387",
     "exception": false,
     "start_time": "2022-07-22T12:33:58.605414",
     "status": "completed"
    },
    "tags": []
   },
   "source": [
    "# mGAN Model"
   ]
  },
  {
   "cell_type": "code",
   "execution_count": 11,
   "id": "dfc3464d",
   "metadata": {
    "execution": {
     "iopub.execute_input": "2022-07-22T12:33:58.683401Z",
     "iopub.status.busy": "2022-07-22T12:33:58.683068Z",
     "iopub.status.idle": "2022-07-22T12:33:58.692853Z",
     "shell.execute_reply": "2022-07-22T12:33:58.691092Z"
    },
    "papermill": {
     "duration": 0.038053,
     "end_time": "2022-07-22T12:33:58.696991",
     "exception": false,
     "start_time": "2022-07-22T12:33:58.658938",
     "status": "completed"
    },
    "tags": []
   },
   "outputs": [],
   "source": [
    "gen = network.Generator(n_features+1).to(device)\n",
    "disc = network.Discriminator(n_features+1).to(device)\n",
    "\n",
    "criterion = torch.nn.BCELoss()\n",
    "gen_opt = torch.optim.Adam(gen.parameters(), lr=0.01, betas=(0.5, 0.999))\n",
    "disc_opt = torch.optim.Adam(disc.parameters(), lr=0.01, betas=(0.5, 0.999))"
   ]
  },
  {
   "cell_type": "code",
   "execution_count": 12,
   "id": "b75fdd85",
   "metadata": {
    "execution": {
     "iopub.execute_input": "2022-07-22T12:33:58.744737Z",
     "iopub.status.busy": "2022-07-22T12:33:58.744261Z",
     "iopub.status.idle": "2022-07-22T12:37:51.963108Z",
     "shell.execute_reply": "2022-07-22T12:37:51.962180Z"
    },
    "papermill": {
     "duration": 233.248006,
     "end_time": "2022-07-22T12:37:51.966046",
     "exception": false,
     "start_time": "2022-07-22T12:33:58.718040",
     "status": "completed"
    },
    "tags": []
   },
   "outputs": [
    {
     "data": {
      "image/png": "[encoded data removed]",
      "text/plain": [
       "<Figure size 432x288 with 1 Axes>"
      ]
     },
     "metadata": {
      "needs_background": "light"
     },
     "output_type": "display_data"
    },
    {
     "data": {
      "image/png": "[encoded data removed]",
      "text/plain": [
       "<Figure size 432x288 with 1 Axes>"
      ]
     },
     "metadata": {
      "needs_background": "light"
     },
     "output_type": "display_data"
    }
   ],
   "source": [
    "#Training the ABC_GAN \n",
    "ABC_train_test2.training_GAN(disc,gen,disc_opt,gen_opt,train_data,batch_size,n_epochs,criterion,prior_model,variance,bias,device)"
   ]
  },
  {
   "cell_type": "code",
   "execution_count": 13,
   "id": "1fa7c368",
   "metadata": {
    "execution": {
     "iopub.execute_input": "2022-07-22T12:37:52.057034Z",
     "iopub.status.busy": "2022-07-22T12:37:52.045995Z",
     "iopub.status.idle": "2022-07-22T12:37:55.553062Z",
     "shell.execute_reply": "2022-07-22T12:37:55.539337Z"
    },
    "papermill": {
     "duration": 3.626245,
     "end_time": "2022-07-22T12:37:55.619484",
     "exception": false,
     "start_time": "2022-07-22T12:37:51.993239",
     "status": "completed"
    },
    "tags": []
   },
   "outputs": [
    {
     "data": {
      "application/scrapbook.scrap.json+json": {
       "data": 0.3021535439866418,
       "encoder": "json",
       "name": "ABC-GAN Model 1 MSE",
       "version": 1
      }
     },
     "metadata": {
      "scrapbook": {
       "data": true,
       "display": false,
       "name": "ABC-GAN Model 1 MSE"
      }
     },
     "output_type": "display_data"
    },
    {
     "data": {
      "application/scrapbook.scrap.json+json": {
       "data": 0.29438646208394464,
       "encoder": "json",
       "name": "ABC-GAN Model 1 MAE",
       "version": 1
      }
     },
     "metadata": {
      "scrapbook": {
       "data": true,
       "display": false,
       "name": "ABC-GAN Model 1 MAE"
      }
     },
     "output_type": "display_data"
    },
    {
     "data": {
      "application/scrapbook.scrap.json+json": {
       "data": 30.027419132562354,
       "encoder": "json",
       "name": "ABC-GAN Model 1 Manhattan Distance",
       "version": 1
      }
     },
     "metadata": {
      "scrapbook": {
       "data": true,
       "display": false,
       "name": "ABC-GAN Model 1 Manhattan Distance"
      }
     },
     "output_type": "display_data"
    },
    {
     "data": {
      "application/scrapbook.scrap.json+json": {
       "data": 5.55135448441126,
       "encoder": "json",
       "name": "ABC-GAN Model 1 Euclidean distance",
       "version": 1
      }
     },
     "metadata": {
      "scrapbook": {
       "data": true,
       "display": false,
       "name": "ABC-GAN Model 1 Euclidean distance"
      }
     },
     "output_type": "display_data"
    },
    {
     "data": {
      "application/scrapbook.scrap.json+json": {
       "data": [
        [
         0.2985487910123784,
         0.3048447967760694,
         0.3009478247173522,
         0.3045566887531653,
         0.2995336599769734,
         0.3018053452333467,
         0.3008111822108706,
         0.29780595724337744,
         0.2991875737065567,
         0.3054650678813537,
         0.30133812024382517,
         0.3029652971900421,
         0.2972033643998154,
         0.29717928381584907,
         0.29711852576942976,
         0.29156675125266696,
         0.2997066347598739,
         0.3015518246448414,
         0.28425066440560814,
         0.29752952511335257,
         0.30934400992070527,
         0.3068827604893361,
         0.30348766473734967,
         0.30056788063029566,
         0.30161523716196287,
         0.30152985204996535,
         0.3065815866131329,
         0.297724421546887,
         0.3083368453757478,
         0.3058140373338288,
         0.29349680454917976,
         0.30740641908472927,
         0.3094020894848642,
         0.30354444583059464,
         0.30017143546389435,
         0.29794423092164884,
         0.2954306230889178,
         0.2993952779079622,
         0.30131257171206965,
         0.30344157513330755,
         0.300438680654326,
         0.30430773064795424,
         0.3015243910031121,
         0.29389663749733896,
         0.30933414188357944,
         0.3021564969538557,
         0.30355773050589646,
         0.30722667153005667,
         0.3023782460342942,
         0.3058260488077066,
         0.2981190790778385,
         0.30791329566650266,
         0.29764846355181546,
         0.30400326613057826,
         0.30371040347256884,
         0.3079181298190005,
         0.3138928702220923,
         0.3041639193678022,
         0.3083415969735028,
         0.30151405127034653,
         0.2974193294756587,
         0.30169391542017904,
         0.3024321354505754,
         0.30302013664885163,
         0.303981418307434,
         0.2965186831088167,
         0.3079540301467211,
         0.3029867587290437,
         0.2916480332483904,
         0.29173834209294514,
         0.29490013435232837,
         0.30130120800900523,
         0.30569067828061336,
         0.3040791292713465,
         0.29678991618960887,
         0.2997864578569582,
         0.30407689222522,
         0.30660331265539553,
         0.31253855219210386,
         0.2985658914280928,
         0.30341473314311795,
         0.3001631578130161,
         0.309052958537613,
         0.3083973963529367,
         0.3008839826609457,
         0.30396743628273026,
         0.30542268011264384,
         0.3014351584018604,
         0.30712718570313435,
         0.2951376464654078,
         0.301454194893053,
         0.3076044151775237,
         0.2999064132290243,
         0.3029230879514151,
         0.30674590133650803,
         0.29486662133883834,
         0.3079969629072836,
         0.3017356203202626,
         0.3142567764593263,
         0.30391861527495356
        ],
        [
         0.29106791311984553,
         0.29309044466080036,
         0.2901815034303011,
         0.2966174002846374,
         0.2926930597453725,
         0.2941277164089329,
         0.2933663532101348,
         0.29257063668075145,
         0.29356133355302555,
         0.2919287043897545,
         0.29340813252344433,
         0.295864200904308,
         0.29162444899260415,
         0.29387186855698627,
         0.2950733700292368,
         0.2915914238010551,
         0.2946263900866695,
         0.29646864686818686,
         0.29197246204221655,
         0.2917368291767643,
         0.2991456140891886,
         0.29703317551563185,
         0.29183426135055285,
         0.2944546977934592,
         0.29296982215315687,
         0.29324742101644186,
         0.29255357433987017,
         0.2936186434372383,
         0.2946363779186618,
         0.2970845011227271,
         0.2918882387525895,
         0.29322306347974375,
         0.29705134974609987,
         0.2972678992641615,
         0.29555724897221025,
         0.294126970127371,
         0.29216253450688195,
         0.2939688554764086,
         0.2904370723876591,
         0.29523894758712427,
         0.294470406393064,
         0.2974004878607743,
         0.2974978948705921,
         0.29696934115068585,
         0.2985238092677558,
         0.2955281286153431,
         0.2953704363830826,
         0.2955221392250821,
         0.2950526097351137,
         0.2953780752551906,
         0.2956306274761172,
         0.2944166308232382,
         0.2934295654698622,
         0.29332658166394515,
         0.29024096063393,
         0.2959438559836617,
         0.2962289271949261,
         0.2918667109756201,
         0.29573816804251835,
         0.29466361011944564,
         0.29385091145248976,
         0.29491147809826274,
         0.2943649078883669,
         0.2957571979210365,
         0.29414102100931544,
         0.294149285036267,
         0.29745830798192935,
         0.2942401565903542,
         0.29183311818861496,
         0.2907736659342167,
         0.29067851736338113,
         0.29355040389825315,
         0.2948390743421281,
         0.2909257768233325,
         0.29288908435652655,
         0.29703604607094153,
         0.29283954290782704,
         0.29780171070174843,
         0.2992856077046371,
         0.2929105775284709,
         0.29575074190164313,
         0.29737217318924036,
         0.2978050307023759,
         0.2975737432967506,
         0.29394128524205265,
         0.2947708947364898,
         0.2959414594898037,
         0.29221302754811795,
         0.29581276731857775,
         0.2944527527901764,
         0.2929602080919579,
         0.29660616935614276,
         0.29163534013444886,
         0.29281924162790474,
         0.29282524495148193,
         0.29253536533089536,
         0.2933689219986691,
         0.2939933886495875,
         0.2997524726259358,
         0.2961375129719575
        ],
        [
         29.688927138224244,
         29.895225355401635,
         29.59851334989071,
         30.254974829033017,
         29.854692094027996,
         30.001027073711157,
         29.923368027433753,
         29.84220494143665,
         29.943256022408605,
         29.776727847754955,
         29.927629517391324,
         30.178148492239416,
         29.74569379724562,
         29.974930592812598,
         30.09748374298215,
         29.742325227707624,
         30.051891788840294,
         30.239801980555058,
         29.78119112830609,
         29.757156576029956,
         30.51285263709724,
         30.297383902594447,
         29.767094657756388,
         30.034379174932837,
         29.882921859622,
         29.911236943677068,
         29.840464582666755,
         29.949101630598307,
         30.052910547703505,
         30.302619114518166,
         29.77260035276413,
         29.908752474933863,
         30.299237674102187,
         30.321325724944472,
         30.146839395165443,
         30.000950952991843,
         29.800578519701958,
         29.98482325859368,
         29.624581383541226,
         30.114372653886676,
         30.03598145209253,
         30.334849761798978,
         30.344785276800394,
         30.290872797369957,
         30.449428545311093,
         30.143869118764997,
         30.127784511074424,
         30.14325820095837,
         30.0953661929816,
         30.128563676029444,
         30.154324002563953,
         30.0304963439703,
         29.929815677925944,
         29.919311329722404,
         29.604577984660864,
         30.18627331033349,
         30.21535057388246,
         29.77040451951325,
         30.16529314033687,
         30.055688232183456,
         29.972792968153954,
         30.0809707660228,
         30.025220604613423,
         30.167234187945724,
         30.002384142950177,
         30.003227073699236,
         30.340747414156795,
         30.01249597221613,
         29.766978055238724,
         29.658913925290108,
         29.649208771064878,
         29.942141197621822,
         30.073585582897067,
         29.674429235979915,
         29.874686604365706,
         30.297676699236035,
         29.869633376598358,
         30.37577449157834,
         30.527131985872984,
         29.87687890790403,
         30.1665756739676,
         30.331961665302515,
         30.37611313164234,
         30.352521816268563,
         29.98201109468937,
         30.066631263121963,
         30.186028867959976,
         29.805728809908032,
         30.17290226649493,
         30.034180784597993,
         29.881941225379705,
         30.253829274326563,
         29.746804693713784,
         29.86756264604628,
         29.868174985051155,
         29.838607263751328,
         29.92363004386425,
         29.98732564225793,
         30.57475220784545,
         30.206026323139668
        ],
        [
         5.5183309689853335,
         5.576214600529563,
         5.540458295228827,
         5.573578944701766,
         5.527425559666208,
         5.548346169247314,
         5.53920035614427,
         5.511461479392241,
         5.524231396137274,
         5.581884710731499,
         5.5440498072140505,
         5.558998139357874,
         5.505882596712462,
         5.505659538076851,
         5.505096695652297,
         5.453421735733633,
         5.529021318959363,
         5.546015336597423,
         5.384567556394109,
         5.5089029362988375,
         5.617213634170588,
         5.594822746961004,
         5.563788439832131,
         5.536959799771906,
         5.546598434222565,
         5.545813277518138,
         5.5920767014177795,
         5.510706941743725,
         5.608061895907201,
         5.585072229438984,
         5.471441680582581,
         5.599594159101388,
         5.617740927406332,
         5.56430889461761,
         5.533307005518239,
         5.512740838639902,
         5.489437453425407,
         5.526148599758438,
         5.543814779971559,
         5.5633659473018096,
         5.5357696327377335,
         5.5713004340181955,
         5.545763056813502,
         5.475167305638117,
         5.61712403923263,
         5.551572992341295,
         5.564430654757182,
         5.597956814415933,
         5.553609735613226,
         5.585181910948475,
         5.514358173526592,
         5.6042087896493715,
         5.5100039276106845,
         5.5685126510872704,
         5.565829781281675,
         5.604252781730856,
         5.658363081550476,
         5.569983821836094,
         5.608105107012285,
         5.545667969647601,
         5.5078826790807,
         5.547321819838675,
         5.554104591737419,
         5.559501231062267,
         5.5683125511557146,
         5.499536860236441,
         5.6045794735167735,
         5.5591950307902005,
         5.454181826024488,
         5.455026204655701,
         5.4845066964985545,
         5.543710239263821,
         5.5839456645478345,
         5.569207410904836,
         5.502051567491902,
         5.529757562625122,
         5.569186925124029,
         5.59227484042499,
         5.646143137009068,
         5.518489007478901,
         5.563119878323496,
         5.533230710618132,
         5.6145704885446515,
         5.608612522540628,
         5.539870596991996,
         5.568184488757398,
         5.581497413014689,
         5.544942394379743,
         5.5970503787012404,
         5.486714858589939,
         5.545117481090135,
         5.601397178214326,
         5.530863779678585,
         5.5586108850183376,
         5.593575058611783,
         5.4841950527458,
         5.604970135205265,
         5.5477052258268715,
         5.66164209384974,
         5.5677373104381696
        ]
       ],
       "encoder": "json",
       "name": "ABC_GAN_1 Metrics",
       "version": 1
      }
     },
     "metadata": {
      "scrapbook": {
       "data": true,
       "display": false,
       "name": "ABC_GAN_1 Metrics"
      }
     },
     "output_type": "display_data"
    },
    {
     "name": "stdout",
     "output_type": "stream",
     "text": [
      "MAE\n",
      "0.29438646208394464\n"
     ]
    }
   ],
   "source": [
    "ABC_GAN1_metrics=ABC_train_test2.test_generator(gen,test_data,prior_model,variance,bias,\"1\",device)\n",
    "sb.glue(\"ABC_GAN_1 Metrics\",ABC_GAN1_metrics)\n",
    "\n",
    "print(\"MAE\")\n",
    "print(mean(ABC_GAN1_metrics[1]))"
   ]
  },
  {
   "cell_type": "code",
   "execution_count": 14,
   "id": "eb22ce5c",
   "metadata": {
    "execution": {
     "iopub.execute_input": "2022-07-22T12:37:55.739247Z",
     "iopub.status.busy": "2022-07-22T12:37:55.738183Z",
     "iopub.status.idle": "2022-07-22T12:37:56.864110Z",
     "shell.execute_reply": "2022-07-22T12:37:56.852466Z"
    },
    "papermill": {
     "duration": 1.206853,
     "end_time": "2022-07-22T12:37:56.867082",
     "exception": false,
     "start_time": "2022-07-22T12:37:55.660229",
     "status": "completed"
    },
    "tags": []
   },
   "outputs": [
    {
     "data": {
      "image/png": "[encoded data removed]",
      "text/plain": [
       "<Figure size 432x288 with 1 Axes>"
      ]
     },
     "metadata": {
      "needs_background": "light"
     },
     "output_type": "display_data"
    },
    {
     "data": {
      "image/png": "[encoded data removed]",
      "text/plain": [
       "<Figure size 432x288 with 1 Axes>"
      ]
     },
     "metadata": {
      "needs_background": "light"
     },
     "output_type": "display_data"
    },
    {
     "data": {
      "image/png": "[encoded data removed]",
      "text/plain": [
       "<Figure size 432x288 with 1 Axes>"
      ]
     },
     "metadata": {
      "needs_background": "light"
     },
     "output_type": "display_data"
    },
    {
     "data": {
      "image/png": "[encoded data removed]",
      "text/plain": [
       "<Figure size 432x288 with 1 Axes>"
      ]
     },
     "metadata": {
      "needs_background": "light"
     },
     "output_type": "display_data"
    }
   ],
   "source": [
    "sanityChecks.discProbVsError(train_data,disc,device)\n",
    "sanityChecks.discProbVsError(test_data,disc,device)"
   ]
  },
  {
   "cell_type": "markdown",
   "id": "605dcc14",
   "metadata": {
    "papermill": {
     "duration": 0.027074,
     "end_time": "2022-07-22T12:37:56.921550",
     "exception": false,
     "start_time": "2022-07-22T12:37:56.894476",
     "status": "completed"
    },
    "tags": []
   },
   "source": [
    "# mGAN Model with TabNet Generator"
   ]
  },
  {
   "cell_type": "code",
   "execution_count": 15,
   "id": "4dfad648",
   "metadata": {
    "execution": {
     "iopub.execute_input": "2022-07-22T12:37:57.007777Z",
     "iopub.status.busy": "2022-07-22T12:37:57.006922Z",
     "iopub.status.idle": "2022-07-22T12:37:57.022930Z",
     "shell.execute_reply": "2022-07-22T12:37:57.022055Z"
    },
    "papermill": {
     "duration": 0.053262,
     "end_time": "2022-07-22T12:37:57.025658",
     "exception": false,
     "start_time": "2022-07-22T12:37:56.972396",
     "status": "completed"
    },
    "tags": []
   },
   "outputs": [],
   "source": [
    "gen2 = network.GeneratorTabnet(n_features+1).to(device)\n",
    "disc2 = network.Discriminator(n_features+1).to(device)\n",
    "\n",
    "criterion = torch.nn.BCELoss()\n",
    "gen_opt = torch.optim.Adam(gen2.parameters(), lr=0.01, betas=(0.5, 0.999))\n",
    "disc_opt = torch.optim.Adam(disc2.parameters(), lr=0.01, betas=(0.5, 0.999))"
   ]
  },
  {
   "cell_type": "code",
   "execution_count": 16,
   "id": "7f15ce62",
   "metadata": {
    "execution": {
     "iopub.execute_input": "2022-07-22T12:37:57.105577Z",
     "iopub.status.busy": "2022-07-22T12:37:57.104494Z",
     "iopub.status.idle": "2022-07-22T12:48:39.266691Z",
     "shell.execute_reply": "2022-07-22T12:48:39.265723Z"
    },
    "papermill": {
     "duration": 642.216278,
     "end_time": "2022-07-22T12:48:39.269088",
     "exception": false,
     "start_time": "2022-07-22T12:37:57.052810",
     "status": "completed"
    },
    "tags": []
   },
   "outputs": [
    {
     "data": {
      "image/png": "[encoded data removed]",
      "text/plain": [
       "<Figure size 432x288 with 1 Axes>"
      ]
     },
     "metadata": {
      "needs_background": "light"
     },
     "output_type": "display_data"
    },
    {
     "data": {
      "image/png": "[encoded data removed]",
      "text/plain": [
       "<Figure size 432x288 with 1 Axes>"
      ]
     },
     "metadata": {
      "needs_background": "light"
     },
     "output_type": "display_data"
    }
   ],
   "source": [
    "#Training the ABC_GAN \n",
    "ABC_train_test2.training_GAN(disc2,gen2,disc_opt,gen_opt,train_data,batch_size,n_epochs,criterion,prior_model,variance,bias,device)"
   ]
  },
  {
   "cell_type": "code",
   "execution_count": 17,
   "id": "c2061f4a",
   "metadata": {
    "execution": {
     "iopub.execute_input": "2022-07-22T12:48:39.332608Z",
     "iopub.status.busy": "2022-07-22T12:48:39.332009Z",
     "iopub.status.idle": "2022-07-22T12:48:42.488700Z",
     "shell.execute_reply": "2022-07-22T12:48:42.487976Z"
    },
    "papermill": {
     "duration": 3.194371,
     "end_time": "2022-07-22T12:48:42.491185",
     "exception": false,
     "start_time": "2022-07-22T12:48:39.296814",
     "status": "completed"
    },
    "tags": []
   },
   "outputs": [
    {
     "data": {
      "application/scrapbook.scrap.json+json": {
       "data": 0.268285837706833,
       "encoder": "json",
       "name": "ABC-GAN Model 1 MSE",
       "version": 1
      }
     },
     "metadata": {
      "scrapbook": {
       "data": true,
       "display": false,
       "name": "ABC-GAN Model 1 MSE"
      }
     },
     "output_type": "display_data"
    },
    {
     "data": {
      "application/scrapbook.scrap.json+json": {
       "data": 0.2891144171332959,
       "encoder": "json",
       "name": "ABC-GAN Model 1 MAE",
       "version": 1
      }
     },
     "metadata": {
      "scrapbook": {
       "data": true,
       "display": false,
       "name": "ABC-GAN Model 1 MAE"
      }
     },
     "output_type": "display_data"
    },
    {
     "data": {
      "application/scrapbook.scrap.json+json": {
       "data": 29.48967054759618,
       "encoder": "json",
       "name": "ABC-GAN Model 1 Manhattan Distance",
       "version": 1
      }
     },
     "metadata": {
      "scrapbook": {
       "data": true,
       "display": false,
       "name": "ABC-GAN Model 1 Manhattan Distance"
      }
     },
     "output_type": "display_data"
    },
    {
     "data": {
      "application/scrapbook.scrap.json+json": {
       "data": 5.231162827467729,
       "encoder": "json",
       "name": "ABC-GAN Model 1 Euclidean distance",
       "version": 1
      }
     },
     "metadata": {
      "scrapbook": {
       "data": true,
       "display": false,
       "name": "ABC-GAN Model 1 Euclidean distance"
      }
     },
     "output_type": "display_data"
    },
    {
     "data": {
      "application/scrapbook.scrap.json+json": {
       "data": [
        [
         0.2686309314421871,
         0.26903054760002515,
         0.2681444401175932,
         0.267651820900273,
         0.269119373644731,
         0.2678495725983277,
         0.2665501913075921,
         0.2674391600052282,
         0.2690051907329291,
         0.26856211738767394,
         0.26818578744156674,
         0.2681018303169732,
         0.2677733963067204,
         0.2700845009732052,
         0.2682845104659413,
         0.2689771632596396,
         0.26841025556847753,
         0.267608954750241,
         0.26649015882739213,
         0.26685247662919903,
         0.2692556084298946,
         0.26782095269951867,
         0.26753120780774275,
         0.26881000778909747,
         0.2683580636008623,
         0.2662770467891866,
         0.26812504341411353,
         0.26865035965084494,
         0.2682939329222375,
         0.2663907366422786,
         0.268827817086301,
         0.2686191259171428,
         0.26950983924251465,
         0.2671361819958213,
         0.26743856138293076,
         0.2693204005120401,
         0.2675804234348096,
         0.2664108702437103,
         0.26779033648456074,
         0.2687942907248452,
         0.2699005009070968,
         0.269253865899162,
         0.2686778045190228,
         0.269154287068497,
         0.2682201484237201,
         0.2686782758242467,
         0.26684420223820743,
         0.2685331811753372,
         0.2682171946916622,
         0.26742538155502066,
         0.2666310091923053,
         0.26967068761553176,
         0.2679656006599351,
         0.26935445057625645,
         0.26858159403614346,
         0.26921989617890546,
         0.2681954618866662,
         0.267759318609298,
         0.269135481170834,
         0.26771268187811337,
         0.2696501745812965,
         0.2682284776139101,
         0.26745422183982115,
         0.26932703131963887,
         0.268201677339993,
         0.2684254601821633,
         0.2687033908388605,
         0.26709717085982476,
         0.27022904658770186,
         0.2658968019795575,
         0.2697374616203095,
         0.2692058350148261,
         0.2680374591060509,
         0.266877654225479,
         0.2678742496997211,
         0.2681840467913844,
         0.2670265197038684,
         0.2679797466350324,
         0.26817007113426555,
         0.26674609367769225,
         0.2683494318538421,
         0.2698572072825372,
         0.26754041577559284,
         0.2676833644056806,
         0.268712386948102,
         0.2673477565275181,
         0.26907611286408006,
         0.26969731717726225,
         0.26781290695279353,
         0.26794983574569103,
         0.26871706120776695,
         0.2680183250830561,
         0.26802929325646013,
         0.27029714587428283,
         0.27044135743086095,
         0.2681565538620672,
         0.2689926124190482,
         0.2672438692140916,
         0.2691703185024615,
         0.2696136963963763
        ],
        [
         0.28910063306673195,
         0.28911816145695163,
         0.28774588580663296,
         0.2885194690624142,
         0.28996337256303023,
         0.2893434645763288,
         0.28790146468535943,
         0.28835000488085344,
         0.2890368494314744,
         0.28974811099560965,
         0.28936408998846425,
         0.2888252401961854,
         0.2884894540378203,
         0.29029854331804694,
         0.28956348259988074,
         0.29001619089303504,
         0.2890749134159848,
         0.2886721058155173,
         0.2871520280810621,
         0.28812953682305914,
         0.28956577062205063,
         0.28835143127442137,
         0.28873974356033344,
         0.2901487804392316,
         0.2893214062696286,
         0.288583433415339,
         0.28836878500513585,
         0.2900358825081996,
         0.28853464168131204,
         0.28810222404461133,
         0.28898053438694893,
         0.2897476500183271,
         0.2896476498823248,
         0.2885935529427347,
         0.28901614689761224,
         0.289683334397006,
         0.28909763234996183,
         0.2878000317095761,
         0.28852977178187345,
         0.28850616830601994,
         0.28967142137516216,
         0.2893409682529084,
         0.28917364076272967,
         0.29040601046975045,
         0.28946384698536026,
         0.2894252859165563,
         0.2882309180465253,
         0.2886273062961432,
         0.2891758018374151,
         0.28827107240281563,
         0.28771731045151894,
         0.28935764040158807,
         0.28948689656167786,
         0.28984381053048897,
         0.28902376061488017,
         0.2906553100009321,
         0.2895253371109492,
         0.2873564364443369,
         0.28961605355874,
         0.2890552668010487,
         0.291202107599626,
         0.2895562511037889,
         0.288844147427738,
         0.2892961299421229,
         0.28846522090573085,
         0.28924998544229596,
         0.28974309382394103,
         0.28829095324994447,
         0.2907673373736222,
         0.28714659357644323,
         0.29010568217684823,
         0.28976577208560034,
         0.28852388119398087,
         0.2882866651075436,
         0.2890658275607754,
         0.2881407579589708,
         0.2879560896807222,
         0.2891414584957209,
         0.2893247226910556,
         0.2880310915894441,
         0.2895412283730419,
         0.2908399911761722,
         0.28899169757085685,
         0.289538611338346,
         0.2894762895736551,
         0.289495533396143,
         0.2901027733870946,
         0.29062402313209923,
         0.2886368942255264,
         0.2887856541977574,
         0.2893077751448122,
         0.28920493027487515,
         0.2881199434700915,
         0.2905951352771737,
         0.2906004272529161,
         0.2882449593184991,
         0.2900192363726377,
         0.2876703539936274,
         0.2893589597615395,
         0.29019185909818784
        ],
        [
         29.488264572806656,
         29.490052468609065,
         29.350080352276564,
         29.428985844366252,
         29.57626400142908,
         29.513033386785537,
         29.36594939790666,
         29.41170049784705,
         29.48175864201039,
         29.554307321552187,
         29.515137178823352,
         29.460174500010908,
         29.42592431185767,
         29.61045141844079,
         29.535475225187838,
         29.58165147108957,
         29.485641168430448,
         29.44455479318276,
         29.289506864268333,
         29.38921275595203,
         29.535708603449166,
         29.41184598999098,
         29.451453843154013,
         29.595175604801625,
         29.51078343950212,
         29.435510208364576,
         29.413616070523858,
         29.583660015836358,
         29.43053345149383,
         29.386426852550358,
         29.47601450746879,
         29.554260301869363,
         29.544060287997127,
         29.43654240015894,
         29.47964698355645,
         29.54770010849461,
         29.487958499696106,
         29.35560323437676,
         29.430036721751094,
         29.427629167214036,
         29.54648498026654,
         29.512778761796653,
         29.495711357798427,
         29.621413067914546,
         29.52531239250675,
         29.521379163488746,
         29.39955364074558,
         29.439985242206603,
         29.49593178741634,
         29.403649385087192,
         29.347165666054934,
         29.514479320961982,
         29.52766344929114,
         29.564068674109876,
         29.480423582717776,
         29.646841620095074,
         29.53158438531682,
         29.31035651732236,
         29.540837462991476,
         29.48363721370697,
         29.70261497516185,
         29.53473761258647,
         29.462103037629277,
         29.508205254096538,
         29.423452532384545,
         29.503498515114188,
         29.553795570041984,
         29.405677231494337,
         29.658268412109464,
         29.288952544797212,
         29.59077958203852,
         29.556108752731234,
         29.42943588178605,
         29.405239840969443,
         29.484714411199093,
         29.390357311815023,
         29.37152114743367,
         29.492428766563535,
         29.511121714487672,
         29.3791713421233,
         29.533205294050276,
         29.665679099969566,
         29.4771531522274,
         29.532938356511295,
         29.526581536512822,
         29.52854440640658,
         29.590482885483652,
         29.643650359474123,
         29.44096321100369,
         29.45613672817126,
         29.509393064770848,
         29.498902888037264,
         29.388234233949333,
         29.640703798271716,
         29.641243579797447,
         29.400985850486904,
         29.581962110009044,
         29.342376107349992,
         29.51461389567703,
         29.59956962801516
        ],
        [
         5.234534841521554,
         5.238426849274748,
         5.22979281539857,
         5.224986672885191,
         5.2392915658285855,
         5.226916529372687,
         5.214222810100695,
         5.222910521972713,
         5.238179975407371,
         5.23386434420522,
         5.230196011531479,
         5.229377275769196,
         5.226173210226149,
         5.2486778429683545,
         5.231158577937206,
         5.23790708704185,
         5.232384357822417,
         5.224568248623475,
         5.21363560295443,
         5.2171786068888135,
         5.240617526575399,
         5.226637272219194,
         5.223809261103408,
         5.236279289198385,
         5.231875618484058,
         5.211550515201501,
         5.229603658810061,
         5.2347241268653475,
         5.231250439241867,
         5.212662960283583,
         5.236452744253756,
         5.234419819191862,
         5.2430910351372395,
         5.21995120317937,
         5.2229046766199865,
         5.241248024299946,
         5.224289730705081,
         5.212859941036057,
         5.226338519597175,
         5.236126206837858,
         5.246889658885907,
         5.240600568800728,
         5.234991505336023,
         5.239631406977659,
         5.230531057093482,
         5.234996096853671,
         5.217097720792392,
         5.2335823753796396,
         5.230502256815261,
         5.222775978214278,
         5.215013225066178,
         5.244655387800446,
         5.228048514246341,
         5.241579338212688,
         5.234054125788788,
         5.240269974939112,
         5.23029034685838,
         5.226035830163088,
         5.239448356404046,
         5.225580690369977,
         5.244455911464242,
         5.230612269765256,
         5.223057593753084,
         5.241312545021824,
         5.230350952725762,
         5.232532554947045,
         5.235240764813378,
         5.219570042417489,
         5.250082166208982,
         5.2078281271480975,
         5.245304670395378,
         5.240133125361631,
         5.228749451715695,
         5.217424722120948,
         5.2271573029105936,
         5.2301790383046365,
         5.218879669986134,
         5.22818650745871,
         5.230042758495869,
         5.216138567477344,
         5.23179147607126,
         5.246468826059943,
         5.223899157632205,
         5.225294553360548,
         5.2353284012281796,
         5.2220179208622834,
         5.238870442388908,
         5.244914332196547,
         5.226558763582874,
         5.227894724079711,
         5.235373935373883,
         5.228562819596962,
         5.228669803320815,
         5.250743650110605,
         5.252144177185906,
         5.22991094512429,
         5.2380575089190184,
         5.221003223503825,
         5.239787446762612,
         5.244101165350491
        ]
       ],
       "encoder": "json",
       "name": "ABC_GAN_2 Metrics",
       "version": 1
      }
     },
     "metadata": {
      "scrapbook": {
       "data": true,
       "display": false,
       "name": "ABC_GAN_2 Metrics"
      }
     },
     "output_type": "display_data"
    },
    {
     "name": "stdout",
     "output_type": "stream",
     "text": [
      "MAE\n",
      "0.2891144171332959\n"
     ]
    }
   ],
   "source": [
    "ABC_GAN2_metrics=ABC_train_test2.test_generator(gen2,test_data,prior_model,variance,bias,\"1\",device)\n",
    "sb.glue(\"ABC_GAN_2 Metrics\",ABC_GAN2_metrics)\n",
    "\n",
    "print(\"MAE\")\n",
    "print(mean(ABC_GAN2_metrics[1]))"
   ]
  },
  {
   "cell_type": "code",
   "execution_count": 18,
   "id": "24b17391",
   "metadata": {
    "execution": {
     "iopub.execute_input": "2022-07-22T12:48:42.563354Z",
     "iopub.status.busy": "2022-07-22T12:48:42.562865Z",
     "iopub.status.idle": "2022-07-22T12:48:43.458499Z",
     "shell.execute_reply": "2022-07-22T12:48:43.457737Z"
    },
    "papermill": {
     "duration": 0.941821,
     "end_time": "2022-07-22T12:48:43.461151",
     "exception": false,
     "start_time": "2022-07-22T12:48:42.519330",
     "status": "completed"
    },
    "tags": []
   },
   "outputs": [
    {
     "data": {
      "image/png": "[encoded data removed]",
      "text/plain": [
       "<Figure size 432x288 with 1 Axes>"
      ]
     },
     "metadata": {
      "needs_background": "light"
     },
     "output_type": "display_data"
    },
    {
     "data": {
      "image/png": "[encoded data removed]",
      "text/plain": [
       "<Figure size 432x288 with 1 Axes>"
      ]
     },
     "metadata": {
      "needs_background": "light"
     },
     "output_type": "display_data"
    },
    {
     "data": {
      "image/png": "[encoded data removed]",
      "text/plain": [
       "<Figure size 432x288 with 1 Axes>"
      ]
     },
     "metadata": {
      "needs_background": "light"
     },
     "output_type": "display_data"
    },
    {
     "data": {
      "image/png": "[encoded data removed]",
      "text/plain": [
       "<Figure size 432x288 with 1 Axes>"
      ]
     },
     "metadata": {
      "needs_background": "light"
     },
     "output_type": "display_data"
    }
   ],
   "source": [
    "sanityChecks.discProbVsError(train_data,disc2,device)\n",
    "sanityChecks.discProbVsError(test_data,disc2,device)"
   ]
  },
  {
   "cell_type": "markdown",
   "id": "130f3a4d",
   "metadata": {
    "id": "130f3a4d",
    "papermill": {
     "duration": 0.040717,
     "end_time": "2022-07-22T12:48:43.532751",
     "exception": false,
     "start_time": "2022-07-22T12:48:43.492034",
     "status": "completed"
    },
    "tags": []
   },
   "source": [
    "# skipGAN Model"
   ]
  },
  {
   "cell_type": "code",
   "execution_count": 19,
   "id": "4e43dad1",
   "metadata": {
    "execution": {
     "iopub.execute_input": "2022-07-22T12:48:43.587904Z",
     "iopub.status.busy": "2022-07-22T12:48:43.587648Z",
     "iopub.status.idle": "2022-07-22T12:48:43.594447Z",
     "shell.execute_reply": "2022-07-22T12:48:43.593667Z"
    },
    "id": "4e43dad1",
    "papermill": {
     "duration": 0.035376,
     "end_time": "2022-07-22T12:48:43.596827",
     "exception": false,
     "start_time": "2022-07-22T12:48:43.561451",
     "status": "completed"
    },
    "tags": []
   },
   "outputs": [],
   "source": [
    "#Generator\n",
    "gen3 = network.GeneratorWithSkipConnection(n_features+1).to(device)\n",
    "constraints=network.weightConstraint()\n",
    "#Discriminator \n",
    "disc3 = network.Discriminator(n_features+1).to(device)\n",
    "\n",
    "criterion = torch.nn.BCELoss()\n",
    "gen_opt = torch.optim.Adam(gen3.parameters(), lr=0.01, betas=(0.5, 0.999))\n",
    "disc_opt = torch.optim.Adam(disc3.parameters(), lr=0.01, betas=(0.5, 0.999))\n"
   ]
  },
  {
   "cell_type": "code",
   "execution_count": 20,
   "id": "26acbc37",
   "metadata": {
    "execution": {
     "iopub.execute_input": "2022-07-22T12:48:43.654153Z",
     "iopub.status.busy": "2022-07-22T12:48:43.653868Z",
     "iopub.status.idle": "2022-07-22T12:53:41.528352Z",
     "shell.execute_reply": "2022-07-22T12:53:41.527460Z"
    },
    "id": "26acbc37",
    "papermill": {
     "duration": 297.907878,
     "end_time": "2022-07-22T12:53:41.530541",
     "exception": false,
     "start_time": "2022-07-22T12:48:43.622663",
     "status": "completed"
    },
    "tags": []
   },
   "outputs": [
    {
     "data": {
      "image/png": "[encoded data removed]",
      "text/plain": [
       "<Figure size 432x288 with 1 Axes>"
      ]
     },
     "metadata": {
      "needs_background": "light"
     },
     "output_type": "display_data"
    },
    {
     "data": {
      "image/png": "[encoded data removed]",
      "text/plain": [
       "<Figure size 432x288 with 1 Axes>"
      ]
     },
     "metadata": {
      "needs_background": "light"
     },
     "output_type": "display_data"
    }
   ],
   "source": [
    "ABC_train_test2.training_GAN_skip_connection(disc3,gen3,disc_opt,gen_opt,train_data,batch_size,n_epochs,criterion,prior_model,variance,bias,device)"
   ]
  },
  {
   "cell_type": "code",
   "execution_count": 21,
   "id": "c5e0717b",
   "metadata": {
    "execution": {
     "iopub.execute_input": "2022-07-22T12:53:41.596553Z",
     "iopub.status.busy": "2022-07-22T12:53:41.596258Z",
     "iopub.status.idle": "2022-07-22T12:53:44.607756Z",
     "shell.execute_reply": "2022-07-22T12:53:44.606996Z"
    },
    "id": "c5e0717b",
    "papermill": {
     "duration": 3.049742,
     "end_time": "2022-07-22T12:53:44.610143",
     "exception": false,
     "start_time": "2022-07-22T12:53:41.560401",
     "status": "completed"
    },
    "tags": []
   },
   "outputs": [
    {
     "data": {
      "application/scrapbook.scrap.json+json": {
       "data": 0.19073653904465665,
       "encoder": "json",
       "name": "ABC-GAN Model 3 MSE",
       "version": 1
      }
     },
     "metadata": {
      "scrapbook": {
       "data": true,
       "display": false,
       "name": "ABC-GAN Model 3 MSE"
      }
     },
     "output_type": "display_data"
    },
    {
     "data": {
      "application/scrapbook.scrap.json+json": {
       "data": 0.2719858278035113,
       "encoder": "json",
       "name": "ABC-GAN Model 3 MAE",
       "version": 1
      }
     },
     "metadata": {
      "scrapbook": {
       "data": true,
       "display": false,
       "name": "ABC-GAN Model 3 MAE"
      }
     },
     "output_type": "display_data"
    },
    {
     "data": {
      "application/scrapbook.scrap.json+json": {
       "data": 27.742554435958155,
       "encoder": "json",
       "name": "ABC-GAN Model 3 Manhattan Distance",
       "version": 1
      }
     },
     "metadata": {
      "scrapbook": {
       "data": true,
       "display": false,
       "name": "ABC-GAN Model 3 Manhattan Distance"
      }
     },
     "output_type": "display_data"
    },
    {
     "data": {
      "application/scrapbook.scrap.json+json": {
       "data": 4.410621092511934,
       "encoder": "json",
       "name": "ABC-GAN Model 3 Euclidean distance",
       "version": 1
      }
     },
     "metadata": {
      "scrapbook": {
       "data": true,
       "display": false,
       "name": "ABC-GAN Model 3 Euclidean distance"
      }
     },
     "output_type": "display_data"
    },
    {
     "data": {
      "application/scrapbook.scrap.json+json": {
       "data": [
        [
         0.19084554602060982,
         0.19092921402241722,
         0.189489872616142,
         0.19075961286233423,
         0.1907583641181831,
         0.1894871162687233,
         0.19222122360022398,
         0.1939428054702263,
         0.1882942420639118,
         0.19268275256719955,
         0.19145191366934344,
         0.19145514686816717,
         0.19175049205932623,
         0.19339790270079132,
         0.18944898455400186,
         0.19166002249741482,
         0.188749988806261,
         0.1840704364141903,
         0.18502984560236607,
         0.1965084915684074,
         0.19143742455469762,
         0.19020830733314503,
         0.1826573980558322,
         0.18943514180010304,
         0.1899661083428766,
         0.19257435379820798,
         0.1899264636984676,
         0.18708493924042935,
         0.18941331821647295,
         0.1925801827539321,
         0.19899316104087156,
         0.18791965996941237,
         0.19487273592038362,
         0.19344657380702204,
         0.19314336744512212,
         0.19116529310211164,
         0.19101779058639748,
         0.18776034193113444,
         0.18531077064236876,
         0.194442885206254,
         0.18838287357040728,
         0.19001688538489558,
         0.18713365039394245,
         0.19001528490174585,
         0.19565348199466093,
         0.18922476345555045,
         0.19661160850874843,
         0.19072267263155554,
         0.18886385326569247,
         0.19315276435937298,
         0.19399339427873252,
         0.1933866585709165,
         0.1919080757456689,
         0.1862051118069179,
         0.1924188724275969,
         0.188105334155702,
         0.19237212155087563,
         0.18924532019784507,
         0.18473926755111153,
         0.19246853953108065,
         0.1928766087982444,
         0.18345396864575136,
         0.182839934373747,
         0.19194030732838196,
         0.1901809308277399,
         0.1975146702360101,
         0.19254540259117192,
         0.18769800315719862,
         0.1942251626861058,
         0.18740301584989916,
         0.19085172882471155,
         0.18820563756206604,
         0.18805128146906405,
         0.18909382083109325,
         0.1841570045508169,
         0.19325134157555943,
         0.19244733029264546,
         0.1946129019079354,
         0.18845706074517743,
         0.1903577653353009,
         0.19089499209389882,
         0.18480042447441475,
         0.18846169879490934,
         0.19455189393728975,
         0.19068196789756522,
         0.19046527224514886,
         0.19182048735035193,
         0.18706834480865633,
         0.19779866408687177,
         0.18888140307853746,
         0.19416014145979268,
         0.18785533750263558,
         0.19743356459459502,
         0.19788044483645068,
         0.19364506956625982,
         0.19055017027747415,
         0.19183123065106975,
         0.1929177268725043,
         0.18676160398539815,
         0.19411886228471723
        ],
        [
         0.2714558105148813,
         0.27186342222871734,
         0.26896607814648865,
         0.27492036846667234,
         0.26803857099045725,
         0.2712198444733433,
         0.27307146926428755,
         0.27626729895379026,
         0.272602057230531,
         0.27325215553134385,
         0.2727769584048028,
         0.2741608517518377,
         0.27517793161392795,
         0.27554440509308786,
         0.2712862977264997,
         0.27242615006352755,
         0.2705446699104619,
         0.26278947560372307,
         0.268635629968462,
         0.27118014233807725,
         0.2670609462348854,
         0.2717978135664381,
         0.26712543331086636,
         0.2750743316742135,
         0.27062894517154085,
         0.2714414111174205,
         0.2718403377917175,
         0.2691904024275787,
         0.27054168616293695,
         0.27318421763587086,
         0.28002065403715654,
         0.2667454625297265,
         0.2744599836787172,
         0.2742073821524779,
         0.2743746305943704,
         0.27116771056955935,
         0.27137130042355434,
         0.2709619932734937,
         0.2681997084497091,
         0.2741836672922706,
         0.27061185410574956,
         0.27223350593418466,
         0.26827693750680076,
         0.2717796268087684,
         0.2763612998247731,
         0.27026284864975836,
         0.27785053416429195,
         0.27453403912630736,
         0.27124092948860395,
         0.27503633667148797,
         0.2748929190029408,
         0.2723177291964199,
         0.2736663484544146,
         0.2708482737926876,
         0.27331574524150176,
         0.26872327014365616,
         0.273122273285088,
         0.26929844137938586,
         0.26956186823400796,
         0.26836053800641324,
         0.2746235489772231,
         0.2711896563003607,
         0.2652683094892578,
         0.27297234270429493,
         0.2676297888050185,
         0.276450185543474,
         0.2756023100924258,
         0.2701961801332586,
         0.2688421804695299,
         0.2706548656318702,
         0.2716859638435291,
         0.27145537111323836,
         0.2706517288826552,
         0.2738509803426032,
         0.26606097278714763,
         0.27459985861445174,
         0.2743935245728376,
         0.27287125291631503,
         0.26721794361832973,
         0.2766087111542184,
         0.27275386927466766,
         0.2701596139437136,
         0.27225737785007437,
         0.2742248535265817,
         0.27069061334409256,
         0.2727671556959988,
         0.2736755282818979,
         0.27119597745146234,
         0.27597243291344126,
         0.2704152034266907,
         0.27295407059365046,
         0.2716151877105528,
         0.2716387331522271,
         0.2750102133654496,
         0.27536117558495377,
         0.26974013907944455,
         0.272073438637616,
         0.2764947592992993,
         0.27191595649164096,
         0.2727878793489699
        ],
        [
         27.688492672517896,
         27.73006906732917,
         27.43453997094184,
         28.04187758360058,
         27.33993424102664,
         27.664424136281013,
         27.853289864957333,
         28.17926449328661,
         27.805409837514162,
         27.871719864197075,
         27.823249757289886,
         27.96440687868744,
         28.068149024620652,
         28.105529319494963,
         27.671202368102968,
         27.78746730647981,
         27.59555633086711,
         26.804526511579752,
         27.400834256783128,
         27.660374518483877,
         27.24021651595831,
         27.72337698377669,
         27.24679419770837,
         28.057581830769777,
         27.604152407497168,
         27.68702393397689,
         27.727714454755187,
         27.457421047613025,
         27.595251988619566,
         27.864790198858827,
         28.562106711789966,
         27.2080371780321,
         27.99491833522916,
         27.969152979552746,
         27.986212320625782,
         27.659106478095055,
         27.679872643202543,
         27.638123313896358,
         27.356370261870325,
         27.9667340638116,
         27.602409118786454,
         27.767817605286837,
         27.36424762569368,
         27.721521934494376,
         28.188852582126856,
         27.56681056227535,
         28.34075448475778,
         28.00247199088335,
         27.666574807837605,
         28.05370634049177,
         28.039077738299966,
         27.77640837803483,
         27.913967542350292,
         27.626523926854134,
         27.87820601463318,
         27.40977355465293,
         27.858471875078976,
         27.468441020697355,
         27.495310559868813,
         27.372774876654148,
         28.011601995676756,
         27.661344942636788,
         27.057367567904294,
         27.843178955838084,
         27.298238458111882,
         28.19791892543435,
         28.111435629427433,
         27.560010373592377,
         27.42190240789205,
         27.60679629445076,
         27.71196831203997,
         27.688447853550315,
         27.60647634603083,
         27.932799994945526,
         27.13821922428906,
         28.009185578674078,
         27.988139506429434,
         27.832867797464132,
         27.25623024906963,
         28.214088537730277,
         27.820894666016102,
         27.556280622258782,
         27.770252540707588,
         27.970935059711337,
         27.610442561097443,
         27.822249880991876,
         27.914903884753585,
         27.661989700049162,
         28.14918815717101,
         27.582350749522448,
         27.841315200552344,
         27.704749146476388,
         27.70715078152716,
         28.05104176327586,
         28.086839909665287,
         27.513494186103344,
         27.751490741036832,
         28.202465448528528,
         27.73542756214738,
         27.824363693594933
        ],
        [
         4.412056855266283,
         4.413023887346018,
         4.396358380164939,
         4.411063421892513,
         4.411048984091503,
         4.396326405012458,
         4.427930081564392,
         4.44771471184507,
         4.3824665076323175,
         4.4332426915131045,
         4.419060442477906,
         4.41909775639248,
         4.422504967781412,
         4.441462155133229,
         4.395884032195138,
         4.421461556401493,
         4.387766955780425,
         4.333034100286704,
         4.34431171204845,
         4.477037652284997,
         4.418893221676572,
         4.4046847047184645,
         4.316370535727311,
         4.3957234289261775,
         4.401879490737271,
         4.431995497224383,
         4.401420145503458,
         4.368370840773913,
         4.395470220360983,
         4.43206257186212,
         4.50525275940972,
         4.378105219941619,
         4.458365066241113,
         4.442020995933747,
         4.438538439554451,
         4.415751339966437,
         4.41404742156363,
         4.37624895052552,
         4.347608377662551,
         4.453445215901718,
         4.383497816148828,
         4.402467752211178,
         4.368939498343062,
         4.402449211516025,
         4.467287226433444,
         4.393281902230511,
         4.478212150835681,
         4.410636304255731,
         4.389090228407321,
         4.438646411312354,
         4.448294753771462,
         4.441333040229417,
         4.42432183798356,
         4.358086897287114,
         4.4302059757549515,
         4.380267581310712,
         4.4296677525734705,
         4.393520531439473,
         4.340899133844666,
         4.430777700604062,
         4.4354722519051935,
         4.325772162500775,
         4.318526751812728,
         4.424693361973794,
         4.40436771221812,
         4.488484862854394,
         4.431662336448879,
         4.375522405614472,
         4.4509512010336385,
         4.372082755013874,
         4.4121283231701875,
         4.38143527069963,
         4.379638193943026,
         4.391761574217287,
         4.334052891253557,
         4.439778917998852,
         4.430533567173352,
         4.455391789125779,
         4.384360865167019,
         4.406414876540869,
         4.4126283770081605,
         4.341617589837951,
         4.384414815808461,
         4.454693388057538,
         4.410165612032234,
         4.40765898964577,
         4.423312074649028,
         4.368177099258104,
         4.491710558001363,
         4.389294147583506,
         4.45020611083339,
         4.377355871444409,
         4.487563212774689,
         4.49263902103407,
         4.444299393128066,
         4.408641215647101,
         4.423435941257555,
         4.435945011042793,
         4.364594323245932,
         4.449733020422815
        ]
       ],
       "encoder": "json",
       "name": "ABC_GAN_3 Metrics",
       "version": 1
      }
     },
     "metadata": {
      "scrapbook": {
       "data": true,
       "display": false,
       "name": "ABC_GAN_3 Metrics"
      }
     },
     "output_type": "display_data"
    },
    {
     "name": "stdout",
     "output_type": "stream",
     "text": [
      "MAE\n",
      "0.2719858278035113\n"
     ]
    }
   ],
   "source": [
    "ABC_GAN3_metrics=ABC_train_test2.test_generator(gen3,test_data,prior_model,variance,bias,\"3\",device)\n",
    "sb.glue(\"ABC_GAN_3 Metrics\",ABC_GAN3_metrics)\n",
    "\n",
    "print(\"MAE\")\n",
    "print(mean(ABC_GAN3_metrics[1]))"
   ]
  },
  {
   "cell_type": "code",
   "execution_count": 22,
   "id": "c8e46b48",
   "metadata": {
    "execution": {
     "iopub.execute_input": "2022-07-22T12:53:44.699751Z",
     "iopub.status.busy": "2022-07-22T12:53:44.699166Z",
     "iopub.status.idle": "2022-07-22T12:53:45.539623Z",
     "shell.execute_reply": "2022-07-22T12:53:45.538400Z"
    },
    "id": "c8e46b48",
    "papermill": {
     "duration": 0.897122,
     "end_time": "2022-07-22T12:53:45.542011",
     "exception": false,
     "start_time": "2022-07-22T12:53:44.644889",
     "status": "completed"
    },
    "tags": []
   },
   "outputs": [
    {
     "data": {
      "image/png": "[encoded data removed]",
      "text/plain": [
       "<Figure size 432x288 with 1 Axes>"
      ]
     },
     "metadata": {
      "needs_background": "light"
     },
     "output_type": "display_data"
    },
    {
     "data": {
      "image/png": "[encoded data removed]",
      "text/plain": [
       "<Figure size 432x288 with 1 Axes>"
      ]
     },
     "metadata": {
      "needs_background": "light"
     },
     "output_type": "display_data"
    },
    {
     "data": {
      "image/png": "[encoded data removed]",
      "text/plain": [
       "<Figure size 432x288 with 1 Axes>"
      ]
     },
     "metadata": {
      "needs_background": "light"
     },
     "output_type": "display_data"
    },
    {
     "data": {
      "image/png": "[encoded data removed]",
      "text/plain": [
       "<Figure size 432x288 with 1 Axes>"
      ]
     },
     "metadata": {
      "needs_background": "light"
     },
     "output_type": "display_data"
    }
   ],
   "source": [
    "sanityChecks.discProbVsError(train_data,disc3,device)\n",
    "sanityChecks.discProbVsError(test_data,disc3,device)"
   ]
  },
  {
   "cell_type": "markdown",
   "id": "f5d1f051",
   "metadata": {
    "id": "130f3a4d",
    "papermill": {
     "duration": 0.035999,
     "end_time": "2022-07-22T12:53:45.617325",
     "exception": false,
     "start_time": "2022-07-22T12:53:45.581326",
     "status": "completed"
    },
    "tags": []
   },
   "source": [
    "# skipGAN Model with TabNet Generator"
   ]
  },
  {
   "cell_type": "code",
   "execution_count": 23,
   "id": "78472873",
   "metadata": {
    "execution": {
     "iopub.execute_input": "2022-07-22T12:53:45.693280Z",
     "iopub.status.busy": "2022-07-22T12:53:45.692998Z",
     "iopub.status.idle": "2022-07-22T12:53:45.708833Z",
     "shell.execute_reply": "2022-07-22T12:53:45.707853Z"
    },
    "id": "4e43dad1",
    "papermill": {
     "duration": 0.054999,
     "end_time": "2022-07-22T12:53:45.711183",
     "exception": false,
     "start_time": "2022-07-22T12:53:45.656184",
     "status": "completed"
    },
    "tags": []
   },
   "outputs": [],
   "source": [
    "#Generator\n",
    "gen4 = network.GeneratorTabnetskipConnection(n_features+1).to(device)\n",
    "constraints=network.weightConstraint()\n",
    "#Discriminator \n",
    "disc4 = network.Discriminator(n_features+1).to(device)\n",
    "\n",
    "criterion = torch.nn.BCELoss()\n",
    "gen_opt = torch.optim.Adam(gen4.parameters(), lr=0.01, betas=(0.5, 0.999))\n",
    "disc_opt = torch.optim.Adam(disc4.parameters(), lr=0.01, betas=(0.5, 0.999))\n"
   ]
  },
  {
   "cell_type": "code",
   "execution_count": 24,
   "id": "9c3d0965",
   "metadata": {
    "execution": {
     "iopub.execute_input": "2022-07-22T12:53:45.820704Z",
     "iopub.status.busy": "2022-07-22T12:53:45.820257Z",
     "iopub.status.idle": "2022-07-22T13:05:18.508448Z",
     "shell.execute_reply": "2022-07-22T13:05:18.506775Z"
    },
    "id": "26acbc37",
    "papermill": {
     "duration": 692.765904,
     "end_time": "2022-07-22T13:05:18.511891",
     "exception": false,
     "start_time": "2022-07-22T12:53:45.745987",
     "status": "completed"
    },
    "tags": []
   },
   "outputs": [
    {
     "data": {
      "image/png": "[encoded data removed]",
      "text/plain": [
       "<Figure size 432x288 with 1 Axes>"
      ]
     },
     "metadata": {
      "needs_background": "light"
     },
     "output_type": "display_data"
    },
    {
     "data": {
      "image/png": "[encoded data removed]",
      "text/plain": [
       "<Figure size 432x288 with 1 Axes>"
      ]
     },
     "metadata": {
      "needs_background": "light"
     },
     "output_type": "display_data"
    }
   ],
   "source": [
    "ABC_train_test2.training_GAN_skip_connection(disc4,gen4,disc_opt,gen_opt,train_data,batch_size,n_epochs,criterion,prior_model,variance,bias,device)"
   ]
  },
  {
   "cell_type": "code",
   "execution_count": 25,
   "id": "4a77715c",
   "metadata": {
    "execution": {
     "iopub.execute_input": "2022-07-22T13:05:18.655073Z",
     "iopub.status.busy": "2022-07-22T13:05:18.653602Z",
     "iopub.status.idle": "2022-07-22T13:05:23.064784Z",
     "shell.execute_reply": "2022-07-22T13:05:23.064011Z"
    },
    "id": "c5e0717b",
    "papermill": {
     "duration": 4.515247,
     "end_time": "2022-07-22T13:05:23.067428",
     "exception": false,
     "start_time": "2022-07-22T13:05:18.552181",
     "status": "completed"
    },
    "tags": []
   },
   "outputs": [
    {
     "data": {
      "application/scrapbook.scrap.json+json": {
       "data": 0.12070912432895001,
       "encoder": "json",
       "name": "ABC-GAN Model 3 MSE",
       "version": 1
      }
     },
     "metadata": {
      "scrapbook": {
       "data": true,
       "display": false,
       "name": "ABC-GAN Model 3 MSE"
      }
     },
     "output_type": "display_data"
    },
    {
     "data": {
      "application/scrapbook.scrap.json+json": {
       "data": 0.23857165382617193,
       "encoder": "json",
       "name": "ABC-GAN Model 3 MAE",
       "version": 1
      }
     },
     "metadata": {
      "scrapbook": {
       "data": true,
       "display": false,
       "name": "ABC-GAN Model 3 MAE"
      }
     },
     "output_type": "display_data"
    },
    {
     "data": {
      "application/scrapbook.scrap.json+json": {
       "data": 24.334308690269538,
       "encoder": "json",
       "name": "ABC-GAN Model 3 Manhattan Distance",
       "version": 1
      }
     },
     "metadata": {
      "scrapbook": {
       "data": true,
       "display": false,
       "name": "ABC-GAN Model 3 Manhattan Distance"
      }
     },
     "output_type": "display_data"
    },
    {
     "data": {
      "application/scrapbook.scrap.json+json": {
       "data": 3.5081757665691495,
       "encoder": "json",
       "name": "ABC-GAN Model 3 Euclidean distance",
       "version": 1
      }
     },
     "metadata": {
      "scrapbook": {
       "data": true,
       "display": false,
       "name": "ABC-GAN Model 3 Euclidean distance"
      }
     },
     "output_type": "display_data"
    },
    {
     "data": {
      "application/scrapbook.scrap.json+json": {
       "data": [
        [
         0.11540742763037737,
         0.12077763494575026,
         0.114582275119636,
         0.11922262271708906,
         0.12515341812276096,
         0.1165154388505412,
         0.12494564414005019,
         0.11811198617540512,
         0.12245333265812355,
         0.12050082582516655,
         0.12737220278355435,
         0.11697259032235496,
         0.11878994573595737,
         0.11636805581031397,
         0.11857103033541926,
         0.11803396835823746,
         0.13225051355669462,
         0.13447618862067212,
         0.12346266428083043,
         0.11531529105193178,
         0.11769633227667309,
         0.1199974991722073,
         0.1198055749837621,
         0.13034114630835988,
         0.11542015594925338,
         0.11824341589972812,
         0.12033400287226514,
         0.11516001975267436,
         0.12136382894103544,
         0.117356781376468,
         0.12025663526895618,
         0.11759359281230952,
         0.1182826209533626,
         0.11936971030207086,
         0.13102018160759915,
         0.12028289205160551,
         0.12366913687848412,
         0.12317109962428224,
         0.11926294289305694,
         0.1209272092654652,
         0.11794434809214098,
         0.11338399342699618,
         0.11907719922672612,
         0.1184587766231832,
         0.11556523589196263,
         0.12017431524182325,
         0.11488082314989106,
         0.11719071415083822,
         0.11985453090018901,
         0.1285962817675179,
         0.12500266510618888,
         0.12098597864129823,
         0.1257167695685192,
         0.13789974943174466,
         0.11642741932438305,
         0.11691701575155186,
         0.11528116076842836,
         0.12364969257852987,
         0.12027713554121558,
         0.1232840962382173,
         0.12300240021086377,
         0.11587784395620758,
         0.12045958461579512,
         0.1191150523069565,
         0.11768306361995486,
         0.12343150851186926,
         0.11665419251655486,
         0.11864313098607727,
         0.12452846642455116,
         0.11597186826442384,
         0.11807642467558215,
         0.11796652605902166,
         0.11709603153769636,
         0.11725048143280231,
         0.12833633776046366,
         0.11975768737201488,
         0.12337470111833826,
         0.1257038960857875,
         0.13631902481191152,
         0.1304272303790117,
         0.11667783666907118,
         0.12018877383801704,
         0.12337324414962784,
         0.1150290242561066,
         0.11433090122676734,
         0.12258850586134533,
         0.1183730977491611,
         0.11880425255614684,
         0.12244054523802754,
         0.11997547674091305,
         0.12293677464124889,
         0.1257542670684527,
         0.118833929303111,
         0.11506830930989095,
         0.119384062929551,
         0.12113567857740336,
         0.11852505612799619,
         0.13258037607656123,
         0.11739041780633734,
         0.11844071247154868
        ],
        [
         0.23368514497198312,
         0.2391807075735985,
         0.2365771163547156,
         0.236711038705692,
         0.24226939008918172,
         0.23872297164052725,
         0.24072380079066052,
         0.237107551501443,
         0.2390329292244917,
         0.23663329924730694,
         0.24318032725440228,
         0.23745656530281492,
         0.23976365983595743,
         0.23512812282241807,
         0.23505662853701734,
         0.23644196222006691,
         0.24092406257256574,
         0.24445941945647492,
         0.24449125849002717,
         0.2371121111837234,
         0.23883550279795457,
         0.23977895540313102,
         0.24077838242930524,
         0.24498635235096455,
         0.23505905892371254,
         0.24120130897590927,
         0.23997882606151202,
         0.23479332575830175,
         0.23747176189413843,
         0.2355102234903504,
         0.23784043008059846,
         0.23378442079924486,
         0.23963822017186412,
         0.23805927234135715,
         0.2430324012084919,
         0.2395558083229059,
         0.24249894238606678,
         0.2429246660413257,
         0.23738907366835824,
         0.2357946648810278,
         0.23461329973503656,
         0.23425919980760299,
         0.23712087270128085,
         0.23481634803408502,
         0.236361451282659,
         0.2400608816384977,
         0.23382277337962068,
         0.23573487855815878,
         0.23802278347897762,
         0.24389300616823284,
         0.23666458675528274,
         0.2395510770855289,
         0.2438686685180109,
         0.2451274537335278,
         0.23526469237791994,
         0.2377284418280218,
         0.23208317586092972,
         0.24183174767577106,
         0.23865369580430434,
         0.23950487824485583,
         0.23910054333471492,
         0.2377060730576369,
         0.2401220200345943,
         0.23667864894092666,
         0.23819464199500634,
         0.24238937189254692,
         0.23758017048513627,
         0.23642905045519857,
         0.24140801431392045,
         0.23354094066456252,
         0.23760608515209136,
         0.23859449135431765,
         0.23677350724955984,
         0.24049367830522506,
         0.2415020883759009,
         0.23829221811291634,
         0.24023054722769588,
         0.23889219206666537,
         0.24352557827061153,
         0.24373930180445313,
         0.23433340534421743,
         0.23509145255529268,
         0.24268938800977433,
         0.23524972159123303,
         0.2339115622681657,
         0.2399901207627765,
         0.23736809705402337,
         0.23654456594593676,
         0.24015979978310711,
         0.2388310068487829,
         0.23949107174378106,
         0.24390263326794787,
         0.23603280955085568,
         0.23349440630123602,
         0.23894862503762923,
         0.24004078006335333,
         0.23538669833329087,
         0.24382072127442442,
         0.2379446997873339,
         0.2385810755704548
        ],
        [
         23.835884787142277,
         24.396432172507048,
         24.13086586818099,
         24.144525947980583,
         24.711477789096534,
         24.34974310733378,
         24.553827680647373,
         24.184970253147185,
         24.381358780898154,
         24.136596523225307,
         24.804393379949033,
         24.220569660887122,
         24.455893303267658,
         23.983068527886644,
         23.97577611077577,
         24.117080146446824,
         24.574254382401705,
         24.934860784560442,
         24.93810836598277,
         24.185435340739787,
         24.361221285391366,
         24.457453451119363,
         24.559395007789135,
         24.988607939798385,
         23.97602401021868,
         24.602533515542746,
         24.477840258274227,
         23.948919227346778,
         24.22211971320212,
         24.02204279601574,
         24.259723868221045,
         23.846010921522975,
         24.44309845753014,
         24.28204577881843,
         24.789304923266172,
         24.434692448936403,
         24.734892123378813,
         24.778315936215222,
         24.21368551417254,
         24.051055817864835,
         23.930556572973728,
         23.894438380375504,
         24.186329015530646,
         23.95126749947667,
         24.108868030831218,
         24.486209927126765,
         23.84992288472131,
         24.044957612932194,
         24.27832391485572,
         24.87708662915975,
         24.13978784903884,
         24.434209862723947,
         24.87460418883711,
         25.003000280819833,
         23.996998622547835,
         24.248301066458225,
         23.67248393781483,
         24.66683826292865,
         24.342676972039044,
         24.429497580975294,
         24.388255420140922,
         24.246019451878965,
         24.492446043528616,
         24.14122219197452,
         24.295853483490646,
         24.723715933039784,
         24.2331773894839,
         24.115763146430254,
         24.623617460019886,
         23.821175947785378,
         24.235820685513318,
         24.3366381181404,
         24.150897739455104,
         24.530355187132955,
         24.63321301434189,
         24.305806247517467,
         24.50351581722498,
         24.367003590799868,
         24.839608983602375,
         24.86140878405422,
         23.902007345110178,
         23.979328160639852,
         24.754317576996982,
         23.99547160230577,
         23.8589793513529,
         24.478992317803204,
         24.211545899510384,
         24.12754572648555,
         24.496299577876925,
         24.360762698575854,
         24.42808931786567,
         24.87806859333068,
         24.07534657418728,
         23.816429442726076,
         24.37275975383818,
         24.48415956646204,
         24.009443229995668,
         24.86971356999129,
         24.270359378308058,
         24.335269708186388
        ],
        [
         3.4309703610346864,
         3.5098887111226946,
         3.4186827963709754,
         3.48722060058481,
         3.572904791415749,
         3.4474011606941244,
         3.5699377728869615,
         3.4709397272052023,
         3.534153354217754,
         3.505864263511494,
         3.6044368053723095,
         3.4541575257767567,
         3.480887022738263,
         3.4452201225251238,
         3.477678118258325,
         3.4697931887275666,
         3.6728125983750997,
         3.70358896738131,
         3.548688737638834,
         3.4296005142431736,
         3.4648269642538643,
         3.498534681200851,
         3.495735780682477,
         3.6462030831335634,
         3.431159557179445,
         3.472870343357533,
         3.503436640353447,
         3.427290768927081,
         3.518396019777423,
         3.4598253858250905,
         3.5023102086242344,
         3.463314375977955,
         3.473446032003806,
         3.4893710680882344,
         3.6556885157210965,
         3.502692534217607,
         3.5516548201655773,
         3.544496037757242,
         3.487810226358625,
         3.51206140963928,
         3.468475674615346,
         3.4007598165047774,
         3.4850931581703897,
         3.4760315325906763,
         3.433315316276701,
         3.5011112742479304,
         3.4231336464252884,
         3.457376583970207,
         3.49644993555167,
         3.6217151655378457,
         3.570752279398735,
         3.512914718778755,
         3.580937097463311,
         3.7504365668596433,
         3.4460987755848014,
         3.453336879984096,
         3.4290929410530255,
         3.551375598695532,
         3.5026087171141445,
         3.5461215174184546,
         3.542067873645012,
         3.437955800113371,
         3.5052642740328577,
         3.48564704686369,
         3.46463165274974,
         3.5482409540800166,
         3.449453237353507,
         3.478735310508674,
         3.5639730042894846,
         3.4393503111737878,
         3.470417167562046,
         3.468801761130233,
         3.4559796320066796,
         3.458258102881542,
         3.6180528536171623,
         3.4950370687512766,
         3.5474243493090163,
         3.5807537475719164,
         3.728879259350586,
         3.647406955449198,
         3.4498027972980214,
         3.501321883443129,
         3.547403402950112,
         3.425340928159249,
         3.414930735041381,
         3.536103448410018,
         3.4747742330134814,
         3.481096631914572,
         3.5339688190869487,
         3.4982136337812655,
         3.541122846415722,
         3.5814711001182418,
         3.481531385599923,
         3.425925794527499,
         3.489580837122735,
         3.515087369454014,
         3.4770038431177515,
         3.6773901560494293,
         3.4603211724125265,
         3.47576648699218
        ]
       ],
       "encoder": "json",
       "name": "ABC_GAN_4 Metrics",
       "version": 1
      }
     },
     "metadata": {
      "scrapbook": {
       "data": true,
       "display": false,
       "name": "ABC_GAN_4 Metrics"
      }
     },
     "output_type": "display_data"
    },
    {
     "name": "stdout",
     "output_type": "stream",
     "text": [
      "MAE\n",
      "0.23857165382617193\n"
     ]
    }
   ],
   "source": [
    "ABC_GAN4_metrics=ABC_train_test2.test_generator(gen4,test_data,prior_model,variance,bias,\"3\",device)\n",
    "sb.glue(\"ABC_GAN_4 Metrics\",ABC_GAN4_metrics)\n",
    "\n",
    "print(\"MAE\")\n",
    "print(mean(ABC_GAN4_metrics[1]))"
   ]
  },
  {
   "cell_type": "code",
   "execution_count": 26,
   "id": "188d1e8f",
   "metadata": {
    "execution": {
     "iopub.execute_input": "2022-07-22T13:05:23.181955Z",
     "iopub.status.busy": "2022-07-22T13:05:23.180333Z",
     "iopub.status.idle": "2022-07-22T13:05:23.902792Z",
     "shell.execute_reply": "2022-07-22T13:05:23.901963Z"
    },
    "id": "c8e46b48",
    "papermill": {
     "duration": 0.788039,
     "end_time": "2022-07-22T13:05:23.905093",
     "exception": false,
     "start_time": "2022-07-22T13:05:23.117054",
     "status": "completed"
    },
    "tags": []
   },
   "outputs": [
    {
     "data": {
      "image/png": "[encoded data removed]",
      "text/plain": [
       "<Figure size 432x288 with 1 Axes>"
      ]
     },
     "metadata": {
      "needs_background": "light"
     },
     "output_type": "display_data"
    },
    {
     "data": {
      "image/png": "[encoded data removed]",
      "text/plain": [
       "<Figure size 432x288 with 1 Axes>"
      ]
     },
     "metadata": {
      "needs_background": "light"
     },
     "output_type": "display_data"
    },
    {
     "data": {
      "image/png": "[encoded data removed]",
      "text/plain": [
       "<Figure size 432x288 with 1 Axes>"
      ]
     },
     "metadata": {
      "needs_background": "light"
     },
     "output_type": "display_data"
    },
    {
     "data": {
      "image/png": "[encoded data removed]",
      "text/plain": [
       "<Figure size 432x288 with 1 Axes>"
      ]
     },
     "metadata": {
      "needs_background": "light"
     },
     "output_type": "display_data"
    }
   ],
   "source": [
    "sanityChecks.discProbVsError(train_data,disc4,device)\n",
    "sanityChecks.discProbVsError(test_data,disc4,device)"
   ]
  },
  {
   "cell_type": "markdown",
   "id": "a5bd74c3",
   "metadata": {
    "id": "a5bd74c3",
    "papermill": {
     "duration": 0.050847,
     "end_time": "2022-07-22T13:05:24.002452",
     "exception": false,
     "start_time": "2022-07-22T13:05:23.951605",
     "status": "completed"
    },
    "tags": []
   },
   "source": [
    "## Skip Connection Model Analysis - ABC-GAN "
   ]
  },
  {
   "cell_type": "markdown",
   "id": "5744a8bf",
   "metadata": {
    "id": "5744a8bf",
    "papermill": {
     "duration": 0.195116,
     "end_time": "2022-07-22T13:05:24.235456",
     "exception": false,
     "start_time": "2022-07-22T13:05:24.040340",
     "status": "completed"
    },
    "tags": []
   },
   "source": [
    "### Weight Analysis \n",
    "\n",
    "Study the weights of the skip connection layer\n",
    "\n",
    "Equation of the skip connection is \n",
    "\n",
    "$output = y_{gan} * w + y_{abc} * (1-w)$"
   ]
  },
  {
   "cell_type": "code",
   "execution_count": 27,
   "id": "52c31dea",
   "metadata": {
    "execution": {
     "iopub.execute_input": "2022-07-22T13:05:24.324316Z",
     "iopub.status.busy": "2022-07-22T13:05:24.323984Z",
     "iopub.status.idle": "2022-07-22T13:05:24.338175Z",
     "shell.execute_reply": "2022-07-22T13:05:24.337123Z"
    },
    "id": "52c31dea",
    "papermill": {
     "duration": 0.060886,
     "end_time": "2022-07-22T13:05:24.341293",
     "exception": false,
     "start_time": "2022-07-22T13:05:24.280407",
     "status": "completed"
    },
    "tags": []
   },
   "outputs": [
    {
     "name": "stdout",
     "output_type": "stream",
     "text": [
      "Weight of the node at skip connection\n",
      "Parameter containing:\n",
      "tensor([[0.9670]], requires_grad=True)\n"
     ]
    },
    {
     "data": {
      "application/scrapbook.scrap.json+json": {
       "data": 0.9670161604881287,
       "encoder": "json",
       "name": "Skip Connection Weight",
       "version": 1
      }
     },
     "metadata": {
      "scrapbook": {
       "data": true,
       "display": false,
       "name": "Skip Connection Weight"
      }
     },
     "output_type": "display_data"
    }
   ],
   "source": [
    "print(\"Weight of the node at skip connection\")\n",
    "for name,param in gen3.named_parameters():\n",
    "    if(name == \"skipNode.weight\"):\n",
    "        print(param)\n",
    "        sb.glue(\"Skip Connection Weight\",param.item())"
   ]
  },
  {
   "cell_type": "markdown",
   "id": "3ad834e5",
   "metadata": {
    "id": "a5bd74c3",
    "papermill": {
     "duration": 0.038532,
     "end_time": "2022-07-22T13:05:24.419922",
     "exception": false,
     "start_time": "2022-07-22T13:05:24.381390",
     "status": "completed"
    },
    "tags": []
   },
   "source": [
    "## skipGAN Model Analysis (TabNet Generator) "
   ]
  },
  {
   "cell_type": "markdown",
   "id": "75e6a6db",
   "metadata": {
    "id": "5744a8bf",
    "papermill": {
     "duration": 0.044631,
     "end_time": "2022-07-22T13:05:24.543313",
     "exception": false,
     "start_time": "2022-07-22T13:05:24.498682",
     "status": "completed"
    },
    "tags": []
   },
   "source": [
    "### Weight Analysis \n",
    "\n",
    "Study the weights of the skip connection layer\n",
    "\n",
    "Equation of the skip connection is \n",
    "\n",
    "$output = y_{gan} * w + y_{abc} * (1-w)$"
   ]
  },
  {
   "cell_type": "code",
   "execution_count": 28,
   "id": "eb6c01df",
   "metadata": {
    "execution": {
     "iopub.execute_input": "2022-07-22T13:05:24.621226Z",
     "iopub.status.busy": "2022-07-22T13:05:24.619288Z",
     "iopub.status.idle": "2022-07-22T13:05:24.633356Z",
     "shell.execute_reply": "2022-07-22T13:05:24.632512Z"
    },
    "id": "52c31dea",
    "papermill": {
     "duration": 0.058289,
     "end_time": "2022-07-22T13:05:24.638741",
     "exception": false,
     "start_time": "2022-07-22T13:05:24.580452",
     "status": "completed"
    },
    "tags": []
   },
   "outputs": [
    {
     "name": "stdout",
     "output_type": "stream",
     "text": [
      "Weight of the node at skip connection\n",
      "Parameter containing:\n",
      "tensor([[0.9724]], requires_grad=True)\n"
     ]
    },
    {
     "data": {
      "application/scrapbook.scrap.json+json": {
       "data": 0.9724361896514893,
       "encoder": "json",
       "name": "Skip Connection Weight",
       "version": 1
      }
     },
     "metadata": {
      "scrapbook": {
       "data": true,
       "display": false,
       "name": "Skip Connection Weight"
      }
     },
     "output_type": "display_data"
    }
   ],
   "source": [
    "print(\"Weight of the node at skip connection\")\n",
    "for name,param in gen4.named_parameters():\n",
    "    if(name == \"skipNode.weight\"):\n",
    "        print(param)\n",
    "        sb.glue(\"Skip Connection Weight\",param.item())"
   ]
  }
 ],
 "metadata": {
  "colab": {
   "collapsed_sections": [],
   "name": "ABC_GAN_Model-Catboost_Pre-gen.ipynb",
   "provenance": []
  },
  "interpreter": {
   "hash": "31f2aee4e71d21fbe5cf8b01ff0e069b9275f58929596ceb00d14d90e3e16cd6"
  },
  "kernelspec": {
   "display_name": "Python 3 (ipykernel)",
   "language": "python",
   "name": "python3"
  },
  "language_info": {
   "codemirror_mode": {
    "name": "ipython",
    "version": 3
   },
   "file_extension": ".py",
   "mimetype": "text/x-python",
   "name": "python",
   "nbconvert_exporter": "python",
   "pygments_lexer": "ipython3",
   "version": "3.8.13"
  },
  "papermill": {
   "default_parameters": {},
   "duration": 1987.327287,
   "end_time": "2022-07-22T13:05:25.886702",
   "environment_variables": {},
   "exception": null,
   "input_path": "ABC_GAN-TabNet.ipynb",
   "output_path": "./ABC_GAN_TabNet/ABC-GAN_output_1_6.ipynb",
   "parameters": {
    "bias": 0.01,
    "variance": 1
   },
   "start_time": "2022-07-22T12:32:18.559415",
   "version": "2.3.3"
  }
 },
 "nbformat": 4,
 "nbformat_minor": 5
}