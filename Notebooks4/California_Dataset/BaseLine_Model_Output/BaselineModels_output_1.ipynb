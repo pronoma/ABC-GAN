{
 "cells": [
  {
   "cell_type": "markdown",
   "id": "825a3df9",
   "metadata": {
    "id": "qtNWbDirSTe7",
    "papermill": {
     "duration": 0.008942,
     "end_time": "2022-07-21T10:35:49.032704",
     "exception": false,
     "start_time": "2022-07-21T10:35:49.023762",
     "status": "completed"
    },
    "tags": []
   },
   "source": [
    "## Import Libraries "
   ]
  },
  {
   "cell_type": "code",
   "execution_count": 1,
   "id": "6cde0959",
   "metadata": {
    "execution": {
     "iopub.execute_input": "2022-07-21T10:35:49.050024Z",
     "iopub.status.busy": "2022-07-21T10:35:49.049500Z",
     "iopub.status.idle": "2022-07-21T10:35:49.056978Z",
     "shell.execute_reply": "2022-07-21T10:35:49.055885Z"
    },
    "id": "QU46WvsjSTe-",
    "papermill": {
     "duration": 0.018669,
     "end_time": "2022-07-21T10:35:49.059004",
     "exception": false,
     "start_time": "2022-07-21T10:35:49.040335",
     "status": "completed"
    },
    "tags": []
   },
   "outputs": [],
   "source": [
    "import warnings\n",
    "import sys\n",
    "sys.path.insert(0, '../../src')\n",
    "warnings.filterwarnings('ignore')"
   ]
  },
  {
   "cell_type": "code",
   "execution_count": 2,
   "id": "7b8b5b8b",
   "metadata": {
    "execution": {
     "iopub.execute_input": "2022-07-21T10:35:49.075547Z",
     "iopub.status.busy": "2022-07-21T10:35:49.075182Z",
     "iopub.status.idle": "2022-07-21T10:35:59.073842Z",
     "shell.execute_reply": "2022-07-21T10:35:59.072742Z"
    },
    "id": "XLFqvMD-STe_",
    "papermill": {
     "duration": 10.009843,
     "end_time": "2022-07-21T10:35:59.076115",
     "exception": false,
     "start_time": "2022-07-21T10:35:49.066272",
     "status": "completed"
    },
    "tags": []
   },
   "outputs": [],
   "source": [
    "import statsModel\n",
    "import scrapbook as sb \n",
    "import torch \n",
    "import statsModel\n",
    "import baselineModels\n",
    "import californiaDataset\n",
    "import dataset \n",
    "from torch.utils.data import random_split \n",
    "from sklearn.model_selection import train_test_split\n",
    "from sklearn.metrics import mean_squared_error,mean_absolute_error \n",
    "import numpy as np"
   ]
  },
  {
   "cell_type": "markdown",
   "id": "15ab0e54",
   "metadata": {
    "id": "4uIcbx2ySTe_",
    "papermill": {
     "duration": 0.008055,
     "end_time": "2022-07-21T10:35:59.091369",
     "exception": false,
     "start_time": "2022-07-21T10:35:59.083314",
     "status": "completed"
    },
    "tags": []
   },
   "source": [
    "## Import Dataset \n"
   ]
  },
  {
   "cell_type": "code",
   "execution_count": 3,
   "id": "e8cdf9f3",
   "metadata": {
    "execution": {
     "iopub.execute_input": "2022-07-21T10:35:59.128884Z",
     "iopub.status.busy": "2022-07-21T10:35:59.128167Z",
     "iopub.status.idle": "2022-07-21T10:36:03.278124Z",
     "shell.execute_reply": "2022-07-21T10:36:03.277071Z"
    },
    "id": "NF27nZNSSTfA",
    "outputId": "de12dee9-d697-4232-9a52-cf9a05fb3e79",
    "papermill": {
     "duration": 4.161999,
     "end_time": "2022-07-21T10:36:03.281220",
     "exception": false,
     "start_time": "2022-07-21T10:35:59.119221",
     "status": "completed"
    },
    "tags": []
   },
   "outputs": [
    {
     "name": "stdout",
     "output_type": "stream",
     "text": [
      "       X1    X2        X3        X4      X5        X6     X7      X8      Y\n",
      "0  8.3252  41.0  6.984127  1.023810   322.0  2.555556  37.88 -122.23  4.526\n",
      "1  8.3014  21.0  6.238137  0.971880  2401.0  2.109842  37.86 -122.22  3.585\n",
      "2  7.2574  52.0  8.288136  1.073446   496.0  2.802260  37.85 -122.24  3.521\n",
      "3  5.6431  52.0  5.817352  1.073059   558.0  2.547945  37.85 -122.25  3.413\n",
      "4  3.8462  52.0  6.281853  1.081081   565.0  2.181467  37.85 -122.25  3.422\n"
     ]
    }
   ],
   "source": [
    "n_features = 8\n",
    "n_samples= 20640\n",
    "n_target = 1 \n",
    "X,Y = californiaDataset.california_data()"
   ]
  },
  {
   "cell_type": "code",
   "execution_count": 4,
   "id": "07e53849",
   "metadata": {
    "execution": {
     "iopub.execute_input": "2022-07-21T10:36:03.299725Z",
     "iopub.status.busy": "2022-07-21T10:36:03.299218Z",
     "iopub.status.idle": "2022-07-21T10:36:03.308190Z",
     "shell.execute_reply": "2022-07-21T10:36:03.307248Z"
    },
    "id": "AKPB4wCASTfB",
    "papermill": {
     "duration": 0.021048,
     "end_time": "2022-07-21T10:36:03.310248",
     "exception": false,
     "start_time": "2022-07-21T10:36:03.289200",
     "status": "completed"
    },
    "tags": []
   },
   "outputs": [],
   "source": [
    "# Train test split for dataset \n",
    "real_dataset = dataset.CustomDataset(X,Y)\n",
    "X_train, X_test, y_train, y_test = train_test_split(X, Y, test_size=0.2)"
   ]
  },
  {
   "cell_type": "markdown",
   "id": "b88e1386",
   "metadata": {
    "id": "BLEVASuJSTfB",
    "papermill": {
     "duration": 0.007718,
     "end_time": "2022-07-21T10:36:03.325074",
     "exception": false,
     "start_time": "2022-07-21T10:36:03.317356",
     "status": "completed"
    },
    "tags": []
   },
   "source": [
    "## Stats Model \n",
    "\n"
   ]
  },
  {
   "cell_type": "code",
   "execution_count": 5,
   "id": "184f155f",
   "metadata": {
    "execution": {
     "iopub.execute_input": "2022-07-21T10:36:03.347478Z",
     "iopub.status.busy": "2022-07-21T10:36:03.347082Z",
     "iopub.status.idle": "2022-07-21T10:36:03.351371Z",
     "shell.execute_reply": "2022-07-21T10:36:03.350256Z"
    },
    "id": "CKSMCfVLSTfB",
    "papermill": {
     "duration": 0.02143,
     "end_time": "2022-07-21T10:36:03.353265",
     "exception": false,
     "start_time": "2022-07-21T10:36:03.331835",
     "status": "completed"
    },
    "tags": []
   },
   "outputs": [],
   "source": [
    "# coefficients , y_pred =statsModel.statsModel(X_train,y_train,X_test,y_test)\n",
    "# #Store MSE Value \n",
    "# sb.glue(\"Coefficients\",coefficients)\n",
    "# mae = mean_absolute_error(y_pred, y_test)\n",
    "# print(\"Stats Model MAE\", mae)"
   ]
  },
  {
   "cell_type": "markdown",
   "id": "6cc62b5e",
   "metadata": {
    "id": "PpbWNlooSTfC",
    "papermill": {
     "duration": 0.008938,
     "end_time": "2022-07-21T10:36:03.370292",
     "exception": false,
     "start_time": "2022-07-21T10:36:03.361354",
     "status": "completed"
    },
    "tags": []
   },
   "source": [
    "# Catboost Model "
   ]
  },
  {
   "cell_type": "code",
   "execution_count": 6,
   "id": "b41e845c",
   "metadata": {
    "execution": {
     "iopub.execute_input": "2022-07-21T10:36:03.388615Z",
     "iopub.status.busy": "2022-07-21T10:36:03.388178Z",
     "iopub.status.idle": "2022-07-21T10:36:03.392710Z",
     "shell.execute_reply": "2022-07-21T10:36:03.391544Z"
    },
    "id": "S73felJwSTfC",
    "papermill": {
     "duration": 0.016842,
     "end_time": "2022-07-21T10:36:03.394982",
     "exception": false,
     "start_time": "2022-07-21T10:36:03.378140",
     "status": "completed"
    },
    "tags": []
   },
   "outputs": [],
   "source": [
    "# mae_cb = baselineModels.catboost(X_train,y_train,X_test,y_test)\n",
    "# #Store MAE Value\n",
    "# sb.glue(\"Catboost MAE\",mae_cb)\n",
    "# print(\"Catboost MAE\",mae_cb)"
   ]
  },
  {
   "cell_type": "markdown",
   "id": "f6885cd4",
   "metadata": {
    "id": "RBY9ZgZdSTfC",
    "papermill": {
     "duration": 0.026791,
     "end_time": "2022-07-21T10:36:03.430113",
     "exception": false,
     "start_time": "2022-07-21T10:36:03.403322",
     "status": "completed"
    },
    "tags": []
   },
   "source": [
    "# TabNet Regressor"
   ]
  },
  {
   "cell_type": "code",
   "execution_count": 7,
   "id": "68a6316a",
   "metadata": {
    "execution": {
     "iopub.execute_input": "2022-07-21T10:36:03.448804Z",
     "iopub.status.busy": "2022-07-21T10:36:03.448459Z",
     "iopub.status.idle": "2022-07-21T10:36:03.452664Z",
     "shell.execute_reply": "2022-07-21T10:36:03.451565Z"
    },
    "id": "uamKB88LSTfD",
    "papermill": {
     "duration": 0.015749,
     "end_time": "2022-07-21T10:36:03.454547",
     "exception": false,
     "start_time": "2022-07-21T10:36:03.438798",
     "status": "completed"
    },
    "tags": []
   },
   "outputs": [],
   "source": [
    "n_epochs = 500\n",
    "batch_size = 256"
   ]
  },
  {
   "cell_type": "code",
   "execution_count": 8,
   "id": "918e7565",
   "metadata": {
    "execution": {
     "iopub.execute_input": "2022-07-21T10:36:03.472019Z",
     "iopub.status.busy": "2022-07-21T10:36:03.471671Z",
     "iopub.status.idle": "2022-07-21T10:49:44.903273Z",
     "shell.execute_reply": "2022-07-21T10:49:44.902022Z"
    },
    "id": "AmWj982USTfD",
    "papermill": {
     "duration": 821.465184,
     "end_time": "2022-07-21T10:49:44.927244",
     "exception": false,
     "start_time": "2022-07-21T10:36:03.462060",
     "status": "completed"
    },
    "tags": []
   },
   "outputs": [
    {
     "name": "stdout",
     "output_type": "stream",
     "text": [
      "Device used : cuda\n"
     ]
    },
    {
     "name": "stdout",
     "output_type": "stream",
     "text": [
      "epoch 0  | loss: 0.82958 | train_mse: 0.54272 | train_mae: 0.54154 |  0:00:05s\n"
     ]
    },
    {
     "name": "stdout",
     "output_type": "stream",
     "text": [
      "epoch 1  | loss: 0.43478 | train_mse: 0.44204 | train_mae: 0.46056 |  0:00:07s\n"
     ]
    },
    {
     "name": "stdout",
     "output_type": "stream",
     "text": [
      "epoch 2  | loss: 0.36844 | train_mse: 0.37779 | train_mae: 0.43498 |  0:00:10s\n"
     ]
    },
    {
     "name": "stdout",
     "output_type": "stream",
     "text": [
      "epoch 3  | loss: 0.34191 | train_mse: 0.42992 | train_mae: 0.46114 |  0:00:12s\n"
     ]
    },
    {
     "name": "stdout",
     "output_type": "stream",
     "text": [
      "epoch 4  | loss: 0.31518 | train_mse: 0.36017 | train_mae: 0.41129 |  0:00:15s\n"
     ]
    },
    {
     "name": "stdout",
     "output_type": "stream",
     "text": [
      "epoch 5  | loss: 0.30159 | train_mse: 0.37838 | train_mae: 0.41466 |  0:00:17s\n"
     ]
    },
    {
     "name": "stdout",
     "output_type": "stream",
     "text": [
      "epoch 6  | loss: 0.29026 | train_mse: 0.3371  | train_mae: 0.39932 |  0:00:20s\n"
     ]
    },
    {
     "name": "stdout",
     "output_type": "stream",
     "text": [
      "epoch 7  | loss: 0.27973 | train_mse: 0.37954 | train_mae: 0.40931 |  0:00:22s\n"
     ]
    },
    {
     "name": "stdout",
     "output_type": "stream",
     "text": [
      "epoch 8  | loss: 0.28121 | train_mse: 0.35239 | train_mae: 0.40438 |  0:00:24s\n"
     ]
    },
    {
     "name": "stdout",
     "output_type": "stream",
     "text": [
      "epoch 9  | loss: 0.27662 | train_mse: 0.38652 | train_mae: 0.41438 |  0:00:27s\n"
     ]
    },
    {
     "name": "stdout",
     "output_type": "stream",
     "text": [
      "epoch 10 | loss: 0.28006 | train_mse: 0.32252 | train_mae: 0.39242 |  0:00:29s\n"
     ]
    },
    {
     "name": "stdout",
     "output_type": "stream",
     "text": [
      "epoch 11 | loss: 0.26959 | train_mse: 0.31972 | train_mae: 0.39923 |  0:00:32s\n"
     ]
    },
    {
     "name": "stdout",
     "output_type": "stream",
     "text": [
      "epoch 12 | loss: 0.26771 | train_mse: 0.33954 | train_mae: 0.39527 |  0:00:34s\n"
     ]
    },
    {
     "name": "stdout",
     "output_type": "stream",
     "text": [
      "epoch 13 | loss: 0.26458 | train_mse: 0.36597 | train_mae: 0.39451 |  0:00:37s\n"
     ]
    },
    {
     "name": "stdout",
     "output_type": "stream",
     "text": [
      "epoch 14 | loss: 0.26601 | train_mse: 0.3538  | train_mae: 0.39279 |  0:00:39s\n"
     ]
    },
    {
     "name": "stdout",
     "output_type": "stream",
     "text": [
      "epoch 15 | loss: 0.25863 | train_mse: 0.34581 | train_mae: 0.38981 |  0:00:41s\n"
     ]
    },
    {
     "name": "stdout",
     "output_type": "stream",
     "text": [
      "epoch 16 | loss: 0.25466 | train_mse: 0.3167  | train_mae: 0.38016 |  0:00:44s\n"
     ]
    },
    {
     "name": "stdout",
     "output_type": "stream",
     "text": [
      "epoch 17 | loss: 0.2588  | train_mse: 0.31665 | train_mae: 0.38353 |  0:00:46s\n"
     ]
    },
    {
     "name": "stdout",
     "output_type": "stream",
     "text": [
      "epoch 18 | loss: 0.26326 | train_mse: 0.34103 | train_mae: 0.39493 |  0:00:49s\n"
     ]
    },
    {
     "name": "stdout",
     "output_type": "stream",
     "text": [
      "epoch 19 | loss: 0.25902 | train_mse: 0.33519 | train_mae: 0.3817  |  0:00:51s\n"
     ]
    },
    {
     "name": "stdout",
     "output_type": "stream",
     "text": [
      "epoch 20 | loss: 0.24883 | train_mse: 0.32218 | train_mae: 0.38641 |  0:00:54s\n"
     ]
    },
    {
     "name": "stdout",
     "output_type": "stream",
     "text": [
      "epoch 21 | loss: 0.24827 | train_mse: 0.33746 | train_mae: 0.39793 |  0:00:56s\n"
     ]
    },
    {
     "name": "stdout",
     "output_type": "stream",
     "text": [
      "epoch 22 | loss: 0.24905 | train_mse: 0.32997 | train_mae: 0.38888 |  0:00:58s\n"
     ]
    },
    {
     "name": "stdout",
     "output_type": "stream",
     "text": [
      "epoch 23 | loss: 0.25081 | train_mse: 0.31568 | train_mae: 0.39309 |  0:01:01s\n"
     ]
    },
    {
     "name": "stdout",
     "output_type": "stream",
     "text": [
      "epoch 24 | loss: 0.25549 | train_mse: 0.32067 | train_mae: 0.37429 |  0:01:03s\n"
     ]
    },
    {
     "name": "stdout",
     "output_type": "stream",
     "text": [
      "epoch 25 | loss: 0.24545 | train_mse: 0.31858 | train_mae: 0.39749 |  0:01:06s\n"
     ]
    },
    {
     "name": "stdout",
     "output_type": "stream",
     "text": [
      "epoch 26 | loss: 0.24526 | train_mse: 0.32204 | train_mae: 0.41216 |  0:01:08s\n"
     ]
    },
    {
     "name": "stdout",
     "output_type": "stream",
     "text": [
      "epoch 27 | loss: 0.25396 | train_mse: 0.36329 | train_mae: 0.39794 |  0:01:11s\n"
     ]
    },
    {
     "name": "stdout",
     "output_type": "stream",
     "text": [
      "epoch 28 | loss: 0.24858 | train_mse: 0.3145  | train_mae: 0.38674 |  0:01:13s\n"
     ]
    },
    {
     "name": "stdout",
     "output_type": "stream",
     "text": [
      "epoch 29 | loss: 0.24658 | train_mse: 0.31151 | train_mae: 0.37871 |  0:01:15s\n"
     ]
    },
    {
     "name": "stdout",
     "output_type": "stream",
     "text": [
      "epoch 30 | loss: 0.24169 | train_mse: 0.32915 | train_mae: 0.38037 |  0:01:18s\n"
     ]
    },
    {
     "name": "stdout",
     "output_type": "stream",
     "text": [
      "epoch 31 | loss: 0.23867 | train_mse: 0.39144 | train_mae: 0.41465 |  0:01:20s\n"
     ]
    },
    {
     "name": "stdout",
     "output_type": "stream",
     "text": [
      "epoch 32 | loss: 0.24385 | train_mse: 0.3187  | train_mae: 0.37968 |  0:01:23s\n"
     ]
    },
    {
     "name": "stdout",
     "output_type": "stream",
     "text": [
      "epoch 33 | loss: 0.24049 | train_mse: 0.31956 | train_mae: 0.37609 |  0:01:25s\n"
     ]
    },
    {
     "name": "stdout",
     "output_type": "stream",
     "text": [
      "epoch 34 | loss: 0.23571 | train_mse: 0.33449 | train_mae: 0.38204 |  0:01:28s\n"
     ]
    },
    {
     "name": "stdout",
     "output_type": "stream",
     "text": [
      "epoch 35 | loss: 0.23965 | train_mse: 0.3299  | train_mae: 0.38412 |  0:01:30s\n"
     ]
    },
    {
     "name": "stdout",
     "output_type": "stream",
     "text": [
      "epoch 36 | loss: 0.23973 | train_mse: 0.32556 | train_mae: 0.38401 |  0:01:33s\n"
     ]
    },
    {
     "name": "stdout",
     "output_type": "stream",
     "text": [
      "epoch 37 | loss: 0.2413  | train_mse: 0.34448 | train_mae: 0.38115 |  0:01:35s\n"
     ]
    },
    {
     "name": "stdout",
     "output_type": "stream",
     "text": [
      "epoch 38 | loss: 0.23415 | train_mse: 0.31591 | train_mae: 0.38795 |  0:01:38s\n"
     ]
    },
    {
     "name": "stdout",
     "output_type": "stream",
     "text": [
      "epoch 39 | loss: 0.2349  | train_mse: 0.32745 | train_mae: 0.37755 |  0:01:40s\n"
     ]
    },
    {
     "name": "stdout",
     "output_type": "stream",
     "text": [
      "epoch 40 | loss: 0.23286 | train_mse: 0.32349 | train_mae: 0.37496 |  0:01:42s\n"
     ]
    },
    {
     "name": "stdout",
     "output_type": "stream",
     "text": [
      "epoch 41 | loss: 0.23775 | train_mse: 0.30607 | train_mae: 0.37488 |  0:01:45s\n"
     ]
    },
    {
     "name": "stdout",
     "output_type": "stream",
     "text": [
      "epoch 42 | loss: 0.23583 | train_mse: 0.33059 | train_mae: 0.37777 |  0:01:47s\n"
     ]
    },
    {
     "name": "stdout",
     "output_type": "stream",
     "text": [
      "epoch 43 | loss: 0.23521 | train_mse: 0.38102 | train_mae: 0.40442 |  0:01:50s\n"
     ]
    },
    {
     "name": "stdout",
     "output_type": "stream",
     "text": [
      "epoch 44 | loss: 0.23289 | train_mse: 0.31159 | train_mae: 0.36855 |  0:01:52s\n"
     ]
    },
    {
     "name": "stdout",
     "output_type": "stream",
     "text": [
      "epoch 45 | loss: 0.23445 | train_mse: 0.31556 | train_mae: 0.37311 |  0:01:54s\n"
     ]
    },
    {
     "name": "stdout",
     "output_type": "stream",
     "text": [
      "epoch 46 | loss: 0.23363 | train_mse: 0.32982 | train_mae: 0.37565 |  0:01:57s\n"
     ]
    },
    {
     "name": "stdout",
     "output_type": "stream",
     "text": [
      "epoch 47 | loss: 0.23613 | train_mse: 0.32592 | train_mae: 0.37269 |  0:01:59s\n"
     ]
    },
    {
     "name": "stdout",
     "output_type": "stream",
     "text": [
      "epoch 48 | loss: 0.2304  | train_mse: 0.34798 | train_mae: 0.38407 |  0:02:02s\n"
     ]
    },
    {
     "name": "stdout",
     "output_type": "stream",
     "text": [
      "epoch 49 | loss: 0.23042 | train_mse: 0.31731 | train_mae: 0.37331 |  0:02:04s\n"
     ]
    },
    {
     "name": "stdout",
     "output_type": "stream",
     "text": [
      "epoch 50 | loss: 0.2305  | train_mse: 0.33392 | train_mae: 0.39005 |  0:02:07s\n"
     ]
    },
    {
     "name": "stdout",
     "output_type": "stream",
     "text": [
      "epoch 51 | loss: 0.23125 | train_mse: 0.34745 | train_mae: 0.38672 |  0:02:09s\n"
     ]
    },
    {
     "name": "stdout",
     "output_type": "stream",
     "text": [
      "epoch 52 | loss: 0.23011 | train_mse: 0.32423 | train_mae: 0.37582 |  0:02:11s\n"
     ]
    },
    {
     "name": "stdout",
     "output_type": "stream",
     "text": [
      "epoch 53 | loss: 0.23149 | train_mse: 0.31972 | train_mae: 0.37241 |  0:02:14s\n"
     ]
    },
    {
     "name": "stdout",
     "output_type": "stream",
     "text": [
      "epoch 54 | loss: 0.23003 | train_mse: 0.32845 | train_mae: 0.37547 |  0:02:16s\n"
     ]
    },
    {
     "name": "stdout",
     "output_type": "stream",
     "text": [
      "epoch 55 | loss: 0.22795 | train_mse: 0.34159 | train_mae: 0.37779 |  0:02:19s\n"
     ]
    },
    {
     "name": "stdout",
     "output_type": "stream",
     "text": [
      "epoch 56 | loss: 0.22922 | train_mse: 0.33065 | train_mae: 0.37089 |  0:02:21s\n"
     ]
    },
    {
     "name": "stdout",
     "output_type": "stream",
     "text": [
      "epoch 57 | loss: 0.22589 | train_mse: 0.32658 | train_mae: 0.37223 |  0:02:24s\n"
     ]
    },
    {
     "name": "stdout",
     "output_type": "stream",
     "text": [
      "epoch 58 | loss: 0.22964 | train_mse: 0.3162  | train_mae: 0.38109 |  0:02:26s\n"
     ]
    },
    {
     "name": "stdout",
     "output_type": "stream",
     "text": [
      "epoch 59 | loss: 0.22564 | train_mse: 0.31929 | train_mae: 0.38403 |  0:02:29s\n"
     ]
    },
    {
     "name": "stdout",
     "output_type": "stream",
     "text": [
      "epoch 60 | loss: 0.22963 | train_mse: 0.29472 | train_mae: 0.36731 |  0:02:31s\n"
     ]
    },
    {
     "name": "stdout",
     "output_type": "stream",
     "text": [
      "epoch 61 | loss: 0.23282 | train_mse: 0.32278 | train_mae: 0.36882 |  0:02:33s\n"
     ]
    },
    {
     "name": "stdout",
     "output_type": "stream",
     "text": [
      "epoch 62 | loss: 0.22706 | train_mse: 0.3282  | train_mae: 0.37921 |  0:02:36s\n"
     ]
    },
    {
     "name": "stdout",
     "output_type": "stream",
     "text": [
      "epoch 63 | loss: 0.23129 | train_mse: 0.31821 | train_mae: 0.3798  |  0:02:38s\n"
     ]
    },
    {
     "name": "stdout",
     "output_type": "stream",
     "text": [
      "epoch 64 | loss: 0.22948 | train_mse: 0.31563 | train_mae: 0.37381 |  0:02:41s\n"
     ]
    },
    {
     "name": "stdout",
     "output_type": "stream",
     "text": [
      "epoch 65 | loss: 0.22718 | train_mse: 0.32457 | train_mae: 0.37717 |  0:02:43s\n"
     ]
    },
    {
     "name": "stdout",
     "output_type": "stream",
     "text": [
      "epoch 66 | loss: 0.22562 | train_mse: 0.32451 | train_mae: 0.36912 |  0:02:46s\n"
     ]
    },
    {
     "name": "stdout",
     "output_type": "stream",
     "text": [
      "epoch 67 | loss: 0.2277  | train_mse: 0.3138  | train_mae: 0.38048 |  0:02:48s\n"
     ]
    },
    {
     "name": "stdout",
     "output_type": "stream",
     "text": [
      "epoch 68 | loss: 0.22962 | train_mse: 0.34676 | train_mae: 0.382   |  0:02:50s\n"
     ]
    },
    {
     "name": "stdout",
     "output_type": "stream",
     "text": [
      "epoch 69 | loss: 0.22182 | train_mse: 0.31324 | train_mae: 0.37892 |  0:02:53s\n"
     ]
    },
    {
     "name": "stdout",
     "output_type": "stream",
     "text": [
      "epoch 70 | loss: 0.22151 | train_mse: 0.30834 | train_mae: 0.37478 |  0:02:55s\n"
     ]
    },
    {
     "name": "stdout",
     "output_type": "stream",
     "text": [
      "epoch 71 | loss: 0.22276 | train_mse: 0.31556 | train_mae: 0.36853 |  0:02:58s\n"
     ]
    },
    {
     "name": "stdout",
     "output_type": "stream",
     "text": [
      "epoch 72 | loss: 0.22938 | train_mse: 0.31413 | train_mae: 0.36943 |  0:03:00s\n"
     ]
    },
    {
     "name": "stdout",
     "output_type": "stream",
     "text": [
      "epoch 73 | loss: 0.22257 | train_mse: 0.32078 | train_mae: 0.37765 |  0:03:03s\n"
     ]
    },
    {
     "name": "stdout",
     "output_type": "stream",
     "text": [
      "epoch 74 | loss: 0.21822 | train_mse: 0.32642 | train_mae: 0.37457 |  0:03:05s\n"
     ]
    },
    {
     "name": "stdout",
     "output_type": "stream",
     "text": [
      "epoch 75 | loss: 0.21976 | train_mse: 0.29979 | train_mae: 0.36696 |  0:03:08s\n"
     ]
    },
    {
     "name": "stdout",
     "output_type": "stream",
     "text": [
      "epoch 76 | loss: 0.22606 | train_mse: 0.329   | train_mae: 0.37448 |  0:03:10s\n"
     ]
    },
    {
     "name": "stdout",
     "output_type": "stream",
     "text": [
      "epoch 77 | loss: 0.22242 | train_mse: 0.38159 | train_mae: 0.40652 |  0:03:13s\n"
     ]
    },
    {
     "name": "stdout",
     "output_type": "stream",
     "text": [
      "epoch 78 | loss: 0.22156 | train_mse: 0.31013 | train_mae: 0.37449 |  0:03:15s\n"
     ]
    },
    {
     "name": "stdout",
     "output_type": "stream",
     "text": [
      "epoch 79 | loss: 0.227   | train_mse: 0.40285 | train_mae: 0.41572 |  0:03:17s\n"
     ]
    },
    {
     "name": "stdout",
     "output_type": "stream",
     "text": [
      "epoch 80 | loss: 0.22422 | train_mse: 0.30864 | train_mae: 0.36281 |  0:03:20s\n"
     ]
    },
    {
     "name": "stdout",
     "output_type": "stream",
     "text": [
      "epoch 81 | loss: 0.2213  | train_mse: 0.36342 | train_mae: 0.38667 |  0:03:22s\n"
     ]
    },
    {
     "name": "stdout",
     "output_type": "stream",
     "text": [
      "epoch 82 | loss: 0.21983 | train_mse: 0.34049 | train_mae: 0.38284 |  0:03:25s\n"
     ]
    },
    {
     "name": "stdout",
     "output_type": "stream",
     "text": [
      "epoch 83 | loss: 0.22071 | train_mse: 0.32128 | train_mae: 0.37096 |  0:03:27s\n"
     ]
    },
    {
     "name": "stdout",
     "output_type": "stream",
     "text": [
      "epoch 84 | loss: 0.2189  | train_mse: 0.29579 | train_mae: 0.37327 |  0:03:30s\n"
     ]
    },
    {
     "name": "stdout",
     "output_type": "stream",
     "text": [
      "epoch 85 | loss: 0.21736 | train_mse: 0.35216 | train_mae: 0.38131 |  0:03:32s\n"
     ]
    },
    {
     "name": "stdout",
     "output_type": "stream",
     "text": [
      "epoch 86 | loss: 0.21477 | train_mse: 0.31737 | train_mae: 0.3739  |  0:03:35s\n"
     ]
    },
    {
     "name": "stdout",
     "output_type": "stream",
     "text": [
      "epoch 87 | loss: 0.21339 | train_mse: 0.32594 | train_mae: 0.37195 |  0:03:37s\n"
     ]
    },
    {
     "name": "stdout",
     "output_type": "stream",
     "text": [
      "epoch 88 | loss: 0.21872 | train_mse: 0.30516 | train_mae: 0.37358 |  0:03:39s\n"
     ]
    },
    {
     "name": "stdout",
     "output_type": "stream",
     "text": [
      "epoch 89 | loss: 0.21727 | train_mse: 0.31138 | train_mae: 0.36618 |  0:03:42s\n"
     ]
    },
    {
     "name": "stdout",
     "output_type": "stream",
     "text": [
      "epoch 90 | loss: 0.21707 | train_mse: 0.29383 | train_mae: 0.3635  |  0:03:44s\n"
     ]
    },
    {
     "name": "stdout",
     "output_type": "stream",
     "text": [
      "epoch 91 | loss: 0.21692 | train_mse: 0.35958 | train_mae: 0.39019 |  0:03:47s\n"
     ]
    },
    {
     "name": "stdout",
     "output_type": "stream",
     "text": [
      "epoch 92 | loss: 0.21976 | train_mse: 0.3027  | train_mae: 0.36757 |  0:03:49s\n"
     ]
    },
    {
     "name": "stdout",
     "output_type": "stream",
     "text": [
      "epoch 93 | loss: 0.21605 | train_mse: 0.32264 | train_mae: 0.36669 |  0:03:52s\n"
     ]
    },
    {
     "name": "stdout",
     "output_type": "stream",
     "text": [
      "epoch 94 | loss: 0.21869 | train_mse: 0.39898 | train_mae: 0.40945 |  0:03:54s\n"
     ]
    },
    {
     "name": "stdout",
     "output_type": "stream",
     "text": [
      "epoch 95 | loss: 0.2155  | train_mse: 0.31224 | train_mae: 0.36636 |  0:03:56s\n"
     ]
    },
    {
     "name": "stdout",
     "output_type": "stream",
     "text": [
      "epoch 96 | loss: 0.21321 | train_mse: 0.29645 | train_mae: 0.3689  |  0:03:59s\n"
     ]
    },
    {
     "name": "stdout",
     "output_type": "stream",
     "text": [
      "epoch 97 | loss: 0.21457 | train_mse: 0.31379 | train_mae: 0.36195 |  0:04:01s\n"
     ]
    },
    {
     "name": "stdout",
     "output_type": "stream",
     "text": [
      "epoch 98 | loss: 0.21442 | train_mse: 0.3189  | train_mae: 0.36159 |  0:04:04s\n"
     ]
    },
    {
     "name": "stdout",
     "output_type": "stream",
     "text": [
      "epoch 99 | loss: 0.21289 | train_mse: 0.29256 | train_mae: 0.36491 |  0:04:06s\n"
     ]
    },
    {
     "name": "stdout",
     "output_type": "stream",
     "text": [
      "epoch 100| loss: 0.21196 | train_mse: 0.28127 | train_mae: 0.36829 |  0:04:09s\n"
     ]
    },
    {
     "name": "stdout",
     "output_type": "stream",
     "text": [
      "epoch 101| loss: 0.21318 | train_mse: 0.30898 | train_mae: 0.36992 |  0:04:11s\n"
     ]
    },
    {
     "name": "stdout",
     "output_type": "stream",
     "text": [
      "epoch 102| loss: 0.21643 | train_mse: 0.29736 | train_mae: 0.36202 |  0:04:14s\n"
     ]
    },
    {
     "name": "stdout",
     "output_type": "stream",
     "text": [
      "epoch 103| loss: 0.21304 | train_mse: 0.32087 | train_mae: 0.37131 |  0:04:16s\n"
     ]
    },
    {
     "name": "stdout",
     "output_type": "stream",
     "text": [
      "epoch 104| loss: 0.20812 | train_mse: 0.2969  | train_mae: 0.36727 |  0:04:19s\n"
     ]
    },
    {
     "name": "stdout",
     "output_type": "stream",
     "text": [
      "epoch 105| loss: 0.21263 | train_mse: 0.2867  | train_mae: 0.3753  |  0:04:21s\n"
     ]
    },
    {
     "name": "stdout",
     "output_type": "stream",
     "text": [
      "epoch 106| loss: 0.2119  | train_mse: 0.32878 | train_mae: 0.36991 |  0:04:23s\n"
     ]
    },
    {
     "name": "stdout",
     "output_type": "stream",
     "text": [
      "epoch 107| loss: 0.20886 | train_mse: 0.29226 | train_mae: 0.35817 |  0:04:26s\n"
     ]
    },
    {
     "name": "stdout",
     "output_type": "stream",
     "text": [
      "epoch 108| loss: 0.20947 | train_mse: 0.28936 | train_mae: 0.3651  |  0:04:28s\n"
     ]
    },
    {
     "name": "stdout",
     "output_type": "stream",
     "text": [
      "epoch 109| loss: 0.21042 | train_mse: 0.34977 | train_mae: 0.38369 |  0:04:31s\n"
     ]
    },
    {
     "name": "stdout",
     "output_type": "stream",
     "text": [
      "epoch 110| loss: 0.21498 | train_mse: 0.28385 | train_mae: 0.35625 |  0:04:33s\n"
     ]
    },
    {
     "name": "stdout",
     "output_type": "stream",
     "text": [
      "epoch 111| loss: 0.21055 | train_mse: 0.31183 | train_mae: 0.35986 |  0:04:36s\n"
     ]
    },
    {
     "name": "stdout",
     "output_type": "stream",
     "text": [
      "epoch 112| loss: 0.21026 | train_mse: 0.29912 | train_mae: 0.36837 |  0:04:38s\n"
     ]
    },
    {
     "name": "stdout",
     "output_type": "stream",
     "text": [
      "epoch 113| loss: 0.20587 | train_mse: 0.28852 | train_mae: 0.36336 |  0:04:40s\n"
     ]
    },
    {
     "name": "stdout",
     "output_type": "stream",
     "text": [
      "epoch 114| loss: 0.21148 | train_mse: 0.31169 | train_mae: 0.36699 |  0:04:43s\n"
     ]
    },
    {
     "name": "stdout",
     "output_type": "stream",
     "text": [
      "epoch 115| loss: 0.21034 | train_mse: 0.31226 | train_mae: 0.36722 |  0:04:45s\n"
     ]
    },
    {
     "name": "stdout",
     "output_type": "stream",
     "text": [
      "epoch 116| loss: 0.20906 | train_mse: 0.32052 | train_mae: 0.37652 |  0:04:48s\n"
     ]
    },
    {
     "name": "stdout",
     "output_type": "stream",
     "text": [
      "epoch 117| loss: 0.20904 | train_mse: 0.34482 | train_mae: 0.37498 |  0:04:50s\n"
     ]
    },
    {
     "name": "stdout",
     "output_type": "stream",
     "text": [
      "epoch 118| loss: 0.20722 | train_mse: 0.27653 | train_mae: 0.35492 |  0:04:53s\n"
     ]
    },
    {
     "name": "stdout",
     "output_type": "stream",
     "text": [
      "epoch 119| loss: 0.20838 | train_mse: 0.27159 | train_mae: 0.36659 |  0:04:55s\n"
     ]
    },
    {
     "name": "stdout",
     "output_type": "stream",
     "text": [
      "epoch 120| loss: 0.20521 | train_mse: 0.29999 | train_mae: 0.36348 |  0:04:57s\n"
     ]
    },
    {
     "name": "stdout",
     "output_type": "stream",
     "text": [
      "epoch 121| loss: 0.20934 | train_mse: 0.36558 | train_mae: 0.38906 |  0:05:00s\n"
     ]
    },
    {
     "name": "stdout",
     "output_type": "stream",
     "text": [
      "epoch 122| loss: 0.20617 | train_mse: 0.29791 | train_mae: 0.36408 |  0:05:02s\n"
     ]
    },
    {
     "name": "stdout",
     "output_type": "stream",
     "text": [
      "epoch 123| loss: 0.20674 | train_mse: 0.31913 | train_mae: 0.3657  |  0:05:05s\n"
     ]
    },
    {
     "name": "stdout",
     "output_type": "stream",
     "text": [
      "epoch 124| loss: 0.20802 | train_mse: 0.30231 | train_mae: 0.35676 |  0:05:07s\n"
     ]
    },
    {
     "name": "stdout",
     "output_type": "stream",
     "text": [
      "epoch 125| loss: 0.21183 | train_mse: 0.29095 | train_mae: 0.36666 |  0:05:10s\n"
     ]
    },
    {
     "name": "stdout",
     "output_type": "stream",
     "text": [
      "epoch 126| loss: 0.21081 | train_mse: 0.30449 | train_mae: 0.3627  |  0:05:12s\n"
     ]
    },
    {
     "name": "stdout",
     "output_type": "stream",
     "text": [
      "epoch 127| loss: 0.20431 | train_mse: 0.31185 | train_mae: 0.35898 |  0:05:15s\n"
     ]
    },
    {
     "name": "stdout",
     "output_type": "stream",
     "text": [
      "epoch 128| loss: 0.20226 | train_mse: 0.30746 | train_mae: 0.36163 |  0:05:17s\n"
     ]
    },
    {
     "name": "stdout",
     "output_type": "stream",
     "text": [
      "epoch 129| loss: 0.20225 | train_mse: 0.32803 | train_mae: 0.37846 |  0:05:20s\n"
     ]
    },
    {
     "name": "stdout",
     "output_type": "stream",
     "text": [
      "epoch 130| loss: 0.20379 | train_mse: 0.2816  | train_mae: 0.36087 |  0:05:22s\n"
     ]
    },
    {
     "name": "stdout",
     "output_type": "stream",
     "text": [
      "epoch 131| loss: 0.20482 | train_mse: 0.28665 | train_mae: 0.34875 |  0:05:24s\n"
     ]
    },
    {
     "name": "stdout",
     "output_type": "stream",
     "text": [
      "epoch 132| loss: 0.20045 | train_mse: 0.3285  | train_mae: 0.38241 |  0:05:27s\n"
     ]
    },
    {
     "name": "stdout",
     "output_type": "stream",
     "text": [
      "epoch 133| loss: 0.20554 | train_mse: 0.29254 | train_mae: 0.35473 |  0:05:29s\n"
     ]
    },
    {
     "name": "stdout",
     "output_type": "stream",
     "text": [
      "epoch 134| loss: 0.2046  | train_mse: 0.30548 | train_mae: 0.36296 |  0:05:32s\n"
     ]
    },
    {
     "name": "stdout",
     "output_type": "stream",
     "text": [
      "epoch 135| loss: 0.20584 | train_mse: 0.27009 | train_mae: 0.34783 |  0:05:34s\n"
     ]
    },
    {
     "name": "stdout",
     "output_type": "stream",
     "text": [
      "epoch 136| loss: 0.20599 | train_mse: 0.28929 | train_mae: 0.35187 |  0:05:37s\n"
     ]
    },
    {
     "name": "stdout",
     "output_type": "stream",
     "text": [
      "epoch 137| loss: 0.20207 | train_mse: 0.30489 | train_mae: 0.35568 |  0:05:39s\n"
     ]
    },
    {
     "name": "stdout",
     "output_type": "stream",
     "text": [
      "epoch 138| loss: 0.19513 | train_mse: 0.27398 | train_mae: 0.35514 |  0:05:41s\n"
     ]
    },
    {
     "name": "stdout",
     "output_type": "stream",
     "text": [
      "epoch 139| loss: 0.20676 | train_mse: 0.32071 | train_mae: 0.36567 |  0:05:44s\n"
     ]
    },
    {
     "name": "stdout",
     "output_type": "stream",
     "text": [
      "epoch 140| loss: 0.20382 | train_mse: 0.28984 | train_mae: 0.35467 |  0:05:46s\n"
     ]
    },
    {
     "name": "stdout",
     "output_type": "stream",
     "text": [
      "epoch 141| loss: 0.20555 | train_mse: 0.28076 | train_mae: 0.35495 |  0:05:49s\n"
     ]
    },
    {
     "name": "stdout",
     "output_type": "stream",
     "text": [
      "epoch 142| loss: 0.20085 | train_mse: 0.2917  | train_mae: 0.35844 |  0:05:51s\n"
     ]
    },
    {
     "name": "stdout",
     "output_type": "stream",
     "text": [
      "epoch 143| loss: 0.20328 | train_mse: 0.29408 | train_mae: 0.35271 |  0:05:54s\n"
     ]
    },
    {
     "name": "stdout",
     "output_type": "stream",
     "text": [
      "epoch 144| loss: 0.20584 | train_mse: 0.30329 | train_mae: 0.36109 |  0:05:56s\n"
     ]
    },
    {
     "name": "stdout",
     "output_type": "stream",
     "text": [
      "epoch 145| loss: 0.20174 | train_mse: 0.31313 | train_mae: 0.3643  |  0:05:58s\n"
     ]
    },
    {
     "name": "stdout",
     "output_type": "stream",
     "text": [
      "epoch 146| loss: 0.20365 | train_mse: 0.31255 | train_mae: 0.37693 |  0:06:01s\n"
     ]
    },
    {
     "name": "stdout",
     "output_type": "stream",
     "text": [
      "epoch 147| loss: 0.20281 | train_mse: 0.2722  | train_mae: 0.35219 |  0:06:03s\n"
     ]
    },
    {
     "name": "stdout",
     "output_type": "stream",
     "text": [
      "epoch 148| loss: 0.20472 | train_mse: 0.26527 | train_mae: 0.3435  |  0:06:06s\n"
     ]
    },
    {
     "name": "stdout",
     "output_type": "stream",
     "text": [
      "epoch 149| loss: 0.20576 | train_mse: 0.32836 | train_mae: 0.37235 |  0:06:08s\n"
     ]
    },
    {
     "name": "stdout",
     "output_type": "stream",
     "text": [
      "epoch 150| loss: 0.19906 | train_mse: 0.34249 | train_mae: 0.37549 |  0:06:10s\n"
     ]
    },
    {
     "name": "stdout",
     "output_type": "stream",
     "text": [
      "epoch 151| loss: 0.19781 | train_mse: 0.26814 | train_mae: 0.34614 |  0:06:13s\n"
     ]
    },
    {
     "name": "stdout",
     "output_type": "stream",
     "text": [
      "epoch 152| loss: 0.19689 | train_mse: 0.28954 | train_mae: 0.35663 |  0:06:15s\n"
     ]
    },
    {
     "name": "stdout",
     "output_type": "stream",
     "text": [
      "epoch 153| loss: 0.19904 | train_mse: 0.27435 | train_mae: 0.35116 |  0:06:18s\n"
     ]
    },
    {
     "name": "stdout",
     "output_type": "stream",
     "text": [
      "epoch 154| loss: 0.19989 | train_mse: 0.27321 | train_mae: 0.35041 |  0:06:20s\n"
     ]
    },
    {
     "name": "stdout",
     "output_type": "stream",
     "text": [
      "epoch 155| loss: 0.20122 | train_mse: 0.34381 | train_mae: 0.37163 |  0:06:23s\n"
     ]
    },
    {
     "name": "stdout",
     "output_type": "stream",
     "text": [
      "epoch 156| loss: 0.20292 | train_mse: 0.28016 | train_mae: 0.35351 |  0:06:25s\n"
     ]
    },
    {
     "name": "stdout",
     "output_type": "stream",
     "text": [
      "epoch 157| loss: 0.19905 | train_mse: 0.27443 | train_mae: 0.34496 |  0:06:27s\n"
     ]
    },
    {
     "name": "stdout",
     "output_type": "stream",
     "text": [
      "epoch 158| loss: 0.19948 | train_mse: 0.30213 | train_mae: 0.36018 |  0:06:30s\n"
     ]
    },
    {
     "name": "stdout",
     "output_type": "stream",
     "text": [
      "epoch 159| loss: 0.19868 | train_mse: 0.28677 | train_mae: 0.34731 |  0:06:32s\n"
     ]
    },
    {
     "name": "stdout",
     "output_type": "stream",
     "text": [
      "epoch 160| loss: 0.19905 | train_mse: 0.27801 | train_mae: 0.3469  |  0:06:35s\n"
     ]
    },
    {
     "name": "stdout",
     "output_type": "stream",
     "text": [
      "epoch 161| loss: 0.19869 | train_mse: 0.28335 | train_mae: 0.34799 |  0:06:37s\n"
     ]
    },
    {
     "name": "stdout",
     "output_type": "stream",
     "text": [
      "epoch 162| loss: 0.19594 | train_mse: 0.30674 | train_mae: 0.34738 |  0:06:40s\n"
     ]
    },
    {
     "name": "stdout",
     "output_type": "stream",
     "text": [
      "epoch 163| loss: 0.19392 | train_mse: 0.30348 | train_mae: 0.34676 |  0:06:42s\n"
     ]
    },
    {
     "name": "stdout",
     "output_type": "stream",
     "text": [
      "epoch 164| loss: 0.19882 | train_mse: 0.31653 | train_mae: 0.36215 |  0:06:44s\n"
     ]
    },
    {
     "name": "stdout",
     "output_type": "stream",
     "text": [
      "epoch 165| loss: 0.19559 | train_mse: 0.30724 | train_mae: 0.35933 |  0:06:47s\n"
     ]
    },
    {
     "name": "stdout",
     "output_type": "stream",
     "text": [
      "epoch 166| loss: 0.19717 | train_mse: 0.2953  | train_mae: 0.35195 |  0:06:49s\n"
     ]
    },
    {
     "name": "stdout",
     "output_type": "stream",
     "text": [
      "epoch 167| loss: 0.19665 | train_mse: 0.31155 | train_mae: 0.35015 |  0:06:52s\n"
     ]
    },
    {
     "name": "stdout",
     "output_type": "stream",
     "text": [
      "epoch 168| loss: 0.19754 | train_mse: 0.26264 | train_mae: 0.3506  |  0:06:54s\n"
     ]
    },
    {
     "name": "stdout",
     "output_type": "stream",
     "text": [
      "epoch 169| loss: 0.19575 | train_mse: 0.27752 | train_mae: 0.35968 |  0:06:56s\n"
     ]
    },
    {
     "name": "stdout",
     "output_type": "stream",
     "text": [
      "epoch 170| loss: 0.19484 | train_mse: 0.28328 | train_mae: 0.35492 |  0:06:59s\n"
     ]
    },
    {
     "name": "stdout",
     "output_type": "stream",
     "text": [
      "epoch 171| loss: 0.19892 | train_mse: 0.31399 | train_mae: 0.3613  |  0:07:01s\n"
     ]
    },
    {
     "name": "stdout",
     "output_type": "stream",
     "text": [
      "epoch 172| loss: 0.19574 | train_mse: 0.28109 | train_mae: 0.35742 |  0:07:04s\n"
     ]
    },
    {
     "name": "stdout",
     "output_type": "stream",
     "text": [
      "epoch 173| loss: 0.19951 | train_mse: 0.30948 | train_mae: 0.38599 |  0:07:06s\n"
     ]
    },
    {
     "name": "stdout",
     "output_type": "stream",
     "text": [
      "epoch 174| loss: 0.1949  | train_mse: 0.31658 | train_mae: 0.36011 |  0:07:08s\n"
     ]
    },
    {
     "name": "stdout",
     "output_type": "stream",
     "text": [
      "epoch 175| loss: 0.19848 | train_mse: 0.28322 | train_mae: 0.34754 |  0:07:11s\n"
     ]
    },
    {
     "name": "stdout",
     "output_type": "stream",
     "text": [
      "epoch 176| loss: 0.19167 | train_mse: 0.30161 | train_mae: 0.36148 |  0:07:13s\n"
     ]
    },
    {
     "name": "stdout",
     "output_type": "stream",
     "text": [
      "epoch 177| loss: 0.19233 | train_mse: 0.26735 | train_mae: 0.35974 |  0:07:16s\n"
     ]
    },
    {
     "name": "stdout",
     "output_type": "stream",
     "text": [
      "epoch 178| loss: 0.19772 | train_mse: 0.2873  | train_mae: 0.35064 |  0:07:18s\n"
     ]
    },
    {
     "name": "stdout",
     "output_type": "stream",
     "text": [
      "epoch 179| loss: 0.19162 | train_mse: 0.31126 | train_mae: 0.36031 |  0:07:21s\n"
     ]
    },
    {
     "name": "stdout",
     "output_type": "stream",
     "text": [
      "epoch 180| loss: 0.19457 | train_mse: 0.33438 | train_mae: 0.36942 |  0:07:23s\n"
     ]
    },
    {
     "name": "stdout",
     "output_type": "stream",
     "text": [
      "epoch 181| loss: 0.19766 | train_mse: 0.32226 | train_mae: 0.36187 |  0:07:26s\n"
     ]
    },
    {
     "name": "stdout",
     "output_type": "stream",
     "text": [
      "epoch 182| loss: 0.19338 | train_mse: 0.33662 | train_mae: 0.37837 |  0:07:28s\n"
     ]
    },
    {
     "name": "stdout",
     "output_type": "stream",
     "text": [
      "epoch 183| loss: 0.19057 | train_mse: 0.28544 | train_mae: 0.36345 |  0:07:30s\n"
     ]
    },
    {
     "name": "stdout",
     "output_type": "stream",
     "text": [
      "epoch 184| loss: 0.19438 | train_mse: 0.30638 | train_mae: 0.35607 |  0:07:33s\n"
     ]
    },
    {
     "name": "stdout",
     "output_type": "stream",
     "text": [
      "epoch 185| loss: 0.19964 | train_mse: 0.28426 | train_mae: 0.35023 |  0:07:35s\n"
     ]
    },
    {
     "name": "stdout",
     "output_type": "stream",
     "text": [
      "epoch 186| loss: 0.19603 | train_mse: 0.28184 | train_mae: 0.34851 |  0:07:38s\n"
     ]
    },
    {
     "name": "stdout",
     "output_type": "stream",
     "text": [
      "epoch 187| loss: 0.1962  | train_mse: 0.30362 | train_mae: 0.35312 |  0:07:40s\n"
     ]
    },
    {
     "name": "stdout",
     "output_type": "stream",
     "text": [
      "epoch 188| loss: 0.19247 | train_mse: 0.26151 | train_mae: 0.33485 |  0:07:42s\n"
     ]
    },
    {
     "name": "stdout",
     "output_type": "stream",
     "text": [
      "epoch 189| loss: 0.19348 | train_mse: 0.33531 | train_mae: 0.37487 |  0:07:45s\n"
     ]
    },
    {
     "name": "stdout",
     "output_type": "stream",
     "text": [
      "epoch 190| loss: 0.20291 | train_mse: 0.27482 | train_mae: 0.34433 |  0:07:47s\n"
     ]
    },
    {
     "name": "stdout",
     "output_type": "stream",
     "text": [
      "epoch 191| loss: 0.19615 | train_mse: 0.33736 | train_mae: 0.36931 |  0:07:50s\n"
     ]
    },
    {
     "name": "stdout",
     "output_type": "stream",
     "text": [
      "epoch 192| loss: 0.1918  | train_mse: 0.27538 | train_mae: 0.36342 |  0:07:52s\n"
     ]
    },
    {
     "name": "stdout",
     "output_type": "stream",
     "text": [
      "epoch 193| loss: 0.1888  | train_mse: 0.27239 | train_mae: 0.34782 |  0:07:55s\n"
     ]
    },
    {
     "name": "stdout",
     "output_type": "stream",
     "text": [
      "epoch 194| loss: 0.19271 | train_mse: 0.27738 | train_mae: 0.34018 |  0:07:57s\n"
     ]
    },
    {
     "name": "stdout",
     "output_type": "stream",
     "text": [
      "epoch 195| loss: 0.18948 | train_mse: 0.27635 | train_mae: 0.35056 |  0:08:00s\n"
     ]
    },
    {
     "name": "stdout",
     "output_type": "stream",
     "text": [
      "epoch 196| loss: 0.19594 | train_mse: 0.2907  | train_mae: 0.35228 |  0:08:02s\n"
     ]
    },
    {
     "name": "stdout",
     "output_type": "stream",
     "text": [
      "epoch 197| loss: 0.19164 | train_mse: 0.28167 | train_mae: 0.34857 |  0:08:04s\n"
     ]
    },
    {
     "name": "stdout",
     "output_type": "stream",
     "text": [
      "epoch 198| loss: 0.19544 | train_mse: 0.27837 | train_mae: 0.34063 |  0:08:07s\n"
     ]
    },
    {
     "name": "stdout",
     "output_type": "stream",
     "text": [
      "epoch 199| loss: 0.19175 | train_mse: 0.2753  | train_mae: 0.35222 |  0:08:09s\n"
     ]
    },
    {
     "name": "stdout",
     "output_type": "stream",
     "text": [
      "epoch 200| loss: 0.19148 | train_mse: 0.30381 | train_mae: 0.35839 |  0:08:12s\n"
     ]
    },
    {
     "name": "stdout",
     "output_type": "stream",
     "text": [
      "epoch 201| loss: 0.19064 | train_mse: 0.29033 | train_mae: 0.34109 |  0:08:14s\n"
     ]
    },
    {
     "name": "stdout",
     "output_type": "stream",
     "text": [
      "epoch 202| loss: 0.18978 | train_mse: 0.27121 | train_mae: 0.33737 |  0:08:17s\n"
     ]
    },
    {
     "name": "stdout",
     "output_type": "stream",
     "text": [
      "epoch 203| loss: 0.19094 | train_mse: 0.32654 | train_mae: 0.36539 |  0:08:19s\n"
     ]
    },
    {
     "name": "stdout",
     "output_type": "stream",
     "text": [
      "epoch 204| loss: 0.19017 | train_mse: 0.26268 | train_mae: 0.34955 |  0:08:22s\n"
     ]
    },
    {
     "name": "stdout",
     "output_type": "stream",
     "text": [
      "epoch 205| loss: 0.18992 | train_mse: 0.25774 | train_mae: 0.34194 |  0:08:24s\n"
     ]
    },
    {
     "name": "stdout",
     "output_type": "stream",
     "text": [
      "epoch 206| loss: 0.18944 | train_mse: 0.29921 | train_mae: 0.35066 |  0:08:27s\n"
     ]
    },
    {
     "name": "stdout",
     "output_type": "stream",
     "text": [
      "epoch 207| loss: 0.19011 | train_mse: 0.29501 | train_mae: 0.35865 |  0:08:29s\n"
     ]
    },
    {
     "name": "stdout",
     "output_type": "stream",
     "text": [
      "epoch 208| loss: 0.19439 | train_mse: 0.24672 | train_mae: 0.3341  |  0:08:32s\n"
     ]
    },
    {
     "name": "stdout",
     "output_type": "stream",
     "text": [
      "epoch 209| loss: 0.19122 | train_mse: 0.29797 | train_mae: 0.35625 |  0:08:34s\n"
     ]
    },
    {
     "name": "stdout",
     "output_type": "stream",
     "text": [
      "epoch 210| loss: 0.18533 | train_mse: 0.26232 | train_mae: 0.33926 |  0:08:37s\n"
     ]
    },
    {
     "name": "stdout",
     "output_type": "stream",
     "text": [
      "epoch 211| loss: 0.18891 | train_mse: 0.26955 | train_mae: 0.35061 |  0:08:39s\n"
     ]
    },
    {
     "name": "stdout",
     "output_type": "stream",
     "text": [
      "epoch 212| loss: 0.19321 | train_mse: 0.26603 | train_mae: 0.36066 |  0:08:41s\n"
     ]
    },
    {
     "name": "stdout",
     "output_type": "stream",
     "text": [
      "epoch 213| loss: 0.1906  | train_mse: 0.25217 | train_mae: 0.34129 |  0:08:44s\n"
     ]
    },
    {
     "name": "stdout",
     "output_type": "stream",
     "text": [
      "epoch 214| loss: 0.18847 | train_mse: 0.29623 | train_mae: 0.37019 |  0:08:46s\n"
     ]
    },
    {
     "name": "stdout",
     "output_type": "stream",
     "text": [
      "epoch 215| loss: 0.18875 | train_mse: 0.25513 | train_mae: 0.33448 |  0:08:49s\n"
     ]
    },
    {
     "name": "stdout",
     "output_type": "stream",
     "text": [
      "epoch 216| loss: 0.18536 | train_mse: 0.30511 | train_mae: 0.35698 |  0:08:51s\n"
     ]
    },
    {
     "name": "stdout",
     "output_type": "stream",
     "text": [
      "epoch 217| loss: 0.18866 | train_mse: 0.28526 | train_mae: 0.35291 |  0:08:54s\n"
     ]
    },
    {
     "name": "stdout",
     "output_type": "stream",
     "text": [
      "epoch 218| loss: 0.18912 | train_mse: 0.29246 | train_mae: 0.3492  |  0:08:56s\n"
     ]
    },
    {
     "name": "stdout",
     "output_type": "stream",
     "text": [
      "epoch 219| loss: 0.18649 | train_mse: 0.25219 | train_mae: 0.33537 |  0:08:59s\n"
     ]
    },
    {
     "name": "stdout",
     "output_type": "stream",
     "text": [
      "epoch 220| loss: 0.18849 | train_mse: 0.29994 | train_mae: 0.36678 |  0:09:01s\n"
     ]
    },
    {
     "name": "stdout",
     "output_type": "stream",
     "text": [
      "epoch 221| loss: 0.1878  | train_mse: 0.28787 | train_mae: 0.3619  |  0:09:04s\n"
     ]
    },
    {
     "name": "stdout",
     "output_type": "stream",
     "text": [
      "epoch 222| loss: 0.18444 | train_mse: 0.30423 | train_mae: 0.36054 |  0:09:06s\n"
     ]
    },
    {
     "name": "stdout",
     "output_type": "stream",
     "text": [
      "epoch 223| loss: 0.18977 | train_mse: 0.27924 | train_mae: 0.33792 |  0:09:09s\n"
     ]
    },
    {
     "name": "stdout",
     "output_type": "stream",
     "text": [
      "epoch 224| loss: 0.19063 | train_mse: 0.26388 | train_mae: 0.33859 |  0:09:11s\n"
     ]
    },
    {
     "name": "stdout",
     "output_type": "stream",
     "text": [
      "epoch 225| loss: 0.1885  | train_mse: 0.25709 | train_mae: 0.34768 |  0:09:13s\n"
     ]
    },
    {
     "name": "stdout",
     "output_type": "stream",
     "text": [
      "epoch 226| loss: 0.18607 | train_mse: 0.2895  | train_mae: 0.35237 |  0:09:16s\n"
     ]
    },
    {
     "name": "stdout",
     "output_type": "stream",
     "text": [
      "epoch 227| loss: 0.18772 | train_mse: 0.2737  | train_mae: 0.34253 |  0:09:18s\n"
     ]
    },
    {
     "name": "stdout",
     "output_type": "stream",
     "text": [
      "epoch 228| loss: 0.18921 | train_mse: 0.28452 | train_mae: 0.34791 |  0:09:21s\n"
     ]
    },
    {
     "name": "stdout",
     "output_type": "stream",
     "text": [
      "epoch 229| loss: 0.18758 | train_mse: 0.2736  | train_mae: 0.34777 |  0:09:23s\n"
     ]
    },
    {
     "name": "stdout",
     "output_type": "stream",
     "text": [
      "epoch 230| loss: 0.18809 | train_mse: 0.30296 | train_mae: 0.3518  |  0:09:26s\n"
     ]
    },
    {
     "name": "stdout",
     "output_type": "stream",
     "text": [
      "epoch 231| loss: 0.18598 | train_mse: 0.28513 | train_mae: 0.36214 |  0:09:28s\n"
     ]
    },
    {
     "name": "stdout",
     "output_type": "stream",
     "text": [
      "epoch 232| loss: 0.18168 | train_mse: 0.28985 | train_mae: 0.35099 |  0:09:30s\n"
     ]
    },
    {
     "name": "stdout",
     "output_type": "stream",
     "text": [
      "epoch 233| loss: 0.18532 | train_mse: 0.27759 | train_mae: 0.35271 |  0:09:33s\n"
     ]
    },
    {
     "name": "stdout",
     "output_type": "stream",
     "text": [
      "epoch 234| loss: 0.18587 | train_mse: 0.2686  | train_mae: 0.33807 |  0:09:35s\n"
     ]
    },
    {
     "name": "stdout",
     "output_type": "stream",
     "text": [
      "epoch 235| loss: 0.19134 | train_mse: 0.27912 | train_mae: 0.35162 |  0:09:38s\n"
     ]
    },
    {
     "name": "stdout",
     "output_type": "stream",
     "text": [
      "epoch 236| loss: 0.18467 | train_mse: 0.25244 | train_mae: 0.34529 |  0:09:40s\n"
     ]
    },
    {
     "name": "stdout",
     "output_type": "stream",
     "text": [
      "epoch 237| loss: 0.18746 | train_mse: 0.29141 | train_mae: 0.35075 |  0:09:43s\n"
     ]
    },
    {
     "name": "stdout",
     "output_type": "stream",
     "text": [
      "epoch 238| loss: 0.18412 | train_mse: 0.26264 | train_mae: 0.35241 |  0:09:45s\n"
     ]
    },
    {
     "name": "stdout",
     "output_type": "stream",
     "text": [
      "epoch 239| loss: 0.18781 | train_mse: 0.27013 | train_mae: 0.34247 |  0:09:47s\n"
     ]
    },
    {
     "name": "stdout",
     "output_type": "stream",
     "text": [
      "epoch 240| loss: 0.19079 | train_mse: 0.30287 | train_mae: 0.35192 |  0:09:50s\n"
     ]
    },
    {
     "name": "stdout",
     "output_type": "stream",
     "text": [
      "epoch 241| loss: 0.18793 | train_mse: 0.30501 | train_mae: 0.35133 |  0:09:52s\n"
     ]
    },
    {
     "name": "stdout",
     "output_type": "stream",
     "text": [
      "epoch 242| loss: 0.1898  | train_mse: 0.31461 | train_mae: 0.3731  |  0:09:55s\n"
     ]
    },
    {
     "name": "stdout",
     "output_type": "stream",
     "text": [
      "epoch 243| loss: 0.18552 | train_mse: 0.26265 | train_mae: 0.34294 |  0:09:57s\n"
     ]
    },
    {
     "name": "stdout",
     "output_type": "stream",
     "text": [
      "epoch 244| loss: 0.18311 | train_mse: 0.26501 | train_mae: 0.34534 |  0:10:00s\n"
     ]
    },
    {
     "name": "stdout",
     "output_type": "stream",
     "text": [
      "epoch 245| loss: 0.18487 | train_mse: 0.28587 | train_mae: 0.33849 |  0:10:02s\n"
     ]
    },
    {
     "name": "stdout",
     "output_type": "stream",
     "text": [
      "epoch 246| loss: 0.18863 | train_mse: 0.30574 | train_mae: 0.36305 |  0:10:05s\n"
     ]
    },
    {
     "name": "stdout",
     "output_type": "stream",
     "text": [
      "epoch 247| loss: 0.18108 | train_mse: 0.2906  | train_mae: 0.37077 |  0:10:07s\n"
     ]
    },
    {
     "name": "stdout",
     "output_type": "stream",
     "text": [
      "epoch 248| loss: 0.18448 | train_mse: 0.26671 | train_mae: 0.3434  |  0:10:10s\n"
     ]
    },
    {
     "name": "stdout",
     "output_type": "stream",
     "text": [
      "epoch 249| loss: 0.18382 | train_mse: 0.25396 | train_mae: 0.34413 |  0:10:12s\n"
     ]
    },
    {
     "name": "stdout",
     "output_type": "stream",
     "text": [
      "epoch 250| loss: 0.18595 | train_mse: 0.28873 | train_mae: 0.36681 |  0:10:14s\n"
     ]
    },
    {
     "name": "stdout",
     "output_type": "stream",
     "text": [
      "epoch 251| loss: 0.18348 | train_mse: 0.27022 | train_mae: 0.33958 |  0:10:17s\n"
     ]
    },
    {
     "name": "stdout",
     "output_type": "stream",
     "text": [
      "epoch 252| loss: 0.18376 | train_mse: 0.25419 | train_mae: 0.33228 |  0:10:20s\n"
     ]
    },
    {
     "name": "stdout",
     "output_type": "stream",
     "text": [
      "epoch 253| loss: 0.18435 | train_mse: 0.2782  | train_mae: 0.35151 |  0:10:22s\n"
     ]
    },
    {
     "name": "stdout",
     "output_type": "stream",
     "text": [
      "epoch 254| loss: 0.18381 | train_mse: 0.27715 | train_mae: 0.34251 |  0:10:24s\n"
     ]
    },
    {
     "name": "stdout",
     "output_type": "stream",
     "text": [
      "epoch 255| loss: 0.18136 | train_mse: 0.31065 | train_mae: 0.35331 |  0:10:27s\n"
     ]
    },
    {
     "name": "stdout",
     "output_type": "stream",
     "text": [
      "epoch 256| loss: 0.18349 | train_mse: 0.25721 | train_mae: 0.3427  |  0:10:29s\n"
     ]
    },
    {
     "name": "stdout",
     "output_type": "stream",
     "text": [
      "epoch 257| loss: 0.18435 | train_mse: 0.30644 | train_mae: 0.3531  |  0:10:32s\n"
     ]
    },
    {
     "name": "stdout",
     "output_type": "stream",
     "text": [
      "epoch 258| loss: 0.18431 | train_mse: 0.28814 | train_mae: 0.34426 |  0:10:34s\n"
     ]
    },
    {
     "name": "stdout",
     "output_type": "stream",
     "text": [
      "epoch 259| loss: 0.18479 | train_mse: 0.33384 | train_mae: 0.37383 |  0:10:37s\n"
     ]
    },
    {
     "name": "stdout",
     "output_type": "stream",
     "text": [
      "epoch 260| loss: 0.18762 | train_mse: 0.2651  | train_mae: 0.34734 |  0:10:39s\n"
     ]
    },
    {
     "name": "stdout",
     "output_type": "stream",
     "text": [
      "epoch 261| loss: 0.18804 | train_mse: 0.2862  | train_mae: 0.34358 |  0:10:41s\n"
     ]
    },
    {
     "name": "stdout",
     "output_type": "stream",
     "text": [
      "epoch 262| loss: 0.18354 | train_mse: 0.25053 | train_mae: 0.33562 |  0:10:44s\n"
     ]
    },
    {
     "name": "stdout",
     "output_type": "stream",
     "text": [
      "epoch 263| loss: 0.18089 | train_mse: 0.33013 | train_mae: 0.37531 |  0:10:46s\n"
     ]
    },
    {
     "name": "stdout",
     "output_type": "stream",
     "text": [
      "epoch 264| loss: 0.18583 | train_mse: 0.26264 | train_mae: 0.34893 |  0:10:49s\n"
     ]
    },
    {
     "name": "stdout",
     "output_type": "stream",
     "text": [
      "epoch 265| loss: 0.18206 | train_mse: 0.28884 | train_mae: 0.35072 |  0:10:51s\n"
     ]
    },
    {
     "name": "stdout",
     "output_type": "stream",
     "text": [
      "epoch 266| loss: 0.18251 | train_mse: 0.27434 | train_mae: 0.35218 |  0:10:54s\n"
     ]
    },
    {
     "name": "stdout",
     "output_type": "stream",
     "text": [
      "epoch 267| loss: 0.18029 | train_mse: 0.27683 | train_mae: 0.35182 |  0:10:56s\n"
     ]
    },
    {
     "name": "stdout",
     "output_type": "stream",
     "text": [
      "epoch 268| loss: 0.18929 | train_mse: 0.26501 | train_mae: 0.35287 |  0:10:59s\n"
     ]
    },
    {
     "name": "stdout",
     "output_type": "stream",
     "text": [
      "epoch 269| loss: 0.18724 | train_mse: 0.25458 | train_mae: 0.3449  |  0:11:01s\n"
     ]
    },
    {
     "name": "stdout",
     "output_type": "stream",
     "text": [
      "epoch 270| loss: 0.18901 | train_mse: 0.27905 | train_mae: 0.33902 |  0:11:04s\n"
     ]
    },
    {
     "name": "stdout",
     "output_type": "stream",
     "text": [
      "epoch 271| loss: 0.18763 | train_mse: 0.31275 | train_mae: 0.36597 |  0:11:06s\n"
     ]
    },
    {
     "name": "stdout",
     "output_type": "stream",
     "text": [
      "epoch 272| loss: 0.18245 | train_mse: 0.2883  | train_mae: 0.35063 |  0:11:08s\n"
     ]
    },
    {
     "name": "stdout",
     "output_type": "stream",
     "text": [
      "epoch 273| loss: 0.17935 | train_mse: 0.26683 | train_mae: 0.33818 |  0:11:11s\n"
     ]
    },
    {
     "name": "stdout",
     "output_type": "stream",
     "text": [
      "epoch 274| loss: 0.18042 | train_mse: 0.28551 | train_mae: 0.34381 |  0:11:13s\n"
     ]
    },
    {
     "name": "stdout",
     "output_type": "stream",
     "text": [
      "epoch 275| loss: 0.18528 | train_mse: 0.29196 | train_mae: 0.35142 |  0:11:16s\n"
     ]
    },
    {
     "name": "stdout",
     "output_type": "stream",
     "text": [
      "epoch 276| loss: 0.18318 | train_mse: 0.27641 | train_mae: 0.34781 |  0:11:18s\n"
     ]
    },
    {
     "name": "stdout",
     "output_type": "stream",
     "text": [
      "epoch 277| loss: 0.18058 | train_mse: 0.2862  | train_mae: 0.36024 |  0:11:21s\n"
     ]
    },
    {
     "name": "stdout",
     "output_type": "stream",
     "text": [
      "epoch 278| loss: 0.18593 | train_mse: 0.26719 | train_mae: 0.34342 |  0:11:23s\n"
     ]
    },
    {
     "name": "stdout",
     "output_type": "stream",
     "text": [
      "epoch 279| loss: 0.18423 | train_mse: 0.27961 | train_mae: 0.35071 |  0:11:25s\n"
     ]
    },
    {
     "name": "stdout",
     "output_type": "stream",
     "text": [
      "epoch 280| loss: 0.18046 | train_mse: 0.27741 | train_mae: 0.34412 |  0:11:28s\n"
     ]
    },
    {
     "name": "stdout",
     "output_type": "stream",
     "text": [
      "epoch 281| loss: 0.18304 | train_mse: 0.29268 | train_mae: 0.34748 |  0:11:30s\n"
     ]
    },
    {
     "name": "stdout",
     "output_type": "stream",
     "text": [
      "epoch 282| loss: 0.17879 | train_mse: 0.26665 | train_mae: 0.33145 |  0:11:33s\n"
     ]
    },
    {
     "name": "stdout",
     "output_type": "stream",
     "text": [
      "epoch 283| loss: 0.1814  | train_mse: 0.26141 | train_mae: 0.33414 |  0:11:35s\n"
     ]
    },
    {
     "name": "stdout",
     "output_type": "stream",
     "text": [
      "epoch 284| loss: 0.18201 | train_mse: 0.30427 | train_mae: 0.35658 |  0:11:38s\n"
     ]
    },
    {
     "name": "stdout",
     "output_type": "stream",
     "text": [
      "epoch 285| loss: 0.18114 | train_mse: 0.274   | train_mae: 0.34853 |  0:11:40s\n"
     ]
    },
    {
     "name": "stdout",
     "output_type": "stream",
     "text": [
      "epoch 286| loss: 0.17845 | train_mse: 0.27267 | train_mae: 0.34444 |  0:11:42s\n"
     ]
    },
    {
     "name": "stdout",
     "output_type": "stream",
     "text": [
      "epoch 287| loss: 0.18161 | train_mse: 0.30301 | train_mae: 0.35095 |  0:11:45s\n"
     ]
    },
    {
     "name": "stdout",
     "output_type": "stream",
     "text": [
      "epoch 288| loss: 0.18201 | train_mse: 0.29878 | train_mae: 0.35586 |  0:11:47s\n"
     ]
    },
    {
     "name": "stdout",
     "output_type": "stream",
     "text": [
      "epoch 289| loss: 0.17735 | train_mse: 0.28623 | train_mae: 0.34549 |  0:11:50s\n"
     ]
    },
    {
     "name": "stdout",
     "output_type": "stream",
     "text": [
      "epoch 290| loss: 0.17627 | train_mse: 0.27269 | train_mae: 0.34013 |  0:11:52s\n"
     ]
    },
    {
     "name": "stdout",
     "output_type": "stream",
     "text": [
      "epoch 291| loss: 0.18199 | train_mse: 0.27871 | train_mae: 0.34814 |  0:11:55s\n"
     ]
    },
    {
     "name": "stdout",
     "output_type": "stream",
     "text": [
      "epoch 292| loss: 0.18492 | train_mse: 0.28804 | train_mae: 0.34443 |  0:11:57s\n"
     ]
    },
    {
     "name": "stdout",
     "output_type": "stream",
     "text": [
      "epoch 293| loss: 0.1792  | train_mse: 0.2918  | train_mae: 0.34839 |  0:11:59s\n"
     ]
    },
    {
     "name": "stdout",
     "output_type": "stream",
     "text": [
      "epoch 294| loss: 0.18036 | train_mse: 0.27276 | train_mae: 0.3558  |  0:12:02s\n"
     ]
    },
    {
     "name": "stdout",
     "output_type": "stream",
     "text": [
      "epoch 295| loss: 0.1783  | train_mse: 0.27629 | train_mae: 0.34358 |  0:12:04s\n"
     ]
    },
    {
     "name": "stdout",
     "output_type": "stream",
     "text": [
      "epoch 296| loss: 0.18331 | train_mse: 0.28315 | train_mae: 0.36459 |  0:12:07s\n"
     ]
    },
    {
     "name": "stdout",
     "output_type": "stream",
     "text": [
      "epoch 297| loss: 0.1819  | train_mse: 0.26865 | train_mae: 0.34303 |  0:12:09s\n"
     ]
    },
    {
     "name": "stdout",
     "output_type": "stream",
     "text": [
      "epoch 298| loss: 0.17974 | train_mse: 0.27852 | train_mae: 0.35558 |  0:12:12s\n"
     ]
    },
    {
     "name": "stdout",
     "output_type": "stream",
     "text": [
      "epoch 299| loss: 0.17839 | train_mse: 0.29235 | train_mae: 0.34603 |  0:12:14s\n"
     ]
    },
    {
     "name": "stdout",
     "output_type": "stream",
     "text": [
      "epoch 300| loss: 0.17637 | train_mse: 0.29472 | train_mae: 0.35787 |  0:12:16s\n"
     ]
    },
    {
     "name": "stdout",
     "output_type": "stream",
     "text": [
      "epoch 301| loss: 0.17873 | train_mse: 0.25048 | train_mae: 0.33582 |  0:12:19s\n"
     ]
    },
    {
     "name": "stdout",
     "output_type": "stream",
     "text": [
      "epoch 302| loss: 0.17966 | train_mse: 0.26251 | train_mae: 0.35325 |  0:12:21s\n"
     ]
    },
    {
     "name": "stdout",
     "output_type": "stream",
     "text": [
      "epoch 303| loss: 0.17955 | train_mse: 0.30682 | train_mae: 0.36244 |  0:12:24s\n"
     ]
    },
    {
     "name": "stdout",
     "output_type": "stream",
     "text": [
      "epoch 304| loss: 0.17246 | train_mse: 0.28577 | train_mae: 0.35283 |  0:12:26s\n"
     ]
    },
    {
     "name": "stdout",
     "output_type": "stream",
     "text": [
      "epoch 305| loss: 0.1766  | train_mse: 0.2991  | train_mae: 0.3595  |  0:12:29s\n"
     ]
    },
    {
     "name": "stdout",
     "output_type": "stream",
     "text": [
      "epoch 306| loss: 0.17798 | train_mse: 0.26685 | train_mae: 0.33813 |  0:12:31s\n"
     ]
    },
    {
     "name": "stdout",
     "output_type": "stream",
     "text": [
      "epoch 307| loss: 0.17911 | train_mse: 0.30504 | train_mae: 0.36425 |  0:12:33s\n"
     ]
    },
    {
     "name": "stdout",
     "output_type": "stream",
     "text": [
      "epoch 308| loss: 0.17754 | train_mse: 0.30851 | train_mae: 0.35427 |  0:12:36s\n"
     ]
    },
    {
     "name": "stdout",
     "output_type": "stream",
     "text": [
      "epoch 309| loss: 0.18079 | train_mse: 0.27338 | train_mae: 0.35223 |  0:12:38s\n"
     ]
    },
    {
     "name": "stdout",
     "output_type": "stream",
     "text": [
      "epoch 310| loss: 0.17994 | train_mse: 0.2696  | train_mae: 0.34128 |  0:12:41s\n"
     ]
    },
    {
     "name": "stdout",
     "output_type": "stream",
     "text": [
      "epoch 311| loss: 0.17799 | train_mse: 0.26008 | train_mae: 0.33533 |  0:12:43s\n"
     ]
    },
    {
     "name": "stdout",
     "output_type": "stream",
     "text": [
      "epoch 312| loss: 0.17686 | train_mse: 0.25333 | train_mae: 0.33973 |  0:12:46s\n"
     ]
    },
    {
     "name": "stdout",
     "output_type": "stream",
     "text": [
      "epoch 313| loss: 0.17612 | train_mse: 0.25388 | train_mae: 0.3347  |  0:12:48s\n"
     ]
    },
    {
     "name": "stdout",
     "output_type": "stream",
     "text": [
      "epoch 314| loss: 0.18163 | train_mse: 0.29822 | train_mae: 0.35385 |  0:12:51s\n"
     ]
    },
    {
     "name": "stdout",
     "output_type": "stream",
     "text": [
      "epoch 315| loss: 0.17522 | train_mse: 0.27915 | train_mae: 0.33552 |  0:12:53s\n"
     ]
    },
    {
     "name": "stdout",
     "output_type": "stream",
     "text": [
      "epoch 316| loss: 0.17774 | train_mse: 0.25334 | train_mae: 0.349   |  0:12:55s\n"
     ]
    },
    {
     "name": "stdout",
     "output_type": "stream",
     "text": [
      "epoch 317| loss: 0.17494 | train_mse: 0.26169 | train_mae: 0.34231 |  0:12:58s\n"
     ]
    },
    {
     "name": "stdout",
     "output_type": "stream",
     "text": [
      "epoch 318| loss: 0.1792  | train_mse: 0.27369 | train_mae: 0.3399  |  0:13:00s\n"
     ]
    },
    {
     "name": "stdout",
     "output_type": "stream",
     "text": [
      "epoch 319| loss: 0.17924 | train_mse: 0.26722 | train_mae: 0.33491 |  0:13:03s\n"
     ]
    },
    {
     "name": "stdout",
     "output_type": "stream",
     "text": [
      "epoch 320| loss: 0.17545 | train_mse: 0.30141 | train_mae: 0.3547  |  0:13:05s\n"
     ]
    },
    {
     "name": "stdout",
     "output_type": "stream",
     "text": [
      "epoch 321| loss: 0.1783  | train_mse: 0.26146 | train_mae: 0.35072 |  0:13:08s\n"
     ]
    },
    {
     "name": "stdout",
     "output_type": "stream",
     "text": [
      "epoch 322| loss: 0.17575 | train_mse: 0.29024 | train_mae: 0.356   |  0:13:10s\n"
     ]
    },
    {
     "name": "stdout",
     "output_type": "stream",
     "text": [
      "epoch 323| loss: 0.1759  | train_mse: 0.24486 | train_mae: 0.33704 |  0:13:13s\n"
     ]
    },
    {
     "name": "stdout",
     "output_type": "stream",
     "text": [
      "epoch 324| loss: 0.17726 | train_mse: 0.28455 | train_mae: 0.35592 |  0:13:15s\n"
     ]
    },
    {
     "name": "stdout",
     "output_type": "stream",
     "text": [
      "epoch 325| loss: 0.18057 | train_mse: 0.24128 | train_mae: 0.33741 |  0:13:17s\n"
     ]
    },
    {
     "name": "stdout",
     "output_type": "stream",
     "text": [
      "epoch 326| loss: 0.17542 | train_mse: 0.25923 | train_mae: 0.33412 |  0:13:20s\n"
     ]
    },
    {
     "name": "stdout",
     "output_type": "stream",
     "text": [
      "epoch 327| loss: 0.17901 | train_mse: 0.26229 | train_mae: 0.33533 |  0:13:22s\n"
     ]
    },
    {
     "name": "stdout",
     "output_type": "stream",
     "text": [
      "epoch 328| loss: 0.17692 | train_mse: 0.28695 | train_mae: 0.34514 |  0:13:25s\n"
     ]
    },
    {
     "name": "stdout",
     "output_type": "stream",
     "text": [
      "epoch 329| loss: 0.17654 | train_mse: 0.27925 | train_mae: 0.35252 |  0:13:27s\n"
     ]
    },
    {
     "name": "stdout",
     "output_type": "stream",
     "text": [
      "epoch 330| loss: 0.18    | train_mse: 0.29968 | train_mae: 0.3476  |  0:13:30s\n"
     ]
    },
    {
     "name": "stdout",
     "output_type": "stream",
     "text": [
      "epoch 331| loss: 0.17725 | train_mse: 0.25715 | train_mae: 0.33635 |  0:13:32s\n"
     ]
    },
    {
     "name": "stdout",
     "output_type": "stream",
     "text": [
      "epoch 332| loss: 0.17781 | train_mse: 0.28521 | train_mae: 0.34277 |  0:13:34s\n",
      "\n",
      "Early stopping occurred at epoch 332 with best_epoch = 282 and best_train_mae = 0.33145\n",
      "Best weights from best epoch are automatically used!\n"
     ]
    },
    {
     "name": "stdout",
     "output_type": "stream",
     "text": [
      "BEST VALID SCORE FOR dataset : 0.33144804796579314\n",
      "FINAL TEST SCORE FOR dataset: 0.34238465121551276\n",
      "{'loss': [0.8295754362908445, 0.4347846214623414, 0.36843746923661047, 0.3419094882732214, 0.31518293097037675, 0.30159084025279487, 0.29025729520376337, 0.2797347697638725, 0.2812063067920449, 0.2766197469345359, 0.2800617070161094, 0.26958816076896, 0.2677143906900127, 0.2645773085974908, 0.26601438166559205, 0.2586262580729269, 0.25466400454210686, 0.2587979158689808, 0.2632579712211623, 0.2590153538441473, 0.24883223042007566, 0.24826982513416646, 0.2490511602440544, 0.25081404477588887, 0.25548680450103084, 0.2454479923544004, 0.24525912394819332, 0.25395862769710925, 0.2485837321872859, 0.24657540219698765, 0.24168574752271638, 0.23866947180078935, 0.24385267865750213, 0.24048556156398715, 0.2357133402842884, 0.239650568296743, 0.2397290725809659, 0.24129848390124564, 0.23414874423381893, 0.23489880469418312, 0.232861365458762, 0.2377468682536783, 0.2358343158812486, 0.23521183350289515, 0.2328938464092654, 0.2344540659078332, 0.23363417155982913, 0.23612605324087216, 0.23040446639060974, 0.23042498332585476, 0.2305032736802286, 0.2312545517618342, 0.23011044464832128, 0.23149275386980336, 0.23002840821133103, 0.22794616499612497, 0.22922495769899945, 0.22589378139769384, 0.22964097201362138, 0.22563654230546581, 0.22963059664696686, 0.23281563252441642, 0.22706160954264706, 0.23129477068897367, 0.22947731475497402, 0.22718276776546656, 0.22562437013600223, 0.22769928660041602, 0.2296190201774124, 0.22181654426940653, 0.22150633212669876, 0.2227649227824322, 0.22937575294527895, 0.22256730901178465, 0.21822488446568333, 0.21976223437823067, 0.2260554897230725, 0.2224220464857974, 0.2215593903101692, 0.22699844629265542, 0.2242230757955433, 0.2213021746670553, 0.21982927978500838, 0.22070781089538752, 0.2189018613146257, 0.2173579194286997, 0.2147667033727779, 0.2133908322615217, 0.21872481207052866, 0.21726795696010887, 0.21706633985966675, 0.21692063595897468, 0.21975870626841404, 0.21604626100192698, 0.21869499242120935, 0.21549833433110585, 0.2132072283547054, 0.21457158664400264, 0.21442233603592067, 0.21288812969082085, 0.21196416262970413, 0.21318449749965077, 0.21642880569132725, 0.21303864412529525, 0.20811507891314898, 0.21263241987357767, 0.21189564755258633, 0.20886059717614522, 0.20946714813395065, 0.2104161009770031, 0.21497997837935306, 0.21054946290430174, 0.21026212878005449, 0.20586552522903265, 0.21148470691008162, 0.21033915426842, 0.2090617225382679, 0.20903810997341954, 0.20722414691780888, 0.20837838150734125, 0.20521129194156143, 0.20933729017427724, 0.20616865400658096, 0.2067401009474614, 0.20801807385544444, 0.21183413209379187, 0.21081382382747738, 0.20430820013663564, 0.20225603023702785, 0.20225009922833406, 0.2037889600493187, 0.204822540398716, 0.20045118692309358, 0.2055353580057159, 0.20459932296775107, 0.2058406198440596, 0.2059945307036703, 0.2020713227201802, 0.19513056987477828, 0.2067623324403467, 0.20381531789321308, 0.205554971225964, 0.20085313893103784, 0.20328000003053237, 0.20583681508090146, 0.20173560094463733, 0.2036457704019177, 0.20281471820302713, 0.2047211599442386, 0.20575604397197103, 0.19905855835870254, 0.19781190861565198, 0.19689472366211025, 0.19904180090556772, 0.1998945483865664, 0.2012233049139496, 0.20292157258174215, 0.19905203199663826, 0.19948464816854905, 0.19867578680201095, 0.1990526163762854, 0.19869230849336283, 0.19593995289747104, 0.19391583426054135, 0.1988172324359879, 0.1955933170032132, 0.19716862733511958, 0.19664514145647832, 0.19753911767819132, 0.1957517222378605, 0.19484309193699859, 0.19892155165358108, 0.1957355143949967, 0.19950971111308696, 0.19489863780579825, 0.1984823507856029, 0.19166575476180675, 0.19232607234356014, 0.19772427095923312, 0.19161636769309526, 0.19456582776335782, 0.19766418012075646, 0.19337810102359268, 0.19057418972022774, 0.1943803960962813, 0.19964102049206578, 0.19602520960245945, 0.19619514105855956, 0.19246631930040758, 0.19347588648629743, 0.20290948877962986, 0.1961457516795905, 0.19179676473140717, 0.18880339209423508, 0.19270843388729314, 0.18948138407034468, 0.195941715855007, 0.19163607465204344, 0.19544378546781319, 0.1917469819155774, 0.19148301673951998, 0.19063624554826308, 0.18977936698022738, 0.19094289966331895, 0.19016779681970905, 0.189915655195251, 0.18944370504035507, 0.19010679643283518, 0.19439188489156176, 0.19121618892333303, 0.18532512458257897, 0.18891195271366326, 0.19320863519990167, 0.19060014684995016, 0.18846845176330831, 0.18875362995521042, 0.18535974887452383, 0.18866063065307084, 0.18911694972090018, 0.18649108719456103, 0.18849364431329477, 0.18779918516791144, 0.18444336223047833, 0.18977197057517, 0.1906296280465385, 0.18849601879600406, 0.18607236606668132, 0.18771568206391592, 0.1892055408206097, 0.18758179178071574, 0.18808877583622008, 0.18598067564095638, 0.18168424762958704, 0.18532133079314417, 0.18586921726548394, 0.19134044277575593, 0.18466523948103883, 0.1874569831199424, 0.18412312772846962, 0.18780867281810257, 0.190789655544037, 0.18793040398479433, 0.18980080455310586, 0.185520386742067, 0.1831109967342643, 0.18486831643322638, 0.18862925943478134, 0.18107886381389557, 0.18447829517283182, 0.18381569933059605, 0.18595325715782107, 0.1834802415019782, 0.18375954667265101, 0.18434523484965631, 0.18381457180939903, 0.18136359520198764, 0.1834904538799626, 0.1843516366310822, 0.18430734142776609, 0.18479297292786975, 0.187621637601261, 0.18803665584834048, 0.1835393347134886, 0.18088839405266813, 0.18582507921743763, 0.1820634938487711, 0.18251210000625875, 0.18029262610646182, 0.18929199481657308, 0.18723544697890912, 0.18900696436564127, 0.1876341906166816, 0.18244678070840908, 0.17935343606527462, 0.18042462082334268, 0.18528217816537665, 0.18318195502425347, 0.1805811875550322, 0.1859257154224455, 0.1842322802936384, 0.18046267896659615, 0.1830367918970973, 0.1787927668224009, 0.18139638491841248, 0.18200802987860154, 0.18113582413787996, 0.1784474359926327, 0.18161143524240153, 0.18200851641884147, 0.177353221547696, 0.1762724769438884, 0.1819931132386821, 0.18492406664430633, 0.17919738440550576, 0.18036151417466098, 0.17830242424510245, 0.183305714250535, 0.18190268594627232, 0.17974456832852476, 0.17839327108028324, 0.17636654982271122, 0.1787348919829657, 0.17966000031131182, 0.17955364529476608, 0.17246283613896182, 0.17659863621689553, 0.1779797339393187, 0.17911345321078637, 0.17753991715667783, 0.1807884273602981, 0.17994021918884542, 0.17799013876175696, 0.17685532038526017, 0.17611877042655796, 0.1816263176905092, 0.1752239623966143, 0.17773543194282884, 0.17493546078371447, 0.17920329265816265, 0.17924337250779765, 0.1754544743502787, 0.17829929153586543, 0.17575173160826513, 0.17589922480342923, 0.1772604701361915, 0.18056726600079573, 0.175416599294936, 0.1790130184602368, 0.17691771847795146, 0.17654232010822885, 0.18000036916991535, 0.17725475698478466, 0.17781460285186768], 'lr': [0.01, 0.01, 0.01, 0.01, 0.01, 0.01, 0.01, 0.01, 0.01, 0.01, 0.01, 0.01, 0.01, 0.01, 0.01, 0.01, 0.01, 0.01, 0.01, 0.01, 0.01, 0.01, 0.01, 0.01, 0.01, 0.01, 0.01, 0.01, 0.01, 0.01, 0.01, 0.01, 0.01, 0.01, 0.01, 0.01, 0.01, 0.01, 0.01, 0.01, 0.01, 0.01, 0.01, 0.01, 0.01, 0.01, 0.01, 0.01, 0.01, 0.01, 0.01, 0.01, 0.01, 0.01, 0.01, 0.01, 0.01, 0.01, 0.01, 0.01, 0.01, 0.01, 0.01, 0.01, 0.01, 0.01, 0.01, 0.01, 0.01, 0.01, 0.01, 0.01, 0.01, 0.01, 0.01, 0.01, 0.01, 0.01, 0.01, 0.01, 0.01, 0.01, 0.01, 0.01, 0.01, 0.01, 0.01, 0.01, 0.01, 0.01, 0.01, 0.01, 0.01, 0.01, 0.01, 0.01, 0.01, 0.01, 0.01, 0.01, 0.01, 0.01, 0.01, 0.01, 0.01, 0.01, 0.01, 0.01, 0.01, 0.01, 0.01, 0.01, 0.01, 0.01, 0.01, 0.01, 0.01, 0.01, 0.01, 0.01, 0.01, 0.01, 0.01, 0.01, 0.01, 0.01, 0.01, 0.01, 0.01, 0.01, 0.01, 0.01, 0.01, 0.01, 0.01, 0.01, 0.01, 0.01, 0.01, 0.01, 0.01, 0.01, 0.01, 0.01, 0.01, 0.01, 0.01, 0.01, 0.01, 0.01, 0.01, 0.01, 0.01, 0.01, 0.01, 0.01, 0.01, 0.01, 0.01, 0.01, 0.01, 0.01, 0.01, 0.01, 0.01, 0.01, 0.01, 0.01, 0.01, 0.01, 0.01, 0.01, 0.01, 0.01, 0.01, 0.01, 0.01, 0.01, 0.01, 0.01, 0.01, 0.01, 0.01, 0.01, 0.01, 0.01, 0.01, 0.01, 0.01, 0.01, 0.01, 0.01, 0.01, 0.01, 0.01, 0.01, 0.01, 0.01, 0.01, 0.01, 0.01, 0.01, 0.01, 0.01, 0.01, 0.01, 0.01, 0.01, 0.01, 0.01, 0.01, 0.01, 0.01, 0.01, 0.01, 0.01, 0.01, 0.01, 0.01, 0.01, 0.01, 0.01, 0.01, 0.01, 0.01, 0.01, 0.01, 0.01, 0.01, 0.01, 0.01, 0.01, 0.01, 0.01, 0.01, 0.01, 0.01, 0.01, 0.01, 0.01, 0.01, 0.01, 0.01, 0.01, 0.01, 0.01, 0.01, 0.01, 0.01, 0.01, 0.01, 0.01, 0.01, 0.01, 0.01, 0.01, 0.01, 0.01, 0.01, 0.01, 0.01, 0.01, 0.01, 0.01, 0.01, 0.01, 0.01, 0.01, 0.01, 0.01, 0.01, 0.01, 0.01, 0.01, 0.01, 0.01, 0.01, 0.01, 0.01, 0.01, 0.01, 0.01, 0.01, 0.01, 0.01, 0.01, 0.01, 0.01, 0.01, 0.01, 0.01, 0.01, 0.01, 0.01, 0.01, 0.01, 0.01, 0.01, 0.01, 0.01, 0.01, 0.01, 0.01, 0.01, 0.01, 0.01, 0.01, 0.01, 0.01, 0.01, 0.01, 0.01, 0.01, 0.01, 0.01, 0.01, 0.01, 0.01, 0.01, 0.01, 0.01, 0.01, 0.01, 0.01, 0.01, 0.01, 0.01, 0.01, 0.01, 0.01, 0.01, 0.01, 0.01], 'train_mse': [0.5427225565939513, 0.4420376763949984, 0.37778734747507436, 0.4299169690121303, 0.3601723476411922, 0.3783804305047362, 0.33710196562105416, 0.3795385038291868, 0.35238828099301844, 0.3865225855262976, 0.32251985630934615, 0.3197163321117854, 0.3395424409281481, 0.36597301454684183, 0.35380388417022524, 0.3458132109773534, 0.3166978257663082, 0.3166531981503412, 0.34102909813339644, 0.3351940480957154, 0.32217842329406887, 0.3374552116186675, 0.32997184309590083, 0.3156831865964589, 0.3206665687829538, 0.3185827490773164, 0.3220367745748839, 0.36329202931100857, 0.31449999937180784, 0.31150615695926104, 0.3291522062122372, 0.3914429903552156, 0.3186997079449569, 0.319562628267343, 0.33449112531276803, 0.3299026706699007, 0.32555579161268844, 0.3444766833521471, 0.31590946634948575, 0.32744891456455133, 0.32348920004221743, 0.3060663192970072, 0.330593177631711, 0.38102396701921737, 0.31159238284062174, 0.31555585192543506, 0.32982351620224876, 0.3259157081657573, 0.3479784237308842, 0.3173084701785068, 0.33391577270543743, 0.3474510205185553, 0.3242290890387016, 0.3197249138956754, 0.3284466566769502, 0.34158613218210854, 0.33065175711456013, 0.32658191287799826, 0.3162046732750448, 0.31929482257918096, 0.2947170429846123, 0.3227801835315894, 0.32820426497874705, 0.31821428636503624, 0.315634592847424, 0.32457055226967707, 0.32451425700184017, 0.31380387174684155, 0.34675990297804304, 0.31324188031865763, 0.3083418247347666, 0.3155605325558355, 0.31412680053437536, 0.3207788741109194, 0.3264190618322066, 0.2997875181471008, 0.32900444817072105, 0.381589503907639, 0.310128056204008, 0.4028472843115425, 0.3086364470376516, 0.36341523892158356, 0.3404926626803328, 0.3212813875737209, 0.2957900116566456, 0.35216494828453876, 0.31737310855409745, 0.32594340093118324, 0.305155063203758, 0.31138159670902416, 0.2938266313936613, 0.3595802715312735, 0.3027043786739949, 0.322638018469689, 0.3989790877139073, 0.3122449512469276, 0.2964528800941908, 0.31378755873278363, 0.3189024179306017, 0.2925627853641677, 0.2812672821964608, 0.30898312273530026, 0.297361903622726, 0.3208721077371475, 0.2969016884667548, 0.286696070711138, 0.3287759997277362, 0.2922620522206561, 0.28935597525454804, 0.34977194611085655, 0.28385477389255864, 0.3118268031734969, 0.2991179081707512, 0.2885196687060512, 0.3116877181436086, 0.31226192429072686, 0.320517784489514, 0.3448200261118949, 0.2765260610302088, 0.2715871193319047, 0.29998820015404803, 0.36557532419791694, 0.2979132677523464, 0.31913329865472473, 0.3023058307394378, 0.29095028920616434, 0.304493409348549, 0.31185311137592403, 0.3074600642618462, 0.3280334159703474, 0.2815984493358134, 0.28664960602322226, 0.3285045918066557, 0.29254343519655224, 0.30547819447437086, 0.2700898840923188, 0.28929252512598735, 0.30488856927512686, 0.27397933667834756, 0.3207108799830014, 0.28983610582937935, 0.2807616593367814, 0.2916970033653567, 0.2940818041399844, 0.30329089098002887, 0.31312792808038414, 0.31254826497365595, 0.27219891540952923, 0.2652703788691814, 0.3283559224940175, 0.342487927456569, 0.2681414112218206, 0.28954426880575196, 0.2743523129647108, 0.273206581611361, 0.34381382562308116, 0.28015977583755297, 0.27442557755985947, 0.30213159196794825, 0.286772111810591, 0.27801058156287056, 0.2833466666502843, 0.30674493837676403, 0.3034788342608263, 0.31652900172096454, 0.30724043820057123, 0.2953018002377215, 0.31154580983927094, 0.26264441712858677, 0.2775238365458603, 0.2832819596785234, 0.3139925703172141, 0.28109372938469, 0.30947772785636957, 0.31657602439292826, 0.2832174904703908, 0.30161204117685325, 0.26734701396016836, 0.28729818293545156, 0.31125756288267553, 0.3343781323839976, 0.32225839277627044, 0.3366230554462869, 0.2854442960814757, 0.306378639138978, 0.2842594488264107, 0.28184447396778484, 0.3036219529692459, 0.26150513946421383, 0.3353132670315714, 0.2748159941311365, 0.3373627906109376, 0.2753796932469424, 0.27238918557782676, 0.27737760505655185, 0.27635262790861626, 0.29070419730307484, 0.2816721746356948, 0.2783654142808101, 0.2753002233829487, 0.303807791633474, 0.2903286501868316, 0.27121333663648206, 0.32653501777227556, 0.2626775494387879, 0.2577413265341106, 0.299206950947231, 0.29501279598964797, 0.2467245890103724, 0.2979678568781445, 0.26231683888924406, 0.2695516558496018, 0.26602524969238955, 0.25217011035062176, 0.2962278578019567, 0.2551346968950511, 0.3051094460047484, 0.2852614112265, 0.29245513100433485, 0.2521860173781508, 0.2999367626952631, 0.28787429962129585, 0.3042256226832848, 0.2792412524775201, 0.26387659410777825, 0.25708813650008533, 0.28949946472978516, 0.2736988780396707, 0.2845188083310737, 0.27359834169036296, 0.3029559892231014, 0.2851271503308893, 0.28985219163746784, 0.2775915938915146, 0.26859637389654334, 0.2791203742105852, 0.2524396751053837, 0.29140962165019096, 0.26264113349505924, 0.27012547647224205, 0.3028655319697591, 0.30500774421631216, 0.31461088192128756, 0.2626539553558072, 0.26501117042620465, 0.2858729182888121, 0.30574474605722635, 0.290603277225274, 0.2667102787731123, 0.2539613614416137, 0.2887288584284812, 0.2702160560574984, 0.25419308205024377, 0.27820223401925415, 0.2771508716792117, 0.3106528906698349, 0.25721282386801675, 0.30644463861855314, 0.28813783591914277, 0.33383963026031643, 0.2650978591693955, 0.28620326194291584, 0.2505331862550888, 0.33013405853836536, 0.26264226669323837, 0.28884431991049464, 0.2743398176508352, 0.2768339208119411, 0.2650078393034429, 0.25457540563624254, 0.27905255402310947, 0.3127535976503582, 0.28829740311197527, 0.26683486748379853, 0.28550969892367595, 0.29196222514596415, 0.27640799382180686, 0.2862018991146501, 0.2671906245073758, 0.27961492376495345, 0.2774056035654569, 0.29268102386693423, 0.2666525346860066, 0.2614141707318716, 0.3042720372867933, 0.27400181300902804, 0.2726659583467217, 0.3030115132323768, 0.2987836506621258, 0.2862321069595636, 0.2726946704034668, 0.2787109700068964, 0.28803746474582914, 0.2917993051646388, 0.2727609753260476, 0.27629196405455425, 0.28314566817086534, 0.26864944577669025, 0.27852098820415067, 0.29235251711224286, 0.29471736899541223, 0.2504797195050408, 0.26251021463757934, 0.30682274784526964, 0.2857720414726185, 0.29910242562308176, 0.26685155059793786, 0.305035999375216, 0.30851142861187125, 0.27338171480627277, 0.26959726761776764, 0.2600785850275674, 0.25332941108157764, 0.2538754707917659, 0.2982162158831976, 0.2791464926082373, 0.25334294828449344, 0.26168602642045935, 0.27368735618568524, 0.26721510583375313, 0.30141306279187496, 0.26145987674894233, 0.2902417404115512, 0.2448634532968841, 0.2845483453757491, 0.24127554183570868, 0.25922970981977456, 0.2622942525746673, 0.28694803433907645, 0.2792536916065099, 0.2996844295465218, 0.25715325162767305, 0.2852126251566783], 'train_mae': [0.5415366215149031, 0.46056455702300453, 0.43497801202043856, 0.46114273517889437, 0.41129051109051046, 0.4146621295146397, 0.39932005190540354, 0.40931002382401516, 0.4043788481952395, 0.4143765760336461, 0.39241871411777735, 0.3992344964719837, 0.3952661833945204, 0.39450862758238453, 0.3927905566786232, 0.3898132640026663, 0.3801598507331747, 0.38353207741485423, 0.3949340281351664, 0.3816994088278094, 0.38641461241356284, 0.3979262436778692, 0.38888114818363484, 0.3930905766535468, 0.3742872676517747, 0.39749237971825024, 0.41216202926147455, 0.3979410722715429, 0.38673531584429127, 0.37870713323219574, 0.3803686993607739, 0.4146463478951289, 0.37967658659128056, 0.37609003210813263, 0.38204461231334885, 0.384115165169238, 0.38401344206003335, 0.3811510971961208, 0.38794972148132567, 0.37755134074909563, 0.37495534893568394, 0.3748849878662934, 0.37776886603797233, 0.4044170358995183, 0.36854994793066675, 0.37310573878906067, 0.37565235110047307, 0.37268962622882046, 0.3840663599094211, 0.37330942687460694, 0.3900516382084995, 0.3867224902729648, 0.3758208917555175, 0.3724126062205537, 0.3754650089767302, 0.3777940896666625, 0.3708924970466943, 0.37222752194925435, 0.38108728599353986, 0.3840342251152768, 0.36730602050616296, 0.3688247307425866, 0.3792109705800194, 0.37980164858487786, 0.37381353955102536, 0.3771741752324148, 0.3691222254871814, 0.38048438276345053, 0.38200442958466313, 0.37892226599105877, 0.37477559071355226, 0.3685321978843104, 0.36942973632862763, 0.3776522197785344, 0.3745669109716723, 0.366959781027874, 0.3744813938574323, 0.40652180365002455, 0.3744866677224153, 0.41572051073164923, 0.36281437352566653, 0.38666594092524365, 0.3828423221672462, 0.3709588834932974, 0.3732723408640574, 0.38131203559863974, 0.3738955242169236, 0.3719483606051214, 0.3735794846678944, 0.36618269198930287, 0.36350289610822006, 0.3901930096588906, 0.3675741043347124, 0.3666894739300344, 0.40944903531276416, 0.3663621793420792, 0.3688951846982626, 0.3619517462921734, 0.36158519052680205, 0.3649135388070309, 0.36829449520788826, 0.3699234036986649, 0.36201973925062436, 0.3713059754166619, 0.36726544791231935, 0.3752968100043249, 0.3699142890355965, 0.35817456354834903, 0.36510170156222094, 0.3836880346217113, 0.35624532613410065, 0.3598555045527032, 0.3683668492487016, 0.3633633902409521, 0.3669851156521008, 0.3672177283725427, 0.3765199789833588, 0.37497735519548797, 0.35491690040381113, 0.3665887306993952, 0.363478443813992, 0.3890596439961203, 0.3640830100838269, 0.3656996249293974, 0.3567574640922163, 0.3666559614549475, 0.3626993189722673, 0.3589809524767093, 0.361625764745956, 0.3784638462843285, 0.3608710745594362, 0.3487506268846073, 0.38240968714464885, 0.35473083578188824, 0.3629626541931896, 0.34782792589872785, 0.35186614865029875, 0.3556825813759721, 0.3551448454488049, 0.3656741338816128, 0.3546683644911984, 0.3549488836189618, 0.3584424027644937, 0.3527083922469801, 0.36108799495243804, 0.3642960856270998, 0.37693177508171327, 0.35219114069848517, 0.34349514008706084, 0.37234852558711806, 0.3754936851081833, 0.34614476672799277, 0.35662930904250306, 0.35116158031702766, 0.35041471713057937, 0.37162619551358933, 0.3535051039612169, 0.3449563632434222, 0.36018053143556844, 0.34730510767036304, 0.3468957047434762, 0.34798819506720124, 0.34738005119879006, 0.34675634524483606, 0.36215092457513787, 0.3593326153718993, 0.35195302341610785, 0.3501465300090045, 0.35060366734795706, 0.35967825008405935, 0.35491892816569837, 0.3613013275624051, 0.357418220948569, 0.3859867064862389, 0.3601060394174174, 0.3475448289283293, 0.36147568574400624, 0.35974005234773476, 0.35064096207762596, 0.36031310629584523, 0.36941669232640556, 0.36186813203434903, 0.37836842239374047, 0.3634519871716173, 0.35607041718574384, 0.3502341463024104, 0.34850530895762, 0.3531177679194551, 0.334850412535844, 0.3748701867559194, 0.3443275582115821, 0.3693071313874094, 0.3634245947849976, 0.3478160106119932, 0.34017752597051004, 0.350558805984004, 0.3522772681999674, 0.34856905401061267, 0.34062625527493906, 0.3522161289856169, 0.35839324457377325, 0.3410882224602953, 0.33737290403970266, 0.3653858014554288, 0.3495477382167474, 0.3419404379631146, 0.3506637515284974, 0.35865038524581727, 0.3341008177008339, 0.35625418466895986, 0.33926496365195036, 0.35060594293167385, 0.36066492146723134, 0.3412921847484387, 0.3701912932097511, 0.33447585232000165, 0.3569844586176869, 0.3529053410127987, 0.34920028161689226, 0.3353706168631464, 0.36678412794927184, 0.3619010312493783, 0.3605371360632474, 0.33791930233694656, 0.3385945137924395, 0.3476849832058402, 0.352374573859677, 0.3425310076442443, 0.34790603093638106, 0.34776515822675336, 0.3518017351792472, 0.3621383674740292, 0.3509891670221593, 0.35271170460519363, 0.3380704289905283, 0.351623529718699, 0.3452858424878702, 0.35074589007637536, 0.3524086683403514, 0.34246550704204143, 0.3519229691039927, 0.35132931258301847, 0.37309666743440306, 0.3429446130982313, 0.3453416405352384, 0.33849134114206464, 0.36304974015630626, 0.37077086650525637, 0.3434017680756319, 0.34413432312463443, 0.36681327315090617, 0.3395760659575648, 0.33228156152791044, 0.3515098503089905, 0.3425057811144043, 0.35330638900205424, 0.34270239277574716, 0.3531028911539504, 0.34425987409626513, 0.3738264608036418, 0.3473444428790445, 0.3435842697000851, 0.3356171687507596, 0.3753121888255914, 0.34893492278140525, 0.35071749001317604, 0.35218095386449, 0.35181772423415125, 0.3528737256409063, 0.34490364339316065, 0.339021108708044, 0.36596769014586694, 0.3506336184704939, 0.33818208200472955, 0.3438078263615864, 0.3514188964793509, 0.3478122737324167, 0.36023685422178425, 0.3434204838741503, 0.3507118877591431, 0.34411983236188176, 0.34748431783265943, 0.33144804796579314, 0.3341352476155607, 0.35657612969948965, 0.34852829557930964, 0.3444358785768898, 0.35095188847546605, 0.35586014110942477, 0.34548936620061405, 0.3401346674075151, 0.3481361505422792, 0.34442856744103223, 0.3483902836917318, 0.3558026706835355, 0.3435760889334887, 0.3645943201641576, 0.34303168139286605, 0.3555767848309081, 0.34603256052275816, 0.35787268920369825, 0.3358200411262458, 0.35325122890045724, 0.3624440239271051, 0.35283475047804796, 0.359499523260015, 0.3381349700299462, 0.3642474820047595, 0.3542709993573261, 0.3522278835715559, 0.3412819424314394, 0.33532811810528645, 0.33973272043317093, 0.33470236490461563, 0.353854937648484, 0.3355246899034138, 0.34899964640017644, 0.342310981432796, 0.3398997089265028, 0.3349079021731475, 0.354701129874261, 0.35071676381250744, 0.3560026537668465, 0.3370428269611088, 0.35591518659197896, 0.3374105778251028, 0.334118427217129, 0.33533195815926625, 0.34513711786482254, 0.3525234501441449, 0.3476027856936699, 0.3363475383563113, 0.34276643267424234]}\n"
     ]
    },
    {
     "data": {
      "application/scrapbook.scrap.json+json": {
       "data": 0.34238465121551276,
       "encoder": "json",
       "name": "TabNet MAE",
       "version": 1
      }
     },
     "metadata": {
      "scrapbook": {
       "data": true,
       "display": false,
       "name": "TabNet MAE"
      }
     },
     "output_type": "display_data"
    },
    {
     "name": "stdout",
     "output_type": "stream",
     "text": [
      "TabNet MAE 0.34238465121551276\n"
     ]
    },
    {
     "data": {
      "image/png": "[encoded data removed]",
      "text/plain": [
       "<Figure size 432x288 with 1 Axes>"
      ]
     },
     "metadata": {
      "needs_background": "light"
     },
     "output_type": "display_data"
    }
   ],
   "source": [
    "lr = 0.01\n",
    "\n",
    "y_train = np.reshape(y_train, (-1, 1))\n",
    "y_test = np.reshape(y_test, (-1, 1))\n",
    "\n",
    "device = torch.device('cuda' if torch.cuda.is_available() else 'cpu')\n",
    "mae_tab= baselineModels.tabnetreg(X_train,y_train,X_test,y_test,batch_size,n_features,n_target,n_epochs, lr)\n",
    "sb.glue(\"TabNet MAE\",mae_tab)\n",
    "print(\"TabNet MAE\",mae_tab)"
   ]
  }
 ],
 "metadata": {
  "colab": {
   "collapsed_sections": [],
   "name": "BaselineModels.ipynb",
   "provenance": []
  },
  "kernelspec": {
   "display_name": "Python 3.7.3 64-bit",
   "language": "python",
   "name": "python3"
  },
  "language_info": {
   "codemirror_mode": {
    "name": "ipython",
    "version": 3
   },
   "file_extension": ".py",
   "mimetype": "text/x-python",
   "name": "python",
   "nbconvert_exporter": "python",
   "pygments_lexer": "ipython3",
   "version": "3.7.13"
  },
  "papermill": {
   "default_parameters": {},
   "duration": 840.195228,
   "end_time": "2022-07-21T10:49:46.478133",
   "environment_variables": {},
   "exception": null,
   "input_path": "BaselineModels.ipynb",
   "output_path": "./BaseLine_Model_Output/BaselineModels_output_1.ipynb",
   "parameters": {},
   "start_time": "2022-07-21T10:35:46.282905",
   "version": "2.3.4"
  },
  "vscode": {
   "interpreter": {
    "hash": "aee8b7b246df8f9039afb4144a1f6fd8d2ca17a180786b69acc140d282b71a49"
   }
  }
 },
 "nbformat": 4,
 "nbformat_minor": 5
}