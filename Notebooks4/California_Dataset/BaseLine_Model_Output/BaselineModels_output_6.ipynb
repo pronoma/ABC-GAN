{
 "cells": [
  {
   "cell_type": "markdown",
   "id": "ada04bcd",
   "metadata": {
    "papermill": {
     "duration": 0.006889,
     "end_time": "2022-07-20T17:15:23.633583",
     "exception": false,
     "start_time": "2022-07-20T17:15:23.626694",
     "status": "completed"
    },
    "tags": []
   },
   "source": [
    "## Import Libraries "
   ]
  },
  {
   "cell_type": "code",
   "execution_count": 1,
   "id": "2ccabb60",
   "metadata": {
    "execution": {
     "iopub.execute_input": "2022-07-20T17:15:23.645590Z",
     "iopub.status.busy": "2022-07-20T17:15:23.645226Z",
     "iopub.status.idle": "2022-07-20T17:15:23.650965Z",
     "shell.execute_reply": "2022-07-20T17:15:23.650250Z"
    },
    "papermill": {
     "duration": 0.013841,
     "end_time": "2022-07-20T17:15:23.652712",
     "exception": false,
     "start_time": "2022-07-20T17:15:23.638871",
     "status": "completed"
    },
    "tags": []
   },
   "outputs": [],
   "source": [
    "import warnings\n",
    "import sys\n",
    "sys.path.insert(0, '../../src')\n",
    "warnings.filterwarnings('ignore')"
   ]
  },
  {
   "cell_type": "code",
   "execution_count": 2,
   "id": "7e2d012b",
   "metadata": {
    "execution": {
     "iopub.execute_input": "2022-07-20T17:15:23.664483Z",
     "iopub.status.busy": "2022-07-20T17:15:23.664231Z",
     "iopub.status.idle": "2022-07-20T17:15:25.301904Z",
     "shell.execute_reply": "2022-07-20T17:15:25.301031Z"
    },
    "papermill": {
     "duration": 1.645524,
     "end_time": "2022-07-20T17:15:25.303797",
     "exception": false,
     "start_time": "2022-07-20T17:15:23.658273",
     "status": "completed"
    },
    "tags": []
   },
   "outputs": [],
   "source": [
    "import statsModel\n",
    "import scrapbook as sb \n",
    "import torch \n",
    "import statsModel\n",
    "import baselineModels\n",
    "import californiaDataset\n",
    "import dataset \n",
    "from torch.utils.data import random_split \n",
    "from sklearn.model_selection import train_test_split\n",
    "from sklearn.metrics import mean_squared_error,mean_absolute_error \n",
    "import numpy as np"
   ]
  },
  {
   "cell_type": "markdown",
   "id": "70700531",
   "metadata": {
    "papermill": {
     "duration": 0.006013,
     "end_time": "2022-07-20T17:15:25.315555",
     "exception": false,
     "start_time": "2022-07-20T17:15:25.309542",
     "status": "completed"
    },
    "tags": []
   },
   "source": [
    "## Import Dataset \n"
   ]
  },
  {
   "cell_type": "code",
   "execution_count": 3,
   "id": "3a30b59c",
   "metadata": {
    "execution": {
     "iopub.execute_input": "2022-07-20T17:15:25.327151Z",
     "iopub.status.busy": "2022-07-20T17:15:25.326760Z",
     "iopub.status.idle": "2022-07-20T17:15:25.352592Z",
     "shell.execute_reply": "2022-07-20T17:15:25.351888Z"
    },
    "papermill": {
     "duration": 0.033797,
     "end_time": "2022-07-20T17:15:25.354301",
     "exception": false,
     "start_time": "2022-07-20T17:15:25.320504",
     "status": "completed"
    },
    "tags": []
   },
   "outputs": [
    {
     "name": "stdout",
     "output_type": "stream",
     "text": [
      "       X1    X2        X3        X4      X5        X6     X7      X8      Y\n",
      "0  8.3252  41.0  6.984127  1.023810   322.0  2.555556  37.88 -122.23  4.526\n",
      "1  8.3014  21.0  6.238137  0.971880  2401.0  2.109842  37.86 -122.22  3.585\n",
      "2  7.2574  52.0  8.288136  1.073446   496.0  2.802260  37.85 -122.24  3.521\n",
      "3  5.6431  52.0  5.817352  1.073059   558.0  2.547945  37.85 -122.25  3.413\n",
      "4  3.8462  52.0  6.281853  1.081081   565.0  2.181467  37.85 -122.25  3.422\n"
     ]
    }
   ],
   "source": [
    "n_features = 8\n",
    "n_samples= 20640\n",
    "n_target = 1 \n",
    "X,Y = californiaDataset.california_data()"
   ]
  },
  {
   "cell_type": "code",
   "execution_count": 4,
   "id": "397aebd1",
   "metadata": {
    "execution": {
     "iopub.execute_input": "2022-07-20T17:15:25.366215Z",
     "iopub.status.busy": "2022-07-20T17:15:25.365944Z",
     "iopub.status.idle": "2022-07-20T17:15:25.371389Z",
     "shell.execute_reply": "2022-07-20T17:15:25.370719Z"
    },
    "papermill": {
     "duration": 0.013548,
     "end_time": "2022-07-20T17:15:25.373114",
     "exception": false,
     "start_time": "2022-07-20T17:15:25.359566",
     "status": "completed"
    },
    "tags": []
   },
   "outputs": [],
   "source": [
    "# Train test split for dataset \n",
    "real_dataset = dataset.CustomDataset(X,Y)\n",
    "X_train, X_test, y_train, y_test = train_test_split(X, Y, test_size=0.2)"
   ]
  },
  {
   "cell_type": "markdown",
   "id": "3fe7af8c",
   "metadata": {
    "papermill": {
     "duration": 0.005813,
     "end_time": "2022-07-20T17:15:25.384352",
     "exception": false,
     "start_time": "2022-07-20T17:15:25.378539",
     "status": "completed"
    },
    "tags": []
   },
   "source": [
    "## Stats Model \n",
    "\n"
   ]
  },
  {
   "cell_type": "code",
   "execution_count": 5,
   "id": "cfc0a8f4",
   "metadata": {
    "execution": {
     "iopub.execute_input": "2022-07-20T17:15:25.409399Z",
     "iopub.status.busy": "2022-07-20T17:15:25.409061Z",
     "iopub.status.idle": "2022-07-20T17:15:25.649072Z",
     "shell.execute_reply": "2022-07-20T17:15:25.648359Z"
    },
    "papermill": {
     "duration": 0.261436,
     "end_time": "2022-07-20T17:15:25.650747",
     "exception": false,
     "start_time": "2022-07-20T17:15:25.389311",
     "status": "completed"
    },
    "tags": []
   },
   "outputs": [
    {
     "name": "stderr",
     "output_type": "stream",
     "text": [
      "No handles with labels found to put in legend.\n"
     ]
    },
    {
     "name": "stdout",
     "output_type": "stream",
     "text": [
      "                                 OLS Regression Results                                \n",
      "=======================================================================================\n",
      "Dep. Variable:                      y   R-squared (uncentered):                   0.605\n",
      "Model:                            OLS   Adj. R-squared (uncentered):              0.605\n",
      "Method:                 Least Squares   F-statistic:                              3158.\n",
      "Date:                Wed, 20 Jul 2022   Prob (F-statistic):                        0.00\n",
      "Time:                        17:15:25   Log-Likelihood:                         -15742.\n",
      "No. Observations:               16512   AIC:                                  3.150e+04\n",
      "Df Residuals:                   16504   BIC:                                  3.156e+04\n",
      "Df Model:                           8                                                  \n",
      "Covariance Type:            nonrobust                                                  \n",
      "==============================================================================\n",
      "                 coef    std err          t      P>|t|      [0.025      0.975]\n",
      "------------------------------------------------------------------------------\n",
      "x1             0.7112      0.008     92.637      0.000       0.696       0.726\n",
      "x2             0.0988      0.005     18.177      0.000       0.088       0.109\n",
      "x3            -0.2326      0.014    -16.515      0.000      -0.260      -0.205\n",
      "x4             0.2607      0.013     20.443      0.000       0.236       0.286\n",
      "x5            -0.0074      0.005     -1.444      0.149      -0.017       0.003\n",
      "x6            -0.0353      0.005     -7.279      0.000      -0.045      -0.026\n",
      "x7            -0.7858      0.015    -53.155      0.000      -0.815      -0.757\n",
      "x8            -0.7620      0.015    -52.460      0.000      -0.791      -0.734\n",
      "==============================================================================\n",
      "Omnibus:                     3517.396   Durbin-Watson:                   1.981\n",
      "Prob(Omnibus):                  0.000   Jarque-Bera (JB):            11557.108\n",
      "Skew:                           1.074   Prob(JB):                         0.00\n",
      "Kurtosis:                       6.491   Cond. No.                         6.71\n",
      "==============================================================================\n",
      "\n",
      "Warnings:\n",
      "[1] Standard Errors assume that the covariance matrix of the errors is correctly specified.\n"
     ]
    },
    {
     "data": {
      "image/png": "[encoded data removed]",
      "text/plain": [
       "<Figure size 432x288 with 1 Axes>"
      ]
     },
     "metadata": {
      "needs_background": "light"
     },
     "output_type": "display_data"
    },
    {
     "name": "stdout",
     "output_type": "stream",
     "text": [
      "Performance Metrics\n",
      "Mean Squared Error: 0.39293754731380526\n",
      "Mean Absolute Error: 0.4674719625561494\n",
      "Manhattan distance: 1929.724261431781\n",
      "Euclidean distance: 40.274634639080055\n"
     ]
    },
    {
     "data": {
      "application/scrapbook.scrap.json+json": {
       "data": 0.39293754731380526,
       "encoder": "json",
       "name": "Stats Model MSE",
       "version": 1
      }
     },
     "metadata": {
      "scrapbook": {
       "data": true,
       "display": false,
       "name": "Stats Model MSE"
      }
     },
     "output_type": "display_data"
    },
    {
     "data": {
      "application/scrapbook.scrap.json+json": {
       "data": 0.4674719625561494,
       "encoder": "json",
       "name": "Stats Model MAE",
       "version": 1
      }
     },
     "metadata": {
      "scrapbook": {
       "data": true,
       "display": false,
       "name": "Stats Model MAE"
      }
     },
     "output_type": "display_data"
    },
    {
     "data": {
      "application/scrapbook.scrap.json+json": {
       "data": 1929.724261431781,
       "encoder": "json",
       "name": "Stats Model Manhattan Distance",
       "version": 1
      }
     },
     "metadata": {
      "scrapbook": {
       "data": true,
       "display": false,
       "name": "Stats Model Manhattan Distance"
      }
     },
     "output_type": "display_data"
    },
    {
     "data": {
      "application/scrapbook.scrap.json+json": {
       "data": 40.274634639080055,
       "encoder": "json",
       "name": "Stats Model Euclidean distance",
       "version": 1
      }
     },
     "metadata": {
      "scrapbook": {
       "data": true,
       "display": false,
       "name": "Stats Model Euclidean distance"
      }
     },
     "output_type": "display_data"
    },
    {
     "data": {
      "application/scrapbook.scrap.json+json": {
       "data": [
        0.7111688011393269,
        0.09875518682264534,
        -0.23263692800232602,
        0.26069034595970064,
        -0.007400588043364429,
        -0.035349187811100705,
        -0.7857769830096238,
        -0.7620444766998309
       ],
       "encoder": "json",
       "name": "Coefficients",
       "version": 1
      }
     },
     "metadata": {
      "scrapbook": {
       "data": true,
       "display": false,
       "name": "Coefficients"
      }
     },
     "output_type": "display_data"
    },
    {
     "name": "stdout",
     "output_type": "stream",
     "text": [
      "Stats Model MAE 0.4674719625561494\n"
     ]
    }
   ],
   "source": [
    "coefficients , y_pred =statsModel.statsModel(X_train,y_train,X_test,y_test)\n",
    "#Store MSE Value \n",
    "sb.glue(\"Coefficients\",coefficients)\n",
    "mae = mean_absolute_error(y_pred, y_test)\n",
    "print(\"Stats Model MAE\", mae)"
   ]
  },
  {
   "cell_type": "markdown",
   "id": "42c831af",
   "metadata": {
    "papermill": {
     "duration": 0.006814,
     "end_time": "2022-07-20T17:15:25.668142",
     "exception": false,
     "start_time": "2022-07-20T17:15:25.661328",
     "status": "completed"
    },
    "tags": []
   },
   "source": [
    "# Catboost Model "
   ]
  },
  {
   "cell_type": "code",
   "execution_count": 6,
   "id": "26482a3f",
   "metadata": {
    "execution": {
     "iopub.execute_input": "2022-07-20T17:15:25.682041Z",
     "iopub.status.busy": "2022-07-20T17:15:25.681759Z",
     "iopub.status.idle": "2022-07-20T17:15:28.449378Z",
     "shell.execute_reply": "2022-07-20T17:15:28.448407Z"
    },
    "papermill": {
     "duration": 2.776469,
     "end_time": "2022-07-20T17:15:28.450975",
     "exception": false,
     "start_time": "2022-07-20T17:15:25.674506",
     "status": "completed"
    },
    "tags": []
   },
   "outputs": [
    {
     "name": "stdout",
     "output_type": "stream",
     "text": [
      "Learning rate set to 0.063766\n",
      "0:\tlearn: 0.9632073\ttotal: 48.7ms\tremaining: 48.6s\n",
      "1:\tlearn: 0.9315857\ttotal: 50.9ms\tremaining: 25.4s\n",
      "2:\tlearn: 0.9018175\ttotal: 53.1ms\tremaining: 17.7s\n",
      "3:\tlearn: 0.8747133\ttotal: 55.2ms\tremaining: 13.8s\n",
      "4:\tlearn: 0.8486904\ttotal: 57.2ms\tremaining: 11.4s\n",
      "5:\tlearn: 0.8252599\ttotal: 59.2ms\tremaining: 9.81s\n",
      "6:\tlearn: 0.8029252\ttotal: 61.2ms\tremaining: 8.69s\n",
      "7:\tlearn: 0.7824547\ttotal: 63.2ms\tremaining: 7.83s\n",
      "8:\tlearn: 0.7641071\ttotal: 65.3ms\tremaining: 7.19s\n",
      "9:\tlearn: 0.7469351\ttotal: 67.4ms\tremaining: 6.67s\n",
      "10:\tlearn: 0.7311765\ttotal: 69.6ms\tremaining: 6.26s\n",
      "11:\tlearn: 0.7161620\ttotal: 71.7ms\tremaining: 5.9s\n",
      "12:\tlearn: 0.7033937\ttotal: 73.8ms\tremaining: 5.6s\n",
      "13:\tlearn: 0.6886818\ttotal: 75.9ms\tremaining: 5.34s\n",
      "14:\tlearn: 0.6770451\ttotal: 78ms\tremaining: 5.13s\n",
      "15:\tlearn: 0.6659464\ttotal: 80.2ms\tremaining: 4.93s\n",
      "16:\tlearn: 0.6561380\ttotal: 82.7ms\tremaining: 4.78s\n"
     ]
    },
    {
     "name": "stdout",
     "output_type": "stream",
     "text": [
      "17:\tlearn: 0.6461393\ttotal: 85.4ms\tremaining: 4.66s\n",
      "18:\tlearn: 0.6378503\ttotal: 87.5ms\tremaining: 4.52s\n",
      "19:\tlearn: 0.6283817\ttotal: 89.9ms\tremaining: 4.4s\n",
      "20:\tlearn: 0.6207655\ttotal: 92ms\tremaining: 4.29s\n",
      "21:\tlearn: 0.6130988\ttotal: 94.2ms\tremaining: 4.19s\n",
      "22:\tlearn: 0.6050593\ttotal: 96.3ms\tremaining: 4.09s\n",
      "23:\tlearn: 0.5990943\ttotal: 98.3ms\tremaining: 4s\n"
     ]
    },
    {
     "name": "stdout",
     "output_type": "stream",
     "text": [
      "24:\tlearn: 0.5926544\ttotal: 101ms\tremaining: 3.93s\n",
      "25:\tlearn: 0.5870496\ttotal: 103ms\tremaining: 3.86s\n",
      "26:\tlearn: 0.5815269\ttotal: 105ms\tremaining: 3.78s\n",
      "27:\tlearn: 0.5759755\ttotal: 107ms\tremaining: 3.71s\n",
      "28:\tlearn: 0.5696559\ttotal: 109ms\tremaining: 3.65s\n",
      "29:\tlearn: 0.5631529\ttotal: 111ms\tremaining: 3.59s\n",
      "30:\tlearn: 0.5596327\ttotal: 113ms\tremaining: 3.54s\n",
      "31:\tlearn: 0.5555028\ttotal: 115ms\tremaining: 3.49s\n",
      "32:\tlearn: 0.5513157\ttotal: 117ms\tremaining: 3.44s\n",
      "33:\tlearn: 0.5483135\ttotal: 119ms\tremaining: 3.39s\n",
      "34:\tlearn: 0.5437587\ttotal: 121ms\tremaining: 3.35s\n",
      "35:\tlearn: 0.5407926\ttotal: 124ms\tremaining: 3.31s\n",
      "36:\tlearn: 0.5376098\ttotal: 125ms\tremaining: 3.26s\n",
      "37:\tlearn: 0.5338861\ttotal: 128ms\tremaining: 3.23s\n",
      "38:\tlearn: 0.5302701\ttotal: 130ms\tremaining: 3.19s\n",
      "39:\tlearn: 0.5275408\ttotal: 132ms\tremaining: 3.16s\n",
      "40:\tlearn: 0.5244451\ttotal: 134ms\tremaining: 3.13s\n",
      "41:\tlearn: 0.5221402\ttotal: 136ms\tremaining: 3.1s\n",
      "42:\tlearn: 0.5191183\ttotal: 138ms\tremaining: 3.08s\n",
      "43:\tlearn: 0.5175370\ttotal: 140ms\tremaining: 3.05s\n",
      "44:\tlearn: 0.5152551\ttotal: 142ms\tremaining: 3.02s\n",
      "45:\tlearn: 0.5116666\ttotal: 144ms\tremaining: 3s\n",
      "46:\tlearn: 0.5095509\ttotal: 147ms\tremaining: 2.97s\n",
      "47:\tlearn: 0.5072572\ttotal: 149ms\tremaining: 2.95s\n",
      "48:\tlearn: 0.5054037\ttotal: 151ms\tremaining: 2.93s\n",
      "49:\tlearn: 0.5040315\ttotal: 153ms\tremaining: 2.9s\n",
      "50:\tlearn: 0.5020071\ttotal: 155ms\tremaining: 2.88s\n",
      "51:\tlearn: 0.4989168\ttotal: 158ms\tremaining: 2.88s\n"
     ]
    },
    {
     "name": "stdout",
     "output_type": "stream",
     "text": [
      "52:\tlearn: 0.4978247\ttotal: 161ms\tremaining: 2.87s\n",
      "53:\tlearn: 0.4966158\ttotal: 163ms\tremaining: 2.86s\n",
      "54:\tlearn: 0.4944550\ttotal: 165ms\tremaining: 2.84s\n",
      "55:\tlearn: 0.4925068\ttotal: 167ms\tremaining: 2.82s\n",
      "56:\tlearn: 0.4905068\ttotal: 169ms\tremaining: 2.8s\n",
      "57:\tlearn: 0.4895706\ttotal: 171ms\tremaining: 2.78s\n",
      "58:\tlearn: 0.4885917\ttotal: 174ms\tremaining: 2.77s\n",
      "59:\tlearn: 0.4870994\ttotal: 176ms\tremaining: 2.75s\n",
      "60:\tlearn: 0.4856432\ttotal: 178ms\tremaining: 2.73s\n",
      "61:\tlearn: 0.4842026\ttotal: 180ms\tremaining: 2.72s\n",
      "62:\tlearn: 0.4833394\ttotal: 182ms\tremaining: 2.7s\n",
      "63:\tlearn: 0.4814130\ttotal: 183ms\tremaining: 2.68s\n",
      "64:\tlearn: 0.4800245\ttotal: 186ms\tremaining: 2.67s\n",
      "65:\tlearn: 0.4793272\ttotal: 188ms\tremaining: 2.66s\n",
      "66:\tlearn: 0.4781797\ttotal: 190ms\tremaining: 2.64s\n",
      "67:\tlearn: 0.4769979\ttotal: 192ms\tremaining: 2.63s\n",
      "68:\tlearn: 0.4755620\ttotal: 194ms\tremaining: 2.62s\n",
      "69:\tlearn: 0.4745162\ttotal: 196ms\tremaining: 2.6s\n",
      "70:\tlearn: 0.4730883\ttotal: 198ms\tremaining: 2.59s\n",
      "71:\tlearn: 0.4723086\ttotal: 200ms\tremaining: 2.58s\n",
      "72:\tlearn: 0.4716787\ttotal: 202ms\tremaining: 2.57s\n",
      "73:\tlearn: 0.4710878\ttotal: 204ms\tremaining: 2.56s\n",
      "74:\tlearn: 0.4695847\ttotal: 207ms\tremaining: 2.55s\n",
      "75:\tlearn: 0.4686473\ttotal: 209ms\tremaining: 2.54s\n",
      "76:\tlearn: 0.4681481\ttotal: 210ms\tremaining: 2.52s\n",
      "77:\tlearn: 0.4674234\ttotal: 212ms\tremaining: 2.51s\n",
      "78:\tlearn: 0.4666761\ttotal: 215ms\tremaining: 2.5s\n",
      "79:\tlearn: 0.4658947\ttotal: 217ms\tremaining: 2.49s\n",
      "80:\tlearn: 0.4644773\ttotal: 219ms\tremaining: 2.48s\n",
      "81:\tlearn: 0.4637598\ttotal: 221ms\tremaining: 2.47s\n",
      "82:\tlearn: 0.4630221\ttotal: 223ms\tremaining: 2.46s\n",
      "83:\tlearn: 0.4619976\ttotal: 225ms\tremaining: 2.45s\n",
      "84:\tlearn: 0.4612440\ttotal: 227ms\tremaining: 2.44s\n",
      "85:\tlearn: 0.4605762\ttotal: 229ms\tremaining: 2.43s\n",
      "86:\tlearn: 0.4596503\ttotal: 231ms\tremaining: 2.42s\n",
      "87:\tlearn: 0.4592355\ttotal: 233ms\tremaining: 2.41s\n",
      "88:\tlearn: 0.4586698\ttotal: 235ms\tremaining: 2.4s\n",
      "89:\tlearn: 0.4583766\ttotal: 237ms\tremaining: 2.4s\n",
      "90:\tlearn: 0.4577690\ttotal: 239ms\tremaining: 2.39s\n",
      "91:\tlearn: 0.4572597\ttotal: 241ms\tremaining: 2.38s\n",
      "92:\tlearn: 0.4569082\ttotal: 243ms\tremaining: 2.37s\n"
     ]
    },
    {
     "name": "stdout",
     "output_type": "stream",
     "text": [
      "93:\tlearn: 0.4555191\ttotal: 246ms\tremaining: 2.37s\n",
      "94:\tlearn: 0.4549653\ttotal: 248ms\tremaining: 2.36s\n",
      "95:\tlearn: 0.4542736\ttotal: 250ms\tremaining: 2.36s\n",
      "96:\tlearn: 0.4536883\ttotal: 253ms\tremaining: 2.35s\n",
      "97:\tlearn: 0.4528270\ttotal: 255ms\tremaining: 2.35s\n",
      "98:\tlearn: 0.4522530\ttotal: 257ms\tremaining: 2.34s\n"
     ]
    },
    {
     "name": "stdout",
     "output_type": "stream",
     "text": [
      "99:\tlearn: 0.4515781\ttotal: 260ms\tremaining: 2.34s\n",
      "100:\tlearn: 0.4506064\ttotal: 262ms\tremaining: 2.33s\n",
      "101:\tlearn: 0.4500272\ttotal: 264ms\tremaining: 2.33s\n",
      "102:\tlearn: 0.4490118\ttotal: 266ms\tremaining: 2.32s\n",
      "103:\tlearn: 0.4483460\ttotal: 269ms\tremaining: 2.31s\n",
      "104:\tlearn: 0.4476258\ttotal: 271ms\tremaining: 2.31s\n",
      "105:\tlearn: 0.4472191\ttotal: 273ms\tremaining: 2.3s\n",
      "106:\tlearn: 0.4468005\ttotal: 275ms\tremaining: 2.29s\n",
      "107:\tlearn: 0.4461077\ttotal: 277ms\tremaining: 2.29s\n",
      "108:\tlearn: 0.4454296\ttotal: 279ms\tremaining: 2.28s\n",
      "109:\tlearn: 0.4447351\ttotal: 281ms\tremaining: 2.27s\n",
      "110:\tlearn: 0.4443515\ttotal: 283ms\tremaining: 2.27s\n",
      "111:\tlearn: 0.4438216\ttotal: 285ms\tremaining: 2.26s\n",
      "112:\tlearn: 0.4433188\ttotal: 287ms\tremaining: 2.25s\n",
      "113:\tlearn: 0.4428941\ttotal: 289ms\tremaining: 2.24s\n",
      "114:\tlearn: 0.4421058\ttotal: 291ms\tremaining: 2.24s\n",
      "115:\tlearn: 0.4417786\ttotal: 293ms\tremaining: 2.23s\n",
      "116:\tlearn: 0.4414089\ttotal: 295ms\tremaining: 2.22s\n",
      "117:\tlearn: 0.4407377\ttotal: 297ms\tremaining: 2.22s\n",
      "118:\tlearn: 0.4399835\ttotal: 299ms\tremaining: 2.21s\n",
      "119:\tlearn: 0.4395096\ttotal: 301ms\tremaining: 2.2s\n",
      "120:\tlearn: 0.4390094\ttotal: 303ms\tremaining: 2.2s\n",
      "121:\tlearn: 0.4386907\ttotal: 305ms\tremaining: 2.19s\n",
      "122:\tlearn: 0.4379299\ttotal: 307ms\tremaining: 2.19s\n",
      "123:\tlearn: 0.4373554\ttotal: 309ms\tremaining: 2.18s\n",
      "124:\tlearn: 0.4369561\ttotal: 311ms\tremaining: 2.18s\n",
      "125:\tlearn: 0.4365825\ttotal: 313ms\tremaining: 2.17s\n",
      "126:\tlearn: 0.4358575\ttotal: 315ms\tremaining: 2.16s\n",
      "127:\tlearn: 0.4354815\ttotal: 317ms\tremaining: 2.16s\n",
      "128:\tlearn: 0.4350057\ttotal: 319ms\tremaining: 2.15s\n"
     ]
    },
    {
     "name": "stdout",
     "output_type": "stream",
     "text": [
      "129:\tlearn: 0.4346557\ttotal: 322ms\tremaining: 2.15s\n",
      "130:\tlearn: 0.4342403\ttotal: 324ms\tremaining: 2.15s\n",
      "131:\tlearn: 0.4337727\ttotal: 326ms\tremaining: 2.14s\n",
      "132:\tlearn: 0.4331243\ttotal: 328ms\tremaining: 2.14s\n",
      "133:\tlearn: 0.4327340\ttotal: 330ms\tremaining: 2.13s\n",
      "134:\tlearn: 0.4323168\ttotal: 332ms\tremaining: 2.13s\n",
      "135:\tlearn: 0.4318235\ttotal: 334ms\tremaining: 2.12s\n",
      "136:\tlearn: 0.4312407\ttotal: 336ms\tremaining: 2.12s\n",
      "137:\tlearn: 0.4305144\ttotal: 338ms\tremaining: 2.11s\n",
      "138:\tlearn: 0.4300455\ttotal: 340ms\tremaining: 2.1s\n",
      "139:\tlearn: 0.4297487\ttotal: 342ms\tremaining: 2.1s\n",
      "140:\tlearn: 0.4294015\ttotal: 344ms\tremaining: 2.1s\n",
      "141:\tlearn: 0.4288483\ttotal: 346ms\tremaining: 2.09s\n",
      "142:\tlearn: 0.4284611\ttotal: 348ms\tremaining: 2.09s\n",
      "143:\tlearn: 0.4279913\ttotal: 350ms\tremaining: 2.08s\n",
      "144:\tlearn: 0.4274997\ttotal: 352ms\tremaining: 2.08s\n",
      "145:\tlearn: 0.4270819\ttotal: 354ms\tremaining: 2.07s\n",
      "146:\tlearn: 0.4268056\ttotal: 357ms\tremaining: 2.07s\n",
      "147:\tlearn: 0.4264722\ttotal: 359ms\tremaining: 2.06s\n",
      "148:\tlearn: 0.4261686\ttotal: 361ms\tremaining: 2.06s\n",
      "149:\tlearn: 0.4254994\ttotal: 363ms\tremaining: 2.05s\n",
      "150:\tlearn: 0.4251600\ttotal: 364ms\tremaining: 2.05s\n",
      "151:\tlearn: 0.4247158\ttotal: 367ms\tremaining: 2.04s\n",
      "152:\tlearn: 0.4242661\ttotal: 368ms\tremaining: 2.04s\n",
      "153:\tlearn: 0.4240195\ttotal: 370ms\tremaining: 2.03s\n",
      "154:\tlearn: 0.4235861\ttotal: 372ms\tremaining: 2.03s\n",
      "155:\tlearn: 0.4231771\ttotal: 374ms\tremaining: 2.02s\n",
      "156:\tlearn: 0.4228010\ttotal: 376ms\tremaining: 2.02s\n",
      "157:\tlearn: 0.4224231\ttotal: 378ms\tremaining: 2.02s\n",
      "158:\tlearn: 0.4218904\ttotal: 381ms\tremaining: 2.01s\n",
      "159:\tlearn: 0.4215018\ttotal: 383ms\tremaining: 2.01s\n",
      "160:\tlearn: 0.4210223\ttotal: 385ms\tremaining: 2s\n",
      "161:\tlearn: 0.4207449\ttotal: 387ms\tremaining: 2s\n",
      "162:\tlearn: 0.4202608\ttotal: 389ms\tremaining: 2s\n",
      "163:\tlearn: 0.4200057\ttotal: 391ms\tremaining: 1.99s\n",
      "164:\tlearn: 0.4196887\ttotal: 393ms\tremaining: 1.99s\n",
      "165:\tlearn: 0.4193049\ttotal: 394ms\tremaining: 1.98s\n",
      "166:\tlearn: 0.4184821\ttotal: 397ms\tremaining: 1.98s\n",
      "167:\tlearn: 0.4180815\ttotal: 399ms\tremaining: 1.97s\n",
      "168:\tlearn: 0.4176790\ttotal: 401ms\tremaining: 1.97s\n",
      "169:\tlearn: 0.4172647\ttotal: 403ms\tremaining: 1.97s\n",
      "170:\tlearn: 0.4164306\ttotal: 405ms\tremaining: 1.96s\n"
     ]
    },
    {
     "name": "stdout",
     "output_type": "stream",
     "text": [
      "171:\tlearn: 0.4160140\ttotal: 407ms\tremaining: 1.96s\n",
      "172:\tlearn: 0.4155865\ttotal: 409ms\tremaining: 1.96s\n",
      "173:\tlearn: 0.4149457\ttotal: 411ms\tremaining: 1.95s\n",
      "174:\tlearn: 0.4144664\ttotal: 413ms\tremaining: 1.95s\n",
      "175:\tlearn: 0.4141653\ttotal: 415ms\tremaining: 1.94s\n",
      "176:\tlearn: 0.4138617\ttotal: 417ms\tremaining: 1.94s\n"
     ]
    },
    {
     "name": "stdout",
     "output_type": "stream",
     "text": [
      "177:\tlearn: 0.4135418\ttotal: 419ms\tremaining: 1.94s\n",
      "178:\tlearn: 0.4132249\ttotal: 422ms\tremaining: 1.93s\n",
      "179:\tlearn: 0.4124901\ttotal: 423ms\tremaining: 1.93s\n",
      "180:\tlearn: 0.4121029\ttotal: 426ms\tremaining: 1.93s\n",
      "181:\tlearn: 0.4118234\ttotal: 427ms\tremaining: 1.92s\n",
      "182:\tlearn: 0.4115654\ttotal: 429ms\tremaining: 1.92s\n",
      "183:\tlearn: 0.4112297\ttotal: 432ms\tremaining: 1.91s\n",
      "184:\tlearn: 0.4108759\ttotal: 434ms\tremaining: 1.91s\n",
      "185:\tlearn: 0.4105162\ttotal: 436ms\tremaining: 1.91s\n",
      "186:\tlearn: 0.4099728\ttotal: 438ms\tremaining: 1.9s\n",
      "187:\tlearn: 0.4096753\ttotal: 440ms\tremaining: 1.9s\n",
      "188:\tlearn: 0.4093084\ttotal: 442ms\tremaining: 1.89s\n",
      "189:\tlearn: 0.4089919\ttotal: 444ms\tremaining: 1.89s\n",
      "190:\tlearn: 0.4087596\ttotal: 446ms\tremaining: 1.89s\n",
      "191:\tlearn: 0.4082487\ttotal: 448ms\tremaining: 1.89s\n",
      "192:\tlearn: 0.4079607\ttotal: 450ms\tremaining: 1.88s\n",
      "193:\tlearn: 0.4073358\ttotal: 452ms\tremaining: 1.88s\n",
      "194:\tlearn: 0.4069955\ttotal: 454ms\tremaining: 1.87s\n",
      "195:\tlearn: 0.4067053\ttotal: 456ms\tremaining: 1.87s\n",
      "196:\tlearn: 0.4063651\ttotal: 458ms\tremaining: 1.87s\n",
      "197:\tlearn: 0.4057769\ttotal: 460ms\tremaining: 1.86s\n",
      "198:\tlearn: 0.4053126\ttotal: 462ms\tremaining: 1.86s\n",
      "199:\tlearn: 0.4047906\ttotal: 464ms\tremaining: 1.86s\n",
      "200:\tlearn: 0.4043724\ttotal: 466ms\tremaining: 1.85s\n",
      "201:\tlearn: 0.4041265\ttotal: 468ms\tremaining: 1.85s\n",
      "202:\tlearn: 0.4038042\ttotal: 471ms\tremaining: 1.85s\n",
      "203:\tlearn: 0.4035149\ttotal: 473ms\tremaining: 1.84s\n",
      "204:\tlearn: 0.4031957\ttotal: 475ms\tremaining: 1.84s\n",
      "205:\tlearn: 0.4029749\ttotal: 477ms\tremaining: 1.84s\n",
      "206:\tlearn: 0.4027683\ttotal: 479ms\tremaining: 1.83s\n",
      "207:\tlearn: 0.4024124\ttotal: 481ms\tremaining: 1.83s\n"
     ]
    },
    {
     "name": "stdout",
     "output_type": "stream",
     "text": [
      "208:\tlearn: 0.4021095\ttotal: 483ms\tremaining: 1.83s\n",
      "209:\tlearn: 0.4017891\ttotal: 485ms\tremaining: 1.82s\n",
      "210:\tlearn: 0.4013865\ttotal: 487ms\tremaining: 1.82s\n",
      "211:\tlearn: 0.4010958\ttotal: 489ms\tremaining: 1.82s\n",
      "212:\tlearn: 0.4007146\ttotal: 491ms\tremaining: 1.81s\n",
      "213:\tlearn: 0.4003936\ttotal: 493ms\tremaining: 1.81s\n",
      "214:\tlearn: 0.4000039\ttotal: 495ms\tremaining: 1.81s\n",
      "215:\tlearn: 0.3995745\ttotal: 497ms\tremaining: 1.8s\n",
      "216:\tlearn: 0.3993868\ttotal: 500ms\tremaining: 1.8s\n",
      "217:\tlearn: 0.3990334\ttotal: 502ms\tremaining: 1.8s\n",
      "218:\tlearn: 0.3987638\ttotal: 504ms\tremaining: 1.8s\n",
      "219:\tlearn: 0.3985096\ttotal: 506ms\tremaining: 1.79s\n",
      "220:\tlearn: 0.3982709\ttotal: 508ms\tremaining: 1.79s\n",
      "221:\tlearn: 0.3979381\ttotal: 510ms\tremaining: 1.79s\n",
      "222:\tlearn: 0.3976321\ttotal: 512ms\tremaining: 1.78s\n",
      "223:\tlearn: 0.3974609\ttotal: 514ms\tremaining: 1.78s\n",
      "224:\tlearn: 0.3971794\ttotal: 516ms\tremaining: 1.78s\n",
      "225:\tlearn: 0.3969697\ttotal: 518ms\tremaining: 1.77s\n",
      "226:\tlearn: 0.3965064\ttotal: 520ms\tremaining: 1.77s\n",
      "227:\tlearn: 0.3961581\ttotal: 523ms\tremaining: 1.77s\n",
      "228:\tlearn: 0.3958574\ttotal: 526ms\tremaining: 1.77s\n",
      "229:\tlearn: 0.3955263\ttotal: 529ms\tremaining: 1.77s\n",
      "230:\tlearn: 0.3953495\ttotal: 531ms\tremaining: 1.77s\n",
      "231:\tlearn: 0.3951303\ttotal: 533ms\tremaining: 1.76s\n",
      "232:\tlearn: 0.3949159\ttotal: 535ms\tremaining: 1.76s\n",
      "233:\tlearn: 0.3946936\ttotal: 537ms\tremaining: 1.76s\n",
      "234:\tlearn: 0.3944790\ttotal: 540ms\tremaining: 1.76s\n",
      "235:\tlearn: 0.3942505\ttotal: 542ms\tremaining: 1.75s\n",
      "236:\tlearn: 0.3939277\ttotal: 543ms\tremaining: 1.75s\n",
      "237:\tlearn: 0.3936301\ttotal: 545ms\tremaining: 1.75s\n",
      "238:\tlearn: 0.3934225\ttotal: 547ms\tremaining: 1.74s\n",
      "239:\tlearn: 0.3929815\ttotal: 549ms\tremaining: 1.74s\n",
      "240:\tlearn: 0.3927193\ttotal: 551ms\tremaining: 1.74s\n",
      "241:\tlearn: 0.3923307\ttotal: 553ms\tremaining: 1.73s\n",
      "242:\tlearn: 0.3921566\ttotal: 555ms\tremaining: 1.73s\n",
      "243:\tlearn: 0.3919105\ttotal: 557ms\tremaining: 1.73s\n",
      "244:\tlearn: 0.3915030\ttotal: 559ms\tremaining: 1.72s\n",
      "245:\tlearn: 0.3912168\ttotal: 561ms\tremaining: 1.72s\n",
      "246:\tlearn: 0.3909103\ttotal: 563ms\tremaining: 1.72s\n",
      "247:\tlearn: 0.3905474\ttotal: 565ms\tremaining: 1.71s\n",
      "248:\tlearn: 0.3902253\ttotal: 567ms\tremaining: 1.71s\n"
     ]
    },
    {
     "name": "stdout",
     "output_type": "stream",
     "text": [
      "249:\tlearn: 0.3898867\ttotal: 570ms\tremaining: 1.71s\n",
      "250:\tlearn: 0.3896659\ttotal: 572ms\tremaining: 1.71s\n",
      "251:\tlearn: 0.3894488\ttotal: 574ms\tremaining: 1.7s\n",
      "252:\tlearn: 0.3891793\ttotal: 576ms\tremaining: 1.7s\n",
      "253:\tlearn: 0.3888946\ttotal: 578ms\tremaining: 1.7s\n"
     ]
    },
    {
     "name": "stdout",
     "output_type": "stream",
     "text": [
      "254:\tlearn: 0.3887087\ttotal: 580ms\tremaining: 1.69s\n",
      "255:\tlearn: 0.3884838\ttotal: 582ms\tremaining: 1.69s\n",
      "256:\tlearn: 0.3882836\ttotal: 584ms\tremaining: 1.69s\n",
      "257:\tlearn: 0.3880601\ttotal: 586ms\tremaining: 1.69s\n",
      "258:\tlearn: 0.3877401\ttotal: 588ms\tremaining: 1.68s\n",
      "259:\tlearn: 0.3875296\ttotal: 591ms\tremaining: 1.68s\n",
      "260:\tlearn: 0.3872970\ttotal: 593ms\tremaining: 1.68s\n",
      "261:\tlearn: 0.3870309\ttotal: 595ms\tremaining: 1.68s\n",
      "262:\tlearn: 0.3868451\ttotal: 597ms\tremaining: 1.67s\n",
      "263:\tlearn: 0.3865555\ttotal: 599ms\tremaining: 1.67s\n",
      "264:\tlearn: 0.3862732\ttotal: 601ms\tremaining: 1.67s\n",
      "265:\tlearn: 0.3859208\ttotal: 603ms\tremaining: 1.66s\n",
      "266:\tlearn: 0.3857284\ttotal: 605ms\tremaining: 1.66s\n",
      "267:\tlearn: 0.3853303\ttotal: 607ms\tremaining: 1.66s\n",
      "268:\tlearn: 0.3850180\ttotal: 609ms\tremaining: 1.66s\n",
      "269:\tlearn: 0.3848046\ttotal: 611ms\tremaining: 1.65s\n",
      "270:\tlearn: 0.3845441\ttotal: 613ms\tremaining: 1.65s\n",
      "271:\tlearn: 0.3843833\ttotal: 615ms\tremaining: 1.65s\n",
      "272:\tlearn: 0.3840595\ttotal: 617ms\tremaining: 1.64s\n",
      "273:\tlearn: 0.3839311\ttotal: 619ms\tremaining: 1.64s\n",
      "274:\tlearn: 0.3838060\ttotal: 621ms\tremaining: 1.64s\n",
      "275:\tlearn: 0.3836983\ttotal: 623ms\tremaining: 1.63s\n",
      "276:\tlearn: 0.3834580\ttotal: 625ms\tremaining: 1.63s\n",
      "277:\tlearn: 0.3832665\ttotal: 627ms\tremaining: 1.63s\n",
      "278:\tlearn: 0.3831550\ttotal: 629ms\tremaining: 1.63s\n",
      "279:\tlearn: 0.3829366\ttotal: 631ms\tremaining: 1.62s\n",
      "280:\tlearn: 0.3827072\ttotal: 634ms\tremaining: 1.62s\n",
      "281:\tlearn: 0.3825028\ttotal: 636ms\tremaining: 1.62s\n",
      "282:\tlearn: 0.3822663\ttotal: 638ms\tremaining: 1.61s\n",
      "283:\tlearn: 0.3820319\ttotal: 640ms\tremaining: 1.61s\n",
      "284:\tlearn: 0.3818155\ttotal: 642ms\tremaining: 1.61s\n"
     ]
    },
    {
     "name": "stdout",
     "output_type": "stream",
     "text": [
      "285:\tlearn: 0.3816224\ttotal: 644ms\tremaining: 1.61s\n",
      "286:\tlearn: 0.3812147\ttotal: 646ms\tremaining: 1.6s\n",
      "287:\tlearn: 0.3810302\ttotal: 648ms\tremaining: 1.6s\n",
      "288:\tlearn: 0.3807995\ttotal: 650ms\tremaining: 1.6s\n",
      "289:\tlearn: 0.3806678\ttotal: 652ms\tremaining: 1.6s\n",
      "290:\tlearn: 0.3804086\ttotal: 654ms\tremaining: 1.59s\n",
      "291:\tlearn: 0.3801192\ttotal: 656ms\tremaining: 1.59s\n",
      "292:\tlearn: 0.3798274\ttotal: 658ms\tremaining: 1.59s\n",
      "293:\tlearn: 0.3796459\ttotal: 661ms\tremaining: 1.59s\n",
      "294:\tlearn: 0.3794687\ttotal: 663ms\tremaining: 1.58s\n",
      "295:\tlearn: 0.3793124\ttotal: 665ms\tremaining: 1.58s\n",
      "296:\tlearn: 0.3790505\ttotal: 667ms\tremaining: 1.58s\n",
      "297:\tlearn: 0.3785947\ttotal: 669ms\tremaining: 1.58s\n",
      "298:\tlearn: 0.3783506\ttotal: 671ms\tremaining: 1.57s\n",
      "299:\tlearn: 0.3779258\ttotal: 674ms\tremaining: 1.57s\n",
      "300:\tlearn: 0.3777355\ttotal: 676ms\tremaining: 1.57s\n",
      "301:\tlearn: 0.3775671\ttotal: 678ms\tremaining: 1.57s\n",
      "302:\tlearn: 0.3773579\ttotal: 680ms\tremaining: 1.56s\n",
      "303:\tlearn: 0.3770778\ttotal: 682ms\tremaining: 1.56s\n",
      "304:\tlearn: 0.3769519\ttotal: 684ms\tremaining: 1.56s\n",
      "305:\tlearn: 0.3767671\ttotal: 686ms\tremaining: 1.55s\n",
      "306:\tlearn: 0.3765688\ttotal: 688ms\tremaining: 1.55s\n",
      "307:\tlearn: 0.3764185\ttotal: 690ms\tremaining: 1.55s\n",
      "308:\tlearn: 0.3762351\ttotal: 692ms\tremaining: 1.55s\n",
      "309:\tlearn: 0.3761169\ttotal: 694ms\tremaining: 1.54s\n",
      "310:\tlearn: 0.3757787\ttotal: 696ms\tremaining: 1.54s\n",
      "311:\tlearn: 0.3755456\ttotal: 698ms\tremaining: 1.54s\n",
      "312:\tlearn: 0.3752877\ttotal: 700ms\tremaining: 1.54s\n",
      "313:\tlearn: 0.3750747\ttotal: 702ms\tremaining: 1.53s\n",
      "314:\tlearn: 0.3749043\ttotal: 704ms\tremaining: 1.53s\n",
      "315:\tlearn: 0.3746673\ttotal: 706ms\tremaining: 1.53s\n",
      "316:\tlearn: 0.3743743\ttotal: 708ms\tremaining: 1.52s\n",
      "317:\tlearn: 0.3741803\ttotal: 710ms\tremaining: 1.52s\n",
      "318:\tlearn: 0.3740601\ttotal: 712ms\tremaining: 1.52s\n",
      "319:\tlearn: 0.3738312\ttotal: 714ms\tremaining: 1.52s\n",
      "320:\tlearn: 0.3736833\ttotal: 716ms\tremaining: 1.51s\n",
      "321:\tlearn: 0.3734501\ttotal: 718ms\tremaining: 1.51s\n",
      "322:\tlearn: 0.3733533\ttotal: 720ms\tremaining: 1.51s\n",
      "323:\tlearn: 0.3732156\ttotal: 722ms\tremaining: 1.51s\n",
      "324:\tlearn: 0.3727885\ttotal: 724ms\tremaining: 1.5s\n",
      "325:\tlearn: 0.3724577\ttotal: 726ms\tremaining: 1.5s\n",
      "326:\tlearn: 0.3722599\ttotal: 728ms\tremaining: 1.5s\n",
      "327:\tlearn: 0.3720990\ttotal: 730ms\tremaining: 1.5s\n"
     ]
    },
    {
     "name": "stdout",
     "output_type": "stream",
     "text": [
      "328:\tlearn: 0.3718492\ttotal: 733ms\tremaining: 1.49s\n",
      "329:\tlearn: 0.3716191\ttotal: 735ms\tremaining: 1.49s\n",
      "330:\tlearn: 0.3714874\ttotal: 737ms\tremaining: 1.49s\n",
      "331:\tlearn: 0.3712705\ttotal: 739ms\tremaining: 1.49s\n"
     ]
    },
    {
     "name": "stdout",
     "output_type": "stream",
     "text": [
      "332:\tlearn: 0.3711164\ttotal: 741ms\tremaining: 1.48s\n",
      "333:\tlearn: 0.3709137\ttotal: 744ms\tremaining: 1.48s\n",
      "334:\tlearn: 0.3707289\ttotal: 746ms\tremaining: 1.48s\n",
      "335:\tlearn: 0.3705819\ttotal: 749ms\tremaining: 1.48s\n",
      "336:\tlearn: 0.3704504\ttotal: 751ms\tremaining: 1.48s\n",
      "337:\tlearn: 0.3703202\ttotal: 753ms\tremaining: 1.48s\n",
      "338:\tlearn: 0.3699451\ttotal: 756ms\tremaining: 1.47s\n",
      "339:\tlearn: 0.3697095\ttotal: 758ms\tremaining: 1.47s\n",
      "340:\tlearn: 0.3696066\ttotal: 760ms\tremaining: 1.47s\n",
      "341:\tlearn: 0.3694245\ttotal: 762ms\tremaining: 1.47s\n",
      "342:\tlearn: 0.3691947\ttotal: 764ms\tremaining: 1.46s\n",
      "343:\tlearn: 0.3689885\ttotal: 766ms\tremaining: 1.46s\n",
      "344:\tlearn: 0.3687991\ttotal: 768ms\tremaining: 1.46s\n",
      "345:\tlearn: 0.3685836\ttotal: 770ms\tremaining: 1.46s\n",
      "346:\tlearn: 0.3684032\ttotal: 772ms\tremaining: 1.45s\n",
      "347:\tlearn: 0.3681397\ttotal: 774ms\tremaining: 1.45s\n",
      "348:\tlearn: 0.3680189\ttotal: 776ms\tremaining: 1.45s\n",
      "349:\tlearn: 0.3677892\ttotal: 778ms\tremaining: 1.44s\n",
      "350:\tlearn: 0.3676230\ttotal: 780ms\tremaining: 1.44s\n",
      "351:\tlearn: 0.3673796\ttotal: 782ms\tremaining: 1.44s\n",
      "352:\tlearn: 0.3672616\ttotal: 784ms\tremaining: 1.44s\n",
      "353:\tlearn: 0.3671321\ttotal: 786ms\tremaining: 1.43s\n",
      "354:\tlearn: 0.3670086\ttotal: 788ms\tremaining: 1.43s\n",
      "355:\tlearn: 0.3668193\ttotal: 790ms\tremaining: 1.43s\n",
      "356:\tlearn: 0.3666840\ttotal: 792ms\tremaining: 1.43s\n",
      "357:\tlearn: 0.3665936\ttotal: 794ms\tremaining: 1.42s\n",
      "358:\tlearn: 0.3664537\ttotal: 796ms\tremaining: 1.42s\n",
      "359:\tlearn: 0.3663165\ttotal: 798ms\tremaining: 1.42s\n",
      "360:\tlearn: 0.3662174\ttotal: 800ms\tremaining: 1.42s\n",
      "361:\tlearn: 0.3660999\ttotal: 802ms\tremaining: 1.41s\n",
      "362:\tlearn: 0.3657525\ttotal: 804ms\tremaining: 1.41s\n"
     ]
    },
    {
     "name": "stdout",
     "output_type": "stream",
     "text": [
      "363:\tlearn: 0.3654793\ttotal: 808ms\tremaining: 1.41s\n",
      "364:\tlearn: 0.3653573\ttotal: 810ms\tremaining: 1.41s\n",
      "365:\tlearn: 0.3652495\ttotal: 812ms\tremaining: 1.41s\n",
      "366:\tlearn: 0.3650814\ttotal: 814ms\tremaining: 1.4s\n",
      "367:\tlearn: 0.3648512\ttotal: 816ms\tremaining: 1.4s\n",
      "368:\tlearn: 0.3646442\ttotal: 818ms\tremaining: 1.4s\n",
      "369:\tlearn: 0.3644807\ttotal: 820ms\tremaining: 1.4s\n",
      "370:\tlearn: 0.3643001\ttotal: 822ms\tremaining: 1.39s\n",
      "371:\tlearn: 0.3641002\ttotal: 824ms\tremaining: 1.39s\n",
      "372:\tlearn: 0.3639607\ttotal: 826ms\tremaining: 1.39s\n",
      "373:\tlearn: 0.3637950\ttotal: 829ms\tremaining: 1.39s\n",
      "374:\tlearn: 0.3636098\ttotal: 831ms\tremaining: 1.39s\n",
      "375:\tlearn: 0.3634766\ttotal: 833ms\tremaining: 1.38s\n",
      "376:\tlearn: 0.3633259\ttotal: 835ms\tremaining: 1.38s\n",
      "377:\tlearn: 0.3630705\ttotal: 839ms\tremaining: 1.38s\n",
      "378:\tlearn: 0.3628885\ttotal: 841ms\tremaining: 1.38s\n",
      "379:\tlearn: 0.3627106\ttotal: 843ms\tremaining: 1.38s\n",
      "380:\tlearn: 0.3625797\ttotal: 845ms\tremaining: 1.37s\n",
      "381:\tlearn: 0.3624020\ttotal: 848ms\tremaining: 1.37s\n",
      "382:\tlearn: 0.3621925\ttotal: 850ms\tremaining: 1.37s\n",
      "383:\tlearn: 0.3619165\ttotal: 852ms\tremaining: 1.37s\n",
      "384:\tlearn: 0.3617892\ttotal: 854ms\tremaining: 1.36s\n",
      "385:\tlearn: 0.3615818\ttotal: 856ms\tremaining: 1.36s\n",
      "386:\tlearn: 0.3614265\ttotal: 858ms\tremaining: 1.36s\n",
      "387:\tlearn: 0.3613613\ttotal: 860ms\tremaining: 1.36s\n",
      "388:\tlearn: 0.3611510\ttotal: 862ms\tremaining: 1.35s\n",
      "389:\tlearn: 0.3609687\ttotal: 864ms\tremaining: 1.35s\n",
      "390:\tlearn: 0.3608930\ttotal: 866ms\tremaining: 1.35s\n",
      "391:\tlearn: 0.3607183\ttotal: 868ms\tremaining: 1.35s\n",
      "392:\tlearn: 0.3606342\ttotal: 870ms\tremaining: 1.34s\n",
      "393:\tlearn: 0.3604593\ttotal: 872ms\tremaining: 1.34s\n",
      "394:\tlearn: 0.3602879\ttotal: 874ms\tremaining: 1.34s\n",
      "395:\tlearn: 0.3601676\ttotal: 876ms\tremaining: 1.34s\n",
      "396:\tlearn: 0.3600232\ttotal: 878ms\tremaining: 1.33s\n",
      "397:\tlearn: 0.3597830\ttotal: 880ms\tremaining: 1.33s\n",
      "398:\tlearn: 0.3596043\ttotal: 882ms\tremaining: 1.33s\n",
      "399:\tlearn: 0.3594338\ttotal: 884ms\tremaining: 1.33s\n",
      "400:\tlearn: 0.3592450\ttotal: 886ms\tremaining: 1.32s\n",
      "401:\tlearn: 0.3591734\ttotal: 888ms\tremaining: 1.32s\n",
      "402:\tlearn: 0.3590350\ttotal: 890ms\tremaining: 1.32s\n",
      "403:\tlearn: 0.3588598\ttotal: 892ms\tremaining: 1.31s\n",
      "404:\tlearn: 0.3587173\ttotal: 894ms\tremaining: 1.31s\n"
     ]
    },
    {
     "name": "stdout",
     "output_type": "stream",
     "text": [
      "405:\tlearn: 0.3585136\ttotal: 896ms\tremaining: 1.31s\n",
      "406:\tlearn: 0.3583134\ttotal: 899ms\tremaining: 1.31s\n",
      "407:\tlearn: 0.3582049\ttotal: 901ms\tremaining: 1.31s\n",
      "408:\tlearn: 0.3580802\ttotal: 902ms\tremaining: 1.3s\n"
     ]
    },
    {
     "name": "stdout",
     "output_type": "stream",
     "text": [
      "409:\tlearn: 0.3579010\ttotal: 906ms\tremaining: 1.3s\n",
      "410:\tlearn: 0.3576272\ttotal: 908ms\tremaining: 1.3s\n",
      "411:\tlearn: 0.3574639\ttotal: 910ms\tremaining: 1.3s\n",
      "412:\tlearn: 0.3573191\ttotal: 912ms\tremaining: 1.3s\n",
      "413:\tlearn: 0.3571550\ttotal: 914ms\tremaining: 1.29s\n",
      "414:\tlearn: 0.3570638\ttotal: 916ms\tremaining: 1.29s\n",
      "415:\tlearn: 0.3568935\ttotal: 919ms\tremaining: 1.29s\n",
      "416:\tlearn: 0.3567268\ttotal: 921ms\tremaining: 1.29s\n",
      "417:\tlearn: 0.3566224\ttotal: 923ms\tremaining: 1.28s\n",
      "418:\tlearn: 0.3564682\ttotal: 925ms\tremaining: 1.28s\n",
      "419:\tlearn: 0.3562069\ttotal: 927ms\tremaining: 1.28s\n",
      "420:\tlearn: 0.3560498\ttotal: 929ms\tremaining: 1.28s\n",
      "421:\tlearn: 0.3558794\ttotal: 931ms\tremaining: 1.27s\n",
      "422:\tlearn: 0.3557630\ttotal: 933ms\tremaining: 1.27s\n",
      "423:\tlearn: 0.3555823\ttotal: 935ms\tremaining: 1.27s\n",
      "424:\tlearn: 0.3554203\ttotal: 937ms\tremaining: 1.27s\n",
      "425:\tlearn: 0.3552437\ttotal: 939ms\tremaining: 1.26s\n",
      "426:\tlearn: 0.3550802\ttotal: 942ms\tremaining: 1.26s\n",
      "427:\tlearn: 0.3548560\ttotal: 944ms\tremaining: 1.26s\n",
      "428:\tlearn: 0.3546062\ttotal: 946ms\tremaining: 1.26s\n",
      "429:\tlearn: 0.3544496\ttotal: 948ms\tremaining: 1.26s\n",
      "430:\tlearn: 0.3543002\ttotal: 950ms\tremaining: 1.25s\n",
      "431:\tlearn: 0.3540909\ttotal: 952ms\tremaining: 1.25s\n",
      "432:\tlearn: 0.3539647\ttotal: 954ms\tremaining: 1.25s\n",
      "433:\tlearn: 0.3538152\ttotal: 956ms\tremaining: 1.25s\n",
      "434:\tlearn: 0.3537465\ttotal: 957ms\tremaining: 1.24s\n",
      "435:\tlearn: 0.3536119\ttotal: 960ms\tremaining: 1.24s\n",
      "436:\tlearn: 0.3534816\ttotal: 962ms\tremaining: 1.24s\n",
      "437:\tlearn: 0.3532553\ttotal: 964ms\tremaining: 1.24s\n",
      "438:\tlearn: 0.3530681\ttotal: 966ms\tremaining: 1.23s\n",
      "439:\tlearn: 0.3528967\ttotal: 968ms\tremaining: 1.23s\n",
      "440:\tlearn: 0.3527329\ttotal: 970ms\tremaining: 1.23s\n"
     ]
    },
    {
     "name": "stdout",
     "output_type": "stream",
     "text": [
      "441:\tlearn: 0.3525785\ttotal: 973ms\tremaining: 1.23s\n",
      "442:\tlearn: 0.3524932\ttotal: 975ms\tremaining: 1.23s\n",
      "443:\tlearn: 0.3524159\ttotal: 977ms\tremaining: 1.22s\n",
      "444:\tlearn: 0.3522921\ttotal: 979ms\tremaining: 1.22s\n",
      "445:\tlearn: 0.3521254\ttotal: 981ms\tremaining: 1.22s\n",
      "446:\tlearn: 0.3520497\ttotal: 983ms\tremaining: 1.22s\n",
      "447:\tlearn: 0.3519062\ttotal: 985ms\tremaining: 1.21s\n",
      "448:\tlearn: 0.3517554\ttotal: 987ms\tremaining: 1.21s\n",
      "449:\tlearn: 0.3516093\ttotal: 989ms\tremaining: 1.21s\n",
      "450:\tlearn: 0.3514661\ttotal: 991ms\tremaining: 1.21s\n",
      "451:\tlearn: 0.3513185\ttotal: 993ms\tremaining: 1.2s\n",
      "452:\tlearn: 0.3512183\ttotal: 995ms\tremaining: 1.2s\n",
      "453:\tlearn: 0.3510306\ttotal: 997ms\tremaining: 1.2s\n",
      "454:\tlearn: 0.3508990\ttotal: 999ms\tremaining: 1.2s\n",
      "455:\tlearn: 0.3507648\ttotal: 1s\tremaining: 1.19s\n",
      "456:\tlearn: 0.3506069\ttotal: 1s\tremaining: 1.19s\n",
      "457:\tlearn: 0.3504663\ttotal: 1s\tremaining: 1.19s\n",
      "458:\tlearn: 0.3503289\ttotal: 1.01s\tremaining: 1.19s\n",
      "459:\tlearn: 0.3502248\ttotal: 1.01s\tremaining: 1.19s\n",
      "460:\tlearn: 0.3501036\ttotal: 1.01s\tremaining: 1.18s\n",
      "461:\tlearn: 0.3499666\ttotal: 1.01s\tremaining: 1.18s\n",
      "462:\tlearn: 0.3498205\ttotal: 1.01s\tremaining: 1.18s\n",
      "463:\tlearn: 0.3496456\ttotal: 1.02s\tremaining: 1.18s\n",
      "464:\tlearn: 0.3494919\ttotal: 1.02s\tremaining: 1.17s\n",
      "465:\tlearn: 0.3493949\ttotal: 1.02s\tremaining: 1.17s\n",
      "466:\tlearn: 0.3492777\ttotal: 1.02s\tremaining: 1.17s\n",
      "467:\tlearn: 0.3491417\ttotal: 1.03s\tremaining: 1.17s\n",
      "468:\tlearn: 0.3490151\ttotal: 1.03s\tremaining: 1.16s\n",
      "469:\tlearn: 0.3487689\ttotal: 1.03s\tremaining: 1.16s\n",
      "470:\tlearn: 0.3485980\ttotal: 1.03s\tremaining: 1.16s\n",
      "471:\tlearn: 0.3485087\ttotal: 1.03s\tremaining: 1.16s\n",
      "472:\tlearn: 0.3482946\ttotal: 1.04s\tremaining: 1.16s\n",
      "473:\tlearn: 0.3481747\ttotal: 1.04s\tremaining: 1.15s\n",
      "474:\tlearn: 0.3480700\ttotal: 1.04s\tremaining: 1.15s\n",
      "475:\tlearn: 0.3479853\ttotal: 1.04s\tremaining: 1.15s\n",
      "476:\tlearn: 0.3479087\ttotal: 1.04s\tremaining: 1.15s\n",
      "477:\tlearn: 0.3478200\ttotal: 1.05s\tremaining: 1.14s\n",
      "478:\tlearn: 0.3476732\ttotal: 1.05s\tremaining: 1.14s\n",
      "479:\tlearn: 0.3475733\ttotal: 1.05s\tremaining: 1.14s\n",
      "480:\tlearn: 0.3475073\ttotal: 1.05s\tremaining: 1.14s\n",
      "481:\tlearn: 0.3474297\ttotal: 1.05s\tremaining: 1.13s\n",
      "482:\tlearn: 0.3472412\ttotal: 1.06s\tremaining: 1.13s\n"
     ]
    },
    {
     "name": "stdout",
     "output_type": "stream",
     "text": [
      "483:\tlearn: 0.3470591\ttotal: 1.06s\tremaining: 1.13s\n",
      "484:\tlearn: 0.3469258\ttotal: 1.06s\tremaining: 1.13s\n",
      "485:\tlearn: 0.3467947\ttotal: 1.06s\tremaining: 1.13s\n",
      "486:\tlearn: 0.3466658\ttotal: 1.07s\tremaining: 1.12s\n",
      "487:\tlearn: 0.3466033\ttotal: 1.07s\tremaining: 1.12s\n"
     ]
    },
    {
     "name": "stdout",
     "output_type": "stream",
     "text": [
      "488:\tlearn: 0.3465023\ttotal: 1.07s\tremaining: 1.12s\n",
      "489:\tlearn: 0.3463937\ttotal: 1.07s\tremaining: 1.12s\n",
      "490:\tlearn: 0.3462674\ttotal: 1.07s\tremaining: 1.11s\n",
      "491:\tlearn: 0.3461282\ttotal: 1.08s\tremaining: 1.11s\n",
      "492:\tlearn: 0.3459500\ttotal: 1.08s\tremaining: 1.11s\n",
      "493:\tlearn: 0.3457940\ttotal: 1.08s\tremaining: 1.11s\n",
      "494:\tlearn: 0.3457266\ttotal: 1.08s\tremaining: 1.1s\n",
      "495:\tlearn: 0.3456207\ttotal: 1.08s\tremaining: 1.1s\n",
      "496:\tlearn: 0.3454928\ttotal: 1.09s\tremaining: 1.1s\n",
      "497:\tlearn: 0.3454341\ttotal: 1.09s\tremaining: 1.1s\n",
      "498:\tlearn: 0.3453023\ttotal: 1.09s\tremaining: 1.09s\n",
      "499:\tlearn: 0.3451798\ttotal: 1.09s\tremaining: 1.09s\n",
      "500:\tlearn: 0.3450267\ttotal: 1.09s\tremaining: 1.09s\n",
      "501:\tlearn: 0.3447882\ttotal: 1.1s\tremaining: 1.09s\n",
      "502:\tlearn: 0.3446165\ttotal: 1.1s\tremaining: 1.09s\n",
      "503:\tlearn: 0.3444545\ttotal: 1.1s\tremaining: 1.08s\n",
      "504:\tlearn: 0.3443059\ttotal: 1.1s\tremaining: 1.08s\n",
      "505:\tlearn: 0.3440841\ttotal: 1.1s\tremaining: 1.08s\n",
      "506:\tlearn: 0.3439305\ttotal: 1.11s\tremaining: 1.08s\n",
      "507:\tlearn: 0.3437793\ttotal: 1.11s\tremaining: 1.07s\n",
      "508:\tlearn: 0.3435944\ttotal: 1.11s\tremaining: 1.07s\n",
      "509:\tlearn: 0.3434831\ttotal: 1.11s\tremaining: 1.07s\n",
      "510:\tlearn: 0.3433517\ttotal: 1.12s\tremaining: 1.07s\n",
      "511:\tlearn: 0.3432333\ttotal: 1.12s\tremaining: 1.07s\n",
      "512:\tlearn: 0.3430754\ttotal: 1.12s\tremaining: 1.06s\n",
      "513:\tlearn: 0.3429750\ttotal: 1.12s\tremaining: 1.06s\n",
      "514:\tlearn: 0.3428954\ttotal: 1.12s\tremaining: 1.06s\n",
      "515:\tlearn: 0.3427680\ttotal: 1.13s\tremaining: 1.06s\n",
      "516:\tlearn: 0.3425698\ttotal: 1.13s\tremaining: 1.05s\n",
      "517:\tlearn: 0.3424099\ttotal: 1.13s\tremaining: 1.05s\n",
      "518:\tlearn: 0.3422898\ttotal: 1.13s\tremaining: 1.05s\n",
      "519:\tlearn: 0.3421529\ttotal: 1.13s\tremaining: 1.05s\n"
     ]
    },
    {
     "name": "stdout",
     "output_type": "stream",
     "text": [
      "520:\tlearn: 0.3420107\ttotal: 1.14s\tremaining: 1.04s\n",
      "521:\tlearn: 0.3418643\ttotal: 1.14s\tremaining: 1.04s\n",
      "522:\tlearn: 0.3417079\ttotal: 1.14s\tremaining: 1.04s\n",
      "523:\tlearn: 0.3415848\ttotal: 1.15s\tremaining: 1.04s\n",
      "524:\tlearn: 0.3414812\ttotal: 1.15s\tremaining: 1.04s\n",
      "525:\tlearn: 0.3413770\ttotal: 1.15s\tremaining: 1.04s\n",
      "526:\tlearn: 0.3412400\ttotal: 1.15s\tremaining: 1.03s\n",
      "527:\tlearn: 0.3410965\ttotal: 1.15s\tremaining: 1.03s\n",
      "528:\tlearn: 0.3410274\ttotal: 1.16s\tremaining: 1.03s\n",
      "529:\tlearn: 0.3408625\ttotal: 1.16s\tremaining: 1.03s\n",
      "530:\tlearn: 0.3407892\ttotal: 1.16s\tremaining: 1.02s\n",
      "531:\tlearn: 0.3406656\ttotal: 1.16s\tremaining: 1.02s\n",
      "532:\tlearn: 0.3405798\ttotal: 1.16s\tremaining: 1.02s\n",
      "533:\tlearn: 0.3403918\ttotal: 1.17s\tremaining: 1.02s\n",
      "534:\tlearn: 0.3403049\ttotal: 1.17s\tremaining: 1.02s\n",
      "535:\tlearn: 0.3400423\ttotal: 1.17s\tremaining: 1.01s\n",
      "536:\tlearn: 0.3399090\ttotal: 1.17s\tremaining: 1.01s\n",
      "537:\tlearn: 0.3398078\ttotal: 1.18s\tremaining: 1.01s\n",
      "538:\tlearn: 0.3395868\ttotal: 1.18s\tremaining: 1.01s\n",
      "539:\tlearn: 0.3394293\ttotal: 1.18s\tremaining: 1s\n",
      "540:\tlearn: 0.3392243\ttotal: 1.18s\tremaining: 1s\n",
      "541:\tlearn: 0.3391317\ttotal: 1.18s\tremaining: 1000ms\n",
      "542:\tlearn: 0.3390018\ttotal: 1.19s\tremaining: 998ms\n",
      "543:\tlearn: 0.3388269\ttotal: 1.19s\tremaining: 995ms\n",
      "544:\tlearn: 0.3387281\ttotal: 1.19s\tremaining: 993ms\n",
      "545:\tlearn: 0.3386027\ttotal: 1.19s\tremaining: 991ms\n",
      "546:\tlearn: 0.3385157\ttotal: 1.19s\tremaining: 988ms\n",
      "547:\tlearn: 0.3384030\ttotal: 1.2s\tremaining: 986ms\n",
      "548:\tlearn: 0.3382670\ttotal: 1.2s\tremaining: 984ms\n",
      "549:\tlearn: 0.3380380\ttotal: 1.2s\tremaining: 982ms\n",
      "550:\tlearn: 0.3379131\ttotal: 1.2s\tremaining: 979ms\n",
      "551:\tlearn: 0.3377889\ttotal: 1.2s\tremaining: 977ms\n",
      "552:\tlearn: 0.3376679\ttotal: 1.21s\tremaining: 975ms\n",
      "553:\tlearn: 0.3376112\ttotal: 1.21s\tremaining: 973ms\n",
      "554:\tlearn: 0.3374725\ttotal: 1.21s\tremaining: 970ms\n",
      "555:\tlearn: 0.3373280\ttotal: 1.21s\tremaining: 968ms\n",
      "556:\tlearn: 0.3372195\ttotal: 1.21s\tremaining: 966ms\n",
      "557:\tlearn: 0.3371344\ttotal: 1.22s\tremaining: 963ms\n",
      "558:\tlearn: 0.3370473\ttotal: 1.22s\tremaining: 961ms\n",
      "559:\tlearn: 0.3369133\ttotal: 1.22s\tremaining: 959ms\n",
      "560:\tlearn: 0.3367850\ttotal: 1.22s\tremaining: 957ms\n"
     ]
    },
    {
     "name": "stdout",
     "output_type": "stream",
     "text": [
      "561:\tlearn: 0.3366102\ttotal: 1.23s\tremaining: 956ms\n",
      "562:\tlearn: 0.3364416\ttotal: 1.23s\tremaining: 954ms\n",
      "563:\tlearn: 0.3363586\ttotal: 1.23s\tremaining: 952ms\n",
      "564:\tlearn: 0.3362570\ttotal: 1.23s\tremaining: 950ms\n"
     ]
    },
    {
     "name": "stdout",
     "output_type": "stream",
     "text": [
      "565:\tlearn: 0.3360737\ttotal: 1.24s\tremaining: 948ms\n",
      "566:\tlearn: 0.3359361\ttotal: 1.24s\tremaining: 946ms\n",
      "567:\tlearn: 0.3357704\ttotal: 1.24s\tremaining: 944ms\n",
      "568:\tlearn: 0.3357191\ttotal: 1.24s\tremaining: 941ms\n",
      "569:\tlearn: 0.3356109\ttotal: 1.25s\tremaining: 939ms\n",
      "570:\tlearn: 0.3354282\ttotal: 1.25s\tremaining: 937ms\n",
      "571:\tlearn: 0.3353072\ttotal: 1.25s\tremaining: 935ms\n",
      "572:\tlearn: 0.3352246\ttotal: 1.25s\tremaining: 933ms\n",
      "573:\tlearn: 0.3350784\ttotal: 1.25s\tremaining: 930ms\n",
      "574:\tlearn: 0.3348936\ttotal: 1.25s\tremaining: 928ms\n",
      "575:\tlearn: 0.3347792\ttotal: 1.26s\tremaining: 926ms\n",
      "576:\tlearn: 0.3345967\ttotal: 1.26s\tremaining: 923ms\n",
      "577:\tlearn: 0.3345228\ttotal: 1.26s\tremaining: 921ms\n",
      "578:\tlearn: 0.3343981\ttotal: 1.26s\tremaining: 919ms\n",
      "579:\tlearn: 0.3342687\ttotal: 1.26s\tremaining: 917ms\n",
      "580:\tlearn: 0.3341693\ttotal: 1.27s\tremaining: 914ms\n",
      "581:\tlearn: 0.3340469\ttotal: 1.27s\tremaining: 912ms\n",
      "582:\tlearn: 0.3339389\ttotal: 1.27s\tremaining: 910ms\n",
      "583:\tlearn: 0.3337052\ttotal: 1.27s\tremaining: 908ms\n",
      "584:\tlearn: 0.3335936\ttotal: 1.28s\tremaining: 905ms\n",
      "585:\tlearn: 0.3335186\ttotal: 1.28s\tremaining: 903ms\n",
      "586:\tlearn: 0.3334160\ttotal: 1.28s\tremaining: 901ms\n",
      "587:\tlearn: 0.3332700\ttotal: 1.28s\tremaining: 899ms\n",
      "588:\tlearn: 0.3331205\ttotal: 1.28s\tremaining: 897ms\n",
      "589:\tlearn: 0.3330517\ttotal: 1.29s\tremaining: 894ms\n",
      "590:\tlearn: 0.3329628\ttotal: 1.29s\tremaining: 892ms\n",
      "591:\tlearn: 0.3328493\ttotal: 1.29s\tremaining: 890ms\n",
      "592:\tlearn: 0.3327370\ttotal: 1.29s\tremaining: 887ms\n",
      "593:\tlearn: 0.3325424\ttotal: 1.29s\tremaining: 885ms\n",
      "594:\tlearn: 0.3324070\ttotal: 1.3s\tremaining: 883ms\n",
      "595:\tlearn: 0.3323086\ttotal: 1.3s\tremaining: 881ms\n"
     ]
    },
    {
     "name": "stdout",
     "output_type": "stream",
     "text": [
      "596:\tlearn: 0.3322051\ttotal: 1.3s\tremaining: 879ms\n",
      "597:\tlearn: 0.3321228\ttotal: 1.3s\tremaining: 877ms\n",
      "598:\tlearn: 0.3320237\ttotal: 1.3s\tremaining: 874ms\n",
      "599:\tlearn: 0.3319444\ttotal: 1.31s\tremaining: 872ms\n",
      "600:\tlearn: 0.3318532\ttotal: 1.31s\tremaining: 870ms\n",
      "601:\tlearn: 0.3317878\ttotal: 1.31s\tremaining: 867ms\n",
      "602:\tlearn: 0.3316462\ttotal: 1.31s\tremaining: 865ms\n",
      "603:\tlearn: 0.3315416\ttotal: 1.31s\tremaining: 863ms\n",
      "604:\tlearn: 0.3314814\ttotal: 1.32s\tremaining: 860ms\n",
      "605:\tlearn: 0.3313716\ttotal: 1.32s\tremaining: 858ms\n",
      "606:\tlearn: 0.3311508\ttotal: 1.32s\tremaining: 856ms\n",
      "607:\tlearn: 0.3310160\ttotal: 1.32s\tremaining: 854ms\n",
      "608:\tlearn: 0.3309225\ttotal: 1.33s\tremaining: 851ms\n",
      "609:\tlearn: 0.3308414\ttotal: 1.33s\tremaining: 849ms\n",
      "610:\tlearn: 0.3307427\ttotal: 1.33s\tremaining: 847ms\n",
      "611:\tlearn: 0.3306610\ttotal: 1.33s\tremaining: 844ms\n",
      "612:\tlearn: 0.3305192\ttotal: 1.33s\tremaining: 842ms\n",
      "613:\tlearn: 0.3304058\ttotal: 1.33s\tremaining: 840ms\n",
      "614:\tlearn: 0.3302048\ttotal: 1.34s\tremaining: 837ms\n",
      "615:\tlearn: 0.3300801\ttotal: 1.34s\tremaining: 835ms\n",
      "616:\tlearn: 0.3299278\ttotal: 1.34s\tremaining: 833ms\n",
      "617:\tlearn: 0.3298155\ttotal: 1.34s\tremaining: 831ms\n",
      "618:\tlearn: 0.3297643\ttotal: 1.34s\tremaining: 828ms\n",
      "619:\tlearn: 0.3296665\ttotal: 1.35s\tremaining: 826ms\n",
      "620:\tlearn: 0.3295937\ttotal: 1.35s\tremaining: 824ms\n",
      "621:\tlearn: 0.3294870\ttotal: 1.35s\tremaining: 822ms\n",
      "622:\tlearn: 0.3293783\ttotal: 1.35s\tremaining: 819ms\n",
      "623:\tlearn: 0.3292256\ttotal: 1.36s\tremaining: 817ms\n",
      "624:\tlearn: 0.3290916\ttotal: 1.36s\tremaining: 815ms\n",
      "625:\tlearn: 0.3290004\ttotal: 1.36s\tremaining: 813ms\n",
      "626:\tlearn: 0.3288102\ttotal: 1.36s\tremaining: 810ms\n",
      "627:\tlearn: 0.3286745\ttotal: 1.36s\tremaining: 808ms\n",
      "628:\tlearn: 0.3285964\ttotal: 1.37s\tremaining: 806ms\n",
      "629:\tlearn: 0.3284243\ttotal: 1.37s\tremaining: 804ms\n",
      "630:\tlearn: 0.3283639\ttotal: 1.37s\tremaining: 802ms\n",
      "631:\tlearn: 0.3282166\ttotal: 1.37s\tremaining: 800ms\n",
      "632:\tlearn: 0.3281201\ttotal: 1.38s\tremaining: 798ms\n",
      "633:\tlearn: 0.3280175\ttotal: 1.38s\tremaining: 796ms\n",
      "634:\tlearn: 0.3279068\ttotal: 1.38s\tremaining: 794ms\n",
      "635:\tlearn: 0.3277471\ttotal: 1.38s\tremaining: 792ms\n",
      "636:\tlearn: 0.3276157\ttotal: 1.39s\tremaining: 790ms\n"
     ]
    },
    {
     "name": "stdout",
     "output_type": "stream",
     "text": [
      "637:\tlearn: 0.3275444\ttotal: 1.39s\tremaining: 787ms\n",
      "638:\tlearn: 0.3274122\ttotal: 1.39s\tremaining: 785ms\n",
      "639:\tlearn: 0.3272560\ttotal: 1.39s\tremaining: 783ms\n",
      "640:\tlearn: 0.3271681\ttotal: 1.39s\tremaining: 781ms\n",
      "641:\tlearn: 0.3270815\ttotal: 1.4s\tremaining: 778ms\n"
     ]
    },
    {
     "name": "stdout",
     "output_type": "stream",
     "text": [
      "642:\tlearn: 0.3270327\ttotal: 1.4s\tremaining: 776ms\n",
      "643:\tlearn: 0.3269122\ttotal: 1.4s\tremaining: 774ms\n",
      "644:\tlearn: 0.3267974\ttotal: 1.4s\tremaining: 772ms\n",
      "645:\tlearn: 0.3266879\ttotal: 1.41s\tremaining: 770ms\n",
      "646:\tlearn: 0.3266484\ttotal: 1.41s\tremaining: 768ms\n",
      "647:\tlearn: 0.3265649\ttotal: 1.41s\tremaining: 766ms\n",
      "648:\tlearn: 0.3264557\ttotal: 1.41s\tremaining: 764ms\n",
      "649:\tlearn: 0.3263056\ttotal: 1.41s\tremaining: 762ms\n",
      "650:\tlearn: 0.3262036\ttotal: 1.42s\tremaining: 760ms\n",
      "651:\tlearn: 0.3260624\ttotal: 1.42s\tremaining: 757ms\n",
      "652:\tlearn: 0.3259255\ttotal: 1.42s\tremaining: 755ms\n",
      "653:\tlearn: 0.3257543\ttotal: 1.42s\tremaining: 753ms\n",
      "654:\tlearn: 0.3256878\ttotal: 1.43s\tremaining: 751ms\n",
      "655:\tlearn: 0.3256370\ttotal: 1.43s\tremaining: 748ms\n",
      "656:\tlearn: 0.3255328\ttotal: 1.43s\tremaining: 746ms\n",
      "657:\tlearn: 0.3253990\ttotal: 1.43s\tremaining: 744ms\n",
      "658:\tlearn: 0.3252857\ttotal: 1.43s\tremaining: 742ms\n",
      "659:\tlearn: 0.3251761\ttotal: 1.44s\tremaining: 740ms\n",
      "660:\tlearn: 0.3250526\ttotal: 1.44s\tremaining: 737ms\n",
      "661:\tlearn: 0.3249310\ttotal: 1.44s\tremaining: 735ms\n",
      "662:\tlearn: 0.3248111\ttotal: 1.44s\tremaining: 733ms\n",
      "663:\tlearn: 0.3247145\ttotal: 1.44s\tremaining: 731ms\n",
      "664:\tlearn: 0.3246743\ttotal: 1.45s\tremaining: 728ms\n",
      "665:\tlearn: 0.3246018\ttotal: 1.45s\tremaining: 726ms\n",
      "666:\tlearn: 0.3244745\ttotal: 1.45s\tremaining: 724ms\n",
      "667:\tlearn: 0.3243858\ttotal: 1.45s\tremaining: 722ms\n",
      "668:\tlearn: 0.3243102\ttotal: 1.45s\tremaining: 720ms\n",
      "669:\tlearn: 0.3242563\ttotal: 1.46s\tremaining: 717ms\n",
      "670:\tlearn: 0.3241862\ttotal: 1.46s\tremaining: 715ms\n",
      "671:\tlearn: 0.3240768\ttotal: 1.46s\tremaining: 713ms\n",
      "672:\tlearn: 0.3239730\ttotal: 1.46s\tremaining: 711ms\n"
     ]
    },
    {
     "name": "stdout",
     "output_type": "stream",
     "text": [
      "673:\tlearn: 0.3238134\ttotal: 1.47s\tremaining: 709ms\n",
      "674:\tlearn: 0.3237428\ttotal: 1.47s\tremaining: 707ms\n",
      "675:\tlearn: 0.3236332\ttotal: 1.47s\tremaining: 704ms\n",
      "676:\tlearn: 0.3235338\ttotal: 1.47s\tremaining: 702ms\n",
      "677:\tlearn: 0.3234343\ttotal: 1.47s\tremaining: 700ms\n",
      "678:\tlearn: 0.3232834\ttotal: 1.48s\tremaining: 698ms\n",
      "679:\tlearn: 0.3231353\ttotal: 1.48s\tremaining: 696ms\n",
      "680:\tlearn: 0.3230128\ttotal: 1.48s\tremaining: 694ms\n",
      "681:\tlearn: 0.3229156\ttotal: 1.48s\tremaining: 691ms\n",
      "682:\tlearn: 0.3227858\ttotal: 1.48s\tremaining: 689ms\n",
      "683:\tlearn: 0.3226715\ttotal: 1.49s\tremaining: 687ms\n",
      "684:\tlearn: 0.3225600\ttotal: 1.49s\tremaining: 685ms\n",
      "685:\tlearn: 0.3224909\ttotal: 1.49s\tremaining: 682ms\n",
      "686:\tlearn: 0.3223698\ttotal: 1.49s\tremaining: 680ms\n",
      "687:\tlearn: 0.3223012\ttotal: 1.5s\tremaining: 678ms\n",
      "688:\tlearn: 0.3222114\ttotal: 1.5s\tremaining: 676ms\n",
      "689:\tlearn: 0.3221146\ttotal: 1.5s\tremaining: 674ms\n",
      "690:\tlearn: 0.3220053\ttotal: 1.5s\tremaining: 671ms\n",
      "691:\tlearn: 0.3218646\ttotal: 1.5s\tremaining: 669ms\n",
      "692:\tlearn: 0.3217627\ttotal: 1.5s\tremaining: 667ms\n",
      "693:\tlearn: 0.3216533\ttotal: 1.51s\tremaining: 665ms\n",
      "694:\tlearn: 0.3215317\ttotal: 1.51s\tremaining: 662ms\n",
      "695:\tlearn: 0.3213906\ttotal: 1.51s\tremaining: 660ms\n",
      "696:\tlearn: 0.3211961\ttotal: 1.51s\tremaining: 658ms\n",
      "697:\tlearn: 0.3210801\ttotal: 1.51s\tremaining: 656ms\n",
      "698:\tlearn: 0.3209832\ttotal: 1.52s\tremaining: 653ms\n",
      "699:\tlearn: 0.3208600\ttotal: 1.52s\tremaining: 651ms\n",
      "700:\tlearn: 0.3207062\ttotal: 1.52s\tremaining: 649ms\n",
      "701:\tlearn: 0.3205696\ttotal: 1.52s\tremaining: 647ms\n",
      "702:\tlearn: 0.3204431\ttotal: 1.52s\tremaining: 645ms\n",
      "703:\tlearn: 0.3203631\ttotal: 1.53s\tremaining: 642ms\n",
      "704:\tlearn: 0.3202169\ttotal: 1.53s\tremaining: 640ms\n",
      "705:\tlearn: 0.3200354\ttotal: 1.53s\tremaining: 638ms\n",
      "706:\tlearn: 0.3199344\ttotal: 1.53s\tremaining: 636ms\n",
      "707:\tlearn: 0.3198207\ttotal: 1.54s\tremaining: 634ms\n",
      "708:\tlearn: 0.3196970\ttotal: 1.54s\tremaining: 631ms\n",
      "709:\tlearn: 0.3195846\ttotal: 1.54s\tremaining: 629ms\n",
      "710:\tlearn: 0.3195097\ttotal: 1.54s\tremaining: 627ms\n",
      "711:\tlearn: 0.3193793\ttotal: 1.54s\tremaining: 625ms\n",
      "712:\tlearn: 0.3192877\ttotal: 1.55s\tremaining: 623ms\n",
      "713:\tlearn: 0.3191832\ttotal: 1.55s\tremaining: 620ms\n"
     ]
    },
    {
     "name": "stdout",
     "output_type": "stream",
     "text": [
      "714:\tlearn: 0.3190862\ttotal: 1.55s\tremaining: 619ms\n",
      "715:\tlearn: 0.3189954\ttotal: 1.55s\tremaining: 617ms\n",
      "716:\tlearn: 0.3189500\ttotal: 1.56s\tremaining: 614ms\n",
      "717:\tlearn: 0.3188566\ttotal: 1.56s\tremaining: 612ms\n",
      "718:\tlearn: 0.3187402\ttotal: 1.56s\tremaining: 610ms\n"
     ]
    },
    {
     "name": "stdout",
     "output_type": "stream",
     "text": [
      "719:\tlearn: 0.3186199\ttotal: 1.56s\tremaining: 608ms\n",
      "720:\tlearn: 0.3184855\ttotal: 1.56s\tremaining: 606ms\n",
      "721:\tlearn: 0.3183915\ttotal: 1.57s\tremaining: 603ms\n",
      "722:\tlearn: 0.3182950\ttotal: 1.57s\tremaining: 601ms\n",
      "723:\tlearn: 0.3181796\ttotal: 1.57s\tremaining: 599ms\n",
      "724:\tlearn: 0.3181262\ttotal: 1.57s\tremaining: 597ms\n",
      "725:\tlearn: 0.3180154\ttotal: 1.57s\tremaining: 595ms\n",
      "726:\tlearn: 0.3178757\ttotal: 1.58s\tremaining: 592ms\n",
      "727:\tlearn: 0.3178046\ttotal: 1.58s\tremaining: 590ms\n",
      "728:\tlearn: 0.3177029\ttotal: 1.58s\tremaining: 588ms\n",
      "729:\tlearn: 0.3175800\ttotal: 1.58s\tremaining: 586ms\n",
      "730:\tlearn: 0.3174704\ttotal: 1.58s\tremaining: 583ms\n",
      "731:\tlearn: 0.3173105\ttotal: 1.59s\tremaining: 581ms\n",
      "732:\tlearn: 0.3172131\ttotal: 1.59s\tremaining: 579ms\n",
      "733:\tlearn: 0.3171078\ttotal: 1.59s\tremaining: 577ms\n",
      "734:\tlearn: 0.3170005\ttotal: 1.59s\tremaining: 575ms\n",
      "735:\tlearn: 0.3168645\ttotal: 1.59s\tremaining: 572ms\n",
      "736:\tlearn: 0.3167591\ttotal: 1.6s\tremaining: 570ms\n",
      "737:\tlearn: 0.3167034\ttotal: 1.6s\tremaining: 568ms\n",
      "738:\tlearn: 0.3165895\ttotal: 1.6s\tremaining: 566ms\n",
      "739:\tlearn: 0.3165058\ttotal: 1.6s\tremaining: 563ms\n",
      "740:\tlearn: 0.3164169\ttotal: 1.6s\tremaining: 561ms\n",
      "741:\tlearn: 0.3163474\ttotal: 1.61s\tremaining: 559ms\n",
      "742:\tlearn: 0.3162473\ttotal: 1.61s\tremaining: 557ms\n",
      "743:\tlearn: 0.3161829\ttotal: 1.61s\tremaining: 555ms\n",
      "744:\tlearn: 0.3160747\ttotal: 1.61s\tremaining: 552ms\n",
      "745:\tlearn: 0.3159244\ttotal: 1.61s\tremaining: 550ms\n",
      "746:\tlearn: 0.3158452\ttotal: 1.62s\tremaining: 548ms\n",
      "747:\tlearn: 0.3157595\ttotal: 1.62s\tremaining: 546ms\n",
      "748:\tlearn: 0.3156704\ttotal: 1.62s\tremaining: 543ms\n",
      "749:\tlearn: 0.3155490\ttotal: 1.62s\tremaining: 541ms\n",
      "750:\tlearn: 0.3154568\ttotal: 1.63s\tremaining: 539ms\n"
     ]
    },
    {
     "name": "stdout",
     "output_type": "stream",
     "text": [
      "751:\tlearn: 0.3153846\ttotal: 1.63s\tremaining: 537ms\n",
      "752:\tlearn: 0.3153152\ttotal: 1.63s\tremaining: 535ms\n",
      "753:\tlearn: 0.3152509\ttotal: 1.63s\tremaining: 533ms\n",
      "754:\tlearn: 0.3151874\ttotal: 1.63s\tremaining: 530ms\n",
      "755:\tlearn: 0.3151459\ttotal: 1.64s\tremaining: 528ms\n",
      "756:\tlearn: 0.3150603\ttotal: 1.64s\tremaining: 526ms\n",
      "757:\tlearn: 0.3149780\ttotal: 1.64s\tremaining: 524ms\n",
      "758:\tlearn: 0.3148784\ttotal: 1.64s\tremaining: 522ms\n",
      "759:\tlearn: 0.3147976\ttotal: 1.64s\tremaining: 519ms\n",
      "760:\tlearn: 0.3147284\ttotal: 1.65s\tremaining: 517ms\n",
      "761:\tlearn: 0.3146830\ttotal: 1.65s\tremaining: 515ms\n",
      "762:\tlearn: 0.3146013\ttotal: 1.65s\tremaining: 513ms\n",
      "763:\tlearn: 0.3144885\ttotal: 1.65s\tremaining: 511ms\n",
      "764:\tlearn: 0.3144148\ttotal: 1.66s\tremaining: 508ms\n",
      "765:\tlearn: 0.3143298\ttotal: 1.66s\tremaining: 506ms\n",
      "766:\tlearn: 0.3142189\ttotal: 1.66s\tremaining: 504ms\n",
      "767:\tlearn: 0.3141207\ttotal: 1.66s\tremaining: 502ms\n",
      "768:\tlearn: 0.3140493\ttotal: 1.66s\tremaining: 500ms\n",
      "769:\tlearn: 0.3139469\ttotal: 1.67s\tremaining: 498ms\n",
      "770:\tlearn: 0.3138632\ttotal: 1.67s\tremaining: 496ms\n",
      "771:\tlearn: 0.3138066\ttotal: 1.67s\tremaining: 493ms\n",
      "772:\tlearn: 0.3137357\ttotal: 1.67s\tremaining: 491ms\n",
      "773:\tlearn: 0.3136559\ttotal: 1.68s\tremaining: 489ms\n",
      "774:\tlearn: 0.3135079\ttotal: 1.68s\tremaining: 487ms\n",
      "775:\tlearn: 0.3134096\ttotal: 1.68s\tremaining: 485ms\n",
      "776:\tlearn: 0.3133615\ttotal: 1.68s\tremaining: 483ms\n",
      "777:\tlearn: 0.3132558\ttotal: 1.68s\tremaining: 480ms\n",
      "778:\tlearn: 0.3131836\ttotal: 1.69s\tremaining: 478ms\n",
      "779:\tlearn: 0.3131017\ttotal: 1.69s\tremaining: 476ms\n",
      "780:\tlearn: 0.3130307\ttotal: 1.69s\tremaining: 474ms\n",
      "781:\tlearn: 0.3129170\ttotal: 1.69s\tremaining: 472ms\n",
      "782:\tlearn: 0.3127719\ttotal: 1.69s\tremaining: 469ms\n",
      "783:\tlearn: 0.3126280\ttotal: 1.7s\tremaining: 467ms\n",
      "784:\tlearn: 0.3125107\ttotal: 1.7s\tremaining: 465ms\n",
      "785:\tlearn: 0.3124063\ttotal: 1.7s\tremaining: 463ms\n",
      "786:\tlearn: 0.3123116\ttotal: 1.7s\tremaining: 461ms\n",
      "787:\tlearn: 0.3122225\ttotal: 1.7s\tremaining: 459ms\n",
      "788:\tlearn: 0.3121115\ttotal: 1.71s\tremaining: 456ms\n",
      "789:\tlearn: 0.3120487\ttotal: 1.71s\tremaining: 454ms\n",
      "790:\tlearn: 0.3119447\ttotal: 1.71s\tremaining: 452ms\n"
     ]
    },
    {
     "name": "stdout",
     "output_type": "stream",
     "text": [
      "791:\tlearn: 0.3118702\ttotal: 1.71s\tremaining: 450ms\n",
      "792:\tlearn: 0.3117609\ttotal: 1.72s\tremaining: 448ms\n",
      "793:\tlearn: 0.3116711\ttotal: 1.72s\tremaining: 446ms\n",
      "794:\tlearn: 0.3116039\ttotal: 1.72s\tremaining: 443ms\n",
      "795:\tlearn: 0.3114824\ttotal: 1.72s\tremaining: 441ms\n"
     ]
    },
    {
     "name": "stdout",
     "output_type": "stream",
     "text": [
      "796:\tlearn: 0.3114260\ttotal: 1.73s\tremaining: 439ms\n",
      "797:\tlearn: 0.3113518\ttotal: 1.73s\tremaining: 437ms\n",
      "798:\tlearn: 0.3112626\ttotal: 1.73s\tremaining: 435ms\n",
      "799:\tlearn: 0.3111910\ttotal: 1.73s\tremaining: 433ms\n",
      "800:\tlearn: 0.3111563\ttotal: 1.73s\tremaining: 431ms\n",
      "801:\tlearn: 0.3110819\ttotal: 1.74s\tremaining: 429ms\n",
      "802:\tlearn: 0.3110259\ttotal: 1.74s\tremaining: 426ms\n",
      "803:\tlearn: 0.3109208\ttotal: 1.74s\tremaining: 424ms\n",
      "804:\tlearn: 0.3108683\ttotal: 1.74s\tremaining: 422ms\n",
      "805:\tlearn: 0.3108010\ttotal: 1.74s\tremaining: 420ms\n",
      "806:\tlearn: 0.3107402\ttotal: 1.75s\tremaining: 418ms\n",
      "807:\tlearn: 0.3106836\ttotal: 1.75s\tremaining: 415ms\n",
      "808:\tlearn: 0.3106154\ttotal: 1.75s\tremaining: 413ms\n",
      "809:\tlearn: 0.3105510\ttotal: 1.75s\tremaining: 411ms\n",
      "810:\tlearn: 0.3104581\ttotal: 1.75s\tremaining: 409ms\n",
      "811:\tlearn: 0.3103555\ttotal: 1.75s\tremaining: 407ms\n",
      "812:\tlearn: 0.3102828\ttotal: 1.76s\tremaining: 404ms\n",
      "813:\tlearn: 0.3102150\ttotal: 1.76s\tremaining: 402ms\n",
      "814:\tlearn: 0.3101269\ttotal: 1.76s\tremaining: 400ms\n",
      "815:\tlearn: 0.3100287\ttotal: 1.76s\tremaining: 398ms\n",
      "816:\tlearn: 0.3099797\ttotal: 1.77s\tremaining: 396ms\n",
      "817:\tlearn: 0.3098943\ttotal: 1.77s\tremaining: 393ms\n",
      "818:\tlearn: 0.3097962\ttotal: 1.77s\tremaining: 391ms\n",
      "819:\tlearn: 0.3096893\ttotal: 1.77s\tremaining: 389ms\n",
      "820:\tlearn: 0.3096125\ttotal: 1.77s\tremaining: 387ms\n",
      "821:\tlearn: 0.3095306\ttotal: 1.78s\tremaining: 385ms\n",
      "822:\tlearn: 0.3094510\ttotal: 1.78s\tremaining: 383ms\n",
      "823:\tlearn: 0.3092985\ttotal: 1.78s\tremaining: 380ms\n",
      "824:\tlearn: 0.3092313\ttotal: 1.78s\tremaining: 378ms\n",
      "825:\tlearn: 0.3091598\ttotal: 1.78s\tremaining: 376ms\n",
      "826:\tlearn: 0.3090603\ttotal: 1.79s\tremaining: 374ms\n"
     ]
    },
    {
     "name": "stdout",
     "output_type": "stream",
     "text": [
      "827:\tlearn: 0.3088961\ttotal: 1.79s\tremaining: 372ms\n",
      "828:\tlearn: 0.3088107\ttotal: 1.79s\tremaining: 370ms\n",
      "829:\tlearn: 0.3087479\ttotal: 1.79s\tremaining: 368ms\n",
      "830:\tlearn: 0.3086736\ttotal: 1.8s\tremaining: 365ms\n",
      "831:\tlearn: 0.3086161\ttotal: 1.8s\tremaining: 363ms\n",
      "832:\tlearn: 0.3085161\ttotal: 1.8s\tremaining: 361ms\n",
      "833:\tlearn: 0.3083969\ttotal: 1.8s\tremaining: 359ms\n",
      "834:\tlearn: 0.3083189\ttotal: 1.8s\tremaining: 357ms\n",
      "835:\tlearn: 0.3082860\ttotal: 1.81s\tremaining: 355ms\n",
      "836:\tlearn: 0.3082117\ttotal: 1.81s\tremaining: 352ms\n",
      "837:\tlearn: 0.3081151\ttotal: 1.81s\tremaining: 350ms\n",
      "838:\tlearn: 0.3080360\ttotal: 1.81s\tremaining: 348ms\n",
      "839:\tlearn: 0.3079200\ttotal: 1.81s\tremaining: 346ms\n",
      "840:\tlearn: 0.3078426\ttotal: 1.82s\tremaining: 344ms\n",
      "841:\tlearn: 0.3077387\ttotal: 1.82s\tremaining: 341ms\n",
      "842:\tlearn: 0.3076696\ttotal: 1.82s\tremaining: 339ms\n",
      "843:\tlearn: 0.3075438\ttotal: 1.82s\tremaining: 337ms\n",
      "844:\tlearn: 0.3074764\ttotal: 1.83s\tremaining: 335ms\n",
      "845:\tlearn: 0.3073621\ttotal: 1.83s\tremaining: 333ms\n",
      "846:\tlearn: 0.3073079\ttotal: 1.83s\tremaining: 331ms\n",
      "847:\tlearn: 0.3072559\ttotal: 1.83s\tremaining: 328ms\n",
      "848:\tlearn: 0.3071774\ttotal: 1.83s\tremaining: 326ms\n",
      "849:\tlearn: 0.3070953\ttotal: 1.84s\tremaining: 324ms\n",
      "850:\tlearn: 0.3069917\ttotal: 1.84s\tremaining: 322ms\n",
      "851:\tlearn: 0.3068962\ttotal: 1.84s\tremaining: 320ms\n",
      "852:\tlearn: 0.3068116\ttotal: 1.84s\tremaining: 318ms\n",
      "853:\tlearn: 0.3067691\ttotal: 1.84s\tremaining: 315ms\n",
      "854:\tlearn: 0.3066738\ttotal: 1.85s\tremaining: 313ms\n",
      "855:\tlearn: 0.3065683\ttotal: 1.85s\tremaining: 311ms\n",
      "856:\tlearn: 0.3064916\ttotal: 1.85s\tremaining: 309ms\n",
      "857:\tlearn: 0.3064183\ttotal: 1.85s\tremaining: 307ms\n",
      "858:\tlearn: 0.3063171\ttotal: 1.85s\tremaining: 305ms\n",
      "859:\tlearn: 0.3062601\ttotal: 1.86s\tremaining: 302ms\n",
      "860:\tlearn: 0.3061919\ttotal: 1.86s\tremaining: 300ms\n",
      "861:\tlearn: 0.3060977\ttotal: 1.86s\tremaining: 298ms\n",
      "862:\tlearn: 0.3060237\ttotal: 1.86s\tremaining: 296ms\n",
      "863:\tlearn: 0.3059197\ttotal: 1.87s\tremaining: 294ms\n",
      "864:\tlearn: 0.3058360\ttotal: 1.87s\tremaining: 292ms\n",
      "865:\tlearn: 0.3057997\ttotal: 1.87s\tremaining: 289ms\n",
      "866:\tlearn: 0.3056984\ttotal: 1.87s\tremaining: 287ms\n",
      "867:\tlearn: 0.3056225\ttotal: 1.87s\tremaining: 285ms\n"
     ]
    },
    {
     "name": "stdout",
     "output_type": "stream",
     "text": [
      "868:\tlearn: 0.3055377\ttotal: 1.88s\tremaining: 283ms\n",
      "869:\tlearn: 0.3054486\ttotal: 1.88s\tremaining: 281ms\n",
      "870:\tlearn: 0.3053386\ttotal: 1.88s\tremaining: 279ms\n",
      "871:\tlearn: 0.3052632\ttotal: 1.88s\tremaining: 277ms\n",
      "872:\tlearn: 0.3051810\ttotal: 1.89s\tremaining: 274ms\n"
     ]
    },
    {
     "name": "stdout",
     "output_type": "stream",
     "text": [
      "873:\tlearn: 0.3051216\ttotal: 1.89s\tremaining: 272ms\n",
      "874:\tlearn: 0.3050096\ttotal: 1.89s\tremaining: 270ms\n",
      "875:\tlearn: 0.3049625\ttotal: 1.89s\tremaining: 268ms\n",
      "876:\tlearn: 0.3048868\ttotal: 1.9s\tremaining: 266ms\n",
      "877:\tlearn: 0.3048262\ttotal: 1.9s\tremaining: 264ms\n",
      "878:\tlearn: 0.3047070\ttotal: 1.9s\tremaining: 261ms\n",
      "879:\tlearn: 0.3046309\ttotal: 1.9s\tremaining: 259ms\n",
      "880:\tlearn: 0.3045241\ttotal: 1.9s\tremaining: 257ms\n",
      "881:\tlearn: 0.3044467\ttotal: 1.91s\tremaining: 255ms\n",
      "882:\tlearn: 0.3043789\ttotal: 1.91s\tremaining: 253ms\n",
      "883:\tlearn: 0.3042679\ttotal: 1.91s\tremaining: 251ms\n",
      "884:\tlearn: 0.3042203\ttotal: 1.91s\tremaining: 249ms\n",
      "885:\tlearn: 0.3040701\ttotal: 1.91s\tremaining: 246ms\n",
      "886:\tlearn: 0.3039829\ttotal: 1.92s\tremaining: 244ms\n",
      "887:\tlearn: 0.3039218\ttotal: 1.92s\tremaining: 242ms\n",
      "888:\tlearn: 0.3038834\ttotal: 1.92s\tremaining: 240ms\n",
      "889:\tlearn: 0.3037679\ttotal: 1.92s\tremaining: 238ms\n",
      "890:\tlearn: 0.3036948\ttotal: 1.93s\tremaining: 236ms\n",
      "891:\tlearn: 0.3036119\ttotal: 1.93s\tremaining: 233ms\n",
      "892:\tlearn: 0.3035096\ttotal: 1.93s\tremaining: 231ms\n",
      "893:\tlearn: 0.3034141\ttotal: 1.93s\tremaining: 229ms\n",
      "894:\tlearn: 0.3033563\ttotal: 1.93s\tremaining: 227ms\n",
      "895:\tlearn: 0.3032289\ttotal: 1.94s\tremaining: 225ms\n",
      "896:\tlearn: 0.3031296\ttotal: 1.94s\tremaining: 223ms\n",
      "897:\tlearn: 0.3030522\ttotal: 1.94s\tremaining: 220ms\n",
      "898:\tlearn: 0.3029819\ttotal: 1.94s\tremaining: 218ms\n",
      "899:\tlearn: 0.3029192\ttotal: 1.94s\tremaining: 216ms\n",
      "900:\tlearn: 0.3028494\ttotal: 1.95s\tremaining: 214ms\n",
      "901:\tlearn: 0.3027474\ttotal: 1.95s\tremaining: 212ms\n",
      "902:\tlearn: 0.3025770\ttotal: 1.95s\tremaining: 210ms\n"
     ]
    },
    {
     "name": "stdout",
     "output_type": "stream",
     "text": [
      "903:\tlearn: 0.3025034\ttotal: 1.95s\tremaining: 208ms\n",
      "904:\tlearn: 0.3024224\ttotal: 1.96s\tremaining: 205ms\n",
      "905:\tlearn: 0.3023280\ttotal: 1.96s\tremaining: 203ms\n",
      "906:\tlearn: 0.3022724\ttotal: 1.96s\tremaining: 201ms\n",
      "907:\tlearn: 0.3022067\ttotal: 1.96s\tremaining: 199ms\n",
      "908:\tlearn: 0.3021480\ttotal: 1.97s\tremaining: 197ms\n",
      "909:\tlearn: 0.3020685\ttotal: 1.97s\tremaining: 195ms\n",
      "910:\tlearn: 0.3019775\ttotal: 1.97s\tremaining: 192ms\n",
      "911:\tlearn: 0.3018769\ttotal: 1.97s\tremaining: 190ms\n",
      "912:\tlearn: 0.3017531\ttotal: 1.97s\tremaining: 188ms\n",
      "913:\tlearn: 0.3016760\ttotal: 1.98s\tremaining: 186ms\n",
      "914:\tlearn: 0.3016110\ttotal: 1.98s\tremaining: 184ms\n",
      "915:\tlearn: 0.3015277\ttotal: 1.98s\tremaining: 182ms\n",
      "916:\tlearn: 0.3014497\ttotal: 1.98s\tremaining: 179ms\n",
      "917:\tlearn: 0.3013817\ttotal: 1.99s\tremaining: 177ms\n",
      "918:\tlearn: 0.3012465\ttotal: 1.99s\tremaining: 175ms\n",
      "919:\tlearn: 0.3011200\ttotal: 1.99s\tremaining: 173ms\n",
      "920:\tlearn: 0.3010330\ttotal: 1.99s\tremaining: 171ms\n",
      "921:\tlearn: 0.3009652\ttotal: 1.99s\tremaining: 169ms\n",
      "922:\tlearn: 0.3009111\ttotal: 2s\tremaining: 166ms\n",
      "923:\tlearn: 0.3008352\ttotal: 2s\tremaining: 164ms\n",
      "924:\tlearn: 0.3006848\ttotal: 2s\tremaining: 162ms\n",
      "925:\tlearn: 0.3005880\ttotal: 2s\tremaining: 160ms\n",
      "926:\tlearn: 0.3005057\ttotal: 2s\tremaining: 158ms\n",
      "927:\tlearn: 0.3004386\ttotal: 2s\tremaining: 156ms\n",
      "928:\tlearn: 0.3003717\ttotal: 2.01s\tremaining: 153ms\n",
      "929:\tlearn: 0.3003028\ttotal: 2.01s\tremaining: 151ms\n",
      "930:\tlearn: 0.3001796\ttotal: 2.01s\tremaining: 149ms\n",
      "931:\tlearn: 0.3001207\ttotal: 2.01s\tremaining: 147ms\n",
      "932:\tlearn: 0.3000312\ttotal: 2.02s\tremaining: 145ms\n",
      "933:\tlearn: 0.2999309\ttotal: 2.02s\tremaining: 143ms\n",
      "934:\tlearn: 0.2998603\ttotal: 2.02s\tremaining: 140ms\n",
      "935:\tlearn: 0.2997909\ttotal: 2.02s\tremaining: 138ms\n",
      "936:\tlearn: 0.2997076\ttotal: 2.02s\tremaining: 136ms\n",
      "937:\tlearn: 0.2996659\ttotal: 2.03s\tremaining: 134ms\n",
      "938:\tlearn: 0.2995919\ttotal: 2.03s\tremaining: 132ms\n",
      "939:\tlearn: 0.2995122\ttotal: 2.03s\tremaining: 130ms\n",
      "940:\tlearn: 0.2994299\ttotal: 2.03s\tremaining: 127ms\n",
      "941:\tlearn: 0.2993578\ttotal: 2.03s\tremaining: 125ms\n",
      "942:\tlearn: 0.2992799\ttotal: 2.04s\tremaining: 123ms\n",
      "943:\tlearn: 0.2991908\ttotal: 2.04s\tremaining: 121ms\n"
     ]
    },
    {
     "name": "stdout",
     "output_type": "stream",
     "text": [
      "944:\tlearn: 0.2991095\ttotal: 2.04s\tremaining: 119ms\n",
      "945:\tlearn: 0.2990341\ttotal: 2.04s\tremaining: 117ms\n",
      "946:\tlearn: 0.2989766\ttotal: 2.04s\tremaining: 114ms\n",
      "947:\tlearn: 0.2989446\ttotal: 2.05s\tremaining: 112ms\n",
      "948:\tlearn: 0.2988631\ttotal: 2.05s\tremaining: 110ms\n"
     ]
    },
    {
     "name": "stdout",
     "output_type": "stream",
     "text": [
      "949:\tlearn: 0.2988241\ttotal: 2.05s\tremaining: 108ms\n",
      "950:\tlearn: 0.2987579\ttotal: 2.06s\tremaining: 106ms\n",
      "951:\tlearn: 0.2986884\ttotal: 2.06s\tremaining: 104ms\n",
      "952:\tlearn: 0.2986170\ttotal: 2.06s\tremaining: 102ms\n",
      "953:\tlearn: 0.2985143\ttotal: 2.06s\tremaining: 99.4ms\n",
      "954:\tlearn: 0.2984458\ttotal: 2.06s\tremaining: 97.2ms\n",
      "955:\tlearn: 0.2983251\ttotal: 2.06s\tremaining: 95ms\n",
      "956:\tlearn: 0.2982473\ttotal: 2.07s\tremaining: 92.9ms\n",
      "957:\tlearn: 0.2981691\ttotal: 2.07s\tremaining: 90.7ms\n",
      "958:\tlearn: 0.2981147\ttotal: 2.07s\tremaining: 88.5ms\n",
      "959:\tlearn: 0.2980398\ttotal: 2.07s\tremaining: 86.4ms\n",
      "960:\tlearn: 0.2979059\ttotal: 2.08s\tremaining: 84.2ms\n",
      "961:\tlearn: 0.2978542\ttotal: 2.08s\tremaining: 82ms\n",
      "962:\tlearn: 0.2977484\ttotal: 2.08s\tremaining: 79.9ms\n",
      "963:\tlearn: 0.2976883\ttotal: 2.08s\tremaining: 77.7ms\n",
      "964:\tlearn: 0.2976124\ttotal: 2.08s\tremaining: 75.6ms\n",
      "965:\tlearn: 0.2974911\ttotal: 2.08s\tremaining: 73.4ms\n",
      "966:\tlearn: 0.2974302\ttotal: 2.09s\tremaining: 71.2ms\n",
      "967:\tlearn: 0.2974002\ttotal: 2.09s\tremaining: 69.1ms\n",
      "968:\tlearn: 0.2973365\ttotal: 2.09s\tremaining: 66.9ms\n",
      "969:\tlearn: 0.2972866\ttotal: 2.09s\tremaining: 64.8ms\n",
      "970:\tlearn: 0.2972434\ttotal: 2.1s\tremaining: 62.6ms\n",
      "971:\tlearn: 0.2971672\ttotal: 2.1s\tremaining: 60.4ms\n",
      "972:\tlearn: 0.2970789\ttotal: 2.1s\tremaining: 58.3ms\n",
      "973:\tlearn: 0.2969965\ttotal: 2.1s\tremaining: 56.1ms\n",
      "974:\tlearn: 0.2969016\ttotal: 2.1s\tremaining: 54ms\n",
      "975:\tlearn: 0.2968274\ttotal: 2.11s\tremaining: 51.8ms\n",
      "976:\tlearn: 0.2967210\ttotal: 2.11s\tremaining: 49.6ms\n",
      "977:\tlearn: 0.2966666\ttotal: 2.11s\tremaining: 47.5ms\n",
      "978:\tlearn: 0.2966047\ttotal: 2.11s\tremaining: 45.3ms\n",
      "979:\tlearn: 0.2965472\ttotal: 2.11s\tremaining: 43.2ms\n"
     ]
    },
    {
     "name": "stdout",
     "output_type": "stream",
     "text": [
      "980:\tlearn: 0.2964539\ttotal: 2.12s\tremaining: 41ms\n",
      "981:\tlearn: 0.2963933\ttotal: 2.12s\tremaining: 38.8ms\n",
      "982:\tlearn: 0.2963315\ttotal: 2.12s\tremaining: 36.7ms\n",
      "983:\tlearn: 0.2962042\ttotal: 2.12s\tremaining: 34.5ms\n",
      "984:\tlearn: 0.2961514\ttotal: 2.12s\tremaining: 32.4ms\n",
      "985:\tlearn: 0.2960516\ttotal: 2.13s\tremaining: 30.2ms\n",
      "986:\tlearn: 0.2959679\ttotal: 2.13s\tremaining: 28ms\n",
      "987:\tlearn: 0.2958528\ttotal: 2.13s\tremaining: 25.9ms\n",
      "988:\tlearn: 0.2957768\ttotal: 2.13s\tremaining: 23.7ms\n",
      "989:\tlearn: 0.2957106\ttotal: 2.13s\tremaining: 21.6ms\n",
      "990:\tlearn: 0.2956470\ttotal: 2.14s\tremaining: 19.4ms\n",
      "991:\tlearn: 0.2955727\ttotal: 2.14s\tremaining: 17.3ms\n",
      "992:\tlearn: 0.2954969\ttotal: 2.14s\tremaining: 15.1ms\n",
      "993:\tlearn: 0.2954475\ttotal: 2.14s\tremaining: 12.9ms\n",
      "994:\tlearn: 0.2953672\ttotal: 2.15s\tremaining: 10.8ms\n",
      "995:\tlearn: 0.2953251\ttotal: 2.15s\tremaining: 8.62ms\n",
      "996:\tlearn: 0.2952535\ttotal: 2.15s\tremaining: 6.47ms\n",
      "997:\tlearn: 0.2951853\ttotal: 2.15s\tremaining: 4.31ms\n",
      "998:\tlearn: 0.2950851\ttotal: 2.15s\tremaining: 2.16ms\n",
      "999:\tlearn: 0.2950147\ttotal: 2.15s\tremaining: 0us\n",
      "Mean Absolute error 0.254006933705406\n"
     ]
    },
    {
     "data": {
      "application/scrapbook.scrap.json+json": {
       "data": 0.254006933705406,
       "encoder": "json",
       "name": "Catboost MAE",
       "version": 1
      }
     },
     "metadata": {
      "scrapbook": {
       "data": true,
       "display": false,
       "name": "Catboost MAE"
      }
     },
     "output_type": "display_data"
    },
    {
     "name": "stdout",
     "output_type": "stream",
     "text": [
      "Catboost MAE 0.254006933705406\n"
     ]
    }
   ],
   "source": [
    "mae_cb = baselineModels.catboost(X_train,y_train,X_test,y_test)\n",
    "#Store MAE Value\n",
    "sb.glue(\"Catboost MAE\",mae_cb)\n",
    "print(\"Catboost MAE\",mae_cb)"
   ]
  },
  {
   "cell_type": "markdown",
   "id": "e9d6e230",
   "metadata": {
    "papermill": {
     "duration": 0.009844,
     "end_time": "2022-07-20T17:15:28.470927",
     "exception": false,
     "start_time": "2022-07-20T17:15:28.461083",
     "status": "completed"
    },
    "tags": []
   },
   "source": [
    "# TabNet Regressor"
   ]
  },
  {
   "cell_type": "code",
   "execution_count": 7,
   "id": "c8367e88",
   "metadata": {
    "execution": {
     "iopub.execute_input": "2022-07-20T17:15:28.491044Z",
     "iopub.status.busy": "2022-07-20T17:15:28.490735Z",
     "iopub.status.idle": "2022-07-20T17:15:28.494215Z",
     "shell.execute_reply": "2022-07-20T17:15:28.493403Z"
    },
    "papermill": {
     "duration": 0.015713,
     "end_time": "2022-07-20T17:15:28.495903",
     "exception": false,
     "start_time": "2022-07-20T17:15:28.480190",
     "status": "completed"
    },
    "tags": []
   },
   "outputs": [],
   "source": [
    "n_epochs = 500\n",
    "batch_size = 256"
   ]
  },
  {
   "cell_type": "code",
   "execution_count": 8,
   "id": "f34d6159",
   "metadata": {
    "execution": {
     "iopub.execute_input": "2022-07-20T17:15:28.518287Z",
     "iopub.status.busy": "2022-07-20T17:15:28.518030Z",
     "iopub.status.idle": "2022-07-20T17:24:26.459366Z",
     "shell.execute_reply": "2022-07-20T17:24:26.458631Z"
    },
    "papermill": {
     "duration": 537.953724,
     "end_time": "2022-07-20T17:24:26.461090",
     "exception": false,
     "start_time": "2022-07-20T17:15:28.507366",
     "status": "completed"
    },
    "tags": []
   },
   "outputs": [
    {
     "name": "stdout",
     "output_type": "stream",
     "text": [
      "Device used : cuda\n"
     ]
    },
    {
     "name": "stdout",
     "output_type": "stream",
     "text": [
      "epoch 0  | loss: 1.79254 | train_mse: 1.14317 | train_mae: 0.75265 |  0:00:02s\n"
     ]
    },
    {
     "name": "stdout",
     "output_type": "stream",
     "text": [
      "epoch 1  | loss: 0.98566 | train_mse: 1.98881 | train_mae: 0.67233 |  0:00:04s\n"
     ]
    },
    {
     "name": "stdout",
     "output_type": "stream",
     "text": [
      "epoch 2  | loss: 0.79161 | train_mse: 1.63627 | train_mae: 0.6277  |  0:00:07s\n"
     ]
    },
    {
     "name": "stdout",
     "output_type": "stream",
     "text": [
      "epoch 3  | loss: 0.66619 | train_mse: 0.66759 | train_mae: 0.56742 |  0:00:09s\n"
     ]
    },
    {
     "name": "stdout",
     "output_type": "stream",
     "text": [
      "epoch 4  | loss: 0.57338 | train_mse: 0.77154 | train_mae: 0.53542 |  0:00:11s\n"
     ]
    },
    {
     "name": "stdout",
     "output_type": "stream",
     "text": [
      "epoch 5  | loss: 0.51222 | train_mse: 0.66931 | train_mae: 0.51552 |  0:00:13s\n"
     ]
    },
    {
     "name": "stdout",
     "output_type": "stream",
     "text": [
      "epoch 6  | loss: 0.48451 | train_mse: 0.56869 | train_mae: 0.49634 |  0:00:15s\n"
     ]
    },
    {
     "name": "stdout",
     "output_type": "stream",
     "text": [
      "epoch 7  | loss: 0.45319 | train_mse: 0.50134 | train_mae: 0.48584 |  0:00:18s\n"
     ]
    },
    {
     "name": "stdout",
     "output_type": "stream",
     "text": [
      "epoch 8  | loss: 0.43204 | train_mse: 0.51408 | train_mae: 0.47785 |  0:00:20s\n"
     ]
    },
    {
     "name": "stdout",
     "output_type": "stream",
     "text": [
      "epoch 9  | loss: 0.41069 | train_mse: 0.46812 | train_mae: 0.47323 |  0:00:22s\n"
     ]
    },
    {
     "name": "stdout",
     "output_type": "stream",
     "text": [
      "epoch 10 | loss: 0.39914 | train_mse: 0.44937 | train_mae: 0.45929 |  0:00:24s\n"
     ]
    },
    {
     "name": "stdout",
     "output_type": "stream",
     "text": [
      "epoch 11 | loss: 0.38188 | train_mse: 0.44419 | train_mae: 0.45852 |  0:00:26s\n"
     ]
    },
    {
     "name": "stdout",
     "output_type": "stream",
     "text": [
      "epoch 12 | loss: 0.36766 | train_mse: 0.40313 | train_mae: 0.44585 |  0:00:28s\n"
     ]
    },
    {
     "name": "stdout",
     "output_type": "stream",
     "text": [
      "epoch 13 | loss: 0.35311 | train_mse: 0.41318 | train_mae: 0.44333 |  0:00:31s\n"
     ]
    },
    {
     "name": "stdout",
     "output_type": "stream",
     "text": [
      "epoch 14 | loss: 0.35102 | train_mse: 0.42526 | train_mae: 0.44226 |  0:00:33s\n"
     ]
    },
    {
     "name": "stdout",
     "output_type": "stream",
     "text": [
      "epoch 15 | loss: 0.34147 | train_mse: 0.42128 | train_mae: 0.44679 |  0:00:35s\n"
     ]
    },
    {
     "name": "stdout",
     "output_type": "stream",
     "text": [
      "epoch 16 | loss: 0.33217 | train_mse: 0.40002 | train_mae: 0.43783 |  0:00:37s\n"
     ]
    },
    {
     "name": "stdout",
     "output_type": "stream",
     "text": [
      "epoch 17 | loss: 0.33168 | train_mse: 0.44371 | train_mae: 0.43411 |  0:00:39s\n"
     ]
    },
    {
     "name": "stdout",
     "output_type": "stream",
     "text": [
      "epoch 18 | loss: 0.33431 | train_mse: 0.41448 | train_mae: 0.43133 |  0:00:41s\n"
     ]
    },
    {
     "name": "stdout",
     "output_type": "stream",
     "text": [
      "epoch 19 | loss: 0.32489 | train_mse: 0.40702 | train_mae: 0.4331  |  0:00:44s\n"
     ]
    },
    {
     "name": "stdout",
     "output_type": "stream",
     "text": [
      "epoch 20 | loss: 0.31427 | train_mse: 0.39795 | train_mae: 0.41955 |  0:00:46s\n"
     ]
    },
    {
     "name": "stdout",
     "output_type": "stream",
     "text": [
      "epoch 21 | loss: 0.31576 | train_mse: 0.42528 | train_mae: 0.42694 |  0:00:48s\n"
     ]
    },
    {
     "name": "stdout",
     "output_type": "stream",
     "text": [
      "epoch 22 | loss: 0.31576 | train_mse: 0.42591 | train_mae: 0.42339 |  0:00:50s\n"
     ]
    },
    {
     "name": "stdout",
     "output_type": "stream",
     "text": [
      "epoch 23 | loss: 0.31347 | train_mse: 0.40947 | train_mae: 0.42009 |  0:00:53s\n"
     ]
    },
    {
     "name": "stdout",
     "output_type": "stream",
     "text": [
      "epoch 24 | loss: 0.30501 | train_mse: 0.40472 | train_mae: 0.42058 |  0:00:55s\n"
     ]
    },
    {
     "name": "stdout",
     "output_type": "stream",
     "text": [
      "epoch 25 | loss: 0.30924 | train_mse: 0.40807 | train_mae: 0.42462 |  0:00:57s\n"
     ]
    },
    {
     "name": "stdout",
     "output_type": "stream",
     "text": [
      "epoch 26 | loss: 0.30585 | train_mse: 0.4047  | train_mae: 0.41975 |  0:00:59s\n"
     ]
    },
    {
     "name": "stdout",
     "output_type": "stream",
     "text": [
      "epoch 27 | loss: 0.30242 | train_mse: 0.40537 | train_mae: 0.42365 |  0:01:01s\n"
     ]
    },
    {
     "name": "stdout",
     "output_type": "stream",
     "text": [
      "epoch 28 | loss: 0.29957 | train_mse: 0.37531 | train_mae: 0.41146 |  0:01:04s\n"
     ]
    },
    {
     "name": "stdout",
     "output_type": "stream",
     "text": [
      "epoch 29 | loss: 0.29653 | train_mse: 0.37366 | train_mae: 0.41127 |  0:01:06s\n"
     ]
    },
    {
     "name": "stdout",
     "output_type": "stream",
     "text": [
      "epoch 30 | loss: 0.29384 | train_mse: 0.36389 | train_mae: 0.40764 |  0:01:08s\n"
     ]
    },
    {
     "name": "stdout",
     "output_type": "stream",
     "text": [
      "epoch 31 | loss: 0.28847 | train_mse: 0.36612 | train_mae: 0.40663 |  0:01:10s\n"
     ]
    },
    {
     "name": "stdout",
     "output_type": "stream",
     "text": [
      "epoch 32 | loss: 0.28601 | train_mse: 0.37152 | train_mae: 0.40848 |  0:01:12s\n"
     ]
    },
    {
     "name": "stdout",
     "output_type": "stream",
     "text": [
      "epoch 33 | loss: 0.28334 | train_mse: 0.36401 | train_mae: 0.4084  |  0:01:14s\n"
     ]
    },
    {
     "name": "stdout",
     "output_type": "stream",
     "text": [
      "epoch 34 | loss: 0.28707 | train_mse: 0.48117 | train_mae: 0.40977 |  0:01:17s\n"
     ]
    },
    {
     "name": "stdout",
     "output_type": "stream",
     "text": [
      "epoch 35 | loss: 0.27898 | train_mse: 0.83684 | train_mae: 0.40723 |  0:01:19s\n"
     ]
    },
    {
     "name": "stdout",
     "output_type": "stream",
     "text": [
      "epoch 36 | loss: 0.28569 | train_mse: 0.37973 | train_mae: 0.40747 |  0:01:21s\n"
     ]
    },
    {
     "name": "stdout",
     "output_type": "stream",
     "text": [
      "epoch 37 | loss: 0.28521 | train_mse: 0.35868 | train_mae: 0.40595 |  0:01:23s\n"
     ]
    },
    {
     "name": "stdout",
     "output_type": "stream",
     "text": [
      "epoch 38 | loss: 0.2816  | train_mse: 0.36654 | train_mae: 0.40869 |  0:01:25s\n"
     ]
    },
    {
     "name": "stdout",
     "output_type": "stream",
     "text": [
      "epoch 39 | loss: 0.27647 | train_mse: 0.36871 | train_mae: 0.40723 |  0:01:27s\n"
     ]
    },
    {
     "name": "stdout",
     "output_type": "stream",
     "text": [
      "epoch 40 | loss: 0.27212 | train_mse: 0.36493 | train_mae: 0.40105 |  0:01:29s\n"
     ]
    },
    {
     "name": "stdout",
     "output_type": "stream",
     "text": [
      "epoch 41 | loss: 0.27208 | train_mse: 0.36547 | train_mae: 0.40149 |  0:01:32s\n"
     ]
    },
    {
     "name": "stdout",
     "output_type": "stream",
     "text": [
      "epoch 42 | loss: 0.27314 | train_mse: 0.39624 | train_mae: 0.40152 |  0:01:34s\n"
     ]
    },
    {
     "name": "stdout",
     "output_type": "stream",
     "text": [
      "epoch 43 | loss: 0.268   | train_mse: 0.37355 | train_mae: 0.40116 |  0:01:36s\n"
     ]
    },
    {
     "name": "stdout",
     "output_type": "stream",
     "text": [
      "epoch 44 | loss: 0.26338 | train_mse: 0.38322 | train_mae: 0.39746 |  0:01:38s\n"
     ]
    },
    {
     "name": "stdout",
     "output_type": "stream",
     "text": [
      "epoch 45 | loss: 0.26832 | train_mse: 0.36934 | train_mae: 0.39582 |  0:01:40s\n"
     ]
    },
    {
     "name": "stdout",
     "output_type": "stream",
     "text": [
      "epoch 46 | loss: 0.26897 | train_mse: 0.37518 | train_mae: 0.39873 |  0:01:42s\n"
     ]
    },
    {
     "name": "stdout",
     "output_type": "stream",
     "text": [
      "epoch 47 | loss: 0.26422 | train_mse: 0.36935 | train_mae: 0.39234 |  0:01:44s\n"
     ]
    },
    {
     "name": "stdout",
     "output_type": "stream",
     "text": [
      "epoch 48 | loss: 0.26208 | train_mse: 0.37645 | train_mae: 0.4033  |  0:01:46s\n"
     ]
    },
    {
     "name": "stdout",
     "output_type": "stream",
     "text": [
      "epoch 49 | loss: 0.26431 | train_mse: 0.3695  | train_mae: 0.39714 |  0:01:49s\n"
     ]
    },
    {
     "name": "stdout",
     "output_type": "stream",
     "text": [
      "epoch 50 | loss: 0.2597  | train_mse: 0.36391 | train_mae: 0.39705 |  0:01:51s\n"
     ]
    },
    {
     "name": "stdout",
     "output_type": "stream",
     "text": [
      "epoch 51 | loss: 0.25763 | train_mse: 0.36248 | train_mae: 0.39108 |  0:01:53s\n"
     ]
    },
    {
     "name": "stdout",
     "output_type": "stream",
     "text": [
      "epoch 52 | loss: 0.26048 | train_mse: 0.37237 | train_mae: 0.39213 |  0:01:55s\n"
     ]
    },
    {
     "name": "stdout",
     "output_type": "stream",
     "text": [
      "epoch 53 | loss: 0.25879 | train_mse: 0.39638 | train_mae: 0.40128 |  0:01:57s\n"
     ]
    },
    {
     "name": "stdout",
     "output_type": "stream",
     "text": [
      "epoch 54 | loss: 0.26003 | train_mse: 0.35355 | train_mae: 0.39259 |  0:01:59s\n"
     ]
    },
    {
     "name": "stdout",
     "output_type": "stream",
     "text": [
      "epoch 55 | loss: 0.25761 | train_mse: 0.35811 | train_mae: 0.38935 |  0:02:01s\n"
     ]
    },
    {
     "name": "stdout",
     "output_type": "stream",
     "text": [
      "epoch 56 | loss: 0.25413 | train_mse: 0.35437 | train_mae: 0.38965 |  0:02:04s\n"
     ]
    },
    {
     "name": "stdout",
     "output_type": "stream",
     "text": [
      "epoch 57 | loss: 0.25788 | train_mse: 0.37616 | train_mae: 0.39249 |  0:02:06s\n"
     ]
    },
    {
     "name": "stdout",
     "output_type": "stream",
     "text": [
      "epoch 58 | loss: 0.25558 | train_mse: 0.38795 | train_mae: 0.39585 |  0:02:08s\n"
     ]
    },
    {
     "name": "stdout",
     "output_type": "stream",
     "text": [
      "epoch 59 | loss: 0.25625 | train_mse: 0.3682  | train_mae: 0.39525 |  0:02:10s\n"
     ]
    },
    {
     "name": "stdout",
     "output_type": "stream",
     "text": [
      "epoch 60 | loss: 0.25465 | train_mse: 0.36881 | train_mae: 0.39413 |  0:02:12s\n"
     ]
    },
    {
     "name": "stdout",
     "output_type": "stream",
     "text": [
      "epoch 61 | loss: 0.25844 | train_mse: 0.35816 | train_mae: 0.39142 |  0:02:14s\n"
     ]
    },
    {
     "name": "stdout",
     "output_type": "stream",
     "text": [
      "epoch 62 | loss: 0.25297 | train_mse: 0.33709 | train_mae: 0.38872 |  0:02:17s\n"
     ]
    },
    {
     "name": "stdout",
     "output_type": "stream",
     "text": [
      "epoch 63 | loss: 0.24885 | train_mse: 0.34286 | train_mae: 0.39206 |  0:02:19s\n"
     ]
    },
    {
     "name": "stdout",
     "output_type": "stream",
     "text": [
      "epoch 64 | loss: 0.25528 | train_mse: 0.3537  | train_mae: 0.38481 |  0:02:21s\n"
     ]
    },
    {
     "name": "stdout",
     "output_type": "stream",
     "text": [
      "epoch 65 | loss: 0.24786 | train_mse: 0.48881 | train_mae: 0.3919  |  0:02:23s\n"
     ]
    },
    {
     "name": "stdout",
     "output_type": "stream",
     "text": [
      "epoch 66 | loss: 0.25246 | train_mse: 0.3323  | train_mae: 0.38671 |  0:02:25s\n"
     ]
    },
    {
     "name": "stdout",
     "output_type": "stream",
     "text": [
      "epoch 67 | loss: 0.25243 | train_mse: 0.34233 | train_mae: 0.38609 |  0:02:27s\n"
     ]
    },
    {
     "name": "stdout",
     "output_type": "stream",
     "text": [
      "epoch 68 | loss: 0.25358 | train_mse: 0.33849 | train_mae: 0.3892  |  0:02:30s\n"
     ]
    },
    {
     "name": "stdout",
     "output_type": "stream",
     "text": [
      "epoch 69 | loss: 0.2501  | train_mse: 0.33002 | train_mae: 0.38263 |  0:02:32s\n"
     ]
    },
    {
     "name": "stdout",
     "output_type": "stream",
     "text": [
      "epoch 70 | loss: 0.25237 | train_mse: 0.33394 | train_mae: 0.38795 |  0:02:34s\n"
     ]
    },
    {
     "name": "stdout",
     "output_type": "stream",
     "text": [
      "epoch 71 | loss: 0.25077 | train_mse: 0.33523 | train_mae: 0.3829  |  0:02:36s\n"
     ]
    },
    {
     "name": "stdout",
     "output_type": "stream",
     "text": [
      "epoch 72 | loss: 0.24729 | train_mse: 0.34289 | train_mae: 0.38627 |  0:02:38s\n"
     ]
    },
    {
     "name": "stdout",
     "output_type": "stream",
     "text": [
      "epoch 73 | loss: 0.24784 | train_mse: 0.34345 | train_mae: 0.38872 |  0:02:40s\n"
     ]
    },
    {
     "name": "stdout",
     "output_type": "stream",
     "text": [
      "epoch 74 | loss: 0.24926 | train_mse: 0.3415  | train_mae: 0.39023 |  0:02:42s\n"
     ]
    },
    {
     "name": "stdout",
     "output_type": "stream",
     "text": [
      "epoch 75 | loss: 0.24631 | train_mse: 0.33184 | train_mae: 0.38487 |  0:02:45s\n"
     ]
    },
    {
     "name": "stdout",
     "output_type": "stream",
     "text": [
      "epoch 76 | loss: 0.24658 | train_mse: 0.34513 | train_mae: 0.38464 |  0:02:47s\n"
     ]
    },
    {
     "name": "stdout",
     "output_type": "stream",
     "text": [
      "epoch 77 | loss: 0.24452 | train_mse: 0.34874 | train_mae: 0.38239 |  0:02:49s\n"
     ]
    },
    {
     "name": "stdout",
     "output_type": "stream",
     "text": [
      "epoch 78 | loss: 0.24516 | train_mse: 0.34569 | train_mae: 0.38532 |  0:02:51s\n"
     ]
    },
    {
     "name": "stdout",
     "output_type": "stream",
     "text": [
      "epoch 79 | loss: 0.24842 | train_mse: 0.34409 | train_mae: 0.38584 |  0:02:54s\n"
     ]
    },
    {
     "name": "stdout",
     "output_type": "stream",
     "text": [
      "epoch 80 | loss: 0.2433  | train_mse: 0.33998 | train_mae: 0.38532 |  0:02:56s\n"
     ]
    },
    {
     "name": "stdout",
     "output_type": "stream",
     "text": [
      "epoch 81 | loss: 0.24352 | train_mse: 0.33134 | train_mae: 0.38783 |  0:02:58s\n"
     ]
    },
    {
     "name": "stdout",
     "output_type": "stream",
     "text": [
      "epoch 82 | loss: 0.2459  | train_mse: 0.32761 | train_mae: 0.38307 |  0:03:00s\n"
     ]
    },
    {
     "name": "stdout",
     "output_type": "stream",
     "text": [
      "epoch 83 | loss: 0.2437  | train_mse: 0.34289 | train_mae: 0.38613 |  0:03:02s\n"
     ]
    },
    {
     "name": "stdout",
     "output_type": "stream",
     "text": [
      "epoch 84 | loss: 0.24116 | train_mse: 0.32808 | train_mae: 0.38603 |  0:03:04s\n"
     ]
    },
    {
     "name": "stdout",
     "output_type": "stream",
     "text": [
      "epoch 85 | loss: 0.24453 | train_mse: 0.33287 | train_mae: 0.38427 |  0:03:06s\n"
     ]
    },
    {
     "name": "stdout",
     "output_type": "stream",
     "text": [
      "epoch 86 | loss: 0.24529 | train_mse: 0.32746 | train_mae: 0.38043 |  0:03:08s\n"
     ]
    },
    {
     "name": "stdout",
     "output_type": "stream",
     "text": [
      "epoch 87 | loss: 0.24414 | train_mse: 0.352   | train_mae: 0.39192 |  0:03:11s\n"
     ]
    },
    {
     "name": "stdout",
     "output_type": "stream",
     "text": [
      "epoch 88 | loss: 0.2417  | train_mse: 0.34667 | train_mae: 0.39009 |  0:03:13s\n"
     ]
    },
    {
     "name": "stdout",
     "output_type": "stream",
     "text": [
      "epoch 89 | loss: 0.24189 | train_mse: 0.31681 | train_mae: 0.37493 |  0:03:15s\n"
     ]
    },
    {
     "name": "stdout",
     "output_type": "stream",
     "text": [
      "epoch 90 | loss: 0.24405 | train_mse: 0.32355 | train_mae: 0.37926 |  0:03:17s\n"
     ]
    },
    {
     "name": "stdout",
     "output_type": "stream",
     "text": [
      "epoch 91 | loss: 0.24077 | train_mse: 0.33047 | train_mae: 0.38199 |  0:03:19s\n"
     ]
    },
    {
     "name": "stdout",
     "output_type": "stream",
     "text": [
      "epoch 92 | loss: 0.24289 | train_mse: 0.33389 | train_mae: 0.38055 |  0:03:21s\n"
     ]
    },
    {
     "name": "stdout",
     "output_type": "stream",
     "text": [
      "epoch 93 | loss: 0.23663 | train_mse: 0.32819 | train_mae: 0.38042 |  0:03:23s\n"
     ]
    },
    {
     "name": "stdout",
     "output_type": "stream",
     "text": [
      "epoch 94 | loss: 0.24028 | train_mse: 0.3306  | train_mae: 0.3851  |  0:03:26s\n"
     ]
    },
    {
     "name": "stdout",
     "output_type": "stream",
     "text": [
      "epoch 95 | loss: 0.23988 | train_mse: 0.34919 | train_mae: 0.38196 |  0:03:28s\n"
     ]
    },
    {
     "name": "stdout",
     "output_type": "stream",
     "text": [
      "epoch 96 | loss: 0.24331 | train_mse: 0.33436 | train_mae: 0.37812 |  0:03:30s\n"
     ]
    },
    {
     "name": "stdout",
     "output_type": "stream",
     "text": [
      "epoch 97 | loss: 0.24248 | train_mse: 0.41686 | train_mae: 0.38278 |  0:03:32s\n"
     ]
    },
    {
     "name": "stdout",
     "output_type": "stream",
     "text": [
      "epoch 98 | loss: 0.24273 | train_mse: 0.33187 | train_mae: 0.37614 |  0:03:34s\n"
     ]
    },
    {
     "name": "stdout",
     "output_type": "stream",
     "text": [
      "epoch 99 | loss: 0.23704 | train_mse: 0.31883 | train_mae: 0.37645 |  0:03:36s\n"
     ]
    },
    {
     "name": "stdout",
     "output_type": "stream",
     "text": [
      "epoch 100| loss: 0.23921 | train_mse: 0.33699 | train_mae: 0.38457 |  0:03:39s\n"
     ]
    },
    {
     "name": "stdout",
     "output_type": "stream",
     "text": [
      "epoch 101| loss: 0.23758 | train_mse: 0.33107 | train_mae: 0.38344 |  0:03:41s\n"
     ]
    },
    {
     "name": "stdout",
     "output_type": "stream",
     "text": [
      "epoch 102| loss: 0.23714 | train_mse: 0.33649 | train_mae: 0.38004 |  0:03:43s\n"
     ]
    },
    {
     "name": "stdout",
     "output_type": "stream",
     "text": [
      "epoch 103| loss: 0.24064 | train_mse: 0.31797 | train_mae: 0.37995 |  0:03:45s\n"
     ]
    },
    {
     "name": "stdout",
     "output_type": "stream",
     "text": [
      "epoch 104| loss: 0.24376 | train_mse: 0.31755 | train_mae: 0.37575 |  0:03:47s\n"
     ]
    },
    {
     "name": "stdout",
     "output_type": "stream",
     "text": [
      "epoch 105| loss: 0.23851 | train_mse: 0.31534 | train_mae: 0.38049 |  0:03:50s\n"
     ]
    },
    {
     "name": "stdout",
     "output_type": "stream",
     "text": [
      "epoch 106| loss: 0.23831 | train_mse: 0.31844 | train_mae: 0.37777 |  0:03:52s\n"
     ]
    },
    {
     "name": "stdout",
     "output_type": "stream",
     "text": [
      "epoch 107| loss: 0.2344  | train_mse: 0.32689 | train_mae: 0.3849  |  0:03:54s\n"
     ]
    },
    {
     "name": "stdout",
     "output_type": "stream",
     "text": [
      "epoch 108| loss: 0.23948 | train_mse: 0.32785 | train_mae: 0.37991 |  0:03:56s\n"
     ]
    },
    {
     "name": "stdout",
     "output_type": "stream",
     "text": [
      "epoch 109| loss: 0.23812 | train_mse: 0.33858 | train_mae: 0.38896 |  0:03:58s\n"
     ]
    },
    {
     "name": "stdout",
     "output_type": "stream",
     "text": [
      "epoch 110| loss: 0.23855 | train_mse: 0.3209  | train_mae: 0.37917 |  0:04:01s\n"
     ]
    },
    {
     "name": "stdout",
     "output_type": "stream",
     "text": [
      "epoch 111| loss: 0.23772 | train_mse: 0.3228  | train_mae: 0.37748 |  0:04:03s\n"
     ]
    },
    {
     "name": "stdout",
     "output_type": "stream",
     "text": [
      "epoch 112| loss: 0.24139 | train_mse: 0.31786 | train_mae: 0.37956 |  0:04:05s\n"
     ]
    },
    {
     "name": "stdout",
     "output_type": "stream",
     "text": [
      "epoch 113| loss: 0.23908 | train_mse: 0.31298 | train_mae: 0.37511 |  0:04:07s\n"
     ]
    },
    {
     "name": "stdout",
     "output_type": "stream",
     "text": [
      "epoch 114| loss: 0.23909 | train_mse: 0.32102 | train_mae: 0.37834 |  0:04:09s\n"
     ]
    },
    {
     "name": "stdout",
     "output_type": "stream",
     "text": [
      "epoch 115| loss: 0.23793 | train_mse: 0.33986 | train_mae: 0.38153 |  0:04:12s\n"
     ]
    },
    {
     "name": "stdout",
     "output_type": "stream",
     "text": [
      "epoch 116| loss: 0.23838 | train_mse: 0.31919 | train_mae: 0.37729 |  0:04:14s\n"
     ]
    },
    {
     "name": "stdout",
     "output_type": "stream",
     "text": [
      "epoch 117| loss: 0.23629 | train_mse: 0.32111 | train_mae: 0.38128 |  0:04:16s\n"
     ]
    },
    {
     "name": "stdout",
     "output_type": "stream",
     "text": [
      "epoch 118| loss: 0.23653 | train_mse: 0.31684 | train_mae: 0.37682 |  0:04:18s\n"
     ]
    },
    {
     "name": "stdout",
     "output_type": "stream",
     "text": [
      "epoch 119| loss: 0.23623 | train_mse: 0.3074  | train_mae: 0.37272 |  0:04:20s\n"
     ]
    },
    {
     "name": "stdout",
     "output_type": "stream",
     "text": [
      "epoch 120| loss: 0.23457 | train_mse: 0.32462 | train_mae: 0.377   |  0:04:22s\n"
     ]
    },
    {
     "name": "stdout",
     "output_type": "stream",
     "text": [
      "epoch 121| loss: 0.23652 | train_mse: 0.31531 | train_mae: 0.3754  |  0:04:24s\n"
     ]
    },
    {
     "name": "stdout",
     "output_type": "stream",
     "text": [
      "epoch 122| loss: 0.23589 | train_mse: 0.32348 | train_mae: 0.37531 |  0:04:27s\n"
     ]
    },
    {
     "name": "stdout",
     "output_type": "stream",
     "text": [
      "epoch 123| loss: 0.23411 | train_mse: 0.31573 | train_mae: 0.37553 |  0:04:29s\n"
     ]
    },
    {
     "name": "stdout",
     "output_type": "stream",
     "text": [
      "epoch 124| loss: 0.23504 | train_mse: 0.31789 | train_mae: 0.37761 |  0:04:31s\n"
     ]
    },
    {
     "name": "stdout",
     "output_type": "stream",
     "text": [
      "epoch 125| loss: 0.23268 | train_mse: 0.32457 | train_mae: 0.37712 |  0:04:33s\n"
     ]
    },
    {
     "name": "stdout",
     "output_type": "stream",
     "text": [
      "epoch 126| loss: 0.2365  | train_mse: 0.31041 | train_mae: 0.37501 |  0:04:35s\n"
     ]
    },
    {
     "name": "stdout",
     "output_type": "stream",
     "text": [
      "epoch 127| loss: 0.23689 | train_mse: 0.32034 | train_mae: 0.37384 |  0:04:37s\n"
     ]
    },
    {
     "name": "stdout",
     "output_type": "stream",
     "text": [
      "epoch 128| loss: 0.23542 | train_mse: 0.32101 | train_mae: 0.37468 |  0:04:40s\n"
     ]
    },
    {
     "name": "stdout",
     "output_type": "stream",
     "text": [
      "epoch 129| loss: 0.24026 | train_mse: 0.3251  | train_mae: 0.37157 |  0:04:42s\n"
     ]
    },
    {
     "name": "stdout",
     "output_type": "stream",
     "text": [
      "epoch 130| loss: 0.23587 | train_mse: 0.32471 | train_mae: 0.37521 |  0:04:44s\n"
     ]
    },
    {
     "name": "stdout",
     "output_type": "stream",
     "text": [
      "epoch 131| loss: 0.23545 | train_mse: 0.31637 | train_mae: 0.37904 |  0:04:46s\n"
     ]
    },
    {
     "name": "stdout",
     "output_type": "stream",
     "text": [
      "epoch 132| loss: 0.23927 | train_mse: 0.31583 | train_mae: 0.37991 |  0:04:48s\n"
     ]
    },
    {
     "name": "stdout",
     "output_type": "stream",
     "text": [
      "epoch 133| loss: 0.23179 | train_mse: 0.31911 | train_mae: 0.37318 |  0:04:51s\n"
     ]
    },
    {
     "name": "stdout",
     "output_type": "stream",
     "text": [
      "epoch 134| loss: 0.23522 | train_mse: 0.31687 | train_mae: 0.37629 |  0:04:53s\n"
     ]
    },
    {
     "name": "stdout",
     "output_type": "stream",
     "text": [
      "epoch 135| loss: 0.23175 | train_mse: 0.31215 | train_mae: 0.37221 |  0:04:55s\n"
     ]
    },
    {
     "name": "stdout",
     "output_type": "stream",
     "text": [
      "epoch 136| loss: 0.23402 | train_mse: 0.31704 | train_mae: 0.37359 |  0:04:57s\n"
     ]
    },
    {
     "name": "stdout",
     "output_type": "stream",
     "text": [
      "epoch 137| loss: 0.23106 | train_mse: 0.31396 | train_mae: 0.37575 |  0:04:59s\n"
     ]
    },
    {
     "name": "stdout",
     "output_type": "stream",
     "text": [
      "epoch 138| loss: 0.23209 | train_mse: 0.32349 | train_mae: 0.37575 |  0:05:02s\n"
     ]
    },
    {
     "name": "stdout",
     "output_type": "stream",
     "text": [
      "epoch 139| loss: 0.23415 | train_mse: 0.31366 | train_mae: 0.36873 |  0:05:04s\n"
     ]
    },
    {
     "name": "stdout",
     "output_type": "stream",
     "text": [
      "epoch 140| loss: 0.22897 | train_mse: 0.31565 | train_mae: 0.37781 |  0:05:06s\n"
     ]
    },
    {
     "name": "stdout",
     "output_type": "stream",
     "text": [
      "epoch 141| loss: 0.23106 | train_mse: 0.33115 | train_mae: 0.38065 |  0:05:08s\n"
     ]
    },
    {
     "name": "stdout",
     "output_type": "stream",
     "text": [
      "epoch 142| loss: 0.23331 | train_mse: 0.31606 | train_mae: 0.37289 |  0:05:11s\n"
     ]
    },
    {
     "name": "stdout",
     "output_type": "stream",
     "text": [
      "epoch 143| loss: 0.23085 | train_mse: 0.31114 | train_mae: 0.37578 |  0:05:13s\n"
     ]
    },
    {
     "name": "stdout",
     "output_type": "stream",
     "text": [
      "epoch 144| loss: 0.2323  | train_mse: 0.31745 | train_mae: 0.37544 |  0:05:15s\n"
     ]
    },
    {
     "name": "stdout",
     "output_type": "stream",
     "text": [
      "epoch 145| loss: 0.22995 | train_mse: 0.31967 | train_mae: 0.37614 |  0:05:17s\n"
     ]
    },
    {
     "name": "stdout",
     "output_type": "stream",
     "text": [
      "epoch 146| loss: 0.22949 | train_mse: 0.31685 | train_mae: 0.37214 |  0:05:19s\n"
     ]
    },
    {
     "name": "stdout",
     "output_type": "stream",
     "text": [
      "epoch 147| loss: 0.23032 | train_mse: 0.32137 | train_mae: 0.37677 |  0:05:21s\n"
     ]
    },
    {
     "name": "stdout",
     "output_type": "stream",
     "text": [
      "epoch 148| loss: 0.23128 | train_mse: 0.30407 | train_mae: 0.3708  |  0:05:24s\n"
     ]
    },
    {
     "name": "stdout",
     "output_type": "stream",
     "text": [
      "epoch 149| loss: 0.22933 | train_mse: 0.32197 | train_mae: 0.37176 |  0:05:26s\n"
     ]
    },
    {
     "name": "stdout",
     "output_type": "stream",
     "text": [
      "epoch 150| loss: 0.23008 | train_mse: 0.31707 | train_mae: 0.3724  |  0:05:28s\n"
     ]
    },
    {
     "name": "stdout",
     "output_type": "stream",
     "text": [
      "epoch 151| loss: 0.22945 | train_mse: 0.31613 | train_mae: 0.3721  |  0:05:30s\n"
     ]
    },
    {
     "name": "stdout",
     "output_type": "stream",
     "text": [
      "epoch 152| loss: 0.23065 | train_mse: 0.31553 | train_mae: 0.37137 |  0:05:32s\n"
     ]
    },
    {
     "name": "stdout",
     "output_type": "stream",
     "text": [
      "epoch 153| loss: 0.22642 | train_mse: 0.31852 | train_mae: 0.37684 |  0:05:34s\n"
     ]
    },
    {
     "name": "stdout",
     "output_type": "stream",
     "text": [
      "epoch 154| loss: 0.23028 | train_mse: 0.30606 | train_mae: 0.37567 |  0:05:37s\n"
     ]
    },
    {
     "name": "stdout",
     "output_type": "stream",
     "text": [
      "epoch 155| loss: 0.22973 | train_mse: 0.33251 | train_mae: 0.37971 |  0:05:39s\n"
     ]
    },
    {
     "name": "stdout",
     "output_type": "stream",
     "text": [
      "epoch 156| loss: 0.22672 | train_mse: 0.31466 | train_mae: 0.37275 |  0:05:41s\n"
     ]
    },
    {
     "name": "stdout",
     "output_type": "stream",
     "text": [
      "epoch 157| loss: 0.22994 | train_mse: 0.3077  | train_mae: 0.36997 |  0:05:43s\n"
     ]
    },
    {
     "name": "stdout",
     "output_type": "stream",
     "text": [
      "epoch 158| loss: 0.23043 | train_mse: 0.30822 | train_mae: 0.37447 |  0:05:45s\n"
     ]
    },
    {
     "name": "stdout",
     "output_type": "stream",
     "text": [
      "epoch 159| loss: 0.23002 | train_mse: 0.31636 | train_mae: 0.37268 |  0:05:47s\n"
     ]
    },
    {
     "name": "stdout",
     "output_type": "stream",
     "text": [
      "epoch 160| loss: 0.22861 | train_mse: 0.31919 | train_mae: 0.37686 |  0:05:49s\n"
     ]
    },
    {
     "name": "stdout",
     "output_type": "stream",
     "text": [
      "epoch 161| loss: 0.22622 | train_mse: 0.31085 | train_mae: 0.37354 |  0:05:51s\n"
     ]
    },
    {
     "name": "stdout",
     "output_type": "stream",
     "text": [
      "epoch 162| loss: 0.22741 | train_mse: 0.30581 | train_mae: 0.37293 |  0:05:53s\n"
     ]
    },
    {
     "name": "stdout",
     "output_type": "stream",
     "text": [
      "epoch 163| loss: 0.22986 | train_mse: 0.29995 | train_mae: 0.37021 |  0:05:56s\n"
     ]
    },
    {
     "name": "stdout",
     "output_type": "stream",
     "text": [
      "epoch 164| loss: 0.22606 | train_mse: 0.31807 | train_mae: 0.37738 |  0:05:58s\n"
     ]
    },
    {
     "name": "stdout",
     "output_type": "stream",
     "text": [
      "epoch 165| loss: 0.22718 | train_mse: 0.30823 | train_mae: 0.36753 |  0:06:00s\n"
     ]
    },
    {
     "name": "stdout",
     "output_type": "stream",
     "text": [
      "epoch 166| loss: 0.22689 | train_mse: 0.32052 | train_mae: 0.37583 |  0:06:02s\n"
     ]
    },
    {
     "name": "stdout",
     "output_type": "stream",
     "text": [
      "epoch 167| loss: 0.22827 | train_mse: 0.30698 | train_mae: 0.37258 |  0:06:04s\n"
     ]
    },
    {
     "name": "stdout",
     "output_type": "stream",
     "text": [
      "epoch 168| loss: 0.22586 | train_mse: 0.31776 | train_mae: 0.36968 |  0:06:06s\n"
     ]
    },
    {
     "name": "stdout",
     "output_type": "stream",
     "text": [
      "epoch 169| loss: 0.23072 | train_mse: 0.3165  | train_mae: 0.37456 |  0:06:09s\n"
     ]
    },
    {
     "name": "stdout",
     "output_type": "stream",
     "text": [
      "epoch 170| loss: 0.22664 | train_mse: 0.31125 | train_mae: 0.37142 |  0:06:11s\n"
     ]
    },
    {
     "name": "stdout",
     "output_type": "stream",
     "text": [
      "epoch 171| loss: 0.22752 | train_mse: 0.31395 | train_mae: 0.37182 |  0:06:13s\n"
     ]
    },
    {
     "name": "stdout",
     "output_type": "stream",
     "text": [
      "epoch 172| loss: 0.22775 | train_mse: 0.32476 | train_mae: 0.37466 |  0:06:15s\n"
     ]
    },
    {
     "name": "stdout",
     "output_type": "stream",
     "text": [
      "epoch 173| loss: 0.22526 | train_mse: 0.31125 | train_mae: 0.38022 |  0:06:17s\n"
     ]
    },
    {
     "name": "stdout",
     "output_type": "stream",
     "text": [
      "epoch 174| loss: 0.22557 | train_mse: 0.32217 | train_mae: 0.37797 |  0:06:19s\n"
     ]
    },
    {
     "name": "stdout",
     "output_type": "stream",
     "text": [
      "epoch 175| loss: 0.23032 | train_mse: 0.30901 | train_mae: 0.3752  |  0:06:22s\n"
     ]
    },
    {
     "name": "stdout",
     "output_type": "stream",
     "text": [
      "epoch 176| loss: 0.23139 | train_mse: 0.31181 | train_mae: 0.37623 |  0:06:24s\n"
     ]
    },
    {
     "name": "stdout",
     "output_type": "stream",
     "text": [
      "epoch 177| loss: 0.22332 | train_mse: 0.30993 | train_mae: 0.36794 |  0:06:26s\n"
     ]
    },
    {
     "name": "stdout",
     "output_type": "stream",
     "text": [
      "epoch 178| loss: 0.2261  | train_mse: 0.30798 | train_mae: 0.36511 |  0:06:28s\n"
     ]
    },
    {
     "name": "stdout",
     "output_type": "stream",
     "text": [
      "epoch 179| loss: 0.2282  | train_mse: 0.31299 | train_mae: 0.36846 |  0:06:31s\n"
     ]
    },
    {
     "name": "stdout",
     "output_type": "stream",
     "text": [
      "epoch 180| loss: 0.22388 | train_mse: 0.31908 | train_mae: 0.37043 |  0:06:33s\n"
     ]
    },
    {
     "name": "stdout",
     "output_type": "stream",
     "text": [
      "epoch 181| loss: 0.22719 | train_mse: 0.30605 | train_mae: 0.37174 |  0:06:35s\n"
     ]
    },
    {
     "name": "stdout",
     "output_type": "stream",
     "text": [
      "epoch 182| loss: 0.22738 | train_mse: 0.31362 | train_mae: 0.37216 |  0:06:37s\n"
     ]
    },
    {
     "name": "stdout",
     "output_type": "stream",
     "text": [
      "epoch 183| loss: 0.22302 | train_mse: 0.3047  | train_mae: 0.36652 |  0:06:39s\n"
     ]
    },
    {
     "name": "stdout",
     "output_type": "stream",
     "text": [
      "epoch 184| loss: 0.23102 | train_mse: 0.31534 | train_mae: 0.37033 |  0:06:41s\n"
     ]
    },
    {
     "name": "stdout",
     "output_type": "stream",
     "text": [
      "epoch 185| loss: 0.22465 | train_mse: 0.31274 | train_mae: 0.37042 |  0:06:44s\n"
     ]
    },
    {
     "name": "stdout",
     "output_type": "stream",
     "text": [
      "epoch 186| loss: 0.22561 | train_mse: 0.31373 | train_mae: 0.37218 |  0:06:46s\n"
     ]
    },
    {
     "name": "stdout",
     "output_type": "stream",
     "text": [
      "epoch 187| loss: 0.22326 | train_mse: 0.32731 | train_mae: 0.37519 |  0:06:48s\n"
     ]
    },
    {
     "name": "stdout",
     "output_type": "stream",
     "text": [
      "epoch 188| loss: 0.22594 | train_mse: 0.31408 | train_mae: 0.37545 |  0:06:50s\n"
     ]
    },
    {
     "name": "stdout",
     "output_type": "stream",
     "text": [
      "epoch 189| loss: 0.22799 | train_mse: 0.31132 | train_mae: 0.36921 |  0:06:52s\n"
     ]
    },
    {
     "name": "stdout",
     "output_type": "stream",
     "text": [
      "epoch 190| loss: 0.22424 | train_mse: 0.31422 | train_mae: 0.37436 |  0:06:54s\n"
     ]
    },
    {
     "name": "stdout",
     "output_type": "stream",
     "text": [
      "epoch 191| loss: 0.22608 | train_mse: 0.30953 | train_mae: 0.36927 |  0:06:56s\n"
     ]
    },
    {
     "name": "stdout",
     "output_type": "stream",
     "text": [
      "epoch 192| loss: 0.22537 | train_mse: 0.31157 | train_mae: 0.37812 |  0:06:59s\n"
     ]
    },
    {
     "name": "stdout",
     "output_type": "stream",
     "text": [
      "epoch 193| loss: 0.22592 | train_mse: 0.32249 | train_mae: 0.37261 |  0:07:01s\n"
     ]
    },
    {
     "name": "stdout",
     "output_type": "stream",
     "text": [
      "epoch 194| loss: 0.22449 | train_mse: 0.30079 | train_mae: 0.36957 |  0:07:03s\n"
     ]
    },
    {
     "name": "stdout",
     "output_type": "stream",
     "text": [
      "epoch 195| loss: 0.2281  | train_mse: 0.3015  | train_mae: 0.36412 |  0:07:05s\n"
     ]
    },
    {
     "name": "stdout",
     "output_type": "stream",
     "text": [
      "epoch 196| loss: 0.22439 | train_mse: 0.31778 | train_mae: 0.37741 |  0:07:07s\n"
     ]
    },
    {
     "name": "stdout",
     "output_type": "stream",
     "text": [
      "epoch 197| loss: 0.22382 | train_mse: 0.31381 | train_mae: 0.37115 |  0:07:10s\n"
     ]
    },
    {
     "name": "stdout",
     "output_type": "stream",
     "text": [
      "epoch 198| loss: 0.22348 | train_mse: 0.30503 | train_mae: 0.36961 |  0:07:12s\n"
     ]
    },
    {
     "name": "stdout",
     "output_type": "stream",
     "text": [
      "epoch 199| loss: 0.22284 | train_mse: 0.30669 | train_mae: 0.36922 |  0:07:14s\n"
     ]
    },
    {
     "name": "stdout",
     "output_type": "stream",
     "text": [
      "epoch 200| loss: 0.22372 | train_mse: 0.29905 | train_mae: 0.36785 |  0:07:16s\n"
     ]
    },
    {
     "name": "stdout",
     "output_type": "stream",
     "text": [
      "epoch 201| loss: 0.2256  | train_mse: 0.3068  | train_mae: 0.3683  |  0:07:18s\n"
     ]
    },
    {
     "name": "stdout",
     "output_type": "stream",
     "text": [
      "epoch 202| loss: 0.22579 | train_mse: 0.29965 | train_mae: 0.36823 |  0:07:20s\n"
     ]
    },
    {
     "name": "stdout",
     "output_type": "stream",
     "text": [
      "epoch 203| loss: 0.22545 | train_mse: 0.3122  | train_mae: 0.37357 |  0:07:22s\n"
     ]
    },
    {
     "name": "stdout",
     "output_type": "stream",
     "text": [
      "epoch 204| loss: 0.22509 | train_mse: 0.30523 | train_mae: 0.37162 |  0:07:25s\n"
     ]
    },
    {
     "name": "stdout",
     "output_type": "stream",
     "text": [
      "epoch 205| loss: 0.2226  | train_mse: 0.31728 | train_mae: 0.37122 |  0:07:27s\n"
     ]
    },
    {
     "name": "stdout",
     "output_type": "stream",
     "text": [
      "epoch 206| loss: 0.22618 | train_mse: 0.31145 | train_mae: 0.3653  |  0:07:29s\n"
     ]
    },
    {
     "name": "stdout",
     "output_type": "stream",
     "text": [
      "epoch 207| loss: 0.22465 | train_mse: 0.30511 | train_mae: 0.36904 |  0:07:31s\n"
     ]
    },
    {
     "name": "stdout",
     "output_type": "stream",
     "text": [
      "epoch 208| loss: 0.22464 | train_mse: 0.3105  | train_mae: 0.36795 |  0:07:33s\n"
     ]
    },
    {
     "name": "stdout",
     "output_type": "stream",
     "text": [
      "epoch 209| loss: 0.22736 | train_mse: 0.31747 | train_mae: 0.37483 |  0:07:35s\n"
     ]
    },
    {
     "name": "stdout",
     "output_type": "stream",
     "text": [
      "epoch 210| loss: 0.22637 | train_mse: 0.31444 | train_mae: 0.36962 |  0:07:38s\n"
     ]
    },
    {
     "name": "stdout",
     "output_type": "stream",
     "text": [
      "epoch 211| loss: 0.22266 | train_mse: 0.31057 | train_mae: 0.3681  |  0:07:40s\n"
     ]
    },
    {
     "name": "stdout",
     "output_type": "stream",
     "text": [
      "epoch 212| loss: 0.22089 | train_mse: 0.30433 | train_mae: 0.36852 |  0:07:42s\n"
     ]
    },
    {
     "name": "stdout",
     "output_type": "stream",
     "text": [
      "epoch 213| loss: 0.22295 | train_mse: 0.32303 | train_mae: 0.37148 |  0:07:44s\n"
     ]
    },
    {
     "name": "stdout",
     "output_type": "stream",
     "text": [
      "epoch 214| loss: 0.2208  | train_mse: 0.31588 | train_mae: 0.3729  |  0:07:47s\n"
     ]
    },
    {
     "name": "stdout",
     "output_type": "stream",
     "text": [
      "epoch 215| loss: 0.22125 | train_mse: 0.31193 | train_mae: 0.37299 |  0:07:49s\n"
     ]
    },
    {
     "name": "stdout",
     "output_type": "stream",
     "text": [
      "epoch 216| loss: 0.22192 | train_mse: 0.32046 | train_mae: 0.37495 |  0:07:51s\n"
     ]
    },
    {
     "name": "stdout",
     "output_type": "stream",
     "text": [
      "epoch 217| loss: 0.22298 | train_mse: 0.30969 | train_mae: 0.3708  |  0:07:53s\n"
     ]
    },
    {
     "name": "stdout",
     "output_type": "stream",
     "text": [
      "epoch 218| loss: 0.22263 | train_mse: 0.30344 | train_mae: 0.36778 |  0:07:56s\n"
     ]
    },
    {
     "name": "stdout",
     "output_type": "stream",
     "text": [
      "epoch 219| loss: 0.22454 | train_mse: 0.30863 | train_mae: 0.36845 |  0:07:58s\n"
     ]
    },
    {
     "name": "stdout",
     "output_type": "stream",
     "text": [
      "epoch 220| loss: 0.22191 | train_mse: 0.30602 | train_mae: 0.3683  |  0:08:00s\n"
     ]
    },
    {
     "name": "stdout",
     "output_type": "stream",
     "text": [
      "epoch 221| loss: 0.221   | train_mse: 0.30699 | train_mae: 0.3689  |  0:08:02s\n"
     ]
    },
    {
     "name": "stdout",
     "output_type": "stream",
     "text": [
      "epoch 222| loss: 0.22473 | train_mse: 0.30952 | train_mae: 0.37092 |  0:08:04s\n"
     ]
    },
    {
     "name": "stdout",
     "output_type": "stream",
     "text": [
      "epoch 223| loss: 0.22315 | train_mse: 0.3125  | train_mae: 0.3728  |  0:08:06s\n"
     ]
    },
    {
     "name": "stdout",
     "output_type": "stream",
     "text": [
      "epoch 224| loss: 0.21881 | train_mse: 0.31815 | train_mae: 0.36944 |  0:08:09s\n"
     ]
    },
    {
     "name": "stdout",
     "output_type": "stream",
     "text": [
      "epoch 225| loss: 0.22568 | train_mse: 0.30573 | train_mae: 0.36687 |  0:08:11s\n"
     ]
    },
    {
     "name": "stdout",
     "output_type": "stream",
     "text": [
      "epoch 226| loss: 0.2224  | train_mse: 0.30552 | train_mae: 0.36422 |  0:08:13s\n"
     ]
    },
    {
     "name": "stdout",
     "output_type": "stream",
     "text": [
      "epoch 227| loss: 0.22041 | train_mse: 0.3104  | train_mae: 0.37268 |  0:08:15s\n"
     ]
    },
    {
     "name": "stdout",
     "output_type": "stream",
     "text": [
      "epoch 228| loss: 0.22095 | train_mse: 0.32033 | train_mae: 0.38175 |  0:08:17s\n"
     ]
    },
    {
     "name": "stdout",
     "output_type": "stream",
     "text": [
      "epoch 229| loss: 0.22408 | train_mse: 0.32463 | train_mae: 0.37378 |  0:08:20s\n"
     ]
    },
    {
     "name": "stdout",
     "output_type": "stream",
     "text": [
      "epoch 230| loss: 0.22261 | train_mse: 0.31194 | train_mae: 0.36752 |  0:08:22s\n"
     ]
    },
    {
     "name": "stdout",
     "output_type": "stream",
     "text": [
      "epoch 231| loss: 0.22464 | train_mse: 0.31534 | train_mae: 0.37031 |  0:08:24s\n"
     ]
    },
    {
     "name": "stdout",
     "output_type": "stream",
     "text": [
      "epoch 232| loss: 0.22221 | train_mse: 0.31249 | train_mae: 0.37037 |  0:08:26s\n"
     ]
    },
    {
     "name": "stdout",
     "output_type": "stream",
     "text": [
      "epoch 233| loss: 0.22013 | train_mse: 0.31082 | train_mae: 0.37319 |  0:08:28s\n"
     ]
    },
    {
     "name": "stdout",
     "output_type": "stream",
     "text": [
      "epoch 234| loss: 0.22141 | train_mse: 0.30992 | train_mae: 0.3715  |  0:08:31s\n"
     ]
    },
    {
     "name": "stdout",
     "output_type": "stream",
     "text": [
      "epoch 235| loss: 0.21793 | train_mse: 0.31267 | train_mae: 0.36605 |  0:08:33s\n"
     ]
    },
    {
     "name": "stdout",
     "output_type": "stream",
     "text": [
      "epoch 236| loss: 0.21852 | train_mse: 0.31617 | train_mae: 0.3712  |  0:08:35s\n"
     ]
    },
    {
     "name": "stdout",
     "output_type": "stream",
     "text": [
      "epoch 237| loss: 0.2189  | train_mse: 0.31352 | train_mae: 0.37051 |  0:08:37s\n"
     ]
    },
    {
     "name": "stdout",
     "output_type": "stream",
     "text": [
      "epoch 238| loss: 0.22086 | train_mse: 0.3143  | train_mae: 0.37074 |  0:08:39s\n"
     ]
    },
    {
     "name": "stdout",
     "output_type": "stream",
     "text": [
      "epoch 239| loss: 0.22193 | train_mse: 0.30093 | train_mae: 0.3673  |  0:08:41s\n"
     ]
    },
    {
     "name": "stdout",
     "output_type": "stream",
     "text": [
      "epoch 240| loss: 0.21986 | train_mse: 0.30464 | train_mae: 0.3679  |  0:08:44s\n"
     ]
    },
    {
     "name": "stdout",
     "output_type": "stream",
     "text": [
      "epoch 241| loss: 0.21742 | train_mse: 0.30859 | train_mae: 0.36575 |  0:08:46s\n"
     ]
    },
    {
     "name": "stdout",
     "output_type": "stream",
     "text": [
      "epoch 242| loss: 0.22446 | train_mse: 0.31679 | train_mae: 0.37891 |  0:08:48s\n"
     ]
    },
    {
     "name": "stdout",
     "output_type": "stream",
     "text": [
      "epoch 243| loss: 0.21852 | train_mse: 0.30939 | train_mae: 0.37171 |  0:08:50s\n"
     ]
    },
    {
     "name": "stdout",
     "output_type": "stream",
     "text": [
      "epoch 244| loss: 0.22228 | train_mse: 0.31162 | train_mae: 0.36875 |  0:08:53s\n"
     ]
    },
    {
     "name": "stdout",
     "output_type": "stream",
     "text": [
      "epoch 245| loss: 0.21636 | train_mse: 0.3052  | train_mae: 0.36983 |  0:08:55s\n",
      "\n",
      "Early stopping occurred at epoch 245 with best_epoch = 195 and best_train_mae = 0.36412\n",
      "Best weights from best epoch are automatically used!\n"
     ]
    },
    {
     "name": "stdout",
     "output_type": "stream",
     "text": [
      "BEST VALID SCORE FOR dataset : 0.36412461577133437\n",
      "FINAL TEST SCORE FOR dataset: 0.3730119008561559\n",
      "{'loss': [1.7925414309021115, 0.9856609064479206, 0.7916092433670695, 0.6661860831948214, 0.5733844633250271, 0.5122159294379774, 0.4845135165739429, 0.4531916754190312, 0.43204227344010226, 0.41068605304688444, 0.39914387210394986, 0.3818782445534255, 0.3676586973574735, 0.35310974070268086, 0.3510211331899776, 0.34147002507549845, 0.3321713576483171, 0.33167513350183647, 0.3343073986759482, 0.32488575485325594, 0.31427428010822256, 0.31576257435850397, 0.3157617798609327, 0.3134687438953755, 0.3050094327723333, 0.3092412202395209, 0.30584882765777355, 0.30241906769977983, 0.2995720780635064, 0.2965275810439457, 0.2938387556824572, 0.28846722598685776, 0.2860116256299869, 0.2833363543185153, 0.2870717552281164, 0.2789846203585928, 0.2856929169375767, 0.2852121730183446, 0.2816003468609596, 0.27646724845087817, 0.27211607957995226, 0.27208177895509, 0.27314083243525294, 0.2680001608854116, 0.26337786469348645, 0.2683243499707806, 0.26896970459195063, 0.2642236346191216, 0.2620783182539681, 0.26430627126102296, 0.25970019261504346, 0.2576340269441752, 0.2604809673719628, 0.25879375347795425, 0.2600308622038642, 0.25760746891646413, 0.2541291184665619, 0.2578840450954068, 0.25557560560315157, 0.25625189376431856, 0.2546460001274597, 0.2584370524846306, 0.25296761684639507, 0.24885348721530087, 0.2552755329498025, 0.24786274909049041, 0.25245685679043905, 0.2524263724800228, 0.2535844163377154, 0.250095675388972, 0.25237074944862103, 0.25077048510081995, 0.24728981850221177, 0.2478443128887073, 0.2492615264053492, 0.2463094679884208, 0.2465832600759905, 0.24452292249184246, 0.245157088189162, 0.24842225881510002, 0.24329767301101093, 0.24352164578068164, 0.2459046325480291, 0.2437006371427876, 0.24115764205307924, 0.24453490937865058, 0.24528730111990787, 0.24414471276970798, 0.24169836534086123, 0.24188502490982527, 0.24404684321362843, 0.24077081218246346, 0.24288780582967653, 0.23663456865059312, 0.240279642763988, 0.2398791973905046, 0.24330594488816668, 0.2424782302028449, 0.24273392766021018, 0.2370423716168071, 0.23920653321484261, 0.23757890444393306, 0.2371365530777347, 0.24064366981502652, 0.24375518994737966, 0.23851063408592874, 0.2383071963870248, 0.23440200101959613, 0.2394821320393289, 0.23812170719453532, 0.23855335109455642, 0.2377184258643971, 0.241385245276976, 0.23908306473447372, 0.23908677489258523, 0.23793354699778002, 0.23837539391924245, 0.23629215775534165, 0.2365279290103173, 0.23623273989488913, 0.23457386073215988, 0.23652230006779812, 0.23589033292707548, 0.23410812389943025, 0.23503723347833913, 0.23268020580443302, 0.23650146408598552, 0.23689360835755519, 0.23542233562284662, 0.24026293578998062, 0.23586872635885728, 0.23544914939606837, 0.2392727877049483, 0.23179097947224167, 0.2352247649385024, 0.23174523360045382, 0.23402192056641097, 0.23106344564016476, 0.2320854365825653, 0.23414932341538658, 0.22896847954785177, 0.23106153759845469, 0.23330700709376223, 0.23085130600966225, 0.23229993741179622, 0.22994732071262922, 0.22949098166107207, 0.23032467956690825, 0.23128454756829164, 0.22932891004769376, 0.23008182540882466, 0.22945161429486532, 0.23064726152161294, 0.2264190870662068, 0.23027702831020652, 0.2297282738741054, 0.22671673094579417, 0.22994325327318768, 0.23043208032153373, 0.23002162402452425, 0.22860565319541812, 0.22622324133566182, 0.22740982830986495, 0.2298575724049132, 0.22606427701868753, 0.22718037884364756, 0.22688575447067733, 0.2282703066057013, 0.22586270820262822, 0.23071700253689936, 0.2266442997511043, 0.227516424401786, 0.2277492363323537, 0.2252622044594713, 0.22557427116142686, 0.23032219257465628, 0.23138511989467828, 0.22332003227500027, 0.22609853698301685, 0.22819847053335618, 0.223884723214216, 0.22718825728394265, 0.22738129154656284, 0.22302111047644949, 0.2310208786827649, 0.22465102559374284, 0.22561465862185456, 0.22326139620570248, 0.2259433972974156, 0.22799076059067896, 0.22424496548582418, 0.22608460982640585, 0.22537260277326718, 0.22592102418574253, 0.22448512588360514, 0.22809856240601503, 0.22439176317795304, 0.22382334059523057, 0.22347634996092597, 0.22283746001794358, 0.22371906411740206, 0.22560205096884292, 0.22579019337661507, 0.22545466589373211, 0.2250940828591354, 0.22260358791018642, 0.22618449750796768, 0.22465071278487064, 0.22463570315708487, 0.22736116827920425, 0.22637450279191482, 0.22265807752923447, 0.22088561651780625, 0.22295460948186327, 0.22079895240391872, 0.22125406690346178, 0.22192325679830802, 0.22297674117162247, 0.22262828387031258, 0.22454029991645222, 0.22191492924394535, 0.2209954847430074, 0.22472612028436142, 0.22315229140510856, 0.21880534707113755, 0.2256825719923936, 0.2224022615556569, 0.22041148386260337, 0.22095258418441743, 0.22407824898412984, 0.2226143084293188, 0.22463911921941032, 0.2222067742615707, 0.22013236177984133, 0.22141387342482574, 0.21792787313461304, 0.21851568305215172, 0.2189034262830897, 0.22086425090945044, 0.22193100563315457, 0.21986132259516752, 0.21742226610812107, 0.2244572491608849, 0.21852053089659343, 0.2222818750743718, 0.21635697054308514], 'lr': [0.001, 0.001, 0.001, 0.001, 0.001, 0.001, 0.001, 0.001, 0.001, 0.001, 0.001, 0.001, 0.001, 0.001, 0.001, 0.001, 0.001, 0.001, 0.001, 0.001, 0.001, 0.001, 0.001, 0.001, 0.001, 0.001, 0.001, 0.001, 0.001, 0.001, 0.001, 0.001, 0.001, 0.001, 0.001, 0.001, 0.001, 0.001, 0.001, 0.001, 0.001, 0.001, 0.001, 0.001, 0.001, 0.001, 0.001, 0.001, 0.001, 0.001, 0.001, 0.001, 0.001, 0.001, 0.001, 0.001, 0.001, 0.001, 0.001, 0.001, 0.001, 0.001, 0.001, 0.001, 0.001, 0.001, 0.001, 0.001, 0.001, 0.001, 0.001, 0.001, 0.001, 0.001, 0.001, 0.001, 0.001, 0.001, 0.001, 0.001, 0.001, 0.001, 0.001, 0.001, 0.001, 0.001, 0.001, 0.001, 0.001, 0.001, 0.001, 0.001, 0.001, 0.001, 0.001, 0.001, 0.001, 0.001, 0.001, 0.001, 0.001, 0.001, 0.001, 0.001, 0.001, 0.001, 0.001, 0.001, 0.001, 0.001, 0.001, 0.001, 0.001, 0.001, 0.001, 0.001, 0.001, 0.001, 0.001, 0.001, 0.001, 0.001, 0.001, 0.001, 0.001, 0.001, 0.001, 0.001, 0.001, 0.001, 0.001, 0.001, 0.001, 0.001, 0.001, 0.001, 0.001, 0.001, 0.001, 0.001, 0.001, 0.001, 0.001, 0.001, 0.001, 0.001, 0.001, 0.001, 0.001, 0.001, 0.001, 0.001, 0.001, 0.001, 0.001, 0.001, 0.001, 0.001, 0.001, 0.001, 0.001, 0.001, 0.001, 0.001, 0.001, 0.001, 0.001, 0.001, 0.001, 0.001, 0.001, 0.001, 0.001, 0.001, 0.001, 0.001, 0.001, 0.001, 0.001, 0.001, 0.001, 0.001, 0.001, 0.001, 0.001, 0.001, 0.001, 0.001, 0.001, 0.001, 0.001, 0.001, 0.001, 0.001, 0.001, 0.001, 0.001, 0.001, 0.001, 0.001, 0.001, 0.001, 0.001, 0.001, 0.001, 0.001, 0.001, 0.001, 0.001, 0.001, 0.001, 0.001, 0.001, 0.001, 0.001, 0.001, 0.001, 0.001, 0.001, 0.001, 0.001, 0.001, 0.001, 0.001, 0.001, 0.001, 0.001, 0.001, 0.001, 0.001, 0.001, 0.001, 0.001, 0.001, 0.001, 0.001, 0.001, 0.001, 0.001, 0.001, 0.001, 0.001, 0.001, 0.001, 0.001, 0.001], 'train_mse': [1.143172641041313, 1.9888126817881928, 1.6362732956909734, 0.6675924354720423, 0.7715369989298665, 0.6693105111503586, 0.5686949678351153, 0.5013368391730197, 0.5140810634192732, 0.46811957376121666, 0.44936947097292146, 0.4441927158297715, 0.40313142473091207, 0.413175333836157, 0.4252592630542914, 0.4212816283857204, 0.4000178050075604, 0.4437082709082588, 0.41448412569883913, 0.4070173971975369, 0.3979514544950208, 0.4252801650452312, 0.42591023561851704, 0.40947367402349344, 0.40471792683086716, 0.40806745645391734, 0.4046975964370891, 0.40537129898993285, 0.37530681894153733, 0.37365850907405485, 0.36389280384797085, 0.36611552790539204, 0.37151509844560193, 0.36400821136966266, 0.48116854308216434, 0.8368417912510621, 0.3797339982116829, 0.35867686858180536, 0.366544186657195, 0.36870960703578826, 0.36493261492714396, 0.36547146679207504, 0.39623837097532827, 0.3735546407003848, 0.3832235248649114, 0.36933824129980125, 0.37518092083696, 0.36935002450230664, 0.3764454269280575, 0.36950297831462064, 0.363906687387195, 0.3624780065029354, 0.3723723686741358, 0.39638166822407755, 0.353545011550558, 0.35810933449339805, 0.3543743004413144, 0.37616417377447714, 0.38794797841156586, 0.36819544619720185, 0.36880657116998694, 0.3581578610328135, 0.33709256938604154, 0.3428562609299133, 0.35369693513638734, 0.48881446021454844, 0.33230070969332837, 0.3423333174865855, 0.33848908026981006, 0.330022943980424, 0.3339397211920141, 0.3352317264169143, 0.3428851049464941, 0.343445346269493, 0.3415027192904148, 0.3318364476042714, 0.34512805884753545, 0.3487370027737152, 0.3456868687614594, 0.3440943725333716, 0.3399795866464964, 0.33133729635427417, 0.32761287136881223, 0.34288860730439075, 0.3280848980127352, 0.3328713832268757, 0.32745698159046116, 0.3520013112221264, 0.34667007276104467, 0.3168050867799613, 0.32355238105898254, 0.33046967035218866, 0.3338885561218061, 0.3281870446148113, 0.3305953681694934, 0.3491886219366844, 0.3343625404922241, 0.4168569813285352, 0.3318742831657743, 0.31883165375738, 0.33699354700012935, 0.33107269095662045, 0.33649325211200093, 0.3179710839681649, 0.31755181984904873, 0.31534368700207577, 0.3184430462630541, 0.3268880054821374, 0.32785421691399685, 0.3385776400741005, 0.3209047701215334, 0.3228000889321564, 0.3178586279681776, 0.3129793377950277, 0.32101625178382087, 0.33986307604339666, 0.31919074941789194, 0.32111336485359193, 0.31683643169683695, 0.30740428561260236, 0.32461845874970363, 0.3153065480493285, 0.32347956875569894, 0.3157330561350605, 0.31789058247355517, 0.3245703519261766, 0.3104149064456598, 0.32034426890009426, 0.3210050715058384, 0.32510131059157643, 0.32470725800856026, 0.31636903644213554, 0.31582988074292995, 0.3191144623819323, 0.3168744809671192, 0.3121453908429869, 0.31703664714614327, 0.3139618274654051, 0.323485649243043, 0.3136614134163318, 0.3156452577292368, 0.33114519568579115, 0.3160592522272993, 0.31114239058066917, 0.3174482086096776, 0.3196694461871589, 0.3168479724123946, 0.32136794269787333, 0.30407481791118923, 0.3219655538421123, 0.3170733395366648, 0.31612581526679934, 0.31553319427877624, 0.31852212268174473, 0.30606029281065666, 0.3325139785147579, 0.3146580795360073, 0.30769632271763175, 0.3082221786117634, 0.31636060527041193, 0.3191876172514911, 0.3108476062846527, 0.30580608897326067, 0.2999489357405345, 0.31807190631833443, 0.30822686775271135, 0.32052308364621374, 0.3069811631029183, 0.3177608252746641, 0.31649990118426763, 0.3112488711204838, 0.3139495590374533, 0.32475571842333817, 0.3112486381000407, 0.3221723973614748, 0.30901190430341774, 0.31180829331149973, 0.3099328663125578, 0.30797689244090665, 0.3129868156029967, 0.31908041873177473, 0.3060535031547431, 0.31361999630228615, 0.3047013005517285, 0.3153413659925598, 0.31273906818388303, 0.3137273855020932, 0.32731381219159605, 0.3140782791114718, 0.31132473360023, 0.31421540406267817, 0.3095332940125879, 0.3115697182424909, 0.3224905670765459, 0.30078953371460176, 0.30149816418207126, 0.3177822461537601, 0.3138125716519187, 0.3050289069969403, 0.30668997856428426, 0.29904948154913275, 0.30679737824216463, 0.2996546099165715, 0.3122043457261474, 0.3052325624537188, 0.3172757436715021, 0.31145327808579537, 0.30511376859023914, 0.3104995804678811, 0.31746990470740005, 0.31443604784674933, 0.31057219465597463, 0.30433021082537093, 0.32302888786628836, 0.3158772620623337, 0.31193208044384946, 0.32046314074751003, 0.30968939311965793, 0.30344265102210266, 0.30862885971751713, 0.3060238396370395, 0.30698772591363555, 0.309520900808752, 0.31250476058629056, 0.3181520901944501, 0.30572916724880694, 0.3055194118992317, 0.3103991263251637, 0.32032883537008267, 0.3246282753484933, 0.31194045270505577, 0.31534018437276895, 0.312494816831965, 0.31081678881333097, 0.3099180905793396, 0.3126664398035344, 0.3161728608727585, 0.31351977147805077, 0.3143018833923527, 0.3009321419274013, 0.3046391497271742, 0.3085948009957284, 0.31678869146701033, 0.3093882114848819, 0.31161553766197025, 0.30520467643663646], 'train_mae': [0.7526515951837026, 0.6723323845697794, 0.6277001074849611, 0.5674175723879363, 0.5354164354908183, 0.5155242694981164, 0.49633520433390477, 0.4858373711950162, 0.47785185092828153, 0.47323461526157096, 0.4592854249083892, 0.4585205792745826, 0.44585055992916145, 0.4433314765149156, 0.44225847183269823, 0.44678707135004814, 0.4378293533121087, 0.4341102873249187, 0.4313328989231794, 0.4330984666542543, 0.4195548626253999, 0.42693672246426667, 0.4233944529394517, 0.42008859847121754, 0.42058165748363524, 0.42461713262129663, 0.4197538809161156, 0.4236542083741043, 0.41145918387945496, 0.4112691692004812, 0.4076406508906984, 0.40662559075346855, 0.40848016461419384, 0.4084038444444976, 0.4097700361249569, 0.4072333669918009, 0.4074665406357456, 0.4059494127444747, 0.40869075772987357, 0.4072283969247687, 0.4010459571988875, 0.4014931042625186, 0.4015234818226841, 0.4011593140446064, 0.3974584922880306, 0.395815881580832, 0.3987332560298359, 0.39233929914996707, 0.4033032222987089, 0.3971419438468419, 0.39705417889763056, 0.39107661367544716, 0.39213252603737836, 0.4012815982519284, 0.3925941293430323, 0.38934680591954995, 0.3896485311437502, 0.39248858328029, 0.39584998922931763, 0.39525431667571365, 0.3941302981580275, 0.39141898252055907, 0.3887182580960019, 0.39206357434194206, 0.38481330456311497, 0.39190391304401917, 0.38670888991395314, 0.38609030775994885, 0.3891952646318721, 0.38263463247805657, 0.38795025275185063, 0.382904794951408, 0.3862674858382986, 0.38871947197594847, 0.3902338176391957, 0.3848715246688382, 0.3846403451089622, 0.38238684555093666, 0.38531929827074807, 0.38584212848656035, 0.3853172671358067, 0.3878281569485975, 0.3830695075098656, 0.38613023251486683, 0.3860334208071823, 0.38427099470269, 0.38043202636381235, 0.39192173620868703, 0.39008803323539076, 0.37493263904732393, 0.37925964295751774, 0.38199137072757766, 0.3805524391833511, 0.3804164849520669, 0.385100867613117, 0.38195513282388016, 0.37812041999536844, 0.3827809140516037, 0.3761426840774601, 0.3764473358312118, 0.38457131071985345, 0.3834422690514209, 0.380036004732002, 0.37994957006775926, 0.37575041215421473, 0.38048780526918624, 0.3777748703571315, 0.38489961164789743, 0.3799085737759585, 0.38896179323158525, 0.37916815850193814, 0.37747928778024653, 0.37955654850819004, 0.37511321628585076, 0.3783416229400526, 0.381530935984906, 0.3772932620738809, 0.3812788670886529, 0.37682402309896407, 0.37271747661842813, 0.37700105956809477, 0.3753991482475363, 0.37531495930044695, 0.3755316855505909, 0.37761305423431246, 0.3771205654438523, 0.3750063849596463, 0.37384082499159893, 0.37467677004489774, 0.3715671395067967, 0.3752053174307517, 0.37904346060202015, 0.37990827188120585, 0.37318335739931496, 0.37628830502221144, 0.37220783495124554, 0.37359183324286094, 0.3757510909595882, 0.375747529373585, 0.3687338846540037, 0.37781492952045287, 0.3806478461365181, 0.37289378961740666, 0.37577978478539525, 0.3754429841855516, 0.3761370996295315, 0.3721441253574462, 0.37677431244011866, 0.3707980246996309, 0.371761304841197, 0.37240327837120984, 0.37209668151557385, 0.3713656145317827, 0.3768352104206526, 0.37567189152566416, 0.37971375782387123, 0.37274757645321055, 0.3699696984431361, 0.37446521998197163, 0.37267604993082876, 0.37685533924175363, 0.3735393734571415, 0.372930521493546, 0.3702068703921474, 0.3773757489588853, 0.36753251247134966, 0.37582610410736483, 0.3725827597373097, 0.36967965924713164, 0.3745595965966763, 0.3714185405533832, 0.3718237786537292, 0.37466050624827896, 0.3802212309977145, 0.3779725458479384, 0.37520334452440307, 0.37622639765737226, 0.36794110938668484, 0.3651096424535192, 0.3684615952564896, 0.37042733085497687, 0.37174067473365574, 0.37215830711275805, 0.3665167943721855, 0.37033297319646147, 0.3704199767476145, 0.3721769245090439, 0.37518745201130166, 0.3754517130214452, 0.36920957864235415, 0.37435570062267715, 0.36927141230171756, 0.37811594379668456, 0.3726081410294684, 0.36956888715611064, 0.36412461577133437, 0.37741284548917986, 0.37115294828407797, 0.3696141482946669, 0.36922357514628673, 0.36785364402725024, 0.36830424520483424, 0.3682335085329223, 0.3735686795812752, 0.3716221896438901, 0.371221085443203, 0.3653038515187219, 0.3690387158890624, 0.3679542672948049, 0.3748268631885304, 0.36962495154287983, 0.36810340698334765, 0.3685188522207664, 0.3714783851588852, 0.37289996308558737, 0.3729923649615977, 0.37495193842494073, 0.3707977658403428, 0.36777669095149634, 0.3684504116228938, 0.36830110978612257, 0.3689012562484743, 0.3709228414063744, 0.3727983140583097, 0.3694428433822262, 0.3668678459672466, 0.3642160934629988, 0.37268462449692996, 0.3817523227945038, 0.37378477212418987, 0.3675226627444631, 0.37031060740341837, 0.3703716196391096, 0.3731904965427827, 0.371497212381815, 0.3660509157012941, 0.3711983011474879, 0.37050800115579857, 0.37073918689299706, 0.3672995242068435, 0.36789532853556034, 0.36575265660078426, 0.3789087168645618, 0.3717074949742003, 0.36874642744334357, 0.3698276227526955]}\n"
     ]
    },
    {
     "data": {
      "application/scrapbook.scrap.json+json": {
       "data": 0.3730119008561559,
       "encoder": "json",
       "name": "TabNet MAE",
       "version": 1
      }
     },
     "metadata": {
      "scrapbook": {
       "data": true,
       "display": false,
       "name": "TabNet MAE"
      }
     },
     "output_type": "display_data"
    },
    {
     "name": "stdout",
     "output_type": "stream",
     "text": [
      "TabNet MAE 0.3730119008561559\n"
     ]
    },
    {
     "data": {
      "image/png": "[encoded data removed]",
      "text/plain": [
       "<Figure size 432x288 with 1 Axes>"
      ]
     },
     "metadata": {
      "needs_background": "light"
     },
     "output_type": "display_data"
    }
   ],
   "source": [
    "lr = 0.001\n",
    "\n",
    "y_train = np.reshape(y_train, (-1, 1))\n",
    "y_test = np.reshape(y_test, (-1, 1))\n",
    "\n",
    "device = torch.device('cuda' if torch.cuda.is_available() else 'cpu')\n",
    "mae_tab= baselineModels.tabnetreg(X_train,y_train,X_test,y_test,batch_size,n_features,n_target,n_epochs, lr)\n",
    "sb.glue(\"TabNet MAE\",mae_tab)\n",
    "print(\"TabNet MAE\",mae_tab)"
   ]
  }
 ],
 "metadata": {
  "kernelspec": {
   "display_name": "Python 3.7.3 64-bit",
   "language": "python",
   "name": "python3"
  },
  "language_info": {
   "codemirror_mode": {
    "name": "ipython",
    "version": 3
   },
   "file_extension": ".py",
   "mimetype": "text/x-python",
   "name": "python",
   "nbconvert_exporter": "python",
   "pygments_lexer": "ipython3",
   "version": "3.7.13"
  },
  "papermill": {
   "default_parameters": {},
   "duration": 545.027913,
   "end_time": "2022-07-20T17:24:27.202140",
   "environment_variables": {},
   "exception": null,
   "input_path": "BaselineModels.ipynb",
   "output_path": "./BaseLine_Model_Output/BaselineModels_output_6.ipynb",
   "parameters": {},
   "start_time": "2022-07-20T17:15:22.174227",
   "version": "2.3.4"
  },
  "vscode": {
   "interpreter": {
    "hash": "aee8b7b246df8f9039afb4144a1f6fd8d2ca17a180786b69acc140d282b71a49"
   }
  }
 },
 "nbformat": 4,
 "nbformat_minor": 5
}