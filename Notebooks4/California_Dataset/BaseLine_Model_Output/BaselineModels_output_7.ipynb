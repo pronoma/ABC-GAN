{
 "cells": [
  {
   "cell_type": "markdown",
   "id": "1f1fdd36",
   "metadata": {
    "papermill": {
     "duration": 0.007589,
     "end_time": "2022-07-20T17:24:29.232269",
     "exception": false,
     "start_time": "2022-07-20T17:24:29.224680",
     "status": "completed"
    },
    "tags": []
   },
   "source": [
    "## Import Libraries "
   ]
  },
  {
   "cell_type": "code",
   "execution_count": 1,
   "id": "8211263a",
   "metadata": {
    "execution": {
     "iopub.execute_input": "2022-07-20T17:24:29.246149Z",
     "iopub.status.busy": "2022-07-20T17:24:29.245766Z",
     "iopub.status.idle": "2022-07-20T17:24:29.251447Z",
     "shell.execute_reply": "2022-07-20T17:24:29.250711Z"
    },
    "papermill": {
     "duration": 0.014373,
     "end_time": "2022-07-20T17:24:29.253183",
     "exception": false,
     "start_time": "2022-07-20T17:24:29.238810",
     "status": "completed"
    },
    "tags": []
   },
   "outputs": [],
   "source": [
    "import warnings\n",
    "import sys\n",
    "sys.path.insert(0, '../../src')\n",
    "warnings.filterwarnings('ignore')"
   ]
  },
  {
   "cell_type": "code",
   "execution_count": 2,
   "id": "f9df45c0",
   "metadata": {
    "execution": {
     "iopub.execute_input": "2022-07-20T17:24:29.265391Z",
     "iopub.status.busy": "2022-07-20T17:24:29.265152Z",
     "iopub.status.idle": "2022-07-20T17:24:30.870716Z",
     "shell.execute_reply": "2022-07-20T17:24:30.869646Z"
    },
    "papermill": {
     "duration": 1.613901,
     "end_time": "2022-07-20T17:24:30.873068",
     "exception": false,
     "start_time": "2022-07-20T17:24:29.259167",
     "status": "completed"
    },
    "tags": []
   },
   "outputs": [],
   "source": [
    "import statsModel\n",
    "import scrapbook as sb \n",
    "import torch \n",
    "import statsModel\n",
    "import baselineModels\n",
    "import californiaDataset\n",
    "import dataset \n",
    "from torch.utils.data import random_split \n",
    "from sklearn.model_selection import train_test_split\n",
    "from sklearn.metrics import mean_squared_error,mean_absolute_error \n",
    "import numpy as np"
   ]
  },
  {
   "cell_type": "markdown",
   "id": "9d97249c",
   "metadata": {
    "papermill": {
     "duration": 0.006516,
     "end_time": "2022-07-20T17:24:30.885850",
     "exception": false,
     "start_time": "2022-07-20T17:24:30.879334",
     "status": "completed"
    },
    "tags": []
   },
   "source": [
    "## Import Dataset \n"
   ]
  },
  {
   "cell_type": "code",
   "execution_count": 3,
   "id": "28084b74",
   "metadata": {
    "execution": {
     "iopub.execute_input": "2022-07-20T17:24:30.913955Z",
     "iopub.status.busy": "2022-07-20T17:24:30.913431Z",
     "iopub.status.idle": "2022-07-20T17:24:30.941942Z",
     "shell.execute_reply": "2022-07-20T17:24:30.940974Z"
    },
    "papermill": {
     "duration": 0.03694,
     "end_time": "2022-07-20T17:24:30.943957",
     "exception": false,
     "start_time": "2022-07-20T17:24:30.907017",
     "status": "completed"
    },
    "tags": []
   },
   "outputs": [
    {
     "name": "stdout",
     "output_type": "stream",
     "text": [
      "       X1    X2        X3        X4      X5        X6     X7      X8      Y\n",
      "0  8.3252  41.0  6.984127  1.023810   322.0  2.555556  37.88 -122.23  4.526\n",
      "1  8.3014  21.0  6.238137  0.971880  2401.0  2.109842  37.86 -122.22  3.585\n",
      "2  7.2574  52.0  8.288136  1.073446   496.0  2.802260  37.85 -122.24  3.521\n",
      "3  5.6431  52.0  5.817352  1.073059   558.0  2.547945  37.85 -122.25  3.413\n",
      "4  3.8462  52.0  6.281853  1.081081   565.0  2.181467  37.85 -122.25  3.422\n"
     ]
    }
   ],
   "source": [
    "n_features = 8\n",
    "n_samples= 20640\n",
    "n_target = 1 \n",
    "X,Y = californiaDataset.california_data()"
   ]
  },
  {
   "cell_type": "code",
   "execution_count": 4,
   "id": "2d3ed9dc",
   "metadata": {
    "execution": {
     "iopub.execute_input": "2022-07-20T17:24:30.957040Z",
     "iopub.status.busy": "2022-07-20T17:24:30.956733Z",
     "iopub.status.idle": "2022-07-20T17:24:30.962630Z",
     "shell.execute_reply": "2022-07-20T17:24:30.961842Z"
    },
    "papermill": {
     "duration": 0.013913,
     "end_time": "2022-07-20T17:24:30.964234",
     "exception": false,
     "start_time": "2022-07-20T17:24:30.950321",
     "status": "completed"
    },
    "tags": []
   },
   "outputs": [],
   "source": [
    "# Train test split for dataset \n",
    "real_dataset = dataset.CustomDataset(X,Y)\n",
    "X_train, X_test, y_train, y_test = train_test_split(X, Y, test_size=0.2)"
   ]
  },
  {
   "cell_type": "markdown",
   "id": "d390808b",
   "metadata": {
    "papermill": {
     "duration": 0.005449,
     "end_time": "2022-07-20T17:24:30.974842",
     "exception": false,
     "start_time": "2022-07-20T17:24:30.969393",
     "status": "completed"
    },
    "tags": []
   },
   "source": [
    "## Stats Model \n",
    "\n"
   ]
  },
  {
   "cell_type": "code",
   "execution_count": 5,
   "id": "cb7153b6",
   "metadata": {
    "execution": {
     "iopub.execute_input": "2022-07-20T17:24:30.997279Z",
     "iopub.status.busy": "2022-07-20T17:24:30.996972Z",
     "iopub.status.idle": "2022-07-20T17:24:31.242102Z",
     "shell.execute_reply": "2022-07-20T17:24:31.241302Z"
    },
    "papermill": {
     "duration": 0.263825,
     "end_time": "2022-07-20T17:24:31.243783",
     "exception": false,
     "start_time": "2022-07-20T17:24:30.979958",
     "status": "completed"
    },
    "tags": []
   },
   "outputs": [
    {
     "name": "stderr",
     "output_type": "stream",
     "text": [
      "No handles with labels found to put in legend.\n"
     ]
    },
    {
     "name": "stdout",
     "output_type": "stream",
     "text": [
      "                                 OLS Regression Results                                \n",
      "=======================================================================================\n",
      "Dep. Variable:                      y   R-squared (uncentered):                   0.604\n",
      "Model:                            OLS   Adj. R-squared (uncentered):              0.604\n",
      "Method:                 Least Squares   F-statistic:                              3148.\n",
      "Date:                Wed, 20 Jul 2022   Prob (F-statistic):                        0.00\n",
      "Time:                        17:24:31   Log-Likelihood:                         -15751.\n",
      "No. Observations:               16512   AIC:                                  3.152e+04\n",
      "Df Residuals:                   16504   BIC:                                  3.158e+04\n",
      "Df Model:                           8                                                  \n",
      "Covariance Type:            nonrobust                                                  \n",
      "==============================================================================\n",
      "                 coef    std err          t      P>|t|      [0.025      0.975]\n",
      "------------------------------------------------------------------------------\n",
      "x1             0.7196      0.008     92.850      0.000       0.704       0.735\n",
      "x2             0.1031      0.005     18.943      0.000       0.092       0.114\n",
      "x3            -0.2482      0.014    -17.432      0.000      -0.276      -0.220\n",
      "x4             0.3031      0.014     22.212      0.000       0.276       0.330\n",
      "x5            -0.0026      0.005     -0.496      0.620      -0.013       0.008\n",
      "x6            -0.0308      0.004     -6.989      0.000      -0.039      -0.022\n",
      "x7            -0.7904      0.015    -52.999      0.000      -0.820      -0.761\n",
      "x8            -0.7650      0.015    -52.271      0.000      -0.794      -0.736\n",
      "==============================================================================\n",
      "Omnibus:                     3448.401   Durbin-Watson:                   1.991\n",
      "Prob(Omnibus):                  0.000   Jarque-Bera (JB):             9669.344\n",
      "Skew:                           1.107   Prob(JB):                         0.00\n",
      "Kurtosis:                       6.025   Cond. No.                         6.62\n",
      "==============================================================================\n",
      "\n",
      "Warnings:\n",
      "[1] Standard Errors assume that the covariance matrix of the errors is correctly specified.\n"
     ]
    },
    {
     "data": {
      "image/png": "[encoded data removed]",
      "text/plain": [
       "<Figure size 432x288 with 1 Axes>"
      ]
     },
     "metadata": {
      "needs_background": "light"
     },
     "output_type": "display_data"
    },
    {
     "name": "stdout",
     "output_type": "stream",
     "text": [
      "Performance Metrics\n",
      "Mean Squared Error: 0.39366754355304406\n",
      "Mean Absolute Error: 0.4588736396910953\n",
      "Manhattan distance: 1894.2303846448426\n",
      "Euclidean distance: 40.31202822715526\n"
     ]
    },
    {
     "data": {
      "application/scrapbook.scrap.json+json": {
       "data": 0.39366754355304406,
       "encoder": "json",
       "name": "Stats Model MSE",
       "version": 1
      }
     },
     "metadata": {
      "scrapbook": {
       "data": true,
       "display": false,
       "name": "Stats Model MSE"
      }
     },
     "output_type": "display_data"
    },
    {
     "data": {
      "application/scrapbook.scrap.json+json": {
       "data": 0.4588736396910953,
       "encoder": "json",
       "name": "Stats Model MAE",
       "version": 1
      }
     },
     "metadata": {
      "scrapbook": {
       "data": true,
       "display": false,
       "name": "Stats Model MAE"
      }
     },
     "output_type": "display_data"
    },
    {
     "data": {
      "application/scrapbook.scrap.json+json": {
       "data": 1894.2303846448426,
       "encoder": "json",
       "name": "Stats Model Manhattan Distance",
       "version": 1
      }
     },
     "metadata": {
      "scrapbook": {
       "data": true,
       "display": false,
       "name": "Stats Model Manhattan Distance"
      }
     },
     "output_type": "display_data"
    },
    {
     "data": {
      "application/scrapbook.scrap.json+json": {
       "data": 40.31202822715526,
       "encoder": "json",
       "name": "Stats Model Euclidean distance",
       "version": 1
      }
     },
     "metadata": {
      "scrapbook": {
       "data": true,
       "display": false,
       "name": "Stats Model Euclidean distance"
      }
     },
     "output_type": "display_data"
    },
    {
     "data": {
      "application/scrapbook.scrap.json+json": {
       "data": [
        0.719584588469383,
        0.10309781969977065,
        -0.2482258286941275,
        0.30310419269826616,
        -0.0025905455444736646,
        -0.03075767211052579,
        -0.7903857500132203,
        -0.7650067332339128
       ],
       "encoder": "json",
       "name": "Coefficients",
       "version": 1
      }
     },
     "metadata": {
      "scrapbook": {
       "data": true,
       "display": false,
       "name": "Coefficients"
      }
     },
     "output_type": "display_data"
    },
    {
     "name": "stdout",
     "output_type": "stream",
     "text": [
      "Stats Model MAE 0.4588736396910953\n"
     ]
    }
   ],
   "source": [
    "coefficients , y_pred =statsModel.statsModel(X_train,y_train,X_test,y_test)\n",
    "#Store MSE Value \n",
    "sb.glue(\"Coefficients\",coefficients)\n",
    "mae = mean_absolute_error(y_pred, y_test)\n",
    "print(\"Stats Model MAE\", mae)"
   ]
  },
  {
   "cell_type": "markdown",
   "id": "02c172b5",
   "metadata": {
    "papermill": {
     "duration": 0.005918,
     "end_time": "2022-07-20T17:24:31.257293",
     "exception": false,
     "start_time": "2022-07-20T17:24:31.251375",
     "status": "completed"
    },
    "tags": []
   },
   "source": [
    "# Catboost Model "
   ]
  },
  {
   "cell_type": "code",
   "execution_count": 6,
   "id": "280109cc",
   "metadata": {
    "execution": {
     "iopub.execute_input": "2022-07-20T17:24:31.270245Z",
     "iopub.status.busy": "2022-07-20T17:24:31.269986Z",
     "iopub.status.idle": "2022-07-20T17:24:34.061758Z",
     "shell.execute_reply": "2022-07-20T17:24:34.060984Z"
    },
    "papermill": {
     "duration": 2.800178,
     "end_time": "2022-07-20T17:24:34.063306",
     "exception": false,
     "start_time": "2022-07-20T17:24:31.263128",
     "status": "completed"
    },
    "tags": []
   },
   "outputs": [
    {
     "name": "stdout",
     "output_type": "stream",
     "text": [
      "Learning rate set to 0.063766\n",
      "0:\tlearn: 0.9629854\ttotal: 49.1ms\tremaining: 49.1s\n",
      "1:\tlearn: 0.9314922\ttotal: 51.3ms\tremaining: 25.6s\n",
      "2:\tlearn: 0.9016973\ttotal: 53.4ms\tremaining: 17.8s\n",
      "3:\tlearn: 0.8743758\ttotal: 56.5ms\tremaining: 14.1s\n",
      "4:\tlearn: 0.8492626\ttotal: 59.3ms\tremaining: 11.8s\n",
      "5:\tlearn: 0.8261826\ttotal: 62.4ms\tremaining: 10.3s\n",
      "6:\tlearn: 0.8043267\ttotal: 64.7ms\tremaining: 9.18s\n",
      "7:\tlearn: 0.7842376\ttotal: 66.6ms\tremaining: 8.26s\n",
      "8:\tlearn: 0.7671763\ttotal: 68.8ms\tremaining: 7.57s\n",
      "9:\tlearn: 0.7484366\ttotal: 70.9ms\tremaining: 7.02s\n",
      "10:\tlearn: 0.7322555\ttotal: 72.9ms\tremaining: 6.56s\n",
      "11:\tlearn: 0.7166267\ttotal: 75.2ms\tremaining: 6.19s\n",
      "12:\tlearn: 0.7034631\ttotal: 77.3ms\tremaining: 5.87s\n",
      "13:\tlearn: 0.6889492\ttotal: 79.3ms\tremaining: 5.59s\n",
      "14:\tlearn: 0.6761047\ttotal: 81.4ms\tremaining: 5.35s\n",
      "15:\tlearn: 0.6645045\ttotal: 83.5ms\tremaining: 5.13s\n",
      "16:\tlearn: 0.6548502\ttotal: 85.7ms\tremaining: 4.95s\n"
     ]
    },
    {
     "name": "stdout",
     "output_type": "stream",
     "text": [
      "17:\tlearn: 0.6448994\ttotal: 87.8ms\tremaining: 4.79s\n",
      "18:\tlearn: 0.6366312\ttotal: 90.3ms\tremaining: 4.66s\n",
      "19:\tlearn: 0.6291653\ttotal: 92.3ms\tremaining: 4.53s\n",
      "20:\tlearn: 0.6218379\ttotal: 94.6ms\tremaining: 4.41s\n",
      "21:\tlearn: 0.6144006\ttotal: 96.5ms\tremaining: 4.29s\n",
      "22:\tlearn: 0.6055538\ttotal: 98.6ms\tremaining: 4.19s\n",
      "23:\tlearn: 0.5997449\ttotal: 101ms\tremaining: 4.09s\n",
      "24:\tlearn: 0.5923472\ttotal: 103ms\tremaining: 4.01s\n"
     ]
    },
    {
     "name": "stdout",
     "output_type": "stream",
     "text": [
      "25:\tlearn: 0.5868168\ttotal: 105ms\tremaining: 3.95s\n",
      "26:\tlearn: 0.5813246\ttotal: 108ms\tremaining: 3.88s\n",
      "27:\tlearn: 0.5744800\ttotal: 110ms\tremaining: 3.81s\n",
      "28:\tlearn: 0.5684560\ttotal: 112ms\tremaining: 3.74s\n",
      "29:\tlearn: 0.5639461\ttotal: 114ms\tremaining: 3.67s\n",
      "30:\tlearn: 0.5600970\ttotal: 116ms\tremaining: 3.62s\n",
      "31:\tlearn: 0.5559070\ttotal: 118ms\tremaining: 3.57s\n",
      "32:\tlearn: 0.5510611\ttotal: 120ms\tremaining: 3.52s\n",
      "33:\tlearn: 0.5478587\ttotal: 122ms\tremaining: 3.47s\n",
      "34:\tlearn: 0.5434520\ttotal: 124ms\tremaining: 3.42s\n",
      "35:\tlearn: 0.5398393\ttotal: 126ms\tremaining: 3.38s\n",
      "36:\tlearn: 0.5366474\ttotal: 128ms\tremaining: 3.34s\n",
      "37:\tlearn: 0.5323153\ttotal: 130ms\tremaining: 3.3s\n",
      "38:\tlearn: 0.5296272\ttotal: 132ms\tremaining: 3.26s\n",
      "39:\tlearn: 0.5277998\ttotal: 134ms\tremaining: 3.22s\n",
      "40:\tlearn: 0.5257070\ttotal: 137ms\tremaining: 3.2s\n",
      "41:\tlearn: 0.5235827\ttotal: 139ms\tremaining: 3.16s\n",
      "42:\tlearn: 0.5208618\ttotal: 141ms\tremaining: 3.13s\n",
      "43:\tlearn: 0.5176703\ttotal: 143ms\tremaining: 3.1s\n",
      "44:\tlearn: 0.5159474\ttotal: 145ms\tremaining: 3.07s\n",
      "45:\tlearn: 0.5128574\ttotal: 147ms\tremaining: 3.05s\n",
      "46:\tlearn: 0.5110699\ttotal: 149ms\tremaining: 3.03s\n",
      "47:\tlearn: 0.5092217\ttotal: 151ms\tremaining: 3s\n",
      "48:\tlearn: 0.5074665\ttotal: 153ms\tremaining: 2.98s\n",
      "49:\tlearn: 0.5060797\ttotal: 156ms\tremaining: 2.96s\n",
      "50:\tlearn: 0.5042688\ttotal: 158ms\tremaining: 2.94s\n",
      "51:\tlearn: 0.5012580\ttotal: 160ms\tremaining: 2.92s\n"
     ]
    },
    {
     "name": "stdout",
     "output_type": "stream",
     "text": [
      "52:\tlearn: 0.4986369\ttotal: 163ms\tremaining: 2.91s\n",
      "53:\tlearn: 0.4967430\ttotal: 165ms\tremaining: 2.89s\n",
      "54:\tlearn: 0.4940086\ttotal: 167ms\tremaining: 2.87s\n",
      "55:\tlearn: 0.4921457\ttotal: 169ms\tremaining: 2.85s\n",
      "56:\tlearn: 0.4903470\ttotal: 171ms\tremaining: 2.83s\n",
      "57:\tlearn: 0.4890788\ttotal: 173ms\tremaining: 2.81s\n",
      "58:\tlearn: 0.4880613\ttotal: 175ms\tremaining: 2.79s\n",
      "59:\tlearn: 0.4869250\ttotal: 177ms\tremaining: 2.78s\n",
      "60:\tlearn: 0.4855732\ttotal: 180ms\tremaining: 2.77s\n",
      "61:\tlearn: 0.4844382\ttotal: 182ms\tremaining: 2.75s\n",
      "62:\tlearn: 0.4835143\ttotal: 184ms\tremaining: 2.73s\n",
      "63:\tlearn: 0.4816279\ttotal: 186ms\tremaining: 2.72s\n",
      "64:\tlearn: 0.4803472\ttotal: 188ms\tremaining: 2.7s\n",
      "65:\tlearn: 0.4795979\ttotal: 190ms\tremaining: 2.69s\n",
      "66:\tlearn: 0.4782071\ttotal: 192ms\tremaining: 2.68s\n",
      "67:\tlearn: 0.4773623\ttotal: 195ms\tremaining: 2.67s\n",
      "68:\tlearn: 0.4767009\ttotal: 197ms\tremaining: 2.65s\n",
      "69:\tlearn: 0.4759105\ttotal: 199ms\tremaining: 2.64s\n",
      "70:\tlearn: 0.4753967\ttotal: 201ms\tremaining: 2.63s\n",
      "71:\tlearn: 0.4730705\ttotal: 203ms\tremaining: 2.62s\n",
      "72:\tlearn: 0.4722299\ttotal: 205ms\tremaining: 2.6s\n",
      "73:\tlearn: 0.4714027\ttotal: 207ms\tremaining: 2.59s\n",
      "74:\tlearn: 0.4705386\ttotal: 209ms\tremaining: 2.58s\n",
      "75:\tlearn: 0.4697557\ttotal: 211ms\tremaining: 2.57s\n",
      "76:\tlearn: 0.4678577\ttotal: 213ms\tremaining: 2.56s\n",
      "77:\tlearn: 0.4668279\ttotal: 215ms\tremaining: 2.55s\n",
      "78:\tlearn: 0.4654352\ttotal: 218ms\tremaining: 2.54s\n",
      "79:\tlearn: 0.4648451\ttotal: 220ms\tremaining: 2.53s\n",
      "80:\tlearn: 0.4639348\ttotal: 222ms\tremaining: 2.52s\n",
      "81:\tlearn: 0.4633226\ttotal: 224ms\tremaining: 2.51s\n",
      "82:\tlearn: 0.4620542\ttotal: 226ms\tremaining: 2.5s\n",
      "83:\tlearn: 0.4608167\ttotal: 228ms\tremaining: 2.49s\n",
      "84:\tlearn: 0.4600577\ttotal: 231ms\tremaining: 2.48s\n",
      "85:\tlearn: 0.4596219\ttotal: 233ms\tremaining: 2.47s\n",
      "86:\tlearn: 0.4589726\ttotal: 235ms\tremaining: 2.46s\n",
      "87:\tlearn: 0.4585976\ttotal: 237ms\tremaining: 2.46s\n",
      "88:\tlearn: 0.4579344\ttotal: 239ms\tremaining: 2.45s\n",
      "89:\tlearn: 0.4575899\ttotal: 241ms\tremaining: 2.44s\n",
      "90:\tlearn: 0.4569612\ttotal: 243ms\tremaining: 2.43s\n",
      "91:\tlearn: 0.4564325\ttotal: 245ms\tremaining: 2.42s\n"
     ]
    },
    {
     "name": "stdout",
     "output_type": "stream",
     "text": [
      "92:\tlearn: 0.4551740\ttotal: 248ms\tremaining: 2.42s\n",
      "93:\tlearn: 0.4539675\ttotal: 250ms\tremaining: 2.41s\n",
      "94:\tlearn: 0.4531670\ttotal: 252ms\tremaining: 2.4s\n",
      "95:\tlearn: 0.4524029\ttotal: 254ms\tremaining: 2.4s\n",
      "96:\tlearn: 0.4517846\ttotal: 257ms\tremaining: 2.39s\n",
      "97:\tlearn: 0.4512660\ttotal: 259ms\tremaining: 2.38s\n",
      "98:\tlearn: 0.4502166\ttotal: 261ms\tremaining: 2.37s\n"
     ]
    },
    {
     "name": "stdout",
     "output_type": "stream",
     "text": [
      "99:\tlearn: 0.4494050\ttotal: 263ms\tremaining: 2.36s\n",
      "100:\tlearn: 0.4485207\ttotal: 265ms\tremaining: 2.36s\n",
      "101:\tlearn: 0.4478749\ttotal: 267ms\tremaining: 2.35s\n",
      "102:\tlearn: 0.4475178\ttotal: 270ms\tremaining: 2.35s\n",
      "103:\tlearn: 0.4467607\ttotal: 272ms\tremaining: 2.34s\n",
      "104:\tlearn: 0.4461820\ttotal: 274ms\tremaining: 2.33s\n",
      "105:\tlearn: 0.4454547\ttotal: 276ms\tremaining: 2.33s\n",
      "106:\tlearn: 0.4449660\ttotal: 278ms\tremaining: 2.32s\n",
      "107:\tlearn: 0.4446255\ttotal: 280ms\tremaining: 2.31s\n",
      "108:\tlearn: 0.4441799\ttotal: 282ms\tremaining: 2.31s\n",
      "109:\tlearn: 0.4434940\ttotal: 284ms\tremaining: 2.3s\n",
      "110:\tlearn: 0.4431275\ttotal: 286ms\tremaining: 2.29s\n",
      "111:\tlearn: 0.4424316\ttotal: 288ms\tremaining: 2.28s\n",
      "112:\tlearn: 0.4414955\ttotal: 290ms\tremaining: 2.28s\n",
      "113:\tlearn: 0.4410620\ttotal: 292ms\tremaining: 2.27s\n",
      "114:\tlearn: 0.4406818\ttotal: 294ms\tremaining: 2.26s\n",
      "115:\tlearn: 0.4403515\ttotal: 296ms\tremaining: 2.26s\n",
      "116:\tlearn: 0.4401495\ttotal: 298ms\tremaining: 2.25s\n",
      "117:\tlearn: 0.4397420\ttotal: 300ms\tremaining: 2.24s\n",
      "118:\tlearn: 0.4391771\ttotal: 302ms\tremaining: 2.24s\n",
      "119:\tlearn: 0.4384916\ttotal: 304ms\tremaining: 2.23s\n",
      "120:\tlearn: 0.4379969\ttotal: 306ms\tremaining: 2.23s\n",
      "121:\tlearn: 0.4374012\ttotal: 308ms\tremaining: 2.22s\n",
      "122:\tlearn: 0.4369444\ttotal: 310ms\tremaining: 2.21s\n",
      "123:\tlearn: 0.4361054\ttotal: 312ms\tremaining: 2.21s\n",
      "124:\tlearn: 0.4355286\ttotal: 315ms\tremaining: 2.2s\n",
      "125:\tlearn: 0.4353000\ttotal: 317ms\tremaining: 2.19s\n",
      "126:\tlearn: 0.4348500\ttotal: 319ms\tremaining: 2.19s\n",
      "127:\tlearn: 0.4342573\ttotal: 321ms\tremaining: 2.18s\n"
     ]
    },
    {
     "name": "stdout",
     "output_type": "stream",
     "text": [
      "128:\tlearn: 0.4337141\ttotal: 323ms\tremaining: 2.18s\n",
      "129:\tlearn: 0.4333713\ttotal: 325ms\tremaining: 2.18s\n",
      "130:\tlearn: 0.4329869\ttotal: 327ms\tremaining: 2.17s\n",
      "131:\tlearn: 0.4325990\ttotal: 329ms\tremaining: 2.16s\n",
      "132:\tlearn: 0.4320017\ttotal: 331ms\tremaining: 2.16s\n",
      "133:\tlearn: 0.4315485\ttotal: 333ms\tremaining: 2.15s\n",
      "134:\tlearn: 0.4309521\ttotal: 335ms\tremaining: 2.15s\n",
      "135:\tlearn: 0.4305306\ttotal: 337ms\tremaining: 2.14s\n",
      "136:\tlearn: 0.4302413\ttotal: 339ms\tremaining: 2.14s\n",
      "137:\tlearn: 0.4296475\ttotal: 341ms\tremaining: 2.13s\n",
      "138:\tlearn: 0.4294056\ttotal: 343ms\tremaining: 2.13s\n",
      "139:\tlearn: 0.4291486\ttotal: 346ms\tremaining: 2.12s\n",
      "140:\tlearn: 0.4289179\ttotal: 348ms\tremaining: 2.12s\n",
      "141:\tlearn: 0.4284141\ttotal: 350ms\tremaining: 2.11s\n",
      "142:\tlearn: 0.4279614\ttotal: 352ms\tremaining: 2.11s\n",
      "143:\tlearn: 0.4277263\ttotal: 354ms\tremaining: 2.1s\n",
      "144:\tlearn: 0.4274824\ttotal: 356ms\tremaining: 2.1s\n",
      "145:\tlearn: 0.4271736\ttotal: 358ms\tremaining: 2.1s\n",
      "146:\tlearn: 0.4268822\ttotal: 360ms\tremaining: 2.09s\n",
      "147:\tlearn: 0.4265218\ttotal: 362ms\tremaining: 2.08s\n",
      "148:\tlearn: 0.4261683\ttotal: 364ms\tremaining: 2.08s\n",
      "149:\tlearn: 0.4255892\ttotal: 366ms\tremaining: 2.08s\n",
      "150:\tlearn: 0.4249239\ttotal: 369ms\tremaining: 2.07s\n",
      "151:\tlearn: 0.4243818\ttotal: 371ms\tremaining: 2.07s\n",
      "152:\tlearn: 0.4237294\ttotal: 373ms\tremaining: 2.06s\n",
      "153:\tlearn: 0.4232138\ttotal: 375ms\tremaining: 2.06s\n",
      "154:\tlearn: 0.4228678\ttotal: 377ms\tremaining: 2.06s\n",
      "155:\tlearn: 0.4225005\ttotal: 379ms\tremaining: 2.05s\n",
      "156:\tlearn: 0.4222057\ttotal: 381ms\tremaining: 2.05s\n",
      "157:\tlearn: 0.4218508\ttotal: 383ms\tremaining: 2.04s\n",
      "158:\tlearn: 0.4214161\ttotal: 385ms\tremaining: 2.04s\n",
      "159:\tlearn: 0.4210495\ttotal: 387ms\tremaining: 2.03s\n",
      "160:\tlearn: 0.4207203\ttotal: 389ms\tremaining: 2.03s\n",
      "161:\tlearn: 0.4202245\ttotal: 391ms\tremaining: 2.02s\n",
      "162:\tlearn: 0.4198726\ttotal: 394ms\tremaining: 2.02s\n",
      "163:\tlearn: 0.4195655\ttotal: 396ms\tremaining: 2.02s\n",
      "164:\tlearn: 0.4189705\ttotal: 398ms\tremaining: 2.01s\n",
      "165:\tlearn: 0.4185354\ttotal: 400ms\tremaining: 2.01s\n",
      "166:\tlearn: 0.4178164\ttotal: 402ms\tremaining: 2.01s\n",
      "167:\tlearn: 0.4173865\ttotal: 405ms\tremaining: 2s\n",
      "168:\tlearn: 0.4170342\ttotal: 407ms\tremaining: 2s\n"
     ]
    },
    {
     "name": "stdout",
     "output_type": "stream",
     "text": [
      "169:\tlearn: 0.4166053\ttotal: 410ms\tremaining: 2s\n",
      "170:\tlearn: 0.4161724\ttotal: 412ms\tremaining: 2s\n",
      "171:\tlearn: 0.4158389\ttotal: 414ms\tremaining: 1.99s\n",
      "172:\tlearn: 0.4155335\ttotal: 416ms\tremaining: 1.99s\n",
      "173:\tlearn: 0.4151068\ttotal: 418ms\tremaining: 1.98s\n",
      "174:\tlearn: 0.4147699\ttotal: 420ms\tremaining: 1.98s\n",
      "175:\tlearn: 0.4144127\ttotal: 422ms\tremaining: 1.98s\n"
     ]
    },
    {
     "name": "stdout",
     "output_type": "stream",
     "text": [
      "176:\tlearn: 0.4139318\ttotal: 424ms\tremaining: 1.97s\n",
      "177:\tlearn: 0.4134591\ttotal: 426ms\tremaining: 1.97s\n",
      "178:\tlearn: 0.4131906\ttotal: 428ms\tremaining: 1.96s\n",
      "179:\tlearn: 0.4126969\ttotal: 431ms\tremaining: 1.96s\n",
      "180:\tlearn: 0.4124292\ttotal: 433ms\tremaining: 1.96s\n",
      "181:\tlearn: 0.4120971\ttotal: 435ms\tremaining: 1.96s\n",
      "182:\tlearn: 0.4117564\ttotal: 437ms\tremaining: 1.95s\n",
      "183:\tlearn: 0.4112229\ttotal: 439ms\tremaining: 1.95s\n",
      "184:\tlearn: 0.4108513\ttotal: 442ms\tremaining: 1.95s\n",
      "185:\tlearn: 0.4102049\ttotal: 444ms\tremaining: 1.94s\n",
      "186:\tlearn: 0.4098033\ttotal: 446ms\tremaining: 1.94s\n",
      "187:\tlearn: 0.4095292\ttotal: 448ms\tremaining: 1.93s\n",
      "188:\tlearn: 0.4090485\ttotal: 450ms\tremaining: 1.93s\n",
      "189:\tlearn: 0.4088024\ttotal: 452ms\tremaining: 1.93s\n",
      "190:\tlearn: 0.4084058\ttotal: 454ms\tremaining: 1.92s\n",
      "191:\tlearn: 0.4079963\ttotal: 456ms\tremaining: 1.92s\n",
      "192:\tlearn: 0.4076832\ttotal: 458ms\tremaining: 1.91s\n",
      "193:\tlearn: 0.4069657\ttotal: 460ms\tremaining: 1.91s\n",
      "194:\tlearn: 0.4065962\ttotal: 462ms\tremaining: 1.91s\n",
      "195:\tlearn: 0.4062028\ttotal: 464ms\tremaining: 1.9s\n",
      "196:\tlearn: 0.4059488\ttotal: 466ms\tremaining: 1.9s\n",
      "197:\tlearn: 0.4055547\ttotal: 468ms\tremaining: 1.9s\n",
      "198:\tlearn: 0.4052707\ttotal: 470ms\tremaining: 1.89s\n",
      "199:\tlearn: 0.4050334\ttotal: 472ms\tremaining: 1.89s\n",
      "200:\tlearn: 0.4048050\ttotal: 474ms\tremaining: 1.88s\n",
      "201:\tlearn: 0.4045132\ttotal: 476ms\tremaining: 1.88s\n",
      "202:\tlearn: 0.4042203\ttotal: 478ms\tremaining: 1.88s\n",
      "203:\tlearn: 0.4039404\ttotal: 480ms\tremaining: 1.87s\n",
      "204:\tlearn: 0.4036182\ttotal: 482ms\tremaining: 1.87s\n"
     ]
    },
    {
     "name": "stdout",
     "output_type": "stream",
     "text": [
      "205:\tlearn: 0.4032785\ttotal: 484ms\tremaining: 1.87s\n",
      "206:\tlearn: 0.4030187\ttotal: 486ms\tremaining: 1.86s\n",
      "207:\tlearn: 0.4026240\ttotal: 488ms\tremaining: 1.86s\n",
      "208:\tlearn: 0.4022823\ttotal: 491ms\tremaining: 1.86s\n",
      "209:\tlearn: 0.4017767\ttotal: 493ms\tremaining: 1.85s\n",
      "210:\tlearn: 0.4014677\ttotal: 495ms\tremaining: 1.85s\n",
      "211:\tlearn: 0.4011886\ttotal: 497ms\tremaining: 1.85s\n",
      "212:\tlearn: 0.4008038\ttotal: 499ms\tremaining: 1.84s\n",
      "213:\tlearn: 0.4004712\ttotal: 502ms\tremaining: 1.84s\n",
      "214:\tlearn: 0.4002136\ttotal: 504ms\tremaining: 1.84s\n",
      "215:\tlearn: 0.3998788\ttotal: 506ms\tremaining: 1.83s\n",
      "216:\tlearn: 0.3995851\ttotal: 508ms\tremaining: 1.83s\n",
      "217:\tlearn: 0.3992648\ttotal: 510ms\tremaining: 1.83s\n",
      "218:\tlearn: 0.3989551\ttotal: 512ms\tremaining: 1.82s\n",
      "219:\tlearn: 0.3986987\ttotal: 514ms\tremaining: 1.82s\n",
      "220:\tlearn: 0.3983566\ttotal: 516ms\tremaining: 1.82s\n",
      "221:\tlearn: 0.3980231\ttotal: 518ms\tremaining: 1.81s\n",
      "222:\tlearn: 0.3977316\ttotal: 520ms\tremaining: 1.81s\n",
      "223:\tlearn: 0.3973527\ttotal: 522ms\tremaining: 1.81s\n",
      "224:\tlearn: 0.3971274\ttotal: 524ms\tremaining: 1.8s\n",
      "225:\tlearn: 0.3968557\ttotal: 526ms\tremaining: 1.8s\n",
      "226:\tlearn: 0.3966694\ttotal: 528ms\tremaining: 1.8s\n",
      "227:\tlearn: 0.3963774\ttotal: 530ms\tremaining: 1.79s\n",
      "228:\tlearn: 0.3959124\ttotal: 532ms\tremaining: 1.79s\n",
      "229:\tlearn: 0.3957103\ttotal: 534ms\tremaining: 1.79s\n",
      "230:\tlearn: 0.3954099\ttotal: 536ms\tremaining: 1.78s\n",
      "231:\tlearn: 0.3950817\ttotal: 538ms\tremaining: 1.78s\n",
      "232:\tlearn: 0.3948382\ttotal: 540ms\tremaining: 1.78s\n",
      "233:\tlearn: 0.3944136\ttotal: 542ms\tremaining: 1.77s\n",
      "234:\tlearn: 0.3941034\ttotal: 545ms\tremaining: 1.77s\n",
      "235:\tlearn: 0.3938235\ttotal: 547ms\tremaining: 1.77s\n",
      "236:\tlearn: 0.3936631\ttotal: 549ms\tremaining: 1.77s\n",
      "237:\tlearn: 0.3934072\ttotal: 552ms\tremaining: 1.77s\n",
      "238:\tlearn: 0.3930368\ttotal: 554ms\tremaining: 1.76s\n",
      "239:\tlearn: 0.3927398\ttotal: 556ms\tremaining: 1.76s\n",
      "240:\tlearn: 0.3924626\ttotal: 558ms\tremaining: 1.76s\n",
      "241:\tlearn: 0.3923068\ttotal: 560ms\tremaining: 1.75s\n",
      "242:\tlearn: 0.3920853\ttotal: 562ms\tremaining: 1.75s\n",
      "243:\tlearn: 0.3918512\ttotal: 564ms\tremaining: 1.75s\n",
      "244:\tlearn: 0.3916100\ttotal: 566ms\tremaining: 1.75s\n",
      "245:\tlearn: 0.3913370\ttotal: 568ms\tremaining: 1.74s\n"
     ]
    },
    {
     "name": "stdout",
     "output_type": "stream",
     "text": [
      "246:\tlearn: 0.3908069\ttotal: 571ms\tremaining: 1.74s\n",
      "247:\tlearn: 0.3905457\ttotal: 574ms\tremaining: 1.74s\n",
      "248:\tlearn: 0.3902647\ttotal: 576ms\tremaining: 1.74s\n",
      "249:\tlearn: 0.3899636\ttotal: 578ms\tremaining: 1.73s\n",
      "250:\tlearn: 0.3898169\ttotal: 580ms\tremaining: 1.73s\n",
      "251:\tlearn: 0.3893523\ttotal: 582ms\tremaining: 1.73s\n",
      "252:\tlearn: 0.3890430\ttotal: 584ms\tremaining: 1.72s\n"
     ]
    },
    {
     "name": "stdout",
     "output_type": "stream",
     "text": [
      "253:\tlearn: 0.3887794\ttotal: 586ms\tremaining: 1.72s\n",
      "254:\tlearn: 0.3885606\ttotal: 589ms\tremaining: 1.72s\n",
      "255:\tlearn: 0.3883644\ttotal: 591ms\tremaining: 1.72s\n",
      "256:\tlearn: 0.3881970\ttotal: 593ms\tremaining: 1.71s\n",
      "257:\tlearn: 0.3879152\ttotal: 595ms\tremaining: 1.71s\n",
      "258:\tlearn: 0.3876010\ttotal: 597ms\tremaining: 1.71s\n",
      "259:\tlearn: 0.3874520\ttotal: 599ms\tremaining: 1.7s\n",
      "260:\tlearn: 0.3872342\ttotal: 601ms\tremaining: 1.7s\n",
      "261:\tlearn: 0.3867598\ttotal: 603ms\tremaining: 1.7s\n",
      "262:\tlearn: 0.3863820\ttotal: 605ms\tremaining: 1.7s\n",
      "263:\tlearn: 0.3862047\ttotal: 607ms\tremaining: 1.69s\n",
      "264:\tlearn: 0.3859410\ttotal: 609ms\tremaining: 1.69s\n",
      "265:\tlearn: 0.3857135\ttotal: 611ms\tremaining: 1.69s\n",
      "266:\tlearn: 0.3855938\ttotal: 613ms\tremaining: 1.68s\n",
      "267:\tlearn: 0.3853471\ttotal: 615ms\tremaining: 1.68s\n",
      "268:\tlearn: 0.3851952\ttotal: 617ms\tremaining: 1.68s\n",
      "269:\tlearn: 0.3849256\ttotal: 620ms\tremaining: 1.68s\n",
      "270:\tlearn: 0.3846025\ttotal: 622ms\tremaining: 1.67s\n",
      "271:\tlearn: 0.3843868\ttotal: 625ms\tremaining: 1.67s\n",
      "272:\tlearn: 0.3840865\ttotal: 627ms\tremaining: 1.67s\n",
      "273:\tlearn: 0.3838350\ttotal: 630ms\tremaining: 1.67s\n",
      "274:\tlearn: 0.3836578\ttotal: 632ms\tremaining: 1.67s\n",
      "275:\tlearn: 0.3835198\ttotal: 634ms\tremaining: 1.66s\n",
      "276:\tlearn: 0.3832768\ttotal: 636ms\tremaining: 1.66s\n",
      "277:\tlearn: 0.3829923\ttotal: 639ms\tremaining: 1.66s\n",
      "278:\tlearn: 0.3827817\ttotal: 641ms\tremaining: 1.66s\n",
      "279:\tlearn: 0.3823579\ttotal: 643ms\tremaining: 1.65s\n"
     ]
    },
    {
     "name": "stdout",
     "output_type": "stream",
     "text": [
      "280:\tlearn: 0.3821202\ttotal: 646ms\tremaining: 1.65s\n",
      "281:\tlearn: 0.3819976\ttotal: 648ms\tremaining: 1.65s\n",
      "282:\tlearn: 0.3817715\ttotal: 650ms\tremaining: 1.65s\n",
      "283:\tlearn: 0.3816036\ttotal: 653ms\tremaining: 1.65s\n",
      "284:\tlearn: 0.3813612\ttotal: 655ms\tremaining: 1.64s\n",
      "285:\tlearn: 0.3811862\ttotal: 657ms\tremaining: 1.64s\n",
      "286:\tlearn: 0.3809445\ttotal: 659ms\tremaining: 1.64s\n",
      "287:\tlearn: 0.3808024\ttotal: 661ms\tremaining: 1.63s\n",
      "288:\tlearn: 0.3805699\ttotal: 664ms\tremaining: 1.63s\n",
      "289:\tlearn: 0.3803681\ttotal: 666ms\tremaining: 1.63s\n",
      "290:\tlearn: 0.3800397\ttotal: 668ms\tremaining: 1.63s\n",
      "291:\tlearn: 0.3798668\ttotal: 671ms\tremaining: 1.63s\n",
      "292:\tlearn: 0.3795960\ttotal: 673ms\tremaining: 1.62s\n",
      "293:\tlearn: 0.3792861\ttotal: 676ms\tremaining: 1.62s\n",
      "294:\tlearn: 0.3790653\ttotal: 679ms\tremaining: 1.62s\n",
      "295:\tlearn: 0.3788087\ttotal: 681ms\tremaining: 1.62s\n",
      "296:\tlearn: 0.3786280\ttotal: 683ms\tremaining: 1.61s\n",
      "297:\tlearn: 0.3783651\ttotal: 685ms\tremaining: 1.61s\n",
      "298:\tlearn: 0.3781233\ttotal: 687ms\tremaining: 1.61s\n",
      "299:\tlearn: 0.3779278\ttotal: 689ms\tremaining: 1.61s\n",
      "300:\tlearn: 0.3776758\ttotal: 691ms\tremaining: 1.6s\n",
      "301:\tlearn: 0.3774619\ttotal: 693ms\tremaining: 1.6s\n",
      "302:\tlearn: 0.3772575\ttotal: 695ms\tremaining: 1.6s\n",
      "303:\tlearn: 0.3769926\ttotal: 698ms\tremaining: 1.6s\n",
      "304:\tlearn: 0.3768559\ttotal: 700ms\tremaining: 1.59s\n",
      "305:\tlearn: 0.3766288\ttotal: 702ms\tremaining: 1.59s\n",
      "306:\tlearn: 0.3764462\ttotal: 704ms\tremaining: 1.59s\n",
      "307:\tlearn: 0.3762395\ttotal: 706ms\tremaining: 1.58s\n",
      "308:\tlearn: 0.3760951\ttotal: 707ms\tremaining: 1.58s\n",
      "309:\tlearn: 0.3758151\ttotal: 709ms\tremaining: 1.58s\n",
      "310:\tlearn: 0.3756544\ttotal: 712ms\tremaining: 1.58s\n",
      "311:\tlearn: 0.3754088\ttotal: 714ms\tremaining: 1.57s\n",
      "312:\tlearn: 0.3751533\ttotal: 716ms\tremaining: 1.57s\n",
      "313:\tlearn: 0.3748726\ttotal: 718ms\tremaining: 1.57s\n",
      "314:\tlearn: 0.3746337\ttotal: 720ms\tremaining: 1.56s\n",
      "315:\tlearn: 0.3745378\ttotal: 722ms\tremaining: 1.56s\n",
      "316:\tlearn: 0.3742714\ttotal: 724ms\tremaining: 1.56s\n",
      "317:\tlearn: 0.3740534\ttotal: 726ms\tremaining: 1.56s\n",
      "318:\tlearn: 0.3735985\ttotal: 728ms\tremaining: 1.55s\n",
      "319:\tlearn: 0.3734012\ttotal: 730ms\tremaining: 1.55s\n"
     ]
    },
    {
     "name": "stdout",
     "output_type": "stream",
     "text": [
      "320:\tlearn: 0.3731762\ttotal: 732ms\tremaining: 1.55s\n",
      "321:\tlearn: 0.3729621\ttotal: 734ms\tremaining: 1.54s\n",
      "322:\tlearn: 0.3727401\ttotal: 736ms\tremaining: 1.54s\n",
      "323:\tlearn: 0.3724241\ttotal: 739ms\tremaining: 1.54s\n",
      "324:\tlearn: 0.3722202\ttotal: 740ms\tremaining: 1.54s\n",
      "325:\tlearn: 0.3720278\ttotal: 742ms\tremaining: 1.53s\n",
      "326:\tlearn: 0.3718348\ttotal: 744ms\tremaining: 1.53s\n",
      "327:\tlearn: 0.3716374\ttotal: 746ms\tremaining: 1.53s\n"
     ]
    },
    {
     "name": "stdout",
     "output_type": "stream",
     "text": [
      "328:\tlearn: 0.3714911\ttotal: 750ms\tremaining: 1.53s\n",
      "329:\tlearn: 0.3712934\ttotal: 752ms\tremaining: 1.53s\n",
      "330:\tlearn: 0.3710966\ttotal: 754ms\tremaining: 1.52s\n",
      "331:\tlearn: 0.3707118\ttotal: 756ms\tremaining: 1.52s\n",
      "332:\tlearn: 0.3704848\ttotal: 758ms\tremaining: 1.52s\n",
      "333:\tlearn: 0.3703016\ttotal: 760ms\tremaining: 1.51s\n",
      "334:\tlearn: 0.3700184\ttotal: 762ms\tremaining: 1.51s\n",
      "335:\tlearn: 0.3697874\ttotal: 765ms\tremaining: 1.51s\n",
      "336:\tlearn: 0.3695568\ttotal: 767ms\tremaining: 1.51s\n",
      "337:\tlearn: 0.3693763\ttotal: 769ms\tremaining: 1.51s\n",
      "338:\tlearn: 0.3692345\ttotal: 771ms\tremaining: 1.5s\n",
      "339:\tlearn: 0.3690213\ttotal: 773ms\tremaining: 1.5s\n",
      "340:\tlearn: 0.3687944\ttotal: 775ms\tremaining: 1.5s\n",
      "341:\tlearn: 0.3685926\ttotal: 777ms\tremaining: 1.5s\n",
      "342:\tlearn: 0.3684553\ttotal: 779ms\tremaining: 1.49s\n",
      "343:\tlearn: 0.3682939\ttotal: 781ms\tremaining: 1.49s\n",
      "344:\tlearn: 0.3681400\ttotal: 783ms\tremaining: 1.49s\n",
      "345:\tlearn: 0.3679212\ttotal: 785ms\tremaining: 1.48s\n",
      "346:\tlearn: 0.3677696\ttotal: 787ms\tremaining: 1.48s\n",
      "347:\tlearn: 0.3675186\ttotal: 789ms\tremaining: 1.48s\n",
      "348:\tlearn: 0.3673827\ttotal: 791ms\tremaining: 1.48s\n",
      "349:\tlearn: 0.3672221\ttotal: 793ms\tremaining: 1.47s\n",
      "350:\tlearn: 0.3670747\ttotal: 795ms\tremaining: 1.47s\n",
      "351:\tlearn: 0.3668917\ttotal: 797ms\tremaining: 1.47s\n",
      "352:\tlearn: 0.3667129\ttotal: 799ms\tremaining: 1.47s\n",
      "353:\tlearn: 0.3664591\ttotal: 801ms\tremaining: 1.46s\n",
      "354:\tlearn: 0.3662317\ttotal: 804ms\tremaining: 1.46s\n",
      "355:\tlearn: 0.3659947\ttotal: 806ms\tremaining: 1.46s\n",
      "356:\tlearn: 0.3657716\ttotal: 808ms\tremaining: 1.45s\n"
     ]
    },
    {
     "name": "stdout",
     "output_type": "stream",
     "text": [
      "357:\tlearn: 0.3656302\ttotal: 810ms\tremaining: 1.45s\n",
      "358:\tlearn: 0.3654311\ttotal: 812ms\tremaining: 1.45s\n",
      "359:\tlearn: 0.3652488\ttotal: 814ms\tremaining: 1.45s\n",
      "360:\tlearn: 0.3648996\ttotal: 816ms\tremaining: 1.44s\n",
      "361:\tlearn: 0.3647462\ttotal: 818ms\tremaining: 1.44s\n",
      "362:\tlearn: 0.3645448\ttotal: 820ms\tremaining: 1.44s\n",
      "363:\tlearn: 0.3643365\ttotal: 822ms\tremaining: 1.44s\n",
      "364:\tlearn: 0.3642286\ttotal: 824ms\tremaining: 1.43s\n",
      "365:\tlearn: 0.3640420\ttotal: 826ms\tremaining: 1.43s\n",
      "366:\tlearn: 0.3638854\ttotal: 828ms\tremaining: 1.43s\n",
      "367:\tlearn: 0.3637491\ttotal: 830ms\tremaining: 1.43s\n",
      "368:\tlearn: 0.3635959\ttotal: 832ms\tremaining: 1.42s\n",
      "369:\tlearn: 0.3634635\ttotal: 834ms\tremaining: 1.42s\n",
      "370:\tlearn: 0.3632581\ttotal: 836ms\tremaining: 1.42s\n",
      "371:\tlearn: 0.3631544\ttotal: 838ms\tremaining: 1.42s\n",
      "372:\tlearn: 0.3629862\ttotal: 840ms\tremaining: 1.41s\n",
      "373:\tlearn: 0.3628310\ttotal: 842ms\tremaining: 1.41s\n",
      "374:\tlearn: 0.3626885\ttotal: 844ms\tremaining: 1.41s\n",
      "375:\tlearn: 0.3624924\ttotal: 846ms\tremaining: 1.4s\n",
      "376:\tlearn: 0.3623973\ttotal: 848ms\tremaining: 1.4s\n",
      "377:\tlearn: 0.3621515\ttotal: 850ms\tremaining: 1.4s\n",
      "378:\tlearn: 0.3619584\ttotal: 852ms\tremaining: 1.4s\n",
      "379:\tlearn: 0.3618256\ttotal: 854ms\tremaining: 1.39s\n",
      "380:\tlearn: 0.3615843\ttotal: 856ms\tremaining: 1.39s\n",
      "381:\tlearn: 0.3612433\ttotal: 858ms\tremaining: 1.39s\n",
      "382:\tlearn: 0.3611125\ttotal: 860ms\tremaining: 1.39s\n",
      "383:\tlearn: 0.3609135\ttotal: 862ms\tremaining: 1.38s\n",
      "384:\tlearn: 0.3607822\ttotal: 864ms\tremaining: 1.38s\n",
      "385:\tlearn: 0.3605630\ttotal: 866ms\tremaining: 1.38s\n",
      "386:\tlearn: 0.3604169\ttotal: 868ms\tremaining: 1.37s\n",
      "387:\tlearn: 0.3603008\ttotal: 870ms\tremaining: 1.37s\n",
      "388:\tlearn: 0.3601022\ttotal: 872ms\tremaining: 1.37s\n",
      "389:\tlearn: 0.3599611\ttotal: 874ms\tremaining: 1.37s\n",
      "390:\tlearn: 0.3597976\ttotal: 876ms\tremaining: 1.36s\n",
      "391:\tlearn: 0.3597225\ttotal: 878ms\tremaining: 1.36s\n",
      "392:\tlearn: 0.3595453\ttotal: 880ms\tremaining: 1.36s\n",
      "393:\tlearn: 0.3592875\ttotal: 882ms\tremaining: 1.36s\n",
      "394:\tlearn: 0.3592001\ttotal: 884ms\tremaining: 1.35s\n",
      "395:\tlearn: 0.3590359\ttotal: 886ms\tremaining: 1.35s\n",
      "396:\tlearn: 0.3588475\ttotal: 888ms\tremaining: 1.35s\n",
      "397:\tlearn: 0.3586391\ttotal: 890ms\tremaining: 1.35s\n",
      "398:\tlearn: 0.3584790\ttotal: 892ms\tremaining: 1.34s\n",
      "399:\tlearn: 0.3583406\ttotal: 895ms\tremaining: 1.34s\n"
     ]
    },
    {
     "name": "stdout",
     "output_type": "stream",
     "text": [
      "400:\tlearn: 0.3580583\ttotal: 897ms\tremaining: 1.34s\n",
      "401:\tlearn: 0.3579364\ttotal: 899ms\tremaining: 1.34s\n",
      "402:\tlearn: 0.3577820\ttotal: 901ms\tremaining: 1.33s\n",
      "403:\tlearn: 0.3575684\ttotal: 903ms\tremaining: 1.33s\n",
      "404:\tlearn: 0.3574245\ttotal: 905ms\tremaining: 1.33s\n",
      "405:\tlearn: 0.3572668\ttotal: 908ms\tremaining: 1.33s\n",
      "406:\tlearn: 0.3570503\ttotal: 910ms\tremaining: 1.32s\n",
      "407:\tlearn: 0.3569056\ttotal: 912ms\tremaining: 1.32s\n"
     ]
    },
    {
     "name": "stdout",
     "output_type": "stream",
     "text": [
      "408:\tlearn: 0.3567381\ttotal: 914ms\tremaining: 1.32s\n",
      "409:\tlearn: 0.3566201\ttotal: 917ms\tremaining: 1.32s\n",
      "410:\tlearn: 0.3564797\ttotal: 919ms\tremaining: 1.32s\n",
      "411:\tlearn: 0.3563945\ttotal: 921ms\tremaining: 1.31s\n",
      "412:\tlearn: 0.3562309\ttotal: 923ms\tremaining: 1.31s\n",
      "413:\tlearn: 0.3560864\ttotal: 925ms\tremaining: 1.31s\n",
      "414:\tlearn: 0.3558960\ttotal: 927ms\tremaining: 1.31s\n",
      "415:\tlearn: 0.3555912\ttotal: 930ms\tremaining: 1.3s\n",
      "416:\tlearn: 0.3554542\ttotal: 932ms\tremaining: 1.3s\n",
      "417:\tlearn: 0.3553144\ttotal: 934ms\tremaining: 1.3s\n",
      "418:\tlearn: 0.3551822\ttotal: 936ms\tremaining: 1.3s\n",
      "419:\tlearn: 0.3550374\ttotal: 937ms\tremaining: 1.29s\n",
      "420:\tlearn: 0.3548579\ttotal: 939ms\tremaining: 1.29s\n",
      "421:\tlearn: 0.3547117\ttotal: 942ms\tremaining: 1.29s\n",
      "422:\tlearn: 0.3545733\ttotal: 943ms\tremaining: 1.29s\n",
      "423:\tlearn: 0.3544860\ttotal: 945ms\tremaining: 1.28s\n",
      "424:\tlearn: 0.3541721\ttotal: 948ms\tremaining: 1.28s\n",
      "425:\tlearn: 0.3540463\ttotal: 950ms\tremaining: 1.28s\n",
      "426:\tlearn: 0.3538796\ttotal: 952ms\tremaining: 1.28s\n",
      "427:\tlearn: 0.3537024\ttotal: 954ms\tremaining: 1.27s\n",
      "428:\tlearn: 0.3534973\ttotal: 956ms\tremaining: 1.27s\n",
      "429:\tlearn: 0.3533682\ttotal: 958ms\tremaining: 1.27s\n",
      "430:\tlearn: 0.3532110\ttotal: 960ms\tremaining: 1.27s\n",
      "431:\tlearn: 0.3531253\ttotal: 962ms\tremaining: 1.26s\n",
      "432:\tlearn: 0.3529382\ttotal: 964ms\tremaining: 1.26s\n",
      "433:\tlearn: 0.3528612\ttotal: 966ms\tremaining: 1.26s\n",
      "434:\tlearn: 0.3527169\ttotal: 968ms\tremaining: 1.26s\n",
      "435:\tlearn: 0.3525247\ttotal: 970ms\tremaining: 1.25s\n",
      "436:\tlearn: 0.3523618\ttotal: 972ms\tremaining: 1.25s\n"
     ]
    },
    {
     "name": "stdout",
     "output_type": "stream",
     "text": [
      "437:\tlearn: 0.3522338\ttotal: 975ms\tremaining: 1.25s\n",
      "438:\tlearn: 0.3521093\ttotal: 977ms\tremaining: 1.25s\n",
      "439:\tlearn: 0.3518845\ttotal: 979ms\tremaining: 1.25s\n",
      "440:\tlearn: 0.3517375\ttotal: 981ms\tremaining: 1.24s\n",
      "441:\tlearn: 0.3514446\ttotal: 983ms\tremaining: 1.24s\n",
      "442:\tlearn: 0.3512863\ttotal: 985ms\tremaining: 1.24s\n",
      "443:\tlearn: 0.3512233\ttotal: 987ms\tremaining: 1.24s\n",
      "444:\tlearn: 0.3511150\ttotal: 989ms\tremaining: 1.23s\n",
      "445:\tlearn: 0.3509300\ttotal: 991ms\tremaining: 1.23s\n",
      "446:\tlearn: 0.3508145\ttotal: 993ms\tremaining: 1.23s\n",
      "447:\tlearn: 0.3506825\ttotal: 995ms\tremaining: 1.23s\n",
      "448:\tlearn: 0.3505432\ttotal: 997ms\tremaining: 1.22s\n",
      "449:\tlearn: 0.3504308\ttotal: 999ms\tremaining: 1.22s\n",
      "450:\tlearn: 0.3502707\ttotal: 1s\tremaining: 1.22s\n",
      "451:\tlearn: 0.3501139\ttotal: 1s\tremaining: 1.22s\n",
      "452:\tlearn: 0.3499605\ttotal: 1s\tremaining: 1.21s\n",
      "453:\tlearn: 0.3497680\ttotal: 1.01s\tremaining: 1.21s\n",
      "454:\tlearn: 0.3495909\ttotal: 1.01s\tremaining: 1.21s\n",
      "455:\tlearn: 0.3494441\ttotal: 1.01s\tremaining: 1.21s\n",
      "456:\tlearn: 0.3492581\ttotal: 1.01s\tremaining: 1.2s\n",
      "457:\tlearn: 0.3490408\ttotal: 1.01s\tremaining: 1.2s\n",
      "458:\tlearn: 0.3489585\ttotal: 1.02s\tremaining: 1.2s\n",
      "459:\tlearn: 0.3487484\ttotal: 1.02s\tremaining: 1.2s\n",
      "460:\tlearn: 0.3485857\ttotal: 1.02s\tremaining: 1.19s\n",
      "461:\tlearn: 0.3484710\ttotal: 1.02s\tremaining: 1.19s\n",
      "462:\tlearn: 0.3483164\ttotal: 1.02s\tremaining: 1.19s\n",
      "463:\tlearn: 0.3481984\ttotal: 1.03s\tremaining: 1.19s\n",
      "464:\tlearn: 0.3480458\ttotal: 1.03s\tremaining: 1.18s\n",
      "465:\tlearn: 0.3479417\ttotal: 1.03s\tremaining: 1.18s\n",
      "466:\tlearn: 0.3478084\ttotal: 1.03s\tremaining: 1.18s\n",
      "467:\tlearn: 0.3476683\ttotal: 1.03s\tremaining: 1.18s\n",
      "468:\tlearn: 0.3475148\ttotal: 1.04s\tremaining: 1.17s\n",
      "469:\tlearn: 0.3473881\ttotal: 1.04s\tremaining: 1.17s\n",
      "470:\tlearn: 0.3472641\ttotal: 1.04s\tremaining: 1.17s\n",
      "471:\tlearn: 0.3471032\ttotal: 1.04s\tremaining: 1.17s\n",
      "472:\tlearn: 0.3469829\ttotal: 1.04s\tremaining: 1.17s\n",
      "473:\tlearn: 0.3468280\ttotal: 1.05s\tremaining: 1.16s\n",
      "474:\tlearn: 0.3467039\ttotal: 1.05s\tremaining: 1.16s\n",
      "475:\tlearn: 0.3465602\ttotal: 1.05s\tremaining: 1.16s\n",
      "476:\tlearn: 0.3464256\ttotal: 1.05s\tremaining: 1.16s\n",
      "477:\tlearn: 0.3462493\ttotal: 1.06s\tremaining: 1.15s\n",
      "478:\tlearn: 0.3460976\ttotal: 1.06s\tremaining: 1.15s\n"
     ]
    },
    {
     "name": "stdout",
     "output_type": "stream",
     "text": [
      "479:\tlearn: 0.3459388\ttotal: 1.06s\tremaining: 1.15s\n",
      "480:\tlearn: 0.3457660\ttotal: 1.06s\tremaining: 1.15s\n",
      "481:\tlearn: 0.3456409\ttotal: 1.06s\tremaining: 1.14s\n",
      "482:\tlearn: 0.3454911\ttotal: 1.07s\tremaining: 1.14s\n",
      "483:\tlearn: 0.3453688\ttotal: 1.07s\tremaining: 1.14s\n",
      "484:\tlearn: 0.3452651\ttotal: 1.07s\tremaining: 1.14s\n",
      "485:\tlearn: 0.3451045\ttotal: 1.07s\tremaining: 1.13s\n",
      "486:\tlearn: 0.3449498\ttotal: 1.07s\tremaining: 1.13s\n"
     ]
    },
    {
     "name": "stdout",
     "output_type": "stream",
     "text": [
      "487:\tlearn: 0.3448408\ttotal: 1.08s\tremaining: 1.13s\n",
      "488:\tlearn: 0.3446757\ttotal: 1.08s\tremaining: 1.13s\n",
      "489:\tlearn: 0.3445033\ttotal: 1.08s\tremaining: 1.13s\n",
      "490:\tlearn: 0.3443948\ttotal: 1.08s\tremaining: 1.12s\n",
      "491:\tlearn: 0.3442033\ttotal: 1.08s\tremaining: 1.12s\n",
      "492:\tlearn: 0.3440796\ttotal: 1.09s\tremaining: 1.12s\n",
      "493:\tlearn: 0.3439687\ttotal: 1.09s\tremaining: 1.12s\n",
      "494:\tlearn: 0.3438359\ttotal: 1.09s\tremaining: 1.11s\n",
      "495:\tlearn: 0.3436714\ttotal: 1.09s\tremaining: 1.11s\n",
      "496:\tlearn: 0.3435852\ttotal: 1.09s\tremaining: 1.11s\n",
      "497:\tlearn: 0.3434097\ttotal: 1.1s\tremaining: 1.11s\n",
      "498:\tlearn: 0.3432563\ttotal: 1.1s\tremaining: 1.1s\n",
      "499:\tlearn: 0.3431378\ttotal: 1.1s\tremaining: 1.1s\n",
      "500:\tlearn: 0.3429521\ttotal: 1.1s\tremaining: 1.1s\n",
      "501:\tlearn: 0.3428203\ttotal: 1.1s\tremaining: 1.1s\n",
      "502:\tlearn: 0.3426848\ttotal: 1.11s\tremaining: 1.09s\n",
      "503:\tlearn: 0.3425986\ttotal: 1.11s\tremaining: 1.09s\n",
      "504:\tlearn: 0.3424905\ttotal: 1.11s\tremaining: 1.09s\n",
      "505:\tlearn: 0.3423276\ttotal: 1.11s\tremaining: 1.09s\n",
      "506:\tlearn: 0.3421633\ttotal: 1.11s\tremaining: 1.08s\n",
      "507:\tlearn: 0.3420451\ttotal: 1.12s\tremaining: 1.08s\n",
      "508:\tlearn: 0.3419348\ttotal: 1.12s\tremaining: 1.08s\n",
      "509:\tlearn: 0.3418393\ttotal: 1.12s\tremaining: 1.08s\n",
      "510:\tlearn: 0.3417194\ttotal: 1.12s\tremaining: 1.07s\n",
      "511:\tlearn: 0.3415916\ttotal: 1.13s\tremaining: 1.07s\n",
      "512:\tlearn: 0.3414774\ttotal: 1.13s\tremaining: 1.07s\n",
      "513:\tlearn: 0.3413879\ttotal: 1.13s\tremaining: 1.07s\n",
      "514:\tlearn: 0.3413164\ttotal: 1.13s\tremaining: 1.07s\n",
      "515:\tlearn: 0.3411870\ttotal: 1.13s\tremaining: 1.06s\n"
     ]
    },
    {
     "name": "stdout",
     "output_type": "stream",
     "text": [
      "516:\tlearn: 0.3410631\ttotal: 1.14s\tremaining: 1.06s\n",
      "517:\tlearn: 0.3409910\ttotal: 1.14s\tremaining: 1.06s\n",
      "518:\tlearn: 0.3408837\ttotal: 1.14s\tremaining: 1.06s\n",
      "519:\tlearn: 0.3407378\ttotal: 1.14s\tremaining: 1.05s\n",
      "520:\tlearn: 0.3406193\ttotal: 1.14s\tremaining: 1.05s\n",
      "521:\tlearn: 0.3405150\ttotal: 1.15s\tremaining: 1.05s\n",
      "522:\tlearn: 0.3403928\ttotal: 1.15s\tremaining: 1.05s\n",
      "523:\tlearn: 0.3403047\ttotal: 1.15s\tremaining: 1.04s\n",
      "524:\tlearn: 0.3401742\ttotal: 1.15s\tremaining: 1.04s\n",
      "525:\tlearn: 0.3399932\ttotal: 1.15s\tremaining: 1.04s\n",
      "526:\tlearn: 0.3398472\ttotal: 1.16s\tremaining: 1.04s\n",
      "527:\tlearn: 0.3396230\ttotal: 1.16s\tremaining: 1.04s\n",
      "528:\tlearn: 0.3395072\ttotal: 1.16s\tremaining: 1.03s\n",
      "529:\tlearn: 0.3393701\ttotal: 1.16s\tremaining: 1.03s\n",
      "530:\tlearn: 0.3392667\ttotal: 1.17s\tremaining: 1.03s\n",
      "531:\tlearn: 0.3391398\ttotal: 1.17s\tremaining: 1.03s\n",
      "532:\tlearn: 0.3390110\ttotal: 1.17s\tremaining: 1.02s\n",
      "533:\tlearn: 0.3388919\ttotal: 1.17s\tremaining: 1.02s\n",
      "534:\tlearn: 0.3387351\ttotal: 1.17s\tremaining: 1.02s\n",
      "535:\tlearn: 0.3385960\ttotal: 1.18s\tremaining: 1.02s\n",
      "536:\tlearn: 0.3384517\ttotal: 1.18s\tremaining: 1.01s\n",
      "537:\tlearn: 0.3383001\ttotal: 1.18s\tremaining: 1.01s\n",
      "538:\tlearn: 0.3382485\ttotal: 1.18s\tremaining: 1.01s\n",
      "539:\tlearn: 0.3381237\ttotal: 1.18s\tremaining: 1.01s\n",
      "540:\tlearn: 0.3380292\ttotal: 1.19s\tremaining: 1s\n",
      "541:\tlearn: 0.3379300\ttotal: 1.19s\tremaining: 1s\n",
      "542:\tlearn: 0.3378605\ttotal: 1.19s\tremaining: 1s\n",
      "543:\tlearn: 0.3377335\ttotal: 1.19s\tremaining: 999ms\n",
      "544:\tlearn: 0.3374625\ttotal: 1.19s\tremaining: 996ms\n",
      "545:\tlearn: 0.3373410\ttotal: 1.2s\tremaining: 994ms\n",
      "546:\tlearn: 0.3372835\ttotal: 1.2s\tremaining: 992ms\n",
      "547:\tlearn: 0.3371023\ttotal: 1.2s\tremaining: 990ms\n",
      "548:\tlearn: 0.3369867\ttotal: 1.2s\tremaining: 987ms\n",
      "549:\tlearn: 0.3369071\ttotal: 1.2s\tremaining: 985ms\n",
      "550:\tlearn: 0.3367380\ttotal: 1.21s\tremaining: 983ms\n",
      "551:\tlearn: 0.3366234\ttotal: 1.21s\tremaining: 980ms\n",
      "552:\tlearn: 0.3365172\ttotal: 1.21s\tremaining: 978ms\n",
      "553:\tlearn: 0.3363892\ttotal: 1.21s\tremaining: 976ms\n",
      "554:\tlearn: 0.3362651\ttotal: 1.21s\tremaining: 974ms\n",
      "555:\tlearn: 0.3361729\ttotal: 1.22s\tremaining: 971ms\n",
      "556:\tlearn: 0.3360275\ttotal: 1.22s\tremaining: 969ms\n",
      "557:\tlearn: 0.3359810\ttotal: 1.22s\tremaining: 967ms\n"
     ]
    },
    {
     "name": "stdout",
     "output_type": "stream",
     "text": [
      "558:\tlearn: 0.3358488\ttotal: 1.22s\tremaining: 965ms\n",
      "559:\tlearn: 0.3357032\ttotal: 1.22s\tremaining: 962ms\n",
      "560:\tlearn: 0.3356185\ttotal: 1.23s\tremaining: 960ms\n",
      "561:\tlearn: 0.3355354\ttotal: 1.23s\tremaining: 958ms\n",
      "562:\tlearn: 0.3354650\ttotal: 1.23s\tremaining: 955ms\n",
      "563:\tlearn: 0.3353510\ttotal: 1.23s\tremaining: 953ms\n",
      "564:\tlearn: 0.3351346\ttotal: 1.23s\tremaining: 951ms\n"
     ]
    },
    {
     "name": "stdout",
     "output_type": "stream",
     "text": [
      "565:\tlearn: 0.3349887\ttotal: 1.24s\tremaining: 948ms\n",
      "566:\tlearn: 0.3348541\ttotal: 1.24s\tremaining: 946ms\n",
      "567:\tlearn: 0.3347685\ttotal: 1.24s\tremaining: 944ms\n",
      "568:\tlearn: 0.3346697\ttotal: 1.24s\tremaining: 942ms\n",
      "569:\tlearn: 0.3346114\ttotal: 1.25s\tremaining: 940ms\n",
      "570:\tlearn: 0.3344608\ttotal: 1.25s\tremaining: 937ms\n",
      "571:\tlearn: 0.3343467\ttotal: 1.25s\tremaining: 935ms\n",
      "572:\tlearn: 0.3342590\ttotal: 1.25s\tremaining: 933ms\n",
      "573:\tlearn: 0.3341517\ttotal: 1.25s\tremaining: 931ms\n",
      "574:\tlearn: 0.3340067\ttotal: 1.25s\tremaining: 928ms\n",
      "575:\tlearn: 0.3338837\ttotal: 1.26s\tremaining: 926ms\n",
      "576:\tlearn: 0.3338033\ttotal: 1.26s\tremaining: 924ms\n",
      "577:\tlearn: 0.3336873\ttotal: 1.26s\tremaining: 922ms\n",
      "578:\tlearn: 0.3335443\ttotal: 1.26s\tremaining: 919ms\n",
      "579:\tlearn: 0.3334419\ttotal: 1.27s\tremaining: 917ms\n",
      "580:\tlearn: 0.3334010\ttotal: 1.27s\tremaining: 915ms\n",
      "581:\tlearn: 0.3332886\ttotal: 1.27s\tremaining: 913ms\n",
      "582:\tlearn: 0.3331626\ttotal: 1.27s\tremaining: 910ms\n",
      "583:\tlearn: 0.3330874\ttotal: 1.27s\tremaining: 908ms\n",
      "584:\tlearn: 0.3329779\ttotal: 1.28s\tremaining: 906ms\n",
      "585:\tlearn: 0.3328235\ttotal: 1.28s\tremaining: 904ms\n",
      "586:\tlearn: 0.3327067\ttotal: 1.28s\tremaining: 901ms\n",
      "587:\tlearn: 0.3326455\ttotal: 1.28s\tremaining: 899ms\n",
      "588:\tlearn: 0.3325663\ttotal: 1.28s\tremaining: 897ms\n",
      "589:\tlearn: 0.3324654\ttotal: 1.29s\tremaining: 894ms\n",
      "590:\tlearn: 0.3323548\ttotal: 1.29s\tremaining: 892ms\n",
      "591:\tlearn: 0.3320895\ttotal: 1.29s\tremaining: 890ms\n",
      "592:\tlearn: 0.3319887\ttotal: 1.29s\tremaining: 888ms\n",
      "593:\tlearn: 0.3318685\ttotal: 1.29s\tremaining: 885ms\n"
     ]
    },
    {
     "name": "stdout",
     "output_type": "stream",
     "text": [
      "594:\tlearn: 0.3317326\ttotal: 1.3s\tremaining: 883ms\n",
      "595:\tlearn: 0.3316545\ttotal: 1.3s\tremaining: 881ms\n",
      "596:\tlearn: 0.3315099\ttotal: 1.3s\tremaining: 879ms\n",
      "597:\tlearn: 0.3313891\ttotal: 1.3s\tremaining: 876ms\n",
      "598:\tlearn: 0.3312906\ttotal: 1.3s\tremaining: 874ms\n",
      "599:\tlearn: 0.3311780\ttotal: 1.31s\tremaining: 872ms\n",
      "600:\tlearn: 0.3310573\ttotal: 1.31s\tremaining: 870ms\n",
      "601:\tlearn: 0.3309199\ttotal: 1.31s\tremaining: 867ms\n",
      "602:\tlearn: 0.3306817\ttotal: 1.31s\tremaining: 865ms\n",
      "603:\tlearn: 0.3306109\ttotal: 1.32s\tremaining: 863ms\n",
      "604:\tlearn: 0.3305117\ttotal: 1.32s\tremaining: 861ms\n",
      "605:\tlearn: 0.3303606\ttotal: 1.32s\tremaining: 859ms\n",
      "606:\tlearn: 0.3302560\ttotal: 1.32s\tremaining: 856ms\n",
      "607:\tlearn: 0.3301247\ttotal: 1.32s\tremaining: 854ms\n",
      "608:\tlearn: 0.3300480\ttotal: 1.33s\tremaining: 852ms\n",
      "609:\tlearn: 0.3299537\ttotal: 1.33s\tremaining: 850ms\n",
      "610:\tlearn: 0.3298147\ttotal: 1.33s\tremaining: 847ms\n",
      "611:\tlearn: 0.3297101\ttotal: 1.33s\tremaining: 845ms\n",
      "612:\tlearn: 0.3295816\ttotal: 1.33s\tremaining: 843ms\n",
      "613:\tlearn: 0.3294779\ttotal: 1.34s\tremaining: 840ms\n",
      "614:\tlearn: 0.3293117\ttotal: 1.34s\tremaining: 838ms\n",
      "615:\tlearn: 0.3292150\ttotal: 1.34s\tremaining: 836ms\n",
      "616:\tlearn: 0.3291307\ttotal: 1.34s\tremaining: 834ms\n",
      "617:\tlearn: 0.3290140\ttotal: 1.34s\tremaining: 831ms\n",
      "618:\tlearn: 0.3289434\ttotal: 1.35s\tremaining: 829ms\n",
      "619:\tlearn: 0.3288517\ttotal: 1.35s\tremaining: 827ms\n",
      "620:\tlearn: 0.3287436\ttotal: 1.35s\tremaining: 825ms\n",
      "621:\tlearn: 0.3286527\ttotal: 1.35s\tremaining: 823ms\n",
      "622:\tlearn: 0.3285151\ttotal: 1.35s\tremaining: 820ms\n",
      "623:\tlearn: 0.3283720\ttotal: 1.36s\tremaining: 818ms\n",
      "624:\tlearn: 0.3283024\ttotal: 1.36s\tremaining: 816ms\n",
      "625:\tlearn: 0.3281807\ttotal: 1.36s\tremaining: 813ms\n",
      "626:\tlearn: 0.3280768\ttotal: 1.36s\tremaining: 811ms\n",
      "627:\tlearn: 0.3280051\ttotal: 1.36s\tremaining: 809ms\n",
      "628:\tlearn: 0.3279314\ttotal: 1.37s\tremaining: 807ms\n",
      "629:\tlearn: 0.3278229\ttotal: 1.37s\tremaining: 805ms\n",
      "630:\tlearn: 0.3276444\ttotal: 1.37s\tremaining: 802ms\n",
      "631:\tlearn: 0.3275418\ttotal: 1.37s\tremaining: 800ms\n",
      "632:\tlearn: 0.3274257\ttotal: 1.38s\tremaining: 798ms\n",
      "633:\tlearn: 0.3273409\ttotal: 1.38s\tremaining: 796ms\n",
      "634:\tlearn: 0.3272084\ttotal: 1.38s\tremaining: 793ms\n",
      "635:\tlearn: 0.3271150\ttotal: 1.38s\tremaining: 791ms\n"
     ]
    },
    {
     "name": "stdout",
     "output_type": "stream",
     "text": [
      "636:\tlearn: 0.3270052\ttotal: 1.38s\tremaining: 789ms\n",
      "637:\tlearn: 0.3268407\ttotal: 1.39s\tremaining: 787ms\n",
      "638:\tlearn: 0.3266985\ttotal: 1.39s\tremaining: 785ms\n",
      "639:\tlearn: 0.3266159\ttotal: 1.39s\tremaining: 782ms\n",
      "640:\tlearn: 0.3265104\ttotal: 1.39s\tremaining: 780ms\n",
      "641:\tlearn: 0.3264332\ttotal: 1.4s\tremaining: 778ms\n"
     ]
    },
    {
     "name": "stdout",
     "output_type": "stream",
     "text": [
      "642:\tlearn: 0.3263338\ttotal: 1.4s\tremaining: 776ms\n",
      "643:\tlearn: 0.3261991\ttotal: 1.4s\tremaining: 774ms\n",
      "644:\tlearn: 0.3261015\ttotal: 1.4s\tremaining: 772ms\n",
      "645:\tlearn: 0.3260425\ttotal: 1.4s\tremaining: 769ms\n",
      "646:\tlearn: 0.3259364\ttotal: 1.41s\tremaining: 767ms\n",
      "647:\tlearn: 0.3258681\ttotal: 1.41s\tremaining: 765ms\n",
      "648:\tlearn: 0.3257531\ttotal: 1.41s\tremaining: 763ms\n",
      "649:\tlearn: 0.3255910\ttotal: 1.41s\tremaining: 761ms\n",
      "650:\tlearn: 0.3254780\ttotal: 1.41s\tremaining: 758ms\n",
      "651:\tlearn: 0.3253796\ttotal: 1.42s\tremaining: 756ms\n",
      "652:\tlearn: 0.3252964\ttotal: 1.42s\tremaining: 754ms\n",
      "653:\tlearn: 0.3251558\ttotal: 1.42s\tremaining: 752ms\n",
      "654:\tlearn: 0.3250317\ttotal: 1.42s\tremaining: 750ms\n",
      "655:\tlearn: 0.3249382\ttotal: 1.43s\tremaining: 748ms\n",
      "656:\tlearn: 0.3248062\ttotal: 1.43s\tremaining: 745ms\n",
      "657:\tlearn: 0.3246900\ttotal: 1.43s\tremaining: 743ms\n",
      "658:\tlearn: 0.3246045\ttotal: 1.43s\tremaining: 741ms\n",
      "659:\tlearn: 0.3245120\ttotal: 1.43s\tremaining: 739ms\n",
      "660:\tlearn: 0.3243944\ttotal: 1.44s\tremaining: 737ms\n",
      "661:\tlearn: 0.3243035\ttotal: 1.44s\tremaining: 734ms\n",
      "662:\tlearn: 0.3242067\ttotal: 1.44s\tremaining: 732ms\n",
      "663:\tlearn: 0.3241458\ttotal: 1.44s\tremaining: 730ms\n",
      "664:\tlearn: 0.3240335\ttotal: 1.44s\tremaining: 728ms\n",
      "665:\tlearn: 0.3239544\ttotal: 1.45s\tremaining: 725ms\n",
      "666:\tlearn: 0.3238361\ttotal: 1.45s\tremaining: 723ms\n",
      "667:\tlearn: 0.3237651\ttotal: 1.45s\tremaining: 721ms\n",
      "668:\tlearn: 0.3236893\ttotal: 1.45s\tremaining: 719ms\n",
      "669:\tlearn: 0.3235882\ttotal: 1.45s\tremaining: 716ms\n",
      "670:\tlearn: 0.3234922\ttotal: 1.46s\tremaining: 714ms\n"
     ]
    },
    {
     "name": "stdout",
     "output_type": "stream",
     "text": [
      "671:\tlearn: 0.3233460\ttotal: 1.46s\tremaining: 712ms\n",
      "672:\tlearn: 0.3232588\ttotal: 1.46s\tremaining: 710ms\n",
      "673:\tlearn: 0.3231577\ttotal: 1.46s\tremaining: 708ms\n",
      "674:\tlearn: 0.3230492\ttotal: 1.46s\tremaining: 705ms\n",
      "675:\tlearn: 0.3229614\ttotal: 1.47s\tremaining: 703ms\n",
      "676:\tlearn: 0.3229095\ttotal: 1.47s\tremaining: 701ms\n",
      "677:\tlearn: 0.3228380\ttotal: 1.47s\tremaining: 699ms\n",
      "678:\tlearn: 0.3227463\ttotal: 1.47s\tremaining: 696ms\n",
      "679:\tlearn: 0.3226688\ttotal: 1.48s\tremaining: 694ms\n",
      "680:\tlearn: 0.3225818\ttotal: 1.48s\tremaining: 692ms\n",
      "681:\tlearn: 0.3224904\ttotal: 1.48s\tremaining: 690ms\n",
      "682:\tlearn: 0.3223694\ttotal: 1.48s\tremaining: 688ms\n",
      "683:\tlearn: 0.3222696\ttotal: 1.48s\tremaining: 686ms\n",
      "684:\tlearn: 0.3221903\ttotal: 1.49s\tremaining: 684ms\n",
      "685:\tlearn: 0.3220920\ttotal: 1.49s\tremaining: 682ms\n",
      "686:\tlearn: 0.3219166\ttotal: 1.49s\tremaining: 680ms\n",
      "687:\tlearn: 0.3218180\ttotal: 1.49s\tremaining: 678ms\n",
      "688:\tlearn: 0.3216912\ttotal: 1.5s\tremaining: 676ms\n",
      "689:\tlearn: 0.3215695\ttotal: 1.5s\tremaining: 673ms\n",
      "690:\tlearn: 0.3214612\ttotal: 1.5s\tremaining: 671ms\n",
      "691:\tlearn: 0.3213647\ttotal: 1.5s\tremaining: 669ms\n",
      "692:\tlearn: 0.3212543\ttotal: 1.5s\tremaining: 667ms\n",
      "693:\tlearn: 0.3211859\ttotal: 1.51s\tremaining: 665ms\n",
      "694:\tlearn: 0.3210544\ttotal: 1.51s\tremaining: 662ms\n",
      "695:\tlearn: 0.3209379\ttotal: 1.51s\tremaining: 660ms\n",
      "696:\tlearn: 0.3208687\ttotal: 1.51s\tremaining: 658ms\n",
      "697:\tlearn: 0.3207017\ttotal: 1.51s\tremaining: 656ms\n",
      "698:\tlearn: 0.3206103\ttotal: 1.52s\tremaining: 654ms\n",
      "699:\tlearn: 0.3204942\ttotal: 1.52s\tremaining: 651ms\n",
      "700:\tlearn: 0.3204063\ttotal: 1.52s\tremaining: 649ms\n",
      "701:\tlearn: 0.3203075\ttotal: 1.52s\tremaining: 647ms\n",
      "702:\tlearn: 0.3202231\ttotal: 1.52s\tremaining: 645ms\n",
      "703:\tlearn: 0.3201351\ttotal: 1.53s\tremaining: 642ms\n",
      "704:\tlearn: 0.3200461\ttotal: 1.53s\tremaining: 640ms\n",
      "705:\tlearn: 0.3199099\ttotal: 1.53s\tremaining: 638ms\n",
      "706:\tlearn: 0.3197764\ttotal: 1.53s\tremaining: 636ms\n",
      "707:\tlearn: 0.3196475\ttotal: 1.54s\tremaining: 634ms\n",
      "708:\tlearn: 0.3195380\ttotal: 1.54s\tremaining: 631ms\n",
      "709:\tlearn: 0.3194508\ttotal: 1.54s\tremaining: 629ms\n",
      "710:\tlearn: 0.3193345\ttotal: 1.54s\tremaining: 627ms\n",
      "711:\tlearn: 0.3192286\ttotal: 1.54s\tremaining: 625ms\n"
     ]
    },
    {
     "name": "stdout",
     "output_type": "stream",
     "text": [
      "712:\tlearn: 0.3191225\ttotal: 1.55s\tremaining: 623ms\n",
      "713:\tlearn: 0.3190380\ttotal: 1.55s\tremaining: 621ms\n",
      "714:\tlearn: 0.3189623\ttotal: 1.55s\tremaining: 619ms\n",
      "715:\tlearn: 0.3188232\ttotal: 1.55s\tremaining: 617ms\n",
      "716:\tlearn: 0.3187214\ttotal: 1.56s\tremaining: 615ms\n"
     ]
    },
    {
     "name": "stdout",
     "output_type": "stream",
     "text": [
      "717:\tlearn: 0.3186851\ttotal: 1.56s\tremaining: 613ms\n",
      "718:\tlearn: 0.3186039\ttotal: 1.56s\tremaining: 611ms\n",
      "719:\tlearn: 0.3185638\ttotal: 1.56s\tremaining: 609ms\n",
      "720:\tlearn: 0.3184553\ttotal: 1.57s\tremaining: 606ms\n",
      "721:\tlearn: 0.3183845\ttotal: 1.57s\tremaining: 604ms\n",
      "722:\tlearn: 0.3182966\ttotal: 1.57s\tremaining: 602ms\n",
      "723:\tlearn: 0.3181349\ttotal: 1.57s\tremaining: 600ms\n",
      "724:\tlearn: 0.3180508\ttotal: 1.58s\tremaining: 598ms\n",
      "725:\tlearn: 0.3179650\ttotal: 1.58s\tremaining: 596ms\n",
      "726:\tlearn: 0.3178820\ttotal: 1.58s\tremaining: 593ms\n",
      "727:\tlearn: 0.3177928\ttotal: 1.58s\tremaining: 591ms\n",
      "728:\tlearn: 0.3177008\ttotal: 1.58s\tremaining: 589ms\n",
      "729:\tlearn: 0.3176152\ttotal: 1.59s\tremaining: 587ms\n",
      "730:\tlearn: 0.3175517\ttotal: 1.59s\tremaining: 585ms\n",
      "731:\tlearn: 0.3174737\ttotal: 1.59s\tremaining: 583ms\n",
      "732:\tlearn: 0.3174151\ttotal: 1.59s\tremaining: 581ms\n",
      "733:\tlearn: 0.3173356\ttotal: 1.6s\tremaining: 579ms\n",
      "734:\tlearn: 0.3172440\ttotal: 1.6s\tremaining: 576ms\n",
      "735:\tlearn: 0.3171642\ttotal: 1.6s\tremaining: 574ms\n",
      "736:\tlearn: 0.3170234\ttotal: 1.6s\tremaining: 572ms\n",
      "737:\tlearn: 0.3168943\ttotal: 1.6s\tremaining: 570ms\n",
      "738:\tlearn: 0.3167965\ttotal: 1.61s\tremaining: 568ms\n",
      "739:\tlearn: 0.3167099\ttotal: 1.61s\tremaining: 566ms\n",
      "740:\tlearn: 0.3166514\ttotal: 1.61s\tremaining: 563ms\n",
      "741:\tlearn: 0.3165630\ttotal: 1.61s\tremaining: 561ms\n",
      "742:\tlearn: 0.3165041\ttotal: 1.62s\tremaining: 559ms\n",
      "743:\tlearn: 0.3164546\ttotal: 1.62s\tremaining: 557ms\n"
     ]
    },
    {
     "name": "stdout",
     "output_type": "stream",
     "text": [
      "744:\tlearn: 0.3163882\ttotal: 1.62s\tremaining: 555ms\n",
      "745:\tlearn: 0.3163028\ttotal: 1.62s\tremaining: 553ms\n",
      "746:\tlearn: 0.3161468\ttotal: 1.63s\tremaining: 551ms\n",
      "747:\tlearn: 0.3160975\ttotal: 1.63s\tremaining: 549ms\n",
      "748:\tlearn: 0.3160023\ttotal: 1.63s\tremaining: 546ms\n",
      "749:\tlearn: 0.3158632\ttotal: 1.63s\tremaining: 544ms\n",
      "750:\tlearn: 0.3157616\ttotal: 1.63s\tremaining: 542ms\n",
      "751:\tlearn: 0.3156118\ttotal: 1.64s\tremaining: 540ms\n",
      "752:\tlearn: 0.3155543\ttotal: 1.64s\tremaining: 538ms\n",
      "753:\tlearn: 0.3154690\ttotal: 1.64s\tremaining: 536ms\n",
      "754:\tlearn: 0.3153557\ttotal: 1.64s\tremaining: 533ms\n",
      "755:\tlearn: 0.3152913\ttotal: 1.65s\tremaining: 531ms\n",
      "756:\tlearn: 0.3152092\ttotal: 1.65s\tremaining: 529ms\n",
      "757:\tlearn: 0.3151440\ttotal: 1.65s\tremaining: 527ms\n",
      "758:\tlearn: 0.3150831\ttotal: 1.65s\tremaining: 525ms\n",
      "759:\tlearn: 0.3150016\ttotal: 1.65s\tremaining: 522ms\n",
      "760:\tlearn: 0.3149268\ttotal: 1.66s\tremaining: 520ms\n",
      "761:\tlearn: 0.3147616\ttotal: 1.66s\tremaining: 518ms\n",
      "762:\tlearn: 0.3146884\ttotal: 1.66s\tremaining: 516ms\n",
      "763:\tlearn: 0.3146026\ttotal: 1.66s\tremaining: 513ms\n",
      "764:\tlearn: 0.3145096\ttotal: 1.66s\tremaining: 511ms\n",
      "765:\tlearn: 0.3144520\ttotal: 1.67s\tremaining: 509ms\n",
      "766:\tlearn: 0.3143414\ttotal: 1.67s\tremaining: 507ms\n",
      "767:\tlearn: 0.3142379\ttotal: 1.67s\tremaining: 505ms\n",
      "768:\tlearn: 0.3141488\ttotal: 1.67s\tremaining: 503ms\n",
      "769:\tlearn: 0.3140849\ttotal: 1.68s\tremaining: 500ms\n",
      "770:\tlearn: 0.3139777\ttotal: 1.68s\tremaining: 498ms\n",
      "771:\tlearn: 0.3138778\ttotal: 1.68s\tremaining: 496ms\n",
      "772:\tlearn: 0.3137918\ttotal: 1.68s\tremaining: 494ms\n",
      "773:\tlearn: 0.3137140\ttotal: 1.68s\tremaining: 492ms\n",
      "774:\tlearn: 0.3136692\ttotal: 1.69s\tremaining: 489ms\n",
      "775:\tlearn: 0.3136199\ttotal: 1.69s\tremaining: 487ms\n",
      "776:\tlearn: 0.3135459\ttotal: 1.69s\tremaining: 485ms\n",
      "777:\tlearn: 0.3134160\ttotal: 1.69s\tremaining: 483ms\n",
      "778:\tlearn: 0.3133229\ttotal: 1.69s\tremaining: 481ms\n",
      "779:\tlearn: 0.3132697\ttotal: 1.7s\tremaining: 478ms\n",
      "780:\tlearn: 0.3132124\ttotal: 1.7s\tremaining: 476ms\n",
      "781:\tlearn: 0.3131122\ttotal: 1.7s\tremaining: 474ms\n",
      "782:\tlearn: 0.3130227\ttotal: 1.7s\tremaining: 472ms\n",
      "783:\tlearn: 0.3129053\ttotal: 1.7s\tremaining: 470ms\n",
      "784:\tlearn: 0.3128366\ttotal: 1.71s\tremaining: 468ms\n"
     ]
    },
    {
     "name": "stdout",
     "output_type": "stream",
     "text": [
      "785:\tlearn: 0.3126801\ttotal: 1.71s\tremaining: 466ms\n",
      "786:\tlearn: 0.3125953\ttotal: 1.71s\tremaining: 464ms\n",
      "787:\tlearn: 0.3124912\ttotal: 1.72s\tremaining: 461ms\n",
      "788:\tlearn: 0.3123960\ttotal: 1.72s\tremaining: 459ms\n",
      "789:\tlearn: 0.3123289\ttotal: 1.72s\tremaining: 457ms\n"
     ]
    },
    {
     "name": "stdout",
     "output_type": "stream",
     "text": [
      "790:\tlearn: 0.3122210\ttotal: 1.72s\tremaining: 455ms\n",
      "791:\tlearn: 0.3121115\ttotal: 1.72s\tremaining: 453ms\n",
      "792:\tlearn: 0.3120522\ttotal: 1.73s\tremaining: 451ms\n",
      "793:\tlearn: 0.3119322\ttotal: 1.73s\tremaining: 449ms\n",
      "794:\tlearn: 0.3118716\ttotal: 1.73s\tremaining: 446ms\n",
      "795:\tlearn: 0.3117837\ttotal: 1.73s\tremaining: 444ms\n",
      "796:\tlearn: 0.3116928\ttotal: 1.73s\tremaining: 442ms\n",
      "797:\tlearn: 0.3116367\ttotal: 1.74s\tremaining: 440ms\n",
      "798:\tlearn: 0.3115189\ttotal: 1.74s\tremaining: 437ms\n",
      "799:\tlearn: 0.3114352\ttotal: 1.74s\tremaining: 435ms\n",
      "800:\tlearn: 0.3113833\ttotal: 1.74s\tremaining: 433ms\n",
      "801:\tlearn: 0.3113072\ttotal: 1.75s\tremaining: 431ms\n",
      "802:\tlearn: 0.3112357\ttotal: 1.75s\tremaining: 429ms\n",
      "803:\tlearn: 0.3111899\ttotal: 1.75s\tremaining: 427ms\n",
      "804:\tlearn: 0.3111058\ttotal: 1.75s\tremaining: 424ms\n",
      "805:\tlearn: 0.3110325\ttotal: 1.75s\tremaining: 422ms\n",
      "806:\tlearn: 0.3109538\ttotal: 1.75s\tremaining: 420ms\n",
      "807:\tlearn: 0.3108578\ttotal: 1.76s\tremaining: 418ms\n",
      "808:\tlearn: 0.3107234\ttotal: 1.76s\tremaining: 415ms\n",
      "809:\tlearn: 0.3106343\ttotal: 1.76s\tremaining: 413ms\n",
      "810:\tlearn: 0.3105540\ttotal: 1.76s\tremaining: 411ms\n",
      "811:\tlearn: 0.3104653\ttotal: 1.76s\tremaining: 409ms\n",
      "812:\tlearn: 0.3103599\ttotal: 1.77s\tremaining: 407ms\n",
      "813:\tlearn: 0.3103075\ttotal: 1.77s\tremaining: 404ms\n",
      "814:\tlearn: 0.3102347\ttotal: 1.77s\tremaining: 402ms\n",
      "815:\tlearn: 0.3101733\ttotal: 1.77s\tremaining: 400ms\n",
      "816:\tlearn: 0.3100652\ttotal: 1.77s\tremaining: 398ms\n",
      "817:\tlearn: 0.3099679\ttotal: 1.78s\tremaining: 396ms\n",
      "818:\tlearn: 0.3098787\ttotal: 1.78s\tremaining: 393ms\n"
     ]
    },
    {
     "name": "stdout",
     "output_type": "stream",
     "text": [
      "819:\tlearn: 0.3097993\ttotal: 1.78s\tremaining: 391ms\n",
      "820:\tlearn: 0.3096862\ttotal: 1.78s\tremaining: 389ms\n",
      "821:\tlearn: 0.3096014\ttotal: 1.79s\tremaining: 387ms\n",
      "822:\tlearn: 0.3095146\ttotal: 1.79s\tremaining: 385ms\n",
      "823:\tlearn: 0.3094419\ttotal: 1.79s\tremaining: 382ms\n",
      "824:\tlearn: 0.3093688\ttotal: 1.79s\tremaining: 380ms\n",
      "825:\tlearn: 0.3092603\ttotal: 1.79s\tremaining: 378ms\n",
      "826:\tlearn: 0.3092044\ttotal: 1.8s\tremaining: 376ms\n",
      "827:\tlearn: 0.3091502\ttotal: 1.8s\tremaining: 374ms\n",
      "828:\tlearn: 0.3090405\ttotal: 1.8s\tremaining: 371ms\n",
      "829:\tlearn: 0.3089252\ttotal: 1.8s\tremaining: 369ms\n",
      "830:\tlearn: 0.3088814\ttotal: 1.8s\tremaining: 367ms\n",
      "831:\tlearn: 0.3087780\ttotal: 1.81s\tremaining: 365ms\n",
      "832:\tlearn: 0.3087067\ttotal: 1.81s\tremaining: 363ms\n",
      "833:\tlearn: 0.3086345\ttotal: 1.81s\tremaining: 360ms\n",
      "834:\tlearn: 0.3085772\ttotal: 1.81s\tremaining: 358ms\n",
      "835:\tlearn: 0.3084969\ttotal: 1.81s\tremaining: 356ms\n",
      "836:\tlearn: 0.3084005\ttotal: 1.82s\tremaining: 354ms\n",
      "837:\tlearn: 0.3083213\ttotal: 1.82s\tremaining: 352ms\n",
      "838:\tlearn: 0.3082332\ttotal: 1.82s\tremaining: 349ms\n",
      "839:\tlearn: 0.3081094\ttotal: 1.82s\tremaining: 347ms\n",
      "840:\tlearn: 0.3080392\ttotal: 1.82s\tremaining: 345ms\n",
      "841:\tlearn: 0.3079939\ttotal: 1.83s\tremaining: 343ms\n",
      "842:\tlearn: 0.3079013\ttotal: 1.83s\tremaining: 341ms\n",
      "843:\tlearn: 0.3077984\ttotal: 1.83s\tremaining: 338ms\n",
      "844:\tlearn: 0.3077465\ttotal: 1.83s\tremaining: 336ms\n",
      "845:\tlearn: 0.3076826\ttotal: 1.83s\tremaining: 334ms\n",
      "846:\tlearn: 0.3076204\ttotal: 1.84s\tremaining: 332ms\n",
      "847:\tlearn: 0.3075346\ttotal: 1.84s\tremaining: 330ms\n",
      "848:\tlearn: 0.3073876\ttotal: 1.84s\tremaining: 327ms\n",
      "849:\tlearn: 0.3073116\ttotal: 1.84s\tremaining: 325ms\n",
      "850:\tlearn: 0.3071840\ttotal: 1.84s\tremaining: 323ms\n",
      "851:\tlearn: 0.3071149\ttotal: 1.85s\tremaining: 321ms\n",
      "852:\tlearn: 0.3070415\ttotal: 1.85s\tremaining: 319ms\n",
      "853:\tlearn: 0.3069567\ttotal: 1.85s\tremaining: 317ms\n",
      "854:\tlearn: 0.3068900\ttotal: 1.85s\tremaining: 314ms\n",
      "855:\tlearn: 0.3068386\ttotal: 1.86s\tremaining: 312ms\n",
      "856:\tlearn: 0.3067532\ttotal: 1.86s\tremaining: 310ms\n",
      "857:\tlearn: 0.3067026\ttotal: 1.86s\tremaining: 308ms\n",
      "858:\tlearn: 0.3066082\ttotal: 1.86s\tremaining: 306ms\n",
      "859:\tlearn: 0.3065398\ttotal: 1.86s\tremaining: 304ms\n",
      "860:\tlearn: 0.3064282\ttotal: 1.87s\tremaining: 301ms\n",
      "861:\tlearn: 0.3062848\ttotal: 1.87s\tremaining: 299ms\n",
      "862:\tlearn: 0.3062146\ttotal: 1.87s\tremaining: 297ms\n"
     ]
    },
    {
     "name": "stdout",
     "output_type": "stream",
     "text": [
      "863:\tlearn: 0.3060599\ttotal: 1.87s\tremaining: 295ms\n",
      "864:\tlearn: 0.3059916\ttotal: 1.87s\tremaining: 293ms\n",
      "865:\tlearn: 0.3058805\ttotal: 1.88s\tremaining: 290ms\n",
      "866:\tlearn: 0.3057499\ttotal: 1.88s\tremaining: 288ms\n",
      "867:\tlearn: 0.3057077\ttotal: 1.88s\tremaining: 286ms\n",
      "868:\tlearn: 0.3055787\ttotal: 1.88s\tremaining: 284ms\n"
     ]
    },
    {
     "name": "stdout",
     "output_type": "stream",
     "text": [
      "869:\tlearn: 0.3055037\ttotal: 1.89s\tremaining: 282ms\n",
      "870:\tlearn: 0.3054448\ttotal: 1.89s\tremaining: 280ms\n",
      "871:\tlearn: 0.3053797\ttotal: 1.89s\tremaining: 277ms\n",
      "872:\tlearn: 0.3052944\ttotal: 1.89s\tremaining: 275ms\n",
      "873:\tlearn: 0.3051900\ttotal: 1.89s\tremaining: 273ms\n",
      "874:\tlearn: 0.3050778\ttotal: 1.9s\tremaining: 271ms\n",
      "875:\tlearn: 0.3048975\ttotal: 1.9s\tremaining: 269ms\n",
      "876:\tlearn: 0.3048502\ttotal: 1.9s\tremaining: 266ms\n",
      "877:\tlearn: 0.3047762\ttotal: 1.9s\tremaining: 264ms\n",
      "878:\tlearn: 0.3047026\ttotal: 1.9s\tremaining: 262ms\n",
      "879:\tlearn: 0.3046153\ttotal: 1.91s\tremaining: 260ms\n",
      "880:\tlearn: 0.3045247\ttotal: 1.91s\tremaining: 258ms\n",
      "881:\tlearn: 0.3044485\ttotal: 1.91s\tremaining: 255ms\n",
      "882:\tlearn: 0.3043879\ttotal: 1.91s\tremaining: 253ms\n",
      "883:\tlearn: 0.3042807\ttotal: 1.91s\tremaining: 251ms\n",
      "884:\tlearn: 0.3042173\ttotal: 1.92s\tremaining: 249ms\n",
      "885:\tlearn: 0.3041533\ttotal: 1.92s\tremaining: 247ms\n",
      "886:\tlearn: 0.3041009\ttotal: 1.92s\tremaining: 245ms\n",
      "887:\tlearn: 0.3040227\ttotal: 1.92s\tremaining: 242ms\n",
      "888:\tlearn: 0.3039682\ttotal: 1.92s\tremaining: 240ms\n",
      "889:\tlearn: 0.3038736\ttotal: 1.93s\tremaining: 238ms\n",
      "890:\tlearn: 0.3038234\ttotal: 1.93s\tremaining: 236ms\n",
      "891:\tlearn: 0.3037365\ttotal: 1.93s\tremaining: 234ms\n",
      "892:\tlearn: 0.3036484\ttotal: 1.93s\tremaining: 232ms\n",
      "893:\tlearn: 0.3035563\ttotal: 1.93s\tremaining: 229ms\n",
      "894:\tlearn: 0.3034573\ttotal: 1.94s\tremaining: 227ms\n",
      "895:\tlearn: 0.3033598\ttotal: 1.94s\tremaining: 225ms\n",
      "896:\tlearn: 0.3032458\ttotal: 1.94s\tremaining: 223ms\n",
      "897:\tlearn: 0.3031755\ttotal: 1.94s\tremaining: 221ms\n",
      "898:\tlearn: 0.3031115\ttotal: 1.94s\tremaining: 218ms\n"
     ]
    },
    {
     "name": "stdout",
     "output_type": "stream",
     "text": [
      "899:\tlearn: 0.3030705\ttotal: 1.95s\tremaining: 216ms\n",
      "900:\tlearn: 0.3029758\ttotal: 1.95s\tremaining: 214ms\n",
      "901:\tlearn: 0.3029164\ttotal: 1.95s\tremaining: 212ms\n",
      "902:\tlearn: 0.3028339\ttotal: 1.95s\tremaining: 210ms\n",
      "903:\tlearn: 0.3027407\ttotal: 1.95s\tremaining: 208ms\n",
      "904:\tlearn: 0.3026638\ttotal: 1.96s\tremaining: 205ms\n",
      "905:\tlearn: 0.3024898\ttotal: 1.96s\tremaining: 203ms\n",
      "906:\tlearn: 0.3023570\ttotal: 1.96s\tremaining: 201ms\n",
      "907:\tlearn: 0.3022758\ttotal: 1.96s\tremaining: 199ms\n",
      "908:\tlearn: 0.3022002\ttotal: 1.96s\tremaining: 197ms\n",
      "909:\tlearn: 0.3021132\ttotal: 1.97s\tremaining: 195ms\n",
      "910:\tlearn: 0.3019939\ttotal: 1.97s\tremaining: 192ms\n",
      "911:\tlearn: 0.3018769\ttotal: 1.97s\tremaining: 190ms\n",
      "912:\tlearn: 0.3018195\ttotal: 1.97s\tremaining: 188ms\n",
      "913:\tlearn: 0.3017467\ttotal: 1.98s\tremaining: 186ms\n",
      "914:\tlearn: 0.3016411\ttotal: 1.98s\tremaining: 184ms\n",
      "915:\tlearn: 0.3015552\ttotal: 1.98s\tremaining: 182ms\n",
      "916:\tlearn: 0.3014633\ttotal: 1.98s\tremaining: 179ms\n",
      "917:\tlearn: 0.3014168\ttotal: 1.98s\tremaining: 177ms\n",
      "918:\tlearn: 0.3013723\ttotal: 1.99s\tremaining: 175ms\n",
      "919:\tlearn: 0.3013242\ttotal: 1.99s\tremaining: 173ms\n",
      "920:\tlearn: 0.3011776\ttotal: 1.99s\tremaining: 171ms\n",
      "921:\tlearn: 0.3010859\ttotal: 1.99s\tremaining: 169ms\n",
      "922:\tlearn: 0.3010128\ttotal: 1.99s\tremaining: 166ms\n",
      "923:\tlearn: 0.3009404\ttotal: 2s\tremaining: 164ms\n",
      "924:\tlearn: 0.3008523\ttotal: 2s\tremaining: 162ms\n",
      "925:\tlearn: 0.3007679\ttotal: 2s\tremaining: 160ms\n",
      "926:\tlearn: 0.3007240\ttotal: 2s\tremaining: 158ms\n",
      "927:\tlearn: 0.3006361\ttotal: 2s\tremaining: 156ms\n",
      "928:\tlearn: 0.3005731\ttotal: 2.01s\tremaining: 153ms\n",
      "929:\tlearn: 0.3005257\ttotal: 2.01s\tremaining: 151ms\n",
      "930:\tlearn: 0.3004502\ttotal: 2.01s\tremaining: 149ms\n",
      "931:\tlearn: 0.3003658\ttotal: 2.01s\tremaining: 147ms\n",
      "932:\tlearn: 0.3002903\ttotal: 2.02s\tremaining: 145ms\n",
      "933:\tlearn: 0.3002376\ttotal: 2.02s\tremaining: 143ms\n",
      "934:\tlearn: 0.3001799\ttotal: 2.02s\tremaining: 140ms\n",
      "935:\tlearn: 0.3000512\ttotal: 2.02s\tremaining: 138ms\n",
      "936:\tlearn: 0.2999817\ttotal: 2.02s\tremaining: 136ms\n",
      "937:\tlearn: 0.2998618\ttotal: 2.03s\tremaining: 134ms\n",
      "938:\tlearn: 0.2997863\ttotal: 2.03s\tremaining: 132ms\n",
      "939:\tlearn: 0.2997081\ttotal: 2.03s\tremaining: 130ms\n",
      "940:\tlearn: 0.2996461\ttotal: 2.03s\tremaining: 127ms\n",
      "941:\tlearn: 0.2995544\ttotal: 2.03s\tremaining: 125ms\n"
     ]
    },
    {
     "name": "stdout",
     "output_type": "stream",
     "text": [
      "942:\tlearn: 0.2994901\ttotal: 2.04s\tremaining: 123ms\n",
      "943:\tlearn: 0.2994441\ttotal: 2.04s\tremaining: 121ms\n",
      "944:\tlearn: 0.2993954\ttotal: 2.04s\tremaining: 119ms\n",
      "945:\tlearn: 0.2993326\ttotal: 2.04s\tremaining: 117ms\n",
      "946:\tlearn: 0.2992556\ttotal: 2.04s\tremaining: 114ms\n",
      "947:\tlearn: 0.2991792\ttotal: 2.05s\tremaining: 112ms\n",
      "948:\tlearn: 0.2991157\ttotal: 2.05s\tremaining: 110ms\n"
     ]
    },
    {
     "name": "stdout",
     "output_type": "stream",
     "text": [
      "949:\tlearn: 0.2990233\ttotal: 2.05s\tremaining: 108ms\n",
      "950:\tlearn: 0.2989469\ttotal: 2.05s\tremaining: 106ms\n",
      "951:\tlearn: 0.2988348\ttotal: 2.05s\tremaining: 104ms\n",
      "952:\tlearn: 0.2987807\ttotal: 2.06s\tremaining: 101ms\n",
      "953:\tlearn: 0.2987426\ttotal: 2.06s\tremaining: 99.3ms\n",
      "954:\tlearn: 0.2986784\ttotal: 2.06s\tremaining: 97.1ms\n",
      "955:\tlearn: 0.2985801\ttotal: 2.06s\tremaining: 94.9ms\n",
      "956:\tlearn: 0.2985487\ttotal: 2.06s\tremaining: 92.8ms\n",
      "957:\tlearn: 0.2984539\ttotal: 2.07s\tremaining: 90.6ms\n",
      "958:\tlearn: 0.2983751\ttotal: 2.07s\tremaining: 88.5ms\n",
      "959:\tlearn: 0.2982926\ttotal: 2.07s\tremaining: 86.3ms\n",
      "960:\tlearn: 0.2982193\ttotal: 2.07s\tremaining: 84.1ms\n",
      "961:\tlearn: 0.2981476\ttotal: 2.08s\tremaining: 82ms\n",
      "962:\tlearn: 0.2980716\ttotal: 2.08s\tremaining: 79.8ms\n",
      "963:\tlearn: 0.2979845\ttotal: 2.08s\tremaining: 77.7ms\n",
      "964:\tlearn: 0.2979284\ttotal: 2.08s\tremaining: 75.5ms\n",
      "965:\tlearn: 0.2978331\ttotal: 2.08s\tremaining: 73.3ms\n",
      "966:\tlearn: 0.2977647\ttotal: 2.08s\tremaining: 71.2ms\n",
      "967:\tlearn: 0.2976970\ttotal: 2.09s\tremaining: 69ms\n",
      "968:\tlearn: 0.2975949\ttotal: 2.09s\tremaining: 66.8ms\n",
      "969:\tlearn: 0.2975176\ttotal: 2.09s\tremaining: 64.7ms\n",
      "970:\tlearn: 0.2974584\ttotal: 2.09s\tremaining: 62.5ms\n",
      "971:\tlearn: 0.2973976\ttotal: 2.1s\tremaining: 60.4ms\n",
      "972:\tlearn: 0.2973231\ttotal: 2.1s\tremaining: 58.2ms\n",
      "973:\tlearn: 0.2972694\ttotal: 2.1s\tremaining: 56ms\n",
      "974:\tlearn: 0.2971733\ttotal: 2.1s\tremaining: 53.9ms\n",
      "975:\tlearn: 0.2971288\ttotal: 2.1s\tremaining: 51.7ms\n",
      "976:\tlearn: 0.2970714\ttotal: 2.1s\tremaining: 49.6ms\n",
      "977:\tlearn: 0.2970294\ttotal: 2.11s\tremaining: 47.4ms\n"
     ]
    },
    {
     "name": "stdout",
     "output_type": "stream",
     "text": [
      "978:\tlearn: 0.2969399\ttotal: 2.11s\tremaining: 45.3ms\n",
      "979:\tlearn: 0.2969040\ttotal: 2.11s\tremaining: 43.1ms\n",
      "980:\tlearn: 0.2968199\ttotal: 2.11s\tremaining: 41ms\n",
      "981:\tlearn: 0.2967338\ttotal: 2.12s\tremaining: 38.8ms\n",
      "982:\tlearn: 0.2966780\ttotal: 2.12s\tremaining: 36.6ms\n",
      "983:\tlearn: 0.2966224\ttotal: 2.12s\tremaining: 34.5ms\n",
      "984:\tlearn: 0.2965552\ttotal: 2.12s\tremaining: 32.3ms\n",
      "985:\tlearn: 0.2964909\ttotal: 2.13s\tremaining: 30.2ms\n",
      "986:\tlearn: 0.2964421\ttotal: 2.13s\tremaining: 28ms\n",
      "987:\tlearn: 0.2963649\ttotal: 2.13s\tremaining: 25.9ms\n",
      "988:\tlearn: 0.2963185\ttotal: 2.13s\tremaining: 23.7ms\n",
      "989:\tlearn: 0.2962547\ttotal: 2.13s\tremaining: 21.6ms\n",
      "990:\tlearn: 0.2961591\ttotal: 2.14s\tremaining: 19.4ms\n",
      "991:\tlearn: 0.2960885\ttotal: 2.14s\tremaining: 17.2ms\n",
      "992:\tlearn: 0.2960171\ttotal: 2.14s\tremaining: 15.1ms\n",
      "993:\tlearn: 0.2959708\ttotal: 2.14s\tremaining: 12.9ms\n",
      "994:\tlearn: 0.2958758\ttotal: 2.14s\tremaining: 10.8ms\n",
      "995:\tlearn: 0.2957564\ttotal: 2.15s\tremaining: 8.62ms\n",
      "996:\tlearn: 0.2956941\ttotal: 2.15s\tremaining: 6.47ms\n",
      "997:\tlearn: 0.2956158\ttotal: 2.15s\tremaining: 4.31ms\n",
      "998:\tlearn: 0.2955517\ttotal: 2.15s\tremaining: 2.15ms\n",
      "999:\tlearn: 0.2954656\ttotal: 2.15s\tremaining: 0us\n"
     ]
    },
    {
     "name": "stdout",
     "output_type": "stream",
     "text": [
      "Mean Absolute error 0.25122291974695854\n"
     ]
    },
    {
     "data": {
      "application/scrapbook.scrap.json+json": {
       "data": 0.25122291974695854,
       "encoder": "json",
       "name": "Catboost MAE",
       "version": 1
      }
     },
     "metadata": {
      "scrapbook": {
       "data": true,
       "display": false,
       "name": "Catboost MAE"
      }
     },
     "output_type": "display_data"
    },
    {
     "name": "stdout",
     "output_type": "stream",
     "text": [
      "Catboost MAE 0.25122291974695854\n"
     ]
    }
   ],
   "source": [
    "mae_cb = baselineModels.catboost(X_train,y_train,X_test,y_test)\n",
    "#Store MAE Value\n",
    "sb.glue(\"Catboost MAE\",mae_cb)\n",
    "print(\"Catboost MAE\",mae_cb)"
   ]
  },
  {
   "cell_type": "markdown",
   "id": "8d9706b5",
   "metadata": {
    "papermill": {
     "duration": 0.010534,
     "end_time": "2022-07-20T17:24:34.084817",
     "exception": false,
     "start_time": "2022-07-20T17:24:34.074283",
     "status": "completed"
    },
    "tags": []
   },
   "source": [
    "# TabNet Regressor"
   ]
  },
  {
   "cell_type": "code",
   "execution_count": 7,
   "id": "e3795fe5",
   "metadata": {
    "execution": {
     "iopub.execute_input": "2022-07-20T17:24:34.106791Z",
     "iopub.status.busy": "2022-07-20T17:24:34.106440Z",
     "iopub.status.idle": "2022-07-20T17:24:34.110481Z",
     "shell.execute_reply": "2022-07-20T17:24:34.109582Z"
    },
    "papermill": {
     "duration": 0.016955,
     "end_time": "2022-07-20T17:24:34.111957",
     "exception": false,
     "start_time": "2022-07-20T17:24:34.095002",
     "status": "completed"
    },
    "tags": []
   },
   "outputs": [],
   "source": [
    "n_epochs = 500\n",
    "batch_size = 256"
   ]
  },
  {
   "cell_type": "code",
   "execution_count": 8,
   "id": "13546f00",
   "metadata": {
    "execution": {
     "iopub.execute_input": "2022-07-20T17:24:34.134336Z",
     "iopub.status.busy": "2022-07-20T17:24:34.134068Z",
     "iopub.status.idle": "2022-07-20T17:38:56.636908Z",
     "shell.execute_reply": "2022-07-20T17:38:56.636189Z"
    },
    "papermill": {
     "duration": 862.51517,
     "end_time": "2022-07-20T17:38:56.638503",
     "exception": false,
     "start_time": "2022-07-20T17:24:34.123333",
     "status": "completed"
    },
    "tags": []
   },
   "outputs": [
    {
     "name": "stdout",
     "output_type": "stream",
     "text": [
      "Device used : cuda\n"
     ]
    },
    {
     "name": "stdout",
     "output_type": "stream",
     "text": [
      "epoch 0  | loss: 1.76721 | train_mse: 0.9999  | train_mae: 0.7377  |  0:00:02s\n"
     ]
    },
    {
     "name": "stdout",
     "output_type": "stream",
     "text": [
      "epoch 1  | loss: 0.90075 | train_mse: 0.76142 | train_mae: 0.64224 |  0:00:05s\n"
     ]
    },
    {
     "name": "stdout",
     "output_type": "stream",
     "text": [
      "epoch 2  | loss: 0.70834 | train_mse: 0.63579 | train_mae: 0.58689 |  0:00:07s\n"
     ]
    },
    {
     "name": "stdout",
     "output_type": "stream",
     "text": [
      "epoch 3  | loss: 0.61341 | train_mse: 1.23835 | train_mae: 0.55519 |  0:00:09s\n"
     ]
    },
    {
     "name": "stdout",
     "output_type": "stream",
     "text": [
      "epoch 4  | loss: 0.53391 | train_mse: 2.94519 | train_mae: 0.54121 |  0:00:11s\n"
     ]
    },
    {
     "name": "stdout",
     "output_type": "stream",
     "text": [
      "epoch 5  | loss: 0.49093 | train_mse: 1.02227 | train_mae: 0.50436 |  0:00:13s\n"
     ]
    },
    {
     "name": "stdout",
     "output_type": "stream",
     "text": [
      "epoch 6  | loss: 0.45035 | train_mse: 0.97406 | train_mae: 0.49214 |  0:00:16s\n"
     ]
    },
    {
     "name": "stdout",
     "output_type": "stream",
     "text": [
      "epoch 7  | loss: 0.4248  | train_mse: 0.47189 | train_mae: 0.47433 |  0:00:18s\n"
     ]
    },
    {
     "name": "stdout",
     "output_type": "stream",
     "text": [
      "epoch 8  | loss: 0.39566 | train_mse: 0.56681 | train_mae: 0.46155 |  0:00:20s\n"
     ]
    },
    {
     "name": "stdout",
     "output_type": "stream",
     "text": [
      "epoch 9  | loss: 0.37649 | train_mse: 0.53264 | train_mae: 0.45281 |  0:00:23s\n"
     ]
    },
    {
     "name": "stdout",
     "output_type": "stream",
     "text": [
      "epoch 10 | loss: 0.36022 | train_mse: 0.55978 | train_mae: 0.44349 |  0:00:25s\n"
     ]
    },
    {
     "name": "stdout",
     "output_type": "stream",
     "text": [
      "epoch 11 | loss: 0.35672 | train_mse: 0.41486 | train_mae: 0.43768 |  0:00:27s\n"
     ]
    },
    {
     "name": "stdout",
     "output_type": "stream",
     "text": [
      "epoch 12 | loss: 0.34575 | train_mse: 0.40067 | train_mae: 0.43705 |  0:00:30s\n"
     ]
    },
    {
     "name": "stdout",
     "output_type": "stream",
     "text": [
      "epoch 13 | loss: 0.33331 | train_mse: 0.38725 | train_mae: 0.43083 |  0:00:32s\n"
     ]
    },
    {
     "name": "stdout",
     "output_type": "stream",
     "text": [
      "epoch 14 | loss: 0.32969 | train_mse: 0.38224 | train_mae: 0.43036 |  0:00:34s\n"
     ]
    },
    {
     "name": "stdout",
     "output_type": "stream",
     "text": [
      "epoch 15 | loss: 0.3309  | train_mse: 0.37869 | train_mae: 0.43043 |  0:00:36s\n"
     ]
    },
    {
     "name": "stdout",
     "output_type": "stream",
     "text": [
      "epoch 16 | loss: 0.32342 | train_mse: 0.3748  | train_mae: 0.42739 |  0:00:38s\n"
     ]
    },
    {
     "name": "stdout",
     "output_type": "stream",
     "text": [
      "epoch 17 | loss: 0.32052 | train_mse: 0.36724 | train_mae: 0.42331 |  0:00:41s\n"
     ]
    },
    {
     "name": "stdout",
     "output_type": "stream",
     "text": [
      "epoch 18 | loss: 0.30657 | train_mse: 0.37362 | train_mae: 0.42048 |  0:00:43s\n"
     ]
    },
    {
     "name": "stdout",
     "output_type": "stream",
     "text": [
      "epoch 19 | loss: 0.30376 | train_mse: 0.3883  | train_mae: 0.42298 |  0:00:45s\n"
     ]
    },
    {
     "name": "stdout",
     "output_type": "stream",
     "text": [
      "epoch 20 | loss: 0.30876 | train_mse: 0.37005 | train_mae: 0.41309 |  0:00:47s\n"
     ]
    },
    {
     "name": "stdout",
     "output_type": "stream",
     "text": [
      "epoch 21 | loss: 0.30072 | train_mse: 0.36139 | train_mae: 0.41489 |  0:00:50s\n"
     ]
    },
    {
     "name": "stdout",
     "output_type": "stream",
     "text": [
      "epoch 22 | loss: 0.30016 | train_mse: 0.3575  | train_mae: 0.41358 |  0:00:52s\n"
     ]
    },
    {
     "name": "stdout",
     "output_type": "stream",
     "text": [
      "epoch 23 | loss: 0.30131 | train_mse: 0.37632 | train_mae: 0.41529 |  0:00:54s\n"
     ]
    },
    {
     "name": "stdout",
     "output_type": "stream",
     "text": [
      "epoch 24 | loss: 0.29842 | train_mse: 0.36429 | train_mae: 0.41293 |  0:00:56s\n"
     ]
    },
    {
     "name": "stdout",
     "output_type": "stream",
     "text": [
      "epoch 25 | loss: 0.29004 | train_mse: 0.34897 | train_mae: 0.41109 |  0:00:59s\n"
     ]
    },
    {
     "name": "stdout",
     "output_type": "stream",
     "text": [
      "epoch 26 | loss: 0.28767 | train_mse: 0.36045 | train_mae: 0.41263 |  0:01:01s\n"
     ]
    },
    {
     "name": "stdout",
     "output_type": "stream",
     "text": [
      "epoch 27 | loss: 0.28799 | train_mse: 0.36145 | train_mae: 0.41215 |  0:01:03s\n"
     ]
    },
    {
     "name": "stdout",
     "output_type": "stream",
     "text": [
      "epoch 28 | loss: 0.28014 | train_mse: 0.35954 | train_mae: 0.41033 |  0:01:06s\n"
     ]
    },
    {
     "name": "stdout",
     "output_type": "stream",
     "text": [
      "epoch 29 | loss: 0.27959 | train_mse: 0.3575  | train_mae: 0.40971 |  0:01:08s\n"
     ]
    },
    {
     "name": "stdout",
     "output_type": "stream",
     "text": [
      "epoch 30 | loss: 0.28062 | train_mse: 0.36586 | train_mae: 0.406   |  0:01:10s\n"
     ]
    },
    {
     "name": "stdout",
     "output_type": "stream",
     "text": [
      "epoch 31 | loss: 0.28123 | train_mse: 0.35752 | train_mae: 0.40849 |  0:01:12s\n"
     ]
    },
    {
     "name": "stdout",
     "output_type": "stream",
     "text": [
      "epoch 32 | loss: 0.27867 | train_mse: 0.33999 | train_mae: 0.40402 |  0:01:15s\n"
     ]
    },
    {
     "name": "stdout",
     "output_type": "stream",
     "text": [
      "epoch 33 | loss: 0.28124 | train_mse: 0.33592 | train_mae: 0.40353 |  0:01:17s\n"
     ]
    },
    {
     "name": "stdout",
     "output_type": "stream",
     "text": [
      "epoch 34 | loss: 0.27501 | train_mse: 0.35624 | train_mae: 0.40538 |  0:01:19s\n"
     ]
    },
    {
     "name": "stdout",
     "output_type": "stream",
     "text": [
      "epoch 35 | loss: 0.27752 | train_mse: 0.34969 | train_mae: 0.40063 |  0:01:22s\n"
     ]
    },
    {
     "name": "stdout",
     "output_type": "stream",
     "text": [
      "epoch 36 | loss: 0.2766  | train_mse: 0.33892 | train_mae: 0.4022  |  0:01:24s\n"
     ]
    },
    {
     "name": "stdout",
     "output_type": "stream",
     "text": [
      "epoch 37 | loss: 0.27553 | train_mse: 0.34792 | train_mae: 0.40008 |  0:01:26s\n"
     ]
    },
    {
     "name": "stdout",
     "output_type": "stream",
     "text": [
      "epoch 38 | loss: 0.27463 | train_mse: 0.45188 | train_mae: 0.40304 |  0:01:29s\n"
     ]
    },
    {
     "name": "stdout",
     "output_type": "stream",
     "text": [
      "epoch 39 | loss: 0.271   | train_mse: 0.34064 | train_mae: 0.40272 |  0:01:31s\n"
     ]
    },
    {
     "name": "stdout",
     "output_type": "stream",
     "text": [
      "epoch 40 | loss: 0.26602 | train_mse: 0.40344 | train_mae: 0.40297 |  0:01:33s\n"
     ]
    },
    {
     "name": "stdout",
     "output_type": "stream",
     "text": [
      "epoch 41 | loss: 0.26843 | train_mse: 0.37022 | train_mae: 0.40549 |  0:01:36s\n"
     ]
    },
    {
     "name": "stdout",
     "output_type": "stream",
     "text": [
      "epoch 42 | loss: 0.27333 | train_mse: 0.34287 | train_mae: 0.39843 |  0:01:38s\n"
     ]
    },
    {
     "name": "stdout",
     "output_type": "stream",
     "text": [
      "epoch 43 | loss: 0.27016 | train_mse: 0.33802 | train_mae: 0.39993 |  0:01:40s\n"
     ]
    },
    {
     "name": "stdout",
     "output_type": "stream",
     "text": [
      "epoch 44 | loss: 0.26574 | train_mse: 0.34181 | train_mae: 0.39543 |  0:01:42s\n"
     ]
    },
    {
     "name": "stdout",
     "output_type": "stream",
     "text": [
      "epoch 45 | loss: 0.26774 | train_mse: 0.33079 | train_mae: 0.38912 |  0:01:44s\n"
     ]
    },
    {
     "name": "stdout",
     "output_type": "stream",
     "text": [
      "epoch 46 | loss: 0.26304 | train_mse: 0.33512 | train_mae: 0.39779 |  0:01:47s\n"
     ]
    },
    {
     "name": "stdout",
     "output_type": "stream",
     "text": [
      "epoch 47 | loss: 0.26416 | train_mse: 0.32812 | train_mae: 0.39261 |  0:01:49s\n"
     ]
    },
    {
     "name": "stdout",
     "output_type": "stream",
     "text": [
      "epoch 48 | loss: 0.2612  | train_mse: 0.36608 | train_mae: 0.39239 |  0:01:51s\n"
     ]
    },
    {
     "name": "stdout",
     "output_type": "stream",
     "text": [
      "epoch 49 | loss: 0.26244 | train_mse: 0.35014 | train_mae: 0.39601 |  0:01:53s\n"
     ]
    },
    {
     "name": "stdout",
     "output_type": "stream",
     "text": [
      "epoch 50 | loss: 0.26318 | train_mse: 0.34807 | train_mae: 0.39511 |  0:01:56s\n"
     ]
    },
    {
     "name": "stdout",
     "output_type": "stream",
     "text": [
      "epoch 51 | loss: 0.26532 | train_mse: 0.3501  | train_mae: 0.39175 |  0:01:58s\n"
     ]
    },
    {
     "name": "stdout",
     "output_type": "stream",
     "text": [
      "epoch 52 | loss: 0.25871 | train_mse: 0.3423  | train_mae: 0.39386 |  0:02:00s\n"
     ]
    },
    {
     "name": "stdout",
     "output_type": "stream",
     "text": [
      "epoch 53 | loss: 0.26051 | train_mse: 0.33999 | train_mae: 0.39347 |  0:02:03s\n"
     ]
    },
    {
     "name": "stdout",
     "output_type": "stream",
     "text": [
      "epoch 54 | loss: 0.2619  | train_mse: 0.34151 | train_mae: 0.39697 |  0:02:05s\n"
     ]
    },
    {
     "name": "stdout",
     "output_type": "stream",
     "text": [
      "epoch 55 | loss: 0.26148 | train_mse: 0.33755 | train_mae: 0.39148 |  0:02:07s\n"
     ]
    },
    {
     "name": "stdout",
     "output_type": "stream",
     "text": [
      "epoch 56 | loss: 0.25154 | train_mse: 0.3559  | train_mae: 0.39832 |  0:02:09s\n"
     ]
    },
    {
     "name": "stdout",
     "output_type": "stream",
     "text": [
      "epoch 57 | loss: 0.25574 | train_mse: 0.34106 | train_mae: 0.38897 |  0:02:12s\n"
     ]
    },
    {
     "name": "stdout",
     "output_type": "stream",
     "text": [
      "epoch 58 | loss: 0.25716 | train_mse: 0.34395 | train_mae: 0.39459 |  0:02:14s\n"
     ]
    },
    {
     "name": "stdout",
     "output_type": "stream",
     "text": [
      "epoch 59 | loss: 0.25509 | train_mse: 0.34692 | train_mae: 0.38664 |  0:02:16s\n"
     ]
    },
    {
     "name": "stdout",
     "output_type": "stream",
     "text": [
      "epoch 60 | loss: 0.25592 | train_mse: 0.34481 | train_mae: 0.39425 |  0:02:18s\n"
     ]
    },
    {
     "name": "stdout",
     "output_type": "stream",
     "text": [
      "epoch 61 | loss: 0.25516 | train_mse: 0.34659 | train_mae: 0.39281 |  0:02:21s\n"
     ]
    },
    {
     "name": "stdout",
     "output_type": "stream",
     "text": [
      "epoch 62 | loss: 0.25402 | train_mse: 0.34867 | train_mae: 0.395   |  0:02:23s\n"
     ]
    },
    {
     "name": "stdout",
     "output_type": "stream",
     "text": [
      "epoch 63 | loss: 0.25619 | train_mse: 0.33879 | train_mae: 0.39628 |  0:02:25s\n"
     ]
    },
    {
     "name": "stdout",
     "output_type": "stream",
     "text": [
      "epoch 64 | loss: 0.25343 | train_mse: 0.34571 | train_mae: 0.38978 |  0:02:27s\n"
     ]
    },
    {
     "name": "stdout",
     "output_type": "stream",
     "text": [
      "epoch 65 | loss: 0.25242 | train_mse: 0.35036 | train_mae: 0.39764 |  0:02:30s\n"
     ]
    },
    {
     "name": "stdout",
     "output_type": "stream",
     "text": [
      "epoch 66 | loss: 0.25761 | train_mse: 0.33993 | train_mae: 0.38665 |  0:02:32s\n"
     ]
    },
    {
     "name": "stdout",
     "output_type": "stream",
     "text": [
      "epoch 67 | loss: 0.25153 | train_mse: 0.33486 | train_mae: 0.38656 |  0:02:34s\n"
     ]
    },
    {
     "name": "stdout",
     "output_type": "stream",
     "text": [
      "epoch 68 | loss: 0.25095 | train_mse: 0.35303 | train_mae: 0.39279 |  0:02:36s\n"
     ]
    },
    {
     "name": "stdout",
     "output_type": "stream",
     "text": [
      "epoch 69 | loss: 0.25177 | train_mse: 0.3371  | train_mae: 0.38974 |  0:02:39s\n"
     ]
    },
    {
     "name": "stdout",
     "output_type": "stream",
     "text": [
      "epoch 70 | loss: 0.24887 | train_mse: 0.33652 | train_mae: 0.38381 |  0:02:41s\n"
     ]
    },
    {
     "name": "stdout",
     "output_type": "stream",
     "text": [
      "epoch 71 | loss: 0.2529  | train_mse: 0.33936 | train_mae: 0.39057 |  0:02:43s\n"
     ]
    },
    {
     "name": "stdout",
     "output_type": "stream",
     "text": [
      "epoch 72 | loss: 0.25364 | train_mse: 0.32402 | train_mae: 0.38857 |  0:02:46s\n"
     ]
    },
    {
     "name": "stdout",
     "output_type": "stream",
     "text": [
      "epoch 73 | loss: 0.24894 | train_mse: 0.33628 | train_mae: 0.39521 |  0:02:48s\n"
     ]
    },
    {
     "name": "stdout",
     "output_type": "stream",
     "text": [
      "epoch 74 | loss: 0.25243 | train_mse: 0.33185 | train_mae: 0.38879 |  0:02:50s\n"
     ]
    },
    {
     "name": "stdout",
     "output_type": "stream",
     "text": [
      "epoch 75 | loss: 0.25232 | train_mse: 0.34418 | train_mae: 0.38735 |  0:02:53s\n"
     ]
    },
    {
     "name": "stdout",
     "output_type": "stream",
     "text": [
      "epoch 76 | loss: 0.24825 | train_mse: 0.33761 | train_mae: 0.39569 |  0:02:55s\n"
     ]
    },
    {
     "name": "stdout",
     "output_type": "stream",
     "text": [
      "epoch 77 | loss: 0.2523  | train_mse: 0.3296  | train_mae: 0.38923 |  0:02:57s\n"
     ]
    },
    {
     "name": "stdout",
     "output_type": "stream",
     "text": [
      "epoch 78 | loss: 0.24905 | train_mse: 0.33707 | train_mae: 0.38873 |  0:02:59s\n"
     ]
    },
    {
     "name": "stdout",
     "output_type": "stream",
     "text": [
      "epoch 79 | loss: 0.24566 | train_mse: 0.32828 | train_mae: 0.38542 |  0:03:01s\n"
     ]
    },
    {
     "name": "stdout",
     "output_type": "stream",
     "text": [
      "epoch 80 | loss: 0.24467 | train_mse: 0.33323 | train_mae: 0.38632 |  0:03:03s\n"
     ]
    },
    {
     "name": "stdout",
     "output_type": "stream",
     "text": [
      "epoch 81 | loss: 0.24639 | train_mse: 0.35302 | train_mae: 0.38711 |  0:03:06s\n"
     ]
    },
    {
     "name": "stdout",
     "output_type": "stream",
     "text": [
      "epoch 82 | loss: 0.25055 | train_mse: 0.33778 | train_mae: 0.3947  |  0:03:08s\n"
     ]
    },
    {
     "name": "stdout",
     "output_type": "stream",
     "text": [
      "epoch 83 | loss: 0.24731 | train_mse: 0.33268 | train_mae: 0.38287 |  0:03:10s\n"
     ]
    },
    {
     "name": "stdout",
     "output_type": "stream",
     "text": [
      "epoch 84 | loss: 0.24611 | train_mse: 0.32924 | train_mae: 0.38461 |  0:03:12s\n"
     ]
    },
    {
     "name": "stdout",
     "output_type": "stream",
     "text": [
      "epoch 85 | loss: 0.24604 | train_mse: 0.34852 | train_mae: 0.39278 |  0:03:15s\n"
     ]
    },
    {
     "name": "stdout",
     "output_type": "stream",
     "text": [
      "epoch 86 | loss: 0.24494 | train_mse: 0.32157 | train_mae: 0.38407 |  0:03:17s\n"
     ]
    },
    {
     "name": "stdout",
     "output_type": "stream",
     "text": [
      "epoch 87 | loss: 0.24541 | train_mse: 0.32822 | train_mae: 0.38972 |  0:03:19s\n"
     ]
    },
    {
     "name": "stdout",
     "output_type": "stream",
     "text": [
      "epoch 88 | loss: 0.24559 | train_mse: 0.32762 | train_mae: 0.38317 |  0:03:21s\n"
     ]
    },
    {
     "name": "stdout",
     "output_type": "stream",
     "text": [
      "epoch 89 | loss: 0.24828 | train_mse: 0.32561 | train_mae: 0.38263 |  0:03:24s\n"
     ]
    },
    {
     "name": "stdout",
     "output_type": "stream",
     "text": [
      "epoch 90 | loss: 0.24637 | train_mse: 0.31757 | train_mae: 0.38203 |  0:03:26s\n"
     ]
    },
    {
     "name": "stdout",
     "output_type": "stream",
     "text": [
      "epoch 91 | loss: 0.245   | train_mse: 0.32692 | train_mae: 0.38615 |  0:03:28s\n"
     ]
    },
    {
     "name": "stdout",
     "output_type": "stream",
     "text": [
      "epoch 92 | loss: 0.24433 | train_mse: 0.33664 | train_mae: 0.37865 |  0:03:30s\n"
     ]
    },
    {
     "name": "stdout",
     "output_type": "stream",
     "text": [
      "epoch 93 | loss: 0.24843 | train_mse: 0.32769 | train_mae: 0.38847 |  0:03:33s\n"
     ]
    },
    {
     "name": "stdout",
     "output_type": "stream",
     "text": [
      "epoch 94 | loss: 0.24363 | train_mse: 0.33204 | train_mae: 0.38256 |  0:03:35s\n"
     ]
    },
    {
     "name": "stdout",
     "output_type": "stream",
     "text": [
      "epoch 95 | loss: 0.24475 | train_mse: 0.333   | train_mae: 0.37879 |  0:03:37s\n"
     ]
    },
    {
     "name": "stdout",
     "output_type": "stream",
     "text": [
      "epoch 96 | loss: 0.24136 | train_mse: 0.33034 | train_mae: 0.38204 |  0:03:39s\n"
     ]
    },
    {
     "name": "stdout",
     "output_type": "stream",
     "text": [
      "epoch 97 | loss: 0.24301 | train_mse: 0.32696 | train_mae: 0.3886  |  0:03:42s\n"
     ]
    },
    {
     "name": "stdout",
     "output_type": "stream",
     "text": [
      "epoch 98 | loss: 0.24162 | train_mse: 0.32544 | train_mae: 0.39093 |  0:03:44s\n"
     ]
    },
    {
     "name": "stdout",
     "output_type": "stream",
     "text": [
      "epoch 99 | loss: 0.24481 | train_mse: 0.32586 | train_mae: 0.38339 |  0:03:47s\n"
     ]
    },
    {
     "name": "stdout",
     "output_type": "stream",
     "text": [
      "epoch 100| loss: 0.24026 | train_mse: 0.34361 | train_mae: 0.38927 |  0:03:49s\n"
     ]
    },
    {
     "name": "stdout",
     "output_type": "stream",
     "text": [
      "epoch 101| loss: 0.24187 | train_mse: 0.32772 | train_mae: 0.38399 |  0:03:51s\n"
     ]
    },
    {
     "name": "stdout",
     "output_type": "stream",
     "text": [
      "epoch 102| loss: 0.24207 | train_mse: 0.32542 | train_mae: 0.38647 |  0:03:53s\n"
     ]
    },
    {
     "name": "stdout",
     "output_type": "stream",
     "text": [
      "epoch 103| loss: 0.243   | train_mse: 0.32658 | train_mae: 0.37865 |  0:03:56s\n"
     ]
    },
    {
     "name": "stdout",
     "output_type": "stream",
     "text": [
      "epoch 104| loss: 0.24104 | train_mse: 0.32847 | train_mae: 0.38145 |  0:03:58s\n"
     ]
    },
    {
     "name": "stdout",
     "output_type": "stream",
     "text": [
      "epoch 105| loss: 0.24589 | train_mse: 0.32855 | train_mae: 0.37758 |  0:04:00s\n"
     ]
    },
    {
     "name": "stdout",
     "output_type": "stream",
     "text": [
      "epoch 106| loss: 0.24177 | train_mse: 0.33001 | train_mae: 0.38106 |  0:04:02s\n"
     ]
    },
    {
     "name": "stdout",
     "output_type": "stream",
     "text": [
      "epoch 107| loss: 0.24198 | train_mse: 0.34191 | train_mae: 0.3895  |  0:04:04s\n"
     ]
    },
    {
     "name": "stdout",
     "output_type": "stream",
     "text": [
      "epoch 108| loss: 0.24278 | train_mse: 0.33362 | train_mae: 0.38847 |  0:04:07s\n"
     ]
    },
    {
     "name": "stdout",
     "output_type": "stream",
     "text": [
      "epoch 109| loss: 0.24329 | train_mse: 0.32309 | train_mae: 0.38496 |  0:04:09s\n"
     ]
    },
    {
     "name": "stdout",
     "output_type": "stream",
     "text": [
      "epoch 110| loss: 0.24118 | train_mse: 0.34005 | train_mae: 0.3852  |  0:04:11s\n"
     ]
    },
    {
     "name": "stdout",
     "output_type": "stream",
     "text": [
      "epoch 111| loss: 0.24056 | train_mse: 0.33229 | train_mae: 0.38639 |  0:04:13s\n"
     ]
    },
    {
     "name": "stdout",
     "output_type": "stream",
     "text": [
      "epoch 112| loss: 0.24493 | train_mse: 0.34093 | train_mae: 0.38736 |  0:04:15s\n"
     ]
    },
    {
     "name": "stdout",
     "output_type": "stream",
     "text": [
      "epoch 113| loss: 0.2401  | train_mse: 0.3253  | train_mae: 0.37773 |  0:04:18s\n"
     ]
    },
    {
     "name": "stdout",
     "output_type": "stream",
     "text": [
      "epoch 114| loss: 0.24218 | train_mse: 0.32516 | train_mae: 0.38402 |  0:04:20s\n"
     ]
    },
    {
     "name": "stdout",
     "output_type": "stream",
     "text": [
      "epoch 115| loss: 0.23936 | train_mse: 0.34109 | train_mae: 0.38324 |  0:04:22s\n"
     ]
    },
    {
     "name": "stdout",
     "output_type": "stream",
     "text": [
      "epoch 116| loss: 0.23831 | train_mse: 0.32155 | train_mae: 0.37666 |  0:04:25s\n"
     ]
    },
    {
     "name": "stdout",
     "output_type": "stream",
     "text": [
      "epoch 117| loss: 0.2387  | train_mse: 0.33672 | train_mae: 0.38545 |  0:04:27s\n"
     ]
    },
    {
     "name": "stdout",
     "output_type": "stream",
     "text": [
      "epoch 118| loss: 0.23895 | train_mse: 0.32929 | train_mae: 0.38496 |  0:04:29s\n"
     ]
    },
    {
     "name": "stdout",
     "output_type": "stream",
     "text": [
      "epoch 119| loss: 0.23546 | train_mse: 0.3388  | train_mae: 0.39062 |  0:04:32s\n"
     ]
    },
    {
     "name": "stdout",
     "output_type": "stream",
     "text": [
      "epoch 120| loss: 0.23467 | train_mse: 0.33956 | train_mae: 0.38407 |  0:04:34s\n"
     ]
    },
    {
     "name": "stdout",
     "output_type": "stream",
     "text": [
      "epoch 121| loss: 0.24155 | train_mse: 0.33783 | train_mae: 0.38394 |  0:04:36s\n"
     ]
    },
    {
     "name": "stdout",
     "output_type": "stream",
     "text": [
      "epoch 122| loss: 0.24089 | train_mse: 0.36101 | train_mae: 0.39004 |  0:04:39s\n"
     ]
    },
    {
     "name": "stdout",
     "output_type": "stream",
     "text": [
      "epoch 123| loss: 0.23661 | train_mse: 0.33086 | train_mae: 0.38134 |  0:04:41s\n"
     ]
    },
    {
     "name": "stdout",
     "output_type": "stream",
     "text": [
      "epoch 124| loss: 0.23617 | train_mse: 0.33315 | train_mae: 0.37931 |  0:04:43s\n"
     ]
    },
    {
     "name": "stdout",
     "output_type": "stream",
     "text": [
      "epoch 125| loss: 0.23859 | train_mse: 0.33161 | train_mae: 0.37998 |  0:04:45s\n"
     ]
    },
    {
     "name": "stdout",
     "output_type": "stream",
     "text": [
      "epoch 126| loss: 0.23964 | train_mse: 0.33697 | train_mae: 0.38119 |  0:04:47s\n"
     ]
    },
    {
     "name": "stdout",
     "output_type": "stream",
     "text": [
      "epoch 127| loss: 0.23517 | train_mse: 0.33823 | train_mae: 0.38519 |  0:04:50s\n"
     ]
    },
    {
     "name": "stdout",
     "output_type": "stream",
     "text": [
      "epoch 128| loss: 0.23583 | train_mse: 0.32371 | train_mae: 0.37643 |  0:04:52s\n"
     ]
    },
    {
     "name": "stdout",
     "output_type": "stream",
     "text": [
      "epoch 129| loss: 0.23819 | train_mse: 0.33388 | train_mae: 0.38095 |  0:04:55s\n"
     ]
    },
    {
     "name": "stdout",
     "output_type": "stream",
     "text": [
      "epoch 130| loss: 0.23775 | train_mse: 0.31968 | train_mae: 0.38187 |  0:04:57s\n"
     ]
    },
    {
     "name": "stdout",
     "output_type": "stream",
     "text": [
      "epoch 131| loss: 0.23455 | train_mse: 0.3321  | train_mae: 0.38184 |  0:04:59s\n"
     ]
    },
    {
     "name": "stdout",
     "output_type": "stream",
     "text": [
      "epoch 132| loss: 0.23485 | train_mse: 0.32828 | train_mae: 0.38144 |  0:05:01s\n"
     ]
    },
    {
     "name": "stdout",
     "output_type": "stream",
     "text": [
      "epoch 133| loss: 0.23344 | train_mse: 0.33054 | train_mae: 0.38421 |  0:05:04s\n"
     ]
    },
    {
     "name": "stdout",
     "output_type": "stream",
     "text": [
      "epoch 134| loss: 0.23592 | train_mse: 0.32231 | train_mae: 0.38249 |  0:05:06s\n"
     ]
    },
    {
     "name": "stdout",
     "output_type": "stream",
     "text": [
      "epoch 135| loss: 0.23343 | train_mse: 0.32109 | train_mae: 0.37976 |  0:05:08s\n"
     ]
    },
    {
     "name": "stdout",
     "output_type": "stream",
     "text": [
      "epoch 136| loss: 0.23654 | train_mse: 0.32077 | train_mae: 0.38001 |  0:05:10s\n"
     ]
    },
    {
     "name": "stdout",
     "output_type": "stream",
     "text": [
      "epoch 137| loss: 0.23492 | train_mse: 0.33104 | train_mae: 0.38377 |  0:05:13s\n"
     ]
    },
    {
     "name": "stdout",
     "output_type": "stream",
     "text": [
      "epoch 138| loss: 0.23106 | train_mse: 0.32802 | train_mae: 0.37664 |  0:05:15s\n"
     ]
    },
    {
     "name": "stdout",
     "output_type": "stream",
     "text": [
      "epoch 139| loss: 0.23737 | train_mse: 0.32156 | train_mae: 0.38258 |  0:05:17s\n"
     ]
    },
    {
     "name": "stdout",
     "output_type": "stream",
     "text": [
      "epoch 140| loss: 0.23729 | train_mse: 0.32551 | train_mae: 0.3794  |  0:05:20s\n"
     ]
    },
    {
     "name": "stdout",
     "output_type": "stream",
     "text": [
      "epoch 141| loss: 0.23461 | train_mse: 0.32014 | train_mae: 0.37373 |  0:05:22s\n"
     ]
    },
    {
     "name": "stdout",
     "output_type": "stream",
     "text": [
      "epoch 142| loss: 0.23437 | train_mse: 0.33276 | train_mae: 0.38511 |  0:05:24s\n"
     ]
    },
    {
     "name": "stdout",
     "output_type": "stream",
     "text": [
      "epoch 143| loss: 0.23108 | train_mse: 0.32657 | train_mae: 0.37907 |  0:05:26s\n"
     ]
    },
    {
     "name": "stdout",
     "output_type": "stream",
     "text": [
      "epoch 144| loss: 0.23353 | train_mse: 0.32091 | train_mae: 0.38367 |  0:05:28s\n"
     ]
    },
    {
     "name": "stdout",
     "output_type": "stream",
     "text": [
      "epoch 145| loss: 0.23566 | train_mse: 0.31997 | train_mae: 0.3753  |  0:05:31s\n"
     ]
    },
    {
     "name": "stdout",
     "output_type": "stream",
     "text": [
      "epoch 146| loss: 0.23346 | train_mse: 0.32397 | train_mae: 0.37471 |  0:05:33s\n"
     ]
    },
    {
     "name": "stdout",
     "output_type": "stream",
     "text": [
      "epoch 147| loss: 0.23811 | train_mse: 0.32968 | train_mae: 0.38261 |  0:05:35s\n"
     ]
    },
    {
     "name": "stdout",
     "output_type": "stream",
     "text": [
      "epoch 148| loss: 0.23681 | train_mse: 0.32985 | train_mae: 0.37748 |  0:05:37s\n"
     ]
    },
    {
     "name": "stdout",
     "output_type": "stream",
     "text": [
      "epoch 149| loss: 0.23108 | train_mse: 0.33433 | train_mae: 0.39402 |  0:05:40s\n"
     ]
    },
    {
     "name": "stdout",
     "output_type": "stream",
     "text": [
      "epoch 150| loss: 0.2317  | train_mse: 0.3208  | train_mae: 0.37689 |  0:05:42s\n"
     ]
    },
    {
     "name": "stdout",
     "output_type": "stream",
     "text": [
      "epoch 151| loss: 0.23285 | train_mse: 0.31931 | train_mae: 0.3815  |  0:05:44s\n"
     ]
    },
    {
     "name": "stdout",
     "output_type": "stream",
     "text": [
      "epoch 152| loss: 0.22963 | train_mse: 0.32033 | train_mae: 0.37587 |  0:05:46s\n"
     ]
    },
    {
     "name": "stdout",
     "output_type": "stream",
     "text": [
      "epoch 153| loss: 0.2303  | train_mse: 0.32477 | train_mae: 0.37963 |  0:05:49s\n"
     ]
    },
    {
     "name": "stdout",
     "output_type": "stream",
     "text": [
      "epoch 154| loss: 0.2345  | train_mse: 0.32629 | train_mae: 0.37741 |  0:05:51s\n"
     ]
    },
    {
     "name": "stdout",
     "output_type": "stream",
     "text": [
      "epoch 155| loss: 0.23776 | train_mse: 0.32712 | train_mae: 0.37237 |  0:05:53s\n"
     ]
    },
    {
     "name": "stdout",
     "output_type": "stream",
     "text": [
      "epoch 156| loss: 0.22987 | train_mse: 0.32957 | train_mae: 0.37941 |  0:05:56s\n"
     ]
    },
    {
     "name": "stdout",
     "output_type": "stream",
     "text": [
      "epoch 157| loss: 0.23056 | train_mse: 0.32667 | train_mae: 0.37714 |  0:05:58s\n"
     ]
    },
    {
     "name": "stdout",
     "output_type": "stream",
     "text": [
      "epoch 158| loss: 0.23195 | train_mse: 0.32139 | train_mae: 0.37768 |  0:06:00s\n"
     ]
    },
    {
     "name": "stdout",
     "output_type": "stream",
     "text": [
      "epoch 159| loss: 0.23126 | train_mse: 0.32502 | train_mae: 0.37965 |  0:06:02s\n"
     ]
    },
    {
     "name": "stdout",
     "output_type": "stream",
     "text": [
      "epoch 160| loss: 0.2333  | train_mse: 0.32595 | train_mae: 0.37571 |  0:06:04s\n"
     ]
    },
    {
     "name": "stdout",
     "output_type": "stream",
     "text": [
      "epoch 161| loss: 0.23728 | train_mse: 0.32707 | train_mae: 0.37656 |  0:06:06s\n"
     ]
    },
    {
     "name": "stdout",
     "output_type": "stream",
     "text": [
      "epoch 162| loss: 0.22768 | train_mse: 0.32293 | train_mae: 0.37811 |  0:06:09s\n"
     ]
    },
    {
     "name": "stdout",
     "output_type": "stream",
     "text": [
      "epoch 163| loss: 0.22832 | train_mse: 0.33471 | train_mae: 0.382   |  0:06:11s\n"
     ]
    },
    {
     "name": "stdout",
     "output_type": "stream",
     "text": [
      "epoch 164| loss: 0.2326  | train_mse: 0.30807 | train_mae: 0.37395 |  0:06:13s\n"
     ]
    },
    {
     "name": "stdout",
     "output_type": "stream",
     "text": [
      "epoch 165| loss: 0.22972 | train_mse: 0.32467 | train_mae: 0.37136 |  0:06:15s\n"
     ]
    },
    {
     "name": "stdout",
     "output_type": "stream",
     "text": [
      "epoch 166| loss: 0.22749 | train_mse: 0.31807 | train_mae: 0.37439 |  0:06:18s\n"
     ]
    },
    {
     "name": "stdout",
     "output_type": "stream",
     "text": [
      "epoch 167| loss: 0.23293 | train_mse: 0.31687 | train_mae: 0.37926 |  0:06:20s\n"
     ]
    },
    {
     "name": "stdout",
     "output_type": "stream",
     "text": [
      "epoch 168| loss: 0.23493 | train_mse: 0.34814 | train_mae: 0.38209 |  0:06:22s\n"
     ]
    },
    {
     "name": "stdout",
     "output_type": "stream",
     "text": [
      "epoch 169| loss: 0.22926 | train_mse: 0.31992 | train_mae: 0.37523 |  0:06:24s\n"
     ]
    },
    {
     "name": "stdout",
     "output_type": "stream",
     "text": [
      "epoch 170| loss: 0.22821 | train_mse: 0.3168  | train_mae: 0.37609 |  0:06:27s\n"
     ]
    },
    {
     "name": "stdout",
     "output_type": "stream",
     "text": [
      "epoch 171| loss: 0.2305  | train_mse: 0.32362 | train_mae: 0.37942 |  0:06:29s\n"
     ]
    },
    {
     "name": "stdout",
     "output_type": "stream",
     "text": [
      "epoch 172| loss: 0.23232 | train_mse: 0.30887 | train_mae: 0.37216 |  0:06:31s\n"
     ]
    },
    {
     "name": "stdout",
     "output_type": "stream",
     "text": [
      "epoch 173| loss: 0.23003 | train_mse: 0.29439 | train_mae: 0.37074 |  0:06:34s\n"
     ]
    },
    {
     "name": "stdout",
     "output_type": "stream",
     "text": [
      "epoch 174| loss: 0.23133 | train_mse: 0.32543 | train_mae: 0.38613 |  0:06:36s\n"
     ]
    },
    {
     "name": "stdout",
     "output_type": "stream",
     "text": [
      "epoch 175| loss: 0.23446 | train_mse: 0.30767 | train_mae: 0.36816 |  0:06:38s\n"
     ]
    },
    {
     "name": "stdout",
     "output_type": "stream",
     "text": [
      "epoch 176| loss: 0.23054 | train_mse: 0.31133 | train_mae: 0.37366 |  0:06:40s\n"
     ]
    },
    {
     "name": "stdout",
     "output_type": "stream",
     "text": [
      "epoch 177| loss: 0.23062 | train_mse: 0.32115 | train_mae: 0.37628 |  0:06:42s\n"
     ]
    },
    {
     "name": "stdout",
     "output_type": "stream",
     "text": [
      "epoch 178| loss: 0.22368 | train_mse: 0.30975 | train_mae: 0.37236 |  0:06:45s\n"
     ]
    },
    {
     "name": "stdout",
     "output_type": "stream",
     "text": [
      "epoch 179| loss: 0.22624 | train_mse: 0.31811 | train_mae: 0.37198 |  0:06:47s\n"
     ]
    },
    {
     "name": "stdout",
     "output_type": "stream",
     "text": [
      "epoch 180| loss: 0.22809 | train_mse: 0.32179 | train_mae: 0.3747  |  0:06:49s\n"
     ]
    },
    {
     "name": "stdout",
     "output_type": "stream",
     "text": [
      "epoch 181| loss: 0.2277  | train_mse: 0.30424 | train_mae: 0.36993 |  0:06:52s\n"
     ]
    },
    {
     "name": "stdout",
     "output_type": "stream",
     "text": [
      "epoch 182| loss: 0.22946 | train_mse: 0.31117 | train_mae: 0.36528 |  0:06:54s\n"
     ]
    },
    {
     "name": "stdout",
     "output_type": "stream",
     "text": [
      "epoch 183| loss: 0.23154 | train_mse: 0.32411 | train_mae: 0.37535 |  0:06:57s\n"
     ]
    },
    {
     "name": "stdout",
     "output_type": "stream",
     "text": [
      "epoch 184| loss: 0.23221 | train_mse: 0.31362 | train_mae: 0.37297 |  0:06:59s\n"
     ]
    },
    {
     "name": "stdout",
     "output_type": "stream",
     "text": [
      "epoch 185| loss: 0.22578 | train_mse: 0.30048 | train_mae: 0.36545 |  0:07:01s\n"
     ]
    },
    {
     "name": "stdout",
     "output_type": "stream",
     "text": [
      "epoch 186| loss: 0.22741 | train_mse: 0.31556 | train_mae: 0.36678 |  0:07:03s\n"
     ]
    },
    {
     "name": "stdout",
     "output_type": "stream",
     "text": [
      "epoch 187| loss: 0.23017 | train_mse: 0.30338 | train_mae: 0.36822 |  0:07:06s\n"
     ]
    },
    {
     "name": "stdout",
     "output_type": "stream",
     "text": [
      "epoch 188| loss: 0.22871 | train_mse: 0.31193 | train_mae: 0.3732  |  0:07:08s\n"
     ]
    },
    {
     "name": "stdout",
     "output_type": "stream",
     "text": [
      "epoch 189| loss: 0.22982 | train_mse: 0.31763 | train_mae: 0.37017 |  0:07:10s\n"
     ]
    },
    {
     "name": "stdout",
     "output_type": "stream",
     "text": [
      "epoch 190| loss: 0.22785 | train_mse: 0.30993 | train_mae: 0.37323 |  0:07:12s\n"
     ]
    },
    {
     "name": "stdout",
     "output_type": "stream",
     "text": [
      "epoch 191| loss: 0.22761 | train_mse: 0.29817 | train_mae: 0.37377 |  0:07:15s\n"
     ]
    },
    {
     "name": "stdout",
     "output_type": "stream",
     "text": [
      "epoch 192| loss: 0.22743 | train_mse: 0.31318 | train_mae: 0.372   |  0:07:17s\n"
     ]
    },
    {
     "name": "stdout",
     "output_type": "stream",
     "text": [
      "epoch 193| loss: 0.22457 | train_mse: 0.33735 | train_mae: 0.38288 |  0:07:19s\n"
     ]
    },
    {
     "name": "stdout",
     "output_type": "stream",
     "text": [
      "epoch 194| loss: 0.22846 | train_mse: 0.31198 | train_mae: 0.37209 |  0:07:21s\n"
     ]
    },
    {
     "name": "stdout",
     "output_type": "stream",
     "text": [
      "epoch 195| loss: 0.22806 | train_mse: 0.32059 | train_mae: 0.37958 |  0:07:23s\n"
     ]
    },
    {
     "name": "stdout",
     "output_type": "stream",
     "text": [
      "epoch 196| loss: 0.22817 | train_mse: 0.31954 | train_mae: 0.37114 |  0:07:26s\n"
     ]
    },
    {
     "name": "stdout",
     "output_type": "stream",
     "text": [
      "epoch 197| loss: 0.23048 | train_mse: 0.31309 | train_mae: 0.37557 |  0:07:28s\n"
     ]
    },
    {
     "name": "stdout",
     "output_type": "stream",
     "text": [
      "epoch 198| loss: 0.22588 | train_mse: 0.31309 | train_mae: 0.36976 |  0:07:30s\n"
     ]
    },
    {
     "name": "stdout",
     "output_type": "stream",
     "text": [
      "epoch 199| loss: 0.22437 | train_mse: 0.33063 | train_mae: 0.37348 |  0:07:33s\n"
     ]
    },
    {
     "name": "stdout",
     "output_type": "stream",
     "text": [
      "epoch 200| loss: 0.23009 | train_mse: 0.31078 | train_mae: 0.36386 |  0:07:35s\n"
     ]
    },
    {
     "name": "stdout",
     "output_type": "stream",
     "text": [
      "epoch 201| loss: 0.2258  | train_mse: 0.31365 | train_mae: 0.36637 |  0:07:37s\n"
     ]
    },
    {
     "name": "stdout",
     "output_type": "stream",
     "text": [
      "epoch 202| loss: 0.22802 | train_mse: 0.31413 | train_mae: 0.37011 |  0:07:39s\n"
     ]
    },
    {
     "name": "stdout",
     "output_type": "stream",
     "text": [
      "epoch 203| loss: 0.23077 | train_mse: 0.33121 | train_mae: 0.37171 |  0:07:42s\n"
     ]
    },
    {
     "name": "stdout",
     "output_type": "stream",
     "text": [
      "epoch 204| loss: 0.22943 | train_mse: 0.30459 | train_mae: 0.36703 |  0:07:44s\n"
     ]
    },
    {
     "name": "stdout",
     "output_type": "stream",
     "text": [
      "epoch 205| loss: 0.22632 | train_mse: 0.31876 | train_mae: 0.36931 |  0:07:46s\n"
     ]
    },
    {
     "name": "stdout",
     "output_type": "stream",
     "text": [
      "epoch 206| loss: 0.22571 | train_mse: 0.31583 | train_mae: 0.36825 |  0:07:48s\n"
     ]
    },
    {
     "name": "stdout",
     "output_type": "stream",
     "text": [
      "epoch 207| loss: 0.22629 | train_mse: 0.31064 | train_mae: 0.36605 |  0:07:51s\n"
     ]
    },
    {
     "name": "stdout",
     "output_type": "stream",
     "text": [
      "epoch 208| loss: 0.22531 | train_mse: 0.32005 | train_mae: 0.37327 |  0:07:53s\n"
     ]
    },
    {
     "name": "stdout",
     "output_type": "stream",
     "text": [
      "epoch 209| loss: 0.22581 | train_mse: 0.32806 | train_mae: 0.3764  |  0:07:55s\n"
     ]
    },
    {
     "name": "stdout",
     "output_type": "stream",
     "text": [
      "epoch 210| loss: 0.22476 | train_mse: 0.3178  | train_mae: 0.3726  |  0:07:57s\n"
     ]
    },
    {
     "name": "stdout",
     "output_type": "stream",
     "text": [
      "epoch 211| loss: 0.22823 | train_mse: 0.30887 | train_mae: 0.36979 |  0:07:59s\n"
     ]
    },
    {
     "name": "stdout",
     "output_type": "stream",
     "text": [
      "epoch 212| loss: 0.22429 | train_mse: 0.32292 | train_mae: 0.37187 |  0:08:02s\n"
     ]
    },
    {
     "name": "stdout",
     "output_type": "stream",
     "text": [
      "epoch 213| loss: 0.22668 | train_mse: 0.32086 | train_mae: 0.36872 |  0:08:04s\n"
     ]
    },
    {
     "name": "stdout",
     "output_type": "stream",
     "text": [
      "epoch 214| loss: 0.22824 | train_mse: 0.3191  | train_mae: 0.37497 |  0:08:06s\n"
     ]
    },
    {
     "name": "stdout",
     "output_type": "stream",
     "text": [
      "epoch 215| loss: 0.22643 | train_mse: 0.30837 | train_mae: 0.36892 |  0:08:09s\n"
     ]
    },
    {
     "name": "stdout",
     "output_type": "stream",
     "text": [
      "epoch 216| loss: 0.22857 | train_mse: 0.32366 | train_mae: 0.37042 |  0:08:11s\n"
     ]
    },
    {
     "name": "stdout",
     "output_type": "stream",
     "text": [
      "epoch 217| loss: 0.22049 | train_mse: 0.31619 | train_mae: 0.37329 |  0:08:13s\n"
     ]
    },
    {
     "name": "stdout",
     "output_type": "stream",
     "text": [
      "epoch 218| loss: 0.22644 | train_mse: 0.30707 | train_mae: 0.36778 |  0:08:16s\n"
     ]
    },
    {
     "name": "stdout",
     "output_type": "stream",
     "text": [
      "epoch 219| loss: 0.22458 | train_mse: 0.32024 | train_mae: 0.36612 |  0:08:18s\n"
     ]
    },
    {
     "name": "stdout",
     "output_type": "stream",
     "text": [
      "epoch 220| loss: 0.2212  | train_mse: 0.29641 | train_mae: 0.36448 |  0:08:20s\n"
     ]
    },
    {
     "name": "stdout",
     "output_type": "stream",
     "text": [
      "epoch 221| loss: 0.2225  | train_mse: 0.31056 | train_mae: 0.36727 |  0:08:22s\n"
     ]
    },
    {
     "name": "stdout",
     "output_type": "stream",
     "text": [
      "epoch 222| loss: 0.2218  | train_mse: 0.31625 | train_mae: 0.36703 |  0:08:25s\n"
     ]
    },
    {
     "name": "stdout",
     "output_type": "stream",
     "text": [
      "epoch 223| loss: 0.22292 | train_mse: 0.30967 | train_mae: 0.36756 |  0:08:27s\n"
     ]
    },
    {
     "name": "stdout",
     "output_type": "stream",
     "text": [
      "epoch 224| loss: 0.22304 | train_mse: 0.31238 | train_mae: 0.36774 |  0:08:29s\n"
     ]
    },
    {
     "name": "stdout",
     "output_type": "stream",
     "text": [
      "epoch 225| loss: 0.22493 | train_mse: 0.30467 | train_mae: 0.37271 |  0:08:31s\n"
     ]
    },
    {
     "name": "stdout",
     "output_type": "stream",
     "text": [
      "epoch 226| loss: 0.22148 | train_mse: 0.31432 | train_mae: 0.37008 |  0:08:34s\n"
     ]
    },
    {
     "name": "stdout",
     "output_type": "stream",
     "text": [
      "epoch 227| loss: 0.22755 | train_mse: 0.31506 | train_mae: 0.36886 |  0:08:36s\n"
     ]
    },
    {
     "name": "stdout",
     "output_type": "stream",
     "text": [
      "epoch 228| loss: 0.22193 | train_mse: 0.30311 | train_mae: 0.36555 |  0:08:38s\n"
     ]
    },
    {
     "name": "stdout",
     "output_type": "stream",
     "text": [
      "epoch 229| loss: 0.22466 | train_mse: 0.32685 | train_mae: 0.37165 |  0:08:40s\n"
     ]
    },
    {
     "name": "stdout",
     "output_type": "stream",
     "text": [
      "epoch 230| loss: 0.21966 | train_mse: 0.30403 | train_mae: 0.36307 |  0:08:43s\n"
     ]
    },
    {
     "name": "stdout",
     "output_type": "stream",
     "text": [
      "epoch 231| loss: 0.22666 | train_mse: 0.32411 | train_mae: 0.37052 |  0:08:45s\n"
     ]
    },
    {
     "name": "stdout",
     "output_type": "stream",
     "text": [
      "epoch 232| loss: 0.22633 | train_mse: 0.314   | train_mae: 0.36417 |  0:08:47s\n"
     ]
    },
    {
     "name": "stdout",
     "output_type": "stream",
     "text": [
      "epoch 233| loss: 0.22283 | train_mse: 0.30964 | train_mae: 0.36686 |  0:08:49s\n"
     ]
    },
    {
     "name": "stdout",
     "output_type": "stream",
     "text": [
      "epoch 234| loss: 0.2235  | train_mse: 0.30872 | train_mae: 0.36512 |  0:08:52s\n"
     ]
    },
    {
     "name": "stdout",
     "output_type": "stream",
     "text": [
      "epoch 235| loss: 0.22125 | train_mse: 0.30649 | train_mae: 0.36521 |  0:08:54s\n"
     ]
    },
    {
     "name": "stdout",
     "output_type": "stream",
     "text": [
      "epoch 236| loss: 0.22196 | train_mse: 0.30713 | train_mae: 0.3654  |  0:08:56s\n"
     ]
    },
    {
     "name": "stdout",
     "output_type": "stream",
     "text": [
      "epoch 237| loss: 0.21791 | train_mse: 0.30652 | train_mae: 0.36241 |  0:08:58s\n"
     ]
    },
    {
     "name": "stdout",
     "output_type": "stream",
     "text": [
      "epoch 238| loss: 0.22265 | train_mse: 0.31227 | train_mae: 0.36825 |  0:09:01s\n"
     ]
    },
    {
     "name": "stdout",
     "output_type": "stream",
     "text": [
      "epoch 239| loss: 0.22099 | train_mse: 0.31545 | train_mae: 0.36518 |  0:09:03s\n"
     ]
    },
    {
     "name": "stdout",
     "output_type": "stream",
     "text": [
      "epoch 240| loss: 0.22093 | train_mse: 0.32024 | train_mae: 0.37327 |  0:09:05s\n"
     ]
    },
    {
     "name": "stdout",
     "output_type": "stream",
     "text": [
      "epoch 241| loss: 0.22275 | train_mse: 0.32244 | train_mae: 0.37139 |  0:09:07s\n"
     ]
    },
    {
     "name": "stdout",
     "output_type": "stream",
     "text": [
      "epoch 242| loss: 0.21981 | train_mse: 0.31283 | train_mae: 0.36838 |  0:09:10s\n"
     ]
    },
    {
     "name": "stdout",
     "output_type": "stream",
     "text": [
      "epoch 243| loss: 0.22006 | train_mse: 0.29856 | train_mae: 0.36298 |  0:09:12s\n"
     ]
    },
    {
     "name": "stdout",
     "output_type": "stream",
     "text": [
      "epoch 244| loss: 0.22141 | train_mse: 0.30475 | train_mae: 0.36592 |  0:09:14s\n"
     ]
    },
    {
     "name": "stdout",
     "output_type": "stream",
     "text": [
      "epoch 245| loss: 0.22235 | train_mse: 0.30849 | train_mae: 0.36565 |  0:09:16s\n"
     ]
    },
    {
     "name": "stdout",
     "output_type": "stream",
     "text": [
      "epoch 246| loss: 0.22318 | train_mse: 0.3096  | train_mae: 0.36556 |  0:09:19s\n"
     ]
    },
    {
     "name": "stdout",
     "output_type": "stream",
     "text": [
      "epoch 247| loss: 0.22008 | train_mse: 0.32843 | train_mae: 0.37398 |  0:09:21s\n"
     ]
    },
    {
     "name": "stdout",
     "output_type": "stream",
     "text": [
      "epoch 248| loss: 0.21939 | train_mse: 0.31213 | train_mae: 0.3675  |  0:09:23s\n"
     ]
    },
    {
     "name": "stdout",
     "output_type": "stream",
     "text": [
      "epoch 249| loss: 0.2217  | train_mse: 0.30586 | train_mae: 0.3678  |  0:09:25s\n"
     ]
    },
    {
     "name": "stdout",
     "output_type": "stream",
     "text": [
      "epoch 250| loss: 0.21913 | train_mse: 0.30296 | train_mae: 0.3605  |  0:09:28s\n"
     ]
    },
    {
     "name": "stdout",
     "output_type": "stream",
     "text": [
      "epoch 251| loss: 0.22117 | train_mse: 0.32736 | train_mae: 0.37348 |  0:09:30s\n"
     ]
    },
    {
     "name": "stdout",
     "output_type": "stream",
     "text": [
      "epoch 252| loss: 0.2158  | train_mse: 0.317   | train_mae: 0.37321 |  0:09:32s\n"
     ]
    },
    {
     "name": "stdout",
     "output_type": "stream",
     "text": [
      "epoch 253| loss: 0.2207  | train_mse: 0.31333 | train_mae: 0.36466 |  0:09:35s\n"
     ]
    },
    {
     "name": "stdout",
     "output_type": "stream",
     "text": [
      "epoch 254| loss: 0.22507 | train_mse: 0.30956 | train_mae: 0.36556 |  0:09:37s\n"
     ]
    },
    {
     "name": "stdout",
     "output_type": "stream",
     "text": [
      "epoch 255| loss: 0.22274 | train_mse: 0.32124 | train_mae: 0.37268 |  0:09:39s\n"
     ]
    },
    {
     "name": "stdout",
     "output_type": "stream",
     "text": [
      "epoch 256| loss: 0.22147 | train_mse: 0.32054 | train_mae: 0.36764 |  0:09:42s\n"
     ]
    },
    {
     "name": "stdout",
     "output_type": "stream",
     "text": [
      "epoch 257| loss: 0.21854 | train_mse: 0.30792 | train_mae: 0.36897 |  0:09:44s\n"
     ]
    },
    {
     "name": "stdout",
     "output_type": "stream",
     "text": [
      "epoch 258| loss: 0.21707 | train_mse: 0.31745 | train_mae: 0.3693  |  0:09:46s\n"
     ]
    },
    {
     "name": "stdout",
     "output_type": "stream",
     "text": [
      "epoch 259| loss: 0.22205 | train_mse: 0.30921 | train_mae: 0.36446 |  0:09:48s\n"
     ]
    },
    {
     "name": "stdout",
     "output_type": "stream",
     "text": [
      "epoch 260| loss: 0.21806 | train_mse: 0.30548 | train_mae: 0.36756 |  0:09:50s\n"
     ]
    },
    {
     "name": "stdout",
     "output_type": "stream",
     "text": [
      "epoch 261| loss: 0.22354 | train_mse: 0.29472 | train_mae: 0.36822 |  0:09:53s\n"
     ]
    },
    {
     "name": "stdout",
     "output_type": "stream",
     "text": [
      "epoch 262| loss: 0.22344 | train_mse: 0.3402  | train_mae: 0.37865 |  0:09:55s\n"
     ]
    },
    {
     "name": "stdout",
     "output_type": "stream",
     "text": [
      "epoch 263| loss: 0.22268 | train_mse: 0.30353 | train_mae: 0.36307 |  0:09:57s\n"
     ]
    },
    {
     "name": "stdout",
     "output_type": "stream",
     "text": [
      "epoch 264| loss: 0.21768 | train_mse: 0.31354 | train_mae: 0.36518 |  0:10:00s\n"
     ]
    },
    {
     "name": "stdout",
     "output_type": "stream",
     "text": [
      "epoch 265| loss: 0.21933 | train_mse: 0.32037 | train_mae: 0.36915 |  0:10:02s\n"
     ]
    },
    {
     "name": "stdout",
     "output_type": "stream",
     "text": [
      "epoch 266| loss: 0.22214 | train_mse: 0.31145 | train_mae: 0.368   |  0:10:04s\n"
     ]
    },
    {
     "name": "stdout",
     "output_type": "stream",
     "text": [
      "epoch 267| loss: 0.2207  | train_mse: 0.30516 | train_mae: 0.36424 |  0:10:06s\n"
     ]
    },
    {
     "name": "stdout",
     "output_type": "stream",
     "text": [
      "epoch 268| loss: 0.2184  | train_mse: 0.31067 | train_mae: 0.36477 |  0:10:09s\n"
     ]
    },
    {
     "name": "stdout",
     "output_type": "stream",
     "text": [
      "epoch 269| loss: 0.21871 | train_mse: 0.30847 | train_mae: 0.36496 |  0:10:11s\n"
     ]
    },
    {
     "name": "stdout",
     "output_type": "stream",
     "text": [
      "epoch 270| loss: 0.21874 | train_mse: 0.31768 | train_mae: 0.36436 |  0:10:13s\n"
     ]
    },
    {
     "name": "stdout",
     "output_type": "stream",
     "text": [
      "epoch 271| loss: 0.21942 | train_mse: 0.32908 | train_mae: 0.37475 |  0:10:16s\n"
     ]
    },
    {
     "name": "stdout",
     "output_type": "stream",
     "text": [
      "epoch 272| loss: 0.21989 | train_mse: 0.29737 | train_mae: 0.36345 |  0:10:18s\n"
     ]
    },
    {
     "name": "stdout",
     "output_type": "stream",
     "text": [
      "epoch 273| loss: 0.21607 | train_mse: 0.31024 | train_mae: 0.36587 |  0:10:20s\n"
     ]
    },
    {
     "name": "stdout",
     "output_type": "stream",
     "text": [
      "epoch 274| loss: 0.21954 | train_mse: 0.30864 | train_mae: 0.3682  |  0:10:22s\n"
     ]
    },
    {
     "name": "stdout",
     "output_type": "stream",
     "text": [
      "epoch 275| loss: 0.21608 | train_mse: 0.3091  | train_mae: 0.36689 |  0:10:24s\n"
     ]
    },
    {
     "name": "stdout",
     "output_type": "stream",
     "text": [
      "epoch 276| loss: 0.21628 | train_mse: 0.31855 | train_mae: 0.36929 |  0:10:27s\n"
     ]
    },
    {
     "name": "stdout",
     "output_type": "stream",
     "text": [
      "epoch 277| loss: 0.21566 | train_mse: 0.30759 | train_mae: 0.36263 |  0:10:29s\n"
     ]
    },
    {
     "name": "stdout",
     "output_type": "stream",
     "text": [
      "epoch 278| loss: 0.21761 | train_mse: 0.31368 | train_mae: 0.36621 |  0:10:31s\n"
     ]
    },
    {
     "name": "stdout",
     "output_type": "stream",
     "text": [
      "epoch 279| loss: 0.21772 | train_mse: 0.31074 | train_mae: 0.36293 |  0:10:33s\n"
     ]
    },
    {
     "name": "stdout",
     "output_type": "stream",
     "text": [
      "epoch 280| loss: 0.21578 | train_mse: 0.29752 | train_mae: 0.36015 |  0:10:35s\n"
     ]
    },
    {
     "name": "stdout",
     "output_type": "stream",
     "text": [
      "epoch 281| loss: 0.21702 | train_mse: 0.31637 | train_mae: 0.36568 |  0:10:38s\n"
     ]
    },
    {
     "name": "stdout",
     "output_type": "stream",
     "text": [
      "epoch 282| loss: 0.21478 | train_mse: 0.30985 | train_mae: 0.36212 |  0:10:40s\n"
     ]
    },
    {
     "name": "stdout",
     "output_type": "stream",
     "text": [
      "epoch 283| loss: 0.2168  | train_mse: 0.29789 | train_mae: 0.36841 |  0:10:42s\n"
     ]
    },
    {
     "name": "stdout",
     "output_type": "stream",
     "text": [
      "epoch 284| loss: 0.21726 | train_mse: 0.31255 | train_mae: 0.36195 |  0:10:44s\n"
     ]
    },
    {
     "name": "stdout",
     "output_type": "stream",
     "text": [
      "epoch 285| loss: 0.21494 | train_mse: 0.31152 | train_mae: 0.36495 |  0:10:47s\n"
     ]
    },
    {
     "name": "stdout",
     "output_type": "stream",
     "text": [
      "epoch 286| loss: 0.21388 | train_mse: 0.3226  | train_mae: 0.36912 |  0:10:49s\n"
     ]
    },
    {
     "name": "stdout",
     "output_type": "stream",
     "text": [
      "epoch 287| loss: 0.2139  | train_mse: 0.30765 | train_mae: 0.37183 |  0:10:51s\n"
     ]
    },
    {
     "name": "stdout",
     "output_type": "stream",
     "text": [
      "epoch 288| loss: 0.21878 | train_mse: 0.31878 | train_mae: 0.36775 |  0:10:53s\n"
     ]
    },
    {
     "name": "stdout",
     "output_type": "stream",
     "text": [
      "epoch 289| loss: 0.21822 | train_mse: 0.32939 | train_mae: 0.36974 |  0:10:56s\n"
     ]
    },
    {
     "name": "stdout",
     "output_type": "stream",
     "text": [
      "epoch 290| loss: 0.21506 | train_mse: 0.30673 | train_mae: 0.36261 |  0:10:58s\n"
     ]
    },
    {
     "name": "stdout",
     "output_type": "stream",
     "text": [
      "epoch 291| loss: 0.21703 | train_mse: 0.31403 | train_mae: 0.36803 |  0:11:00s\n"
     ]
    },
    {
     "name": "stdout",
     "output_type": "stream",
     "text": [
      "epoch 292| loss: 0.21469 | train_mse: 0.30611 | train_mae: 0.36546 |  0:11:02s\n"
     ]
    },
    {
     "name": "stdout",
     "output_type": "stream",
     "text": [
      "epoch 293| loss: 0.21635 | train_mse: 0.30858 | train_mae: 0.36567 |  0:11:05s\n"
     ]
    },
    {
     "name": "stdout",
     "output_type": "stream",
     "text": [
      "epoch 294| loss: 0.21733 | train_mse: 0.31234 | train_mae: 0.37023 |  0:11:07s\n"
     ]
    },
    {
     "name": "stdout",
     "output_type": "stream",
     "text": [
      "epoch 295| loss: 0.2189  | train_mse: 0.30165 | train_mae: 0.35991 |  0:11:09s\n"
     ]
    },
    {
     "name": "stdout",
     "output_type": "stream",
     "text": [
      "epoch 296| loss: 0.214   | train_mse: 0.29865 | train_mae: 0.36354 |  0:11:11s\n"
     ]
    },
    {
     "name": "stdout",
     "output_type": "stream",
     "text": [
      "epoch 297| loss: 0.21499 | train_mse: 0.3087  | train_mae: 0.36323 |  0:11:14s\n"
     ]
    },
    {
     "name": "stdout",
     "output_type": "stream",
     "text": [
      "epoch 298| loss: 0.21379 | train_mse: 0.31192 | train_mae: 0.36876 |  0:11:16s\n"
     ]
    },
    {
     "name": "stdout",
     "output_type": "stream",
     "text": [
      "epoch 299| loss: 0.21702 | train_mse: 0.30593 | train_mae: 0.36332 |  0:11:18s\n"
     ]
    },
    {
     "name": "stdout",
     "output_type": "stream",
     "text": [
      "epoch 300| loss: 0.21331 | train_mse: 0.30053 | train_mae: 0.36093 |  0:11:20s\n"
     ]
    },
    {
     "name": "stdout",
     "output_type": "stream",
     "text": [
      "epoch 301| loss: 0.2122  | train_mse: 0.30588 | train_mae: 0.36266 |  0:11:23s\n"
     ]
    },
    {
     "name": "stdout",
     "output_type": "stream",
     "text": [
      "epoch 302| loss: 0.21365 | train_mse: 0.30773 | train_mae: 0.36376 |  0:11:25s\n"
     ]
    },
    {
     "name": "stdout",
     "output_type": "stream",
     "text": [
      "epoch 303| loss: 0.22253 | train_mse: 0.30532 | train_mae: 0.36076 |  0:11:27s\n"
     ]
    },
    {
     "name": "stdout",
     "output_type": "stream",
     "text": [
      "epoch 304| loss: 0.2138  | train_mse: 0.31216 | train_mae: 0.36103 |  0:11:29s\n"
     ]
    },
    {
     "name": "stdout",
     "output_type": "stream",
     "text": [
      "epoch 305| loss: 0.21646 | train_mse: 0.32878 | train_mae: 0.37233 |  0:11:31s\n"
     ]
    },
    {
     "name": "stdout",
     "output_type": "stream",
     "text": [
      "epoch 306| loss: 0.2149  | train_mse: 0.30434 | train_mae: 0.36039 |  0:11:34s\n"
     ]
    },
    {
     "name": "stdout",
     "output_type": "stream",
     "text": [
      "epoch 307| loss: 0.21307 | train_mse: 0.30319 | train_mae: 0.36152 |  0:11:36s\n"
     ]
    },
    {
     "name": "stdout",
     "output_type": "stream",
     "text": [
      "epoch 308| loss: 0.21388 | train_mse: 0.32121 | train_mae: 0.37209 |  0:11:38s\n"
     ]
    },
    {
     "name": "stdout",
     "output_type": "stream",
     "text": [
      "epoch 309| loss: 0.21642 | train_mse: 0.30222 | train_mae: 0.35932 |  0:11:40s\n"
     ]
    },
    {
     "name": "stdout",
     "output_type": "stream",
     "text": [
      "epoch 310| loss: 0.21632 | train_mse: 0.32354 | train_mae: 0.36776 |  0:11:43s\n"
     ]
    },
    {
     "name": "stdout",
     "output_type": "stream",
     "text": [
      "epoch 311| loss: 0.21555 | train_mse: 0.31282 | train_mae: 0.36544 |  0:11:45s\n"
     ]
    },
    {
     "name": "stdout",
     "output_type": "stream",
     "text": [
      "epoch 312| loss: 0.21361 | train_mse: 0.30375 | train_mae: 0.36147 |  0:11:47s\n"
     ]
    },
    {
     "name": "stdout",
     "output_type": "stream",
     "text": [
      "epoch 313| loss: 0.21638 | train_mse: 0.30587 | train_mae: 0.35895 |  0:11:49s\n"
     ]
    },
    {
     "name": "stdout",
     "output_type": "stream",
     "text": [
      "epoch 314| loss: 0.2146  | train_mse: 0.31637 | train_mae: 0.36866 |  0:11:52s\n"
     ]
    },
    {
     "name": "stdout",
     "output_type": "stream",
     "text": [
      "epoch 315| loss: 0.21454 | train_mse: 0.31723 | train_mae: 0.36984 |  0:11:54s\n"
     ]
    },
    {
     "name": "stdout",
     "output_type": "stream",
     "text": [
      "epoch 316| loss: 0.21929 | train_mse: 0.29943 | train_mae: 0.36138 |  0:11:56s\n"
     ]
    },
    {
     "name": "stdout",
     "output_type": "stream",
     "text": [
      "epoch 317| loss: 0.21337 | train_mse: 0.29629 | train_mae: 0.36353 |  0:11:58s\n"
     ]
    },
    {
     "name": "stdout",
     "output_type": "stream",
     "text": [
      "epoch 318| loss: 0.21468 | train_mse: 0.30945 | train_mae: 0.36691 |  0:12:01s\n"
     ]
    },
    {
     "name": "stdout",
     "output_type": "stream",
     "text": [
      "epoch 319| loss: 0.21688 | train_mse: 0.32365 | train_mae: 0.36068 |  0:12:03s\n"
     ]
    },
    {
     "name": "stdout",
     "output_type": "stream",
     "text": [
      "epoch 320| loss: 0.21417 | train_mse: 0.32075 | train_mae: 0.37023 |  0:12:05s\n"
     ]
    },
    {
     "name": "stdout",
     "output_type": "stream",
     "text": [
      "epoch 321| loss: 0.2108  | train_mse: 0.31051 | train_mae: 0.36317 |  0:12:08s\n"
     ]
    },
    {
     "name": "stdout",
     "output_type": "stream",
     "text": [
      "epoch 322| loss: 0.2111  | train_mse: 0.30803 | train_mae: 0.36426 |  0:12:10s\n"
     ]
    },
    {
     "name": "stdout",
     "output_type": "stream",
     "text": [
      "epoch 323| loss: 0.21757 | train_mse: 0.36881 | train_mae: 0.3754  |  0:12:12s\n"
     ]
    },
    {
     "name": "stdout",
     "output_type": "stream",
     "text": [
      "epoch 324| loss: 0.20873 | train_mse: 0.36467 | train_mae: 0.36648 |  0:12:14s\n"
     ]
    },
    {
     "name": "stdout",
     "output_type": "stream",
     "text": [
      "epoch 325| loss: 0.21364 | train_mse: 0.29836 | train_mae: 0.36218 |  0:12:17s\n"
     ]
    },
    {
     "name": "stdout",
     "output_type": "stream",
     "text": [
      "epoch 326| loss: 0.21273 | train_mse: 0.30802 | train_mae: 0.36019 |  0:12:19s\n"
     ]
    },
    {
     "name": "stdout",
     "output_type": "stream",
     "text": [
      "epoch 327| loss: 0.2129  | train_mse: 0.29959 | train_mae: 0.36156 |  0:12:21s\n"
     ]
    },
    {
     "name": "stdout",
     "output_type": "stream",
     "text": [
      "epoch 328| loss: 0.21193 | train_mse: 0.30647 | train_mae: 0.36244 |  0:12:23s\n"
     ]
    },
    {
     "name": "stdout",
     "output_type": "stream",
     "text": [
      "epoch 329| loss: 0.21372 | train_mse: 0.30062 | train_mae: 0.35787 |  0:12:26s\n"
     ]
    },
    {
     "name": "stdout",
     "output_type": "stream",
     "text": [
      "epoch 330| loss: 0.21204 | train_mse: 0.30867 | train_mae: 0.36329 |  0:12:28s\n"
     ]
    },
    {
     "name": "stdout",
     "output_type": "stream",
     "text": [
      "epoch 331| loss: 0.2127  | train_mse: 0.28936 | train_mae: 0.35844 |  0:12:30s\n"
     ]
    },
    {
     "name": "stdout",
     "output_type": "stream",
     "text": [
      "epoch 332| loss: 0.21299 | train_mse: 0.31427 | train_mae: 0.36593 |  0:12:33s\n"
     ]
    },
    {
     "name": "stdout",
     "output_type": "stream",
     "text": [
      "epoch 333| loss: 0.21273 | train_mse: 0.30666 | train_mae: 0.36131 |  0:12:35s\n"
     ]
    },
    {
     "name": "stdout",
     "output_type": "stream",
     "text": [
      "epoch 334| loss: 0.20932 | train_mse: 0.29871 | train_mae: 0.36141 |  0:12:37s\n"
     ]
    },
    {
     "name": "stdout",
     "output_type": "stream",
     "text": [
      "epoch 335| loss: 0.21126 | train_mse: 0.30388 | train_mae: 0.36364 |  0:12:39s\n"
     ]
    },
    {
     "name": "stdout",
     "output_type": "stream",
     "text": [
      "epoch 336| loss: 0.21279 | train_mse: 0.30424 | train_mae: 0.36133 |  0:12:42s\n"
     ]
    },
    {
     "name": "stdout",
     "output_type": "stream",
     "text": [
      "epoch 337| loss: 0.21452 | train_mse: 0.29856 | train_mae: 0.35997 |  0:12:44s\n"
     ]
    },
    {
     "name": "stdout",
     "output_type": "stream",
     "text": [
      "epoch 338| loss: 0.21294 | train_mse: 0.31328 | train_mae: 0.36529 |  0:12:46s\n"
     ]
    },
    {
     "name": "stdout",
     "output_type": "stream",
     "text": [
      "epoch 339| loss: 0.21206 | train_mse: 0.30113 | train_mae: 0.35965 |  0:12:49s\n"
     ]
    },
    {
     "name": "stdout",
     "output_type": "stream",
     "text": [
      "epoch 340| loss: 0.21039 | train_mse: 0.31243 | train_mae: 0.36448 |  0:12:51s\n"
     ]
    },
    {
     "name": "stdout",
     "output_type": "stream",
     "text": [
      "epoch 341| loss: 0.21477 | train_mse: 0.30682 | train_mae: 0.36855 |  0:12:53s\n"
     ]
    },
    {
     "name": "stdout",
     "output_type": "stream",
     "text": [
      "epoch 342| loss: 0.21339 | train_mse: 0.30469 | train_mae: 0.36248 |  0:12:55s\n"
     ]
    },
    {
     "name": "stdout",
     "output_type": "stream",
     "text": [
      "epoch 343| loss: 0.20925 | train_mse: 0.30321 | train_mae: 0.363   |  0:12:58s\n"
     ]
    },
    {
     "name": "stdout",
     "output_type": "stream",
     "text": [
      "epoch 344| loss: 0.21316 | train_mse: 0.31726 | train_mae: 0.3675  |  0:13:00s\n"
     ]
    },
    {
     "name": "stdout",
     "output_type": "stream",
     "text": [
      "epoch 345| loss: 0.21005 | train_mse: 0.31232 | train_mae: 0.36668 |  0:13:02s\n"
     ]
    },
    {
     "name": "stdout",
     "output_type": "stream",
     "text": [
      "epoch 346| loss: 0.21131 | train_mse: 0.31345 | train_mae: 0.36653 |  0:13:05s\n"
     ]
    },
    {
     "name": "stdout",
     "output_type": "stream",
     "text": [
      "epoch 347| loss: 0.20952 | train_mse: 0.31013 | train_mae: 0.36007 |  0:13:07s\n"
     ]
    },
    {
     "name": "stdout",
     "output_type": "stream",
     "text": [
      "epoch 348| loss: 0.20935 | train_mse: 0.30806 | train_mae: 0.3656  |  0:13:09s\n"
     ]
    },
    {
     "name": "stdout",
     "output_type": "stream",
     "text": [
      "epoch 349| loss: 0.2113  | train_mse: 0.30249 | train_mae: 0.36231 |  0:13:11s\n"
     ]
    },
    {
     "name": "stdout",
     "output_type": "stream",
     "text": [
      "epoch 350| loss: 0.21139 | train_mse: 0.3074  | train_mae: 0.36524 |  0:13:13s\n"
     ]
    },
    {
     "name": "stdout",
     "output_type": "stream",
     "text": [
      "epoch 351| loss: 0.20997 | train_mse: 0.35708 | train_mae: 0.36319 |  0:13:16s\n"
     ]
    },
    {
     "name": "stdout",
     "output_type": "stream",
     "text": [
      "epoch 352| loss: 0.21043 | train_mse: 0.35904 | train_mae: 0.36531 |  0:13:18s\n"
     ]
    },
    {
     "name": "stdout",
     "output_type": "stream",
     "text": [
      "epoch 353| loss: 0.20956 | train_mse: 0.29411 | train_mae: 0.36065 |  0:13:20s\n"
     ]
    },
    {
     "name": "stdout",
     "output_type": "stream",
     "text": [
      "epoch 354| loss: 0.20893 | train_mse: 0.34282 | train_mae: 0.365   |  0:13:23s\n"
     ]
    },
    {
     "name": "stdout",
     "output_type": "stream",
     "text": [
      "epoch 355| loss: 0.20933 | train_mse: 0.34567 | train_mae: 0.36627 |  0:13:25s\n"
     ]
    },
    {
     "name": "stdout",
     "output_type": "stream",
     "text": [
      "epoch 356| loss: 0.2119  | train_mse: 0.34044 | train_mae: 0.35949 |  0:13:27s\n"
     ]
    },
    {
     "name": "stdout",
     "output_type": "stream",
     "text": [
      "epoch 357| loss: 0.20756 | train_mse: 0.35256 | train_mae: 0.36578 |  0:13:29s\n"
     ]
    },
    {
     "name": "stdout",
     "output_type": "stream",
     "text": [
      "epoch 358| loss: 0.20823 | train_mse: 0.36372 | train_mae: 0.36987 |  0:13:32s\n"
     ]
    },
    {
     "name": "stdout",
     "output_type": "stream",
     "text": [
      "epoch 359| loss: 0.21494 | train_mse: 0.31596 | train_mae: 0.36157 |  0:13:34s\n"
     ]
    },
    {
     "name": "stdout",
     "output_type": "stream",
     "text": [
      "epoch 360| loss: 0.2104  | train_mse: 0.33573 | train_mae: 0.3662  |  0:13:36s\n"
     ]
    },
    {
     "name": "stdout",
     "output_type": "stream",
     "text": [
      "epoch 361| loss: 0.20986 | train_mse: 0.31517 | train_mae: 0.35964 |  0:13:38s\n"
     ]
    },
    {
     "name": "stdout",
     "output_type": "stream",
     "text": [
      "epoch 362| loss: 0.20548 | train_mse: 0.3442  | train_mae: 0.36928 |  0:13:41s\n"
     ]
    },
    {
     "name": "stdout",
     "output_type": "stream",
     "text": [
      "epoch 363| loss: 0.2087  | train_mse: 0.3231  | train_mae: 0.35995 |  0:13:43s\n"
     ]
    },
    {
     "name": "stdout",
     "output_type": "stream",
     "text": [
      "epoch 364| loss: 0.20992 | train_mse: 0.3046  | train_mae: 0.36464 |  0:13:45s\n"
     ]
    },
    {
     "name": "stdout",
     "output_type": "stream",
     "text": [
      "epoch 365| loss: 0.21042 | train_mse: 0.33389 | train_mae: 0.36505 |  0:13:47s\n"
     ]
    },
    {
     "name": "stdout",
     "output_type": "stream",
     "text": [
      "epoch 366| loss: 0.20601 | train_mse: 0.34371 | train_mae: 0.36536 |  0:13:50s\n"
     ]
    },
    {
     "name": "stdout",
     "output_type": "stream",
     "text": [
      "epoch 367| loss: 0.20901 | train_mse: 0.30143 | train_mae: 0.36002 |  0:13:52s\n"
     ]
    },
    {
     "name": "stdout",
     "output_type": "stream",
     "text": [
      "epoch 368| loss: 0.21019 | train_mse: 0.31272 | train_mae: 0.36221 |  0:13:54s\n"
     ]
    },
    {
     "name": "stdout",
     "output_type": "stream",
     "text": [
      "epoch 369| loss: 0.20983 | train_mse: 0.30727 | train_mae: 0.36413 |  0:13:57s\n"
     ]
    },
    {
     "name": "stdout",
     "output_type": "stream",
     "text": [
      "epoch 370| loss: 0.20971 | train_mse: 0.30106 | train_mae: 0.36439 |  0:13:59s\n"
     ]
    },
    {
     "name": "stdout",
     "output_type": "stream",
     "text": [
      "epoch 371| loss: 0.20631 | train_mse: 0.31277 | train_mae: 0.36744 |  0:14:01s\n"
     ]
    },
    {
     "name": "stdout",
     "output_type": "stream",
     "text": [
      "epoch 372| loss: 0.20781 | train_mse: 0.31385 | train_mae: 0.36953 |  0:14:04s\n"
     ]
    },
    {
     "name": "stdout",
     "output_type": "stream",
     "text": [
      "epoch 373| loss: 0.20965 | train_mse: 0.35346 | train_mae: 0.36553 |  0:14:06s\n"
     ]
    },
    {
     "name": "stdout",
     "output_type": "stream",
     "text": [
      "epoch 374| loss: 0.21061 | train_mse: 0.30889 | train_mae: 0.36449 |  0:14:08s\n"
     ]
    },
    {
     "name": "stdout",
     "output_type": "stream",
     "text": [
      "epoch 375| loss: 0.20749 | train_mse: 0.31361 | train_mae: 0.36253 |  0:14:10s\n"
     ]
    },
    {
     "name": "stdout",
     "output_type": "stream",
     "text": [
      "epoch 376| loss: 0.20761 | train_mse: 0.30952 | train_mae: 0.36143 |  0:14:13s\n"
     ]
    },
    {
     "name": "stdout",
     "output_type": "stream",
     "text": [
      "epoch 377| loss: 0.2081  | train_mse: 0.32139 | train_mae: 0.36608 |  0:14:15s\n"
     ]
    },
    {
     "name": "stdout",
     "output_type": "stream",
     "text": [
      "epoch 378| loss: 0.20898 | train_mse: 0.32176 | train_mae: 0.36618 |  0:14:17s\n"
     ]
    },
    {
     "name": "stdout",
     "output_type": "stream",
     "text": [
      "epoch 379| loss: 0.20434 | train_mse: 0.30205 | train_mae: 0.36073 |  0:14:19s\n",
      "\n",
      "Early stopping occurred at epoch 379 with best_epoch = 329 and best_train_mae = 0.35787\n",
      "Best weights from best epoch are automatically used!\n"
     ]
    },
    {
     "name": "stdout",
     "output_type": "stream",
     "text": [
      "BEST VALID SCORE FOR dataset : 0.35786655700874864\n",
      "FINAL TEST SCORE FOR dataset: 0.36533106504649837\n",
      "{'loss': [1.7672146281530687, 0.9007521475008292, 0.7083418170611063, 0.6134114884590918, 0.533906666807426, 0.4909287031537802, 0.4503473863583203, 0.42479846297308455, 0.39566108561301416, 0.3764941454395767, 0.36021853717722635, 0.3567169500413791, 0.34575289095094963, 0.33331064983855846, 0.32969355918178256, 0.33090337533359393, 0.3234212209087935, 0.3205248198305914, 0.30657240887020903, 0.3037574762521787, 0.3087638096753942, 0.30071550053219476, 0.30016243550204486, 0.3013070319281068, 0.2984237973542177, 0.2900360337523527, 0.28766741170439597, 0.2879929223725962, 0.28014004045678675, 0.2795880354883134, 0.280620377886203, 0.28122888170471494, 0.27866933269556177, 0.2812444649694502, 0.2750058425951374, 0.2775241275166355, 0.27659783229347346, 0.27553470721540513, 0.2746284300273704, 0.2710047877112098, 0.2660223372684892, 0.26843186935713115, 0.27332959803499907, 0.2701632431311201, 0.2657360063735829, 0.2677410354678944, 0.2630433098290318, 0.2641594348720801, 0.2612033179102017, 0.26243947042051213, 0.2631752576476844, 0.2653210819229598, 0.2587078809738159, 0.2605050228131834, 0.2618968907252763, 0.2614810567262563, 0.251535475023033, 0.25574341993923333, 0.25716464845247056, 0.2550927067911902, 0.25592308116051565, 0.2551587875499281, 0.2540236642194349, 0.25619269041127934, 0.25342611772145424, 0.2524244963198668, 0.257606912028882, 0.2515271860499716, 0.25095012472119443, 0.2517716256222984, 0.2488711320383603, 0.2529002855452456, 0.253637925136921, 0.24894372934056808, 0.25242809662523197, 0.2523210286632065, 0.24825126787488774, 0.2523017098275265, 0.24905446183311847, 0.2456624751636224, 0.24467291446157205, 0.24638670047586278, 0.25055218563061354, 0.24731202238751926, 0.24611064860987109, 0.24603643805481668, 0.2449384049851765, 0.2454121868277705, 0.24559166600075802, 0.2482795461203701, 0.2463717084637908, 0.24500201192013052, 0.24433428869228957, 0.24843450722306273, 0.24363362800705338, 0.24475388390611308, 0.24135969636976257, 0.2430143162261608, 0.24162045721859896, 0.24481033528035923, 0.2402561927257582, 0.241865658367327, 0.2420660864937213, 0.2429982955141585, 0.2410439297903416, 0.24588697744432345, 0.2417747332144153, 0.24197699245094328, 0.24278140391490255, 0.24329403343126754, 0.24117956235427265, 0.24056249036807423, 0.24493114419223727, 0.24010350260623667, 0.24218177864717882, 0.23936415261538455, 0.23831306605838065, 0.23870407391426174, 0.2389526325602864, 0.23545563359593236, 0.2346682530040889, 0.24154714304347372, 0.2408895277699759, 0.23661293921082518, 0.23617148549519767, 0.23859101037184396, 0.2396376814491065, 0.23517160360203232, 0.23582756311394448, 0.2381918518118156, 0.23775472786537435, 0.23454868562461795, 0.2348502795825633, 0.23343973889831424, 0.23591605036757712, 0.2334282957306204, 0.23653621255427368, 0.23492007431133774, 0.2310571945452875, 0.23736523496088133, 0.2372906998146412, 0.23460811688456423, 0.23437420873678932, 0.23107782052468884, 0.23352845625359883, 0.2356564076833947, 0.23345979713192283, 0.23811348695163578, 0.23680777073830597, 0.23108013540275338, 0.2317034756952478, 0.23285426742346713, 0.22962636979975443, 0.23029696825862855, 0.23450296170027682, 0.23775549048139144, 0.2298678174730419, 0.2305644078310146, 0.23194671982480575, 0.23125613729159036, 0.23330100446708443, 0.237284930408463, 0.22768430862315867, 0.2283246863720029, 0.23260430252367212, 0.22971895233143208, 0.22749467783196028, 0.23293133692223897, 0.23492917637954386, 0.22925577283829682, 0.22821262721405472, 0.23049850958262302, 0.23231672917225565, 0.23003437052401463, 0.2313330545443897, 0.23445960278658903, 0.23054382690163547, 0.23061879845552666, 0.2236760606368383, 0.22623678995657337, 0.22808551025945087, 0.22770253101060556, 0.22945759739986685, 0.23153699922931287, 0.2322148658739504, 0.2257809350194857, 0.22741062153679456, 0.2301675193300543, 0.22871153102826702, 0.22982080465601396, 0.22785313716230465, 0.22761432306711063, 0.2274347747019095, 0.22456901041112204, 0.22845938466778098, 0.22805534083713858, 0.22816960109296694, 0.2304773133161456, 0.22588415559410124, 0.22436607715695403, 0.23008981208468593, 0.22579710982566656, 0.22801986775657004, 0.23077061437359153, 0.22943047231944033, 0.22631742914979772, 0.2257114397000897, 0.2262909259907035, 0.22531243950821633, 0.22580999066663343, 0.22476399764996166, 0.22822822399379672, 0.22429481529912285, 0.22668344521707343, 0.22823935285095096, 0.22642877490021462, 0.22856824377248453, 0.220485668773799, 0.2264409833407217, 0.22458104384961977, 0.22119512380093567, 0.2225005322879599, 0.22180370859397475, 0.2229156130275061, 0.223042691285296, 0.22493493580078894, 0.22148291443207468, 0.227549156477285, 0.22193318489910097, 0.22466184949690057, 0.219658594376357, 0.22665567072324974, 0.2263331648915313, 0.2228283984947574, 0.22349848869697067, 0.22124941600847614, 0.2219604832488437, 0.21791422759839732, 0.22264536164065665, 0.22099456918794055, 0.2209335132393726, 0.22275180179019308, 0.21981233381485754, 0.22006347093933312, 0.2214149170836737, 0.22235147273817726, 0.22318324793216793, 0.22008016162602476, 0.21938933489858642, 0.22169550560241522, 0.219130547240723, 0.22117300966913386, 0.21580431951108828, 0.2206987128701321, 0.22506920126981514, 0.22274144964162693, 0.22146922361481097, 0.21853936492472656, 0.21707434778989748, 0.22205449860225351, 0.21806220109610594, 0.22354087279748547, 0.22344079174736672, 0.22267879268457724, 0.21768360463685768, 0.21933300920235094, 0.22213868669761244, 0.22069828281568926, 0.21840427076631738, 0.21870814367782238, 0.21873547298501628, 0.21941672461901524, 0.21988783568836923, 0.21607374128445175, 0.21954089056613835, 0.2160777230133382, 0.2162771368211554, 0.21565775550151056, 0.21761132303134414, 0.21771657848080922, 0.2157841193121533, 0.2170185670834179, 0.21477531208548434, 0.21679788077062415, 0.21725754405176917, 0.2149361845596816, 0.21388372894405394, 0.2139045281927715, 0.21878140575663987, 0.21821694780689802, 0.21505964645581652, 0.21702728645746097, 0.21469417503175808, 0.21635464330514273, 0.2173267569421798, 0.21889995223329972, 0.21399930489155672, 0.21499141161293947, 0.21378848742144976, 0.2170170190953469, 0.21330834959828576, 0.21220039004503294, 0.21365148545235627, 0.22253375644831694, 0.2138031118137892, 0.21645538485789484, 0.21490374080432478, 0.21307020293649778, 0.2138818483944087, 0.21642298430435417, 0.2163169699352841, 0.21555419993955036, 0.21360962150632873, 0.21638417371021684, 0.2146036118962044, 0.2145370113295178, 0.21928738184677538, 0.21337470666382663, 0.21467869411143223, 0.21688235961189567, 0.21416946021161337, 0.210795520812042, 0.2110985912555872, 0.2175655259873516, 0.20873289653497148, 0.2136412272157595, 0.2127268982026004, 0.2128965588965157, 0.21193279453026231, 0.2137184625910234, 0.2120367316312568, 0.21270156900087991, 0.2129917665738468, 0.21272957775481913, 0.2093226320521776, 0.21125930085662722, 0.21278636723525765, 0.2145227642022362, 0.2129408555437428, 0.2120564887227938, 0.21039465716642927, 0.21477197919243066, 0.2133884094944296, 0.20924950165804043, 0.2131558722534845, 0.21005014786424564, 0.21130660407302915, 0.209515202299569, 0.20935088557790416, 0.2113014876611473, 0.21139346744663032, 0.20996666370436204, 0.21043281904024672, 0.20955675424531447, 0.20892989081005717, 0.20932610841222513, 0.21189750788747802, 0.20755598399528238, 0.20822771759920342, 0.21494073253269344, 0.2104048417058102, 0.20986204138097836, 0.2054771244987961, 0.20870454251304155, 0.20991659707339236, 0.2104203422633252, 0.20600672978763432, 0.20900688256866248, 0.2101897228826848, 0.20982560191967692, 0.20971076213574225, 0.20630569952402927, 0.2078078151211258, 0.20965381913868955, 0.21060858689999395, 0.20748833711295162, 0.20760757920815964, 0.20809787742851316, 0.20898438239282416, 0.20433719848939616], 'lr': [0.001, 0.001, 0.001, 0.001, 0.001, 0.001, 0.001, 0.001, 0.001, 0.001, 0.001, 0.001, 0.001, 0.001, 0.001, 0.001, 0.001, 0.001, 0.001, 0.001, 0.001, 0.001, 0.001, 0.001, 0.001, 0.001, 0.001, 0.001, 0.001, 0.001, 0.001, 0.001, 0.001, 0.001, 0.001, 0.001, 0.001, 0.001, 0.001, 0.001, 0.001, 0.001, 0.001, 0.001, 0.001, 0.001, 0.001, 0.001, 0.001, 0.001, 0.001, 0.001, 0.001, 0.001, 0.001, 0.001, 0.001, 0.001, 0.001, 0.001, 0.001, 0.001, 0.001, 0.001, 0.001, 0.001, 0.001, 0.001, 0.001, 0.001, 0.001, 0.001, 0.001, 0.001, 0.001, 0.001, 0.001, 0.001, 0.001, 0.001, 0.001, 0.001, 0.001, 0.001, 0.001, 0.001, 0.001, 0.001, 0.001, 0.001, 0.001, 0.001, 0.001, 0.001, 0.001, 0.001, 0.001, 0.001, 0.001, 0.001, 0.001, 0.001, 0.001, 0.001, 0.001, 0.001, 0.001, 0.001, 0.001, 0.001, 0.001, 0.001, 0.001, 0.001, 0.001, 0.001, 0.001, 0.001, 0.001, 0.001, 0.001, 0.001, 0.001, 0.001, 0.001, 0.001, 0.001, 0.001, 0.001, 0.001, 0.001, 0.001, 0.001, 0.001, 0.001, 0.001, 0.001, 0.001, 0.001, 0.001, 0.001, 0.001, 0.001, 0.001, 0.001, 0.001, 0.001, 0.001, 0.001, 0.001, 0.001, 0.001, 0.001, 0.001, 0.001, 0.001, 0.001, 0.001, 0.001, 0.001, 0.001, 0.001, 0.001, 0.001, 0.001, 0.001, 0.001, 0.001, 0.001, 0.001, 0.001, 0.001, 0.001, 0.001, 0.001, 0.001, 0.001, 0.001, 0.001, 0.001, 0.001, 0.001, 0.001, 0.001, 0.001, 0.001, 0.001, 0.001, 0.001, 0.001, 0.001, 0.001, 0.001, 0.001, 0.001, 0.001, 0.001, 0.001, 0.001, 0.001, 0.001, 0.001, 0.001, 0.001, 0.001, 0.001, 0.001, 0.001, 0.001, 0.001, 0.001, 0.001, 0.001, 0.001, 0.001, 0.001, 0.001, 0.001, 0.001, 0.001, 0.001, 0.001, 0.001, 0.001, 0.001, 0.001, 0.001, 0.001, 0.001, 0.001, 0.001, 0.001, 0.001, 0.001, 0.001, 0.001, 0.001, 0.001, 0.001, 0.001, 0.001, 0.001, 0.001, 0.001, 0.001, 0.001, 0.001, 0.001, 0.001, 0.001, 0.001, 0.001, 0.001, 0.001, 0.001, 0.001, 0.001, 0.001, 0.001, 0.001, 0.001, 0.001, 0.001, 0.001, 0.001, 0.001, 0.001, 0.001, 0.001, 0.001, 0.001, 0.001, 0.001, 0.001, 0.001, 0.001, 0.001, 0.001, 0.001, 0.001, 0.001, 0.001, 0.001, 0.001, 0.001, 0.001, 0.001, 0.001, 0.001, 0.001, 0.001, 0.001, 0.001, 0.001, 0.001, 0.001, 0.001, 0.001, 0.001, 0.001, 0.001, 0.001, 0.001, 0.001, 0.001, 0.001, 0.001, 0.001, 0.001, 0.001, 0.001, 0.001, 0.001, 0.001, 0.001, 0.001, 0.001, 0.001, 0.001, 0.001, 0.001, 0.001, 0.001, 0.001, 0.001, 0.001, 0.001, 0.001, 0.001, 0.001, 0.001, 0.001, 0.001, 0.001, 0.001, 0.001, 0.001, 0.001, 0.001, 0.001, 0.001, 0.001, 0.001, 0.001, 0.001, 0.001, 0.001, 0.001, 0.001, 0.001, 0.001, 0.001, 0.001, 0.001, 0.001, 0.001, 0.001, 0.001, 0.001, 0.001, 0.001, 0.001, 0.001, 0.001, 0.001, 0.001, 0.001, 0.001, 0.001, 0.001, 0.001, 0.001, 0.001, 0.001, 0.001, 0.001, 0.001, 0.001, 0.001, 0.001], 'train_mse': [0.9999039288212662, 0.7614200716342396, 0.635792885694145, 1.2383486951469274, 2.945191429677735, 1.0222699134742923, 0.974055172114215, 0.4718929537535848, 0.5668146616672691, 0.5326353533636958, 0.559783895387838, 0.4148647792595867, 0.40067061169953455, 0.3872452452209411, 0.38224084371362804, 0.3786883736689999, 0.3748026285878314, 0.36723854287067115, 0.3736200948925557, 0.3883008679163551, 0.3700482982241002, 0.36138795516373556, 0.3574951681140574, 0.37631602023728306, 0.3642925987472295, 0.3489691563233741, 0.36045041632150643, 0.3614508087979498, 0.3595380180377204, 0.35749667990584216, 0.36586356321025454, 0.3575180699765243, 0.3399913786451606, 0.3359167729685776, 0.3562443510380154, 0.34968587988734523, 0.338922869980374, 0.34791903452341555, 0.45187811262068694, 0.340639682485593, 0.40344413145636904, 0.3702160173938806, 0.3428723762430625, 0.33802308295608186, 0.3418064896827252, 0.3307939237347742, 0.3351175713182924, 0.3281226844138723, 0.3660786089185338, 0.3501418226756574, 0.34807071020266245, 0.35010039122647624, 0.34230190060439936, 0.3399862866616854, 0.34151143244921633, 0.3375533700515618, 0.3559029252216952, 0.3410565057935358, 0.34394739981304456, 0.34692431447870825, 0.344805807502486, 0.34658883263541046, 0.34866790961724203, 0.3387886591743226, 0.3457127727906302, 0.35035816422760957, 0.3399273725540155, 0.33485815650372514, 0.3530331262955309, 0.33710127467355505, 0.3365158011644839, 0.3393593300173081, 0.3240162957994099, 0.3362823839772182, 0.331850828260424, 0.3441757808355877, 0.3376068012864176, 0.3295980938707233, 0.3370714101523447, 0.32827885946232654, 0.33323033501445115, 0.35301682738841517, 0.33778390626595545, 0.33268021441536616, 0.3292420180279768, 0.3485206657971558, 0.3215743089735733, 0.32822265955855845, 0.3276240163104563, 0.32561191883338797, 0.3175712789913218, 0.32691969385450764, 0.33663637696869025, 0.32768938366999895, 0.3320377514860174, 0.33299750406172196, 0.33034098137786716, 0.32695812810325253, 0.32543687899843765, 0.32585642199064374, 0.34361375599672067, 0.3277192009099549, 0.32541948794408776, 0.32658004921877193, 0.3284662502098787, 0.32855196992954955, 0.3300063195925492, 0.3419138558755898, 0.33362151151050207, 0.32309238649923927, 0.3400514606215742, 0.3322913246054173, 0.3409335331985958, 0.3252961749827285, 0.32515797965748666, 0.34108712271620495, 0.3215507294075964, 0.3367221327442847, 0.32929147158113825, 0.3387993868825103, 0.3395611816914095, 0.337834658443697, 0.3610148865213353, 0.3308578669015664, 0.3331461325442337, 0.33161457013822004, 0.33697341326211355, 0.33823475014742554, 0.3237056347203917, 0.33387964586074204, 0.31967967015590143, 0.3321011766940188, 0.328284557579179, 0.3305410861729611, 0.32231030235190805, 0.32108946342939004, 0.3207650442412752, 0.3310438929924852, 0.3280203211840066, 0.32156313972875444, 0.32551434861377204, 0.32013958888275035, 0.33276399214297614, 0.32657066865061923, 0.3209105315446753, 0.31997494644591784, 0.323973331127586, 0.3296811701422872, 0.32984926479865806, 0.33433394477791417, 0.3207967117599785, 0.31931316744716925, 0.3203344647751176, 0.32476672680804664, 0.3262918206382636, 0.3271208253626631, 0.32956604029151315, 0.32666954422207267, 0.3213916295893848, 0.3250167323390664, 0.32595451167545164, 0.3270712606951947, 0.3229304466489975, 0.33470540123392506, 0.30807228936690023, 0.32466834926560373, 0.3180677817351194, 0.3168677591131624, 0.3481409889426746, 0.319916216244662, 0.3168031647859489, 0.32361761429702146, 0.30886680562686325, 0.29439242349626676, 0.32543250960317904, 0.3076710397425377, 0.31132796123787215, 0.3211489631609315, 0.3097475529889072, 0.318111920228899, 0.32178926256788587, 0.3042444128388793, 0.31117025753972155, 0.3241077863679783, 0.3136163005402146, 0.3004779912593414, 0.31556485334705575, 0.30338433730425357, 0.3119264513420943, 0.317634325333063, 0.3099333628299387, 0.2981659152665933, 0.3131822938621128, 0.33735170777333656, 0.3119823062424133, 0.3205878613715504, 0.319541364820354, 0.3130898286115744, 0.3130947368464298, 0.3306339708000374, 0.31077619305575493, 0.3136470999291725, 0.31412895368177146, 0.33120761224838147, 0.3045940606065547, 0.3187569608084112, 0.315833978152153, 0.3106405456587979, 0.3200459067789114, 0.3280621679150052, 0.3178030157170418, 0.30886965420356594, 0.32292172239470085, 0.3208562922571087, 0.3191009828049491, 0.3083682186386847, 0.3236601931790488, 0.31618858382186127, 0.30706969084283375, 0.32024223460558565, 0.29640631013508806, 0.31056114713936284, 0.31624632688767873, 0.30967356510413047, 0.31237634464077796, 0.30466541477195597, 0.3143230745602111, 0.3150623020022927, 0.30311423739804616, 0.32684670865874793, 0.3040270334678558, 0.3241109016088172, 0.31399828881862313, 0.3096439142626057, 0.30871764806000995, 0.3064891358910757, 0.30713413603955103, 0.3065179194828293, 0.3122709626974222, 0.3154502473313477, 0.32024244666373974, 0.3224436284453777, 0.31282770715266056, 0.29855937482486883, 0.30475032811400166, 0.3084929443520276, 0.3096047436747589, 0.32843447317064456, 0.3121330223696339, 0.30585875320159917, 0.30296107279280127, 0.32735543873725126, 0.3169993243169323, 0.3133281294552789, 0.3095566970245997, 0.3212448953028402, 0.3205365175692329, 0.3079215190381961, 0.317447684425082, 0.3092128504305801, 0.30547879022066954, 0.2947196758302051, 0.34020487723515647, 0.3035257097695938, 0.31354075993160524, 0.32037120095735766, 0.3114458097044223, 0.3051645073661635, 0.3106726038116752, 0.30847187549668653, 0.31768247321135235, 0.3290770466073081, 0.29736641877221737, 0.3102435539225715, 0.3086418046829542, 0.30910306105163265, 0.31855005225941274, 0.3075904740895884, 0.3136785966866854, 0.31074357389368296, 0.2975188240655906, 0.3163657884146992, 0.309850512341004, 0.2978895252275255, 0.3125538202175227, 0.31151849662413744, 0.3226012373040754, 0.30765095333622555, 0.3187812908802226, 0.3293867710318934, 0.30672529558225103, 0.31403218293015345, 0.3061059554393507, 0.3085847811973623, 0.3123401452300652, 0.30165207528032645, 0.29864825545021767, 0.3087007977774481, 0.31191594542420725, 0.30592692451542874, 0.3005299867743658, 0.30588304952017453, 0.30772613185816283, 0.3053247628150429, 0.31215721520610684, 0.3287776374903926, 0.304335222334035, 0.3031889167162499, 0.3212143290093884, 0.30222034510633566, 0.3235393820833113, 0.3128159170226174, 0.30374659967218137, 0.30586957619026417, 0.3163741929940166, 0.3172277517676241, 0.2994310736715678, 0.29628663658389476, 0.30945330202011667, 0.3236493541519321, 0.3207474702351816, 0.3105127712700349, 0.3080337354257874, 0.36881459382133813, 0.3646685197215254, 0.29835538255544675, 0.3080216084742902, 0.299589566545159, 0.3064722581120355, 0.30062035673628323, 0.3086691038917036, 0.2893623039993955, 0.31426861894870295, 0.3066598387267893, 0.29870514485789046, 0.30387734099939606, 0.3042374480143032, 0.2985564805380436, 0.3132775701512473, 0.3011342319699322, 0.3124336210364783, 0.3068183827317394, 0.3046900957979024, 0.3032148805144217, 0.31725891630293723, 0.3123217065893355, 0.31344942141881255, 0.31013249298823226, 0.30806209946939245, 0.30249477090272536, 0.3073971215883599, 0.3570788726995997, 0.35903741205279094, 0.29410725027031215, 0.34281619231994886, 0.34567406862423555, 0.3404446327068461, 0.35255758870318793, 0.36371548724372965, 0.3159638129878772, 0.33573406713604625, 0.3151688578813641, 0.344198912745998, 0.3231042404527278, 0.30460022703262746, 0.333894801590333, 0.34370620696214493, 0.30143203975840194, 0.3127201920439085, 0.30726879942471896, 0.3010587827921183, 0.3127666439501713, 0.3138523586228078, 0.3534555412159496, 0.30888710193863594, 0.3136063744525368, 0.3095228333809336, 0.32139491895773104, 0.32176119615700866, 0.30205126875386723], 'train_mae': [0.7376984047653194, 0.642235785242067, 0.5868878170293136, 0.5551862143924978, 0.5412067938294375, 0.5043643805993715, 0.49213702638853113, 0.47432847805708633, 0.46155310664750515, 0.45280501645949806, 0.4434937871766072, 0.4376848893724773, 0.4370529630636553, 0.4308309056925366, 0.4303647317814179, 0.43042823115775397, 0.4273915057256606, 0.423309325473654, 0.4204828561701956, 0.42298427551123313, 0.41309409818902837, 0.4148907799235758, 0.4135751008880261, 0.4152860533686867, 0.41292680494005685, 0.41108516252315686, 0.4126278439979361, 0.41215143367720175, 0.41032906125220475, 0.40971369804420893, 0.4060037885443708, 0.40848716140127916, 0.40401901895805004, 0.4035316375851791, 0.4053802794758934, 0.4006280303231418, 0.40219677600219683, 0.40007587138718015, 0.4030440131621336, 0.40271863542949715, 0.4029680807354503, 0.4054884267763785, 0.39843290276464494, 0.3999258164618232, 0.39542692518976785, 0.3891241719237757, 0.3977933355597207, 0.39260907482320967, 0.39239365956975036, 0.3960108153914298, 0.39511347579472733, 0.3917493476740141, 0.3938579085383648, 0.3934730467924947, 0.39696686457696406, 0.39148169844413994, 0.3983233790571603, 0.3889676319354774, 0.3945937897234623, 0.3866444973890359, 0.3942536955383116, 0.39280890341949354, 0.39499951329180627, 0.3962809597244012, 0.3897770119878132, 0.3976376176181291, 0.3866494812457518, 0.3865598652087992, 0.3927881255231662, 0.389738310835791, 0.38381131507845423, 0.39057055939199414, 0.38857176306067903, 0.39521113331677865, 0.3887943616031501, 0.3873514184053669, 0.39568623087574695, 0.3892299075495942, 0.3887250246032238, 0.38542367249721726, 0.3863215323949935, 0.38710730391098935, 0.3947005093243095, 0.3828694220274785, 0.3846066770023248, 0.39277615478105654, 0.38407159600744367, 0.3897199046015465, 0.383171768230052, 0.38263202975639377, 0.382027467847534, 0.3861543462533579, 0.37864881387997856, 0.3884651742557088, 0.38255789499191384, 0.37878957903109806, 0.3820430008171377, 0.38859834546156286, 0.39092788009871904, 0.3833914942554361, 0.3892667146249232, 0.38399496331379696, 0.38647285886523014, 0.378648904214929, 0.3814491011134698, 0.3775831504273137, 0.3810557901027227, 0.3894963859370254, 0.38847197321383303, 0.38496365382956144, 0.3851953671667242, 0.38638705929296474, 0.38735754187016064, 0.3777312679007919, 0.3840246650746953, 0.38323670635834267, 0.37665970605061816, 0.3854500609505255, 0.3849627485016586, 0.3906207328631461, 0.384065982568332, 0.3839366821299172, 0.39003568045009135, 0.381336889823965, 0.3793058404532027, 0.37998052249816483, 0.381191027543882, 0.3851932853723923, 0.376427078546554, 0.38094615089769385, 0.3818678794459238, 0.381836096459025, 0.38144425826381556, 0.38421222002729505, 0.3824939895797967, 0.3797551561108964, 0.38001467426258784, 0.38377418781669154, 0.37663809764428813, 0.38257736681212934, 0.3793996150282692, 0.373732290038475, 0.38510586589716594, 0.3790651483479473, 0.38367190877981355, 0.37530052099260175, 0.37470810896463086, 0.3826055229335036, 0.37748191792228564, 0.3940234124361378, 0.37688551909749557, 0.3814982463150699, 0.37586517819699156, 0.37962634482178276, 0.3774085943972716, 0.3723662572478989, 0.37940696455512074, 0.3771399883826267, 0.3776762510996251, 0.37964782987935514, 0.37570597334308076, 0.3765554532190041, 0.3781079839920814, 0.3819966762494528, 0.37394829992904416, 0.37135559694701703, 0.37438765164675475, 0.37926218375719567, 0.3820926268136217, 0.37523338178285015, 0.37608630335740134, 0.37942378170600344, 0.37215524180169807, 0.3707371091556409, 0.38612953114151927, 0.36816485703902346, 0.37366037952433917, 0.3762759133917409, 0.37236269033792563, 0.37197630593422093, 0.3747011225022184, 0.3699339786281218, 0.3652832633216166, 0.37535367295603356, 0.37296697205164586, 0.36544563510280753, 0.36678475185589365, 0.3682248999455609, 0.37320228897655666, 0.37017478262864517, 0.3732331131555872, 0.3737714836073401, 0.37200117650815534, 0.38287893478183976, 0.37209136676284416, 0.37958352300755216, 0.37113684227918314, 0.37556929292566943, 0.36975559268173297, 0.37348435694731963, 0.36385518220955737, 0.36636764734030636, 0.37010778179188614, 0.37171426742850644, 0.36702859050044817, 0.36930955674100313, 0.36824617917509883, 0.36605401444841995, 0.3732663421693733, 0.3764029003318493, 0.3726009697535265, 0.36979376816270826, 0.37187366570266334, 0.3687196703176192, 0.3749693350531811, 0.36891689552566304, 0.3704164936455534, 0.37328592848712727, 0.36777706660418263, 0.3661238226464431, 0.36448087020663145, 0.36727124082944596, 0.36703407744966204, 0.3675607129693561, 0.36773803319163684, 0.37271051250727144, 0.37008422875523156, 0.3688585835211094, 0.3655450888496264, 0.37164503946132926, 0.36307490330856074, 0.37051806560432077, 0.36417297094859474, 0.36686280822685685, 0.36511957002383444, 0.365206341860828, 0.3653999145264062, 0.36240590879739915, 0.3682486972051058, 0.36517523813718544, 0.3732743890945169, 0.37138761187928804, 0.3683848355300059, 0.36298397142901584, 0.3659230429840713, 0.3656516349177098, 0.3655599631135882, 0.3739828352846189, 0.3674997631681578, 0.3677977387939968, 0.36050224866269254, 0.37347727216117693, 0.37320548012800425, 0.3646614141682821, 0.36555934260311984, 0.37267807332918035, 0.3676445164010149, 0.3689681613339437, 0.3693039768751315, 0.3644647903450615, 0.36755984869490976, 0.36821877409938847, 0.3786470700847793, 0.3630719156079891, 0.3651811013118522, 0.3691491873606849, 0.36799552606089103, 0.3642370796418695, 0.3647660464869336, 0.3649634042315405, 0.36435798891414845, 0.37474581606152946, 0.363449350656629, 0.3658705237383516, 0.36819652216922566, 0.3668888559555808, 0.3692855344310057, 0.36263368039842236, 0.36621199861154924, 0.3629257163288058, 0.3601544431889753, 0.36567963608706344, 0.36211655342190335, 0.3684107594953219, 0.3619468792122779, 0.3649527729113067, 0.3691177417778613, 0.3718282719900518, 0.36775332084965157, 0.3697446492446097, 0.3626114534731799, 0.3680342049047596, 0.3654597776698761, 0.3656684458940068, 0.3702270113543916, 0.35990674774389814, 0.36353886831734616, 0.36323021310798087, 0.3687582703963065, 0.36331919415189573, 0.36092852221253446, 0.3626578721675534, 0.3637588985999137, 0.36075927032054905, 0.3610329261531102, 0.37233393417784816, 0.3603858929287839, 0.36151721620442595, 0.37208865996015833, 0.3593179871958619, 0.36775559221121934, 0.36543554059143274, 0.361467842187672, 0.3589473922074891, 0.36866206373583094, 0.36984128122220666, 0.36137762833559034, 0.36353368935022345, 0.3669074137868236, 0.36067522418729103, 0.37022915787665434, 0.3631677109721773, 0.36425640310088814, 0.37540197315001234, 0.3664785585402538, 0.3621816117804347, 0.36018502153526094, 0.3615621505924274, 0.36244453585666614, 0.35786655700874864, 0.3632897312566311, 0.3584381403628067, 0.3659307033353371, 0.3613051957851218, 0.36141121844454377, 0.36363713803261183, 0.36133459263725487, 0.3599697763397707, 0.3652877239923391, 0.3596481384159832, 0.3644848104782631, 0.3685455642904438, 0.3624849453892407, 0.3629957995473835, 0.36749564523501677, 0.3666783653152225, 0.36653232793658624, 0.36007393960372125, 0.36559976901022145, 0.3623091055130519, 0.36524114199767777, 0.3631921021950939, 0.3653120196977567, 0.36064754107768354, 0.365002738622945, 0.3662709573224042, 0.3594864212760841, 0.36577500292963777, 0.36986550440597127, 0.3615749530228451, 0.3661988339183363, 0.3596365760805665, 0.36928007785002726, 0.35994861133609196, 0.3646433236345358, 0.36504844455340846, 0.36535603459338073, 0.36001823337932215, 0.3622061233995374, 0.36412945461785773, 0.36439262247711773, 0.36743916908094937, 0.36952808770091294, 0.3655283837104683, 0.36449224177548517, 0.36252522744099913, 0.3614250671958826, 0.3660760882596879, 0.36617822297104546, 0.36072628510194676]}\n"
     ]
    },
    {
     "data": {
      "application/scrapbook.scrap.json+json": {
       "data": 0.36533106504649837,
       "encoder": "json",
       "name": "TabNet MAE",
       "version": 1
      }
     },
     "metadata": {
      "scrapbook": {
       "data": true,
       "display": false,
       "name": "TabNet MAE"
      }
     },
     "output_type": "display_data"
    },
    {
     "name": "stdout",
     "output_type": "stream",
     "text": [
      "TabNet MAE 0.36533106504649837\n"
     ]
    },
    {
     "data": {
      "image/png": "[encoded data removed]",
      "text/plain": [
       "<Figure size 432x288 with 1 Axes>"
      ]
     },
     "metadata": {
      "needs_background": "light"
     },
     "output_type": "display_data"
    }
   ],
   "source": [
    "lr = 0.001\n",
    "\n",
    "y_train = np.reshape(y_train, (-1, 1))\n",
    "y_test = np.reshape(y_test, (-1, 1))\n",
    "\n",
    "device = torch.device('cuda' if torch.cuda.is_available() else 'cpu')\n",
    "mae_tab= baselineModels.tabnetreg(X_train,y_train,X_test,y_test,batch_size,n_features,n_target,n_epochs, lr)\n",
    "sb.glue(\"TabNet MAE\",mae_tab)\n",
    "print(\"TabNet MAE\",mae_tab)"
   ]
  }
 ],
 "metadata": {
  "kernelspec": {
   "display_name": "Python 3.7.3 64-bit",
   "language": "python",
   "name": "python3"
  },
  "language_info": {
   "codemirror_mode": {
    "name": "ipython",
    "version": 3
   },
   "file_extension": ".py",
   "mimetype": "text/x-python",
   "name": "python",
   "nbconvert_exporter": "python",
   "pygments_lexer": "ipython3",
   "version": "3.7.13"
  },
  "papermill": {
   "default_parameters": {},
   "duration": 869.745871,
   "end_time": "2022-07-20T17:38:57.484356",
   "environment_variables": {},
   "exception": null,
   "input_path": "BaselineModels.ipynb",
   "output_path": "./BaseLine_Model_Output/BaselineModels_output_7.ipynb",
   "parameters": {},
   "start_time": "2022-07-20T17:24:27.738485",
   "version": "2.3.4"
  },
  "vscode": {
   "interpreter": {
    "hash": "aee8b7b246df8f9039afb4144a1f6fd8d2ca17a180786b69acc140d282b71a49"
   }
  }
 },
 "nbformat": 4,
 "nbformat_minor": 5
}