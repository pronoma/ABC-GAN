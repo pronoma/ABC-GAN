{
 "cells": [
  {
   "cell_type": "markdown",
   "id": "622780e6",
   "metadata": {
    "id": "622780e6",
    "papermill": {
     "duration": 0.025427,
     "end_time": "2022-03-08T20:45:23.593832",
     "exception": false,
     "start_time": "2022-03-08T20:45:23.568405",
     "status": "completed"
    },
    "tags": []
   },
   "source": [
    "## Import Libraries "
   ]
  },
  {
   "cell_type": "code",
   "execution_count": 1,
   "id": "a62397e3",
   "metadata": {
    "execution": {
     "iopub.execute_input": "2022-03-08T20:45:23.628794Z",
     "iopub.status.busy": "2022-03-08T20:45:23.628296Z",
     "iopub.status.idle": "2022-03-08T20:45:23.630864Z",
     "shell.execute_reply": "2022-03-08T20:45:23.631205Z"
    },
    "id": "a62397e3",
    "papermill": {
     "duration": 0.022103,
     "end_time": "2022-03-08T20:45:23.631407",
     "exception": false,
     "start_time": "2022-03-08T20:45:23.609304",
     "status": "completed"
    },
    "tags": []
   },
   "outputs": [],
   "source": [
    "import warnings\n",
    "import sys\n",
    "sys.path.insert(0, '../../src')\n",
    "warnings.filterwarnings('ignore')"
   ]
  },
  {
   "cell_type": "code",
   "execution_count": 2,
   "id": "d6a4e155",
   "metadata": {
    "execution": {
     "iopub.execute_input": "2022-03-08T20:45:23.652228Z",
     "iopub.status.busy": "2022-03-08T20:45:23.651817Z",
     "iopub.status.idle": "2022-03-08T20:45:25.190298Z",
     "shell.execute_reply": "2022-03-08T20:45:25.190532Z"
    },
    "id": "d6a4e155",
    "papermill": {
     "duration": 1.549564,
     "end_time": "2022-03-08T20:45:25.190662",
     "exception": false,
     "start_time": "2022-03-08T20:45:23.641098",
     "status": "completed"
    },
    "tags": []
   },
   "outputs": [],
   "source": [
    "import ABC_train_test2\n",
    "import friedman1Dataset\n",
    "import network\n",
    "import dataset\n",
    "import sanityChecks\n",
    "import torch \n",
    "import scrapbook as sb\n",
    "from statistics import mean \n",
    "import catboost as ctb \n",
    "from sklearn.model_selection import train_test_split\n",
    "from sklearn.metrics import mean_squared_error,mean_absolute_error\n",
    "import numpy as np"
   ]
  },
  {
   "cell_type": "markdown",
   "id": "2fa5b0f7",
   "metadata": {
    "id": "2fa5b0f7",
    "papermill": {
     "duration": 0.006789,
     "end_time": "2022-03-08T20:45:25.204686",
     "exception": false,
     "start_time": "2022-03-08T20:45:25.197897",
     "status": "completed"
    },
    "tags": []
   },
   "source": [
    "## Parameters "
   ]
  },
  {
   "cell_type": "code",
   "execution_count": 3,
   "id": "783186fb",
   "metadata": {
    "execution": {
     "iopub.execute_input": "2022-03-08T20:45:25.220501Z",
     "iopub.status.busy": "2022-03-08T20:45:25.220118Z",
     "iopub.status.idle": "2022-03-08T20:45:25.221448Z",
     "shell.execute_reply": "2022-03-08T20:45:25.221685Z"
    },
    "id": "783186fb",
    "papermill": {
     "duration": 0.010351,
     "end_time": "2022-03-08T20:45:25.221794",
     "exception": false,
     "start_time": "2022-03-08T20:45:25.211443",
     "status": "completed"
    },
    "tags": [
     "parameters"
    ]
   },
   "outputs": [],
   "source": [
    "variance = 1\n",
    "bias = 1 "
   ]
  },
  {
   "cell_type": "code",
   "execution_count": 4,
   "id": "d1577beb",
   "metadata": {
    "execution": {
     "iopub.execute_input": "2022-03-08T20:45:25.237468Z",
     "iopub.status.busy": "2022-03-08T20:45:25.237107Z",
     "iopub.status.idle": "2022-03-08T20:45:25.238427Z",
     "shell.execute_reply": "2022-03-08T20:45:25.238722Z"
    },
    "papermill": {
     "duration": 0.010053,
     "end_time": "2022-03-08T20:45:25.238834",
     "exception": false,
     "start_time": "2022-03-08T20:45:25.228781",
     "status": "completed"
    },
    "tags": [
     "injected-parameters"
    ]
   },
   "outputs": [],
   "source": [
    "# Parameters\n",
    "variance = 1\n",
    "bias = 0.01\n"
   ]
  },
  {
   "cell_type": "markdown",
   "id": "391cdbfd",
   "metadata": {
    "id": "391cdbfd",
    "papermill": {
     "duration": 0.006821,
     "end_time": "2022-03-08T20:45:25.252521",
     "exception": false,
     "start_time": "2022-03-08T20:45:25.245700",
     "status": "completed"
    },
    "tags": []
   },
   "source": [
    "## Dataset \n"
   ]
  },
  {
   "cell_type": "code",
   "execution_count": 5,
   "id": "5b51f161",
   "metadata": {
    "execution": {
     "iopub.execute_input": "2022-03-08T20:45:25.268079Z",
     "iopub.status.busy": "2022-03-08T20:45:25.267726Z",
     "iopub.status.idle": "2022-03-08T20:45:25.269080Z",
     "shell.execute_reply": "2022-03-08T20:45:25.269316Z"
    },
    "id": "5b51f161",
    "papermill": {
     "duration": 0.010032,
     "end_time": "2022-03-08T20:45:25.269420",
     "exception": false,
     "start_time": "2022-03-08T20:45:25.259388",
     "status": "completed"
    },
    "tags": []
   },
   "outputs": [],
   "source": [
    "#Parameters \n",
    "n_features = 5\n",
    "n_samples= 100\n",
    "n_target = 1 "
   ]
  },
  {
   "cell_type": "code",
   "execution_count": 6,
   "id": "5d6eced4",
   "metadata": {
    "execution": {
     "iopub.execute_input": "2022-03-08T20:45:25.286146Z",
     "iopub.status.busy": "2022-03-08T20:45:25.284929Z",
     "iopub.status.idle": "2022-03-08T20:45:25.291010Z",
     "shell.execute_reply": "2022-03-08T20:45:25.291243Z"
    },
    "id": "5d6eced4",
    "papermill": {
     "duration": 0.014973,
     "end_time": "2022-03-08T20:45:25.291350",
     "exception": false,
     "start_time": "2022-03-08T20:45:25.276377",
     "status": "completed"
    },
    "tags": []
   },
   "outputs": [
    {
     "name": "stdout",
     "output_type": "stream",
     "text": [
      "         X0        X1        X2        X3        X4         Y\n",
      "0  1.741715 -0.708160 -1.577636  0.977626 -0.368074  1.501180\n",
      "1 -0.099524  1.029396  1.180603 -0.073440 -0.179005  1.070714\n",
      "2 -1.173008 -1.404981 -1.136216 -1.468217  1.645817 -1.295592\n",
      "3  0.930581 -1.095787  1.248911 -1.167246 -0.865594 -1.043747\n",
      "4  1.068291 -1.013142 -0.166764  1.287495  0.035859  0.278819\n"
     ]
    }
   ],
   "source": [
    "X,Y = friedman1Dataset.friedman1_data(n_samples,n_features)"
   ]
  },
  {
   "cell_type": "code",
   "execution_count": 7,
   "id": "fe007438",
   "metadata": {
    "execution": {
     "iopub.execute_input": "2022-03-08T20:45:25.308436Z",
     "iopub.status.busy": "2022-03-08T20:45:25.308062Z",
     "iopub.status.idle": "2022-03-08T20:45:25.309583Z",
     "shell.execute_reply": "2022-03-08T20:45:25.309817Z"
    },
    "id": "fe007438",
    "papermill": {
     "duration": 0.011193,
     "end_time": "2022-03-08T20:45:25.309923",
     "exception": false,
     "start_time": "2022-03-08T20:45:25.298730",
     "status": "completed"
    },
    "tags": []
   },
   "outputs": [],
   "source": [
    "#Train test split for dataset \n",
    "X_train,X_test,Y_train,Y_test = train_test_split(X,Y,test_size = 0.2)\n",
    "train_data = dataset.CustomDataset(X_train,Y_train)\n",
    "test_data = dataset.CustomDataset(X_test,Y_test)\n"
   ]
  },
  {
   "cell_type": "markdown",
   "id": "a9a1af34",
   "metadata": {
    "id": "a9a1af34",
    "papermill": {
     "duration": 0.007133,
     "end_time": "2022-03-08T20:45:25.324321",
     "exception": false,
     "start_time": "2022-03-08T20:45:25.317188",
     "status": "completed"
    },
    "tags": []
   },
   "source": [
    "## Training Parameters "
   ]
  },
  {
   "cell_type": "code",
   "execution_count": 8,
   "id": "952b7fc8",
   "metadata": {
    "execution": {
     "iopub.execute_input": "2022-03-08T20:45:25.340720Z",
     "iopub.status.busy": "2022-03-08T20:45:25.340375Z",
     "iopub.status.idle": "2022-03-08T20:45:25.341763Z",
     "shell.execute_reply": "2022-03-08T20:45:25.341981Z"
    },
    "id": "952b7fc8",
    "papermill": {
     "duration": 0.010661,
     "end_time": "2022-03-08T20:45:25.342082",
     "exception": false,
     "start_time": "2022-03-08T20:45:25.331421",
     "status": "completed"
    },
    "tags": []
   },
   "outputs": [],
   "source": [
    "batch_size = 32\n",
    "n_epochs = 1000\n",
    "#Select the device \n",
    "device = torch.device('cuda' if torch.cuda.is_available() else 'cpu')"
   ]
  },
  {
   "cell_type": "markdown",
   "id": "a95e1600",
   "metadata": {
    "id": "a95e1600",
    "papermill": {
     "duration": 0.007075,
     "end_time": "2022-03-08T20:45:25.356350",
     "exception": false,
     "start_time": "2022-03-08T20:45:25.349275",
     "status": "completed"
    },
    "tags": []
   },
   "source": [
    "# ABC Pre-generator Model \n",
    "\n",
    "1. The catboost model is used as a pre-generator model for the ABC-GAN. \n",
    "2. The model is first trained on the entire dataset \n",
    "3. It generats X,Y pairs and we add some Gaussian noise with mean 0 and variance 1 to it which is then feed as input to the generator.\n"
   ]
  },
  {
   "cell_type": "code",
   "execution_count": 9,
   "id": "ff8ce7bd",
   "metadata": {
    "execution": {
     "iopub.execute_input": "2022-03-08T20:45:25.374136Z",
     "iopub.status.busy": "2022-03-08T20:45:25.373668Z",
     "iopub.status.idle": "2022-03-08T20:45:26.025131Z",
     "shell.execute_reply": "2022-03-08T20:45:26.025429Z"
    },
    "id": "ff8ce7bd",
    "papermill": {
     "duration": 0.662004,
     "end_time": "2022-03-08T20:45:26.025556",
     "exception": false,
     "start_time": "2022-03-08T20:45:25.363552",
     "status": "completed"
    },
    "tags": []
   },
   "outputs": [
    {
     "name": "stdout",
     "output_type": "stream",
     "text": [
      "Learning rate set to 0.024897\n",
      "0:\tlearn: 1.0128451\ttotal: 69.1ms\tremaining: 1m 9s\n",
      "1:\tlearn: 1.0015513\ttotal: 69.9ms\tremaining: 34.9s\n",
      "2:\tlearn: 0.9913566\ttotal: 70.6ms\tremaining: 23.5s\n",
      "3:\tlearn: 0.9805328\ttotal: 71.2ms\tremaining: 17.7s\n",
      "4:\tlearn: 0.9714037\ttotal: 71.8ms\tremaining: 14.3s\n",
      "5:\tlearn: 0.9620802\ttotal: 72.4ms\tremaining: 12s\n",
      "6:\tlearn: 0.9512497\ttotal: 73ms\tremaining: 10.4s\n",
      "7:\tlearn: 0.9411857\ttotal: 73.6ms\tremaining: 9.13s\n",
      "8:\tlearn: 0.9318231\ttotal: 74.2ms\tremaining: 8.17s\n",
      "9:\tlearn: 0.9222564\ttotal: 74.7ms\tremaining: 7.39s\n",
      "10:\tlearn: 0.9127205\ttotal: 75.3ms\tremaining: 6.77s\n",
      "11:\tlearn: 0.9024563\ttotal: 75.8ms\tremaining: 6.24s\n",
      "12:\tlearn: 0.8942134\ttotal: 76.3ms\tremaining: 5.79s\n",
      "13:\tlearn: 0.8858499\ttotal: 76.9ms\tremaining: 5.41s\n",
      "14:\tlearn: 0.8775653\ttotal: 77.4ms\tremaining: 5.08s\n",
      "15:\tlearn: 0.8689729\ttotal: 78ms\tremaining: 4.79s\n",
      "16:\tlearn: 0.8609154\ttotal: 78.5ms\tremaining: 4.54s\n",
      "17:\tlearn: 0.8528179\ttotal: 79.1ms\tremaining: 4.31s\n",
      "18:\tlearn: 0.8434561\ttotal: 79.6ms\tremaining: 4.11s\n",
      "19:\tlearn: 0.8350453\ttotal: 80.1ms\tremaining: 3.93s\n",
      "20:\tlearn: 0.8263371\ttotal: 80.7ms\tremaining: 3.76s\n",
      "21:\tlearn: 0.8196312\ttotal: 81.2ms\tremaining: 3.61s\n",
      "22:\tlearn: 0.8118121\ttotal: 81.7ms\tremaining: 3.47s\n",
      "23:\tlearn: 0.8025175\ttotal: 82.2ms\tremaining: 3.34s\n",
      "24:\tlearn: 0.7959397\ttotal: 82.6ms\tremaining: 3.22s\n",
      "25:\tlearn: 0.7889885\ttotal: 83ms\tremaining: 3.11s\n",
      "26:\tlearn: 0.7825303\ttotal: 83.5ms\tremaining: 3.01s\n",
      "27:\tlearn: 0.7754686\ttotal: 84.1ms\tremaining: 2.92s\n",
      "28:\tlearn: 0.7686458\ttotal: 84.6ms\tremaining: 2.83s\n",
      "29:\tlearn: 0.7618886\ttotal: 85.2ms\tremaining: 2.75s\n",
      "30:\tlearn: 0.7551195\ttotal: 85.7ms\tremaining: 2.68s\n",
      "31:\tlearn: 0.7485710\ttotal: 86.1ms\tremaining: 2.6s\n",
      "32:\tlearn: 0.7427109\ttotal: 86.6ms\tremaining: 2.54s\n",
      "33:\tlearn: 0.7352913\ttotal: 87.1ms\tremaining: 2.47s\n",
      "34:\tlearn: 0.7280705\ttotal: 87.5ms\tremaining: 2.41s\n",
      "35:\tlearn: 0.7216407\ttotal: 88ms\tremaining: 2.36s\n",
      "36:\tlearn: 0.7147504\ttotal: 88.5ms\tremaining: 2.3s\n",
      "37:\tlearn: 0.7085432\ttotal: 89ms\tremaining: 2.25s\n",
      "38:\tlearn: 0.7030209\ttotal: 89.5ms\tremaining: 2.2s\n",
      "39:\tlearn: 0.6971751\ttotal: 89.9ms\tremaining: 2.16s\n",
      "40:\tlearn: 0.6900517\ttotal: 90.3ms\tremaining: 2.11s\n",
      "41:\tlearn: 0.6845545\ttotal: 90.8ms\tremaining: 2.07s\n",
      "42:\tlearn: 0.6787716\ttotal: 91.2ms\tremaining: 2.03s\n",
      "43:\tlearn: 0.6720957\ttotal: 91.8ms\tremaining: 1.99s\n",
      "44:\tlearn: 0.6651514\ttotal: 92.3ms\tremaining: 1.96s\n",
      "45:\tlearn: 0.6597468\ttotal: 92.8ms\tremaining: 1.93s\n",
      "46:\tlearn: 0.6541479\ttotal: 93.5ms\tremaining: 1.89s\n",
      "47:\tlearn: 0.6483158\ttotal: 93.9ms\tremaining: 1.86s\n",
      "48:\tlearn: 0.6426832\ttotal: 94.3ms\tremaining: 1.83s\n",
      "49:\tlearn: 0.6367967\ttotal: 94.7ms\tremaining: 1.8s\n",
      "50:\tlearn: 0.6324551\ttotal: 95.1ms\tremaining: 1.77s\n",
      "51:\tlearn: 0.6267970\ttotal: 95.6ms\tremaining: 1.74s\n",
      "52:\tlearn: 0.6207559\ttotal: 96.1ms\tremaining: 1.72s\n",
      "53:\tlearn: 0.6165711\ttotal: 96.5ms\tremaining: 1.69s\n",
      "54:\tlearn: 0.6101656\ttotal: 97ms\tremaining: 1.67s\n",
      "55:\tlearn: 0.6054175\ttotal: 97.4ms\tremaining: 1.64s\n",
      "56:\tlearn: 0.6010767\ttotal: 97.9ms\tremaining: 1.62s\n",
      "57:\tlearn: 0.5959275\ttotal: 98.3ms\tremaining: 1.59s\n",
      "58:\tlearn: 0.5905537\ttotal: 98.8ms\tremaining: 1.57s\n",
      "59:\tlearn: 0.5861454\ttotal: 99.2ms\tremaining: 1.55s\n",
      "60:\tlearn: 0.5811229\ttotal: 99.6ms\tremaining: 1.53s\n",
      "61:\tlearn: 0.5759772\ttotal: 100ms\tremaining: 1.51s\n",
      "62:\tlearn: 0.5722460\ttotal: 101ms\tremaining: 1.5s\n",
      "63:\tlearn: 0.5685281\ttotal: 101ms\tremaining: 1.48s\n",
      "64:\tlearn: 0.5626101\ttotal: 101ms\tremaining: 1.46s\n",
      "65:\tlearn: 0.5580381\ttotal: 102ms\tremaining: 1.44s\n",
      "66:\tlearn: 0.5535535\ttotal: 102ms\tremaining: 1.43s\n",
      "67:\tlearn: 0.5491185\ttotal: 103ms\tremaining: 1.41s\n",
      "68:\tlearn: 0.5435916\ttotal: 103ms\tremaining: 1.4s\n",
      "69:\tlearn: 0.5392887\ttotal: 104ms\tremaining: 1.38s\n",
      "70:\tlearn: 0.5351665\ttotal: 104ms\tremaining: 1.36s\n",
      "71:\tlearn: 0.5319501\ttotal: 105ms\tremaining: 1.35s\n",
      "72:\tlearn: 0.5272331\ttotal: 105ms\tremaining: 1.33s\n",
      "73:\tlearn: 0.5231392\ttotal: 106ms\tremaining: 1.32s\n",
      "74:\tlearn: 0.5175030\ttotal: 106ms\tremaining: 1.31s\n",
      "75:\tlearn: 0.5129829\ttotal: 107ms\tremaining: 1.29s\n",
      "76:\tlearn: 0.5085078\ttotal: 107ms\tremaining: 1.28s\n",
      "77:\tlearn: 0.5036180\ttotal: 107ms\tremaining: 1.27s\n",
      "78:\tlearn: 0.4998987\ttotal: 108ms\tremaining: 1.26s\n",
      "79:\tlearn: 0.4962245\ttotal: 108ms\tremaining: 1.25s\n"
     ]
    },
    {
     "name": "stdout",
     "output_type": "stream",
     "text": [
      "80:\tlearn: 0.4921179\ttotal: 109ms\tremaining: 1.24s\n",
      "81:\tlearn: 0.4883858\ttotal: 110ms\tremaining: 1.23s\n",
      "82:\tlearn: 0.4846798\ttotal: 110ms\tremaining: 1.22s\n",
      "83:\tlearn: 0.4811320\ttotal: 110ms\tremaining: 1.2s\n",
      "84:\tlearn: 0.4774785\ttotal: 111ms\tremaining: 1.19s\n",
      "85:\tlearn: 0.4734990\ttotal: 111ms\tremaining: 1.18s\n",
      "86:\tlearn: 0.4693028\ttotal: 112ms\tremaining: 1.17s\n",
      "87:\tlearn: 0.4650840\ttotal: 112ms\tremaining: 1.16s\n",
      "88:\tlearn: 0.4614697\ttotal: 113ms\tremaining: 1.15s\n",
      "89:\tlearn: 0.4580165\ttotal: 113ms\tremaining: 1.14s\n",
      "90:\tlearn: 0.4542627\ttotal: 114ms\tremaining: 1.13s\n",
      "91:\tlearn: 0.4506470\ttotal: 114ms\tremaining: 1.13s\n",
      "92:\tlearn: 0.4469297\ttotal: 115ms\tremaining: 1.12s\n",
      "93:\tlearn: 0.4434532\ttotal: 115ms\tremaining: 1.11s\n",
      "94:\tlearn: 0.4406934\ttotal: 116ms\tremaining: 1.1s\n",
      "95:\tlearn: 0.4364811\ttotal: 116ms\tremaining: 1.09s\n",
      "96:\tlearn: 0.4328551\ttotal: 117ms\tremaining: 1.08s\n",
      "97:\tlearn: 0.4295821\ttotal: 117ms\tremaining: 1.08s\n",
      "98:\tlearn: 0.4263280\ttotal: 118ms\tremaining: 1.07s\n",
      "99:\tlearn: 0.4234171\ttotal: 118ms\tremaining: 1.06s\n",
      "100:\tlearn: 0.4207031\ttotal: 119ms\tremaining: 1.05s\n",
      "101:\tlearn: 0.4176173\ttotal: 119ms\tremaining: 1.05s\n",
      "102:\tlearn: 0.4149425\ttotal: 120ms\tremaining: 1.04s\n",
      "103:\tlearn: 0.4113348\ttotal: 120ms\tremaining: 1.03s\n",
      "104:\tlearn: 0.4073783\ttotal: 121ms\tremaining: 1.03s\n",
      "105:\tlearn: 0.4037231\ttotal: 121ms\tremaining: 1.02s\n",
      "106:\tlearn: 0.4007608\ttotal: 122ms\tremaining: 1.02s\n",
      "107:\tlearn: 0.3982536\ttotal: 122ms\tremaining: 1.01s\n",
      "108:\tlearn: 0.3953215\ttotal: 123ms\tremaining: 1s\n",
      "109:\tlearn: 0.3925196\ttotal: 123ms\tremaining: 998ms\n",
      "110:\tlearn: 0.3892875\ttotal: 124ms\tremaining: 992ms\n",
      "111:\tlearn: 0.3865299\ttotal: 124ms\tremaining: 986ms\n",
      "112:\tlearn: 0.3837893\ttotal: 125ms\tremaining: 980ms\n",
      "113:\tlearn: 0.3813338\ttotal: 125ms\tremaining: 974ms\n",
      "114:\tlearn: 0.3786455\ttotal: 126ms\tremaining: 969ms\n",
      "115:\tlearn: 0.3755751\ttotal: 126ms\tremaining: 964ms\n",
      "116:\tlearn: 0.3727922\ttotal: 127ms\tremaining: 960ms\n",
      "117:\tlearn: 0.3699285\ttotal: 128ms\tremaining: 955ms\n",
      "118:\tlearn: 0.3674708\ttotal: 128ms\tremaining: 950ms\n",
      "119:\tlearn: 0.3646606\ttotal: 129ms\tremaining: 945ms\n",
      "120:\tlearn: 0.3623804\ttotal: 129ms\tremaining: 939ms\n",
      "121:\tlearn: 0.3597580\ttotal: 130ms\tremaining: 935ms\n",
      "122:\tlearn: 0.3572547\ttotal: 130ms\tremaining: 929ms\n",
      "123:\tlearn: 0.3549444\ttotal: 131ms\tremaining: 924ms\n",
      "124:\tlearn: 0.3528105\ttotal: 131ms\tremaining: 919ms\n",
      "125:\tlearn: 0.3502296\ttotal: 132ms\tremaining: 915ms\n",
      "126:\tlearn: 0.3475569\ttotal: 132ms\tremaining: 910ms\n",
      "127:\tlearn: 0.3448166\ttotal: 133ms\tremaining: 906ms\n",
      "128:\tlearn: 0.3421459\ttotal: 134ms\tremaining: 902ms\n",
      "129:\tlearn: 0.3397066\ttotal: 135ms\tremaining: 903ms\n",
      "130:\tlearn: 0.3375588\ttotal: 135ms\tremaining: 898ms\n",
      "131:\tlearn: 0.3355768\ttotal: 136ms\tremaining: 893ms\n",
      "132:\tlearn: 0.3328776\ttotal: 136ms\tremaining: 888ms\n",
      "133:\tlearn: 0.3304504\ttotal: 137ms\tremaining: 884ms\n",
      "134:\tlearn: 0.3282184\ttotal: 137ms\tremaining: 879ms\n",
      "135:\tlearn: 0.3254625\ttotal: 138ms\tremaining: 875ms\n",
      "136:\tlearn: 0.3233144\ttotal: 138ms\tremaining: 870ms\n",
      "137:\tlearn: 0.3209141\ttotal: 139ms\tremaining: 865ms\n",
      "138:\tlearn: 0.3182145\ttotal: 139ms\tremaining: 861ms\n",
      "139:\tlearn: 0.3158277\ttotal: 139ms\tremaining: 856ms\n",
      "140:\tlearn: 0.3137969\ttotal: 140ms\tremaining: 852ms\n",
      "141:\tlearn: 0.3114362\ttotal: 140ms\tremaining: 848ms\n",
      "142:\tlearn: 0.3088396\ttotal: 141ms\tremaining: 843ms\n",
      "143:\tlearn: 0.3064207\ttotal: 141ms\tremaining: 839ms\n",
      "144:\tlearn: 0.3041963\ttotal: 142ms\tremaining: 836ms\n",
      "145:\tlearn: 0.3016377\ttotal: 142ms\tremaining: 832ms\n",
      "146:\tlearn: 0.2988000\ttotal: 143ms\tremaining: 828ms\n",
      "147:\tlearn: 0.2968507\ttotal: 143ms\tremaining: 824ms\n",
      "148:\tlearn: 0.2946960\ttotal: 144ms\tremaining: 820ms\n",
      "149:\tlearn: 0.2928913\ttotal: 144ms\tremaining: 816ms\n",
      "150:\tlearn: 0.2907575\ttotal: 145ms\tremaining: 813ms\n",
      "151:\tlearn: 0.2886591\ttotal: 145ms\tremaining: 809ms\n",
      "152:\tlearn: 0.2865021\ttotal: 145ms\tremaining: 805ms\n",
      "153:\tlearn: 0.2845034\ttotal: 146ms\tremaining: 802ms\n",
      "154:\tlearn: 0.2823468\ttotal: 146ms\tremaining: 798ms\n",
      "155:\tlearn: 0.2798788\ttotal: 147ms\tremaining: 794ms\n",
      "156:\tlearn: 0.2776531\ttotal: 147ms\tremaining: 791ms\n",
      "157:\tlearn: 0.2758365\ttotal: 148ms\tremaining: 788ms\n",
      "158:\tlearn: 0.2741805\ttotal: 148ms\tremaining: 785ms\n",
      "159:\tlearn: 0.2722505\ttotal: 149ms\tremaining: 781ms\n",
      "160:\tlearn: 0.2705613\ttotal: 149ms\tremaining: 778ms\n",
      "161:\tlearn: 0.2683089\ttotal: 150ms\tremaining: 775ms\n",
      "162:\tlearn: 0.2664617\ttotal: 150ms\tremaining: 772ms\n",
      "163:\tlearn: 0.2641350\ttotal: 151ms\tremaining: 769ms\n",
      "164:\tlearn: 0.2621627\ttotal: 151ms\tremaining: 766ms\n",
      "165:\tlearn: 0.2605861\ttotal: 152ms\tremaining: 764ms\n",
      "166:\tlearn: 0.2588891\ttotal: 153ms\tremaining: 761ms\n",
      "167:\tlearn: 0.2571686\ttotal: 153ms\tremaining: 759ms\n",
      "168:\tlearn: 0.2555761\ttotal: 154ms\tremaining: 756ms\n",
      "169:\tlearn: 0.2540596\ttotal: 154ms\tremaining: 754ms\n",
      "170:\tlearn: 0.2521826\ttotal: 155ms\tremaining: 750ms\n",
      "171:\tlearn: 0.2506784\ttotal: 155ms\tremaining: 748ms\n",
      "172:\tlearn: 0.2489998\ttotal: 156ms\tremaining: 745ms\n",
      "173:\tlearn: 0.2472724\ttotal: 156ms\tremaining: 743ms\n",
      "174:\tlearn: 0.2453072\ttotal: 157ms\tremaining: 740ms\n",
      "175:\tlearn: 0.2433788\ttotal: 158ms\tremaining: 737ms\n",
      "176:\tlearn: 0.2420356\ttotal: 158ms\tremaining: 735ms\n",
      "177:\tlearn: 0.2402417\ttotal: 159ms\tremaining: 732ms\n",
      "178:\tlearn: 0.2386089\ttotal: 159ms\tremaining: 730ms\n",
      "179:\tlearn: 0.2371220\ttotal: 160ms\tremaining: 728ms\n",
      "180:\tlearn: 0.2354933\ttotal: 160ms\tremaining: 725ms\n",
      "181:\tlearn: 0.2342584\ttotal: 161ms\tremaining: 723ms\n",
      "182:\tlearn: 0.2324676\ttotal: 161ms\tremaining: 720ms\n",
      "183:\tlearn: 0.2307573\ttotal: 162ms\tremaining: 718ms\n",
      "184:\tlearn: 0.2291577\ttotal: 162ms\tremaining: 715ms\n",
      "185:\tlearn: 0.2277623\ttotal: 163ms\tremaining: 713ms\n",
      "186:\tlearn: 0.2261729\ttotal: 163ms\tremaining: 710ms\n",
      "187:\tlearn: 0.2245219\ttotal: 164ms\tremaining: 708ms\n",
      "188:\tlearn: 0.2225224\ttotal: 164ms\tremaining: 706ms\n",
      "189:\tlearn: 0.2206673\ttotal: 165ms\tremaining: 703ms\n",
      "190:\tlearn: 0.2190860\ttotal: 166ms\tremaining: 702ms\n",
      "191:\tlearn: 0.2173050\ttotal: 166ms\tremaining: 699ms\n",
      "192:\tlearn: 0.2160131\ttotal: 167ms\tremaining: 697ms\n",
      "193:\tlearn: 0.2142990\ttotal: 167ms\tremaining: 694ms\n",
      "194:\tlearn: 0.2131332\ttotal: 168ms\tremaining: 692ms\n",
      "195:\tlearn: 0.2113513\ttotal: 168ms\tremaining: 690ms\n",
      "196:\tlearn: 0.2094764\ttotal: 169ms\tremaining: 688ms\n",
      "197:\tlearn: 0.2079397\ttotal: 169ms\tremaining: 686ms\n",
      "198:\tlearn: 0.2062112\ttotal: 170ms\tremaining: 684ms\n",
      "199:\tlearn: 0.2048190\ttotal: 170ms\tremaining: 682ms\n",
      "200:\tlearn: 0.2035685\ttotal: 171ms\tremaining: 679ms\n",
      "201:\tlearn: 0.2020174\ttotal: 171ms\tremaining: 677ms\n",
      "202:\tlearn: 0.2005648\ttotal: 172ms\tremaining: 676ms\n",
      "203:\tlearn: 0.1990311\ttotal: 173ms\tremaining: 674ms\n",
      "204:\tlearn: 0.1973155\ttotal: 173ms\tremaining: 671ms\n",
      "205:\tlearn: 0.1959184\ttotal: 174ms\tremaining: 669ms\n",
      "206:\tlearn: 0.1944034\ttotal: 174ms\tremaining: 668ms\n",
      "207:\tlearn: 0.1927100\ttotal: 175ms\tremaining: 666ms\n",
      "208:\tlearn: 0.1916580\ttotal: 175ms\tremaining: 664ms\n",
      "209:\tlearn: 0.1900925\ttotal: 176ms\tremaining: 662ms\n",
      "210:\tlearn: 0.1888186\ttotal: 176ms\tremaining: 659ms\n",
      "211:\tlearn: 0.1873658\ttotal: 177ms\tremaining: 657ms\n",
      "212:\tlearn: 0.1861239\ttotal: 177ms\tremaining: 655ms\n",
      "213:\tlearn: 0.1847123\ttotal: 178ms\tremaining: 653ms\n",
      "214:\tlearn: 0.1834714\ttotal: 178ms\tremaining: 651ms\n",
      "215:\tlearn: 0.1820755\ttotal: 179ms\tremaining: 650ms\n",
      "216:\tlearn: 0.1809047\ttotal: 180ms\tremaining: 648ms\n",
      "217:\tlearn: 0.1796128\ttotal: 180ms\tremaining: 646ms\n",
      "218:\tlearn: 0.1783587\ttotal: 181ms\tremaining: 644ms\n",
      "219:\tlearn: 0.1772315\ttotal: 181ms\tremaining: 643ms\n",
      "220:\tlearn: 0.1761873\ttotal: 182ms\tremaining: 640ms\n",
      "221:\tlearn: 0.1747743\ttotal: 182ms\tremaining: 639ms\n",
      "222:\tlearn: 0.1733774\ttotal: 183ms\tremaining: 637ms\n",
      "223:\tlearn: 0.1720588\ttotal: 183ms\tremaining: 635ms\n",
      "224:\tlearn: 0.1708954\ttotal: 185ms\tremaining: 636ms\n",
      "225:\tlearn: 0.1696007\ttotal: 185ms\tremaining: 634ms\n",
      "226:\tlearn: 0.1685359\ttotal: 186ms\tremaining: 632ms\n",
      "227:\tlearn: 0.1674862\ttotal: 186ms\tremaining: 630ms\n",
      "228:\tlearn: 0.1661640\ttotal: 187ms\tremaining: 629ms\n",
      "229:\tlearn: 0.1648778\ttotal: 187ms\tremaining: 627ms\n",
      "230:\tlearn: 0.1640354\ttotal: 188ms\tremaining: 624ms\n"
     ]
    },
    {
     "name": "stdout",
     "output_type": "stream",
     "text": [
      "231:\tlearn: 0.1629876\ttotal: 188ms\tremaining: 623ms\n",
      "232:\tlearn: 0.1615660\ttotal: 189ms\tremaining: 622ms\n",
      "233:\tlearn: 0.1606018\ttotal: 190ms\tremaining: 620ms\n",
      "234:\tlearn: 0.1594372\ttotal: 190ms\tremaining: 619ms\n",
      "235:\tlearn: 0.1582732\ttotal: 191ms\tremaining: 617ms\n",
      "236:\tlearn: 0.1573262\ttotal: 191ms\tremaining: 615ms\n",
      "237:\tlearn: 0.1563126\ttotal: 191ms\tremaining: 613ms\n",
      "238:\tlearn: 0.1551290\ttotal: 192ms\tremaining: 611ms\n",
      "239:\tlearn: 0.1539741\ttotal: 192ms\tremaining: 609ms\n",
      "240:\tlearn: 0.1525595\ttotal: 193ms\tremaining: 608ms\n",
      "241:\tlearn: 0.1516908\ttotal: 193ms\tremaining: 606ms\n",
      "242:\tlearn: 0.1505178\ttotal: 194ms\tremaining: 604ms\n",
      "243:\tlearn: 0.1494247\ttotal: 194ms\tremaining: 602ms\n",
      "244:\tlearn: 0.1483000\ttotal: 195ms\tremaining: 601ms\n",
      "245:\tlearn: 0.1473892\ttotal: 195ms\tremaining: 599ms\n",
      "246:\tlearn: 0.1463800\ttotal: 196ms\tremaining: 597ms\n",
      "247:\tlearn: 0.1455635\ttotal: 197ms\tremaining: 596ms\n",
      "248:\tlearn: 0.1445421\ttotal: 197ms\tremaining: 595ms\n",
      "249:\tlearn: 0.1435555\ttotal: 198ms\tremaining: 593ms\n",
      "250:\tlearn: 0.1424465\ttotal: 198ms\tremaining: 591ms\n",
      "251:\tlearn: 0.1413507\ttotal: 199ms\tremaining: 590ms\n",
      "252:\tlearn: 0.1405007\ttotal: 199ms\tremaining: 588ms\n",
      "253:\tlearn: 0.1394821\ttotal: 200ms\tremaining: 587ms\n",
      "254:\tlearn: 0.1385297\ttotal: 200ms\tremaining: 585ms\n",
      "255:\tlearn: 0.1373455\ttotal: 201ms\tremaining: 584ms\n",
      "256:\tlearn: 0.1364918\ttotal: 202ms\tremaining: 583ms\n",
      "257:\tlearn: 0.1356962\ttotal: 202ms\tremaining: 581ms\n",
      "258:\tlearn: 0.1347842\ttotal: 203ms\tremaining: 580ms\n",
      "259:\tlearn: 0.1339191\ttotal: 203ms\tremaining: 578ms\n",
      "260:\tlearn: 0.1331687\ttotal: 204ms\tremaining: 577ms\n",
      "261:\tlearn: 0.1322135\ttotal: 204ms\tremaining: 576ms\n",
      "262:\tlearn: 0.1312952\ttotal: 205ms\tremaining: 575ms\n",
      "263:\tlearn: 0.1303741\ttotal: 206ms\tremaining: 573ms\n",
      "264:\tlearn: 0.1293988\ttotal: 206ms\tremaining: 572ms\n",
      "265:\tlearn: 0.1285823\ttotal: 207ms\tremaining: 570ms\n",
      "266:\tlearn: 0.1278358\ttotal: 207ms\tremaining: 569ms\n",
      "267:\tlearn: 0.1270852\ttotal: 208ms\tremaining: 567ms\n",
      "268:\tlearn: 0.1262468\ttotal: 208ms\tremaining: 566ms\n",
      "269:\tlearn: 0.1254545\ttotal: 209ms\tremaining: 564ms\n",
      "270:\tlearn: 0.1246752\ttotal: 209ms\tremaining: 563ms\n",
      "271:\tlearn: 0.1236867\ttotal: 210ms\tremaining: 562ms\n",
      "272:\tlearn: 0.1229187\ttotal: 210ms\tremaining: 560ms\n",
      "273:\tlearn: 0.1221389\ttotal: 211ms\tremaining: 559ms\n",
      "274:\tlearn: 0.1212633\ttotal: 212ms\tremaining: 558ms\n",
      "275:\tlearn: 0.1203471\ttotal: 212ms\tremaining: 556ms\n",
      "276:\tlearn: 0.1196138\ttotal: 213ms\tremaining: 555ms\n",
      "277:\tlearn: 0.1190412\ttotal: 213ms\tremaining: 553ms\n",
      "278:\tlearn: 0.1182857\ttotal: 214ms\tremaining: 552ms\n",
      "279:\tlearn: 0.1175431\ttotal: 214ms\tremaining: 551ms\n",
      "280:\tlearn: 0.1168099\ttotal: 215ms\tremaining: 549ms\n",
      "281:\tlearn: 0.1162191\ttotal: 215ms\tremaining: 548ms\n",
      "282:\tlearn: 0.1152272\ttotal: 216ms\tremaining: 547ms\n",
      "283:\tlearn: 0.1142998\ttotal: 216ms\tremaining: 545ms\n",
      "284:\tlearn: 0.1136016\ttotal: 217ms\tremaining: 544ms\n",
      "285:\tlearn: 0.1130632\ttotal: 217ms\tremaining: 542ms\n",
      "286:\tlearn: 0.1124532\ttotal: 218ms\tremaining: 541ms\n",
      "287:\tlearn: 0.1116731\ttotal: 218ms\tremaining: 540ms\n",
      "288:\tlearn: 0.1107390\ttotal: 219ms\tremaining: 538ms\n",
      "289:\tlearn: 0.1101641\ttotal: 219ms\tremaining: 537ms\n",
      "290:\tlearn: 0.1094940\ttotal: 220ms\tremaining: 536ms\n",
      "291:\tlearn: 0.1087720\ttotal: 220ms\tremaining: 534ms\n",
      "292:\tlearn: 0.1081438\ttotal: 221ms\tremaining: 533ms\n",
      "293:\tlearn: 0.1074216\ttotal: 221ms\tremaining: 531ms\n",
      "294:\tlearn: 0.1066938\ttotal: 222ms\tremaining: 530ms\n",
      "295:\tlearn: 0.1060309\ttotal: 222ms\tremaining: 529ms\n",
      "296:\tlearn: 0.1052965\ttotal: 223ms\tremaining: 528ms\n",
      "297:\tlearn: 0.1045668\ttotal: 223ms\tremaining: 526ms\n",
      "298:\tlearn: 0.1039799\ttotal: 224ms\tremaining: 525ms\n",
      "299:\tlearn: 0.1032007\ttotal: 224ms\tremaining: 524ms\n",
      "300:\tlearn: 0.1026301\ttotal: 225ms\tremaining: 523ms\n",
      "301:\tlearn: 0.1018576\ttotal: 225ms\tremaining: 521ms\n",
      "302:\tlearn: 0.1011449\ttotal: 226ms\tremaining: 520ms\n",
      "303:\tlearn: 0.1004459\ttotal: 227ms\tremaining: 519ms\n",
      "304:\tlearn: 0.0999173\ttotal: 227ms\tremaining: 518ms\n",
      "305:\tlearn: 0.0992840\ttotal: 228ms\tremaining: 516ms\n",
      "306:\tlearn: 0.0986600\ttotal: 228ms\tremaining: 515ms\n",
      "307:\tlearn: 0.0980521\ttotal: 229ms\tremaining: 514ms\n",
      "308:\tlearn: 0.0972607\ttotal: 229ms\tremaining: 513ms\n",
      "309:\tlearn: 0.0965769\ttotal: 230ms\tremaining: 512ms\n",
      "310:\tlearn: 0.0958347\ttotal: 230ms\tremaining: 510ms\n",
      "311:\tlearn: 0.0950728\ttotal: 231ms\tremaining: 509ms\n",
      "312:\tlearn: 0.0944140\ttotal: 231ms\tremaining: 508ms\n",
      "313:\tlearn: 0.0939577\ttotal: 232ms\tremaining: 507ms\n",
      "314:\tlearn: 0.0933271\ttotal: 232ms\tremaining: 505ms\n",
      "315:\tlearn: 0.0928741\ttotal: 233ms\tremaining: 504ms\n",
      "316:\tlearn: 0.0921363\ttotal: 233ms\tremaining: 503ms\n",
      "317:\tlearn: 0.0914460\ttotal: 234ms\tremaining: 502ms\n",
      "318:\tlearn: 0.0910109\ttotal: 234ms\tremaining: 500ms\n",
      "319:\tlearn: 0.0903071\ttotal: 235ms\tremaining: 499ms\n",
      "320:\tlearn: 0.0897217\ttotal: 235ms\tremaining: 498ms\n",
      "321:\tlearn: 0.0890354\ttotal: 236ms\tremaining: 497ms\n",
      "322:\tlearn: 0.0883650\ttotal: 236ms\tremaining: 496ms\n",
      "323:\tlearn: 0.0879479\ttotal: 237ms\tremaining: 494ms\n",
      "324:\tlearn: 0.0874056\ttotal: 237ms\tremaining: 493ms\n",
      "325:\tlearn: 0.0869046\ttotal: 238ms\tremaining: 492ms\n",
      "326:\tlearn: 0.0864582\ttotal: 238ms\tremaining: 491ms\n",
      "327:\tlearn: 0.0859423\ttotal: 239ms\tremaining: 490ms\n",
      "328:\tlearn: 0.0853039\ttotal: 240ms\tremaining: 488ms\n",
      "329:\tlearn: 0.0847778\ttotal: 240ms\tremaining: 487ms\n",
      "330:\tlearn: 0.0842415\ttotal: 241ms\tremaining: 486ms\n",
      "331:\tlearn: 0.0837618\ttotal: 241ms\tremaining: 485ms\n",
      "332:\tlearn: 0.0832449\ttotal: 241ms\tremaining: 484ms\n",
      "333:\tlearn: 0.0827568\ttotal: 242ms\tremaining: 483ms\n",
      "334:\tlearn: 0.0823917\ttotal: 243ms\tremaining: 482ms\n",
      "335:\tlearn: 0.0819197\ttotal: 243ms\tremaining: 481ms\n",
      "336:\tlearn: 0.0813537\ttotal: 244ms\tremaining: 479ms\n",
      "337:\tlearn: 0.0809385\ttotal: 244ms\tremaining: 478ms\n",
      "338:\tlearn: 0.0803926\ttotal: 245ms\tremaining: 477ms\n",
      "339:\tlearn: 0.0798430\ttotal: 245ms\tremaining: 476ms\n",
      "340:\tlearn: 0.0794510\ttotal: 246ms\tremaining: 475ms\n",
      "341:\tlearn: 0.0791202\ttotal: 246ms\tremaining: 474ms\n",
      "342:\tlearn: 0.0787965\ttotal: 247ms\tremaining: 473ms\n",
      "343:\tlearn: 0.0783628\ttotal: 247ms\tremaining: 471ms\n",
      "344:\tlearn: 0.0779389\ttotal: 248ms\tremaining: 471ms\n",
      "345:\tlearn: 0.0774308\ttotal: 248ms\tremaining: 470ms\n",
      "346:\tlearn: 0.0769053\ttotal: 249ms\tremaining: 469ms\n",
      "347:\tlearn: 0.0763900\ttotal: 250ms\tremaining: 468ms\n",
      "348:\tlearn: 0.0758888\ttotal: 250ms\tremaining: 467ms\n",
      "349:\tlearn: 0.0754299\ttotal: 251ms\tremaining: 465ms\n",
      "350:\tlearn: 0.0750270\ttotal: 251ms\tremaining: 465ms\n",
      "351:\tlearn: 0.0746334\ttotal: 252ms\tremaining: 464ms\n",
      "352:\tlearn: 0.0741040\ttotal: 252ms\tremaining: 462ms\n",
      "353:\tlearn: 0.0737210\ttotal: 253ms\tremaining: 461ms\n",
      "354:\tlearn: 0.0732519\ttotal: 253ms\tremaining: 460ms\n",
      "355:\tlearn: 0.0729865\ttotal: 254ms\tremaining: 459ms\n",
      "356:\tlearn: 0.0725279\ttotal: 254ms\tremaining: 458ms\n",
      "357:\tlearn: 0.0721791\ttotal: 255ms\tremaining: 457ms\n",
      "358:\tlearn: 0.0717758\ttotal: 255ms\tremaining: 456ms\n",
      "359:\tlearn: 0.0713393\ttotal: 256ms\tremaining: 455ms\n",
      "360:\tlearn: 0.0708989\ttotal: 257ms\tremaining: 454ms\n",
      "361:\tlearn: 0.0705839\ttotal: 257ms\tremaining: 453ms\n",
      "362:\tlearn: 0.0702662\ttotal: 258ms\tremaining: 452ms\n",
      "363:\tlearn: 0.0699620\ttotal: 258ms\tremaining: 451ms\n",
      "364:\tlearn: 0.0696655\ttotal: 259ms\tremaining: 450ms\n",
      "365:\tlearn: 0.0694530\ttotal: 259ms\tremaining: 449ms\n",
      "366:\tlearn: 0.0691659\ttotal: 260ms\tremaining: 448ms\n",
      "367:\tlearn: 0.0689598\ttotal: 260ms\tremaining: 447ms\n",
      "368:\tlearn: 0.0685488\ttotal: 261ms\tremaining: 446ms\n",
      "369:\tlearn: 0.0682711\ttotal: 261ms\tremaining: 445ms\n",
      "370:\tlearn: 0.0678850\ttotal: 262ms\tremaining: 444ms\n",
      "371:\tlearn: 0.0676390\ttotal: 262ms\tremaining: 443ms\n",
      "372:\tlearn: 0.0672888\ttotal: 263ms\tremaining: 442ms\n",
      "373:\tlearn: 0.0670951\ttotal: 263ms\tremaining: 441ms\n",
      "374:\tlearn: 0.0667008\ttotal: 264ms\tremaining: 440ms\n",
      "375:\tlearn: 0.0664653\ttotal: 264ms\tremaining: 439ms\n",
      "376:\tlearn: 0.0661096\ttotal: 265ms\tremaining: 438ms\n",
      "377:\tlearn: 0.0659242\ttotal: 266ms\tremaining: 438ms\n",
      "378:\tlearn: 0.0656377\ttotal: 267ms\tremaining: 437ms\n",
      "379:\tlearn: 0.0652380\ttotal: 267ms\tremaining: 436ms\n",
      "380:\tlearn: 0.0648164\ttotal: 268ms\tremaining: 435ms\n",
      "381:\tlearn: 0.0646388\ttotal: 268ms\tremaining: 434ms\n",
      "382:\tlearn: 0.0642530\ttotal: 269ms\tremaining: 433ms\n",
      "383:\tlearn: 0.0638580\ttotal: 269ms\tremaining: 432ms\n",
      "384:\tlearn: 0.0634489\ttotal: 270ms\tremaining: 431ms\n",
      "385:\tlearn: 0.0631207\ttotal: 270ms\tremaining: 430ms\n",
      "386:\tlearn: 0.0627552\ttotal: 271ms\tremaining: 429ms\n",
      "387:\tlearn: 0.0623590\ttotal: 271ms\tremaining: 428ms\n",
      "388:\tlearn: 0.0619587\ttotal: 272ms\tremaining: 427ms\n",
      "389:\tlearn: 0.0616066\ttotal: 272ms\tremaining: 426ms\n",
      "390:\tlearn: 0.0612603\ttotal: 273ms\tremaining: 425ms\n",
      "391:\tlearn: 0.0609211\ttotal: 274ms\tremaining: 424ms\n",
      "392:\tlearn: 0.0605973\ttotal: 274ms\tremaining: 423ms\n",
      "393:\tlearn: 0.0602679\ttotal: 274ms\tremaining: 422ms\n",
      "394:\tlearn: 0.0598706\ttotal: 275ms\tremaining: 421ms\n",
      "395:\tlearn: 0.0596013\ttotal: 276ms\tremaining: 420ms\n",
      "396:\tlearn: 0.0594022\ttotal: 276ms\tremaining: 419ms\n",
      "397:\tlearn: 0.0592462\ttotal: 277ms\tremaining: 418ms\n",
      "398:\tlearn: 0.0589242\ttotal: 277ms\tremaining: 417ms\n",
      "399:\tlearn: 0.0585838\ttotal: 278ms\tremaining: 417ms\n",
      "400:\tlearn: 0.0582817\ttotal: 278ms\tremaining: 416ms\n",
      "401:\tlearn: 0.0580925\ttotal: 279ms\tremaining: 415ms\n",
      "402:\tlearn: 0.0577987\ttotal: 279ms\tremaining: 414ms\n",
      "403:\tlearn: 0.0575514\ttotal: 280ms\tremaining: 413ms\n",
      "404:\tlearn: 0.0572508\ttotal: 280ms\tremaining: 412ms\n",
      "405:\tlearn: 0.0569546\ttotal: 281ms\tremaining: 411ms\n",
      "406:\tlearn: 0.0565891\ttotal: 281ms\tremaining: 410ms\n",
      "407:\tlearn: 0.0563507\ttotal: 282ms\tremaining: 409ms\n",
      "408:\tlearn: 0.0560628\ttotal: 282ms\tremaining: 408ms\n",
      "409:\tlearn: 0.0557797\ttotal: 283ms\tremaining: 407ms\n",
      "410:\tlearn: 0.0554792\ttotal: 283ms\tremaining: 406ms\n",
      "411:\tlearn: 0.0552242\ttotal: 284ms\tremaining: 405ms\n",
      "412:\tlearn: 0.0548650\ttotal: 284ms\tremaining: 404ms\n",
      "413:\tlearn: 0.0545737\ttotal: 285ms\tremaining: 403ms\n",
      "414:\tlearn: 0.0543226\ttotal: 285ms\tremaining: 402ms\n",
      "415:\tlearn: 0.0540969\ttotal: 286ms\tremaining: 401ms\n",
      "416:\tlearn: 0.0538929\ttotal: 286ms\tremaining: 400ms\n",
      "417:\tlearn: 0.0536259\ttotal: 287ms\tremaining: 399ms\n",
      "418:\tlearn: 0.0533442\ttotal: 287ms\tremaining: 398ms\n",
      "419:\tlearn: 0.0530664\ttotal: 288ms\tremaining: 397ms\n",
      "420:\tlearn: 0.0528522\ttotal: 288ms\tremaining: 396ms\n",
      "421:\tlearn: 0.0525948\ttotal: 289ms\tremaining: 395ms\n",
      "422:\tlearn: 0.0523623\ttotal: 289ms\tremaining: 394ms\n",
      "423:\tlearn: 0.0521717\ttotal: 290ms\tremaining: 394ms\n",
      "424:\tlearn: 0.0519048\ttotal: 290ms\tremaining: 393ms\n",
      "425:\tlearn: 0.0516793\ttotal: 291ms\tremaining: 392ms\n",
      "426:\tlearn: 0.0514586\ttotal: 291ms\tremaining: 391ms\n",
      "427:\tlearn: 0.0511979\ttotal: 292ms\tremaining: 390ms\n",
      "428:\tlearn: 0.0509140\ttotal: 292ms\tremaining: 389ms\n",
      "429:\tlearn: 0.0507505\ttotal: 293ms\tremaining: 388ms\n"
     ]
    },
    {
     "name": "stdout",
     "output_type": "stream",
     "text": [
      "430:\tlearn: 0.0505336\ttotal: 294ms\tremaining: 388ms\n",
      "431:\tlearn: 0.0502825\ttotal: 294ms\tremaining: 387ms\n",
      "432:\tlearn: 0.0500061\ttotal: 295ms\tremaining: 386ms\n",
      "433:\tlearn: 0.0498484\ttotal: 295ms\tremaining: 385ms\n",
      "434:\tlearn: 0.0495768\ttotal: 296ms\tremaining: 384ms\n",
      "435:\tlearn: 0.0493535\ttotal: 296ms\tremaining: 383ms\n",
      "436:\tlearn: 0.0491356\ttotal: 296ms\tremaining: 382ms\n",
      "437:\tlearn: 0.0489934\ttotal: 297ms\tremaining: 381ms\n",
      "438:\tlearn: 0.0488439\ttotal: 298ms\tremaining: 381ms\n",
      "439:\tlearn: 0.0485805\ttotal: 299ms\tremaining: 380ms\n",
      "440:\tlearn: 0.0483723\ttotal: 299ms\tremaining: 379ms\n",
      "441:\tlearn: 0.0482254\ttotal: 300ms\tremaining: 378ms\n",
      "442:\tlearn: 0.0479583\ttotal: 300ms\tremaining: 377ms\n",
      "443:\tlearn: 0.0477571\ttotal: 301ms\tremaining: 377ms\n",
      "444:\tlearn: 0.0475608\ttotal: 301ms\tremaining: 376ms\n",
      "445:\tlearn: 0.0472720\ttotal: 302ms\tremaining: 375ms\n",
      "446:\tlearn: 0.0471182\ttotal: 302ms\tremaining: 374ms\n",
      "447:\tlearn: 0.0469783\ttotal: 303ms\tremaining: 373ms\n",
      "448:\tlearn: 0.0466930\ttotal: 303ms\tremaining: 372ms\n",
      "449:\tlearn: 0.0465214\ttotal: 304ms\tremaining: 371ms\n",
      "450:\tlearn: 0.0463855\ttotal: 304ms\tremaining: 370ms\n",
      "451:\tlearn: 0.0462952\ttotal: 305ms\tremaining: 369ms\n",
      "452:\tlearn: 0.0460159\ttotal: 305ms\tremaining: 368ms\n",
      "453:\tlearn: 0.0458012\ttotal: 305ms\tremaining: 367ms\n",
      "454:\tlearn: 0.0456373\ttotal: 306ms\tremaining: 367ms\n",
      "455:\tlearn: 0.0453658\ttotal: 307ms\tremaining: 366ms\n",
      "456:\tlearn: 0.0452497\ttotal: 307ms\tremaining: 365ms\n",
      "457:\tlearn: 0.0451636\ttotal: 308ms\tremaining: 364ms\n",
      "458:\tlearn: 0.0448708\ttotal: 308ms\tremaining: 363ms\n",
      "459:\tlearn: 0.0446658\ttotal: 308ms\tremaining: 362ms\n",
      "460:\tlearn: 0.0444022\ttotal: 309ms\tremaining: 361ms\n",
      "461:\tlearn: 0.0442659\ttotal: 310ms\tremaining: 360ms\n",
      "462:\tlearn: 0.0441833\ttotal: 310ms\tremaining: 360ms\n",
      "463:\tlearn: 0.0439184\ttotal: 311ms\tremaining: 359ms\n",
      "464:\tlearn: 0.0437651\ttotal: 311ms\tremaining: 358ms\n",
      "465:\tlearn: 0.0435295\ttotal: 312ms\tremaining: 357ms\n",
      "466:\tlearn: 0.0434496\ttotal: 312ms\tremaining: 356ms\n",
      "467:\tlearn: 0.0431927\ttotal: 313ms\tremaining: 355ms\n",
      "468:\tlearn: 0.0430278\ttotal: 313ms\tremaining: 355ms\n",
      "469:\tlearn: 0.0427993\ttotal: 314ms\tremaining: 354ms\n",
      "470:\tlearn: 0.0425481\ttotal: 314ms\tremaining: 353ms\n",
      "471:\tlearn: 0.0424021\ttotal: 315ms\tremaining: 352ms\n",
      "472:\tlearn: 0.0422195\ttotal: 315ms\tremaining: 351ms\n",
      "473:\tlearn: 0.0419753\ttotal: 316ms\tremaining: 351ms\n",
      "474:\tlearn: 0.0418798\ttotal: 316ms\tremaining: 350ms\n",
      "475:\tlearn: 0.0416214\ttotal: 317ms\tremaining: 349ms\n",
      "476:\tlearn: 0.0415285\ttotal: 318ms\tremaining: 348ms\n",
      "477:\tlearn: 0.0413519\ttotal: 318ms\tremaining: 347ms\n",
      "478:\tlearn: 0.0411112\ttotal: 319ms\tremaining: 346ms\n",
      "479:\tlearn: 0.0409268\ttotal: 319ms\tremaining: 346ms\n",
      "480:\tlearn: 0.0408110\ttotal: 320ms\tremaining: 345ms\n",
      "481:\tlearn: 0.0405764\ttotal: 320ms\tremaining: 344ms\n",
      "482:\tlearn: 0.0404785\ttotal: 321ms\tremaining: 343ms\n",
      "483:\tlearn: 0.0404088\ttotal: 321ms\tremaining: 342ms\n",
      "484:\tlearn: 0.0403403\ttotal: 321ms\tremaining: 341ms\n",
      "485:\tlearn: 0.0401133\ttotal: 322ms\tremaining: 341ms\n",
      "486:\tlearn: 0.0400178\ttotal: 323ms\tremaining: 341ms\n",
      "487:\tlearn: 0.0398077\ttotal: 324ms\tremaining: 340ms\n",
      "488:\tlearn: 0.0397001\ttotal: 324ms\tremaining: 339ms\n",
      "489:\tlearn: 0.0396074\ttotal: 325ms\tremaining: 338ms\n",
      "490:\tlearn: 0.0394014\ttotal: 325ms\tremaining: 337ms\n",
      "491:\tlearn: 0.0391785\ttotal: 326ms\tremaining: 336ms\n",
      "492:\tlearn: 0.0390123\ttotal: 326ms\tremaining: 335ms\n",
      "493:\tlearn: 0.0388497\ttotal: 327ms\tremaining: 335ms\n",
      "494:\tlearn: 0.0387596\ttotal: 327ms\tremaining: 334ms\n",
      "495:\tlearn: 0.0386716\ttotal: 328ms\tremaining: 333ms\n",
      "496:\tlearn: 0.0384719\ttotal: 328ms\tremaining: 332ms\n",
      "497:\tlearn: 0.0382922\ttotal: 329ms\tremaining: 331ms\n",
      "498:\tlearn: 0.0380759\ttotal: 329ms\tremaining: 330ms\n",
      "499:\tlearn: 0.0380041\ttotal: 330ms\tremaining: 330ms\n",
      "500:\tlearn: 0.0378101\ttotal: 330ms\tremaining: 329ms\n",
      "501:\tlearn: 0.0375988\ttotal: 331ms\tremaining: 328ms\n",
      "502:\tlearn: 0.0375345\ttotal: 331ms\tremaining: 327ms\n",
      "503:\tlearn: 0.0373267\ttotal: 332ms\tremaining: 326ms\n",
      "504:\tlearn: 0.0372650\ttotal: 332ms\tremaining: 325ms\n",
      "505:\tlearn: 0.0370587\ttotal: 333ms\tremaining: 325ms\n",
      "506:\tlearn: 0.0368573\ttotal: 333ms\tremaining: 324ms\n",
      "507:\tlearn: 0.0367112\ttotal: 334ms\tremaining: 323ms\n",
      "508:\tlearn: 0.0366177\ttotal: 334ms\tremaining: 323ms\n",
      "509:\tlearn: 0.0364551\ttotal: 335ms\tremaining: 322ms\n",
      "510:\tlearn: 0.0363108\ttotal: 335ms\tremaining: 321ms\n",
      "511:\tlearn: 0.0361724\ttotal: 336ms\tremaining: 320ms\n",
      "512:\tlearn: 0.0360111\ttotal: 336ms\tremaining: 319ms\n",
      "513:\tlearn: 0.0358345\ttotal: 337ms\tremaining: 319ms\n",
      "514:\tlearn: 0.0357021\ttotal: 338ms\tremaining: 318ms\n",
      "515:\tlearn: 0.0355190\ttotal: 338ms\tremaining: 317ms\n",
      "516:\tlearn: 0.0353760\ttotal: 339ms\tremaining: 316ms\n",
      "517:\tlearn: 0.0351833\ttotal: 339ms\tremaining: 316ms\n",
      "518:\tlearn: 0.0350045\ttotal: 340ms\tremaining: 315ms\n",
      "519:\tlearn: 0.0348562\ttotal: 340ms\tremaining: 314ms\n",
      "520:\tlearn: 0.0347964\ttotal: 341ms\tremaining: 313ms\n",
      "521:\tlearn: 0.0346481\ttotal: 341ms\tremaining: 312ms\n",
      "522:\tlearn: 0.0344733\ttotal: 342ms\tremaining: 312ms\n",
      "523:\tlearn: 0.0344146\ttotal: 342ms\tremaining: 311ms\n",
      "524:\tlearn: 0.0342732\ttotal: 343ms\tremaining: 310ms\n",
      "525:\tlearn: 0.0341256\ttotal: 343ms\tremaining: 309ms\n",
      "526:\tlearn: 0.0340543\ttotal: 344ms\tremaining: 309ms\n",
      "527:\tlearn: 0.0339133\ttotal: 344ms\tremaining: 308ms\n",
      "528:\tlearn: 0.0337875\ttotal: 345ms\tremaining: 307ms\n",
      "529:\tlearn: 0.0337177\ttotal: 345ms\tremaining: 306ms\n",
      "530:\tlearn: 0.0336065\ttotal: 346ms\tremaining: 305ms\n",
      "531:\tlearn: 0.0334694\ttotal: 347ms\tremaining: 305ms\n",
      "532:\tlearn: 0.0333009\ttotal: 348ms\tremaining: 305ms\n",
      "533:\tlearn: 0.0331246\ttotal: 348ms\tremaining: 304ms\n",
      "534:\tlearn: 0.0330569\ttotal: 348ms\tremaining: 303ms\n",
      "535:\tlearn: 0.0329202\ttotal: 349ms\tremaining: 302ms\n",
      "536:\tlearn: 0.0327801\ttotal: 349ms\tremaining: 301ms\n",
      "537:\tlearn: 0.0327134\ttotal: 350ms\tremaining: 300ms\n",
      "538:\tlearn: 0.0325360\ttotal: 350ms\tremaining: 299ms\n",
      "539:\tlearn: 0.0324562\ttotal: 351ms\tremaining: 299ms\n",
      "540:\tlearn: 0.0324104\ttotal: 351ms\tremaining: 298ms\n",
      "541:\tlearn: 0.0323289\ttotal: 352ms\tremaining: 297ms\n",
      "542:\tlearn: 0.0322790\ttotal: 352ms\tremaining: 296ms\n",
      "543:\tlearn: 0.0321350\ttotal: 353ms\tremaining: 296ms\n",
      "544:\tlearn: 0.0320902\ttotal: 353ms\tremaining: 295ms\n",
      "545:\tlearn: 0.0319185\ttotal: 354ms\tremaining: 294ms\n",
      "546:\tlearn: 0.0318741\ttotal: 354ms\tremaining: 293ms\n",
      "547:\tlearn: 0.0317983\ttotal: 355ms\tremaining: 293ms\n",
      "548:\tlearn: 0.0317547\ttotal: 355ms\tremaining: 292ms\n",
      "549:\tlearn: 0.0317088\ttotal: 356ms\tremaining: 291ms\n",
      "550:\tlearn: 0.0315438\ttotal: 357ms\tremaining: 291ms\n",
      "551:\tlearn: 0.0314700\ttotal: 357ms\tremaining: 290ms\n",
      "552:\tlearn: 0.0314251\ttotal: 358ms\tremaining: 289ms\n",
      "553:\tlearn: 0.0312824\ttotal: 358ms\tremaining: 288ms\n",
      "554:\tlearn: 0.0311480\ttotal: 359ms\tremaining: 288ms\n",
      "555:\tlearn: 0.0311089\ttotal: 359ms\tremaining: 287ms\n",
      "556:\tlearn: 0.0310674\ttotal: 360ms\tremaining: 286ms\n",
      "557:\tlearn: 0.0309138\ttotal: 360ms\tremaining: 285ms\n",
      "558:\tlearn: 0.0308603\ttotal: 360ms\tremaining: 284ms\n",
      "559:\tlearn: 0.0307334\ttotal: 361ms\tremaining: 283ms\n",
      "560:\tlearn: 0.0306033\ttotal: 361ms\tremaining: 283ms\n",
      "561:\tlearn: 0.0305638\ttotal: 362ms\tremaining: 282ms\n",
      "562:\tlearn: 0.0305238\ttotal: 362ms\tremaining: 281ms\n",
      "563:\tlearn: 0.0303406\ttotal: 363ms\tremaining: 280ms\n",
      "564:\tlearn: 0.0302021\ttotal: 363ms\tremaining: 280ms\n",
      "565:\tlearn: 0.0300797\ttotal: 364ms\tremaining: 279ms\n",
      "566:\tlearn: 0.0299338\ttotal: 364ms\tremaining: 278ms\n",
      "567:\tlearn: 0.0298400\ttotal: 365ms\tremaining: 278ms\n",
      "568:\tlearn: 0.0296919\ttotal: 366ms\tremaining: 277ms\n",
      "569:\tlearn: 0.0296125\ttotal: 366ms\tremaining: 276ms\n",
      "570:\tlearn: 0.0295200\ttotal: 366ms\tremaining: 275ms\n",
      "571:\tlearn: 0.0294062\ttotal: 367ms\tremaining: 275ms\n",
      "572:\tlearn: 0.0292311\ttotal: 367ms\tremaining: 274ms\n",
      "573:\tlearn: 0.0291890\ttotal: 368ms\tremaining: 273ms\n",
      "574:\tlearn: 0.0290469\ttotal: 369ms\tremaining: 272ms\n",
      "575:\tlearn: 0.0289214\ttotal: 369ms\tremaining: 272ms\n",
      "576:\tlearn: 0.0288845\ttotal: 370ms\tremaining: 271ms\n",
      "577:\tlearn: 0.0287788\ttotal: 370ms\tremaining: 270ms\n",
      "578:\tlearn: 0.0286259\ttotal: 371ms\tremaining: 270ms\n",
      "579:\tlearn: 0.0285025\ttotal: 371ms\tremaining: 269ms\n",
      "580:\tlearn: 0.0283679\ttotal: 372ms\tremaining: 268ms\n",
      "581:\tlearn: 0.0282515\ttotal: 373ms\tremaining: 268ms\n"
     ]
    },
    {
     "name": "stdout",
     "output_type": "stream",
     "text": [
      "582:\tlearn: 0.0281381\ttotal: 373ms\tremaining: 267ms\n",
      "583:\tlearn: 0.0280104\ttotal: 374ms\tremaining: 266ms\n",
      "584:\tlearn: 0.0279336\ttotal: 375ms\tremaining: 266ms\n",
      "585:\tlearn: 0.0278264\ttotal: 375ms\tremaining: 265ms\n",
      "586:\tlearn: 0.0277189\ttotal: 376ms\tremaining: 264ms\n",
      "587:\tlearn: 0.0276542\ttotal: 376ms\tremaining: 264ms\n",
      "588:\tlearn: 0.0276188\ttotal: 377ms\tremaining: 263ms\n",
      "589:\tlearn: 0.0275454\ttotal: 377ms\tremaining: 262ms\n",
      "590:\tlearn: 0.0274832\ttotal: 378ms\tremaining: 261ms\n",
      "591:\tlearn: 0.0274293\ttotal: 378ms\tremaining: 261ms\n",
      "592:\tlearn: 0.0273685\ttotal: 379ms\tremaining: 260ms\n",
      "593:\tlearn: 0.0272558\ttotal: 379ms\tremaining: 259ms\n",
      "594:\tlearn: 0.0271923\ttotal: 380ms\tremaining: 258ms\n",
      "595:\tlearn: 0.0270944\ttotal: 380ms\tremaining: 258ms\n",
      "596:\tlearn: 0.0270075\ttotal: 381ms\tremaining: 257ms\n",
      "597:\tlearn: 0.0269115\ttotal: 382ms\tremaining: 257ms\n",
      "598:\tlearn: 0.0267934\ttotal: 382ms\tremaining: 256ms\n",
      "599:\tlearn: 0.0266989\ttotal: 383ms\tremaining: 255ms\n",
      "600:\tlearn: 0.0266123\ttotal: 383ms\tremaining: 254ms\n",
      "601:\tlearn: 0.0265631\ttotal: 384ms\tremaining: 254ms\n",
      "602:\tlearn: 0.0265192\ttotal: 384ms\tremaining: 253ms\n",
      "603:\tlearn: 0.0264266\ttotal: 385ms\tremaining: 252ms\n",
      "604:\tlearn: 0.0262676\ttotal: 385ms\tremaining: 252ms\n",
      "605:\tlearn: 0.0261535\ttotal: 386ms\tremaining: 251ms\n",
      "606:\tlearn: 0.0261218\ttotal: 386ms\tremaining: 250ms\n",
      "607:\tlearn: 0.0259566\ttotal: 387ms\tremaining: 249ms\n",
      "608:\tlearn: 0.0258528\ttotal: 388ms\tremaining: 249ms\n",
      "609:\tlearn: 0.0257631\ttotal: 388ms\tremaining: 248ms\n",
      "610:\tlearn: 0.0256504\ttotal: 388ms\tremaining: 247ms\n",
      "611:\tlearn: 0.0256081\ttotal: 389ms\tremaining: 247ms\n",
      "612:\tlearn: 0.0255667\ttotal: 389ms\tremaining: 246ms\n",
      "613:\tlearn: 0.0254547\ttotal: 391ms\tremaining: 246ms\n",
      "614:\tlearn: 0.0252957\ttotal: 391ms\tremaining: 245ms\n",
      "615:\tlearn: 0.0251689\ttotal: 392ms\tremaining: 244ms\n",
      "616:\tlearn: 0.0251398\ttotal: 392ms\tremaining: 243ms\n",
      "617:\tlearn: 0.0250151\ttotal: 393ms\tremaining: 243ms\n",
      "618:\tlearn: 0.0249806\ttotal: 393ms\tremaining: 242ms\n",
      "619:\tlearn: 0.0248579\ttotal: 393ms\tremaining: 241ms\n",
      "620:\tlearn: 0.0247685\ttotal: 394ms\tremaining: 240ms\n",
      "621:\tlearn: 0.0247248\ttotal: 395ms\tremaining: 240ms\n",
      "622:\tlearn: 0.0246821\ttotal: 395ms\tremaining: 239ms\n",
      "623:\tlearn: 0.0245617\ttotal: 396ms\tremaining: 238ms\n",
      "624:\tlearn: 0.0245199\ttotal: 396ms\tremaining: 238ms\n",
      "625:\tlearn: 0.0244879\ttotal: 397ms\tremaining: 237ms\n",
      "626:\tlearn: 0.0244588\ttotal: 397ms\tremaining: 236ms\n",
      "627:\tlearn: 0.0243402\ttotal: 398ms\tremaining: 236ms\n",
      "628:\tlearn: 0.0241869\ttotal: 399ms\tremaining: 235ms\n",
      "629:\tlearn: 0.0240709\ttotal: 399ms\tremaining: 234ms\n",
      "630:\tlearn: 0.0239831\ttotal: 400ms\tremaining: 234ms\n",
      "631:\tlearn: 0.0238974\ttotal: 400ms\tremaining: 233ms\n",
      "632:\tlearn: 0.0238577\ttotal: 401ms\tremaining: 233ms\n",
      "633:\tlearn: 0.0237633\ttotal: 402ms\tremaining: 232ms\n",
      "634:\tlearn: 0.0237244\ttotal: 403ms\tremaining: 231ms\n",
      "635:\tlearn: 0.0236864\ttotal: 403ms\tremaining: 231ms\n",
      "636:\tlearn: 0.0236298\ttotal: 404ms\tremaining: 230ms\n",
      "637:\tlearn: 0.0235416\ttotal: 404ms\tremaining: 229ms\n",
      "638:\tlearn: 0.0234490\ttotal: 405ms\tremaining: 229ms\n",
      "639:\tlearn: 0.0233634\ttotal: 405ms\tremaining: 228ms\n",
      "640:\tlearn: 0.0232712\ttotal: 406ms\tremaining: 227ms\n",
      "641:\tlearn: 0.0231607\ttotal: 406ms\tremaining: 227ms\n",
      "642:\tlearn: 0.0231235\ttotal: 407ms\tremaining: 226ms\n",
      "643:\tlearn: 0.0230872\ttotal: 408ms\tremaining: 225ms\n",
      "644:\tlearn: 0.0229430\ttotal: 408ms\tremaining: 225ms\n",
      "645:\tlearn: 0.0228348\ttotal: 409ms\tremaining: 224ms\n",
      "646:\tlearn: 0.0227364\ttotal: 409ms\tremaining: 223ms\n",
      "647:\tlearn: 0.0226482\ttotal: 411ms\tremaining: 223ms\n",
      "648:\tlearn: 0.0225532\ttotal: 411ms\tremaining: 222ms\n",
      "649:\tlearn: 0.0225176\ttotal: 412ms\tremaining: 222ms\n",
      "650:\tlearn: 0.0224403\ttotal: 412ms\tremaining: 221ms\n",
      "651:\tlearn: 0.0223677\ttotal: 413ms\tremaining: 220ms\n",
      "652:\tlearn: 0.0222917\ttotal: 413ms\tremaining: 220ms\n",
      "653:\tlearn: 0.0222059\ttotal: 413ms\tremaining: 219ms\n",
      "654:\tlearn: 0.0221142\ttotal: 414ms\tremaining: 218ms\n",
      "655:\tlearn: 0.0220392\ttotal: 414ms\tremaining: 217ms\n",
      "656:\tlearn: 0.0220053\ttotal: 415ms\tremaining: 217ms\n",
      "657:\tlearn: 0.0219542\ttotal: 415ms\tremaining: 216ms\n",
      "658:\tlearn: 0.0218806\ttotal: 416ms\tremaining: 215ms\n",
      "659:\tlearn: 0.0218079\ttotal: 416ms\tremaining: 214ms\n",
      "660:\tlearn: 0.0217397\ttotal: 417ms\tremaining: 214ms\n",
      "661:\tlearn: 0.0216683\ttotal: 417ms\tremaining: 213ms\n",
      "662:\tlearn: 0.0215852\ttotal: 418ms\tremaining: 212ms\n",
      "663:\tlearn: 0.0214965\ttotal: 418ms\tremaining: 211ms\n",
      "664:\tlearn: 0.0214134\ttotal: 418ms\tremaining: 211ms\n",
      "665:\tlearn: 0.0213429\ttotal: 419ms\tremaining: 210ms\n",
      "666:\tlearn: 0.0212733\ttotal: 420ms\tremaining: 209ms\n",
      "667:\tlearn: 0.0212252\ttotal: 420ms\tremaining: 209ms\n",
      "668:\tlearn: 0.0211567\ttotal: 421ms\tremaining: 208ms\n",
      "669:\tlearn: 0.0211224\ttotal: 421ms\tremaining: 207ms\n",
      "670:\tlearn: 0.0210757\ttotal: 421ms\tremaining: 207ms\n",
      "671:\tlearn: 0.0210085\ttotal: 422ms\tremaining: 206ms\n",
      "672:\tlearn: 0.0209629\ttotal: 423ms\tremaining: 205ms\n",
      "673:\tlearn: 0.0208967\ttotal: 423ms\tremaining: 205ms\n",
      "674:\tlearn: 0.0208639\ttotal: 423ms\tremaining: 204ms\n",
      "675:\tlearn: 0.0207668\ttotal: 424ms\tremaining: 203ms\n",
      "676:\tlearn: 0.0207348\ttotal: 424ms\tremaining: 203ms\n",
      "677:\tlearn: 0.0206712\ttotal: 425ms\tremaining: 202ms\n",
      "678:\tlearn: 0.0206401\ttotal: 425ms\tremaining: 201ms\n",
      "679:\tlearn: 0.0206097\ttotal: 426ms\tremaining: 200ms\n",
      "680:\tlearn: 0.0205236\ttotal: 426ms\tremaining: 200ms\n",
      "681:\tlearn: 0.0204594\ttotal: 427ms\tremaining: 199ms\n",
      "682:\tlearn: 0.0203399\ttotal: 428ms\tremaining: 198ms\n",
      "683:\tlearn: 0.0202565\ttotal: 428ms\tremaining: 198ms\n",
      "684:\tlearn: 0.0201782\ttotal: 429ms\tremaining: 197ms\n",
      "685:\tlearn: 0.0201355\ttotal: 430ms\tremaining: 197ms\n",
      "686:\tlearn: 0.0200726\ttotal: 430ms\tremaining: 196ms\n",
      "687:\tlearn: 0.0199932\ttotal: 431ms\tremaining: 195ms\n",
      "688:\tlearn: 0.0199014\ttotal: 431ms\tremaining: 195ms\n",
      "689:\tlearn: 0.0198272\ttotal: 432ms\tremaining: 194ms\n",
      "690:\tlearn: 0.0197651\ttotal: 432ms\tremaining: 193ms\n",
      "691:\tlearn: 0.0197038\ttotal: 433ms\tremaining: 193ms\n",
      "692:\tlearn: 0.0195949\ttotal: 434ms\tremaining: 192ms\n",
      "693:\tlearn: 0.0195302\ttotal: 434ms\tremaining: 191ms\n",
      "694:\tlearn: 0.0194222\ttotal: 435ms\tremaining: 191ms\n",
      "695:\tlearn: 0.0193087\ttotal: 435ms\tremaining: 190ms\n",
      "696:\tlearn: 0.0192532\ttotal: 436ms\tremaining: 189ms\n",
      "697:\tlearn: 0.0191793\ttotal: 436ms\tremaining: 189ms\n",
      "698:\tlearn: 0.0191525\ttotal: 437ms\tremaining: 188ms\n",
      "699:\tlearn: 0.0191263\ttotal: 437ms\tremaining: 187ms\n",
      "700:\tlearn: 0.0190532\ttotal: 438ms\tremaining: 187ms\n",
      "701:\tlearn: 0.0190131\ttotal: 439ms\tremaining: 186ms\n",
      "702:\tlearn: 0.0189111\ttotal: 439ms\tremaining: 186ms\n",
      "703:\tlearn: 0.0188256\ttotal: 440ms\tremaining: 185ms\n",
      "704:\tlearn: 0.0188056\ttotal: 440ms\tremaining: 184ms\n",
      "705:\tlearn: 0.0187060\ttotal: 441ms\tremaining: 184ms\n",
      "706:\tlearn: 0.0186863\ttotal: 441ms\tremaining: 183ms\n",
      "707:\tlearn: 0.0186472\ttotal: 442ms\tremaining: 182ms\n",
      "708:\tlearn: 0.0185958\ttotal: 442ms\tremaining: 182ms\n",
      "709:\tlearn: 0.0184957\ttotal: 443ms\tremaining: 181ms\n",
      "710:\tlearn: 0.0184133\ttotal: 443ms\tremaining: 180ms\n",
      "711:\tlearn: 0.0183175\ttotal: 444ms\tremaining: 180ms\n",
      "712:\tlearn: 0.0182685\ttotal: 444ms\tremaining: 179ms\n",
      "713:\tlearn: 0.0181865\ttotal: 445ms\tremaining: 178ms\n",
      "714:\tlearn: 0.0181067\ttotal: 445ms\tremaining: 178ms\n",
      "715:\tlearn: 0.0180923\ttotal: 446ms\tremaining: 177ms\n",
      "716:\tlearn: 0.0180143\ttotal: 447ms\tremaining: 176ms\n",
      "717:\tlearn: 0.0180001\ttotal: 447ms\tremaining: 176ms\n",
      "718:\tlearn: 0.0179086\ttotal: 448ms\tremaining: 175ms\n",
      "719:\tlearn: 0.0178829\ttotal: 448ms\tremaining: 174ms\n",
      "720:\tlearn: 0.0178690\ttotal: 449ms\tremaining: 174ms\n",
      "721:\tlearn: 0.0178135\ttotal: 449ms\tremaining: 173ms\n",
      "722:\tlearn: 0.0177239\ttotal: 450ms\tremaining: 172ms\n",
      "723:\tlearn: 0.0176691\ttotal: 451ms\tremaining: 172ms\n",
      "724:\tlearn: 0.0176004\ttotal: 452ms\tremaining: 171ms\n",
      "725:\tlearn: 0.0175755\ttotal: 452ms\tremaining: 171ms\n",
      "726:\tlearn: 0.0175510\ttotal: 453ms\tremaining: 170ms\n",
      "727:\tlearn: 0.0175377\ttotal: 453ms\tremaining: 169ms\n",
      "728:\tlearn: 0.0175199\ttotal: 454ms\tremaining: 169ms\n",
      "729:\tlearn: 0.0174664\ttotal: 454ms\tremaining: 168ms\n",
      "730:\tlearn: 0.0173526\ttotal: 455ms\tremaining: 167ms\n",
      "731:\tlearn: 0.0172378\ttotal: 455ms\tremaining: 167ms\n",
      "732:\tlearn: 0.0172144\ttotal: 456ms\tremaining: 166ms\n",
      "733:\tlearn: 0.0171238\ttotal: 456ms\tremaining: 165ms\n",
      "734:\tlearn: 0.0170589\ttotal: 457ms\tremaining: 165ms\n",
      "735:\tlearn: 0.0169956\ttotal: 457ms\tremaining: 164ms\n",
      "736:\tlearn: 0.0169340\ttotal: 458ms\tremaining: 163ms\n",
      "737:\tlearn: 0.0168739\ttotal: 458ms\tremaining: 163ms\n",
      "738:\tlearn: 0.0168223\ttotal: 458ms\tremaining: 162ms\n",
      "739:\tlearn: 0.0167646\ttotal: 459ms\tremaining: 161ms\n",
      "740:\tlearn: 0.0167526\ttotal: 459ms\tremaining: 161ms\n",
      "741:\tlearn: 0.0167407\ttotal: 460ms\tremaining: 160ms\n",
      "742:\tlearn: 0.0167290\ttotal: 460ms\tremaining: 159ms\n",
      "743:\tlearn: 0.0166778\ttotal: 461ms\tremaining: 159ms\n",
      "744:\tlearn: 0.0166045\ttotal: 462ms\tremaining: 158ms\n",
      "745:\tlearn: 0.0165549\ttotal: 462ms\tremaining: 157ms\n",
      "746:\tlearn: 0.0165046\ttotal: 463ms\tremaining: 157ms\n",
      "747:\tlearn: 0.0164694\ttotal: 463ms\tremaining: 156ms\n",
      "748:\tlearn: 0.0163577\ttotal: 464ms\tremaining: 155ms\n",
      "749:\tlearn: 0.0162890\ttotal: 464ms\tremaining: 155ms\n",
      "750:\tlearn: 0.0162398\ttotal: 465ms\tremaining: 154ms\n",
      "751:\tlearn: 0.0161687\ttotal: 465ms\tremaining: 153ms\n",
      "752:\tlearn: 0.0161142\ttotal: 466ms\tremaining: 153ms\n",
      "753:\tlearn: 0.0160676\ttotal: 466ms\tremaining: 152ms\n",
      "754:\tlearn: 0.0160193\ttotal: 467ms\tremaining: 151ms\n",
      "755:\tlearn: 0.0159622\ttotal: 467ms\tremaining: 151ms\n",
      "756:\tlearn: 0.0158926\ttotal: 468ms\tremaining: 150ms\n",
      "757:\tlearn: 0.0158452\ttotal: 468ms\tremaining: 149ms\n",
      "758:\tlearn: 0.0157991\ttotal: 469ms\tremaining: 149ms\n",
      "759:\tlearn: 0.0157523\ttotal: 470ms\tremaining: 148ms\n",
      "760:\tlearn: 0.0156844\ttotal: 471ms\tremaining: 148ms\n",
      "761:\tlearn: 0.0156374\ttotal: 471ms\tremaining: 147ms\n",
      "762:\tlearn: 0.0155965\ttotal: 472ms\tremaining: 146ms\n",
      "763:\tlearn: 0.0155525\ttotal: 472ms\tremaining: 146ms\n",
      "764:\tlearn: 0.0155202\ttotal: 473ms\tremaining: 145ms\n",
      "765:\tlearn: 0.0154746\ttotal: 473ms\tremaining: 144ms\n",
      "766:\tlearn: 0.0154084\ttotal: 473ms\tremaining: 144ms\n",
      "767:\tlearn: 0.0153638\ttotal: 474ms\tremaining: 143ms\n",
      "768:\tlearn: 0.0152985\ttotal: 474ms\tremaining: 142ms\n",
      "769:\tlearn: 0.0152547\ttotal: 475ms\tremaining: 142ms\n",
      "770:\tlearn: 0.0152146\ttotal: 475ms\tremaining: 141ms\n",
      "771:\tlearn: 0.0151503\ttotal: 476ms\tremaining: 141ms\n",
      "772:\tlearn: 0.0151082\ttotal: 476ms\tremaining: 140ms\n",
      "773:\tlearn: 0.0150690\ttotal: 477ms\tremaining: 139ms\n",
      "774:\tlearn: 0.0150248\ttotal: 477ms\tremaining: 139ms\n",
      "775:\tlearn: 0.0150011\ttotal: 478ms\tremaining: 138ms\n",
      "776:\tlearn: 0.0149776\ttotal: 478ms\tremaining: 137ms\n"
     ]
    },
    {
     "name": "stdout",
     "output_type": "stream",
     "text": [
      "777:\tlearn: 0.0149581\ttotal: 479ms\tremaining: 137ms\n",
      "778:\tlearn: 0.0149355\ttotal: 480ms\tremaining: 136ms\n",
      "779:\tlearn: 0.0148727\ttotal: 480ms\tremaining: 135ms\n",
      "780:\tlearn: 0.0148448\ttotal: 481ms\tremaining: 135ms\n",
      "781:\tlearn: 0.0148227\ttotal: 481ms\tremaining: 134ms\n",
      "782:\tlearn: 0.0147998\ttotal: 481ms\tremaining: 133ms\n",
      "783:\tlearn: 0.0147780\ttotal: 482ms\tremaining: 133ms\n",
      "784:\tlearn: 0.0147566\ttotal: 482ms\tremaining: 132ms\n",
      "785:\tlearn: 0.0147305\ttotal: 483ms\tremaining: 131ms\n",
      "786:\tlearn: 0.0147123\ttotal: 483ms\tremaining: 131ms\n",
      "787:\tlearn: 0.0146901\ttotal: 484ms\tremaining: 130ms\n",
      "788:\tlearn: 0.0146380\ttotal: 484ms\tremaining: 129ms\n",
      "789:\tlearn: 0.0146233\ttotal: 485ms\tremaining: 129ms\n",
      "790:\tlearn: 0.0145473\ttotal: 485ms\tremaining: 128ms\n",
      "791:\tlearn: 0.0145243\ttotal: 486ms\tremaining: 128ms\n",
      "792:\tlearn: 0.0144990\ttotal: 486ms\tremaining: 127ms\n",
      "793:\tlearn: 0.0144653\ttotal: 487ms\tremaining: 126ms\n",
      "794:\tlearn: 0.0144049\ttotal: 487ms\tremaining: 126ms\n",
      "795:\tlearn: 0.0143865\ttotal: 487ms\tremaining: 125ms\n",
      "796:\tlearn: 0.0143689\ttotal: 488ms\tremaining: 124ms\n",
      "797:\tlearn: 0.0143232\ttotal: 488ms\tremaining: 124ms\n",
      "798:\tlearn: 0.0142915\ttotal: 489ms\tremaining: 123ms\n",
      "799:\tlearn: 0.0142588\ttotal: 489ms\tremaining: 122ms\n",
      "800:\tlearn: 0.0142267\ttotal: 490ms\tremaining: 122ms\n",
      "801:\tlearn: 0.0141972\ttotal: 490ms\tremaining: 121ms\n",
      "802:\tlearn: 0.0141760\ttotal: 491ms\tremaining: 120ms\n",
      "803:\tlearn: 0.0141611\ttotal: 491ms\tremaining: 120ms\n",
      "804:\tlearn: 0.0141393\ttotal: 492ms\tremaining: 119ms\n",
      "805:\tlearn: 0.0141077\ttotal: 492ms\tremaining: 118ms\n",
      "806:\tlearn: 0.0140869\ttotal: 493ms\tremaining: 118ms\n",
      "807:\tlearn: 0.0140745\ttotal: 493ms\tremaining: 117ms\n",
      "808:\tlearn: 0.0140307\ttotal: 494ms\tremaining: 117ms\n",
      "809:\tlearn: 0.0139908\ttotal: 494ms\tremaining: 116ms\n",
      "810:\tlearn: 0.0139602\ttotal: 494ms\tremaining: 115ms\n",
      "811:\tlearn: 0.0138997\ttotal: 495ms\tremaining: 115ms\n",
      "812:\tlearn: 0.0138606\ttotal: 495ms\tremaining: 114ms\n",
      "813:\tlearn: 0.0138309\ttotal: 496ms\tremaining: 113ms\n",
      "814:\tlearn: 0.0138025\ttotal: 496ms\tremaining: 113ms\n",
      "815:\tlearn: 0.0137826\ttotal: 497ms\tremaining: 112ms\n",
      "816:\tlearn: 0.0137337\ttotal: 497ms\tremaining: 111ms\n",
      "817:\tlearn: 0.0136749\ttotal: 498ms\tremaining: 111ms\n",
      "818:\tlearn: 0.0136445\ttotal: 498ms\tremaining: 110ms\n",
      "819:\tlearn: 0.0135742\ttotal: 499ms\tremaining: 109ms\n",
      "820:\tlearn: 0.0135520\ttotal: 499ms\tremaining: 109ms\n",
      "821:\tlearn: 0.0135302\ttotal: 500ms\tremaining: 108ms\n",
      "822:\tlearn: 0.0134457\ttotal: 500ms\tremaining: 108ms\n",
      "823:\tlearn: 0.0134160\ttotal: 501ms\tremaining: 107ms\n",
      "824:\tlearn: 0.0133661\ttotal: 501ms\tremaining: 106ms\n",
      "825:\tlearn: 0.0132834\ttotal: 501ms\tremaining: 106ms\n",
      "826:\tlearn: 0.0132479\ttotal: 502ms\tremaining: 105ms\n",
      "827:\tlearn: 0.0132015\ttotal: 502ms\tremaining: 104ms\n",
      "828:\tlearn: 0.0131669\ttotal: 503ms\tremaining: 104ms\n",
      "829:\tlearn: 0.0131379\ttotal: 503ms\tremaining: 103ms\n",
      "830:\tlearn: 0.0131125\ttotal: 504ms\tremaining: 102ms\n",
      "831:\tlearn: 0.0130440\ttotal: 504ms\tremaining: 102ms\n",
      "832:\tlearn: 0.0129991\ttotal: 505ms\tremaining: 101ms\n",
      "833:\tlearn: 0.0129777\ttotal: 505ms\tremaining: 101ms\n",
      "834:\tlearn: 0.0129492\ttotal: 506ms\tremaining: 100ms\n",
      "835:\tlearn: 0.0129050\ttotal: 506ms\tremaining: 99.3ms\n",
      "836:\tlearn: 0.0128379\ttotal: 507ms\tremaining: 98.7ms\n",
      "837:\tlearn: 0.0128169\ttotal: 507ms\tremaining: 98.1ms\n",
      "838:\tlearn: 0.0128034\ttotal: 508ms\tremaining: 97.5ms\n",
      "839:\tlearn: 0.0127901\ttotal: 508ms\tremaining: 96.9ms\n",
      "840:\tlearn: 0.0127571\ttotal: 509ms\tremaining: 96.2ms\n",
      "841:\tlearn: 0.0127189\ttotal: 510ms\tremaining: 95.6ms\n",
      "842:\tlearn: 0.0127007\ttotal: 510ms\tremaining: 95ms\n",
      "843:\tlearn: 0.0126631\ttotal: 511ms\tremaining: 94.4ms\n",
      "844:\tlearn: 0.0125985\ttotal: 511ms\tremaining: 93.7ms\n",
      "845:\tlearn: 0.0125874\ttotal: 512ms\tremaining: 93.1ms\n",
      "846:\tlearn: 0.0125669\ttotal: 512ms\tremaining: 92.5ms\n",
      "847:\tlearn: 0.0125022\ttotal: 513ms\tremaining: 91.9ms\n",
      "848:\tlearn: 0.0124682\ttotal: 513ms\tremaining: 91.3ms\n",
      "849:\tlearn: 0.0124245\ttotal: 514ms\tremaining: 90.6ms\n",
      "850:\tlearn: 0.0123618\ttotal: 514ms\tremaining: 90ms\n",
      "851:\tlearn: 0.0123310\ttotal: 515ms\tremaining: 89.4ms\n",
      "852:\tlearn: 0.0123023\ttotal: 515ms\tremaining: 88.8ms\n",
      "853:\tlearn: 0.0122397\ttotal: 516ms\tremaining: 88.2ms\n",
      "854:\tlearn: 0.0122125\ttotal: 516ms\tremaining: 87.5ms\n",
      "855:\tlearn: 0.0121924\ttotal: 517ms\tremaining: 86.9ms\n",
      "856:\tlearn: 0.0121276\ttotal: 517ms\tremaining: 86.3ms\n",
      "857:\tlearn: 0.0121007\ttotal: 518ms\tremaining: 85.6ms\n",
      "858:\tlearn: 0.0120742\ttotal: 518ms\tremaining: 85ms\n",
      "859:\tlearn: 0.0120543\ttotal: 519ms\tremaining: 84.4ms\n",
      "860:\tlearn: 0.0120280\ttotal: 519ms\tremaining: 83.8ms\n",
      "861:\tlearn: 0.0120020\ttotal: 520ms\tremaining: 83.2ms\n",
      "862:\tlearn: 0.0119746\ttotal: 520ms\tremaining: 82.6ms\n",
      "863:\tlearn: 0.0119463\ttotal: 520ms\tremaining: 81.9ms\n",
      "864:\tlearn: 0.0118906\ttotal: 521ms\tremaining: 81.3ms\n",
      "865:\tlearn: 0.0118789\ttotal: 521ms\tremaining: 80.7ms\n",
      "866:\tlearn: 0.0118689\ttotal: 522ms\tremaining: 80.1ms\n",
      "867:\tlearn: 0.0118427\ttotal: 522ms\tremaining: 79.4ms\n",
      "868:\tlearn: 0.0118004\ttotal: 523ms\tremaining: 78.8ms\n",
      "869:\tlearn: 0.0117745\ttotal: 523ms\tremaining: 78.2ms\n",
      "870:\tlearn: 0.0117479\ttotal: 524ms\tremaining: 77.6ms\n",
      "871:\tlearn: 0.0116862\ttotal: 524ms\tremaining: 77ms\n",
      "872:\tlearn: 0.0116670\ttotal: 525ms\tremaining: 76.4ms\n",
      "873:\tlearn: 0.0116134\ttotal: 525ms\tremaining: 75.8ms\n",
      "874:\tlearn: 0.0115882\ttotal: 526ms\tremaining: 75.1ms\n",
      "875:\tlearn: 0.0115155\ttotal: 526ms\tremaining: 74.5ms\n",
      "876:\tlearn: 0.0114965\ttotal: 527ms\tremaining: 73.9ms\n",
      "877:\tlearn: 0.0114718\ttotal: 527ms\tremaining: 73.3ms\n",
      "878:\tlearn: 0.0114314\ttotal: 528ms\tremaining: 72.6ms\n",
      "879:\tlearn: 0.0113604\ttotal: 528ms\tremaining: 72ms\n",
      "880:\tlearn: 0.0113488\ttotal: 529ms\tremaining: 71.4ms\n",
      "881:\tlearn: 0.0113188\ttotal: 529ms\tremaining: 70.8ms\n",
      "882:\tlearn: 0.0112934\ttotal: 530ms\tremaining: 70.2ms\n",
      "883:\tlearn: 0.0112382\ttotal: 530ms\tremaining: 69.6ms\n",
      "884:\tlearn: 0.0112143\ttotal: 531ms\tremaining: 68.9ms\n",
      "885:\tlearn: 0.0111903\ttotal: 531ms\tremaining: 68.3ms\n",
      "886:\tlearn: 0.0111400\ttotal: 532ms\tremaining: 67.7ms\n",
      "887:\tlearn: 0.0111166\ttotal: 532ms\tremaining: 67.1ms\n",
      "888:\tlearn: 0.0110676\ttotal: 533ms\tremaining: 66.5ms\n",
      "889:\tlearn: 0.0110319\ttotal: 533ms\tremaining: 65.9ms\n",
      "890:\tlearn: 0.0109935\ttotal: 534ms\tremaining: 65.3ms\n",
      "891:\tlearn: 0.0109375\ttotal: 534ms\tremaining: 64.7ms\n",
      "892:\tlearn: 0.0109115\ttotal: 535ms\tremaining: 64.1ms\n",
      "893:\tlearn: 0.0108920\ttotal: 535ms\tremaining: 63.5ms\n",
      "894:\tlearn: 0.0108696\ttotal: 536ms\tremaining: 62.8ms\n",
      "895:\tlearn: 0.0108099\ttotal: 536ms\tremaining: 62.2ms\n",
      "896:\tlearn: 0.0107634\ttotal: 537ms\tremaining: 61.6ms\n",
      "897:\tlearn: 0.0107063\ttotal: 537ms\tremaining: 61ms\n",
      "898:\tlearn: 0.0106559\ttotal: 538ms\tremaining: 60.4ms\n",
      "899:\tlearn: 0.0106368\ttotal: 538ms\tremaining: 59.8ms\n",
      "900:\tlearn: 0.0105924\ttotal: 539ms\tremaining: 59.2ms\n",
      "901:\tlearn: 0.0105433\ttotal: 539ms\tremaining: 58.6ms\n",
      "902:\tlearn: 0.0105246\ttotal: 540ms\tremaining: 58ms\n",
      "903:\tlearn: 0.0104768\ttotal: 540ms\tremaining: 57.4ms\n",
      "904:\tlearn: 0.0104338\ttotal: 541ms\tremaining: 56.8ms\n",
      "905:\tlearn: 0.0104191\ttotal: 541ms\tremaining: 56.2ms\n",
      "906:\tlearn: 0.0103805\ttotal: 542ms\tremaining: 55.5ms\n",
      "907:\tlearn: 0.0103341\ttotal: 542ms\tremaining: 54.9ms\n",
      "908:\tlearn: 0.0103196\ttotal: 543ms\tremaining: 54.3ms\n",
      "909:\tlearn: 0.0103092\ttotal: 543ms\tremaining: 53.7ms\n",
      "910:\tlearn: 0.0102990\ttotal: 545ms\tremaining: 53.2ms\n",
      "911:\tlearn: 0.0102890\ttotal: 545ms\tremaining: 52.6ms\n",
      "912:\tlearn: 0.0102772\ttotal: 546ms\tremaining: 52ms\n",
      "913:\tlearn: 0.0102630\ttotal: 546ms\tremaining: 51.4ms\n",
      "914:\tlearn: 0.0102545\ttotal: 547ms\tremaining: 50.8ms\n",
      "915:\tlearn: 0.0102362\ttotal: 547ms\tremaining: 50.2ms\n",
      "916:\tlearn: 0.0102221\ttotal: 547ms\tremaining: 49.5ms\n",
      "917:\tlearn: 0.0102137\ttotal: 548ms\tremaining: 48.9ms\n",
      "918:\tlearn: 0.0101957\ttotal: 548ms\tremaining: 48.3ms\n",
      "919:\tlearn: 0.0101427\ttotal: 549ms\tremaining: 47.7ms\n",
      "920:\tlearn: 0.0101288\ttotal: 549ms\tremaining: 47.1ms\n",
      "921:\tlearn: 0.0100948\ttotal: 550ms\tremaining: 46.5ms\n",
      "922:\tlearn: 0.0100866\ttotal: 550ms\tremaining: 45.9ms\n",
      "923:\tlearn: 0.0100653\ttotal: 551ms\tremaining: 45.3ms\n",
      "924:\tlearn: 0.0100560\ttotal: 551ms\tremaining: 44.7ms\n",
      "925:\tlearn: 0.0100228\ttotal: 552ms\tremaining: 44.1ms\n",
      "926:\tlearn: 0.0100054\ttotal: 552ms\tremaining: 43.5ms\n",
      "927:\tlearn: 0.0099917\ttotal: 553ms\tremaining: 42.9ms\n",
      "928:\tlearn: 0.0099402\ttotal: 553ms\tremaining: 42.3ms\n",
      "929:\tlearn: 0.0099075\ttotal: 554ms\tremaining: 41.7ms\n",
      "930:\tlearn: 0.0098867\ttotal: 554ms\tremaining: 41.1ms\n",
      "931:\tlearn: 0.0098788\ttotal: 555ms\tremaining: 40.5ms\n",
      "932:\tlearn: 0.0098479\ttotal: 555ms\tremaining: 39.9ms\n",
      "933:\tlearn: 0.0098159\ttotal: 556ms\tremaining: 39.3ms\n",
      "934:\tlearn: 0.0098037\ttotal: 556ms\tremaining: 38.7ms\n",
      "935:\tlearn: 0.0097833\ttotal: 557ms\tremaining: 38.1ms\n",
      "936:\tlearn: 0.0097533\ttotal: 557ms\tremaining: 37.5ms\n",
      "937:\tlearn: 0.0097456\ttotal: 557ms\tremaining: 36.8ms\n",
      "938:\tlearn: 0.0097100\ttotal: 558ms\tremaining: 36.2ms\n"
     ]
    },
    {
     "name": "stdout",
     "output_type": "stream",
     "text": [
      "939:\tlearn: 0.0096605\ttotal: 559ms\tremaining: 35.7ms\n",
      "940:\tlearn: 0.0096387\ttotal: 559ms\tremaining: 35.1ms\n",
      "941:\tlearn: 0.0096054\ttotal: 560ms\tremaining: 34.5ms\n",
      "942:\tlearn: 0.0095830\ttotal: 560ms\tremaining: 33.9ms\n",
      "943:\tlearn: 0.0095485\ttotal: 561ms\tremaining: 33.3ms\n",
      "944:\tlearn: 0.0095004\ttotal: 561ms\tremaining: 32.7ms\n",
      "945:\tlearn: 0.0094784\ttotal: 562ms\tremaining: 32.1ms\n",
      "946:\tlearn: 0.0094311\ttotal: 562ms\tremaining: 31.5ms\n",
      "947:\tlearn: 0.0094098\ttotal: 563ms\tremaining: 30.9ms\n",
      "948:\tlearn: 0.0093884\ttotal: 563ms\tremaining: 30.3ms\n",
      "949:\tlearn: 0.0093735\ttotal: 564ms\tremaining: 29.7ms\n",
      "950:\tlearn: 0.0093397\ttotal: 564ms\tremaining: 29.1ms\n",
      "951:\tlearn: 0.0092960\ttotal: 565ms\tremaining: 28.5ms\n",
      "952:\tlearn: 0.0092886\ttotal: 565ms\tremaining: 27.9ms\n",
      "953:\tlearn: 0.0092557\ttotal: 566ms\tremaining: 27.3ms\n",
      "954:\tlearn: 0.0092099\ttotal: 566ms\tremaining: 26.7ms\n",
      "955:\tlearn: 0.0091894\ttotal: 567ms\tremaining: 26.1ms\n",
      "956:\tlearn: 0.0091679\ttotal: 567ms\tremaining: 25.5ms\n",
      "957:\tlearn: 0.0091534\ttotal: 568ms\tremaining: 24.9ms\n",
      "958:\tlearn: 0.0091379\ttotal: 569ms\tremaining: 24.3ms\n",
      "959:\tlearn: 0.0091177\ttotal: 569ms\tremaining: 23.7ms\n",
      "960:\tlearn: 0.0090988\ttotal: 570ms\tremaining: 23.1ms\n",
      "961:\tlearn: 0.0090778\ttotal: 570ms\tremaining: 22.5ms\n",
      "962:\tlearn: 0.0090459\ttotal: 570ms\tremaining: 21.9ms\n",
      "963:\tlearn: 0.0090310\ttotal: 571ms\tremaining: 21.3ms\n",
      "964:\tlearn: 0.0090123\ttotal: 571ms\tremaining: 20.7ms\n",
      "965:\tlearn: 0.0089925\ttotal: 572ms\tremaining: 20.1ms\n",
      "966:\tlearn: 0.0089612\ttotal: 573ms\tremaining: 19.6ms\n",
      "967:\tlearn: 0.0089466\ttotal: 574ms\tremaining: 19ms\n",
      "968:\tlearn: 0.0089049\ttotal: 574ms\tremaining: 18.4ms\n",
      "969:\tlearn: 0.0088610\ttotal: 575ms\tremaining: 17.8ms\n",
      "970:\tlearn: 0.0088346\ttotal: 575ms\tremaining: 17.2ms\n",
      "971:\tlearn: 0.0088052\ttotal: 576ms\tremaining: 16.6ms\n",
      "972:\tlearn: 0.0087765\ttotal: 576ms\tremaining: 16ms\n",
      "973:\tlearn: 0.0087509\ttotal: 577ms\tremaining: 15.4ms\n",
      "974:\tlearn: 0.0087229\ttotal: 577ms\tremaining: 14.8ms\n",
      "975:\tlearn: 0.0087004\ttotal: 577ms\tremaining: 14.2ms\n",
      "976:\tlearn: 0.0086788\ttotal: 578ms\tremaining: 13.6ms\n",
      "977:\tlearn: 0.0086629\ttotal: 579ms\tremaining: 13ms\n",
      "978:\tlearn: 0.0086381\ttotal: 579ms\tremaining: 12.4ms\n",
      "979:\tlearn: 0.0086169\ttotal: 580ms\tremaining: 11.8ms\n",
      "980:\tlearn: 0.0085740\ttotal: 580ms\tremaining: 11.2ms\n",
      "981:\tlearn: 0.0085533\ttotal: 581ms\tremaining: 10.6ms\n",
      "982:\tlearn: 0.0085324\ttotal: 581ms\tremaining: 10.1ms\n",
      "983:\tlearn: 0.0085255\ttotal: 582ms\tremaining: 9.46ms\n",
      "984:\tlearn: 0.0085100\ttotal: 582ms\tremaining: 8.86ms\n",
      "985:\tlearn: 0.0084681\ttotal: 583ms\tremaining: 8.27ms\n",
      "986:\tlearn: 0.0084479\ttotal: 583ms\tremaining: 7.68ms\n",
      "987:\tlearn: 0.0084312\ttotal: 584ms\tremaining: 7.09ms\n",
      "988:\tlearn: 0.0083900\ttotal: 584ms\tremaining: 6.5ms\n",
      "989:\tlearn: 0.0083703\ttotal: 584ms\tremaining: 5.9ms\n",
      "990:\tlearn: 0.0083497\ttotal: 585ms\tremaining: 5.31ms\n",
      "991:\tlearn: 0.0083334\ttotal: 585ms\tremaining: 4.72ms\n",
      "992:\tlearn: 0.0082930\ttotal: 586ms\tremaining: 4.13ms\n",
      "993:\tlearn: 0.0082737\ttotal: 587ms\tremaining: 3.54ms\n",
      "994:\tlearn: 0.0082357\ttotal: 587ms\tremaining: 2.95ms\n",
      "995:\tlearn: 0.0082168\ttotal: 588ms\tremaining: 2.36ms\n",
      "996:\tlearn: 0.0081867\ttotal: 588ms\tremaining: 1.77ms\n",
      "997:\tlearn: 0.0081666\ttotal: 589ms\tremaining: 1.18ms\n",
      "998:\tlearn: 0.0081599\ttotal: 589ms\tremaining: 589us\n",
      "999:\tlearn: 0.0081452\ttotal: 590ms\tremaining: 0us\n"
     ]
    },
    {
     "data": {
      "text/plain": [
       "<catboost.core.CatBoostRegressor at 0x7fcd899bd610>"
      ]
     },
     "execution_count": 9,
     "metadata": {},
     "output_type": "execute_result"
    }
   ],
   "source": [
    "#Train the Model \n",
    "prior_model = ctb.CatBoostRegressor()\n",
    "prior_model.fit(X_train,Y_train)"
   ]
  },
  {
   "cell_type": "code",
   "execution_count": 10,
   "id": "af65dcda",
   "metadata": {
    "execution": {
     "iopub.execute_input": "2022-03-08T20:45:26.047495Z",
     "iopub.status.busy": "2022-03-08T20:45:26.047105Z",
     "iopub.status.idle": "2022-03-08T20:45:26.054575Z",
     "shell.execute_reply": "2022-03-08T20:45:26.054820Z"
    },
    "id": "af65dcda",
    "papermill": {
     "duration": 0.020026,
     "end_time": "2022-03-08T20:45:26.054931",
     "exception": false,
     "start_time": "2022-03-08T20:45:26.034905",
     "status": "completed"
    },
    "tags": []
   },
   "outputs": [
    {
     "data": {
      "application/scrapbook.scrap.json+json": {
       "data": 0.19289656087012222,
       "encoder": "json",
       "name": "Prior Model MSE",
       "version": 1
      }
     },
     "metadata": {
      "scrapbook": {
       "data": true,
       "display": false,
       "name": "Prior Model MSE"
      }
     },
     "output_type": "display_data"
    },
    {
     "data": {
      "application/scrapbook.scrap.json+json": {
       "data": 0.8018895589693734,
       "encoder": "json",
       "name": "ABC Pre-generator MSE",
       "version": 1
      }
     },
     "metadata": {
      "scrapbook": {
       "data": true,
       "display": false,
       "name": "ABC Pre-generator MSE"
      }
     },
     "output_type": "display_data"
    },
    {
     "data": {
      "application/scrapbook.scrap.json+json": {
       "data": 0.3496029965937171,
       "encoder": "json",
       "name": "Prior Model MSE",
       "version": 1
      }
     },
     "metadata": {
      "scrapbook": {
       "data": true,
       "display": false,
       "name": "Prior Model MSE"
      }
     },
     "output_type": "display_data"
    },
    {
     "data": {
      "application/scrapbook.scrap.json+json": {
       "data": 0.8032851025519362,
       "encoder": "json",
       "name": "ABC Pre-generator MSE",
       "version": 1
      }
     },
     "metadata": {
      "scrapbook": {
       "data": true,
       "display": false,
       "name": "ABC Pre-generator MSE"
      }
     },
     "output_type": "display_data"
    }
   ],
   "source": [
    "y_pred = prior_model.predict(X_test)\n",
    "y_abc = y_pred + np.random.normal(0,variance, y_pred.shape) + bias \n",
    "mse = mean_squared_error(y_pred,Y_test)\n",
    "sb.glue(\"Prior Model MSE\",mse)\n",
    "mse = mean_squared_error(y_abc,Y_test)\n",
    "sb.glue(\"ABC Pre-generator MSE\",mse)\n",
    "mae = mean_absolute_error(y_pred,Y_test)\n",
    "sb.glue(\"Prior Model MSE\",mae)\n",
    "mae = mean_absolute_error(y_abc,Y_test)\n",
    "sb.glue(\"ABC Pre-generator MSE\",mae)"
   ]
  },
  {
   "cell_type": "markdown",
   "id": "25609da2",
   "metadata": {
    "papermill": {
     "duration": 0.009527,
     "end_time": "2022-03-08T20:45:26.074358",
     "exception": false,
     "start_time": "2022-03-08T20:45:26.064831",
     "status": "completed"
    },
    "tags": []
   },
   "source": [
    "# ABC GAN Model"
   ]
  },
  {
   "cell_type": "code",
   "execution_count": 11,
   "id": "dfc3464d",
   "metadata": {
    "execution": {
     "iopub.execute_input": "2022-03-08T20:45:26.096444Z",
     "iopub.status.busy": "2022-03-08T20:45:26.096072Z",
     "iopub.status.idle": "2022-03-08T20:45:26.098604Z",
     "shell.execute_reply": "2022-03-08T20:45:26.098842Z"
    },
    "papermill": {
     "duration": 0.01509,
     "end_time": "2022-03-08T20:45:26.098950",
     "exception": false,
     "start_time": "2022-03-08T20:45:26.083860",
     "status": "completed"
    },
    "tags": []
   },
   "outputs": [],
   "source": [
    "gen = network.Generator(n_features+1).to(device)\n",
    "disc = network.Discriminator(n_features+1).to(device)\n",
    "\n",
    "criterion = torch.nn.BCELoss()\n",
    "gen_opt = torch.optim.Adam(gen.parameters(), lr=0.001, betas=(0.5, 0.999))\n",
    "disc_opt = torch.optim.Adam(disc.parameters(), lr=0.001, betas=(0.5, 0.999))"
   ]
  },
  {
   "cell_type": "code",
   "execution_count": 12,
   "id": "b75fdd85",
   "metadata": {
    "execution": {
     "iopub.execute_input": "2022-03-08T20:45:26.120730Z",
     "iopub.status.busy": "2022-03-08T20:45:26.120312Z",
     "iopub.status.idle": "2022-03-08T20:45:39.397557Z",
     "shell.execute_reply": "2022-03-08T20:45:39.397916Z"
    },
    "papermill": {
     "duration": 13.289282,
     "end_time": "2022-03-08T20:45:39.398039",
     "exception": false,
     "start_time": "2022-03-08T20:45:26.108757",
     "status": "completed"
    },
    "tags": []
   },
   "outputs": [
    {
     "data": {
      "image/png": "[encoded data removed]",
      "text/plain": [
       "<Figure size 432x288 with 1 Axes>"
      ]
     },
     "metadata": {
      "needs_background": "light"
     },
     "output_type": "display_data"
    },
    {
     "data": {
      "image/png": "[encoded data removed]",
      "text/plain": [
       "<Figure size 432x288 with 1 Axes>"
      ]
     },
     "metadata": {
      "needs_background": "light"
     },
     "output_type": "display_data"
    }
   ],
   "source": [
    "#Training the ABC_GAN \n",
    "ABC_train_test2.training_GAN(disc,gen,disc_opt,gen_opt,train_data,batch_size,n_epochs,criterion,prior_model,variance,bias,device)"
   ]
  },
  {
   "cell_type": "code",
   "execution_count": 13,
   "id": "1fa7c368",
   "metadata": {
    "execution": {
     "iopub.execute_input": "2022-03-08T20:45:39.422793Z",
     "iopub.status.busy": "2022-03-08T20:45:39.422353Z",
     "iopub.status.idle": "2022-03-08T20:45:39.589355Z",
     "shell.execute_reply": "2022-03-08T20:45:39.589684Z"
    },
    "papermill": {
     "duration": 0.180461,
     "end_time": "2022-03-08T20:45:39.589804",
     "exception": false,
     "start_time": "2022-03-08T20:45:39.409343",
     "status": "completed"
    },
    "tags": []
   },
   "outputs": [
    {
     "data": {
      "application/scrapbook.scrap.json+json": {
       "data": 0.06996929427187179,
       "encoder": "json",
       "name": "ABC-GAN Model 1 MSE",
       "version": 1
      }
     },
     "metadata": {
      "scrapbook": {
       "data": true,
       "display": false,
       "name": "ABC-GAN Model 1 MSE"
      }
     },
     "output_type": "display_data"
    },
    {
     "data": {
      "application/scrapbook.scrap.json+json": {
       "data": 0.19760568321496247,
       "encoder": "json",
       "name": "ABC-GAN Model 1 MAE",
       "version": 1
      }
     },
     "metadata": {
      "scrapbook": {
       "data": true,
       "display": false,
       "name": "ABC-GAN Model 1 MAE"
      }
     },
     "output_type": "display_data"
    },
    {
     "data": {
      "application/scrapbook.scrap.json+json": {
       "data": 3.9521136642992496,
       "encoder": "json",
       "name": "ABC-GAN Model 1 Manhattan Distance",
       "version": 1
      }
     },
     "metadata": {
      "scrapbook": {
       "data": true,
       "display": false,
       "name": "ABC-GAN Model 1 Manhattan Distance"
      }
     },
     "output_type": "display_data"
    },
    {
     "data": {
      "application/scrapbook.scrap.json+json": {
       "data": 1.1819540577520917,
       "encoder": "json",
       "name": "ABC-GAN Model 1 Euclidean distance",
       "version": 1
      }
     },
     "metadata": {
      "scrapbook": {
       "data": true,
       "display": false,
       "name": "ABC-GAN Model 1 Euclidean distance"
      }
     },
     "output_type": "display_data"
    },
    {
     "data": {
      "application/scrapbook.scrap.json+json": {
       "data": [
        [
         0.07122031214638885,
         0.062136010064755734,
         0.07183589847844489,
         0.05841001536771321,
         0.06790598730129845,
         0.07038696740897367,
         0.06722373740385963,
         0.06873120768193736,
         0.0754379902921827,
         0.068581217628553,
         0.08390381394231297,
         0.06642033342484119,
         0.06210791108949522,
         0.0685785970092549,
         0.07634646703018637,
         0.0697313267787091,
         0.07629697849658101,
         0.0701780338221614,
         0.07745923116408235,
         0.06423052140861138,
         0.08032564868853687,
         0.0745490196062083,
         0.0747298510625101,
         0.06780828857382391,
         0.06776701382909119,
         0.07664706095105998,
         0.07315723325665321,
         0.07200716028828366,
         0.06999824630403947,
         0.06430821629465691,
         0.07168903572387803,
         0.06578104628385249,
         0.06475557440594254,
         0.07814975074000788,
         0.0695140239109214,
         0.06733540685513546,
         0.06509692507321106,
         0.06969334730867491,
         0.07550096209876254,
         0.08289415141337646,
         0.07328211179012385,
         0.0708660813156421,
         0.06491575699923473,
         0.07185323630952929,
         0.06560783092232889,
         0.07054992592463212,
         0.07027133000840949,
         0.07227522479010653,
         0.07272301887589268,
         0.07049150142831459,
         0.06858443064352501,
         0.0776657073552172,
         0.06923624291096861,
         0.06486085640844472,
         0.06899772476253649,
         0.056061109040370614,
         0.07592477789996596,
         0.07139192246231425,
         0.07965306102866443,
         0.07227595885536232,
         0.06319262175314484,
         0.07865315962780738,
         0.0715976314005006,
         0.07863883407030084,
         0.07076141460651439,
         0.05899975343225462,
         0.06581023376918732,
         0.06603845601523668,
         0.07688399200060388,
         0.07146286613453837,
         0.049014776949718904,
         0.07186563976076712,
         0.06325564607709967,
         0.07395525548177098,
         0.06615082267728233,
         0.07386160741368089,
         0.07153103767353144,
         0.06737841206166983,
         0.06353111382524118,
         0.06705939947445543,
         0.062259997351959154,
         0.06492541141490542,
         0.07411974923559979,
         0.06704878191227924,
         0.060202131385991356,
         0.06492252982617588,
         0.06561797312770981,
         0.06916934823143625,
         0.06591894988281387,
         0.06592540041137192,
         0.0776434475769311,
         0.07286746557234466,
         0.07511398621305582,
         0.0720370571785986,
         0.07036643662975223,
         0.06659527878621618,
         0.07568732168386537,
         0.07268402692922371,
         0.0723600636344914,
         0.07550306565659717
        ],
        [
         0.1969908442348242,
         0.1865747779607773,
         0.20315598808228968,
         0.17523802556097506,
         0.1933954916894436,
         0.19407271780073643,
         0.19948330372571946,
         0.19526572488248348,
         0.20720997266471386,
         0.20288119316101075,
         0.21201819255948068,
         0.2048541508615017,
         0.19225834775716066,
         0.19810474943369627,
         0.20780921913683414,
         0.19744956418871878,
         0.19927079007029533,
         0.2001052051782608,
         0.20583266615867615,
         0.19033749364316463,
         0.2120667453855276,
         0.2005837518721819,
         0.2076526504009962,
         0.1922537460923195,
         0.19210642278194429,
         0.20757934413850307,
         0.20120703242719173,
         0.20412174761295318,
         0.20852014608681202,
         0.18608444705605506,
         0.2028050072491169,
         0.19836869090795517,
         0.18570204749703406,
         0.19763507172465325,
         0.18637374751269817,
         0.19773786924779416,
         0.1909025155007839,
         0.19406255446374415,
         0.20350939892232417,
         0.22090122289955616,
         0.20183510109782218,
         0.19171086698770523,
         0.1970525547862053,
         0.20197644978761672,
         0.18678426407277585,
         0.1924339734017849,
         0.19811190851032734,
         0.19574716426432132,
         0.20205635838210584,
         0.18500361889600753,
         0.18948900066316127,
         0.21242056749761104,
         0.1987220998853445,
         0.19130692929029464,
         0.18973844014108182,
         0.1740160435438156,
         0.2091753650456667,
         0.20327262207865715,
         0.21015111431479455,
         0.20844972766935826,
         0.18350663855671884,
         0.2146976340562105,
         0.19809537567198277,
         0.20880189277231692,
         0.19588906727731228,
         0.18405122123658657,
         0.18964346386492253,
         0.1925916664302349,
         0.2005918651819229,
         0.20523662343621255,
         0.1670410167425871,
         0.20305354483425617,
         0.18545937053859235,
         0.19953977055847644,
         0.1927761871367693,
         0.20602367892861367,
         0.19563535638153554,
         0.19538107626140117,
         0.18940043579787016,
         0.1856098286807537,
         0.19249096065759658,
         0.186604524590075,
         0.19592287056148053,
         0.19045436196029186,
         0.18546234853565693,
         0.196787853166461,
         0.19239276833832264,
         0.199442970007658,
         0.19139685481786728,
         0.18920221105217933,
         0.206347244232893,
         0.2011443108320236,
         0.21657790802419186,
         0.19335457514971494,
         0.20745483227074146,
         0.20750559028238058,
         0.20601498410105706,
         0.2027583997696638,
         0.2057125959545374,
         0.20857769399881362
        ],
        [
         3.9398168846964836,
         3.7314955592155457,
         4.063119761645794,
         3.5047605112195015,
         3.8679098337888718,
         3.8814543560147285,
         3.989666074514389,
         3.9053144976496696,
         4.144199453294277,
         4.057623863220215,
         4.240363851189613,
         4.097083017230034,
         3.8451669551432133,
         3.9620949886739254,
         4.156184382736683,
         3.948991283774376,
         3.9854158014059067,
         4.002104103565216,
         4.116653323173523,
         3.8067498728632927,
         4.241334907710552,
         4.011675037443638,
         4.153053008019924,
         3.8450749218463898,
         3.8421284556388855,
         4.1515868827700615,
         4.024140648543835,
         4.082434952259064,
         4.17040292173624,
         3.7216889411211014,
         4.056100144982338,
         3.9673738181591034,
         3.7140409499406815,
         3.952701434493065,
         3.7274749502539635,
         3.954757384955883,
         3.8180503100156784,
         3.8812510892748833,
         4.070187978446484,
         4.418024457991123,
         4.036702021956444,
         3.8342173397541046,
         3.941051095724106,
         4.039528995752335,
         3.735685281455517,
         3.848679468035698,
         3.962238170206547,
         3.9149432852864265,
         4.0411271676421165,
         3.7000723779201508,
         3.7897800132632256,
         4.248411349952221,
         3.97444199770689,
         3.826138585805893,
         3.794768802821636,
         3.4803208708763123,
         4.183507300913334,
         4.065452441573143,
         4.203022286295891,
         4.168994553387165,
         3.6701327711343765,
         4.29395268112421,
         3.9619075134396553,
         4.176037855446339,
         3.9177813455462456,
         3.6810244247317314,
         3.7928692772984505,
         3.851833328604698,
         4.011837303638458,
         4.104732468724251,
         3.340820334851742,
         4.061070896685123,
         3.7091874107718468,
         3.990795411169529,
         3.855523742735386,
         4.120473578572273,
         3.9127071276307106,
         3.9076215252280235,
         3.788008715957403,
         3.712196573615074,
         3.8498192131519318,
         3.7320904918015003,
         3.9184574112296104,
         3.8090872392058372,
         3.7092469707131386,
         3.93575706332922,
         3.847855366766453,
         3.98885940015316,
         3.8279370963573456,
         3.7840442210435867,
         4.12694488465786,
         4.022886216640472,
         4.331558160483837,
         3.867091502994299,
         4.149096645414829,
         4.150111805647612,
         4.120299682021141,
         4.055167995393276,
         4.114251919090748,
         4.171553879976273
        ],
        [
         1.193484915249362,
         1.1147736098845875,
         1.1986317072265766,
         1.0808331542630731,
         1.1653839479012782,
         1.1864819207132797,
         1.1595148761776162,
         1.1724436675758658,
         1.228315841241028,
         1.171163674543853,
         1.2954058355767353,
         1.1525652556349353,
         1.1145215214565865,
         1.1711412981297764,
         1.2356898237841596,
         1.180943070420493,
         1.2352892656910852,
         1.1847196615415936,
         1.2446624535518243,
         1.133406559082939,
         1.2674829283942002,
         1.2210570797977325,
         1.2225371246920078,
         1.1645453067512996,
         1.16419082481431,
         1.238120034173262,
         1.209605169108112,
         1.2000596675856052,
         1.1832011350910672,
         1.1340918507304152,
         1.1974058269766188,
         1.1470051986268632,
         1.1380296516870072,
         1.250197990240009,
         1.1791015555152269,
         1.160477547004986,
         1.1410251975588537,
         1.1806214237313746,
         1.2288284021681999,
         1.287588066218202,
         1.2106371197854777,
         1.1905131777149054,
         1.1394363255507938,
         1.1987763453582931,
         1.145494049939404,
         1.1878545864257302,
         1.1855068958754267,
         1.2022913522944971,
         1.2060101067229303,
         1.187362635662034,
         1.1711911086029043,
         1.2463202425959166,
         1.1767433272465888,
         1.1389544012685031,
         1.1747146441799088,
         1.0588777931411217,
         1.232272517748943,
         1.1949219427419873,
         1.2621652905120186,
         1.2022974578311503,
         1.1242119173282665,
         1.2542181598733722,
         1.196642230581059,
         1.2541039356472878,
         1.1896336798066403,
         1.0862757792775701,
         1.1472596373026231,
         1.149247197214217,
         1.2400321931353546,
         1.1955155049980604,
         0.9900987521426224,
         1.1988798084943053,
         1.1247723865484933,
         1.2161846527708775,
         1.150224523102184,
         1.2154143936426036,
         1.1960855962140122,
         1.1608480698323087,
         1.1272188237005376,
         1.1580967099034125,
         1.115885275034662,
         1.1395210521522225,
         1.2175364408148102,
         1.158005025138313,
         1.097288762231632,
         1.1394957641533898,
         1.145582586527133,
         1.1761747168804153,
         1.148206861874757,
         1.1482630396505142,
         1.246141625794846,
         1.207207236329742,
         1.2256752115716123,
         1.200308770097083,
         1.186308868969226,
         1.1540821356057478,
         1.2303440306179843,
         1.2056867497756099,
         1.2029967883123496,
         1.228845520450778
        ]
       ],
       "encoder": "json",
       "name": "ABC_GAN_1 Metrics",
       "version": 1
      }
     },
     "metadata": {
      "scrapbook": {
       "data": true,
       "display": false,
       "name": "ABC_GAN_1 Metrics"
      }
     },
     "output_type": "display_data"
    },
    {
     "name": "stdout",
     "output_type": "stream",
     "text": [
      "MSE\n",
      "0.06996929427187179\n"
     ]
    }
   ],
   "source": [
    "ABC_GAN1_metrics=ABC_train_test2.test_generator(gen,test_data,prior_model,variance,bias,\"1\",device)\n",
    "sb.glue(\"ABC_GAN_1 Metrics\",ABC_GAN1_metrics)\n",
    "\n",
    "print(\"MSE\")\n",
    "print(mean(ABC_GAN1_metrics[0]))"
   ]
  },
  {
   "cell_type": "code",
   "execution_count": 14,
   "id": "eb22ce5c",
   "metadata": {
    "execution": {
     "iopub.execute_input": "2022-03-08T20:45:39.616510Z",
     "iopub.status.busy": "2022-03-08T20:45:39.616142Z",
     "iopub.status.idle": "2022-03-08T20:45:39.911880Z",
     "shell.execute_reply": "2022-03-08T20:45:39.912178Z"
    },
    "papermill": {
     "duration": 0.31009,
     "end_time": "2022-03-08T20:45:39.912301",
     "exception": false,
     "start_time": "2022-03-08T20:45:39.602211",
     "status": "completed"
    },
    "tags": []
   },
   "outputs": [
    {
     "data": {
      "image/png": "[encoded data removed]",
      "text/plain": [
       "<Figure size 432x288 with 1 Axes>"
      ]
     },
     "metadata": {
      "needs_background": "light"
     },
     "output_type": "display_data"
    },
    {
     "data": {
      "image/png": "[encoded data removed]",
      "text/plain": [
       "<Figure size 432x288 with 1 Axes>"
      ]
     },
     "metadata": {
      "needs_background": "light"
     },
     "output_type": "display_data"
    },
    {
     "data": {
      "image/png": "[encoded data removed]",
      "text/plain": [
       "<Figure size 432x288 with 1 Axes>"
      ]
     },
     "metadata": {
      "needs_background": "light"
     },
     "output_type": "display_data"
    },
    {
     "data": {
      "image/png": "[encoded data removed]",
      "text/plain": [
       "<Figure size 432x288 with 1 Axes>"
      ]
     },
     "metadata": {
      "needs_background": "light"
     },
     "output_type": "display_data"
    }
   ],
   "source": [
    "sanityChecks.discProbVsError(train_data,disc,device)\n",
    "sanityChecks.discProbVsError(test_data,disc,device)"
   ]
  },
  {
   "cell_type": "markdown",
   "id": "130f3a4d",
   "metadata": {
    "id": "130f3a4d",
    "papermill": {
     "duration": 0.035926,
     "end_time": "2022-03-08T20:45:39.962899",
     "exception": false,
     "start_time": "2022-03-08T20:45:39.926973",
     "status": "completed"
    },
    "tags": []
   },
   "source": [
    "# ABC - GAN Model with skip connection"
   ]
  },
  {
   "cell_type": "code",
   "execution_count": 15,
   "id": "4e43dad1",
   "metadata": {
    "execution": {
     "iopub.execute_input": "2022-03-08T20:45:39.994983Z",
     "iopub.status.busy": "2022-03-08T20:45:39.994607Z",
     "iopub.status.idle": "2022-03-08T20:45:39.996959Z",
     "shell.execute_reply": "2022-03-08T20:45:39.997204Z"
    },
    "id": "4e43dad1",
    "papermill": {
     "duration": 0.019928,
     "end_time": "2022-03-08T20:45:39.997314",
     "exception": false,
     "start_time": "2022-03-08T20:45:39.977386",
     "status": "completed"
    },
    "tags": []
   },
   "outputs": [],
   "source": [
    "#Generator\n",
    "gen3 = network.GeneratorWithSkipConnection(n_features+1).to(device)\n",
    "constraints=network.weightConstraint()\n",
    "#Discriminator \n",
    "disc3 = network.Discriminator(n_features+1).to(device)\n",
    "\n",
    "criterion = torch.nn.BCELoss()\n",
    "gen_opt = torch.optim.Adam(gen3.parameters(), lr=0.001, betas=(0.5, 0.999))\n",
    "disc_opt = torch.optim.Adam(disc3.parameters(), lr=0.001, betas=(0.5, 0.999))\n"
   ]
  },
  {
   "cell_type": "code",
   "execution_count": 16,
   "id": "26acbc37",
   "metadata": {
    "execution": {
     "iopub.execute_input": "2022-03-08T20:45:40.028711Z",
     "iopub.status.busy": "2022-03-08T20:45:40.028358Z",
     "iopub.status.idle": "2022-03-08T20:46:15.639848Z",
     "shell.execute_reply": "2022-03-08T20:46:15.640138Z"
    },
    "id": "26acbc37",
    "papermill": {
     "duration": 35.628247,
     "end_time": "2022-03-08T20:46:15.640258",
     "exception": false,
     "start_time": "2022-03-08T20:45:40.012011",
     "status": "completed"
    },
    "tags": []
   },
   "outputs": [
    {
     "data": {
      "image/png": "[encoded data removed]",
      "text/plain": [
       "<Figure size 432x288 with 1 Axes>"
      ]
     },
     "metadata": {
      "needs_background": "light"
     },
     "output_type": "display_data"
    },
    {
     "data": {
      "image/png": "[encoded data removed]",
      "text/plain": [
       "<Figure size 432x288 with 1 Axes>"
      ]
     },
     "metadata": {
      "needs_background": "light"
     },
     "output_type": "display_data"
    }
   ],
   "source": [
    "ABC_train_test2.training_GAN_skip_connection(disc3,gen3,disc_opt,gen_opt,train_data,batch_size,n_epochs,criterion,prior_model,variance,bias,device)"
   ]
  },
  {
   "cell_type": "code",
   "execution_count": 17,
   "id": "c5e0717b",
   "metadata": {
    "execution": {
     "iopub.execute_input": "2022-03-08T20:46:15.673709Z",
     "iopub.status.busy": "2022-03-08T20:46:15.673250Z",
     "iopub.status.idle": "2022-03-08T20:46:15.948632Z",
     "shell.execute_reply": "2022-03-08T20:46:15.948879Z"
    },
    "id": "c5e0717b",
    "papermill": {
     "duration": 0.293292,
     "end_time": "2022-03-08T20:46:15.949000",
     "exception": false,
     "start_time": "2022-03-08T20:46:15.655708",
     "status": "completed"
    },
    "tags": []
   },
   "outputs": [
    {
     "data": {
      "application/scrapbook.scrap.json+json": {
       "data": 0.0824016377196311,
       "encoder": "json",
       "name": "ABC-GAN Model 3 MSE",
       "version": 1
      }
     },
     "metadata": {
      "scrapbook": {
       "data": true,
       "display": false,
       "name": "ABC-GAN Model 3 MSE"
      }
     },
     "output_type": "display_data"
    },
    {
     "data": {
      "application/scrapbook.scrap.json+json": {
       "data": 0.2100542672649026,
       "encoder": "json",
       "name": "ABC-GAN Model 3 MAE",
       "version": 1
      }
     },
     "metadata": {
      "scrapbook": {
       "data": true,
       "display": false,
       "name": "ABC-GAN Model 3 MAE"
      }
     },
     "output_type": "display_data"
    },
    {
     "data": {
      "application/scrapbook.scrap.json+json": {
       "data": 4.201085345298051,
       "encoder": "json",
       "name": "ABC-GAN Model 3 Manhattan Distance",
       "version": 1
      }
     },
     "metadata": {
      "scrapbook": {
       "data": true,
       "display": false,
       "name": "ABC-GAN Model 3 Manhattan Distance"
      }
     },
     "output_type": "display_data"
    },
    {
     "data": {
      "application/scrapbook.scrap.json+json": {
       "data": 1.2794511605201422,
       "encoder": "json",
       "name": "ABC-GAN Model 3 Euclidean distance",
       "version": 1
      }
     },
     "metadata": {
      "scrapbook": {
       "data": true,
       "display": false,
       "name": "ABC-GAN Model 3 Euclidean distance"
      }
     },
     "output_type": "display_data"
    },
    {
     "data": {
      "application/scrapbook.scrap.json+json": {
       "data": [
        [
         0.11141796213497776,
         0.06769645282914695,
         0.0651126379143299,
         0.08539817066552322,
         0.10520577559409058,
         0.09285581910771637,
         0.10267946401333275,
         0.07851468002592692,
         0.06699777832298151,
         0.08080682618789699,
         0.06799926169097117,
         0.06733165476261808,
         0.09934954163384699,
         0.10370815417353729,
         0.08582369390452964,
         0.07635402461199406,
         0.09260681177969624,
         0.09419944129802392,
         0.08651340859748011,
         0.06520194382552044,
         0.09956788827856226,
         0.07801320639307645,
         0.058994588947579384,
         0.07537262762889359,
         0.08966386006631491,
         0.07146016697200809,
         0.09327127913394964,
         0.0892515207806163,
         0.08245783261319624,
         0.07903854998801836,
         0.06747770093790255,
         0.08976788343505286,
         0.06227939675212011,
         0.07098731066314304,
         0.0891588381764743,
         0.0675014514312612,
         0.11011993862783132,
         0.10121178466476577,
         0.09621678358790257,
         0.10073309300401934,
         0.08159060819792213,
         0.08584482340444906,
         0.06931383964708897,
         0.08368928469736925,
         0.08045044811105126,
         0.09137311764361633,
         0.08536059242591225,
         0.088771618339354,
         0.07956583277939558,
         0.10055628896550983,
         0.09301075431714215,
         0.0832111207224537,
         0.09403037645364173,
         0.05926709911519473,
         0.07753805198583226,
         0.06053252938615132,
         0.06577605212813231,
         0.06585310104565445,
         0.08145564111365644,
         0.09777797307276322,
         0.09026647734912759,
         0.054796440686619374,
         0.08256985486769379,
         0.07815338576565378,
         0.06720514470826114,
         0.0813657959440454,
         0.08940268035632579,
         0.0685707042018501,
         0.07554889255046546,
         0.07207939165436543,
         0.09119819073675557,
         0.09188079631100979,
         0.09324778851384363,
         0.06691263415290086,
         0.08914203138920751,
         0.0752503685298893,
         0.08757425254945202,
         0.1004272835450472,
         0.07095037491789871,
         0.06621395412013795,
         0.07423200239566743,
         0.07614966927344904,
         0.07647484890034081,
         0.0928355033563473,
         0.07776422193258123,
         0.06728702740784419,
         0.0716589797131821,
         0.09721511485389436,
         0.0978158281519845,
         0.07028236452440556,
         0.08591757589118194,
         0.061843595625563255,
         0.09724179600034855,
         0.08905738517503417,
         0.08533826116766399,
         0.11059632687927641,
         0.08503215495291114,
         0.052157500693419165,
         0.09344994413486367,
         0.09176886937348175
        ],
        [
         0.25541038028895857,
         0.19469584785401822,
         0.19489166401326657,
         0.20337326489388943,
         0.22624194175004958,
         0.2168882917612791,
         0.24790745563805103,
         0.21290115937590598,
         0.1897404208779335,
         0.2084961947053671,
         0.19022769704461098,
         0.20507808215916157,
         0.24034684151411057,
         0.23759830109775065,
         0.19670309014618398,
         0.20988434068858625,
         0.22343782596290113,
         0.2253780972212553,
         0.21290610991418363,
         0.1855302557349205,
         0.21974218375980853,
         0.21641874723136426,
         0.1836389061063528,
         0.20669283121824264,
         0.20232865326106547,
         0.21390840820968152,
         0.21075536869466305,
         0.22497992478311063,
         0.20696532391011715,
         0.21047858707606792,
         0.19762481674551963,
         0.2186861362308264,
         0.19620034880936146,
         0.19899513386189938,
         0.23380533121526242,
         0.17637398056685924,
         0.25231441520154474,
         0.22460773698985576,
         0.21411355622112752,
         0.2293226823210716,
         0.2288148205727339,
         0.2145921725779772,
         0.19932118132710458,
         0.20250971503555776,
         0.2249661549925804,
         0.21820600144565105,
         0.22354439385235308,
         0.20993224568665028,
         0.20540015250444413,
         0.22862825505435466,
         0.20789212547242641,
         0.22437400482594966,
         0.21985161416232585,
         0.1745618600398302,
         0.2223431419581175,
         0.19158867113292216,
         0.20196542106568813,
         0.20844298228621483,
         0.22050702311098574,
         0.2168982859700918,
         0.21815672069787978,
         0.18585208766162395,
         0.20574272125959397,
         0.20565726272761822,
         0.20269304439425467,
         0.22211875058710576,
         0.20478356890380384,
         0.19407975524663926,
         0.21016110964119433,
         0.17488605491816997,
         0.20739326514303685,
         0.23306507244706154,
         0.2223775301128626,
         0.19754127897322177,
         0.2115906745195389,
         0.19348114542663097,
         0.20561643354594708,
         0.22296986691653728,
         0.20140579305589199,
         0.1965098436921835,
         0.19985281638801097,
         0.19701863564550876,
         0.21022771187126638,
         0.21005040518939494,
         0.2168089985847473,
         0.194115824252367,
         0.1917652152478695,
         0.2265517830848694,
         0.22064451538026333,
         0.19817739985883237,
         0.20534968338906764,
         0.18089576624333858,
         0.21661117784678935,
         0.2135481011122465,
         0.19552069418132306,
         0.24398238398134708,
         0.2084634531289339,
         0.16934475116431713,
         0.21112871430814267,
         0.219356157630682
        ],
        [
         5.108207605779171,
         3.8939169570803642,
         3.8978332802653313,
         4.0674652978777885,
         4.524838835000992,
         4.337765835225582,
         4.958149112761021,
         4.25802318751812,
         3.79480841755867,
         4.169923894107342,
         3.8045539408922195,
         4.101561643183231,
         4.806936830282211,
         4.751966021955013,
         3.9340618029236794,
         4.197686813771725,
         4.468756519258022,
         4.507561944425106,
         4.258122198283672,
         3.71060511469841,
         4.394843675196171,
         4.328374944627285,
         3.672778122127056,
         4.133856624364853,
         4.04657306522131,
         4.27816816419363,
         4.215107373893261,
         4.499598495662212,
         4.139306478202343,
         4.2095717415213585,
         3.9524963349103928,
         4.373722724616528,
         3.924006976187229,
         3.9799026772379875,
         4.676106624305248,
         3.527479611337185,
         5.046288304030895,
         4.492154739797115,
         4.28227112442255,
         4.5864536464214325,
         4.576296411454678,
         4.291843451559544,
         3.9864236265420914,
         4.050194300711155,
         4.499323099851608,
         4.364120028913021,
         4.470887877047062,
         4.1986449137330055,
         4.1080030500888824,
         4.572565101087093,
         4.157842509448528,
         4.487480096518993,
         4.397032283246517,
         3.491237200796604,
         4.44686283916235,
         3.8317734226584435,
         4.039308421313763,
         4.168859645724297,
         4.410140462219715,
         4.337965719401836,
         4.363134413957596,
         3.717041753232479,
         4.114854425191879,
         4.113145254552364,
         4.053860887885094,
         4.442375011742115,
         4.0956713780760765,
         3.881595104932785,
         4.203222192823887,
         3.4977210983633995,
         4.147865302860737,
         4.661301448941231,
         4.447550602257252,
         3.9508255794644356,
         4.231813490390778,
         3.8696229085326195,
         4.1123286709189415,
         4.459397338330746,
         4.02811586111784,
         3.93019687384367,
         3.9970563277602196,
         3.9403727129101753,
         4.204554237425327,
         4.201008103787899,
         4.336179971694946,
         3.8823164850473404,
         3.83530430495739,
         4.531035661697388,
         4.412890307605267,
         3.963547997176647,
         4.106993667781353,
         3.6179153248667717,
         4.332223556935787,
         4.27096202224493,
         3.910413883626461,
         4.879647679626942,
         4.169269062578678,
         3.3868950232863426,
         4.222574286162853,
         4.38712315261364
        ],
        [
         1.4927689850407382,
         1.1635845721660885,
         1.1411628973492778,
         1.3068907426829772,
         1.4505569660933044,
         1.3627605740387148,
         1.433034989198329,
         1.2531135624988416,
         1.157564497753637,
         1.271273583363526,
         1.1661840480041834,
         1.160445214239932,
         1.409606623380062,
         1.4401955018228414,
         1.3101426937897234,
         1.2357509831029394,
         1.3609321201272033,
         1.3725847245108327,
         1.3153965835251369,
         1.1419452160722987,
         1.4111547631536538,
         1.2491053309715434,
         1.086228235202707,
         1.2277835935448362,
         1.3391330035983349,
         1.195492927390272,
         1.3658058363760908,
         1.3360503042970822,
         1.2841949432480744,
         1.2572871588306178,
         1.161703068239923,
         1.3399095748225167,
         1.1160591091167178,
         1.1915310374735777,
         1.335356418163138,
         1.1619074957264128,
         1.484048103181506,
         1.4227563717289462,
         1.3872042646121197,
         1.4193878469538854,
         1.277424034515729,
         1.3103039601897648,
         1.1774025619735076,
         1.2937486981432618,
         1.268467170336318,
         1.3518366590947024,
         1.3066031717848556,
         1.3324535139310039,
         1.2614740011541703,
         1.4181416640484816,
         1.3638970218982234,
         1.2900474465883314,
         1.3713524452425914,
         1.0887341191971043,
         1.2452955631964024,
         1.100295681952368,
         1.1469616569714292,
         1.1476332257795123,
         1.2763670405777208,
         1.3984131941079734,
         1.3436255233444145,
         1.0468661871186726,
         1.2850669622062019,
         1.2502270655017333,
         1.1593545161706245,
         1.2756629330982805,
         1.337181217010812,
         1.171073902039065,
         1.2292183902827476,
         1.2006614148407155,
         1.3505420447861336,
         1.3555869305286903,
         1.3656338346265708,
         1.1568287181160473,
         1.3352305522958012,
         1.226787418666244,
         1.3234368330181234,
         1.4172316927379742,
         1.191221011549903,
         1.1507732541220963,
         1.2184580616144933,
         1.2340961816118632,
         1.236728336380636,
         1.3626114879623414,
         1.2471104356277454,
         1.160060579520261,
         1.1971547912712215,
         1.3943824070454587,
         1.3986838681559497,
         1.1855999706849318,
         1.3108590762639738,
         1.1121474329023402,
         1.3945737413299344,
         1.3345964571737343,
         1.3064322498136978,
         1.4872546982899493,
         1.304087074952521,
         1.0213471563911967,
         1.3671133393750767,
         1.3547610075100458
        ]
       ],
       "encoder": "json",
       "name": "ABC_GAN_3 Metrics",
       "version": 1
      }
     },
     "metadata": {
      "scrapbook": {
       "data": true,
       "display": false,
       "name": "ABC_GAN_3 Metrics"
      }
     },
     "output_type": "display_data"
    },
    {
     "name": "stdout",
     "output_type": "stream",
     "text": [
      "MSE\n",
      "0.0824016377196311\n"
     ]
    }
   ],
   "source": [
    "ABC_GAN3_metrics=ABC_train_test2.test_generator(gen3,test_data,prior_model,variance,bias,\"3\",device)\n",
    "sb.glue(\"ABC_GAN_3 Metrics\",ABC_GAN3_metrics)\n",
    "\n",
    "print(\"MSE\")\n",
    "print(mean(ABC_GAN3_metrics[0]))"
   ]
  },
  {
   "cell_type": "code",
   "execution_count": 18,
   "id": "c8e46b48",
   "metadata": {
    "execution": {
     "iopub.execute_input": "2022-03-08T20:46:15.985260Z",
     "iopub.status.busy": "2022-03-08T20:46:15.984890Z",
     "iopub.status.idle": "2022-03-08T20:46:16.278809Z",
     "shell.execute_reply": "2022-03-08T20:46:16.279108Z"
    },
    "id": "c8e46b48",
    "papermill": {
     "duration": 0.313104,
     "end_time": "2022-03-08T20:46:16.279230",
     "exception": false,
     "start_time": "2022-03-08T20:46:15.966126",
     "status": "completed"
    },
    "tags": []
   },
   "outputs": [
    {
     "data": {
      "image/png": "[encoded data removed]",
      "text/plain": [
       "<Figure size 432x288 with 1 Axes>"
      ]
     },
     "metadata": {
      "needs_background": "light"
     },
     "output_type": "display_data"
    },
    {
     "data": {
      "image/png": "[encoded data removed]",
      "text/plain": [
       "<Figure size 432x288 with 1 Axes>"
      ]
     },
     "metadata": {
      "needs_background": "light"
     },
     "output_type": "display_data"
    },
    {
     "data": {
      "image/png": "[encoded data removed]",
      "text/plain": [
       "<Figure size 432x288 with 1 Axes>"
      ]
     },
     "metadata": {
      "needs_background": "light"
     },
     "output_type": "display_data"
    },
    {
     "data": {
      "image/png": "[encoded data removed]",
      "text/plain": [
       "<Figure size 432x288 with 1 Axes>"
      ]
     },
     "metadata": {
      "needs_background": "light"
     },
     "output_type": "display_data"
    }
   ],
   "source": [
    "sanityChecks.discProbVsError(train_data,disc3,device)\n",
    "sanityChecks.discProbVsError(test_data,disc3,device)"
   ]
  },
  {
   "cell_type": "markdown",
   "id": "a5bd74c3",
   "metadata": {
    "id": "a5bd74c3",
    "papermill": {
     "duration": 0.019291,
     "end_time": "2022-03-08T20:46:16.318281",
     "exception": false,
     "start_time": "2022-03-08T20:46:16.298990",
     "status": "completed"
    },
    "tags": []
   },
   "source": [
    "## Skip Connection Model Analysis - ABC-GAN "
   ]
  },
  {
   "cell_type": "markdown",
   "id": "5744a8bf",
   "metadata": {
    "id": "5744a8bf",
    "papermill": {
     "duration": 0.019132,
     "end_time": "2022-03-08T20:46:16.356736",
     "exception": false,
     "start_time": "2022-03-08T20:46:16.337604",
     "status": "completed"
    },
    "tags": []
   },
   "source": [
    "### Weight Analysis \n",
    "\n",
    "Study the weights of the skip connection layer\n",
    "\n",
    "Equation of the skip connection is \n",
    "\n",
    "$output = y_{gan} * w + y_{abc} * (1-w)$"
   ]
  },
  {
   "cell_type": "code",
   "execution_count": 19,
   "id": "52c31dea",
   "metadata": {
    "execution": {
     "iopub.execute_input": "2022-03-08T20:46:16.397762Z",
     "iopub.status.busy": "2022-03-08T20:46:16.397370Z",
     "iopub.status.idle": "2022-03-08T20:46:16.400856Z",
     "shell.execute_reply": "2022-03-08T20:46:16.401089Z"
    },
    "id": "52c31dea",
    "papermill": {
     "duration": 0.02532,
     "end_time": "2022-03-08T20:46:16.401203",
     "exception": false,
     "start_time": "2022-03-08T20:46:16.375883",
     "status": "completed"
    },
    "tags": []
   },
   "outputs": [
    {
     "name": "stdout",
     "output_type": "stream",
     "text": [
      "Weight of the node at skip connection\n",
      "Parameter containing:\n",
      "tensor([[0.1274]], requires_grad=True)\n"
     ]
    },
    {
     "data": {
      "application/scrapbook.scrap.json+json": {
       "data": 0.12741738557815552,
       "encoder": "json",
       "name": "Skip Connection Weight",
       "version": 1
      }
     },
     "metadata": {
      "scrapbook": {
       "data": true,
       "display": false,
       "name": "Skip Connection Weight"
      }
     },
     "output_type": "display_data"
    }
   ],
   "source": [
    "print(\"Weight of the node at skip connection\")\n",
    "for name,param in gen3.named_parameters():\n",
    "    if(name == \"skipNode.weight\"):\n",
    "        print(param)\n",
    "        sb.glue(\"Skip Connection Weight\",param.item())"
   ]
  }
 ],
 "metadata": {
  "colab": {
   "collapsed_sections": [],
   "name": "ABC_GAN_Model-Catboost_Pre-gen.ipynb",
   "provenance": []
  },
  "interpreter": {
   "hash": "31f2aee4e71d21fbe5cf8b01ff0e069b9275f58929596ceb00d14d90e3e16cd6"
  },
  "kernelspec": {
   "display_name": "Python 3 (ipykernel)",
   "language": "python",
   "name": "python3"
  },
  "language_info": {
   "codemirror_mode": {
    "name": "ipython",
    "version": 3
   },
   "file_extension": ".py",
   "mimetype": "text/x-python",
   "name": "python",
   "nbconvert_exporter": "python",
   "pygments_lexer": "ipython3",
   "version": "3.8.11"
  },
  "papermill": {
   "default_parameters": {},
   "duration": 54.042959,
   "end_time": "2022-03-08T20:46:16.731621",
   "environment_variables": {},
   "exception": null,
   "input_path": "ABC_GAN-Catboost.ipynb",
   "output_path": "./ABC_GAN_Catboost/ABC-GAN_output_8_6.ipynb",
   "parameters": {
    "bias": 0.01,
    "variance": 1
   },
   "start_time": "2022-03-08T20:45:22.688662",
   "version": "2.3.3"
  }
 },
 "nbformat": 4,
 "nbformat_minor": 5
}