{
 "cells": [
  {
   "cell_type": "markdown",
   "id": "622780e6",
   "metadata": {
    "id": "622780e6",
    "papermill": {
     "duration": 0.023907,
     "end_time": "2022-03-08T20:44:27.001156",
     "exception": false,
     "start_time": "2022-03-08T20:44:26.977249",
     "status": "completed"
    },
    "tags": []
   },
   "source": [
    "## Import Libraries "
   ]
  },
  {
   "cell_type": "code",
   "execution_count": 1,
   "id": "a62397e3",
   "metadata": {
    "execution": {
     "iopub.execute_input": "2022-03-08T20:44:27.034727Z",
     "iopub.status.busy": "2022-03-08T20:44:27.034247Z",
     "iopub.status.idle": "2022-03-08T20:44:27.036661Z",
     "shell.execute_reply": "2022-03-08T20:44:27.037012Z"
    },
    "id": "a62397e3",
    "papermill": {
     "duration": 0.0218,
     "end_time": "2022-03-08T20:44:27.037229",
     "exception": false,
     "start_time": "2022-03-08T20:44:27.015429",
     "status": "completed"
    },
    "tags": []
   },
   "outputs": [],
   "source": [
    "import warnings\n",
    "import sys\n",
    "sys.path.insert(0, '../../src')\n",
    "warnings.filterwarnings('ignore')"
   ]
  },
  {
   "cell_type": "code",
   "execution_count": 2,
   "id": "d6a4e155",
   "metadata": {
    "execution": {
     "iopub.execute_input": "2022-03-08T20:44:27.057939Z",
     "iopub.status.busy": "2022-03-08T20:44:27.057514Z",
     "iopub.status.idle": "2022-03-08T20:44:28.596876Z",
     "shell.execute_reply": "2022-03-08T20:44:28.597103Z"
    },
    "id": "d6a4e155",
    "papermill": {
     "duration": 1.550294,
     "end_time": "2022-03-08T20:44:28.597231",
     "exception": false,
     "start_time": "2022-03-08T20:44:27.046937",
     "status": "completed"
    },
    "tags": []
   },
   "outputs": [],
   "source": [
    "import ABC_train_test2\n",
    "import friedman1Dataset\n",
    "import network\n",
    "import dataset\n",
    "import sanityChecks\n",
    "import torch \n",
    "import scrapbook as sb\n",
    "from statistics import mean \n",
    "import catboost as ctb \n",
    "from sklearn.model_selection import train_test_split\n",
    "from sklearn.metrics import mean_squared_error,mean_absolute_error\n",
    "import numpy as np"
   ]
  },
  {
   "cell_type": "markdown",
   "id": "2fa5b0f7",
   "metadata": {
    "id": "2fa5b0f7",
    "papermill": {
     "duration": 0.006716,
     "end_time": "2022-03-08T20:44:28.611037",
     "exception": false,
     "start_time": "2022-03-08T20:44:28.604321",
     "status": "completed"
    },
    "tags": []
   },
   "source": [
    "## Parameters "
   ]
  },
  {
   "cell_type": "code",
   "execution_count": 3,
   "id": "783186fb",
   "metadata": {
    "execution": {
     "iopub.execute_input": "2022-03-08T20:44:28.626835Z",
     "iopub.status.busy": "2022-03-08T20:44:28.626398Z",
     "iopub.status.idle": "2022-03-08T20:44:28.627781Z",
     "shell.execute_reply": "2022-03-08T20:44:28.628021Z"
    },
    "id": "783186fb",
    "papermill": {
     "duration": 0.0103,
     "end_time": "2022-03-08T20:44:28.628130",
     "exception": false,
     "start_time": "2022-03-08T20:44:28.617830",
     "status": "completed"
    },
    "tags": [
     "parameters"
    ]
   },
   "outputs": [],
   "source": [
    "variance = 1\n",
    "bias = 1 "
   ]
  },
  {
   "cell_type": "code",
   "execution_count": 4,
   "id": "5b0ec1cc",
   "metadata": {
    "execution": {
     "iopub.execute_input": "2022-03-08T20:44:28.643567Z",
     "iopub.status.busy": "2022-03-08T20:44:28.643171Z",
     "iopub.status.idle": "2022-03-08T20:44:28.644547Z",
     "shell.execute_reply": "2022-03-08T20:44:28.644771Z"
    },
    "papermill": {
     "duration": 0.009887,
     "end_time": "2022-03-08T20:44:28.644874",
     "exception": false,
     "start_time": "2022-03-08T20:44:28.634987",
     "status": "completed"
    },
    "tags": [
     "injected-parameters"
    ]
   },
   "outputs": [],
   "source": [
    "# Parameters\n",
    "variance = 0.01\n",
    "bias = 0.1\n"
   ]
  },
  {
   "cell_type": "markdown",
   "id": "391cdbfd",
   "metadata": {
    "id": "391cdbfd",
    "papermill": {
     "duration": 0.006689,
     "end_time": "2022-03-08T20:44:28.658386",
     "exception": false,
     "start_time": "2022-03-08T20:44:28.651697",
     "status": "completed"
    },
    "tags": []
   },
   "source": [
    "## Dataset \n"
   ]
  },
  {
   "cell_type": "code",
   "execution_count": 5,
   "id": "5b51f161",
   "metadata": {
    "execution": {
     "iopub.execute_input": "2022-03-08T20:44:28.673722Z",
     "iopub.status.busy": "2022-03-08T20:44:28.673376Z",
     "iopub.status.idle": "2022-03-08T20:44:28.674711Z",
     "shell.execute_reply": "2022-03-08T20:44:28.674938Z"
    },
    "id": "5b51f161",
    "papermill": {
     "duration": 0.009897,
     "end_time": "2022-03-08T20:44:28.675039",
     "exception": false,
     "start_time": "2022-03-08T20:44:28.665142",
     "status": "completed"
    },
    "tags": []
   },
   "outputs": [],
   "source": [
    "#Parameters \n",
    "n_features = 5\n",
    "n_samples= 100\n",
    "n_target = 1 "
   ]
  },
  {
   "cell_type": "code",
   "execution_count": 6,
   "id": "5d6eced4",
   "metadata": {
    "execution": {
     "iopub.execute_input": "2022-03-08T20:44:28.691533Z",
     "iopub.status.busy": "2022-03-08T20:44:28.690236Z",
     "iopub.status.idle": "2022-03-08T20:44:28.696187Z",
     "shell.execute_reply": "2022-03-08T20:44:28.696428Z"
    },
    "id": "5d6eced4",
    "papermill": {
     "duration": 0.014694,
     "end_time": "2022-03-08T20:44:28.696537",
     "exception": false,
     "start_time": "2022-03-08T20:44:28.681843",
     "status": "completed"
    },
    "tags": []
   },
   "outputs": [
    {
     "name": "stdout",
     "output_type": "stream",
     "text": [
      "         X0        X1        X2        X3        X4         Y\n",
      "0  0.095915  0.215960  1.029275 -1.589882  1.341760  0.160623\n",
      "1 -0.109625 -1.536153 -1.249170 -0.230906 -0.946231 -1.388460\n",
      "2  0.976452  0.763819  0.488482  0.053707  0.848110  1.091518\n",
      "3 -1.005224  0.889050  1.599682 -1.057695  1.235895  0.388725\n",
      "4 -1.012094  0.799765  0.501260 -1.562530  0.247450 -1.124749\n"
     ]
    }
   ],
   "source": [
    "X,Y = friedman1Dataset.friedman1_data(n_samples,n_features)"
   ]
  },
  {
   "cell_type": "code",
   "execution_count": 7,
   "id": "fe007438",
   "metadata": {
    "execution": {
     "iopub.execute_input": "2022-03-08T20:44:28.713191Z",
     "iopub.status.busy": "2022-03-08T20:44:28.712847Z",
     "iopub.status.idle": "2022-03-08T20:44:28.714359Z",
     "shell.execute_reply": "2022-03-08T20:44:28.714658Z"
    },
    "id": "fe007438",
    "papermill": {
     "duration": 0.010999,
     "end_time": "2022-03-08T20:44:28.714764",
     "exception": false,
     "start_time": "2022-03-08T20:44:28.703765",
     "status": "completed"
    },
    "tags": []
   },
   "outputs": [],
   "source": [
    "#Train test split for dataset \n",
    "X_train,X_test,Y_train,Y_test = train_test_split(X,Y,test_size = 0.2)\n",
    "train_data = dataset.CustomDataset(X_train,Y_train)\n",
    "test_data = dataset.CustomDataset(X_test,Y_test)\n"
   ]
  },
  {
   "cell_type": "markdown",
   "id": "a9a1af34",
   "metadata": {
    "id": "a9a1af34",
    "papermill": {
     "duration": 0.007068,
     "end_time": "2022-03-08T20:44:28.729055",
     "exception": false,
     "start_time": "2022-03-08T20:44:28.721987",
     "status": "completed"
    },
    "tags": []
   },
   "source": [
    "## Training Parameters "
   ]
  },
  {
   "cell_type": "code",
   "execution_count": 8,
   "id": "952b7fc8",
   "metadata": {
    "execution": {
     "iopub.execute_input": "2022-03-08T20:44:28.745364Z",
     "iopub.status.busy": "2022-03-08T20:44:28.744997Z",
     "iopub.status.idle": "2022-03-08T20:44:28.746398Z",
     "shell.execute_reply": "2022-03-08T20:44:28.746637Z"
    },
    "id": "952b7fc8",
    "papermill": {
     "duration": 0.010663,
     "end_time": "2022-03-08T20:44:28.746739",
     "exception": false,
     "start_time": "2022-03-08T20:44:28.736076",
     "status": "completed"
    },
    "tags": []
   },
   "outputs": [],
   "source": [
    "batch_size = 32\n",
    "n_epochs = 1000\n",
    "#Select the device \n",
    "device = torch.device('cuda' if torch.cuda.is_available() else 'cpu')"
   ]
  },
  {
   "cell_type": "markdown",
   "id": "a95e1600",
   "metadata": {
    "id": "a95e1600",
    "papermill": {
     "duration": 0.006981,
     "end_time": "2022-03-08T20:44:28.760814",
     "exception": false,
     "start_time": "2022-03-08T20:44:28.753833",
     "status": "completed"
    },
    "tags": []
   },
   "source": [
    "# ABC Pre-generator Model \n",
    "\n",
    "1. The catboost model is used as a pre-generator model for the ABC-GAN. \n",
    "2. The model is first trained on the entire dataset \n",
    "3. It generats X,Y pairs and we add some Gaussian noise with mean 0 and variance 1 to it which is then feed as input to the generator.\n"
   ]
  },
  {
   "cell_type": "code",
   "execution_count": 9,
   "id": "ff8ce7bd",
   "metadata": {
    "execution": {
     "iopub.execute_input": "2022-03-08T20:44:28.778215Z",
     "iopub.status.busy": "2022-03-08T20:44:28.777842Z",
     "iopub.status.idle": "2022-03-08T20:44:29.406095Z",
     "shell.execute_reply": "2022-03-08T20:44:29.406398Z"
    },
    "id": "ff8ce7bd",
    "papermill": {
     "duration": 0.638644,
     "end_time": "2022-03-08T20:44:29.406522",
     "exception": false,
     "start_time": "2022-03-08T20:44:28.767878",
     "status": "completed"
    },
    "tags": []
   },
   "outputs": [
    {
     "name": "stdout",
     "output_type": "stream",
     "text": [
      "Learning rate set to 0.024897\n",
      "0:\tlearn: 0.9505051\ttotal: 66.7ms\tremaining: 1m 6s\n",
      "1:\tlearn: 0.9423485\ttotal: 67.2ms\tremaining: 33.6s\n",
      "2:\tlearn: 0.9327213\ttotal: 67.8ms\tremaining: 22.5s\n",
      "3:\tlearn: 0.9245912\ttotal: 68.4ms\tremaining: 17s\n",
      "4:\tlearn: 0.9178506\ttotal: 69ms\tremaining: 13.7s\n",
      "5:\tlearn: 0.9087275\ttotal: 69.7ms\tremaining: 11.5s\n",
      "6:\tlearn: 0.8987330\ttotal: 70.3ms\tremaining: 9.98s\n",
      "7:\tlearn: 0.8911541\ttotal: 70.9ms\tremaining: 8.8s\n",
      "8:\tlearn: 0.8833980\ttotal: 71.5ms\tremaining: 7.87s\n",
      "9:\tlearn: 0.8758713\ttotal: 72.1ms\tremaining: 7.14s\n",
      "10:\tlearn: 0.8688252\ttotal: 72.6ms\tremaining: 6.53s\n",
      "11:\tlearn: 0.8603533\ttotal: 73.1ms\tremaining: 6.02s\n",
      "12:\tlearn: 0.8523117\ttotal: 73.7ms\tremaining: 5.59s\n",
      "13:\tlearn: 0.8445127\ttotal: 74.3ms\tremaining: 5.23s\n",
      "14:\tlearn: 0.8378885\ttotal: 74.9ms\tremaining: 4.92s\n",
      "15:\tlearn: 0.8316361\ttotal: 75.4ms\tremaining: 4.63s\n",
      "16:\tlearn: 0.8241936\ttotal: 75.8ms\tremaining: 4.38s\n",
      "17:\tlearn: 0.8153980\ttotal: 76.4ms\tremaining: 4.17s\n",
      "18:\tlearn: 0.8061203\ttotal: 76.8ms\tremaining: 3.97s\n",
      "19:\tlearn: 0.7972007\ttotal: 77.3ms\tremaining: 3.79s\n",
      "20:\tlearn: 0.7903640\ttotal: 77.8ms\tremaining: 3.63s\n",
      "21:\tlearn: 0.7827467\ttotal: 78.3ms\tremaining: 3.48s\n",
      "22:\tlearn: 0.7759194\ttotal: 78.8ms\tremaining: 3.35s\n",
      "23:\tlearn: 0.7692375\ttotal: 79.3ms\tremaining: 3.23s\n",
      "24:\tlearn: 0.7633808\ttotal: 79.8ms\tremaining: 3.11s\n",
      "25:\tlearn: 0.7567704\ttotal: 80.3ms\tremaining: 3.01s\n",
      "26:\tlearn: 0.7504368\ttotal: 80.7ms\tremaining: 2.91s\n",
      "27:\tlearn: 0.7437635\ttotal: 81.2ms\tremaining: 2.82s\n",
      "28:\tlearn: 0.7377238\ttotal: 81.7ms\tremaining: 2.74s\n",
      "29:\tlearn: 0.7295862\ttotal: 82.2ms\tremaining: 2.66s\n",
      "30:\tlearn: 0.7222883\ttotal: 82.7ms\tremaining: 2.59s\n",
      "31:\tlearn: 0.7162361\ttotal: 83.1ms\tremaining: 2.51s\n",
      "32:\tlearn: 0.7113181\ttotal: 83.5ms\tremaining: 2.45s\n",
      "33:\tlearn: 0.7061317\ttotal: 84ms\tremaining: 2.38s\n",
      "34:\tlearn: 0.7010904\ttotal: 84.5ms\tremaining: 2.33s\n",
      "35:\tlearn: 0.6957319\ttotal: 84.9ms\tremaining: 2.27s\n",
      "36:\tlearn: 0.6891155\ttotal: 85.3ms\tremaining: 2.22s\n",
      "37:\tlearn: 0.6831600\ttotal: 85.7ms\tremaining: 2.17s\n",
      "38:\tlearn: 0.6762269\ttotal: 86.1ms\tremaining: 2.12s\n",
      "39:\tlearn: 0.6713105\ttotal: 86.6ms\tremaining: 2.08s\n",
      "40:\tlearn: 0.6646895\ttotal: 87ms\tremaining: 2.04s\n",
      "41:\tlearn: 0.6590851\ttotal: 87.5ms\tremaining: 1.99s\n",
      "42:\tlearn: 0.6525503\ttotal: 87.9ms\tremaining: 1.96s\n",
      "43:\tlearn: 0.6466137\ttotal: 88.4ms\tremaining: 1.92s\n",
      "44:\tlearn: 0.6414272\ttotal: 88.8ms\tremaining: 1.88s\n",
      "45:\tlearn: 0.6352738\ttotal: 89.3ms\tremaining: 1.85s\n",
      "46:\tlearn: 0.6307699\ttotal: 89.7ms\tremaining: 1.82s\n",
      "47:\tlearn: 0.6254660\ttotal: 90.1ms\tremaining: 1.79s\n",
      "48:\tlearn: 0.6210556\ttotal: 90.6ms\tremaining: 1.76s\n",
      "49:\tlearn: 0.6155706\ttotal: 91.1ms\tremaining: 1.73s\n",
      "50:\tlearn: 0.6099160\ttotal: 91.7ms\tremaining: 1.71s\n",
      "51:\tlearn: 0.6040010\ttotal: 92.1ms\tremaining: 1.68s\n",
      "52:\tlearn: 0.5978095\ttotal: 92.4ms\tremaining: 1.65s\n",
      "53:\tlearn: 0.5940748\ttotal: 92.8ms\tremaining: 1.63s\n",
      "54:\tlearn: 0.5885004\ttotal: 93.3ms\tremaining: 1.6s\n",
      "55:\tlearn: 0.5836603\ttotal: 93.8ms\tremaining: 1.58s\n",
      "56:\tlearn: 0.5787822\ttotal: 94.3ms\tremaining: 1.56s\n",
      "57:\tlearn: 0.5750694\ttotal: 94.8ms\tremaining: 1.54s\n",
      "58:\tlearn: 0.5710109\ttotal: 95.2ms\tremaining: 1.52s\n",
      "59:\tlearn: 0.5667070\ttotal: 95.6ms\tremaining: 1.5s\n",
      "60:\tlearn: 0.5616169\ttotal: 96ms\tremaining: 1.48s\n",
      "61:\tlearn: 0.5572755\ttotal: 96.6ms\tremaining: 1.46s\n",
      "62:\tlearn: 0.5525896\ttotal: 97.2ms\tremaining: 1.44s\n",
      "63:\tlearn: 0.5475100\ttotal: 97.6ms\tremaining: 1.43s\n",
      "64:\tlearn: 0.5426410\ttotal: 98.1ms\tremaining: 1.41s\n",
      "65:\tlearn: 0.5389293\ttotal: 98.6ms\tremaining: 1.4s\n",
      "66:\tlearn: 0.5340890\ttotal: 99ms\tremaining: 1.38s\n",
      "67:\tlearn: 0.5295285\ttotal: 99.4ms\tremaining: 1.36s\n",
      "68:\tlearn: 0.5254206\ttotal: 99.8ms\tremaining: 1.35s\n",
      "69:\tlearn: 0.5205924\ttotal: 100ms\tremaining: 1.33s\n",
      "70:\tlearn: 0.5165154\ttotal: 101ms\tremaining: 1.31s\n",
      "71:\tlearn: 0.5131225\ttotal: 101ms\tremaining: 1.3s\n",
      "72:\tlearn: 0.5088640\ttotal: 101ms\tremaining: 1.29s\n",
      "73:\tlearn: 0.5053509\ttotal: 102ms\tremaining: 1.27s\n",
      "74:\tlearn: 0.5010735\ttotal: 102ms\tremaining: 1.26s\n",
      "75:\tlearn: 0.4982236\ttotal: 103ms\tremaining: 1.25s\n",
      "76:\tlearn: 0.4942576\ttotal: 103ms\tremaining: 1.24s\n",
      "77:\tlearn: 0.4911004\ttotal: 104ms\tremaining: 1.23s\n",
      "78:\tlearn: 0.4877586\ttotal: 104ms\tremaining: 1.21s\n",
      "79:\tlearn: 0.4843616\ttotal: 105ms\tremaining: 1.2s\n",
      "80:\tlearn: 0.4797381\ttotal: 105ms\tremaining: 1.19s\n",
      "81:\tlearn: 0.4753519\ttotal: 106ms\tremaining: 1.19s\n",
      "82:\tlearn: 0.4716247\ttotal: 106ms\tremaining: 1.18s\n",
      "83:\tlearn: 0.4682338\ttotal: 107ms\tremaining: 1.17s\n",
      "84:\tlearn: 0.4642271\ttotal: 107ms\tremaining: 1.16s\n",
      "85:\tlearn: 0.4602247\ttotal: 108ms\tremaining: 1.14s\n",
      "86:\tlearn: 0.4565512\ttotal: 108ms\tremaining: 1.14s\n",
      "87:\tlearn: 0.4530542\ttotal: 109ms\tremaining: 1.13s\n",
      "88:\tlearn: 0.4492302\ttotal: 109ms\tremaining: 1.11s\n",
      "89:\tlearn: 0.4452433\ttotal: 109ms\tremaining: 1.1s\n"
     ]
    },
    {
     "name": "stdout",
     "output_type": "stream",
     "text": [
      "90:\tlearn: 0.4420969\ttotal: 110ms\tremaining: 1.1s\n",
      "91:\tlearn: 0.4387992\ttotal: 111ms\tremaining: 1.09s\n",
      "92:\tlearn: 0.4354474\ttotal: 111ms\tremaining: 1.08s\n",
      "93:\tlearn: 0.4316880\ttotal: 112ms\tremaining: 1.07s\n",
      "94:\tlearn: 0.4284500\ttotal: 112ms\tremaining: 1.07s\n",
      "95:\tlearn: 0.4255207\ttotal: 113ms\tremaining: 1.06s\n",
      "96:\tlearn: 0.4219488\ttotal: 113ms\tremaining: 1.05s\n",
      "97:\tlearn: 0.4191282\ttotal: 113ms\tremaining: 1.04s\n",
      "98:\tlearn: 0.4156888\ttotal: 114ms\tremaining: 1.03s\n",
      "99:\tlearn: 0.4127675\ttotal: 114ms\tremaining: 1.03s\n",
      "100:\tlearn: 0.4104370\ttotal: 114ms\tremaining: 1.02s\n",
      "101:\tlearn: 0.4073205\ttotal: 115ms\tremaining: 1.01s\n",
      "102:\tlearn: 0.4047087\ttotal: 115ms\tremaining: 1s\n",
      "103:\tlearn: 0.4028504\ttotal: 116ms\tremaining: 997ms\n",
      "104:\tlearn: 0.4002124\ttotal: 116ms\tremaining: 989ms\n",
      "105:\tlearn: 0.3965769\ttotal: 116ms\tremaining: 982ms\n",
      "106:\tlearn: 0.3935068\ttotal: 117ms\tremaining: 975ms\n",
      "107:\tlearn: 0.3910551\ttotal: 117ms\tremaining: 968ms\n",
      "108:\tlearn: 0.3887812\ttotal: 118ms\tremaining: 962ms\n",
      "109:\tlearn: 0.3856508\ttotal: 118ms\tremaining: 955ms\n",
      "110:\tlearn: 0.3828452\ttotal: 119ms\tremaining: 949ms\n",
      "111:\tlearn: 0.3798927\ttotal: 119ms\tremaining: 943ms\n",
      "112:\tlearn: 0.3770735\ttotal: 119ms\tremaining: 938ms\n",
      "113:\tlearn: 0.3741795\ttotal: 120ms\tremaining: 932ms\n",
      "114:\tlearn: 0.3719705\ttotal: 120ms\tremaining: 926ms\n",
      "115:\tlearn: 0.3692505\ttotal: 121ms\tremaining: 921ms\n",
      "116:\tlearn: 0.3666017\ttotal: 121ms\tremaining: 915ms\n",
      "117:\tlearn: 0.3635192\ttotal: 122ms\tremaining: 910ms\n",
      "118:\tlearn: 0.3611433\ttotal: 122ms\tremaining: 906ms\n",
      "119:\tlearn: 0.3580782\ttotal: 123ms\tremaining: 900ms\n",
      "120:\tlearn: 0.3558786\ttotal: 123ms\tremaining: 895ms\n",
      "121:\tlearn: 0.3533950\ttotal: 124ms\tremaining: 890ms\n",
      "122:\tlearn: 0.3505190\ttotal: 124ms\tremaining: 885ms\n",
      "123:\tlearn: 0.3481987\ttotal: 125ms\tremaining: 881ms\n",
      "124:\tlearn: 0.3459213\ttotal: 125ms\tremaining: 876ms\n",
      "125:\tlearn: 0.3435950\ttotal: 126ms\tremaining: 871ms\n",
      "126:\tlearn: 0.3413547\ttotal: 126ms\tremaining: 866ms\n",
      "127:\tlearn: 0.3393602\ttotal: 127ms\tremaining: 862ms\n",
      "128:\tlearn: 0.3371065\ttotal: 127ms\tremaining: 858ms\n",
      "129:\tlearn: 0.3355640\ttotal: 128ms\tremaining: 854ms\n",
      "130:\tlearn: 0.3334161\ttotal: 128ms\tremaining: 850ms\n",
      "131:\tlearn: 0.3312071\ttotal: 129ms\tremaining: 846ms\n",
      "132:\tlearn: 0.3289273\ttotal: 129ms\tremaining: 842ms\n",
      "133:\tlearn: 0.3266328\ttotal: 130ms\tremaining: 838ms\n",
      "134:\tlearn: 0.3246634\ttotal: 130ms\tremaining: 834ms\n",
      "135:\tlearn: 0.3227106\ttotal: 131ms\tremaining: 830ms\n",
      "136:\tlearn: 0.3209149\ttotal: 131ms\tremaining: 827ms\n",
      "137:\tlearn: 0.3187715\ttotal: 132ms\tremaining: 823ms\n",
      "138:\tlearn: 0.3166185\ttotal: 132ms\tremaining: 819ms\n",
      "139:\tlearn: 0.3146856\ttotal: 133ms\tremaining: 815ms\n",
      "140:\tlearn: 0.3123730\ttotal: 133ms\tremaining: 812ms\n",
      "141:\tlearn: 0.3100492\ttotal: 134ms\tremaining: 808ms\n",
      "142:\tlearn: 0.3081866\ttotal: 134ms\tremaining: 804ms\n",
      "143:\tlearn: 0.3061700\ttotal: 135ms\tremaining: 801ms\n",
      "144:\tlearn: 0.3039628\ttotal: 135ms\tremaining: 797ms\n",
      "145:\tlearn: 0.3020173\ttotal: 136ms\tremaining: 794ms\n",
      "146:\tlearn: 0.2998801\ttotal: 136ms\tremaining: 790ms\n",
      "147:\tlearn: 0.2978721\ttotal: 137ms\tremaining: 787ms\n",
      "148:\tlearn: 0.2957201\ttotal: 137ms\tremaining: 783ms\n",
      "149:\tlearn: 0.2937002\ttotal: 138ms\tremaining: 780ms\n",
      "150:\tlearn: 0.2915986\ttotal: 138ms\tremaining: 776ms\n",
      "151:\tlearn: 0.2902747\ttotal: 139ms\tremaining: 773ms\n",
      "152:\tlearn: 0.2887127\ttotal: 139ms\tremaining: 770ms\n",
      "153:\tlearn: 0.2868764\ttotal: 139ms\tremaining: 766ms\n",
      "154:\tlearn: 0.2853464\ttotal: 140ms\tremaining: 763ms\n",
      "155:\tlearn: 0.2838624\ttotal: 140ms\tremaining: 760ms\n",
      "156:\tlearn: 0.2818594\ttotal: 141ms\tremaining: 756ms\n",
      "157:\tlearn: 0.2796433\ttotal: 141ms\tremaining: 754ms\n",
      "158:\tlearn: 0.2780664\ttotal: 142ms\tremaining: 751ms\n",
      "159:\tlearn: 0.2763948\ttotal: 142ms\tremaining: 747ms\n",
      "160:\tlearn: 0.2747937\ttotal: 143ms\tremaining: 745ms\n",
      "161:\tlearn: 0.2727504\ttotal: 143ms\tremaining: 741ms\n",
      "162:\tlearn: 0.2710882\ttotal: 144ms\tremaining: 738ms\n",
      "163:\tlearn: 0.2691138\ttotal: 144ms\tremaining: 735ms\n",
      "164:\tlearn: 0.2675999\ttotal: 145ms\tremaining: 733ms\n",
      "165:\tlearn: 0.2659407\ttotal: 145ms\tremaining: 730ms\n",
      "166:\tlearn: 0.2648255\ttotal: 146ms\tremaining: 728ms\n",
      "167:\tlearn: 0.2629489\ttotal: 146ms\tremaining: 724ms\n",
      "168:\tlearn: 0.2609653\ttotal: 147ms\tremaining: 722ms\n",
      "169:\tlearn: 0.2598403\ttotal: 147ms\tremaining: 718ms\n",
      "170:\tlearn: 0.2580046\ttotal: 148ms\tremaining: 716ms\n",
      "171:\tlearn: 0.2558740\ttotal: 148ms\tremaining: 713ms\n",
      "172:\tlearn: 0.2543415\ttotal: 149ms\tremaining: 710ms\n",
      "173:\tlearn: 0.2529263\ttotal: 149ms\tremaining: 708ms\n",
      "174:\tlearn: 0.2508326\ttotal: 150ms\tremaining: 705ms\n",
      "175:\tlearn: 0.2489042\ttotal: 150ms\tremaining: 703ms\n",
      "176:\tlearn: 0.2473275\ttotal: 150ms\tremaining: 700ms\n",
      "177:\tlearn: 0.2460011\ttotal: 151ms\tremaining: 697ms\n",
      "178:\tlearn: 0.2443492\ttotal: 151ms\tremaining: 694ms\n",
      "179:\tlearn: 0.2427520\ttotal: 152ms\tremaining: 692ms\n",
      "180:\tlearn: 0.2412755\ttotal: 152ms\tremaining: 689ms\n",
      "181:\tlearn: 0.2398686\ttotal: 153ms\tremaining: 687ms\n",
      "182:\tlearn: 0.2384323\ttotal: 153ms\tremaining: 685ms\n",
      "183:\tlearn: 0.2370140\ttotal: 154ms\tremaining: 682ms\n",
      "184:\tlearn: 0.2356416\ttotal: 154ms\tremaining: 680ms\n",
      "185:\tlearn: 0.2342458\ttotal: 155ms\tremaining: 678ms\n",
      "186:\tlearn: 0.2329747\ttotal: 155ms\tremaining: 676ms\n",
      "187:\tlearn: 0.2314596\ttotal: 156ms\tremaining: 673ms\n",
      "188:\tlearn: 0.2300889\ttotal: 157ms\tremaining: 672ms\n",
      "189:\tlearn: 0.2285060\ttotal: 157ms\tremaining: 669ms\n",
      "190:\tlearn: 0.2268059\ttotal: 157ms\tremaining: 667ms\n",
      "191:\tlearn: 0.2252188\ttotal: 159ms\tremaining: 668ms\n",
      "192:\tlearn: 0.2238768\ttotal: 159ms\tremaining: 665ms\n",
      "193:\tlearn: 0.2225628\ttotal: 159ms\tremaining: 663ms\n",
      "194:\tlearn: 0.2212558\ttotal: 160ms\tremaining: 660ms\n",
      "195:\tlearn: 0.2198615\ttotal: 160ms\tremaining: 658ms\n",
      "196:\tlearn: 0.2182122\ttotal: 161ms\tremaining: 655ms\n",
      "197:\tlearn: 0.2164015\ttotal: 161ms\tremaining: 653ms\n",
      "198:\tlearn: 0.2151382\ttotal: 162ms\tremaining: 651ms\n",
      "199:\tlearn: 0.2135639\ttotal: 162ms\tremaining: 650ms\n",
      "200:\tlearn: 0.2123504\ttotal: 163ms\tremaining: 648ms\n",
      "201:\tlearn: 0.2111134\ttotal: 163ms\tremaining: 646ms\n",
      "202:\tlearn: 0.2094780\ttotal: 164ms\tremaining: 644ms\n",
      "203:\tlearn: 0.2077660\ttotal: 165ms\tremaining: 643ms\n",
      "204:\tlearn: 0.2064368\ttotal: 165ms\tremaining: 641ms\n",
      "205:\tlearn: 0.2050248\ttotal: 166ms\tremaining: 639ms\n",
      "206:\tlearn: 0.2034516\ttotal: 166ms\tremaining: 638ms\n",
      "207:\tlearn: 0.2020152\ttotal: 167ms\tremaining: 636ms\n",
      "208:\tlearn: 0.2007976\ttotal: 167ms\tremaining: 634ms\n",
      "209:\tlearn: 0.1992300\ttotal: 168ms\tremaining: 632ms\n",
      "210:\tlearn: 0.1978328\ttotal: 169ms\tremaining: 630ms\n",
      "211:\tlearn: 0.1966115\ttotal: 169ms\tremaining: 629ms\n",
      "212:\tlearn: 0.1955115\ttotal: 170ms\tremaining: 627ms\n",
      "213:\tlearn: 0.1943383\ttotal: 170ms\tremaining: 625ms\n",
      "214:\tlearn: 0.1929772\ttotal: 171ms\tremaining: 623ms\n",
      "215:\tlearn: 0.1918857\ttotal: 171ms\tremaining: 621ms\n",
      "216:\tlearn: 0.1906919\ttotal: 172ms\tremaining: 619ms\n",
      "217:\tlearn: 0.1897089\ttotal: 172ms\tremaining: 617ms\n",
      "218:\tlearn: 0.1884557\ttotal: 173ms\tremaining: 616ms\n",
      "219:\tlearn: 0.1873216\ttotal: 173ms\tremaining: 614ms\n",
      "220:\tlearn: 0.1862864\ttotal: 173ms\tremaining: 612ms\n",
      "221:\tlearn: 0.1850675\ttotal: 174ms\tremaining: 610ms\n",
      "222:\tlearn: 0.1836197\ttotal: 175ms\tremaining: 608ms\n",
      "223:\tlearn: 0.1824548\ttotal: 175ms\tremaining: 606ms\n",
      "224:\tlearn: 0.1814049\ttotal: 176ms\tremaining: 605ms\n",
      "225:\tlearn: 0.1804784\ttotal: 176ms\tremaining: 603ms\n",
      "226:\tlearn: 0.1791894\ttotal: 177ms\tremaining: 601ms\n",
      "227:\tlearn: 0.1780607\ttotal: 177ms\tremaining: 600ms\n",
      "228:\tlearn: 0.1767002\ttotal: 178ms\tremaining: 599ms\n",
      "229:\tlearn: 0.1755478\ttotal: 178ms\tremaining: 597ms\n",
      "230:\tlearn: 0.1742363\ttotal: 179ms\tremaining: 595ms\n",
      "231:\tlearn: 0.1731068\ttotal: 179ms\tremaining: 593ms\n",
      "232:\tlearn: 0.1718853\ttotal: 180ms\tremaining: 592ms\n",
      "233:\tlearn: 0.1707721\ttotal: 180ms\tremaining: 591ms\n",
      "234:\tlearn: 0.1696859\ttotal: 181ms\tremaining: 589ms\n",
      "235:\tlearn: 0.1686164\ttotal: 181ms\tremaining: 587ms\n",
      "236:\tlearn: 0.1675405\ttotal: 182ms\tremaining: 586ms\n",
      "237:\tlearn: 0.1664460\ttotal: 182ms\tremaining: 584ms\n",
      "238:\tlearn: 0.1654504\ttotal: 183ms\tremaining: 582ms\n",
      "239:\tlearn: 0.1644474\ttotal: 183ms\tremaining: 581ms\n",
      "240:\tlearn: 0.1636005\ttotal: 184ms\tremaining: 579ms\n",
      "241:\tlearn: 0.1627039\ttotal: 184ms\tremaining: 578ms\n",
      "242:\tlearn: 0.1617518\ttotal: 185ms\tremaining: 576ms\n",
      "243:\tlearn: 0.1608236\ttotal: 185ms\tremaining: 574ms\n",
      "244:\tlearn: 0.1598224\ttotal: 186ms\tremaining: 573ms\n",
      "245:\tlearn: 0.1583969\ttotal: 186ms\tremaining: 571ms\n"
     ]
    },
    {
     "name": "stdout",
     "output_type": "stream",
     "text": [
      "246:\tlearn: 0.1573555\ttotal: 187ms\tremaining: 570ms\n",
      "247:\tlearn: 0.1562348\ttotal: 188ms\tremaining: 569ms\n",
      "248:\tlearn: 0.1552027\ttotal: 188ms\tremaining: 567ms\n",
      "249:\tlearn: 0.1542116\ttotal: 188ms\tremaining: 565ms\n",
      "250:\tlearn: 0.1528675\ttotal: 189ms\tremaining: 563ms\n",
      "251:\tlearn: 0.1517604\ttotal: 189ms\tremaining: 562ms\n",
      "252:\tlearn: 0.1508536\ttotal: 190ms\tremaining: 561ms\n",
      "253:\tlearn: 0.1496670\ttotal: 190ms\tremaining: 559ms\n",
      "254:\tlearn: 0.1489414\ttotal: 191ms\tremaining: 557ms\n",
      "255:\tlearn: 0.1478788\ttotal: 191ms\tremaining: 555ms\n",
      "256:\tlearn: 0.1469313\ttotal: 192ms\tremaining: 554ms\n",
      "257:\tlearn: 0.1456652\ttotal: 192ms\tremaining: 553ms\n",
      "258:\tlearn: 0.1445093\ttotal: 193ms\tremaining: 551ms\n",
      "259:\tlearn: 0.1434044\ttotal: 193ms\tremaining: 550ms\n",
      "260:\tlearn: 0.1422499\ttotal: 194ms\tremaining: 549ms\n",
      "261:\tlearn: 0.1414159\ttotal: 194ms\tremaining: 547ms\n",
      "262:\tlearn: 0.1405190\ttotal: 195ms\tremaining: 546ms\n",
      "263:\tlearn: 0.1394636\ttotal: 195ms\tremaining: 544ms\n",
      "264:\tlearn: 0.1384776\ttotal: 196ms\tremaining: 542ms\n",
      "265:\tlearn: 0.1375650\ttotal: 196ms\tremaining: 541ms\n",
      "266:\tlearn: 0.1367196\ttotal: 196ms\tremaining: 539ms\n",
      "267:\tlearn: 0.1356344\ttotal: 197ms\tremaining: 538ms\n",
      "268:\tlearn: 0.1347227\ttotal: 198ms\tremaining: 537ms\n",
      "269:\tlearn: 0.1339981\ttotal: 198ms\tremaining: 536ms\n",
      "270:\tlearn: 0.1329166\ttotal: 199ms\tremaining: 534ms\n",
      "271:\tlearn: 0.1319129\ttotal: 199ms\tremaining: 533ms\n",
      "272:\tlearn: 0.1309509\ttotal: 200ms\tremaining: 531ms\n",
      "273:\tlearn: 0.1300752\ttotal: 200ms\tremaining: 530ms\n",
      "274:\tlearn: 0.1289793\ttotal: 200ms\tremaining: 528ms\n",
      "275:\tlearn: 0.1279225\ttotal: 201ms\tremaining: 527ms\n",
      "276:\tlearn: 0.1271234\ttotal: 201ms\tremaining: 526ms\n",
      "277:\tlearn: 0.1265134\ttotal: 202ms\tremaining: 524ms\n",
      "278:\tlearn: 0.1254943\ttotal: 202ms\tremaining: 523ms\n",
      "279:\tlearn: 0.1247022\ttotal: 203ms\tremaining: 521ms\n",
      "280:\tlearn: 0.1238217\ttotal: 203ms\tremaining: 520ms\n",
      "281:\tlearn: 0.1229680\ttotal: 204ms\tremaining: 519ms\n",
      "282:\tlearn: 0.1222125\ttotal: 204ms\tremaining: 517ms\n",
      "283:\tlearn: 0.1214566\ttotal: 204ms\tremaining: 516ms\n",
      "284:\tlearn: 0.1205450\ttotal: 205ms\tremaining: 515ms\n",
      "285:\tlearn: 0.1197545\ttotal: 205ms\tremaining: 513ms\n",
      "286:\tlearn: 0.1188524\ttotal: 206ms\tremaining: 512ms\n",
      "287:\tlearn: 0.1181937\ttotal: 207ms\tremaining: 511ms\n",
      "288:\tlearn: 0.1172970\ttotal: 207ms\tremaining: 510ms\n",
      "289:\tlearn: 0.1164973\ttotal: 208ms\tremaining: 509ms\n",
      "290:\tlearn: 0.1157462\ttotal: 208ms\tremaining: 507ms\n",
      "291:\tlearn: 0.1149721\ttotal: 208ms\tremaining: 505ms\n",
      "292:\tlearn: 0.1139782\ttotal: 209ms\tremaining: 504ms\n",
      "293:\tlearn: 0.1132085\ttotal: 209ms\tremaining: 503ms\n",
      "294:\tlearn: 0.1123658\ttotal: 210ms\tremaining: 502ms\n",
      "295:\tlearn: 0.1117715\ttotal: 210ms\tremaining: 500ms\n",
      "296:\tlearn: 0.1111333\ttotal: 211ms\tremaining: 499ms\n",
      "297:\tlearn: 0.1101983\ttotal: 211ms\tremaining: 497ms\n",
      "298:\tlearn: 0.1094912\ttotal: 212ms\tremaining: 496ms\n",
      "299:\tlearn: 0.1087780\ttotal: 212ms\tremaining: 494ms\n",
      "300:\tlearn: 0.1080634\ttotal: 212ms\tremaining: 493ms\n",
      "301:\tlearn: 0.1074216\ttotal: 213ms\tremaining: 492ms\n",
      "302:\tlearn: 0.1067628\ttotal: 213ms\tremaining: 490ms\n",
      "303:\tlearn: 0.1059711\ttotal: 214ms\tremaining: 489ms\n",
      "304:\tlearn: 0.1053679\ttotal: 214ms\tremaining: 488ms\n",
      "305:\tlearn: 0.1047207\ttotal: 215ms\tremaining: 487ms\n",
      "306:\tlearn: 0.1039782\ttotal: 215ms\tremaining: 486ms\n",
      "307:\tlearn: 0.1032168\ttotal: 216ms\tremaining: 485ms\n",
      "308:\tlearn: 0.1026279\ttotal: 216ms\tremaining: 484ms\n",
      "309:\tlearn: 0.1018840\ttotal: 217ms\tremaining: 482ms\n",
      "310:\tlearn: 0.1011446\ttotal: 217ms\tremaining: 482ms\n",
      "311:\tlearn: 0.1004007\ttotal: 218ms\tremaining: 480ms\n",
      "312:\tlearn: 0.0997520\ttotal: 218ms\tremaining: 479ms\n",
      "313:\tlearn: 0.0991668\ttotal: 219ms\tremaining: 478ms\n",
      "314:\tlearn: 0.0985373\ttotal: 219ms\tremaining: 477ms\n",
      "315:\tlearn: 0.0979412\ttotal: 220ms\tremaining: 476ms\n",
      "316:\tlearn: 0.0973011\ttotal: 220ms\tremaining: 474ms\n",
      "317:\tlearn: 0.0966134\ttotal: 221ms\tremaining: 473ms\n",
      "318:\tlearn: 0.0960186\ttotal: 221ms\tremaining: 472ms\n",
      "319:\tlearn: 0.0954602\ttotal: 222ms\tremaining: 471ms\n",
      "320:\tlearn: 0.0947748\ttotal: 222ms\tremaining: 470ms\n",
      "321:\tlearn: 0.0941564\ttotal: 223ms\tremaining: 469ms\n",
      "322:\tlearn: 0.0934800\ttotal: 223ms\tremaining: 468ms\n",
      "323:\tlearn: 0.0929450\ttotal: 224ms\tremaining: 466ms\n",
      "324:\tlearn: 0.0922325\ttotal: 224ms\tremaining: 466ms\n",
      "325:\tlearn: 0.0916150\ttotal: 225ms\tremaining: 465ms\n",
      "326:\tlearn: 0.0911115\ttotal: 225ms\tremaining: 464ms\n",
      "327:\tlearn: 0.0904306\ttotal: 226ms\tremaining: 463ms\n",
      "328:\tlearn: 0.0899188\ttotal: 227ms\tremaining: 462ms\n",
      "329:\tlearn: 0.0894383\ttotal: 227ms\tremaining: 461ms\n",
      "330:\tlearn: 0.0889119\ttotal: 228ms\tremaining: 460ms\n",
      "331:\tlearn: 0.0884234\ttotal: 228ms\tremaining: 459ms\n",
      "332:\tlearn: 0.0878478\ttotal: 228ms\tremaining: 458ms\n",
      "333:\tlearn: 0.0873261\ttotal: 229ms\tremaining: 457ms\n",
      "334:\tlearn: 0.0868478\ttotal: 229ms\tremaining: 456ms\n",
      "335:\tlearn: 0.0863757\ttotal: 230ms\tremaining: 455ms\n",
      "336:\tlearn: 0.0859140\ttotal: 231ms\tremaining: 454ms\n",
      "337:\tlearn: 0.0853603\ttotal: 231ms\tremaining: 453ms\n",
      "338:\tlearn: 0.0847144\ttotal: 232ms\tremaining: 452ms\n",
      "339:\tlearn: 0.0840758\ttotal: 232ms\tremaining: 451ms\n",
      "340:\tlearn: 0.0834530\ttotal: 233ms\tremaining: 450ms\n",
      "341:\tlearn: 0.0828680\ttotal: 233ms\tremaining: 449ms\n",
      "342:\tlearn: 0.0824085\ttotal: 234ms\tremaining: 448ms\n",
      "343:\tlearn: 0.0820076\ttotal: 234ms\tremaining: 447ms\n",
      "344:\tlearn: 0.0813121\ttotal: 235ms\tremaining: 446ms\n",
      "345:\tlearn: 0.0806812\ttotal: 236ms\tremaining: 445ms\n",
      "346:\tlearn: 0.0802662\ttotal: 236ms\tremaining: 444ms\n",
      "347:\tlearn: 0.0797185\ttotal: 237ms\tremaining: 443ms\n",
      "348:\tlearn: 0.0790782\ttotal: 237ms\tremaining: 442ms\n",
      "349:\tlearn: 0.0784800\ttotal: 238ms\tremaining: 441ms\n",
      "350:\tlearn: 0.0779185\ttotal: 239ms\tremaining: 442ms\n",
      "351:\tlearn: 0.0773189\ttotal: 240ms\tremaining: 441ms\n",
      "352:\tlearn: 0.0767080\ttotal: 240ms\tremaining: 440ms\n",
      "353:\tlearn: 0.0761077\ttotal: 241ms\tremaining: 439ms\n",
      "354:\tlearn: 0.0755280\ttotal: 241ms\tremaining: 438ms\n",
      "355:\tlearn: 0.0749655\ttotal: 242ms\tremaining: 437ms\n",
      "356:\tlearn: 0.0744050\ttotal: 242ms\tremaining: 436ms\n",
      "357:\tlearn: 0.0738659\ttotal: 243ms\tremaining: 435ms\n",
      "358:\tlearn: 0.0733266\ttotal: 243ms\tremaining: 434ms\n",
      "359:\tlearn: 0.0729390\ttotal: 244ms\tremaining: 433ms\n",
      "360:\tlearn: 0.0724488\ttotal: 244ms\tremaining: 432ms\n",
      "361:\tlearn: 0.0719303\ttotal: 245ms\tremaining: 431ms\n",
      "362:\tlearn: 0.0715179\ttotal: 245ms\tremaining: 430ms\n",
      "363:\tlearn: 0.0711596\ttotal: 245ms\tremaining: 429ms\n",
      "364:\tlearn: 0.0706855\ttotal: 246ms\tremaining: 428ms\n",
      "365:\tlearn: 0.0701893\ttotal: 247ms\tremaining: 427ms\n",
      "366:\tlearn: 0.0697624\ttotal: 247ms\tremaining: 426ms\n",
      "367:\tlearn: 0.0693065\ttotal: 247ms\tremaining: 425ms\n",
      "368:\tlearn: 0.0688586\ttotal: 248ms\tremaining: 424ms\n",
      "369:\tlearn: 0.0684100\ttotal: 249ms\tremaining: 423ms\n",
      "370:\tlearn: 0.0679401\ttotal: 249ms\tremaining: 422ms\n",
      "371:\tlearn: 0.0675073\ttotal: 250ms\tremaining: 422ms\n",
      "372:\tlearn: 0.0670821\ttotal: 250ms\tremaining: 420ms\n",
      "373:\tlearn: 0.0666631\ttotal: 251ms\tremaining: 420ms\n",
      "374:\tlearn: 0.0662485\ttotal: 251ms\tremaining: 419ms\n",
      "375:\tlearn: 0.0658400\ttotal: 252ms\tremaining: 418ms\n",
      "376:\tlearn: 0.0653974\ttotal: 252ms\tremaining: 417ms\n",
      "377:\tlearn: 0.0649991\ttotal: 253ms\tremaining: 416ms\n",
      "378:\tlearn: 0.0646178\ttotal: 253ms\tremaining: 415ms\n",
      "379:\tlearn: 0.0642471\ttotal: 254ms\tremaining: 414ms\n",
      "380:\tlearn: 0.0638599\ttotal: 254ms\tremaining: 413ms\n",
      "381:\tlearn: 0.0634771\ttotal: 255ms\tremaining: 412ms\n",
      "382:\tlearn: 0.0631009\ttotal: 255ms\tremaining: 411ms\n",
      "383:\tlearn: 0.0627548\ttotal: 256ms\tremaining: 410ms\n",
      "384:\tlearn: 0.0623206\ttotal: 256ms\tremaining: 409ms\n",
      "385:\tlearn: 0.0619711\ttotal: 257ms\tremaining: 408ms\n",
      "386:\tlearn: 0.0615749\ttotal: 257ms\tremaining: 407ms\n",
      "387:\tlearn: 0.0612156\ttotal: 258ms\tremaining: 406ms\n",
      "388:\tlearn: 0.0609036\ttotal: 258ms\tremaining: 406ms\n",
      "389:\tlearn: 0.0605698\ttotal: 259ms\tremaining: 405ms\n",
      "390:\tlearn: 0.0601594\ttotal: 259ms\tremaining: 404ms\n",
      "391:\tlearn: 0.0597839\ttotal: 260ms\tremaining: 403ms\n",
      "392:\tlearn: 0.0594397\ttotal: 260ms\tremaining: 402ms\n",
      "393:\tlearn: 0.0590559\ttotal: 261ms\tremaining: 401ms\n",
      "394:\tlearn: 0.0587256\ttotal: 261ms\tremaining: 400ms\n",
      "395:\tlearn: 0.0583615\ttotal: 262ms\tremaining: 399ms\n",
      "396:\tlearn: 0.0580392\ttotal: 262ms\tremaining: 398ms\n",
      "397:\tlearn: 0.0576865\ttotal: 263ms\tremaining: 397ms\n",
      "398:\tlearn: 0.0573617\ttotal: 263ms\tremaining: 397ms\n",
      "399:\tlearn: 0.0570792\ttotal: 264ms\tremaining: 396ms\n",
      "400:\tlearn: 0.0567725\ttotal: 264ms\tremaining: 395ms\n",
      "401:\tlearn: 0.0564187\ttotal: 265ms\tremaining: 394ms\n",
      "402:\tlearn: 0.0560802\ttotal: 265ms\tremaining: 393ms\n",
      "403:\tlearn: 0.0557250\ttotal: 266ms\tremaining: 393ms\n",
      "404:\tlearn: 0.0554575\ttotal: 267ms\tremaining: 392ms\n",
      "405:\tlearn: 0.0550159\ttotal: 267ms\tremaining: 391ms\n",
      "406:\tlearn: 0.0546974\ttotal: 268ms\tremaining: 390ms\n",
      "407:\tlearn: 0.0543549\ttotal: 268ms\tremaining: 389ms\n",
      "408:\tlearn: 0.0540686\ttotal: 269ms\tremaining: 388ms\n",
      "409:\tlearn: 0.0537339\ttotal: 269ms\tremaining: 387ms\n",
      "410:\tlearn: 0.0533964\ttotal: 270ms\tremaining: 386ms\n",
      "411:\tlearn: 0.0530919\ttotal: 270ms\tremaining: 385ms\n",
      "412:\tlearn: 0.0527632\ttotal: 271ms\tremaining: 385ms\n",
      "413:\tlearn: 0.0524403\ttotal: 271ms\tremaining: 384ms\n",
      "414:\tlearn: 0.0522067\ttotal: 272ms\tremaining: 383ms\n",
      "415:\tlearn: 0.0519385\ttotal: 272ms\tremaining: 382ms\n",
      "416:\tlearn: 0.0515665\ttotal: 273ms\tremaining: 381ms\n",
      "417:\tlearn: 0.0513095\ttotal: 273ms\tremaining: 380ms\n",
      "418:\tlearn: 0.0510102\ttotal: 274ms\tremaining: 380ms\n",
      "419:\tlearn: 0.0507886\ttotal: 274ms\tremaining: 379ms\n",
      "420:\tlearn: 0.0505668\ttotal: 275ms\tremaining: 378ms\n",
      "421:\tlearn: 0.0502809\ttotal: 275ms\tremaining: 377ms\n",
      "422:\tlearn: 0.0499970\ttotal: 276ms\tremaining: 376ms\n",
      "423:\tlearn: 0.0496943\ttotal: 276ms\tremaining: 376ms\n",
      "424:\tlearn: 0.0494512\ttotal: 277ms\tremaining: 375ms\n",
      "425:\tlearn: 0.0491769\ttotal: 278ms\tremaining: 374ms\n",
      "426:\tlearn: 0.0489679\ttotal: 278ms\tremaining: 373ms\n",
      "427:\tlearn: 0.0487631\ttotal: 279ms\tremaining: 372ms\n",
      "428:\tlearn: 0.0485554\ttotal: 279ms\tremaining: 372ms\n",
      "429:\tlearn: 0.0482089\ttotal: 280ms\tremaining: 371ms\n",
      "430:\tlearn: 0.0479941\ttotal: 280ms\tremaining: 370ms\n",
      "431:\tlearn: 0.0477925\ttotal: 281ms\tremaining: 369ms\n",
      "432:\tlearn: 0.0474549\ttotal: 281ms\tremaining: 368ms\n",
      "433:\tlearn: 0.0472586\ttotal: 282ms\tremaining: 367ms\n",
      "434:\tlearn: 0.0469272\ttotal: 282ms\tremaining: 366ms\n",
      "435:\tlearn: 0.0466724\ttotal: 283ms\tremaining: 366ms\n",
      "436:\tlearn: 0.0464227\ttotal: 283ms\tremaining: 365ms\n",
      "437:\tlearn: 0.0461013\ttotal: 284ms\tremaining: 364ms\n",
      "438:\tlearn: 0.0459147\ttotal: 284ms\tremaining: 363ms\n",
      "439:\tlearn: 0.0455788\ttotal: 285ms\tremaining: 362ms\n",
      "440:\tlearn: 0.0453236\ttotal: 285ms\tremaining: 362ms\n",
      "441:\tlearn: 0.0449959\ttotal: 286ms\tremaining: 361ms\n",
      "442:\tlearn: 0.0447475\ttotal: 286ms\tremaining: 360ms\n",
      "443:\tlearn: 0.0445036\ttotal: 287ms\tremaining: 359ms\n",
      "444:\tlearn: 0.0441861\ttotal: 287ms\tremaining: 358ms\n",
      "445:\tlearn: 0.0439428\ttotal: 288ms\tremaining: 357ms\n",
      "446:\tlearn: 0.0436327\ttotal: 288ms\tremaining: 357ms\n",
      "447:\tlearn: 0.0433531\ttotal: 289ms\tremaining: 356ms\n",
      "448:\tlearn: 0.0431085\ttotal: 289ms\tremaining: 355ms\n",
      "449:\tlearn: 0.0428644\ttotal: 290ms\tremaining: 354ms\n",
      "450:\tlearn: 0.0426609\ttotal: 290ms\tremaining: 353ms\n",
      "451:\tlearn: 0.0424608\ttotal: 291ms\tremaining: 352ms\n",
      "452:\tlearn: 0.0422264\ttotal: 291ms\tremaining: 352ms\n",
      "453:\tlearn: 0.0419945\ttotal: 292ms\tremaining: 351ms\n",
      "454:\tlearn: 0.0418018\ttotal: 292ms\tremaining: 350ms\n",
      "455:\tlearn: 0.0416038\ttotal: 293ms\tremaining: 349ms\n"
     ]
    },
    {
     "name": "stdout",
     "output_type": "stream",
     "text": [
      "456:\tlearn: 0.0413809\ttotal: 293ms\tremaining: 349ms\n",
      "457:\tlearn: 0.0411263\ttotal: 294ms\tremaining: 348ms\n",
      "458:\tlearn: 0.0409257\ttotal: 294ms\tremaining: 347ms\n",
      "459:\tlearn: 0.0407619\ttotal: 295ms\tremaining: 346ms\n",
      "460:\tlearn: 0.0404998\ttotal: 295ms\tremaining: 345ms\n",
      "461:\tlearn: 0.0402651\ttotal: 296ms\tremaining: 345ms\n",
      "462:\tlearn: 0.0400086\ttotal: 296ms\tremaining: 344ms\n",
      "463:\tlearn: 0.0397668\ttotal: 297ms\tremaining: 343ms\n",
      "464:\tlearn: 0.0395698\ttotal: 297ms\tremaining: 342ms\n",
      "465:\tlearn: 0.0393764\ttotal: 297ms\tremaining: 341ms\n",
      "466:\tlearn: 0.0391054\ttotal: 298ms\tremaining: 340ms\n",
      "467:\tlearn: 0.0388743\ttotal: 298ms\tremaining: 339ms\n",
      "468:\tlearn: 0.0386532\ttotal: 300ms\tremaining: 339ms\n",
      "469:\tlearn: 0.0383888\ttotal: 300ms\tremaining: 339ms\n",
      "470:\tlearn: 0.0382040\ttotal: 301ms\tremaining: 338ms\n",
      "471:\tlearn: 0.0379593\ttotal: 301ms\tremaining: 337ms\n",
      "472:\tlearn: 0.0377204\ttotal: 302ms\tremaining: 336ms\n",
      "473:\tlearn: 0.0374197\ttotal: 302ms\tremaining: 335ms\n",
      "474:\tlearn: 0.0372397\ttotal: 303ms\tremaining: 335ms\n",
      "475:\tlearn: 0.0370271\ttotal: 304ms\tremaining: 335ms\n",
      "476:\tlearn: 0.0368120\ttotal: 304ms\tremaining: 334ms\n",
      "477:\tlearn: 0.0365818\ttotal: 305ms\tremaining: 333ms\n",
      "478:\tlearn: 0.0363818\ttotal: 305ms\tremaining: 332ms\n",
      "479:\tlearn: 0.0361861\ttotal: 306ms\tremaining: 332ms\n",
      "480:\tlearn: 0.0359390\ttotal: 306ms\tremaining: 331ms\n",
      "481:\tlearn: 0.0357706\ttotal: 307ms\tremaining: 330ms\n",
      "482:\tlearn: 0.0355960\ttotal: 307ms\tremaining: 329ms\n",
      "483:\tlearn: 0.0353103\ttotal: 308ms\tremaining: 328ms\n",
      "484:\tlearn: 0.0351516\ttotal: 308ms\tremaining: 327ms\n",
      "485:\tlearn: 0.0349235\ttotal: 309ms\tremaining: 326ms\n",
      "486:\tlearn: 0.0346462\ttotal: 309ms\tremaining: 326ms\n",
      "487:\tlearn: 0.0344484\ttotal: 310ms\tremaining: 325ms\n",
      "488:\tlearn: 0.0342912\ttotal: 310ms\tremaining: 324ms\n",
      "489:\tlearn: 0.0340889\ttotal: 311ms\tremaining: 323ms\n",
      "490:\tlearn: 0.0339385\ttotal: 311ms\tremaining: 323ms\n",
      "491:\tlearn: 0.0337211\ttotal: 312ms\tremaining: 322ms\n",
      "492:\tlearn: 0.0336593\ttotal: 312ms\tremaining: 321ms\n",
      "493:\tlearn: 0.0335982\ttotal: 313ms\tremaining: 320ms\n",
      "494:\tlearn: 0.0333742\ttotal: 313ms\tremaining: 320ms\n",
      "495:\tlearn: 0.0331876\ttotal: 314ms\tremaining: 319ms\n",
      "496:\tlearn: 0.0330354\ttotal: 315ms\tremaining: 318ms\n",
      "497:\tlearn: 0.0328534\ttotal: 315ms\tremaining: 317ms\n",
      "498:\tlearn: 0.0326373\ttotal: 315ms\tremaining: 317ms\n",
      "499:\tlearn: 0.0324504\ttotal: 316ms\tremaining: 316ms\n",
      "500:\tlearn: 0.0323076\ttotal: 316ms\tremaining: 315ms\n",
      "501:\tlearn: 0.0320658\ttotal: 317ms\tremaining: 314ms\n",
      "502:\tlearn: 0.0319263\ttotal: 317ms\tremaining: 313ms\n",
      "503:\tlearn: 0.0317893\ttotal: 318ms\tremaining: 313ms\n",
      "504:\tlearn: 0.0315429\ttotal: 318ms\tremaining: 312ms\n",
      "505:\tlearn: 0.0314092\ttotal: 318ms\tremaining: 311ms\n",
      "506:\tlearn: 0.0311772\ttotal: 319ms\tremaining: 310ms\n",
      "507:\tlearn: 0.0310465\ttotal: 319ms\tremaining: 309ms\n",
      "508:\tlearn: 0.0308094\ttotal: 320ms\tremaining: 308ms\n",
      "509:\tlearn: 0.0306818\ttotal: 320ms\tremaining: 308ms\n",
      "510:\tlearn: 0.0304494\ttotal: 321ms\tremaining: 307ms\n",
      "511:\tlearn: 0.0302855\ttotal: 321ms\tremaining: 306ms\n",
      "512:\tlearn: 0.0300580\ttotal: 322ms\tremaining: 305ms\n",
      "513:\tlearn: 0.0299355\ttotal: 322ms\tremaining: 305ms\n",
      "514:\tlearn: 0.0297127\ttotal: 323ms\tremaining: 304ms\n",
      "515:\tlearn: 0.0295745\ttotal: 323ms\tremaining: 303ms\n",
      "516:\tlearn: 0.0293558\ttotal: 324ms\tremaining: 303ms\n",
      "517:\tlearn: 0.0292403\ttotal: 324ms\tremaining: 302ms\n",
      "518:\tlearn: 0.0290329\ttotal: 325ms\tremaining: 301ms\n",
      "519:\tlearn: 0.0289161\ttotal: 325ms\tremaining: 300ms\n",
      "520:\tlearn: 0.0287053\ttotal: 326ms\tremaining: 299ms\n",
      "521:\tlearn: 0.0285739\ttotal: 326ms\tremaining: 299ms\n",
      "522:\tlearn: 0.0283670\ttotal: 327ms\tremaining: 298ms\n",
      "523:\tlearn: 0.0282543\ttotal: 327ms\tremaining: 297ms\n",
      "524:\tlearn: 0.0280516\ttotal: 328ms\tremaining: 297ms\n",
      "525:\tlearn: 0.0279519\ttotal: 328ms\tremaining: 296ms\n",
      "526:\tlearn: 0.0278456\ttotal: 329ms\tremaining: 295ms\n",
      "527:\tlearn: 0.0276532\ttotal: 330ms\tremaining: 295ms\n",
      "528:\tlearn: 0.0275101\ttotal: 330ms\tremaining: 294ms\n",
      "529:\tlearn: 0.0273155\ttotal: 331ms\tremaining: 293ms\n",
      "530:\tlearn: 0.0272212\ttotal: 331ms\tremaining: 292ms\n",
      "531:\tlearn: 0.0270302\ttotal: 332ms\tremaining: 292ms\n",
      "532:\tlearn: 0.0269381\ttotal: 332ms\tremaining: 291ms\n",
      "533:\tlearn: 0.0268399\ttotal: 333ms\tremaining: 290ms\n",
      "534:\tlearn: 0.0266588\ttotal: 333ms\tremaining: 290ms\n",
      "535:\tlearn: 0.0265557\ttotal: 334ms\tremaining: 289ms\n",
      "536:\tlearn: 0.0263696\ttotal: 334ms\tremaining: 288ms\n",
      "537:\tlearn: 0.0262824\ttotal: 335ms\tremaining: 288ms\n",
      "538:\tlearn: 0.0260999\ttotal: 335ms\tremaining: 287ms\n",
      "539:\tlearn: 0.0260073\ttotal: 336ms\tremaining: 286ms\n",
      "540:\tlearn: 0.0259085\ttotal: 337ms\tremaining: 286ms\n",
      "541:\tlearn: 0.0257299\ttotal: 337ms\tremaining: 285ms\n",
      "542:\tlearn: 0.0256474\ttotal: 337ms\tremaining: 284ms\n",
      "543:\tlearn: 0.0255918\ttotal: 338ms\tremaining: 283ms\n",
      "544:\tlearn: 0.0254213\ttotal: 339ms\tremaining: 283ms\n",
      "545:\tlearn: 0.0253668\ttotal: 339ms\tremaining: 282ms\n",
      "546:\tlearn: 0.0251946\ttotal: 340ms\tremaining: 281ms\n",
      "547:\tlearn: 0.0251412\ttotal: 340ms\tremaining: 281ms\n",
      "548:\tlearn: 0.0249765\ttotal: 341ms\tremaining: 280ms\n",
      "549:\tlearn: 0.0248517\ttotal: 341ms\tremaining: 279ms\n",
      "550:\tlearn: 0.0247299\ttotal: 342ms\tremaining: 278ms\n",
      "551:\tlearn: 0.0246605\ttotal: 342ms\tremaining: 278ms\n",
      "552:\tlearn: 0.0244951\ttotal: 343ms\tremaining: 277ms\n",
      "553:\tlearn: 0.0243677\ttotal: 343ms\tremaining: 276ms\n",
      "554:\tlearn: 0.0242931\ttotal: 344ms\tremaining: 276ms\n",
      "555:\tlearn: 0.0242265\ttotal: 344ms\tremaining: 275ms\n",
      "556:\tlearn: 0.0240648\ttotal: 345ms\tremaining: 274ms\n",
      "557:\tlearn: 0.0239925\ttotal: 345ms\tremaining: 273ms\n",
      "558:\tlearn: 0.0239128\ttotal: 346ms\tremaining: 273ms\n",
      "559:\tlearn: 0.0238112\ttotal: 346ms\tremaining: 272ms\n",
      "560:\tlearn: 0.0236534\ttotal: 347ms\tremaining: 271ms\n",
      "561:\tlearn: 0.0234979\ttotal: 347ms\tremaining: 271ms\n",
      "562:\tlearn: 0.0233861\ttotal: 348ms\tremaining: 270ms\n",
      "563:\tlearn: 0.0233149\ttotal: 348ms\tremaining: 269ms\n",
      "564:\tlearn: 0.0232809\ttotal: 349ms\tremaining: 268ms\n",
      "565:\tlearn: 0.0231752\ttotal: 349ms\tremaining: 268ms\n",
      "566:\tlearn: 0.0230240\ttotal: 350ms\tremaining: 267ms\n",
      "567:\tlearn: 0.0229088\ttotal: 350ms\tremaining: 266ms\n",
      "568:\tlearn: 0.0228015\ttotal: 351ms\tremaining: 266ms\n",
      "569:\tlearn: 0.0227428\ttotal: 351ms\tremaining: 265ms\n",
      "570:\tlearn: 0.0225956\ttotal: 352ms\tremaining: 264ms\n",
      "571:\tlearn: 0.0224957\ttotal: 352ms\tremaining: 264ms\n",
      "572:\tlearn: 0.0224104\ttotal: 353ms\tremaining: 263ms\n",
      "573:\tlearn: 0.0222668\ttotal: 353ms\tremaining: 262ms\n",
      "574:\tlearn: 0.0222046\ttotal: 354ms\tremaining: 262ms\n",
      "575:\tlearn: 0.0220680\ttotal: 354ms\tremaining: 261ms\n",
      "576:\tlearn: 0.0220052\ttotal: 355ms\tremaining: 260ms\n",
      "577:\tlearn: 0.0219746\ttotal: 355ms\tremaining: 259ms\n",
      "578:\tlearn: 0.0218592\ttotal: 356ms\tremaining: 259ms\n",
      "579:\tlearn: 0.0218290\ttotal: 356ms\tremaining: 258ms\n",
      "580:\tlearn: 0.0216961\ttotal: 357ms\tremaining: 257ms\n",
      "581:\tlearn: 0.0215672\ttotal: 357ms\tremaining: 256ms\n",
      "582:\tlearn: 0.0215375\ttotal: 357ms\tremaining: 256ms\n",
      "583:\tlearn: 0.0214079\ttotal: 358ms\tremaining: 255ms\n",
      "584:\tlearn: 0.0212898\ttotal: 358ms\tremaining: 254ms\n",
      "585:\tlearn: 0.0211872\ttotal: 359ms\tremaining: 253ms\n",
      "586:\tlearn: 0.0211582\ttotal: 359ms\tremaining: 253ms\n",
      "587:\tlearn: 0.0210785\ttotal: 360ms\tremaining: 252ms\n",
      "588:\tlearn: 0.0209643\ttotal: 360ms\tremaining: 251ms\n",
      "589:\tlearn: 0.0208872\ttotal: 360ms\tremaining: 251ms\n",
      "590:\tlearn: 0.0208593\ttotal: 361ms\tremaining: 250ms\n",
      "591:\tlearn: 0.0207431\ttotal: 361ms\tremaining: 249ms\n",
      "592:\tlearn: 0.0206688\ttotal: 362ms\tremaining: 248ms\n",
      "593:\tlearn: 0.0206416\ttotal: 363ms\tremaining: 248ms\n",
      "594:\tlearn: 0.0205695\ttotal: 364ms\tremaining: 247ms\n",
      "595:\tlearn: 0.0204626\ttotal: 364ms\tremaining: 247ms\n",
      "596:\tlearn: 0.0204006\ttotal: 364ms\tremaining: 246ms\n",
      "597:\tlearn: 0.0203313\ttotal: 365ms\tremaining: 245ms\n",
      "598:\tlearn: 0.0203050\ttotal: 365ms\tremaining: 245ms\n",
      "599:\tlearn: 0.0202006\ttotal: 366ms\tremaining: 244ms\n",
      "600:\tlearn: 0.0201414\ttotal: 366ms\tremaining: 243ms\n",
      "601:\tlearn: 0.0201158\ttotal: 367ms\tremaining: 242ms\n",
      "602:\tlearn: 0.0200006\ttotal: 367ms\tremaining: 242ms\n",
      "603:\tlearn: 0.0199752\ttotal: 368ms\tremaining: 241ms\n",
      "604:\tlearn: 0.0199502\ttotal: 368ms\tremaining: 240ms\n",
      "605:\tlearn: 0.0198379\ttotal: 368ms\tremaining: 240ms\n",
      "606:\tlearn: 0.0198132\ttotal: 369ms\tremaining: 239ms\n",
      "607:\tlearn: 0.0197888\ttotal: 370ms\tremaining: 238ms\n",
      "608:\tlearn: 0.0196829\ttotal: 370ms\tremaining: 238ms\n",
      "609:\tlearn: 0.0196591\ttotal: 371ms\tremaining: 237ms\n"
     ]
    },
    {
     "name": "stdout",
     "output_type": "stream",
     "text": [
      "610:\tlearn: 0.0196357\ttotal: 372ms\tremaining: 237ms\n",
      "611:\tlearn: 0.0195323\ttotal: 372ms\tremaining: 236ms\n",
      "612:\tlearn: 0.0195092\ttotal: 373ms\tremaining: 235ms\n",
      "613:\tlearn: 0.0194864\ttotal: 373ms\tremaining: 235ms\n",
      "614:\tlearn: 0.0194322\ttotal: 374ms\tremaining: 234ms\n",
      "615:\tlearn: 0.0193255\ttotal: 374ms\tremaining: 233ms\n",
      "616:\tlearn: 0.0193032\ttotal: 375ms\tremaining: 232ms\n",
      "617:\tlearn: 0.0192812\ttotal: 375ms\tremaining: 232ms\n",
      "618:\tlearn: 0.0191771\ttotal: 375ms\tremaining: 231ms\n",
      "619:\tlearn: 0.0191553\ttotal: 376ms\tremaining: 230ms\n",
      "620:\tlearn: 0.0190520\ttotal: 376ms\tremaining: 230ms\n",
      "621:\tlearn: 0.0190304\ttotal: 377ms\tremaining: 229ms\n",
      "622:\tlearn: 0.0189821\ttotal: 377ms\tremaining: 228ms\n",
      "623:\tlearn: 0.0189170\ttotal: 378ms\tremaining: 228ms\n",
      "624:\tlearn: 0.0188091\ttotal: 378ms\tremaining: 227ms\n",
      "625:\tlearn: 0.0187612\ttotal: 379ms\tremaining: 226ms\n",
      "626:\tlearn: 0.0187017\ttotal: 379ms\tremaining: 225ms\n",
      "627:\tlearn: 0.0186438\ttotal: 380ms\tremaining: 225ms\n",
      "628:\tlearn: 0.0185304\ttotal: 380ms\tremaining: 224ms\n",
      "629:\tlearn: 0.0184687\ttotal: 381ms\tremaining: 223ms\n",
      "630:\tlearn: 0.0184298\ttotal: 381ms\tremaining: 223ms\n",
      "631:\tlearn: 0.0183743\ttotal: 381ms\tremaining: 222ms\n",
      "632:\tlearn: 0.0182634\ttotal: 382ms\tremaining: 221ms\n",
      "633:\tlearn: 0.0182180\ttotal: 382ms\tremaining: 221ms\n",
      "634:\tlearn: 0.0181638\ttotal: 383ms\tremaining: 220ms\n",
      "635:\tlearn: 0.0181262\ttotal: 383ms\tremaining: 219ms\n",
      "636:\tlearn: 0.0180823\ttotal: 384ms\tremaining: 219ms\n",
      "637:\tlearn: 0.0179780\ttotal: 385ms\tremaining: 218ms\n",
      "638:\tlearn: 0.0179208\ttotal: 385ms\tremaining: 218ms\n",
      "639:\tlearn: 0.0178864\ttotal: 386ms\tremaining: 217ms\n",
      "640:\tlearn: 0.0177806\ttotal: 386ms\tremaining: 216ms\n",
      "641:\tlearn: 0.0177293\ttotal: 387ms\tremaining: 216ms\n",
      "642:\tlearn: 0.0176874\ttotal: 387ms\tremaining: 215ms\n",
      "643:\tlearn: 0.0176540\ttotal: 388ms\tremaining: 214ms\n",
      "644:\tlearn: 0.0175512\ttotal: 388ms\tremaining: 214ms\n",
      "645:\tlearn: 0.0175103\ttotal: 389ms\tremaining: 213ms\n",
      "646:\tlearn: 0.0174715\ttotal: 389ms\tremaining: 212ms\n",
      "647:\tlearn: 0.0173624\ttotal: 390ms\tremaining: 212ms\n",
      "648:\tlearn: 0.0173248\ttotal: 390ms\tremaining: 211ms\n",
      "649:\tlearn: 0.0172917\ttotal: 391ms\tremaining: 210ms\n",
      "650:\tlearn: 0.0171911\ttotal: 391ms\tremaining: 210ms\n",
      "651:\tlearn: 0.0171376\ttotal: 392ms\tremaining: 209ms\n",
      "652:\tlearn: 0.0171052\ttotal: 392ms\tremaining: 208ms\n",
      "653:\tlearn: 0.0170064\ttotal: 392ms\tremaining: 208ms\n",
      "654:\tlearn: 0.0169546\ttotal: 393ms\tremaining: 207ms\n",
      "655:\tlearn: 0.0168569\ttotal: 393ms\tremaining: 206ms\n",
      "656:\tlearn: 0.0168065\ttotal: 394ms\tremaining: 206ms\n",
      "657:\tlearn: 0.0167717\ttotal: 394ms\tremaining: 205ms\n",
      "658:\tlearn: 0.0167502\ttotal: 395ms\tremaining: 204ms\n",
      "659:\tlearn: 0.0167188\ttotal: 395ms\tremaining: 204ms\n",
      "660:\tlearn: 0.0166044\ttotal: 396ms\tremaining: 203ms\n",
      "661:\tlearn: 0.0165257\ttotal: 396ms\tremaining: 202ms\n",
      "662:\tlearn: 0.0164344\ttotal: 397ms\tremaining: 202ms\n",
      "663:\tlearn: 0.0164008\ttotal: 398ms\tremaining: 201ms\n",
      "664:\tlearn: 0.0163238\ttotal: 398ms\tremaining: 201ms\n",
      "665:\tlearn: 0.0162353\ttotal: 399ms\tremaining: 200ms\n",
      "666:\tlearn: 0.0161599\ttotal: 399ms\tremaining: 199ms\n",
      "667:\tlearn: 0.0160740\ttotal: 399ms\tremaining: 199ms\n",
      "668:\tlearn: 0.0160001\ttotal: 400ms\tremaining: 198ms\n",
      "669:\tlearn: 0.0159168\ttotal: 400ms\tremaining: 197ms\n",
      "670:\tlearn: 0.0158311\ttotal: 401ms\tremaining: 197ms\n",
      "671:\tlearn: 0.0157407\ttotal: 401ms\tremaining: 196ms\n",
      "672:\tlearn: 0.0156601\ttotal: 402ms\tremaining: 195ms\n",
      "673:\tlearn: 0.0155867\ttotal: 402ms\tremaining: 195ms\n",
      "674:\tlearn: 0.0155557\ttotal: 403ms\tremaining: 194ms\n",
      "675:\tlearn: 0.0154753\ttotal: 403ms\tremaining: 193ms\n",
      "676:\tlearn: 0.0154603\ttotal: 404ms\tremaining: 193ms\n",
      "677:\tlearn: 0.0153734\ttotal: 404ms\tremaining: 192ms\n",
      "678:\tlearn: 0.0153435\ttotal: 404ms\tremaining: 191ms\n",
      "679:\tlearn: 0.0152593\ttotal: 405ms\tremaining: 190ms\n",
      "680:\tlearn: 0.0152220\ttotal: 405ms\tremaining: 190ms\n",
      "681:\tlearn: 0.0152078\ttotal: 406ms\tremaining: 189ms\n",
      "682:\tlearn: 0.0151744\ttotal: 406ms\tremaining: 189ms\n",
      "683:\tlearn: 0.0151429\ttotal: 407ms\tremaining: 188ms\n",
      "684:\tlearn: 0.0151152\ttotal: 407ms\tremaining: 187ms\n",
      "685:\tlearn: 0.0150394\ttotal: 408ms\tremaining: 187ms\n",
      "686:\tlearn: 0.0149710\ttotal: 408ms\tremaining: 186ms\n",
      "687:\tlearn: 0.0148752\ttotal: 409ms\tremaining: 185ms\n",
      "688:\tlearn: 0.0148082\ttotal: 409ms\tremaining: 185ms\n",
      "689:\tlearn: 0.0147150\ttotal: 410ms\tremaining: 184ms\n",
      "690:\tlearn: 0.0146396\ttotal: 410ms\tremaining: 183ms\n",
      "691:\tlearn: 0.0145602\ttotal: 411ms\tremaining: 183ms\n",
      "692:\tlearn: 0.0144695\ttotal: 411ms\tremaining: 182ms\n",
      "693:\tlearn: 0.0144419\ttotal: 412ms\tremaining: 182ms\n",
      "694:\tlearn: 0.0143684\ttotal: 412ms\tremaining: 181ms\n",
      "695:\tlearn: 0.0142917\ttotal: 413ms\tremaining: 180ms\n",
      "696:\tlearn: 0.0142173\ttotal: 413ms\tremaining: 180ms\n",
      "697:\tlearn: 0.0142010\ttotal: 414ms\tremaining: 179ms\n",
      "698:\tlearn: 0.0141127\ttotal: 414ms\tremaining: 178ms\n",
      "699:\tlearn: 0.0140967\ttotal: 415ms\tremaining: 178ms\n",
      "700:\tlearn: 0.0140808\ttotal: 416ms\tremaining: 177ms\n",
      "701:\tlearn: 0.0139948\ttotal: 416ms\tremaining: 177ms\n",
      "702:\tlearn: 0.0139323\ttotal: 416ms\tremaining: 176ms\n",
      "703:\tlearn: 0.0138604\ttotal: 417ms\tremaining: 175ms\n",
      "704:\tlearn: 0.0137838\ttotal: 417ms\tremaining: 175ms\n",
      "705:\tlearn: 0.0137682\ttotal: 418ms\tremaining: 174ms\n",
      "706:\tlearn: 0.0136929\ttotal: 418ms\tremaining: 173ms\n",
      "707:\tlearn: 0.0136145\ttotal: 419ms\tremaining: 173ms\n",
      "708:\tlearn: 0.0135378\ttotal: 419ms\tremaining: 172ms\n",
      "709:\tlearn: 0.0135224\ttotal: 420ms\tremaining: 171ms\n",
      "710:\tlearn: 0.0134472\ttotal: 421ms\tremaining: 171ms\n",
      "711:\tlearn: 0.0134320\ttotal: 421ms\tremaining: 170ms\n",
      "712:\tlearn: 0.0134169\ttotal: 422ms\tremaining: 170ms\n",
      "713:\tlearn: 0.0133603\ttotal: 422ms\tremaining: 169ms\n",
      "714:\tlearn: 0.0132871\ttotal: 423ms\tremaining: 168ms\n",
      "715:\tlearn: 0.0132604\ttotal: 423ms\tremaining: 168ms\n",
      "716:\tlearn: 0.0131889\ttotal: 424ms\tremaining: 167ms\n",
      "717:\tlearn: 0.0131629\ttotal: 424ms\tremaining: 167ms\n",
      "718:\tlearn: 0.0131460\ttotal: 425ms\tremaining: 166ms\n",
      "719:\tlearn: 0.0130756\ttotal: 425ms\tremaining: 165ms\n",
      "720:\tlearn: 0.0130064\ttotal: 426ms\tremaining: 165ms\n",
      "721:\tlearn: 0.0129456\ttotal: 426ms\tremaining: 164ms\n",
      "722:\tlearn: 0.0129226\ttotal: 426ms\tremaining: 163ms\n",
      "723:\tlearn: 0.0128550\ttotal: 427ms\tremaining: 163ms\n",
      "724:\tlearn: 0.0127884\ttotal: 428ms\tremaining: 162ms\n",
      "725:\tlearn: 0.0127350\ttotal: 428ms\tremaining: 162ms\n",
      "726:\tlearn: 0.0126672\ttotal: 428ms\tremaining: 161ms\n",
      "727:\tlearn: 0.0125894\ttotal: 429ms\tremaining: 160ms\n",
      "728:\tlearn: 0.0125651\ttotal: 429ms\tremaining: 160ms\n",
      "729:\tlearn: 0.0125418\ttotal: 430ms\tremaining: 159ms\n",
      "730:\tlearn: 0.0124907\ttotal: 430ms\tremaining: 158ms\n",
      "731:\tlearn: 0.0124152\ttotal: 431ms\tremaining: 158ms\n",
      "732:\tlearn: 0.0123915\ttotal: 431ms\tremaining: 157ms\n",
      "733:\tlearn: 0.0123687\ttotal: 432ms\tremaining: 156ms\n",
      "734:\tlearn: 0.0123025\ttotal: 432ms\tremaining: 156ms\n",
      "735:\tlearn: 0.0122791\ttotal: 433ms\tremaining: 155ms\n",
      "736:\tlearn: 0.0122062\ttotal: 433ms\tremaining: 155ms\n",
      "737:\tlearn: 0.0121589\ttotal: 434ms\tremaining: 154ms\n",
      "738:\tlearn: 0.0121456\ttotal: 434ms\tremaining: 153ms\n",
      "739:\tlearn: 0.0120864\ttotal: 434ms\tremaining: 153ms\n",
      "740:\tlearn: 0.0120734\ttotal: 435ms\tremaining: 152ms\n",
      "741:\tlearn: 0.0120088\ttotal: 435ms\tremaining: 151ms\n",
      "742:\tlearn: 0.0119960\ttotal: 436ms\tremaining: 151ms\n",
      "743:\tlearn: 0.0119305\ttotal: 436ms\tremaining: 150ms\n",
      "744:\tlearn: 0.0119178\ttotal: 437ms\tremaining: 149ms\n",
      "745:\tlearn: 0.0118524\ttotal: 437ms\tremaining: 149ms\n",
      "746:\tlearn: 0.0118399\ttotal: 437ms\tremaining: 148ms\n",
      "747:\tlearn: 0.0117764\ttotal: 438ms\tremaining: 148ms\n",
      "748:\tlearn: 0.0117139\ttotal: 439ms\tremaining: 147ms\n",
      "749:\tlearn: 0.0117015\ttotal: 439ms\tremaining: 146ms\n",
      "750:\tlearn: 0.0116390\ttotal: 440ms\tremaining: 146ms\n",
      "751:\tlearn: 0.0116268\ttotal: 440ms\tremaining: 145ms\n",
      "752:\tlearn: 0.0115594\ttotal: 441ms\tremaining: 144ms\n",
      "753:\tlearn: 0.0115473\ttotal: 441ms\tremaining: 144ms\n",
      "754:\tlearn: 0.0114869\ttotal: 442ms\tremaining: 143ms\n",
      "755:\tlearn: 0.0114750\ttotal: 442ms\tremaining: 143ms\n",
      "756:\tlearn: 0.0114213\ttotal: 443ms\tremaining: 142ms\n",
      "757:\tlearn: 0.0114096\ttotal: 443ms\tremaining: 141ms\n",
      "758:\tlearn: 0.0113637\ttotal: 444ms\tremaining: 141ms\n",
      "759:\tlearn: 0.0113079\ttotal: 444ms\tremaining: 140ms\n",
      "760:\tlearn: 0.0112857\ttotal: 445ms\tremaining: 140ms\n",
      "761:\tlearn: 0.0112311\ttotal: 446ms\tremaining: 139ms\n",
      "762:\tlearn: 0.0111716\ttotal: 446ms\tremaining: 139ms\n",
      "763:\tlearn: 0.0111501\ttotal: 447ms\tremaining: 138ms\n",
      "764:\tlearn: 0.0111388\ttotal: 447ms\tremaining: 137ms\n",
      "765:\tlearn: 0.0110954\ttotal: 447ms\tremaining: 137ms\n",
      "766:\tlearn: 0.0110425\ttotal: 448ms\tremaining: 136ms\n",
      "767:\tlearn: 0.0109808\ttotal: 449ms\tremaining: 135ms\n",
      "768:\tlearn: 0.0109601\ttotal: 449ms\tremaining: 135ms\n",
      "769:\tlearn: 0.0109063\ttotal: 449ms\tremaining: 134ms\n",
      "770:\tlearn: 0.0108546\ttotal: 450ms\tremaining: 134ms\n",
      "771:\tlearn: 0.0108345\ttotal: 450ms\tremaining: 133ms\n",
      "772:\tlearn: 0.0107949\ttotal: 451ms\tremaining: 132ms\n",
      "773:\tlearn: 0.0107729\ttotal: 451ms\tremaining: 132ms\n",
      "774:\tlearn: 0.0107225\ttotal: 452ms\tremaining: 131ms\n",
      "775:\tlearn: 0.0107007\ttotal: 452ms\tremaining: 131ms\n",
      "776:\tlearn: 0.0106813\ttotal: 453ms\tremaining: 130ms\n",
      "777:\tlearn: 0.0106321\ttotal: 453ms\tremaining: 129ms\n",
      "778:\tlearn: 0.0105801\ttotal: 454ms\tremaining: 129ms\n",
      "779:\tlearn: 0.0105616\ttotal: 454ms\tremaining: 128ms\n",
      "780:\tlearn: 0.0105415\ttotal: 455ms\tremaining: 128ms\n",
      "781:\tlearn: 0.0104932\ttotal: 455ms\tremaining: 127ms\n",
      "782:\tlearn: 0.0104734\ttotal: 456ms\tremaining: 126ms\n",
      "783:\tlearn: 0.0104259\ttotal: 456ms\tremaining: 126ms\n",
      "784:\tlearn: 0.0103753\ttotal: 457ms\tremaining: 125ms\n",
      "785:\tlearn: 0.0103560\ttotal: 458ms\tremaining: 125ms\n",
      "786:\tlearn: 0.0103176\ttotal: 458ms\tremaining: 124ms\n",
      "787:\tlearn: 0.0102711\ttotal: 459ms\tremaining: 123ms\n",
      "788:\tlearn: 0.0102214\ttotal: 459ms\tremaining: 123ms\n",
      "789:\tlearn: 0.0101749\ttotal: 460ms\tremaining: 122ms\n",
      "790:\tlearn: 0.0101260\ttotal: 460ms\tremaining: 122ms\n",
      "791:\tlearn: 0.0101069\ttotal: 461ms\tremaining: 121ms\n",
      "792:\tlearn: 0.0100648\ttotal: 461ms\tremaining: 120ms\n",
      "793:\tlearn: 0.0100308\ttotal: 462ms\tremaining: 120ms\n",
      "794:\tlearn: 0.0099895\ttotal: 462ms\tremaining: 119ms\n",
      "795:\tlearn: 0.0099711\ttotal: 463ms\tremaining: 119ms\n",
      "796:\tlearn: 0.0099162\ttotal: 463ms\tremaining: 118ms\n",
      "797:\tlearn: 0.0098980\ttotal: 464ms\tremaining: 117ms\n",
      "798:\tlearn: 0.0098651\ttotal: 464ms\tremaining: 117ms\n",
      "799:\tlearn: 0.0098438\ttotal: 465ms\tremaining: 116ms\n",
      "800:\tlearn: 0.0098028\ttotal: 465ms\tremaining: 116ms\n",
      "801:\tlearn: 0.0097898\ttotal: 466ms\tremaining: 115ms\n",
      "802:\tlearn: 0.0097580\ttotal: 466ms\tremaining: 114ms\n",
      "803:\tlearn: 0.0097481\ttotal: 467ms\tremaining: 114ms\n",
      "804:\tlearn: 0.0097384\ttotal: 467ms\tremaining: 113ms\n",
      "805:\tlearn: 0.0096987\ttotal: 468ms\tremaining: 113ms\n",
      "806:\tlearn: 0.0096891\ttotal: 468ms\tremaining: 112ms\n",
      "807:\tlearn: 0.0096514\ttotal: 469ms\tremaining: 111ms\n",
      "808:\tlearn: 0.0096208\ttotal: 469ms\tremaining: 111ms\n",
      "809:\tlearn: 0.0096113\ttotal: 470ms\tremaining: 110ms\n",
      "810:\tlearn: 0.0095684\ttotal: 470ms\tremaining: 110ms\n",
      "811:\tlearn: 0.0095517\ttotal: 471ms\tremaining: 109ms\n",
      "812:\tlearn: 0.0095169\ttotal: 471ms\tremaining: 108ms\n",
      "813:\tlearn: 0.0094801\ttotal: 472ms\tremaining: 108ms\n",
      "814:\tlearn: 0.0094426\ttotal: 472ms\tremaining: 107ms\n",
      "815:\tlearn: 0.0094326\ttotal: 473ms\tremaining: 107ms\n",
      "816:\tlearn: 0.0093964\ttotal: 473ms\tremaining: 106ms\n",
      "817:\tlearn: 0.0093670\ttotal: 474ms\tremaining: 105ms\n",
      "818:\tlearn: 0.0093572\ttotal: 474ms\tremaining: 105ms\n",
      "819:\tlearn: 0.0093476\ttotal: 475ms\tremaining: 104ms\n",
      "820:\tlearn: 0.0092983\ttotal: 475ms\tremaining: 104ms\n",
      "821:\tlearn: 0.0092699\ttotal: 476ms\tremaining: 103ms\n",
      "822:\tlearn: 0.0092601\ttotal: 476ms\tremaining: 102ms\n",
      "823:\tlearn: 0.0092193\ttotal: 477ms\tremaining: 102ms\n"
     ]
    },
    {
     "name": "stdout",
     "output_type": "stream",
     "text": [
      "824:\tlearn: 0.0091748\ttotal: 478ms\tremaining: 101ms\n",
      "825:\tlearn: 0.0091325\ttotal: 478ms\tremaining: 101ms\n",
      "826:\tlearn: 0.0091175\ttotal: 479ms\tremaining: 100ms\n",
      "827:\tlearn: 0.0090873\ttotal: 479ms\tremaining: 99.5ms\n",
      "828:\tlearn: 0.0090786\ttotal: 480ms\tremaining: 98.9ms\n",
      "829:\tlearn: 0.0090393\ttotal: 480ms\tremaining: 98.3ms\n",
      "830:\tlearn: 0.0089930\ttotal: 481ms\tremaining: 97.7ms\n",
      "831:\tlearn: 0.0089665\ttotal: 481ms\tremaining: 97.1ms\n",
      "832:\tlearn: 0.0089576\ttotal: 481ms\tremaining: 96.5ms\n",
      "833:\tlearn: 0.0089287\ttotal: 482ms\tremaining: 95.9ms\n",
      "834:\tlearn: 0.0089199\ttotal: 482ms\tremaining: 95.3ms\n",
      "835:\tlearn: 0.0089109\ttotal: 483ms\tremaining: 94.7ms\n",
      "836:\tlearn: 0.0088730\ttotal: 483ms\tremaining: 94.1ms\n",
      "837:\tlearn: 0.0088311\ttotal: 484ms\tremaining: 93.5ms\n",
      "838:\tlearn: 0.0087925\ttotal: 484ms\tremaining: 92.9ms\n",
      "839:\tlearn: 0.0087557\ttotal: 485ms\tremaining: 92.3ms\n",
      "840:\tlearn: 0.0087127\ttotal: 485ms\tremaining: 91.7ms\n",
      "841:\tlearn: 0.0086768\ttotal: 486ms\tremaining: 91.1ms\n",
      "842:\tlearn: 0.0086610\ttotal: 486ms\tremaining: 90.5ms\n",
      "843:\tlearn: 0.0086455\ttotal: 486ms\tremaining: 89.9ms\n",
      "844:\tlearn: 0.0086106\ttotal: 487ms\tremaining: 89.3ms\n",
      "845:\tlearn: 0.0085954\ttotal: 487ms\tremaining: 88.7ms\n",
      "846:\tlearn: 0.0085845\ttotal: 488ms\tremaining: 88.1ms\n",
      "847:\tlearn: 0.0085696\ttotal: 488ms\tremaining: 87.5ms\n",
      "848:\tlearn: 0.0085358\ttotal: 489ms\tremaining: 86.9ms\n",
      "849:\tlearn: 0.0085141\ttotal: 489ms\tremaining: 86.3ms\n",
      "850:\tlearn: 0.0084997\ttotal: 490ms\tremaining: 85.8ms\n",
      "851:\tlearn: 0.0084578\ttotal: 490ms\tremaining: 85.2ms\n",
      "852:\tlearn: 0.0084170\ttotal: 491ms\tremaining: 84.6ms\n",
      "853:\tlearn: 0.0084091\ttotal: 491ms\tremaining: 84ms\n",
      "854:\tlearn: 0.0084013\ttotal: 492ms\tremaining: 83.4ms\n",
      "855:\tlearn: 0.0083936\ttotal: 492ms\tremaining: 82.8ms\n",
      "856:\tlearn: 0.0083861\ttotal: 493ms\tremaining: 82.2ms\n",
      "857:\tlearn: 0.0083478\ttotal: 493ms\tremaining: 81.7ms\n",
      "858:\tlearn: 0.0083047\ttotal: 494ms\tremaining: 81.1ms\n",
      "859:\tlearn: 0.0082973\ttotal: 494ms\tremaining: 80.5ms\n",
      "860:\tlearn: 0.0082898\ttotal: 495ms\tremaining: 79.9ms\n",
      "861:\tlearn: 0.0082826\ttotal: 495ms\tremaining: 79.3ms\n",
      "862:\tlearn: 0.0082500\ttotal: 496ms\tremaining: 78.7ms\n",
      "863:\tlearn: 0.0082428\ttotal: 496ms\tremaining: 78.1ms\n",
      "864:\tlearn: 0.0082008\ttotal: 497ms\tremaining: 77.6ms\n",
      "865:\tlearn: 0.0081937\ttotal: 498ms\tremaining: 77ms\n",
      "866:\tlearn: 0.0081865\ttotal: 498ms\tremaining: 76.4ms\n",
      "867:\tlearn: 0.0081796\ttotal: 499ms\tremaining: 75.8ms\n",
      "868:\tlearn: 0.0081725\ttotal: 499ms\tremaining: 75.2ms\n",
      "869:\tlearn: 0.0081534\ttotal: 499ms\tremaining: 74.6ms\n",
      "870:\tlearn: 0.0081229\ttotal: 500ms\tremaining: 74ms\n",
      "871:\tlearn: 0.0080907\ttotal: 500ms\tremaining: 73.4ms\n",
      "872:\tlearn: 0.0080840\ttotal: 501ms\tremaining: 72.8ms\n",
      "873:\tlearn: 0.0080773\ttotal: 501ms\tremaining: 72.2ms\n",
      "874:\tlearn: 0.0080590\ttotal: 502ms\tremaining: 71.7ms\n",
      "875:\tlearn: 0.0080285\ttotal: 502ms\tremaining: 71.1ms\n",
      "876:\tlearn: 0.0080219\ttotal: 503ms\tremaining: 70.5ms\n",
      "877:\tlearn: 0.0080155\ttotal: 503ms\tremaining: 69.9ms\n",
      "878:\tlearn: 0.0079849\ttotal: 504ms\tremaining: 69.3ms\n",
      "879:\tlearn: 0.0079795\ttotal: 504ms\tremaining: 68.7ms\n",
      "880:\tlearn: 0.0079741\ttotal: 505ms\tremaining: 68.2ms\n",
      "881:\tlearn: 0.0079389\ttotal: 505ms\tremaining: 67.6ms\n",
      "882:\tlearn: 0.0079326\ttotal: 505ms\tremaining: 67ms\n",
      "883:\tlearn: 0.0078965\ttotal: 506ms\tremaining: 66.4ms\n",
      "884:\tlearn: 0.0078871\ttotal: 506ms\tremaining: 65.8ms\n",
      "885:\tlearn: 0.0078461\ttotal: 507ms\tremaining: 65.2ms\n",
      "886:\tlearn: 0.0078159\ttotal: 507ms\tremaining: 64.6ms\n",
      "887:\tlearn: 0.0078097\ttotal: 508ms\tremaining: 64.1ms\n",
      "888:\tlearn: 0.0077746\ttotal: 508ms\tremaining: 63.5ms\n",
      "889:\tlearn: 0.0077461\ttotal: 509ms\tremaining: 62.9ms\n",
      "890:\tlearn: 0.0077065\ttotal: 510ms\tremaining: 62.3ms\n",
      "891:\tlearn: 0.0076969\ttotal: 510ms\tremaining: 61.7ms\n",
      "892:\tlearn: 0.0076834\ttotal: 510ms\tremaining: 61.2ms\n",
      "893:\tlearn: 0.0076448\ttotal: 511ms\tremaining: 60.6ms\n",
      "894:\tlearn: 0.0076135\ttotal: 512ms\tremaining: 60ms\n",
      "895:\tlearn: 0.0076041\ttotal: 512ms\tremaining: 59.5ms\n",
      "896:\tlearn: 0.0075734\ttotal: 513ms\tremaining: 58.9ms\n",
      "897:\tlearn: 0.0075647\ttotal: 513ms\tremaining: 58.3ms\n",
      "898:\tlearn: 0.0075318\ttotal: 514ms\tremaining: 57.7ms\n",
      "899:\tlearn: 0.0075016\ttotal: 514ms\tremaining: 57.1ms\n",
      "900:\tlearn: 0.0074960\ttotal: 515ms\tremaining: 56.5ms\n",
      "901:\tlearn: 0.0074684\ttotal: 515ms\tremaining: 55.9ms\n",
      "902:\tlearn: 0.0074572\ttotal: 516ms\tremaining: 55.4ms\n",
      "903:\tlearn: 0.0074523\ttotal: 516ms\tremaining: 54.8ms\n",
      "904:\tlearn: 0.0074456\ttotal: 516ms\tremaining: 54.2ms\n",
      "905:\tlearn: 0.0074390\ttotal: 517ms\tremaining: 53.6ms\n",
      "906:\tlearn: 0.0074342\ttotal: 517ms\tremaining: 53.1ms\n",
      "907:\tlearn: 0.0074115\ttotal: 518ms\tremaining: 52.5ms\n",
      "908:\tlearn: 0.0073853\ttotal: 518ms\tremaining: 51.9ms\n",
      "909:\tlearn: 0.0073746\ttotal: 519ms\tremaining: 51.3ms\n",
      "910:\tlearn: 0.0073699\ttotal: 519ms\tremaining: 50.7ms\n",
      "911:\tlearn: 0.0073358\ttotal: 520ms\tremaining: 50.1ms\n",
      "912:\tlearn: 0.0073312\ttotal: 520ms\tremaining: 49.6ms\n",
      "913:\tlearn: 0.0073266\ttotal: 521ms\tremaining: 49ms\n",
      "914:\tlearn: 0.0072905\ttotal: 521ms\tremaining: 48.4ms\n",
      "915:\tlearn: 0.0072684\ttotal: 522ms\tremaining: 47.8ms\n",
      "916:\tlearn: 0.0072469\ttotal: 522ms\tremaining: 47.3ms\n",
      "917:\tlearn: 0.0072107\ttotal: 523ms\tremaining: 46.7ms\n",
      "918:\tlearn: 0.0071784\ttotal: 523ms\tremaining: 46.1ms\n",
      "919:\tlearn: 0.0071575\ttotal: 524ms\tremaining: 45.5ms\n",
      "920:\tlearn: 0.0071118\ttotal: 524ms\tremaining: 45ms\n",
      "921:\tlearn: 0.0070681\ttotal: 525ms\tremaining: 44.4ms\n",
      "922:\tlearn: 0.0070478\ttotal: 525ms\tremaining: 43.8ms\n",
      "923:\tlearn: 0.0070053\ttotal: 526ms\tremaining: 43.3ms\n",
      "924:\tlearn: 0.0069870\ttotal: 526ms\tremaining: 42.7ms\n",
      "925:\tlearn: 0.0069455\ttotal: 527ms\tremaining: 42.1ms\n",
      "926:\tlearn: 0.0069259\ttotal: 527ms\tremaining: 41.5ms\n",
      "927:\tlearn: 0.0068854\ttotal: 528ms\tremaining: 41ms\n",
      "928:\tlearn: 0.0068673\ttotal: 528ms\tremaining: 40.4ms\n",
      "929:\tlearn: 0.0068309\ttotal: 529ms\tremaining: 39.8ms\n",
      "930:\tlearn: 0.0068182\ttotal: 530ms\tremaining: 39.2ms\n",
      "931:\tlearn: 0.0067792\ttotal: 530ms\tremaining: 38.7ms\n",
      "932:\tlearn: 0.0067619\ttotal: 531ms\tremaining: 38.1ms\n",
      "933:\tlearn: 0.0067252\ttotal: 531ms\tremaining: 37.5ms\n",
      "934:\tlearn: 0.0067129\ttotal: 532ms\tremaining: 37ms\n",
      "935:\tlearn: 0.0066961\ttotal: 532ms\tremaining: 36.4ms\n",
      "936:\tlearn: 0.0066548\ttotal: 533ms\tremaining: 35.8ms\n",
      "937:\tlearn: 0.0066145\ttotal: 533ms\tremaining: 35.3ms\n",
      "938:\tlearn: 0.0065826\ttotal: 534ms\tremaining: 34.7ms\n",
      "939:\tlearn: 0.0065530\ttotal: 535ms\tremaining: 34.1ms\n",
      "940:\tlearn: 0.0065242\ttotal: 535ms\tremaining: 33.6ms\n",
      "941:\tlearn: 0.0064963\ttotal: 536ms\tremaining: 33ms\n",
      "942:\tlearn: 0.0064793\ttotal: 536ms\tremaining: 32.4ms\n",
      "943:\tlearn: 0.0064628\ttotal: 537ms\tremaining: 31.9ms\n",
      "944:\tlearn: 0.0064468\ttotal: 538ms\tremaining: 31.3ms\n",
      "945:\tlearn: 0.0064197\ttotal: 538ms\tremaining: 30.7ms\n",
      "946:\tlearn: 0.0064044\ttotal: 538ms\tremaining: 30.1ms\n",
      "947:\tlearn: 0.0063893\ttotal: 539ms\tremaining: 29.6ms\n",
      "948:\tlearn: 0.0063746\ttotal: 540ms\tremaining: 29ms\n",
      "949:\tlearn: 0.0063595\ttotal: 540ms\tremaining: 28.4ms\n",
      "950:\tlearn: 0.0063237\ttotal: 540ms\tremaining: 27.8ms\n",
      "951:\tlearn: 0.0063092\ttotal: 541ms\tremaining: 27.3ms\n",
      "952:\tlearn: 0.0062929\ttotal: 541ms\tremaining: 26.7ms\n",
      "953:\tlearn: 0.0062789\ttotal: 542ms\tremaining: 26.1ms\n",
      "954:\tlearn: 0.0062440\ttotal: 542ms\tremaining: 25.6ms\n",
      "955:\tlearn: 0.0062305\ttotal: 543ms\tremaining: 25ms\n",
      "956:\tlearn: 0.0062182\ttotal: 544ms\tremaining: 24.4ms\n",
      "957:\tlearn: 0.0061841\ttotal: 544ms\tremaining: 23.9ms\n",
      "958:\tlearn: 0.0061584\ttotal: 545ms\tremaining: 23.3ms\n",
      "959:\tlearn: 0.0061328\ttotal: 545ms\tremaining: 22.7ms\n",
      "960:\tlearn: 0.0061061\ttotal: 546ms\tremaining: 22.1ms\n",
      "961:\tlearn: 0.0060812\ttotal: 546ms\tremaining: 21.6ms\n",
      "962:\tlearn: 0.0060482\ttotal: 547ms\tremaining: 21ms\n",
      "963:\tlearn: 0.0060240\ttotal: 547ms\tremaining: 20.4ms\n",
      "964:\tlearn: 0.0059918\ttotal: 548ms\tremaining: 19.9ms\n",
      "965:\tlearn: 0.0059683\ttotal: 548ms\tremaining: 19.3ms\n",
      "966:\tlearn: 0.0059368\ttotal: 549ms\tremaining: 18.7ms\n",
      "967:\tlearn: 0.0059139\ttotal: 549ms\tremaining: 18.2ms\n",
      "968:\tlearn: 0.0058831\ttotal: 550ms\tremaining: 17.6ms\n",
      "969:\tlearn: 0.0058609\ttotal: 550ms\tremaining: 17ms\n",
      "970:\tlearn: 0.0058311\ttotal: 551ms\tremaining: 16.5ms\n",
      "971:\tlearn: 0.0058095\ttotal: 551ms\tremaining: 15.9ms\n",
      "972:\tlearn: 0.0057804\ttotal: 552ms\tremaining: 15.3ms\n",
      "973:\tlearn: 0.0057524\ttotal: 553ms\tremaining: 14.8ms\n",
      "974:\tlearn: 0.0057319\ttotal: 553ms\tremaining: 14.2ms\n",
      "975:\tlearn: 0.0057143\ttotal: 554ms\tremaining: 13.6ms\n",
      "976:\tlearn: 0.0056860\ttotal: 554ms\tremaining: 13ms\n",
      "977:\tlearn: 0.0056564\ttotal: 554ms\tremaining: 12.5ms\n",
      "978:\tlearn: 0.0056420\ttotal: 555ms\tremaining: 11.9ms\n",
      "979:\tlearn: 0.0056251\ttotal: 555ms\tremaining: 11.3ms\n"
     ]
    },
    {
     "name": "stdout",
     "output_type": "stream",
     "text": [
      "980:\tlearn: 0.0055963\ttotal: 556ms\tremaining: 10.8ms\n",
      "981:\tlearn: 0.0055907\ttotal: 556ms\tremaining: 10.2ms\n",
      "982:\tlearn: 0.0055852\ttotal: 557ms\tremaining: 9.63ms\n",
      "983:\tlearn: 0.0055572\ttotal: 557ms\tremaining: 9.06ms\n",
      "984:\tlearn: 0.0055518\ttotal: 558ms\tremaining: 8.49ms\n",
      "985:\tlearn: 0.0055312\ttotal: 558ms\tremaining: 7.93ms\n",
      "986:\tlearn: 0.0055147\ttotal: 559ms\tremaining: 7.36ms\n",
      "987:\tlearn: 0.0054868\ttotal: 559ms\tremaining: 6.79ms\n",
      "988:\tlearn: 0.0054666\ttotal: 560ms\tremaining: 6.22ms\n",
      "989:\tlearn: 0.0054529\ttotal: 560ms\tremaining: 5.66ms\n",
      "990:\tlearn: 0.0054331\ttotal: 561ms\tremaining: 5.1ms\n",
      "991:\tlearn: 0.0054094\ttotal: 562ms\tremaining: 4.53ms\n",
      "992:\tlearn: 0.0053934\ttotal: 562ms\tremaining: 3.96ms\n",
      "993:\tlearn: 0.0053740\ttotal: 563ms\tremaining: 3.4ms\n",
      "994:\tlearn: 0.0053630\ttotal: 563ms\tremaining: 2.83ms\n",
      "995:\tlearn: 0.0053496\ttotal: 564ms\tremaining: 2.26ms\n",
      "996:\tlearn: 0.0053237\ttotal: 564ms\tremaining: 1.7ms\n",
      "997:\tlearn: 0.0053047\ttotal: 565ms\tremaining: 1.13ms\n",
      "998:\tlearn: 0.0052916\ttotal: 565ms\tremaining: 565us\n",
      "999:\tlearn: 0.0052730\ttotal: 566ms\tremaining: 0us\n"
     ]
    },
    {
     "data": {
      "text/plain": [
       "<catboost.core.CatBoostRegressor at 0x7fb379760190>"
      ]
     },
     "execution_count": 9,
     "metadata": {},
     "output_type": "execute_result"
    }
   ],
   "source": [
    "#Train the Model \n",
    "prior_model = ctb.CatBoostRegressor()\n",
    "prior_model.fit(X_train,Y_train)"
   ]
  },
  {
   "cell_type": "code",
   "execution_count": 10,
   "id": "af65dcda",
   "metadata": {
    "execution": {
     "iopub.execute_input": "2022-03-08T20:44:29.428048Z",
     "iopub.status.busy": "2022-03-08T20:44:29.427690Z",
     "iopub.status.idle": "2022-03-08T20:44:29.435302Z",
     "shell.execute_reply": "2022-03-08T20:44:29.435525Z"
    },
    "id": "af65dcda",
    "papermill": {
     "duration": 0.019983,
     "end_time": "2022-03-08T20:44:29.435639",
     "exception": false,
     "start_time": "2022-03-08T20:44:29.415656",
     "status": "completed"
    },
    "tags": []
   },
   "outputs": [
    {
     "data": {
      "application/scrapbook.scrap.json+json": {
       "data": 0.21934083127388232,
       "encoder": "json",
       "name": "Prior Model MSE",
       "version": 1
      }
     },
     "metadata": {
      "scrapbook": {
       "data": true,
       "display": false,
       "name": "Prior Model MSE"
      }
     },
     "output_type": "display_data"
    },
    {
     "data": {
      "application/scrapbook.scrap.json+json": {
       "data": 0.26144344454699836,
       "encoder": "json",
       "name": "ABC Pre-generator MSE",
       "version": 1
      }
     },
     "metadata": {
      "scrapbook": {
       "data": true,
       "display": false,
       "name": "ABC Pre-generator MSE"
      }
     },
     "output_type": "display_data"
    },
    {
     "data": {
      "application/scrapbook.scrap.json+json": {
       "data": 0.38956229934809555,
       "encoder": "json",
       "name": "Prior Model MSE",
       "version": 1
      }
     },
     "metadata": {
      "scrapbook": {
       "data": true,
       "display": false,
       "name": "Prior Model MSE"
      }
     },
     "output_type": "display_data"
    },
    {
     "data": {
      "application/scrapbook.scrap.json+json": {
       "data": 0.40877346703674966,
       "encoder": "json",
       "name": "ABC Pre-generator MSE",
       "version": 1
      }
     },
     "metadata": {
      "scrapbook": {
       "data": true,
       "display": false,
       "name": "ABC Pre-generator MSE"
      }
     },
     "output_type": "display_data"
    }
   ],
   "source": [
    "y_pred = prior_model.predict(X_test)\n",
    "y_abc = y_pred + np.random.normal(0,variance, y_pred.shape) + bias \n",
    "mse = mean_squared_error(y_pred,Y_test)\n",
    "sb.glue(\"Prior Model MSE\",mse)\n",
    "mse = mean_squared_error(y_abc,Y_test)\n",
    "sb.glue(\"ABC Pre-generator MSE\",mse)\n",
    "mae = mean_absolute_error(y_pred,Y_test)\n",
    "sb.glue(\"Prior Model MSE\",mae)\n",
    "mae = mean_absolute_error(y_abc,Y_test)\n",
    "sb.glue(\"ABC Pre-generator MSE\",mae)"
   ]
  },
  {
   "cell_type": "markdown",
   "id": "25609da2",
   "metadata": {
    "papermill": {
     "duration": 0.009313,
     "end_time": "2022-03-08T20:44:29.454531",
     "exception": false,
     "start_time": "2022-03-08T20:44:29.445218",
     "status": "completed"
    },
    "tags": []
   },
   "source": [
    "# ABC GAN Model"
   ]
  },
  {
   "cell_type": "code",
   "execution_count": 11,
   "id": "dfc3464d",
   "metadata": {
    "execution": {
     "iopub.execute_input": "2022-03-08T20:44:29.476001Z",
     "iopub.status.busy": "2022-03-08T20:44:29.475644Z",
     "iopub.status.idle": "2022-03-08T20:44:29.478402Z",
     "shell.execute_reply": "2022-03-08T20:44:29.478637Z"
    },
    "papermill": {
     "duration": 0.014888,
     "end_time": "2022-03-08T20:44:29.478744",
     "exception": false,
     "start_time": "2022-03-08T20:44:29.463856",
     "status": "completed"
    },
    "tags": []
   },
   "outputs": [],
   "source": [
    "gen = network.Generator(n_features+1).to(device)\n",
    "disc = network.Discriminator(n_features+1).to(device)\n",
    "\n",
    "criterion = torch.nn.BCELoss()\n",
    "gen_opt = torch.optim.Adam(gen.parameters(), lr=0.001, betas=(0.5, 0.999))\n",
    "disc_opt = torch.optim.Adam(disc.parameters(), lr=0.001, betas=(0.5, 0.999))"
   ]
  },
  {
   "cell_type": "code",
   "execution_count": 12,
   "id": "b75fdd85",
   "metadata": {
    "execution": {
     "iopub.execute_input": "2022-03-08T20:44:29.499961Z",
     "iopub.status.busy": "2022-03-08T20:44:29.499613Z",
     "iopub.status.idle": "2022-03-08T20:44:43.097499Z",
     "shell.execute_reply": "2022-03-08T20:44:43.097877Z"
    },
    "papermill": {
     "duration": 13.609656,
     "end_time": "2022-03-08T20:44:43.098002",
     "exception": false,
     "start_time": "2022-03-08T20:44:29.488346",
     "status": "completed"
    },
    "tags": []
   },
   "outputs": [
    {
     "data": {
      "image/png": "[encoded data removed]",
      "text/plain": [
       "<Figure size 432x288 with 1 Axes>"
      ]
     },
     "metadata": {
      "needs_background": "light"
     },
     "output_type": "display_data"
    },
    {
     "data": {
      "image/png": "[encoded data removed]",
      "text/plain": [
       "<Figure size 432x288 with 1 Axes>"
      ]
     },
     "metadata": {
      "needs_background": "light"
     },
     "output_type": "display_data"
    }
   ],
   "source": [
    "#Training the ABC_GAN \n",
    "ABC_train_test2.training_GAN(disc,gen,disc_opt,gen_opt,train_data,batch_size,n_epochs,criterion,prior_model,variance,bias,device)"
   ]
  },
  {
   "cell_type": "code",
   "execution_count": 13,
   "id": "1fa7c368",
   "metadata": {
    "execution": {
     "iopub.execute_input": "2022-03-08T20:44:43.122254Z",
     "iopub.status.busy": "2022-03-08T20:44:43.121854Z",
     "iopub.status.idle": "2022-03-08T20:44:43.289678Z",
     "shell.execute_reply": "2022-03-08T20:44:43.289956Z"
    },
    "papermill": {
     "duration": 0.180967,
     "end_time": "2022-03-08T20:44:43.290075",
     "exception": false,
     "start_time": "2022-03-08T20:44:43.109108",
     "status": "completed"
    },
    "tags": []
   },
   "outputs": [
    {
     "data": {
      "application/scrapbook.scrap.json+json": {
       "data": 0.18959359650203883,
       "encoder": "json",
       "name": "ABC-GAN Model 1 MSE",
       "version": 1
      }
     },
     "metadata": {
      "scrapbook": {
       "data": true,
       "display": false,
       "name": "ABC-GAN Model 1 MSE"
      }
     },
     "output_type": "display_data"
    },
    {
     "data": {
      "application/scrapbook.scrap.json+json": {
       "data": 0.3455474738702178,
       "encoder": "json",
       "name": "ABC-GAN Model 1 MAE",
       "version": 1
      }
     },
     "metadata": {
      "scrapbook": {
       "data": true,
       "display": false,
       "name": "ABC-GAN Model 1 MAE"
      }
     },
     "output_type": "display_data"
    },
    {
     "data": {
      "application/scrapbook.scrap.json+json": {
       "data": 6.910949477404356,
       "encoder": "json",
       "name": "ABC-GAN Model 1 Manhattan Distance",
       "version": 1
      }
     },
     "metadata": {
      "scrapbook": {
       "data": true,
       "display": false,
       "name": "ABC-GAN Model 1 Manhattan Distance"
      }
     },
     "output_type": "display_data"
    },
    {
     "data": {
      "application/scrapbook.scrap.json+json": {
       "data": 1.947250694675844,
       "encoder": "json",
       "name": "ABC-GAN Model 1 Euclidean distance",
       "version": 1
      }
     },
     "metadata": {
      "scrapbook": {
       "data": true,
       "display": false,
       "name": "ABC-GAN Model 1 Euclidean distance"
      }
     },
     "output_type": "display_data"
    },
    {
     "data": {
      "application/scrapbook.scrap.json+json": {
       "data": [
        [
         0.18952478661012656,
         0.1921351134744242,
         0.186523353633853,
         0.18701154210445606,
         0.18873409916894518,
         0.18696446533056713,
         0.18688111336820704,
         0.19404953130733885,
         0.1904613492888739,
         0.18777720522279293,
         0.18852759319567963,
         0.18891080466372503,
         0.18897906041839646,
         0.1890698731684775,
         0.1908627633053917,
         0.18743570066796406,
         0.18620685734666037,
         0.19244760423222237,
         0.18884618737041764,
         0.19239951093971527,
         0.19126666135691398,
         0.18938599194929057,
         0.19067070685422888,
         0.18658963618182828,
         0.18975991214289317,
         0.1902494420822612,
         0.19063691437171398,
         0.19063409093201344,
         0.18994126197596056,
         0.1899254986542845,
         0.19123356255828874,
         0.19368224001817472,
         0.1913214584315249,
         0.18818629265683345,
         0.18908140788509648,
         0.18933159635260705,
         0.18899850432897616,
         0.1884608120115955,
         0.18995133195753294,
         0.18817062425621442,
         0.19121441281224155,
         0.18911946807970442,
         0.1894830100267876,
         0.19075380394113509,
         0.18950181392522442,
         0.19102775560587876,
         0.189860413413134,
         0.19382165766006718,
         0.1911602779949409,
         0.18777790789602422,
         0.1913021262522802,
         0.1923191263662021,
         0.19181400645227104,
         0.1906122655191147,
         0.18520711953593166,
         0.18855011864598797,
         0.18970768032100813,
         0.19184156665020127,
         0.19123198381785458,
         0.18848340538359679,
         0.1910464224062082,
         0.1852673194350876,
         0.18899155082726998,
         0.1878468721404138,
         0.18765605206008149,
         0.1878716596266047,
         0.1894207996674159,
         0.1905003525493105,
         0.18993298581061455,
         0.18744055354840522,
         0.19065670975597002,
         0.18891527122911303,
         0.1881110320203066,
         0.1895460026904509,
         0.18921422781183544,
         0.18653827931209846,
         0.1876588315237236,
         0.1873855393933883,
         0.18758134653203715,
         0.19158002914703545,
         0.18861826777930452,
         0.19390747692310822,
         0.19152735216919353,
         0.18845723395336073,
         0.1882737932902478,
         0.1893976447751334,
         0.18890262450113057,
         0.191048757822495,
         0.1890491140036321,
         0.1895723038450511,
         0.1900366502341651,
         0.19169757113673708,
         0.1902064400716584,
         0.1882319057154295,
         0.19203284894054984,
         0.18974346744603063,
         0.18948959118336717,
         0.19072562043008096,
         0.1889598772887752,
         0.1903028891310056
        ],
        [
         0.3430823668837547,
         0.3509335719048977,
         0.3435107909142971,
         0.3432022202759981,
         0.34556013382971285,
         0.3434306088835001,
         0.34358939826488494,
         0.3497575022280216,
         0.34760532081127166,
         0.3424927979707718,
         0.343410437181592,
         0.34329150915145873,
         0.3438402257859707,
         0.34747724533081054,
         0.34781216867268083,
         0.3459277428686619,
         0.3414341416209936,
         0.34921486116945744,
         0.3454583682119846,
         0.3461212530732155,
         0.3468528583645821,
         0.3456588115543127,
         0.3463561858981848,
         0.3433104407042265,
         0.34467120170593263,
         0.34465129151940344,
         0.34577090889215467,
         0.3475220825523138,
         0.34700738936662673,
         0.3453793592751026,
         0.3474577829241753,
         0.3488374389708042,
         0.3457906931638718,
         0.3451988834887743,
         0.34717022962868216,
         0.3421571210026741,
         0.34637750051915644,
         0.3434836693108082,
         0.3476512897759676,
         0.34601918049156666,
         0.3474069245159626,
         0.34621249362826345,
         0.3444103360176086,
         0.34680313542485236,
         0.3463766619563103,
         0.34724677056074144,
         0.3470704175531864,
         0.34892648197710513,
         0.3440051481127739,
         0.34499165676534177,
         0.34646037556231024,
         0.3491630610078573,
         0.3486111920326948,
         0.3456341363489628,
         0.3422801084816456,
         0.3429699208587408,
         0.34474935606122015,
         0.34802390933036803,
         0.34657933488488196,
         0.3437920928001404,
         0.34906348399817944,
         0.3419739533215761,
         0.3441066529601812,
         0.34392108358442786,
         0.3436843499541283,
         0.3429630033671856,
         0.34532723650336267,
         0.34607953317463397,
         0.3458254750818014,
         0.34391937516629695,
         0.3428408332169056,
         0.3466087203472853,
         0.3418130584061146,
         0.3446457840502262,
         0.3452329345047474,
         0.34122366569936274,
         0.3452580697834492,
         0.3435300387442112,
         0.3445518843829632,
         0.3462242119014263,
         0.3424597766250372,
         0.35078752115368844,
         0.34677243009209635,
         0.3457724191248417,
         0.3451195124536753,
         0.34374738335609434,
         0.34388409592211244,
         0.34736330173909663,
         0.34591637179255486,
         0.3453527525067329,
         0.34551851600408556,
         0.347400177270174,
         0.34457047693431375,
         0.344939286634326,
         0.34856669157743453,
         0.34583722054958344,
         0.345273794978857,
         0.3459458936005831,
         0.3471420116722584,
         0.34739390686154364
        ],
        [
         6.861647337675095,
         7.018671438097954,
         6.870215818285942,
         6.864044405519962,
         6.911202676594257,
         6.868612177670002,
         6.871787965297699,
         6.995150044560432,
         6.952106416225433,
         6.849855959415436,
         6.86820874363184,
         6.865830183029175,
         6.876804515719414,
         6.949544906616211,
         6.956243373453617,
         6.918554857373238,
         6.828682832419872,
         6.984297223389149,
         6.909167364239693,
         6.92242506146431,
         6.937057167291641,
         6.913176231086254,
         6.9271237179636955,
         6.86620881408453,
         6.893424034118652,
         6.893025830388069,
         6.915418177843094,
         6.950441651046276,
         6.940147787332535,
         6.907587185502052,
         6.949155658483505,
         6.976748779416084,
         6.915813863277435,
         6.903977669775486,
         6.943404592573643,
         6.843142420053482,
         6.927550010383129,
         6.869673386216164,
         6.953025795519352,
         6.920383609831333,
         6.948138490319252,
         6.9242498725652695,
         6.888206720352173,
         6.936062708497047,
         6.9275332391262054,
         6.9449354112148285,
         6.941408351063728,
         6.978529639542103,
         6.880102962255478,
         6.899833135306835,
         6.929207511246204,
         6.9832612201571465,
         6.972223840653896,
         6.912682726979256,
         6.845602169632912,
         6.859398417174816,
         6.894987121224403,
         6.960478186607361,
         6.9315866976976395,
         6.875841856002808,
         6.981269679963589,
         6.839479066431522,
         6.882133059203625,
         6.878421671688557,
         6.873686999082565,
         6.859260067343712,
         6.906544730067253,
         6.92159066349268,
         6.916509501636028,
         6.878387503325939,
         6.856816664338112,
         6.932174406945705,
         6.836261168122292,
         6.892915681004524,
         6.904658690094948,
         6.824473313987255,
         6.9051613956689835,
         6.870600774884224,
         6.891037687659264,
         6.924484238028526,
         6.849195532500744,
         7.015750423073769,
         6.935448601841927,
         6.915448382496834,
         6.902390249073505,
         6.874947667121887,
         6.877681918442249,
         6.947266034781933,
         6.918327435851097,
         6.907055050134659,
         6.910370320081711,
         6.9480035454034805,
         6.8914095386862755,
         6.89878573268652,
         6.971333831548691,
         6.916744410991669,
         6.905475899577141,
         6.9189178720116615,
         6.9428402334451675,
         6.947878137230873
        ],
        [
         1.9469195494941571,
         1.9602811710284023,
         1.931441708330091,
         1.933967642461766,
         1.9428540818545545,
         1.9337242064501707,
         1.933293114704581,
         1.970023001425815,
         1.9517241059579804,
         1.9379226260240265,
         1.9417908908823298,
         1.9437633840759787,
         1.9441145049528152,
         1.944581565111001,
         1.9537797383809246,
         1.9361596043093352,
         1.929802359552192,
         1.961874635302788,
         1.9434309216970778,
         1.9616294805070364,
         1.9558459108882478,
         1.9462065252654486,
         1.9527964914666807,
         1.9317848543863692,
         1.9481268549193258,
         1.9506380601344842,
         1.952623437182469,
         1.952608977404403,
         1.9490575259645908,
         1.9489766476501689,
         1.9556766734728352,
         1.9681577173497795,
         1.9561260615385958,
         1.94003243610427,
         1.944640881423079,
         1.9459270096928458,
         1.9442145166054912,
         1.9414469449953842,
         1.9491091911821306,
         1.9399516708217988,
         1.9555787522482522,
         1.944836589946335,
         1.9467049598066348,
         1.95322197377121,
         1.9468015508788996,
         1.954624033444175,
         1.9486426733146023,
         1.968865956128386,
         1.9553019101660023,
         1.937926251930265,
         1.956027230139091,
         1.9612196530027028,
         1.9586424199034955,
         1.952497198559397,
         1.9246148681537907,
         1.9419068908986754,
         1.9478587234243048,
         1.9587831255664894,
         1.9556686008516606,
         1.9415633153909597,
         1.9547195318316548,
         1.9249276320687363,
         1.944178751181434,
         1.9382820854582226,
         1.937297354873957,
         1.9384099650311577,
         1.9463853660948847,
         1.9519239357583098,
         1.9490150631055396,
         1.9361846686119855,
         1.95272481295225,
         1.9437863628964631,
         1.9396444623709088,
         1.9470285190024872,
         1.945323766429822,
         1.9315189841785065,
         1.9373117019402095,
         1.935900510839275,
         1.9369116992368915,
         1.9574474662020203,
         1.9422577984361629,
         1.9693017895848681,
         1.9571783371435192,
         1.941428515054627,
         1.9404834103400515,
         1.9462663989039806,
         1.9437212994723836,
         1.954731479372525,
         1.9444748082895398,
         1.947163597877955,
         1.949546871630252,
         1.9580478601747051,
         1.9504175966785082,
         1.9402675367867674,
         1.9597594186049971,
         1.948042440225729,
         1.9467387661592768,
         1.9530776760286876,
         1.9440158296103207,
         1.9509120386680974
        ]
       ],
       "encoder": "json",
       "name": "ABC_GAN_1 Metrics",
       "version": 1
      }
     },
     "metadata": {
      "scrapbook": {
       "data": true,
       "display": false,
       "name": "ABC_GAN_1 Metrics"
      }
     },
     "output_type": "display_data"
    },
    {
     "name": "stdout",
     "output_type": "stream",
     "text": [
      "MSE\n",
      "0.18959359650203883\n"
     ]
    }
   ],
   "source": [
    "ABC_GAN1_metrics=ABC_train_test2.test_generator(gen,test_data,prior_model,variance,bias,\"1\",device)\n",
    "sb.glue(\"ABC_GAN_1 Metrics\",ABC_GAN1_metrics)\n",
    "\n",
    "print(\"MSE\")\n",
    "print(mean(ABC_GAN1_metrics[0]))"
   ]
  },
  {
   "cell_type": "code",
   "execution_count": 14,
   "id": "eb22ce5c",
   "metadata": {
    "execution": {
     "iopub.execute_input": "2022-03-08T20:44:43.316267Z",
     "iopub.status.busy": "2022-03-08T20:44:43.315907Z",
     "iopub.status.idle": "2022-03-08T20:44:43.610020Z",
     "shell.execute_reply": "2022-03-08T20:44:43.610310Z"
    },
    "papermill": {
     "duration": 0.308255,
     "end_time": "2022-03-08T20:44:43.610432",
     "exception": false,
     "start_time": "2022-03-08T20:44:43.302177",
     "status": "completed"
    },
    "tags": []
   },
   "outputs": [
    {
     "data": {
      "image/png": "[encoded data removed]",
      "text/plain": [
       "<Figure size 432x288 with 1 Axes>"
      ]
     },
     "metadata": {
      "needs_background": "light"
     },
     "output_type": "display_data"
    },
    {
     "data": {
      "image/png": "[encoded data removed]",
      "text/plain": [
       "<Figure size 432x288 with 1 Axes>"
      ]
     },
     "metadata": {
      "needs_background": "light"
     },
     "output_type": "display_data"
    },
    {
     "data": {
      "image/png": "[encoded data removed]",
      "text/plain": [
       "<Figure size 432x288 with 1 Axes>"
      ]
     },
     "metadata": {
      "needs_background": "light"
     },
     "output_type": "display_data"
    },
    {
     "data": {
      "image/png": "[encoded data removed]",
      "text/plain": [
       "<Figure size 432x288 with 1 Axes>"
      ]
     },
     "metadata": {
      "needs_background": "light"
     },
     "output_type": "display_data"
    }
   ],
   "source": [
    "sanityChecks.discProbVsError(train_data,disc,device)\n",
    "sanityChecks.discProbVsError(test_data,disc,device)"
   ]
  },
  {
   "cell_type": "markdown",
   "id": "130f3a4d",
   "metadata": {
    "id": "130f3a4d",
    "papermill": {
     "duration": 0.035435,
     "end_time": "2022-03-08T20:44:43.660140",
     "exception": false,
     "start_time": "2022-03-08T20:44:43.624705",
     "status": "completed"
    },
    "tags": []
   },
   "source": [
    "# ABC - GAN Model with skip connection"
   ]
  },
  {
   "cell_type": "code",
   "execution_count": 15,
   "id": "4e43dad1",
   "metadata": {
    "execution": {
     "iopub.execute_input": "2022-03-08T20:44:43.692616Z",
     "iopub.status.busy": "2022-03-08T20:44:43.692232Z",
     "iopub.status.idle": "2022-03-08T20:44:43.693679Z",
     "shell.execute_reply": "2022-03-08T20:44:43.693934Z"
    },
    "id": "4e43dad1",
    "papermill": {
     "duration": 0.019686,
     "end_time": "2022-03-08T20:44:43.694047",
     "exception": false,
     "start_time": "2022-03-08T20:44:43.674361",
     "status": "completed"
    },
    "tags": []
   },
   "outputs": [],
   "source": [
    "#Generator\n",
    "gen3 = network.GeneratorWithSkipConnection(n_features+1).to(device)\n",
    "constraints=network.weightConstraint()\n",
    "#Discriminator \n",
    "disc3 = network.Discriminator(n_features+1).to(device)\n",
    "\n",
    "criterion = torch.nn.BCELoss()\n",
    "gen_opt = torch.optim.Adam(gen3.parameters(), lr=0.001, betas=(0.5, 0.999))\n",
    "disc_opt = torch.optim.Adam(disc3.parameters(), lr=0.001, betas=(0.5, 0.999))\n"
   ]
  },
  {
   "cell_type": "code",
   "execution_count": 16,
   "id": "26acbc37",
   "metadata": {
    "execution": {
     "iopub.execute_input": "2022-03-08T20:44:43.724592Z",
     "iopub.status.busy": "2022-03-08T20:44:43.724233Z",
     "iopub.status.idle": "2022-03-08T20:45:20.609544Z",
     "shell.execute_reply": "2022-03-08T20:45:20.609848Z"
    },
    "id": "26acbc37",
    "papermill": {
     "duration": 36.901742,
     "end_time": "2022-03-08T20:45:20.609972",
     "exception": false,
     "start_time": "2022-03-08T20:44:43.708230",
     "status": "completed"
    },
    "tags": []
   },
   "outputs": [
    {
     "data": {
      "image/png": "[encoded data removed]",
      "text/plain": [
       "<Figure size 432x288 with 1 Axes>"
      ]
     },
     "metadata": {
      "needs_background": "light"
     },
     "output_type": "display_data"
    },
    {
     "data": {
      "image/png": "[encoded data removed]",
      "text/plain": [
       "<Figure size 432x288 with 1 Axes>"
      ]
     },
     "metadata": {
      "needs_background": "light"
     },
     "output_type": "display_data"
    }
   ],
   "source": [
    "ABC_train_test2.training_GAN_skip_connection(disc3,gen3,disc_opt,gen_opt,train_data,batch_size,n_epochs,criterion,prior_model,variance,bias,device)"
   ]
  },
  {
   "cell_type": "code",
   "execution_count": 17,
   "id": "c5e0717b",
   "metadata": {
    "execution": {
     "iopub.execute_input": "2022-03-08T20:45:20.643046Z",
     "iopub.status.busy": "2022-03-08T20:45:20.642549Z",
     "iopub.status.idle": "2022-03-08T20:45:20.922877Z",
     "shell.execute_reply": "2022-03-08T20:45:20.923175Z"
    },
    "id": "c5e0717b",
    "papermill": {
     "duration": 0.298081,
     "end_time": "2022-03-08T20:45:20.923299",
     "exception": false,
     "start_time": "2022-03-08T20:45:20.625218",
     "status": "completed"
    },
    "tags": []
   },
   "outputs": [
    {
     "data": {
      "application/scrapbook.scrap.json+json": {
       "data": 0.21557511690670159,
       "encoder": "json",
       "name": "ABC-GAN Model 3 MSE",
       "version": 1
      }
     },
     "metadata": {
      "scrapbook": {
       "data": true,
       "display": false,
       "name": "ABC-GAN Model 3 MSE"
      }
     },
     "output_type": "display_data"
    },
    {
     "data": {
      "application/scrapbook.scrap.json+json": {
       "data": 0.38855334753356874,
       "encoder": "json",
       "name": "ABC-GAN Model 3 MAE",
       "version": 1
      }
     },
     "metadata": {
      "scrapbook": {
       "data": true,
       "display": false,
       "name": "ABC-GAN Model 3 MAE"
      }
     },
     "output_type": "display_data"
    },
    {
     "data": {
      "application/scrapbook.scrap.json+json": {
       "data": 7.771066950671375,
       "encoder": "json",
       "name": "ABC-GAN Model 3 Manhattan Distance",
       "version": 1
      }
     },
     "metadata": {
      "scrapbook": {
       "data": true,
       "display": false,
       "name": "ABC-GAN Model 3 Manhattan Distance"
      }
     },
     "output_type": "display_data"
    },
    {
     "data": {
      "application/scrapbook.scrap.json+json": {
       "data": 2.0763941552800835,
       "encoder": "json",
       "name": "ABC-GAN Model 3 Euclidean distance",
       "version": 1
      }
     },
     "metadata": {
      "scrapbook": {
       "data": true,
       "display": false,
       "name": "ABC-GAN Model 3 Euclidean distance"
      }
     },
     "output_type": "display_data"
    },
    {
     "data": {
      "application/scrapbook.scrap.json+json": {
       "data": [
        [
         0.21242787871012886,
         0.2150111771569554,
         0.2164341405422799,
         0.21734661989354379,
         0.2191307627000952,
         0.21544143177636638,
         0.21470839653347343,
         0.2127229289860657,
         0.21872995665638723,
         0.21773061225370566,
         0.21600818148197004,
         0.21500153435667774,
         0.21361049750267744,
         0.21327870176147132,
         0.21316554591325812,
         0.21318991230364018,
         0.21501402359567168,
         0.21799505038132017,
         0.21421477592519417,
         0.21486416390676003,
         0.2166062985232528,
         0.21753871677530232,
         0.21471384176582128,
         0.2195871359980325,
         0.2151648793238913,
         0.2154520390883544,
         0.21732032323445352,
         0.2146073968442889,
         0.2133010807475697,
         0.21699813216129363,
         0.21888677387140057,
         0.21293435455061963,
         0.21677612017772652,
         0.21613476163281523,
         0.21513150429094702,
         0.21306041575294649,
         0.2113985233497441,
         0.2162121745306862,
         0.21588723477921956,
         0.2153894999911295,
         0.21558395847721154,
         0.2182719232616265,
         0.21293870087334305,
         0.2153922155008031,
         0.2151182676052655,
         0.21410581597570358,
         0.2153578800833679,
         0.2177755991290496,
         0.21584513849687462,
         0.21482903992344413,
         0.21757582912136883,
         0.21490800618403133,
         0.21359209550592775,
         0.21848602431088535,
         0.21684865660055536,
         0.2161403934858237,
         0.21223530718189965,
         0.21944595184665458,
         0.21498561219165632,
         0.21760304869263028,
         0.21299640996198455,
         0.2194730826926587,
         0.21654098033478766,
         0.21833967649962133,
         0.21594593839986645,
         0.21811112168973207,
         0.21638104773171635,
         0.21561781817343398,
         0.21626569606208407,
         0.21599086153208685,
         0.21476818018613933,
         0.21148960834949956,
         0.21493810171473066,
         0.21305709806390336,
         0.21431060392282358,
         0.21549199020957416,
         0.21891666310549757,
         0.21321628519320637,
         0.21418923460206574,
         0.21516912329170762,
         0.21291753180328965,
         0.2145879668407269,
         0.2150812526301617,
         0.21293474036031323,
         0.21204548884144137,
         0.21692499905948512,
         0.2160295623915688,
         0.21550021034229103,
         0.2155277065060099,
         0.21700648788106544,
         0.21843652090544574,
         0.21217850953800124,
         0.21611549373387184,
         0.21659886932493314,
         0.21600882003659977,
         0.21694694114421229,
         0.21916938744774828,
         0.2132636381478617,
         0.21601667111313322,
         0.21684440672961794
        ],
        [
         0.3869986776262522,
         0.3866804677993059,
         0.38909979574382303,
         0.3901948772370815,
         0.39049491956830024,
         0.38742352835834026,
         0.38829337656497953,
         0.3867273394018412,
         0.3915780704468489,
         0.3892016500234604,
         0.389505036175251,
         0.38882723413407805,
         0.3869289059191942,
         0.38639900237321856,
         0.3860415104776621,
         0.3866467721760273,
         0.3897312518209219,
         0.38999569676816465,
         0.3871555522084236,
         0.3886796999722719,
         0.38905935995280744,
         0.3901236165314913,
         0.3856468044221401,
         0.3927327811717987,
         0.3875337138772011,
         0.3908448163419962,
         0.3893119335174561,
         0.38715097978711127,
         0.38539168126881124,
         0.39152141809463503,
         0.3904629934579134,
         0.38644697293639185,
         0.38881530314683915,
         0.3886589117348194,
         0.39093112349510195,
         0.3879026658833027,
         0.3826874725520611,
         0.3915782567113638,
         0.3907001964747906,
         0.388190384209156,
         0.38701701648533343,
         0.3897230807691813,
         0.38666476905345915,
         0.38783851340413095,
         0.38798196502029897,
         0.3864096436649561,
         0.38893422335386274,
         0.39231105539947747,
         0.3870249569416046,
         0.3874841120094061,
         0.3893969848752022,
         0.3886108938604593,
         0.38686176426708696,
         0.3919481497257948,
         0.3897679042071104,
         0.38961081467568875,
         0.3836943231523037,
         0.3907892994582653,
         0.38818908855319023,
         0.3903471060097218,
         0.3867929168045521,
         0.39155520834028723,
         0.3914710316807032,
         0.3902363158762455,
         0.38931801579892633,
         0.3905110977590084,
         0.39044518694281577,
         0.38774373605847356,
         0.3911540754139423,
         0.38897790797054765,
         0.3870477691292763,
         0.38359556458890437,
         0.3878308594226837,
         0.3881317667663097,
         0.38843128755688666,
         0.38789360634982584,
         0.3924291480332613,
         0.38826025314629076,
         0.3854679878801107,
         0.3876725498586893,
         0.38673987425863743,
         0.3879495307803154,
         0.3872268322855234,
         0.3862703088670969,
         0.3844773631542921,
         0.3899883162230253,
         0.38709079250693323,
         0.3888823013752699,
         0.38714696019887923,
         0.3898926831781864,
         0.3902584336698055,
         0.38633611537516116,
         0.3890424557030201,
         0.38917607963085177,
         0.38860007040202615,
         0.3899967331439257,
         0.39346435815095904,
         0.385991295799613,
         0.38839403837919234,
         0.39054350964725015
        ],
        [
         7.7399735525250435,
         7.733609355986118,
         7.781995914876461,
         7.8038975447416306,
         7.809898391366005,
         7.748470567166805,
         7.765867531299591,
         7.734546788036823,
         7.831561408936977,
         7.784033000469208,
         7.79010072350502,
         7.7765446826815605,
         7.738578118383884,
         7.727980047464371,
         7.720830209553242,
         7.732935443520546,
         7.794625036418438,
         7.799913935363293,
         7.743111044168472,
         7.773593999445438,
         7.7811871990561485,
         7.802472330629826,
         7.712936088442802,
         7.854655623435974,
         7.750674277544022,
         7.816896326839924,
         7.786238670349121,
         7.743019595742226,
         7.7078336253762245,
         7.8304283618927,
         7.809259869158268,
         7.728939458727837,
         7.776306062936783,
         7.773178234696388,
         7.818622469902039,
         7.758053317666054,
         7.653749451041222,
         7.831565134227276,
         7.8140039294958115,
         7.763807684183121,
         7.740340329706669,
         7.794461615383625,
         7.733295381069183,
         7.756770268082619,
         7.759639300405979,
         7.728192873299122,
         7.778684467077255,
         7.84622110798955,
         7.740499138832092,
         7.749682240188122,
         7.787939697504044,
         7.7722178772091866,
         7.73723528534174,
         7.838962994515896,
         7.795358084142208,
         7.792216293513775,
         7.673886463046074,
         7.815785989165306,
         7.763781771063805,
         7.806942120194435,
         7.735858336091042,
         7.831104166805744,
         7.829420633614063,
         7.80472631752491,
         7.786360315978527,
         7.810221955180168,
         7.808903738856316,
         7.754874721169472,
         7.823081508278847,
         7.7795581594109535,
         7.7409553825855255,
         7.671911291778088,
         7.756617188453674,
         7.762635335326195,
         7.7686257511377335,
         7.757872126996517,
         7.848582960665226,
         7.765205062925816,
         7.709359757602215,
         7.753450997173786,
         7.734797485172749,
         7.758990615606308,
         7.744536645710468,
         7.725406177341938,
         7.689547263085842,
         7.799766324460506,
         7.741815850138664,
         7.777646027505398,
         7.742939203977585,
         7.797853663563728,
         7.8051686733961105,
         7.726722307503223,
         7.780849114060402,
         7.783521592617035,
         7.7720014080405235,
         7.799934662878513,
         7.86928716301918,
         7.71982591599226,
         7.767880767583847,
         7.8108701929450035
        ],
        [
         2.06120294347805,
         2.0736980356693953,
         2.080548680239325,
         2.0849298304429515,
         2.0934696687561307,
         2.07577181682557,
         2.0722374214045716,
         2.0626338937681874,
         2.091554238629193,
         2.086770769652027,
         2.0785003318833994,
         2.0736515346445157,
         2.066932497701255,
         2.065326617082496,
         2.064778660841196,
         2.0648966671658906,
         2.073711762013572,
         2.0880375972731917,
         2.0698539848269206,
         2.072988972024502,
         2.081375980082661,
         2.085850985930214,
         2.0722636983058953,
         2.095648520138969,
         2.0744391016556323,
         2.075822916765081,
         2.084803699317773,
         2.0717499696840296,
         2.065434969915876,
         2.0832576996679677,
         2.09230386832984,
         2.0636586663041907,
         2.0821917307381974,
         2.0791092401930937,
         2.074278208394173,
         2.0642694385808578,
         2.05620292456627,
         2.07948154370596,
         2.0779183563327,
         2.075521621140717,
         2.0764583235750798,
         2.08936317217293,
         2.0636797274448524,
         2.075534704604108,
         2.074214393958665,
         2.0693275041699106,
         2.075369268748903,
         2.0869863398165767,
         2.077715757734318,
         2.072819528677999,
         2.086028902586773,
         2.073200454292982,
         2.0668434653157832,
         2.0903876401800954,
         2.082540067324302,
         2.0791363278333805,
         2.060268463972109,
         2.094974710332583,
         2.0735747499989303,
         2.0861593836168426,
         2.063959350190718,
         2.0951042107382567,
         2.081062134270804,
         2.089687423992504,
         2.0782008488106554,
         2.088593410358905,
         2.0802934780060065,
         2.0766213818288297,
         2.0797389069884904,
         2.078417001143355,
         2.0725258994094107,
         2.056645853565944,
         2.073345613807455,
         2.0642533665415366,
         2.07031690290556,
         2.076015367041266,
         2.092446716671646,
         2.065024383358252,
         2.069730584409796,
         2.0744595599418547,
         2.063577145654069,
         2.0716561820955084,
         2.074035933296054,
         2.0636605358455316,
         2.059346929691262,
         2.082906618451654,
         2.0786031963391607,
         2.076054962385587,
         2.076187402456772,
         2.083297808192892,
         2.0901508122881745,
         2.0599927647348726,
         2.0790165643105003,
         2.08134028608939,
         2.078503404070341,
         2.083011959371392,
         2.0936541617361177,
         2.065253680049314,
         2.078541176465519,
         2.082519660073431
        ]
       ],
       "encoder": "json",
       "name": "ABC_GAN_3 Metrics",
       "version": 1
      }
     },
     "metadata": {
      "scrapbook": {
       "data": true,
       "display": false,
       "name": "ABC_GAN_3 Metrics"
      }
     },
     "output_type": "display_data"
    },
    {
     "name": "stdout",
     "output_type": "stream",
     "text": [
      "MSE\n",
      "0.21557511690670159\n"
     ]
    }
   ],
   "source": [
    "ABC_GAN3_metrics=ABC_train_test2.test_generator(gen3,test_data,prior_model,variance,bias,\"3\",device)\n",
    "sb.glue(\"ABC_GAN_3 Metrics\",ABC_GAN3_metrics)\n",
    "\n",
    "print(\"MSE\")\n",
    "print(mean(ABC_GAN3_metrics[0]))"
   ]
  },
  {
   "cell_type": "code",
   "execution_count": 18,
   "id": "c8e46b48",
   "metadata": {
    "execution": {
     "iopub.execute_input": "2022-03-08T20:45:20.959031Z",
     "iopub.status.busy": "2022-03-08T20:45:20.958664Z",
     "iopub.status.idle": "2022-03-08T20:45:21.245122Z",
     "shell.execute_reply": "2022-03-08T20:45:21.245405Z"
    },
    "id": "c8e46b48",
    "papermill": {
     "duration": 0.305478,
     "end_time": "2022-03-08T20:45:21.245525",
     "exception": false,
     "start_time": "2022-03-08T20:45:20.940047",
     "status": "completed"
    },
    "tags": []
   },
   "outputs": [
    {
     "data": {
      "image/png": "[encoded data removed]",
      "text/plain": [
       "<Figure size 432x288 with 1 Axes>"
      ]
     },
     "metadata": {
      "needs_background": "light"
     },
     "output_type": "display_data"
    },
    {
     "data": {
      "image/png": "[encoded data removed]",
      "text/plain": [
       "<Figure size 432x288 with 1 Axes>"
      ]
     },
     "metadata": {
      "needs_background": "light"
     },
     "output_type": "display_data"
    },
    {
     "data": {
      "image/png": "[encoded data removed]",
      "text/plain": [
       "<Figure size 432x288 with 1 Axes>"
      ]
     },
     "metadata": {
      "needs_background": "light"
     },
     "output_type": "display_data"
    },
    {
     "data": {
      "image/png": "[encoded data removed]",
      "text/plain": [
       "<Figure size 432x288 with 1 Axes>"
      ]
     },
     "metadata": {
      "needs_background": "light"
     },
     "output_type": "display_data"
    }
   ],
   "source": [
    "sanityChecks.discProbVsError(train_data,disc3,device)\n",
    "sanityChecks.discProbVsError(test_data,disc3,device)"
   ]
  },
  {
   "cell_type": "markdown",
   "id": "a5bd74c3",
   "metadata": {
    "id": "a5bd74c3",
    "papermill": {
     "duration": 0.018836,
     "end_time": "2022-03-08T20:45:21.283543",
     "exception": false,
     "start_time": "2022-03-08T20:45:21.264707",
     "status": "completed"
    },
    "tags": []
   },
   "source": [
    "## Skip Connection Model Analysis - ABC-GAN "
   ]
  },
  {
   "cell_type": "markdown",
   "id": "5744a8bf",
   "metadata": {
    "id": "5744a8bf",
    "papermill": {
     "duration": 0.018581,
     "end_time": "2022-03-08T20:45:21.320863",
     "exception": false,
     "start_time": "2022-03-08T20:45:21.302282",
     "status": "completed"
    },
    "tags": []
   },
   "source": [
    "### Weight Analysis \n",
    "\n",
    "Study the weights of the skip connection layer\n",
    "\n",
    "Equation of the skip connection is \n",
    "\n",
    "$output = y_{gan} * w + y_{abc} * (1-w)$"
   ]
  },
  {
   "cell_type": "code",
   "execution_count": 19,
   "id": "52c31dea",
   "metadata": {
    "execution": {
     "iopub.execute_input": "2022-03-08T20:45:21.360846Z",
     "iopub.status.busy": "2022-03-08T20:45:21.360475Z",
     "iopub.status.idle": "2022-03-08T20:45:21.364001Z",
     "shell.execute_reply": "2022-03-08T20:45:21.364246Z"
    },
    "id": "52c31dea",
    "papermill": {
     "duration": 0.024894,
     "end_time": "2022-03-08T20:45:21.364358",
     "exception": false,
     "start_time": "2022-03-08T20:45:21.339464",
     "status": "completed"
    },
    "tags": []
   },
   "outputs": [
    {
     "name": "stdout",
     "output_type": "stream",
     "text": [
      "Weight of the node at skip connection\n",
      "Parameter containing:\n",
      "tensor([[0.0380]], requires_grad=True)\n"
     ]
    },
    {
     "data": {
      "application/scrapbook.scrap.json+json": {
       "data": 0.038046613335609436,
       "encoder": "json",
       "name": "Skip Connection Weight",
       "version": 1
      }
     },
     "metadata": {
      "scrapbook": {
       "data": true,
       "display": false,
       "name": "Skip Connection Weight"
      }
     },
     "output_type": "display_data"
    }
   ],
   "source": [
    "print(\"Weight of the node at skip connection\")\n",
    "for name,param in gen3.named_parameters():\n",
    "    if(name == \"skipNode.weight\"):\n",
    "        print(param)\n",
    "        sb.glue(\"Skip Connection Weight\",param.item())"
   ]
  }
 ],
 "metadata": {
  "colab": {
   "collapsed_sections": [],
   "name": "ABC_GAN_Model-Catboost_Pre-gen.ipynb",
   "provenance": []
  },
  "interpreter": {
   "hash": "31f2aee4e71d21fbe5cf8b01ff0e069b9275f58929596ceb00d14d90e3e16cd6"
  },
  "kernelspec": {
   "display_name": "Python 3 (ipykernel)",
   "language": "python",
   "name": "python3"
  },
  "language_info": {
   "codemirror_mode": {
    "name": "ipython",
    "version": 3
   },
   "file_extension": ".py",
   "mimetype": "text/x-python",
   "name": "python",
   "nbconvert_exporter": "python",
   "pygments_lexer": "ipython3",
   "version": "3.8.11"
  },
  "papermill": {
   "default_parameters": {},
   "duration": 55.598664,
   "end_time": "2022-03-08T20:45:21.694269",
   "environment_variables": {},
   "exception": null,
   "input_path": "ABC_GAN-Catboost.ipynb",
   "output_path": "./ABC_GAN_Catboost/ABC-GAN_output_8_5.ipynb",
   "parameters": {
    "bias": 0.1,
    "variance": 0.01
   },
   "start_time": "2022-03-08T20:44:26.095605",
   "version": "2.3.3"
  }
 },
 "nbformat": 4,
 "nbformat_minor": 5
}