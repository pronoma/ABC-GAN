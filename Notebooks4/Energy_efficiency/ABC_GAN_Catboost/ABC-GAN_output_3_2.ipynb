{
 "cells": [
  {
   "cell_type": "markdown",
   "id": "441119a2",
   "metadata": {
    "tags": [
     "papermill-error-cell-tag"
    ]
   },
   "source": [
    "<span style=\"color:red; font-family:Helvetica Neue, Helvetica, Arial, sans-serif; font-size:2em;\">An Exception was encountered at '<a href=\"#papermill-error-cell\">In [20]</a>'.</span>"
   ]
  },
  {
   "cell_type": "markdown",
   "id": "622780e6",
   "metadata": {
    "id": "622780e6",
    "papermill": {
     "duration": 0.008999,
     "end_time": "2022-07-24T12:52:53.079226",
     "exception": false,
     "start_time": "2022-07-24T12:52:53.070227",
     "status": "completed"
    },
    "tags": []
   },
   "source": [
    "## Import Libraries "
   ]
  },
  {
   "cell_type": "code",
   "execution_count": 1,
   "id": "a62397e3",
   "metadata": {
    "execution": {
     "iopub.execute_input": "2022-07-24T12:52:53.097038Z",
     "iopub.status.busy": "2022-07-24T12:52:53.096535Z",
     "iopub.status.idle": "2022-07-24T12:52:53.108515Z",
     "shell.execute_reply": "2022-07-24T12:52:53.107694Z"
    },
    "id": "a62397e3",
    "papermill": {
     "duration": 0.023965,
     "end_time": "2022-07-24T12:52:53.111060",
     "exception": false,
     "start_time": "2022-07-24T12:52:53.087095",
     "status": "completed"
    },
    "tags": []
   },
   "outputs": [],
   "source": [
    "import warnings\n",
    "import sys\n",
    "sys.path.insert(0, '../../src')\n",
    "warnings.filterwarnings('ignore')"
   ]
  },
  {
   "cell_type": "code",
   "execution_count": 2,
   "id": "d6a4e155",
   "metadata": {
    "execution": {
     "iopub.execute_input": "2022-07-24T12:52:53.126434Z",
     "iopub.status.busy": "2022-07-24T12:52:53.125930Z",
     "iopub.status.idle": "2022-07-24T12:53:00.956543Z",
     "shell.execute_reply": "2022-07-24T12:53:00.953092Z"
    },
    "id": "d6a4e155",
    "papermill": {
     "duration": 7.844498,
     "end_time": "2022-07-24T12:53:00.962254",
     "exception": false,
     "start_time": "2022-07-24T12:52:53.117756",
     "status": "completed"
    },
    "tags": []
   },
   "outputs": [],
   "source": [
    "import ABC_train_test2\n",
    "import energyefficiencyDataset\n",
    "import network\n",
    "import dataset\n",
    "import sanityChecks\n",
    "import torch \n",
    "import scrapbook as sb\n",
    "from statistics import mean \n",
    "import catboost as ctb \n",
    "from sklearn.model_selection import train_test_split\n",
    "from sklearn.metrics import mean_squared_error,mean_absolute_error\n",
    "import numpy as np"
   ]
  },
  {
   "cell_type": "markdown",
   "id": "2fa5b0f7",
   "metadata": {
    "id": "2fa5b0f7",
    "papermill": {
     "duration": 0.016433,
     "end_time": "2022-07-24T12:53:00.996360",
     "exception": false,
     "start_time": "2022-07-24T12:53:00.979927",
     "status": "completed"
    },
    "tags": []
   },
   "source": [
    "## Parameters "
   ]
  },
  {
   "cell_type": "code",
   "execution_count": 3,
   "id": "783186fb",
   "metadata": {
    "execution": {
     "iopub.execute_input": "2022-07-24T12:53:01.036184Z",
     "iopub.status.busy": "2022-07-24T12:53:01.035317Z",
     "iopub.status.idle": "2022-07-24T12:53:01.042525Z",
     "shell.execute_reply": "2022-07-24T12:53:01.041038Z"
    },
    "id": "783186fb",
    "papermill": {
     "duration": 0.03276,
     "end_time": "2022-07-24T12:53:01.046651",
     "exception": false,
     "start_time": "2022-07-24T12:53:01.013891",
     "status": "completed"
    },
    "tags": [
     "parameters"
    ]
   },
   "outputs": [],
   "source": [
    "variance = 1\n",
    "bias = 1 "
   ]
  },
  {
   "cell_type": "code",
   "execution_count": 4,
   "id": "8b1387bb",
   "metadata": {
    "execution": {
     "iopub.execute_input": "2022-07-24T12:53:01.173201Z",
     "iopub.status.busy": "2022-07-24T12:53:01.169935Z",
     "iopub.status.idle": "2022-07-24T12:53:01.179845Z",
     "shell.execute_reply": "2022-07-24T12:53:01.177883Z"
    },
    "papermill": {
     "duration": 0.128532,
     "end_time": "2022-07-24T12:53:01.184418",
     "exception": false,
     "start_time": "2022-07-24T12:53:01.055886",
     "status": "completed"
    },
    "tags": [
     "injected-parameters"
    ]
   },
   "outputs": [],
   "source": [
    "# Parameters\n",
    "variance = 0.01\n",
    "bias = 1\n"
   ]
  },
  {
   "cell_type": "markdown",
   "id": "391cdbfd",
   "metadata": {
    "id": "391cdbfd",
    "papermill": {
     "duration": 0.010095,
     "end_time": "2022-07-24T12:53:01.208565",
     "exception": false,
     "start_time": "2022-07-24T12:53:01.198470",
     "status": "completed"
    },
    "tags": []
   },
   "source": [
    "## Dataset \n"
   ]
  },
  {
   "cell_type": "code",
   "execution_count": 5,
   "id": "5b51f161",
   "metadata": {
    "execution": {
     "iopub.execute_input": "2022-07-24T12:53:01.239456Z",
     "iopub.status.busy": "2022-07-24T12:53:01.238412Z",
     "iopub.status.idle": "2022-07-24T12:53:01.246922Z",
     "shell.execute_reply": "2022-07-24T12:53:01.245639Z"
    },
    "id": "5b51f161",
    "papermill": {
     "duration": 0.028238,
     "end_time": "2022-07-24T12:53:01.250222",
     "exception": false,
     "start_time": "2022-07-24T12:53:01.221984",
     "status": "completed"
    },
    "tags": []
   },
   "outputs": [],
   "source": [
    "#Parameters \n",
    "n_features = 8\n",
    "n_samples= 768\n",
    "n_target = 1 "
   ]
  },
  {
   "cell_type": "code",
   "execution_count": 6,
   "id": "5d6eced4",
   "metadata": {
    "execution": {
     "iopub.execute_input": "2022-07-24T12:53:01.272710Z",
     "iopub.status.busy": "2022-07-24T12:53:01.272346Z",
     "iopub.status.idle": "2022-07-24T12:53:02.547423Z",
     "shell.execute_reply": "2022-07-24T12:53:02.546401Z"
    },
    "id": "5d6eced4",
    "papermill": {
     "duration": 1.292726,
     "end_time": "2022-07-24T12:53:02.550279",
     "exception": false,
     "start_time": "2022-07-24T12:53:01.257553",
     "status": "completed"
    },
    "tags": []
   },
   "outputs": [
    {
     "name": "stdout",
     "output_type": "stream",
     "text": [
      "     X1     X2     X3      X4   X5  X6   X7  X8     Y1     Y2\n",
      "0  0.98  514.5  294.0  110.25  7.0   2  0.0   0  15.55  21.33\n",
      "1  0.98  514.5  294.0  110.25  7.0   3  0.0   0  15.55  21.33\n",
      "2  0.98  514.5  294.0  110.25  7.0   4  0.0   0  15.55  21.33\n",
      "3  0.98  514.5  294.0  110.25  7.0   5  0.0   0  15.55  21.33\n",
      "4  0.90  563.5  318.5  122.50  7.0   2  0.0   0  20.84  28.28\n"
     ]
    }
   ],
   "source": [
    "X,Y = energyefficiencyDataset.energy_data()"
   ]
  },
  {
   "cell_type": "code",
   "execution_count": 7,
   "id": "fe007438",
   "metadata": {
    "execution": {
     "iopub.execute_input": "2022-07-24T12:53:02.567923Z",
     "iopub.status.busy": "2022-07-24T12:53:02.567354Z",
     "iopub.status.idle": "2022-07-24T12:53:02.586505Z",
     "shell.execute_reply": "2022-07-24T12:53:02.585143Z"
    },
    "id": "fe007438",
    "papermill": {
     "duration": 0.031527,
     "end_time": "2022-07-24T12:53:02.589560",
     "exception": false,
     "start_time": "2022-07-24T12:53:02.558033",
     "status": "completed"
    },
    "tags": []
   },
   "outputs": [],
   "source": [
    "#Train test split for dataset \n",
    "X_train,X_test,Y_train,Y_test = train_test_split(X,Y,test_size = 0.2)\n",
    "train_data = dataset.CustomDataset(X_train,Y_train)\n",
    "test_data = dataset.CustomDataset(X_test,Y_test)\n"
   ]
  },
  {
   "cell_type": "markdown",
   "id": "a9a1af34",
   "metadata": {
    "id": "a9a1af34",
    "papermill": {
     "duration": 0.01097,
     "end_time": "2022-07-24T12:53:02.611614",
     "exception": false,
     "start_time": "2022-07-24T12:53:02.600644",
     "status": "completed"
    },
    "tags": []
   },
   "source": [
    "## Training Parameters "
   ]
  },
  {
   "cell_type": "code",
   "execution_count": 8,
   "id": "952b7fc8",
   "metadata": {
    "execution": {
     "iopub.execute_input": "2022-07-24T12:53:02.630192Z",
     "iopub.status.busy": "2022-07-24T12:53:02.629860Z",
     "iopub.status.idle": "2022-07-24T12:53:02.637069Z",
     "shell.execute_reply": "2022-07-24T12:53:02.635059Z"
    },
    "id": "952b7fc8",
    "papermill": {
     "duration": 0.019812,
     "end_time": "2022-07-24T12:53:02.639692",
     "exception": false,
     "start_time": "2022-07-24T12:53:02.619880",
     "status": "completed"
    },
    "tags": []
   },
   "outputs": [],
   "source": [
    "batch_size = 32\n",
    "n_epochs = 1000\n",
    "#Select the device \n",
    "device = torch.device('cuda' if torch.cuda.is_available() else 'cpu')"
   ]
  },
  {
   "cell_type": "markdown",
   "id": "a95e1600",
   "metadata": {
    "id": "a95e1600",
    "papermill": {
     "duration": 0.007375,
     "end_time": "2022-07-24T12:53:02.654320",
     "exception": false,
     "start_time": "2022-07-24T12:53:02.646945",
     "status": "completed"
    },
    "tags": []
   },
   "source": [
    "# ABC Pre-generator Model \n",
    "\n",
    "1. The catboost model is used as a pre-generator model for the ABC-GAN. \n",
    "2. The model is first trained on the entire dataset \n",
    "3. It generats X,Y pairs and we add some Gaussian noise with mean 0 and variance 1 to it which is then feed as input to the generator.\n"
   ]
  },
  {
   "cell_type": "code",
   "execution_count": 9,
   "id": "ff8ce7bd",
   "metadata": {
    "execution": {
     "iopub.execute_input": "2022-07-24T12:53:02.672590Z",
     "iopub.status.busy": "2022-07-24T12:53:02.671922Z",
     "iopub.status.idle": "2022-07-24T12:53:03.741688Z",
     "shell.execute_reply": "2022-07-24T12:53:03.740983Z"
    },
    "id": "ff8ce7bd",
    "papermill": {
     "duration": 1.083019,
     "end_time": "2022-07-24T12:53:03.744550",
     "exception": false,
     "start_time": "2022-07-24T12:53:02.661531",
     "status": "completed"
    },
    "tags": []
   },
   "outputs": [
    {
     "name": "stdout",
     "output_type": "stream",
     "text": [
      "Learning rate set to 0.037906\n"
     ]
    },
    {
     "name": "stdout",
     "output_type": "stream",
     "text": [
      "0:\tlearn: 0.9728943\ttotal: 53.3ms\tremaining: 53.2s\n",
      "1:\tlearn: 0.9404530\ttotal: 53.7ms\tremaining: 26.8s\n",
      "2:\tlearn: 0.9128564\ttotal: 54.2ms\tremaining: 18s\n",
      "3:\tlearn: 0.8819495\ttotal: 54.6ms\tremaining: 13.6s\n",
      "4:\tlearn: 0.8568606\ttotal: 54.9ms\tremaining: 10.9s\n",
      "5:\tlearn: 0.8287659\ttotal: 55.4ms\tremaining: 9.17s\n",
      "6:\tlearn: 0.8060234\ttotal: 55.7ms\tremaining: 7.9s\n",
      "7:\tlearn: 0.7828133\ttotal: 56.2ms\tremaining: 6.97s\n",
      "8:\tlearn: 0.7571518\ttotal: 56.6ms\tremaining: 6.23s\n",
      "9:\tlearn: 0.7329480\ttotal: 56.9ms\tremaining: 5.64s\n",
      "10:\tlearn: 0.7101293\ttotal: 57.4ms\tremaining: 5.16s\n",
      "11:\tlearn: 0.6871606\ttotal: 57.8ms\tremaining: 4.76s\n",
      "12:\tlearn: 0.6684137\ttotal: 58.3ms\tremaining: 4.43s\n",
      "13:\tlearn: 0.6495209\ttotal: 59ms\tremaining: 4.15s\n",
      "14:\tlearn: 0.6291343\ttotal: 59.3ms\tremaining: 3.89s\n",
      "15:\tlearn: 0.6107066\ttotal: 59.8ms\tremaining: 3.68s\n",
      "16:\tlearn: 0.5915734\ttotal: 60.3ms\tremaining: 3.48s\n",
      "17:\tlearn: 0.5744611\ttotal: 65.8ms\tremaining: 3.59s\n",
      "18:\tlearn: 0.5577823\ttotal: 66.1ms\tremaining: 3.41s\n",
      "19:\tlearn: 0.5422352\ttotal: 66.4ms\tremaining: 3.25s\n",
      "20:\tlearn: 0.5271582\ttotal: 66.7ms\tremaining: 3.11s\n",
      "21:\tlearn: 0.5104751\ttotal: 67.3ms\tremaining: 2.99s\n",
      "22:\tlearn: 0.4937318\ttotal: 67.6ms\tremaining: 2.87s\n",
      "23:\tlearn: 0.4782763\ttotal: 68.4ms\tremaining: 2.78s\n",
      "24:\tlearn: 0.4653399\ttotal: 68.8ms\tremaining: 2.68s\n",
      "25:\tlearn: 0.4505282\ttotal: 69.5ms\tremaining: 2.6s\n",
      "26:\tlearn: 0.4360674\ttotal: 70.3ms\tremaining: 2.53s\n",
      "27:\tlearn: 0.4250204\ttotal: 70.6ms\tremaining: 2.45s\n",
      "28:\tlearn: 0.4126114\ttotal: 70.9ms\tremaining: 2.37s\n",
      "29:\tlearn: 0.4017031\ttotal: 71.9ms\tremaining: 2.32s\n",
      "30:\tlearn: 0.3896491\ttotal: 72.4ms\tremaining: 2.26s\n",
      "31:\tlearn: 0.3773440\ttotal: 72.6ms\tremaining: 2.2s\n",
      "32:\tlearn: 0.3670884\ttotal: 72.9ms\tremaining: 2.14s\n",
      "33:\tlearn: 0.3562559\ttotal: 73.2ms\tremaining: 2.08s\n",
      "34:\tlearn: 0.3452985\ttotal: 74.3ms\tremaining: 2.05s\n",
      "35:\tlearn: 0.3365101\ttotal: 74.7ms\tremaining: 2s\n",
      "36:\tlearn: 0.3270557\ttotal: 75.2ms\tremaining: 1.96s\n",
      "37:\tlearn: 0.3171571\ttotal: 75.6ms\tremaining: 1.91s\n",
      "38:\tlearn: 0.3084520\ttotal: 75.9ms\tremaining: 1.87s\n",
      "39:\tlearn: 0.2998487\ttotal: 76.2ms\tremaining: 1.83s\n",
      "40:\tlearn: 0.2911072\ttotal: 76.5ms\tremaining: 1.79s\n",
      "41:\tlearn: 0.2831286\ttotal: 76.8ms\tremaining: 1.75s\n",
      "42:\tlearn: 0.2756349\ttotal: 77.9ms\tremaining: 1.73s\n",
      "43:\tlearn: 0.2679659\ttotal: 78.3ms\tremaining: 1.7s\n",
      "44:\tlearn: 0.2609783\ttotal: 78.6ms\tremaining: 1.67s\n",
      "45:\tlearn: 0.2538270\ttotal: 78.9ms\tremaining: 1.64s\n",
      "46:\tlearn: 0.2477280\ttotal: 79.1ms\tremaining: 1.6s\n",
      "47:\tlearn: 0.2417858\ttotal: 79.8ms\tremaining: 1.58s\n",
      "48:\tlearn: 0.2361908\ttotal: 80.1ms\tremaining: 1.55s\n",
      "49:\tlearn: 0.2297484\ttotal: 80.8ms\tremaining: 1.53s\n",
      "50:\tlearn: 0.2241078\ttotal: 81.3ms\tremaining: 1.51s\n",
      "51:\tlearn: 0.2179015\ttotal: 81.8ms\tremaining: 1.49s\n",
      "52:\tlearn: 0.2119555\ttotal: 82.3ms\tremaining: 1.47s\n",
      "53:\tlearn: 0.2062266\ttotal: 82.7ms\tremaining: 1.45s\n",
      "54:\tlearn: 0.2006579\ttotal: 83.3ms\tremaining: 1.43s\n",
      "55:\tlearn: 0.1951630\ttotal: 83.7ms\tremaining: 1.41s\n",
      "56:\tlearn: 0.1904863\ttotal: 84.3ms\tremaining: 1.39s\n",
      "57:\tlearn: 0.1863280\ttotal: 84.9ms\tremaining: 1.38s\n",
      "58:\tlearn: 0.1821372\ttotal: 85.4ms\tremaining: 1.36s\n",
      "59:\tlearn: 0.1773099\ttotal: 86ms\tremaining: 1.35s\n",
      "60:\tlearn: 0.1728071\ttotal: 86.7ms\tremaining: 1.33s\n",
      "61:\tlearn: 0.1685823\ttotal: 87.3ms\tremaining: 1.32s\n",
      "62:\tlearn: 0.1642713\ttotal: 87.8ms\tremaining: 1.3s\n",
      "63:\tlearn: 0.1604459\ttotal: 88.4ms\tremaining: 1.29s\n",
      "64:\tlearn: 0.1564476\ttotal: 89ms\tremaining: 1.28s\n",
      "65:\tlearn: 0.1525251\ttotal: 89.8ms\tremaining: 1.27s\n",
      "66:\tlearn: 0.1488429\ttotal: 90.3ms\tremaining: 1.26s\n",
      "67:\tlearn: 0.1449672\ttotal: 90.8ms\tremaining: 1.25s\n",
      "68:\tlearn: 0.1415640\ttotal: 92.1ms\tremaining: 1.24s\n",
      "69:\tlearn: 0.1391812\ttotal: 92.5ms\tremaining: 1.23s\n",
      "70:\tlearn: 0.1371650\ttotal: 93ms\tremaining: 1.22s\n",
      "71:\tlearn: 0.1341664\ttotal: 93.5ms\tremaining: 1.21s\n",
      "72:\tlearn: 0.1307454\ttotal: 95.1ms\tremaining: 1.21s\n",
      "73:\tlearn: 0.1283770\ttotal: 95.7ms\tremaining: 1.2s\n",
      "74:\tlearn: 0.1252307\ttotal: 96ms\tremaining: 1.18s\n",
      "75:\tlearn: 0.1226598\ttotal: 96.6ms\tremaining: 1.17s\n",
      "76:\tlearn: 0.1199918\ttotal: 97.6ms\tremaining: 1.17s\n",
      "77:\tlearn: 0.1182601\ttotal: 98.3ms\tremaining: 1.16s\n",
      "78:\tlearn: 0.1157383\ttotal: 99ms\tremaining: 1.15s\n",
      "79:\tlearn: 0.1134048\ttotal: 103ms\tremaining: 1.19s\n",
      "80:\tlearn: 0.1112272\ttotal: 104ms\tremaining: 1.18s\n",
      "81:\tlearn: 0.1088820\ttotal: 104ms\tremaining: 1.17s\n",
      "82:\tlearn: 0.1068739\ttotal: 105ms\tremaining: 1.16s\n",
      "83:\tlearn: 0.1049304\ttotal: 105ms\tremaining: 1.15s\n",
      "84:\tlearn: 0.1027808\ttotal: 106ms\tremaining: 1.14s\n",
      "85:\tlearn: 0.1013247\ttotal: 106ms\tremaining: 1.13s\n",
      "86:\tlearn: 0.0997765\ttotal: 106ms\tremaining: 1.11s\n",
      "87:\tlearn: 0.0984100\ttotal: 107ms\tremaining: 1.11s\n",
      "88:\tlearn: 0.0971961\ttotal: 107ms\tremaining: 1.1s\n",
      "89:\tlearn: 0.0951148\ttotal: 107ms\tremaining: 1.08s\n",
      "90:\tlearn: 0.0938725\ttotal: 108ms\tremaining: 1.07s\n",
      "91:\tlearn: 0.0924072\ttotal: 108ms\tremaining: 1.07s\n",
      "92:\tlearn: 0.0912984\ttotal: 109ms\tremaining: 1.06s\n",
      "93:\tlearn: 0.0894152\ttotal: 109ms\tremaining: 1.05s\n",
      "94:\tlearn: 0.0884877\ttotal: 109ms\tremaining: 1.04s\n",
      "95:\tlearn: 0.0870288\ttotal: 110ms\tremaining: 1.03s\n",
      "96:\tlearn: 0.0854579\ttotal: 110ms\tremaining: 1.02s\n",
      "97:\tlearn: 0.0836131\ttotal: 110ms\tremaining: 1.01s\n",
      "98:\tlearn: 0.0822929\ttotal: 111ms\tremaining: 1.01s\n",
      "99:\tlearn: 0.0815939\ttotal: 111ms\tremaining: 998ms\n",
      "100:\tlearn: 0.0802333\ttotal: 111ms\tremaining: 989ms\n",
      "101:\tlearn: 0.0790338\ttotal: 111ms\tremaining: 981ms\n",
      "102:\tlearn: 0.0782196\ttotal: 112ms\tremaining: 972ms\n",
      "103:\tlearn: 0.0769464\ttotal: 112ms\tremaining: 967ms\n",
      "104:\tlearn: 0.0760018\ttotal: 113ms\tremaining: 959ms\n",
      "105:\tlearn: 0.0746683\ttotal: 113ms\tremaining: 952ms\n",
      "106:\tlearn: 0.0733766\ttotal: 113ms\tremaining: 945ms\n",
      "107:\tlearn: 0.0727121\ttotal: 114ms\tremaining: 938ms\n",
      "108:\tlearn: 0.0720117\ttotal: 114ms\tremaining: 930ms\n",
      "109:\tlearn: 0.0709388\ttotal: 114ms\tremaining: 923ms\n",
      "110:\tlearn: 0.0701633\ttotal: 115ms\tremaining: 917ms\n",
      "111:\tlearn: 0.0692797\ttotal: 115ms\tremaining: 915ms\n",
      "112:\tlearn: 0.0681641\ttotal: 116ms\tremaining: 909ms\n",
      "113:\tlearn: 0.0672064\ttotal: 116ms\tremaining: 903ms\n",
      "114:\tlearn: 0.0664625\ttotal: 116ms\tremaining: 896ms\n",
      "115:\tlearn: 0.0655783\ttotal: 117ms\tremaining: 889ms\n",
      "116:\tlearn: 0.0646449\ttotal: 117ms\tremaining: 884ms\n",
      "117:\tlearn: 0.0638108\ttotal: 117ms\tremaining: 877ms\n",
      "118:\tlearn: 0.0629772\ttotal: 118ms\tremaining: 871ms\n",
      "119:\tlearn: 0.0621885\ttotal: 118ms\tremaining: 865ms\n",
      "120:\tlearn: 0.0614754\ttotal: 118ms\tremaining: 861ms\n",
      "121:\tlearn: 0.0606352\ttotal: 119ms\tremaining: 855ms\n",
      "122:\tlearn: 0.0602329\ttotal: 119ms\tremaining: 849ms\n",
      "123:\tlearn: 0.0597384\ttotal: 119ms\tremaining: 843ms\n",
      "124:\tlearn: 0.0591150\ttotal: 120ms\tremaining: 838ms\n",
      "125:\tlearn: 0.0586340\ttotal: 120ms\tremaining: 833ms\n",
      "126:\tlearn: 0.0582891\ttotal: 120ms\tremaining: 827ms\n",
      "127:\tlearn: 0.0577968\ttotal: 121ms\tremaining: 821ms\n",
      "128:\tlearn: 0.0571595\ttotal: 121ms\tremaining: 816ms\n",
      "129:\tlearn: 0.0567519\ttotal: 121ms\tremaining: 812ms\n",
      "130:\tlearn: 0.0563164\ttotal: 122ms\tremaining: 810ms\n",
      "131:\tlearn: 0.0559241\ttotal: 122ms\tremaining: 804ms\n",
      "132:\tlearn: 0.0553953\ttotal: 123ms\tremaining: 800ms\n",
      "133:\tlearn: 0.0548418\ttotal: 123ms\tremaining: 795ms\n",
      "134:\tlearn: 0.0543697\ttotal: 123ms\tremaining: 790ms\n",
      "135:\tlearn: 0.0539025\ttotal: 124ms\tremaining: 785ms\n",
      "136:\tlearn: 0.0535555\ttotal: 124ms\tremaining: 781ms\n",
      "137:\tlearn: 0.0530904\ttotal: 124ms\tremaining: 776ms\n",
      "138:\tlearn: 0.0528919\ttotal: 125ms\tremaining: 771ms\n",
      "139:\tlearn: 0.0525163\ttotal: 125ms\tremaining: 767ms\n",
      "140:\tlearn: 0.0522507\ttotal: 125ms\tremaining: 763ms\n",
      "141:\tlearn: 0.0519796\ttotal: 125ms\tremaining: 758ms\n",
      "142:\tlearn: 0.0515743\ttotal: 126ms\tremaining: 754ms\n",
      "143:\tlearn: 0.0512113\ttotal: 127ms\tremaining: 755ms\n",
      "144:\tlearn: 0.0509462\ttotal: 127ms\tremaining: 751ms\n",
      "145:\tlearn: 0.0506510\ttotal: 128ms\tremaining: 746ms\n",
      "146:\tlearn: 0.0503942\ttotal: 128ms\tremaining: 742ms\n",
      "147:\tlearn: 0.0501891\ttotal: 128ms\tremaining: 737ms\n",
      "148:\tlearn: 0.0498722\ttotal: 128ms\tremaining: 733ms\n",
      "149:\tlearn: 0.0495629\ttotal: 129ms\tremaining: 730ms\n",
      "150:\tlearn: 0.0492953\ttotal: 129ms\tremaining: 726ms\n",
      "151:\tlearn: 0.0490007\ttotal: 129ms\tremaining: 721ms\n",
      "152:\tlearn: 0.0487804\ttotal: 130ms\tremaining: 717ms\n",
      "153:\tlearn: 0.0485329\ttotal: 130ms\tremaining: 713ms\n",
      "154:\tlearn: 0.0482702\ttotal: 130ms\tremaining: 710ms\n",
      "155:\tlearn: 0.0480800\ttotal: 130ms\tremaining: 706ms\n",
      "156:\tlearn: 0.0479090\ttotal: 131ms\tremaining: 704ms\n",
      "157:\tlearn: 0.0476685\ttotal: 132ms\tremaining: 701ms\n",
      "158:\tlearn: 0.0474986\ttotal: 132ms\tremaining: 698ms\n",
      "159:\tlearn: 0.0472743\ttotal: 132ms\tremaining: 694ms\n",
      "160:\tlearn: 0.0470226\ttotal: 132ms\tremaining: 690ms\n",
      "161:\tlearn: 0.0467431\ttotal: 133ms\tremaining: 687ms\n",
      "162:\tlearn: 0.0465523\ttotal: 133ms\tremaining: 684ms\n",
      "163:\tlearn: 0.0464078\ttotal: 133ms\tremaining: 680ms\n",
      "164:\tlearn: 0.0461921\ttotal: 134ms\tremaining: 677ms\n",
      "165:\tlearn: 0.0459560\ttotal: 134ms\tremaining: 673ms\n",
      "166:\tlearn: 0.0457850\ttotal: 134ms\tremaining: 670ms\n",
      "167:\tlearn: 0.0456081\ttotal: 135ms\tremaining: 667ms\n",
      "168:\tlearn: 0.0454075\ttotal: 135ms\tremaining: 664ms\n",
      "169:\tlearn: 0.0452107\ttotal: 135ms\tremaining: 660ms\n",
      "170:\tlearn: 0.0450106\ttotal: 136ms\tremaining: 658ms\n",
      "171:\tlearn: 0.0448201\ttotal: 136ms\tremaining: 657ms\n",
      "172:\tlearn: 0.0446662\ttotal: 137ms\tremaining: 653ms\n",
      "173:\tlearn: 0.0445257\ttotal: 137ms\tremaining: 651ms\n",
      "174:\tlearn: 0.0443759\ttotal: 137ms\tremaining: 648ms\n",
      "175:\tlearn: 0.0441995\ttotal: 139ms\tremaining: 651ms\n",
      "176:\tlearn: 0.0439706\ttotal: 140ms\tremaining: 649ms\n",
      "177:\tlearn: 0.0438235\ttotal: 140ms\tremaining: 645ms\n",
      "178:\tlearn: 0.0436901\ttotal: 140ms\tremaining: 642ms\n",
      "179:\tlearn: 0.0434920\ttotal: 140ms\tremaining: 639ms\n",
      "180:\tlearn: 0.0433314\ttotal: 141ms\tremaining: 636ms\n",
      "181:\tlearn: 0.0431474\ttotal: 141ms\tremaining: 636ms\n",
      "182:\tlearn: 0.0429894\ttotal: 143ms\tremaining: 637ms\n",
      "183:\tlearn: 0.0428548\ttotal: 143ms\tremaining: 634ms\n",
      "184:\tlearn: 0.0426656\ttotal: 143ms\tremaining: 631ms\n",
      "185:\tlearn: 0.0424799\ttotal: 144ms\tremaining: 628ms\n",
      "186:\tlearn: 0.0422100\ttotal: 144ms\tremaining: 625ms\n",
      "187:\tlearn: 0.0420593\ttotal: 144ms\tremaining: 622ms\n",
      "188:\tlearn: 0.0418840\ttotal: 144ms\tremaining: 620ms\n",
      "189:\tlearn: 0.0415765\ttotal: 145ms\tremaining: 617ms\n",
      "190:\tlearn: 0.0414847\ttotal: 145ms\tremaining: 614ms\n",
      "191:\tlearn: 0.0413589\ttotal: 145ms\tremaining: 611ms\n",
      "192:\tlearn: 0.0410689\ttotal: 146ms\tremaining: 609ms\n",
      "193:\tlearn: 0.0409208\ttotal: 146ms\tremaining: 606ms\n",
      "194:\tlearn: 0.0407787\ttotal: 146ms\tremaining: 603ms\n",
      "195:\tlearn: 0.0404939\ttotal: 146ms\tremaining: 600ms\n"
     ]
    },
    {
     "name": "stdout",
     "output_type": "stream",
     "text": [
      "196:\tlearn: 0.0403337\ttotal: 148ms\tremaining: 602ms\n",
      "197:\tlearn: 0.0401683\ttotal: 148ms\tremaining: 601ms\n",
      "198:\tlearn: 0.0400244\ttotal: 152ms\tremaining: 611ms\n",
      "199:\tlearn: 0.0399196\ttotal: 152ms\tremaining: 609ms\n",
      "200:\tlearn: 0.0397793\ttotal: 153ms\tremaining: 609ms\n",
      "201:\tlearn: 0.0396443\ttotal: 155ms\tremaining: 611ms\n",
      "202:\tlearn: 0.0395129\ttotal: 158ms\tremaining: 622ms\n",
      "203:\tlearn: 0.0394198\ttotal: 160ms\tremaining: 625ms\n",
      "204:\tlearn: 0.0392895\ttotal: 161ms\tremaining: 625ms\n",
      "205:\tlearn: 0.0391892\ttotal: 168ms\tremaining: 646ms\n",
      "206:\tlearn: 0.0391086\ttotal: 169ms\tremaining: 647ms\n"
     ]
    },
    {
     "name": "stdout",
     "output_type": "stream",
     "text": [
      "207:\tlearn: 0.0390114\ttotal: 173ms\tremaining: 658ms\n",
      "208:\tlearn: 0.0388617\ttotal: 177ms\tremaining: 669ms\n",
      "209:\tlearn: 0.0386937\ttotal: 179ms\tremaining: 673ms\n",
      "210:\tlearn: 0.0385673\ttotal: 182ms\tremaining: 679ms\n",
      "211:\tlearn: 0.0383045\ttotal: 182ms\tremaining: 678ms\n",
      "212:\tlearn: 0.0382160\ttotal: 188ms\tremaining: 694ms\n",
      "213:\tlearn: 0.0381054\ttotal: 200ms\tremaining: 736ms\n",
      "214:\tlearn: 0.0380235\ttotal: 201ms\tremaining: 735ms\n",
      "215:\tlearn: 0.0379531\ttotal: 202ms\tremaining: 734ms\n",
      "216:\tlearn: 0.0378077\ttotal: 206ms\tremaining: 744ms\n",
      "217:\tlearn: 0.0376977\ttotal: 209ms\tremaining: 748ms\n",
      "218:\tlearn: 0.0375623\ttotal: 210ms\tremaining: 749ms\n",
      "219:\tlearn: 0.0374399\ttotal: 211ms\tremaining: 749ms\n",
      "220:\tlearn: 0.0373594\ttotal: 213ms\tremaining: 750ms\n",
      "221:\tlearn: 0.0372666\ttotal: 214ms\tremaining: 749ms\n",
      "222:\tlearn: 0.0371490\ttotal: 223ms\tremaining: 776ms\n",
      "223:\tlearn: 0.0370596\ttotal: 225ms\tremaining: 778ms\n",
      "224:\tlearn: 0.0369370\ttotal: 231ms\tremaining: 796ms\n",
      "225:\tlearn: 0.0368067\ttotal: 233ms\tremaining: 799ms\n",
      "226:\tlearn: 0.0366917\ttotal: 234ms\tremaining: 796ms\n",
      "227:\tlearn: 0.0365977\ttotal: 237ms\tremaining: 803ms\n",
      "228:\tlearn: 0.0364851\ttotal: 237ms\tremaining: 799ms\n",
      "229:\tlearn: 0.0362471\ttotal: 238ms\tremaining: 796ms\n",
      "230:\tlearn: 0.0361424\ttotal: 238ms\tremaining: 793ms\n",
      "231:\tlearn: 0.0360616\ttotal: 239ms\tremaining: 790ms\n",
      "232:\tlearn: 0.0359785\ttotal: 239ms\tremaining: 787ms\n",
      "233:\tlearn: 0.0359050\ttotal: 240ms\tremaining: 785ms\n",
      "234:\tlearn: 0.0356547\ttotal: 241ms\tremaining: 783ms\n",
      "235:\tlearn: 0.0354361\ttotal: 241ms\tremaining: 782ms\n",
      "236:\tlearn: 0.0352310\ttotal: 242ms\tremaining: 780ms\n",
      "237:\tlearn: 0.0351270\ttotal: 243ms\tremaining: 777ms\n",
      "238:\tlearn: 0.0350340\ttotal: 243ms\tremaining: 775ms\n",
      "239:\tlearn: 0.0349243\ttotal: 244ms\tremaining: 772ms\n",
      "240:\tlearn: 0.0348470\ttotal: 244ms\tremaining: 770ms\n",
      "241:\tlearn: 0.0347433\ttotal: 245ms\tremaining: 767ms\n",
      "242:\tlearn: 0.0346770\ttotal: 245ms\tremaining: 764ms\n",
      "243:\tlearn: 0.0345819\ttotal: 251ms\tremaining: 778ms\n",
      "244:\tlearn: 0.0344979\ttotal: 252ms\tremaining: 775ms\n",
      "245:\tlearn: 0.0344470\ttotal: 252ms\tremaining: 773ms\n",
      "246:\tlearn: 0.0342214\ttotal: 253ms\tremaining: 770ms\n",
      "247:\tlearn: 0.0341692\ttotal: 253ms\tremaining: 768ms\n",
      "248:\tlearn: 0.0340924\ttotal: 254ms\tremaining: 765ms\n",
      "249:\tlearn: 0.0338813\ttotal: 254ms\tremaining: 762ms\n",
      "250:\tlearn: 0.0338353\ttotal: 255ms\tremaining: 760ms\n",
      "251:\tlearn: 0.0336365\ttotal: 257ms\tremaining: 764ms\n",
      "252:\tlearn: 0.0335426\ttotal: 258ms\tremaining: 762ms\n",
      "253:\tlearn: 0.0334175\ttotal: 259ms\tremaining: 760ms\n",
      "254:\tlearn: 0.0333210\ttotal: 259ms\tremaining: 758ms\n"
     ]
    },
    {
     "name": "stdout",
     "output_type": "stream",
     "text": [
      "255:\tlearn: 0.0332768\ttotal: 260ms\tremaining: 756ms\n",
      "256:\tlearn: 0.0332222\ttotal: 261ms\tremaining: 754ms\n",
      "257:\tlearn: 0.0331127\ttotal: 262ms\tremaining: 754ms\n",
      "258:\tlearn: 0.0329268\ttotal: 263ms\tremaining: 752ms\n",
      "259:\tlearn: 0.0328351\ttotal: 263ms\tremaining: 749ms\n",
      "260:\tlearn: 0.0327492\ttotal: 264ms\tremaining: 746ms\n",
      "261:\tlearn: 0.0326662\ttotal: 264ms\tremaining: 743ms\n",
      "262:\tlearn: 0.0325798\ttotal: 264ms\tremaining: 740ms\n",
      "263:\tlearn: 0.0324930\ttotal: 266ms\tremaining: 741ms\n",
      "264:\tlearn: 0.0323602\ttotal: 266ms\tremaining: 738ms\n",
      "265:\tlearn: 0.0322812\ttotal: 267ms\tremaining: 736ms\n",
      "266:\tlearn: 0.0321148\ttotal: 267ms\tremaining: 733ms\n",
      "267:\tlearn: 0.0319953\ttotal: 267ms\tremaining: 730ms\n",
      "268:\tlearn: 0.0319198\ttotal: 267ms\tremaining: 727ms\n",
      "269:\tlearn: 0.0318491\ttotal: 268ms\tremaining: 724ms\n",
      "270:\tlearn: 0.0317689\ttotal: 268ms\tremaining: 721ms\n",
      "271:\tlearn: 0.0316042\ttotal: 268ms\tremaining: 718ms\n",
      "272:\tlearn: 0.0315287\ttotal: 269ms\tremaining: 715ms\n",
      "273:\tlearn: 0.0314538\ttotal: 270ms\tremaining: 715ms\n",
      "274:\tlearn: 0.0314128\ttotal: 270ms\tremaining: 712ms\n",
      "275:\tlearn: 0.0313309\ttotal: 270ms\tremaining: 709ms\n",
      "276:\tlearn: 0.0312918\ttotal: 271ms\tremaining: 707ms\n",
      "277:\tlearn: 0.0312167\ttotal: 271ms\tremaining: 705ms\n",
      "278:\tlearn: 0.0311073\ttotal: 272ms\tremaining: 703ms\n",
      "279:\tlearn: 0.0309860\ttotal: 272ms\tremaining: 700ms\n",
      "280:\tlearn: 0.0308278\ttotal: 273ms\tremaining: 697ms\n",
      "281:\tlearn: 0.0306782\ttotal: 273ms\tremaining: 695ms\n",
      "282:\tlearn: 0.0306049\ttotal: 273ms\tremaining: 692ms\n",
      "283:\tlearn: 0.0305087\ttotal: 273ms\tremaining: 689ms\n",
      "284:\tlearn: 0.0303627\ttotal: 274ms\tremaining: 687ms\n",
      "285:\tlearn: 0.0302816\ttotal: 274ms\tremaining: 684ms\n",
      "286:\tlearn: 0.0302480\ttotal: 275ms\tremaining: 683ms\n",
      "287:\tlearn: 0.0301865\ttotal: 275ms\tremaining: 681ms\n",
      "288:\tlearn: 0.0301287\ttotal: 276ms\tremaining: 679ms\n",
      "289:\tlearn: 0.0300318\ttotal: 276ms\tremaining: 676ms\n",
      "290:\tlearn: 0.0298943\ttotal: 276ms\tremaining: 673ms\n",
      "291:\tlearn: 0.0298426\ttotal: 277ms\tremaining: 671ms\n",
      "292:\tlearn: 0.0297112\ttotal: 277ms\tremaining: 668ms\n",
      "293:\tlearn: 0.0296259\ttotal: 277ms\tremaining: 666ms\n",
      "294:\tlearn: 0.0295408\ttotal: 278ms\tremaining: 665ms\n",
      "295:\tlearn: 0.0294685\ttotal: 279ms\tremaining: 663ms\n",
      "296:\tlearn: 0.0293843\ttotal: 279ms\tremaining: 660ms\n",
      "297:\tlearn: 0.0293041\ttotal: 279ms\tremaining: 657ms\n",
      "298:\tlearn: 0.0292439\ttotal: 279ms\tremaining: 655ms\n",
      "299:\tlearn: 0.0291723\ttotal: 280ms\tremaining: 654ms\n",
      "300:\tlearn: 0.0290603\ttotal: 281ms\tremaining: 652ms\n",
      "301:\tlearn: 0.0290325\ttotal: 281ms\tremaining: 650ms\n",
      "302:\tlearn: 0.0289669\ttotal: 282ms\tremaining: 648ms\n",
      "303:\tlearn: 0.0288439\ttotal: 282ms\tremaining: 646ms\n",
      "304:\tlearn: 0.0287795\ttotal: 282ms\tremaining: 643ms\n",
      "305:\tlearn: 0.0286576\ttotal: 282ms\tremaining: 641ms\n",
      "306:\tlearn: 0.0285965\ttotal: 283ms\tremaining: 638ms\n",
      "307:\tlearn: 0.0284827\ttotal: 283ms\tremaining: 636ms\n",
      "308:\tlearn: 0.0284460\ttotal: 283ms\tremaining: 634ms\n",
      "309:\tlearn: 0.0283161\ttotal: 284ms\tremaining: 631ms\n",
      "310:\tlearn: 0.0282523\ttotal: 284ms\tremaining: 629ms\n",
      "311:\tlearn: 0.0282076\ttotal: 284ms\tremaining: 626ms\n",
      "312:\tlearn: 0.0281094\ttotal: 284ms\tremaining: 624ms\n",
      "313:\tlearn: 0.0280281\ttotal: 285ms\tremaining: 622ms\n",
      "314:\tlearn: 0.0279637\ttotal: 285ms\tremaining: 620ms\n",
      "315:\tlearn: 0.0279099\ttotal: 285ms\tremaining: 617ms\n",
      "316:\tlearn: 0.0278614\ttotal: 285ms\tremaining: 615ms\n",
      "317:\tlearn: 0.0277609\ttotal: 286ms\tremaining: 613ms\n",
      "318:\tlearn: 0.0277058\ttotal: 286ms\tremaining: 611ms\n",
      "319:\tlearn: 0.0276022\ttotal: 286ms\tremaining: 608ms\n",
      "320:\tlearn: 0.0275478\ttotal: 287ms\tremaining: 606ms\n",
      "321:\tlearn: 0.0274534\ttotal: 287ms\tremaining: 604ms\n",
      "322:\tlearn: 0.0274034\ttotal: 287ms\tremaining: 602ms\n"
     ]
    },
    {
     "name": "stdout",
     "output_type": "stream",
     "text": [
      "323:\tlearn: 0.0273000\ttotal: 287ms\tremaining: 600ms\n",
      "324:\tlearn: 0.0272398\ttotal: 288ms\tremaining: 598ms\n",
      "325:\tlearn: 0.0271582\ttotal: 288ms\tremaining: 595ms\n",
      "326:\tlearn: 0.0270908\ttotal: 288ms\tremaining: 593ms\n",
      "327:\tlearn: 0.0270091\ttotal: 289ms\tremaining: 593ms\n",
      "328:\tlearn: 0.0269183\ttotal: 290ms\tremaining: 591ms\n",
      "329:\tlearn: 0.0268531\ttotal: 291ms\tremaining: 590ms\n",
      "330:\tlearn: 0.0268067\ttotal: 291ms\tremaining: 588ms\n",
      "331:\tlearn: 0.0267447\ttotal: 291ms\tremaining: 586ms\n",
      "332:\tlearn: 0.0266692\ttotal: 291ms\tremaining: 584ms\n",
      "333:\tlearn: 0.0266224\ttotal: 292ms\tremaining: 582ms\n",
      "334:\tlearn: 0.0265301\ttotal: 292ms\tremaining: 579ms\n",
      "335:\tlearn: 0.0264549\ttotal: 292ms\tremaining: 577ms\n",
      "336:\tlearn: 0.0264112\ttotal: 292ms\tremaining: 575ms\n",
      "337:\tlearn: 0.0263570\ttotal: 293ms\tremaining: 573ms\n",
      "338:\tlearn: 0.0262807\ttotal: 293ms\tremaining: 571ms\n",
      "339:\tlearn: 0.0262308\ttotal: 293ms\tremaining: 569ms\n",
      "340:\tlearn: 0.0261662\ttotal: 293ms\tremaining: 567ms\n",
      "341:\tlearn: 0.0261291\ttotal: 294ms\tremaining: 565ms\n",
      "342:\tlearn: 0.0260505\ttotal: 294ms\tremaining: 563ms\n",
      "343:\tlearn: 0.0259721\ttotal: 294ms\tremaining: 561ms\n",
      "344:\tlearn: 0.0258750\ttotal: 294ms\tremaining: 559ms\n",
      "345:\tlearn: 0.0258399\ttotal: 295ms\tremaining: 557ms\n",
      "346:\tlearn: 0.0257803\ttotal: 295ms\tremaining: 555ms\n",
      "347:\tlearn: 0.0257081\ttotal: 295ms\tremaining: 553ms\n",
      "348:\tlearn: 0.0256892\ttotal: 295ms\tremaining: 551ms\n",
      "349:\tlearn: 0.0256336\ttotal: 296ms\tremaining: 549ms\n",
      "350:\tlearn: 0.0255851\ttotal: 296ms\tremaining: 547ms\n",
      "351:\tlearn: 0.0254936\ttotal: 296ms\tremaining: 545ms\n",
      "352:\tlearn: 0.0254586\ttotal: 296ms\tremaining: 543ms\n",
      "353:\tlearn: 0.0254068\ttotal: 297ms\tremaining: 541ms\n",
      "354:\tlearn: 0.0253510\ttotal: 297ms\tremaining: 540ms\n",
      "355:\tlearn: 0.0252694\ttotal: 297ms\tremaining: 538ms\n",
      "356:\tlearn: 0.0252365\ttotal: 297ms\tremaining: 536ms\n",
      "357:\tlearn: 0.0251734\ttotal: 298ms\tremaining: 534ms\n",
      "358:\tlearn: 0.0251556\ttotal: 298ms\tremaining: 532ms\n",
      "359:\tlearn: 0.0250914\ttotal: 298ms\tremaining: 530ms\n",
      "360:\tlearn: 0.0250434\ttotal: 298ms\tremaining: 528ms\n",
      "361:\tlearn: 0.0249966\ttotal: 299ms\tremaining: 526ms\n",
      "362:\tlearn: 0.0249517\ttotal: 299ms\tremaining: 525ms\n",
      "363:\tlearn: 0.0249033\ttotal: 300ms\tremaining: 524ms\n",
      "364:\tlearn: 0.0248540\ttotal: 300ms\tremaining: 522ms\n",
      "365:\tlearn: 0.0248098\ttotal: 300ms\tremaining: 520ms\n",
      "366:\tlearn: 0.0247385\ttotal: 300ms\tremaining: 518ms\n",
      "367:\tlearn: 0.0246927\ttotal: 301ms\tremaining: 516ms\n",
      "368:\tlearn: 0.0246298\ttotal: 301ms\tremaining: 514ms\n",
      "369:\tlearn: 0.0245859\ttotal: 302ms\tremaining: 514ms\n",
      "370:\tlearn: 0.0245339\ttotal: 302ms\tremaining: 512ms\n",
      "371:\tlearn: 0.0244842\ttotal: 302ms\tremaining: 510ms\n",
      "372:\tlearn: 0.0244087\ttotal: 302ms\tremaining: 508ms\n",
      "373:\tlearn: 0.0243627\ttotal: 303ms\tremaining: 507ms\n",
      "374:\tlearn: 0.0243252\ttotal: 303ms\tremaining: 505ms\n",
      "375:\tlearn: 0.0242812\ttotal: 303ms\tremaining: 503ms\n",
      "376:\tlearn: 0.0242090\ttotal: 303ms\tremaining: 501ms\n",
      "377:\tlearn: 0.0241728\ttotal: 304ms\tremaining: 499ms\n",
      "378:\tlearn: 0.0241106\ttotal: 304ms\tremaining: 498ms\n",
      "379:\tlearn: 0.0240645\ttotal: 304ms\tremaining: 496ms\n",
      "380:\tlearn: 0.0240254\ttotal: 304ms\tremaining: 494ms\n",
      "381:\tlearn: 0.0239906\ttotal: 304ms\tremaining: 492ms\n",
      "382:\tlearn: 0.0239511\ttotal: 305ms\tremaining: 491ms\n",
      "383:\tlearn: 0.0238927\ttotal: 305ms\tremaining: 489ms\n",
      "384:\tlearn: 0.0238366\ttotal: 305ms\tremaining: 487ms\n",
      "385:\tlearn: 0.0238078\ttotal: 306ms\tremaining: 486ms\n",
      "386:\tlearn: 0.0237543\ttotal: 306ms\tremaining: 485ms\n",
      "387:\tlearn: 0.0237002\ttotal: 307ms\tremaining: 484ms\n",
      "388:\tlearn: 0.0236601\ttotal: 307ms\tremaining: 482ms\n",
      "389:\tlearn: 0.0235851\ttotal: 307ms\tremaining: 480ms\n",
      "390:\tlearn: 0.0235435\ttotal: 307ms\tremaining: 479ms\n",
      "391:\tlearn: 0.0235091\ttotal: 308ms\tremaining: 477ms\n",
      "392:\tlearn: 0.0234566\ttotal: 308ms\tremaining: 475ms\n",
      "393:\tlearn: 0.0234153\ttotal: 308ms\tremaining: 474ms\n",
      "394:\tlearn: 0.0233774\ttotal: 308ms\tremaining: 472ms\n",
      "395:\tlearn: 0.0233432\ttotal: 308ms\tremaining: 470ms\n",
      "396:\tlearn: 0.0232975\ttotal: 309ms\tremaining: 469ms\n",
      "397:\tlearn: 0.0232663\ttotal: 309ms\tremaining: 468ms\n",
      "398:\tlearn: 0.0232287\ttotal: 309ms\tremaining: 466ms\n",
      "399:\tlearn: 0.0231765\ttotal: 310ms\tremaining: 464ms\n",
      "400:\tlearn: 0.0231406\ttotal: 310ms\tremaining: 463ms\n",
      "401:\tlearn: 0.0230987\ttotal: 310ms\tremaining: 461ms\n",
      "402:\tlearn: 0.0230291\ttotal: 310ms\tremaining: 460ms\n",
      "403:\tlearn: 0.0229904\ttotal: 311ms\tremaining: 458ms\n",
      "404:\tlearn: 0.0229571\ttotal: 311ms\tremaining: 457ms\n",
      "405:\tlearn: 0.0228967\ttotal: 311ms\tremaining: 455ms\n",
      "406:\tlearn: 0.0228674\ttotal: 311ms\tremaining: 454ms\n",
      "407:\tlearn: 0.0228419\ttotal: 312ms\tremaining: 452ms\n",
      "408:\tlearn: 0.0228111\ttotal: 312ms\tremaining: 451ms\n",
      "409:\tlearn: 0.0227795\ttotal: 312ms\tremaining: 449ms\n",
      "410:\tlearn: 0.0227138\ttotal: 313ms\tremaining: 448ms\n",
      "411:\tlearn: 0.0226812\ttotal: 313ms\tremaining: 447ms\n",
      "412:\tlearn: 0.0226265\ttotal: 313ms\tremaining: 445ms\n",
      "413:\tlearn: 0.0226028\ttotal: 314ms\tremaining: 444ms\n",
      "414:\tlearn: 0.0225546\ttotal: 314ms\tremaining: 442ms\n",
      "415:\tlearn: 0.0225328\ttotal: 314ms\tremaining: 441ms\n",
      "416:\tlearn: 0.0225012\ttotal: 314ms\tremaining: 439ms\n",
      "417:\tlearn: 0.0224727\ttotal: 315ms\tremaining: 438ms\n",
      "418:\tlearn: 0.0224383\ttotal: 315ms\tremaining: 437ms\n",
      "419:\tlearn: 0.0223993\ttotal: 315ms\tremaining: 435ms\n",
      "420:\tlearn: 0.0223653\ttotal: 315ms\tremaining: 434ms\n",
      "421:\tlearn: 0.0223144\ttotal: 316ms\tremaining: 432ms\n",
      "422:\tlearn: 0.0222872\ttotal: 316ms\tremaining: 431ms\n",
      "423:\tlearn: 0.0222386\ttotal: 316ms\tremaining: 430ms\n",
      "424:\tlearn: 0.0222147\ttotal: 316ms\tremaining: 428ms\n",
      "425:\tlearn: 0.0221807\ttotal: 317ms\tremaining: 427ms\n",
      "426:\tlearn: 0.0221602\ttotal: 317ms\tremaining: 425ms\n",
      "427:\tlearn: 0.0221372\ttotal: 317ms\tremaining: 424ms\n",
      "428:\tlearn: 0.0221020\ttotal: 318ms\tremaining: 423ms\n",
      "429:\tlearn: 0.0220762\ttotal: 318ms\tremaining: 422ms\n",
      "430:\tlearn: 0.0220230\ttotal: 318ms\tremaining: 420ms\n",
      "431:\tlearn: 0.0219906\ttotal: 319ms\tremaining: 419ms\n",
      "432:\tlearn: 0.0219713\ttotal: 319ms\tremaining: 418ms\n",
      "433:\tlearn: 0.0219440\ttotal: 319ms\tremaining: 417ms\n",
      "434:\tlearn: 0.0219179\ttotal: 320ms\tremaining: 415ms\n",
      "435:\tlearn: 0.0218716\ttotal: 320ms\tremaining: 414ms\n",
      "436:\tlearn: 0.0218530\ttotal: 320ms\tremaining: 413ms\n",
      "437:\tlearn: 0.0217919\ttotal: 321ms\tremaining: 411ms\n",
      "438:\tlearn: 0.0217606\ttotal: 321ms\tremaining: 410ms\n",
      "439:\tlearn: 0.0217315\ttotal: 321ms\tremaining: 409ms\n",
      "440:\tlearn: 0.0217078\ttotal: 321ms\tremaining: 407ms\n",
      "441:\tlearn: 0.0216801\ttotal: 322ms\tremaining: 406ms\n",
      "442:\tlearn: 0.0216416\ttotal: 322ms\tremaining: 405ms\n",
      "443:\tlearn: 0.0216147\ttotal: 322ms\tremaining: 403ms\n",
      "444:\tlearn: 0.0215968\ttotal: 322ms\tremaining: 402ms\n",
      "445:\tlearn: 0.0215757\ttotal: 323ms\tremaining: 401ms\n",
      "446:\tlearn: 0.0215198\ttotal: 323ms\tremaining: 400ms\n",
      "447:\tlearn: 0.0214861\ttotal: 323ms\tremaining: 398ms\n",
      "448:\tlearn: 0.0214536\ttotal: 324ms\tremaining: 398ms\n",
      "449:\tlearn: 0.0214207\ttotal: 324ms\tremaining: 396ms\n",
      "450:\tlearn: 0.0213790\ttotal: 325ms\tremaining: 395ms\n",
      "451:\tlearn: 0.0213416\ttotal: 325ms\tremaining: 394ms\n",
      "452:\tlearn: 0.0212977\ttotal: 325ms\tremaining: 393ms\n",
      "453:\tlearn: 0.0212810\ttotal: 326ms\tremaining: 392ms\n",
      "454:\tlearn: 0.0212615\ttotal: 326ms\tremaining: 391ms\n",
      "455:\tlearn: 0.0212228\ttotal: 327ms\tremaining: 390ms\n",
      "456:\tlearn: 0.0212124\ttotal: 327ms\tremaining: 389ms\n",
      "457:\tlearn: 0.0211709\ttotal: 328ms\tremaining: 388ms\n",
      "458:\tlearn: 0.0211450\ttotal: 328ms\tremaining: 387ms\n",
      "459:\tlearn: 0.0211183\ttotal: 328ms\tremaining: 386ms\n",
      "460:\tlearn: 0.0210859\ttotal: 329ms\tremaining: 384ms\n",
      "461:\tlearn: 0.0210658\ttotal: 329ms\tremaining: 383ms\n",
      "462:\tlearn: 0.0210360\ttotal: 330ms\tremaining: 383ms\n",
      "463:\tlearn: 0.0210111\ttotal: 331ms\tremaining: 382ms\n",
      "464:\tlearn: 0.0209887\ttotal: 331ms\tremaining: 381ms\n",
      "465:\tlearn: 0.0209559\ttotal: 331ms\tremaining: 379ms\n",
      "466:\tlearn: 0.0209260\ttotal: 332ms\tremaining: 379ms\n",
      "467:\tlearn: 0.0208976\ttotal: 332ms\tremaining: 378ms\n",
      "468:\tlearn: 0.0208785\ttotal: 332ms\tremaining: 376ms\n",
      "469:\tlearn: 0.0208593\ttotal: 333ms\tremaining: 375ms\n",
      "470:\tlearn: 0.0208136\ttotal: 334ms\tremaining: 375ms\n",
      "471:\tlearn: 0.0207739\ttotal: 334ms\tremaining: 373ms\n",
      "472:\tlearn: 0.0207424\ttotal: 334ms\tremaining: 372ms\n",
      "473:\tlearn: 0.0207201\ttotal: 334ms\tremaining: 371ms\n",
      "474:\tlearn: 0.0206812\ttotal: 335ms\tremaining: 370ms\n",
      "475:\tlearn: 0.0206628\ttotal: 335ms\tremaining: 369ms\n",
      "476:\tlearn: 0.0206373\ttotal: 335ms\tremaining: 368ms\n",
      "477:\tlearn: 0.0205887\ttotal: 336ms\tremaining: 366ms\n",
      "478:\tlearn: 0.0205663\ttotal: 336ms\tremaining: 365ms\n",
      "479:\tlearn: 0.0205397\ttotal: 336ms\tremaining: 364ms\n",
      "480:\tlearn: 0.0205096\ttotal: 336ms\tremaining: 363ms\n",
      "481:\tlearn: 0.0204677\ttotal: 337ms\tremaining: 362ms\n",
      "482:\tlearn: 0.0204502\ttotal: 337ms\tremaining: 361ms\n",
      "483:\tlearn: 0.0204294\ttotal: 337ms\tremaining: 360ms\n",
      "484:\tlearn: 0.0204084\ttotal: 338ms\tremaining: 358ms\n",
      "485:\tlearn: 0.0203989\ttotal: 338ms\tremaining: 357ms\n",
      "486:\tlearn: 0.0203548\ttotal: 338ms\tremaining: 356ms\n",
      "487:\tlearn: 0.0203276\ttotal: 338ms\tremaining: 355ms\n",
      "488:\tlearn: 0.0203056\ttotal: 339ms\tremaining: 354ms\n",
      "489:\tlearn: 0.0202892\ttotal: 340ms\tremaining: 354ms\n",
      "490:\tlearn: 0.0202693\ttotal: 342ms\tremaining: 354ms\n",
      "491:\tlearn: 0.0202380\ttotal: 342ms\tremaining: 353ms\n",
      "492:\tlearn: 0.0202115\ttotal: 342ms\tremaining: 352ms\n",
      "493:\tlearn: 0.0201873\ttotal: 343ms\tremaining: 351ms\n",
      "494:\tlearn: 0.0201451\ttotal: 343ms\tremaining: 350ms\n",
      "495:\tlearn: 0.0201160\ttotal: 343ms\tremaining: 349ms\n",
      "496:\tlearn: 0.0200970\ttotal: 344ms\tremaining: 348ms\n",
      "497:\tlearn: 0.0200710\ttotal: 344ms\tremaining: 347ms\n",
      "498:\tlearn: 0.0200529\ttotal: 344ms\tremaining: 346ms\n",
      "499:\tlearn: 0.0200251\ttotal: 345ms\tremaining: 345ms\n",
      "500:\tlearn: 0.0200068\ttotal: 345ms\tremaining: 343ms\n",
      "501:\tlearn: 0.0199685\ttotal: 346ms\tremaining: 343ms\n",
      "502:\tlearn: 0.0199369\ttotal: 346ms\tremaining: 342ms\n",
      "503:\tlearn: 0.0199195\ttotal: 346ms\tremaining: 341ms\n",
      "504:\tlearn: 0.0198938\ttotal: 346ms\tremaining: 340ms\n",
      "505:\tlearn: 0.0198490\ttotal: 347ms\tremaining: 339ms\n",
      "506:\tlearn: 0.0198277\ttotal: 347ms\tremaining: 337ms\n",
      "507:\tlearn: 0.0198055\ttotal: 347ms\tremaining: 336ms\n",
      "508:\tlearn: 0.0197750\ttotal: 348ms\tremaining: 335ms\n",
      "509:\tlearn: 0.0197657\ttotal: 348ms\tremaining: 334ms\n",
      "510:\tlearn: 0.0197420\ttotal: 348ms\tremaining: 333ms\n",
      "511:\tlearn: 0.0197352\ttotal: 348ms\tremaining: 332ms\n",
      "512:\tlearn: 0.0197232\ttotal: 349ms\tremaining: 331ms\n",
      "513:\tlearn: 0.0197007\ttotal: 349ms\tremaining: 330ms\n",
      "514:\tlearn: 0.0196897\ttotal: 349ms\tremaining: 329ms\n",
      "515:\tlearn: 0.0196671\ttotal: 349ms\tremaining: 328ms\n",
      "516:\tlearn: 0.0196335\ttotal: 350ms\tremaining: 327ms\n",
      "517:\tlearn: 0.0196130\ttotal: 350ms\tremaining: 326ms\n",
      "518:\tlearn: 0.0195744\ttotal: 351ms\tremaining: 325ms\n",
      "519:\tlearn: 0.0195546\ttotal: 351ms\tremaining: 324ms\n",
      "520:\tlearn: 0.0195280\ttotal: 351ms\tremaining: 323ms\n",
      "521:\tlearn: 0.0194932\ttotal: 352ms\tremaining: 322ms\n",
      "522:\tlearn: 0.0194589\ttotal: 352ms\tremaining: 321ms\n",
      "523:\tlearn: 0.0194295\ttotal: 352ms\tremaining: 320ms\n",
      "524:\tlearn: 0.0193628\ttotal: 353ms\tremaining: 319ms\n",
      "525:\tlearn: 0.0193261\ttotal: 353ms\tremaining: 318ms\n",
      "526:\tlearn: 0.0193006\ttotal: 353ms\tremaining: 317ms\n",
      "527:\tlearn: 0.0192921\ttotal: 355ms\tremaining: 318ms\n",
      "528:\tlearn: 0.0192783\ttotal: 356ms\tremaining: 317ms\n",
      "529:\tlearn: 0.0192588\ttotal: 356ms\tremaining: 316ms\n",
      "530:\tlearn: 0.0192407\ttotal: 358ms\tremaining: 316ms\n",
      "531:\tlearn: 0.0192200\ttotal: 358ms\tremaining: 315ms\n",
      "532:\tlearn: 0.0191998\ttotal: 358ms\tremaining: 314ms\n",
      "533:\tlearn: 0.0191759\ttotal: 359ms\tremaining: 313ms\n",
      "534:\tlearn: 0.0191567\ttotal: 359ms\tremaining: 312ms\n",
      "535:\tlearn: 0.0191408\ttotal: 359ms\tremaining: 311ms\n",
      "536:\tlearn: 0.0191262\ttotal: 360ms\tremaining: 310ms\n",
      "537:\tlearn: 0.0191026\ttotal: 360ms\tremaining: 309ms\n",
      "538:\tlearn: 0.0190400\ttotal: 360ms\tremaining: 308ms\n",
      "539:\tlearn: 0.0190312\ttotal: 361ms\tremaining: 307ms\n",
      "540:\tlearn: 0.0190157\ttotal: 361ms\tremaining: 306ms\n",
      "541:\tlearn: 0.0189901\ttotal: 361ms\tremaining: 305ms\n",
      "542:\tlearn: 0.0189664\ttotal: 362ms\tremaining: 304ms\n",
      "543:\tlearn: 0.0189410\ttotal: 362ms\tremaining: 304ms\n",
      "544:\tlearn: 0.0189341\ttotal: 363ms\tremaining: 303ms\n",
      "545:\tlearn: 0.0189182\ttotal: 363ms\tremaining: 302ms\n",
      "546:\tlearn: 0.0188989\ttotal: 363ms\tremaining: 301ms\n",
      "547:\tlearn: 0.0188809\ttotal: 363ms\tremaining: 300ms\n",
      "548:\tlearn: 0.0188641\ttotal: 364ms\tremaining: 299ms\n",
      "549:\tlearn: 0.0188509\ttotal: 365ms\tremaining: 298ms\n",
      "550:\tlearn: 0.0188438\ttotal: 365ms\tremaining: 297ms\n",
      "551:\tlearn: 0.0188279\ttotal: 365ms\tremaining: 296ms\n",
      "552:\tlearn: 0.0188154\ttotal: 365ms\tremaining: 295ms\n",
      "553:\tlearn: 0.0187883\ttotal: 366ms\tremaining: 294ms\n",
      "554:\tlearn: 0.0187661\ttotal: 366ms\tremaining: 293ms\n",
      "555:\tlearn: 0.0187401\ttotal: 366ms\tremaining: 292ms\n",
      "556:\tlearn: 0.0187285\ttotal: 366ms\tremaining: 291ms\n",
      "557:\tlearn: 0.0186689\ttotal: 367ms\tremaining: 290ms\n",
      "558:\tlearn: 0.0186451\ttotal: 367ms\tremaining: 290ms\n",
      "559:\tlearn: 0.0186399\ttotal: 368ms\tremaining: 289ms\n",
      "560:\tlearn: 0.0186244\ttotal: 368ms\tremaining: 288ms\n",
      "561:\tlearn: 0.0186031\ttotal: 368ms\tremaining: 287ms\n",
      "562:\tlearn: 0.0185816\ttotal: 369ms\tremaining: 286ms\n",
      "563:\tlearn: 0.0185696\ttotal: 369ms\tremaining: 285ms\n",
      "564:\tlearn: 0.0185385\ttotal: 369ms\tremaining: 284ms\n",
      "565:\tlearn: 0.0185075\ttotal: 370ms\tremaining: 283ms\n",
      "566:\tlearn: 0.0184921\ttotal: 370ms\tremaining: 282ms\n",
      "567:\tlearn: 0.0184647\ttotal: 370ms\tremaining: 282ms\n",
      "568:\tlearn: 0.0184087\ttotal: 370ms\tremaining: 281ms\n",
      "569:\tlearn: 0.0183942\ttotal: 371ms\tremaining: 280ms\n",
      "570:\tlearn: 0.0183791\ttotal: 371ms\tremaining: 279ms\n",
      "571:\tlearn: 0.0183679\ttotal: 372ms\tremaining: 278ms\n",
      "572:\tlearn: 0.0183502\ttotal: 373ms\tremaining: 278ms\n",
      "573:\tlearn: 0.0183284\ttotal: 373ms\tremaining: 277ms\n",
      "574:\tlearn: 0.0183129\ttotal: 373ms\tremaining: 276ms\n",
      "575:\tlearn: 0.0182981\ttotal: 374ms\tremaining: 275ms\n",
      "576:\tlearn: 0.0182777\ttotal: 374ms\tremaining: 274ms\n",
      "577:\tlearn: 0.0182580\ttotal: 374ms\tremaining: 273ms\n",
      "578:\tlearn: 0.0182464\ttotal: 374ms\tremaining: 272ms\n",
      "579:\tlearn: 0.0182216\ttotal: 375ms\tremaining: 271ms\n",
      "580:\tlearn: 0.0182005\ttotal: 375ms\tremaining: 270ms\n",
      "581:\tlearn: 0.0181860\ttotal: 375ms\tremaining: 270ms\n",
      "582:\tlearn: 0.0181755\ttotal: 376ms\tremaining: 269ms\n",
      "583:\tlearn: 0.0181560\ttotal: 376ms\tremaining: 268ms\n",
      "584:\tlearn: 0.0181488\ttotal: 376ms\tremaining: 267ms\n",
      "585:\tlearn: 0.0181431\ttotal: 376ms\tremaining: 266ms\n",
      "586:\tlearn: 0.0181266\ttotal: 377ms\tremaining: 265ms\n",
      "587:\tlearn: 0.0181055\ttotal: 377ms\tremaining: 264ms\n",
      "588:\tlearn: 0.0180857\ttotal: 377ms\tremaining: 263ms\n",
      "589:\tlearn: 0.0180321\ttotal: 377ms\tremaining: 262ms\n",
      "590:\tlearn: 0.0180087\ttotal: 378ms\tremaining: 261ms\n",
      "591:\tlearn: 0.0179950\ttotal: 378ms\tremaining: 261ms\n",
      "592:\tlearn: 0.0179664\ttotal: 379ms\tremaining: 260ms\n",
      "593:\tlearn: 0.0179428\ttotal: 379ms\tremaining: 259ms\n",
      "594:\tlearn: 0.0179235\ttotal: 379ms\tremaining: 258ms\n",
      "595:\tlearn: 0.0179012\ttotal: 380ms\tremaining: 257ms\n"
     ]
    },
    {
     "name": "stdout",
     "output_type": "stream",
     "text": [
      "596:\tlearn: 0.0178878\ttotal: 381ms\tremaining: 257ms\n",
      "597:\tlearn: 0.0178686\ttotal: 382ms\tremaining: 257ms\n",
      "598:\tlearn: 0.0178497\ttotal: 382ms\tremaining: 256ms\n",
      "599:\tlearn: 0.0178269\ttotal: 382ms\tremaining: 255ms\n",
      "600:\tlearn: 0.0178054\ttotal: 385ms\tremaining: 255ms\n",
      "601:\tlearn: 0.0177844\ttotal: 385ms\tremaining: 255ms\n",
      "602:\tlearn: 0.0177737\ttotal: 385ms\tremaining: 254ms\n",
      "603:\tlearn: 0.0177607\ttotal: 386ms\tremaining: 253ms\n",
      "604:\tlearn: 0.0177425\ttotal: 386ms\tremaining: 252ms\n",
      "605:\tlearn: 0.0177225\ttotal: 386ms\tremaining: 251ms\n",
      "606:\tlearn: 0.0177175\ttotal: 386ms\tremaining: 250ms\n",
      "607:\tlearn: 0.0176941\ttotal: 387ms\tremaining: 249ms\n",
      "608:\tlearn: 0.0176554\ttotal: 387ms\tremaining: 248ms\n",
      "609:\tlearn: 0.0176401\ttotal: 387ms\tremaining: 248ms\n",
      "610:\tlearn: 0.0176308\ttotal: 387ms\tremaining: 247ms\n",
      "611:\tlearn: 0.0176090\ttotal: 388ms\tremaining: 246ms\n",
      "612:\tlearn: 0.0175856\ttotal: 388ms\tremaining: 245ms\n",
      "613:\tlearn: 0.0175729\ttotal: 388ms\tremaining: 244ms\n",
      "614:\tlearn: 0.0175628\ttotal: 389ms\tremaining: 243ms\n",
      "615:\tlearn: 0.0175531\ttotal: 389ms\tremaining: 242ms\n",
      "616:\tlearn: 0.0175409\ttotal: 389ms\tremaining: 242ms\n",
      "617:\tlearn: 0.0175258\ttotal: 389ms\tremaining: 241ms\n",
      "618:\tlearn: 0.0175099\ttotal: 390ms\tremaining: 240ms\n",
      "619:\tlearn: 0.0174807\ttotal: 390ms\tremaining: 239ms\n",
      "620:\tlearn: 0.0174619\ttotal: 390ms\tremaining: 238ms\n",
      "621:\tlearn: 0.0174363\ttotal: 391ms\tremaining: 237ms\n",
      "622:\tlearn: 0.0174207\ttotal: 391ms\tremaining: 236ms\n",
      "623:\tlearn: 0.0173894\ttotal: 391ms\tremaining: 236ms\n",
      "624:\tlearn: 0.0173852\ttotal: 391ms\tremaining: 235ms\n",
      "625:\tlearn: 0.0173638\ttotal: 392ms\tremaining: 234ms\n",
      "626:\tlearn: 0.0173519\ttotal: 392ms\tremaining: 233ms\n",
      "627:\tlearn: 0.0173319\ttotal: 392ms\tremaining: 232ms\n",
      "628:\tlearn: 0.0172934\ttotal: 392ms\tremaining: 231ms\n",
      "629:\tlearn: 0.0172730\ttotal: 393ms\tremaining: 231ms\n",
      "630:\tlearn: 0.0172602\ttotal: 393ms\tremaining: 230ms\n",
      "631:\tlearn: 0.0172403\ttotal: 393ms\tremaining: 229ms\n",
      "632:\tlearn: 0.0172284\ttotal: 394ms\tremaining: 228ms\n",
      "633:\tlearn: 0.0172145\ttotal: 394ms\tremaining: 227ms\n",
      "634:\tlearn: 0.0172059\ttotal: 394ms\tremaining: 227ms\n",
      "635:\tlearn: 0.0171960\ttotal: 394ms\tremaining: 226ms\n",
      "636:\tlearn: 0.0171844\ttotal: 395ms\tremaining: 225ms\n",
      "637:\tlearn: 0.0171751\ttotal: 395ms\tremaining: 224ms\n",
      "638:\tlearn: 0.0171669\ttotal: 396ms\tremaining: 224ms\n",
      "639:\tlearn: 0.0171552\ttotal: 396ms\tremaining: 223ms\n",
      "640:\tlearn: 0.0171359\ttotal: 396ms\tremaining: 222ms\n",
      "641:\tlearn: 0.0171276\ttotal: 396ms\tremaining: 221ms\n",
      "642:\tlearn: 0.0171157\ttotal: 397ms\tremaining: 220ms\n",
      "643:\tlearn: 0.0171050\ttotal: 397ms\tremaining: 219ms\n",
      "644:\tlearn: 0.0170559\ttotal: 397ms\tremaining: 219ms\n",
      "645:\tlearn: 0.0170206\ttotal: 398ms\tremaining: 218ms\n",
      "646:\tlearn: 0.0170068\ttotal: 398ms\tremaining: 217ms\n",
      "647:\tlearn: 0.0169957\ttotal: 398ms\tremaining: 216ms\n",
      "648:\tlearn: 0.0169758\ttotal: 398ms\tremaining: 215ms\n",
      "649:\tlearn: 0.0169646\ttotal: 399ms\tremaining: 215ms\n",
      "650:\tlearn: 0.0169518\ttotal: 399ms\tremaining: 214ms\n",
      "651:\tlearn: 0.0169338\ttotal: 399ms\tremaining: 213ms\n",
      "652:\tlearn: 0.0169242\ttotal: 399ms\tremaining: 212ms\n",
      "653:\tlearn: 0.0169134\ttotal: 400ms\tremaining: 211ms\n",
      "654:\tlearn: 0.0169016\ttotal: 400ms\tremaining: 211ms\n",
      "655:\tlearn: 0.0168861\ttotal: 400ms\tremaining: 210ms\n",
      "656:\tlearn: 0.0168756\ttotal: 401ms\tremaining: 209ms\n",
      "657:\tlearn: 0.0168643\ttotal: 401ms\tremaining: 209ms\n",
      "658:\tlearn: 0.0168369\ttotal: 402ms\tremaining: 208ms\n",
      "659:\tlearn: 0.0168266\ttotal: 402ms\tremaining: 207ms\n",
      "660:\tlearn: 0.0168052\ttotal: 403ms\tremaining: 206ms\n",
      "661:\tlearn: 0.0167974\ttotal: 404ms\tremaining: 206ms\n",
      "662:\tlearn: 0.0167867\ttotal: 404ms\tremaining: 205ms\n",
      "663:\tlearn: 0.0167573\ttotal: 404ms\tremaining: 204ms\n",
      "664:\tlearn: 0.0167388\ttotal: 404ms\tremaining: 204ms\n",
      "665:\tlearn: 0.0167261\ttotal: 405ms\tremaining: 203ms\n",
      "666:\tlearn: 0.0167135\ttotal: 405ms\tremaining: 202ms\n",
      "667:\tlearn: 0.0166987\ttotal: 405ms\tremaining: 201ms\n",
      "668:\tlearn: 0.0166829\ttotal: 405ms\tremaining: 201ms\n",
      "669:\tlearn: 0.0166675\ttotal: 406ms\tremaining: 200ms\n",
      "670:\tlearn: 0.0166484\ttotal: 406ms\tremaining: 199ms\n",
      "671:\tlearn: 0.0166334\ttotal: 406ms\tremaining: 198ms\n",
      "672:\tlearn: 0.0166191\ttotal: 407ms\tremaining: 198ms\n",
      "673:\tlearn: 0.0165899\ttotal: 407ms\tremaining: 197ms\n",
      "674:\tlearn: 0.0165866\ttotal: 407ms\tremaining: 196ms\n",
      "675:\tlearn: 0.0165704\ttotal: 407ms\tremaining: 195ms\n",
      "676:\tlearn: 0.0165527\ttotal: 408ms\tremaining: 195ms\n",
      "677:\tlearn: 0.0165334\ttotal: 408ms\tremaining: 194ms\n",
      "678:\tlearn: 0.0165293\ttotal: 409ms\tremaining: 193ms\n",
      "679:\tlearn: 0.0165076\ttotal: 409ms\tremaining: 193ms\n",
      "680:\tlearn: 0.0164909\ttotal: 409ms\tremaining: 192ms\n",
      "681:\tlearn: 0.0164816\ttotal: 410ms\tremaining: 191ms\n",
      "682:\tlearn: 0.0164583\ttotal: 410ms\tremaining: 190ms\n",
      "683:\tlearn: 0.0164436\ttotal: 410ms\tremaining: 190ms\n",
      "684:\tlearn: 0.0164397\ttotal: 411ms\tremaining: 189ms\n",
      "685:\tlearn: 0.0164328\ttotal: 411ms\tremaining: 188ms\n",
      "686:\tlearn: 0.0164171\ttotal: 411ms\tremaining: 187ms\n",
      "687:\tlearn: 0.0164055\ttotal: 412ms\tremaining: 187ms\n",
      "688:\tlearn: 0.0163898\ttotal: 412ms\tremaining: 186ms\n",
      "689:\tlearn: 0.0163744\ttotal: 412ms\tremaining: 185ms\n",
      "690:\tlearn: 0.0163618\ttotal: 413ms\tremaining: 185ms\n",
      "691:\tlearn: 0.0163563\ttotal: 413ms\tremaining: 184ms\n",
      "692:\tlearn: 0.0163291\ttotal: 413ms\tremaining: 183ms\n",
      "693:\tlearn: 0.0163226\ttotal: 414ms\tremaining: 182ms\n",
      "694:\tlearn: 0.0163062\ttotal: 414ms\tremaining: 182ms\n",
      "695:\tlearn: 0.0162974\ttotal: 414ms\tremaining: 181ms\n"
     ]
    },
    {
     "name": "stdout",
     "output_type": "stream",
     "text": [
      "696:\tlearn: 0.0162872\ttotal: 414ms\tremaining: 180ms\n",
      "697:\tlearn: 0.0162713\ttotal: 415ms\tremaining: 179ms\n",
      "698:\tlearn: 0.0162613\ttotal: 415ms\tremaining: 179ms\n",
      "699:\tlearn: 0.0162260\ttotal: 416ms\tremaining: 178ms\n",
      "700:\tlearn: 0.0162056\ttotal: 417ms\tremaining: 178ms\n",
      "701:\tlearn: 0.0162030\ttotal: 417ms\tremaining: 177ms\n",
      "702:\tlearn: 0.0161976\ttotal: 418ms\tremaining: 177ms\n",
      "703:\tlearn: 0.0161860\ttotal: 418ms\tremaining: 176ms\n",
      "704:\tlearn: 0.0161795\ttotal: 419ms\tremaining: 175ms\n",
      "705:\tlearn: 0.0161691\ttotal: 419ms\tremaining: 174ms\n",
      "706:\tlearn: 0.0161659\ttotal: 419ms\tremaining: 174ms\n",
      "707:\tlearn: 0.0161551\ttotal: 420ms\tremaining: 173ms\n",
      "708:\tlearn: 0.0161239\ttotal: 420ms\tremaining: 172ms\n",
      "709:\tlearn: 0.0161142\ttotal: 420ms\tremaining: 172ms\n",
      "710:\tlearn: 0.0161016\ttotal: 420ms\tremaining: 171ms\n",
      "711:\tlearn: 0.0160760\ttotal: 421ms\tremaining: 170ms\n",
      "712:\tlearn: 0.0160609\ttotal: 421ms\tremaining: 170ms\n",
      "713:\tlearn: 0.0160459\ttotal: 421ms\tremaining: 169ms\n",
      "714:\tlearn: 0.0160412\ttotal: 422ms\tremaining: 168ms\n",
      "715:\tlearn: 0.0160285\ttotal: 422ms\tremaining: 168ms\n",
      "716:\tlearn: 0.0160146\ttotal: 423ms\tremaining: 167ms\n",
      "717:\tlearn: 0.0159978\ttotal: 423ms\tremaining: 166ms\n",
      "718:\tlearn: 0.0159916\ttotal: 423ms\tremaining: 165ms\n",
      "719:\tlearn: 0.0159715\ttotal: 425ms\tremaining: 165ms\n",
      "720:\tlearn: 0.0159627\ttotal: 426ms\tremaining: 165ms\n",
      "721:\tlearn: 0.0159482\ttotal: 428ms\tremaining: 165ms\n",
      "722:\tlearn: 0.0159440\ttotal: 429ms\tremaining: 165ms\n",
      "723:\tlearn: 0.0159365\ttotal: 430ms\tremaining: 164ms\n",
      "724:\tlearn: 0.0159224\ttotal: 431ms\tremaining: 163ms\n",
      "725:\tlearn: 0.0159128\ttotal: 431ms\tremaining: 163ms\n",
      "726:\tlearn: 0.0159036\ttotal: 432ms\tremaining: 162ms\n",
      "727:\tlearn: 0.0158896\ttotal: 433ms\tremaining: 162ms\n",
      "728:\tlearn: 0.0158829\ttotal: 433ms\tremaining: 161ms\n",
      "729:\tlearn: 0.0158567\ttotal: 433ms\tremaining: 160ms\n",
      "730:\tlearn: 0.0158428\ttotal: 434ms\tremaining: 160ms\n",
      "731:\tlearn: 0.0158250\ttotal: 434ms\tremaining: 159ms\n",
      "732:\tlearn: 0.0158180\ttotal: 434ms\tremaining: 158ms\n",
      "733:\tlearn: 0.0158076\ttotal: 435ms\tremaining: 158ms\n",
      "734:\tlearn: 0.0158023\ttotal: 437ms\tremaining: 157ms\n",
      "735:\tlearn: 0.0157883\ttotal: 440ms\tremaining: 158ms\n",
      "736:\tlearn: 0.0157773\ttotal: 441ms\tremaining: 157ms\n",
      "737:\tlearn: 0.0157656\ttotal: 442ms\tremaining: 157ms\n",
      "738:\tlearn: 0.0157458\ttotal: 444ms\tremaining: 157ms\n",
      "739:\tlearn: 0.0157277\ttotal: 445ms\tremaining: 156ms\n",
      "740:\tlearn: 0.0157229\ttotal: 446ms\tremaining: 156ms\n",
      "741:\tlearn: 0.0157114\ttotal: 446ms\tremaining: 155ms\n",
      "742:\tlearn: 0.0157041\ttotal: 448ms\tremaining: 155ms\n",
      "743:\tlearn: 0.0156842\ttotal: 449ms\tremaining: 154ms\n",
      "744:\tlearn: 0.0156822\ttotal: 450ms\tremaining: 154ms\n",
      "745:\tlearn: 0.0156728\ttotal: 450ms\tremaining: 153ms\n",
      "746:\tlearn: 0.0156662\ttotal: 451ms\tremaining: 153ms\n",
      "747:\tlearn: 0.0156631\ttotal: 451ms\tremaining: 152ms\n",
      "748:\tlearn: 0.0156502\ttotal: 452ms\tremaining: 152ms\n",
      "749:\tlearn: 0.0156450\ttotal: 453ms\tremaining: 151ms\n",
      "750:\tlearn: 0.0156354\ttotal: 455ms\tremaining: 151ms\n",
      "751:\tlearn: 0.0156304\ttotal: 457ms\tremaining: 151ms\n",
      "752:\tlearn: 0.0156190\ttotal: 458ms\tremaining: 150ms\n",
      "753:\tlearn: 0.0156096\ttotal: 463ms\tremaining: 151ms\n",
      "754:\tlearn: 0.0155877\ttotal: 463ms\tremaining: 150ms\n",
      "755:\tlearn: 0.0155439\ttotal: 464ms\tremaining: 150ms\n",
      "756:\tlearn: 0.0155120\ttotal: 464ms\tremaining: 149ms\n",
      "757:\tlearn: 0.0155025\ttotal: 465ms\tremaining: 149ms\n",
      "758:\tlearn: 0.0154975\ttotal: 470ms\tremaining: 149ms\n",
      "759:\tlearn: 0.0154929\ttotal: 471ms\tremaining: 149ms\n",
      "760:\tlearn: 0.0154776\ttotal: 472ms\tremaining: 148ms\n",
      "761:\tlearn: 0.0154684\ttotal: 474ms\tremaining: 148ms\n",
      "762:\tlearn: 0.0154572\ttotal: 476ms\tremaining: 148ms\n",
      "763:\tlearn: 0.0154440\ttotal: 477ms\tremaining: 147ms\n",
      "764:\tlearn: 0.0154214\ttotal: 477ms\tremaining: 147ms\n",
      "765:\tlearn: 0.0154128\ttotal: 478ms\tremaining: 146ms\n",
      "766:\tlearn: 0.0154051\ttotal: 481ms\tremaining: 146ms\n",
      "767:\tlearn: 0.0153931\ttotal: 482ms\tremaining: 146ms\n",
      "768:\tlearn: 0.0153748\ttotal: 483ms\tremaining: 145ms\n",
      "769:\tlearn: 0.0153641\ttotal: 483ms\tremaining: 144ms\n",
      "770:\tlearn: 0.0153510\ttotal: 486ms\tremaining: 144ms\n"
     ]
    },
    {
     "name": "stdout",
     "output_type": "stream",
     "text": [
      "771:\tlearn: 0.0153442\ttotal: 489ms\tremaining: 144ms\n",
      "772:\tlearn: 0.0153292\ttotal: 489ms\tremaining: 144ms\n",
      "773:\tlearn: 0.0153076\ttotal: 496ms\tremaining: 145ms\n",
      "774:\tlearn: 0.0152802\ttotal: 499ms\tremaining: 145ms\n",
      "775:\tlearn: 0.0152658\ttotal: 503ms\tremaining: 145ms\n",
      "776:\tlearn: 0.0152537\ttotal: 503ms\tremaining: 144ms\n",
      "777:\tlearn: 0.0152444\ttotal: 504ms\tremaining: 144ms\n",
      "778:\tlearn: 0.0152372\ttotal: 505ms\tremaining: 143ms\n",
      "779:\tlearn: 0.0152288\ttotal: 507ms\tremaining: 143ms\n",
      "780:\tlearn: 0.0152130\ttotal: 507ms\tremaining: 142ms\n",
      "781:\tlearn: 0.0151999\ttotal: 507ms\tremaining: 141ms\n",
      "782:\tlearn: 0.0151875\ttotal: 509ms\tremaining: 141ms\n",
      "783:\tlearn: 0.0151759\ttotal: 509ms\tremaining: 140ms\n",
      "784:\tlearn: 0.0151652\ttotal: 510ms\tremaining: 140ms\n",
      "785:\tlearn: 0.0151591\ttotal: 511ms\tremaining: 139ms\n",
      "786:\tlearn: 0.0151455\ttotal: 511ms\tremaining: 138ms\n",
      "787:\tlearn: 0.0151314\ttotal: 512ms\tremaining: 138ms\n",
      "788:\tlearn: 0.0151183\ttotal: 512ms\tremaining: 137ms\n",
      "789:\tlearn: 0.0151097\ttotal: 513ms\tremaining: 136ms\n",
      "790:\tlearn: 0.0151018\ttotal: 513ms\tremaining: 136ms\n",
      "791:\tlearn: 0.0150878\ttotal: 513ms\tremaining: 135ms\n",
      "792:\tlearn: 0.0150500\ttotal: 515ms\tremaining: 134ms\n",
      "793:\tlearn: 0.0150405\ttotal: 515ms\tremaining: 134ms\n",
      "794:\tlearn: 0.0150283\ttotal: 516ms\tremaining: 133ms\n",
      "795:\tlearn: 0.0150194\ttotal: 517ms\tremaining: 132ms\n",
      "796:\tlearn: 0.0150094\ttotal: 517ms\tremaining: 132ms\n",
      "797:\tlearn: 0.0149893\ttotal: 517ms\tremaining: 131ms\n",
      "798:\tlearn: 0.0149703\ttotal: 518ms\tremaining: 130ms\n",
      "799:\tlearn: 0.0149580\ttotal: 519ms\tremaining: 130ms\n",
      "800:\tlearn: 0.0149357\ttotal: 519ms\tremaining: 129ms\n",
      "801:\tlearn: 0.0149275\ttotal: 520ms\tremaining: 128ms\n",
      "802:\tlearn: 0.0149238\ttotal: 520ms\tremaining: 128ms\n",
      "803:\tlearn: 0.0149095\ttotal: 520ms\tremaining: 127ms\n",
      "804:\tlearn: 0.0148925\ttotal: 520ms\tremaining: 126ms\n",
      "805:\tlearn: 0.0148829\ttotal: 521ms\tremaining: 125ms\n",
      "806:\tlearn: 0.0148649\ttotal: 521ms\tremaining: 125ms\n",
      "807:\tlearn: 0.0148346\ttotal: 521ms\tremaining: 124ms\n",
      "808:\tlearn: 0.0148266\ttotal: 522ms\tremaining: 123ms\n",
      "809:\tlearn: 0.0148165\ttotal: 522ms\tremaining: 122ms\n",
      "810:\tlearn: 0.0148084\ttotal: 523ms\tremaining: 122ms\n",
      "811:\tlearn: 0.0147892\ttotal: 523ms\tremaining: 121ms\n",
      "812:\tlearn: 0.0147760\ttotal: 523ms\tremaining: 120ms\n",
      "813:\tlearn: 0.0147684\ttotal: 524ms\tremaining: 120ms\n",
      "814:\tlearn: 0.0147569\ttotal: 524ms\tremaining: 119ms\n",
      "815:\tlearn: 0.0147300\ttotal: 524ms\tremaining: 118ms\n",
      "816:\tlearn: 0.0147192\ttotal: 525ms\tremaining: 118ms\n",
      "817:\tlearn: 0.0147030\ttotal: 525ms\tremaining: 117ms\n",
      "818:\tlearn: 0.0146756\ttotal: 525ms\tremaining: 116ms\n",
      "819:\tlearn: 0.0146662\ttotal: 526ms\tremaining: 115ms\n",
      "820:\tlearn: 0.0146549\ttotal: 526ms\tremaining: 115ms\n",
      "821:\tlearn: 0.0146446\ttotal: 526ms\tremaining: 114ms\n",
      "822:\tlearn: 0.0146379\ttotal: 526ms\tremaining: 113ms\n",
      "823:\tlearn: 0.0146295\ttotal: 527ms\tremaining: 113ms\n",
      "824:\tlearn: 0.0146206\ttotal: 528ms\tremaining: 112ms\n",
      "825:\tlearn: 0.0146040\ttotal: 528ms\tremaining: 111ms\n",
      "826:\tlearn: 0.0145916\ttotal: 528ms\tremaining: 111ms\n",
      "827:\tlearn: 0.0145699\ttotal: 529ms\tremaining: 110ms\n",
      "828:\tlearn: 0.0145558\ttotal: 530ms\tremaining: 109ms\n",
      "829:\tlearn: 0.0145422\ttotal: 530ms\tremaining: 109ms\n",
      "830:\tlearn: 0.0145282\ttotal: 530ms\tremaining: 108ms\n",
      "831:\tlearn: 0.0145238\ttotal: 530ms\tremaining: 107ms\n",
      "832:\tlearn: 0.0145197\ttotal: 531ms\tremaining: 106ms\n",
      "833:\tlearn: 0.0145113\ttotal: 531ms\tremaining: 106ms\n",
      "834:\tlearn: 0.0144984\ttotal: 531ms\tremaining: 105ms\n",
      "835:\tlearn: 0.0144860\ttotal: 532ms\tremaining: 104ms\n",
      "836:\tlearn: 0.0144805\ttotal: 532ms\tremaining: 104ms\n",
      "837:\tlearn: 0.0144728\ttotal: 532ms\tremaining: 103ms\n"
     ]
    },
    {
     "name": "stdout",
     "output_type": "stream",
     "text": [
      "838:\tlearn: 0.0144624\ttotal: 532ms\tremaining: 102ms\n",
      "839:\tlearn: 0.0144521\ttotal: 537ms\tremaining: 102ms\n",
      "840:\tlearn: 0.0144479\ttotal: 538ms\tremaining: 102ms\n",
      "841:\tlearn: 0.0144387\ttotal: 538ms\tremaining: 101ms\n",
      "842:\tlearn: 0.0144265\ttotal: 538ms\tremaining: 100ms\n",
      "843:\tlearn: 0.0144141\ttotal: 538ms\tremaining: 99.5ms\n",
      "844:\tlearn: 0.0144040\ttotal: 539ms\tremaining: 98.8ms\n",
      "845:\tlearn: 0.0143990\ttotal: 539ms\tremaining: 98.1ms\n",
      "846:\tlearn: 0.0143774\ttotal: 539ms\tremaining: 97.4ms\n",
      "847:\tlearn: 0.0143629\ttotal: 546ms\tremaining: 97.9ms\n",
      "848:\tlearn: 0.0143436\ttotal: 546ms\tremaining: 97.2ms\n",
      "849:\tlearn: 0.0143345\ttotal: 547ms\tremaining: 96.5ms\n",
      "850:\tlearn: 0.0143266\ttotal: 547ms\tremaining: 95.8ms\n",
      "851:\tlearn: 0.0143167\ttotal: 547ms\tremaining: 95.1ms\n",
      "852:\tlearn: 0.0143042\ttotal: 547ms\tremaining: 94.3ms\n",
      "853:\tlearn: 0.0142955\ttotal: 548ms\tremaining: 93.7ms\n",
      "854:\tlearn: 0.0142863\ttotal: 548ms\tremaining: 93ms\n",
      "855:\tlearn: 0.0142665\ttotal: 548ms\tremaining: 92.2ms\n",
      "856:\tlearn: 0.0142599\ttotal: 549ms\tremaining: 91.5ms\n",
      "857:\tlearn: 0.0142512\ttotal: 549ms\tremaining: 90.9ms\n",
      "858:\tlearn: 0.0142430\ttotal: 555ms\tremaining: 91.1ms\n",
      "859:\tlearn: 0.0142314\ttotal: 556ms\tremaining: 90.5ms\n",
      "860:\tlearn: 0.0142187\ttotal: 556ms\tremaining: 89.8ms\n",
      "861:\tlearn: 0.0142116\ttotal: 557ms\tremaining: 89.2ms\n",
      "862:\tlearn: 0.0142042\ttotal: 558ms\tremaining: 88.5ms\n",
      "863:\tlearn: 0.0141993\ttotal: 558ms\tremaining: 87.8ms\n",
      "864:\tlearn: 0.0141955\ttotal: 558ms\tremaining: 87.1ms\n",
      "865:\tlearn: 0.0141886\ttotal: 559ms\tremaining: 86.5ms\n",
      "866:\tlearn: 0.0141800\ttotal: 559ms\tremaining: 85.8ms\n",
      "867:\tlearn: 0.0141750\ttotal: 560ms\tremaining: 85.1ms\n",
      "868:\tlearn: 0.0141585\ttotal: 560ms\tremaining: 84.5ms\n",
      "869:\tlearn: 0.0141310\ttotal: 561ms\tremaining: 83.8ms\n",
      "870:\tlearn: 0.0141190\ttotal: 561ms\tremaining: 83.1ms\n",
      "871:\tlearn: 0.0141076\ttotal: 562ms\tremaining: 82.4ms\n",
      "872:\tlearn: 0.0141004\ttotal: 562ms\tremaining: 81.7ms\n",
      "873:\tlearn: 0.0140958\ttotal: 563ms\tremaining: 81.1ms\n",
      "874:\tlearn: 0.0140755\ttotal: 563ms\tremaining: 80.5ms\n",
      "875:\tlearn: 0.0140653\ttotal: 563ms\tremaining: 79.8ms\n",
      "876:\tlearn: 0.0140548\ttotal: 564ms\tremaining: 79.1ms\n",
      "877:\tlearn: 0.0140451\ttotal: 564ms\tremaining: 78.4ms\n",
      "878:\tlearn: 0.0140289\ttotal: 565ms\tremaining: 77.8ms\n",
      "879:\tlearn: 0.0140168\ttotal: 566ms\tremaining: 77.1ms\n",
      "880:\tlearn: 0.0140089\ttotal: 566ms\tremaining: 76.4ms\n",
      "881:\tlearn: 0.0140007\ttotal: 566ms\tremaining: 75.8ms\n",
      "882:\tlearn: 0.0139930\ttotal: 567ms\tremaining: 75.1ms\n",
      "883:\tlearn: 0.0139848\ttotal: 567ms\tremaining: 74.4ms\n",
      "884:\tlearn: 0.0139782\ttotal: 568ms\tremaining: 73.8ms\n",
      "885:\tlearn: 0.0139674\ttotal: 568ms\tremaining: 73.1ms\n",
      "886:\tlearn: 0.0139532\ttotal: 569ms\tremaining: 72.4ms\n",
      "887:\tlearn: 0.0139436\ttotal: 569ms\tremaining: 71.8ms\n",
      "888:\tlearn: 0.0139222\ttotal: 569ms\tremaining: 71.1ms\n",
      "889:\tlearn: 0.0139039\ttotal: 570ms\tremaining: 70.5ms\n",
      "890:\tlearn: 0.0138967\ttotal: 571ms\tremaining: 69.8ms\n",
      "891:\tlearn: 0.0138742\ttotal: 571ms\tremaining: 69.1ms\n",
      "892:\tlearn: 0.0138547\ttotal: 571ms\tremaining: 68.5ms\n",
      "893:\tlearn: 0.0138363\ttotal: 572ms\tremaining: 67.8ms\n",
      "894:\tlearn: 0.0138233\ttotal: 572ms\tremaining: 67.2ms\n",
      "895:\tlearn: 0.0138183\ttotal: 573ms\tremaining: 66.5ms\n",
      "896:\tlearn: 0.0138121\ttotal: 573ms\tremaining: 65.8ms\n",
      "897:\tlearn: 0.0137788\ttotal: 574ms\tremaining: 65.1ms\n",
      "898:\tlearn: 0.0137675\ttotal: 574ms\tremaining: 64.5ms\n",
      "899:\tlearn: 0.0137600\ttotal: 574ms\tremaining: 63.8ms\n",
      "900:\tlearn: 0.0137577\ttotal: 575ms\tremaining: 63.1ms\n",
      "901:\tlearn: 0.0137502\ttotal: 575ms\tremaining: 62.4ms\n",
      "902:\tlearn: 0.0137368\ttotal: 576ms\tremaining: 61.8ms\n",
      "903:\tlearn: 0.0137318\ttotal: 577ms\tremaining: 61.3ms\n",
      "904:\tlearn: 0.0137247\ttotal: 578ms\tremaining: 60.7ms\n",
      "905:\tlearn: 0.0137096\ttotal: 579ms\tremaining: 60.1ms\n",
      "906:\tlearn: 0.0137057\ttotal: 579ms\tremaining: 59.4ms\n",
      "907:\tlearn: 0.0136916\ttotal: 580ms\tremaining: 58.7ms\n",
      "908:\tlearn: 0.0136870\ttotal: 580ms\tremaining: 58.1ms\n",
      "909:\tlearn: 0.0136709\ttotal: 580ms\tremaining: 57.4ms\n",
      "910:\tlearn: 0.0136602\ttotal: 581ms\tremaining: 56.7ms\n",
      "911:\tlearn: 0.0136533\ttotal: 581ms\tremaining: 56.1ms\n",
      "912:\tlearn: 0.0136461\ttotal: 581ms\tremaining: 55.4ms\n",
      "913:\tlearn: 0.0136411\ttotal: 581ms\tremaining: 54.7ms\n",
      "914:\tlearn: 0.0136296\ttotal: 582ms\tremaining: 54.1ms\n",
      "915:\tlearn: 0.0136265\ttotal: 582ms\tremaining: 53.4ms\n",
      "916:\tlearn: 0.0136188\ttotal: 582ms\tremaining: 52.7ms\n",
      "917:\tlearn: 0.0136136\ttotal: 583ms\tremaining: 52ms\n",
      "918:\tlearn: 0.0135938\ttotal: 583ms\tremaining: 51.4ms\n",
      "919:\tlearn: 0.0135867\ttotal: 584ms\tremaining: 50.8ms\n",
      "920:\tlearn: 0.0135810\ttotal: 585ms\tremaining: 50.2ms\n",
      "921:\tlearn: 0.0135739\ttotal: 585ms\tremaining: 49.5ms\n",
      "922:\tlearn: 0.0135644\ttotal: 586ms\tremaining: 48.9ms\n",
      "923:\tlearn: 0.0135539\ttotal: 589ms\tremaining: 48.5ms\n",
      "924:\tlearn: 0.0135384\ttotal: 590ms\tremaining: 47.8ms\n",
      "925:\tlearn: 0.0135240\ttotal: 590ms\tremaining: 47.2ms\n",
      "926:\tlearn: 0.0135176\ttotal: 591ms\tremaining: 46.5ms\n",
      "927:\tlearn: 0.0135109\ttotal: 591ms\tremaining: 45.9ms\n",
      "928:\tlearn: 0.0134871\ttotal: 592ms\tremaining: 45.2ms\n",
      "929:\tlearn: 0.0134727\ttotal: 592ms\tremaining: 44.6ms\n",
      "930:\tlearn: 0.0134631\ttotal: 593ms\tremaining: 43.9ms\n",
      "931:\tlearn: 0.0134555\ttotal: 593ms\tremaining: 43.3ms\n",
      "932:\tlearn: 0.0134526\ttotal: 594ms\tremaining: 42.6ms\n",
      "933:\tlearn: 0.0134481\ttotal: 595ms\tremaining: 42.1ms\n",
      "934:\tlearn: 0.0134404\ttotal: 596ms\tremaining: 41.4ms\n",
      "935:\tlearn: 0.0134178\ttotal: 598ms\tremaining: 40.9ms\n",
      "936:\tlearn: 0.0134094\ttotal: 598ms\tremaining: 40.2ms\n",
      "937:\tlearn: 0.0133993\ttotal: 599ms\tremaining: 39.6ms\n",
      "938:\tlearn: 0.0133814\ttotal: 603ms\tremaining: 39.2ms\n",
      "939:\tlearn: 0.0133726\ttotal: 603ms\tremaining: 38.5ms\n",
      "940:\tlearn: 0.0133564\ttotal: 604ms\tremaining: 37.9ms\n",
      "941:\tlearn: 0.0133483\ttotal: 604ms\tremaining: 37.2ms\n",
      "942:\tlearn: 0.0133427\ttotal: 605ms\tremaining: 36.6ms\n",
      "943:\tlearn: 0.0133122\ttotal: 605ms\tremaining: 35.9ms\n",
      "944:\tlearn: 0.0133059\ttotal: 606ms\tremaining: 35.3ms\n",
      "945:\tlearn: 0.0132920\ttotal: 606ms\tremaining: 34.6ms\n",
      "946:\tlearn: 0.0132816\ttotal: 607ms\tremaining: 34ms\n",
      "947:\tlearn: 0.0132713\ttotal: 607ms\tremaining: 33.3ms\n",
      "948:\tlearn: 0.0132608\ttotal: 608ms\tremaining: 32.6ms\n",
      "949:\tlearn: 0.0132538\ttotal: 608ms\tremaining: 32ms\n",
      "950:\tlearn: 0.0132407\ttotal: 608ms\tremaining: 31.3ms\n",
      "951:\tlearn: 0.0132317\ttotal: 609ms\tremaining: 30.7ms\n",
      "952:\tlearn: 0.0132235\ttotal: 609ms\tremaining: 30ms\n",
      "953:\tlearn: 0.0132142\ttotal: 610ms\tremaining: 29.4ms\n",
      "954:\tlearn: 0.0132056\ttotal: 610ms\tremaining: 28.8ms\n",
      "955:\tlearn: 0.0131962\ttotal: 611ms\tremaining: 28.1ms\n",
      "956:\tlearn: 0.0131823\ttotal: 612ms\tremaining: 27.5ms\n",
      "957:\tlearn: 0.0131749\ttotal: 613ms\tremaining: 26.9ms\n",
      "958:\tlearn: 0.0131515\ttotal: 614ms\tremaining: 26.2ms\n",
      "959:\tlearn: 0.0131452\ttotal: 614ms\tremaining: 25.6ms\n",
      "960:\tlearn: 0.0131395\ttotal: 615ms\tremaining: 24.9ms\n",
      "961:\tlearn: 0.0131335\ttotal: 615ms\tremaining: 24.3ms\n",
      "962:\tlearn: 0.0131289\ttotal: 616ms\tremaining: 23.7ms\n",
      "963:\tlearn: 0.0131262\ttotal: 617ms\tremaining: 23ms\n",
      "964:\tlearn: 0.0131190\ttotal: 617ms\tremaining: 22.4ms\n",
      "965:\tlearn: 0.0131126\ttotal: 618ms\tremaining: 21.8ms\n",
      "966:\tlearn: 0.0131087\ttotal: 619ms\tremaining: 21.1ms\n",
      "967:\tlearn: 0.0131015\ttotal: 620ms\tremaining: 20.5ms\n",
      "968:\tlearn: 0.0130943\ttotal: 621ms\tremaining: 19.9ms\n",
      "969:\tlearn: 0.0130856\ttotal: 622ms\tremaining: 19.2ms\n",
      "970:\tlearn: 0.0130812\ttotal: 623ms\tremaining: 18.6ms\n",
      "971:\tlearn: 0.0130751\ttotal: 624ms\tremaining: 18ms\n",
      "972:\tlearn: 0.0130619\ttotal: 626ms\tremaining: 17.4ms\n",
      "973:\tlearn: 0.0130559\ttotal: 626ms\tremaining: 16.7ms\n",
      "974:\tlearn: 0.0130479\ttotal: 626ms\tremaining: 16.1ms\n",
      "975:\tlearn: 0.0130439\ttotal: 627ms\tremaining: 15.4ms\n",
      "976:\tlearn: 0.0130368\ttotal: 627ms\tremaining: 14.8ms\n",
      "977:\tlearn: 0.0130346\ttotal: 627ms\tremaining: 14.1ms\n",
      "978:\tlearn: 0.0130124\ttotal: 627ms\tremaining: 13.5ms\n",
      "979:\tlearn: 0.0130074\ttotal: 628ms\tremaining: 12.8ms\n",
      "980:\tlearn: 0.0129882\ttotal: 628ms\tremaining: 12.2ms\n",
      "981:\tlearn: 0.0129737\ttotal: 628ms\tremaining: 11.5ms\n",
      "982:\tlearn: 0.0129663\ttotal: 628ms\tremaining: 10.9ms\n",
      "983:\tlearn: 0.0129593\ttotal: 629ms\tremaining: 10.2ms\n",
      "984:\tlearn: 0.0129533\ttotal: 629ms\tremaining: 9.58ms\n",
      "985:\tlearn: 0.0129434\ttotal: 629ms\tremaining: 8.94ms\n",
      "986:\tlearn: 0.0129341\ttotal: 630ms\tremaining: 8.29ms\n",
      "987:\tlearn: 0.0129287\ttotal: 630ms\tremaining: 7.66ms\n",
      "988:\tlearn: 0.0129230\ttotal: 631ms\tremaining: 7.01ms\n",
      "989:\tlearn: 0.0129172\ttotal: 631ms\tremaining: 6.37ms\n",
      "990:\tlearn: 0.0129110\ttotal: 631ms\tremaining: 5.73ms\n",
      "991:\tlearn: 0.0129046\ttotal: 633ms\tremaining: 5.11ms\n"
     ]
    },
    {
     "name": "stdout",
     "output_type": "stream",
     "text": [
      "992:\tlearn: 0.0128985\ttotal: 637ms\tremaining: 4.49ms\n",
      "993:\tlearn: 0.0128813\ttotal: 640ms\tremaining: 3.86ms\n",
      "994:\tlearn: 0.0128746\ttotal: 641ms\tremaining: 3.22ms\n",
      "995:\tlearn: 0.0128689\ttotal: 642ms\tremaining: 2.58ms\n",
      "996:\tlearn: 0.0128596\ttotal: 642ms\tremaining: 1.93ms\n",
      "997:\tlearn: 0.0128544\ttotal: 642ms\tremaining: 1.29ms\n",
      "998:\tlearn: 0.0128449\ttotal: 643ms\tremaining: 643us\n",
      "999:\tlearn: 0.0128404\ttotal: 643ms\tremaining: 0us\n"
     ]
    },
    {
     "data": {
      "text/plain": [
       "<catboost.core.CatBoostRegressor at 0x7f9e7f5ce790>"
      ]
     },
     "execution_count": 9,
     "metadata": {},
     "output_type": "execute_result"
    }
   ],
   "source": [
    "#Train the Model \n",
    "prior_model = ctb.CatBoostRegressor()\n",
    "prior_model.fit(X_train,Y_train)"
   ]
  },
  {
   "cell_type": "code",
   "execution_count": 10,
   "id": "af65dcda",
   "metadata": {
    "execution": {
     "iopub.execute_input": "2022-07-24T12:53:03.774519Z",
     "iopub.status.busy": "2022-07-24T12:53:03.773837Z",
     "iopub.status.idle": "2022-07-24T12:53:03.807279Z",
     "shell.execute_reply": "2022-07-24T12:53:03.806547Z"
    },
    "id": "af65dcda",
    "papermill": {
     "duration": 0.053892,
     "end_time": "2022-07-24T12:53:03.810064",
     "exception": false,
     "start_time": "2022-07-24T12:53:03.756172",
     "status": "completed"
    },
    "tags": []
   },
   "outputs": [
    {
     "data": {
      "application/scrapbook.scrap.json+json": {
       "data": 0.0014134962694413418,
       "encoder": "json",
       "name": "Prior Model MSE",
       "version": 1
      }
     },
     "metadata": {
      "scrapbook": {
       "data": true,
       "display": false,
       "name": "Prior Model MSE"
      }
     },
     "output_type": "display_data"
    },
    {
     "data": {
      "application/scrapbook.scrap.json+json": {
       "data": 0.9987354415732281,
       "encoder": "json",
       "name": "ABC Pre-generator MSE",
       "version": 1
      }
     },
     "metadata": {
      "scrapbook": {
       "data": true,
       "display": false,
       "name": "ABC Pre-generator MSE"
      }
     },
     "output_type": "display_data"
    },
    {
     "data": {
      "application/scrapbook.scrap.json+json": {
       "data": 0.023280476181997176,
       "encoder": "json",
       "name": "Prior Model MAE",
       "version": 1
      }
     },
     "metadata": {
      "scrapbook": {
       "data": true,
       "display": false,
       "name": "Prior Model MAE"
      }
     },
     "output_type": "display_data"
    },
    {
     "name": "stdout",
     "output_type": "stream",
     "text": [
      "Prior Model MAE 0.023280476181997176\n",
      "ABC Pre-generator MAE 0.9986393363755186\n"
     ]
    }
   ],
   "source": [
    "y_pred = prior_model.predict(X_test)\n",
    "y_abc = y_pred + np.random.normal(0,variance, y_pred.shape) + bias \n",
    "mse = mean_squared_error(y_pred,Y_test)\n",
    "sb.glue(\"Prior Model MSE\",mse)\n",
    "mse = mean_squared_error(y_abc,Y_test)\n",
    "sb.glue(\"ABC Pre-generator MSE\",mse)\n",
    "mae = mean_absolute_error(y_pred,Y_test)\n",
    "sb.glue(\"Prior Model MAE\",mae)\n",
    "print(\"Prior Model MAE\",mae)\n",
    "mae = mean_absolute_error(y_abc,Y_test)\n",
    "print(\"ABC Pre-generator MAE\",mae)"
   ]
  },
  {
   "cell_type": "markdown",
   "id": "25609da2",
   "metadata": {
    "papermill": {
     "duration": 0.026845,
     "end_time": "2022-07-24T12:53:03.848543",
     "exception": false,
     "start_time": "2022-07-24T12:53:03.821698",
     "status": "completed"
    },
    "tags": []
   },
   "source": [
    "# mGAN Model"
   ]
  },
  {
   "cell_type": "code",
   "execution_count": 11,
   "id": "dfc3464d",
   "metadata": {
    "execution": {
     "iopub.execute_input": "2022-07-24T12:53:03.894411Z",
     "iopub.status.busy": "2022-07-24T12:53:03.891389Z",
     "iopub.status.idle": "2022-07-24T12:53:03.901697Z",
     "shell.execute_reply": "2022-07-24T12:53:03.900847Z"
    },
    "papermill": {
     "duration": 0.049256,
     "end_time": "2022-07-24T12:53:03.914020",
     "exception": false,
     "start_time": "2022-07-24T12:53:03.864764",
     "status": "completed"
    },
    "tags": []
   },
   "outputs": [],
   "source": [
    "# gen = network.Generator(n_features+1).to(device)\n",
    "# disc = network.Discriminator(n_features+1).to(device)\n",
    "\n",
    "# criterion = torch.nn.BCELoss()\n",
    "# gen_opt = torch.optim.Adam(gen.parameters(), lr=0.01, betas=(0.5, 0.999))\n",
    "# disc_opt = torch.optim.Adam(disc.parameters(), lr=0.01, betas=(0.5, 0.999))"
   ]
  },
  {
   "cell_type": "code",
   "execution_count": 12,
   "id": "b75fdd85",
   "metadata": {
    "execution": {
     "iopub.execute_input": "2022-07-24T12:53:03.948276Z",
     "iopub.status.busy": "2022-07-24T12:53:03.947827Z",
     "iopub.status.idle": "2022-07-24T12:53:03.955637Z",
     "shell.execute_reply": "2022-07-24T12:53:03.953821Z"
    },
    "papermill": {
     "duration": 0.035074,
     "end_time": "2022-07-24T12:53:03.963671",
     "exception": false,
     "start_time": "2022-07-24T12:53:03.928597",
     "status": "completed"
    },
    "tags": []
   },
   "outputs": [],
   "source": [
    "#Training the ABC_GAN \n",
    "# ABC_train_test2.training_GAN(disc,gen,disc_opt,gen_opt,train_data,batch_size,n_epochs,criterion,prior_model,variance,bias,device)"
   ]
  },
  {
   "cell_type": "code",
   "execution_count": 13,
   "id": "1fa7c368",
   "metadata": {
    "execution": {
     "iopub.execute_input": "2022-07-24T12:53:03.997169Z",
     "iopub.status.busy": "2022-07-24T12:53:03.995998Z",
     "iopub.status.idle": "2022-07-24T12:53:04.007192Z",
     "shell.execute_reply": "2022-07-24T12:53:04.003136Z"
    },
    "papermill": {
     "duration": 0.034051,
     "end_time": "2022-07-24T12:53:04.013212",
     "exception": false,
     "start_time": "2022-07-24T12:53:03.979161",
     "status": "completed"
    },
    "tags": []
   },
   "outputs": [],
   "source": [
    "# ABC_GAN1_metrics=ABC_train_test2.test_generator(gen,test_data,prior_model,variance,bias,\"1\",device)\n",
    "# sb.glue(\"ABC_GAN_1 Metrics\",ABC_GAN1_metrics)\n",
    "\n",
    "# print(\"MAE\")\n",
    "# print(mean(ABC_GAN1_metrics[1]))"
   ]
  },
  {
   "cell_type": "code",
   "execution_count": 14,
   "id": "eb22ce5c",
   "metadata": {
    "execution": {
     "iopub.execute_input": "2022-07-24T12:53:04.041443Z",
     "iopub.status.busy": "2022-07-24T12:53:04.040834Z",
     "iopub.status.idle": "2022-07-24T12:53:04.045679Z",
     "shell.execute_reply": "2022-07-24T12:53:04.044120Z"
    },
    "papermill": {
     "duration": 0.019481,
     "end_time": "2022-07-24T12:53:04.048497",
     "exception": false,
     "start_time": "2022-07-24T12:53:04.029016",
     "status": "completed"
    },
    "tags": []
   },
   "outputs": [],
   "source": [
    "# sanityChecks.discProbVsError(train_data,disc,device)\n",
    "# sanityChecks.discProbVsError(test_data,disc,device)"
   ]
  },
  {
   "cell_type": "markdown",
   "id": "2b644a48",
   "metadata": {
    "papermill": {
     "duration": 0.012642,
     "end_time": "2022-07-24T12:53:04.071639",
     "exception": false,
     "start_time": "2022-07-24T12:53:04.058997",
     "status": "completed"
    },
    "tags": []
   },
   "source": [
    "# mGAN Model with TabNet Generator"
   ]
  },
  {
   "cell_type": "code",
   "execution_count": 15,
   "id": "b6793d0b",
   "metadata": {
    "execution": {
     "iopub.execute_input": "2022-07-24T12:53:04.097888Z",
     "iopub.status.busy": "2022-07-24T12:53:04.097511Z",
     "iopub.status.idle": "2022-07-24T12:53:04.107680Z",
     "shell.execute_reply": "2022-07-24T12:53:04.106514Z"
    },
    "papermill": {
     "duration": 0.027224,
     "end_time": "2022-07-24T12:53:04.110986",
     "exception": false,
     "start_time": "2022-07-24T12:53:04.083762",
     "status": "completed"
    },
    "tags": []
   },
   "outputs": [],
   "source": [
    "gen2 = network.GeneratorTabnet(n_features+1).to(device)\n",
    "disc2 = network.Discriminator(n_features+1).to(device)\n",
    "\n",
    "criterion = torch.nn.BCELoss()\n",
    "gen_opt = torch.optim.Adam(gen2.parameters(), lr=0.01, betas=(0.5, 0.999))\n",
    "disc_opt = torch.optim.Adam(disc2.parameters(), lr=0.01, betas=(0.5, 0.999))"
   ]
  },
  {
   "cell_type": "code",
   "execution_count": 16,
   "id": "a956eeb1",
   "metadata": {
    "execution": {
     "iopub.execute_input": "2022-07-24T12:53:04.140005Z",
     "iopub.status.busy": "2022-07-24T12:53:04.139687Z",
     "iopub.status.idle": "2022-07-24T12:58:21.569491Z",
     "shell.execute_reply": "2022-07-24T12:58:21.566791Z"
    },
    "papermill": {
     "duration": 317.465772,
     "end_time": "2022-07-24T12:58:21.588443",
     "exception": false,
     "start_time": "2022-07-24T12:53:04.122671",
     "status": "completed"
    },
    "tags": []
   },
   "outputs": [
    {
     "data": {
      "image/png": "[encoded data removed]",
      "text/plain": [
       "<Figure size 432x288 with 1 Axes>"
      ]
     },
     "metadata": {
      "needs_background": "light"
     },
     "output_type": "display_data"
    },
    {
     "data": {
      "image/png": "[encoded data removed]",
      "text/plain": [
       "<Figure size 432x288 with 1 Axes>"
      ]
     },
     "metadata": {
      "needs_background": "light"
     },
     "output_type": "display_data"
    }
   ],
   "source": [
    "#Training the ABC_GAN \n",
    "ABC_train_test2.training_GAN(disc2,gen2,disc_opt,gen_opt,train_data,batch_size,n_epochs,criterion,prior_model,variance,bias,device)"
   ]
  },
  {
   "cell_type": "code",
   "execution_count": 17,
   "id": "4dac79d8",
   "metadata": {
    "execution": {
     "iopub.execute_input": "2022-07-24T12:58:21.726250Z",
     "iopub.status.busy": "2022-07-24T12:58:21.724824Z",
     "iopub.status.idle": "2022-07-24T12:58:23.509710Z",
     "shell.execute_reply": "2022-07-24T12:58:23.499963Z"
    },
    "papermill": {
     "duration": 1.896594,
     "end_time": "2022-07-24T12:58:23.514834",
     "exception": false,
     "start_time": "2022-07-24T12:58:21.618240",
     "status": "completed"
    },
    "tags": []
   },
   "outputs": [
    {
     "data": {
      "application/scrapbook.scrap.json+json": {
       "data": 0.028917868269004485,
       "encoder": "json",
       "name": "ABC-GAN Model 1 MSE",
       "version": 1
      }
     },
     "metadata": {
      "scrapbook": {
       "data": true,
       "display": false,
       "name": "ABC-GAN Model 1 MSE"
      }
     },
     "output_type": "display_data"
    },
    {
     "data": {
      "application/scrapbook.scrap.json+json": {
       "data": 0.08247762201765141,
       "encoder": "json",
       "name": "ABC-GAN Model 1 MAE",
       "version": 1
      }
     },
     "metadata": {
      "scrapbook": {
       "data": true,
       "display": false,
       "name": "ABC-GAN Model 1 MAE"
      }
     },
     "output_type": "display_data"
    },
    {
     "data": {
      "application/scrapbook.scrap.json+json": {
       "data": 12.701553790718316,
       "encoder": "json",
       "name": "ABC-GAN Model 1 Manhattan Distance",
       "version": 1
      }
     },
     "metadata": {
      "scrapbook": {
       "data": true,
       "display": false,
       "name": "ABC-GAN Model 1 Manhattan Distance"
      }
     },
     "output_type": "display_data"
    },
    {
     "data": {
      "application/scrapbook.scrap.json+json": {
       "data": 2.1102936248250175,
       "encoder": "json",
       "name": "ABC-GAN Model 1 Euclidean distance",
       "version": 1
      }
     },
     "metadata": {
      "scrapbook": {
       "data": true,
       "display": false,
       "name": "ABC-GAN Model 1 Euclidean distance"
      }
     },
     "output_type": "display_data"
    },
    {
     "data": {
      "application/scrapbook.scrap.json+json": {
       "data": [
        [
         0.028985960379909092,
         0.02901325924867768,
         0.028777777730623916,
         0.028704186737627604,
         0.028863421093360313,
         0.02880789211283646,
         0.0288975364135748,
         0.02889368485262042,
         0.02892712076325573,
         0.028875317833356676,
         0.02892266045303613,
         0.02899115110870638,
         0.028888223199492188,
         0.028871492251805415,
         0.02885638621291004,
         0.028994747758384447,
         0.028835021996585265,
         0.028894902073527056,
         0.028929128919635477,
         0.028781821156705557,
         0.028931273609776157,
         0.02883025351700798,
         0.02882420545271773,
         0.028829313157029433,
         0.028888518017874263,
         0.02902061548182064,
         0.028847060655478717,
         0.028909698490076303,
         0.02873457080165782,
         0.028906789946750132,
         0.028945030120397484,
         0.02900292567772698,
         0.028810027563182825,
         0.028763563648238785,
         0.028990831772009194,
         0.028996453100389025,
         0.029024210907187868,
         0.028832499363441278,
         0.028994310353937118,
         0.02886700461950014,
         0.028985696965892732,
         0.028974850134191505,
         0.029055943123976583,
         0.029011507488469347,
         0.02889000900825082,
         0.02891276495432316,
         0.02869262290521728,
         0.029001128433968508,
         0.02901110145121259,
         0.028871479800465855,
         0.02879742227809815,
         0.028816047374639556,
         0.029009332594293273,
         0.028877507502310124,
         0.028972965239337938,
         0.028894034905760275,
         0.02883229397972083,
         0.028843631240222854,
         0.02885639963495049,
         0.02902503647101375,
         0.02887364351887133,
         0.02895678247753231,
         0.028918996974561618,
         0.029031849399884586,
         0.029000902838118053,
         0.0289340805231308,
         0.02902346358165596,
         0.028892650273014193,
         0.029118812462353275,
         0.028984949800832764,
         0.028875061817993562,
         0.028953218483447278,
         0.029030006983615686,
         0.029035232004522446,
         0.02897961675597352,
         0.028828766027323163,
         0.028916211536783237,
         0.0288391605909804,
         0.029020226352151936,
         0.029080744448878783,
         0.02897274372502409,
         0.02884450459254844,
         0.028897385859953217,
         0.02875767087470067,
         0.029115403860175307,
         0.02877936154715832,
         0.028881596586280492,
         0.02881794758325538,
         0.028831214636716535,
         0.028808931433909463,
         0.029244112698845165,
         0.029082726265075833,
         0.029053208476813162,
         0.028935617101696634,
         0.02889284715458221,
         0.028826425776913214,
         0.02893488463398291,
         0.029048631405197093,
         0.028930801169250252,
         0.02884381062759904
        ],
        [
         0.08276046258578827,
         0.0828176306004261,
         0.0824675482347027,
         0.08171048622530003,
         0.08244539107885454,
         0.0821625752640622,
         0.08215652848896268,
         0.08291552503677932,
         0.08154486233441087,
         0.08271700083338596,
         0.08228378546992679,
         0.08307409371164712,
         0.08189608405840088,
         0.08283548054660296,
         0.08200417475944216,
         0.08310737787419326,
         0.08203484909004205,
         0.0827766050911182,
         0.08216862639339713,
         0.08206607960164547,
         0.08249450269360821,
         0.0821342027758236,
         0.08222529376772317,
         0.08243140895161535,
         0.08184908095795612,
         0.08292238363488154,
         0.08251319145904733,
         0.08297346423488933,
         0.08260045469097503,
         0.08273778998522789,
         0.08272765942111418,
         0.08257459372572311,
         0.08243483747658018,
         0.08216108979246059,
         0.08283182308561617,
         0.08262462021371761,
         0.08190045348525822,
         0.08237922024707516,
         0.0822953505127074,
         0.08227371654243439,
         0.082534339109605,
         0.0827935454858975,
         0.0825231329525833,
         0.08283969970395813,
         0.08259753493422811,
         0.08264296857470815,
         0.08189092883719253,
         0.08237043756072397,
         0.0825923906469887,
         0.08225901625663429,
         0.08234775867071245,
         0.08236362995555649,
         0.08270115925410351,
         0.08221874044990385,
         0.0823144345459613,
         0.08220030577829132,
         0.08227280815216628,
         0.08209913879536189,
         0.0823968131966018,
         0.08285287126608483,
         0.08202181444442891,
         0.08290381959409683,
         0.08228377424567551,
         0.08261872951376747,
         0.08301355803457948,
         0.08248877203599973,
         0.08247389874191254,
         0.08177175815519575,
         0.08327077239655055,
         0.08263576125072969,
         0.08244970738403982,
         0.08227668177675117,
         0.08227160454473713,
         0.08282091804816351,
         0.08227157193635191,
         0.08242154960798753,
         0.08283191200877939,
         0.0821779469729631,
         0.08339626310610926,
         0.0830945891945006,
         0.08281919125515919,
         0.0820719316940416,
         0.08281300495100485,
         0.08218240445213658,
         0.08249663810741592,
         0.08205828793927447,
         0.08175801967161817,
         0.08235471567453502,
         0.08304628088780037,
         0.08276570460142253,
         0.08282800238918174,
         0.08297181949503236,
         0.08251678021987538,
         0.08269417089978595,
         0.08300360492974906,
         0.08238072381294392,
         0.0826218141508954,
         0.08256953691023511,
         0.08236119158372476,
         0.08211101608520205
        ],
        [
         12.745111238211393,
         12.75391511246562,
         12.700002428144217,
         12.583414878696203,
         12.696590226143599,
         12.653036590665579,
         12.652105387300253,
         12.768990855664015,
         12.557908799499273,
         12.738418128341436,
         12.671702962368727,
         12.793410431593657,
         12.611996944993734,
         12.756664004176855,
         12.628642912954092,
         12.798536192625761,
         12.633366759866476,
         12.747597184032202,
         12.653968464583158,
         12.638176258653402,
         12.704153414815664,
         12.648667227476835,
         12.662695240229368,
         12.694436978548765,
         12.604758467525244,
         12.770047079771757,
         12.707031484693289,
         12.777913492172956,
         12.720470022410154,
         12.741619657725096,
         12.740059550851583,
         12.716487433761358,
         12.694964971393347,
         12.652807828038931,
         12.756100755184889,
         12.724191512912512,
         12.612669836729765,
         12.686399918049574,
         12.673483978956938,
         12.670152347534895,
         12.710288222879171,
         12.750206004828215,
         12.708562474697828,
         12.757313754409552,
         12.72002037987113,
         12.727017160505056,
         12.611203040927649,
         12.685047384351492,
         12.719228159636259,
         12.66788850352168,
         12.681554835289717,
         12.683999013155699,
         12.73597852513194,
         12.661686029285192,
         12.67642292007804,
         12.658847089856863,
         12.670012455433607,
         12.643267374485731,
         12.689109232276678,
         12.759342174977064,
         12.631359424442053,
         12.767188217490911,
         12.671701233834028,
         12.723284345120192,
         12.78408793732524,
         12.703270893543959,
         12.70098040625453,
         12.592850755900145,
         12.823698949068785,
         12.725907232612371,
         12.697254937142134,
         12.67060899361968,
         12.669827099889517,
         12.754421379417181,
         12.669822078198195,
         12.69291863963008,
         12.756114449352026,
         12.655403833836317,
         12.843024518340826,
         12.796566735953093,
         12.754155453294516,
         12.639077480882406,
         12.753202762454748,
         12.656090285629034,
         12.704482268542051,
         12.636976342648268,
         12.590735029429197,
         12.682626213878393,
         12.789127256721258,
         12.74591850861907,
         12.755512367933989,
         12.777660202234983,
         12.707584153860807,
         12.734902318567038,
         12.782555159181356,
         12.686631467193365,
         12.72375937923789,
         12.715708684176207,
         12.683623503893614,
         12.645096477121115
        ],
        [
         2.112779661608375,
         2.113774331449874,
         2.105178797754738,
         2.1024853763093456,
         2.108309002109863,
         2.106279987413073,
         2.1095545993622724,
         2.109414010407522,
         2.110634169519053,
         2.1087434519962187,
         2.1104714425377953,
         2.112968828624971,
         2.1092146341047884,
         2.108603757650554,
         2.108052057418921,
         2.113099892288863,
         2.1072715504827872,
         2.1094584421891716,
         2.1107074296604593,
         2.105326686795343,
         2.110785667922143,
         2.107097302361528,
         2.1068762753703716,
         2.107062938353416,
         2.1092253968584385,
         2.114042285338772,
         2.107711398874078,
         2.1099984757036556,
         2.1035978473689556,
         2.1098923318026253,
         2.111287436267552,
         2.1133978693965685,
         2.1063580523572325,
         2.1046588326445623,
         2.112957191447431,
         2.113162032940189,
         2.114173237865557,
         2.1071793710953886,
         2.1130839534922212,
         2.1084398761650807,
         2.1127700614945017,
         2.112374711235081,
         2.1153286366643824,
         2.113710517839252,
         2.109279826687447,
         2.1101103769627234,
         2.102061827683349,
         2.1133323872101024,
         2.1136957263255134,
         2.1086033029642492,
         2.1058972032905867,
         2.1065781010193976,
         2.1136312875052647,
         2.1088234054457375,
         2.1123060021829323,
         2.1094267883686038,
         2.1071718660035796,
         2.107586109983248,
         2.1080525476805305,
         2.114203305393338,
         2.108682314125621,
         2.111716008733176,
         2.1103377772485827,
         2.1144514200099813,
         2.1133241675309016,
         2.1108880596948154,
         2.1141460194544317,
         2.1093762447804765,
         2.117615904549832,
         2.112742830854774,
         2.10873410366765,
         2.1115860499754397,
         2.1143843253951764,
         2.1145745975719223,
         2.11254845634838,
         2.1070429440824805,
         2.110236142393694,
         2.1074227698805434,
         2.114028111977558,
         2.1162312362138813,
         2.1122979272947533,
         2.107618017396051,
         2.1095491040582095,
         2.104443231523222,
         2.1174919585365597,
         2.105236727368773,
         2.1089727059132835,
         2.1066475566219727,
         2.1071324244229044,
         2.1063179818873636,
         2.122167136589895,
         2.1163033442353383,
         2.1152290905311477,
         2.1109441095541306,
         2.1093834316704156,
         2.1069574199885093,
         2.110917391475414,
         2.1150624663116577,
         2.110768433548441,
         2.107592663834796
        ]
       ],
       "encoder": "json",
       "name": "ABC_GAN_2 Metrics",
       "version": 1
      }
     },
     "metadata": {
      "scrapbook": {
       "data": true,
       "display": false,
       "name": "ABC_GAN_2 Metrics"
      }
     },
     "output_type": "display_data"
    },
    {
     "name": "stdout",
     "output_type": "stream",
     "text": [
      "MAE\n",
      "0.08247762201765141\n"
     ]
    }
   ],
   "source": [
    "ABC_GAN2_metrics=ABC_train_test2.test_generator(gen2,test_data,prior_model,variance,bias,\"1\",device)\n",
    "sb.glue(\"ABC_GAN_2 Metrics\",ABC_GAN2_metrics)\n",
    "\n",
    "print(\"MAE\")\n",
    "print(mean(ABC_GAN2_metrics[1]))"
   ]
  },
  {
   "cell_type": "code",
   "execution_count": 18,
   "id": "bdd1f97f",
   "metadata": {
    "execution": {
     "iopub.execute_input": "2022-07-24T12:58:23.581416Z",
     "iopub.status.busy": "2022-07-24T12:58:23.579127Z",
     "iopub.status.idle": "2022-07-24T12:58:26.427239Z",
     "shell.execute_reply": "2022-07-24T12:58:26.424032Z"
    },
    "papermill": {
     "duration": 2.895478,
     "end_time": "2022-07-24T12:58:26.432288",
     "exception": false,
     "start_time": "2022-07-24T12:58:23.536810",
     "status": "completed"
    },
    "tags": []
   },
   "outputs": [
    {
     "data": {
      "image/png": "[encoded data removed]",
      "text/plain": [
       "<Figure size 432x288 with 1 Axes>"
      ]
     },
     "metadata": {
      "needs_background": "light"
     },
     "output_type": "display_data"
    },
    {
     "data": {
      "image/png": "[encoded data removed]",
      "text/plain": [
       "<Figure size 432x288 with 1 Axes>"
      ]
     },
     "metadata": {
      "needs_background": "light"
     },
     "output_type": "display_data"
    },
    {
     "data": {
      "image/png": "[encoded data removed]",
      "text/plain": [
       "<Figure size 432x288 with 1 Axes>"
      ]
     },
     "metadata": {
      "needs_background": "light"
     },
     "output_type": "display_data"
    },
    {
     "data": {
      "image/png": "[encoded data removed]",
      "text/plain": [
       "<Figure size 432x288 with 1 Axes>"
      ]
     },
     "metadata": {
      "needs_background": "light"
     },
     "output_type": "display_data"
    }
   ],
   "source": [
    "sanityChecks.discProbVsError(train_data,disc2,device)\n",
    "sanityChecks.discProbVsError(test_data,disc2,device)"
   ]
  },
  {
   "cell_type": "markdown",
   "id": "130f3a4d",
   "metadata": {
    "id": "130f3a4d",
    "papermill": {
     "duration": 0.023424,
     "end_time": "2022-07-24T12:58:26.477647",
     "exception": false,
     "start_time": "2022-07-24T12:58:26.454223",
     "status": "completed"
    },
    "tags": []
   },
   "source": [
    "# skipGAN Model"
   ]
  },
  {
   "cell_type": "code",
   "execution_count": 19,
   "id": "4e43dad1",
   "metadata": {
    "execution": {
     "iopub.execute_input": "2022-07-24T12:58:26.535005Z",
     "iopub.status.busy": "2022-07-24T12:58:26.531196Z",
     "iopub.status.idle": "2022-07-24T12:58:26.547183Z",
     "shell.execute_reply": "2022-07-24T12:58:26.545372Z"
    },
    "id": "4e43dad1",
    "papermill": {
     "duration": 0.055611,
     "end_time": "2022-07-24T12:58:26.561629",
     "exception": false,
     "start_time": "2022-07-24T12:58:26.506018",
     "status": "completed"
    },
    "tags": []
   },
   "outputs": [],
   "source": [
    "# #Generator\n",
    "# gen3 = network.GeneratorWithSkipConnection(n_features+1).to(device)\n",
    "# constraints=network.weightConstraint()\n",
    "# #Discriminator \n",
    "# disc3 = network.Discriminator(n_features+1).to(device)\n",
    "\n",
    "# criterion = torch.nn.BCELoss()\n",
    "# gen_opt = torch.optim.Adam(gen3.parameters(), lr=0.01, betas=(0.5, 0.999))\n",
    "# disc_opt = torch.optim.Adam(disc3.parameters(), lr=0.01, betas=(0.5, 0.999))\n"
   ]
  },
  {
   "cell_type": "markdown",
   "id": "9f2252e1",
   "metadata": {
    "tags": [
     "papermill-error-cell-tag"
    ]
   },
   "source": [
    "<span id=\"papermill-error-cell\" style=\"color:red; font-family:Helvetica Neue, Helvetica, Arial, sans-serif; font-size:2em;\">Execution using papermill encountered an exception here and stopped:</span>"
   ]
  },
  {
   "cell_type": "code",
   "execution_count": 20,
   "id": "26acbc37",
   "metadata": {
    "execution": {
     "iopub.execute_input": "2022-07-24T12:58:26.620365Z",
     "iopub.status.busy": "2022-07-24T12:58:26.619401Z",
     "iopub.status.idle": "2022-07-24T12:58:30.065748Z",
     "shell.execute_reply": "2022-07-24T12:58:30.057196Z"
    },
    "id": "26acbc37",
    "papermill": {
     "duration": 3.486826,
     "end_time": "2022-07-24T12:58:30.074220",
     "exception": true,
     "start_time": "2022-07-24T12:58:26.587394",
     "status": "failed"
    },
    "tags": []
   },
   "outputs": [
    {
     "ename": "NameError",
     "evalue": "name 'disc3' is not defined",
     "output_type": "error",
     "traceback": [
      "\u001b[0;31m---------------------------------------------------------------------------\u001b[0m",
      "\u001b[0;31mNameError\u001b[0m                                 Traceback (most recent call last)",
      "Input \u001b[0;32mIn [20]\u001b[0m, in \u001b[0;36m<cell line: 1>\u001b[0;34m()\u001b[0m\n\u001b[0;32m----> 1\u001b[0m ABC_train_test2\u001b[38;5;241m.\u001b[39mtraining_GAN_skip_connection(\u001b[43mdisc3\u001b[49m,gen3,disc_opt,gen_opt,train_data,batch_size,n_epochs,criterion,prior_model,variance,bias,device)\n",
      "\u001b[0;31mNameError\u001b[0m: name 'disc3' is not defined"
     ]
    }
   ],
   "source": [
    "ABC_train_test2.training_GAN_skip_connection(disc3,gen3,disc_opt,gen_opt,train_data,batch_size,n_epochs,criterion,prior_model,variance,bias,device)"
   ]
  },
  {
   "cell_type": "code",
   "execution_count": null,
   "id": "c5e0717b",
   "metadata": {
    "id": "c5e0717b",
    "papermill": {
     "duration": null,
     "end_time": null,
     "exception": null,
     "start_time": null,
     "status": "pending"
    },
    "tags": []
   },
   "outputs": [],
   "source": [
    "# ABC_GAN3_metrics=ABC_train_test2.test_generator(gen3,test_data,prior_model,variance,bias,\"3\",device)\n",
    "# sb.glue(\"ABC_GAN_3 Metrics\",ABC_GAN3_metrics)\n",
    "\n",
    "# print(\"MAE\")\n",
    "# print(mean(ABC_GAN3_metrics[1]))"
   ]
  },
  {
   "cell_type": "code",
   "execution_count": null,
   "id": "c8e46b48",
   "metadata": {
    "id": "c8e46b48",
    "papermill": {
     "duration": null,
     "end_time": null,
     "exception": null,
     "start_time": null,
     "status": "pending"
    },
    "tags": []
   },
   "outputs": [],
   "source": [
    "# sanityChecks.discProbVsError(train_data,disc3,device)\n",
    "# sanityChecks.discProbVsError(test_data,disc3,device)"
   ]
  },
  {
   "cell_type": "markdown",
   "id": "4afd92b8",
   "metadata": {
    "id": "130f3a4d",
    "papermill": {
     "duration": null,
     "end_time": null,
     "exception": null,
     "start_time": null,
     "status": "pending"
    },
    "tags": []
   },
   "source": [
    "# skipGAN Model with TabNet Generator"
   ]
  },
  {
   "cell_type": "code",
   "execution_count": null,
   "id": "ba0c354b",
   "metadata": {
    "id": "4e43dad1",
    "papermill": {
     "duration": null,
     "end_time": null,
     "exception": null,
     "start_time": null,
     "status": "pending"
    },
    "tags": []
   },
   "outputs": [],
   "source": [
    "# #Generator\n",
    "# gen4 = network.GeneratorTabnetskipConnection(n_features+1).to(device)\n",
    "# constraints=network.weightConstraint()\n",
    "# #Discriminator \n",
    "# disc4 = network.Discriminator(n_features+1).to(device)\n",
    "\n",
    "# criterion = torch.nn.BCELoss()\n",
    "# gen_opt = torch.optim.Adam(gen4.parameters(), lr=0.01, betas=(0.5, 0.999))\n",
    "# disc_opt = torch.optim.Adam(disc4.parameters(), lr=0.01, betas=(0.5, 0.999))\n"
   ]
  },
  {
   "cell_type": "code",
   "execution_count": null,
   "id": "25114b11",
   "metadata": {
    "id": "26acbc37",
    "papermill": {
     "duration": null,
     "end_time": null,
     "exception": null,
     "start_time": null,
     "status": "pending"
    },
    "tags": []
   },
   "outputs": [],
   "source": [
    "# ABC_train_test2.training_GAN_skip_connection(disc4,gen4,disc_opt,gen_opt,train_data,batch_size,n_epochs,criterion,prior_model,variance,bias,device)"
   ]
  },
  {
   "cell_type": "code",
   "execution_count": null,
   "id": "10803a93",
   "metadata": {
    "id": "c5e0717b",
    "papermill": {
     "duration": null,
     "end_time": null,
     "exception": null,
     "start_time": null,
     "status": "pending"
    },
    "tags": []
   },
   "outputs": [],
   "source": [
    "# ABC_GAN4_metrics=ABC_train_test2.test_generator(gen4,test_data,prior_model,variance,bias,\"3\",device)\n",
    "# sb.glue(\"ABC_GAN_4 Metrics\",ABC_GAN4_metrics)\n",
    "\n",
    "# print(\"MAE\")\n",
    "# print(mean(ABC_GAN4_metrics[1]))"
   ]
  },
  {
   "cell_type": "code",
   "execution_count": null,
   "id": "f543277e",
   "metadata": {
    "id": "c8e46b48",
    "papermill": {
     "duration": null,
     "end_time": null,
     "exception": null,
     "start_time": null,
     "status": "pending"
    },
    "tags": []
   },
   "outputs": [],
   "source": [
    "# sanityChecks.discProbVsError(train_data,disc4,device)\n",
    "# sanityChecks.discProbVsError(test_data,disc4,device)"
   ]
  },
  {
   "cell_type": "markdown",
   "id": "a5bd74c3",
   "metadata": {
    "id": "a5bd74c3",
    "papermill": {
     "duration": null,
     "end_time": null,
     "exception": null,
     "start_time": null,
     "status": "pending"
    },
    "tags": []
   },
   "source": [
    "## Skip Connection Model Analysis - ABC-GAN "
   ]
  },
  {
   "cell_type": "markdown",
   "id": "5744a8bf",
   "metadata": {
    "id": "5744a8bf",
    "papermill": {
     "duration": null,
     "end_time": null,
     "exception": null,
     "start_time": null,
     "status": "pending"
    },
    "tags": []
   },
   "source": [
    "### Weight Analysis \n",
    "\n",
    "Study the weights of the skip connection layer\n",
    "\n",
    "Equation of the skip connection is \n",
    "\n",
    "$output = y_{gan} * w + y_{abc} * (1-w)$"
   ]
  },
  {
   "cell_type": "code",
   "execution_count": null,
   "id": "52c31dea",
   "metadata": {
    "id": "52c31dea",
    "papermill": {
     "duration": null,
     "end_time": null,
     "exception": null,
     "start_time": null,
     "status": "pending"
    },
    "tags": []
   },
   "outputs": [],
   "source": [
    "# print(\"Weight of the node at skip connection\")\n",
    "# for name,param in gen3.named_parameters():\n",
    "#     if(name == \"skipNode.weight\"):\n",
    "#         print(param)\n",
    "#         sb.glue(\"Skip Connection Weight\",param.item())"
   ]
  },
  {
   "cell_type": "markdown",
   "id": "9b9c9573",
   "metadata": {
    "id": "a5bd74c3",
    "papermill": {
     "duration": null,
     "end_time": null,
     "exception": null,
     "start_time": null,
     "status": "pending"
    },
    "tags": []
   },
   "source": [
    "## skipGAN Model Analysis (TabNet Generator) "
   ]
  },
  {
   "cell_type": "markdown",
   "id": "dd3dac85",
   "metadata": {
    "id": "5744a8bf",
    "papermill": {
     "duration": null,
     "end_time": null,
     "exception": null,
     "start_time": null,
     "status": "pending"
    },
    "tags": []
   },
   "source": [
    "### Weight Analysis \n",
    "\n",
    "Study the weights of the skip connection layer\n",
    "\n",
    "Equation of the skip connection is \n",
    "\n",
    "$output = y_{gan} * w + y_{abc} * (1-w)$"
   ]
  },
  {
   "cell_type": "code",
   "execution_count": null,
   "id": "294b85a9",
   "metadata": {
    "id": "52c31dea",
    "papermill": {
     "duration": null,
     "end_time": null,
     "exception": null,
     "start_time": null,
     "status": "pending"
    },
    "tags": []
   },
   "outputs": [],
   "source": [
    "# print(\"Weight of the node at skip connection\")\n",
    "# for name,param in gen4.named_parameters():\n",
    "#     if(name == \"skipNode.weight\"):\n",
    "#         print(param)\n",
    "#         sb.glue(\"Skip Connection Weight\",param.item())"
   ]
  }
 ],
 "metadata": {
  "colab": {
   "collapsed_sections": [],
   "name": "ABC_GAN_Model-Catboost_Pre-gen.ipynb",
   "provenance": []
  },
  "interpreter": {
   "hash": "31f2aee4e71d21fbe5cf8b01ff0e069b9275f58929596ceb00d14d90e3e16cd6"
  },
  "kernelspec": {
   "display_name": "Python 3 (ipykernel)",
   "language": "python",
   "name": "python3"
  },
  "language_info": {
   "codemirror_mode": {
    "name": "ipython",
    "version": 3
   },
   "file_extension": ".py",
   "mimetype": "text/x-python",
   "name": "python",
   "nbconvert_exporter": "python",
   "pygments_lexer": "ipython3",
   "version": "3.8.9"
  },
  "papermill": {
   "default_parameters": {},
   "duration": 344.770765,
   "end_time": "2022-07-24T12:58:33.250188",
   "environment_variables": {},
   "exception": true,
   "input_path": "ABC_GAN-Catboost.ipynb",
   "output_path": "./ABC_GAN_Catboost/ABC-GAN_output_3_2.ipynb",
   "parameters": {
    "bias": 1,
    "variance": 0.01
   },
   "start_time": "2022-07-24T12:52:48.479423",
   "version": "2.3.3"
  }
 },
 "nbformat": 4,
 "nbformat_minor": 5
}
