{
 "cells": [
  {
   "cell_type": "markdown",
   "id": "622780e6",
   "metadata": {
    "id": "622780e6",
    "papermill": {
     "duration": 0.026153,
     "end_time": "2022-07-24T20:11:08.522051",
     "exception": false,
     "start_time": "2022-07-24T20:11:08.495898",
     "status": "completed"
    },
    "tags": []
   },
   "source": [
    "## Import Libraries "
   ]
  },
  {
   "cell_type": "code",
   "execution_count": 1,
   "id": "a62397e3",
   "metadata": {
    "execution": {
     "iopub.execute_input": "2022-07-24T20:11:08.575503Z",
     "iopub.status.busy": "2022-07-24T20:11:08.574362Z",
     "iopub.status.idle": "2022-07-24T20:11:08.595538Z",
     "shell.execute_reply": "2022-07-24T20:11:08.594097Z"
    },
    "id": "a62397e3",
    "papermill": {
     "duration": 0.05295,
     "end_time": "2022-07-24T20:11:08.602440",
     "exception": false,
     "start_time": "2022-07-24T20:11:08.549490",
     "status": "completed"
    },
    "tags": []
   },
   "outputs": [],
   "source": [
    "import warnings\n",
    "import sys\n",
    "sys.path.insert(0, '../../src')\n",
    "warnings.filterwarnings('ignore')"
   ]
  },
  {
   "cell_type": "code",
   "execution_count": 2,
   "id": "d6a4e155",
   "metadata": {
    "execution": {
     "iopub.execute_input": "2022-07-24T20:11:08.655808Z",
     "iopub.status.busy": "2022-07-24T20:11:08.654866Z",
     "iopub.status.idle": "2022-07-24T20:11:16.169756Z",
     "shell.execute_reply": "2022-07-24T20:11:16.169006Z"
    },
    "id": "d6a4e155",
    "papermill": {
     "duration": 7.547341,
     "end_time": "2022-07-24T20:11:16.172695",
     "exception": false,
     "start_time": "2022-07-24T20:11:08.625354",
     "status": "completed"
    },
    "tags": []
   },
   "outputs": [],
   "source": [
    "import ABC_train_test2\n",
    "import energyefficiencyDataset\n",
    "import network\n",
    "import dataset\n",
    "import sanityChecks\n",
    "import torch \n",
    "import scrapbook as sb\n",
    "from statistics import mean \n",
    "import catboost as ctb \n",
    "from sklearn.model_selection import train_test_split\n",
    "from sklearn.metrics import mean_squared_error,mean_absolute_error\n",
    "import numpy as np"
   ]
  },
  {
   "cell_type": "markdown",
   "id": "2fa5b0f7",
   "metadata": {
    "id": "2fa5b0f7",
    "papermill": {
     "duration": 0.007735,
     "end_time": "2022-07-24T20:11:16.187696",
     "exception": false,
     "start_time": "2022-07-24T20:11:16.179961",
     "status": "completed"
    },
    "tags": []
   },
   "source": [
    "## Parameters "
   ]
  },
  {
   "cell_type": "code",
   "execution_count": 3,
   "id": "783186fb",
   "metadata": {
    "execution": {
     "iopub.execute_input": "2022-07-24T20:11:16.215660Z",
     "iopub.status.busy": "2022-07-24T20:11:16.214056Z",
     "iopub.status.idle": "2022-07-24T20:11:16.225270Z",
     "shell.execute_reply": "2022-07-24T20:11:16.220829Z"
    },
    "id": "783186fb",
    "papermill": {
     "duration": 0.032307,
     "end_time": "2022-07-24T20:11:16.228077",
     "exception": false,
     "start_time": "2022-07-24T20:11:16.195770",
     "status": "completed"
    },
    "tags": [
     "parameters"
    ]
   },
   "outputs": [],
   "source": [
    "variance = 1\n",
    "bias = 1 "
   ]
  },
  {
   "cell_type": "code",
   "execution_count": 4,
   "id": "83dc166d",
   "metadata": {
    "execution": {
     "iopub.execute_input": "2022-07-24T20:11:16.250146Z",
     "iopub.status.busy": "2022-07-24T20:11:16.249728Z",
     "iopub.status.idle": "2022-07-24T20:11:16.255595Z",
     "shell.execute_reply": "2022-07-24T20:11:16.254243Z"
    },
    "papermill": {
     "duration": 0.025032,
     "end_time": "2022-07-24T20:11:16.261923",
     "exception": false,
     "start_time": "2022-07-24T20:11:16.236891",
     "status": "completed"
    },
    "tags": [
     "injected-parameters"
    ]
   },
   "outputs": [],
   "source": [
    "# Parameters\n",
    "variance = 0.1\n",
    "bias = 0.01\n"
   ]
  },
  {
   "cell_type": "markdown",
   "id": "391cdbfd",
   "metadata": {
    "id": "391cdbfd",
    "papermill": {
     "duration": 0.00727,
     "end_time": "2022-07-24T20:11:16.276366",
     "exception": false,
     "start_time": "2022-07-24T20:11:16.269096",
     "status": "completed"
    },
    "tags": []
   },
   "source": [
    "## Dataset \n"
   ]
  },
  {
   "cell_type": "code",
   "execution_count": 5,
   "id": "5b51f161",
   "metadata": {
    "execution": {
     "iopub.execute_input": "2022-07-24T20:11:16.295620Z",
     "iopub.status.busy": "2022-07-24T20:11:16.294910Z",
     "iopub.status.idle": "2022-07-24T20:11:16.300282Z",
     "shell.execute_reply": "2022-07-24T20:11:16.299340Z"
    },
    "id": "5b51f161",
    "papermill": {
     "duration": 0.021151,
     "end_time": "2022-07-24T20:11:16.305920",
     "exception": false,
     "start_time": "2022-07-24T20:11:16.284769",
     "status": "completed"
    },
    "tags": []
   },
   "outputs": [],
   "source": [
    "#Parameters \n",
    "n_features = 8\n",
    "n_samples= 768\n",
    "n_target = 1 "
   ]
  },
  {
   "cell_type": "code",
   "execution_count": 6,
   "id": "5d6eced4",
   "metadata": {
    "execution": {
     "iopub.execute_input": "2022-07-24T20:11:16.328985Z",
     "iopub.status.busy": "2022-07-24T20:11:16.328394Z",
     "iopub.status.idle": "2022-07-24T20:11:16.991045Z",
     "shell.execute_reply": "2022-07-24T20:11:16.987090Z"
    },
    "id": "5d6eced4",
    "papermill": {
     "duration": 0.684866,
     "end_time": "2022-07-24T20:11:17.001715",
     "exception": false,
     "start_time": "2022-07-24T20:11:16.316849",
     "status": "completed"
    },
    "tags": []
   },
   "outputs": [
    {
     "name": "stdout",
     "output_type": "stream",
     "text": [
      "     X1     X2     X3      X4   X5  X6   X7  X8     Y1     Y2\n",
      "0  0.98  514.5  294.0  110.25  7.0   2  0.0   0  15.55  21.33\n",
      "1  0.98  514.5  294.0  110.25  7.0   3  0.0   0  15.55  21.33\n",
      "2  0.98  514.5  294.0  110.25  7.0   4  0.0   0  15.55  21.33\n",
      "3  0.98  514.5  294.0  110.25  7.0   5  0.0   0  15.55  21.33\n",
      "4  0.90  563.5  318.5  122.50  7.0   2  0.0   0  20.84  28.28\n"
     ]
    }
   ],
   "source": [
    "X,Y = energyefficiencyDataset.energy_data()"
   ]
  },
  {
   "cell_type": "code",
   "execution_count": 7,
   "id": "fe007438",
   "metadata": {
    "execution": {
     "iopub.execute_input": "2022-07-24T20:11:17.041540Z",
     "iopub.status.busy": "2022-07-24T20:11:17.041222Z",
     "iopub.status.idle": "2022-07-24T20:11:17.049229Z",
     "shell.execute_reply": "2022-07-24T20:11:17.048038Z"
    },
    "id": "fe007438",
    "papermill": {
     "duration": 0.020559,
     "end_time": "2022-07-24T20:11:17.053013",
     "exception": false,
     "start_time": "2022-07-24T20:11:17.032454",
     "status": "completed"
    },
    "tags": []
   },
   "outputs": [],
   "source": [
    "#Train test split for dataset \n",
    "X_train,X_test,Y_train,Y_test = train_test_split(X,Y,test_size = 0.2)\n",
    "train_data = dataset.CustomDataset(X_train,Y_train)\n",
    "test_data = dataset.CustomDataset(X_test,Y_test)\n"
   ]
  },
  {
   "cell_type": "markdown",
   "id": "a9a1af34",
   "metadata": {
    "id": "a9a1af34",
    "papermill": {
     "duration": 0.008984,
     "end_time": "2022-07-24T20:11:17.075572",
     "exception": false,
     "start_time": "2022-07-24T20:11:17.066588",
     "status": "completed"
    },
    "tags": []
   },
   "source": [
    "## Training Parameters "
   ]
  },
  {
   "cell_type": "code",
   "execution_count": 8,
   "id": "952b7fc8",
   "metadata": {
    "execution": {
     "iopub.execute_input": "2022-07-24T20:11:17.099910Z",
     "iopub.status.busy": "2022-07-24T20:11:17.099272Z",
     "iopub.status.idle": "2022-07-24T20:11:17.107819Z",
     "shell.execute_reply": "2022-07-24T20:11:17.106451Z"
    },
    "id": "952b7fc8",
    "papermill": {
     "duration": 0.034089,
     "end_time": "2022-07-24T20:11:17.118053",
     "exception": false,
     "start_time": "2022-07-24T20:11:17.083964",
     "status": "completed"
    },
    "tags": []
   },
   "outputs": [],
   "source": [
    "batch_size = 32\n",
    "n_epochs = 1000\n",
    "#Select the device \n",
    "device = torch.device('cuda' if torch.cuda.is_available() else 'cpu')"
   ]
  },
  {
   "cell_type": "markdown",
   "id": "a95e1600",
   "metadata": {
    "id": "a95e1600",
    "papermill": {
     "duration": 0.007714,
     "end_time": "2022-07-24T20:11:17.133502",
     "exception": false,
     "start_time": "2022-07-24T20:11:17.125788",
     "status": "completed"
    },
    "tags": []
   },
   "source": [
    "# ABC Pre-generator Model \n",
    "\n",
    "1. The catboost model is used as a pre-generator model for the ABC-GAN. \n",
    "2. The model is first trained on the entire dataset \n",
    "3. It generats X,Y pairs and we add some Gaussian noise with mean 0 and variance 1 to it which is then feed as input to the generator.\n"
   ]
  },
  {
   "cell_type": "code",
   "execution_count": 9,
   "id": "ff8ce7bd",
   "metadata": {
    "execution": {
     "iopub.execute_input": "2022-07-24T20:11:17.161306Z",
     "iopub.status.busy": "2022-07-24T20:11:17.160217Z",
     "iopub.status.idle": "2022-07-24T20:11:18.809628Z",
     "shell.execute_reply": "2022-07-24T20:11:18.808360Z"
    },
    "id": "ff8ce7bd",
    "papermill": {
     "duration": 1.669493,
     "end_time": "2022-07-24T20:11:18.813088",
     "exception": false,
     "start_time": "2022-07-24T20:11:17.143595",
     "status": "completed"
    },
    "tags": []
   },
   "outputs": [
    {
     "name": "stdout",
     "output_type": "stream",
     "text": [
      "Learning rate set to 0.037906\n"
     ]
    },
    {
     "name": "stdout",
     "output_type": "stream",
     "text": [
      "0:\tlearn: 0.9740469\ttotal: 52.4ms\tremaining: 52.3s\n",
      "1:\tlearn: 0.9416099\ttotal: 53.4ms\tremaining: 26.6s\n",
      "2:\tlearn: 0.9140742\ttotal: 53.9ms\tremaining: 17.9s\n",
      "3:\tlearn: 0.8830540\ttotal: 54.2ms\tremaining: 13.5s\n",
      "4:\tlearn: 0.8580488\ttotal: 54.3ms\tremaining: 10.8s\n",
      "5:\tlearn: 0.8302383\ttotal: 54.6ms\tremaining: 9.05s\n",
      "6:\tlearn: 0.8075403\ttotal: 54.8ms\tremaining: 7.77s\n",
      "7:\tlearn: 0.7824986\ttotal: 55ms\tremaining: 6.83s\n",
      "8:\tlearn: 0.7562629\ttotal: 56.1ms\tremaining: 6.18s\n",
      "9:\tlearn: 0.7347046\ttotal: 56.7ms\tremaining: 5.61s\n",
      "10:\tlearn: 0.7115440\ttotal: 57.2ms\tremaining: 5.14s\n",
      "11:\tlearn: 0.6896500\ttotal: 57.6ms\tremaining: 4.74s\n",
      "12:\tlearn: 0.6671692\ttotal: 57.9ms\tremaining: 4.4s\n",
      "13:\tlearn: 0.6462847\ttotal: 58.5ms\tremaining: 4.12s\n",
      "14:\tlearn: 0.6259770\ttotal: 58.9ms\tremaining: 3.86s\n",
      "15:\tlearn: 0.6055359\ttotal: 59.4ms\tremaining: 3.65s\n",
      "16:\tlearn: 0.5876957\ttotal: 59.9ms\tremaining: 3.47s\n",
      "17:\tlearn: 0.5703578\ttotal: 64.5ms\tremaining: 3.52s\n",
      "18:\tlearn: 0.5529417\ttotal: 65.6ms\tremaining: 3.39s\n",
      "19:\tlearn: 0.5369309\ttotal: 66.8ms\tremaining: 3.27s\n",
      "20:\tlearn: 0.5208213\ttotal: 67.9ms\tremaining: 3.17s\n",
      "21:\tlearn: 0.5048625\ttotal: 68.3ms\tremaining: 3.03s\n",
      "22:\tlearn: 0.4886205\ttotal: 68.7ms\tremaining: 2.92s\n",
      "23:\tlearn: 0.4742121\ttotal: 69.5ms\tremaining: 2.83s\n",
      "24:\tlearn: 0.4589997\ttotal: 70.2ms\tremaining: 2.74s\n",
      "25:\tlearn: 0.4452983\ttotal: 70.6ms\tremaining: 2.65s\n",
      "26:\tlearn: 0.4332543\ttotal: 73.7ms\tremaining: 2.66s\n",
      "27:\tlearn: 0.4193616\ttotal: 74.2ms\tremaining: 2.58s\n",
      "28:\tlearn: 0.4080868\ttotal: 74.8ms\tremaining: 2.5s\n",
      "29:\tlearn: 0.3963760\ttotal: 75.4ms\tremaining: 2.44s\n",
      "30:\tlearn: 0.3842667\ttotal: 76.1ms\tremaining: 2.38s\n",
      "31:\tlearn: 0.3730900\ttotal: 77.2ms\tremaining: 2.33s\n",
      "32:\tlearn: 0.3614666\ttotal: 78ms\tremaining: 2.29s\n",
      "33:\tlearn: 0.3511827\ttotal: 78.6ms\tremaining: 2.23s\n",
      "34:\tlearn: 0.3420895\ttotal: 79.3ms\tremaining: 2.19s\n",
      "35:\tlearn: 0.3320944\ttotal: 80.1ms\tremaining: 2.15s\n",
      "36:\tlearn: 0.3227461\ttotal: 80.7ms\tremaining: 2.1s\n",
      "37:\tlearn: 0.3140043\ttotal: 81.4ms\tremaining: 2.06s\n",
      "38:\tlearn: 0.3061080\ttotal: 82.2ms\tremaining: 2.02s\n",
      "39:\tlearn: 0.2970017\ttotal: 83ms\tremaining: 1.99s\n",
      "40:\tlearn: 0.2887528\ttotal: 83.8ms\tremaining: 1.96s\n",
      "41:\tlearn: 0.2835327\ttotal: 84.4ms\tremaining: 1.93s\n",
      "42:\tlearn: 0.2756230\ttotal: 85.5ms\tremaining: 1.9s\n",
      "43:\tlearn: 0.2692288\ttotal: 86.2ms\tremaining: 1.87s\n",
      "44:\tlearn: 0.2616731\ttotal: 87.5ms\tremaining: 1.86s\n",
      "45:\tlearn: 0.2543595\ttotal: 88.4ms\tremaining: 1.83s\n",
      "46:\tlearn: 0.2477544\ttotal: 89.1ms\tremaining: 1.8s\n",
      "47:\tlearn: 0.2417867\ttotal: 90.1ms\tremaining: 1.79s\n",
      "48:\tlearn: 0.2352683\ttotal: 90.4ms\tremaining: 1.75s\n",
      "49:\tlearn: 0.2291873\ttotal: 90.7ms\tremaining: 1.72s\n",
      "50:\tlearn: 0.2234740\ttotal: 91.8ms\tremaining: 1.71s\n",
      "51:\tlearn: 0.2184207\ttotal: 92.5ms\tremaining: 1.69s\n",
      "52:\tlearn: 0.2128232\ttotal: 93ms\tremaining: 1.66s\n",
      "53:\tlearn: 0.2071479\ttotal: 93.7ms\tremaining: 1.64s\n",
      "54:\tlearn: 0.2015463\ttotal: 94.3ms\tremaining: 1.62s\n",
      "55:\tlearn: 0.1965432\ttotal: 95.7ms\tremaining: 1.61s\n",
      "56:\tlearn: 0.1915231\ttotal: 96.9ms\tremaining: 1.6s\n",
      "57:\tlearn: 0.1872189\ttotal: 97.8ms\tremaining: 1.59s\n",
      "58:\tlearn: 0.1822741\ttotal: 99ms\tremaining: 1.58s\n",
      "59:\tlearn: 0.1773535\ttotal: 99.9ms\tremaining: 1.56s\n",
      "60:\tlearn: 0.1726966\ttotal: 101ms\tremaining: 1.55s\n",
      "61:\tlearn: 0.1683526\ttotal: 102ms\tremaining: 1.54s\n",
      "62:\tlearn: 0.1646455\ttotal: 102ms\tremaining: 1.52s\n",
      "63:\tlearn: 0.1603128\ttotal: 103ms\tremaining: 1.51s\n",
      "64:\tlearn: 0.1576351\ttotal: 103ms\tremaining: 1.49s\n",
      "65:\tlearn: 0.1548967\ttotal: 104ms\tremaining: 1.47s\n",
      "66:\tlearn: 0.1509782\ttotal: 104ms\tremaining: 1.45s\n",
      "67:\tlearn: 0.1478471\ttotal: 105ms\tremaining: 1.44s\n",
      "68:\tlearn: 0.1445644\ttotal: 106ms\tremaining: 1.43s\n",
      "69:\tlearn: 0.1415157\ttotal: 107ms\tremaining: 1.42s\n",
      "70:\tlearn: 0.1394607\ttotal: 108ms\tremaining: 1.41s\n",
      "71:\tlearn: 0.1373510\ttotal: 108ms\tremaining: 1.4s\n",
      "72:\tlearn: 0.1343209\ttotal: 109ms\tremaining: 1.38s\n",
      "73:\tlearn: 0.1312774\ttotal: 110ms\tremaining: 1.37s\n",
      "74:\tlearn: 0.1284346\ttotal: 110ms\tremaining: 1.36s\n",
      "75:\tlearn: 0.1255165\ttotal: 111ms\tremaining: 1.34s\n",
      "76:\tlearn: 0.1228183\ttotal: 111ms\tremaining: 1.33s\n",
      "77:\tlearn: 0.1200856\ttotal: 112ms\tremaining: 1.33s\n",
      "78:\tlearn: 0.1175539\ttotal: 113ms\tremaining: 1.32s\n",
      "79:\tlearn: 0.1148619\ttotal: 114ms\tremaining: 1.31s\n",
      "80:\tlearn: 0.1124574\ttotal: 114ms\tremaining: 1.3s\n",
      "81:\tlearn: 0.1105834\ttotal: 115ms\tremaining: 1.28s\n",
      "82:\tlearn: 0.1083819\ttotal: 115ms\tremaining: 1.27s\n",
      "83:\tlearn: 0.1056841\ttotal: 116ms\tremaining: 1.27s\n",
      "84:\tlearn: 0.1037306\ttotal: 117ms\tremaining: 1.26s\n",
      "85:\tlearn: 0.1023215\ttotal: 117ms\tremaining: 1.25s\n",
      "86:\tlearn: 0.1003211\ttotal: 118ms\tremaining: 1.24s\n",
      "87:\tlearn: 0.0988331\ttotal: 119ms\tremaining: 1.23s\n",
      "88:\tlearn: 0.0974894\ttotal: 119ms\tremaining: 1.22s\n",
      "89:\tlearn: 0.0952708\ttotal: 120ms\tremaining: 1.21s\n",
      "90:\tlearn: 0.0933096\ttotal: 121ms\tremaining: 1.2s\n",
      "91:\tlearn: 0.0917462\ttotal: 121ms\tremaining: 1.2s\n",
      "92:\tlearn: 0.0902428\ttotal: 122ms\tremaining: 1.19s\n",
      "93:\tlearn: 0.0883280\ttotal: 123ms\tremaining: 1.18s\n",
      "94:\tlearn: 0.0871267\ttotal: 123ms\tremaining: 1.17s\n",
      "95:\tlearn: 0.0851678\ttotal: 124ms\tremaining: 1.17s\n",
      "96:\tlearn: 0.0841863\ttotal: 124ms\tremaining: 1.16s\n",
      "97:\tlearn: 0.0832001\ttotal: 125ms\tremaining: 1.15s\n",
      "98:\tlearn: 0.0824667\ttotal: 126ms\tremaining: 1.15s\n",
      "99:\tlearn: 0.0809146\ttotal: 128ms\tremaining: 1.15s\n",
      "100:\tlearn: 0.0792317\ttotal: 128ms\tremaining: 1.14s\n",
      "101:\tlearn: 0.0781378\ttotal: 129ms\tremaining: 1.14s\n",
      "102:\tlearn: 0.0768155\ttotal: 130ms\tremaining: 1.13s\n"
     ]
    },
    {
     "name": "stdout",
     "output_type": "stream",
     "text": [
      "103:\tlearn: 0.0755575\ttotal: 131ms\tremaining: 1.13s\n",
      "104:\tlearn: 0.0747956\ttotal: 132ms\tremaining: 1.12s\n",
      "105:\tlearn: 0.0741461\ttotal: 132ms\tremaining: 1.11s\n",
      "106:\tlearn: 0.0730056\ttotal: 133ms\tremaining: 1.11s\n",
      "107:\tlearn: 0.0720344\ttotal: 134ms\tremaining: 1.1s\n",
      "108:\tlearn: 0.0709468\ttotal: 134ms\tremaining: 1.1s\n",
      "109:\tlearn: 0.0704851\ttotal: 135ms\tremaining: 1.09s\n",
      "110:\tlearn: 0.0692974\ttotal: 135ms\tremaining: 1.08s\n",
      "111:\tlearn: 0.0685003\ttotal: 139ms\tremaining: 1.1s\n",
      "112:\tlearn: 0.0676309\ttotal: 139ms\tremaining: 1.09s\n",
      "113:\tlearn: 0.0670526\ttotal: 140ms\tremaining: 1.09s\n",
      "114:\tlearn: 0.0660849\ttotal: 141ms\tremaining: 1.08s\n",
      "115:\tlearn: 0.0653621\ttotal: 141ms\tremaining: 1.08s\n",
      "116:\tlearn: 0.0645979\ttotal: 142ms\tremaining: 1.07s\n",
      "117:\tlearn: 0.0637082\ttotal: 143ms\tremaining: 1.07s\n",
      "118:\tlearn: 0.0630435\ttotal: 143ms\tremaining: 1.06s\n",
      "119:\tlearn: 0.0621494\ttotal: 144ms\tremaining: 1.05s\n",
      "120:\tlearn: 0.0615014\ttotal: 145ms\tremaining: 1.05s\n",
      "121:\tlearn: 0.0608151\ttotal: 145ms\tremaining: 1.05s\n",
      "122:\tlearn: 0.0604453\ttotal: 146ms\tremaining: 1.04s\n",
      "123:\tlearn: 0.0597270\ttotal: 147ms\tremaining: 1.04s\n",
      "124:\tlearn: 0.0591730\ttotal: 148ms\tremaining: 1.03s\n",
      "125:\tlearn: 0.0584391\ttotal: 148ms\tremaining: 1.03s\n",
      "126:\tlearn: 0.0579003\ttotal: 149ms\tremaining: 1.02s\n",
      "127:\tlearn: 0.0575344\ttotal: 150ms\tremaining: 1.02s\n",
      "128:\tlearn: 0.0569290\ttotal: 151ms\tremaining: 1.02s\n",
      "129:\tlearn: 0.0565011\ttotal: 151ms\tremaining: 1.01s\n",
      "130:\tlearn: 0.0559267\ttotal: 152ms\tremaining: 1.01s\n",
      "131:\tlearn: 0.0553395\ttotal: 153ms\tremaining: 1s\n",
      "132:\tlearn: 0.0549781\ttotal: 153ms\tremaining: 997ms\n",
      "133:\tlearn: 0.0544624\ttotal: 154ms\tremaining: 995ms\n",
      "134:\tlearn: 0.0540932\ttotal: 155ms\tremaining: 993ms\n",
      "135:\tlearn: 0.0536921\ttotal: 155ms\tremaining: 987ms\n",
      "136:\tlearn: 0.0534336\ttotal: 156ms\tremaining: 983ms\n",
      "137:\tlearn: 0.0530208\ttotal: 157ms\tremaining: 979ms\n",
      "138:\tlearn: 0.0525571\ttotal: 157ms\tremaining: 974ms\n",
      "139:\tlearn: 0.0520968\ttotal: 158ms\tremaining: 971ms\n",
      "140:\tlearn: 0.0517438\ttotal: 159ms\tremaining: 967ms\n",
      "141:\tlearn: 0.0513526\ttotal: 159ms\tremaining: 963ms\n",
      "142:\tlearn: 0.0510513\ttotal: 160ms\tremaining: 960ms\n",
      "143:\tlearn: 0.0507413\ttotal: 161ms\tremaining: 956ms\n",
      "144:\tlearn: 0.0504725\ttotal: 161ms\tremaining: 951ms\n",
      "145:\tlearn: 0.0502015\ttotal: 162ms\tremaining: 945ms\n",
      "146:\tlearn: 0.0498363\ttotal: 162ms\tremaining: 939ms\n"
     ]
    },
    {
     "name": "stdout",
     "output_type": "stream",
     "text": [
      "147:\tlearn: 0.0495205\ttotal: 162ms\tremaining: 934ms\n",
      "148:\tlearn: 0.0492176\ttotal: 163ms\tremaining: 930ms\n",
      "149:\tlearn: 0.0489275\ttotal: 163ms\tremaining: 926ms\n",
      "150:\tlearn: 0.0488310\ttotal: 164ms\tremaining: 921ms\n",
      "151:\tlearn: 0.0486268\ttotal: 164ms\tremaining: 916ms\n",
      "152:\tlearn: 0.0483761\ttotal: 164ms\tremaining: 910ms\n",
      "153:\tlearn: 0.0481108\ttotal: 165ms\tremaining: 905ms\n",
      "154:\tlearn: 0.0479423\ttotal: 167ms\tremaining: 909ms\n",
      "155:\tlearn: 0.0477059\ttotal: 168ms\tremaining: 908ms\n",
      "156:\tlearn: 0.0474885\ttotal: 168ms\tremaining: 903ms\n",
      "157:\tlearn: 0.0472905\ttotal: 170ms\tremaining: 907ms\n",
      "158:\tlearn: 0.0470961\ttotal: 171ms\tremaining: 903ms\n",
      "159:\tlearn: 0.0468616\ttotal: 171ms\tremaining: 899ms\n",
      "160:\tlearn: 0.0466357\ttotal: 177ms\tremaining: 923ms\n",
      "161:\tlearn: 0.0464755\ttotal: 178ms\tremaining: 921ms\n",
      "162:\tlearn: 0.0462764\ttotal: 179ms\tremaining: 917ms\n",
      "163:\tlearn: 0.0460657\ttotal: 181ms\tremaining: 925ms\n",
      "164:\tlearn: 0.0459022\ttotal: 182ms\tremaining: 922ms\n",
      "165:\tlearn: 0.0457279\ttotal: 183ms\tremaining: 920ms\n",
      "166:\tlearn: 0.0455960\ttotal: 184ms\tremaining: 916ms\n",
      "167:\tlearn: 0.0454726\ttotal: 184ms\tremaining: 911ms\n",
      "168:\tlearn: 0.0452727\ttotal: 184ms\tremaining: 907ms\n",
      "169:\tlearn: 0.0451124\ttotal: 185ms\tremaining: 903ms\n",
      "170:\tlearn: 0.0447918\ttotal: 185ms\tremaining: 898ms\n",
      "171:\tlearn: 0.0445712\ttotal: 195ms\tremaining: 937ms\n",
      "172:\tlearn: 0.0443880\ttotal: 195ms\tremaining: 935ms\n",
      "173:\tlearn: 0.0441841\ttotal: 196ms\tremaining: 930ms\n",
      "174:\tlearn: 0.0440375\ttotal: 196ms\tremaining: 926ms\n",
      "175:\tlearn: 0.0437786\ttotal: 197ms\tremaining: 922ms\n",
      "176:\tlearn: 0.0435118\ttotal: 197ms\tremaining: 917ms\n",
      "177:\tlearn: 0.0433410\ttotal: 198ms\tremaining: 913ms\n",
      "178:\tlearn: 0.0432007\ttotal: 198ms\tremaining: 909ms\n",
      "179:\tlearn: 0.0430185\ttotal: 206ms\tremaining: 937ms\n",
      "180:\tlearn: 0.0428688\ttotal: 206ms\tremaining: 933ms\n",
      "181:\tlearn: 0.0427080\ttotal: 212ms\tremaining: 955ms\n",
      "182:\tlearn: 0.0424037\ttotal: 213ms\tremaining: 951ms\n",
      "183:\tlearn: 0.0422729\ttotal: 213ms\tremaining: 947ms\n",
      "184:\tlearn: 0.0421325\ttotal: 218ms\tremaining: 962ms\n",
      "185:\tlearn: 0.0419030\ttotal: 220ms\tremaining: 964ms\n",
      "186:\tlearn: 0.0417180\ttotal: 221ms\tremaining: 960ms\n",
      "187:\tlearn: 0.0415528\ttotal: 221ms\tremaining: 956ms\n",
      "188:\tlearn: 0.0414006\ttotal: 222ms\tremaining: 951ms\n",
      "189:\tlearn: 0.0412871\ttotal: 222ms\tremaining: 947ms\n",
      "190:\tlearn: 0.0411474\ttotal: 223ms\tremaining: 943ms\n",
      "191:\tlearn: 0.0409989\ttotal: 223ms\tremaining: 939ms\n",
      "192:\tlearn: 0.0407975\ttotal: 224ms\tremaining: 935ms\n",
      "193:\tlearn: 0.0406799\ttotal: 224ms\tremaining: 931ms\n",
      "194:\tlearn: 0.0404956\ttotal: 224ms\tremaining: 926ms\n",
      "195:\tlearn: 0.0404118\ttotal: 226ms\tremaining: 929ms\n",
      "196:\tlearn: 0.0402509\ttotal: 227ms\tremaining: 926ms\n",
      "197:\tlearn: 0.0401565\ttotal: 233ms\tremaining: 946ms\n",
      "198:\tlearn: 0.0399060\ttotal: 235ms\tremaining: 944ms\n",
      "199:\tlearn: 0.0397649\ttotal: 236ms\tremaining: 944ms\n",
      "200:\tlearn: 0.0395381\ttotal: 236ms\tremaining: 940ms\n",
      "201:\tlearn: 0.0394061\ttotal: 237ms\tremaining: 938ms\n",
      "202:\tlearn: 0.0392864\ttotal: 246ms\tremaining: 967ms\n",
      "203:\tlearn: 0.0390090\ttotal: 248ms\tremaining: 966ms\n",
      "204:\tlearn: 0.0388744\ttotal: 249ms\tremaining: 964ms\n",
      "205:\tlearn: 0.0386167\ttotal: 249ms\tremaining: 961ms\n",
      "206:\tlearn: 0.0385300\ttotal: 251ms\tremaining: 961ms\n",
      "207:\tlearn: 0.0384039\ttotal: 253ms\tremaining: 964ms\n",
      "208:\tlearn: 0.0382648\ttotal: 256ms\tremaining: 969ms\n",
      "209:\tlearn: 0.0380893\ttotal: 257ms\tremaining: 966ms\n",
      "210:\tlearn: 0.0378447\ttotal: 257ms\tremaining: 962ms\n",
      "211:\tlearn: 0.0377323\ttotal: 259ms\tremaining: 962ms\n"
     ]
    },
    {
     "name": "stdout",
     "output_type": "stream",
     "text": [
      "212:\tlearn: 0.0376050\ttotal: 263ms\tremaining: 970ms\n",
      "213:\tlearn: 0.0375060\ttotal: 264ms\tremaining: 968ms\n",
      "214:\tlearn: 0.0374191\ttotal: 265ms\tremaining: 969ms\n",
      "215:\tlearn: 0.0372925\ttotal: 266ms\tremaining: 967ms\n",
      "216:\tlearn: 0.0370692\ttotal: 267ms\tremaining: 963ms\n",
      "217:\tlearn: 0.0369441\ttotal: 268ms\tremaining: 960ms\n",
      "218:\tlearn: 0.0367767\ttotal: 269ms\tremaining: 959ms\n",
      "219:\tlearn: 0.0366302\ttotal: 270ms\tremaining: 958ms\n",
      "220:\tlearn: 0.0365508\ttotal: 271ms\tremaining: 956ms\n",
      "221:\tlearn: 0.0364408\ttotal: 273ms\tremaining: 955ms\n",
      "222:\tlearn: 0.0363262\ttotal: 273ms\tremaining: 952ms\n",
      "223:\tlearn: 0.0362572\ttotal: 275ms\tremaining: 954ms\n",
      "224:\tlearn: 0.0360902\ttotal: 276ms\tremaining: 952ms\n",
      "225:\tlearn: 0.0360208\ttotal: 278ms\tremaining: 951ms\n",
      "226:\tlearn: 0.0358470\ttotal: 279ms\tremaining: 948ms\n",
      "227:\tlearn: 0.0357549\ttotal: 279ms\tremaining: 944ms\n",
      "228:\tlearn: 0.0356504\ttotal: 280ms\tremaining: 942ms\n",
      "229:\tlearn: 0.0355279\ttotal: 281ms\tremaining: 940ms\n",
      "230:\tlearn: 0.0354268\ttotal: 282ms\tremaining: 940ms\n",
      "231:\tlearn: 0.0352932\ttotal: 283ms\tremaining: 938ms\n",
      "232:\tlearn: 0.0350951\ttotal: 291ms\tremaining: 958ms\n",
      "233:\tlearn: 0.0350038\ttotal: 293ms\tremaining: 959ms\n",
      "234:\tlearn: 0.0349128\ttotal: 294ms\tremaining: 956ms\n",
      "235:\tlearn: 0.0347663\ttotal: 295ms\tremaining: 954ms\n"
     ]
    },
    {
     "name": "stdout",
     "output_type": "stream",
     "text": [
      "236:\tlearn: 0.0347034\ttotal: 298ms\tremaining: 960ms\n",
      "237:\tlearn: 0.0345632\ttotal: 304ms\tremaining: 974ms\n",
      "238:\tlearn: 0.0344626\ttotal: 306ms\tremaining: 973ms\n",
      "239:\tlearn: 0.0343655\ttotal: 309ms\tremaining: 978ms\n",
      "240:\tlearn: 0.0341890\ttotal: 318ms\tremaining: 1s\n",
      "241:\tlearn: 0.0340919\ttotal: 323ms\tremaining: 1.01s\n",
      "242:\tlearn: 0.0339272\ttotal: 325ms\tremaining: 1.01s\n",
      "243:\tlearn: 0.0338103\ttotal: 327ms\tremaining: 1.01s\n",
      "244:\tlearn: 0.0336965\ttotal: 330ms\tremaining: 1.02s\n",
      "245:\tlearn: 0.0336016\ttotal: 332ms\tremaining: 1.02s\n",
      "246:\tlearn: 0.0335045\ttotal: 334ms\tremaining: 1.02s\n",
      "247:\tlearn: 0.0333912\ttotal: 336ms\tremaining: 1.02s\n",
      "248:\tlearn: 0.0333023\ttotal: 336ms\tremaining: 1.01s\n",
      "249:\tlearn: 0.0332224\ttotal: 338ms\tremaining: 1.01s\n",
      "250:\tlearn: 0.0331405\ttotal: 339ms\tremaining: 1.01s\n",
      "251:\tlearn: 0.0329523\ttotal: 340ms\tremaining: 1.01s\n",
      "252:\tlearn: 0.0328126\ttotal: 342ms\tremaining: 1.01s\n",
      "253:\tlearn: 0.0327617\ttotal: 342ms\tremaining: 1s\n",
      "254:\tlearn: 0.0325857\ttotal: 343ms\tremaining: 1s\n",
      "255:\tlearn: 0.0324899\ttotal: 344ms\tremaining: 999ms\n",
      "256:\tlearn: 0.0323899\ttotal: 344ms\tremaining: 994ms\n",
      "257:\tlearn: 0.0323143\ttotal: 344ms\tremaining: 990ms\n",
      "258:\tlearn: 0.0322395\ttotal: 345ms\tremaining: 986ms\n",
      "259:\tlearn: 0.0321663\ttotal: 350ms\tremaining: 997ms\n",
      "260:\tlearn: 0.0320573\ttotal: 351ms\tremaining: 993ms\n",
      "261:\tlearn: 0.0320202\ttotal: 351ms\tremaining: 989ms\n",
      "262:\tlearn: 0.0319483\ttotal: 351ms\tremaining: 985ms\n",
      "263:\tlearn: 0.0318679\ttotal: 352ms\tremaining: 981ms\n",
      "264:\tlearn: 0.0318095\ttotal: 355ms\tremaining: 983ms\n",
      "265:\tlearn: 0.0317418\ttotal: 367ms\tremaining: 1.01s\n",
      "266:\tlearn: 0.0317013\ttotal: 368ms\tremaining: 1.01s\n",
      "267:\tlearn: 0.0316143\ttotal: 368ms\tremaining: 1s\n",
      "268:\tlearn: 0.0315220\ttotal: 368ms\tremaining: 1s\n",
      "269:\tlearn: 0.0314210\ttotal: 370ms\tremaining: 1s\n",
      "270:\tlearn: 0.0312849\ttotal: 372ms\tremaining: 1000ms\n",
      "271:\tlearn: 0.0312039\ttotal: 372ms\tremaining: 996ms\n",
      "272:\tlearn: 0.0311575\ttotal: 373ms\tremaining: 992ms\n",
      "273:\tlearn: 0.0310681\ttotal: 373ms\tremaining: 989ms\n",
      "274:\tlearn: 0.0310330\ttotal: 374ms\tremaining: 985ms\n",
      "275:\tlearn: 0.0309284\ttotal: 374ms\tremaining: 981ms\n",
      "276:\tlearn: 0.0308118\ttotal: 374ms\tremaining: 977ms\n",
      "277:\tlearn: 0.0307602\ttotal: 375ms\tremaining: 974ms\n",
      "278:\tlearn: 0.0306324\ttotal: 375ms\tremaining: 970ms\n",
      "279:\tlearn: 0.0305890\ttotal: 376ms\tremaining: 966ms\n",
      "280:\tlearn: 0.0304999\ttotal: 376ms\tremaining: 963ms\n",
      "281:\tlearn: 0.0304374\ttotal: 377ms\tremaining: 959ms\n",
      "282:\tlearn: 0.0303693\ttotal: 378ms\tremaining: 957ms\n",
      "283:\tlearn: 0.0302489\ttotal: 378ms\tremaining: 954ms\n",
      "284:\tlearn: 0.0301362\ttotal: 379ms\tremaining: 951ms\n",
      "285:\tlearn: 0.0300586\ttotal: 379ms\tremaining: 947ms\n",
      "286:\tlearn: 0.0299896\ttotal: 382ms\tremaining: 949ms\n",
      "287:\tlearn: 0.0298907\ttotal: 382ms\tremaining: 945ms\n",
      "288:\tlearn: 0.0297954\ttotal: 384ms\tremaining: 944ms\n",
      "289:\tlearn: 0.0297368\ttotal: 384ms\tremaining: 941ms\n"
     ]
    },
    {
     "name": "stdout",
     "output_type": "stream",
     "text": [
      "290:\tlearn: 0.0296903\ttotal: 404ms\tremaining: 983ms\n",
      "291:\tlearn: 0.0296548\ttotal: 408ms\tremaining: 988ms\n",
      "292:\tlearn: 0.0296272\ttotal: 408ms\tremaining: 984ms\n",
      "293:\tlearn: 0.0295619\ttotal: 409ms\tremaining: 981ms\n",
      "294:\tlearn: 0.0295068\ttotal: 410ms\tremaining: 979ms\n",
      "295:\tlearn: 0.0294732\ttotal: 411ms\tremaining: 977ms\n",
      "296:\tlearn: 0.0293925\ttotal: 412ms\tremaining: 975ms\n",
      "297:\tlearn: 0.0292486\ttotal: 414ms\tremaining: 974ms\n",
      "298:\tlearn: 0.0291902\ttotal: 415ms\tremaining: 974ms\n",
      "299:\tlearn: 0.0290539\ttotal: 416ms\tremaining: 970ms\n",
      "300:\tlearn: 0.0290125\ttotal: 418ms\tremaining: 972ms\n",
      "301:\tlearn: 0.0289414\ttotal: 419ms\tremaining: 968ms\n",
      "302:\tlearn: 0.0288235\ttotal: 419ms\tremaining: 965ms\n",
      "303:\tlearn: 0.0287852\ttotal: 420ms\tremaining: 961ms\n",
      "304:\tlearn: 0.0287300\ttotal: 420ms\tremaining: 958ms\n",
      "305:\tlearn: 0.0286809\ttotal: 421ms\tremaining: 955ms\n",
      "306:\tlearn: 0.0286345\ttotal: 422ms\tremaining: 954ms\n",
      "307:\tlearn: 0.0285797\ttotal: 423ms\tremaining: 950ms\n",
      "308:\tlearn: 0.0285145\ttotal: 423ms\tremaining: 947ms\n",
      "309:\tlearn: 0.0284221\ttotal: 424ms\tremaining: 943ms\n",
      "310:\tlearn: 0.0283579\ttotal: 424ms\tremaining: 940ms\n",
      "311:\tlearn: 0.0283057\ttotal: 425ms\tremaining: 937ms\n",
      "312:\tlearn: 0.0282322\ttotal: 428ms\tremaining: 940ms\n",
      "313:\tlearn: 0.0281160\ttotal: 429ms\tremaining: 937ms\n",
      "314:\tlearn: 0.0279870\ttotal: 429ms\tremaining: 934ms\n",
      "315:\tlearn: 0.0279444\ttotal: 430ms\tremaining: 930ms\n",
      "316:\tlearn: 0.0278901\ttotal: 430ms\tremaining: 927ms\n",
      "317:\tlearn: 0.0278403\ttotal: 431ms\tremaining: 924ms\n",
      "318:\tlearn: 0.0278162\ttotal: 431ms\tremaining: 921ms\n"
     ]
    },
    {
     "name": "stdout",
     "output_type": "stream",
     "text": [
      "319:\tlearn: 0.0277819\ttotal: 438ms\tremaining: 930ms\n",
      "320:\tlearn: 0.0277373\ttotal: 439ms\tremaining: 928ms\n",
      "321:\tlearn: 0.0276952\ttotal: 443ms\tremaining: 934ms\n",
      "322:\tlearn: 0.0276139\ttotal: 446ms\tremaining: 934ms\n",
      "323:\tlearn: 0.0275551\ttotal: 447ms\tremaining: 932ms\n",
      "324:\tlearn: 0.0274550\ttotal: 448ms\tremaining: 930ms\n",
      "325:\tlearn: 0.0273713\ttotal: 451ms\tremaining: 931ms\n",
      "326:\tlearn: 0.0272511\ttotal: 451ms\tremaining: 929ms\n",
      "327:\tlearn: 0.0271736\ttotal: 452ms\tremaining: 926ms\n",
      "328:\tlearn: 0.0271094\ttotal: 457ms\tremaining: 932ms\n",
      "329:\tlearn: 0.0270128\ttotal: 458ms\tremaining: 929ms\n",
      "330:\tlearn: 0.0269680\ttotal: 458ms\tremaining: 926ms\n",
      "331:\tlearn: 0.0269154\ttotal: 461ms\tremaining: 927ms\n",
      "332:\tlearn: 0.0268243\ttotal: 462ms\tremaining: 925ms\n",
      "333:\tlearn: 0.0267882\ttotal: 467ms\tremaining: 932ms\n",
      "334:\tlearn: 0.0267461\ttotal: 468ms\tremaining: 929ms\n",
      "335:\tlearn: 0.0267263\ttotal: 469ms\tremaining: 926ms\n",
      "336:\tlearn: 0.0266695\ttotal: 469ms\tremaining: 923ms\n",
      "337:\tlearn: 0.0266286\ttotal: 469ms\tremaining: 919ms\n",
      "338:\tlearn: 0.0265391\ttotal: 470ms\tremaining: 916ms\n",
      "339:\tlearn: 0.0264907\ttotal: 470ms\tremaining: 913ms\n",
      "340:\tlearn: 0.0264230\ttotal: 471ms\tremaining: 910ms\n",
      "341:\tlearn: 0.0263392\ttotal: 471ms\tremaining: 907ms\n",
      "342:\tlearn: 0.0263067\ttotal: 472ms\tremaining: 904ms\n",
      "343:\tlearn: 0.0262625\ttotal: 473ms\tremaining: 901ms\n",
      "344:\tlearn: 0.0262379\ttotal: 473ms\tremaining: 898ms\n",
      "345:\tlearn: 0.0261873\ttotal: 474ms\tremaining: 895ms\n",
      "346:\tlearn: 0.0261302\ttotal: 489ms\tremaining: 921ms\n",
      "347:\tlearn: 0.0260920\ttotal: 490ms\tremaining: 918ms\n",
      "348:\tlearn: 0.0260397\ttotal: 490ms\tremaining: 914ms\n",
      "349:\tlearn: 0.0259830\ttotal: 495ms\tremaining: 920ms\n",
      "350:\tlearn: 0.0259465\ttotal: 496ms\tremaining: 917ms\n",
      "351:\tlearn: 0.0258693\ttotal: 498ms\tremaining: 917ms\n",
      "352:\tlearn: 0.0258437\ttotal: 499ms\tremaining: 914ms\n",
      "353:\tlearn: 0.0257722\ttotal: 499ms\tremaining: 911ms\n",
      "354:\tlearn: 0.0257237\ttotal: 500ms\tremaining: 908ms\n",
      "355:\tlearn: 0.0256222\ttotal: 500ms\tremaining: 905ms\n",
      "356:\tlearn: 0.0255645\ttotal: 502ms\tremaining: 904ms\n",
      "357:\tlearn: 0.0254984\ttotal: 502ms\tremaining: 901ms\n",
      "358:\tlearn: 0.0254601\ttotal: 502ms\tremaining: 897ms\n",
      "359:\tlearn: 0.0254139\ttotal: 504ms\tremaining: 895ms\n",
      "360:\tlearn: 0.0253838\ttotal: 504ms\tremaining: 893ms\n",
      "361:\tlearn: 0.0253345\ttotal: 505ms\tremaining: 890ms\n",
      "362:\tlearn: 0.0252364\ttotal: 505ms\tremaining: 887ms\n",
      "363:\tlearn: 0.0252042\ttotal: 506ms\tremaining: 884ms\n",
      "364:\tlearn: 0.0251587\ttotal: 506ms\tremaining: 881ms\n",
      "365:\tlearn: 0.0251110\ttotal: 507ms\tremaining: 878ms\n",
      "366:\tlearn: 0.0250692\ttotal: 507ms\tremaining: 875ms\n",
      "367:\tlearn: 0.0250204\ttotal: 508ms\tremaining: 872ms\n",
      "368:\tlearn: 0.0249709\ttotal: 508ms\tremaining: 869ms\n",
      "369:\tlearn: 0.0248968\ttotal: 509ms\tremaining: 867ms\n",
      "370:\tlearn: 0.0248071\ttotal: 509ms\tremaining: 864ms\n",
      "371:\tlearn: 0.0247549\ttotal: 510ms\tremaining: 861ms\n",
      "372:\tlearn: 0.0246671\ttotal: 510ms\tremaining: 858ms\n",
      "373:\tlearn: 0.0246434\ttotal: 511ms\tremaining: 855ms\n",
      "374:\tlearn: 0.0246004\ttotal: 512ms\tremaining: 853ms\n",
      "375:\tlearn: 0.0245013\ttotal: 512ms\tremaining: 850ms\n",
      "376:\tlearn: 0.0244511\ttotal: 513ms\tremaining: 847ms\n",
      "377:\tlearn: 0.0244209\ttotal: 513ms\tremaining: 844ms\n",
      "378:\tlearn: 0.0243546\ttotal: 514ms\tremaining: 842ms\n",
      "379:\tlearn: 0.0242903\ttotal: 514ms\tremaining: 839ms\n",
      "380:\tlearn: 0.0242615\ttotal: 515ms\tremaining: 836ms\n",
      "381:\tlearn: 0.0242395\ttotal: 518ms\tremaining: 838ms\n",
      "382:\tlearn: 0.0241921\ttotal: 518ms\tremaining: 835ms\n",
      "383:\tlearn: 0.0241576\ttotal: 519ms\tremaining: 832ms\n",
      "384:\tlearn: 0.0241125\ttotal: 519ms\tremaining: 829ms\n",
      "385:\tlearn: 0.0240587\ttotal: 520ms\tremaining: 826ms\n",
      "386:\tlearn: 0.0240126\ttotal: 520ms\tremaining: 824ms\n",
      "387:\tlearn: 0.0239843\ttotal: 520ms\tremaining: 821ms\n",
      "388:\tlearn: 0.0239064\ttotal: 521ms\tremaining: 818ms\n",
      "389:\tlearn: 0.0238754\ttotal: 522ms\tremaining: 816ms\n",
      "390:\tlearn: 0.0238326\ttotal: 522ms\tremaining: 813ms\n",
      "391:\tlearn: 0.0237903\ttotal: 523ms\tremaining: 812ms\n",
      "392:\tlearn: 0.0237500\ttotal: 524ms\tremaining: 809ms\n",
      "393:\tlearn: 0.0237304\ttotal: 524ms\tremaining: 806ms\n",
      "394:\tlearn: 0.0236622\ttotal: 525ms\tremaining: 805ms\n",
      "395:\tlearn: 0.0236229\ttotal: 526ms\tremaining: 802ms\n",
      "396:\tlearn: 0.0235823\ttotal: 529ms\tremaining: 803ms\n",
      "397:\tlearn: 0.0235339\ttotal: 529ms\tremaining: 801ms\n",
      "398:\tlearn: 0.0234986\ttotal: 530ms\tremaining: 798ms\n",
      "399:\tlearn: 0.0234603\ttotal: 530ms\tremaining: 795ms\n",
      "400:\tlearn: 0.0234238\ttotal: 532ms\tremaining: 794ms\n",
      "401:\tlearn: 0.0233497\ttotal: 534ms\tremaining: 795ms\n",
      "402:\tlearn: 0.0233154\ttotal: 535ms\tremaining: 792ms\n",
      "403:\tlearn: 0.0232863\ttotal: 535ms\tremaining: 789ms\n",
      "404:\tlearn: 0.0232541\ttotal: 537ms\tremaining: 788ms\n",
      "405:\tlearn: 0.0232183\ttotal: 537ms\tremaining: 786ms\n",
      "406:\tlearn: 0.0231845\ttotal: 538ms\tremaining: 783ms\n",
      "407:\tlearn: 0.0231455\ttotal: 538ms\tremaining: 781ms\n",
      "408:\tlearn: 0.0230635\ttotal: 538ms\tremaining: 778ms\n",
      "409:\tlearn: 0.0230110\ttotal: 539ms\tremaining: 775ms\n",
      "410:\tlearn: 0.0229915\ttotal: 539ms\tremaining: 773ms\n",
      "411:\tlearn: 0.0229222\ttotal: 540ms\tremaining: 770ms\n",
      "412:\tlearn: 0.0228857\ttotal: 540ms\tremaining: 768ms\n",
      "413:\tlearn: 0.0228506\ttotal: 541ms\tremaining: 765ms\n"
     ]
    },
    {
     "name": "stdout",
     "output_type": "stream",
     "text": [
      "414:\tlearn: 0.0228261\ttotal: 545ms\tremaining: 768ms\n",
      "415:\tlearn: 0.0227950\ttotal: 545ms\tremaining: 765ms\n",
      "416:\tlearn: 0.0227695\ttotal: 546ms\tremaining: 763ms\n",
      "417:\tlearn: 0.0227505\ttotal: 546ms\tremaining: 760ms\n",
      "418:\tlearn: 0.0227253\ttotal: 547ms\tremaining: 758ms\n",
      "419:\tlearn: 0.0226990\ttotal: 547ms\tremaining: 756ms\n",
      "420:\tlearn: 0.0226684\ttotal: 548ms\tremaining: 754ms\n",
      "421:\tlearn: 0.0226257\ttotal: 548ms\tremaining: 751ms\n",
      "422:\tlearn: 0.0225703\ttotal: 549ms\tremaining: 749ms\n",
      "423:\tlearn: 0.0225322\ttotal: 549ms\tremaining: 746ms\n",
      "424:\tlearn: 0.0224979\ttotal: 550ms\tremaining: 744ms\n",
      "425:\tlearn: 0.0224585\ttotal: 550ms\tremaining: 741ms\n",
      "426:\tlearn: 0.0224115\ttotal: 551ms\tremaining: 739ms\n",
      "427:\tlearn: 0.0223897\ttotal: 551ms\tremaining: 737ms\n",
      "428:\tlearn: 0.0223457\ttotal: 552ms\tremaining: 734ms\n",
      "429:\tlearn: 0.0223119\ttotal: 552ms\tremaining: 732ms\n",
      "430:\tlearn: 0.0222779\ttotal: 552ms\tremaining: 729ms\n",
      "431:\tlearn: 0.0222502\ttotal: 553ms\tremaining: 727ms\n",
      "432:\tlearn: 0.0222223\ttotal: 553ms\tremaining: 725ms\n",
      "433:\tlearn: 0.0221928\ttotal: 554ms\tremaining: 722ms\n",
      "434:\tlearn: 0.0221412\ttotal: 554ms\tremaining: 720ms\n",
      "435:\tlearn: 0.0221122\ttotal: 555ms\tremaining: 718ms\n",
      "436:\tlearn: 0.0220659\ttotal: 555ms\tremaining: 716ms\n",
      "437:\tlearn: 0.0220434\ttotal: 556ms\tremaining: 713ms\n",
      "438:\tlearn: 0.0220134\ttotal: 556ms\tremaining: 711ms\n",
      "439:\tlearn: 0.0219774\ttotal: 557ms\tremaining: 709ms\n",
      "440:\tlearn: 0.0219281\ttotal: 558ms\tremaining: 707ms\n",
      "441:\tlearn: 0.0219002\ttotal: 559ms\tremaining: 705ms\n",
      "442:\tlearn: 0.0218700\ttotal: 559ms\tremaining: 703ms\n",
      "443:\tlearn: 0.0218411\ttotal: 560ms\tremaining: 701ms\n",
      "444:\tlearn: 0.0218095\ttotal: 560ms\tremaining: 698ms\n",
      "445:\tlearn: 0.0217843\ttotal: 560ms\tremaining: 696ms\n",
      "446:\tlearn: 0.0217086\ttotal: 561ms\tremaining: 694ms\n",
      "447:\tlearn: 0.0216844\ttotal: 561ms\tremaining: 692ms\n",
      "448:\tlearn: 0.0216630\ttotal: 562ms\tremaining: 690ms\n",
      "449:\tlearn: 0.0216153\ttotal: 569ms\tremaining: 696ms\n"
     ]
    },
    {
     "name": "stdout",
     "output_type": "stream",
     "text": [
      "450:\tlearn: 0.0215788\ttotal: 575ms\tremaining: 700ms\n",
      "451:\tlearn: 0.0215532\ttotal: 579ms\tremaining: 701ms\n",
      "452:\tlearn: 0.0215100\ttotal: 579ms\tremaining: 699ms\n",
      "453:\tlearn: 0.0214457\ttotal: 585ms\tremaining: 703ms\n",
      "454:\tlearn: 0.0214174\ttotal: 585ms\tremaining: 701ms\n",
      "455:\tlearn: 0.0213693\ttotal: 586ms\tremaining: 699ms\n",
      "456:\tlearn: 0.0213148\ttotal: 586ms\tremaining: 696ms\n",
      "457:\tlearn: 0.0212942\ttotal: 587ms\tremaining: 694ms\n",
      "458:\tlearn: 0.0212677\ttotal: 587ms\tremaining: 692ms\n",
      "459:\tlearn: 0.0212508\ttotal: 587ms\tremaining: 689ms\n",
      "460:\tlearn: 0.0212225\ttotal: 587ms\tremaining: 687ms\n",
      "461:\tlearn: 0.0211835\ttotal: 588ms\tremaining: 684ms\n",
      "462:\tlearn: 0.0211110\ttotal: 588ms\tremaining: 682ms\n",
      "463:\tlearn: 0.0210521\ttotal: 589ms\tremaining: 680ms\n",
      "464:\tlearn: 0.0210346\ttotal: 589ms\tremaining: 678ms\n",
      "465:\tlearn: 0.0209886\ttotal: 590ms\tremaining: 676ms\n",
      "466:\tlearn: 0.0209669\ttotal: 590ms\tremaining: 673ms\n",
      "467:\tlearn: 0.0209454\ttotal: 590ms\tremaining: 671ms\n",
      "468:\tlearn: 0.0209166\ttotal: 592ms\tremaining: 670ms\n",
      "469:\tlearn: 0.0208846\ttotal: 592ms\tremaining: 668ms\n",
      "470:\tlearn: 0.0208339\ttotal: 592ms\tremaining: 665ms\n",
      "471:\tlearn: 0.0207657\ttotal: 593ms\tremaining: 663ms\n",
      "472:\tlearn: 0.0207452\ttotal: 593ms\tremaining: 661ms\n",
      "473:\tlearn: 0.0207167\ttotal: 593ms\tremaining: 658ms\n",
      "474:\tlearn: 0.0206877\ttotal: 593ms\tremaining: 656ms\n",
      "475:\tlearn: 0.0206604\ttotal: 594ms\tremaining: 654ms\n",
      "476:\tlearn: 0.0206445\ttotal: 594ms\tremaining: 651ms\n",
      "477:\tlearn: 0.0205939\ttotal: 594ms\tremaining: 649ms\n",
      "478:\tlearn: 0.0205758\ttotal: 595ms\tremaining: 647ms\n",
      "479:\tlearn: 0.0205576\ttotal: 595ms\tremaining: 644ms\n",
      "480:\tlearn: 0.0205381\ttotal: 595ms\tremaining: 642ms\n",
      "481:\tlearn: 0.0205079\ttotal: 596ms\tremaining: 640ms\n",
      "482:\tlearn: 0.0204603\ttotal: 596ms\tremaining: 638ms\n",
      "483:\tlearn: 0.0203999\ttotal: 596ms\tremaining: 636ms\n",
      "484:\tlearn: 0.0203754\ttotal: 597ms\tremaining: 634ms\n",
      "485:\tlearn: 0.0203411\ttotal: 598ms\tremaining: 632ms\n",
      "486:\tlearn: 0.0203132\ttotal: 598ms\tremaining: 630ms\n",
      "487:\tlearn: 0.0202867\ttotal: 599ms\tremaining: 628ms\n",
      "488:\tlearn: 0.0202696\ttotal: 599ms\tremaining: 626ms\n",
      "489:\tlearn: 0.0202508\ttotal: 600ms\tremaining: 624ms\n",
      "490:\tlearn: 0.0202017\ttotal: 602ms\tremaining: 624ms\n",
      "491:\tlearn: 0.0201672\ttotal: 609ms\tremaining: 628ms\n",
      "492:\tlearn: 0.0201290\ttotal: 611ms\tremaining: 629ms\n",
      "493:\tlearn: 0.0201020\ttotal: 612ms\tremaining: 627ms\n",
      "494:\tlearn: 0.0200764\ttotal: 612ms\tremaining: 625ms\n",
      "495:\tlearn: 0.0200603\ttotal: 625ms\tremaining: 635ms\n",
      "496:\tlearn: 0.0200370\ttotal: 625ms\tremaining: 633ms\n",
      "497:\tlearn: 0.0200095\ttotal: 625ms\tremaining: 630ms\n",
      "498:\tlearn: 0.0199681\ttotal: 626ms\tremaining: 628ms\n",
      "499:\tlearn: 0.0199501\ttotal: 626ms\tremaining: 626ms\n",
      "500:\tlearn: 0.0199097\ttotal: 627ms\tremaining: 625ms\n",
      "501:\tlearn: 0.0198864\ttotal: 628ms\tremaining: 623ms\n",
      "502:\tlearn: 0.0198536\ttotal: 628ms\tremaining: 621ms\n",
      "503:\tlearn: 0.0198288\ttotal: 635ms\tremaining: 625ms\n",
      "504:\tlearn: 0.0198035\ttotal: 636ms\tremaining: 623ms\n",
      "505:\tlearn: 0.0197794\ttotal: 636ms\tremaining: 621ms\n",
      "506:\tlearn: 0.0197573\ttotal: 637ms\tremaining: 619ms\n",
      "507:\tlearn: 0.0197344\ttotal: 637ms\tremaining: 617ms\n",
      "508:\tlearn: 0.0197238\ttotal: 637ms\tremaining: 615ms\n",
      "509:\tlearn: 0.0196814\ttotal: 638ms\tremaining: 613ms\n",
      "510:\tlearn: 0.0196539\ttotal: 638ms\tremaining: 611ms\n",
      "511:\tlearn: 0.0196363\ttotal: 639ms\tremaining: 609ms\n",
      "512:\tlearn: 0.0195971\ttotal: 639ms\tremaining: 607ms\n",
      "513:\tlearn: 0.0195596\ttotal: 640ms\tremaining: 605ms\n",
      "514:\tlearn: 0.0195352\ttotal: 641ms\tremaining: 603ms\n",
      "515:\tlearn: 0.0195142\ttotal: 641ms\tremaining: 601ms\n",
      "516:\tlearn: 0.0194997\ttotal: 642ms\tremaining: 599ms\n",
      "517:\tlearn: 0.0194875\ttotal: 642ms\tremaining: 597ms\n",
      "518:\tlearn: 0.0194559\ttotal: 642ms\tremaining: 595ms\n",
      "519:\tlearn: 0.0194190\ttotal: 643ms\tremaining: 593ms\n",
      "520:\tlearn: 0.0193997\ttotal: 643ms\tremaining: 591ms\n",
      "521:\tlearn: 0.0193732\ttotal: 644ms\tremaining: 589ms\n",
      "522:\tlearn: 0.0193499\ttotal: 644ms\tremaining: 588ms\n",
      "523:\tlearn: 0.0193194\ttotal: 645ms\tremaining: 586ms\n",
      "524:\tlearn: 0.0192990\ttotal: 645ms\tremaining: 584ms\n",
      "525:\tlearn: 0.0192865\ttotal: 646ms\tremaining: 582ms\n",
      "526:\tlearn: 0.0192647\ttotal: 646ms\tremaining: 580ms\n",
      "527:\tlearn: 0.0192422\ttotal: 647ms\tremaining: 578ms\n",
      "528:\tlearn: 0.0192132\ttotal: 657ms\tremaining: 585ms\n",
      "529:\tlearn: 0.0191817\ttotal: 658ms\tremaining: 584ms\n",
      "530:\tlearn: 0.0191636\ttotal: 659ms\tremaining: 582ms\n",
      "531:\tlearn: 0.0191289\ttotal: 659ms\tremaining: 580ms\n",
      "532:\tlearn: 0.0191025\ttotal: 659ms\tremaining: 578ms\n",
      "533:\tlearn: 0.0190763\ttotal: 660ms\tremaining: 576ms\n",
      "534:\tlearn: 0.0190533\ttotal: 660ms\tremaining: 574ms\n",
      "535:\tlearn: 0.0190314\ttotal: 660ms\tremaining: 572ms\n",
      "536:\tlearn: 0.0190139\ttotal: 660ms\tremaining: 569ms\n",
      "537:\tlearn: 0.0189831\ttotal: 661ms\tremaining: 567ms\n",
      "538:\tlearn: 0.0189553\ttotal: 661ms\tremaining: 566ms\n",
      "539:\tlearn: 0.0189281\ttotal: 661ms\tremaining: 563ms\n",
      "540:\tlearn: 0.0189023\ttotal: 662ms\tremaining: 561ms\n",
      "541:\tlearn: 0.0188769\ttotal: 662ms\tremaining: 559ms\n",
      "542:\tlearn: 0.0188708\ttotal: 663ms\tremaining: 558ms\n",
      "543:\tlearn: 0.0188415\ttotal: 663ms\tremaining: 556ms\n",
      "544:\tlearn: 0.0188027\ttotal: 663ms\tremaining: 554ms\n",
      "545:\tlearn: 0.0187844\ttotal: 664ms\tremaining: 552ms\n",
      "546:\tlearn: 0.0187676\ttotal: 664ms\tremaining: 550ms\n",
      "547:\tlearn: 0.0187508\ttotal: 664ms\tremaining: 548ms\n",
      "548:\tlearn: 0.0187418\ttotal: 665ms\tremaining: 546ms\n",
      "549:\tlearn: 0.0187169\ttotal: 666ms\tremaining: 545ms\n",
      "550:\tlearn: 0.0186933\ttotal: 666ms\tremaining: 543ms\n",
      "551:\tlearn: 0.0186780\ttotal: 666ms\tremaining: 541ms\n",
      "552:\tlearn: 0.0186626\ttotal: 667ms\tremaining: 539ms\n",
      "553:\tlearn: 0.0186442\ttotal: 667ms\tremaining: 537ms\n",
      "554:\tlearn: 0.0185874\ttotal: 668ms\tremaining: 535ms\n",
      "555:\tlearn: 0.0185577\ttotal: 668ms\tremaining: 534ms\n",
      "556:\tlearn: 0.0185414\ttotal: 669ms\tremaining: 532ms\n",
      "557:\tlearn: 0.0185328\ttotal: 669ms\tremaining: 530ms\n",
      "558:\tlearn: 0.0185077\ttotal: 669ms\tremaining: 528ms\n",
      "559:\tlearn: 0.0184859\ttotal: 669ms\tremaining: 526ms\n",
      "560:\tlearn: 0.0184650\ttotal: 670ms\tremaining: 524ms\n",
      "561:\tlearn: 0.0184325\ttotal: 670ms\tremaining: 522ms\n",
      "562:\tlearn: 0.0184135\ttotal: 670ms\tremaining: 520ms\n",
      "563:\tlearn: 0.0183880\ttotal: 671ms\tremaining: 518ms\n",
      "564:\tlearn: 0.0183709\ttotal: 671ms\tremaining: 517ms\n",
      "565:\tlearn: 0.0183571\ttotal: 671ms\tremaining: 515ms\n",
      "566:\tlearn: 0.0183264\ttotal: 672ms\tremaining: 513ms\n",
      "567:\tlearn: 0.0183121\ttotal: 672ms\tremaining: 511ms\n",
      "568:\tlearn: 0.0182987\ttotal: 672ms\tremaining: 509ms\n",
      "569:\tlearn: 0.0182842\ttotal: 672ms\tremaining: 507ms\n",
      "570:\tlearn: 0.0182461\ttotal: 673ms\tremaining: 505ms\n",
      "571:\tlearn: 0.0182101\ttotal: 673ms\tremaining: 504ms\n",
      "572:\tlearn: 0.0181906\ttotal: 673ms\tremaining: 502ms\n",
      "573:\tlearn: 0.0181641\ttotal: 674ms\tremaining: 500ms\n",
      "574:\tlearn: 0.0181437\ttotal: 674ms\tremaining: 498ms\n",
      "575:\tlearn: 0.0181212\ttotal: 680ms\tremaining: 501ms\n"
     ]
    },
    {
     "name": "stdout",
     "output_type": "stream",
     "text": [
      "576:\tlearn: 0.0181034\ttotal: 681ms\tremaining: 500ms\n",
      "577:\tlearn: 0.0180787\ttotal: 682ms\tremaining: 498ms\n",
      "578:\tlearn: 0.0180509\ttotal: 682ms\tremaining: 496ms\n",
      "579:\tlearn: 0.0180169\ttotal: 683ms\tremaining: 495ms\n",
      "580:\tlearn: 0.0180022\ttotal: 687ms\tremaining: 496ms\n",
      "581:\tlearn: 0.0179853\ttotal: 688ms\tremaining: 494ms\n",
      "582:\tlearn: 0.0179711\ttotal: 688ms\tremaining: 492ms\n",
      "583:\tlearn: 0.0179505\ttotal: 698ms\tremaining: 498ms\n",
      "584:\tlearn: 0.0179289\ttotal: 699ms\tremaining: 496ms\n",
      "585:\tlearn: 0.0179125\ttotal: 699ms\tremaining: 494ms\n",
      "586:\tlearn: 0.0178854\ttotal: 700ms\tremaining: 492ms\n",
      "587:\tlearn: 0.0178529\ttotal: 700ms\tremaining: 491ms\n",
      "588:\tlearn: 0.0178397\ttotal: 701ms\tremaining: 489ms\n",
      "589:\tlearn: 0.0178268\ttotal: 701ms\tremaining: 487ms\n",
      "590:\tlearn: 0.0177953\ttotal: 702ms\tremaining: 486ms\n",
      "591:\tlearn: 0.0177592\ttotal: 702ms\tremaining: 484ms\n",
      "592:\tlearn: 0.0177388\ttotal: 703ms\tremaining: 482ms\n",
      "593:\tlearn: 0.0177053\ttotal: 703ms\tremaining: 481ms\n",
      "594:\tlearn: 0.0176905\ttotal: 704ms\tremaining: 479ms\n",
      "595:\tlearn: 0.0176659\ttotal: 704ms\tremaining: 477ms\n",
      "596:\tlearn: 0.0176465\ttotal: 705ms\tremaining: 476ms\n",
      "597:\tlearn: 0.0176328\ttotal: 706ms\tremaining: 475ms\n",
      "598:\tlearn: 0.0176115\ttotal: 707ms\tremaining: 473ms\n",
      "599:\tlearn: 0.0176042\ttotal: 707ms\tremaining: 472ms\n"
     ]
    },
    {
     "name": "stdout",
     "output_type": "stream",
     "text": [
      "600:\tlearn: 0.0175714\ttotal: 716ms\tremaining: 475ms\n",
      "601:\tlearn: 0.0175588\ttotal: 722ms\tremaining: 477ms\n",
      "602:\tlearn: 0.0175319\ttotal: 723ms\tremaining: 476ms\n",
      "603:\tlearn: 0.0175165\ttotal: 726ms\tremaining: 476ms\n",
      "604:\tlearn: 0.0175067\ttotal: 727ms\tremaining: 474ms\n",
      "605:\tlearn: 0.0174970\ttotal: 727ms\tremaining: 473ms\n",
      "606:\tlearn: 0.0174887\ttotal: 727ms\tremaining: 471ms\n",
      "607:\tlearn: 0.0174730\ttotal: 728ms\tremaining: 469ms\n",
      "608:\tlearn: 0.0174502\ttotal: 728ms\tremaining: 468ms\n",
      "609:\tlearn: 0.0174317\ttotal: 729ms\tremaining: 466ms\n",
      "610:\tlearn: 0.0174066\ttotal: 729ms\tremaining: 464ms\n",
      "611:\tlearn: 0.0173758\ttotal: 730ms\tremaining: 463ms\n",
      "612:\tlearn: 0.0173478\ttotal: 730ms\tremaining: 461ms\n",
      "613:\tlearn: 0.0173251\ttotal: 731ms\tremaining: 460ms\n",
      "614:\tlearn: 0.0173067\ttotal: 731ms\tremaining: 458ms\n",
      "615:\tlearn: 0.0172874\ttotal: 732ms\tremaining: 456ms\n",
      "616:\tlearn: 0.0172576\ttotal: 732ms\tremaining: 455ms\n",
      "617:\tlearn: 0.0172213\ttotal: 733ms\tremaining: 453ms\n",
      "618:\tlearn: 0.0172041\ttotal: 733ms\tremaining: 451ms\n",
      "619:\tlearn: 0.0171940\ttotal: 734ms\tremaining: 450ms\n",
      "620:\tlearn: 0.0171880\ttotal: 734ms\tremaining: 448ms\n",
      "621:\tlearn: 0.0171818\ttotal: 735ms\tremaining: 447ms\n",
      "622:\tlearn: 0.0171599\ttotal: 737ms\tremaining: 446ms\n",
      "623:\tlearn: 0.0171471\ttotal: 741ms\tremaining: 447ms\n",
      "624:\tlearn: 0.0171181\ttotal: 745ms\tremaining: 447ms\n",
      "625:\tlearn: 0.0170979\ttotal: 752ms\tremaining: 449ms\n",
      "626:\tlearn: 0.0170791\ttotal: 756ms\tremaining: 450ms\n",
      "627:\tlearn: 0.0170520\ttotal: 756ms\tremaining: 448ms\n",
      "628:\tlearn: 0.0170357\ttotal: 758ms\tremaining: 447ms\n",
      "629:\tlearn: 0.0170185\ttotal: 758ms\tremaining: 445ms\n",
      "630:\tlearn: 0.0170071\ttotal: 759ms\tremaining: 444ms\n",
      "631:\tlearn: 0.0169928\ttotal: 759ms\tremaining: 442ms\n",
      "632:\tlearn: 0.0169695\ttotal: 760ms\tremaining: 440ms\n",
      "633:\tlearn: 0.0169368\ttotal: 760ms\tremaining: 439ms\n",
      "634:\tlearn: 0.0169146\ttotal: 760ms\tremaining: 437ms\n",
      "635:\tlearn: 0.0169088\ttotal: 761ms\tremaining: 435ms\n",
      "636:\tlearn: 0.0168974\ttotal: 761ms\tremaining: 434ms\n",
      "637:\tlearn: 0.0168756\ttotal: 762ms\tremaining: 432ms\n",
      "638:\tlearn: 0.0168570\ttotal: 762ms\tremaining: 431ms\n",
      "639:\tlearn: 0.0168401\ttotal: 766ms\tremaining: 431ms\n",
      "640:\tlearn: 0.0168159\ttotal: 769ms\tremaining: 431ms\n",
      "641:\tlearn: 0.0168111\ttotal: 770ms\tremaining: 429ms\n",
      "642:\tlearn: 0.0168003\ttotal: 770ms\tremaining: 428ms\n",
      "643:\tlearn: 0.0167879\ttotal: 771ms\tremaining: 426ms\n",
      "644:\tlearn: 0.0167662\ttotal: 771ms\tremaining: 425ms\n",
      "645:\tlearn: 0.0167398\ttotal: 772ms\tremaining: 423ms\n",
      "646:\tlearn: 0.0167179\ttotal: 772ms\tremaining: 421ms\n",
      "647:\tlearn: 0.0166985\ttotal: 773ms\tremaining: 420ms\n",
      "648:\tlearn: 0.0166802\ttotal: 774ms\tremaining: 419ms\n",
      "649:\tlearn: 0.0166670\ttotal: 775ms\tremaining: 417ms\n",
      "650:\tlearn: 0.0166368\ttotal: 775ms\tremaining: 416ms\n",
      "651:\tlearn: 0.0166318\ttotal: 779ms\tremaining: 416ms\n",
      "652:\tlearn: 0.0166202\ttotal: 780ms\tremaining: 414ms\n",
      "653:\tlearn: 0.0166123\ttotal: 780ms\tremaining: 413ms\n",
      "654:\tlearn: 0.0166003\ttotal: 780ms\tremaining: 411ms\n",
      "655:\tlearn: 0.0165855\ttotal: 781ms\tremaining: 410ms\n",
      "656:\tlearn: 0.0165692\ttotal: 782ms\tremaining: 408ms\n",
      "657:\tlearn: 0.0165421\ttotal: 782ms\tremaining: 406ms\n",
      "658:\tlearn: 0.0165343\ttotal: 782ms\tremaining: 405ms\n",
      "659:\tlearn: 0.0165171\ttotal: 783ms\tremaining: 403ms\n",
      "660:\tlearn: 0.0164990\ttotal: 783ms\tremaining: 402ms\n",
      "661:\tlearn: 0.0164943\ttotal: 784ms\tremaining: 400ms\n",
      "662:\tlearn: 0.0164881\ttotal: 784ms\tremaining: 399ms\n",
      "663:\tlearn: 0.0164675\ttotal: 786ms\tremaining: 398ms\n",
      "664:\tlearn: 0.0164547\ttotal: 786ms\tremaining: 396ms\n",
      "665:\tlearn: 0.0164386\ttotal: 787ms\tremaining: 395ms\n",
      "666:\tlearn: 0.0164320\ttotal: 787ms\tremaining: 393ms\n",
      "667:\tlearn: 0.0164241\ttotal: 788ms\tremaining: 392ms\n",
      "668:\tlearn: 0.0164029\ttotal: 788ms\tremaining: 390ms\n",
      "669:\tlearn: 0.0163875\ttotal: 789ms\tremaining: 389ms\n",
      "670:\tlearn: 0.0163726\ttotal: 789ms\tremaining: 387ms\n",
      "671:\tlearn: 0.0163602\ttotal: 790ms\tremaining: 386ms\n",
      "672:\tlearn: 0.0163456\ttotal: 791ms\tremaining: 384ms\n",
      "673:\tlearn: 0.0163257\ttotal: 791ms\tremaining: 383ms\n",
      "674:\tlearn: 0.0163133\ttotal: 792ms\tremaining: 381ms\n",
      "675:\tlearn: 0.0162879\ttotal: 792ms\tremaining: 380ms\n",
      "676:\tlearn: 0.0162721\ttotal: 793ms\tremaining: 378ms\n",
      "677:\tlearn: 0.0162527\ttotal: 793ms\tremaining: 377ms\n",
      "678:\tlearn: 0.0162395\ttotal: 794ms\tremaining: 375ms\n",
      "679:\tlearn: 0.0162239\ttotal: 794ms\tremaining: 374ms\n",
      "680:\tlearn: 0.0162144\ttotal: 795ms\tremaining: 372ms\n",
      "681:\tlearn: 0.0161950\ttotal: 795ms\tremaining: 371ms\n",
      "682:\tlearn: 0.0161808\ttotal: 796ms\tremaining: 369ms\n",
      "683:\tlearn: 0.0161712\ttotal: 796ms\tremaining: 368ms\n",
      "684:\tlearn: 0.0161548\ttotal: 797ms\tremaining: 366ms\n",
      "685:\tlearn: 0.0161386\ttotal: 797ms\tremaining: 365ms\n",
      "686:\tlearn: 0.0161287\ttotal: 798ms\tremaining: 364ms\n",
      "687:\tlearn: 0.0161108\ttotal: 798ms\tremaining: 362ms\n",
      "688:\tlearn: 0.0160915\ttotal: 801ms\tremaining: 362ms\n"
     ]
    },
    {
     "name": "stdout",
     "output_type": "stream",
     "text": [
      "689:\tlearn: 0.0160574\ttotal: 805ms\tremaining: 362ms\n",
      "690:\tlearn: 0.0160330\ttotal: 805ms\tremaining: 360ms\n",
      "691:\tlearn: 0.0160183\ttotal: 806ms\tremaining: 359ms\n",
      "692:\tlearn: 0.0159954\ttotal: 809ms\tremaining: 358ms\n",
      "693:\tlearn: 0.0159850\ttotal: 809ms\tremaining: 357ms\n",
      "694:\tlearn: 0.0159661\ttotal: 810ms\tremaining: 355ms\n",
      "695:\tlearn: 0.0159456\ttotal: 811ms\tremaining: 354ms\n",
      "696:\tlearn: 0.0158990\ttotal: 811ms\tremaining: 353ms\n",
      "697:\tlearn: 0.0158925\ttotal: 811ms\tremaining: 351ms\n",
      "698:\tlearn: 0.0158640\ttotal: 817ms\tremaining: 352ms\n",
      "699:\tlearn: 0.0158456\ttotal: 817ms\tremaining: 350ms\n",
      "700:\tlearn: 0.0158281\ttotal: 822ms\tremaining: 351ms\n",
      "701:\tlearn: 0.0158138\ttotal: 823ms\tremaining: 349ms\n",
      "702:\tlearn: 0.0158060\ttotal: 823ms\tremaining: 348ms\n",
      "703:\tlearn: 0.0158015\ttotal: 824ms\tremaining: 346ms\n",
      "704:\tlearn: 0.0157830\ttotal: 824ms\tremaining: 345ms\n",
      "705:\tlearn: 0.0157618\ttotal: 825ms\tremaining: 343ms\n",
      "706:\tlearn: 0.0157327\ttotal: 825ms\tremaining: 342ms\n",
      "707:\tlearn: 0.0157229\ttotal: 826ms\tremaining: 341ms\n",
      "708:\tlearn: 0.0157063\ttotal: 831ms\tremaining: 341ms\n",
      "709:\tlearn: 0.0156902\ttotal: 831ms\tremaining: 339ms\n",
      "710:\tlearn: 0.0156796\ttotal: 832ms\tremaining: 338ms\n",
      "711:\tlearn: 0.0156719\ttotal: 832ms\tremaining: 337ms\n",
      "712:\tlearn: 0.0156608\ttotal: 832ms\tremaining: 335ms\n",
      "713:\tlearn: 0.0156430\ttotal: 834ms\tremaining: 334ms\n",
      "714:\tlearn: 0.0156331\ttotal: 834ms\tremaining: 332ms\n",
      "715:\tlearn: 0.0156018\ttotal: 834ms\tremaining: 331ms\n",
      "716:\tlearn: 0.0155870\ttotal: 835ms\tremaining: 330ms\n",
      "717:\tlearn: 0.0155830\ttotal: 835ms\tremaining: 328ms\n",
      "718:\tlearn: 0.0155615\ttotal: 836ms\tremaining: 327ms\n",
      "719:\tlearn: 0.0155464\ttotal: 836ms\tremaining: 325ms\n",
      "720:\tlearn: 0.0155026\ttotal: 837ms\tremaining: 324ms\n",
      "721:\tlearn: 0.0154849\ttotal: 837ms\tremaining: 322ms\n",
      "722:\tlearn: 0.0154718\ttotal: 838ms\tremaining: 321ms\n",
      "723:\tlearn: 0.0154676\ttotal: 838ms\tremaining: 320ms\n",
      "724:\tlearn: 0.0154523\ttotal: 839ms\tremaining: 318ms\n",
      "725:\tlearn: 0.0154320\ttotal: 839ms\tremaining: 317ms\n",
      "726:\tlearn: 0.0154176\ttotal: 840ms\tremaining: 315ms\n",
      "727:\tlearn: 0.0154147\ttotal: 840ms\tremaining: 314ms\n",
      "728:\tlearn: 0.0154020\ttotal: 841ms\tremaining: 313ms\n",
      "729:\tlearn: 0.0153931\ttotal: 841ms\tremaining: 311ms\n",
      "730:\tlearn: 0.0153853\ttotal: 842ms\tremaining: 310ms\n",
      "731:\tlearn: 0.0153708\ttotal: 842ms\tremaining: 308ms\n"
     ]
    },
    {
     "name": "stdout",
     "output_type": "stream",
     "text": [
      "732:\tlearn: 0.0153543\ttotal: 846ms\tremaining: 308ms\n",
      "733:\tlearn: 0.0153429\ttotal: 846ms\tremaining: 307ms\n",
      "734:\tlearn: 0.0153192\ttotal: 847ms\tremaining: 305ms\n",
      "735:\tlearn: 0.0153167\ttotal: 847ms\tremaining: 304ms\n",
      "736:\tlearn: 0.0153077\ttotal: 852ms\tremaining: 304ms\n",
      "737:\tlearn: 0.0152879\ttotal: 852ms\tremaining: 303ms\n",
      "738:\tlearn: 0.0152627\ttotal: 853ms\tremaining: 301ms\n",
      "739:\tlearn: 0.0152506\ttotal: 853ms\tremaining: 300ms\n",
      "740:\tlearn: 0.0152370\ttotal: 854ms\tremaining: 298ms\n",
      "741:\tlearn: 0.0152105\ttotal: 855ms\tremaining: 297ms\n",
      "742:\tlearn: 0.0151952\ttotal: 855ms\tremaining: 296ms\n",
      "743:\tlearn: 0.0151789\ttotal: 856ms\tremaining: 294ms\n",
      "744:\tlearn: 0.0151695\ttotal: 856ms\tremaining: 293ms\n",
      "745:\tlearn: 0.0151471\ttotal: 857ms\tremaining: 292ms\n",
      "746:\tlearn: 0.0151393\ttotal: 857ms\tremaining: 290ms\n",
      "747:\tlearn: 0.0151307\ttotal: 858ms\tremaining: 289ms\n",
      "748:\tlearn: 0.0151189\ttotal: 858ms\tremaining: 288ms\n",
      "749:\tlearn: 0.0151063\ttotal: 859ms\tremaining: 286ms\n",
      "750:\tlearn: 0.0150911\ttotal: 859ms\tremaining: 285ms\n",
      "751:\tlearn: 0.0150859\ttotal: 860ms\tremaining: 284ms\n",
      "752:\tlearn: 0.0150711\ttotal: 860ms\tremaining: 282ms\n",
      "753:\tlearn: 0.0150617\ttotal: 861ms\tremaining: 281ms\n",
      "754:\tlearn: 0.0150400\ttotal: 861ms\tremaining: 280ms\n",
      "755:\tlearn: 0.0150314\ttotal: 862ms\tremaining: 278ms\n",
      "756:\tlearn: 0.0150226\ttotal: 863ms\tremaining: 277ms\n",
      "757:\tlearn: 0.0150185\ttotal: 863ms\tremaining: 276ms\n",
      "758:\tlearn: 0.0149904\ttotal: 863ms\tremaining: 274ms\n",
      "759:\tlearn: 0.0149806\ttotal: 864ms\tremaining: 273ms\n",
      "760:\tlearn: 0.0149704\ttotal: 865ms\tremaining: 272ms\n",
      "761:\tlearn: 0.0149567\ttotal: 865ms\tremaining: 270ms\n",
      "762:\tlearn: 0.0149427\ttotal: 866ms\tremaining: 269ms\n",
      "763:\tlearn: 0.0149366\ttotal: 866ms\tremaining: 268ms\n",
      "764:\tlearn: 0.0149298\ttotal: 867ms\tremaining: 266ms\n",
      "765:\tlearn: 0.0149148\ttotal: 867ms\tremaining: 265ms\n",
      "766:\tlearn: 0.0149077\ttotal: 868ms\tremaining: 264ms\n",
      "767:\tlearn: 0.0148932\ttotal: 868ms\tremaining: 262ms\n",
      "768:\tlearn: 0.0148887\ttotal: 869ms\tremaining: 261ms\n",
      "769:\tlearn: 0.0148770\ttotal: 869ms\tremaining: 260ms\n",
      "770:\tlearn: 0.0148677\ttotal: 869ms\tremaining: 258ms\n",
      "771:\tlearn: 0.0148626\ttotal: 870ms\tremaining: 257ms\n",
      "772:\tlearn: 0.0148541\ttotal: 870ms\tremaining: 255ms\n",
      "773:\tlearn: 0.0148439\ttotal: 870ms\tremaining: 254ms\n",
      "774:\tlearn: 0.0148224\ttotal: 870ms\tremaining: 253ms\n",
      "775:\tlearn: 0.0147975\ttotal: 871ms\tremaining: 251ms\n",
      "776:\tlearn: 0.0147901\ttotal: 871ms\tremaining: 250ms\n",
      "777:\tlearn: 0.0147495\ttotal: 872ms\tremaining: 249ms\n",
      "778:\tlearn: 0.0147377\ttotal: 872ms\tremaining: 247ms\n",
      "779:\tlearn: 0.0147174\ttotal: 873ms\tremaining: 246ms\n",
      "780:\tlearn: 0.0147011\ttotal: 875ms\tremaining: 245ms\n",
      "781:\tlearn: 0.0146958\ttotal: 878ms\tremaining: 245ms\n",
      "782:\tlearn: 0.0146764\ttotal: 879ms\tremaining: 244ms\n",
      "783:\tlearn: 0.0146685\ttotal: 882ms\tremaining: 243ms\n",
      "784:\tlearn: 0.0146556\ttotal: 883ms\tremaining: 242ms\n",
      "785:\tlearn: 0.0146360\ttotal: 886ms\tremaining: 241ms\n",
      "786:\tlearn: 0.0146252\ttotal: 887ms\tremaining: 240ms\n",
      "787:\tlearn: 0.0146124\ttotal: 888ms\tremaining: 239ms\n",
      "788:\tlearn: 0.0145940\ttotal: 888ms\tremaining: 238ms\n",
      "789:\tlearn: 0.0145826\ttotal: 889ms\tremaining: 236ms\n",
      "790:\tlearn: 0.0145796\ttotal: 889ms\tremaining: 235ms\n",
      "791:\tlearn: 0.0145716\ttotal: 890ms\tremaining: 234ms\n",
      "792:\tlearn: 0.0145685\ttotal: 890ms\tremaining: 232ms\n",
      "793:\tlearn: 0.0145564\ttotal: 891ms\tremaining: 231ms\n",
      "794:\tlearn: 0.0145456\ttotal: 891ms\tremaining: 230ms\n",
      "795:\tlearn: 0.0145433\ttotal: 892ms\tremaining: 229ms\n",
      "796:\tlearn: 0.0145283\ttotal: 892ms\tremaining: 227ms\n",
      "797:\tlearn: 0.0145208\ttotal: 893ms\tremaining: 226ms\n",
      "798:\tlearn: 0.0145137\ttotal: 893ms\tremaining: 225ms\n",
      "799:\tlearn: 0.0144992\ttotal: 893ms\tremaining: 223ms\n",
      "800:\tlearn: 0.0144879\ttotal: 894ms\tremaining: 222ms\n",
      "801:\tlearn: 0.0144812\ttotal: 894ms\tremaining: 221ms\n",
      "802:\tlearn: 0.0144668\ttotal: 895ms\tremaining: 220ms\n",
      "803:\tlearn: 0.0144588\ttotal: 896ms\tremaining: 218ms\n",
      "804:\tlearn: 0.0144383\ttotal: 896ms\tremaining: 217ms\n",
      "805:\tlearn: 0.0144157\ttotal: 897ms\tremaining: 216ms\n",
      "806:\tlearn: 0.0143974\ttotal: 897ms\tremaining: 215ms\n",
      "807:\tlearn: 0.0143896\ttotal: 898ms\tremaining: 213ms\n",
      "808:\tlearn: 0.0143793\ttotal: 898ms\tremaining: 212ms\n",
      "809:\tlearn: 0.0143609\ttotal: 899ms\tremaining: 211ms\n",
      "810:\tlearn: 0.0143507\ttotal: 899ms\tremaining: 210ms\n",
      "811:\tlearn: 0.0143413\ttotal: 900ms\tremaining: 208ms\n",
      "812:\tlearn: 0.0143260\ttotal: 900ms\tremaining: 207ms\n",
      "813:\tlearn: 0.0143095\ttotal: 901ms\tremaining: 206ms\n",
      "814:\tlearn: 0.0142958\ttotal: 901ms\tremaining: 205ms\n",
      "815:\tlearn: 0.0142851\ttotal: 902ms\tremaining: 203ms\n",
      "816:\tlearn: 0.0142783\ttotal: 903ms\tremaining: 202ms\n",
      "817:\tlearn: 0.0142713\ttotal: 903ms\tremaining: 201ms\n",
      "818:\tlearn: 0.0142519\ttotal: 904ms\tremaining: 200ms\n",
      "819:\tlearn: 0.0142426\ttotal: 904ms\tremaining: 198ms\n",
      "820:\tlearn: 0.0142296\ttotal: 905ms\tremaining: 197ms\n",
      "821:\tlearn: 0.0142079\ttotal: 905ms\tremaining: 196ms\n",
      "822:\tlearn: 0.0141979\ttotal: 906ms\tremaining: 195ms\n",
      "823:\tlearn: 0.0141772\ttotal: 907ms\tremaining: 194ms\n",
      "824:\tlearn: 0.0141667\ttotal: 907ms\tremaining: 192ms\n",
      "825:\tlearn: 0.0141627\ttotal: 907ms\tremaining: 191ms\n",
      "826:\tlearn: 0.0141235\ttotal: 908ms\tremaining: 190ms\n",
      "827:\tlearn: 0.0141079\ttotal: 909ms\tremaining: 189ms\n",
      "828:\tlearn: 0.0140954\ttotal: 909ms\tremaining: 188ms\n",
      "829:\tlearn: 0.0140793\ttotal: 910ms\tremaining: 186ms\n",
      "830:\tlearn: 0.0140656\ttotal: 911ms\tremaining: 185ms\n",
      "831:\tlearn: 0.0140441\ttotal: 911ms\tremaining: 184ms\n",
      "832:\tlearn: 0.0140376\ttotal: 912ms\tremaining: 183ms\n",
      "833:\tlearn: 0.0140317\ttotal: 913ms\tremaining: 182ms\n",
      "834:\tlearn: 0.0140222\ttotal: 913ms\tremaining: 180ms\n",
      "835:\tlearn: 0.0140087\ttotal: 914ms\tremaining: 179ms\n",
      "836:\tlearn: 0.0139992\ttotal: 915ms\tremaining: 178ms\n",
      "837:\tlearn: 0.0139930\ttotal: 915ms\tremaining: 177ms\n",
      "838:\tlearn: 0.0139823\ttotal: 916ms\tremaining: 176ms\n",
      "839:\tlearn: 0.0139781\ttotal: 923ms\tremaining: 176ms\n",
      "840:\tlearn: 0.0139663\ttotal: 923ms\tremaining: 175ms\n",
      "841:\tlearn: 0.0139581\ttotal: 924ms\tremaining: 173ms\n",
      "842:\tlearn: 0.0139480\ttotal: 925ms\tremaining: 172ms\n",
      "843:\tlearn: 0.0139390\ttotal: 925ms\tremaining: 171ms\n",
      "844:\tlearn: 0.0139193\ttotal: 926ms\tremaining: 170ms\n",
      "845:\tlearn: 0.0139120\ttotal: 927ms\tremaining: 169ms\n",
      "846:\tlearn: 0.0139015\ttotal: 927ms\tremaining: 168ms\n",
      "847:\tlearn: 0.0138828\ttotal: 928ms\tremaining: 166ms\n",
      "848:\tlearn: 0.0138453\ttotal: 928ms\tremaining: 165ms\n",
      "849:\tlearn: 0.0138316\ttotal: 928ms\tremaining: 164ms\n",
      "850:\tlearn: 0.0138147\ttotal: 929ms\tremaining: 163ms\n",
      "851:\tlearn: 0.0137982\ttotal: 930ms\tremaining: 162ms\n",
      "852:\tlearn: 0.0137889\ttotal: 931ms\tremaining: 160ms\n",
      "853:\tlearn: 0.0137855\ttotal: 932ms\tremaining: 159ms\n",
      "854:\tlearn: 0.0137802\ttotal: 932ms\tremaining: 158ms\n",
      "855:\tlearn: 0.0137685\ttotal: 933ms\tremaining: 157ms\n",
      "856:\tlearn: 0.0137632\ttotal: 933ms\tremaining: 156ms\n",
      "857:\tlearn: 0.0137486\ttotal: 933ms\tremaining: 154ms\n",
      "858:\tlearn: 0.0137279\ttotal: 934ms\tremaining: 153ms\n",
      "859:\tlearn: 0.0137220\ttotal: 935ms\tremaining: 152ms\n",
      "860:\tlearn: 0.0137157\ttotal: 935ms\tremaining: 151ms\n",
      "861:\tlearn: 0.0137034\ttotal: 936ms\tremaining: 150ms\n",
      "862:\tlearn: 0.0136950\ttotal: 936ms\tremaining: 149ms\n",
      "863:\tlearn: 0.0136889\ttotal: 937ms\tremaining: 147ms\n",
      "864:\tlearn: 0.0136698\ttotal: 937ms\tremaining: 146ms\n",
      "865:\tlearn: 0.0136502\ttotal: 937ms\tremaining: 145ms\n",
      "866:\tlearn: 0.0136147\ttotal: 938ms\tremaining: 144ms\n"
     ]
    },
    {
     "name": "stdout",
     "output_type": "stream",
     "text": [
      "867:\tlearn: 0.0136061\ttotal: 949ms\tremaining: 144ms\n",
      "868:\tlearn: 0.0135971\ttotal: 950ms\tremaining: 143ms\n",
      "869:\tlearn: 0.0135889\ttotal: 950ms\tremaining: 142ms\n",
      "870:\tlearn: 0.0135854\ttotal: 962ms\tremaining: 142ms\n",
      "871:\tlearn: 0.0135686\ttotal: 962ms\tremaining: 141ms\n",
      "872:\tlearn: 0.0135638\ttotal: 963ms\tremaining: 140ms\n",
      "873:\tlearn: 0.0135530\ttotal: 964ms\tremaining: 139ms\n",
      "874:\tlearn: 0.0135514\ttotal: 964ms\tremaining: 138ms\n",
      "875:\tlearn: 0.0135463\ttotal: 965ms\tremaining: 137ms\n",
      "876:\tlearn: 0.0135408\ttotal: 965ms\tremaining: 135ms\n",
      "877:\tlearn: 0.0135297\ttotal: 966ms\tremaining: 134ms\n",
      "878:\tlearn: 0.0134959\ttotal: 966ms\tremaining: 133ms\n",
      "879:\tlearn: 0.0134792\ttotal: 967ms\tremaining: 132ms\n",
      "880:\tlearn: 0.0134723\ttotal: 967ms\tremaining: 131ms\n",
      "881:\tlearn: 0.0134620\ttotal: 973ms\tremaining: 130ms\n",
      "882:\tlearn: 0.0134562\ttotal: 974ms\tremaining: 129ms\n",
      "883:\tlearn: 0.0134434\ttotal: 974ms\tremaining: 128ms\n",
      "884:\tlearn: 0.0134250\ttotal: 975ms\tremaining: 127ms\n",
      "885:\tlearn: 0.0134150\ttotal: 975ms\tremaining: 125ms\n",
      "886:\tlearn: 0.0134091\ttotal: 979ms\tremaining: 125ms\n",
      "887:\tlearn: 0.0134028\ttotal: 979ms\tremaining: 124ms\n",
      "888:\tlearn: 0.0133957\ttotal: 980ms\tremaining: 122ms\n",
      "889:\tlearn: 0.0133929\ttotal: 980ms\tremaining: 121ms\n",
      "890:\tlearn: 0.0133788\ttotal: 981ms\tremaining: 120ms\n",
      "891:\tlearn: 0.0133660\ttotal: 981ms\tremaining: 119ms\n",
      "892:\tlearn: 0.0133520\ttotal: 982ms\tremaining: 118ms\n",
      "893:\tlearn: 0.0133456\ttotal: 982ms\tremaining: 116ms\n",
      "894:\tlearn: 0.0133386\ttotal: 982ms\tremaining: 115ms\n",
      "895:\tlearn: 0.0133244\ttotal: 983ms\tremaining: 114ms\n",
      "896:\tlearn: 0.0133113\ttotal: 983ms\tremaining: 113ms\n",
      "897:\tlearn: 0.0133072\ttotal: 984ms\tremaining: 112ms\n",
      "898:\tlearn: 0.0132936\ttotal: 985ms\tremaining: 111ms\n"
     ]
    },
    {
     "name": "stdout",
     "output_type": "stream",
     "text": [
      "899:\tlearn: 0.0132776\ttotal: 1.01s\tremaining: 112ms\n",
      "900:\tlearn: 0.0132722\ttotal: 1.01s\tremaining: 111ms\n",
      "901:\tlearn: 0.0132673\ttotal: 1.01s\tremaining: 110ms\n",
      "902:\tlearn: 0.0132609\ttotal: 1.01s\tremaining: 108ms\n",
      "903:\tlearn: 0.0132545\ttotal: 1.01s\tremaining: 107ms\n",
      "904:\tlearn: 0.0132465\ttotal: 1.01s\tremaining: 106ms\n",
      "905:\tlearn: 0.0132383\ttotal: 1.01s\tremaining: 105ms\n",
      "906:\tlearn: 0.0132307\ttotal: 1.01s\tremaining: 104ms\n",
      "907:\tlearn: 0.0132133\ttotal: 1.01s\tremaining: 103ms\n",
      "908:\tlearn: 0.0132031\ttotal: 1.01s\tremaining: 102ms\n",
      "909:\tlearn: 0.0131982\ttotal: 1.01s\tremaining: 100ms\n",
      "910:\tlearn: 0.0131921\ttotal: 1.01s\tremaining: 99.3ms\n",
      "911:\tlearn: 0.0131738\ttotal: 1.02s\tremaining: 98.1ms\n",
      "912:\tlearn: 0.0131677\ttotal: 1.02s\tremaining: 96.9ms\n",
      "913:\tlearn: 0.0131592\ttotal: 1.02s\tremaining: 95.7ms\n",
      "914:\tlearn: 0.0131468\ttotal: 1.02s\tremaining: 94.9ms\n",
      "915:\tlearn: 0.0131423\ttotal: 1.02s\tremaining: 93.7ms\n",
      "916:\tlearn: 0.0131342\ttotal: 1.02s\tremaining: 92.5ms\n",
      "917:\tlearn: 0.0131189\ttotal: 1.02s\tremaining: 91.4ms\n",
      "918:\tlearn: 0.0131139\ttotal: 1.02s\tremaining: 90.2ms\n",
      "919:\tlearn: 0.0131061\ttotal: 1.02s\tremaining: 89ms\n",
      "920:\tlearn: 0.0130760\ttotal: 1.02s\tremaining: 87.8ms\n",
      "921:\tlearn: 0.0130706\ttotal: 1.02s\tremaining: 86.7ms\n",
      "922:\tlearn: 0.0130639\ttotal: 1.02s\tremaining: 85.5ms\n",
      "923:\tlearn: 0.0130567\ttotal: 1.02s\tremaining: 84.3ms\n",
      "924:\tlearn: 0.0130388\ttotal: 1.02s\tremaining: 83.2ms\n",
      "925:\tlearn: 0.0130253\ttotal: 1.03s\tremaining: 82ms\n",
      "926:\tlearn: 0.0130147\ttotal: 1.03s\tremaining: 80.9ms\n",
      "927:\tlearn: 0.0130100\ttotal: 1.03s\tremaining: 80.1ms\n",
      "928:\tlearn: 0.0130027\ttotal: 1.03s\tremaining: 78.9ms\n",
      "929:\tlearn: 0.0129975\ttotal: 1.03s\tremaining: 77.8ms\n",
      "930:\tlearn: 0.0129738\ttotal: 1.03s\tremaining: 76.6ms\n",
      "931:\tlearn: 0.0129658\ttotal: 1.03s\tremaining: 75.4ms\n",
      "932:\tlearn: 0.0129539\ttotal: 1.03s\tremaining: 74.3ms\n",
      "933:\tlearn: 0.0129449\ttotal: 1.03s\tremaining: 73.1ms\n",
      "934:\tlearn: 0.0129359\ttotal: 1.03s\tremaining: 72ms\n",
      "935:\tlearn: 0.0129257\ttotal: 1.03s\tremaining: 70.8ms\n",
      "936:\tlearn: 0.0129122\ttotal: 1.04s\tremaining: 69.7ms\n",
      "937:\tlearn: 0.0128943\ttotal: 1.04s\tremaining: 68.5ms\n",
      "938:\tlearn: 0.0128794\ttotal: 1.04s\tremaining: 67.3ms\n",
      "939:\tlearn: 0.0128726\ttotal: 1.04s\tremaining: 66.2ms\n",
      "940:\tlearn: 0.0128567\ttotal: 1.04s\tremaining: 65.1ms\n",
      "941:\tlearn: 0.0128304\ttotal: 1.04s\tremaining: 63.9ms\n",
      "942:\tlearn: 0.0128176\ttotal: 1.04s\tremaining: 62.8ms\n",
      "943:\tlearn: 0.0128082\ttotal: 1.04s\tremaining: 61.7ms\n",
      "944:\tlearn: 0.0128044\ttotal: 1.04s\tremaining: 60.6ms\n",
      "945:\tlearn: 0.0127902\ttotal: 1.04s\tremaining: 59.5ms\n",
      "946:\tlearn: 0.0127786\ttotal: 1.04s\tremaining: 58.3ms\n",
      "947:\tlearn: 0.0127747\ttotal: 1.04s\tremaining: 57.2ms\n",
      "948:\tlearn: 0.0127681\ttotal: 1.04s\tremaining: 56ms\n",
      "949:\tlearn: 0.0127570\ttotal: 1.04s\tremaining: 54.9ms\n",
      "950:\tlearn: 0.0127501\ttotal: 1.04s\tremaining: 53.8ms\n",
      "951:\tlearn: 0.0127443\ttotal: 1.04s\tremaining: 52.6ms\n",
      "952:\tlearn: 0.0127403\ttotal: 1.04s\tremaining: 51.5ms\n",
      "953:\tlearn: 0.0127314\ttotal: 1.04s\tremaining: 50.4ms\n",
      "954:\tlearn: 0.0127264\ttotal: 1.04s\tremaining: 49.2ms\n",
      "955:\tlearn: 0.0127173\ttotal: 1.04s\tremaining: 48.1ms\n",
      "956:\tlearn: 0.0127117\ttotal: 1.04s\tremaining: 47ms\n",
      "957:\tlearn: 0.0127047\ttotal: 1.04s\tremaining: 45.9ms\n",
      "958:\tlearn: 0.0126977\ttotal: 1.05s\tremaining: 44.7ms\n",
      "959:\tlearn: 0.0126967\ttotal: 1.05s\tremaining: 43.6ms\n",
      "960:\tlearn: 0.0126765\ttotal: 1.05s\tremaining: 42.5ms\n",
      "961:\tlearn: 0.0126655\ttotal: 1.05s\tremaining: 41.4ms\n",
      "962:\tlearn: 0.0126598\ttotal: 1.05s\tremaining: 40.3ms\n",
      "963:\tlearn: 0.0126539\ttotal: 1.05s\tremaining: 39.1ms\n",
      "964:\tlearn: 0.0126485\ttotal: 1.05s\tremaining: 38ms\n",
      "965:\tlearn: 0.0126421\ttotal: 1.05s\tremaining: 36.9ms\n",
      "966:\tlearn: 0.0126281\ttotal: 1.05s\tremaining: 35.8ms\n",
      "967:\tlearn: 0.0126193\ttotal: 1.05s\tremaining: 34.7ms\n",
      "968:\tlearn: 0.0126133\ttotal: 1.05s\tremaining: 33.6ms\n",
      "969:\tlearn: 0.0126058\ttotal: 1.05s\tremaining: 32.5ms\n",
      "970:\tlearn: 0.0125991\ttotal: 1.05s\tremaining: 31.4ms\n",
      "971:\tlearn: 0.0125929\ttotal: 1.05s\tremaining: 30.3ms\n",
      "972:\tlearn: 0.0125844\ttotal: 1.05s\tremaining: 29.2ms\n",
      "973:\tlearn: 0.0125741\ttotal: 1.05s\tremaining: 28.1ms\n",
      "974:\tlearn: 0.0125657\ttotal: 1.05s\tremaining: 27ms\n",
      "975:\tlearn: 0.0125545\ttotal: 1.05s\tremaining: 25.9ms\n",
      "976:\tlearn: 0.0125495\ttotal: 1.05s\tremaining: 24.8ms\n",
      "977:\tlearn: 0.0125453\ttotal: 1.05s\tremaining: 23.7ms\n",
      "978:\tlearn: 0.0125413\ttotal: 1.05s\tremaining: 22.6ms\n",
      "979:\tlearn: 0.0125371\ttotal: 1.06s\tremaining: 21.6ms\n",
      "980:\tlearn: 0.0125278\ttotal: 1.06s\tremaining: 20.5ms\n",
      "981:\tlearn: 0.0125202\ttotal: 1.06s\tremaining: 19.4ms\n",
      "982:\tlearn: 0.0125093\ttotal: 1.06s\tremaining: 18.3ms\n",
      "983:\tlearn: 0.0124967\ttotal: 1.06s\tremaining: 17.2ms\n",
      "984:\tlearn: 0.0124943\ttotal: 1.07s\tremaining: 16.3ms\n",
      "985:\tlearn: 0.0124869\ttotal: 1.07s\tremaining: 15.2ms\n",
      "986:\tlearn: 0.0124834\ttotal: 1.07s\tremaining: 14.1ms\n",
      "987:\tlearn: 0.0124729\ttotal: 1.07s\tremaining: 13ms\n",
      "988:\tlearn: 0.0124682\ttotal: 1.07s\tremaining: 11.9ms\n",
      "989:\tlearn: 0.0124631\ttotal: 1.07s\tremaining: 10.8ms\n",
      "990:\tlearn: 0.0124577\ttotal: 1.07s\tremaining: 9.75ms\n",
      "991:\tlearn: 0.0124300\ttotal: 1.07s\tremaining: 8.66ms\n",
      "992:\tlearn: 0.0124106\ttotal: 1.07s\tremaining: 7.57ms\n",
      "993:\tlearn: 0.0124005\ttotal: 1.07s\tremaining: 6.49ms\n",
      "994:\tlearn: 0.0123955\ttotal: 1.07s\tremaining: 5.4ms\n",
      "995:\tlearn: 0.0123883\ttotal: 1.07s\tremaining: 4.32ms\n",
      "996:\tlearn: 0.0123800\ttotal: 1.07s\tremaining: 3.24ms\n",
      "997:\tlearn: 0.0123724\ttotal: 1.07s\tremaining: 2.15ms\n",
      "998:\tlearn: 0.0123691\ttotal: 1.08s\tremaining: 1.08ms\n",
      "999:\tlearn: 0.0123632\ttotal: 1.08s\tremaining: 0us\n"
     ]
    },
    {
     "data": {
      "text/plain": [
       "<catboost.core.CatBoostRegressor at 0x7ff6776e30a0>"
      ]
     },
     "execution_count": 9,
     "metadata": {},
     "output_type": "execute_result"
    }
   ],
   "source": [
    "#Train the Model \n",
    "prior_model = ctb.CatBoostRegressor()\n",
    "prior_model.fit(X_train,Y_train)"
   ]
  },
  {
   "cell_type": "code",
   "execution_count": 10,
   "id": "af65dcda",
   "metadata": {
    "execution": {
     "iopub.execute_input": "2022-07-24T20:11:18.837891Z",
     "iopub.status.busy": "2022-07-24T20:11:18.837588Z",
     "iopub.status.idle": "2022-07-24T20:11:18.881062Z",
     "shell.execute_reply": "2022-07-24T20:11:18.880326Z"
    },
    "id": "af65dcda",
    "papermill": {
     "duration": 0.059781,
     "end_time": "2022-07-24T20:11:18.884054",
     "exception": false,
     "start_time": "2022-07-24T20:11:18.824273",
     "status": "completed"
    },
    "tags": []
   },
   "outputs": [
    {
     "data": {
      "application/scrapbook.scrap.json+json": {
       "data": 0.0014779315631282333,
       "encoder": "json",
       "name": "Prior Model MSE",
       "version": 1
      }
     },
     "metadata": {
      "scrapbook": {
       "data": true,
       "display": false,
       "name": "Prior Model MSE"
      }
     },
     "output_type": "display_data"
    },
    {
     "data": {
      "application/scrapbook.scrap.json+json": {
       "data": 0.011142921273864567,
       "encoder": "json",
       "name": "ABC Pre-generator MSE",
       "version": 1
      }
     },
     "metadata": {
      "scrapbook": {
       "data": true,
       "display": false,
       "name": "ABC Pre-generator MSE"
      }
     },
     "output_type": "display_data"
    },
    {
     "data": {
      "application/scrapbook.scrap.json+json": {
       "data": 0.024114840357076794,
       "encoder": "json",
       "name": "Prior Model MAE",
       "version": 1
      }
     },
     "metadata": {
      "scrapbook": {
       "data": true,
       "display": false,
       "name": "Prior Model MAE"
      }
     },
     "output_type": "display_data"
    },
    {
     "name": "stdout",
     "output_type": "stream",
     "text": [
      "Prior Model MAE 0.024114840357076794\n",
      "ABC Pre-generator MAE 0.08220023449178471\n"
     ]
    }
   ],
   "source": [
    "y_pred = prior_model.predict(X_test)\n",
    "y_abc = y_pred + np.random.normal(0,variance, y_pred.shape) + bias \n",
    "mse = mean_squared_error(y_pred,Y_test)\n",
    "sb.glue(\"Prior Model MSE\",mse)\n",
    "mse = mean_squared_error(y_abc,Y_test)\n",
    "sb.glue(\"ABC Pre-generator MSE\",mse)\n",
    "mae = mean_absolute_error(y_pred,Y_test)\n",
    "sb.glue(\"Prior Model MAE\",mae)\n",
    "print(\"Prior Model MAE\",mae)\n",
    "mae = mean_absolute_error(y_abc,Y_test)\n",
    "print(\"ABC Pre-generator MAE\",mae)"
   ]
  },
  {
   "cell_type": "markdown",
   "id": "25609da2",
   "metadata": {
    "papermill": {
     "duration": 0.027449,
     "end_time": "2022-07-24T20:11:18.931278",
     "exception": false,
     "start_time": "2022-07-24T20:11:18.903829",
     "status": "completed"
    },
    "tags": []
   },
   "source": [
    "# mGAN Model"
   ]
  },
  {
   "cell_type": "code",
   "execution_count": 11,
   "id": "dfc3464d",
   "metadata": {
    "execution": {
     "iopub.execute_input": "2022-07-24T20:11:18.968392Z",
     "iopub.status.busy": "2022-07-24T20:11:18.967681Z",
     "iopub.status.idle": "2022-07-24T20:11:18.975961Z",
     "shell.execute_reply": "2022-07-24T20:11:18.973679Z"
    },
    "papermill": {
     "duration": 0.038723,
     "end_time": "2022-07-24T20:11:18.983163",
     "exception": false,
     "start_time": "2022-07-24T20:11:18.944440",
     "status": "completed"
    },
    "tags": []
   },
   "outputs": [],
   "source": [
    "# gen = network.Generator(n_features+1).to(device)\n",
    "# disc = network.Discriminator(n_features+1).to(device)\n",
    "\n",
    "# criterion = torch.nn.BCELoss()\n",
    "# gen_opt = torch.optim.Adam(gen.parameters(), lr=0.01, betas=(0.5, 0.999))\n",
    "# disc_opt = torch.optim.Adam(disc.parameters(), lr=0.01, betas=(0.5, 0.999))"
   ]
  },
  {
   "cell_type": "code",
   "execution_count": 12,
   "id": "b75fdd85",
   "metadata": {
    "execution": {
     "iopub.execute_input": "2022-07-24T20:11:19.022458Z",
     "iopub.status.busy": "2022-07-24T20:11:19.021676Z",
     "iopub.status.idle": "2022-07-24T20:11:19.029400Z",
     "shell.execute_reply": "2022-07-24T20:11:19.027830Z"
    },
    "papermill": {
     "duration": 0.03292,
     "end_time": "2022-07-24T20:11:19.033884",
     "exception": false,
     "start_time": "2022-07-24T20:11:19.000964",
     "status": "completed"
    },
    "tags": []
   },
   "outputs": [],
   "source": [
    "#Training the ABC_GAN \n",
    "# ABC_train_test2.training_GAN(disc,gen,disc_opt,gen_opt,train_data,batch_size,n_epochs,criterion,prior_model,variance,bias,device)"
   ]
  },
  {
   "cell_type": "code",
   "execution_count": 13,
   "id": "1fa7c368",
   "metadata": {
    "execution": {
     "iopub.execute_input": "2022-07-24T20:11:19.075079Z",
     "iopub.status.busy": "2022-07-24T20:11:19.074419Z",
     "iopub.status.idle": "2022-07-24T20:11:19.082503Z",
     "shell.execute_reply": "2022-07-24T20:11:19.080387Z"
    },
    "papermill": {
     "duration": 0.03346,
     "end_time": "2022-07-24T20:11:19.087342",
     "exception": false,
     "start_time": "2022-07-24T20:11:19.053882",
     "status": "completed"
    },
    "tags": []
   },
   "outputs": [],
   "source": [
    "# ABC_GAN1_metrics=ABC_train_test2.test_generator(gen,test_data,prior_model,variance,bias,\"1\",device)\n",
    "# sb.glue(\"ABC_GAN_1 Metrics\",ABC_GAN1_metrics)\n",
    "\n",
    "# print(\"MAE\")\n",
    "# print(mean(ABC_GAN1_metrics[1]))"
   ]
  },
  {
   "cell_type": "code",
   "execution_count": 14,
   "id": "eb22ce5c",
   "metadata": {
    "execution": {
     "iopub.execute_input": "2022-07-24T20:11:19.132199Z",
     "iopub.status.busy": "2022-07-24T20:11:19.130981Z",
     "iopub.status.idle": "2022-07-24T20:11:19.137743Z",
     "shell.execute_reply": "2022-07-24T20:11:19.135690Z"
    },
    "papermill": {
     "duration": 0.030262,
     "end_time": "2022-07-24T20:11:19.142189",
     "exception": false,
     "start_time": "2022-07-24T20:11:19.111927",
     "status": "completed"
    },
    "tags": []
   },
   "outputs": [],
   "source": [
    "# sanityChecks.discProbVsError(train_data,disc,device)\n",
    "# sanityChecks.discProbVsError(test_data,disc,device)"
   ]
  },
  {
   "cell_type": "markdown",
   "id": "4b08ac3e",
   "metadata": {
    "papermill": {
     "duration": 0.014232,
     "end_time": "2022-07-24T20:11:19.182977",
     "exception": false,
     "start_time": "2022-07-24T20:11:19.168745",
     "status": "completed"
    },
    "tags": []
   },
   "source": [
    "# mGAN Model with TabNet Generator"
   ]
  },
  {
   "cell_type": "code",
   "execution_count": 15,
   "id": "deb06653",
   "metadata": {
    "execution": {
     "iopub.execute_input": "2022-07-24T20:11:19.237317Z",
     "iopub.status.busy": "2022-07-24T20:11:19.236780Z",
     "iopub.status.idle": "2022-07-24T20:11:19.270464Z",
     "shell.execute_reply": "2022-07-24T20:11:19.267794Z"
    },
    "papermill": {
     "duration": 0.072324,
     "end_time": "2022-07-24T20:11:19.284052",
     "exception": false,
     "start_time": "2022-07-24T20:11:19.211728",
     "status": "completed"
    },
    "tags": []
   },
   "outputs": [],
   "source": [
    "gen2 = network.GeneratorTabnet(n_features+1).to(device)\n",
    "disc2 = network.Discriminator(n_features+1).to(device)\n",
    "\n",
    "criterion = torch.nn.BCELoss()\n",
    "gen_opt = torch.optim.Adam(gen2.parameters(), lr=0.01, betas=(0.5, 0.999))\n",
    "disc_opt = torch.optim.Adam(disc2.parameters(), lr=0.01, betas=(0.5, 0.999))"
   ]
  },
  {
   "cell_type": "code",
   "execution_count": 16,
   "id": "20cbd5f8",
   "metadata": {
    "execution": {
     "iopub.execute_input": "2022-07-24T20:11:19.333290Z",
     "iopub.status.busy": "2022-07-24T20:11:19.332675Z",
     "iopub.status.idle": "2022-07-24T20:28:17.459322Z",
     "shell.execute_reply": "2022-07-24T20:28:17.457807Z"
    },
    "papermill": {
     "duration": 1018.153052,
     "end_time": "2022-07-24T20:28:17.464345",
     "exception": false,
     "start_time": "2022-07-24T20:11:19.311293",
     "status": "completed"
    },
    "tags": []
   },
   "outputs": [
    {
     "data": {
      "image/png": "[encoded data removed]",
      "text/plain": [
       "<Figure size 432x288 with 1 Axes>"
      ]
     },
     "metadata": {
      "needs_background": "light"
     },
     "output_type": "display_data"
    },
    {
     "data": {
      "image/png": "[encoded data removed]",
      "text/plain": [
       "<Figure size 432x288 with 1 Axes>"
      ]
     },
     "metadata": {
      "needs_background": "light"
     },
     "output_type": "display_data"
    }
   ],
   "source": [
    "#Training the ABC_GAN \n",
    "ABC_train_test2.training_GAN(disc2,gen2,disc_opt,gen_opt,train_data,batch_size,n_epochs,criterion,prior_model,variance,bias,device)"
   ]
  },
  {
   "cell_type": "code",
   "execution_count": 17,
   "id": "99c92aa4",
   "metadata": {
    "execution": {
     "iopub.execute_input": "2022-07-24T20:28:17.537751Z",
     "iopub.status.busy": "2022-07-24T20:28:17.535958Z",
     "iopub.status.idle": "2022-07-24T20:28:20.266608Z",
     "shell.execute_reply": "2022-07-24T20:28:20.264778Z"
    },
    "papermill": {
     "duration": 2.772276,
     "end_time": "2022-07-24T20:28:20.270538",
     "exception": false,
     "start_time": "2022-07-24T20:28:17.498262",
     "status": "completed"
    },
    "tags": []
   },
   "outputs": [
    {
     "data": {
      "application/scrapbook.scrap.json+json": {
       "data": 0.008582954226806742,
       "encoder": "json",
       "name": "ABC-GAN Model 1 MSE",
       "version": 1
      }
     },
     "metadata": {
      "scrapbook": {
       "data": true,
       "display": false,
       "name": "ABC-GAN Model 1 MSE"
      }
     },
     "output_type": "display_data"
    },
    {
     "data": {
      "application/scrapbook.scrap.json+json": {
       "data": 0.06953435943982043,
       "encoder": "json",
       "name": "ABC-GAN Model 1 MAE",
       "version": 1
      }
     },
     "metadata": {
      "scrapbook": {
       "data": true,
       "display": false,
       "name": "ABC-GAN Model 1 MAE"
      }
     },
     "output_type": "display_data"
    },
    {
     "data": {
      "application/scrapbook.scrap.json+json": {
       "data": 10.708291353732347,
       "encoder": "json",
       "name": "ABC-GAN Model 1 Manhattan Distance",
       "version": 1
      }
     },
     "metadata": {
      "scrapbook": {
       "data": true,
       "display": false,
       "name": "ABC-GAN Model 1 Manhattan Distance"
      }
     },
     "output_type": "display_data"
    },
    {
     "data": {
      "application/scrapbook.scrap.json+json": {
       "data": 1.1482517946119328,
       "encoder": "json",
       "name": "ABC-GAN Model 1 Euclidean distance",
       "version": 1
      }
     },
     "metadata": {
      "scrapbook": {
       "data": true,
       "display": false,
       "name": "ABC-GAN Model 1 Euclidean distance"
      }
     },
     "output_type": "display_data"
    },
    {
     "data": {
      "application/scrapbook.scrap.json+json": {
       "data": [
        [
         0.007544420371293731,
         0.007458190989529207,
         0.008188088988389712,
         0.009047746770238601,
         0.008123619088583577,
         0.0075877168223249004,
         0.008390811086371939,
         0.008499816437934357,
         0.00876043166799431,
         0.0073657719492844585,
         0.007499385457405871,
         0.008927471765915048,
         0.00768544481736542,
         0.008196095584932938,
         0.00821822565174033,
         0.0075911094989967185,
         0.008181740626449708,
         0.008288010549884381,
         0.008433582659811202,
         0.00806034221994349,
         0.008222098708343291,
         0.0088513995800136,
         0.008895862210935811,
         0.007610041763864758,
         0.008561782856859722,
         0.007951585813765757,
         0.007255008684909213,
         0.007494936329397376,
         0.009261054983740965,
         0.007974715344631738,
         0.007640028140343686,
         0.009438638263894045,
         0.008078384050425842,
         0.00749896439561702,
         0.011158562297736305,
         0.00956152964302743,
         0.009138228678564451,
         0.007889570752236934,
         0.008367291453516347,
         0.00892495373346186,
         0.007916798961002669,
         0.009578149451211368,
         0.007842354078611445,
         0.00935034430067338,
         0.009921951081930344,
         0.008407680891501538,
         0.008567545602451624,
         0.00898214509178569,
         0.009614085720901598,
         0.008960514314796926,
         0.00792464861977075,
         0.008870533096702733,
         0.00863290037378426,
         0.007713195126747154,
         0.009747907091015664,
         0.008554447255732503,
         0.009594020251792382,
         0.00876122300549187,
         0.00922840418181793,
         0.007446214500509714,
         0.007970980822796377,
         0.008650796802517952,
         0.00896284019329718,
         0.007899569998296043,
         0.009808619034098338,
         0.0075645063869143785,
         0.008626343549929055,
         0.008856804737602962,
         0.011156092061434236,
         0.008540430560105013,
         0.007451719127549814,
         0.007097461315196054,
         0.010186772951975686,
         0.0098578362701978,
         0.008116783348125958,
         0.010009217707769276,
         0.008344512342591493,
         0.009149355145115026,
         0.007894563401901016,
         0.009061026191512384,
         0.008501291353781257,
         0.008476556594235754,
         0.010705392670080086,
         0.008094862191240924,
         0.007805987387840618,
         0.008849424033440837,
         0.0098751662685178,
         0.00828976008685714,
         0.009064580288343964,
         0.010151859861038936,
         0.007845548981194696,
         0.008867458772851793,
         0.009816388385548451,
         0.008809457868655012,
         0.010170211300488898,
         0.0073799787729386095,
         0.008109329389649117,
         0.008174267125364128,
         0.00803627468983559,
         0.008627671021936895
        ],
        [
         0.0662146449185811,
         0.06687994054579116,
         0.06662985948579651,
         0.069308789084097,
         0.06962444812252924,
         0.06597558258996382,
         0.06941874078535415,
         0.07002865015105768,
         0.07159428206550611,
         0.06486246120426561,
         0.06698771019454126,
         0.06957801639453157,
         0.0673945549536835,
         0.06997699653366943,
         0.0691431046209552,
         0.06812303585859088,
         0.07027479265997937,
         0.06951274756680835,
         0.07033928827225387,
         0.068757682603288,
         0.06848302643213953,
         0.07081488195758362,
         0.07136328581285167,
         0.0674887928966578,
         0.07134903565823257,
         0.06658933335891018,
         0.06488025831905278,
         0.06724773642498177,
         0.06796725137860744,
         0.0680271214382215,
         0.06551649813334663,
         0.07002655895692962,
         0.06837168263344022,
         0.06723271440956499,
         0.07339718962064037,
         0.07286682836227602,
         0.06819054015077554,
         0.0684812239721998,
         0.07063125320649766,
         0.07196730099521674,
         0.06723698243111759,
         0.07181543552062729,
         0.06841975890777328,
         0.07035666496142165,
         0.07114692966078782,
         0.07072562690485608,
         0.070289271944142,
         0.07306347579344527,
         0.07115562632679939,
         0.07111031034743631,
         0.06690783706771863,
         0.06867062005323249,
         0.07019752414002046,
         0.0658553812120642,
         0.07377069090287407,
         0.06935077320252146,
         0.07281761718067256,
         0.06701645898548039,
         0.07103579341397658,
         0.06557406538299151,
         0.06948494403199716,
         0.06866625633526158,
         0.07095195203051939,
         0.06932295989487078,
         0.0710496488813456,
         0.0675537996961699,
         0.06884022981121943,
         0.07047575107449061,
         0.07529168977559388,
         0.07067828136798623,
         0.06689626554196532,
         0.06424025634860063,
         0.07621151436265412,
         0.07151056424557388,
         0.06739900585312347,
         0.07078329875291169,
         0.06956407403597584,
         0.07053687418629596,
         0.06903603455269491,
         0.07298178801482375,
         0.07000443053903518,
         0.07216862323028701,
         0.07243174087111053,
         0.06888357167700668,
         0.06711270065083132,
         0.07005419557938328,
         0.07296050983396443,
         0.06830487888935324,
         0.07096952611169258,
         0.07371558708610473,
         0.06772389074231124,
         0.07412068937699516,
         0.07173760365936663,
         0.07023739035833966,
         0.06871078361745005,
         0.06627296235460739,
         0.0691985950938293,
         0.06904769142146235,
         0.07023436222951134,
         0.07003633479599829
        ],
        [
         10.19705531746149,
         10.299510844051838,
         10.260998360812664,
         10.67355351895094,
         10.722165010869503,
         10.160239718854427,
         10.690486080944538,
         10.784412123262882,
         11.02551943808794,
         9.988819025456905,
         10.316107369959354,
         10.715014524757862,
         10.37876146286726,
         10.776457466185093,
         10.648038111627102,
         10.490947522222996,
         10.822318069636822,
         10.704963125288486,
         10.832250393927097,
         10.588683120906353,
         10.546386070549488,
         10.905491821467876,
         10.989946015179157,
         10.3932741060853,
         10.987751491367817,
         10.254757337272167,
         9.991559781134129,
         10.356151409447193,
         10.466956712305546,
         10.47617670148611,
         10.089540712535381,
         10.78409007936716,
         10.529239125549793,
         10.35383801907301,
         11.303167201578617,
         11.221491567790508,
         10.501343183219433,
         10.546108491718769,
         10.87721299380064,
         11.082964353263378,
         10.354495294392109,
         11.059577070176601,
         10.536642871797085,
         10.834926404058933,
         10.956627167761326,
         10.891746543347836,
         10.824547879397869,
         11.25177527219057,
         10.957966454327106,
         10.950987793505192,
         10.303806908428669,
         10.575275488197803,
         10.810418717563152,
         10.141728706657887,
         11.360686399042606,
         10.680019073188305,
         11.213913045823574,
         10.32053468376398,
         10.939512185752392,
         10.098406068980694,
         10.700681380927563,
         10.574603475630283,
         10.926600612699986,
         10.6757358238101,
         10.941645927727222,
         10.403285153210163,
         10.601395390927792,
         10.853265665471554,
         11.594920225441456,
         10.88445533066988,
         10.302024893462658,
         9.892999477684498,
         11.736573211848736,
         11.012626893818378,
         10.379446901381016,
         10.900628007948399,
         10.71286740154028,
         10.862678624689579,
         10.631549321115017,
         11.239195354282856,
         10.780682303011417,
         11.113967977464199,
         11.15448809415102,
         10.60807003825903,
         10.335355900228024,
         10.788346119225025,
         11.235918514430523,
         10.5189513489604,
         10.929307021200657,
         11.352200411260128,
         10.42947917431593,
         11.414586164057255,
         11.047590963542461,
         10.816558115184307,
         10.581460677087307,
         10.206036202609539,
         10.65658364444971,
         10.633344478905201,
         10.816091783344746,
         10.785595558583736
        ],
        [
         1.0778871634727054,
         1.0717095746458076,
         1.122927292486925,
         1.1804037455958636,
         1.1184978049338634,
         1.0809756660711816,
         1.136743114032928,
         1.1441030248373139,
         1.1615104290840974,
         1.0650487689255392,
         1.074665231800352,
         1.1725317274815712,
         1.0879147493596522,
         1.1234761769079362,
         1.12499188902321,
         1.0812173060238606,
         1.122491895949924,
         1.1297582151426007,
         1.1396366656136179,
         1.1141331616424033,
         1.1252569489164983,
         1.1675253895834963,
         1.1704540915747679,
         1.0825647470868303,
         1.1482658925337794,
         1.1065912593726406,
         1.057010566397526,
         1.0743464035064276,
         1.1942371906351386,
         1.108199514109841,
         1.084695502716282,
         1.2056327353882204,
         1.115379372126623,
         1.074635062207176,
         1.3108846607735523,
         1.2134560416538476,
         1.1862913708271359,
         1.1022676153477828,
         1.1351488377483887,
         1.1723663569691543,
         1.1041680306884505,
         1.2145101957112383,
         1.0989642979215306,
         1.1999804258002296,
         1.2361150701359775,
         1.1378852566455182,
         1.148652263645334,
         1.1761166371304321,
         1.2167864237485748,
         1.174699623086143,
         1.104715297008553,
         1.168786591680543,
         1.1530250030085105,
         1.0898770800044661,
         1.225225567810439,
         1.1477738790296657,
         1.2155159886961697,
         1.1615628880287747,
         1.1921301288030435,
         1.0708487442577947,
         1.1079400014037954,
         1.1542195231357701,
         1.1748520714403858,
         1.1029659014392017,
         1.2290351220576017,
         1.079321075299104,
         1.1525870495060555,
         1.167881813194664,
         1.3107395536340818,
         1.1468331640897782,
         1.0712444845331393,
         1.0454707277299506,
         1.2525027084219242,
         1.2321147615423091,
         1.118027117565311,
         1.2415391765854464,
         1.133602620303557,
         1.1870133496922912,
         1.1026163266942661,
         1.1812696700977754,
         1.144202284774119,
         1.1425365269925973,
         1.2839900588370352,
         1.1165163578967854,
         1.0964132695874558,
         1.1673950921388563,
         1.2331973099839868,
         1.1298774506007274,
         1.1815013179869798,
         1.2503545171670296,
         1.0991881290770853,
         1.1685840367809137,
         1.2295217815778872,
         1.1647559880819982,
         1.2514841350473807,
         1.06607538712445,
         1.1175136357136606,
         1.1219791162522035,
         1.1124685623579125,
         1.1526757294999672
        ]
       ],
       "encoder": "json",
       "name": "ABC_GAN_2 Metrics",
       "version": 1
      }
     },
     "metadata": {
      "scrapbook": {
       "data": true,
       "display": false,
       "name": "ABC_GAN_2 Metrics"
      }
     },
     "output_type": "display_data"
    },
    {
     "name": "stdout",
     "output_type": "stream",
     "text": [
      "MAE\n",
      "0.06953435943982043\n"
     ]
    }
   ],
   "source": [
    "ABC_GAN2_metrics=ABC_train_test2.test_generator(gen2,test_data,prior_model,variance,bias,\"1\",device)\n",
    "sb.glue(\"ABC_GAN_2 Metrics\",ABC_GAN2_metrics)\n",
    "\n",
    "print(\"MAE\")\n",
    "print(mean(ABC_GAN2_metrics[1]))"
   ]
  },
  {
   "cell_type": "code",
   "execution_count": 18,
   "id": "151e6d84",
   "metadata": {
    "execution": {
     "iopub.execute_input": "2022-07-24T20:28:20.321508Z",
     "iopub.status.busy": "2022-07-24T20:28:20.321070Z",
     "iopub.status.idle": "2022-07-24T20:28:21.459402Z",
     "shell.execute_reply": "2022-07-24T20:28:21.457436Z"
    },
    "papermill": {
     "duration": 1.166226,
     "end_time": "2022-07-24T20:28:21.462599",
     "exception": false,
     "start_time": "2022-07-24T20:28:20.296373",
     "status": "completed"
    },
    "tags": []
   },
   "outputs": [
    {
     "data": {
      "image/png": "[encoded data removed]",
      "text/plain": [
       "<Figure size 432x288 with 1 Axes>"
      ]
     },
     "metadata": {
      "needs_background": "light"
     },
     "output_type": "display_data"
    },
    {
     "data": {
      "image/png": "[encoded data removed]",
      "text/plain": [
       "<Figure size 432x288 with 1 Axes>"
      ]
     },
     "metadata": {
      "needs_background": "light"
     },
     "output_type": "display_data"
    },
    {
     "data": {
      "image/png": "[encoded data removed]",
      "text/plain": [
       "<Figure size 432x288 with 1 Axes>"
      ]
     },
     "metadata": {
      "needs_background": "light"
     },
     "output_type": "display_data"
    },
    {
     "data": {
      "image/png": "[encoded data removed]",
      "text/plain": [
       "<Figure size 432x288 with 1 Axes>"
      ]
     },
     "metadata": {
      "needs_background": "light"
     },
     "output_type": "display_data"
    }
   ],
   "source": [
    "sanityChecks.discProbVsError(train_data,disc2,device)\n",
    "sanityChecks.discProbVsError(test_data,disc2,device)"
   ]
  },
  {
   "cell_type": "markdown",
   "id": "130f3a4d",
   "metadata": {
    "id": "130f3a4d",
    "papermill": {
     "duration": 0.01998,
     "end_time": "2022-07-24T20:28:21.499680",
     "exception": false,
     "start_time": "2022-07-24T20:28:21.479700",
     "status": "completed"
    },
    "tags": []
   },
   "source": [
    "# skipGAN Model"
   ]
  },
  {
   "cell_type": "code",
   "execution_count": 19,
   "id": "4e43dad1",
   "metadata": {
    "execution": {
     "iopub.execute_input": "2022-07-24T20:28:21.541796Z",
     "iopub.status.busy": "2022-07-24T20:28:21.540955Z",
     "iopub.status.idle": "2022-07-24T20:28:21.552551Z",
     "shell.execute_reply": "2022-07-24T20:28:21.551623Z"
    },
    "id": "4e43dad1",
    "papermill": {
     "duration": 0.037389,
     "end_time": "2022-07-24T20:28:21.555212",
     "exception": false,
     "start_time": "2022-07-24T20:28:21.517823",
     "status": "completed"
    },
    "tags": []
   },
   "outputs": [],
   "source": [
    "#Generator\n",
    "gen3 = network.GeneratorWithSkipConnection(n_features+1).to(device)\n",
    "constraints=network.weightConstraint()\n",
    "#Discriminator \n",
    "disc3 = network.Discriminator(n_features+1).to(device)\n",
    "\n",
    "criterion = torch.nn.BCELoss()\n",
    "gen_opt = torch.optim.Adam(gen3.parameters(), lr=0.01, betas=(0.5, 0.999))\n",
    "disc_opt = torch.optim.Adam(disc3.parameters(), lr=0.01, betas=(0.5, 0.999))\n"
   ]
  },
  {
   "cell_type": "code",
   "execution_count": 20,
   "id": "26acbc37",
   "metadata": {
    "execution": {
     "iopub.execute_input": "2022-07-24T20:28:21.590645Z",
     "iopub.status.busy": "2022-07-24T20:28:21.590115Z",
     "iopub.status.idle": "2022-07-24T20:36:19.074623Z",
     "shell.execute_reply": "2022-07-24T20:36:19.067566Z"
    },
    "id": "26acbc37",
    "papermill": {
     "duration": 477.513618,
     "end_time": "2022-07-24T20:36:19.086361",
     "exception": false,
     "start_time": "2022-07-24T20:28:21.572743",
     "status": "completed"
    },
    "tags": []
   },
   "outputs": [
    {
     "data": {
      "image/png": "[encoded data removed]",
      "text/plain": [
       "<Figure size 432x288 with 1 Axes>"
      ]
     },
     "metadata": {
      "needs_background": "light"
     },
     "output_type": "display_data"
    },
    {
     "data": {
      "image/png": "[encoded data removed]",
      "text/plain": [
       "<Figure size 432x288 with 1 Axes>"
      ]
     },
     "metadata": {
      "needs_background": "light"
     },
     "output_type": "display_data"
    }
   ],
   "source": [
    "ABC_train_test2.training_GAN_skip_connection(disc3,gen3,disc_opt,gen_opt,train_data,batch_size,n_epochs,criterion,prior_model,variance,bias,device)"
   ]
  },
  {
   "cell_type": "code",
   "execution_count": 21,
   "id": "c5e0717b",
   "metadata": {
    "execution": {
     "iopub.execute_input": "2022-07-24T20:36:19.172356Z",
     "iopub.status.busy": "2022-07-24T20:36:19.164761Z",
     "iopub.status.idle": "2022-07-24T20:36:22.200075Z",
     "shell.execute_reply": "2022-07-24T20:36:22.199166Z"
    },
    "id": "c5e0717b",
    "papermill": {
     "duration": 3.082625,
     "end_time": "2022-07-24T20:36:22.202768",
     "exception": false,
     "start_time": "2022-07-24T20:36:19.120143",
     "status": "completed"
    },
    "tags": []
   },
   "outputs": [
    {
     "data": {
      "application/scrapbook.scrap.json+json": {
       "data": 0.015116677518138204,
       "encoder": "json",
       "name": "ABC-GAN Model 3 MSE",
       "version": 1
      }
     },
     "metadata": {
      "scrapbook": {
       "data": true,
       "display": false,
       "name": "ABC-GAN Model 3 MSE"
      }
     },
     "output_type": "display_data"
    },
    {
     "data": {
      "application/scrapbook.scrap.json+json": {
       "data": 0.09840740656649524,
       "encoder": "json",
       "name": "ABC-GAN Model 3 MAE",
       "version": 1
      }
     },
     "metadata": {
      "scrapbook": {
       "data": true,
       "display": false,
       "name": "ABC-GAN Model 3 MAE"
      }
     },
     "output_type": "display_data"
    },
    {
     "data": {
      "application/scrapbook.scrap.json+json": {
       "data": 15.154740611240268,
       "encoder": "json",
       "name": "ABC-GAN Model 3 Manhattan Distance",
       "version": 1
      }
     },
     "metadata": {
      "scrapbook": {
       "data": true,
       "display": false,
       "name": "ABC-GAN Model 3 Manhattan Distance"
      }
     },
     "output_type": "display_data"
    },
    {
     "data": {
      "application/scrapbook.scrap.json+json": {
       "data": 1.5237718975120145,
       "encoder": "json",
       "name": "ABC-GAN Model 3 Euclidean distance",
       "version": 1
      }
     },
     "metadata": {
      "scrapbook": {
       "data": true,
       "display": false,
       "name": "ABC-GAN Model 3 Euclidean distance"
      }
     },
     "output_type": "display_data"
    },
    {
     "data": {
      "application/scrapbook.scrap.json+json": {
       "data": [
        [
         0.016396578352274278,
         0.015376916853456116,
         0.018028284676698807,
         0.015542676344327738,
         0.014296536035792423,
         0.013519212193555473,
         0.013947022826237299,
         0.014697324652193674,
         0.015484510442945429,
         0.01639777475567287,
         0.014525969346731718,
         0.015098509610011976,
         0.015528053437028315,
         0.016426105181785475,
         0.01679230697939643,
         0.015919351118905547,
         0.01685997517254509,
         0.013121018814898454,
         0.014588945835835586,
         0.013837677513283169,
         0.0151065112389981,
         0.01495511928752894,
         0.012475028850455075,
         0.013738474190035462,
         0.01485999452952394,
         0.014323038032001559,
         0.011521149858573502,
         0.01466618011865051,
         0.016672412325626728,
         0.014509977032628263,
         0.01326822899695476,
         0.016276000995952722,
         0.015648210133802194,
         0.017473850531088242,
         0.01643801692940797,
         0.01405049063545198,
         0.014484226940060498,
         0.01721571505612507,
         0.012660246100672434,
         0.016642137902254044,
         0.014683558747170498,
         0.018970885209689377,
         0.015021419594793558,
         0.016835725108107515,
         0.019208164883449237,
         0.015929700708016775,
         0.01572497834998576,
         0.015824219821830136,
         0.014638310650455375,
         0.01418997678485519,
         0.01640239441848519,
         0.013154314475167938,
         0.013886876804507923,
         0.014514589326604462,
         0.013404423816669401,
         0.01748322848784387,
         0.014727235350023609,
         0.01607169893867279,
         0.014413271141806358,
         0.012977501799010357,
         0.014167629435560769,
         0.014886465916181773,
         0.016855486760019744,
         0.01668440174394524,
         0.014658392167816125,
         0.015201904124802145,
         0.01662683082661367,
         0.015107388897612449,
         0.011858649996508742,
         0.014584549024490146,
         0.014127467394360844,
         0.013254069284868185,
         0.017246718889784084,
         0.014546901775333744,
         0.01349481491762248,
         0.015805780672526908,
         0.015166366884560004,
         0.013798123432456656,
         0.015706296354500018,
         0.014195993960664082,
         0.014864860674198954,
         0.017540004242399047,
         0.01305507568906624,
         0.014732893210349438,
         0.01551661961215159,
         0.016101147860823707,
         0.014478614022028255,
         0.01697670772231289,
         0.014005954796300561,
         0.012988416627620184,
         0.017596500697560077,
         0.012932268174411005,
         0.016158185078168675,
         0.015359111618634689,
         0.015130103690093114,
         0.01827767952453374,
         0.01322850502358412,
         0.012513537718126593,
         0.013415792973727239,
         0.017389306150989332
        ],
        [
         0.10190915456646449,
         0.09800843502600472,
         0.10633336205954676,
         0.09473592342881414,
         0.09515556456013159,
         0.09186623327724346,
         0.09514868375542876,
         0.09837593597831665,
         0.09995683969615342,
         0.10407596574975299,
         0.09744145092252013,
         0.09489639514645973,
         0.10285324579128971,
         0.10493842468826801,
         0.10461739293456852,
         0.10084962404587051,
         0.1045479936065612,
         0.09117614202104606,
         0.0946993658972251,
         0.09384480331625257,
         0.09848035547833939,
         0.09807220077166309,
         0.09225560618298394,
         0.09174247497281471,
         0.09889753041909886,
         0.0960269035747299,
         0.08772613190404781,
         0.09913938908607929,
         0.1000241558369878,
         0.09573517386595924,
         0.09176081007757744,
         0.10442493744678312,
         0.0973763232687851,
         0.10250191927536742,
         0.10095233695170322,
         0.09278299722385097,
         0.09514226899905638,
         0.10501032787096964,
         0.0926032124885491,
         0.1036068055923883,
         0.09525012113637739,
         0.11127253442809179,
         0.10143016627082577,
         0.10217414375442962,
         0.10866664683857521,
         0.1027909807086765,
         0.10020330262842117,
         0.09909016672860492,
         0.09524885773078187,
         0.09678579155694354,
         0.10714771308295139,
         0.09084590345427587,
         0.09577604608199039,
         0.0974027527036605,
         0.09107139188941422,
         0.1081557986991746,
         0.096434717925338,
         0.1065927180280159,
         0.09334789966414501,
         0.0914299985418072,
         0.09500651453416069,
         0.09801148149100217,
         0.1028335074132139,
         0.10799801673788528,
         0.09691465021921443,
         0.09796582723592782,
         0.09975379168406709,
         0.10104928064075383,
         0.0870171334933151,
         0.09822014627325071,
         0.09928954450728057,
         0.0930998915104897,
         0.10546212507919832,
         0.09459319725245624,
         0.09171298683270232,
         0.09996184846991069,
         0.09664162074203615,
         0.09478811290744063,
         0.1013866552188025,
         0.09520939244078351,
         0.09854070285891557,
         0.10637075541081367,
         0.0928667059966496,
         0.09752353568646041,
         0.10036518884363113,
         0.10115480606819129,
         0.09478618528742294,
         0.10213515397112866,
         0.09604121478540557,
         0.09000947834415869,
         0.11115438800740551,
         0.08782473975768337,
         0.10367673649996906,
         0.0974785236569194,
         0.09862876528656328,
         0.11065064472230998,
         0.09165623653438185,
         0.09164867361451125,
         0.09630052046245569,
         0.10420152656250185
        ],
        [
         15.69400980323553,
         15.093298994004726,
         16.3753377571702,
         14.589332208037376,
         14.653956942260265,
         14.147399924695492,
         14.652897298336029,
         15.149894140660763,
         15.393353313207626,
         16.02769872546196,
         15.0059834420681,
         14.614044852554798,
         15.839399851858616,
         16.160517401993275,
         16.11107851192355,
         15.53084210306406,
         16.100391015410423,
         14.041125871241093,
         14.583702348172665,
         14.452099710702896,
         15.165974743664265,
         15.103118918836117,
         14.207363352179527,
         14.128341145813465,
         15.230219684541225,
         14.788143150508404,
         13.509824313223362,
         15.26746591925621,
         15.403719998896122,
         14.743216775357723,
         14.131164751946926,
         16.0814403668046,
         14.995953783392906,
         15.785295568406582,
         15.546659890562296,
         14.28858157247305,
         14.651909425854683,
         16.171590492129326,
         14.26089472323656,
         15.955448061227798,
         14.668518655002117,
         17.135970301926136,
         15.620245605707169,
         15.734818138182163,
         16.734663613140583,
         15.82981102913618,
         15.43130860477686,
         15.259885676205158,
         14.668324090540409,
         14.905011899769306,
         16.500747814774513,
         13.990269131958485,
         14.74951109662652,
         15.000023916363716,
         14.024994350969791,
         16.65599299967289,
         14.850946560502052,
         16.41527857631445,
         14.375576548278332,
         14.080219775438309,
         14.631003238260746,
         15.093768149614334,
         15.836360141634941,
         16.631694577634335,
         14.924856133759022,
         15.086737394332886,
         15.362083919346333,
         15.56158921867609,
         13.400638557970524,
         15.125902526080608,
         15.290589854121208,
         14.337383292615414,
         16.24116726219654,
         14.567352376878262,
         14.123799972236156,
         15.394124664366245,
         14.882809594273567,
         14.597369387745857,
         15.613544903695583,
         14.662246435880661,
         15.175268240272999,
         16.381096333265305,
         14.30147272348404,
         15.018624495714903,
         15.456239081919193,
         15.577840134501457,
         14.597072534263134,
         15.728813711553812,
         14.790347076952457,
         13.861459665000439,
         17.11777575314045,
         13.525009922683239,
         15.966217420995235,
         15.011692643165588,
         15.188829854130745,
         17.040199287235737,
         14.115060426294804,
         14.113895736634731,
         14.830280151218176,
         16.047035090625286
        ],
        [
         1.58904784894925,
         1.5388454098551427,
         1.6662400307913672,
         1.5471173701521392,
         1.4838013847924638,
         1.4428993997529913,
         1.4655516078393638,
         1.5044560466952253,
         1.5442197409091738,
         1.5891058216410954,
         1.49566014836148,
         1.5248509697481403,
         1.5463894170946595,
         1.590477977840298,
         1.608109223537708,
         1.5657522384820193,
         1.6113460759786964,
         1.4214910824533378,
         1.498898815370364,
         1.4597953065569187,
         1.5252549723917335,
         1.517592952764165,
         1.3860571571800642,
         1.4545532046870824,
         1.5127587902724897,
         1.4851760356699268,
         1.332012416691496,
         1.5028611839661634,
         1.602358105464105,
         1.4948366007777414,
         1.4294429913539866,
         1.5831942879434346,
         1.5523608989553743,
         1.640418538601533,
         1.5910545581873763,
         1.4709777557324262,
         1.4935096078597274,
         1.6282567729456128,
         1.396308669135716,
         1.6009026319383457,
         1.5037513248753123,
         1.7092443717304333,
         1.5209531937565364,
         1.6101868421548342,
         1.719900401782377,
         1.5662611241534992,
         1.556164087073663,
         1.5610668956075653,
         1.5014325959463275,
         1.4782612843701546,
         1.5893296512828041,
         1.4232935147663193,
         1.462388124915619,
         1.4950741641460759,
         1.4367606856282948,
         1.6408586737217667,
         1.5059861366903866,
         1.5732265051656134,
         1.4898468900656132,
         1.4136956097574878,
         1.4770967920472777,
         1.5141055944325656,
         1.6111315778182238,
         1.6029341435528681,
         1.502462110618329,
         1.5300631474614146,
         1.6001662248961839,
         1.5252992789063782,
         1.3513815521392714,
         1.4986729295518362,
         1.4750016877046515,
         1.428680044611004,
         1.6297222797233732,
         1.4967374096351693,
         1.4415968567230792,
         1.560157115026927,
         1.5282736993818353,
         1.457707449592793,
         1.5552394152004387,
         1.4785746751321924,
         1.513006458620266,
         1.6435208101297205,
         1.4179145447156543,
         1.506275391286007,
         1.545819983138834,
         1.5746671935894425,
         1.4932201978919089,
         1.6169146511910222,
         1.4686446263920645,
         1.4142899846401757,
         1.6461655771593122,
         1.4112297115846502,
         1.5774538034560555,
         1.5379542220982203,
         1.5264455340018979,
         1.6777254384368725,
         1.4273015706682153,
         1.3881948021050559,
         1.4373698612236152,
         1.6364452778056335
        ]
       ],
       "encoder": "json",
       "name": "ABC_GAN_3 Metrics",
       "version": 1
      }
     },
     "metadata": {
      "scrapbook": {
       "data": true,
       "display": false,
       "name": "ABC_GAN_3 Metrics"
      }
     },
     "output_type": "display_data"
    },
    {
     "name": "stdout",
     "output_type": "stream",
     "text": [
      "MAE\n",
      "0.09840740656649524\n"
     ]
    }
   ],
   "source": [
    "ABC_GAN3_metrics=ABC_train_test2.test_generator(gen3,test_data,prior_model,variance,bias,\"3\",device)\n",
    "sb.glue(\"ABC_GAN_3 Metrics\",ABC_GAN3_metrics)\n",
    "\n",
    "print(\"MAE\")\n",
    "print(mean(ABC_GAN3_metrics[1]))"
   ]
  },
  {
   "cell_type": "code",
   "execution_count": 22,
   "id": "c8e46b48",
   "metadata": {
    "execution": {
     "iopub.execute_input": "2022-07-24T20:36:22.247301Z",
     "iopub.status.busy": "2022-07-24T20:36:22.246926Z",
     "iopub.status.idle": "2022-07-24T20:36:23.736128Z",
     "shell.execute_reply": "2022-07-24T20:36:23.735215Z"
    },
    "id": "c8e46b48",
    "papermill": {
     "duration": 1.514417,
     "end_time": "2022-07-24T20:36:23.738982",
     "exception": false,
     "start_time": "2022-07-24T20:36:22.224565",
     "status": "completed"
    },
    "tags": []
   },
   "outputs": [
    {
     "data": {
      "image/png": "[encoded data removed]",
      "text/plain": [
       "<Figure size 432x288 with 1 Axes>"
      ]
     },
     "metadata": {
      "needs_background": "light"
     },
     "output_type": "display_data"
    },
    {
     "data": {
      "image/png": "[encoded data removed]",
      "text/plain": [
       "<Figure size 432x288 with 1 Axes>"
      ]
     },
     "metadata": {
      "needs_background": "light"
     },
     "output_type": "display_data"
    },
    {
     "data": {
      "image/png": "[encoded data removed]",
      "text/plain": [
       "<Figure size 432x288 with 1 Axes>"
      ]
     },
     "metadata": {
      "needs_background": "light"
     },
     "output_type": "display_data"
    },
    {
     "data": {
      "image/png": "[encoded data removed]",
      "text/plain": [
       "<Figure size 432x288 with 1 Axes>"
      ]
     },
     "metadata": {
      "needs_background": "light"
     },
     "output_type": "display_data"
    }
   ],
   "source": [
    "sanityChecks.discProbVsError(train_data,disc3,device)\n",
    "sanityChecks.discProbVsError(test_data,disc3,device)"
   ]
  },
  {
   "cell_type": "markdown",
   "id": "845c03a3",
   "metadata": {
    "id": "130f3a4d",
    "papermill": {
     "duration": 0.020964,
     "end_time": "2022-07-24T20:36:23.786988",
     "exception": false,
     "start_time": "2022-07-24T20:36:23.766024",
     "status": "completed"
    },
    "tags": []
   },
   "source": [
    "# skipGAN Model with TabNet Generator"
   ]
  },
  {
   "cell_type": "code",
   "execution_count": 23,
   "id": "74c45b32",
   "metadata": {
    "execution": {
     "iopub.execute_input": "2022-07-24T20:36:23.834104Z",
     "iopub.status.busy": "2022-07-24T20:36:23.833695Z",
     "iopub.status.idle": "2022-07-24T20:36:23.855947Z",
     "shell.execute_reply": "2022-07-24T20:36:23.855109Z"
    },
    "id": "4e43dad1",
    "papermill": {
     "duration": 0.047584,
     "end_time": "2022-07-24T20:36:23.858558",
     "exception": false,
     "start_time": "2022-07-24T20:36:23.810974",
     "status": "completed"
    },
    "tags": []
   },
   "outputs": [],
   "source": [
    "#Generator\n",
    "gen4 = network.GeneratorTabnetskipConnection(n_features+1).to(device)\n",
    "constraints=network.weightConstraint()\n",
    "#Discriminator \n",
    "disc4 = network.Discriminator(n_features+1).to(device)\n",
    "\n",
    "criterion = torch.nn.BCELoss()\n",
    "gen_opt = torch.optim.Adam(gen4.parameters(), lr=0.01, betas=(0.5, 0.999))\n",
    "disc_opt = torch.optim.Adam(disc4.parameters(), lr=0.01, betas=(0.5, 0.999))\n"
   ]
  },
  {
   "cell_type": "code",
   "execution_count": 24,
   "id": "ec05eb57",
   "metadata": {
    "execution": {
     "iopub.execute_input": "2022-07-24T20:36:23.910684Z",
     "iopub.status.busy": "2022-07-24T20:36:23.907478Z",
     "iopub.status.idle": "2022-07-24T20:58:24.760486Z",
     "shell.execute_reply": "2022-07-24T20:58:24.758825Z"
    },
    "id": "26acbc37",
    "papermill": {
     "duration": 1320.885702,
     "end_time": "2022-07-24T20:58:24.765175",
     "exception": false,
     "start_time": "2022-07-24T20:36:23.879473",
     "status": "completed"
    },
    "tags": []
   },
   "outputs": [
    {
     "data": {
      "image/png": "[encoded data removed]",
      "text/plain": [
       "<Figure size 432x288 with 1 Axes>"
      ]
     },
     "metadata": {
      "needs_background": "light"
     },
     "output_type": "display_data"
    },
    {
     "data": {
      "image/png": "[encoded data removed]",
      "text/plain": [
       "<Figure size 432x288 with 1 Axes>"
      ]
     },
     "metadata": {
      "needs_background": "light"
     },
     "output_type": "display_data"
    }
   ],
   "source": [
    "ABC_train_test2.training_GAN_skip_connection(disc4,gen4,disc_opt,gen_opt,train_data,batch_size,n_epochs,criterion,prior_model,variance,bias,device)"
   ]
  },
  {
   "cell_type": "code",
   "execution_count": 25,
   "id": "b9a0a3b3",
   "metadata": {
    "execution": {
     "iopub.execute_input": "2022-07-24T20:58:24.821642Z",
     "iopub.status.busy": "2022-07-24T20:58:24.821116Z",
     "iopub.status.idle": "2022-07-24T20:58:28.249675Z",
     "shell.execute_reply": "2022-07-24T20:58:28.248702Z"
    },
    "id": "c5e0717b",
    "papermill": {
     "duration": 3.464265,
     "end_time": "2022-07-24T20:58:28.254218",
     "exception": false,
     "start_time": "2022-07-24T20:58:24.789953",
     "status": "completed"
    },
    "tags": []
   },
   "outputs": [
    {
     "data": {
      "application/scrapbook.scrap.json+json": {
       "data": 0.02299945002645667,
       "encoder": "json",
       "name": "ABC-GAN Model 3 MSE",
       "version": 1
      }
     },
     "metadata": {
      "scrapbook": {
       "data": true,
       "display": false,
       "name": "ABC-GAN Model 3 MSE"
      }
     },
     "output_type": "display_data"
    },
    {
     "data": {
      "application/scrapbook.scrap.json+json": {
       "data": 0.10950521993148443,
       "encoder": "json",
       "name": "ABC-GAN Model 3 MAE",
       "version": 1
      }
     },
     "metadata": {
      "scrapbook": {
       "data": true,
       "display": false,
       "name": "ABC-GAN Model 3 MAE"
      }
     },
     "output_type": "display_data"
    },
    {
     "data": {
      "application/scrapbook.scrap.json+json": {
       "data": 16.863803869448603,
       "encoder": "json",
       "name": "ABC-GAN Model 3 Manhattan Distance",
       "version": 1
      }
     },
     "metadata": {
      "scrapbook": {
       "data": true,
       "display": false,
       "name": "ABC-GAN Model 3 Manhattan Distance"
      }
     },
     "output_type": "display_data"
    },
    {
     "data": {
      "application/scrapbook.scrap.json+json": {
       "data": 1.881196856993527,
       "encoder": "json",
       "name": "ABC-GAN Model 3 Euclidean distance",
       "version": 1
      }
     },
     "metadata": {
      "scrapbook": {
       "data": true,
       "display": false,
       "name": "ABC-GAN Model 3 Euclidean distance"
      }
     },
     "output_type": "display_data"
    },
    {
     "data": {
      "application/scrapbook.scrap.json+json": {
       "data": [
        [
         0.02132171445172286,
         0.022546987110804273,
         0.023510393569876158,
         0.02231266529734373,
         0.02444911070716549,
         0.02442927408827809,
         0.021505385926275728,
         0.026488691140635734,
         0.02279893600536346,
         0.02256834655799932,
         0.024739238555404938,
         0.02061964772165225,
         0.02201503022158039,
         0.02506941011611469,
         0.021797423296038235,
         0.025474434798622735,
         0.025331623700605915,
         0.021975412010980865,
         0.02384104994356478,
         0.022571030566606018,
         0.02185387080423603,
         0.02270184668106183,
         0.022603459934680478,
         0.023425266152567494,
         0.02322374955212206,
         0.023116321606920138,
         0.023638314320936053,
         0.021995813877174655,
         0.021807109338061608,
         0.023623943905626103,
         0.023916514006690537,
         0.022749318568060697,
         0.02211609467884213,
         0.020614747113866707,
         0.01956131056795387,
         0.02493568213886033,
         0.024123318881075138,
         0.022018735164944982,
         0.021619462775136104,
         0.021434396132119993,
         0.024720482309975325,
         0.02246460810423281,
         0.02229715947432043,
         0.02384708164116833,
         0.02452687784506807,
         0.0201719949222087,
         0.023858814660303148,
         0.022505334926928522,
         0.023384243728597678,
         0.021696668632288828,
         0.021310372197408518,
         0.021929198964296053,
         0.022532680986588765,
         0.024056648628886537,
         0.023203294073998983,
         0.023306633982940493,
         0.022107474682049655,
         0.022497550476567568,
         0.02498453044545611,
         0.024703438046976018,
         0.02259734805456956,
         0.023781722284983448,
         0.025960903334716574,
         0.02366155649056936,
         0.024588175922768855,
         0.023316691693081648,
         0.022516453160017214,
         0.022529538068845334,
         0.0216702558726971,
         0.02206467632527685,
         0.023707465792286213,
         0.022596791897456333,
         0.02438893437827383,
         0.022807174331004192,
         0.020259283985973986,
         0.021738994925822996,
         0.026804614493120153,
         0.024161415794420747,
         0.022564481573892237,
         0.022151537571538017,
         0.022713057483458334,
         0.024621701146777315,
         0.02216216056294184,
         0.024016384301925545,
         0.022507561691913907,
         0.023507419758393707,
         0.022688752257241093,
         0.024944221650649485,
         0.022430867287203123,
         0.023440317400355626,
         0.02410076740750305,
         0.0244769140798281,
         0.0218626454999131,
         0.022542157495061336,
         0.021098260562765443,
         0.021927638509576804,
         0.022161538486357667,
         0.02268065034644034,
         0.02276573817971672,
         0.022878061868496648
        ],
        [
         0.10966201888566668,
         0.10584295202385295,
         0.10982862231019255,
         0.1097623726183718,
         0.11449856499766374,
         0.11488635593710782,
         0.10284584683257264,
         0.11609508310045515,
         0.10621322880124116,
         0.10957084054296667,
         0.112699117898554,
         0.10279736510635197,
         0.1069015133400242,
         0.1176184837210488,
         0.1090081599480533,
         0.11502183519013516,
         0.11474484379415388,
         0.1042133378131049,
         0.10946066798521327,
         0.10784361874321838,
         0.10942543271396842,
         0.10745025000401906,
         0.10737872455123958,
         0.11074530030903104,
         0.10984429025224277,
         0.11095212858363793,
         0.11274512615296747,
         0.1074621169646452,
         0.10701734964530189,
         0.10986809459115777,
         0.1139033552404348,
         0.1057009698653763,
         0.10765792448799331,
         0.10309870129862389,
         0.10086093204362052,
         0.11561103777161666,
         0.11387851306950891,
         0.10947655211505178,
         0.10638981348798647,
         0.10726487075353598,
         0.11218729107217355,
         0.10581276599656451,
         0.10717734355818141,
         0.11241599840003175,
         0.11408751518405102,
         0.1001998678140052,
         0.10921326683616484,
         0.10884846882386641,
         0.11283927495506677,
         0.10574341405715261,
         0.10509890129233336,
         0.10784929927873921,
         0.10821115815794313,
         0.11259999232632774,
         0.10955898023464462,
         0.10892864568279935,
         0.10569040743368012,
         0.11045191978866403,
         0.11178895434388866,
         0.11355555207504854,
         0.10854451817932068,
         0.11074577755742258,
         0.11805323746006985,
         0.11115278129453783,
         0.11395104899518675,
         0.11275075743724773,
         0.10569268465042114,
         0.10805440256251143,
         0.10788561827079816,
         0.1109037059419728,
         0.11415177332116412,
         0.10511914357639753,
         0.1133195169076517,
         0.11043441031950635,
         0.10313289634302839,
         0.10895187194858279,
         0.11792861442867812,
         0.11086864953304267,
         0.10784548462985398,
         0.10574131110658894,
         0.10736318000338295,
         0.11237561760784744,
         0.10637149364723787,
         0.11209409122730231,
         0.10665345523361262,
         0.11194929349925611,
         0.11020387145509193,
         0.1170108328972544,
         0.10457534425250896,
         0.11320940441415682,
         0.11567608564608282,
         0.11301781778985803,
         0.10633575906614204,
         0.1082832356068221,
         0.10188083824786273,
         0.10289794690423197,
         0.11040365490336697,
         0.10883728540562965,
         0.10786458399969262,
         0.10978466607388351
        ],
        [
         16.887950908392668,
         16.299814611673355,
         16.913607835769653,
         16.903405383229256,
         17.632779009640217,
         17.692498814314604,
         15.838260412216187,
         17.878642797470093,
         16.35683723539114,
         16.873909443616867,
         17.355664156377316,
         15.830794226378202,
         16.462833054363728,
         18.113246493041515,
         16.787256632000208,
         17.713362619280815,
         17.670705944299698,
         16.048854023218155,
         16.856942869722843,
         16.60791728645563,
         16.851516637951136,
         16.547338500618935,
         16.536323580890894,
         17.05477624759078,
         16.916020698845387,
         17.08662780188024,
         17.36274942755699,
         16.54916601255536,
         16.48067184537649,
         16.919686567038298,
         17.54111670702696,
         16.27794935926795,
         16.57932037115097,
         15.877199999988079,
         15.53258353471756,
         17.804099816828966,
         17.537291012704372,
         16.859389025717974,
         16.384031277149916,
         16.51879009604454,
         17.276842825114727,
         16.295165963470936,
         16.505310907959938,
         17.31206375360489,
         17.56947733834386,
         15.4307796433568,
         16.818843092769384,
         16.762664198875427,
         17.377248343080282,
         16.284485764801502,
         16.185230799019337,
         16.60879208892584,
         16.664518356323242,
         17.34039881825447,
         16.872082956135273,
         16.7750114351511,
         16.27632274478674,
         17.009595647454262,
         17.215498968958855,
         17.487555019557476,
         16.715855799615383,
         17.05484974384308,
         18.180198568850756,
         17.117528319358826,
         17.54846154525876,
         17.36361664533615,
         16.276673436164856,
         16.64037799462676,
         16.614385213702917,
         17.07917071506381,
         17.579373091459274,
         16.18834811076522,
         17.451205603778362,
         17.006899189203978,
         15.882466036826372,
         16.77858828008175,
         18.16100662201643,
         17.07377202808857,
         16.608204632997513,
         16.284161910414696,
         16.533929720520973,
         17.305845111608505,
         16.381210021674633,
         17.262490049004555,
         16.424632105976343,
         17.24019119888544,
         16.971396204084158,
         18.019668266177177,
         16.10460301488638,
         17.43424827978015,
         17.814117189496756,
         17.404743939638138,
         16.375706896185875,
         16.675618283450603,
         15.68964909017086,
         15.846283823251724,
         17.002162855118513,
         16.760941952466965,
         16.611145935952663,
         16.90683857537806
        ],
        [
         1.81205519385181,
         1.8633936822539292,
         1.9027875892387274,
         1.8536856410381277,
         1.9404028058378715,
         1.9396154798296559,
         1.8198432439763768,
         2.0197174148028485,
         1.8737759057117722,
         1.8642760980959592,
         1.9518818451772024,
         1.7819724322038335,
         1.8412807103001376,
         1.9648636486742947,
         1.8321580683963619,
         1.9806723502356216,
         1.9751126676453956,
         1.8396231814398984,
         1.9161215231057178,
         1.8643869521259062,
         1.8345288506459494,
         1.8697819094438586,
         1.865725818533043,
         1.8993396187873812,
         1.891152408196335,
         1.8867733110964073,
         1.9079571288223833,
         1.8404769319621739,
         1.832565097905525,
         1.9073770894782238,
         1.919151676400368,
         1.871735841266429,
         1.8455022569863437,
         1.7817606616870494,
         1.7356387376020668,
         1.959616046419423,
         1.9274312199623544,
         1.8414356397663012,
         1.8246636038927722,
         1.8168370880038966,
         1.9511417877069313,
         1.8599864644808177,
         1.8530414347891269,
         1.9163638936120462,
         1.9434863488433567,
         1.7625229695014302,
         1.9168352714009322,
         1.8616717161591598,
         1.8976758243188014,
         1.8279187534932944,
         1.8115731612057273,
         1.8376878517587234,
         1.862802424288381,
         1.9247659309247256,
         1.8903193612180567,
         1.8945241179179628,
         1.845142569298006,
         1.8613497181860816,
         1.961534523937889,
         1.950469035702517,
         1.8654735592882874,
         1.9137359357778312,
         1.9994947145582436,
         1.9088948896017508,
         1.9459134338676025,
         1.894932853885481,
         1.8621315170101844,
         1.8626725054614892,
         1.826805792741898,
         1.8433556775871103,
         1.9107458575153513,
         1.8654506029933557,
         1.9380133885642197,
         1.8741144167245087,
         1.766332282963767,
         1.829700854942343,
         2.031726022853599,
         1.928952573896205,
         1.86411645622783,
         1.8469804509027308,
         1.8702435275793854,
         1.947239578635281,
         1.8474232667943322,
         1.9231544874233413,
         1.8617638143853645,
         1.90266724436845,
         1.869242586614998,
         1.9599515642484688,
         1.8585891321723802,
         1.8999497045066132,
         1.926530088204041,
         1.94150579919132,
         1.8348971107358085,
         1.8631940999905097,
         1.8025349169061546,
         1.8376224667963839,
         1.8473973386629854,
         1.8689088135465068,
         1.872411194069394,
         1.8770246476134733
        ]
       ],
       "encoder": "json",
       "name": "ABC_GAN_4 Metrics",
       "version": 1
      }
     },
     "metadata": {
      "scrapbook": {
       "data": true,
       "display": false,
       "name": "ABC_GAN_4 Metrics"
      }
     },
     "output_type": "display_data"
    },
    {
     "name": "stdout",
     "output_type": "stream",
     "text": [
      "MAE\n",
      "0.10950521993148443\n"
     ]
    }
   ],
   "source": [
    "ABC_GAN4_metrics=ABC_train_test2.test_generator(gen4,test_data,prior_model,variance,bias,\"3\",device)\n",
    "sb.glue(\"ABC_GAN_4 Metrics\",ABC_GAN4_metrics)\n",
    "\n",
    "print(\"MAE\")\n",
    "print(mean(ABC_GAN4_metrics[1]))"
   ]
  },
  {
   "cell_type": "code",
   "execution_count": 26,
   "id": "2bca7091",
   "metadata": {
    "execution": {
     "iopub.execute_input": "2022-07-24T20:58:28.304918Z",
     "iopub.status.busy": "2022-07-24T20:58:28.304598Z",
     "iopub.status.idle": "2022-07-24T20:58:29.286282Z",
     "shell.execute_reply": "2022-07-24T20:58:29.285157Z"
    },
    "id": "c8e46b48",
    "papermill": {
     "duration": 1.010635,
     "end_time": "2022-07-24T20:58:29.289115",
     "exception": false,
     "start_time": "2022-07-24T20:58:28.278480",
     "status": "completed"
    },
    "tags": []
   },
   "outputs": [
    {
     "data": {
      "image/png": "[encoded data removed]",
      "text/plain": [
       "<Figure size 432x288 with 1 Axes>"
      ]
     },
     "metadata": {
      "needs_background": "light"
     },
     "output_type": "display_data"
    },
    {
     "data": {
      "image/png": "[encoded data removed]",
      "text/plain": [
       "<Figure size 432x288 with 1 Axes>"
      ]
     },
     "metadata": {
      "needs_background": "light"
     },
     "output_type": "display_data"
    },
    {
     "data": {
      "image/png": "[encoded data removed]",
      "text/plain": [
       "<Figure size 432x288 with 1 Axes>"
      ]
     },
     "metadata": {
      "needs_background": "light"
     },
     "output_type": "display_data"
    },
    {
     "data": {
      "image/png": "[encoded data removed]",
      "text/plain": [
       "<Figure size 432x288 with 1 Axes>"
      ]
     },
     "metadata": {
      "needs_background": "light"
     },
     "output_type": "display_data"
    }
   ],
   "source": [
    "sanityChecks.discProbVsError(train_data,disc4,device)\n",
    "sanityChecks.discProbVsError(test_data,disc4,device)"
   ]
  },
  {
   "cell_type": "markdown",
   "id": "a5bd74c3",
   "metadata": {
    "id": "a5bd74c3",
    "papermill": {
     "duration": 0.042465,
     "end_time": "2022-07-24T20:58:29.358991",
     "exception": false,
     "start_time": "2022-07-24T20:58:29.316526",
     "status": "completed"
    },
    "tags": []
   },
   "source": [
    "## Skip Connection Model Analysis - ABC-GAN "
   ]
  },
  {
   "cell_type": "markdown",
   "id": "5744a8bf",
   "metadata": {
    "id": "5744a8bf",
    "papermill": {
     "duration": 0.028845,
     "end_time": "2022-07-24T20:58:29.419712",
     "exception": false,
     "start_time": "2022-07-24T20:58:29.390867",
     "status": "completed"
    },
    "tags": []
   },
   "source": [
    "### Weight Analysis \n",
    "\n",
    "Study the weights of the skip connection layer\n",
    "\n",
    "Equation of the skip connection is \n",
    "\n",
    "$output = y_{gan} * w + y_{abc} * (1-w)$"
   ]
  },
  {
   "cell_type": "code",
   "execution_count": 27,
   "id": "52c31dea",
   "metadata": {
    "execution": {
     "iopub.execute_input": "2022-07-24T20:58:29.480646Z",
     "iopub.status.busy": "2022-07-24T20:58:29.480286Z",
     "iopub.status.idle": "2022-07-24T20:58:29.516572Z",
     "shell.execute_reply": "2022-07-24T20:58:29.514364Z"
    },
    "id": "52c31dea",
    "papermill": {
     "duration": 0.074432,
     "end_time": "2022-07-24T20:58:29.523263",
     "exception": false,
     "start_time": "2022-07-24T20:58:29.448831",
     "status": "completed"
    },
    "tags": []
   },
   "outputs": [
    {
     "name": "stdout",
     "output_type": "stream",
     "text": [
      "Weight of the node at skip connection\n",
      "Parameter containing:\n",
      "tensor([[0.1251]], requires_grad=True)\n"
     ]
    },
    {
     "data": {
      "application/scrapbook.scrap.json+json": {
       "data": 0.12514503300189972,
       "encoder": "json",
       "name": "Skip Connection Weight",
       "version": 1
      }
     },
     "metadata": {
      "scrapbook": {
       "data": true,
       "display": false,
       "name": "Skip Connection Weight"
      }
     },
     "output_type": "display_data"
    }
   ],
   "source": [
    "print(\"Weight of the node at skip connection\")\n",
    "for name,param in gen3.named_parameters():\n",
    "    if(name == \"skipNode.weight\"):\n",
    "        print(param)\n",
    "        sb.glue(\"Skip Connection Weight\",param.item())"
   ]
  },
  {
   "cell_type": "markdown",
   "id": "d5739663",
   "metadata": {
    "id": "a5bd74c3",
    "papermill": {
     "duration": 0.027176,
     "end_time": "2022-07-24T20:58:29.580989",
     "exception": false,
     "start_time": "2022-07-24T20:58:29.553813",
     "status": "completed"
    },
    "tags": []
   },
   "source": [
    "## skipGAN Model Analysis (TabNet Generator) "
   ]
  },
  {
   "cell_type": "markdown",
   "id": "17ca8ba5",
   "metadata": {
    "id": "5744a8bf",
    "papermill": {
     "duration": 0.028796,
     "end_time": "2022-07-24T20:58:29.637205",
     "exception": false,
     "start_time": "2022-07-24T20:58:29.608409",
     "status": "completed"
    },
    "tags": []
   },
   "source": [
    "### Weight Analysis \n",
    "\n",
    "Study the weights of the skip connection layer\n",
    "\n",
    "Equation of the skip connection is \n",
    "\n",
    "$output = y_{gan} * w + y_{abc} * (1-w)$"
   ]
  },
  {
   "cell_type": "code",
   "execution_count": 28,
   "id": "4aadf443",
   "metadata": {
    "execution": {
     "iopub.execute_input": "2022-07-24T20:58:29.695225Z",
     "iopub.status.busy": "2022-07-24T20:58:29.694861Z",
     "iopub.status.idle": "2022-07-24T20:58:29.710393Z",
     "shell.execute_reply": "2022-07-24T20:58:29.709488Z"
    },
    "id": "52c31dea",
    "papermill": {
     "duration": 0.051212,
     "end_time": "2022-07-24T20:58:29.713808",
     "exception": false,
     "start_time": "2022-07-24T20:58:29.662596",
     "status": "completed"
    },
    "tags": []
   },
   "outputs": [
    {
     "name": "stdout",
     "output_type": "stream",
     "text": [
      "Weight of the node at skip connection\n",
      "Parameter containing:\n",
      "tensor([[0.4950]], requires_grad=True)\n"
     ]
    },
    {
     "data": {
      "application/scrapbook.scrap.json+json": {
       "data": 0.49504655599594116,
       "encoder": "json",
       "name": "Skip Connection Weight",
       "version": 1
      }
     },
     "metadata": {
      "scrapbook": {
       "data": true,
       "display": false,
       "name": "Skip Connection Weight"
      }
     },
     "output_type": "display_data"
    }
   ],
   "source": [
    "print(\"Weight of the node at skip connection\")\n",
    "for name,param in gen4.named_parameters():\n",
    "    if(name == \"skipNode.weight\"):\n",
    "        print(param)\n",
    "        sb.glue(\"Skip Connection Weight\",param.item())"
   ]
  }
 ],
 "metadata": {
  "colab": {
   "collapsed_sections": [],
   "name": "ABC_GAN_Model-Catboost_Pre-gen.ipynb",
   "provenance": []
  },
  "interpreter": {
   "hash": "31f2aee4e71d21fbe5cf8b01ff0e069b9275f58929596ceb00d14d90e3e16cd6"
  },
  "kernelspec": {
   "display_name": "Python 3 (ipykernel)",
   "language": "python",
   "name": "python3"
  },
  "language_info": {
   "codemirror_mode": {
    "name": "ipython",
    "version": 3
   },
   "file_extension": ".py",
   "mimetype": "text/x-python",
   "name": "python",
   "nbconvert_exporter": "python",
   "pygments_lexer": "ipython3",
   "version": "3.8.9"
  },
  "papermill": {
   "default_parameters": {},
   "duration": 2848.136498,
   "end_time": "2022-07-24T20:58:30.810907",
   "environment_variables": {},
   "exception": null,
   "input_path": "ABC_GAN-Catboost.ipynb",
   "output_path": "./ABC_GAN_Catboost/ABC-GAN_output_1_7.ipynb",
   "parameters": {
    "bias": 0.01,
    "variance": 0.1
   },
   "start_time": "2022-07-24T20:11:02.674409",
   "version": "2.3.3"
  }
 },
 "nbformat": 4,
 "nbformat_minor": 5
}
