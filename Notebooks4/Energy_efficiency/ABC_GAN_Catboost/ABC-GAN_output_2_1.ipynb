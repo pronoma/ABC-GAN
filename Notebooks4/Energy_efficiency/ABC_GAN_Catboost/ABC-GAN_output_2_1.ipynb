{
 "cells": [
  {
   "cell_type": "markdown",
   "id": "622780e6",
   "metadata": {
    "id": "622780e6",
    "papermill": {
     "duration": 0.007614,
     "end_time": "2022-07-25T00:54:43.487697",
     "exception": false,
     "start_time": "2022-07-25T00:54:43.480083",
     "status": "completed"
    },
    "tags": []
   },
   "source": [
    "## Import Libraries "
   ]
  },
  {
   "cell_type": "code",
   "execution_count": 1,
   "id": "a62397e3",
   "metadata": {
    "execution": {
     "iopub.execute_input": "2022-07-25T00:54:43.504542Z",
     "iopub.status.busy": "2022-07-25T00:54:43.503347Z",
     "iopub.status.idle": "2022-07-25T00:54:43.516290Z",
     "shell.execute_reply": "2022-07-25T00:54:43.515404Z"
    },
    "id": "a62397e3",
    "papermill": {
     "duration": 0.024879,
     "end_time": "2022-07-25T00:54:43.519255",
     "exception": false,
     "start_time": "2022-07-25T00:54:43.494376",
     "status": "completed"
    },
    "tags": []
   },
   "outputs": [],
   "source": [
    "import warnings\n",
    "import sys\n",
    "sys.path.insert(0, '../../src')\n",
    "warnings.filterwarnings('ignore')"
   ]
  },
  {
   "cell_type": "code",
   "execution_count": 2,
   "id": "d6a4e155",
   "metadata": {
    "execution": {
     "iopub.execute_input": "2022-07-25T00:54:43.537982Z",
     "iopub.status.busy": "2022-07-25T00:54:43.537285Z",
     "iopub.status.idle": "2022-07-25T00:54:49.934328Z",
     "shell.execute_reply": "2022-07-25T00:54:49.933232Z"
    },
    "id": "d6a4e155",
    "papermill": {
     "duration": 6.411231,
     "end_time": "2022-07-25T00:54:49.937932",
     "exception": false,
     "start_time": "2022-07-25T00:54:43.526701",
     "status": "completed"
    },
    "tags": []
   },
   "outputs": [],
   "source": [
    "import ABC_train_test2\n",
    "import energyefficiencyDataset\n",
    "import network\n",
    "import dataset\n",
    "import sanityChecks\n",
    "import torch \n",
    "import scrapbook as sb\n",
    "from statistics import mean \n",
    "import catboost as ctb \n",
    "from sklearn.model_selection import train_test_split\n",
    "from sklearn.metrics import mean_squared_error,mean_absolute_error\n",
    "import numpy as np"
   ]
  },
  {
   "cell_type": "markdown",
   "id": "2fa5b0f7",
   "metadata": {
    "id": "2fa5b0f7",
    "papermill": {
     "duration": 0.007218,
     "end_time": "2022-07-25T00:54:49.952654",
     "exception": false,
     "start_time": "2022-07-25T00:54:49.945436",
     "status": "completed"
    },
    "tags": []
   },
   "source": [
    "## Parameters "
   ]
  },
  {
   "cell_type": "code",
   "execution_count": 3,
   "id": "783186fb",
   "metadata": {
    "execution": {
     "iopub.execute_input": "2022-07-25T00:54:49.990345Z",
     "iopub.status.busy": "2022-07-25T00:54:49.988966Z",
     "iopub.status.idle": "2022-07-25T00:54:49.997889Z",
     "shell.execute_reply": "2022-07-25T00:54:49.995841Z"
    },
    "id": "783186fb",
    "papermill": {
     "duration": 0.042212,
     "end_time": "2022-07-25T00:54:50.002734",
     "exception": false,
     "start_time": "2022-07-25T00:54:49.960522",
     "status": "completed"
    },
    "tags": [
     "parameters"
    ]
   },
   "outputs": [],
   "source": [
    "variance = 1\n",
    "bias = 1 "
   ]
  },
  {
   "cell_type": "code",
   "execution_count": 4,
   "id": "c50be416",
   "metadata": {
    "execution": {
     "iopub.execute_input": "2022-07-25T00:54:50.031051Z",
     "iopub.status.busy": "2022-07-25T00:54:50.030599Z",
     "iopub.status.idle": "2022-07-25T00:54:50.036766Z",
     "shell.execute_reply": "2022-07-25T00:54:50.035186Z"
    },
    "papermill": {
     "duration": 0.027408,
     "end_time": "2022-07-25T00:54:50.042312",
     "exception": false,
     "start_time": "2022-07-25T00:54:50.014904",
     "status": "completed"
    },
    "tags": [
     "injected-parameters"
    ]
   },
   "outputs": [],
   "source": [
    "# Parameters\n",
    "variance = 0.1\n",
    "bias = 1\n"
   ]
  },
  {
   "cell_type": "markdown",
   "id": "391cdbfd",
   "metadata": {
    "id": "391cdbfd",
    "papermill": {
     "duration": 0.007757,
     "end_time": "2022-07-25T00:54:50.058564",
     "exception": false,
     "start_time": "2022-07-25T00:54:50.050807",
     "status": "completed"
    },
    "tags": []
   },
   "source": [
    "## Dataset \n"
   ]
  },
  {
   "cell_type": "code",
   "execution_count": 5,
   "id": "5b51f161",
   "metadata": {
    "execution": {
     "iopub.execute_input": "2022-07-25T00:54:50.076907Z",
     "iopub.status.busy": "2022-07-25T00:54:50.076478Z",
     "iopub.status.idle": "2022-07-25T00:54:50.081417Z",
     "shell.execute_reply": "2022-07-25T00:54:50.080147Z"
    },
    "id": "5b51f161",
    "papermill": {
     "duration": 0.018172,
     "end_time": "2022-07-25T00:54:50.085012",
     "exception": false,
     "start_time": "2022-07-25T00:54:50.066840",
     "status": "completed"
    },
    "tags": []
   },
   "outputs": [],
   "source": [
    "#Parameters \n",
    "n_features = 8\n",
    "n_samples= 768\n",
    "n_target = 1 "
   ]
  },
  {
   "cell_type": "code",
   "execution_count": 6,
   "id": "5d6eced4",
   "metadata": {
    "execution": {
     "iopub.execute_input": "2022-07-25T00:54:50.104260Z",
     "iopub.status.busy": "2022-07-25T00:54:50.103771Z",
     "iopub.status.idle": "2022-07-25T00:54:50.994937Z",
     "shell.execute_reply": "2022-07-25T00:54:50.993229Z"
    },
    "id": "5d6eced4",
    "papermill": {
     "duration": 0.904771,
     "end_time": "2022-07-25T00:54:50.997575",
     "exception": false,
     "start_time": "2022-07-25T00:54:50.092804",
     "status": "completed"
    },
    "tags": []
   },
   "outputs": [
    {
     "name": "stdout",
     "output_type": "stream",
     "text": [
      "     X1     X2     X3      X4   X5  X6   X7  X8     Y1     Y2\n",
      "0  0.98  514.5  294.0  110.25  7.0   2  0.0   0  15.55  21.33\n",
      "1  0.98  514.5  294.0  110.25  7.0   3  0.0   0  15.55  21.33\n",
      "2  0.98  514.5  294.0  110.25  7.0   4  0.0   0  15.55  21.33\n",
      "3  0.98  514.5  294.0  110.25  7.0   5  0.0   0  15.55  21.33\n",
      "4  0.90  563.5  318.5  122.50  7.0   2  0.0   0  20.84  28.28\n"
     ]
    }
   ],
   "source": [
    "X,Y = energyefficiencyDataset.energy_data()"
   ]
  },
  {
   "cell_type": "code",
   "execution_count": 7,
   "id": "fe007438",
   "metadata": {
    "execution": {
     "iopub.execute_input": "2022-07-25T00:54:51.017231Z",
     "iopub.status.busy": "2022-07-25T00:54:51.016412Z",
     "iopub.status.idle": "2022-07-25T00:54:51.027246Z",
     "shell.execute_reply": "2022-07-25T00:54:51.024431Z"
    },
    "id": "fe007438",
    "papermill": {
     "duration": 0.027665,
     "end_time": "2022-07-25T00:54:51.033022",
     "exception": false,
     "start_time": "2022-07-25T00:54:51.005357",
     "status": "completed"
    },
    "tags": []
   },
   "outputs": [],
   "source": [
    "#Train test split for dataset \n",
    "X_train,X_test,Y_train,Y_test = train_test_split(X,Y,test_size = 0.2)\n",
    "train_data = dataset.CustomDataset(X_train,Y_train)\n",
    "test_data = dataset.CustomDataset(X_test,Y_test)\n"
   ]
  },
  {
   "cell_type": "markdown",
   "id": "a9a1af34",
   "metadata": {
    "id": "a9a1af34",
    "papermill": {
     "duration": 0.008009,
     "end_time": "2022-07-25T00:54:51.048606",
     "exception": false,
     "start_time": "2022-07-25T00:54:51.040597",
     "status": "completed"
    },
    "tags": []
   },
   "source": [
    "## Training Parameters "
   ]
  },
  {
   "cell_type": "code",
   "execution_count": 8,
   "id": "952b7fc8",
   "metadata": {
    "execution": {
     "iopub.execute_input": "2022-07-25T00:54:51.070392Z",
     "iopub.status.busy": "2022-07-25T00:54:51.069439Z",
     "iopub.status.idle": "2022-07-25T00:54:51.082521Z",
     "shell.execute_reply": "2022-07-25T00:54:51.079476Z"
    },
    "id": "952b7fc8",
    "papermill": {
     "duration": 0.030787,
     "end_time": "2022-07-25T00:54:51.087394",
     "exception": false,
     "start_time": "2022-07-25T00:54:51.056607",
     "status": "completed"
    },
    "tags": []
   },
   "outputs": [],
   "source": [
    "batch_size = 32\n",
    "n_epochs = 1000\n",
    "#Select the device \n",
    "device = torch.device('cuda' if torch.cuda.is_available() else 'cpu')"
   ]
  },
  {
   "cell_type": "markdown",
   "id": "a95e1600",
   "metadata": {
    "id": "a95e1600",
    "papermill": {
     "duration": 0.007832,
     "end_time": "2022-07-25T00:54:51.102791",
     "exception": false,
     "start_time": "2022-07-25T00:54:51.094959",
     "status": "completed"
    },
    "tags": []
   },
   "source": [
    "# ABC Pre-generator Model \n",
    "\n",
    "1. The catboost model is used as a pre-generator model for the ABC-GAN. \n",
    "2. The model is first trained on the entire dataset \n",
    "3. It generats X,Y pairs and we add some Gaussian noise with mean 0 and variance 1 to it which is then feed as input to the generator.\n"
   ]
  },
  {
   "cell_type": "code",
   "execution_count": 9,
   "id": "ff8ce7bd",
   "metadata": {
    "execution": {
     "iopub.execute_input": "2022-07-25T00:54:51.127550Z",
     "iopub.status.busy": "2022-07-25T00:54:51.126370Z",
     "iopub.status.idle": "2022-07-25T00:54:52.093770Z",
     "shell.execute_reply": "2022-07-25T00:54:52.092664Z"
    },
    "id": "ff8ce7bd",
    "papermill": {
     "duration": 0.986552,
     "end_time": "2022-07-25T00:54:52.096976",
     "exception": false,
     "start_time": "2022-07-25T00:54:51.110424",
     "status": "completed"
    },
    "tags": []
   },
   "outputs": [
    {
     "name": "stdout",
     "output_type": "stream",
     "text": [
      "Learning rate set to 0.037906\n"
     ]
    },
    {
     "name": "stdout",
     "output_type": "stream",
     "text": [
      "0:\tlearn: 0.9811787\ttotal: 52.6ms\tremaining: 52.6s\n",
      "1:\tlearn: 0.9480392\ttotal: 53.4ms\tremaining: 26.6s\n",
      "2:\tlearn: 0.9196805\ttotal: 53.9ms\tremaining: 17.9s\n",
      "3:\tlearn: 0.8887837\ttotal: 54.4ms\tremaining: 13.5s\n",
      "4:\tlearn: 0.8629487\ttotal: 54.6ms\tremaining: 10.9s\n",
      "5:\tlearn: 0.8346394\ttotal: 55.1ms\tremaining: 9.13s\n",
      "6:\tlearn: 0.8111973\ttotal: 55.5ms\tremaining: 7.87s\n",
      "7:\tlearn: 0.7874104\ttotal: 56ms\tremaining: 6.94s\n",
      "8:\tlearn: 0.7613768\ttotal: 56.4ms\tremaining: 6.21s\n",
      "9:\tlearn: 0.7392858\ttotal: 56.8ms\tremaining: 5.62s\n",
      "10:\tlearn: 0.7165682\ttotal: 57.3ms\tremaining: 5.15s\n",
      "11:\tlearn: 0.6958250\ttotal: 57.7ms\tremaining: 4.75s\n",
      "12:\tlearn: 0.6766322\ttotal: 58.1ms\tremaining: 4.41s\n",
      "13:\tlearn: 0.6572569\ttotal: 58.4ms\tremaining: 4.12s\n",
      "14:\tlearn: 0.6363796\ttotal: 58.8ms\tremaining: 3.86s\n",
      "15:\tlearn: 0.6175183\ttotal: 59.1ms\tremaining: 3.63s\n",
      "16:\tlearn: 0.5979622\ttotal: 59.5ms\tremaining: 3.44s\n",
      "17:\tlearn: 0.5803817\ttotal: 60ms\tremaining: 3.27s\n",
      "18:\tlearn: 0.5621742\ttotal: 60.4ms\tremaining: 3.12s\n",
      "19:\tlearn: 0.5464371\ttotal: 60.8ms\tremaining: 2.98s\n",
      "20:\tlearn: 0.5304777\ttotal: 61.3ms\tremaining: 2.86s\n",
      "21:\tlearn: 0.5145247\ttotal: 61.7ms\tremaining: 2.74s\n",
      "22:\tlearn: 0.4984348\ttotal: 62.2ms\tremaining: 2.64s\n",
      "23:\tlearn: 0.4825695\ttotal: 62.6ms\tremaining: 2.55s\n",
      "24:\tlearn: 0.4692206\ttotal: 63.3ms\tremaining: 2.47s\n",
      "25:\tlearn: 0.4548128\ttotal: 64ms\tremaining: 2.4s\n",
      "26:\tlearn: 0.4414842\ttotal: 67.8ms\tremaining: 2.44s\n",
      "27:\tlearn: 0.4295671\ttotal: 68.9ms\tremaining: 2.39s\n",
      "28:\tlearn: 0.4163117\ttotal: 69.8ms\tremaining: 2.34s\n",
      "29:\tlearn: 0.4049202\ttotal: 70.5ms\tremaining: 2.28s\n",
      "30:\tlearn: 0.3935299\ttotal: 71.3ms\tremaining: 2.23s\n",
      "31:\tlearn: 0.3816037\ttotal: 71.9ms\tremaining: 2.17s\n",
      "32:\tlearn: 0.3705415\ttotal: 72.3ms\tremaining: 2.12s\n",
      "33:\tlearn: 0.3598554\ttotal: 73.3ms\tremaining: 2.08s\n",
      "34:\tlearn: 0.3495986\ttotal: 73.8ms\tremaining: 2.04s\n",
      "35:\tlearn: 0.3392473\ttotal: 75.4ms\tremaining: 2.02s\n",
      "36:\tlearn: 0.3305809\ttotal: 76.3ms\tremaining: 1.99s\n",
      "37:\tlearn: 0.3213654\ttotal: 76.9ms\tremaining: 1.95s\n",
      "38:\tlearn: 0.3130640\ttotal: 77.6ms\tremaining: 1.91s\n",
      "39:\tlearn: 0.3046141\ttotal: 78.7ms\tremaining: 1.89s\n",
      "40:\tlearn: 0.2967527\ttotal: 79.2ms\tremaining: 1.85s\n",
      "41:\tlearn: 0.2895804\ttotal: 79.9ms\tremaining: 1.82s\n",
      "42:\tlearn: 0.2821248\ttotal: 80.4ms\tremaining: 1.79s\n",
      "43:\tlearn: 0.2743756\ttotal: 81.2ms\tremaining: 1.76s\n",
      "44:\tlearn: 0.2674857\ttotal: 81.7ms\tremaining: 1.73s\n",
      "45:\tlearn: 0.2608848\ttotal: 82.1ms\tremaining: 1.7s\n",
      "46:\tlearn: 0.2556366\ttotal: 82.8ms\tremaining: 1.68s\n",
      "47:\tlearn: 0.2506331\ttotal: 83.3ms\tremaining: 1.65s\n",
      "48:\tlearn: 0.2444729\ttotal: 84ms\tremaining: 1.63s\n",
      "49:\tlearn: 0.2373209\ttotal: 84.6ms\tremaining: 1.61s\n",
      "50:\tlearn: 0.2306973\ttotal: 85.1ms\tremaining: 1.58s\n",
      "51:\tlearn: 0.2250236\ttotal: 85.5ms\tremaining: 1.56s\n",
      "52:\tlearn: 0.2192066\ttotal: 86ms\tremaining: 1.54s\n",
      "53:\tlearn: 0.2134654\ttotal: 86.4ms\tremaining: 1.51s\n",
      "54:\tlearn: 0.2083748\ttotal: 86.9ms\tremaining: 1.49s\n",
      "55:\tlearn: 0.2036953\ttotal: 87.5ms\tremaining: 1.47s\n",
      "56:\tlearn: 0.1982340\ttotal: 87.9ms\tremaining: 1.45s\n",
      "57:\tlearn: 0.1935501\ttotal: 88.4ms\tremaining: 1.44s\n",
      "58:\tlearn: 0.1894544\ttotal: 88.8ms\tremaining: 1.42s\n",
      "59:\tlearn: 0.1851431\ttotal: 89.4ms\tremaining: 1.4s\n",
      "60:\tlearn: 0.1806677\ttotal: 90.1ms\tremaining: 1.39s\n",
      "61:\tlearn: 0.1763893\ttotal: 90.6ms\tremaining: 1.37s\n",
      "62:\tlearn: 0.1735434\ttotal: 90.8ms\tremaining: 1.35s\n",
      "63:\tlearn: 0.1700532\ttotal: 91.1ms\tremaining: 1.33s\n",
      "64:\tlearn: 0.1659192\ttotal: 91.7ms\tremaining: 1.32s\n",
      "65:\tlearn: 0.1626091\ttotal: 92.1ms\tremaining: 1.3s\n",
      "66:\tlearn: 0.1588549\ttotal: 92.8ms\tremaining: 1.29s\n",
      "67:\tlearn: 0.1551476\ttotal: 93.4ms\tremaining: 1.28s\n",
      "68:\tlearn: 0.1515871\ttotal: 93.9ms\tremaining: 1.27s\n",
      "69:\tlearn: 0.1477211\ttotal: 94.3ms\tremaining: 1.25s\n",
      "70:\tlearn: 0.1440344\ttotal: 94.8ms\tremaining: 1.24s\n",
      "71:\tlearn: 0.1414700\ttotal: 95.3ms\tremaining: 1.23s\n",
      "72:\tlearn: 0.1391954\ttotal: 95.8ms\tremaining: 1.22s\n",
      "73:\tlearn: 0.1357832\ttotal: 96.3ms\tremaining: 1.21s\n",
      "74:\tlearn: 0.1335269\ttotal: 97ms\tremaining: 1.2s\n",
      "75:\tlearn: 0.1307445\ttotal: 97.5ms\tremaining: 1.19s\n",
      "76:\tlearn: 0.1275403\ttotal: 98ms\tremaining: 1.17s\n",
      "77:\tlearn: 0.1248533\ttotal: 98.7ms\tremaining: 1.17s\n",
      "78:\tlearn: 0.1232061\ttotal: 99.3ms\tremaining: 1.16s\n",
      "79:\tlearn: 0.1207064\ttotal: 100ms\tremaining: 1.15s\n",
      "80:\tlearn: 0.1187492\ttotal: 101ms\tremaining: 1.14s\n",
      "81:\tlearn: 0.1164687\ttotal: 101ms\tremaining: 1.14s\n",
      "82:\tlearn: 0.1139896\ttotal: 102ms\tremaining: 1.13s\n",
      "83:\tlearn: 0.1115501\ttotal: 103ms\tremaining: 1.13s\n",
      "84:\tlearn: 0.1099587\ttotal: 104ms\tremaining: 1.12s\n",
      "85:\tlearn: 0.1078084\ttotal: 105ms\tremaining: 1.12s\n",
      "86:\tlearn: 0.1063945\ttotal: 106ms\tremaining: 1.11s\n",
      "87:\tlearn: 0.1051739\ttotal: 107ms\tremaining: 1.1s\n",
      "88:\tlearn: 0.1034542\ttotal: 108ms\tremaining: 1.1s\n",
      "89:\tlearn: 0.1012910\ttotal: 109ms\tremaining: 1.1s\n",
      "90:\tlearn: 0.1001928\ttotal: 109ms\tremaining: 1.09s\n",
      "91:\tlearn: 0.0983312\ttotal: 110ms\tremaining: 1.09s\n",
      "92:\tlearn: 0.0965072\ttotal: 111ms\tremaining: 1.08s\n",
      "93:\tlearn: 0.0949468\ttotal: 111ms\tremaining: 1.07s\n",
      "94:\tlearn: 0.0930598\ttotal: 113ms\tremaining: 1.08s\n",
      "95:\tlearn: 0.0922779\ttotal: 114ms\tremaining: 1.07s\n",
      "96:\tlearn: 0.0909784\ttotal: 115ms\tremaining: 1.06s\n",
      "97:\tlearn: 0.0891814\ttotal: 115ms\tremaining: 1.06s\n",
      "98:\tlearn: 0.0877983\ttotal: 116ms\tremaining: 1.05s\n",
      "99:\tlearn: 0.0872684\ttotal: 116ms\tremaining: 1.04s\n",
      "100:\tlearn: 0.0865064\ttotal: 117ms\tremaining: 1.04s\n",
      "101:\tlearn: 0.0849302\ttotal: 117ms\tremaining: 1.03s\n",
      "102:\tlearn: 0.0835149\ttotal: 118ms\tremaining: 1.03s\n",
      "103:\tlearn: 0.0826805\ttotal: 118ms\tremaining: 1.02s\n",
      "104:\tlearn: 0.0816073\ttotal: 119ms\tremaining: 1.01s\n",
      "105:\tlearn: 0.0805718\ttotal: 120ms\tremaining: 1.01s\n",
      "106:\tlearn: 0.0795496\ttotal: 120ms\tremaining: 1s\n",
      "107:\tlearn: 0.0780818\ttotal: 121ms\tremaining: 997ms\n",
      "108:\tlearn: 0.0773612\ttotal: 121ms\tremaining: 992ms\n",
      "109:\tlearn: 0.0764188\ttotal: 122ms\tremaining: 986ms\n",
      "110:\tlearn: 0.0751975\ttotal: 122ms\tremaining: 981ms\n",
      "111:\tlearn: 0.0739238\ttotal: 123ms\tremaining: 976ms\n",
      "112:\tlearn: 0.0732956\ttotal: 124ms\tremaining: 970ms\n",
      "113:\tlearn: 0.0722545\ttotal: 124ms\tremaining: 966ms\n",
      "114:\tlearn: 0.0712466\ttotal: 125ms\tremaining: 961ms\n",
      "115:\tlearn: 0.0705190\ttotal: 125ms\tremaining: 956ms\n",
      "116:\tlearn: 0.0694839\ttotal: 126ms\tremaining: 951ms\n",
      "117:\tlearn: 0.0685259\ttotal: 127ms\tremaining: 946ms\n",
      "118:\tlearn: 0.0676636\ttotal: 127ms\tremaining: 941ms\n",
      "119:\tlearn: 0.0674181\ttotal: 128ms\tremaining: 935ms\n",
      "120:\tlearn: 0.0666265\ttotal: 128ms\tremaining: 930ms\n",
      "121:\tlearn: 0.0660635\ttotal: 129ms\tremaining: 925ms\n",
      "122:\tlearn: 0.0653235\ttotal: 129ms\tremaining: 920ms\n",
      "123:\tlearn: 0.0644933\ttotal: 130ms\tremaining: 915ms\n",
      "124:\tlearn: 0.0637492\ttotal: 130ms\tremaining: 911ms\n",
      "125:\tlearn: 0.0630512\ttotal: 131ms\tremaining: 906ms\n",
      "126:\tlearn: 0.0624934\ttotal: 131ms\tremaining: 901ms\n",
      "127:\tlearn: 0.0617419\ttotal: 132ms\tremaining: 897ms\n",
      "128:\tlearn: 0.0612029\ttotal: 132ms\tremaining: 893ms\n",
      "129:\tlearn: 0.0605245\ttotal: 133ms\tremaining: 887ms\n",
      "130:\tlearn: 0.0598851\ttotal: 133ms\tremaining: 881ms\n",
      "131:\tlearn: 0.0593711\ttotal: 134ms\tremaining: 879ms\n",
      "132:\tlearn: 0.0589746\ttotal: 134ms\tremaining: 876ms\n",
      "133:\tlearn: 0.0585283\ttotal: 135ms\tremaining: 871ms\n",
      "134:\tlearn: 0.0581825\ttotal: 135ms\tremaining: 868ms\n",
      "135:\tlearn: 0.0577467\ttotal: 136ms\tremaining: 865ms\n",
      "136:\tlearn: 0.0573692\ttotal: 137ms\tremaining: 863ms\n",
      "137:\tlearn: 0.0569374\ttotal: 138ms\tremaining: 860ms\n",
      "138:\tlearn: 0.0566536\ttotal: 139ms\tremaining: 860ms\n",
      "139:\tlearn: 0.0561327\ttotal: 140ms\tremaining: 857ms\n",
      "140:\tlearn: 0.0558218\ttotal: 141ms\tremaining: 857ms\n",
      "141:\tlearn: 0.0554401\ttotal: 141ms\tremaining: 855ms\n",
      "142:\tlearn: 0.0549752\ttotal: 142ms\tremaining: 850ms\n",
      "143:\tlearn: 0.0544982\ttotal: 142ms\tremaining: 846ms\n",
      "144:\tlearn: 0.0541960\ttotal: 143ms\tremaining: 844ms\n",
      "145:\tlearn: 0.0538249\ttotal: 144ms\tremaining: 844ms\n",
      "146:\tlearn: 0.0534819\ttotal: 145ms\tremaining: 843ms\n",
      "147:\tlearn: 0.0530593\ttotal: 146ms\tremaining: 841ms\n",
      "148:\tlearn: 0.0527809\ttotal: 147ms\tremaining: 838ms\n",
      "149:\tlearn: 0.0524011\ttotal: 148ms\tremaining: 836ms\n",
      "150:\tlearn: 0.0521717\ttotal: 148ms\tremaining: 835ms\n",
      "151:\tlearn: 0.0518806\ttotal: 149ms\tremaining: 831ms\n",
      "152:\tlearn: 0.0515976\ttotal: 150ms\tremaining: 828ms\n",
      "153:\tlearn: 0.0512890\ttotal: 151ms\tremaining: 828ms\n",
      "154:\tlearn: 0.0510529\ttotal: 151ms\tremaining: 824ms\n",
      "155:\tlearn: 0.0507280\ttotal: 152ms\tremaining: 822ms\n",
      "156:\tlearn: 0.0505137\ttotal: 153ms\tremaining: 821ms\n",
      "157:\tlearn: 0.0503194\ttotal: 153ms\tremaining: 818ms\n",
      "158:\tlearn: 0.0501362\ttotal: 154ms\tremaining: 814ms\n",
      "159:\tlearn: 0.0499762\ttotal: 155ms\tremaining: 811ms\n",
      "160:\tlearn: 0.0498232\ttotal: 155ms\tremaining: 808ms\n",
      "161:\tlearn: 0.0496063\ttotal: 156ms\tremaining: 805ms\n",
      "162:\tlearn: 0.0494122\ttotal: 156ms\tremaining: 802ms\n"
     ]
    },
    {
     "name": "stdout",
     "output_type": "stream",
     "text": [
      "163:\tlearn: 0.0491735\ttotal: 158ms\tremaining: 803ms\n",
      "164:\tlearn: 0.0489576\ttotal: 158ms\tremaining: 801ms\n",
      "165:\tlearn: 0.0488353\ttotal: 159ms\tremaining: 800ms\n",
      "166:\tlearn: 0.0486794\ttotal: 160ms\tremaining: 797ms\n",
      "167:\tlearn: 0.0484637\ttotal: 160ms\tremaining: 795ms\n",
      "168:\tlearn: 0.0482377\ttotal: 161ms\tremaining: 791ms\n",
      "169:\tlearn: 0.0480606\ttotal: 161ms\tremaining: 788ms\n",
      "170:\tlearn: 0.0479155\ttotal: 162ms\tremaining: 785ms\n",
      "171:\tlearn: 0.0477116\ttotal: 163ms\tremaining: 783ms\n",
      "172:\tlearn: 0.0475495\ttotal: 163ms\tremaining: 780ms\n",
      "173:\tlearn: 0.0473767\ttotal: 164ms\tremaining: 777ms\n",
      "174:\tlearn: 0.0471896\ttotal: 164ms\tremaining: 774ms\n",
      "175:\tlearn: 0.0470229\ttotal: 165ms\tremaining: 771ms\n",
      "176:\tlearn: 0.0467772\ttotal: 165ms\tremaining: 768ms\n",
      "177:\tlearn: 0.0466228\ttotal: 166ms\tremaining: 765ms\n",
      "178:\tlearn: 0.0464586\ttotal: 166ms\tremaining: 762ms\n",
      "179:\tlearn: 0.0462299\ttotal: 167ms\tremaining: 759ms\n",
      "180:\tlearn: 0.0461049\ttotal: 167ms\tremaining: 756ms\n",
      "181:\tlearn: 0.0459550\ttotal: 168ms\tremaining: 753ms\n",
      "182:\tlearn: 0.0458211\ttotal: 168ms\tremaining: 751ms\n",
      "183:\tlearn: 0.0456154\ttotal: 169ms\tremaining: 748ms\n",
      "184:\tlearn: 0.0454640\ttotal: 169ms\tremaining: 746ms\n",
      "185:\tlearn: 0.0453197\ttotal: 170ms\tremaining: 743ms\n",
      "186:\tlearn: 0.0451925\ttotal: 170ms\tremaining: 741ms\n",
      "187:\tlearn: 0.0450499\ttotal: 171ms\tremaining: 738ms\n",
      "188:\tlearn: 0.0449313\ttotal: 172ms\tremaining: 736ms\n",
      "189:\tlearn: 0.0447885\ttotal: 172ms\tremaining: 734ms\n",
      "190:\tlearn: 0.0446737\ttotal: 173ms\tremaining: 732ms\n",
      "191:\tlearn: 0.0445767\ttotal: 173ms\tremaining: 730ms\n",
      "192:\tlearn: 0.0444740\ttotal: 174ms\tremaining: 728ms\n",
      "193:\tlearn: 0.0443598\ttotal: 175ms\tremaining: 726ms\n",
      "194:\tlearn: 0.0442528\ttotal: 175ms\tremaining: 724ms\n",
      "195:\tlearn: 0.0440848\ttotal: 176ms\tremaining: 722ms\n",
      "196:\tlearn: 0.0439201\ttotal: 177ms\tremaining: 721ms\n",
      "197:\tlearn: 0.0438362\ttotal: 178ms\tremaining: 721ms\n",
      "198:\tlearn: 0.0437419\ttotal: 179ms\tremaining: 720ms\n",
      "199:\tlearn: 0.0435453\ttotal: 180ms\tremaining: 718ms\n",
      "200:\tlearn: 0.0434599\ttotal: 180ms\tremaining: 715ms\n",
      "201:\tlearn: 0.0433631\ttotal: 180ms\tremaining: 711ms\n",
      "202:\tlearn: 0.0430937\ttotal: 180ms\tremaining: 708ms\n",
      "203:\tlearn: 0.0428381\ttotal: 182ms\tremaining: 711ms\n",
      "204:\tlearn: 0.0426980\ttotal: 183ms\tremaining: 709ms\n",
      "205:\tlearn: 0.0426027\ttotal: 184ms\tremaining: 708ms\n",
      "206:\tlearn: 0.0425185\ttotal: 185ms\tremaining: 707ms\n",
      "207:\tlearn: 0.0424450\ttotal: 185ms\tremaining: 704ms\n",
      "208:\tlearn: 0.0423675\ttotal: 186ms\tremaining: 703ms\n",
      "209:\tlearn: 0.0421919\ttotal: 187ms\tremaining: 702ms\n",
      "210:\tlearn: 0.0420984\ttotal: 188ms\tremaining: 701ms\n",
      "211:\tlearn: 0.0420049\ttotal: 188ms\tremaining: 700ms\n",
      "212:\tlearn: 0.0419124\ttotal: 189ms\tremaining: 698ms\n",
      "213:\tlearn: 0.0417998\ttotal: 190ms\tremaining: 698ms\n",
      "214:\tlearn: 0.0417233\ttotal: 191ms\tremaining: 697ms\n",
      "215:\tlearn: 0.0416076\ttotal: 191ms\tremaining: 695ms\n",
      "216:\tlearn: 0.0415104\ttotal: 192ms\tremaining: 693ms\n",
      "217:\tlearn: 0.0414540\ttotal: 193ms\tremaining: 691ms\n",
      "218:\tlearn: 0.0413850\ttotal: 193ms\tremaining: 689ms\n",
      "219:\tlearn: 0.0412166\ttotal: 194ms\tremaining: 687ms\n",
      "220:\tlearn: 0.0411550\ttotal: 194ms\tremaining: 684ms\n",
      "221:\tlearn: 0.0410545\ttotal: 195ms\tremaining: 682ms\n",
      "222:\tlearn: 0.0409548\ttotal: 195ms\tremaining: 680ms\n",
      "223:\tlearn: 0.0408991\ttotal: 196ms\tremaining: 678ms\n",
      "224:\tlearn: 0.0408317\ttotal: 196ms\tremaining: 676ms\n",
      "225:\tlearn: 0.0406393\ttotal: 197ms\tremaining: 674ms\n",
      "226:\tlearn: 0.0404586\ttotal: 197ms\tremaining: 672ms\n",
      "227:\tlearn: 0.0403530\ttotal: 198ms\tremaining: 671ms\n",
      "228:\tlearn: 0.0402914\ttotal: 199ms\tremaining: 669ms\n",
      "229:\tlearn: 0.0401869\ttotal: 199ms\tremaining: 667ms\n"
     ]
    },
    {
     "name": "stdout",
     "output_type": "stream",
     "text": [
      "230:\tlearn: 0.0401294\ttotal: 200ms\tremaining: 667ms\n",
      "231:\tlearn: 0.0399668\ttotal: 202ms\tremaining: 667ms\n",
      "232:\tlearn: 0.0397219\ttotal: 202ms\tremaining: 666ms\n",
      "233:\tlearn: 0.0396131\ttotal: 202ms\tremaining: 663ms\n",
      "234:\tlearn: 0.0395327\ttotal: 203ms\tremaining: 660ms\n",
      "235:\tlearn: 0.0393445\ttotal: 203ms\tremaining: 657ms\n",
      "236:\tlearn: 0.0392685\ttotal: 203ms\tremaining: 654ms\n",
      "237:\tlearn: 0.0392133\ttotal: 204ms\tremaining: 652ms\n",
      "238:\tlearn: 0.0390727\ttotal: 204ms\tremaining: 649ms\n",
      "239:\tlearn: 0.0390018\ttotal: 205ms\tremaining: 649ms\n",
      "240:\tlearn: 0.0387621\ttotal: 206ms\tremaining: 648ms\n",
      "241:\tlearn: 0.0386126\ttotal: 206ms\tremaining: 645ms\n",
      "242:\tlearn: 0.0385053\ttotal: 206ms\tremaining: 643ms\n",
      "243:\tlearn: 0.0383204\ttotal: 207ms\tremaining: 641ms\n",
      "244:\tlearn: 0.0382326\ttotal: 207ms\tremaining: 639ms\n",
      "245:\tlearn: 0.0379747\ttotal: 208ms\tremaining: 638ms\n",
      "246:\tlearn: 0.0379255\ttotal: 209ms\tremaining: 636ms\n",
      "247:\tlearn: 0.0378607\ttotal: 209ms\tremaining: 634ms\n",
      "248:\tlearn: 0.0377266\ttotal: 210ms\tremaining: 632ms\n",
      "249:\tlearn: 0.0375952\ttotal: 210ms\tremaining: 629ms\n",
      "250:\tlearn: 0.0375065\ttotal: 211ms\tremaining: 629ms\n",
      "251:\tlearn: 0.0374593\ttotal: 212ms\tremaining: 628ms\n",
      "252:\tlearn: 0.0373639\ttotal: 212ms\tremaining: 627ms\n",
      "253:\tlearn: 0.0371606\ttotal: 213ms\tremaining: 625ms\n",
      "254:\tlearn: 0.0371195\ttotal: 213ms\tremaining: 623ms\n",
      "255:\tlearn: 0.0370599\ttotal: 214ms\tremaining: 622ms\n",
      "256:\tlearn: 0.0369098\ttotal: 215ms\tremaining: 622ms\n",
      "257:\tlearn: 0.0368505\ttotal: 216ms\tremaining: 620ms\n",
      "258:\tlearn: 0.0367284\ttotal: 217ms\tremaining: 620ms\n",
      "259:\tlearn: 0.0366690\ttotal: 217ms\tremaining: 619ms\n",
      "260:\tlearn: 0.0364901\ttotal: 218ms\tremaining: 618ms\n",
      "261:\tlearn: 0.0364507\ttotal: 219ms\tremaining: 616ms\n",
      "262:\tlearn: 0.0364134\ttotal: 219ms\tremaining: 614ms\n",
      "263:\tlearn: 0.0362694\ttotal: 221ms\tremaining: 615ms\n",
      "264:\tlearn: 0.0361462\ttotal: 221ms\tremaining: 614ms\n",
      "265:\tlearn: 0.0360373\ttotal: 222ms\tremaining: 613ms\n",
      "266:\tlearn: 0.0359228\ttotal: 223ms\tremaining: 612ms\n",
      "267:\tlearn: 0.0358533\ttotal: 224ms\tremaining: 611ms\n",
      "268:\tlearn: 0.0357916\ttotal: 225ms\tremaining: 611ms\n",
      "269:\tlearn: 0.0357572\ttotal: 226ms\tremaining: 610ms\n",
      "270:\tlearn: 0.0356860\ttotal: 226ms\tremaining: 609ms\n",
      "271:\tlearn: 0.0355184\ttotal: 227ms\tremaining: 607ms\n",
      "272:\tlearn: 0.0354689\ttotal: 227ms\tremaining: 605ms\n",
      "273:\tlearn: 0.0353105\ttotal: 228ms\tremaining: 605ms\n",
      "274:\tlearn: 0.0352092\ttotal: 229ms\tremaining: 604ms\n",
      "275:\tlearn: 0.0351415\ttotal: 230ms\tremaining: 603ms\n",
      "276:\tlearn: 0.0350803\ttotal: 230ms\tremaining: 602ms\n",
      "277:\tlearn: 0.0349845\ttotal: 231ms\tremaining: 600ms\n",
      "278:\tlearn: 0.0348882\ttotal: 232ms\tremaining: 599ms\n",
      "279:\tlearn: 0.0348407\ttotal: 232ms\tremaining: 596ms\n",
      "280:\tlearn: 0.0347515\ttotal: 232ms\tremaining: 595ms\n",
      "281:\tlearn: 0.0346422\ttotal: 233ms\tremaining: 593ms\n",
      "282:\tlearn: 0.0345143\ttotal: 233ms\tremaining: 591ms\n",
      "283:\tlearn: 0.0344689\ttotal: 234ms\tremaining: 589ms\n",
      "284:\tlearn: 0.0343663\ttotal: 234ms\tremaining: 587ms\n",
      "285:\tlearn: 0.0343332\ttotal: 234ms\tremaining: 585ms\n",
      "286:\tlearn: 0.0342829\ttotal: 235ms\tremaining: 583ms\n",
      "287:\tlearn: 0.0341721\ttotal: 235ms\tremaining: 581ms\n",
      "288:\tlearn: 0.0340408\ttotal: 235ms\tremaining: 579ms\n",
      "289:\tlearn: 0.0339930\ttotal: 236ms\tremaining: 577ms\n",
      "290:\tlearn: 0.0338377\ttotal: 237ms\tremaining: 577ms\n",
      "291:\tlearn: 0.0337851\ttotal: 237ms\tremaining: 575ms\n",
      "292:\tlearn: 0.0336232\ttotal: 238ms\tremaining: 573ms\n",
      "293:\tlearn: 0.0334710\ttotal: 238ms\tremaining: 572ms\n",
      "294:\tlearn: 0.0334256\ttotal: 239ms\tremaining: 570ms\n",
      "295:\tlearn: 0.0333224\ttotal: 239ms\tremaining: 569ms\n",
      "296:\tlearn: 0.0332758\ttotal: 240ms\tremaining: 567ms\n",
      "297:\tlearn: 0.0332080\ttotal: 240ms\tremaining: 566ms\n",
      "298:\tlearn: 0.0331092\ttotal: 241ms\tremaining: 564ms\n",
      "299:\tlearn: 0.0329708\ttotal: 241ms\tremaining: 563ms\n",
      "300:\tlearn: 0.0328408\ttotal: 242ms\tremaining: 561ms\n",
      "301:\tlearn: 0.0327333\ttotal: 242ms\tremaining: 560ms\n",
      "302:\tlearn: 0.0326474\ttotal: 243ms\tremaining: 558ms\n",
      "303:\tlearn: 0.0325787\ttotal: 243ms\tremaining: 557ms\n",
      "304:\tlearn: 0.0325133\ttotal: 244ms\tremaining: 555ms\n",
      "305:\tlearn: 0.0324486\ttotal: 244ms\tremaining: 554ms\n",
      "306:\tlearn: 0.0323658\ttotal: 245ms\tremaining: 552ms\n",
      "307:\tlearn: 0.0323259\ttotal: 245ms\tremaining: 551ms\n",
      "308:\tlearn: 0.0322222\ttotal: 246ms\tremaining: 549ms\n",
      "309:\tlearn: 0.0321929\ttotal: 246ms\tremaining: 548ms\n",
      "310:\tlearn: 0.0321615\ttotal: 247ms\tremaining: 546ms\n",
      "311:\tlearn: 0.0321010\ttotal: 247ms\tremaining: 545ms\n",
      "312:\tlearn: 0.0319809\ttotal: 248ms\tremaining: 543ms\n",
      "313:\tlearn: 0.0318907\ttotal: 248ms\tremaining: 542ms\n",
      "314:\tlearn: 0.0317972\ttotal: 249ms\tremaining: 541ms\n",
      "315:\tlearn: 0.0316998\ttotal: 250ms\tremaining: 540ms\n",
      "316:\tlearn: 0.0316351\ttotal: 250ms\tremaining: 539ms\n",
      "317:\tlearn: 0.0315717\ttotal: 251ms\tremaining: 538ms\n",
      "318:\tlearn: 0.0315113\ttotal: 252ms\tremaining: 538ms\n",
      "319:\tlearn: 0.0314547\ttotal: 253ms\tremaining: 537ms\n",
      "320:\tlearn: 0.0314319\ttotal: 254ms\tremaining: 537ms\n",
      "321:\tlearn: 0.0313744\ttotal: 255ms\tremaining: 536ms\n",
      "322:\tlearn: 0.0313529\ttotal: 255ms\tremaining: 535ms\n",
      "323:\tlearn: 0.0313297\ttotal: 256ms\tremaining: 534ms\n",
      "324:\tlearn: 0.0312390\ttotal: 257ms\tremaining: 534ms\n",
      "325:\tlearn: 0.0312043\ttotal: 258ms\tremaining: 533ms\n",
      "326:\tlearn: 0.0311104\ttotal: 258ms\tremaining: 532ms\n",
      "327:\tlearn: 0.0310725\ttotal: 264ms\tremaining: 540ms\n",
      "328:\tlearn: 0.0309711\ttotal: 265ms\tremaining: 540ms\n",
      "329:\tlearn: 0.0308928\ttotal: 265ms\tremaining: 538ms\n",
      "330:\tlearn: 0.0308079\ttotal: 266ms\tremaining: 537ms\n",
      "331:\tlearn: 0.0307872\ttotal: 267ms\tremaining: 538ms\n",
      "332:\tlearn: 0.0307070\ttotal: 269ms\tremaining: 538ms\n",
      "333:\tlearn: 0.0306245\ttotal: 270ms\tremaining: 538ms\n",
      "334:\tlearn: 0.0305403\ttotal: 271ms\tremaining: 537ms\n",
      "335:\tlearn: 0.0304908\ttotal: 272ms\tremaining: 537ms\n",
      "336:\tlearn: 0.0304603\ttotal: 273ms\tremaining: 537ms\n",
      "337:\tlearn: 0.0304108\ttotal: 274ms\tremaining: 536ms\n",
      "338:\tlearn: 0.0303209\ttotal: 274ms\tremaining: 534ms\n",
      "339:\tlearn: 0.0302479\ttotal: 275ms\tremaining: 533ms\n",
      "340:\tlearn: 0.0302166\ttotal: 275ms\tremaining: 531ms\n",
      "341:\tlearn: 0.0301485\ttotal: 275ms\tremaining: 530ms\n",
      "342:\tlearn: 0.0300893\ttotal: 276ms\tremaining: 529ms\n",
      "343:\tlearn: 0.0300395\ttotal: 277ms\tremaining: 529ms\n",
      "344:\tlearn: 0.0299163\ttotal: 278ms\tremaining: 528ms\n",
      "345:\tlearn: 0.0298990\ttotal: 278ms\tremaining: 526ms\n",
      "346:\tlearn: 0.0298825\ttotal: 279ms\tremaining: 525ms\n",
      "347:\tlearn: 0.0297521\ttotal: 279ms\tremaining: 523ms\n",
      "348:\tlearn: 0.0297161\ttotal: 280ms\tremaining: 522ms\n",
      "349:\tlearn: 0.0296862\ttotal: 280ms\tremaining: 521ms\n",
      "350:\tlearn: 0.0296380\ttotal: 281ms\tremaining: 520ms\n",
      "351:\tlearn: 0.0295682\ttotal: 281ms\tremaining: 518ms\n",
      "352:\tlearn: 0.0295288\ttotal: 282ms\tremaining: 516ms\n",
      "353:\tlearn: 0.0295100\ttotal: 282ms\tremaining: 515ms\n",
      "354:\tlearn: 0.0294332\ttotal: 283ms\tremaining: 514ms\n",
      "355:\tlearn: 0.0293494\ttotal: 283ms\tremaining: 512ms\n",
      "356:\tlearn: 0.0292768\ttotal: 284ms\tremaining: 511ms\n",
      "357:\tlearn: 0.0292461\ttotal: 284ms\tremaining: 510ms\n",
      "358:\tlearn: 0.0291921\ttotal: 285ms\tremaining: 509ms\n",
      "359:\tlearn: 0.0291368\ttotal: 285ms\tremaining: 507ms\n",
      "360:\tlearn: 0.0290834\ttotal: 286ms\tremaining: 506ms\n",
      "361:\tlearn: 0.0289770\ttotal: 286ms\tremaining: 505ms\n",
      "362:\tlearn: 0.0289212\ttotal: 287ms\tremaining: 504ms\n",
      "363:\tlearn: 0.0288737\ttotal: 287ms\tremaining: 502ms\n",
      "364:\tlearn: 0.0288058\ttotal: 288ms\tremaining: 501ms\n",
      "365:\tlearn: 0.0287476\ttotal: 288ms\tremaining: 500ms\n",
      "366:\tlearn: 0.0287089\ttotal: 289ms\tremaining: 499ms\n",
      "367:\tlearn: 0.0286489\ttotal: 290ms\tremaining: 498ms\n",
      "368:\tlearn: 0.0286213\ttotal: 291ms\tremaining: 497ms\n",
      "369:\tlearn: 0.0285755\ttotal: 291ms\tremaining: 496ms\n",
      "370:\tlearn: 0.0285515\ttotal: 292ms\tremaining: 495ms\n",
      "371:\tlearn: 0.0285151\ttotal: 293ms\tremaining: 494ms\n",
      "372:\tlearn: 0.0284851\ttotal: 293ms\tremaining: 493ms\n",
      "373:\tlearn: 0.0284318\ttotal: 294ms\tremaining: 491ms\n",
      "374:\tlearn: 0.0283887\ttotal: 294ms\tremaining: 490ms\n",
      "375:\tlearn: 0.0282876\ttotal: 294ms\tremaining: 489ms\n",
      "376:\tlearn: 0.0282547\ttotal: 295ms\tremaining: 488ms\n",
      "377:\tlearn: 0.0282384\ttotal: 296ms\tremaining: 487ms\n",
      "378:\tlearn: 0.0282122\ttotal: 297ms\tremaining: 486ms\n",
      "379:\tlearn: 0.0281671\ttotal: 297ms\tremaining: 485ms\n",
      "380:\tlearn: 0.0281309\ttotal: 299ms\tremaining: 485ms\n",
      "381:\tlearn: 0.0280858\ttotal: 300ms\tremaining: 485ms\n",
      "382:\tlearn: 0.0280370\ttotal: 300ms\tremaining: 484ms\n",
      "383:\tlearn: 0.0279419\ttotal: 301ms\tremaining: 483ms\n",
      "384:\tlearn: 0.0278867\ttotal: 301ms\tremaining: 481ms\n",
      "385:\tlearn: 0.0278133\ttotal: 302ms\tremaining: 480ms\n",
      "386:\tlearn: 0.0277483\ttotal: 303ms\tremaining: 479ms\n",
      "387:\tlearn: 0.0276764\ttotal: 303ms\tremaining: 478ms\n",
      "388:\tlearn: 0.0276399\ttotal: 304ms\tremaining: 477ms\n",
      "389:\tlearn: 0.0276127\ttotal: 305ms\tremaining: 477ms\n",
      "390:\tlearn: 0.0275233\ttotal: 306ms\tremaining: 476ms\n",
      "391:\tlearn: 0.0274735\ttotal: 307ms\tremaining: 476ms\n",
      "392:\tlearn: 0.0274464\ttotal: 308ms\tremaining: 475ms\n",
      "393:\tlearn: 0.0274006\ttotal: 308ms\tremaining: 474ms\n",
      "394:\tlearn: 0.0273662\ttotal: 309ms\tremaining: 473ms\n",
      "395:\tlearn: 0.0273149\ttotal: 309ms\tremaining: 471ms\n",
      "396:\tlearn: 0.0272306\ttotal: 310ms\tremaining: 471ms\n",
      "397:\tlearn: 0.0272057\ttotal: 311ms\tremaining: 470ms\n",
      "398:\tlearn: 0.0271536\ttotal: 311ms\tremaining: 468ms\n",
      "399:\tlearn: 0.0271266\ttotal: 312ms\tremaining: 467ms\n",
      "400:\tlearn: 0.0270897\ttotal: 312ms\tremaining: 466ms\n",
      "401:\tlearn: 0.0270522\ttotal: 312ms\tremaining: 465ms\n",
      "402:\tlearn: 0.0270099\ttotal: 313ms\tremaining: 464ms\n"
     ]
    },
    {
     "name": "stdout",
     "output_type": "stream",
     "text": [
      "403:\tlearn: 0.0269906\ttotal: 313ms\tremaining: 462ms\n",
      "404:\tlearn: 0.0269301\ttotal: 314ms\tremaining: 462ms\n",
      "405:\tlearn: 0.0268897\ttotal: 315ms\tremaining: 461ms\n",
      "406:\tlearn: 0.0268636\ttotal: 316ms\tremaining: 460ms\n",
      "407:\tlearn: 0.0268383\ttotal: 316ms\tremaining: 459ms\n",
      "408:\tlearn: 0.0268060\ttotal: 317ms\tremaining: 458ms\n",
      "409:\tlearn: 0.0267644\ttotal: 317ms\tremaining: 456ms\n",
      "410:\tlearn: 0.0267179\ttotal: 318ms\tremaining: 455ms\n",
      "411:\tlearn: 0.0266946\ttotal: 318ms\tremaining: 454ms\n",
      "412:\tlearn: 0.0266571\ttotal: 319ms\tremaining: 453ms\n",
      "413:\tlearn: 0.0265790\ttotal: 319ms\tremaining: 452ms\n",
      "414:\tlearn: 0.0265427\ttotal: 320ms\tremaining: 450ms\n",
      "415:\tlearn: 0.0265198\ttotal: 320ms\tremaining: 449ms\n",
      "416:\tlearn: 0.0264536\ttotal: 321ms\tremaining: 448ms\n",
      "417:\tlearn: 0.0264006\ttotal: 321ms\tremaining: 447ms\n",
      "418:\tlearn: 0.0263323\ttotal: 322ms\tremaining: 446ms\n",
      "419:\tlearn: 0.0262884\ttotal: 322ms\tremaining: 445ms\n",
      "420:\tlearn: 0.0262511\ttotal: 323ms\tremaining: 444ms\n",
      "421:\tlearn: 0.0261830\ttotal: 323ms\tremaining: 443ms\n",
      "422:\tlearn: 0.0261101\ttotal: 324ms\tremaining: 442ms\n",
      "423:\tlearn: 0.0260408\ttotal: 324ms\tremaining: 440ms\n",
      "424:\tlearn: 0.0259749\ttotal: 325ms\tremaining: 439ms\n",
      "425:\tlearn: 0.0259124\ttotal: 325ms\tremaining: 438ms\n",
      "426:\tlearn: 0.0258778\ttotal: 325ms\tremaining: 437ms\n",
      "427:\tlearn: 0.0258547\ttotal: 326ms\tremaining: 435ms\n",
      "428:\tlearn: 0.0258197\ttotal: 327ms\tremaining: 435ms\n",
      "429:\tlearn: 0.0257712\ttotal: 328ms\tremaining: 435ms\n",
      "430:\tlearn: 0.0257180\ttotal: 328ms\tremaining: 434ms\n",
      "431:\tlearn: 0.0256598\ttotal: 330ms\tremaining: 433ms\n",
      "432:\tlearn: 0.0256258\ttotal: 330ms\tremaining: 432ms\n",
      "433:\tlearn: 0.0255844\ttotal: 331ms\tremaining: 432ms\n",
      "434:\tlearn: 0.0255517\ttotal: 332ms\tremaining: 431ms\n",
      "435:\tlearn: 0.0254890\ttotal: 333ms\tremaining: 431ms\n",
      "436:\tlearn: 0.0254350\ttotal: 334ms\tremaining: 430ms\n",
      "437:\tlearn: 0.0254057\ttotal: 334ms\tremaining: 429ms\n",
      "438:\tlearn: 0.0253674\ttotal: 335ms\tremaining: 428ms\n",
      "439:\tlearn: 0.0253099\ttotal: 336ms\tremaining: 427ms\n",
      "440:\tlearn: 0.0252745\ttotal: 337ms\tremaining: 427ms\n",
      "441:\tlearn: 0.0252442\ttotal: 338ms\tremaining: 426ms\n",
      "442:\tlearn: 0.0251995\ttotal: 338ms\tremaining: 425ms\n",
      "443:\tlearn: 0.0251672\ttotal: 339ms\tremaining: 425ms\n",
      "444:\tlearn: 0.0251350\ttotal: 340ms\tremaining: 423ms\n",
      "445:\tlearn: 0.0250871\ttotal: 340ms\tremaining: 422ms\n",
      "446:\tlearn: 0.0250416\ttotal: 341ms\tremaining: 421ms\n",
      "447:\tlearn: 0.0249821\ttotal: 341ms\tremaining: 420ms\n",
      "448:\tlearn: 0.0249322\ttotal: 341ms\tremaining: 419ms\n",
      "449:\tlearn: 0.0248609\ttotal: 341ms\tremaining: 417ms\n",
      "450:\tlearn: 0.0247933\ttotal: 342ms\tremaining: 416ms\n",
      "451:\tlearn: 0.0247395\ttotal: 342ms\tremaining: 415ms\n",
      "452:\tlearn: 0.0247096\ttotal: 342ms\tremaining: 413ms\n",
      "453:\tlearn: 0.0246828\ttotal: 343ms\tremaining: 412ms\n",
      "454:\tlearn: 0.0246479\ttotal: 345ms\tremaining: 414ms\n",
      "455:\tlearn: 0.0246126\ttotal: 346ms\tremaining: 413ms\n",
      "456:\tlearn: 0.0245889\ttotal: 346ms\tremaining: 412ms\n",
      "457:\tlearn: 0.0245448\ttotal: 347ms\tremaining: 410ms\n",
      "458:\tlearn: 0.0245218\ttotal: 347ms\tremaining: 409ms\n",
      "459:\tlearn: 0.0244711\ttotal: 348ms\tremaining: 408ms\n",
      "460:\tlearn: 0.0244408\ttotal: 348ms\tremaining: 407ms\n",
      "461:\tlearn: 0.0244004\ttotal: 349ms\tremaining: 406ms\n",
      "462:\tlearn: 0.0243687\ttotal: 349ms\tremaining: 405ms\n",
      "463:\tlearn: 0.0243338\ttotal: 350ms\tremaining: 404ms\n",
      "464:\tlearn: 0.0243061\ttotal: 350ms\tremaining: 403ms\n",
      "465:\tlearn: 0.0242638\ttotal: 351ms\tremaining: 402ms\n",
      "466:\tlearn: 0.0242315\ttotal: 352ms\tremaining: 401ms\n",
      "467:\tlearn: 0.0242082\ttotal: 352ms\tremaining: 400ms\n",
      "468:\tlearn: 0.0241739\ttotal: 352ms\tremaining: 399ms\n",
      "469:\tlearn: 0.0241384\ttotal: 353ms\tremaining: 398ms\n",
      "470:\tlearn: 0.0240986\ttotal: 353ms\tremaining: 396ms\n",
      "471:\tlearn: 0.0240585\ttotal: 353ms\tremaining: 395ms\n",
      "472:\tlearn: 0.0240411\ttotal: 354ms\tremaining: 394ms\n",
      "473:\tlearn: 0.0240182\ttotal: 354ms\tremaining: 393ms\n"
     ]
    },
    {
     "name": "stdout",
     "output_type": "stream",
     "text": [
      "474:\tlearn: 0.0239607\ttotal: 355ms\tremaining: 393ms\n",
      "475:\tlearn: 0.0238992\ttotal: 356ms\tremaining: 392ms\n",
      "476:\tlearn: 0.0238375\ttotal: 357ms\tremaining: 391ms\n",
      "477:\tlearn: 0.0238079\ttotal: 357ms\tremaining: 390ms\n",
      "478:\tlearn: 0.0237681\ttotal: 358ms\tremaining: 389ms\n",
      "479:\tlearn: 0.0237294\ttotal: 359ms\tremaining: 388ms\n",
      "480:\tlearn: 0.0237102\ttotal: 359ms\tremaining: 387ms\n",
      "481:\tlearn: 0.0236893\ttotal: 359ms\tremaining: 386ms\n",
      "482:\tlearn: 0.0236712\ttotal: 360ms\tremaining: 385ms\n",
      "483:\tlearn: 0.0236534\ttotal: 360ms\tremaining: 384ms\n",
      "484:\tlearn: 0.0236212\ttotal: 361ms\tremaining: 383ms\n",
      "485:\tlearn: 0.0235959\ttotal: 361ms\tremaining: 382ms\n",
      "486:\tlearn: 0.0235725\ttotal: 362ms\tremaining: 381ms\n",
      "487:\tlearn: 0.0235354\ttotal: 362ms\tremaining: 380ms\n",
      "488:\tlearn: 0.0235023\ttotal: 363ms\tremaining: 379ms\n",
      "489:\tlearn: 0.0234859\ttotal: 363ms\tremaining: 378ms\n",
      "490:\tlearn: 0.0234659\ttotal: 364ms\tremaining: 377ms\n",
      "491:\tlearn: 0.0234437\ttotal: 364ms\tremaining: 376ms\n",
      "492:\tlearn: 0.0234175\ttotal: 367ms\tremaining: 378ms\n",
      "493:\tlearn: 0.0233603\ttotal: 368ms\tremaining: 377ms\n",
      "494:\tlearn: 0.0233243\ttotal: 369ms\tremaining: 376ms\n",
      "495:\tlearn: 0.0232839\ttotal: 369ms\tremaining: 375ms\n",
      "496:\tlearn: 0.0232488\ttotal: 371ms\tremaining: 375ms\n",
      "497:\tlearn: 0.0232221\ttotal: 371ms\tremaining: 374ms\n",
      "498:\tlearn: 0.0232008\ttotal: 373ms\tremaining: 374ms\n",
      "499:\tlearn: 0.0231685\ttotal: 373ms\tremaining: 373ms\n",
      "500:\tlearn: 0.0231491\ttotal: 375ms\tremaining: 374ms\n",
      "501:\tlearn: 0.0231057\ttotal: 376ms\tremaining: 373ms\n",
      "502:\tlearn: 0.0230692\ttotal: 376ms\tremaining: 372ms\n",
      "503:\tlearn: 0.0230235\ttotal: 380ms\tremaining: 374ms\n",
      "504:\tlearn: 0.0229965\ttotal: 380ms\tremaining: 373ms\n",
      "505:\tlearn: 0.0229752\ttotal: 382ms\tremaining: 373ms\n",
      "506:\tlearn: 0.0229555\ttotal: 383ms\tremaining: 373ms\n",
      "507:\tlearn: 0.0229197\ttotal: 384ms\tremaining: 372ms\n",
      "508:\tlearn: 0.0229050\ttotal: 385ms\tremaining: 371ms\n",
      "509:\tlearn: 0.0228824\ttotal: 386ms\tremaining: 371ms\n",
      "510:\tlearn: 0.0228474\ttotal: 386ms\tremaining: 369ms\n",
      "511:\tlearn: 0.0227933\ttotal: 386ms\tremaining: 368ms\n",
      "512:\tlearn: 0.0227466\ttotal: 387ms\tremaining: 368ms\n",
      "513:\tlearn: 0.0227136\ttotal: 388ms\tremaining: 367ms\n",
      "514:\tlearn: 0.0226873\ttotal: 388ms\tremaining: 365ms\n",
      "515:\tlearn: 0.0226596\ttotal: 388ms\tremaining: 364ms\n",
      "516:\tlearn: 0.0226347\ttotal: 388ms\tremaining: 363ms\n",
      "517:\tlearn: 0.0226047\ttotal: 389ms\tremaining: 362ms\n",
      "518:\tlearn: 0.0225764\ttotal: 389ms\tremaining: 361ms\n",
      "519:\tlearn: 0.0225530\ttotal: 389ms\tremaining: 359ms\n",
      "520:\tlearn: 0.0225018\ttotal: 390ms\tremaining: 359ms\n",
      "521:\tlearn: 0.0224806\ttotal: 391ms\tremaining: 358ms\n",
      "522:\tlearn: 0.0224620\ttotal: 391ms\tremaining: 357ms\n",
      "523:\tlearn: 0.0224356\ttotal: 392ms\tremaining: 356ms\n",
      "524:\tlearn: 0.0223909\ttotal: 392ms\tremaining: 355ms\n",
      "525:\tlearn: 0.0223663\ttotal: 393ms\tremaining: 354ms\n",
      "526:\tlearn: 0.0223126\ttotal: 393ms\tremaining: 353ms\n",
      "527:\tlearn: 0.0222960\ttotal: 394ms\tremaining: 352ms\n",
      "528:\tlearn: 0.0222644\ttotal: 394ms\tremaining: 351ms\n",
      "529:\tlearn: 0.0222286\ttotal: 395ms\tremaining: 350ms\n",
      "530:\tlearn: 0.0221968\ttotal: 395ms\tremaining: 349ms\n",
      "531:\tlearn: 0.0221480\ttotal: 396ms\tremaining: 348ms\n",
      "532:\tlearn: 0.0221306\ttotal: 396ms\tremaining: 347ms\n",
      "533:\tlearn: 0.0220808\ttotal: 397ms\tremaining: 346ms\n",
      "534:\tlearn: 0.0220499\ttotal: 397ms\tremaining: 345ms\n",
      "535:\tlearn: 0.0220073\ttotal: 398ms\tremaining: 344ms\n",
      "536:\tlearn: 0.0219610\ttotal: 398ms\tremaining: 343ms\n",
      "537:\tlearn: 0.0219447\ttotal: 398ms\tremaining: 342ms\n",
      "538:\tlearn: 0.0219135\ttotal: 398ms\tremaining: 341ms\n",
      "539:\tlearn: 0.0218798\ttotal: 399ms\tremaining: 340ms\n",
      "540:\tlearn: 0.0218339\ttotal: 400ms\tremaining: 339ms\n",
      "541:\tlearn: 0.0217988\ttotal: 400ms\tremaining: 338ms\n",
      "542:\tlearn: 0.0217858\ttotal: 401ms\tremaining: 337ms\n",
      "543:\tlearn: 0.0217474\ttotal: 401ms\tremaining: 336ms\n",
      "544:\tlearn: 0.0217089\ttotal: 403ms\tremaining: 336ms\n",
      "545:\tlearn: 0.0216677\ttotal: 404ms\tremaining: 336ms\n",
      "546:\tlearn: 0.0216460\ttotal: 405ms\tremaining: 335ms\n",
      "547:\tlearn: 0.0216274\ttotal: 406ms\tremaining: 335ms\n",
      "548:\tlearn: 0.0215915\ttotal: 407ms\tremaining: 334ms\n",
      "549:\tlearn: 0.0215600\ttotal: 408ms\tremaining: 334ms\n",
      "550:\tlearn: 0.0215320\ttotal: 409ms\tremaining: 333ms\n",
      "551:\tlearn: 0.0215043\ttotal: 411ms\tremaining: 333ms\n",
      "552:\tlearn: 0.0214705\ttotal: 411ms\tremaining: 332ms\n",
      "553:\tlearn: 0.0214428\ttotal: 411ms\tremaining: 331ms\n",
      "554:\tlearn: 0.0214048\ttotal: 411ms\tremaining: 330ms\n",
      "555:\tlearn: 0.0213800\ttotal: 412ms\tremaining: 329ms\n",
      "556:\tlearn: 0.0213505\ttotal: 412ms\tremaining: 328ms\n",
      "557:\tlearn: 0.0213091\ttotal: 412ms\tremaining: 327ms\n",
      "558:\tlearn: 0.0212872\ttotal: 413ms\tremaining: 326ms\n",
      "559:\tlearn: 0.0212497\ttotal: 414ms\tremaining: 325ms\n",
      "560:\tlearn: 0.0212258\ttotal: 415ms\tremaining: 325ms\n",
      "561:\tlearn: 0.0211987\ttotal: 416ms\tremaining: 324ms\n",
      "562:\tlearn: 0.0211835\ttotal: 416ms\tremaining: 323ms\n",
      "563:\tlearn: 0.0211641\ttotal: 417ms\tremaining: 322ms\n",
      "564:\tlearn: 0.0211369\ttotal: 417ms\tremaining: 321ms\n",
      "565:\tlearn: 0.0211028\ttotal: 418ms\tremaining: 320ms\n",
      "566:\tlearn: 0.0210828\ttotal: 418ms\tremaining: 320ms\n",
      "567:\tlearn: 0.0210402\ttotal: 419ms\tremaining: 319ms\n",
      "568:\tlearn: 0.0210156\ttotal: 420ms\tremaining: 318ms\n",
      "569:\tlearn: 0.0209934\ttotal: 420ms\tremaining: 317ms\n",
      "570:\tlearn: 0.0209548\ttotal: 421ms\tremaining: 316ms\n",
      "571:\tlearn: 0.0209264\ttotal: 421ms\tremaining: 315ms\n",
      "572:\tlearn: 0.0208993\ttotal: 422ms\tremaining: 314ms\n",
      "573:\tlearn: 0.0208926\ttotal: 423ms\tremaining: 314ms\n",
      "574:\tlearn: 0.0208701\ttotal: 423ms\tremaining: 313ms\n",
      "575:\tlearn: 0.0208545\ttotal: 424ms\tremaining: 312ms\n",
      "576:\tlearn: 0.0208249\ttotal: 424ms\tremaining: 311ms\n",
      "577:\tlearn: 0.0207876\ttotal: 424ms\tremaining: 310ms\n",
      "578:\tlearn: 0.0207706\ttotal: 425ms\tremaining: 309ms\n",
      "579:\tlearn: 0.0207536\ttotal: 425ms\tremaining: 308ms\n",
      "580:\tlearn: 0.0207280\ttotal: 425ms\tremaining: 307ms\n",
      "581:\tlearn: 0.0207029\ttotal: 426ms\tremaining: 306ms\n",
      "582:\tlearn: 0.0206772\ttotal: 426ms\tremaining: 305ms\n",
      "583:\tlearn: 0.0206511\ttotal: 426ms\tremaining: 304ms\n",
      "584:\tlearn: 0.0206393\ttotal: 427ms\tremaining: 303ms\n",
      "585:\tlearn: 0.0205991\ttotal: 427ms\tremaining: 302ms\n",
      "586:\tlearn: 0.0205726\ttotal: 428ms\tremaining: 301ms\n",
      "587:\tlearn: 0.0205375\ttotal: 428ms\tremaining: 300ms\n",
      "588:\tlearn: 0.0205196\ttotal: 429ms\tremaining: 299ms\n",
      "589:\tlearn: 0.0204862\ttotal: 429ms\tremaining: 298ms\n",
      "590:\tlearn: 0.0204671\ttotal: 430ms\tremaining: 297ms\n",
      "591:\tlearn: 0.0204253\ttotal: 430ms\tremaining: 296ms\n",
      "592:\tlearn: 0.0203992\ttotal: 431ms\tremaining: 296ms\n",
      "593:\tlearn: 0.0203747\ttotal: 431ms\tremaining: 295ms\n",
      "594:\tlearn: 0.0203389\ttotal: 432ms\tremaining: 294ms\n",
      "595:\tlearn: 0.0203151\ttotal: 432ms\tremaining: 293ms\n",
      "596:\tlearn: 0.0202931\ttotal: 433ms\tremaining: 292ms\n",
      "597:\tlearn: 0.0202736\ttotal: 433ms\tremaining: 291ms\n",
      "598:\tlearn: 0.0202459\ttotal: 434ms\tremaining: 291ms\n",
      "599:\tlearn: 0.0202280\ttotal: 434ms\tremaining: 290ms\n",
      "600:\tlearn: 0.0201970\ttotal: 435ms\tremaining: 289ms\n",
      "601:\tlearn: 0.0201465\ttotal: 437ms\tremaining: 289ms\n",
      "602:\tlearn: 0.0201185\ttotal: 439ms\tremaining: 289ms\n",
      "603:\tlearn: 0.0201021\ttotal: 439ms\tremaining: 288ms\n",
      "604:\tlearn: 0.0200887\ttotal: 441ms\tremaining: 288ms\n",
      "605:\tlearn: 0.0200627\ttotal: 442ms\tremaining: 287ms\n",
      "606:\tlearn: 0.0200420\ttotal: 443ms\tremaining: 287ms\n",
      "607:\tlearn: 0.0200244\ttotal: 445ms\tremaining: 287ms\n",
      "608:\tlearn: 0.0200060\ttotal: 446ms\tremaining: 286ms\n",
      "609:\tlearn: 0.0199951\ttotal: 447ms\tremaining: 286ms\n",
      "610:\tlearn: 0.0199652\ttotal: 448ms\tremaining: 285ms\n",
      "611:\tlearn: 0.0199529\ttotal: 449ms\tremaining: 285ms\n",
      "612:\tlearn: 0.0199307\ttotal: 451ms\tremaining: 285ms\n",
      "613:\tlearn: 0.0199111\ttotal: 451ms\tremaining: 284ms\n",
      "614:\tlearn: 0.0198727\ttotal: 452ms\tremaining: 283ms\n",
      "615:\tlearn: 0.0198567\ttotal: 452ms\tremaining: 282ms\n",
      "616:\tlearn: 0.0198319\ttotal: 453ms\tremaining: 281ms\n",
      "617:\tlearn: 0.0198185\ttotal: 453ms\tremaining: 280ms\n",
      "618:\tlearn: 0.0197886\ttotal: 454ms\tremaining: 279ms\n",
      "619:\tlearn: 0.0197599\ttotal: 454ms\tremaining: 278ms\n",
      "620:\tlearn: 0.0197392\ttotal: 455ms\tremaining: 277ms\n",
      "621:\tlearn: 0.0197056\ttotal: 456ms\tremaining: 277ms\n",
      "622:\tlearn: 0.0196930\ttotal: 456ms\tremaining: 276ms\n",
      "623:\tlearn: 0.0196691\ttotal: 457ms\tremaining: 275ms\n",
      "624:\tlearn: 0.0196342\ttotal: 457ms\tremaining: 274ms\n"
     ]
    },
    {
     "name": "stdout",
     "output_type": "stream",
     "text": [
      "625:\tlearn: 0.0196085\ttotal: 457ms\tremaining: 273ms\n",
      "626:\tlearn: 0.0195851\ttotal: 458ms\tremaining: 272ms\n",
      "627:\tlearn: 0.0195590\ttotal: 459ms\tremaining: 272ms\n",
      "628:\tlearn: 0.0195527\ttotal: 459ms\tremaining: 271ms\n",
      "629:\tlearn: 0.0195415\ttotal: 460ms\tremaining: 270ms\n",
      "630:\tlearn: 0.0195292\ttotal: 461ms\tremaining: 269ms\n",
      "631:\tlearn: 0.0195067\ttotal: 461ms\tremaining: 268ms\n",
      "632:\tlearn: 0.0194723\ttotal: 461ms\tremaining: 268ms\n",
      "633:\tlearn: 0.0194487\ttotal: 462ms\tremaining: 267ms\n",
      "634:\tlearn: 0.0194273\ttotal: 463ms\tremaining: 266ms\n",
      "635:\tlearn: 0.0193906\ttotal: 463ms\tremaining: 265ms\n",
      "636:\tlearn: 0.0193699\ttotal: 464ms\tremaining: 264ms\n",
      "637:\tlearn: 0.0193483\ttotal: 464ms\tremaining: 263ms\n",
      "638:\tlearn: 0.0193143\ttotal: 465ms\tremaining: 262ms\n",
      "639:\tlearn: 0.0193021\ttotal: 465ms\tremaining: 262ms\n",
      "640:\tlearn: 0.0192790\ttotal: 465ms\tremaining: 261ms\n",
      "641:\tlearn: 0.0192554\ttotal: 466ms\tremaining: 260ms\n",
      "642:\tlearn: 0.0192276\ttotal: 466ms\tremaining: 259ms\n",
      "643:\tlearn: 0.0192105\ttotal: 467ms\tremaining: 258ms\n",
      "644:\tlearn: 0.0191697\ttotal: 467ms\tremaining: 257ms\n",
      "645:\tlearn: 0.0191375\ttotal: 467ms\tremaining: 256ms\n",
      "646:\tlearn: 0.0191237\ttotal: 467ms\tremaining: 255ms\n",
      "647:\tlearn: 0.0191016\ttotal: 468ms\tremaining: 254ms\n",
      "648:\tlearn: 0.0190760\ttotal: 468ms\tremaining: 253ms\n",
      "649:\tlearn: 0.0190623\ttotal: 468ms\tremaining: 252ms\n",
      "650:\tlearn: 0.0190301\ttotal: 469ms\tremaining: 251ms\n",
      "651:\tlearn: 0.0190106\ttotal: 472ms\tremaining: 252ms\n",
      "652:\tlearn: 0.0189716\ttotal: 473ms\tremaining: 251ms\n",
      "653:\tlearn: 0.0189399\ttotal: 474ms\tremaining: 251ms\n",
      "654:\tlearn: 0.0189264\ttotal: 475ms\tremaining: 250ms\n",
      "655:\tlearn: 0.0189067\ttotal: 476ms\tremaining: 250ms\n",
      "656:\tlearn: 0.0188825\ttotal: 477ms\tremaining: 249ms\n",
      "657:\tlearn: 0.0188665\ttotal: 478ms\tremaining: 248ms\n",
      "658:\tlearn: 0.0188426\ttotal: 481ms\tremaining: 249ms\n",
      "659:\tlearn: 0.0188316\ttotal: 482ms\tremaining: 248ms\n",
      "660:\tlearn: 0.0187985\ttotal: 482ms\tremaining: 247ms\n",
      "661:\tlearn: 0.0187650\ttotal: 483ms\tremaining: 246ms\n",
      "662:\tlearn: 0.0187323\ttotal: 483ms\tremaining: 246ms\n",
      "663:\tlearn: 0.0187132\ttotal: 484ms\tremaining: 245ms\n",
      "664:\tlearn: 0.0186816\ttotal: 485ms\tremaining: 245ms\n",
      "665:\tlearn: 0.0186624\ttotal: 486ms\tremaining: 244ms\n",
      "666:\tlearn: 0.0186380\ttotal: 487ms\tremaining: 243ms\n",
      "667:\tlearn: 0.0186188\ttotal: 487ms\tremaining: 242ms\n",
      "668:\tlearn: 0.0185881\ttotal: 488ms\tremaining: 241ms\n",
      "669:\tlearn: 0.0185652\ttotal: 488ms\tremaining: 240ms\n",
      "670:\tlearn: 0.0185499\ttotal: 488ms\tremaining: 239ms\n",
      "671:\tlearn: 0.0185251\ttotal: 489ms\tremaining: 239ms\n",
      "672:\tlearn: 0.0185109\ttotal: 489ms\tremaining: 238ms\n",
      "673:\tlearn: 0.0184914\ttotal: 490ms\tremaining: 237ms\n",
      "674:\tlearn: 0.0184760\ttotal: 491ms\tremaining: 236ms\n",
      "675:\tlearn: 0.0184564\ttotal: 491ms\tremaining: 235ms\n",
      "676:\tlearn: 0.0184494\ttotal: 492ms\tremaining: 235ms\n",
      "677:\tlearn: 0.0184283\ttotal: 492ms\tremaining: 234ms\n",
      "678:\tlearn: 0.0184010\ttotal: 493ms\tremaining: 233ms\n",
      "679:\tlearn: 0.0183809\ttotal: 493ms\tremaining: 232ms\n",
      "680:\tlearn: 0.0183571\ttotal: 494ms\tremaining: 231ms\n",
      "681:\tlearn: 0.0183357\ttotal: 494ms\tremaining: 230ms\n",
      "682:\tlearn: 0.0183141\ttotal: 495ms\tremaining: 230ms\n",
      "683:\tlearn: 0.0182851\ttotal: 496ms\tremaining: 229ms\n",
      "684:\tlearn: 0.0182575\ttotal: 496ms\tremaining: 228ms\n",
      "685:\tlearn: 0.0182477\ttotal: 497ms\tremaining: 227ms\n",
      "686:\tlearn: 0.0182371\ttotal: 497ms\tremaining: 226ms\n",
      "687:\tlearn: 0.0182276\ttotal: 498ms\tremaining: 226ms\n"
     ]
    },
    {
     "name": "stdout",
     "output_type": "stream",
     "text": [
      "688:\tlearn: 0.0182116\ttotal: 499ms\tremaining: 225ms\n",
      "689:\tlearn: 0.0181905\ttotal: 499ms\tremaining: 224ms\n",
      "690:\tlearn: 0.0181763\ttotal: 500ms\tremaining: 224ms\n",
      "691:\tlearn: 0.0181632\ttotal: 501ms\tremaining: 223ms\n",
      "692:\tlearn: 0.0181551\ttotal: 501ms\tremaining: 222ms\n",
      "693:\tlearn: 0.0181374\ttotal: 502ms\tremaining: 221ms\n",
      "694:\tlearn: 0.0181077\ttotal: 502ms\tremaining: 220ms\n",
      "695:\tlearn: 0.0180865\ttotal: 503ms\tremaining: 220ms\n",
      "696:\tlearn: 0.0180618\ttotal: 503ms\tremaining: 219ms\n",
      "697:\tlearn: 0.0180346\ttotal: 504ms\tremaining: 218ms\n",
      "698:\tlearn: 0.0180199\ttotal: 504ms\tremaining: 217ms\n",
      "699:\tlearn: 0.0180004\ttotal: 504ms\tremaining: 216ms\n",
      "700:\tlearn: 0.0179714\ttotal: 505ms\tremaining: 215ms\n",
      "701:\tlearn: 0.0179415\ttotal: 505ms\tremaining: 214ms\n",
      "702:\tlearn: 0.0179287\ttotal: 505ms\tremaining: 214ms\n",
      "703:\tlearn: 0.0179002\ttotal: 512ms\tremaining: 215ms\n",
      "704:\tlearn: 0.0178937\ttotal: 513ms\tremaining: 215ms\n",
      "705:\tlearn: 0.0178741\ttotal: 513ms\tremaining: 214ms\n",
      "706:\tlearn: 0.0178453\ttotal: 514ms\tremaining: 213ms\n",
      "707:\tlearn: 0.0178156\ttotal: 515ms\tremaining: 212ms\n",
      "708:\tlearn: 0.0177975\ttotal: 517ms\tremaining: 212ms\n",
      "709:\tlearn: 0.0177841\ttotal: 517ms\tremaining: 211ms\n",
      "710:\tlearn: 0.0177676\ttotal: 518ms\tremaining: 211ms\n",
      "711:\tlearn: 0.0177439\ttotal: 519ms\tremaining: 210ms\n",
      "712:\tlearn: 0.0177151\ttotal: 519ms\tremaining: 209ms\n",
      "713:\tlearn: 0.0176948\ttotal: 520ms\tremaining: 208ms\n",
      "714:\tlearn: 0.0176870\ttotal: 521ms\tremaining: 208ms\n",
      "715:\tlearn: 0.0176698\ttotal: 521ms\tremaining: 207ms\n",
      "716:\tlearn: 0.0176498\ttotal: 522ms\tremaining: 206ms\n",
      "717:\tlearn: 0.0176201\ttotal: 522ms\tremaining: 205ms\n",
      "718:\tlearn: 0.0176073\ttotal: 523ms\tremaining: 204ms\n",
      "719:\tlearn: 0.0175897\ttotal: 524ms\tremaining: 204ms\n",
      "720:\tlearn: 0.0175731\ttotal: 524ms\tremaining: 203ms\n",
      "721:\tlearn: 0.0175506\ttotal: 525ms\tremaining: 202ms\n",
      "722:\tlearn: 0.0175351\ttotal: 525ms\tremaining: 201ms\n",
      "723:\tlearn: 0.0175293\ttotal: 526ms\tremaining: 200ms\n",
      "724:\tlearn: 0.0174977\ttotal: 526ms\tremaining: 200ms\n",
      "725:\tlearn: 0.0174811\ttotal: 527ms\tremaining: 199ms\n",
      "726:\tlearn: 0.0174668\ttotal: 527ms\tremaining: 198ms\n",
      "727:\tlearn: 0.0174388\ttotal: 528ms\tremaining: 197ms\n",
      "728:\tlearn: 0.0174250\ttotal: 529ms\tremaining: 197ms\n",
      "729:\tlearn: 0.0174050\ttotal: 530ms\tremaining: 196ms\n",
      "730:\tlearn: 0.0173838\ttotal: 530ms\tremaining: 195ms\n",
      "731:\tlearn: 0.0173572\ttotal: 531ms\tremaining: 194ms\n",
      "732:\tlearn: 0.0173411\ttotal: 531ms\tremaining: 194ms\n",
      "733:\tlearn: 0.0173161\ttotal: 532ms\tremaining: 193ms\n",
      "734:\tlearn: 0.0173049\ttotal: 532ms\tremaining: 192ms\n",
      "735:\tlearn: 0.0172914\ttotal: 532ms\tremaining: 191ms\n",
      "736:\tlearn: 0.0172760\ttotal: 533ms\tremaining: 190ms\n",
      "737:\tlearn: 0.0172597\ttotal: 533ms\tremaining: 189ms\n",
      "738:\tlearn: 0.0172414\ttotal: 534ms\tremaining: 188ms\n",
      "739:\tlearn: 0.0172236\ttotal: 534ms\tremaining: 188ms\n",
      "740:\tlearn: 0.0171985\ttotal: 535ms\tremaining: 187ms\n",
      "741:\tlearn: 0.0171864\ttotal: 535ms\tremaining: 186ms\n",
      "742:\tlearn: 0.0171624\ttotal: 535ms\tremaining: 185ms\n",
      "743:\tlearn: 0.0171434\ttotal: 536ms\tremaining: 184ms\n",
      "744:\tlearn: 0.0171213\ttotal: 536ms\tremaining: 184ms\n",
      "745:\tlearn: 0.0171030\ttotal: 537ms\tremaining: 183ms\n",
      "746:\tlearn: 0.0170777\ttotal: 538ms\tremaining: 182ms\n",
      "747:\tlearn: 0.0170693\ttotal: 538ms\tremaining: 181ms\n",
      "748:\tlearn: 0.0170504\ttotal: 539ms\tremaining: 181ms\n",
      "749:\tlearn: 0.0170406\ttotal: 539ms\tremaining: 180ms\n",
      "750:\tlearn: 0.0170239\ttotal: 540ms\tremaining: 179ms\n",
      "751:\tlearn: 0.0170019\ttotal: 540ms\tremaining: 178ms\n",
      "752:\tlearn: 0.0169871\ttotal: 541ms\tremaining: 177ms\n",
      "753:\tlearn: 0.0169510\ttotal: 541ms\tremaining: 177ms\n",
      "754:\tlearn: 0.0169234\ttotal: 542ms\tremaining: 176ms\n",
      "755:\tlearn: 0.0169047\ttotal: 542ms\tremaining: 175ms\n",
      "756:\tlearn: 0.0168806\ttotal: 543ms\tremaining: 174ms\n",
      "757:\tlearn: 0.0168505\ttotal: 544ms\tremaining: 174ms\n",
      "758:\tlearn: 0.0168316\ttotal: 545ms\tremaining: 173ms\n",
      "759:\tlearn: 0.0168118\ttotal: 545ms\tremaining: 172ms\n",
      "760:\tlearn: 0.0168005\ttotal: 546ms\tremaining: 171ms\n",
      "761:\tlearn: 0.0167749\ttotal: 547ms\tremaining: 171ms\n",
      "762:\tlearn: 0.0167569\ttotal: 547ms\tremaining: 170ms\n",
      "763:\tlearn: 0.0167403\ttotal: 548ms\tremaining: 169ms\n",
      "764:\tlearn: 0.0167256\ttotal: 548ms\tremaining: 168ms\n",
      "765:\tlearn: 0.0167074\ttotal: 549ms\tremaining: 168ms\n",
      "766:\tlearn: 0.0166943\ttotal: 550ms\tremaining: 167ms\n",
      "767:\tlearn: 0.0166836\ttotal: 551ms\tremaining: 166ms\n",
      "768:\tlearn: 0.0166707\ttotal: 552ms\tremaining: 166ms\n",
      "769:\tlearn: 0.0166517\ttotal: 552ms\tremaining: 165ms\n",
      "770:\tlearn: 0.0166344\ttotal: 553ms\tremaining: 164ms\n",
      "771:\tlearn: 0.0166114\ttotal: 553ms\tremaining: 163ms\n",
      "772:\tlearn: 0.0165866\ttotal: 554ms\tremaining: 163ms\n",
      "773:\tlearn: 0.0165674\ttotal: 554ms\tremaining: 162ms\n",
      "774:\tlearn: 0.0165511\ttotal: 554ms\tremaining: 161ms\n",
      "775:\tlearn: 0.0165330\ttotal: 554ms\tremaining: 160ms\n",
      "776:\tlearn: 0.0165172\ttotal: 555ms\tremaining: 159ms\n",
      "777:\tlearn: 0.0164944\ttotal: 555ms\tremaining: 158ms\n",
      "778:\tlearn: 0.0164892\ttotal: 555ms\tremaining: 158ms\n",
      "779:\tlearn: 0.0164659\ttotal: 556ms\tremaining: 157ms\n",
      "780:\tlearn: 0.0164512\ttotal: 556ms\tremaining: 156ms\n",
      "781:\tlearn: 0.0164336\ttotal: 556ms\tremaining: 155ms\n",
      "782:\tlearn: 0.0164196\ttotal: 557ms\tremaining: 154ms\n",
      "783:\tlearn: 0.0164094\ttotal: 558ms\tremaining: 154ms\n",
      "784:\tlearn: 0.0163971\ttotal: 558ms\tremaining: 153ms\n",
      "785:\tlearn: 0.0163901\ttotal: 559ms\tremaining: 152ms\n",
      "786:\tlearn: 0.0163720\ttotal: 559ms\tremaining: 151ms\n",
      "787:\tlearn: 0.0163607\ttotal: 560ms\tremaining: 151ms\n",
      "788:\tlearn: 0.0163473\ttotal: 560ms\tremaining: 150ms\n",
      "789:\tlearn: 0.0163341\ttotal: 561ms\tremaining: 149ms\n",
      "790:\tlearn: 0.0163213\ttotal: 561ms\tremaining: 148ms\n",
      "791:\tlearn: 0.0163035\ttotal: 562ms\tremaining: 148ms\n",
      "792:\tlearn: 0.0162918\ttotal: 562ms\tremaining: 147ms\n",
      "793:\tlearn: 0.0162858\ttotal: 563ms\tremaining: 146ms\n",
      "794:\tlearn: 0.0162638\ttotal: 563ms\tremaining: 145ms\n",
      "795:\tlearn: 0.0162581\ttotal: 564ms\tremaining: 144ms\n",
      "796:\tlearn: 0.0162306\ttotal: 564ms\tremaining: 144ms\n",
      "797:\tlearn: 0.0162131\ttotal: 565ms\tremaining: 143ms\n",
      "798:\tlearn: 0.0161963\ttotal: 565ms\tremaining: 142ms\n",
      "799:\tlearn: 0.0161858\ttotal: 566ms\tremaining: 141ms\n",
      "800:\tlearn: 0.0161711\ttotal: 566ms\tremaining: 141ms\n",
      "801:\tlearn: 0.0161520\ttotal: 567ms\tremaining: 140ms\n",
      "802:\tlearn: 0.0161432\ttotal: 568ms\tremaining: 139ms\n",
      "803:\tlearn: 0.0161227\ttotal: 568ms\tremaining: 138ms\n",
      "804:\tlearn: 0.0161155\ttotal: 569ms\tremaining: 138ms\n",
      "805:\tlearn: 0.0161064\ttotal: 569ms\tremaining: 137ms\n",
      "806:\tlearn: 0.0160915\ttotal: 570ms\tremaining: 136ms\n",
      "807:\tlearn: 0.0160757\ttotal: 570ms\tremaining: 135ms\n",
      "808:\tlearn: 0.0160596\ttotal: 571ms\tremaining: 135ms\n",
      "809:\tlearn: 0.0160435\ttotal: 571ms\tremaining: 134ms\n",
      "810:\tlearn: 0.0160262\ttotal: 572ms\tremaining: 133ms\n",
      "811:\tlearn: 0.0160014\ttotal: 572ms\tremaining: 132ms\n",
      "812:\tlearn: 0.0159805\ttotal: 573ms\tremaining: 132ms\n",
      "813:\tlearn: 0.0159642\ttotal: 573ms\tremaining: 131ms\n",
      "814:\tlearn: 0.0159490\ttotal: 574ms\tremaining: 130ms\n",
      "815:\tlearn: 0.0159402\ttotal: 574ms\tremaining: 129ms\n",
      "816:\tlearn: 0.0159195\ttotal: 575ms\tremaining: 129ms\n",
      "817:\tlearn: 0.0158969\ttotal: 575ms\tremaining: 128ms\n",
      "818:\tlearn: 0.0158817\ttotal: 576ms\tremaining: 127ms\n",
      "819:\tlearn: 0.0158626\ttotal: 576ms\tremaining: 126ms\n",
      "820:\tlearn: 0.0158516\ttotal: 577ms\tremaining: 126ms\n",
      "821:\tlearn: 0.0158375\ttotal: 577ms\tremaining: 125ms\n",
      "822:\tlearn: 0.0158295\ttotal: 578ms\tremaining: 124ms\n",
      "823:\tlearn: 0.0158203\ttotal: 578ms\tremaining: 123ms\n",
      "824:\tlearn: 0.0157990\ttotal: 579ms\tremaining: 123ms\n",
      "825:\tlearn: 0.0157758\ttotal: 579ms\tremaining: 122ms\n",
      "826:\tlearn: 0.0157613\ttotal: 580ms\tremaining: 121ms\n",
      "827:\tlearn: 0.0157435\ttotal: 580ms\tremaining: 121ms\n",
      "828:\tlearn: 0.0157309\ttotal: 581ms\tremaining: 120ms\n",
      "829:\tlearn: 0.0157205\ttotal: 582ms\tremaining: 119ms\n",
      "830:\tlearn: 0.0157010\ttotal: 583ms\tremaining: 119ms\n",
      "831:\tlearn: 0.0156948\ttotal: 584ms\tremaining: 118ms\n",
      "832:\tlearn: 0.0156786\ttotal: 585ms\tremaining: 117ms\n",
      "833:\tlearn: 0.0156687\ttotal: 586ms\tremaining: 117ms\n",
      "834:\tlearn: 0.0156606\ttotal: 586ms\tremaining: 116ms\n",
      "835:\tlearn: 0.0156400\ttotal: 587ms\tremaining: 115ms\n",
      "836:\tlearn: 0.0156244\ttotal: 589ms\tremaining: 115ms\n",
      "837:\tlearn: 0.0156110\ttotal: 589ms\tremaining: 114ms\n",
      "838:\tlearn: 0.0155918\ttotal: 590ms\tremaining: 113ms\n",
      "839:\tlearn: 0.0155801\ttotal: 591ms\tremaining: 113ms\n",
      "840:\tlearn: 0.0155615\ttotal: 591ms\tremaining: 112ms\n",
      "841:\tlearn: 0.0155466\ttotal: 592ms\tremaining: 111ms\n",
      "842:\tlearn: 0.0155257\ttotal: 593ms\tremaining: 110ms\n",
      "843:\tlearn: 0.0155195\ttotal: 594ms\tremaining: 110ms\n",
      "844:\tlearn: 0.0155044\ttotal: 594ms\tremaining: 109ms\n",
      "845:\tlearn: 0.0154897\ttotal: 595ms\tremaining: 108ms\n",
      "846:\tlearn: 0.0154766\ttotal: 596ms\tremaining: 108ms\n",
      "847:\tlearn: 0.0154564\ttotal: 596ms\tremaining: 107ms\n",
      "848:\tlearn: 0.0154385\ttotal: 597ms\tremaining: 106ms\n",
      "849:\tlearn: 0.0154314\ttotal: 598ms\tremaining: 105ms\n",
      "850:\tlearn: 0.0154155\ttotal: 598ms\tremaining: 105ms\n",
      "851:\tlearn: 0.0153985\ttotal: 599ms\tremaining: 104ms\n",
      "852:\tlearn: 0.0153928\ttotal: 599ms\tremaining: 103ms\n",
      "853:\tlearn: 0.0153804\ttotal: 599ms\tremaining: 102ms\n",
      "854:\tlearn: 0.0153688\ttotal: 599ms\tremaining: 102ms\n",
      "855:\tlearn: 0.0153592\ttotal: 600ms\tremaining: 101ms\n",
      "856:\tlearn: 0.0153441\ttotal: 601ms\tremaining: 100ms\n",
      "857:\tlearn: 0.0153293\ttotal: 601ms\tremaining: 99.5ms\n",
      "858:\tlearn: 0.0153266\ttotal: 602ms\tremaining: 98.8ms\n",
      "859:\tlearn: 0.0153216\ttotal: 602ms\tremaining: 98ms\n",
      "860:\tlearn: 0.0153025\ttotal: 603ms\tremaining: 97.3ms\n",
      "861:\tlearn: 0.0152878\ttotal: 603ms\tremaining: 96.5ms\n",
      "862:\tlearn: 0.0152679\ttotal: 604ms\tremaining: 95.8ms\n",
      "863:\tlearn: 0.0152529\ttotal: 604ms\tremaining: 95.1ms\n",
      "864:\tlearn: 0.0152421\ttotal: 605ms\tremaining: 94.4ms\n"
     ]
    },
    {
     "name": "stdout",
     "output_type": "stream",
     "text": [
      "865:\tlearn: 0.0152284\ttotal: 605ms\tremaining: 93.7ms\n",
      "866:\tlearn: 0.0152057\ttotal: 607ms\tremaining: 93.1ms\n",
      "867:\tlearn: 0.0151882\ttotal: 608ms\tremaining: 92.4ms\n",
      "868:\tlearn: 0.0151791\ttotal: 608ms\tremaining: 91.7ms\n",
      "869:\tlearn: 0.0151709\ttotal: 609ms\tremaining: 91ms\n",
      "870:\tlearn: 0.0151472\ttotal: 609ms\tremaining: 90.3ms\n",
      "871:\tlearn: 0.0151325\ttotal: 610ms\tremaining: 89.5ms\n",
      "872:\tlearn: 0.0151238\ttotal: 610ms\tremaining: 88.8ms\n",
      "873:\tlearn: 0.0151088\ttotal: 611ms\tremaining: 88.1ms\n",
      "874:\tlearn: 0.0150901\ttotal: 612ms\tremaining: 87.4ms\n",
      "875:\tlearn: 0.0150705\ttotal: 612ms\tremaining: 86.6ms\n",
      "876:\tlearn: 0.0150568\ttotal: 613ms\tremaining: 85.9ms\n",
      "877:\tlearn: 0.0150488\ttotal: 613ms\tremaining: 85.2ms\n",
      "878:\tlearn: 0.0150342\ttotal: 614ms\tremaining: 84.5ms\n",
      "879:\tlearn: 0.0150046\ttotal: 614ms\tremaining: 83.7ms\n",
      "880:\tlearn: 0.0149884\ttotal: 615ms\tremaining: 83ms\n",
      "881:\tlearn: 0.0149759\ttotal: 615ms\tremaining: 82.3ms\n",
      "882:\tlearn: 0.0149642\ttotal: 616ms\tremaining: 81.6ms\n",
      "883:\tlearn: 0.0149491\ttotal: 617ms\tremaining: 80.9ms\n",
      "884:\tlearn: 0.0149354\ttotal: 617ms\tremaining: 80.2ms\n",
      "885:\tlearn: 0.0149232\ttotal: 618ms\tremaining: 79.6ms\n",
      "886:\tlearn: 0.0149101\ttotal: 619ms\tremaining: 78.9ms\n",
      "887:\tlearn: 0.0148998\ttotal: 620ms\tremaining: 78.2ms\n",
      "888:\tlearn: 0.0148892\ttotal: 622ms\tremaining: 77.6ms\n",
      "889:\tlearn: 0.0148711\ttotal: 622ms\tremaining: 76.9ms\n",
      "890:\tlearn: 0.0148571\ttotal: 623ms\tremaining: 76.2ms\n",
      "891:\tlearn: 0.0148351\ttotal: 627ms\tremaining: 76ms\n",
      "892:\tlearn: 0.0148305\ttotal: 628ms\tremaining: 75.3ms\n",
      "893:\tlearn: 0.0148236\ttotal: 629ms\tremaining: 74.5ms\n",
      "894:\tlearn: 0.0148117\ttotal: 629ms\tremaining: 73.8ms\n",
      "895:\tlearn: 0.0148073\ttotal: 630ms\tremaining: 73.1ms\n",
      "896:\tlearn: 0.0147942\ttotal: 630ms\tremaining: 72.4ms\n",
      "897:\tlearn: 0.0147860\ttotal: 631ms\tremaining: 71.7ms\n",
      "898:\tlearn: 0.0147697\ttotal: 632ms\tremaining: 71ms\n",
      "899:\tlearn: 0.0147558\ttotal: 633ms\tremaining: 70.3ms\n",
      "900:\tlearn: 0.0147467\ttotal: 633ms\tremaining: 69.6ms\n",
      "901:\tlearn: 0.0147382\ttotal: 634ms\tremaining: 68.9ms\n",
      "902:\tlearn: 0.0147123\ttotal: 635ms\tremaining: 68.2ms\n",
      "903:\tlearn: 0.0146976\ttotal: 635ms\tremaining: 67.4ms\n",
      "904:\tlearn: 0.0146927\ttotal: 636ms\tremaining: 66.7ms\n",
      "905:\tlearn: 0.0146756\ttotal: 636ms\tremaining: 66ms\n",
      "906:\tlearn: 0.0146706\ttotal: 637ms\tremaining: 65.3ms\n",
      "907:\tlearn: 0.0146543\ttotal: 637ms\tremaining: 64.6ms\n",
      "908:\tlearn: 0.0146408\ttotal: 638ms\tremaining: 63.9ms\n",
      "909:\tlearn: 0.0146370\ttotal: 638ms\tremaining: 63.1ms\n",
      "910:\tlearn: 0.0146232\ttotal: 639ms\tremaining: 62.4ms\n",
      "911:\tlearn: 0.0146161\ttotal: 639ms\tremaining: 61.7ms\n",
      "912:\tlearn: 0.0146039\ttotal: 640ms\tremaining: 61ms\n",
      "913:\tlearn: 0.0145872\ttotal: 640ms\tremaining: 60.3ms\n",
      "914:\tlearn: 0.0145727\ttotal: 641ms\tremaining: 59.5ms\n",
      "915:\tlearn: 0.0145658\ttotal: 641ms\tremaining: 58.8ms\n",
      "916:\tlearn: 0.0145520\ttotal: 642ms\tremaining: 58.1ms\n",
      "917:\tlearn: 0.0145386\ttotal: 642ms\tremaining: 57.4ms\n",
      "918:\tlearn: 0.0145287\ttotal: 643ms\tremaining: 56.7ms\n",
      "919:\tlearn: 0.0145159\ttotal: 644ms\tremaining: 56ms\n",
      "920:\tlearn: 0.0145035\ttotal: 644ms\tremaining: 55.2ms\n",
      "921:\tlearn: 0.0144910\ttotal: 644ms\tremaining: 54.5ms\n",
      "922:\tlearn: 0.0144743\ttotal: 645ms\tremaining: 53.8ms\n",
      "923:\tlearn: 0.0144712\ttotal: 645ms\tremaining: 53.1ms\n",
      "924:\tlearn: 0.0144602\ttotal: 646ms\tremaining: 52.4ms\n",
      "925:\tlearn: 0.0144509\ttotal: 646ms\tremaining: 51.6ms\n",
      "926:\tlearn: 0.0144387\ttotal: 647ms\tremaining: 50.9ms\n"
     ]
    },
    {
     "name": "stdout",
     "output_type": "stream",
     "text": [
      "927:\tlearn: 0.0144250\ttotal: 648ms\tremaining: 50.3ms\n",
      "928:\tlearn: 0.0144210\ttotal: 649ms\tremaining: 49.6ms\n",
      "929:\tlearn: 0.0144106\ttotal: 649ms\tremaining: 48.9ms\n",
      "930:\tlearn: 0.0143994\ttotal: 650ms\tremaining: 48.2ms\n",
      "931:\tlearn: 0.0143909\ttotal: 650ms\tremaining: 47.4ms\n",
      "932:\tlearn: 0.0143779\ttotal: 650ms\tremaining: 46.7ms\n",
      "933:\tlearn: 0.0143711\ttotal: 651ms\tremaining: 46ms\n",
      "934:\tlearn: 0.0143589\ttotal: 651ms\tremaining: 45.3ms\n",
      "935:\tlearn: 0.0143523\ttotal: 651ms\tremaining: 44.5ms\n",
      "936:\tlearn: 0.0143399\ttotal: 652ms\tremaining: 43.8ms\n",
      "937:\tlearn: 0.0143305\ttotal: 653ms\tremaining: 43.1ms\n",
      "938:\tlearn: 0.0143266\ttotal: 653ms\tremaining: 42.4ms\n",
      "939:\tlearn: 0.0143118\ttotal: 654ms\tremaining: 41.7ms\n",
      "940:\tlearn: 0.0143027\ttotal: 654ms\tremaining: 41ms\n",
      "941:\tlearn: 0.0142895\ttotal: 655ms\tremaining: 40.3ms\n",
      "942:\tlearn: 0.0142768\ttotal: 656ms\tremaining: 39.6ms\n",
      "943:\tlearn: 0.0142665\ttotal: 657ms\tremaining: 39ms\n",
      "944:\tlearn: 0.0142411\ttotal: 657ms\tremaining: 38.3ms\n",
      "945:\tlearn: 0.0142309\ttotal: 658ms\tremaining: 37.6ms\n",
      "946:\tlearn: 0.0142201\ttotal: 658ms\tremaining: 36.8ms\n",
      "947:\tlearn: 0.0142086\ttotal: 659ms\tremaining: 36.1ms\n",
      "948:\tlearn: 0.0141935\ttotal: 659ms\tremaining: 35.4ms\n",
      "949:\tlearn: 0.0141818\ttotal: 660ms\tremaining: 34.7ms\n",
      "950:\tlearn: 0.0141675\ttotal: 661ms\tremaining: 34ms\n",
      "951:\tlearn: 0.0141562\ttotal: 661ms\tremaining: 33.3ms\n",
      "952:\tlearn: 0.0141481\ttotal: 662ms\tremaining: 32.6ms\n",
      "953:\tlearn: 0.0141293\ttotal: 662ms\tremaining: 31.9ms\n",
      "954:\tlearn: 0.0141257\ttotal: 663ms\tremaining: 31.2ms\n",
      "955:\tlearn: 0.0141176\ttotal: 664ms\tremaining: 30.6ms\n",
      "956:\tlearn: 0.0141111\ttotal: 664ms\tremaining: 29.8ms\n",
      "957:\tlearn: 0.0141021\ttotal: 665ms\tremaining: 29.1ms\n",
      "958:\tlearn: 0.0140916\ttotal: 665ms\tremaining: 28.4ms\n",
      "959:\tlearn: 0.0140663\ttotal: 666ms\tremaining: 27.8ms\n",
      "960:\tlearn: 0.0140602\ttotal: 667ms\tremaining: 27.1ms\n",
      "961:\tlearn: 0.0140456\ttotal: 668ms\tremaining: 26.4ms\n",
      "962:\tlearn: 0.0140303\ttotal: 668ms\tremaining: 25.7ms\n",
      "963:\tlearn: 0.0140150\ttotal: 669ms\tremaining: 25ms\n",
      "964:\tlearn: 0.0140076\ttotal: 669ms\tremaining: 24.3ms\n",
      "965:\tlearn: 0.0139965\ttotal: 671ms\tremaining: 23.6ms\n",
      "966:\tlearn: 0.0139874\ttotal: 671ms\tremaining: 22.9ms\n",
      "967:\tlearn: 0.0139844\ttotal: 672ms\tremaining: 22.2ms\n",
      "968:\tlearn: 0.0139781\ttotal: 672ms\tremaining: 21.5ms\n",
      "969:\tlearn: 0.0139688\ttotal: 673ms\tremaining: 20.8ms\n",
      "970:\tlearn: 0.0139620\ttotal: 673ms\tremaining: 20.1ms\n",
      "971:\tlearn: 0.0139513\ttotal: 674ms\tremaining: 19.4ms\n",
      "972:\tlearn: 0.0139363\ttotal: 674ms\tremaining: 18.7ms\n",
      "973:\tlearn: 0.0139318\ttotal: 675ms\tremaining: 18ms\n",
      "974:\tlearn: 0.0139224\ttotal: 675ms\tremaining: 17.3ms\n",
      "975:\tlearn: 0.0139082\ttotal: 676ms\tremaining: 16.6ms\n",
      "976:\tlearn: 0.0138951\ttotal: 676ms\tremaining: 15.9ms\n",
      "977:\tlearn: 0.0138831\ttotal: 677ms\tremaining: 15.2ms\n",
      "978:\tlearn: 0.0138752\ttotal: 678ms\tremaining: 14.5ms\n",
      "979:\tlearn: 0.0138679\ttotal: 678ms\tremaining: 13.8ms\n",
      "980:\tlearn: 0.0138494\ttotal: 679ms\tremaining: 13.1ms\n",
      "981:\tlearn: 0.0138361\ttotal: 679ms\tremaining: 12.4ms\n",
      "982:\tlearn: 0.0138204\ttotal: 680ms\tremaining: 11.8ms\n",
      "983:\tlearn: 0.0138093\ttotal: 680ms\tremaining: 11.1ms\n",
      "984:\tlearn: 0.0137978\ttotal: 681ms\tremaining: 10.4ms\n",
      "985:\tlearn: 0.0137861\ttotal: 681ms\tremaining: 9.68ms\n",
      "986:\tlearn: 0.0137718\ttotal: 682ms\tremaining: 8.98ms\n",
      "987:\tlearn: 0.0137691\ttotal: 683ms\tremaining: 8.29ms\n",
      "988:\tlearn: 0.0137583\ttotal: 683ms\tremaining: 7.6ms\n",
      "989:\tlearn: 0.0137514\ttotal: 684ms\tremaining: 6.9ms\n",
      "990:\tlearn: 0.0137342\ttotal: 684ms\tremaining: 6.21ms\n",
      "991:\tlearn: 0.0137238\ttotal: 685ms\tremaining: 5.52ms\n",
      "992:\tlearn: 0.0137141\ttotal: 685ms\tremaining: 4.83ms\n",
      "993:\tlearn: 0.0137006\ttotal: 686ms\tremaining: 4.14ms\n",
      "994:\tlearn: 0.0136811\ttotal: 686ms\tremaining: 3.45ms\n",
      "995:\tlearn: 0.0136727\ttotal: 686ms\tremaining: 2.76ms\n",
      "996:\tlearn: 0.0136578\ttotal: 687ms\tremaining: 2.07ms\n",
      "997:\tlearn: 0.0136547\ttotal: 688ms\tremaining: 1.38ms\n",
      "998:\tlearn: 0.0136458\ttotal: 688ms\tremaining: 688us\n",
      "999:\tlearn: 0.0136356\ttotal: 689ms\tremaining: 0us\n"
     ]
    },
    {
     "data": {
      "text/plain": [
       "<catboost.core.CatBoostRegressor at 0x7f9722dbf160>"
      ]
     },
     "execution_count": 9,
     "metadata": {},
     "output_type": "execute_result"
    }
   ],
   "source": [
    "#Train the Model \n",
    "prior_model = ctb.CatBoostRegressor()\n",
    "prior_model.fit(X_train,Y_train)"
   ]
  },
  {
   "cell_type": "code",
   "execution_count": 10,
   "id": "af65dcda",
   "metadata": {
    "execution": {
     "iopub.execute_input": "2022-07-25T00:54:52.125169Z",
     "iopub.status.busy": "2022-07-25T00:54:52.123692Z",
     "iopub.status.idle": "2022-07-25T00:54:52.157699Z",
     "shell.execute_reply": "2022-07-25T00:54:52.157051Z"
    },
    "id": "af65dcda",
    "papermill": {
     "duration": 0.054366,
     "end_time": "2022-07-25T00:54:52.161058",
     "exception": false,
     "start_time": "2022-07-25T00:54:52.106692",
     "status": "completed"
    },
    "tags": []
   },
   "outputs": [
    {
     "data": {
      "application/scrapbook.scrap.json+json": {
       "data": 0.0007493121423441949,
       "encoder": "json",
       "name": "Prior Model MSE",
       "version": 1
      }
     },
     "metadata": {
      "scrapbook": {
       "data": true,
       "display": false,
       "name": "Prior Model MSE"
      }
     },
     "output_type": "display_data"
    },
    {
     "data": {
      "application/scrapbook.scrap.json+json": {
       "data": 1.0253318589389502,
       "encoder": "json",
       "name": "ABC Pre-generator MSE",
       "version": 1
      }
     },
     "metadata": {
      "scrapbook": {
       "data": true,
       "display": false,
       "name": "ABC Pre-generator MSE"
      }
     },
     "output_type": "display_data"
    },
    {
     "data": {
      "application/scrapbook.scrap.json+json": {
       "data": 0.01985336766701884,
       "encoder": "json",
       "name": "Prior Model MAE",
       "version": 1
      }
     },
     "metadata": {
      "scrapbook": {
       "data": true,
       "display": false,
       "name": "Prior Model MAE"
      }
     },
     "output_type": "display_data"
    },
    {
     "name": "stdout",
     "output_type": "stream",
     "text": [
      "Prior Model MAE 0.01985336766701884\n",
      "ABC Pre-generator MAE 1.0057761423696898\n"
     ]
    }
   ],
   "source": [
    "y_pred = prior_model.predict(X_test)\n",
    "y_abc = y_pred + np.random.normal(0,variance, y_pred.shape) + bias \n",
    "mse = mean_squared_error(y_pred,Y_test)\n",
    "sb.glue(\"Prior Model MSE\",mse)\n",
    "mse = mean_squared_error(y_abc,Y_test)\n",
    "sb.glue(\"ABC Pre-generator MSE\",mse)\n",
    "mae = mean_absolute_error(y_pred,Y_test)\n",
    "sb.glue(\"Prior Model MAE\",mae)\n",
    "print(\"Prior Model MAE\",mae)\n",
    "mae = mean_absolute_error(y_abc,Y_test)\n",
    "print(\"ABC Pre-generator MAE\",mae)"
   ]
  },
  {
   "cell_type": "markdown",
   "id": "25609da2",
   "metadata": {
    "papermill": {
     "duration": 0.024817,
     "end_time": "2022-07-25T00:54:52.208878",
     "exception": false,
     "start_time": "2022-07-25T00:54:52.184061",
     "status": "completed"
    },
    "tags": []
   },
   "source": [
    "# mGAN Model"
   ]
  },
  {
   "cell_type": "code",
   "execution_count": 11,
   "id": "dfc3464d",
   "metadata": {
    "execution": {
     "iopub.execute_input": "2022-07-25T00:54:52.239841Z",
     "iopub.status.busy": "2022-07-25T00:54:52.239110Z",
     "iopub.status.idle": "2022-07-25T00:54:52.244362Z",
     "shell.execute_reply": "2022-07-25T00:54:52.242894Z"
    },
    "papermill": {
     "duration": 0.02112,
     "end_time": "2022-07-25T00:54:52.247465",
     "exception": false,
     "start_time": "2022-07-25T00:54:52.226345",
     "status": "completed"
    },
    "tags": []
   },
   "outputs": [],
   "source": [
    "# gen = network.Generator(n_features+1).to(device)\n",
    "# disc = network.Discriminator(n_features+1).to(device)\n",
    "\n",
    "# criterion = torch.nn.BCELoss()\n",
    "# gen_opt = torch.optim.Adam(gen.parameters(), lr=0.01, betas=(0.5, 0.999))\n",
    "# disc_opt = torch.optim.Adam(disc.parameters(), lr=0.01, betas=(0.5, 0.999))"
   ]
  },
  {
   "cell_type": "code",
   "execution_count": 12,
   "id": "b75fdd85",
   "metadata": {
    "execution": {
     "iopub.execute_input": "2022-07-25T00:54:52.278631Z",
     "iopub.status.busy": "2022-07-25T00:54:52.278021Z",
     "iopub.status.idle": "2022-07-25T00:54:52.283073Z",
     "shell.execute_reply": "2022-07-25T00:54:52.282030Z"
    },
    "papermill": {
     "duration": 0.027913,
     "end_time": "2022-07-25T00:54:52.286227",
     "exception": false,
     "start_time": "2022-07-25T00:54:52.258314",
     "status": "completed"
    },
    "tags": []
   },
   "outputs": [],
   "source": [
    "#Training the ABC_GAN \n",
    "# ABC_train_test2.training_GAN(disc,gen,disc_opt,gen_opt,train_data,batch_size,n_epochs,criterion,prior_model,variance,bias,device)"
   ]
  },
  {
   "cell_type": "code",
   "execution_count": 13,
   "id": "1fa7c368",
   "metadata": {
    "execution": {
     "iopub.execute_input": "2022-07-25T00:54:52.314028Z",
     "iopub.status.busy": "2022-07-25T00:54:52.313388Z",
     "iopub.status.idle": "2022-07-25T00:54:52.318995Z",
     "shell.execute_reply": "2022-07-25T00:54:52.317139Z"
    },
    "papermill": {
     "duration": 0.028166,
     "end_time": "2022-07-25T00:54:52.325771",
     "exception": false,
     "start_time": "2022-07-25T00:54:52.297605",
     "status": "completed"
    },
    "tags": []
   },
   "outputs": [],
   "source": [
    "# ABC_GAN1_metrics=ABC_train_test2.test_generator(gen,test_data,prior_model,variance,bias,\"1\",device)\n",
    "# sb.glue(\"ABC_GAN_1 Metrics\",ABC_GAN1_metrics)\n",
    "\n",
    "# print(\"MAE\")\n",
    "# print(mean(ABC_GAN1_metrics[1]))"
   ]
  },
  {
   "cell_type": "code",
   "execution_count": 14,
   "id": "eb22ce5c",
   "metadata": {
    "execution": {
     "iopub.execute_input": "2022-07-25T00:54:52.354277Z",
     "iopub.status.busy": "2022-07-25T00:54:52.353587Z",
     "iopub.status.idle": "2022-07-25T00:54:52.358107Z",
     "shell.execute_reply": "2022-07-25T00:54:52.356933Z"
    },
    "papermill": {
     "duration": 0.020713,
     "end_time": "2022-07-25T00:54:52.362181",
     "exception": false,
     "start_time": "2022-07-25T00:54:52.341468",
     "status": "completed"
    },
    "tags": []
   },
   "outputs": [],
   "source": [
    "# sanityChecks.discProbVsError(train_data,disc,device)\n",
    "# sanityChecks.discProbVsError(test_data,disc,device)"
   ]
  },
  {
   "cell_type": "markdown",
   "id": "d4752a05",
   "metadata": {
    "papermill": {
     "duration": 0.011568,
     "end_time": "2022-07-25T00:54:52.395447",
     "exception": false,
     "start_time": "2022-07-25T00:54:52.383879",
     "status": "completed"
    },
    "tags": []
   },
   "source": [
    "# mGAN Model with TabNet Generator"
   ]
  },
  {
   "cell_type": "code",
   "execution_count": 15,
   "id": "78dbc8e1",
   "metadata": {
    "execution": {
     "iopub.execute_input": "2022-07-25T00:54:52.427567Z",
     "iopub.status.busy": "2022-07-25T00:54:52.427063Z",
     "iopub.status.idle": "2022-07-25T00:54:52.452795Z",
     "shell.execute_reply": "2022-07-25T00:54:52.450976Z"
    },
    "papermill": {
     "duration": 0.052516,
     "end_time": "2022-07-25T00:54:52.459071",
     "exception": false,
     "start_time": "2022-07-25T00:54:52.406555",
     "status": "completed"
    },
    "tags": []
   },
   "outputs": [],
   "source": [
    "gen2 = network.GeneratorTabnet(n_features+1).to(device)\n",
    "disc2 = network.Discriminator(n_features+1).to(device)\n",
    "\n",
    "criterion = torch.nn.BCELoss()\n",
    "gen_opt = torch.optim.Adam(gen2.parameters(), lr=0.01, betas=(0.5, 0.999))\n",
    "disc_opt = torch.optim.Adam(disc2.parameters(), lr=0.01, betas=(0.5, 0.999))"
   ]
  },
  {
   "cell_type": "code",
   "execution_count": 16,
   "id": "504bac31",
   "metadata": {
    "execution": {
     "iopub.execute_input": "2022-07-25T00:54:52.495594Z",
     "iopub.status.busy": "2022-07-25T00:54:52.495112Z",
     "iopub.status.idle": "2022-07-25T01:11:28.931823Z",
     "shell.execute_reply": "2022-07-25T01:11:28.930324Z"
    },
    "papermill": {
     "duration": 996.457174,
     "end_time": "2022-07-25T01:11:28.936776",
     "exception": false,
     "start_time": "2022-07-25T00:54:52.479602",
     "status": "completed"
    },
    "tags": []
   },
   "outputs": [
    {
     "data": {
      "image/png": "[encoded data removed]",
      "text/plain": [
       "<Figure size 432x288 with 1 Axes>"
      ]
     },
     "metadata": {
      "needs_background": "light"
     },
     "output_type": "display_data"
    },
    {
     "data": {
      "image/png": "[encoded data removed]",
      "text/plain": [
       "<Figure size 432x288 with 1 Axes>"
      ]
     },
     "metadata": {
      "needs_background": "light"
     },
     "output_type": "display_data"
    }
   ],
   "source": [
    "#Training the ABC_GAN \n",
    "ABC_train_test2.training_GAN(disc2,gen2,disc_opt,gen_opt,train_data,batch_size,n_epochs,criterion,prior_model,variance,bias,device)"
   ]
  },
  {
   "cell_type": "code",
   "execution_count": 17,
   "id": "a5ef1d89",
   "metadata": {
    "execution": {
     "iopub.execute_input": "2022-07-25T01:11:28.974408Z",
     "iopub.status.busy": "2022-07-25T01:11:28.974017Z",
     "iopub.status.idle": "2022-07-25T01:11:32.065259Z",
     "shell.execute_reply": "2022-07-25T01:11:32.063897Z"
    },
    "papermill": {
     "duration": 3.112757,
     "end_time": "2022-07-25T01:11:32.068677",
     "exception": false,
     "start_time": "2022-07-25T01:11:28.955920",
     "status": "completed"
    },
    "tags": []
   },
   "outputs": [
    {
     "data": {
      "application/scrapbook.scrap.json+json": {
       "data": 0.01087186913783121,
       "encoder": "json",
       "name": "ABC-GAN Model 1 MSE",
       "version": 1
      }
     },
     "metadata": {
      "scrapbook": {
       "data": true,
       "display": false,
       "name": "ABC-GAN Model 1 MSE"
      }
     },
     "output_type": "display_data"
    },
    {
     "data": {
      "application/scrapbook.scrap.json+json": {
       "data": 0.07564268354955432,
       "encoder": "json",
       "name": "ABC-GAN Model 1 MAE",
       "version": 1
      }
     },
     "metadata": {
      "scrapbook": {
       "data": true,
       "display": false,
       "name": "ABC-GAN Model 1 MAE"
      }
     },
     "output_type": "display_data"
    },
    {
     "data": {
      "application/scrapbook.scrap.json+json": {
       "data": 11.648973266631366,
       "encoder": "json",
       "name": "ABC-GAN Model 1 Manhattan Distance",
       "version": 1
      }
     },
     "metadata": {
      "scrapbook": {
       "data": true,
       "display": false,
       "name": "ABC-GAN Model 1 Manhattan Distance"
      }
     },
     "output_type": "display_data"
    },
    {
     "data": {
      "application/scrapbook.scrap.json+json": {
       "data": 1.2926291092673585,
       "encoder": "json",
       "name": "ABC-GAN Model 1 Euclidean distance",
       "version": 1
      }
     },
     "metadata": {
      "scrapbook": {
       "data": true,
       "display": false,
       "name": "ABC-GAN Model 1 Euclidean distance"
      }
     },
     "output_type": "display_data"
    },
    {
     "data": {
      "application/scrapbook.scrap.json+json": {
       "data": [
        [
         0.01134679142127218,
         0.010353237964905436,
         0.01016917201397575,
         0.010756094684658157,
         0.011462765556670494,
         0.008587598817398852,
         0.00939035656373341,
         0.01176326180652067,
         0.010113939533937001,
         0.011343972165750067,
         0.011555724674506343,
         0.011040976438732841,
         0.012022798182383103,
         0.009736136723004812,
         0.01086237407982688,
         0.012597109807691307,
         0.00971992105090006,
         0.00975026390760756,
         0.010961642445309495,
         0.010495021142336296,
         0.012466558034552462,
         0.010193152182230287,
         0.011083679200767735,
         0.01008844682429641,
         0.010508568544844782,
         0.012493426753631158,
         0.008900251267317005,
         0.011323926700277756,
         0.009893157764932287,
         0.009557396521172514,
         0.010984194033044108,
         0.008884099270415322,
         0.01141598163292878,
         0.01055281915813435,
         0.010356325342244253,
         0.010023456460910565,
         0.011484302601393201,
         0.011335472675076187,
         0.010989085840935607,
         0.011135936437757238,
         0.009480544284351706,
         0.009676009595500997,
         0.011745226165768268,
         0.010569884822667856,
         0.010809725839690441,
         0.010902179474516209,
         0.010266346198008437,
         0.012436549925904667,
         0.011509529689380892,
         0.01195620508812723,
         0.011016367121521185,
         0.010880792187492593,
         0.010604134464246372,
         0.011108866429248822,
         0.011539586018824278,
         0.010347161655970258,
         0.009069162933729143,
         0.011750302602422023,
         0.011503459539783833,
         0.012604495844981583,
         0.011844331558117366,
         0.010028660962800537,
         0.012008061717564706,
         0.009446610628211928,
         0.010386413224037053,
         0.009467600071768166,
         0.01251233837082736,
         0.01001597670735358,
         0.012185103090971837,
         0.01161742935150018,
         0.00945888228349777,
         0.012154849765276384,
         0.010301752877041716,
         0.01117132463668283,
         0.012045333467675817,
         0.012051128405833316,
         0.010666620283308552,
         0.010854287740845523,
         0.01005663000874146,
         0.010363203703093059,
         0.011203055814239072,
         0.009108729001808365,
         0.011620419027474963,
         0.011100109463707755,
         0.009820631830857181,
         0.011186546643311772,
         0.010422738818412434,
         0.011176426381430902,
         0.01186295158672125,
         0.010237038217013859,
         0.012705363891046428,
         0.011759634887849289,
         0.01183152611071296,
         0.010629575714492898,
         0.012269792233598155,
         0.011773010541631854,
         0.011875803875470116,
         0.010475112973913668,
         0.010687749469549224,
         0.009328232334610108
        ],
        [
         0.07784656004665734,
         0.07448713447559964,
         0.07417879122998808,
         0.07614652797966809,
         0.07818125323815779,
         0.0685661311273451,
         0.07355751164934853,
         0.07816526990432243,
         0.07597967788770602,
         0.07840739582459648,
         0.07637021487409418,
         0.07416609935946279,
         0.07885076908709167,
         0.07326574376844741,
         0.0773984215573057,
         0.07653783019874003,
         0.0725337936022839,
         0.07164402407678691,
         0.07555427779624989,
         0.07234451232792495,
         0.08187784549671334,
         0.07399842089840344,
         0.07538531590011213,
         0.07657811079512943,
         0.07452577038051246,
         0.07886165540133204,
         0.06781850958412344,
         0.07611172462438608,
         0.07062058233014949,
         0.0741708923808553,
         0.0753985025085412,
         0.07027250179996739,
         0.07890115238048813,
         0.07607213040063908,
         0.07321126193001673,
         0.07293632137891534,
         0.07551276872490907,
         0.07514003388486899,
         0.07704514719836124,
         0.07752014846577272,
         0.07228773546876846,
         0.07386257741358374,
         0.07937367618470997,
         0.07530239451821748,
         0.07540737358587128,
         0.07647199382062082,
         0.07453491011416757,
         0.08083600236417411,
         0.07720496752238892,
         0.07719915350536247,
         0.07399071535313284,
         0.07770985263315114,
         0.07471431114456871,
         0.07563546096736734,
         0.07692154342090929,
         0.07273006415018787,
         0.06997401035064227,
         0.07854660508501066,
         0.07587107595104675,
         0.07956090738827531,
         0.07765933227809993,
         0.07478173410931191,
         0.08013995490097381,
         0.06916310449505782,
         0.07286963897285523,
         0.0710563880766367,
         0.07758112338843284,
         0.07100510814940775,
         0.07927281380473793,
         0.07560239045263885,
         0.0708594119974545,
         0.08003896097471187,
         0.07559030169209877,
         0.07838824367174854,
         0.0782296774642808,
         0.08036382356053823,
         0.0735549848865379,
         0.07716761040803674,
         0.07055262703593675,
         0.07444578348719455,
         0.07464529182036202,
         0.07002560600831911,
         0.07747864442599284,
         0.07477049776292466,
         0.07359714452902992,
         0.07752309425117133,
         0.07350427018744606,
         0.07626167757364062,
         0.0811718443481179,
         0.07516429863579861,
         0.08101199441528939,
         0.07984322343360294,
         0.08040965372672329,
         0.07350799746134064,
         0.07965342550502195,
         0.08094537388775255,
         0.07939165883830615,
         0.07475405437992765,
         0.07498306534313537,
         0.07302645719670631
        ],
        [
         11.98837024718523,
         11.471018709242344,
         11.423533849418163,
         11.726565308868885,
         12.0399129986763,
         10.559184193611145,
         11.327856793999672,
         12.037451565265656,
         11.700870394706726,
         12.074738956987858,
         11.761013090610504,
         11.42157930135727,
         12.143018439412117,
         11.2829245403409,
         11.919356919825077,
         11.786825850605965,
         11.17020421475172,
         11.033179707825184,
         11.635358780622482,
         11.141054898500443,
         12.609188206493855,
         11.39575681835413,
         11.609338648617268,
         11.793029062449932,
         11.476968638598919,
         12.144694931805134,
         10.44405047595501,
         11.721205592155457,
         10.875569678843021,
         11.422317426651716,
         11.611369386315346,
         10.821965277194977,
         12.150777466595173,
         11.715108081698418,
         11.274534337222576,
         11.232193492352962,
         11.628966383635998,
         11.571565218269825,
         11.86495266854763,
         11.938102863729,
         11.132311262190342,
         11.374836921691895,
         12.223546132445335,
         11.596568755805492,
         11.612735532224178,
         11.776687048375607,
         11.478376157581806,
         12.448744364082813,
         11.889564998447895,
         11.888669639825821,
         11.394570164382458,
         11.967317305505276,
         11.50600391626358,
         11.647860988974571,
         11.84591768682003,
         11.200429879128933,
         10.775997593998909,
         12.09617718309164,
         11.6841456964612,
         12.2523797377944,
         11.959537170827389,
         11.516387052834034,
         12.341553054749966,
         10.651118092238903,
         11.221924401819706,
         10.942683763802052,
         11.947493001818657,
         10.934786655008793,
         12.208013325929642,
         11.642768129706383,
         10.912349447607994,
         12.325999990105629,
         11.64090646058321,
         12.071789525449276,
         12.047370329499245,
         12.376028828322887,
         11.327467672526836,
         11.883812002837658,
         10.86510456353426,
         11.46465065702796,
         11.49537494033575,
         10.783943325281143,
         11.931711241602898,
         11.514656655490398,
         11.333960257470608,
         11.938556514680386,
         11.319657608866692,
         11.744298346340656,
         12.500464029610157,
         11.575301989912987,
         12.475847139954567,
         12.295856408774853,
         12.383086673915386,
         11.32023160904646,
         12.26662752777338,
         12.465587578713894,
         12.226315461099148,
         11.512124374508858,
         11.547392062842846,
         11.24607440829277
        ],
        [
         1.321894806282223,
         1.2626949934942473,
         1.2514201892858632,
         1.287027032131554,
         1.328633092967075,
         1.1499957468962323,
         1.2025451803632765,
         1.3459354806989015,
         1.2480171025375806,
         1.3217305752404724,
         1.334009595120656,
         1.303959497670406,
         1.3607023627843813,
         1.2244856288837125,
         1.2933698652331975,
         1.3928226413956881,
         1.223465504964733,
         1.2253736743424695,
         1.2992663070278019,
         1.2713116281698165,
         1.385586495791973,
         1.252894822426633,
         1.3064787012876373,
         1.2464432642289207,
         1.2721318940684163,
         1.3870788442115316,
         1.1707427963335153,
         1.320562271096208,
         1.2343201755620672,
         1.2131937455578012,
         1.3006021225143347,
         1.1696799936922746,
         1.3259189912928435,
         1.2748074954096755,
         1.262883249831755,
         1.242421947238629,
         1.3298806715696536,
         1.3212353280024467,
         1.3008917016816133,
         1.3095549669313673,
         1.2083061779988393,
         1.2206987661610678,
         1.3449032788748465,
         1.2758378669293562,
         1.290231676603984,
         1.29573748848889,
         1.2573851098582722,
         1.383917876389101,
         1.331340516984538,
         1.3569287319426888,
         1.3025054843317407,
         1.2944659118238144,
         1.2779032465307933,
         1.3079623198335335,
         1.3330777347547813,
         1.2623244016572839,
         1.181799937296617,
         1.3451938896579152,
         1.3309893948212774,
         1.393230906966668,
         1.3505654593354868,
         1.2427444581535187,
         1.3598681937985624,
         1.2061417979427778,
         1.264716425330875,
         1.2074810189200895,
         1.3881282754513047,
         1.2419582975818677,
         1.3698561515756547,
         1.3375664918541537,
         1.206924965214763,
         1.368154546771878,
         1.2595514848804015,
         1.3116340930492603,
         1.3619770020165818,
         1.3623045821321789,
         1.2816627963819176,
         1.2928883602578416,
         1.2444762036078412,
         1.2633025648182352,
         1.31349556352232,
         1.1843750530463262,
         1.337738588152089,
         1.3074466939080134,
         1.2297875027629797,
         1.3125274027882285,
         1.2669261138817507,
         1.3119335588132346,
         1.3516266290492625,
         1.2555890591352468,
         1.398794494992438,
         1.3457279712961274,
         1.3498351829204172,
         1.2794352895054546,
         1.37460830929182,
         1.3464930833135778,
         1.3523586051127112,
         1.270105270433402,
         1.282931571951747,
         1.198560711657927
        ]
       ],
       "encoder": "json",
       "name": "ABC_GAN_2 Metrics",
       "version": 1
      }
     },
     "metadata": {
      "scrapbook": {
       "data": true,
       "display": false,
       "name": "ABC_GAN_2 Metrics"
      }
     },
     "output_type": "display_data"
    },
    {
     "name": "stdout",
     "output_type": "stream",
     "text": [
      "MAE\n",
      "0.07564268354955432\n"
     ]
    }
   ],
   "source": [
    "ABC_GAN2_metrics=ABC_train_test2.test_generator(gen2,test_data,prior_model,variance,bias,\"1\",device)\n",
    "sb.glue(\"ABC_GAN_2 Metrics\",ABC_GAN2_metrics)\n",
    "\n",
    "print(\"MAE\")\n",
    "print(mean(ABC_GAN2_metrics[1]))"
   ]
  },
  {
   "cell_type": "code",
   "execution_count": 18,
   "id": "1ce2a8a8",
   "metadata": {
    "execution": {
     "iopub.execute_input": "2022-07-25T01:11:32.112766Z",
     "iopub.status.busy": "2022-07-25T01:11:32.111844Z",
     "iopub.status.idle": "2022-07-25T01:11:33.218571Z",
     "shell.execute_reply": "2022-07-25T01:11:33.217185Z"
    },
    "papermill": {
     "duration": 1.138912,
     "end_time": "2022-07-25T01:11:33.221190",
     "exception": false,
     "start_time": "2022-07-25T01:11:32.082278",
     "status": "completed"
    },
    "tags": []
   },
   "outputs": [
    {
     "data": {
      "image/png": "[encoded data removed]",
      "text/plain": [
       "<Figure size 432x288 with 1 Axes>"
      ]
     },
     "metadata": {
      "needs_background": "light"
     },
     "output_type": "display_data"
    },
    {
     "data": {
      "image/png": "[encoded data removed]",
      "text/plain": [
       "<Figure size 432x288 with 1 Axes>"
      ]
     },
     "metadata": {
      "needs_background": "light"
     },
     "output_type": "display_data"
    },
    {
     "data": {
      "image/png": "[encoded data removed]",
      "text/plain": [
       "<Figure size 432x288 with 1 Axes>"
      ]
     },
     "metadata": {
      "needs_background": "light"
     },
     "output_type": "display_data"
    },
    {
     "data": {
      "image/png": "[encoded data removed]",
      "text/plain": [
       "<Figure size 432x288 with 1 Axes>"
      ]
     },
     "metadata": {
      "needs_background": "light"
     },
     "output_type": "display_data"
    }
   ],
   "source": [
    "sanityChecks.discProbVsError(train_data,disc2,device)\n",
    "sanityChecks.discProbVsError(test_data,disc2,device)"
   ]
  },
  {
   "cell_type": "markdown",
   "id": "130f3a4d",
   "metadata": {
    "id": "130f3a4d",
    "papermill": {
     "duration": 0.023613,
     "end_time": "2022-07-25T01:11:33.261435",
     "exception": false,
     "start_time": "2022-07-25T01:11:33.237822",
     "status": "completed"
    },
    "tags": []
   },
   "source": [
    "# skipGAN Model"
   ]
  },
  {
   "cell_type": "code",
   "execution_count": 19,
   "id": "4e43dad1",
   "metadata": {
    "execution": {
     "iopub.execute_input": "2022-07-25T01:11:33.300841Z",
     "iopub.status.busy": "2022-07-25T01:11:33.300366Z",
     "iopub.status.idle": "2022-07-25T01:11:33.312472Z",
     "shell.execute_reply": "2022-07-25T01:11:33.311539Z"
    },
    "id": "4e43dad1",
    "papermill": {
     "duration": 0.036234,
     "end_time": "2022-07-25T01:11:33.315002",
     "exception": false,
     "start_time": "2022-07-25T01:11:33.278768",
     "status": "completed"
    },
    "tags": []
   },
   "outputs": [],
   "source": [
    "#Generator\n",
    "gen3 = network.GeneratorWithSkipConnection(n_features+1).to(device)\n",
    "constraints=network.weightConstraint()\n",
    "#Discriminator \n",
    "disc3 = network.Discriminator(n_features+1).to(device)\n",
    "\n",
    "criterion = torch.nn.BCELoss()\n",
    "gen_opt = torch.optim.Adam(gen3.parameters(), lr=0.01, betas=(0.5, 0.999))\n",
    "disc_opt = torch.optim.Adam(disc3.parameters(), lr=0.01, betas=(0.5, 0.999))\n"
   ]
  },
  {
   "cell_type": "code",
   "execution_count": 20,
   "id": "26acbc37",
   "metadata": {
    "execution": {
     "iopub.execute_input": "2022-07-25T01:11:33.358937Z",
     "iopub.status.busy": "2022-07-25T01:11:33.358351Z",
     "iopub.status.idle": "2022-07-25T01:19:12.626141Z",
     "shell.execute_reply": "2022-07-25T01:19:12.623933Z"
    },
    "id": "26acbc37",
    "papermill": {
     "duration": 459.293074,
     "end_time": "2022-07-25T01:19:12.629240",
     "exception": false,
     "start_time": "2022-07-25T01:11:33.336166",
     "status": "completed"
    },
    "tags": []
   },
   "outputs": [
    {
     "data": {
      "image/png": "[encoded data removed]",
      "text/plain": [
       "<Figure size 432x288 with 1 Axes>"
      ]
     },
     "metadata": {
      "needs_background": "light"
     },
     "output_type": "display_data"
    },
    {
     "data": {
      "image/png": "[encoded data removed]",
      "text/plain": [
       "<Figure size 432x288 with 1 Axes>"
      ]
     },
     "metadata": {
      "needs_background": "light"
     },
     "output_type": "display_data"
    }
   ],
   "source": [
    "ABC_train_test2.training_GAN_skip_connection(disc3,gen3,disc_opt,gen_opt,train_data,batch_size,n_epochs,criterion,prior_model,variance,bias,device)"
   ]
  },
  {
   "cell_type": "code",
   "execution_count": 21,
   "id": "c5e0717b",
   "metadata": {
    "execution": {
     "iopub.execute_input": "2022-07-25T01:19:12.677202Z",
     "iopub.status.busy": "2022-07-25T01:19:12.676727Z",
     "iopub.status.idle": "2022-07-25T01:19:14.407508Z",
     "shell.execute_reply": "2022-07-25T01:19:14.405225Z"
    },
    "id": "c5e0717b",
    "papermill": {
     "duration": 1.75916,
     "end_time": "2022-07-25T01:19:14.410444",
     "exception": false,
     "start_time": "2022-07-25T01:19:12.651284",
     "status": "completed"
    },
    "tags": []
   },
   "outputs": [
    {
     "data": {
      "application/scrapbook.scrap.json+json": {
       "data": 0.005437761522329711,
       "encoder": "json",
       "name": "ABC-GAN Model 3 MSE",
       "version": 1
      }
     },
     "metadata": {
      "scrapbook": {
       "data": true,
       "display": false,
       "name": "ABC-GAN Model 3 MSE"
      }
     },
     "output_type": "display_data"
    },
    {
     "data": {
      "application/scrapbook.scrap.json+json": {
       "data": 0.0559586175047345,
       "encoder": "json",
       "name": "ABC-GAN Model 3 MAE",
       "version": 1
      }
     },
     "metadata": {
      "scrapbook": {
       "data": true,
       "display": false,
       "name": "ABC-GAN Model 3 MAE"
      }
     },
     "output_type": "display_data"
    },
    {
     "data": {
      "application/scrapbook.scrap.json+json": {
       "data": 8.617627095729112,
       "encoder": "json",
       "name": "ABC-GAN Model 3 Manhattan Distance",
       "version": 1
      }
     },
     "metadata": {
      "scrapbook": {
       "data": true,
       "display": false,
       "name": "ABC-GAN Model 3 Manhattan Distance"
      }
     },
     "output_type": "display_data"
    },
    {
     "data": {
      "application/scrapbook.scrap.json+json": {
       "data": 0.9134345050632829,
       "encoder": "json",
       "name": "ABC-GAN Model 3 Euclidean distance",
       "version": 1
      }
     },
     "metadata": {
      "scrapbook": {
       "data": true,
       "display": false,
       "name": "ABC-GAN Model 3 Euclidean distance"
      }
     },
     "output_type": "display_data"
    },
    {
     "data": {
      "application/scrapbook.scrap.json+json": {
       "data": [
        [
         0.005893288469774303,
         0.005801414521736247,
         0.00450567111659628,
         0.005012271967034574,
         0.005682183682852163,
         0.0058243138180528765,
         0.004873528213157182,
         0.005673623379933401,
         0.005344873822411928,
         0.0060831594055704985,
         0.006079903450160738,
         0.004985209079715082,
         0.004817158174924658,
         0.0056311728006149045,
         0.0055326053434000995,
         0.006225275312423788,
         0.00576114795734983,
         0.0038411130055080686,
         0.0050261763775020386,
         0.005813685855707289,
         0.004640453057296081,
         0.005874951638703116,
         0.006017517165611423,
         0.005425322011058192,
         0.006147558440934304,
         0.005645718784461986,
         0.004407611476632835,
         0.00615277077904638,
         0.0062432614132560795,
         0.00679134210916607,
         0.006747425514438713,
         0.005329675239539637,
         0.0064392351950346574,
         0.0049954405726431545,
         0.005449390866563096,
         0.0064871039506161805,
         0.005189318315402384,
         0.005534910644023384,
         0.004963824054533983,
         0.00498964490656884,
         0.005023292973044698,
         0.005310251112092797,
         0.00560643386497468,
         0.005194045940495692,
         0.0054805087691105914,
         0.005596349315697685,
         0.004045243739727168,
         0.005302980584189188,
         0.0050128118705248656,
         0.005995416945563784,
         0.006233198133943338,
         0.00548347924346232,
         0.004753840759370253,
         0.005144343758963992,
         0.0056869430520575665,
         0.004595456552600199,
         0.0055689227140026335,
         0.005653379024801856,
         0.00702017637002554,
         0.004855760904149341,
         0.004818336992905474,
         0.0053960789287527166,
         0.00637912134007743,
         0.004763656783403061,
         0.005141024580238513,
         0.005400126570957189,
         0.00542609640704754,
         0.005107926195875704,
         0.005136874403104547,
         0.006604274736564966,
         0.006365979922495283,
         0.005013825099011323,
         0.005102276442426345,
         0.005160865048983569,
         0.006894392421698376,
         0.004033883158776277,
         0.006086228874745007,
         0.006135970206606992,
         0.004681735741065412,
         0.004818119754913141,
         0.004766590876496812,
         0.005386965892549472,
         0.004204194632261827,
         0.004440823486361539,
         0.005846260577134612,
         0.005258990663851486,
         0.005552159480258793,
         0.00538277842274833,
         0.005512904790544544,
         0.004437998670181799,
         0.005965882355868481,
         0.005417370493717915,
         0.005121885469892347,
         0.0049651763260159885,
         0.006631611463390012,
         0.004736687639297949,
         0.005256651155948999,
         0.005275926188238845,
         0.005457867325156794,
         0.006247545194651074
        ],
        [
         0.05588946399557126,
         0.05808332025424227,
         0.053142528884209596,
         0.05521198096019881,
         0.057211367098929045,
         0.05984514888811421,
         0.052556154547960726,
         0.058728590462501944,
         0.05514411662112583,
         0.05869047783992507,
         0.05956007399922841,
         0.054814627950454685,
         0.053334422941718786,
         0.05568569777654363,
         0.05575214737615028,
         0.05910599952587833,
         0.057634454994619666,
         0.048331524886481174,
         0.0544313955326359,
         0.0583639820771558,
         0.05228843312565382,
         0.06041627749800682,
         0.05557014991517191,
         0.05367031582183652,
         0.05835155499252406,
         0.056592656372042444,
         0.051797171256371906,
         0.06137460494389782,
         0.0572247172814685,
         0.061430468236084106,
         0.06227267954450149,
         0.05411825411311992,
         0.06165773677942041,
         0.05317203618295781,
         0.05349534580653364,
         0.06112202145643048,
         0.0542148140246992,
         0.05644465978075931,
         0.05501781776547432,
         0.053022379757134946,
         0.05383724840236949,
         0.05716636849494724,
         0.057196784087202766,
         0.056626552836848545,
         0.05683216621929949,
         0.05535429653215718,
         0.04860939699914548,
         0.05674509109034167,
         0.05425421279165652,
         0.05957778248113471,
         0.06028206631928295,
         0.05696406220267346,
         0.05403546761576231,
         0.05531515718086973,
         0.05572001379612204,
         0.051730462241095385,
         0.056030692847131136,
         0.05555392719514958,
         0.06107589868562562,
         0.05289142815904184,
         0.05479519461075981,
         0.05793790233793197,
         0.0594097880477255,
         0.05336006280857247,
         0.05530125691325634,
         0.05637583547791877,
         0.05656463270644089,
         0.05511876635930755,
         0.056022133871719434,
         0.06240892444144596,
         0.060427475140079276,
         0.054057773976743995,
         0.05498079108920964,
         0.05167196608789555,
         0.06325067284625846,
         0.04993138641312525,
         0.05797517459307398,
         0.05735057993949234,
         0.05392989966195899,
         0.05225920101458376,
         0.05217755793944582,
         0.054376077681005774,
         0.049313316145887624,
         0.05278732409918463,
         0.057697262711726226,
         0.05517681644527943,
         0.05498208632910406,
         0.05555925503760189,
         0.05610694063754825,
         0.05180446876140384,
         0.056794528305143505,
         0.054944643581455406,
         0.05607906627384099,
         0.05344174139491924,
         0.06034542315385558,
         0.0524557243984241,
         0.05645692837122199,
         0.0563120229000395,
         0.053215040256837744,
         0.062135460266432206
        ],
        [
         8.606977455317974,
         8.944831319153309,
         8.183949448168278,
         8.502645067870617,
         8.810550533235073,
         9.216152928769588,
         8.093647800385952,
         9.0442029312253,
         8.492193959653378,
         9.038333587348461,
         9.172251395881176,
         8.441452704370022,
         8.213501133024693,
         8.575597457587719,
         8.585830695927143,
         9.102323926985264,
         8.875706069171429,
         7.443054832518101,
         8.382434912025928,
         8.988053239881992,
         8.052418701350689,
         9.30410673469305,
         8.557803086936474,
         8.265228636562824,
         8.986139468848705,
         8.715269081294537,
         7.976764373481274,
         9.451689161360264,
         8.81260646134615,
         9.460292108356953,
         9.58999264985323,
         8.334211133420467,
         9.495291464030743,
         8.188493572175503,
         8.23828325420618,
         9.412791304290295,
         8.349081359803677,
         8.692477606236935,
         8.472743935883045,
         8.165446482598782,
         8.290936253964901,
         8.803620748221874,
         8.808304749429226,
         8.720489136874676,
         8.752153597772121,
         8.524561665952206,
         7.485847137868404,
         8.738744027912617,
         8.355148769915104,
         9.174978502094746,
         9.283438213169575,
         8.772465579211712,
         8.321462012827396,
         8.518534205853939,
         8.580882124602795,
         7.966491185128689,
         8.628726698458195,
         8.555304788053036,
         9.405688397586346,
         8.145279936492443,
         8.43845997005701,
         8.922436960041523,
         9.149107359349728,
         8.21744967252016,
         8.516393564641476,
         8.681878663599491,
         8.710953436791897,
         8.488290019333363,
         8.627408616244793,
         9.610974363982677,
         9.305831171572208,
         8.324897192418575,
         8.467041827738285,
         7.957482777535915,
         9.740603618323803,
         7.689433507621288,
         8.928176887333393,
         8.83198931068182,
         8.305204547941685,
         8.0479169562459,
         8.035343922674656,
         8.37391596287489,
         7.594250686466694,
         8.129247911274433,
         8.885378457605839,
         8.497229732573032,
         8.467241294682026,
         8.556125275790691,
         8.64046885818243,
         7.977888189256191,
         8.7463573589921,
         8.461475111544132,
         8.636176206171513,
         8.230028174817562,
         9.29319516569376,
         8.078181557357311,
         8.694366969168186,
         8.672051526606083,
         8.195116199553013,
         9.56886088103056
        ],
        [
         0.9526628072645864,
         0.9452078270662922,
         0.8329906073635087,
         0.8785726395257961,
         0.9354444329618051,
         0.9470714481918157,
         0.8663275043689921,
         0.934739536186281,
         0.9072544123075053,
         0.9678876734713883,
         0.9676286122912828,
         0.8761975794740149,
         0.8613027103976844,
         0.9312360663627108,
         0.9230499568731994,
         0.9791283869407849,
         0.9419218573915109,
         0.7691107871095312,
         0.8797904080718963,
         0.9462069656153047,
         0.8453577768161812,
         0.951179558422215,
         0.9626513613474814,
         0.9140566665710401,
         0.9729974305741422,
         0.9324380369800161,
         0.8238763058866644,
         0.973409831454944,
         0.9805418184052306,
         1.0226762365536683,
         1.019364276999916,
         0.905963568190854,
         0.9958123417769722,
         0.8770962593621329,
         0.9160819796561422,
         0.9995068826150683,
         0.8939547083448731,
         0.9232422429566365,
         0.8743162496478224,
         0.8765873120297837,
         0.8795380138736947,
         0.904311158430709,
         0.9291882560633775,
         0.8943618254578717,
         0.9186938284559394,
         0.928352193199027,
         0.7892829251402718,
         0.9036918777797746,
         0.8786199565573442,
         0.9608819956773167,
         0.9797512503831134,
         0.9189427639919677,
         0.8556234434276675,
         0.8900724346256629,
         0.9358361127979969,
         0.8412492550370732,
         0.9260745639290637,
         0.9330703991765498,
         1.0397630311681278,
         0.864746887383238,
         0.8614080896459256,
         0.9115899050713091,
         0.9911532103423387,
         0.8565063599554129,
         0.8897852467627967,
         0.9119317364405118,
         0.9141218992483011,
         0.8869163625533462,
         0.8894260273221715,
         1.0084930884398786,
         0.9901317629812073,
         0.8787087488171172,
         0.8864257284926116,
         0.8915005426490046,
         1.0304059554086196,
         0.7881738427856806,
         0.9681318333319751,
         0.9720799410632218,
         0.849109712654421,
         0.861388670842973,
         0.8567700945881043,
         0.910819821618205,
         0.8046402757557698,
         0.826974495918512,
         0.9488541135910885,
         0.8999358656221724,
         0.9246797066875936,
         0.9104657473531022,
         0.9214050888419597,
         0.826711434061485,
         0.9585123279351946,
         0.9133865862998859,
         0.8881274471400045,
         0.874435334491043,
         1.0105781342192508,
         0.8540783901094114,
         0.8997356711924596,
         0.9013837323741659,
         0.9167941797776348,
         0.9808781575589628
        ]
       ],
       "encoder": "json",
       "name": "ABC_GAN_3 Metrics",
       "version": 1
      }
     },
     "metadata": {
      "scrapbook": {
       "data": true,
       "display": false,
       "name": "ABC_GAN_3 Metrics"
      }
     },
     "output_type": "display_data"
    },
    {
     "name": "stdout",
     "output_type": "stream",
     "text": [
      "MAE\n",
      "0.0559586175047345\n"
     ]
    }
   ],
   "source": [
    "ABC_GAN3_metrics=ABC_train_test2.test_generator(gen3,test_data,prior_model,variance,bias,\"3\",device)\n",
    "sb.glue(\"ABC_GAN_3 Metrics\",ABC_GAN3_metrics)\n",
    "\n",
    "print(\"MAE\")\n",
    "print(mean(ABC_GAN3_metrics[1]))"
   ]
  },
  {
   "cell_type": "code",
   "execution_count": 22,
   "id": "c8e46b48",
   "metadata": {
    "execution": {
     "iopub.execute_input": "2022-07-25T01:19:14.452261Z",
     "iopub.status.busy": "2022-07-25T01:19:14.451951Z",
     "iopub.status.idle": "2022-07-25T01:19:15.490327Z",
     "shell.execute_reply": "2022-07-25T01:19:15.489068Z"
    },
    "id": "c8e46b48",
    "papermill": {
     "duration": 1.062672,
     "end_time": "2022-07-25T01:19:15.493389",
     "exception": false,
     "start_time": "2022-07-25T01:19:14.430717",
     "status": "completed"
    },
    "tags": []
   },
   "outputs": [
    {
     "data": {
      "image/png": "[encoded data removed]",
      "text/plain": [
       "<Figure size 432x288 with 1 Axes>"
      ]
     },
     "metadata": {
      "needs_background": "light"
     },
     "output_type": "display_data"
    },
    {
     "data": {
      "image/png": "[encoded data removed]",
      "text/plain": [
       "<Figure size 432x288 with 1 Axes>"
      ]
     },
     "metadata": {
      "needs_background": "light"
     },
     "output_type": "display_data"
    },
    {
     "data": {
      "image/png": "[encoded data removed]",
      "text/plain": [
       "<Figure size 432x288 with 1 Axes>"
      ]
     },
     "metadata": {
      "needs_background": "light"
     },
     "output_type": "display_data"
    },
    {
     "data": {
      "image/png": "[encoded data removed]",
      "text/plain": [
       "<Figure size 432x288 with 1 Axes>"
      ]
     },
     "metadata": {
      "needs_background": "light"
     },
     "output_type": "display_data"
    }
   ],
   "source": [
    "sanityChecks.discProbVsError(train_data,disc3,device)\n",
    "sanityChecks.discProbVsError(test_data,disc3,device)"
   ]
  },
  {
   "cell_type": "markdown",
   "id": "c84553dc",
   "metadata": {
    "id": "130f3a4d",
    "papermill": {
     "duration": 0.021067,
     "end_time": "2022-07-25T01:19:15.537045",
     "exception": false,
     "start_time": "2022-07-25T01:19:15.515978",
     "status": "completed"
    },
    "tags": []
   },
   "source": [
    "# skipGAN Model with TabNet Generator"
   ]
  },
  {
   "cell_type": "code",
   "execution_count": 23,
   "id": "9467549a",
   "metadata": {
    "execution": {
     "iopub.execute_input": "2022-07-25T01:19:15.582527Z",
     "iopub.status.busy": "2022-07-25T01:19:15.581978Z",
     "iopub.status.idle": "2022-07-25T01:19:15.600912Z",
     "shell.execute_reply": "2022-07-25T01:19:15.600023Z"
    },
    "id": "4e43dad1",
    "papermill": {
     "duration": 0.045047,
     "end_time": "2022-07-25T01:19:15.603689",
     "exception": false,
     "start_time": "2022-07-25T01:19:15.558642",
     "status": "completed"
    },
    "tags": []
   },
   "outputs": [],
   "source": [
    "#Generator\n",
    "gen4 = network.GeneratorTabnetskipConnection(n_features+1).to(device)\n",
    "constraints=network.weightConstraint()\n",
    "#Discriminator \n",
    "disc4 = network.Discriminator(n_features+1).to(device)\n",
    "\n",
    "criterion = torch.nn.BCELoss()\n",
    "gen_opt = torch.optim.Adam(gen4.parameters(), lr=0.01, betas=(0.5, 0.999))\n",
    "disc_opt = torch.optim.Adam(disc4.parameters(), lr=0.01, betas=(0.5, 0.999))\n"
   ]
  },
  {
   "cell_type": "code",
   "execution_count": 24,
   "id": "e173de5c",
   "metadata": {
    "execution": {
     "iopub.execute_input": "2022-07-25T01:19:15.651741Z",
     "iopub.status.busy": "2022-07-25T01:19:15.649949Z",
     "iopub.status.idle": "2022-07-25T01:41:09.954341Z",
     "shell.execute_reply": "2022-07-25T01:41:09.952005Z"
    },
    "id": "26acbc37",
    "papermill": {
     "duration": 1314.333882,
     "end_time": "2022-07-25T01:41:09.958295",
     "exception": false,
     "start_time": "2022-07-25T01:19:15.624413",
     "status": "completed"
    },
    "tags": []
   },
   "outputs": [
    {
     "data": {
      "image/png": "[encoded data removed]",
      "text/plain": [
       "<Figure size 432x288 with 1 Axes>"
      ]
     },
     "metadata": {
      "needs_background": "light"
     },
     "output_type": "display_data"
    },
    {
     "data": {
      "image/png": "[encoded data removed]",
      "text/plain": [
       "<Figure size 432x288 with 1 Axes>"
      ]
     },
     "metadata": {
      "needs_background": "light"
     },
     "output_type": "display_data"
    }
   ],
   "source": [
    "ABC_train_test2.training_GAN_skip_connection(disc4,gen4,disc_opt,gen_opt,train_data,batch_size,n_epochs,criterion,prior_model,variance,bias,device)"
   ]
  },
  {
   "cell_type": "code",
   "execution_count": 25,
   "id": "50325236",
   "metadata": {
    "execution": {
     "iopub.execute_input": "2022-07-25T01:41:10.010162Z",
     "iopub.status.busy": "2022-07-25T01:41:10.009786Z",
     "iopub.status.idle": "2022-07-25T01:41:13.325218Z",
     "shell.execute_reply": "2022-07-25T01:41:13.322893Z"
    },
    "id": "c5e0717b",
    "papermill": {
     "duration": 3.346218,
     "end_time": "2022-07-25T01:41:13.330264",
     "exception": false,
     "start_time": "2022-07-25T01:41:09.984046",
     "status": "completed"
    },
    "tags": []
   },
   "outputs": [
    {
     "data": {
      "application/scrapbook.scrap.json+json": {
       "data": 0.008995230936624661,
       "encoder": "json",
       "name": "ABC-GAN Model 3 MSE",
       "version": 1
      }
     },
     "metadata": {
      "scrapbook": {
       "data": true,
       "display": false,
       "name": "ABC-GAN Model 3 MSE"
      }
     },
     "output_type": "display_data"
    },
    {
     "data": {
      "application/scrapbook.scrap.json+json": {
       "data": 0.07215231246375418,
       "encoder": "json",
       "name": "ABC-GAN Model 3 MAE",
       "version": 1
      }
     },
     "metadata": {
      "scrapbook": {
       "data": true,
       "display": false,
       "name": "ABC-GAN Model 3 MAE"
      }
     },
     "output_type": "display_data"
    },
    {
     "data": {
      "application/scrapbook.scrap.json+json": {
       "data": 11.111456119418143,
       "encoder": "json",
       "name": "ABC-GAN Model 3 Manhattan Distance",
       "version": 1
      }
     },
     "metadata": {
      "scrapbook": {
       "data": true,
       "display": false,
       "name": "ABC-GAN Model 3 Manhattan Distance"
      }
     },
     "output_type": "display_data"
    },
    {
     "data": {
      "application/scrapbook.scrap.json+json": {
       "data": 1.1749104359751223,
       "encoder": "json",
       "name": "ABC-GAN Model 3 Euclidean distance",
       "version": 1
      }
     },
     "metadata": {
      "scrapbook": {
       "data": true,
       "display": false,
       "name": "ABC-GAN Model 3 Euclidean distance"
      }
     },
     "output_type": "display_data"
    },
    {
     "data": {
      "application/scrapbook.scrap.json+json": {
       "data": [
        [
         0.009772079941170573,
         0.00977361271756613,
         0.00916800345826783,
         0.008394462299439966,
         0.008455747277100127,
         0.008641820211901506,
         0.009880668227973519,
         0.011039036652861198,
         0.0075233578813752285,
         0.007688545109146022,
         0.009996591217276054,
         0.007937380403842922,
         0.010566195847873149,
         0.009205571474856738,
         0.008796520338503522,
         0.007884944338437951,
         0.00850965924667391,
         0.010130404421093501,
         0.00797540328734177,
         0.010898569450528289,
         0.008539336736309315,
         0.010324644184650456,
         0.008855700621203996,
         0.008950922963237268,
         0.00921751676497806,
         0.009103319897234355,
         0.008900823413743807,
         0.008529509895934987,
         0.008229361718209332,
         0.006098683858634618,
         0.009386421501952355,
         0.01208153489523727,
         0.009303022700546837,
         0.009427511103423636,
         0.009979324037901648,
         0.00870038488240119,
         0.009871255502347508,
         0.010544737463973474,
         0.007624473323285452,
         0.009680764234163638,
         0.01038258731324952,
         0.009342013918512264,
         0.008575206681441254,
         0.008580604371356902,
         0.008562505145915826,
         0.009685327068501982,
         0.009474059199424982,
         0.007744987216364679,
         0.009368729938097082,
         0.005488499335617706,
         0.00968633568096212,
         0.009341434337217042,
         0.007304343131851019,
         0.008586304346652892,
         0.007415191952163597,
         0.00797102754107779,
         0.010672394128192163,
         0.007791735488036413,
         0.010633715237695202,
         0.00868772192159334,
         0.008968341560081198,
         0.00970777664315031,
         0.010551883012716782,
         0.00940034298036041,
         0.0082834394325489,
         0.008678235510475625,
         0.009190680909076683,
         0.008322972595074436,
         0.009659707268375553,
         0.0073472939961719335,
         0.00827978000833451,
         0.008769399422254501,
         0.009092672816097554,
         0.0077849423624768155,
         0.008105675074442893,
         0.007786822308557453,
         0.00903831915255042,
         0.01038701048880436,
         0.008303123751687192,
         0.009721772473781485,
         0.00769573386575387,
         0.007894158178834643,
         0.007992668464310746,
         0.009090494838700811,
         0.008583473563064416,
         0.009434980458788118,
         0.007893934247273407,
         0.009360374813026895,
         0.009323682015041933,
         0.01018756781924159,
         0.009369137942667938,
         0.010613590367705329,
         0.009949914472988583,
         0.008268672478618797,
         0.009109693486307911,
         0.009281697074211285,
         0.009045293998437686,
         0.008598067241181818,
         0.010357630524759517,
         0.009209588588008938
        ],
        [
         0.07698202157368908,
         0.07284197961161663,
         0.06879642620295673,
         0.06602359606654613,
         0.06966818932008434,
         0.07498022009219442,
         0.07662461238441529,
         0.07951326363466003,
         0.06717689069254058,
         0.06301450531010504,
         0.07274178517135707,
         0.06560164801292605,
         0.07689413288003438,
         0.07205916916975727,
         0.07436661872190314,
         0.06397941829515742,
         0.06607310227178909,
         0.07637602018264981,
         0.0676474684921952,
         0.07994781497430492,
         0.07068491586810582,
         0.07693205643203352,
         0.07194129479202357,
         0.07460645707203196,
         0.07503489777445793,
         0.0723669169494858,
         0.07247959807902188,
         0.07559301767062832,
         0.07312619923190637,
         0.06068714877421206,
         0.07392028462770697,
         0.07877257538886813,
         0.07544910515864174,
         0.07315219256591488,
         0.07821167400711543,
         0.06672667387824555,
         0.0732240407401091,
         0.07700287807103876,
         0.06754753366112709,
         0.07781160221277893,
         0.07772851759543667,
         0.07050239057703452,
         0.07264265529327578,
         0.07083072624616808,
         0.07321040008168717,
         0.07310998889726478,
         0.07248260869414776,
         0.06793934672877386,
         0.0734601595088259,
         0.059579516627958844,
         0.07616867158900607,
         0.07585698477440066,
         0.06751358823536278,
         0.07372090225289395,
         0.0665668575697905,
         0.06436985658554288,
         0.07564527565589199,
         0.06768350240278553,
         0.0783919058740139,
         0.0724288278876187,
         0.0739960807387705,
         0.07288360223174095,
         0.07509421126602532,
         0.07390592261761814,
         0.07132632232138089,
         0.06357542681810144,
         0.07621044128552659,
         0.07069028667234756,
         0.07460803088623208,
         0.06512785204625748,
         0.06967402080243285,
         0.06895481054852536,
         0.07418523027331798,
         0.06827862720404353,
         0.06831028530156458,
         0.06904271288545101,
         0.07673856756323344,
         0.07743868904260846,
         0.06958493043656473,
         0.07370150935920802,
         0.06927896218446943,
         0.06398344093135425,
         0.07310136799494941,
         0.07351756855458408,
         0.07040265313797182,
         0.07850282431229369,
         0.06557191739028151,
         0.07622553761322777,
         0.07355331740789599,
         0.07738494742419813,
         0.07149741967970674,
         0.0778343111953952,
         0.07735273682258346,
         0.07013261477862086,
         0.07525314172947561,
         0.07024643458909803,
         0.07312579777140121,
         0.0705730886525148,
         0.07508071110426605,
         0.07287226370596267
        ],
        [
         11.855231322348118,
         11.217664860188961,
         10.594649635255337,
         10.167633794248104,
         10.728901155292988,
         11.54695389419794,
         11.800190307199955,
         12.245042599737644,
         10.345241166651249,
         9.704233817756176,
         11.202234916388988,
         10.102653793990612,
         11.841696463525295,
         11.09711205214262,
         11.452459283173084,
         9.852830417454243,
         10.175257749855518,
         11.76190710812807,
         10.417710147798061,
         12.311963506042957,
         10.885477043688297,
         11.847536690533161,
         11.07895939797163,
         11.489394389092922,
         11.555374257266521,
         11.144505210220814,
         11.161858104169369,
         11.64132472127676,
         11.261434681713581,
         9.345820911228657,
         11.383723832666874,
         12.130976609885693,
         11.619162194430828,
         11.26543765515089,
         12.044597797095776,
         10.275907777249813,
         11.276502273976803,
         11.858443222939968,
         10.402320183813572,
         11.982986740767956,
         11.970191709697247,
         10.857368148863316,
         11.18696891516447,
         10.907931841909885,
         11.274401612579823,
         11.258938290178776,
         11.162321738898754,
         10.462659396231174,
         11.312864564359188,
         9.175245560705662,
         11.729975424706936,
         11.681975655257702,
         10.397092588245869,
         11.353018946945667,
         10.251296065747738,
         9.912957914173603,
         11.649372451007366,
         10.423259370028973,
         12.07235350459814,
         11.15403949469328,
         11.395396433770657,
         11.224074743688107,
         11.5645085349679,
         11.381512083113194,
         10.984253637492657,
         9.790615729987621,
         11.736407957971096,
         10.886304147541523,
         11.48963675647974,
         10.029689215123653,
         10.729799203574657,
         10.619040824472904,
         11.424525462090969,
         10.514908589422703,
         10.519783936440945,
         10.632577784359455,
         11.81773940473795,
         11.925558112561703,
         10.716079287230968,
         11.350032441318035,
         10.66896017640829,
         9.853449903428555,
         11.25761067122221,
         11.321705557405949,
         10.842008583247662,
         12.089434944093227,
         10.098075278103352,
         11.738732792437077,
         11.327210880815983,
         11.917281903326511,
         11.010602630674839,
         11.986483924090862,
         11.912321470677853,
         10.800422675907612,
         11.588983826339245,
         10.817950926721096,
         11.261372856795788,
         10.868255652487278,
         11.562429510056973,
         11.22232861071825
        ],
        [
         1.2267437837381807,
         1.2268399889574777,
         1.1882224255471894,
         1.1369904107395783,
         1.1411332440488358,
         1.153620523670081,
         1.2335408007471507,
         1.303844946510368,
         1.0763814907976563,
         1.0881341584604756,
         1.2407558371656013,
         1.1056023616978257,
         1.2756152086630455,
         1.1906544448864824,
         1.1639003961377203,
         1.1019443852207083,
         1.1447652702575242,
         1.2490325379462295,
         1.1082473127649046,
         1.2955229428232278,
         1.1467597208620621,
         1.2609501197256656,
         1.167809015064285,
         1.1740707544004916,
         1.1914267001400554,
         1.1840233376813527,
         1.1707804259196284,
         1.146099700712808,
         1.1257538383697552,
         0.9691219294958355,
         1.2022931885778372,
         1.3640221310032103,
         1.1969400552593321,
         1.204921868806123,
         1.2396837910680505,
         1.1575229033975023,
         1.23295310022787,
         1.2743192572710793,
         1.0835907399871778,
         1.2209986453969555,
         1.2644834701333292,
         1.1994457651144084,
         1.1491657099574253,
         1.1495273259861911,
         1.1483143265112725,
         1.2212863581278985,
         1.207892841568095,
         1.092120886770398,
         1.2011596107374534,
         0.9193633110392903,
         1.2213499477496883,
         1.1994085575530233,
         1.0605983416473255,
         1.1499090700505608,
         1.0686157216853933,
         1.1079432482424267,
         1.2820096316883087,
         1.095411915745674,
         1.279684393358402,
         1.1566802392733155,
         1.175212576622844,
         1.2227009458756248,
         1.2747509497774003,
         1.2031844492743011,
         1.1294466222945334,
         1.1560485580689275,
         1.189691077548205,
         1.1321385867646518,
         1.2196700042756792,
         1.0637120265421829,
         1.1291971135649943,
         1.1621047762689873,
         1.1833307287816974,
         1.0949343011438766,
         1.1172618141976416,
         1.0950664982172762,
         1.1797886037306704,
         1.2647527882064034,
         1.1307878040374453,
         1.2235820205292118,
         1.088642739986859,
         1.1025880280234024,
         1.1094462328134045,
         1.18318899807255,
         1.149719500013773,
         1.205399100154538,
         1.1025723894965376,
         1.2006238883206273,
         1.1982683465386448,
         1.2525515734544446,
         1.2011857654712956,
         1.278472884587945,
         1.2378557382991937,
         1.128439436437461,
         1.1844377556002756,
         1.1955673755286809,
         1.1802437357424964,
         1.1506964652513711,
         1.2629628263781028,
         1.1909142045308623
        ]
       ],
       "encoder": "json",
       "name": "ABC_GAN_4 Metrics",
       "version": 1
      }
     },
     "metadata": {
      "scrapbook": {
       "data": true,
       "display": false,
       "name": "ABC_GAN_4 Metrics"
      }
     },
     "output_type": "display_data"
    },
    {
     "name": "stdout",
     "output_type": "stream",
     "text": [
      "MAE\n",
      "0.07215231246375418\n"
     ]
    }
   ],
   "source": [
    "ABC_GAN4_metrics=ABC_train_test2.test_generator(gen4,test_data,prior_model,variance,bias,\"3\",device)\n",
    "sb.glue(\"ABC_GAN_4 Metrics\",ABC_GAN4_metrics)\n",
    "\n",
    "print(\"MAE\")\n",
    "print(mean(ABC_GAN4_metrics[1]))"
   ]
  },
  {
   "cell_type": "code",
   "execution_count": 26,
   "id": "6a006315",
   "metadata": {
    "execution": {
     "iopub.execute_input": "2022-07-25T01:41:13.400668Z",
     "iopub.status.busy": "2022-07-25T01:41:13.399716Z",
     "iopub.status.idle": "2022-07-25T01:41:14.750693Z",
     "shell.execute_reply": "2022-07-25T01:41:14.749648Z"
    },
    "id": "c8e46b48",
    "papermill": {
     "duration": 1.390041,
     "end_time": "2022-07-25T01:41:14.753348",
     "exception": false,
     "start_time": "2022-07-25T01:41:13.363307",
     "status": "completed"
    },
    "tags": []
   },
   "outputs": [
    {
     "data": {
      "image/png": "[encoded data removed]",
      "text/plain": [
       "<Figure size 432x288 with 1 Axes>"
      ]
     },
     "metadata": {
      "needs_background": "light"
     },
     "output_type": "display_data"
    },
    {
     "data": {
      "image/png": "[encoded data removed]",
      "text/plain": [
       "<Figure size 432x288 with 1 Axes>"
      ]
     },
     "metadata": {
      "needs_background": "light"
     },
     "output_type": "display_data"
    },
    {
     "data": {
      "image/png": "[encoded data removed]",
      "text/plain": [
       "<Figure size 432x288 with 1 Axes>"
      ]
     },
     "metadata": {
      "needs_background": "light"
     },
     "output_type": "display_data"
    },
    {
     "data": {
      "image/png": "[encoded data removed]",
      "text/plain": [
       "<Figure size 432x288 with 1 Axes>"
      ]
     },
     "metadata": {
      "needs_background": "light"
     },
     "output_type": "display_data"
    }
   ],
   "source": [
    "sanityChecks.discProbVsError(train_data,disc4,device)\n",
    "sanityChecks.discProbVsError(test_data,disc4,device)"
   ]
  },
  {
   "cell_type": "markdown",
   "id": "a5bd74c3",
   "metadata": {
    "id": "a5bd74c3",
    "papermill": {
     "duration": 0.030689,
     "end_time": "2022-07-25T01:41:14.817621",
     "exception": false,
     "start_time": "2022-07-25T01:41:14.786932",
     "status": "completed"
    },
    "tags": []
   },
   "source": [
    "## Skip Connection Model Analysis - ABC-GAN "
   ]
  },
  {
   "cell_type": "markdown",
   "id": "5744a8bf",
   "metadata": {
    "id": "5744a8bf",
    "papermill": {
     "duration": 0.029697,
     "end_time": "2022-07-25T01:41:14.883150",
     "exception": false,
     "start_time": "2022-07-25T01:41:14.853453",
     "status": "completed"
    },
    "tags": []
   },
   "source": [
    "### Weight Analysis \n",
    "\n",
    "Study the weights of the skip connection layer\n",
    "\n",
    "Equation of the skip connection is \n",
    "\n",
    "$output = y_{gan} * w + y_{abc} * (1-w)$"
   ]
  },
  {
   "cell_type": "code",
   "execution_count": 27,
   "id": "52c31dea",
   "metadata": {
    "execution": {
     "iopub.execute_input": "2022-07-25T01:41:14.955646Z",
     "iopub.status.busy": "2022-07-25T01:41:14.955183Z",
     "iopub.status.idle": "2022-07-25T01:41:14.982762Z",
     "shell.execute_reply": "2022-07-25T01:41:14.981739Z"
    },
    "id": "52c31dea",
    "papermill": {
     "duration": 0.080645,
     "end_time": "2022-07-25T01:41:14.995083",
     "exception": false,
     "start_time": "2022-07-25T01:41:14.914438",
     "status": "completed"
    },
    "tags": []
   },
   "outputs": [
    {
     "name": "stdout",
     "output_type": "stream",
     "text": [
      "Weight of the node at skip connection\n",
      "Parameter containing:\n",
      "tensor([[0.2215]], requires_grad=True)\n"
     ]
    },
    {
     "data": {
      "application/scrapbook.scrap.json+json": {
       "data": 0.2215450257062912,
       "encoder": "json",
       "name": "Skip Connection Weight",
       "version": 1
      }
     },
     "metadata": {
      "scrapbook": {
       "data": true,
       "display": false,
       "name": "Skip Connection Weight"
      }
     },
     "output_type": "display_data"
    }
   ],
   "source": [
    "print(\"Weight of the node at skip connection\")\n",
    "for name,param in gen3.named_parameters():\n",
    "    if(name == \"skipNode.weight\"):\n",
    "        print(param)\n",
    "        sb.glue(\"Skip Connection Weight\",param.item())"
   ]
  },
  {
   "cell_type": "markdown",
   "id": "064bfe17",
   "metadata": {
    "id": "a5bd74c3",
    "papermill": {
     "duration": 0.053162,
     "end_time": "2022-07-25T01:41:15.075462",
     "exception": false,
     "start_time": "2022-07-25T01:41:15.022300",
     "status": "completed"
    },
    "tags": []
   },
   "source": [
    "## skipGAN Model Analysis (TabNet Generator) "
   ]
  },
  {
   "cell_type": "markdown",
   "id": "5905e24c",
   "metadata": {
    "id": "5744a8bf",
    "papermill": {
     "duration": 0.043306,
     "end_time": "2022-07-25T01:41:15.157011",
     "exception": false,
     "start_time": "2022-07-25T01:41:15.113705",
     "status": "completed"
    },
    "tags": []
   },
   "source": [
    "### Weight Analysis \n",
    "\n",
    "Study the weights of the skip connection layer\n",
    "\n",
    "Equation of the skip connection is \n",
    "\n",
    "$output = y_{gan} * w + y_{abc} * (1-w)$"
   ]
  },
  {
   "cell_type": "code",
   "execution_count": 28,
   "id": "09cd5015",
   "metadata": {
    "execution": {
     "iopub.execute_input": "2022-07-25T01:41:15.279285Z",
     "iopub.status.busy": "2022-07-25T01:41:15.278694Z",
     "iopub.status.idle": "2022-07-25T01:41:15.295326Z",
     "shell.execute_reply": "2022-07-25T01:41:15.293749Z"
    },
    "id": "52c31dea",
    "papermill": {
     "duration": 0.094372,
     "end_time": "2022-07-25T01:41:15.299928",
     "exception": false,
     "start_time": "2022-07-25T01:41:15.205556",
     "status": "completed"
    },
    "tags": []
   },
   "outputs": [
    {
     "name": "stdout",
     "output_type": "stream",
     "text": [
      "Weight of the node at skip connection\n",
      "Parameter containing:\n",
      "tensor([[0.3134]], requires_grad=True)\n"
     ]
    },
    {
     "data": {
      "application/scrapbook.scrap.json+json": {
       "data": 0.3134097456932068,
       "encoder": "json",
       "name": "Skip Connection Weight",
       "version": 1
      }
     },
     "metadata": {
      "scrapbook": {
       "data": true,
       "display": false,
       "name": "Skip Connection Weight"
      }
     },
     "output_type": "display_data"
    }
   ],
   "source": [
    "print(\"Weight of the node at skip connection\")\n",
    "for name,param in gen4.named_parameters():\n",
    "    if(name == \"skipNode.weight\"):\n",
    "        print(param)\n",
    "        sb.glue(\"Skip Connection Weight\",param.item())"
   ]
  }
 ],
 "metadata": {
  "colab": {
   "collapsed_sections": [],
   "name": "ABC_GAN_Model-Catboost_Pre-gen.ipynb",
   "provenance": []
  },
  "interpreter": {
   "hash": "31f2aee4e71d21fbe5cf8b01ff0e069b9275f58929596ceb00d14d90e3e16cd6"
  },
  "kernelspec": {
   "display_name": "Python 3 (ipykernel)",
   "language": "python",
   "name": "python3"
  },
  "language_info": {
   "codemirror_mode": {
    "name": "ipython",
    "version": 3
   },
   "file_extension": ".py",
   "mimetype": "text/x-python",
   "name": "python",
   "nbconvert_exporter": "python",
   "pygments_lexer": "ipython3",
   "version": "3.8.13"
  },
  "papermill": {
   "default_parameters": {},
   "duration": 2795.987295,
   "end_time": "2022-07-25T01:41:16.459986",
   "environment_variables": {},
   "exception": null,
   "input_path": "ABC_GAN-Catboost.ipynb",
   "output_path": "./ABC_GAN_Catboost/ABC-GAN_output_2_1.ipynb",
   "parameters": {
    "bias": 1,
    "variance": 0.1
   },
   "start_time": "2022-07-25T00:54:40.472691",
   "version": "2.3.3"
  }
 },
 "nbformat": 4,
 "nbformat_minor": 5
}