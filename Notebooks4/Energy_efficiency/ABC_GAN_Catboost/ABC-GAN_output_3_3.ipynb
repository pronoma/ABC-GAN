{
 "cells": [
  {
   "cell_type": "markdown",
   "id": "0fbcf9b2",
   "metadata": {
    "tags": [
     "papermill-error-cell-tag"
    ]
   },
   "source": [
    "<span style=\"color:red; font-family:Helvetica Neue, Helvetica, Arial, sans-serif; font-size:2em;\">An Exception was encountered at '<a href=\"#papermill-error-cell\">In [20]</a>'.</span>"
   ]
  },
  {
   "cell_type": "markdown",
   "id": "622780e6",
   "metadata": {
    "id": "622780e6",
    "papermill": {
     "duration": 0.010243,
     "end_time": "2022-07-24T12:58:46.289139",
     "exception": false,
     "start_time": "2022-07-24T12:58:46.278896",
     "status": "completed"
    },
    "tags": []
   },
   "source": [
    "## Import Libraries "
   ]
  },
  {
   "cell_type": "code",
   "execution_count": 1,
   "id": "a62397e3",
   "metadata": {
    "execution": {
     "iopub.execute_input": "2022-07-24T12:58:46.313974Z",
     "iopub.status.busy": "2022-07-24T12:58:46.312834Z",
     "iopub.status.idle": "2022-07-24T12:58:46.328644Z",
     "shell.execute_reply": "2022-07-24T12:58:46.327462Z"
    },
    "id": "a62397e3",
    "papermill": {
     "duration": 0.034821,
     "end_time": "2022-07-24T12:58:46.336942",
     "exception": false,
     "start_time": "2022-07-24T12:58:46.302121",
     "status": "completed"
    },
    "tags": []
   },
   "outputs": [],
   "source": [
    "import warnings\n",
    "import sys\n",
    "sys.path.insert(0, '../../src')\n",
    "warnings.filterwarnings('ignore')"
   ]
  },
  {
   "cell_type": "code",
   "execution_count": 2,
   "id": "d6a4e155",
   "metadata": {
    "execution": {
     "iopub.execute_input": "2022-07-24T12:58:46.358310Z",
     "iopub.status.busy": "2022-07-24T12:58:46.357336Z",
     "iopub.status.idle": "2022-07-24T12:58:57.084609Z",
     "shell.execute_reply": "2022-07-24T12:58:57.083754Z"
    },
    "id": "d6a4e155",
    "papermill": {
     "duration": 10.739556,
     "end_time": "2022-07-24T12:58:57.087590",
     "exception": false,
     "start_time": "2022-07-24T12:58:46.348034",
     "status": "completed"
    },
    "tags": []
   },
   "outputs": [],
   "source": [
    "import ABC_train_test2\n",
    "import energyefficiencyDataset\n",
    "import network\n",
    "import dataset\n",
    "import sanityChecks\n",
    "import torch \n",
    "import scrapbook as sb\n",
    "from statistics import mean \n",
    "import catboost as ctb \n",
    "from sklearn.model_selection import train_test_split\n",
    "from sklearn.metrics import mean_squared_error,mean_absolute_error\n",
    "import numpy as np"
   ]
  },
  {
   "cell_type": "markdown",
   "id": "2fa5b0f7",
   "metadata": {
    "id": "2fa5b0f7",
    "papermill": {
     "duration": 0.008191,
     "end_time": "2022-07-24T12:58:57.103776",
     "exception": false,
     "start_time": "2022-07-24T12:58:57.095585",
     "status": "completed"
    },
    "tags": []
   },
   "source": [
    "## Parameters "
   ]
  },
  {
   "cell_type": "code",
   "execution_count": 3,
   "id": "783186fb",
   "metadata": {
    "execution": {
     "iopub.execute_input": "2022-07-24T12:58:57.124501Z",
     "iopub.status.busy": "2022-07-24T12:58:57.123590Z",
     "iopub.status.idle": "2022-07-24T12:58:57.134624Z",
     "shell.execute_reply": "2022-07-24T12:58:57.133520Z"
    },
    "id": "783186fb",
    "papermill": {
     "duration": 0.027291,
     "end_time": "2022-07-24T12:58:57.138663",
     "exception": false,
     "start_time": "2022-07-24T12:58:57.111372",
     "status": "completed"
    },
    "tags": [
     "parameters"
    ]
   },
   "outputs": [],
   "source": [
    "variance = 1\n",
    "bias = 1 "
   ]
  },
  {
   "cell_type": "code",
   "execution_count": 4,
   "id": "c781f850",
   "metadata": {
    "execution": {
     "iopub.execute_input": "2022-07-24T12:58:57.156723Z",
     "iopub.status.busy": "2022-07-24T12:58:57.156358Z",
     "iopub.status.idle": "2022-07-24T12:58:57.164167Z",
     "shell.execute_reply": "2022-07-24T12:58:57.159979Z"
    },
    "papermill": {
     "duration": 0.020912,
     "end_time": "2022-07-24T12:58:57.167930",
     "exception": false,
     "start_time": "2022-07-24T12:58:57.147018",
     "status": "completed"
    },
    "tags": [
     "injected-parameters"
    ]
   },
   "outputs": [],
   "source": [
    "# Parameters\n",
    "variance = 1\n",
    "bias = 0.1\n"
   ]
  },
  {
   "cell_type": "markdown",
   "id": "391cdbfd",
   "metadata": {
    "id": "391cdbfd",
    "papermill": {
     "duration": 0.008745,
     "end_time": "2022-07-24T12:58:57.184060",
     "exception": false,
     "start_time": "2022-07-24T12:58:57.175315",
     "status": "completed"
    },
    "tags": []
   },
   "source": [
    "## Dataset \n"
   ]
  },
  {
   "cell_type": "code",
   "execution_count": 5,
   "id": "5b51f161",
   "metadata": {
    "execution": {
     "iopub.execute_input": "2022-07-24T12:58:57.203301Z",
     "iopub.status.busy": "2022-07-24T12:58:57.202696Z",
     "iopub.status.idle": "2022-07-24T12:58:57.210929Z",
     "shell.execute_reply": "2022-07-24T12:58:57.208006Z"
    },
    "id": "5b51f161",
    "papermill": {
     "duration": 0.022651,
     "end_time": "2022-07-24T12:58:57.213652",
     "exception": false,
     "start_time": "2022-07-24T12:58:57.191001",
     "status": "completed"
    },
    "tags": []
   },
   "outputs": [],
   "source": [
    "#Parameters \n",
    "n_features = 8\n",
    "n_samples= 768\n",
    "n_target = 1 "
   ]
  },
  {
   "cell_type": "code",
   "execution_count": 6,
   "id": "5d6eced4",
   "metadata": {
    "execution": {
     "iopub.execute_input": "2022-07-24T12:58:57.244842Z",
     "iopub.status.busy": "2022-07-24T12:58:57.242731Z",
     "iopub.status.idle": "2022-07-24T12:58:57.935930Z",
     "shell.execute_reply": "2022-07-24T12:58:57.934662Z"
    },
    "id": "5d6eced4",
    "papermill": {
     "duration": 0.717081,
     "end_time": "2022-07-24T12:58:57.938932",
     "exception": false,
     "start_time": "2022-07-24T12:58:57.221851",
     "status": "completed"
    },
    "tags": []
   },
   "outputs": [
    {
     "name": "stdout",
     "output_type": "stream",
     "text": [
      "     X1     X2     X3      X4   X5  X6   X7  X8     Y1     Y2\n",
      "0  0.98  514.5  294.0  110.25  7.0   2  0.0   0  15.55  21.33\n",
      "1  0.98  514.5  294.0  110.25  7.0   3  0.0   0  15.55  21.33\n",
      "2  0.98  514.5  294.0  110.25  7.0   4  0.0   0  15.55  21.33\n",
      "3  0.98  514.5  294.0  110.25  7.0   5  0.0   0  15.55  21.33\n",
      "4  0.90  563.5  318.5  122.50  7.0   2  0.0   0  20.84  28.28\n"
     ]
    }
   ],
   "source": [
    "X,Y = energyefficiencyDataset.energy_data()"
   ]
  },
  {
   "cell_type": "code",
   "execution_count": 7,
   "id": "fe007438",
   "metadata": {
    "execution": {
     "iopub.execute_input": "2022-07-24T12:58:57.956022Z",
     "iopub.status.busy": "2022-07-24T12:58:57.955359Z",
     "iopub.status.idle": "2022-07-24T12:58:57.962050Z",
     "shell.execute_reply": "2022-07-24T12:58:57.960875Z"
    },
    "id": "fe007438",
    "papermill": {
     "duration": 0.018598,
     "end_time": "2022-07-24T12:58:57.964732",
     "exception": false,
     "start_time": "2022-07-24T12:58:57.946134",
     "status": "completed"
    },
    "tags": []
   },
   "outputs": [],
   "source": [
    "#Train test split for dataset \n",
    "X_train,X_test,Y_train,Y_test = train_test_split(X,Y,test_size = 0.2)\n",
    "train_data = dataset.CustomDataset(X_train,Y_train)\n",
    "test_data = dataset.CustomDataset(X_test,Y_test)\n"
   ]
  },
  {
   "cell_type": "markdown",
   "id": "a9a1af34",
   "metadata": {
    "id": "a9a1af34",
    "papermill": {
     "duration": 0.00745,
     "end_time": "2022-07-24T12:58:57.979849",
     "exception": false,
     "start_time": "2022-07-24T12:58:57.972399",
     "status": "completed"
    },
    "tags": []
   },
   "source": [
    "## Training Parameters "
   ]
  },
  {
   "cell_type": "code",
   "execution_count": 8,
   "id": "952b7fc8",
   "metadata": {
    "execution": {
     "iopub.execute_input": "2022-07-24T12:58:57.997244Z",
     "iopub.status.busy": "2022-07-24T12:58:57.996905Z",
     "iopub.status.idle": "2022-07-24T12:58:58.004355Z",
     "shell.execute_reply": "2022-07-24T12:58:58.002150Z"
    },
    "id": "952b7fc8",
    "papermill": {
     "duration": 0.020207,
     "end_time": "2022-07-24T12:58:58.008161",
     "exception": false,
     "start_time": "2022-07-24T12:58:57.987954",
     "status": "completed"
    },
    "tags": []
   },
   "outputs": [],
   "source": [
    "batch_size = 32\n",
    "n_epochs = 1000\n",
    "#Select the device \n",
    "device = torch.device('cuda' if torch.cuda.is_available() else 'cpu')"
   ]
  },
  {
   "cell_type": "markdown",
   "id": "a95e1600",
   "metadata": {
    "id": "a95e1600",
    "papermill": {
     "duration": 0.010044,
     "end_time": "2022-07-24T12:58:58.025904",
     "exception": false,
     "start_time": "2022-07-24T12:58:58.015860",
     "status": "completed"
    },
    "tags": []
   },
   "source": [
    "# ABC Pre-generator Model \n",
    "\n",
    "1. The catboost model is used as a pre-generator model for the ABC-GAN. \n",
    "2. The model is first trained on the entire dataset \n",
    "3. It generats X,Y pairs and we add some Gaussian noise with mean 0 and variance 1 to it which is then feed as input to the generator.\n"
   ]
  },
  {
   "cell_type": "code",
   "execution_count": 9,
   "id": "ff8ce7bd",
   "metadata": {
    "execution": {
     "iopub.execute_input": "2022-07-24T12:58:58.043991Z",
     "iopub.status.busy": "2022-07-24T12:58:58.043331Z",
     "iopub.status.idle": "2022-07-24T12:58:59.214721Z",
     "shell.execute_reply": "2022-07-24T12:58:59.212134Z"
    },
    "id": "ff8ce7bd",
    "papermill": {
     "duration": 1.184529,
     "end_time": "2022-07-24T12:58:59.218178",
     "exception": false,
     "start_time": "2022-07-24T12:58:58.033649",
     "status": "completed"
    },
    "tags": []
   },
   "outputs": [
    {
     "name": "stdout",
     "output_type": "stream",
     "text": [
      "Learning rate set to 0.037906\n",
      "0:\tlearn: 0.9818174\ttotal: 54.8ms\tremaining: 54.7s\n",
      "1:\tlearn: 0.9487746\ttotal: 55.3ms\tremaining: 27.6s\n",
      "2:\tlearn: 0.9174489\ttotal: 56.5ms\tremaining: 18.8s\n",
      "3:\tlearn: 0.8865196\ttotal: 56.9ms\tremaining: 14.2s\n",
      "4:\tlearn: 0.8608844\ttotal: 57.1ms\tremaining: 11.4s\n",
      "5:\tlearn: 0.8325093\ttotal: 63.4ms\tremaining: 10.5s\n"
     ]
    },
    {
     "name": "stdout",
     "output_type": "stream",
     "text": [
      "6:\tlearn: 0.8092205\ttotal: 67.6ms\tremaining: 9.59s\n",
      "7:\tlearn: 0.7855499\ttotal: 68.3ms\tremaining: 8.47s\n",
      "8:\tlearn: 0.7593434\ttotal: 70ms\tremaining: 7.71s\n",
      "9:\tlearn: 0.7353361\ttotal: 72.5ms\tremaining: 7.18s\n",
      "10:\tlearn: 0.7122329\ttotal: 73.1ms\tremaining: 6.57s\n",
      "11:\tlearn: 0.6898004\ttotal: 73.6ms\tremaining: 6.06s\n",
      "12:\tlearn: 0.6670757\ttotal: 74.4ms\tremaining: 5.65s\n",
      "13:\tlearn: 0.6464012\ttotal: 75.3ms\tremaining: 5.31s\n",
      "14:\tlearn: 0.6261608\ttotal: 76ms\tremaining: 4.99s\n",
      "15:\tlearn: 0.6055504\ttotal: 76.3ms\tremaining: 4.69s\n",
      "16:\tlearn: 0.5872772\ttotal: 76.5ms\tremaining: 4.42s\n",
      "17:\tlearn: 0.5695490\ttotal: 77ms\tremaining: 4.2s\n",
      "18:\tlearn: 0.5550037\ttotal: 77.2ms\tremaining: 3.98s\n",
      "19:\tlearn: 0.5372381\ttotal: 77.5ms\tremaining: 3.8s\n",
      "20:\tlearn: 0.5202718\ttotal: 77.7ms\tremaining: 3.62s\n",
      "21:\tlearn: 0.5057386\ttotal: 77.9ms\tremaining: 3.46s\n",
      "22:\tlearn: 0.4900985\ttotal: 78.9ms\tremaining: 3.35s\n",
      "23:\tlearn: 0.4739071\ttotal: 79.5ms\tremaining: 3.23s\n",
      "24:\tlearn: 0.4584939\ttotal: 79.8ms\tremaining: 3.11s\n",
      "25:\tlearn: 0.4449953\ttotal: 80.2ms\tremaining: 3s\n",
      "26:\tlearn: 0.4316491\ttotal: 80.5ms\tremaining: 2.9s\n",
      "27:\tlearn: 0.4193323\ttotal: 81.1ms\tremaining: 2.81s\n",
      "28:\tlearn: 0.4068369\ttotal: 81.5ms\tremaining: 2.73s\n",
      "29:\tlearn: 0.3950261\ttotal: 82ms\tremaining: 2.65s\n",
      "30:\tlearn: 0.3838178\ttotal: 82.5ms\tremaining: 2.58s\n",
      "31:\tlearn: 0.3725217\ttotal: 82.9ms\tremaining: 2.51s\n",
      "32:\tlearn: 0.3615614\ttotal: 83.3ms\tremaining: 2.44s\n",
      "33:\tlearn: 0.3508310\ttotal: 83.7ms\tremaining: 2.38s\n",
      "34:\tlearn: 0.3397935\ttotal: 84.2ms\tremaining: 2.32s\n",
      "35:\tlearn: 0.3302738\ttotal: 84.8ms\tremaining: 2.27s\n",
      "36:\tlearn: 0.3200436\ttotal: 85.2ms\tremaining: 2.22s\n",
      "37:\tlearn: 0.3105389\ttotal: 85.6ms\tremaining: 2.17s\n",
      "38:\tlearn: 0.3026709\ttotal: 86ms\tremaining: 2.12s\n",
      "39:\tlearn: 0.2933883\ttotal: 86.4ms\tremaining: 2.07s\n",
      "40:\tlearn: 0.2854288\ttotal: 87ms\tremaining: 2.03s\n",
      "41:\tlearn: 0.2769120\ttotal: 87.4ms\tremaining: 1.99s\n",
      "42:\tlearn: 0.2690247\ttotal: 87.8ms\tremaining: 1.95s\n",
      "43:\tlearn: 0.2617876\ttotal: 88.2ms\tremaining: 1.92s\n",
      "44:\tlearn: 0.2548047\ttotal: 88.5ms\tremaining: 1.88s\n",
      "45:\tlearn: 0.2486683\ttotal: 89.1ms\tremaining: 1.85s\n",
      "46:\tlearn: 0.2433570\ttotal: 89.6ms\tremaining: 1.82s\n",
      "47:\tlearn: 0.2374142\ttotal: 90.2ms\tremaining: 1.79s\n",
      "48:\tlearn: 0.2304563\ttotal: 90.6ms\tremaining: 1.76s\n",
      "49:\tlearn: 0.2237654\ttotal: 91ms\tremaining: 1.73s\n",
      "50:\tlearn: 0.2177835\ttotal: 91.4ms\tremaining: 1.7s\n",
      "51:\tlearn: 0.2118801\ttotal: 91.9ms\tremaining: 1.68s\n",
      "52:\tlearn: 0.2060833\ttotal: 92.4ms\tremaining: 1.65s\n",
      "53:\tlearn: 0.2002741\ttotal: 92.8ms\tremaining: 1.62s\n",
      "54:\tlearn: 0.1951218\ttotal: 93.3ms\tremaining: 1.6s\n",
      "55:\tlearn: 0.1899622\ttotal: 93.7ms\tremaining: 1.58s\n",
      "56:\tlearn: 0.1854130\ttotal: 94ms\tremaining: 1.55s\n",
      "57:\tlearn: 0.1810237\ttotal: 94.4ms\tremaining: 1.53s\n",
      "58:\tlearn: 0.1771997\ttotal: 94.7ms\tremaining: 1.51s\n",
      "59:\tlearn: 0.1726942\ttotal: 95.2ms\tremaining: 1.49s\n",
      "60:\tlearn: 0.1680082\ttotal: 95.8ms\tremaining: 1.47s\n",
      "61:\tlearn: 0.1638066\ttotal: 96.4ms\tremaining: 1.46s\n",
      "62:\tlearn: 0.1597156\ttotal: 97ms\tremaining: 1.44s\n",
      "63:\tlearn: 0.1559617\ttotal: 97.5ms\tremaining: 1.43s\n",
      "64:\tlearn: 0.1525662\ttotal: 97.9ms\tremaining: 1.41s\n",
      "65:\tlearn: 0.1495867\ttotal: 98.2ms\tremaining: 1.39s\n",
      "66:\tlearn: 0.1460907\ttotal: 98.8ms\tremaining: 1.38s\n",
      "67:\tlearn: 0.1425343\ttotal: 99.3ms\tremaining: 1.36s\n",
      "68:\tlearn: 0.1389917\ttotal: 99.9ms\tremaining: 1.35s\n",
      "69:\tlearn: 0.1356023\ttotal: 101ms\tremaining: 1.33s\n",
      "70:\tlearn: 0.1323957\ttotal: 101ms\tremaining: 1.32s\n",
      "71:\tlearn: 0.1296073\ttotal: 102ms\tremaining: 1.31s\n",
      "72:\tlearn: 0.1265855\ttotal: 102ms\tremaining: 1.29s\n",
      "73:\tlearn: 0.1244516\ttotal: 102ms\tremaining: 1.28s\n",
      "74:\tlearn: 0.1218760\ttotal: 103ms\tremaining: 1.27s\n",
      "75:\tlearn: 0.1188498\ttotal: 103ms\tremaining: 1.26s\n",
      "76:\tlearn: 0.1162026\ttotal: 104ms\tremaining: 1.25s\n",
      "77:\tlearn: 0.1145111\ttotal: 104ms\tremaining: 1.23s\n",
      "78:\tlearn: 0.1121136\ttotal: 105ms\tremaining: 1.22s\n",
      "79:\tlearn: 0.1098692\ttotal: 105ms\tremaining: 1.21s\n",
      "80:\tlearn: 0.1080697\ttotal: 106ms\tremaining: 1.2s\n",
      "81:\tlearn: 0.1057497\ttotal: 106ms\tremaining: 1.19s\n",
      "82:\tlearn: 0.1039239\ttotal: 107ms\tremaining: 1.18s\n",
      "83:\tlearn: 0.1023037\ttotal: 107ms\tremaining: 1.17s\n",
      "84:\tlearn: 0.1006596\ttotal: 108ms\tremaining: 1.16s\n",
      "85:\tlearn: 0.0989928\ttotal: 108ms\tremaining: 1.15s\n",
      "86:\tlearn: 0.0974491\ttotal: 109ms\tremaining: 1.14s\n",
      "87:\tlearn: 0.0957684\ttotal: 109ms\tremaining: 1.13s\n",
      "88:\tlearn: 0.0934984\ttotal: 110ms\tremaining: 1.12s\n",
      "89:\tlearn: 0.0922762\ttotal: 110ms\tremaining: 1.11s\n",
      "90:\tlearn: 0.0905547\ttotal: 111ms\tremaining: 1.1s\n",
      "91:\tlearn: 0.0888131\ttotal: 111ms\tremaining: 1.09s\n",
      "92:\tlearn: 0.0883812\ttotal: 111ms\tremaining: 1.08s\n",
      "93:\tlearn: 0.0875168\ttotal: 111ms\tremaining: 1.07s\n",
      "94:\tlearn: 0.0858061\ttotal: 112ms\tremaining: 1.07s\n",
      "95:\tlearn: 0.0843710\ttotal: 113ms\tremaining: 1.06s\n",
      "96:\tlearn: 0.0830444\ttotal: 113ms\tremaining: 1.05s\n",
      "97:\tlearn: 0.0817105\ttotal: 114ms\tremaining: 1.05s\n",
      "98:\tlearn: 0.0802828\ttotal: 114ms\tremaining: 1.04s\n",
      "99:\tlearn: 0.0789266\ttotal: 115ms\tremaining: 1.03s\n",
      "100:\tlearn: 0.0776323\ttotal: 115ms\tremaining: 1.02s\n",
      "101:\tlearn: 0.0767637\ttotal: 115ms\tremaining: 1.02s\n",
      "102:\tlearn: 0.0756344\ttotal: 116ms\tremaining: 1.01s\n",
      "103:\tlearn: 0.0745958\ttotal: 116ms\tremaining: 1s\n",
      "104:\tlearn: 0.0734103\ttotal: 117ms\tremaining: 997ms\n",
      "105:\tlearn: 0.0727763\ttotal: 118ms\tremaining: 991ms\n",
      "106:\tlearn: 0.0716507\ttotal: 118ms\tremaining: 986ms\n",
      "107:\tlearn: 0.0709714\ttotal: 119ms\tremaining: 981ms\n",
      "108:\tlearn: 0.0700338\ttotal: 119ms\tremaining: 976ms\n",
      "109:\tlearn: 0.0689692\ttotal: 120ms\tremaining: 972ms\n",
      "110:\tlearn: 0.0682504\ttotal: 121ms\tremaining: 966ms\n",
      "111:\tlearn: 0.0673365\ttotal: 121ms\tremaining: 960ms\n",
      "112:\tlearn: 0.0666604\ttotal: 122ms\tremaining: 955ms\n",
      "113:\tlearn: 0.0656357\ttotal: 122ms\tremaining: 950ms\n",
      "114:\tlearn: 0.0646166\ttotal: 123ms\tremaining: 945ms\n",
      "115:\tlearn: 0.0637127\ttotal: 123ms\tremaining: 941ms\n",
      "116:\tlearn: 0.0630088\ttotal: 124ms\tremaining: 935ms\n",
      "117:\tlearn: 0.0621985\ttotal: 124ms\tremaining: 930ms\n",
      "118:\tlearn: 0.0614727\ttotal: 125ms\tremaining: 925ms\n",
      "119:\tlearn: 0.0611064\ttotal: 125ms\tremaining: 920ms\n",
      "120:\tlearn: 0.0606671\ttotal: 126ms\tremaining: 915ms\n",
      "121:\tlearn: 0.0600823\ttotal: 126ms\tremaining: 910ms\n",
      "122:\tlearn: 0.0593093\ttotal: 127ms\tremaining: 905ms\n",
      "123:\tlearn: 0.0587341\ttotal: 127ms\tremaining: 900ms\n",
      "124:\tlearn: 0.0583472\ttotal: 128ms\tremaining: 896ms\n",
      "125:\tlearn: 0.0580422\ttotal: 128ms\tremaining: 891ms\n",
      "126:\tlearn: 0.0573814\ttotal: 129ms\tremaining: 886ms\n",
      "127:\tlearn: 0.0567816\ttotal: 129ms\tremaining: 882ms\n",
      "128:\tlearn: 0.0564921\ttotal: 130ms\tremaining: 878ms\n",
      "129:\tlearn: 0.0559429\ttotal: 131ms\tremaining: 874ms\n",
      "130:\tlearn: 0.0553776\ttotal: 131ms\tremaining: 869ms\n",
      "131:\tlearn: 0.0548893\ttotal: 131ms\tremaining: 864ms\n",
      "132:\tlearn: 0.0545984\ttotal: 132ms\tremaining: 860ms\n",
      "133:\tlearn: 0.0541446\ttotal: 133ms\tremaining: 857ms\n",
      "134:\tlearn: 0.0536676\ttotal: 133ms\tremaining: 853ms\n",
      "135:\tlearn: 0.0533091\ttotal: 134ms\tremaining: 849ms\n",
      "136:\tlearn: 0.0528348\ttotal: 134ms\tremaining: 845ms\n",
      "137:\tlearn: 0.0527043\ttotal: 134ms\tremaining: 839ms\n",
      "138:\tlearn: 0.0523967\ttotal: 135ms\tremaining: 835ms\n",
      "139:\tlearn: 0.0520813\ttotal: 135ms\tremaining: 832ms\n",
      "140:\tlearn: 0.0517003\ttotal: 136ms\tremaining: 828ms\n",
      "141:\tlearn: 0.0514463\ttotal: 136ms\tremaining: 824ms\n",
      "142:\tlearn: 0.0511454\ttotal: 139ms\tremaining: 831ms\n",
      "143:\tlearn: 0.0507528\ttotal: 139ms\tremaining: 826ms\n",
      "144:\tlearn: 0.0503892\ttotal: 140ms\tremaining: 823ms\n",
      "145:\tlearn: 0.0500065\ttotal: 140ms\tremaining: 819ms\n",
      "146:\tlearn: 0.0496656\ttotal: 141ms\tremaining: 816ms\n",
      "147:\tlearn: 0.0494062\ttotal: 141ms\tremaining: 813ms\n",
      "148:\tlearn: 0.0492169\ttotal: 142ms\tremaining: 809ms\n",
      "149:\tlearn: 0.0489210\ttotal: 143ms\tremaining: 808ms\n",
      "150:\tlearn: 0.0486902\ttotal: 143ms\tremaining: 804ms\n",
      "151:\tlearn: 0.0484811\ttotal: 144ms\tremaining: 801ms\n",
      "152:\tlearn: 0.0482671\ttotal: 144ms\tremaining: 798ms\n",
      "153:\tlearn: 0.0480161\ttotal: 145ms\tremaining: 795ms\n",
      "154:\tlearn: 0.0476868\ttotal: 145ms\tremaining: 792ms\n",
      "155:\tlearn: 0.0474685\ttotal: 146ms\tremaining: 788ms\n",
      "156:\tlearn: 0.0472666\ttotal: 146ms\tremaining: 786ms\n",
      "157:\tlearn: 0.0470660\ttotal: 147ms\tremaining: 783ms\n",
      "158:\tlearn: 0.0468156\ttotal: 147ms\tremaining: 779ms\n",
      "159:\tlearn: 0.0466352\ttotal: 148ms\tremaining: 777ms\n",
      "160:\tlearn: 0.0463840\ttotal: 148ms\tremaining: 774ms\n",
      "161:\tlearn: 0.0461303\ttotal: 149ms\tremaining: 771ms\n",
      "162:\tlearn: 0.0458578\ttotal: 150ms\tremaining: 768ms\n",
      "163:\tlearn: 0.0457440\ttotal: 150ms\tremaining: 765ms\n",
      "164:\tlearn: 0.0455512\ttotal: 150ms\tremaining: 762ms\n",
      "165:\tlearn: 0.0453474\ttotal: 151ms\tremaining: 759ms\n",
      "166:\tlearn: 0.0452283\ttotal: 151ms\tremaining: 755ms\n"
     ]
    },
    {
     "name": "stdout",
     "output_type": "stream",
     "text": [
      "167:\tlearn: 0.0450620\ttotal: 152ms\tremaining: 752ms\n",
      "168:\tlearn: 0.0448973\ttotal: 154ms\tremaining: 755ms\n",
      "169:\tlearn: 0.0447013\ttotal: 154ms\tremaining: 752ms\n",
      "170:\tlearn: 0.0445846\ttotal: 155ms\tremaining: 750ms\n",
      "171:\tlearn: 0.0443909\ttotal: 155ms\tremaining: 747ms\n",
      "172:\tlearn: 0.0441700\ttotal: 156ms\tremaining: 744ms\n",
      "173:\tlearn: 0.0439915\ttotal: 156ms\tremaining: 742ms\n",
      "174:\tlearn: 0.0438056\ttotal: 157ms\tremaining: 739ms\n",
      "175:\tlearn: 0.0436442\ttotal: 157ms\tremaining: 736ms\n",
      "176:\tlearn: 0.0434958\ttotal: 158ms\tremaining: 733ms\n",
      "177:\tlearn: 0.0433141\ttotal: 158ms\tremaining: 730ms\n",
      "178:\tlearn: 0.0431628\ttotal: 159ms\tremaining: 728ms\n",
      "179:\tlearn: 0.0429764\ttotal: 159ms\tremaining: 726ms\n",
      "180:\tlearn: 0.0427894\ttotal: 160ms\tremaining: 723ms\n",
      "181:\tlearn: 0.0426158\ttotal: 160ms\tremaining: 720ms\n",
      "182:\tlearn: 0.0424905\ttotal: 161ms\tremaining: 717ms\n",
      "183:\tlearn: 0.0423176\ttotal: 161ms\tremaining: 715ms\n",
      "184:\tlearn: 0.0420128\ttotal: 162ms\tremaining: 713ms\n",
      "185:\tlearn: 0.0418867\ttotal: 162ms\tremaining: 710ms\n",
      "186:\tlearn: 0.0417861\ttotal: 163ms\tremaining: 707ms\n",
      "187:\tlearn: 0.0416367\ttotal: 163ms\tremaining: 705ms\n",
      "188:\tlearn: 0.0414900\ttotal: 164ms\tremaining: 702ms\n",
      "189:\tlearn: 0.0413029\ttotal: 164ms\tremaining: 700ms\n",
      "190:\tlearn: 0.0411438\ttotal: 165ms\tremaining: 698ms\n",
      "191:\tlearn: 0.0410142\ttotal: 165ms\tremaining: 695ms\n",
      "192:\tlearn: 0.0409065\ttotal: 166ms\tremaining: 693ms\n",
      "193:\tlearn: 0.0408219\ttotal: 166ms\tremaining: 691ms\n",
      "194:\tlearn: 0.0407042\ttotal: 167ms\tremaining: 688ms\n",
      "195:\tlearn: 0.0405889\ttotal: 167ms\tremaining: 685ms\n",
      "196:\tlearn: 0.0404866\ttotal: 168ms\tremaining: 683ms\n",
      "197:\tlearn: 0.0403811\ttotal: 168ms\tremaining: 681ms\n",
      "198:\tlearn: 0.0402839\ttotal: 169ms\tremaining: 679ms\n",
      "199:\tlearn: 0.0401357\ttotal: 169ms\tremaining: 677ms\n",
      "200:\tlearn: 0.0399982\ttotal: 170ms\tremaining: 675ms\n",
      "201:\tlearn: 0.0398949\ttotal: 170ms\tremaining: 673ms\n",
      "202:\tlearn: 0.0397380\ttotal: 171ms\tremaining: 671ms\n",
      "203:\tlearn: 0.0396295\ttotal: 171ms\tremaining: 668ms\n",
      "204:\tlearn: 0.0394012\ttotal: 172ms\tremaining: 667ms\n",
      "205:\tlearn: 0.0393183\ttotal: 172ms\tremaining: 664ms\n",
      "206:\tlearn: 0.0391712\ttotal: 173ms\tremaining: 663ms\n",
      "207:\tlearn: 0.0390318\ttotal: 174ms\tremaining: 661ms\n",
      "208:\tlearn: 0.0389497\ttotal: 174ms\tremaining: 659ms\n",
      "209:\tlearn: 0.0388520\ttotal: 175ms\tremaining: 657ms\n",
      "210:\tlearn: 0.0387721\ttotal: 175ms\tremaining: 655ms\n",
      "211:\tlearn: 0.0386670\ttotal: 176ms\tremaining: 653ms\n",
      "212:\tlearn: 0.0385498\ttotal: 176ms\tremaining: 651ms\n",
      "213:\tlearn: 0.0384587\ttotal: 177ms\tremaining: 649ms\n",
      "214:\tlearn: 0.0382962\ttotal: 177ms\tremaining: 647ms\n",
      "215:\tlearn: 0.0381640\ttotal: 178ms\tremaining: 645ms\n",
      "216:\tlearn: 0.0380493\ttotal: 178ms\tremaining: 643ms\n",
      "217:\tlearn: 0.0379078\ttotal: 179ms\tremaining: 641ms\n",
      "218:\tlearn: 0.0376788\ttotal: 179ms\tremaining: 639ms\n",
      "219:\tlearn: 0.0376072\ttotal: 180ms\tremaining: 637ms\n",
      "220:\tlearn: 0.0373861\ttotal: 180ms\tremaining: 635ms\n",
      "221:\tlearn: 0.0372763\ttotal: 181ms\tremaining: 633ms\n",
      "222:\tlearn: 0.0371878\ttotal: 181ms\tremaining: 631ms\n",
      "223:\tlearn: 0.0370783\ttotal: 182ms\tremaining: 629ms\n",
      "224:\tlearn: 0.0370132\ttotal: 182ms\tremaining: 628ms\n",
      "225:\tlearn: 0.0367998\ttotal: 183ms\tremaining: 626ms\n",
      "226:\tlearn: 0.0366582\ttotal: 183ms\tremaining: 624ms\n",
      "227:\tlearn: 0.0364664\ttotal: 184ms\tremaining: 622ms\n",
      "228:\tlearn: 0.0363986\ttotal: 184ms\tremaining: 620ms\n",
      "229:\tlearn: 0.0362423\ttotal: 185ms\tremaining: 618ms\n",
      "230:\tlearn: 0.0361170\ttotal: 185ms\tremaining: 616ms\n",
      "231:\tlearn: 0.0360590\ttotal: 186ms\tremaining: 614ms\n",
      "232:\tlearn: 0.0359817\ttotal: 186ms\tremaining: 613ms\n",
      "233:\tlearn: 0.0358453\ttotal: 187ms\tremaining: 611ms\n",
      "234:\tlearn: 0.0357155\ttotal: 187ms\tremaining: 609ms\n",
      "235:\tlearn: 0.0355358\ttotal: 188ms\tremaining: 607ms\n",
      "236:\tlearn: 0.0354127\ttotal: 188ms\tremaining: 605ms\n",
      "237:\tlearn: 0.0353552\ttotal: 188ms\tremaining: 603ms\n",
      "238:\tlearn: 0.0351913\ttotal: 189ms\tremaining: 602ms\n",
      "239:\tlearn: 0.0350753\ttotal: 189ms\tremaining: 600ms\n",
      "240:\tlearn: 0.0350008\ttotal: 190ms\tremaining: 598ms\n",
      "241:\tlearn: 0.0348767\ttotal: 190ms\tremaining: 596ms\n",
      "242:\tlearn: 0.0346446\ttotal: 191ms\tremaining: 595ms\n",
      "243:\tlearn: 0.0345385\ttotal: 191ms\tremaining: 593ms\n",
      "244:\tlearn: 0.0344371\ttotal: 192ms\tremaining: 591ms\n",
      "245:\tlearn: 0.0343641\ttotal: 192ms\tremaining: 590ms\n",
      "246:\tlearn: 0.0342626\ttotal: 193ms\tremaining: 588ms\n",
      "247:\tlearn: 0.0342108\ttotal: 193ms\tremaining: 586ms\n",
      "248:\tlearn: 0.0340472\ttotal: 194ms\tremaining: 585ms\n",
      "249:\tlearn: 0.0339345\ttotal: 194ms\tremaining: 583ms\n",
      "250:\tlearn: 0.0338839\ttotal: 195ms\tremaining: 582ms\n",
      "251:\tlearn: 0.0338237\ttotal: 195ms\tremaining: 580ms\n",
      "252:\tlearn: 0.0337291\ttotal: 196ms\tremaining: 578ms\n",
      "253:\tlearn: 0.0336406\ttotal: 196ms\tremaining: 577ms\n",
      "254:\tlearn: 0.0335342\ttotal: 197ms\tremaining: 575ms\n",
      "255:\tlearn: 0.0334332\ttotal: 197ms\tremaining: 574ms\n",
      "256:\tlearn: 0.0332795\ttotal: 198ms\tremaining: 572ms\n",
      "257:\tlearn: 0.0332280\ttotal: 198ms\tremaining: 571ms\n",
      "258:\tlearn: 0.0331364\ttotal: 199ms\tremaining: 569ms\n",
      "259:\tlearn: 0.0330753\ttotal: 199ms\tremaining: 568ms\n",
      "260:\tlearn: 0.0329998\ttotal: 200ms\tremaining: 566ms\n",
      "261:\tlearn: 0.0329140\ttotal: 200ms\tremaining: 565ms\n",
      "262:\tlearn: 0.0328184\ttotal: 201ms\tremaining: 563ms\n",
      "263:\tlearn: 0.0327140\ttotal: 201ms\tremaining: 562ms\n",
      "264:\tlearn: 0.0326328\ttotal: 202ms\tremaining: 560ms\n",
      "265:\tlearn: 0.0325620\ttotal: 202ms\tremaining: 558ms\n",
      "266:\tlearn: 0.0324867\ttotal: 203ms\tremaining: 557ms\n",
      "267:\tlearn: 0.0323704\ttotal: 203ms\tremaining: 555ms\n",
      "268:\tlearn: 0.0323033\ttotal: 204ms\tremaining: 554ms\n",
      "269:\tlearn: 0.0322062\ttotal: 204ms\tremaining: 553ms\n",
      "270:\tlearn: 0.0320633\ttotal: 205ms\tremaining: 551ms\n",
      "271:\tlearn: 0.0319696\ttotal: 205ms\tremaining: 550ms\n",
      "272:\tlearn: 0.0319338\ttotal: 206ms\tremaining: 548ms\n",
      "273:\tlearn: 0.0318704\ttotal: 206ms\tremaining: 547ms\n",
      "274:\tlearn: 0.0317920\ttotal: 207ms\tremaining: 546ms\n",
      "275:\tlearn: 0.0316585\ttotal: 208ms\tremaining: 545ms\n",
      "276:\tlearn: 0.0315271\ttotal: 208ms\tremaining: 543ms\n",
      "277:\tlearn: 0.0313855\ttotal: 209ms\tremaining: 542ms\n",
      "278:\tlearn: 0.0313143\ttotal: 209ms\tremaining: 540ms\n",
      "279:\tlearn: 0.0312310\ttotal: 210ms\tremaining: 539ms\n",
      "280:\tlearn: 0.0311607\ttotal: 210ms\tremaining: 538ms\n",
      "281:\tlearn: 0.0310940\ttotal: 211ms\tremaining: 536ms\n",
      "282:\tlearn: 0.0310240\ttotal: 211ms\tremaining: 534ms\n",
      "283:\tlearn: 0.0309452\ttotal: 211ms\tremaining: 533ms\n"
     ]
    },
    {
     "name": "stdout",
     "output_type": "stream",
     "text": [
      "284:\tlearn: 0.0308675\ttotal: 212ms\tremaining: 532ms\n",
      "285:\tlearn: 0.0307502\ttotal: 212ms\tremaining: 530ms\n",
      "286:\tlearn: 0.0306400\ttotal: 213ms\tremaining: 528ms\n",
      "287:\tlearn: 0.0305579\ttotal: 213ms\tremaining: 526ms\n",
      "288:\tlearn: 0.0305151\ttotal: 215ms\tremaining: 529ms\n",
      "289:\tlearn: 0.0304420\ttotal: 215ms\tremaining: 527ms\n",
      "290:\tlearn: 0.0303388\ttotal: 216ms\tremaining: 526ms\n",
      "291:\tlearn: 0.0302389\ttotal: 216ms\tremaining: 525ms\n",
      "292:\tlearn: 0.0301793\ttotal: 217ms\tremaining: 523ms\n",
      "293:\tlearn: 0.0301109\ttotal: 217ms\tremaining: 521ms\n",
      "294:\tlearn: 0.0299619\ttotal: 217ms\tremaining: 519ms\n",
      "295:\tlearn: 0.0299001\ttotal: 217ms\tremaining: 517ms\n",
      "296:\tlearn: 0.0297909\ttotal: 218ms\tremaining: 515ms\n",
      "297:\tlearn: 0.0297384\ttotal: 218ms\tremaining: 513ms\n",
      "298:\tlearn: 0.0296961\ttotal: 218ms\tremaining: 512ms\n",
      "299:\tlearn: 0.0296413\ttotal: 219ms\tremaining: 511ms\n",
      "300:\tlearn: 0.0295776\ttotal: 219ms\tremaining: 509ms\n",
      "301:\tlearn: 0.0294363\ttotal: 219ms\tremaining: 507ms\n",
      "302:\tlearn: 0.0293721\ttotal: 220ms\tremaining: 505ms\n",
      "303:\tlearn: 0.0293151\ttotal: 220ms\tremaining: 504ms\n",
      "304:\tlearn: 0.0292486\ttotal: 220ms\tremaining: 502ms\n",
      "305:\tlearn: 0.0292048\ttotal: 221ms\tremaining: 500ms\n",
      "306:\tlearn: 0.0291415\ttotal: 221ms\tremaining: 499ms\n",
      "307:\tlearn: 0.0290762\ttotal: 221ms\tremaining: 497ms\n",
      "308:\tlearn: 0.0290193\ttotal: 222ms\tremaining: 496ms\n",
      "309:\tlearn: 0.0288908\ttotal: 222ms\tremaining: 494ms\n",
      "310:\tlearn: 0.0288533\ttotal: 222ms\tremaining: 492ms\n",
      "311:\tlearn: 0.0287330\ttotal: 222ms\tremaining: 491ms\n",
      "312:\tlearn: 0.0286086\ttotal: 223ms\tremaining: 489ms\n",
      "313:\tlearn: 0.0285307\ttotal: 223ms\tremaining: 487ms\n",
      "314:\tlearn: 0.0284708\ttotal: 223ms\tremaining: 486ms\n",
      "315:\tlearn: 0.0283595\ttotal: 224ms\tremaining: 485ms\n",
      "316:\tlearn: 0.0282796\ttotal: 225ms\tremaining: 484ms\n",
      "317:\tlearn: 0.0281767\ttotal: 225ms\tremaining: 482ms\n",
      "318:\tlearn: 0.0281130\ttotal: 225ms\tremaining: 481ms\n",
      "319:\tlearn: 0.0280536\ttotal: 225ms\tremaining: 479ms\n",
      "320:\tlearn: 0.0279565\ttotal: 226ms\tremaining: 477ms\n",
      "321:\tlearn: 0.0278984\ttotal: 226ms\tremaining: 476ms\n",
      "322:\tlearn: 0.0278089\ttotal: 227ms\tremaining: 475ms\n",
      "323:\tlearn: 0.0277507\ttotal: 227ms\tremaining: 474ms\n",
      "324:\tlearn: 0.0277057\ttotal: 227ms\tremaining: 472ms\n",
      "325:\tlearn: 0.0276318\ttotal: 228ms\tremaining: 471ms\n",
      "326:\tlearn: 0.0275693\ttotal: 228ms\tremaining: 470ms\n",
      "327:\tlearn: 0.0275220\ttotal: 228ms\tremaining: 468ms\n",
      "328:\tlearn: 0.0274633\ttotal: 229ms\tremaining: 467ms\n",
      "329:\tlearn: 0.0274278\ttotal: 229ms\tremaining: 465ms\n",
      "330:\tlearn: 0.0273714\ttotal: 230ms\tremaining: 464ms\n",
      "331:\tlearn: 0.0273222\ttotal: 230ms\tremaining: 463ms\n",
      "332:\tlearn: 0.0272504\ttotal: 230ms\tremaining: 461ms\n",
      "333:\tlearn: 0.0271609\ttotal: 230ms\tremaining: 459ms\n",
      "334:\tlearn: 0.0270934\ttotal: 231ms\tremaining: 459ms\n",
      "335:\tlearn: 0.0269992\ttotal: 231ms\tremaining: 457ms\n",
      "336:\tlearn: 0.0269422\ttotal: 232ms\tremaining: 456ms\n",
      "337:\tlearn: 0.0268916\ttotal: 232ms\tremaining: 454ms\n",
      "338:\tlearn: 0.0268279\ttotal: 233ms\tremaining: 454ms\n",
      "339:\tlearn: 0.0267613\ttotal: 234ms\tremaining: 454ms\n",
      "340:\tlearn: 0.0267084\ttotal: 235ms\tremaining: 453ms\n",
      "341:\tlearn: 0.0266550\ttotal: 235ms\tremaining: 452ms\n",
      "342:\tlearn: 0.0265384\ttotal: 235ms\tremaining: 450ms\n",
      "343:\tlearn: 0.0264979\ttotal: 236ms\tremaining: 450ms\n",
      "344:\tlearn: 0.0264507\ttotal: 236ms\tremaining: 448ms\n",
      "345:\tlearn: 0.0263730\ttotal: 236ms\tremaining: 447ms\n",
      "346:\tlearn: 0.0263251\ttotal: 237ms\tremaining: 445ms\n",
      "347:\tlearn: 0.0262633\ttotal: 240ms\tremaining: 449ms\n",
      "348:\tlearn: 0.0261947\ttotal: 240ms\tremaining: 448ms\n",
      "349:\tlearn: 0.0261339\ttotal: 240ms\tremaining: 446ms\n",
      "350:\tlearn: 0.0260862\ttotal: 241ms\tremaining: 445ms\n",
      "351:\tlearn: 0.0260360\ttotal: 241ms\tremaining: 443ms\n",
      "352:\tlearn: 0.0259671\ttotal: 241ms\tremaining: 442ms\n",
      "353:\tlearn: 0.0259223\ttotal: 242ms\tremaining: 441ms\n",
      "354:\tlearn: 0.0258612\ttotal: 242ms\tremaining: 440ms\n",
      "355:\tlearn: 0.0258245\ttotal: 242ms\tremaining: 438ms\n",
      "356:\tlearn: 0.0257762\ttotal: 242ms\tremaining: 437ms\n",
      "357:\tlearn: 0.0257392\ttotal: 243ms\tremaining: 436ms\n",
      "358:\tlearn: 0.0256821\ttotal: 243ms\tremaining: 434ms\n",
      "359:\tlearn: 0.0256315\ttotal: 243ms\tremaining: 433ms\n",
      "360:\tlearn: 0.0255810\ttotal: 244ms\tremaining: 431ms\n",
      "361:\tlearn: 0.0255392\ttotal: 245ms\tremaining: 432ms\n",
      "362:\tlearn: 0.0254936\ttotal: 246ms\tremaining: 431ms\n",
      "363:\tlearn: 0.0254398\ttotal: 246ms\tremaining: 430ms\n",
      "364:\tlearn: 0.0254110\ttotal: 246ms\tremaining: 428ms\n",
      "365:\tlearn: 0.0253461\ttotal: 247ms\tremaining: 428ms\n",
      "366:\tlearn: 0.0252614\ttotal: 247ms\tremaining: 427ms\n",
      "367:\tlearn: 0.0252193\ttotal: 248ms\tremaining: 425ms\n",
      "368:\tlearn: 0.0251768\ttotal: 248ms\tremaining: 424ms\n",
      "369:\tlearn: 0.0251292\ttotal: 248ms\tremaining: 423ms\n",
      "370:\tlearn: 0.0250872\ttotal: 249ms\tremaining: 422ms\n",
      "371:\tlearn: 0.0250371\ttotal: 249ms\tremaining: 420ms\n",
      "372:\tlearn: 0.0250163\ttotal: 250ms\tremaining: 420ms\n",
      "373:\tlearn: 0.0249725\ttotal: 250ms\tremaining: 418ms\n",
      "374:\tlearn: 0.0249425\ttotal: 250ms\tremaining: 417ms\n",
      "375:\tlearn: 0.0249078\ttotal: 250ms\tremaining: 416ms\n",
      "376:\tlearn: 0.0248591\ttotal: 251ms\tremaining: 415ms\n",
      "377:\tlearn: 0.0248222\ttotal: 251ms\tremaining: 413ms\n",
      "378:\tlearn: 0.0247832\ttotal: 251ms\tremaining: 412ms\n",
      "379:\tlearn: 0.0247419\ttotal: 252ms\tremaining: 411ms\n",
      "380:\tlearn: 0.0247034\ttotal: 252ms\tremaining: 410ms\n",
      "381:\tlearn: 0.0246533\ttotal: 252ms\tremaining: 408ms\n",
      "382:\tlearn: 0.0245982\ttotal: 253ms\tremaining: 407ms\n",
      "383:\tlearn: 0.0245675\ttotal: 256ms\tremaining: 410ms\n",
      "384:\tlearn: 0.0245018\ttotal: 258ms\tremaining: 413ms\n",
      "385:\tlearn: 0.0244459\ttotal: 260ms\tremaining: 413ms\n",
      "386:\tlearn: 0.0244150\ttotal: 261ms\tremaining: 413ms\n",
      "387:\tlearn: 0.0243517\ttotal: 261ms\tremaining: 412ms\n",
      "388:\tlearn: 0.0243138\ttotal: 262ms\tremaining: 411ms\n",
      "389:\tlearn: 0.0242898\ttotal: 262ms\tremaining: 410ms\n",
      "390:\tlearn: 0.0242672\ttotal: 263ms\tremaining: 409ms\n",
      "391:\tlearn: 0.0242382\ttotal: 263ms\tremaining: 408ms\n",
      "392:\tlearn: 0.0241859\ttotal: 264ms\tremaining: 407ms\n",
      "393:\tlearn: 0.0241524\ttotal: 264ms\tremaining: 406ms\n",
      "394:\tlearn: 0.0241175\ttotal: 264ms\tremaining: 405ms\n",
      "395:\tlearn: 0.0240993\ttotal: 265ms\tremaining: 404ms\n",
      "396:\tlearn: 0.0240681\ttotal: 266ms\tremaining: 404ms\n",
      "397:\tlearn: 0.0240147\ttotal: 267ms\tremaining: 404ms\n",
      "398:\tlearn: 0.0239824\ttotal: 267ms\tremaining: 402ms\n",
      "399:\tlearn: 0.0239295\ttotal: 267ms\tremaining: 401ms\n",
      "400:\tlearn: 0.0238783\ttotal: 269ms\tremaining: 401ms\n",
      "401:\tlearn: 0.0238603\ttotal: 269ms\tremaining: 400ms\n",
      "402:\tlearn: 0.0238430\ttotal: 270ms\tremaining: 400ms\n",
      "403:\tlearn: 0.0238263\ttotal: 270ms\tremaining: 398ms\n",
      "404:\tlearn: 0.0237934\ttotal: 270ms\tremaining: 397ms\n",
      "405:\tlearn: 0.0237519\ttotal: 271ms\tremaining: 396ms\n",
      "406:\tlearn: 0.0237211\ttotal: 271ms\tremaining: 395ms\n",
      "407:\tlearn: 0.0236859\ttotal: 272ms\tremaining: 394ms\n",
      "408:\tlearn: 0.0236198\ttotal: 272ms\tremaining: 393ms\n",
      "409:\tlearn: 0.0235784\ttotal: 272ms\tremaining: 392ms\n",
      "410:\tlearn: 0.0235474\ttotal: 272ms\tremaining: 390ms\n",
      "411:\tlearn: 0.0235243\ttotal: 273ms\tremaining: 390ms\n",
      "412:\tlearn: 0.0234939\ttotal: 274ms\tremaining: 389ms\n",
      "413:\tlearn: 0.0234549\ttotal: 274ms\tremaining: 388ms\n",
      "414:\tlearn: 0.0233669\ttotal: 275ms\tremaining: 388ms\n",
      "415:\tlearn: 0.0233220\ttotal: 276ms\tremaining: 387ms\n",
      "416:\tlearn: 0.0233025\ttotal: 276ms\tremaining: 386ms\n",
      "417:\tlearn: 0.0232602\ttotal: 276ms\tremaining: 385ms\n",
      "418:\tlearn: 0.0232250\ttotal: 277ms\tremaining: 384ms\n",
      "419:\tlearn: 0.0231647\ttotal: 277ms\tremaining: 382ms\n",
      "420:\tlearn: 0.0231226\ttotal: 277ms\tremaining: 381ms\n",
      "421:\tlearn: 0.0230400\ttotal: 278ms\tremaining: 380ms\n",
      "422:\tlearn: 0.0230140\ttotal: 278ms\tremaining: 380ms\n",
      "423:\tlearn: 0.0229882\ttotal: 279ms\tremaining: 379ms\n",
      "424:\tlearn: 0.0229576\ttotal: 279ms\tremaining: 378ms\n",
      "425:\tlearn: 0.0229334\ttotal: 280ms\tremaining: 377ms\n",
      "426:\tlearn: 0.0229005\ttotal: 280ms\tremaining: 376ms\n",
      "427:\tlearn: 0.0228600\ttotal: 280ms\tremaining: 374ms\n",
      "428:\tlearn: 0.0227907\ttotal: 281ms\tremaining: 373ms\n",
      "429:\tlearn: 0.0227756\ttotal: 281ms\tremaining: 372ms\n",
      "430:\tlearn: 0.0227323\ttotal: 281ms\tremaining: 371ms\n",
      "431:\tlearn: 0.0226874\ttotal: 282ms\tremaining: 370ms\n",
      "432:\tlearn: 0.0226595\ttotal: 282ms\tremaining: 369ms\n",
      "433:\tlearn: 0.0226300\ttotal: 283ms\tremaining: 370ms\n",
      "434:\tlearn: 0.0225980\ttotal: 284ms\tremaining: 369ms\n",
      "435:\tlearn: 0.0225548\ttotal: 284ms\tremaining: 368ms\n",
      "436:\tlearn: 0.0224897\ttotal: 285ms\tremaining: 367ms\n",
      "437:\tlearn: 0.0224497\ttotal: 285ms\tremaining: 366ms\n",
      "438:\tlearn: 0.0224200\ttotal: 286ms\tremaining: 365ms\n",
      "439:\tlearn: 0.0223821\ttotal: 286ms\tremaining: 364ms\n",
      "440:\tlearn: 0.0223542\ttotal: 286ms\tremaining: 363ms\n",
      "441:\tlearn: 0.0223040\ttotal: 286ms\tremaining: 362ms\n",
      "442:\tlearn: 0.0222807\ttotal: 287ms\tremaining: 361ms\n",
      "443:\tlearn: 0.0222570\ttotal: 288ms\tremaining: 361ms\n",
      "444:\tlearn: 0.0222168\ttotal: 289ms\tremaining: 360ms\n",
      "445:\tlearn: 0.0221908\ttotal: 289ms\tremaining: 359ms\n",
      "446:\tlearn: 0.0221507\ttotal: 289ms\tremaining: 358ms\n",
      "447:\tlearn: 0.0221271\ttotal: 289ms\tremaining: 357ms\n",
      "448:\tlearn: 0.0220839\ttotal: 290ms\tremaining: 356ms\n",
      "449:\tlearn: 0.0220563\ttotal: 290ms\tremaining: 355ms\n",
      "450:\tlearn: 0.0219785\ttotal: 291ms\tremaining: 354ms\n",
      "451:\tlearn: 0.0219572\ttotal: 291ms\tremaining: 353ms\n",
      "452:\tlearn: 0.0219432\ttotal: 291ms\tremaining: 352ms\n",
      "453:\tlearn: 0.0219200\ttotal: 292ms\tremaining: 351ms\n",
      "454:\tlearn: 0.0218919\ttotal: 292ms\tremaining: 350ms\n",
      "455:\tlearn: 0.0218686\ttotal: 292ms\tremaining: 348ms\n"
     ]
    },
    {
     "name": "stdout",
     "output_type": "stream",
     "text": [
      "456:\tlearn: 0.0218344\ttotal: 292ms\tremaining: 347ms\n",
      "457:\tlearn: 0.0218015\ttotal: 293ms\tremaining: 346ms\n",
      "458:\tlearn: 0.0217885\ttotal: 293ms\tremaining: 345ms\n",
      "459:\tlearn: 0.0217392\ttotal: 294ms\tremaining: 345ms\n",
      "460:\tlearn: 0.0216663\ttotal: 294ms\tremaining: 344ms\n",
      "461:\tlearn: 0.0216352\ttotal: 294ms\tremaining: 343ms\n",
      "462:\tlearn: 0.0216143\ttotal: 295ms\tremaining: 342ms\n",
      "463:\tlearn: 0.0215978\ttotal: 296ms\tremaining: 342ms\n",
      "464:\tlearn: 0.0215768\ttotal: 296ms\tremaining: 341ms\n",
      "465:\tlearn: 0.0215534\ttotal: 296ms\tremaining: 340ms\n",
      "466:\tlearn: 0.0215179\ttotal: 297ms\tremaining: 339ms\n",
      "467:\tlearn: 0.0214842\ttotal: 298ms\tremaining: 338ms\n",
      "468:\tlearn: 0.0214625\ttotal: 298ms\tremaining: 338ms\n",
      "469:\tlearn: 0.0214334\ttotal: 298ms\tremaining: 337ms\n",
      "470:\tlearn: 0.0214150\ttotal: 299ms\tremaining: 336ms\n",
      "471:\tlearn: 0.0213676\ttotal: 299ms\tremaining: 335ms\n",
      "472:\tlearn: 0.0213316\ttotal: 299ms\tremaining: 334ms\n",
      "473:\tlearn: 0.0212624\ttotal: 300ms\tremaining: 333ms\n",
      "474:\tlearn: 0.0212287\ttotal: 300ms\tremaining: 332ms\n",
      "475:\tlearn: 0.0211898\ttotal: 300ms\tremaining: 331ms\n",
      "476:\tlearn: 0.0211726\ttotal: 301ms\tremaining: 330ms\n",
      "477:\tlearn: 0.0211284\ttotal: 301ms\tremaining: 329ms\n",
      "478:\tlearn: 0.0211054\ttotal: 301ms\tremaining: 328ms\n",
      "479:\tlearn: 0.0210805\ttotal: 302ms\tremaining: 327ms\n",
      "480:\tlearn: 0.0210556\ttotal: 302ms\tremaining: 326ms\n",
      "481:\tlearn: 0.0210318\ttotal: 302ms\tremaining: 325ms\n",
      "482:\tlearn: 0.0210120\ttotal: 303ms\tremaining: 324ms\n",
      "483:\tlearn: 0.0209702\ttotal: 303ms\tremaining: 323ms\n",
      "484:\tlearn: 0.0209390\ttotal: 303ms\tremaining: 322ms\n",
      "485:\tlearn: 0.0209115\ttotal: 304ms\tremaining: 321ms\n",
      "486:\tlearn: 0.0208911\ttotal: 304ms\tremaining: 320ms\n",
      "487:\tlearn: 0.0208785\ttotal: 305ms\tremaining: 320ms\n",
      "488:\tlearn: 0.0208557\ttotal: 305ms\tremaining: 319ms\n",
      "489:\tlearn: 0.0208395\ttotal: 306ms\tremaining: 318ms\n",
      "490:\tlearn: 0.0208170\ttotal: 306ms\tremaining: 317ms\n",
      "491:\tlearn: 0.0207874\ttotal: 307ms\tremaining: 317ms\n",
      "492:\tlearn: 0.0207780\ttotal: 307ms\tremaining: 316ms\n",
      "493:\tlearn: 0.0207487\ttotal: 308ms\tremaining: 315ms\n",
      "494:\tlearn: 0.0207128\ttotal: 309ms\tremaining: 315ms\n",
      "495:\tlearn: 0.0206847\ttotal: 310ms\tremaining: 315ms\n",
      "496:\tlearn: 0.0206618\ttotal: 310ms\tremaining: 314ms\n",
      "497:\tlearn: 0.0206405\ttotal: 310ms\tremaining: 313ms\n",
      "498:\tlearn: 0.0206242\ttotal: 312ms\tremaining: 313ms\n",
      "499:\tlearn: 0.0205960\ttotal: 312ms\tremaining: 312ms\n",
      "500:\tlearn: 0.0205758\ttotal: 313ms\tremaining: 311ms\n",
      "501:\tlearn: 0.0205380\ttotal: 313ms\tremaining: 311ms\n",
      "502:\tlearn: 0.0205164\ttotal: 314ms\tremaining: 310ms\n",
      "503:\tlearn: 0.0204917\ttotal: 314ms\tremaining: 309ms\n",
      "504:\tlearn: 0.0204614\ttotal: 315ms\tremaining: 308ms\n",
      "505:\tlearn: 0.0204427\ttotal: 315ms\tremaining: 308ms\n",
      "506:\tlearn: 0.0204329\ttotal: 315ms\tremaining: 307ms\n",
      "507:\tlearn: 0.0204004\ttotal: 316ms\tremaining: 306ms\n",
      "508:\tlearn: 0.0203818\ttotal: 316ms\tremaining: 305ms\n",
      "509:\tlearn: 0.0203504\ttotal: 317ms\tremaining: 304ms\n",
      "510:\tlearn: 0.0203420\ttotal: 317ms\tremaining: 303ms\n",
      "511:\tlearn: 0.0203236\ttotal: 317ms\tremaining: 302ms\n",
      "512:\tlearn: 0.0202809\ttotal: 318ms\tremaining: 302ms\n",
      "513:\tlearn: 0.0202657\ttotal: 318ms\tremaining: 301ms\n",
      "514:\tlearn: 0.0202309\ttotal: 319ms\tremaining: 300ms\n",
      "515:\tlearn: 0.0202125\ttotal: 319ms\tremaining: 299ms\n",
      "516:\tlearn: 0.0201878\ttotal: 319ms\tremaining: 298ms\n",
      "517:\tlearn: 0.0201362\ttotal: 320ms\tremaining: 298ms\n",
      "518:\tlearn: 0.0201283\ttotal: 320ms\tremaining: 297ms\n",
      "519:\tlearn: 0.0201206\ttotal: 321ms\tremaining: 296ms\n",
      "520:\tlearn: 0.0200958\ttotal: 322ms\tremaining: 296ms\n",
      "521:\tlearn: 0.0200642\ttotal: 322ms\tremaining: 295ms\n",
      "522:\tlearn: 0.0200364\ttotal: 323ms\tremaining: 294ms\n",
      "523:\tlearn: 0.0200129\ttotal: 323ms\tremaining: 293ms\n",
      "524:\tlearn: 0.0199945\ttotal: 323ms\tremaining: 292ms\n",
      "525:\tlearn: 0.0199778\ttotal: 323ms\tremaining: 291ms\n",
      "526:\tlearn: 0.0199588\ttotal: 324ms\tremaining: 290ms\n",
      "527:\tlearn: 0.0199379\ttotal: 324ms\tremaining: 290ms\n",
      "528:\tlearn: 0.0199163\ttotal: 324ms\tremaining: 289ms\n",
      "529:\tlearn: 0.0199006\ttotal: 325ms\tremaining: 288ms\n",
      "530:\tlearn: 0.0198756\ttotal: 325ms\tremaining: 287ms\n",
      "531:\tlearn: 0.0198605\ttotal: 326ms\tremaining: 286ms\n",
      "532:\tlearn: 0.0198461\ttotal: 326ms\tremaining: 285ms\n",
      "533:\tlearn: 0.0198271\ttotal: 326ms\tremaining: 285ms\n",
      "534:\tlearn: 0.0198120\ttotal: 326ms\tremaining: 284ms\n",
      "535:\tlearn: 0.0197908\ttotal: 327ms\tremaining: 283ms\n",
      "536:\tlearn: 0.0197441\ttotal: 327ms\tremaining: 282ms\n",
      "537:\tlearn: 0.0197170\ttotal: 328ms\tremaining: 282ms\n",
      "538:\tlearn: 0.0196959\ttotal: 331ms\tremaining: 283ms\n",
      "539:\tlearn: 0.0196805\ttotal: 332ms\tremaining: 283ms\n",
      "540:\tlearn: 0.0196737\ttotal: 335ms\tremaining: 284ms\n",
      "541:\tlearn: 0.0196580\ttotal: 336ms\tremaining: 284ms\n",
      "542:\tlearn: 0.0196256\ttotal: 338ms\tremaining: 285ms\n",
      "543:\tlearn: 0.0196053\ttotal: 339ms\tremaining: 284ms\n",
      "544:\tlearn: 0.0195892\ttotal: 339ms\tremaining: 283ms\n",
      "545:\tlearn: 0.0195764\ttotal: 340ms\tremaining: 282ms\n",
      "546:\tlearn: 0.0195651\ttotal: 340ms\tremaining: 282ms\n",
      "547:\tlearn: 0.0195345\ttotal: 341ms\tremaining: 281ms\n",
      "548:\tlearn: 0.0195160\ttotal: 341ms\tremaining: 280ms\n",
      "549:\tlearn: 0.0194781\ttotal: 341ms\tremaining: 279ms\n",
      "550:\tlearn: 0.0194568\ttotal: 342ms\tremaining: 279ms\n",
      "551:\tlearn: 0.0194444\ttotal: 343ms\tremaining: 278ms\n",
      "552:\tlearn: 0.0194297\ttotal: 343ms\tremaining: 277ms\n",
      "553:\tlearn: 0.0193870\ttotal: 343ms\tremaining: 276ms\n",
      "554:\tlearn: 0.0193717\ttotal: 344ms\tremaining: 276ms\n",
      "555:\tlearn: 0.0193473\ttotal: 344ms\tremaining: 275ms\n",
      "556:\tlearn: 0.0193254\ttotal: 345ms\tremaining: 274ms\n",
      "557:\tlearn: 0.0192978\ttotal: 345ms\tremaining: 273ms\n",
      "558:\tlearn: 0.0192615\ttotal: 345ms\tremaining: 272ms\n",
      "559:\tlearn: 0.0192357\ttotal: 345ms\tremaining: 271ms\n",
      "560:\tlearn: 0.0192216\ttotal: 347ms\tremaining: 271ms\n",
      "561:\tlearn: 0.0191895\ttotal: 347ms\tremaining: 270ms\n",
      "562:\tlearn: 0.0191726\ttotal: 347ms\tremaining: 270ms\n",
      "563:\tlearn: 0.0191532\ttotal: 348ms\tremaining: 269ms\n"
     ]
    },
    {
     "name": "stdout",
     "output_type": "stream",
     "text": [
      "564:\tlearn: 0.0191364\ttotal: 351ms\tremaining: 270ms\n",
      "565:\tlearn: 0.0191112\ttotal: 352ms\tremaining: 270ms\n",
      "566:\tlearn: 0.0190932\ttotal: 354ms\tremaining: 270ms\n",
      "567:\tlearn: 0.0190743\ttotal: 356ms\tremaining: 270ms\n",
      "568:\tlearn: 0.0190370\ttotal: 356ms\tremaining: 270ms\n",
      "569:\tlearn: 0.0190066\ttotal: 357ms\tremaining: 269ms\n",
      "570:\tlearn: 0.0189840\ttotal: 357ms\tremaining: 268ms\n",
      "571:\tlearn: 0.0189631\ttotal: 357ms\tremaining: 267ms\n",
      "572:\tlearn: 0.0189475\ttotal: 360ms\tremaining: 268ms\n",
      "573:\tlearn: 0.0189239\ttotal: 383ms\tremaining: 285ms\n",
      "574:\tlearn: 0.0188925\ttotal: 385ms\tremaining: 284ms\n",
      "575:\tlearn: 0.0188530\ttotal: 386ms\tremaining: 284ms\n",
      "576:\tlearn: 0.0188235\ttotal: 387ms\tremaining: 284ms\n",
      "577:\tlearn: 0.0187950\ttotal: 390ms\tremaining: 285ms\n",
      "578:\tlearn: 0.0187627\ttotal: 393ms\tremaining: 286ms\n",
      "579:\tlearn: 0.0187290\ttotal: 394ms\tremaining: 285ms\n",
      "580:\tlearn: 0.0187020\ttotal: 395ms\tremaining: 285ms\n",
      "581:\tlearn: 0.0186822\ttotal: 396ms\tremaining: 285ms\n",
      "582:\tlearn: 0.0186727\ttotal: 398ms\tremaining: 284ms\n",
      "583:\tlearn: 0.0186413\ttotal: 399ms\tremaining: 284ms\n",
      "584:\tlearn: 0.0186135\ttotal: 399ms\tremaining: 283ms\n",
      "585:\tlearn: 0.0185960\ttotal: 400ms\tremaining: 283ms\n",
      "586:\tlearn: 0.0185593\ttotal: 402ms\tremaining: 283ms\n",
      "587:\tlearn: 0.0185341\ttotal: 404ms\tremaining: 283ms\n",
      "588:\tlearn: 0.0185276\ttotal: 405ms\tremaining: 283ms\n",
      "589:\tlearn: 0.0185071\ttotal: 406ms\tremaining: 282ms\n",
      "590:\tlearn: 0.0184752\ttotal: 407ms\tremaining: 282ms\n",
      "591:\tlearn: 0.0184622\ttotal: 407ms\tremaining: 281ms\n",
      "592:\tlearn: 0.0184325\ttotal: 408ms\tremaining: 280ms\n",
      "593:\tlearn: 0.0184155\ttotal: 409ms\tremaining: 280ms\n",
      "594:\tlearn: 0.0184009\ttotal: 410ms\tremaining: 279ms\n",
      "595:\tlearn: 0.0183819\ttotal: 411ms\tremaining: 279ms\n",
      "596:\tlearn: 0.0183422\ttotal: 413ms\tremaining: 279ms\n",
      "597:\tlearn: 0.0183241\ttotal: 415ms\tremaining: 279ms\n",
      "598:\tlearn: 0.0183068\ttotal: 416ms\tremaining: 279ms\n",
      "599:\tlearn: 0.0182685\ttotal: 420ms\tremaining: 280ms\n",
      "600:\tlearn: 0.0182625\ttotal: 421ms\tremaining: 279ms\n",
      "601:\tlearn: 0.0182499\ttotal: 422ms\tremaining: 279ms\n",
      "602:\tlearn: 0.0182435\ttotal: 422ms\tremaining: 278ms\n",
      "603:\tlearn: 0.0182384\ttotal: 423ms\tremaining: 277ms\n",
      "604:\tlearn: 0.0182069\ttotal: 425ms\tremaining: 277ms\n",
      "605:\tlearn: 0.0181841\ttotal: 425ms\tremaining: 277ms\n",
      "606:\tlearn: 0.0181792\ttotal: 427ms\tremaining: 276ms\n",
      "607:\tlearn: 0.0181581\ttotal: 428ms\tremaining: 276ms\n",
      "608:\tlearn: 0.0181489\ttotal: 428ms\tremaining: 275ms\n",
      "609:\tlearn: 0.0181222\ttotal: 429ms\tremaining: 274ms\n",
      "610:\tlearn: 0.0181121\ttotal: 430ms\tremaining: 274ms\n",
      "611:\tlearn: 0.0181022\ttotal: 430ms\tremaining: 273ms\n",
      "612:\tlearn: 0.0180850\ttotal: 431ms\tremaining: 272ms\n",
      "613:\tlearn: 0.0180752\ttotal: 432ms\tremaining: 272ms\n",
      "614:\tlearn: 0.0180610\ttotal: 433ms\tremaining: 271ms\n",
      "615:\tlearn: 0.0180437\ttotal: 434ms\tremaining: 271ms\n",
      "616:\tlearn: 0.0180205\ttotal: 435ms\tremaining: 270ms\n",
      "617:\tlearn: 0.0180007\ttotal: 436ms\tremaining: 269ms\n",
      "618:\tlearn: 0.0179910\ttotal: 436ms\tremaining: 269ms\n",
      "619:\tlearn: 0.0179742\ttotal: 437ms\tremaining: 268ms\n",
      "620:\tlearn: 0.0179626\ttotal: 438ms\tremaining: 267ms\n",
      "621:\tlearn: 0.0179353\ttotal: 439ms\tremaining: 267ms\n",
      "622:\tlearn: 0.0179213\ttotal: 440ms\tremaining: 266ms\n",
      "623:\tlearn: 0.0179024\ttotal: 442ms\tremaining: 266ms\n",
      "624:\tlearn: 0.0178792\ttotal: 443ms\tremaining: 266ms\n"
     ]
    },
    {
     "name": "stdout",
     "output_type": "stream",
     "text": [
      "625:\tlearn: 0.0178552\ttotal: 443ms\tremaining: 265ms\n",
      "626:\tlearn: 0.0178426\ttotal: 444ms\tremaining: 264ms\n",
      "627:\tlearn: 0.0178128\ttotal: 446ms\tremaining: 264ms\n",
      "628:\tlearn: 0.0177748\ttotal: 447ms\tremaining: 264ms\n",
      "629:\tlearn: 0.0177558\ttotal: 448ms\tremaining: 263ms\n",
      "630:\tlearn: 0.0177332\ttotal: 448ms\tremaining: 262ms\n",
      "631:\tlearn: 0.0177163\ttotal: 449ms\tremaining: 262ms\n",
      "632:\tlearn: 0.0177042\ttotal: 451ms\tremaining: 261ms\n",
      "633:\tlearn: 0.0176897\ttotal: 452ms\tremaining: 261ms\n",
      "634:\tlearn: 0.0176786\ttotal: 453ms\tremaining: 260ms\n",
      "635:\tlearn: 0.0176666\ttotal: 455ms\tremaining: 260ms\n",
      "636:\tlearn: 0.0176328\ttotal: 457ms\tremaining: 260ms\n",
      "637:\tlearn: 0.0176286\ttotal: 458ms\tremaining: 260ms\n",
      "638:\tlearn: 0.0176113\ttotal: 460ms\tremaining: 260ms\n",
      "639:\tlearn: 0.0175985\ttotal: 462ms\tremaining: 260ms\n",
      "640:\tlearn: 0.0175783\ttotal: 464ms\tremaining: 260ms\n",
      "641:\tlearn: 0.0175443\ttotal: 472ms\tremaining: 263ms\n",
      "642:\tlearn: 0.0175176\ttotal: 473ms\tremaining: 263ms\n",
      "643:\tlearn: 0.0174921\ttotal: 477ms\tremaining: 263ms\n",
      "644:\tlearn: 0.0174881\ttotal: 477ms\tremaining: 263ms\n",
      "645:\tlearn: 0.0174609\ttotal: 477ms\tremaining: 262ms\n",
      "646:\tlearn: 0.0174460\ttotal: 478ms\tremaining: 261ms\n",
      "647:\tlearn: 0.0174303\ttotal: 478ms\tremaining: 260ms\n",
      "648:\tlearn: 0.0174108\ttotal: 480ms\tremaining: 260ms\n",
      "649:\tlearn: 0.0173927\ttotal: 481ms\tremaining: 259ms\n",
      "650:\tlearn: 0.0173772\ttotal: 482ms\tremaining: 258ms\n",
      "651:\tlearn: 0.0173685\ttotal: 482ms\tremaining: 257ms\n",
      "652:\tlearn: 0.0173525\ttotal: 485ms\tremaining: 258ms\n",
      "653:\tlearn: 0.0173429\ttotal: 486ms\tremaining: 257ms\n",
      "654:\tlearn: 0.0173179\ttotal: 487ms\tremaining: 256ms\n",
      "655:\tlearn: 0.0172923\ttotal: 488ms\tremaining: 256ms\n",
      "656:\tlearn: 0.0172678\ttotal: 489ms\tremaining: 255ms\n",
      "657:\tlearn: 0.0172473\ttotal: 490ms\tremaining: 255ms\n",
      "658:\tlearn: 0.0172074\ttotal: 491ms\tremaining: 254ms\n",
      "659:\tlearn: 0.0171901\ttotal: 491ms\tremaining: 253ms\n",
      "660:\tlearn: 0.0171728\ttotal: 493ms\tremaining: 253ms\n",
      "661:\tlearn: 0.0171655\ttotal: 494ms\tremaining: 252ms\n",
      "662:\tlearn: 0.0171442\ttotal: 496ms\tremaining: 252ms\n",
      "663:\tlearn: 0.0171324\ttotal: 497ms\tremaining: 252ms\n",
      "664:\tlearn: 0.0170956\ttotal: 499ms\tremaining: 252ms\n",
      "665:\tlearn: 0.0170827\ttotal: 500ms\tremaining: 251ms\n",
      "666:\tlearn: 0.0170641\ttotal: 501ms\tremaining: 250ms\n",
      "667:\tlearn: 0.0170436\ttotal: 503ms\tremaining: 250ms\n",
      "668:\tlearn: 0.0170288\ttotal: 504ms\tremaining: 250ms\n",
      "669:\tlearn: 0.0170186\ttotal: 506ms\tremaining: 249ms\n",
      "670:\tlearn: 0.0170000\ttotal: 507ms\tremaining: 248ms\n",
      "671:\tlearn: 0.0169825\ttotal: 508ms\tremaining: 248ms\n",
      "672:\tlearn: 0.0169659\ttotal: 509ms\tremaining: 247ms\n"
     ]
    },
    {
     "name": "stdout",
     "output_type": "stream",
     "text": [
      "673:\tlearn: 0.0169440\ttotal: 510ms\tremaining: 246ms\n",
      "674:\tlearn: 0.0169153\ttotal: 512ms\tremaining: 247ms\n",
      "675:\tlearn: 0.0169009\ttotal: 513ms\tremaining: 246ms\n",
      "676:\tlearn: 0.0168782\ttotal: 514ms\tremaining: 245ms\n",
      "677:\tlearn: 0.0168692\ttotal: 514ms\tremaining: 244ms\n",
      "678:\tlearn: 0.0168500\ttotal: 516ms\tremaining: 244ms\n",
      "679:\tlearn: 0.0168416\ttotal: 516ms\tremaining: 243ms\n",
      "680:\tlearn: 0.0168250\ttotal: 517ms\tremaining: 242ms\n",
      "681:\tlearn: 0.0168125\ttotal: 518ms\tremaining: 241ms\n",
      "682:\tlearn: 0.0168030\ttotal: 519ms\tremaining: 241ms\n",
      "683:\tlearn: 0.0167925\ttotal: 519ms\tremaining: 240ms\n",
      "684:\tlearn: 0.0167813\ttotal: 520ms\tremaining: 239ms\n",
      "685:\tlearn: 0.0167601\ttotal: 521ms\tremaining: 238ms\n",
      "686:\tlearn: 0.0167461\ttotal: 521ms\tremaining: 238ms\n",
      "687:\tlearn: 0.0167345\ttotal: 522ms\tremaining: 237ms\n",
      "688:\tlearn: 0.0167183\ttotal: 522ms\tremaining: 236ms\n",
      "689:\tlearn: 0.0166972\ttotal: 524ms\tremaining: 235ms\n",
      "690:\tlearn: 0.0166897\ttotal: 525ms\tremaining: 235ms\n",
      "691:\tlearn: 0.0166815\ttotal: 528ms\tremaining: 235ms\n",
      "692:\tlearn: 0.0166768\ttotal: 528ms\tremaining: 234ms\n",
      "693:\tlearn: 0.0166638\ttotal: 530ms\tremaining: 234ms\n",
      "694:\tlearn: 0.0166531\ttotal: 531ms\tremaining: 233ms\n",
      "695:\tlearn: 0.0166301\ttotal: 532ms\tremaining: 232ms\n",
      "696:\tlearn: 0.0166185\ttotal: 533ms\tremaining: 232ms\n",
      "697:\tlearn: 0.0166053\ttotal: 534ms\tremaining: 231ms\n",
      "698:\tlearn: 0.0165906\ttotal: 535ms\tremaining: 230ms\n",
      "699:\tlearn: 0.0165803\ttotal: 535ms\tremaining: 229ms\n",
      "700:\tlearn: 0.0165610\ttotal: 536ms\tremaining: 229ms\n",
      "701:\tlearn: 0.0165394\ttotal: 537ms\tremaining: 228ms\n",
      "702:\tlearn: 0.0165180\ttotal: 539ms\tremaining: 228ms\n",
      "703:\tlearn: 0.0164922\ttotal: 541ms\tremaining: 227ms\n",
      "704:\tlearn: 0.0164789\ttotal: 542ms\tremaining: 227ms\n",
      "705:\tlearn: 0.0164635\ttotal: 543ms\tremaining: 226ms\n",
      "706:\tlearn: 0.0164570\ttotal: 544ms\tremaining: 225ms\n",
      "707:\tlearn: 0.0164504\ttotal: 544ms\tremaining: 224ms\n",
      "708:\tlearn: 0.0164263\ttotal: 545ms\tremaining: 224ms\n",
      "709:\tlearn: 0.0163592\ttotal: 545ms\tremaining: 223ms\n",
      "710:\tlearn: 0.0163558\ttotal: 546ms\tremaining: 222ms\n",
      "711:\tlearn: 0.0163431\ttotal: 546ms\tremaining: 221ms\n",
      "712:\tlearn: 0.0163177\ttotal: 546ms\tremaining: 220ms\n",
      "713:\tlearn: 0.0163108\ttotal: 546ms\tremaining: 219ms\n",
      "714:\tlearn: 0.0162999\ttotal: 548ms\tremaining: 219ms\n",
      "715:\tlearn: 0.0162959\ttotal: 550ms\tremaining: 218ms\n",
      "716:\tlearn: 0.0162623\ttotal: 551ms\tremaining: 217ms\n",
      "717:\tlearn: 0.0162492\ttotal: 551ms\tremaining: 216ms\n",
      "718:\tlearn: 0.0162350\ttotal: 552ms\tremaining: 216ms\n",
      "719:\tlearn: 0.0162149\ttotal: 552ms\tremaining: 215ms\n",
      "720:\tlearn: 0.0161984\ttotal: 552ms\tremaining: 214ms\n",
      "721:\tlearn: 0.0161920\ttotal: 553ms\tremaining: 213ms\n",
      "722:\tlearn: 0.0161764\ttotal: 553ms\tremaining: 212ms\n",
      "723:\tlearn: 0.0161498\ttotal: 553ms\tremaining: 211ms\n",
      "724:\tlearn: 0.0161427\ttotal: 554ms\tremaining: 210ms\n",
      "725:\tlearn: 0.0161382\ttotal: 554ms\tremaining: 209ms\n",
      "726:\tlearn: 0.0161242\ttotal: 558ms\tremaining: 210ms\n",
      "727:\tlearn: 0.0161041\ttotal: 559ms\tremaining: 209ms\n",
      "728:\tlearn: 0.0160955\ttotal: 563ms\tremaining: 209ms\n",
      "729:\tlearn: 0.0160879\ttotal: 564ms\tremaining: 209ms\n",
      "730:\tlearn: 0.0160730\ttotal: 566ms\tremaining: 208ms\n",
      "731:\tlearn: 0.0160565\ttotal: 567ms\tremaining: 207ms\n",
      "732:\tlearn: 0.0160421\ttotal: 568ms\tremaining: 207ms\n",
      "733:\tlearn: 0.0160103\ttotal: 570ms\tremaining: 207ms\n",
      "734:\tlearn: 0.0159839\ttotal: 572ms\tremaining: 206ms\n",
      "735:\tlearn: 0.0159719\ttotal: 573ms\tremaining: 205ms\n",
      "736:\tlearn: 0.0159468\ttotal: 575ms\tremaining: 205ms\n",
      "737:\tlearn: 0.0159411\ttotal: 576ms\tremaining: 205ms\n",
      "738:\tlearn: 0.0159275\ttotal: 577ms\tremaining: 204ms\n",
      "739:\tlearn: 0.0159143\ttotal: 579ms\tremaining: 203ms\n",
      "740:\tlearn: 0.0159033\ttotal: 581ms\tremaining: 203ms\n",
      "741:\tlearn: 0.0158978\ttotal: 583ms\tremaining: 203ms\n",
      "742:\tlearn: 0.0158901\ttotal: 585ms\tremaining: 202ms\n",
      "743:\tlearn: 0.0158782\ttotal: 586ms\tremaining: 202ms\n",
      "744:\tlearn: 0.0158570\ttotal: 587ms\tremaining: 201ms\n",
      "745:\tlearn: 0.0158545\ttotal: 587ms\tremaining: 200ms\n",
      "746:\tlearn: 0.0158456\ttotal: 589ms\tremaining: 199ms\n",
      "747:\tlearn: 0.0158383\ttotal: 589ms\tremaining: 199ms\n",
      "748:\tlearn: 0.0158262\ttotal: 590ms\tremaining: 198ms\n",
      "749:\tlearn: 0.0158133\ttotal: 591ms\tremaining: 197ms\n",
      "750:\tlearn: 0.0157987\ttotal: 592ms\tremaining: 196ms\n",
      "751:\tlearn: 0.0157803\ttotal: 594ms\tremaining: 196ms\n",
      "752:\tlearn: 0.0157709\ttotal: 595ms\tremaining: 195ms\n",
      "753:\tlearn: 0.0157663\ttotal: 596ms\tremaining: 194ms\n",
      "754:\tlearn: 0.0157369\ttotal: 597ms\tremaining: 194ms\n",
      "755:\tlearn: 0.0157306\ttotal: 597ms\tremaining: 193ms\n",
      "756:\tlearn: 0.0157256\ttotal: 597ms\tremaining: 192ms\n",
      "757:\tlearn: 0.0157134\ttotal: 598ms\tremaining: 191ms\n",
      "758:\tlearn: 0.0157014\ttotal: 599ms\tremaining: 190ms\n",
      "759:\tlearn: 0.0156936\ttotal: 600ms\tremaining: 189ms\n",
      "760:\tlearn: 0.0156761\ttotal: 600ms\tremaining: 189ms\n",
      "761:\tlearn: 0.0156451\ttotal: 601ms\tremaining: 188ms\n",
      "762:\tlearn: 0.0156377\ttotal: 601ms\tremaining: 187ms\n"
     ]
    },
    {
     "name": "stdout",
     "output_type": "stream",
     "text": [
      "763:\tlearn: 0.0156248\ttotal: 601ms\tremaining: 186ms\n",
      "764:\tlearn: 0.0156195\ttotal: 606ms\tremaining: 186ms\n",
      "765:\tlearn: 0.0156124\ttotal: 606ms\tremaining: 185ms\n",
      "766:\tlearn: 0.0155935\ttotal: 607ms\tremaining: 184ms\n",
      "767:\tlearn: 0.0155815\ttotal: 608ms\tremaining: 184ms\n",
      "768:\tlearn: 0.0155551\ttotal: 609ms\tremaining: 183ms\n",
      "769:\tlearn: 0.0155427\ttotal: 610ms\tremaining: 182ms\n",
      "770:\tlearn: 0.0155378\ttotal: 612ms\tremaining: 182ms\n",
      "771:\tlearn: 0.0155285\ttotal: 612ms\tremaining: 181ms\n",
      "772:\tlearn: 0.0155213\ttotal: 614ms\tremaining: 180ms\n",
      "773:\tlearn: 0.0155153\ttotal: 614ms\tremaining: 179ms\n",
      "774:\tlearn: 0.0155009\ttotal: 616ms\tremaining: 179ms\n",
      "775:\tlearn: 0.0154972\ttotal: 617ms\tremaining: 178ms\n",
      "776:\tlearn: 0.0154742\ttotal: 618ms\tremaining: 177ms\n",
      "777:\tlearn: 0.0154717\ttotal: 619ms\tremaining: 177ms\n",
      "778:\tlearn: 0.0154664\ttotal: 620ms\tremaining: 176ms\n",
      "779:\tlearn: 0.0154563\ttotal: 621ms\tremaining: 175ms\n",
      "780:\tlearn: 0.0154518\ttotal: 622ms\tremaining: 175ms\n",
      "781:\tlearn: 0.0154339\ttotal: 624ms\tremaining: 174ms\n",
      "782:\tlearn: 0.0154216\ttotal: 625ms\tremaining: 173ms\n",
      "783:\tlearn: 0.0154121\ttotal: 625ms\tremaining: 172ms\n",
      "784:\tlearn: 0.0154061\ttotal: 627ms\tremaining: 172ms\n",
      "785:\tlearn: 0.0153923\ttotal: 627ms\tremaining: 171ms\n",
      "786:\tlearn: 0.0153897\ttotal: 628ms\tremaining: 170ms\n",
      "787:\tlearn: 0.0153856\ttotal: 629ms\tremaining: 169ms\n",
      "788:\tlearn: 0.0153788\ttotal: 630ms\tremaining: 169ms\n",
      "789:\tlearn: 0.0153698\ttotal: 632ms\tremaining: 168ms\n",
      "790:\tlearn: 0.0153569\ttotal: 633ms\tremaining: 167ms\n",
      "791:\tlearn: 0.0153404\ttotal: 634ms\tremaining: 167ms\n",
      "792:\tlearn: 0.0153187\ttotal: 635ms\tremaining: 166ms\n",
      "793:\tlearn: 0.0153084\ttotal: 636ms\tremaining: 165ms\n",
      "794:\tlearn: 0.0152968\ttotal: 636ms\tremaining: 164ms\n",
      "795:\tlearn: 0.0152857\ttotal: 637ms\tremaining: 163ms\n",
      "796:\tlearn: 0.0152595\ttotal: 638ms\tremaining: 162ms\n",
      "797:\tlearn: 0.0152480\ttotal: 639ms\tremaining: 162ms\n",
      "798:\tlearn: 0.0152371\ttotal: 640ms\tremaining: 161ms\n",
      "799:\tlearn: 0.0152286\ttotal: 640ms\tremaining: 160ms\n",
      "800:\tlearn: 0.0152179\ttotal: 641ms\tremaining: 159ms\n",
      "801:\tlearn: 0.0152077\ttotal: 642ms\tremaining: 158ms\n",
      "802:\tlearn: 0.0152011\ttotal: 644ms\tremaining: 158ms\n",
      "803:\tlearn: 0.0151931\ttotal: 644ms\tremaining: 157ms\n",
      "804:\tlearn: 0.0151763\ttotal: 645ms\tremaining: 156ms\n",
      "805:\tlearn: 0.0151555\ttotal: 647ms\tremaining: 156ms\n",
      "806:\tlearn: 0.0151274\ttotal: 648ms\tremaining: 155ms\n",
      "807:\tlearn: 0.0151031\ttotal: 649ms\tremaining: 154ms\n",
      "808:\tlearn: 0.0150967\ttotal: 649ms\tremaining: 153ms\n",
      "809:\tlearn: 0.0150806\ttotal: 651ms\tremaining: 153ms\n",
      "810:\tlearn: 0.0150719\ttotal: 652ms\tremaining: 152ms\n",
      "811:\tlearn: 0.0150634\ttotal: 653ms\tremaining: 151ms\n",
      "812:\tlearn: 0.0150543\ttotal: 653ms\tremaining: 150ms\n",
      "813:\tlearn: 0.0150452\ttotal: 656ms\tremaining: 150ms\n",
      "814:\tlearn: 0.0150402\ttotal: 656ms\tremaining: 149ms\n",
      "815:\tlearn: 0.0150359\ttotal: 657ms\tremaining: 148ms\n",
      "816:\tlearn: 0.0150112\ttotal: 659ms\tremaining: 148ms\n",
      "817:\tlearn: 0.0149720\ttotal: 660ms\tremaining: 147ms\n",
      "818:\tlearn: 0.0149675\ttotal: 660ms\tremaining: 146ms\n",
      "819:\tlearn: 0.0149618\ttotal: 661ms\tremaining: 145ms\n",
      "820:\tlearn: 0.0149504\ttotal: 662ms\tremaining: 144ms\n",
      "821:\tlearn: 0.0149427\ttotal: 663ms\tremaining: 144ms\n",
      "822:\tlearn: 0.0149164\ttotal: 664ms\tremaining: 143ms\n",
      "823:\tlearn: 0.0148929\ttotal: 664ms\tremaining: 142ms\n",
      "824:\tlearn: 0.0148759\ttotal: 665ms\tremaining: 141ms\n"
     ]
    },
    {
     "name": "stdout",
     "output_type": "stream",
     "text": [
      "825:\tlearn: 0.0148731\ttotal: 666ms\tremaining: 140ms\n",
      "826:\tlearn: 0.0148601\ttotal: 667ms\tremaining: 140ms\n",
      "827:\tlearn: 0.0148552\ttotal: 669ms\tremaining: 139ms\n",
      "828:\tlearn: 0.0148368\ttotal: 669ms\tremaining: 138ms\n",
      "829:\tlearn: 0.0148287\ttotal: 670ms\tremaining: 137ms\n",
      "830:\tlearn: 0.0148181\ttotal: 671ms\tremaining: 136ms\n",
      "831:\tlearn: 0.0148087\ttotal: 672ms\tremaining: 136ms\n",
      "832:\tlearn: 0.0147989\ttotal: 673ms\tremaining: 135ms\n",
      "833:\tlearn: 0.0147876\ttotal: 674ms\tremaining: 134ms\n",
      "834:\tlearn: 0.0147780\ttotal: 675ms\tremaining: 133ms\n",
      "835:\tlearn: 0.0147739\ttotal: 676ms\tremaining: 133ms\n",
      "836:\tlearn: 0.0147666\ttotal: 678ms\tremaining: 132ms\n",
      "837:\tlearn: 0.0147583\ttotal: 678ms\tremaining: 131ms\n",
      "838:\tlearn: 0.0147374\ttotal: 679ms\tremaining: 130ms\n",
      "839:\tlearn: 0.0147263\ttotal: 680ms\tremaining: 130ms\n",
      "840:\tlearn: 0.0147146\ttotal: 681ms\tremaining: 129ms\n",
      "841:\tlearn: 0.0146995\ttotal: 682ms\tremaining: 128ms\n",
      "842:\tlearn: 0.0146917\ttotal: 683ms\tremaining: 127ms\n",
      "843:\tlearn: 0.0146803\ttotal: 684ms\tremaining: 126ms\n",
      "844:\tlearn: 0.0146631\ttotal: 684ms\tremaining: 126ms\n",
      "845:\tlearn: 0.0146593\ttotal: 685ms\tremaining: 125ms\n",
      "846:\tlearn: 0.0146175\ttotal: 686ms\tremaining: 124ms\n",
      "847:\tlearn: 0.0146136\ttotal: 688ms\tremaining: 123ms\n",
      "848:\tlearn: 0.0146020\ttotal: 688ms\tremaining: 122ms\n",
      "849:\tlearn: 0.0145925\ttotal: 689ms\tremaining: 122ms\n",
      "850:\tlearn: 0.0145779\ttotal: 691ms\tremaining: 121ms\n",
      "851:\tlearn: 0.0145622\ttotal: 692ms\tremaining: 120ms\n",
      "852:\tlearn: 0.0145411\ttotal: 693ms\tremaining: 119ms\n",
      "853:\tlearn: 0.0145338\ttotal: 693ms\tremaining: 119ms\n",
      "854:\tlearn: 0.0145220\ttotal: 694ms\tremaining: 118ms\n",
      "855:\tlearn: 0.0144673\ttotal: 695ms\tremaining: 117ms\n",
      "856:\tlearn: 0.0144559\ttotal: 696ms\tremaining: 116ms\n",
      "857:\tlearn: 0.0144520\ttotal: 697ms\tremaining: 115ms\n",
      "858:\tlearn: 0.0144490\ttotal: 698ms\tremaining: 115ms\n",
      "859:\tlearn: 0.0144298\ttotal: 698ms\tremaining: 114ms\n",
      "860:\tlearn: 0.0144165\ttotal: 699ms\tremaining: 113ms\n",
      "861:\tlearn: 0.0143948\ttotal: 700ms\tremaining: 112ms\n",
      "862:\tlearn: 0.0143900\ttotal: 701ms\tremaining: 111ms\n",
      "863:\tlearn: 0.0143659\ttotal: 702ms\tremaining: 110ms\n",
      "864:\tlearn: 0.0143554\ttotal: 702ms\tremaining: 110ms\n",
      "865:\tlearn: 0.0143474\ttotal: 704ms\tremaining: 109ms\n",
      "866:\tlearn: 0.0143249\ttotal: 705ms\tremaining: 108ms\n",
      "867:\tlearn: 0.0143157\ttotal: 707ms\tremaining: 108ms\n",
      "868:\tlearn: 0.0142941\ttotal: 707ms\tremaining: 107ms\n",
      "869:\tlearn: 0.0142858\ttotal: 708ms\tremaining: 106ms\n",
      "870:\tlearn: 0.0142798\ttotal: 708ms\tremaining: 105ms\n",
      "871:\tlearn: 0.0142729\ttotal: 709ms\tremaining: 104ms\n",
      "872:\tlearn: 0.0142514\ttotal: 709ms\tremaining: 103ms\n",
      "873:\tlearn: 0.0142457\ttotal: 710ms\tremaining: 102ms\n",
      "874:\tlearn: 0.0142309\ttotal: 710ms\tremaining: 101ms\n",
      "875:\tlearn: 0.0142126\ttotal: 711ms\tremaining: 101ms\n",
      "876:\tlearn: 0.0141972\ttotal: 711ms\tremaining: 99.7ms\n",
      "877:\tlearn: 0.0141886\ttotal: 712ms\tremaining: 99ms\n",
      "878:\tlearn: 0.0141840\ttotal: 713ms\tremaining: 98.2ms\n",
      "879:\tlearn: 0.0141658\ttotal: 714ms\tremaining: 97.4ms\n",
      "880:\tlearn: 0.0141398\ttotal: 715ms\tremaining: 96.5ms\n",
      "881:\tlearn: 0.0141335\ttotal: 716ms\tremaining: 95.7ms\n",
      "882:\tlearn: 0.0141141\ttotal: 716ms\tremaining: 94.9ms\n",
      "883:\tlearn: 0.0140898\ttotal: 717ms\tremaining: 94.1ms\n",
      "884:\tlearn: 0.0140801\ttotal: 719ms\tremaining: 93.5ms\n",
      "885:\tlearn: 0.0140747\ttotal: 720ms\tremaining: 92.6ms\n",
      "886:\tlearn: 0.0140681\ttotal: 721ms\tremaining: 91.9ms\n",
      "887:\tlearn: 0.0140537\ttotal: 722ms\tremaining: 91.1ms\n",
      "888:\tlearn: 0.0140480\ttotal: 725ms\tremaining: 90.5ms\n",
      "889:\tlearn: 0.0140407\ttotal: 725ms\tremaining: 89.6ms\n",
      "890:\tlearn: 0.0140350\ttotal: 726ms\tremaining: 88.8ms\n",
      "891:\tlearn: 0.0140280\ttotal: 727ms\tremaining: 88ms\n",
      "892:\tlearn: 0.0140159\ttotal: 727ms\tremaining: 87.1ms\n",
      "893:\tlearn: 0.0140065\ttotal: 728ms\tremaining: 86.3ms\n",
      "894:\tlearn: 0.0140009\ttotal: 729ms\tremaining: 85.5ms\n",
      "895:\tlearn: 0.0139947\ttotal: 730ms\tremaining: 84.7ms\n",
      "896:\tlearn: 0.0139826\ttotal: 731ms\tremaining: 84ms\n",
      "897:\tlearn: 0.0139626\ttotal: 732ms\tremaining: 83.1ms\n",
      "898:\tlearn: 0.0139450\ttotal: 733ms\tremaining: 82.3ms\n",
      "899:\tlearn: 0.0139312\ttotal: 734ms\tremaining: 81.5ms\n",
      "900:\tlearn: 0.0139187\ttotal: 735ms\tremaining: 80.7ms\n",
      "901:\tlearn: 0.0139118\ttotal: 737ms\tremaining: 80.1ms\n",
      "902:\tlearn: 0.0139030\ttotal: 738ms\tremaining: 79.3ms\n",
      "903:\tlearn: 0.0138917\ttotal: 739ms\tremaining: 78.5ms\n",
      "904:\tlearn: 0.0138838\ttotal: 740ms\tremaining: 77.7ms\n",
      "905:\tlearn: 0.0138667\ttotal: 741ms\tremaining: 76.9ms\n",
      "906:\tlearn: 0.0138626\ttotal: 742ms\tremaining: 76.1ms\n",
      "907:\tlearn: 0.0138486\ttotal: 743ms\tremaining: 75.3ms\n",
      "908:\tlearn: 0.0138417\ttotal: 744ms\tremaining: 74.5ms\n",
      "909:\tlearn: 0.0138259\ttotal: 745ms\tremaining: 73.6ms\n",
      "910:\tlearn: 0.0138177\ttotal: 745ms\tremaining: 72.8ms\n",
      "911:\tlearn: 0.0138060\ttotal: 747ms\tremaining: 72ms\n",
      "912:\tlearn: 0.0138007\ttotal: 748ms\tremaining: 71.3ms\n",
      "913:\tlearn: 0.0137951\ttotal: 749ms\tremaining: 70.5ms\n",
      "914:\tlearn: 0.0137857\ttotal: 749ms\tremaining: 69.6ms\n",
      "915:\tlearn: 0.0137807\ttotal: 750ms\tremaining: 68.8ms\n",
      "916:\tlearn: 0.0137734\ttotal: 751ms\tremaining: 67.9ms\n",
      "917:\tlearn: 0.0137655\ttotal: 752ms\tremaining: 67.1ms\n",
      "918:\tlearn: 0.0137612\ttotal: 752ms\tremaining: 66.3ms\n",
      "919:\tlearn: 0.0137536\ttotal: 753ms\tremaining: 65.5ms\n",
      "920:\tlearn: 0.0137461\ttotal: 754ms\tremaining: 64.6ms\n",
      "921:\tlearn: 0.0137264\ttotal: 754ms\tremaining: 63.8ms\n",
      "922:\tlearn: 0.0137073\ttotal: 755ms\tremaining: 63ms\n"
     ]
    },
    {
     "name": "stdout",
     "output_type": "stream",
     "text": [
      "923:\tlearn: 0.0137006\ttotal: 756ms\tremaining: 62.2ms\n",
      "924:\tlearn: 0.0136898\ttotal: 758ms\tremaining: 61.5ms\n",
      "925:\tlearn: 0.0136587\ttotal: 759ms\tremaining: 60.7ms\n",
      "926:\tlearn: 0.0136555\ttotal: 760ms\tremaining: 59.8ms\n",
      "927:\tlearn: 0.0136512\ttotal: 760ms\tremaining: 59ms\n",
      "928:\tlearn: 0.0136468\ttotal: 763ms\tremaining: 58.3ms\n",
      "929:\tlearn: 0.0136429\ttotal: 764ms\tremaining: 57.5ms\n",
      "930:\tlearn: 0.0136376\ttotal: 764ms\tremaining: 56.6ms\n",
      "931:\tlearn: 0.0136301\ttotal: 765ms\tremaining: 55.8ms\n",
      "932:\tlearn: 0.0136217\ttotal: 766ms\tremaining: 55ms\n",
      "933:\tlearn: 0.0136154\ttotal: 767ms\tremaining: 54.2ms\n",
      "934:\tlearn: 0.0135999\ttotal: 768ms\tremaining: 53.4ms\n",
      "935:\tlearn: 0.0135960\ttotal: 769ms\tremaining: 52.5ms\n",
      "936:\tlearn: 0.0135847\ttotal: 769ms\tremaining: 51.7ms\n",
      "937:\tlearn: 0.0135768\ttotal: 770ms\tremaining: 50.9ms\n",
      "938:\tlearn: 0.0135642\ttotal: 771ms\tremaining: 50.1ms\n",
      "939:\tlearn: 0.0135528\ttotal: 774ms\tremaining: 49.4ms\n",
      "940:\tlearn: 0.0135470\ttotal: 775ms\tremaining: 48.6ms\n",
      "941:\tlearn: 0.0135297\ttotal: 777ms\tremaining: 47.8ms\n",
      "942:\tlearn: 0.0135162\ttotal: 777ms\tremaining: 47ms\n",
      "943:\tlearn: 0.0135125\ttotal: 779ms\tremaining: 46.2ms\n",
      "944:\tlearn: 0.0135039\ttotal: 779ms\tremaining: 45.4ms\n",
      "945:\tlearn: 0.0134963\ttotal: 781ms\tremaining: 44.6ms\n",
      "946:\tlearn: 0.0134831\ttotal: 781ms\tremaining: 43.7ms\n",
      "947:\tlearn: 0.0134649\ttotal: 782ms\tremaining: 42.9ms\n",
      "948:\tlearn: 0.0134551\ttotal: 783ms\tremaining: 42.1ms\n",
      "949:\tlearn: 0.0134475\ttotal: 784ms\tremaining: 41.3ms\n",
      "950:\tlearn: 0.0134426\ttotal: 785ms\tremaining: 40.4ms\n",
      "951:\tlearn: 0.0134377\ttotal: 786ms\tremaining: 39.6ms\n",
      "952:\tlearn: 0.0134311\ttotal: 787ms\tremaining: 38.8ms\n",
      "953:\tlearn: 0.0134157\ttotal: 789ms\tremaining: 38ms\n",
      "954:\tlearn: 0.0134098\ttotal: 789ms\tremaining: 37.2ms\n",
      "955:\tlearn: 0.0133994\ttotal: 790ms\tremaining: 36.3ms\n",
      "956:\tlearn: 0.0133902\ttotal: 791ms\tremaining: 35.5ms\n",
      "957:\tlearn: 0.0133695\ttotal: 791ms\tremaining: 34.7ms\n",
      "958:\tlearn: 0.0133621\ttotal: 791ms\tremaining: 33.8ms\n",
      "959:\tlearn: 0.0133556\ttotal: 791ms\tremaining: 33ms\n",
      "960:\tlearn: 0.0133512\ttotal: 792ms\tremaining: 32.1ms\n",
      "961:\tlearn: 0.0133341\ttotal: 792ms\tremaining: 31.3ms\n",
      "962:\tlearn: 0.0133297\ttotal: 793ms\tremaining: 30.5ms\n",
      "963:\tlearn: 0.0133127\ttotal: 795ms\tremaining: 29.7ms\n",
      "964:\tlearn: 0.0132974\ttotal: 796ms\tremaining: 28.9ms\n",
      "965:\tlearn: 0.0132847\ttotal: 797ms\tremaining: 28.1ms\n",
      "966:\tlearn: 0.0132790\ttotal: 798ms\tremaining: 27.2ms\n",
      "967:\tlearn: 0.0132654\ttotal: 799ms\tremaining: 26.4ms\n",
      "968:\tlearn: 0.0132572\ttotal: 800ms\tremaining: 25.6ms\n",
      "969:\tlearn: 0.0132489\ttotal: 801ms\tremaining: 24.8ms\n",
      "970:\tlearn: 0.0132419\ttotal: 801ms\tremaining: 23.9ms\n",
      "971:\tlearn: 0.0132288\ttotal: 803ms\tremaining: 23.1ms\n",
      "972:\tlearn: 0.0132196\ttotal: 804ms\tremaining: 22.3ms\n",
      "973:\tlearn: 0.0132177\ttotal: 804ms\tremaining: 21.5ms\n",
      "974:\tlearn: 0.0132043\ttotal: 805ms\tremaining: 20.6ms\n",
      "975:\tlearn: 0.0131880\ttotal: 806ms\tremaining: 19.8ms\n",
      "976:\tlearn: 0.0131803\ttotal: 807ms\tremaining: 19ms\n",
      "977:\tlearn: 0.0131750\ttotal: 807ms\tremaining: 18.2ms\n",
      "978:\tlearn: 0.0131717\ttotal: 808ms\tremaining: 17.3ms\n",
      "979:\tlearn: 0.0131625\ttotal: 810ms\tremaining: 16.5ms\n",
      "980:\tlearn: 0.0131528\ttotal: 812ms\tremaining: 15.7ms\n",
      "981:\tlearn: 0.0131439\ttotal: 813ms\tremaining: 14.9ms\n",
      "982:\tlearn: 0.0131325\ttotal: 815ms\tremaining: 14.1ms\n",
      "983:\tlearn: 0.0131130\ttotal: 816ms\tremaining: 13.3ms\n",
      "984:\tlearn: 0.0131022\ttotal: 818ms\tremaining: 12.5ms\n"
     ]
    },
    {
     "name": "stdout",
     "output_type": "stream",
     "text": [
      "985:\tlearn: 0.0130965\ttotal: 821ms\tremaining: 11.7ms\n",
      "986:\tlearn: 0.0130733\ttotal: 822ms\tremaining: 10.8ms\n",
      "987:\tlearn: 0.0130691\ttotal: 823ms\tremaining: 9.99ms\n",
      "988:\tlearn: 0.0130638\ttotal: 824ms\tremaining: 9.16ms\n",
      "989:\tlearn: 0.0130590\ttotal: 824ms\tremaining: 8.32ms\n",
      "990:\tlearn: 0.0130431\ttotal: 825ms\tremaining: 7.49ms\n",
      "991:\tlearn: 0.0130209\ttotal: 825ms\tremaining: 6.66ms\n",
      "992:\tlearn: 0.0130137\ttotal: 826ms\tremaining: 5.82ms\n",
      "993:\tlearn: 0.0130078\ttotal: 826ms\tremaining: 4.99ms\n",
      "994:\tlearn: 0.0129945\ttotal: 827ms\tremaining: 4.16ms\n",
      "995:\tlearn: 0.0129794\ttotal: 830ms\tremaining: 3.33ms\n",
      "996:\tlearn: 0.0129358\ttotal: 831ms\tremaining: 2.5ms\n",
      "997:\tlearn: 0.0129340\ttotal: 832ms\tremaining: 1.67ms\n",
      "998:\tlearn: 0.0129217\ttotal: 835ms\tremaining: 835us\n",
      "999:\tlearn: 0.0129091\ttotal: 836ms\tremaining: 0us\n"
     ]
    },
    {
     "data": {
      "text/plain": [
       "<catboost.core.CatBoostRegressor at 0x7fba1def50d0>"
      ]
     },
     "execution_count": 9,
     "metadata": {},
     "output_type": "execute_result"
    }
   ],
   "source": [
    "#Train the Model \n",
    "prior_model = ctb.CatBoostRegressor()\n",
    "prior_model.fit(X_train,Y_train)"
   ]
  },
  {
   "cell_type": "code",
   "execution_count": 10,
   "id": "af65dcda",
   "metadata": {
    "execution": {
     "iopub.execute_input": "2022-07-24T12:58:59.272203Z",
     "iopub.status.busy": "2022-07-24T12:58:59.271532Z",
     "iopub.status.idle": "2022-07-24T12:58:59.322361Z",
     "shell.execute_reply": "2022-07-24T12:58:59.320051Z"
    },
    "id": "af65dcda",
    "papermill": {
     "duration": 0.083824,
     "end_time": "2022-07-24T12:58:59.325881",
     "exception": false,
     "start_time": "2022-07-24T12:58:59.242057",
     "status": "completed"
    },
    "tags": []
   },
   "outputs": [
    {
     "data": {
      "application/scrapbook.scrap.json+json": {
       "data": 0.0016914536250596816,
       "encoder": "json",
       "name": "Prior Model MSE",
       "version": 1
      }
     },
     "metadata": {
      "scrapbook": {
       "data": true,
       "display": false,
       "name": "Prior Model MSE"
      }
     },
     "output_type": "display_data"
    },
    {
     "data": {
      "application/scrapbook.scrap.json+json": {
       "data": 0.8630199483941831,
       "encoder": "json",
       "name": "ABC Pre-generator MSE",
       "version": 1
      }
     },
     "metadata": {
      "scrapbook": {
       "data": true,
       "display": false,
       "name": "ABC Pre-generator MSE"
      }
     },
     "output_type": "display_data"
    },
    {
     "data": {
      "application/scrapbook.scrap.json+json": {
       "data": 0.02437111820393888,
       "encoder": "json",
       "name": "Prior Model MAE",
       "version": 1
      }
     },
     "metadata": {
      "scrapbook": {
       "data": true,
       "display": false,
       "name": "Prior Model MAE"
      }
     },
     "output_type": "display_data"
    },
    {
     "name": "stdout",
     "output_type": "stream",
     "text": [
      "Prior Model MAE 0.02437111820393888\n",
      "ABC Pre-generator MAE 0.7419292106902143\n"
     ]
    }
   ],
   "source": [
    "y_pred = prior_model.predict(X_test)\n",
    "y_abc = y_pred + np.random.normal(0,variance, y_pred.shape) + bias \n",
    "mse = mean_squared_error(y_pred,Y_test)\n",
    "sb.glue(\"Prior Model MSE\",mse)\n",
    "mse = mean_squared_error(y_abc,Y_test)\n",
    "sb.glue(\"ABC Pre-generator MSE\",mse)\n",
    "mae = mean_absolute_error(y_pred,Y_test)\n",
    "sb.glue(\"Prior Model MAE\",mae)\n",
    "print(\"Prior Model MAE\",mae)\n",
    "mae = mean_absolute_error(y_abc,Y_test)\n",
    "print(\"ABC Pre-generator MAE\",mae)"
   ]
  },
  {
   "cell_type": "markdown",
   "id": "25609da2",
   "metadata": {
    "papermill": {
     "duration": 0.043829,
     "end_time": "2022-07-24T12:58:59.385198",
     "exception": false,
     "start_time": "2022-07-24T12:58:59.341369",
     "status": "completed"
    },
    "tags": []
   },
   "source": [
    "# mGAN Model"
   ]
  },
  {
   "cell_type": "code",
   "execution_count": 11,
   "id": "dfc3464d",
   "metadata": {
    "execution": {
     "iopub.execute_input": "2022-07-24T12:58:59.435028Z",
     "iopub.status.busy": "2022-07-24T12:58:59.434770Z",
     "iopub.status.idle": "2022-07-24T12:58:59.445424Z",
     "shell.execute_reply": "2022-07-24T12:58:59.441541Z"
    },
    "papermill": {
     "duration": 0.046891,
     "end_time": "2022-07-24T12:58:59.459675",
     "exception": false,
     "start_time": "2022-07-24T12:58:59.412784",
     "status": "completed"
    },
    "tags": []
   },
   "outputs": [],
   "source": [
    "# gen = network.Generator(n_features+1).to(device)\n",
    "# disc = network.Discriminator(n_features+1).to(device)\n",
    "\n",
    "# criterion = torch.nn.BCELoss()\n",
    "# gen_opt = torch.optim.Adam(gen.parameters(), lr=0.01, betas=(0.5, 0.999))\n",
    "# disc_opt = torch.optim.Adam(disc.parameters(), lr=0.01, betas=(0.5, 0.999))"
   ]
  },
  {
   "cell_type": "code",
   "execution_count": 12,
   "id": "b75fdd85",
   "metadata": {
    "execution": {
     "iopub.execute_input": "2022-07-24T12:58:59.488468Z",
     "iopub.status.busy": "2022-07-24T12:58:59.487770Z",
     "iopub.status.idle": "2022-07-24T12:58:59.492831Z",
     "shell.execute_reply": "2022-07-24T12:58:59.491478Z"
    },
    "papermill": {
     "duration": 0.023817,
     "end_time": "2022-07-24T12:58:59.495754",
     "exception": false,
     "start_time": "2022-07-24T12:58:59.471937",
     "status": "completed"
    },
    "tags": []
   },
   "outputs": [],
   "source": [
    "#Training the ABC_GAN \n",
    "# ABC_train_test2.training_GAN(disc,gen,disc_opt,gen_opt,train_data,batch_size,n_epochs,criterion,prior_model,variance,bias,device)"
   ]
  },
  {
   "cell_type": "code",
   "execution_count": 13,
   "id": "1fa7c368",
   "metadata": {
    "execution": {
     "iopub.execute_input": "2022-07-24T12:58:59.519082Z",
     "iopub.status.busy": "2022-07-24T12:58:59.518431Z",
     "iopub.status.idle": "2022-07-24T12:58:59.522625Z",
     "shell.execute_reply": "2022-07-24T12:58:59.521833Z"
    },
    "papermill": {
     "duration": 0.020782,
     "end_time": "2022-07-24T12:58:59.527100",
     "exception": false,
     "start_time": "2022-07-24T12:58:59.506318",
     "status": "completed"
    },
    "tags": []
   },
   "outputs": [],
   "source": [
    "# ABC_GAN1_metrics=ABC_train_test2.test_generator(gen,test_data,prior_model,variance,bias,\"1\",device)\n",
    "# sb.glue(\"ABC_GAN_1 Metrics\",ABC_GAN1_metrics)\n",
    "\n",
    "# print(\"MAE\")\n",
    "# print(mean(ABC_GAN1_metrics[1]))"
   ]
  },
  {
   "cell_type": "code",
   "execution_count": 14,
   "id": "eb22ce5c",
   "metadata": {
    "execution": {
     "iopub.execute_input": "2022-07-24T12:58:59.557464Z",
     "iopub.status.busy": "2022-07-24T12:58:59.556741Z",
     "iopub.status.idle": "2022-07-24T12:58:59.562124Z",
     "shell.execute_reply": "2022-07-24T12:58:59.560316Z"
    },
    "papermill": {
     "duration": 0.024928,
     "end_time": "2022-07-24T12:58:59.565227",
     "exception": false,
     "start_time": "2022-07-24T12:58:59.540299",
     "status": "completed"
    },
    "tags": []
   },
   "outputs": [],
   "source": [
    "# sanityChecks.discProbVsError(train_data,disc,device)\n",
    "# sanityChecks.discProbVsError(test_data,disc,device)"
   ]
  },
  {
   "cell_type": "markdown",
   "id": "573d3e79",
   "metadata": {
    "papermill": {
     "duration": 0.015975,
     "end_time": "2022-07-24T12:58:59.597227",
     "exception": false,
     "start_time": "2022-07-24T12:58:59.581252",
     "status": "completed"
    },
    "tags": []
   },
   "source": [
    "# mGAN Model with TabNet Generator"
   ]
  },
  {
   "cell_type": "code",
   "execution_count": 15,
   "id": "5f06b264",
   "metadata": {
    "execution": {
     "iopub.execute_input": "2022-07-24T12:58:59.622134Z",
     "iopub.status.busy": "2022-07-24T12:58:59.621537Z",
     "iopub.status.idle": "2022-07-24T12:58:59.631921Z",
     "shell.execute_reply": "2022-07-24T12:58:59.630300Z"
    },
    "papermill": {
     "duration": 0.03814,
     "end_time": "2022-07-24T12:58:59.646673",
     "exception": false,
     "start_time": "2022-07-24T12:58:59.608533",
     "status": "completed"
    },
    "tags": []
   },
   "outputs": [],
   "source": [
    "gen2 = network.GeneratorTabnet(n_features+1).to(device)\n",
    "disc2 = network.Discriminator(n_features+1).to(device)\n",
    "\n",
    "criterion = torch.nn.BCELoss()\n",
    "gen_opt = torch.optim.Adam(gen2.parameters(), lr=0.01, betas=(0.5, 0.999))\n",
    "disc_opt = torch.optim.Adam(disc2.parameters(), lr=0.01, betas=(0.5, 0.999))"
   ]
  },
  {
   "cell_type": "code",
   "execution_count": 16,
   "id": "3f7dd1a3",
   "metadata": {
    "execution": {
     "iopub.execute_input": "2022-07-24T12:58:59.694716Z",
     "iopub.status.busy": "2022-07-24T12:58:59.694084Z",
     "iopub.status.idle": "2022-07-24T13:03:13.714787Z",
     "shell.execute_reply": "2022-07-24T13:03:13.711402Z"
    },
    "papermill": {
     "duration": 254.05476,
     "end_time": "2022-07-24T13:03:13.722225",
     "exception": false,
     "start_time": "2022-07-24T12:58:59.667465",
     "status": "completed"
    },
    "tags": []
   },
   "outputs": [
    {
     "data": {
      "image/png": "[encoded data removed]",
      "text/plain": [
       "<Figure size 432x288 with 1 Axes>"
      ]
     },
     "metadata": {
      "needs_background": "light"
     },
     "output_type": "display_data"
    },
    {
     "data": {
      "image/png": "[encoded data removed]",
      "text/plain": [
       "<Figure size 432x288 with 1 Axes>"
      ]
     },
     "metadata": {
      "needs_background": "light"
     },
     "output_type": "display_data"
    }
   ],
   "source": [
    "#Training the ABC_GAN \n",
    "ABC_train_test2.training_GAN(disc2,gen2,disc_opt,gen_opt,train_data,batch_size,n_epochs,criterion,prior_model,variance,bias,device)"
   ]
  },
  {
   "cell_type": "code",
   "execution_count": 17,
   "id": "9bba8344",
   "metadata": {
    "execution": {
     "iopub.execute_input": "2022-07-24T13:03:13.759715Z",
     "iopub.status.busy": "2022-07-24T13:03:13.759151Z",
     "iopub.status.idle": "2022-07-24T13:03:14.511892Z",
     "shell.execute_reply": "2022-07-24T13:03:14.510729Z"
    },
    "papermill": {
     "duration": 0.776451,
     "end_time": "2022-07-24T13:03:14.516295",
     "exception": false,
     "start_time": "2022-07-24T13:03:13.739844",
     "status": "completed"
    },
    "tags": []
   },
   "outputs": [
    {
     "data": {
      "application/scrapbook.scrap.json+json": {
       "data": 0.0062823715669419284,
       "encoder": "json",
       "name": "ABC-GAN Model 1 MSE",
       "version": 1
      }
     },
     "metadata": {
      "scrapbook": {
       "data": true,
       "display": false,
       "name": "ABC-GAN Model 1 MSE"
      }
     },
     "output_type": "display_data"
    },
    {
     "data": {
      "application/scrapbook.scrap.json+json": {
       "data": 0.04965883009619527,
       "encoder": "json",
       "name": "ABC-GAN Model 1 MAE",
       "version": 1
      }
     },
     "metadata": {
      "scrapbook": {
       "data": true,
       "display": false,
       "name": "ABC-GAN Model 1 MAE"
      }
     },
     "output_type": "display_data"
    },
    {
     "data": {
      "application/scrapbook.scrap.json+json": {
       "data": 7.647459834814072,
       "encoder": "json",
       "name": "ABC-GAN Model 1 Manhattan Distance",
       "version": 1
      }
     },
     "metadata": {
      "scrapbook": {
       "data": true,
       "display": false,
       "name": "ABC-GAN Model 1 Manhattan Distance"
      }
     },
     "output_type": "display_data"
    },
    {
     "data": {
      "application/scrapbook.scrap.json+json": {
       "data": 0.9831974806545781,
       "encoder": "json",
       "name": "ABC-GAN Model 1 Euclidean distance",
       "version": 1
      }
     },
     "metadata": {
      "scrapbook": {
       "data": true,
       "display": false,
       "name": "ABC-GAN Model 1 Euclidean distance"
      }
     },
     "output_type": "display_data"
    },
    {
     "data": {
      "application/scrapbook.scrap.json+json": {
       "data": [
        [
         0.006598125519730886,
         0.005719060355597453,
         0.006423863741430067,
         0.0059234023427772176,
         0.006753674436578006,
         0.006286610947544776,
         0.006558487324333646,
         0.005994914330181654,
         0.006298024802520281,
         0.005959285861343009,
         0.006464919630615442,
         0.005584432601445626,
         0.006508843598551994,
         0.006353689244240765,
         0.007058342119544149,
         0.006281551427344134,
         0.006403347691781242,
         0.005957839304057791,
         0.006120164014908173,
         0.00629385990105104,
         0.0066083833863064155,
         0.005936374075619674,
         0.005773043799077153,
         0.006553374699606807,
         0.007040888512706286,
         0.006538442078640268,
         0.006154240244112605,
         0.005775067574212222,
         0.006444505735159642,
         0.006300198358531036,
         0.005622460845471669,
         0.006185753836857344,
         0.006346962371537754,
         0.006491016647969299,
         0.0065663941004395114,
         0.006404519616446282,
         0.006143962008364881,
         0.0067090588291365645,
         0.006002881552770553,
         0.005766039875566398,
         0.005990114413376185,
         0.005650145960344823,
         0.005449905624536321,
         0.0070369991415400795,
         0.006165522754701707,
         0.006928549695366131,
         0.00636597637133096,
         0.006504667037861251,
         0.005921945156648504,
         0.006606312073664664,
         0.006293598241872693,
         0.005858450646302898,
         0.005750652783678327,
         0.006445268201944249,
         0.006243808172382409,
         0.006883050588729616,
         0.006760588939663382,
         0.005807159358453224,
         0.005958787104164011,
         0.005493151972000695,
         0.006665526269013539,
         0.006377059775191042,
         0.005930300878222466,
         0.006870959135599591,
         0.006491012039606275,
         0.006257778466605311,
         0.006612716240681023,
         0.006425907731276501,
         0.006677531651531455,
         0.005891184778216302,
         0.006107868882242895,
         0.006429623152154397,
         0.006846471108633573,
         0.006292938390554045,
         0.00627048949681614,
         0.00612212566485594,
         0.006448983248314633,
         0.00593189330144167,
         0.006526636927592099,
         0.006590820092368012,
         0.00560048020947921,
         0.006006272063473858,
         0.006289773015233983,
         0.005765472260070603,
         0.006305178120689257,
         0.006804679657958344,
         0.006583436135331033,
         0.006281362784907778,
         0.00589352660942147,
         0.006252303114347465,
         0.006593396564314776,
         0.005975616746536232,
         0.006100704543869955,
         0.0065950245793643236,
         0.006412430097144457,
         0.006272672709952228,
         0.006486750109736112,
         0.006513813373342826,
         0.0063724742786728005,
         0.00634330090675734
        ],
        [
         0.05026929690079256,
         0.048441223993703916,
         0.04989157220372906,
         0.048640145787170956,
         0.050897334593457064,
         0.0495822016488422,
         0.04954416962800088,
         0.04989159136236488,
         0.04972761298541899,
         0.04961759771232481,
         0.04983392580376043,
         0.04844691023811117,
         0.05028516450872669,
         0.05042916081555478,
         0.05120434205640446,
         0.04980349453625741,
         0.049386655258667936,
         0.04932826728402794,
         0.049390491243306696,
         0.049805176819299725,
         0.05057951140326339,
         0.04852749881419269,
         0.04880604041474206,
         0.05057912842406855,
         0.05039591516380186,
         0.0500556564369759,
         0.04975810811504141,
         0.04861468589538104,
         0.049669591153596905,
         0.04950686524827759,
         0.048256020170527616,
         0.049409860430599806,
         0.04962735952107937,
         0.04947084391658956,
         0.049771024906016016,
         0.05039380519808113,
         0.04980460167318195,
         0.05071080940497386,
         0.048656065452408484,
         0.04891420949202079,
         0.04987403953617269,
         0.04869682961083078,
         0.047876118549278805,
         0.05119342144046511,
         0.04930340730911725,
         0.05078138652947042,
         0.05027403179314229,
         0.04971639763612252,
         0.04902388416714482,
         0.05020789695637567,
         0.04957741508623222,
         0.04888097177465241,
         0.04916900522136069,
         0.049986733534893434,
         0.049321242837936846,
         0.051112993487289975,
         0.05041908995284663,
         0.049164161182843245,
         0.04955226637713321,
         0.04854056422973608,
         0.05020961542795231,
         0.05046924184282105,
         0.04915836888861347,
         0.050911308786311706,
         0.050236008480771796,
         0.04955353142766209,
         0.049846078184517945,
         0.05019583049919698,
         0.05043167775714552,
         0.04888880049640482,
         0.0489436418011591,
         0.04989704847722858,
         0.04991575020861316,
         0.04962453933118226,
         0.0494578146895805,
         0.04935490533516004,
         0.04921378456539922,
         0.049225301227786324,
         0.05029754292268258,
         0.0498450207826379,
         0.047888452646794255,
         0.04897709413395299,
         0.049874020377536875,
         0.048940859735012054,
         0.04990306680465673,
         0.05007254235543214,
         0.05032351487255716,
         0.05020583691922101,
         0.04835036542121466,
         0.04948757095383359,
         0.05053643969359336,
         0.04946080962945888,
         0.04878441399181044,
         0.050235041453466786,
         0.049685186476676496,
         0.04908350913168548,
         0.049971606534022786,
         0.05019061915673219,
         0.05021534656936472,
         0.04942510780188945
        ],
        [
         7.7414717227220535,
         7.459948495030403,
         7.683302119374275,
         7.490582451224327,
         7.838189527392387,
         7.6356590539216995,
         7.629802122712135,
         7.683305069804192,
         7.658052399754524,
         7.641110047698021,
         7.674424573779106,
         7.460824176669121,
         7.74391533434391,
         7.766090765595436,
         7.885468676686287,
         7.669738158583641,
         7.605544909834862,
         7.596553161740303,
         7.606135651469231,
         7.669997230172157,
         7.789244756102562,
         7.4732348173856735,
         7.516130223870277,
         7.789185777306557,
         7.760970935225487,
         7.708571091294289,
         7.662748649716377,
         7.4866616278886795,
         7.649117037653923,
         7.624057248234749,
         7.431427106261253,
         7.60911850631237,
         7.6426133662462234,
         7.618509963154793,
         7.664737835526466,
         7.760646000504494,
         7.669908657670021,
         7.809464648365974,
         7.493034079670906,
         7.532788261771202,
         7.680602088570595,
         7.49931176006794,
         7.372922256588936,
         7.883786901831627,
         7.592724725604057,
         7.8203335255384445,
         7.742200896143913,
         7.656325235962868,
         7.549678161740303,
         7.732016131281853,
         7.634921923279762,
         7.527669653296471,
         7.572026804089546,
         7.697956964373589,
         7.5954713970422745,
         7.871400997042656,
         7.76453985273838,
         7.57128082215786,
         7.631049022078514,
         7.475246891379356,
         7.7322807759046555,
         7.772263243794441,
         7.570388808846474,
         7.840341553092003,
         7.7363453060388565,
         7.6312438398599625,
         7.676296040415764,
         7.730157896876335,
         7.7664783746004105,
         7.5288752764463425,
         7.537320837378502,
         7.684145465493202,
         7.687025532126427,
         7.642179057002068,
         7.616503462195396,
         7.600655421614647,
         7.57892282307148,
         7.580696389079094,
         7.745821610093117,
         7.6761332005262375,
         7.374821707606316,
         7.542472496628761,
         7.680599138140678,
         7.536892399191856,
         7.685072287917137,
         7.711171522736549,
         7.749821290373802,
         7.731698885560036,
         7.445956274867058,
         7.621085926890373,
         7.782611712813377,
         7.616964682936668,
         7.512799754738808,
         7.736196383833885,
         7.65151871740818,
         7.558860406279564,
         7.69562740623951,
         7.729355350136757,
         7.733163371682167,
         7.611466601490974
        ],
        [
         1.008023476928269,
         0.9384749835568382,
         0.9946230523068678,
         0.9550936921515562,
         1.0198361943140737,
         0.9839400824856641,
         1.0049910685908514,
         0.9608417178952914,
         0.9848328891685753,
         0.9579822663529964,
         0.9977963835947583,
         0.9273632624935206,
         1.001180260580984,
         0.9891754867631313,
         1.04258557749942,
         0.9835440609403305,
         0.9930335062495682,
         0.9578659889696991,
         0.9708271001037511,
         0.9845071989385655,
         1.0088067413985633,
         0.9561389060410782,
         0.9428938143067233,
         1.0045992752035253,
         1.0412957461532089,
         1.003454074739149,
         0.9735260641571654,
         0.9430590683667075,
         0.9962197966385655,
         0.9850028158405333,
         0.9305154325440482,
         0.9760154152860655,
         0.9886517107742312,
         0.9998082635121956,
         1.0055966842962862,
         0.9931243733454171,
         0.9727127784131304,
         1.0164620306174899,
         0.9614799837368769,
         0.9423216758820872,
         0.9604569848045943,
         0.9328035580405463,
         0.9161252459017781,
         1.0410081016962223,
         0.9744180336098377,
         1.0329553006235963,
         0.9901314868162551,
         1.0008589929808458,
         0.9549762060511611,
         1.0086486302694107,
         0.9844867339118363,
         0.9498428288567778,
         0.9410635093799262,
         0.9962787276156279,
         0.980584753372645,
         1.0295580559950763,
         1.0203581217926188,
         0.9456757061497332,
         0.9579421767733466,
         0.9197529036040641,
         1.0131589438129067,
         0.9909930400257211,
         0.9556496927463849,
         1.0286533463136827,
         0.9998079086001301,
         0.9816811518294614,
         1.0091374044523755,
         0.9947812777774726,
         1.014070941470982,
         0.9524927589463924,
         0.9698514359763591,
         0.995068824469834,
         1.0268186552305962,
         0.9844351233805725,
         0.9826776595149019,
         0.970982673577554,
         0.9965658133010852,
         0.9557779911789229,
         1.002547797787808,
         1.0074652818954477,
         0.9286947573125404,
         0.9617514740175729,
         0.9841875046687157,
         0.9422752931340569,
         0.9853920187347498,
         1.023679963331111,
         1.0069007720927514,
         0.9835292923323625,
         0.9526820549642501,
         0.9812515883347703,
         1.0076621809438298,
         0.959294000276547,
         0.9692824664441079,
         1.0077865772186618,
         0.993737508077584,
         0.9828487153843378,
         0.9994796230535975,
         1.001562409186165,
         0.9906366836109045,
         0.9883665006669491
        ]
       ],
       "encoder": "json",
       "name": "ABC_GAN_2 Metrics",
       "version": 1
      }
     },
     "metadata": {
      "scrapbook": {
       "data": true,
       "display": false,
       "name": "ABC_GAN_2 Metrics"
      }
     },
     "output_type": "display_data"
    },
    {
     "name": "stdout",
     "output_type": "stream",
     "text": [
      "MAE\n",
      "0.04965883009619527\n"
     ]
    }
   ],
   "source": [
    "ABC_GAN2_metrics=ABC_train_test2.test_generator(gen2,test_data,prior_model,variance,bias,\"1\",device)\n",
    "sb.glue(\"ABC_GAN_2 Metrics\",ABC_GAN2_metrics)\n",
    "\n",
    "print(\"MAE\")\n",
    "print(mean(ABC_GAN2_metrics[1]))"
   ]
  },
  {
   "cell_type": "code",
   "execution_count": 18,
   "id": "74afd834",
   "metadata": {
    "execution": {
     "iopub.execute_input": "2022-07-24T13:03:14.554573Z",
     "iopub.status.busy": "2022-07-24T13:03:14.553861Z",
     "iopub.status.idle": "2022-07-24T13:03:15.586407Z",
     "shell.execute_reply": "2022-07-24T13:03:15.584428Z"
    },
    "papermill": {
     "duration": 1.055491,
     "end_time": "2022-07-24T13:03:15.589127",
     "exception": false,
     "start_time": "2022-07-24T13:03:14.533636",
     "status": "completed"
    },
    "tags": []
   },
   "outputs": [
    {
     "data": {
      "image/png": "[encoded data removed]",
      "text/plain": [
       "<Figure size 432x288 with 1 Axes>"
      ]
     },
     "metadata": {
      "needs_background": "light"
     },
     "output_type": "display_data"
    },
    {
     "data": {
      "image/png": "[encoded data removed]",
      "text/plain": [
       "<Figure size 432x288 with 1 Axes>"
      ]
     },
     "metadata": {
      "needs_background": "light"
     },
     "output_type": "display_data"
    },
    {
     "data": {
      "image/png": "[encoded data removed]",
      "text/plain": [
       "<Figure size 432x288 with 1 Axes>"
      ]
     },
     "metadata": {
      "needs_background": "light"
     },
     "output_type": "display_data"
    },
    {
     "data": {
      "image/png": "[encoded data removed]",
      "text/plain": [
       "<Figure size 432x288 with 1 Axes>"
      ]
     },
     "metadata": {
      "needs_background": "light"
     },
     "output_type": "display_data"
    }
   ],
   "source": [
    "sanityChecks.discProbVsError(train_data,disc2,device)\n",
    "sanityChecks.discProbVsError(test_data,disc2,device)"
   ]
  },
  {
   "cell_type": "markdown",
   "id": "130f3a4d",
   "metadata": {
    "id": "130f3a4d",
    "papermill": {
     "duration": 0.021575,
     "end_time": "2022-07-24T13:03:15.628623",
     "exception": false,
     "start_time": "2022-07-24T13:03:15.607048",
     "status": "completed"
    },
    "tags": []
   },
   "source": [
    "# skipGAN Model"
   ]
  },
  {
   "cell_type": "code",
   "execution_count": 19,
   "id": "4e43dad1",
   "metadata": {
    "execution": {
     "iopub.execute_input": "2022-07-24T13:03:15.671411Z",
     "iopub.status.busy": "2022-07-24T13:03:15.670289Z",
     "iopub.status.idle": "2022-07-24T13:03:15.678575Z",
     "shell.execute_reply": "2022-07-24T13:03:15.676262Z"
    },
    "id": "4e43dad1",
    "papermill": {
     "duration": 0.031636,
     "end_time": "2022-07-24T13:03:15.683934",
     "exception": false,
     "start_time": "2022-07-24T13:03:15.652298",
     "status": "completed"
    },
    "tags": []
   },
   "outputs": [],
   "source": [
    "# #Generator\n",
    "# gen3 = network.GeneratorWithSkipConnection(n_features+1).to(device)\n",
    "# constraints=network.weightConstraint()\n",
    "# #Discriminator \n",
    "# disc3 = network.Discriminator(n_features+1).to(device)\n",
    "\n",
    "# criterion = torch.nn.BCELoss()\n",
    "# gen_opt = torch.optim.Adam(gen3.parameters(), lr=0.01, betas=(0.5, 0.999))\n",
    "# disc_opt = torch.optim.Adam(disc3.parameters(), lr=0.01, betas=(0.5, 0.999))\n"
   ]
  },
  {
   "cell_type": "markdown",
   "id": "575f9218",
   "metadata": {
    "tags": [
     "papermill-error-cell-tag"
    ]
   },
   "source": [
    "<span id=\"papermill-error-cell\" style=\"color:red; font-family:Helvetica Neue, Helvetica, Arial, sans-serif; font-size:2em;\">Execution using papermill encountered an exception here and stopped:</span>"
   ]
  },
  {
   "cell_type": "code",
   "execution_count": 20,
   "id": "26acbc37",
   "metadata": {
    "execution": {
     "iopub.execute_input": "2022-07-24T13:03:15.730134Z",
     "iopub.status.busy": "2022-07-24T13:03:15.729271Z",
     "iopub.status.idle": "2022-07-24T13:03:16.853438Z",
     "shell.execute_reply": "2022-07-24T13:03:16.850791Z"
    },
    "id": "26acbc37",
    "papermill": {
     "duration": 1.15013,
     "end_time": "2022-07-24T13:03:16.857246",
     "exception": true,
     "start_time": "2022-07-24T13:03:15.707116",
     "status": "failed"
    },
    "tags": []
   },
   "outputs": [
    {
     "ename": "NameError",
     "evalue": "name 'disc3' is not defined",
     "output_type": "error",
     "traceback": [
      "\u001b[0;31m---------------------------------------------------------------------------\u001b[0m",
      "\u001b[0;31mNameError\u001b[0m                                 Traceback (most recent call last)",
      "Input \u001b[0;32mIn [20]\u001b[0m, in \u001b[0;36m<cell line: 1>\u001b[0;34m()\u001b[0m\n\u001b[0;32m----> 1\u001b[0m ABC_train_test2\u001b[38;5;241m.\u001b[39mtraining_GAN_skip_connection(\u001b[43mdisc3\u001b[49m,gen3,disc_opt,gen_opt,train_data,batch_size,n_epochs,criterion,prior_model,variance,bias,device)\n",
      "\u001b[0;31mNameError\u001b[0m: name 'disc3' is not defined"
     ]
    }
   ],
   "source": [
    "ABC_train_test2.training_GAN_skip_connection(disc3,gen3,disc_opt,gen_opt,train_data,batch_size,n_epochs,criterion,prior_model,variance,bias,device)"
   ]
  },
  {
   "cell_type": "code",
   "execution_count": null,
   "id": "c5e0717b",
   "metadata": {
    "id": "c5e0717b",
    "papermill": {
     "duration": null,
     "end_time": null,
     "exception": null,
     "start_time": null,
     "status": "pending"
    },
    "tags": []
   },
   "outputs": [],
   "source": [
    "# ABC_GAN3_metrics=ABC_train_test2.test_generator(gen3,test_data,prior_model,variance,bias,\"3\",device)\n",
    "# sb.glue(\"ABC_GAN_3 Metrics\",ABC_GAN3_metrics)\n",
    "\n",
    "# print(\"MAE\")\n",
    "# print(mean(ABC_GAN3_metrics[1]))"
   ]
  },
  {
   "cell_type": "code",
   "execution_count": null,
   "id": "c8e46b48",
   "metadata": {
    "id": "c8e46b48",
    "papermill": {
     "duration": null,
     "end_time": null,
     "exception": null,
     "start_time": null,
     "status": "pending"
    },
    "tags": []
   },
   "outputs": [],
   "source": [
    "# sanityChecks.discProbVsError(train_data,disc3,device)\n",
    "# sanityChecks.discProbVsError(test_data,disc3,device)"
   ]
  },
  {
   "cell_type": "markdown",
   "id": "e08e34c5",
   "metadata": {
    "id": "130f3a4d",
    "papermill": {
     "duration": null,
     "end_time": null,
     "exception": null,
     "start_time": null,
     "status": "pending"
    },
    "tags": []
   },
   "source": [
    "# skipGAN Model with TabNet Generator"
   ]
  },
  {
   "cell_type": "code",
   "execution_count": null,
   "id": "06e57f8d",
   "metadata": {
    "id": "4e43dad1",
    "papermill": {
     "duration": null,
     "end_time": null,
     "exception": null,
     "start_time": null,
     "status": "pending"
    },
    "tags": []
   },
   "outputs": [],
   "source": [
    "# #Generator\n",
    "# gen4 = network.GeneratorTabnetskipConnection(n_features+1).to(device)\n",
    "# constraints=network.weightConstraint()\n",
    "# #Discriminator \n",
    "# disc4 = network.Discriminator(n_features+1).to(device)\n",
    "\n",
    "# criterion = torch.nn.BCELoss()\n",
    "# gen_opt = torch.optim.Adam(gen4.parameters(), lr=0.01, betas=(0.5, 0.999))\n",
    "# disc_opt = torch.optim.Adam(disc4.parameters(), lr=0.01, betas=(0.5, 0.999))\n"
   ]
  },
  {
   "cell_type": "code",
   "execution_count": null,
   "id": "fa3e56e5",
   "metadata": {
    "id": "26acbc37",
    "papermill": {
     "duration": null,
     "end_time": null,
     "exception": null,
     "start_time": null,
     "status": "pending"
    },
    "tags": []
   },
   "outputs": [],
   "source": [
    "# ABC_train_test2.training_GAN_skip_connection(disc4,gen4,disc_opt,gen_opt,train_data,batch_size,n_epochs,criterion,prior_model,variance,bias,device)"
   ]
  },
  {
   "cell_type": "code",
   "execution_count": null,
   "id": "c0592735",
   "metadata": {
    "id": "c5e0717b",
    "papermill": {
     "duration": null,
     "end_time": null,
     "exception": null,
     "start_time": null,
     "status": "pending"
    },
    "tags": []
   },
   "outputs": [],
   "source": [
    "# ABC_GAN4_metrics=ABC_train_test2.test_generator(gen4,test_data,prior_model,variance,bias,\"3\",device)\n",
    "# sb.glue(\"ABC_GAN_4 Metrics\",ABC_GAN4_metrics)\n",
    "\n",
    "# print(\"MAE\")\n",
    "# print(mean(ABC_GAN4_metrics[1]))"
   ]
  },
  {
   "cell_type": "code",
   "execution_count": null,
   "id": "54ff0334",
   "metadata": {
    "id": "c8e46b48",
    "papermill": {
     "duration": null,
     "end_time": null,
     "exception": null,
     "start_time": null,
     "status": "pending"
    },
    "tags": []
   },
   "outputs": [],
   "source": [
    "# sanityChecks.discProbVsError(train_data,disc4,device)\n",
    "# sanityChecks.discProbVsError(test_data,disc4,device)"
   ]
  },
  {
   "cell_type": "markdown",
   "id": "a5bd74c3",
   "metadata": {
    "id": "a5bd74c3",
    "papermill": {
     "duration": null,
     "end_time": null,
     "exception": null,
     "start_time": null,
     "status": "pending"
    },
    "tags": []
   },
   "source": [
    "## Skip Connection Model Analysis - ABC-GAN "
   ]
  },
  {
   "cell_type": "markdown",
   "id": "5744a8bf",
   "metadata": {
    "id": "5744a8bf",
    "papermill": {
     "duration": null,
     "end_time": null,
     "exception": null,
     "start_time": null,
     "status": "pending"
    },
    "tags": []
   },
   "source": [
    "### Weight Analysis \n",
    "\n",
    "Study the weights of the skip connection layer\n",
    "\n",
    "Equation of the skip connection is \n",
    "\n",
    "$output = y_{gan} * w + y_{abc} * (1-w)$"
   ]
  },
  {
   "cell_type": "code",
   "execution_count": null,
   "id": "52c31dea",
   "metadata": {
    "id": "52c31dea",
    "papermill": {
     "duration": null,
     "end_time": null,
     "exception": null,
     "start_time": null,
     "status": "pending"
    },
    "tags": []
   },
   "outputs": [],
   "source": [
    "# print(\"Weight of the node at skip connection\")\n",
    "# for name,param in gen3.named_parameters():\n",
    "#     if(name == \"skipNode.weight\"):\n",
    "#         print(param)\n",
    "#         sb.glue(\"Skip Connection Weight\",param.item())"
   ]
  },
  {
   "cell_type": "markdown",
   "id": "add5c2a7",
   "metadata": {
    "id": "a5bd74c3",
    "papermill": {
     "duration": null,
     "end_time": null,
     "exception": null,
     "start_time": null,
     "status": "pending"
    },
    "tags": []
   },
   "source": [
    "## skipGAN Model Analysis (TabNet Generator) "
   ]
  },
  {
   "cell_type": "markdown",
   "id": "3184c771",
   "metadata": {
    "id": "5744a8bf",
    "papermill": {
     "duration": null,
     "end_time": null,
     "exception": null,
     "start_time": null,
     "status": "pending"
    },
    "tags": []
   },
   "source": [
    "### Weight Analysis \n",
    "\n",
    "Study the weights of the skip connection layer\n",
    "\n",
    "Equation of the skip connection is \n",
    "\n",
    "$output = y_{gan} * w + y_{abc} * (1-w)$"
   ]
  },
  {
   "cell_type": "code",
   "execution_count": null,
   "id": "68c505cf",
   "metadata": {
    "id": "52c31dea",
    "papermill": {
     "duration": null,
     "end_time": null,
     "exception": null,
     "start_time": null,
     "status": "pending"
    },
    "tags": []
   },
   "outputs": [],
   "source": [
    "# print(\"Weight of the node at skip connection\")\n",
    "# for name,param in gen4.named_parameters():\n",
    "#     if(name == \"skipNode.weight\"):\n",
    "#         print(param)\n",
    "#         sb.glue(\"Skip Connection Weight\",param.item())"
   ]
  }
 ],
 "metadata": {
  "colab": {
   "collapsed_sections": [],
   "name": "ABC_GAN_Model-Catboost_Pre-gen.ipynb",
   "provenance": []
  },
  "interpreter": {
   "hash": "31f2aee4e71d21fbe5cf8b01ff0e069b9275f58929596ceb00d14d90e3e16cd6"
  },
  "kernelspec": {
   "display_name": "Python 3 (ipykernel)",
   "language": "python",
   "name": "python3"
  },
  "language_info": {
   "codemirror_mode": {
    "name": "ipython",
    "version": 3
   },
   "file_extension": ".py",
   "mimetype": "text/x-python",
   "name": "python",
   "nbconvert_exporter": "python",
   "pygments_lexer": "ipython3",
   "version": "3.8.13"
  },
  "papermill": {
   "default_parameters": {},
   "duration": 281.043414,
   "end_time": "2022-07-24T13:03:19.421777",
   "environment_variables": {},
   "exception": true,
   "input_path": "ABC_GAN-Catboost.ipynb",
   "output_path": "./ABC_GAN_Catboost/ABC-GAN_output_3_3.ipynb",
   "parameters": {
    "bias": 0.1,
    "variance": 1
   },
   "start_time": "2022-07-24T12:58:38.378363",
   "version": "2.3.3"
  }
 },
 "nbformat": 4,
 "nbformat_minor": 5
}