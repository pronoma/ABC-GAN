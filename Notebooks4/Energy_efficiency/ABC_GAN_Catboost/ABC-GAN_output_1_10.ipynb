{
 "cells": [
  {
   "cell_type": "markdown",
   "id": "622780e6",
   "metadata": {
    "id": "622780e6",
    "papermill": {
     "duration": 0.01246,
     "end_time": "2022-07-24T22:34:09.249703",
     "exception": false,
     "start_time": "2022-07-24T22:34:09.237243",
     "status": "completed"
    },
    "tags": []
   },
   "source": [
    "## Import Libraries "
   ]
  },
  {
   "cell_type": "code",
   "execution_count": 1,
   "id": "a62397e3",
   "metadata": {
    "execution": {
     "iopub.execute_input": "2022-07-24T22:34:09.268802Z",
     "iopub.status.busy": "2022-07-24T22:34:09.268193Z",
     "iopub.status.idle": "2022-07-24T22:34:09.281161Z",
     "shell.execute_reply": "2022-07-24T22:34:09.279863Z"
    },
    "id": "a62397e3",
    "papermill": {
     "duration": 0.02628,
     "end_time": "2022-07-24T22:34:09.284867",
     "exception": false,
     "start_time": "2022-07-24T22:34:09.258587",
     "status": "completed"
    },
    "tags": []
   },
   "outputs": [],
   "source": [
    "import warnings\n",
    "import sys\n",
    "sys.path.insert(0, '../../src')\n",
    "warnings.filterwarnings('ignore')"
   ]
  },
  {
   "cell_type": "code",
   "execution_count": 2,
   "id": "d6a4e155",
   "metadata": {
    "execution": {
     "iopub.execute_input": "2022-07-24T22:34:09.303833Z",
     "iopub.status.busy": "2022-07-24T22:34:09.303399Z",
     "iopub.status.idle": "2022-07-24T22:34:16.053302Z",
     "shell.execute_reply": "2022-07-24T22:34:16.052493Z"
    },
    "id": "d6a4e155",
    "papermill": {
     "duration": 6.761894,
     "end_time": "2022-07-24T22:34:16.056392",
     "exception": false,
     "start_time": "2022-07-24T22:34:09.294498",
     "status": "completed"
    },
    "tags": []
   },
   "outputs": [],
   "source": [
    "import ABC_train_test2\n",
    "import energyefficiencyDataset\n",
    "import network\n",
    "import dataset\n",
    "import sanityChecks\n",
    "import torch \n",
    "import scrapbook as sb\n",
    "from statistics import mean \n",
    "import catboost as ctb \n",
    "from sklearn.model_selection import train_test_split\n",
    "from sklearn.metrics import mean_squared_error,mean_absolute_error\n",
    "import numpy as np"
   ]
  },
  {
   "cell_type": "markdown",
   "id": "2fa5b0f7",
   "metadata": {
    "id": "2fa5b0f7",
    "papermill": {
     "duration": 0.007635,
     "end_time": "2022-07-24T22:34:16.072111",
     "exception": false,
     "start_time": "2022-07-24T22:34:16.064476",
     "status": "completed"
    },
    "tags": []
   },
   "source": [
    "## Parameters "
   ]
  },
  {
   "cell_type": "code",
   "execution_count": 3,
   "id": "783186fb",
   "metadata": {
    "execution": {
     "iopub.execute_input": "2022-07-24T22:34:16.088297Z",
     "iopub.status.busy": "2022-07-24T22:34:16.087973Z",
     "iopub.status.idle": "2022-07-24T22:34:16.093647Z",
     "shell.execute_reply": "2022-07-24T22:34:16.091689Z"
    },
    "id": "783186fb",
    "papermill": {
     "duration": 0.017891,
     "end_time": "2022-07-24T22:34:16.097223",
     "exception": false,
     "start_time": "2022-07-24T22:34:16.079332",
     "status": "completed"
    },
    "tags": [
     "parameters"
    ]
   },
   "outputs": [],
   "source": [
    "variance = 1\n",
    "bias = 1 "
   ]
  },
  {
   "cell_type": "code",
   "execution_count": 4,
   "id": "a894bf36",
   "metadata": {
    "execution": {
     "iopub.execute_input": "2022-07-24T22:34:16.120889Z",
     "iopub.status.busy": "2022-07-24T22:34:16.119732Z",
     "iopub.status.idle": "2022-07-24T22:34:16.129671Z",
     "shell.execute_reply": "2022-07-24T22:34:16.126572Z"
    },
    "papermill": {
     "duration": 0.026404,
     "end_time": "2022-07-24T22:34:16.134189",
     "exception": false,
     "start_time": "2022-07-24T22:34:16.107785",
     "status": "completed"
    },
    "tags": [
     "injected-parameters"
    ]
   },
   "outputs": [],
   "source": [
    "# Parameters\n",
    "variance = 0.1\n",
    "bias = 0\n"
   ]
  },
  {
   "cell_type": "markdown",
   "id": "391cdbfd",
   "metadata": {
    "id": "391cdbfd",
    "papermill": {
     "duration": 0.009718,
     "end_time": "2022-07-24T22:34:16.150783",
     "exception": false,
     "start_time": "2022-07-24T22:34:16.141065",
     "status": "completed"
    },
    "tags": []
   },
   "source": [
    "## Dataset \n"
   ]
  },
  {
   "cell_type": "code",
   "execution_count": 5,
   "id": "5b51f161",
   "metadata": {
    "execution": {
     "iopub.execute_input": "2022-07-24T22:34:16.168382Z",
     "iopub.status.busy": "2022-07-24T22:34:16.167716Z",
     "iopub.status.idle": "2022-07-24T22:34:16.172875Z",
     "shell.execute_reply": "2022-07-24T22:34:16.171765Z"
    },
    "id": "5b51f161",
    "papermill": {
     "duration": 0.017579,
     "end_time": "2022-07-24T22:34:16.175972",
     "exception": false,
     "start_time": "2022-07-24T22:34:16.158393",
     "status": "completed"
    },
    "tags": []
   },
   "outputs": [],
   "source": [
    "#Parameters \n",
    "n_features = 8\n",
    "n_samples= 768\n",
    "n_target = 1 "
   ]
  },
  {
   "cell_type": "code",
   "execution_count": 6,
   "id": "5d6eced4",
   "metadata": {
    "execution": {
     "iopub.execute_input": "2022-07-24T22:34:16.197525Z",
     "iopub.status.busy": "2022-07-24T22:34:16.196969Z",
     "iopub.status.idle": "2022-07-24T22:34:16.811324Z",
     "shell.execute_reply": "2022-07-24T22:34:16.809823Z"
    },
    "id": "5d6eced4",
    "papermill": {
     "duration": 0.628437,
     "end_time": "2022-07-24T22:34:16.813928",
     "exception": false,
     "start_time": "2022-07-24T22:34:16.185491",
     "status": "completed"
    },
    "tags": []
   },
   "outputs": [
    {
     "name": "stdout",
     "output_type": "stream",
     "text": [
      "     X1     X2     X3      X4   X5  X6   X7  X8     Y1     Y2\n",
      "0  0.98  514.5  294.0  110.25  7.0   2  0.0   0  15.55  21.33\n",
      "1  0.98  514.5  294.0  110.25  7.0   3  0.0   0  15.55  21.33\n",
      "2  0.98  514.5  294.0  110.25  7.0   4  0.0   0  15.55  21.33\n",
      "3  0.98  514.5  294.0  110.25  7.0   5  0.0   0  15.55  21.33\n",
      "4  0.90  563.5  318.5  122.50  7.0   2  0.0   0  20.84  28.28\n"
     ]
    }
   ],
   "source": [
    "X,Y = energyefficiencyDataset.energy_data()"
   ]
  },
  {
   "cell_type": "code",
   "execution_count": 7,
   "id": "fe007438",
   "metadata": {
    "execution": {
     "iopub.execute_input": "2022-07-24T22:34:16.831619Z",
     "iopub.status.busy": "2022-07-24T22:34:16.831249Z",
     "iopub.status.idle": "2022-07-24T22:34:16.838830Z",
     "shell.execute_reply": "2022-07-24T22:34:16.838013Z"
    },
    "id": "fe007438",
    "papermill": {
     "duration": 0.020091,
     "end_time": "2022-07-24T22:34:16.842264",
     "exception": false,
     "start_time": "2022-07-24T22:34:16.822173",
     "status": "completed"
    },
    "tags": []
   },
   "outputs": [],
   "source": [
    "#Train test split for dataset \n",
    "X_train,X_test,Y_train,Y_test = train_test_split(X,Y,test_size = 0.2)\n",
    "train_data = dataset.CustomDataset(X_train,Y_train)\n",
    "test_data = dataset.CustomDataset(X_test,Y_test)\n"
   ]
  },
  {
   "cell_type": "markdown",
   "id": "a9a1af34",
   "metadata": {
    "id": "a9a1af34",
    "papermill": {
     "duration": 0.007509,
     "end_time": "2022-07-24T22:34:16.857748",
     "exception": false,
     "start_time": "2022-07-24T22:34:16.850239",
     "status": "completed"
    },
    "tags": []
   },
   "source": [
    "## Training Parameters "
   ]
  },
  {
   "cell_type": "code",
   "execution_count": 8,
   "id": "952b7fc8",
   "metadata": {
    "execution": {
     "iopub.execute_input": "2022-07-24T22:34:16.875633Z",
     "iopub.status.busy": "2022-07-24T22:34:16.875239Z",
     "iopub.status.idle": "2022-07-24T22:34:16.880955Z",
     "shell.execute_reply": "2022-07-24T22:34:16.879919Z"
    },
    "id": "952b7fc8",
    "papermill": {
     "duration": 0.018313,
     "end_time": "2022-07-24T22:34:16.883957",
     "exception": false,
     "start_time": "2022-07-24T22:34:16.865644",
     "status": "completed"
    },
    "tags": []
   },
   "outputs": [],
   "source": [
    "batch_size = 32\n",
    "n_epochs = 1000\n",
    "#Select the device \n",
    "device = torch.device('cuda' if torch.cuda.is_available() else 'cpu')"
   ]
  },
  {
   "cell_type": "markdown",
   "id": "a95e1600",
   "metadata": {
    "id": "a95e1600",
    "papermill": {
     "duration": 0.007796,
     "end_time": "2022-07-24T22:34:16.902282",
     "exception": false,
     "start_time": "2022-07-24T22:34:16.894486",
     "status": "completed"
    },
    "tags": []
   },
   "source": [
    "# ABC Pre-generator Model \n",
    "\n",
    "1. The catboost model is used as a pre-generator model for the ABC-GAN. \n",
    "2. The model is first trained on the entire dataset \n",
    "3. It generats X,Y pairs and we add some Gaussian noise with mean 0 and variance 1 to it which is then feed as input to the generator.\n"
   ]
  },
  {
   "cell_type": "code",
   "execution_count": 9,
   "id": "ff8ce7bd",
   "metadata": {
    "execution": {
     "iopub.execute_input": "2022-07-24T22:34:16.921834Z",
     "iopub.status.busy": "2022-07-24T22:34:16.921381Z",
     "iopub.status.idle": "2022-07-24T22:34:17.778138Z",
     "shell.execute_reply": "2022-07-24T22:34:17.776581Z"
    },
    "id": "ff8ce7bd",
    "papermill": {
     "duration": 0.870125,
     "end_time": "2022-07-24T22:34:17.781629",
     "exception": false,
     "start_time": "2022-07-24T22:34:16.911504",
     "status": "completed"
    },
    "tags": []
   },
   "outputs": [
    {
     "name": "stdout",
     "output_type": "stream",
     "text": [
      "Learning rate set to 0.037906\n",
      "0:\tlearn: 0.9790639\ttotal: 55.8ms\tremaining: 55.8s\n",
      "1:\tlearn: 0.9464185\ttotal: 56.1ms\tremaining: 28s\n",
      "2:\tlearn: 0.9188385\ttotal: 56.4ms\tremaining: 18.7s\n",
      "3:\tlearn: 0.8876740\ttotal: 56.9ms\tremaining: 14.2s\n",
      "4:\tlearn: 0.8626518\ttotal: 57.1ms\tremaining: 11.4s\n",
      "5:\tlearn: 0.8344533\ttotal: 57.5ms\tremaining: 9.53s\n",
      "6:\tlearn: 0.8117805\ttotal: 57.9ms\tremaining: 8.22s\n",
      "7:\tlearn: 0.7883139\ttotal: 58.4ms\tremaining: 7.24s\n",
      "8:\tlearn: 0.7619926\ttotal: 58.9ms\tremaining: 6.49s\n",
      "9:\tlearn: 0.7382351\ttotal: 59.4ms\tremaining: 5.88s\n",
      "10:\tlearn: 0.7150733\ttotal: 59.8ms\tremaining: 5.38s\n",
      "11:\tlearn: 0.6942860\ttotal: 60.1ms\tremaining: 4.95s\n",
      "12:\tlearn: 0.6743194\ttotal: 60.7ms\tremaining: 4.61s\n",
      "13:\tlearn: 0.6551526\ttotal: 61ms\tremaining: 4.29s\n",
      "14:\tlearn: 0.6344800\ttotal: 61.2ms\tremaining: 4.01s\n",
      "15:\tlearn: 0.6157703\ttotal: 61.8ms\tremaining: 3.8s\n"
     ]
    },
    {
     "name": "stdout",
     "output_type": "stream",
     "text": [
      "16:\tlearn: 0.5963991\ttotal: 63.4ms\tremaining: 3.67s\n",
      "17:\tlearn: 0.5790688\ttotal: 63.8ms\tremaining: 3.48s\n",
      "18:\tlearn: 0.5620742\ttotal: 64.1ms\tremaining: 3.31s\n",
      "19:\tlearn: 0.5451572\ttotal: 64.8ms\tremaining: 3.18s\n",
      "20:\tlearn: 0.5294639\ttotal: 65.2ms\tremaining: 3.04s\n",
      "21:\tlearn: 0.5137766\ttotal: 66ms\tremaining: 2.93s\n",
      "22:\tlearn: 0.4974475\ttotal: 66.5ms\tremaining: 2.82s\n",
      "23:\tlearn: 0.4817079\ttotal: 66.9ms\tremaining: 2.72s\n",
      "24:\tlearn: 0.4676469\ttotal: 67.4ms\tremaining: 2.63s\n",
      "25:\tlearn: 0.4533085\ttotal: 67.9ms\tremaining: 2.54s\n",
      "26:\tlearn: 0.4401035\ttotal: 68.3ms\tremaining: 2.46s\n",
      "27:\tlearn: 0.4278579\ttotal: 68.7ms\tremaining: 2.38s\n",
      "28:\tlearn: 0.4143581\ttotal: 69.1ms\tremaining: 2.31s\n",
      "29:\tlearn: 0.4032423\ttotal: 69.6ms\tremaining: 2.25s\n",
      "30:\tlearn: 0.3919976\ttotal: 69.9ms\tremaining: 2.19s\n",
      "31:\tlearn: 0.3802737\ttotal: 70.4ms\tremaining: 2.13s\n",
      "32:\tlearn: 0.3691495\ttotal: 71ms\tremaining: 2.08s\n",
      "33:\tlearn: 0.3587038\ttotal: 71.3ms\tremaining: 2.03s\n",
      "34:\tlearn: 0.3485372\ttotal: 71.9ms\tremaining: 1.98s\n",
      "35:\tlearn: 0.3381680\ttotal: 72.3ms\tremaining: 1.93s\n",
      "36:\tlearn: 0.3294705\ttotal: 72.8ms\tremaining: 1.89s\n",
      "37:\tlearn: 0.3201911\ttotal: 73.2ms\tremaining: 1.85s\n",
      "38:\tlearn: 0.3118175\ttotal: 73.7ms\tremaining: 1.82s\n",
      "39:\tlearn: 0.3033124\ttotal: 74.2ms\tremaining: 1.78s\n",
      "40:\tlearn: 0.2954315\ttotal: 74.7ms\tremaining: 1.75s\n",
      "41:\tlearn: 0.2883583\ttotal: 75.2ms\tremaining: 1.72s\n",
      "42:\tlearn: 0.2821218\ttotal: 75.7ms\tremaining: 1.68s\n",
      "43:\tlearn: 0.2737870\ttotal: 76.3ms\tremaining: 1.66s\n",
      "44:\tlearn: 0.2662925\ttotal: 76.7ms\tremaining: 1.63s\n",
      "45:\tlearn: 0.2600879\ttotal: 77.2ms\tremaining: 1.6s\n",
      "46:\tlearn: 0.2533357\ttotal: 77.7ms\tremaining: 1.57s\n",
      "47:\tlearn: 0.2482235\ttotal: 78ms\tremaining: 1.55s\n",
      "48:\tlearn: 0.2427691\ttotal: 78.4ms\tremaining: 1.52s\n",
      "49:\tlearn: 0.2360828\ttotal: 78.9ms\tremaining: 1.5s\n",
      "50:\tlearn: 0.2306333\ttotal: 79.3ms\tremaining: 1.47s\n",
      "51:\tlearn: 0.2256360\ttotal: 79.7ms\tremaining: 1.45s\n",
      "52:\tlearn: 0.2199623\ttotal: 80.3ms\tremaining: 1.43s\n",
      "53:\tlearn: 0.2147456\ttotal: 80.8ms\tremaining: 1.42s\n",
      "54:\tlearn: 0.2089682\ttotal: 81.4ms\tremaining: 1.4s\n",
      "55:\tlearn: 0.2037969\ttotal: 81.9ms\tremaining: 1.38s\n",
      "56:\tlearn: 0.1997947\ttotal: 82.4ms\tremaining: 1.36s\n",
      "57:\tlearn: 0.1961883\ttotal: 82.8ms\tremaining: 1.34s\n",
      "58:\tlearn: 0.1918790\ttotal: 83.4ms\tremaining: 1.33s\n",
      "59:\tlearn: 0.1870689\ttotal: 83.8ms\tremaining: 1.31s\n",
      "60:\tlearn: 0.1822687\ttotal: 84.3ms\tremaining: 1.3s\n",
      "61:\tlearn: 0.1776105\ttotal: 85ms\tremaining: 1.28s\n",
      "62:\tlearn: 0.1732001\ttotal: 85.6ms\tremaining: 1.27s\n",
      "63:\tlearn: 0.1692596\ttotal: 86.3ms\tremaining: 1.26s\n",
      "64:\tlearn: 0.1657213\ttotal: 87.1ms\tremaining: 1.25s\n",
      "65:\tlearn: 0.1617833\ttotal: 88.1ms\tremaining: 1.25s\n",
      "66:\tlearn: 0.1591197\ttotal: 89.7ms\tremaining: 1.25s\n",
      "67:\tlearn: 0.1552800\ttotal: 90.8ms\tremaining: 1.24s\n",
      "68:\tlearn: 0.1514424\ttotal: 91.9ms\tremaining: 1.24s\n",
      "69:\tlearn: 0.1478699\ttotal: 92.7ms\tremaining: 1.23s\n",
      "70:\tlearn: 0.1442737\ttotal: 93.6ms\tremaining: 1.23s\n",
      "71:\tlearn: 0.1413255\ttotal: 94.6ms\tremaining: 1.22s\n",
      "72:\tlearn: 0.1381683\ttotal: 95ms\tremaining: 1.21s\n",
      "73:\tlearn: 0.1358135\ttotal: 95.5ms\tremaining: 1.2s\n",
      "74:\tlearn: 0.1328862\ttotal: 96ms\tremaining: 1.18s\n",
      "75:\tlearn: 0.1305594\ttotal: 96.6ms\tremaining: 1.17s\n",
      "76:\tlearn: 0.1275793\ttotal: 97.2ms\tremaining: 1.17s\n",
      "77:\tlearn: 0.1254541\ttotal: 97.8ms\tremaining: 1.16s\n",
      "78:\tlearn: 0.1234095\ttotal: 98.1ms\tremaining: 1.14s\n",
      "79:\tlearn: 0.1216493\ttotal: 98.7ms\tremaining: 1.13s\n",
      "80:\tlearn: 0.1190637\ttotal: 99.2ms\tremaining: 1.13s\n",
      "81:\tlearn: 0.1172671\ttotal: 99.6ms\tremaining: 1.11s\n",
      "82:\tlearn: 0.1151068\ttotal: 100ms\tremaining: 1.11s\n",
      "83:\tlearn: 0.1124885\ttotal: 101ms\tremaining: 1.1s\n",
      "84:\tlearn: 0.1105324\ttotal: 101ms\tremaining: 1.09s\n",
      "85:\tlearn: 0.1086168\ttotal: 102ms\tremaining: 1.08s\n",
      "86:\tlearn: 0.1059319\ttotal: 102ms\tremaining: 1.07s\n",
      "87:\tlearn: 0.1036228\ttotal: 103ms\tremaining: 1.06s\n",
      "88:\tlearn: 0.1026173\ttotal: 103ms\tremaining: 1.05s\n",
      "89:\tlearn: 0.1008906\ttotal: 104ms\tremaining: 1.05s\n",
      "90:\tlearn: 0.0987915\ttotal: 104ms\tremaining: 1.04s\n",
      "91:\tlearn: 0.0969369\ttotal: 105ms\tremaining: 1.03s\n",
      "92:\tlearn: 0.0961088\ttotal: 105ms\tremaining: 1.02s\n",
      "93:\tlearn: 0.0941487\ttotal: 105ms\tremaining: 1.01s\n",
      "94:\tlearn: 0.0927803\ttotal: 105ms\tremaining: 1s\n",
      "95:\tlearn: 0.0919910\ttotal: 106ms\tremaining: 995ms\n",
      "96:\tlearn: 0.0906874\ttotal: 106ms\tremaining: 991ms\n",
      "97:\tlearn: 0.0897852\ttotal: 107ms\tremaining: 982ms\n",
      "98:\tlearn: 0.0886913\ttotal: 107ms\tremaining: 974ms\n",
      "99:\tlearn: 0.0869125\ttotal: 107ms\tremaining: 967ms\n",
      "100:\tlearn: 0.0856772\ttotal: 108ms\tremaining: 959ms\n",
      "101:\tlearn: 0.0841464\ttotal: 108ms\tremaining: 951ms\n",
      "102:\tlearn: 0.0835363\ttotal: 108ms\tremaining: 942ms\n",
      "103:\tlearn: 0.0822572\ttotal: 109ms\tremaining: 937ms\n",
      "104:\tlearn: 0.0809695\ttotal: 110ms\tremaining: 936ms\n",
      "105:\tlearn: 0.0795303\ttotal: 110ms\tremaining: 931ms\n",
      "106:\tlearn: 0.0787613\ttotal: 111ms\tremaining: 926ms\n",
      "107:\tlearn: 0.0777773\ttotal: 112ms\tremaining: 921ms\n",
      "108:\tlearn: 0.0770122\ttotal: 112ms\tremaining: 915ms\n",
      "109:\tlearn: 0.0759951\ttotal: 112ms\tremaining: 909ms\n",
      "110:\tlearn: 0.0747037\ttotal: 113ms\tremaining: 905ms\n",
      "111:\tlearn: 0.0739207\ttotal: 114ms\tremaining: 900ms\n",
      "112:\tlearn: 0.0728361\ttotal: 114ms\tremaining: 897ms\n",
      "113:\tlearn: 0.0718718\ttotal: 115ms\tremaining: 892ms\n",
      "114:\tlearn: 0.0706443\ttotal: 115ms\tremaining: 886ms\n",
      "115:\tlearn: 0.0696839\ttotal: 116ms\tremaining: 880ms\n",
      "116:\tlearn: 0.0686860\ttotal: 116ms\tremaining: 874ms\n",
      "117:\tlearn: 0.0677562\ttotal: 116ms\tremaining: 868ms\n",
      "118:\tlearn: 0.0668612\ttotal: 116ms\tremaining: 861ms\n",
      "119:\tlearn: 0.0660148\ttotal: 117ms\tremaining: 855ms\n",
      "120:\tlearn: 0.0655373\ttotal: 117ms\tremaining: 851ms\n",
      "121:\tlearn: 0.0648028\ttotal: 117ms\tremaining: 845ms\n",
      "122:\tlearn: 0.0639579\ttotal: 118ms\tremaining: 841ms\n",
      "123:\tlearn: 0.0632332\ttotal: 119ms\tremaining: 837ms\n",
      "124:\tlearn: 0.0625414\ttotal: 119ms\tremaining: 834ms\n",
      "125:\tlearn: 0.0619004\ttotal: 120ms\tremaining: 829ms\n",
      "126:\tlearn: 0.0611412\ttotal: 120ms\tremaining: 826ms\n",
      "127:\tlearn: 0.0606198\ttotal: 121ms\tremaining: 822ms\n",
      "128:\tlearn: 0.0601828\ttotal: 121ms\tremaining: 818ms\n",
      "129:\tlearn: 0.0596760\ttotal: 122ms\tremaining: 815ms\n",
      "130:\tlearn: 0.0591340\ttotal: 122ms\tremaining: 812ms\n",
      "131:\tlearn: 0.0586147\ttotal: 123ms\tremaining: 807ms\n",
      "132:\tlearn: 0.0583778\ttotal: 123ms\tremaining: 803ms\n",
      "133:\tlearn: 0.0579751\ttotal: 124ms\tremaining: 800ms\n",
      "134:\tlearn: 0.0578311\ttotal: 124ms\tremaining: 796ms\n",
      "135:\tlearn: 0.0572779\ttotal: 125ms\tremaining: 792ms\n",
      "136:\tlearn: 0.0568693\ttotal: 125ms\tremaining: 789ms\n",
      "137:\tlearn: 0.0563696\ttotal: 126ms\tremaining: 787ms\n",
      "138:\tlearn: 0.0559557\ttotal: 127ms\tremaining: 785ms\n",
      "139:\tlearn: 0.0556032\ttotal: 127ms\tremaining: 783ms\n",
      "140:\tlearn: 0.0551329\ttotal: 128ms\tremaining: 779ms\n",
      "141:\tlearn: 0.0546477\ttotal: 129ms\tremaining: 779ms\n",
      "142:\tlearn: 0.0542898\ttotal: 129ms\tremaining: 776ms\n",
      "143:\tlearn: 0.0538946\ttotal: 130ms\tremaining: 773ms\n",
      "144:\tlearn: 0.0535753\ttotal: 130ms\tremaining: 769ms\n",
      "145:\tlearn: 0.0532516\ttotal: 131ms\tremaining: 766ms\n",
      "146:\tlearn: 0.0529753\ttotal: 131ms\tremaining: 762ms\n",
      "147:\tlearn: 0.0526039\ttotal: 132ms\tremaining: 759ms\n",
      "148:\tlearn: 0.0523519\ttotal: 132ms\tremaining: 756ms\n",
      "149:\tlearn: 0.0519764\ttotal: 133ms\tremaining: 753ms\n",
      "150:\tlearn: 0.0517324\ttotal: 133ms\tremaining: 750ms\n",
      "151:\tlearn: 0.0514392\ttotal: 134ms\tremaining: 747ms\n",
      "152:\tlearn: 0.0511164\ttotal: 135ms\tremaining: 745ms\n",
      "153:\tlearn: 0.0508537\ttotal: 135ms\tremaining: 741ms\n",
      "154:\tlearn: 0.0505032\ttotal: 136ms\tremaining: 739ms\n",
      "155:\tlearn: 0.0502499\ttotal: 136ms\tremaining: 736ms\n",
      "156:\tlearn: 0.0500104\ttotal: 137ms\tremaining: 733ms\n",
      "157:\tlearn: 0.0498056\ttotal: 137ms\tremaining: 729ms\n",
      "158:\tlearn: 0.0495919\ttotal: 137ms\tremaining: 725ms\n",
      "159:\tlearn: 0.0493542\ttotal: 138ms\tremaining: 722ms\n",
      "160:\tlearn: 0.0491079\ttotal: 138ms\tremaining: 718ms\n",
      "161:\tlearn: 0.0488663\ttotal: 138ms\tremaining: 716ms\n",
      "162:\tlearn: 0.0486577\ttotal: 139ms\tremaining: 713ms\n",
      "163:\tlearn: 0.0484154\ttotal: 139ms\tremaining: 710ms\n",
      "164:\tlearn: 0.0482527\ttotal: 140ms\tremaining: 708ms\n",
      "165:\tlearn: 0.0480259\ttotal: 140ms\tremaining: 705ms\n",
      "166:\tlearn: 0.0478449\ttotal: 141ms\tremaining: 703ms\n",
      "167:\tlearn: 0.0475650\ttotal: 141ms\tremaining: 700ms\n",
      "168:\tlearn: 0.0473784\ttotal: 142ms\tremaining: 697ms\n",
      "169:\tlearn: 0.0471933\ttotal: 142ms\tremaining: 694ms\n",
      "170:\tlearn: 0.0469724\ttotal: 143ms\tremaining: 692ms\n",
      "171:\tlearn: 0.0468014\ttotal: 143ms\tremaining: 689ms\n",
      "172:\tlearn: 0.0466582\ttotal: 144ms\tremaining: 687ms\n",
      "173:\tlearn: 0.0465025\ttotal: 147ms\tremaining: 697ms\n",
      "174:\tlearn: 0.0463231\ttotal: 148ms\tremaining: 698ms\n",
      "175:\tlearn: 0.0461039\ttotal: 151ms\tremaining: 708ms\n",
      "176:\tlearn: 0.0459499\ttotal: 152ms\tremaining: 706ms\n",
      "177:\tlearn: 0.0457693\ttotal: 152ms\tremaining: 704ms\n",
      "178:\tlearn: 0.0456560\ttotal: 153ms\tremaining: 702ms\n",
      "179:\tlearn: 0.0455337\ttotal: 153ms\tremaining: 698ms\n",
      "180:\tlearn: 0.0453703\ttotal: 154ms\tremaining: 695ms\n",
      "181:\tlearn: 0.0452265\ttotal: 154ms\tremaining: 691ms\n",
      "182:\tlearn: 0.0450554\ttotal: 154ms\tremaining: 688ms\n",
      "183:\tlearn: 0.0449053\ttotal: 154ms\tremaining: 684ms\n",
      "184:\tlearn: 0.0447032\ttotal: 155ms\tremaining: 684ms\n",
      "185:\tlearn: 0.0445992\ttotal: 156ms\tremaining: 681ms\n",
      "186:\tlearn: 0.0444527\ttotal: 156ms\tremaining: 677ms\n",
      "187:\tlearn: 0.0441791\ttotal: 156ms\tremaining: 674ms\n",
      "188:\tlearn: 0.0439920\ttotal: 156ms\tremaining: 671ms\n",
      "189:\tlearn: 0.0438270\ttotal: 157ms\tremaining: 668ms\n"
     ]
    },
    {
     "name": "stdout",
     "output_type": "stream",
     "text": [
      "190:\tlearn: 0.0435172\ttotal: 158ms\tremaining: 670ms\n",
      "191:\tlearn: 0.0433271\ttotal: 159ms\tremaining: 667ms\n",
      "192:\tlearn: 0.0431886\ttotal: 159ms\tremaining: 665ms\n",
      "193:\tlearn: 0.0430654\ttotal: 160ms\tremaining: 663ms\n",
      "194:\tlearn: 0.0429329\ttotal: 160ms\tremaining: 661ms\n",
      "195:\tlearn: 0.0427141\ttotal: 161ms\tremaining: 660ms\n",
      "196:\tlearn: 0.0425773\ttotal: 162ms\tremaining: 658ms\n",
      "197:\tlearn: 0.0424255\ttotal: 162ms\tremaining: 658ms\n",
      "198:\tlearn: 0.0423112\ttotal: 163ms\tremaining: 656ms\n",
      "199:\tlearn: 0.0421166\ttotal: 164ms\tremaining: 654ms\n",
      "200:\tlearn: 0.0419653\ttotal: 165ms\tremaining: 654ms\n",
      "201:\tlearn: 0.0418754\ttotal: 165ms\tremaining: 653ms\n",
      "202:\tlearn: 0.0417262\ttotal: 166ms\tremaining: 652ms\n",
      "203:\tlearn: 0.0416128\ttotal: 167ms\tremaining: 651ms\n",
      "204:\tlearn: 0.0413802\ttotal: 168ms\tremaining: 650ms\n",
      "205:\tlearn: 0.0411534\ttotal: 168ms\tremaining: 648ms\n",
      "206:\tlearn: 0.0410809\ttotal: 169ms\tremaining: 646ms\n",
      "207:\tlearn: 0.0409086\ttotal: 169ms\tremaining: 644ms\n",
      "208:\tlearn: 0.0407740\ttotal: 169ms\tremaining: 641ms\n",
      "209:\tlearn: 0.0406533\ttotal: 170ms\tremaining: 639ms\n",
      "210:\tlearn: 0.0404956\ttotal: 170ms\tremaining: 637ms\n",
      "211:\tlearn: 0.0403891\ttotal: 171ms\tremaining: 635ms\n",
      "212:\tlearn: 0.0403052\ttotal: 172ms\tremaining: 634ms\n",
      "213:\tlearn: 0.0401823\ttotal: 172ms\tremaining: 632ms\n",
      "214:\tlearn: 0.0400818\ttotal: 172ms\tremaining: 630ms\n",
      "215:\tlearn: 0.0398854\ttotal: 173ms\tremaining: 628ms\n",
      "216:\tlearn: 0.0397785\ttotal: 173ms\tremaining: 626ms\n",
      "217:\tlearn: 0.0396769\ttotal: 174ms\tremaining: 624ms\n",
      "218:\tlearn: 0.0395560\ttotal: 174ms\tremaining: 622ms\n",
      "219:\tlearn: 0.0394891\ttotal: 175ms\tremaining: 620ms\n",
      "220:\tlearn: 0.0393900\ttotal: 175ms\tremaining: 617ms\n",
      "221:\tlearn: 0.0391303\ttotal: 175ms\tremaining: 615ms\n",
      "222:\tlearn: 0.0390592\ttotal: 176ms\tremaining: 613ms\n",
      "223:\tlearn: 0.0389568\ttotal: 176ms\tremaining: 610ms\n",
      "224:\tlearn: 0.0387697\ttotal: 176ms\tremaining: 608ms\n",
      "225:\tlearn: 0.0387116\ttotal: 177ms\tremaining: 605ms\n",
      "226:\tlearn: 0.0386323\ttotal: 177ms\tremaining: 603ms\n",
      "227:\tlearn: 0.0385407\ttotal: 177ms\tremaining: 601ms\n",
      "228:\tlearn: 0.0384553\ttotal: 178ms\tremaining: 598ms\n",
      "229:\tlearn: 0.0383583\ttotal: 178ms\tremaining: 596ms\n",
      "230:\tlearn: 0.0381256\ttotal: 178ms\tremaining: 594ms\n",
      "231:\tlearn: 0.0379120\ttotal: 179ms\tremaining: 594ms\n",
      "232:\tlearn: 0.0378521\ttotal: 180ms\tremaining: 592ms\n",
      "233:\tlearn: 0.0377961\ttotal: 180ms\tremaining: 591ms\n",
      "234:\tlearn: 0.0377055\ttotal: 181ms\tremaining: 589ms\n",
      "235:\tlearn: 0.0376471\ttotal: 182ms\tremaining: 588ms\n",
      "236:\tlearn: 0.0374465\ttotal: 182ms\tremaining: 586ms\n",
      "237:\tlearn: 0.0374003\ttotal: 183ms\tremaining: 585ms\n",
      "238:\tlearn: 0.0372586\ttotal: 183ms\tremaining: 583ms\n",
      "239:\tlearn: 0.0371553\ttotal: 183ms\tremaining: 581ms\n",
      "240:\tlearn: 0.0370222\ttotal: 184ms\tremaining: 579ms\n",
      "241:\tlearn: 0.0368398\ttotal: 184ms\tremaining: 578ms\n",
      "242:\tlearn: 0.0366388\ttotal: 185ms\tremaining: 576ms\n",
      "243:\tlearn: 0.0365434\ttotal: 186ms\tremaining: 575ms\n",
      "244:\tlearn: 0.0364424\ttotal: 186ms\tremaining: 573ms\n",
      "245:\tlearn: 0.0363455\ttotal: 186ms\tremaining: 572ms\n",
      "246:\tlearn: 0.0361054\ttotal: 187ms\tremaining: 570ms\n",
      "247:\tlearn: 0.0360467\ttotal: 188ms\tremaining: 569ms\n",
      "248:\tlearn: 0.0359854\ttotal: 188ms\tremaining: 566ms\n",
      "249:\tlearn: 0.0358946\ttotal: 188ms\tremaining: 565ms\n",
      "250:\tlearn: 0.0357917\ttotal: 189ms\tremaining: 564ms\n",
      "251:\tlearn: 0.0356989\ttotal: 189ms\tremaining: 562ms\n",
      "252:\tlearn: 0.0354868\ttotal: 190ms\tremaining: 561ms\n",
      "253:\tlearn: 0.0353236\ttotal: 191ms\tremaining: 560ms\n",
      "254:\tlearn: 0.0351097\ttotal: 191ms\tremaining: 558ms\n",
      "255:\tlearn: 0.0350321\ttotal: 192ms\tremaining: 557ms\n",
      "256:\tlearn: 0.0348405\ttotal: 192ms\tremaining: 555ms\n",
      "257:\tlearn: 0.0346465\ttotal: 193ms\tremaining: 554ms\n",
      "258:\tlearn: 0.0345668\ttotal: 193ms\tremaining: 553ms\n",
      "259:\tlearn: 0.0343844\ttotal: 194ms\tremaining: 551ms\n",
      "260:\tlearn: 0.0343036\ttotal: 194ms\tremaining: 549ms\n",
      "261:\tlearn: 0.0342565\ttotal: 194ms\tremaining: 547ms\n",
      "262:\tlearn: 0.0341157\ttotal: 194ms\tremaining: 545ms\n",
      "263:\tlearn: 0.0340729\ttotal: 195ms\tremaining: 543ms\n",
      "264:\tlearn: 0.0339720\ttotal: 195ms\tremaining: 541ms\n",
      "265:\tlearn: 0.0338767\ttotal: 195ms\tremaining: 539ms\n",
      "266:\tlearn: 0.0337715\ttotal: 196ms\tremaining: 537ms\n",
      "267:\tlearn: 0.0337112\ttotal: 196ms\tremaining: 535ms\n",
      "268:\tlearn: 0.0335522\ttotal: 197ms\tremaining: 535ms\n",
      "269:\tlearn: 0.0333897\ttotal: 198ms\tremaining: 534ms\n",
      "270:\tlearn: 0.0332368\ttotal: 198ms\tremaining: 532ms\n",
      "271:\tlearn: 0.0331886\ttotal: 198ms\tremaining: 530ms\n",
      "272:\tlearn: 0.0330688\ttotal: 198ms\tremaining: 528ms\n",
      "273:\tlearn: 0.0329784\ttotal: 199ms\tremaining: 527ms\n",
      "274:\tlearn: 0.0328750\ttotal: 200ms\tremaining: 526ms\n",
      "275:\tlearn: 0.0327758\ttotal: 200ms\tremaining: 525ms\n",
      "276:\tlearn: 0.0326354\ttotal: 201ms\tremaining: 524ms\n",
      "277:\tlearn: 0.0325935\ttotal: 201ms\tremaining: 523ms\n",
      "278:\tlearn: 0.0325557\ttotal: 202ms\tremaining: 521ms\n",
      "279:\tlearn: 0.0324831\ttotal: 202ms\tremaining: 520ms\n",
      "280:\tlearn: 0.0323994\ttotal: 203ms\tremaining: 519ms\n",
      "281:\tlearn: 0.0323071\ttotal: 203ms\tremaining: 517ms\n",
      "282:\tlearn: 0.0322291\ttotal: 204ms\tremaining: 516ms\n",
      "283:\tlearn: 0.0321027\ttotal: 204ms\tremaining: 515ms\n",
      "284:\tlearn: 0.0320107\ttotal: 205ms\tremaining: 514ms\n",
      "285:\tlearn: 0.0319204\ttotal: 205ms\tremaining: 513ms\n",
      "286:\tlearn: 0.0318574\ttotal: 206ms\tremaining: 511ms\n",
      "287:\tlearn: 0.0317782\ttotal: 206ms\tremaining: 509ms\n",
      "288:\tlearn: 0.0316701\ttotal: 206ms\tremaining: 508ms\n",
      "289:\tlearn: 0.0315837\ttotal: 207ms\tremaining: 506ms\n",
      "290:\tlearn: 0.0314894\ttotal: 207ms\tremaining: 504ms\n",
      "291:\tlearn: 0.0314470\ttotal: 207ms\tremaining: 503ms\n",
      "292:\tlearn: 0.0313651\ttotal: 208ms\tremaining: 503ms\n",
      "293:\tlearn: 0.0313241\ttotal: 209ms\tremaining: 501ms\n",
      "294:\tlearn: 0.0312090\ttotal: 209ms\tremaining: 500ms\n"
     ]
    },
    {
     "name": "stdout",
     "output_type": "stream",
     "text": [
      "295:\tlearn: 0.0310954\ttotal: 210ms\tremaining: 500ms\n",
      "296:\tlearn: 0.0310579\ttotal: 211ms\tremaining: 500ms\n",
      "297:\tlearn: 0.0309676\ttotal: 212ms\tremaining: 500ms\n",
      "298:\tlearn: 0.0308891\ttotal: 213ms\tremaining: 499ms\n",
      "299:\tlearn: 0.0308206\ttotal: 213ms\tremaining: 498ms\n",
      "300:\tlearn: 0.0307265\ttotal: 214ms\tremaining: 496ms\n",
      "301:\tlearn: 0.0306521\ttotal: 214ms\tremaining: 495ms\n",
      "302:\tlearn: 0.0305699\ttotal: 215ms\tremaining: 494ms\n",
      "303:\tlearn: 0.0305218\ttotal: 215ms\tremaining: 493ms\n",
      "304:\tlearn: 0.0304292\ttotal: 216ms\tremaining: 491ms\n",
      "305:\tlearn: 0.0303493\ttotal: 216ms\tremaining: 490ms\n",
      "306:\tlearn: 0.0302725\ttotal: 217ms\tremaining: 489ms\n",
      "307:\tlearn: 0.0302383\ttotal: 217ms\tremaining: 488ms\n",
      "308:\tlearn: 0.0301925\ttotal: 217ms\tremaining: 486ms\n",
      "309:\tlearn: 0.0301208\ttotal: 218ms\tremaining: 484ms\n",
      "310:\tlearn: 0.0300185\ttotal: 218ms\tremaining: 483ms\n",
      "311:\tlearn: 0.0299747\ttotal: 218ms\tremaining: 481ms\n",
      "312:\tlearn: 0.0299055\ttotal: 219ms\tremaining: 480ms\n",
      "313:\tlearn: 0.0298346\ttotal: 219ms\tremaining: 478ms\n",
      "314:\tlearn: 0.0297680\ttotal: 219ms\tremaining: 476ms\n",
      "315:\tlearn: 0.0296729\ttotal: 219ms\tremaining: 475ms\n",
      "316:\tlearn: 0.0296000\ttotal: 220ms\tremaining: 474ms\n",
      "317:\tlearn: 0.0295110\ttotal: 220ms\tremaining: 472ms\n",
      "318:\tlearn: 0.0294351\ttotal: 220ms\tremaining: 471ms\n",
      "319:\tlearn: 0.0293290\ttotal: 221ms\tremaining: 469ms\n",
      "320:\tlearn: 0.0292877\ttotal: 221ms\tremaining: 468ms\n",
      "321:\tlearn: 0.0292057\ttotal: 222ms\tremaining: 468ms\n",
      "322:\tlearn: 0.0291482\ttotal: 223ms\tremaining: 467ms\n",
      "323:\tlearn: 0.0291031\ttotal: 224ms\tremaining: 467ms\n",
      "324:\tlearn: 0.0290265\ttotal: 224ms\tremaining: 466ms\n",
      "325:\tlearn: 0.0289691\ttotal: 225ms\tremaining: 465ms\n",
      "326:\tlearn: 0.0289454\ttotal: 225ms\tremaining: 464ms\n",
      "327:\tlearn: 0.0288824\ttotal: 226ms\tremaining: 463ms\n",
      "328:\tlearn: 0.0288550\ttotal: 226ms\tremaining: 462ms\n",
      "329:\tlearn: 0.0288037\ttotal: 227ms\tremaining: 461ms\n",
      "330:\tlearn: 0.0287346\ttotal: 228ms\tremaining: 460ms\n",
      "331:\tlearn: 0.0286752\ttotal: 228ms\tremaining: 459ms\n",
      "332:\tlearn: 0.0286088\ttotal: 228ms\tremaining: 457ms\n",
      "333:\tlearn: 0.0285594\ttotal: 229ms\tremaining: 456ms\n",
      "334:\tlearn: 0.0285030\ttotal: 229ms\tremaining: 455ms\n",
      "335:\tlearn: 0.0284322\ttotal: 230ms\tremaining: 454ms\n",
      "336:\tlearn: 0.0283722\ttotal: 230ms\tremaining: 453ms\n",
      "337:\tlearn: 0.0283476\ttotal: 231ms\tremaining: 452ms\n",
      "338:\tlearn: 0.0283255\ttotal: 231ms\tremaining: 451ms\n",
      "339:\tlearn: 0.0282870\ttotal: 232ms\tremaining: 450ms\n",
      "340:\tlearn: 0.0282501\ttotal: 232ms\tremaining: 449ms\n",
      "341:\tlearn: 0.0282244\ttotal: 232ms\tremaining: 447ms\n",
      "342:\tlearn: 0.0281691\ttotal: 233ms\tremaining: 446ms\n",
      "343:\tlearn: 0.0280748\ttotal: 234ms\tremaining: 445ms\n",
      "344:\tlearn: 0.0280185\ttotal: 234ms\tremaining: 444ms\n",
      "345:\tlearn: 0.0279624\ttotal: 234ms\tremaining: 443ms\n",
      "346:\tlearn: 0.0279439\ttotal: 235ms\tremaining: 442ms\n",
      "347:\tlearn: 0.0278487\ttotal: 235ms\tremaining: 441ms\n",
      "348:\tlearn: 0.0277879\ttotal: 236ms\tremaining: 440ms\n",
      "349:\tlearn: 0.0277660\ttotal: 236ms\tremaining: 439ms\n",
      "350:\tlearn: 0.0277377\ttotal: 236ms\tremaining: 437ms\n",
      "351:\tlearn: 0.0277151\ttotal: 237ms\tremaining: 436ms\n",
      "352:\tlearn: 0.0276516\ttotal: 237ms\tremaining: 434ms\n",
      "353:\tlearn: 0.0275858\ttotal: 237ms\tremaining: 433ms\n",
      "354:\tlearn: 0.0275641\ttotal: 238ms\tremaining: 432ms\n",
      "355:\tlearn: 0.0275285\ttotal: 238ms\tremaining: 430ms\n",
      "356:\tlearn: 0.0274543\ttotal: 238ms\tremaining: 429ms\n",
      "357:\tlearn: 0.0273923\ttotal: 239ms\tremaining: 428ms\n",
      "358:\tlearn: 0.0273292\ttotal: 239ms\tremaining: 426ms\n",
      "359:\tlearn: 0.0273090\ttotal: 239ms\tremaining: 425ms\n",
      "360:\tlearn: 0.0272526\ttotal: 239ms\tremaining: 424ms\n",
      "361:\tlearn: 0.0271948\ttotal: 240ms\tremaining: 423ms\n",
      "362:\tlearn: 0.0271686\ttotal: 240ms\tremaining: 421ms\n",
      "363:\tlearn: 0.0271343\ttotal: 240ms\tremaining: 420ms\n",
      "364:\tlearn: 0.0270788\ttotal: 241ms\tremaining: 419ms\n",
      "365:\tlearn: 0.0270447\ttotal: 242ms\tremaining: 418ms\n",
      "366:\tlearn: 0.0269753\ttotal: 242ms\tremaining: 417ms\n",
      "367:\tlearn: 0.0269351\ttotal: 243ms\tremaining: 417ms\n",
      "368:\tlearn: 0.0268668\ttotal: 243ms\tremaining: 416ms\n",
      "369:\tlearn: 0.0268187\ttotal: 244ms\tremaining: 415ms\n",
      "370:\tlearn: 0.0267545\ttotal: 244ms\tremaining: 414ms\n",
      "371:\tlearn: 0.0267342\ttotal: 245ms\tremaining: 413ms\n",
      "372:\tlearn: 0.0267011\ttotal: 245ms\tremaining: 412ms\n",
      "373:\tlearn: 0.0266490\ttotal: 246ms\tremaining: 411ms\n",
      "374:\tlearn: 0.0266038\ttotal: 246ms\tremaining: 410ms\n",
      "375:\tlearn: 0.0265490\ttotal: 248ms\tremaining: 411ms\n",
      "376:\tlearn: 0.0265174\ttotal: 248ms\tremaining: 411ms\n",
      "377:\tlearn: 0.0264634\ttotal: 250ms\tremaining: 411ms\n",
      "378:\tlearn: 0.0264110\ttotal: 257ms\tremaining: 421ms\n",
      "379:\tlearn: 0.0263572\ttotal: 257ms\tremaining: 420ms\n",
      "380:\tlearn: 0.0263062\ttotal: 258ms\tremaining: 419ms\n",
      "381:\tlearn: 0.0262424\ttotal: 259ms\tremaining: 418ms\n",
      "382:\tlearn: 0.0262121\ttotal: 259ms\tremaining: 417ms\n",
      "383:\tlearn: 0.0261551\ttotal: 260ms\tremaining: 416ms\n",
      "384:\tlearn: 0.0261073\ttotal: 260ms\tremaining: 415ms\n",
      "385:\tlearn: 0.0260840\ttotal: 261ms\tremaining: 414ms\n",
      "386:\tlearn: 0.0260577\ttotal: 261ms\tremaining: 413ms\n",
      "387:\tlearn: 0.0260059\ttotal: 262ms\tremaining: 412ms\n",
      "388:\tlearn: 0.0259941\ttotal: 262ms\tremaining: 411ms\n",
      "389:\tlearn: 0.0259430\ttotal: 262ms\tremaining: 411ms\n",
      "390:\tlearn: 0.0258878\ttotal: 263ms\tremaining: 410ms\n",
      "391:\tlearn: 0.0258548\ttotal: 263ms\tremaining: 409ms\n",
      "392:\tlearn: 0.0258006\ttotal: 264ms\tremaining: 408ms\n",
      "393:\tlearn: 0.0257521\ttotal: 264ms\tremaining: 407ms\n",
      "394:\tlearn: 0.0257239\ttotal: 265ms\tremaining: 406ms\n",
      "395:\tlearn: 0.0256916\ttotal: 265ms\tremaining: 405ms\n",
      "396:\tlearn: 0.0256507\ttotal: 266ms\tremaining: 404ms\n",
      "397:\tlearn: 0.0256022\ttotal: 266ms\tremaining: 403ms\n",
      "398:\tlearn: 0.0255443\ttotal: 266ms\tremaining: 401ms\n",
      "399:\tlearn: 0.0254971\ttotal: 267ms\tremaining: 400ms\n",
      "400:\tlearn: 0.0254557\ttotal: 267ms\tremaining: 399ms\n",
      "401:\tlearn: 0.0253992\ttotal: 267ms\tremaining: 398ms\n",
      "402:\tlearn: 0.0253803\ttotal: 268ms\tremaining: 396ms\n",
      "403:\tlearn: 0.0253380\ttotal: 268ms\tremaining: 395ms\n",
      "404:\tlearn: 0.0253178\ttotal: 268ms\tremaining: 394ms\n",
      "405:\tlearn: 0.0252712\ttotal: 269ms\tremaining: 393ms\n",
      "406:\tlearn: 0.0252519\ttotal: 269ms\tremaining: 392ms\n",
      "407:\tlearn: 0.0252039\ttotal: 270ms\tremaining: 391ms\n",
      "408:\tlearn: 0.0251730\ttotal: 270ms\tremaining: 390ms\n",
      "409:\tlearn: 0.0251540\ttotal: 271ms\tremaining: 389ms\n",
      "410:\tlearn: 0.0251185\ttotal: 271ms\tremaining: 388ms\n",
      "411:\tlearn: 0.0250700\ttotal: 272ms\tremaining: 388ms\n",
      "412:\tlearn: 0.0250304\ttotal: 272ms\tremaining: 387ms\n",
      "413:\tlearn: 0.0250044\ttotal: 273ms\tremaining: 386ms\n",
      "414:\tlearn: 0.0249539\ttotal: 273ms\tremaining: 385ms\n",
      "415:\tlearn: 0.0249050\ttotal: 274ms\tremaining: 384ms\n",
      "416:\tlearn: 0.0248590\ttotal: 275ms\tremaining: 384ms\n",
      "417:\tlearn: 0.0248441\ttotal: 275ms\tremaining: 383ms\n",
      "418:\tlearn: 0.0248108\ttotal: 276ms\tremaining: 382ms\n",
      "419:\tlearn: 0.0247664\ttotal: 276ms\tremaining: 381ms\n",
      "420:\tlearn: 0.0247457\ttotal: 277ms\tremaining: 380ms\n",
      "421:\tlearn: 0.0247091\ttotal: 277ms\tremaining: 380ms\n",
      "422:\tlearn: 0.0246405\ttotal: 278ms\tremaining: 379ms\n",
      "423:\tlearn: 0.0246056\ttotal: 278ms\tremaining: 377ms\n",
      "424:\tlearn: 0.0245922\ttotal: 278ms\tremaining: 376ms\n",
      "425:\tlearn: 0.0245460\ttotal: 279ms\tremaining: 376ms\n",
      "426:\tlearn: 0.0245143\ttotal: 279ms\tremaining: 375ms\n",
      "427:\tlearn: 0.0244671\ttotal: 280ms\tremaining: 374ms\n",
      "428:\tlearn: 0.0244200\ttotal: 280ms\tremaining: 373ms\n",
      "429:\tlearn: 0.0243836\ttotal: 280ms\tremaining: 372ms\n",
      "430:\tlearn: 0.0243439\ttotal: 281ms\tremaining: 371ms\n",
      "431:\tlearn: 0.0243008\ttotal: 281ms\tremaining: 370ms\n",
      "432:\tlearn: 0.0242531\ttotal: 282ms\tremaining: 369ms\n",
      "433:\tlearn: 0.0242188\ttotal: 283ms\tremaining: 368ms\n",
      "434:\tlearn: 0.0241964\ttotal: 283ms\tremaining: 368ms\n",
      "435:\tlearn: 0.0241741\ttotal: 284ms\tremaining: 367ms\n",
      "436:\tlearn: 0.0241566\ttotal: 284ms\tremaining: 366ms\n",
      "437:\tlearn: 0.0240926\ttotal: 285ms\tremaining: 365ms\n",
      "438:\tlearn: 0.0240493\ttotal: 285ms\tremaining: 364ms\n",
      "439:\tlearn: 0.0240124\ttotal: 286ms\tremaining: 363ms\n",
      "440:\tlearn: 0.0239871\ttotal: 286ms\tremaining: 363ms\n",
      "441:\tlearn: 0.0239269\ttotal: 287ms\tremaining: 362ms\n",
      "442:\tlearn: 0.0239010\ttotal: 287ms\tremaining: 361ms\n",
      "443:\tlearn: 0.0238792\ttotal: 287ms\tremaining: 360ms\n",
      "444:\tlearn: 0.0238312\ttotal: 288ms\tremaining: 359ms\n",
      "445:\tlearn: 0.0237864\ttotal: 288ms\tremaining: 358ms\n",
      "446:\tlearn: 0.0237678\ttotal: 288ms\tremaining: 357ms\n",
      "447:\tlearn: 0.0237093\ttotal: 288ms\tremaining: 355ms\n",
      "448:\tlearn: 0.0236672\ttotal: 289ms\tremaining: 354ms\n",
      "449:\tlearn: 0.0236585\ttotal: 289ms\tremaining: 353ms\n",
      "450:\tlearn: 0.0236500\ttotal: 289ms\tremaining: 352ms\n",
      "451:\tlearn: 0.0236219\ttotal: 290ms\tremaining: 351ms\n",
      "452:\tlearn: 0.0236102\ttotal: 290ms\tremaining: 350ms\n",
      "453:\tlearn: 0.0235646\ttotal: 290ms\tremaining: 349ms\n",
      "454:\tlearn: 0.0235336\ttotal: 290ms\tremaining: 348ms\n",
      "455:\tlearn: 0.0234902\ttotal: 291ms\tremaining: 347ms\n",
      "456:\tlearn: 0.0234821\ttotal: 291ms\tremaining: 346ms\n",
      "457:\tlearn: 0.0234353\ttotal: 293ms\tremaining: 347ms\n",
      "458:\tlearn: 0.0233989\ttotal: 293ms\tremaining: 346ms\n",
      "459:\tlearn: 0.0233576\ttotal: 294ms\tremaining: 345ms\n",
      "460:\tlearn: 0.0233270\ttotal: 294ms\tremaining: 344ms\n",
      "461:\tlearn: 0.0233030\ttotal: 295ms\tremaining: 344ms\n",
      "462:\tlearn: 0.0232882\ttotal: 296ms\tremaining: 343ms\n",
      "463:\tlearn: 0.0232581\ttotal: 296ms\tremaining: 342ms\n",
      "464:\tlearn: 0.0232480\ttotal: 297ms\tremaining: 342ms\n",
      "465:\tlearn: 0.0232377\ttotal: 297ms\tremaining: 341ms\n",
      "466:\tlearn: 0.0232257\ttotal: 298ms\tremaining: 340ms\n",
      "467:\tlearn: 0.0231857\ttotal: 298ms\tremaining: 339ms\n",
      "468:\tlearn: 0.0231468\ttotal: 298ms\tremaining: 338ms\n",
      "469:\tlearn: 0.0231147\ttotal: 299ms\tremaining: 337ms\n",
      "470:\tlearn: 0.0230991\ttotal: 299ms\tremaining: 336ms\n",
      "471:\tlearn: 0.0230847\ttotal: 300ms\tremaining: 335ms\n",
      "472:\tlearn: 0.0230326\ttotal: 300ms\tremaining: 334ms\n",
      "473:\tlearn: 0.0229891\ttotal: 301ms\tremaining: 333ms\n",
      "474:\tlearn: 0.0229582\ttotal: 301ms\tremaining: 333ms\n",
      "475:\tlearn: 0.0229391\ttotal: 302ms\tremaining: 332ms\n",
      "476:\tlearn: 0.0228991\ttotal: 302ms\tremaining: 331ms\n",
      "477:\tlearn: 0.0228668\ttotal: 303ms\tremaining: 330ms\n",
      "478:\tlearn: 0.0228601\ttotal: 303ms\tremaining: 330ms\n",
      "479:\tlearn: 0.0228357\ttotal: 303ms\tremaining: 329ms\n",
      "480:\tlearn: 0.0227960\ttotal: 304ms\tremaining: 328ms\n",
      "481:\tlearn: 0.0227634\ttotal: 304ms\tremaining: 327ms\n",
      "482:\tlearn: 0.0227212\ttotal: 305ms\tremaining: 326ms\n",
      "483:\tlearn: 0.0226823\ttotal: 305ms\tremaining: 325ms\n"
     ]
    },
    {
     "name": "stdout",
     "output_type": "stream",
     "text": [
      "484:\tlearn: 0.0226758\ttotal: 307ms\tremaining: 326ms\n",
      "485:\tlearn: 0.0226542\ttotal: 308ms\tremaining: 326ms\n",
      "486:\tlearn: 0.0226319\ttotal: 308ms\tremaining: 325ms\n",
      "487:\tlearn: 0.0226256\ttotal: 309ms\tremaining: 324ms\n",
      "488:\tlearn: 0.0226120\ttotal: 309ms\tremaining: 323ms\n",
      "489:\tlearn: 0.0225676\ttotal: 309ms\tremaining: 322ms\n",
      "490:\tlearn: 0.0225586\ttotal: 310ms\tremaining: 321ms\n",
      "491:\tlearn: 0.0225533\ttotal: 310ms\tremaining: 320ms\n",
      "492:\tlearn: 0.0225398\ttotal: 310ms\tremaining: 319ms\n",
      "493:\tlearn: 0.0225119\ttotal: 310ms\tremaining: 318ms\n",
      "494:\tlearn: 0.0224993\ttotal: 311ms\tremaining: 317ms\n",
      "495:\tlearn: 0.0224714\ttotal: 311ms\tremaining: 316ms\n",
      "496:\tlearn: 0.0224309\ttotal: 312ms\tremaining: 315ms\n",
      "497:\tlearn: 0.0224210\ttotal: 312ms\tremaining: 314ms\n",
      "498:\tlearn: 0.0223974\ttotal: 312ms\tremaining: 313ms\n",
      "499:\tlearn: 0.0223596\ttotal: 313ms\tremaining: 313ms\n",
      "500:\tlearn: 0.0223431\ttotal: 314ms\tremaining: 313ms\n",
      "501:\tlearn: 0.0223292\ttotal: 314ms\tremaining: 312ms\n",
      "502:\tlearn: 0.0222928\ttotal: 315ms\tremaining: 311ms\n",
      "503:\tlearn: 0.0222380\ttotal: 316ms\tremaining: 310ms\n",
      "504:\tlearn: 0.0222004\ttotal: 316ms\tremaining: 310ms\n",
      "505:\tlearn: 0.0221657\ttotal: 316ms\tremaining: 309ms\n",
      "506:\tlearn: 0.0221520\ttotal: 317ms\tremaining: 308ms\n",
      "507:\tlearn: 0.0221181\ttotal: 318ms\tremaining: 308ms\n",
      "508:\tlearn: 0.0220918\ttotal: 318ms\tremaining: 307ms\n",
      "509:\tlearn: 0.0220792\ttotal: 319ms\tremaining: 306ms\n",
      "510:\tlearn: 0.0220303\ttotal: 319ms\tremaining: 305ms\n",
      "511:\tlearn: 0.0219966\ttotal: 320ms\tremaining: 305ms\n",
      "512:\tlearn: 0.0219697\ttotal: 320ms\tremaining: 304ms\n",
      "513:\tlearn: 0.0219500\ttotal: 321ms\tremaining: 303ms\n",
      "514:\tlearn: 0.0219274\ttotal: 321ms\tremaining: 302ms\n",
      "515:\tlearn: 0.0219145\ttotal: 322ms\tremaining: 302ms\n",
      "516:\tlearn: 0.0218857\ttotal: 322ms\tremaining: 301ms\n",
      "517:\tlearn: 0.0218519\ttotal: 323ms\tremaining: 300ms\n",
      "518:\tlearn: 0.0218261\ttotal: 323ms\tremaining: 299ms\n",
      "519:\tlearn: 0.0218133\ttotal: 324ms\tremaining: 299ms\n",
      "520:\tlearn: 0.0217775\ttotal: 324ms\tremaining: 298ms\n",
      "521:\tlearn: 0.0217564\ttotal: 324ms\tremaining: 297ms\n",
      "522:\tlearn: 0.0217189\ttotal: 325ms\tremaining: 296ms\n",
      "523:\tlearn: 0.0217007\ttotal: 325ms\tremaining: 296ms\n",
      "524:\tlearn: 0.0216906\ttotal: 326ms\tremaining: 295ms\n",
      "525:\tlearn: 0.0216619\ttotal: 326ms\tremaining: 294ms\n",
      "526:\tlearn: 0.0216182\ttotal: 326ms\tremaining: 293ms\n",
      "527:\tlearn: 0.0215844\ttotal: 327ms\tremaining: 292ms\n",
      "528:\tlearn: 0.0215763\ttotal: 327ms\tremaining: 292ms\n",
      "529:\tlearn: 0.0215620\ttotal: 328ms\tremaining: 291ms\n",
      "530:\tlearn: 0.0215308\ttotal: 328ms\tremaining: 290ms\n",
      "531:\tlearn: 0.0214941\ttotal: 329ms\tremaining: 289ms\n",
      "532:\tlearn: 0.0214686\ttotal: 329ms\tremaining: 288ms\n",
      "533:\tlearn: 0.0214536\ttotal: 329ms\tremaining: 287ms\n",
      "534:\tlearn: 0.0214490\ttotal: 329ms\tremaining: 286ms\n",
      "535:\tlearn: 0.0214394\ttotal: 330ms\tremaining: 285ms\n",
      "536:\tlearn: 0.0213932\ttotal: 330ms\tremaining: 285ms\n",
      "537:\tlearn: 0.0213661\ttotal: 330ms\tremaining: 284ms\n",
      "538:\tlearn: 0.0213399\ttotal: 331ms\tremaining: 283ms\n",
      "539:\tlearn: 0.0213266\ttotal: 331ms\tremaining: 282ms\n",
      "540:\tlearn: 0.0213065\ttotal: 332ms\tremaining: 282ms\n",
      "541:\tlearn: 0.0212816\ttotal: 333ms\tremaining: 281ms\n",
      "542:\tlearn: 0.0212537\ttotal: 333ms\tremaining: 280ms\n",
      "543:\tlearn: 0.0212226\ttotal: 334ms\tremaining: 280ms\n",
      "544:\tlearn: 0.0212110\ttotal: 334ms\tremaining: 279ms\n",
      "545:\tlearn: 0.0211874\ttotal: 335ms\tremaining: 278ms\n",
      "546:\tlearn: 0.0211542\ttotal: 335ms\tremaining: 278ms\n",
      "547:\tlearn: 0.0211451\ttotal: 336ms\tremaining: 277ms\n",
      "548:\tlearn: 0.0211180\ttotal: 336ms\tremaining: 276ms\n",
      "549:\tlearn: 0.0210862\ttotal: 336ms\tremaining: 275ms\n",
      "550:\tlearn: 0.0210575\ttotal: 337ms\tremaining: 274ms\n",
      "551:\tlearn: 0.0210452\ttotal: 337ms\tremaining: 274ms\n",
      "552:\tlearn: 0.0210391\ttotal: 337ms\tremaining: 273ms\n",
      "553:\tlearn: 0.0210165\ttotal: 338ms\tremaining: 272ms\n",
      "554:\tlearn: 0.0210093\ttotal: 338ms\tremaining: 271ms\n",
      "555:\tlearn: 0.0209840\ttotal: 338ms\tremaining: 270ms\n",
      "556:\tlearn: 0.0209497\ttotal: 339ms\tremaining: 270ms\n",
      "557:\tlearn: 0.0209380\ttotal: 340ms\tremaining: 269ms\n",
      "558:\tlearn: 0.0209093\ttotal: 340ms\tremaining: 268ms\n",
      "559:\tlearn: 0.0208945\ttotal: 341ms\tremaining: 268ms\n",
      "560:\tlearn: 0.0208639\ttotal: 341ms\tremaining: 267ms\n",
      "561:\tlearn: 0.0208259\ttotal: 342ms\tremaining: 266ms\n",
      "562:\tlearn: 0.0208064\ttotal: 342ms\tremaining: 266ms\n",
      "563:\tlearn: 0.0207873\ttotal: 343ms\tremaining: 265ms\n",
      "564:\tlearn: 0.0207658\ttotal: 343ms\tremaining: 264ms\n",
      "565:\tlearn: 0.0207529\ttotal: 344ms\tremaining: 263ms\n",
      "566:\tlearn: 0.0207302\ttotal: 344ms\tremaining: 263ms\n",
      "567:\tlearn: 0.0207190\ttotal: 345ms\tremaining: 262ms\n",
      "568:\tlearn: 0.0207026\ttotal: 345ms\tremaining: 261ms\n",
      "569:\tlearn: 0.0206710\ttotal: 346ms\tremaining: 261ms\n",
      "570:\tlearn: 0.0206433\ttotal: 346ms\tremaining: 260ms\n",
      "571:\tlearn: 0.0205995\ttotal: 347ms\tremaining: 259ms\n",
      "572:\tlearn: 0.0205694\ttotal: 347ms\tremaining: 258ms\n",
      "573:\tlearn: 0.0205404\ttotal: 347ms\tremaining: 258ms\n",
      "574:\tlearn: 0.0205225\ttotal: 347ms\tremaining: 257ms\n",
      "575:\tlearn: 0.0204938\ttotal: 348ms\tremaining: 256ms\n",
      "576:\tlearn: 0.0204496\ttotal: 348ms\tremaining: 255ms\n",
      "577:\tlearn: 0.0204227\ttotal: 348ms\tremaining: 254ms\n",
      "578:\tlearn: 0.0204110\ttotal: 349ms\tremaining: 253ms\n",
      "579:\tlearn: 0.0204010\ttotal: 349ms\tremaining: 253ms\n",
      "580:\tlearn: 0.0203974\ttotal: 349ms\tremaining: 252ms\n",
      "581:\tlearn: 0.0203937\ttotal: 350ms\tremaining: 251ms\n",
      "582:\tlearn: 0.0203819\ttotal: 350ms\tremaining: 250ms\n",
      "583:\tlearn: 0.0203573\ttotal: 350ms\tremaining: 249ms\n",
      "584:\tlearn: 0.0203323\ttotal: 350ms\tremaining: 248ms\n",
      "585:\tlearn: 0.0202883\ttotal: 352ms\tremaining: 248ms\n",
      "586:\tlearn: 0.0202761\ttotal: 353ms\tremaining: 248ms\n",
      "587:\tlearn: 0.0202516\ttotal: 353ms\tremaining: 247ms\n",
      "588:\tlearn: 0.0202175\ttotal: 354ms\tremaining: 247ms\n",
      "589:\tlearn: 0.0201888\ttotal: 354ms\tremaining: 246ms\n",
      "590:\tlearn: 0.0201784\ttotal: 355ms\tremaining: 245ms\n",
      "591:\tlearn: 0.0201604\ttotal: 355ms\tremaining: 245ms\n",
      "592:\tlearn: 0.0201447\ttotal: 356ms\tremaining: 244ms\n",
      "593:\tlearn: 0.0201240\ttotal: 356ms\tremaining: 243ms\n",
      "594:\tlearn: 0.0200988\ttotal: 357ms\tremaining: 243ms\n",
      "595:\tlearn: 0.0200788\ttotal: 357ms\tremaining: 242ms\n"
     ]
    },
    {
     "name": "stdout",
     "output_type": "stream",
     "text": [
      "596:\tlearn: 0.0200500\ttotal: 358ms\tremaining: 242ms\n",
      "597:\tlearn: 0.0200268\ttotal: 359ms\tremaining: 242ms\n",
      "598:\tlearn: 0.0200188\ttotal: 360ms\tremaining: 241ms\n",
      "599:\tlearn: 0.0199794\ttotal: 361ms\tremaining: 240ms\n",
      "600:\tlearn: 0.0199544\ttotal: 361ms\tremaining: 240ms\n",
      "601:\tlearn: 0.0199485\ttotal: 362ms\tremaining: 239ms\n",
      "602:\tlearn: 0.0199368\ttotal: 362ms\tremaining: 238ms\n",
      "603:\tlearn: 0.0199073\ttotal: 363ms\tremaining: 238ms\n",
      "604:\tlearn: 0.0198802\ttotal: 363ms\tremaining: 237ms\n",
      "605:\tlearn: 0.0198517\ttotal: 364ms\tremaining: 237ms\n",
      "606:\tlearn: 0.0198278\ttotal: 364ms\tremaining: 236ms\n",
      "607:\tlearn: 0.0198103\ttotal: 365ms\tremaining: 235ms\n",
      "608:\tlearn: 0.0197795\ttotal: 365ms\tremaining: 234ms\n",
      "609:\tlearn: 0.0197735\ttotal: 365ms\tremaining: 234ms\n",
      "610:\tlearn: 0.0197643\ttotal: 366ms\tremaining: 233ms\n",
      "611:\tlearn: 0.0197402\ttotal: 366ms\tremaining: 232ms\n",
      "612:\tlearn: 0.0197139\ttotal: 366ms\tremaining: 231ms\n",
      "613:\tlearn: 0.0196915\ttotal: 367ms\tremaining: 230ms\n",
      "614:\tlearn: 0.0196599\ttotal: 367ms\tremaining: 230ms\n",
      "615:\tlearn: 0.0196256\ttotal: 367ms\tremaining: 229ms\n",
      "616:\tlearn: 0.0196017\ttotal: 368ms\tremaining: 228ms\n",
      "617:\tlearn: 0.0195795\ttotal: 368ms\tremaining: 227ms\n",
      "618:\tlearn: 0.0195423\ttotal: 368ms\tremaining: 227ms\n",
      "619:\tlearn: 0.0195290\ttotal: 368ms\tremaining: 226ms\n",
      "620:\tlearn: 0.0195055\ttotal: 369ms\tremaining: 225ms\n",
      "621:\tlearn: 0.0194786\ttotal: 369ms\tremaining: 224ms\n",
      "622:\tlearn: 0.0194669\ttotal: 370ms\tremaining: 224ms\n",
      "623:\tlearn: 0.0194413\ttotal: 371ms\tremaining: 223ms\n",
      "624:\tlearn: 0.0194363\ttotal: 371ms\tremaining: 223ms\n",
      "625:\tlearn: 0.0194258\ttotal: 372ms\tremaining: 222ms\n",
      "626:\tlearn: 0.0193993\ttotal: 372ms\tremaining: 221ms\n",
      "627:\tlearn: 0.0193899\ttotal: 373ms\tremaining: 221ms\n",
      "628:\tlearn: 0.0193834\ttotal: 374ms\tremaining: 220ms\n",
      "629:\tlearn: 0.0193641\ttotal: 375ms\tremaining: 220ms\n",
      "630:\tlearn: 0.0193459\ttotal: 376ms\tremaining: 220ms\n",
      "631:\tlearn: 0.0193101\ttotal: 376ms\tremaining: 219ms\n",
      "632:\tlearn: 0.0193023\ttotal: 377ms\tremaining: 218ms\n",
      "633:\tlearn: 0.0192854\ttotal: 378ms\tremaining: 218ms\n",
      "634:\tlearn: 0.0192576\ttotal: 379ms\tremaining: 218ms\n",
      "635:\tlearn: 0.0192358\ttotal: 380ms\tremaining: 218ms\n",
      "636:\tlearn: 0.0192041\ttotal: 381ms\tremaining: 217ms\n",
      "637:\tlearn: 0.0191974\ttotal: 381ms\tremaining: 216ms\n",
      "638:\tlearn: 0.0191763\ttotal: 382ms\tremaining: 216ms\n",
      "639:\tlearn: 0.0191700\ttotal: 383ms\tremaining: 215ms\n",
      "640:\tlearn: 0.0191463\ttotal: 384ms\tremaining: 215ms\n",
      "641:\tlearn: 0.0191248\ttotal: 385ms\tremaining: 215ms\n",
      "642:\tlearn: 0.0191010\ttotal: 386ms\tremaining: 214ms\n",
      "643:\tlearn: 0.0190809\ttotal: 387ms\tremaining: 214ms\n",
      "644:\tlearn: 0.0190577\ttotal: 387ms\tremaining: 213ms\n",
      "645:\tlearn: 0.0190219\ttotal: 387ms\tremaining: 212ms\n",
      "646:\tlearn: 0.0190147\ttotal: 387ms\tremaining: 211ms\n",
      "647:\tlearn: 0.0189882\ttotal: 388ms\tremaining: 211ms\n",
      "648:\tlearn: 0.0189838\ttotal: 388ms\tremaining: 210ms\n",
      "649:\tlearn: 0.0189707\ttotal: 389ms\tremaining: 209ms\n",
      "650:\tlearn: 0.0189665\ttotal: 390ms\tremaining: 209ms\n",
      "651:\tlearn: 0.0189442\ttotal: 390ms\tremaining: 208ms\n",
      "652:\tlearn: 0.0189194\ttotal: 391ms\tremaining: 208ms\n",
      "653:\tlearn: 0.0188967\ttotal: 391ms\tremaining: 207ms\n",
      "654:\tlearn: 0.0188846\ttotal: 393ms\tremaining: 207ms\n",
      "655:\tlearn: 0.0188672\ttotal: 394ms\tremaining: 207ms\n",
      "656:\tlearn: 0.0188454\ttotal: 394ms\tremaining: 206ms\n",
      "657:\tlearn: 0.0188195\ttotal: 395ms\tremaining: 205ms\n",
      "658:\tlearn: 0.0188055\ttotal: 396ms\tremaining: 205ms\n",
      "659:\tlearn: 0.0187704\ttotal: 396ms\tremaining: 204ms\n",
      "660:\tlearn: 0.0187537\ttotal: 397ms\tremaining: 203ms\n",
      "661:\tlearn: 0.0187384\ttotal: 397ms\tremaining: 203ms\n",
      "662:\tlearn: 0.0187275\ttotal: 398ms\tremaining: 202ms\n",
      "663:\tlearn: 0.0187085\ttotal: 398ms\tremaining: 202ms\n",
      "664:\tlearn: 0.0186921\ttotal: 398ms\tremaining: 201ms\n",
      "665:\tlearn: 0.0186834\ttotal: 399ms\tremaining: 200ms\n",
      "666:\tlearn: 0.0186528\ttotal: 399ms\tremaining: 199ms\n",
      "667:\tlearn: 0.0186309\ttotal: 400ms\tremaining: 199ms\n",
      "668:\tlearn: 0.0186104\ttotal: 400ms\tremaining: 198ms\n",
      "669:\tlearn: 0.0185793\ttotal: 401ms\tremaining: 197ms\n",
      "670:\tlearn: 0.0185545\ttotal: 401ms\tremaining: 197ms\n",
      "671:\tlearn: 0.0185361\ttotal: 402ms\tremaining: 196ms\n",
      "672:\tlearn: 0.0185231\ttotal: 402ms\tremaining: 195ms\n",
      "673:\tlearn: 0.0185074\ttotal: 403ms\tremaining: 195ms\n",
      "674:\tlearn: 0.0184908\ttotal: 403ms\tremaining: 194ms\n",
      "675:\tlearn: 0.0184847\ttotal: 403ms\tremaining: 193ms\n",
      "676:\tlearn: 0.0184517\ttotal: 404ms\tremaining: 193ms\n",
      "677:\tlearn: 0.0184300\ttotal: 404ms\tremaining: 192ms\n",
      "678:\tlearn: 0.0184238\ttotal: 405ms\tremaining: 191ms\n",
      "679:\tlearn: 0.0184043\ttotal: 405ms\tremaining: 191ms\n",
      "680:\tlearn: 0.0183971\ttotal: 406ms\tremaining: 190ms\n",
      "681:\tlearn: 0.0183763\ttotal: 406ms\tremaining: 189ms\n",
      "682:\tlearn: 0.0183719\ttotal: 407ms\tremaining: 189ms\n",
      "683:\tlearn: 0.0183540\ttotal: 407ms\tremaining: 188ms\n",
      "684:\tlearn: 0.0183376\ttotal: 408ms\tremaining: 187ms\n",
      "685:\tlearn: 0.0183147\ttotal: 408ms\tremaining: 187ms\n",
      "686:\tlearn: 0.0182976\ttotal: 409ms\tremaining: 186ms\n",
      "687:\tlearn: 0.0182792\ttotal: 409ms\tremaining: 186ms\n",
      "688:\tlearn: 0.0182641\ttotal: 410ms\tremaining: 185ms\n",
      "689:\tlearn: 0.0182310\ttotal: 410ms\tremaining: 184ms\n",
      "690:\tlearn: 0.0182190\ttotal: 411ms\tremaining: 184ms\n",
      "691:\tlearn: 0.0182143\ttotal: 411ms\tremaining: 183ms\n",
      "692:\tlearn: 0.0182029\ttotal: 412ms\tremaining: 183ms\n",
      "693:\tlearn: 0.0181781\ttotal: 413ms\tremaining: 182ms\n",
      "694:\tlearn: 0.0181566\ttotal: 414ms\tremaining: 182ms\n",
      "695:\tlearn: 0.0181380\ttotal: 415ms\tremaining: 181ms\n",
      "696:\tlearn: 0.0181206\ttotal: 416ms\tremaining: 181ms\n",
      "697:\tlearn: 0.0181114\ttotal: 417ms\tremaining: 181ms\n",
      "698:\tlearn: 0.0180912\ttotal: 418ms\tremaining: 180ms\n",
      "699:\tlearn: 0.0180876\ttotal: 419ms\tremaining: 180ms\n",
      "700:\tlearn: 0.0180639\ttotal: 419ms\tremaining: 179ms\n",
      "701:\tlearn: 0.0180505\ttotal: 419ms\tremaining: 178ms\n",
      "702:\tlearn: 0.0180279\ttotal: 420ms\tremaining: 177ms\n",
      "703:\tlearn: 0.0179864\ttotal: 420ms\tremaining: 177ms\n",
      "704:\tlearn: 0.0179646\ttotal: 421ms\tremaining: 176ms\n",
      "705:\tlearn: 0.0179580\ttotal: 422ms\tremaining: 176ms\n",
      "706:\tlearn: 0.0179506\ttotal: 423ms\tremaining: 175ms\n",
      "707:\tlearn: 0.0179352\ttotal: 424ms\tremaining: 175ms\n",
      "708:\tlearn: 0.0179286\ttotal: 426ms\tremaining: 175ms\n",
      "709:\tlearn: 0.0178995\ttotal: 426ms\tremaining: 174ms\n",
      "710:\tlearn: 0.0178955\ttotal: 427ms\tremaining: 173ms\n",
      "711:\tlearn: 0.0178746\ttotal: 427ms\tremaining: 173ms\n",
      "712:\tlearn: 0.0178501\ttotal: 428ms\tremaining: 172ms\n",
      "713:\tlearn: 0.0178336\ttotal: 428ms\tremaining: 171ms\n",
      "714:\tlearn: 0.0178230\ttotal: 430ms\tremaining: 171ms\n",
      "715:\tlearn: 0.0178032\ttotal: 430ms\tremaining: 171ms\n",
      "716:\tlearn: 0.0177898\ttotal: 431ms\tremaining: 170ms\n",
      "717:\tlearn: 0.0177701\ttotal: 431ms\tremaining: 169ms\n",
      "718:\tlearn: 0.0177648\ttotal: 432ms\tremaining: 169ms\n",
      "719:\tlearn: 0.0177315\ttotal: 432ms\tremaining: 168ms\n",
      "720:\tlearn: 0.0177180\ttotal: 432ms\tremaining: 167ms\n",
      "721:\tlearn: 0.0176889\ttotal: 432ms\tremaining: 166ms\n",
      "722:\tlearn: 0.0176790\ttotal: 433ms\tremaining: 166ms\n",
      "723:\tlearn: 0.0176625\ttotal: 433ms\tremaining: 165ms\n",
      "724:\tlearn: 0.0176576\ttotal: 433ms\tremaining: 164ms\n",
      "725:\tlearn: 0.0176461\ttotal: 434ms\tremaining: 164ms\n",
      "726:\tlearn: 0.0176166\ttotal: 434ms\tremaining: 163ms\n",
      "727:\tlearn: 0.0175983\ttotal: 434ms\tremaining: 162ms\n",
      "728:\tlearn: 0.0175933\ttotal: 435ms\tremaining: 162ms\n",
      "729:\tlearn: 0.0175752\ttotal: 435ms\tremaining: 161ms\n",
      "730:\tlearn: 0.0175561\ttotal: 435ms\tremaining: 160ms\n",
      "731:\tlearn: 0.0175320\ttotal: 435ms\tremaining: 159ms\n",
      "732:\tlearn: 0.0175277\ttotal: 436ms\tremaining: 159ms\n",
      "733:\tlearn: 0.0175168\ttotal: 437ms\tremaining: 158ms\n",
      "734:\tlearn: 0.0175099\ttotal: 438ms\tremaining: 158ms\n",
      "735:\tlearn: 0.0174838\ttotal: 438ms\tremaining: 157ms\n",
      "736:\tlearn: 0.0174661\ttotal: 439ms\tremaining: 157ms\n",
      "737:\tlearn: 0.0174473\ttotal: 440ms\tremaining: 156ms\n",
      "738:\tlearn: 0.0174389\ttotal: 440ms\tremaining: 155ms\n",
      "739:\tlearn: 0.0174185\ttotal: 441ms\tremaining: 155ms\n",
      "740:\tlearn: 0.0174013\ttotal: 441ms\tremaining: 154ms\n",
      "741:\tlearn: 0.0173882\ttotal: 442ms\tremaining: 154ms\n",
      "742:\tlearn: 0.0173731\ttotal: 442ms\tremaining: 153ms\n",
      "743:\tlearn: 0.0173566\ttotal: 443ms\tremaining: 152ms\n",
      "744:\tlearn: 0.0173397\ttotal: 443ms\tremaining: 152ms\n",
      "745:\tlearn: 0.0173200\ttotal: 444ms\tremaining: 151ms\n",
      "746:\tlearn: 0.0173026\ttotal: 444ms\tremaining: 151ms\n",
      "747:\tlearn: 0.0172977\ttotal: 445ms\tremaining: 150ms\n",
      "748:\tlearn: 0.0172893\ttotal: 447ms\tremaining: 150ms\n",
      "749:\tlearn: 0.0172776\ttotal: 448ms\tremaining: 149ms\n",
      "750:\tlearn: 0.0172720\ttotal: 449ms\tremaining: 149ms\n",
      "751:\tlearn: 0.0172561\ttotal: 449ms\tremaining: 148ms\n",
      "752:\tlearn: 0.0172423\ttotal: 450ms\tremaining: 148ms\n"
     ]
    },
    {
     "name": "stdout",
     "output_type": "stream",
     "text": [
      "753:\tlearn: 0.0172049\ttotal: 452ms\tremaining: 147ms\n",
      "754:\tlearn: 0.0171994\ttotal: 454ms\tremaining: 147ms\n",
      "755:\tlearn: 0.0171974\ttotal: 455ms\tremaining: 147ms\n",
      "756:\tlearn: 0.0171873\ttotal: 456ms\tremaining: 146ms\n",
      "757:\tlearn: 0.0171615\ttotal: 457ms\tremaining: 146ms\n",
      "758:\tlearn: 0.0171509\ttotal: 457ms\tremaining: 145ms\n",
      "759:\tlearn: 0.0171401\ttotal: 458ms\tremaining: 145ms\n",
      "760:\tlearn: 0.0171338\ttotal: 458ms\tremaining: 144ms\n",
      "761:\tlearn: 0.0171247\ttotal: 459ms\tremaining: 143ms\n",
      "762:\tlearn: 0.0171052\ttotal: 460ms\tremaining: 143ms\n",
      "763:\tlearn: 0.0170870\ttotal: 461ms\tremaining: 142ms\n",
      "764:\tlearn: 0.0170732\ttotal: 461ms\tremaining: 142ms\n",
      "765:\tlearn: 0.0170600\ttotal: 462ms\tremaining: 141ms\n",
      "766:\tlearn: 0.0170219\ttotal: 463ms\tremaining: 141ms\n",
      "767:\tlearn: 0.0170119\ttotal: 463ms\tremaining: 140ms\n",
      "768:\tlearn: 0.0169973\ttotal: 464ms\tremaining: 139ms\n",
      "769:\tlearn: 0.0169625\ttotal: 464ms\tremaining: 139ms\n",
      "770:\tlearn: 0.0169474\ttotal: 465ms\tremaining: 138ms\n",
      "771:\tlearn: 0.0169285\ttotal: 465ms\tremaining: 137ms\n",
      "772:\tlearn: 0.0169151\ttotal: 466ms\tremaining: 137ms\n",
      "773:\tlearn: 0.0168952\ttotal: 466ms\tremaining: 136ms\n",
      "774:\tlearn: 0.0168808\ttotal: 467ms\tremaining: 136ms\n",
      "775:\tlearn: 0.0168508\ttotal: 467ms\tremaining: 135ms\n",
      "776:\tlearn: 0.0168488\ttotal: 468ms\tremaining: 134ms\n",
      "777:\tlearn: 0.0168303\ttotal: 468ms\tremaining: 134ms\n",
      "778:\tlearn: 0.0168154\ttotal: 468ms\tremaining: 133ms\n",
      "779:\tlearn: 0.0168060\ttotal: 469ms\tremaining: 132ms\n",
      "780:\tlearn: 0.0167974\ttotal: 469ms\tremaining: 132ms\n",
      "781:\tlearn: 0.0167648\ttotal: 469ms\tremaining: 131ms\n",
      "782:\tlearn: 0.0167492\ttotal: 470ms\tremaining: 130ms\n",
      "783:\tlearn: 0.0167260\ttotal: 471ms\tremaining: 130ms\n",
      "784:\tlearn: 0.0167039\ttotal: 471ms\tremaining: 129ms\n",
      "785:\tlearn: 0.0166881\ttotal: 471ms\tremaining: 128ms\n",
      "786:\tlearn: 0.0166589\ttotal: 472ms\tremaining: 128ms\n",
      "787:\tlearn: 0.0166415\ttotal: 473ms\tremaining: 127ms\n",
      "788:\tlearn: 0.0166214\ttotal: 473ms\tremaining: 127ms\n",
      "789:\tlearn: 0.0166069\ttotal: 474ms\tremaining: 126ms\n",
      "790:\tlearn: 0.0165945\ttotal: 474ms\tremaining: 125ms\n",
      "791:\tlearn: 0.0165791\ttotal: 475ms\tremaining: 125ms\n",
      "792:\tlearn: 0.0165642\ttotal: 476ms\tremaining: 124ms\n",
      "793:\tlearn: 0.0165509\ttotal: 477ms\tremaining: 124ms\n",
      "794:\tlearn: 0.0165384\ttotal: 477ms\tremaining: 123ms\n",
      "795:\tlearn: 0.0165212\ttotal: 478ms\tremaining: 122ms\n",
      "796:\tlearn: 0.0165068\ttotal: 478ms\tremaining: 122ms\n",
      "797:\tlearn: 0.0164915\ttotal: 479ms\tremaining: 121ms\n",
      "798:\tlearn: 0.0164748\ttotal: 479ms\tremaining: 120ms\n",
      "799:\tlearn: 0.0164577\ttotal: 479ms\tremaining: 120ms\n",
      "800:\tlearn: 0.0164375\ttotal: 480ms\tremaining: 119ms\n",
      "801:\tlearn: 0.0164274\ttotal: 480ms\tremaining: 119ms\n",
      "802:\tlearn: 0.0164240\ttotal: 483ms\tremaining: 118ms\n",
      "803:\tlearn: 0.0164110\ttotal: 483ms\tremaining: 118ms\n",
      "804:\tlearn: 0.0163863\ttotal: 483ms\tremaining: 117ms\n",
      "805:\tlearn: 0.0163785\ttotal: 484ms\tremaining: 116ms\n",
      "806:\tlearn: 0.0163516\ttotal: 484ms\tremaining: 116ms\n",
      "807:\tlearn: 0.0163382\ttotal: 484ms\tremaining: 115ms\n",
      "808:\tlearn: 0.0163197\ttotal: 486ms\tremaining: 115ms\n",
      "809:\tlearn: 0.0163039\ttotal: 486ms\tremaining: 114ms\n",
      "810:\tlearn: 0.0162866\ttotal: 487ms\tremaining: 113ms\n",
      "811:\tlearn: 0.0162634\ttotal: 487ms\tremaining: 113ms\n",
      "812:\tlearn: 0.0162574\ttotal: 488ms\tremaining: 112ms\n",
      "813:\tlearn: 0.0162410\ttotal: 488ms\tremaining: 112ms\n",
      "814:\tlearn: 0.0162299\ttotal: 489ms\tremaining: 111ms\n",
      "815:\tlearn: 0.0162042\ttotal: 489ms\tremaining: 110ms\n",
      "816:\tlearn: 0.0161692\ttotal: 490ms\tremaining: 110ms\n",
      "817:\tlearn: 0.0161507\ttotal: 490ms\tremaining: 109ms\n",
      "818:\tlearn: 0.0161376\ttotal: 491ms\tremaining: 108ms\n",
      "819:\tlearn: 0.0161248\ttotal: 491ms\tremaining: 108ms\n",
      "820:\tlearn: 0.0161070\ttotal: 492ms\tremaining: 107ms\n",
      "821:\tlearn: 0.0160898\ttotal: 492ms\tremaining: 107ms\n",
      "822:\tlearn: 0.0160776\ttotal: 493ms\tremaining: 106ms\n",
      "823:\tlearn: 0.0160681\ttotal: 494ms\tremaining: 105ms\n",
      "824:\tlearn: 0.0160571\ttotal: 494ms\tremaining: 105ms\n",
      "825:\tlearn: 0.0160433\ttotal: 495ms\tremaining: 104ms\n",
      "826:\tlearn: 0.0160343\ttotal: 495ms\tremaining: 104ms\n",
      "827:\tlearn: 0.0160087\ttotal: 496ms\tremaining: 103ms\n",
      "828:\tlearn: 0.0159882\ttotal: 496ms\tremaining: 102ms\n",
      "829:\tlearn: 0.0159752\ttotal: 496ms\tremaining: 102ms\n",
      "830:\tlearn: 0.0159717\ttotal: 497ms\tremaining: 101ms\n",
      "831:\tlearn: 0.0159609\ttotal: 497ms\tremaining: 100ms\n",
      "832:\tlearn: 0.0159564\ttotal: 498ms\tremaining: 99.8ms\n",
      "833:\tlearn: 0.0159472\ttotal: 498ms\tremaining: 99.1ms\n",
      "834:\tlearn: 0.0159239\ttotal: 499ms\tremaining: 98.5ms\n",
      "835:\tlearn: 0.0159063\ttotal: 499ms\tremaining: 97.9ms\n",
      "836:\tlearn: 0.0158819\ttotal: 499ms\tremaining: 97.2ms\n",
      "837:\tlearn: 0.0158671\ttotal: 500ms\tremaining: 96.6ms\n",
      "838:\tlearn: 0.0158523\ttotal: 501ms\tremaining: 96.1ms\n",
      "839:\tlearn: 0.0158251\ttotal: 501ms\tremaining: 95.4ms\n",
      "840:\tlearn: 0.0158099\ttotal: 502ms\tremaining: 94.8ms\n",
      "841:\tlearn: 0.0157966\ttotal: 502ms\tremaining: 94.2ms\n",
      "842:\tlearn: 0.0157914\ttotal: 502ms\tremaining: 93.5ms\n",
      "843:\tlearn: 0.0157830\ttotal: 503ms\tremaining: 92.9ms\n",
      "844:\tlearn: 0.0157792\ttotal: 503ms\tremaining: 92.3ms\n",
      "845:\tlearn: 0.0157642\ttotal: 504ms\tremaining: 91.7ms\n",
      "846:\tlearn: 0.0157366\ttotal: 504ms\tremaining: 91ms\n"
     ]
    },
    {
     "name": "stdout",
     "output_type": "stream",
     "text": [
      "847:\tlearn: 0.0157258\ttotal: 505ms\tremaining: 90.6ms\n",
      "848:\tlearn: 0.0157112\ttotal: 506ms\tremaining: 90.1ms\n",
      "849:\tlearn: 0.0156976\ttotal: 507ms\tremaining: 89.5ms\n",
      "850:\tlearn: 0.0156867\ttotal: 507ms\tremaining: 88.9ms\n",
      "851:\tlearn: 0.0156680\ttotal: 508ms\tremaining: 88.2ms\n",
      "852:\tlearn: 0.0156597\ttotal: 509ms\tremaining: 87.6ms\n",
      "853:\tlearn: 0.0156549\ttotal: 509ms\tremaining: 87ms\n",
      "854:\tlearn: 0.0156393\ttotal: 510ms\tremaining: 86.4ms\n",
      "855:\tlearn: 0.0156314\ttotal: 510ms\tremaining: 85.8ms\n",
      "856:\tlearn: 0.0156196\ttotal: 511ms\tremaining: 85.2ms\n",
      "857:\tlearn: 0.0156061\ttotal: 511ms\tremaining: 84.6ms\n",
      "858:\tlearn: 0.0156029\ttotal: 512ms\tremaining: 84ms\n",
      "859:\tlearn: 0.0155833\ttotal: 512ms\tremaining: 83.4ms\n",
      "860:\tlearn: 0.0155648\ttotal: 513ms\tremaining: 82.8ms\n",
      "861:\tlearn: 0.0155411\ttotal: 513ms\tremaining: 82.2ms\n",
      "862:\tlearn: 0.0155233\ttotal: 514ms\tremaining: 81.6ms\n",
      "863:\tlearn: 0.0155180\ttotal: 514ms\tremaining: 81ms\n",
      "864:\tlearn: 0.0155013\ttotal: 515ms\tremaining: 80.4ms\n",
      "865:\tlearn: 0.0154907\ttotal: 515ms\tremaining: 79.7ms\n",
      "866:\tlearn: 0.0154881\ttotal: 516ms\tremaining: 79.1ms\n",
      "867:\tlearn: 0.0154819\ttotal: 516ms\tremaining: 78.5ms\n",
      "868:\tlearn: 0.0154747\ttotal: 520ms\tremaining: 78.3ms\n",
      "869:\tlearn: 0.0154599\ttotal: 520ms\tremaining: 77.7ms\n",
      "870:\tlearn: 0.0154531\ttotal: 521ms\tremaining: 77.1ms\n",
      "871:\tlearn: 0.0154461\ttotal: 521ms\tremaining: 76.5ms\n",
      "872:\tlearn: 0.0154302\ttotal: 522ms\tremaining: 75.9ms\n",
      "873:\tlearn: 0.0154095\ttotal: 522ms\tremaining: 75.3ms\n",
      "874:\tlearn: 0.0153990\ttotal: 522ms\tremaining: 74.6ms\n",
      "875:\tlearn: 0.0153899\ttotal: 523ms\tremaining: 74ms\n",
      "876:\tlearn: 0.0153706\ttotal: 523ms\tremaining: 73.4ms\n",
      "877:\tlearn: 0.0153545\ttotal: 523ms\tremaining: 72.7ms\n",
      "878:\tlearn: 0.0153496\ttotal: 524ms\tremaining: 72.2ms\n",
      "879:\tlearn: 0.0153361\ttotal: 524ms\tremaining: 71.5ms\n",
      "880:\tlearn: 0.0153304\ttotal: 525ms\tremaining: 70.9ms\n",
      "881:\tlearn: 0.0153077\ttotal: 525ms\tremaining: 70.3ms\n",
      "882:\tlearn: 0.0152863\ttotal: 526ms\tremaining: 69.7ms\n",
      "883:\tlearn: 0.0152765\ttotal: 526ms\tremaining: 69ms\n",
      "884:\tlearn: 0.0152599\ttotal: 526ms\tremaining: 68.4ms\n",
      "885:\tlearn: 0.0152426\ttotal: 527ms\tremaining: 67.8ms\n",
      "886:\tlearn: 0.0152292\ttotal: 527ms\tremaining: 67.2ms\n",
      "887:\tlearn: 0.0152170\ttotal: 528ms\tremaining: 66.6ms\n",
      "888:\tlearn: 0.0151990\ttotal: 529ms\tremaining: 66ms\n",
      "889:\tlearn: 0.0151853\ttotal: 529ms\tremaining: 65.4ms\n",
      "890:\tlearn: 0.0151794\ttotal: 529ms\tremaining: 64.8ms\n",
      "891:\tlearn: 0.0151747\ttotal: 530ms\tremaining: 64.2ms\n",
      "892:\tlearn: 0.0151672\ttotal: 530ms\tremaining: 63.6ms\n",
      "893:\tlearn: 0.0151514\ttotal: 531ms\tremaining: 63ms\n",
      "894:\tlearn: 0.0151392\ttotal: 532ms\tremaining: 62.4ms\n",
      "895:\tlearn: 0.0151084\ttotal: 532ms\tremaining: 61.8ms\n",
      "896:\tlearn: 0.0151047\ttotal: 533ms\tremaining: 61.2ms\n",
      "897:\tlearn: 0.0150942\ttotal: 536ms\tremaining: 60.9ms\n",
      "898:\tlearn: 0.0150820\ttotal: 538ms\tremaining: 60.4ms\n",
      "899:\tlearn: 0.0150733\ttotal: 538ms\tremaining: 59.8ms\n",
      "900:\tlearn: 0.0150637\ttotal: 539ms\tremaining: 59.2ms\n",
      "901:\tlearn: 0.0150533\ttotal: 540ms\tremaining: 58.6ms\n",
      "902:\tlearn: 0.0150407\ttotal: 540ms\tremaining: 58ms\n",
      "903:\tlearn: 0.0150275\ttotal: 541ms\tremaining: 57.4ms\n",
      "904:\tlearn: 0.0150156\ttotal: 541ms\tremaining: 56.8ms\n",
      "905:\tlearn: 0.0150048\ttotal: 542ms\tremaining: 56.2ms\n",
      "906:\tlearn: 0.0149883\ttotal: 542ms\tremaining: 55.6ms\n",
      "907:\tlearn: 0.0149784\ttotal: 543ms\tremaining: 55ms\n",
      "908:\tlearn: 0.0149629\ttotal: 543ms\tremaining: 54.4ms\n",
      "909:\tlearn: 0.0149539\ttotal: 544ms\tremaining: 53.8ms\n",
      "910:\tlearn: 0.0149375\ttotal: 544ms\tremaining: 53.2ms\n",
      "911:\tlearn: 0.0149350\ttotal: 545ms\tremaining: 52.6ms\n",
      "912:\tlearn: 0.0149198\ttotal: 545ms\tremaining: 52ms\n",
      "913:\tlearn: 0.0149078\ttotal: 546ms\tremaining: 51.4ms\n",
      "914:\tlearn: 0.0148958\ttotal: 547ms\tremaining: 50.8ms\n",
      "915:\tlearn: 0.0148833\ttotal: 547ms\tremaining: 50.2ms\n",
      "916:\tlearn: 0.0148694\ttotal: 547ms\tremaining: 49.6ms\n",
      "917:\tlearn: 0.0148493\ttotal: 548ms\tremaining: 48.9ms\n",
      "918:\tlearn: 0.0148429\ttotal: 548ms\tremaining: 48.3ms\n",
      "919:\tlearn: 0.0148319\ttotal: 549ms\tremaining: 47.7ms\n",
      "920:\tlearn: 0.0148155\ttotal: 549ms\tremaining: 47.1ms\n",
      "921:\tlearn: 0.0148062\ttotal: 550ms\tremaining: 46.5ms\n",
      "922:\tlearn: 0.0147941\ttotal: 550ms\tremaining: 45.9ms\n",
      "923:\tlearn: 0.0147862\ttotal: 554ms\tremaining: 45.6ms\n",
      "924:\tlearn: 0.0147570\ttotal: 556ms\tremaining: 45.1ms\n",
      "925:\tlearn: 0.0147545\ttotal: 556ms\tremaining: 44.5ms\n",
      "926:\tlearn: 0.0147506\ttotal: 557ms\tremaining: 43.9ms\n",
      "927:\tlearn: 0.0147422\ttotal: 557ms\tremaining: 43.2ms\n",
      "928:\tlearn: 0.0147261\ttotal: 558ms\tremaining: 42.6ms\n",
      "929:\tlearn: 0.0147215\ttotal: 561ms\tremaining: 42.3ms\n",
      "930:\tlearn: 0.0147068\ttotal: 563ms\tremaining: 41.7ms\n",
      "931:\tlearn: 0.0146941\ttotal: 564ms\tremaining: 41.1ms\n",
      "932:\tlearn: 0.0146855\ttotal: 565ms\tremaining: 40.5ms\n",
      "933:\tlearn: 0.0146688\ttotal: 565ms\tremaining: 39.9ms\n",
      "934:\tlearn: 0.0146642\ttotal: 566ms\tremaining: 39.3ms\n",
      "935:\tlearn: 0.0146515\ttotal: 566ms\tremaining: 38.7ms\n",
      "936:\tlearn: 0.0146460\ttotal: 566ms\tremaining: 38.1ms\n",
      "937:\tlearn: 0.0146421\ttotal: 567ms\tremaining: 37.5ms\n",
      "938:\tlearn: 0.0146276\ttotal: 567ms\tremaining: 36.8ms\n",
      "939:\tlearn: 0.0146231\ttotal: 567ms\tremaining: 36.2ms\n",
      "940:\tlearn: 0.0146115\ttotal: 568ms\tremaining: 35.6ms\n",
      "941:\tlearn: 0.0145991\ttotal: 569ms\tremaining: 35ms\n",
      "942:\tlearn: 0.0145711\ttotal: 569ms\tremaining: 34.4ms\n",
      "943:\tlearn: 0.0145631\ttotal: 570ms\tremaining: 33.8ms\n",
      "944:\tlearn: 0.0145597\ttotal: 570ms\tremaining: 33.2ms\n",
      "945:\tlearn: 0.0145545\ttotal: 571ms\tremaining: 32.6ms\n",
      "946:\tlearn: 0.0145417\ttotal: 571ms\tremaining: 32ms\n",
      "947:\tlearn: 0.0145202\ttotal: 572ms\tremaining: 31.4ms\n",
      "948:\tlearn: 0.0145056\ttotal: 572ms\tremaining: 30.8ms\n",
      "949:\tlearn: 0.0144987\ttotal: 573ms\tremaining: 30.2ms\n",
      "950:\tlearn: 0.0144795\ttotal: 573ms\tremaining: 29.5ms\n",
      "951:\tlearn: 0.0144587\ttotal: 574ms\tremaining: 28.9ms\n",
      "952:\tlearn: 0.0144407\ttotal: 574ms\tremaining: 28.3ms\n",
      "953:\tlearn: 0.0144337\ttotal: 575ms\tremaining: 27.7ms\n",
      "954:\tlearn: 0.0144288\ttotal: 575ms\tremaining: 27.1ms\n",
      "955:\tlearn: 0.0144167\ttotal: 575ms\tremaining: 26.5ms\n",
      "956:\tlearn: 0.0143962\ttotal: 576ms\tremaining: 25.9ms\n",
      "957:\tlearn: 0.0143782\ttotal: 576ms\tremaining: 25.2ms\n",
      "958:\tlearn: 0.0143552\ttotal: 576ms\tremaining: 24.6ms\n",
      "959:\tlearn: 0.0143361\ttotal: 578ms\tremaining: 24.1ms\n",
      "960:\tlearn: 0.0143293\ttotal: 578ms\tremaining: 23.5ms\n",
      "961:\tlearn: 0.0143248\ttotal: 578ms\tremaining: 22.8ms\n",
      "962:\tlearn: 0.0143074\ttotal: 578ms\tremaining: 22.2ms\n",
      "963:\tlearn: 0.0142951\ttotal: 579ms\tremaining: 21.6ms\n",
      "964:\tlearn: 0.0142836\ttotal: 579ms\tremaining: 21ms\n",
      "965:\tlearn: 0.0142648\ttotal: 579ms\tremaining: 20.4ms\n",
      "966:\tlearn: 0.0142547\ttotal: 580ms\tremaining: 19.8ms\n",
      "967:\tlearn: 0.0142415\ttotal: 580ms\tremaining: 19.2ms\n",
      "968:\tlearn: 0.0142344\ttotal: 581ms\tremaining: 18.6ms\n",
      "969:\tlearn: 0.0142287\ttotal: 582ms\tremaining: 18ms\n",
      "970:\tlearn: 0.0142105\ttotal: 582ms\tremaining: 17.4ms\n",
      "971:\tlearn: 0.0141980\ttotal: 583ms\tremaining: 16.8ms\n",
      "972:\tlearn: 0.0141904\ttotal: 583ms\tremaining: 16.2ms\n",
      "973:\tlearn: 0.0141767\ttotal: 584ms\tremaining: 15.6ms\n",
      "974:\tlearn: 0.0141586\ttotal: 584ms\tremaining: 15ms\n",
      "975:\tlearn: 0.0141463\ttotal: 584ms\tremaining: 14.4ms\n",
      "976:\tlearn: 0.0141344\ttotal: 585ms\tremaining: 13.8ms\n",
      "977:\tlearn: 0.0141267\ttotal: 585ms\tremaining: 13.2ms\n",
      "978:\tlearn: 0.0141094\ttotal: 586ms\tremaining: 12.6ms\n",
      "979:\tlearn: 0.0140917\ttotal: 587ms\tremaining: 12ms\n",
      "980:\tlearn: 0.0140804\ttotal: 587ms\tremaining: 11.4ms\n",
      "981:\tlearn: 0.0140576\ttotal: 587ms\tremaining: 10.8ms\n",
      "982:\tlearn: 0.0140497\ttotal: 588ms\tremaining: 10.2ms\n",
      "983:\tlearn: 0.0140324\ttotal: 589ms\tremaining: 9.57ms\n",
      "984:\tlearn: 0.0140155\ttotal: 589ms\tremaining: 8.97ms\n",
      "985:\tlearn: 0.0139990\ttotal: 590ms\tremaining: 8.37ms\n",
      "986:\tlearn: 0.0139882\ttotal: 590ms\tremaining: 7.77ms\n",
      "987:\tlearn: 0.0139751\ttotal: 590ms\tremaining: 7.17ms\n"
     ]
    },
    {
     "name": "stdout",
     "output_type": "stream",
     "text": [
      "988:\tlearn: 0.0139674\ttotal: 591ms\tremaining: 6.57ms\n",
      "989:\tlearn: 0.0139573\ttotal: 593ms\tremaining: 5.99ms\n",
      "990:\tlearn: 0.0139445\ttotal: 594ms\tremaining: 5.39ms\n",
      "991:\tlearn: 0.0139404\ttotal: 594ms\tremaining: 4.79ms\n",
      "992:\tlearn: 0.0139299\ttotal: 594ms\tremaining: 4.19ms\n",
      "993:\tlearn: 0.0139167\ttotal: 594ms\tremaining: 3.59ms\n",
      "994:\tlearn: 0.0139098\ttotal: 595ms\tremaining: 2.99ms\n",
      "995:\tlearn: 0.0138945\ttotal: 595ms\tremaining: 2.39ms\n",
      "996:\tlearn: 0.0138813\ttotal: 595ms\tremaining: 1.79ms\n",
      "997:\tlearn: 0.0138743\ttotal: 596ms\tremaining: 1.19ms\n",
      "998:\tlearn: 0.0138668\ttotal: 596ms\tremaining: 596us\n",
      "999:\tlearn: 0.0138533\ttotal: 596ms\tremaining: 0us\n"
     ]
    },
    {
     "data": {
      "text/plain": [
       "<catboost.core.CatBoostRegressor at 0x7f98e7ed2ca0>"
      ]
     },
     "execution_count": 9,
     "metadata": {},
     "output_type": "execute_result"
    }
   ],
   "source": [
    "#Train the Model \n",
    "prior_model = ctb.CatBoostRegressor()\n",
    "prior_model.fit(X_train,Y_train)"
   ]
  },
  {
   "cell_type": "code",
   "execution_count": 10,
   "id": "af65dcda",
   "metadata": {
    "execution": {
     "iopub.execute_input": "2022-07-24T22:34:17.811006Z",
     "iopub.status.busy": "2022-07-24T22:34:17.810731Z",
     "iopub.status.idle": "2022-07-24T22:34:17.854641Z",
     "shell.execute_reply": "2022-07-24T22:34:17.853608Z"
    },
    "id": "af65dcda",
    "papermill": {
     "duration": 0.065094,
     "end_time": "2022-07-24T22:34:17.858416",
     "exception": false,
     "start_time": "2022-07-24T22:34:17.793322",
     "status": "completed"
    },
    "tags": []
   },
   "outputs": [
    {
     "data": {
      "application/scrapbook.scrap.json+json": {
       "data": 0.0008711267984259733,
       "encoder": "json",
       "name": "Prior Model MSE",
       "version": 1
      }
     },
     "metadata": {
      "scrapbook": {
       "data": true,
       "display": false,
       "name": "Prior Model MSE"
      }
     },
     "output_type": "display_data"
    },
    {
     "data": {
      "application/scrapbook.scrap.json+json": {
       "data": 0.010401980070188537,
       "encoder": "json",
       "name": "ABC Pre-generator MSE",
       "version": 1
      }
     },
     "metadata": {
      "scrapbook": {
       "data": true,
       "display": false,
       "name": "ABC Pre-generator MSE"
      }
     },
     "output_type": "display_data"
    },
    {
     "data": {
      "application/scrapbook.scrap.json+json": {
       "data": 0.019849130649199628,
       "encoder": "json",
       "name": "Prior Model MAE",
       "version": 1
      }
     },
     "metadata": {
      "scrapbook": {
       "data": true,
       "display": false,
       "name": "Prior Model MAE"
      }
     },
     "output_type": "display_data"
    },
    {
     "name": "stdout",
     "output_type": "stream",
     "text": [
      "Prior Model MAE 0.019849130649199628\n",
      "ABC Pre-generator MAE 0.07863163643978953\n"
     ]
    }
   ],
   "source": [
    "y_pred = prior_model.predict(X_test)\n",
    "y_abc = y_pred + np.random.normal(0,variance, y_pred.shape) + bias \n",
    "mse = mean_squared_error(y_pred,Y_test)\n",
    "sb.glue(\"Prior Model MSE\",mse)\n",
    "mse = mean_squared_error(y_abc,Y_test)\n",
    "sb.glue(\"ABC Pre-generator MSE\",mse)\n",
    "mae = mean_absolute_error(y_pred,Y_test)\n",
    "sb.glue(\"Prior Model MAE\",mae)\n",
    "print(\"Prior Model MAE\",mae)\n",
    "mae = mean_absolute_error(y_abc,Y_test)\n",
    "print(\"ABC Pre-generator MAE\",mae)"
   ]
  },
  {
   "cell_type": "markdown",
   "id": "25609da2",
   "metadata": {
    "papermill": {
     "duration": 0.013056,
     "end_time": "2022-07-24T22:34:17.883629",
     "exception": false,
     "start_time": "2022-07-24T22:34:17.870573",
     "status": "completed"
    },
    "tags": []
   },
   "source": [
    "# mGAN Model"
   ]
  },
  {
   "cell_type": "code",
   "execution_count": 11,
   "id": "dfc3464d",
   "metadata": {
    "execution": {
     "iopub.execute_input": "2022-07-24T22:34:17.918504Z",
     "iopub.status.busy": "2022-07-24T22:34:17.918056Z",
     "iopub.status.idle": "2022-07-24T22:34:17.922944Z",
     "shell.execute_reply": "2022-07-24T22:34:17.921759Z"
    },
    "papermill": {
     "duration": 0.02211,
     "end_time": "2022-07-24T22:34:17.926409",
     "exception": false,
     "start_time": "2022-07-24T22:34:17.904299",
     "status": "completed"
    },
    "tags": []
   },
   "outputs": [],
   "source": [
    "# gen = network.Generator(n_features+1).to(device)\n",
    "# disc = network.Discriminator(n_features+1).to(device)\n",
    "\n",
    "# criterion = torch.nn.BCELoss()\n",
    "# gen_opt = torch.optim.Adam(gen.parameters(), lr=0.01, betas=(0.5, 0.999))\n",
    "# disc_opt = torch.optim.Adam(disc.parameters(), lr=0.01, betas=(0.5, 0.999))"
   ]
  },
  {
   "cell_type": "code",
   "execution_count": 12,
   "id": "b75fdd85",
   "metadata": {
    "execution": {
     "iopub.execute_input": "2022-07-24T22:34:17.956624Z",
     "iopub.status.busy": "2022-07-24T22:34:17.956280Z",
     "iopub.status.idle": "2022-07-24T22:34:17.960951Z",
     "shell.execute_reply": "2022-07-24T22:34:17.959535Z"
    },
    "papermill": {
     "duration": 0.026458,
     "end_time": "2022-07-24T22:34:17.966235",
     "exception": false,
     "start_time": "2022-07-24T22:34:17.939777",
     "status": "completed"
    },
    "tags": []
   },
   "outputs": [],
   "source": [
    "#Training the ABC_GAN \n",
    "# ABC_train_test2.training_GAN(disc,gen,disc_opt,gen_opt,train_data,batch_size,n_epochs,criterion,prior_model,variance,bias,device)"
   ]
  },
  {
   "cell_type": "code",
   "execution_count": 13,
   "id": "1fa7c368",
   "metadata": {
    "execution": {
     "iopub.execute_input": "2022-07-24T22:34:17.990906Z",
     "iopub.status.busy": "2022-07-24T22:34:17.990437Z",
     "iopub.status.idle": "2022-07-24T22:34:17.995783Z",
     "shell.execute_reply": "2022-07-24T22:34:17.994425Z"
    },
    "papermill": {
     "duration": 0.023081,
     "end_time": "2022-07-24T22:34:17.999815",
     "exception": false,
     "start_time": "2022-07-24T22:34:17.976734",
     "status": "completed"
    },
    "tags": []
   },
   "outputs": [],
   "source": [
    "# ABC_GAN1_metrics=ABC_train_test2.test_generator(gen,test_data,prior_model,variance,bias,\"1\",device)\n",
    "# sb.glue(\"ABC_GAN_1 Metrics\",ABC_GAN1_metrics)\n",
    "\n",
    "# print(\"MAE\")\n",
    "# print(mean(ABC_GAN1_metrics[1]))"
   ]
  },
  {
   "cell_type": "code",
   "execution_count": 14,
   "id": "eb22ce5c",
   "metadata": {
    "execution": {
     "iopub.execute_input": "2022-07-24T22:34:18.023572Z",
     "iopub.status.busy": "2022-07-24T22:34:18.023170Z",
     "iopub.status.idle": "2022-07-24T22:34:18.027745Z",
     "shell.execute_reply": "2022-07-24T22:34:18.026280Z"
    },
    "papermill": {
     "duration": 0.020746,
     "end_time": "2022-07-24T22:34:18.031282",
     "exception": false,
     "start_time": "2022-07-24T22:34:18.010536",
     "status": "completed"
    },
    "tags": []
   },
   "outputs": [],
   "source": [
    "# sanityChecks.discProbVsError(train_data,disc,device)\n",
    "# sanityChecks.discProbVsError(test_data,disc,device)"
   ]
  },
  {
   "cell_type": "markdown",
   "id": "fa3a7fac",
   "metadata": {
    "papermill": {
     "duration": 0.016942,
     "end_time": "2022-07-24T22:34:18.059198",
     "exception": false,
     "start_time": "2022-07-24T22:34:18.042256",
     "status": "completed"
    },
    "tags": []
   },
   "source": [
    "# mGAN Model with TabNet Generator"
   ]
  },
  {
   "cell_type": "code",
   "execution_count": 15,
   "id": "47970252",
   "metadata": {
    "execution": {
     "iopub.execute_input": "2022-07-24T22:34:18.089192Z",
     "iopub.status.busy": "2022-07-24T22:34:18.087120Z",
     "iopub.status.idle": "2022-07-24T22:34:18.113825Z",
     "shell.execute_reply": "2022-07-24T22:34:18.110226Z"
    },
    "papermill": {
     "duration": 0.048912,
     "end_time": "2022-07-24T22:34:18.120658",
     "exception": false,
     "start_time": "2022-07-24T22:34:18.071746",
     "status": "completed"
    },
    "tags": []
   },
   "outputs": [],
   "source": [
    "gen2 = network.GeneratorTabnet(n_features+1).to(device)\n",
    "disc2 = network.Discriminator(n_features+1).to(device)\n",
    "\n",
    "criterion = torch.nn.BCELoss()\n",
    "gen_opt = torch.optim.Adam(gen2.parameters(), lr=0.01, betas=(0.5, 0.999))\n",
    "disc_opt = torch.optim.Adam(disc2.parameters(), lr=0.01, betas=(0.5, 0.999))"
   ]
  },
  {
   "cell_type": "code",
   "execution_count": 16,
   "id": "ea681f97",
   "metadata": {
    "execution": {
     "iopub.execute_input": "2022-07-24T22:34:18.157953Z",
     "iopub.status.busy": "2022-07-24T22:34:18.157113Z",
     "iopub.status.idle": "2022-07-24T22:51:07.577771Z",
     "shell.execute_reply": "2022-07-24T22:51:07.576127Z"
    },
    "papermill": {
     "duration": 1009.448014,
     "end_time": "2022-07-24T22:51:07.581695",
     "exception": false,
     "start_time": "2022-07-24T22:34:18.133681",
     "status": "completed"
    },
    "tags": []
   },
   "outputs": [
    {
     "data": {
      "image/png": "[encoded data removed]",
      "text/plain": [
       "<Figure size 432x288 with 1 Axes>"
      ]
     },
     "metadata": {
      "needs_background": "light"
     },
     "output_type": "display_data"
    },
    {
     "data": {
      "image/png": "[encoded data removed]",
      "text/plain": [
       "<Figure size 432x288 with 1 Axes>"
      ]
     },
     "metadata": {
      "needs_background": "light"
     },
     "output_type": "display_data"
    }
   ],
   "source": [
    "#Training the ABC_GAN \n",
    "ABC_train_test2.training_GAN(disc2,gen2,disc_opt,gen_opt,train_data,batch_size,n_epochs,criterion,prior_model,variance,bias,device)"
   ]
  },
  {
   "cell_type": "code",
   "execution_count": 17,
   "id": "7768ae24",
   "metadata": {
    "execution": {
     "iopub.execute_input": "2022-07-24T22:51:07.611484Z",
     "iopub.status.busy": "2022-07-24T22:51:07.610938Z",
     "iopub.status.idle": "2022-07-24T22:51:09.667475Z",
     "shell.execute_reply": "2022-07-24T22:51:09.665886Z"
    },
    "papermill": {
     "duration": 2.0772,
     "end_time": "2022-07-24T22:51:09.671195",
     "exception": false,
     "start_time": "2022-07-24T22:51:07.593995",
     "status": "completed"
    },
    "tags": []
   },
   "outputs": [
    {
     "data": {
      "application/scrapbook.scrap.json+json": {
       "data": 0.00873721344560387,
       "encoder": "json",
       "name": "ABC-GAN Model 1 MSE",
       "version": 1
      }
     },
     "metadata": {
      "scrapbook": {
       "data": true,
       "display": false,
       "name": "ABC-GAN Model 1 MSE"
      }
     },
     "output_type": "display_data"
    },
    {
     "data": {
      "application/scrapbook.scrap.json+json": {
       "data": 0.06500058009119873,
       "encoder": "json",
       "name": "ABC-GAN Model 1 MAE",
       "version": 1
      }
     },
     "metadata": {
      "scrapbook": {
       "data": true,
       "display": false,
       "name": "ABC-GAN Model 1 MAE"
      }
     },
     "output_type": "display_data"
    },
    {
     "data": {
      "application/scrapbook.scrap.json+json": {
       "data": 10.010089334044606,
       "encoder": "json",
       "name": "ABC-GAN Model 1 Manhattan Distance",
       "version": 1
      }
     },
     "metadata": {
      "scrapbook": {
       "data": true,
       "display": false,
       "name": "ABC-GAN Model 1 Manhattan Distance"
      }
     },
     "output_type": "display_data"
    },
    {
     "data": {
      "application/scrapbook.scrap.json+json": {
       "data": 1.1567726894162669,
       "encoder": "json",
       "name": "ABC-GAN Model 1 Euclidean distance",
       "version": 1
      }
     },
     "metadata": {
      "scrapbook": {
       "data": true,
       "display": false,
       "name": "ABC-GAN Model 1 Euclidean distance"
      }
     },
     "output_type": "display_data"
    },
    {
     "data": {
      "application/scrapbook.scrap.json+json": {
       "data": [
        [
         0.0067225432724314724,
         0.009077240731181633,
         0.010264465014588072,
         0.008011703782216486,
         0.009616087485662166,
         0.0076079175551369005,
         0.009074258934320924,
         0.008629978057655752,
         0.010392854837538377,
         0.006376663302422944,
         0.008239372843999249,
         0.008819878344781136,
         0.01010759500510518,
         0.009275067453123719,
         0.007477759433085753,
         0.009799793331806713,
         0.009122680288017071,
         0.009145647077870635,
         0.008669329043179758,
         0.007737280086268448,
         0.009539279857583932,
         0.008482733387396349,
         0.009317135311160867,
         0.008183336139323562,
         0.008774150636964906,
         0.00908811527029179,
         0.00917129040956142,
         0.008134266652556297,
         0.009834391965347009,
         0.009272930329162026,
         0.007128219099929195,
         0.01217970958715204,
         0.00820342016200278,
         0.00836430287147853,
         0.012222953702539322,
         0.009320862919071152,
         0.007172007587947148,
         0.01057955685145249,
         0.007992171389656185,
         0.00794048563482553,
         0.01099785301458171,
         0.008725721741412784,
         0.007967739658163001,
         0.008276648644760095,
         0.00736692652868832,
         0.008372867320012403,
         0.008617675471272734,
         0.008395225105490867,
         0.008175483912116921,
         0.010654563600512822,
         0.008212942298879164,
         0.007056136180395515,
         0.006956166520796535,
         0.009702440363214864,
         0.007342734809786853,
         0.009465237674213093,
         0.009309749042445728,
         0.009806019821996362,
         0.0064815244428731884,
         0.00854948186133793,
         0.01164921458359464,
         0.008197617287796858,
         0.00966189911230856,
         0.007954393401987555,
         0.011620457548157732,
         0.0066940732587407285,
         0.008197979526430046,
         0.009028402363353382,
         0.008301322856590623,
         0.009565207968395594,
         0.007337672983356565,
         0.008963309103346672,
         0.008076266146238423,
         0.01067109073331437,
         0.009345956108416457,
         0.007676265068644634,
         0.009266592777932939,
         0.006671954465273458,
         0.008061258924786987,
         0.008043589549279972,
         0.006717782577879599,
         0.00833048020521344,
         0.010229949396209078,
         0.006982832564897057,
         0.010000984395935258,
         0.006525213032098457,
         0.009575025339509368,
         0.010759233991340392,
         0.010688405969297826,
         0.01039525062382161,
         0.007763364286282365,
         0.007971054522041283,
         0.009232199466318682,
         0.008094333964254,
         0.010804418422380826,
         0.008710875094340834,
         0.006950967199165498,
         0.007276187460985805,
         0.006865892616342618,
         0.009359796005381078
        ],
        [
         0.058926643876286294,
         0.06679923188957301,
         0.06829662608926172,
         0.06360198685584904,
         0.06719040323968058,
         0.05961035071061803,
         0.0688367263692153,
         0.0621520137632048,
         0.07465874916547305,
         0.05839913401317287,
         0.06686736261109252,
         0.06451463762235332,
         0.06646212016220217,
         0.06652256173940448,
         0.0628703163041697,
         0.06613637773053986,
         0.06937777763837344,
         0.06640439891776481,
         0.06529796689555242,
         0.06291127224247177,
         0.06792145911846068,
         0.06199921459540144,
         0.06508097831498492,
         0.06367906884520085,
         0.06569372669055865,
         0.06600083086591263,
         0.0685411643285256,
         0.06183823212594181,
         0.068511463701725,
         0.06598325015662553,
         0.06092417820707544,
         0.07470714131539519,
         0.06169544436134301,
         0.06406931796824777,
         0.06979106577089081,
         0.066836002246513,
         0.0613232638638515,
         0.06899455247761367,
         0.06422053695982927,
         0.060262300074100494,
         0.06674514923776899,
         0.06344221304956969,
         0.06481846368738584,
         0.06348609890450131,
         0.06223207039685993,
         0.06486109032162599,
         0.06564999884599215,
         0.06355914246145782,
         0.06392064518839508,
         0.0698140702125701,
         0.06315977024761113,
         0.06248105443143225,
         0.05962978545334432,
         0.06829465577354679,
         0.060497386647122245,
         0.0654149159498803,
         0.06814860615443874,
         0.07057731963887617,
         0.05868608927862211,
         0.06510253734402842,
         0.06666100576713488,
         0.06454433791049115,
         0.0647513112899932,
         0.06168804153219446,
         0.07172704398535289,
         0.060009838843887504,
         0.06257287088733215,
         0.06529377183163321,
         0.06401802947768917,
         0.06849168487764024,
         0.06067845701881043,
         0.0661006991013691,
         0.06595935953127874,
         0.07096407144003875,
         0.06977484157526648,
         0.062161691003031545,
         0.06840164040203218,
         0.06026870438030788,
         0.06580399794431475,
         0.06322721641075302,
         0.058948061973243565,
         0.06280254675438265,
         0.06872745346906897,
         0.059517509509603696,
         0.06574347615242004,
         0.05939346392239843,
         0.0708486625997277,
         0.06873224859500861,
         0.0710292776393426,
         0.06971861702668203,
         0.06300976915986507,
         0.06325973981580177,
         0.06821607343562237,
         0.06603181047679542,
         0.06853794930623723,
         0.06481647786575478,
         0.05724854235138212,
         0.05967217630573681,
         0.05973669523736099,
         0.06653792926340134
        ],
        [
         9.07470315694809,
         10.287081710994244,
         10.517680417746305,
         9.794705975800753,
         10.347322098910809,
         9.179994009435177,
         10.600855860859156,
         9.571410119533539,
         11.49744737148285,
         8.993466638028622,
         10.29757384210825,
         9.935254193842411,
         10.235166504979134,
         10.24447450786829,
         9.682028710842133,
         10.18500217050314,
         10.68417775630951,
         10.226277433335781,
         10.055886901915073,
         9.688335925340652,
         10.459904704242945,
         9.547879047691822,
         10.022470660507679,
         9.80657660216093,
         10.116833910346031,
         10.164127953350544,
         10.555339306592941,
         9.523087747395039,
         10.550765410065651,
         10.16142052412033,
         9.382323443889618,
         11.504899762570858,
         9.501098431646824,
         9.866674967110157,
         10.747824128717184,
         10.292744345963001,
         9.44378263503313,
         10.625161081552505,
         9.889962691813707,
         9.280394211411476,
         10.278752982616425,
         9.770100809633732,
         9.982043407857418,
         9.776859231293201,
         9.583738841116428,
         9.988607909530401,
         10.110099822282791,
         9.788107939064503,
         9.843779359012842,
         10.751366812735796,
         9.726604618132114,
         9.622082382440567,
         9.182986959815025,
         10.517376989126205,
         9.316597543656826,
         10.073897056281567,
         10.494885347783566,
         10.86890722438693,
         9.037657748907804,
         10.025790750980377,
         10.265794888138771,
         9.939828038215637,
         9.971701938658953,
         9.499958395957947,
         11.045964773744345,
         9.241515181958675,
         9.63622211664915,
         10.055240862071514,
         9.858776539564133,
         10.547719471156597,
         9.344482380896807,
         10.179507661610842,
         10.157741367816925,
         10.928467001765966,
         10.745325602591038,
         9.572900414466858,
         10.533852621912956,
         9.281380474567413,
         10.133815683424473,
         9.736991327255964,
         9.078001543879509,
         9.671592200174928,
         10.584027834236622,
         9.16569646447897,
         10.124495327472687,
         9.146593444049358,
         10.910694040358067,
         10.584766283631325,
         10.93850875645876,
         10.736667022109032,
         9.70350445061922,
         9.741999931633472,
         10.505275309085846,
         10.168898813426495,
         10.554844193160534,
         9.981737591326237,
         8.816275522112846,
         9.18951515108347,
         9.199451066553593,
         10.246841106563807
        ],
        [
         1.0174830042582759,
         1.1823261278521977,
         1.2572699042952404,
         1.110766574245615,
         1.2169130917168955,
         1.0824136471289905,
         1.1821319198318867,
         1.1528298317093402,
         1.2651085506710127,
         0.9909622336765076,
         1.1264383773539874,
         1.1654446641073504,
         1.2476255971990147,
         1.1951403213769722,
         1.0731146037097836,
         1.2284820605520594,
         1.1852817236229658,
         1.1867727878545573,
         1.1554551798532398,
         1.0915773601927354,
         1.2120433565132585,
         1.1429527294070554,
         1.1978475854292872,
         1.1226013386130576,
         1.1624195447826036,
         1.1830341295266742,
         1.1884354097183651,
         1.119230568066147,
         1.2306487568203364,
         1.1950026237171834,
         1.0477336213890895,
         1.3695529476516832,
         1.1239780713823684,
         1.1349460966088627,
         1.371982095433849,
         1.1980871794393584,
         1.0509467962479646,
         1.2764214645342202,
         1.10941173331052,
         1.1058186052708336,
         1.3014105287132047,
         1.1592071204826033,
         1.1077147229124935,
         1.1289835655548996,
         1.0651322384652533,
         1.1355269998031354,
         1.1520078222720542,
         1.1370420688108218,
         1.122062619672363,
         1.2809382477227287,
         1.1246302121263643,
         1.042422645466276,
         1.0350119053434441,
         1.2223648456721459,
         1.063381944884892,
         1.2073303615120496,
         1.197372687402148,
         1.2288722686216986,
         0.9990769560962113,
         1.147440720318937,
         1.339395029807702,
         1.1235804654410455,
         1.2198083715467436,
         1.1067866026954263,
         1.3377408053940385,
         1.0153261947995196,
         1.1236052897126407,
         1.179141197633439,
         1.130665167021146,
         1.2136894277915258,
         1.0630153523994426,
         1.1748828034810057,
         1.1152331534350641,
         1.2819313448583793,
         1.1996988124925916,
         1.0872648346062121,
         1.1945941937753057,
         1.0136473684926688,
         1.1141965151701005,
         1.1129747484058727,
         1.0171226656571262,
         1.132649085817346,
         1.2551542562634275,
         1.0369938355622692,
         1.241028443257458,
         1.0024384304999296,
         1.2143121107377801,
         1.2872148362516727,
         1.282970973666928,
         1.2652543602250608,
         1.0934157946945362,
         1.1079451233677404,
         1.1923752420329252,
         1.1164799283888251,
         1.2899148952728035,
         1.1582205163648622,
         1.0346250280519445,
         1.0585522514225805,
         1.0282740213176462,
         1.2005867668888768
        ]
       ],
       "encoder": "json",
       "name": "ABC_GAN_2 Metrics",
       "version": 1
      }
     },
     "metadata": {
      "scrapbook": {
       "data": true,
       "display": false,
       "name": "ABC_GAN_2 Metrics"
      }
     },
     "output_type": "display_data"
    },
    {
     "name": "stdout",
     "output_type": "stream",
     "text": [
      "MAE\n",
      "0.06500058009119873\n"
     ]
    }
   ],
   "source": [
    "ABC_GAN2_metrics=ABC_train_test2.test_generator(gen2,test_data,prior_model,variance,bias,\"1\",device)\n",
    "sb.glue(\"ABC_GAN_2 Metrics\",ABC_GAN2_metrics)\n",
    "\n",
    "print(\"MAE\")\n",
    "print(mean(ABC_GAN2_metrics[1]))"
   ]
  },
  {
   "cell_type": "code",
   "execution_count": 18,
   "id": "bda8df37",
   "metadata": {
    "execution": {
     "iopub.execute_input": "2022-07-24T22:51:09.704021Z",
     "iopub.status.busy": "2022-07-24T22:51:09.703650Z",
     "iopub.status.idle": "2022-07-24T22:51:11.035735Z",
     "shell.execute_reply": "2022-07-24T22:51:11.034002Z"
    },
    "papermill": {
     "duration": 1.352736,
     "end_time": "2022-07-24T22:51:11.039666",
     "exception": false,
     "start_time": "2022-07-24T22:51:09.686930",
     "status": "completed"
    },
    "tags": []
   },
   "outputs": [
    {
     "data": {
      "image/png": "[encoded data removed]",
      "text/plain": [
       "<Figure size 432x288 with 1 Axes>"
      ]
     },
     "metadata": {
      "needs_background": "light"
     },
     "output_type": "display_data"
    },
    {
     "data": {
      "image/png": "[encoded data removed]",
      "text/plain": [
       "<Figure size 432x288 with 1 Axes>"
      ]
     },
     "metadata": {
      "needs_background": "light"
     },
     "output_type": "display_data"
    },
    {
     "data": {
      "image/png": "[encoded data removed]",
      "text/plain": [
       "<Figure size 432x288 with 1 Axes>"
      ]
     },
     "metadata": {
      "needs_background": "light"
     },
     "output_type": "display_data"
    },
    {
     "data": {
      "image/png": "[encoded data removed]",
      "text/plain": [
       "<Figure size 432x288 with 1 Axes>"
      ]
     },
     "metadata": {
      "needs_background": "light"
     },
     "output_type": "display_data"
    }
   ],
   "source": [
    "sanityChecks.discProbVsError(train_data,disc2,device)\n",
    "sanityChecks.discProbVsError(test_data,disc2,device)"
   ]
  },
  {
   "cell_type": "markdown",
   "id": "130f3a4d",
   "metadata": {
    "id": "130f3a4d",
    "papermill": {
     "duration": 0.023486,
     "end_time": "2022-07-24T22:51:11.084414",
     "exception": false,
     "start_time": "2022-07-24T22:51:11.060928",
     "status": "completed"
    },
    "tags": []
   },
   "source": [
    "# skipGAN Model"
   ]
  },
  {
   "cell_type": "code",
   "execution_count": 19,
   "id": "4e43dad1",
   "metadata": {
    "execution": {
     "iopub.execute_input": "2022-07-24T22:51:11.132915Z",
     "iopub.status.busy": "2022-07-24T22:51:11.131744Z",
     "iopub.status.idle": "2022-07-24T22:51:11.152507Z",
     "shell.execute_reply": "2022-07-24T22:51:11.148147Z"
    },
    "id": "4e43dad1",
    "papermill": {
     "duration": 0.059208,
     "end_time": "2022-07-24T22:51:11.163357",
     "exception": false,
     "start_time": "2022-07-24T22:51:11.104149",
     "status": "completed"
    },
    "tags": []
   },
   "outputs": [],
   "source": [
    "#Generator\n",
    "gen3 = network.GeneratorWithSkipConnection(n_features+1).to(device)\n",
    "constraints=network.weightConstraint()\n",
    "#Discriminator \n",
    "disc3 = network.Discriminator(n_features+1).to(device)\n",
    "\n",
    "criterion = torch.nn.BCELoss()\n",
    "gen_opt = torch.optim.Adam(gen3.parameters(), lr=0.01, betas=(0.5, 0.999))\n",
    "disc_opt = torch.optim.Adam(disc3.parameters(), lr=0.01, betas=(0.5, 0.999))\n"
   ]
  },
  {
   "cell_type": "code",
   "execution_count": 20,
   "id": "26acbc37",
   "metadata": {
    "execution": {
     "iopub.execute_input": "2022-07-24T22:51:11.201651Z",
     "iopub.status.busy": "2022-07-24T22:51:11.201206Z",
     "iopub.status.idle": "2022-07-24T22:59:00.438895Z",
     "shell.execute_reply": "2022-07-24T22:59:00.437716Z"
    },
    "id": "26acbc37",
    "papermill": {
     "duration": 469.259107,
     "end_time": "2022-07-24T22:59:00.442938",
     "exception": false,
     "start_time": "2022-07-24T22:51:11.183831",
     "status": "completed"
    },
    "tags": []
   },
   "outputs": [
    {
     "data": {
      "image/png": "[encoded data removed]",
      "text/plain": [
       "<Figure size 432x288 with 1 Axes>"
      ]
     },
     "metadata": {
      "needs_background": "light"
     },
     "output_type": "display_data"
    },
    {
     "data": {
      "image/png": "[encoded data removed]",
      "text/plain": [
       "<Figure size 432x288 with 1 Axes>"
      ]
     },
     "metadata": {
      "needs_background": "light"
     },
     "output_type": "display_data"
    }
   ],
   "source": [
    "ABC_train_test2.training_GAN_skip_connection(disc3,gen3,disc_opt,gen_opt,train_data,batch_size,n_epochs,criterion,prior_model,variance,bias,device)"
   ]
  },
  {
   "cell_type": "code",
   "execution_count": 21,
   "id": "c5e0717b",
   "metadata": {
    "execution": {
     "iopub.execute_input": "2022-07-24T22:59:00.489601Z",
     "iopub.status.busy": "2022-07-24T22:59:00.489085Z",
     "iopub.status.idle": "2022-07-24T22:59:03.014482Z",
     "shell.execute_reply": "2022-07-24T22:59:03.012757Z"
    },
    "id": "c5e0717b",
    "papermill": {
     "duration": 2.556149,
     "end_time": "2022-07-24T22:59:03.017534",
     "exception": false,
     "start_time": "2022-07-24T22:59:00.461385",
     "status": "completed"
    },
    "tags": []
   },
   "outputs": [
    {
     "data": {
      "application/scrapbook.scrap.json+json": {
       "data": 0.010856033314664811,
       "encoder": "json",
       "name": "ABC-GAN Model 3 MSE",
       "version": 1
      }
     },
     "metadata": {
      "scrapbook": {
       "data": true,
       "display": false,
       "name": "ABC-GAN Model 3 MSE"
      }
     },
     "output_type": "display_data"
    },
    {
     "data": {
      "application/scrapbook.scrap.json+json": {
       "data": 0.08302572355048532,
       "encoder": "json",
       "name": "ABC-GAN Model 3 MAE",
       "version": 1
      }
     },
     "metadata": {
      "scrapbook": {
       "data": true,
       "display": false,
       "name": "ABC-GAN Model 3 MAE"
      }
     },
     "output_type": "display_data"
    },
    {
     "data": {
      "application/scrapbook.scrap.json+json": {
       "data": 12.785961426774739,
       "encoder": "json",
       "name": "ABC-GAN Model 3 Manhattan Distance",
       "version": 1
      }
     },
     "metadata": {
      "scrapbook": {
       "data": true,
       "display": false,
       "name": "ABC-GAN Model 3 Manhattan Distance"
      }
     },
     "output_type": "display_data"
    },
    {
     "data": {
      "application/scrapbook.scrap.json+json": {
       "data": 1.291487475867091,
       "encoder": "json",
       "name": "ABC-GAN Model 3 Euclidean distance",
       "version": 1
      }
     },
     "metadata": {
      "scrapbook": {
       "data": true,
       "display": false,
       "name": "ABC-GAN Model 3 Euclidean distance"
      }
     },
     "output_type": "display_data"
    },
    {
     "data": {
      "application/scrapbook.scrap.json+json": {
       "data": [
        [
         0.01163794818197242,
         0.010398014119183896,
         0.009547087434277464,
         0.009797645106897125,
         0.008707962214662239,
         0.011247538590823464,
         0.009862351391890782,
         0.011027230715917638,
         0.01044454326377671,
         0.010691625600635472,
         0.013112451767449202,
         0.01082993777327076,
         0.011460725768553198,
         0.011091690576280618,
         0.011941461817018939,
         0.012604553812359899,
         0.010946560928467982,
         0.01092712278862004,
         0.00996349668279598,
         0.01095436597432334,
         0.011103933911664587,
         0.011583136195468566,
         0.011898198987597135,
         0.010062285604445472,
         0.010882183728627941,
         0.01114124950123125,
         0.009684689830774836,
         0.012340378062952276,
         0.011313795958250418,
         0.012541652064475245,
         0.009295319996142993,
         0.010861140078962774,
         0.011731282909288489,
         0.009376852104071475,
         0.009408863791596608,
         0.013115984761568453,
         0.011157656250349535,
         0.011522631899650932,
         0.010180181662865783,
         0.00832280030954838,
         0.010257551987155052,
         0.010378637031363403,
         0.010328197891059045,
         0.011210776947690236,
         0.011058024018597592,
         0.011179238090560685,
         0.010803019890427694,
         0.009254694427914661,
         0.012277123301195542,
         0.009235685908177305,
         0.009670899349406103,
         0.012640682602505005,
         0.009577091929435828,
         0.010829211212866459,
         0.011633220192292487,
         0.011190614346696279,
         0.010463323507304893,
         0.01122898224237822,
         0.00929023133999085,
         0.011246536172735794,
         0.011536619674080293,
         0.00909465927515356,
         0.010949179734152818,
         0.013333259945823414,
         0.011362324064302518,
         0.013178456371688635,
         0.010381093502586964,
         0.01087105117941839,
         0.009785539598897398,
         0.011434810511132822,
         0.010971955631511841,
         0.009228865696493825,
         0.010882537303241934,
         0.010851832693903224,
         0.011259874349551155,
         0.010620067599629853,
         0.009479408186748969,
         0.011585937417291225,
         0.01066343246094474,
         0.01133891712229278,
         0.010572731096854554,
         0.010046900836606002,
         0.011154582474431012,
         0.011169603977952252,
         0.010534560673308204,
         0.011286659090927211,
         0.011836963867651538,
         0.009041432793286045,
         0.00974276607525258,
         0.011911604519934008,
         0.010766260031726586,
         0.013105408047223679,
         0.012217661517379162,
         0.010607556955168424,
         0.010618213576369466,
         0.010834922264395697,
         0.012283936053923398,
         0.009614486287165047,
         0.009903960415768586,
         0.011071024083847896
        ],
        [
         0.08632195933855005,
         0.08181110067994564,
         0.07955268693047685,
         0.07791742280899704,
         0.07386244803231645,
         0.08290622669556359,
         0.08119218566079998,
         0.08699768302696091,
         0.08416009636281373,
         0.08079547855954666,
         0.08968814987350594,
         0.0819566295808786,
         0.08289857170024476,
         0.08121178560442739,
         0.08745977359932738,
         0.08591923480490585,
         0.08653356205647836,
         0.08063828093664986,
         0.08042027027188957,
         0.08284529751202986,
         0.08353984176919058,
         0.08563584517445658,
         0.08911597162678644,
         0.07940530969289603,
         0.08414247549780003,
         0.08383426329048423,
         0.08083614247379364,
         0.0852512162323896,
         0.08422020012391852,
         0.09036660672153358,
         0.07805706561821235,
         0.08495229177854279,
         0.08374762160147166,
         0.07788103818893433,
         0.07578342771399524,
         0.08927430406019285,
         0.08430362368220246,
         0.08569820784032345,
         0.08124381250568799,
         0.07006707729457261,
         0.08072706475224975,
         0.08037361410724653,
         0.08310557459178683,
         0.08887157331571563,
         0.08552792792922104,
         0.08336851591026628,
         0.08142692813432062,
         0.0770082680339163,
         0.08977751312898351,
         0.07653897304039498,
         0.08103529949273382,
         0.0891375353487281,
         0.0751080240135069,
         0.08365374092351306,
         0.08700549370282656,
         0.08582234395934003,
         0.08137563086876815,
         0.08595446304889856,
         0.07739559851296536,
         0.08532138248639447,
         0.0847777488290683,
         0.07495523047294807,
         0.08373776699912239,
         0.09516601397522859,
         0.08732478602414394,
         0.09131431436867683,
         0.08123000655565168,
         0.0878199367457396,
         0.08046748687501078,
         0.08388423176131563,
         0.0830990674530531,
         0.07598371068378548,
         0.08101028615197578,
         0.08409257005755004,
         0.0808453398284974,
         0.08106714685435419,
         0.07628762223697327,
         0.08496237909058471,
         0.08451241308024951,
         0.08462868138615574,
         0.07994460624146771,
         0.0811765995118525,
         0.08513372996217244,
         0.08302113234198519,
         0.08109908512273392,
         0.0874160891822116,
         0.08616401425369277,
         0.07670951923718314,
         0.07647726487658628,
         0.08910526286254263,
         0.08083392435370328,
         0.09232724337028218,
         0.08656608663853137,
         0.08300363615929306,
         0.0822644027724088,
         0.08375022717594326,
         0.0888887969656037,
         0.07899423204846197,
         0.07813418241725727,
         0.0834149278990634
        ],
        [
         13.293581738136709,
         12.598909504711628,
         12.251113787293434,
         11.999283112585545,
         11.374816996976733,
         12.767558911116794,
         12.503596591763198,
         13.397643186151981,
         12.960654839873314,
         12.442503698170185,
         13.811975080519915,
         12.621320955455303,
         12.766380041837692,
         12.506614983081818,
         13.468805134296417,
         13.231562159955502,
         13.326168556697667,
         12.41829526424408,
         12.384721621870995,
         12.7581758168526,
         12.865135632455349,
         13.187920156866312,
         13.723859630525112,
         12.228417692705989,
         12.957941226661205,
         12.910476546734571,
         12.448765940964222,
         13.128687299787998,
         12.969910819083452,
         13.916457435116172,
         12.020788105204701,
         13.082652933895588,
         12.897133726626635,
         11.993679881095886,
         11.670647867955267,
         13.748242825269699,
         12.982758047059178,
         13.197524007409811,
         12.51154712587595,
         10.790329903364182,
         12.431967971846461,
         12.377536572515965,
         12.798258487135172,
         13.686222290620208,
         13.17130090110004,
         12.838751450181007,
         12.539746932685375,
         11.85927327722311,
         13.82573702186346,
         11.787001848220825,
         12.479436121881008,
         13.727180443704128,
         11.566635698080063,
         12.882676102221012,
         13.39884603023529,
         13.216640969738364,
         12.531847153790295,
         13.236987309530377,
         11.918922170996666,
         13.139492902904749,
         13.055773319676518,
         11.543105492834002,
         12.895616117864847,
         14.655566152185202,
         13.448017047718167,
         14.062404412776232,
         12.50942100957036,
         13.524270258843899,
         12.39199297875166,
         12.918171691242605,
         12.797256387770176,
         11.701491445302963,
         12.47558406740427,
         12.950255788862705,
         12.4501823335886,
         12.484340615570545,
         11.748293824493885,
         13.084206379950047,
         13.014911614358425,
         13.032816933467984,
         12.311469361186028,
         12.501196324825287,
         13.110594414174557,
         12.78525438066572,
         12.489259108901024,
         13.462077734060585,
         13.269258195068687,
         11.813265962526202,
         11.777498790994287,
         13.722210480831563,
         12.448424350470304,
         14.218395479023457,
         13.331177342333831,
         12.782559968531132,
         12.668718026950955,
         12.897534985095263,
         13.68887473270297,
         12.165111735463142,
         12.032664092257619,
         12.845898896455765
        ],
        [
         1.3387471830124433,
         1.2654225279938396,
         1.2125392632318053,
         1.2283474046303666,
         1.158026848159396,
         1.3161006583794468,
         1.232396898061327,
         1.3031475473833791,
         1.2682506308382477,
         1.2831641915584546,
         1.421026942808326,
         1.2914373453960888,
         1.3285148732164018,
         1.3069507828327795,
         1.3560918552299164,
         1.3932341106588741,
         1.2983722051030164,
         1.2972189134635241,
         1.2387003225762803,
         1.298835001085894,
         1.3076719093091915,
         1.3355908707767359,
         1.3536331275829352,
         1.2448260854772455,
         1.2945486835993085,
         1.3098673303772457,
         1.221246180726607,
         1.378556571815118,
         1.31997143058877,
         1.3897533658635937,
         1.1964444322265957,
         1.2932963976445102,
         1.3441047459295825,
         1.2016801671106199,
         1.2037296307335288,
         1.4212183693161096,
         1.3108314394131033,
         1.332098086683651,
         1.252097430746238,
         1.1321268690700925,
         1.2568464528421432,
         1.2642428970850355,
         1.261167108365538,
         1.313948115392802,
         1.3049657845568323,
         1.3120985732582537,
         1.2898314087995628,
         1.1938270150649373,
         1.3750189047369907,
         1.1926003646902448,
         1.220376376290749,
         1.395229415109132,
         1.2144431469332426,
         1.2913940246034261,
         1.338475218154241,
         1.3127660147151994,
         1.2693903340284869,
         1.3150145494732162,
         1.1961168949390317,
         1.3160420094363676,
         1.33290638448781,
         1.1834599817372988,
         1.298527504159821,
         1.4329417404963838,
         1.3227992689378791,
         1.424598989624817,
         1.2643925021125333,
         1.2938863480346456,
         1.2275883260402078,
         1.3270119889113492,
         1.2998773662360705,
         1.1921599377852157,
         1.2945697141132486,
         1.292742137806723,
         1.3168221785157166,
         1.2788629364959316,
         1.20823377736237,
         1.3357523581348636,
         1.2814712634255556,
         1.3214360509813132,
         1.2760096351186385,
         1.2438740807804158,
         1.3106508692487011,
         1.311533077205698,
         1.273704182174756,
         1.3183874620166829,
         1.3501453387018514,
         1.1799918008893329,
         1.2249024351306097,
         1.3543954725521778,
         1.2876350588912584,
         1.4206452193536734,
         1.3716850490095716,
         1.2781094519234013,
         1.2787513013721228,
         1.2917345039585097,
         1.3754003607329042,
         1.2168117718954798,
         1.2349938882554692,
         1.305732633012048
        ]
       ],
       "encoder": "json",
       "name": "ABC_GAN_3 Metrics",
       "version": 1
      }
     },
     "metadata": {
      "scrapbook": {
       "data": true,
       "display": false,
       "name": "ABC_GAN_3 Metrics"
      }
     },
     "output_type": "display_data"
    },
    {
     "name": "stdout",
     "output_type": "stream",
     "text": [
      "MAE\n",
      "0.08302572355048532\n"
     ]
    }
   ],
   "source": [
    "ABC_GAN3_metrics=ABC_train_test2.test_generator(gen3,test_data,prior_model,variance,bias,\"3\",device)\n",
    "sb.glue(\"ABC_GAN_3 Metrics\",ABC_GAN3_metrics)\n",
    "\n",
    "print(\"MAE\")\n",
    "print(mean(ABC_GAN3_metrics[1]))"
   ]
  },
  {
   "cell_type": "code",
   "execution_count": 22,
   "id": "c8e46b48",
   "metadata": {
    "execution": {
     "iopub.execute_input": "2022-07-24T22:59:03.058356Z",
     "iopub.status.busy": "2022-07-24T22:59:03.057955Z",
     "iopub.status.idle": "2022-07-24T22:59:04.408962Z",
     "shell.execute_reply": "2022-07-24T22:59:04.407705Z"
    },
    "id": "c8e46b48",
    "papermill": {
     "duration": 1.374493,
     "end_time": "2022-07-24T22:59:04.412086",
     "exception": false,
     "start_time": "2022-07-24T22:59:03.037593",
     "status": "completed"
    },
    "tags": []
   },
   "outputs": [
    {
     "data": {
      "image/png": "[encoded data removed]",
      "text/plain": [
       "<Figure size 432x288 with 1 Axes>"
      ]
     },
     "metadata": {
      "needs_background": "light"
     },
     "output_type": "display_data"
    },
    {
     "data": {
      "image/png": "[encoded data removed]",
      "text/plain": [
       "<Figure size 432x288 with 1 Axes>"
      ]
     },
     "metadata": {
      "needs_background": "light"
     },
     "output_type": "display_data"
    },
    {
     "data": {
      "image/png": "[encoded data removed]",
      "text/plain": [
       "<Figure size 432x288 with 1 Axes>"
      ]
     },
     "metadata": {
      "needs_background": "light"
     },
     "output_type": "display_data"
    },
    {
     "data": {
      "image/png": "[encoded data removed]",
      "text/plain": [
       "<Figure size 432x288 with 1 Axes>"
      ]
     },
     "metadata": {
      "needs_background": "light"
     },
     "output_type": "display_data"
    }
   ],
   "source": [
    "sanityChecks.discProbVsError(train_data,disc3,device)\n",
    "sanityChecks.discProbVsError(test_data,disc3,device)"
   ]
  },
  {
   "cell_type": "markdown",
   "id": "e6145976",
   "metadata": {
    "id": "130f3a4d",
    "papermill": {
     "duration": 0.019177,
     "end_time": "2022-07-24T22:59:04.455499",
     "exception": false,
     "start_time": "2022-07-24T22:59:04.436322",
     "status": "completed"
    },
    "tags": []
   },
   "source": [
    "# skipGAN Model with TabNet Generator"
   ]
  },
  {
   "cell_type": "code",
   "execution_count": 23,
   "id": "dbde4b6a",
   "metadata": {
    "execution": {
     "iopub.execute_input": "2022-07-24T22:59:04.512969Z",
     "iopub.status.busy": "2022-07-24T22:59:04.512599Z",
     "iopub.status.idle": "2022-07-24T22:59:04.542201Z",
     "shell.execute_reply": "2022-07-24T22:59:04.540798Z"
    },
    "id": "4e43dad1",
    "papermill": {
     "duration": 0.055647,
     "end_time": "2022-07-24T22:59:04.545576",
     "exception": false,
     "start_time": "2022-07-24T22:59:04.489929",
     "status": "completed"
    },
    "tags": []
   },
   "outputs": [],
   "source": [
    "#Generator\n",
    "gen4 = network.GeneratorTabnetskipConnection(n_features+1).to(device)\n",
    "constraints=network.weightConstraint()\n",
    "#Discriminator \n",
    "disc4 = network.Discriminator(n_features+1).to(device)\n",
    "\n",
    "criterion = torch.nn.BCELoss()\n",
    "gen_opt = torch.optim.Adam(gen4.parameters(), lr=0.01, betas=(0.5, 0.999))\n",
    "disc_opt = torch.optim.Adam(disc4.parameters(), lr=0.01, betas=(0.5, 0.999))\n"
   ]
  },
  {
   "cell_type": "code",
   "execution_count": 24,
   "id": "6c4afe67",
   "metadata": {
    "execution": {
     "iopub.execute_input": "2022-07-24T22:59:04.601320Z",
     "iopub.status.busy": "2022-07-24T22:59:04.600934Z",
     "iopub.status.idle": "2022-07-24T23:21:01.507027Z",
     "shell.execute_reply": "2022-07-24T23:21:01.504539Z"
    },
    "id": "26acbc37",
    "papermill": {
     "duration": 1316.941529,
     "end_time": "2022-07-24T23:21:01.511188",
     "exception": false,
     "start_time": "2022-07-24T22:59:04.569659",
     "status": "completed"
    },
    "tags": []
   },
   "outputs": [
    {
     "data": {
      "image/png": "[encoded data removed]",
      "text/plain": [
       "<Figure size 432x288 with 1 Axes>"
      ]
     },
     "metadata": {
      "needs_background": "light"
     },
     "output_type": "display_data"
    },
    {
     "data": {
      "image/png": "[encoded data removed]",
      "text/plain": [
       "<Figure size 432x288 with 1 Axes>"
      ]
     },
     "metadata": {
      "needs_background": "light"
     },
     "output_type": "display_data"
    }
   ],
   "source": [
    "ABC_train_test2.training_GAN_skip_connection(disc4,gen4,disc_opt,gen_opt,train_data,batch_size,n_epochs,criterion,prior_model,variance,bias,device)"
   ]
  },
  {
   "cell_type": "code",
   "execution_count": 25,
   "id": "fb172304",
   "metadata": {
    "execution": {
     "iopub.execute_input": "2022-07-24T23:21:01.568664Z",
     "iopub.status.busy": "2022-07-24T23:21:01.568045Z",
     "iopub.status.idle": "2022-07-24T23:21:05.047013Z",
     "shell.execute_reply": "2022-07-24T23:21:05.045693Z"
    },
    "id": "c5e0717b",
    "papermill": {
     "duration": 3.511117,
     "end_time": "2022-07-24T23:21:05.050608",
     "exception": false,
     "start_time": "2022-07-24T23:21:01.539491",
     "status": "completed"
    },
    "tags": []
   },
   "outputs": [
    {
     "data": {
      "application/scrapbook.scrap.json+json": {
       "data": 0.01071227513335801,
       "encoder": "json",
       "name": "ABC-GAN Model 3 MSE",
       "version": 1
      }
     },
     "metadata": {
      "scrapbook": {
       "data": true,
       "display": false,
       "name": "ABC-GAN Model 3 MSE"
      }
     },
     "output_type": "display_data"
    },
    {
     "data": {
      "application/scrapbook.scrap.json+json": {
       "data": 0.08239104306691193,
       "encoder": "json",
       "name": "ABC-GAN Model 3 MAE",
       "version": 1
      }
     },
     "metadata": {
      "scrapbook": {
       "data": true,
       "display": false,
       "name": "ABC-GAN Model 3 MAE"
      }
     },
     "output_type": "display_data"
    },
    {
     "data": {
      "application/scrapbook.scrap.json+json": {
       "data": 12.688220632304438,
       "encoder": "json",
       "name": "ABC-GAN Model 3 Manhattan Distance",
       "version": 1
      }
     },
     "metadata": {
      "scrapbook": {
       "data": true,
       "display": false,
       "name": "ABC-GAN Model 3 Manhattan Distance"
      }
     },
     "output_type": "display_data"
    },
    {
     "data": {
      "application/scrapbook.scrap.json+json": {
       "data": 1.2822632998506747,
       "encoder": "json",
       "name": "ABC-GAN Model 3 Euclidean distance",
       "version": 1
      }
     },
     "metadata": {
      "scrapbook": {
       "data": true,
       "display": false,
       "name": "ABC-GAN Model 3 Euclidean distance"
      }
     },
     "output_type": "display_data"
    },
    {
     "data": {
      "application/scrapbook.scrap.json+json": {
       "data": [
        [
         0.010356922860227982,
         0.010346246700997186,
         0.010527962935058135,
         0.0114674139983791,
         0.01067838196866457,
         0.009390967525208117,
         0.012929595959806032,
         0.00968324657157932,
         0.010663750340203261,
         0.010728882730780652,
         0.012480671720148731,
         0.012855610007869923,
         0.008179503802090945,
         0.011797192500436256,
         0.01143987260650518,
         0.01223981644263628,
         0.008992960479790485,
         0.011675091164458307,
         0.010875016704411903,
         0.009673126612161576,
         0.010530798520233874,
         0.00966931643079577,
         0.010945703660286308,
         0.011738991731940103,
         0.011853168552466856,
         0.011257559797792902,
         0.009956751101111239,
         0.011230776780094428,
         0.011676666463489053,
         0.014129784836148213,
         0.010219135418987741,
         0.01031387994864097,
         0.01003175089692667,
         0.009806577950326708,
         0.011540404428241039,
         0.009692905211053643,
         0.01013096835543976,
         0.01092561596330976,
         0.012052782446929788,
         0.01357226109744785,
         0.010296701972020766,
         0.007878052248845045,
         0.008338369880807574,
         0.011900391003405243,
         0.01164073822591537,
         0.007348245284732248,
         0.011596394798584405,
         0.010907851152163224,
         0.010902512654438742,
         0.010741752265614302,
         0.010213578286124111,
         0.009268367560130565,
         0.010874063206834796,
         0.010739794937738965,
         0.010579754224315849,
         0.010590356691082605,
         0.01042137998618563,
         0.00959836376223151,
         0.010380316294313735,
         0.013531940518950228,
         0.011963367638211318,
         0.009631713755492993,
         0.011030697826325295,
         0.008656381425001856,
         0.0125203159650558,
         0.010681737490563295,
         0.009708545377133901,
         0.010780379520756772,
         0.010431243520537647,
         0.00877137406597425,
         0.009299580879534097,
         0.0114642095941334,
         0.011816487195210347,
         0.01272404949534824,
         0.010420121109533638,
         0.009812887189477214,
         0.009975203708983688,
         0.010301002205889307,
         0.009995470050558274,
         0.010591128537673382,
         0.00981679679002908,
         0.010115720185910119,
         0.010058427939168486,
         0.00920505384666284,
         0.008995926120174039,
         0.010603905150157873,
         0.01092552868094163,
         0.009834811011780915,
         0.009191765053125628,
         0.01095689706020826,
         0.011058804218457632,
         0.012600085959926533,
         0.012324778307889979,
         0.01029900157423191,
         0.010449080492153125,
         0.013042756358757424,
         0.01191134131944953,
         0.010746128253546625,
         0.011278075151946874,
         0.011229775132376352
        ],
        [
         0.08151113372537996,
         0.08101421403517196,
         0.08149297066129647,
         0.08646418391303583,
         0.08380308548931951,
         0.08096598243558562,
         0.09019230180359505,
         0.07683986844494939,
         0.08461346661115622,
         0.08062937608980514,
         0.08872979702790837,
         0.09163125681799728,
         0.07486505801608036,
         0.08430640779242113,
         0.08498984676870433,
         0.08848886414999504,
         0.07644049105440061,
         0.0828508310890817,
         0.08168535258669357,
         0.07735135505435528,
         0.08277059564149225,
         0.07843769905338814,
         0.08260313048958778,
         0.08804576161813427,
         0.0902950344728185,
         0.08384343764031088,
         0.08061384061024851,
         0.08523865358589532,
         0.08728540138426152,
         0.09462376188051391,
         0.08075382081525666,
         0.07990846398298616,
         0.08242896257282852,
         0.08009325344018735,
         0.08611959277035354,
         0.07756605989892375,
         0.08210832267612606,
         0.08092406880739447,
         0.08948623128961046,
         0.09408792858193447,
         0.08118720981594804,
         0.0685750080345126,
         0.07201684329223323,
         0.08497960565539149,
         0.0851705985796916,
         0.06955559445278985,
         0.08392423531645304,
         0.0826867955869862,
         0.08294579583861224,
         0.08204245127060196,
         0.08249466425993225,
         0.07717447304590182,
         0.0791638039004106,
         0.08360010103395137,
         0.08211040303304598,
         0.08349260620095512,
         0.08388258364390243,
         0.07920911863397856,
         0.0806899494551993,
         0.09339495044346753,
         0.08684559691358697,
         0.07689961033885355,
         0.08646657114679163,
         0.07230432578302048,
         0.09071653823114255,
         0.08405766446844905,
         0.07754239275470956,
         0.08426602963696826,
         0.08411216100242425,
         0.0745602615129251,
         0.07486569595994888,
         0.08631014731990827,
         0.09261740487395459,
         0.08911045797943294,
         0.07901087093662906,
         0.07637802100220284,
         0.07866582158324006,
         0.08160905264221228,
         0.08440182152409832,
         0.08144041276597358,
         0.07739655392897593,
         0.07945860070841652,
         0.07611796548952918,
         0.07663917159298797,
         0.07310091034061723,
         0.08114800940860402,
         0.08403055306959462,
         0.07927398698089959,
         0.07557989032818126,
         0.0831462364982475,
         0.08593447593512474,
         0.08685697552252125,
         0.08785081577378434,
         0.07918527036566626,
         0.08162904637200492,
         0.08938945716174392,
         0.08636688329763227,
         0.08216765304035567,
         0.08412592113018036,
         0.0831284150965028
        ],
        [
         12.552714593708515,
         12.476188961416483,
         12.549917481839657,
         13.315484322607517,
         12.905675165355206,
         12.468761295080185,
         13.88961447775364,
         11.833339740522206,
         13.030473858118057,
         12.41692391782999,
         13.664388742297888,
         14.11121354997158,
         11.529218934476376,
         12.983186800032854,
         13.088436402380466,
         13.627285079099238,
         11.771835622377694,
         12.759027987718582,
         12.579544298350811,
         11.912108678370714,
         12.746671728789806,
         12.079405654221773,
         12.720882095396519,
         13.559047289192677,
         13.905435308814049,
         12.911889396607876,
         12.41453145397827,
         13.126752652227879,
         13.441951813176274,
         14.572059329599142,
         12.436088405549526,
         12.30590345337987,
         12.694060236215591,
         12.334361029788852,
         13.262417286634445,
         11.945173224434257,
         12.644681692123413,
         12.462306596338749,
         13.78087961860001,
         14.489541001617908,
         12.502830311655998,
         10.56055123731494,
         11.090593867003918,
         13.08685927093029,
         13.116272181272507,
         10.711561545729637,
         12.924332238733768,
         12.733766520395875,
         12.773652559146285,
         12.634537495672703,
         12.704178296029568,
         11.88486884906888,
         12.191225800663233,
         12.87441555922851,
         12.64500206708908,
         12.85786135494709,
         12.917917881160975,
         12.198204269632697,
         12.426252216100693,
         14.382822368294,
         13.374221924692392,
         11.842539992183447,
         13.315851956605911,
         11.134866170585155,
         13.970346887595952,
         12.944880328141153,
         11.941528484225273,
         12.976968564093113,
         12.953272794373333,
         11.482280272990465,
         11.529317177832127,
         13.291762687265873,
         14.263080350589007,
         13.723010528832674,
         12.167674124240875,
         11.762215234339237,
         12.11453652381897,
         12.567794106900692,
         12.997880514711142,
         12.54182356595993,
         11.919069305062294,
         12.236624509096146,
         11.722166685387492,
         11.802432425320148,
         11.257540192455053,
         12.496793448925018,
         12.940705172717571,
         12.208193995058537,
         11.639303110539913,
         12.804520420730114,
         13.233909294009209,
         13.375974230468273,
         13.529025629162788,
         12.194531636312604,
         12.570873141288757,
         13.765976402908564,
         13.300500027835369,
         12.653818568214774,
         12.955391854047775,
         12.801775924861431
        ],
        [
         1.2629196809279317,
         1.2622685894664283,
         1.2733052626919252,
         1.3289024628430717,
         1.28236922264001,
         1.20258430011457,
         1.411083901761383,
         1.2211551793376694,
         1.2814903637528072,
         1.28539796971219,
         1.3863706015719262,
         1.4070408456089567,
         1.1223384451768574,
         1.3478752334942516,
         1.3273056849881257,
         1.3729281598707148,
         1.1768245042858918,
         1.3408818140785486,
         1.2941223174334924,
         1.22051689798744,
         1.2734767261775994,
         1.2202764974965914,
         1.2983213637940691,
         1.3445462902848588,
         1.3510691903377472,
         1.316686830214424,
         1.2382809332179554,
         1.3151196235075127,
         1.3409722724118178,
         1.4751226609224144,
         1.254490675343628,
         1.2602926295470862,
         1.2429358946167366,
         1.228907239929163,
         1.3331250061225015,
         1.2217640535317207,
         1.249067302725407,
         1.2971294686151043,
         1.362398068417299,
         1.4457275708123467,
         1.2592426706918718,
         1.1014626849431337,
         1.1331853165499306,
         1.3537578123595102,
         1.3389076468490897,
         1.0637808862020253,
         1.336355042263095,
         1.2960744876098507,
         1.29575728776016,
         1.286168670472346,
         1.2541495349690615,
         1.1947085854969433,
         1.2940655832887908,
         1.2860514843550395,
         1.2764333709773656,
         1.2770727976222505,
         1.2668435254097434,
         1.2157911084490018,
         1.2643451701668795,
         1.4435784841560695,
         1.357335115689763,
         1.2179014403250867,
         1.3033523948856256,
         1.1545920229458915,
         1.3885707251049884,
         1.282570689493077,
         1.2227493561963632,
         1.2884791213661722,
         1.2674428989752546,
         1.162235606991988,
         1.1967186199973037,
         1.32871677851096,
         1.3489770302204531,
         1.3998227110186592,
         1.2667670073333062,
         1.2293024962064834,
         1.239427840248672,
         1.2595055933607255,
         1.2406862567893522,
         1.2771193345970848,
         1.2295473580405425,
         1.2481269601407374,
         1.2445874427423518,
         1.190620969236674,
         1.177018531080459,
         1.2778894291464784,
         1.2971242873622446,
         1.2306749757000266,
         1.1897612441920213,
         1.29898504505328,
         1.3050118197328617,
         1.3929871635548858,
         1.3776849637762099,
         1.2593832786057286,
         1.2685260721765166,
         1.4172453842749475,
         1.3543805090133376,
         1.2864306242647445,
         1.3178860244345176,
         1.315060975919352
        ]
       ],
       "encoder": "json",
       "name": "ABC_GAN_4 Metrics",
       "version": 1
      }
     },
     "metadata": {
      "scrapbook": {
       "data": true,
       "display": false,
       "name": "ABC_GAN_4 Metrics"
      }
     },
     "output_type": "display_data"
    },
    {
     "name": "stdout",
     "output_type": "stream",
     "text": [
      "MAE\n",
      "0.08239104306691193\n"
     ]
    }
   ],
   "source": [
    "ABC_GAN4_metrics=ABC_train_test2.test_generator(gen4,test_data,prior_model,variance,bias,\"3\",device)\n",
    "sb.glue(\"ABC_GAN_4 Metrics\",ABC_GAN4_metrics)\n",
    "\n",
    "print(\"MAE\")\n",
    "print(mean(ABC_GAN4_metrics[1]))"
   ]
  },
  {
   "cell_type": "code",
   "execution_count": 26,
   "id": "50d5c000",
   "metadata": {
    "execution": {
     "iopub.execute_input": "2022-07-24T23:21:05.127357Z",
     "iopub.status.busy": "2022-07-24T23:21:05.126346Z",
     "iopub.status.idle": "2022-07-24T23:21:06.464961Z",
     "shell.execute_reply": "2022-07-24T23:21:06.463945Z"
    },
    "id": "c8e46b48",
    "papermill": {
     "duration": 1.38186,
     "end_time": "2022-07-24T23:21:06.468144",
     "exception": false,
     "start_time": "2022-07-24T23:21:05.086284",
     "status": "completed"
    },
    "tags": []
   },
   "outputs": [
    {
     "data": {
      "image/png": "[encoded data removed]",
      "text/plain": [
       "<Figure size 432x288 with 1 Axes>"
      ]
     },
     "metadata": {
      "needs_background": "light"
     },
     "output_type": "display_data"
    },
    {
     "data": {
      "image/png": "[encoded data removed]",
      "text/plain": [
       "<Figure size 432x288 with 1 Axes>"
      ]
     },
     "metadata": {
      "needs_background": "light"
     },
     "output_type": "display_data"
    },
    {
     "data": {
      "image/png": "[encoded data removed]",
      "text/plain": [
       "<Figure size 432x288 with 1 Axes>"
      ]
     },
     "metadata": {
      "needs_background": "light"
     },
     "output_type": "display_data"
    },
    {
     "data": {
      "image/png": "[encoded data removed]",
      "text/plain": [
       "<Figure size 432x288 with 1 Axes>"
      ]
     },
     "metadata": {
      "needs_background": "light"
     },
     "output_type": "display_data"
    }
   ],
   "source": [
    "sanityChecks.discProbVsError(train_data,disc4,device)\n",
    "sanityChecks.discProbVsError(test_data,disc4,device)"
   ]
  },
  {
   "cell_type": "markdown",
   "id": "a5bd74c3",
   "metadata": {
    "id": "a5bd74c3",
    "papermill": {
     "duration": 0.041652,
     "end_time": "2022-07-24T23:21:06.558382",
     "exception": false,
     "start_time": "2022-07-24T23:21:06.516730",
     "status": "completed"
    },
    "tags": []
   },
   "source": [
    "## Skip Connection Model Analysis - ABC-GAN "
   ]
  },
  {
   "cell_type": "markdown",
   "id": "5744a8bf",
   "metadata": {
    "id": "5744a8bf",
    "papermill": {
     "duration": 0.037361,
     "end_time": "2022-07-24T23:21:06.634750",
     "exception": false,
     "start_time": "2022-07-24T23:21:06.597389",
     "status": "completed"
    },
    "tags": []
   },
   "source": [
    "### Weight Analysis \n",
    "\n",
    "Study the weights of the skip connection layer\n",
    "\n",
    "Equation of the skip connection is \n",
    "\n",
    "$output = y_{gan} * w + y_{abc} * (1-w)$"
   ]
  },
  {
   "cell_type": "code",
   "execution_count": 27,
   "id": "52c31dea",
   "metadata": {
    "execution": {
     "iopub.execute_input": "2022-07-24T23:21:06.723347Z",
     "iopub.status.busy": "2022-07-24T23:21:06.722705Z",
     "iopub.status.idle": "2022-07-24T23:21:06.748642Z",
     "shell.execute_reply": "2022-07-24T23:21:06.746191Z"
    },
    "id": "52c31dea",
    "papermill": {
     "duration": 0.082294,
     "end_time": "2022-07-24T23:21:06.764153",
     "exception": false,
     "start_time": "2022-07-24T23:21:06.681859",
     "status": "completed"
    },
    "tags": []
   },
   "outputs": [
    {
     "name": "stdout",
     "output_type": "stream",
     "text": [
      "Weight of the node at skip connection\n",
      "Parameter containing:\n",
      "tensor([[0.0028]], requires_grad=True)\n"
     ]
    },
    {
     "data": {
      "application/scrapbook.scrap.json+json": {
       "data": 0.0028485103975981474,
       "encoder": "json",
       "name": "Skip Connection Weight",
       "version": 1
      }
     },
     "metadata": {
      "scrapbook": {
       "data": true,
       "display": false,
       "name": "Skip Connection Weight"
      }
     },
     "output_type": "display_data"
    }
   ],
   "source": [
    "print(\"Weight of the node at skip connection\")\n",
    "for name,param in gen3.named_parameters():\n",
    "    if(name == \"skipNode.weight\"):\n",
    "        print(param)\n",
    "        sb.glue(\"Skip Connection Weight\",param.item())"
   ]
  },
  {
   "cell_type": "markdown",
   "id": "10a1717e",
   "metadata": {
    "id": "a5bd74c3",
    "papermill": {
     "duration": 0.037599,
     "end_time": "2022-07-24T23:21:06.838559",
     "exception": false,
     "start_time": "2022-07-24T23:21:06.800960",
     "status": "completed"
    },
    "tags": []
   },
   "source": [
    "## skipGAN Model Analysis (TabNet Generator) "
   ]
  },
  {
   "cell_type": "markdown",
   "id": "4c387470",
   "metadata": {
    "id": "5744a8bf",
    "papermill": {
     "duration": 0.059945,
     "end_time": "2022-07-24T23:21:06.939938",
     "exception": false,
     "start_time": "2022-07-24T23:21:06.879993",
     "status": "completed"
    },
    "tags": []
   },
   "source": [
    "### Weight Analysis \n",
    "\n",
    "Study the weights of the skip connection layer\n",
    "\n",
    "Equation of the skip connection is \n",
    "\n",
    "$output = y_{gan} * w + y_{abc} * (1-w)$"
   ]
  },
  {
   "cell_type": "code",
   "execution_count": 28,
   "id": "d43cdc74",
   "metadata": {
    "execution": {
     "iopub.execute_input": "2022-07-24T23:21:07.012871Z",
     "iopub.status.busy": "2022-07-24T23:21:07.012101Z",
     "iopub.status.idle": "2022-07-24T23:21:07.027502Z",
     "shell.execute_reply": "2022-07-24T23:21:07.025734Z"
    },
    "id": "52c31dea",
    "papermill": {
     "duration": 0.052604,
     "end_time": "2022-07-24T23:21:07.033279",
     "exception": false,
     "start_time": "2022-07-24T23:21:06.980675",
     "status": "completed"
    },
    "tags": []
   },
   "outputs": [
    {
     "name": "stdout",
     "output_type": "stream",
     "text": [
      "Weight of the node at skip connection\n",
      "Parameter containing:\n",
      "tensor([[0.0232]], requires_grad=True)\n"
     ]
    },
    {
     "data": {
      "application/scrapbook.scrap.json+json": {
       "data": 0.023206505924463272,
       "encoder": "json",
       "name": "Skip Connection Weight",
       "version": 1
      }
     },
     "metadata": {
      "scrapbook": {
       "data": true,
       "display": false,
       "name": "Skip Connection Weight"
      }
     },
     "output_type": "display_data"
    }
   ],
   "source": [
    "print(\"Weight of the node at skip connection\")\n",
    "for name,param in gen4.named_parameters():\n",
    "    if(name == \"skipNode.weight\"):\n",
    "        print(param)\n",
    "        sb.glue(\"Skip Connection Weight\",param.item())"
   ]
  }
 ],
 "metadata": {
  "colab": {
   "collapsed_sections": [],
   "name": "ABC_GAN_Model-Catboost_Pre-gen.ipynb",
   "provenance": []
  },
  "interpreter": {
   "hash": "31f2aee4e71d21fbe5cf8b01ff0e069b9275f58929596ceb00d14d90e3e16cd6"
  },
  "kernelspec": {
   "display_name": "Python 3 (ipykernel)",
   "language": "python",
   "name": "python3"
  },
  "language_info": {
   "codemirror_mode": {
    "name": "ipython",
    "version": 3
   },
   "file_extension": ".py",
   "mimetype": "text/x-python",
   "name": "python",
   "nbconvert_exporter": "python",
   "pygments_lexer": "ipython3",
   "version": "3.8.13"
  },
  "papermill": {
   "default_parameters": {},
   "duration": 2822.851743,
   "end_time": "2022-07-24T23:21:08.187663",
   "environment_variables": {},
   "exception": null,
   "input_path": "ABC_GAN-Catboost.ipynb",
   "output_path": "./ABC_GAN_Catboost/ABC-GAN_output_1_10.ipynb",
   "parameters": {
    "bias": 0,
    "variance": 0.1
   },
   "start_time": "2022-07-24T22:34:05.335920",
   "version": "2.3.3"
  }
 },
 "nbformat": 4,
 "nbformat_minor": 5
}