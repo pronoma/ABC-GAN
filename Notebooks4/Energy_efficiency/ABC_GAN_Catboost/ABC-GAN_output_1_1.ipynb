{
 "cells": [
  {
   "cell_type": "markdown",
   "id": "622780e6",
   "metadata": {
    "id": "622780e6",
    "papermill": {
     "duration": 0.015647,
     "end_time": "2022-07-24T14:37:12.934092",
     "exception": false,
     "start_time": "2022-07-24T14:37:12.918445",
     "status": "completed"
    },
    "tags": []
   },
   "source": [
    "## Import Libraries "
   ]
  },
  {
   "cell_type": "code",
   "execution_count": 1,
   "id": "a62397e3",
   "metadata": {
    "execution": {
     "iopub.execute_input": "2022-07-24T14:37:12.954837Z",
     "iopub.status.busy": "2022-07-24T14:37:12.954207Z",
     "iopub.status.idle": "2022-07-24T14:37:12.968948Z",
     "shell.execute_reply": "2022-07-24T14:37:12.967912Z"
    },
    "id": "a62397e3",
    "papermill": {
     "duration": 0.029545,
     "end_time": "2022-07-24T14:37:12.973987",
     "exception": false,
     "start_time": "2022-07-24T14:37:12.944442",
     "status": "completed"
    },
    "tags": []
   },
   "outputs": [],
   "source": [
    "import warnings\n",
    "import sys\n",
    "sys.path.insert(0, '../../src')\n",
    "warnings.filterwarnings('ignore')"
   ]
  },
  {
   "cell_type": "code",
   "execution_count": 2,
   "id": "d6a4e155",
   "metadata": {
    "execution": {
     "iopub.execute_input": "2022-07-24T14:37:12.992670Z",
     "iopub.status.busy": "2022-07-24T14:37:12.992301Z",
     "iopub.status.idle": "2022-07-24T14:37:22.986104Z",
     "shell.execute_reply": "2022-07-24T14:37:22.984966Z"
    },
    "id": "d6a4e155",
    "papermill": {
     "duration": 10.006873,
     "end_time": "2022-07-24T14:37:22.989115",
     "exception": false,
     "start_time": "2022-07-24T14:37:12.982242",
     "status": "completed"
    },
    "tags": []
   },
   "outputs": [],
   "source": [
    "import ABC_train_test2\n",
    "import energyefficiencyDataset\n",
    "import network\n",
    "import dataset\n",
    "import sanityChecks\n",
    "import torch \n",
    "import scrapbook as sb\n",
    "from statistics import mean \n",
    "import catboost as ctb \n",
    "from sklearn.model_selection import train_test_split\n",
    "from sklearn.metrics import mean_squared_error,mean_absolute_error\n",
    "import numpy as np"
   ]
  },
  {
   "cell_type": "markdown",
   "id": "2fa5b0f7",
   "metadata": {
    "id": "2fa5b0f7",
    "papermill": {
     "duration": 0.008089,
     "end_time": "2022-07-24T14:37:23.004977",
     "exception": false,
     "start_time": "2022-07-24T14:37:22.996888",
     "status": "completed"
    },
    "tags": []
   },
   "source": [
    "## Parameters "
   ]
  },
  {
   "cell_type": "code",
   "execution_count": 3,
   "id": "783186fb",
   "metadata": {
    "execution": {
     "iopub.execute_input": "2022-07-24T14:37:23.028765Z",
     "iopub.status.busy": "2022-07-24T14:37:23.027905Z",
     "iopub.status.idle": "2022-07-24T14:37:23.035932Z",
     "shell.execute_reply": "2022-07-24T14:37:23.034223Z"
    },
    "id": "783186fb",
    "papermill": {
     "duration": 0.026106,
     "end_time": "2022-07-24T14:37:23.039075",
     "exception": false,
     "start_time": "2022-07-24T14:37:23.012969",
     "status": "completed"
    },
    "tags": [
     "parameters"
    ]
   },
   "outputs": [],
   "source": [
    "variance = 1\n",
    "bias = 1 "
   ]
  },
  {
   "cell_type": "code",
   "execution_count": 4,
   "id": "b07ede0a",
   "metadata": {
    "execution": {
     "iopub.execute_input": "2022-07-24T14:37:23.065713Z",
     "iopub.status.busy": "2022-07-24T14:37:23.064992Z",
     "iopub.status.idle": "2022-07-24T14:37:23.073186Z",
     "shell.execute_reply": "2022-07-24T14:37:23.071648Z"
    },
    "papermill": {
     "duration": 0.02978,
     "end_time": "2022-07-24T14:37:23.079446",
     "exception": false,
     "start_time": "2022-07-24T14:37:23.049666",
     "status": "completed"
    },
    "tags": [
     "injected-parameters"
    ]
   },
   "outputs": [],
   "source": [
    "# Parameters\n",
    "variance = 0.1\n",
    "bias = 1\n"
   ]
  },
  {
   "cell_type": "markdown",
   "id": "391cdbfd",
   "metadata": {
    "id": "391cdbfd",
    "papermill": {
     "duration": 0.007795,
     "end_time": "2022-07-24T14:37:23.096016",
     "exception": false,
     "start_time": "2022-07-24T14:37:23.088221",
     "status": "completed"
    },
    "tags": []
   },
   "source": [
    "## Dataset \n"
   ]
  },
  {
   "cell_type": "code",
   "execution_count": 5,
   "id": "5b51f161",
   "metadata": {
    "execution": {
     "iopub.execute_input": "2022-07-24T14:37:23.116072Z",
     "iopub.status.busy": "2022-07-24T14:37:23.115251Z",
     "iopub.status.idle": "2022-07-24T14:37:23.120897Z",
     "shell.execute_reply": "2022-07-24T14:37:23.119539Z"
    },
    "id": "5b51f161",
    "papermill": {
     "duration": 0.021443,
     "end_time": "2022-07-24T14:37:23.125434",
     "exception": false,
     "start_time": "2022-07-24T14:37:23.103991",
     "status": "completed"
    },
    "tags": []
   },
   "outputs": [],
   "source": [
    "#Parameters \n",
    "n_features = 8\n",
    "n_samples= 768\n",
    "n_target = 1 "
   ]
  },
  {
   "cell_type": "code",
   "execution_count": 6,
   "id": "5d6eced4",
   "metadata": {
    "execution": {
     "iopub.execute_input": "2022-07-24T14:37:23.143329Z",
     "iopub.status.busy": "2022-07-24T14:37:23.142595Z",
     "iopub.status.idle": "2022-07-24T14:37:23.832673Z",
     "shell.execute_reply": "2022-07-24T14:37:23.830854Z"
    },
    "id": "5d6eced4",
    "papermill": {
     "duration": 0.703051,
     "end_time": "2022-07-24T14:37:23.835808",
     "exception": false,
     "start_time": "2022-07-24T14:37:23.132757",
     "status": "completed"
    },
    "tags": []
   },
   "outputs": [
    {
     "name": "stdout",
     "output_type": "stream",
     "text": [
      "     X1     X2     X3      X4   X5  X6   X7  X8     Y1     Y2\n",
      "0  0.98  514.5  294.0  110.25  7.0   2  0.0   0  15.55  21.33\n",
      "1  0.98  514.5  294.0  110.25  7.0   3  0.0   0  15.55  21.33\n",
      "2  0.98  514.5  294.0  110.25  7.0   4  0.0   0  15.55  21.33\n",
      "3  0.98  514.5  294.0  110.25  7.0   5  0.0   0  15.55  21.33\n",
      "4  0.90  563.5  318.5  122.50  7.0   2  0.0   0  20.84  28.28\n"
     ]
    }
   ],
   "source": [
    "X,Y = energyefficiencyDataset.energy_data()"
   ]
  },
  {
   "cell_type": "code",
   "execution_count": 7,
   "id": "fe007438",
   "metadata": {
    "execution": {
     "iopub.execute_input": "2022-07-24T14:37:23.853131Z",
     "iopub.status.busy": "2022-07-24T14:37:23.852620Z",
     "iopub.status.idle": "2022-07-24T14:37:23.863885Z",
     "shell.execute_reply": "2022-07-24T14:37:23.859852Z"
    },
    "id": "fe007438",
    "papermill": {
     "duration": 0.025324,
     "end_time": "2022-07-24T14:37:23.868391",
     "exception": false,
     "start_time": "2022-07-24T14:37:23.843067",
     "status": "completed"
    },
    "tags": []
   },
   "outputs": [],
   "source": [
    "#Train test split for dataset \n",
    "X_train,X_test,Y_train,Y_test = train_test_split(X,Y,test_size = 0.2)\n",
    "train_data = dataset.CustomDataset(X_train,Y_train)\n",
    "test_data = dataset.CustomDataset(X_test,Y_test)\n"
   ]
  },
  {
   "cell_type": "markdown",
   "id": "a9a1af34",
   "metadata": {
    "id": "a9a1af34",
    "papermill": {
     "duration": 0.010468,
     "end_time": "2022-07-24T14:37:23.890888",
     "exception": false,
     "start_time": "2022-07-24T14:37:23.880420",
     "status": "completed"
    },
    "tags": []
   },
   "source": [
    "## Training Parameters "
   ]
  },
  {
   "cell_type": "code",
   "execution_count": 8,
   "id": "952b7fc8",
   "metadata": {
    "execution": {
     "iopub.execute_input": "2022-07-24T14:37:23.911144Z",
     "iopub.status.busy": "2022-07-24T14:37:23.910608Z",
     "iopub.status.idle": "2022-07-24T14:37:23.918617Z",
     "shell.execute_reply": "2022-07-24T14:37:23.916530Z"
    },
    "id": "952b7fc8",
    "papermill": {
     "duration": 0.026391,
     "end_time": "2022-07-24T14:37:23.925752",
     "exception": false,
     "start_time": "2022-07-24T14:37:23.899361",
     "status": "completed"
    },
    "tags": []
   },
   "outputs": [],
   "source": [
    "batch_size = 32\n",
    "n_epochs = 1000\n",
    "#Select the device \n",
    "device = torch.device('cuda' if torch.cuda.is_available() else 'cpu')"
   ]
  },
  {
   "cell_type": "markdown",
   "id": "a95e1600",
   "metadata": {
    "id": "a95e1600",
    "papermill": {
     "duration": 0.00849,
     "end_time": "2022-07-24T14:37:23.945828",
     "exception": false,
     "start_time": "2022-07-24T14:37:23.937338",
     "status": "completed"
    },
    "tags": []
   },
   "source": [
    "# ABC Pre-generator Model \n",
    "\n",
    "1. The catboost model is used as a pre-generator model for the ABC-GAN. \n",
    "2. The model is first trained on the entire dataset \n",
    "3. It generats X,Y pairs and we add some Gaussian noise with mean 0 and variance 1 to it which is then feed as input to the generator.\n"
   ]
  },
  {
   "cell_type": "code",
   "execution_count": 9,
   "id": "ff8ce7bd",
   "metadata": {
    "execution": {
     "iopub.execute_input": "2022-07-24T14:37:23.976524Z",
     "iopub.status.busy": "2022-07-24T14:37:23.976023Z",
     "iopub.status.idle": "2022-07-24T14:37:25.780058Z",
     "shell.execute_reply": "2022-07-24T14:37:25.775688Z"
    },
    "id": "ff8ce7bd",
    "papermill": {
     "duration": 1.823914,
     "end_time": "2022-07-24T14:37:25.784015",
     "exception": false,
     "start_time": "2022-07-24T14:37:23.960101",
     "status": "completed"
    },
    "tags": []
   },
   "outputs": [
    {
     "name": "stdout",
     "output_type": "stream",
     "text": [
      "Learning rate set to 0.037906\n"
     ]
    },
    {
     "name": "stdout",
     "output_type": "stream",
     "text": [
      "0:\tlearn: 0.9666707\ttotal: 162ms\tremaining: 2m 41s\n",
      "1:\tlearn: 0.9345395\ttotal: 164ms\tremaining: 1m 21s\n",
      "2:\tlearn: 0.9072925\ttotal: 165ms\tremaining: 54.9s\n",
      "3:\tlearn: 0.8766041\ttotal: 167ms\tremaining: 41.5s\n",
      "4:\tlearn: 0.8518207\ttotal: 168ms\tremaining: 33.3s\n",
      "5:\tlearn: 0.8242921\ttotal: 168ms\tremaining: 27.9s\n",
      "6:\tlearn: 0.8018139\ttotal: 169ms\tremaining: 24s\n",
      "7:\tlearn: 0.7788846\ttotal: 171ms\tremaining: 21.2s\n",
      "8:\tlearn: 0.7528548\ttotal: 172ms\tremaining: 19s\n",
      "9:\tlearn: 0.7289622\ttotal: 174ms\tremaining: 17.2s\n",
      "10:\tlearn: 0.7075669\ttotal: 182ms\tremaining: 16.4s\n"
     ]
    },
    {
     "name": "stdout",
     "output_type": "stream",
     "text": [
      "11:\tlearn: 0.6846750\ttotal: 184ms\tremaining: 15.1s\n",
      "12:\tlearn: 0.6648917\ttotal: 186ms\tremaining: 14.1s\n",
      "13:\tlearn: 0.6447905\ttotal: 187ms\tremaining: 13.2s\n",
      "14:\tlearn: 0.6243209\ttotal: 188ms\tremaining: 12.4s\n",
      "15:\tlearn: 0.6045918\ttotal: 190ms\tremaining: 11.7s\n",
      "16:\tlearn: 0.5858913\ttotal: 191ms\tremaining: 11s\n",
      "17:\tlearn: 0.5687715\ttotal: 191ms\tremaining: 10.4s\n",
      "18:\tlearn: 0.5519010\ttotal: 192ms\tremaining: 9.92s\n",
      "19:\tlearn: 0.5363908\ttotal: 193ms\tremaining: 9.45s\n",
      "20:\tlearn: 0.5212757\ttotal: 193ms\tremaining: 9.02s\n",
      "21:\tlearn: 0.5070472\ttotal: 194ms\tremaining: 8.63s\n",
      "22:\tlearn: 0.4913969\ttotal: 195ms\tremaining: 8.28s\n",
      "23:\tlearn: 0.4754476\ttotal: 196ms\tremaining: 7.96s\n",
      "24:\tlearn: 0.4607675\ttotal: 198ms\tremaining: 7.72s\n",
      "25:\tlearn: 0.4473190\ttotal: 199ms\tremaining: 7.46s\n",
      "26:\tlearn: 0.4346546\ttotal: 203ms\tremaining: 7.31s\n",
      "27:\tlearn: 0.4211067\ttotal: 204ms\tremaining: 7.07s\n",
      "28:\tlearn: 0.4087475\ttotal: 205ms\tremaining: 6.85s\n",
      "29:\tlearn: 0.3971599\ttotal: 206ms\tremaining: 6.65s\n",
      "30:\tlearn: 0.3851799\ttotal: 207ms\tremaining: 6.46s\n",
      "31:\tlearn: 0.3738265\ttotal: 208ms\tremaining: 6.29s\n",
      "32:\tlearn: 0.3630673\ttotal: 209ms\tremaining: 6.12s\n",
      "33:\tlearn: 0.3529232\ttotal: 210ms\tremaining: 5.97s\n",
      "34:\tlearn: 0.3430553\ttotal: 211ms\tremaining: 5.82s\n",
      "35:\tlearn: 0.3336062\ttotal: 213ms\tremaining: 5.69s\n",
      "36:\tlearn: 0.3233385\ttotal: 215ms\tremaining: 5.59s\n",
      "37:\tlearn: 0.3138115\ttotal: 216ms\tremaining: 5.46s\n",
      "38:\tlearn: 0.3060245\ttotal: 217ms\tremaining: 5.35s\n",
      "39:\tlearn: 0.2967475\ttotal: 218ms\tremaining: 5.24s\n",
      "40:\tlearn: 0.2888436\ttotal: 220ms\tremaining: 5.13s\n",
      "41:\tlearn: 0.2803934\ttotal: 220ms\tremaining: 5.02s\n",
      "42:\tlearn: 0.2724252\ttotal: 221ms\tremaining: 4.92s\n",
      "43:\tlearn: 0.2650179\ttotal: 222ms\tremaining: 4.82s\n",
      "44:\tlearn: 0.2604324\ttotal: 222ms\tremaining: 4.71s\n",
      "45:\tlearn: 0.2535008\ttotal: 222ms\tremaining: 4.61s\n",
      "46:\tlearn: 0.2468857\ttotal: 223ms\tremaining: 4.51s\n",
      "47:\tlearn: 0.2409079\ttotal: 223ms\tremaining: 4.42s\n",
      "48:\tlearn: 0.2343324\ttotal: 223ms\tremaining: 4.33s\n",
      "49:\tlearn: 0.2282612\ttotal: 225ms\tremaining: 4.27s\n",
      "50:\tlearn: 0.2226229\ttotal: 226ms\tremaining: 4.2s\n",
      "51:\tlearn: 0.2176150\ttotal: 227ms\tremaining: 4.13s\n",
      "52:\tlearn: 0.2120964\ttotal: 227ms\tremaining: 4.06s\n",
      "53:\tlearn: 0.2062975\ttotal: 229ms\tremaining: 4s\n",
      "54:\tlearn: 0.2008158\ttotal: 229ms\tremaining: 3.94s\n",
      "55:\tlearn: 0.1959281\ttotal: 230ms\tremaining: 3.88s\n",
      "56:\tlearn: 0.1908123\ttotal: 231ms\tremaining: 3.83s\n",
      "57:\tlearn: 0.1865186\ttotal: 232ms\tremaining: 3.77s\n",
      "58:\tlearn: 0.1817486\ttotal: 233ms\tremaining: 3.71s\n",
      "59:\tlearn: 0.1771922\ttotal: 233ms\tremaining: 3.65s\n",
      "60:\tlearn: 0.1732500\ttotal: 235ms\tremaining: 3.61s\n",
      "61:\tlearn: 0.1691397\ttotal: 235ms\tremaining: 3.56s\n",
      "62:\tlearn: 0.1657224\ttotal: 236ms\tremaining: 3.51s\n",
      "63:\tlearn: 0.1614928\ttotal: 236ms\tremaining: 3.46s\n",
      "64:\tlearn: 0.1593756\ttotal: 237ms\tremaining: 3.41s\n",
      "65:\tlearn: 0.1566572\ttotal: 238ms\tremaining: 3.37s\n",
      "66:\tlearn: 0.1528840\ttotal: 239ms\tremaining: 3.33s\n",
      "67:\tlearn: 0.1497992\ttotal: 240ms\tremaining: 3.29s\n",
      "68:\tlearn: 0.1460671\ttotal: 241ms\tremaining: 3.25s\n",
      "69:\tlearn: 0.1436803\ttotal: 241ms\tremaining: 3.21s\n",
      "70:\tlearn: 0.1403261\ttotal: 242ms\tremaining: 3.17s\n",
      "71:\tlearn: 0.1379467\ttotal: 243ms\tremaining: 3.13s\n",
      "72:\tlearn: 0.1350744\ttotal: 244ms\tremaining: 3.1s\n",
      "73:\tlearn: 0.1326364\ttotal: 245ms\tremaining: 3.06s\n",
      "74:\tlearn: 0.1309672\ttotal: 245ms\tremaining: 3.02s\n",
      "75:\tlearn: 0.1279412\ttotal: 246ms\tremaining: 2.99s\n",
      "76:\tlearn: 0.1252057\ttotal: 248ms\tremaining: 2.97s\n",
      "77:\tlearn: 0.1230332\ttotal: 249ms\tremaining: 2.95s\n",
      "78:\tlearn: 0.1203366\ttotal: 250ms\tremaining: 2.92s\n",
      "79:\tlearn: 0.1175939\ttotal: 251ms\tremaining: 2.89s\n",
      "80:\tlearn: 0.1148839\ttotal: 252ms\tremaining: 2.86s\n",
      "81:\tlearn: 0.1124566\ttotal: 253ms\tremaining: 2.83s\n",
      "82:\tlearn: 0.1107310\ttotal: 254ms\tremaining: 2.81s\n",
      "83:\tlearn: 0.1089449\ttotal: 254ms\tremaining: 2.77s\n",
      "84:\tlearn: 0.1063510\ttotal: 255ms\tremaining: 2.74s\n",
      "85:\tlearn: 0.1048982\ttotal: 255ms\tremaining: 2.71s\n",
      "86:\tlearn: 0.1036356\ttotal: 259ms\tremaining: 2.71s\n",
      "87:\tlearn: 0.1019918\ttotal: 259ms\tremaining: 2.69s\n",
      "88:\tlearn: 0.1006290\ttotal: 260ms\tremaining: 2.66s\n",
      "89:\tlearn: 0.0985192\ttotal: 260ms\tremaining: 2.63s\n",
      "90:\tlearn: 0.0967827\ttotal: 261ms\tremaining: 2.61s\n",
      "91:\tlearn: 0.0948867\ttotal: 262ms\tremaining: 2.59s\n",
      "92:\tlearn: 0.0932816\ttotal: 264ms\tremaining: 2.58s\n",
      "93:\tlearn: 0.0916547\ttotal: 266ms\tremaining: 2.56s\n",
      "94:\tlearn: 0.0900452\ttotal: 267ms\tremaining: 2.54s\n",
      "95:\tlearn: 0.0883902\ttotal: 268ms\tremaining: 2.52s\n",
      "96:\tlearn: 0.0869836\ttotal: 269ms\tremaining: 2.5s\n",
      "97:\tlearn: 0.0861965\ttotal: 271ms\tremaining: 2.49s\n",
      "98:\tlearn: 0.0845133\ttotal: 272ms\tremaining: 2.47s\n",
      "99:\tlearn: 0.0831452\ttotal: 273ms\tremaining: 2.46s\n",
      "100:\tlearn: 0.0819331\ttotal: 275ms\tremaining: 2.44s\n",
      "101:\tlearn: 0.0808046\ttotal: 276ms\tremaining: 2.43s\n",
      "102:\tlearn: 0.0800613\ttotal: 277ms\tremaining: 2.41s\n",
      "103:\tlearn: 0.0788605\ttotal: 278ms\tremaining: 2.4s\n",
      "104:\tlearn: 0.0774986\ttotal: 280ms\tremaining: 2.38s\n",
      "105:\tlearn: 0.0766893\ttotal: 282ms\tremaining: 2.37s\n",
      "106:\tlearn: 0.0760763\ttotal: 283ms\tremaining: 2.36s\n",
      "107:\tlearn: 0.0748662\ttotal: 285ms\tremaining: 2.35s\n",
      "108:\tlearn: 0.0739503\ttotal: 286ms\tremaining: 2.34s\n",
      "109:\tlearn: 0.0728663\ttotal: 287ms\tremaining: 2.32s\n",
      "110:\tlearn: 0.0718390\ttotal: 288ms\tremaining: 2.31s\n",
      "111:\tlearn: 0.0708346\ttotal: 291ms\tremaining: 2.3s\n",
      "112:\tlearn: 0.0702312\ttotal: 292ms\tremaining: 2.29s\n",
      "113:\tlearn: 0.0692105\ttotal: 293ms\tremaining: 2.27s\n",
      "114:\tlearn: 0.0683041\ttotal: 294ms\tremaining: 2.26s\n",
      "115:\tlearn: 0.0675315\ttotal: 295ms\tremaining: 2.25s\n",
      "116:\tlearn: 0.0666880\ttotal: 297ms\tremaining: 2.24s\n",
      "117:\tlearn: 0.0659082\ttotal: 298ms\tremaining: 2.23s\n"
     ]
    },
    {
     "name": "stdout",
     "output_type": "stream",
     "text": [
      "118:\tlearn: 0.0650654\ttotal: 304ms\tremaining: 2.25s\n",
      "119:\tlearn: 0.0642441\ttotal: 305ms\tremaining: 2.24s\n",
      "120:\tlearn: 0.0635956\ttotal: 308ms\tremaining: 2.24s\n",
      "121:\tlearn: 0.0628183\ttotal: 309ms\tremaining: 2.23s\n",
      "122:\tlearn: 0.0624407\ttotal: 311ms\tremaining: 2.21s\n",
      "123:\tlearn: 0.0620822\ttotal: 314ms\tremaining: 2.22s\n",
      "124:\tlearn: 0.0614871\ttotal: 317ms\tremaining: 2.22s\n",
      "125:\tlearn: 0.0609680\ttotal: 319ms\tremaining: 2.21s\n",
      "126:\tlearn: 0.0604669\ttotal: 319ms\tremaining: 2.19s\n"
     ]
    },
    {
     "name": "stdout",
     "output_type": "stream",
     "text": [
      "127:\tlearn: 0.0600884\ttotal: 320ms\tremaining: 2.18s\n",
      "128:\tlearn: 0.0596383\ttotal: 335ms\tremaining: 2.26s\n",
      "129:\tlearn: 0.0593155\ttotal: 337ms\tremaining: 2.25s\n",
      "130:\tlearn: 0.0587650\ttotal: 338ms\tremaining: 2.24s\n",
      "131:\tlearn: 0.0583579\ttotal: 338ms\tremaining: 2.23s\n",
      "132:\tlearn: 0.0580315\ttotal: 339ms\tremaining: 2.21s\n",
      "133:\tlearn: 0.0576268\ttotal: 343ms\tremaining: 2.22s\n",
      "134:\tlearn: 0.0571579\ttotal: 345ms\tremaining: 2.21s\n",
      "135:\tlearn: 0.0566508\ttotal: 347ms\tremaining: 2.2s\n",
      "136:\tlearn: 0.0562040\ttotal: 349ms\tremaining: 2.2s\n",
      "137:\tlearn: 0.0555922\ttotal: 350ms\tremaining: 2.19s\n",
      "138:\tlearn: 0.0553663\ttotal: 353ms\tremaining: 2.19s\n",
      "139:\tlearn: 0.0551452\ttotal: 354ms\tremaining: 2.17s\n",
      "140:\tlearn: 0.0545771\ttotal: 354ms\tremaining: 2.16s\n",
      "141:\tlearn: 0.0542371\ttotal: 357ms\tremaining: 2.15s\n",
      "142:\tlearn: 0.0538729\ttotal: 358ms\tremaining: 2.15s\n",
      "143:\tlearn: 0.0535147\ttotal: 359ms\tremaining: 2.14s\n",
      "144:\tlearn: 0.0532300\ttotal: 360ms\tremaining: 2.12s\n",
      "145:\tlearn: 0.0529281\ttotal: 362ms\tremaining: 2.12s\n",
      "146:\tlearn: 0.0525038\ttotal: 363ms\tremaining: 2.1s\n",
      "147:\tlearn: 0.0520419\ttotal: 364ms\tremaining: 2.09s\n",
      "148:\tlearn: 0.0518309\ttotal: 364ms\tremaining: 2.08s\n",
      "149:\tlearn: 0.0516408\ttotal: 365ms\tremaining: 2.07s\n",
      "150:\tlearn: 0.0513039\ttotal: 366ms\tremaining: 2.06s\n",
      "151:\tlearn: 0.0509155\ttotal: 367ms\tremaining: 2.04s\n",
      "152:\tlearn: 0.0507211\ttotal: 367ms\tremaining: 2.03s\n",
      "153:\tlearn: 0.0503557\ttotal: 368ms\tremaining: 2.02s\n",
      "154:\tlearn: 0.0501410\ttotal: 369ms\tremaining: 2.01s\n",
      "155:\tlearn: 0.0498113\ttotal: 370ms\tremaining: 2s\n",
      "156:\tlearn: 0.0496182\ttotal: 371ms\tremaining: 1.99s\n",
      "157:\tlearn: 0.0493708\ttotal: 373ms\tremaining: 1.99s\n",
      "158:\tlearn: 0.0491508\ttotal: 374ms\tremaining: 1.98s\n",
      "159:\tlearn: 0.0488432\ttotal: 375ms\tremaining: 1.97s\n",
      "160:\tlearn: 0.0485925\ttotal: 376ms\tremaining: 1.96s\n",
      "161:\tlearn: 0.0482861\ttotal: 378ms\tremaining: 1.96s\n",
      "162:\tlearn: 0.0480557\ttotal: 379ms\tremaining: 1.95s\n",
      "163:\tlearn: 0.0477885\ttotal: 381ms\tremaining: 1.94s\n",
      "164:\tlearn: 0.0476052\ttotal: 382ms\tremaining: 1.94s\n",
      "165:\tlearn: 0.0473870\ttotal: 383ms\tremaining: 1.92s\n",
      "166:\tlearn: 0.0471583\ttotal: 384ms\tremaining: 1.91s\n",
      "167:\tlearn: 0.0469897\ttotal: 385ms\tremaining: 1.91s\n",
      "168:\tlearn: 0.0467688\ttotal: 386ms\tremaining: 1.9s\n",
      "169:\tlearn: 0.0465389\ttotal: 388ms\tremaining: 1.89s\n",
      "170:\tlearn: 0.0463945\ttotal: 388ms\tremaining: 1.88s\n",
      "171:\tlearn: 0.0462256\ttotal: 390ms\tremaining: 1.88s\n",
      "172:\tlearn: 0.0460458\ttotal: 391ms\tremaining: 1.87s\n",
      "173:\tlearn: 0.0458714\ttotal: 392ms\tremaining: 1.86s\n",
      "174:\tlearn: 0.0456629\ttotal: 392ms\tremaining: 1.85s\n",
      "175:\tlearn: 0.0454929\ttotal: 394ms\tremaining: 1.84s\n",
      "176:\tlearn: 0.0453284\ttotal: 395ms\tremaining: 1.83s\n",
      "177:\tlearn: 0.0451697\ttotal: 397ms\tremaining: 1.83s\n",
      "178:\tlearn: 0.0449794\ttotal: 397ms\tremaining: 1.82s\n",
      "179:\tlearn: 0.0448182\ttotal: 400ms\tremaining: 1.82s\n",
      "180:\tlearn: 0.0447008\ttotal: 403ms\tremaining: 1.82s\n",
      "181:\tlearn: 0.0445805\ttotal: 405ms\tremaining: 1.82s\n",
      "182:\tlearn: 0.0444261\ttotal: 406ms\tremaining: 1.81s\n",
      "183:\tlearn: 0.0442989\ttotal: 407ms\tremaining: 1.8s\n",
      "184:\tlearn: 0.0441894\ttotal: 410ms\tremaining: 1.8s\n",
      "185:\tlearn: 0.0440819\ttotal: 413ms\tremaining: 1.81s\n",
      "186:\tlearn: 0.0438902\ttotal: 416ms\tremaining: 1.81s\n",
      "187:\tlearn: 0.0437425\ttotal: 417ms\tremaining: 1.8s\n",
      "188:\tlearn: 0.0435680\ttotal: 418ms\tremaining: 1.79s\n",
      "189:\tlearn: 0.0432982\ttotal: 419ms\tremaining: 1.79s\n",
      "190:\tlearn: 0.0431147\ttotal: 421ms\tremaining: 1.78s\n",
      "191:\tlearn: 0.0429834\ttotal: 422ms\tremaining: 1.78s\n",
      "192:\tlearn: 0.0428089\ttotal: 423ms\tremaining: 1.77s\n",
      "193:\tlearn: 0.0426733\ttotal: 424ms\tremaining: 1.76s\n",
      "194:\tlearn: 0.0425557\ttotal: 425ms\tremaining: 1.75s\n",
      "195:\tlearn: 0.0424183\ttotal: 426ms\tremaining: 1.75s\n",
      "196:\tlearn: 0.0422508\ttotal: 431ms\tremaining: 1.75s\n",
      "197:\tlearn: 0.0421318\ttotal: 431ms\tremaining: 1.75s\n",
      "198:\tlearn: 0.0420158\ttotal: 432ms\tremaining: 1.74s\n",
      "199:\tlearn: 0.0418853\ttotal: 432ms\tremaining: 1.73s\n",
      "200:\tlearn: 0.0417912\ttotal: 436ms\tremaining: 1.73s\n",
      "201:\tlearn: 0.0416307\ttotal: 439ms\tremaining: 1.73s\n",
      "202:\tlearn: 0.0414616\ttotal: 440ms\tremaining: 1.73s\n",
      "203:\tlearn: 0.0413689\ttotal: 441ms\tremaining: 1.72s\n",
      "204:\tlearn: 0.0412784\ttotal: 442ms\tremaining: 1.71s\n",
      "205:\tlearn: 0.0411321\ttotal: 443ms\tremaining: 1.71s\n",
      "206:\tlearn: 0.0410148\ttotal: 444ms\tremaining: 1.7s\n"
     ]
    },
    {
     "name": "stdout",
     "output_type": "stream",
     "text": [
      "207:\tlearn: 0.0408987\ttotal: 447ms\tremaining: 1.7s\n",
      "208:\tlearn: 0.0407819\ttotal: 451ms\tremaining: 1.71s\n",
      "209:\tlearn: 0.0406758\ttotal: 453ms\tremaining: 1.7s\n",
      "210:\tlearn: 0.0404302\ttotal: 454ms\tremaining: 1.7s\n",
      "211:\tlearn: 0.0403405\ttotal: 457ms\tremaining: 1.7s\n",
      "212:\tlearn: 0.0402587\ttotal: 457ms\tremaining: 1.69s\n",
      "213:\tlearn: 0.0401947\ttotal: 458ms\tremaining: 1.68s\n",
      "214:\tlearn: 0.0400751\ttotal: 461ms\tremaining: 1.68s\n",
      "215:\tlearn: 0.0400068\ttotal: 463ms\tremaining: 1.68s\n",
      "216:\tlearn: 0.0397978\ttotal: 464ms\tremaining: 1.67s\n",
      "217:\tlearn: 0.0397127\ttotal: 465ms\tremaining: 1.67s\n"
     ]
    },
    {
     "name": "stdout",
     "output_type": "stream",
     "text": [
      "218:\tlearn: 0.0395619\ttotal: 466ms\tremaining: 1.66s\n",
      "219:\tlearn: 0.0394618\ttotal: 468ms\tremaining: 1.66s\n",
      "220:\tlearn: 0.0393509\ttotal: 469ms\tremaining: 1.65s\n",
      "221:\tlearn: 0.0391872\ttotal: 470ms\tremaining: 1.65s\n",
      "222:\tlearn: 0.0390580\ttotal: 472ms\tremaining: 1.64s\n",
      "223:\tlearn: 0.0389625\ttotal: 472ms\tremaining: 1.64s\n",
      "224:\tlearn: 0.0388495\ttotal: 474ms\tremaining: 1.63s\n",
      "225:\tlearn: 0.0387397\ttotal: 475ms\tremaining: 1.63s\n",
      "226:\tlearn: 0.0386776\ttotal: 476ms\tremaining: 1.62s\n",
      "227:\tlearn: 0.0385579\ttotal: 477ms\tremaining: 1.61s\n",
      "228:\tlearn: 0.0385045\ttotal: 478ms\tremaining: 1.61s\n",
      "229:\tlearn: 0.0383956\ttotal: 479ms\tremaining: 1.6s\n",
      "230:\tlearn: 0.0382379\ttotal: 483ms\tremaining: 1.61s\n",
      "231:\tlearn: 0.0381432\ttotal: 484ms\tremaining: 1.6s\n",
      "232:\tlearn: 0.0379240\ttotal: 486ms\tremaining: 1.6s\n",
      "233:\tlearn: 0.0377622\ttotal: 487ms\tremaining: 1.59s\n",
      "234:\tlearn: 0.0375686\ttotal: 488ms\tremaining: 1.59s\n",
      "235:\tlearn: 0.0374825\ttotal: 489ms\tremaining: 1.58s\n",
      "236:\tlearn: 0.0373235\ttotal: 490ms\tremaining: 1.58s\n",
      "237:\tlearn: 0.0372249\ttotal: 492ms\tremaining: 1.57s\n",
      "238:\tlearn: 0.0371561\ttotal: 493ms\tremaining: 1.57s\n",
      "239:\tlearn: 0.0370956\ttotal: 495ms\tremaining: 1.56s\n",
      "240:\tlearn: 0.0370048\ttotal: 496ms\tremaining: 1.56s\n",
      "241:\tlearn: 0.0369097\ttotal: 496ms\tremaining: 1.55s\n",
      "242:\tlearn: 0.0368004\ttotal: 498ms\tremaining: 1.55s\n",
      "243:\tlearn: 0.0366612\ttotal: 499ms\tremaining: 1.55s\n",
      "244:\tlearn: 0.0364774\ttotal: 501ms\tremaining: 1.54s\n",
      "245:\tlearn: 0.0363969\ttotal: 502ms\tremaining: 1.54s\n",
      "246:\tlearn: 0.0363141\ttotal: 503ms\tremaining: 1.53s\n",
      "247:\tlearn: 0.0361851\ttotal: 505ms\tremaining: 1.53s\n",
      "248:\tlearn: 0.0361407\ttotal: 507ms\tremaining: 1.53s\n",
      "249:\tlearn: 0.0359931\ttotal: 508ms\tremaining: 1.52s\n",
      "250:\tlearn: 0.0358992\ttotal: 509ms\tremaining: 1.52s\n",
      "251:\tlearn: 0.0357529\ttotal: 510ms\tremaining: 1.51s\n",
      "252:\tlearn: 0.0356620\ttotal: 511ms\tremaining: 1.51s\n",
      "253:\tlearn: 0.0356143\ttotal: 512ms\tremaining: 1.5s\n",
      "254:\tlearn: 0.0355270\ttotal: 513ms\tremaining: 1.5s\n",
      "255:\tlearn: 0.0354470\ttotal: 513ms\tremaining: 1.49s\n",
      "256:\tlearn: 0.0353252\ttotal: 514ms\tremaining: 1.49s\n",
      "257:\tlearn: 0.0352425\ttotal: 515ms\tremaining: 1.48s\n",
      "258:\tlearn: 0.0350701\ttotal: 515ms\tremaining: 1.47s\n",
      "259:\tlearn: 0.0349925\ttotal: 516ms\tremaining: 1.47s\n",
      "260:\tlearn: 0.0349106\ttotal: 517ms\tremaining: 1.46s\n",
      "261:\tlearn: 0.0348422\ttotal: 518ms\tremaining: 1.46s\n",
      "262:\tlearn: 0.0347629\ttotal: 522ms\tremaining: 1.46s\n",
      "263:\tlearn: 0.0347072\ttotal: 523ms\tremaining: 1.46s\n",
      "264:\tlearn: 0.0345659\ttotal: 524ms\tremaining: 1.45s\n"
     ]
    },
    {
     "name": "stdout",
     "output_type": "stream",
     "text": [
      "265:\tlearn: 0.0344870\ttotal: 532ms\tremaining: 1.47s\n",
      "266:\tlearn: 0.0344233\ttotal: 533ms\tremaining: 1.46s\n",
      "267:\tlearn: 0.0343276\ttotal: 534ms\tremaining: 1.46s\n",
      "268:\tlearn: 0.0342635\ttotal: 535ms\tremaining: 1.45s\n",
      "269:\tlearn: 0.0341876\ttotal: 537ms\tremaining: 1.45s\n",
      "270:\tlearn: 0.0341059\ttotal: 538ms\tremaining: 1.45s\n",
      "271:\tlearn: 0.0340302\ttotal: 539ms\tremaining: 1.44s\n",
      "272:\tlearn: 0.0338811\ttotal: 540ms\tremaining: 1.44s\n",
      "273:\tlearn: 0.0337409\ttotal: 542ms\tremaining: 1.44s\n",
      "274:\tlearn: 0.0336879\ttotal: 544ms\tremaining: 1.43s\n",
      "275:\tlearn: 0.0336184\ttotal: 548ms\tremaining: 1.44s\n",
      "276:\tlearn: 0.0335443\ttotal: 551ms\tremaining: 1.44s\n",
      "277:\tlearn: 0.0334115\ttotal: 553ms\tremaining: 1.44s\n",
      "278:\tlearn: 0.0333058\ttotal: 558ms\tremaining: 1.44s\n",
      "279:\tlearn: 0.0332068\ttotal: 560ms\tremaining: 1.44s\n",
      "280:\tlearn: 0.0331360\ttotal: 560ms\tremaining: 1.43s\n",
      "281:\tlearn: 0.0330638\ttotal: 563ms\tremaining: 1.43s\n",
      "282:\tlearn: 0.0329622\ttotal: 565ms\tremaining: 1.43s\n",
      "283:\tlearn: 0.0328990\ttotal: 567ms\tremaining: 1.43s\n",
      "284:\tlearn: 0.0328496\ttotal: 570ms\tremaining: 1.43s\n",
      "285:\tlearn: 0.0327671\ttotal: 571ms\tremaining: 1.42s\n",
      "286:\tlearn: 0.0326777\ttotal: 571ms\tremaining: 1.42s\n",
      "287:\tlearn: 0.0326358\ttotal: 571ms\tremaining: 1.41s\n",
      "288:\tlearn: 0.0325673\ttotal: 573ms\tremaining: 1.41s\n",
      "289:\tlearn: 0.0325085\ttotal: 573ms\tremaining: 1.4s\n",
      "290:\tlearn: 0.0324447\ttotal: 573ms\tremaining: 1.4s\n",
      "291:\tlearn: 0.0323893\ttotal: 576ms\tremaining: 1.4s\n",
      "292:\tlearn: 0.0323031\ttotal: 579ms\tremaining: 1.4s\n",
      "293:\tlearn: 0.0322198\ttotal: 580ms\tremaining: 1.39s\n",
      "294:\tlearn: 0.0321084\ttotal: 581ms\tremaining: 1.39s\n",
      "295:\tlearn: 0.0320443\ttotal: 582ms\tremaining: 1.38s\n",
      "296:\tlearn: 0.0319574\ttotal: 583ms\tremaining: 1.38s\n",
      "297:\tlearn: 0.0318801\ttotal: 585ms\tremaining: 1.38s\n",
      "298:\tlearn: 0.0318090\ttotal: 586ms\tremaining: 1.37s\n",
      "299:\tlearn: 0.0317603\ttotal: 588ms\tremaining: 1.37s\n",
      "300:\tlearn: 0.0316803\ttotal: 589ms\tremaining: 1.37s\n",
      "301:\tlearn: 0.0316366\ttotal: 590ms\tremaining: 1.36s\n",
      "302:\tlearn: 0.0315804\ttotal: 591ms\tremaining: 1.36s\n",
      "303:\tlearn: 0.0314436\ttotal: 593ms\tremaining: 1.36s\n",
      "304:\tlearn: 0.0313592\ttotal: 594ms\tremaining: 1.35s\n",
      "305:\tlearn: 0.0312635\ttotal: 596ms\tremaining: 1.35s\n",
      "306:\tlearn: 0.0311703\ttotal: 598ms\tremaining: 1.35s\n",
      "307:\tlearn: 0.0311023\ttotal: 598ms\tremaining: 1.34s\n",
      "308:\tlearn: 0.0310506\ttotal: 599ms\tremaining: 1.34s\n",
      "309:\tlearn: 0.0309623\ttotal: 601ms\tremaining: 1.34s\n",
      "310:\tlearn: 0.0308822\ttotal: 602ms\tremaining: 1.33s\n",
      "311:\tlearn: 0.0308174\ttotal: 604ms\tremaining: 1.33s\n",
      "312:\tlearn: 0.0307677\ttotal: 604ms\tremaining: 1.32s\n",
      "313:\tlearn: 0.0307274\ttotal: 604ms\tremaining: 1.32s\n",
      "314:\tlearn: 0.0306762\ttotal: 605ms\tremaining: 1.31s\n",
      "315:\tlearn: 0.0306295\ttotal: 606ms\tremaining: 1.31s\n",
      "316:\tlearn: 0.0305696\ttotal: 607ms\tremaining: 1.31s\n",
      "317:\tlearn: 0.0305194\ttotal: 608ms\tremaining: 1.3s\n",
      "318:\tlearn: 0.0304576\ttotal: 609ms\tremaining: 1.3s\n",
      "319:\tlearn: 0.0304100\ttotal: 610ms\tremaining: 1.29s\n",
      "320:\tlearn: 0.0303646\ttotal: 611ms\tremaining: 1.29s\n",
      "321:\tlearn: 0.0302830\ttotal: 614ms\tremaining: 1.29s\n",
      "322:\tlearn: 0.0302028\ttotal: 614ms\tremaining: 1.29s\n",
      "323:\tlearn: 0.0301341\ttotal: 614ms\tremaining: 1.28s\n",
      "324:\tlearn: 0.0300913\ttotal: 614ms\tremaining: 1.28s\n",
      "325:\tlearn: 0.0300632\ttotal: 618ms\tremaining: 1.28s\n",
      "326:\tlearn: 0.0299511\ttotal: 619ms\tremaining: 1.27s\n",
      "327:\tlearn: 0.0298783\ttotal: 620ms\tremaining: 1.27s\n",
      "328:\tlearn: 0.0298079\ttotal: 621ms\tremaining: 1.27s\n",
      "329:\tlearn: 0.0297433\ttotal: 622ms\tremaining: 1.26s\n",
      "330:\tlearn: 0.0296775\ttotal: 623ms\tremaining: 1.26s\n",
      "331:\tlearn: 0.0296357\ttotal: 623ms\tremaining: 1.25s\n",
      "332:\tlearn: 0.0295785\ttotal: 624ms\tremaining: 1.25s\n",
      "333:\tlearn: 0.0294940\ttotal: 625ms\tremaining: 1.25s\n",
      "334:\tlearn: 0.0294402\ttotal: 626ms\tremaining: 1.24s\n",
      "335:\tlearn: 0.0293624\ttotal: 627ms\tremaining: 1.24s\n",
      "336:\tlearn: 0.0292791\ttotal: 628ms\tremaining: 1.24s\n",
      "337:\tlearn: 0.0292558\ttotal: 629ms\tremaining: 1.23s\n",
      "338:\tlearn: 0.0292007\ttotal: 630ms\tremaining: 1.23s\n",
      "339:\tlearn: 0.0291596\ttotal: 631ms\tremaining: 1.23s\n",
      "340:\tlearn: 0.0290845\ttotal: 632ms\tremaining: 1.22s\n",
      "341:\tlearn: 0.0290310\ttotal: 632ms\tremaining: 1.22s\n",
      "342:\tlearn: 0.0289919\ttotal: 633ms\tremaining: 1.21s\n",
      "343:\tlearn: 0.0288783\ttotal: 634ms\tremaining: 1.21s\n",
      "344:\tlearn: 0.0288272\ttotal: 634ms\tremaining: 1.2s\n",
      "345:\tlearn: 0.0287658\ttotal: 635ms\tremaining: 1.2s\n",
      "346:\tlearn: 0.0287054\ttotal: 636ms\tremaining: 1.2s\n",
      "347:\tlearn: 0.0286746\ttotal: 636ms\tremaining: 1.19s\n",
      "348:\tlearn: 0.0286247\ttotal: 637ms\tremaining: 1.19s\n",
      "349:\tlearn: 0.0285650\ttotal: 638ms\tremaining: 1.18s\n",
      "350:\tlearn: 0.0285164\ttotal: 638ms\tremaining: 1.18s\n",
      "351:\tlearn: 0.0284874\ttotal: 639ms\tremaining: 1.18s\n",
      "352:\tlearn: 0.0284274\ttotal: 640ms\tremaining: 1.17s\n",
      "353:\tlearn: 0.0283583\ttotal: 641ms\tremaining: 1.17s\n",
      "354:\tlearn: 0.0283073\ttotal: 642ms\tremaining: 1.17s\n",
      "355:\tlearn: 0.0282407\ttotal: 643ms\tremaining: 1.16s\n",
      "356:\tlearn: 0.0282011\ttotal: 644ms\tremaining: 1.16s\n",
      "357:\tlearn: 0.0281053\ttotal: 646ms\tremaining: 1.16s\n",
      "358:\tlearn: 0.0280587\ttotal: 647ms\tremaining: 1.15s\n",
      "359:\tlearn: 0.0279587\ttotal: 647ms\tremaining: 1.15s\n",
      "360:\tlearn: 0.0278902\ttotal: 648ms\tremaining: 1.15s\n",
      "361:\tlearn: 0.0278490\ttotal: 649ms\tremaining: 1.14s\n",
      "362:\tlearn: 0.0277422\ttotal: 650ms\tremaining: 1.14s\n",
      "363:\tlearn: 0.0276882\ttotal: 652ms\tremaining: 1.14s\n",
      "364:\tlearn: 0.0276371\ttotal: 653ms\tremaining: 1.14s\n",
      "365:\tlearn: 0.0275758\ttotal: 653ms\tremaining: 1.13s\n",
      "366:\tlearn: 0.0275117\ttotal: 655ms\tremaining: 1.13s\n"
     ]
    },
    {
     "name": "stdout",
     "output_type": "stream",
     "text": [
      "367:\tlearn: 0.0274641\ttotal: 656ms\tremaining: 1.13s\n",
      "368:\tlearn: 0.0274108\ttotal: 657ms\tremaining: 1.12s\n",
      "369:\tlearn: 0.0273104\ttotal: 659ms\tremaining: 1.12s\n",
      "370:\tlearn: 0.0272758\ttotal: 660ms\tremaining: 1.12s\n",
      "371:\tlearn: 0.0271932\ttotal: 661ms\tremaining: 1.11s\n",
      "372:\tlearn: 0.0271379\ttotal: 662ms\tremaining: 1.11s\n",
      "373:\tlearn: 0.0270542\ttotal: 663ms\tremaining: 1.11s\n",
      "374:\tlearn: 0.0270088\ttotal: 664ms\tremaining: 1.1s\n",
      "375:\tlearn: 0.0269705\ttotal: 664ms\tremaining: 1.1s\n",
      "376:\tlearn: 0.0269328\ttotal: 665ms\tremaining: 1.1s\n",
      "377:\tlearn: 0.0268636\ttotal: 666ms\tremaining: 1.1s\n",
      "378:\tlearn: 0.0268289\ttotal: 667ms\tremaining: 1.09s\n",
      "379:\tlearn: 0.0268042\ttotal: 668ms\tremaining: 1.09s\n",
      "380:\tlearn: 0.0267532\ttotal: 669ms\tremaining: 1.09s\n",
      "381:\tlearn: 0.0267078\ttotal: 670ms\tremaining: 1.08s\n",
      "382:\tlearn: 0.0266417\ttotal: 671ms\tremaining: 1.08s\n",
      "383:\tlearn: 0.0265782\ttotal: 671ms\tremaining: 1.08s\n",
      "384:\tlearn: 0.0265330\ttotal: 672ms\tremaining: 1.07s\n",
      "385:\tlearn: 0.0264900\ttotal: 673ms\tremaining: 1.07s\n",
      "386:\tlearn: 0.0264453\ttotal: 674ms\tremaining: 1.07s\n",
      "387:\tlearn: 0.0263708\ttotal: 675ms\tremaining: 1.06s\n",
      "388:\tlearn: 0.0263251\ttotal: 676ms\tremaining: 1.06s\n",
      "389:\tlearn: 0.0262643\ttotal: 676ms\tremaining: 1.06s\n",
      "390:\tlearn: 0.0262072\ttotal: 678ms\tremaining: 1.05s\n",
      "391:\tlearn: 0.0261524\ttotal: 679ms\tremaining: 1.05s\n",
      "392:\tlearn: 0.0261044\ttotal: 679ms\tremaining: 1.05s\n",
      "393:\tlearn: 0.0260700\ttotal: 680ms\tremaining: 1.05s\n",
      "394:\tlearn: 0.0260306\ttotal: 682ms\tremaining: 1.04s\n",
      "395:\tlearn: 0.0259731\ttotal: 683ms\tremaining: 1.04s\n",
      "396:\tlearn: 0.0259501\ttotal: 683ms\tremaining: 1.04s\n",
      "397:\tlearn: 0.0259181\ttotal: 684ms\tremaining: 1.03s\n",
      "398:\tlearn: 0.0258858\ttotal: 685ms\tremaining: 1.03s\n",
      "399:\tlearn: 0.0258287\ttotal: 686ms\tremaining: 1.03s\n",
      "400:\tlearn: 0.0257984\ttotal: 688ms\tremaining: 1.03s\n",
      "401:\tlearn: 0.0257675\ttotal: 689ms\tremaining: 1.02s\n",
      "402:\tlearn: 0.0257283\ttotal: 690ms\tremaining: 1.02s\n",
      "403:\tlearn: 0.0256905\ttotal: 692ms\tremaining: 1.02s\n",
      "404:\tlearn: 0.0256423\ttotal: 693ms\tremaining: 1.02s\n",
      "405:\tlearn: 0.0255979\ttotal: 693ms\tremaining: 1.01s\n",
      "406:\tlearn: 0.0255416\ttotal: 694ms\tremaining: 1.01s\n",
      "407:\tlearn: 0.0254919\ttotal: 695ms\tremaining: 1.01s\n",
      "408:\tlearn: 0.0254543\ttotal: 696ms\tremaining: 1s\n",
      "409:\tlearn: 0.0254046\ttotal: 697ms\tremaining: 1s\n",
      "410:\tlearn: 0.0253689\ttotal: 698ms\tremaining: 1s\n",
      "411:\tlearn: 0.0253465\ttotal: 699ms\tremaining: 998ms\n",
      "412:\tlearn: 0.0252998\ttotal: 700ms\tremaining: 996ms\n",
      "413:\tlearn: 0.0252129\ttotal: 702ms\tremaining: 993ms\n",
      "414:\tlearn: 0.0251685\ttotal: 703ms\tremaining: 991ms\n",
      "415:\tlearn: 0.0251261\ttotal: 704ms\tremaining: 988ms\n",
      "416:\tlearn: 0.0250975\ttotal: 705ms\tremaining: 986ms\n",
      "417:\tlearn: 0.0250781\ttotal: 706ms\tremaining: 983ms\n",
      "418:\tlearn: 0.0249956\ttotal: 707ms\tremaining: 981ms\n",
      "419:\tlearn: 0.0249517\ttotal: 708ms\tremaining: 977ms\n",
      "420:\tlearn: 0.0249198\ttotal: 709ms\tremaining: 975ms\n",
      "421:\tlearn: 0.0248899\ttotal: 710ms\tremaining: 973ms\n",
      "422:\tlearn: 0.0248482\ttotal: 712ms\tremaining: 971ms\n",
      "423:\tlearn: 0.0247699\ttotal: 713ms\tremaining: 968ms\n",
      "424:\tlearn: 0.0247434\ttotal: 714ms\tremaining: 966ms\n",
      "425:\tlearn: 0.0247044\ttotal: 714ms\tremaining: 962ms\n",
      "426:\tlearn: 0.0246631\ttotal: 714ms\tremaining: 959ms\n",
      "427:\tlearn: 0.0246410\ttotal: 715ms\tremaining: 955ms\n",
      "428:\tlearn: 0.0246128\ttotal: 716ms\tremaining: 952ms\n",
      "429:\tlearn: 0.0245858\ttotal: 716ms\tremaining: 949ms\n",
      "430:\tlearn: 0.0245342\ttotal: 717ms\tremaining: 946ms\n",
      "431:\tlearn: 0.0244964\ttotal: 717ms\tremaining: 943ms\n",
      "432:\tlearn: 0.0244660\ttotal: 718ms\tremaining: 940ms\n",
      "433:\tlearn: 0.0244300\ttotal: 720ms\tremaining: 939ms\n",
      "434:\tlearn: 0.0243777\ttotal: 722ms\tremaining: 937ms\n",
      "435:\tlearn: 0.0243582\ttotal: 723ms\tremaining: 935ms\n",
      "436:\tlearn: 0.0243237\ttotal: 724ms\tremaining: 933ms\n",
      "437:\tlearn: 0.0242885\ttotal: 726ms\tremaining: 931ms\n",
      "438:\tlearn: 0.0242696\ttotal: 726ms\tremaining: 928ms\n",
      "439:\tlearn: 0.0242209\ttotal: 728ms\tremaining: 926ms\n",
      "440:\tlearn: 0.0241815\ttotal: 728ms\tremaining: 923ms\n",
      "441:\tlearn: 0.0241484\ttotal: 729ms\tremaining: 921ms\n",
      "442:\tlearn: 0.0241244\ttotal: 730ms\tremaining: 917ms\n",
      "443:\tlearn: 0.0240572\ttotal: 730ms\tremaining: 915ms\n",
      "444:\tlearn: 0.0240242\ttotal: 731ms\tremaining: 912ms\n",
      "445:\tlearn: 0.0240068\ttotal: 732ms\tremaining: 909ms\n",
      "446:\tlearn: 0.0239766\ttotal: 732ms\tremaining: 906ms\n",
      "447:\tlearn: 0.0239450\ttotal: 733ms\tremaining: 903ms\n",
      "448:\tlearn: 0.0239142\ttotal: 733ms\tremaining: 900ms\n",
      "449:\tlearn: 0.0238957\ttotal: 734ms\tremaining: 897ms\n",
      "450:\tlearn: 0.0238489\ttotal: 735ms\tremaining: 894ms\n",
      "451:\tlearn: 0.0238265\ttotal: 735ms\tremaining: 891ms\n",
      "452:\tlearn: 0.0237998\ttotal: 736ms\tremaining: 889ms\n",
      "453:\tlearn: 0.0237556\ttotal: 737ms\tremaining: 887ms\n",
      "454:\tlearn: 0.0237125\ttotal: 738ms\tremaining: 884ms\n",
      "455:\tlearn: 0.0236819\ttotal: 739ms\tremaining: 882ms\n",
      "456:\tlearn: 0.0236384\ttotal: 740ms\tremaining: 879ms\n",
      "457:\tlearn: 0.0235967\ttotal: 741ms\tremaining: 877ms\n",
      "458:\tlearn: 0.0235473\ttotal: 743ms\tremaining: 876ms\n",
      "459:\tlearn: 0.0235186\ttotal: 744ms\tremaining: 873ms\n",
      "460:\tlearn: 0.0234922\ttotal: 745ms\tremaining: 871ms\n",
      "461:\tlearn: 0.0234579\ttotal: 745ms\tremaining: 868ms\n",
      "462:\tlearn: 0.0234349\ttotal: 746ms\tremaining: 865ms\n",
      "463:\tlearn: 0.0234028\ttotal: 746ms\tremaining: 862ms\n",
      "464:\tlearn: 0.0233763\ttotal: 747ms\tremaining: 859ms\n",
      "465:\tlearn: 0.0233537\ttotal: 748ms\tremaining: 857ms\n",
      "466:\tlearn: 0.0232804\ttotal: 749ms\tremaining: 854ms\n",
      "467:\tlearn: 0.0232417\ttotal: 749ms\tremaining: 851ms\n",
      "468:\tlearn: 0.0232001\ttotal: 750ms\tremaining: 849ms\n",
      "469:\tlearn: 0.0231890\ttotal: 751ms\tremaining: 846ms\n",
      "470:\tlearn: 0.0231716\ttotal: 751ms\tremaining: 844ms\n",
      "471:\tlearn: 0.0231504\ttotal: 752ms\tremaining: 841ms\n",
      "472:\tlearn: 0.0231038\ttotal: 752ms\tremaining: 838ms\n",
      "473:\tlearn: 0.0230738\ttotal: 753ms\tremaining: 835ms\n",
      "474:\tlearn: 0.0230575\ttotal: 753ms\tremaining: 833ms\n",
      "475:\tlearn: 0.0229874\ttotal: 754ms\tremaining: 830ms\n",
      "476:\tlearn: 0.0229708\ttotal: 754ms\tremaining: 827ms\n",
      "477:\tlearn: 0.0229314\ttotal: 755ms\tremaining: 825ms\n",
      "478:\tlearn: 0.0228894\ttotal: 756ms\tremaining: 822ms\n",
      "479:\tlearn: 0.0228529\ttotal: 756ms\tremaining: 819ms\n",
      "480:\tlearn: 0.0228367\ttotal: 757ms\tremaining: 817ms\n",
      "481:\tlearn: 0.0228210\ttotal: 757ms\tremaining: 814ms\n",
      "482:\tlearn: 0.0228061\ttotal: 758ms\tremaining: 811ms\n",
      "483:\tlearn: 0.0227598\ttotal: 758ms\tremaining: 808ms\n",
      "484:\tlearn: 0.0227192\ttotal: 759ms\tremaining: 806ms\n",
      "485:\tlearn: 0.0226988\ttotal: 759ms\tremaining: 803ms\n",
      "486:\tlearn: 0.0226730\ttotal: 760ms\tremaining: 800ms\n",
      "487:\tlearn: 0.0226579\ttotal: 760ms\tremaining: 798ms\n",
      "488:\tlearn: 0.0226379\ttotal: 761ms\tremaining: 795ms\n",
      "489:\tlearn: 0.0226093\ttotal: 762ms\tremaining: 793ms\n",
      "490:\tlearn: 0.0225824\ttotal: 762ms\tremaining: 790ms\n",
      "491:\tlearn: 0.0225504\ttotal: 763ms\tremaining: 788ms\n",
      "492:\tlearn: 0.0225313\ttotal: 764ms\tremaining: 786ms\n",
      "493:\tlearn: 0.0224976\ttotal: 765ms\tremaining: 783ms\n",
      "494:\tlearn: 0.0224761\ttotal: 765ms\tremaining: 781ms\n",
      "495:\tlearn: 0.0224376\ttotal: 766ms\tremaining: 778ms\n",
      "496:\tlearn: 0.0224242\ttotal: 767ms\tremaining: 776ms\n",
      "497:\tlearn: 0.0223954\ttotal: 767ms\tremaining: 774ms\n",
      "498:\tlearn: 0.0223727\ttotal: 768ms\tremaining: 771ms\n",
      "499:\tlearn: 0.0223298\ttotal: 769ms\tremaining: 769ms\n",
      "500:\tlearn: 0.0222964\ttotal: 770ms\tremaining: 767ms\n",
      "501:\tlearn: 0.0222616\ttotal: 771ms\tremaining: 764ms\n",
      "502:\tlearn: 0.0222354\ttotal: 771ms\tremaining: 762ms\n",
      "503:\tlearn: 0.0222029\ttotal: 771ms\tremaining: 759ms\n",
      "504:\tlearn: 0.0221862\ttotal: 772ms\tremaining: 757ms\n",
      "505:\tlearn: 0.0221652\ttotal: 772ms\tremaining: 754ms\n",
      "506:\tlearn: 0.0221491\ttotal: 773ms\tremaining: 752ms\n",
      "507:\tlearn: 0.0221316\ttotal: 773ms\tremaining: 749ms\n",
      "508:\tlearn: 0.0221182\ttotal: 774ms\tremaining: 747ms\n",
      "509:\tlearn: 0.0220519\ttotal: 775ms\tremaining: 744ms\n",
      "510:\tlearn: 0.0220388\ttotal: 775ms\tremaining: 742ms\n",
      "511:\tlearn: 0.0220118\ttotal: 775ms\tremaining: 739ms\n",
      "512:\tlearn: 0.0219989\ttotal: 776ms\tremaining: 737ms\n",
      "513:\tlearn: 0.0219587\ttotal: 777ms\tremaining: 735ms\n",
      "514:\tlearn: 0.0219351\ttotal: 777ms\tremaining: 732ms\n",
      "515:\tlearn: 0.0219246\ttotal: 778ms\tremaining: 730ms\n",
      "516:\tlearn: 0.0218883\ttotal: 779ms\tremaining: 727ms\n",
      "517:\tlearn: 0.0218559\ttotal: 779ms\tremaining: 725ms\n",
      "518:\tlearn: 0.0218364\ttotal: 780ms\tremaining: 723ms\n",
      "519:\tlearn: 0.0218014\ttotal: 781ms\tremaining: 720ms\n",
      "520:\tlearn: 0.0217896\ttotal: 781ms\tremaining: 718ms\n",
      "521:\tlearn: 0.0217674\ttotal: 782ms\tremaining: 716ms\n",
      "522:\tlearn: 0.0217549\ttotal: 782ms\tremaining: 713ms\n",
      "523:\tlearn: 0.0217428\ttotal: 783ms\tremaining: 711ms\n",
      "524:\tlearn: 0.0217298\ttotal: 783ms\tremaining: 709ms\n",
      "525:\tlearn: 0.0216735\ttotal: 784ms\tremaining: 706ms\n",
      "526:\tlearn: 0.0216638\ttotal: 784ms\tremaining: 704ms\n",
      "527:\tlearn: 0.0216395\ttotal: 785ms\tremaining: 702ms\n",
      "528:\tlearn: 0.0216172\ttotal: 785ms\tremaining: 699ms\n",
      "529:\tlearn: 0.0215965\ttotal: 786ms\tremaining: 697ms\n",
      "530:\tlearn: 0.0215852\ttotal: 786ms\tremaining: 695ms\n",
      "531:\tlearn: 0.0215431\ttotal: 787ms\tremaining: 692ms\n",
      "532:\tlearn: 0.0215173\ttotal: 787ms\tremaining: 690ms\n",
      "533:\tlearn: 0.0214925\ttotal: 787ms\tremaining: 687ms\n",
      "534:\tlearn: 0.0214356\ttotal: 789ms\tremaining: 686ms\n",
      "535:\tlearn: 0.0213743\ttotal: 789ms\tremaining: 683ms\n",
      "536:\tlearn: 0.0213562\ttotal: 790ms\tremaining: 681ms\n",
      "537:\tlearn: 0.0213169\ttotal: 790ms\tremaining: 679ms\n",
      "538:\tlearn: 0.0213055\ttotal: 791ms\tremaining: 676ms\n",
      "539:\tlearn: 0.0212864\ttotal: 791ms\tremaining: 674ms\n",
      "540:\tlearn: 0.0212530\ttotal: 792ms\tremaining: 672ms\n",
      "541:\tlearn: 0.0212445\ttotal: 793ms\tremaining: 670ms\n",
      "542:\tlearn: 0.0212201\ttotal: 793ms\tremaining: 667ms\n",
      "543:\tlearn: 0.0212097\ttotal: 794ms\tremaining: 665ms\n",
      "544:\tlearn: 0.0211900\ttotal: 794ms\tremaining: 663ms\n",
      "545:\tlearn: 0.0211620\ttotal: 794ms\tremaining: 661ms\n",
      "546:\tlearn: 0.0211275\ttotal: 795ms\tremaining: 658ms\n",
      "547:\tlearn: 0.0210953\ttotal: 795ms\tremaining: 656ms\n",
      "548:\tlearn: 0.0210819\ttotal: 796ms\tremaining: 654ms\n",
      "549:\tlearn: 0.0210520\ttotal: 796ms\tremaining: 651ms\n",
      "550:\tlearn: 0.0210002\ttotal: 796ms\tremaining: 649ms\n",
      "551:\tlearn: 0.0209861\ttotal: 797ms\tremaining: 646ms\n",
      "552:\tlearn: 0.0209745\ttotal: 797ms\tremaining: 645ms\n",
      "553:\tlearn: 0.0209546\ttotal: 798ms\tremaining: 642ms\n",
      "554:\tlearn: 0.0209287\ttotal: 798ms\tremaining: 640ms\n",
      "555:\tlearn: 0.0209087\ttotal: 799ms\tremaining: 638ms\n",
      "556:\tlearn: 0.0208785\ttotal: 799ms\tremaining: 636ms\n",
      "557:\tlearn: 0.0208671\ttotal: 800ms\tremaining: 634ms\n",
      "558:\tlearn: 0.0208361\ttotal: 801ms\tremaining: 632ms\n",
      "559:\tlearn: 0.0208075\ttotal: 801ms\tremaining: 629ms\n",
      "560:\tlearn: 0.0207963\ttotal: 801ms\tremaining: 627ms\n",
      "561:\tlearn: 0.0207703\ttotal: 802ms\tremaining: 625ms\n",
      "562:\tlearn: 0.0207468\ttotal: 802ms\tremaining: 623ms\n"
     ]
    },
    {
     "name": "stdout",
     "output_type": "stream",
     "text": [
      "563:\tlearn: 0.0207162\ttotal: 803ms\tremaining: 621ms\n",
      "564:\tlearn: 0.0206946\ttotal: 803ms\tremaining: 618ms\n",
      "565:\tlearn: 0.0206837\ttotal: 804ms\tremaining: 616ms\n",
      "566:\tlearn: 0.0206714\ttotal: 807ms\tremaining: 616ms\n",
      "567:\tlearn: 0.0206467\ttotal: 807ms\tremaining: 614ms\n",
      "568:\tlearn: 0.0206261\ttotal: 808ms\tremaining: 612ms\n",
      "569:\tlearn: 0.0206017\ttotal: 809ms\tremaining: 610ms\n",
      "570:\tlearn: 0.0205779\ttotal: 809ms\tremaining: 608ms\n",
      "571:\tlearn: 0.0205599\ttotal: 810ms\tremaining: 606ms\n",
      "572:\tlearn: 0.0205452\ttotal: 810ms\tremaining: 604ms\n",
      "573:\tlearn: 0.0205039\ttotal: 811ms\tremaining: 602ms\n",
      "574:\tlearn: 0.0204765\ttotal: 812ms\tremaining: 600ms\n",
      "575:\tlearn: 0.0204534\ttotal: 812ms\tremaining: 598ms\n",
      "576:\tlearn: 0.0204300\ttotal: 813ms\tremaining: 596ms\n",
      "577:\tlearn: 0.0204194\ttotal: 813ms\tremaining: 594ms\n",
      "578:\tlearn: 0.0203880\ttotal: 813ms\tremaining: 591ms\n",
      "579:\tlearn: 0.0203714\ttotal: 814ms\tremaining: 589ms\n",
      "580:\tlearn: 0.0203500\ttotal: 814ms\tremaining: 587ms\n",
      "581:\tlearn: 0.0203279\ttotal: 815ms\tremaining: 585ms\n",
      "582:\tlearn: 0.0203080\ttotal: 816ms\tremaining: 583ms\n",
      "583:\tlearn: 0.0202810\ttotal: 816ms\tremaining: 581ms\n",
      "584:\tlearn: 0.0202605\ttotal: 816ms\tremaining: 579ms\n",
      "585:\tlearn: 0.0202387\ttotal: 817ms\tremaining: 577ms\n",
      "586:\tlearn: 0.0202191\ttotal: 817ms\tremaining: 575ms\n",
      "587:\tlearn: 0.0201978\ttotal: 817ms\tremaining: 573ms\n",
      "588:\tlearn: 0.0201862\ttotal: 818ms\tremaining: 571ms\n",
      "589:\tlearn: 0.0201665\ttotal: 818ms\tremaining: 569ms\n",
      "590:\tlearn: 0.0201470\ttotal: 819ms\tremaining: 567ms\n",
      "591:\tlearn: 0.0201189\ttotal: 819ms\tremaining: 565ms\n",
      "592:\tlearn: 0.0201032\ttotal: 820ms\tremaining: 563ms\n",
      "593:\tlearn: 0.0200771\ttotal: 820ms\tremaining: 561ms\n",
      "594:\tlearn: 0.0200611\ttotal: 822ms\tremaining: 559ms\n",
      "595:\tlearn: 0.0200360\ttotal: 823ms\tremaining: 558ms\n",
      "596:\tlearn: 0.0200269\ttotal: 824ms\tremaining: 556ms\n",
      "597:\tlearn: 0.0200180\ttotal: 824ms\tremaining: 554ms\n",
      "598:\tlearn: 0.0200002\ttotal: 825ms\tremaining: 552ms\n",
      "599:\tlearn: 0.0199813\ttotal: 826ms\tremaining: 551ms\n",
      "600:\tlearn: 0.0199654\ttotal: 827ms\tremaining: 549ms\n",
      "601:\tlearn: 0.0199543\ttotal: 827ms\tremaining: 547ms\n",
      "602:\tlearn: 0.0199384\ttotal: 829ms\tremaining: 546ms\n",
      "603:\tlearn: 0.0199182\ttotal: 830ms\tremaining: 544ms\n",
      "604:\tlearn: 0.0199082\ttotal: 830ms\tremaining: 542ms\n",
      "605:\tlearn: 0.0198943\ttotal: 831ms\tremaining: 540ms\n",
      "606:\tlearn: 0.0198736\ttotal: 832ms\tremaining: 539ms\n",
      "607:\tlearn: 0.0198495\ttotal: 833ms\tremaining: 537ms\n",
      "608:\tlearn: 0.0198386\ttotal: 834ms\tremaining: 535ms\n",
      "609:\tlearn: 0.0198296\ttotal: 834ms\tremaining: 533ms\n",
      "610:\tlearn: 0.0198119\ttotal: 835ms\tremaining: 531ms\n",
      "611:\tlearn: 0.0197945\ttotal: 836ms\tremaining: 530ms\n",
      "612:\tlearn: 0.0197825\ttotal: 837ms\tremaining: 528ms\n",
      "613:\tlearn: 0.0197561\ttotal: 837ms\tremaining: 526ms\n",
      "614:\tlearn: 0.0197245\ttotal: 838ms\tremaining: 525ms\n",
      "615:\tlearn: 0.0197131\ttotal: 838ms\tremaining: 523ms\n",
      "616:\tlearn: 0.0196563\ttotal: 839ms\tremaining: 521ms\n",
      "617:\tlearn: 0.0196368\ttotal: 840ms\tremaining: 519ms\n",
      "618:\tlearn: 0.0196070\ttotal: 840ms\tremaining: 517ms\n",
      "619:\tlearn: 0.0195853\ttotal: 841ms\tremaining: 516ms\n",
      "620:\tlearn: 0.0195735\ttotal: 842ms\tremaining: 514ms\n",
      "621:\tlearn: 0.0195329\ttotal: 842ms\tremaining: 512ms\n",
      "622:\tlearn: 0.0195193\ttotal: 843ms\tremaining: 510ms\n",
      "623:\tlearn: 0.0195000\ttotal: 843ms\tremaining: 508ms\n",
      "624:\tlearn: 0.0194606\ttotal: 844ms\tremaining: 507ms\n",
      "625:\tlearn: 0.0194521\ttotal: 845ms\tremaining: 505ms\n",
      "626:\tlearn: 0.0194231\ttotal: 845ms\tremaining: 503ms\n",
      "627:\tlearn: 0.0194065\ttotal: 846ms\tremaining: 501ms\n",
      "628:\tlearn: 0.0193870\ttotal: 846ms\tremaining: 499ms\n",
      "629:\tlearn: 0.0193502\ttotal: 847ms\tremaining: 497ms\n",
      "630:\tlearn: 0.0193314\ttotal: 847ms\tremaining: 496ms\n",
      "631:\tlearn: 0.0193111\ttotal: 848ms\tremaining: 494ms\n",
      "632:\tlearn: 0.0192580\ttotal: 848ms\tremaining: 492ms\n",
      "633:\tlearn: 0.0192351\ttotal: 849ms\tremaining: 490ms\n",
      "634:\tlearn: 0.0192169\ttotal: 850ms\tremaining: 488ms\n",
      "635:\tlearn: 0.0191992\ttotal: 850ms\tremaining: 486ms\n",
      "636:\tlearn: 0.0191798\ttotal: 850ms\tremaining: 485ms\n",
      "637:\tlearn: 0.0191645\ttotal: 851ms\tremaining: 483ms\n",
      "638:\tlearn: 0.0191514\ttotal: 852ms\tremaining: 481ms\n",
      "639:\tlearn: 0.0191226\ttotal: 852ms\tremaining: 479ms\n",
      "640:\tlearn: 0.0191130\ttotal: 853ms\tremaining: 478ms\n",
      "641:\tlearn: 0.0190949\ttotal: 853ms\tremaining: 476ms\n",
      "642:\tlearn: 0.0190762\ttotal: 854ms\tremaining: 474ms\n",
      "643:\tlearn: 0.0190582\ttotal: 855ms\tremaining: 472ms\n",
      "644:\tlearn: 0.0190326\ttotal: 855ms\tremaining: 471ms\n",
      "645:\tlearn: 0.0190154\ttotal: 856ms\tremaining: 469ms\n",
      "646:\tlearn: 0.0190029\ttotal: 856ms\tremaining: 467ms\n",
      "647:\tlearn: 0.0189884\ttotal: 857ms\tremaining: 465ms\n",
      "648:\tlearn: 0.0189631\ttotal: 857ms\tremaining: 464ms\n",
      "649:\tlearn: 0.0189362\ttotal: 858ms\tremaining: 462ms\n",
      "650:\tlearn: 0.0189184\ttotal: 858ms\tremaining: 460ms\n",
      "651:\tlearn: 0.0188918\ttotal: 859ms\tremaining: 458ms\n",
      "652:\tlearn: 0.0188740\ttotal: 859ms\tremaining: 457ms\n",
      "653:\tlearn: 0.0188597\ttotal: 860ms\tremaining: 455ms\n",
      "654:\tlearn: 0.0188454\ttotal: 861ms\tremaining: 453ms\n",
      "655:\tlearn: 0.0188293\ttotal: 862ms\tremaining: 452ms\n",
      "656:\tlearn: 0.0188133\ttotal: 862ms\tremaining: 450ms\n",
      "657:\tlearn: 0.0187964\ttotal: 863ms\tremaining: 448ms\n",
      "658:\tlearn: 0.0187762\ttotal: 863ms\tremaining: 447ms\n",
      "659:\tlearn: 0.0187588\ttotal: 864ms\tremaining: 445ms\n",
      "660:\tlearn: 0.0187417\ttotal: 865ms\tremaining: 444ms\n",
      "661:\tlearn: 0.0187141\ttotal: 865ms\tremaining: 442ms\n",
      "662:\tlearn: 0.0187038\ttotal: 866ms\tremaining: 440ms\n",
      "663:\tlearn: 0.0186940\ttotal: 866ms\tremaining: 438ms\n",
      "664:\tlearn: 0.0186780\ttotal: 868ms\tremaining: 437ms\n",
      "665:\tlearn: 0.0186696\ttotal: 869ms\tremaining: 436ms\n",
      "666:\tlearn: 0.0186532\ttotal: 870ms\tremaining: 434ms\n",
      "667:\tlearn: 0.0186400\ttotal: 871ms\tremaining: 433ms\n",
      "668:\tlearn: 0.0186254\ttotal: 873ms\tremaining: 432ms\n",
      "669:\tlearn: 0.0186068\ttotal: 873ms\tremaining: 430ms\n",
      "670:\tlearn: 0.0185904\ttotal: 873ms\tremaining: 428ms\n",
      "671:\tlearn: 0.0185747\ttotal: 874ms\tremaining: 427ms\n",
      "672:\tlearn: 0.0185499\ttotal: 875ms\tremaining: 425ms\n",
      "673:\tlearn: 0.0185341\ttotal: 877ms\tremaining: 424ms\n",
      "674:\tlearn: 0.0185104\ttotal: 878ms\tremaining: 423ms\n",
      "675:\tlearn: 0.0184994\ttotal: 878ms\tremaining: 421ms\n",
      "676:\tlearn: 0.0184943\ttotal: 879ms\tremaining: 420ms\n",
      "677:\tlearn: 0.0184759\ttotal: 880ms\tremaining: 418ms\n",
      "678:\tlearn: 0.0184545\ttotal: 881ms\tremaining: 416ms\n",
      "679:\tlearn: 0.0184265\ttotal: 881ms\tremaining: 415ms\n",
      "680:\tlearn: 0.0184087\ttotal: 882ms\tremaining: 413ms\n",
      "681:\tlearn: 0.0183959\ttotal: 883ms\tremaining: 412ms\n",
      "682:\tlearn: 0.0183746\ttotal: 883ms\tremaining: 410ms\n",
      "683:\tlearn: 0.0183507\ttotal: 884ms\tremaining: 408ms\n",
      "684:\tlearn: 0.0183330\ttotal: 885ms\tremaining: 407ms\n",
      "685:\tlearn: 0.0183257\ttotal: 886ms\tremaining: 405ms\n",
      "686:\tlearn: 0.0183151\ttotal: 887ms\tremaining: 404ms\n",
      "687:\tlearn: 0.0183077\ttotal: 887ms\tremaining: 402ms\n",
      "688:\tlearn: 0.0182774\ttotal: 888ms\tremaining: 401ms\n",
      "689:\tlearn: 0.0182691\ttotal: 889ms\tremaining: 399ms\n",
      "690:\tlearn: 0.0182558\ttotal: 890ms\tremaining: 398ms\n",
      "691:\tlearn: 0.0182447\ttotal: 890ms\tremaining: 396ms\n",
      "692:\tlearn: 0.0182255\ttotal: 890ms\tremaining: 394ms\n",
      "693:\tlearn: 0.0182113\ttotal: 892ms\tremaining: 393ms\n",
      "694:\tlearn: 0.0181885\ttotal: 892ms\tremaining: 391ms\n",
      "695:\tlearn: 0.0181789\ttotal: 892ms\tremaining: 390ms\n",
      "696:\tlearn: 0.0181539\ttotal: 895ms\tremaining: 389ms\n",
      "697:\tlearn: 0.0181348\ttotal: 896ms\tremaining: 388ms\n",
      "698:\tlearn: 0.0181192\ttotal: 897ms\tremaining: 386ms\n",
      "699:\tlearn: 0.0180899\ttotal: 897ms\tremaining: 385ms\n",
      "700:\tlearn: 0.0180789\ttotal: 898ms\tremaining: 383ms\n",
      "701:\tlearn: 0.0180636\ttotal: 898ms\tremaining: 381ms\n",
      "702:\tlearn: 0.0180567\ttotal: 899ms\tremaining: 380ms\n",
      "703:\tlearn: 0.0180339\ttotal: 900ms\tremaining: 378ms\n",
      "704:\tlearn: 0.0180036\ttotal: 900ms\tremaining: 377ms\n",
      "705:\tlearn: 0.0179933\ttotal: 901ms\tremaining: 375ms\n",
      "706:\tlearn: 0.0179836\ttotal: 902ms\tremaining: 374ms\n",
      "707:\tlearn: 0.0179730\ttotal: 903ms\tremaining: 372ms\n",
      "708:\tlearn: 0.0179586\ttotal: 904ms\tremaining: 371ms\n",
      "709:\tlearn: 0.0179380\ttotal: 904ms\tremaining: 369ms\n",
      "710:\tlearn: 0.0179236\ttotal: 905ms\tremaining: 368ms\n",
      "711:\tlearn: 0.0179098\ttotal: 907ms\tremaining: 367ms\n",
      "712:\tlearn: 0.0178986\ttotal: 909ms\tremaining: 366ms\n",
      "713:\tlearn: 0.0178885\ttotal: 911ms\tremaining: 365ms\n",
      "714:\tlearn: 0.0178694\ttotal: 914ms\tremaining: 364ms\n",
      "715:\tlearn: 0.0178542\ttotal: 933ms\tremaining: 370ms\n",
      "716:\tlearn: 0.0178393\ttotal: 933ms\tremaining: 368ms\n",
      "717:\tlearn: 0.0178328\ttotal: 934ms\tremaining: 367ms\n",
      "718:\tlearn: 0.0177990\ttotal: 934ms\tremaining: 365ms\n",
      "719:\tlearn: 0.0177892\ttotal: 935ms\tremaining: 364ms\n"
     ]
    },
    {
     "name": "stdout",
     "output_type": "stream",
     "text": [
      "720:\tlearn: 0.0177699\ttotal: 937ms\tremaining: 362ms\n",
      "721:\tlearn: 0.0177624\ttotal: 937ms\tremaining: 361ms\n",
      "722:\tlearn: 0.0177530\ttotal: 938ms\tremaining: 359ms\n",
      "723:\tlearn: 0.0177235\ttotal: 938ms\tremaining: 358ms\n",
      "724:\tlearn: 0.0176899\ttotal: 939ms\tremaining: 356ms\n",
      "725:\tlearn: 0.0176665\ttotal: 939ms\tremaining: 354ms\n",
      "726:\tlearn: 0.0176518\ttotal: 940ms\tremaining: 353ms\n",
      "727:\tlearn: 0.0176307\ttotal: 940ms\tremaining: 351ms\n",
      "728:\tlearn: 0.0176145\ttotal: 942ms\tremaining: 350ms\n",
      "729:\tlearn: 0.0176010\ttotal: 942ms\tremaining: 348ms\n",
      "730:\tlearn: 0.0175758\ttotal: 945ms\tremaining: 348ms\n",
      "731:\tlearn: 0.0175696\ttotal: 946ms\tremaining: 346ms\n",
      "732:\tlearn: 0.0175451\ttotal: 947ms\tremaining: 345ms\n",
      "733:\tlearn: 0.0175275\ttotal: 948ms\tremaining: 344ms\n",
      "734:\tlearn: 0.0175080\ttotal: 949ms\tremaining: 342ms\n",
      "735:\tlearn: 0.0174794\ttotal: 951ms\tremaining: 341ms\n",
      "736:\tlearn: 0.0174703\ttotal: 952ms\tremaining: 340ms\n",
      "737:\tlearn: 0.0174649\ttotal: 952ms\tremaining: 338ms\n",
      "738:\tlearn: 0.0174563\ttotal: 953ms\tremaining: 337ms\n",
      "739:\tlearn: 0.0174502\ttotal: 953ms\tremaining: 335ms\n",
      "740:\tlearn: 0.0174343\ttotal: 954ms\tremaining: 334ms\n",
      "741:\tlearn: 0.0174213\ttotal: 957ms\tremaining: 333ms\n",
      "742:\tlearn: 0.0174067\ttotal: 958ms\tremaining: 331ms\n",
      "743:\tlearn: 0.0173929\ttotal: 958ms\tremaining: 330ms\n",
      "744:\tlearn: 0.0173806\ttotal: 959ms\tremaining: 328ms\n",
      "745:\tlearn: 0.0173754\ttotal: 960ms\tremaining: 327ms\n",
      "746:\tlearn: 0.0173592\ttotal: 960ms\tremaining: 325ms\n",
      "747:\tlearn: 0.0173530\ttotal: 961ms\tremaining: 324ms\n",
      "748:\tlearn: 0.0173332\ttotal: 961ms\tremaining: 322ms\n",
      "749:\tlearn: 0.0173198\ttotal: 963ms\tremaining: 321ms\n",
      "750:\tlearn: 0.0173104\ttotal: 963ms\tremaining: 319ms\n",
      "751:\tlearn: 0.0172979\ttotal: 964ms\tremaining: 318ms\n",
      "752:\tlearn: 0.0172793\ttotal: 965ms\tremaining: 316ms\n",
      "753:\tlearn: 0.0172653\ttotal: 965ms\tremaining: 315ms\n",
      "754:\tlearn: 0.0172555\ttotal: 966ms\tremaining: 313ms\n",
      "755:\tlearn: 0.0172447\ttotal: 966ms\tremaining: 312ms\n",
      "756:\tlearn: 0.0172310\ttotal: 967ms\tremaining: 310ms\n",
      "757:\tlearn: 0.0172113\ttotal: 967ms\tremaining: 309ms\n",
      "758:\tlearn: 0.0172033\ttotal: 968ms\tremaining: 308ms\n",
      "759:\tlearn: 0.0171796\ttotal: 969ms\tremaining: 306ms\n",
      "760:\tlearn: 0.0171671\ttotal: 969ms\tremaining: 304ms\n",
      "761:\tlearn: 0.0171463\ttotal: 970ms\tremaining: 303ms\n",
      "762:\tlearn: 0.0171379\ttotal: 971ms\tremaining: 302ms\n",
      "763:\tlearn: 0.0171244\ttotal: 971ms\tremaining: 300ms\n",
      "764:\tlearn: 0.0171065\ttotal: 972ms\tremaining: 299ms\n",
      "765:\tlearn: 0.0170890\ttotal: 972ms\tremaining: 297ms\n",
      "766:\tlearn: 0.0170761\ttotal: 973ms\tremaining: 296ms\n",
      "767:\tlearn: 0.0170664\ttotal: 973ms\tremaining: 294ms\n",
      "768:\tlearn: 0.0170467\ttotal: 974ms\tremaining: 293ms\n",
      "769:\tlearn: 0.0170351\ttotal: 975ms\tremaining: 291ms\n",
      "770:\tlearn: 0.0170215\ttotal: 975ms\tremaining: 290ms\n",
      "771:\tlearn: 0.0170085\ttotal: 976ms\tremaining: 288ms\n",
      "772:\tlearn: 0.0169870\ttotal: 977ms\tremaining: 287ms\n",
      "773:\tlearn: 0.0169677\ttotal: 977ms\tremaining: 285ms\n",
      "774:\tlearn: 0.0169555\ttotal: 977ms\tremaining: 284ms\n",
      "775:\tlearn: 0.0169427\ttotal: 978ms\tremaining: 282ms\n",
      "776:\tlearn: 0.0169303\ttotal: 979ms\tremaining: 281ms\n",
      "777:\tlearn: 0.0168977\ttotal: 979ms\tremaining: 279ms\n",
      "778:\tlearn: 0.0168872\ttotal: 980ms\tremaining: 278ms\n",
      "779:\tlearn: 0.0168730\ttotal: 980ms\tremaining: 277ms\n",
      "780:\tlearn: 0.0168643\ttotal: 981ms\tremaining: 275ms\n",
      "781:\tlearn: 0.0168452\ttotal: 981ms\tremaining: 274ms\n",
      "782:\tlearn: 0.0168398\ttotal: 982ms\tremaining: 272ms\n",
      "783:\tlearn: 0.0168277\ttotal: 982ms\tremaining: 271ms\n",
      "784:\tlearn: 0.0168181\ttotal: 983ms\tremaining: 269ms\n",
      "785:\tlearn: 0.0167947\ttotal: 984ms\tremaining: 268ms\n",
      "786:\tlearn: 0.0167778\ttotal: 984ms\tremaining: 266ms\n",
      "787:\tlearn: 0.0167665\ttotal: 985ms\tremaining: 265ms\n",
      "788:\tlearn: 0.0167545\ttotal: 985ms\tremaining: 263ms\n",
      "789:\tlearn: 0.0167480\ttotal: 986ms\tremaining: 262ms\n",
      "790:\tlearn: 0.0167387\ttotal: 987ms\tremaining: 261ms\n",
      "791:\tlearn: 0.0167297\ttotal: 987ms\tremaining: 259ms\n",
      "792:\tlearn: 0.0167138\ttotal: 988ms\tremaining: 258ms\n",
      "793:\tlearn: 0.0167006\ttotal: 988ms\tremaining: 256ms\n",
      "794:\tlearn: 0.0166965\ttotal: 989ms\tremaining: 255ms\n",
      "795:\tlearn: 0.0166841\ttotal: 989ms\tremaining: 254ms\n",
      "796:\tlearn: 0.0166632\ttotal: 990ms\tremaining: 252ms\n",
      "797:\tlearn: 0.0166442\ttotal: 990ms\tremaining: 251ms\n",
      "798:\tlearn: 0.0166345\ttotal: 991ms\tremaining: 249ms\n",
      "799:\tlearn: 0.0166227\ttotal: 992ms\tremaining: 248ms\n",
      "800:\tlearn: 0.0166121\ttotal: 992ms\tremaining: 246ms\n",
      "801:\tlearn: 0.0166000\ttotal: 993ms\tremaining: 245ms\n",
      "802:\tlearn: 0.0165900\ttotal: 993ms\tremaining: 244ms\n",
      "803:\tlearn: 0.0165799\ttotal: 994ms\tremaining: 242ms\n",
      "804:\tlearn: 0.0165691\ttotal: 995ms\tremaining: 241ms\n",
      "805:\tlearn: 0.0165584\ttotal: 996ms\tremaining: 240ms\n",
      "806:\tlearn: 0.0165533\ttotal: 997ms\tremaining: 239ms\n",
      "807:\tlearn: 0.0165420\ttotal: 998ms\tremaining: 237ms\n",
      "808:\tlearn: 0.0165261\ttotal: 1s\tremaining: 236ms\n",
      "809:\tlearn: 0.0165031\ttotal: 1s\tremaining: 235ms\n",
      "810:\tlearn: 0.0164995\ttotal: 1s\tremaining: 234ms\n",
      "811:\tlearn: 0.0164900\ttotal: 1s\tremaining: 232ms\n",
      "812:\tlearn: 0.0164782\ttotal: 1s\tremaining: 231ms\n",
      "813:\tlearn: 0.0164680\ttotal: 1s\tremaining: 230ms\n",
      "814:\tlearn: 0.0164420\ttotal: 1s\tremaining: 228ms\n",
      "815:\tlearn: 0.0164340\ttotal: 1.01s\tremaining: 227ms\n",
      "816:\tlearn: 0.0163928\ttotal: 1.01s\tremaining: 226ms\n",
      "817:\tlearn: 0.0163616\ttotal: 1.01s\tremaining: 224ms\n",
      "818:\tlearn: 0.0163432\ttotal: 1.01s\tremaining: 223ms\n",
      "819:\tlearn: 0.0163191\ttotal: 1.01s\tremaining: 222ms\n",
      "820:\tlearn: 0.0163136\ttotal: 1.01s\tremaining: 220ms\n",
      "821:\tlearn: 0.0162987\ttotal: 1.01s\tremaining: 219ms\n",
      "822:\tlearn: 0.0162854\ttotal: 1.01s\tremaining: 217ms\n",
      "823:\tlearn: 0.0162741\ttotal: 1.01s\tremaining: 216ms\n",
      "824:\tlearn: 0.0162655\ttotal: 1.01s\tremaining: 215ms\n",
      "825:\tlearn: 0.0162593\ttotal: 1.01s\tremaining: 213ms\n",
      "826:\tlearn: 0.0162502\ttotal: 1.01s\tremaining: 212ms\n",
      "827:\tlearn: 0.0162381\ttotal: 1.01s\tremaining: 210ms\n",
      "828:\tlearn: 0.0162133\ttotal: 1.01s\tremaining: 209ms\n",
      "829:\tlearn: 0.0162023\ttotal: 1.01s\tremaining: 208ms\n",
      "830:\tlearn: 0.0161904\ttotal: 1.01s\tremaining: 206ms\n",
      "831:\tlearn: 0.0161821\ttotal: 1.01s\tremaining: 205ms\n",
      "832:\tlearn: 0.0161740\ttotal: 1.01s\tremaining: 204ms\n",
      "833:\tlearn: 0.0161693\ttotal: 1.02s\tremaining: 202ms\n",
      "834:\tlearn: 0.0161608\ttotal: 1.02s\tremaining: 201ms\n",
      "835:\tlearn: 0.0161342\ttotal: 1.02s\tremaining: 200ms\n",
      "836:\tlearn: 0.0161191\ttotal: 1.02s\tremaining: 198ms\n",
      "837:\tlearn: 0.0160978\ttotal: 1.02s\tremaining: 197ms\n",
      "838:\tlearn: 0.0160772\ttotal: 1.02s\tremaining: 196ms\n",
      "839:\tlearn: 0.0160696\ttotal: 1.02s\tremaining: 194ms\n",
      "840:\tlearn: 0.0160621\ttotal: 1.02s\tremaining: 193ms\n",
      "841:\tlearn: 0.0160383\ttotal: 1.02s\tremaining: 192ms\n",
      "842:\tlearn: 0.0160224\ttotal: 1.02s\tremaining: 190ms\n",
      "843:\tlearn: 0.0160191\ttotal: 1.02s\tremaining: 189ms\n",
      "844:\tlearn: 0.0159942\ttotal: 1.02s\tremaining: 188ms\n",
      "845:\tlearn: 0.0159794\ttotal: 1.02s\tremaining: 186ms\n",
      "846:\tlearn: 0.0159463\ttotal: 1.02s\tremaining: 185ms\n",
      "847:\tlearn: 0.0159398\ttotal: 1.02s\tremaining: 184ms\n",
      "848:\tlearn: 0.0159302\ttotal: 1.02s\tremaining: 182ms\n",
      "849:\tlearn: 0.0159219\ttotal: 1.02s\tremaining: 181ms\n",
      "850:\tlearn: 0.0159119\ttotal: 1.03s\tremaining: 180ms\n",
      "851:\tlearn: 0.0158985\ttotal: 1.03s\tremaining: 178ms\n",
      "852:\tlearn: 0.0158833\ttotal: 1.03s\tremaining: 177ms\n",
      "853:\tlearn: 0.0158771\ttotal: 1.03s\tremaining: 176ms\n",
      "854:\tlearn: 0.0158595\ttotal: 1.03s\tremaining: 174ms\n",
      "855:\tlearn: 0.0158422\ttotal: 1.03s\tremaining: 173ms\n",
      "856:\tlearn: 0.0158267\ttotal: 1.03s\tremaining: 172ms\n",
      "857:\tlearn: 0.0158118\ttotal: 1.03s\tremaining: 171ms\n",
      "858:\tlearn: 0.0157962\ttotal: 1.03s\tremaining: 169ms\n",
      "859:\tlearn: 0.0157828\ttotal: 1.03s\tremaining: 168ms\n",
      "860:\tlearn: 0.0157725\ttotal: 1.03s\tremaining: 167ms\n",
      "861:\tlearn: 0.0157625\ttotal: 1.03s\tremaining: 165ms\n",
      "862:\tlearn: 0.0157592\ttotal: 1.03s\tremaining: 164ms\n",
      "863:\tlearn: 0.0157205\ttotal: 1.03s\tremaining: 163ms\n",
      "864:\tlearn: 0.0157152\ttotal: 1.03s\tremaining: 161ms\n",
      "865:\tlearn: 0.0157052\ttotal: 1.03s\tremaining: 160ms\n",
      "866:\tlearn: 0.0156902\ttotal: 1.03s\tremaining: 159ms\n",
      "867:\tlearn: 0.0156675\ttotal: 1.03s\tremaining: 157ms\n",
      "868:\tlearn: 0.0156539\ttotal: 1.03s\tremaining: 156ms\n",
      "869:\tlearn: 0.0156398\ttotal: 1.03s\tremaining: 155ms\n",
      "870:\tlearn: 0.0156335\ttotal: 1.03s\tremaining: 153ms\n",
      "871:\tlearn: 0.0156226\ttotal: 1.04s\tremaining: 152ms\n",
      "872:\tlearn: 0.0156033\ttotal: 1.04s\tremaining: 151ms\n",
      "873:\tlearn: 0.0155939\ttotal: 1.04s\tremaining: 150ms\n",
      "874:\tlearn: 0.0155846\ttotal: 1.04s\tremaining: 148ms\n",
      "875:\tlearn: 0.0155756\ttotal: 1.04s\tremaining: 147ms\n",
      "876:\tlearn: 0.0155557\ttotal: 1.04s\tremaining: 146ms\n",
      "877:\tlearn: 0.0155413\ttotal: 1.04s\tremaining: 144ms\n",
      "878:\tlearn: 0.0155337\ttotal: 1.04s\tremaining: 143ms\n",
      "879:\tlearn: 0.0155204\ttotal: 1.04s\tremaining: 142ms\n",
      "880:\tlearn: 0.0155141\ttotal: 1.04s\tremaining: 141ms\n",
      "881:\tlearn: 0.0155020\ttotal: 1.04s\tremaining: 139ms\n",
      "882:\tlearn: 0.0154924\ttotal: 1.04s\tremaining: 138ms\n",
      "883:\tlearn: 0.0154831\ttotal: 1.04s\tremaining: 137ms\n",
      "884:\tlearn: 0.0154663\ttotal: 1.04s\tremaining: 136ms\n",
      "885:\tlearn: 0.0154483\ttotal: 1.04s\tremaining: 134ms\n",
      "886:\tlearn: 0.0154181\ttotal: 1.04s\tremaining: 133ms\n",
      "887:\tlearn: 0.0154079\ttotal: 1.04s\tremaining: 132ms\n",
      "888:\tlearn: 0.0154029\ttotal: 1.04s\tremaining: 130ms\n",
      "889:\tlearn: 0.0153965\ttotal: 1.04s\tremaining: 129ms\n",
      "890:\tlearn: 0.0153789\ttotal: 1.05s\tremaining: 128ms\n",
      "891:\tlearn: 0.0153688\ttotal: 1.05s\tremaining: 127ms\n",
      "892:\tlearn: 0.0153542\ttotal: 1.05s\tremaining: 125ms\n",
      "893:\tlearn: 0.0153421\ttotal: 1.05s\tremaining: 124ms\n",
      "894:\tlearn: 0.0153321\ttotal: 1.05s\tremaining: 123ms\n",
      "895:\tlearn: 0.0153234\ttotal: 1.05s\tremaining: 122ms\n",
      "896:\tlearn: 0.0153167\ttotal: 1.05s\tremaining: 120ms\n",
      "897:\tlearn: 0.0152964\ttotal: 1.05s\tremaining: 119ms\n",
      "898:\tlearn: 0.0152887\ttotal: 1.05s\tremaining: 118ms\n",
      "899:\tlearn: 0.0152783\ttotal: 1.05s\tremaining: 117ms\n",
      "900:\tlearn: 0.0152576\ttotal: 1.05s\tremaining: 116ms\n",
      "901:\tlearn: 0.0152491\ttotal: 1.05s\tremaining: 114ms\n",
      "902:\tlearn: 0.0152402\ttotal: 1.05s\tremaining: 113ms\n",
      "903:\tlearn: 0.0152319\ttotal: 1.05s\tremaining: 112ms\n",
      "904:\tlearn: 0.0152170\ttotal: 1.05s\tremaining: 111ms\n",
      "905:\tlearn: 0.0152000\ttotal: 1.05s\tremaining: 109ms\n",
      "906:\tlearn: 0.0151848\ttotal: 1.05s\tremaining: 108ms\n",
      "907:\tlearn: 0.0151646\ttotal: 1.05s\tremaining: 107ms\n",
      "908:\tlearn: 0.0151449\ttotal: 1.05s\tremaining: 106ms\n",
      "909:\tlearn: 0.0151331\ttotal: 1.05s\tremaining: 104ms\n",
      "910:\tlearn: 0.0151112\ttotal: 1.06s\tremaining: 103ms\n",
      "911:\tlearn: 0.0151051\ttotal: 1.06s\tremaining: 102ms\n",
      "912:\tlearn: 0.0150911\ttotal: 1.06s\tremaining: 101ms\n",
      "913:\tlearn: 0.0150686\ttotal: 1.06s\tremaining: 99.5ms\n"
     ]
    },
    {
     "name": "stdout",
     "output_type": "stream",
     "text": [
      "914:\tlearn: 0.0150494\ttotal: 1.06s\tremaining: 98.4ms\n",
      "915:\tlearn: 0.0150367\ttotal: 1.06s\tremaining: 97.2ms\n",
      "916:\tlearn: 0.0150339\ttotal: 1.06s\tremaining: 96ms\n",
      "917:\tlearn: 0.0150258\ttotal: 1.06s\tremaining: 94.8ms\n",
      "918:\tlearn: 0.0150088\ttotal: 1.06s\tremaining: 93.6ms\n",
      "919:\tlearn: 0.0150006\ttotal: 1.06s\tremaining: 92.4ms\n",
      "920:\tlearn: 0.0149821\ttotal: 1.06s\tremaining: 91.2ms\n",
      "921:\tlearn: 0.0149703\ttotal: 1.06s\tremaining: 90ms\n",
      "922:\tlearn: 0.0149595\ttotal: 1.06s\tremaining: 88.8ms\n",
      "923:\tlearn: 0.0149514\ttotal: 1.06s\tremaining: 87.6ms\n",
      "924:\tlearn: 0.0149436\ttotal: 1.06s\tremaining: 86.3ms\n",
      "925:\tlearn: 0.0149287\ttotal: 1.06s\tremaining: 85.1ms\n",
      "926:\tlearn: 0.0149216\ttotal: 1.06s\tremaining: 83.9ms\n",
      "927:\tlearn: 0.0149139\ttotal: 1.06s\tremaining: 82.7ms\n",
      "928:\tlearn: 0.0149048\ttotal: 1.07s\tremaining: 81.5ms\n",
      "929:\tlearn: 0.0148980\ttotal: 1.07s\tremaining: 80.3ms\n",
      "930:\tlearn: 0.0148915\ttotal: 1.07s\tremaining: 79.1ms\n",
      "931:\tlearn: 0.0148819\ttotal: 1.07s\tremaining: 77.9ms\n",
      "932:\tlearn: 0.0148617\ttotal: 1.07s\tremaining: 76.7ms\n",
      "933:\tlearn: 0.0148503\ttotal: 1.07s\tremaining: 75.6ms\n",
      "934:\tlearn: 0.0148346\ttotal: 1.07s\tremaining: 74.4ms\n",
      "935:\tlearn: 0.0148233\ttotal: 1.07s\tremaining: 73.2ms\n",
      "936:\tlearn: 0.0148097\ttotal: 1.07s\tremaining: 72ms\n",
      "937:\tlearn: 0.0147943\ttotal: 1.07s\tremaining: 70.8ms\n",
      "938:\tlearn: 0.0147751\ttotal: 1.07s\tremaining: 69.7ms\n",
      "939:\tlearn: 0.0147652\ttotal: 1.07s\tremaining: 68.5ms\n",
      "940:\tlearn: 0.0147550\ttotal: 1.07s\tremaining: 67.3ms\n",
      "941:\tlearn: 0.0147431\ttotal: 1.07s\tremaining: 66.2ms\n",
      "942:\tlearn: 0.0147342\ttotal: 1.07s\tremaining: 65ms\n",
      "943:\tlearn: 0.0147236\ttotal: 1.07s\tremaining: 63.8ms\n",
      "944:\tlearn: 0.0147042\ttotal: 1.07s\tremaining: 62.6ms\n",
      "945:\tlearn: 0.0146951\ttotal: 1.07s\tremaining: 61.4ms\n",
      "946:\tlearn: 0.0146869\ttotal: 1.08s\tremaining: 60.2ms\n",
      "947:\tlearn: 0.0146756\ttotal: 1.08s\tremaining: 59.1ms\n",
      "948:\tlearn: 0.0146603\ttotal: 1.08s\tremaining: 57.9ms\n",
      "949:\tlearn: 0.0146558\ttotal: 1.08s\tremaining: 56.7ms\n",
      "950:\tlearn: 0.0146449\ttotal: 1.08s\tremaining: 55.6ms\n",
      "951:\tlearn: 0.0146326\ttotal: 1.08s\tremaining: 54.4ms\n",
      "952:\tlearn: 0.0146270\ttotal: 1.08s\tremaining: 53.3ms\n",
      "953:\tlearn: 0.0146214\ttotal: 1.08s\tremaining: 52.1ms\n",
      "954:\tlearn: 0.0146124\ttotal: 1.08s\tremaining: 50.9ms\n",
      "955:\tlearn: 0.0146038\ttotal: 1.08s\tremaining: 49.8ms\n",
      "956:\tlearn: 0.0145918\ttotal: 1.08s\tremaining: 48.6ms\n",
      "957:\tlearn: 0.0145739\ttotal: 1.08s\tremaining: 47.5ms\n",
      "958:\tlearn: 0.0145601\ttotal: 1.08s\tremaining: 46.3ms\n",
      "959:\tlearn: 0.0145527\ttotal: 1.08s\tremaining: 45.2ms\n",
      "960:\tlearn: 0.0145433\ttotal: 1.08s\tremaining: 44ms\n",
      "961:\tlearn: 0.0145373\ttotal: 1.08s\tremaining: 42.8ms\n",
      "962:\tlearn: 0.0145306\ttotal: 1.08s\tremaining: 41.7ms\n",
      "963:\tlearn: 0.0145199\ttotal: 1.08s\tremaining: 40.6ms\n",
      "964:\tlearn: 0.0145171\ttotal: 1.09s\tremaining: 39.4ms\n",
      "965:\tlearn: 0.0145098\ttotal: 1.09s\tremaining: 38.3ms\n",
      "966:\tlearn: 0.0145027\ttotal: 1.09s\tremaining: 37.1ms\n",
      "967:\tlearn: 0.0144941\ttotal: 1.09s\tremaining: 36ms\n",
      "968:\tlearn: 0.0144872\ttotal: 1.09s\tremaining: 34.8ms\n",
      "969:\tlearn: 0.0144793\ttotal: 1.09s\tremaining: 33.7ms\n",
      "970:\tlearn: 0.0144614\ttotal: 1.09s\tremaining: 32.5ms\n",
      "971:\tlearn: 0.0144503\ttotal: 1.09s\tremaining: 31.4ms\n",
      "972:\tlearn: 0.0144335\ttotal: 1.09s\tremaining: 30.3ms\n",
      "973:\tlearn: 0.0144218\ttotal: 1.09s\tremaining: 29.1ms\n",
      "974:\tlearn: 0.0144137\ttotal: 1.09s\tremaining: 28ms\n",
      "975:\tlearn: 0.0143982\ttotal: 1.09s\tremaining: 26.9ms\n",
      "976:\tlearn: 0.0143837\ttotal: 1.09s\tremaining: 25.8ms\n",
      "977:\tlearn: 0.0143750\ttotal: 1.09s\tremaining: 24.6ms\n",
      "978:\tlearn: 0.0143668\ttotal: 1.09s\tremaining: 23.5ms\n",
      "979:\tlearn: 0.0143462\ttotal: 1.1s\tremaining: 22.4ms\n",
      "980:\tlearn: 0.0143305\ttotal: 1.1s\tremaining: 21.3ms\n",
      "981:\tlearn: 0.0143264\ttotal: 1.1s\tremaining: 20.1ms\n",
      "982:\tlearn: 0.0143125\ttotal: 1.1s\tremaining: 19ms\n",
      "983:\tlearn: 0.0142992\ttotal: 1.1s\tremaining: 17.9ms\n",
      "984:\tlearn: 0.0142828\ttotal: 1.1s\tremaining: 16.8ms\n",
      "985:\tlearn: 0.0142766\ttotal: 1.1s\tremaining: 15.6ms\n",
      "986:\tlearn: 0.0142697\ttotal: 1.1s\tremaining: 14.5ms\n",
      "987:\tlearn: 0.0142576\ttotal: 1.1s\tremaining: 13.4ms\n",
      "988:\tlearn: 0.0142509\ttotal: 1.1s\tremaining: 12.3ms\n",
      "989:\tlearn: 0.0142443\ttotal: 1.1s\tremaining: 11.1ms\n",
      "990:\tlearn: 0.0142378\ttotal: 1.1s\tremaining: 10ms\n",
      "991:\tlearn: 0.0142299\ttotal: 1.1s\tremaining: 8.89ms\n",
      "992:\tlearn: 0.0142166\ttotal: 1.1s\tremaining: 7.77ms\n",
      "993:\tlearn: 0.0142074\ttotal: 1.1s\tremaining: 6.66ms\n",
      "994:\tlearn: 0.0142008\ttotal: 1.1s\tremaining: 5.55ms\n",
      "995:\tlearn: 0.0141929\ttotal: 1.1s\tremaining: 4.44ms\n",
      "996:\tlearn: 0.0141777\ttotal: 1.1s\tremaining: 3.33ms\n",
      "997:\tlearn: 0.0141576\ttotal: 1.1s\tremaining: 2.21ms\n",
      "998:\tlearn: 0.0141514\ttotal: 1.11s\tremaining: 1.11ms\n",
      "999:\tlearn: 0.0141453\ttotal: 1.11s\tremaining: 0us\n"
     ]
    },
    {
     "data": {
      "text/plain": [
       "<catboost.core.CatBoostRegressor at 0x7fc1136e3be0>"
      ]
     },
     "execution_count": 9,
     "metadata": {},
     "output_type": "execute_result"
    }
   ],
   "source": [
    "#Train the Model \n",
    "prior_model = ctb.CatBoostRegressor()\n",
    "prior_model.fit(X_train,Y_train)"
   ]
  },
  {
   "cell_type": "code",
   "execution_count": 10,
   "id": "af65dcda",
   "metadata": {
    "execution": {
     "iopub.execute_input": "2022-07-24T14:37:25.813399Z",
     "iopub.status.busy": "2022-07-24T14:37:25.812579Z",
     "iopub.status.idle": "2022-07-24T14:37:25.939283Z",
     "shell.execute_reply": "2022-07-24T14:37:25.932341Z"
    },
    "id": "af65dcda",
    "papermill": {
     "duration": 0.149389,
     "end_time": "2022-07-24T14:37:25.947614",
     "exception": false,
     "start_time": "2022-07-24T14:37:25.798225",
     "status": "completed"
    },
    "tags": []
   },
   "outputs": [
    {
     "data": {
      "application/scrapbook.scrap.json+json": {
       "data": 0.0006563629253016564,
       "encoder": "json",
       "name": "Prior Model MSE",
       "version": 1
      }
     },
     "metadata": {
      "scrapbook": {
       "data": true,
       "display": false,
       "name": "Prior Model MSE"
      }
     },
     "output_type": "display_data"
    },
    {
     "data": {
      "application/scrapbook.scrap.json+json": {
       "data": 1.0209153966912212,
       "encoder": "json",
       "name": "ABC Pre-generator MSE",
       "version": 1
      }
     },
     "metadata": {
      "scrapbook": {
       "data": true,
       "display": false,
       "name": "ABC Pre-generator MSE"
      }
     },
     "output_type": "display_data"
    },
    {
     "data": {
      "application/scrapbook.scrap.json+json": {
       "data": 0.01846815957571439,
       "encoder": "json",
       "name": "Prior Model MAE",
       "version": 1
      }
     },
     "metadata": {
      "scrapbook": {
       "data": true,
       "display": false,
       "name": "Prior Model MAE"
      }
     },
     "output_type": "display_data"
    },
    {
     "name": "stdout",
     "output_type": "stream",
     "text": [
      "Prior Model MAE 0.01846815957571439\n",
      "ABC Pre-generator MAE 1.0053037941427514\n"
     ]
    }
   ],
   "source": [
    "y_pred = prior_model.predict(X_test)\n",
    "y_abc = y_pred + np.random.normal(0,variance, y_pred.shape) + bias \n",
    "mse = mean_squared_error(y_pred,Y_test)\n",
    "sb.glue(\"Prior Model MSE\",mse)\n",
    "mse = mean_squared_error(y_abc,Y_test)\n",
    "sb.glue(\"ABC Pre-generator MSE\",mse)\n",
    "mae = mean_absolute_error(y_pred,Y_test)\n",
    "sb.glue(\"Prior Model MAE\",mae)\n",
    "print(\"Prior Model MAE\",mae)\n",
    "mae = mean_absolute_error(y_abc,Y_test)\n",
    "print(\"ABC Pre-generator MAE\",mae)"
   ]
  },
  {
   "cell_type": "markdown",
   "id": "25609da2",
   "metadata": {
    "papermill": {
     "duration": 0.020425,
     "end_time": "2022-07-24T14:37:25.983976",
     "exception": false,
     "start_time": "2022-07-24T14:37:25.963551",
     "status": "completed"
    },
    "tags": []
   },
   "source": [
    "# mGAN Model"
   ]
  },
  {
   "cell_type": "code",
   "execution_count": 11,
   "id": "dfc3464d",
   "metadata": {
    "execution": {
     "iopub.execute_input": "2022-07-24T14:37:26.022305Z",
     "iopub.status.busy": "2022-07-24T14:37:26.021640Z",
     "iopub.status.idle": "2022-07-24T14:37:26.029009Z",
     "shell.execute_reply": "2022-07-24T14:37:26.027089Z"
    },
    "papermill": {
     "duration": 0.03569,
     "end_time": "2022-07-24T14:37:26.037984",
     "exception": false,
     "start_time": "2022-07-24T14:37:26.002294",
     "status": "completed"
    },
    "tags": []
   },
   "outputs": [],
   "source": [
    "# gen = network.Generator(n_features+1).to(device)\n",
    "# disc = network.Discriminator(n_features+1).to(device)\n",
    "\n",
    "# criterion = torch.nn.BCELoss()\n",
    "# gen_opt = torch.optim.Adam(gen.parameters(), lr=0.01, betas=(0.5, 0.999))\n",
    "# disc_opt = torch.optim.Adam(disc.parameters(), lr=0.01, betas=(0.5, 0.999))"
   ]
  },
  {
   "cell_type": "code",
   "execution_count": 12,
   "id": "b75fdd85",
   "metadata": {
    "execution": {
     "iopub.execute_input": "2022-07-24T14:37:26.079063Z",
     "iopub.status.busy": "2022-07-24T14:37:26.078563Z",
     "iopub.status.idle": "2022-07-24T14:37:26.084902Z",
     "shell.execute_reply": "2022-07-24T14:37:26.083108Z"
    },
    "papermill": {
     "duration": 0.039871,
     "end_time": "2022-07-24T14:37:26.095760",
     "exception": false,
     "start_time": "2022-07-24T14:37:26.055889",
     "status": "completed"
    },
    "tags": []
   },
   "outputs": [],
   "source": [
    "#Training the ABC_GAN \n",
    "# ABC_train_test2.training_GAN(disc,gen,disc_opt,gen_opt,train_data,batch_size,n_epochs,criterion,prior_model,variance,bias,device)"
   ]
  },
  {
   "cell_type": "code",
   "execution_count": 13,
   "id": "1fa7c368",
   "metadata": {
    "execution": {
     "iopub.execute_input": "2022-07-24T14:37:26.122098Z",
     "iopub.status.busy": "2022-07-24T14:37:26.121662Z",
     "iopub.status.idle": "2022-07-24T14:37:26.128047Z",
     "shell.execute_reply": "2022-07-24T14:37:26.126744Z"
    },
    "papermill": {
     "duration": 0.02557,
     "end_time": "2022-07-24T14:37:26.133983",
     "exception": false,
     "start_time": "2022-07-24T14:37:26.108413",
     "status": "completed"
    },
    "tags": []
   },
   "outputs": [],
   "source": [
    "# ABC_GAN1_metrics=ABC_train_test2.test_generator(gen,test_data,prior_model,variance,bias,\"1\",device)\n",
    "# sb.glue(\"ABC_GAN_1 Metrics\",ABC_GAN1_metrics)\n",
    "\n",
    "# print(\"MAE\")\n",
    "# print(mean(ABC_GAN1_metrics[1]))"
   ]
  },
  {
   "cell_type": "code",
   "execution_count": 14,
   "id": "eb22ce5c",
   "metadata": {
    "execution": {
     "iopub.execute_input": "2022-07-24T14:37:26.225875Z",
     "iopub.status.busy": "2022-07-24T14:37:26.225172Z",
     "iopub.status.idle": "2022-07-24T14:37:26.234217Z",
     "shell.execute_reply": "2022-07-24T14:37:26.232323Z"
    },
    "papermill": {
     "duration": 0.101248,
     "end_time": "2022-07-24T14:37:26.249890",
     "exception": false,
     "start_time": "2022-07-24T14:37:26.148642",
     "status": "completed"
    },
    "tags": []
   },
   "outputs": [],
   "source": [
    "# sanityChecks.discProbVsError(train_data,disc,device)\n",
    "# sanityChecks.discProbVsError(test_data,disc,device)"
   ]
  },
  {
   "cell_type": "markdown",
   "id": "1976698f",
   "metadata": {
    "papermill": {
     "duration": 0.01922,
     "end_time": "2022-07-24T14:37:26.283220",
     "exception": false,
     "start_time": "2022-07-24T14:37:26.264000",
     "status": "completed"
    },
    "tags": []
   },
   "source": [
    "# mGAN Model with TabNet Generator"
   ]
  },
  {
   "cell_type": "code",
   "execution_count": 15,
   "id": "021a465e",
   "metadata": {
    "execution": {
     "iopub.execute_input": "2022-07-24T14:37:26.310955Z",
     "iopub.status.busy": "2022-07-24T14:37:26.310355Z",
     "iopub.status.idle": "2022-07-24T14:37:26.336564Z",
     "shell.execute_reply": "2022-07-24T14:37:26.335628Z"
    },
    "papermill": {
     "duration": 0.043316,
     "end_time": "2022-07-24T14:37:26.339725",
     "exception": false,
     "start_time": "2022-07-24T14:37:26.296409",
     "status": "completed"
    },
    "tags": []
   },
   "outputs": [],
   "source": [
    "gen2 = network.GeneratorTabnet(n_features+1).to(device)\n",
    "disc2 = network.Discriminator(n_features+1).to(device)\n",
    "\n",
    "criterion = torch.nn.BCELoss()\n",
    "gen_opt = torch.optim.Adam(gen2.parameters(), lr=0.01, betas=(0.5, 0.999))\n",
    "disc_opt = torch.optim.Adam(disc2.parameters(), lr=0.01, betas=(0.5, 0.999))"
   ]
  },
  {
   "cell_type": "code",
   "execution_count": 16,
   "id": "11658ca1",
   "metadata": {
    "execution": {
     "iopub.execute_input": "2022-07-24T14:37:26.363966Z",
     "iopub.status.busy": "2022-07-24T14:37:26.363600Z",
     "iopub.status.idle": "2022-07-24T15:00:22.408478Z",
     "shell.execute_reply": "2022-07-24T15:00:22.406831Z"
    },
    "papermill": {
     "duration": 1376.068885,
     "end_time": "2022-07-24T15:00:22.420062",
     "exception": false,
     "start_time": "2022-07-24T14:37:26.351177",
     "status": "completed"
    },
    "tags": []
   },
   "outputs": [
    {
     "data": {
      "image/png": "[encoded data removed]",
      "text/plain": [
       "<Figure size 432x288 with 1 Axes>"
      ]
     },
     "metadata": {
      "needs_background": "light"
     },
     "output_type": "display_data"
    },
    {
     "data": {
      "image/png": "[encoded data removed]",
      "text/plain": [
       "<Figure size 432x288 with 1 Axes>"
      ]
     },
     "metadata": {
      "needs_background": "light"
     },
     "output_type": "display_data"
    }
   ],
   "source": [
    "#Training the ABC_GAN \n",
    "ABC_train_test2.training_GAN(disc2,gen2,disc_opt,gen_opt,train_data,batch_size,n_epochs,criterion,prior_model,variance,bias,device)"
   ]
  },
  {
   "cell_type": "code",
   "execution_count": 17,
   "id": "a0b3d8a9",
   "metadata": {
    "execution": {
     "iopub.execute_input": "2022-07-24T15:00:22.480052Z",
     "iopub.status.busy": "2022-07-24T15:00:22.478432Z",
     "iopub.status.idle": "2022-07-24T15:00:33.119180Z",
     "shell.execute_reply": "2022-07-24T15:00:33.118056Z"
    },
    "papermill": {
     "duration": 10.676784,
     "end_time": "2022-07-24T15:00:33.125246",
     "exception": false,
     "start_time": "2022-07-24T15:00:22.448462",
     "status": "completed"
    },
    "tags": []
   },
   "outputs": [
    {
     "data": {
      "application/scrapbook.scrap.json+json": {
       "data": 0.011710338520435555,
       "encoder": "json",
       "name": "ABC-GAN Model 1 MSE",
       "version": 1
      }
     },
     "metadata": {
      "scrapbook": {
       "data": true,
       "display": false,
       "name": "ABC-GAN Model 1 MSE"
      }
     },
     "output_type": "display_data"
    },
    {
     "data": {
      "application/scrapbook.scrap.json+json": {
       "data": 0.07698893481405912,
       "encoder": "json",
       "name": "ABC-GAN Model 1 MAE",
       "version": 1
      }
     },
     "metadata": {
      "scrapbook": {
       "data": true,
       "display": false,
       "name": "ABC-GAN Model 1 MAE"
      }
     },
     "output_type": "display_data"
    },
    {
     "data": {
      "application/scrapbook.scrap.json+json": {
       "data": 11.856295961365104,
       "encoder": "json",
       "name": "ABC-GAN Model 1 Manhattan Distance",
       "version": 1
      }
     },
     "metadata": {
      "scrapbook": {
       "data": true,
       "display": false,
       "name": "ABC-GAN Model 1 Manhattan Distance"
      }
     },
     "output_type": "display_data"
    },
    {
     "data": {
      "application/scrapbook.scrap.json+json": {
       "data": 1.3405792387530207,
       "encoder": "json",
       "name": "ABC-GAN Model 1 Euclidean distance",
       "version": 1
      }
     },
     "metadata": {
      "scrapbook": {
       "data": true,
       "display": false,
       "name": "ABC-GAN Model 1 Euclidean distance"
      }
     },
     "output_type": "display_data"
    },
    {
     "data": {
      "application/scrapbook.scrap.json+json": {
       "data": [
        [
         0.013992373175755638,
         0.014497855448712071,
         0.010544645246182786,
         0.011320583128049852,
         0.011741937057297798,
         0.010847031015891654,
         0.013162470327917175,
         0.010890622504546314,
         0.012688627325336765,
         0.011564059939679724,
         0.010330583931480796,
         0.012168829559499371,
         0.00976046139654158,
         0.011012835625529778,
         0.010266840512550213,
         0.011038941393046533,
         0.015763549813787085,
         0.012252606293133224,
         0.012650542210383378,
         0.011851259578805338,
         0.012958898325054329,
         0.01284209903928964,
         0.010661029641421793,
         0.01174306418735566,
         0.011113216684291015,
         0.010009284172894014,
         0.011680654540442852,
         0.01238774136379766,
         0.011515565862153302,
         0.011247302866553652,
         0.009799403624182367,
         0.009677923296761004,
         0.0112070675195932,
         0.010840139318011066,
         0.01475324701801536,
         0.009514335002162106,
         0.010950567003134404,
         0.010876337240121565,
         0.012451914112060697,
         0.01175296397229835,
         0.014058989021319164,
         0.011775074517753689,
         0.013092191589396921,
         0.009777884914712558,
         0.015085816988940032,
         0.009271017837778334,
         0.011602524272765147,
         0.011974930145795211,
         0.011593003493602615,
         0.012227334908981882,
         0.012899002649686605,
         0.011694958483276072,
         0.011517975475232105,
         0.009681562866209035,
         0.012338625885315622,
         0.01175299543750305,
         0.013920926437394301,
         0.011066015982294914,
         0.010101923964424032,
         0.012628136433220822,
         0.009284398446015875,
         0.01044819445230843,
         0.010822255550802767,
         0.011683774262551726,
         0.011986697823934203,
         0.012249550166790867,
         0.012616422317685373,
         0.00979331362127995,
         0.010214759332822976,
         0.011060027374728248,
         0.011656804705232091,
         0.010757251756415545,
         0.011172100865932691,
         0.01037337936892121,
         0.010840224672275698,
         0.011214021344341426,
         0.014307621441259528,
         0.01263586309637664,
         0.013305265619823606,
         0.014209551026788492,
         0.012852479800001619,
         0.013843259746041234,
         0.01295882613435838,
         0.010517821287165427,
         0.011445762827914539,
         0.011884861180671542,
         0.011372927531014477,
         0.010612964034764027,
         0.01223530501946654,
         0.012770410645419391,
         0.011028820163039557,
         0.013390623501828824,
         0.009105192866661744,
         0.012953125269652603,
         0.012901086017817531,
         0.009579883431773016,
         0.011487807732199483,
         0.013608766145531246,
         0.011062918707308194,
         0.010399231175315451
        ],
        [
         0.08318361269866491,
         0.08734048982816082,
         0.07278246778462615,
         0.07674802208391877,
         0.07714385362704854,
         0.0747414855649332,
         0.07610071428700702,
         0.07435442238755814,
         0.0799966769704184,
         0.07704120934880399,
         0.07286130915117728,
         0.08061161978387987,
         0.07173664004287937,
         0.07364142765956265,
         0.07200203915791852,
         0.07822020963898726,
         0.08635002647998272,
         0.07966231368482113,
         0.07841076873629899,
         0.07769188969456531,
         0.08039383355576496,
         0.07943495002563124,
         0.07611546711391443,
         0.07911759689934068,
         0.07181839284474974,
         0.0710631620816209,
         0.07865349607324446,
         0.07954419834853767,
         0.07664094954825841,
         0.0722251045094295,
         0.07097362889001121,
         0.06994804693990714,
         0.07554618827998638,
         0.07456315195115355,
         0.08586266557020801,
         0.07008830934472672,
         0.07637098593661537,
         0.07337747937576337,
         0.07991113293577325,
         0.07960165734705213,
         0.08284315783772375,
         0.07741013307172756,
         0.08219200302544352,
         0.06886809974812068,
         0.0873469120834942,
         0.06606652285274747,
         0.07702866900567111,
         0.0801112727540267,
         0.0771462113971447,
         0.07956645586951212,
         0.0805883633771113,
         0.07500805592091826,
         0.07555954605824762,
         0.07109916914109286,
         0.0796317807943016,
         0.08004682203875733,
         0.08266413011043877,
         0.07516174988409915,
         0.07332762662176188,
         0.08100904686400642,
         0.06731148976106922,
         0.07528161477636207,
         0.07472386107139,
         0.07546932068834832,
         0.07550305991687557,
         0.07761189285907652,
         0.07856373230067941,
         0.07059790002932022,
         0.07148185636025745,
         0.07430792336243314,
         0.07598571534957979,
         0.07506802699879392,
         0.07773494606765059,
         0.0760982818659637,
         0.0767697761827088,
         0.076810205403667,
         0.08602585684653226,
         0.079704198139635,
         0.08091166922701644,
         0.08567248490433414,
         0.07769545639393391,
         0.08305080280965799,
         0.07979838121924307,
         0.07197538180300941,
         0.07620862868989443,
         0.08004858405268811,
         0.07928554348454073,
         0.07444888292872287,
         0.07685803063213825,
         0.08089063773778352,
         0.07343522703589557,
         0.08140503564341502,
         0.06831925127703647,
         0.07766758048205406,
         0.08196851521633662,
         0.06650492498143153,
         0.07928531454851875,
         0.08293211298039208,
         0.07587621092506043,
         0.07505784181321597
        ],
        [
         12.810276355594397,
         13.450435433536768,
         11.208500038832426,
         11.81919540092349,
         11.880153458565474,
         11.510188776999712,
         11.71951000019908,
         11.450581047683954,
         12.319488253444433,
         11.864346239715815,
         11.220641609281301,
         12.4141894467175,
         11.047442566603422,
         11.340779859572649,
         11.088314030319452,
         12.04591228440404,
         13.297904077917337,
         12.267996307462454,
         12.075258385390043,
         11.964551012963057,
         12.380650367587805,
         12.23298230394721,
         11.721781935542822,
         12.184109922498465,
         11.06003249809146,
         10.94372696056962,
         12.112638395279646,
         12.2498065456748,
         11.802706230431795,
         11.122666094452143,
         10.929938849061728,
         10.771999228745699,
         11.634112995117903,
         11.482725400477648,
         13.222850497812033,
         10.793599639087915,
         11.761131834238768,
         11.30013182386756,
         12.30631447210908,
         12.258655231446028,
         12.757846307009459,
         11.921160493046045,
         12.657568465918303,
         10.605687361210585,
         13.451424460858107,
         10.17424451932311,
         11.86241502687335,
         12.337136004120111,
         11.880516555160284,
         12.253234203904867,
         12.41060796007514,
         11.551240611821413,
         11.636170092970133,
         10.9492720477283,
         12.263294242322445,
         12.32721059396863,
         12.73027603700757,
         11.57490948215127,
         11.29245449975133,
         12.47539321705699,
         10.36596942320466,
         11.59336867555976,
         11.507474604994059,
         11.62227538600564,
         11.62747122719884,
         11.952231500297785,
         12.098814774304628,
         10.872076604515314,
         11.008205879479647,
         11.443420197814703,
         11.701800163835287,
         11.560476157814264,
         11.971181694418192,
         11.719135407358408,
         11.822545532137156,
         11.828771632164717,
         13.247981954365969,
         12.27444651350379,
         12.460397060960531,
         13.193562675267458,
         11.965100284665823,
         12.78982363268733,
         12.288950707763433,
         11.08420879766345,
         11.736128818243742,
         12.32748194411397,
         12.209973696619272,
         11.465127971023321,
         11.83613671734929,
         12.457158211618662,
         11.309024963527918,
         12.536375489085913,
         10.521164696663618,
         11.960807394236326,
         12.62315134331584,
         10.241758447140455,
         12.209938440471888,
         12.771545398980379,
         11.684936482459307,
         11.558907639235258
        ],
        [
         1.4679323789147674,
         1.4942120796933944,
         1.2743136850525263,
         1.3203672980347845,
         1.3447149537444212,
         1.2924561023289398,
         1.423734677002441,
         1.2950505263116696,
         1.3978728869614225,
         1.334490625935858,
         1.2613127785953975,
         1.3689411061703505,
         1.2260142964367924,
         1.302296696736802,
         1.2574153804263462,
         1.3038393208249113,
         1.5580714589912785,
         1.3736452850508811,
         1.3957734416441088,
         1.350960389921193,
         1.41268196776853,
         1.4063012664612815,
         1.2813268766317814,
         1.3447794930220982,
         1.3082183951392887,
         1.241543298731735,
         1.3412012523212908,
         1.3811995402637665,
         1.3316895819865862,
         1.3160868669845704,
         1.2284576338336153,
         1.2208194738376328,
         1.3137307174673782,
         1.2920454539116277,
         1.5073155080388332,
         1.210457595429499,
         1.2986097637407084,
         1.2942008866395978,
         1.3847724626296363,
         1.3453462200244017,
         1.4714225461379717,
         1.3466111078310872,
         1.4199286970714853,
         1.2271080950208642,
         1.5242098990285968,
         1.1948793859707612,
         1.3367081723419785,
         1.357990884524805,
         1.3361596229548336,
         1.3722279606476506,
         1.4094134978961061,
         1.3420222078730721,
         1.3318289016182763,
         1.2210490085971946,
         1.3784586995403982,
         1.3453480209133508,
         1.4641798630491825,
         1.3054372682260211,
         1.24727554715119,
         1.3945368445172064,
         1.1957413435548863,
         1.2684722880912687,
         1.2909792232346833,
         1.3413803474156634,
         1.358657964642267,
         1.3734739625074053,
         1.393889894117734,
         1.2280758517604327,
         1.2542220446375267,
         1.3050839879901026,
         1.3398313045326795,
         1.287096255331354,
         1.3116796611038972,
         1.2639226332390232,
         1.2920505406254266,
         1.31413822980255,
         1.4843765364468569,
         1.3949634105746296,
         1.4314366578556088,
         1.4792805204306003,
         1.4068695352449172,
         1.4600897235753527,
         1.4126780329187507,
         1.2726918237434683,
         1.327647346059502,
         1.3528742076865157,
         1.3234163516355044,
         1.2784351611848215,
         1.3726751156037786,
         1.4023705784829437,
         1.3032414607846436,
         1.4360208979265026,
         1.1841451353047516,
         1.4123672651001582,
         1.4095273132308928,
         1.2146201251803153,
         1.330083602920779,
         1.4476705379373482,
         1.3052545655639216,
         1.2654965827684324
        ]
       ],
       "encoder": "json",
       "name": "ABC_GAN_2 Metrics",
       "version": 1
      }
     },
     "metadata": {
      "scrapbook": {
       "data": true,
       "display": false,
       "name": "ABC_GAN_2 Metrics"
      }
     },
     "output_type": "display_data"
    },
    {
     "name": "stdout",
     "output_type": "stream",
     "text": [
      "MAE\n",
      "0.07698893481405912\n"
     ]
    }
   ],
   "source": [
    "ABC_GAN2_metrics=ABC_train_test2.test_generator(gen2,test_data,prior_model,variance,bias,\"1\",device)\n",
    "sb.glue(\"ABC_GAN_2 Metrics\",ABC_GAN2_metrics)\n",
    "\n",
    "print(\"MAE\")\n",
    "print(mean(ABC_GAN2_metrics[1]))"
   ]
  },
  {
   "cell_type": "code",
   "execution_count": 18,
   "id": "7d28c9be",
   "metadata": {
    "execution": {
     "iopub.execute_input": "2022-07-24T15:00:33.167859Z",
     "iopub.status.busy": "2022-07-24T15:00:33.167141Z",
     "iopub.status.idle": "2022-07-24T15:00:34.715575Z",
     "shell.execute_reply": "2022-07-24T15:00:34.714109Z"
    },
    "papermill": {
     "duration": 1.575082,
     "end_time": "2022-07-24T15:00:34.719888",
     "exception": false,
     "start_time": "2022-07-24T15:00:33.144806",
     "status": "completed"
    },
    "tags": []
   },
   "outputs": [
    {
     "data": {
      "image/png": "[encoded data removed]",
      "text/plain": [
       "<Figure size 432x288 with 1 Axes>"
      ]
     },
     "metadata": {
      "needs_background": "light"
     },
     "output_type": "display_data"
    },
    {
     "data": {
      "image/png": "[encoded data removed]",
      "text/plain": [
       "<Figure size 432x288 with 1 Axes>"
      ]
     },
     "metadata": {
      "needs_background": "light"
     },
     "output_type": "display_data"
    },
    {
     "data": {
      "image/png": "[encoded data removed]",
      "text/plain": [
       "<Figure size 432x288 with 1 Axes>"
      ]
     },
     "metadata": {
      "needs_background": "light"
     },
     "output_type": "display_data"
    },
    {
     "data": {
      "image/png": "[encoded data removed]",
      "text/plain": [
       "<Figure size 432x288 with 1 Axes>"
      ]
     },
     "metadata": {
      "needs_background": "light"
     },
     "output_type": "display_data"
    }
   ],
   "source": [
    "sanityChecks.discProbVsError(train_data,disc2,device)\n",
    "sanityChecks.discProbVsError(test_data,disc2,device)"
   ]
  },
  {
   "cell_type": "markdown",
   "id": "130f3a4d",
   "metadata": {
    "id": "130f3a4d",
    "papermill": {
     "duration": 0.030328,
     "end_time": "2022-07-24T15:00:34.776415",
     "exception": false,
     "start_time": "2022-07-24T15:00:34.746087",
     "status": "completed"
    },
    "tags": []
   },
   "source": [
    "# skipGAN Model"
   ]
  },
  {
   "cell_type": "code",
   "execution_count": 19,
   "id": "4e43dad1",
   "metadata": {
    "execution": {
     "iopub.execute_input": "2022-07-24T15:00:34.831568Z",
     "iopub.status.busy": "2022-07-24T15:00:34.830558Z",
     "iopub.status.idle": "2022-07-24T15:00:34.853291Z",
     "shell.execute_reply": "2022-07-24T15:00:34.850260Z"
    },
    "id": "4e43dad1",
    "papermill": {
     "duration": 0.053572,
     "end_time": "2022-07-24T15:00:34.859236",
     "exception": false,
     "start_time": "2022-07-24T15:00:34.805664",
     "status": "completed"
    },
    "tags": []
   },
   "outputs": [],
   "source": [
    "#Generator\n",
    "gen3 = network.GeneratorWithSkipConnection(n_features+1).to(device)\n",
    "constraints=network.weightConstraint()\n",
    "#Discriminator \n",
    "disc3 = network.Discriminator(n_features+1).to(device)\n",
    "\n",
    "criterion = torch.nn.BCELoss()\n",
    "gen_opt = torch.optim.Adam(gen3.parameters(), lr=0.01, betas=(0.5, 0.999))\n",
    "disc_opt = torch.optim.Adam(disc3.parameters(), lr=0.01, betas=(0.5, 0.999))\n"
   ]
  },
  {
   "cell_type": "code",
   "execution_count": 20,
   "id": "26acbc37",
   "metadata": {
    "execution": {
     "iopub.execute_input": "2022-07-24T15:00:34.905141Z",
     "iopub.status.busy": "2022-07-24T15:00:34.904493Z",
     "iopub.status.idle": "2022-07-24T15:10:53.137173Z",
     "shell.execute_reply": "2022-07-24T15:10:53.134805Z"
    },
    "id": "26acbc37",
    "papermill": {
     "duration": 618.266908,
     "end_time": "2022-07-24T15:10:53.142733",
     "exception": false,
     "start_time": "2022-07-24T15:00:34.875825",
     "status": "completed"
    },
    "tags": []
   },
   "outputs": [
    {
     "data": {
      "image/png": "[encoded data removed]",
      "text/plain": [
       "<Figure size 432x288 with 1 Axes>"
      ]
     },
     "metadata": {
      "needs_background": "light"
     },
     "output_type": "display_data"
    },
    {
     "data": {
      "image/png": "[encoded data removed]",
      "text/plain": [
       "<Figure size 432x288 with 1 Axes>"
      ]
     },
     "metadata": {
      "needs_background": "light"
     },
     "output_type": "display_data"
    }
   ],
   "source": [
    "ABC_train_test2.training_GAN_skip_connection(disc3,gen3,disc_opt,gen_opt,train_data,batch_size,n_epochs,criterion,prior_model,variance,bias,device)"
   ]
  },
  {
   "cell_type": "code",
   "execution_count": 21,
   "id": "c5e0717b",
   "metadata": {
    "execution": {
     "iopub.execute_input": "2022-07-24T15:10:53.282975Z",
     "iopub.status.busy": "2022-07-24T15:10:53.280701Z",
     "iopub.status.idle": "2022-07-24T15:10:56.935075Z",
     "shell.execute_reply": "2022-07-24T15:10:56.932393Z"
    },
    "id": "c5e0717b",
    "papermill": {
     "duration": 3.71545,
     "end_time": "2022-07-24T15:10:56.938470",
     "exception": false,
     "start_time": "2022-07-24T15:10:53.223020",
     "status": "completed"
    },
    "tags": []
   },
   "outputs": [
    {
     "data": {
      "application/scrapbook.scrap.json+json": {
       "data": 0.0841105433503386,
       "encoder": "json",
       "name": "ABC-GAN Model 3 MSE",
       "version": 1
      }
     },
     "metadata": {
      "scrapbook": {
       "data": true,
       "display": false,
       "name": "ABC-GAN Model 3 MSE"
      }
     },
     "output_type": "display_data"
    },
    {
     "data": {
      "application/scrapbook.scrap.json+json": {
       "data": 0.13160442765850525,
       "encoder": "json",
       "name": "ABC-GAN Model 3 MAE",
       "version": 1
      }
     },
     "metadata": {
      "scrapbook": {
       "data": true,
       "display": false,
       "name": "ABC-GAN Model 3 MAE"
      }
     },
     "output_type": "display_data"
    },
    {
     "data": {
      "application/scrapbook.scrap.json+json": {
       "data": 20.26708185940981,
       "encoder": "json",
       "name": "ABC-GAN Model 3 Manhattan Distance",
       "version": 1
      }
     },
     "metadata": {
      "scrapbook": {
       "data": true,
       "display": false,
       "name": "ABC-GAN Model 3 Manhattan Distance"
      }
     },
     "output_type": "display_data"
    },
    {
     "data": {
      "application/scrapbook.scrap.json+json": {
       "data": 3.5982649359537464,
       "encoder": "json",
       "name": "ABC-GAN Model 3 Euclidean distance",
       "version": 1
      }
     },
     "metadata": {
      "scrapbook": {
       "data": true,
       "display": false,
       "name": "ABC-GAN Model 3 Euclidean distance"
      }
     },
     "output_type": "display_data"
    },
    {
     "data": {
      "application/scrapbook.scrap.json+json": {
       "data": [
        [
         0.08244889524343438,
         0.07975195073677474,
         0.08812020077953606,
         0.08592249404175846,
         0.08301730122871219,
         0.08295696065405432,
         0.08724653977930577,
         0.08665052667365326,
         0.08271601081006376,
         0.07938318185609214,
         0.0823624338422113,
         0.08674301362286471,
         0.08367144946042976,
         0.08748193666460105,
         0.09066765672080469,
         0.08532763781364279,
         0.08988668014606103,
         0.07965026122451153,
         0.08877329812856698,
         0.0860086137489608,
         0.08603617079095183,
         0.08882326526794646,
         0.08581287881342828,
         0.0892267969532353,
         0.082022100459164,
         0.08431311959176456,
         0.0790191352426544,
         0.09072600405436287,
         0.08233663536076222,
         0.08519139553099593,
         0.08390325936160922,
         0.08558928900623244,
         0.08067601850145711,
         0.08594221597695414,
         0.0886027341743933,
         0.08510345824625615,
         0.08455946417059346,
         0.09116718457241671,
         0.08355520411974982,
         0.08567633867120206,
         0.08118303519633821,
         0.08399584111911126,
         0.07359577750879001,
         0.08502554668151618,
         0.08277154631353796,
         0.08169445108842642,
         0.0875559913902457,
         0.08186118531614575,
         0.08532760513908112,
         0.08659698012788875,
         0.07794769706242524,
         0.08453593483140398,
         0.08647396583493333,
         0.08597529215523407,
         0.07861243994982677,
         0.08752285361396875,
         0.0835945563195296,
         0.07915997438587304,
         0.08015933982212992,
         0.08780003085615229,
         0.0879355185649539,
         0.08526923395441292,
         0.08178508035971802,
         0.07903798036719646,
         0.08758049795345635,
         0.07984465032296759,
         0.0833753551528105,
         0.08645101898414229,
         0.08248690858890227,
         0.08308991363131557,
         0.0808901167119755,
         0.08408696720532075,
         0.09018239604190575,
         0.08672011898185635,
         0.08794855403014774,
         0.0856557100625206,
         0.07965218954461775,
         0.08198528735350105,
         0.08082220320079232,
         0.07924906263776714,
         0.08348945530881828,
         0.08325920299072279,
         0.0846320192331092,
         0.08423487704104397,
         0.08118676049917799,
         0.0880988322784661,
         0.085142589550911,
         0.08310671512080713,
         0.0877167132876094,
         0.08593348370259345,
         0.07743272453784832,
         0.08199611855514508,
         0.0806210100850976,
         0.07665502887972384,
         0.084055720901487,
         0.0842417648411674,
         0.0889430625513635,
         0.07767596554577934,
         0.08416433672687597,
         0.08595943299110384
        ],
        [
         0.1354928838403581,
         0.12986962877020433,
         0.13345263736298332,
         0.13300869074444494,
         0.12945120474444582,
         0.13115530560252728,
         0.13211846150844903,
         0.12942212657978783,
         0.1294018639033878,
         0.12763715711990734,
         0.12997539198727576,
         0.13502368459163547,
         0.13276454470084084,
         0.13237162720557158,
         0.1345959570162095,
         0.13587085489038522,
         0.13390716496709879,
         0.1290446048868554,
         0.13582487938949814,
         0.13077204076984486,
         0.13141440234884813,
         0.1312113625614287,
         0.1331996926674982,
         0.1329962947200258,
         0.12875775172822662,
         0.1313583112817693,
         0.12994853269260426,
         0.1349642247009974,
         0.13062561402556958,
         0.1327137743159161,
         0.1318515461034976,
         0.13381859594835088,
         0.12929674337146344,
         0.13165103046634755,
         0.13599378501923828,
         0.12994720479594424,
         0.13024092545466764,
         0.13565232587808912,
         0.13403829092813002,
         0.13059034084828644,
         0.13257532124105212,
         0.13457072741509257,
         0.12418534647818509,
         0.12935253757644782,
         0.13161435251595913,
         0.13147464329255865,
         0.13692003519987905,
         0.13165281647695348,
         0.1331374905761573,
         0.1322756443753258,
         0.1284796232962376,
         0.13114936758655232,
         0.12973030446121445,
         0.13496999280503044,
         0.1283493178666799,
         0.13603639963095066,
         0.13114348762704955,
         0.12910808576875693,
         0.1279657008247329,
         0.1337614403190938,
         0.13446670937557498,
         0.13088457395213765,
         0.1318011600524187,
         0.12810291381335104,
         0.13299142320144486,
         0.12677685870462424,
         0.13062759607352994,
         0.1333495991231946,
         0.13166521791997668,
         0.13236561758661425,
         0.13028722297545378,
         0.13260471910335025,
         0.1391989980860577,
         0.1324286467891622,
         0.1349053784672703,
         0.1324448013895905,
         0.1296609854204701,
         0.13183253764041833,
         0.13115666586567054,
         0.13071446771455275,
         0.1309542724886885,
         0.12933766196010174,
         0.1333891021015195,
         0.1345339645087332,
         0.12818577471975381,
         0.13288881187024829,
         0.13108856852662254,
         0.1314350509072666,
         0.13454961575954766,
         0.13275581571672643,
         0.12597985771279058,
         0.13251894647134588,
         0.1285064337750921,
         0.1257102167499917,
         0.12818452921490392,
         0.12869581805130878,
         0.13406279327517207,
         0.12577486863093718,
         0.13178575012300695,
         0.13195472425938426
        ],
        [
         20.865904111415148,
         19.999922830611467,
         20.55170615389943,
         20.483338374644518,
         19.935485530644655,
         20.1979170627892,
         20.34624307230115,
         19.931007493287325,
         19.92788704112172,
         19.65612219646573,
         20.016210366040468,
         20.793647427111864,
         20.44573988392949,
         20.385230589658022,
         20.727777380496264,
         20.924111653119326,
         20.621703404933214,
         19.87286915257573,
         20.917031425982714,
         20.13889427855611,
         20.237817961722612,
         20.20654983446002,
         20.512752670794725,
         20.481429386883974,
         19.8286937661469,
         20.229179937392473,
         20.012074034661055,
         20.7844906039536,
         20.116344559937716,
         20.43792124465108,
         20.30513809993863,
         20.608063776046038,
         19.91169847920537,
         20.274258691817522,
         20.943042892962694,
         20.01186953857541,
         20.057102520018816,
         20.890458185225725,
         20.641896802932024,
         20.11091249063611,
         20.416599471122026,
         20.723892021924257,
         19.124543357640505,
         19.920290786772966,
         20.268610287457705,
         20.247095067054033,
         21.085685420781374,
         20.274533737450838,
         20.503173548728228,
         20.370449233800173,
         19.785861987620592,
         20.197002608329058,
         19.978466887027025,
         20.785378891974688,
         19.765794951468706,
         20.9496055431664,
         20.19609709456563,
         19.882645208388567,
         19.706717927008867,
         20.599261809140444,
         20.70787324383855,
         20.156224388629198,
         20.29737864807248,
         19.72784872725606,
         20.48067917302251,
         19.523636240512133,
         20.11664979532361,
         20.53583826497197,
         20.27644355967641,
         20.384305108338594,
         20.06423233821988,
         20.42112674191594,
         21.436645705252886,
         20.394011605530977,
         20.775428283959627,
         20.396499413996935,
         19.967791754752398,
         20.302210796624422,
         20.198126543313265,
         20.130028028041124,
         20.166957963258028,
         19.91799994185567,
         20.541921723634005,
         20.71823053434491,
         19.74060930684209,
         20.464877028018236,
         20.18763955309987,
         20.240997839719057,
         20.72064082697034,
         20.44439562037587,
         19.400898087769747,
         20.407917756587267,
         19.789990801364183,
         19.35937337949872,
         19.7404174990952,
         19.819155979901552,
         20.645670164376497,
         19.369329769164324,
         20.29500551894307,
         20.321027535945177
        ],
        [
         3.5633032241852347,
         3.5045399717314263,
         3.6838174384798914,
         3.637590422577946,
         3.5755649049096667,
         3.574265230886533,
         3.6655104864142842,
         3.652968807387027,
         3.569070700441477,
         3.4964281782753934,
         3.5614343755993225,
         3.654917796328826,
         3.5896243838187556,
         3.670452049318797,
         3.7366855815018636,
         3.624976720380558,
         3.720557584891463,
         3.5023049879436225,
         3.697443429154706,
         3.6394129358098346,
         3.6399959205755406,
         3.6984838584565636,
         3.6352693624087817,
         3.706875602282633,
         3.554068579911093,
         3.6033623766049034,
         3.4884017583083486,
         3.7378877222800417,
         3.560876555787546,
         3.622081571661987,
         3.594593432043159,
         3.630530334119217,
         3.5247846528865265,
         3.638007869762095,
         3.6938896928382365,
         3.6202116747399513,
         3.608622657229679,
         3.746964961692619,
         3.587129971779872,
         3.632376103236711,
         3.53584324033689,
         3.59657608460368,
         3.3665634906167536,
         3.6185541572503084,
         3.5702686358710936,
         3.546962851175307,
         3.6720052660770843,
         3.550580591774597,
         3.624976026323276,
         3.651839938947881,
         3.464671030215349,
         3.6081205584121223,
         3.649245228616423,
         3.6387078739445466,
         3.4794131333133347,
         3.671310318748769,
         3.5879745920515593,
         3.491509137239146,
         3.5134795193095982,
         3.6771190831746865,
         3.6799551436128812,
         3.6237359215289935,
         3.5489297506990143,
         3.4888177046885454,
         3.672519119736788,
         3.506576129180287,
         3.583267320970181,
         3.648761012118759,
         3.5641245661018846,
         3.577128275477774,
         3.5294585949751873,
         3.5985264970011532,
         3.726672643317827,
         3.654435431527813,
         3.680227889770245,
         3.6319387866025727,
         3.502347382809297,
         3.5532709230284083,
         3.527976657082925,
         3.4934732926152647,
         3.5857183544665094,
         3.5807704842074566,
         3.61017048931194,
         3.6016900289059812,
         3.5359243652648185,
         3.6833707620715805,
         3.621043881374581,
         3.5774899201261623,
         3.6753739736647,
         3.6378230427275304,
         3.4532071439212326,
         3.553505629303595,
         3.5235827722795205,
         3.435822237467688,
         3.597857837495666,
         3.601837279159037,
         3.7009771186687948,
         3.4586267063749476,
         3.6001816420757016,
         3.6383722570168637
        ]
       ],
       "encoder": "json",
       "name": "ABC_GAN_3 Metrics",
       "version": 1
      }
     },
     "metadata": {
      "scrapbook": {
       "data": true,
       "display": false,
       "name": "ABC_GAN_3 Metrics"
      }
     },
     "output_type": "display_data"
    },
    {
     "name": "stdout",
     "output_type": "stream",
     "text": [
      "MAE\n",
      "0.13160442765850525\n"
     ]
    }
   ],
   "source": [
    "ABC_GAN3_metrics=ABC_train_test2.test_generator(gen3,test_data,prior_model,variance,bias,\"3\",device)\n",
    "sb.glue(\"ABC_GAN_3 Metrics\",ABC_GAN3_metrics)\n",
    "\n",
    "print(\"MAE\")\n",
    "print(mean(ABC_GAN3_metrics[1]))"
   ]
  },
  {
   "cell_type": "code",
   "execution_count": 22,
   "id": "c8e46b48",
   "metadata": {
    "execution": {
     "iopub.execute_input": "2022-07-24T15:10:56.986001Z",
     "iopub.status.busy": "2022-07-24T15:10:56.985323Z",
     "iopub.status.idle": "2022-07-24T15:10:59.864075Z",
     "shell.execute_reply": "2022-07-24T15:10:59.861987Z"
    },
    "id": "c8e46b48",
    "papermill": {
     "duration": 2.90846,
     "end_time": "2022-07-24T15:10:59.869655",
     "exception": false,
     "start_time": "2022-07-24T15:10:56.961195",
     "status": "completed"
    },
    "tags": []
   },
   "outputs": [
    {
     "data": {
      "image/png": "[encoded data removed]",
      "text/plain": [
       "<Figure size 432x288 with 1 Axes>"
      ]
     },
     "metadata": {
      "needs_background": "light"
     },
     "output_type": "display_data"
    },
    {
     "data": {
      "image/png": "[encoded data removed]",
      "text/plain": [
       "<Figure size 432x288 with 1 Axes>"
      ]
     },
     "metadata": {
      "needs_background": "light"
     },
     "output_type": "display_data"
    },
    {
     "data": {
      "image/png": "[encoded data removed]",
      "text/plain": [
       "<Figure size 432x288 with 1 Axes>"
      ]
     },
     "metadata": {
      "needs_background": "light"
     },
     "output_type": "display_data"
    },
    {
     "data": {
      "image/png": "[encoded data removed]",
      "text/plain": [
       "<Figure size 432x288 with 1 Axes>"
      ]
     },
     "metadata": {
      "needs_background": "light"
     },
     "output_type": "display_data"
    }
   ],
   "source": [
    "sanityChecks.discProbVsError(train_data,disc3,device)\n",
    "sanityChecks.discProbVsError(test_data,disc3,device)"
   ]
  },
  {
   "cell_type": "markdown",
   "id": "aaa7e97a",
   "metadata": {
    "id": "130f3a4d",
    "papermill": {
     "duration": 0.028598,
     "end_time": "2022-07-24T15:10:59.935042",
     "exception": false,
     "start_time": "2022-07-24T15:10:59.906444",
     "status": "completed"
    },
    "tags": []
   },
   "source": [
    "# skipGAN Model with TabNet Generator"
   ]
  },
  {
   "cell_type": "code",
   "execution_count": 23,
   "id": "16623ec4",
   "metadata": {
    "execution": {
     "iopub.execute_input": "2022-07-24T15:10:59.998646Z",
     "iopub.status.busy": "2022-07-24T15:10:59.997563Z",
     "iopub.status.idle": "2022-07-24T15:11:00.029098Z",
     "shell.execute_reply": "2022-07-24T15:11:00.028073Z"
    },
    "id": "4e43dad1",
    "papermill": {
     "duration": 0.071449,
     "end_time": "2022-07-24T15:11:00.035478",
     "exception": false,
     "start_time": "2022-07-24T15:10:59.964029",
     "status": "completed"
    },
    "tags": []
   },
   "outputs": [],
   "source": [
    "#Generator\n",
    "gen4 = network.GeneratorTabnetskipConnection(n_features+1).to(device)\n",
    "constraints=network.weightConstraint()\n",
    "#Discriminator \n",
    "disc4 = network.Discriminator(n_features+1).to(device)\n",
    "\n",
    "criterion = torch.nn.BCELoss()\n",
    "gen_opt = torch.optim.Adam(gen4.parameters(), lr=0.01, betas=(0.5, 0.999))\n",
    "disc_opt = torch.optim.Adam(disc4.parameters(), lr=0.01, betas=(0.5, 0.999))\n"
   ]
  },
  {
   "cell_type": "code",
   "execution_count": 24,
   "id": "13ac040d",
   "metadata": {
    "execution": {
     "iopub.execute_input": "2022-07-24T15:11:00.098075Z",
     "iopub.status.busy": "2022-07-24T15:11:00.096037Z",
     "iopub.status.idle": "2022-07-24T15:33:56.632843Z",
     "shell.execute_reply": "2022-07-24T15:33:56.629838Z"
    },
    "id": "26acbc37",
    "papermill": {
     "duration": 1376.580703,
     "end_time": "2022-07-24T15:33:56.642797",
     "exception": false,
     "start_time": "2022-07-24T15:11:00.062094",
     "status": "completed"
    },
    "tags": []
   },
   "outputs": [
    {
     "data": {
      "image/png": "[encoded data removed]",
      "text/plain": [
       "<Figure size 432x288 with 1 Axes>"
      ]
     },
     "metadata": {
      "needs_background": "light"
     },
     "output_type": "display_data"
    },
    {
     "data": {
      "image/png": "[encoded data removed]",
      "text/plain": [
       "<Figure size 432x288 with 1 Axes>"
      ]
     },
     "metadata": {
      "needs_background": "light"
     },
     "output_type": "display_data"
    }
   ],
   "source": [
    "ABC_train_test2.training_GAN_skip_connection(disc4,gen4,disc_opt,gen_opt,train_data,batch_size,n_epochs,criterion,prior_model,variance,bias,device)"
   ]
  },
  {
   "cell_type": "code",
   "execution_count": 25,
   "id": "06420dda",
   "metadata": {
    "execution": {
     "iopub.execute_input": "2022-07-24T15:33:56.722686Z",
     "iopub.status.busy": "2022-07-24T15:33:56.720815Z",
     "iopub.status.idle": "2022-07-24T15:34:00.301662Z",
     "shell.execute_reply": "2022-07-24T15:34:00.299609Z"
    },
    "id": "c5e0717b",
    "papermill": {
     "duration": 3.625225,
     "end_time": "2022-07-24T15:34:00.304476",
     "exception": false,
     "start_time": "2022-07-24T15:33:56.679251",
     "status": "completed"
    },
    "tags": []
   },
   "outputs": [
    {
     "data": {
      "application/scrapbook.scrap.json+json": {
       "data": 0.009533027393035704,
       "encoder": "json",
       "name": "ABC-GAN Model 3 MSE",
       "version": 1
      }
     },
     "metadata": {
      "scrapbook": {
       "data": true,
       "display": false,
       "name": "ABC-GAN Model 3 MSE"
      }
     },
     "output_type": "display_data"
    },
    {
     "data": {
      "application/scrapbook.scrap.json+json": {
       "data": 0.08314615651432956,
       "encoder": "json",
       "name": "ABC-GAN Model 3 MAE",
       "version": 1
      }
     },
     "metadata": {
      "scrapbook": {
       "data": true,
       "display": false,
       "name": "ABC-GAN Model 3 MAE"
      }
     },
     "output_type": "display_data"
    },
    {
     "data": {
      "application/scrapbook.scrap.json+json": {
       "data": 12.804508103206754,
       "encoder": "json",
       "name": "ABC-GAN Model 3 Manhattan Distance",
       "version": 1
      }
     },
     "metadata": {
      "scrapbook": {
       "data": true,
       "display": false,
       "name": "ABC-GAN Model 3 Manhattan Distance"
      }
     },
     "output_type": "display_data"
    },
    {
     "data": {
      "application/scrapbook.scrap.json+json": {
       "data": 1.2103614989896627,
       "encoder": "json",
       "name": "ABC-GAN Model 3 Euclidean distance",
       "version": 1
      }
     },
     "metadata": {
      "scrapbook": {
       "data": true,
       "display": false,
       "name": "ABC-GAN Model 3 Euclidean distance"
      }
     },
     "output_type": "display_data"
    },
    {
     "data": {
      "application/scrapbook.scrap.json+json": {
       "data": [
        [
         0.009761581386401822,
         0.009163203522520072,
         0.010418363576523223,
         0.008699941514650951,
         0.007373561839579834,
         0.010322330668679013,
         0.010072830396139758,
         0.009323981738200508,
         0.007945045872180532,
         0.009556002507575975,
         0.009496374896267592,
         0.009733386111276391,
         0.008668438278556538,
         0.010149044465455665,
         0.00992298278654331,
         0.008553912495962417,
         0.009655436994900778,
         0.010091140578011713,
         0.00948105900990661,
         0.008827005079017583,
         0.011046457239697336,
         0.008849023394122106,
         0.008614373873347283,
         0.007935472397678132,
         0.009202830098221473,
         0.01057638141510235,
         0.01050961728591999,
         0.00967348595783479,
         0.008583178909918195,
         0.010262271771223627,
         0.009419774472365309,
         0.008792002053810796,
         0.008800020159128182,
         0.009689363335654592,
         0.009614292217362723,
         0.010748250101693918,
         0.008635242445990902,
         0.009767407503896567,
         0.008753887371398324,
         0.008792096817430858,
         0.008433736170000148,
         0.009093084463833575,
         0.00941469152113462,
         0.010009757192189302,
         0.00930599531636176,
         0.008380338837850228,
         0.008807839492101687,
         0.009348701590975611,
         0.009313655860413375,
         0.009744233561451104,
         0.010072490850946691,
         0.011092683754288828,
         0.010256738893064107,
         0.008334815793324787,
         0.009053363750695756,
         0.010138398360132321,
         0.008884207248694164,
         0.010775784153993261,
         0.010048471185991822,
         0.008177999231476272,
         0.008520612752207732,
         0.008719747929574806,
         0.00908672314549199,
         0.010291106585431484,
         0.010392659311435695,
         0.010661842861135725,
         0.010014339617299074,
         0.011431131408631879,
         0.01045641123889158,
         0.009060912048188343,
         0.009548756695212606,
         0.010312670453652681,
         0.010615022385867975,
         0.009392951050683244,
         0.009017901869078478,
         0.008564612270492305,
         0.01108387554634446,
         0.010954399427929746,
         0.00796466792985993,
         0.011299322716958743,
         0.00874133015779368,
         0.009935012762729619,
         0.009263366192736294,
         0.010683628846226515,
         0.009309813293227408,
         0.010460311953813488,
         0.010467527325968238,
         0.010768051666495037,
         0.008783063610136609,
         0.008099865092781877,
         0.008641415596648562,
         0.009963394681846042,
         0.009424485419494382,
         0.010088220228375838,
         0.010100557591446508,
         0.010196618013720451,
         0.008327679654462022,
         0.010746088654572123,
         0.008891020687668718,
         0.00885358085999139
        ],
        [
         0.08655096718726994,
         0.0774558512373017,
         0.08872426690703089,
         0.07734863525377465,
         0.07320710893284965,
         0.08971078609201041,
         0.08446976554567938,
         0.08154686523432081,
         0.07601960092879735,
         0.08102981371248698,
         0.08177379211531831,
         0.08319012271603207,
         0.08006701117695926,
         0.08689582645409293,
         0.08336178912454612,
         0.07794049795862142,
         0.08537261548464174,
         0.08616288424796098,
         0.0782611340332728,
         0.08149510126125503,
         0.08759605258025906,
         0.08064428332273836,
         0.07738991359901892,
         0.0772048436927718,
         0.08487103040051924,
         0.08694796793936908,
         0.0877377095499209,
         0.08561430709412346,
         0.07867416243564773,
         0.08728115891965178,
         0.08255237120796334,
         0.0813078268056179,
         0.08156640738152064,
         0.08426606763976735,
         0.08326485029772504,
         0.08923774945561762,
         0.0786885768900831,
         0.08341648219177475,
         0.07615138597592905,
         0.0805869521694137,
         0.07895301178388008,
         0.07978893751157569,
         0.08169867226539494,
         0.08578110812836653,
         0.08289057531623871,
         0.07741293686067129,
         0.07931678705885038,
         0.08237717786876413,
         0.08373645598721968,
         0.08435207656161352,
         0.08864393494055643,
         0.0911302695462069,
         0.08511985632796566,
         0.07487332982966652,
         0.08218790810893882,
         0.08693946019879409,
         0.07993128791741737,
         0.08867136909106335,
         0.08386285111985424,
         0.07872757366435094,
         0.07719283572748883,
         0.07862295783669143,
         0.08121034224795831,
         0.08533362722532316,
         0.08654691000747217,
         0.09188173350865965,
         0.08636567371522451,
         0.09460876681297631,
         0.08775916257752227,
         0.07972427692215939,
         0.0812143316952052,
         0.08733089391577553,
         0.08731529941516263,
         0.0845898665826429,
         0.07924411119288438,
         0.08062479763545773,
         0.08881209357702113,
         0.09018164246597073,
         0.0783880152921011,
         0.08917490163116486,
         0.08005626976199738,
         0.08493664834116187,
         0.08089050522388576,
         0.08781823407036143,
         0.08125798604995399,
         0.0877393057158628,
         0.08878970371148029,
         0.08793848953754096,
         0.08187678792550192,
         0.07654237038419619,
         0.07794490521894647,
         0.0848662635771098,
         0.08225660792902692,
         0.084764422026354,
         0.0845673174488467,
         0.08734024453956585,
         0.07829076121863607,
         0.08912595862208249,
         0.08070943850491728,
         0.07880107639962203
        ],
        [
         13.328848946839571,
         11.928201090544462,
         13.663537103682756,
         11.911689829081297,
         11.273894775658846,
         13.815461058169603,
         13.008343894034624,
         12.558217246085405,
         11.707018543034792,
         12.478591311722994,
         12.59316398575902,
         12.811278898268938,
         12.330319721251726,
         13.381957273930311,
         12.837715525180101,
         12.002836685627699,
         13.147382784634829,
         13.269084174185991,
         12.05221464112401,
         12.550245594233274,
         13.489792097359896,
         12.419219631701708,
         11.918046694248915,
         11.889545928686857,
         13.070138681679964,
         13.38998706266284,
         13.511607270687819,
         13.184603292495012,
         12.11582101508975,
         13.441298473626375,
         12.713065166026354,
         12.521405328065157,
         12.561226736754179,
         12.976974416524172,
         12.822786945849657,
         13.742613416165113,
         12.118040841072798,
         12.846138257533312,
         11.727313440293074,
         12.410390634089708,
         12.158763814717531,
         12.287496376782656,
         12.581595528870821,
         13.210290651768446,
         12.765148598700762,
         11.921592276543379,
         12.21478520706296,
         12.686085391789675,
         12.895414222031832,
         12.990219790488482,
         13.65116598084569,
         14.034061510115862,
         13.108457874506712,
         11.530492793768644,
         12.656937848776579,
         13.38867687061429,
         12.309418339282274,
         13.655390840023756,
         12.914879072457552,
         12.124046344310045,
         11.887696702033281,
         12.107935506850481,
         12.50639270618558,
         13.141378592699766,
         13.328224141150713,
         14.149786960333586,
         13.300313752144575,
         14.569750089198351,
         13.514911036938429,
         12.277538646012545,
         12.507007081061602,
         13.448957663029432,
         13.446556109935045,
         13.026839453727007,
         12.203593123704195,
         12.41621883586049,
         13.677062410861254,
         13.887972939759493,
         12.071754354983568,
         13.732934851199389,
         12.328665543347597,
         13.080243844538927,
         12.457137804478407,
         13.524008046835661,
         12.513729851692915,
         13.511853080242872,
         13.673614371567965,
         13.54252738878131,
         12.609025340527296,
         11.787525039166212,
         12.003515403717756,
         13.06940459087491,
         12.667517621070147,
         13.053720992058516,
         13.023366887122393,
         13.450397659093142,
         12.056777227669954,
         13.725397627800703,
         12.429253529757261,
         12.135365765541792
        ],
        [
         1.2260846355394395,
         1.1879113361139757,
         1.2666601717842778,
         1.1574934095951674,
         1.0656118070363592,
         1.2608088368093586,
         1.2454781736367453,
         1.1982876064129504,
         1.106136096651674,
         1.213105265905107,
         1.2093145719891119,
         1.2243126484426126,
         1.1553958174139747,
         1.250181125949425,
         1.236179335342437,
         1.147738003369328,
         1.2194003842933294,
         1.2466096618484086,
         1.2083389787330447,
         1.1659154266792715,
         1.3042831038211717,
         1.1673686661439924,
         1.151787122907476,
         1.1054694700634804,
         1.1904771459906764,
         1.2762298922708877,
         1.2721953710148761,
         1.2205395681855453,
         1.1496997660813026,
         1.2571355745377815,
         1.2044273613399263,
         1.1636014421986862,
         1.1641319102686516,
         1.221540811307918,
         1.2167994910723208,
         1.286557622363205,
         1.1531813979953887,
         1.2264504700965593,
         1.1610765070379048,
         1.1636077130564029,
         1.1396470375427747,
         1.1833575146296111,
         1.2041023603725438,
         1.2415726348454819,
         1.1971312704627304,
         1.1360335298876238,
         1.1646489950983772,
         1.1998750122451272,
         1.19762389860242,
         1.2249946809939503,
         1.2454571815384863,
         1.3070092953611614,
         1.2567966380969804,
         1.132943790385038,
         1.1807700951527975,
         1.249525248828681,
         1.1696871018776351,
         1.2882044712369858,
         1.2439712869044608,
         1.1222352167203387,
         1.145501795651142,
         1.1588102438080705,
         1.182943516997226,
         1.258900478257296,
         1.2650966500473775,
         1.281375745288985,
         1.2418567957152136,
         1.326798491455771,
         1.2689709731862677,
         1.1812622297445239,
         1.2126452618398924,
         1.2602187309600317,
         1.278559129420172,
         1.2027112961160793,
         1.1784552973439788,
         1.1484556106597306,
         1.3064902732653796,
         1.2988369843445253,
         1.107501178869995,
         1.3191268697178624,
         1.160243441825993,
         1.236928439910879,
         1.1943861995524685,
         1.2826842332853723,
         1.1973768191997958,
         1.2692076429360473,
         1.2696453080286274,
         1.2877421933912998,
         1.1630098004578626,
         1.116861327241842,
         1.1535935167483728,
         1.238693981984368,
         1.2047284982941735,
         1.2464292660114646,
         1.2471911918718646,
         1.2531078062612766,
         1.1324586821545195,
         1.2864282540445489,
         1.1701355416792458,
         1.167669239313374
        ]
       ],
       "encoder": "json",
       "name": "ABC_GAN_4 Metrics",
       "version": 1
      }
     },
     "metadata": {
      "scrapbook": {
       "data": true,
       "display": false,
       "name": "ABC_GAN_4 Metrics"
      }
     },
     "output_type": "display_data"
    },
    {
     "name": "stdout",
     "output_type": "stream",
     "text": [
      "MAE\n",
      "0.08314615651432956\n"
     ]
    }
   ],
   "source": [
    "ABC_GAN4_metrics=ABC_train_test2.test_generator(gen4,test_data,prior_model,variance,bias,\"3\",device)\n",
    "sb.glue(\"ABC_GAN_4 Metrics\",ABC_GAN4_metrics)\n",
    "\n",
    "print(\"MAE\")\n",
    "print(mean(ABC_GAN4_metrics[1]))"
   ]
  },
  {
   "cell_type": "code",
   "execution_count": 26,
   "id": "08fc4e41",
   "metadata": {
    "execution": {
     "iopub.execute_input": "2022-07-24T15:34:00.361300Z",
     "iopub.status.busy": "2022-07-24T15:34:00.360425Z",
     "iopub.status.idle": "2022-07-24T15:34:01.297781Z",
     "shell.execute_reply": "2022-07-24T15:34:01.294370Z"
    },
    "id": "c8e46b48",
    "papermill": {
     "duration": 0.9696,
     "end_time": "2022-07-24T15:34:01.300549",
     "exception": false,
     "start_time": "2022-07-24T15:34:00.330949",
     "status": "completed"
    },
    "tags": []
   },
   "outputs": [
    {
     "data": {
      "image/png": "[encoded data removed]",
      "text/plain": [
       "<Figure size 432x288 with 1 Axes>"
      ]
     },
     "metadata": {
      "needs_background": "light"
     },
     "output_type": "display_data"
    },
    {
     "data": {
      "image/png": "[encoded data removed]",
      "text/plain": [
       "<Figure size 432x288 with 1 Axes>"
      ]
     },
     "metadata": {
      "needs_background": "light"
     },
     "output_type": "display_data"
    },
    {
     "data": {
      "image/png": "[encoded data removed]",
      "text/plain": [
       "<Figure size 432x288 with 1 Axes>"
      ]
     },
     "metadata": {
      "needs_background": "light"
     },
     "output_type": "display_data"
    },
    {
     "data": {
      "image/png": "[encoded data removed]",
      "text/plain": [
       "<Figure size 432x288 with 1 Axes>"
      ]
     },
     "metadata": {
      "needs_background": "light"
     },
     "output_type": "display_data"
    }
   ],
   "source": [
    "sanityChecks.discProbVsError(train_data,disc4,device)\n",
    "sanityChecks.discProbVsError(test_data,disc4,device)"
   ]
  },
  {
   "cell_type": "markdown",
   "id": "a5bd74c3",
   "metadata": {
    "id": "a5bd74c3",
    "papermill": {
     "duration": 0.028449,
     "end_time": "2022-07-24T15:34:01.361602",
     "exception": false,
     "start_time": "2022-07-24T15:34:01.333153",
     "status": "completed"
    },
    "tags": []
   },
   "source": [
    "## Skip Connection Model Analysis - ABC-GAN "
   ]
  },
  {
   "cell_type": "markdown",
   "id": "5744a8bf",
   "metadata": {
    "id": "5744a8bf",
    "papermill": {
     "duration": 0.030047,
     "end_time": "2022-07-24T15:34:01.420618",
     "exception": false,
     "start_time": "2022-07-24T15:34:01.390571",
     "status": "completed"
    },
    "tags": []
   },
   "source": [
    "### Weight Analysis \n",
    "\n",
    "Study the weights of the skip connection layer\n",
    "\n",
    "Equation of the skip connection is \n",
    "\n",
    "$output = y_{gan} * w + y_{abc} * (1-w)$"
   ]
  },
  {
   "cell_type": "code",
   "execution_count": 27,
   "id": "52c31dea",
   "metadata": {
    "execution": {
     "iopub.execute_input": "2022-07-24T15:34:01.479782Z",
     "iopub.status.busy": "2022-07-24T15:34:01.479343Z",
     "iopub.status.idle": "2022-07-24T15:34:01.538173Z",
     "shell.execute_reply": "2022-07-24T15:34:01.536731Z"
    },
    "id": "52c31dea",
    "papermill": {
     "duration": 0.091106,
     "end_time": "2022-07-24T15:34:01.540921",
     "exception": false,
     "start_time": "2022-07-24T15:34:01.449815",
     "status": "completed"
    },
    "tags": []
   },
   "outputs": [
    {
     "name": "stdout",
     "output_type": "stream",
     "text": [
      "Weight of the node at skip connection\n",
      "Parameter containing:\n",
      "tensor([[0.2750]], requires_grad=True)\n"
     ]
    },
    {
     "data": {
      "application/scrapbook.scrap.json+json": {
       "data": 0.2750074565410614,
       "encoder": "json",
       "name": "Skip Connection Weight",
       "version": 1
      }
     },
     "metadata": {
      "scrapbook": {
       "data": true,
       "display": false,
       "name": "Skip Connection Weight"
      }
     },
     "output_type": "display_data"
    }
   ],
   "source": [
    "print(\"Weight of the node at skip connection\")\n",
    "for name,param in gen3.named_parameters():\n",
    "    if(name == \"skipNode.weight\"):\n",
    "        print(param)\n",
    "        sb.glue(\"Skip Connection Weight\",param.item())"
   ]
  },
  {
   "cell_type": "markdown",
   "id": "80fcc2a0",
   "metadata": {
    "id": "a5bd74c3",
    "papermill": {
     "duration": 0.024459,
     "end_time": "2022-07-24T15:34:01.819242",
     "exception": false,
     "start_time": "2022-07-24T15:34:01.794783",
     "status": "completed"
    },
    "tags": []
   },
   "source": [
    "## skipGAN Model Analysis (TabNet Generator) "
   ]
  },
  {
   "cell_type": "markdown",
   "id": "e6db0058",
   "metadata": {
    "id": "5744a8bf",
    "papermill": {
     "duration": 0.037024,
     "end_time": "2022-07-24T15:34:01.884952",
     "exception": false,
     "start_time": "2022-07-24T15:34:01.847928",
     "status": "completed"
    },
    "tags": []
   },
   "source": [
    "### Weight Analysis \n",
    "\n",
    "Study the weights of the skip connection layer\n",
    "\n",
    "Equation of the skip connection is \n",
    "\n",
    "$output = y_{gan} * w + y_{abc} * (1-w)$"
   ]
  },
  {
   "cell_type": "code",
   "execution_count": 28,
   "id": "76e881ca",
   "metadata": {
    "execution": {
     "iopub.execute_input": "2022-07-24T15:34:01.961017Z",
     "iopub.status.busy": "2022-07-24T15:34:01.960328Z",
     "iopub.status.idle": "2022-07-24T15:34:01.976303Z",
     "shell.execute_reply": "2022-07-24T15:34:01.974534Z"
    },
    "id": "52c31dea",
    "papermill": {
     "duration": 0.066579,
     "end_time": "2022-07-24T15:34:01.983092",
     "exception": false,
     "start_time": "2022-07-24T15:34:01.916513",
     "status": "completed"
    },
    "tags": []
   },
   "outputs": [
    {
     "name": "stdout",
     "output_type": "stream",
     "text": [
      "Weight of the node at skip connection\n",
      "Parameter containing:\n",
      "tensor([[0.4251]], requires_grad=True)\n"
     ]
    },
    {
     "data": {
      "application/scrapbook.scrap.json+json": {
       "data": 0.4250889718532562,
       "encoder": "json",
       "name": "Skip Connection Weight",
       "version": 1
      }
     },
     "metadata": {
      "scrapbook": {
       "data": true,
       "display": false,
       "name": "Skip Connection Weight"
      }
     },
     "output_type": "display_data"
    }
   ],
   "source": [
    "print(\"Weight of the node at skip connection\")\n",
    "for name,param in gen4.named_parameters():\n",
    "    if(name == \"skipNode.weight\"):\n",
    "        print(param)\n",
    "        sb.glue(\"Skip Connection Weight\",param.item())"
   ]
  }
 ],
 "metadata": {
  "colab": {
   "collapsed_sections": [],
   "name": "ABC_GAN_Model-Catboost_Pre-gen.ipynb",
   "provenance": []
  },
  "interpreter": {
   "hash": "31f2aee4e71d21fbe5cf8b01ff0e069b9275f58929596ceb00d14d90e3e16cd6"
  },
  "kernelspec": {
   "display_name": "Python 3 (ipykernel)",
   "language": "python",
   "name": "python3"
  },
  "language_info": {
   "codemirror_mode": {
    "name": "ipython",
    "version": 3
   },
   "file_extension": ".py",
   "mimetype": "text/x-python",
   "name": "python",
   "nbconvert_exporter": "python",
   "pygments_lexer": "ipython3",
   "version": "3.8.13"
  },
  "papermill": {
   "default_parameters": {},
   "duration": 3417.210683,
   "end_time": "2022-07-24T15:34:03.726597",
   "environment_variables": {},
   "exception": null,
   "input_path": "ABC_GAN-Catboost.ipynb",
   "output_path": "./ABC_GAN_Catboost/ABC-GAN_output_1_1.ipynb",
   "parameters": {
    "bias": 1,
    "variance": 0.1
   },
   "start_time": "2022-07-24T14:37:06.515914",
   "version": "2.3.3"
  }
 },
 "nbformat": 4,
 "nbformat_minor": 5
}