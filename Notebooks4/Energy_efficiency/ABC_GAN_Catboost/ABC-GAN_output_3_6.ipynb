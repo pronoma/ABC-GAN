{
 "cells": [
  {
   "cell_type": "markdown",
   "id": "16f9febc",
   "metadata": {
    "tags": [
     "papermill-error-cell-tag"
    ]
   },
   "source": [
    "<span style=\"color:red; font-family:Helvetica Neue, Helvetica, Arial, sans-serif; font-size:2em;\">An Exception was encountered at '<a href=\"#papermill-error-cell\">In [20]</a>'.</span>"
   ]
  },
  {
   "cell_type": "markdown",
   "id": "622780e6",
   "metadata": {
    "id": "622780e6",
    "papermill": {
     "duration": 0.026517,
     "end_time": "2022-07-24T13:11:22.255053",
     "exception": false,
     "start_time": "2022-07-24T13:11:22.228536",
     "status": "completed"
    },
    "tags": []
   },
   "source": [
    "## Import Libraries "
   ]
  },
  {
   "cell_type": "code",
   "execution_count": 1,
   "id": "a62397e3",
   "metadata": {
    "execution": {
     "iopub.execute_input": "2022-07-24T13:11:22.295715Z",
     "iopub.status.busy": "2022-07-24T13:11:22.294599Z",
     "iopub.status.idle": "2022-07-24T13:11:22.329016Z",
     "shell.execute_reply": "2022-07-24T13:11:22.326626Z"
    },
    "id": "a62397e3",
    "papermill": {
     "duration": 0.058368,
     "end_time": "2022-07-24T13:11:22.333129",
     "exception": false,
     "start_time": "2022-07-24T13:11:22.274761",
     "status": "completed"
    },
    "tags": []
   },
   "outputs": [],
   "source": [
    "import warnings\n",
    "import sys\n",
    "sys.path.insert(0, '../../src')\n",
    "warnings.filterwarnings('ignore')"
   ]
  },
  {
   "cell_type": "code",
   "execution_count": 2,
   "id": "d6a4e155",
   "metadata": {
    "execution": {
     "iopub.execute_input": "2022-07-24T13:11:22.358321Z",
     "iopub.status.busy": "2022-07-24T13:11:22.357611Z",
     "iopub.status.idle": "2022-07-24T13:11:29.259717Z",
     "shell.execute_reply": "2022-07-24T13:11:29.258790Z"
    },
    "id": "d6a4e155",
    "papermill": {
     "duration": 6.919424,
     "end_time": "2022-07-24T13:11:29.262414",
     "exception": false,
     "start_time": "2022-07-24T13:11:22.342990",
     "status": "completed"
    },
    "tags": []
   },
   "outputs": [],
   "source": [
    "import ABC_train_test2\n",
    "import energyefficiencyDataset\n",
    "import network\n",
    "import dataset\n",
    "import sanityChecks\n",
    "import torch \n",
    "import scrapbook as sb\n",
    "from statistics import mean \n",
    "import catboost as ctb \n",
    "from sklearn.model_selection import train_test_split\n",
    "from sklearn.metrics import mean_squared_error,mean_absolute_error\n",
    "import numpy as np"
   ]
  },
  {
   "cell_type": "markdown",
   "id": "2fa5b0f7",
   "metadata": {
    "id": "2fa5b0f7",
    "papermill": {
     "duration": 0.011265,
     "end_time": "2022-07-24T13:11:29.288372",
     "exception": false,
     "start_time": "2022-07-24T13:11:29.277107",
     "status": "completed"
    },
    "tags": []
   },
   "source": [
    "## Parameters "
   ]
  },
  {
   "cell_type": "code",
   "execution_count": 3,
   "id": "783186fb",
   "metadata": {
    "execution": {
     "iopub.execute_input": "2022-07-24T13:11:29.309781Z",
     "iopub.status.busy": "2022-07-24T13:11:29.308024Z",
     "iopub.status.idle": "2022-07-24T13:11:29.314135Z",
     "shell.execute_reply": "2022-07-24T13:11:29.313341Z"
    },
    "id": "783186fb",
    "papermill": {
     "duration": 0.019219,
     "end_time": "2022-07-24T13:11:29.317959",
     "exception": false,
     "start_time": "2022-07-24T13:11:29.298740",
     "status": "completed"
    },
    "tags": [
     "parameters"
    ]
   },
   "outputs": [],
   "source": [
    "variance = 1\n",
    "bias = 1 "
   ]
  },
  {
   "cell_type": "code",
   "execution_count": 4,
   "id": "dd03b25b",
   "metadata": {
    "execution": {
     "iopub.execute_input": "2022-07-24T13:11:29.335139Z",
     "iopub.status.busy": "2022-07-24T13:11:29.334552Z",
     "iopub.status.idle": "2022-07-24T13:11:29.343184Z",
     "shell.execute_reply": "2022-07-24T13:11:29.341384Z"
    },
    "papermill": {
     "duration": 0.021578,
     "end_time": "2022-07-24T13:11:29.346785",
     "exception": false,
     "start_time": "2022-07-24T13:11:29.325207",
     "status": "completed"
    },
    "tags": [
     "injected-parameters"
    ]
   },
   "outputs": [],
   "source": [
    "# Parameters\n",
    "variance = 1\n",
    "bias = 0.01\n"
   ]
  },
  {
   "cell_type": "markdown",
   "id": "391cdbfd",
   "metadata": {
    "id": "391cdbfd",
    "papermill": {
     "duration": 0.007872,
     "end_time": "2022-07-24T13:11:29.364541",
     "exception": false,
     "start_time": "2022-07-24T13:11:29.356669",
     "status": "completed"
    },
    "tags": []
   },
   "source": [
    "## Dataset \n"
   ]
  },
  {
   "cell_type": "code",
   "execution_count": 5,
   "id": "5b51f161",
   "metadata": {
    "execution": {
     "iopub.execute_input": "2022-07-24T13:11:29.382591Z",
     "iopub.status.busy": "2022-07-24T13:11:29.382215Z",
     "iopub.status.idle": "2022-07-24T13:11:29.388079Z",
     "shell.execute_reply": "2022-07-24T13:11:29.386346Z"
    },
    "id": "5b51f161",
    "papermill": {
     "duration": 0.021353,
     "end_time": "2022-07-24T13:11:29.393963",
     "exception": false,
     "start_time": "2022-07-24T13:11:29.372610",
     "status": "completed"
    },
    "tags": []
   },
   "outputs": [],
   "source": [
    "#Parameters \n",
    "n_features = 8\n",
    "n_samples= 768\n",
    "n_target = 1 "
   ]
  },
  {
   "cell_type": "code",
   "execution_count": 6,
   "id": "5d6eced4",
   "metadata": {
    "execution": {
     "iopub.execute_input": "2022-07-24T13:11:29.415598Z",
     "iopub.status.busy": "2022-07-24T13:11:29.414971Z",
     "iopub.status.idle": "2022-07-24T13:11:30.003266Z",
     "shell.execute_reply": "2022-07-24T13:11:30.001975Z"
    },
    "id": "5d6eced4",
    "papermill": {
     "duration": 0.602115,
     "end_time": "2022-07-24T13:11:30.006817",
     "exception": false,
     "start_time": "2022-07-24T13:11:29.404702",
     "status": "completed"
    },
    "tags": []
   },
   "outputs": [
    {
     "name": "stdout",
     "output_type": "stream",
     "text": [
      "     X1     X2     X3      X4   X5  X6   X7  X8     Y1     Y2\n",
      "0  0.98  514.5  294.0  110.25  7.0   2  0.0   0  15.55  21.33\n",
      "1  0.98  514.5  294.0  110.25  7.0   3  0.0   0  15.55  21.33\n",
      "2  0.98  514.5  294.0  110.25  7.0   4  0.0   0  15.55  21.33\n",
      "3  0.98  514.5  294.0  110.25  7.0   5  0.0   0  15.55  21.33\n",
      "4  0.90  563.5  318.5  122.50  7.0   2  0.0   0  20.84  28.28\n"
     ]
    }
   ],
   "source": [
    "X,Y = energyefficiencyDataset.energy_data()"
   ]
  },
  {
   "cell_type": "code",
   "execution_count": 7,
   "id": "fe007438",
   "metadata": {
    "execution": {
     "iopub.execute_input": "2022-07-24T13:11:30.025310Z",
     "iopub.status.busy": "2022-07-24T13:11:30.024655Z",
     "iopub.status.idle": "2022-07-24T13:11:30.032174Z",
     "shell.execute_reply": "2022-07-24T13:11:30.031057Z"
    },
    "id": "fe007438",
    "papermill": {
     "duration": 0.019857,
     "end_time": "2022-07-24T13:11:30.035045",
     "exception": false,
     "start_time": "2022-07-24T13:11:30.015188",
     "status": "completed"
    },
    "tags": []
   },
   "outputs": [],
   "source": [
    "#Train test split for dataset \n",
    "X_train,X_test,Y_train,Y_test = train_test_split(X,Y,test_size = 0.2)\n",
    "train_data = dataset.CustomDataset(X_train,Y_train)\n",
    "test_data = dataset.CustomDataset(X_test,Y_test)\n"
   ]
  },
  {
   "cell_type": "markdown",
   "id": "a9a1af34",
   "metadata": {
    "id": "a9a1af34",
    "papermill": {
     "duration": 0.011641,
     "end_time": "2022-07-24T13:11:30.054642",
     "exception": false,
     "start_time": "2022-07-24T13:11:30.043001",
     "status": "completed"
    },
    "tags": []
   },
   "source": [
    "## Training Parameters "
   ]
  },
  {
   "cell_type": "code",
   "execution_count": 8,
   "id": "952b7fc8",
   "metadata": {
    "execution": {
     "iopub.execute_input": "2022-07-24T13:11:30.071636Z",
     "iopub.status.busy": "2022-07-24T13:11:30.071042Z",
     "iopub.status.idle": "2022-07-24T13:11:30.076340Z",
     "shell.execute_reply": "2022-07-24T13:11:30.075265Z"
    },
    "id": "952b7fc8",
    "papermill": {
     "duration": 0.017938,
     "end_time": "2022-07-24T13:11:30.079632",
     "exception": false,
     "start_time": "2022-07-24T13:11:30.061694",
     "status": "completed"
    },
    "tags": []
   },
   "outputs": [],
   "source": [
    "batch_size = 32\n",
    "n_epochs = 1000\n",
    "#Select the device \n",
    "device = torch.device('cuda' if torch.cuda.is_available() else 'cpu')"
   ]
  },
  {
   "cell_type": "markdown",
   "id": "a95e1600",
   "metadata": {
    "id": "a95e1600",
    "papermill": {
     "duration": 0.007274,
     "end_time": "2022-07-24T13:11:30.094297",
     "exception": false,
     "start_time": "2022-07-24T13:11:30.087023",
     "status": "completed"
    },
    "tags": []
   },
   "source": [
    "# ABC Pre-generator Model \n",
    "\n",
    "1. The catboost model is used as a pre-generator model for the ABC-GAN. \n",
    "2. The model is first trained on the entire dataset \n",
    "3. It generats X,Y pairs and we add some Gaussian noise with mean 0 and variance 1 to it which is then feed as input to the generator.\n"
   ]
  },
  {
   "cell_type": "code",
   "execution_count": 9,
   "id": "ff8ce7bd",
   "metadata": {
    "execution": {
     "iopub.execute_input": "2022-07-24T13:11:30.113536Z",
     "iopub.status.busy": "2022-07-24T13:11:30.113082Z",
     "iopub.status.idle": "2022-07-24T13:11:30.956448Z",
     "shell.execute_reply": "2022-07-24T13:11:30.955235Z"
    },
    "id": "ff8ce7bd",
    "papermill": {
     "duration": 0.854282,
     "end_time": "2022-07-24T13:11:30.958961",
     "exception": false,
     "start_time": "2022-07-24T13:11:30.104679",
     "status": "completed"
    },
    "tags": []
   },
   "outputs": [
    {
     "name": "stdout",
     "output_type": "stream",
     "text": [
      "Learning rate set to 0.037906\n",
      "0:\tlearn: 0.9614715\ttotal: 52.6ms\tremaining: 52.6s\n",
      "1:\tlearn: 0.9295402\ttotal: 53ms\tremaining: 26.4s\n",
      "2:\tlearn: 0.9024130\ttotal: 53.4ms\tremaining: 17.7s\n",
      "3:\tlearn: 0.8719828\ttotal: 54ms\tremaining: 13.4s\n",
      "4:\tlearn: 0.8473184\ttotal: 54.3ms\tremaining: 10.8s\n",
      "5:\tlearn: 0.8198452\ttotal: 54.9ms\tremaining: 9.09s\n",
      "6:\tlearn: 0.7974713\ttotal: 55.3ms\tremaining: 7.84s\n",
      "7:\tlearn: 0.7746478\ttotal: 55.8ms\tremaining: 6.92s\n",
      "8:\tlearn: 0.7492278\ttotal: 56.3ms\tremaining: 6.2s\n",
      "9:\tlearn: 0.7279104\ttotal: 56.8ms\tremaining: 5.62s\n",
      "10:\tlearn: 0.7051070\ttotal: 57.3ms\tremaining: 5.16s\n",
      "11:\tlearn: 0.6823910\ttotal: 57.8ms\tremaining: 4.76s\n",
      "12:\tlearn: 0.6610925\ttotal: 58.3ms\tremaining: 4.43s\n",
      "13:\tlearn: 0.6411270\ttotal: 59.8ms\tremaining: 4.21s\n",
      "14:\tlearn: 0.6211331\ttotal: 60.2ms\tremaining: 3.95s\n",
      "15:\tlearn: 0.6030724\ttotal: 60.7ms\tremaining: 3.73s\n",
      "16:\tlearn: 0.5843618\ttotal: 61.4ms\tremaining: 3.55s\n",
      "17:\tlearn: 0.5674904\ttotal: 61.9ms\tremaining: 3.37s\n",
      "18:\tlearn: 0.5509581\ttotal: 62.4ms\tremaining: 3.22s\n"
     ]
    },
    {
     "name": "stdout",
     "output_type": "stream",
     "text": [
      "19:\tlearn: 0.5343913\ttotal: 63.4ms\tremaining: 3.11s\n",
      "20:\tlearn: 0.5191233\ttotal: 64.1ms\tremaining: 2.99s\n",
      "21:\tlearn: 0.5041949\ttotal: 64.7ms\tremaining: 2.88s\n",
      "22:\tlearn: 0.4891453\ttotal: 65.7ms\tremaining: 2.79s\n",
      "23:\tlearn: 0.4736559\ttotal: 66.1ms\tremaining: 2.69s\n",
      "24:\tlearn: 0.4601878\ttotal: 66.5ms\tremaining: 2.6s\n",
      "25:\tlearn: 0.4455842\ttotal: 66.9ms\tremaining: 2.5s\n",
      "26:\tlearn: 0.4318291\ttotal: 69.1ms\tremaining: 2.49s\n",
      "27:\tlearn: 0.4201113\ttotal: 69.5ms\tremaining: 2.41s\n",
      "28:\tlearn: 0.4074254\ttotal: 71.5ms\tremaining: 2.39s\n",
      "29:\tlearn: 0.3958666\ttotal: 71.9ms\tremaining: 2.33s\n",
      "30:\tlearn: 0.3840257\ttotal: 72.6ms\tremaining: 2.27s\n",
      "31:\tlearn: 0.3719695\ttotal: 73.2ms\tremaining: 2.21s\n",
      "32:\tlearn: 0.3618137\ttotal: 73.8ms\tremaining: 2.16s\n",
      "33:\tlearn: 0.3514909\ttotal: 74.4ms\tremaining: 2.11s\n",
      "34:\tlearn: 0.3406858\ttotal: 75ms\tremaining: 2.07s\n",
      "35:\tlearn: 0.3320421\ttotal: 75.5ms\tremaining: 2.02s\n",
      "36:\tlearn: 0.3227622\ttotal: 76ms\tremaining: 1.98s\n",
      "37:\tlearn: 0.3145527\ttotal: 76.5ms\tremaining: 1.94s\n",
      "38:\tlearn: 0.3059723\ttotal: 77ms\tremaining: 1.9s\n",
      "39:\tlearn: 0.2974901\ttotal: 77.8ms\tremaining: 1.87s\n",
      "40:\tlearn: 0.2888904\ttotal: 78.4ms\tremaining: 1.83s\n",
      "41:\tlearn: 0.2818009\ttotal: 78.9ms\tremaining: 1.8s\n",
      "42:\tlearn: 0.2744435\ttotal: 79.4ms\tremaining: 1.77s\n",
      "43:\tlearn: 0.2667423\ttotal: 79.9ms\tremaining: 1.74s\n",
      "44:\tlearn: 0.2598588\ttotal: 80.4ms\tremaining: 1.71s\n",
      "45:\tlearn: 0.2528192\ttotal: 80.8ms\tremaining: 1.68s\n",
      "46:\tlearn: 0.2468756\ttotal: 81.2ms\tremaining: 1.65s\n",
      "47:\tlearn: 0.2412220\ttotal: 81.7ms\tremaining: 1.62s\n",
      "48:\tlearn: 0.2352532\ttotal: 82.2ms\tremaining: 1.59s\n",
      "49:\tlearn: 0.2287990\ttotal: 82.7ms\tremaining: 1.57s\n",
      "50:\tlearn: 0.2232963\ttotal: 83.2ms\tremaining: 1.55s\n",
      "51:\tlearn: 0.2171724\ttotal: 83.6ms\tremaining: 1.52s\n",
      "52:\tlearn: 0.2116389\ttotal: 84.1ms\tremaining: 1.5s\n",
      "53:\tlearn: 0.2059606\ttotal: 84.6ms\tremaining: 1.48s\n",
      "54:\tlearn: 0.2005098\ttotal: 85ms\tremaining: 1.46s\n",
      "55:\tlearn: 0.1950444\ttotal: 85.5ms\tremaining: 1.44s\n",
      "56:\tlearn: 0.1900842\ttotal: 86.1ms\tremaining: 1.42s\n",
      "57:\tlearn: 0.1859981\ttotal: 86.5ms\tremaining: 1.41s\n",
      "58:\tlearn: 0.1809727\ttotal: 87.3ms\tremaining: 1.39s\n",
      "59:\tlearn: 0.1763127\ttotal: 87.7ms\tremaining: 1.37s\n",
      "60:\tlearn: 0.1719478\ttotal: 88.3ms\tremaining: 1.36s\n",
      "61:\tlearn: 0.1678893\ttotal: 89.2ms\tremaining: 1.35s\n",
      "62:\tlearn: 0.1645185\ttotal: 90.2ms\tremaining: 1.34s\n",
      "63:\tlearn: 0.1611722\ttotal: 90.9ms\tremaining: 1.33s\n",
      "64:\tlearn: 0.1584924\ttotal: 91.6ms\tremaining: 1.32s\n",
      "65:\tlearn: 0.1558408\ttotal: 92.1ms\tremaining: 1.3s\n",
      "66:\tlearn: 0.1522045\ttotal: 92.7ms\tremaining: 1.29s\n",
      "67:\tlearn: 0.1494119\ttotal: 93.4ms\tremaining: 1.28s\n",
      "68:\tlearn: 0.1465291\ttotal: 94ms\tremaining: 1.27s\n",
      "69:\tlearn: 0.1431810\ttotal: 94.6ms\tremaining: 1.26s\n",
      "70:\tlearn: 0.1406174\ttotal: 95.2ms\tremaining: 1.25s\n",
      "71:\tlearn: 0.1386661\ttotal: 95.8ms\tremaining: 1.23s\n",
      "72:\tlearn: 0.1356638\ttotal: 96.5ms\tremaining: 1.23s\n",
      "73:\tlearn: 0.1333578\ttotal: 97ms\tremaining: 1.21s\n",
      "74:\tlearn: 0.1305101\ttotal: 97.4ms\tremaining: 1.2s\n",
      "75:\tlearn: 0.1272825\ttotal: 97.8ms\tremaining: 1.19s\n",
      "76:\tlearn: 0.1251064\ttotal: 98.1ms\tremaining: 1.18s\n",
      "77:\tlearn: 0.1226368\ttotal: 98.8ms\tremaining: 1.17s\n",
      "78:\tlearn: 0.1200891\ttotal: 99.2ms\tremaining: 1.16s\n",
      "79:\tlearn: 0.1178946\ttotal: 99.9ms\tremaining: 1.15s\n",
      "80:\tlearn: 0.1156224\ttotal: 100ms\tremaining: 1.14s\n",
      "81:\tlearn: 0.1133548\ttotal: 100ms\tremaining: 1.12s\n",
      "82:\tlearn: 0.1107328\ttotal: 101ms\tremaining: 1.11s\n",
      "83:\tlearn: 0.1086686\ttotal: 101ms\tremaining: 1.1s\n",
      "84:\tlearn: 0.1069278\ttotal: 101ms\tremaining: 1.09s\n",
      "85:\tlearn: 0.1054150\ttotal: 102ms\tremaining: 1.08s\n",
      "86:\tlearn: 0.1038415\ttotal: 102ms\tremaining: 1.07s\n",
      "87:\tlearn: 0.1022789\ttotal: 103ms\tremaining: 1.06s\n",
      "88:\tlearn: 0.1009399\ttotal: 103ms\tremaining: 1.06s\n",
      "89:\tlearn: 0.0986465\ttotal: 104ms\tremaining: 1.05s\n",
      "90:\tlearn: 0.0970453\ttotal: 104ms\tremaining: 1.04s\n",
      "91:\tlearn: 0.0955320\ttotal: 105ms\tremaining: 1.03s\n",
      "92:\tlearn: 0.0941837\ttotal: 105ms\tremaining: 1.02s\n",
      "93:\tlearn: 0.0927591\ttotal: 105ms\tremaining: 1.02s\n",
      "94:\tlearn: 0.0909199\ttotal: 106ms\tremaining: 1.01s\n",
      "95:\tlearn: 0.0899175\ttotal: 106ms\tremaining: 1s\n",
      "96:\tlearn: 0.0884247\ttotal: 107ms\tremaining: 994ms\n",
      "97:\tlearn: 0.0869972\ttotal: 107ms\tremaining: 987ms\n",
      "98:\tlearn: 0.0854237\ttotal: 108ms\tremaining: 980ms\n",
      "99:\tlearn: 0.0845851\ttotal: 108ms\tremaining: 974ms\n",
      "100:\tlearn: 0.0838845\ttotal: 109ms\tremaining: 966ms\n",
      "101:\tlearn: 0.0832757\ttotal: 109ms\tremaining: 957ms\n",
      "102:\tlearn: 0.0822616\ttotal: 109ms\tremaining: 949ms\n",
      "103:\tlearn: 0.0810230\ttotal: 109ms\tremaining: 941ms\n",
      "104:\tlearn: 0.0802347\ttotal: 109ms\tremaining: 933ms\n",
      "105:\tlearn: 0.0792967\ttotal: 110ms\tremaining: 928ms\n",
      "106:\tlearn: 0.0783191\ttotal: 111ms\tremaining: 923ms\n",
      "107:\tlearn: 0.0768747\ttotal: 111ms\tremaining: 915ms\n",
      "108:\tlearn: 0.0758219\ttotal: 111ms\tremaining: 908ms\n",
      "109:\tlearn: 0.0752583\ttotal: 111ms\tremaining: 900ms\n",
      "110:\tlearn: 0.0744010\ttotal: 112ms\tremaining: 895ms\n",
      "111:\tlearn: 0.0732577\ttotal: 112ms\tremaining: 891ms\n",
      "112:\tlearn: 0.0720923\ttotal: 113ms\tremaining: 884ms\n",
      "113:\tlearn: 0.0712378\ttotal: 113ms\tremaining: 877ms\n",
      "114:\tlearn: 0.0706414\ttotal: 113ms\tremaining: 870ms\n",
      "115:\tlearn: 0.0696279\ttotal: 113ms\tremaining: 864ms\n",
      "116:\tlearn: 0.0687454\ttotal: 114ms\tremaining: 859ms\n",
      "117:\tlearn: 0.0677100\ttotal: 114ms\tremaining: 853ms\n",
      "118:\tlearn: 0.0667776\ttotal: 114ms\tremaining: 847ms\n",
      "119:\tlearn: 0.0660113\ttotal: 115ms\tremaining: 841ms\n",
      "120:\tlearn: 0.0656169\ttotal: 115ms\tremaining: 839ms\n",
      "121:\tlearn: 0.0647811\ttotal: 116ms\tremaining: 834ms\n",
      "122:\tlearn: 0.0640759\ttotal: 116ms\tremaining: 828ms\n",
      "123:\tlearn: 0.0633042\ttotal: 117ms\tremaining: 823ms\n",
      "124:\tlearn: 0.0626250\ttotal: 117ms\tremaining: 822ms\n",
      "125:\tlearn: 0.0624412\ttotal: 118ms\tremaining: 816ms\n",
      "126:\tlearn: 0.0620059\ttotal: 118ms\tremaining: 810ms\n",
      "127:\tlearn: 0.0613098\ttotal: 118ms\tremaining: 805ms\n",
      "128:\tlearn: 0.0609054\ttotal: 118ms\tremaining: 800ms\n",
      "129:\tlearn: 0.0601870\ttotal: 119ms\tremaining: 797ms\n",
      "130:\tlearn: 0.0596254\ttotal: 119ms\tremaining: 792ms\n",
      "131:\tlearn: 0.0592987\ttotal: 120ms\tremaining: 791ms\n",
      "132:\tlearn: 0.0588410\ttotal: 121ms\tremaining: 787ms\n",
      "133:\tlearn: 0.0585405\ttotal: 121ms\tremaining: 783ms\n",
      "134:\tlearn: 0.0579775\ttotal: 121ms\tremaining: 778ms\n",
      "135:\tlearn: 0.0573840\ttotal: 122ms\tremaining: 773ms\n",
      "136:\tlearn: 0.0569126\ttotal: 122ms\tremaining: 768ms\n",
      "137:\tlearn: 0.0564126\ttotal: 122ms\tremaining: 763ms\n",
      "138:\tlearn: 0.0560415\ttotal: 123ms\tremaining: 760ms\n",
      "139:\tlearn: 0.0556548\ttotal: 123ms\tremaining: 755ms\n",
      "140:\tlearn: 0.0552197\ttotal: 123ms\tremaining: 751ms\n",
      "141:\tlearn: 0.0549011\ttotal: 123ms\tremaining: 746ms\n",
      "142:\tlearn: 0.0545065\ttotal: 124ms\tremaining: 743ms\n",
      "143:\tlearn: 0.0542890\ttotal: 124ms\tremaining: 739ms\n",
      "144:\tlearn: 0.0540292\ttotal: 125ms\tremaining: 734ms\n",
      "145:\tlearn: 0.0538214\ttotal: 125ms\tremaining: 730ms\n",
      "146:\tlearn: 0.0534833\ttotal: 125ms\tremaining: 727ms\n",
      "147:\tlearn: 0.0532298\ttotal: 126ms\tremaining: 723ms\n",
      "148:\tlearn: 0.0529289\ttotal: 126ms\tremaining: 721ms\n",
      "149:\tlearn: 0.0525868\ttotal: 127ms\tremaining: 718ms\n",
      "150:\tlearn: 0.0523681\ttotal: 129ms\tremaining: 726ms\n",
      "151:\tlearn: 0.0520298\ttotal: 131ms\tremaining: 729ms\n",
      "152:\tlearn: 0.0517578\ttotal: 132ms\tremaining: 729ms\n",
      "153:\tlearn: 0.0514418\ttotal: 132ms\tremaining: 728ms\n",
      "154:\tlearn: 0.0511516\ttotal: 133ms\tremaining: 725ms\n",
      "155:\tlearn: 0.0509201\ttotal: 133ms\tremaining: 721ms\n",
      "156:\tlearn: 0.0507100\ttotal: 135ms\tremaining: 727ms\n",
      "157:\tlearn: 0.0504452\ttotal: 136ms\tremaining: 725ms\n",
      "158:\tlearn: 0.0501724\ttotal: 137ms\tremaining: 722ms\n",
      "159:\tlearn: 0.0499039\ttotal: 138ms\tremaining: 723ms\n",
      "160:\tlearn: 0.0496760\ttotal: 138ms\tremaining: 720ms\n",
      "161:\tlearn: 0.0494646\ttotal: 139ms\tremaining: 718ms\n",
      "162:\tlearn: 0.0491987\ttotal: 139ms\tremaining: 716ms\n",
      "163:\tlearn: 0.0489755\ttotal: 140ms\tremaining: 713ms\n",
      "164:\tlearn: 0.0487913\ttotal: 140ms\tremaining: 709ms\n",
      "165:\tlearn: 0.0486136\ttotal: 141ms\tremaining: 706ms\n",
      "166:\tlearn: 0.0484724\ttotal: 141ms\tremaining: 703ms\n",
      "167:\tlearn: 0.0482888\ttotal: 141ms\tremaining: 699ms\n",
      "168:\tlearn: 0.0481134\ttotal: 141ms\tremaining: 695ms\n",
      "169:\tlearn: 0.0478953\ttotal: 142ms\tremaining: 695ms\n",
      "170:\tlearn: 0.0477604\ttotal: 143ms\tremaining: 691ms\n",
      "171:\tlearn: 0.0475753\ttotal: 143ms\tremaining: 688ms\n",
      "172:\tlearn: 0.0473405\ttotal: 143ms\tremaining: 685ms\n",
      "173:\tlearn: 0.0471888\ttotal: 144ms\tremaining: 682ms\n",
      "174:\tlearn: 0.0470194\ttotal: 144ms\tremaining: 679ms\n",
      "175:\tlearn: 0.0468707\ttotal: 144ms\tremaining: 675ms\n",
      "176:\tlearn: 0.0466387\ttotal: 145ms\tremaining: 673ms\n",
      "177:\tlearn: 0.0465353\ttotal: 145ms\tremaining: 669ms\n",
      "178:\tlearn: 0.0463849\ttotal: 145ms\tremaining: 667ms\n",
      "179:\tlearn: 0.0462037\ttotal: 146ms\tremaining: 665ms\n",
      "180:\tlearn: 0.0460331\ttotal: 147ms\tremaining: 663ms\n",
      "181:\tlearn: 0.0459023\ttotal: 147ms\tremaining: 660ms\n",
      "182:\tlearn: 0.0457764\ttotal: 147ms\tremaining: 658ms\n",
      "183:\tlearn: 0.0456011\ttotal: 148ms\tremaining: 656ms\n",
      "184:\tlearn: 0.0454802\ttotal: 148ms\tremaining: 653ms\n",
      "185:\tlearn: 0.0454028\ttotal: 149ms\tremaining: 651ms\n",
      "186:\tlearn: 0.0452151\ttotal: 149ms\tremaining: 649ms\n",
      "187:\tlearn: 0.0450977\ttotal: 149ms\tremaining: 646ms\n",
      "188:\tlearn: 0.0449614\ttotal: 150ms\tremaining: 643ms\n",
      "189:\tlearn: 0.0448423\ttotal: 150ms\tremaining: 640ms\n",
      "190:\tlearn: 0.0447296\ttotal: 150ms\tremaining: 637ms\n",
      "191:\tlearn: 0.0445939\ttotal: 151ms\tremaining: 634ms\n",
      "192:\tlearn: 0.0445143\ttotal: 151ms\tremaining: 631ms\n",
      "193:\tlearn: 0.0443700\ttotal: 151ms\tremaining: 628ms\n",
      "194:\tlearn: 0.0441709\ttotal: 152ms\tremaining: 626ms\n",
      "195:\tlearn: 0.0440297\ttotal: 152ms\tremaining: 623ms\n"
     ]
    },
    {
     "name": "stdout",
     "output_type": "stream",
     "text": [
      "196:\tlearn: 0.0439473\ttotal: 153ms\tremaining: 623ms\n",
      "197:\tlearn: 0.0438513\ttotal: 156ms\tremaining: 631ms\n",
      "198:\tlearn: 0.0437640\ttotal: 156ms\tremaining: 629ms\n",
      "199:\tlearn: 0.0436548\ttotal: 157ms\tremaining: 626ms\n",
      "200:\tlearn: 0.0435163\ttotal: 157ms\tremaining: 623ms\n",
      "201:\tlearn: 0.0434561\ttotal: 157ms\tremaining: 620ms\n",
      "202:\tlearn: 0.0433536\ttotal: 157ms\tremaining: 617ms\n",
      "203:\tlearn: 0.0432726\ttotal: 158ms\tremaining: 615ms\n",
      "204:\tlearn: 0.0431013\ttotal: 158ms\tremaining: 613ms\n",
      "205:\tlearn: 0.0430411\ttotal: 158ms\tremaining: 610ms\n",
      "206:\tlearn: 0.0428965\ttotal: 158ms\tremaining: 607ms\n",
      "207:\tlearn: 0.0428022\ttotal: 159ms\tremaining: 605ms\n",
      "208:\tlearn: 0.0427299\ttotal: 159ms\tremaining: 602ms\n",
      "209:\tlearn: 0.0425782\ttotal: 159ms\tremaining: 599ms\n",
      "210:\tlearn: 0.0424594\ttotal: 160ms\tremaining: 597ms\n",
      "211:\tlearn: 0.0422991\ttotal: 160ms\tremaining: 594ms\n",
      "212:\tlearn: 0.0422288\ttotal: 160ms\tremaining: 593ms\n",
      "213:\tlearn: 0.0421173\ttotal: 161ms\tremaining: 590ms\n",
      "214:\tlearn: 0.0420123\ttotal: 161ms\tremaining: 588ms\n",
      "215:\tlearn: 0.0418698\ttotal: 161ms\tremaining: 585ms\n",
      "216:\tlearn: 0.0417708\ttotal: 162ms\tremaining: 584ms\n",
      "217:\tlearn: 0.0416986\ttotal: 162ms\tremaining: 581ms\n",
      "218:\tlearn: 0.0416163\ttotal: 162ms\tremaining: 579ms\n",
      "219:\tlearn: 0.0415680\ttotal: 163ms\tremaining: 576ms\n",
      "220:\tlearn: 0.0414846\ttotal: 163ms\tremaining: 575ms\n",
      "221:\tlearn: 0.0413203\ttotal: 164ms\tremaining: 574ms\n",
      "222:\tlearn: 0.0411651\ttotal: 164ms\tremaining: 572ms\n",
      "223:\tlearn: 0.0410755\ttotal: 165ms\tremaining: 572ms\n",
      "224:\tlearn: 0.0409647\ttotal: 167ms\tremaining: 576ms\n",
      "225:\tlearn: 0.0408994\ttotal: 174ms\tremaining: 597ms\n",
      "226:\tlearn: 0.0407823\ttotal: 175ms\tremaining: 595ms\n",
      "227:\tlearn: 0.0405350\ttotal: 175ms\tremaining: 592ms\n",
      "228:\tlearn: 0.0404570\ttotal: 175ms\tremaining: 590ms\n",
      "229:\tlearn: 0.0403446\ttotal: 175ms\tremaining: 588ms\n",
      "230:\tlearn: 0.0402687\ttotal: 176ms\tremaining: 585ms\n",
      "231:\tlearn: 0.0400582\ttotal: 176ms\tremaining: 583ms\n",
      "232:\tlearn: 0.0399951\ttotal: 176ms\tremaining: 581ms\n",
      "233:\tlearn: 0.0397785\ttotal: 177ms\tremaining: 578ms\n",
      "234:\tlearn: 0.0397016\ttotal: 177ms\tremaining: 576ms\n",
      "235:\tlearn: 0.0395621\ttotal: 177ms\tremaining: 574ms\n",
      "236:\tlearn: 0.0394574\ttotal: 178ms\tremaining: 572ms\n",
      "237:\tlearn: 0.0393879\ttotal: 178ms\tremaining: 571ms\n",
      "238:\tlearn: 0.0392480\ttotal: 179ms\tremaining: 569ms\n",
      "239:\tlearn: 0.0390718\ttotal: 179ms\tremaining: 567ms\n",
      "240:\tlearn: 0.0389997\ttotal: 179ms\tremaining: 565ms\n",
      "241:\tlearn: 0.0387768\ttotal: 180ms\tremaining: 563ms\n",
      "242:\tlearn: 0.0386655\ttotal: 180ms\tremaining: 561ms\n",
      "243:\tlearn: 0.0385731\ttotal: 180ms\tremaining: 559ms\n",
      "244:\tlearn: 0.0383742\ttotal: 181ms\tremaining: 557ms\n",
      "245:\tlearn: 0.0383197\ttotal: 181ms\tremaining: 555ms\n",
      "246:\tlearn: 0.0381324\ttotal: 181ms\tremaining: 553ms\n",
      "247:\tlearn: 0.0380472\ttotal: 182ms\tremaining: 551ms\n",
      "248:\tlearn: 0.0379910\ttotal: 182ms\tremaining: 549ms\n",
      "249:\tlearn: 0.0379123\ttotal: 182ms\tremaining: 547ms\n",
      "250:\tlearn: 0.0378699\ttotal: 183ms\tremaining: 545ms\n",
      "251:\tlearn: 0.0378146\ttotal: 183ms\tremaining: 544ms\n",
      "252:\tlearn: 0.0376263\ttotal: 183ms\tremaining: 542ms\n",
      "253:\tlearn: 0.0375353\ttotal: 184ms\tremaining: 539ms\n",
      "254:\tlearn: 0.0373973\ttotal: 184ms\tremaining: 538ms\n",
      "255:\tlearn: 0.0373444\ttotal: 185ms\tremaining: 537ms\n",
      "256:\tlearn: 0.0372119\ttotal: 185ms\tremaining: 535ms\n",
      "257:\tlearn: 0.0371279\ttotal: 185ms\tremaining: 533ms\n",
      "258:\tlearn: 0.0370410\ttotal: 185ms\tremaining: 531ms\n",
      "259:\tlearn: 0.0369900\ttotal: 186ms\tremaining: 529ms\n",
      "260:\tlearn: 0.0368445\ttotal: 186ms\tremaining: 527ms\n",
      "261:\tlearn: 0.0367848\ttotal: 186ms\tremaining: 525ms\n",
      "262:\tlearn: 0.0367375\ttotal: 187ms\tremaining: 523ms\n",
      "263:\tlearn: 0.0366944\ttotal: 187ms\tremaining: 521ms\n",
      "264:\tlearn: 0.0365264\ttotal: 187ms\tremaining: 519ms\n",
      "265:\tlearn: 0.0364092\ttotal: 188ms\tremaining: 518ms\n",
      "266:\tlearn: 0.0362342\ttotal: 188ms\tremaining: 516ms\n",
      "267:\tlearn: 0.0361110\ttotal: 188ms\tremaining: 514ms\n",
      "268:\tlearn: 0.0360355\ttotal: 188ms\tremaining: 512ms\n",
      "269:\tlearn: 0.0360068\ttotal: 189ms\tremaining: 511ms\n",
      "270:\tlearn: 0.0358431\ttotal: 189ms\tremaining: 509ms\n",
      "271:\tlearn: 0.0357199\ttotal: 189ms\tremaining: 507ms\n",
      "272:\tlearn: 0.0356155\ttotal: 190ms\tremaining: 505ms\n",
      "273:\tlearn: 0.0355573\ttotal: 190ms\tremaining: 505ms\n",
      "274:\tlearn: 0.0354142\ttotal: 191ms\tremaining: 503ms\n",
      "275:\tlearn: 0.0352971\ttotal: 191ms\tremaining: 502ms\n",
      "276:\tlearn: 0.0351892\ttotal: 192ms\tremaining: 500ms\n",
      "277:\tlearn: 0.0351359\ttotal: 192ms\tremaining: 499ms\n",
      "278:\tlearn: 0.0350334\ttotal: 192ms\tremaining: 497ms\n",
      "279:\tlearn: 0.0349274\ttotal: 193ms\tremaining: 495ms\n",
      "280:\tlearn: 0.0348716\ttotal: 193ms\tremaining: 493ms\n",
      "281:\tlearn: 0.0347640\ttotal: 193ms\tremaining: 492ms\n",
      "282:\tlearn: 0.0346669\ttotal: 193ms\tremaining: 490ms\n",
      "283:\tlearn: 0.0346120\ttotal: 194ms\tremaining: 488ms\n",
      "284:\tlearn: 0.0345210\ttotal: 194ms\tremaining: 487ms\n",
      "285:\tlearn: 0.0344914\ttotal: 195ms\tremaining: 486ms\n",
      "286:\tlearn: 0.0344564\ttotal: 195ms\tremaining: 484ms\n",
      "287:\tlearn: 0.0344210\ttotal: 195ms\tremaining: 482ms\n",
      "288:\tlearn: 0.0343051\ttotal: 195ms\tremaining: 481ms\n",
      "289:\tlearn: 0.0342126\ttotal: 196ms\tremaining: 479ms\n",
      "290:\tlearn: 0.0341072\ttotal: 196ms\tremaining: 478ms\n",
      "291:\tlearn: 0.0340328\ttotal: 196ms\tremaining: 476ms\n",
      "292:\tlearn: 0.0339338\ttotal: 197ms\tremaining: 474ms\n",
      "293:\tlearn: 0.0338385\ttotal: 197ms\tremaining: 473ms\n",
      "294:\tlearn: 0.0337449\ttotal: 197ms\tremaining: 471ms\n",
      "295:\tlearn: 0.0337122\ttotal: 198ms\tremaining: 470ms\n",
      "296:\tlearn: 0.0336191\ttotal: 199ms\tremaining: 470ms\n",
      "297:\tlearn: 0.0335751\ttotal: 199ms\tremaining: 469ms\n",
      "298:\tlearn: 0.0335399\ttotal: 199ms\tremaining: 467ms\n",
      "299:\tlearn: 0.0334500\ttotal: 202ms\tremaining: 471ms\n",
      "300:\tlearn: 0.0333770\ttotal: 203ms\tremaining: 471ms\n"
     ]
    },
    {
     "name": "stdout",
     "output_type": "stream",
     "text": [
      "301:\tlearn: 0.0333172\ttotal: 206ms\tremaining: 476ms\n",
      "302:\tlearn: 0.0331977\ttotal: 206ms\tremaining: 474ms\n",
      "303:\tlearn: 0.0331106\ttotal: 206ms\tremaining: 473ms\n",
      "304:\tlearn: 0.0330253\ttotal: 207ms\tremaining: 471ms\n",
      "305:\tlearn: 0.0329428\ttotal: 207ms\tremaining: 469ms\n",
      "306:\tlearn: 0.0329135\ttotal: 207ms\tremaining: 468ms\n",
      "307:\tlearn: 0.0328172\ttotal: 207ms\tremaining: 466ms\n",
      "308:\tlearn: 0.0327194\ttotal: 208ms\tremaining: 465ms\n",
      "309:\tlearn: 0.0326625\ttotal: 208ms\tremaining: 463ms\n",
      "310:\tlearn: 0.0325681\ttotal: 209ms\tremaining: 463ms\n",
      "311:\tlearn: 0.0324324\ttotal: 209ms\tremaining: 462ms\n",
      "312:\tlearn: 0.0323367\ttotal: 211ms\tremaining: 463ms\n",
      "313:\tlearn: 0.0322586\ttotal: 211ms\tremaining: 461ms\n",
      "314:\tlearn: 0.0322219\ttotal: 211ms\tremaining: 460ms\n",
      "315:\tlearn: 0.0321763\ttotal: 212ms\tremaining: 458ms\n",
      "316:\tlearn: 0.0320891\ttotal: 212ms\tremaining: 457ms\n",
      "317:\tlearn: 0.0320072\ttotal: 212ms\tremaining: 455ms\n",
      "318:\tlearn: 0.0319770\ttotal: 213ms\tremaining: 454ms\n",
      "319:\tlearn: 0.0319380\ttotal: 213ms\tremaining: 452ms\n",
      "320:\tlearn: 0.0318535\ttotal: 213ms\tremaining: 451ms\n",
      "321:\tlearn: 0.0317393\ttotal: 213ms\tremaining: 449ms\n",
      "322:\tlearn: 0.0317046\ttotal: 214ms\tremaining: 448ms\n",
      "323:\tlearn: 0.0316463\ttotal: 214ms\tremaining: 446ms\n",
      "324:\tlearn: 0.0315833\ttotal: 214ms\tremaining: 445ms\n",
      "325:\tlearn: 0.0315033\ttotal: 214ms\tremaining: 443ms\n",
      "326:\tlearn: 0.0314257\ttotal: 215ms\tremaining: 442ms\n",
      "327:\tlearn: 0.0313926\ttotal: 215ms\tremaining: 440ms\n",
      "328:\tlearn: 0.0313154\ttotal: 215ms\tremaining: 439ms\n",
      "329:\tlearn: 0.0312655\ttotal: 215ms\tremaining: 438ms\n",
      "330:\tlearn: 0.0311467\ttotal: 216ms\tremaining: 437ms\n",
      "331:\tlearn: 0.0311249\ttotal: 217ms\tremaining: 436ms\n",
      "332:\tlearn: 0.0310725\ttotal: 217ms\tremaining: 435ms\n",
      "333:\tlearn: 0.0309879\ttotal: 217ms\tremaining: 433ms\n",
      "334:\tlearn: 0.0309624\ttotal: 217ms\tremaining: 432ms\n",
      "335:\tlearn: 0.0308613\ttotal: 218ms\tremaining: 431ms\n",
      "336:\tlearn: 0.0308281\ttotal: 218ms\tremaining: 429ms\n",
      "337:\tlearn: 0.0307255\ttotal: 218ms\tremaining: 428ms\n",
      "338:\tlearn: 0.0306519\ttotal: 219ms\tremaining: 426ms\n",
      "339:\tlearn: 0.0305730\ttotal: 219ms\tremaining: 425ms\n",
      "340:\tlearn: 0.0304881\ttotal: 219ms\tremaining: 424ms\n",
      "341:\tlearn: 0.0304436\ttotal: 219ms\tremaining: 422ms\n",
      "342:\tlearn: 0.0304125\ttotal: 220ms\tremaining: 421ms\n",
      "343:\tlearn: 0.0303334\ttotal: 220ms\tremaining: 420ms\n",
      "344:\tlearn: 0.0302632\ttotal: 220ms\tremaining: 418ms\n",
      "345:\tlearn: 0.0301736\ttotal: 221ms\tremaining: 417ms\n",
      "346:\tlearn: 0.0300791\ttotal: 221ms\tremaining: 416ms\n",
      "347:\tlearn: 0.0300139\ttotal: 221ms\tremaining: 414ms\n",
      "348:\tlearn: 0.0299347\ttotal: 221ms\tremaining: 413ms\n",
      "349:\tlearn: 0.0298706\ttotal: 222ms\tremaining: 412ms\n",
      "350:\tlearn: 0.0297885\ttotal: 222ms\tremaining: 410ms\n",
      "351:\tlearn: 0.0297320\ttotal: 222ms\tremaining: 410ms\n",
      "352:\tlearn: 0.0296925\ttotal: 223ms\tremaining: 408ms\n",
      "353:\tlearn: 0.0296250\ttotal: 223ms\tremaining: 407ms\n",
      "354:\tlearn: 0.0295463\ttotal: 223ms\tremaining: 406ms\n",
      "355:\tlearn: 0.0295087\ttotal: 224ms\tremaining: 404ms\n",
      "356:\tlearn: 0.0294369\ttotal: 224ms\tremaining: 403ms\n",
      "357:\tlearn: 0.0293445\ttotal: 224ms\tremaining: 402ms\n",
      "358:\tlearn: 0.0292660\ttotal: 224ms\tremaining: 401ms\n",
      "359:\tlearn: 0.0292085\ttotal: 225ms\tremaining: 399ms\n",
      "360:\tlearn: 0.0291419\ttotal: 225ms\tremaining: 398ms\n",
      "361:\tlearn: 0.0290999\ttotal: 225ms\tremaining: 397ms\n",
      "362:\tlearn: 0.0290760\ttotal: 225ms\tremaining: 396ms\n",
      "363:\tlearn: 0.0290376\ttotal: 226ms\tremaining: 394ms\n",
      "364:\tlearn: 0.0289643\ttotal: 226ms\tremaining: 393ms\n",
      "365:\tlearn: 0.0289016\ttotal: 226ms\tremaining: 392ms\n",
      "366:\tlearn: 0.0288647\ttotal: 227ms\tremaining: 391ms\n",
      "367:\tlearn: 0.0287521\ttotal: 227ms\tremaining: 390ms\n",
      "368:\tlearn: 0.0287249\ttotal: 227ms\tremaining: 388ms\n",
      "369:\tlearn: 0.0286728\ttotal: 227ms\tremaining: 387ms\n",
      "370:\tlearn: 0.0286447\ttotal: 228ms\tremaining: 386ms\n",
      "371:\tlearn: 0.0286111\ttotal: 228ms\tremaining: 385ms\n",
      "372:\tlearn: 0.0285420\ttotal: 228ms\tremaining: 384ms\n",
      "373:\tlearn: 0.0284733\ttotal: 232ms\tremaining: 388ms\n",
      "374:\tlearn: 0.0284410\ttotal: 237ms\tremaining: 395ms\n",
      "375:\tlearn: 0.0284240\ttotal: 237ms\tremaining: 394ms\n",
      "376:\tlearn: 0.0283883\ttotal: 238ms\tremaining: 393ms\n",
      "377:\tlearn: 0.0283096\ttotal: 238ms\tremaining: 392ms\n",
      "378:\tlearn: 0.0282940\ttotal: 238ms\tremaining: 391ms\n",
      "379:\tlearn: 0.0282691\ttotal: 239ms\tremaining: 390ms\n",
      "380:\tlearn: 0.0282061\ttotal: 239ms\tremaining: 388ms\n",
      "381:\tlearn: 0.0281677\ttotal: 239ms\tremaining: 387ms\n",
      "382:\tlearn: 0.0281169\ttotal: 240ms\tremaining: 386ms\n",
      "383:\tlearn: 0.0280589\ttotal: 240ms\tremaining: 385ms\n",
      "384:\tlearn: 0.0280393\ttotal: 240ms\tremaining: 384ms\n",
      "385:\tlearn: 0.0279723\ttotal: 240ms\tremaining: 382ms\n",
      "386:\tlearn: 0.0279565\ttotal: 241ms\tremaining: 381ms\n",
      "387:\tlearn: 0.0279235\ttotal: 241ms\tremaining: 380ms\n",
      "388:\tlearn: 0.0278565\ttotal: 241ms\tremaining: 379ms\n",
      "389:\tlearn: 0.0277814\ttotal: 242ms\tremaining: 378ms\n",
      "390:\tlearn: 0.0277101\ttotal: 242ms\tremaining: 377ms\n",
      "391:\tlearn: 0.0276873\ttotal: 242ms\tremaining: 376ms\n",
      "392:\tlearn: 0.0276730\ttotal: 249ms\tremaining: 385ms\n",
      "393:\tlearn: 0.0276416\ttotal: 250ms\tremaining: 384ms\n",
      "394:\tlearn: 0.0276164\ttotal: 250ms\tremaining: 383ms\n",
      "395:\tlearn: 0.0275554\ttotal: 254ms\tremaining: 388ms\n",
      "396:\tlearn: 0.0275007\ttotal: 254ms\tremaining: 387ms\n",
      "397:\tlearn: 0.0274418\ttotal: 255ms\tremaining: 385ms\n",
      "398:\tlearn: 0.0274229\ttotal: 255ms\tremaining: 384ms\n",
      "399:\tlearn: 0.0273605\ttotal: 255ms\tremaining: 383ms\n",
      "400:\tlearn: 0.0273381\ttotal: 256ms\tremaining: 382ms\n",
      "401:\tlearn: 0.0273159\ttotal: 256ms\tremaining: 381ms\n",
      "402:\tlearn: 0.0272532\ttotal: 256ms\tremaining: 379ms\n",
      "403:\tlearn: 0.0272255\ttotal: 256ms\tremaining: 378ms\n",
      "404:\tlearn: 0.0271671\ttotal: 257ms\tremaining: 377ms\n",
      "405:\tlearn: 0.0271011\ttotal: 257ms\tremaining: 376ms\n",
      "406:\tlearn: 0.0270732\ttotal: 257ms\tremaining: 375ms\n",
      "407:\tlearn: 0.0270445\ttotal: 257ms\tremaining: 374ms\n",
      "408:\tlearn: 0.0269741\ttotal: 258ms\tremaining: 372ms\n",
      "409:\tlearn: 0.0269157\ttotal: 260ms\tremaining: 373ms\n",
      "410:\tlearn: 0.0268916\ttotal: 260ms\tremaining: 372ms\n",
      "411:\tlearn: 0.0268611\ttotal: 263ms\tremaining: 376ms\n",
      "412:\tlearn: 0.0267885\ttotal: 263ms\tremaining: 374ms\n",
      "413:\tlearn: 0.0267526\ttotal: 266ms\tremaining: 376ms\n",
      "414:\tlearn: 0.0267074\ttotal: 267ms\tremaining: 376ms\n",
      "415:\tlearn: 0.0266911\ttotal: 267ms\tremaining: 375ms\n",
      "416:\tlearn: 0.0266653\ttotal: 267ms\tremaining: 374ms\n",
      "417:\tlearn: 0.0266064\ttotal: 268ms\tremaining: 373ms\n",
      "418:\tlearn: 0.0265889\ttotal: 269ms\tremaining: 372ms\n",
      "419:\tlearn: 0.0265124\ttotal: 269ms\tremaining: 372ms\n",
      "420:\tlearn: 0.0264221\ttotal: 270ms\tremaining: 371ms\n",
      "421:\tlearn: 0.0264028\ttotal: 270ms\tremaining: 370ms\n",
      "422:\tlearn: 0.0263779\ttotal: 270ms\tremaining: 369ms\n",
      "423:\tlearn: 0.0263630\ttotal: 270ms\tremaining: 367ms\n",
      "424:\tlearn: 0.0263449\ttotal: 271ms\tremaining: 366ms\n",
      "425:\tlearn: 0.0263017\ttotal: 271ms\tremaining: 365ms\n",
      "426:\tlearn: 0.0262478\ttotal: 271ms\tremaining: 364ms\n",
      "427:\tlearn: 0.0261928\ttotal: 272ms\tremaining: 363ms\n",
      "428:\tlearn: 0.0261413\ttotal: 272ms\tremaining: 362ms\n",
      "429:\tlearn: 0.0260876\ttotal: 273ms\tremaining: 361ms\n",
      "430:\tlearn: 0.0260366\ttotal: 273ms\tremaining: 360ms\n",
      "431:\tlearn: 0.0259815\ttotal: 273ms\tremaining: 359ms\n",
      "432:\tlearn: 0.0259416\ttotal: 273ms\tremaining: 358ms\n",
      "433:\tlearn: 0.0258911\ttotal: 274ms\tremaining: 358ms\n",
      "434:\tlearn: 0.0258277\ttotal: 275ms\tremaining: 357ms\n",
      "435:\tlearn: 0.0258041\ttotal: 275ms\tremaining: 356ms\n",
      "436:\tlearn: 0.0257566\ttotal: 276ms\tremaining: 355ms\n",
      "437:\tlearn: 0.0257334\ttotal: 276ms\tremaining: 354ms\n",
      "438:\tlearn: 0.0256840\ttotal: 276ms\tremaining: 353ms\n",
      "439:\tlearn: 0.0256683\ttotal: 277ms\tremaining: 352ms\n",
      "440:\tlearn: 0.0256489\ttotal: 277ms\tremaining: 351ms\n",
      "441:\tlearn: 0.0256296\ttotal: 277ms\tremaining: 350ms\n",
      "442:\tlearn: 0.0255812\ttotal: 278ms\tremaining: 349ms\n",
      "443:\tlearn: 0.0255362\ttotal: 278ms\tremaining: 348ms\n",
      "444:\tlearn: 0.0255239\ttotal: 278ms\tremaining: 347ms\n",
      "445:\tlearn: 0.0254996\ttotal: 278ms\tremaining: 346ms\n",
      "446:\tlearn: 0.0254743\ttotal: 279ms\tremaining: 345ms\n",
      "447:\tlearn: 0.0254610\ttotal: 279ms\tremaining: 344ms\n",
      "448:\tlearn: 0.0254097\ttotal: 279ms\tremaining: 343ms\n",
      "449:\tlearn: 0.0253903\ttotal: 280ms\tremaining: 342ms\n",
      "450:\tlearn: 0.0253324\ttotal: 280ms\tremaining: 341ms\n",
      "451:\tlearn: 0.0252894\ttotal: 280ms\tremaining: 340ms\n",
      "452:\tlearn: 0.0252530\ttotal: 280ms\tremaining: 339ms\n",
      "453:\tlearn: 0.0252126\ttotal: 281ms\tremaining: 338ms\n",
      "454:\tlearn: 0.0251324\ttotal: 281ms\tremaining: 337ms\n",
      "455:\tlearn: 0.0250939\ttotal: 281ms\tremaining: 336ms\n",
      "456:\tlearn: 0.0250308\ttotal: 282ms\tremaining: 335ms\n",
      "457:\tlearn: 0.0249965\ttotal: 282ms\tremaining: 334ms\n",
      "458:\tlearn: 0.0249520\ttotal: 283ms\tremaining: 333ms\n",
      "459:\tlearn: 0.0249013\ttotal: 283ms\tremaining: 332ms\n",
      "460:\tlearn: 0.0248607\ttotal: 283ms\tremaining: 331ms\n",
      "461:\tlearn: 0.0248419\ttotal: 284ms\tremaining: 330ms\n",
      "462:\tlearn: 0.0247900\ttotal: 284ms\tremaining: 329ms\n",
      "463:\tlearn: 0.0247569\ttotal: 284ms\tremaining: 328ms\n"
     ]
    },
    {
     "name": "stdout",
     "output_type": "stream",
     "text": [
      "464:\tlearn: 0.0247093\ttotal: 284ms\tremaining: 327ms\n",
      "465:\tlearn: 0.0246578\ttotal: 285ms\tremaining: 326ms\n",
      "466:\tlearn: 0.0246347\ttotal: 285ms\tremaining: 325ms\n",
      "467:\tlearn: 0.0246268\ttotal: 288ms\tremaining: 328ms\n",
      "468:\tlearn: 0.0245736\ttotal: 289ms\tremaining: 327ms\n",
      "469:\tlearn: 0.0245169\ttotal: 289ms\tremaining: 326ms\n",
      "470:\tlearn: 0.0244954\ttotal: 290ms\tremaining: 325ms\n",
      "471:\tlearn: 0.0244413\ttotal: 290ms\tremaining: 324ms\n",
      "472:\tlearn: 0.0244265\ttotal: 290ms\tremaining: 323ms\n",
      "473:\tlearn: 0.0243858\ttotal: 290ms\tremaining: 322ms\n",
      "474:\tlearn: 0.0243634\ttotal: 291ms\tremaining: 321ms\n",
      "475:\tlearn: 0.0243467\ttotal: 291ms\tremaining: 320ms\n",
      "476:\tlearn: 0.0242960\ttotal: 291ms\tremaining: 319ms\n",
      "477:\tlearn: 0.0242466\ttotal: 295ms\tremaining: 322ms\n",
      "478:\tlearn: 0.0242151\ttotal: 296ms\tremaining: 322ms\n",
      "479:\tlearn: 0.0241777\ttotal: 297ms\tremaining: 322ms\n",
      "480:\tlearn: 0.0241536\ttotal: 298ms\tremaining: 321ms\n",
      "481:\tlearn: 0.0240819\ttotal: 298ms\tremaining: 321ms\n",
      "482:\tlearn: 0.0240586\ttotal: 299ms\tremaining: 320ms\n",
      "483:\tlearn: 0.0240182\ttotal: 300ms\tremaining: 320ms\n",
      "484:\tlearn: 0.0239505\ttotal: 301ms\tremaining: 319ms\n",
      "485:\tlearn: 0.0239284\ttotal: 301ms\tremaining: 318ms\n",
      "486:\tlearn: 0.0239093\ttotal: 302ms\tremaining: 318ms\n",
      "487:\tlearn: 0.0238965\ttotal: 302ms\tremaining: 317ms\n",
      "488:\tlearn: 0.0238497\ttotal: 303ms\tremaining: 316ms\n",
      "489:\tlearn: 0.0238411\ttotal: 303ms\tremaining: 315ms\n",
      "490:\tlearn: 0.0238143\ttotal: 303ms\tremaining: 314ms\n",
      "491:\tlearn: 0.0237650\ttotal: 304ms\tremaining: 314ms\n",
      "492:\tlearn: 0.0237494\ttotal: 304ms\tremaining: 313ms\n",
      "493:\tlearn: 0.0237162\ttotal: 304ms\tremaining: 312ms\n",
      "494:\tlearn: 0.0236944\ttotal: 305ms\tremaining: 311ms\n",
      "495:\tlearn: 0.0236502\ttotal: 305ms\tremaining: 310ms\n",
      "496:\tlearn: 0.0236294\ttotal: 305ms\tremaining: 309ms\n",
      "497:\tlearn: 0.0235840\ttotal: 306ms\tremaining: 308ms\n",
      "498:\tlearn: 0.0235595\ttotal: 306ms\tremaining: 307ms\n",
      "499:\tlearn: 0.0235483\ttotal: 306ms\tremaining: 306ms\n",
      "500:\tlearn: 0.0235221\ttotal: 307ms\tremaining: 305ms\n",
      "501:\tlearn: 0.0234897\ttotal: 307ms\tremaining: 304ms\n",
      "502:\tlearn: 0.0234714\ttotal: 307ms\tremaining: 304ms\n",
      "503:\tlearn: 0.0234602\ttotal: 308ms\tremaining: 303ms\n",
      "504:\tlearn: 0.0234466\ttotal: 308ms\tremaining: 302ms\n",
      "505:\tlearn: 0.0234265\ttotal: 308ms\tremaining: 301ms\n",
      "506:\tlearn: 0.0234187\ttotal: 309ms\tremaining: 300ms\n",
      "507:\tlearn: 0.0233893\ttotal: 309ms\tremaining: 299ms\n",
      "508:\tlearn: 0.0233687\ttotal: 309ms\tremaining: 298ms\n",
      "509:\tlearn: 0.0233486\ttotal: 310ms\tremaining: 298ms\n",
      "510:\tlearn: 0.0233327\ttotal: 310ms\tremaining: 297ms\n",
      "511:\tlearn: 0.0232972\ttotal: 310ms\tremaining: 296ms\n",
      "512:\tlearn: 0.0232587\ttotal: 311ms\tremaining: 295ms\n",
      "513:\tlearn: 0.0232102\ttotal: 311ms\tremaining: 294ms\n",
      "514:\tlearn: 0.0231631\ttotal: 311ms\tremaining: 293ms\n",
      "515:\tlearn: 0.0231219\ttotal: 312ms\tremaining: 292ms\n",
      "516:\tlearn: 0.0230776\ttotal: 312ms\tremaining: 292ms\n",
      "517:\tlearn: 0.0230589\ttotal: 313ms\tremaining: 291ms\n",
      "518:\tlearn: 0.0230135\ttotal: 313ms\tremaining: 290ms\n",
      "519:\tlearn: 0.0229731\ttotal: 313ms\tremaining: 289ms\n",
      "520:\tlearn: 0.0229578\ttotal: 314ms\tremaining: 288ms\n",
      "521:\tlearn: 0.0229449\ttotal: 314ms\tremaining: 287ms\n",
      "522:\tlearn: 0.0229239\ttotal: 314ms\tremaining: 287ms\n",
      "523:\tlearn: 0.0229039\ttotal: 315ms\tremaining: 286ms\n",
      "524:\tlearn: 0.0228907\ttotal: 315ms\tremaining: 285ms\n",
      "525:\tlearn: 0.0228565\ttotal: 316ms\tremaining: 285ms\n",
      "526:\tlearn: 0.0228110\ttotal: 316ms\tremaining: 284ms\n",
      "527:\tlearn: 0.0227920\ttotal: 317ms\tremaining: 283ms\n",
      "528:\tlearn: 0.0227590\ttotal: 317ms\tremaining: 282ms\n",
      "529:\tlearn: 0.0227419\ttotal: 317ms\tremaining: 281ms\n",
      "530:\tlearn: 0.0227287\ttotal: 318ms\tremaining: 280ms\n",
      "531:\tlearn: 0.0226813\ttotal: 318ms\tremaining: 280ms\n",
      "532:\tlearn: 0.0226691\ttotal: 318ms\tremaining: 279ms\n",
      "533:\tlearn: 0.0226529\ttotal: 318ms\tremaining: 278ms\n",
      "534:\tlearn: 0.0226331\ttotal: 319ms\tremaining: 277ms\n",
      "535:\tlearn: 0.0226198\ttotal: 320ms\tremaining: 277ms\n",
      "536:\tlearn: 0.0225820\ttotal: 320ms\tremaining: 276ms\n",
      "537:\tlearn: 0.0225309\ttotal: 320ms\tremaining: 275ms\n",
      "538:\tlearn: 0.0224936\ttotal: 320ms\tremaining: 274ms\n",
      "539:\tlearn: 0.0224836\ttotal: 321ms\tremaining: 273ms\n",
      "540:\tlearn: 0.0224643\ttotal: 321ms\tremaining: 272ms\n",
      "541:\tlearn: 0.0224345\ttotal: 325ms\tremaining: 275ms\n",
      "542:\tlearn: 0.0224083\ttotal: 326ms\tremaining: 274ms\n",
      "543:\tlearn: 0.0223992\ttotal: 326ms\tremaining: 273ms\n",
      "544:\tlearn: 0.0223567\ttotal: 326ms\tremaining: 273ms\n",
      "545:\tlearn: 0.0223403\ttotal: 327ms\tremaining: 272ms\n",
      "546:\tlearn: 0.0223257\ttotal: 327ms\tremaining: 271ms\n",
      "547:\tlearn: 0.0223028\ttotal: 328ms\tremaining: 270ms\n",
      "548:\tlearn: 0.0222936\ttotal: 328ms\tremaining: 270ms\n",
      "549:\tlearn: 0.0222521\ttotal: 328ms\tremaining: 269ms\n",
      "550:\tlearn: 0.0222319\ttotal: 329ms\tremaining: 268ms\n",
      "551:\tlearn: 0.0222034\ttotal: 332ms\tremaining: 269ms\n",
      "552:\tlearn: 0.0221656\ttotal: 332ms\tremaining: 268ms\n",
      "553:\tlearn: 0.0221475\ttotal: 332ms\tremaining: 267ms\n",
      "554:\tlearn: 0.0221047\ttotal: 332ms\tremaining: 267ms\n",
      "555:\tlearn: 0.0220745\ttotal: 336ms\tremaining: 268ms\n"
     ]
    },
    {
     "name": "stdout",
     "output_type": "stream",
     "text": [
      "556:\tlearn: 0.0220548\ttotal: 337ms\tremaining: 268ms\n",
      "557:\tlearn: 0.0220418\ttotal: 338ms\tremaining: 267ms\n",
      "558:\tlearn: 0.0220321\ttotal: 338ms\tremaining: 267ms\n",
      "559:\tlearn: 0.0220202\ttotal: 338ms\tremaining: 266ms\n",
      "560:\tlearn: 0.0219779\ttotal: 338ms\tremaining: 265ms\n",
      "561:\tlearn: 0.0219595\ttotal: 339ms\tremaining: 264ms\n",
      "562:\tlearn: 0.0219156\ttotal: 339ms\tremaining: 263ms\n",
      "563:\tlearn: 0.0218981\ttotal: 339ms\tremaining: 262ms\n",
      "564:\tlearn: 0.0218570\ttotal: 340ms\tremaining: 262ms\n",
      "565:\tlearn: 0.0218171\ttotal: 340ms\tremaining: 261ms\n",
      "566:\tlearn: 0.0218028\ttotal: 341ms\tremaining: 260ms\n",
      "567:\tlearn: 0.0217624\ttotal: 341ms\tremaining: 259ms\n",
      "568:\tlearn: 0.0217502\ttotal: 341ms\tremaining: 259ms\n",
      "569:\tlearn: 0.0217112\ttotal: 342ms\tremaining: 258ms\n",
      "570:\tlearn: 0.0216714\ttotal: 342ms\tremaining: 257ms\n",
      "571:\tlearn: 0.0216467\ttotal: 342ms\tremaining: 256ms\n",
      "572:\tlearn: 0.0216335\ttotal: 343ms\tremaining: 255ms\n",
      "573:\tlearn: 0.0216157\ttotal: 343ms\tremaining: 254ms\n",
      "574:\tlearn: 0.0216033\ttotal: 343ms\tremaining: 254ms\n",
      "575:\tlearn: 0.0215926\ttotal: 343ms\tremaining: 253ms\n",
      "576:\tlearn: 0.0215754\ttotal: 344ms\tremaining: 252ms\n",
      "577:\tlearn: 0.0215431\ttotal: 344ms\tremaining: 251ms\n",
      "578:\tlearn: 0.0215235\ttotal: 344ms\tremaining: 250ms\n",
      "579:\tlearn: 0.0215036\ttotal: 345ms\tremaining: 250ms\n",
      "580:\tlearn: 0.0214733\ttotal: 345ms\tremaining: 249ms\n",
      "581:\tlearn: 0.0214571\ttotal: 345ms\tremaining: 248ms\n",
      "582:\tlearn: 0.0214418\ttotal: 346ms\tremaining: 247ms\n",
      "583:\tlearn: 0.0214056\ttotal: 346ms\tremaining: 246ms\n",
      "584:\tlearn: 0.0213751\ttotal: 346ms\tremaining: 245ms\n",
      "585:\tlearn: 0.0213474\ttotal: 346ms\tremaining: 245ms\n",
      "586:\tlearn: 0.0213390\ttotal: 347ms\tremaining: 244ms\n",
      "587:\tlearn: 0.0213009\ttotal: 347ms\tremaining: 243ms\n",
      "588:\tlearn: 0.0212941\ttotal: 348ms\tremaining: 243ms\n",
      "589:\tlearn: 0.0212756\ttotal: 349ms\tremaining: 242ms\n",
      "590:\tlearn: 0.0212493\ttotal: 349ms\tremaining: 242ms\n",
      "591:\tlearn: 0.0212385\ttotal: 349ms\tremaining: 241ms\n",
      "592:\tlearn: 0.0212018\ttotal: 350ms\tremaining: 240ms\n",
      "593:\tlearn: 0.0211804\ttotal: 350ms\tremaining: 239ms\n",
      "594:\tlearn: 0.0211695\ttotal: 350ms\tremaining: 238ms\n",
      "595:\tlearn: 0.0211448\ttotal: 351ms\tremaining: 238ms\n",
      "596:\tlearn: 0.0211207\ttotal: 351ms\tremaining: 237ms\n",
      "597:\tlearn: 0.0210850\ttotal: 351ms\tremaining: 236ms\n",
      "598:\tlearn: 0.0210544\ttotal: 351ms\tremaining: 235ms\n",
      "599:\tlearn: 0.0210259\ttotal: 352ms\tremaining: 234ms\n",
      "600:\tlearn: 0.0209975\ttotal: 352ms\tremaining: 234ms\n",
      "601:\tlearn: 0.0209911\ttotal: 352ms\tremaining: 233ms\n",
      "602:\tlearn: 0.0209557\ttotal: 353ms\tremaining: 232ms\n",
      "603:\tlearn: 0.0209464\ttotal: 353ms\tremaining: 231ms\n",
      "604:\tlearn: 0.0209026\ttotal: 353ms\tremaining: 231ms\n",
      "605:\tlearn: 0.0208721\ttotal: 353ms\tremaining: 230ms\n",
      "606:\tlearn: 0.0208606\ttotal: 354ms\tremaining: 229ms\n",
      "607:\tlearn: 0.0208055\ttotal: 354ms\tremaining: 228ms\n",
      "608:\tlearn: 0.0207789\ttotal: 355ms\tremaining: 228ms\n",
      "609:\tlearn: 0.0207379\ttotal: 355ms\tremaining: 227ms\n",
      "610:\tlearn: 0.0207055\ttotal: 355ms\tremaining: 226ms\n",
      "611:\tlearn: 0.0206791\ttotal: 356ms\tremaining: 225ms\n",
      "612:\tlearn: 0.0206456\ttotal: 356ms\tremaining: 225ms\n",
      "613:\tlearn: 0.0206130\ttotal: 356ms\tremaining: 224ms\n",
      "614:\tlearn: 0.0205876\ttotal: 356ms\tremaining: 223ms\n",
      "615:\tlearn: 0.0205656\ttotal: 357ms\tremaining: 222ms\n",
      "616:\tlearn: 0.0205351\ttotal: 357ms\tremaining: 222ms\n",
      "617:\tlearn: 0.0205078\ttotal: 357ms\tremaining: 221ms\n",
      "618:\tlearn: 0.0204933\ttotal: 358ms\tremaining: 220ms\n",
      "619:\tlearn: 0.0204667\ttotal: 358ms\tremaining: 220ms\n",
      "620:\tlearn: 0.0204537\ttotal: 358ms\tremaining: 219ms\n",
      "621:\tlearn: 0.0204369\ttotal: 359ms\tremaining: 218ms\n",
      "622:\tlearn: 0.0204160\ttotal: 359ms\tremaining: 217ms\n",
      "623:\tlearn: 0.0203846\ttotal: 359ms\tremaining: 217ms\n",
      "624:\tlearn: 0.0203747\ttotal: 360ms\tremaining: 216ms\n",
      "625:\tlearn: 0.0203650\ttotal: 360ms\tremaining: 215ms\n",
      "626:\tlearn: 0.0203311\ttotal: 360ms\tremaining: 214ms\n",
      "627:\tlearn: 0.0203112\ttotal: 360ms\tremaining: 214ms\n",
      "628:\tlearn: 0.0202734\ttotal: 362ms\tremaining: 213ms\n",
      "629:\tlearn: 0.0202374\ttotal: 363ms\tremaining: 213ms\n",
      "630:\tlearn: 0.0202065\ttotal: 365ms\tremaining: 213ms\n",
      "631:\tlearn: 0.0201971\ttotal: 366ms\tremaining: 213ms\n",
      "632:\tlearn: 0.0201602\ttotal: 367ms\tremaining: 213ms\n",
      "633:\tlearn: 0.0201351\ttotal: 367ms\tremaining: 212ms\n",
      "634:\tlearn: 0.0201252\ttotal: 368ms\tremaining: 212ms\n",
      "635:\tlearn: 0.0201156\ttotal: 369ms\tremaining: 211ms\n",
      "636:\tlearn: 0.0200999\ttotal: 371ms\tremaining: 211ms\n",
      "637:\tlearn: 0.0200726\ttotal: 371ms\tremaining: 211ms\n",
      "638:\tlearn: 0.0200620\ttotal: 372ms\tremaining: 210ms\n",
      "639:\tlearn: 0.0200314\ttotal: 372ms\tremaining: 209ms\n",
      "640:\tlearn: 0.0200015\ttotal: 372ms\tremaining: 208ms\n",
      "641:\tlearn: 0.0199818\ttotal: 373ms\tremaining: 208ms\n",
      "642:\tlearn: 0.0199685\ttotal: 373ms\tremaining: 207ms\n",
      "643:\tlearn: 0.0199464\ttotal: 373ms\tremaining: 206ms\n",
      "644:\tlearn: 0.0199171\ttotal: 373ms\tremaining: 206ms\n",
      "645:\tlearn: 0.0198825\ttotal: 374ms\tremaining: 205ms\n",
      "646:\tlearn: 0.0198765\ttotal: 374ms\tremaining: 204ms\n",
      "647:\tlearn: 0.0198580\ttotal: 374ms\tremaining: 203ms\n",
      "648:\tlearn: 0.0198396\ttotal: 374ms\tremaining: 203ms\n",
      "649:\tlearn: 0.0198266\ttotal: 375ms\tremaining: 202ms\n",
      "650:\tlearn: 0.0198162\ttotal: 375ms\tremaining: 201ms\n",
      "651:\tlearn: 0.0197812\ttotal: 375ms\tremaining: 200ms\n",
      "652:\tlearn: 0.0197464\ttotal: 376ms\tremaining: 200ms\n",
      "653:\tlearn: 0.0197204\ttotal: 376ms\tremaining: 199ms\n",
      "654:\tlearn: 0.0197070\ttotal: 377ms\tremaining: 198ms\n",
      "655:\tlearn: 0.0196839\ttotal: 377ms\tremaining: 198ms\n",
      "656:\tlearn: 0.0196473\ttotal: 377ms\tremaining: 197ms\n",
      "657:\tlearn: 0.0196357\ttotal: 378ms\tremaining: 196ms\n",
      "658:\tlearn: 0.0196085\ttotal: 378ms\tremaining: 196ms\n",
      "659:\tlearn: 0.0196025\ttotal: 378ms\tremaining: 195ms\n",
      "660:\tlearn: 0.0195811\ttotal: 379ms\tremaining: 194ms\n",
      "661:\tlearn: 0.0195528\ttotal: 379ms\tremaining: 193ms\n",
      "662:\tlearn: 0.0195359\ttotal: 379ms\tremaining: 193ms\n",
      "663:\tlearn: 0.0195140\ttotal: 380ms\tremaining: 192ms\n",
      "664:\tlearn: 0.0194915\ttotal: 380ms\tremaining: 191ms\n",
      "665:\tlearn: 0.0194736\ttotal: 380ms\tremaining: 191ms\n",
      "666:\tlearn: 0.0194414\ttotal: 380ms\tremaining: 190ms\n",
      "667:\tlearn: 0.0194169\ttotal: 381ms\tremaining: 189ms\n",
      "668:\tlearn: 0.0193834\ttotal: 381ms\tremaining: 189ms\n",
      "669:\tlearn: 0.0193775\ttotal: 381ms\tremaining: 188ms\n",
      "670:\tlearn: 0.0193631\ttotal: 382ms\tremaining: 187ms\n",
      "671:\tlearn: 0.0193352\ttotal: 382ms\tremaining: 186ms\n",
      "672:\tlearn: 0.0193253\ttotal: 382ms\tremaining: 186ms\n",
      "673:\tlearn: 0.0192992\ttotal: 383ms\tremaining: 185ms\n",
      "674:\tlearn: 0.0192756\ttotal: 383ms\tremaining: 185ms\n",
      "675:\tlearn: 0.0192483\ttotal: 384ms\tremaining: 184ms\n",
      "676:\tlearn: 0.0192158\ttotal: 384ms\tremaining: 183ms\n",
      "677:\tlearn: 0.0191893\ttotal: 384ms\tremaining: 183ms\n",
      "678:\tlearn: 0.0191811\ttotal: 385ms\tremaining: 182ms\n",
      "679:\tlearn: 0.0191735\ttotal: 385ms\tremaining: 181ms\n",
      "680:\tlearn: 0.0191479\ttotal: 385ms\tremaining: 180ms\n",
      "681:\tlearn: 0.0191197\ttotal: 386ms\tremaining: 180ms\n",
      "682:\tlearn: 0.0191028\ttotal: 386ms\tremaining: 179ms\n",
      "683:\tlearn: 0.0190676\ttotal: 386ms\tremaining: 178ms\n",
      "684:\tlearn: 0.0190421\ttotal: 386ms\tremaining: 178ms\n",
      "685:\tlearn: 0.0190297\ttotal: 387ms\tremaining: 177ms\n",
      "686:\tlearn: 0.0190178\ttotal: 387ms\tremaining: 176ms\n",
      "687:\tlearn: 0.0190005\ttotal: 387ms\tremaining: 176ms\n",
      "688:\tlearn: 0.0189910\ttotal: 388ms\tremaining: 175ms\n",
      "689:\tlearn: 0.0189770\ttotal: 390ms\tremaining: 175ms\n",
      "690:\tlearn: 0.0189694\ttotal: 392ms\tremaining: 175ms\n",
      "691:\tlearn: 0.0189378\ttotal: 392ms\tremaining: 174ms\n",
      "692:\tlearn: 0.0189186\ttotal: 392ms\tremaining: 174ms\n",
      "693:\tlearn: 0.0188878\ttotal: 393ms\tremaining: 173ms\n",
      "694:\tlearn: 0.0188702\ttotal: 394ms\tremaining: 173ms\n",
      "695:\tlearn: 0.0188566\ttotal: 395ms\tremaining: 172ms\n",
      "696:\tlearn: 0.0188373\ttotal: 395ms\tremaining: 172ms\n",
      "697:\tlearn: 0.0188122\ttotal: 396ms\tremaining: 171ms\n",
      "698:\tlearn: 0.0187961\ttotal: 398ms\tremaining: 171ms\n",
      "699:\tlearn: 0.0187716\ttotal: 399ms\tremaining: 171ms\n",
      "700:\tlearn: 0.0187523\ttotal: 402ms\tremaining: 171ms\n",
      "701:\tlearn: 0.0187293\ttotal: 402ms\tremaining: 171ms\n",
      "702:\tlearn: 0.0187054\ttotal: 403ms\tremaining: 170ms\n",
      "703:\tlearn: 0.0186719\ttotal: 405ms\tremaining: 170ms\n",
      "704:\tlearn: 0.0186637\ttotal: 405ms\tremaining: 170ms\n",
      "705:\tlearn: 0.0186473\ttotal: 406ms\tremaining: 169ms\n",
      "706:\tlearn: 0.0186342\ttotal: 406ms\tremaining: 168ms\n",
      "707:\tlearn: 0.0186108\ttotal: 406ms\tremaining: 168ms\n",
      "708:\tlearn: 0.0185799\ttotal: 407ms\tremaining: 167ms\n",
      "709:\tlearn: 0.0185564\ttotal: 407ms\tremaining: 166ms\n",
      "710:\tlearn: 0.0185335\ttotal: 407ms\tremaining: 166ms\n",
      "711:\tlearn: 0.0185112\ttotal: 408ms\tremaining: 165ms\n",
      "712:\tlearn: 0.0185035\ttotal: 408ms\tremaining: 164ms\n",
      "713:\tlearn: 0.0184811\ttotal: 409ms\tremaining: 164ms\n",
      "714:\tlearn: 0.0184736\ttotal: 409ms\tremaining: 163ms\n",
      "715:\tlearn: 0.0184529\ttotal: 409ms\tremaining: 162ms\n",
      "716:\tlearn: 0.0184449\ttotal: 410ms\tremaining: 162ms\n",
      "717:\tlearn: 0.0184295\ttotal: 410ms\tremaining: 161ms\n",
      "718:\tlearn: 0.0184107\ttotal: 410ms\tremaining: 160ms\n",
      "719:\tlearn: 0.0183960\ttotal: 411ms\tremaining: 160ms\n",
      "720:\tlearn: 0.0183822\ttotal: 411ms\tremaining: 159ms\n",
      "721:\tlearn: 0.0183639\ttotal: 411ms\tremaining: 158ms\n",
      "722:\tlearn: 0.0183419\ttotal: 412ms\tremaining: 158ms\n",
      "723:\tlearn: 0.0183265\ttotal: 412ms\tremaining: 157ms\n",
      "724:\tlearn: 0.0183187\ttotal: 412ms\tremaining: 156ms\n",
      "725:\tlearn: 0.0183006\ttotal: 412ms\tremaining: 156ms\n",
      "726:\tlearn: 0.0182854\ttotal: 413ms\tremaining: 155ms\n",
      "727:\tlearn: 0.0182668\ttotal: 413ms\tremaining: 154ms\n",
      "728:\tlearn: 0.0182550\ttotal: 413ms\tremaining: 154ms\n",
      "729:\tlearn: 0.0182399\ttotal: 414ms\tremaining: 153ms\n",
      "730:\tlearn: 0.0182268\ttotal: 414ms\tremaining: 152ms\n",
      "731:\tlearn: 0.0182124\ttotal: 415ms\tremaining: 152ms\n",
      "732:\tlearn: 0.0182001\ttotal: 415ms\tremaining: 151ms\n",
      "733:\tlearn: 0.0181893\ttotal: 415ms\tremaining: 151ms\n",
      "734:\tlearn: 0.0181679\ttotal: 416ms\tremaining: 150ms\n",
      "735:\tlearn: 0.0181466\ttotal: 416ms\tremaining: 149ms\n",
      "736:\tlearn: 0.0181289\ttotal: 416ms\tremaining: 149ms\n",
      "737:\tlearn: 0.0180982\ttotal: 417ms\tremaining: 148ms\n",
      "738:\tlearn: 0.0180879\ttotal: 417ms\tremaining: 147ms\n",
      "739:\tlearn: 0.0180687\ttotal: 417ms\tremaining: 147ms\n",
      "740:\tlearn: 0.0180585\ttotal: 417ms\tremaining: 146ms\n",
      "741:\tlearn: 0.0180509\ttotal: 418ms\tremaining: 145ms\n",
      "742:\tlearn: 0.0180300\ttotal: 418ms\tremaining: 145ms\n",
      "743:\tlearn: 0.0180117\ttotal: 419ms\tremaining: 144ms\n",
      "744:\tlearn: 0.0179895\ttotal: 420ms\tremaining: 144ms\n",
      "745:\tlearn: 0.0179827\ttotal: 420ms\tremaining: 143ms\n",
      "746:\tlearn: 0.0179718\ttotal: 421ms\tremaining: 142ms\n",
      "747:\tlearn: 0.0179621\ttotal: 421ms\tremaining: 142ms\n",
      "748:\tlearn: 0.0179483\ttotal: 422ms\tremaining: 141ms\n",
      "749:\tlearn: 0.0179353\ttotal: 422ms\tremaining: 141ms\n"
     ]
    },
    {
     "name": "stdout",
     "output_type": "stream",
     "text": [
      "750:\tlearn: 0.0179177\ttotal: 423ms\tremaining: 140ms\n",
      "751:\tlearn: 0.0178974\ttotal: 423ms\tremaining: 140ms\n",
      "752:\tlearn: 0.0178865\ttotal: 426ms\tremaining: 140ms\n",
      "753:\tlearn: 0.0178701\ttotal: 427ms\tremaining: 139ms\n",
      "754:\tlearn: 0.0178605\ttotal: 434ms\tremaining: 141ms\n",
      "755:\tlearn: 0.0178532\ttotal: 435ms\tremaining: 140ms\n",
      "756:\tlearn: 0.0178223\ttotal: 437ms\tremaining: 140ms\n",
      "757:\tlearn: 0.0178025\ttotal: 437ms\tremaining: 140ms\n",
      "758:\tlearn: 0.0177818\ttotal: 437ms\tremaining: 139ms\n",
      "759:\tlearn: 0.0177477\ttotal: 438ms\tremaining: 138ms\n",
      "760:\tlearn: 0.0177283\ttotal: 438ms\tremaining: 137ms\n",
      "761:\tlearn: 0.0177089\ttotal: 438ms\tremaining: 137ms\n",
      "762:\tlearn: 0.0176905\ttotal: 438ms\tremaining: 136ms\n",
      "763:\tlearn: 0.0176771\ttotal: 439ms\tremaining: 135ms\n",
      "764:\tlearn: 0.0176589\ttotal: 439ms\tremaining: 135ms\n",
      "765:\tlearn: 0.0176350\ttotal: 440ms\tremaining: 134ms\n",
      "766:\tlearn: 0.0176151\ttotal: 440ms\tremaining: 134ms\n",
      "767:\tlearn: 0.0175924\ttotal: 440ms\tremaining: 133ms\n",
      "768:\tlearn: 0.0175731\ttotal: 441ms\tremaining: 132ms\n",
      "769:\tlearn: 0.0175553\ttotal: 441ms\tremaining: 132ms\n",
      "770:\tlearn: 0.0175408\ttotal: 441ms\tremaining: 131ms\n",
      "771:\tlearn: 0.0175247\ttotal: 441ms\tremaining: 130ms\n",
      "772:\tlearn: 0.0175061\ttotal: 442ms\tremaining: 130ms\n",
      "773:\tlearn: 0.0175000\ttotal: 442ms\tremaining: 129ms\n",
      "774:\tlearn: 0.0174955\ttotal: 442ms\tremaining: 128ms\n",
      "775:\tlearn: 0.0174764\ttotal: 443ms\tremaining: 128ms\n",
      "776:\tlearn: 0.0174602\ttotal: 443ms\tremaining: 127ms\n",
      "777:\tlearn: 0.0174525\ttotal: 443ms\tremaining: 126ms\n",
      "778:\tlearn: 0.0174346\ttotal: 443ms\tremaining: 126ms\n",
      "779:\tlearn: 0.0174228\ttotal: 444ms\tremaining: 125ms\n",
      "780:\tlearn: 0.0174072\ttotal: 446ms\tremaining: 125ms\n",
      "781:\tlearn: 0.0173945\ttotal: 447ms\tremaining: 125ms\n",
      "782:\tlearn: 0.0173789\ttotal: 447ms\tremaining: 124ms\n",
      "783:\tlearn: 0.0173676\ttotal: 447ms\tremaining: 123ms\n",
      "784:\tlearn: 0.0173587\ttotal: 448ms\tremaining: 123ms\n",
      "785:\tlearn: 0.0173393\ttotal: 448ms\tremaining: 122ms\n",
      "786:\tlearn: 0.0173164\ttotal: 448ms\tremaining: 121ms\n",
      "787:\tlearn: 0.0172978\ttotal: 448ms\tremaining: 121ms\n",
      "788:\tlearn: 0.0172920\ttotal: 449ms\tremaining: 120ms\n",
      "789:\tlearn: 0.0172702\ttotal: 449ms\tremaining: 119ms\n",
      "790:\tlearn: 0.0172500\ttotal: 449ms\tremaining: 119ms\n",
      "791:\tlearn: 0.0172288\ttotal: 449ms\tremaining: 118ms\n",
      "792:\tlearn: 0.0172185\ttotal: 450ms\tremaining: 117ms\n",
      "793:\tlearn: 0.0172028\ttotal: 450ms\tremaining: 117ms\n",
      "794:\tlearn: 0.0171737\ttotal: 450ms\tremaining: 116ms\n",
      "795:\tlearn: 0.0171558\ttotal: 451ms\tremaining: 116ms\n",
      "796:\tlearn: 0.0171385\ttotal: 451ms\tremaining: 115ms\n",
      "797:\tlearn: 0.0171106\ttotal: 452ms\tremaining: 114ms\n",
      "798:\tlearn: 0.0170935\ttotal: 452ms\tremaining: 114ms\n",
      "799:\tlearn: 0.0170625\ttotal: 452ms\tremaining: 113ms\n",
      "800:\tlearn: 0.0170493\ttotal: 453ms\tremaining: 113ms\n",
      "801:\tlearn: 0.0170229\ttotal: 455ms\tremaining: 112ms\n",
      "802:\tlearn: 0.0170109\ttotal: 457ms\tremaining: 112ms\n",
      "803:\tlearn: 0.0169989\ttotal: 458ms\tremaining: 112ms\n",
      "804:\tlearn: 0.0169835\ttotal: 459ms\tremaining: 111ms\n",
      "805:\tlearn: 0.0169637\ttotal: 460ms\tremaining: 111ms\n",
      "806:\tlearn: 0.0169457\ttotal: 461ms\tremaining: 110ms\n",
      "807:\tlearn: 0.0169362\ttotal: 462ms\tremaining: 110ms\n",
      "808:\tlearn: 0.0169248\ttotal: 463ms\tremaining: 109ms\n",
      "809:\tlearn: 0.0169036\ttotal: 464ms\tremaining: 109ms\n",
      "810:\tlearn: 0.0168875\ttotal: 465ms\tremaining: 108ms\n",
      "811:\tlearn: 0.0168807\ttotal: 465ms\tremaining: 108ms\n",
      "812:\tlearn: 0.0168712\ttotal: 466ms\tremaining: 107ms\n",
      "813:\tlearn: 0.0168577\ttotal: 467ms\tremaining: 107ms\n",
      "814:\tlearn: 0.0168506\ttotal: 468ms\tremaining: 106ms\n",
      "815:\tlearn: 0.0168309\ttotal: 468ms\tremaining: 106ms\n",
      "816:\tlearn: 0.0168092\ttotal: 469ms\tremaining: 105ms\n",
      "817:\tlearn: 0.0167924\ttotal: 470ms\tremaining: 104ms\n"
     ]
    },
    {
     "name": "stdout",
     "output_type": "stream",
     "text": [
      "818:\tlearn: 0.0167688\ttotal: 470ms\tremaining: 104ms\n",
      "819:\tlearn: 0.0167516\ttotal: 470ms\tremaining: 103ms\n",
      "820:\tlearn: 0.0167427\ttotal: 471ms\tremaining: 103ms\n",
      "821:\tlearn: 0.0167374\ttotal: 471ms\tremaining: 102ms\n",
      "822:\tlearn: 0.0167198\ttotal: 471ms\tremaining: 101ms\n",
      "823:\tlearn: 0.0167147\ttotal: 472ms\tremaining: 101ms\n",
      "824:\tlearn: 0.0166979\ttotal: 472ms\tremaining: 100ms\n",
      "825:\tlearn: 0.0166708\ttotal: 472ms\tremaining: 99.5ms\n",
      "826:\tlearn: 0.0166312\ttotal: 473ms\tremaining: 98.8ms\n",
      "827:\tlearn: 0.0165990\ttotal: 473ms\tremaining: 98.3ms\n",
      "828:\tlearn: 0.0165780\ttotal: 474ms\tremaining: 97.7ms\n",
      "829:\tlearn: 0.0165592\ttotal: 474ms\tremaining: 97.1ms\n",
      "830:\tlearn: 0.0165462\ttotal: 474ms\tremaining: 96.4ms\n",
      "831:\tlearn: 0.0165360\ttotal: 475ms\tremaining: 95.9ms\n",
      "832:\tlearn: 0.0165266\ttotal: 475ms\tremaining: 95.2ms\n",
      "833:\tlearn: 0.0165150\ttotal: 475ms\tremaining: 94.6ms\n",
      "834:\tlearn: 0.0165010\ttotal: 476ms\tremaining: 94ms\n",
      "835:\tlearn: 0.0164952\ttotal: 476ms\tremaining: 93.4ms\n",
      "836:\tlearn: 0.0164833\ttotal: 476ms\tremaining: 92.7ms\n",
      "837:\tlearn: 0.0164638\ttotal: 476ms\tremaining: 92.1ms\n",
      "838:\tlearn: 0.0164382\ttotal: 477ms\tremaining: 91.6ms\n",
      "839:\tlearn: 0.0164303\ttotal: 478ms\tremaining: 91ms\n",
      "840:\tlearn: 0.0164230\ttotal: 478ms\tremaining: 90.4ms\n",
      "841:\tlearn: 0.0164090\ttotal: 478ms\tremaining: 89.7ms\n",
      "842:\tlearn: 0.0164041\ttotal: 478ms\tremaining: 89.1ms\n",
      "843:\tlearn: 0.0163881\ttotal: 479ms\tremaining: 88.5ms\n",
      "844:\tlearn: 0.0163641\ttotal: 479ms\tremaining: 87.9ms\n",
      "845:\tlearn: 0.0163485\ttotal: 479ms\tremaining: 87.3ms\n",
      "846:\tlearn: 0.0163333\ttotal: 480ms\tremaining: 86.7ms\n",
      "847:\tlearn: 0.0163209\ttotal: 480ms\tremaining: 86ms\n",
      "848:\tlearn: 0.0163017\ttotal: 481ms\tremaining: 85.5ms\n",
      "849:\tlearn: 0.0162858\ttotal: 481ms\tremaining: 84.8ms\n",
      "850:\tlearn: 0.0162707\ttotal: 481ms\tremaining: 84.2ms\n",
      "851:\tlearn: 0.0162560\ttotal: 481ms\tremaining: 83.6ms\n",
      "852:\tlearn: 0.0162547\ttotal: 482ms\tremaining: 83ms\n",
      "853:\tlearn: 0.0162402\ttotal: 482ms\tremaining: 82.4ms\n",
      "854:\tlearn: 0.0162189\ttotal: 482ms\tremaining: 81.8ms\n",
      "855:\tlearn: 0.0162072\ttotal: 483ms\tremaining: 81.2ms\n",
      "856:\tlearn: 0.0161914\ttotal: 483ms\tremaining: 80.6ms\n",
      "857:\tlearn: 0.0161725\ttotal: 483ms\tremaining: 80ms\n",
      "858:\tlearn: 0.0161600\ttotal: 484ms\tremaining: 79.4ms\n",
      "859:\tlearn: 0.0161374\ttotal: 484ms\tremaining: 78.8ms\n",
      "860:\tlearn: 0.0161161\ttotal: 484ms\tremaining: 78.2ms\n",
      "861:\tlearn: 0.0161014\ttotal: 484ms\tremaining: 77.6ms\n",
      "862:\tlearn: 0.0160850\ttotal: 485ms\tremaining: 77ms\n",
      "863:\tlearn: 0.0160606\ttotal: 486ms\tremaining: 76.4ms\n",
      "864:\tlearn: 0.0160363\ttotal: 486ms\tremaining: 75.8ms\n",
      "865:\tlearn: 0.0160163\ttotal: 486ms\tremaining: 75.3ms\n",
      "866:\tlearn: 0.0159999\ttotal: 487ms\tremaining: 74.7ms\n",
      "867:\tlearn: 0.0159921\ttotal: 488ms\tremaining: 74.2ms\n",
      "868:\tlearn: 0.0159771\ttotal: 488ms\tremaining: 73.6ms\n",
      "869:\tlearn: 0.0159663\ttotal: 490ms\tremaining: 73.2ms\n",
      "870:\tlearn: 0.0159549\ttotal: 491ms\tremaining: 72.7ms\n",
      "871:\tlearn: 0.0159403\ttotal: 491ms\tremaining: 72.1ms\n",
      "872:\tlearn: 0.0159198\ttotal: 491ms\tremaining: 71.5ms\n",
      "873:\tlearn: 0.0159011\ttotal: 492ms\tremaining: 70.9ms\n",
      "874:\tlearn: 0.0158783\ttotal: 492ms\tremaining: 70.3ms\n",
      "875:\tlearn: 0.0158698\ttotal: 493ms\tremaining: 69.8ms\n",
      "876:\tlearn: 0.0158634\ttotal: 493ms\tremaining: 69.2ms\n",
      "877:\tlearn: 0.0158500\ttotal: 496ms\tremaining: 68.9ms\n",
      "878:\tlearn: 0.0158388\ttotal: 497ms\tremaining: 68.4ms\n",
      "879:\tlearn: 0.0158235\ttotal: 498ms\tremaining: 67.8ms\n",
      "880:\tlearn: 0.0158053\ttotal: 499ms\tremaining: 67.4ms\n",
      "881:\tlearn: 0.0157924\ttotal: 503ms\tremaining: 67.2ms\n",
      "882:\tlearn: 0.0157810\ttotal: 504ms\tremaining: 66.7ms\n",
      "883:\tlearn: 0.0157735\ttotal: 504ms\tremaining: 66.1ms\n",
      "884:\tlearn: 0.0157571\ttotal: 504ms\tremaining: 65.5ms\n",
      "885:\tlearn: 0.0157419\ttotal: 505ms\tremaining: 64.9ms\n",
      "886:\tlearn: 0.0157152\ttotal: 505ms\tremaining: 64.3ms\n",
      "887:\tlearn: 0.0157049\ttotal: 505ms\tremaining: 63.7ms\n",
      "888:\tlearn: 0.0156964\ttotal: 506ms\tremaining: 63.2ms\n",
      "889:\tlearn: 0.0156803\ttotal: 506ms\tremaining: 62.6ms\n",
      "890:\tlearn: 0.0156681\ttotal: 507ms\tremaining: 62ms\n",
      "891:\tlearn: 0.0156559\ttotal: 507ms\tremaining: 61.4ms\n",
      "892:\tlearn: 0.0156329\ttotal: 508ms\tremaining: 60.8ms\n",
      "893:\tlearn: 0.0156162\ttotal: 508ms\tremaining: 60.2ms\n",
      "894:\tlearn: 0.0156070\ttotal: 508ms\tremaining: 59.6ms\n",
      "895:\tlearn: 0.0155994\ttotal: 508ms\tremaining: 59ms\n",
      "896:\tlearn: 0.0155892\ttotal: 509ms\tremaining: 58.4ms\n",
      "897:\tlearn: 0.0155745\ttotal: 509ms\tremaining: 57.8ms\n",
      "898:\tlearn: 0.0155623\ttotal: 509ms\tremaining: 57.2ms\n",
      "899:\tlearn: 0.0155574\ttotal: 510ms\tremaining: 56.6ms\n",
      "900:\tlearn: 0.0155362\ttotal: 510ms\tremaining: 56ms\n",
      "901:\tlearn: 0.0155210\ttotal: 510ms\tremaining: 55.4ms\n",
      "902:\tlearn: 0.0155116\ttotal: 511ms\tremaining: 54.8ms\n",
      "903:\tlearn: 0.0154892\ttotal: 511ms\tremaining: 54.2ms\n",
      "904:\tlearn: 0.0154628\ttotal: 511ms\tremaining: 53.6ms\n",
      "905:\tlearn: 0.0154449\ttotal: 511ms\tremaining: 53.1ms\n",
      "906:\tlearn: 0.0154408\ttotal: 512ms\tremaining: 52.5ms\n",
      "907:\tlearn: 0.0154317\ttotal: 512ms\tremaining: 51.9ms\n",
      "908:\tlearn: 0.0154173\ttotal: 513ms\tremaining: 51.3ms\n",
      "909:\tlearn: 0.0154135\ttotal: 513ms\tremaining: 50.7ms\n",
      "910:\tlearn: 0.0153982\ttotal: 513ms\tremaining: 50.1ms\n",
      "911:\tlearn: 0.0153896\ttotal: 514ms\tremaining: 49.6ms\n",
      "912:\tlearn: 0.0153739\ttotal: 514ms\tremaining: 49ms\n",
      "913:\tlearn: 0.0153669\ttotal: 514ms\tremaining: 48.4ms\n",
      "914:\tlearn: 0.0153503\ttotal: 515ms\tremaining: 47.9ms\n",
      "915:\tlearn: 0.0153402\ttotal: 516ms\tremaining: 47.3ms\n",
      "916:\tlearn: 0.0153310\ttotal: 516ms\tremaining: 46.7ms\n",
      "917:\tlearn: 0.0153198\ttotal: 516ms\tremaining: 46.1ms\n",
      "918:\tlearn: 0.0153079\ttotal: 516ms\tremaining: 45.5ms\n",
      "919:\tlearn: 0.0153035\ttotal: 517ms\tremaining: 45ms\n",
      "920:\tlearn: 0.0152979\ttotal: 518ms\tremaining: 44.4ms\n",
      "921:\tlearn: 0.0152768\ttotal: 518ms\tremaining: 43.8ms\n",
      "922:\tlearn: 0.0152634\ttotal: 518ms\tremaining: 43.2ms\n",
      "923:\tlearn: 0.0152506\ttotal: 519ms\tremaining: 42.6ms\n",
      "924:\tlearn: 0.0152431\ttotal: 519ms\tremaining: 42.1ms\n",
      "925:\tlearn: 0.0152234\ttotal: 520ms\tremaining: 41.5ms\n",
      "926:\tlearn: 0.0152103\ttotal: 520ms\tremaining: 41ms\n",
      "927:\tlearn: 0.0151934\ttotal: 520ms\tremaining: 40.4ms\n",
      "928:\tlearn: 0.0151878\ttotal: 521ms\tremaining: 39.8ms\n",
      "929:\tlearn: 0.0151762\ttotal: 521ms\tremaining: 39.2ms\n",
      "930:\tlearn: 0.0151660\ttotal: 521ms\tremaining: 38.6ms\n",
      "931:\tlearn: 0.0151587\ttotal: 522ms\tremaining: 38.1ms\n",
      "932:\tlearn: 0.0151486\ttotal: 522ms\tremaining: 37.5ms\n",
      "933:\tlearn: 0.0151358\ttotal: 522ms\tremaining: 36.9ms\n",
      "934:\tlearn: 0.0151332\ttotal: 523ms\tremaining: 36.3ms\n",
      "935:\tlearn: 0.0151207\ttotal: 523ms\tremaining: 35.8ms\n",
      "936:\tlearn: 0.0151106\ttotal: 523ms\tremaining: 35.2ms\n",
      "937:\tlearn: 0.0151040\ttotal: 523ms\tremaining: 34.6ms\n",
      "938:\tlearn: 0.0150935\ttotal: 524ms\tremaining: 34ms\n",
      "939:\tlearn: 0.0150729\ttotal: 524ms\tremaining: 33.5ms\n",
      "940:\tlearn: 0.0150633\ttotal: 525ms\tremaining: 32.9ms\n",
      "941:\tlearn: 0.0150546\ttotal: 525ms\tremaining: 32.3ms\n",
      "942:\tlearn: 0.0150429\ttotal: 526ms\tremaining: 31.8ms\n",
      "943:\tlearn: 0.0150364\ttotal: 526ms\tremaining: 31.2ms\n",
      "944:\tlearn: 0.0150296\ttotal: 526ms\tremaining: 30.6ms\n",
      "945:\tlearn: 0.0150099\ttotal: 526ms\tremaining: 30ms\n",
      "946:\tlearn: 0.0149869\ttotal: 527ms\tremaining: 29.5ms\n",
      "947:\tlearn: 0.0149721\ttotal: 527ms\tremaining: 28.9ms\n",
      "948:\tlearn: 0.0149561\ttotal: 527ms\tremaining: 28.3ms\n",
      "949:\tlearn: 0.0149492\ttotal: 528ms\tremaining: 27.8ms\n",
      "950:\tlearn: 0.0149328\ttotal: 528ms\tremaining: 27.2ms\n",
      "951:\tlearn: 0.0149261\ttotal: 529ms\tremaining: 26.7ms\n",
      "952:\tlearn: 0.0149146\ttotal: 530ms\tremaining: 26.1ms\n",
      "953:\tlearn: 0.0149097\ttotal: 531ms\tremaining: 25.6ms\n",
      "954:\tlearn: 0.0149035\ttotal: 533ms\tremaining: 25.1ms\n",
      "955:\tlearn: 0.0148790\ttotal: 533ms\tremaining: 24.5ms\n",
      "956:\tlearn: 0.0148666\ttotal: 534ms\tremaining: 24ms\n",
      "957:\tlearn: 0.0148553\ttotal: 535ms\tremaining: 23.5ms\n",
      "958:\tlearn: 0.0148428\ttotal: 536ms\tremaining: 22.9ms\n",
      "959:\tlearn: 0.0148244\ttotal: 536ms\tremaining: 22.3ms\n",
      "960:\tlearn: 0.0148186\ttotal: 537ms\tremaining: 21.8ms\n",
      "961:\tlearn: 0.0147904\ttotal: 537ms\tremaining: 21.2ms\n",
      "962:\tlearn: 0.0147751\ttotal: 538ms\tremaining: 20.7ms\n",
      "963:\tlearn: 0.0147619\ttotal: 538ms\tremaining: 20.1ms\n",
      "964:\tlearn: 0.0147554\ttotal: 539ms\tremaining: 19.5ms\n",
      "965:\tlearn: 0.0147449\ttotal: 539ms\tremaining: 19ms\n",
      "966:\tlearn: 0.0147350\ttotal: 540ms\tremaining: 18.4ms\n",
      "967:\tlearn: 0.0147265\ttotal: 540ms\tremaining: 17.9ms\n",
      "968:\tlearn: 0.0147090\ttotal: 541ms\tremaining: 17.3ms\n",
      "969:\tlearn: 0.0146915\ttotal: 541ms\tremaining: 16.7ms\n",
      "970:\tlearn: 0.0146823\ttotal: 541ms\tremaining: 16.2ms\n",
      "971:\tlearn: 0.0146791\ttotal: 542ms\tremaining: 15.6ms\n",
      "972:\tlearn: 0.0146677\ttotal: 542ms\tremaining: 15ms\n",
      "973:\tlearn: 0.0146519\ttotal: 543ms\tremaining: 14.5ms\n",
      "974:\tlearn: 0.0146377\ttotal: 543ms\tremaining: 13.9ms\n",
      "975:\tlearn: 0.0146171\ttotal: 543ms\tremaining: 13.4ms\n",
      "976:\tlearn: 0.0145948\ttotal: 544ms\tremaining: 12.8ms\n",
      "977:\tlearn: 0.0145882\ttotal: 544ms\tremaining: 12.2ms\n",
      "978:\tlearn: 0.0145806\ttotal: 545ms\tremaining: 11.7ms\n",
      "979:\tlearn: 0.0145652\ttotal: 545ms\tremaining: 11.1ms\n",
      "980:\tlearn: 0.0145590\ttotal: 546ms\tremaining: 10.6ms\n",
      "981:\tlearn: 0.0145453\ttotal: 546ms\tremaining: 10ms\n",
      "982:\tlearn: 0.0145364\ttotal: 547ms\tremaining: 9.46ms\n",
      "983:\tlearn: 0.0145245\ttotal: 547ms\tremaining: 8.9ms\n",
      "984:\tlearn: 0.0145156\ttotal: 548ms\tremaining: 8.34ms\n",
      "985:\tlearn: 0.0145035\ttotal: 548ms\tremaining: 7.78ms\n",
      "986:\tlearn: 0.0144980\ttotal: 549ms\tremaining: 7.23ms\n",
      "987:\tlearn: 0.0144886\ttotal: 549ms\tremaining: 6.67ms\n",
      "988:\tlearn: 0.0144647\ttotal: 549ms\tremaining: 6.11ms\n",
      "989:\tlearn: 0.0144543\ttotal: 550ms\tremaining: 5.55ms\n",
      "990:\tlearn: 0.0144453\ttotal: 550ms\tremaining: 5ms\n",
      "991:\tlearn: 0.0144374\ttotal: 551ms\tremaining: 4.44ms\n",
      "992:\tlearn: 0.0144318\ttotal: 551ms\tremaining: 3.88ms\n",
      "993:\tlearn: 0.0144131\ttotal: 552ms\tremaining: 3.33ms\n",
      "994:\tlearn: 0.0144052\ttotal: 552ms\tremaining: 2.77ms\n",
      "995:\tlearn: 0.0143935\ttotal: 553ms\tremaining: 2.22ms\n",
      "996:\tlearn: 0.0143824\ttotal: 553ms\tremaining: 1.66ms\n",
      "997:\tlearn: 0.0143746\ttotal: 554ms\tremaining: 1.11ms\n",
      "998:\tlearn: 0.0143708\ttotal: 554ms\tremaining: 554us\n",
      "999:\tlearn: 0.0143536\ttotal: 555ms\tremaining: 0us\n"
     ]
    },
    {
     "data": {
      "text/plain": [
       "<catboost.core.CatBoostRegressor at 0x7ffb4accb2e0>"
      ]
     },
     "execution_count": 9,
     "metadata": {},
     "output_type": "execute_result"
    }
   ],
   "source": [
    "#Train the Model \n",
    "prior_model = ctb.CatBoostRegressor()\n",
    "prior_model.fit(X_train,Y_train)"
   ]
  },
  {
   "cell_type": "code",
   "execution_count": 10,
   "id": "af65dcda",
   "metadata": {
    "execution": {
     "iopub.execute_input": "2022-07-24T13:11:30.987438Z",
     "iopub.status.busy": "2022-07-24T13:11:30.986519Z",
     "iopub.status.idle": "2022-07-24T13:11:31.035838Z",
     "shell.execute_reply": "2022-07-24T13:11:31.034300Z"
    },
    "id": "af65dcda",
    "papermill": {
     "duration": 0.070261,
     "end_time": "2022-07-24T13:11:31.041193",
     "exception": false,
     "start_time": "2022-07-24T13:11:30.970932",
     "status": "completed"
    },
    "tags": []
   },
   "outputs": [
    {
     "data": {
      "application/scrapbook.scrap.json+json": {
       "data": 0.0008142733184420308,
       "encoder": "json",
       "name": "Prior Model MSE",
       "version": 1
      }
     },
     "metadata": {
      "scrapbook": {
       "data": true,
       "display": false,
       "name": "Prior Model MSE"
      }
     },
     "output_type": "display_data"
    },
    {
     "data": {
      "application/scrapbook.scrap.json+json": {
       "data": 1.0199848277655623,
       "encoder": "json",
       "name": "ABC Pre-generator MSE",
       "version": 1
      }
     },
     "metadata": {
      "scrapbook": {
       "data": true,
       "display": false,
       "name": "ABC Pre-generator MSE"
      }
     },
     "output_type": "display_data"
    },
    {
     "data": {
      "application/scrapbook.scrap.json+json": {
       "data": 0.020314060421239857,
       "encoder": "json",
       "name": "Prior Model MAE",
       "version": 1
      }
     },
     "metadata": {
      "scrapbook": {
       "data": true,
       "display": false,
       "name": "Prior Model MAE"
      }
     },
     "output_type": "display_data"
    },
    {
     "name": "stdout",
     "output_type": "stream",
     "text": [
      "Prior Model MAE 0.020314060421239857\n",
      "ABC Pre-generator MAE 0.8008193007922808\n"
     ]
    }
   ],
   "source": [
    "y_pred = prior_model.predict(X_test)\n",
    "y_abc = y_pred + np.random.normal(0,variance, y_pred.shape) + bias \n",
    "mse = mean_squared_error(y_pred,Y_test)\n",
    "sb.glue(\"Prior Model MSE\",mse)\n",
    "mse = mean_squared_error(y_abc,Y_test)\n",
    "sb.glue(\"ABC Pre-generator MSE\",mse)\n",
    "mae = mean_absolute_error(y_pred,Y_test)\n",
    "sb.glue(\"Prior Model MAE\",mae)\n",
    "print(\"Prior Model MAE\",mae)\n",
    "mae = mean_absolute_error(y_abc,Y_test)\n",
    "print(\"ABC Pre-generator MAE\",mae)"
   ]
  },
  {
   "cell_type": "markdown",
   "id": "25609da2",
   "metadata": {
    "papermill": {
     "duration": 0.014353,
     "end_time": "2022-07-24T13:11:31.084306",
     "exception": false,
     "start_time": "2022-07-24T13:11:31.069953",
     "status": "completed"
    },
    "tags": []
   },
   "source": [
    "# mGAN Model"
   ]
  },
  {
   "cell_type": "code",
   "execution_count": 11,
   "id": "dfc3464d",
   "metadata": {
    "execution": {
     "iopub.execute_input": "2022-07-24T13:11:31.110619Z",
     "iopub.status.busy": "2022-07-24T13:11:31.109698Z",
     "iopub.status.idle": "2022-07-24T13:11:31.114394Z",
     "shell.execute_reply": "2022-07-24T13:11:31.113605Z"
    },
    "papermill": {
     "duration": 0.019965,
     "end_time": "2022-07-24T13:11:31.117227",
     "exception": false,
     "start_time": "2022-07-24T13:11:31.097262",
     "status": "completed"
    },
    "tags": []
   },
   "outputs": [],
   "source": [
    "# gen = network.Generator(n_features+1).to(device)\n",
    "# disc = network.Discriminator(n_features+1).to(device)\n",
    "\n",
    "# criterion = torch.nn.BCELoss()\n",
    "# gen_opt = torch.optim.Adam(gen.parameters(), lr=0.01, betas=(0.5, 0.999))\n",
    "# disc_opt = torch.optim.Adam(disc.parameters(), lr=0.01, betas=(0.5, 0.999))"
   ]
  },
  {
   "cell_type": "code",
   "execution_count": 12,
   "id": "b75fdd85",
   "metadata": {
    "execution": {
     "iopub.execute_input": "2022-07-24T13:11:31.139156Z",
     "iopub.status.busy": "2022-07-24T13:11:31.138818Z",
     "iopub.status.idle": "2022-07-24T13:11:31.145706Z",
     "shell.execute_reply": "2022-07-24T13:11:31.142166Z"
    },
    "papermill": {
     "duration": 0.02215,
     "end_time": "2022-07-24T13:11:31.149413",
     "exception": false,
     "start_time": "2022-07-24T13:11:31.127263",
     "status": "completed"
    },
    "tags": []
   },
   "outputs": [],
   "source": [
    "#Training the ABC_GAN \n",
    "# ABC_train_test2.training_GAN(disc,gen,disc_opt,gen_opt,train_data,batch_size,n_epochs,criterion,prior_model,variance,bias,device)"
   ]
  },
  {
   "cell_type": "code",
   "execution_count": 13,
   "id": "1fa7c368",
   "metadata": {
    "execution": {
     "iopub.execute_input": "2022-07-24T13:11:31.173857Z",
     "iopub.status.busy": "2022-07-24T13:11:31.173500Z",
     "iopub.status.idle": "2022-07-24T13:11:31.179013Z",
     "shell.execute_reply": "2022-07-24T13:11:31.176896Z"
    },
    "papermill": {
     "duration": 0.021751,
     "end_time": "2022-07-24T13:11:31.182657",
     "exception": false,
     "start_time": "2022-07-24T13:11:31.160906",
     "status": "completed"
    },
    "tags": []
   },
   "outputs": [],
   "source": [
    "# ABC_GAN1_metrics=ABC_train_test2.test_generator(gen,test_data,prior_model,variance,bias,\"1\",device)\n",
    "# sb.glue(\"ABC_GAN_1 Metrics\",ABC_GAN1_metrics)\n",
    "\n",
    "# print(\"MAE\")\n",
    "# print(mean(ABC_GAN1_metrics[1]))"
   ]
  },
  {
   "cell_type": "code",
   "execution_count": 14,
   "id": "eb22ce5c",
   "metadata": {
    "execution": {
     "iopub.execute_input": "2022-07-24T13:11:31.217702Z",
     "iopub.status.busy": "2022-07-24T13:11:31.217274Z",
     "iopub.status.idle": "2022-07-24T13:11:31.221714Z",
     "shell.execute_reply": "2022-07-24T13:11:31.220630Z"
    },
    "papermill": {
     "duration": 0.025041,
     "end_time": "2022-07-24T13:11:31.225084",
     "exception": false,
     "start_time": "2022-07-24T13:11:31.200043",
     "status": "completed"
    },
    "tags": []
   },
   "outputs": [],
   "source": [
    "# sanityChecks.discProbVsError(train_data,disc,device)\n",
    "# sanityChecks.discProbVsError(test_data,disc,device)"
   ]
  },
  {
   "cell_type": "markdown",
   "id": "56cec843",
   "metadata": {
    "papermill": {
     "duration": 0.014454,
     "end_time": "2022-07-24T13:11:31.250788",
     "exception": false,
     "start_time": "2022-07-24T13:11:31.236334",
     "status": "completed"
    },
    "tags": []
   },
   "source": [
    "# mGAN Model with TabNet Generator"
   ]
  },
  {
   "cell_type": "code",
   "execution_count": 15,
   "id": "f99ba815",
   "metadata": {
    "execution": {
     "iopub.execute_input": "2022-07-24T13:11:31.274129Z",
     "iopub.status.busy": "2022-07-24T13:11:31.273820Z",
     "iopub.status.idle": "2022-07-24T13:11:31.281215Z",
     "shell.execute_reply": "2022-07-24T13:11:31.280263Z"
    },
    "papermill": {
     "duration": 0.020748,
     "end_time": "2022-07-24T13:11:31.283739",
     "exception": false,
     "start_time": "2022-07-24T13:11:31.262991",
     "status": "completed"
    },
    "tags": []
   },
   "outputs": [],
   "source": [
    "gen2 = network.GeneratorTabnet(n_features+1).to(device)\n",
    "disc2 = network.Discriminator(n_features+1).to(device)\n",
    "\n",
    "criterion = torch.nn.BCELoss()\n",
    "gen_opt = torch.optim.Adam(gen2.parameters(), lr=0.01, betas=(0.5, 0.999))\n",
    "disc_opt = torch.optim.Adam(disc2.parameters(), lr=0.01, betas=(0.5, 0.999))"
   ]
  },
  {
   "cell_type": "code",
   "execution_count": 16,
   "id": "5f0f116e",
   "metadata": {
    "execution": {
     "iopub.execute_input": "2022-07-24T13:11:31.309769Z",
     "iopub.status.busy": "2022-07-24T13:11:31.309465Z",
     "iopub.status.idle": "2022-07-24T13:14:55.058749Z",
     "shell.execute_reply": "2022-07-24T13:14:55.056396Z"
    },
    "papermill": {
     "duration": 203.768485,
     "end_time": "2022-07-24T13:14:55.063467",
     "exception": false,
     "start_time": "2022-07-24T13:11:31.294982",
     "status": "completed"
    },
    "tags": []
   },
   "outputs": [
    {
     "data": {
      "image/png": "[encoded data removed]",
      "text/plain": [
       "<Figure size 432x288 with 1 Axes>"
      ]
     },
     "metadata": {
      "needs_background": "light"
     },
     "output_type": "display_data"
    },
    {
     "data": {
      "image/png": "[encoded data removed]",
      "text/plain": [
       "<Figure size 432x288 with 1 Axes>"
      ]
     },
     "metadata": {
      "needs_background": "light"
     },
     "output_type": "display_data"
    }
   ],
   "source": [
    "#Training the ABC_GAN \n",
    "ABC_train_test2.training_GAN(disc2,gen2,disc_opt,gen_opt,train_data,batch_size,n_epochs,criterion,prior_model,variance,bias,device)"
   ]
  },
  {
   "cell_type": "code",
   "execution_count": 17,
   "id": "369a9436",
   "metadata": {
    "execution": {
     "iopub.execute_input": "2022-07-24T13:14:55.095428Z",
     "iopub.status.busy": "2022-07-24T13:14:55.094567Z",
     "iopub.status.idle": "2022-07-24T13:14:55.762586Z",
     "shell.execute_reply": "2022-07-24T13:14:55.761424Z"
    },
    "papermill": {
     "duration": 0.6898,
     "end_time": "2022-07-24T13:14:55.766110",
     "exception": false,
     "start_time": "2022-07-24T13:14:55.076310",
     "status": "completed"
    },
    "tags": []
   },
   "outputs": [
    {
     "data": {
      "application/scrapbook.scrap.json+json": {
       "data": 0.0055928050937371935,
       "encoder": "json",
       "name": "ABC-GAN Model 1 MSE",
       "version": 1
      }
     },
     "metadata": {
      "scrapbook": {
       "data": true,
       "display": false,
       "name": "ABC-GAN Model 1 MSE"
      }
     },
     "output_type": "display_data"
    },
    {
     "data": {
      "application/scrapbook.scrap.json+json": {
       "data": 0.05544098644904405,
       "encoder": "json",
       "name": "ABC-GAN Model 1 MAE",
       "version": 1
      }
     },
     "metadata": {
      "scrapbook": {
       "data": true,
       "display": false,
       "name": "ABC-GAN Model 1 MAE"
      }
     },
     "output_type": "display_data"
    },
    {
     "data": {
      "application/scrapbook.scrap.json+json": {
       "data": 8.537911913152785,
       "encoder": "json",
       "name": "ABC-GAN Model 1 Manhattan Distance",
       "version": 1
      }
     },
     "metadata": {
      "scrapbook": {
       "data": true,
       "display": false,
       "name": "ABC-GAN Model 1 Manhattan Distance"
      }
     },
     "output_type": "display_data"
    },
    {
     "data": {
      "application/scrapbook.scrap.json+json": {
       "data": 0.9219210477133155,
       "encoder": "json",
       "name": "ABC-GAN Model 1 Euclidean distance",
       "version": 1
      }
     },
     "metadata": {
      "scrapbook": {
       "data": true,
       "display": false,
       "name": "ABC-GAN Model 1 Euclidean distance"
      }
     },
     "output_type": "display_data"
    },
    {
     "data": {
      "application/scrapbook.scrap.json+json": {
       "data": [
        [
         0.006736636389411875,
         0.009563260112270884,
         0.005020396767272773,
         0.004438614507327175,
         0.005518302062335607,
         0.004930989060790094,
         0.005402678009472745,
         0.004487948678457041,
         0.004359247952494329,
         0.005226428620401658,
         0.00462915908804966,
         0.004565165574986075,
         0.011122410247908297,
         0.004537010414974578,
         0.005888244786606504,
         0.00721856705452365,
         0.007192386723509237,
         0.004571167118916348,
         0.004465333067834473,
         0.006101118667969202,
         0.007023330988762084,
         0.006874608001181774,
         0.004486596083972435,
         0.007136793315184786,
         0.007967819920550361,
         0.004450139299297611,
         0.007792811506769568,
         0.005791137920717976,
         0.005398967150665561,
         0.004703982310370385,
         0.007637599125078095,
         0.0055109250073531795,
         0.004315271097025598,
         0.00536726262474007,
         0.004388194130048036,
         0.004472803047032267,
         0.004480279532188502,
         0.0051771572091704465,
         0.006176759093293552,
         0.004699743673513368,
         0.004365338458261422,
         0.004561758428069866,
         0.009874344592944983,
         0.004462481136771866,
         0.005330209540624732,
         0.006529530371330166,
         0.004301917915102147,
         0.004336136946583211,
         0.007072249094860605,
         0.007049556745015748,
         0.004861810259754653,
         0.006997137909943538,
         0.005009044744224808,
         0.004883055582247026,
         0.00565134862536318,
         0.0047796004748318684,
         0.00553052904498787,
         0.004284550770836447,
         0.004509760177211649,
         0.0053711018705830515,
         0.004403163438816124,
         0.006884993293216028,
         0.008164994976196795,
         0.004654332966532613,
         0.00571454533411632,
         0.007079386664634334,
         0.00475179696333954,
         0.004644724186714717,
         0.005979945323664033,
         0.004254730648230462,
         0.00628629577068339,
         0.007414604154450365,
         0.006200063397336508,
         0.0055664566091345085,
         0.006831820323145772,
         0.005002287746641506,
         0.004249608691869243,
         0.004510833160353566,
         0.004606949121983788,
         0.004842165027269949,
         0.003945564859442445,
         0.004654897834450128,
         0.005706409216620032,
         0.004370447683995078,
         0.004132770138034141,
         0.00655020335640326,
         0.005233095996080506,
         0.00506911353880833,
         0.006560854284178346,
         0.004401492590369775,
         0.006510666841826671,
         0.0042921789193264516,
         0.005937706643244876,
         0.007760385317531085,
         0.007491283426490258,
         0.006281902522847683,
         0.00444581385288049,
         0.004686439992516892,
         0.0052110196367284424,
         0.0044058562916381785
        ],
        [
         0.057554070680559455,
         0.05960644019598311,
         0.055343624470489364,
         0.052734355792983786,
         0.0550643266843898,
         0.05571544279235524,
         0.05540274240850628,
         0.05313445678488775,
         0.05382443560505068,
         0.05663816681639715,
         0.053710789867229276,
         0.054454717083604304,
         0.06137288877038986,
         0.05457302659459702,
         0.05637938899363016,
         0.05666869622352835,
         0.05780666481171336,
         0.054545544499120156,
         0.05372133340638179,
         0.05694451678979706,
         0.05738644016749383,
         0.05757754129152019,
         0.05304957367479801,
         0.05711341838279812,
         0.0597044818296835,
         0.05294078755398075,
         0.057661446440335995,
         0.05528867576126154,
         0.0562375108771897,
         0.053733900600633065,
         0.05749512246096289,
         0.05583630649784169,
         0.05228798751803962,
         0.05563080690607622,
         0.05293484624813904,
         0.05422164589263402,
         0.053964674496999036,
         0.05581303746379041,
         0.0576835201400054,
         0.05452120741950227,
         0.05269477954255296,
         0.053222002945356554,
         0.0601888412440365,
         0.053869876502589745,
         0.05525443898876766,
         0.056863332868783506,
         0.05281682102033844,
         0.05319300247961051,
         0.058006905844773755,
         0.05862772895337699,
         0.05473660999401049,
         0.05746760079032415,
         0.05463260801678354,
         0.054123601380300215,
         0.0561852983694959,
         0.05497537526701178,
         0.0562567865935626,
         0.05327891135080294,
         0.05398284346349053,
         0.05511107888411392,
         0.05334260365502401,
         0.057326391581204034,
         0.05804435088746734,
         0.05392890513040029,
         0.055556586834710917,
         0.05812289754485155,
         0.05480199570876437,
         0.054587588512471745,
         0.05630133622749285,
         0.05323467609266956,
         0.05719855038279837,
         0.0588552319511239,
         0.05664893721121472,
         0.055355256278212965,
         0.05748675149176028,
         0.054917128659881555,
         0.05357002246786247,
         0.05400180761012938,
         0.05420348698926437,
         0.0549129754933831,
         0.05081976594572717,
         0.05337902625369561,
         0.05658624207528381,
         0.053072209506259335,
         0.05230321408576005,
         0.0570770317035449,
         0.05560533230664668,
         0.05470881603851721,
         0.05675150490329637,
         0.053211035884239456,
         0.057379687664570744,
         0.052907250458737475,
         0.057141953788988,
         0.05755686070528123,
         0.05749941302777885,
         0.05660441283184987,
         0.05339898423037746,
         0.05462495433529476,
         0.05587429284759156,
         0.05343217020491501
        ],
        [
         8.863326884806156,
         9.179391790181398,
         8.522918168455362,
         8.121090792119503,
         8.479906309396029,
         8.580178190022707,
         8.532022330909967,
         8.182706344872713,
         8.288963083177805,
         8.72227768972516,
         8.271461639553308,
         8.386026430875063,
         9.45142487064004,
         8.404246095567942,
         8.682425905019045,
         8.726979218423367,
         8.902226381003857,
         8.400013852864504,
         8.273085344582796,
         8.769455585628748,
         8.83751178579405,
         8.86694135889411,
         8.169634345918894,
         8.79546643095091,
         9.19449020177126,
         8.152881283313036,
         8.879862751811743,
         8.514456067234278,
         8.660576675087214,
         8.275020692497492,
         8.854248858988285,
         8.59879120066762,
         8.052350077778101,
         8.567144263535738,
         8.151966322213411,
         8.35013346746564,
         8.310559872537851,
         8.595207769423723,
         8.883262101560831,
         8.39626594260335,
         8.114996049553156,
         8.19618845358491,
         9.269081551581621,
         8.29596098139882,
         8.50918360427022,
         8.75695326179266,
         8.13379043713212,
         8.191722381860018,
         8.933063500095159,
         9.028670258820057,
         8.429437939077616,
         8.850010521709919,
         8.413421634584665,
         8.335034612566233,
         8.652535948902369,
         8.466207791119814,
         8.66354513540864,
         8.204952348023653,
         8.313357893377542,
         8.487106148153543,
         8.214760962873697,
         8.82826430350542,
         8.93883003666997,
         8.305051390081644,
         8.55571437254548,
         8.950926221907139,
         8.439507339149714,
         8.406488630920649,
         8.6704057790339,
         8.198140118271112,
         8.808576758950949,
         9.06370572047308,
         8.723936330527067,
         8.524709466844797,
         8.852959729731083,
         8.45723781362176,
         8.249783460050821,
         8.316278371959925,
         8.347336996346712,
         8.456598225980997,
         7.826243955641985,
         8.220370043069124,
         8.714281279593706,
         8.173120263963938,
         8.054694969207048,
         8.789862882345915,
         8.563221175223589,
         8.42515766993165,
         8.739731755107641,
         8.194499526172876,
         8.836471900343895,
         8.14771657064557,
         8.799860883504152,
         8.86375654861331,
         8.854909606277943,
         8.71707957610488,
         8.223443571478128,
         8.412242967635393,
         8.6046410985291,
         8.228554211556911
        ],
        [
         1.0185489698435852,
         1.213565843821305,
         0.879284426201219,
         0.8267687912157696,
         0.9218560178247379,
         0.8714197125161184,
         0.9121471446311734,
         0.8313507662126645,
         0.819343752453222,
         0.8971454773568528,
         0.8443284310975485,
         0.8384721215090312,
         1.3087594042366526,
         0.8358825299682278,
         0.9522550588667942,
         1.0543525626642363,
         1.0524388606567234,
         0.8390230844935779,
         0.8292534548897031,
         0.9693153639900984,
         1.0399966212778582,
         1.0289264464391967,
         0.8312254789957746,
         1.048363567918333,
         1.1077203021362187,
         0.827841441395532,
         1.0954875499258372,
         0.9443702874352667,
         0.9118338342058252,
         0.8511247122467067,
         1.0845230588890338,
         0.921239627421872,
         0.8152004348268849,
         0.9091525967679852,
         0.8220595453052033,
         0.8299467869947863,
         0.8306401434779259,
         0.8929066077772349,
         0.9753055420570556,
         0.8507411625876925,
         0.8199159240874999,
         0.838159172187932,
         1.2331460040536673,
         0.8289885976675839,
         0.9060089785737274,
         1.0027700021365047,
         0.8139381788107317,
         0.8171689481213873,
         1.043612169634167,
         1.0419365329675436,
         0.8652853748921315,
         1.0380555082129785,
         0.8782897532196424,
         0.8671738924033875,
         0.9329028289730553,
         0.8579385019476091,
         0.9228767376676758,
         0.8122935545163539,
         0.8333685062987405,
         0.9094777006995773,
         0.8234604845271466,
         1.0297033393921124,
         1.121342599892783,
         0.8466210940237802,
         0.9381044619091806,
         1.0441386624168685,
         0.8554394966064457,
         0.8457467261267207,
         0.9596413808523792,
         0.8094618705210834,
         0.9839154174446308,
         1.068573366589939,
         0.9771436758173397,
         0.9258694928588556,
         1.02571942058462,
         0.8776971647343927,
         0.8089744980825189,
         0.8334676398603903,
         0.8423005192836481,
         0.8635354157181813,
         0.7794979078574467,
         0.8466724670764485,
         0.9374364081683008,
         0.8203956017283626,
         0.7977760345217558,
         1.0043561703330657,
         0.8977175409873631,
         0.8835403131586486,
         1.005172403005308,
         0.8233042322962669,
         1.0013204749935491,
         0.8130163304487023,
         0.9562462146642521,
         1.0932059910647156,
         1.0740845626297306,
         0.9835715472290479,
         0.8274390209215392,
         0.8495362021995304,
         0.8958219823470398,
         0.8237122488541004
        ]
       ],
       "encoder": "json",
       "name": "ABC_GAN_2 Metrics",
       "version": 1
      }
     },
     "metadata": {
      "scrapbook": {
       "data": true,
       "display": false,
       "name": "ABC_GAN_2 Metrics"
      }
     },
     "output_type": "display_data"
    },
    {
     "name": "stdout",
     "output_type": "stream",
     "text": [
      "MAE\n",
      "0.05544098644904405\n"
     ]
    }
   ],
   "source": [
    "ABC_GAN2_metrics=ABC_train_test2.test_generator(gen2,test_data,prior_model,variance,bias,\"1\",device)\n",
    "sb.glue(\"ABC_GAN_2 Metrics\",ABC_GAN2_metrics)\n",
    "\n",
    "print(\"MAE\")\n",
    "print(mean(ABC_GAN2_metrics[1]))"
   ]
  },
  {
   "cell_type": "code",
   "execution_count": 18,
   "id": "1c53b04a",
   "metadata": {
    "execution": {
     "iopub.execute_input": "2022-07-24T13:14:55.807809Z",
     "iopub.status.busy": "2022-07-24T13:14:55.807298Z",
     "iopub.status.idle": "2022-07-24T13:14:56.897665Z",
     "shell.execute_reply": "2022-07-24T13:14:56.895834Z"
    },
    "papermill": {
     "duration": 1.119,
     "end_time": "2022-07-24T13:14:56.900436",
     "exception": false,
     "start_time": "2022-07-24T13:14:55.781436",
     "status": "completed"
    },
    "tags": []
   },
   "outputs": [
    {
     "data": {
      "image/png": "[encoded data removed]",
      "text/plain": [
       "<Figure size 432x288 with 1 Axes>"
      ]
     },
     "metadata": {
      "needs_background": "light"
     },
     "output_type": "display_data"
    },
    {
     "data": {
      "image/png": "[encoded data removed]",
      "text/plain": [
       "<Figure size 432x288 with 1 Axes>"
      ]
     },
     "metadata": {
      "needs_background": "light"
     },
     "output_type": "display_data"
    },
    {
     "data": {
      "image/png": "[encoded data removed]",
      "text/plain": [
       "<Figure size 432x288 with 1 Axes>"
      ]
     },
     "metadata": {
      "needs_background": "light"
     },
     "output_type": "display_data"
    },
    {
     "data": {
      "image/png": "[encoded data removed]",
      "text/plain": [
       "<Figure size 432x288 with 1 Axes>"
      ]
     },
     "metadata": {
      "needs_background": "light"
     },
     "output_type": "display_data"
    }
   ],
   "source": [
    "sanityChecks.discProbVsError(train_data,disc2,device)\n",
    "sanityChecks.discProbVsError(test_data,disc2,device)"
   ]
  },
  {
   "cell_type": "markdown",
   "id": "130f3a4d",
   "metadata": {
    "id": "130f3a4d",
    "papermill": {
     "duration": 0.016397,
     "end_time": "2022-07-24T13:14:56.939988",
     "exception": false,
     "start_time": "2022-07-24T13:14:56.923591",
     "status": "completed"
    },
    "tags": []
   },
   "source": [
    "# skipGAN Model"
   ]
  },
  {
   "cell_type": "code",
   "execution_count": 19,
   "id": "4e43dad1",
   "metadata": {
    "execution": {
     "iopub.execute_input": "2022-07-24T13:14:56.977122Z",
     "iopub.status.busy": "2022-07-24T13:14:56.976717Z",
     "iopub.status.idle": "2022-07-24T13:14:56.983172Z",
     "shell.execute_reply": "2022-07-24T13:14:56.982120Z"
    },
    "id": "4e43dad1",
    "papermill": {
     "duration": 0.028965,
     "end_time": "2022-07-24T13:14:56.985900",
     "exception": false,
     "start_time": "2022-07-24T13:14:56.956935",
     "status": "completed"
    },
    "tags": []
   },
   "outputs": [],
   "source": [
    "# #Generator\n",
    "# gen3 = network.GeneratorWithSkipConnection(n_features+1).to(device)\n",
    "# constraints=network.weightConstraint()\n",
    "# #Discriminator \n",
    "# disc3 = network.Discriminator(n_features+1).to(device)\n",
    "\n",
    "# criterion = torch.nn.BCELoss()\n",
    "# gen_opt = torch.optim.Adam(gen3.parameters(), lr=0.01, betas=(0.5, 0.999))\n",
    "# disc_opt = torch.optim.Adam(disc3.parameters(), lr=0.01, betas=(0.5, 0.999))\n"
   ]
  },
  {
   "cell_type": "markdown",
   "id": "89ae9c7d",
   "metadata": {
    "tags": [
     "papermill-error-cell-tag"
    ]
   },
   "source": [
    "<span id=\"papermill-error-cell\" style=\"color:red; font-family:Helvetica Neue, Helvetica, Arial, sans-serif; font-size:2em;\">Execution using papermill encountered an exception here and stopped:</span>"
   ]
  },
  {
   "cell_type": "code",
   "execution_count": 20,
   "id": "26acbc37",
   "metadata": {
    "execution": {
     "iopub.execute_input": "2022-07-24T13:14:57.022587Z",
     "iopub.status.busy": "2022-07-24T13:14:57.022224Z",
     "iopub.status.idle": "2022-07-24T13:14:58.166952Z",
     "shell.execute_reply": "2022-07-24T13:14:58.164779Z"
    },
    "id": "26acbc37",
    "papermill": {
     "duration": 1.166901,
     "end_time": "2022-07-24T13:14:58.169948",
     "exception": true,
     "start_time": "2022-07-24T13:14:57.003047",
     "status": "failed"
    },
    "tags": []
   },
   "outputs": [
    {
     "ename": "NameError",
     "evalue": "name 'disc3' is not defined",
     "output_type": "error",
     "traceback": [
      "\u001b[0;31m---------------------------------------------------------------------------\u001b[0m",
      "\u001b[0;31mNameError\u001b[0m                                 Traceback (most recent call last)",
      "Input \u001b[0;32mIn [20]\u001b[0m, in \u001b[0;36m<cell line: 1>\u001b[0;34m()\u001b[0m\n\u001b[0;32m----> 1\u001b[0m ABC_train_test2\u001b[38;5;241m.\u001b[39mtraining_GAN_skip_connection(\u001b[43mdisc3\u001b[49m,gen3,disc_opt,gen_opt,train_data,batch_size,n_epochs,criterion,prior_model,variance,bias,device)\n",
      "\u001b[0;31mNameError\u001b[0m: name 'disc3' is not defined"
     ]
    }
   ],
   "source": [
    "ABC_train_test2.training_GAN_skip_connection(disc3,gen3,disc_opt,gen_opt,train_data,batch_size,n_epochs,criterion,prior_model,variance,bias,device)"
   ]
  },
  {
   "cell_type": "code",
   "execution_count": null,
   "id": "c5e0717b",
   "metadata": {
    "id": "c5e0717b",
    "papermill": {
     "duration": null,
     "end_time": null,
     "exception": null,
     "start_time": null,
     "status": "pending"
    },
    "tags": []
   },
   "outputs": [],
   "source": [
    "# ABC_GAN3_metrics=ABC_train_test2.test_generator(gen3,test_data,prior_model,variance,bias,\"3\",device)\n",
    "# sb.glue(\"ABC_GAN_3 Metrics\",ABC_GAN3_metrics)\n",
    "\n",
    "# print(\"MAE\")\n",
    "# print(mean(ABC_GAN3_metrics[1]))"
   ]
  },
  {
   "cell_type": "code",
   "execution_count": null,
   "id": "c8e46b48",
   "metadata": {
    "id": "c8e46b48",
    "papermill": {
     "duration": null,
     "end_time": null,
     "exception": null,
     "start_time": null,
     "status": "pending"
    },
    "tags": []
   },
   "outputs": [],
   "source": [
    "# sanityChecks.discProbVsError(train_data,disc3,device)\n",
    "# sanityChecks.discProbVsError(test_data,disc3,device)"
   ]
  },
  {
   "cell_type": "markdown",
   "id": "e69a87ef",
   "metadata": {
    "id": "130f3a4d",
    "papermill": {
     "duration": null,
     "end_time": null,
     "exception": null,
     "start_time": null,
     "status": "pending"
    },
    "tags": []
   },
   "source": [
    "# skipGAN Model with TabNet Generator"
   ]
  },
  {
   "cell_type": "code",
   "execution_count": null,
   "id": "ad748461",
   "metadata": {
    "id": "4e43dad1",
    "papermill": {
     "duration": null,
     "end_time": null,
     "exception": null,
     "start_time": null,
     "status": "pending"
    },
    "tags": []
   },
   "outputs": [],
   "source": [
    "# #Generator\n",
    "# gen4 = network.GeneratorTabnetskipConnection(n_features+1).to(device)\n",
    "# constraints=network.weightConstraint()\n",
    "# #Discriminator \n",
    "# disc4 = network.Discriminator(n_features+1).to(device)\n",
    "\n",
    "# criterion = torch.nn.BCELoss()\n",
    "# gen_opt = torch.optim.Adam(gen4.parameters(), lr=0.01, betas=(0.5, 0.999))\n",
    "# disc_opt = torch.optim.Adam(disc4.parameters(), lr=0.01, betas=(0.5, 0.999))\n"
   ]
  },
  {
   "cell_type": "code",
   "execution_count": null,
   "id": "cdd76100",
   "metadata": {
    "id": "26acbc37",
    "papermill": {
     "duration": null,
     "end_time": null,
     "exception": null,
     "start_time": null,
     "status": "pending"
    },
    "tags": []
   },
   "outputs": [],
   "source": [
    "# ABC_train_test2.training_GAN_skip_connection(disc4,gen4,disc_opt,gen_opt,train_data,batch_size,n_epochs,criterion,prior_model,variance,bias,device)"
   ]
  },
  {
   "cell_type": "code",
   "execution_count": null,
   "id": "cdb9a70f",
   "metadata": {
    "id": "c5e0717b",
    "papermill": {
     "duration": null,
     "end_time": null,
     "exception": null,
     "start_time": null,
     "status": "pending"
    },
    "tags": []
   },
   "outputs": [],
   "source": [
    "# ABC_GAN4_metrics=ABC_train_test2.test_generator(gen4,test_data,prior_model,variance,bias,\"3\",device)\n",
    "# sb.glue(\"ABC_GAN_4 Metrics\",ABC_GAN4_metrics)\n",
    "\n",
    "# print(\"MAE\")\n",
    "# print(mean(ABC_GAN4_metrics[1]))"
   ]
  },
  {
   "cell_type": "code",
   "execution_count": null,
   "id": "69748f41",
   "metadata": {
    "id": "c8e46b48",
    "papermill": {
     "duration": null,
     "end_time": null,
     "exception": null,
     "start_time": null,
     "status": "pending"
    },
    "tags": []
   },
   "outputs": [],
   "source": [
    "# sanityChecks.discProbVsError(train_data,disc4,device)\n",
    "# sanityChecks.discProbVsError(test_data,disc4,device)"
   ]
  },
  {
   "cell_type": "markdown",
   "id": "a5bd74c3",
   "metadata": {
    "id": "a5bd74c3",
    "papermill": {
     "duration": null,
     "end_time": null,
     "exception": null,
     "start_time": null,
     "status": "pending"
    },
    "tags": []
   },
   "source": [
    "## Skip Connection Model Analysis - ABC-GAN "
   ]
  },
  {
   "cell_type": "markdown",
   "id": "5744a8bf",
   "metadata": {
    "id": "5744a8bf",
    "papermill": {
     "duration": null,
     "end_time": null,
     "exception": null,
     "start_time": null,
     "status": "pending"
    },
    "tags": []
   },
   "source": [
    "### Weight Analysis \n",
    "\n",
    "Study the weights of the skip connection layer\n",
    "\n",
    "Equation of the skip connection is \n",
    "\n",
    "$output = y_{gan} * w + y_{abc} * (1-w)$"
   ]
  },
  {
   "cell_type": "code",
   "execution_count": null,
   "id": "52c31dea",
   "metadata": {
    "id": "52c31dea",
    "papermill": {
     "duration": null,
     "end_time": null,
     "exception": null,
     "start_time": null,
     "status": "pending"
    },
    "tags": []
   },
   "outputs": [],
   "source": [
    "# print(\"Weight of the node at skip connection\")\n",
    "# for name,param in gen3.named_parameters():\n",
    "#     if(name == \"skipNode.weight\"):\n",
    "#         print(param)\n",
    "#         sb.glue(\"Skip Connection Weight\",param.item())"
   ]
  },
  {
   "cell_type": "markdown",
   "id": "35bc47b5",
   "metadata": {
    "id": "a5bd74c3",
    "papermill": {
     "duration": null,
     "end_time": null,
     "exception": null,
     "start_time": null,
     "status": "pending"
    },
    "tags": []
   },
   "source": [
    "## skipGAN Model Analysis (TabNet Generator) "
   ]
  },
  {
   "cell_type": "markdown",
   "id": "cadd2d12",
   "metadata": {
    "id": "5744a8bf",
    "papermill": {
     "duration": null,
     "end_time": null,
     "exception": null,
     "start_time": null,
     "status": "pending"
    },
    "tags": []
   },
   "source": [
    "### Weight Analysis \n",
    "\n",
    "Study the weights of the skip connection layer\n",
    "\n",
    "Equation of the skip connection is \n",
    "\n",
    "$output = y_{gan} * w + y_{abc} * (1-w)$"
   ]
  },
  {
   "cell_type": "code",
   "execution_count": null,
   "id": "8e1efad8",
   "metadata": {
    "id": "52c31dea",
    "papermill": {
     "duration": null,
     "end_time": null,
     "exception": null,
     "start_time": null,
     "status": "pending"
    },
    "tags": []
   },
   "outputs": [],
   "source": [
    "# print(\"Weight of the node at skip connection\")\n",
    "# for name,param in gen4.named_parameters():\n",
    "#     if(name == \"skipNode.weight\"):\n",
    "#         print(param)\n",
    "#         sb.glue(\"Skip Connection Weight\",param.item())"
   ]
  }
 ],
 "metadata": {
  "colab": {
   "collapsed_sections": [],
   "name": "ABC_GAN_Model-Catboost_Pre-gen.ipynb",
   "provenance": []
  },
  "interpreter": {
   "hash": "31f2aee4e71d21fbe5cf8b01ff0e069b9275f58929596ceb00d14d90e3e16cd6"
  },
  "kernelspec": {
   "display_name": "Python 3 (ipykernel)",
   "language": "python",
   "name": "python3"
  },
  "language_info": {
   "codemirror_mode": {
    "name": "ipython",
    "version": 3
   },
   "file_extension": ".py",
   "mimetype": "text/x-python",
   "name": "python",
   "nbconvert_exporter": "python",
   "pygments_lexer": "ipython3",
   "version": "3.8.13"
  },
  "papermill": {
   "default_parameters": {},
   "duration": 221.926041,
   "end_time": "2022-07-24T13:14:59.137211",
   "environment_variables": {},
   "exception": true,
   "input_path": "ABC_GAN-Catboost.ipynb",
   "output_path": "./ABC_GAN_Catboost/ABC-GAN_output_3_6.ipynb",
   "parameters": {
    "bias": 0.01,
    "variance": 1
   },
   "start_time": "2022-07-24T13:11:17.211170",
   "version": "2.3.3"
  }
 },
 "nbformat": 4,
 "nbformat_minor": 5
}