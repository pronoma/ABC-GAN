{
 "cells": [
  {
   "cell_type": "markdown",
   "id": "622780e6",
   "metadata": {
    "id": "622780e6",
    "papermill": {
     "duration": 0.012629,
     "end_time": "2022-07-24T20:58:38.347063",
     "exception": false,
     "start_time": "2022-07-24T20:58:38.334434",
     "status": "completed"
    },
    "tags": []
   },
   "source": [
    "## Import Libraries "
   ]
  },
  {
   "cell_type": "code",
   "execution_count": 1,
   "id": "a62397e3",
   "metadata": {
    "execution": {
     "iopub.execute_input": "2022-07-24T20:58:38.372097Z",
     "iopub.status.busy": "2022-07-24T20:58:38.371224Z",
     "iopub.status.idle": "2022-07-24T20:58:38.388065Z",
     "shell.execute_reply": "2022-07-24T20:58:38.387076Z"
    },
    "id": "a62397e3",
    "papermill": {
     "duration": 0.035108,
     "end_time": "2022-07-24T20:58:38.390789",
     "exception": false,
     "start_time": "2022-07-24T20:58:38.355681",
     "status": "completed"
    },
    "tags": []
   },
   "outputs": [],
   "source": [
    "import warnings\n",
    "import sys\n",
    "sys.path.insert(0, '../../src')\n",
    "warnings.filterwarnings('ignore')"
   ]
  },
  {
   "cell_type": "code",
   "execution_count": 2,
   "id": "d6a4e155",
   "metadata": {
    "execution": {
     "iopub.execute_input": "2022-07-24T20:58:38.415566Z",
     "iopub.status.busy": "2022-07-24T20:58:38.414630Z",
     "iopub.status.idle": "2022-07-24T20:58:45.193284Z",
     "shell.execute_reply": "2022-07-24T20:58:45.192408Z"
    },
    "id": "d6a4e155",
    "papermill": {
     "duration": 6.798357,
     "end_time": "2022-07-24T20:58:45.196105",
     "exception": false,
     "start_time": "2022-07-24T20:58:38.397748",
     "status": "completed"
    },
    "tags": []
   },
   "outputs": [],
   "source": [
    "import ABC_train_test2\n",
    "import energyefficiencyDataset\n",
    "import network\n",
    "import dataset\n",
    "import sanityChecks\n",
    "import torch \n",
    "import scrapbook as sb\n",
    "from statistics import mean \n",
    "import catboost as ctb \n",
    "from sklearn.model_selection import train_test_split\n",
    "from sklearn.metrics import mean_squared_error,mean_absolute_error\n",
    "import numpy as np"
   ]
  },
  {
   "cell_type": "markdown",
   "id": "2fa5b0f7",
   "metadata": {
    "id": "2fa5b0f7",
    "papermill": {
     "duration": 0.008058,
     "end_time": "2022-07-24T20:58:45.211861",
     "exception": false,
     "start_time": "2022-07-24T20:58:45.203803",
     "status": "completed"
    },
    "tags": []
   },
   "source": [
    "## Parameters "
   ]
  },
  {
   "cell_type": "code",
   "execution_count": 3,
   "id": "783186fb",
   "metadata": {
    "execution": {
     "iopub.execute_input": "2022-07-24T20:58:45.232807Z",
     "iopub.status.busy": "2022-07-24T20:58:45.232250Z",
     "iopub.status.idle": "2022-07-24T20:58:45.237061Z",
     "shell.execute_reply": "2022-07-24T20:58:45.235805Z"
    },
    "id": "783186fb",
    "papermill": {
     "duration": 0.019931,
     "end_time": "2022-07-24T20:58:45.240910",
     "exception": false,
     "start_time": "2022-07-24T20:58:45.220979",
     "status": "completed"
    },
    "tags": [
     "parameters"
    ]
   },
   "outputs": [],
   "source": [
    "variance = 1\n",
    "bias = 1 "
   ]
  },
  {
   "cell_type": "code",
   "execution_count": 4,
   "id": "cce43852",
   "metadata": {
    "execution": {
     "iopub.execute_input": "2022-07-24T20:58:45.267148Z",
     "iopub.status.busy": "2022-07-24T20:58:45.263615Z",
     "iopub.status.idle": "2022-07-24T20:58:45.273032Z",
     "shell.execute_reply": "2022-07-24T20:58:45.271483Z"
    },
    "papermill": {
     "duration": 0.026983,
     "end_time": "2022-07-24T20:58:45.276983",
     "exception": false,
     "start_time": "2022-07-24T20:58:45.250000",
     "status": "completed"
    },
    "tags": [
     "injected-parameters"
    ]
   },
   "outputs": [],
   "source": [
    "# Parameters\n",
    "variance = 0.01\n",
    "bias = 0.01\n"
   ]
  },
  {
   "cell_type": "markdown",
   "id": "391cdbfd",
   "metadata": {
    "id": "391cdbfd",
    "papermill": {
     "duration": 0.008179,
     "end_time": "2022-07-24T20:58:45.294016",
     "exception": false,
     "start_time": "2022-07-24T20:58:45.285837",
     "status": "completed"
    },
    "tags": []
   },
   "source": [
    "## Dataset \n"
   ]
  },
  {
   "cell_type": "code",
   "execution_count": 5,
   "id": "5b51f161",
   "metadata": {
    "execution": {
     "iopub.execute_input": "2022-07-24T20:58:45.317898Z",
     "iopub.status.busy": "2022-07-24T20:58:45.317382Z",
     "iopub.status.idle": "2022-07-24T20:58:45.325878Z",
     "shell.execute_reply": "2022-07-24T20:58:45.324447Z"
    },
    "id": "5b51f161",
    "papermill": {
     "duration": 0.030534,
     "end_time": "2022-07-24T20:58:45.332493",
     "exception": false,
     "start_time": "2022-07-24T20:58:45.301959",
     "status": "completed"
    },
    "tags": []
   },
   "outputs": [],
   "source": [
    "#Parameters \n",
    "n_features = 8\n",
    "n_samples= 768\n",
    "n_target = 1 "
   ]
  },
  {
   "cell_type": "code",
   "execution_count": 6,
   "id": "5d6eced4",
   "metadata": {
    "execution": {
     "iopub.execute_input": "2022-07-24T20:58:45.361001Z",
     "iopub.status.busy": "2022-07-24T20:58:45.360529Z",
     "iopub.status.idle": "2022-07-24T20:58:45.975716Z",
     "shell.execute_reply": "2022-07-24T20:58:45.974788Z"
    },
    "id": "5d6eced4",
    "papermill": {
     "duration": 0.63011,
     "end_time": "2022-07-24T20:58:45.978066",
     "exception": false,
     "start_time": "2022-07-24T20:58:45.347956",
     "status": "completed"
    },
    "tags": []
   },
   "outputs": [
    {
     "name": "stdout",
     "output_type": "stream",
     "text": [
      "     X1     X2     X3      X4   X5  X6   X7  X8     Y1     Y2\n",
      "0  0.98  514.5  294.0  110.25  7.0   2  0.0   0  15.55  21.33\n",
      "1  0.98  514.5  294.0  110.25  7.0   3  0.0   0  15.55  21.33\n",
      "2  0.98  514.5  294.0  110.25  7.0   4  0.0   0  15.55  21.33\n",
      "3  0.98  514.5  294.0  110.25  7.0   5  0.0   0  15.55  21.33\n",
      "4  0.90  563.5  318.5  122.50  7.0   2  0.0   0  20.84  28.28\n"
     ]
    }
   ],
   "source": [
    "X,Y = energyefficiencyDataset.energy_data()"
   ]
  },
  {
   "cell_type": "code",
   "execution_count": 7,
   "id": "fe007438",
   "metadata": {
    "execution": {
     "iopub.execute_input": "2022-07-24T20:58:46.006647Z",
     "iopub.status.busy": "2022-07-24T20:58:46.006140Z",
     "iopub.status.idle": "2022-07-24T20:58:46.012940Z",
     "shell.execute_reply": "2022-07-24T20:58:46.011966Z"
    },
    "id": "fe007438",
    "papermill": {
     "duration": 0.029853,
     "end_time": "2022-07-24T20:58:46.015425",
     "exception": false,
     "start_time": "2022-07-24T20:58:45.985572",
     "status": "completed"
    },
    "tags": []
   },
   "outputs": [],
   "source": [
    "#Train test split for dataset \n",
    "X_train,X_test,Y_train,Y_test = train_test_split(X,Y,test_size = 0.2)\n",
    "train_data = dataset.CustomDataset(X_train,Y_train)\n",
    "test_data = dataset.CustomDataset(X_test,Y_test)\n"
   ]
  },
  {
   "cell_type": "markdown",
   "id": "a9a1af34",
   "metadata": {
    "id": "a9a1af34",
    "papermill": {
     "duration": 0.007558,
     "end_time": "2022-07-24T20:58:46.031406",
     "exception": false,
     "start_time": "2022-07-24T20:58:46.023848",
     "status": "completed"
    },
    "tags": []
   },
   "source": [
    "## Training Parameters "
   ]
  },
  {
   "cell_type": "code",
   "execution_count": 8,
   "id": "952b7fc8",
   "metadata": {
    "execution": {
     "iopub.execute_input": "2022-07-24T20:58:46.049440Z",
     "iopub.status.busy": "2022-07-24T20:58:46.049041Z",
     "iopub.status.idle": "2022-07-24T20:58:46.054769Z",
     "shell.execute_reply": "2022-07-24T20:58:46.053710Z"
    },
    "id": "952b7fc8",
    "papermill": {
     "duration": 0.018058,
     "end_time": "2022-07-24T20:58:46.057674",
     "exception": false,
     "start_time": "2022-07-24T20:58:46.039616",
     "status": "completed"
    },
    "tags": []
   },
   "outputs": [],
   "source": [
    "batch_size = 32\n",
    "n_epochs = 1000\n",
    "#Select the device \n",
    "device = torch.device('cuda' if torch.cuda.is_available() else 'cpu')"
   ]
  },
  {
   "cell_type": "markdown",
   "id": "a95e1600",
   "metadata": {
    "id": "a95e1600",
    "papermill": {
     "duration": 0.008789,
     "end_time": "2022-07-24T20:58:46.075982",
     "exception": false,
     "start_time": "2022-07-24T20:58:46.067193",
     "status": "completed"
    },
    "tags": []
   },
   "source": [
    "# ABC Pre-generator Model \n",
    "\n",
    "1. The catboost model is used as a pre-generator model for the ABC-GAN. \n",
    "2. The model is first trained on the entire dataset \n",
    "3. It generats X,Y pairs and we add some Gaussian noise with mean 0 and variance 1 to it which is then feed as input to the generator.\n"
   ]
  },
  {
   "cell_type": "code",
   "execution_count": 9,
   "id": "ff8ce7bd",
   "metadata": {
    "execution": {
     "iopub.execute_input": "2022-07-24T20:58:46.096233Z",
     "iopub.status.busy": "2022-07-24T20:58:46.095525Z",
     "iopub.status.idle": "2022-07-24T20:58:46.986979Z",
     "shell.execute_reply": "2022-07-24T20:58:46.986181Z"
    },
    "id": "ff8ce7bd",
    "papermill": {
     "duration": 0.905823,
     "end_time": "2022-07-24T20:58:46.990885",
     "exception": false,
     "start_time": "2022-07-24T20:58:46.085062",
     "status": "completed"
    },
    "tags": []
   },
   "outputs": [
    {
     "name": "stdout",
     "output_type": "stream",
     "text": [
      "Learning rate set to 0.037906\n"
     ]
    },
    {
     "name": "stdout",
     "output_type": "stream",
     "text": [
      "0:\tlearn: 0.9727294\ttotal: 62.3ms\tremaining: 1m 2s\n",
      "1:\tlearn: 0.9403180\ttotal: 63.1ms\tremaining: 31.5s\n",
      "2:\tlearn: 0.9128302\ttotal: 63.5ms\tremaining: 21.1s\n",
      "3:\tlearn: 0.8819337\ttotal: 64.2ms\tremaining: 16s\n",
      "4:\tlearn: 0.8569485\ttotal: 64.7ms\tremaining: 12.9s\n",
      "5:\tlearn: 0.8284132\ttotal: 65.9ms\tremaining: 10.9s\n",
      "6:\tlearn: 0.8057280\ttotal: 66.1ms\tremaining: 9.37s\n",
      "7:\tlearn: 0.7825514\ttotal: 66.3ms\tremaining: 8.22s\n",
      "8:\tlearn: 0.7564106\ttotal: 66.6ms\tremaining: 7.33s\n",
      "9:\tlearn: 0.7327898\ttotal: 66.8ms\tremaining: 6.61s\n",
      "10:\tlearn: 0.7098027\ttotal: 67.1ms\tremaining: 6.03s\n",
      "11:\tlearn: 0.6890992\ttotal: 67.3ms\tremaining: 5.54s\n",
      "12:\tlearn: 0.6673217\ttotal: 68.5ms\tremaining: 5.2s\n",
      "13:\tlearn: 0.6484192\ttotal: 69.5ms\tremaining: 4.89s\n",
      "14:\tlearn: 0.6279472\ttotal: 69.7ms\tremaining: 4.58s\n",
      "15:\tlearn: 0.6094685\ttotal: 70ms\tremaining: 4.3s\n",
      "16:\tlearn: 0.5902098\ttotal: 70.2ms\tremaining: 4.06s\n",
      "17:\tlearn: 0.5730631\ttotal: 71.1ms\tremaining: 3.88s\n",
      "18:\tlearn: 0.5561797\ttotal: 71.5ms\tremaining: 3.69s\n",
      "19:\tlearn: 0.5396056\ttotal: 71.8ms\tremaining: 3.52s\n",
      "20:\tlearn: 0.5240635\ttotal: 72.1ms\tremaining: 3.36s\n",
      "21:\tlearn: 0.5083702\ttotal: 72.7ms\tremaining: 3.23s\n",
      "22:\tlearn: 0.4921372\ttotal: 73.1ms\tremaining: 3.11s\n",
      "23:\tlearn: 0.4764933\ttotal: 73.4ms\tremaining: 2.99s\n",
      "24:\tlearn: 0.4625315\ttotal: 73.8ms\tremaining: 2.88s\n",
      "25:\tlearn: 0.4489026\ttotal: 74.8ms\tremaining: 2.8s\n",
      "26:\tlearn: 0.4364181\ttotal: 75.2ms\tremaining: 2.71s\n",
      "27:\tlearn: 0.4240996\ttotal: 75.5ms\tremaining: 2.62s\n",
      "28:\tlearn: 0.4111399\ttotal: 76ms\tremaining: 2.54s\n",
      "29:\tlearn: 0.4000569\ttotal: 76.4ms\tremaining: 2.47s\n",
      "30:\tlearn: 0.3899299\ttotal: 76.7ms\tremaining: 2.4s\n",
      "31:\tlearn: 0.3784511\ttotal: 77.3ms\tremaining: 2.34s\n",
      "32:\tlearn: 0.3672505\ttotal: 78.6ms\tremaining: 2.3s\n",
      "33:\tlearn: 0.3564595\ttotal: 79.5ms\tremaining: 2.26s\n",
      "34:\tlearn: 0.3461785\ttotal: 80.4ms\tremaining: 2.22s\n",
      "35:\tlearn: 0.3354824\ttotal: 81.5ms\tremaining: 2.18s\n",
      "36:\tlearn: 0.3269111\ttotal: 82ms\tremaining: 2.13s\n",
      "37:\tlearn: 0.3186346\ttotal: 82.7ms\tremaining: 2.09s\n",
      "38:\tlearn: 0.3103258\ttotal: 83.7ms\tremaining: 2.06s\n",
      "39:\tlearn: 0.3017738\ttotal: 84.4ms\tremaining: 2.02s\n",
      "40:\tlearn: 0.2938062\ttotal: 85.1ms\tremaining: 1.99s\n",
      "41:\tlearn: 0.2865892\ttotal: 85.8ms\tremaining: 1.96s\n",
      "42:\tlearn: 0.2790951\ttotal: 86.4ms\tremaining: 1.92s\n",
      "43:\tlearn: 0.2713666\ttotal: 87.1ms\tremaining: 1.89s\n",
      "44:\tlearn: 0.2642320\ttotal: 87.7ms\tremaining: 1.86s\n",
      "45:\tlearn: 0.2598990\ttotal: 88.1ms\tremaining: 1.83s\n",
      "46:\tlearn: 0.2540045\ttotal: 88.6ms\tremaining: 1.79s\n",
      "47:\tlearn: 0.2488758\ttotal: 89.1ms\tremaining: 1.77s\n",
      "48:\tlearn: 0.2433845\ttotal: 89.5ms\tremaining: 1.74s\n",
      "49:\tlearn: 0.2373444\ttotal: 90.1ms\tremaining: 1.71s\n",
      "50:\tlearn: 0.2319412\ttotal: 90.6ms\tremaining: 1.69s\n",
      "51:\tlearn: 0.2269652\ttotal: 91.3ms\tremaining: 1.66s\n",
      "52:\tlearn: 0.2208144\ttotal: 92ms\tremaining: 1.64s\n",
      "53:\tlearn: 0.2156954\ttotal: 92.7ms\tremaining: 1.62s\n",
      "54:\tlearn: 0.2111824\ttotal: 93.4ms\tremaining: 1.6s\n",
      "55:\tlearn: 0.2059611\ttotal: 94ms\tremaining: 1.58s\n",
      "56:\tlearn: 0.2014690\ttotal: 94.6ms\tremaining: 1.56s\n",
      "57:\tlearn: 0.1974182\ttotal: 94.8ms\tremaining: 1.54s\n",
      "58:\tlearn: 0.1930604\ttotal: 95ms\tremaining: 1.51s\n",
      "59:\tlearn: 0.1884313\ttotal: 95.3ms\tremaining: 1.49s\n",
      "60:\tlearn: 0.1836264\ttotal: 95.6ms\tremaining: 1.47s\n",
      "61:\tlearn: 0.1799858\ttotal: 95.8ms\tremaining: 1.45s\n",
      "62:\tlearn: 0.1769369\ttotal: 96ms\tremaining: 1.43s\n",
      "63:\tlearn: 0.1727973\ttotal: 97.6ms\tremaining: 1.43s\n",
      "64:\tlearn: 0.1689027\ttotal: 98.2ms\tremaining: 1.41s\n",
      "65:\tlearn: 0.1655633\ttotal: 98.5ms\tremaining: 1.39s\n",
      "66:\tlearn: 0.1611293\ttotal: 99.1ms\tremaining: 1.38s\n",
      "67:\tlearn: 0.1588154\ttotal: 99.4ms\tremaining: 1.36s\n",
      "68:\tlearn: 0.1549983\ttotal: 99.8ms\tremaining: 1.35s\n",
      "69:\tlearn: 0.1517478\ttotal: 100ms\tremaining: 1.33s\n",
      "70:\tlearn: 0.1479173\ttotal: 101ms\tremaining: 1.32s\n",
      "71:\tlearn: 0.1444348\ttotal: 101ms\tremaining: 1.31s\n",
      "72:\tlearn: 0.1415851\ttotal: 102ms\tremaining: 1.29s\n",
      "73:\tlearn: 0.1384342\ttotal: 102ms\tremaining: 1.28s\n",
      "74:\tlearn: 0.1350715\ttotal: 103ms\tremaining: 1.26s\n",
      "75:\tlearn: 0.1323146\ttotal: 103ms\tremaining: 1.25s\n",
      "76:\tlearn: 0.1298627\ttotal: 104ms\tremaining: 1.24s\n",
      "77:\tlearn: 0.1267131\ttotal: 104ms\tremaining: 1.23s\n",
      "78:\tlearn: 0.1239919\ttotal: 104ms\tremaining: 1.22s\n",
      "79:\tlearn: 0.1212967\ttotal: 105ms\tremaining: 1.2s\n",
      "80:\tlearn: 0.1187758\ttotal: 105ms\tremaining: 1.19s\n",
      "81:\tlearn: 0.1163566\ttotal: 106ms\tremaining: 1.18s\n",
      "82:\tlearn: 0.1137613\ttotal: 106ms\tremaining: 1.17s\n",
      "83:\tlearn: 0.1115341\ttotal: 107ms\tremaining: 1.16s\n",
      "84:\tlearn: 0.1094464\ttotal: 107ms\tremaining: 1.15s\n",
      "85:\tlearn: 0.1075679\ttotal: 108ms\tremaining: 1.14s\n",
      "86:\tlearn: 0.1054019\ttotal: 108ms\tremaining: 1.13s\n",
      "87:\tlearn: 0.1036892\ttotal: 109ms\tremaining: 1.12s\n",
      "88:\tlearn: 0.1017807\ttotal: 109ms\tremaining: 1.12s\n",
      "89:\tlearn: 0.1001597\ttotal: 110ms\tremaining: 1.11s\n",
      "90:\tlearn: 0.0982857\ttotal: 110ms\tremaining: 1.1s\n",
      "91:\tlearn: 0.0965246\ttotal: 111ms\tremaining: 1.09s\n",
      "92:\tlearn: 0.0946271\ttotal: 111ms\tremaining: 1.08s\n",
      "93:\tlearn: 0.0932655\ttotal: 112ms\tremaining: 1.08s\n",
      "94:\tlearn: 0.0918156\ttotal: 112ms\tremaining: 1.07s\n",
      "95:\tlearn: 0.0899791\ttotal: 113ms\tremaining: 1.06s\n",
      "96:\tlearn: 0.0882996\ttotal: 113ms\tremaining: 1.05s\n",
      "97:\tlearn: 0.0873609\ttotal: 114ms\tremaining: 1.05s\n",
      "98:\tlearn: 0.0864130\ttotal: 114ms\tremaining: 1.04s\n",
      "99:\tlearn: 0.0850370\ttotal: 115ms\tremaining: 1.03s\n",
      "100:\tlearn: 0.0839867\ttotal: 116ms\tremaining: 1.03s\n",
      "101:\tlearn: 0.0826752\ttotal: 116ms\tremaining: 1.02s\n",
      "102:\tlearn: 0.0813204\ttotal: 117ms\tremaining: 1.02s\n",
      "103:\tlearn: 0.0801813\ttotal: 117ms\tremaining: 1.01s\n",
      "104:\tlearn: 0.0790697\ttotal: 118ms\tremaining: 1.01s\n",
      "105:\tlearn: 0.0780951\ttotal: 119ms\tremaining: 1s\n",
      "106:\tlearn: 0.0767744\ttotal: 119ms\tremaining: 996ms\n",
      "107:\tlearn: 0.0756946\ttotal: 120ms\tremaining: 991ms\n",
      "108:\tlearn: 0.0748353\ttotal: 121ms\tremaining: 985ms\n",
      "109:\tlearn: 0.0738308\ttotal: 121ms\tremaining: 981ms\n",
      "110:\tlearn: 0.0727040\ttotal: 122ms\tremaining: 976ms\n",
      "111:\tlearn: 0.0718665\ttotal: 123ms\tremaining: 972ms\n",
      "112:\tlearn: 0.0710307\ttotal: 123ms\tremaining: 965ms\n",
      "113:\tlearn: 0.0703266\ttotal: 123ms\tremaining: 958ms\n",
      "114:\tlearn: 0.0697092\ttotal: 123ms\tremaining: 950ms\n",
      "115:\tlearn: 0.0688190\ttotal: 124ms\tremaining: 947ms\n",
      "116:\tlearn: 0.0683357\ttotal: 125ms\tremaining: 942ms\n",
      "117:\tlearn: 0.0675231\ttotal: 125ms\tremaining: 938ms\n",
      "118:\tlearn: 0.0665343\ttotal: 126ms\tremaining: 934ms\n",
      "119:\tlearn: 0.0656048\ttotal: 127ms\tremaining: 931ms\n",
      "120:\tlearn: 0.0646642\ttotal: 128ms\tremaining: 927ms\n",
      "121:\tlearn: 0.0642613\ttotal: 128ms\tremaining: 923ms\n",
      "122:\tlearn: 0.0638227\ttotal: 129ms\tremaining: 919ms\n",
      "123:\tlearn: 0.0632409\ttotal: 130ms\tremaining: 916ms\n",
      "124:\tlearn: 0.0624424\ttotal: 130ms\tremaining: 913ms\n",
      "125:\tlearn: 0.0617973\ttotal: 131ms\tremaining: 909ms\n",
      "126:\tlearn: 0.0614041\ttotal: 132ms\tremaining: 905ms\n",
      "127:\tlearn: 0.0610110\ttotal: 132ms\tremaining: 902ms\n",
      "128:\tlearn: 0.0607404\ttotal: 133ms\tremaining: 897ms\n",
      "129:\tlearn: 0.0601487\ttotal: 133ms\tremaining: 892ms\n",
      "130:\tlearn: 0.0596179\ttotal: 134ms\tremaining: 887ms\n",
      "131:\tlearn: 0.0591684\ttotal: 134ms\tremaining: 882ms\n",
      "132:\tlearn: 0.0586957\ttotal: 135ms\tremaining: 877ms\n",
      "133:\tlearn: 0.0581092\ttotal: 135ms\tremaining: 874ms\n",
      "134:\tlearn: 0.0575991\ttotal: 136ms\tremaining: 870ms\n",
      "135:\tlearn: 0.0572271\ttotal: 136ms\tremaining: 865ms\n",
      "136:\tlearn: 0.0567060\ttotal: 137ms\tremaining: 861ms\n",
      "137:\tlearn: 0.0563535\ttotal: 137ms\tremaining: 857ms\n",
      "138:\tlearn: 0.0560280\ttotal: 138ms\tremaining: 853ms\n",
      "139:\tlearn: 0.0556059\ttotal: 138ms\tremaining: 849ms\n",
      "140:\tlearn: 0.0551176\ttotal: 139ms\tremaining: 846ms\n",
      "141:\tlearn: 0.0548203\ttotal: 139ms\tremaining: 842ms\n",
      "142:\tlearn: 0.0544361\ttotal: 140ms\tremaining: 839ms\n",
      "143:\tlearn: 0.0541431\ttotal: 140ms\tremaining: 834ms\n",
      "144:\tlearn: 0.0538440\ttotal: 141ms\tremaining: 830ms\n",
      "145:\tlearn: 0.0534177\ttotal: 141ms\tremaining: 827ms\n",
      "146:\tlearn: 0.0530232\ttotal: 142ms\tremaining: 823ms\n",
      "147:\tlearn: 0.0526822\ttotal: 142ms\tremaining: 820ms\n",
      "148:\tlearn: 0.0523235\ttotal: 143ms\tremaining: 816ms\n",
      "149:\tlearn: 0.0520516\ttotal: 143ms\tremaining: 812ms\n",
      "150:\tlearn: 0.0517498\ttotal: 144ms\tremaining: 809ms\n",
      "151:\tlearn: 0.0514645\ttotal: 144ms\tremaining: 805ms\n",
      "152:\tlearn: 0.0511720\ttotal: 145ms\tremaining: 802ms\n",
      "153:\tlearn: 0.0508606\ttotal: 145ms\tremaining: 798ms\n",
      "154:\tlearn: 0.0505276\ttotal: 146ms\tremaining: 795ms\n",
      "155:\tlearn: 0.0502681\ttotal: 146ms\tremaining: 792ms\n",
      "156:\tlearn: 0.0500073\ttotal: 147ms\tremaining: 789ms\n",
      "157:\tlearn: 0.0497800\ttotal: 148ms\tremaining: 786ms\n",
      "158:\tlearn: 0.0495191\ttotal: 148ms\tremaining: 783ms\n",
      "159:\tlearn: 0.0493220\ttotal: 149ms\tremaining: 780ms\n",
      "160:\tlearn: 0.0491696\ttotal: 149ms\tremaining: 777ms\n",
      "161:\tlearn: 0.0490000\ttotal: 150ms\tremaining: 774ms\n",
      "162:\tlearn: 0.0487484\ttotal: 150ms\tremaining: 771ms\n",
      "163:\tlearn: 0.0485151\ttotal: 151ms\tremaining: 768ms\n",
      "164:\tlearn: 0.0482973\ttotal: 151ms\tremaining: 766ms\n",
      "165:\tlearn: 0.0481429\ttotal: 152ms\tremaining: 764ms\n"
     ]
    },
    {
     "name": "stdout",
     "output_type": "stream",
     "text": [
      "166:\tlearn: 0.0479608\ttotal: 153ms\tremaining: 761ms\n",
      "167:\tlearn: 0.0477812\ttotal: 154ms\tremaining: 762ms\n",
      "168:\tlearn: 0.0476183\ttotal: 155ms\tremaining: 760ms\n",
      "169:\tlearn: 0.0474045\ttotal: 155ms\tremaining: 757ms\n",
      "170:\tlearn: 0.0472324\ttotal: 156ms\tremaining: 754ms\n",
      "171:\tlearn: 0.0470061\ttotal: 156ms\tremaining: 753ms\n",
      "172:\tlearn: 0.0467471\ttotal: 158ms\tremaining: 758ms\n",
      "173:\tlearn: 0.0465601\ttotal: 159ms\tremaining: 756ms\n",
      "174:\tlearn: 0.0463918\ttotal: 160ms\tremaining: 753ms\n",
      "175:\tlearn: 0.0462461\ttotal: 160ms\tremaining: 751ms\n",
      "176:\tlearn: 0.0460828\ttotal: 161ms\tremaining: 750ms\n",
      "177:\tlearn: 0.0459255\ttotal: 162ms\tremaining: 750ms\n",
      "178:\tlearn: 0.0456871\ttotal: 165ms\tremaining: 755ms\n",
      "179:\tlearn: 0.0454541\ttotal: 165ms\tremaining: 753ms\n",
      "180:\tlearn: 0.0453083\ttotal: 166ms\tremaining: 750ms\n",
      "181:\tlearn: 0.0450899\ttotal: 166ms\tremaining: 748ms\n",
      "182:\tlearn: 0.0447982\ttotal: 167ms\tremaining: 745ms\n",
      "183:\tlearn: 0.0446221\ttotal: 167ms\tremaining: 742ms\n",
      "184:\tlearn: 0.0444504\ttotal: 168ms\tremaining: 740ms\n",
      "185:\tlearn: 0.0443254\ttotal: 168ms\tremaining: 737ms\n",
      "186:\tlearn: 0.0442453\ttotal: 169ms\tremaining: 734ms\n",
      "187:\tlearn: 0.0440283\ttotal: 170ms\tremaining: 732ms\n",
      "188:\tlearn: 0.0438769\ttotal: 170ms\tremaining: 730ms\n",
      "189:\tlearn: 0.0437537\ttotal: 171ms\tremaining: 727ms\n",
      "190:\tlearn: 0.0434840\ttotal: 171ms\tremaining: 725ms\n",
      "191:\tlearn: 0.0433032\ttotal: 172ms\tremaining: 722ms\n",
      "192:\tlearn: 0.0431012\ttotal: 172ms\tremaining: 719ms\n",
      "193:\tlearn: 0.0429805\ttotal: 173ms\tremaining: 717ms\n",
      "194:\tlearn: 0.0428394\ttotal: 173ms\tremaining: 715ms\n",
      "195:\tlearn: 0.0427179\ttotal: 174ms\tremaining: 712ms\n",
      "196:\tlearn: 0.0425983\ttotal: 174ms\tremaining: 710ms\n",
      "197:\tlearn: 0.0424570\ttotal: 175ms\tremaining: 707ms\n",
      "198:\tlearn: 0.0422096\ttotal: 175ms\tremaining: 705ms\n",
      "199:\tlearn: 0.0421272\ttotal: 175ms\tremaining: 702ms\n",
      "200:\tlearn: 0.0419552\ttotal: 176ms\tremaining: 699ms\n",
      "201:\tlearn: 0.0418542\ttotal: 177ms\tremaining: 697ms\n",
      "202:\tlearn: 0.0416266\ttotal: 177ms\tremaining: 695ms\n",
      "203:\tlearn: 0.0415217\ttotal: 178ms\tremaining: 693ms\n",
      "204:\tlearn: 0.0414376\ttotal: 178ms\tremaining: 691ms\n",
      "205:\tlearn: 0.0413478\ttotal: 179ms\tremaining: 688ms\n",
      "206:\tlearn: 0.0412284\ttotal: 179ms\tremaining: 686ms\n",
      "207:\tlearn: 0.0410591\ttotal: 180ms\tremaining: 684ms\n",
      "208:\tlearn: 0.0409534\ttotal: 180ms\tremaining: 682ms\n",
      "209:\tlearn: 0.0407966\ttotal: 181ms\tremaining: 680ms\n",
      "210:\tlearn: 0.0406396\ttotal: 181ms\tremaining: 678ms\n",
      "211:\tlearn: 0.0404973\ttotal: 182ms\tremaining: 676ms\n",
      "212:\tlearn: 0.0404050\ttotal: 182ms\tremaining: 674ms\n",
      "213:\tlearn: 0.0402911\ttotal: 183ms\tremaining: 671ms\n",
      "214:\tlearn: 0.0401693\ttotal: 183ms\tremaining: 668ms\n",
      "215:\tlearn: 0.0400467\ttotal: 183ms\tremaining: 666ms\n",
      "216:\tlearn: 0.0399203\ttotal: 184ms\tremaining: 664ms\n",
      "217:\tlearn: 0.0398141\ttotal: 184ms\tremaining: 661ms\n",
      "218:\tlearn: 0.0396537\ttotal: 185ms\tremaining: 659ms\n",
      "219:\tlearn: 0.0395676\ttotal: 185ms\tremaining: 657ms\n",
      "220:\tlearn: 0.0394544\ttotal: 186ms\tremaining: 655ms\n",
      "221:\tlearn: 0.0393098\ttotal: 186ms\tremaining: 652ms\n",
      "222:\tlearn: 0.0390998\ttotal: 187ms\tremaining: 650ms\n",
      "223:\tlearn: 0.0389962\ttotal: 187ms\tremaining: 648ms\n",
      "224:\tlearn: 0.0388972\ttotal: 188ms\tremaining: 646ms\n",
      "225:\tlearn: 0.0387835\ttotal: 188ms\tremaining: 645ms\n",
      "226:\tlearn: 0.0386591\ttotal: 189ms\tremaining: 644ms\n",
      "227:\tlearn: 0.0385863\ttotal: 190ms\tremaining: 642ms\n",
      "228:\tlearn: 0.0385173\ttotal: 190ms\tremaining: 641ms\n",
      "229:\tlearn: 0.0384342\ttotal: 191ms\tremaining: 640ms\n",
      "230:\tlearn: 0.0383580\ttotal: 192ms\tremaining: 638ms\n",
      "231:\tlearn: 0.0382680\ttotal: 192ms\tremaining: 636ms\n",
      "232:\tlearn: 0.0380898\ttotal: 193ms\tremaining: 634ms\n",
      "233:\tlearn: 0.0379867\ttotal: 193ms\tremaining: 632ms\n",
      "234:\tlearn: 0.0378299\ttotal: 193ms\tremaining: 629ms\n"
     ]
    },
    {
     "name": "stdout",
     "output_type": "stream",
     "text": [
      "235:\tlearn: 0.0377165\ttotal: 194ms\tremaining: 628ms\n",
      "236:\tlearn: 0.0376039\ttotal: 195ms\tremaining: 627ms\n",
      "237:\tlearn: 0.0374712\ttotal: 196ms\tremaining: 626ms\n",
      "238:\tlearn: 0.0374266\ttotal: 196ms\tremaining: 624ms\n",
      "239:\tlearn: 0.0373006\ttotal: 196ms\tremaining: 621ms\n",
      "240:\tlearn: 0.0371421\ttotal: 197ms\tremaining: 620ms\n",
      "241:\tlearn: 0.0369929\ttotal: 197ms\tremaining: 618ms\n",
      "242:\tlearn: 0.0369507\ttotal: 198ms\tremaining: 617ms\n",
      "243:\tlearn: 0.0368583\ttotal: 198ms\tremaining: 615ms\n",
      "244:\tlearn: 0.0368142\ttotal: 199ms\tremaining: 613ms\n",
      "245:\tlearn: 0.0367440\ttotal: 199ms\tremaining: 611ms\n",
      "246:\tlearn: 0.0366429\ttotal: 200ms\tremaining: 610ms\n",
      "247:\tlearn: 0.0365863\ttotal: 201ms\tremaining: 608ms\n",
      "248:\tlearn: 0.0364685\ttotal: 201ms\tremaining: 606ms\n",
      "249:\tlearn: 0.0364153\ttotal: 202ms\tremaining: 605ms\n",
      "250:\tlearn: 0.0362305\ttotal: 202ms\tremaining: 603ms\n",
      "251:\tlearn: 0.0361460\ttotal: 202ms\tremaining: 601ms\n",
      "252:\tlearn: 0.0360712\ttotal: 203ms\tremaining: 599ms\n",
      "253:\tlearn: 0.0358839\ttotal: 203ms\tremaining: 598ms\n",
      "254:\tlearn: 0.0357869\ttotal: 204ms\tremaining: 596ms\n",
      "255:\tlearn: 0.0357378\ttotal: 205ms\tremaining: 594ms\n",
      "256:\tlearn: 0.0356046\ttotal: 205ms\tremaining: 593ms\n",
      "257:\tlearn: 0.0355195\ttotal: 206ms\tremaining: 591ms\n",
      "258:\tlearn: 0.0354217\ttotal: 206ms\tremaining: 590ms\n",
      "259:\tlearn: 0.0353514\ttotal: 207ms\tremaining: 588ms\n",
      "260:\tlearn: 0.0352431\ttotal: 207ms\tremaining: 587ms\n",
      "261:\tlearn: 0.0351906\ttotal: 208ms\tremaining: 585ms\n",
      "262:\tlearn: 0.0350892\ttotal: 208ms\tremaining: 584ms\n",
      "263:\tlearn: 0.0350187\ttotal: 209ms\tremaining: 582ms\n",
      "264:\tlearn: 0.0349378\ttotal: 209ms\tremaining: 581ms\n",
      "265:\tlearn: 0.0348246\ttotal: 210ms\tremaining: 579ms\n",
      "266:\tlearn: 0.0347314\ttotal: 210ms\tremaining: 578ms\n",
      "267:\tlearn: 0.0345619\ttotal: 211ms\tremaining: 576ms\n",
      "268:\tlearn: 0.0344555\ttotal: 211ms\tremaining: 575ms\n",
      "269:\tlearn: 0.0343810\ttotal: 212ms\tremaining: 573ms\n",
      "270:\tlearn: 0.0343379\ttotal: 212ms\tremaining: 572ms\n",
      "271:\tlearn: 0.0342613\ttotal: 213ms\tremaining: 570ms\n",
      "272:\tlearn: 0.0342206\ttotal: 214ms\tremaining: 569ms\n",
      "273:\tlearn: 0.0341365\ttotal: 214ms\tremaining: 567ms\n",
      "274:\tlearn: 0.0340864\ttotal: 214ms\tremaining: 565ms\n",
      "275:\tlearn: 0.0339973\ttotal: 215ms\tremaining: 563ms\n",
      "276:\tlearn: 0.0339278\ttotal: 216ms\tremaining: 564ms\n",
      "277:\tlearn: 0.0338918\ttotal: 217ms\tremaining: 563ms\n",
      "278:\tlearn: 0.0338100\ttotal: 218ms\tremaining: 563ms\n",
      "279:\tlearn: 0.0336517\ttotal: 218ms\tremaining: 561ms\n",
      "280:\tlearn: 0.0336013\ttotal: 219ms\tremaining: 561ms\n",
      "281:\tlearn: 0.0334763\ttotal: 220ms\tremaining: 560ms\n",
      "282:\tlearn: 0.0334450\ttotal: 221ms\tremaining: 561ms\n",
      "283:\tlearn: 0.0333032\ttotal: 222ms\tremaining: 560ms\n",
      "284:\tlearn: 0.0331815\ttotal: 223ms\tremaining: 559ms\n",
      "285:\tlearn: 0.0331022\ttotal: 223ms\tremaining: 558ms\n",
      "286:\tlearn: 0.0330703\ttotal: 224ms\tremaining: 557ms\n",
      "287:\tlearn: 0.0330066\ttotal: 225ms\tremaining: 557ms\n",
      "288:\tlearn: 0.0329071\ttotal: 226ms\tremaining: 557ms\n",
      "289:\tlearn: 0.0327643\ttotal: 227ms\tremaining: 556ms\n",
      "290:\tlearn: 0.0326975\ttotal: 228ms\tremaining: 555ms\n",
      "291:\tlearn: 0.0326504\ttotal: 228ms\tremaining: 553ms\n",
      "292:\tlearn: 0.0325955\ttotal: 228ms\tremaining: 551ms\n",
      "293:\tlearn: 0.0325007\ttotal: 229ms\tremaining: 549ms\n",
      "294:\tlearn: 0.0323954\ttotal: 229ms\tremaining: 547ms\n",
      "295:\tlearn: 0.0323059\ttotal: 229ms\tremaining: 545ms\n",
      "296:\tlearn: 0.0322350\ttotal: 230ms\tremaining: 543ms\n",
      "297:\tlearn: 0.0321631\ttotal: 230ms\tremaining: 541ms\n",
      "298:\tlearn: 0.0320738\ttotal: 231ms\tremaining: 541ms\n",
      "299:\tlearn: 0.0320005\ttotal: 231ms\tremaining: 540ms\n",
      "300:\tlearn: 0.0319353\ttotal: 232ms\tremaining: 539ms\n",
      "301:\tlearn: 0.0318394\ttotal: 232ms\tremaining: 537ms\n",
      "302:\tlearn: 0.0317886\ttotal: 232ms\tremaining: 535ms\n",
      "303:\tlearn: 0.0317504\ttotal: 233ms\tremaining: 533ms\n",
      "304:\tlearn: 0.0316940\ttotal: 233ms\tremaining: 532ms\n",
      "305:\tlearn: 0.0315693\ttotal: 234ms\tremaining: 530ms\n",
      "306:\tlearn: 0.0314853\ttotal: 234ms\tremaining: 528ms\n",
      "307:\tlearn: 0.0314330\ttotal: 235ms\tremaining: 527ms\n",
      "308:\tlearn: 0.0313398\ttotal: 235ms\tremaining: 526ms\n",
      "309:\tlearn: 0.0312654\ttotal: 235ms\tremaining: 524ms\n",
      "310:\tlearn: 0.0311858\ttotal: 236ms\tremaining: 523ms\n",
      "311:\tlearn: 0.0311505\ttotal: 236ms\tremaining: 521ms\n",
      "312:\tlearn: 0.0310913\ttotal: 237ms\tremaining: 520ms\n",
      "313:\tlearn: 0.0310126\ttotal: 237ms\tremaining: 519ms\n",
      "314:\tlearn: 0.0309146\ttotal: 238ms\tremaining: 517ms\n",
      "315:\tlearn: 0.0308817\ttotal: 238ms\tremaining: 515ms\n",
      "316:\tlearn: 0.0308297\ttotal: 238ms\tremaining: 513ms\n",
      "317:\tlearn: 0.0307408\ttotal: 238ms\tremaining: 511ms\n",
      "318:\tlearn: 0.0306662\ttotal: 248ms\tremaining: 528ms\n",
      "319:\tlearn: 0.0305905\ttotal: 249ms\tremaining: 529ms\n",
      "320:\tlearn: 0.0305451\ttotal: 249ms\tremaining: 527ms\n",
      "321:\tlearn: 0.0304749\ttotal: 250ms\tremaining: 527ms\n",
      "322:\tlearn: 0.0304314\ttotal: 251ms\tremaining: 526ms\n",
      "323:\tlearn: 0.0304072\ttotal: 252ms\tremaining: 526ms\n",
      "324:\tlearn: 0.0303414\ttotal: 253ms\tremaining: 525ms\n",
      "325:\tlearn: 0.0302321\ttotal: 254ms\tremaining: 525ms\n",
      "326:\tlearn: 0.0301501\ttotal: 254ms\tremaining: 523ms\n",
      "327:\tlearn: 0.0301040\ttotal: 255ms\tremaining: 522ms\n",
      "328:\tlearn: 0.0300369\ttotal: 255ms\tremaining: 521ms\n",
      "329:\tlearn: 0.0299676\ttotal: 256ms\tremaining: 520ms\n",
      "330:\tlearn: 0.0299222\ttotal: 257ms\tremaining: 520ms\n",
      "331:\tlearn: 0.0298594\ttotal: 258ms\tremaining: 519ms\n",
      "332:\tlearn: 0.0298305\ttotal: 258ms\tremaining: 517ms\n",
      "333:\tlearn: 0.0297445\ttotal: 258ms\tremaining: 515ms\n",
      "334:\tlearn: 0.0296763\ttotal: 259ms\tremaining: 513ms\n",
      "335:\tlearn: 0.0295832\ttotal: 259ms\tremaining: 512ms\n",
      "336:\tlearn: 0.0295430\ttotal: 264ms\tremaining: 520ms\n",
      "337:\tlearn: 0.0294606\ttotal: 265ms\tremaining: 519ms\n",
      "338:\tlearn: 0.0293640\ttotal: 265ms\tremaining: 518ms\n",
      "339:\tlearn: 0.0292732\ttotal: 266ms\tremaining: 517ms\n",
      "340:\tlearn: 0.0291886\ttotal: 267ms\tremaining: 516ms\n",
      "341:\tlearn: 0.0291285\ttotal: 268ms\tremaining: 515ms\n",
      "342:\tlearn: 0.0290925\ttotal: 269ms\tremaining: 515ms\n",
      "343:\tlearn: 0.0289957\ttotal: 270ms\tremaining: 514ms\n",
      "344:\tlearn: 0.0289178\ttotal: 270ms\tremaining: 513ms\n",
      "345:\tlearn: 0.0288809\ttotal: 270ms\tremaining: 511ms\n",
      "346:\tlearn: 0.0287978\ttotal: 271ms\tremaining: 509ms\n",
      "347:\tlearn: 0.0287376\ttotal: 271ms\tremaining: 509ms\n",
      "348:\tlearn: 0.0287044\ttotal: 272ms\tremaining: 507ms\n",
      "349:\tlearn: 0.0286640\ttotal: 272ms\tremaining: 506ms\n",
      "350:\tlearn: 0.0285751\ttotal: 273ms\tremaining: 504ms\n",
      "351:\tlearn: 0.0285182\ttotal: 273ms\tremaining: 503ms\n",
      "352:\tlearn: 0.0284883\ttotal: 273ms\tremaining: 501ms\n",
      "353:\tlearn: 0.0284209\ttotal: 274ms\tremaining: 499ms\n",
      "354:\tlearn: 0.0283539\ttotal: 274ms\tremaining: 498ms\n",
      "355:\tlearn: 0.0282888\ttotal: 274ms\tremaining: 496ms\n",
      "356:\tlearn: 0.0282516\ttotal: 275ms\tremaining: 494ms\n",
      "357:\tlearn: 0.0281986\ttotal: 275ms\tremaining: 493ms\n",
      "358:\tlearn: 0.0281267\ttotal: 276ms\tremaining: 492ms\n",
      "359:\tlearn: 0.0280661\ttotal: 276ms\tremaining: 491ms\n",
      "360:\tlearn: 0.0279941\ttotal: 276ms\tremaining: 489ms\n",
      "361:\tlearn: 0.0279726\ttotal: 277ms\tremaining: 488ms\n",
      "362:\tlearn: 0.0279401\ttotal: 277ms\tremaining: 487ms\n",
      "363:\tlearn: 0.0279034\ttotal: 278ms\tremaining: 485ms\n",
      "364:\tlearn: 0.0278014\ttotal: 278ms\tremaining: 484ms\n",
      "365:\tlearn: 0.0277387\ttotal: 279ms\tremaining: 483ms\n",
      "366:\tlearn: 0.0277043\ttotal: 279ms\tremaining: 481ms\n",
      "367:\tlearn: 0.0276075\ttotal: 279ms\tremaining: 479ms\n",
      "368:\tlearn: 0.0275520\ttotal: 280ms\tremaining: 478ms\n",
      "369:\tlearn: 0.0275321\ttotal: 280ms\tremaining: 477ms\n",
      "370:\tlearn: 0.0274969\ttotal: 280ms\tremaining: 475ms\n",
      "371:\tlearn: 0.0274409\ttotal: 281ms\tremaining: 474ms\n",
      "372:\tlearn: 0.0273770\ttotal: 281ms\tremaining: 472ms\n",
      "373:\tlearn: 0.0273462\ttotal: 281ms\tremaining: 471ms\n",
      "374:\tlearn: 0.0273120\ttotal: 282ms\tremaining: 470ms\n",
      "375:\tlearn: 0.0272761\ttotal: 282ms\tremaining: 468ms\n",
      "376:\tlearn: 0.0272469\ttotal: 282ms\tremaining: 467ms\n",
      "377:\tlearn: 0.0271919\ttotal: 283ms\tremaining: 465ms\n",
      "378:\tlearn: 0.0271475\ttotal: 283ms\tremaining: 464ms\n",
      "379:\tlearn: 0.0271208\ttotal: 283ms\tremaining: 462ms\n",
      "380:\tlearn: 0.0270866\ttotal: 284ms\tremaining: 461ms\n",
      "381:\tlearn: 0.0270578\ttotal: 284ms\tremaining: 460ms\n",
      "382:\tlearn: 0.0270118\ttotal: 285ms\tremaining: 458ms\n",
      "383:\tlearn: 0.0269874\ttotal: 285ms\tremaining: 457ms\n",
      "384:\tlearn: 0.0269333\ttotal: 285ms\tremaining: 456ms\n",
      "385:\tlearn: 0.0268535\ttotal: 286ms\tremaining: 455ms\n",
      "386:\tlearn: 0.0267702\ttotal: 286ms\tremaining: 453ms\n",
      "387:\tlearn: 0.0267392\ttotal: 287ms\tremaining: 453ms\n",
      "388:\tlearn: 0.0267054\ttotal: 288ms\tremaining: 452ms\n",
      "389:\tlearn: 0.0266443\ttotal: 288ms\tremaining: 451ms\n",
      "390:\tlearn: 0.0266277\ttotal: 289ms\tremaining: 450ms\n",
      "391:\tlearn: 0.0265697\ttotal: 289ms\tremaining: 449ms\n",
      "392:\tlearn: 0.0265125\ttotal: 290ms\tremaining: 448ms\n",
      "393:\tlearn: 0.0264738\ttotal: 290ms\tremaining: 446ms\n",
      "394:\tlearn: 0.0264292\ttotal: 291ms\tremaining: 445ms\n",
      "395:\tlearn: 0.0263801\ttotal: 291ms\tremaining: 444ms\n",
      "396:\tlearn: 0.0263503\ttotal: 292ms\tremaining: 443ms\n"
     ]
    },
    {
     "name": "stdout",
     "output_type": "stream",
     "text": [
      "397:\tlearn: 0.0263297\ttotal: 292ms\tremaining: 442ms\n",
      "398:\tlearn: 0.0262552\ttotal: 293ms\tremaining: 441ms\n",
      "399:\tlearn: 0.0262304\ttotal: 293ms\tremaining: 440ms\n",
      "400:\tlearn: 0.0261813\ttotal: 294ms\tremaining: 440ms\n",
      "401:\tlearn: 0.0261398\ttotal: 295ms\tremaining: 439ms\n",
      "402:\tlearn: 0.0260911\ttotal: 295ms\tremaining: 438ms\n",
      "403:\tlearn: 0.0260700\ttotal: 296ms\tremaining: 436ms\n",
      "404:\tlearn: 0.0260251\ttotal: 296ms\tremaining: 435ms\n",
      "405:\tlearn: 0.0259604\ttotal: 297ms\tremaining: 434ms\n",
      "406:\tlearn: 0.0259390\ttotal: 298ms\tremaining: 434ms\n",
      "407:\tlearn: 0.0259047\ttotal: 298ms\tremaining: 432ms\n",
      "408:\tlearn: 0.0258551\ttotal: 299ms\tremaining: 432ms\n",
      "409:\tlearn: 0.0258332\ttotal: 299ms\tremaining: 430ms\n",
      "410:\tlearn: 0.0258105\ttotal: 300ms\tremaining: 429ms\n",
      "411:\tlearn: 0.0257738\ttotal: 300ms\tremaining: 428ms\n",
      "412:\tlearn: 0.0257587\ttotal: 301ms\tremaining: 427ms\n",
      "413:\tlearn: 0.0257211\ttotal: 301ms\tremaining: 426ms\n",
      "414:\tlearn: 0.0257074\ttotal: 301ms\tremaining: 424ms\n",
      "415:\tlearn: 0.0256447\ttotal: 301ms\tremaining: 423ms\n",
      "416:\tlearn: 0.0255932\ttotal: 302ms\tremaining: 422ms\n",
      "417:\tlearn: 0.0255554\ttotal: 302ms\tremaining: 421ms\n",
      "418:\tlearn: 0.0255118\ttotal: 303ms\tremaining: 420ms\n",
      "419:\tlearn: 0.0254754\ttotal: 303ms\tremaining: 418ms\n",
      "420:\tlearn: 0.0254467\ttotal: 303ms\tremaining: 417ms\n",
      "421:\tlearn: 0.0254247\ttotal: 304ms\tremaining: 416ms\n",
      "422:\tlearn: 0.0254104\ttotal: 304ms\tremaining: 415ms\n",
      "423:\tlearn: 0.0253847\ttotal: 304ms\tremaining: 413ms\n",
      "424:\tlearn: 0.0253505\ttotal: 304ms\tremaining: 412ms\n",
      "425:\tlearn: 0.0253372\ttotal: 305ms\tremaining: 411ms\n",
      "426:\tlearn: 0.0252808\ttotal: 305ms\tremaining: 409ms\n",
      "427:\tlearn: 0.0252535\ttotal: 305ms\tremaining: 408ms\n",
      "428:\tlearn: 0.0252212\ttotal: 306ms\tremaining: 407ms\n",
      "429:\tlearn: 0.0252035\ttotal: 306ms\tremaining: 406ms\n",
      "430:\tlearn: 0.0251912\ttotal: 306ms\tremaining: 405ms\n",
      "431:\tlearn: 0.0251476\ttotal: 307ms\tremaining: 403ms\n",
      "432:\tlearn: 0.0250680\ttotal: 307ms\tremaining: 402ms\n",
      "433:\tlearn: 0.0250081\ttotal: 307ms\tremaining: 401ms\n",
      "434:\tlearn: 0.0249698\ttotal: 308ms\tremaining: 400ms\n",
      "435:\tlearn: 0.0249217\ttotal: 308ms\tremaining: 398ms\n",
      "436:\tlearn: 0.0248936\ttotal: 308ms\tremaining: 397ms\n",
      "437:\tlearn: 0.0248551\ttotal: 309ms\tremaining: 397ms\n",
      "438:\tlearn: 0.0248249\ttotal: 310ms\tremaining: 396ms\n",
      "439:\tlearn: 0.0248022\ttotal: 310ms\tremaining: 395ms\n",
      "440:\tlearn: 0.0247750\ttotal: 310ms\tremaining: 394ms\n",
      "441:\tlearn: 0.0247452\ttotal: 311ms\tremaining: 392ms\n",
      "442:\tlearn: 0.0247228\ttotal: 311ms\tremaining: 391ms\n",
      "443:\tlearn: 0.0247045\ttotal: 312ms\tremaining: 390ms\n",
      "444:\tlearn: 0.0246842\ttotal: 312ms\tremaining: 389ms\n",
      "445:\tlearn: 0.0246548\ttotal: 312ms\tremaining: 388ms\n",
      "446:\tlearn: 0.0246220\ttotal: 313ms\tremaining: 387ms\n",
      "447:\tlearn: 0.0245716\ttotal: 313ms\tremaining: 386ms\n",
      "448:\tlearn: 0.0245557\ttotal: 313ms\tremaining: 384ms\n",
      "449:\tlearn: 0.0245312\ttotal: 314ms\tremaining: 383ms\n",
      "450:\tlearn: 0.0245126\ttotal: 314ms\tremaining: 382ms\n",
      "451:\tlearn: 0.0244662\ttotal: 314ms\tremaining: 381ms\n",
      "452:\tlearn: 0.0244518\ttotal: 314ms\tremaining: 380ms\n",
      "453:\tlearn: 0.0243985\ttotal: 315ms\tremaining: 379ms\n",
      "454:\tlearn: 0.0243864\ttotal: 315ms\tremaining: 377ms\n",
      "455:\tlearn: 0.0243116\ttotal: 315ms\tremaining: 376ms\n",
      "456:\tlearn: 0.0242971\ttotal: 316ms\tremaining: 375ms\n",
      "457:\tlearn: 0.0242792\ttotal: 316ms\tremaining: 374ms\n",
      "458:\tlearn: 0.0242378\ttotal: 316ms\tremaining: 373ms\n",
      "459:\tlearn: 0.0242153\ttotal: 317ms\tremaining: 372ms\n",
      "460:\tlearn: 0.0241738\ttotal: 317ms\tremaining: 371ms\n",
      "461:\tlearn: 0.0241594\ttotal: 317ms\tremaining: 369ms\n",
      "462:\tlearn: 0.0241126\ttotal: 318ms\tremaining: 369ms\n",
      "463:\tlearn: 0.0240429\ttotal: 325ms\tremaining: 375ms\n",
      "464:\tlearn: 0.0239914\ttotal: 325ms\tremaining: 374ms\n",
      "465:\tlearn: 0.0239656\ttotal: 326ms\tremaining: 373ms\n",
      "466:\tlearn: 0.0239433\ttotal: 326ms\tremaining: 372ms\n",
      "467:\tlearn: 0.0239050\ttotal: 327ms\tremaining: 371ms\n",
      "468:\tlearn: 0.0238689\ttotal: 327ms\tremaining: 370ms\n",
      "469:\tlearn: 0.0238230\ttotal: 327ms\tremaining: 369ms\n",
      "470:\tlearn: 0.0238023\ttotal: 328ms\tremaining: 368ms\n",
      "471:\tlearn: 0.0237487\ttotal: 328ms\tremaining: 367ms\n",
      "472:\tlearn: 0.0237266\ttotal: 329ms\tremaining: 366ms\n",
      "473:\tlearn: 0.0237078\ttotal: 329ms\tremaining: 365ms\n",
      "474:\tlearn: 0.0236975\ttotal: 330ms\tremaining: 364ms\n",
      "475:\tlearn: 0.0236762\ttotal: 333ms\tremaining: 366ms\n",
      "476:\tlearn: 0.0236665\ttotal: 333ms\tremaining: 365ms\n",
      "477:\tlearn: 0.0236510\ttotal: 334ms\tremaining: 364ms\n",
      "478:\tlearn: 0.0236135\ttotal: 334ms\tremaining: 363ms\n",
      "479:\tlearn: 0.0235477\ttotal: 335ms\tremaining: 362ms\n",
      "480:\tlearn: 0.0235101\ttotal: 335ms\tremaining: 361ms\n",
      "481:\tlearn: 0.0234902\ttotal: 335ms\tremaining: 360ms\n"
     ]
    },
    {
     "name": "stdout",
     "output_type": "stream",
     "text": [
      "482:\tlearn: 0.0234738\ttotal: 336ms\tremaining: 360ms\n",
      "483:\tlearn: 0.0234392\ttotal: 336ms\tremaining: 359ms\n",
      "484:\tlearn: 0.0234163\ttotal: 339ms\tremaining: 360ms\n",
      "485:\tlearn: 0.0233929\ttotal: 339ms\tremaining: 359ms\n",
      "486:\tlearn: 0.0233504\ttotal: 340ms\tremaining: 358ms\n",
      "487:\tlearn: 0.0233301\ttotal: 340ms\tremaining: 357ms\n",
      "488:\tlearn: 0.0233103\ttotal: 340ms\tremaining: 355ms\n",
      "489:\tlearn: 0.0232987\ttotal: 340ms\tremaining: 354ms\n",
      "490:\tlearn: 0.0232809\ttotal: 342ms\tremaining: 354ms\n",
      "491:\tlearn: 0.0232621\ttotal: 342ms\tremaining: 353ms\n",
      "492:\tlearn: 0.0232517\ttotal: 342ms\tremaining: 352ms\n",
      "493:\tlearn: 0.0232077\ttotal: 342ms\tremaining: 351ms\n",
      "494:\tlearn: 0.0231717\ttotal: 343ms\tremaining: 350ms\n",
      "495:\tlearn: 0.0231574\ttotal: 343ms\tremaining: 349ms\n",
      "496:\tlearn: 0.0231460\ttotal: 343ms\tremaining: 347ms\n",
      "497:\tlearn: 0.0231297\ttotal: 344ms\tremaining: 346ms\n",
      "498:\tlearn: 0.0230857\ttotal: 344ms\tremaining: 345ms\n",
      "499:\tlearn: 0.0230677\ttotal: 344ms\tremaining: 344ms\n",
      "500:\tlearn: 0.0230260\ttotal: 344ms\tremaining: 343ms\n",
      "501:\tlearn: 0.0230152\ttotal: 345ms\tremaining: 342ms\n",
      "502:\tlearn: 0.0229971\ttotal: 345ms\tremaining: 341ms\n",
      "503:\tlearn: 0.0229298\ttotal: 345ms\tremaining: 340ms\n",
      "504:\tlearn: 0.0228785\ttotal: 345ms\tremaining: 339ms\n",
      "505:\tlearn: 0.0228617\ttotal: 346ms\tremaining: 338ms\n",
      "506:\tlearn: 0.0228382\ttotal: 347ms\tremaining: 337ms\n",
      "507:\tlearn: 0.0227759\ttotal: 347ms\tremaining: 336ms\n",
      "508:\tlearn: 0.0227670\ttotal: 347ms\tremaining: 335ms\n",
      "509:\tlearn: 0.0227572\ttotal: 347ms\tremaining: 334ms\n",
      "510:\tlearn: 0.0227431\ttotal: 348ms\tremaining: 333ms\n",
      "511:\tlearn: 0.0226839\ttotal: 348ms\tremaining: 332ms\n",
      "512:\tlearn: 0.0226672\ttotal: 348ms\tremaining: 331ms\n",
      "513:\tlearn: 0.0226254\ttotal: 349ms\tremaining: 330ms\n",
      "514:\tlearn: 0.0226073\ttotal: 349ms\tremaining: 329ms\n",
      "515:\tlearn: 0.0225508\ttotal: 349ms\tremaining: 328ms\n",
      "516:\tlearn: 0.0225162\ttotal: 349ms\tremaining: 327ms\n",
      "517:\tlearn: 0.0224973\ttotal: 350ms\tremaining: 325ms\n",
      "518:\tlearn: 0.0224844\ttotal: 350ms\tremaining: 324ms\n",
      "519:\tlearn: 0.0224446\ttotal: 350ms\tremaining: 323ms\n",
      "520:\tlearn: 0.0224206\ttotal: 351ms\tremaining: 322ms\n",
      "521:\tlearn: 0.0223879\ttotal: 351ms\tremaining: 321ms\n",
      "522:\tlearn: 0.0223717\ttotal: 351ms\tremaining: 320ms\n",
      "523:\tlearn: 0.0223401\ttotal: 351ms\tremaining: 319ms\n",
      "524:\tlearn: 0.0223139\ttotal: 352ms\tremaining: 318ms\n",
      "525:\tlearn: 0.0222743\ttotal: 353ms\tremaining: 318ms\n",
      "526:\tlearn: 0.0222613\ttotal: 353ms\tremaining: 317ms\n",
      "527:\tlearn: 0.0222387\ttotal: 354ms\tremaining: 316ms\n",
      "528:\tlearn: 0.0222225\ttotal: 354ms\tremaining: 315ms\n",
      "529:\tlearn: 0.0221908\ttotal: 354ms\tremaining: 314ms\n",
      "530:\tlearn: 0.0221818\ttotal: 355ms\tremaining: 313ms\n",
      "531:\tlearn: 0.0221636\ttotal: 355ms\tremaining: 313ms\n",
      "532:\tlearn: 0.0221094\ttotal: 356ms\tremaining: 312ms\n",
      "533:\tlearn: 0.0220989\ttotal: 356ms\tremaining: 311ms\n",
      "534:\tlearn: 0.0220811\ttotal: 357ms\tremaining: 310ms\n",
      "535:\tlearn: 0.0220646\ttotal: 357ms\tremaining: 309ms\n",
      "536:\tlearn: 0.0220450\ttotal: 358ms\tremaining: 308ms\n",
      "537:\tlearn: 0.0220286\ttotal: 358ms\tremaining: 308ms\n",
      "538:\tlearn: 0.0220123\ttotal: 359ms\tremaining: 307ms\n",
      "539:\tlearn: 0.0219954\ttotal: 359ms\tremaining: 306ms\n",
      "540:\tlearn: 0.0219807\ttotal: 360ms\tremaining: 305ms\n",
      "541:\tlearn: 0.0219654\ttotal: 361ms\tremaining: 305ms\n",
      "542:\tlearn: 0.0219501\ttotal: 361ms\tremaining: 304ms\n",
      "543:\tlearn: 0.0219301\ttotal: 362ms\tremaining: 303ms\n",
      "544:\tlearn: 0.0219157\ttotal: 362ms\tremaining: 302ms\n",
      "545:\tlearn: 0.0218758\ttotal: 363ms\tremaining: 301ms\n",
      "546:\tlearn: 0.0218610\ttotal: 363ms\tremaining: 300ms\n",
      "547:\tlearn: 0.0218467\ttotal: 363ms\tremaining: 299ms\n",
      "548:\tlearn: 0.0218330\ttotal: 363ms\tremaining: 298ms\n",
      "549:\tlearn: 0.0218214\ttotal: 364ms\tremaining: 297ms\n",
      "550:\tlearn: 0.0217844\ttotal: 364ms\tremaining: 297ms\n",
      "551:\tlearn: 0.0217783\ttotal: 364ms\tremaining: 296ms\n",
      "552:\tlearn: 0.0217261\ttotal: 364ms\tremaining: 295ms\n",
      "553:\tlearn: 0.0216870\ttotal: 365ms\tremaining: 294ms\n",
      "554:\tlearn: 0.0216715\ttotal: 365ms\tremaining: 293ms\n",
      "555:\tlearn: 0.0216607\ttotal: 365ms\tremaining: 292ms\n",
      "556:\tlearn: 0.0216475\ttotal: 366ms\tremaining: 291ms\n",
      "557:\tlearn: 0.0216310\ttotal: 366ms\tremaining: 290ms\n",
      "558:\tlearn: 0.0216023\ttotal: 366ms\tremaining: 289ms\n",
      "559:\tlearn: 0.0215857\ttotal: 366ms\tremaining: 288ms\n",
      "560:\tlearn: 0.0215511\ttotal: 367ms\tremaining: 287ms\n",
      "561:\tlearn: 0.0215382\ttotal: 367ms\tremaining: 286ms\n",
      "562:\tlearn: 0.0214938\ttotal: 367ms\tremaining: 285ms\n",
      "563:\tlearn: 0.0214740\ttotal: 367ms\tremaining: 284ms\n",
      "564:\tlearn: 0.0214638\ttotal: 368ms\tremaining: 283ms\n",
      "565:\tlearn: 0.0214500\ttotal: 368ms\tremaining: 282ms\n",
      "566:\tlearn: 0.0214135\ttotal: 368ms\tremaining: 281ms\n",
      "567:\tlearn: 0.0213641\ttotal: 369ms\tremaining: 280ms\n",
      "568:\tlearn: 0.0213280\ttotal: 369ms\tremaining: 279ms\n",
      "569:\tlearn: 0.0213196\ttotal: 369ms\tremaining: 278ms\n",
      "570:\tlearn: 0.0213118\ttotal: 370ms\tremaining: 278ms\n",
      "571:\tlearn: 0.0212640\ttotal: 370ms\tremaining: 277ms\n",
      "572:\tlearn: 0.0212486\ttotal: 370ms\tremaining: 276ms\n",
      "573:\tlearn: 0.0211868\ttotal: 371ms\tremaining: 275ms\n",
      "574:\tlearn: 0.0211728\ttotal: 371ms\tremaining: 274ms\n",
      "575:\tlearn: 0.0211585\ttotal: 371ms\tremaining: 273ms\n",
      "576:\tlearn: 0.0211331\ttotal: 371ms\tremaining: 272ms\n",
      "577:\tlearn: 0.0211250\ttotal: 372ms\tremaining: 271ms\n",
      "578:\tlearn: 0.0210821\ttotal: 372ms\tremaining: 270ms\n",
      "579:\tlearn: 0.0210502\ttotal: 372ms\tremaining: 270ms\n",
      "580:\tlearn: 0.0210458\ttotal: 372ms\tremaining: 269ms\n",
      "581:\tlearn: 0.0210332\ttotal: 373ms\tremaining: 268ms\n",
      "582:\tlearn: 0.0209998\ttotal: 373ms\tremaining: 267ms\n",
      "583:\tlearn: 0.0209863\ttotal: 373ms\tremaining: 266ms\n",
      "584:\tlearn: 0.0209691\ttotal: 374ms\tremaining: 265ms\n",
      "585:\tlearn: 0.0209346\ttotal: 374ms\tremaining: 264ms\n",
      "586:\tlearn: 0.0208981\ttotal: 374ms\tremaining: 263ms\n",
      "587:\tlearn: 0.0208802\ttotal: 374ms\tremaining: 262ms\n",
      "588:\tlearn: 0.0208672\ttotal: 375ms\tremaining: 261ms\n",
      "589:\tlearn: 0.0208520\ttotal: 375ms\tremaining: 260ms\n",
      "590:\tlearn: 0.0208324\ttotal: 375ms\tremaining: 260ms\n",
      "591:\tlearn: 0.0208230\ttotal: 375ms\tremaining: 259ms\n",
      "592:\tlearn: 0.0208110\ttotal: 376ms\tremaining: 258ms\n",
      "593:\tlearn: 0.0207786\ttotal: 376ms\tremaining: 257ms\n",
      "594:\tlearn: 0.0207364\ttotal: 376ms\tremaining: 256ms\n",
      "595:\tlearn: 0.0207323\ttotal: 381ms\tremaining: 259ms\n",
      "596:\tlearn: 0.0207206\ttotal: 382ms\tremaining: 258ms\n",
      "597:\tlearn: 0.0206875\ttotal: 382ms\tremaining: 257ms\n",
      "598:\tlearn: 0.0206826\ttotal: 383ms\tremaining: 257ms\n",
      "599:\tlearn: 0.0206365\ttotal: 384ms\tremaining: 256ms\n",
      "600:\tlearn: 0.0206138\ttotal: 384ms\tremaining: 255ms\n",
      "601:\tlearn: 0.0206000\ttotal: 385ms\tremaining: 254ms\n",
      "602:\tlearn: 0.0205781\ttotal: 385ms\tremaining: 254ms\n",
      "603:\tlearn: 0.0205600\ttotal: 386ms\tremaining: 253ms\n",
      "604:\tlearn: 0.0205311\ttotal: 386ms\tremaining: 252ms\n",
      "605:\tlearn: 0.0205145\ttotal: 387ms\tremaining: 251ms\n",
      "606:\tlearn: 0.0204761\ttotal: 387ms\tremaining: 251ms\n",
      "607:\tlearn: 0.0204322\ttotal: 387ms\tremaining: 250ms\n",
      "608:\tlearn: 0.0203903\ttotal: 394ms\tremaining: 253ms\n",
      "609:\tlearn: 0.0203504\ttotal: 395ms\tremaining: 252ms\n",
      "610:\tlearn: 0.0203372\ttotal: 395ms\tremaining: 252ms\n",
      "611:\tlearn: 0.0203125\ttotal: 395ms\tremaining: 251ms\n",
      "612:\tlearn: 0.0202748\ttotal: 396ms\tremaining: 250ms\n",
      "613:\tlearn: 0.0202585\ttotal: 396ms\tremaining: 249ms\n",
      "614:\tlearn: 0.0202459\ttotal: 396ms\tremaining: 248ms\n",
      "615:\tlearn: 0.0202209\ttotal: 397ms\tremaining: 247ms\n",
      "616:\tlearn: 0.0202000\ttotal: 397ms\tremaining: 246ms\n",
      "617:\tlearn: 0.0201886\ttotal: 397ms\tremaining: 246ms\n",
      "618:\tlearn: 0.0201522\ttotal: 398ms\tremaining: 245ms\n",
      "619:\tlearn: 0.0201370\ttotal: 398ms\tremaining: 244ms\n",
      "620:\tlearn: 0.0201256\ttotal: 398ms\tremaining: 243ms\n",
      "621:\tlearn: 0.0201146\ttotal: 398ms\tremaining: 242ms\n",
      "622:\tlearn: 0.0200859\ttotal: 399ms\tremaining: 241ms\n",
      "623:\tlearn: 0.0200753\ttotal: 399ms\tremaining: 240ms\n",
      "624:\tlearn: 0.0200455\ttotal: 400ms\tremaining: 240ms\n",
      "625:\tlearn: 0.0200339\ttotal: 400ms\tremaining: 239ms\n",
      "626:\tlearn: 0.0200220\ttotal: 400ms\tremaining: 238ms\n",
      "627:\tlearn: 0.0200089\ttotal: 401ms\tremaining: 237ms\n",
      "628:\tlearn: 0.0199980\ttotal: 401ms\tremaining: 236ms\n",
      "629:\tlearn: 0.0199812\ttotal: 401ms\tremaining: 236ms\n",
      "630:\tlearn: 0.0199684\ttotal: 401ms\tremaining: 235ms\n",
      "631:\tlearn: 0.0199298\ttotal: 402ms\tremaining: 234ms\n",
      "632:\tlearn: 0.0199208\ttotal: 402ms\tremaining: 233ms\n",
      "633:\tlearn: 0.0199107\ttotal: 402ms\tremaining: 232ms\n",
      "634:\tlearn: 0.0198990\ttotal: 402ms\tremaining: 231ms\n",
      "635:\tlearn: 0.0198645\ttotal: 403ms\tremaining: 231ms\n",
      "636:\tlearn: 0.0198531\ttotal: 404ms\tremaining: 230ms\n",
      "637:\tlearn: 0.0198339\ttotal: 404ms\tremaining: 229ms\n",
      "638:\tlearn: 0.0198234\ttotal: 404ms\tremaining: 228ms\n",
      "639:\tlearn: 0.0198108\ttotal: 405ms\tremaining: 228ms\n",
      "640:\tlearn: 0.0197971\ttotal: 405ms\tremaining: 227ms\n",
      "641:\tlearn: 0.0197644\ttotal: 405ms\tremaining: 226ms\n",
      "642:\tlearn: 0.0197547\ttotal: 405ms\tremaining: 225ms\n",
      "643:\tlearn: 0.0197301\ttotal: 406ms\tremaining: 224ms\n",
      "644:\tlearn: 0.0196930\ttotal: 407ms\tremaining: 224ms\n",
      "645:\tlearn: 0.0196800\ttotal: 407ms\tremaining: 223ms\n",
      "646:\tlearn: 0.0196589\ttotal: 407ms\tremaining: 222ms\n",
      "647:\tlearn: 0.0196480\ttotal: 407ms\tremaining: 221ms\n",
      "648:\tlearn: 0.0196328\ttotal: 408ms\tremaining: 220ms\n",
      "649:\tlearn: 0.0196163\ttotal: 408ms\tremaining: 220ms\n",
      "650:\tlearn: 0.0196001\ttotal: 408ms\tremaining: 219ms\n",
      "651:\tlearn: 0.0195839\ttotal: 408ms\tremaining: 218ms\n",
      "652:\tlearn: 0.0195742\ttotal: 409ms\tremaining: 217ms\n",
      "653:\tlearn: 0.0195573\ttotal: 410ms\tremaining: 217ms\n",
      "654:\tlearn: 0.0195514\ttotal: 410ms\tremaining: 216ms\n",
      "655:\tlearn: 0.0195463\ttotal: 410ms\tremaining: 215ms\n",
      "656:\tlearn: 0.0195106\ttotal: 411ms\tremaining: 215ms\n",
      "657:\tlearn: 0.0194889\ttotal: 411ms\tremaining: 214ms\n",
      "658:\tlearn: 0.0194735\ttotal: 412ms\tremaining: 213ms\n",
      "659:\tlearn: 0.0194473\ttotal: 412ms\tremaining: 212ms\n",
      "660:\tlearn: 0.0194369\ttotal: 413ms\tremaining: 212ms\n",
      "661:\tlearn: 0.0194260\ttotal: 414ms\tremaining: 211ms\n",
      "662:\tlearn: 0.0194213\ttotal: 414ms\tremaining: 211ms\n",
      "663:\tlearn: 0.0194124\ttotal: 415ms\tremaining: 210ms\n",
      "664:\tlearn: 0.0193897\ttotal: 415ms\tremaining: 209ms\n"
     ]
    },
    {
     "name": "stdout",
     "output_type": "stream",
     "text": [
      "665:\tlearn: 0.0193786\ttotal: 416ms\tremaining: 209ms\n",
      "666:\tlearn: 0.0193692\ttotal: 416ms\tremaining: 208ms\n",
      "667:\tlearn: 0.0193579\ttotal: 417ms\tremaining: 207ms\n",
      "668:\tlearn: 0.0193460\ttotal: 422ms\tremaining: 209ms\n",
      "669:\tlearn: 0.0193366\ttotal: 423ms\tremaining: 208ms\n",
      "670:\tlearn: 0.0193128\ttotal: 423ms\tremaining: 208ms\n",
      "671:\tlearn: 0.0193007\ttotal: 424ms\tremaining: 207ms\n",
      "672:\tlearn: 0.0192907\ttotal: 424ms\tremaining: 206ms\n",
      "673:\tlearn: 0.0192829\ttotal: 425ms\tremaining: 205ms\n",
      "674:\tlearn: 0.0192375\ttotal: 425ms\tremaining: 205ms\n",
      "675:\tlearn: 0.0192252\ttotal: 426ms\tremaining: 204ms\n",
      "676:\tlearn: 0.0191947\ttotal: 426ms\tremaining: 203ms\n",
      "677:\tlearn: 0.0191792\ttotal: 427ms\tremaining: 203ms\n",
      "678:\tlearn: 0.0191604\ttotal: 427ms\tremaining: 202ms\n",
      "679:\tlearn: 0.0191504\ttotal: 427ms\tremaining: 201ms\n",
      "680:\tlearn: 0.0191407\ttotal: 428ms\tremaining: 200ms\n",
      "681:\tlearn: 0.0191250\ttotal: 428ms\tremaining: 199ms\n",
      "682:\tlearn: 0.0191158\ttotal: 428ms\tremaining: 199ms\n",
      "683:\tlearn: 0.0190958\ttotal: 428ms\tremaining: 198ms\n",
      "684:\tlearn: 0.0190617\ttotal: 429ms\tremaining: 197ms\n",
      "685:\tlearn: 0.0190353\ttotal: 429ms\tremaining: 196ms\n",
      "686:\tlearn: 0.0190194\ttotal: 429ms\tremaining: 196ms\n",
      "687:\tlearn: 0.0190105\ttotal: 430ms\tremaining: 195ms\n",
      "688:\tlearn: 0.0189924\ttotal: 430ms\tremaining: 194ms\n",
      "689:\tlearn: 0.0189795\ttotal: 430ms\tremaining: 193ms\n",
      "690:\tlearn: 0.0189688\ttotal: 430ms\tremaining: 192ms\n",
      "691:\tlearn: 0.0189394\ttotal: 431ms\tremaining: 192ms\n",
      "692:\tlearn: 0.0189183\ttotal: 431ms\tremaining: 191ms\n",
      "693:\tlearn: 0.0189120\ttotal: 431ms\tremaining: 190ms\n",
      "694:\tlearn: 0.0188952\ttotal: 431ms\tremaining: 189ms\n",
      "695:\tlearn: 0.0188641\ttotal: 432ms\tremaining: 189ms\n",
      "696:\tlearn: 0.0188517\ttotal: 433ms\tremaining: 188ms\n",
      "697:\tlearn: 0.0188434\ttotal: 433ms\tremaining: 187ms\n",
      "698:\tlearn: 0.0188108\ttotal: 433ms\tremaining: 187ms\n",
      "699:\tlearn: 0.0187804\ttotal: 434ms\tremaining: 186ms\n",
      "700:\tlearn: 0.0187681\ttotal: 434ms\tremaining: 185ms\n",
      "701:\tlearn: 0.0187586\ttotal: 434ms\tremaining: 184ms\n",
      "702:\tlearn: 0.0187290\ttotal: 435ms\tremaining: 184ms\n",
      "703:\tlearn: 0.0187153\ttotal: 435ms\tremaining: 183ms\n",
      "704:\tlearn: 0.0187060\ttotal: 435ms\tremaining: 182ms\n",
      "705:\tlearn: 0.0186969\ttotal: 435ms\tremaining: 181ms\n",
      "706:\tlearn: 0.0186621\ttotal: 436ms\tremaining: 181ms\n",
      "707:\tlearn: 0.0186520\ttotal: 436ms\tremaining: 180ms\n",
      "708:\tlearn: 0.0186289\ttotal: 437ms\tremaining: 179ms\n",
      "709:\tlearn: 0.0186045\ttotal: 437ms\tremaining: 179ms\n",
      "710:\tlearn: 0.0185960\ttotal: 437ms\tremaining: 178ms\n",
      "711:\tlearn: 0.0185893\ttotal: 438ms\tremaining: 177ms\n",
      "712:\tlearn: 0.0185721\ttotal: 438ms\tremaining: 176ms\n",
      "713:\tlearn: 0.0185554\ttotal: 438ms\tremaining: 175ms\n",
      "714:\tlearn: 0.0185436\ttotal: 438ms\tremaining: 175ms\n",
      "715:\tlearn: 0.0185276\ttotal: 439ms\tremaining: 174ms\n",
      "716:\tlearn: 0.0185030\ttotal: 439ms\tremaining: 173ms\n",
      "717:\tlearn: 0.0184827\ttotal: 439ms\tremaining: 173ms\n",
      "718:\tlearn: 0.0184714\ttotal: 439ms\tremaining: 172ms\n",
      "719:\tlearn: 0.0184482\ttotal: 440ms\tremaining: 171ms\n",
      "720:\tlearn: 0.0184165\ttotal: 440ms\tremaining: 170ms\n",
      "721:\tlearn: 0.0184084\ttotal: 440ms\tremaining: 170ms\n",
      "722:\tlearn: 0.0183920\ttotal: 441ms\tremaining: 169ms\n",
      "723:\tlearn: 0.0183841\ttotal: 441ms\tremaining: 168ms\n",
      "724:\tlearn: 0.0183582\ttotal: 442ms\tremaining: 168ms\n",
      "725:\tlearn: 0.0183450\ttotal: 450ms\tremaining: 170ms\n",
      "726:\tlearn: 0.0183064\ttotal: 450ms\tremaining: 169ms\n",
      "727:\tlearn: 0.0182932\ttotal: 451ms\tremaining: 168ms\n",
      "728:\tlearn: 0.0182832\ttotal: 451ms\tremaining: 168ms\n",
      "729:\tlearn: 0.0182651\ttotal: 451ms\tremaining: 167ms\n",
      "730:\tlearn: 0.0182550\ttotal: 452ms\tremaining: 166ms\n",
      "731:\tlearn: 0.0182244\ttotal: 452ms\tremaining: 165ms\n",
      "732:\tlearn: 0.0181921\ttotal: 452ms\tremaining: 165ms\n",
      "733:\tlearn: 0.0181630\ttotal: 454ms\tremaining: 164ms\n",
      "734:\tlearn: 0.0181278\ttotal: 454ms\tremaining: 164ms\n",
      "735:\tlearn: 0.0181181\ttotal: 455ms\tremaining: 163ms\n",
      "736:\tlearn: 0.0181117\ttotal: 455ms\tremaining: 162ms\n",
      "737:\tlearn: 0.0181026\ttotal: 455ms\tremaining: 162ms\n",
      "738:\tlearn: 0.0180796\ttotal: 456ms\tremaining: 161ms\n",
      "739:\tlearn: 0.0180581\ttotal: 456ms\tremaining: 160ms\n",
      "740:\tlearn: 0.0180173\ttotal: 457ms\tremaining: 160ms\n",
      "741:\tlearn: 0.0180097\ttotal: 457ms\tremaining: 159ms\n",
      "742:\tlearn: 0.0179908\ttotal: 458ms\tremaining: 158ms\n",
      "743:\tlearn: 0.0179716\ttotal: 458ms\tremaining: 158ms\n",
      "744:\tlearn: 0.0179615\ttotal: 460ms\tremaining: 158ms\n"
     ]
    },
    {
     "name": "stdout",
     "output_type": "stream",
     "text": [
      "745:\tlearn: 0.0179399\ttotal: 461ms\tremaining: 157ms\n",
      "746:\tlearn: 0.0179055\ttotal: 461ms\tremaining: 156ms\n",
      "747:\tlearn: 0.0178891\ttotal: 461ms\tremaining: 155ms\n",
      "748:\tlearn: 0.0178619\ttotal: 462ms\tremaining: 155ms\n",
      "749:\tlearn: 0.0178516\ttotal: 462ms\tremaining: 154ms\n",
      "750:\tlearn: 0.0178353\ttotal: 462ms\tremaining: 153ms\n",
      "751:\tlearn: 0.0178269\ttotal: 463ms\tremaining: 153ms\n",
      "752:\tlearn: 0.0178145\ttotal: 463ms\tremaining: 152ms\n",
      "753:\tlearn: 0.0177941\ttotal: 463ms\tremaining: 151ms\n",
      "754:\tlearn: 0.0177861\ttotal: 464ms\tremaining: 150ms\n",
      "755:\tlearn: 0.0177653\ttotal: 464ms\tremaining: 150ms\n",
      "756:\tlearn: 0.0177367\ttotal: 464ms\tremaining: 149ms\n",
      "757:\tlearn: 0.0177219\ttotal: 465ms\tremaining: 148ms\n",
      "758:\tlearn: 0.0177146\ttotal: 465ms\tremaining: 148ms\n",
      "759:\tlearn: 0.0176921\ttotal: 466ms\tremaining: 147ms\n",
      "760:\tlearn: 0.0176721\ttotal: 466ms\tremaining: 146ms\n",
      "761:\tlearn: 0.0176414\ttotal: 466ms\tremaining: 146ms\n",
      "762:\tlearn: 0.0176325\ttotal: 467ms\tremaining: 145ms\n",
      "763:\tlearn: 0.0176174\ttotal: 467ms\tremaining: 144ms\n",
      "764:\tlearn: 0.0175920\ttotal: 467ms\tremaining: 144ms\n",
      "765:\tlearn: 0.0175673\ttotal: 468ms\tremaining: 143ms\n",
      "766:\tlearn: 0.0175587\ttotal: 468ms\tremaining: 142ms\n",
      "767:\tlearn: 0.0175342\ttotal: 468ms\tremaining: 141ms\n",
      "768:\tlearn: 0.0175011\ttotal: 468ms\tremaining: 141ms\n",
      "769:\tlearn: 0.0174862\ttotal: 469ms\tremaining: 140ms\n",
      "770:\tlearn: 0.0174654\ttotal: 469ms\tremaining: 139ms\n",
      "771:\tlearn: 0.0174537\ttotal: 470ms\tremaining: 139ms\n",
      "772:\tlearn: 0.0174439\ttotal: 470ms\tremaining: 138ms\n",
      "773:\tlearn: 0.0174351\ttotal: 470ms\tremaining: 137ms\n",
      "774:\tlearn: 0.0174256\ttotal: 471ms\tremaining: 137ms\n",
      "775:\tlearn: 0.0174060\ttotal: 471ms\tremaining: 136ms\n",
      "776:\tlearn: 0.0173943\ttotal: 471ms\tremaining: 135ms\n",
      "777:\tlearn: 0.0173820\ttotal: 472ms\tremaining: 135ms\n",
      "778:\tlearn: 0.0173715\ttotal: 472ms\tremaining: 134ms\n",
      "779:\tlearn: 0.0173638\ttotal: 472ms\tremaining: 133ms\n",
      "780:\tlearn: 0.0173504\ttotal: 472ms\tremaining: 132ms\n",
      "781:\tlearn: 0.0173275\ttotal: 473ms\tremaining: 132ms\n",
      "782:\tlearn: 0.0173072\ttotal: 473ms\tremaining: 131ms\n",
      "783:\tlearn: 0.0172987\ttotal: 473ms\tremaining: 130ms\n",
      "784:\tlearn: 0.0172736\ttotal: 474ms\tremaining: 130ms\n",
      "785:\tlearn: 0.0172497\ttotal: 475ms\tremaining: 129ms\n",
      "786:\tlearn: 0.0172433\ttotal: 475ms\tremaining: 129ms\n",
      "787:\tlearn: 0.0172321\ttotal: 475ms\tremaining: 128ms\n",
      "788:\tlearn: 0.0172129\ttotal: 476ms\tremaining: 127ms\n",
      "789:\tlearn: 0.0171915\ttotal: 477ms\tremaining: 127ms\n",
      "790:\tlearn: 0.0171779\ttotal: 477ms\tremaining: 126ms\n",
      "791:\tlearn: 0.0171539\ttotal: 477ms\tremaining: 125ms\n",
      "792:\tlearn: 0.0171474\ttotal: 478ms\tremaining: 125ms\n",
      "793:\tlearn: 0.0171369\ttotal: 478ms\tremaining: 124ms\n",
      "794:\tlearn: 0.0171184\ttotal: 479ms\tremaining: 123ms\n",
      "795:\tlearn: 0.0171113\ttotal: 479ms\tremaining: 123ms\n",
      "796:\tlearn: 0.0171009\ttotal: 480ms\tremaining: 122ms\n",
      "797:\tlearn: 0.0170700\ttotal: 480ms\tremaining: 122ms\n",
      "798:\tlearn: 0.0170597\ttotal: 481ms\tremaining: 121ms\n",
      "799:\tlearn: 0.0170402\ttotal: 482ms\tremaining: 120ms\n",
      "800:\tlearn: 0.0170243\ttotal: 482ms\tremaining: 120ms\n",
      "801:\tlearn: 0.0169949\ttotal: 482ms\tremaining: 119ms\n",
      "802:\tlearn: 0.0169766\ttotal: 483ms\tremaining: 118ms\n",
      "803:\tlearn: 0.0169688\ttotal: 484ms\tremaining: 118ms\n",
      "804:\tlearn: 0.0169617\ttotal: 484ms\tremaining: 117ms\n",
      "805:\tlearn: 0.0169388\ttotal: 484ms\tremaining: 117ms\n",
      "806:\tlearn: 0.0169315\ttotal: 484ms\tremaining: 116ms\n",
      "807:\tlearn: 0.0169236\ttotal: 485ms\tremaining: 115ms\n",
      "808:\tlearn: 0.0168970\ttotal: 485ms\tremaining: 115ms\n",
      "809:\tlearn: 0.0168764\ttotal: 485ms\tremaining: 114ms\n",
      "810:\tlearn: 0.0168511\ttotal: 486ms\tremaining: 113ms\n",
      "811:\tlearn: 0.0168333\ttotal: 486ms\tremaining: 113ms\n",
      "812:\tlearn: 0.0168131\ttotal: 486ms\tremaining: 112ms\n",
      "813:\tlearn: 0.0167880\ttotal: 487ms\tremaining: 111ms\n",
      "814:\tlearn: 0.0167807\ttotal: 487ms\tremaining: 111ms\n",
      "815:\tlearn: 0.0167606\ttotal: 487ms\tremaining: 110ms\n",
      "816:\tlearn: 0.0167525\ttotal: 488ms\tremaining: 109ms\n",
      "817:\tlearn: 0.0167356\ttotal: 488ms\tremaining: 109ms\n",
      "818:\tlearn: 0.0167290\ttotal: 488ms\tremaining: 108ms\n",
      "819:\tlearn: 0.0167214\ttotal: 488ms\tremaining: 107ms\n",
      "820:\tlearn: 0.0167102\ttotal: 489ms\tremaining: 107ms\n",
      "821:\tlearn: 0.0166908\ttotal: 489ms\tremaining: 106ms\n",
      "822:\tlearn: 0.0166719\ttotal: 489ms\tremaining: 105ms\n",
      "823:\tlearn: 0.0166487\ttotal: 490ms\tremaining: 105ms\n",
      "824:\tlearn: 0.0166266\ttotal: 490ms\tremaining: 104ms\n",
      "825:\tlearn: 0.0166118\ttotal: 490ms\tremaining: 103ms\n",
      "826:\tlearn: 0.0166048\ttotal: 491ms\tremaining: 103ms\n",
      "827:\tlearn: 0.0165946\ttotal: 491ms\tremaining: 102ms\n",
      "828:\tlearn: 0.0165761\ttotal: 492ms\tremaining: 101ms\n",
      "829:\tlearn: 0.0165677\ttotal: 492ms\tremaining: 101ms\n",
      "830:\tlearn: 0.0165605\ttotal: 492ms\tremaining: 100ms\n",
      "831:\tlearn: 0.0165538\ttotal: 493ms\tremaining: 99.5ms\n",
      "832:\tlearn: 0.0165486\ttotal: 493ms\tremaining: 98.9ms\n",
      "833:\tlearn: 0.0165383\ttotal: 494ms\tremaining: 98.2ms\n",
      "834:\tlearn: 0.0165230\ttotal: 494ms\tremaining: 97.6ms\n",
      "835:\tlearn: 0.0164993\ttotal: 494ms\tremaining: 96.9ms\n",
      "836:\tlearn: 0.0164896\ttotal: 494ms\tremaining: 96.3ms\n",
      "837:\tlearn: 0.0164797\ttotal: 495ms\tremaining: 95.6ms\n",
      "838:\tlearn: 0.0164614\ttotal: 495ms\tremaining: 95ms\n",
      "839:\tlearn: 0.0164499\ttotal: 495ms\tremaining: 94.3ms\n",
      "840:\tlearn: 0.0164437\ttotal: 496ms\tremaining: 93.8ms\n",
      "841:\tlearn: 0.0164291\ttotal: 496ms\tremaining: 93.1ms\n",
      "842:\tlearn: 0.0164130\ttotal: 497ms\tremaining: 92.6ms\n",
      "843:\tlearn: 0.0164004\ttotal: 498ms\tremaining: 92ms\n",
      "844:\tlearn: 0.0163847\ttotal: 498ms\tremaining: 91.3ms\n",
      "845:\tlearn: 0.0163767\ttotal: 498ms\tremaining: 90.7ms\n",
      "846:\tlearn: 0.0163634\ttotal: 498ms\tremaining: 90ms\n",
      "847:\tlearn: 0.0163458\ttotal: 499ms\tremaining: 89.4ms\n",
      "848:\tlearn: 0.0163292\ttotal: 499ms\tremaining: 88.8ms\n",
      "849:\tlearn: 0.0163094\ttotal: 500ms\tremaining: 88.2ms\n",
      "850:\tlearn: 0.0162955\ttotal: 500ms\tremaining: 87.5ms\n",
      "851:\tlearn: 0.0162783\ttotal: 500ms\tremaining: 86.9ms\n",
      "852:\tlearn: 0.0162519\ttotal: 501ms\tremaining: 86.3ms\n",
      "853:\tlearn: 0.0162413\ttotal: 501ms\tremaining: 85.6ms\n",
      "854:\tlearn: 0.0162244\ttotal: 501ms\tremaining: 85ms\n",
      "855:\tlearn: 0.0162111\ttotal: 501ms\tremaining: 84.3ms\n",
      "856:\tlearn: 0.0162014\ttotal: 502ms\tremaining: 83.7ms\n",
      "857:\tlearn: 0.0161842\ttotal: 502ms\tremaining: 83.1ms\n",
      "858:\tlearn: 0.0161677\ttotal: 502ms\tremaining: 82.4ms\n",
      "859:\tlearn: 0.0161545\ttotal: 503ms\tremaining: 81.8ms\n",
      "860:\tlearn: 0.0161473\ttotal: 503ms\tremaining: 81.2ms\n",
      "861:\tlearn: 0.0161264\ttotal: 503ms\tremaining: 80.5ms\n",
      "862:\tlearn: 0.0161103\ttotal: 503ms\tremaining: 79.9ms\n",
      "863:\tlearn: 0.0161053\ttotal: 504ms\tremaining: 79.3ms\n",
      "864:\tlearn: 0.0160896\ttotal: 504ms\tremaining: 78.7ms\n",
      "865:\tlearn: 0.0160818\ttotal: 504ms\tremaining: 78ms\n",
      "866:\tlearn: 0.0160533\ttotal: 505ms\tremaining: 77.4ms\n",
      "867:\tlearn: 0.0160384\ttotal: 505ms\tremaining: 76.8ms\n",
      "868:\tlearn: 0.0160321\ttotal: 505ms\tremaining: 76.2ms\n",
      "869:\tlearn: 0.0160237\ttotal: 506ms\tremaining: 75.5ms\n",
      "870:\tlearn: 0.0160099\ttotal: 506ms\tremaining: 74.9ms\n",
      "871:\tlearn: 0.0159903\ttotal: 506ms\tremaining: 74.3ms\n",
      "872:\tlearn: 0.0159822\ttotal: 507ms\tremaining: 73.7ms\n",
      "873:\tlearn: 0.0159690\ttotal: 507ms\tremaining: 73.1ms\n",
      "874:\tlearn: 0.0159590\ttotal: 507ms\tremaining: 72.5ms\n",
      "875:\tlearn: 0.0159454\ttotal: 508ms\tremaining: 71.8ms\n",
      "876:\tlearn: 0.0159258\ttotal: 508ms\tremaining: 71.3ms\n",
      "877:\tlearn: 0.0159201\ttotal: 509ms\tremaining: 70.8ms\n",
      "878:\tlearn: 0.0158957\ttotal: 510ms\tremaining: 70.2ms\n",
      "879:\tlearn: 0.0158882\ttotal: 511ms\tremaining: 69.6ms\n",
      "880:\tlearn: 0.0158674\ttotal: 514ms\tremaining: 69.4ms\n",
      "881:\tlearn: 0.0158504\ttotal: 514ms\tremaining: 68.8ms\n",
      "882:\tlearn: 0.0158357\ttotal: 515ms\tremaining: 68.2ms\n",
      "883:\tlearn: 0.0158169\ttotal: 515ms\tremaining: 67.6ms\n",
      "884:\tlearn: 0.0158040\ttotal: 516ms\tremaining: 67ms\n",
      "885:\tlearn: 0.0157853\ttotal: 516ms\tremaining: 66.4ms\n",
      "886:\tlearn: 0.0157761\ttotal: 516ms\tremaining: 65.8ms\n",
      "887:\tlearn: 0.0157603\ttotal: 517ms\tremaining: 65.3ms\n",
      "888:\tlearn: 0.0157547\ttotal: 518ms\tremaining: 64.7ms\n",
      "889:\tlearn: 0.0157431\ttotal: 518ms\tremaining: 64.1ms\n",
      "890:\tlearn: 0.0157365\ttotal: 522ms\tremaining: 63.9ms\n",
      "891:\tlearn: 0.0157209\ttotal: 528ms\tremaining: 63.9ms\n",
      "892:\tlearn: 0.0157105\ttotal: 528ms\tremaining: 63.3ms\n",
      "893:\tlearn: 0.0157022\ttotal: 529ms\tremaining: 62.7ms\n",
      "894:\tlearn: 0.0156683\ttotal: 529ms\tremaining: 62.1ms\n",
      "895:\tlearn: 0.0156477\ttotal: 529ms\tremaining: 61.4ms\n",
      "896:\tlearn: 0.0156335\ttotal: 530ms\tremaining: 60.8ms\n",
      "897:\tlearn: 0.0156102\ttotal: 530ms\tremaining: 60.2ms\n",
      "898:\tlearn: 0.0155963\ttotal: 530ms\tremaining: 59.6ms\n",
      "899:\tlearn: 0.0155881\ttotal: 531ms\tremaining: 59ms\n",
      "900:\tlearn: 0.0155746\ttotal: 531ms\tremaining: 58.3ms\n",
      "901:\tlearn: 0.0155658\ttotal: 531ms\tremaining: 57.7ms\n",
      "902:\tlearn: 0.0155522\ttotal: 532ms\tremaining: 57.1ms\n",
      "903:\tlearn: 0.0155331\ttotal: 532ms\tremaining: 56.5ms\n",
      "904:\tlearn: 0.0155211\ttotal: 532ms\tremaining: 55.9ms\n",
      "905:\tlearn: 0.0155131\ttotal: 532ms\tremaining: 55.2ms\n",
      "906:\tlearn: 0.0155010\ttotal: 533ms\tremaining: 54.6ms\n",
      "907:\tlearn: 0.0154815\ttotal: 533ms\tremaining: 54ms\n",
      "908:\tlearn: 0.0154756\ttotal: 533ms\tremaining: 53.4ms\n",
      "909:\tlearn: 0.0154698\ttotal: 534ms\tremaining: 52.8ms\n",
      "910:\tlearn: 0.0154642\ttotal: 534ms\tremaining: 52.2ms\n",
      "911:\tlearn: 0.0154517\ttotal: 535ms\tremaining: 51.6ms\n",
      "912:\tlearn: 0.0154463\ttotal: 535ms\tremaining: 51ms\n",
      "913:\tlearn: 0.0154234\ttotal: 536ms\tremaining: 50.4ms\n",
      "914:\tlearn: 0.0154119\ttotal: 536ms\tremaining: 49.8ms\n",
      "915:\tlearn: 0.0153976\ttotal: 536ms\tremaining: 49.2ms\n",
      "916:\tlearn: 0.0153816\ttotal: 536ms\tremaining: 48.5ms\n",
      "917:\tlearn: 0.0153731\ttotal: 537ms\tremaining: 48ms\n",
      "918:\tlearn: 0.0153658\ttotal: 537ms\tremaining: 47.4ms\n",
      "919:\tlearn: 0.0153559\ttotal: 538ms\tremaining: 46.8ms\n",
      "920:\tlearn: 0.0153502\ttotal: 538ms\tremaining: 46.2ms\n",
      "921:\tlearn: 0.0153370\ttotal: 538ms\tremaining: 45.5ms\n",
      "922:\tlearn: 0.0153176\ttotal: 539ms\tremaining: 44.9ms\n",
      "923:\tlearn: 0.0152935\ttotal: 539ms\tremaining: 44.3ms\n",
      "924:\tlearn: 0.0152819\ttotal: 539ms\tremaining: 43.7ms\n",
      "925:\tlearn: 0.0152692\ttotal: 540ms\tremaining: 43.1ms\n",
      "926:\tlearn: 0.0152462\ttotal: 540ms\tremaining: 42.5ms\n",
      "927:\tlearn: 0.0152356\ttotal: 540ms\tremaining: 41.9ms\n",
      "928:\tlearn: 0.0152190\ttotal: 541ms\tremaining: 41.3ms\n",
      "929:\tlearn: 0.0152102\ttotal: 541ms\tremaining: 40.7ms\n",
      "930:\tlearn: 0.0152037\ttotal: 542ms\tremaining: 40.2ms\n",
      "931:\tlearn: 0.0151922\ttotal: 542ms\tremaining: 39.5ms\n",
      "932:\tlearn: 0.0151752\ttotal: 542ms\tremaining: 38.9ms\n",
      "933:\tlearn: 0.0151621\ttotal: 543ms\tremaining: 38.3ms\n",
      "934:\tlearn: 0.0151497\ttotal: 543ms\tremaining: 37.8ms\n",
      "935:\tlearn: 0.0151425\ttotal: 543ms\tremaining: 37.1ms\n",
      "936:\tlearn: 0.0151273\ttotal: 544ms\tremaining: 36.5ms\n",
      "937:\tlearn: 0.0151091\ttotal: 544ms\tremaining: 35.9ms\n",
      "938:\tlearn: 0.0150986\ttotal: 544ms\tremaining: 35.4ms\n",
      "939:\tlearn: 0.0150913\ttotal: 545ms\tremaining: 34.8ms\n",
      "940:\tlearn: 0.0150825\ttotal: 546ms\tremaining: 34.2ms\n",
      "941:\tlearn: 0.0150721\ttotal: 546ms\tremaining: 33.6ms\n",
      "942:\tlearn: 0.0150633\ttotal: 547ms\tremaining: 33.1ms\n",
      "943:\tlearn: 0.0150490\ttotal: 547ms\tremaining: 32.5ms\n",
      "944:\tlearn: 0.0150401\ttotal: 548ms\tremaining: 31.9ms\n",
      "945:\tlearn: 0.0150291\ttotal: 548ms\tremaining: 31.3ms\n",
      "946:\tlearn: 0.0150181\ttotal: 549ms\tremaining: 30.7ms\n",
      "947:\tlearn: 0.0150130\ttotal: 549ms\tremaining: 30.1ms\n",
      "948:\tlearn: 0.0150025\ttotal: 550ms\tremaining: 29.5ms\n",
      "949:\tlearn: 0.0149975\ttotal: 550ms\tremaining: 28.9ms\n",
      "950:\tlearn: 0.0149858\ttotal: 550ms\tremaining: 28.4ms\n",
      "951:\tlearn: 0.0149808\ttotal: 551ms\tremaining: 27.8ms\n",
      "952:\tlearn: 0.0149783\ttotal: 551ms\tremaining: 27.2ms\n"
     ]
    },
    {
     "name": "stdout",
     "output_type": "stream",
     "text": [
      "953:\tlearn: 0.0149703\ttotal: 552ms\tremaining: 26.6ms\n",
      "954:\tlearn: 0.0149470\ttotal: 552ms\tremaining: 26ms\n",
      "955:\tlearn: 0.0149352\ttotal: 553ms\tremaining: 25.4ms\n",
      "956:\tlearn: 0.0149237\ttotal: 553ms\tremaining: 24.9ms\n",
      "957:\tlearn: 0.0149174\ttotal: 554ms\tremaining: 24.3ms\n",
      "958:\tlearn: 0.0149125\ttotal: 554ms\tremaining: 23.7ms\n",
      "959:\tlearn: 0.0148986\ttotal: 555ms\tremaining: 23.1ms\n",
      "960:\tlearn: 0.0148844\ttotal: 555ms\tremaining: 22.5ms\n",
      "961:\tlearn: 0.0148743\ttotal: 555ms\tremaining: 21.9ms\n",
      "962:\tlearn: 0.0148692\ttotal: 556ms\tremaining: 21.4ms\n",
      "963:\tlearn: 0.0148593\ttotal: 557ms\tremaining: 20.8ms\n",
      "964:\tlearn: 0.0148534\ttotal: 557ms\tremaining: 20.2ms\n",
      "965:\tlearn: 0.0148446\ttotal: 558ms\tremaining: 19.6ms\n",
      "966:\tlearn: 0.0148374\ttotal: 558ms\tremaining: 19ms\n",
      "967:\tlearn: 0.0148237\ttotal: 558ms\tremaining: 18.5ms\n",
      "968:\tlearn: 0.0148162\ttotal: 559ms\tremaining: 17.9ms\n",
      "969:\tlearn: 0.0148098\ttotal: 559ms\tremaining: 17.3ms\n",
      "970:\tlearn: 0.0148058\ttotal: 559ms\tremaining: 16.7ms\n",
      "971:\tlearn: 0.0147992\ttotal: 559ms\tremaining: 16.1ms\n",
      "972:\tlearn: 0.0147854\ttotal: 560ms\tremaining: 15.5ms\n",
      "973:\tlearn: 0.0147723\ttotal: 560ms\tremaining: 14.9ms\n",
      "974:\tlearn: 0.0147515\ttotal: 560ms\tremaining: 14.4ms\n",
      "975:\tlearn: 0.0147404\ttotal: 561ms\tremaining: 13.8ms\n",
      "976:\tlearn: 0.0147280\ttotal: 561ms\tremaining: 13.2ms\n",
      "977:\tlearn: 0.0147242\ttotal: 561ms\tremaining: 12.6ms\n",
      "978:\tlearn: 0.0147169\ttotal: 561ms\tremaining: 12ms\n",
      "979:\tlearn: 0.0147047\ttotal: 562ms\tremaining: 11.5ms\n",
      "980:\tlearn: 0.0146988\ttotal: 562ms\tremaining: 10.9ms\n",
      "981:\tlearn: 0.0146871\ttotal: 562ms\tremaining: 10.3ms\n",
      "982:\tlearn: 0.0146804\ttotal: 563ms\tremaining: 9.73ms\n",
      "983:\tlearn: 0.0146744\ttotal: 563ms\tremaining: 9.15ms\n",
      "984:\tlearn: 0.0146636\ttotal: 563ms\tremaining: 8.57ms\n",
      "985:\tlearn: 0.0146567\ttotal: 563ms\tremaining: 8ms\n",
      "986:\tlearn: 0.0146461\ttotal: 564ms\tremaining: 7.42ms\n",
      "987:\tlearn: 0.0146323\ttotal: 565ms\tremaining: 6.86ms\n",
      "988:\tlearn: 0.0146279\ttotal: 565ms\tremaining: 6.29ms\n",
      "989:\tlearn: 0.0146162\ttotal: 565ms\tremaining: 5.71ms\n",
      "990:\tlearn: 0.0145999\ttotal: 566ms\tremaining: 5.14ms\n",
      "991:\tlearn: 0.0145896\ttotal: 567ms\tremaining: 4.57ms\n",
      "992:\tlearn: 0.0145783\ttotal: 567ms\tremaining: 4ms\n",
      "993:\tlearn: 0.0145739\ttotal: 567ms\tremaining: 3.42ms\n",
      "994:\tlearn: 0.0145576\ttotal: 568ms\tremaining: 2.85ms\n",
      "995:\tlearn: 0.0145420\ttotal: 568ms\tremaining: 2.28ms\n",
      "996:\tlearn: 0.0145364\ttotal: 568ms\tremaining: 1.71ms\n",
      "997:\tlearn: 0.0145153\ttotal: 568ms\tremaining: 1.14ms\n",
      "998:\tlearn: 0.0145025\ttotal: 569ms\tremaining: 569us\n",
      "999:\tlearn: 0.0144982\ttotal: 569ms\tremaining: 0us\n"
     ]
    },
    {
     "data": {
      "text/plain": [
       "<catboost.core.CatBoostRegressor at 0x7fdcf8ef4460>"
      ]
     },
     "execution_count": 9,
     "metadata": {},
     "output_type": "execute_result"
    }
   ],
   "source": [
    "#Train the Model \n",
    "prior_model = ctb.CatBoostRegressor()\n",
    "prior_model.fit(X_train,Y_train)"
   ]
  },
  {
   "cell_type": "code",
   "execution_count": 10,
   "id": "af65dcda",
   "metadata": {
    "execution": {
     "iopub.execute_input": "2022-07-24T20:58:47.026282Z",
     "iopub.status.busy": "2022-07-24T20:58:47.025772Z",
     "iopub.status.idle": "2022-07-24T20:58:47.073483Z",
     "shell.execute_reply": "2022-07-24T20:58:47.066400Z"
    },
    "id": "af65dcda",
    "papermill": {
     "duration": 0.078294,
     "end_time": "2022-07-24T20:58:47.080945",
     "exception": false,
     "start_time": "2022-07-24T20:58:47.002651",
     "status": "completed"
    },
    "tags": []
   },
   "outputs": [
    {
     "data": {
      "application/scrapbook.scrap.json+json": {
       "data": 0.0007094590652803931,
       "encoder": "json",
       "name": "Prior Model MSE",
       "version": 1
      }
     },
     "metadata": {
      "scrapbook": {
       "data": true,
       "display": false,
       "name": "Prior Model MSE"
      }
     },
     "output_type": "display_data"
    },
    {
     "data": {
      "application/scrapbook.scrap.json+json": {
       "data": 0.000918461557749605,
       "encoder": "json",
       "name": "ABC Pre-generator MSE",
       "version": 1
      }
     },
     "metadata": {
      "scrapbook": {
       "data": true,
       "display": false,
       "name": "ABC Pre-generator MSE"
      }
     },
     "output_type": "display_data"
    },
    {
     "data": {
      "application/scrapbook.scrap.json+json": {
       "data": 0.01895308191383547,
       "encoder": "json",
       "name": "Prior Model MAE",
       "version": 1
      }
     },
     "metadata": {
      "scrapbook": {
       "data": true,
       "display": false,
       "name": "Prior Model MAE"
      }
     },
     "output_type": "display_data"
    },
    {
     "name": "stdout",
     "output_type": "stream",
     "text": [
      "Prior Model MAE 0.01895308191383547\n",
      "ABC Pre-generator MAE 0.022465445859829535\n"
     ]
    }
   ],
   "source": [
    "y_pred = prior_model.predict(X_test)\n",
    "y_abc = y_pred + np.random.normal(0,variance, y_pred.shape) + bias \n",
    "mse = mean_squared_error(y_pred,Y_test)\n",
    "sb.glue(\"Prior Model MSE\",mse)\n",
    "mse = mean_squared_error(y_abc,Y_test)\n",
    "sb.glue(\"ABC Pre-generator MSE\",mse)\n",
    "mae = mean_absolute_error(y_pred,Y_test)\n",
    "sb.glue(\"Prior Model MAE\",mae)\n",
    "print(\"Prior Model MAE\",mae)\n",
    "mae = mean_absolute_error(y_abc,Y_test)\n",
    "print(\"ABC Pre-generator MAE\",mae)"
   ]
  },
  {
   "cell_type": "markdown",
   "id": "25609da2",
   "metadata": {
    "papermill": {
     "duration": 0.011337,
     "end_time": "2022-07-24T20:58:47.125449",
     "exception": false,
     "start_time": "2022-07-24T20:58:47.114112",
     "status": "completed"
    },
    "tags": []
   },
   "source": [
    "# mGAN Model"
   ]
  },
  {
   "cell_type": "code",
   "execution_count": 11,
   "id": "dfc3464d",
   "metadata": {
    "execution": {
     "iopub.execute_input": "2022-07-24T20:58:47.149965Z",
     "iopub.status.busy": "2022-07-24T20:58:47.148122Z",
     "iopub.status.idle": "2022-07-24T20:58:47.158038Z",
     "shell.execute_reply": "2022-07-24T20:58:47.154011Z"
    },
    "papermill": {
     "duration": 0.026492,
     "end_time": "2022-07-24T20:58:47.162368",
     "exception": false,
     "start_time": "2022-07-24T20:58:47.135876",
     "status": "completed"
    },
    "tags": []
   },
   "outputs": [],
   "source": [
    "# gen = network.Generator(n_features+1).to(device)\n",
    "# disc = network.Discriminator(n_features+1).to(device)\n",
    "\n",
    "# criterion = torch.nn.BCELoss()\n",
    "# gen_opt = torch.optim.Adam(gen.parameters(), lr=0.01, betas=(0.5, 0.999))\n",
    "# disc_opt = torch.optim.Adam(disc.parameters(), lr=0.01, betas=(0.5, 0.999))"
   ]
  },
  {
   "cell_type": "code",
   "execution_count": 12,
   "id": "b75fdd85",
   "metadata": {
    "execution": {
     "iopub.execute_input": "2022-07-24T20:58:47.284259Z",
     "iopub.status.busy": "2022-07-24T20:58:47.273550Z",
     "iopub.status.idle": "2022-07-24T20:58:47.305942Z",
     "shell.execute_reply": "2022-07-24T20:58:47.301130Z"
    },
    "papermill": {
     "duration": 0.137928,
     "end_time": "2022-07-24T20:58:47.315915",
     "exception": false,
     "start_time": "2022-07-24T20:58:47.177987",
     "status": "completed"
    },
    "tags": []
   },
   "outputs": [],
   "source": [
    "#Training the ABC_GAN \n",
    "# ABC_train_test2.training_GAN(disc,gen,disc_opt,gen_opt,train_data,batch_size,n_epochs,criterion,prior_model,variance,bias,device)"
   ]
  },
  {
   "cell_type": "code",
   "execution_count": 13,
   "id": "1fa7c368",
   "metadata": {
    "execution": {
     "iopub.execute_input": "2022-07-24T20:58:47.360921Z",
     "iopub.status.busy": "2022-07-24T20:58:47.359628Z",
     "iopub.status.idle": "2022-07-24T20:58:47.370647Z",
     "shell.execute_reply": "2022-07-24T20:58:47.369204Z"
    },
    "papermill": {
     "duration": 0.044633,
     "end_time": "2022-07-24T20:58:47.383006",
     "exception": false,
     "start_time": "2022-07-24T20:58:47.338373",
     "status": "completed"
    },
    "tags": []
   },
   "outputs": [],
   "source": [
    "# ABC_GAN1_metrics=ABC_train_test2.test_generator(gen,test_data,prior_model,variance,bias,\"1\",device)\n",
    "# sb.glue(\"ABC_GAN_1 Metrics\",ABC_GAN1_metrics)\n",
    "\n",
    "# print(\"MAE\")\n",
    "# print(mean(ABC_GAN1_metrics[1]))"
   ]
  },
  {
   "cell_type": "code",
   "execution_count": 14,
   "id": "eb22ce5c",
   "metadata": {
    "execution": {
     "iopub.execute_input": "2022-07-24T20:58:47.412561Z",
     "iopub.status.busy": "2022-07-24T20:58:47.411956Z",
     "iopub.status.idle": "2022-07-24T20:58:47.416799Z",
     "shell.execute_reply": "2022-07-24T20:58:47.415211Z"
    },
    "papermill": {
     "duration": 0.026685,
     "end_time": "2022-07-24T20:58:47.421457",
     "exception": false,
     "start_time": "2022-07-24T20:58:47.394772",
     "status": "completed"
    },
    "tags": []
   },
   "outputs": [],
   "source": [
    "# sanityChecks.discProbVsError(train_data,disc,device)\n",
    "# sanityChecks.discProbVsError(test_data,disc,device)"
   ]
  },
  {
   "cell_type": "markdown",
   "id": "4965f482",
   "metadata": {
    "papermill": {
     "duration": 0.010624,
     "end_time": "2022-07-24T20:58:47.445230",
     "exception": false,
     "start_time": "2022-07-24T20:58:47.434606",
     "status": "completed"
    },
    "tags": []
   },
   "source": [
    "# mGAN Model with TabNet Generator"
   ]
  },
  {
   "cell_type": "code",
   "execution_count": 15,
   "id": "4380c92f",
   "metadata": {
    "execution": {
     "iopub.execute_input": "2022-07-24T20:58:47.478885Z",
     "iopub.status.busy": "2022-07-24T20:58:47.478339Z",
     "iopub.status.idle": "2022-07-24T20:58:47.496617Z",
     "shell.execute_reply": "2022-07-24T20:58:47.494196Z"
    },
    "papermill": {
     "duration": 0.04077,
     "end_time": "2022-07-24T20:58:47.500529",
     "exception": false,
     "start_time": "2022-07-24T20:58:47.459759",
     "status": "completed"
    },
    "tags": []
   },
   "outputs": [],
   "source": [
    "gen2 = network.GeneratorTabnet(n_features+1).to(device)\n",
    "disc2 = network.Discriminator(n_features+1).to(device)\n",
    "\n",
    "criterion = torch.nn.BCELoss()\n",
    "gen_opt = torch.optim.Adam(gen2.parameters(), lr=0.01, betas=(0.5, 0.999))\n",
    "disc_opt = torch.optim.Adam(disc2.parameters(), lr=0.01, betas=(0.5, 0.999))"
   ]
  },
  {
   "cell_type": "code",
   "execution_count": 16,
   "id": "3e01c32d",
   "metadata": {
    "execution": {
     "iopub.execute_input": "2022-07-24T20:58:47.526441Z",
     "iopub.status.busy": "2022-07-24T20:58:47.525844Z",
     "iopub.status.idle": "2022-07-24T21:15:51.319874Z",
     "shell.execute_reply": "2022-07-24T21:15:51.316758Z"
    },
    "papermill": {
     "duration": 1023.816132,
     "end_time": "2022-07-24T21:15:51.328155",
     "exception": false,
     "start_time": "2022-07-24T20:58:47.512023",
     "status": "completed"
    },
    "tags": []
   },
   "outputs": [
    {
     "data": {
      "image/png": "[encoded data removed]",
      "text/plain": [
       "<Figure size 432x288 with 1 Axes>"
      ]
     },
     "metadata": {
      "needs_background": "light"
     },
     "output_type": "display_data"
    },
    {
     "data": {
      "image/png": "[encoded data removed]",
      "text/plain": [
       "<Figure size 432x288 with 1 Axes>"
      ]
     },
     "metadata": {
      "needs_background": "light"
     },
     "output_type": "display_data"
    }
   ],
   "source": [
    "#Training the ABC_GAN \n",
    "ABC_train_test2.training_GAN(disc2,gen2,disc_opt,gen_opt,train_data,batch_size,n_epochs,criterion,prior_model,variance,bias,device)"
   ]
  },
  {
   "cell_type": "code",
   "execution_count": 17,
   "id": "4ab9bd42",
   "metadata": {
    "execution": {
     "iopub.execute_input": "2022-07-24T21:15:51.390551Z",
     "iopub.status.busy": "2022-07-24T21:15:51.388995Z",
     "iopub.status.idle": "2022-07-24T21:15:53.558387Z",
     "shell.execute_reply": "2022-07-24T21:15:53.557087Z"
    },
    "papermill": {
     "duration": 2.200493,
     "end_time": "2022-07-24T21:15:53.561364",
     "exception": false,
     "start_time": "2022-07-24T21:15:51.360871",
     "status": "completed"
    },
    "tags": []
   },
   "outputs": [
    {
     "data": {
      "application/scrapbook.scrap.json+json": {
       "data": 0.005081933744745168,
       "encoder": "json",
       "name": "ABC-GAN Model 1 MSE",
       "version": 1
      }
     },
     "metadata": {
      "scrapbook": {
       "data": true,
       "display": false,
       "name": "ABC-GAN Model 1 MSE"
      }
     },
     "output_type": "display_data"
    },
    {
     "data": {
      "application/scrapbook.scrap.json+json": {
       "data": 0.05190914797318446,
       "encoder": "json",
       "name": "ABC-GAN Model 1 MAE",
       "version": 1
      }
     },
     "metadata": {
      "scrapbook": {
       "data": true,
       "display": false,
       "name": "ABC-GAN Model 1 MAE"
      }
     },
     "output_type": "display_data"
    },
    {
     "data": {
      "application/scrapbook.scrap.json+json": {
       "data": 7.994008787870407,
       "encoder": "json",
       "name": "ABC-GAN Model 1 Manhattan Distance",
       "version": 1
      }
     },
     "metadata": {
      "scrapbook": {
       "data": true,
       "display": false,
       "name": "ABC-GAN Model 1 Manhattan Distance"
      }
     },
     "output_type": "display_data"
    },
    {
     "data": {
      "application/scrapbook.scrap.json+json": {
       "data": 0.8846027723737554,
       "encoder": "json",
       "name": "ABC-GAN Model 1 Euclidean distance",
       "version": 1
      }
     },
     "metadata": {
      "scrapbook": {
       "data": true,
       "display": false,
       "name": "ABC-GAN Model 1 Euclidean distance"
      }
     },
     "output_type": "display_data"
    },
    {
     "data": {
      "application/scrapbook.scrap.json+json": {
       "data": [
        [
         0.005167271278461031,
         0.005095612321224307,
         0.005401057631526642,
         0.005029074152115571,
         0.005075865874124427,
         0.005062007323311329,
         0.00506401734620523,
         0.005127137896564185,
         0.005115148012504128,
         0.005229595823413399,
         0.004949782937571382,
         0.004988525144441426,
         0.005182707575509506,
         0.004997824273092441,
         0.004898476085980789,
         0.005125317508053711,
         0.005017559363263862,
         0.005146385295996387,
         0.0051316846557677535,
         0.005092922483606601,
         0.005204179641949329,
         0.004867948606193626,
         0.004950778135143749,
         0.005100890991252635,
         0.0049289039013618256,
         0.0050895727208672215,
         0.005114672124856193,
         0.005003660926472615,
         0.005162850895535239,
         0.005213259501103823,
         0.004973820634332686,
         0.005001429958863783,
         0.005032518322076227,
         0.005138485796956375,
         0.004929553868105886,
         0.005071375987528935,
         0.005180368801012999,
         0.004976107150845512,
         0.005039396230246482,
         0.004971415877043501,
         0.005050285115101095,
         0.005067537405061316,
         0.005049657438233825,
         0.0049446684224097506,
         0.005184338921063774,
         0.005107609472454775,
         0.005093261382503414,
         0.005034258117459482,
         0.005149086517414086,
         0.004936057136907301,
         0.005008236665841659,
         0.005026896389026167,
         0.004929923112165385,
         0.005177785801228007,
         0.0052211753452387245,
         0.005003318807915083,
         0.005260935617722086,
         0.005110272413547455,
         0.005109989968023337,
         0.004871370813996301,
         0.005040687506208307,
         0.005403365702554742,
         0.005002002502247115,
         0.0051295722815361934,
         0.005052973914731871,
         0.005053939923155568,
         0.005003207314920209,
         0.00500173910720226,
         0.004986371175407799,
         0.005336070421583612,
         0.005126973274363492,
         0.0051273653979463625,
         0.00511802416201959,
         0.0051235880428446385,
         0.005015621433948326,
         0.005203352023850009,
         0.0049558985910305746,
         0.005173976216815739,
         0.005038355150506049,
         0.005056646257109056,
         0.005194646916371591,
         0.004749207510476427,
         0.005030048492975635,
         0.005237341436331563,
         0.0051388148460735725,
         0.004953738394751198,
         0.005245971680665519,
         0.005119961044307348,
         0.00516448076677794,
         0.005089741933644929,
         0.005139681283834769,
         0.004974652637350696,
         0.005018578148037594,
         0.005033393627031076,
         0.005131617526870791,
         0.00520781694610813,
         0.00527927950708946,
         0.004891534872369959,
         0.005209179531866666,
         0.005248129053804635
        ],
        [
         0.052241265677012406,
         0.05184677456106458,
         0.053679201703567006,
         0.05143950908602058,
         0.052420077579362054,
         0.05121524486835901,
         0.05133927865074826,
         0.05220733592649559,
         0.05234663507768086,
         0.05288511408226831,
         0.05148729923870656,
         0.05118448171135667,
         0.052273459345489354,
         0.05121235355928347,
         0.050958709380069335,
         0.05193522853123677,
         0.05140119607185389,
         0.05214270455883695,
         0.05293132045439312,
         0.05141190371730111,
         0.05247296557410971,
         0.05121333926142036,
         0.051136340220253186,
         0.05211538685993715,
         0.05074068884570877,
         0.05163267409646666,
         0.05159784127752502,
         0.051590223107245065,
         0.052084929176739285,
         0.05374444876011316,
         0.05168540514521785,
         0.0516769282229535,
         0.05163226721735744,
         0.05195867637922237,
         0.05105727881967247,
         0.0521042589823921,
         0.051947455804843404,
         0.05166668638393476,
         0.05113481768927017,
         0.05154534187409785,
         0.051872261836157216,
         0.052245422617181556,
         0.0521729372732051,
         0.051515279942518706,
         0.052405800234961816,
         0.051649896452179204,
         0.05208089841263635,
         0.0519143415542392,
         0.05250211418062061,
         0.05110960492453018,
         0.05178568483173073,
         0.05146382971630468,
         0.05130521285456496,
         0.052470729335561975,
         0.053035950892931456,
         0.05203559462513242,
         0.05270929160443219,
         0.052293438609544336,
         0.05167232095808178,
         0.05036868590426136,
         0.05136125050968938,
         0.053990269926461304,
         0.05122472529674505,
         0.051901040526179526,
         0.051594269062791555,
         0.05231320983790732,
         0.051526903235293055,
         0.05124207566697876,
         0.051489400302434894,
         0.053820562923883465,
         0.05158741104525405,
         0.05205703488030991,
         0.05226323453636913,
         0.05159931687952636,
         0.051888058905477645,
         0.052268631756305695,
         0.05162804806000226,
         0.05237571033951524,
         0.05169689239232571,
         0.05165380403980032,
         0.05239843983541836,
         0.05026256002776035,
         0.05174293165857142,
         0.05229228570476755,
         0.05184498042255253,
         0.051240810326167514,
         0.052961118132263035,
         0.05153523124270625,
         0.05133285857253261,
         0.051884403089424234,
         0.052083797559335634,
         0.051736646755175156,
         0.05161862994556303,
         0.05212228929067587,
         0.052236378096140824,
         0.05313639681447636,
         0.05232927996616859,
         0.05082373969353639,
         0.052823714911937714,
         0.053120110909660144
        ],
        [
         8.04515491425991,
         7.984403282403946,
         8.26659706234932,
         7.9216843992471695,
         8.072691947221756,
         7.887147709727287,
         7.906248912215233,
         8.03992973268032,
         8.061381801962852,
         8.14430756866932,
         7.929044082760811,
         7.882410183548927,
         8.05011273920536,
         7.886702448129654,
         7.847641244530678,
         7.998025193810463,
         7.915784195065498,
         8.02997650206089,
         8.15142334997654,
         7.917433172464371,
         8.080836698412895,
         7.886854246258736,
         7.874996393918991,
         8.02576957643032,
         7.814066082239151,
         7.9514318108558655,
         7.9460675567388535,
         7.944894358515739,
         8.02107909321785,
         8.276645109057426,
         7.959552392363548,
         7.958246946334839,
         7.951369151473045,
         8.001636162400246,
         7.862820938229561,
         8.024055883288383,
         7.999908193945885,
         7.956669703125954,
         7.874761924147606,
         7.937982648611069,
         7.988328322768211,
         8.04579508304596,
         8.034632340073586,
         7.9333531111478806,
         8.07049323618412,
         7.954084053635597,
         8.020458355545998,
         7.994808599352837,
         8.085325583815575,
         7.870879158377647,
         7.974995464086533,
         7.925429776310921,
         7.9010027796030045,
         8.080492317676544,
         8.167536437511444,
         8.013481572270393,
         8.117230907082558,
         8.053189545869827,
         7.957537427544594,
         7.7567776292562485,
         7.909632578492165,
         8.314501568675041,
         7.888607695698738,
         7.992760241031647,
         7.945517435669899,
         8.056234315037727,
         7.93514309823513,
         7.891279652714729,
         7.929367646574974,
         8.288366690278053,
         7.944461300969124,
         8.016783371567726,
         8.048538118600845,
         7.94629479944706,
         7.990761071443558,
         8.049369290471077,
         7.950719401240349,
         8.065859392285347,
         7.9613214284181595,
         7.95468582212925,
         8.069359734654427,
         7.740434244275093,
         7.968411475419998,
         8.053011998534203,
         7.98412698507309,
         7.891084790229797,
         8.156012192368507,
         7.936425611376762,
         7.905260220170021,
         7.990198075771332,
         8.020904824137688,
         7.967443600296974,
         7.949269011616707,
         8.026832550764084,
         8.044402226805687,
         8.18300510942936,
         8.058709114789963,
         7.826855912804604,
         8.134852096438408,
         8.180497080087662
        ],
        [
         0.8920536849780952,
         0.8858466557302923,
         0.9120103482171147,
         0.8800439872107517,
         0.8841285792322074,
         0.8829207936105847,
         0.8830960713963149,
         0.8885827120031564,
         0.8875431222907626,
         0.8974172701735037,
         0.8730787893346125,
         0.8764889458766605,
         0.8933851166369764,
         0.8773054987039781,
         0.868542064174811,
         0.8884249525088044,
         0.879035916184677,
         0.8902490300940763,
         0.8889766234205678,
         0.8856128174746662,
         0.895233860429886,
         0.8658314416523682,
         0.8731665550238037,
         0.8863053721223322,
         0.8712354451063852,
         0.8853215229584966,
         0.8875018350560485,
         0.8778176249522349,
         0.8916720461651956,
         0.8960144882589726,
         0.8751961938258378,
         0.8776219081501,
         0.8803452854418764,
         0.8895655190773086,
         0.8712928874312623,
         0.8837374621908114,
         0.8931835171766225,
         0.875397339058218,
         0.8809466609607861,
         0.874984597044256,
         0.8818979009644873,
         0.8834029433839591,
         0.8818430957307593,
         0.8726276050246757,
         0.8935257096714235,
         0.8868888649419584,
         0.8856422826996945,
         0.8804974446804261,
         0.8904826352499914,
         0.8718674205885458,
         0.8782189058199643,
         0.8798534218323126,
         0.8713255185483031,
         0.8929608129078862,
         0.8966944870839585,
         0.8777876146420173,
         0.9001022637062974,
         0.8871200322878003,
         0.8870955163203079,
         0.866135731485216,
         0.8810595189634348,
         0.9122051952238762,
         0.8776721400079049,
         0.88879363822913,
         0.8821326333770382,
         0.8822169507360178,
         0.8777778343622673,
         0.8776490315092633,
         0.8762996981699817,
         0.906506946980483,
         0.8885684465768394,
         0.8886024258822051,
         0.8877926114532699,
         0.8882750467046083,
         0.8788661450005012,
         0.8951626733018426,
         0.8736179846012263,
         0.8926322520442692,
         0.8808556596729861,
         0.8824531282707283,
         0.8944135649246521,
         0.8552063824676296,
         0.880129233645973,
         0.8980816116562351,
         0.8895940008202224,
         0.8734275658528784,
         0.8988212496500568,
         0.8879605851744387,
         0.891812781969289,
         0.8853362399570679,
         0.8896689933399693,
         0.8752693906175442,
         0.879125153091293,
         0.8804218412572382,
         0.8889708089347488,
         0.8955466541172782,
         0.9016701415106174,
         0.8679264774996633,
         0.8956638029458746,
         0.8990060479695972
        ]
       ],
       "encoder": "json",
       "name": "ABC_GAN_2 Metrics",
       "version": 1
      }
     },
     "metadata": {
      "scrapbook": {
       "data": true,
       "display": false,
       "name": "ABC_GAN_2 Metrics"
      }
     },
     "output_type": "display_data"
    },
    {
     "name": "stdout",
     "output_type": "stream",
     "text": [
      "MAE\n",
      "0.05190914797318446\n"
     ]
    }
   ],
   "source": [
    "ABC_GAN2_metrics=ABC_train_test2.test_generator(gen2,test_data,prior_model,variance,bias,\"1\",device)\n",
    "sb.glue(\"ABC_GAN_2 Metrics\",ABC_GAN2_metrics)\n",
    "\n",
    "print(\"MAE\")\n",
    "print(mean(ABC_GAN2_metrics[1]))"
   ]
  },
  {
   "cell_type": "code",
   "execution_count": 18,
   "id": "092b1eee",
   "metadata": {
    "execution": {
     "iopub.execute_input": "2022-07-24T21:15:53.597504Z",
     "iopub.status.busy": "2022-07-24T21:15:53.597114Z",
     "iopub.status.idle": "2022-07-24T21:15:55.037814Z",
     "shell.execute_reply": "2022-07-24T21:15:55.036584Z"
    },
    "papermill": {
     "duration": 1.464079,
     "end_time": "2022-07-24T21:15:55.041717",
     "exception": false,
     "start_time": "2022-07-24T21:15:53.577638",
     "status": "completed"
    },
    "tags": []
   },
   "outputs": [
    {
     "data": {
      "image/png": "[encoded data removed]",
      "text/plain": [
       "<Figure size 432x288 with 1 Axes>"
      ]
     },
     "metadata": {
      "needs_background": "light"
     },
     "output_type": "display_data"
    },
    {
     "data": {
      "image/png": "[encoded data removed]",
      "text/plain": [
       "<Figure size 432x288 with 1 Axes>"
      ]
     },
     "metadata": {
      "needs_background": "light"
     },
     "output_type": "display_data"
    },
    {
     "data": {
      "image/png": "[encoded data removed]",
      "text/plain": [
       "<Figure size 432x288 with 1 Axes>"
      ]
     },
     "metadata": {
      "needs_background": "light"
     },
     "output_type": "display_data"
    },
    {
     "data": {
      "image/png": "[encoded data removed]",
      "text/plain": [
       "<Figure size 432x288 with 1 Axes>"
      ]
     },
     "metadata": {
      "needs_background": "light"
     },
     "output_type": "display_data"
    }
   ],
   "source": [
    "sanityChecks.discProbVsError(train_data,disc2,device)\n",
    "sanityChecks.discProbVsError(test_data,disc2,device)"
   ]
  },
  {
   "cell_type": "markdown",
   "id": "130f3a4d",
   "metadata": {
    "id": "130f3a4d",
    "papermill": {
     "duration": 0.038081,
     "end_time": "2022-07-24T21:15:55.104328",
     "exception": false,
     "start_time": "2022-07-24T21:15:55.066247",
     "status": "completed"
    },
    "tags": []
   },
   "source": [
    "# skipGAN Model"
   ]
  },
  {
   "cell_type": "code",
   "execution_count": 19,
   "id": "4e43dad1",
   "metadata": {
    "execution": {
     "iopub.execute_input": "2022-07-24T21:15:55.156747Z",
     "iopub.status.busy": "2022-07-24T21:15:55.156131Z",
     "iopub.status.idle": "2022-07-24T21:15:55.173540Z",
     "shell.execute_reply": "2022-07-24T21:15:55.172478Z"
    },
    "id": "4e43dad1",
    "papermill": {
     "duration": 0.051628,
     "end_time": "2022-07-24T21:15:55.178873",
     "exception": false,
     "start_time": "2022-07-24T21:15:55.127245",
     "status": "completed"
    },
    "tags": []
   },
   "outputs": [],
   "source": [
    "#Generator\n",
    "gen3 = network.GeneratorWithSkipConnection(n_features+1).to(device)\n",
    "constraints=network.weightConstraint()\n",
    "#Discriminator \n",
    "disc3 = network.Discriminator(n_features+1).to(device)\n",
    "\n",
    "criterion = torch.nn.BCELoss()\n",
    "gen_opt = torch.optim.Adam(gen3.parameters(), lr=0.01, betas=(0.5, 0.999))\n",
    "disc_opt = torch.optim.Adam(disc3.parameters(), lr=0.01, betas=(0.5, 0.999))\n"
   ]
  },
  {
   "cell_type": "code",
   "execution_count": 20,
   "id": "26acbc37",
   "metadata": {
    "execution": {
     "iopub.execute_input": "2022-07-24T21:15:55.223894Z",
     "iopub.status.busy": "2022-07-24T21:15:55.223511Z",
     "iopub.status.idle": "2022-07-24T21:24:01.382537Z",
     "shell.execute_reply": "2022-07-24T21:24:01.381473Z"
    },
    "id": "26acbc37",
    "papermill": {
     "duration": 486.187311,
     "end_time": "2022-07-24T21:24:01.385168",
     "exception": false,
     "start_time": "2022-07-24T21:15:55.197857",
     "status": "completed"
    },
    "tags": []
   },
   "outputs": [
    {
     "data": {
      "image/png": "[encoded data removed]",
      "text/plain": [
       "<Figure size 432x288 with 1 Axes>"
      ]
     },
     "metadata": {
      "needs_background": "light"
     },
     "output_type": "display_data"
    },
    {
     "data": {
      "image/png": "[encoded data removed]",
      "text/plain": [
       "<Figure size 432x288 with 1 Axes>"
      ]
     },
     "metadata": {
      "needs_background": "light"
     },
     "output_type": "display_data"
    }
   ],
   "source": [
    "ABC_train_test2.training_GAN_skip_connection(disc3,gen3,disc_opt,gen_opt,train_data,batch_size,n_epochs,criterion,prior_model,variance,bias,device)"
   ]
  },
  {
   "cell_type": "code",
   "execution_count": 21,
   "id": "c5e0717b",
   "metadata": {
    "execution": {
     "iopub.execute_input": "2022-07-24T21:24:01.429803Z",
     "iopub.status.busy": "2022-07-24T21:24:01.427809Z",
     "iopub.status.idle": "2022-07-24T21:24:03.248521Z",
     "shell.execute_reply": "2022-07-24T21:24:03.247450Z"
    },
    "id": "c5e0717b",
    "papermill": {
     "duration": 1.844624,
     "end_time": "2022-07-24T21:24:03.252068",
     "exception": false,
     "start_time": "2022-07-24T21:24:01.407444",
     "status": "completed"
    },
    "tags": []
   },
   "outputs": [
    {
     "data": {
      "application/scrapbook.scrap.json+json": {
       "data": 1167751.8414566375,
       "encoder": "json",
       "name": "ABC-GAN Model 3 MSE",
       "version": 1
      }
     },
     "metadata": {
      "scrapbook": {
       "data": true,
       "display": false,
       "name": "ABC-GAN Model 3 MSE"
      }
     },
     "output_type": "display_data"
    },
    {
     "data": {
      "application/scrapbook.scrap.json+json": {
       "data": 1048.8400036039639,
       "encoder": "json",
       "name": "ABC-GAN Model 3 MAE",
       "version": 1
      }
     },
     "metadata": {
      "scrapbook": {
       "data": true,
       "display": false,
       "name": "ABC-GAN Model 3 MAE"
      }
     },
     "output_type": "display_data"
    },
    {
     "data": {
      "application/scrapbook.scrap.json+json": {
       "data": 161521.36055501044,
       "encoder": "json",
       "name": "ABC-GAN Model 3 Manhattan Distance",
       "version": 1
      }
     },
     "metadata": {
      "scrapbook": {
       "data": true,
       "display": false,
       "name": "ABC-GAN Model 3 Manhattan Distance"
      }
     },
     "output_type": "display_data"
    },
    {
     "data": {
      "application/scrapbook.scrap.json+json": {
       "data": 13410.211802359192,
       "encoder": "json",
       "name": "ABC-GAN Model 3 Euclidean distance",
       "version": 1
      }
     },
     "metadata": {
      "scrapbook": {
       "data": true,
       "display": false,
       "name": "ABC-GAN Model 3 Euclidean distance"
      }
     },
     "output_type": "display_data"
    },
    {
     "data": {
      "application/scrapbook.scrap.json+json": {
       "data": [
        [
         1167705.9088030648,
         1167757.418591504,
         1168301.161931034,
         1168298.8916548544,
         1168063.6090630344,
         1167413.0265954412,
         1167892.101310948,
         1168120.1252563344,
         1167748.9240019366,
         1167953.5807861248,
         1167850.1464888575,
         1167012.2778369996,
         1167792.9823325453,
         1167935.7879552888,
         1167576.7384749635,
         1167909.732921608,
         1167455.317891667,
         1168403.0801089674,
         1167479.2389335923,
         1167475.9917292984,
         1168330.4513994923,
         1167609.5361326402,
         1167398.0291859766,
         1167782.0240995327,
         1167422.9843220627,
         1167668.2351022344,
         1167446.5938968891,
         1167682.0308054807,
         1167873.6093285598,
         1167433.7277331224,
         1167769.7647036745,
         1168000.8628777764,
         1167485.5409825153,
         1167753.3232210798,
         1167772.4622131765,
         1167667.1879420253,
         1167444.3800775514,
         1168332.4017743398,
         1167502.992501169,
         1167948.501758669,
         1167700.3381720083,
         1168254.9406185304,
         1167332.9005155084,
         1167845.5562515792,
         1167452.9605376874,
         1167662.9792129844,
         1168026.645822443,
         1167662.850238115,
         1167982.226017903,
         1167562.5638378065,
         1167602.4344908712,
         1168065.1540872648,
         1168061.326076686,
         1167980.4961416894,
         1167959.0736499738,
         1167777.6641046135,
         1167754.632836852,
         1167352.709580608,
         1167763.1515340235,
         1168105.8126815048,
         1167650.7403313788,
         1167650.7686178708,
         1168068.9147301654,
         1167636.1450704823,
         1167898.6568743696,
         1167849.6602564163,
         1168433.8273064718,
         1168145.0809296106,
         1167495.7032708656,
         1167741.2141249783,
         1167644.018613206,
         1167288.2106625063,
         1167731.645092879,
         1167725.3315541458,
         1167291.5638999455,
         1168207.6183255508,
         1167081.0201349072,
         1167529.8960319546,
         1167716.837887064,
         1168238.8448877353,
         1167910.0500696125,
         1167428.5851257315,
         1167967.3837007978,
         1167486.516101293,
         1166922.0590786596,
         1167553.7996214249,
         1167764.1926516446,
         1167635.0425975784,
         1167776.7984308146,
         1167510.847701517,
         1167914.667113477,
         1167737.6659423693,
         1167741.1499220196,
         1168183.1556880646,
         1168051.650190417,
         1167692.839071012,
         1167698.2002103736,
         1167472.9449834886,
         1167276.480022994,
         1168057.3197032656
        ],
        [
         1048.7790975192345,
         1048.7912359850166,
         1049.1183126863914,
         1049.0428839342353,
         1048.9032503591923,
         1048.7113354168348,
         1048.9156494133852,
         1049.0171651461876,
         1048.8201262231964,
         1048.9783937521763,
         1048.8616913627689,
         1048.5196194332334,
         1048.8647387609274,
         1048.9718063149553,
         1048.7446013604858,
         1048.9245950270977,
         1048.723996446601,
         1049.1411923488433,
         1048.7600488036678,
         1048.722172922225,
         1049.07253195955,
         1048.7228827531655,
         1048.6871752050984,
         1048.8900954995256,
         1048.692407186252,
         1048.805820018537,
         1048.690776081151,
         1048.8054849196758,
         1048.9280022948788,
         1048.754429605971,
         1048.868218755664,
         1048.9427169198534,
         1048.6959371188439,
         1048.8661019454723,
         1048.8831917892223,
         1048.7493292071022,
         1048.7391531801263,
         1049.1069391417232,
         1048.6965896797838,
         1048.9100751993913,
         1048.8274696640574,
         1049.0794707452515,
         1048.655125208586,
         1048.8223219034928,
         1048.7184442290431,
         1048.8141501283685,
         1048.975165626542,
         1048.7975883972529,
         1048.9318481042208,
         1048.8013553364904,
         1048.755992145604,
         1049.0075881753069,
         1048.9523406579317,
         1048.8944452452388,
         1048.9267637568055,
         1048.8345975002105,
         1048.8059313878805,
         1048.694511908312,
         1048.829164974972,
         1048.9437400513848,
         1048.8573634153256,
         1048.7577641467963,
         1048.9917810606685,
         1048.8236573447848,
         1048.9218254577997,
         1048.8583110455763,
         1049.1510818276506,
         1048.9931706013037,
         1048.7665038659395,
         1048.8355185762048,
         1048.7743449018567,
         1048.6305520187145,
         1048.803694290871,
         1048.8193074009055,
         1048.697115018093,
         1049.026654923988,
         1048.5592906994673,
         1048.802290085945,
         1048.826965331354,
         1049.0734647273437,
         1048.8872321976664,
         1048.691955763895,
         1048.9357979507608,
         1048.7113223378728,
         1048.4547650218979,
         1048.7307802664188,
         1048.7917090074775,
         1048.7507282597098,
         1048.8480196859348,
         1048.7364363230088,
         1048.9284751191735,
         1048.787602609725,
         1048.8190345261971,
         1049.0341592757152,
         1049.0007464909902,
         1048.7980077167028,
         1048.8099379099228,
         1048.7542472931666,
         1048.6945782939529,
         1048.9763807810166
        ],
        [
         161511.9810179621,
         161513.85034169257,
         161564.2201537043,
         161552.60412587225,
         161531.1005553156,
         161501.54565419257,
         161533.01000966132,
         161548.64343251288,
         161518.29943837225,
         161542.67263783514,
         161524.7004698664,
         161472.02139271796,
         161525.1697691828,
         161541.6581725031,
         161506.66860951483,
         161534.38763417304,
         161503.49545277655,
         161567.74362172186,
         161509.04751576483,
         161503.21463002264,
         161557.1699217707,
         161503.3239439875,
         161497.82498158514,
         161529.07470692694,
         161498.6307066828,
         161516.09628285468,
         161498.37951649725,
         161516.04467763007,
         161534.91235341132,
         161508.18215931952,
         161525.70568837225,
         161537.1784056574,
         161499.17431630194,
         161525.37969960272,
         161528.01153554022,
         161507.39669789374,
         161505.82958973944,
         161562.46862782538,
         161499.2748106867,
         161532.15158070624,
         161519.43032826483,
         161558.23849476874,
         161492.88928212225,
         161518.63757313788,
         161502.64041127264,
         161517.37911976874,
         161542.1755064875,
         161514.82861317694,
         161535.50460805,
         161515.40872181952,
         161508.42279042304,
         161547.16857899725,
         161538.66046132147,
         161529.7445677668,
         161534.72161854804,
         161520.5280150324,
         161516.11343373358,
         161498.95483388007,
         161519.6914061457,
         161537.33596791327,
         161524.03396596014,
         161508.69567860663,
         161544.73428334296,
         161518.84323109686,
         161533.96112050116,
         161524.17990101874,
         161569.2666014582,
         161544.94827260077,
         161510.04159535468,
         161520.66986073554,
         161511.24911488593,
         161489.10501088202,
         161515.76892079413,
         161518.17333973944,
         161499.35571278632,
         161550.10485829413,
         161478.13076771796,
         161515.55267323554,
         161519.3526610285,
         161557.31356801093,
         161528.6337584406,
         161498.56118763983,
         161536.11288441718,
         161501.5436400324,
         161462.03381337225,
         161504.5401610285,
         161513.92318715155,
         161507.6121519953,
         161522.59503163397,
         161505.41119374335,
         161534.98516835272,
         161513.29080189764,
         161518.13131703436,
         161551.26052846014,
         161546.1149596125,
         161514.89318837225,
         161516.7304381281,
         161508.15408314764,
         161498.96505726874,
         161542.36264027655
        ],
        [
         13409.948171252265,
         13410.243937493893,
         13413.365682683047,
         13413.352650059109,
         13412.001930946299,
         13408.266334455697,
         13411.017247095235,
         13412.326393637888,
         13410.195162498501,
         13411.37022981109,
         13410.776359304633,
         13405.964746593136,
         13410.448138642201,
         13411.268073717507,
         13409.206453968274,
         13411.118479453069,
         13408.509199583552,
         13413.950735587969,
         13408.646568381659,
         13408.627921092893,
         13413.53381907698,
         13409.394787402847,
         13408.180208165473,
         13410.38521860308,
         13408.323518829555,
         13409.731846899258,
         13408.459100885564,
         13409.811062951037,
         13410.911074069436,
         13408.385214890754,
         13410.314827190521,
         13411.641692320058,
         13408.682758246894,
         13410.220422351242,
         13410.330315873247,
         13409.725834000928,
         13408.446387704395,
         13413.545015142283,
         13408.782974050257,
         13411.341069066695,
         13409.91618461835,
         13413.10034463523,
         13407.806184435552,
         13410.750003737425,
         13408.495662183877,
         13409.701667031957,
         13411.789718626525,
         13409.700926443875,
         13411.534692448775,
         13409.125058370586,
         13409.354007989878,
         13412.010801122951,
         13411.98882402642,
         13411.52476066089,
         13411.401766485706,
         13410.360184279556,
         13410.227942017807,
         13407.919945890697,
         13410.276855316579,
         13412.244225071046,
         13409.631389826956,
         13409.631552251985,
         13412.032391417993,
         13409.547581512745,
         13411.054886124839,
         13410.773567527267,
         13414.12723233221,
         13412.469663084432,
         13408.741115545234,
         13410.150893082697,
         13409.592792714991,
         13407.549531589502,
         13410.095948363063,
         13410.05969633761,
         13407.56878932909,
         13412.828680861272,
         13406.359576737295,
         13408.937466813728,
         13410.010925968996,
         13413.007944257364,
         13411.120300359711,
         13408.355682534777,
         13411.449477589022,
         13408.688357911788,
         13405.446546016794,
         13409.074731005843,
         13410.282833272131,
         13409.541250916343,
         13410.355213727396,
         13408.828082499742,
         13411.146809109032,
         13410.130519690138,
         13410.1505244345,
         13412.688245685948,
         13411.933273369808,
         13409.87312456519,
         13409.903908395376,
         13408.610424926857,
         13407.482161969901,
         13411.965822887521
        ]
       ],
       "encoder": "json",
       "name": "ABC_GAN_3 Metrics",
       "version": 1
      }
     },
     "metadata": {
      "scrapbook": {
       "data": true,
       "display": false,
       "name": "ABC_GAN_3 Metrics"
      }
     },
     "output_type": "display_data"
    },
    {
     "name": "stdout",
     "output_type": "stream",
     "text": [
      "MAE\n",
      "1048.8400036039639\n"
     ]
    }
   ],
   "source": [
    "ABC_GAN3_metrics=ABC_train_test2.test_generator(gen3,test_data,prior_model,variance,bias,\"3\",device)\n",
    "sb.glue(\"ABC_GAN_3 Metrics\",ABC_GAN3_metrics)\n",
    "\n",
    "print(\"MAE\")\n",
    "print(mean(ABC_GAN3_metrics[1]))"
   ]
  },
  {
   "cell_type": "code",
   "execution_count": 22,
   "id": "c8e46b48",
   "metadata": {
    "execution": {
     "iopub.execute_input": "2022-07-24T21:24:03.292569Z",
     "iopub.status.busy": "2022-07-24T21:24:03.291719Z",
     "iopub.status.idle": "2022-07-24T21:24:05.186741Z",
     "shell.execute_reply": "2022-07-24T21:24:05.185551Z"
    },
    "id": "c8e46b48",
    "papermill": {
     "duration": 1.919477,
     "end_time": "2022-07-24T21:24:05.190547",
     "exception": false,
     "start_time": "2022-07-24T21:24:03.271070",
     "status": "completed"
    },
    "tags": []
   },
   "outputs": [
    {
     "data": {
      "image/png": "[encoded data removed]",
      "text/plain": [
       "<Figure size 432x288 with 1 Axes>"
      ]
     },
     "metadata": {
      "needs_background": "light"
     },
     "output_type": "display_data"
    },
    {
     "data": {
      "image/png": "[encoded data removed]",
      "text/plain": [
       "<Figure size 432x288 with 1 Axes>"
      ]
     },
     "metadata": {
      "needs_background": "light"
     },
     "output_type": "display_data"
    },
    {
     "data": {
      "image/png": "[encoded data removed]",
      "text/plain": [
       "<Figure size 432x288 with 1 Axes>"
      ]
     },
     "metadata": {
      "needs_background": "light"
     },
     "output_type": "display_data"
    },
    {
     "data": {
      "image/png": "[encoded data removed]",
      "text/plain": [
       "<Figure size 432x288 with 1 Axes>"
      ]
     },
     "metadata": {
      "needs_background": "light"
     },
     "output_type": "display_data"
    }
   ],
   "source": [
    "sanityChecks.discProbVsError(train_data,disc3,device)\n",
    "sanityChecks.discProbVsError(test_data,disc3,device)"
   ]
  },
  {
   "cell_type": "markdown",
   "id": "0e67bd14",
   "metadata": {
    "id": "130f3a4d",
    "papermill": {
     "duration": 0.032464,
     "end_time": "2022-07-24T21:24:05.256244",
     "exception": false,
     "start_time": "2022-07-24T21:24:05.223780",
     "status": "completed"
    },
    "tags": []
   },
   "source": [
    "# skipGAN Model with TabNet Generator"
   ]
  },
  {
   "cell_type": "code",
   "execution_count": 23,
   "id": "e102cba8",
   "metadata": {
    "execution": {
     "iopub.execute_input": "2022-07-24T21:24:05.328892Z",
     "iopub.status.busy": "2022-07-24T21:24:05.328540Z",
     "iopub.status.idle": "2022-07-24T21:24:05.356477Z",
     "shell.execute_reply": "2022-07-24T21:24:05.353227Z"
    },
    "id": "4e43dad1",
    "papermill": {
     "duration": 0.076047,
     "end_time": "2022-07-24T21:24:05.365018",
     "exception": false,
     "start_time": "2022-07-24T21:24:05.288971",
     "status": "completed"
    },
    "tags": []
   },
   "outputs": [],
   "source": [
    "#Generator\n",
    "gen4 = network.GeneratorTabnetskipConnection(n_features+1).to(device)\n",
    "constraints=network.weightConstraint()\n",
    "#Discriminator \n",
    "disc4 = network.Discriminator(n_features+1).to(device)\n",
    "\n",
    "criterion = torch.nn.BCELoss()\n",
    "gen_opt = torch.optim.Adam(gen4.parameters(), lr=0.01, betas=(0.5, 0.999))\n",
    "disc_opt = torch.optim.Adam(disc4.parameters(), lr=0.01, betas=(0.5, 0.999))\n"
   ]
  },
  {
   "cell_type": "code",
   "execution_count": 24,
   "id": "f2e08fd4",
   "metadata": {
    "execution": {
     "iopub.execute_input": "2022-07-24T21:24:05.445021Z",
     "iopub.status.busy": "2022-07-24T21:24:05.444589Z",
     "iopub.status.idle": "2022-07-24T21:46:34.914833Z",
     "shell.execute_reply": "2022-07-24T21:46:34.912581Z"
    },
    "id": "26acbc37",
    "papermill": {
     "duration": 1349.519724,
     "end_time": "2022-07-24T21:46:34.920859",
     "exception": false,
     "start_time": "2022-07-24T21:24:05.401135",
     "status": "completed"
    },
    "tags": []
   },
   "outputs": [
    {
     "data": {
      "image/png": "[encoded data removed]",
      "text/plain": [
       "<Figure size 432x288 with 1 Axes>"
      ]
     },
     "metadata": {
      "needs_background": "light"
     },
     "output_type": "display_data"
    },
    {
     "data": {
      "image/png": "[encoded data removed]",
      "text/plain": [
       "<Figure size 432x288 with 1 Axes>"
      ]
     },
     "metadata": {
      "needs_background": "light"
     },
     "output_type": "display_data"
    }
   ],
   "source": [
    "ABC_train_test2.training_GAN_skip_connection(disc4,gen4,disc_opt,gen_opt,train_data,batch_size,n_epochs,criterion,prior_model,variance,bias,device)"
   ]
  },
  {
   "cell_type": "code",
   "execution_count": 25,
   "id": "4bd53a5e",
   "metadata": {
    "execution": {
     "iopub.execute_input": "2022-07-24T21:46:34.971894Z",
     "iopub.status.busy": "2022-07-24T21:46:34.970037Z",
     "iopub.status.idle": "2022-07-24T21:46:38.615355Z",
     "shell.execute_reply": "2022-07-24T21:46:38.612896Z"
    },
    "id": "c5e0717b",
    "papermill": {
     "duration": 3.674996,
     "end_time": "2022-07-24T21:46:38.618414",
     "exception": false,
     "start_time": "2022-07-24T21:46:34.943418",
     "status": "completed"
    },
    "tags": []
   },
   "outputs": [
    {
     "data": {
      "application/scrapbook.scrap.json+json": {
       "data": 0.0009481804526620591,
       "encoder": "json",
       "name": "ABC-GAN Model 3 MSE",
       "version": 1
      }
     },
     "metadata": {
      "scrapbook": {
       "data": true,
       "display": false,
       "name": "ABC-GAN Model 3 MSE"
      }
     },
     "output_type": "display_data"
    },
    {
     "data": {
      "application/scrapbook.scrap.json+json": {
       "data": 0.023349933361078237,
       "encoder": "json",
       "name": "ABC-GAN Model 3 MAE",
       "version": 1
      }
     },
     "metadata": {
      "scrapbook": {
       "data": true,
       "display": false,
       "name": "ABC-GAN Model 3 MAE"
      }
     },
     "output_type": "display_data"
    },
    {
     "data": {
      "application/scrapbook.scrap.json+json": {
       "data": 3.595889737606049,
       "encoder": "json",
       "name": "ABC-GAN Model 3 Manhattan Distance",
       "version": 1
      }
     },
     "metadata": {
      "scrapbook": {
       "data": true,
       "display": false,
       "name": "ABC-GAN Model 3 Manhattan Distance"
      }
     },
     "output_type": "display_data"
    },
    {
     "data": {
      "application/scrapbook.scrap.json+json": {
       "data": 0.3819811854820599,
       "encoder": "json",
       "name": "ABC-GAN Model 3 Euclidean distance",
       "version": 1
      }
     },
     "metadata": {
      "scrapbook": {
       "data": true,
       "display": false,
       "name": "ABC-GAN Model 3 Euclidean distance"
      }
     },
     "output_type": "display_data"
    },
    {
     "data": {
      "application/scrapbook.scrap.json+json": {
       "data": [
        [
         0.0009328040519180982,
         0.0009921549869303654,
         0.0009908024442212265,
         0.001067678092656108,
         0.0009979413825445106,
         0.0008365377094310076,
         0.0009841408766747904,
         0.000959466502692283,
         0.0009738800195385171,
         0.0009512423363428234,
         0.000998711819204437,
         0.0009559452276633502,
         0.0009365093533583547,
         0.0010234349623198572,
         0.0009013463310239022,
         0.0009334881138978576,
         0.0009619873551501088,
         0.000954709189318609,
         0.0009767049347368815,
         0.0009935775359187422,
         0.0008913664471679677,
         0.0010217307291420638,
         0.0009591407138195032,
         0.0009726790427688607,
         0.0009617178740603855,
         0.0009687759606994825,
         0.0008989740655117508,
         0.00096457018004842,
         0.0010478227354088084,
         0.0010297173272171556,
         0.0009198889332343459,
         0.0010143099724612675,
         0.0009051521855748483,
         0.001032367390324861,
         0.000917250247394147,
         0.0009805443000561393,
         0.0009468944407419167,
         0.0009737534586405823,
         0.0009933922083235778,
         0.0010061231927118747,
         0.0009204122042980045,
         0.0009685214451554803,
         0.0008428629903926522,
         0.0009336165532284328,
         0.0010003067051271484,
         0.000995764444738049,
         0.0009844212363178857,
         0.000970002526882404,
         0.0008699721554946585,
         0.0009889134260204506,
         0.0010201254075114807,
         0.0008892035833581302,
         0.0009484647274242614,
         0.0009721825567234491,
         0.0009733957283357917,
         0.0010159495417396695,
         0.000939697826447438,
         0.0009670634760766085,
         0.0009337207259932237,
         0.0009143819785184548,
         0.0008855513146962153,
         0.0009584620724916408,
         0.0008687076170809274,
         0.0009294387070957885,
         0.0009012561252612963,
         0.0009158638913380969,
         0.000902522271832531,
         0.000921108952844694,
         0.0009124255827988203,
         0.0009307901749026089,
         0.0008534473666922916,
         0.0010225065876340474,
         0.0009911385419666934,
         0.000986326877689478,
         0.0009389194194254584,
         0.0009752234308887985,
         0.00093571159901253,
         0.0008958275759698722,
         0.0009915875296746279,
         0.0008879119796214593,
         0.0009699209834188659,
         0.0010428136317205165,
         0.0008677239992881111,
         0.0008599557955662614,
         0.0008713709065117554,
         0.0008916777734000967,
         0.0009117332088195807,
         0.0009138971149375041,
         0.0010234564102786252,
         0.0008802872973260715,
         0.0009545286566240062,
         0.0009722407225676495,
         0.0009032864110451784,
         0.0009680342597773483,
         0.0009103153825368495,
         0.0009096838025272192,
         0.0007838965720130838,
         0.000936787872857393,
         0.0009326358198970304,
         0.0009308571555414177
        ],
        [
         0.023139152433965113,
         0.022988304786093823,
         0.02396162710600085,
         0.025420692688845968,
         0.023658140235907073,
         0.022007447558564024,
         0.023656985879718484,
         0.023423078675548752,
         0.02345346388491717,
         0.023810022111449922,
         0.023780457143272673,
         0.02324466450841396,
         0.023298260598600684,
         0.024967616544915486,
         0.022636582421792017,
         0.023992622634033105,
         0.02425433811429259,
         0.022629513417358523,
         0.022863679601774586,
         0.02389698867480476,
         0.022195200399531947,
         0.024203881669741172,
         0.023454854434186764,
         0.024462326103216643,
         0.023643757664151006,
         0.023701242667126966,
         0.02160350794528986,
         0.024125379788411127,
         0.025347066438430314,
         0.024683657356283882,
         0.023391947392132375,
         0.023581956936554474,
         0.023170322663598246,
         0.02385745250752994,
         0.022701496524470195,
         0.02344208950926731,
         0.02245113988975426,
         0.02317255570904001,
         0.02413865996452121,
         0.02434067195886141,
         0.02327092078986106,
         0.02431292212628699,
         0.021982625320360258,
         0.0231916012315007,
         0.023773483061171198,
         0.02431074060596429,
         0.023991719323706317,
         0.023515317492283784,
         0.022319451651789925,
         0.024368667418693566,
         0.024125218197896883,
         0.02231341716531035,
         0.022624151224826836,
         0.023854740447812266,
         0.023431413746499395,
         0.02402013757979715,
         0.022353915279948865,
         0.023766581888322705,
         0.023234881557427443,
         0.023032663801273744,
         0.022227435142962965,
         0.023951920886318406,
         0.021555556637513174,
         0.02325453735017157,
         0.022952134394413466,
         0.02292656661434607,
         0.022912112584748824,
         0.022828481075438587,
         0.022131091007938634,
         0.02295228098700573,
         0.02250781427923735,
         0.024543422334767008,
         0.023595210309926565,
         0.023737713404290088,
         0.02341418834282206,
         0.023811953698659873,
         0.022931331454159376,
         0.022229565767111718,
         0.023953481686192674,
         0.02189327079754371,
         0.023759375241669742,
         0.024660520594228397,
         0.0227209474746283,
         0.02167251759341785,
         0.022530765550864206,
         0.023153924371127958,
         0.023293529189639277,
         0.023068397027718558,
         0.02456015498413668,
         0.022503909110635906,
         0.024412447755986996,
         0.02408147719386336,
         0.022616606979788123,
         0.024492035728770418,
         0.02271196405802454,
         0.022876335283765543,
         0.021588052828590592,
         0.023202071764639447,
         0.02288805054766791,
         0.02334280761998969
        ],
        [
         3.5634294748306274,
         3.540198937058449,
         3.690090574324131,
         3.914786674082279,
         3.643353596329689,
         3.38914692401886,
         3.6431758254766464,
         3.6071541160345078,
         3.6118334382772446,
         3.666743405163288,
         3.6621904000639915,
         3.5796783342957497,
         3.5879321321845055,
         3.8450129479169846,
         3.4860336929559708,
         3.694863885641098,
         3.735168069601059,
         3.4849450662732124,
         3.5210066586732864,
         3.6801362559199333,
         3.4180608615279198,
         3.7273977771401405,
         3.6120475828647614,
         3.767198219895363,
         3.641138680279255,
         3.6499913707375526,
         3.3269402235746384,
         3.7153084874153137,
         3.9034482315182686,
         3.8012832328677177,
         3.6023598983883858,
         3.631621368229389,
         3.56822969019413,
         3.6740476861596107,
         3.4960304647684097,
         3.610081784427166,
         3.4574755430221558,
         3.5685735791921616,
         3.7173536345362663,
         3.7484634816646576,
         3.583721801638603,
         3.7441900074481964,
         3.3853242993354797,
         3.571506589651108,
         3.6611163914203644,
         3.7438540533185005,
         3.694724775850773,
         3.6213588938117027,
         3.4371955543756485,
         3.7527747824788094,
         3.71528360247612,
         3.436266243457794,
         3.484119288623333,
         3.673630028963089,
         3.608437716960907,
         3.699101187288761,
         3.4425029531121254,
         3.6600536108016968,
         3.5781717598438263,
         3.5470302253961563,
         3.4230250120162964,
         3.6885958164930344,
         3.3195557221770287,
         3.581198751926422,
         3.5346286967396736,
         3.530691258609295,
         3.528465338051319,
         3.5155860856175423,
         3.4081880152225494,
         3.5346512719988823,
         3.466203399002552,
         3.779687039554119,
         3.633662387728691,
         3.6556078642606735,
         3.6057850047945976,
         3.6670408695936203,
         3.531425043940544,
         3.4233531281352043,
         3.6888361796736717,
         3.3715637028217316,
         3.65894378721714,
         3.7977201715111732,
         3.499025911092758,
         3.3375677093863487,
         3.469737894833088,
         3.5657043531537056,
         3.5872034952044487,
         3.5525331422686577,
         3.782263867557049,
         3.4656020030379295,
         3.759516954421997,
         3.7085474878549576,
         3.482957474887371,
         3.7717735022306442,
         3.4976424649357796,
         3.522955633699894,
         3.324560135602951,
         3.5731190517544746,
         3.5247597843408585,
         3.5947923734784126
        ],
        [
         0.37901427940829235,
         0.3908860038262771,
         0.3906194777658545,
         0.4054903528680314,
         0.3920241993957192,
         0.35892451469964426,
         0.3893041163511089,
         0.38439282175219086,
         0.3872693158629168,
         0.3827418448468822,
         0.39217549663063256,
         0.383686805950056,
         0.37976629710545223,
         0.39699998009730175,
         0.37256856412971956,
         0.379153226994404,
         0.38489745737419045,
         0.38343867196080494,
         0.3878305815036764,
         0.39116612906984455,
         0.37050024677976534,
         0.39666929839335663,
         0.38432755551508857,
         0.38703045433971284,
         0.38484354302144574,
         0.3862531526702666,
         0.3720779570047245,
         0.38541381361785243,
         0.40170225447830943,
         0.3982166098889422,
         0.3763813169089152,
         0.39522618303831436,
         0.3733543043524832,
         0.3987287023905209,
         0.375841107515794,
         0.38859210260714955,
         0.38186613344764575,
         0.3872441511897238,
         0.39112964613006646,
         0.3936279609956954,
         0.37648835235886474,
         0.3862024113776919,
         0.36027892044979326,
         0.37917931008584665,
         0.3924885126848694,
         0.3915963795665884,
         0.389359564404105,
         0.3864975926702393,
         0.3660269278976308,
         0.390246931579416,
         0.39635755670450895,
         0.3700504720131459,
         0.3821826369987735,
         0.3869316654596922,
         0.3871730132172333,
         0.39554548338706774,
         0.3804122307088791,
         0.3859116159378954,
         0.37920046387492257,
         0.3752530142341858,
         0.3692897269938837,
         0.38419156571131635,
         0.36576081396243476,
         0.37832996298568716,
         0.3725499205344696,
         0.37555697206424876,
         0.37281152055993355,
         0.3766308255282391,
         0.3748513568749863,
         0.3786049219635183,
         0.3625339907796411,
         0.3968198766388137,
         0.3906857246724927,
         0.38973624307238813,
         0.3802546391452977,
         0.3875363316604973,
         0.3796045129446298,
         0.37142623318683393,
         0.39077420535379853,
         0.3697816177985389,
         0.3864813468286734,
         0.40074093787004034,
         0.3655536840060145,
         0.36391371575856307,
         0.36632106082343985,
         0.37056494316599203,
         0.3747091060519019,
         0.3751535095136065,
         0.39700414000726525,
         0.36819049931824016,
         0.383402416685259,
         0.3869432403795394,
         0.37296931147342066,
         0.3861052654467582,
         0.3744176396895248,
         0.3742877310161151,
         0.34744794155386055,
         0.37982276448369773,
         0.3789801000898895,
         0.3786185441224166
        ]
       ],
       "encoder": "json",
       "name": "ABC_GAN_4 Metrics",
       "version": 1
      }
     },
     "metadata": {
      "scrapbook": {
       "data": true,
       "display": false,
       "name": "ABC_GAN_4 Metrics"
      }
     },
     "output_type": "display_data"
    },
    {
     "name": "stdout",
     "output_type": "stream",
     "text": [
      "MAE\n",
      "0.023349933361078237\n"
     ]
    }
   ],
   "source": [
    "ABC_GAN4_metrics=ABC_train_test2.test_generator(gen4,test_data,prior_model,variance,bias,\"3\",device)\n",
    "sb.glue(\"ABC_GAN_4 Metrics\",ABC_GAN4_metrics)\n",
    "\n",
    "print(\"MAE\")\n",
    "print(mean(ABC_GAN4_metrics[1]))"
   ]
  },
  {
   "cell_type": "code",
   "execution_count": 26,
   "id": "1c424b01",
   "metadata": {
    "execution": {
     "iopub.execute_input": "2022-07-24T21:46:38.700563Z",
     "iopub.status.busy": "2022-07-24T21:46:38.699642Z",
     "iopub.status.idle": "2022-07-24T21:46:40.819195Z",
     "shell.execute_reply": "2022-07-24T21:46:40.817461Z"
    },
    "id": "c8e46b48",
    "papermill": {
     "duration": 2.159859,
     "end_time": "2022-07-24T21:46:40.822473",
     "exception": false,
     "start_time": "2022-07-24T21:46:38.662614",
     "status": "completed"
    },
    "tags": []
   },
   "outputs": [
    {
     "data": {
      "image/png": "[encoded data removed]",
      "text/plain": [
       "<Figure size 432x288 with 1 Axes>"
      ]
     },
     "metadata": {
      "needs_background": "light"
     },
     "output_type": "display_data"
    },
    {
     "data": {
      "image/png": "[encoded data removed]",
      "text/plain": [
       "<Figure size 432x288 with 1 Axes>"
      ]
     },
     "metadata": {
      "needs_background": "light"
     },
     "output_type": "display_data"
    },
    {
     "data": {
      "image/png": "[encoded data removed]",
      "text/plain": [
       "<Figure size 432x288 with 1 Axes>"
      ]
     },
     "metadata": {
      "needs_background": "light"
     },
     "output_type": "display_data"
    },
    {
     "data": {
      "image/png": "[encoded data removed]",
      "text/plain": [
       "<Figure size 432x288 with 1 Axes>"
      ]
     },
     "metadata": {
      "needs_background": "light"
     },
     "output_type": "display_data"
    }
   ],
   "source": [
    "sanityChecks.discProbVsError(train_data,disc4,device)\n",
    "sanityChecks.discProbVsError(test_data,disc4,device)"
   ]
  },
  {
   "cell_type": "markdown",
   "id": "a5bd74c3",
   "metadata": {
    "id": "a5bd74c3",
    "papermill": {
     "duration": 0.039015,
     "end_time": "2022-07-24T21:46:40.902895",
     "exception": false,
     "start_time": "2022-07-24T21:46:40.863880",
     "status": "completed"
    },
    "tags": []
   },
   "source": [
    "## Skip Connection Model Analysis - ABC-GAN "
   ]
  },
  {
   "cell_type": "markdown",
   "id": "5744a8bf",
   "metadata": {
    "id": "5744a8bf",
    "papermill": {
     "duration": 0.031885,
     "end_time": "2022-07-24T21:46:40.967594",
     "exception": false,
     "start_time": "2022-07-24T21:46:40.935709",
     "status": "completed"
    },
    "tags": []
   },
   "source": [
    "### Weight Analysis \n",
    "\n",
    "Study the weights of the skip connection layer\n",
    "\n",
    "Equation of the skip connection is \n",
    "\n",
    "$output = y_{gan} * w + y_{abc} * (1-w)$"
   ]
  },
  {
   "cell_type": "code",
   "execution_count": 27,
   "id": "52c31dea",
   "metadata": {
    "execution": {
     "iopub.execute_input": "2022-07-24T21:46:41.041072Z",
     "iopub.status.busy": "2022-07-24T21:46:41.040146Z",
     "iopub.status.idle": "2022-07-24T21:46:41.121681Z",
     "shell.execute_reply": "2022-07-24T21:46:41.118477Z"
    },
    "id": "52c31dea",
    "papermill": {
     "duration": 0.128197,
     "end_time": "2022-07-24T21:46:41.131709",
     "exception": false,
     "start_time": "2022-07-24T21:46:41.003512",
     "status": "completed"
    },
    "tags": []
   },
   "outputs": [
    {
     "name": "stdout",
     "output_type": "stream",
     "text": [
      "Weight of the node at skip connection\n",
      "Parameter containing:\n",
      "tensor([[0.0184]], requires_grad=True)\n"
     ]
    },
    {
     "data": {
      "application/scrapbook.scrap.json+json": {
       "data": 0.018445972353219986,
       "encoder": "json",
       "name": "Skip Connection Weight",
       "version": 1
      }
     },
     "metadata": {
      "scrapbook": {
       "data": true,
       "display": false,
       "name": "Skip Connection Weight"
      }
     },
     "output_type": "display_data"
    }
   ],
   "source": [
    "print(\"Weight of the node at skip connection\")\n",
    "for name,param in gen3.named_parameters():\n",
    "    if(name == \"skipNode.weight\"):\n",
    "        print(param)\n",
    "        sb.glue(\"Skip Connection Weight\",param.item())"
   ]
  },
  {
   "cell_type": "markdown",
   "id": "9e2a8410",
   "metadata": {
    "id": "a5bd74c3",
    "papermill": {
     "duration": 0.030817,
     "end_time": "2022-07-24T21:46:41.205742",
     "exception": false,
     "start_time": "2022-07-24T21:46:41.174925",
     "status": "completed"
    },
    "tags": []
   },
   "source": [
    "## skipGAN Model Analysis (TabNet Generator) "
   ]
  },
  {
   "cell_type": "markdown",
   "id": "d2eee67b",
   "metadata": {
    "id": "5744a8bf",
    "papermill": {
     "duration": 0.026948,
     "end_time": "2022-07-24T21:46:41.258471",
     "exception": false,
     "start_time": "2022-07-24T21:46:41.231523",
     "status": "completed"
    },
    "tags": []
   },
   "source": [
    "### Weight Analysis \n",
    "\n",
    "Study the weights of the skip connection layer\n",
    "\n",
    "Equation of the skip connection is \n",
    "\n",
    "$output = y_{gan} * w + y_{abc} * (1-w)$"
   ]
  },
  {
   "cell_type": "code",
   "execution_count": 28,
   "id": "a6cf2042",
   "metadata": {
    "execution": {
     "iopub.execute_input": "2022-07-24T21:46:41.316986Z",
     "iopub.status.busy": "2022-07-24T21:46:41.316361Z",
     "iopub.status.idle": "2022-07-24T21:46:41.336056Z",
     "shell.execute_reply": "2022-07-24T21:46:41.334280Z"
    },
    "id": "52c31dea",
    "papermill": {
     "duration": 0.057448,
     "end_time": "2022-07-24T21:46:41.342865",
     "exception": false,
     "start_time": "2022-07-24T21:46:41.285417",
     "status": "completed"
    },
    "tags": []
   },
   "outputs": [
    {
     "name": "stdout",
     "output_type": "stream",
     "text": [
      "Weight of the node at skip connection\n",
      "Parameter containing:\n",
      "tensor([[0.]], requires_grad=True)\n"
     ]
    },
    {
     "data": {
      "application/scrapbook.scrap.json+json": {
       "data": 0.0,
       "encoder": "json",
       "name": "Skip Connection Weight",
       "version": 1
      }
     },
     "metadata": {
      "scrapbook": {
       "data": true,
       "display": false,
       "name": "Skip Connection Weight"
      }
     },
     "output_type": "display_data"
    }
   ],
   "source": [
    "print(\"Weight of the node at skip connection\")\n",
    "for name,param in gen4.named_parameters():\n",
    "    if(name == \"skipNode.weight\"):\n",
    "        print(param)\n",
    "        sb.glue(\"Skip Connection Weight\",param.item())"
   ]
  }
 ],
 "metadata": {
  "colab": {
   "collapsed_sections": [],
   "name": "ABC_GAN_Model-Catboost_Pre-gen.ipynb",
   "provenance": []
  },
  "interpreter": {
   "hash": "31f2aee4e71d21fbe5cf8b01ff0e069b9275f58929596ceb00d14d90e3e16cd6"
  },
  "kernelspec": {
   "display_name": "Python 3 (ipykernel)",
   "language": "python",
   "name": "python3"
  },
  "language_info": {
   "codemirror_mode": {
    "name": "ipython",
    "version": 3
   },
   "file_extension": ".py",
   "mimetype": "text/x-python",
   "name": "python",
   "nbconvert_exporter": "python",
   "pygments_lexer": "ipython3",
   "version": "3.8.13"
  },
  "papermill": {
   "default_parameters": {},
   "duration": 2888.867181,
   "end_time": "2022-07-24T21:46:43.157676",
   "environment_variables": {},
   "exception": null,
   "input_path": "ABC_GAN-Catboost.ipynb",
   "output_path": "./ABC_GAN_Catboost/ABC-GAN_output_1_8.ipynb",
   "parameters": {
    "bias": 0.01,
    "variance": 0.01
   },
   "start_time": "2022-07-24T20:58:34.290495",
   "version": "2.3.3"
  }
 },
 "nbformat": 4,
 "nbformat_minor": 5
}