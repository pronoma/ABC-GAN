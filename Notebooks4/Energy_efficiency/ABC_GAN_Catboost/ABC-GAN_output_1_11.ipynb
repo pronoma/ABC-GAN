{
 "cells": [
  {
   "cell_type": "markdown",
   "id": "622780e6",
   "metadata": {
    "id": "622780e6",
    "papermill": {
     "duration": 0.007363,
     "end_time": "2022-07-24T23:21:14.108991",
     "exception": false,
     "start_time": "2022-07-24T23:21:14.101628",
     "status": "completed"
    },
    "tags": []
   },
   "source": [
    "## Import Libraries "
   ]
  },
  {
   "cell_type": "code",
   "execution_count": 1,
   "id": "a62397e3",
   "metadata": {
    "execution": {
     "iopub.execute_input": "2022-07-24T23:21:14.125333Z",
     "iopub.status.busy": "2022-07-24T23:21:14.124787Z",
     "iopub.status.idle": "2022-07-24T23:21:14.136606Z",
     "shell.execute_reply": "2022-07-24T23:21:14.135795Z"
    },
    "id": "a62397e3",
    "papermill": {
     "duration": 0.023642,
     "end_time": "2022-07-24T23:21:14.139564",
     "exception": false,
     "start_time": "2022-07-24T23:21:14.115922",
     "status": "completed"
    },
    "tags": []
   },
   "outputs": [],
   "source": [
    "import warnings\n",
    "import sys\n",
    "sys.path.insert(0, '../../src')\n",
    "warnings.filterwarnings('ignore')"
   ]
  },
  {
   "cell_type": "code",
   "execution_count": 2,
   "id": "d6a4e155",
   "metadata": {
    "execution": {
     "iopub.execute_input": "2022-07-24T23:21:14.157292Z",
     "iopub.status.busy": "2022-07-24T23:21:14.156690Z",
     "iopub.status.idle": "2022-07-24T23:21:21.593723Z",
     "shell.execute_reply": "2022-07-24T23:21:21.591543Z"
    },
    "id": "d6a4e155",
    "papermill": {
     "duration": 7.45237,
     "end_time": "2022-07-24T23:21:21.599144",
     "exception": false,
     "start_time": "2022-07-24T23:21:14.146774",
     "status": "completed"
    },
    "tags": []
   },
   "outputs": [],
   "source": [
    "import ABC_train_test2\n",
    "import energyefficiencyDataset\n",
    "import network\n",
    "import dataset\n",
    "import sanityChecks\n",
    "import torch \n",
    "import scrapbook as sb\n",
    "from statistics import mean \n",
    "import catboost as ctb \n",
    "from sklearn.model_selection import train_test_split\n",
    "from sklearn.metrics import mean_squared_error,mean_absolute_error\n",
    "import numpy as np"
   ]
  },
  {
   "cell_type": "markdown",
   "id": "2fa5b0f7",
   "metadata": {
    "id": "2fa5b0f7",
    "papermill": {
     "duration": 0.00899,
     "end_time": "2022-07-24T23:21:21.621842",
     "exception": false,
     "start_time": "2022-07-24T23:21:21.612852",
     "status": "completed"
    },
    "tags": []
   },
   "source": [
    "## Parameters "
   ]
  },
  {
   "cell_type": "code",
   "execution_count": 3,
   "id": "783186fb",
   "metadata": {
    "execution": {
     "iopub.execute_input": "2022-07-24T23:21:21.638135Z",
     "iopub.status.busy": "2022-07-24T23:21:21.637788Z",
     "iopub.status.idle": "2022-07-24T23:21:21.642647Z",
     "shell.execute_reply": "2022-07-24T23:21:21.641505Z"
    },
    "id": "783186fb",
    "papermill": {
     "duration": 0.017868,
     "end_time": "2022-07-24T23:21:21.646908",
     "exception": false,
     "start_time": "2022-07-24T23:21:21.629040",
     "status": "completed"
    },
    "tags": [
     "parameters"
    ]
   },
   "outputs": [],
   "source": [
    "variance = 1\n",
    "bias = 1 "
   ]
  },
  {
   "cell_type": "code",
   "execution_count": 4,
   "id": "54db0f3d",
   "metadata": {
    "execution": {
     "iopub.execute_input": "2022-07-24T23:21:21.662498Z",
     "iopub.status.busy": "2022-07-24T23:21:21.662062Z",
     "iopub.status.idle": "2022-07-24T23:21:21.667938Z",
     "shell.execute_reply": "2022-07-24T23:21:21.666937Z"
    },
    "papermill": {
     "duration": 0.017352,
     "end_time": "2022-07-24T23:21:21.671082",
     "exception": false,
     "start_time": "2022-07-24T23:21:21.653730",
     "status": "completed"
    },
    "tags": [
     "injected-parameters"
    ]
   },
   "outputs": [],
   "source": [
    "# Parameters\n",
    "variance = 0.01\n",
    "bias = 0\n"
   ]
  },
  {
   "cell_type": "markdown",
   "id": "391cdbfd",
   "metadata": {
    "id": "391cdbfd",
    "papermill": {
     "duration": 0.00779,
     "end_time": "2022-07-24T23:21:21.686313",
     "exception": false,
     "start_time": "2022-07-24T23:21:21.678523",
     "status": "completed"
    },
    "tags": []
   },
   "source": [
    "## Dataset \n"
   ]
  },
  {
   "cell_type": "code",
   "execution_count": 5,
   "id": "5b51f161",
   "metadata": {
    "execution": {
     "iopub.execute_input": "2022-07-24T23:21:21.707461Z",
     "iopub.status.busy": "2022-07-24T23:21:21.706002Z",
     "iopub.status.idle": "2022-07-24T23:21:21.713202Z",
     "shell.execute_reply": "2022-07-24T23:21:21.711669Z"
    },
    "id": "5b51f161",
    "papermill": {
     "duration": 0.021692,
     "end_time": "2022-07-24T23:21:21.716196",
     "exception": false,
     "start_time": "2022-07-24T23:21:21.694504",
     "status": "completed"
    },
    "tags": []
   },
   "outputs": [],
   "source": [
    "#Parameters \n",
    "n_features = 8\n",
    "n_samples= 768\n",
    "n_target = 1 "
   ]
  },
  {
   "cell_type": "code",
   "execution_count": 6,
   "id": "5d6eced4",
   "metadata": {
    "execution": {
     "iopub.execute_input": "2022-07-24T23:21:21.733734Z",
     "iopub.status.busy": "2022-07-24T23:21:21.733372Z",
     "iopub.status.idle": "2022-07-24T23:21:22.392205Z",
     "shell.execute_reply": "2022-07-24T23:21:22.390618Z"
    },
    "id": "5d6eced4",
    "papermill": {
     "duration": 0.671486,
     "end_time": "2022-07-24T23:21:22.395272",
     "exception": false,
     "start_time": "2022-07-24T23:21:21.723786",
     "status": "completed"
    },
    "tags": []
   },
   "outputs": [
    {
     "name": "stdout",
     "output_type": "stream",
     "text": [
      "     X1     X2     X3      X4   X5  X6   X7  X8     Y1     Y2\n",
      "0  0.98  514.5  294.0  110.25  7.0   2  0.0   0  15.55  21.33\n",
      "1  0.98  514.5  294.0  110.25  7.0   3  0.0   0  15.55  21.33\n",
      "2  0.98  514.5  294.0  110.25  7.0   4  0.0   0  15.55  21.33\n",
      "3  0.98  514.5  294.0  110.25  7.0   5  0.0   0  15.55  21.33\n",
      "4  0.90  563.5  318.5  122.50  7.0   2  0.0   0  20.84  28.28\n"
     ]
    }
   ],
   "source": [
    "X,Y = energyefficiencyDataset.energy_data()"
   ]
  },
  {
   "cell_type": "code",
   "execution_count": 7,
   "id": "fe007438",
   "metadata": {
    "execution": {
     "iopub.execute_input": "2022-07-24T23:21:22.427061Z",
     "iopub.status.busy": "2022-07-24T23:21:22.426667Z",
     "iopub.status.idle": "2022-07-24T23:21:22.433928Z",
     "shell.execute_reply": "2022-07-24T23:21:22.432969Z"
    },
    "id": "fe007438",
    "papermill": {
     "duration": 0.030056,
     "end_time": "2022-07-24T23:21:22.436829",
     "exception": false,
     "start_time": "2022-07-24T23:21:22.406773",
     "status": "completed"
    },
    "tags": []
   },
   "outputs": [],
   "source": [
    "#Train test split for dataset \n",
    "X_train,X_test,Y_train,Y_test = train_test_split(X,Y,test_size = 0.2)\n",
    "train_data = dataset.CustomDataset(X_train,Y_train)\n",
    "test_data = dataset.CustomDataset(X_test,Y_test)\n"
   ]
  },
  {
   "cell_type": "markdown",
   "id": "a9a1af34",
   "metadata": {
    "id": "a9a1af34",
    "papermill": {
     "duration": 0.008046,
     "end_time": "2022-07-24T23:21:22.453535",
     "exception": false,
     "start_time": "2022-07-24T23:21:22.445489",
     "status": "completed"
    },
    "tags": []
   },
   "source": [
    "## Training Parameters "
   ]
  },
  {
   "cell_type": "code",
   "execution_count": 8,
   "id": "952b7fc8",
   "metadata": {
    "execution": {
     "iopub.execute_input": "2022-07-24T23:21:22.475838Z",
     "iopub.status.busy": "2022-07-24T23:21:22.475042Z",
     "iopub.status.idle": "2022-07-24T23:21:22.481106Z",
     "shell.execute_reply": "2022-07-24T23:21:22.479605Z"
    },
    "id": "952b7fc8",
    "papermill": {
     "duration": 0.01911,
     "end_time": "2022-07-24T23:21:22.484377",
     "exception": false,
     "start_time": "2022-07-24T23:21:22.465267",
     "status": "completed"
    },
    "tags": []
   },
   "outputs": [],
   "source": [
    "batch_size = 32\n",
    "n_epochs = 1000\n",
    "#Select the device \n",
    "device = torch.device('cuda' if torch.cuda.is_available() else 'cpu')"
   ]
  },
  {
   "cell_type": "markdown",
   "id": "a95e1600",
   "metadata": {
    "id": "a95e1600",
    "papermill": {
     "duration": 0.015843,
     "end_time": "2022-07-24T23:21:22.509398",
     "exception": false,
     "start_time": "2022-07-24T23:21:22.493555",
     "status": "completed"
    },
    "tags": []
   },
   "source": [
    "# ABC Pre-generator Model \n",
    "\n",
    "1. The catboost model is used as a pre-generator model for the ABC-GAN. \n",
    "2. The model is first trained on the entire dataset \n",
    "3. It generats X,Y pairs and we add some Gaussian noise with mean 0 and variance 1 to it which is then feed as input to the generator.\n"
   ]
  },
  {
   "cell_type": "code",
   "execution_count": 9,
   "id": "ff8ce7bd",
   "metadata": {
    "execution": {
     "iopub.execute_input": "2022-07-24T23:21:22.532800Z",
     "iopub.status.busy": "2022-07-24T23:21:22.531988Z",
     "iopub.status.idle": "2022-07-24T23:21:23.443228Z",
     "shell.execute_reply": "2022-07-24T23:21:23.442558Z"
    },
    "id": "ff8ce7bd",
    "papermill": {
     "duration": 0.924282,
     "end_time": "2022-07-24T23:21:23.446258",
     "exception": false,
     "start_time": "2022-07-24T23:21:22.521976",
     "status": "completed"
    },
    "tags": []
   },
   "outputs": [
    {
     "name": "stdout",
     "output_type": "stream",
     "text": [
      "Learning rate set to 0.037906\n"
     ]
    },
    {
     "name": "stdout",
     "output_type": "stream",
     "text": [
      "0:\tlearn: 0.9772296\ttotal: 52.5ms\tremaining: 52.5s\n",
      "1:\tlearn: 0.9446052\ttotal: 53.5ms\tremaining: 26.7s\n",
      "2:\tlearn: 0.9133242\ttotal: 54.2ms\tremaining: 18s\n",
      "3:\tlearn: 0.8824793\ttotal: 54.8ms\tremaining: 13.6s\n",
      "4:\tlearn: 0.8572609\ttotal: 55.2ms\tremaining: 11s\n",
      "5:\tlearn: 0.8290322\ttotal: 55.9ms\tremaining: 9.26s\n",
      "6:\tlearn: 0.8061598\ttotal: 56.2ms\tremaining: 7.97s\n",
      "7:\tlearn: 0.7827702\ttotal: 56.7ms\tremaining: 7.03s\n",
      "8:\tlearn: 0.7566379\ttotal: 57.3ms\tremaining: 6.31s\n",
      "9:\tlearn: 0.7329276\ttotal: 58ms\tremaining: 5.74s\n",
      "10:\tlearn: 0.7094982\ttotal: 58.3ms\tremaining: 5.24s\n",
      "11:\tlearn: 0.6864036\ttotal: 58.5ms\tremaining: 4.82s\n",
      "12:\tlearn: 0.6674702\ttotal: 59.1ms\tremaining: 4.49s\n",
      "13:\tlearn: 0.6484519\ttotal: 59.9ms\tremaining: 4.22s\n",
      "14:\tlearn: 0.6278600\ttotal: 60.2ms\tremaining: 3.96s\n",
      "15:\tlearn: 0.6092561\ttotal: 60.7ms\tremaining: 3.73s\n",
      "16:\tlearn: 0.5900883\ttotal: 61.7ms\tremaining: 3.56s\n",
      "17:\tlearn: 0.5727586\ttotal: 62.4ms\tremaining: 3.4s\n",
      "18:\tlearn: 0.5560034\ttotal: 62.9ms\tremaining: 3.25s\n",
      "19:\tlearn: 0.5404492\ttotal: 63.8ms\tremaining: 3.13s\n",
      "20:\tlearn: 0.5250116\ttotal: 64.8ms\tremaining: 3.02s\n",
      "21:\tlearn: 0.5099250\ttotal: 65.8ms\tremaining: 2.92s\n",
      "22:\tlearn: 0.4945497\ttotal: 66.4ms\tremaining: 2.82s\n",
      "23:\tlearn: 0.4814040\ttotal: 67.5ms\tremaining: 2.75s\n",
      "24:\tlearn: 0.4683776\ttotal: 68.6ms\tremaining: 2.68s\n",
      "25:\tlearn: 0.4540839\ttotal: 69.7ms\tremaining: 2.61s\n",
      "26:\tlearn: 0.4399847\ttotal: 71ms\tremaining: 2.56s\n",
      "27:\tlearn: 0.4289199\ttotal: 72.1ms\tremaining: 2.5s\n",
      "28:\tlearn: 0.4159945\ttotal: 73.1ms\tremaining: 2.45s\n",
      "29:\tlearn: 0.4049460\ttotal: 74.2ms\tremaining: 2.4s\n",
      "30:\tlearn: 0.3922721\ttotal: 75.1ms\tremaining: 2.35s\n",
      "31:\tlearn: 0.3798598\ttotal: 76.1ms\tremaining: 2.3s\n",
      "32:\tlearn: 0.3694339\ttotal: 76.9ms\tremaining: 2.25s\n",
      "33:\tlearn: 0.3588275\ttotal: 77.6ms\tremaining: 2.21s\n",
      "34:\tlearn: 0.3489431\ttotal: 78.2ms\tremaining: 2.16s\n",
      "35:\tlearn: 0.3400078\ttotal: 78.7ms\tremaining: 2.11s\n",
      "36:\tlearn: 0.3303855\ttotal: 79.3ms\tremaining: 2.06s\n",
      "37:\tlearn: 0.3203812\ttotal: 79.9ms\tremaining: 2.02s\n",
      "38:\tlearn: 0.3116108\ttotal: 80.5ms\tremaining: 1.98s\n",
      "39:\tlearn: 0.3034786\ttotal: 81.1ms\tremaining: 1.95s\n",
      "40:\tlearn: 0.2955123\ttotal: 81.8ms\tremaining: 1.91s\n",
      "41:\tlearn: 0.2881360\ttotal: 82.3ms\tremaining: 1.88s\n",
      "42:\tlearn: 0.2803014\ttotal: 82.9ms\tremaining: 1.84s\n",
      "43:\tlearn: 0.2725620\ttotal: 83.5ms\tremaining: 1.81s\n",
      "44:\tlearn: 0.2656663\ttotal: 84ms\tremaining: 1.78s\n",
      "45:\tlearn: 0.2582355\ttotal: 84.8ms\tremaining: 1.76s\n",
      "46:\tlearn: 0.2516660\ttotal: 85.2ms\tremaining: 1.73s\n",
      "47:\tlearn: 0.2457281\ttotal: 85.7ms\tremaining: 1.7s\n",
      "48:\tlearn: 0.2389047\ttotal: 86.3ms\tremaining: 1.67s\n",
      "49:\tlearn: 0.2323375\ttotal: 86.7ms\tremaining: 1.65s\n",
      "50:\tlearn: 0.2267559\ttotal: 87.2ms\tremaining: 1.62s\n",
      "51:\tlearn: 0.2210542\ttotal: 87.7ms\tremaining: 1.6s\n",
      "52:\tlearn: 0.2153045\ttotal: 88.2ms\tremaining: 1.58s\n",
      "53:\tlearn: 0.2092267\ttotal: 88.8ms\tremaining: 1.55s\n",
      "54:\tlearn: 0.2038997\ttotal: 89.3ms\tremaining: 1.53s\n",
      "55:\tlearn: 0.1980406\ttotal: 89.9ms\tremaining: 1.51s\n",
      "56:\tlearn: 0.1928958\ttotal: 90.3ms\tremaining: 1.49s\n",
      "57:\tlearn: 0.1883012\ttotal: 90.9ms\tremaining: 1.48s\n",
      "58:\tlearn: 0.1830139\ttotal: 91.5ms\tremaining: 1.46s\n",
      "59:\tlearn: 0.1786056\ttotal: 92.1ms\tremaining: 1.44s\n",
      "60:\tlearn: 0.1744304\ttotal: 92.5ms\tremaining: 1.42s\n",
      "61:\tlearn: 0.1712669\ttotal: 93ms\tremaining: 1.41s\n",
      "62:\tlearn: 0.1672864\ttotal: 93.7ms\tremaining: 1.39s\n",
      "63:\tlearn: 0.1631648\ttotal: 94.1ms\tremaining: 1.38s\n",
      "64:\tlearn: 0.1589538\ttotal: 94.7ms\tremaining: 1.36s\n",
      "65:\tlearn: 0.1547723\ttotal: 95.2ms\tremaining: 1.35s\n",
      "66:\tlearn: 0.1511187\ttotal: 95.7ms\tremaining: 1.33s\n",
      "67:\tlearn: 0.1473124\ttotal: 96.2ms\tremaining: 1.32s\n",
      "68:\tlearn: 0.1436654\ttotal: 96.7ms\tremaining: 1.3s\n",
      "69:\tlearn: 0.1400298\ttotal: 97.2ms\tremaining: 1.29s\n",
      "70:\tlearn: 0.1366257\ttotal: 97.8ms\tremaining: 1.28s\n",
      "71:\tlearn: 0.1341949\ttotal: 98.3ms\tremaining: 1.27s\n",
      "72:\tlearn: 0.1307692\ttotal: 98.8ms\tremaining: 1.25s\n",
      "73:\tlearn: 0.1286123\ttotal: 99.2ms\tremaining: 1.24s\n",
      "74:\tlearn: 0.1257915\ttotal: 99.8ms\tremaining: 1.23s\n",
      "75:\tlearn: 0.1231355\ttotal: 100ms\tremaining: 1.22s\n",
      "76:\tlearn: 0.1207339\ttotal: 101ms\tremaining: 1.21s\n",
      "77:\tlearn: 0.1188982\ttotal: 101ms\tremaining: 1.2s\n",
      "78:\tlearn: 0.1160003\ttotal: 102ms\tremaining: 1.19s\n",
      "79:\tlearn: 0.1136724\ttotal: 102ms\tremaining: 1.18s\n",
      "80:\tlearn: 0.1114405\ttotal: 103ms\tremaining: 1.17s\n",
      "81:\tlearn: 0.1091352\ttotal: 103ms\tremaining: 1.16s\n",
      "82:\tlearn: 0.1071895\ttotal: 104ms\tremaining: 1.15s\n",
      "83:\tlearn: 0.1051201\ttotal: 104ms\tremaining: 1.14s\n",
      "84:\tlearn: 0.1035944\ttotal: 105ms\tremaining: 1.13s\n",
      "85:\tlearn: 0.1015149\ttotal: 106ms\tremaining: 1.12s\n",
      "86:\tlearn: 0.0993387\ttotal: 106ms\tremaining: 1.11s\n",
      "87:\tlearn: 0.0972437\ttotal: 107ms\tremaining: 1.1s\n",
      "88:\tlearn: 0.0964092\ttotal: 107ms\tremaining: 1.09s\n",
      "89:\tlearn: 0.0955577\ttotal: 107ms\tremaining: 1.08s\n",
      "90:\tlearn: 0.0939585\ttotal: 108ms\tremaining: 1.08s\n",
      "91:\tlearn: 0.0922253\ttotal: 108ms\tremaining: 1.07s\n",
      "92:\tlearn: 0.0911578\ttotal: 109ms\tremaining: 1.06s\n",
      "93:\tlearn: 0.0892306\ttotal: 109ms\tremaining: 1.05s\n",
      "94:\tlearn: 0.0878721\ttotal: 110ms\tremaining: 1.04s\n",
      "95:\tlearn: 0.0863551\ttotal: 110ms\tremaining: 1.04s\n",
      "96:\tlearn: 0.0849301\ttotal: 111ms\tremaining: 1.03s\n",
      "97:\tlearn: 0.0832983\ttotal: 111ms\tremaining: 1.02s\n",
      "98:\tlearn: 0.0825351\ttotal: 112ms\tremaining: 1.02s\n",
      "99:\tlearn: 0.0808841\ttotal: 113ms\tremaining: 1.01s\n",
      "100:\tlearn: 0.0798091\ttotal: 114ms\tremaining: 1.01s\n",
      "101:\tlearn: 0.0783515\ttotal: 115ms\tremaining: 1.01s\n",
      "102:\tlearn: 0.0769489\ttotal: 115ms\tremaining: 1s\n",
      "103:\tlearn: 0.0758488\ttotal: 116ms\tremaining: 1000ms\n",
      "104:\tlearn: 0.0746290\ttotal: 117ms\tremaining: 995ms\n",
      "105:\tlearn: 0.0735097\ttotal: 117ms\tremaining: 991ms\n",
      "106:\tlearn: 0.0723767\ttotal: 119ms\tremaining: 989ms\n",
      "107:\tlearn: 0.0712200\ttotal: 120ms\tremaining: 988ms\n",
      "108:\tlearn: 0.0702273\ttotal: 120ms\tremaining: 984ms\n",
      "109:\tlearn: 0.0695202\ttotal: 121ms\tremaining: 980ms\n",
      "110:\tlearn: 0.0686084\ttotal: 122ms\tremaining: 974ms\n",
      "111:\tlearn: 0.0676127\ttotal: 123ms\tremaining: 974ms\n",
      "112:\tlearn: 0.0666289\ttotal: 124ms\tremaining: 974ms\n",
      "113:\tlearn: 0.0660611\ttotal: 125ms\tremaining: 971ms\n",
      "114:\tlearn: 0.0650784\ttotal: 125ms\tremaining: 966ms\n",
      "115:\tlearn: 0.0641238\ttotal: 126ms\tremaining: 964ms\n",
      "116:\tlearn: 0.0635427\ttotal: 127ms\tremaining: 960ms\n",
      "117:\tlearn: 0.0631284\ttotal: 128ms\tremaining: 959ms\n",
      "118:\tlearn: 0.0623199\ttotal: 129ms\tremaining: 955ms\n",
      "119:\tlearn: 0.0617608\ttotal: 130ms\tremaining: 951ms\n",
      "120:\tlearn: 0.0612670\ttotal: 130ms\tremaining: 947ms\n",
      "121:\tlearn: 0.0606120\ttotal: 131ms\tremaining: 943ms\n",
      "122:\tlearn: 0.0597292\ttotal: 131ms\tremaining: 938ms\n",
      "123:\tlearn: 0.0592177\ttotal: 132ms\tremaining: 933ms\n",
      "124:\tlearn: 0.0588238\ttotal: 133ms\tremaining: 929ms\n",
      "125:\tlearn: 0.0584770\ttotal: 133ms\tremaining: 924ms\n",
      "126:\tlearn: 0.0579308\ttotal: 134ms\tremaining: 919ms\n",
      "127:\tlearn: 0.0572830\ttotal: 134ms\tremaining: 914ms\n",
      "128:\tlearn: 0.0567048\ttotal: 135ms\tremaining: 910ms\n",
      "129:\tlearn: 0.0560869\ttotal: 135ms\tremaining: 906ms\n",
      "130:\tlearn: 0.0557321\ttotal: 136ms\tremaining: 902ms\n",
      "131:\tlearn: 0.0554054\ttotal: 136ms\tremaining: 897ms\n",
      "132:\tlearn: 0.0548810\ttotal: 137ms\tremaining: 894ms\n",
      "133:\tlearn: 0.0543413\ttotal: 138ms\tremaining: 889ms\n",
      "134:\tlearn: 0.0537737\ttotal: 138ms\tremaining: 885ms\n",
      "135:\tlearn: 0.0533151\ttotal: 139ms\tremaining: 882ms\n",
      "136:\tlearn: 0.0528096\ttotal: 139ms\tremaining: 878ms\n",
      "137:\tlearn: 0.0523813\ttotal: 140ms\tremaining: 874ms\n",
      "138:\tlearn: 0.0518670\ttotal: 141ms\tremaining: 871ms\n",
      "139:\tlearn: 0.0514061\ttotal: 141ms\tremaining: 867ms\n",
      "140:\tlearn: 0.0510078\ttotal: 142ms\tremaining: 864ms\n",
      "141:\tlearn: 0.0506003\ttotal: 143ms\tremaining: 861ms\n",
      "142:\tlearn: 0.0502901\ttotal: 143ms\tremaining: 858ms\n",
      "143:\tlearn: 0.0500183\ttotal: 144ms\tremaining: 854ms\n",
      "144:\tlearn: 0.0496989\ttotal: 144ms\tremaining: 851ms\n",
      "145:\tlearn: 0.0493914\ttotal: 145ms\tremaining: 848ms\n",
      "146:\tlearn: 0.0490206\ttotal: 146ms\tremaining: 845ms\n",
      "147:\tlearn: 0.0487898\ttotal: 146ms\tremaining: 842ms\n",
      "148:\tlearn: 0.0485811\ttotal: 147ms\tremaining: 839ms\n",
      "149:\tlearn: 0.0483523\ttotal: 148ms\tremaining: 836ms\n",
      "150:\tlearn: 0.0479564\ttotal: 148ms\tremaining: 833ms\n",
      "151:\tlearn: 0.0477040\ttotal: 149ms\tremaining: 830ms\n",
      "152:\tlearn: 0.0473458\ttotal: 149ms\tremaining: 826ms\n",
      "153:\tlearn: 0.0470238\ttotal: 150ms\tremaining: 823ms\n",
      "154:\tlearn: 0.0467287\ttotal: 151ms\tremaining: 821ms\n",
      "155:\tlearn: 0.0464954\ttotal: 152ms\tremaining: 820ms\n",
      "156:\tlearn: 0.0462535\ttotal: 152ms\tremaining: 819ms\n",
      "157:\tlearn: 0.0460235\ttotal: 153ms\tremaining: 817ms\n",
      "158:\tlearn: 0.0457901\ttotal: 154ms\tremaining: 813ms\n",
      "159:\tlearn: 0.0455669\ttotal: 154ms\tremaining: 811ms\n"
     ]
    },
    {
     "name": "stdout",
     "output_type": "stream",
     "text": [
      "160:\tlearn: 0.0453170\ttotal: 156ms\tremaining: 811ms\n",
      "161:\tlearn: 0.0450498\ttotal: 157ms\tremaining: 810ms\n",
      "162:\tlearn: 0.0448023\ttotal: 157ms\tremaining: 808ms\n",
      "163:\tlearn: 0.0446603\ttotal: 158ms\tremaining: 806ms\n",
      "164:\tlearn: 0.0444341\ttotal: 159ms\tremaining: 806ms\n",
      "165:\tlearn: 0.0442683\ttotal: 160ms\tremaining: 804ms\n",
      "166:\tlearn: 0.0441033\ttotal: 161ms\tremaining: 801ms\n",
      "167:\tlearn: 0.0439208\ttotal: 161ms\tremaining: 799ms\n",
      "168:\tlearn: 0.0437532\ttotal: 162ms\tremaining: 796ms\n",
      "169:\tlearn: 0.0435219\ttotal: 162ms\tremaining: 792ms\n",
      "170:\tlearn: 0.0433689\ttotal: 163ms\tremaining: 792ms\n",
      "171:\tlearn: 0.0432450\ttotal: 164ms\tremaining: 788ms\n",
      "172:\tlearn: 0.0430328\ttotal: 164ms\tremaining: 786ms\n",
      "173:\tlearn: 0.0429016\ttotal: 165ms\tremaining: 783ms\n",
      "174:\tlearn: 0.0426759\ttotal: 165ms\tremaining: 779ms\n",
      "175:\tlearn: 0.0425079\ttotal: 166ms\tremaining: 776ms\n",
      "176:\tlearn: 0.0423739\ttotal: 167ms\tremaining: 777ms\n",
      "177:\tlearn: 0.0422080\ttotal: 167ms\tremaining: 773ms\n",
      "178:\tlearn: 0.0420615\ttotal: 168ms\tremaining: 769ms\n",
      "179:\tlearn: 0.0418832\ttotal: 168ms\tremaining: 767ms\n",
      "180:\tlearn: 0.0416769\ttotal: 169ms\tremaining: 765ms\n",
      "181:\tlearn: 0.0415457\ttotal: 170ms\tremaining: 762ms\n",
      "182:\tlearn: 0.0414247\ttotal: 170ms\tremaining: 760ms\n",
      "183:\tlearn: 0.0412724\ttotal: 171ms\tremaining: 757ms\n",
      "184:\tlearn: 0.0411510\ttotal: 171ms\tremaining: 754ms\n",
      "185:\tlearn: 0.0409689\ttotal: 172ms\tremaining: 752ms\n",
      "186:\tlearn: 0.0408664\ttotal: 172ms\tremaining: 749ms\n",
      "187:\tlearn: 0.0407616\ttotal: 173ms\tremaining: 747ms\n",
      "188:\tlearn: 0.0405682\ttotal: 173ms\tremaining: 744ms\n",
      "189:\tlearn: 0.0404196\ttotal: 174ms\tremaining: 741ms\n",
      "190:\tlearn: 0.0403219\ttotal: 175ms\tremaining: 739ms\n",
      "191:\tlearn: 0.0401202\ttotal: 175ms\tremaining: 737ms\n",
      "192:\tlearn: 0.0399736\ttotal: 176ms\tremaining: 734ms\n",
      "193:\tlearn: 0.0398563\ttotal: 176ms\tremaining: 732ms\n",
      "194:\tlearn: 0.0396793\ttotal: 177ms\tremaining: 730ms\n",
      "195:\tlearn: 0.0395399\ttotal: 177ms\tremaining: 727ms\n",
      "196:\tlearn: 0.0394278\ttotal: 178ms\tremaining: 725ms\n",
      "197:\tlearn: 0.0392732\ttotal: 178ms\tremaining: 722ms\n",
      "198:\tlearn: 0.0391524\ttotal: 179ms\tremaining: 720ms\n",
      "199:\tlearn: 0.0390549\ttotal: 179ms\tremaining: 718ms\n",
      "200:\tlearn: 0.0389157\ttotal: 180ms\tremaining: 715ms\n",
      "201:\tlearn: 0.0387954\ttotal: 180ms\tremaining: 713ms\n",
      "202:\tlearn: 0.0386990\ttotal: 181ms\tremaining: 710ms\n",
      "203:\tlearn: 0.0385410\ttotal: 181ms\tremaining: 708ms\n",
      "204:\tlearn: 0.0383413\ttotal: 182ms\tremaining: 705ms\n",
      "205:\tlearn: 0.0381793\ttotal: 182ms\tremaining: 703ms\n",
      "206:\tlearn: 0.0380982\ttotal: 183ms\tremaining: 701ms\n",
      "207:\tlearn: 0.0379993\ttotal: 184ms\tremaining: 699ms\n",
      "208:\tlearn: 0.0378400\ttotal: 184ms\tremaining: 696ms\n",
      "209:\tlearn: 0.0377208\ttotal: 184ms\tremaining: 693ms\n",
      "210:\tlearn: 0.0376027\ttotal: 184ms\tremaining: 690ms\n",
      "211:\tlearn: 0.0375321\ttotal: 185ms\tremaining: 687ms\n",
      "212:\tlearn: 0.0374145\ttotal: 185ms\tremaining: 684ms\n",
      "213:\tlearn: 0.0373221\ttotal: 185ms\tremaining: 681ms\n",
      "214:\tlearn: 0.0371833\ttotal: 186ms\tremaining: 678ms\n",
      "215:\tlearn: 0.0370816\ttotal: 186ms\tremaining: 677ms\n",
      "216:\tlearn: 0.0369980\ttotal: 187ms\tremaining: 674ms\n",
      "217:\tlearn: 0.0369126\ttotal: 187ms\tremaining: 672ms\n",
      "218:\tlearn: 0.0368425\ttotal: 188ms\tremaining: 669ms\n",
      "219:\tlearn: 0.0367569\ttotal: 188ms\tremaining: 667ms\n",
      "220:\tlearn: 0.0366469\ttotal: 189ms\tremaining: 667ms\n",
      "221:\tlearn: 0.0364277\ttotal: 190ms\tremaining: 667ms\n",
      "222:\tlearn: 0.0362213\ttotal: 191ms\tremaining: 666ms\n",
      "223:\tlearn: 0.0360448\ttotal: 192ms\tremaining: 664ms\n",
      "224:\tlearn: 0.0359347\ttotal: 193ms\tremaining: 664ms\n",
      "225:\tlearn: 0.0358176\ttotal: 194ms\tremaining: 663ms\n",
      "226:\tlearn: 0.0357523\ttotal: 194ms\tremaining: 662ms\n",
      "227:\tlearn: 0.0356858\ttotal: 195ms\tremaining: 661ms\n"
     ]
    },
    {
     "name": "stdout",
     "output_type": "stream",
     "text": [
      "228:\tlearn: 0.0355724\ttotal: 199ms\tremaining: 670ms\n",
      "229:\tlearn: 0.0353846\ttotal: 200ms\tremaining: 671ms\n",
      "230:\tlearn: 0.0352024\ttotal: 202ms\tremaining: 671ms\n",
      "231:\tlearn: 0.0350316\ttotal: 202ms\tremaining: 670ms\n",
      "232:\tlearn: 0.0349177\ttotal: 203ms\tremaining: 667ms\n",
      "233:\tlearn: 0.0347680\ttotal: 204ms\tremaining: 667ms\n",
      "234:\tlearn: 0.0347039\ttotal: 204ms\tremaining: 665ms\n",
      "235:\tlearn: 0.0346451\ttotal: 205ms\tremaining: 664ms\n",
      "236:\tlearn: 0.0345548\ttotal: 206ms\tremaining: 662ms\n",
      "237:\tlearn: 0.0344686\ttotal: 206ms\tremaining: 660ms\n",
      "238:\tlearn: 0.0343392\ttotal: 207ms\tremaining: 658ms\n",
      "239:\tlearn: 0.0342813\ttotal: 207ms\tremaining: 656ms\n",
      "240:\tlearn: 0.0342024\ttotal: 208ms\tremaining: 654ms\n",
      "241:\tlearn: 0.0340612\ttotal: 208ms\tremaining: 652ms\n",
      "242:\tlearn: 0.0339570\ttotal: 208ms\tremaining: 649ms\n",
      "243:\tlearn: 0.0338416\ttotal: 209ms\tremaining: 646ms\n",
      "244:\tlearn: 0.0337698\ttotal: 209ms\tremaining: 644ms\n",
      "245:\tlearn: 0.0336217\ttotal: 209ms\tremaining: 641ms\n",
      "246:\tlearn: 0.0335109\ttotal: 210ms\tremaining: 639ms\n",
      "247:\tlearn: 0.0334431\ttotal: 210ms\tremaining: 637ms\n",
      "248:\tlearn: 0.0333038\ttotal: 210ms\tremaining: 635ms\n",
      "249:\tlearn: 0.0332224\ttotal: 211ms\tremaining: 632ms\n",
      "250:\tlearn: 0.0331710\ttotal: 211ms\tremaining: 630ms\n",
      "251:\tlearn: 0.0330830\ttotal: 211ms\tremaining: 627ms\n",
      "252:\tlearn: 0.0330077\ttotal: 212ms\tremaining: 625ms\n",
      "253:\tlearn: 0.0329227\ttotal: 212ms\tremaining: 622ms\n",
      "254:\tlearn: 0.0328175\ttotal: 212ms\tremaining: 621ms\n",
      "255:\tlearn: 0.0326767\ttotal: 213ms\tremaining: 620ms\n",
      "256:\tlearn: 0.0326178\ttotal: 214ms\tremaining: 619ms\n",
      "257:\tlearn: 0.0324998\ttotal: 215ms\tremaining: 618ms\n",
      "258:\tlearn: 0.0324372\ttotal: 215ms\tremaining: 616ms\n",
      "259:\tlearn: 0.0323491\ttotal: 216ms\tremaining: 614ms\n",
      "260:\tlearn: 0.0322898\ttotal: 216ms\tremaining: 612ms\n",
      "261:\tlearn: 0.0321022\ttotal: 217ms\tremaining: 611ms\n",
      "262:\tlearn: 0.0320199\ttotal: 217ms\tremaining: 609ms\n",
      "263:\tlearn: 0.0319490\ttotal: 218ms\tremaining: 607ms\n",
      "264:\tlearn: 0.0318467\ttotal: 218ms\tremaining: 606ms\n",
      "265:\tlearn: 0.0317624\ttotal: 219ms\tremaining: 604ms\n",
      "266:\tlearn: 0.0317115\ttotal: 219ms\tremaining: 602ms\n",
      "267:\tlearn: 0.0316266\ttotal: 220ms\tremaining: 601ms\n",
      "268:\tlearn: 0.0315313\ttotal: 220ms\tremaining: 599ms\n",
      "269:\tlearn: 0.0314773\ttotal: 221ms\tremaining: 598ms\n",
      "270:\tlearn: 0.0313790\ttotal: 222ms\tremaining: 596ms\n",
      "271:\tlearn: 0.0312903\ttotal: 222ms\tremaining: 594ms\n",
      "272:\tlearn: 0.0312506\ttotal: 223ms\tremaining: 593ms\n",
      "273:\tlearn: 0.0311689\ttotal: 223ms\tremaining: 591ms\n",
      "274:\tlearn: 0.0311216\ttotal: 224ms\tremaining: 589ms\n",
      "275:\tlearn: 0.0310472\ttotal: 224ms\tremaining: 588ms\n",
      "276:\tlearn: 0.0309819\ttotal: 225ms\tremaining: 587ms\n",
      "277:\tlearn: 0.0308647\ttotal: 226ms\tremaining: 586ms\n",
      "278:\tlearn: 0.0307685\ttotal: 226ms\tremaining: 585ms\n",
      "279:\tlearn: 0.0306895\ttotal: 227ms\tremaining: 584ms\n",
      "280:\tlearn: 0.0305983\ttotal: 228ms\tremaining: 584ms\n",
      "281:\tlearn: 0.0305548\ttotal: 229ms\tremaining: 582ms\n",
      "282:\tlearn: 0.0305011\ttotal: 229ms\tremaining: 580ms\n",
      "283:\tlearn: 0.0303392\ttotal: 230ms\tremaining: 580ms\n",
      "284:\tlearn: 0.0301853\ttotal: 230ms\tremaining: 578ms\n",
      "285:\tlearn: 0.0301239\ttotal: 231ms\tremaining: 576ms\n",
      "286:\tlearn: 0.0300536\ttotal: 231ms\tremaining: 575ms\n",
      "287:\tlearn: 0.0299674\ttotal: 232ms\tremaining: 573ms\n",
      "288:\tlearn: 0.0298869\ttotal: 232ms\tremaining: 572ms\n",
      "289:\tlearn: 0.0298223\ttotal: 233ms\tremaining: 570ms\n",
      "290:\tlearn: 0.0297713\ttotal: 233ms\tremaining: 568ms\n",
      "291:\tlearn: 0.0296249\ttotal: 234ms\tremaining: 567ms\n",
      "292:\tlearn: 0.0295657\ttotal: 235ms\tremaining: 568ms\n",
      "293:\tlearn: 0.0295320\ttotal: 236ms\tremaining: 567ms\n",
      "294:\tlearn: 0.0294755\ttotal: 237ms\tremaining: 566ms\n",
      "295:\tlearn: 0.0294010\ttotal: 237ms\tremaining: 565ms\n",
      "296:\tlearn: 0.0293442\ttotal: 238ms\tremaining: 564ms\n",
      "297:\tlearn: 0.0292840\ttotal: 239ms\tremaining: 564ms\n",
      "298:\tlearn: 0.0292161\ttotal: 243ms\tremaining: 569ms\n",
      "299:\tlearn: 0.0291263\ttotal: 243ms\tremaining: 567ms\n",
      "300:\tlearn: 0.0290668\ttotal: 244ms\tremaining: 566ms\n",
      "301:\tlearn: 0.0289280\ttotal: 244ms\tremaining: 565ms\n",
      "302:\tlearn: 0.0288830\ttotal: 245ms\tremaining: 564ms\n",
      "303:\tlearn: 0.0288170\ttotal: 246ms\tremaining: 563ms\n",
      "304:\tlearn: 0.0287486\ttotal: 246ms\tremaining: 561ms\n",
      "305:\tlearn: 0.0286971\ttotal: 247ms\tremaining: 560ms\n",
      "306:\tlearn: 0.0286683\ttotal: 247ms\tremaining: 558ms\n",
      "307:\tlearn: 0.0285930\ttotal: 248ms\tremaining: 556ms\n",
      "308:\tlearn: 0.0285281\ttotal: 248ms\tremaining: 555ms\n",
      "309:\tlearn: 0.0284783\ttotal: 249ms\tremaining: 553ms\n",
      "310:\tlearn: 0.0284544\ttotal: 249ms\tremaining: 552ms\n",
      "311:\tlearn: 0.0283880\ttotal: 249ms\tremaining: 550ms\n",
      "312:\tlearn: 0.0283421\ttotal: 250ms\tremaining: 549ms\n",
      "313:\tlearn: 0.0282931\ttotal: 251ms\tremaining: 547ms\n",
      "314:\tlearn: 0.0282331\ttotal: 251ms\tremaining: 546ms\n",
      "315:\tlearn: 0.0281247\ttotal: 251ms\tremaining: 544ms\n",
      "316:\tlearn: 0.0280799\ttotal: 252ms\tremaining: 543ms\n",
      "317:\tlearn: 0.0279883\ttotal: 253ms\tremaining: 542ms\n",
      "318:\tlearn: 0.0279262\ttotal: 253ms\tremaining: 540ms\n",
      "319:\tlearn: 0.0278465\ttotal: 253ms\tremaining: 538ms\n",
      "320:\tlearn: 0.0277918\ttotal: 253ms\tremaining: 536ms\n",
      "321:\tlearn: 0.0277332\ttotal: 254ms\tremaining: 534ms\n",
      "322:\tlearn: 0.0276950\ttotal: 254ms\tremaining: 533ms\n",
      "323:\tlearn: 0.0275977\ttotal: 255ms\tremaining: 532ms\n",
      "324:\tlearn: 0.0275508\ttotal: 255ms\tremaining: 530ms\n",
      "325:\tlearn: 0.0274409\ttotal: 256ms\tremaining: 529ms\n",
      "326:\tlearn: 0.0273881\ttotal: 256ms\tremaining: 528ms\n",
      "327:\tlearn: 0.0273491\ttotal: 257ms\tremaining: 526ms\n",
      "328:\tlearn: 0.0272679\ttotal: 257ms\tremaining: 525ms\n",
      "329:\tlearn: 0.0272353\ttotal: 258ms\tremaining: 524ms\n",
      "330:\tlearn: 0.0271910\ttotal: 258ms\tremaining: 522ms\n",
      "331:\tlearn: 0.0271406\ttotal: 259ms\tremaining: 521ms\n",
      "332:\tlearn: 0.0270980\ttotal: 260ms\tremaining: 520ms\n",
      "333:\tlearn: 0.0270503\ttotal: 260ms\tremaining: 519ms\n",
      "334:\tlearn: 0.0269912\ttotal: 262ms\tremaining: 519ms\n",
      "335:\tlearn: 0.0269191\ttotal: 263ms\tremaining: 519ms\n",
      "336:\tlearn: 0.0268733\ttotal: 264ms\tremaining: 519ms\n",
      "337:\tlearn: 0.0267730\ttotal: 265ms\tremaining: 519ms\n",
      "338:\tlearn: 0.0267131\ttotal: 266ms\tremaining: 518ms\n",
      "339:\tlearn: 0.0266447\ttotal: 266ms\tremaining: 517ms\n",
      "340:\tlearn: 0.0266015\ttotal: 267ms\tremaining: 516ms\n",
      "341:\tlearn: 0.0265647\ttotal: 268ms\tremaining: 515ms\n",
      "342:\tlearn: 0.0264743\ttotal: 268ms\tremaining: 514ms\n",
      "343:\tlearn: 0.0264087\ttotal: 269ms\tremaining: 514ms\n",
      "344:\tlearn: 0.0263725\ttotal: 270ms\tremaining: 512ms\n",
      "345:\tlearn: 0.0262865\ttotal: 270ms\tremaining: 510ms\n",
      "346:\tlearn: 0.0262640\ttotal: 270ms\tremaining: 509ms\n",
      "347:\tlearn: 0.0262139\ttotal: 271ms\tremaining: 507ms\n",
      "348:\tlearn: 0.0261463\ttotal: 272ms\tremaining: 508ms\n",
      "349:\tlearn: 0.0260852\ttotal: 273ms\tremaining: 506ms\n",
      "350:\tlearn: 0.0260532\ttotal: 273ms\tremaining: 505ms\n",
      "351:\tlearn: 0.0260056\ttotal: 273ms\tremaining: 503ms\n",
      "352:\tlearn: 0.0259540\ttotal: 273ms\tremaining: 501ms\n",
      "353:\tlearn: 0.0259063\ttotal: 274ms\tremaining: 500ms\n",
      "354:\tlearn: 0.0258639\ttotal: 275ms\tremaining: 499ms\n",
      "355:\tlearn: 0.0257835\ttotal: 276ms\tremaining: 499ms\n",
      "356:\tlearn: 0.0257370\ttotal: 276ms\tremaining: 497ms\n",
      "357:\tlearn: 0.0256969\ttotal: 277ms\tremaining: 496ms\n",
      "358:\tlearn: 0.0256515\ttotal: 277ms\tremaining: 495ms\n",
      "359:\tlearn: 0.0256033\ttotal: 278ms\tremaining: 493ms\n",
      "360:\tlearn: 0.0255569\ttotal: 278ms\tremaining: 492ms\n",
      "361:\tlearn: 0.0254958\ttotal: 279ms\tremaining: 491ms\n",
      "362:\tlearn: 0.0254506\ttotal: 279ms\tremaining: 490ms\n",
      "363:\tlearn: 0.0254115\ttotal: 280ms\tremaining: 489ms\n",
      "364:\tlearn: 0.0253053\ttotal: 280ms\tremaining: 488ms\n",
      "365:\tlearn: 0.0252559\ttotal: 281ms\tremaining: 486ms\n",
      "366:\tlearn: 0.0252136\ttotal: 281ms\tremaining: 485ms\n",
      "367:\tlearn: 0.0251778\ttotal: 281ms\tremaining: 483ms\n",
      "368:\tlearn: 0.0251284\ttotal: 282ms\tremaining: 482ms\n",
      "369:\tlearn: 0.0250812\ttotal: 282ms\tremaining: 480ms\n",
      "370:\tlearn: 0.0250410\ttotal: 282ms\tremaining: 479ms\n",
      "371:\tlearn: 0.0250052\ttotal: 283ms\tremaining: 477ms\n",
      "372:\tlearn: 0.0249697\ttotal: 283ms\tremaining: 476ms\n",
      "373:\tlearn: 0.0249324\ttotal: 284ms\tremaining: 475ms\n",
      "374:\tlearn: 0.0248643\ttotal: 284ms\tremaining: 474ms\n",
      "375:\tlearn: 0.0248235\ttotal: 285ms\tremaining: 473ms\n",
      "376:\tlearn: 0.0247950\ttotal: 285ms\tremaining: 472ms\n",
      "377:\tlearn: 0.0247640\ttotal: 286ms\tremaining: 471ms\n",
      "378:\tlearn: 0.0247197\ttotal: 286ms\tremaining: 469ms\n",
      "379:\tlearn: 0.0246839\ttotal: 287ms\tremaining: 468ms\n",
      "380:\tlearn: 0.0246480\ttotal: 287ms\tremaining: 467ms\n",
      "381:\tlearn: 0.0246139\ttotal: 288ms\tremaining: 465ms\n",
      "382:\tlearn: 0.0245834\ttotal: 288ms\tremaining: 464ms\n",
      "383:\tlearn: 0.0245381\ttotal: 289ms\tremaining: 463ms\n",
      "384:\tlearn: 0.0245006\ttotal: 289ms\tremaining: 461ms\n",
      "385:\tlearn: 0.0244710\ttotal: 289ms\tremaining: 460ms\n",
      "386:\tlearn: 0.0244369\ttotal: 290ms\tremaining: 459ms\n",
      "387:\tlearn: 0.0244089\ttotal: 291ms\tremaining: 459ms\n",
      "388:\tlearn: 0.0243637\ttotal: 291ms\tremaining: 457ms\n",
      "389:\tlearn: 0.0243240\ttotal: 292ms\tremaining: 456ms\n",
      "390:\tlearn: 0.0242926\ttotal: 292ms\tremaining: 455ms\n",
      "391:\tlearn: 0.0242671\ttotal: 293ms\tremaining: 454ms\n",
      "392:\tlearn: 0.0242331\ttotal: 293ms\tremaining: 453ms\n",
      "393:\tlearn: 0.0242005\ttotal: 293ms\tremaining: 451ms\n",
      "394:\tlearn: 0.0241428\ttotal: 294ms\tremaining: 450ms\n",
      "395:\tlearn: 0.0240925\ttotal: 294ms\tremaining: 449ms\n",
      "396:\tlearn: 0.0240639\ttotal: 295ms\tremaining: 448ms\n",
      "397:\tlearn: 0.0240322\ttotal: 296ms\tremaining: 447ms\n"
     ]
    },
    {
     "name": "stdout",
     "output_type": "stream",
     "text": [
      "398:\tlearn: 0.0240091\ttotal: 299ms\tremaining: 450ms\n",
      "399:\tlearn: 0.0239792\ttotal: 301ms\tremaining: 452ms\n",
      "400:\tlearn: 0.0239124\ttotal: 302ms\tremaining: 451ms\n",
      "401:\tlearn: 0.0238815\ttotal: 303ms\tremaining: 451ms\n",
      "402:\tlearn: 0.0238527\ttotal: 303ms\tremaining: 449ms\n",
      "403:\tlearn: 0.0237967\ttotal: 304ms\tremaining: 449ms\n",
      "404:\tlearn: 0.0237635\ttotal: 305ms\tremaining: 448ms\n",
      "405:\tlearn: 0.0237409\ttotal: 305ms\tremaining: 447ms\n",
      "406:\tlearn: 0.0237114\ttotal: 306ms\tremaining: 446ms\n",
      "407:\tlearn: 0.0236325\ttotal: 306ms\tremaining: 445ms\n",
      "408:\tlearn: 0.0236018\ttotal: 307ms\tremaining: 444ms\n",
      "409:\tlearn: 0.0235448\ttotal: 307ms\tremaining: 442ms\n",
      "410:\tlearn: 0.0235170\ttotal: 308ms\tremaining: 441ms\n",
      "411:\tlearn: 0.0234508\ttotal: 308ms\tremaining: 440ms\n",
      "412:\tlearn: 0.0234209\ttotal: 309ms\tremaining: 439ms\n",
      "413:\tlearn: 0.0233838\ttotal: 310ms\tremaining: 438ms\n",
      "414:\tlearn: 0.0233363\ttotal: 310ms\tremaining: 437ms\n",
      "415:\tlearn: 0.0232993\ttotal: 311ms\tremaining: 436ms\n",
      "416:\tlearn: 0.0232731\ttotal: 311ms\tremaining: 435ms\n",
      "417:\tlearn: 0.0232438\ttotal: 312ms\tremaining: 434ms\n",
      "418:\tlearn: 0.0232217\ttotal: 312ms\tremaining: 433ms\n",
      "419:\tlearn: 0.0231974\ttotal: 313ms\tremaining: 432ms\n",
      "420:\tlearn: 0.0231444\ttotal: 313ms\tremaining: 431ms\n",
      "421:\tlearn: 0.0231240\ttotal: 314ms\tremaining: 429ms\n",
      "422:\tlearn: 0.0230975\ttotal: 314ms\tremaining: 428ms\n",
      "423:\tlearn: 0.0230698\ttotal: 314ms\tremaining: 427ms\n",
      "424:\tlearn: 0.0229777\ttotal: 314ms\tremaining: 425ms\n",
      "425:\tlearn: 0.0229165\ttotal: 315ms\tremaining: 425ms\n",
      "426:\tlearn: 0.0228916\ttotal: 315ms\tremaining: 423ms\n",
      "427:\tlearn: 0.0228745\ttotal: 316ms\tremaining: 422ms\n",
      "428:\tlearn: 0.0228431\ttotal: 316ms\tremaining: 421ms\n",
      "429:\tlearn: 0.0227805\ttotal: 316ms\tremaining: 419ms\n",
      "430:\tlearn: 0.0227567\ttotal: 317ms\tremaining: 418ms\n",
      "431:\tlearn: 0.0227172\ttotal: 317ms\tremaining: 417ms\n",
      "432:\tlearn: 0.0226764\ttotal: 318ms\tremaining: 416ms\n",
      "433:\tlearn: 0.0226505\ttotal: 318ms\tremaining: 415ms\n",
      "434:\tlearn: 0.0226038\ttotal: 319ms\tremaining: 414ms\n",
      "435:\tlearn: 0.0225762\ttotal: 319ms\tremaining: 413ms\n",
      "436:\tlearn: 0.0225410\ttotal: 319ms\tremaining: 412ms\n",
      "437:\tlearn: 0.0224927\ttotal: 320ms\tremaining: 411ms\n",
      "438:\tlearn: 0.0224635\ttotal: 321ms\tremaining: 410ms\n",
      "439:\tlearn: 0.0224189\ttotal: 321ms\tremaining: 409ms\n",
      "440:\tlearn: 0.0223948\ttotal: 322ms\tremaining: 408ms\n",
      "441:\tlearn: 0.0223604\ttotal: 322ms\tremaining: 407ms\n",
      "442:\tlearn: 0.0223344\ttotal: 323ms\tremaining: 406ms\n",
      "443:\tlearn: 0.0222885\ttotal: 323ms\tremaining: 405ms\n",
      "444:\tlearn: 0.0222783\ttotal: 324ms\tremaining: 404ms\n",
      "445:\tlearn: 0.0222200\ttotal: 324ms\tremaining: 403ms\n",
      "446:\tlearn: 0.0221958\ttotal: 325ms\tremaining: 402ms\n",
      "447:\tlearn: 0.0221738\ttotal: 325ms\tremaining: 401ms\n",
      "448:\tlearn: 0.0221301\ttotal: 326ms\tremaining: 400ms\n",
      "449:\tlearn: 0.0220617\ttotal: 326ms\tremaining: 398ms\n",
      "450:\tlearn: 0.0220320\ttotal: 326ms\tremaining: 397ms\n",
      "451:\tlearn: 0.0219925\ttotal: 327ms\tremaining: 396ms\n",
      "452:\tlearn: 0.0219574\ttotal: 327ms\tremaining: 395ms\n",
      "453:\tlearn: 0.0219116\ttotal: 328ms\tremaining: 395ms\n",
      "454:\tlearn: 0.0218832\ttotal: 329ms\tremaining: 394ms\n",
      "455:\tlearn: 0.0218599\ttotal: 329ms\tremaining: 393ms\n",
      "456:\tlearn: 0.0218207\ttotal: 330ms\tremaining: 393ms\n",
      "457:\tlearn: 0.0217954\ttotal: 331ms\tremaining: 392ms\n",
      "458:\tlearn: 0.0217720\ttotal: 332ms\tremaining: 391ms\n",
      "459:\tlearn: 0.0217353\ttotal: 333ms\tremaining: 391ms\n",
      "460:\tlearn: 0.0217112\ttotal: 333ms\tremaining: 390ms\n",
      "461:\tlearn: 0.0216857\ttotal: 334ms\tremaining: 389ms\n",
      "462:\tlearn: 0.0216539\ttotal: 334ms\tremaining: 388ms\n",
      "463:\tlearn: 0.0216314\ttotal: 335ms\tremaining: 387ms\n",
      "464:\tlearn: 0.0215931\ttotal: 335ms\tremaining: 386ms\n",
      "465:\tlearn: 0.0215612\ttotal: 336ms\tremaining: 385ms\n",
      "466:\tlearn: 0.0215279\ttotal: 336ms\tremaining: 383ms\n",
      "467:\tlearn: 0.0215012\ttotal: 336ms\tremaining: 382ms\n",
      "468:\tlearn: 0.0214428\ttotal: 337ms\tremaining: 381ms\n",
      "469:\tlearn: 0.0214111\ttotal: 337ms\tremaining: 380ms\n",
      "470:\tlearn: 0.0213851\ttotal: 338ms\tremaining: 379ms\n",
      "471:\tlearn: 0.0213632\ttotal: 340ms\tremaining: 380ms\n",
      "472:\tlearn: 0.0213388\ttotal: 340ms\tremaining: 379ms\n"
     ]
    },
    {
     "name": "stdout",
     "output_type": "stream",
     "text": [
      "473:\tlearn: 0.0213173\ttotal: 341ms\tremaining: 379ms\n",
      "474:\tlearn: 0.0212793\ttotal: 342ms\tremaining: 378ms\n",
      "475:\tlearn: 0.0212651\ttotal: 343ms\tremaining: 377ms\n",
      "476:\tlearn: 0.0212251\ttotal: 343ms\tremaining: 376ms\n",
      "477:\tlearn: 0.0211939\ttotal: 344ms\tremaining: 376ms\n",
      "478:\tlearn: 0.0211670\ttotal: 346ms\tremaining: 376ms\n",
      "479:\tlearn: 0.0211522\ttotal: 346ms\tremaining: 375ms\n",
      "480:\tlearn: 0.0211318\ttotal: 346ms\tremaining: 374ms\n",
      "481:\tlearn: 0.0210596\ttotal: 347ms\tremaining: 373ms\n",
      "482:\tlearn: 0.0210341\ttotal: 348ms\tremaining: 372ms\n",
      "483:\tlearn: 0.0209992\ttotal: 348ms\tremaining: 371ms\n",
      "484:\tlearn: 0.0209887\ttotal: 349ms\tremaining: 370ms\n",
      "485:\tlearn: 0.0209688\ttotal: 349ms\tremaining: 369ms\n",
      "486:\tlearn: 0.0209478\ttotal: 350ms\tremaining: 368ms\n",
      "487:\tlearn: 0.0209030\ttotal: 350ms\tremaining: 367ms\n",
      "488:\tlearn: 0.0208690\ttotal: 351ms\tremaining: 366ms\n",
      "489:\tlearn: 0.0208393\ttotal: 351ms\tremaining: 366ms\n",
      "490:\tlearn: 0.0208154\ttotal: 352ms\tremaining: 365ms\n",
      "491:\tlearn: 0.0207955\ttotal: 352ms\tremaining: 364ms\n",
      "492:\tlearn: 0.0207727\ttotal: 353ms\tremaining: 363ms\n",
      "493:\tlearn: 0.0207584\ttotal: 353ms\tremaining: 362ms\n",
      "494:\tlearn: 0.0207270\ttotal: 354ms\tremaining: 361ms\n",
      "495:\tlearn: 0.0207082\ttotal: 354ms\tremaining: 360ms\n",
      "496:\tlearn: 0.0206899\ttotal: 355ms\tremaining: 359ms\n",
      "497:\tlearn: 0.0206561\ttotal: 355ms\tremaining: 358ms\n",
      "498:\tlearn: 0.0206166\ttotal: 355ms\tremaining: 357ms\n",
      "499:\tlearn: 0.0206059\ttotal: 356ms\tremaining: 356ms\n",
      "500:\tlearn: 0.0205722\ttotal: 356ms\tremaining: 354ms\n",
      "501:\tlearn: 0.0205497\ttotal: 356ms\tremaining: 353ms\n",
      "502:\tlearn: 0.0205315\ttotal: 356ms\tremaining: 352ms\n",
      "503:\tlearn: 0.0205052\ttotal: 357ms\tremaining: 351ms\n",
      "504:\tlearn: 0.0204826\ttotal: 357ms\tremaining: 350ms\n",
      "505:\tlearn: 0.0204098\ttotal: 357ms\tremaining: 349ms\n",
      "506:\tlearn: 0.0203551\ttotal: 358ms\tremaining: 348ms\n",
      "507:\tlearn: 0.0203474\ttotal: 358ms\tremaining: 347ms\n",
      "508:\tlearn: 0.0203214\ttotal: 358ms\tremaining: 346ms\n",
      "509:\tlearn: 0.0203137\ttotal: 359ms\tremaining: 344ms\n",
      "510:\tlearn: 0.0202839\ttotal: 359ms\tremaining: 343ms\n",
      "511:\tlearn: 0.0202630\ttotal: 359ms\tremaining: 342ms\n",
      "512:\tlearn: 0.0202431\ttotal: 359ms\tremaining: 341ms\n",
      "513:\tlearn: 0.0202263\ttotal: 360ms\tremaining: 340ms\n",
      "514:\tlearn: 0.0201810\ttotal: 360ms\tremaining: 339ms\n",
      "515:\tlearn: 0.0201602\ttotal: 361ms\tremaining: 339ms\n",
      "516:\tlearn: 0.0201393\ttotal: 362ms\tremaining: 338ms\n",
      "517:\tlearn: 0.0201181\ttotal: 362ms\tremaining: 337ms\n",
      "518:\tlearn: 0.0200977\ttotal: 363ms\tremaining: 336ms\n",
      "519:\tlearn: 0.0200443\ttotal: 364ms\tremaining: 336ms\n",
      "520:\tlearn: 0.0200217\ttotal: 365ms\tremaining: 336ms\n",
      "521:\tlearn: 0.0200032\ttotal: 366ms\tremaining: 335ms\n",
      "522:\tlearn: 0.0199705\ttotal: 366ms\tremaining: 334ms\n",
      "523:\tlearn: 0.0199426\ttotal: 367ms\tremaining: 333ms\n",
      "524:\tlearn: 0.0199224\ttotal: 368ms\tremaining: 333ms\n",
      "525:\tlearn: 0.0199057\ttotal: 368ms\tremaining: 332ms\n",
      "526:\tlearn: 0.0198879\ttotal: 369ms\tremaining: 331ms\n",
      "527:\tlearn: 0.0198562\ttotal: 370ms\tremaining: 331ms\n",
      "528:\tlearn: 0.0198305\ttotal: 371ms\tremaining: 331ms\n",
      "529:\tlearn: 0.0198121\ttotal: 372ms\tremaining: 330ms\n",
      "530:\tlearn: 0.0197511\ttotal: 373ms\tremaining: 329ms\n",
      "531:\tlearn: 0.0197300\ttotal: 373ms\tremaining: 328ms\n",
      "532:\tlearn: 0.0197103\ttotal: 373ms\tremaining: 327ms\n",
      "533:\tlearn: 0.0196947\ttotal: 373ms\tremaining: 326ms\n",
      "534:\tlearn: 0.0196694\ttotal: 374ms\tremaining: 325ms\n",
      "535:\tlearn: 0.0196137\ttotal: 374ms\tremaining: 324ms\n",
      "536:\tlearn: 0.0195897\ttotal: 375ms\tremaining: 324ms\n",
      "537:\tlearn: 0.0195756\ttotal: 376ms\tremaining: 323ms\n",
      "538:\tlearn: 0.0195649\ttotal: 378ms\tremaining: 323ms\n",
      "539:\tlearn: 0.0195498\ttotal: 379ms\tremaining: 323ms\n",
      "540:\tlearn: 0.0195140\ttotal: 379ms\tremaining: 322ms\n",
      "541:\tlearn: 0.0194955\ttotal: 380ms\tremaining: 321ms\n",
      "542:\tlearn: 0.0194782\ttotal: 380ms\tremaining: 320ms\n",
      "543:\tlearn: 0.0194561\ttotal: 381ms\tremaining: 319ms\n",
      "544:\tlearn: 0.0194396\ttotal: 381ms\tremaining: 318ms\n",
      "545:\tlearn: 0.0194192\ttotal: 381ms\tremaining: 317ms\n",
      "546:\tlearn: 0.0193667\ttotal: 382ms\tremaining: 316ms\n",
      "547:\tlearn: 0.0193399\ttotal: 382ms\tremaining: 315ms\n",
      "548:\tlearn: 0.0193345\ttotal: 382ms\tremaining: 314ms\n",
      "549:\tlearn: 0.0193200\ttotal: 383ms\tremaining: 313ms\n",
      "550:\tlearn: 0.0192998\ttotal: 383ms\tremaining: 312ms\n",
      "551:\tlearn: 0.0192858\ttotal: 383ms\tremaining: 311ms\n",
      "552:\tlearn: 0.0192716\ttotal: 384ms\tremaining: 310ms\n",
      "553:\tlearn: 0.0192261\ttotal: 384ms\tremaining: 309ms\n",
      "554:\tlearn: 0.0192063\ttotal: 385ms\tremaining: 309ms\n",
      "555:\tlearn: 0.0191800\ttotal: 386ms\tremaining: 308ms\n",
      "556:\tlearn: 0.0191271\ttotal: 386ms\tremaining: 307ms\n",
      "557:\tlearn: 0.0191096\ttotal: 387ms\tremaining: 306ms\n",
      "558:\tlearn: 0.0190852\ttotal: 387ms\tremaining: 306ms\n",
      "559:\tlearn: 0.0190505\ttotal: 388ms\tremaining: 305ms\n",
      "560:\tlearn: 0.0190319\ttotal: 388ms\tremaining: 304ms\n",
      "561:\tlearn: 0.0189839\ttotal: 389ms\tremaining: 303ms\n",
      "562:\tlearn: 0.0189639\ttotal: 389ms\tremaining: 302ms\n",
      "563:\tlearn: 0.0189305\ttotal: 390ms\tremaining: 301ms\n",
      "564:\tlearn: 0.0189041\ttotal: 390ms\tremaining: 300ms\n",
      "565:\tlearn: 0.0188907\ttotal: 391ms\tremaining: 300ms\n",
      "566:\tlearn: 0.0188728\ttotal: 391ms\tremaining: 299ms\n",
      "567:\tlearn: 0.0188488\ttotal: 391ms\tremaining: 298ms\n",
      "568:\tlearn: 0.0187931\ttotal: 392ms\tremaining: 297ms\n",
      "569:\tlearn: 0.0187792\ttotal: 392ms\tremaining: 296ms\n",
      "570:\tlearn: 0.0187710\ttotal: 393ms\tremaining: 295ms\n",
      "571:\tlearn: 0.0187482\ttotal: 393ms\tremaining: 294ms\n",
      "572:\tlearn: 0.0187284\ttotal: 394ms\tremaining: 293ms\n",
      "573:\tlearn: 0.0187019\ttotal: 394ms\tremaining: 293ms\n",
      "574:\tlearn: 0.0186856\ttotal: 395ms\tremaining: 292ms\n",
      "575:\tlearn: 0.0186333\ttotal: 395ms\tremaining: 291ms\n",
      "576:\tlearn: 0.0186272\ttotal: 396ms\tremaining: 290ms\n",
      "577:\tlearn: 0.0186050\ttotal: 396ms\tremaining: 289ms\n",
      "578:\tlearn: 0.0185557\ttotal: 397ms\tremaining: 289ms\n",
      "579:\tlearn: 0.0185085\ttotal: 397ms\tremaining: 288ms\n",
      "580:\tlearn: 0.0184991\ttotal: 398ms\tremaining: 287ms\n",
      "581:\tlearn: 0.0184690\ttotal: 398ms\tremaining: 286ms\n",
      "582:\tlearn: 0.0184616\ttotal: 399ms\tremaining: 285ms\n",
      "583:\tlearn: 0.0184175\ttotal: 399ms\tremaining: 285ms\n",
      "584:\tlearn: 0.0184084\ttotal: 400ms\tremaining: 284ms\n",
      "585:\tlearn: 0.0183845\ttotal: 400ms\tremaining: 283ms\n",
      "586:\tlearn: 0.0183699\ttotal: 401ms\tremaining: 282ms\n",
      "587:\tlearn: 0.0183366\ttotal: 401ms\tremaining: 281ms\n",
      "588:\tlearn: 0.0183223\ttotal: 402ms\tremaining: 280ms\n",
      "589:\tlearn: 0.0183106\ttotal: 402ms\tremaining: 279ms\n",
      "590:\tlearn: 0.0182918\ttotal: 403ms\tremaining: 279ms\n",
      "591:\tlearn: 0.0182741\ttotal: 403ms\tremaining: 278ms\n",
      "592:\tlearn: 0.0182320\ttotal: 404ms\tremaining: 277ms\n",
      "593:\tlearn: 0.0182044\ttotal: 406ms\tremaining: 277ms\n",
      "594:\tlearn: 0.0181943\ttotal: 407ms\tremaining: 277ms\n",
      "595:\tlearn: 0.0181870\ttotal: 408ms\tremaining: 276ms\n",
      "596:\tlearn: 0.0181657\ttotal: 409ms\tremaining: 276ms\n",
      "597:\tlearn: 0.0181437\ttotal: 410ms\tremaining: 276ms\n",
      "598:\tlearn: 0.0180984\ttotal: 411ms\tremaining: 275ms\n",
      "599:\tlearn: 0.0180860\ttotal: 415ms\tremaining: 277ms\n",
      "600:\tlearn: 0.0180696\ttotal: 416ms\tremaining: 276ms\n",
      "601:\tlearn: 0.0180644\ttotal: 417ms\tremaining: 276ms\n",
      "602:\tlearn: 0.0180477\ttotal: 418ms\tremaining: 275ms\n",
      "603:\tlearn: 0.0180239\ttotal: 419ms\tremaining: 275ms\n",
      "604:\tlearn: 0.0180108\ttotal: 419ms\tremaining: 274ms\n",
      "605:\tlearn: 0.0179942\ttotal: 420ms\tremaining: 273ms\n",
      "606:\tlearn: 0.0179857\ttotal: 420ms\tremaining: 272ms\n",
      "607:\tlearn: 0.0179778\ttotal: 421ms\tremaining: 271ms\n",
      "608:\tlearn: 0.0179599\ttotal: 421ms\tremaining: 271ms\n",
      "609:\tlearn: 0.0179167\ttotal: 422ms\tremaining: 270ms\n",
      "610:\tlearn: 0.0179021\ttotal: 423ms\tremaining: 269ms\n",
      "611:\tlearn: 0.0178837\ttotal: 423ms\tremaining: 268ms\n",
      "612:\tlearn: 0.0178656\ttotal: 423ms\tremaining: 267ms\n",
      "613:\tlearn: 0.0178463\ttotal: 423ms\tremaining: 266ms\n",
      "614:\tlearn: 0.0178353\ttotal: 424ms\tremaining: 265ms\n",
      "615:\tlearn: 0.0178245\ttotal: 424ms\tremaining: 264ms\n",
      "616:\tlearn: 0.0178035\ttotal: 424ms\tremaining: 263ms\n",
      "617:\tlearn: 0.0177623\ttotal: 425ms\tremaining: 262ms\n",
      "618:\tlearn: 0.0177420\ttotal: 425ms\tremaining: 262ms\n",
      "619:\tlearn: 0.0177312\ttotal: 425ms\tremaining: 261ms\n",
      "620:\tlearn: 0.0177102\ttotal: 425ms\tremaining: 260ms\n",
      "621:\tlearn: 0.0176790\ttotal: 426ms\tremaining: 259ms\n",
      "622:\tlearn: 0.0176673\ttotal: 426ms\tremaining: 258ms\n",
      "623:\tlearn: 0.0176549\ttotal: 426ms\tremaining: 257ms\n",
      "624:\tlearn: 0.0176320\ttotal: 427ms\tremaining: 256ms\n",
      "625:\tlearn: 0.0175781\ttotal: 427ms\tremaining: 255ms\n",
      "626:\tlearn: 0.0175582\ttotal: 427ms\tremaining: 254ms\n",
      "627:\tlearn: 0.0175450\ttotal: 428ms\tremaining: 254ms\n",
      "628:\tlearn: 0.0175288\ttotal: 429ms\tremaining: 253ms\n",
      "629:\tlearn: 0.0175012\ttotal: 429ms\tremaining: 252ms\n",
      "630:\tlearn: 0.0174702\ttotal: 430ms\tremaining: 251ms\n",
      "631:\tlearn: 0.0174440\ttotal: 430ms\tremaining: 251ms\n",
      "632:\tlearn: 0.0174224\ttotal: 431ms\tremaining: 250ms\n",
      "633:\tlearn: 0.0173976\ttotal: 431ms\tremaining: 249ms\n",
      "634:\tlearn: 0.0173830\ttotal: 432ms\tremaining: 248ms\n",
      "635:\tlearn: 0.0173684\ttotal: 432ms\tremaining: 247ms\n",
      "636:\tlearn: 0.0173462\ttotal: 433ms\tremaining: 247ms\n",
      "637:\tlearn: 0.0173353\ttotal: 433ms\tremaining: 246ms\n",
      "638:\tlearn: 0.0173256\ttotal: 434ms\tremaining: 245ms\n",
      "639:\tlearn: 0.0173186\ttotal: 434ms\tremaining: 244ms\n",
      "640:\tlearn: 0.0173067\ttotal: 435ms\tremaining: 243ms\n",
      "641:\tlearn: 0.0172860\ttotal: 435ms\tremaining: 243ms\n",
      "642:\tlearn: 0.0172693\ttotal: 436ms\tremaining: 242ms\n",
      "643:\tlearn: 0.0172553\ttotal: 436ms\tremaining: 241ms\n",
      "644:\tlearn: 0.0172417\ttotal: 436ms\tremaining: 240ms\n",
      "645:\tlearn: 0.0172319\ttotal: 437ms\tremaining: 239ms\n",
      "646:\tlearn: 0.0172218\ttotal: 439ms\tremaining: 239ms\n",
      "647:\tlearn: 0.0172087\ttotal: 440ms\tremaining: 239ms\n",
      "648:\tlearn: 0.0171957\ttotal: 441ms\tremaining: 238ms\n",
      "649:\tlearn: 0.0171779\ttotal: 442ms\tremaining: 238ms\n",
      "650:\tlearn: 0.0171589\ttotal: 443ms\tremaining: 237ms\n",
      "651:\tlearn: 0.0171421\ttotal: 443ms\tremaining: 237ms\n",
      "652:\tlearn: 0.0171173\ttotal: 444ms\tremaining: 236ms\n",
      "653:\tlearn: 0.0171124\ttotal: 444ms\tremaining: 235ms\n",
      "654:\tlearn: 0.0170723\ttotal: 445ms\tremaining: 234ms\n",
      "655:\tlearn: 0.0170569\ttotal: 445ms\tremaining: 233ms\n"
     ]
    },
    {
     "name": "stdout",
     "output_type": "stream",
     "text": [
      "656:\tlearn: 0.0170483\ttotal: 446ms\tremaining: 233ms\n",
      "657:\tlearn: 0.0170114\ttotal: 447ms\tremaining: 232ms\n",
      "658:\tlearn: 0.0169811\ttotal: 452ms\tremaining: 234ms\n",
      "659:\tlearn: 0.0169439\ttotal: 453ms\tremaining: 233ms\n",
      "660:\tlearn: 0.0169294\ttotal: 454ms\tremaining: 233ms\n",
      "661:\tlearn: 0.0169153\ttotal: 455ms\tremaining: 232ms\n",
      "662:\tlearn: 0.0169062\ttotal: 455ms\tremaining: 231ms\n",
      "663:\tlearn: 0.0168873\ttotal: 456ms\tremaining: 231ms\n",
      "664:\tlearn: 0.0168778\ttotal: 456ms\tremaining: 230ms\n",
      "665:\tlearn: 0.0168644\ttotal: 456ms\tremaining: 229ms\n",
      "666:\tlearn: 0.0168410\ttotal: 457ms\tremaining: 228ms\n",
      "667:\tlearn: 0.0168196\ttotal: 457ms\tremaining: 227ms\n",
      "668:\tlearn: 0.0167930\ttotal: 457ms\tremaining: 226ms\n",
      "669:\tlearn: 0.0167818\ttotal: 458ms\tremaining: 226ms\n",
      "670:\tlearn: 0.0167598\ttotal: 459ms\tremaining: 225ms\n",
      "671:\tlearn: 0.0167471\ttotal: 459ms\tremaining: 224ms\n",
      "672:\tlearn: 0.0167273\ttotal: 460ms\tremaining: 223ms\n",
      "673:\tlearn: 0.0167134\ttotal: 460ms\tremaining: 223ms\n",
      "674:\tlearn: 0.0167053\ttotal: 461ms\tremaining: 222ms\n",
      "675:\tlearn: 0.0166921\ttotal: 461ms\tremaining: 221ms\n",
      "676:\tlearn: 0.0166739\ttotal: 462ms\tremaining: 220ms\n",
      "677:\tlearn: 0.0166586\ttotal: 462ms\tremaining: 220ms\n",
      "678:\tlearn: 0.0166361\ttotal: 463ms\tremaining: 219ms\n",
      "679:\tlearn: 0.0166276\ttotal: 463ms\tremaining: 218ms\n",
      "680:\tlearn: 0.0166111\ttotal: 463ms\tremaining: 217ms\n",
      "681:\tlearn: 0.0165980\ttotal: 464ms\tremaining: 216ms\n",
      "682:\tlearn: 0.0165854\ttotal: 464ms\tremaining: 215ms\n",
      "683:\tlearn: 0.0165580\ttotal: 465ms\tremaining: 215ms\n",
      "684:\tlearn: 0.0165415\ttotal: 465ms\tremaining: 214ms\n",
      "685:\tlearn: 0.0165140\ttotal: 465ms\tremaining: 213ms\n",
      "686:\tlearn: 0.0165057\ttotal: 466ms\tremaining: 212ms\n",
      "687:\tlearn: 0.0164912\ttotal: 466ms\tremaining: 211ms\n",
      "688:\tlearn: 0.0164745\ttotal: 466ms\tremaining: 211ms\n",
      "689:\tlearn: 0.0164563\ttotal: 467ms\tremaining: 210ms\n",
      "690:\tlearn: 0.0164484\ttotal: 467ms\tremaining: 209ms\n",
      "691:\tlearn: 0.0164278\ttotal: 467ms\tremaining: 208ms\n",
      "692:\tlearn: 0.0164123\ttotal: 468ms\tremaining: 207ms\n",
      "693:\tlearn: 0.0164020\ttotal: 468ms\tremaining: 206ms\n",
      "694:\tlearn: 0.0163980\ttotal: 468ms\tremaining: 205ms\n",
      "695:\tlearn: 0.0163846\ttotal: 469ms\tremaining: 205ms\n",
      "696:\tlearn: 0.0163738\ttotal: 469ms\tremaining: 204ms\n",
      "697:\tlearn: 0.0163643\ttotal: 469ms\tremaining: 203ms\n",
      "698:\tlearn: 0.0163513\ttotal: 469ms\tremaining: 202ms\n",
      "699:\tlearn: 0.0163431\ttotal: 471ms\tremaining: 202ms\n",
      "700:\tlearn: 0.0163086\ttotal: 471ms\tremaining: 201ms\n",
      "701:\tlearn: 0.0162955\ttotal: 472ms\tremaining: 200ms\n",
      "702:\tlearn: 0.0162766\ttotal: 472ms\tremaining: 199ms\n",
      "703:\tlearn: 0.0162690\ttotal: 473ms\tremaining: 199ms\n",
      "704:\tlearn: 0.0162525\ttotal: 474ms\tremaining: 198ms\n",
      "705:\tlearn: 0.0162348\ttotal: 475ms\tremaining: 198ms\n",
      "706:\tlearn: 0.0162167\ttotal: 476ms\tremaining: 197ms\n",
      "707:\tlearn: 0.0162013\ttotal: 476ms\tremaining: 196ms\n",
      "708:\tlearn: 0.0161894\ttotal: 478ms\tremaining: 196ms\n",
      "709:\tlearn: 0.0161781\ttotal: 478ms\tremaining: 195ms\n",
      "710:\tlearn: 0.0161672\ttotal: 479ms\tremaining: 195ms\n",
      "711:\tlearn: 0.0161550\ttotal: 480ms\tremaining: 194ms\n",
      "712:\tlearn: 0.0161375\ttotal: 481ms\tremaining: 194ms\n",
      "713:\tlearn: 0.0161302\ttotal: 482ms\tremaining: 193ms\n",
      "714:\tlearn: 0.0161126\ttotal: 483ms\tremaining: 193ms\n",
      "715:\tlearn: 0.0161010\ttotal: 483ms\tremaining: 192ms\n",
      "716:\tlearn: 0.0160670\ttotal: 484ms\tremaining: 191ms\n",
      "717:\tlearn: 0.0160601\ttotal: 484ms\tremaining: 190ms\n",
      "718:\tlearn: 0.0160454\ttotal: 485ms\tremaining: 189ms\n",
      "719:\tlearn: 0.0160384\ttotal: 485ms\tremaining: 189ms\n",
      "720:\tlearn: 0.0160264\ttotal: 486ms\tremaining: 188ms\n",
      "721:\tlearn: 0.0159943\ttotal: 486ms\tremaining: 187ms\n",
      "722:\tlearn: 0.0159830\ttotal: 487ms\tremaining: 186ms\n"
     ]
    },
    {
     "name": "stdout",
     "output_type": "stream",
     "text": [
      "723:\tlearn: 0.0159665\ttotal: 488ms\tremaining: 186ms\n",
      "724:\tlearn: 0.0159496\ttotal: 491ms\tremaining: 186ms\n",
      "725:\tlearn: 0.0159367\ttotal: 492ms\tremaining: 186ms\n",
      "726:\tlearn: 0.0159226\ttotal: 493ms\tremaining: 185ms\n",
      "727:\tlearn: 0.0159120\ttotal: 493ms\tremaining: 184ms\n",
      "728:\tlearn: 0.0159017\ttotal: 494ms\tremaining: 183ms\n",
      "729:\tlearn: 0.0158895\ttotal: 494ms\tremaining: 183ms\n",
      "730:\tlearn: 0.0158773\ttotal: 495ms\tremaining: 182ms\n",
      "731:\tlearn: 0.0158600\ttotal: 495ms\tremaining: 181ms\n",
      "732:\tlearn: 0.0158540\ttotal: 496ms\tremaining: 181ms\n",
      "733:\tlearn: 0.0158427\ttotal: 496ms\tremaining: 180ms\n",
      "734:\tlearn: 0.0158353\ttotal: 497ms\tremaining: 179ms\n",
      "735:\tlearn: 0.0158050\ttotal: 499ms\tremaining: 179ms\n",
      "736:\tlearn: 0.0157829\ttotal: 499ms\tremaining: 178ms\n",
      "737:\tlearn: 0.0157660\ttotal: 500ms\tremaining: 177ms\n",
      "738:\tlearn: 0.0157504\ttotal: 500ms\tremaining: 177ms\n",
      "739:\tlearn: 0.0157397\ttotal: 500ms\tremaining: 176ms\n",
      "740:\tlearn: 0.0157259\ttotal: 501ms\tremaining: 175ms\n",
      "741:\tlearn: 0.0157117\ttotal: 502ms\tremaining: 174ms\n",
      "742:\tlearn: 0.0157048\ttotal: 502ms\tremaining: 174ms\n",
      "743:\tlearn: 0.0156907\ttotal: 503ms\tremaining: 173ms\n",
      "744:\tlearn: 0.0156444\ttotal: 503ms\tremaining: 172ms\n",
      "745:\tlearn: 0.0156294\ttotal: 503ms\tremaining: 171ms\n",
      "746:\tlearn: 0.0156071\ttotal: 504ms\tremaining: 171ms\n",
      "747:\tlearn: 0.0156013\ttotal: 504ms\tremaining: 170ms\n",
      "748:\tlearn: 0.0155951\ttotal: 504ms\tremaining: 169ms\n",
      "749:\tlearn: 0.0155794\ttotal: 505ms\tremaining: 168ms\n",
      "750:\tlearn: 0.0155689\ttotal: 505ms\tremaining: 167ms\n",
      "751:\tlearn: 0.0155540\ttotal: 505ms\tremaining: 167ms\n",
      "752:\tlearn: 0.0155247\ttotal: 506ms\tremaining: 166ms\n",
      "753:\tlearn: 0.0155100\ttotal: 506ms\tremaining: 165ms\n",
      "754:\tlearn: 0.0155009\ttotal: 506ms\tremaining: 164ms\n",
      "755:\tlearn: 0.0154923\ttotal: 507ms\tremaining: 164ms\n",
      "756:\tlearn: 0.0154871\ttotal: 507ms\tremaining: 163ms\n",
      "757:\tlearn: 0.0154727\ttotal: 507ms\tremaining: 162ms\n",
      "758:\tlearn: 0.0154668\ttotal: 508ms\tremaining: 161ms\n",
      "759:\tlearn: 0.0154612\ttotal: 508ms\tremaining: 161ms\n",
      "760:\tlearn: 0.0154470\ttotal: 510ms\tremaining: 160ms\n",
      "761:\tlearn: 0.0154197\ttotal: 512ms\tremaining: 160ms\n",
      "762:\tlearn: 0.0153971\ttotal: 513ms\tremaining: 159ms\n",
      "763:\tlearn: 0.0153833\ttotal: 514ms\tremaining: 159ms\n",
      "764:\tlearn: 0.0153738\ttotal: 514ms\tremaining: 158ms\n",
      "765:\tlearn: 0.0153626\ttotal: 515ms\tremaining: 157ms\n",
      "766:\tlearn: 0.0153467\ttotal: 516ms\tremaining: 157ms\n",
      "767:\tlearn: 0.0153254\ttotal: 517ms\tremaining: 156ms\n",
      "768:\tlearn: 0.0153069\ttotal: 518ms\tremaining: 156ms\n",
      "769:\tlearn: 0.0152976\ttotal: 519ms\tremaining: 155ms\n",
      "770:\tlearn: 0.0152875\ttotal: 519ms\tremaining: 154ms\n",
      "771:\tlearn: 0.0152785\ttotal: 520ms\tremaining: 154ms\n",
      "772:\tlearn: 0.0152564\ttotal: 521ms\tremaining: 153ms\n",
      "773:\tlearn: 0.0152468\ttotal: 521ms\tremaining: 152ms\n",
      "774:\tlearn: 0.0152433\ttotal: 522ms\tremaining: 151ms\n",
      "775:\tlearn: 0.0152300\ttotal: 522ms\tremaining: 151ms\n",
      "776:\tlearn: 0.0152176\ttotal: 525ms\tremaining: 151ms\n",
      "777:\tlearn: 0.0152112\ttotal: 526ms\tremaining: 150ms\n",
      "778:\tlearn: 0.0151952\ttotal: 526ms\tremaining: 149ms\n",
      "779:\tlearn: 0.0151918\ttotal: 527ms\tremaining: 149ms\n",
      "780:\tlearn: 0.0151649\ttotal: 527ms\tremaining: 148ms\n",
      "781:\tlearn: 0.0151617\ttotal: 528ms\tremaining: 147ms\n",
      "782:\tlearn: 0.0151518\ttotal: 528ms\tremaining: 146ms\n",
      "783:\tlearn: 0.0151393\ttotal: 529ms\tremaining: 146ms\n",
      "784:\tlearn: 0.0151307\ttotal: 530ms\tremaining: 145ms\n",
      "785:\tlearn: 0.0151251\ttotal: 530ms\tremaining: 144ms\n",
      "786:\tlearn: 0.0151165\ttotal: 531ms\tremaining: 144ms\n",
      "787:\tlearn: 0.0150947\ttotal: 531ms\tremaining: 143ms\n",
      "788:\tlearn: 0.0150820\ttotal: 532ms\tremaining: 142ms\n",
      "789:\tlearn: 0.0150517\ttotal: 532ms\tremaining: 141ms\n",
      "790:\tlearn: 0.0150242\ttotal: 533ms\tremaining: 141ms\n",
      "791:\tlearn: 0.0150073\ttotal: 533ms\tremaining: 140ms\n",
      "792:\tlearn: 0.0149993\ttotal: 534ms\tremaining: 139ms\n",
      "793:\tlearn: 0.0149792\ttotal: 534ms\tremaining: 139ms\n",
      "794:\tlearn: 0.0149518\ttotal: 534ms\tremaining: 138ms\n",
      "795:\tlearn: 0.0149449\ttotal: 535ms\tremaining: 137ms\n",
      "796:\tlearn: 0.0149345\ttotal: 535ms\tremaining: 136ms\n",
      "797:\tlearn: 0.0149137\ttotal: 536ms\tremaining: 136ms\n",
      "798:\tlearn: 0.0148934\ttotal: 536ms\tremaining: 135ms\n",
      "799:\tlearn: 0.0148855\ttotal: 537ms\tremaining: 134ms\n",
      "800:\tlearn: 0.0148688\ttotal: 537ms\tremaining: 134ms\n",
      "801:\tlearn: 0.0148641\ttotal: 538ms\tremaining: 133ms\n",
      "802:\tlearn: 0.0148564\ttotal: 538ms\tremaining: 132ms\n",
      "803:\tlearn: 0.0148490\ttotal: 539ms\tremaining: 131ms\n",
      "804:\tlearn: 0.0148408\ttotal: 539ms\tremaining: 131ms\n",
      "805:\tlearn: 0.0148128\ttotal: 540ms\tremaining: 130ms\n",
      "806:\tlearn: 0.0148022\ttotal: 540ms\tremaining: 129ms\n",
      "807:\tlearn: 0.0147924\ttotal: 541ms\tremaining: 128ms\n",
      "808:\tlearn: 0.0147742\ttotal: 541ms\tremaining: 128ms\n",
      "809:\tlearn: 0.0147626\ttotal: 542ms\tremaining: 127ms\n",
      "810:\tlearn: 0.0147507\ttotal: 542ms\tremaining: 126ms\n",
      "811:\tlearn: 0.0147462\ttotal: 543ms\tremaining: 126ms\n",
      "812:\tlearn: 0.0147403\ttotal: 543ms\tremaining: 125ms\n",
      "813:\tlearn: 0.0147199\ttotal: 544ms\tremaining: 124ms\n",
      "814:\tlearn: 0.0147160\ttotal: 544ms\tremaining: 124ms\n",
      "815:\tlearn: 0.0147022\ttotal: 545ms\tremaining: 123ms\n",
      "816:\tlearn: 0.0146949\ttotal: 546ms\tremaining: 122ms\n",
      "817:\tlearn: 0.0146902\ttotal: 547ms\tremaining: 122ms\n",
      "818:\tlearn: 0.0146858\ttotal: 548ms\tremaining: 121ms\n",
      "819:\tlearn: 0.0146703\ttotal: 548ms\tremaining: 120ms\n",
      "820:\tlearn: 0.0146551\ttotal: 548ms\tremaining: 120ms\n",
      "821:\tlearn: 0.0146417\ttotal: 549ms\tremaining: 119ms\n",
      "822:\tlearn: 0.0146311\ttotal: 549ms\tremaining: 118ms\n",
      "823:\tlearn: 0.0146281\ttotal: 549ms\tremaining: 117ms\n",
      "824:\tlearn: 0.0146176\ttotal: 550ms\tremaining: 117ms\n",
      "825:\tlearn: 0.0145933\ttotal: 552ms\tremaining: 116ms\n",
      "826:\tlearn: 0.0145787\ttotal: 552ms\tremaining: 116ms\n",
      "827:\tlearn: 0.0145717\ttotal: 553ms\tremaining: 115ms\n",
      "828:\tlearn: 0.0145633\ttotal: 555ms\tremaining: 114ms\n",
      "829:\tlearn: 0.0145394\ttotal: 556ms\tremaining: 114ms\n",
      "830:\tlearn: 0.0145145\ttotal: 557ms\tremaining: 113ms\n",
      "831:\tlearn: 0.0144984\ttotal: 557ms\tremaining: 113ms\n",
      "832:\tlearn: 0.0144919\ttotal: 558ms\tremaining: 112ms\n",
      "833:\tlearn: 0.0144808\ttotal: 558ms\tremaining: 111ms\n",
      "834:\tlearn: 0.0144680\ttotal: 559ms\tremaining: 111ms\n",
      "835:\tlearn: 0.0144561\ttotal: 560ms\tremaining: 110ms\n",
      "836:\tlearn: 0.0144488\ttotal: 561ms\tremaining: 109ms\n",
      "837:\tlearn: 0.0144375\ttotal: 562ms\tremaining: 109ms\n",
      "838:\tlearn: 0.0144251\ttotal: 563ms\tremaining: 108ms\n",
      "839:\tlearn: 0.0143994\ttotal: 563ms\tremaining: 107ms\n",
      "840:\tlearn: 0.0143874\ttotal: 564ms\tremaining: 107ms\n",
      "841:\tlearn: 0.0143628\ttotal: 565ms\tremaining: 106ms\n",
      "842:\tlearn: 0.0143566\ttotal: 565ms\tremaining: 105ms\n",
      "843:\tlearn: 0.0143482\ttotal: 565ms\tremaining: 105ms\n",
      "844:\tlearn: 0.0143359\ttotal: 566ms\tremaining: 104ms\n",
      "845:\tlearn: 0.0143313\ttotal: 566ms\tremaining: 103ms\n",
      "846:\tlearn: 0.0143224\ttotal: 567ms\tremaining: 102ms\n",
      "847:\tlearn: 0.0143150\ttotal: 567ms\tremaining: 102ms\n",
      "848:\tlearn: 0.0143065\ttotal: 567ms\tremaining: 101ms\n",
      "849:\tlearn: 0.0142980\ttotal: 568ms\tremaining: 100ms\n",
      "850:\tlearn: 0.0142935\ttotal: 569ms\tremaining: 99.5ms\n",
      "851:\tlearn: 0.0142807\ttotal: 569ms\tremaining: 98.8ms\n",
      "852:\tlearn: 0.0142628\ttotal: 569ms\tremaining: 98.1ms\n",
      "853:\tlearn: 0.0142433\ttotal: 570ms\tremaining: 97.4ms\n",
      "854:\tlearn: 0.0142376\ttotal: 570ms\tremaining: 96.6ms\n",
      "855:\tlearn: 0.0142226\ttotal: 570ms\tremaining: 95.9ms\n",
      "856:\tlearn: 0.0141966\ttotal: 571ms\tremaining: 95.2ms\n",
      "857:\tlearn: 0.0141799\ttotal: 571ms\tremaining: 94.5ms\n",
      "858:\tlearn: 0.0141693\ttotal: 571ms\tremaining: 93.8ms\n",
      "859:\tlearn: 0.0141611\ttotal: 571ms\tremaining: 93ms\n",
      "860:\tlearn: 0.0141424\ttotal: 572ms\tremaining: 92.3ms\n",
      "861:\tlearn: 0.0141253\ttotal: 572ms\tremaining: 91.6ms\n",
      "862:\tlearn: 0.0141198\ttotal: 573ms\tremaining: 90.9ms\n",
      "863:\tlearn: 0.0141121\ttotal: 573ms\tremaining: 90.2ms\n",
      "864:\tlearn: 0.0140993\ttotal: 574ms\tremaining: 89.6ms\n",
      "865:\tlearn: 0.0140819\ttotal: 574ms\tremaining: 88.8ms\n",
      "866:\tlearn: 0.0140714\ttotal: 575ms\tremaining: 88.1ms\n",
      "867:\tlearn: 0.0140631\ttotal: 575ms\tremaining: 87.5ms\n",
      "868:\tlearn: 0.0140570\ttotal: 576ms\tremaining: 86.8ms\n",
      "869:\tlearn: 0.0140459\ttotal: 576ms\tremaining: 86.1ms\n",
      "870:\tlearn: 0.0140345\ttotal: 577ms\tremaining: 85.4ms\n",
      "871:\tlearn: 0.0140181\ttotal: 577ms\tremaining: 84.7ms\n",
      "872:\tlearn: 0.0140106\ttotal: 578ms\tremaining: 84ms\n",
      "873:\tlearn: 0.0139906\ttotal: 578ms\tremaining: 83.3ms\n",
      "874:\tlearn: 0.0139793\ttotal: 578ms\tremaining: 82.6ms\n",
      "875:\tlearn: 0.0139738\ttotal: 579ms\tremaining: 81.9ms\n",
      "876:\tlearn: 0.0139404\ttotal: 579ms\tremaining: 81.2ms\n",
      "877:\tlearn: 0.0139346\ttotal: 579ms\tremaining: 80.5ms\n",
      "878:\tlearn: 0.0139279\ttotal: 579ms\tremaining: 79.8ms\n",
      "879:\tlearn: 0.0139067\ttotal: 580ms\tremaining: 79.1ms\n",
      "880:\tlearn: 0.0138964\ttotal: 580ms\tremaining: 78.4ms\n",
      "881:\tlearn: 0.0138695\ttotal: 582ms\tremaining: 77.8ms\n",
      "882:\tlearn: 0.0138600\ttotal: 583ms\tremaining: 77.2ms\n",
      "883:\tlearn: 0.0138458\ttotal: 584ms\tremaining: 76.6ms\n",
      "884:\tlearn: 0.0138405\ttotal: 584ms\tremaining: 75.9ms\n",
      "885:\tlearn: 0.0138300\ttotal: 585ms\tremaining: 75.2ms\n",
      "886:\tlearn: 0.0138129\ttotal: 585ms\tremaining: 74.5ms\n",
      "887:\tlearn: 0.0138050\ttotal: 586ms\tremaining: 73.9ms\n",
      "888:\tlearn: 0.0137895\ttotal: 586ms\tremaining: 73.2ms\n",
      "889:\tlearn: 0.0137545\ttotal: 586ms\tremaining: 72.5ms\n",
      "890:\tlearn: 0.0137504\ttotal: 587ms\tremaining: 71.8ms\n",
      "891:\tlearn: 0.0137478\ttotal: 587ms\tremaining: 71.1ms\n",
      "892:\tlearn: 0.0137310\ttotal: 588ms\tremaining: 70.4ms\n",
      "893:\tlearn: 0.0137137\ttotal: 588ms\tremaining: 69.7ms\n",
      "894:\tlearn: 0.0136901\ttotal: 588ms\tremaining: 69ms\n",
      "895:\tlearn: 0.0136777\ttotal: 588ms\tremaining: 68.3ms\n",
      "896:\tlearn: 0.0136679\ttotal: 589ms\tremaining: 67.6ms\n",
      "897:\tlearn: 0.0136598\ttotal: 589ms\tremaining: 66.9ms\n",
      "898:\tlearn: 0.0136517\ttotal: 589ms\tremaining: 66.2ms\n",
      "899:\tlearn: 0.0136436\ttotal: 589ms\tremaining: 65.5ms\n",
      "900:\tlearn: 0.0136329\ttotal: 590ms\tremaining: 64.9ms\n",
      "901:\tlearn: 0.0136254\ttotal: 591ms\tremaining: 64.2ms\n",
      "902:\tlearn: 0.0136147\ttotal: 591ms\tremaining: 63.5ms\n",
      "903:\tlearn: 0.0136071\ttotal: 591ms\tremaining: 62.8ms\n",
      "904:\tlearn: 0.0135960\ttotal: 592ms\tremaining: 62.1ms\n",
      "905:\tlearn: 0.0135660\ttotal: 592ms\tremaining: 61.4ms\n",
      "906:\tlearn: 0.0135520\ttotal: 592ms\tremaining: 60.7ms\n"
     ]
    },
    {
     "name": "stdout",
     "output_type": "stream",
     "text": [
      "907:\tlearn: 0.0135353\ttotal: 593ms\tremaining: 60.1ms\n",
      "908:\tlearn: 0.0135295\ttotal: 595ms\tremaining: 59.6ms\n",
      "909:\tlearn: 0.0135192\ttotal: 595ms\tremaining: 58.9ms\n",
      "910:\tlearn: 0.0135128\ttotal: 596ms\tremaining: 58.2ms\n",
      "911:\tlearn: 0.0135019\ttotal: 597ms\tremaining: 57.6ms\n",
      "912:\tlearn: 0.0134841\ttotal: 597ms\tremaining: 56.9ms\n",
      "913:\tlearn: 0.0134743\ttotal: 598ms\tremaining: 56.2ms\n",
      "914:\tlearn: 0.0134610\ttotal: 598ms\tremaining: 55.6ms\n",
      "915:\tlearn: 0.0134585\ttotal: 599ms\tremaining: 54.9ms\n",
      "916:\tlearn: 0.0134437\ttotal: 599ms\tremaining: 54.2ms\n",
      "917:\tlearn: 0.0134342\ttotal: 599ms\tremaining: 53.5ms\n",
      "918:\tlearn: 0.0134064\ttotal: 599ms\tremaining: 52.8ms\n",
      "919:\tlearn: 0.0133936\ttotal: 600ms\tremaining: 52.1ms\n",
      "920:\tlearn: 0.0133899\ttotal: 600ms\tremaining: 51.5ms\n",
      "921:\tlearn: 0.0133875\ttotal: 601ms\tremaining: 50.8ms\n",
      "922:\tlearn: 0.0133758\ttotal: 601ms\tremaining: 50.2ms\n",
      "923:\tlearn: 0.0133633\ttotal: 602ms\tremaining: 49.5ms\n",
      "924:\tlearn: 0.0133608\ttotal: 602ms\tremaining: 48.8ms\n",
      "925:\tlearn: 0.0133400\ttotal: 603ms\tremaining: 48.2ms\n",
      "926:\tlearn: 0.0133225\ttotal: 603ms\tremaining: 47.5ms\n",
      "927:\tlearn: 0.0133110\ttotal: 604ms\tremaining: 46.9ms\n",
      "928:\tlearn: 0.0132986\ttotal: 604ms\tremaining: 46.2ms\n",
      "929:\tlearn: 0.0132946\ttotal: 605ms\tremaining: 45.5ms\n",
      "930:\tlearn: 0.0132898\ttotal: 605ms\tremaining: 44.9ms\n",
      "931:\tlearn: 0.0132807\ttotal: 606ms\tremaining: 44.2ms\n",
      "932:\tlearn: 0.0132764\ttotal: 606ms\tremaining: 43.5ms\n",
      "933:\tlearn: 0.0132680\ttotal: 607ms\tremaining: 42.9ms\n",
      "934:\tlearn: 0.0132527\ttotal: 607ms\tremaining: 42.2ms\n",
      "935:\tlearn: 0.0132398\ttotal: 607ms\tremaining: 41.5ms\n",
      "936:\tlearn: 0.0132330\ttotal: 608ms\tremaining: 40.8ms\n",
      "937:\tlearn: 0.0132274\ttotal: 608ms\tremaining: 40.2ms\n",
      "938:\tlearn: 0.0132224\ttotal: 608ms\tremaining: 39.5ms\n",
      "939:\tlearn: 0.0132092\ttotal: 608ms\tremaining: 38.8ms\n",
      "940:\tlearn: 0.0132003\ttotal: 609ms\tremaining: 38.2ms\n",
      "941:\tlearn: 0.0131900\ttotal: 609ms\tremaining: 37.5ms\n",
      "942:\tlearn: 0.0131800\ttotal: 609ms\tremaining: 36.8ms\n",
      "943:\tlearn: 0.0131657\ttotal: 610ms\tremaining: 36.2ms\n",
      "944:\tlearn: 0.0131584\ttotal: 610ms\tremaining: 35.5ms\n",
      "945:\tlearn: 0.0131498\ttotal: 610ms\tremaining: 34.8ms\n",
      "946:\tlearn: 0.0131478\ttotal: 611ms\tremaining: 34.2ms\n",
      "947:\tlearn: 0.0131283\ttotal: 611ms\tremaining: 33.5ms\n",
      "948:\tlearn: 0.0131175\ttotal: 612ms\tremaining: 32.9ms\n",
      "949:\tlearn: 0.0131110\ttotal: 613ms\tremaining: 32.3ms\n",
      "950:\tlearn: 0.0131072\ttotal: 613ms\tremaining: 31.6ms\n",
      "951:\tlearn: 0.0130791\ttotal: 614ms\tremaining: 31ms\n",
      "952:\tlearn: 0.0130760\ttotal: 614ms\tremaining: 30.3ms\n",
      "953:\tlearn: 0.0130683\ttotal: 615ms\tremaining: 29.7ms\n",
      "954:\tlearn: 0.0130650\ttotal: 616ms\tremaining: 29ms\n",
      "955:\tlearn: 0.0130547\ttotal: 616ms\tremaining: 28.4ms\n",
      "956:\tlearn: 0.0130479\ttotal: 617ms\tremaining: 27.7ms\n",
      "957:\tlearn: 0.0130428\ttotal: 617ms\tremaining: 27.1ms\n",
      "958:\tlearn: 0.0130340\ttotal: 618ms\tremaining: 26.4ms\n",
      "959:\tlearn: 0.0130218\ttotal: 619ms\tremaining: 25.8ms\n",
      "960:\tlearn: 0.0130174\ttotal: 619ms\tremaining: 25.1ms\n",
      "961:\tlearn: 0.0130084\ttotal: 619ms\tremaining: 24.5ms\n",
      "962:\tlearn: 0.0130020\ttotal: 619ms\tremaining: 23.8ms\n",
      "963:\tlearn: 0.0129971\ttotal: 620ms\tremaining: 23.1ms\n",
      "964:\tlearn: 0.0129911\ttotal: 620ms\tremaining: 22.5ms\n",
      "965:\tlearn: 0.0129779\ttotal: 620ms\tremaining: 21.8ms\n",
      "966:\tlearn: 0.0129600\ttotal: 621ms\tremaining: 21.2ms\n",
      "967:\tlearn: 0.0129418\ttotal: 621ms\tremaining: 20.5ms\n",
      "968:\tlearn: 0.0129314\ttotal: 622ms\tremaining: 19.9ms\n",
      "969:\tlearn: 0.0129250\ttotal: 622ms\tremaining: 19.2ms\n",
      "970:\tlearn: 0.0129145\ttotal: 623ms\tremaining: 18.6ms\n",
      "971:\tlearn: 0.0129100\ttotal: 623ms\tremaining: 18ms\n",
      "972:\tlearn: 0.0128987\ttotal: 624ms\tremaining: 17.3ms\n",
      "973:\tlearn: 0.0128944\ttotal: 624ms\tremaining: 16.7ms\n",
      "974:\tlearn: 0.0128842\ttotal: 625ms\tremaining: 16ms\n",
      "975:\tlearn: 0.0128701\ttotal: 625ms\tremaining: 15.4ms\n",
      "976:\tlearn: 0.0128614\ttotal: 626ms\tremaining: 14.7ms\n",
      "977:\tlearn: 0.0128595\ttotal: 626ms\tremaining: 14.1ms\n",
      "978:\tlearn: 0.0128510\ttotal: 627ms\tremaining: 13.4ms\n",
      "979:\tlearn: 0.0128343\ttotal: 627ms\tremaining: 12.8ms\n",
      "980:\tlearn: 0.0128251\ttotal: 627ms\tremaining: 12.2ms\n",
      "981:\tlearn: 0.0128228\ttotal: 628ms\tremaining: 11.5ms\n",
      "982:\tlearn: 0.0128182\ttotal: 628ms\tremaining: 10.9ms\n",
      "983:\tlearn: 0.0128088\ttotal: 628ms\tremaining: 10.2ms\n",
      "984:\tlearn: 0.0128021\ttotal: 629ms\tremaining: 9.57ms\n",
      "985:\tlearn: 0.0127872\ttotal: 629ms\tremaining: 8.93ms\n",
      "986:\tlearn: 0.0127815\ttotal: 629ms\tremaining: 8.29ms\n",
      "987:\tlearn: 0.0127720\ttotal: 630ms\tremaining: 7.64ms\n",
      "988:\tlearn: 0.0127651\ttotal: 630ms\tremaining: 7ms\n",
      "989:\tlearn: 0.0127571\ttotal: 630ms\tremaining: 6.36ms\n",
      "990:\tlearn: 0.0127466\ttotal: 630ms\tremaining: 5.73ms\n",
      "991:\tlearn: 0.0127409\ttotal: 631ms\tremaining: 5.09ms\n",
      "992:\tlearn: 0.0127333\ttotal: 632ms\tremaining: 4.45ms\n",
      "993:\tlearn: 0.0127298\ttotal: 632ms\tremaining: 3.82ms\n"
     ]
    },
    {
     "name": "stdout",
     "output_type": "stream",
     "text": [
      "994:\tlearn: 0.0127238\ttotal: 633ms\tremaining: 3.18ms\n",
      "995:\tlearn: 0.0127189\ttotal: 635ms\tremaining: 2.55ms\n",
      "996:\tlearn: 0.0127059\ttotal: 636ms\tremaining: 1.91ms\n",
      "997:\tlearn: 0.0126965\ttotal: 636ms\tremaining: 1.27ms\n",
      "998:\tlearn: 0.0126924\ttotal: 637ms\tremaining: 637us\n",
      "999:\tlearn: 0.0126765\ttotal: 637ms\tremaining: 0us\n"
     ]
    },
    {
     "data": {
      "text/plain": [
       "<catboost.core.CatBoostRegressor at 0x7fd79761f160>"
      ]
     },
     "execution_count": 9,
     "metadata": {},
     "output_type": "execute_result"
    }
   ],
   "source": [
    "#Train the Model \n",
    "prior_model = ctb.CatBoostRegressor()\n",
    "prior_model.fit(X_train,Y_train)"
   ]
  },
  {
   "cell_type": "code",
   "execution_count": 10,
   "id": "af65dcda",
   "metadata": {
    "execution": {
     "iopub.execute_input": "2022-07-24T23:21:23.471762Z",
     "iopub.status.busy": "2022-07-24T23:21:23.471467Z",
     "iopub.status.idle": "2022-07-24T23:21:23.506441Z",
     "shell.execute_reply": "2022-07-24T23:21:23.504427Z"
    },
    "id": "af65dcda",
    "papermill": {
     "duration": 0.053181,
     "end_time": "2022-07-24T23:21:23.511774",
     "exception": false,
     "start_time": "2022-07-24T23:21:23.458593",
     "status": "completed"
    },
    "tags": []
   },
   "outputs": [
    {
     "data": {
      "application/scrapbook.scrap.json+json": {
       "data": 0.0016325453851260736,
       "encoder": "json",
       "name": "Prior Model MSE",
       "version": 1
      }
     },
     "metadata": {
      "scrapbook": {
       "data": true,
       "display": false,
       "name": "Prior Model MSE"
      }
     },
     "output_type": "display_data"
    },
    {
     "data": {
      "application/scrapbook.scrap.json+json": {
       "data": 0.001692072738249198,
       "encoder": "json",
       "name": "ABC Pre-generator MSE",
       "version": 1
      }
     },
     "metadata": {
      "scrapbook": {
       "data": true,
       "display": false,
       "name": "ABC Pre-generator MSE"
      }
     },
     "output_type": "display_data"
    },
    {
     "data": {
      "application/scrapbook.scrap.json+json": {
       "data": 0.025632610877098314,
       "encoder": "json",
       "name": "Prior Model MAE",
       "version": 1
      }
     },
     "metadata": {
      "scrapbook": {
       "data": true,
       "display": false,
       "name": "Prior Model MAE"
      }
     },
     "output_type": "display_data"
    },
    {
     "name": "stdout",
     "output_type": "stream",
     "text": [
      "Prior Model MAE 0.025632610877098314\n",
      "ABC Pre-generator MAE 0.026746416175953903\n"
     ]
    }
   ],
   "source": [
    "y_pred = prior_model.predict(X_test)\n",
    "y_abc = y_pred + np.random.normal(0,variance, y_pred.shape) + bias \n",
    "mse = mean_squared_error(y_pred,Y_test)\n",
    "sb.glue(\"Prior Model MSE\",mse)\n",
    "mse = mean_squared_error(y_abc,Y_test)\n",
    "sb.glue(\"ABC Pre-generator MSE\",mse)\n",
    "mae = mean_absolute_error(y_pred,Y_test)\n",
    "sb.glue(\"Prior Model MAE\",mae)\n",
    "print(\"Prior Model MAE\",mae)\n",
    "mae = mean_absolute_error(y_abc,Y_test)\n",
    "print(\"ABC Pre-generator MAE\",mae)"
   ]
  },
  {
   "cell_type": "markdown",
   "id": "25609da2",
   "metadata": {
    "papermill": {
     "duration": 0.035445,
     "end_time": "2022-07-24T23:21:23.568292",
     "exception": false,
     "start_time": "2022-07-24T23:21:23.532847",
     "status": "completed"
    },
    "tags": []
   },
   "source": [
    "# mGAN Model"
   ]
  },
  {
   "cell_type": "code",
   "execution_count": 11,
   "id": "dfc3464d",
   "metadata": {
    "execution": {
     "iopub.execute_input": "2022-07-24T23:21:23.594914Z",
     "iopub.status.busy": "2022-07-24T23:21:23.594458Z",
     "iopub.status.idle": "2022-07-24T23:21:23.603276Z",
     "shell.execute_reply": "2022-07-24T23:21:23.601547Z"
    },
    "papermill": {
     "duration": 0.029399,
     "end_time": "2022-07-24T23:21:23.609049",
     "exception": false,
     "start_time": "2022-07-24T23:21:23.579650",
     "status": "completed"
    },
    "tags": []
   },
   "outputs": [],
   "source": [
    "# gen = network.Generator(n_features+1).to(device)\n",
    "# disc = network.Discriminator(n_features+1).to(device)\n",
    "\n",
    "# criterion = torch.nn.BCELoss()\n",
    "# gen_opt = torch.optim.Adam(gen.parameters(), lr=0.01, betas=(0.5, 0.999))\n",
    "# disc_opt = torch.optim.Adam(disc.parameters(), lr=0.01, betas=(0.5, 0.999))"
   ]
  },
  {
   "cell_type": "code",
   "execution_count": 12,
   "id": "b75fdd85",
   "metadata": {
    "execution": {
     "iopub.execute_input": "2022-07-24T23:21:23.639109Z",
     "iopub.status.busy": "2022-07-24T23:21:23.638714Z",
     "iopub.status.idle": "2022-07-24T23:21:23.644352Z",
     "shell.execute_reply": "2022-07-24T23:21:23.642253Z"
    },
    "papermill": {
     "duration": 0.028091,
     "end_time": "2022-07-24T23:21:23.651596",
     "exception": false,
     "start_time": "2022-07-24T23:21:23.623505",
     "status": "completed"
    },
    "tags": []
   },
   "outputs": [],
   "source": [
    "#Training the ABC_GAN \n",
    "# ABC_train_test2.training_GAN(disc,gen,disc_opt,gen_opt,train_data,batch_size,n_epochs,criterion,prior_model,variance,bias,device)"
   ]
  },
  {
   "cell_type": "code",
   "execution_count": 13,
   "id": "1fa7c368",
   "metadata": {
    "execution": {
     "iopub.execute_input": "2022-07-24T23:21:23.680219Z",
     "iopub.status.busy": "2022-07-24T23:21:23.679614Z",
     "iopub.status.idle": "2022-07-24T23:21:23.684692Z",
     "shell.execute_reply": "2022-07-24T23:21:23.683086Z"
    },
    "papermill": {
     "duration": 0.020391,
     "end_time": "2022-07-24T23:21:23.687609",
     "exception": false,
     "start_time": "2022-07-24T23:21:23.667218",
     "status": "completed"
    },
    "tags": []
   },
   "outputs": [],
   "source": [
    "# ABC_GAN1_metrics=ABC_train_test2.test_generator(gen,test_data,prior_model,variance,bias,\"1\",device)\n",
    "# sb.glue(\"ABC_GAN_1 Metrics\",ABC_GAN1_metrics)\n",
    "\n",
    "# print(\"MAE\")\n",
    "# print(mean(ABC_GAN1_metrics[1]))"
   ]
  },
  {
   "cell_type": "code",
   "execution_count": 14,
   "id": "eb22ce5c",
   "metadata": {
    "execution": {
     "iopub.execute_input": "2022-07-24T23:21:23.725991Z",
     "iopub.status.busy": "2022-07-24T23:21:23.725347Z",
     "iopub.status.idle": "2022-07-24T23:21:23.731099Z",
     "shell.execute_reply": "2022-07-24T23:21:23.728955Z"
    },
    "papermill": {
     "duration": 0.02564,
     "end_time": "2022-07-24T23:21:23.736427",
     "exception": false,
     "start_time": "2022-07-24T23:21:23.710787",
     "status": "completed"
    },
    "tags": []
   },
   "outputs": [],
   "source": [
    "# sanityChecks.discProbVsError(train_data,disc,device)\n",
    "# sanityChecks.discProbVsError(test_data,disc,device)"
   ]
  },
  {
   "cell_type": "markdown",
   "id": "92de6e65",
   "metadata": {
    "papermill": {
     "duration": 0.017182,
     "end_time": "2022-07-24T23:21:23.766423",
     "exception": false,
     "start_time": "2022-07-24T23:21:23.749241",
     "status": "completed"
    },
    "tags": []
   },
   "source": [
    "# mGAN Model with TabNet Generator"
   ]
  },
  {
   "cell_type": "code",
   "execution_count": 15,
   "id": "8d583db3",
   "metadata": {
    "execution": {
     "iopub.execute_input": "2022-07-24T23:21:23.791042Z",
     "iopub.status.busy": "2022-07-24T23:21:23.790516Z",
     "iopub.status.idle": "2022-07-24T23:21:23.821586Z",
     "shell.execute_reply": "2022-07-24T23:21:23.820830Z"
    },
    "papermill": {
     "duration": 0.046884,
     "end_time": "2022-07-24T23:21:23.824221",
     "exception": false,
     "start_time": "2022-07-24T23:21:23.777337",
     "status": "completed"
    },
    "tags": []
   },
   "outputs": [],
   "source": [
    "gen2 = network.GeneratorTabnet(n_features+1).to(device)\n",
    "disc2 = network.Discriminator(n_features+1).to(device)\n",
    "\n",
    "criterion = torch.nn.BCELoss()\n",
    "gen_opt = torch.optim.Adam(gen2.parameters(), lr=0.01, betas=(0.5, 0.999))\n",
    "disc_opt = torch.optim.Adam(disc2.parameters(), lr=0.01, betas=(0.5, 0.999))"
   ]
  },
  {
   "cell_type": "code",
   "execution_count": 16,
   "id": "8b38a124",
   "metadata": {
    "execution": {
     "iopub.execute_input": "2022-07-24T23:21:23.857267Z",
     "iopub.status.busy": "2022-07-24T23:21:23.856761Z",
     "iopub.status.idle": "2022-07-24T23:38:15.699438Z",
     "shell.execute_reply": "2022-07-24T23:38:15.697352Z"
    },
    "papermill": {
     "duration": 1011.869184,
     "end_time": "2022-07-24T23:38:15.704876",
     "exception": false,
     "start_time": "2022-07-24T23:21:23.835692",
     "status": "completed"
    },
    "tags": []
   },
   "outputs": [
    {
     "data": {
      "image/png": "[encoded data removed]",
      "text/plain": [
       "<Figure size 432x288 with 1 Axes>"
      ]
     },
     "metadata": {
      "needs_background": "light"
     },
     "output_type": "display_data"
    },
    {
     "data": {
      "image/png": "[encoded data removed]",
      "text/plain": [
       "<Figure size 432x288 with 1 Axes>"
      ]
     },
     "metadata": {
      "needs_background": "light"
     },
     "output_type": "display_data"
    }
   ],
   "source": [
    "#Training the ABC_GAN \n",
    "ABC_train_test2.training_GAN(disc2,gen2,disc_opt,gen_opt,train_data,batch_size,n_epochs,criterion,prior_model,variance,bias,device)"
   ]
  },
  {
   "cell_type": "code",
   "execution_count": 17,
   "id": "afbe11fd",
   "metadata": {
    "execution": {
     "iopub.execute_input": "2022-07-24T23:38:15.743821Z",
     "iopub.status.busy": "2022-07-24T23:38:15.742882Z",
     "iopub.status.idle": "2022-07-24T23:38:17.884123Z",
     "shell.execute_reply": "2022-07-24T23:38:17.882733Z"
    },
    "papermill": {
     "duration": 2.167587,
     "end_time": "2022-07-24T23:38:17.887924",
     "exception": false,
     "start_time": "2022-07-24T23:38:15.720337",
     "status": "completed"
    },
    "tags": []
   },
   "outputs": [
    {
     "data": {
      "application/scrapbook.scrap.json+json": {
       "data": 0.0069482704364408985,
       "encoder": "json",
       "name": "ABC-GAN Model 1 MSE",
       "version": 1
      }
     },
     "metadata": {
      "scrapbook": {
       "data": true,
       "display": false,
       "name": "ABC-GAN Model 1 MSE"
      }
     },
     "output_type": "display_data"
    },
    {
     "data": {
      "application/scrapbook.scrap.json+json": {
       "data": 0.0650625068065408,
       "encoder": "json",
       "name": "ABC-GAN Model 1 MAE",
       "version": 1
      }
     },
     "metadata": {
      "scrapbook": {
       "data": true,
       "display": false,
       "name": "ABC-GAN Model 1 MAE"
      }
     },
     "output_type": "display_data"
    },
    {
     "data": {
      "application/scrapbook.scrap.json+json": {
       "data": 10.019626048207282,
       "encoder": "json",
       "name": "ABC-GAN Model 1 Manhattan Distance",
       "version": 1
      }
     },
     "metadata": {
      "scrapbook": {
       "data": true,
       "display": false,
       "name": "ABC-GAN Model 1 Manhattan Distance"
      }
     },
     "output_type": "display_data"
    },
    {
     "data": {
      "application/scrapbook.scrap.json+json": {
       "data": 1.034388491923479,
       "encoder": "json",
       "name": "ABC-GAN Model 1 Euclidean distance",
       "version": 1
      }
     },
     "metadata": {
      "scrapbook": {
       "data": true,
       "display": false,
       "name": "ABC-GAN Model 1 Euclidean distance"
      }
     },
     "output_type": "display_data"
    },
    {
     "data": {
      "application/scrapbook.scrap.json+json": {
       "data": [
        [
         0.006811861769883961,
         0.006954340575322733,
         0.006757418094478716,
         0.0068612428510546756,
         0.006833731131820856,
         0.006857255450597278,
         0.007011654589225491,
         0.006888619484035897,
         0.006967008885373561,
         0.0068741363185099305,
         0.007067699545910053,
         0.00706427025545766,
         0.006902331677062228,
         0.007116531567361027,
         0.00708772514214928,
         0.007105465714636808,
         0.006939116993118651,
         0.007067904964269633,
         0.0069156569094102165,
         0.006987927370020837,
         0.00688225564703541,
         0.006865751121171299,
         0.00719164256630486,
         0.0069744564846083495,
         0.007337983870214675,
         0.007048524556598088,
         0.007039419093782954,
         0.006891845786311005,
         0.006914494724316179,
         0.00693830637829638,
         0.006717394583563444,
         0.006948457035362602,
         0.006800696550073654,
         0.0069809751264627105,
         0.0068421292436718645,
         0.00683261253808268,
         0.006837133877135811,
         0.007076205558816151,
         0.007020414846691422,
         0.0070059126247549695,
         0.006663099705324222,
         0.0070120027108751,
         0.006995341812416137,
         0.00700926329547523,
         0.006833819906744173,
         0.006945251575128286,
         0.006937040210083108,
         0.0069841020838500275,
         0.0066900364682541446,
         0.006956237533590014,
         0.00702153642207418,
         0.006955344769128115,
         0.006850997896003859,
         0.006925649873167176,
         0.006965411130992874,
         0.006992618314342475,
         0.007202726422698617,
         0.006776121803888585,
         0.007025795425776354,
         0.006894392647506163,
         0.007161555691756663,
         0.006881382735445746,
         0.006860007055592286,
         0.006955408858639859,
         0.006906610529233544,
         0.00684652711099445,
         0.0071567581408634095,
         0.006966259478223445,
         0.006850680016725188,
         0.007046373965670335,
         0.007096956095517293,
         0.006837426829769391,
         0.006863181713975052,
         0.006821092207089697,
         0.006982055691224626,
         0.006967704683880174,
         0.0069630355391091525,
         0.006857299567148097,
         0.00708944180929632,
         0.0070369821339038175,
         0.007005152643950059,
         0.007090880254042787,
         0.007021838712263998,
         0.006994904296357975,
         0.0071337218109855365,
         0.006956794864676274,
         0.006874412852650129,
         0.007092742815896279,
         0.006857314844477585,
         0.006943580062604172,
         0.0068068432560545525,
         0.006866596057188591,
         0.00693923530224861,
         0.00687437275031359,
         0.006987260154270577,
         0.00690936049213304,
         0.006856140051405051,
         0.006718089221388863,
         0.006846597239689322,
         0.0070491645971615
        ],
        [
         0.06411014165874425,
         0.06519456747193615,
         0.06405880502969413,
         0.06457797464515481,
         0.06468749856697274,
         0.06487172742845951,
         0.06511396980034066,
         0.06463604756667242,
         0.06552323522409062,
         0.06435497315576325,
         0.06515565628258439,
         0.06632863485871197,
         0.06440556066280062,
         0.06571317123031462,
         0.06610320283511242,
         0.06650338542055,
         0.06490569704442055,
         0.06555270565697899,
         0.06483914439457578,
         0.06498726193684262,
         0.06445964529820077,
         0.06493509955123647,
         0.0667158519824991,
         0.06512780398033656,
         0.06668268373937576,
         0.06547339490385025,
         0.06511294916755968,
         0.06427456823165541,
         0.06470664965545202,
         0.0649618525541835,
         0.06401901254309462,
         0.06488905302793174,
         0.06432420419311369,
         0.06482864942933832,
         0.0648078273788288,
         0.0642495018659861,
         0.06483308329887978,
         0.06548135599435924,
         0.06508953189598275,
         0.06516392139548605,
         0.06404478148883813,
         0.0654834872474531,
         0.06561424242114866,
         0.06530069373548031,
         0.06438643976368687,
         0.0653530451916642,
         0.06465515501603677,
         0.06601888442097546,
         0.06331387740354259,
         0.06463794369105395,
         0.06539781602075348,
         0.0657059664221166,
         0.06453736801329371,
         0.06475577355882564,
         0.06475377525505308,
         0.06505418421289363,
         0.0668793244940507,
         0.06400881492375553,
         0.06568711238925333,
         0.06503698575709548,
         0.06671807690003476,
         0.06501488675448028,
         0.06471520195436942,
         0.06515751428321584,
         0.0651115807765103,
         0.06461505686211122,
         0.06584009138697927,
         0.06465747175955927,
         0.06444892188074527,
         0.06568214759327375,
         0.06568560950071006,
         0.06475443051910246,
         0.06492915979356735,
         0.06348312672759805,
         0.06535069196932501,
         0.06542575589151352,
         0.06520216629005872,
         0.06484717592693769,
         0.06559123754404582,
         0.06541934239303136,
         0.0653246720261001,
         0.06548989126337813,
         0.06521512062421866,
         0.0654553013140118,
         0.06612586237296655,
         0.06508924741926905,
         0.06455519347899145,
         0.066038528215382,
         0.06458998265881817,
         0.06509092031651503,
         0.06459260565023144,
         0.06502108737923108,
         0.06546073472248269,
         0.06478266957421581,
         0.065049753149415,
         0.06481969354117846,
         0.06465639597312971,
         0.06355546064094289,
         0.06473440935762671,
         0.06556783188376333
        ],
        [
         9.872961815446615,
         10.039963390678167,
         9.865055974572897,
         9.945008095353842,
         9.961874779313803,
         9.990246023982763,
         10.027551349252462,
         9.953951325267553,
         10.090578224509954,
         9.91066586598754,
         10.033971067517996,
         10.214609768241644,
         9.918456342071295,
         10.11982836946845,
         10.179893236607313,
         10.2415213547647,
         9.995477344840765,
         10.095116671174765,
         9.98522823676467,
         10.008038338273764,
         9.926785375922918,
         10.000005330890417,
         10.274241205304861,
         10.02968181297183,
         10.269133295863867,
         10.082902815192938,
         10.02739417180419,
         9.898283507674932,
         9.964824046939611,
         10.00412529334426,
         9.858927931636572,
         9.992914166301489,
         9.905927445739508,
         9.983612012118101,
         9.980405416339636,
         9.89442328736186,
         9.984294828027487,
         10.084128823131323,
         10.023787911981344,
         10.035243894904852,
         9.862896349281073,
         10.084457036107779,
         10.104593332856894,
         10.056306835263968,
         9.915511723607779,
         10.064368959516287,
         9.956893872469664,
         10.166908200830221,
         9.75033712014556,
         9.954243328422308,
         10.071263667196035,
         10.118718829005957,
         9.938754674047232,
         9.972389128059149,
         9.972081389278173,
         10.01834436878562,
         10.299415972083807,
         9.857357498258352,
         10.115815307945013,
         10.015695806592703,
         10.274583842605352,
         10.012292560189962,
         9.96614110097289,
         10.03425719961524,
         10.027183439582586,
         9.950718756765127,
         10.139374073594809,
         9.957250650972128,
         9.925133969634771,
         10.115050729364157,
         10.11558386310935,
         9.972182299941778,
         9.999090608209372,
         9.7764015160501,
         10.064006563276052,
         10.075566407293081,
         10.041133608669043,
         9.986465092748404,
         10.101050581783056,
         10.07457872852683,
         10.059999492019415,
         10.085443254560232,
         10.043128576129675,
         10.080116402357817,
         10.18338280543685,
         10.023744102567434,
         9.941499795764685,
         10.169933345168829,
         9.946857329457998,
         10.024001728743315,
         9.947261270135641,
         10.013247456401587,
         10.080953147262335,
         9.976531114429235,
         10.017661985009909,
         9.982232805341482,
         9.957084979861975,
         9.787540938705206,
         9.969099041074514,
         10.097446110099554
        ],
        [
         1.024220050849489,
         1.0348760547039926,
         1.0201188100166187,
         1.0279257750744555,
         1.0258628535532475,
         1.0276270429450467,
         1.0391317561987632,
         1.0299744659657966,
         1.035818212017692,
         1.0288911473282922,
         1.0432764399094556,
         1.0430233071894799,
         1.0309990680245948,
         1.0468743293125486,
         1.0447534024309224,
         1.046060093901908,
         1.0337427227991849,
         1.0432916008947468,
         1.031993781012838,
         1.0373720716229105,
         1.0294986010886333,
         1.0282634257136545,
         1.0523844141809344,
         1.0363716990682859,
         1.06303787139173,
         1.041860250569195,
         1.0411870823452312,
         1.0302156332981434,
         1.0319070634241687,
         1.0336823410785552,
         1.017093292608289,
         1.0344381970160619,
         1.0233803147956984,
         1.0368559058399858,
         1.026493011922374,
         1.0257788898513815,
         1.0261182276321354,
         1.04390404542644,
         1.0397806914876229,
         1.038706187625868,
         1.0129745083761637,
         1.0391575518056755,
         1.0379222702650162,
         1.0389545454461353,
         1.0258695168678142,
         1.0341995661233647,
         1.0335880186770736,
         1.0370880969873795,
         1.0150200077393245,
         1.035017188346581,
         1.0398637454010136,
         1.0349507690927766,
         1.0271580579368467,
         1.0327391153954346,
         1.035699432351347,
         1.0377202033345698,
         1.0531950764675968,
         1.0215296167017587,
         1.0401790689922377,
         1.030405972282745,
         1.0501807351739634,
         1.0294333107387992,
         1.0278331997757282,
         1.0349555373205839,
         1.0313185839021644,
         1.0268228547773688,
         1.0498289163920782,
         1.0357625015641425,
         1.027134228120005,
         1.041701296300063,
         1.0454335171160636,
         1.0261402105874646,
         1.0280710014158352,
         1.0249137524161793,
         1.0369361486844755,
         1.035869934556239,
         1.035522801787971,
         1.0276303485888332,
         1.0448799158906412,
         1.041006843695654,
         1.038649848201168,
         1.0449859133608401,
         1.039886129193315,
         1.0378898118967774,
         1.0481379484074473,
         1.0350586501064305,
         1.0289118423403047,
         1.045123147599376,
         1.0276314933134096,
         1.0340751083171098,
         1.0238426936948863,
         1.0283266955627686,
         1.033751535208672,
         1.028908841223698,
         1.037322545671147,
         1.0315238803772253,
         1.0275434627870383,
         1.0171458794557864,
         1.0268281136159818,
         1.0419075525030381
        ]
       ],
       "encoder": "json",
       "name": "ABC_GAN_2 Metrics",
       "version": 1
      }
     },
     "metadata": {
      "scrapbook": {
       "data": true,
       "display": false,
       "name": "ABC_GAN_2 Metrics"
      }
     },
     "output_type": "display_data"
    },
    {
     "name": "stdout",
     "output_type": "stream",
     "text": [
      "MAE\n",
      "0.0650625068065408\n"
     ]
    }
   ],
   "source": [
    "ABC_GAN2_metrics=ABC_train_test2.test_generator(gen2,test_data,prior_model,variance,bias,\"1\",device)\n",
    "sb.glue(\"ABC_GAN_2 Metrics\",ABC_GAN2_metrics)\n",
    "\n",
    "print(\"MAE\")\n",
    "print(mean(ABC_GAN2_metrics[1]))"
   ]
  },
  {
   "cell_type": "code",
   "execution_count": 18,
   "id": "d87ec150",
   "metadata": {
    "execution": {
     "iopub.execute_input": "2022-07-24T23:38:17.920007Z",
     "iopub.status.busy": "2022-07-24T23:38:17.919500Z",
     "iopub.status.idle": "2022-07-24T23:38:18.863631Z",
     "shell.execute_reply": "2022-07-24T23:38:18.862199Z"
    },
    "papermill": {
     "duration": 0.963391,
     "end_time": "2022-07-24T23:38:18.866840",
     "exception": false,
     "start_time": "2022-07-24T23:38:17.903449",
     "status": "completed"
    },
    "tags": []
   },
   "outputs": [
    {
     "data": {
      "image/png": "[encoded data removed]",
      "text/plain": [
       "<Figure size 432x288 with 1 Axes>"
      ]
     },
     "metadata": {
      "needs_background": "light"
     },
     "output_type": "display_data"
    },
    {
     "data": {
      "image/png": "[encoded data removed]",
      "text/plain": [
       "<Figure size 432x288 with 1 Axes>"
      ]
     },
     "metadata": {
      "needs_background": "light"
     },
     "output_type": "display_data"
    },
    {
     "data": {
      "image/png": "[encoded data removed]",
      "text/plain": [
       "<Figure size 432x288 with 1 Axes>"
      ]
     },
     "metadata": {
      "needs_background": "light"
     },
     "output_type": "display_data"
    },
    {
     "data": {
      "image/png": "[encoded data removed]",
      "text/plain": [
       "<Figure size 432x288 with 1 Axes>"
      ]
     },
     "metadata": {
      "needs_background": "light"
     },
     "output_type": "display_data"
    }
   ],
   "source": [
    "sanityChecks.discProbVsError(train_data,disc2,device)\n",
    "sanityChecks.discProbVsError(test_data,disc2,device)"
   ]
  },
  {
   "cell_type": "markdown",
   "id": "130f3a4d",
   "metadata": {
    "id": "130f3a4d",
    "papermill": {
     "duration": 0.016083,
     "end_time": "2022-07-24T23:38:18.898419",
     "exception": false,
     "start_time": "2022-07-24T23:38:18.882336",
     "status": "completed"
    },
    "tags": []
   },
   "source": [
    "# skipGAN Model"
   ]
  },
  {
   "cell_type": "code",
   "execution_count": 19,
   "id": "4e43dad1",
   "metadata": {
    "execution": {
     "iopub.execute_input": "2022-07-24T23:38:18.933779Z",
     "iopub.status.busy": "2022-07-24T23:38:18.933196Z",
     "iopub.status.idle": "2022-07-24T23:38:18.941964Z",
     "shell.execute_reply": "2022-07-24T23:38:18.941053Z"
    },
    "id": "4e43dad1",
    "papermill": {
     "duration": 0.030283,
     "end_time": "2022-07-24T23:38:18.944860",
     "exception": false,
     "start_time": "2022-07-24T23:38:18.914577",
     "status": "completed"
    },
    "tags": []
   },
   "outputs": [],
   "source": [
    "#Generator\n",
    "gen3 = network.GeneratorWithSkipConnection(n_features+1).to(device)\n",
    "constraints=network.weightConstraint()\n",
    "#Discriminator \n",
    "disc3 = network.Discriminator(n_features+1).to(device)\n",
    "\n",
    "criterion = torch.nn.BCELoss()\n",
    "gen_opt = torch.optim.Adam(gen3.parameters(), lr=0.01, betas=(0.5, 0.999))\n",
    "disc_opt = torch.optim.Adam(disc3.parameters(), lr=0.01, betas=(0.5, 0.999))\n"
   ]
  },
  {
   "cell_type": "code",
   "execution_count": 20,
   "id": "26acbc37",
   "metadata": {
    "execution": {
     "iopub.execute_input": "2022-07-24T23:38:18.979176Z",
     "iopub.status.busy": "2022-07-24T23:38:18.978613Z",
     "iopub.status.idle": "2022-07-24T23:45:55.878848Z",
     "shell.execute_reply": "2022-07-24T23:45:55.876267Z"
    },
    "id": "26acbc37",
    "papermill": {
     "duration": 456.925223,
     "end_time": "2022-07-24T23:45:55.886636",
     "exception": false,
     "start_time": "2022-07-24T23:38:18.961413",
     "status": "completed"
    },
    "tags": []
   },
   "outputs": [
    {
     "data": {
      "image/png": "[encoded data removed]",
      "text/plain": [
       "<Figure size 432x288 with 1 Axes>"
      ]
     },
     "metadata": {
      "needs_background": "light"
     },
     "output_type": "display_data"
    },
    {
     "data": {
      "image/png": "[encoded data removed]",
      "text/plain": [
       "<Figure size 432x288 with 1 Axes>"
      ]
     },
     "metadata": {
      "needs_background": "light"
     },
     "output_type": "display_data"
    }
   ],
   "source": [
    "ABC_train_test2.training_GAN_skip_connection(disc3,gen3,disc_opt,gen_opt,train_data,batch_size,n_epochs,criterion,prior_model,variance,bias,device)"
   ]
  },
  {
   "cell_type": "code",
   "execution_count": 21,
   "id": "c5e0717b",
   "metadata": {
    "execution": {
     "iopub.execute_input": "2022-07-24T23:45:55.965944Z",
     "iopub.status.busy": "2022-07-24T23:45:55.965621Z",
     "iopub.status.idle": "2022-07-24T23:45:58.808489Z",
     "shell.execute_reply": "2022-07-24T23:45:58.789713Z"
    },
    "id": "c5e0717b",
    "papermill": {
     "duration": 2.87648,
     "end_time": "2022-07-24T23:45:58.811599",
     "exception": false,
     "start_time": "2022-07-24T23:45:55.935119",
     "status": "completed"
    },
    "tags": []
   },
   "outputs": [
    {
     "data": {
      "application/scrapbook.scrap.json+json": {
       "data": 0.0018225799668271669,
       "encoder": "json",
       "name": "ABC-GAN Model 3 MSE",
       "version": 1
      }
     },
     "metadata": {
      "scrapbook": {
       "data": true,
       "display": false,
       "name": "ABC-GAN Model 3 MSE"
      }
     },
     "output_type": "display_data"
    },
    {
     "data": {
      "application/scrapbook.scrap.json+json": {
       "data": 0.028744161447582694,
       "encoder": "json",
       "name": "ABC-GAN Model 3 MAE",
       "version": 1
      }
     },
     "metadata": {
      "scrapbook": {
       "data": true,
       "display": false,
       "name": "ABC-GAN Model 3 MAE"
      }
     },
     "output_type": "display_data"
    },
    {
     "data": {
      "application/scrapbook.scrap.json+json": {
       "data": 4.426600862927735,
       "encoder": "json",
       "name": "ABC-GAN Model 3 Manhattan Distance",
       "version": 1
      }
     },
     "metadata": {
      "scrapbook": {
       "data": true,
       "display": false,
       "name": "ABC-GAN Model 3 Manhattan Distance"
      }
     },
     "output_type": "display_data"
    },
    {
     "data": {
      "application/scrapbook.scrap.json+json": {
       "data": 0.5297013500422587,
       "encoder": "json",
       "name": "ABC-GAN Model 3 Euclidean distance",
       "version": 1
      }
     },
     "metadata": {
      "scrapbook": {
       "data": true,
       "display": false,
       "name": "ABC-GAN Model 3 Euclidean distance"
      }
     },
     "output_type": "display_data"
    },
    {
     "data": {
      "application/scrapbook.scrap.json+json": {
       "data": [
        [
         0.0018739975387642971,
         0.0017841174489331326,
         0.0017991630426688328,
         0.0018719200841577866,
         0.001942412716257126,
         0.0018635291719715165,
         0.0017721343427235937,
         0.0018413279271795716,
         0.001814801625530139,
         0.0018566290743431506,
         0.0017522842459797867,
         0.0017791070125403928,
         0.0018016253169107917,
         0.0016922197288181096,
         0.0017939133231247321,
         0.0017315615740918445,
         0.0018848724738042598,
         0.0019139293091164236,
         0.0017546856096669415,
         0.0018277582551398926,
         0.0017119086735340053,
         0.001846947882379175,
         0.002043864635614161,
         0.0018713622243228469,
         0.0017946311146425516,
         0.0018583748600186432,
         0.0017292432663731422,
         0.0018680161559716333,
         0.0018629139530860232,
         0.0017494752794417054,
         0.001804287484536425,
         0.0017475303051616774,
         0.0018520145550599146,
         0.0018290196931497204,
         0.001754604608674268,
         0.0018702221592204551,
         0.0018212530861307465,
         0.001765345221920552,
         0.0019362546415959648,
         0.0018469582918586851,
         0.0017498636058274647,
         0.001884596302080151,
         0.001741899418167582,
         0.0017714438974651392,
         0.0019138820423770088,
         0.0016861107733871189,
         0.0018818253278962368,
         0.0017424584181099097,
         0.0018946347501117523,
         0.0016988659498500104,
         0.001768928778876796,
         0.001929504567716522,
         0.001802945683437555,
         0.0018838039460872726,
         0.0018648818154422913,
         0.0017697145381892982,
         0.0017576233125916824,
         0.0017975662100332625,
         0.0018084346278174864,
         0.0018579034375301297,
         0.001757154123882785,
         0.0018923611575675627,
         0.0017794346521326253,
         0.0017027002136584574,
         0.0019369605324449544,
         0.0018217184510761998,
         0.0017876297750515394,
         0.00184181962933867,
         0.001736434206087982,
         0.0018068109508806436,
         0.001885238904528095,
         0.0018223032036152667,
         0.0017576239836772799,
         0.001760464085869044,
         0.0019124863407614433,
         0.0017917524775500034,
         0.0018920075133498524,
         0.001871278641625854,
         0.0018725273872502025,
         0.0018596775716798856,
         0.0017459771608229714,
         0.0017638831449202804,
         0.0018353827312191308,
         0.0018480373480375826,
         0.0018518924989188888,
         0.001917207121224835,
         0.0018926312296215406,
         0.001899172897657183,
         0.0018208687319601362,
         0.001794910632217043,
         0.0018056849947768565,
         0.0018635579104615046,
         0.0017750133335757586,
         0.0019341821247846533,
         0.001768393547567729,
         0.0018516590149316794,
         0.0018798971260404788,
         0.0017272461317609327,
         0.001879677485639503,
         0.001791232397140374
        ],
        [
         0.029346010732379826,
         0.02823425166599162,
         0.028012387478699934,
         0.02783935908953865,
         0.030377558226902763,
         0.028675475411794403,
         0.02846082699085985,
         0.029230147866266116,
         0.028342489346668318,
         0.028716002167625862,
         0.027418285753432806,
         0.02857400822852339,
         0.02876858688987695,
         0.02661410266799586,
         0.02850855744214027,
         0.027406368936811174,
         0.0290412392176978,
         0.029230217292130767,
         0.028654116580819153,
         0.028883635538158477,
         0.027581352256722265,
         0.029929525545471673,
         0.02980949282162375,
         0.029124584121557027,
         0.02821025491825172,
         0.028084273776644235,
         0.027768502495699114,
         0.02951143885200674,
         0.02882799779536662,
         0.027599449015476486,
         0.02840619229457595,
         0.028602432411212426,
         0.029257490094025413,
         0.02960664399161741,
         0.028517974443830453,
         0.029858185317028652,
         0.029441399403013192,
         0.02865747572829971,
         0.02980398452030374,
         0.028854672736548757,
         0.0273229887394549,
         0.029637867246161808,
         0.027864283918366803,
         0.028277000025301785,
         0.029668248681859535,
         0.02779208334138641,
         0.02994297892339044,
         0.028260848279316703,
         0.029252049065642542,
         0.027660183584341753,
         0.027969879739276775,
         0.02967894853806341,
         0.02829869892206285,
         0.02933396471591739,
         0.028443244975302127,
         0.027587942440401424,
         0.02896375206674074,
         0.028427815137358457,
         0.028971706625896616,
         0.02881879739269808,
         0.028174710496292485,
         0.029282312598321345,
         0.02847463185233729,
         0.028373235328630966,
         0.02947562906358923,
         0.029370775107632984,
         0.028691979294473476,
         0.029139907280733058,
         0.027990645378247483,
         0.02888909023400251,
         0.029711162913348767,
         0.028651290343372854,
         0.027828210480994993,
         0.027476343386746073,
         0.029357834803787144,
         0.02783269669812221,
         0.0291708835775589,
         0.02963362220529612,
         0.029384804696038172,
         0.028746110544382752,
         0.028573076228623265,
         0.027971948194619897,
         0.02939132908238219,
         0.029250569520639133,
         0.029525420519632178,
         0.030023817698676864,
         0.0293262152896299,
         0.02904666607062538,
         0.027760890324587947,
         0.02836769555586499,
         0.028886875089306336,
         0.02944566640857752,
         0.028538775061825655,
         0.030167629216592034,
         0.029196748848665844,
         0.029065799379310052,
         0.029081528329036453,
         0.028248316402752677,
         0.029232144307393532,
         0.02769892452308884
        ],
        [
         4.519285652786493,
         4.34807475656271,
         4.3139076717197895,
         4.287261299788952,
         4.678143966943026,
         4.416023213416338,
         4.382967356592417,
         4.501442771404982,
         4.364743359386921,
         4.4222643338143826,
         4.222416006028652,
         4.400397267192602,
         4.43036238104105,
         4.098571810871363,
         4.3903178460896015,
         4.220580816268921,
         4.472350839525461,
         4.501453462988138,
         4.41273395344615,
         4.448079872876406,
         4.247528247535229,
         4.609146934002638,
         4.590661894530058,
         4.485185954719782,
         4.344379257410765,
         4.324978161603212,
         4.276349384337664,
         4.544761583209038,
         4.43951166048646,
         4.250315148383379,
         4.3745536133646965,
         4.404774591326714,
         4.505653474479914,
         4.559423174709082,
         4.39176806434989,
         4.5981605388224125,
         4.533975508064032,
         4.413251262158155,
         4.589813616126776,
         4.443619601428509,
         4.207740265876055,
         4.564231555908918,
         4.291099723428488,
         4.354658003896475,
         4.568910297006369,
         4.279980834573507,
         4.6112187542021275,
         4.352170635014772,
         4.504815556108952,
         4.25966827198863,
         4.307361479848623,
         4.570558074861765,
         4.357999633997679,
         4.517430566251278,
         4.3802597261965275,
         4.248543135821819,
         4.460417818278074,
         4.377883531153202,
         4.461642820388079,
         4.438094798475504,
         4.338905416429043,
         4.509476140141487,
         4.385093305259943,
         4.369478240609169,
         4.539246875792742,
         4.5230993665754795,
         4.418564811348915,
         4.487545721232891,
         4.3105593882501125,
         4.4489198960363865,
         4.57551908865571,
         4.412298712879419,
         4.285544414073229,
         4.231356881558895,
         4.52110655978322,
         4.28623529151082,
         4.492316070944071,
         4.5635778196156025,
         4.5252599231898785,
         4.426901023834944,
         4.400253739207983,
         4.307680021971464,
         4.526264678686857,
         4.504587706178427,
         4.5469147600233555,
         4.623667925596237,
         4.5162371546030045,
         4.473186574876308,
         4.275177109986544,
         4.3686251156032085,
         4.448578763753176,
         4.5346326269209385,
         4.394971359521151,
         4.645814899355173,
         4.49629932269454,
         4.476133104413748,
         4.478555362671614,
         4.350240726023912,
         4.501750223338604,
         4.265634376555681
        ],
        [
         0.5372109650497668,
         0.5241699029281464,
         0.5263754444985065,
         0.5369131149080819,
         0.5469292077623916,
         0.5357084024762105,
         0.5224066316380693,
         0.5325077471602212,
         0.5286581601863736,
         0.5347156977767206,
         0.519472592040126,
         0.5234333576791037,
         0.5267355112428456,
         0.5104917611852212,
         0.5256069365611614,
         0.5163917915789755,
         0.5387674460895499,
         0.5429043319075003,
         0.519828417738689,
         0.530541959972577,
         0.5134529537593847,
         0.5333197670126179,
         0.5610304393565297,
         0.5368331049271444,
         0.5257120805678266,
         0.5349670349123122,
         0.5160459892504388,
         0.536352950975038,
         0.5356199667443771,
         0.5190560596255693,
         0.5271245323627136,
         0.5187674498220742,
         0.5340507854869486,
         0.5307250067078589,
         0.5198164192634139,
         0.5366695561702285,
         0.5295969932544321,
         0.521404990555101,
         0.5460615485508741,
         0.5333212699173336,
         0.5191136631773716,
         0.538727974510646,
         0.5179309899955858,
         0.522304853710581,
         0.5428976280350277,
         0.5095694840761329,
         0.5383317754842458,
         0.5180140889868982,
         0.5401608570761213,
         0.5114932612233534,
         0.5219339344658733,
         0.5451088913495582,
         0.5269284915900672,
         0.5386147117350584,
         0.535902789298687,
         0.5220498432919523,
         0.5202633853531489,
         0.526141802506817,
         0.5277299808461643,
         0.534899176835822,
         0.5201939398704573,
         0.5398366588750755,
         0.5234815530927754,
         0.5120701445147944,
         0.5461610769695356,
         0.5296646500057699,
         0.524685606204265,
         0.5325788419738012,
         0.5171178470499246,
         0.5274930202719456,
         0.5388198133860026,
         0.5297496515871918,
         0.5202634846751222,
         0.5206836556142633,
         0.5426996374397741,
         0.5252902831222948,
         0.5397862142143659,
         0.5368211162113331,
         0.5370002026410522,
         0.535154506697554,
         0.5185368673168164,
         0.521189029352809,
         0.5316473837119357,
         0.5334770394288659,
         0.5340331870151038,
         0.5433690243919178,
         0.5398751794273536,
         0.5408073836766711,
         0.529541107678961,
         0.5257530193554999,
         0.527328634909613,
         0.5357125331846099,
         0.522830807595217,
         0.545769225237954,
         0.5218549667536281,
         0.5339995208794467,
         0.5380559054691564,
         0.5157479076944314,
         0.5380244722951582,
         0.5252140412818546
        ]
       ],
       "encoder": "json",
       "name": "ABC_GAN_3 Metrics",
       "version": 1
      }
     },
     "metadata": {
      "scrapbook": {
       "data": true,
       "display": false,
       "name": "ABC_GAN_3 Metrics"
      }
     },
     "output_type": "display_data"
    },
    {
     "name": "stdout",
     "output_type": "stream",
     "text": [
      "MAE\n",
      "0.028744161447582694\n"
     ]
    }
   ],
   "source": [
    "ABC_GAN3_metrics=ABC_train_test2.test_generator(gen3,test_data,prior_model,variance,bias,\"3\",device)\n",
    "sb.glue(\"ABC_GAN_3 Metrics\",ABC_GAN3_metrics)\n",
    "\n",
    "print(\"MAE\")\n",
    "print(mean(ABC_GAN3_metrics[1]))"
   ]
  },
  {
   "cell_type": "code",
   "execution_count": 22,
   "id": "c8e46b48",
   "metadata": {
    "execution": {
     "iopub.execute_input": "2022-07-24T23:45:58.886073Z",
     "iopub.status.busy": "2022-07-24T23:45:58.885325Z",
     "iopub.status.idle": "2022-07-24T23:46:00.502287Z",
     "shell.execute_reply": "2022-07-24T23:46:00.501362Z"
    },
    "id": "c8e46b48",
    "papermill": {
     "duration": 1.663297,
     "end_time": "2022-07-24T23:46:00.504904",
     "exception": false,
     "start_time": "2022-07-24T23:45:58.841607",
     "status": "completed"
    },
    "tags": []
   },
   "outputs": [
    {
     "data": {
      "image/png": "[encoded data removed]",
      "text/plain": [
       "<Figure size 432x288 with 1 Axes>"
      ]
     },
     "metadata": {
      "needs_background": "light"
     },
     "output_type": "display_data"
    },
    {
     "data": {
      "image/png": "[encoded data removed]",
      "text/plain": [
       "<Figure size 432x288 with 1 Axes>"
      ]
     },
     "metadata": {
      "needs_background": "light"
     },
     "output_type": "display_data"
    },
    {
     "data": {
      "image/png": "[encoded data removed]",
      "text/plain": [
       "<Figure size 432x288 with 1 Axes>"
      ]
     },
     "metadata": {
      "needs_background": "light"
     },
     "output_type": "display_data"
    },
    {
     "data": {
      "image/png": "[encoded data removed]",
      "text/plain": [
       "<Figure size 432x288 with 1 Axes>"
      ]
     },
     "metadata": {
      "needs_background": "light"
     },
     "output_type": "display_data"
    }
   ],
   "source": [
    "sanityChecks.discProbVsError(train_data,disc3,device)\n",
    "sanityChecks.discProbVsError(test_data,disc3,device)"
   ]
  },
  {
   "cell_type": "markdown",
   "id": "060cf03c",
   "metadata": {
    "id": "130f3a4d",
    "papermill": {
     "duration": 0.028868,
     "end_time": "2022-07-24T23:46:00.556599",
     "exception": false,
     "start_time": "2022-07-24T23:46:00.527731",
     "status": "completed"
    },
    "tags": []
   },
   "source": [
    "# skipGAN Model with TabNet Generator"
   ]
  },
  {
   "cell_type": "code",
   "execution_count": 23,
   "id": "2ca71843",
   "metadata": {
    "execution": {
     "iopub.execute_input": "2022-07-24T23:46:00.621929Z",
     "iopub.status.busy": "2022-07-24T23:46:00.621482Z",
     "iopub.status.idle": "2022-07-24T23:46:00.647352Z",
     "shell.execute_reply": "2022-07-24T23:46:00.646413Z"
    },
    "id": "4e43dad1",
    "papermill": {
     "duration": 0.067384,
     "end_time": "2022-07-24T23:46:00.650069",
     "exception": false,
     "start_time": "2022-07-24T23:46:00.582685",
     "status": "completed"
    },
    "tags": []
   },
   "outputs": [],
   "source": [
    "#Generator\n",
    "gen4 = network.GeneratorTabnetskipConnection(n_features+1).to(device)\n",
    "constraints=network.weightConstraint()\n",
    "#Discriminator \n",
    "disc4 = network.Discriminator(n_features+1).to(device)\n",
    "\n",
    "criterion = torch.nn.BCELoss()\n",
    "gen_opt = torch.optim.Adam(gen4.parameters(), lr=0.01, betas=(0.5, 0.999))\n",
    "disc_opt = torch.optim.Adam(disc4.parameters(), lr=0.01, betas=(0.5, 0.999))\n"
   ]
  },
  {
   "cell_type": "code",
   "execution_count": 24,
   "id": "ae683f72",
   "metadata": {
    "execution": {
     "iopub.execute_input": "2022-07-24T23:46:00.703829Z",
     "iopub.status.busy": "2022-07-24T23:46:00.703395Z",
     "iopub.status.idle": "2022-07-25T00:07:52.077890Z",
     "shell.execute_reply": "2022-07-25T00:07:52.076325Z"
    },
    "id": "26acbc37",
    "papermill": {
     "duration": 1311.411247,
     "end_time": "2022-07-25T00:07:52.081209",
     "exception": false,
     "start_time": "2022-07-24T23:46:00.669962",
     "status": "completed"
    },
    "tags": []
   },
   "outputs": [
    {
     "data": {
      "image/png": "[encoded data removed]",
      "text/plain": [
       "<Figure size 432x288 with 1 Axes>"
      ]
     },
     "metadata": {
      "needs_background": "light"
     },
     "output_type": "display_data"
    },
    {
     "data": {
      "image/png": "[encoded data removed]",
      "text/plain": [
       "<Figure size 432x288 with 1 Axes>"
      ]
     },
     "metadata": {
      "needs_background": "light"
     },
     "output_type": "display_data"
    }
   ],
   "source": [
    "ABC_train_test2.training_GAN_skip_connection(disc4,gen4,disc_opt,gen_opt,train_data,batch_size,n_epochs,criterion,prior_model,variance,bias,device)"
   ]
  },
  {
   "cell_type": "code",
   "execution_count": 25,
   "id": "24e6cfcd",
   "metadata": {
    "execution": {
     "iopub.execute_input": "2022-07-25T00:07:52.138725Z",
     "iopub.status.busy": "2022-07-25T00:07:52.138316Z",
     "iopub.status.idle": "2022-07-25T00:07:56.666072Z",
     "shell.execute_reply": "2022-07-25T00:07:56.662783Z"
    },
    "id": "c5e0717b",
    "papermill": {
     "duration": 4.565156,
     "end_time": "2022-07-25T00:07:56.670969",
     "exception": false,
     "start_time": "2022-07-25T00:07:52.105813",
     "status": "completed"
    },
    "tags": []
   },
   "outputs": [
    {
     "data": {
      "application/scrapbook.scrap.json+json": {
       "data": 0.0018607683057803794,
       "encoder": "json",
       "name": "ABC-GAN Model 3 MSE",
       "version": 1
      }
     },
     "metadata": {
      "scrapbook": {
       "data": true,
       "display": false,
       "name": "ABC-GAN Model 3 MSE"
      }
     },
     "output_type": "display_data"
    },
    {
     "data": {
      "application/scrapbook.scrap.json+json": {
       "data": 0.028498419570047166,
       "encoder": "json",
       "name": "ABC-GAN Model 3 MAE",
       "version": 1
      }
     },
     "metadata": {
      "scrapbook": {
       "data": true,
       "display": false,
       "name": "ABC-GAN Model 3 MAE"
      }
     },
     "output_type": "display_data"
    },
    {
     "data": {
      "application/scrapbook.scrap.json+json": {
       "data": 4.388756613787264,
       "encoder": "json",
       "name": "ABC-GAN Model 3 Manhattan Distance",
       "version": 1
      }
     },
     "metadata": {
      "scrapbook": {
       "data": true,
       "display": false,
       "name": "ABC-GAN Model 3 Manhattan Distance"
      }
     },
     "output_type": "display_data"
    },
    {
     "data": {
      "application/scrapbook.scrap.json+json": {
       "data": 0.5352340758183161,
       "encoder": "json",
       "name": "ABC-GAN Model 3 Euclidean distance",
       "version": 1
      }
     },
     "metadata": {
      "scrapbook": {
       "data": true,
       "display": false,
       "name": "ABC-GAN Model 3 Euclidean distance"
      }
     },
     "output_type": "display_data"
    },
    {
     "data": {
      "application/scrapbook.scrap.json+json": {
       "data": [
        [
         0.0018760912156675833,
         0.0019557758665121657,
         0.0019336875554117213,
         0.0019155607780689315,
         0.00186094110663666,
         0.0019145688474630598,
         0.0019447977689642302,
         0.001860637561605923,
         0.0017695739618984328,
         0.0018502894632798012,
         0.001986849532560605,
         0.0018113400268138654,
         0.001863494354051066,
         0.0018280992173586236,
         0.0018600826202704705,
         0.0018520698097966896,
         0.001856412923041621,
         0.001967807715883822,
         0.0019377986506731967,
         0.0018128511567400978,
         0.0018499101514293363,
         0.0018452939169583437,
         0.0018550197927269868,
         0.001837271764408239,
         0.0018641432122530925,
         0.0019361377681700591,
         0.0018534050980979222,
         0.0019588138571190366,
         0.001881652566301183,
         0.001867568351150797,
         0.0018249427899321837,
         0.001814269778893059,
         0.0017468599830103011,
         0.0018641604697138396,
         0.001815145775024729,
         0.0018408268042405867,
         0.0018907654854109022,
         0.0018161812867312041,
         0.001866268676538648,
         0.0018212301732710978,
         0.0017763860428121213,
         0.0017751685361809086,
         0.001991095812752203,
         0.0018334374115836058,
         0.0018358259397985397,
         0.0018222720847938566,
         0.0018492899885319744,
         0.0019297708530244258,
         0.0019009249220946463,
         0.0018787231414114462,
         0.001891976119271955,
         0.0018939733647009795,
         0.0017067972994892374,
         0.0018320918888441947,
         0.0017609387169061604,
         0.0017935318692951514,
         0.0018812474727558078,
         0.0017867383691910579,
         0.0018816690818822153,
         0.001903988124370702,
         0.0018740644785324118,
         0.0018157218676053714,
         0.0019179087985204974,
         0.0017607121001415075,
         0.0019249325214889556,
         0.0017818725365534125,
         0.0018235452649089335,
         0.0018551058094494694,
         0.001769356923826853,
         0.0019188706982443,
         0.0019987765877773848,
         0.0019071738235772297,
         0.00180941291941793,
         0.0018920599239178745,
         0.0017758746652916711,
         0.0019589755576979112,
         0.001831794655038478,
         0.0018937754385206583,
         0.0018149534996379844,
         0.0017362889738603369,
         0.0018580878090876695,
         0.0017595006213189577,
         0.0018210345102743933,
         0.0018288250636950749,
         0.001962818285278179,
         0.0019595432199414013,
         0.0018970271345889733,
         0.0018771112112730252,
         0.001957990861286491,
         0.001869662066267894,
         0.0018303614368512004,
         0.0017296814119930853,
         0.0019389861544308355,
         0.0017575895269132597,
         0.001955369049900158,
         0.001906745544100377,
         0.0018565327311748,
         0.001895162441585083,
         0.0018239256622886626,
         0.0018952539180079346
        ],
        [
         0.029176549357059715,
         0.02915338421990345,
         0.029291476764075168,
         0.02881045083140398,
         0.02888099050947598,
         0.028811060375981516,
         0.02946244826080737,
         0.02822118874203849,
         0.027936312478858156,
         0.028139612141561198,
         0.028878068986844706,
         0.02845127878154253,
         0.028534359238170957,
         0.02842591642462588,
         0.02794331561338592,
         0.029336576241177397,
         0.028635885856755368,
         0.029928383381142246,
         0.028919800220952405,
         0.02833899330686439,
         0.028871078310268267,
         0.028216985018028842,
         0.02738341921335691,
         0.028312523474360442,
         0.02812539836899801,
         0.02938710552241121,
         0.02744953256922883,
         0.029980107125910847,
         0.02777953153210027,
         0.02798343679637878,
         0.029216743122737903,
         0.027879444350089346,
         0.028181045158923446,
         0.0293298385214883,
         0.028601888881681803,
         0.02876018418313621,
         0.029245023361661217,
         0.02756835249337283,
         0.02838472298697218,
         0.02788181138503087,
         0.028420810938462035,
         0.027520710384690915,
         0.030270321125333958,
         0.028263565515736482,
         0.029046002219056153,
         0.027668292646284228,
         0.027863769828305615,
         0.029136287943496333,
         0.028272791898676326,
         0.028803076740209158,
         0.027942902009402002,
         0.02873067891636452,
         0.026350833596540738,
         0.028253981335596604,
         0.027548636612179992,
         0.027623628834625342,
         0.02948559561816903,
         0.028068423924314512,
         0.028490087525411087,
         0.030411192832829115,
         0.028213177045637913,
         0.027615162120624023,
         0.02931175586561878,
         0.02709115037767144,
         0.028954406256799573,
         0.02833348118349329,
         0.028118365166055693,
         0.02890647720400389,
         0.027769396129947204,
         0.028183711886212423,
         0.029771251362059024,
         0.028767753465028554,
         0.028017744131676563,
         0.028622326211302312,
         0.027868467153279813,
         0.029875494273645536,
         0.027733716871831324,
         0.02850931498234148,
         0.028409027288873474,
         0.027916968594510833,
         0.02820367208839237,
         0.02798753669606401,
         0.02846249616281553,
         0.02791989819666782,
         0.029066648793878495,
         0.02941239516359645,
         0.028751424864515082,
         0.029054859943397633,
         0.028570886725535642,
         0.02816552584144202,
         0.028135279120949954,
         0.027392185014950766,
         0.02970671240095194,
         0.027235851998065972,
         0.0294298425365191,
         0.027721978361149886,
         0.02867818810045719,
         0.02893536179870754,
         0.0285770305033241,
         0.02845922056827452
        ],
        [
         4.493188600987196,
         4.489621169865131,
         4.510887421667576,
         4.436809428036213,
         4.447672538459301,
         4.436903297901154,
         4.537217032164335,
         4.346063066273928,
         4.302192121744156,
         4.333500269800425,
         4.447222623974085,
         4.38149693235755,
         4.394291322678328,
         4.3775911293923855,
         4.3032706044614315,
         4.517832741141319,
         4.409926421940327,
         4.608971040695906,
         4.4536492340266705,
         4.364204969257116,
         4.446146059781313,
         4.345415692776442,
         4.217046558856964,
         4.360128615051508,
         4.331311348825693,
         4.525614250451326,
         4.22722801566124,
         4.61693649739027,
         4.278047855943441,
         4.309449266642332,
         4.499378440901637,
         4.293434429913759,
         4.339880954474211,
         4.516795132309198,
         4.404690887778997,
         4.429068364202976,
         4.5037335976958275,
         4.245526283979416,
         4.371247339993715,
         4.293798953294754,
         4.376804884523153,
         4.238189399242401,
         4.66162945330143,
         4.352589089423418,
         4.473084341734648,
         4.260917067527771,
         4.291020553559065,
         4.486988343298435,
         4.354009952396154,
         4.43567381799221,
         4.303206909447908,
         4.424524553120136,
         4.058028373867273,
         4.351113125681877,
         4.242490038275719,
         4.254038840532303,
         4.5407817251980305,
         4.322537284344435,
         4.387473478913307,
         4.683323696255684,
         4.344829265028238,
         4.252734966576099,
         4.514010403305292,
         4.172037158161402,
         4.458978563547134,
         4.363356102257967,
         4.3302282355725765,
         4.451597489416599,
         4.276487004011869,
         4.340291630476713,
         4.58477270975709,
         4.430234033614397,
         4.314732596278191,
         4.407838236540556,
         4.291743941605091,
         4.600826118141413,
         4.270992398262024,
         4.390434507280588,
         4.374990202486515,
         4.299213163554668,
         4.343365501612425,
         4.310080651193857,
         4.383224409073591,
         4.299664322286844,
         4.476263914257288,
         4.529508855193853,
         4.427719429135323,
         4.4744484312832355,
         4.399916555732489,
         4.337490979582071,
         4.332832984626293,
         4.218396492302418,
         4.574833709746599,
         4.19432120770216,
         4.532195750623941,
         4.269184667617083,
         4.4164409674704075,
         4.456045717000961,
         4.400862697511911,
         4.3827199675142765
        ],
        [
         0.5375109740394217,
         0.5488073281606883,
         0.54569944432206,
         0.5431356734947682,
         0.5353362778871292,
         0.5429950299121634,
         0.5472648868879598,
         0.5352926157601207,
         0.5220291085105875,
         0.533802002005509,
         0.5531499145930814,
         0.5281537315302575,
         0.535703397902108,
         0.5305914430833087,
         0.5352127834064246,
         0.534058752113183,
         0.534684570703522,
         0.5504928593961129,
         0.5462792254915725,
         0.5283739945701104,
         0.5337472841337161,
         0.5330809161952667,
         0.5344839081580998,
         0.5319209073902518,
         0.5357966542327194,
         0.5460450680101314,
         0.5342512378152062,
         0.5492334057541762,
         0.5383070640539488,
         0.5362886592845524,
         0.5301331810494003,
         0.52858069010278,
         0.5186679452053947,
         0.5357991343180122,
         0.5287082837953347,
         0.532435280436083,
         0.5396090110008162,
         0.5288590721133613,
         0.5361020203160513,
         0.5295936618613832,
         0.5230329345204436,
         0.5228536645868134,
         0.5537406930719823,
         0.5313655628509203,
         0.5317115709940635,
         0.5297451283950179,
         0.5336578100561483,
         0.5451465044974255,
         0.5410567789082543,
         0.5378878728669784,
         0.5397817358598576,
         0.5400665682709409,
         0.5126858532486951,
         0.5311705478299846,
         0.5207538405077284,
         0.5255510516319545,
         0.5382491159346148,
         0.524554772026166,
         0.5383094264545821,
         0.5414925402561777,
         0.537220559634487,
         0.5287921780919487,
         0.5434684489205943,
         0.5207203312929044,
         0.5444626785274627,
         0.523840023890143,
         0.5299301565262877,
         0.534496299945302,
         0.5219970941196276,
         0.5436047162503488,
         0.5548077094973692,
         0.5419453559454988,
         0.5278727020696953,
         0.5397936904812363,
         0.5229576449913677,
         0.5492560749645636,
         0.5311274582206474,
         0.5400383482051819,
         0.5286802804571489,
         0.5170962211953322,
         0.5349257168986187,
         0.5205411565698908,
         0.5295652127757795,
         0.5306967682293171,
         0.5497945215558623,
         0.5493356495540552,
         0.5405017842030698,
         0.5376570715019434,
         0.5491180133979577,
         0.5365891894226492,
         0.5309196373040697,
         0.5161113614782522,
         0.5464465827346243,
         0.5202583849825412,
         0.5487502470929961,
         0.541884502261744,
         0.5347018240112139,
         0.5402360743268657,
         0.5299854262076025,
         0.5402491123298787
        ]
       ],
       "encoder": "json",
       "name": "ABC_GAN_4 Metrics",
       "version": 1
      }
     },
     "metadata": {
      "scrapbook": {
       "data": true,
       "display": false,
       "name": "ABC_GAN_4 Metrics"
      }
     },
     "output_type": "display_data"
    },
    {
     "name": "stdout",
     "output_type": "stream",
     "text": [
      "MAE\n",
      "0.028498419570047166\n"
     ]
    }
   ],
   "source": [
    "ABC_GAN4_metrics=ABC_train_test2.test_generator(gen4,test_data,prior_model,variance,bias,\"3\",device)\n",
    "sb.glue(\"ABC_GAN_4 Metrics\",ABC_GAN4_metrics)\n",
    "\n",
    "print(\"MAE\")\n",
    "print(mean(ABC_GAN4_metrics[1]))"
   ]
  },
  {
   "cell_type": "code",
   "execution_count": 26,
   "id": "270365bd",
   "metadata": {
    "execution": {
     "iopub.execute_input": "2022-07-25T00:07:56.732454Z",
     "iopub.status.busy": "2022-07-25T00:07:56.732060Z",
     "iopub.status.idle": "2022-07-25T00:07:57.847472Z",
     "shell.execute_reply": "2022-07-25T00:07:57.846631Z"
    },
    "id": "c8e46b48",
    "papermill": {
     "duration": 1.154837,
     "end_time": "2022-07-25T00:07:57.850746",
     "exception": false,
     "start_time": "2022-07-25T00:07:56.695909",
     "status": "completed"
    },
    "tags": []
   },
   "outputs": [
    {
     "data": {
      "image/png": "[encoded data removed]",
      "text/plain": [
       "<Figure size 432x288 with 1 Axes>"
      ]
     },
     "metadata": {
      "needs_background": "light"
     },
     "output_type": "display_data"
    },
    {
     "data": {
      "image/png": "[encoded data removed]",
      "text/plain": [
       "<Figure size 432x288 with 1 Axes>"
      ]
     },
     "metadata": {
      "needs_background": "light"
     },
     "output_type": "display_data"
    },
    {
     "data": {
      "image/png": "[encoded data removed]",
      "text/plain": [
       "<Figure size 432x288 with 1 Axes>"
      ]
     },
     "metadata": {
      "needs_background": "light"
     },
     "output_type": "display_data"
    },
    {
     "data": {
      "image/png": "[encoded data removed]",
      "text/plain": [
       "<Figure size 432x288 with 1 Axes>"
      ]
     },
     "metadata": {
      "needs_background": "light"
     },
     "output_type": "display_data"
    }
   ],
   "source": [
    "sanityChecks.discProbVsError(train_data,disc4,device)\n",
    "sanityChecks.discProbVsError(test_data,disc4,device)"
   ]
  },
  {
   "cell_type": "markdown",
   "id": "a5bd74c3",
   "metadata": {
    "id": "a5bd74c3",
    "papermill": {
     "duration": 0.027444,
     "end_time": "2022-07-25T00:07:57.908499",
     "exception": false,
     "start_time": "2022-07-25T00:07:57.881055",
     "status": "completed"
    },
    "tags": []
   },
   "source": [
    "## Skip Connection Model Analysis - ABC-GAN "
   ]
  },
  {
   "cell_type": "markdown",
   "id": "5744a8bf",
   "metadata": {
    "id": "5744a8bf",
    "papermill": {
     "duration": 0.027753,
     "end_time": "2022-07-25T00:07:57.962049",
     "exception": false,
     "start_time": "2022-07-25T00:07:57.934296",
     "status": "completed"
    },
    "tags": []
   },
   "source": [
    "### Weight Analysis \n",
    "\n",
    "Study the weights of the skip connection layer\n",
    "\n",
    "Equation of the skip connection is \n",
    "\n",
    "$output = y_{gan} * w + y_{abc} * (1-w)$"
   ]
  },
  {
   "cell_type": "code",
   "execution_count": 27,
   "id": "52c31dea",
   "metadata": {
    "execution": {
     "iopub.execute_input": "2022-07-25T00:07:58.032387Z",
     "iopub.status.busy": "2022-07-25T00:07:58.031545Z",
     "iopub.status.idle": "2022-07-25T00:07:58.072639Z",
     "shell.execute_reply": "2022-07-25T00:07:58.071052Z"
    },
    "id": "52c31dea",
    "papermill": {
     "duration": 0.105711,
     "end_time": "2022-07-25T00:07:58.095224",
     "exception": false,
     "start_time": "2022-07-25T00:07:57.989513",
     "status": "completed"
    },
    "tags": []
   },
   "outputs": [
    {
     "name": "stdout",
     "output_type": "stream",
     "text": [
      "Weight of the node at skip connection\n",
      "Parameter containing:\n",
      "tensor([[0.0333]], requires_grad=True)\n"
     ]
    },
    {
     "data": {
      "application/scrapbook.scrap.json+json": {
       "data": 0.03329972177743912,
       "encoder": "json",
       "name": "Skip Connection Weight",
       "version": 1
      }
     },
     "metadata": {
      "scrapbook": {
       "data": true,
       "display": false,
       "name": "Skip Connection Weight"
      }
     },
     "output_type": "display_data"
    }
   ],
   "source": [
    "print(\"Weight of the node at skip connection\")\n",
    "for name,param in gen3.named_parameters():\n",
    "    if(name == \"skipNode.weight\"):\n",
    "        print(param)\n",
    "        sb.glue(\"Skip Connection Weight\",param.item())"
   ]
  },
  {
   "cell_type": "markdown",
   "id": "1796bdba",
   "metadata": {
    "id": "a5bd74c3",
    "papermill": {
     "duration": 0.037218,
     "end_time": "2022-07-25T00:07:58.175443",
     "exception": false,
     "start_time": "2022-07-25T00:07:58.138225",
     "status": "completed"
    },
    "tags": []
   },
   "source": [
    "## skipGAN Model Analysis (TabNet Generator) "
   ]
  },
  {
   "cell_type": "markdown",
   "id": "6bab2ab2",
   "metadata": {
    "id": "5744a8bf",
    "papermill": {
     "duration": 0.035778,
     "end_time": "2022-07-25T00:07:58.244407",
     "exception": false,
     "start_time": "2022-07-25T00:07:58.208629",
     "status": "completed"
    },
    "tags": []
   },
   "source": [
    "### Weight Analysis \n",
    "\n",
    "Study the weights of the skip connection layer\n",
    "\n",
    "Equation of the skip connection is \n",
    "\n",
    "$output = y_{gan} * w + y_{abc} * (1-w)$"
   ]
  },
  {
   "cell_type": "code",
   "execution_count": 28,
   "id": "75d83656",
   "metadata": {
    "execution": {
     "iopub.execute_input": "2022-07-25T00:07:58.309648Z",
     "iopub.status.busy": "2022-07-25T00:07:58.309196Z",
     "iopub.status.idle": "2022-07-25T00:07:58.326684Z",
     "shell.execute_reply": "2022-07-25T00:07:58.324427Z"
    },
    "id": "52c31dea",
    "papermill": {
     "duration": 0.057104,
     "end_time": "2022-07-25T00:07:58.329726",
     "exception": false,
     "start_time": "2022-07-25T00:07:58.272622",
     "status": "completed"
    },
    "tags": []
   },
   "outputs": [
    {
     "name": "stdout",
     "output_type": "stream",
     "text": [
      "Weight of the node at skip connection\n",
      "Parameter containing:\n",
      "tensor([[0.0034]], requires_grad=True)\n"
     ]
    },
    {
     "data": {
      "application/scrapbook.scrap.json+json": {
       "data": 0.003433450125157833,
       "encoder": "json",
       "name": "Skip Connection Weight",
       "version": 1
      }
     },
     "metadata": {
      "scrapbook": {
       "data": true,
       "display": false,
       "name": "Skip Connection Weight"
      }
     },
     "output_type": "display_data"
    }
   ],
   "source": [
    "print(\"Weight of the node at skip connection\")\n",
    "for name,param in gen4.named_parameters():\n",
    "    if(name == \"skipNode.weight\"):\n",
    "        print(param)\n",
    "        sb.glue(\"Skip Connection Weight\",param.item())"
   ]
  }
 ],
 "metadata": {
  "colab": {
   "collapsed_sections": [],
   "name": "ABC_GAN_Model-Catboost_Pre-gen.ipynb",
   "provenance": []
  },
  "interpreter": {
   "hash": "31f2aee4e71d21fbe5cf8b01ff0e069b9275f58929596ceb00d14d90e3e16cd6"
  },
  "kernelspec": {
   "display_name": "Python 3 (ipykernel)",
   "language": "python",
   "name": "python3"
  },
  "language_info": {
   "codemirror_mode": {
    "name": "ipython",
    "version": 3
   },
   "file_extension": ".py",
   "mimetype": "text/x-python",
   "name": "python",
   "nbconvert_exporter": "python",
   "pygments_lexer": "ipython3",
   "version": "3.8.13"
  },
  "papermill": {
   "default_parameters": {},
   "duration": 2808.4202,
   "end_time": "2022-07-25T00:07:59.278737",
   "environment_variables": {},
   "exception": null,
   "input_path": "ABC_GAN-Catboost.ipynb",
   "output_path": "./ABC_GAN_Catboost/ABC-GAN_output_1_11.ipynb",
   "parameters": {
    "bias": 0,
    "variance": 0.01
   },
   "start_time": "2022-07-24T23:21:10.858537",
   "version": "2.3.3"
  }
 },
 "nbformat": 4,
 "nbformat_minor": 5
}