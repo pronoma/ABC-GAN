{
 "cells": [
  {
   "cell_type": "markdown",
   "id": "622780e6",
   "metadata": {
    "id": "622780e6",
    "papermill": {
     "duration": 0.016842,
     "end_time": "2022-07-24T13:20:12.319784",
     "exception": false,
     "start_time": "2022-07-24T13:20:12.302942",
     "status": "completed"
    },
    "tags": []
   },
   "source": [
    "## Import Libraries "
   ]
  },
  {
   "cell_type": "code",
   "execution_count": 1,
   "id": "a62397e3",
   "metadata": {
    "execution": {
     "iopub.execute_input": "2022-07-24T13:20:12.375876Z",
     "iopub.status.busy": "2022-07-24T13:20:12.374084Z",
     "iopub.status.idle": "2022-07-24T13:20:12.396841Z",
     "shell.execute_reply": "2022-07-24T13:20:12.395360Z"
    },
    "id": "a62397e3",
    "papermill": {
     "duration": 0.066965,
     "end_time": "2022-07-24T13:20:12.421016",
     "exception": false,
     "start_time": "2022-07-24T13:20:12.354051",
     "status": "completed"
    },
    "tags": []
   },
   "outputs": [],
   "source": [
    "import warnings\n",
    "import sys\n",
    "sys.path.insert(0, '../../src')\n",
    "warnings.filterwarnings('ignore')"
   ]
  },
  {
   "cell_type": "code",
   "execution_count": 2,
   "id": "d6a4e155",
   "metadata": {
    "execution": {
     "iopub.execute_input": "2022-07-24T13:20:12.443947Z",
     "iopub.status.busy": "2022-07-24T13:20:12.442402Z",
     "iopub.status.idle": "2022-07-24T13:20:26.760264Z",
     "shell.execute_reply": "2022-07-24T13:20:26.758681Z"
    },
    "id": "d6a4e155",
    "papermill": {
     "duration": 14.33232,
     "end_time": "2022-07-24T13:20:26.764425",
     "exception": false,
     "start_time": "2022-07-24T13:20:12.432105",
     "status": "completed"
    },
    "tags": []
   },
   "outputs": [],
   "source": [
    "import ABC_train_test2\n",
    "import energyefficiencyDataset\n",
    "import network\n",
    "import dataset\n",
    "import sanityChecks\n",
    "import torch \n",
    "import scrapbook as sb\n",
    "from statistics import mean \n",
    "import catboost as ctb \n",
    "from sklearn.model_selection import train_test_split\n",
    "from sklearn.metrics import mean_squared_error,mean_absolute_error\n",
    "import numpy as np"
   ]
  },
  {
   "cell_type": "markdown",
   "id": "2fa5b0f7",
   "metadata": {
    "id": "2fa5b0f7",
    "papermill": {
     "duration": 0.008742,
     "end_time": "2022-07-24T13:20:26.781447",
     "exception": false,
     "start_time": "2022-07-24T13:20:26.772705",
     "status": "completed"
    },
    "tags": []
   },
   "source": [
    "## Parameters "
   ]
  },
  {
   "cell_type": "code",
   "execution_count": 3,
   "id": "783186fb",
   "metadata": {
    "execution": {
     "iopub.execute_input": "2022-07-24T13:20:26.802186Z",
     "iopub.status.busy": "2022-07-24T13:20:26.800894Z",
     "iopub.status.idle": "2022-07-24T13:20:26.808628Z",
     "shell.execute_reply": "2022-07-24T13:20:26.807444Z"
    },
    "id": "783186fb",
    "papermill": {
     "duration": 0.023224,
     "end_time": "2022-07-24T13:20:26.812953",
     "exception": false,
     "start_time": "2022-07-24T13:20:26.789729",
     "status": "completed"
    },
    "tags": [
     "parameters"
    ]
   },
   "outputs": [],
   "source": [
    "variance = 1\n",
    "bias = 1 "
   ]
  },
  {
   "cell_type": "code",
   "execution_count": 4,
   "id": "cededf63",
   "metadata": {
    "execution": {
     "iopub.execute_input": "2022-07-24T13:20:26.829837Z",
     "iopub.status.busy": "2022-07-24T13:20:26.829392Z",
     "iopub.status.idle": "2022-07-24T13:20:26.834518Z",
     "shell.execute_reply": "2022-07-24T13:20:26.833546Z"
    },
    "papermill": {
     "duration": 0.017596,
     "end_time": "2022-07-24T13:20:26.837892",
     "exception": false,
     "start_time": "2022-07-24T13:20:26.820296",
     "status": "completed"
    },
    "tags": [
     "injected-parameters"
    ]
   },
   "outputs": [],
   "source": [
    "# Parameters\n",
    "variance = 0.1\n",
    "bias = 0\n"
   ]
  },
  {
   "cell_type": "markdown",
   "id": "391cdbfd",
   "metadata": {
    "id": "391cdbfd",
    "papermill": {
     "duration": 0.011249,
     "end_time": "2022-07-24T13:20:26.859403",
     "exception": false,
     "start_time": "2022-07-24T13:20:26.848154",
     "status": "completed"
    },
    "tags": []
   },
   "source": [
    "## Dataset \n"
   ]
  },
  {
   "cell_type": "code",
   "execution_count": 5,
   "id": "5b51f161",
   "metadata": {
    "execution": {
     "iopub.execute_input": "2022-07-24T13:20:26.890554Z",
     "iopub.status.busy": "2022-07-24T13:20:26.890039Z",
     "iopub.status.idle": "2022-07-24T13:20:26.899076Z",
     "shell.execute_reply": "2022-07-24T13:20:26.896783Z"
    },
    "id": "5b51f161",
    "papermill": {
     "duration": 0.053524,
     "end_time": "2022-07-24T13:20:26.920226",
     "exception": false,
     "start_time": "2022-07-24T13:20:26.866702",
     "status": "completed"
    },
    "tags": []
   },
   "outputs": [],
   "source": [
    "#Parameters \n",
    "n_features = 8\n",
    "n_samples= 768\n",
    "n_target = 1 "
   ]
  },
  {
   "cell_type": "code",
   "execution_count": 6,
   "id": "5d6eced4",
   "metadata": {
    "execution": {
     "iopub.execute_input": "2022-07-24T13:20:26.966088Z",
     "iopub.status.busy": "2022-07-24T13:20:26.964839Z",
     "iopub.status.idle": "2022-07-24T13:20:27.901953Z",
     "shell.execute_reply": "2022-07-24T13:20:27.900491Z"
    },
    "id": "5d6eced4",
    "papermill": {
     "duration": 0.960904,
     "end_time": "2022-07-24T13:20:27.904671",
     "exception": false,
     "start_time": "2022-07-24T13:20:26.943767",
     "status": "completed"
    },
    "tags": []
   },
   "outputs": [
    {
     "name": "stdout",
     "output_type": "stream",
     "text": [
      "     X1     X2     X3      X4   X5  X6   X7  X8     Y1     Y2\n",
      "0  0.98  514.5  294.0  110.25  7.0   2  0.0   0  15.55  21.33\n",
      "1  0.98  514.5  294.0  110.25  7.0   3  0.0   0  15.55  21.33\n",
      "2  0.98  514.5  294.0  110.25  7.0   4  0.0   0  15.55  21.33\n",
      "3  0.98  514.5  294.0  110.25  7.0   5  0.0   0  15.55  21.33\n",
      "4  0.90  563.5  318.5  122.50  7.0   2  0.0   0  20.84  28.28\n"
     ]
    }
   ],
   "source": [
    "X,Y = energyefficiencyDataset.energy_data()"
   ]
  },
  {
   "cell_type": "code",
   "execution_count": 7,
   "id": "fe007438",
   "metadata": {
    "execution": {
     "iopub.execute_input": "2022-07-24T13:20:27.927156Z",
     "iopub.status.busy": "2022-07-24T13:20:27.926406Z",
     "iopub.status.idle": "2022-07-24T13:20:27.933993Z",
     "shell.execute_reply": "2022-07-24T13:20:27.932975Z"
    },
    "id": "fe007438",
    "papermill": {
     "duration": 0.021701,
     "end_time": "2022-07-24T13:20:27.937288",
     "exception": false,
     "start_time": "2022-07-24T13:20:27.915587",
     "status": "completed"
    },
    "tags": []
   },
   "outputs": [],
   "source": [
    "#Train test split for dataset \n",
    "X_train,X_test,Y_train,Y_test = train_test_split(X,Y,test_size = 0.2)\n",
    "train_data = dataset.CustomDataset(X_train,Y_train)\n",
    "test_data = dataset.CustomDataset(X_test,Y_test)\n"
   ]
  },
  {
   "cell_type": "markdown",
   "id": "a9a1af34",
   "metadata": {
    "id": "a9a1af34",
    "papermill": {
     "duration": 0.009054,
     "end_time": "2022-07-24T13:20:27.955639",
     "exception": false,
     "start_time": "2022-07-24T13:20:27.946585",
     "status": "completed"
    },
    "tags": []
   },
   "source": [
    "## Training Parameters "
   ]
  },
  {
   "cell_type": "code",
   "execution_count": 8,
   "id": "952b7fc8",
   "metadata": {
    "execution": {
     "iopub.execute_input": "2022-07-24T13:20:27.975151Z",
     "iopub.status.busy": "2022-07-24T13:20:27.974805Z",
     "iopub.status.idle": "2022-07-24T13:20:27.980721Z",
     "shell.execute_reply": "2022-07-24T13:20:27.979612Z"
    },
    "id": "952b7fc8",
    "papermill": {
     "duration": 0.018824,
     "end_time": "2022-07-24T13:20:27.983470",
     "exception": false,
     "start_time": "2022-07-24T13:20:27.964646",
     "status": "completed"
    },
    "tags": []
   },
   "outputs": [],
   "source": [
    "batch_size = 32\n",
    "n_epochs = 1000\n",
    "#Select the device \n",
    "device = torch.device('cuda' if torch.cuda.is_available() else 'cpu')"
   ]
  },
  {
   "cell_type": "markdown",
   "id": "a95e1600",
   "metadata": {
    "id": "a95e1600",
    "papermill": {
     "duration": 0.009081,
     "end_time": "2022-07-24T13:20:28.001048",
     "exception": false,
     "start_time": "2022-07-24T13:20:27.991967",
     "status": "completed"
    },
    "tags": []
   },
   "source": [
    "# ABC Pre-generator Model \n",
    "\n",
    "1. The catboost model is used as a pre-generator model for the ABC-GAN. \n",
    "2. The model is first trained on the entire dataset \n",
    "3. It generats X,Y pairs and we add some Gaussian noise with mean 0 and variance 1 to it which is then feed as input to the generator.\n"
   ]
  },
  {
   "cell_type": "code",
   "execution_count": 9,
   "id": "ff8ce7bd",
   "metadata": {
    "execution": {
     "iopub.execute_input": "2022-07-24T13:20:28.029817Z",
     "iopub.status.busy": "2022-07-24T13:20:28.028122Z",
     "iopub.status.idle": "2022-07-24T13:20:29.327905Z",
     "shell.execute_reply": "2022-07-24T13:20:29.325600Z"
    },
    "id": "ff8ce7bd",
    "papermill": {
     "duration": 1.317884,
     "end_time": "2022-07-24T13:20:29.330551",
     "exception": false,
     "start_time": "2022-07-24T13:20:28.012667",
     "status": "completed"
    },
    "tags": []
   },
   "outputs": [
    {
     "name": "stdout",
     "output_type": "stream",
     "text": [
      "Learning rate set to 0.037906\n"
     ]
    },
    {
     "name": "stdout",
     "output_type": "stream",
     "text": [
      "0:\tlearn: 0.9723918\ttotal: 57.6ms\tremaining: 57.5s\n",
      "1:\tlearn: 0.9399017\ttotal: 58ms\tremaining: 28.9s\n",
      "2:\tlearn: 0.9124707\ttotal: 64.2ms\tremaining: 21.3s\n",
      "3:\tlearn: 0.8815453\ttotal: 64.7ms\tremaining: 16.1s\n",
      "4:\tlearn: 0.8565979\ttotal: 64.9ms\tremaining: 12.9s\n",
      "5:\tlearn: 0.8286913\ttotal: 66.7ms\tremaining: 11s\n",
      "6:\tlearn: 0.8060520\ttotal: 66.9ms\tremaining: 9.49s\n",
      "7:\tlearn: 0.7810259\ttotal: 68.3ms\tremaining: 8.46s\n",
      "8:\tlearn: 0.7553979\ttotal: 75.8ms\tremaining: 8.34s\n",
      "9:\tlearn: 0.7312970\ttotal: 76.3ms\tremaining: 7.55s\n",
      "10:\tlearn: 0.7083059\ttotal: 76.8ms\tremaining: 6.91s\n",
      "11:\tlearn: 0.6876701\ttotal: 81.3ms\tremaining: 6.7s\n",
      "12:\tlearn: 0.6679531\ttotal: 81.7ms\tremaining: 6.21s\n",
      "13:\tlearn: 0.6490153\ttotal: 82.3ms\tremaining: 5.79s\n",
      "14:\tlearn: 0.6286046\ttotal: 82.6ms\tremaining: 5.43s\n",
      "15:\tlearn: 0.6101181\ttotal: 90.8ms\tremaining: 5.58s\n",
      "16:\tlearn: 0.5909151\ttotal: 93.6ms\tremaining: 5.41s\n",
      "17:\tlearn: 0.5737718\ttotal: 98.4ms\tremaining: 5.37s\n",
      "18:\tlearn: 0.5557961\ttotal: 99.3ms\tremaining: 5.13s\n",
      "19:\tlearn: 0.5406268\ttotal: 100ms\tremaining: 4.9s\n",
      "20:\tlearn: 0.5234553\ttotal: 100ms\tremaining: 4.68s\n",
      "21:\tlearn: 0.5078174\ttotal: 103ms\tremaining: 4.56s\n",
      "22:\tlearn: 0.4924757\ttotal: 104ms\tremaining: 4.43s\n",
      "23:\tlearn: 0.4768987\ttotal: 105ms\tremaining: 4.28s\n"
     ]
    },
    {
     "name": "stdout",
     "output_type": "stream",
     "text": [
      "24:\tlearn: 0.4631849\ttotal: 106ms\tremaining: 4.12s\n",
      "25:\tlearn: 0.4484619\ttotal: 107ms\tremaining: 4s\n",
      "26:\tlearn: 0.4346860\ttotal: 107ms\tremaining: 3.87s\n",
      "27:\tlearn: 0.4236214\ttotal: 108ms\tremaining: 3.76s\n",
      "28:\tlearn: 0.4113663\ttotal: 109ms\tremaining: 3.64s\n",
      "29:\tlearn: 0.3998844\ttotal: 109ms\tremaining: 3.52s\n",
      "30:\tlearn: 0.3878889\ttotal: 110ms\tremaining: 3.42s\n",
      "31:\tlearn: 0.3756086\ttotal: 110ms\tremaining: 3.32s\n",
      "32:\tlearn: 0.3664543\ttotal: 110ms\tremaining: 3.23s\n",
      "33:\tlearn: 0.3554713\ttotal: 113ms\tremaining: 3.21s\n",
      "34:\tlearn: 0.3451152\ttotal: 114ms\tremaining: 3.14s\n",
      "35:\tlearn: 0.3351190\ttotal: 115ms\tremaining: 3.07s\n",
      "36:\tlearn: 0.3255366\ttotal: 115ms\tremaining: 3s\n",
      "37:\tlearn: 0.3160656\ttotal: 116ms\tremaining: 2.93s\n",
      "38:\tlearn: 0.3077244\ttotal: 116ms\tremaining: 2.87s\n",
      "39:\tlearn: 0.3005244\ttotal: 117ms\tremaining: 2.81s\n",
      "40:\tlearn: 0.2929403\ttotal: 117ms\tremaining: 2.75s\n",
      "41:\tlearn: 0.2853225\ttotal: 118ms\tremaining: 2.69s\n",
      "42:\tlearn: 0.2779383\ttotal: 118ms\tremaining: 2.63s\n",
      "43:\tlearn: 0.2707781\ttotal: 119ms\tremaining: 2.58s\n",
      "44:\tlearn: 0.2644310\ttotal: 119ms\tremaining: 2.53s\n",
      "45:\tlearn: 0.2569855\ttotal: 120ms\tremaining: 2.49s\n",
      "46:\tlearn: 0.2510414\ttotal: 120ms\tremaining: 2.44s\n",
      "47:\tlearn: 0.2452009\ttotal: 121ms\tremaining: 2.4s\n",
      "48:\tlearn: 0.2380764\ttotal: 122ms\tremaining: 2.36s\n",
      "49:\tlearn: 0.2315430\ttotal: 122ms\tremaining: 2.32s\n",
      "50:\tlearn: 0.2254842\ttotal: 123ms\tremaining: 2.28s\n",
      "51:\tlearn: 0.2198644\ttotal: 123ms\tremaining: 2.24s\n",
      "52:\tlearn: 0.2139872\ttotal: 124ms\tremaining: 2.21s\n",
      "53:\tlearn: 0.2085860\ttotal: 124ms\tremaining: 2.17s\n",
      "54:\tlearn: 0.2029436\ttotal: 125ms\tremaining: 2.14s\n",
      "55:\tlearn: 0.1975295\ttotal: 125ms\tremaining: 2.11s\n",
      "56:\tlearn: 0.1933799\ttotal: 125ms\tremaining: 2.08s\n",
      "57:\tlearn: 0.1885971\ttotal: 126ms\tremaining: 2.04s\n",
      "58:\tlearn: 0.1833886\ttotal: 126ms\tremaining: 2.01s\n",
      "59:\tlearn: 0.1800212\ttotal: 127ms\tremaining: 1.99s\n",
      "60:\tlearn: 0.1750525\ttotal: 128ms\tremaining: 1.96s\n",
      "61:\tlearn: 0.1709480\ttotal: 128ms\tremaining: 1.93s\n",
      "62:\tlearn: 0.1666025\ttotal: 128ms\tremaining: 1.91s\n",
      "63:\tlearn: 0.1627796\ttotal: 129ms\tremaining: 1.89s\n",
      "64:\tlearn: 0.1585461\ttotal: 129ms\tremaining: 1.86s\n",
      "65:\tlearn: 0.1554941\ttotal: 130ms\tremaining: 1.84s\n",
      "66:\tlearn: 0.1517102\ttotal: 130ms\tremaining: 1.82s\n",
      "67:\tlearn: 0.1483003\ttotal: 131ms\tremaining: 1.79s\n",
      "68:\tlearn: 0.1448243\ttotal: 131ms\tremaining: 1.77s\n",
      "69:\tlearn: 0.1420112\ttotal: 132ms\tremaining: 1.75s\n",
      "70:\tlearn: 0.1391363\ttotal: 132ms\tremaining: 1.73s\n",
      "71:\tlearn: 0.1359782\ttotal: 133ms\tremaining: 1.72s\n",
      "72:\tlearn: 0.1338520\ttotal: 134ms\tremaining: 1.7s\n",
      "73:\tlearn: 0.1310124\ttotal: 134ms\tremaining: 1.68s\n",
      "74:\tlearn: 0.1293999\ttotal: 134ms\tremaining: 1.66s\n",
      "75:\tlearn: 0.1271018\ttotal: 135ms\tremaining: 1.64s\n",
      "76:\tlearn: 0.1240831\ttotal: 135ms\tremaining: 1.62s\n",
      "77:\tlearn: 0.1210416\ttotal: 136ms\tremaining: 1.6s\n",
      "78:\tlearn: 0.1184780\ttotal: 136ms\tremaining: 1.59s\n",
      "79:\tlearn: 0.1165209\ttotal: 137ms\tremaining: 1.57s\n",
      "80:\tlearn: 0.1144407\ttotal: 137ms\tremaining: 1.55s\n",
      "81:\tlearn: 0.1120188\ttotal: 138ms\tremaining: 1.54s\n",
      "82:\tlearn: 0.1096554\ttotal: 138ms\tremaining: 1.53s\n",
      "83:\tlearn: 0.1070926\ttotal: 139ms\tremaining: 1.51s\n",
      "84:\tlearn: 0.1057292\ttotal: 139ms\tremaining: 1.5s\n",
      "85:\tlearn: 0.1035930\ttotal: 140ms\tremaining: 1.49s\n",
      "86:\tlearn: 0.1016999\ttotal: 140ms\tremaining: 1.47s\n",
      "87:\tlearn: 0.0998349\ttotal: 141ms\tremaining: 1.46s\n",
      "88:\tlearn: 0.0986191\ttotal: 141ms\tremaining: 1.44s\n",
      "89:\tlearn: 0.0973084\ttotal: 142ms\tremaining: 1.43s\n",
      "90:\tlearn: 0.0961187\ttotal: 142ms\tremaining: 1.42s\n"
     ]
    },
    {
     "name": "stdout",
     "output_type": "stream",
     "text": [
      "91:\tlearn: 0.0945313\ttotal: 143ms\tremaining: 1.41s\n",
      "92:\tlearn: 0.0929389\ttotal: 144ms\tremaining: 1.4s\n",
      "93:\tlearn: 0.0920158\ttotal: 144ms\tremaining: 1.39s\n",
      "94:\tlearn: 0.0912643\ttotal: 145ms\tremaining: 1.38s\n",
      "95:\tlearn: 0.0895936\ttotal: 155ms\tremaining: 1.45s\n",
      "96:\tlearn: 0.0881672\ttotal: 166ms\tremaining: 1.54s\n",
      "97:\tlearn: 0.0865782\ttotal: 166ms\tremaining: 1.53s\n",
      "98:\tlearn: 0.0849756\ttotal: 178ms\tremaining: 1.62s\n",
      "99:\tlearn: 0.0837856\ttotal: 178ms\tremaining: 1.6s\n",
      "100:\tlearn: 0.0823848\ttotal: 179ms\tremaining: 1.6s\n",
      "101:\tlearn: 0.0815111\ttotal: 182ms\tremaining: 1.6s\n",
      "102:\tlearn: 0.0799297\ttotal: 186ms\tremaining: 1.61s\n",
      "103:\tlearn: 0.0788047\ttotal: 186ms\tremaining: 1.6s\n",
      "104:\tlearn: 0.0778150\ttotal: 186ms\tremaining: 1.59s\n",
      "105:\tlearn: 0.0770244\ttotal: 187ms\tremaining: 1.57s\n",
      "106:\tlearn: 0.0759985\ttotal: 189ms\tremaining: 1.58s\n",
      "107:\tlearn: 0.0754116\ttotal: 193ms\tremaining: 1.59s\n",
      "108:\tlearn: 0.0744151\ttotal: 193ms\tremaining: 1.58s\n",
      "109:\tlearn: 0.0733455\ttotal: 193ms\tremaining: 1.56s\n",
      "110:\tlearn: 0.0722702\ttotal: 194ms\tremaining: 1.55s\n",
      "111:\tlearn: 0.0712014\ttotal: 195ms\tremaining: 1.55s\n",
      "112:\tlearn: 0.0703289\ttotal: 195ms\tremaining: 1.53s\n",
      "113:\tlearn: 0.0694137\ttotal: 196ms\tremaining: 1.52s\n",
      "114:\tlearn: 0.0683821\ttotal: 196ms\tremaining: 1.51s\n",
      "115:\tlearn: 0.0674769\ttotal: 197ms\tremaining: 1.5s\n",
      "116:\tlearn: 0.0666945\ttotal: 200ms\tremaining: 1.5s\n",
      "117:\tlearn: 0.0658034\ttotal: 201ms\tremaining: 1.5s\n",
      "118:\tlearn: 0.0649470\ttotal: 202ms\tremaining: 1.5s\n",
      "119:\tlearn: 0.0641831\ttotal: 203ms\tremaining: 1.49s\n",
      "120:\tlearn: 0.0636974\ttotal: 205ms\tremaining: 1.49s\n",
      "121:\tlearn: 0.0631819\ttotal: 206ms\tremaining: 1.48s\n",
      "122:\tlearn: 0.0624692\ttotal: 206ms\tremaining: 1.47s\n",
      "123:\tlearn: 0.0617069\ttotal: 208ms\tremaining: 1.47s\n",
      "124:\tlearn: 0.0610048\ttotal: 213ms\tremaining: 1.49s\n",
      "125:\tlearn: 0.0606274\ttotal: 213ms\tremaining: 1.48s\n",
      "126:\tlearn: 0.0602101\ttotal: 214ms\tremaining: 1.47s\n",
      "127:\tlearn: 0.0596582\ttotal: 215ms\tremaining: 1.46s\n",
      "128:\tlearn: 0.0590360\ttotal: 215ms\tremaining: 1.45s\n",
      "129:\tlearn: 0.0584765\ttotal: 216ms\tremaining: 1.44s\n",
      "130:\tlearn: 0.0579880\ttotal: 216ms\tremaining: 1.44s\n",
      "131:\tlearn: 0.0576002\ttotal: 217ms\tremaining: 1.43s\n",
      "132:\tlearn: 0.0570411\ttotal: 217ms\tremaining: 1.42s\n",
      "133:\tlearn: 0.0567094\ttotal: 218ms\tremaining: 1.41s\n",
      "134:\tlearn: 0.0562705\ttotal: 218ms\tremaining: 1.4s\n",
      "135:\tlearn: 0.0559736\ttotal: 219ms\tremaining: 1.39s\n",
      "136:\tlearn: 0.0554380\ttotal: 219ms\tremaining: 1.38s\n",
      "137:\tlearn: 0.0549734\ttotal: 220ms\tremaining: 1.37s\n",
      "138:\tlearn: 0.0546418\ttotal: 220ms\tremaining: 1.36s\n",
      "139:\tlearn: 0.0541724\ttotal: 220ms\tremaining: 1.35s\n",
      "140:\tlearn: 0.0537384\ttotal: 220ms\tremaining: 1.34s\n",
      "141:\tlearn: 0.0533807\ttotal: 221ms\tremaining: 1.33s\n",
      "142:\tlearn: 0.0530829\ttotal: 222ms\tremaining: 1.33s\n",
      "143:\tlearn: 0.0526712\ttotal: 222ms\tremaining: 1.32s\n",
      "144:\tlearn: 0.0524665\ttotal: 223ms\tremaining: 1.32s\n",
      "145:\tlearn: 0.0521437\ttotal: 224ms\tremaining: 1.31s\n",
      "146:\tlearn: 0.0518207\ttotal: 224ms\tremaining: 1.3s\n",
      "147:\tlearn: 0.0514065\ttotal: 225ms\tremaining: 1.29s\n",
      "148:\tlearn: 0.0510947\ttotal: 225ms\tremaining: 1.29s\n",
      "149:\tlearn: 0.0508831\ttotal: 226ms\tremaining: 1.28s\n",
      "150:\tlearn: 0.0505849\ttotal: 226ms\tremaining: 1.27s\n",
      "151:\tlearn: 0.0502617\ttotal: 226ms\tremaining: 1.26s\n",
      "152:\tlearn: 0.0499626\ttotal: 227ms\tremaining: 1.26s\n",
      "153:\tlearn: 0.0497203\ttotal: 227ms\tremaining: 1.25s\n",
      "154:\tlearn: 0.0494403\ttotal: 228ms\tremaining: 1.24s\n",
      "155:\tlearn: 0.0492172\ttotal: 229ms\tremaining: 1.24s\n",
      "156:\tlearn: 0.0489600\ttotal: 230ms\tremaining: 1.23s\n",
      "157:\tlearn: 0.0487502\ttotal: 230ms\tremaining: 1.22s\n",
      "158:\tlearn: 0.0485600\ttotal: 230ms\tremaining: 1.22s\n",
      "159:\tlearn: 0.0482893\ttotal: 230ms\tremaining: 1.21s\n",
      "160:\tlearn: 0.0480614\ttotal: 231ms\tremaining: 1.2s\n"
     ]
    },
    {
     "name": "stdout",
     "output_type": "stream",
     "text": [
      "161:\tlearn: 0.0479018\ttotal: 234ms\tremaining: 1.21s\n",
      "162:\tlearn: 0.0477433\ttotal: 235ms\tremaining: 1.21s\n",
      "163:\tlearn: 0.0476004\ttotal: 236ms\tremaining: 1.2s\n",
      "164:\tlearn: 0.0474209\ttotal: 236ms\tremaining: 1.2s\n",
      "165:\tlearn: 0.0472094\ttotal: 237ms\tremaining: 1.19s\n",
      "166:\tlearn: 0.0470690\ttotal: 238ms\tremaining: 1.19s\n",
      "167:\tlearn: 0.0468861\ttotal: 239ms\tremaining: 1.18s\n",
      "168:\tlearn: 0.0466823\ttotal: 239ms\tremaining: 1.18s\n",
      "169:\tlearn: 0.0465142\ttotal: 240ms\tremaining: 1.17s\n",
      "170:\tlearn: 0.0462610\ttotal: 242ms\tremaining: 1.17s\n",
      "171:\tlearn: 0.0460936\ttotal: 242ms\tremaining: 1.17s\n",
      "172:\tlearn: 0.0458326\ttotal: 243ms\tremaining: 1.16s\n",
      "173:\tlearn: 0.0456011\ttotal: 244ms\tremaining: 1.16s\n",
      "174:\tlearn: 0.0454619\ttotal: 244ms\tremaining: 1.15s\n",
      "175:\tlearn: 0.0453645\ttotal: 245ms\tremaining: 1.15s\n",
      "176:\tlearn: 0.0451924\ttotal: 245ms\tremaining: 1.14s\n",
      "177:\tlearn: 0.0450170\ttotal: 246ms\tremaining: 1.13s\n",
      "178:\tlearn: 0.0448050\ttotal: 247ms\tremaining: 1.13s\n",
      "179:\tlearn: 0.0447101\ttotal: 247ms\tremaining: 1.13s\n",
      "180:\tlearn: 0.0445558\ttotal: 248ms\tremaining: 1.12s\n",
      "181:\tlearn: 0.0444347\ttotal: 248ms\tremaining: 1.11s\n",
      "182:\tlearn: 0.0442616\ttotal: 248ms\tremaining: 1.11s\n",
      "183:\tlearn: 0.0441318\ttotal: 248ms\tremaining: 1.1s\n",
      "184:\tlearn: 0.0439932\ttotal: 249ms\tremaining: 1.09s\n",
      "185:\tlearn: 0.0438313\ttotal: 249ms\tremaining: 1.09s\n",
      "186:\tlearn: 0.0436962\ttotal: 249ms\tremaining: 1.08s\n",
      "187:\tlearn: 0.0435719\ttotal: 250ms\tremaining: 1.08s\n",
      "188:\tlearn: 0.0434220\ttotal: 250ms\tremaining: 1.07s\n",
      "189:\tlearn: 0.0432848\ttotal: 250ms\tremaining: 1.07s\n",
      "190:\tlearn: 0.0431689\ttotal: 251ms\tremaining: 1.06s\n",
      "191:\tlearn: 0.0430824\ttotal: 252ms\tremaining: 1.06s\n",
      "192:\tlearn: 0.0427779\ttotal: 252ms\tremaining: 1.05s\n",
      "193:\tlearn: 0.0426139\ttotal: 253ms\tremaining: 1.05s\n",
      "194:\tlearn: 0.0424704\ttotal: 253ms\tremaining: 1.04s\n",
      "195:\tlearn: 0.0423416\ttotal: 253ms\tremaining: 1.04s\n",
      "196:\tlearn: 0.0421308\ttotal: 254ms\tremaining: 1.03s\n",
      "197:\tlearn: 0.0420302\ttotal: 254ms\tremaining: 1.03s\n",
      "198:\tlearn: 0.0419130\ttotal: 254ms\tremaining: 1.02s\n",
      "199:\tlearn: 0.0417843\ttotal: 255ms\tremaining: 1.02s\n",
      "200:\tlearn: 0.0415789\ttotal: 255ms\tremaining: 1.01s\n",
      "201:\tlearn: 0.0414118\ttotal: 255ms\tremaining: 1.01s\n",
      "202:\tlearn: 0.0411460\ttotal: 256ms\tremaining: 1s\n",
      "203:\tlearn: 0.0410068\ttotal: 256ms\tremaining: 998ms\n",
      "204:\tlearn: 0.0408763\ttotal: 256ms\tremaining: 993ms\n",
      "205:\tlearn: 0.0407513\ttotal: 260ms\tremaining: 1s\n",
      "206:\tlearn: 0.0406121\ttotal: 260ms\tremaining: 996ms\n",
      "207:\tlearn: 0.0405118\ttotal: 260ms\tremaining: 991ms\n",
      "208:\tlearn: 0.0404173\ttotal: 261ms\tremaining: 986ms\n",
      "209:\tlearn: 0.0403160\ttotal: 261ms\tremaining: 981ms\n",
      "210:\tlearn: 0.0402149\ttotal: 261ms\tremaining: 976ms\n",
      "211:\tlearn: 0.0401303\ttotal: 261ms\tremaining: 972ms\n",
      "212:\tlearn: 0.0399794\ttotal: 262ms\tremaining: 967ms\n",
      "213:\tlearn: 0.0399040\ttotal: 262ms\tremaining: 962ms\n",
      "214:\tlearn: 0.0397895\ttotal: 262ms\tremaining: 957ms\n",
      "215:\tlearn: 0.0397185\ttotal: 262ms\tremaining: 953ms\n",
      "216:\tlearn: 0.0395784\ttotal: 263ms\tremaining: 949ms\n",
      "217:\tlearn: 0.0394576\ttotal: 263ms\tremaining: 944ms\n",
      "218:\tlearn: 0.0393826\ttotal: 263ms\tremaining: 939ms\n",
      "219:\tlearn: 0.0393130\ttotal: 265ms\tremaining: 941ms\n",
      "220:\tlearn: 0.0390974\ttotal: 266ms\tremaining: 938ms\n",
      "221:\tlearn: 0.0389876\ttotal: 266ms\tremaining: 933ms\n",
      "222:\tlearn: 0.0388756\ttotal: 267ms\tremaining: 929ms\n",
      "223:\tlearn: 0.0386832\ttotal: 267ms\tremaining: 924ms\n",
      "224:\tlearn: 0.0385255\ttotal: 267ms\tremaining: 921ms\n",
      "225:\tlearn: 0.0384469\ttotal: 268ms\tremaining: 918ms\n",
      "226:\tlearn: 0.0383418\ttotal: 269ms\tremaining: 916ms\n",
      "227:\tlearn: 0.0382408\ttotal: 269ms\tremaining: 912ms\n",
      "228:\tlearn: 0.0380229\ttotal: 270ms\tremaining: 909ms\n",
      "229:\tlearn: 0.0379216\ttotal: 271ms\tremaining: 907ms\n",
      "230:\tlearn: 0.0377042\ttotal: 271ms\tremaining: 903ms\n",
      "231:\tlearn: 0.0376088\ttotal: 272ms\tremaining: 900ms\n",
      "232:\tlearn: 0.0374908\ttotal: 272ms\tremaining: 896ms\n",
      "233:\tlearn: 0.0372756\ttotal: 273ms\tremaining: 892ms\n",
      "234:\tlearn: 0.0372161\ttotal: 273ms\tremaining: 889ms\n",
      "235:\tlearn: 0.0371178\ttotal: 274ms\tremaining: 887ms\n",
      "236:\tlearn: 0.0370626\ttotal: 275ms\tremaining: 884ms\n",
      "237:\tlearn: 0.0370063\ttotal: 275ms\tremaining: 882ms\n",
      "238:\tlearn: 0.0369434\ttotal: 276ms\tremaining: 880ms\n",
      "239:\tlearn: 0.0368883\ttotal: 277ms\tremaining: 877ms\n",
      "240:\tlearn: 0.0368364\ttotal: 277ms\tremaining: 873ms\n",
      "241:\tlearn: 0.0367193\ttotal: 277ms\tremaining: 869ms\n",
      "242:\tlearn: 0.0365253\ttotal: 278ms\tremaining: 865ms\n",
      "243:\tlearn: 0.0363470\ttotal: 278ms\tremaining: 861ms\n"
     ]
    },
    {
     "name": "stdout",
     "output_type": "stream",
     "text": [
      "244:\tlearn: 0.0362526\ttotal: 278ms\tremaining: 857ms\n",
      "245:\tlearn: 0.0361913\ttotal: 279ms\tremaining: 854ms\n",
      "246:\tlearn: 0.0360828\ttotal: 279ms\tremaining: 850ms\n",
      "247:\tlearn: 0.0360127\ttotal: 279ms\tremaining: 846ms\n",
      "248:\tlearn: 0.0358348\ttotal: 282ms\tremaining: 851ms\n",
      "249:\tlearn: 0.0357466\ttotal: 283ms\tremaining: 849ms\n",
      "250:\tlearn: 0.0356408\ttotal: 283ms\tremaining: 846ms\n",
      "251:\tlearn: 0.0355397\ttotal: 284ms\tremaining: 843ms\n",
      "252:\tlearn: 0.0354563\ttotal: 284ms\tremaining: 840ms\n",
      "253:\tlearn: 0.0353565\ttotal: 285ms\tremaining: 836ms\n",
      "254:\tlearn: 0.0353112\ttotal: 285ms\tremaining: 832ms\n",
      "255:\tlearn: 0.0351270\ttotal: 286ms\tremaining: 830ms\n",
      "256:\tlearn: 0.0349184\ttotal: 286ms\tremaining: 827ms\n",
      "257:\tlearn: 0.0348111\ttotal: 287ms\tremaining: 826ms\n",
      "258:\tlearn: 0.0346551\ttotal: 288ms\tremaining: 824ms\n",
      "259:\tlearn: 0.0345834\ttotal: 288ms\tremaining: 821ms\n",
      "260:\tlearn: 0.0345433\ttotal: 289ms\tremaining: 818ms\n",
      "261:\tlearn: 0.0344245\ttotal: 289ms\tremaining: 815ms\n",
      "262:\tlearn: 0.0343850\ttotal: 290ms\tremaining: 811ms\n",
      "263:\tlearn: 0.0342280\ttotal: 290ms\tremaining: 808ms\n",
      "264:\tlearn: 0.0341198\ttotal: 290ms\tremaining: 805ms\n",
      "265:\tlearn: 0.0340224\ttotal: 291ms\tremaining: 802ms\n",
      "266:\tlearn: 0.0339145\ttotal: 291ms\tremaining: 799ms\n",
      "267:\tlearn: 0.0338620\ttotal: 291ms\tremaining: 795ms\n",
      "268:\tlearn: 0.0338157\ttotal: 292ms\tremaining: 793ms\n",
      "269:\tlearn: 0.0337299\ttotal: 292ms\tremaining: 790ms\n",
      "270:\tlearn: 0.0335859\ttotal: 293ms\tremaining: 788ms\n",
      "271:\tlearn: 0.0334421\ttotal: 293ms\tremaining: 785ms\n",
      "272:\tlearn: 0.0333073\ttotal: 294ms\tremaining: 782ms\n",
      "273:\tlearn: 0.0332046\ttotal: 294ms\tremaining: 779ms\n",
      "274:\tlearn: 0.0330635\ttotal: 294ms\tremaining: 776ms\n",
      "275:\tlearn: 0.0330021\ttotal: 295ms\tremaining: 774ms\n",
      "276:\tlearn: 0.0328770\ttotal: 295ms\tremaining: 771ms\n",
      "277:\tlearn: 0.0327998\ttotal: 295ms\tremaining: 767ms\n",
      "278:\tlearn: 0.0327610\ttotal: 296ms\tremaining: 764ms\n",
      "279:\tlearn: 0.0326435\ttotal: 296ms\tremaining: 762ms\n",
      "280:\tlearn: 0.0325467\ttotal: 297ms\tremaining: 759ms\n",
      "281:\tlearn: 0.0324549\ttotal: 297ms\tremaining: 756ms\n",
      "282:\tlearn: 0.0323477\ttotal: 297ms\tremaining: 753ms\n",
      "283:\tlearn: 0.0322361\ttotal: 298ms\tremaining: 750ms\n",
      "284:\tlearn: 0.0321504\ttotal: 298ms\tremaining: 747ms\n",
      "285:\tlearn: 0.0320357\ttotal: 298ms\tremaining: 744ms\n",
      "286:\tlearn: 0.0319731\ttotal: 299ms\tremaining: 743ms\n",
      "287:\tlearn: 0.0318875\ttotal: 300ms\tremaining: 740ms\n",
      "288:\tlearn: 0.0317666\ttotal: 300ms\tremaining: 738ms\n",
      "289:\tlearn: 0.0316781\ttotal: 300ms\tremaining: 735ms\n",
      "290:\tlearn: 0.0315936\ttotal: 300ms\tremaining: 732ms\n",
      "291:\tlearn: 0.0314804\ttotal: 301ms\tremaining: 730ms\n",
      "292:\tlearn: 0.0314070\ttotal: 301ms\tremaining: 727ms\n",
      "293:\tlearn: 0.0313599\ttotal: 302ms\tremaining: 724ms\n",
      "294:\tlearn: 0.0312763\ttotal: 302ms\tremaining: 721ms\n",
      "295:\tlearn: 0.0312459\ttotal: 303ms\tremaining: 720ms\n",
      "296:\tlearn: 0.0311538\ttotal: 303ms\tremaining: 717ms\n",
      "297:\tlearn: 0.0310658\ttotal: 304ms\tremaining: 715ms\n",
      "298:\tlearn: 0.0310027\ttotal: 304ms\tremaining: 713ms\n",
      "299:\tlearn: 0.0309737\ttotal: 305ms\tremaining: 711ms\n",
      "300:\tlearn: 0.0309403\ttotal: 305ms\tremaining: 708ms\n",
      "301:\tlearn: 0.0308500\ttotal: 305ms\tremaining: 706ms\n",
      "302:\tlearn: 0.0307905\ttotal: 306ms\tremaining: 703ms\n",
      "303:\tlearn: 0.0307474\ttotal: 306ms\tremaining: 700ms\n",
      "304:\tlearn: 0.0306657\ttotal: 306ms\tremaining: 698ms\n",
      "305:\tlearn: 0.0305594\ttotal: 307ms\tremaining: 696ms\n",
      "306:\tlearn: 0.0305289\ttotal: 307ms\tremaining: 693ms\n",
      "307:\tlearn: 0.0304291\ttotal: 308ms\tremaining: 691ms\n",
      "308:\tlearn: 0.0303440\ttotal: 308ms\tremaining: 689ms\n",
      "309:\tlearn: 0.0302985\ttotal: 308ms\tremaining: 686ms\n",
      "310:\tlearn: 0.0302287\ttotal: 308ms\tremaining: 683ms\n",
      "311:\tlearn: 0.0301750\ttotal: 309ms\tremaining: 681ms\n",
      "312:\tlearn: 0.0300770\ttotal: 309ms\tremaining: 678ms\n",
      "313:\tlearn: 0.0299648\ttotal: 310ms\tremaining: 678ms\n",
      "314:\tlearn: 0.0298930\ttotal: 310ms\tremaining: 675ms\n",
      "315:\tlearn: 0.0298232\ttotal: 311ms\tremaining: 673ms\n",
      "316:\tlearn: 0.0297511\ttotal: 311ms\tremaining: 671ms\n",
      "317:\tlearn: 0.0296616\ttotal: 312ms\tremaining: 669ms\n",
      "318:\tlearn: 0.0295846\ttotal: 312ms\tremaining: 667ms\n",
      "319:\tlearn: 0.0295126\ttotal: 313ms\tremaining: 665ms\n",
      "320:\tlearn: 0.0294513\ttotal: 313ms\tremaining: 662ms\n",
      "321:\tlearn: 0.0293907\ttotal: 314ms\tremaining: 661ms\n",
      "322:\tlearn: 0.0293575\ttotal: 314ms\tremaining: 659ms\n",
      "323:\tlearn: 0.0292902\ttotal: 315ms\tremaining: 657ms\n",
      "324:\tlearn: 0.0292684\ttotal: 315ms\tremaining: 655ms\n",
      "325:\tlearn: 0.0291879\ttotal: 317ms\tremaining: 655ms\n",
      "326:\tlearn: 0.0290890\ttotal: 317ms\tremaining: 653ms\n",
      "327:\tlearn: 0.0290517\ttotal: 318ms\tremaining: 651ms\n",
      "328:\tlearn: 0.0289860\ttotal: 319ms\tremaining: 650ms\n",
      "329:\tlearn: 0.0288904\ttotal: 319ms\tremaining: 648ms\n",
      "330:\tlearn: 0.0288419\ttotal: 319ms\tremaining: 646ms\n",
      "331:\tlearn: 0.0287550\ttotal: 320ms\tremaining: 643ms\n",
      "332:\tlearn: 0.0286959\ttotal: 320ms\tremaining: 641ms\n",
      "333:\tlearn: 0.0286397\ttotal: 320ms\tremaining: 639ms\n",
      "334:\tlearn: 0.0285630\ttotal: 321ms\tremaining: 637ms\n",
      "335:\tlearn: 0.0285086\ttotal: 322ms\tremaining: 637ms\n",
      "336:\tlearn: 0.0284378\ttotal: 323ms\tremaining: 635ms\n",
      "337:\tlearn: 0.0284023\ttotal: 323ms\tremaining: 633ms\n",
      "338:\tlearn: 0.0283340\ttotal: 323ms\tremaining: 630ms\n",
      "339:\tlearn: 0.0282561\ttotal: 324ms\tremaining: 628ms\n",
      "340:\tlearn: 0.0281906\ttotal: 324ms\tremaining: 626ms\n",
      "341:\tlearn: 0.0281192\ttotal: 325ms\tremaining: 624ms\n",
      "342:\tlearn: 0.0280590\ttotal: 325ms\tremaining: 623ms\n",
      "343:\tlearn: 0.0279748\ttotal: 325ms\tremaining: 620ms\n",
      "344:\tlearn: 0.0279273\ttotal: 326ms\tremaining: 618ms\n",
      "345:\tlearn: 0.0278755\ttotal: 326ms\tremaining: 616ms\n",
      "346:\tlearn: 0.0278353\ttotal: 326ms\tremaining: 614ms\n",
      "347:\tlearn: 0.0277692\ttotal: 327ms\tremaining: 612ms\n",
      "348:\tlearn: 0.0276958\ttotal: 327ms\tremaining: 610ms\n",
      "349:\tlearn: 0.0276282\ttotal: 329ms\tremaining: 611ms\n",
      "350:\tlearn: 0.0275596\ttotal: 329ms\tremaining: 609ms\n",
      "351:\tlearn: 0.0275081\ttotal: 330ms\tremaining: 607ms\n",
      "352:\tlearn: 0.0274494\ttotal: 330ms\tremaining: 605ms\n",
      "353:\tlearn: 0.0273868\ttotal: 330ms\tremaining: 603ms\n",
      "354:\tlearn: 0.0273334\ttotal: 331ms\tremaining: 601ms\n",
      "355:\tlearn: 0.0272894\ttotal: 331ms\tremaining: 598ms\n",
      "356:\tlearn: 0.0272434\ttotal: 331ms\tremaining: 596ms\n",
      "357:\tlearn: 0.0271789\ttotal: 331ms\tremaining: 594ms\n",
      "358:\tlearn: 0.0271208\ttotal: 332ms\tremaining: 592ms\n",
      "359:\tlearn: 0.0270646\ttotal: 332ms\tremaining: 591ms\n",
      "360:\tlearn: 0.0270071\ttotal: 334ms\tremaining: 591ms\n",
      "361:\tlearn: 0.0269871\ttotal: 334ms\tremaining: 589ms\n",
      "362:\tlearn: 0.0269425\ttotal: 334ms\tremaining: 587ms\n",
      "363:\tlearn: 0.0268820\ttotal: 335ms\tremaining: 585ms\n",
      "364:\tlearn: 0.0268365\ttotal: 335ms\tremaining: 583ms\n",
      "365:\tlearn: 0.0267822\ttotal: 335ms\tremaining: 581ms\n",
      "366:\tlearn: 0.0267456\ttotal: 336ms\tremaining: 579ms\n",
      "367:\tlearn: 0.0267040\ttotal: 336ms\tremaining: 577ms\n",
      "368:\tlearn: 0.0266689\ttotal: 336ms\tremaining: 575ms\n",
      "369:\tlearn: 0.0266192\ttotal: 336ms\tremaining: 573ms\n",
      "370:\tlearn: 0.0265640\ttotal: 337ms\tremaining: 571ms\n",
      "371:\tlearn: 0.0265174\ttotal: 337ms\tremaining: 569ms\n",
      "372:\tlearn: 0.0264733\ttotal: 338ms\tremaining: 567ms\n",
      "373:\tlearn: 0.0264144\ttotal: 339ms\tremaining: 567ms\n",
      "374:\tlearn: 0.0263707\ttotal: 339ms\tremaining: 566ms\n",
      "375:\tlearn: 0.0263220\ttotal: 340ms\tremaining: 564ms\n",
      "376:\tlearn: 0.0262879\ttotal: 340ms\tremaining: 562ms\n",
      "377:\tlearn: 0.0262501\ttotal: 340ms\tremaining: 560ms\n",
      "378:\tlearn: 0.0262006\ttotal: 340ms\tremaining: 558ms\n",
      "379:\tlearn: 0.0261585\ttotal: 341ms\tremaining: 556ms\n",
      "380:\tlearn: 0.0261185\ttotal: 341ms\tremaining: 554ms\n",
      "381:\tlearn: 0.0260611\ttotal: 341ms\tremaining: 552ms\n",
      "382:\tlearn: 0.0260049\ttotal: 342ms\tremaining: 550ms\n",
      "383:\tlearn: 0.0259758\ttotal: 342ms\tremaining: 549ms\n",
      "384:\tlearn: 0.0259391\ttotal: 342ms\tremaining: 547ms\n",
      "385:\tlearn: 0.0259224\ttotal: 343ms\tremaining: 545ms\n",
      "386:\tlearn: 0.0258714\ttotal: 343ms\tremaining: 543ms\n",
      "387:\tlearn: 0.0257921\ttotal: 343ms\tremaining: 541ms\n",
      "388:\tlearn: 0.0257553\ttotal: 346ms\tremaining: 543ms\n",
      "389:\tlearn: 0.0257008\ttotal: 346ms\tremaining: 542ms\n",
      "390:\tlearn: 0.0256509\ttotal: 347ms\tremaining: 540ms\n",
      "391:\tlearn: 0.0256020\ttotal: 347ms\tremaining: 538ms\n",
      "392:\tlearn: 0.0255470\ttotal: 347ms\tremaining: 536ms\n",
      "393:\tlearn: 0.0254956\ttotal: 348ms\tremaining: 535ms\n",
      "394:\tlearn: 0.0254554\ttotal: 348ms\tremaining: 533ms\n",
      "395:\tlearn: 0.0254153\ttotal: 348ms\tremaining: 531ms\n",
      "396:\tlearn: 0.0253811\ttotal: 348ms\tremaining: 529ms\n",
      "397:\tlearn: 0.0253433\ttotal: 349ms\tremaining: 527ms\n",
      "398:\tlearn: 0.0253132\ttotal: 351ms\tremaining: 529ms\n",
      "399:\tlearn: 0.0252655\ttotal: 352ms\tremaining: 528ms\n",
      "400:\tlearn: 0.0251894\ttotal: 353ms\tremaining: 527ms\n",
      "401:\tlearn: 0.0251551\ttotal: 353ms\tremaining: 525ms\n",
      "402:\tlearn: 0.0251115\ttotal: 354ms\tremaining: 524ms\n",
      "403:\tlearn: 0.0250817\ttotal: 354ms\tremaining: 522ms\n",
      "404:\tlearn: 0.0250339\ttotal: 359ms\tremaining: 527ms\n",
      "405:\tlearn: 0.0249716\ttotal: 360ms\tremaining: 527ms\n",
      "406:\tlearn: 0.0249239\ttotal: 361ms\tremaining: 526ms\n",
      "407:\tlearn: 0.0248907\ttotal: 362ms\tremaining: 526ms\n",
      "408:\tlearn: 0.0248408\ttotal: 363ms\tremaining: 524ms\n",
      "409:\tlearn: 0.0248136\ttotal: 363ms\tremaining: 522ms\n",
      "410:\tlearn: 0.0247846\ttotal: 363ms\tremaining: 520ms\n",
      "411:\tlearn: 0.0247394\ttotal: 364ms\tremaining: 519ms\n",
      "412:\tlearn: 0.0246805\ttotal: 364ms\tremaining: 517ms\n",
      "413:\tlearn: 0.0246375\ttotal: 365ms\tremaining: 516ms\n",
      "414:\tlearn: 0.0246092\ttotal: 365ms\tremaining: 515ms\n",
      "415:\tlearn: 0.0245648\ttotal: 366ms\tremaining: 513ms\n",
      "416:\tlearn: 0.0245196\ttotal: 366ms\tremaining: 512ms\n",
      "417:\tlearn: 0.0244956\ttotal: 367ms\tremaining: 511ms\n",
      "418:\tlearn: 0.0244704\ttotal: 367ms\tremaining: 509ms\n",
      "419:\tlearn: 0.0244265\ttotal: 367ms\tremaining: 507ms\n",
      "420:\tlearn: 0.0243868\ttotal: 368ms\tremaining: 506ms\n",
      "421:\tlearn: 0.0243443\ttotal: 368ms\tremaining: 505ms\n",
      "422:\tlearn: 0.0243026\ttotal: 369ms\tremaining: 503ms\n",
      "423:\tlearn: 0.0242831\ttotal: 369ms\tremaining: 501ms\n",
      "424:\tlearn: 0.0242413\ttotal: 369ms\tremaining: 500ms\n",
      "425:\tlearn: 0.0242189\ttotal: 370ms\tremaining: 498ms\n",
      "426:\tlearn: 0.0241486\ttotal: 370ms\tremaining: 497ms\n",
      "427:\tlearn: 0.0241062\ttotal: 371ms\tremaining: 496ms\n",
      "428:\tlearn: 0.0240787\ttotal: 371ms\tremaining: 494ms\n",
      "429:\tlearn: 0.0240329\ttotal: 372ms\tremaining: 493ms\n",
      "430:\tlearn: 0.0239908\ttotal: 372ms\tremaining: 491ms\n",
      "431:\tlearn: 0.0239538\ttotal: 372ms\tremaining: 489ms\n",
      "432:\tlearn: 0.0239176\ttotal: 372ms\tremaining: 488ms\n",
      "433:\tlearn: 0.0238871\ttotal: 373ms\tremaining: 486ms\n",
      "434:\tlearn: 0.0238634\ttotal: 374ms\tremaining: 485ms\n",
      "435:\tlearn: 0.0238286\ttotal: 374ms\tremaining: 484ms\n",
      "436:\tlearn: 0.0237941\ttotal: 375ms\tremaining: 483ms\n",
      "437:\tlearn: 0.0237279\ttotal: 375ms\tremaining: 481ms\n",
      "438:\tlearn: 0.0236872\ttotal: 376ms\tremaining: 480ms\n"
     ]
    },
    {
     "name": "stdout",
     "output_type": "stream",
     "text": [
      "439:\tlearn: 0.0236404\ttotal: 378ms\tremaining: 481ms\n",
      "440:\tlearn: 0.0236046\ttotal: 379ms\tremaining: 480ms\n",
      "441:\tlearn: 0.0235419\ttotal: 380ms\tremaining: 479ms\n",
      "442:\tlearn: 0.0235130\ttotal: 380ms\tremaining: 478ms\n",
      "443:\tlearn: 0.0234747\ttotal: 381ms\tremaining: 477ms\n",
      "444:\tlearn: 0.0234349\ttotal: 381ms\tremaining: 475ms\n",
      "445:\tlearn: 0.0234194\ttotal: 381ms\tremaining: 473ms\n",
      "446:\tlearn: 0.0233990\ttotal: 381ms\tremaining: 472ms\n",
      "447:\tlearn: 0.0233733\ttotal: 382ms\tremaining: 470ms\n",
      "448:\tlearn: 0.0233329\ttotal: 382ms\tremaining: 469ms\n",
      "449:\tlearn: 0.0233048\ttotal: 382ms\tremaining: 467ms\n",
      "450:\tlearn: 0.0232771\ttotal: 383ms\tremaining: 466ms\n",
      "451:\tlearn: 0.0232546\ttotal: 383ms\tremaining: 464ms\n",
      "452:\tlearn: 0.0232173\ttotal: 383ms\tremaining: 463ms\n",
      "453:\tlearn: 0.0231798\ttotal: 384ms\tremaining: 462ms\n",
      "454:\tlearn: 0.0231537\ttotal: 384ms\tremaining: 460ms\n",
      "455:\tlearn: 0.0231152\ttotal: 384ms\tremaining: 458ms\n",
      "456:\tlearn: 0.0230919\ttotal: 385ms\tremaining: 457ms\n",
      "457:\tlearn: 0.0230629\ttotal: 385ms\tremaining: 455ms\n",
      "458:\tlearn: 0.0230224\ttotal: 385ms\tremaining: 454ms\n",
      "459:\tlearn: 0.0229742\ttotal: 385ms\tremaining: 452ms\n",
      "460:\tlearn: 0.0229503\ttotal: 386ms\tremaining: 451ms\n",
      "461:\tlearn: 0.0229146\ttotal: 386ms\tremaining: 450ms\n",
      "462:\tlearn: 0.0228679\ttotal: 387ms\tremaining: 448ms\n",
      "463:\tlearn: 0.0228338\ttotal: 387ms\tremaining: 447ms\n",
      "464:\tlearn: 0.0227963\ttotal: 387ms\tremaining: 445ms\n",
      "465:\tlearn: 0.0227590\ttotal: 387ms\tremaining: 444ms\n",
      "466:\tlearn: 0.0227244\ttotal: 389ms\tremaining: 444ms\n",
      "467:\tlearn: 0.0226923\ttotal: 389ms\tremaining: 442ms\n",
      "468:\tlearn: 0.0226638\ttotal: 389ms\tremaining: 441ms\n",
      "469:\tlearn: 0.0226390\ttotal: 390ms\tremaining: 440ms\n",
      "470:\tlearn: 0.0226152\ttotal: 391ms\tremaining: 439ms\n",
      "471:\tlearn: 0.0225769\ttotal: 391ms\tremaining: 437ms\n",
      "472:\tlearn: 0.0225541\ttotal: 391ms\tremaining: 436ms\n",
      "473:\tlearn: 0.0225377\ttotal: 392ms\tremaining: 435ms\n",
      "474:\tlearn: 0.0225027\ttotal: 392ms\tremaining: 433ms\n",
      "475:\tlearn: 0.0224799\ttotal: 392ms\tremaining: 432ms\n",
      "476:\tlearn: 0.0224581\ttotal: 392ms\tremaining: 430ms\n",
      "477:\tlearn: 0.0224363\ttotal: 406ms\tremaining: 443ms\n",
      "478:\tlearn: 0.0224192\ttotal: 406ms\tremaining: 442ms\n",
      "479:\tlearn: 0.0223829\ttotal: 407ms\tremaining: 441ms\n",
      "480:\tlearn: 0.0223480\ttotal: 409ms\tremaining: 442ms\n",
      "481:\tlearn: 0.0223150\ttotal: 410ms\tremaining: 441ms\n",
      "482:\tlearn: 0.0222924\ttotal: 411ms\tremaining: 440ms\n",
      "483:\tlearn: 0.0222529\ttotal: 413ms\tremaining: 440ms\n",
      "484:\tlearn: 0.0222085\ttotal: 414ms\tremaining: 440ms\n",
      "485:\tlearn: 0.0221729\ttotal: 419ms\tremaining: 443ms\n",
      "486:\tlearn: 0.0221412\ttotal: 420ms\tremaining: 442ms\n",
      "487:\tlearn: 0.0221126\ttotal: 422ms\tremaining: 443ms\n",
      "488:\tlearn: 0.0220785\ttotal: 423ms\tremaining: 442ms\n"
     ]
    },
    {
     "name": "stdout",
     "output_type": "stream",
     "text": [
      "489:\tlearn: 0.0220456\ttotal: 427ms\tremaining: 445ms\n",
      "490:\tlearn: 0.0220039\ttotal: 429ms\tremaining: 444ms\n",
      "491:\tlearn: 0.0219742\ttotal: 429ms\tremaining: 443ms\n",
      "492:\tlearn: 0.0219449\ttotal: 430ms\tremaining: 442ms\n",
      "493:\tlearn: 0.0219299\ttotal: 431ms\tremaining: 442ms\n",
      "494:\tlearn: 0.0218921\ttotal: 432ms\tremaining: 440ms\n",
      "495:\tlearn: 0.0218766\ttotal: 432ms\tremaining: 439ms\n",
      "496:\tlearn: 0.0218357\ttotal: 433ms\tremaining: 438ms\n",
      "497:\tlearn: 0.0218031\ttotal: 434ms\tremaining: 437ms\n",
      "498:\tlearn: 0.0217722\ttotal: 434ms\tremaining: 436ms\n",
      "499:\tlearn: 0.0217518\ttotal: 435ms\tremaining: 435ms\n",
      "500:\tlearn: 0.0217364\ttotal: 435ms\tremaining: 433ms\n",
      "501:\tlearn: 0.0217153\ttotal: 435ms\tremaining: 432ms\n",
      "502:\tlearn: 0.0216869\ttotal: 436ms\tremaining: 431ms\n",
      "503:\tlearn: 0.0216533\ttotal: 437ms\tremaining: 430ms\n",
      "504:\tlearn: 0.0216328\ttotal: 437ms\tremaining: 429ms\n",
      "505:\tlearn: 0.0216198\ttotal: 438ms\tremaining: 428ms\n",
      "506:\tlearn: 0.0216017\ttotal: 439ms\tremaining: 427ms\n",
      "507:\tlearn: 0.0215892\ttotal: 439ms\tremaining: 426ms\n",
      "508:\tlearn: 0.0215346\ttotal: 440ms\tremaining: 425ms\n",
      "509:\tlearn: 0.0214899\ttotal: 441ms\tremaining: 423ms\n",
      "510:\tlearn: 0.0214576\ttotal: 441ms\tremaining: 422ms\n",
      "511:\tlearn: 0.0214435\ttotal: 442ms\tremaining: 421ms\n",
      "512:\tlearn: 0.0214084\ttotal: 443ms\tremaining: 420ms\n",
      "513:\tlearn: 0.0213784\ttotal: 443ms\tremaining: 419ms\n",
      "514:\tlearn: 0.0213643\ttotal: 444ms\tremaining: 418ms\n",
      "515:\tlearn: 0.0213495\ttotal: 446ms\tremaining: 418ms\n",
      "516:\tlearn: 0.0213256\ttotal: 447ms\tremaining: 417ms\n",
      "517:\tlearn: 0.0212753\ttotal: 448ms\tremaining: 417ms\n",
      "518:\tlearn: 0.0212385\ttotal: 449ms\tremaining: 416ms\n",
      "519:\tlearn: 0.0212197\ttotal: 450ms\tremaining: 416ms\n",
      "520:\tlearn: 0.0211986\ttotal: 451ms\tremaining: 415ms\n",
      "521:\tlearn: 0.0211775\ttotal: 452ms\tremaining: 414ms\n",
      "522:\tlearn: 0.0211598\ttotal: 453ms\tremaining: 413ms\n",
      "523:\tlearn: 0.0211371\ttotal: 454ms\tremaining: 413ms\n",
      "524:\tlearn: 0.0211198\ttotal: 455ms\tremaining: 412ms\n",
      "525:\tlearn: 0.0210800\ttotal: 456ms\tremaining: 411ms\n",
      "526:\tlearn: 0.0210673\ttotal: 457ms\tremaining: 410ms\n",
      "527:\tlearn: 0.0210385\ttotal: 458ms\tremaining: 409ms\n",
      "528:\tlearn: 0.0209936\ttotal: 458ms\tremaining: 408ms\n",
      "529:\tlearn: 0.0209664\ttotal: 459ms\tremaining: 407ms\n",
      "530:\tlearn: 0.0209496\ttotal: 460ms\tremaining: 406ms\n",
      "531:\tlearn: 0.0209260\ttotal: 462ms\tremaining: 406ms\n",
      "532:\tlearn: 0.0209086\ttotal: 462ms\tremaining: 405ms\n",
      "533:\tlearn: 0.0208813\ttotal: 463ms\tremaining: 404ms\n",
      "534:\tlearn: 0.0208427\ttotal: 463ms\tremaining: 403ms\n",
      "535:\tlearn: 0.0208164\ttotal: 463ms\tremaining: 401ms\n",
      "536:\tlearn: 0.0207899\ttotal: 464ms\tremaining: 400ms\n",
      "537:\tlearn: 0.0207595\ttotal: 464ms\tremaining: 398ms\n",
      "538:\tlearn: 0.0207426\ttotal: 465ms\tremaining: 398ms\n",
      "539:\tlearn: 0.0206968\ttotal: 465ms\tremaining: 396ms\n",
      "540:\tlearn: 0.0206804\ttotal: 467ms\tremaining: 397ms\n",
      "541:\tlearn: 0.0206630\ttotal: 468ms\tremaining: 395ms\n",
      "542:\tlearn: 0.0206443\ttotal: 468ms\tremaining: 394ms\n",
      "543:\tlearn: 0.0206185\ttotal: 468ms\tremaining: 393ms\n",
      "544:\tlearn: 0.0205947\ttotal: 469ms\tremaining: 391ms\n",
      "545:\tlearn: 0.0205681\ttotal: 469ms\tremaining: 390ms\n",
      "546:\tlearn: 0.0205407\ttotal: 469ms\tremaining: 389ms\n",
      "547:\tlearn: 0.0205201\ttotal: 470ms\tremaining: 387ms\n",
      "548:\tlearn: 0.0205024\ttotal: 470ms\tremaining: 386ms\n",
      "549:\tlearn: 0.0204827\ttotal: 470ms\tremaining: 385ms\n",
      "550:\tlearn: 0.0204530\ttotal: 471ms\tremaining: 384ms\n",
      "551:\tlearn: 0.0204345\ttotal: 471ms\tremaining: 382ms\n",
      "552:\tlearn: 0.0204102\ttotal: 471ms\tremaining: 381ms\n",
      "553:\tlearn: 0.0203863\ttotal: 476ms\tremaining: 384ms\n",
      "554:\tlearn: 0.0203600\ttotal: 482ms\tremaining: 387ms\n",
      "555:\tlearn: 0.0203430\ttotal: 484ms\tremaining: 386ms\n",
      "556:\tlearn: 0.0202998\ttotal: 486ms\tremaining: 386ms\n",
      "557:\tlearn: 0.0202762\ttotal: 487ms\tremaining: 386ms\n",
      "558:\tlearn: 0.0202501\ttotal: 491ms\tremaining: 387ms\n",
      "559:\tlearn: 0.0202096\ttotal: 493ms\tremaining: 387ms\n",
      "560:\tlearn: 0.0201867\ttotal: 493ms\tremaining: 386ms\n",
      "561:\tlearn: 0.0201619\ttotal: 494ms\tremaining: 385ms\n",
      "562:\tlearn: 0.0201257\ttotal: 495ms\tremaining: 384ms\n",
      "563:\tlearn: 0.0200997\ttotal: 495ms\tremaining: 383ms\n",
      "564:\tlearn: 0.0200754\ttotal: 495ms\tremaining: 381ms\n",
      "565:\tlearn: 0.0200491\ttotal: 496ms\tremaining: 380ms\n",
      "566:\tlearn: 0.0200358\ttotal: 497ms\tremaining: 379ms\n",
      "567:\tlearn: 0.0200090\ttotal: 497ms\tremaining: 378ms\n",
      "568:\tlearn: 0.0199802\ttotal: 497ms\tremaining: 377ms\n",
      "569:\tlearn: 0.0199674\ttotal: 498ms\tremaining: 375ms\n",
      "570:\tlearn: 0.0199459\ttotal: 498ms\tremaining: 374ms\n",
      "571:\tlearn: 0.0199229\ttotal: 498ms\tremaining: 373ms\n",
      "572:\tlearn: 0.0199008\ttotal: 499ms\tremaining: 372ms\n",
      "573:\tlearn: 0.0198762\ttotal: 499ms\tremaining: 371ms\n",
      "574:\tlearn: 0.0198505\ttotal: 500ms\tremaining: 369ms\n",
      "575:\tlearn: 0.0198270\ttotal: 500ms\tremaining: 368ms\n",
      "576:\tlearn: 0.0197943\ttotal: 501ms\tremaining: 367ms\n",
      "577:\tlearn: 0.0197704\ttotal: 502ms\tremaining: 367ms\n",
      "578:\tlearn: 0.0197558\ttotal: 504ms\tremaining: 367ms\n",
      "579:\tlearn: 0.0197408\ttotal: 508ms\tremaining: 368ms\n",
      "580:\tlearn: 0.0197147\ttotal: 509ms\tremaining: 367ms\n",
      "581:\tlearn: 0.0196944\ttotal: 510ms\tremaining: 366ms\n",
      "582:\tlearn: 0.0196645\ttotal: 510ms\tremaining: 365ms\n",
      "583:\tlearn: 0.0196488\ttotal: 511ms\tremaining: 364ms\n",
      "584:\tlearn: 0.0196109\ttotal: 513ms\tremaining: 364ms\n",
      "585:\tlearn: 0.0195979\ttotal: 514ms\tremaining: 363ms\n",
      "586:\tlearn: 0.0195827\ttotal: 514ms\tremaining: 362ms\n",
      "587:\tlearn: 0.0195597\ttotal: 517ms\tremaining: 362ms\n",
      "588:\tlearn: 0.0195372\ttotal: 517ms\tremaining: 361ms\n",
      "589:\tlearn: 0.0195175\ttotal: 518ms\tremaining: 360ms\n",
      "590:\tlearn: 0.0195014\ttotal: 518ms\tremaining: 359ms\n",
      "591:\tlearn: 0.0194903\ttotal: 519ms\tremaining: 357ms\n"
     ]
    },
    {
     "name": "stdout",
     "output_type": "stream",
     "text": [
      "592:\tlearn: 0.0194772\ttotal: 521ms\tremaining: 358ms\n",
      "593:\tlearn: 0.0194661\ttotal: 522ms\tremaining: 357ms\n",
      "594:\tlearn: 0.0194517\ttotal: 526ms\tremaining: 358ms\n",
      "595:\tlearn: 0.0194383\ttotal: 526ms\tremaining: 357ms\n",
      "596:\tlearn: 0.0194170\ttotal: 527ms\tremaining: 356ms\n",
      "597:\tlearn: 0.0193865\ttotal: 529ms\tremaining: 356ms\n",
      "598:\tlearn: 0.0193542\ttotal: 530ms\tremaining: 355ms\n",
      "599:\tlearn: 0.0193188\ttotal: 530ms\tremaining: 354ms\n",
      "600:\tlearn: 0.0192858\ttotal: 531ms\tremaining: 352ms\n",
      "601:\tlearn: 0.0192644\ttotal: 531ms\tremaining: 351ms\n",
      "602:\tlearn: 0.0192539\ttotal: 531ms\tremaining: 350ms\n",
      "603:\tlearn: 0.0192436\ttotal: 532ms\tremaining: 349ms\n",
      "604:\tlearn: 0.0192208\ttotal: 532ms\tremaining: 347ms\n",
      "605:\tlearn: 0.0191965\ttotal: 535ms\tremaining: 348ms\n",
      "606:\tlearn: 0.0191676\ttotal: 542ms\tremaining: 351ms\n",
      "607:\tlearn: 0.0191472\ttotal: 543ms\tremaining: 350ms\n",
      "608:\tlearn: 0.0191249\ttotal: 544ms\tremaining: 349ms\n",
      "609:\tlearn: 0.0191080\ttotal: 545ms\tremaining: 349ms\n",
      "610:\tlearn: 0.0190831\ttotal: 547ms\tremaining: 348ms\n",
      "611:\tlearn: 0.0190679\ttotal: 547ms\tremaining: 347ms\n",
      "612:\tlearn: 0.0190538\ttotal: 548ms\tremaining: 346ms\n",
      "613:\tlearn: 0.0190330\ttotal: 549ms\tremaining: 345ms\n",
      "614:\tlearn: 0.0190170\ttotal: 549ms\tremaining: 344ms\n",
      "615:\tlearn: 0.0190022\ttotal: 550ms\tremaining: 343ms\n",
      "616:\tlearn: 0.0189872\ttotal: 550ms\tremaining: 341ms\n",
      "617:\tlearn: 0.0189593\ttotal: 550ms\tremaining: 340ms\n"
     ]
    },
    {
     "name": "stdout",
     "output_type": "stream",
     "text": [
      "618:\tlearn: 0.0189435\ttotal: 558ms\tremaining: 343ms\n",
      "619:\tlearn: 0.0189243\ttotal: 558ms\tremaining: 342ms\n",
      "620:\tlearn: 0.0189125\ttotal: 560ms\tremaining: 342ms\n",
      "621:\tlearn: 0.0188992\ttotal: 561ms\tremaining: 341ms\n",
      "622:\tlearn: 0.0188725\ttotal: 562ms\tremaining: 340ms\n",
      "623:\tlearn: 0.0188476\ttotal: 563ms\tremaining: 339ms\n",
      "624:\tlearn: 0.0188277\ttotal: 564ms\tremaining: 338ms\n",
      "625:\tlearn: 0.0187994\ttotal: 564ms\tremaining: 337ms\n",
      "626:\tlearn: 0.0187864\ttotal: 568ms\tremaining: 338ms\n",
      "627:\tlearn: 0.0187738\ttotal: 568ms\tremaining: 337ms\n",
      "628:\tlearn: 0.0187516\ttotal: 570ms\tremaining: 336ms\n",
      "629:\tlearn: 0.0187394\ttotal: 570ms\tremaining: 335ms\n",
      "630:\tlearn: 0.0187251\ttotal: 572ms\tremaining: 335ms\n",
      "631:\tlearn: 0.0187081\ttotal: 573ms\tremaining: 334ms\n",
      "632:\tlearn: 0.0186851\ttotal: 579ms\tremaining: 336ms\n",
      "633:\tlearn: 0.0186747\ttotal: 580ms\tremaining: 335ms\n",
      "634:\tlearn: 0.0186521\ttotal: 580ms\tremaining: 333ms\n",
      "635:\tlearn: 0.0186293\ttotal: 580ms\tremaining: 332ms\n",
      "636:\tlearn: 0.0186074\ttotal: 581ms\tremaining: 331ms\n",
      "637:\tlearn: 0.0185885\ttotal: 581ms\tremaining: 330ms\n",
      "638:\tlearn: 0.0185776\ttotal: 585ms\tremaining: 331ms\n",
      "639:\tlearn: 0.0185614\ttotal: 592ms\tremaining: 333ms\n",
      "640:\tlearn: 0.0185500\ttotal: 593ms\tremaining: 332ms\n",
      "641:\tlearn: 0.0185402\ttotal: 594ms\tremaining: 331ms\n",
      "642:\tlearn: 0.0185278\ttotal: 595ms\tremaining: 330ms\n",
      "643:\tlearn: 0.0185170\ttotal: 595ms\tremaining: 329ms\n",
      "644:\tlearn: 0.0184954\ttotal: 596ms\tremaining: 328ms\n",
      "645:\tlearn: 0.0184740\ttotal: 596ms\tremaining: 327ms\n",
      "646:\tlearn: 0.0184484\ttotal: 597ms\tremaining: 326ms\n",
      "647:\tlearn: 0.0184168\ttotal: 597ms\tremaining: 324ms\n",
      "648:\tlearn: 0.0184014\ttotal: 597ms\tremaining: 323ms\n",
      "649:\tlearn: 0.0183842\ttotal: 598ms\tremaining: 322ms\n",
      "650:\tlearn: 0.0183694\ttotal: 598ms\tremaining: 321ms\n",
      "651:\tlearn: 0.0183435\ttotal: 598ms\tremaining: 319ms\n",
      "652:\tlearn: 0.0183330\ttotal: 598ms\tremaining: 318ms\n",
      "653:\tlearn: 0.0183229\ttotal: 599ms\tremaining: 317ms\n",
      "654:\tlearn: 0.0183127\ttotal: 603ms\tremaining: 318ms\n",
      "655:\tlearn: 0.0183001\ttotal: 604ms\tremaining: 317ms\n",
      "656:\tlearn: 0.0182913\ttotal: 604ms\tremaining: 315ms\n",
      "657:\tlearn: 0.0182637\ttotal: 608ms\tremaining: 316ms\n",
      "658:\tlearn: 0.0182300\ttotal: 609ms\tremaining: 315ms\n",
      "659:\tlearn: 0.0182097\ttotal: 611ms\tremaining: 315ms\n",
      "660:\tlearn: 0.0181862\ttotal: 613ms\tremaining: 315ms\n",
      "661:\tlearn: 0.0181666\ttotal: 619ms\tremaining: 316ms\n",
      "662:\tlearn: 0.0181582\ttotal: 623ms\tremaining: 317ms\n",
      "663:\tlearn: 0.0181457\ttotal: 625ms\tremaining: 316ms\n",
      "664:\tlearn: 0.0181246\ttotal: 625ms\tremaining: 315ms\n",
      "665:\tlearn: 0.0181042\ttotal: 627ms\tremaining: 315ms\n",
      "666:\tlearn: 0.0180982\ttotal: 631ms\tremaining: 315ms\n",
      "667:\tlearn: 0.0180804\ttotal: 631ms\tremaining: 314ms\n",
      "668:\tlearn: 0.0180704\ttotal: 632ms\tremaining: 313ms\n",
      "669:\tlearn: 0.0180360\ttotal: 634ms\tremaining: 312ms\n",
      "670:\tlearn: 0.0180271\ttotal: 635ms\tremaining: 311ms\n",
      "671:\tlearn: 0.0180020\ttotal: 636ms\tremaining: 310ms\n",
      "672:\tlearn: 0.0179897\ttotal: 637ms\tremaining: 309ms\n",
      "673:\tlearn: 0.0179614\ttotal: 637ms\tremaining: 308ms\n",
      "674:\tlearn: 0.0179380\ttotal: 637ms\tremaining: 307ms\n",
      "675:\tlearn: 0.0179288\ttotal: 644ms\tremaining: 309ms\n",
      "676:\tlearn: 0.0179090\ttotal: 646ms\tremaining: 308ms\n",
      "677:\tlearn: 0.0178823\ttotal: 648ms\tremaining: 308ms\n",
      "678:\tlearn: 0.0178738\ttotal: 649ms\tremaining: 307ms\n"
     ]
    },
    {
     "name": "stdout",
     "output_type": "stream",
     "text": [
      "679:\tlearn: 0.0178648\ttotal: 651ms\tremaining: 307ms\n",
      "680:\tlearn: 0.0178548\ttotal: 652ms\tremaining: 305ms\n",
      "681:\tlearn: 0.0178324\ttotal: 652ms\tremaining: 304ms\n",
      "682:\tlearn: 0.0178163\ttotal: 652ms\tremaining: 303ms\n",
      "683:\tlearn: 0.0178084\ttotal: 653ms\tremaining: 302ms\n",
      "684:\tlearn: 0.0178003\ttotal: 653ms\tremaining: 300ms\n",
      "685:\tlearn: 0.0177799\ttotal: 653ms\tremaining: 299ms\n",
      "686:\tlearn: 0.0177716\ttotal: 654ms\tremaining: 298ms\n",
      "687:\tlearn: 0.0177638\ttotal: 654ms\tremaining: 297ms\n",
      "688:\tlearn: 0.0177527\ttotal: 654ms\tremaining: 295ms\n",
      "689:\tlearn: 0.0177212\ttotal: 662ms\tremaining: 297ms\n",
      "690:\tlearn: 0.0177016\ttotal: 663ms\tremaining: 297ms\n",
      "691:\tlearn: 0.0176872\ttotal: 664ms\tremaining: 296ms\n",
      "692:\tlearn: 0.0176735\ttotal: 665ms\tremaining: 295ms\n",
      "693:\tlearn: 0.0176660\ttotal: 666ms\tremaining: 294ms\n",
      "694:\tlearn: 0.0176437\ttotal: 667ms\tremaining: 293ms\n",
      "695:\tlearn: 0.0176368\ttotal: 667ms\tremaining: 291ms\n",
      "696:\tlearn: 0.0176138\ttotal: 667ms\tremaining: 290ms\n",
      "697:\tlearn: 0.0175890\ttotal: 668ms\tremaining: 289ms\n",
      "698:\tlearn: 0.0175817\ttotal: 668ms\tremaining: 288ms\n",
      "699:\tlearn: 0.0175629\ttotal: 669ms\tremaining: 287ms\n",
      "700:\tlearn: 0.0175496\ttotal: 669ms\tremaining: 285ms\n",
      "701:\tlearn: 0.0175374\ttotal: 670ms\tremaining: 284ms\n",
      "702:\tlearn: 0.0175250\ttotal: 670ms\tremaining: 283ms\n",
      "703:\tlearn: 0.0175037\ttotal: 671ms\tremaining: 282ms\n",
      "704:\tlearn: 0.0174865\ttotal: 671ms\tremaining: 281ms\n",
      "705:\tlearn: 0.0174605\ttotal: 673ms\tremaining: 280ms\n",
      "706:\tlearn: 0.0174446\ttotal: 673ms\tremaining: 279ms\n",
      "707:\tlearn: 0.0174275\ttotal: 673ms\tremaining: 278ms\n",
      "708:\tlearn: 0.0174192\ttotal: 673ms\tremaining: 276ms\n",
      "709:\tlearn: 0.0174018\ttotal: 674ms\tremaining: 275ms\n",
      "710:\tlearn: 0.0173798\ttotal: 674ms\tremaining: 274ms\n",
      "711:\tlearn: 0.0173704\ttotal: 674ms\tremaining: 273ms\n",
      "712:\tlearn: 0.0173466\ttotal: 675ms\tremaining: 272ms\n",
      "713:\tlearn: 0.0173349\ttotal: 675ms\tremaining: 270ms\n",
      "714:\tlearn: 0.0173167\ttotal: 675ms\tremaining: 269ms\n",
      "715:\tlearn: 0.0173005\ttotal: 676ms\tremaining: 268ms\n",
      "716:\tlearn: 0.0172841\ttotal: 676ms\tremaining: 267ms\n",
      "717:\tlearn: 0.0172687\ttotal: 676ms\tremaining: 266ms\n",
      "718:\tlearn: 0.0172516\ttotal: 677ms\tremaining: 264ms\n",
      "719:\tlearn: 0.0172311\ttotal: 677ms\tremaining: 263ms\n",
      "720:\tlearn: 0.0172221\ttotal: 677ms\tremaining: 262ms\n",
      "721:\tlearn: 0.0172068\ttotal: 678ms\tremaining: 261ms\n",
      "722:\tlearn: 0.0171851\ttotal: 678ms\tremaining: 260ms\n",
      "723:\tlearn: 0.0171683\ttotal: 678ms\tremaining: 259ms\n",
      "724:\tlearn: 0.0171442\ttotal: 679ms\tremaining: 257ms\n",
      "725:\tlearn: 0.0171240\ttotal: 679ms\tremaining: 256ms\n",
      "726:\tlearn: 0.0171099\ttotal: 679ms\tremaining: 255ms\n",
      "727:\tlearn: 0.0170863\ttotal: 679ms\tremaining: 254ms\n",
      "728:\tlearn: 0.0170742\ttotal: 680ms\tremaining: 253ms\n",
      "729:\tlearn: 0.0170577\ttotal: 680ms\tremaining: 252ms\n",
      "730:\tlearn: 0.0170328\ttotal: 682ms\tremaining: 251ms\n",
      "731:\tlearn: 0.0170166\ttotal: 682ms\tremaining: 250ms\n",
      "732:\tlearn: 0.0170052\ttotal: 683ms\tremaining: 249ms\n",
      "733:\tlearn: 0.0169951\ttotal: 684ms\tremaining: 248ms\n",
      "734:\tlearn: 0.0169823\ttotal: 684ms\tremaining: 247ms\n",
      "735:\tlearn: 0.0169629\ttotal: 684ms\tremaining: 245ms\n",
      "736:\tlearn: 0.0169548\ttotal: 685ms\tremaining: 244ms\n",
      "737:\tlearn: 0.0169346\ttotal: 685ms\tremaining: 243ms\n",
      "738:\tlearn: 0.0169189\ttotal: 685ms\tremaining: 242ms\n",
      "739:\tlearn: 0.0168936\ttotal: 686ms\tremaining: 241ms\n",
      "740:\tlearn: 0.0168855\ttotal: 687ms\tremaining: 240ms\n",
      "741:\tlearn: 0.0168569\ttotal: 687ms\tremaining: 239ms\n",
      "742:\tlearn: 0.0168437\ttotal: 687ms\tremaining: 238ms\n",
      "743:\tlearn: 0.0168264\ttotal: 688ms\tremaining: 237ms\n",
      "744:\tlearn: 0.0168112\ttotal: 688ms\tremaining: 236ms\n",
      "745:\tlearn: 0.0167890\ttotal: 689ms\tremaining: 235ms\n",
      "746:\tlearn: 0.0167814\ttotal: 689ms\tremaining: 233ms\n",
      "747:\tlearn: 0.0167647\ttotal: 689ms\tremaining: 232ms\n",
      "748:\tlearn: 0.0167437\ttotal: 690ms\tremaining: 231ms\n"
     ]
    },
    {
     "name": "stdout",
     "output_type": "stream",
     "text": [
      "749:\tlearn: 0.0167290\ttotal: 691ms\tremaining: 230ms\n",
      "750:\tlearn: 0.0167128\ttotal: 691ms\tremaining: 229ms\n",
      "751:\tlearn: 0.0166937\ttotal: 693ms\tremaining: 228ms\n",
      "752:\tlearn: 0.0166766\ttotal: 693ms\tremaining: 227ms\n",
      "753:\tlearn: 0.0166624\ttotal: 694ms\tremaining: 226ms\n",
      "754:\tlearn: 0.0166463\ttotal: 695ms\tremaining: 225ms\n",
      "755:\tlearn: 0.0166296\ttotal: 695ms\tremaining: 224ms\n",
      "756:\tlearn: 0.0166223\ttotal: 695ms\tremaining: 223ms\n",
      "757:\tlearn: 0.0166150\ttotal: 696ms\tremaining: 222ms\n",
      "758:\tlearn: 0.0166008\ttotal: 696ms\tremaining: 221ms\n",
      "759:\tlearn: 0.0165855\ttotal: 696ms\tremaining: 220ms\n",
      "760:\tlearn: 0.0165371\ttotal: 696ms\tremaining: 219ms\n",
      "761:\tlearn: 0.0165207\ttotal: 697ms\tremaining: 218ms\n",
      "762:\tlearn: 0.0164986\ttotal: 697ms\tremaining: 216ms\n",
      "763:\tlearn: 0.0164955\ttotal: 697ms\tremaining: 215ms\n",
      "764:\tlearn: 0.0164765\ttotal: 698ms\tremaining: 214ms\n",
      "765:\tlearn: 0.0164651\ttotal: 698ms\tremaining: 213ms\n",
      "766:\tlearn: 0.0164506\ttotal: 698ms\tremaining: 212ms\n",
      "767:\tlearn: 0.0164286\ttotal: 699ms\tremaining: 211ms\n",
      "768:\tlearn: 0.0164192\ttotal: 699ms\tremaining: 210ms\n",
      "769:\tlearn: 0.0164122\ttotal: 699ms\tremaining: 209ms\n",
      "770:\tlearn: 0.0164051\ttotal: 700ms\tremaining: 208ms\n",
      "771:\tlearn: 0.0163910\ttotal: 700ms\tremaining: 207ms\n",
      "772:\tlearn: 0.0163831\ttotal: 700ms\tremaining: 206ms\n",
      "773:\tlearn: 0.0163763\ttotal: 701ms\tremaining: 205ms\n",
      "774:\tlearn: 0.0163497\ttotal: 701ms\tremaining: 203ms\n",
      "775:\tlearn: 0.0163464\ttotal: 701ms\tremaining: 202ms\n",
      "776:\tlearn: 0.0163364\ttotal: 701ms\tremaining: 201ms\n",
      "777:\tlearn: 0.0163193\ttotal: 702ms\tremaining: 200ms\n",
      "778:\tlearn: 0.0163068\ttotal: 702ms\tremaining: 199ms\n",
      "779:\tlearn: 0.0162879\ttotal: 702ms\tremaining: 198ms\n",
      "780:\tlearn: 0.0162656\ttotal: 702ms\tremaining: 197ms\n",
      "781:\tlearn: 0.0162353\ttotal: 703ms\tremaining: 196ms\n",
      "782:\tlearn: 0.0162286\ttotal: 703ms\tremaining: 195ms\n",
      "783:\tlearn: 0.0162111\ttotal: 704ms\tremaining: 194ms\n",
      "784:\tlearn: 0.0162027\ttotal: 705ms\tremaining: 193ms\n",
      "785:\tlearn: 0.0161895\ttotal: 705ms\tremaining: 192ms\n",
      "786:\tlearn: 0.0161802\ttotal: 706ms\tremaining: 191ms\n",
      "787:\tlearn: 0.0161744\ttotal: 706ms\tremaining: 190ms\n",
      "788:\tlearn: 0.0161610\ttotal: 706ms\tremaining: 189ms\n",
      "789:\tlearn: 0.0161319\ttotal: 706ms\tremaining: 188ms\n",
      "790:\tlearn: 0.0161153\ttotal: 707ms\tremaining: 187ms\n",
      "791:\tlearn: 0.0161004\ttotal: 707ms\tremaining: 186ms\n",
      "792:\tlearn: 0.0160877\ttotal: 707ms\tremaining: 185ms\n",
      "793:\tlearn: 0.0160627\ttotal: 709ms\tremaining: 184ms\n",
      "794:\tlearn: 0.0160457\ttotal: 709ms\tremaining: 183ms\n",
      "795:\tlearn: 0.0160385\ttotal: 710ms\tremaining: 182ms\n",
      "796:\tlearn: 0.0160104\ttotal: 710ms\tremaining: 181ms\n",
      "797:\tlearn: 0.0160018\ttotal: 710ms\tremaining: 180ms\n",
      "798:\tlearn: 0.0159813\ttotal: 710ms\tremaining: 179ms\n",
      "799:\tlearn: 0.0159682\ttotal: 711ms\tremaining: 178ms\n",
      "800:\tlearn: 0.0159522\ttotal: 711ms\tremaining: 177ms\n",
      "801:\tlearn: 0.0159326\ttotal: 712ms\tremaining: 176ms\n",
      "802:\tlearn: 0.0159211\ttotal: 712ms\tremaining: 175ms\n",
      "803:\tlearn: 0.0159069\ttotal: 712ms\tremaining: 174ms\n",
      "804:\tlearn: 0.0159005\ttotal: 712ms\tremaining: 173ms\n",
      "805:\tlearn: 0.0158774\ttotal: 713ms\tremaining: 172ms\n",
      "806:\tlearn: 0.0158584\ttotal: 713ms\tremaining: 170ms\n",
      "807:\tlearn: 0.0158422\ttotal: 713ms\tremaining: 169ms\n",
      "808:\tlearn: 0.0158188\ttotal: 714ms\tremaining: 168ms\n",
      "809:\tlearn: 0.0158025\ttotal: 714ms\tremaining: 168ms\n",
      "810:\tlearn: 0.0157963\ttotal: 716ms\tremaining: 167ms\n",
      "811:\tlearn: 0.0157866\ttotal: 716ms\tremaining: 166ms\n",
      "812:\tlearn: 0.0157750\ttotal: 717ms\tremaining: 165ms\n",
      "813:\tlearn: 0.0157700\ttotal: 719ms\tremaining: 164ms\n",
      "814:\tlearn: 0.0157448\ttotal: 720ms\tremaining: 163ms\n",
      "815:\tlearn: 0.0157317\ttotal: 720ms\tremaining: 162ms\n",
      "816:\tlearn: 0.0157216\ttotal: 720ms\tremaining: 161ms\n",
      "817:\tlearn: 0.0157065\ttotal: 721ms\tremaining: 160ms\n",
      "818:\tlearn: 0.0156973\ttotal: 721ms\tremaining: 159ms\n",
      "819:\tlearn: 0.0156917\ttotal: 721ms\tremaining: 158ms\n",
      "820:\tlearn: 0.0156830\ttotal: 722ms\tremaining: 157ms\n",
      "821:\tlearn: 0.0156759\ttotal: 722ms\tremaining: 156ms\n",
      "822:\tlearn: 0.0156627\ttotal: 722ms\tremaining: 155ms\n",
      "823:\tlearn: 0.0156392\ttotal: 722ms\tremaining: 154ms\n",
      "824:\tlearn: 0.0156269\ttotal: 723ms\tremaining: 153ms\n",
      "825:\tlearn: 0.0156158\ttotal: 723ms\tremaining: 152ms\n",
      "826:\tlearn: 0.0156050\ttotal: 723ms\tremaining: 151ms\n",
      "827:\tlearn: 0.0155922\ttotal: 723ms\tremaining: 150ms\n",
      "828:\tlearn: 0.0155809\ttotal: 724ms\tremaining: 149ms\n",
      "829:\tlearn: 0.0155684\ttotal: 724ms\tremaining: 148ms\n",
      "830:\tlearn: 0.0155561\ttotal: 724ms\tremaining: 147ms\n",
      "831:\tlearn: 0.0155510\ttotal: 724ms\tremaining: 146ms\n",
      "832:\tlearn: 0.0155391\ttotal: 725ms\tremaining: 145ms\n",
      "833:\tlearn: 0.0155324\ttotal: 725ms\tremaining: 144ms\n",
      "834:\tlearn: 0.0155182\ttotal: 725ms\tremaining: 143ms\n",
      "835:\tlearn: 0.0155105\ttotal: 726ms\tremaining: 142ms\n",
      "836:\tlearn: 0.0155048\ttotal: 726ms\tremaining: 141ms\n",
      "837:\tlearn: 0.0154910\ttotal: 726ms\tremaining: 140ms\n",
      "838:\tlearn: 0.0154848\ttotal: 726ms\tremaining: 139ms\n",
      "839:\tlearn: 0.0154631\ttotal: 727ms\tremaining: 138ms\n",
      "840:\tlearn: 0.0154444\ttotal: 727ms\tremaining: 137ms\n",
      "841:\tlearn: 0.0154353\ttotal: 727ms\tremaining: 136ms\n",
      "842:\tlearn: 0.0154236\ttotal: 728ms\tremaining: 135ms\n",
      "843:\tlearn: 0.0154174\ttotal: 728ms\tremaining: 135ms\n",
      "844:\tlearn: 0.0153962\ttotal: 729ms\tremaining: 134ms\n",
      "845:\tlearn: 0.0153895\ttotal: 729ms\tremaining: 133ms\n",
      "846:\tlearn: 0.0153824\ttotal: 729ms\tremaining: 132ms\n",
      "847:\tlearn: 0.0153707\ttotal: 729ms\tremaining: 131ms\n",
      "848:\tlearn: 0.0153509\ttotal: 736ms\tremaining: 131ms\n",
      "849:\tlearn: 0.0153387\ttotal: 744ms\tremaining: 131ms\n",
      "850:\tlearn: 0.0153307\ttotal: 745ms\tremaining: 130ms\n",
      "851:\tlearn: 0.0153170\ttotal: 745ms\tremaining: 129ms\n",
      "852:\tlearn: 0.0152955\ttotal: 746ms\tremaining: 128ms\n",
      "853:\tlearn: 0.0152837\ttotal: 746ms\tremaining: 128ms\n",
      "854:\tlearn: 0.0152696\ttotal: 746ms\tremaining: 127ms\n",
      "855:\tlearn: 0.0152640\ttotal: 747ms\tremaining: 126ms\n",
      "856:\tlearn: 0.0152587\ttotal: 747ms\tremaining: 125ms\n",
      "857:\tlearn: 0.0152468\ttotal: 747ms\tremaining: 124ms\n",
      "858:\tlearn: 0.0152353\ttotal: 748ms\tremaining: 123ms\n",
      "859:\tlearn: 0.0152220\ttotal: 748ms\tremaining: 122ms\n",
      "860:\tlearn: 0.0152134\ttotal: 748ms\tremaining: 121ms\n",
      "861:\tlearn: 0.0151863\ttotal: 748ms\tremaining: 120ms\n",
      "862:\tlearn: 0.0151779\ttotal: 749ms\tremaining: 119ms\n",
      "863:\tlearn: 0.0151594\ttotal: 749ms\tremaining: 118ms\n",
      "864:\tlearn: 0.0151538\ttotal: 749ms\tremaining: 117ms\n",
      "865:\tlearn: 0.0151483\ttotal: 750ms\tremaining: 116ms\n",
      "866:\tlearn: 0.0151400\ttotal: 750ms\tremaining: 115ms\n",
      "867:\tlearn: 0.0151280\ttotal: 750ms\tremaining: 114ms\n",
      "868:\tlearn: 0.0151054\ttotal: 751ms\tremaining: 113ms\n",
      "869:\tlearn: 0.0150924\ttotal: 752ms\tremaining: 112ms\n",
      "870:\tlearn: 0.0150812\ttotal: 752ms\tremaining: 111ms\n",
      "871:\tlearn: 0.0150722\ttotal: 752ms\tremaining: 110ms\n",
      "872:\tlearn: 0.0150614\ttotal: 753ms\tremaining: 110ms\n",
      "873:\tlearn: 0.0150417\ttotal: 753ms\tremaining: 109ms\n",
      "874:\tlearn: 0.0150225\ttotal: 754ms\tremaining: 108ms\n",
      "875:\tlearn: 0.0150163\ttotal: 754ms\tremaining: 107ms\n",
      "876:\tlearn: 0.0150084\ttotal: 754ms\tremaining: 106ms\n",
      "877:\tlearn: 0.0149972\ttotal: 755ms\tremaining: 105ms\n",
      "878:\tlearn: 0.0149863\ttotal: 755ms\tremaining: 104ms\n",
      "879:\tlearn: 0.0149749\ttotal: 755ms\tremaining: 103ms\n",
      "880:\tlearn: 0.0149696\ttotal: 756ms\tremaining: 102ms\n",
      "881:\tlearn: 0.0149599\ttotal: 757ms\tremaining: 101ms\n",
      "882:\tlearn: 0.0149474\ttotal: 757ms\tremaining: 100ms\n",
      "883:\tlearn: 0.0149339\ttotal: 757ms\tremaining: 99.4ms\n",
      "884:\tlearn: 0.0149216\ttotal: 758ms\tremaining: 98.4ms\n",
      "885:\tlearn: 0.0148962\ttotal: 758ms\tremaining: 97.5ms\n",
      "886:\tlearn: 0.0148865\ttotal: 758ms\tremaining: 96.6ms\n",
      "887:\tlearn: 0.0148759\ttotal: 759ms\tremaining: 95.8ms\n",
      "888:\tlearn: 0.0148657\ttotal: 760ms\tremaining: 94.8ms\n",
      "889:\tlearn: 0.0148591\ttotal: 760ms\tremaining: 93.9ms\n",
      "890:\tlearn: 0.0148489\ttotal: 760ms\tremaining: 93ms\n",
      "891:\tlearn: 0.0148391\ttotal: 761ms\tremaining: 92.1ms\n",
      "892:\tlearn: 0.0148111\ttotal: 761ms\tremaining: 91.2ms\n",
      "893:\tlearn: 0.0148008\ttotal: 761ms\tremaining: 90.3ms\n",
      "894:\tlearn: 0.0147895\ttotal: 763ms\tremaining: 89.5ms\n",
      "895:\tlearn: 0.0147831\ttotal: 763ms\tremaining: 88.6ms\n",
      "896:\tlearn: 0.0147618\ttotal: 763ms\tremaining: 87.6ms\n",
      "897:\tlearn: 0.0147541\ttotal: 764ms\tremaining: 86.7ms\n",
      "898:\tlearn: 0.0147420\ttotal: 764ms\tremaining: 85.8ms\n",
      "899:\tlearn: 0.0147273\ttotal: 765ms\tremaining: 85ms\n",
      "900:\tlearn: 0.0147174\ttotal: 765ms\tremaining: 84ms\n",
      "901:\tlearn: 0.0147077\ttotal: 765ms\tremaining: 83.1ms\n",
      "902:\tlearn: 0.0146957\ttotal: 766ms\tremaining: 82.2ms\n",
      "903:\tlearn: 0.0146863\ttotal: 766ms\tremaining: 81.3ms\n",
      "904:\tlearn: 0.0146770\ttotal: 766ms\tremaining: 80.4ms\n",
      "905:\tlearn: 0.0146655\ttotal: 767ms\tremaining: 79.6ms\n",
      "906:\tlearn: 0.0146564\ttotal: 767ms\tremaining: 78.7ms\n",
      "907:\tlearn: 0.0146460\ttotal: 767ms\tremaining: 77.7ms\n",
      "908:\tlearn: 0.0146274\ttotal: 768ms\tremaining: 76.8ms\n",
      "909:\tlearn: 0.0146165\ttotal: 768ms\tremaining: 76ms\n",
      "910:\tlearn: 0.0146114\ttotal: 769ms\tremaining: 75.1ms\n",
      "911:\tlearn: 0.0146053\ttotal: 769ms\tremaining: 74.2ms\n",
      "912:\tlearn: 0.0145815\ttotal: 770ms\tremaining: 73.3ms\n",
      "913:\tlearn: 0.0145717\ttotal: 770ms\tremaining: 72.4ms\n",
      "914:\tlearn: 0.0145652\ttotal: 770ms\tremaining: 71.5ms\n",
      "915:\tlearn: 0.0145477\ttotal: 770ms\tremaining: 70.6ms\n",
      "916:\tlearn: 0.0145315\ttotal: 771ms\tremaining: 69.8ms\n",
      "917:\tlearn: 0.0145272\ttotal: 771ms\tremaining: 68.9ms\n",
      "918:\tlearn: 0.0145182\ttotal: 771ms\tremaining: 68ms\n",
      "919:\tlearn: 0.0144981\ttotal: 772ms\tremaining: 67.1ms\n",
      "920:\tlearn: 0.0144956\ttotal: 773ms\tremaining: 66.3ms\n",
      "921:\tlearn: 0.0144875\ttotal: 773ms\tremaining: 65.4ms\n",
      "922:\tlearn: 0.0144793\ttotal: 773ms\tremaining: 64.5ms\n",
      "923:\tlearn: 0.0144728\ttotal: 774ms\tremaining: 63.6ms\n",
      "924:\tlearn: 0.0144670\ttotal: 774ms\tremaining: 62.8ms\n",
      "925:\tlearn: 0.0144535\ttotal: 775ms\tremaining: 61.9ms\n",
      "926:\tlearn: 0.0144273\ttotal: 776ms\tremaining: 61.1ms\n",
      "927:\tlearn: 0.0144123\ttotal: 776ms\tremaining: 60.2ms\n",
      "928:\tlearn: 0.0144076\ttotal: 777ms\tremaining: 59.4ms\n",
      "929:\tlearn: 0.0143976\ttotal: 779ms\tremaining: 58.6ms\n",
      "930:\tlearn: 0.0143876\ttotal: 779ms\tremaining: 57.8ms\n",
      "931:\tlearn: 0.0143743\ttotal: 780ms\tremaining: 56.9ms\n",
      "932:\tlearn: 0.0143661\ttotal: 781ms\tremaining: 56.1ms\n",
      "933:\tlearn: 0.0143578\ttotal: 781ms\tremaining: 55.2ms\n",
      "934:\tlearn: 0.0143531\ttotal: 781ms\tremaining: 54.3ms\n",
      "935:\tlearn: 0.0143317\ttotal: 781ms\tremaining: 53.4ms\n",
      "936:\tlearn: 0.0143224\ttotal: 782ms\tremaining: 52.6ms\n",
      "937:\tlearn: 0.0143173\ttotal: 782ms\tremaining: 51.7ms\n",
      "938:\tlearn: 0.0143152\ttotal: 782ms\tremaining: 50.8ms\n",
      "939:\tlearn: 0.0143059\ttotal: 783ms\tremaining: 50ms\n",
      "940:\tlearn: 0.0142968\ttotal: 783ms\tremaining: 49.1ms\n",
      "941:\tlearn: 0.0142871\ttotal: 783ms\tremaining: 48.2ms\n",
      "942:\tlearn: 0.0142764\ttotal: 784ms\tremaining: 47.4ms\n",
      "943:\tlearn: 0.0142713\ttotal: 784ms\tremaining: 46.5ms\n",
      "944:\tlearn: 0.0142611\ttotal: 784ms\tremaining: 45.6ms\n",
      "945:\tlearn: 0.0142505\ttotal: 785ms\tremaining: 44.8ms\n",
      "946:\tlearn: 0.0142326\ttotal: 785ms\tremaining: 44ms\n",
      "947:\tlearn: 0.0142237\ttotal: 786ms\tremaining: 43.1ms\n",
      "948:\tlearn: 0.0142150\ttotal: 786ms\tremaining: 42.2ms\n",
      "949:\tlearn: 0.0142057\ttotal: 786ms\tremaining: 41.4ms\n",
      "950:\tlearn: 0.0141990\ttotal: 787ms\tremaining: 40.5ms\n",
      "951:\tlearn: 0.0141923\ttotal: 787ms\tremaining: 39.7ms\n",
      "952:\tlearn: 0.0141799\ttotal: 788ms\tremaining: 38.9ms\n",
      "953:\tlearn: 0.0141717\ttotal: 788ms\tremaining: 38ms\n",
      "954:\tlearn: 0.0141635\ttotal: 789ms\tremaining: 37.2ms\n",
      "955:\tlearn: 0.0141482\ttotal: 789ms\tremaining: 36.3ms\n",
      "956:\tlearn: 0.0141247\ttotal: 789ms\tremaining: 35.5ms\n",
      "957:\tlearn: 0.0141161\ttotal: 790ms\tremaining: 34.6ms\n",
      "958:\tlearn: 0.0141118\ttotal: 790ms\tremaining: 33.8ms\n",
      "959:\tlearn: 0.0140978\ttotal: 790ms\tremaining: 32.9ms\n",
      "960:\tlearn: 0.0140932\ttotal: 791ms\tremaining: 32.1ms\n",
      "961:\tlearn: 0.0140819\ttotal: 791ms\tremaining: 31.2ms\n"
     ]
    },
    {
     "name": "stdout",
     "output_type": "stream",
     "text": [
      "962:\tlearn: 0.0140693\ttotal: 791ms\tremaining: 30.4ms\n",
      "963:\tlearn: 0.0140599\ttotal: 794ms\tremaining: 29.7ms\n",
      "964:\tlearn: 0.0140510\ttotal: 794ms\tremaining: 28.8ms\n",
      "965:\tlearn: 0.0140472\ttotal: 795ms\tremaining: 28ms\n",
      "966:\tlearn: 0.0140073\ttotal: 795ms\tremaining: 27.1ms\n",
      "967:\tlearn: 0.0139991\ttotal: 795ms\tremaining: 26.3ms\n",
      "968:\tlearn: 0.0139923\ttotal: 796ms\tremaining: 25.5ms\n",
      "969:\tlearn: 0.0139869\ttotal: 796ms\tremaining: 24.6ms\n",
      "970:\tlearn: 0.0139769\ttotal: 796ms\tremaining: 23.8ms\n",
      "971:\tlearn: 0.0139612\ttotal: 797ms\tremaining: 22.9ms\n",
      "972:\tlearn: 0.0139555\ttotal: 797ms\tremaining: 22.1ms\n",
      "973:\tlearn: 0.0139467\ttotal: 797ms\tremaining: 21.3ms\n",
      "974:\tlearn: 0.0139405\ttotal: 797ms\tremaining: 20.4ms\n",
      "975:\tlearn: 0.0139153\ttotal: 798ms\tremaining: 19.6ms\n",
      "976:\tlearn: 0.0139074\ttotal: 798ms\tremaining: 18.8ms\n",
      "977:\tlearn: 0.0138959\ttotal: 800ms\tremaining: 18ms\n",
      "978:\tlearn: 0.0138856\ttotal: 800ms\tremaining: 17.2ms\n",
      "979:\tlearn: 0.0138773\ttotal: 800ms\tremaining: 16.3ms\n",
      "980:\tlearn: 0.0138730\ttotal: 801ms\tremaining: 15.5ms\n",
      "981:\tlearn: 0.0138646\ttotal: 801ms\tremaining: 14.7ms\n",
      "982:\tlearn: 0.0138492\ttotal: 801ms\tremaining: 13.9ms\n",
      "983:\tlearn: 0.0138265\ttotal: 802ms\tremaining: 13ms\n",
      "984:\tlearn: 0.0138178\ttotal: 803ms\tremaining: 12.2ms\n",
      "985:\tlearn: 0.0137989\ttotal: 803ms\tremaining: 11.4ms\n",
      "986:\tlearn: 0.0137895\ttotal: 803ms\tremaining: 10.6ms\n",
      "987:\tlearn: 0.0137849\ttotal: 804ms\tremaining: 9.76ms\n",
      "988:\tlearn: 0.0137757\ttotal: 804ms\tremaining: 8.94ms\n",
      "989:\tlearn: 0.0137724\ttotal: 804ms\tremaining: 8.12ms\n",
      "990:\tlearn: 0.0137645\ttotal: 804ms\tremaining: 7.31ms\n",
      "991:\tlearn: 0.0137616\ttotal: 805ms\tremaining: 6.49ms\n",
      "992:\tlearn: 0.0137488\ttotal: 805ms\tremaining: 5.67ms\n",
      "993:\tlearn: 0.0137401\ttotal: 805ms\tremaining: 4.86ms\n",
      "994:\tlearn: 0.0137342\ttotal: 806ms\tremaining: 4.05ms\n",
      "995:\tlearn: 0.0137236\ttotal: 806ms\tremaining: 3.24ms\n",
      "996:\tlearn: 0.0137175\ttotal: 807ms\tremaining: 2.43ms\n",
      "997:\tlearn: 0.0137070\ttotal: 808ms\tremaining: 1.62ms\n",
      "998:\tlearn: 0.0136975\ttotal: 808ms\tremaining: 808us\n",
      "999:\tlearn: 0.0136900\ttotal: 808ms\tremaining: 0us\n"
     ]
    },
    {
     "data": {
      "text/plain": [
       "<catboost.core.CatBoostRegressor at 0x7fb709f0e3a0>"
      ]
     },
     "execution_count": 9,
     "metadata": {},
     "output_type": "execute_result"
    }
   ],
   "source": [
    "#Train the Model \n",
    "prior_model = ctb.CatBoostRegressor()\n",
    "prior_model.fit(X_train,Y_train)"
   ]
  },
  {
   "cell_type": "code",
   "execution_count": 10,
   "id": "af65dcda",
   "metadata": {
    "execution": {
     "iopub.execute_input": "2022-07-24T13:20:29.357337Z",
     "iopub.status.busy": "2022-07-24T13:20:29.357040Z",
     "iopub.status.idle": "2022-07-24T13:20:29.390528Z",
     "shell.execute_reply": "2022-07-24T13:20:29.389805Z"
    },
    "id": "af65dcda",
    "papermill": {
     "duration": 0.049326,
     "end_time": "2022-07-24T13:20:29.393579",
     "exception": false,
     "start_time": "2022-07-24T13:20:29.344253",
     "status": "completed"
    },
    "tags": []
   },
   "outputs": [
    {
     "data": {
      "application/scrapbook.scrap.json+json": {
       "data": 0.0007097774275708355,
       "encoder": "json",
       "name": "Prior Model MSE",
       "version": 1
      }
     },
     "metadata": {
      "scrapbook": {
       "data": true,
       "display": false,
       "name": "Prior Model MSE"
      }
     },
     "output_type": "display_data"
    },
    {
     "data": {
      "application/scrapbook.scrap.json+json": {
       "data": 0.010883812847353196,
       "encoder": "json",
       "name": "ABC Pre-generator MSE",
       "version": 1
      }
     },
     "metadata": {
      "scrapbook": {
       "data": true,
       "display": false,
       "name": "ABC Pre-generator MSE"
      }
     },
     "output_type": "display_data"
    },
    {
     "data": {
      "application/scrapbook.scrap.json+json": {
       "data": 0.020291756993636185,
       "encoder": "json",
       "name": "Prior Model MAE",
       "version": 1
      }
     },
     "metadata": {
      "scrapbook": {
       "data": true,
       "display": false,
       "name": "Prior Model MAE"
      }
     },
     "output_type": "display_data"
    },
    {
     "name": "stdout",
     "output_type": "stream",
     "text": [
      "Prior Model MAE 0.020291756993636185\n",
      "ABC Pre-generator MAE 0.08425435418606486\n"
     ]
    }
   ],
   "source": [
    "y_pred = prior_model.predict(X_test)\n",
    "y_abc = y_pred + np.random.normal(0,variance, y_pred.shape) + bias \n",
    "mse = mean_squared_error(y_pred,Y_test)\n",
    "sb.glue(\"Prior Model MSE\",mse)\n",
    "mse = mean_squared_error(y_abc,Y_test)\n",
    "sb.glue(\"ABC Pre-generator MSE\",mse)\n",
    "mae = mean_absolute_error(y_pred,Y_test)\n",
    "sb.glue(\"Prior Model MAE\",mae)\n",
    "print(\"Prior Model MAE\",mae)\n",
    "mae = mean_absolute_error(y_abc,Y_test)\n",
    "print(\"ABC Pre-generator MAE\",mae)"
   ]
  },
  {
   "cell_type": "markdown",
   "id": "25609da2",
   "metadata": {
    "papermill": {
     "duration": 0.129821,
     "end_time": "2022-07-24T13:20:29.536965",
     "exception": false,
     "start_time": "2022-07-24T13:20:29.407144",
     "status": "completed"
    },
    "tags": []
   },
   "source": [
    "# mGAN Model"
   ]
  },
  {
   "cell_type": "code",
   "execution_count": 11,
   "id": "dfc3464d",
   "metadata": {
    "execution": {
     "iopub.execute_input": "2022-07-24T13:20:29.596225Z",
     "iopub.status.busy": "2022-07-24T13:20:29.595525Z",
     "iopub.status.idle": "2022-07-24T13:20:29.600626Z",
     "shell.execute_reply": "2022-07-24T13:20:29.599342Z"
    },
    "papermill": {
     "duration": 0.037241,
     "end_time": "2022-07-24T13:20:29.604888",
     "exception": false,
     "start_time": "2022-07-24T13:20:29.567647",
     "status": "completed"
    },
    "tags": []
   },
   "outputs": [],
   "source": [
    "# gen = network.Generator(n_features+1).to(device)\n",
    "# disc = network.Discriminator(n_features+1).to(device)\n",
    "\n",
    "# criterion = torch.nn.BCELoss()\n",
    "# gen_opt = torch.optim.Adam(gen.parameters(), lr=0.01, betas=(0.5, 0.999))\n",
    "# disc_opt = torch.optim.Adam(disc.parameters(), lr=0.01, betas=(0.5, 0.999))"
   ]
  },
  {
   "cell_type": "code",
   "execution_count": 12,
   "id": "b75fdd85",
   "metadata": {
    "execution": {
     "iopub.execute_input": "2022-07-24T13:20:29.631419Z",
     "iopub.status.busy": "2022-07-24T13:20:29.630609Z",
     "iopub.status.idle": "2022-07-24T13:20:29.634747Z",
     "shell.execute_reply": "2022-07-24T13:20:29.633884Z"
    },
    "papermill": {
     "duration": 0.020911,
     "end_time": "2022-07-24T13:20:29.638591",
     "exception": false,
     "start_time": "2022-07-24T13:20:29.617680",
     "status": "completed"
    },
    "tags": []
   },
   "outputs": [],
   "source": [
    "#Training the ABC_GAN \n",
    "# ABC_train_test2.training_GAN(disc,gen,disc_opt,gen_opt,train_data,batch_size,n_epochs,criterion,prior_model,variance,bias,device)"
   ]
  },
  {
   "cell_type": "code",
   "execution_count": 13,
   "id": "1fa7c368",
   "metadata": {
    "execution": {
     "iopub.execute_input": "2022-07-24T13:20:29.664774Z",
     "iopub.status.busy": "2022-07-24T13:20:29.662035Z",
     "iopub.status.idle": "2022-07-24T13:20:29.672246Z",
     "shell.execute_reply": "2022-07-24T13:20:29.670577Z"
    },
    "papermill": {
     "duration": 0.031018,
     "end_time": "2022-07-24T13:20:29.680116",
     "exception": false,
     "start_time": "2022-07-24T13:20:29.649098",
     "status": "completed"
    },
    "tags": []
   },
   "outputs": [],
   "source": [
    "# ABC_GAN1_metrics=ABC_train_test2.test_generator(gen,test_data,prior_model,variance,bias,\"1\",device)\n",
    "# sb.glue(\"ABC_GAN_1 Metrics\",ABC_GAN1_metrics)\n",
    "\n",
    "# print(\"MAE\")\n",
    "# print(mean(ABC_GAN1_metrics[1]))"
   ]
  },
  {
   "cell_type": "code",
   "execution_count": 14,
   "id": "eb22ce5c",
   "metadata": {
    "execution": {
     "iopub.execute_input": "2022-07-24T13:20:29.723363Z",
     "iopub.status.busy": "2022-07-24T13:20:29.722670Z",
     "iopub.status.idle": "2022-07-24T13:20:29.728342Z",
     "shell.execute_reply": "2022-07-24T13:20:29.726868Z"
    },
    "papermill": {
     "duration": 0.022129,
     "end_time": "2022-07-24T13:20:29.731124",
     "exception": false,
     "start_time": "2022-07-24T13:20:29.708995",
     "status": "completed"
    },
    "tags": []
   },
   "outputs": [],
   "source": [
    "# sanityChecks.discProbVsError(train_data,disc,device)\n",
    "# sanityChecks.discProbVsError(test_data,disc,device)"
   ]
  },
  {
   "cell_type": "markdown",
   "id": "484f6cb6",
   "metadata": {
    "papermill": {
     "duration": 0.013161,
     "end_time": "2022-07-24T13:20:29.763577",
     "exception": false,
     "start_time": "2022-07-24T13:20:29.750416",
     "status": "completed"
    },
    "tags": []
   },
   "source": [
    "# mGAN Model with TabNet Generator"
   ]
  },
  {
   "cell_type": "code",
   "execution_count": 15,
   "id": "e8c4b9d4",
   "metadata": {
    "execution": {
     "iopub.execute_input": "2022-07-24T13:20:29.800048Z",
     "iopub.status.busy": "2022-07-24T13:20:29.799488Z",
     "iopub.status.idle": "2022-07-24T13:20:29.827329Z",
     "shell.execute_reply": "2022-07-24T13:20:29.826657Z"
    },
    "papermill": {
     "duration": 0.054329,
     "end_time": "2022-07-24T13:20:29.830573",
     "exception": false,
     "start_time": "2022-07-24T13:20:29.776244",
     "status": "completed"
    },
    "tags": []
   },
   "outputs": [],
   "source": [
    "gen2 = network.GeneratorTabnet(n_features+1).to(device)\n",
    "disc2 = network.Discriminator(n_features+1).to(device)\n",
    "\n",
    "criterion = torch.nn.BCELoss()\n",
    "gen_opt = torch.optim.Adam(gen2.parameters(), lr=0.01, betas=(0.5, 0.999))\n",
    "disc_opt = torch.optim.Adam(disc2.parameters(), lr=0.01, betas=(0.5, 0.999))"
   ]
  },
  {
   "cell_type": "code",
   "execution_count": 16,
   "id": "046ec80d",
   "metadata": {
    "execution": {
     "iopub.execute_input": "2022-07-24T13:20:29.857292Z",
     "iopub.status.busy": "2022-07-24T13:20:29.856814Z"
    },
    "papermill": {
     "duration": 587.093796,
     "end_time": "2022-07-24T13:30:16.936839",
     "exception": false,
     "start_time": "2022-07-24T13:20:29.843043",
     "status": "completed"
    },
    "tags": []
   },
   "outputs": [],
   "source": [
    "#Training the ABC_GAN \n",
    "ABC_train_test2.training_GAN(disc2,gen2,disc_opt,gen_opt,train_data,batch_size,n_epochs,criterion,prior_model,variance,bias,device)"
   ]
  },
  {
   "cell_type": "code",
   "execution_count": null,
   "id": "91ddbe7b",
   "metadata": {
    "papermill": {
     "duration": null,
     "end_time": null,
     "exception": null,
     "start_time": null,
     "status": "completed"
    },
    "tags": []
   },
   "outputs": [],
   "source": [
    "ABC_GAN2_metrics=ABC_train_test2.test_generator(gen2,test_data,prior_model,variance,bias,\"1\",device)\n",
    "sb.glue(\"ABC_GAN_2 Metrics\",ABC_GAN2_metrics)\n",
    "\n",
    "print(\"MAE\")\n",
    "print(mean(ABC_GAN2_metrics[1]))"
   ]
  },
  {
   "cell_type": "code",
   "execution_count": null,
   "id": "339b256d",
   "metadata": {
    "papermill": {
     "duration": null,
     "end_time": null,
     "exception": null,
     "start_time": null,
     "status": "completed"
    },
    "tags": []
   },
   "outputs": [],
   "source": [
    "sanityChecks.discProbVsError(train_data,disc2,device)\n",
    "sanityChecks.discProbVsError(test_data,disc2,device)"
   ]
  },
  {
   "cell_type": "markdown",
   "id": "130f3a4d",
   "metadata": {
    "id": "130f3a4d",
    "papermill": {
     "duration": null,
     "end_time": null,
     "exception": null,
     "start_time": null,
     "status": "completed"
    },
    "tags": []
   },
   "source": [
    "# skipGAN Model"
   ]
  },
  {
   "cell_type": "code",
   "execution_count": null,
   "id": "4e43dad1",
   "metadata": {
    "id": "4e43dad1",
    "papermill": {
     "duration": null,
     "end_time": null,
     "exception": null,
     "start_time": null,
     "status": "completed"
    },
    "tags": []
   },
   "outputs": [],
   "source": [
    "# #Generator\n",
    "# gen3 = network.GeneratorWithSkipConnection(n_features+1).to(device)\n",
    "# constraints=network.weightConstraint()\n",
    "# #Discriminator \n",
    "# disc3 = network.Discriminator(n_features+1).to(device)\n",
    "\n",
    "# criterion = torch.nn.BCELoss()\n",
    "# gen_opt = torch.optim.Adam(gen3.parameters(), lr=0.01, betas=(0.5, 0.999))\n",
    "# disc_opt = torch.optim.Adam(disc3.parameters(), lr=0.01, betas=(0.5, 0.999))\n"
   ]
  },
  {
   "cell_type": "code",
   "execution_count": null,
   "id": "26acbc37",
   "metadata": {
    "id": "26acbc37",
    "papermill": {
     "duration": null,
     "end_time": null,
     "exception": null,
     "start_time": null,
     "status": "completed"
    },
    "tags": []
   },
   "outputs": [],
   "source": [
    "ABC_train_test2.training_GAN_skip_connection(disc3,gen3,disc_opt,gen_opt,train_data,batch_size,n_epochs,criterion,prior_model,variance,bias,device)"
   ]
  },
  {
   "cell_type": "code",
   "execution_count": null,
   "id": "c5e0717b",
   "metadata": {
    "id": "c5e0717b",
    "papermill": {
     "duration": null,
     "end_time": null,
     "exception": null,
     "start_time": null,
     "status": "completed"
    },
    "tags": []
   },
   "outputs": [],
   "source": [
    "# ABC_GAN3_metrics=ABC_train_test2.test_generator(gen3,test_data,prior_model,variance,bias,\"3\",device)\n",
    "# sb.glue(\"ABC_GAN_3 Metrics\",ABC_GAN3_metrics)\n",
    "\n",
    "# print(\"MAE\")\n",
    "# print(mean(ABC_GAN3_metrics[1]))"
   ]
  },
  {
   "cell_type": "code",
   "execution_count": null,
   "id": "c8e46b48",
   "metadata": {
    "id": "c8e46b48",
    "papermill": {
     "duration": null,
     "end_time": null,
     "exception": null,
     "start_time": null,
     "status": "completed"
    },
    "tags": []
   },
   "outputs": [],
   "source": [
    "# sanityChecks.discProbVsError(train_data,disc3,device)\n",
    "# sanityChecks.discProbVsError(test_data,disc3,device)"
   ]
  },
  {
   "cell_type": "markdown",
   "id": "b1f86137",
   "metadata": {
    "id": "130f3a4d",
    "papermill": {
     "duration": null,
     "end_time": null,
     "exception": null,
     "start_time": null,
     "status": "completed"
    },
    "tags": []
   },
   "source": [
    "# skipGAN Model with TabNet Generator"
   ]
  },
  {
   "cell_type": "code",
   "execution_count": null,
   "id": "e0ba4867",
   "metadata": {
    "id": "4e43dad1",
    "papermill": {
     "duration": null,
     "end_time": null,
     "exception": null,
     "start_time": null,
     "status": "completed"
    },
    "tags": []
   },
   "outputs": [],
   "source": [
    "# #Generator\n",
    "# gen4 = network.GeneratorTabnetskipConnection(n_features+1).to(device)\n",
    "# constraints=network.weightConstraint()\n",
    "# #Discriminator \n",
    "# disc4 = network.Discriminator(n_features+1).to(device)\n",
    "\n",
    "# criterion = torch.nn.BCELoss()\n",
    "# gen_opt = torch.optim.Adam(gen4.parameters(), lr=0.01, betas=(0.5, 0.999))\n",
    "# disc_opt = torch.optim.Adam(disc4.parameters(), lr=0.01, betas=(0.5, 0.999))\n"
   ]
  },
  {
   "cell_type": "code",
   "execution_count": null,
   "id": "559f71e6",
   "metadata": {
    "id": "26acbc37",
    "papermill": {
     "duration": null,
     "end_time": null,
     "exception": null,
     "start_time": null,
     "status": "completed"
    },
    "tags": []
   },
   "outputs": [],
   "source": [
    "# ABC_train_test2.training_GAN_skip_connection(disc4,gen4,disc_opt,gen_opt,train_data,batch_size,n_epochs,criterion,prior_model,variance,bias,device)"
   ]
  },
  {
   "cell_type": "code",
   "execution_count": null,
   "id": "8f3e6011",
   "metadata": {
    "id": "c5e0717b",
    "papermill": {
     "duration": null,
     "end_time": null,
     "exception": null,
     "start_time": null,
     "status": "completed"
    },
    "tags": []
   },
   "outputs": [],
   "source": [
    "# ABC_GAN4_metrics=ABC_train_test2.test_generator(gen4,test_data,prior_model,variance,bias,\"3\",device)\n",
    "# sb.glue(\"ABC_GAN_4 Metrics\",ABC_GAN4_metrics)\n",
    "\n",
    "# print(\"MAE\")\n",
    "# print(mean(ABC_GAN4_metrics[1]))"
   ]
  },
  {
   "cell_type": "code",
   "execution_count": null,
   "id": "2a7a68b1",
   "metadata": {
    "id": "c8e46b48",
    "papermill": {
     "duration": null,
     "end_time": null,
     "exception": null,
     "start_time": null,
     "status": "completed"
    },
    "tags": []
   },
   "outputs": [],
   "source": [
    "# sanityChecks.discProbVsError(train_data,disc4,device)\n",
    "# sanityChecks.discProbVsError(test_data,disc4,device)"
   ]
  },
  {
   "cell_type": "markdown",
   "id": "a5bd74c3",
   "metadata": {
    "id": "a5bd74c3",
    "papermill": {
     "duration": null,
     "end_time": null,
     "exception": null,
     "start_time": null,
     "status": "completed"
    },
    "tags": []
   },
   "source": [
    "## Skip Connection Model Analysis - ABC-GAN "
   ]
  },
  {
   "cell_type": "markdown",
   "id": "5744a8bf",
   "metadata": {
    "id": "5744a8bf",
    "papermill": {
     "duration": null,
     "end_time": null,
     "exception": null,
     "start_time": null,
     "status": "completed"
    },
    "tags": []
   },
   "source": [
    "### Weight Analysis \n",
    "\n",
    "Study the weights of the skip connection layer\n",
    "\n",
    "Equation of the skip connection is \n",
    "\n",
    "$output = y_{gan} * w + y_{abc} * (1-w)$"
   ]
  },
  {
   "cell_type": "code",
   "execution_count": null,
   "id": "52c31dea",
   "metadata": {
    "id": "52c31dea",
    "papermill": {
     "duration": null,
     "end_time": null,
     "exception": null,
     "start_time": null,
     "status": "completed"
    },
    "tags": []
   },
   "outputs": [],
   "source": [
    "# print(\"Weight of the node at skip connection\")\n",
    "# for name,param in gen3.named_parameters():\n",
    "#     if(name == \"skipNode.weight\"):\n",
    "#         print(param)\n",
    "#         sb.glue(\"Skip Connection Weight\",param.item())"
   ]
  },
  {
   "cell_type": "markdown",
   "id": "3ac9022c",
   "metadata": {
    "id": "a5bd74c3",
    "papermill": {
     "duration": null,
     "end_time": null,
     "exception": null,
     "start_time": null,
     "status": "completed"
    },
    "tags": []
   },
   "source": [
    "## skipGAN Model Analysis (TabNet Generator) "
   ]
  },
  {
   "cell_type": "markdown",
   "id": "3fc20af7",
   "metadata": {
    "id": "5744a8bf",
    "papermill": {
     "duration": null,
     "end_time": null,
     "exception": null,
     "start_time": null,
     "status": "completed"
    },
    "tags": []
   },
   "source": [
    "### Weight Analysis \n",
    "\n",
    "Study the weights of the skip connection layer\n",
    "\n",
    "Equation of the skip connection is \n",
    "\n",
    "$output = y_{gan} * w + y_{abc} * (1-w)$"
   ]
  },
  {
   "cell_type": "code",
   "execution_count": null,
   "id": "28c26809",
   "metadata": {
    "id": "52c31dea",
    "papermill": {
     "duration": null,
     "end_time": null,
     "exception": null,
     "start_time": null,
     "status": "completed"
    },
    "tags": []
   },
   "outputs": [],
   "source": [
    "# print(\"Weight of the node at skip connection\")\n",
    "# for name,param in gen4.named_parameters():\n",
    "#     if(name == \"skipNode.weight\"):\n",
    "#         print(param)\n",
    "#         sb.glue(\"Skip Connection Weight\",param.item())"
   ]
  }
 ],
 "metadata": {
  "colab": {
   "collapsed_sections": [],
   "name": "ABC_GAN_Model-Catboost_Pre-gen.ipynb",
   "provenance": []
  },
  "interpreter": {
   "hash": "31f2aee4e71d21fbe5cf8b01ff0e069b9275f58929596ceb00d14d90e3e16cd6"
  },
  "kernelspec": {
   "display_name": "Python 3 (ipykernel)",
   "language": "python",
   "name": "python3"
  },
  "language_info": {
   "codemirror_mode": {
    "name": "ipython",
    "version": 3
   },
   "file_extension": ".py",
   "mimetype": "text/x-python",
   "name": "python",
   "nbconvert_exporter": "python",
   "pygments_lexer": "ipython3",
   "version": "3.8.9"
  },
  "papermill": {
   "default_parameters": {},
   "duration": 611.11841,
   "end_time": "2022-07-24T13:30:17.631525",
   "environment_variables": {},
   "exception": null,
   "input_path": "ABC_GAN-Catboost.ipynb",
   "output_path": "./ABC_GAN_Catboost/ABC-GAN_output_3_10.ipynb",
   "parameters": {
    "bias": 0,
    "variance": 0.1
   },
   "start_time": "2022-07-24T13:20:06.513115",
   "version": "2.3.3"
  }
 },
 "nbformat": 4,
 "nbformat_minor": 5
}