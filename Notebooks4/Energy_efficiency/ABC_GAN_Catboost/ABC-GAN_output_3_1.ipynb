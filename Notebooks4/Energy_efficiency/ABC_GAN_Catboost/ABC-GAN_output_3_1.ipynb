{
 "cells": [
  {
   "cell_type": "markdown",
   "id": "d810fbef",
   "metadata": {
    "tags": [
     "papermill-error-cell-tag"
    ]
   },
   "source": [
    "<span style=\"color:red; font-family:Helvetica Neue, Helvetica, Arial, sans-serif; font-size:2em;\">An Exception was encountered at '<a href=\"#papermill-error-cell\">In [20]</a>'.</span>"
   ]
  },
  {
   "cell_type": "markdown",
   "id": "622780e6",
   "metadata": {
    "id": "622780e6",
    "papermill": {
     "duration": 0.016477,
     "end_time": "2022-07-24T12:48:44.104001",
     "exception": false,
     "start_time": "2022-07-24T12:48:44.087524",
     "status": "completed"
    },
    "tags": []
   },
   "source": [
    "## Import Libraries "
   ]
  },
  {
   "cell_type": "code",
   "execution_count": 1,
   "id": "a62397e3",
   "metadata": {
    "execution": {
     "iopub.execute_input": "2022-07-24T12:48:44.132641Z",
     "iopub.status.busy": "2022-07-24T12:48:44.131598Z",
     "iopub.status.idle": "2022-07-24T12:48:44.160965Z",
     "shell.execute_reply": "2022-07-24T12:48:44.156126Z"
    },
    "id": "a62397e3",
    "papermill": {
     "duration": 0.06254,
     "end_time": "2022-07-24T12:48:44.179334",
     "exception": false,
     "start_time": "2022-07-24T12:48:44.116794",
     "status": "completed"
    },
    "tags": []
   },
   "outputs": [],
   "source": [
    "import warnings\n",
    "import sys\n",
    "sys.path.insert(0, '../../src')\n",
    "warnings.filterwarnings('ignore')"
   ]
  },
  {
   "cell_type": "code",
   "execution_count": 2,
   "id": "d6a4e155",
   "metadata": {
    "execution": {
     "iopub.execute_input": "2022-07-24T12:48:44.229769Z",
     "iopub.status.busy": "2022-07-24T12:48:44.228846Z",
     "iopub.status.idle": "2022-07-24T12:48:57.088707Z",
     "shell.execute_reply": "2022-07-24T12:48:57.087841Z"
    },
    "id": "d6a4e155",
    "papermill": {
     "duration": 12.896808,
     "end_time": "2022-07-24T12:48:57.091621",
     "exception": false,
     "start_time": "2022-07-24T12:48:44.194813",
     "status": "completed"
    },
    "tags": []
   },
   "outputs": [],
   "source": [
    "import ABC_train_test2\n",
    "import energyefficiencyDataset\n",
    "import network\n",
    "import dataset\n",
    "import sanityChecks\n",
    "import torch \n",
    "import scrapbook as sb\n",
    "from statistics import mean \n",
    "import catboost as ctb \n",
    "from sklearn.model_selection import train_test_split\n",
    "from sklearn.metrics import mean_squared_error,mean_absolute_error\n",
    "import numpy as np"
   ]
  },
  {
   "cell_type": "markdown",
   "id": "2fa5b0f7",
   "metadata": {
    "id": "2fa5b0f7",
    "papermill": {
     "duration": 0.008375,
     "end_time": "2022-07-24T12:48:57.107824",
     "exception": false,
     "start_time": "2022-07-24T12:48:57.099449",
     "status": "completed"
    },
    "tags": []
   },
   "source": [
    "## Parameters "
   ]
  },
  {
   "cell_type": "code",
   "execution_count": 3,
   "id": "783186fb",
   "metadata": {
    "execution": {
     "iopub.execute_input": "2022-07-24T12:48:57.126640Z",
     "iopub.status.busy": "2022-07-24T12:48:57.126050Z",
     "iopub.status.idle": "2022-07-24T12:48:57.131072Z",
     "shell.execute_reply": "2022-07-24T12:48:57.130010Z"
    },
    "id": "783186fb",
    "papermill": {
     "duration": 0.018757,
     "end_time": "2022-07-24T12:48:57.134499",
     "exception": false,
     "start_time": "2022-07-24T12:48:57.115742",
     "status": "completed"
    },
    "tags": [
     "parameters"
    ]
   },
   "outputs": [],
   "source": [
    "variance = 1\n",
    "bias = 1 "
   ]
  },
  {
   "cell_type": "code",
   "execution_count": 4,
   "id": "3f78a6ed",
   "metadata": {
    "execution": {
     "iopub.execute_input": "2022-07-24T12:48:57.151779Z",
     "iopub.status.busy": "2022-07-24T12:48:57.151423Z",
     "iopub.status.idle": "2022-07-24T12:48:57.156515Z",
     "shell.execute_reply": "2022-07-24T12:48:57.155392Z"
    },
    "papermill": {
     "duration": 0.01735,
     "end_time": "2022-07-24T12:48:57.159555",
     "exception": false,
     "start_time": "2022-07-24T12:48:57.142205",
     "status": "completed"
    },
    "tags": [
     "injected-parameters"
    ]
   },
   "outputs": [],
   "source": [
    "# Parameters\n",
    "variance = 0.1\n",
    "bias = 1\n"
   ]
  },
  {
   "cell_type": "markdown",
   "id": "391cdbfd",
   "metadata": {
    "id": "391cdbfd",
    "papermill": {
     "duration": 0.00975,
     "end_time": "2022-07-24T12:48:57.177010",
     "exception": false,
     "start_time": "2022-07-24T12:48:57.167260",
     "status": "completed"
    },
    "tags": []
   },
   "source": [
    "## Dataset \n"
   ]
  },
  {
   "cell_type": "code",
   "execution_count": 5,
   "id": "5b51f161",
   "metadata": {
    "execution": {
     "iopub.execute_input": "2022-07-24T12:48:57.195546Z",
     "iopub.status.busy": "2022-07-24T12:48:57.195172Z",
     "iopub.status.idle": "2022-07-24T12:48:57.200421Z",
     "shell.execute_reply": "2022-07-24T12:48:57.198863Z"
    },
    "id": "5b51f161",
    "papermill": {
     "duration": 0.017698,
     "end_time": "2022-07-24T12:48:57.203311",
     "exception": false,
     "start_time": "2022-07-24T12:48:57.185613",
     "status": "completed"
    },
    "tags": []
   },
   "outputs": [],
   "source": [
    "#Parameters \n",
    "n_features = 8\n",
    "n_samples= 768\n",
    "n_target = 1 "
   ]
  },
  {
   "cell_type": "code",
   "execution_count": 6,
   "id": "5d6eced4",
   "metadata": {
    "execution": {
     "iopub.execute_input": "2022-07-24T12:48:57.223787Z",
     "iopub.status.busy": "2022-07-24T12:48:57.223217Z",
     "iopub.status.idle": "2022-07-24T12:48:57.935207Z",
     "shell.execute_reply": "2022-07-24T12:48:57.933989Z"
    },
    "id": "5d6eced4",
    "papermill": {
     "duration": 0.72705,
     "end_time": "2022-07-24T12:48:57.938344",
     "exception": false,
     "start_time": "2022-07-24T12:48:57.211294",
     "status": "completed"
    },
    "tags": []
   },
   "outputs": [
    {
     "name": "stdout",
     "output_type": "stream",
     "text": [
      "     X1     X2     X3      X4   X5  X6   X7  X8     Y1     Y2\n",
      "0  0.98  514.5  294.0  110.25  7.0   2  0.0   0  15.55  21.33\n",
      "1  0.98  514.5  294.0  110.25  7.0   3  0.0   0  15.55  21.33\n",
      "2  0.98  514.5  294.0  110.25  7.0   4  0.0   0  15.55  21.33\n",
      "3  0.98  514.5  294.0  110.25  7.0   5  0.0   0  15.55  21.33\n",
      "4  0.90  563.5  318.5  122.50  7.0   2  0.0   0  20.84  28.28\n"
     ]
    }
   ],
   "source": [
    "X,Y = energyefficiencyDataset.energy_data()"
   ]
  },
  {
   "cell_type": "code",
   "execution_count": 7,
   "id": "fe007438",
   "metadata": {
    "execution": {
     "iopub.execute_input": "2022-07-24T12:48:57.959232Z",
     "iopub.status.busy": "2022-07-24T12:48:57.958616Z",
     "iopub.status.idle": "2022-07-24T12:48:57.967486Z",
     "shell.execute_reply": "2022-07-24T12:48:57.965480Z"
    },
    "id": "fe007438",
    "papermill": {
     "duration": 0.023549,
     "end_time": "2022-07-24T12:48:57.970747",
     "exception": false,
     "start_time": "2022-07-24T12:48:57.947198",
     "status": "completed"
    },
    "tags": []
   },
   "outputs": [],
   "source": [
    "#Train test split for dataset \n",
    "X_train,X_test,Y_train,Y_test = train_test_split(X,Y,test_size = 0.2)\n",
    "train_data = dataset.CustomDataset(X_train,Y_train)\n",
    "test_data = dataset.CustomDataset(X_test,Y_test)\n"
   ]
  },
  {
   "cell_type": "markdown",
   "id": "a9a1af34",
   "metadata": {
    "id": "a9a1af34",
    "papermill": {
     "duration": 0.008718,
     "end_time": "2022-07-24T12:48:57.988780",
     "exception": false,
     "start_time": "2022-07-24T12:48:57.980062",
     "status": "completed"
    },
    "tags": []
   },
   "source": [
    "## Training Parameters "
   ]
  },
  {
   "cell_type": "code",
   "execution_count": 8,
   "id": "952b7fc8",
   "metadata": {
    "execution": {
     "iopub.execute_input": "2022-07-24T12:48:58.011671Z",
     "iopub.status.busy": "2022-07-24T12:48:58.010378Z",
     "iopub.status.idle": "2022-07-24T12:48:58.018804Z",
     "shell.execute_reply": "2022-07-24T12:48:58.017013Z"
    },
    "id": "952b7fc8",
    "papermill": {
     "duration": 0.025075,
     "end_time": "2022-07-24T12:48:58.022326",
     "exception": false,
     "start_time": "2022-07-24T12:48:57.997251",
     "status": "completed"
    },
    "tags": []
   },
   "outputs": [],
   "source": [
    "batch_size = 32\n",
    "n_epochs = 1000\n",
    "#Select the device \n",
    "device = torch.device('cuda' if torch.cuda.is_available() else 'cpu')"
   ]
  },
  {
   "cell_type": "markdown",
   "id": "a95e1600",
   "metadata": {
    "id": "a95e1600",
    "papermill": {
     "duration": 0.008142,
     "end_time": "2022-07-24T12:48:58.040600",
     "exception": false,
     "start_time": "2022-07-24T12:48:58.032458",
     "status": "completed"
    },
    "tags": []
   },
   "source": [
    "# ABC Pre-generator Model \n",
    "\n",
    "1. The catboost model is used as a pre-generator model for the ABC-GAN. \n",
    "2. The model is first trained on the entire dataset \n",
    "3. It generats X,Y pairs and we add some Gaussian noise with mean 0 and variance 1 to it which is then feed as input to the generator.\n"
   ]
  },
  {
   "cell_type": "code",
   "execution_count": 9,
   "id": "ff8ce7bd",
   "metadata": {
    "execution": {
     "iopub.execute_input": "2022-07-24T12:48:58.059633Z",
     "iopub.status.busy": "2022-07-24T12:48:58.058635Z",
     "iopub.status.idle": "2022-07-24T12:49:00.127475Z",
     "shell.execute_reply": "2022-07-24T12:49:00.124275Z"
    },
    "id": "ff8ce7bd",
    "papermill": {
     "duration": 2.087299,
     "end_time": "2022-07-24T12:49:00.135884",
     "exception": false,
     "start_time": "2022-07-24T12:48:58.048585",
     "status": "completed"
    },
    "tags": []
   },
   "outputs": [
    {
     "name": "stdout",
     "output_type": "stream",
     "text": [
      "Learning rate set to 0.037906\n"
     ]
    },
    {
     "name": "stdout",
     "output_type": "stream",
     "text": [
      "0:\tlearn: 0.9758116\ttotal: 50.7ms\tremaining: 50.6s\n",
      "1:\tlearn: 0.9433253\ttotal: 51ms\tremaining: 25.5s\n",
      "2:\tlearn: 0.9158279\ttotal: 51.5ms\tremaining: 17.1s\n",
      "3:\tlearn: 0.8847828\ttotal: 52ms\tremaining: 12.9s\n",
      "4:\tlearn: 0.8549543\ttotal: 52.4ms\tremaining: 10.4s\n",
      "5:\tlearn: 0.8308966\ttotal: 52.7ms\tremaining: 8.73s\n",
      "6:\tlearn: 0.8059574\ttotal: 53.1ms\tremaining: 7.53s\n",
      "7:\tlearn: 0.7798948\ttotal: 53.5ms\tremaining: 6.63s\n",
      "8:\tlearn: 0.7540553\ttotal: 53.9ms\tremaining: 5.93s\n",
      "9:\tlearn: 0.7303598\ttotal: 54.4ms\tremaining: 5.38s\n",
      "10:\tlearn: 0.7087763\ttotal: 54.9ms\tremaining: 4.93s\n",
      "11:\tlearn: 0.6883775\ttotal: 55.2ms\tremaining: 4.55s\n",
      "12:\tlearn: 0.6682524\ttotal: 55.7ms\tremaining: 4.23s\n",
      "13:\tlearn: 0.6479250\ttotal: 56.2ms\tremaining: 3.96s\n",
      "14:\tlearn: 0.6276696\ttotal: 56.9ms\tremaining: 3.74s\n",
      "15:\tlearn: 0.6076357\ttotal: 57.2ms\tremaining: 3.52s\n",
      "16:\tlearn: 0.5886680\ttotal: 57.7ms\tremaining: 3.34s\n",
      "17:\tlearn: 0.5711831\ttotal: 58.1ms\tremaining: 3.17s\n",
      "18:\tlearn: 0.5571710\ttotal: 58.4ms\tremaining: 3.01s\n",
      "19:\tlearn: 0.5393218\ttotal: 58.8ms\tremaining: 2.88s\n",
      "20:\tlearn: 0.5221771\ttotal: 59.3ms\tremaining: 2.77s\n",
      "21:\tlearn: 0.5080958\ttotal: 59.7ms\tremaining: 2.65s\n",
      "22:\tlearn: 0.4924260\ttotal: 60.3ms\tremaining: 2.56s\n",
      "23:\tlearn: 0.4762251\ttotal: 60.8ms\tremaining: 2.47s\n",
      "24:\tlearn: 0.4613827\ttotal: 61.2ms\tremaining: 2.39s\n",
      "25:\tlearn: 0.4474699\ttotal: 61.7ms\tremaining: 2.31s\n",
      "26:\tlearn: 0.4345580\ttotal: 62.4ms\tremaining: 2.25s\n",
      "27:\tlearn: 0.4210348\ttotal: 62.9ms\tremaining: 2.19s\n",
      "28:\tlearn: 0.4088326\ttotal: 63.2ms\tremaining: 2.12s\n",
      "29:\tlearn: 0.3969283\ttotal: 63.8ms\tremaining: 2.06s\n",
      "30:\tlearn: 0.3857047\ttotal: 64.8ms\tremaining: 2.02s\n",
      "31:\tlearn: 0.3744485\ttotal: 65ms\tremaining: 1.97s\n",
      "32:\tlearn: 0.3634906\ttotal: 65.8ms\tremaining: 1.93s\n",
      "33:\tlearn: 0.3533241\ttotal: 66.2ms\tremaining: 1.88s\n",
      "34:\tlearn: 0.3431603\ttotal: 67.6ms\tremaining: 1.86s\n",
      "35:\tlearn: 0.3337996\ttotal: 68.1ms\tremaining: 1.82s\n",
      "36:\tlearn: 0.3234442\ttotal: 68.5ms\tremaining: 1.78s\n",
      "37:\tlearn: 0.3138973\ttotal: 69.2ms\tremaining: 1.75s\n",
      "38:\tlearn: 0.3060543\ttotal: 69.7ms\tremaining: 1.72s\n",
      "39:\tlearn: 0.2967268\ttotal: 70.2ms\tremaining: 1.68s\n",
      "40:\tlearn: 0.2887267\ttotal: 70.8ms\tremaining: 1.66s\n",
      "41:\tlearn: 0.2801393\ttotal: 71.3ms\tremaining: 1.63s\n",
      "42:\tlearn: 0.2729220\ttotal: 71.8ms\tremaining: 1.6s\n",
      "43:\tlearn: 0.2654704\ttotal: 72.5ms\tremaining: 1.57s\n",
      "44:\tlearn: 0.2588806\ttotal: 73.5ms\tremaining: 1.56s\n",
      "45:\tlearn: 0.2512128\ttotal: 73.8ms\tremaining: 1.53s\n",
      "46:\tlearn: 0.2446224\ttotal: 74.3ms\tremaining: 1.51s\n",
      "47:\tlearn: 0.2382699\ttotal: 74.8ms\tremaining: 1.48s\n",
      "48:\tlearn: 0.2318024\ttotal: 75.4ms\tremaining: 1.46s\n",
      "49:\tlearn: 0.2252350\ttotal: 75.8ms\tremaining: 1.44s\n",
      "50:\tlearn: 0.2194844\ttotal: 76.4ms\tremaining: 1.42s\n",
      "51:\tlearn: 0.2143589\ttotal: 76.9ms\tremaining: 1.4s\n",
      "52:\tlearn: 0.2089821\ttotal: 77.5ms\tremaining: 1.38s\n",
      "53:\tlearn: 0.2033451\ttotal: 78ms\tremaining: 1.37s\n",
      "54:\tlearn: 0.1982749\ttotal: 78.8ms\tremaining: 1.35s\n",
      "55:\tlearn: 0.1943960\ttotal: 79.5ms\tremaining: 1.34s\n",
      "56:\tlearn: 0.1898233\ttotal: 80ms\tremaining: 1.32s\n",
      "57:\tlearn: 0.1847512\ttotal: 80.4ms\tremaining: 1.31s\n",
      "58:\tlearn: 0.1796935\ttotal: 80.9ms\tremaining: 1.29s\n",
      "59:\tlearn: 0.1760594\ttotal: 81.6ms\tremaining: 1.28s\n",
      "60:\tlearn: 0.1713655\ttotal: 82.2ms\tremaining: 1.27s\n",
      "61:\tlearn: 0.1678525\ttotal: 82.5ms\tremaining: 1.25s\n",
      "62:\tlearn: 0.1637615\ttotal: 83ms\tremaining: 1.24s\n",
      "63:\tlearn: 0.1598931\ttotal: 83.6ms\tremaining: 1.22s\n",
      "64:\tlearn: 0.1559557\ttotal: 84.7ms\tremaining: 1.22s\n",
      "65:\tlearn: 0.1525351\ttotal: 85.2ms\tremaining: 1.21s\n",
      "66:\tlearn: 0.1488181\ttotal: 85.6ms\tremaining: 1.19s\n",
      "67:\tlearn: 0.1449876\ttotal: 86.3ms\tremaining: 1.18s\n",
      "68:\tlearn: 0.1413201\ttotal: 86.7ms\tremaining: 1.17s\n",
      "69:\tlearn: 0.1382361\ttotal: 87.3ms\tremaining: 1.16s\n",
      "70:\tlearn: 0.1349038\ttotal: 87.9ms\tremaining: 1.15s\n",
      "71:\tlearn: 0.1317411\ttotal: 88.4ms\tremaining: 1.14s\n",
      "72:\tlearn: 0.1285916\ttotal: 89ms\tremaining: 1.13s\n",
      "73:\tlearn: 0.1254545\ttotal: 89.4ms\tremaining: 1.12s\n",
      "74:\tlearn: 0.1231564\ttotal: 89.9ms\tremaining: 1.11s\n",
      "75:\tlearn: 0.1203252\ttotal: 90.7ms\tremaining: 1.1s\n",
      "76:\tlearn: 0.1172500\ttotal: 91.2ms\tremaining: 1.09s\n",
      "77:\tlearn: 0.1147004\ttotal: 91.8ms\tremaining: 1.08s\n",
      "78:\tlearn: 0.1119179\ttotal: 92.3ms\tremaining: 1.08s\n",
      "79:\tlearn: 0.1093542\ttotal: 93.1ms\tremaining: 1.07s\n",
      "80:\tlearn: 0.1072358\ttotal: 93.5ms\tremaining: 1.06s\n",
      "81:\tlearn: 0.1058045\ttotal: 93.9ms\tremaining: 1.05s\n",
      "82:\tlearn: 0.1038031\ttotal: 94.3ms\tremaining: 1.04s\n",
      "83:\tlearn: 0.1020034\ttotal: 94.8ms\tremaining: 1.03s\n",
      "84:\tlearn: 0.0999069\ttotal: 95.4ms\tremaining: 1.03s\n",
      "85:\tlearn: 0.0978439\ttotal: 95.9ms\tremaining: 1.02s\n",
      "86:\tlearn: 0.0963175\ttotal: 96.8ms\tremaining: 1.02s\n",
      "87:\tlearn: 0.0944485\ttotal: 97.4ms\tremaining: 1.01s\n",
      "88:\tlearn: 0.0926973\ttotal: 98ms\tremaining: 1s\n",
      "89:\tlearn: 0.0911455\ttotal: 98.4ms\tremaining: 995ms\n",
      "90:\tlearn: 0.0899488\ttotal: 98.9ms\tremaining: 988ms\n",
      "91:\tlearn: 0.0889385\ttotal: 99.1ms\tremaining: 978ms\n",
      "92:\tlearn: 0.0878248\ttotal: 99.3ms\tremaining: 968ms\n",
      "93:\tlearn: 0.0864073\ttotal: 99.5ms\tremaining: 959ms\n",
      "94:\tlearn: 0.0847704\ttotal: 100ms\tremaining: 954ms\n",
      "95:\tlearn: 0.0838412\ttotal: 101ms\tremaining: 947ms\n",
      "96:\tlearn: 0.0830226\ttotal: 101ms\tremaining: 938ms\n",
      "97:\tlearn: 0.0813780\ttotal: 101ms\tremaining: 933ms\n",
      "98:\tlearn: 0.0799986\ttotal: 102ms\tremaining: 928ms\n",
      "99:\tlearn: 0.0787387\ttotal: 103ms\tremaining: 924ms\n",
      "100:\tlearn: 0.0772658\ttotal: 103ms\tremaining: 919ms\n",
      "101:\tlearn: 0.0761486\ttotal: 103ms\tremaining: 911ms\n",
      "102:\tlearn: 0.0749272\ttotal: 104ms\tremaining: 905ms\n",
      "103:\tlearn: 0.0741291\ttotal: 104ms\tremaining: 899ms\n",
      "104:\tlearn: 0.0731484\ttotal: 105ms\tremaining: 892ms\n",
      "105:\tlearn: 0.0726135\ttotal: 105ms\tremaining: 887ms\n",
      "106:\tlearn: 0.0717275\ttotal: 106ms\tremaining: 885ms\n",
      "107:\tlearn: 0.0708395\ttotal: 107ms\tremaining: 882ms\n",
      "108:\tlearn: 0.0696766\ttotal: 108ms\tremaining: 880ms\n",
      "109:\tlearn: 0.0691054\ttotal: 108ms\tremaining: 874ms\n",
      "110:\tlearn: 0.0683613\ttotal: 108ms\tremaining: 867ms\n",
      "111:\tlearn: 0.0673333\ttotal: 109ms\tremaining: 862ms\n",
      "112:\tlearn: 0.0666925\ttotal: 109ms\tremaining: 855ms\n",
      "113:\tlearn: 0.0657793\ttotal: 109ms\tremaining: 849ms\n",
      "114:\tlearn: 0.0647925\ttotal: 109ms\tremaining: 842ms\n",
      "115:\tlearn: 0.0642615\ttotal: 110ms\tremaining: 838ms\n",
      "116:\tlearn: 0.0633793\ttotal: 110ms\tremaining: 832ms\n",
      "117:\tlearn: 0.0625454\ttotal: 111ms\tremaining: 826ms\n",
      "118:\tlearn: 0.0617108\ttotal: 111ms\tremaining: 821ms\n",
      "119:\tlearn: 0.0609655\ttotal: 112ms\tremaining: 821ms\n",
      "120:\tlearn: 0.0605056\ttotal: 112ms\tremaining: 815ms\n",
      "121:\tlearn: 0.0598505\ttotal: 113ms\tremaining: 811ms\n",
      "122:\tlearn: 0.0591898\ttotal: 113ms\tremaining: 806ms\n",
      "123:\tlearn: 0.0585257\ttotal: 113ms\tremaining: 800ms\n",
      "124:\tlearn: 0.0578809\ttotal: 114ms\tremaining: 795ms\n",
      "125:\tlearn: 0.0575361\ttotal: 114ms\tremaining: 794ms\n",
      "126:\tlearn: 0.0569728\ttotal: 115ms\tremaining: 790ms\n",
      "127:\tlearn: 0.0563537\ttotal: 115ms\tremaining: 784ms\n",
      "128:\tlearn: 0.0558177\ttotal: 116ms\tremaining: 780ms\n",
      "129:\tlearn: 0.0552320\ttotal: 117ms\tremaining: 780ms\n",
      "130:\tlearn: 0.0547713\ttotal: 117ms\tremaining: 778ms\n",
      "131:\tlearn: 0.0544245\ttotal: 118ms\tremaining: 775ms\n",
      "132:\tlearn: 0.0540772\ttotal: 119ms\tremaining: 778ms\n",
      "133:\tlearn: 0.0536436\ttotal: 120ms\tremaining: 775ms\n",
      "134:\tlearn: 0.0532143\ttotal: 120ms\tremaining: 770ms\n",
      "135:\tlearn: 0.0526629\ttotal: 120ms\tremaining: 765ms\n",
      "136:\tlearn: 0.0522907\ttotal: 121ms\tremaining: 761ms\n",
      "137:\tlearn: 0.0519054\ttotal: 121ms\tremaining: 756ms\n",
      "138:\tlearn: 0.0515894\ttotal: 121ms\tremaining: 752ms\n",
      "139:\tlearn: 0.0511936\ttotal: 122ms\tremaining: 747ms\n",
      "140:\tlearn: 0.0508244\ttotal: 122ms\tremaining: 743ms\n",
      "141:\tlearn: 0.0505427\ttotal: 122ms\tremaining: 738ms\n",
      "142:\tlearn: 0.0502566\ttotal: 122ms\tremaining: 734ms\n",
      "143:\tlearn: 0.0500846\ttotal: 124ms\tremaining: 739ms\n",
      "144:\tlearn: 0.0498601\ttotal: 125ms\tremaining: 735ms\n",
      "145:\tlearn: 0.0496321\ttotal: 125ms\tremaining: 731ms\n",
      "146:\tlearn: 0.0493839\ttotal: 125ms\tremaining: 727ms\n",
      "147:\tlearn: 0.0491601\ttotal: 125ms\tremaining: 722ms\n",
      "148:\tlearn: 0.0488598\ttotal: 126ms\tremaining: 718ms\n",
      "149:\tlearn: 0.0485755\ttotal: 126ms\tremaining: 715ms\n",
      "150:\tlearn: 0.0482214\ttotal: 126ms\tremaining: 711ms\n",
      "151:\tlearn: 0.0479693\ttotal: 127ms\tremaining: 707ms\n",
      "152:\tlearn: 0.0477265\ttotal: 127ms\tremaining: 703ms\n",
      "153:\tlearn: 0.0474857\ttotal: 129ms\tremaining: 709ms\n",
      "154:\tlearn: 0.0472361\ttotal: 130ms\tremaining: 707ms\n",
      "155:\tlearn: 0.0469982\ttotal: 130ms\tremaining: 705ms\n",
      "156:\tlearn: 0.0467677\ttotal: 131ms\tremaining: 703ms\n",
      "157:\tlearn: 0.0465567\ttotal: 131ms\tremaining: 700ms\n",
      "158:\tlearn: 0.0462814\ttotal: 132ms\tremaining: 697ms\n",
      "159:\tlearn: 0.0460881\ttotal: 132ms\tremaining: 693ms\n",
      "160:\tlearn: 0.0459241\ttotal: 132ms\tremaining: 690ms\n",
      "161:\tlearn: 0.0456773\ttotal: 133ms\tremaining: 687ms\n",
      "162:\tlearn: 0.0455141\ttotal: 133ms\tremaining: 684ms\n",
      "163:\tlearn: 0.0453669\ttotal: 133ms\tremaining: 680ms\n",
      "164:\tlearn: 0.0452216\ttotal: 134ms\tremaining: 676ms\n",
      "165:\tlearn: 0.0450653\ttotal: 134ms\tremaining: 675ms\n",
      "166:\tlearn: 0.0448179\ttotal: 136ms\tremaining: 677ms\n",
      "167:\tlearn: 0.0446650\ttotal: 138ms\tremaining: 681ms\n",
      "168:\tlearn: 0.0445004\ttotal: 138ms\tremaining: 678ms\n",
      "169:\tlearn: 0.0443835\ttotal: 138ms\tremaining: 674ms\n",
      "170:\tlearn: 0.0442750\ttotal: 139ms\tremaining: 673ms\n",
      "171:\tlearn: 0.0441745\ttotal: 139ms\tremaining: 670ms\n",
      "172:\tlearn: 0.0439674\ttotal: 140ms\tremaining: 668ms\n",
      "173:\tlearn: 0.0438377\ttotal: 140ms\tremaining: 665ms\n",
      "174:\tlearn: 0.0436565\ttotal: 141ms\tremaining: 666ms\n",
      "175:\tlearn: 0.0435317\ttotal: 143ms\tremaining: 667ms\n",
      "176:\tlearn: 0.0434236\ttotal: 143ms\tremaining: 665ms\n",
      "177:\tlearn: 0.0432861\ttotal: 144ms\tremaining: 663ms\n",
      "178:\tlearn: 0.0431216\ttotal: 144ms\tremaining: 660ms\n",
      "179:\tlearn: 0.0429579\ttotal: 144ms\tremaining: 657ms\n",
      "180:\tlearn: 0.0428493\ttotal: 145ms\tremaining: 654ms\n",
      "181:\tlearn: 0.0427304\ttotal: 145ms\tremaining: 652ms\n",
      "182:\tlearn: 0.0426067\ttotal: 145ms\tremaining: 649ms\n",
      "183:\tlearn: 0.0424518\ttotal: 146ms\tremaining: 647ms\n",
      "184:\tlearn: 0.0423123\ttotal: 146ms\tremaining: 645ms\n",
      "185:\tlearn: 0.0422150\ttotal: 147ms\tremaining: 645ms\n",
      "186:\tlearn: 0.0420846\ttotal: 148ms\tremaining: 643ms\n",
      "187:\tlearn: 0.0419146\ttotal: 149ms\tremaining: 642ms\n",
      "188:\tlearn: 0.0417995\ttotal: 149ms\tremaining: 640ms\n",
      "189:\tlearn: 0.0417332\ttotal: 150ms\tremaining: 638ms\n",
      "190:\tlearn: 0.0416204\ttotal: 150ms\tremaining: 636ms\n",
      "191:\tlearn: 0.0414725\ttotal: 151ms\tremaining: 634ms\n",
      "192:\tlearn: 0.0413761\ttotal: 151ms\tremaining: 632ms\n"
     ]
    },
    {
     "name": "stdout",
     "output_type": "stream",
     "text": [
      "193:\tlearn: 0.0412433\ttotal: 151ms\tremaining: 632ms\n",
      "194:\tlearn: 0.0411090\ttotal: 158ms\tremaining: 654ms\n",
      "195:\tlearn: 0.0409640\ttotal: 160ms\tremaining: 661ms\n",
      "196:\tlearn: 0.0408854\ttotal: 162ms\tremaining: 663ms\n",
      "197:\tlearn: 0.0407572\ttotal: 162ms\tremaining: 661ms\n",
      "198:\tlearn: 0.0406847\ttotal: 163ms\tremaining: 658ms\n",
      "199:\tlearn: 0.0405207\ttotal: 163ms\tremaining: 655ms\n",
      "200:\tlearn: 0.0404350\ttotal: 163ms\tremaining: 652ms\n",
      "201:\tlearn: 0.0403151\ttotal: 163ms\tremaining: 649ms\n",
      "202:\tlearn: 0.0400666\ttotal: 164ms\tremaining: 646ms\n",
      "203:\tlearn: 0.0398260\ttotal: 164ms\tremaining: 644ms\n",
      "204:\tlearn: 0.0397443\ttotal: 170ms\tremaining: 664ms\n",
      "205:\tlearn: 0.0396524\ttotal: 176ms\tremaining: 682ms\n",
      "206:\tlearn: 0.0394074\ttotal: 177ms\tremaining: 680ms\n",
      "207:\tlearn: 0.0392518\ttotal: 179ms\tremaining: 685ms\n",
      "208:\tlearn: 0.0391185\ttotal: 180ms\tremaining: 684ms\n",
      "209:\tlearn: 0.0389016\ttotal: 180ms\tremaining: 682ms\n",
      "210:\tlearn: 0.0387934\ttotal: 181ms\tremaining: 681ms\n",
      "211:\tlearn: 0.0386853\ttotal: 182ms\tremaining: 681ms\n",
      "212:\tlearn: 0.0385530\ttotal: 183ms\tremaining: 680ms\n",
      "213:\tlearn: 0.0384439\ttotal: 184ms\tremaining: 678ms\n",
      "214:\tlearn: 0.0383492\ttotal: 187ms\tremaining: 687ms\n",
      "215:\tlearn: 0.0382693\ttotal: 188ms\tremaining: 687ms\n",
      "216:\tlearn: 0.0381538\ttotal: 189ms\tremaining: 684ms\n",
      "217:\tlearn: 0.0380710\ttotal: 190ms\tremaining: 684ms\n",
      "218:\tlearn: 0.0379625\ttotal: 191ms\tremaining: 683ms\n",
      "219:\tlearn: 0.0378600\ttotal: 191ms\tremaining: 681ms\n",
      "220:\tlearn: 0.0378177\ttotal: 192ms\tremaining: 680ms\n",
      "221:\tlearn: 0.0377297\ttotal: 193ms\tremaining: 680ms\n",
      "222:\tlearn: 0.0376365\ttotal: 198ms\tremaining: 694ms\n",
      "223:\tlearn: 0.0375831\ttotal: 199ms\tremaining: 692ms\n",
      "224:\tlearn: 0.0375185\ttotal: 200ms\tremaining: 692ms\n",
      "225:\tlearn: 0.0374557\ttotal: 200ms\tremaining: 690ms\n",
      "226:\tlearn: 0.0373831\ttotal: 201ms\tremaining: 688ms\n",
      "227:\tlearn: 0.0371645\ttotal: 202ms\tremaining: 686ms\n",
      "228:\tlearn: 0.0369489\ttotal: 202ms\tremaining: 684ms\n",
      "229:\tlearn: 0.0368328\ttotal: 204ms\tremaining: 686ms\n",
      "230:\tlearn: 0.0367245\ttotal: 205ms\tremaining: 686ms\n",
      "231:\tlearn: 0.0366467\ttotal: 206ms\tremaining: 683ms\n",
      "232:\tlearn: 0.0365676\ttotal: 206ms\tremaining: 682ms\n",
      "233:\tlearn: 0.0364748\ttotal: 207ms\tremaining: 681ms\n",
      "234:\tlearn: 0.0363849\ttotal: 208ms\tremaining: 679ms\n",
      "235:\tlearn: 0.0363381\ttotal: 210ms\tremaining: 683ms\n",
      "236:\tlearn: 0.0362409\ttotal: 211ms\tremaining: 681ms\n",
      "237:\tlearn: 0.0361878\ttotal: 211ms\tremaining: 679ms\n",
      "238:\tlearn: 0.0360973\ttotal: 212ms\tremaining: 677ms\n",
      "239:\tlearn: 0.0360058\ttotal: 212ms\tremaining: 675ms\n",
      "240:\tlearn: 0.0358934\ttotal: 213ms\tremaining: 673ms\n",
      "241:\tlearn: 0.0357896\ttotal: 217ms\tremaining: 682ms\n",
      "242:\tlearn: 0.0356632\ttotal: 219ms\tremaining: 684ms\n",
      "243:\tlearn: 0.0355810\ttotal: 219ms\tremaining: 682ms\n",
      "244:\tlearn: 0.0354775\ttotal: 220ms\tremaining: 681ms\n",
      "245:\tlearn: 0.0353558\ttotal: 221ms\tremaining: 679ms\n",
      "246:\tlearn: 0.0353160\ttotal: 223ms\tremaining: 682ms\n",
      "247:\tlearn: 0.0351136\ttotal: 225ms\tremaining: 686ms\n",
      "248:\tlearn: 0.0350110\ttotal: 226ms\tremaining: 684ms\n",
      "249:\tlearn: 0.0349207\ttotal: 226ms\tremaining: 681ms\n",
      "250:\tlearn: 0.0347312\ttotal: 226ms\tremaining: 678ms\n",
      "251:\tlearn: 0.0346555\ttotal: 234ms\tremaining: 697ms\n",
      "252:\tlearn: 0.0345743\ttotal: 235ms\tremaining: 696ms\n",
      "253:\tlearn: 0.0345027\ttotal: 235ms\tremaining: 693ms\n",
      "254:\tlearn: 0.0343506\ttotal: 235ms\tremaining: 690ms\n",
      "255:\tlearn: 0.0341744\ttotal: 236ms\tremaining: 687ms\n",
      "256:\tlearn: 0.0340149\ttotal: 236ms\tremaining: 686ms\n",
      "257:\tlearn: 0.0339685\ttotal: 238ms\tremaining: 687ms\n",
      "258:\tlearn: 0.0338677\ttotal: 239ms\tremaining: 685ms\n",
      "259:\tlearn: 0.0337332\ttotal: 239ms\tremaining: 684ms\n",
      "260:\tlearn: 0.0336668\ttotal: 241ms\tremaining: 684ms\n",
      "261:\tlearn: 0.0335503\ttotal: 242ms\tremaining: 684ms\n",
      "262:\tlearn: 0.0334391\ttotal: 242ms\tremaining: 682ms\n",
      "263:\tlearn: 0.0332783\ttotal: 243ms\tremaining: 680ms\n",
      "264:\tlearn: 0.0332107\ttotal: 244ms\tremaining: 680ms\n",
      "265:\tlearn: 0.0331781\ttotal: 245ms\tremaining: 678ms\n",
      "266:\tlearn: 0.0330256\ttotal: 245ms\tremaining: 677ms\n",
      "267:\tlearn: 0.0329599\ttotal: 247ms\tremaining: 678ms\n",
      "268:\tlearn: 0.0328894\ttotal: 249ms\tremaining: 680ms\n",
      "269:\tlearn: 0.0328269\ttotal: 251ms\tremaining: 681ms\n"
     ]
    },
    {
     "name": "stdout",
     "output_type": "stream",
     "text": [
      "270:\tlearn: 0.0327678\ttotal: 253ms\tremaining: 682ms\n",
      "271:\tlearn: 0.0326994\ttotal: 255ms\tremaining: 686ms\n",
      "272:\tlearn: 0.0326497\ttotal: 258ms\tremaining: 689ms\n",
      "273:\tlearn: 0.0325928\ttotal: 259ms\tremaining: 688ms\n",
      "274:\tlearn: 0.0325534\ttotal: 260ms\tremaining: 687ms\n",
      "275:\tlearn: 0.0324706\ttotal: 261ms\tremaining: 686ms\n",
      "276:\tlearn: 0.0322729\ttotal: 262ms\tremaining: 687ms\n",
      "277:\tlearn: 0.0321285\ttotal: 263ms\tremaining: 686ms\n",
      "278:\tlearn: 0.0319917\ttotal: 264ms\tremaining: 685ms\n",
      "279:\tlearn: 0.0318619\ttotal: 266ms\tremaining: 686ms\n",
      "280:\tlearn: 0.0318076\ttotal: 267ms\tremaining: 685ms\n",
      "281:\tlearn: 0.0317409\ttotal: 268ms\tremaining: 684ms\n",
      "282:\tlearn: 0.0316502\ttotal: 269ms\tremaining: 683ms\n",
      "283:\tlearn: 0.0315834\ttotal: 270ms\tremaining: 683ms\n",
      "284:\tlearn: 0.0315094\ttotal: 271ms\tremaining: 683ms\n",
      "285:\tlearn: 0.0313795\ttotal: 277ms\tremaining: 694ms\n",
      "286:\tlearn: 0.0313437\ttotal: 278ms\tremaining: 694ms\n",
      "287:\tlearn: 0.0312055\ttotal: 280ms\tremaining: 694ms\n",
      "288:\tlearn: 0.0311560\ttotal: 281ms\tremaining: 693ms\n",
      "289:\tlearn: 0.0309942\ttotal: 281ms\tremaining: 691ms\n",
      "290:\tlearn: 0.0308420\ttotal: 283ms\tremaining: 691ms\n",
      "291:\tlearn: 0.0307772\ttotal: 283ms\tremaining: 689ms\n",
      "292:\tlearn: 0.0307044\ttotal: 285ms\tremaining: 689ms\n",
      "293:\tlearn: 0.0306595\ttotal: 286ms\tremaining: 689ms\n",
      "294:\tlearn: 0.0306027\ttotal: 288ms\tremaining: 690ms\n",
      "295:\tlearn: 0.0304606\ttotal: 288ms\tremaining: 688ms\n",
      "296:\tlearn: 0.0303910\ttotal: 288ms\tremaining: 685ms\n",
      "297:\tlearn: 0.0302695\ttotal: 289ms\tremaining: 682ms\n",
      "298:\tlearn: 0.0302213\ttotal: 289ms\tremaining: 680ms\n",
      "299:\tlearn: 0.0301910\ttotal: 289ms\tremaining: 677ms\n",
      "300:\tlearn: 0.0301333\ttotal: 290ms\tremaining: 677ms\n",
      "301:\tlearn: 0.0300246\ttotal: 291ms\tremaining: 675ms\n",
      "302:\tlearn: 0.0299147\ttotal: 291ms\tremaining: 672ms\n",
      "303:\tlearn: 0.0297895\ttotal: 296ms\tremaining: 680ms\n",
      "304:\tlearn: 0.0297225\ttotal: 318ms\tremaining: 728ms\n",
      "305:\tlearn: 0.0296817\ttotal: 321ms\tremaining: 730ms\n",
      "306:\tlearn: 0.0295805\ttotal: 322ms\tremaining: 729ms\n",
      "307:\tlearn: 0.0294855\ttotal: 324ms\tremaining: 731ms\n",
      "308:\tlearn: 0.0294212\ttotal: 325ms\tremaining: 728ms\n",
      "309:\tlearn: 0.0293568\ttotal: 325ms\tremaining: 726ms\n",
      "310:\tlearn: 0.0292956\ttotal: 325ms\tremaining: 723ms\n",
      "311:\tlearn: 0.0292385\ttotal: 326ms\tremaining: 720ms\n",
      "312:\tlearn: 0.0291796\ttotal: 329ms\tremaining: 725ms\n",
      "313:\tlearn: 0.0291000\ttotal: 331ms\tremaining: 726ms\n",
      "314:\tlearn: 0.0290528\ttotal: 332ms\tremaining: 724ms\n",
      "315:\tlearn: 0.0289413\ttotal: 333ms\tremaining: 723ms\n",
      "316:\tlearn: 0.0288538\ttotal: 334ms\tremaining: 723ms\n",
      "317:\tlearn: 0.0287686\ttotal: 335ms\tremaining: 721ms\n",
      "318:\tlearn: 0.0286593\ttotal: 337ms\tremaining: 721ms\n",
      "319:\tlearn: 0.0286015\ttotal: 337ms\tremaining: 719ms\n",
      "320:\tlearn: 0.0285717\ttotal: 338ms\tremaining: 718ms\n",
      "321:\tlearn: 0.0285342\ttotal: 339ms\tremaining: 716ms\n",
      "322:\tlearn: 0.0284730\ttotal: 340ms\tremaining: 714ms\n",
      "323:\tlearn: 0.0283709\ttotal: 341ms\tremaining: 714ms\n",
      "324:\tlearn: 0.0283121\ttotal: 342ms\tremaining: 712ms\n",
      "325:\tlearn: 0.0282524\ttotal: 344ms\tremaining: 713ms\n",
      "326:\tlearn: 0.0281580\ttotal: 346ms\tremaining: 713ms\n",
      "327:\tlearn: 0.0281230\ttotal: 346ms\tremaining: 711ms\n",
      "328:\tlearn: 0.0280887\ttotal: 347ms\tremaining: 710ms\n",
      "329:\tlearn: 0.0280270\ttotal: 347ms\tremaining: 707ms\n",
      "330:\tlearn: 0.0279715\ttotal: 350ms\tremaining: 709ms\n",
      "331:\tlearn: 0.0278788\ttotal: 351ms\tremaining: 708ms\n",
      "332:\tlearn: 0.0278472\ttotal: 351ms\tremaining: 705ms\n",
      "333:\tlearn: 0.0277401\ttotal: 351ms\tremaining: 703ms\n",
      "334:\tlearn: 0.0276603\ttotal: 353ms\tremaining: 702ms\n",
      "335:\tlearn: 0.0276285\ttotal: 354ms\tremaining: 701ms\n",
      "336:\tlearn: 0.0275944\ttotal: 357ms\tremaining: 704ms\n"
     ]
    },
    {
     "name": "stdout",
     "output_type": "stream",
     "text": [
      "337:\tlearn: 0.0275172\ttotal: 357ms\tremaining: 702ms\n",
      "338:\tlearn: 0.0274459\ttotal: 373ms\tremaining: 729ms\n",
      "339:\tlearn: 0.0274233\ttotal: 374ms\tremaining: 728ms\n",
      "340:\tlearn: 0.0273672\ttotal: 376ms\tremaining: 728ms\n",
      "341:\tlearn: 0.0273117\ttotal: 379ms\tremaining: 731ms\n",
      "342:\tlearn: 0.0272550\ttotal: 380ms\tremaining: 729ms\n",
      "343:\tlearn: 0.0272043\ttotal: 381ms\tremaining: 728ms\n",
      "344:\tlearn: 0.0271553\ttotal: 381ms\tremaining: 726ms\n",
      "345:\tlearn: 0.0271011\ttotal: 382ms\tremaining: 724ms\n",
      "346:\tlearn: 0.0270495\ttotal: 383ms\tremaining: 723ms\n",
      "347:\tlearn: 0.0269986\ttotal: 385ms\tremaining: 723ms\n",
      "348:\tlearn: 0.0269464\ttotal: 388ms\tremaining: 725ms\n",
      "349:\tlearn: 0.0268897\ttotal: 388ms\tremaining: 723ms\n",
      "350:\tlearn: 0.0268414\ttotal: 391ms\tremaining: 725ms\n",
      "351:\tlearn: 0.0268052\ttotal: 393ms\tremaining: 725ms\n",
      "352:\tlearn: 0.0267420\ttotal: 399ms\tremaining: 734ms\n",
      "353:\tlearn: 0.0267034\ttotal: 400ms\tremaining: 732ms\n",
      "354:\tlearn: 0.0266739\ttotal: 404ms\tremaining: 737ms\n",
      "355:\tlearn: 0.0266173\ttotal: 405ms\tremaining: 735ms\n",
      "356:\tlearn: 0.0265359\ttotal: 409ms\tremaining: 738ms\n",
      "357:\tlearn: 0.0264822\ttotal: 409ms\tremaining: 736ms\n",
      "358:\tlearn: 0.0264292\ttotal: 410ms\tremaining: 734ms\n",
      "359:\tlearn: 0.0264020\ttotal: 411ms\tremaining: 732ms\n",
      "360:\tlearn: 0.0263626\ttotal: 412ms\tremaining: 731ms\n",
      "361:\tlearn: 0.0263108\ttotal: 417ms\tremaining: 737ms\n",
      "362:\tlearn: 0.0262549\ttotal: 418ms\tremaining: 735ms\n",
      "363:\tlearn: 0.0262089\ttotal: 419ms\tremaining: 733ms\n",
      "364:\tlearn: 0.0261877\ttotal: 420ms\tremaining: 732ms\n",
      "365:\tlearn: 0.0261627\ttotal: 420ms\tremaining: 730ms\n",
      "366:\tlearn: 0.0261404\ttotal: 422ms\tremaining: 730ms\n",
      "367:\tlearn: 0.0260510\ttotal: 424ms\tremaining: 730ms\n",
      "368:\tlearn: 0.0259860\ttotal: 424ms\tremaining: 727ms\n",
      "369:\tlearn: 0.0259341\ttotal: 426ms\tremaining: 727ms\n",
      "370:\tlearn: 0.0258915\ttotal: 426ms\tremaining: 725ms\n",
      "371:\tlearn: 0.0258199\ttotal: 428ms\tremaining: 725ms\n",
      "372:\tlearn: 0.0257577\ttotal: 430ms\tremaining: 725ms\n",
      "373:\tlearn: 0.0257277\ttotal: 432ms\tremaining: 725ms\n",
      "374:\tlearn: 0.0256994\ttotal: 432ms\tremaining: 722ms\n",
      "375:\tlearn: 0.0256803\ttotal: 441ms\tremaining: 733ms\n",
      "376:\tlearn: 0.0256602\ttotal: 442ms\tremaining: 732ms\n",
      "377:\tlearn: 0.0256132\ttotal: 444ms\tremaining: 733ms\n",
      "378:\tlearn: 0.0255497\ttotal: 445ms\tremaining: 731ms\n",
      "379:\tlearn: 0.0254667\ttotal: 447ms\tremaining: 732ms\n",
      "380:\tlearn: 0.0253878\ttotal: 448ms\tremaining: 730ms\n",
      "381:\tlearn: 0.0253283\ttotal: 450ms\tremaining: 730ms\n",
      "382:\tlearn: 0.0252823\ttotal: 452ms\tremaining: 729ms\n",
      "383:\tlearn: 0.0252390\ttotal: 452ms\tremaining: 727ms\n",
      "384:\tlearn: 0.0252187\ttotal: 454ms\tremaining: 727ms\n",
      "385:\tlearn: 0.0251680\ttotal: 454ms\tremaining: 724ms\n",
      "386:\tlearn: 0.0251457\ttotal: 455ms\tremaining: 722ms\n",
      "387:\tlearn: 0.0251246\ttotal: 456ms\tremaining: 721ms\n",
      "388:\tlearn: 0.0250763\ttotal: 456ms\tremaining: 718ms\n",
      "389:\tlearn: 0.0250294\ttotal: 457ms\tremaining: 717ms\n",
      "390:\tlearn: 0.0249669\ttotal: 460ms\tremaining: 719ms\n",
      "391:\tlearn: 0.0249262\ttotal: 461ms\tremaining: 716ms\n",
      "392:\tlearn: 0.0248951\ttotal: 462ms\tremaining: 716ms\n",
      "393:\tlearn: 0.0248409\ttotal: 463ms\tremaining: 714ms\n",
      "394:\tlearn: 0.0247721\ttotal: 464ms\tremaining: 712ms\n",
      "395:\tlearn: 0.0247520\ttotal: 465ms\tremaining: 712ms\n",
      "396:\tlearn: 0.0247235\ttotal: 467ms\tremaining: 710ms\n",
      "397:\tlearn: 0.0246709\ttotal: 467ms\tremaining: 708ms\n",
      "398:\tlearn: 0.0246134\ttotal: 467ms\tremaining: 706ms\n",
      "399:\tlearn: 0.0245701\ttotal: 468ms\tremaining: 703ms\n",
      "400:\tlearn: 0.0245242\ttotal: 468ms\tremaining: 701ms\n",
      "401:\tlearn: 0.0245127\ttotal: 468ms\tremaining: 699ms\n",
      "402:\tlearn: 0.0244496\ttotal: 472ms\tremaining: 700ms\n",
      "403:\tlearn: 0.0244077\ttotal: 472ms\tremaining: 699ms\n",
      "404:\tlearn: 0.0243347\ttotal: 473ms\tremaining: 697ms\n",
      "405:\tlearn: 0.0243161\ttotal: 474ms\tremaining: 695ms\n",
      "406:\tlearn: 0.0242885\ttotal: 476ms\tremaining: 695ms\n",
      "407:\tlearn: 0.0242299\ttotal: 477ms\tremaining: 694ms\n",
      "408:\tlearn: 0.0241897\ttotal: 478ms\tremaining: 692ms\n",
      "409:\tlearn: 0.0241346\ttotal: 479ms\tremaining: 690ms\n",
      "410:\tlearn: 0.0240801\ttotal: 479ms\tremaining: 688ms\n",
      "411:\tlearn: 0.0240263\ttotal: 479ms\tremaining: 686ms\n",
      "412:\tlearn: 0.0240068\ttotal: 480ms\tremaining: 684ms\n",
      "413:\tlearn: 0.0239627\ttotal: 481ms\tremaining: 682ms\n",
      "414:\tlearn: 0.0239199\ttotal: 483ms\tremaining: 682ms\n",
      "415:\tlearn: 0.0238615\ttotal: 486ms\tremaining: 684ms\n",
      "416:\tlearn: 0.0238140\ttotal: 486ms\tremaining: 682ms\n"
     ]
    },
    {
     "name": "stdout",
     "output_type": "stream",
     "text": [
      "417:\tlearn: 0.0237759\ttotal: 489ms\tremaining: 683ms\n",
      "418:\tlearn: 0.0237207\ttotal: 496ms\tremaining: 689ms\n",
      "419:\tlearn: 0.0236878\ttotal: 497ms\tremaining: 688ms\n",
      "420:\tlearn: 0.0236460\ttotal: 497ms\tremaining: 685ms\n",
      "421:\tlearn: 0.0236213\ttotal: 497ms\tremaining: 683ms\n",
      "422:\tlearn: 0.0235886\ttotal: 498ms\tremaining: 680ms\n",
      "423:\tlearn: 0.0235419\ttotal: 498ms\tremaining: 678ms\n",
      "424:\tlearn: 0.0234864\ttotal: 503ms\tremaining: 682ms\n",
      "425:\tlearn: 0.0234689\ttotal: 504ms\tremaining: 681ms\n",
      "426:\tlearn: 0.0234250\ttotal: 504ms\tremaining: 678ms\n",
      "427:\tlearn: 0.0233756\ttotal: 505ms\tremaining: 677ms\n",
      "428:\tlearn: 0.0233289\ttotal: 506ms\tremaining: 675ms\n",
      "429:\tlearn: 0.0232872\ttotal: 508ms\tremaining: 675ms\n",
      "430:\tlearn: 0.0232552\ttotal: 512ms\tremaining: 678ms\n",
      "431:\tlearn: 0.0232413\ttotal: 513ms\tremaining: 676ms\n",
      "432:\tlearn: 0.0232029\ttotal: 514ms\tremaining: 675ms\n",
      "433:\tlearn: 0.0231622\ttotal: 516ms\tremaining: 675ms\n",
      "434:\tlearn: 0.0231228\ttotal: 517ms\tremaining: 674ms\n",
      "435:\tlearn: 0.0230679\ttotal: 521ms\tremaining: 675ms\n",
      "436:\tlearn: 0.0230168\ttotal: 522ms\tremaining: 674ms\n",
      "437:\tlearn: 0.0229788\ttotal: 523ms\tremaining: 672ms\n",
      "438:\tlearn: 0.0229581\ttotal: 526ms\tremaining: 674ms\n",
      "439:\tlearn: 0.0229149\ttotal: 527ms\tremaining: 672ms\n",
      "440:\tlearn: 0.0228781\ttotal: 527ms\tremaining: 669ms\n",
      "441:\tlearn: 0.0228649\ttotal: 528ms\tremaining: 668ms\n",
      "442:\tlearn: 0.0228235\ttotal: 529ms\tremaining: 666ms\n",
      "443:\tlearn: 0.0228079\ttotal: 529ms\tremaining: 664ms\n",
      "444:\tlearn: 0.0227605\ttotal: 529ms\tremaining: 662ms\n",
      "445:\tlearn: 0.0227258\ttotal: 530ms\tremaining: 659ms\n",
      "446:\tlearn: 0.0226906\ttotal: 531ms\tremaining: 659ms\n",
      "447:\tlearn: 0.0226557\ttotal: 532ms\tremaining: 658ms\n",
      "448:\tlearn: 0.0226073\ttotal: 533ms\tremaining: 656ms\n",
      "449:\tlearn: 0.0225684\ttotal: 534ms\tremaining: 654ms\n",
      "450:\tlearn: 0.0225037\ttotal: 537ms\tremaining: 655ms\n",
      "451:\tlearn: 0.0224638\ttotal: 538ms\tremaining: 654ms\n",
      "452:\tlearn: 0.0224257\ttotal: 539ms\tremaining: 652ms\n",
      "453:\tlearn: 0.0224166\ttotal: 539ms\tremaining: 650ms\n",
      "454:\tlearn: 0.0223793\ttotal: 542ms\tremaining: 650ms\n",
      "455:\tlearn: 0.0223417\ttotal: 543ms\tremaining: 650ms\n",
      "456:\tlearn: 0.0222979\ttotal: 544ms\tremaining: 648ms\n",
      "457:\tlearn: 0.0222813\ttotal: 544ms\tremaining: 645ms\n",
      "458:\tlearn: 0.0222483\ttotal: 548ms\tremaining: 647ms\n",
      "459:\tlearn: 0.0222135\ttotal: 552ms\tremaining: 649ms\n",
      "460:\tlearn: 0.0221694\ttotal: 552ms\tremaining: 647ms\n",
      "461:\tlearn: 0.0221607\ttotal: 552ms\tremaining: 645ms\n",
      "462:\tlearn: 0.0221208\ttotal: 553ms\tremaining: 642ms\n",
      "463:\tlearn: 0.0220776\ttotal: 553ms\tremaining: 640ms\n",
      "464:\tlearn: 0.0220620\ttotal: 556ms\tremaining: 641ms\n",
      "465:\tlearn: 0.0220352\ttotal: 559ms\tremaining: 642ms\n",
      "466:\tlearn: 0.0220266\ttotal: 559ms\tremaining: 640ms\n",
      "467:\tlearn: 0.0219843\ttotal: 560ms\tremaining: 638ms\n",
      "468:\tlearn: 0.0219516\ttotal: 560ms\tremaining: 635ms\n",
      "469:\tlearn: 0.0219165\ttotal: 560ms\tremaining: 633ms\n",
      "470:\tlearn: 0.0218751\ttotal: 561ms\tremaining: 631ms\n",
      "471:\tlearn: 0.0218453\ttotal: 561ms\tremaining: 629ms\n",
      "472:\tlearn: 0.0218071\ttotal: 562ms\tremaining: 628ms\n",
      "473:\tlearn: 0.0217880\ttotal: 563ms\tremaining: 626ms\n",
      "474:\tlearn: 0.0217484\ttotal: 565ms\tremaining: 626ms\n",
      "475:\tlearn: 0.0217153\ttotal: 566ms\tremaining: 624ms\n",
      "476:\tlearn: 0.0216840\ttotal: 566ms\tremaining: 622ms\n",
      "477:\tlearn: 0.0216685\ttotal: 567ms\tremaining: 621ms\n",
      "478:\tlearn: 0.0216327\ttotal: 568ms\tremaining: 619ms\n",
      "479:\tlearn: 0.0215957\ttotal: 568ms\tremaining: 616ms\n",
      "480:\tlearn: 0.0215805\ttotal: 569ms\tremaining: 615ms\n",
      "481:\tlearn: 0.0215360\ttotal: 570ms\tremaining: 614ms\n",
      "482:\tlearn: 0.0215018\ttotal: 570ms\tremaining: 612ms\n",
      "483:\tlearn: 0.0214787\ttotal: 571ms\tremaining: 610ms\n",
      "484:\tlearn: 0.0214665\ttotal: 572ms\tremaining: 609ms\n",
      "485:\tlearn: 0.0214331\ttotal: 573ms\tremaining: 607ms\n",
      "486:\tlearn: 0.0213851\ttotal: 573ms\tremaining: 605ms\n",
      "487:\tlearn: 0.0213440\ttotal: 573ms\tremaining: 603ms\n",
      "488:\tlearn: 0.0213115\ttotal: 575ms\tremaining: 603ms\n",
      "489:\tlearn: 0.0212737\ttotal: 577ms\tremaining: 601ms\n",
      "490:\tlearn: 0.0212514\ttotal: 577ms\tremaining: 599ms\n",
      "491:\tlearn: 0.0212160\ttotal: 578ms\tremaining: 598ms\n",
      "492:\tlearn: 0.0211804\ttotal: 578ms\tremaining: 596ms\n",
      "493:\tlearn: 0.0211483\ttotal: 578ms\tremaining: 594ms\n",
      "494:\tlearn: 0.0211366\ttotal: 580ms\tremaining: 593ms\n",
      "495:\tlearn: 0.0211008\ttotal: 581ms\tremaining: 592ms\n",
      "496:\tlearn: 0.0210651\ttotal: 582ms\tremaining: 590ms\n",
      "497:\tlearn: 0.0210473\ttotal: 583ms\tremaining: 588ms\n",
      "498:\tlearn: 0.0210180\ttotal: 583ms\tremaining: 587ms\n",
      "499:\tlearn: 0.0209768\ttotal: 585ms\tremaining: 586ms\n",
      "500:\tlearn: 0.0209643\ttotal: 586ms\tremaining: 585ms\n",
      "501:\tlearn: 0.0209297\ttotal: 586ms\tremaining: 583ms\n",
      "502:\tlearn: 0.0208963\ttotal: 589ms\tremaining: 584ms\n",
      "503:\tlearn: 0.0208673\ttotal: 591ms\tremaining: 583ms\n",
      "504:\tlearn: 0.0208384\ttotal: 593ms\tremaining: 582ms\n",
      "505:\tlearn: 0.0208195\ttotal: 593ms\tremaining: 580ms\n",
      "506:\tlearn: 0.0208000\ttotal: 596ms\tremaining: 580ms\n",
      "507:\tlearn: 0.0207702\ttotal: 597ms\tremaining: 579ms\n",
      "508:\tlearn: 0.0207372\ttotal: 598ms\tremaining: 578ms\n",
      "509:\tlearn: 0.0207042\ttotal: 598ms\tremaining: 576ms\n",
      "510:\tlearn: 0.0206743\ttotal: 598ms\tremaining: 574ms\n",
      "511:\tlearn: 0.0206644\ttotal: 599ms\tremaining: 572ms\n",
      "512:\tlearn: 0.0206429\ttotal: 601ms\tremaining: 571ms\n",
      "513:\tlearn: 0.0206137\ttotal: 602ms\tremaining: 570ms\n",
      "514:\tlearn: 0.0205982\ttotal: 604ms\tremaining: 570ms\n",
      "515:\tlearn: 0.0205653\ttotal: 606ms\tremaining: 570ms\n",
      "516:\tlearn: 0.0205274\ttotal: 607ms\tremaining: 568ms\n",
      "517:\tlearn: 0.0204970\ttotal: 607ms\tremaining: 566ms\n",
      "518:\tlearn: 0.0204701\ttotal: 608ms\tremaining: 564ms\n",
      "519:\tlearn: 0.0204415\ttotal: 609ms\tremaining: 563ms\n",
      "520:\tlearn: 0.0204190\ttotal: 609ms\tremaining: 561ms\n",
      "521:\tlearn: 0.0203878\ttotal: 611ms\tremaining: 561ms\n",
      "522:\tlearn: 0.0203576\ttotal: 612ms\tremaining: 560ms\n",
      "523:\tlearn: 0.0203461\ttotal: 613ms\tremaining: 558ms\n",
      "524:\tlearn: 0.0203108\ttotal: 613ms\tremaining: 556ms\n"
     ]
    },
    {
     "name": "stdout",
     "output_type": "stream",
     "text": [
      "525:\tlearn: 0.0202835\ttotal: 614ms\tremaining: 554ms\n",
      "526:\tlearn: 0.0202692\ttotal: 615ms\tremaining: 553ms\n",
      "527:\tlearn: 0.0202478\ttotal: 616ms\tremaining: 552ms\n",
      "528:\tlearn: 0.0202333\ttotal: 616ms\tremaining: 550ms\n",
      "529:\tlearn: 0.0202021\ttotal: 618ms\tremaining: 549ms\n",
      "530:\tlearn: 0.0201756\ttotal: 619ms\tremaining: 548ms\n",
      "531:\tlearn: 0.0201585\ttotal: 620ms\tremaining: 547ms\n",
      "532:\tlearn: 0.0201299\ttotal: 621ms\tremaining: 545ms\n",
      "533:\tlearn: 0.0201025\ttotal: 622ms\tremaining: 544ms\n",
      "534:\tlearn: 0.0200770\ttotal: 623ms\tremaining: 542ms\n",
      "535:\tlearn: 0.0200497\ttotal: 624ms\tremaining: 542ms\n",
      "536:\tlearn: 0.0200222\ttotal: 626ms\tremaining: 540ms\n",
      "537:\tlearn: 0.0199943\ttotal: 627ms\tremaining: 539ms\n",
      "538:\tlearn: 0.0199693\ttotal: 627ms\tremaining: 537ms\n",
      "539:\tlearn: 0.0199428\ttotal: 629ms\tremaining: 536ms\n",
      "540:\tlearn: 0.0199220\ttotal: 637ms\tremaining: 541ms\n",
      "541:\tlearn: 0.0198960\ttotal: 637ms\tremaining: 539ms\n",
      "542:\tlearn: 0.0198732\ttotal: 637ms\tremaining: 537ms\n",
      "543:\tlearn: 0.0198505\ttotal: 638ms\tremaining: 535ms\n",
      "544:\tlearn: 0.0198273\ttotal: 638ms\tremaining: 534ms\n",
      "545:\tlearn: 0.0198053\ttotal: 638ms\tremaining: 532ms\n",
      "546:\tlearn: 0.0197901\ttotal: 640ms\tremaining: 531ms\n",
      "547:\tlearn: 0.0197825\ttotal: 641ms\tremaining: 529ms\n",
      "548:\tlearn: 0.0197587\ttotal: 644ms\tremaining: 530ms\n",
      "549:\tlearn: 0.0197333\ttotal: 645ms\tremaining: 529ms\n",
      "550:\tlearn: 0.0197199\ttotal: 645ms\tremaining: 527ms\n",
      "551:\tlearn: 0.0196998\ttotal: 646ms\tremaining: 525ms\n",
      "552:\tlearn: 0.0196801\ttotal: 647ms\tremaining: 524ms\n",
      "553:\tlearn: 0.0196661\ttotal: 648ms\tremaining: 523ms\n",
      "554:\tlearn: 0.0196451\ttotal: 651ms\tremaining: 523ms\n",
      "555:\tlearn: 0.0196184\ttotal: 653ms\tremaining: 522ms\n",
      "556:\tlearn: 0.0195865\ttotal: 654ms\tremaining: 521ms\n",
      "557:\tlearn: 0.0195635\ttotal: 655ms\tremaining: 520ms\n",
      "558:\tlearn: 0.0195565\ttotal: 656ms\tremaining: 518ms\n",
      "559:\tlearn: 0.0195424\ttotal: 657ms\tremaining: 517ms\n",
      "560:\tlearn: 0.0195164\ttotal: 657ms\tremaining: 515ms\n",
      "561:\tlearn: 0.0194874\ttotal: 658ms\tremaining: 514ms\n",
      "562:\tlearn: 0.0194686\ttotal: 659ms\tremaining: 513ms\n",
      "563:\tlearn: 0.0194515\ttotal: 660ms\tremaining: 511ms\n",
      "564:\tlearn: 0.0194357\ttotal: 661ms\tremaining: 510ms\n",
      "565:\tlearn: 0.0194075\ttotal: 662ms\tremaining: 509ms\n",
      "566:\tlearn: 0.0193836\ttotal: 664ms\tremaining: 508ms\n",
      "567:\tlearn: 0.0193592\ttotal: 664ms\tremaining: 506ms\n",
      "568:\tlearn: 0.0193377\ttotal: 669ms\tremaining: 507ms\n",
      "569:\tlearn: 0.0193273\ttotal: 669ms\tremaining: 506ms\n",
      "570:\tlearn: 0.0193068\ttotal: 671ms\tremaining: 505ms\n",
      "571:\tlearn: 0.0192939\ttotal: 673ms\tremaining: 504ms\n",
      "572:\tlearn: 0.0192796\ttotal: 673ms\tremaining: 503ms\n",
      "573:\tlearn: 0.0192574\ttotal: 674ms\tremaining: 501ms\n",
      "574:\tlearn: 0.0192307\ttotal: 675ms\tremaining: 500ms\n",
      "575:\tlearn: 0.0191947\ttotal: 681ms\tremaining: 502ms\n",
      "576:\tlearn: 0.0191884\ttotal: 681ms\tremaining: 500ms\n",
      "577:\tlearn: 0.0191639\ttotal: 682ms\tremaining: 499ms\n",
      "578:\tlearn: 0.0191399\ttotal: 682ms\tremaining: 497ms\n",
      "579:\tlearn: 0.0191236\ttotal: 683ms\tremaining: 495ms\n",
      "580:\tlearn: 0.0191170\ttotal: 684ms\tremaining: 494ms\n",
      "581:\tlearn: 0.0191076\ttotal: 686ms\tremaining: 494ms\n",
      "582:\tlearn: 0.0190876\ttotal: 688ms\tremaining: 493ms\n",
      "583:\tlearn: 0.0190789\ttotal: 689ms\tremaining: 492ms\n",
      "584:\tlearn: 0.0190688\ttotal: 690ms\tremaining: 490ms\n",
      "585:\tlearn: 0.0190500\ttotal: 691ms\tremaining: 489ms\n",
      "586:\tlearn: 0.0190212\ttotal: 692ms\tremaining: 488ms\n",
      "587:\tlearn: 0.0189660\ttotal: 693ms\tremaining: 486ms\n",
      "588:\tlearn: 0.0189498\ttotal: 694ms\tremaining: 485ms\n",
      "589:\tlearn: 0.0189321\ttotal: 694ms\tremaining: 483ms\n",
      "590:\tlearn: 0.0189147\ttotal: 698ms\tremaining: 484ms\n",
      "591:\tlearn: 0.0188938\ttotal: 698ms\tremaining: 482ms\n",
      "592:\tlearn: 0.0188734\ttotal: 699ms\tremaining: 480ms\n",
      "593:\tlearn: 0.0188557\ttotal: 700ms\tremaining: 479ms\n",
      "594:\tlearn: 0.0188291\ttotal: 700ms\tremaining: 478ms\n",
      "595:\tlearn: 0.0188129\ttotal: 701ms\tremaining: 476ms\n",
      "596:\tlearn: 0.0187944\ttotal: 702ms\tremaining: 475ms\n",
      "597:\tlearn: 0.0187790\ttotal: 703ms\tremaining: 473ms\n",
      "598:\tlearn: 0.0187558\ttotal: 703ms\tremaining: 472ms\n",
      "599:\tlearn: 0.0187408\ttotal: 706ms\tremaining: 471ms\n",
      "600:\tlearn: 0.0187314\ttotal: 707ms\tremaining: 470ms\n",
      "601:\tlearn: 0.0187113\ttotal: 708ms\tremaining: 469ms\n",
      "602:\tlearn: 0.0187010\ttotal: 709ms\tremaining: 468ms\n",
      "603:\tlearn: 0.0186920\ttotal: 710ms\tremaining: 466ms\n",
      "604:\tlearn: 0.0186747\ttotal: 711ms\tremaining: 465ms\n",
      "605:\tlearn: 0.0186600\ttotal: 713ms\tremaining: 465ms\n",
      "606:\tlearn: 0.0186240\ttotal: 715ms\tremaining: 464ms\n",
      "607:\tlearn: 0.0185984\ttotal: 715ms\tremaining: 462ms\n",
      "608:\tlearn: 0.0185888\ttotal: 716ms\tremaining: 460ms\n",
      "609:\tlearn: 0.0185730\ttotal: 717ms\tremaining: 459ms\n",
      "610:\tlearn: 0.0185554\ttotal: 718ms\tremaining: 458ms\n",
      "611:\tlearn: 0.0185227\ttotal: 719ms\tremaining: 457ms\n",
      "612:\tlearn: 0.0185029\ttotal: 720ms\tremaining: 455ms\n",
      "613:\tlearn: 0.0184932\ttotal: 721ms\tremaining: 454ms\n",
      "614:\tlearn: 0.0184720\ttotal: 722ms\tremaining: 453ms\n",
      "615:\tlearn: 0.0184574\ttotal: 723ms\tremaining: 451ms\n",
      "616:\tlearn: 0.0184402\ttotal: 725ms\tremaining: 451ms\n",
      "617:\tlearn: 0.0184298\ttotal: 726ms\tremaining: 450ms\n",
      "618:\tlearn: 0.0184217\ttotal: 728ms\tremaining: 449ms\n",
      "619:\tlearn: 0.0184068\ttotal: 729ms\tremaining: 447ms\n",
      "620:\tlearn: 0.0183917\ttotal: 730ms\tremaining: 446ms\n",
      "621:\tlearn: 0.0183694\ttotal: 732ms\tremaining: 445ms\n",
      "622:\tlearn: 0.0183478\ttotal: 732ms\tremaining: 444ms\n",
      "623:\tlearn: 0.0183164\ttotal: 733ms\tremaining: 442ms\n",
      "624:\tlearn: 0.0183093\ttotal: 735ms\tremaining: 441ms\n",
      "625:\tlearn: 0.0182984\ttotal: 736ms\tremaining: 440ms\n",
      "626:\tlearn: 0.0182805\ttotal: 737ms\tremaining: 439ms\n",
      "627:\tlearn: 0.0182493\ttotal: 737ms\tremaining: 437ms\n",
      "628:\tlearn: 0.0182238\ttotal: 742ms\tremaining: 438ms\n",
      "629:\tlearn: 0.0181982\ttotal: 743ms\tremaining: 437ms\n",
      "630:\tlearn: 0.0181822\ttotal: 744ms\tremaining: 436ms\n",
      "631:\tlearn: 0.0181756\ttotal: 745ms\tremaining: 435ms\n",
      "632:\tlearn: 0.0181242\ttotal: 745ms\tremaining: 433ms\n",
      "633:\tlearn: 0.0180973\ttotal: 746ms\tremaining: 431ms\n"
     ]
    },
    {
     "name": "stdout",
     "output_type": "stream",
     "text": [
      "634:\tlearn: 0.0180768\ttotal: 746ms\tremaining: 430ms\n",
      "635:\tlearn: 0.0180490\ttotal: 749ms\tremaining: 429ms\n",
      "636:\tlearn: 0.0180216\ttotal: 751ms\tremaining: 429ms\n",
      "637:\tlearn: 0.0180075\ttotal: 753ms\tremaining: 428ms\n",
      "638:\tlearn: 0.0179953\ttotal: 755ms\tremaining: 427ms\n",
      "639:\tlearn: 0.0179669\ttotal: 758ms\tremaining: 427ms\n",
      "640:\tlearn: 0.0179356\ttotal: 758ms\tremaining: 425ms\n",
      "641:\tlearn: 0.0179166\ttotal: 765ms\tremaining: 427ms\n",
      "642:\tlearn: 0.0178912\ttotal: 766ms\tremaining: 426ms\n",
      "643:\tlearn: 0.0178830\ttotal: 766ms\tremaining: 424ms\n",
      "644:\tlearn: 0.0178563\ttotal: 767ms\tremaining: 423ms\n",
      "645:\tlearn: 0.0178340\ttotal: 767ms\tremaining: 421ms\n",
      "646:\tlearn: 0.0178261\ttotal: 768ms\tremaining: 420ms\n",
      "647:\tlearn: 0.0178175\ttotal: 769ms\tremaining: 418ms\n",
      "648:\tlearn: 0.0177954\ttotal: 769ms\tremaining: 417ms\n",
      "649:\tlearn: 0.0177775\ttotal: 770ms\tremaining: 415ms\n",
      "650:\tlearn: 0.0177698\ttotal: 771ms\tremaining: 414ms\n",
      "651:\tlearn: 0.0177511\ttotal: 771ms\tremaining: 412ms\n",
      "652:\tlearn: 0.0177465\ttotal: 772ms\tremaining: 411ms\n",
      "653:\tlearn: 0.0177182\ttotal: 772ms\tremaining: 409ms\n",
      "654:\tlearn: 0.0177055\ttotal: 773ms\tremaining: 408ms\n",
      "655:\tlearn: 0.0176895\ttotal: 773ms\tremaining: 406ms\n",
      "656:\tlearn: 0.0176727\ttotal: 774ms\tremaining: 405ms\n",
      "657:\tlearn: 0.0176461\ttotal: 777ms\tremaining: 404ms\n",
      "658:\tlearn: 0.0176268\ttotal: 778ms\tremaining: 403ms\n",
      "659:\tlearn: 0.0176108\ttotal: 778ms\tremaining: 401ms\n",
      "660:\tlearn: 0.0175931\ttotal: 778ms\tremaining: 400ms\n",
      "661:\tlearn: 0.0175746\ttotal: 779ms\tremaining: 398ms\n",
      "662:\tlearn: 0.0175642\ttotal: 779ms\tremaining: 397ms\n",
      "663:\tlearn: 0.0175383\ttotal: 780ms\tremaining: 395ms\n",
      "664:\tlearn: 0.0175261\ttotal: 780ms\tremaining: 394ms\n",
      "665:\tlearn: 0.0174953\ttotal: 781ms\tremaining: 392ms\n",
      "666:\tlearn: 0.0174659\ttotal: 781ms\tremaining: 391ms\n",
      "667:\tlearn: 0.0174449\ttotal: 781ms\tremaining: 389ms\n",
      "668:\tlearn: 0.0174249\ttotal: 782ms\tremaining: 387ms\n",
      "669:\tlearn: 0.0174072\ttotal: 786ms\tremaining: 388ms\n",
      "670:\tlearn: 0.0173994\ttotal: 786ms\tremaining: 386ms\n",
      "671:\tlearn: 0.0173705\ttotal: 788ms\tremaining: 385ms\n",
      "672:\tlearn: 0.0173582\ttotal: 789ms\tremaining: 384ms\n",
      "673:\tlearn: 0.0173513\ttotal: 797ms\tremaining: 386ms\n",
      "674:\tlearn: 0.0173319\ttotal: 798ms\tremaining: 385ms\n",
      "675:\tlearn: 0.0173087\ttotal: 799ms\tremaining: 383ms\n",
      "676:\tlearn: 0.0172959\ttotal: 801ms\tremaining: 383ms\n",
      "677:\tlearn: 0.0172839\ttotal: 802ms\tremaining: 381ms\n",
      "678:\tlearn: 0.0172666\ttotal: 802ms\tremaining: 380ms\n",
      "679:\tlearn: 0.0172584\ttotal: 803ms\tremaining: 379ms\n",
      "680:\tlearn: 0.0172439\ttotal: 804ms\tremaining: 377ms\n",
      "681:\tlearn: 0.0172236\ttotal: 804ms\tremaining: 376ms\n",
      "682:\tlearn: 0.0172086\ttotal: 805ms\tremaining: 374ms\n",
      "683:\tlearn: 0.0171944\ttotal: 807ms\tremaining: 373ms\n",
      "684:\tlearn: 0.0171775\ttotal: 807ms\tremaining: 372ms\n",
      "685:\tlearn: 0.0171602\ttotal: 807ms\tremaining: 370ms\n",
      "686:\tlearn: 0.0171479\ttotal: 807ms\tremaining: 368ms\n",
      "687:\tlearn: 0.0171351\ttotal: 808ms\tremaining: 367ms\n",
      "688:\tlearn: 0.0171157\ttotal: 809ms\tremaining: 366ms\n",
      "689:\tlearn: 0.0171013\ttotal: 810ms\tremaining: 364ms\n",
      "690:\tlearn: 0.0170876\ttotal: 810ms\tremaining: 363ms\n",
      "691:\tlearn: 0.0170619\ttotal: 811ms\tremaining: 361ms\n",
      "692:\tlearn: 0.0170385\ttotal: 811ms\tremaining: 360ms\n",
      "693:\tlearn: 0.0170227\ttotal: 812ms\tremaining: 358ms\n",
      "694:\tlearn: 0.0170075\ttotal: 812ms\tremaining: 357ms\n",
      "695:\tlearn: 0.0169898\ttotal: 813ms\tremaining: 356ms\n",
      "696:\tlearn: 0.0169803\ttotal: 813ms\tremaining: 354ms\n",
      "697:\tlearn: 0.0169379\ttotal: 814ms\tremaining: 353ms\n",
      "698:\tlearn: 0.0169344\ttotal: 814ms\tremaining: 351ms\n",
      "699:\tlearn: 0.0169263\ttotal: 815ms\tremaining: 350ms\n",
      "700:\tlearn: 0.0169194\ttotal: 815ms\tremaining: 348ms\n",
      "701:\tlearn: 0.0168992\ttotal: 816ms\tremaining: 347ms\n",
      "702:\tlearn: 0.0168748\ttotal: 816ms\tremaining: 345ms\n",
      "703:\tlearn: 0.0168656\ttotal: 817ms\tremaining: 344ms\n",
      "704:\tlearn: 0.0168580\ttotal: 818ms\tremaining: 343ms\n",
      "705:\tlearn: 0.0168272\ttotal: 818ms\tremaining: 341ms\n",
      "706:\tlearn: 0.0168100\ttotal: 819ms\tremaining: 340ms\n",
      "707:\tlearn: 0.0167847\ttotal: 819ms\tremaining: 338ms\n",
      "708:\tlearn: 0.0167719\ttotal: 820ms\tremaining: 337ms\n",
      "709:\tlearn: 0.0167593\ttotal: 820ms\tremaining: 335ms\n",
      "710:\tlearn: 0.0167473\ttotal: 821ms\tremaining: 334ms\n",
      "711:\tlearn: 0.0167046\ttotal: 821ms\tremaining: 333ms\n",
      "712:\tlearn: 0.0166894\ttotal: 822ms\tremaining: 331ms\n",
      "713:\tlearn: 0.0166492\ttotal: 822ms\tremaining: 330ms\n",
      "714:\tlearn: 0.0166364\ttotal: 823ms\tremaining: 328ms\n",
      "715:\tlearn: 0.0166134\ttotal: 823ms\tremaining: 327ms\n",
      "716:\tlearn: 0.0166033\ttotal: 824ms\tremaining: 326ms\n",
      "717:\tlearn: 0.0165899\ttotal: 824ms\tremaining: 324ms\n",
      "718:\tlearn: 0.0165768\ttotal: 825ms\tremaining: 323ms\n",
      "719:\tlearn: 0.0165681\ttotal: 826ms\tremaining: 322ms\n",
      "720:\tlearn: 0.0165553\ttotal: 826ms\tremaining: 320ms\n",
      "721:\tlearn: 0.0165383\ttotal: 827ms\tremaining: 319ms\n",
      "722:\tlearn: 0.0165240\ttotal: 830ms\tremaining: 318ms\n",
      "723:\tlearn: 0.0165069\ttotal: 831ms\tremaining: 317ms\n",
      "724:\tlearn: 0.0164917\ttotal: 832ms\tremaining: 316ms\n",
      "725:\tlearn: 0.0164793\ttotal: 832ms\tremaining: 315ms\n",
      "726:\tlearn: 0.0164638\ttotal: 834ms\tremaining: 314ms\n",
      "727:\tlearn: 0.0164492\ttotal: 835ms\tremaining: 313ms\n",
      "728:\tlearn: 0.0164347\ttotal: 836ms\tremaining: 311ms\n",
      "729:\tlearn: 0.0164219\ttotal: 837ms\tremaining: 310ms\n",
      "730:\tlearn: 0.0164011\ttotal: 838ms\tremaining: 309ms\n",
      "731:\tlearn: 0.0163824\ttotal: 839ms\tremaining: 308ms\n",
      "732:\tlearn: 0.0163771\ttotal: 840ms\tremaining: 307ms\n",
      "733:\tlearn: 0.0163729\ttotal: 842ms\tremaining: 305ms\n",
      "734:\tlearn: 0.0163630\ttotal: 843ms\tremaining: 305ms\n",
      "735:\tlearn: 0.0163472\ttotal: 844ms\tremaining: 303ms\n",
      "736:\tlearn: 0.0163343\ttotal: 845ms\tremaining: 302ms\n",
      "737:\tlearn: 0.0163159\ttotal: 846ms\tremaining: 301ms\n",
      "738:\tlearn: 0.0163049\ttotal: 847ms\tremaining: 299ms\n",
      "739:\tlearn: 0.0162961\ttotal: 847ms\tremaining: 298ms\n",
      "740:\tlearn: 0.0162773\ttotal: 848ms\tremaining: 297ms\n",
      "741:\tlearn: 0.0162642\ttotal: 848ms\tremaining: 295ms\n",
      "742:\tlearn: 0.0162482\ttotal: 849ms\tremaining: 294ms\n",
      "743:\tlearn: 0.0162373\ttotal: 849ms\tremaining: 293ms\n",
      "744:\tlearn: 0.0162194\ttotal: 850ms\tremaining: 291ms\n",
      "745:\tlearn: 0.0161918\ttotal: 850ms\tremaining: 290ms\n",
      "746:\tlearn: 0.0161694\ttotal: 851ms\tremaining: 289ms\n",
      "747:\tlearn: 0.0161491\ttotal: 851ms\tremaining: 287ms\n",
      "748:\tlearn: 0.0161374\ttotal: 852ms\tremaining: 286ms\n",
      "749:\tlearn: 0.0161222\ttotal: 853ms\tremaining: 285ms\n",
      "750:\tlearn: 0.0161157\ttotal: 853ms\tremaining: 283ms\n",
      "751:\tlearn: 0.0161034\ttotal: 854ms\tremaining: 282ms\n",
      "752:\tlearn: 0.0160895\ttotal: 855ms\tremaining: 281ms\n",
      "753:\tlearn: 0.0160531\ttotal: 855ms\tremaining: 279ms\n",
      "754:\tlearn: 0.0160351\ttotal: 856ms\tremaining: 278ms\n",
      "755:\tlearn: 0.0160213\ttotal: 856ms\tremaining: 277ms\n",
      "756:\tlearn: 0.0160038\ttotal: 857ms\tremaining: 275ms\n",
      "757:\tlearn: 0.0159913\ttotal: 857ms\tremaining: 274ms\n",
      "758:\tlearn: 0.0159759\ttotal: 858ms\tremaining: 273ms\n",
      "759:\tlearn: 0.0159645\ttotal: 859ms\tremaining: 272ms\n",
      "760:\tlearn: 0.0159571\ttotal: 859ms\tremaining: 270ms\n",
      "761:\tlearn: 0.0159468\ttotal: 860ms\tremaining: 269ms\n",
      "762:\tlearn: 0.0159319\ttotal: 860ms\tremaining: 267ms\n",
      "763:\tlearn: 0.0159243\ttotal: 861ms\tremaining: 266ms\n",
      "764:\tlearn: 0.0159024\ttotal: 861ms\tremaining: 265ms\n",
      "765:\tlearn: 0.0158811\ttotal: 862ms\tremaining: 264ms\n",
      "766:\tlearn: 0.0158735\ttotal: 862ms\tremaining: 262ms\n",
      "767:\tlearn: 0.0158562\ttotal: 863ms\tremaining: 261ms\n",
      "768:\tlearn: 0.0158417\ttotal: 863ms\tremaining: 260ms\n",
      "769:\tlearn: 0.0158297\ttotal: 865ms\tremaining: 259ms\n",
      "770:\tlearn: 0.0158225\ttotal: 866ms\tremaining: 257ms\n",
      "771:\tlearn: 0.0158148\ttotal: 866ms\tremaining: 256ms\n",
      "772:\tlearn: 0.0158039\ttotal: 867ms\tremaining: 255ms\n",
      "773:\tlearn: 0.0157896\ttotal: 868ms\tremaining: 254ms\n",
      "774:\tlearn: 0.0157693\ttotal: 868ms\tremaining: 252ms\n",
      "775:\tlearn: 0.0157590\ttotal: 870ms\tremaining: 251ms\n",
      "776:\tlearn: 0.0157426\ttotal: 870ms\tremaining: 250ms\n",
      "777:\tlearn: 0.0157297\ttotal: 871ms\tremaining: 249ms\n",
      "778:\tlearn: 0.0157222\ttotal: 872ms\tremaining: 248ms\n",
      "779:\tlearn: 0.0157091\ttotal: 872ms\tremaining: 246ms\n"
     ]
    },
    {
     "name": "stdout",
     "output_type": "stream",
     "text": [
      "780:\tlearn: 0.0156982\ttotal: 873ms\tremaining: 245ms\n",
      "781:\tlearn: 0.0156841\ttotal: 873ms\tremaining: 244ms\n",
      "782:\tlearn: 0.0156726\ttotal: 874ms\tremaining: 242ms\n",
      "783:\tlearn: 0.0156605\ttotal: 879ms\tremaining: 242ms\n",
      "784:\tlearn: 0.0156506\ttotal: 879ms\tremaining: 241ms\n",
      "785:\tlearn: 0.0156419\ttotal: 880ms\tremaining: 240ms\n",
      "786:\tlearn: 0.0156294\ttotal: 880ms\tremaining: 239ms\n",
      "787:\tlearn: 0.0155745\ttotal: 881ms\tremaining: 237ms\n",
      "788:\tlearn: 0.0155604\ttotal: 881ms\tremaining: 236ms\n",
      "789:\tlearn: 0.0155468\ttotal: 882ms\tremaining: 235ms\n",
      "790:\tlearn: 0.0155334\ttotal: 882ms\tremaining: 233ms\n",
      "791:\tlearn: 0.0155239\ttotal: 883ms\tremaining: 232ms\n",
      "792:\tlearn: 0.0155155\ttotal: 883ms\tremaining: 231ms\n",
      "793:\tlearn: 0.0154821\ttotal: 884ms\tremaining: 230ms\n",
      "794:\tlearn: 0.0154703\ttotal: 885ms\tremaining: 228ms\n",
      "795:\tlearn: 0.0154642\ttotal: 885ms\tremaining: 227ms\n",
      "796:\tlearn: 0.0154276\ttotal: 886ms\tremaining: 226ms\n",
      "797:\tlearn: 0.0154214\ttotal: 886ms\tremaining: 225ms\n",
      "798:\tlearn: 0.0154078\ttotal: 887ms\tremaining: 223ms\n",
      "799:\tlearn: 0.0154020\ttotal: 887ms\tremaining: 222ms\n",
      "800:\tlearn: 0.0153924\ttotal: 888ms\tremaining: 221ms\n",
      "801:\tlearn: 0.0153573\ttotal: 889ms\tremaining: 220ms\n",
      "802:\tlearn: 0.0153387\ttotal: 889ms\tremaining: 218ms\n",
      "803:\tlearn: 0.0153290\ttotal: 890ms\tremaining: 217ms\n",
      "804:\tlearn: 0.0153159\ttotal: 890ms\tremaining: 216ms\n",
      "805:\tlearn: 0.0153033\ttotal: 891ms\tremaining: 215ms\n",
      "806:\tlearn: 0.0152919\ttotal: 891ms\tremaining: 213ms\n",
      "807:\tlearn: 0.0152374\ttotal: 892ms\tremaining: 212ms\n",
      "808:\tlearn: 0.0152058\ttotal: 892ms\tremaining: 211ms\n",
      "809:\tlearn: 0.0151977\ttotal: 893ms\tremaining: 210ms\n",
      "810:\tlearn: 0.0151868\ttotal: 893ms\tremaining: 208ms\n",
      "811:\tlearn: 0.0151754\ttotal: 895ms\tremaining: 207ms\n",
      "812:\tlearn: 0.0151563\ttotal: 895ms\tremaining: 206ms\n",
      "813:\tlearn: 0.0151496\ttotal: 896ms\tremaining: 205ms\n",
      "814:\tlearn: 0.0151394\ttotal: 896ms\tremaining: 204ms\n",
      "815:\tlearn: 0.0151225\ttotal: 896ms\tremaining: 202ms\n",
      "816:\tlearn: 0.0151070\ttotal: 896ms\tremaining: 201ms\n",
      "817:\tlearn: 0.0150925\ttotal: 897ms\tremaining: 200ms\n",
      "818:\tlearn: 0.0150875\ttotal: 897ms\tremaining: 198ms\n",
      "819:\tlearn: 0.0150821\ttotal: 897ms\tremaining: 197ms\n",
      "820:\tlearn: 0.0150740\ttotal: 898ms\tremaining: 196ms\n",
      "821:\tlearn: 0.0150423\ttotal: 898ms\tremaining: 195ms\n",
      "822:\tlearn: 0.0150126\ttotal: 898ms\tremaining: 193ms\n",
      "823:\tlearn: 0.0149955\ttotal: 899ms\tremaining: 192ms\n",
      "824:\tlearn: 0.0149897\ttotal: 899ms\tremaining: 191ms\n",
      "825:\tlearn: 0.0149769\ttotal: 900ms\tremaining: 190ms\n",
      "826:\tlearn: 0.0149665\ttotal: 901ms\tremaining: 189ms\n",
      "827:\tlearn: 0.0149542\ttotal: 901ms\tremaining: 187ms\n",
      "828:\tlearn: 0.0149227\ttotal: 901ms\tremaining: 186ms\n",
      "829:\tlearn: 0.0149038\ttotal: 901ms\tremaining: 185ms\n",
      "830:\tlearn: 0.0149004\ttotal: 902ms\tremaining: 184ms\n",
      "831:\tlearn: 0.0148887\ttotal: 902ms\tremaining: 182ms\n",
      "832:\tlearn: 0.0148846\ttotal: 902ms\tremaining: 181ms\n",
      "833:\tlearn: 0.0148662\ttotal: 903ms\tremaining: 180ms\n",
      "834:\tlearn: 0.0148536\ttotal: 903ms\tremaining: 179ms\n",
      "835:\tlearn: 0.0148361\ttotal: 904ms\tremaining: 177ms\n",
      "836:\tlearn: 0.0148279\ttotal: 905ms\tremaining: 176ms\n",
      "837:\tlearn: 0.0148149\ttotal: 905ms\tremaining: 175ms\n",
      "838:\tlearn: 0.0148068\ttotal: 905ms\tremaining: 174ms\n",
      "839:\tlearn: 0.0148001\ttotal: 906ms\tremaining: 173ms\n",
      "840:\tlearn: 0.0147765\ttotal: 906ms\tremaining: 171ms\n",
      "841:\tlearn: 0.0147543\ttotal: 906ms\tremaining: 170ms\n",
      "842:\tlearn: 0.0147375\ttotal: 907ms\tremaining: 169ms\n",
      "843:\tlearn: 0.0147252\ttotal: 907ms\tremaining: 168ms\n",
      "844:\tlearn: 0.0147132\ttotal: 907ms\tremaining: 167ms\n",
      "845:\tlearn: 0.0146980\ttotal: 907ms\tremaining: 165ms\n",
      "846:\tlearn: 0.0146884\ttotal: 908ms\tremaining: 164ms\n",
      "847:\tlearn: 0.0146837\ttotal: 908ms\tremaining: 163ms\n",
      "848:\tlearn: 0.0146689\ttotal: 910ms\tremaining: 162ms\n",
      "849:\tlearn: 0.0146588\ttotal: 911ms\tremaining: 161ms\n",
      "850:\tlearn: 0.0146484\ttotal: 912ms\tremaining: 160ms\n",
      "851:\tlearn: 0.0146460\ttotal: 912ms\tremaining: 159ms\n",
      "852:\tlearn: 0.0146369\ttotal: 913ms\tremaining: 158ms\n",
      "853:\tlearn: 0.0146307\ttotal: 914ms\tremaining: 156ms\n",
      "854:\tlearn: 0.0146213\ttotal: 915ms\tremaining: 155ms\n",
      "855:\tlearn: 0.0146152\ttotal: 915ms\tremaining: 154ms\n",
      "856:\tlearn: 0.0146039\ttotal: 916ms\tremaining: 153ms\n",
      "857:\tlearn: 0.0145977\ttotal: 916ms\tremaining: 152ms\n",
      "858:\tlearn: 0.0145861\ttotal: 917ms\tremaining: 151ms\n",
      "859:\tlearn: 0.0145821\ttotal: 917ms\tremaining: 150ms\n",
      "860:\tlearn: 0.0145580\ttotal: 918ms\tremaining: 148ms\n",
      "861:\tlearn: 0.0145469\ttotal: 918ms\tremaining: 147ms\n",
      "862:\tlearn: 0.0145424\ttotal: 918ms\tremaining: 146ms\n",
      "863:\tlearn: 0.0145321\ttotal: 919ms\tremaining: 145ms\n",
      "864:\tlearn: 0.0145209\ttotal: 919ms\tremaining: 144ms\n",
      "865:\tlearn: 0.0145008\ttotal: 919ms\tremaining: 142ms\n",
      "866:\tlearn: 0.0144909\ttotal: 919ms\tremaining: 141ms\n",
      "867:\tlearn: 0.0144867\ttotal: 920ms\tremaining: 140ms\n",
      "868:\tlearn: 0.0144784\ttotal: 920ms\tremaining: 139ms\n",
      "869:\tlearn: 0.0144687\ttotal: 921ms\tremaining: 138ms\n",
      "870:\tlearn: 0.0144614\ttotal: 922ms\tremaining: 137ms\n",
      "871:\tlearn: 0.0144528\ttotal: 922ms\tremaining: 135ms\n",
      "872:\tlearn: 0.0144404\ttotal: 922ms\tremaining: 134ms\n",
      "873:\tlearn: 0.0144265\ttotal: 922ms\tremaining: 133ms\n",
      "874:\tlearn: 0.0144008\ttotal: 923ms\tremaining: 132ms\n",
      "875:\tlearn: 0.0143914\ttotal: 923ms\tremaining: 131ms\n",
      "876:\tlearn: 0.0143810\ttotal: 923ms\tremaining: 130ms\n",
      "877:\tlearn: 0.0143739\ttotal: 924ms\tremaining: 129ms\n",
      "878:\tlearn: 0.0143637\ttotal: 924ms\tremaining: 127ms\n",
      "879:\tlearn: 0.0143570\ttotal: 924ms\tremaining: 126ms\n",
      "880:\tlearn: 0.0143470\ttotal: 925ms\tremaining: 125ms\n",
      "881:\tlearn: 0.0143403\ttotal: 926ms\tremaining: 124ms\n",
      "882:\tlearn: 0.0143285\ttotal: 926ms\tremaining: 123ms\n",
      "883:\tlearn: 0.0143198\ttotal: 928ms\tremaining: 122ms\n",
      "884:\tlearn: 0.0143143\ttotal: 928ms\tremaining: 121ms\n",
      "885:\tlearn: 0.0142847\ttotal: 928ms\tremaining: 120ms\n",
      "886:\tlearn: 0.0142798\ttotal: 929ms\tremaining: 118ms\n",
      "887:\tlearn: 0.0142671\ttotal: 929ms\tremaining: 117ms\n",
      "888:\tlearn: 0.0142570\ttotal: 929ms\tremaining: 116ms\n",
      "889:\tlearn: 0.0142504\ttotal: 929ms\tremaining: 115ms\n",
      "890:\tlearn: 0.0142466\ttotal: 930ms\tremaining: 114ms\n",
      "891:\tlearn: 0.0142352\ttotal: 930ms\tremaining: 113ms\n",
      "892:\tlearn: 0.0142254\ttotal: 930ms\tremaining: 112ms\n",
      "893:\tlearn: 0.0142108\ttotal: 931ms\tremaining: 111ms\n",
      "894:\tlearn: 0.0142042\ttotal: 931ms\tremaining: 109ms\n",
      "895:\tlearn: 0.0141882\ttotal: 932ms\tremaining: 108ms\n",
      "896:\tlearn: 0.0141785\ttotal: 933ms\tremaining: 107ms\n",
      "897:\tlearn: 0.0141715\ttotal: 934ms\tremaining: 106ms\n",
      "898:\tlearn: 0.0141586\ttotal: 934ms\tremaining: 105ms\n",
      "899:\tlearn: 0.0141527\ttotal: 936ms\tremaining: 104ms\n",
      "900:\tlearn: 0.0141452\ttotal: 939ms\tremaining: 103ms\n",
      "901:\tlearn: 0.0141245\ttotal: 940ms\tremaining: 102ms\n",
      "902:\tlearn: 0.0140955\ttotal: 940ms\tremaining: 101ms\n",
      "903:\tlearn: 0.0140679\ttotal: 940ms\tremaining: 100ms\n",
      "904:\tlearn: 0.0140535\ttotal: 941ms\tremaining: 98.9ms\n",
      "905:\tlearn: 0.0140375\ttotal: 941ms\tremaining: 97.7ms\n",
      "906:\tlearn: 0.0140289\ttotal: 942ms\tremaining: 96.6ms\n",
      "907:\tlearn: 0.0140169\ttotal: 942ms\tremaining: 95.5ms\n",
      "908:\tlearn: 0.0139996\ttotal: 943ms\tremaining: 94.6ms\n",
      "909:\tlearn: 0.0139900\ttotal: 946ms\tremaining: 93.6ms\n",
      "910:\tlearn: 0.0139753\ttotal: 946ms\tremaining: 92.6ms\n",
      "911:\tlearn: 0.0139631\ttotal: 947ms\tremaining: 91.5ms\n",
      "912:\tlearn: 0.0139560\ttotal: 948ms\tremaining: 90.5ms\n",
      "913:\tlearn: 0.0139511\ttotal: 949ms\tremaining: 89.4ms\n",
      "914:\tlearn: 0.0139385\ttotal: 949ms\tremaining: 88.3ms\n",
      "915:\tlearn: 0.0139296\ttotal: 950ms\tremaining: 87.2ms\n",
      "916:\tlearn: 0.0139190\ttotal: 950ms\tremaining: 86.1ms\n",
      "917:\tlearn: 0.0139097\ttotal: 951ms\tremaining: 85ms\n",
      "918:\tlearn: 0.0139011\ttotal: 951ms\tremaining: 83.9ms\n",
      "919:\tlearn: 0.0138901\ttotal: 951ms\tremaining: 82.8ms\n",
      "920:\tlearn: 0.0138841\ttotal: 952ms\tremaining: 81.7ms\n",
      "921:\tlearn: 0.0138717\ttotal: 952ms\tremaining: 80.6ms\n",
      "922:\tlearn: 0.0138523\ttotal: 952ms\tremaining: 79.5ms\n",
      "923:\tlearn: 0.0138436\ttotal: 953ms\tremaining: 78.4ms\n",
      "924:\tlearn: 0.0138295\ttotal: 955ms\tremaining: 77.5ms\n",
      "925:\tlearn: 0.0138240\ttotal: 955ms\tremaining: 76.4ms\n",
      "926:\tlearn: 0.0138198\ttotal: 955ms\tremaining: 75.3ms\n",
      "927:\tlearn: 0.0138100\ttotal: 955ms\tremaining: 74.2ms\n",
      "928:\tlearn: 0.0138003\ttotal: 956ms\tremaining: 73.1ms\n",
      "929:\tlearn: 0.0137930\ttotal: 956ms\tremaining: 72.1ms\n",
      "930:\tlearn: 0.0137844\ttotal: 957ms\tremaining: 71ms\n",
      "931:\tlearn: 0.0137751\ttotal: 957ms\tremaining: 69.9ms\n",
      "932:\tlearn: 0.0137588\ttotal: 958ms\tremaining: 68.9ms\n",
      "933:\tlearn: 0.0137475\ttotal: 958ms\tremaining: 67.8ms\n",
      "934:\tlearn: 0.0137215\ttotal: 958ms\tremaining: 66.7ms\n",
      "935:\tlearn: 0.0137080\ttotal: 960ms\tremaining: 65.7ms\n",
      "936:\tlearn: 0.0136680\ttotal: 961ms\tremaining: 64.7ms\n",
      "937:\tlearn: 0.0136606\ttotal: 961ms\tremaining: 63.6ms\n",
      "938:\tlearn: 0.0136518\ttotal: 962ms\tremaining: 62.5ms\n",
      "939:\tlearn: 0.0136398\ttotal: 962ms\tremaining: 61.5ms\n",
      "940:\tlearn: 0.0136262\ttotal: 962ms\tremaining: 60.4ms\n",
      "941:\tlearn: 0.0136138\ttotal: 963ms\tremaining: 59.3ms\n",
      "942:\tlearn: 0.0136098\ttotal: 963ms\tremaining: 58.3ms\n",
      "943:\tlearn: 0.0136040\ttotal: 963ms\tremaining: 57.2ms\n",
      "944:\tlearn: 0.0135997\ttotal: 963ms\tremaining: 56.1ms\n",
      "945:\tlearn: 0.0135812\ttotal: 964ms\tremaining: 55.1ms\n",
      "946:\tlearn: 0.0135730\ttotal: 964ms\tremaining: 54ms\n",
      "947:\tlearn: 0.0135670\ttotal: 964ms\tremaining: 53ms\n",
      "948:\tlearn: 0.0135623\ttotal: 965ms\tremaining: 51.9ms\n",
      "949:\tlearn: 0.0135568\ttotal: 966ms\tremaining: 50.9ms\n",
      "950:\tlearn: 0.0135516\ttotal: 967ms\tremaining: 49.9ms\n",
      "951:\tlearn: 0.0135468\ttotal: 967ms\tremaining: 48.8ms\n",
      "952:\tlearn: 0.0135381\ttotal: 967ms\tremaining: 47.8ms\n",
      "953:\tlearn: 0.0135263\ttotal: 968ms\tremaining: 46.7ms\n",
      "954:\tlearn: 0.0135138\ttotal: 968ms\tremaining: 45.7ms\n",
      "955:\tlearn: 0.0134911\ttotal: 968ms\tremaining: 44.6ms\n",
      "956:\tlearn: 0.0134763\ttotal: 969ms\tremaining: 43.6ms\n",
      "957:\tlearn: 0.0134726\ttotal: 969ms\tremaining: 42.5ms\n",
      "958:\tlearn: 0.0134666\ttotal: 970ms\tremaining: 41.5ms\n",
      "959:\tlearn: 0.0134622\ttotal: 970ms\tremaining: 40.5ms\n",
      "960:\tlearn: 0.0134552\ttotal: 971ms\tremaining: 39.5ms\n",
      "961:\tlearn: 0.0134434\ttotal: 971ms\tremaining: 38.4ms\n",
      "962:\tlearn: 0.0134339\ttotal: 972ms\tremaining: 37.4ms\n",
      "963:\tlearn: 0.0134289\ttotal: 972ms\tremaining: 36.3ms\n",
      "964:\tlearn: 0.0134243\ttotal: 972ms\tremaining: 35.3ms\n",
      "965:\tlearn: 0.0134189\ttotal: 973ms\tremaining: 34.3ms\n",
      "966:\tlearn: 0.0133902\ttotal: 973ms\tremaining: 33.2ms\n",
      "967:\tlearn: 0.0133657\ttotal: 973ms\tremaining: 32.2ms\n",
      "968:\tlearn: 0.0133633\ttotal: 974ms\tremaining: 31.2ms\n",
      "969:\tlearn: 0.0133516\ttotal: 974ms\tremaining: 30.2ms\n",
      "970:\tlearn: 0.0133355\ttotal: 975ms\tremaining: 29.1ms\n",
      "971:\tlearn: 0.0133280\ttotal: 975ms\tremaining: 28.1ms\n",
      "972:\tlearn: 0.0133237\ttotal: 975ms\tremaining: 27.1ms\n",
      "973:\tlearn: 0.0133154\ttotal: 976ms\tremaining: 26.1ms\n",
      "974:\tlearn: 0.0133087\ttotal: 978ms\tremaining: 25.1ms\n",
      "975:\tlearn: 0.0132952\ttotal: 980ms\tremaining: 24.1ms\n",
      "976:\tlearn: 0.0132881\ttotal: 980ms\tremaining: 23.1ms\n",
      "977:\tlearn: 0.0132839\ttotal: 981ms\tremaining: 22.1ms\n",
      "978:\tlearn: 0.0132793\ttotal: 981ms\tremaining: 21.1ms\n",
      "979:\tlearn: 0.0132669\ttotal: 981ms\tremaining: 20ms\n",
      "980:\tlearn: 0.0132607\ttotal: 981ms\tremaining: 19ms\n",
      "981:\tlearn: 0.0132227\ttotal: 984ms\tremaining: 18.1ms\n",
      "982:\tlearn: 0.0132145\ttotal: 984ms\tremaining: 17ms\n",
      "983:\tlearn: 0.0132026\ttotal: 985ms\tremaining: 16ms\n",
      "984:\tlearn: 0.0131921\ttotal: 987ms\tremaining: 15ms\n",
      "985:\tlearn: 0.0131814\ttotal: 988ms\tremaining: 14ms\n",
      "986:\tlearn: 0.0131671\ttotal: 988ms\tremaining: 13ms\n",
      "987:\tlearn: 0.0131508\ttotal: 988ms\tremaining: 12ms\n",
      "988:\tlearn: 0.0131412\ttotal: 989ms\tremaining: 11ms\n",
      "989:\tlearn: 0.0131325\ttotal: 989ms\tremaining: 10ms\n",
      "990:\tlearn: 0.0131283\ttotal: 990ms\tremaining: 9ms\n",
      "991:\tlearn: 0.0131241\ttotal: 991ms\tremaining: 8ms\n",
      "992:\tlearn: 0.0131164\ttotal: 991ms\tremaining: 7ms\n",
      "993:\tlearn: 0.0131054\ttotal: 992ms\tremaining: 5.99ms\n",
      "994:\tlearn: 0.0130992\ttotal: 992ms\tremaining: 4.99ms\n",
      "995:\tlearn: 0.0130959\ttotal: 993ms\tremaining: 3.99ms\n",
      "996:\tlearn: 0.0130841\ttotal: 993ms\tremaining: 2.99ms\n",
      "997:\tlearn: 0.0130757\ttotal: 994ms\tremaining: 1.99ms\n",
      "998:\tlearn: 0.0130621\ttotal: 994ms\tremaining: 996us\n",
      "999:\tlearn: 0.0130572\ttotal: 996ms\tremaining: 0us\n"
     ]
    },
    {
     "data": {
      "text/plain": [
       "<catboost.core.CatBoostRegressor at 0x7fd1085b7e50>"
      ]
     },
     "execution_count": 9,
     "metadata": {},
     "output_type": "execute_result"
    }
   ],
   "source": [
    "#Train the Model \n",
    "prior_model = ctb.CatBoostRegressor()\n",
    "prior_model.fit(X_train,Y_train)"
   ]
  },
  {
   "cell_type": "code",
   "execution_count": 10,
   "id": "af65dcda",
   "metadata": {
    "execution": {
     "iopub.execute_input": "2022-07-24T12:49:00.188503Z",
     "iopub.status.busy": "2022-07-24T12:49:00.187438Z",
     "iopub.status.idle": "2022-07-24T12:49:00.270493Z",
     "shell.execute_reply": "2022-07-24T12:49:00.267075Z"
    },
    "id": "af65dcda",
    "papermill": {
     "duration": 0.109687,
     "end_time": "2022-07-24T12:49:00.278604",
     "exception": false,
     "start_time": "2022-07-24T12:49:00.168917",
     "status": "completed"
    },
    "tags": []
   },
   "outputs": [
    {
     "data": {
      "application/scrapbook.scrap.json+json": {
       "data": 0.0011277023423907405,
       "encoder": "json",
       "name": "Prior Model MSE",
       "version": 1
      }
     },
     "metadata": {
      "scrapbook": {
       "data": true,
       "display": false,
       "name": "Prior Model MSE"
      }
     },
     "output_type": "display_data"
    },
    {
     "data": {
      "application/scrapbook.scrap.json+json": {
       "data": 1.0477356582827058,
       "encoder": "json",
       "name": "ABC Pre-generator MSE",
       "version": 1
      }
     },
     "metadata": {
      "scrapbook": {
       "data": true,
       "display": false,
       "name": "ABC Pre-generator MSE"
      }
     },
     "output_type": "display_data"
    },
    {
     "data": {
      "application/scrapbook.scrap.json+json": {
       "data": 0.020698996792348368,
       "encoder": "json",
       "name": "Prior Model MAE",
       "version": 1
      }
     },
     "metadata": {
      "scrapbook": {
       "data": true,
       "display": false,
       "name": "Prior Model MAE"
      }
     },
     "output_type": "display_data"
    },
    {
     "name": "stdout",
     "output_type": "stream",
     "text": [
      "Prior Model MAE 0.020698996792348368\n",
      "ABC Pre-generator MAE 1.0181163658562653\n"
     ]
    }
   ],
   "source": [
    "y_pred = prior_model.predict(X_test)\n",
    "y_abc = y_pred + np.random.normal(0,variance, y_pred.shape) + bias \n",
    "mse = mean_squared_error(y_pred,Y_test)\n",
    "sb.glue(\"Prior Model MSE\",mse)\n",
    "mse = mean_squared_error(y_abc,Y_test)\n",
    "sb.glue(\"ABC Pre-generator MSE\",mse)\n",
    "mae = mean_absolute_error(y_pred,Y_test)\n",
    "sb.glue(\"Prior Model MAE\",mae)\n",
    "print(\"Prior Model MAE\",mae)\n",
    "mae = mean_absolute_error(y_abc,Y_test)\n",
    "print(\"ABC Pre-generator MAE\",mae)"
   ]
  },
  {
   "cell_type": "markdown",
   "id": "25609da2",
   "metadata": {
    "papermill": {
     "duration": 0.015838,
     "end_time": "2022-07-24T12:49:00.312823",
     "exception": false,
     "start_time": "2022-07-24T12:49:00.296985",
     "status": "completed"
    },
    "tags": []
   },
   "source": [
    "# mGAN Model"
   ]
  },
  {
   "cell_type": "code",
   "execution_count": 11,
   "id": "dfc3464d",
   "metadata": {
    "execution": {
     "iopub.execute_input": "2022-07-24T12:49:00.343120Z",
     "iopub.status.busy": "2022-07-24T12:49:00.342520Z",
     "iopub.status.idle": "2022-07-24T12:49:00.358651Z",
     "shell.execute_reply": "2022-07-24T12:49:00.349443Z"
    },
    "papermill": {
     "duration": 0.05082,
     "end_time": "2022-07-24T12:49:00.376798",
     "exception": false,
     "start_time": "2022-07-24T12:49:00.325978",
     "status": "completed"
    },
    "tags": []
   },
   "outputs": [],
   "source": [
    "# gen = network.Generator(n_features+1).to(device)\n",
    "# disc = network.Discriminator(n_features+1).to(device)\n",
    "\n",
    "# criterion = torch.nn.BCELoss()\n",
    "# gen_opt = torch.optim.Adam(gen.parameters(), lr=0.01, betas=(0.5, 0.999))\n",
    "# disc_opt = torch.optim.Adam(disc.parameters(), lr=0.01, betas=(0.5, 0.999))"
   ]
  },
  {
   "cell_type": "code",
   "execution_count": 12,
   "id": "b75fdd85",
   "metadata": {
    "execution": {
     "iopub.execute_input": "2022-07-24T12:49:00.410097Z",
     "iopub.status.busy": "2022-07-24T12:49:00.409517Z",
     "iopub.status.idle": "2022-07-24T12:49:00.423786Z",
     "shell.execute_reply": "2022-07-24T12:49:00.421418Z"
    },
    "papermill": {
     "duration": 0.042919,
     "end_time": "2022-07-24T12:49:00.438926",
     "exception": false,
     "start_time": "2022-07-24T12:49:00.396007",
     "status": "completed"
    },
    "tags": []
   },
   "outputs": [],
   "source": [
    "#Training the ABC_GAN \n",
    "# ABC_train_test2.training_GAN(disc,gen,disc_opt,gen_opt,train_data,batch_size,n_epochs,criterion,prior_model,variance,bias,device)"
   ]
  },
  {
   "cell_type": "code",
   "execution_count": 13,
   "id": "1fa7c368",
   "metadata": {
    "execution": {
     "iopub.execute_input": "2022-07-24T12:49:00.486606Z",
     "iopub.status.busy": "2022-07-24T12:49:00.486249Z",
     "iopub.status.idle": "2022-07-24T12:49:00.499202Z",
     "shell.execute_reply": "2022-07-24T12:49:00.492072Z"
    },
    "papermill": {
     "duration": 0.047245,
     "end_time": "2022-07-24T12:49:00.511674",
     "exception": false,
     "start_time": "2022-07-24T12:49:00.464429",
     "status": "completed"
    },
    "tags": []
   },
   "outputs": [],
   "source": [
    "# ABC_GAN1_metrics=ABC_train_test2.test_generator(gen,test_data,prior_model,variance,bias,\"1\",device)\n",
    "# sb.glue(\"ABC_GAN_1 Metrics\",ABC_GAN1_metrics)\n",
    "\n",
    "# print(\"MAE\")\n",
    "# print(mean(ABC_GAN1_metrics[1]))"
   ]
  },
  {
   "cell_type": "code",
   "execution_count": 14,
   "id": "eb22ce5c",
   "metadata": {
    "execution": {
     "iopub.execute_input": "2022-07-24T12:49:00.575894Z",
     "iopub.status.busy": "2022-07-24T12:49:00.571617Z",
     "iopub.status.idle": "2022-07-24T12:49:00.583920Z",
     "shell.execute_reply": "2022-07-24T12:49:00.582409Z"
    },
    "papermill": {
     "duration": 0.055643,
     "end_time": "2022-07-24T12:49:00.594056",
     "exception": false,
     "start_time": "2022-07-24T12:49:00.538413",
     "status": "completed"
    },
    "tags": []
   },
   "outputs": [],
   "source": [
    "# sanityChecks.discProbVsError(train_data,disc,device)\n",
    "# sanityChecks.discProbVsError(test_data,disc,device)"
   ]
  },
  {
   "cell_type": "markdown",
   "id": "c5bf8020",
   "metadata": {
    "papermill": {
     "duration": 0.023178,
     "end_time": "2022-07-24T12:49:00.637314",
     "exception": false,
     "start_time": "2022-07-24T12:49:00.614136",
     "status": "completed"
    },
    "tags": []
   },
   "source": [
    "# mGAN Model with TabNet Generator"
   ]
  },
  {
   "cell_type": "code",
   "execution_count": 15,
   "id": "3974d3fb",
   "metadata": {
    "execution": {
     "iopub.execute_input": "2022-07-24T12:49:00.700979Z",
     "iopub.status.busy": "2022-07-24T12:49:00.698228Z",
     "iopub.status.idle": "2022-07-24T12:49:00.716815Z",
     "shell.execute_reply": "2022-07-24T12:49:00.714653Z"
    },
    "papermill": {
     "duration": 0.067591,
     "end_time": "2022-07-24T12:49:00.727440",
     "exception": false,
     "start_time": "2022-07-24T12:49:00.659849",
     "status": "completed"
    },
    "tags": []
   },
   "outputs": [],
   "source": [
    "gen2 = network.GeneratorTabnet(n_features+1).to(device)\n",
    "disc2 = network.Discriminator(n_features+1).to(device)\n",
    "\n",
    "criterion = torch.nn.BCELoss()\n",
    "gen_opt = torch.optim.Adam(gen2.parameters(), lr=0.01, betas=(0.5, 0.999))\n",
    "disc_opt = torch.optim.Adam(disc2.parameters(), lr=0.01, betas=(0.5, 0.999))"
   ]
  },
  {
   "cell_type": "code",
   "execution_count": 16,
   "id": "6f1262d6",
   "metadata": {
    "execution": {
     "iopub.execute_input": "2022-07-24T12:49:00.764092Z",
     "iopub.status.busy": "2022-07-24T12:49:00.762812Z",
     "iopub.status.idle": "2022-07-24T12:52:40.212482Z",
     "shell.execute_reply": "2022-07-24T12:52:40.211475Z"
    },
    "papermill": {
     "duration": 219.470935,
     "end_time": "2022-07-24T12:52:40.215433",
     "exception": false,
     "start_time": "2022-07-24T12:49:00.744498",
     "status": "completed"
    },
    "tags": []
   },
   "outputs": [
    {
     "data": {
      "image/png": "[encoded data removed]",
      "text/plain": [
       "<Figure size 432x288 with 1 Axes>"
      ]
     },
     "metadata": {
      "needs_background": "light"
     },
     "output_type": "display_data"
    },
    {
     "data": {
      "image/png": "[encoded data removed]",
      "text/plain": [
       "<Figure size 432x288 with 1 Axes>"
      ]
     },
     "metadata": {
      "needs_background": "light"
     },
     "output_type": "display_data"
    }
   ],
   "source": [
    "#Training the ABC_GAN \n",
    "ABC_train_test2.training_GAN(disc2,gen2,disc_opt,gen_opt,train_data,batch_size,n_epochs,criterion,prior_model,variance,bias,device)"
   ]
  },
  {
   "cell_type": "code",
   "execution_count": 17,
   "id": "6d5636cc",
   "metadata": {
    "execution": {
     "iopub.execute_input": "2022-07-24T12:52:40.259881Z",
     "iopub.status.busy": "2022-07-24T12:52:40.259518Z",
     "iopub.status.idle": "2022-07-24T12:52:41.077327Z",
     "shell.execute_reply": "2022-07-24T12:52:41.076090Z"
    },
    "papermill": {
     "duration": 0.851477,
     "end_time": "2022-07-24T12:52:41.083525",
     "exception": false,
     "start_time": "2022-07-24T12:52:40.232048",
     "status": "completed"
    },
    "tags": []
   },
   "outputs": [
    {
     "data": {
      "application/scrapbook.scrap.json+json": {
       "data": 0.0043881934263806785,
       "encoder": "json",
       "name": "ABC-GAN Model 1 MSE",
       "version": 1
      }
     },
     "metadata": {
      "scrapbook": {
       "data": true,
       "display": false,
       "name": "ABC-GAN Model 1 MSE"
      }
     },
     "output_type": "display_data"
    },
    {
     "data": {
      "application/scrapbook.scrap.json+json": {
       "data": 0.04635496548534214,
       "encoder": "json",
       "name": "ABC-GAN Model 1 MAE",
       "version": 1
      }
     },
     "metadata": {
      "scrapbook": {
       "data": true,
       "display": false,
       "name": "ABC-GAN Model 1 MAE"
      }
     },
     "output_type": "display_data"
    },
    {
     "data": {
      "application/scrapbook.scrap.json+json": {
       "data": 7.13866468474269,
       "encoder": "json",
       "name": "ABC-GAN Model 1 Manhattan Distance",
       "version": 1
      }
     },
     "metadata": {
      "scrapbook": {
       "data": true,
       "display": false,
       "name": "ABC-GAN Model 1 Manhattan Distance"
      }
     },
     "output_type": "display_data"
    },
    {
     "data": {
      "application/scrapbook.scrap.json+json": {
       "data": 0.8205917805766335,
       "encoder": "json",
       "name": "ABC-GAN Model 1 Euclidean distance",
       "version": 1
      }
     },
     "metadata": {
      "scrapbook": {
       "data": true,
       "display": false,
       "name": "ABC-GAN Model 1 Euclidean distance"
      }
     },
     "output_type": "display_data"
    },
    {
     "data": {
      "application/scrapbook.scrap.json+json": {
       "data": [
        [
         0.003993297404259027,
         0.005538919623201212,
         0.0043237565867592686,
         0.004073227864729896,
         0.003762288009092763,
         0.00434731055912936,
         0.004272519011014829,
         0.004579709813720749,
         0.0036576511561110274,
         0.004195676497486201,
         0.003999539221878176,
         0.003854576300858661,
         0.003924806084076785,
         0.005751964381354899,
         0.004669915179974882,
         0.0043815443969200145,
         0.004445370492095823,
         0.00393050603965109,
         0.0038261655701087613,
         0.004119930269586759,
         0.003943716141714076,
         0.004221327618531137,
         0.004778405464886718,
         0.004430216946116922,
         0.004436070124415426,
         0.004077125741206779,
         0.003859954933443953,
         0.004473979321786905,
         0.004909840167125188,
         0.0045686335486755285,
         0.004770634467880198,
         0.004025366620234359,
         0.004281134195431604,
         0.004779502188956592,
         0.003988333091719672,
         0.0041007911083783925,
         0.0037147876664425073,
         0.004093243333621141,
         0.004102506573272973,
         0.004258488500633985,
         0.00384929199381494,
         0.004408456735578956,
         0.004586158522014684,
         0.004201367597314909,
         0.00458635573610451,
         0.004475419012315735,
         0.003969932342858366,
         0.004965715137894492,
         0.004714899771007417,
         0.004216510987931585,
         0.004429661674200694,
         0.003951318937008274,
         0.004634070207454876,
         0.004858257789719373,
         0.003990063591945807,
         0.0051324065230020826,
         0.005404531617213477,
         0.003911949188351472,
         0.004005997211439121,
         0.0035774563314800198,
         0.004478516072255392,
         0.0037680806176567695,
         0.004418290251384534,
         0.004540580331326637,
         0.0035865359013736156,
         0.0046620793840644525,
         0.004050730783642993,
         0.006292636619661221,
         0.0036618590872494355,
         0.005361964057442054,
         0.005102819077099685,
         0.0045233773077236455,
         0.004624673758980648,
         0.003915139643690877,
         0.0038301532625950457,
         0.004675771392365372,
         0.0038530553676300945,
         0.005749967794375827,
         0.004633545286095642,
         0.004529393790970029,
         0.003781135078772226,
         0.0043213371610673216,
         0.004456299900101782,
         0.003752764222349318,
         0.004148873320515349,
         0.004362696599995702,
         0.00440860100976566,
         0.006038076617265787,
         0.0042729985246285854,
         0.003980904834841437,
         0.004054224208906295,
         0.004026147062134735,
         0.004569008275368315,
         0.00413631321341608,
         0.004666725540256318,
         0.0044170313188358545,
         0.005833540006280737,
         0.004139202890055761,
         0.005037811906616405,
         0.004823928034175186
        ],
        [
         0.04478507926808549,
         0.04787242705268519,
         0.0465165881996418,
         0.04643263641212668,
         0.04405149877942228,
         0.04683868260449403,
         0.04485527438099508,
         0.047207845133039855,
         0.04441853082896053,
         0.045187138722507986,
         0.04569037493269939,
         0.045880832479565176,
         0.0444651348879198,
         0.048461563812641356,
         0.04835429751350508,
         0.04621956761103946,
         0.04624265067085817,
         0.04454179420196391,
         0.04471931599274084,
         0.04599702012326036,
         0.04515453575590214,
         0.04657575161522859,
         0.04727040872268089,
         0.04643901933420014,
         0.04580006431546304,
         0.045146284383032226,
         0.04526720537090456,
         0.04733493075065025,
         0.04952747599741855,
         0.048270310118020354,
         0.04714486682666587,
         0.045716197483918884,
         0.04663360276102246,
         0.04765184884044257,
         0.04576713507148353,
         0.044754542144281526,
         0.043580961329015816,
         0.04598411533062334,
         0.04647917893122543,
         0.046132625528163725,
         0.045296689350303114,
         0.04772776909559578,
         0.04728968676131267,
         0.04677521526910268,
         0.04702294455816994,
         0.047610476056670216,
         0.0451221897859465,
         0.04802365893764155,
         0.04653574954476449,
         0.04753420262464455,
         0.04545665408980537,
         0.044711991201166985,
         0.04728113194661481,
         0.04757603057115883,
         0.04615659549735583,
         0.04706336715101422,
         0.04852760304975045,
         0.04414008018355091,
         0.04687673126819072,
         0.04386821004574175,
         0.0475211072132572,
         0.0440656930063065,
         0.046571706046725246,
         0.04732562313702973,
         0.044945461820665895,
         0.046621826973247835,
         0.04585698017149002,
         0.050145513849792545,
         0.04480250046721527,
         0.04855960687356336,
         0.04920769611059071,
         0.04744694471456014,
         0.0466618820686232,
         0.04503925630895348,
         0.04416728796219671,
         0.04745458939729573,
         0.04518688075824991,
         0.04916461008032421,
         0.04727678003345991,
         0.045909845427452745,
         0.045081285130861515,
         0.04610056500252965,
         0.04685065462314463,
         0.04424627166386549,
         0.04579013472350387,
         0.04587159046975823,
         0.046460767095158624,
         0.048838767549627786,
         0.04645055186535631,
         0.044244433208913,
         0.04534367251802574,
         0.044935223755317846,
         0.04817761734805324,
         0.04557766177534283,
         0.046382797446537324,
         0.04763808384440936,
         0.047757346352392975,
         0.04475112668202295,
         0.04799208202242077,
         0.04710783182897351
        ],
        [
         6.896902207285166,
         7.37235376611352,
         7.163554582744837,
         7.150626007467508,
         6.783930812031031,
         7.213157121092081,
         6.907712254673243,
         7.270008150488138,
         6.840453747659922,
         6.95881936326623,
         7.036317739635706,
         7.065648201853037,
         6.847630772739649,
         7.463080827146769,
         7.4465618170797825,
         7.117813412100077,
         7.121368203312159,
         6.859436307102442,
         6.88677466288209,
         7.083541098982096,
         6.95379850640893,
         7.172665748745203,
         7.279642943292856,
         7.151608977466822,
         7.053209904581308,
         6.952527794986963,
         6.971149627119303,
         7.289579335600138,
         7.627231303602457,
         7.433627758175135,
         7.260309491306543,
         7.040294412523508,
         7.181574825197458,
         7.338384721428156,
         7.048138801008463,
         6.892199490219355,
         6.711468044668436,
         7.081553760915995,
         7.157793555408716,
         7.1044243313372135,
         6.97569015994668,
         7.35007644072175,
         7.282611761242151,
         7.2033831514418125,
         7.24153346195817,
         7.332013312727213,
         6.948817227035761,
         7.395643476396799,
         7.166505429893732,
         7.320267204195261,
         7.000324729830027,
         6.885646644979715,
         7.281294319778681,
         7.32670870795846,
         7.108115706592798,
         7.247758541256189,
         7.47325086966157,
         6.79757234826684,
         7.219016615301371,
         6.7557043470442295,
         7.318250510841608,
         6.786116722971201,
         7.172042731195688,
         7.288145963102579,
         6.921601120382547,
         7.179761353880167,
         7.061974946409464,
         7.7224091328680515,
         6.899585071951151,
         7.478179458528757,
         7.57798520103097,
         7.306829486042261,
         7.185929838567972,
         6.936045471578836,
         6.801762346178293,
         7.308006767183542,
         6.958779636770487,
         7.571349952369928,
         7.280624125152826,
         7.0701161958277225,
         6.942517910152674,
         7.099487010389566,
         7.2150008119642735,
         6.813925836235285,
         7.051680747419596,
         7.064224932342768,
         7.1549581326544285,
         7.521170202642679,
         7.153384987264872,
         6.813642714172602,
         6.982925567775965,
         6.920024458318949,
         7.419353071600199,
         7.018959913402796,
         7.142950806766748,
         7.3362649120390415,
         7.3546313382685184,
         6.891673509031534,
         7.390780631452799,
         7.2546061016619205
        ],
        [
         0.7841988269921667,
         0.9235765382322066,
         0.8160015406608785,
         0.7920082645833968,
         0.7611782665054787,
         0.8182211352109657,
         0.8111522222716792,
         0.839806710685855,
         0.750518672679833,
         0.8038247200807369,
         0.7848114679139437,
         0.770457494176177,
         0.7774446198590771,
         0.9411708212267603,
         0.8480371086904935,
         0.8214364474052038,
         0.8273977615287322,
         0.7780089524589469,
         0.7676128567166846,
         0.7965357879696058,
         0.7793152672853059,
         0.8062781488132958,
         0.8578312430732251,
         0.8259863253722824,
         0.8265317895640649,
         0.7923871302247684,
         0.7709948506639773,
         0.8300559111018867,
         0.8695489553425264,
         0.8387905379151767,
         0.857133424884102,
         0.7873413868939517,
         0.8119696214123204,
         0.8579296807427257,
         0.7837112326136646,
         0.7946834783045842,
         0.7563579183377048,
         0.7939518079692593,
         0.7948496790488362,
         0.809819257055322,
         0.7699291961261768,
         0.8239553005346584,
         0.8403977703387018,
         0.8043696973323249,
         0.8404158395461705,
         0.8301894530145654,
         0.7819012602625656,
         0.8744827792676948,
         0.852111826426052,
         0.8058180266917985,
         0.8259345602569896,
         0.7800660973912878,
         0.8447761904481275,
         0.864969189981229,
         0.7838812366421678,
         0.88903914679969,
         0.9123036057425595,
         0.7761701971901052,
         0.7854448233718423,
         0.7422454277716523,
         0.8304766553776995,
         0.7617640153742775,
         0.8248737471354136,
         0.8362113195982832,
         0.743186738856081,
         0.8473253360698745,
         0.7898180427674598,
         0.9844115193494172,
         0.7509502642894621,
         0.9087037277606361,
         0.8864728635854294,
         0.834625727730365,
         0.843919284578223,
         0.7764866419510352,
         0.7680127618989394,
         0.8485686739588418,
         0.7703054761684058,
         0.9410074602966108,
         0.844728343349937,
         0.8351806055036147,
         0.7630824346890202,
         0.8157732054954782,
         0.8284142590610536,
         0.7602142396994382,
         0.7993287755106553,
         0.81966778416584,
         0.823968783088238,
         0.964294456615266,
         0.8111977396373847,
         0.7829810627119799,
         0.790158546224471,
         0.7874177084424436,
         0.8388249366862675,
         0.7981179329310151,
         0.8477474465897689,
         0.8247562204074133,
         0.9478212705817661,
         0.7983966715039506,
         0.8808081707267061,
         0.8619077196910228
        ]
       ],
       "encoder": "json",
       "name": "ABC_GAN_2 Metrics",
       "version": 1
      }
     },
     "metadata": {
      "scrapbook": {
       "data": true,
       "display": false,
       "name": "ABC_GAN_2 Metrics"
      }
     },
     "output_type": "display_data"
    },
    {
     "name": "stdout",
     "output_type": "stream",
     "text": [
      "MAE\n",
      "0.04635496548534214\n"
     ]
    }
   ],
   "source": [
    "ABC_GAN2_metrics=ABC_train_test2.test_generator(gen2,test_data,prior_model,variance,bias,\"1\",device)\n",
    "sb.glue(\"ABC_GAN_2 Metrics\",ABC_GAN2_metrics)\n",
    "\n",
    "print(\"MAE\")\n",
    "print(mean(ABC_GAN2_metrics[1]))"
   ]
  },
  {
   "cell_type": "code",
   "execution_count": 18,
   "id": "4f0a4918",
   "metadata": {
    "execution": {
     "iopub.execute_input": "2022-07-24T12:52:41.118784Z",
     "iopub.status.busy": "2022-07-24T12:52:41.118211Z",
     "iopub.status.idle": "2022-07-24T12:52:42.636078Z",
     "shell.execute_reply": "2022-07-24T12:52:42.635251Z"
    },
    "papermill": {
     "duration": 1.53842,
     "end_time": "2022-07-24T12:52:42.638686",
     "exception": false,
     "start_time": "2022-07-24T12:52:41.100266",
     "status": "completed"
    },
    "tags": []
   },
   "outputs": [
    {
     "data": {
      "image/png": "[encoded data removed]",
      "text/plain": [
       "<Figure size 432x288 with 1 Axes>"
      ]
     },
     "metadata": {
      "needs_background": "light"
     },
     "output_type": "display_data"
    },
    {
     "data": {
      "image/png": "[encoded data removed]",
      "text/plain": [
       "<Figure size 432x288 with 1 Axes>"
      ]
     },
     "metadata": {
      "needs_background": "light"
     },
     "output_type": "display_data"
    },
    {
     "data": {
      "image/png": "[encoded data removed]",
      "text/plain": [
       "<Figure size 432x288 with 1 Axes>"
      ]
     },
     "metadata": {
      "needs_background": "light"
     },
     "output_type": "display_data"
    },
    {
     "data": {
      "image/png": "[encoded data removed]",
      "text/plain": [
       "<Figure size 432x288 with 1 Axes>"
      ]
     },
     "metadata": {
      "needs_background": "light"
     },
     "output_type": "display_data"
    }
   ],
   "source": [
    "sanityChecks.discProbVsError(train_data,disc2,device)\n",
    "sanityChecks.discProbVsError(test_data,disc2,device)"
   ]
  },
  {
   "cell_type": "markdown",
   "id": "130f3a4d",
   "metadata": {
    "id": "130f3a4d",
    "papermill": {
     "duration": 0.030598,
     "end_time": "2022-07-24T12:52:42.687537",
     "exception": false,
     "start_time": "2022-07-24T12:52:42.656939",
     "status": "completed"
    },
    "tags": []
   },
   "source": [
    "# skipGAN Model"
   ]
  },
  {
   "cell_type": "code",
   "execution_count": 19,
   "id": "4e43dad1",
   "metadata": {
    "execution": {
     "iopub.execute_input": "2022-07-24T12:52:42.731684Z",
     "iopub.status.busy": "2022-07-24T12:52:42.730983Z",
     "iopub.status.idle": "2022-07-24T12:52:42.736136Z",
     "shell.execute_reply": "2022-07-24T12:52:42.735293Z"
    },
    "id": "4e43dad1",
    "papermill": {
     "duration": 0.029921,
     "end_time": "2022-07-24T12:52:42.738811",
     "exception": false,
     "start_time": "2022-07-24T12:52:42.708890",
     "status": "completed"
    },
    "tags": []
   },
   "outputs": [],
   "source": [
    "# #Generator\n",
    "# gen3 = network.GeneratorWithSkipConnection(n_features+1).to(device)\n",
    "# constraints=network.weightConstraint()\n",
    "# #Discriminator \n",
    "# disc3 = network.Discriminator(n_features+1).to(device)\n",
    "\n",
    "# criterion = torch.nn.BCELoss()\n",
    "# gen_opt = torch.optim.Adam(gen3.parameters(), lr=0.01, betas=(0.5, 0.999))\n",
    "# disc_opt = torch.optim.Adam(disc3.parameters(), lr=0.01, betas=(0.5, 0.999))\n"
   ]
  },
  {
   "cell_type": "markdown",
   "id": "52bdcb15",
   "metadata": {
    "tags": [
     "papermill-error-cell-tag"
    ]
   },
   "source": [
    "<span id=\"papermill-error-cell\" style=\"color:red; font-family:Helvetica Neue, Helvetica, Arial, sans-serif; font-size:2em;\">Execution using papermill encountered an exception here and stopped:</span>"
   ]
  },
  {
   "cell_type": "code",
   "execution_count": 20,
   "id": "26acbc37",
   "metadata": {
    "execution": {
     "iopub.execute_input": "2022-07-24T12:52:42.778983Z",
     "iopub.status.busy": "2022-07-24T12:52:42.778549Z",
     "iopub.status.idle": "2022-07-24T12:52:43.735879Z",
     "shell.execute_reply": "2022-07-24T12:52:43.733314Z"
    },
    "id": "26acbc37",
    "papermill": {
     "duration": 0.992236,
     "end_time": "2022-07-24T12:52:43.746198",
     "exception": true,
     "start_time": "2022-07-24T12:52:42.753962",
     "status": "failed"
    },
    "tags": []
   },
   "outputs": [
    {
     "ename": "NameError",
     "evalue": "name 'disc3' is not defined",
     "output_type": "error",
     "traceback": [
      "\u001b[0;31m---------------------------------------------------------------------------\u001b[0m",
      "\u001b[0;31mNameError\u001b[0m                                 Traceback (most recent call last)",
      "Input \u001b[0;32mIn [20]\u001b[0m, in \u001b[0;36m<cell line: 1>\u001b[0;34m()\u001b[0m\n\u001b[0;32m----> 1\u001b[0m ABC_train_test2\u001b[38;5;241m.\u001b[39mtraining_GAN_skip_connection(\u001b[43mdisc3\u001b[49m,gen3,disc_opt,gen_opt,train_data,batch_size,n_epochs,criterion,prior_model,variance,bias,device)\n",
      "\u001b[0;31mNameError\u001b[0m: name 'disc3' is not defined"
     ]
    }
   ],
   "source": [
    "ABC_train_test2.training_GAN_skip_connection(disc3,gen3,disc_opt,gen_opt,train_data,batch_size,n_epochs,criterion,prior_model,variance,bias,device)"
   ]
  },
  {
   "cell_type": "code",
   "execution_count": null,
   "id": "c5e0717b",
   "metadata": {
    "id": "c5e0717b",
    "papermill": {
     "duration": null,
     "end_time": null,
     "exception": null,
     "start_time": null,
     "status": "pending"
    },
    "tags": []
   },
   "outputs": [],
   "source": [
    "# ABC_GAN3_metrics=ABC_train_test2.test_generator(gen3,test_data,prior_model,variance,bias,\"3\",device)\n",
    "# sb.glue(\"ABC_GAN_3 Metrics\",ABC_GAN3_metrics)\n",
    "\n",
    "# print(\"MAE\")\n",
    "# print(mean(ABC_GAN3_metrics[1]))"
   ]
  },
  {
   "cell_type": "code",
   "execution_count": null,
   "id": "c8e46b48",
   "metadata": {
    "id": "c8e46b48",
    "papermill": {
     "duration": null,
     "end_time": null,
     "exception": null,
     "start_time": null,
     "status": "pending"
    },
    "tags": []
   },
   "outputs": [],
   "source": [
    "# sanityChecks.discProbVsError(train_data,disc3,device)\n",
    "# sanityChecks.discProbVsError(test_data,disc3,device)"
   ]
  },
  {
   "cell_type": "markdown",
   "id": "ba4687cd",
   "metadata": {
    "id": "130f3a4d",
    "papermill": {
     "duration": null,
     "end_time": null,
     "exception": null,
     "start_time": null,
     "status": "pending"
    },
    "tags": []
   },
   "source": [
    "# skipGAN Model with TabNet Generator"
   ]
  },
  {
   "cell_type": "code",
   "execution_count": null,
   "id": "8c0cb410",
   "metadata": {
    "id": "4e43dad1",
    "papermill": {
     "duration": null,
     "end_time": null,
     "exception": null,
     "start_time": null,
     "status": "pending"
    },
    "tags": []
   },
   "outputs": [],
   "source": [
    "# #Generator\n",
    "# gen4 = network.GeneratorTabnetskipConnection(n_features+1).to(device)\n",
    "# constraints=network.weightConstraint()\n",
    "# #Discriminator \n",
    "# disc4 = network.Discriminator(n_features+1).to(device)\n",
    "\n",
    "# criterion = torch.nn.BCELoss()\n",
    "# gen_opt = torch.optim.Adam(gen4.parameters(), lr=0.01, betas=(0.5, 0.999))\n",
    "# disc_opt = torch.optim.Adam(disc4.parameters(), lr=0.01, betas=(0.5, 0.999))\n"
   ]
  },
  {
   "cell_type": "code",
   "execution_count": null,
   "id": "d5f977e4",
   "metadata": {
    "id": "26acbc37",
    "papermill": {
     "duration": null,
     "end_time": null,
     "exception": null,
     "start_time": null,
     "status": "pending"
    },
    "tags": []
   },
   "outputs": [],
   "source": [
    "# ABC_train_test2.training_GAN_skip_connection(disc4,gen4,disc_opt,gen_opt,train_data,batch_size,n_epochs,criterion,prior_model,variance,bias,device)"
   ]
  },
  {
   "cell_type": "code",
   "execution_count": null,
   "id": "b64d90e6",
   "metadata": {
    "id": "c5e0717b",
    "papermill": {
     "duration": null,
     "end_time": null,
     "exception": null,
     "start_time": null,
     "status": "pending"
    },
    "tags": []
   },
   "outputs": [],
   "source": [
    "# ABC_GAN4_metrics=ABC_train_test2.test_generator(gen4,test_data,prior_model,variance,bias,\"3\",device)\n",
    "# sb.glue(\"ABC_GAN_4 Metrics\",ABC_GAN4_metrics)\n",
    "\n",
    "# print(\"MAE\")\n",
    "# print(mean(ABC_GAN4_metrics[1]))"
   ]
  },
  {
   "cell_type": "code",
   "execution_count": null,
   "id": "9822097b",
   "metadata": {
    "id": "c8e46b48",
    "papermill": {
     "duration": null,
     "end_time": null,
     "exception": null,
     "start_time": null,
     "status": "pending"
    },
    "tags": []
   },
   "outputs": [],
   "source": [
    "# sanityChecks.discProbVsError(train_data,disc4,device)\n",
    "# sanityChecks.discProbVsError(test_data,disc4,device)"
   ]
  },
  {
   "cell_type": "markdown",
   "id": "a5bd74c3",
   "metadata": {
    "id": "a5bd74c3",
    "papermill": {
     "duration": null,
     "end_time": null,
     "exception": null,
     "start_time": null,
     "status": "pending"
    },
    "tags": []
   },
   "source": [
    "## Skip Connection Model Analysis - ABC-GAN "
   ]
  },
  {
   "cell_type": "markdown",
   "id": "5744a8bf",
   "metadata": {
    "id": "5744a8bf",
    "papermill": {
     "duration": null,
     "end_time": null,
     "exception": null,
     "start_time": null,
     "status": "pending"
    },
    "tags": []
   },
   "source": [
    "### Weight Analysis \n",
    "\n",
    "Study the weights of the skip connection layer\n",
    "\n",
    "Equation of the skip connection is \n",
    "\n",
    "$output = y_{gan} * w + y_{abc} * (1-w)$"
   ]
  },
  {
   "cell_type": "code",
   "execution_count": null,
   "id": "52c31dea",
   "metadata": {
    "id": "52c31dea",
    "papermill": {
     "duration": null,
     "end_time": null,
     "exception": null,
     "start_time": null,
     "status": "pending"
    },
    "tags": []
   },
   "outputs": [],
   "source": [
    "# print(\"Weight of the node at skip connection\")\n",
    "# for name,param in gen3.named_parameters():\n",
    "#     if(name == \"skipNode.weight\"):\n",
    "#         print(param)\n",
    "#         sb.glue(\"Skip Connection Weight\",param.item())"
   ]
  },
  {
   "cell_type": "markdown",
   "id": "8d127a4b",
   "metadata": {
    "id": "a5bd74c3",
    "papermill": {
     "duration": null,
     "end_time": null,
     "exception": null,
     "start_time": null,
     "status": "pending"
    },
    "tags": []
   },
   "source": [
    "## skipGAN Model Analysis (TabNet Generator) "
   ]
  },
  {
   "cell_type": "markdown",
   "id": "8b37bd59",
   "metadata": {
    "id": "5744a8bf",
    "papermill": {
     "duration": null,
     "end_time": null,
     "exception": null,
     "start_time": null,
     "status": "pending"
    },
    "tags": []
   },
   "source": [
    "### Weight Analysis \n",
    "\n",
    "Study the weights of the skip connection layer\n",
    "\n",
    "Equation of the skip connection is \n",
    "\n",
    "$output = y_{gan} * w + y_{abc} * (1-w)$"
   ]
  },
  {
   "cell_type": "code",
   "execution_count": null,
   "id": "e3c78ec8",
   "metadata": {
    "id": "52c31dea",
    "papermill": {
     "duration": null,
     "end_time": null,
     "exception": null,
     "start_time": null,
     "status": "pending"
    },
    "tags": []
   },
   "outputs": [],
   "source": [
    "# print(\"Weight of the node at skip connection\")\n",
    "# for name,param in gen4.named_parameters():\n",
    "#     if(name == \"skipNode.weight\"):\n",
    "#         print(param)\n",
    "#         sb.glue(\"Skip Connection Weight\",param.item())"
   ]
  }
 ],
 "metadata": {
  "colab": {
   "collapsed_sections": [],
   "name": "ABC_GAN_Model-Catboost_Pre-gen.ipynb",
   "provenance": []
  },
  "interpreter": {
   "hash": "31f2aee4e71d21fbe5cf8b01ff0e069b9275f58929596ceb00d14d90e3e16cd6"
  },
  "kernelspec": {
   "display_name": "Python 3 (ipykernel)",
   "language": "python",
   "name": "python3"
  },
  "language_info": {
   "codemirror_mode": {
    "name": "ipython",
    "version": 3
   },
   "file_extension": ".py",
   "mimetype": "text/x-python",
   "name": "python",
   "nbconvert_exporter": "python",
   "pygments_lexer": "ipython3",
   "version": "3.8.13"
  },
  "papermill": {
   "default_parameters": {},
   "duration": 248.554027,
   "end_time": "2022-07-24T12:52:44.770632",
   "environment_variables": {},
   "exception": true,
   "input_path": "ABC_GAN-Catboost.ipynb",
   "output_path": "./ABC_GAN_Catboost/ABC-GAN_output_3_1.ipynb",
   "parameters": {
    "bias": 1,
    "variance": 0.1
   },
   "start_time": "2022-07-24T12:48:36.216605",
   "version": "2.3.3"
  }
 },
 "nbformat": 4,
 "nbformat_minor": 5
}