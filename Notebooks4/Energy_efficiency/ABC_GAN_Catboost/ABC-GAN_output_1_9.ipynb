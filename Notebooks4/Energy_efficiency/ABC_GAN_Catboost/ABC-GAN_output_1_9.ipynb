{
 "cells": [
  {
   "cell_type": "markdown",
   "id": "622780e6",
   "metadata": {
    "id": "622780e6",
    "papermill": {
     "duration": 0.008675,
     "end_time": "2022-07-24T21:46:51.312357",
     "exception": false,
     "start_time": "2022-07-24T21:46:51.303682",
     "status": "completed"
    },
    "tags": []
   },
   "source": [
    "## Import Libraries "
   ]
  },
  {
   "cell_type": "code",
   "execution_count": 1,
   "id": "a62397e3",
   "metadata": {
    "execution": {
     "iopub.execute_input": "2022-07-24T21:46:51.339526Z",
     "iopub.status.busy": "2022-07-24T21:46:51.337986Z",
     "iopub.status.idle": "2022-07-24T21:46:51.355860Z",
     "shell.execute_reply": "2022-07-24T21:46:51.353976Z"
    },
    "id": "a62397e3",
    "papermill": {
     "duration": 0.047006,
     "end_time": "2022-07-24T21:46:51.369209",
     "exception": false,
     "start_time": "2022-07-24T21:46:51.322203",
     "status": "completed"
    },
    "tags": []
   },
   "outputs": [],
   "source": [
    "import warnings\n",
    "import sys\n",
    "sys.path.insert(0, '../../src')\n",
    "warnings.filterwarnings('ignore')"
   ]
  },
  {
   "cell_type": "code",
   "execution_count": 2,
   "id": "d6a4e155",
   "metadata": {
    "execution": {
     "iopub.execute_input": "2022-07-24T21:46:51.403182Z",
     "iopub.status.busy": "2022-07-24T21:46:51.402525Z",
     "iopub.status.idle": "2022-07-24T21:46:59.322003Z",
     "shell.execute_reply": "2022-07-24T21:46:59.320835Z"
    },
    "id": "d6a4e155",
    "papermill": {
     "duration": 7.943408,
     "end_time": "2022-07-24T21:46:59.325553",
     "exception": false,
     "start_time": "2022-07-24T21:46:51.382145",
     "status": "completed"
    },
    "tags": []
   },
   "outputs": [],
   "source": [
    "import ABC_train_test2\n",
    "import energyefficiencyDataset\n",
    "import network\n",
    "import dataset\n",
    "import sanityChecks\n",
    "import torch \n",
    "import scrapbook as sb\n",
    "from statistics import mean \n",
    "import catboost as ctb \n",
    "from sklearn.model_selection import train_test_split\n",
    "from sklearn.metrics import mean_squared_error,mean_absolute_error\n",
    "import numpy as np"
   ]
  },
  {
   "cell_type": "markdown",
   "id": "2fa5b0f7",
   "metadata": {
    "id": "2fa5b0f7",
    "papermill": {
     "duration": 0.007916,
     "end_time": "2022-07-24T21:46:59.342426",
     "exception": false,
     "start_time": "2022-07-24T21:46:59.334510",
     "status": "completed"
    },
    "tags": []
   },
   "source": [
    "## Parameters "
   ]
  },
  {
   "cell_type": "code",
   "execution_count": 3,
   "id": "783186fb",
   "metadata": {
    "execution": {
     "iopub.execute_input": "2022-07-24T21:46:59.358986Z",
     "iopub.status.busy": "2022-07-24T21:46:59.358181Z",
     "iopub.status.idle": "2022-07-24T21:46:59.363816Z",
     "shell.execute_reply": "2022-07-24T21:46:59.362632Z"
    },
    "id": "783186fb",
    "papermill": {
     "duration": 0.016756,
     "end_time": "2022-07-24T21:46:59.366268",
     "exception": false,
     "start_time": "2022-07-24T21:46:59.349512",
     "status": "completed"
    },
    "tags": [
     "parameters"
    ]
   },
   "outputs": [],
   "source": [
    "variance = 1\n",
    "bias = 1 "
   ]
  },
  {
   "cell_type": "code",
   "execution_count": 4,
   "id": "59d18f40",
   "metadata": {
    "execution": {
     "iopub.execute_input": "2022-07-24T21:46:59.401454Z",
     "iopub.status.busy": "2022-07-24T21:46:59.400988Z",
     "iopub.status.idle": "2022-07-24T21:46:59.408366Z",
     "shell.execute_reply": "2022-07-24T21:46:59.405778Z"
    },
    "papermill": {
     "duration": 0.03505,
     "end_time": "2022-07-24T21:46:59.413499",
     "exception": false,
     "start_time": "2022-07-24T21:46:59.378449",
     "status": "completed"
    },
    "tags": [
     "injected-parameters"
    ]
   },
   "outputs": [],
   "source": [
    "# Parameters\n",
    "variance = 1\n",
    "bias = 0\n"
   ]
  },
  {
   "cell_type": "markdown",
   "id": "391cdbfd",
   "metadata": {
    "id": "391cdbfd",
    "papermill": {
     "duration": 0.013052,
     "end_time": "2022-07-24T21:46:59.443188",
     "exception": false,
     "start_time": "2022-07-24T21:46:59.430136",
     "status": "completed"
    },
    "tags": []
   },
   "source": [
    "## Dataset \n"
   ]
  },
  {
   "cell_type": "code",
   "execution_count": 5,
   "id": "5b51f161",
   "metadata": {
    "execution": {
     "iopub.execute_input": "2022-07-24T21:46:59.475228Z",
     "iopub.status.busy": "2022-07-24T21:46:59.474327Z",
     "iopub.status.idle": "2022-07-24T21:46:59.484545Z",
     "shell.execute_reply": "2022-07-24T21:46:59.481830Z"
    },
    "id": "5b51f161",
    "papermill": {
     "duration": 0.042723,
     "end_time": "2022-07-24T21:46:59.494638",
     "exception": false,
     "start_time": "2022-07-24T21:46:59.451915",
     "status": "completed"
    },
    "tags": []
   },
   "outputs": [],
   "source": [
    "#Parameters \n",
    "n_features = 8\n",
    "n_samples= 768\n",
    "n_target = 1 "
   ]
  },
  {
   "cell_type": "code",
   "execution_count": 6,
   "id": "5d6eced4",
   "metadata": {
    "execution": {
     "iopub.execute_input": "2022-07-24T21:46:59.518359Z",
     "iopub.status.busy": "2022-07-24T21:46:59.517888Z",
     "iopub.status.idle": "2022-07-24T21:47:00.908898Z",
     "shell.execute_reply": "2022-07-24T21:47:00.907621Z"
    },
    "id": "5d6eced4",
    "papermill": {
     "duration": 1.405289,
     "end_time": "2022-07-24T21:47:00.913087",
     "exception": false,
     "start_time": "2022-07-24T21:46:59.507798",
     "status": "completed"
    },
    "tags": []
   },
   "outputs": [
    {
     "name": "stdout",
     "output_type": "stream",
     "text": [
      "     X1     X2     X3      X4   X5  X6   X7  X8     Y1     Y2\n",
      "0  0.98  514.5  294.0  110.25  7.0   2  0.0   0  15.55  21.33\n",
      "1  0.98  514.5  294.0  110.25  7.0   3  0.0   0  15.55  21.33\n",
      "2  0.98  514.5  294.0  110.25  7.0   4  0.0   0  15.55  21.33\n",
      "3  0.98  514.5  294.0  110.25  7.0   5  0.0   0  15.55  21.33\n",
      "4  0.90  563.5  318.5  122.50  7.0   2  0.0   0  20.84  28.28\n"
     ]
    }
   ],
   "source": [
    "X,Y = energyefficiencyDataset.energy_data()"
   ]
  },
  {
   "cell_type": "code",
   "execution_count": 7,
   "id": "fe007438",
   "metadata": {
    "execution": {
     "iopub.execute_input": "2022-07-24T21:47:00.954220Z",
     "iopub.status.busy": "2022-07-24T21:47:00.953222Z",
     "iopub.status.idle": "2022-07-24T21:47:00.965943Z",
     "shell.execute_reply": "2022-07-24T21:47:00.964648Z"
    },
    "id": "fe007438",
    "papermill": {
     "duration": 0.04542,
     "end_time": "2022-07-24T21:47:00.970442",
     "exception": false,
     "start_time": "2022-07-24T21:47:00.925022",
     "status": "completed"
    },
    "tags": []
   },
   "outputs": [],
   "source": [
    "#Train test split for dataset \n",
    "X_train,X_test,Y_train,Y_test = train_test_split(X,Y,test_size = 0.2)\n",
    "train_data = dataset.CustomDataset(X_train,Y_train)\n",
    "test_data = dataset.CustomDataset(X_test,Y_test)\n"
   ]
  },
  {
   "cell_type": "markdown",
   "id": "a9a1af34",
   "metadata": {
    "id": "a9a1af34",
    "papermill": {
     "duration": 0.013424,
     "end_time": "2022-07-24T21:47:00.998193",
     "exception": false,
     "start_time": "2022-07-24T21:47:00.984769",
     "status": "completed"
    },
    "tags": []
   },
   "source": [
    "## Training Parameters "
   ]
  },
  {
   "cell_type": "code",
   "execution_count": 8,
   "id": "952b7fc8",
   "metadata": {
    "execution": {
     "iopub.execute_input": "2022-07-24T21:47:01.027927Z",
     "iopub.status.busy": "2022-07-24T21:47:01.027302Z",
     "iopub.status.idle": "2022-07-24T21:47:01.036865Z",
     "shell.execute_reply": "2022-07-24T21:47:01.033047Z"
    },
    "id": "952b7fc8",
    "papermill": {
     "duration": 0.030309,
     "end_time": "2022-07-24T21:47:01.041605",
     "exception": false,
     "start_time": "2022-07-24T21:47:01.011296",
     "status": "completed"
    },
    "tags": []
   },
   "outputs": [],
   "source": [
    "batch_size = 32\n",
    "n_epochs = 1000\n",
    "#Select the device \n",
    "device = torch.device('cuda' if torch.cuda.is_available() else 'cpu')"
   ]
  },
  {
   "cell_type": "markdown",
   "id": "a95e1600",
   "metadata": {
    "id": "a95e1600",
    "papermill": {
     "duration": 0.025912,
     "end_time": "2022-07-24T21:47:01.076244",
     "exception": false,
     "start_time": "2022-07-24T21:47:01.050332",
     "status": "completed"
    },
    "tags": []
   },
   "source": [
    "# ABC Pre-generator Model \n",
    "\n",
    "1. The catboost model is used as a pre-generator model for the ABC-GAN. \n",
    "2. The model is first trained on the entire dataset \n",
    "3. It generats X,Y pairs and we add some Gaussian noise with mean 0 and variance 1 to it which is then feed as input to the generator.\n"
   ]
  },
  {
   "cell_type": "code",
   "execution_count": 9,
   "id": "ff8ce7bd",
   "metadata": {
    "execution": {
     "iopub.execute_input": "2022-07-24T21:47:01.468927Z",
     "iopub.status.busy": "2022-07-24T21:47:01.467814Z",
     "iopub.status.idle": "2022-07-24T21:47:03.809029Z",
     "shell.execute_reply": "2022-07-24T21:47:03.803060Z"
    },
    "id": "ff8ce7bd",
    "papermill": {
     "duration": 2.71989,
     "end_time": "2022-07-24T21:47:03.813903",
     "exception": false,
     "start_time": "2022-07-24T21:47:01.094013",
     "status": "completed"
    },
    "tags": []
   },
   "outputs": [
    {
     "name": "stdout",
     "output_type": "stream",
     "text": [
      "Learning rate set to 0.037906\n",
      "0:\tlearn: 0.9539248\ttotal: 73.8ms\tremaining: 1m 13s\n",
      "1:\tlearn: 0.9222490\ttotal: 74.1ms\tremaining: 37s\n",
      "2:\tlearn: 0.8954502\ttotal: 74.4ms\tremaining: 24.7s\n",
      "3:\tlearn: 0.8656409\ttotal: 74.7ms\tremaining: 18.6s\n",
      "4:\tlearn: 0.8413038\ttotal: 74.9ms\tremaining: 14.9s\n",
      "5:\tlearn: 0.8138187\ttotal: 75.8ms\tremaining: 12.6s\n",
      "6:\tlearn: 0.7917538\ttotal: 75.9ms\tremaining: 10.8s\n",
      "7:\tlearn: 0.7691378\ttotal: 76.2ms\tremaining: 9.45s\n",
      "8:\tlearn: 0.7440835\ttotal: 76.7ms\tremaining: 8.44s\n",
      "9:\tlearn: 0.7204691\ttotal: 77.3ms\tremaining: 7.66s\n",
      "10:\tlearn: 0.6979470\ttotal: 78ms\tremaining: 7.01s\n",
      "11:\tlearn: 0.6754134\ttotal: 78.6ms\tremaining: 6.47s\n",
      "12:\tlearn: 0.6561715\ttotal: 79.2ms\tremaining: 6.01s\n",
      "13:\tlearn: 0.6377498\ttotal: 83.7ms\tremaining: 5.89s\n",
      "14:\tlearn: 0.6178922\ttotal: 86.1ms\tremaining: 5.65s\n",
      "15:\tlearn: 0.5999686\ttotal: 86.9ms\tremaining: 5.35s\n",
      "16:\tlearn: 0.5813110\ttotal: 87.5ms\tremaining: 5.06s\n",
      "17:\tlearn: 0.5638670\ttotal: 88.2ms\tremaining: 4.81s\n",
      "18:\tlearn: 0.5483337\ttotal: 88.9ms\tremaining: 4.59s\n",
      "19:\tlearn: 0.5353859\ttotal: 89.6ms\tremaining: 4.39s\n",
      "20:\tlearn: 0.5185651\ttotal: 89.9ms\tremaining: 4.19s\n",
      "21:\tlearn: 0.5025060\ttotal: 90.2ms\tremaining: 4.01s\n",
      "22:\tlearn: 0.4894114\ttotal: 90.7ms\tremaining: 3.85s\n",
      "23:\tlearn: 0.4745204\ttotal: 91.3ms\tremaining: 3.71s\n",
      "24:\tlearn: 0.4593075\ttotal: 91.8ms\tremaining: 3.58s\n",
      "25:\tlearn: 0.4453829\ttotal: 92.4ms\tremaining: 3.46s\n",
      "26:\tlearn: 0.4330600\ttotal: 92.9ms\tremaining: 3.35s\n",
      "27:\tlearn: 0.4206956\ttotal: 93.6ms\tremaining: 3.25s\n",
      "28:\tlearn: 0.4081920\ttotal: 94.2ms\tremaining: 3.15s\n",
      "29:\tlearn: 0.3963838\ttotal: 94.9ms\tremaining: 3.07s\n",
      "30:\tlearn: 0.3853526\ttotal: 95.8ms\tremaining: 2.99s\n",
      "31:\tlearn: 0.3745995\ttotal: 96.7ms\tremaining: 2.92s\n",
      "32:\tlearn: 0.3648585\ttotal: 97.4ms\tremaining: 2.85s\n",
      "33:\tlearn: 0.3546921\ttotal: 97.9ms\tremaining: 2.78s\n",
      "34:\tlearn: 0.3451237\ttotal: 98.4ms\tremaining: 2.71s\n",
      "35:\tlearn: 0.3362138\ttotal: 98.9ms\tremaining: 2.65s\n",
      "36:\tlearn: 0.3279775\ttotal: 99.8ms\tremaining: 2.6s\n",
      "37:\tlearn: 0.3188239\ttotal: 100ms\tremaining: 2.54s\n",
      "38:\tlearn: 0.3109787\ttotal: 102ms\tremaining: 2.5s\n",
      "39:\tlearn: 0.3025805\ttotal: 102ms\tremaining: 2.46s\n",
      "40:\tlearn: 0.2947365\ttotal: 107ms\tremaining: 2.5s\n",
      "41:\tlearn: 0.2864223\ttotal: 108ms\tremaining: 2.45s\n",
      "42:\tlearn: 0.2788977\ttotal: 108ms\tremaining: 2.41s\n",
      "43:\tlearn: 0.2714604\ttotal: 109ms\tremaining: 2.36s\n",
      "44:\tlearn: 0.2640749\ttotal: 109ms\tremaining: 2.32s\n",
      "45:\tlearn: 0.2575766\ttotal: 110ms\tremaining: 2.29s\n",
      "46:\tlearn: 0.2507736\ttotal: 111ms\tremaining: 2.25s\n",
      "47:\tlearn: 0.2449983\ttotal: 112ms\tremaining: 2.22s\n",
      "48:\tlearn: 0.2398461\ttotal: 112ms\tremaining: 2.18s\n",
      "49:\tlearn: 0.2347275\ttotal: 113ms\tremaining: 2.15s\n",
      "50:\tlearn: 0.2287667\ttotal: 114ms\tremaining: 2.12s\n",
      "51:\tlearn: 0.2227830\ttotal: 114ms\tremaining: 2.09s\n",
      "52:\tlearn: 0.2177098\ttotal: 115ms\tremaining: 2.06s\n",
      "53:\tlearn: 0.2124456\ttotal: 116ms\tremaining: 2.02s\n",
      "54:\tlearn: 0.2069458\ttotal: 116ms\tremaining: 1.99s\n",
      "55:\tlearn: 0.2018137\ttotal: 117ms\tremaining: 1.97s\n",
      "56:\tlearn: 0.1965961\ttotal: 117ms\tremaining: 1.94s\n",
      "57:\tlearn: 0.1913481\ttotal: 118ms\tremaining: 1.92s\n",
      "58:\tlearn: 0.1873418\ttotal: 118ms\tremaining: 1.89s\n",
      "59:\tlearn: 0.1824359\ttotal: 118ms\tremaining: 1.86s\n",
      "60:\tlearn: 0.1791701\ttotal: 119ms\tremaining: 1.83s\n",
      "61:\tlearn: 0.1748573\ttotal: 120ms\tremaining: 1.81s\n",
      "62:\tlearn: 0.1704008\ttotal: 124ms\tremaining: 1.84s\n",
      "63:\tlearn: 0.1671194\ttotal: 124ms\tremaining: 1.82s\n",
      "64:\tlearn: 0.1640748\ttotal: 125ms\tremaining: 1.8s\n",
      "65:\tlearn: 0.1615348\ttotal: 125ms\tremaining: 1.77s\n",
      "66:\tlearn: 0.1579877\ttotal: 126ms\tremaining: 1.76s\n",
      "67:\tlearn: 0.1544132\ttotal: 127ms\tremaining: 1.74s\n",
      "68:\tlearn: 0.1514701\ttotal: 128ms\tremaining: 1.73s\n",
      "69:\tlearn: 0.1476390\ttotal: 129ms\tremaining: 1.71s\n",
      "70:\tlearn: 0.1443313\ttotal: 129ms\tremaining: 1.69s\n",
      "71:\tlearn: 0.1422757\ttotal: 130ms\tremaining: 1.67s\n",
      "72:\tlearn: 0.1399658\ttotal: 131ms\tremaining: 1.66s\n",
      "73:\tlearn: 0.1371338\ttotal: 131ms\tremaining: 1.65s\n",
      "74:\tlearn: 0.1342211\ttotal: 132ms\tremaining: 1.63s\n",
      "75:\tlearn: 0.1326904\ttotal: 133ms\tremaining: 1.61s\n",
      "76:\tlearn: 0.1297048\ttotal: 134ms\tremaining: 1.6s\n",
      "77:\tlearn: 0.1269879\ttotal: 134ms\tremaining: 1.59s\n",
      "78:\tlearn: 0.1248177\ttotal: 135ms\tremaining: 1.57s\n",
      "79:\tlearn: 0.1221316\ttotal: 136ms\tremaining: 1.56s\n",
      "80:\tlearn: 0.1202961\ttotal: 137ms\tremaining: 1.55s\n",
      "81:\tlearn: 0.1174849\ttotal: 137ms\tremaining: 1.54s\n",
      "82:\tlearn: 0.1149710\ttotal: 138ms\tremaining: 1.52s\n",
      "83:\tlearn: 0.1131449\ttotal: 139ms\tremaining: 1.51s\n",
      "84:\tlearn: 0.1114291\ttotal: 140ms\tremaining: 1.5s\n",
      "85:\tlearn: 0.1087398\ttotal: 141ms\tremaining: 1.5s\n",
      "86:\tlearn: 0.1073906\ttotal: 142ms\tremaining: 1.49s\n",
      "87:\tlearn: 0.1051129\ttotal: 142ms\tremaining: 1.48s\n",
      "88:\tlearn: 0.1031338\ttotal: 143ms\tremaining: 1.47s\n",
      "89:\tlearn: 0.1008145\ttotal: 144ms\tremaining: 1.45s\n",
      "90:\tlearn: 0.0992633\ttotal: 144ms\tremaining: 1.44s\n",
      "91:\tlearn: 0.0978471\ttotal: 145ms\tremaining: 1.43s\n",
      "92:\tlearn: 0.0965080\ttotal: 145ms\tremaining: 1.42s\n",
      "93:\tlearn: 0.0948750\ttotal: 146ms\tremaining: 1.41s\n",
      "94:\tlearn: 0.0933933\ttotal: 146ms\tremaining: 1.39s\n",
      "95:\tlearn: 0.0916970\ttotal: 147ms\tremaining: 1.38s\n",
      "96:\tlearn: 0.0907674\ttotal: 147ms\tremaining: 1.37s\n",
      "97:\tlearn: 0.0889588\ttotal: 148ms\tremaining: 1.36s\n",
      "98:\tlearn: 0.0870795\ttotal: 148ms\tremaining: 1.35s\n",
      "99:\tlearn: 0.0858644\ttotal: 149ms\tremaining: 1.34s\n"
     ]
    },
    {
     "name": "stdout",
     "output_type": "stream",
     "text": [
      "100:\tlearn: 0.0843801\ttotal: 150ms\tremaining: 1.34s\n",
      "101:\tlearn: 0.0832787\ttotal: 151ms\tremaining: 1.33s\n",
      "102:\tlearn: 0.0815245\ttotal: 152ms\tremaining: 1.32s\n",
      "103:\tlearn: 0.0801572\ttotal: 153ms\tremaining: 1.31s\n",
      "104:\tlearn: 0.0791564\ttotal: 153ms\tremaining: 1.31s\n",
      "105:\tlearn: 0.0785048\ttotal: 154ms\tremaining: 1.3s\n",
      "106:\tlearn: 0.0773646\ttotal: 154ms\tremaining: 1.29s\n",
      "107:\tlearn: 0.0766486\ttotal: 155ms\tremaining: 1.28s\n",
      "108:\tlearn: 0.0756556\ttotal: 155ms\tremaining: 1.27s\n",
      "109:\tlearn: 0.0748267\ttotal: 156ms\tremaining: 1.26s\n",
      "110:\tlearn: 0.0737527\ttotal: 156ms\tremaining: 1.25s\n",
      "111:\tlearn: 0.0728525\ttotal: 158ms\tremaining: 1.25s\n",
      "112:\tlearn: 0.0715030\ttotal: 161ms\tremaining: 1.26s\n",
      "113:\tlearn: 0.0703584\ttotal: 161ms\tremaining: 1.25s\n",
      "114:\tlearn: 0.0692824\ttotal: 163ms\tremaining: 1.25s\n",
      "115:\tlearn: 0.0680922\ttotal: 163ms\tremaining: 1.24s\n",
      "116:\tlearn: 0.0671585\ttotal: 164ms\tremaining: 1.24s\n",
      "117:\tlearn: 0.0664770\ttotal: 164ms\tremaining: 1.23s\n",
      "118:\tlearn: 0.0655016\ttotal: 165ms\tremaining: 1.22s\n",
      "119:\tlearn: 0.0644703\ttotal: 176ms\tremaining: 1.29s\n",
      "120:\tlearn: 0.0640764\ttotal: 176ms\tremaining: 1.28s\n",
      "121:\tlearn: 0.0633212\ttotal: 177ms\tremaining: 1.27s\n",
      "122:\tlearn: 0.0627074\ttotal: 178ms\tremaining: 1.27s\n",
      "123:\tlearn: 0.0622154\ttotal: 179ms\tremaining: 1.26s\n",
      "124:\tlearn: 0.0616632\ttotal: 180ms\tremaining: 1.26s\n",
      "125:\tlearn: 0.0609247\ttotal: 182ms\tremaining: 1.26s\n",
      "126:\tlearn: 0.0603564\ttotal: 183ms\tremaining: 1.25s\n",
      "127:\tlearn: 0.0598040\ttotal: 183ms\tremaining: 1.25s\n",
      "128:\tlearn: 0.0591431\ttotal: 185ms\tremaining: 1.25s\n",
      "129:\tlearn: 0.0585573\ttotal: 186ms\tremaining: 1.24s\n",
      "130:\tlearn: 0.0579438\ttotal: 186ms\tremaining: 1.24s\n",
      "131:\tlearn: 0.0576226\ttotal: 188ms\tremaining: 1.23s\n",
      "132:\tlearn: 0.0572506\ttotal: 189ms\tremaining: 1.23s\n",
      "133:\tlearn: 0.0569434\ttotal: 190ms\tremaining: 1.23s\n",
      "134:\tlearn: 0.0565207\ttotal: 192ms\tremaining: 1.23s\n",
      "135:\tlearn: 0.0559521\ttotal: 192ms\tremaining: 1.22s\n",
      "136:\tlearn: 0.0555662\ttotal: 193ms\tremaining: 1.21s\n",
      "137:\tlearn: 0.0550803\ttotal: 193ms\tremaining: 1.21s\n",
      "138:\tlearn: 0.0546992\ttotal: 194ms\tremaining: 1.2s\n",
      "139:\tlearn: 0.0542170\ttotal: 196ms\tremaining: 1.2s\n",
      "140:\tlearn: 0.0537242\ttotal: 196ms\tremaining: 1.2s\n",
      "141:\tlearn: 0.0532770\ttotal: 197ms\tremaining: 1.19s\n",
      "142:\tlearn: 0.0530551\ttotal: 198ms\tremaining: 1.19s\n",
      "143:\tlearn: 0.0527035\ttotal: 199ms\tremaining: 1.18s\n",
      "144:\tlearn: 0.0523855\ttotal: 199ms\tremaining: 1.17s\n",
      "145:\tlearn: 0.0520559\ttotal: 199ms\tremaining: 1.17s\n",
      "146:\tlearn: 0.0517332\ttotal: 200ms\tremaining: 1.16s\n",
      "147:\tlearn: 0.0513010\ttotal: 200ms\tremaining: 1.15s\n",
      "148:\tlearn: 0.0510286\ttotal: 200ms\tremaining: 1.14s\n",
      "149:\tlearn: 0.0508142\ttotal: 205ms\tremaining: 1.16s\n",
      "150:\tlearn: 0.0506208\ttotal: 205ms\tremaining: 1.15s\n",
      "151:\tlearn: 0.0503350\ttotal: 206ms\tremaining: 1.15s\n",
      "152:\tlearn: 0.0501322\ttotal: 207ms\tremaining: 1.15s\n",
      "153:\tlearn: 0.0497884\ttotal: 207ms\tremaining: 1.14s\n",
      "154:\tlearn: 0.0494929\ttotal: 208ms\tremaining: 1.13s\n",
      "155:\tlearn: 0.0492356\ttotal: 208ms\tremaining: 1.13s\n",
      "156:\tlearn: 0.0490347\ttotal: 209ms\tremaining: 1.12s\n",
      "157:\tlearn: 0.0487980\ttotal: 210ms\tremaining: 1.12s\n",
      "158:\tlearn: 0.0485948\ttotal: 211ms\tremaining: 1.11s\n",
      "159:\tlearn: 0.0483659\ttotal: 211ms\tremaining: 1.11s\n",
      "160:\tlearn: 0.0481097\ttotal: 216ms\tremaining: 1.12s\n",
      "161:\tlearn: 0.0478127\ttotal: 217ms\tremaining: 1.12s\n",
      "162:\tlearn: 0.0475878\ttotal: 218ms\tremaining: 1.12s\n",
      "163:\tlearn: 0.0473664\ttotal: 220ms\tremaining: 1.12s\n",
      "164:\tlearn: 0.0471822\ttotal: 221ms\tremaining: 1.12s\n",
      "165:\tlearn: 0.0469804\ttotal: 222ms\tremaining: 1.11s\n",
      "166:\tlearn: 0.0467316\ttotal: 222ms\tremaining: 1.11s\n",
      "167:\tlearn: 0.0465862\ttotal: 223ms\tremaining: 1.1s\n",
      "168:\tlearn: 0.0464286\ttotal: 223ms\tremaining: 1.1s\n",
      "169:\tlearn: 0.0462391\ttotal: 224ms\tremaining: 1.09s\n",
      "170:\tlearn: 0.0460505\ttotal: 224ms\tremaining: 1.08s\n",
      "171:\tlearn: 0.0457863\ttotal: 224ms\tremaining: 1.08s\n",
      "172:\tlearn: 0.0456151\ttotal: 225ms\tremaining: 1.07s\n",
      "173:\tlearn: 0.0454048\ttotal: 225ms\tremaining: 1.07s\n",
      "174:\tlearn: 0.0452097\ttotal: 226ms\tremaining: 1.06s\n",
      "175:\tlearn: 0.0450685\ttotal: 226ms\tremaining: 1.06s\n",
      "176:\tlearn: 0.0449058\ttotal: 227ms\tremaining: 1.05s\n",
      "177:\tlearn: 0.0447828\ttotal: 228ms\tremaining: 1.05s\n",
      "178:\tlearn: 0.0446331\ttotal: 230ms\tremaining: 1.06s\n",
      "179:\tlearn: 0.0443818\ttotal: 236ms\tremaining: 1.08s\n",
      "180:\tlearn: 0.0442128\ttotal: 245ms\tremaining: 1.11s\n",
      "181:\tlearn: 0.0441026\ttotal: 245ms\tremaining: 1.1s\n",
      "182:\tlearn: 0.0439615\ttotal: 246ms\tremaining: 1.1s\n",
      "183:\tlearn: 0.0438753\ttotal: 246ms\tremaining: 1.09s\n",
      "184:\tlearn: 0.0437522\ttotal: 248ms\tremaining: 1.09s\n",
      "185:\tlearn: 0.0435237\ttotal: 248ms\tremaining: 1.09s\n",
      "186:\tlearn: 0.0433882\ttotal: 249ms\tremaining: 1.08s\n",
      "187:\tlearn: 0.0432116\ttotal: 249ms\tremaining: 1.08s\n",
      "188:\tlearn: 0.0430693\ttotal: 254ms\tremaining: 1.09s\n",
      "189:\tlearn: 0.0429711\ttotal: 254ms\tremaining: 1.08s\n",
      "190:\tlearn: 0.0428509\ttotal: 262ms\tremaining: 1.11s\n"
     ]
    },
    {
     "name": "stdout",
     "output_type": "stream",
     "text": [
      "191:\tlearn: 0.0427341\ttotal: 266ms\tremaining: 1.12s\n",
      "192:\tlearn: 0.0425869\ttotal: 279ms\tremaining: 1.17s\n",
      "193:\tlearn: 0.0424699\ttotal: 280ms\tremaining: 1.16s\n",
      "194:\tlearn: 0.0423278\ttotal: 280ms\tremaining: 1.16s\n",
      "195:\tlearn: 0.0421891\ttotal: 280ms\tremaining: 1.15s\n",
      "196:\tlearn: 0.0420475\ttotal: 281ms\tremaining: 1.14s\n",
      "197:\tlearn: 0.0419345\ttotal: 281ms\tremaining: 1.14s\n",
      "198:\tlearn: 0.0417884\ttotal: 282ms\tremaining: 1.13s\n",
      "199:\tlearn: 0.0416821\ttotal: 282ms\tremaining: 1.13s\n",
      "200:\tlearn: 0.0414915\ttotal: 286ms\tremaining: 1.14s\n",
      "201:\tlearn: 0.0414038\ttotal: 287ms\tremaining: 1.13s\n",
      "202:\tlearn: 0.0413196\ttotal: 287ms\tremaining: 1.13s\n",
      "203:\tlearn: 0.0411816\ttotal: 288ms\tremaining: 1.13s\n",
      "204:\tlearn: 0.0410315\ttotal: 290ms\tremaining: 1.12s\n",
      "205:\tlearn: 0.0409046\ttotal: 291ms\tremaining: 1.12s\n",
      "206:\tlearn: 0.0408034\ttotal: 291ms\tremaining: 1.11s\n",
      "207:\tlearn: 0.0407312\ttotal: 292ms\tremaining: 1.11s\n",
      "208:\tlearn: 0.0405999\ttotal: 293ms\tremaining: 1.11s\n",
      "209:\tlearn: 0.0405253\ttotal: 293ms\tremaining: 1.1s\n",
      "210:\tlearn: 0.0404377\ttotal: 295ms\tremaining: 1.1s\n",
      "211:\tlearn: 0.0402684\ttotal: 296ms\tremaining: 1.1s\n",
      "212:\tlearn: 0.0400554\ttotal: 297ms\tremaining: 1.1s\n",
      "213:\tlearn: 0.0399591\ttotal: 298ms\tremaining: 1.09s\n",
      "214:\tlearn: 0.0398878\ttotal: 299ms\tremaining: 1.09s\n",
      "215:\tlearn: 0.0396833\ttotal: 300ms\tremaining: 1.09s\n",
      "216:\tlearn: 0.0395531\ttotal: 303ms\tremaining: 1.09s\n",
      "217:\tlearn: 0.0393766\ttotal: 303ms\tremaining: 1.09s\n",
      "218:\tlearn: 0.0392805\ttotal: 304ms\tremaining: 1.08s\n",
      "219:\tlearn: 0.0392166\ttotal: 304ms\tremaining: 1.08s\n",
      "220:\tlearn: 0.0390851\ttotal: 305ms\tremaining: 1.07s\n",
      "221:\tlearn: 0.0389875\ttotal: 314ms\tremaining: 1.1s\n",
      "222:\tlearn: 0.0388235\ttotal: 316ms\tremaining: 1.1s\n",
      "223:\tlearn: 0.0387014\ttotal: 317ms\tremaining: 1.1s\n",
      "224:\tlearn: 0.0386011\ttotal: 319ms\tremaining: 1.1s\n",
      "225:\tlearn: 0.0384635\ttotal: 320ms\tremaining: 1.09s\n",
      "226:\tlearn: 0.0383633\ttotal: 321ms\tremaining: 1.09s\n",
      "227:\tlearn: 0.0382979\ttotal: 322ms\tremaining: 1.09s\n",
      "228:\tlearn: 0.0381546\ttotal: 322ms\tremaining: 1.08s\n",
      "229:\tlearn: 0.0380554\ttotal: 323ms\tremaining: 1.08s\n",
      "230:\tlearn: 0.0379332\ttotal: 324ms\tremaining: 1.08s\n",
      "231:\tlearn: 0.0378295\ttotal: 325ms\tremaining: 1.07s\n",
      "232:\tlearn: 0.0377763\ttotal: 326ms\tremaining: 1.07s\n",
      "233:\tlearn: 0.0376820\ttotal: 328ms\tremaining: 1.07s\n",
      "234:\tlearn: 0.0375769\ttotal: 329ms\tremaining: 1.07s\n",
      "235:\tlearn: 0.0375006\ttotal: 336ms\tremaining: 1.09s\n",
      "236:\tlearn: 0.0373232\ttotal: 337ms\tremaining: 1.08s\n",
      "237:\tlearn: 0.0372256\ttotal: 338ms\tremaining: 1.08s\n",
      "238:\tlearn: 0.0371270\ttotal: 338ms\tremaining: 1.08s\n",
      "239:\tlearn: 0.0370197\ttotal: 339ms\tremaining: 1.07s\n",
      "240:\tlearn: 0.0369394\ttotal: 342ms\tremaining: 1.08s\n",
      "241:\tlearn: 0.0368222\ttotal: 346ms\tremaining: 1.08s\n",
      "242:\tlearn: 0.0367681\ttotal: 347ms\tremaining: 1.08s\n",
      "243:\tlearn: 0.0365801\ttotal: 349ms\tremaining: 1.08s\n",
      "244:\tlearn: 0.0364960\ttotal: 350ms\tremaining: 1.08s\n",
      "245:\tlearn: 0.0364479\ttotal: 351ms\tremaining: 1.08s\n",
      "246:\tlearn: 0.0363744\ttotal: 352ms\tremaining: 1.07s\n",
      "247:\tlearn: 0.0361404\ttotal: 353ms\tremaining: 1.07s\n",
      "248:\tlearn: 0.0359692\ttotal: 353ms\tremaining: 1.06s\n",
      "249:\tlearn: 0.0358501\ttotal: 354ms\tremaining: 1.06s\n",
      "250:\tlearn: 0.0356431\ttotal: 354ms\tremaining: 1.06s\n",
      "251:\tlearn: 0.0354486\ttotal: 355ms\tremaining: 1.05s\n",
      "252:\tlearn: 0.0353398\ttotal: 355ms\tremaining: 1.05s\n",
      "253:\tlearn: 0.0351937\ttotal: 356ms\tremaining: 1.04s\n",
      "254:\tlearn: 0.0351077\ttotal: 357ms\tremaining: 1.04s\n",
      "255:\tlearn: 0.0350394\ttotal: 360ms\tremaining: 1.04s\n",
      "256:\tlearn: 0.0349006\ttotal: 361ms\tremaining: 1.04s\n",
      "257:\tlearn: 0.0347873\ttotal: 362ms\tremaining: 1.04s\n",
      "258:\tlearn: 0.0347194\ttotal: 363ms\tremaining: 1.04s\n",
      "259:\tlearn: 0.0346365\ttotal: 364ms\tremaining: 1.03s\n",
      "260:\tlearn: 0.0345244\ttotal: 365ms\tremaining: 1.03s\n",
      "261:\tlearn: 0.0344789\ttotal: 365ms\tremaining: 1.03s\n",
      "262:\tlearn: 0.0343990\ttotal: 367ms\tremaining: 1.03s\n",
      "263:\tlearn: 0.0343395\ttotal: 367ms\tremaining: 1.02s\n"
     ]
    },
    {
     "name": "stdout",
     "output_type": "stream",
     "text": [
      "264:\tlearn: 0.0342321\ttotal: 368ms\tremaining: 1.02s\n",
      "265:\tlearn: 0.0341334\ttotal: 368ms\tremaining: 1.02s\n",
      "266:\tlearn: 0.0340595\ttotal: 369ms\tremaining: 1.01s\n",
      "267:\tlearn: 0.0339147\ttotal: 369ms\tremaining: 1.01s\n",
      "268:\tlearn: 0.0338135\ttotal: 370ms\tremaining: 1s\n",
      "269:\tlearn: 0.0336591\ttotal: 370ms\tremaining: 1s\n",
      "270:\tlearn: 0.0334663\ttotal: 371ms\tremaining: 997ms\n",
      "271:\tlearn: 0.0333873\ttotal: 371ms\tremaining: 993ms\n",
      "272:\tlearn: 0.0332582\ttotal: 374ms\tremaining: 996ms\n",
      "273:\tlearn: 0.0330821\ttotal: 376ms\tremaining: 995ms\n",
      "274:\tlearn: 0.0329658\ttotal: 378ms\tremaining: 997ms\n",
      "275:\tlearn: 0.0328915\ttotal: 379ms\tremaining: 993ms\n",
      "276:\tlearn: 0.0328170\ttotal: 381ms\tremaining: 994ms\n",
      "277:\tlearn: 0.0327354\ttotal: 385ms\tremaining: 1s\n",
      "278:\tlearn: 0.0325738\ttotal: 386ms\tremaining: 997ms\n",
      "279:\tlearn: 0.0324827\ttotal: 386ms\tremaining: 993ms\n",
      "280:\tlearn: 0.0323933\ttotal: 387ms\tremaining: 989ms\n",
      "281:\tlearn: 0.0323067\ttotal: 387ms\tremaining: 986ms\n",
      "282:\tlearn: 0.0322450\ttotal: 390ms\tremaining: 989ms\n",
      "283:\tlearn: 0.0321519\ttotal: 391ms\tremaining: 987ms\n",
      "284:\tlearn: 0.0320024\ttotal: 393ms\tremaining: 985ms\n",
      "285:\tlearn: 0.0319402\ttotal: 394ms\tremaining: 983ms\n",
      "286:\tlearn: 0.0317879\ttotal: 395ms\tremaining: 981ms\n",
      "287:\tlearn: 0.0317443\ttotal: 396ms\tremaining: 980ms\n",
      "288:\tlearn: 0.0316640\ttotal: 397ms\tremaining: 976ms\n",
      "289:\tlearn: 0.0315914\ttotal: 398ms\tremaining: 976ms\n",
      "290:\tlearn: 0.0314592\ttotal: 400ms\tremaining: 974ms\n",
      "291:\tlearn: 0.0313387\ttotal: 403ms\tremaining: 978ms\n",
      "292:\tlearn: 0.0312580\ttotal: 405ms\tremaining: 976ms\n",
      "293:\tlearn: 0.0311760\ttotal: 409ms\tremaining: 981ms\n",
      "294:\tlearn: 0.0310972\ttotal: 410ms\tremaining: 979ms\n",
      "295:\tlearn: 0.0310167\ttotal: 411ms\tremaining: 979ms\n",
      "296:\tlearn: 0.0309114\ttotal: 412ms\tremaining: 976ms\n",
      "297:\tlearn: 0.0308787\ttotal: 413ms\tremaining: 973ms\n",
      "298:\tlearn: 0.0307930\ttotal: 414ms\tremaining: 971ms\n",
      "299:\tlearn: 0.0306537\ttotal: 415ms\tremaining: 968ms\n",
      "300:\tlearn: 0.0305857\ttotal: 419ms\tremaining: 972ms\n",
      "301:\tlearn: 0.0304983\ttotal: 419ms\tremaining: 969ms\n",
      "302:\tlearn: 0.0304665\ttotal: 428ms\tremaining: 984ms\n",
      "303:\tlearn: 0.0303983\ttotal: 430ms\tremaining: 984ms\n",
      "304:\tlearn: 0.0303576\ttotal: 430ms\tremaining: 981ms\n",
      "305:\tlearn: 0.0302837\ttotal: 431ms\tremaining: 977ms\n",
      "306:\tlearn: 0.0301933\ttotal: 431ms\tremaining: 973ms\n",
      "307:\tlearn: 0.0301026\ttotal: 432ms\tremaining: 970ms\n",
      "308:\tlearn: 0.0300722\ttotal: 432ms\tremaining: 967ms\n",
      "309:\tlearn: 0.0300071\ttotal: 433ms\tremaining: 963ms\n",
      "310:\tlearn: 0.0298871\ttotal: 434ms\tremaining: 962ms\n",
      "311:\tlearn: 0.0297925\ttotal: 435ms\tremaining: 958ms\n",
      "312:\tlearn: 0.0296776\ttotal: 435ms\tremaining: 955ms\n",
      "313:\tlearn: 0.0295522\ttotal: 438ms\tremaining: 957ms\n",
      "314:\tlearn: 0.0294765\ttotal: 441ms\tremaining: 958ms\n",
      "315:\tlearn: 0.0294058\ttotal: 441ms\tremaining: 955ms\n",
      "316:\tlearn: 0.0293027\ttotal: 442ms\tremaining: 951ms\n",
      "317:\tlearn: 0.0292408\ttotal: 442ms\tremaining: 948ms\n",
      "318:\tlearn: 0.0291742\ttotal: 446ms\tremaining: 952ms\n",
      "319:\tlearn: 0.0291084\ttotal: 447ms\tremaining: 949ms\n",
      "320:\tlearn: 0.0290063\ttotal: 471ms\tremaining: 996ms\n",
      "321:\tlearn: 0.0289272\ttotal: 478ms\tremaining: 1s\n",
      "322:\tlearn: 0.0288475\ttotal: 488ms\tremaining: 1.02s\n",
      "323:\tlearn: 0.0287855\ttotal: 488ms\tremaining: 1.02s\n",
      "324:\tlearn: 0.0287105\ttotal: 489ms\tremaining: 1.01s\n"
     ]
    },
    {
     "name": "stdout",
     "output_type": "stream",
     "text": [
      "325:\tlearn: 0.0286152\ttotal: 490ms\tremaining: 1.01s\n",
      "326:\tlearn: 0.0285537\ttotal: 491ms\tremaining: 1.01s\n",
      "327:\tlearn: 0.0284776\ttotal: 492ms\tremaining: 1.01s\n",
      "328:\tlearn: 0.0283799\ttotal: 493ms\tremaining: 1s\n",
      "329:\tlearn: 0.0283210\ttotal: 494ms\tremaining: 1s\n",
      "330:\tlearn: 0.0282414\ttotal: 494ms\tremaining: 998ms\n",
      "331:\tlearn: 0.0281564\ttotal: 496ms\tremaining: 998ms\n",
      "332:\tlearn: 0.0280678\ttotal: 500ms\tremaining: 1s\n",
      "333:\tlearn: 0.0280197\ttotal: 502ms\tremaining: 1s\n",
      "334:\tlearn: 0.0279641\ttotal: 502ms\tremaining: 996ms\n",
      "335:\tlearn: 0.0279095\ttotal: 503ms\tremaining: 994ms\n",
      "336:\tlearn: 0.0278410\ttotal: 505ms\tremaining: 993ms\n",
      "337:\tlearn: 0.0277522\ttotal: 506ms\tremaining: 990ms\n",
      "338:\tlearn: 0.0277148\ttotal: 506ms\tremaining: 987ms\n",
      "339:\tlearn: 0.0276631\ttotal: 507ms\tremaining: 985ms\n",
      "340:\tlearn: 0.0275751\ttotal: 509ms\tremaining: 983ms\n",
      "341:\tlearn: 0.0274927\ttotal: 511ms\tremaining: 983ms\n",
      "342:\tlearn: 0.0274521\ttotal: 511ms\tremaining: 980ms\n",
      "343:\tlearn: 0.0273877\ttotal: 513ms\tremaining: 979ms\n",
      "344:\tlearn: 0.0273365\ttotal: 514ms\tremaining: 975ms\n",
      "345:\tlearn: 0.0272650\ttotal: 515ms\tremaining: 973ms\n",
      "346:\tlearn: 0.0271958\ttotal: 517ms\tremaining: 972ms\n",
      "347:\tlearn: 0.0271369\ttotal: 517ms\tremaining: 969ms\n",
      "348:\tlearn: 0.0270894\ttotal: 518ms\tremaining: 966ms\n",
      "349:\tlearn: 0.0270302\ttotal: 520ms\tremaining: 966ms\n",
      "350:\tlearn: 0.0269797\ttotal: 521ms\tremaining: 963ms\n",
      "351:\tlearn: 0.0268974\ttotal: 522ms\tremaining: 961ms\n",
      "352:\tlearn: 0.0268660\ttotal: 523ms\tremaining: 959ms\n",
      "353:\tlearn: 0.0268113\ttotal: 526ms\tremaining: 960ms\n",
      "354:\tlearn: 0.0267769\ttotal: 526ms\tremaining: 956ms\n",
      "355:\tlearn: 0.0267190\ttotal: 527ms\tremaining: 953ms\n",
      "356:\tlearn: 0.0266487\ttotal: 527ms\tremaining: 949ms\n",
      "357:\tlearn: 0.0266030\ttotal: 529ms\tremaining: 948ms\n",
      "358:\tlearn: 0.0265521\ttotal: 529ms\tremaining: 945ms\n",
      "359:\tlearn: 0.0265309\ttotal: 531ms\tremaining: 943ms\n",
      "360:\tlearn: 0.0264814\ttotal: 531ms\tremaining: 940ms\n",
      "361:\tlearn: 0.0264232\ttotal: 534ms\tremaining: 940ms\n",
      "362:\tlearn: 0.0263725\ttotal: 535ms\tremaining: 939ms\n",
      "363:\tlearn: 0.0263517\ttotal: 537ms\tremaining: 938ms\n",
      "364:\tlearn: 0.0263319\ttotal: 538ms\tremaining: 936ms\n",
      "365:\tlearn: 0.0262816\ttotal: 540ms\tremaining: 935ms\n",
      "366:\tlearn: 0.0262276\ttotal: 541ms\tremaining: 933ms\n",
      "367:\tlearn: 0.0261756\ttotal: 541ms\tremaining: 930ms\n",
      "368:\tlearn: 0.0261200\ttotal: 542ms\tremaining: 928ms\n",
      "369:\tlearn: 0.0260610\ttotal: 544ms\tremaining: 926ms\n",
      "370:\tlearn: 0.0260108\ttotal: 544ms\tremaining: 922ms\n",
      "371:\tlearn: 0.0259551\ttotal: 545ms\tremaining: 919ms\n",
      "372:\tlearn: 0.0259040\ttotal: 545ms\tremaining: 916ms\n",
      "373:\tlearn: 0.0258766\ttotal: 546ms\tremaining: 913ms\n",
      "374:\tlearn: 0.0258314\ttotal: 547ms\tremaining: 911ms\n",
      "375:\tlearn: 0.0257933\ttotal: 547ms\tremaining: 909ms\n",
      "376:\tlearn: 0.0257650\ttotal: 548ms\tremaining: 905ms\n",
      "377:\tlearn: 0.0256925\ttotal: 548ms\tremaining: 902ms\n",
      "378:\tlearn: 0.0256497\ttotal: 548ms\tremaining: 898ms\n",
      "379:\tlearn: 0.0255874\ttotal: 549ms\tremaining: 895ms\n",
      "380:\tlearn: 0.0255355\ttotal: 549ms\tremaining: 892ms\n",
      "381:\tlearn: 0.0254790\ttotal: 550ms\tremaining: 889ms\n",
      "382:\tlearn: 0.0254350\ttotal: 551ms\tremaining: 887ms\n",
      "383:\tlearn: 0.0253884\ttotal: 552ms\tremaining: 885ms\n",
      "384:\tlearn: 0.0253407\ttotal: 552ms\tremaining: 882ms\n",
      "385:\tlearn: 0.0253034\ttotal: 553ms\tremaining: 879ms\n",
      "386:\tlearn: 0.0252464\ttotal: 555ms\tremaining: 879ms\n",
      "387:\tlearn: 0.0251973\ttotal: 555ms\tremaining: 876ms\n",
      "388:\tlearn: 0.0251746\ttotal: 556ms\tremaining: 874ms\n",
      "389:\tlearn: 0.0251328\ttotal: 557ms\tremaining: 871ms\n",
      "390:\tlearn: 0.0251067\ttotal: 558ms\tremaining: 869ms\n",
      "391:\tlearn: 0.0250466\ttotal: 559ms\tremaining: 867ms\n",
      "392:\tlearn: 0.0249947\ttotal: 560ms\tremaining: 865ms\n",
      "393:\tlearn: 0.0249003\ttotal: 562ms\tremaining: 864ms\n",
      "394:\tlearn: 0.0248751\ttotal: 562ms\tremaining: 861ms\n",
      "395:\tlearn: 0.0248543\ttotal: 563ms\tremaining: 859ms\n",
      "396:\tlearn: 0.0247770\ttotal: 564ms\tremaining: 857ms\n",
      "397:\tlearn: 0.0247264\ttotal: 565ms\tremaining: 855ms\n",
      "398:\tlearn: 0.0246609\ttotal: 567ms\tremaining: 854ms\n",
      "399:\tlearn: 0.0246416\ttotal: 567ms\tremaining: 851ms\n",
      "400:\tlearn: 0.0246101\ttotal: 573ms\tremaining: 856ms\n",
      "401:\tlearn: 0.0245728\ttotal: 578ms\tremaining: 860ms\n",
      "402:\tlearn: 0.0245272\ttotal: 580ms\tremaining: 859ms\n",
      "403:\tlearn: 0.0244811\ttotal: 580ms\tremaining: 856ms\n",
      "404:\tlearn: 0.0244565\ttotal: 582ms\tremaining: 855ms\n",
      "405:\tlearn: 0.0243830\ttotal: 582ms\tremaining: 852ms\n",
      "406:\tlearn: 0.0243394\ttotal: 583ms\tremaining: 849ms\n",
      "407:\tlearn: 0.0243030\ttotal: 583ms\tremaining: 847ms\n",
      "408:\tlearn: 0.0242781\ttotal: 584ms\tremaining: 844ms\n",
      "409:\tlearn: 0.0242362\ttotal: 584ms\tremaining: 841ms\n",
      "410:\tlearn: 0.0241488\ttotal: 585ms\tremaining: 838ms\n",
      "411:\tlearn: 0.0241130\ttotal: 585ms\tremaining: 835ms\n",
      "412:\tlearn: 0.0240593\ttotal: 592ms\tremaining: 842ms\n",
      "413:\tlearn: 0.0240253\ttotal: 593ms\tremaining: 839ms\n",
      "414:\tlearn: 0.0240017\ttotal: 599ms\tremaining: 844ms\n",
      "415:\tlearn: 0.0239753\ttotal: 599ms\tremaining: 841ms\n",
      "416:\tlearn: 0.0239239\ttotal: 602ms\tremaining: 841ms\n"
     ]
    },
    {
     "name": "stdout",
     "output_type": "stream",
     "text": [
      "417:\tlearn: 0.0238680\ttotal: 603ms\tremaining: 840ms\n",
      "418:\tlearn: 0.0238495\ttotal: 604ms\tremaining: 837ms\n",
      "419:\tlearn: 0.0238274\ttotal: 604ms\tremaining: 834ms\n",
      "420:\tlearn: 0.0237951\ttotal: 605ms\tremaining: 831ms\n",
      "421:\tlearn: 0.0237779\ttotal: 608ms\tremaining: 833ms\n",
      "422:\tlearn: 0.0237328\ttotal: 608ms\tremaining: 830ms\n",
      "423:\tlearn: 0.0237066\ttotal: 609ms\tremaining: 827ms\n",
      "424:\tlearn: 0.0236650\ttotal: 609ms\tremaining: 824ms\n",
      "425:\tlearn: 0.0236243\ttotal: 610ms\tremaining: 822ms\n",
      "426:\tlearn: 0.0235993\ttotal: 610ms\tremaining: 819ms\n",
      "427:\tlearn: 0.0235775\ttotal: 611ms\tremaining: 816ms\n",
      "428:\tlearn: 0.0235484\ttotal: 611ms\tremaining: 814ms\n",
      "429:\tlearn: 0.0235213\ttotal: 649ms\tremaining: 860ms\n",
      "430:\tlearn: 0.0234821\ttotal: 652ms\tremaining: 861ms\n",
      "431:\tlearn: 0.0234656\ttotal: 653ms\tremaining: 859ms\n",
      "432:\tlearn: 0.0234243\ttotal: 654ms\tremaining: 857ms\n",
      "433:\tlearn: 0.0233871\ttotal: 655ms\tremaining: 854ms\n",
      "434:\tlearn: 0.0233184\ttotal: 655ms\tremaining: 851ms\n",
      "435:\tlearn: 0.0232957\ttotal: 655ms\tremaining: 848ms\n",
      "436:\tlearn: 0.0232805\ttotal: 655ms\tremaining: 844ms\n",
      "437:\tlearn: 0.0232530\ttotal: 657ms\tremaining: 843ms\n",
      "438:\tlearn: 0.0232169\ttotal: 657ms\tremaining: 840ms\n",
      "439:\tlearn: 0.0231964\ttotal: 657ms\tremaining: 837ms\n",
      "440:\tlearn: 0.0231684\ttotal: 658ms\tremaining: 834ms\n",
      "441:\tlearn: 0.0231281\ttotal: 658ms\tremaining: 831ms\n",
      "442:\tlearn: 0.0230981\ttotal: 658ms\tremaining: 828ms\n",
      "443:\tlearn: 0.0230673\ttotal: 661ms\tremaining: 828ms\n",
      "444:\tlearn: 0.0230203\ttotal: 662ms\tremaining: 826ms\n",
      "445:\tlearn: 0.0229767\ttotal: 663ms\tremaining: 824ms\n",
      "446:\tlearn: 0.0229127\ttotal: 667ms\tremaining: 825ms\n",
      "447:\tlearn: 0.0228837\ttotal: 671ms\tremaining: 827ms\n",
      "448:\tlearn: 0.0228391\ttotal: 672ms\tremaining: 825ms\n",
      "449:\tlearn: 0.0228010\ttotal: 673ms\tremaining: 822ms\n",
      "450:\tlearn: 0.0227571\ttotal: 673ms\tremaining: 819ms\n",
      "451:\tlearn: 0.0227256\ttotal: 674ms\tremaining: 817ms\n",
      "452:\tlearn: 0.0226864\ttotal: 674ms\tremaining: 814ms\n",
      "453:\tlearn: 0.0226500\ttotal: 675ms\tremaining: 812ms\n",
      "454:\tlearn: 0.0226270\ttotal: 676ms\tremaining: 810ms\n",
      "455:\tlearn: 0.0226073\ttotal: 677ms\tremaining: 808ms\n",
      "456:\tlearn: 0.0225514\ttotal: 678ms\tremaining: 806ms\n",
      "457:\tlearn: 0.0224716\ttotal: 678ms\tremaining: 803ms\n",
      "458:\tlearn: 0.0223956\ttotal: 680ms\tremaining: 801ms\n",
      "459:\tlearn: 0.0223526\ttotal: 681ms\tremaining: 799ms\n",
      "460:\tlearn: 0.0223257\ttotal: 682ms\tremaining: 797ms\n",
      "461:\tlearn: 0.0222933\ttotal: 683ms\tremaining: 795ms\n",
      "462:\tlearn: 0.0222653\ttotal: 684ms\tremaining: 793ms\n",
      "463:\tlearn: 0.0222338\ttotal: 685ms\tremaining: 791ms\n",
      "464:\tlearn: 0.0221957\ttotal: 688ms\tremaining: 792ms\n",
      "465:\tlearn: 0.0221745\ttotal: 689ms\tremaining: 789ms\n",
      "466:\tlearn: 0.0221021\ttotal: 689ms\tremaining: 787ms\n",
      "467:\tlearn: 0.0220441\ttotal: 695ms\tremaining: 790ms\n",
      "468:\tlearn: 0.0220205\ttotal: 696ms\tremaining: 789ms\n",
      "469:\tlearn: 0.0219907\ttotal: 697ms\tremaining: 786ms\n",
      "470:\tlearn: 0.0219721\ttotal: 698ms\tremaining: 784ms\n",
      "471:\tlearn: 0.0219167\ttotal: 699ms\tremaining: 782ms\n",
      "472:\tlearn: 0.0219037\ttotal: 700ms\tremaining: 780ms\n",
      "473:\tlearn: 0.0218639\ttotal: 700ms\tremaining: 777ms\n",
      "474:\tlearn: 0.0218523\ttotal: 701ms\tremaining: 774ms\n",
      "475:\tlearn: 0.0218320\ttotal: 701ms\tremaining: 772ms\n",
      "476:\tlearn: 0.0218074\ttotal: 702ms\tremaining: 770ms\n",
      "477:\tlearn: 0.0217814\ttotal: 703ms\tremaining: 768ms\n",
      "478:\tlearn: 0.0217527\ttotal: 706ms\tremaining: 768ms\n",
      "479:\tlearn: 0.0217216\ttotal: 707ms\tremaining: 765ms\n",
      "480:\tlearn: 0.0216975\ttotal: 707ms\tremaining: 763ms\n",
      "481:\tlearn: 0.0216436\ttotal: 707ms\tremaining: 760ms\n",
      "482:\tlearn: 0.0216142\ttotal: 708ms\tremaining: 758ms\n",
      "483:\tlearn: 0.0215984\ttotal: 708ms\tremaining: 755ms\n"
     ]
    },
    {
     "name": "stdout",
     "output_type": "stream",
     "text": [
      "484:\tlearn: 0.0215595\ttotal: 709ms\tremaining: 753ms\n",
      "485:\tlearn: 0.0215293\ttotal: 711ms\tremaining: 752ms\n",
      "486:\tlearn: 0.0215053\ttotal: 712ms\tremaining: 750ms\n",
      "487:\tlearn: 0.0214641\ttotal: 712ms\tremaining: 747ms\n",
      "488:\tlearn: 0.0214351\ttotal: 712ms\tremaining: 744ms\n",
      "489:\tlearn: 0.0213959\ttotal: 718ms\tremaining: 747ms\n",
      "490:\tlearn: 0.0213619\ttotal: 719ms\tremaining: 745ms\n",
      "491:\tlearn: 0.0213083\ttotal: 720ms\tremaining: 743ms\n",
      "492:\tlearn: 0.0212858\ttotal: 722ms\tremaining: 743ms\n",
      "493:\tlearn: 0.0212559\ttotal: 724ms\tremaining: 741ms\n",
      "494:\tlearn: 0.0212090\ttotal: 724ms\tremaining: 739ms\n",
      "495:\tlearn: 0.0211816\ttotal: 726ms\tremaining: 738ms\n",
      "496:\tlearn: 0.0211550\ttotal: 727ms\tremaining: 736ms\n",
      "497:\tlearn: 0.0211291\ttotal: 728ms\tremaining: 734ms\n",
      "498:\tlearn: 0.0210981\ttotal: 729ms\tremaining: 732ms\n",
      "499:\tlearn: 0.0210685\ttotal: 730ms\tremaining: 730ms\n",
      "500:\tlearn: 0.0210488\ttotal: 731ms\tremaining: 728ms\n",
      "501:\tlearn: 0.0210184\ttotal: 733ms\tremaining: 727ms\n",
      "502:\tlearn: 0.0209948\ttotal: 733ms\tremaining: 724ms\n",
      "503:\tlearn: 0.0209621\ttotal: 734ms\tremaining: 722ms\n",
      "504:\tlearn: 0.0209429\ttotal: 734ms\tremaining: 720ms\n",
      "505:\tlearn: 0.0209154\ttotal: 735ms\tremaining: 717ms\n",
      "506:\tlearn: 0.0209045\ttotal: 735ms\tremaining: 715ms\n",
      "507:\tlearn: 0.0208852\ttotal: 735ms\tremaining: 712ms\n",
      "508:\tlearn: 0.0208741\ttotal: 738ms\tremaining: 712ms\n",
      "509:\tlearn: 0.0208382\ttotal: 740ms\tremaining: 711ms\n",
      "510:\tlearn: 0.0208170\ttotal: 740ms\tremaining: 708ms\n",
      "511:\tlearn: 0.0207962\ttotal: 741ms\tremaining: 706ms\n",
      "512:\tlearn: 0.0207679\ttotal: 741ms\tremaining: 704ms\n",
      "513:\tlearn: 0.0207483\ttotal: 743ms\tremaining: 703ms\n",
      "514:\tlearn: 0.0207176\ttotal: 744ms\tremaining: 700ms\n",
      "515:\tlearn: 0.0206910\ttotal: 744ms\tremaining: 698ms\n",
      "516:\tlearn: 0.0206485\ttotal: 746ms\tremaining: 697ms\n",
      "517:\tlearn: 0.0206266\ttotal: 747ms\tremaining: 695ms\n",
      "518:\tlearn: 0.0206028\ttotal: 748ms\tremaining: 693ms\n",
      "519:\tlearn: 0.0205796\ttotal: 749ms\tremaining: 692ms\n",
      "520:\tlearn: 0.0205699\ttotal: 750ms\tremaining: 690ms\n",
      "521:\tlearn: 0.0205447\ttotal: 752ms\tremaining: 689ms\n",
      "522:\tlearn: 0.0204788\ttotal: 753ms\tremaining: 687ms\n",
      "523:\tlearn: 0.0204479\ttotal: 755ms\tremaining: 686ms\n",
      "524:\tlearn: 0.0204242\ttotal: 756ms\tremaining: 684ms\n",
      "525:\tlearn: 0.0204137\ttotal: 757ms\tremaining: 682ms\n",
      "526:\tlearn: 0.0203800\ttotal: 760ms\tremaining: 682ms\n",
      "527:\tlearn: 0.0203462\ttotal: 765ms\tremaining: 684ms\n",
      "528:\tlearn: 0.0203113\ttotal: 766ms\tremaining: 682ms\n",
      "529:\tlearn: 0.0203006\ttotal: 767ms\tremaining: 680ms\n",
      "530:\tlearn: 0.0202775\ttotal: 767ms\tremaining: 677ms\n",
      "531:\tlearn: 0.0202621\ttotal: 768ms\tremaining: 676ms\n",
      "532:\tlearn: 0.0202433\ttotal: 769ms\tremaining: 674ms\n",
      "533:\tlearn: 0.0202097\ttotal: 769ms\tremaining: 671ms\n",
      "534:\tlearn: 0.0201587\ttotal: 770ms\tremaining: 669ms\n",
      "535:\tlearn: 0.0201352\ttotal: 770ms\tremaining: 667ms\n",
      "536:\tlearn: 0.0201068\ttotal: 771ms\tremaining: 665ms\n",
      "537:\tlearn: 0.0200778\ttotal: 774ms\tremaining: 665ms\n",
      "538:\tlearn: 0.0200622\ttotal: 774ms\tremaining: 662ms\n",
      "539:\tlearn: 0.0200490\ttotal: 775ms\tremaining: 660ms\n",
      "540:\tlearn: 0.0200173\ttotal: 775ms\tremaining: 658ms\n",
      "541:\tlearn: 0.0199998\ttotal: 775ms\tremaining: 655ms\n",
      "542:\tlearn: 0.0199788\ttotal: 780ms\tremaining: 656ms\n",
      "543:\tlearn: 0.0199528\ttotal: 782ms\tremaining: 655ms\n",
      "544:\tlearn: 0.0199218\ttotal: 782ms\tremaining: 653ms\n",
      "545:\tlearn: 0.0199032\ttotal: 785ms\tremaining: 652ms\n",
      "546:\tlearn: 0.0198820\ttotal: 785ms\tremaining: 650ms\n",
      "547:\tlearn: 0.0198490\ttotal: 787ms\tremaining: 649ms\n",
      "548:\tlearn: 0.0198131\ttotal: 788ms\tremaining: 647ms\n",
      "549:\tlearn: 0.0198005\ttotal: 789ms\tremaining: 645ms\n",
      "550:\tlearn: 0.0197774\ttotal: 789ms\tremaining: 643ms\n",
      "551:\tlearn: 0.0197473\ttotal: 790ms\tremaining: 641ms\n",
      "552:\tlearn: 0.0197354\ttotal: 790ms\tremaining: 639ms\n",
      "553:\tlearn: 0.0197220\ttotal: 791ms\tremaining: 636ms\n",
      "554:\tlearn: 0.0196875\ttotal: 791ms\tremaining: 634ms\n",
      "555:\tlearn: 0.0196631\ttotal: 792ms\tremaining: 632ms\n",
      "556:\tlearn: 0.0196382\ttotal: 795ms\tremaining: 632ms\n",
      "557:\tlearn: 0.0196186\ttotal: 798ms\tremaining: 632ms\n",
      "558:\tlearn: 0.0195970\ttotal: 799ms\tremaining: 630ms\n",
      "559:\tlearn: 0.0195727\ttotal: 800ms\tremaining: 629ms\n",
      "560:\tlearn: 0.0195418\ttotal: 800ms\tremaining: 626ms\n",
      "561:\tlearn: 0.0195291\ttotal: 801ms\tremaining: 625ms\n",
      "562:\tlearn: 0.0195027\ttotal: 803ms\tremaining: 624ms\n",
      "563:\tlearn: 0.0194696\ttotal: 804ms\tremaining: 621ms\n",
      "564:\tlearn: 0.0194615\ttotal: 804ms\tremaining: 619ms\n",
      "565:\tlearn: 0.0194207\ttotal: 805ms\tremaining: 618ms\n",
      "566:\tlearn: 0.0194118\ttotal: 816ms\tremaining: 623ms\n",
      "567:\tlearn: 0.0193894\ttotal: 817ms\tremaining: 622ms\n",
      "568:\tlearn: 0.0193785\ttotal: 818ms\tremaining: 620ms\n",
      "569:\tlearn: 0.0193494\ttotal: 818ms\tremaining: 617ms\n",
      "570:\tlearn: 0.0193169\ttotal: 819ms\tremaining: 615ms\n",
      "571:\tlearn: 0.0193060\ttotal: 819ms\tremaining: 613ms\n",
      "572:\tlearn: 0.0192802\ttotal: 820ms\tremaining: 611ms\n",
      "573:\tlearn: 0.0192677\ttotal: 820ms\tremaining: 609ms\n",
      "574:\tlearn: 0.0192484\ttotal: 821ms\tremaining: 607ms\n",
      "575:\tlearn: 0.0192315\ttotal: 821ms\tremaining: 605ms\n",
      "576:\tlearn: 0.0191987\ttotal: 822ms\tremaining: 602ms\n",
      "577:\tlearn: 0.0191780\ttotal: 822ms\tremaining: 600ms\n"
     ]
    },
    {
     "name": "stdout",
     "output_type": "stream",
     "text": [
      "578:\tlearn: 0.0191720\ttotal: 832ms\tremaining: 605ms\n",
      "579:\tlearn: 0.0191346\ttotal: 835ms\tremaining: 605ms\n",
      "580:\tlearn: 0.0191039\ttotal: 836ms\tremaining: 603ms\n",
      "581:\tlearn: 0.0190850\ttotal: 837ms\tremaining: 601ms\n",
      "582:\tlearn: 0.0190654\ttotal: 837ms\tremaining: 599ms\n",
      "583:\tlearn: 0.0190548\ttotal: 839ms\tremaining: 598ms\n",
      "584:\tlearn: 0.0190220\ttotal: 839ms\tremaining: 595ms\n",
      "585:\tlearn: 0.0190001\ttotal: 840ms\tremaining: 594ms\n",
      "586:\tlearn: 0.0189831\ttotal: 841ms\tremaining: 591ms\n",
      "587:\tlearn: 0.0189725\ttotal: 841ms\tremaining: 589ms\n",
      "588:\tlearn: 0.0189456\ttotal: 844ms\tremaining: 589ms\n",
      "589:\tlearn: 0.0189257\ttotal: 845ms\tremaining: 587ms\n",
      "590:\tlearn: 0.0188793\ttotal: 845ms\tremaining: 585ms\n",
      "591:\tlearn: 0.0188610\ttotal: 845ms\tremaining: 582ms\n",
      "592:\tlearn: 0.0188241\ttotal: 845ms\tremaining: 580ms\n",
      "593:\tlearn: 0.0188049\ttotal: 846ms\tremaining: 578ms\n",
      "594:\tlearn: 0.0187973\ttotal: 846ms\tremaining: 576ms\n",
      "595:\tlearn: 0.0187674\ttotal: 846ms\tremaining: 574ms\n",
      "596:\tlearn: 0.0187440\ttotal: 846ms\tremaining: 571ms\n",
      "597:\tlearn: 0.0187279\ttotal: 849ms\tremaining: 571ms\n",
      "598:\tlearn: 0.0187090\ttotal: 850ms\tremaining: 569ms\n",
      "599:\tlearn: 0.0186792\ttotal: 850ms\tremaining: 567ms\n",
      "600:\tlearn: 0.0186349\ttotal: 850ms\tremaining: 565ms\n",
      "601:\tlearn: 0.0185805\ttotal: 851ms\tremaining: 562ms\n",
      "602:\tlearn: 0.0185667\ttotal: 851ms\tremaining: 560ms\n",
      "603:\tlearn: 0.0185513\ttotal: 851ms\tremaining: 558ms\n",
      "604:\tlearn: 0.0185294\ttotal: 855ms\tremaining: 558ms\n",
      "605:\tlearn: 0.0185055\ttotal: 856ms\tremaining: 556ms\n",
      "606:\tlearn: 0.0184955\ttotal: 856ms\tremaining: 554ms\n",
      "607:\tlearn: 0.0184735\ttotal: 857ms\tremaining: 553ms\n",
      "608:\tlearn: 0.0184321\ttotal: 858ms\tremaining: 551ms\n",
      "609:\tlearn: 0.0184162\ttotal: 858ms\tremaining: 549ms\n",
      "610:\tlearn: 0.0184007\ttotal: 859ms\tremaining: 547ms\n",
      "611:\tlearn: 0.0183773\ttotal: 859ms\tremaining: 545ms\n",
      "612:\tlearn: 0.0183592\ttotal: 860ms\tremaining: 543ms\n",
      "613:\tlearn: 0.0183301\ttotal: 862ms\tremaining: 542ms\n",
      "614:\tlearn: 0.0183061\ttotal: 863ms\tremaining: 540ms\n",
      "615:\tlearn: 0.0182935\ttotal: 864ms\tremaining: 539ms\n",
      "616:\tlearn: 0.0182808\ttotal: 866ms\tremaining: 538ms\n",
      "617:\tlearn: 0.0182673\ttotal: 866ms\tremaining: 536ms\n",
      "618:\tlearn: 0.0182521\ttotal: 869ms\tremaining: 535ms\n",
      "619:\tlearn: 0.0182398\ttotal: 870ms\tremaining: 533ms\n",
      "620:\tlearn: 0.0182058\ttotal: 870ms\tremaining: 531ms\n",
      "621:\tlearn: 0.0181898\ttotal: 871ms\tremaining: 529ms\n",
      "622:\tlearn: 0.0181689\ttotal: 873ms\tremaining: 529ms\n",
      "623:\tlearn: 0.0181614\ttotal: 875ms\tremaining: 527ms\n",
      "624:\tlearn: 0.0181466\ttotal: 875ms\tremaining: 525ms\n",
      "625:\tlearn: 0.0181399\ttotal: 876ms\tremaining: 523ms\n",
      "626:\tlearn: 0.0181045\ttotal: 877ms\tremaining: 522ms\n",
      "627:\tlearn: 0.0180967\ttotal: 880ms\tremaining: 521ms\n",
      "628:\tlearn: 0.0180807\ttotal: 881ms\tremaining: 520ms\n",
      "629:\tlearn: 0.0180495\ttotal: 881ms\tremaining: 518ms\n",
      "630:\tlearn: 0.0180321\ttotal: 882ms\tremaining: 516ms\n",
      "631:\tlearn: 0.0180234\ttotal: 882ms\tremaining: 514ms\n",
      "632:\tlearn: 0.0179930\ttotal: 883ms\tremaining: 512ms\n",
      "633:\tlearn: 0.0179747\ttotal: 883ms\tremaining: 510ms\n",
      "634:\tlearn: 0.0179637\ttotal: 884ms\tremaining: 508ms\n",
      "635:\tlearn: 0.0179452\ttotal: 891ms\tremaining: 510ms\n",
      "636:\tlearn: 0.0179259\ttotal: 892ms\tremaining: 508ms\n",
      "637:\tlearn: 0.0179004\ttotal: 894ms\tremaining: 507ms\n",
      "638:\tlearn: 0.0178482\ttotal: 895ms\tremaining: 506ms\n",
      "639:\tlearn: 0.0178391\ttotal: 896ms\tremaining: 504ms\n",
      "640:\tlearn: 0.0178303\ttotal: 897ms\tremaining: 502ms\n",
      "641:\tlearn: 0.0178165\ttotal: 899ms\tremaining: 501ms\n",
      "642:\tlearn: 0.0178049\ttotal: 899ms\tremaining: 499ms\n",
      "643:\tlearn: 0.0177854\ttotal: 900ms\tremaining: 498ms\n",
      "644:\tlearn: 0.0177619\ttotal: 902ms\tremaining: 496ms\n",
      "645:\tlearn: 0.0177396\ttotal: 918ms\tremaining: 503ms\n",
      "646:\tlearn: 0.0177127\ttotal: 918ms\tremaining: 501ms\n",
      "647:\tlearn: 0.0176987\ttotal: 919ms\tremaining: 499ms\n",
      "648:\tlearn: 0.0176823\ttotal: 921ms\tremaining: 498ms\n",
      "649:\tlearn: 0.0176521\ttotal: 923ms\tremaining: 497ms\n",
      "650:\tlearn: 0.0176355\ttotal: 924ms\tremaining: 495ms\n",
      "651:\tlearn: 0.0176047\ttotal: 924ms\tremaining: 493ms\n",
      "652:\tlearn: 0.0175880\ttotal: 924ms\tremaining: 491ms\n",
      "653:\tlearn: 0.0175587\ttotal: 924ms\tremaining: 489ms\n",
      "654:\tlearn: 0.0175498\ttotal: 925ms\tremaining: 487ms\n",
      "655:\tlearn: 0.0175323\ttotal: 925ms\tremaining: 485ms\n",
      "656:\tlearn: 0.0175098\ttotal: 927ms\tremaining: 484ms\n",
      "657:\tlearn: 0.0174826\ttotal: 927ms\tremaining: 482ms\n",
      "658:\tlearn: 0.0174578\ttotal: 929ms\tremaining: 481ms\n",
      "659:\tlearn: 0.0174502\ttotal: 929ms\tremaining: 479ms\n",
      "660:\tlearn: 0.0174362\ttotal: 931ms\tremaining: 477ms\n",
      "661:\tlearn: 0.0174143\ttotal: 931ms\tremaining: 475ms\n",
      "662:\tlearn: 0.0174059\ttotal: 931ms\tremaining: 473ms\n",
      "663:\tlearn: 0.0173963\ttotal: 931ms\tremaining: 471ms\n",
      "664:\tlearn: 0.0173808\ttotal: 932ms\tremaining: 469ms\n",
      "665:\tlearn: 0.0173729\ttotal: 938ms\tremaining: 470ms\n",
      "666:\tlearn: 0.0173567\ttotal: 939ms\tremaining: 469ms\n",
      "667:\tlearn: 0.0173357\ttotal: 939ms\tremaining: 467ms\n",
      "668:\tlearn: 0.0173170\ttotal: 940ms\tremaining: 465ms\n",
      "669:\tlearn: 0.0172967\ttotal: 943ms\tremaining: 464ms\n",
      "670:\tlearn: 0.0172767\ttotal: 943ms\tremaining: 462ms\n",
      "671:\tlearn: 0.0172526\ttotal: 945ms\tremaining: 461ms\n",
      "672:\tlearn: 0.0172399\ttotal: 946ms\tremaining: 460ms\n",
      "673:\tlearn: 0.0172172\ttotal: 948ms\tremaining: 459ms\n",
      "674:\tlearn: 0.0172042\ttotal: 950ms\tremaining: 457ms\n",
      "675:\tlearn: 0.0171882\ttotal: 950ms\tremaining: 455ms\n",
      "676:\tlearn: 0.0171397\ttotal: 956ms\tremaining: 456ms\n"
     ]
    },
    {
     "name": "stdout",
     "output_type": "stream",
     "text": [
      "677:\tlearn: 0.0171242\ttotal: 957ms\tremaining: 455ms\n",
      "678:\tlearn: 0.0171042\ttotal: 958ms\tremaining: 453ms\n",
      "679:\tlearn: 0.0170694\ttotal: 960ms\tremaining: 452ms\n",
      "680:\tlearn: 0.0170467\ttotal: 960ms\tremaining: 450ms\n",
      "681:\tlearn: 0.0170003\ttotal: 960ms\tremaining: 448ms\n",
      "682:\tlearn: 0.0169737\ttotal: 961ms\tremaining: 446ms\n",
      "683:\tlearn: 0.0169648\ttotal: 961ms\tremaining: 444ms\n",
      "684:\tlearn: 0.0169573\ttotal: 961ms\tremaining: 442ms\n",
      "685:\tlearn: 0.0169351\ttotal: 962ms\tremaining: 440ms\n",
      "686:\tlearn: 0.0169070\ttotal: 962ms\tremaining: 438ms\n",
      "687:\tlearn: 0.0168991\ttotal: 964ms\tremaining: 437ms\n",
      "688:\tlearn: 0.0168850\ttotal: 966ms\tremaining: 436ms\n",
      "689:\tlearn: 0.0168697\ttotal: 971ms\tremaining: 436ms\n",
      "690:\tlearn: 0.0168518\ttotal: 971ms\tremaining: 434ms\n",
      "691:\tlearn: 0.0168362\ttotal: 972ms\tremaining: 433ms\n",
      "692:\tlearn: 0.0168316\ttotal: 973ms\tremaining: 431ms\n",
      "693:\tlearn: 0.0168178\ttotal: 974ms\tremaining: 429ms\n",
      "694:\tlearn: 0.0168042\ttotal: 974ms\tremaining: 427ms\n",
      "695:\tlearn: 0.0167603\ttotal: 974ms\tremaining: 426ms\n",
      "696:\tlearn: 0.0167272\ttotal: 975ms\tremaining: 424ms\n",
      "697:\tlearn: 0.0167140\ttotal: 975ms\tremaining: 422ms\n",
      "698:\tlearn: 0.0167017\ttotal: 975ms\tremaining: 420ms\n",
      "699:\tlearn: 0.0166851\ttotal: 976ms\tremaining: 418ms\n",
      "700:\tlearn: 0.0166679\ttotal: 977ms\tremaining: 417ms\n",
      "701:\tlearn: 0.0166524\ttotal: 978ms\tremaining: 415ms\n",
      "702:\tlearn: 0.0166418\ttotal: 979ms\tremaining: 414ms\n",
      "703:\tlearn: 0.0166264\ttotal: 981ms\tremaining: 413ms\n",
      "704:\tlearn: 0.0166028\ttotal: 983ms\tremaining: 411ms\n",
      "705:\tlearn: 0.0165964\ttotal: 984ms\tremaining: 410ms\n",
      "706:\tlearn: 0.0165850\ttotal: 986ms\tremaining: 409ms\n",
      "707:\tlearn: 0.0165792\ttotal: 986ms\tremaining: 407ms\n",
      "708:\tlearn: 0.0165574\ttotal: 988ms\tremaining: 406ms\n",
      "709:\tlearn: 0.0165429\ttotal: 988ms\tremaining: 404ms\n",
      "710:\tlearn: 0.0165204\ttotal: 990ms\tremaining: 403ms\n",
      "711:\tlearn: 0.0165063\ttotal: 991ms\tremaining: 401ms\n",
      "712:\tlearn: 0.0164761\ttotal: 992ms\tremaining: 399ms\n",
      "713:\tlearn: 0.0164641\ttotal: 992ms\tremaining: 397ms\n",
      "714:\tlearn: 0.0164546\ttotal: 992ms\tremaining: 396ms\n",
      "715:\tlearn: 0.0164124\ttotal: 993ms\tremaining: 394ms\n",
      "716:\tlearn: 0.0163871\ttotal: 994ms\tremaining: 392ms\n",
      "717:\tlearn: 0.0163751\ttotal: 994ms\tremaining: 390ms\n",
      "718:\tlearn: 0.0163578\ttotal: 997ms\tremaining: 389ms\n",
      "719:\tlearn: 0.0163177\ttotal: 997ms\tremaining: 388ms\n",
      "720:\tlearn: 0.0163076\ttotal: 999ms\tremaining: 386ms\n",
      "721:\tlearn: 0.0162827\ttotal: 1000ms\tremaining: 385ms\n",
      "722:\tlearn: 0.0162765\ttotal: 1s\tremaining: 383ms\n",
      "723:\tlearn: 0.0162509\ttotal: 1s\tremaining: 382ms\n",
      "724:\tlearn: 0.0162400\ttotal: 1s\tremaining: 380ms\n",
      "725:\tlearn: 0.0162158\ttotal: 1s\tremaining: 379ms\n",
      "726:\tlearn: 0.0161929\ttotal: 1s\tremaining: 377ms\n",
      "727:\tlearn: 0.0161791\ttotal: 1.03s\tremaining: 384ms\n",
      "728:\tlearn: 0.0161657\ttotal: 1.03s\tremaining: 382ms\n",
      "729:\tlearn: 0.0161494\ttotal: 1.03s\tremaining: 380ms\n",
      "730:\tlearn: 0.0161381\ttotal: 1.03s\tremaining: 378ms\n",
      "731:\tlearn: 0.0161022\ttotal: 1.03s\tremaining: 377ms\n",
      "732:\tlearn: 0.0160892\ttotal: 1.03s\tremaining: 375ms\n",
      "733:\tlearn: 0.0160674\ttotal: 1.03s\tremaining: 373ms\n",
      "734:\tlearn: 0.0160440\ttotal: 1.03s\tremaining: 372ms\n",
      "735:\tlearn: 0.0160308\ttotal: 1.03s\tremaining: 370ms\n",
      "736:\tlearn: 0.0160157\ttotal: 1.03s\tremaining: 369ms\n",
      "737:\tlearn: 0.0159811\ttotal: 1.03s\tremaining: 367ms\n",
      "738:\tlearn: 0.0159693\ttotal: 1.03s\tremaining: 365ms\n",
      "739:\tlearn: 0.0159520\ttotal: 1.03s\tremaining: 363ms\n",
      "740:\tlearn: 0.0159433\ttotal: 1.03s\tremaining: 361ms\n",
      "741:\tlearn: 0.0159266\ttotal: 1.03s\tremaining: 360ms\n",
      "742:\tlearn: 0.0159039\ttotal: 1.03s\tremaining: 358ms\n",
      "743:\tlearn: 0.0158972\ttotal: 1.03s\tremaining: 356ms\n",
      "744:\tlearn: 0.0158819\ttotal: 1.04s\tremaining: 355ms\n",
      "745:\tlearn: 0.0158635\ttotal: 1.04s\tremaining: 353ms\n",
      "746:\tlearn: 0.0158477\ttotal: 1.04s\tremaining: 352ms\n",
      "747:\tlearn: 0.0158371\ttotal: 1.04s\tremaining: 350ms\n",
      "748:\tlearn: 0.0158103\ttotal: 1.04s\tremaining: 349ms\n",
      "749:\tlearn: 0.0157909\ttotal: 1.04s\tremaining: 347ms\n",
      "750:\tlearn: 0.0157827\ttotal: 1.04s\tremaining: 346ms\n",
      "751:\tlearn: 0.0157562\ttotal: 1.04s\tremaining: 344ms\n",
      "752:\tlearn: 0.0157431\ttotal: 1.04s\tremaining: 342ms\n",
      "753:\tlearn: 0.0157299\ttotal: 1.04s\tremaining: 340ms\n",
      "754:\tlearn: 0.0157214\ttotal: 1.04s\tremaining: 339ms\n",
      "755:\tlearn: 0.0157107\ttotal: 1.04s\tremaining: 337ms\n",
      "756:\tlearn: 0.0156831\ttotal: 1.04s\tremaining: 336ms\n",
      "757:\tlearn: 0.0156688\ttotal: 1.05s\tremaining: 334ms\n",
      "758:\tlearn: 0.0156544\ttotal: 1.05s\tremaining: 332ms\n",
      "759:\tlearn: 0.0156411\ttotal: 1.05s\tremaining: 331ms\n",
      "760:\tlearn: 0.0156284\ttotal: 1.05s\tremaining: 329ms\n",
      "761:\tlearn: 0.0156142\ttotal: 1.05s\tremaining: 327ms\n",
      "762:\tlearn: 0.0155979\ttotal: 1.05s\tremaining: 326ms\n",
      "763:\tlearn: 0.0155919\ttotal: 1.05s\tremaining: 324ms\n",
      "764:\tlearn: 0.0155676\ttotal: 1.05s\tremaining: 322ms\n"
     ]
    },
    {
     "name": "stdout",
     "output_type": "stream",
     "text": [
      "765:\tlearn: 0.0155318\ttotal: 1.08s\tremaining: 329ms\n",
      "766:\tlearn: 0.0155209\ttotal: 1.08s\tremaining: 327ms\n",
      "767:\tlearn: 0.0155070\ttotal: 1.08s\tremaining: 326ms\n",
      "768:\tlearn: 0.0154959\ttotal: 1.08s\tremaining: 324ms\n",
      "769:\tlearn: 0.0154810\ttotal: 1.08s\tremaining: 323ms\n",
      "770:\tlearn: 0.0154728\ttotal: 1.08s\tremaining: 321ms\n",
      "771:\tlearn: 0.0154604\ttotal: 1.08s\tremaining: 319ms\n",
      "772:\tlearn: 0.0154399\ttotal: 1.08s\tremaining: 318ms\n",
      "773:\tlearn: 0.0154286\ttotal: 1.08s\tremaining: 316ms\n",
      "774:\tlearn: 0.0154173\ttotal: 1.08s\tremaining: 314ms\n",
      "775:\tlearn: 0.0153833\ttotal: 1.08s\tremaining: 313ms\n",
      "776:\tlearn: 0.0153702\ttotal: 1.08s\tremaining: 311ms\n",
      "777:\tlearn: 0.0153594\ttotal: 1.08s\tremaining: 310ms\n",
      "778:\tlearn: 0.0153395\ttotal: 1.09s\tremaining: 308ms\n",
      "779:\tlearn: 0.0153293\ttotal: 1.09s\tremaining: 307ms\n",
      "780:\tlearn: 0.0153142\ttotal: 1.09s\tremaining: 305ms\n",
      "781:\tlearn: 0.0153025\ttotal: 1.09s\tremaining: 304ms\n",
      "782:\tlearn: 0.0152872\ttotal: 1.09s\tremaining: 303ms\n",
      "783:\tlearn: 0.0152694\ttotal: 1.09s\tremaining: 301ms\n",
      "784:\tlearn: 0.0152575\ttotal: 1.09s\tremaining: 299ms\n",
      "785:\tlearn: 0.0152508\ttotal: 1.09s\tremaining: 298ms\n",
      "786:\tlearn: 0.0152428\ttotal: 1.1s\tremaining: 297ms\n",
      "787:\tlearn: 0.0152299\ttotal: 1.1s\tremaining: 295ms\n",
      "788:\tlearn: 0.0152047\ttotal: 1.1s\tremaining: 294ms\n",
      "789:\tlearn: 0.0151935\ttotal: 1.1s\tremaining: 292ms\n",
      "790:\tlearn: 0.0151868\ttotal: 1.1s\tremaining: 290ms\n",
      "791:\tlearn: 0.0151672\ttotal: 1.1s\tremaining: 289ms\n",
      "792:\tlearn: 0.0151536\ttotal: 1.1s\tremaining: 288ms\n",
      "793:\tlearn: 0.0151392\ttotal: 1.1s\tremaining: 287ms\n",
      "794:\tlearn: 0.0151348\ttotal: 1.11s\tremaining: 285ms\n",
      "795:\tlearn: 0.0151238\ttotal: 1.11s\tremaining: 284ms\n",
      "796:\tlearn: 0.0151127\ttotal: 1.11s\tremaining: 282ms\n",
      "797:\tlearn: 0.0150887\ttotal: 1.11s\tremaining: 281ms\n",
      "798:\tlearn: 0.0150830\ttotal: 1.11s\tremaining: 279ms\n",
      "799:\tlearn: 0.0150709\ttotal: 1.11s\tremaining: 278ms\n",
      "800:\tlearn: 0.0150652\ttotal: 1.11s\tremaining: 277ms\n",
      "801:\tlearn: 0.0150459\ttotal: 1.11s\tremaining: 275ms\n",
      "802:\tlearn: 0.0150364\ttotal: 1.11s\tremaining: 274ms\n",
      "803:\tlearn: 0.0150111\ttotal: 1.11s\tremaining: 272ms\n",
      "804:\tlearn: 0.0149903\ttotal: 1.12s\tremaining: 270ms\n",
      "805:\tlearn: 0.0149663\ttotal: 1.12s\tremaining: 269ms\n",
      "806:\tlearn: 0.0149541\ttotal: 1.12s\tremaining: 268ms\n",
      "807:\tlearn: 0.0149185\ttotal: 1.12s\tremaining: 267ms\n",
      "808:\tlearn: 0.0149082\ttotal: 1.12s\tremaining: 266ms\n",
      "809:\tlearn: 0.0148975\ttotal: 1.13s\tremaining: 264ms\n",
      "810:\tlearn: 0.0148816\ttotal: 1.13s\tremaining: 263ms\n",
      "811:\tlearn: 0.0148693\ttotal: 1.13s\tremaining: 261ms\n",
      "812:\tlearn: 0.0148514\ttotal: 1.13s\tremaining: 259ms\n",
      "813:\tlearn: 0.0148422\ttotal: 1.13s\tremaining: 258ms\n",
      "814:\tlearn: 0.0148312\ttotal: 1.13s\tremaining: 257ms\n",
      "815:\tlearn: 0.0148152\ttotal: 1.13s\tremaining: 255ms\n",
      "816:\tlearn: 0.0147974\ttotal: 1.13s\tremaining: 254ms\n",
      "817:\tlearn: 0.0147800\ttotal: 1.14s\tremaining: 253ms\n",
      "818:\tlearn: 0.0147610\ttotal: 1.14s\tremaining: 251ms\n",
      "819:\tlearn: 0.0147435\ttotal: 1.14s\tremaining: 250ms\n",
      "820:\tlearn: 0.0147338\ttotal: 1.14s\tremaining: 248ms\n",
      "821:\tlearn: 0.0147250\ttotal: 1.14s\tremaining: 247ms\n",
      "822:\tlearn: 0.0147129\ttotal: 1.14s\tremaining: 245ms\n",
      "823:\tlearn: 0.0146976\ttotal: 1.14s\tremaining: 244ms\n",
      "824:\tlearn: 0.0146752\ttotal: 1.14s\tremaining: 242ms\n",
      "825:\tlearn: 0.0146541\ttotal: 1.14s\tremaining: 241ms\n",
      "826:\tlearn: 0.0146459\ttotal: 1.15s\tremaining: 240ms\n",
      "827:\tlearn: 0.0146386\ttotal: 1.15s\tremaining: 238ms\n",
      "828:\tlearn: 0.0146286\ttotal: 1.15s\tremaining: 237ms\n",
      "829:\tlearn: 0.0146257\ttotal: 1.15s\tremaining: 235ms\n",
      "830:\tlearn: 0.0146154\ttotal: 1.16s\tremaining: 235ms\n",
      "831:\tlearn: 0.0145923\ttotal: 1.16s\tremaining: 234ms\n",
      "832:\tlearn: 0.0145621\ttotal: 1.16s\tremaining: 233ms\n",
      "833:\tlearn: 0.0145503\ttotal: 1.16s\tremaining: 231ms\n",
      "834:\tlearn: 0.0145368\ttotal: 1.16s\tremaining: 230ms\n",
      "835:\tlearn: 0.0145316\ttotal: 1.16s\tremaining: 228ms\n",
      "836:\tlearn: 0.0145015\ttotal: 1.16s\tremaining: 227ms\n",
      "837:\tlearn: 0.0144933\ttotal: 1.17s\tremaining: 225ms\n",
      "838:\tlearn: 0.0144800\ttotal: 1.17s\tremaining: 224ms\n",
      "839:\tlearn: 0.0144758\ttotal: 1.17s\tremaining: 222ms\n",
      "840:\tlearn: 0.0144645\ttotal: 1.17s\tremaining: 221ms\n",
      "841:\tlearn: 0.0144562\ttotal: 1.17s\tremaining: 219ms\n",
      "842:\tlearn: 0.0144336\ttotal: 1.17s\tremaining: 218ms\n",
      "843:\tlearn: 0.0144171\ttotal: 1.17s\tremaining: 216ms\n",
      "844:\tlearn: 0.0144093\ttotal: 1.17s\tremaining: 215ms\n",
      "845:\tlearn: 0.0144008\ttotal: 1.17s\tremaining: 213ms\n",
      "846:\tlearn: 0.0143925\ttotal: 1.17s\tremaining: 212ms\n",
      "847:\tlearn: 0.0143889\ttotal: 1.17s\tremaining: 210ms\n",
      "848:\tlearn: 0.0143713\ttotal: 1.18s\tremaining: 209ms\n",
      "849:\tlearn: 0.0143579\ttotal: 1.18s\tremaining: 208ms\n",
      "850:\tlearn: 0.0143450\ttotal: 1.18s\tremaining: 206ms\n",
      "851:\tlearn: 0.0143272\ttotal: 1.18s\tremaining: 205ms\n",
      "852:\tlearn: 0.0143167\ttotal: 1.18s\tremaining: 203ms\n",
      "853:\tlearn: 0.0143086\ttotal: 1.19s\tremaining: 203ms\n",
      "854:\tlearn: 0.0143034\ttotal: 1.19s\tremaining: 201ms\n",
      "855:\tlearn: 0.0142912\ttotal: 1.19s\tremaining: 200ms\n",
      "856:\tlearn: 0.0142830\ttotal: 1.19s\tremaining: 199ms\n",
      "857:\tlearn: 0.0142572\ttotal: 1.19s\tremaining: 197ms\n",
      "858:\tlearn: 0.0142431\ttotal: 1.19s\tremaining: 196ms\n",
      "859:\tlearn: 0.0142355\ttotal: 1.19s\tremaining: 194ms\n",
      "860:\tlearn: 0.0142249\ttotal: 1.2s\tremaining: 193ms\n",
      "861:\tlearn: 0.0142055\ttotal: 1.2s\tremaining: 192ms\n"
     ]
    },
    {
     "name": "stdout",
     "output_type": "stream",
     "text": [
      "862:\tlearn: 0.0141943\ttotal: 1.2s\tremaining: 191ms\n",
      "863:\tlearn: 0.0141779\ttotal: 1.2s\tremaining: 189ms\n",
      "864:\tlearn: 0.0141535\ttotal: 1.2s\tremaining: 188ms\n",
      "865:\tlearn: 0.0141458\ttotal: 1.2s\tremaining: 186ms\n",
      "866:\tlearn: 0.0141345\ttotal: 1.2s\tremaining: 185ms\n",
      "867:\tlearn: 0.0141131\ttotal: 1.21s\tremaining: 183ms\n",
      "868:\tlearn: 0.0140917\ttotal: 1.21s\tremaining: 182ms\n",
      "869:\tlearn: 0.0140782\ttotal: 1.21s\tremaining: 180ms\n",
      "870:\tlearn: 0.0140682\ttotal: 1.21s\tremaining: 180ms\n",
      "871:\tlearn: 0.0140664\ttotal: 1.22s\tremaining: 178ms\n",
      "872:\tlearn: 0.0140494\ttotal: 1.22s\tremaining: 177ms\n",
      "873:\tlearn: 0.0140314\ttotal: 1.22s\tremaining: 176ms\n",
      "874:\tlearn: 0.0140298\ttotal: 1.22s\tremaining: 174ms\n",
      "875:\tlearn: 0.0140215\ttotal: 1.22s\tremaining: 172ms\n",
      "876:\tlearn: 0.0140105\ttotal: 1.22s\tremaining: 171ms\n",
      "877:\tlearn: 0.0139916\ttotal: 1.22s\tremaining: 169ms\n",
      "878:\tlearn: 0.0139829\ttotal: 1.22s\tremaining: 168ms\n",
      "879:\tlearn: 0.0139724\ttotal: 1.22s\tremaining: 166ms\n",
      "880:\tlearn: 0.0139525\ttotal: 1.22s\tremaining: 165ms\n",
      "881:\tlearn: 0.0139439\ttotal: 1.22s\tremaining: 163ms\n",
      "882:\tlearn: 0.0139338\ttotal: 1.22s\tremaining: 162ms\n",
      "883:\tlearn: 0.0139227\ttotal: 1.22s\tremaining: 160ms\n",
      "884:\tlearn: 0.0139108\ttotal: 1.22s\tremaining: 159ms\n",
      "885:\tlearn: 0.0138928\ttotal: 1.22s\tremaining: 157ms\n",
      "886:\tlearn: 0.0138883\ttotal: 1.22s\tremaining: 156ms\n",
      "887:\tlearn: 0.0138801\ttotal: 1.22s\tremaining: 154ms\n",
      "888:\tlearn: 0.0138715\ttotal: 1.22s\tremaining: 153ms\n",
      "889:\tlearn: 0.0138531\ttotal: 1.22s\tremaining: 151ms\n",
      "890:\tlearn: 0.0138431\ttotal: 1.22s\tremaining: 150ms\n",
      "891:\tlearn: 0.0138307\ttotal: 1.23s\tremaining: 148ms\n",
      "892:\tlearn: 0.0138268\ttotal: 1.23s\tremaining: 147ms\n",
      "893:\tlearn: 0.0138078\ttotal: 1.23s\tremaining: 145ms\n",
      "894:\tlearn: 0.0137986\ttotal: 1.23s\tremaining: 144ms\n",
      "895:\tlearn: 0.0137904\ttotal: 1.23s\tremaining: 142ms\n",
      "896:\tlearn: 0.0137723\ttotal: 1.23s\tremaining: 141ms\n",
      "897:\tlearn: 0.0137585\ttotal: 1.23s\tremaining: 140ms\n",
      "898:\tlearn: 0.0137463\ttotal: 1.23s\tremaining: 138ms\n",
      "899:\tlearn: 0.0137310\ttotal: 1.23s\tremaining: 137ms\n",
      "900:\tlearn: 0.0137223\ttotal: 1.23s\tremaining: 135ms\n",
      "901:\tlearn: 0.0137078\ttotal: 1.23s\tremaining: 134ms\n",
      "902:\tlearn: 0.0136948\ttotal: 1.24s\tremaining: 133ms\n",
      "903:\tlearn: 0.0136841\ttotal: 1.24s\tremaining: 131ms\n",
      "904:\tlearn: 0.0136677\ttotal: 1.24s\tremaining: 131ms\n",
      "905:\tlearn: 0.0136573\ttotal: 1.24s\tremaining: 129ms\n",
      "906:\tlearn: 0.0136472\ttotal: 1.25s\tremaining: 128ms\n",
      "907:\tlearn: 0.0136307\ttotal: 1.25s\tremaining: 126ms\n",
      "908:\tlearn: 0.0136200\ttotal: 1.25s\tremaining: 125ms\n",
      "909:\tlearn: 0.0136082\ttotal: 1.25s\tremaining: 123ms\n",
      "910:\tlearn: 0.0135980\ttotal: 1.25s\tremaining: 122ms\n",
      "911:\tlearn: 0.0135844\ttotal: 1.25s\tremaining: 120ms\n",
      "912:\tlearn: 0.0135754\ttotal: 1.25s\tremaining: 119ms\n",
      "913:\tlearn: 0.0135672\ttotal: 1.25s\tremaining: 118ms\n",
      "914:\tlearn: 0.0135539\ttotal: 1.25s\tremaining: 116ms\n",
      "915:\tlearn: 0.0135384\ttotal: 1.25s\tremaining: 115ms\n",
      "916:\tlearn: 0.0135223\ttotal: 1.25s\tremaining: 114ms\n",
      "917:\tlearn: 0.0134997\ttotal: 1.25s\tremaining: 112ms\n",
      "918:\tlearn: 0.0134909\ttotal: 1.25s\tremaining: 111ms\n",
      "919:\tlearn: 0.0134754\ttotal: 1.26s\tremaining: 109ms\n",
      "920:\tlearn: 0.0134682\ttotal: 1.26s\tremaining: 108ms\n",
      "921:\tlearn: 0.0134573\ttotal: 1.26s\tremaining: 106ms\n",
      "922:\tlearn: 0.0134404\ttotal: 1.26s\tremaining: 105ms\n",
      "923:\tlearn: 0.0134257\ttotal: 1.26s\tremaining: 104ms\n",
      "924:\tlearn: 0.0134191\ttotal: 1.26s\tremaining: 102ms\n",
      "925:\tlearn: 0.0134133\ttotal: 1.26s\tremaining: 101ms\n",
      "926:\tlearn: 0.0134026\ttotal: 1.26s\tremaining: 99.7ms\n",
      "927:\tlearn: 0.0133909\ttotal: 1.27s\tremaining: 98.2ms\n",
      "928:\tlearn: 0.0133864\ttotal: 1.27s\tremaining: 96.8ms\n",
      "929:\tlearn: 0.0133766\ttotal: 1.27s\tremaining: 95.5ms\n",
      "930:\tlearn: 0.0133603\ttotal: 1.27s\tremaining: 94ms\n",
      "931:\tlearn: 0.0133499\ttotal: 1.27s\tremaining: 92.6ms\n",
      "932:\tlearn: 0.0133410\ttotal: 1.27s\tremaining: 91.2ms\n",
      "933:\tlearn: 0.0133306\ttotal: 1.27s\tremaining: 89.8ms\n",
      "934:\tlearn: 0.0133234\ttotal: 1.27s\tremaining: 88.4ms\n",
      "935:\tlearn: 0.0133118\ttotal: 1.27s\tremaining: 87ms\n",
      "936:\tlearn: 0.0132829\ttotal: 1.27s\tremaining: 85.6ms\n",
      "937:\tlearn: 0.0132722\ttotal: 1.27s\tremaining: 84.2ms\n",
      "938:\tlearn: 0.0132682\ttotal: 1.27s\tremaining: 82.8ms\n",
      "939:\tlearn: 0.0132633\ttotal: 1.27s\tremaining: 81.4ms\n",
      "940:\tlearn: 0.0132536\ttotal: 1.27s\tremaining: 80ms\n",
      "941:\tlearn: 0.0132411\ttotal: 1.27s\tremaining: 78.6ms\n",
      "942:\tlearn: 0.0132288\ttotal: 1.28s\tremaining: 77.2ms\n",
      "943:\tlearn: 0.0132207\ttotal: 1.28s\tremaining: 75.8ms\n",
      "944:\tlearn: 0.0132047\ttotal: 1.28s\tremaining: 74.4ms\n",
      "945:\tlearn: 0.0131932\ttotal: 1.28s\tremaining: 73ms\n",
      "946:\tlearn: 0.0131777\ttotal: 1.28s\tremaining: 71.6ms\n",
      "947:\tlearn: 0.0131606\ttotal: 1.28s\tremaining: 70.2ms\n",
      "948:\tlearn: 0.0131498\ttotal: 1.28s\tremaining: 68.8ms\n",
      "949:\tlearn: 0.0131412\ttotal: 1.28s\tremaining: 67.4ms\n",
      "950:\tlearn: 0.0131324\ttotal: 1.28s\tremaining: 66ms\n",
      "951:\tlearn: 0.0131231\ttotal: 1.28s\tremaining: 64.6ms\n",
      "952:\tlearn: 0.0131133\ttotal: 1.28s\tremaining: 63.2ms\n",
      "953:\tlearn: 0.0130873\ttotal: 1.28s\tremaining: 61.8ms\n",
      "954:\tlearn: 0.0130659\ttotal: 1.28s\tremaining: 60.5ms\n",
      "955:\tlearn: 0.0130565\ttotal: 1.28s\tremaining: 59.1ms\n",
      "956:\tlearn: 0.0130462\ttotal: 1.28s\tremaining: 57.7ms\n",
      "957:\tlearn: 0.0130411\ttotal: 1.28s\tremaining: 56.3ms\n",
      "958:\tlearn: 0.0130255\ttotal: 1.28s\tremaining: 54.9ms\n",
      "959:\tlearn: 0.0130090\ttotal: 1.28s\tremaining: 53.6ms\n",
      "960:\tlearn: 0.0130062\ttotal: 1.29s\tremaining: 52.2ms\n",
      "961:\tlearn: 0.0129955\ttotal: 1.29s\tremaining: 50.8ms\n",
      "962:\tlearn: 0.0129879\ttotal: 1.29s\tremaining: 49.5ms\n",
      "963:\tlearn: 0.0129796\ttotal: 1.29s\tremaining: 48.1ms\n",
      "964:\tlearn: 0.0129696\ttotal: 1.29s\tremaining: 46.7ms\n",
      "965:\tlearn: 0.0129448\ttotal: 1.29s\tremaining: 45.4ms\n",
      "966:\tlearn: 0.0129329\ttotal: 1.29s\tremaining: 44ms\n",
      "967:\tlearn: 0.0129064\ttotal: 1.29s\tremaining: 42.6ms\n",
      "968:\tlearn: 0.0128911\ttotal: 1.29s\tremaining: 41.3ms\n",
      "969:\tlearn: 0.0128819\ttotal: 1.29s\tremaining: 39.9ms\n",
      "970:\tlearn: 0.0128717\ttotal: 1.29s\tremaining: 38.6ms\n",
      "971:\tlearn: 0.0128633\ttotal: 1.29s\tremaining: 37.2ms\n",
      "972:\tlearn: 0.0128506\ttotal: 1.29s\tremaining: 35.8ms\n",
      "973:\tlearn: 0.0128386\ttotal: 1.29s\tremaining: 34.5ms\n",
      "974:\tlearn: 0.0128360\ttotal: 1.29s\tremaining: 33.1ms\n",
      "975:\tlearn: 0.0128239\ttotal: 1.29s\tremaining: 31.8ms\n",
      "976:\tlearn: 0.0128098\ttotal: 1.29s\tremaining: 30.5ms\n",
      "977:\tlearn: 0.0128009\ttotal: 1.3s\tremaining: 29.2ms\n",
      "978:\tlearn: 0.0127940\ttotal: 1.3s\tremaining: 27.9ms\n",
      "979:\tlearn: 0.0127901\ttotal: 1.3s\tremaining: 26.6ms\n",
      "980:\tlearn: 0.0127822\ttotal: 1.3s\tremaining: 25.2ms\n",
      "981:\tlearn: 0.0127736\ttotal: 1.3s\tremaining: 23.9ms\n",
      "982:\tlearn: 0.0127580\ttotal: 1.3s\tremaining: 22.6ms\n",
      "983:\tlearn: 0.0127500\ttotal: 1.3s\tremaining: 21.2ms\n",
      "984:\tlearn: 0.0127405\ttotal: 1.31s\tremaining: 19.9ms\n",
      "985:\tlearn: 0.0127403\ttotal: 1.31s\tremaining: 18.6ms\n",
      "986:\tlearn: 0.0127322\ttotal: 1.31s\tremaining: 17.2ms\n",
      "987:\tlearn: 0.0127242\ttotal: 1.31s\tremaining: 15.9ms\n",
      "988:\tlearn: 0.0127129\ttotal: 1.31s\tremaining: 14.6ms\n",
      "989:\tlearn: 0.0127022\ttotal: 1.31s\tremaining: 13.3ms\n",
      "990:\tlearn: 0.0126842\ttotal: 1.31s\tremaining: 11.9ms\n",
      "991:\tlearn: 0.0126765\ttotal: 1.31s\tremaining: 10.6ms\n",
      "992:\tlearn: 0.0126677\ttotal: 1.31s\tremaining: 9.27ms\n",
      "993:\tlearn: 0.0126567\ttotal: 1.31s\tremaining: 7.94ms\n",
      "994:\tlearn: 0.0126453\ttotal: 1.32s\tremaining: 6.61ms\n",
      "995:\tlearn: 0.0126374\ttotal: 1.32s\tremaining: 5.29ms\n",
      "996:\tlearn: 0.0126266\ttotal: 1.32s\tremaining: 3.96ms\n",
      "997:\tlearn: 0.0126205\ttotal: 1.32s\tremaining: 2.64ms\n",
      "998:\tlearn: 0.0126103\ttotal: 1.32s\tremaining: 1.32ms\n",
      "999:\tlearn: 0.0126082\ttotal: 1.32s\tremaining: 0us\n"
     ]
    },
    {
     "data": {
      "text/plain": [
       "<catboost.core.CatBoostRegressor at 0x7f8b8e6d3040>"
      ]
     },
     "execution_count": 9,
     "metadata": {},
     "output_type": "execute_result"
    }
   ],
   "source": [
    "#Train the Model \n",
    "prior_model = ctb.CatBoostRegressor()\n",
    "prior_model.fit(X_train,Y_train)"
   ]
  },
  {
   "cell_type": "code",
   "execution_count": 10,
   "id": "af65dcda",
   "metadata": {
    "execution": {
     "iopub.execute_input": "2022-07-24T21:47:03.854061Z",
     "iopub.status.busy": "2022-07-24T21:47:03.853242Z",
     "iopub.status.idle": "2022-07-24T21:47:03.900254Z",
     "shell.execute_reply": "2022-07-24T21:47:03.897825Z"
    },
    "id": "af65dcda",
    "papermill": {
     "duration": 0.072349,
     "end_time": "2022-07-24T21:47:03.906480",
     "exception": false,
     "start_time": "2022-07-24T21:47:03.834131",
     "status": "completed"
    },
    "tags": []
   },
   "outputs": [
    {
     "data": {
      "application/scrapbook.scrap.json+json": {
       "data": 0.0011953260211824504,
       "encoder": "json",
       "name": "Prior Model MSE",
       "version": 1
      }
     },
     "metadata": {
      "scrapbook": {
       "data": true,
       "display": false,
       "name": "Prior Model MSE"
      }
     },
     "output_type": "display_data"
    },
    {
     "data": {
      "application/scrapbook.scrap.json+json": {
       "data": 1.1186547915592961,
       "encoder": "json",
       "name": "ABC Pre-generator MSE",
       "version": 1
      }
     },
     "metadata": {
      "scrapbook": {
       "data": true,
       "display": false,
       "name": "ABC Pre-generator MSE"
      }
     },
     "output_type": "display_data"
    },
    {
     "data": {
      "application/scrapbook.scrap.json+json": {
       "data": 0.02287819993584495,
       "encoder": "json",
       "name": "Prior Model MAE",
       "version": 1
      }
     },
     "metadata": {
      "scrapbook": {
       "data": true,
       "display": false,
       "name": "Prior Model MAE"
      }
     },
     "output_type": "display_data"
    },
    {
     "name": "stdout",
     "output_type": "stream",
     "text": [
      "Prior Model MAE 0.02287819993584495\n",
      "ABC Pre-generator MAE 0.8567146843883069\n"
     ]
    }
   ],
   "source": [
    "y_pred = prior_model.predict(X_test)\n",
    "y_abc = y_pred + np.random.normal(0,variance, y_pred.shape) + bias \n",
    "mse = mean_squared_error(y_pred,Y_test)\n",
    "sb.glue(\"Prior Model MSE\",mse)\n",
    "mse = mean_squared_error(y_abc,Y_test)\n",
    "sb.glue(\"ABC Pre-generator MSE\",mse)\n",
    "mae = mean_absolute_error(y_pred,Y_test)\n",
    "sb.glue(\"Prior Model MAE\",mae)\n",
    "print(\"Prior Model MAE\",mae)\n",
    "mae = mean_absolute_error(y_abc,Y_test)\n",
    "print(\"ABC Pre-generator MAE\",mae)"
   ]
  },
  {
   "cell_type": "markdown",
   "id": "25609da2",
   "metadata": {
    "papermill": {
     "duration": 0.020544,
     "end_time": "2022-07-24T21:47:03.941221",
     "exception": false,
     "start_time": "2022-07-24T21:47:03.920677",
     "status": "completed"
    },
    "tags": []
   },
   "source": [
    "# mGAN Model"
   ]
  },
  {
   "cell_type": "code",
   "execution_count": 11,
   "id": "dfc3464d",
   "metadata": {
    "execution": {
     "iopub.execute_input": "2022-07-24T21:47:04.007969Z",
     "iopub.status.busy": "2022-07-24T21:47:04.007043Z",
     "iopub.status.idle": "2022-07-24T21:47:04.023609Z",
     "shell.execute_reply": "2022-07-24T21:47:04.015798Z"
    },
    "papermill": {
     "duration": 0.077122,
     "end_time": "2022-07-24T21:47:04.032061",
     "exception": false,
     "start_time": "2022-07-24T21:47:03.954939",
     "status": "completed"
    },
    "tags": []
   },
   "outputs": [],
   "source": [
    "# gen = network.Generator(n_features+1).to(device)\n",
    "# disc = network.Discriminator(n_features+1).to(device)\n",
    "\n",
    "# criterion = torch.nn.BCELoss()\n",
    "# gen_opt = torch.optim.Adam(gen.parameters(), lr=0.01, betas=(0.5, 0.999))\n",
    "# disc_opt = torch.optim.Adam(disc.parameters(), lr=0.01, betas=(0.5, 0.999))"
   ]
  },
  {
   "cell_type": "code",
   "execution_count": 12,
   "id": "b75fdd85",
   "metadata": {
    "execution": {
     "iopub.execute_input": "2022-07-24T21:47:04.074482Z",
     "iopub.status.busy": "2022-07-24T21:47:04.073772Z",
     "iopub.status.idle": "2022-07-24T21:47:04.081528Z",
     "shell.execute_reply": "2022-07-24T21:47:04.079601Z"
    },
    "papermill": {
     "duration": 0.046531,
     "end_time": "2022-07-24T21:47:04.092088",
     "exception": false,
     "start_time": "2022-07-24T21:47:04.045557",
     "status": "completed"
    },
    "tags": []
   },
   "outputs": [],
   "source": [
    "#Training the ABC_GAN \n",
    "# ABC_train_test2.training_GAN(disc,gen,disc_opt,gen_opt,train_data,batch_size,n_epochs,criterion,prior_model,variance,bias,device)"
   ]
  },
  {
   "cell_type": "code",
   "execution_count": 13,
   "id": "1fa7c368",
   "metadata": {
    "execution": {
     "iopub.execute_input": "2022-07-24T21:47:04.121735Z",
     "iopub.status.busy": "2022-07-24T21:47:04.121021Z",
     "iopub.status.idle": "2022-07-24T21:47:04.131222Z",
     "shell.execute_reply": "2022-07-24T21:47:04.128016Z"
    },
    "papermill": {
     "duration": 0.033811,
     "end_time": "2022-07-24T21:47:04.139797",
     "exception": false,
     "start_time": "2022-07-24T21:47:04.105986",
     "status": "completed"
    },
    "tags": []
   },
   "outputs": [],
   "source": [
    "# ABC_GAN1_metrics=ABC_train_test2.test_generator(gen,test_data,prior_model,variance,bias,\"1\",device)\n",
    "# sb.glue(\"ABC_GAN_1 Metrics\",ABC_GAN1_metrics)\n",
    "\n",
    "# print(\"MAE\")\n",
    "# print(mean(ABC_GAN1_metrics[1]))"
   ]
  },
  {
   "cell_type": "code",
   "execution_count": 14,
   "id": "eb22ce5c",
   "metadata": {
    "execution": {
     "iopub.execute_input": "2022-07-24T21:47:04.169051Z",
     "iopub.status.busy": "2022-07-24T21:47:04.168380Z",
     "iopub.status.idle": "2022-07-24T21:47:04.175116Z",
     "shell.execute_reply": "2022-07-24T21:47:04.173557Z"
    },
    "papermill": {
     "duration": 0.03134,
     "end_time": "2022-07-24T21:47:04.184947",
     "exception": false,
     "start_time": "2022-07-24T21:47:04.153607",
     "status": "completed"
    },
    "tags": []
   },
   "outputs": [],
   "source": [
    "# sanityChecks.discProbVsError(train_data,disc,device)\n",
    "# sanityChecks.discProbVsError(test_data,disc,device)"
   ]
  },
  {
   "cell_type": "markdown",
   "id": "44c5a26d",
   "metadata": {
    "papermill": {
     "duration": 0.049702,
     "end_time": "2022-07-24T21:47:04.261105",
     "exception": false,
     "start_time": "2022-07-24T21:47:04.211403",
     "status": "completed"
    },
    "tags": []
   },
   "source": [
    "# mGAN Model with TabNet Generator"
   ]
  },
  {
   "cell_type": "code",
   "execution_count": 15,
   "id": "caec28cf",
   "metadata": {
    "execution": {
     "iopub.execute_input": "2022-07-24T21:47:04.462936Z",
     "iopub.status.busy": "2022-07-24T21:47:04.462032Z",
     "iopub.status.idle": "2022-07-24T21:47:04.491942Z",
     "shell.execute_reply": "2022-07-24T21:47:04.490436Z"
    },
    "papermill": {
     "duration": 0.169068,
     "end_time": "2022-07-24T21:47:04.501015",
     "exception": false,
     "start_time": "2022-07-24T21:47:04.331947",
     "status": "completed"
    },
    "tags": []
   },
   "outputs": [],
   "source": [
    "gen2 = network.GeneratorTabnet(n_features+1).to(device)\n",
    "disc2 = network.Discriminator(n_features+1).to(device)\n",
    "\n",
    "criterion = torch.nn.BCELoss()\n",
    "gen_opt = torch.optim.Adam(gen2.parameters(), lr=0.01, betas=(0.5, 0.999))\n",
    "disc_opt = torch.optim.Adam(disc2.parameters(), lr=0.01, betas=(0.5, 0.999))"
   ]
  },
  {
   "cell_type": "code",
   "execution_count": 16,
   "id": "c4846025",
   "metadata": {
    "execution": {
     "iopub.execute_input": "2022-07-24T21:47:04.549647Z",
     "iopub.status.busy": "2022-07-24T21:47:04.549141Z",
     "iopub.status.idle": "2022-07-24T22:03:53.375440Z",
     "shell.execute_reply": "2022-07-24T22:03:53.372930Z"
    },
    "papermill": {
     "duration": 1008.86013,
     "end_time": "2022-07-24T22:03:53.383925",
     "exception": false,
     "start_time": "2022-07-24T21:47:04.523795",
     "status": "completed"
    },
    "tags": []
   },
   "outputs": [
    {
     "data": {
      "image/png": "[encoded data removed]",
      "text/plain": [
       "<Figure size 432x288 with 1 Axes>"
      ]
     },
     "metadata": {
      "needs_background": "light"
     },
     "output_type": "display_data"
    },
    {
     "data": {
      "image/png": "[encoded data removed]",
      "text/plain": [
       "<Figure size 432x288 with 1 Axes>"
      ]
     },
     "metadata": {
      "needs_background": "light"
     },
     "output_type": "display_data"
    }
   ],
   "source": [
    "#Training the ABC_GAN \n",
    "ABC_train_test2.training_GAN(disc2,gen2,disc_opt,gen_opt,train_data,batch_size,n_epochs,criterion,prior_model,variance,bias,device)"
   ]
  },
  {
   "cell_type": "code",
   "execution_count": 17,
   "id": "4c673de8",
   "metadata": {
    "execution": {
     "iopub.execute_input": "2022-07-24T22:03:53.437908Z",
     "iopub.status.busy": "2022-07-24T22:03:53.436917Z",
     "iopub.status.idle": "2022-07-24T22:03:58.786627Z",
     "shell.execute_reply": "2022-07-24T22:03:58.785311Z"
    },
    "papermill": {
     "duration": 5.390047,
     "end_time": "2022-07-24T22:03:58.797381",
     "exception": false,
     "start_time": "2022-07-24T22:03:53.407334",
     "status": "completed"
    },
    "tags": []
   },
   "outputs": [
    {
     "data": {
      "application/scrapbook.scrap.json+json": {
       "data": 0.005548188275653737,
       "encoder": "json",
       "name": "ABC-GAN Model 1 MSE",
       "version": 1
      }
     },
     "metadata": {
      "scrapbook": {
       "data": true,
       "display": false,
       "name": "ABC-GAN Model 1 MSE"
      }
     },
     "output_type": "display_data"
    },
    {
     "data": {
      "application/scrapbook.scrap.json+json": {
       "data": 0.057734160284910886,
       "encoder": "json",
       "name": "ABC-GAN Model 1 MAE",
       "version": 1
      }
     },
     "metadata": {
      "scrapbook": {
       "data": true,
       "display": false,
       "name": "ABC-GAN Model 1 MAE"
      }
     },
     "output_type": "display_data"
    },
    {
     "data": {
      "application/scrapbook.scrap.json+json": {
       "data": 8.891060683876276,
       "encoder": "json",
       "name": "ABC-GAN Model 1 Manhattan Distance",
       "version": 1
      }
     },
     "metadata": {
      "scrapbook": {
       "data": true,
       "display": false,
       "name": "ABC-GAN Model 1 Manhattan Distance"
      }
     },
     "output_type": "display_data"
    },
    {
     "data": {
      "application/scrapbook.scrap.json+json": {
       "data": 0.924348321943992,
       "encoder": "json",
       "name": "ABC-GAN Model 1 Euclidean distance",
       "version": 1
      }
     },
     "metadata": {
      "scrapbook": {
       "data": true,
       "display": false,
       "name": "ABC-GAN Model 1 Euclidean distance"
      }
     },
     "output_type": "display_data"
    },
    {
     "data": {
      "application/scrapbook.scrap.json+json": {
       "data": [
        [
         0.005559826202552693,
         0.00553865519719552,
         0.005603886711454544,
         0.00553750292701043,
         0.00556456471883231,
         0.005541786178653787,
         0.005534650221191692,
         0.005589571850274556,
         0.005558122964140696,
         0.0055664760306392055,
         0.005572813805916791,
         0.005533046341730079,
         0.005530566938477333,
         0.005561586762706057,
         0.005557394568948116,
         0.005552606956464721,
         0.005529952280652836,
         0.005545030945135709,
         0.005542659344046117,
         0.005523523510658586,
         0.005549633656264234,
         0.00554251356953592,
         0.005537110474032917,
         0.0055405155492740795,
         0.005540309036215458,
         0.005540250265231785,
         0.005555433905867027,
         0.005550850839853125,
         0.005548654435602538,
         0.005550421542572141,
         0.005550932140009197,
         0.005556876354002297,
         0.005538509892274271,
         0.005567970839164726,
         0.0055499781735115486,
         0.00554888309754532,
         0.005567333388428766,
         0.005556290310480491,
         0.005548737780628829,
         0.0055335085804794175,
         0.005543522994321801,
         0.00553408888515722,
         0.005542167760382919,
         0.005555899816191993,
         0.005553971604615759,
         0.00553677712730762,
         0.005550051000244591,
         0.005552202572734485,
         0.0055532724165916515,
         0.005541167276368386,
         0.005531564349584654,
         0.005537210925282967,
         0.005573070852852756,
         0.005536725607977666,
         0.005528306168209332,
         0.005550750402786664,
         0.005553316988322376,
         0.005546649946818708,
         0.005552550575646646,
         0.005539454811416412,
         0.0055420290337331235,
         0.0055492018355744795,
         0.005548844063818925,
         0.005531663654654734,
         0.005552911337296614,
         0.00555755521916666,
         0.0055489937436576705,
         0.005534060042861278,
         0.00554447315524123,
         0.005545549479272531,
         0.005528746764682057,
         0.005557200338435994,
         0.005528575797621235,
         0.005553737831979612,
         0.0055363992950805355,
         0.005531257082219062,
         0.005542301829677817,
         0.005561549060448451,
         0.005553503363611467,
         0.005563671726125597,
         0.005542750122466758,
         0.005544080422155757,
         0.00555882470855973,
         0.005552480259539155,
         0.005545948327025092,
         0.005538455990364919,
         0.005554658195010012,
         0.005528823843107986,
         0.0055485071917308415,
         0.005533531596586699,
         0.005565733247290517,
         0.0055414163731007035,
         0.005568023770559568,
         0.005543945654148698,
         0.005546867691686932,
         0.005562316391861937,
         0.005556589820519289,
         0.005541165245331488,
         0.005541899896914241,
         0.005558923791783819
        ],
        [
         0.05783557166139801,
         0.0577012827837622,
         0.058227791124350066,
         0.05769502729564518,
         0.05782110418205137,
         0.05775013382171656,
         0.05765370879467432,
         0.05785289571269766,
         0.057875024517635244,
         0.057804622336641534,
         0.0580643637033252,
         0.05764395985510442,
         0.05753189499502058,
         0.05780069636447089,
         0.05778469242058791,
         0.057772326682295115,
         0.05758171886592716,
         0.05771553342218523,
         0.05762346117914497,
         0.05755814184229095,
         0.057822967988330046,
         0.05764151596790784,
         0.05767645299821705,
         0.0577235422157622,
         0.05763835518004058,
         0.0577400459291099,
         0.05770700966769999,
         0.05779768700723524,
         0.05770762351813254,
         0.05786031532984275,
         0.05771868230847569,
         0.05774329051181867,
         0.057661245105328496,
         0.057805421677502716,
         0.05775766171418227,
         0.05774055431028465,
         0.05776844783262773,
         0.05779715859657758,
         0.057716875784582906,
         0.057602623743670325,
         0.057674967623376226,
         0.057653881125635915,
         0.057656712055980386,
         0.05774628564521864,
         0.05777086036932933,
         0.05760360199522663,
         0.0576962364184392,
         0.0577753498763233,
         0.057680082688857985,
         0.05771218133824212,
         0.057654747037918536,
         0.05764257840134881,
         0.05804650901586979,
         0.057672116179744916,
         0.057671119350117525,
         0.0577665821878941,
         0.05781758208940556,
         0.05764516133379627,
         0.057730631491580565,
         0.0577055433547342,
         0.05769842369602872,
         0.05773355502199817,
         0.05771115470629234,
         0.0575617922397403,
         0.057751602069898086,
         0.057754362268107276,
         0.05770246558762216,
         0.057643259597289095,
         0.0577055240025768,
         0.05767128635923584,
         0.057741358489185185,
         0.05772987598335588,
         0.057653132680948675,
         0.057734277438033714,
         0.05765054491046187,
         0.057679043090962744,
         0.05770750043841152,
         0.05782528202255051,
         0.057737877423113045,
         0.05784345863314418,
         0.05770152613714144,
         0.05774920569224791,
         0.05789952647763413,
         0.057757096340903986,
         0.05776047455025958,
         0.05769567278685508,
         0.05780397694219242,
         0.057643208314072,
         0.05773485103597889,
         0.05755227494549442,
         0.057819592101233344,
         0.057723984799601814,
         0.057808780728222486,
         0.05774611457214727,
         0.05783877589485862,
         0.05774989617722375,
         0.05772581948088361,
         0.05771180600314945,
         0.057725155701884974,
         0.05778835462285327
        ],
        [
         8.906678035855293,
         8.885997548699379,
         8.96707983314991,
         8.885034203529358,
         8.904450044035912,
         8.89352060854435,
         8.878671154379845,
         8.90934593975544,
         8.912753775715828,
         8.901911839842796,
         8.94191201031208,
         8.877169817686081,
         8.85991182923317,
         8.901307240128517,
         8.898842632770538,
         8.896938309073448,
         8.867584705352783,
         8.888192147016525,
         8.874013021588326,
         8.863953843712807,
         8.904737070202827,
         8.876793459057808,
         8.882173761725426,
         8.889425501227379,
         8.87630669772625,
         8.891967073082924,
         8.886879488825798,
         8.900843799114227,
         8.886974021792412,
         8.910488560795784,
         8.888677075505257,
         8.892466738820076,
         8.879831746220589,
         8.902034938335419,
         8.89467990398407,
         8.892045363783836,
         8.89634096622467,
         8.900762423872948,
         8.888398870825768,
         8.87080405652523,
         8.881945013999939,
         8.878697693347931,
         8.87913365662098,
         8.89292798936367,
         8.896712496876717,
         8.8709547072649,
         8.885220408439636,
         8.897403880953789,
         8.88273273408413,
         8.887675926089287,
         8.878831043839455,
         8.876957073807716,
         8.939162388443947,
         8.881505891680717,
         8.881352379918098,
         8.896053656935692,
         8.903907641768456,
         8.877354845404625,
         8.890517249703407,
         8.886653676629066,
         8.885557249188423,
         8.890967473387718,
         8.88751782476902,
         8.864516004920006,
         8.893746718764305,
         8.89417178928852,
         8.886179700493813,
         8.877061977982521,
         8.886650696396828,
         8.881378099322319,
         8.892169207334518,
         8.890400901436806,
         8.878582432866096,
         8.891078725457191,
         8.878183916211128,
         8.882572636008263,
         8.886955067515373,
         8.905093431472778,
         8.891633123159409,
         8.907892629504204,
         8.886035025119781,
         8.893377676606178,
         8.916527077555656,
         8.894592836499214,
         8.895113080739975,
         8.885133609175682,
         8.901812449097633,
         8.877054080367088,
         8.891167059540749,
         8.86305034160614,
         8.904217183589935,
         8.88949365913868,
         8.902552232146263,
         8.89290164411068,
         8.907171487808228,
         8.893484011292458,
         8.889776200056076,
         8.887618124485016,
         8.889673978090286,
         8.899406611919403
        ],
        [
         0.9253179103384493,
         0.9235544923652909,
         0.9289771544898183,
         0.9234584185330741,
         0.9257121403007392,
         0.9238154964670614,
         0.9232205229865292,
         0.9277898818925984,
         0.925176165104607,
         0.9258711080482194,
         0.9263980387021475,
         0.9230867438255367,
         0.9228798992964952,
         0.9254644031278202,
         0.9251155406855999,
         0.9247169682100393,
         0.9228286142185539,
         0.9240859081010266,
         0.9238882719155503,
         0.9222920473697159,
         0.9244693521500277,
         0.9238761224907437,
         0.9234256943582786,
         0.9237095834666912,
         0.9236923684740393,
         0.9236874692479566,
         0.924952334719753,
         0.9245707270606078,
         0.9243877882592297,
         0.9245349736792599,
         0.924577497866683,
         0.9250724071748944,
         0.9235423777013362,
         0.925995415340361,
         0.9244980468993855,
         0.9244068352311007,
         0.9259424073980141,
         0.9250236255436914,
         0.924394730738357,
         0.9231253010257222,
         0.9239602486717473,
         0.9231737043017482,
         0.9238473007477855,
         0.9249911197917344,
         0.9248305937364025,
         0.9233978977696307,
         0.9245041125044642,
         0.9246832950805971,
         0.924772378564106,
         0.9237639095357273,
         0.9229631140170427,
         0.923434070463927,
         0.9264194035852898,
         0.9233936016827063,
         0.9226912538353428,
         0.9245623624337875,
         0.9247760897653258,
         0.9242208025196581,
         0.9247122734394647,
         0.9236211566211155,
         0.9238357382104792,
         0.9244333846624481,
         0.924403583846425,
         0.9229713986992386,
         0.9247423132655271,
         0.9251289119639844,
         0.9244160516365352,
         0.9231712986226537,
         0.9240394287621873,
         0.9241291142518829,
         0.922728021554042,
         0.9250993741858995,
         0.9227137545488687,
         0.9248111299745804,
         0.9233663906827031,
         0.9229374792810916,
         0.9238584749681001,
         0.9254612662391988,
         0.9247916078750746,
         0.9256378588969565,
         0.9238958376677971,
         0.9240067018220087,
         0.9252345676195839,
         0.924706418258806,
         0.9241623463233416,
         0.9235378836388887,
         0.9248877564502309,
         0.9227344535881543,
         0.9243755230027185,
         0.9231272208500579,
         0.9258093324668636,
         0.9237846726686411,
         0.9259998167743735,
         0.9239954711679594,
         0.9242389434122474,
         0.9255251073562177,
         0.9250485567579523,
         0.9237637402393801,
         0.9238249748327835,
         0.9252428135007091
        ]
       ],
       "encoder": "json",
       "name": "ABC_GAN_2 Metrics",
       "version": 1
      }
     },
     "metadata": {
      "scrapbook": {
       "data": true,
       "display": false,
       "name": "ABC_GAN_2 Metrics"
      }
     },
     "output_type": "display_data"
    },
    {
     "name": "stdout",
     "output_type": "stream",
     "text": [
      "MAE\n",
      "0.057734160284910886\n"
     ]
    }
   ],
   "source": [
    "ABC_GAN2_metrics=ABC_train_test2.test_generator(gen2,test_data,prior_model,variance,bias,\"1\",device)\n",
    "sb.glue(\"ABC_GAN_2 Metrics\",ABC_GAN2_metrics)\n",
    "\n",
    "print(\"MAE\")\n",
    "print(mean(ABC_GAN2_metrics[1]))"
   ]
  },
  {
   "cell_type": "code",
   "execution_count": 18,
   "id": "535354e5",
   "metadata": {
    "execution": {
     "iopub.execute_input": "2022-07-24T22:03:58.846841Z",
     "iopub.status.busy": "2022-07-24T22:03:58.846146Z",
     "iopub.status.idle": "2022-07-24T22:04:00.265686Z",
     "shell.execute_reply": "2022-07-24T22:04:00.263397Z"
    },
    "papermill": {
     "duration": 1.443293,
     "end_time": "2022-07-24T22:04:00.268669",
     "exception": false,
     "start_time": "2022-07-24T22:03:58.825376",
     "status": "completed"
    },
    "tags": []
   },
   "outputs": [
    {
     "data": {
      "image/png": "[encoded data removed]",
      "text/plain": [
       "<Figure size 432x288 with 1 Axes>"
      ]
     },
     "metadata": {
      "needs_background": "light"
     },
     "output_type": "display_data"
    },
    {
     "data": {
      "image/png": "[encoded data removed]",
      "text/plain": [
       "<Figure size 432x288 with 1 Axes>"
      ]
     },
     "metadata": {
      "needs_background": "light"
     },
     "output_type": "display_data"
    },
    {
     "data": {
      "image/png": "[encoded data removed]",
      "text/plain": [
       "<Figure size 432x288 with 1 Axes>"
      ]
     },
     "metadata": {
      "needs_background": "light"
     },
     "output_type": "display_data"
    },
    {
     "data": {
      "image/png": "[encoded data removed]",
      "text/plain": [
       "<Figure size 432x288 with 1 Axes>"
      ]
     },
     "metadata": {
      "needs_background": "light"
     },
     "output_type": "display_data"
    }
   ],
   "source": [
    "sanityChecks.discProbVsError(train_data,disc2,device)\n",
    "sanityChecks.discProbVsError(test_data,disc2,device)"
   ]
  },
  {
   "cell_type": "markdown",
   "id": "130f3a4d",
   "metadata": {
    "id": "130f3a4d",
    "papermill": {
     "duration": 0.017719,
     "end_time": "2022-07-24T22:04:00.305492",
     "exception": false,
     "start_time": "2022-07-24T22:04:00.287773",
     "status": "completed"
    },
    "tags": []
   },
   "source": [
    "# skipGAN Model"
   ]
  },
  {
   "cell_type": "code",
   "execution_count": 19,
   "id": "4e43dad1",
   "metadata": {
    "execution": {
     "iopub.execute_input": "2022-07-24T22:04:00.342286Z",
     "iopub.status.busy": "2022-07-24T22:04:00.341026Z",
     "iopub.status.idle": "2022-07-24T22:04:00.353047Z",
     "shell.execute_reply": "2022-07-24T22:04:00.352052Z"
    },
    "id": "4e43dad1",
    "papermill": {
     "duration": 0.035028,
     "end_time": "2022-07-24T22:04:00.356262",
     "exception": false,
     "start_time": "2022-07-24T22:04:00.321234",
     "status": "completed"
    },
    "tags": []
   },
   "outputs": [],
   "source": [
    "#Generator\n",
    "gen3 = network.GeneratorWithSkipConnection(n_features+1).to(device)\n",
    "constraints=network.weightConstraint()\n",
    "#Discriminator \n",
    "disc3 = network.Discriminator(n_features+1).to(device)\n",
    "\n",
    "criterion = torch.nn.BCELoss()\n",
    "gen_opt = torch.optim.Adam(gen3.parameters(), lr=0.01, betas=(0.5, 0.999))\n",
    "disc_opt = torch.optim.Adam(disc3.parameters(), lr=0.01, betas=(0.5, 0.999))\n"
   ]
  },
  {
   "cell_type": "code",
   "execution_count": 20,
   "id": "26acbc37",
   "metadata": {
    "execution": {
     "iopub.execute_input": "2022-07-24T22:04:00.391391Z",
     "iopub.status.busy": "2022-07-24T22:04:00.390867Z",
     "iopub.status.idle": "2022-07-24T22:11:48.641219Z",
     "shell.execute_reply": "2022-07-24T22:11:48.633083Z"
    },
    "id": "26acbc37",
    "papermill": {
     "duration": 468.277985,
     "end_time": "2022-07-24T22:11:48.650293",
     "exception": false,
     "start_time": "2022-07-24T22:04:00.372308",
     "status": "completed"
    },
    "tags": []
   },
   "outputs": [
    {
     "data": {
      "image/png": "[encoded data removed]",
      "text/plain": [
       "<Figure size 432x288 with 1 Axes>"
      ]
     },
     "metadata": {
      "needs_background": "light"
     },
     "output_type": "display_data"
    },
    {
     "data": {
      "image/png": "[encoded data removed]",
      "text/plain": [
       "<Figure size 432x288 with 1 Axes>"
      ]
     },
     "metadata": {
      "needs_background": "light"
     },
     "output_type": "display_data"
    }
   ],
   "source": [
    "ABC_train_test2.training_GAN_skip_connection(disc3,gen3,disc_opt,gen_opt,train_data,batch_size,n_epochs,criterion,prior_model,variance,bias,device)"
   ]
  },
  {
   "cell_type": "code",
   "execution_count": 21,
   "id": "c5e0717b",
   "metadata": {
    "execution": {
     "iopub.execute_input": "2022-07-24T22:11:48.697596Z",
     "iopub.status.busy": "2022-07-24T22:11:48.696518Z",
     "iopub.status.idle": "2022-07-24T22:11:51.137336Z",
     "shell.execute_reply": "2022-07-24T22:11:51.135419Z"
    },
    "id": "c5e0717b",
    "papermill": {
     "duration": 2.470538,
     "end_time": "2022-07-24T22:11:51.140703",
     "exception": false,
     "start_time": "2022-07-24T22:11:48.670165",
     "status": "completed"
    },
    "tags": []
   },
   "outputs": [
    {
     "data": {
      "application/scrapbook.scrap.json+json": {
       "data": 0.13999369619834529,
       "encoder": "json",
       "name": "ABC-GAN Model 3 MSE",
       "version": 1
      }
     },
     "metadata": {
      "scrapbook": {
       "data": true,
       "display": false,
       "name": "ABC-GAN Model 3 MSE"
      }
     },
     "output_type": "display_data"
    },
    {
     "data": {
      "application/scrapbook.scrap.json+json": {
       "data": 0.13343513582433972,
       "encoder": "json",
       "name": "ABC-GAN Model 3 MAE",
       "version": 1
      }
     },
     "metadata": {
      "scrapbook": {
       "data": true,
       "display": false,
       "name": "ABC-GAN Model 3 MAE"
      }
     },
     "output_type": "display_data"
    },
    {
     "data": {
      "application/scrapbook.scrap.json+json": {
       "data": 20.54901091694832,
       "encoder": "json",
       "name": "ABC-GAN Model 3 Manhattan Distance",
       "version": 1
      }
     },
     "metadata": {
      "scrapbook": {
       "data": true,
       "display": false,
       "name": "ABC-GAN Model 3 Manhattan Distance"
      }
     },
     "output_type": "display_data"
    },
    {
     "data": {
      "application/scrapbook.scrap.json+json": {
       "data": 4.643154868633534,
       "encoder": "json",
       "name": "ABC-GAN Model 3 Euclidean distance",
       "version": 1
      }
     },
     "metadata": {
      "scrapbook": {
       "data": true,
       "display": false,
       "name": "ABC-GAN Model 3 Euclidean distance"
      }
     },
     "output_type": "display_data"
    },
    {
     "data": {
      "application/scrapbook.scrap.json+json": {
       "data": [
        [
         0.140095201795849,
         0.13885086320382872,
         0.14019686440003457,
         0.13933242619850064,
         0.1401296714747958,
         0.13894226132044557,
         0.13871013712618147,
         0.1400929809105421,
         0.1396689564805564,
         0.14095455950922425,
         0.14119728609298568,
         0.14137989055352232,
         0.14046243856624055,
         0.13946516821143315,
         0.13963812979334228,
         0.14170316440164432,
         0.13938892507611042,
         0.13870936806004092,
         0.13967074762215093,
         0.1406546603980126,
         0.13932096436719454,
         0.1403619240136057,
         0.14034291410523797,
         0.13993074450242213,
         0.14006169134333105,
         0.14070160623713793,
         0.14141718585463642,
         0.1391177203393866,
         0.14022908653406826,
         0.14023034993571498,
         0.139214828249647,
         0.138990478503485,
         0.14062417095200697,
         0.13968597154943296,
         0.14091180584504898,
         0.14000804443385495,
         0.14096730950048394,
         0.14041084944616508,
         0.1390282330356223,
         0.14009499067857903,
         0.13954844302691555,
         0.1404169696309256,
         0.1391011543448585,
         0.13955270944674122,
         0.141315359604943,
         0.1406325573691083,
         0.14047787504146597,
         0.1406045982895723,
         0.1387583726874047,
         0.1399541884639003,
         0.1403237590247624,
         0.13996406909379977,
         0.1395441788895719,
         0.1394476252914252,
         0.14035713085597354,
         0.13872555489558042,
         0.13961253162180126,
         0.1398754806689166,
         0.14056550666047263,
         0.1402542552959629,
         0.13915381348335162,
         0.13991350879084255,
         0.14058736176596415,
         0.14040530623338945,
         0.14016077219395776,
         0.1408843471230802,
         0.13971038500517818,
         0.1394295177996045,
         0.13905744193520098,
         0.14113708039194311,
         0.13991458399870546,
         0.1400119842239063,
         0.13929248014392118,
         0.14062905035543963,
         0.13992870893729545,
         0.13899854866175665,
         0.13937033064678253,
         0.1404100731332788,
         0.13961528493203063,
         0.13984901006965506,
         0.14160638825431965,
         0.14002185638394726,
         0.13947930883707896,
         0.13990751057662984,
         0.13951066478475252,
         0.13907324352746134,
         0.140484088817368,
         0.14130022871390333,
         0.13963796590290828,
         0.13888287840300284,
         0.1399126139646517,
         0.14060331927943392,
         0.13999337776277207,
         0.1390711271111225,
         0.1407780376625084,
         0.14078688551053362,
         0.1393682805954714,
         0.1395617866672138,
         0.1411431510886686,
         0.13986042533888962
        ],
        [
         0.13264265927401456,
         0.13394719710597744,
         0.13339937879861175,
         0.13266015047957372,
         0.1341005451977253,
         0.13301801884716208,
         0.13326380198652094,
         0.13347102106585132,
         0.13237642192027785,
         0.13398196243427016,
         0.13463819505912916,
         0.13456196284719876,
         0.13304670406626418,
         0.13272488813895683,
         0.1339416718715197,
         0.13602584861702732,
         0.13190114860991378,
         0.13093977044155072,
         0.133133510296995,
         0.1344484096610701,
         0.13323683161046598,
         0.1337400958812856,
         0.13497367341603553,
         0.1334175096897336,
         0.13278807302961101,
         0.13320280635705242,
         0.1345703595547707,
         0.13253825743283545,
         0.13307553805507621,
         0.13358239423144946,
         0.133013423096824,
         0.1327957630931557,
         0.13338022979048939,
         0.13231518148601829,
         0.13443942677665066,
         0.13185824328041695,
         0.13566137337452405,
         0.13392807814207944,
         0.13221553582456205,
         0.13377215945488447,
         0.13349132094677393,
         0.133215204897252,
         0.1325605187516708,
         0.1339539930514701,
         0.13439190876367804,
         0.13450850318972166,
         0.13322950512557835,
         0.13232426219559335,
         0.13224544201965455,
         0.13405439455981377,
         0.1339941801769393,
         0.1325104914412096,
         0.1326800911844551,
         0.1336827449887604,
         0.1332409049976956,
         0.13145834391380284,
         0.1346190594039954,
         0.1345131779936227,
         0.13315091359537917,
         0.1337357923001438,
         0.13278050546522263,
         0.13415343096697485,
         0.13434433564543724,
         0.13481767253055202,
         0.13339556211775,
         0.1352587186477401,
         0.13385332327384453,
         0.1330889416011897,
         0.13309663998616206,
         0.13438184839951528,
         0.13389911971889534,
         0.13404683062395492,
         0.13248569624764578,
         0.13459009827150928,
         0.13363934714685788,
         0.13149574950530932,
         0.13335968873330525,
         0.13356486204769705,
         0.13339932243545333,
         0.132642774903155,
         0.13511145221335547,
         0.13457756426620793,
         0.13261926928897957,
         0.1328786215805388,
         0.13329200301464503,
         0.13351662544073997,
         0.1338609028849509,
         0.13322022721751944,
         0.13314673285205642,
         0.1331473324302729,
         0.13288679317413987,
         0.13391925849310762,
         0.13223937250577011,
         0.13320709576273893,
         0.13355524910541325,
         0.13450479217163927,
         0.13199777838278126,
         0.133609284634714,
         0.1338516313631039,
         0.13178815358838478
        ],
        [
         20.426969528198242,
         20.627868354320526,
         20.54350433498621,
         20.42966317385435,
         20.651483960449696,
         20.48477490246296,
         20.522625505924225,
         20.554537244141102,
         20.38596897572279,
         20.633222214877605,
         20.734282039105892,
         20.72254227846861,
         20.48919242620468,
         20.439632773399353,
         20.627017468214035,
         20.94798068702221,
         20.312776885926723,
         20.16472464799881,
         20.50256058573723,
         20.705055087804794,
         20.51847206801176,
         20.595974765717983,
         20.78594570606947,
         20.54629649221897,
         20.449363246560097,
         20.513232178986073,
         20.72383537143469,
         20.410891644656658,
         20.49363286048174,
         20.57168871164322,
         20.484067156910896,
         20.450547516345978,
         20.540555387735367,
         20.376537948846817,
         20.703671723604202,
         20.30616946518421,
         20.891851499676704,
         20.624924033880234,
         20.361192516982555,
         20.600912556052208,
         20.557663425803185,
         20.515141554176807,
         20.4143198877573,
         20.628914929926395,
         20.69635394960642,
         20.714309491217136,
         20.517343789339066,
         20.377936378121376,
         20.365798071026802,
         20.644376762211323,
         20.63510374724865,
         20.406615681946278,
         20.432734042406082,
         20.5871427282691,
         20.51909936964512,
         20.24458496272564,
         20.731335148215294,
         20.715029411017895,
         20.505240693688393,
         20.595312014222145,
         20.448197841644287,
         20.659628368914127,
         20.689027689397335,
         20.76192156970501,
         20.5429165661335,
         20.829842671751976,
         20.613411784172058,
         20.495697006583214,
         20.496882557868958,
         20.694804653525352,
         20.62046443670988,
         20.643211916089058,
         20.40279722213745,
         20.726875133812428,
         20.58045946061611,
         20.250345423817635,
         20.53739206492901,
         20.568988755345345,
         20.543495655059814,
         20.42698733508587,
         20.807163640856743,
         20.72494489699602,
         20.423367470502853,
         20.463307723402977,
         20.526968464255333,
         20.561560317873955,
         20.614579044282436,
         20.515914991497993,
         20.50459685921669,
         20.504689194262028,
         20.46456614881754,
         20.623565807938576,
         20.364863365888596,
         20.513892747461796,
         20.56750836223364,
         20.71373799443245,
         20.327657870948315,
         20.575829833745956,
         20.613151229918003,
         20.295375652611256
        ],
        [
         4.644853181378368,
         4.6241791632017915,
         4.646538186392674,
         4.632191018791119,
         4.645424566938801,
         4.62570083807293,
         4.621835254250409,
         4.644816364531915,
         4.6377817216861,
         4.659077394122202,
         4.663087181076479,
         4.666101493242773,
         4.650937060335373,
         4.634397037863794,
         4.637269885199125,
         4.671433111781996,
         4.633130093330101,
         4.621822441553364,
         4.637811459493717,
         4.654118359184039,
         4.632000487105755,
         4.649272663341576,
         4.64895781570522,
         4.642126091929538,
         4.6442976290148525,
         4.654894989204293,
         4.666716899664475,
         4.628620629546726,
         4.647072124063334,
         4.647093058041779,
         4.630235798579338,
         4.626503397765606,
         4.653613899606313,
         4.638064210272716,
         4.65837075597655,
         4.643408106425027,
         4.659288106897289,
         4.65008288256343,
         4.627131712787722,
         4.644849681582943,
         4.635780433340755,
         4.650184224647722,
         4.628345035658881,
         4.635851297744368,
         4.6650364820825585,
         4.6537526615455915,
         4.651192616564676,
         4.653290033577762,
         4.622638791194951,
         4.642514945957701,
         4.648640542116954,
         4.642678821590522,
         4.635709605766314,
         4.634105554999743,
         4.649193279679811,
         4.622092107900856,
         4.63684481838215,
         4.6412093276443755,
         4.652643122539357,
         4.647489140985514,
         4.629221022638274,
         4.6418401904621565,
         4.6530048046352235,
         4.649991092458346,
         4.645940046736451,
         4.657916858098086,
         4.63846949874605,
         4.633804672311846,
         4.627617751934676,
         4.662092918460467,
         4.6418580262434395,
         4.643473438115218,
         4.631526955785085,
         4.653694634882879,
         4.642092327425586,
         4.626637709385782,
         4.6328210541315435,
         4.650070027701188,
         4.636890539955921,
         4.640770146293272,
         4.669837662185402,
         4.643637139476756,
         4.634631976857511,
         4.6417406895259665,
         4.635152896814935,
         4.6278806708069995,
         4.651295483827561,
         4.664786728451914,
         4.637267163863634,
         4.624712236892414,
         4.641825346838931,
         4.653268869196451,
         4.643164887818103,
         4.627845457133682,
         4.656159125290531,
         4.65630544193808,
         4.632786981040957,
         4.6360020650071885,
         4.6621931821466776,
         4.64095954541612
        ]
       ],
       "encoder": "json",
       "name": "ABC_GAN_3 Metrics",
       "version": 1
      }
     },
     "metadata": {
      "scrapbook": {
       "data": true,
       "display": false,
       "name": "ABC_GAN_3 Metrics"
      }
     },
     "output_type": "display_data"
    },
    {
     "name": "stdout",
     "output_type": "stream",
     "text": [
      "MAE\n",
      "0.13343513582433972\n"
     ]
    }
   ],
   "source": [
    "ABC_GAN3_metrics=ABC_train_test2.test_generator(gen3,test_data,prior_model,variance,bias,\"3\",device)\n",
    "sb.glue(\"ABC_GAN_3 Metrics\",ABC_GAN3_metrics)\n",
    "\n",
    "print(\"MAE\")\n",
    "print(mean(ABC_GAN3_metrics[1]))"
   ]
  },
  {
   "cell_type": "code",
   "execution_count": 22,
   "id": "c8e46b48",
   "metadata": {
    "execution": {
     "iopub.execute_input": "2022-07-24T22:11:51.184194Z",
     "iopub.status.busy": "2022-07-24T22:11:51.183565Z",
     "iopub.status.idle": "2022-07-24T22:11:53.359265Z",
     "shell.execute_reply": "2022-07-24T22:11:53.349165Z"
    },
    "id": "c8e46b48",
    "papermill": {
     "duration": 2.203841,
     "end_time": "2022-07-24T22:11:53.363959",
     "exception": false,
     "start_time": "2022-07-24T22:11:51.160118",
     "status": "completed"
    },
    "tags": []
   },
   "outputs": [
    {
     "data": {
      "image/png": "[encoded data removed]",
      "text/plain": [
       "<Figure size 432x288 with 1 Axes>"
      ]
     },
     "metadata": {
      "needs_background": "light"
     },
     "output_type": "display_data"
    },
    {
     "data": {
      "image/png": "[encoded data removed]",
      "text/plain": [
       "<Figure size 432x288 with 1 Axes>"
      ]
     },
     "metadata": {
      "needs_background": "light"
     },
     "output_type": "display_data"
    },
    {
     "data": {
      "image/png": "[encoded data removed]",
      "text/plain": [
       "<Figure size 432x288 with 1 Axes>"
      ]
     },
     "metadata": {
      "needs_background": "light"
     },
     "output_type": "display_data"
    },
    {
     "data": {
      "image/png": "[encoded data removed]",
      "text/plain": [
       "<Figure size 432x288 with 1 Axes>"
      ]
     },
     "metadata": {
      "needs_background": "light"
     },
     "output_type": "display_data"
    }
   ],
   "source": [
    "sanityChecks.discProbVsError(train_data,disc3,device)\n",
    "sanityChecks.discProbVsError(test_data,disc3,device)"
   ]
  },
  {
   "cell_type": "markdown",
   "id": "b9aa9e7c",
   "metadata": {
    "id": "130f3a4d",
    "papermill": {
     "duration": 0.035159,
     "end_time": "2022-07-24T22:11:53.433311",
     "exception": false,
     "start_time": "2022-07-24T22:11:53.398152",
     "status": "completed"
    },
    "tags": []
   },
   "source": [
    "# skipGAN Model with TabNet Generator"
   ]
  },
  {
   "cell_type": "code",
   "execution_count": 23,
   "id": "6d90ace2",
   "metadata": {
    "execution": {
     "iopub.execute_input": "2022-07-24T22:11:53.515096Z",
     "iopub.status.busy": "2022-07-24T22:11:53.514247Z",
     "iopub.status.idle": "2022-07-24T22:11:53.542864Z",
     "shell.execute_reply": "2022-07-24T22:11:53.538707Z"
    },
    "id": "4e43dad1",
    "papermill": {
     "duration": 0.082478,
     "end_time": "2022-07-24T22:11:53.552515",
     "exception": false,
     "start_time": "2022-07-24T22:11:53.470037",
     "status": "completed"
    },
    "tags": []
   },
   "outputs": [],
   "source": [
    "#Generator\n",
    "gen4 = network.GeneratorTabnetskipConnection(n_features+1).to(device)\n",
    "constraints=network.weightConstraint()\n",
    "#Discriminator \n",
    "disc4 = network.Discriminator(n_features+1).to(device)\n",
    "\n",
    "criterion = torch.nn.BCELoss()\n",
    "gen_opt = torch.optim.Adam(gen4.parameters(), lr=0.01, betas=(0.5, 0.999))\n",
    "disc_opt = torch.optim.Adam(disc4.parameters(), lr=0.01, betas=(0.5, 0.999))\n"
   ]
  },
  {
   "cell_type": "code",
   "execution_count": 24,
   "id": "0bef298d",
   "metadata": {
    "execution": {
     "iopub.execute_input": "2022-07-24T22:11:53.705062Z",
     "iopub.status.busy": "2022-07-24T22:11:53.704607Z",
     "iopub.status.idle": "2022-07-24T22:33:50.839357Z",
     "shell.execute_reply": "2022-07-24T22:33:50.837045Z"
    },
    "id": "26acbc37",
    "papermill": {
     "duration": 1317.246541,
     "end_time": "2022-07-24T22:33:50.843269",
     "exception": false,
     "start_time": "2022-07-24T22:11:53.596728",
     "status": "completed"
    },
    "tags": []
   },
   "outputs": [
    {
     "data": {
      "image/png": "[encoded data removed]",
      "text/plain": [
       "<Figure size 432x288 with 1 Axes>"
      ]
     },
     "metadata": {
      "needs_background": "light"
     },
     "output_type": "display_data"
    },
    {
     "data": {
      "image/png": "[encoded data removed]",
      "text/plain": [
       "<Figure size 432x288 with 1 Axes>"
      ]
     },
     "metadata": {
      "needs_background": "light"
     },
     "output_type": "display_data"
    }
   ],
   "source": [
    "ABC_train_test2.training_GAN_skip_connection(disc4,gen4,disc_opt,gen_opt,train_data,batch_size,n_epochs,criterion,prior_model,variance,bias,device)"
   ]
  },
  {
   "cell_type": "code",
   "execution_count": 25,
   "id": "abb25b4a",
   "metadata": {
    "execution": {
     "iopub.execute_input": "2022-07-24T22:33:50.943688Z",
     "iopub.status.busy": "2022-07-24T22:33:50.942699Z",
     "iopub.status.idle": "2022-07-24T22:33:54.848219Z",
     "shell.execute_reply": "2022-07-24T22:33:54.846855Z"
    },
    "id": "c5e0717b",
    "papermill": {
     "duration": 3.952225,
     "end_time": "2022-07-24T22:33:54.851031",
     "exception": false,
     "start_time": "2022-07-24T22:33:50.898806",
     "status": "completed"
    },
    "tags": []
   },
   "outputs": [
    {
     "data": {
      "application/scrapbook.scrap.json+json": {
       "data": 0.11741670836449665,
       "encoder": "json",
       "name": "ABC-GAN Model 3 MSE",
       "version": 1
      }
     },
     "metadata": {
      "scrapbook": {
       "data": true,
       "display": false,
       "name": "ABC-GAN Model 3 MSE"
      }
     },
     "output_type": "display_data"
    },
    {
     "data": {
      "application/scrapbook.scrap.json+json": {
       "data": 0.15496667334108383,
       "encoder": "json",
       "name": "ABC-GAN Model 3 MAE",
       "version": 1
      }
     },
     "metadata": {
      "scrapbook": {
       "data": true,
       "display": false,
       "name": "ABC-GAN Model 3 MAE"
      }
     },
     "output_type": "display_data"
    },
    {
     "data": {
      "application/scrapbook.scrap.json+json": {
       "data": 23.86486769452691,
       "encoder": "json",
       "name": "ABC-GAN Model 3 Manhattan Distance",
       "version": 1
      }
     },
     "metadata": {
      "scrapbook": {
       "data": true,
       "display": false,
       "name": "ABC-GAN Model 3 Manhattan Distance"
      }
     },
     "output_type": "display_data"
    },
    {
     "data": {
      "application/scrapbook.scrap.json+json": {
       "data": 4.252310688396228,
       "encoder": "json",
       "name": "ABC-GAN Model 3 Euclidean distance",
       "version": 1
      }
     },
     "metadata": {
      "scrapbook": {
       "data": true,
       "display": false,
       "name": "ABC-GAN Model 3 Euclidean distance"
      }
     },
     "output_type": "display_data"
    },
    {
     "data": {
      "application/scrapbook.scrap.json+json": {
       "data": [
        [
         0.11778924417499953,
         0.11698129882571286,
         0.11765159213627377,
         0.11745733830123635,
         0.11751728064556474,
         0.11742551997492104,
         0.11698151959663707,
         0.11707525165193491,
         0.1173361769828675,
         0.11749834785872884,
         0.11763598884257101,
         0.11742221877603153,
         0.11726047849399965,
         0.1173094694012112,
         0.11709471960495815,
         0.11751680752287061,
         0.11786550442881813,
         0.11761362305291578,
         0.1172152893546408,
         0.11746440487681287,
         0.11726158047051824,
         0.11757806511359309,
         0.11703538163136853,
         0.11752079811536388,
         0.11704814519538673,
         0.11730827468994338,
         0.11761659058619818,
         0.11683554273117255,
         0.11771424073920479,
         0.11709248336457574,
         0.11756429941104712,
         0.11729869374875877,
         0.11747976205399753,
         0.11754149755146436,
         0.11713955672368427,
         0.11743636663635466,
         0.11728201847491732,
         0.11781086114013019,
         0.11715048771011011,
         0.11691708477692224,
         0.1169407156702387,
         0.11745019525191377,
         0.11716025946627537,
         0.11735622077563224,
         0.1171878985624168,
         0.1175726921293854,
         0.11755856631946615,
         0.11738219168358503,
         0.11709089243553279,
         0.11751799843506837,
         0.11734018764895428,
         0.11740802828016475,
         0.11740570156123532,
         0.11742388348091967,
         0.11682830070321985,
         0.11726473204084849,
         0.11766665233700913,
         0.11747180122009768,
         0.11707421469494741,
         0.11791057079360934,
         0.11735486415770302,
         0.11741517839453158,
         0.11759796027974471,
         0.1177632924104101,
         0.1178371000880111,
         0.11757629610458323,
         0.11754833718489002,
         0.1172652914333531,
         0.11757944086210173,
         0.11754168880389392,
         0.11703857424774902,
         0.11692682075940385,
         0.11699158655798167,
         0.11731251444407839,
         0.11801416364808762,
         0.11726185249238659,
         0.11831703941016705,
         0.11760001447985682,
         0.1173803328633584,
         0.11759498137521775,
         0.11741256919148045,
         0.11769882772498351,
         0.11744838933206878,
         0.1176971825005244,
         0.11744564340842417,
         0.11783518358657245,
         0.11760942583303158,
         0.11735158016180271,
         0.11728943896683704,
         0.11712847917858578,
         0.11688319563970437,
         0.1172537117795749,
         0.11833788609737174,
         0.11770316469530781,
         0.1173391113984247,
         0.11748898012892355,
         0.1173321009487342,
         0.11761460575635344,
         0.11772722123227194,
         0.11740130003223936
        ],
        [
         0.15571609129766364,
         0.1548936188995064,
         0.1543654856550229,
         0.15526444203667827,
         0.1555393160163582,
         0.15509295347449067,
         0.15467026936156408,
         0.15432041515777636,
         0.15465467945708858,
         0.1545931643673352,
         0.15492500151906693,
         0.15498991136427048,
         0.15418818912335805,
         0.15575877557714263,
         0.1552892950448123,
         0.15488927269523795,
         0.1556649308700066,
         0.1559181965210221,
         0.15444376397055465,
         0.15458097802354143,
         0.15540595497790868,
         0.15437281663928712,
         0.1540950554144847,
         0.15548094265259704,
         0.15423600540145652,
         0.15550233965570276,
         0.15455973815995377,
         0.15397061349509597,
         0.1561861661347476,
         0.1544395936773969,
         0.1549804237755862,
         0.15442465632766872,
         0.15532508956921565,
         0.15418185748450167,
         0.15480814777411422,
         0.15531852773644708,
         0.1546750453772483,
         0.15540171385585488,
         0.1544777045582796,
         0.15501604258240043,
         0.1544078281754023,
         0.1547646363834282,
         0.15467715398831802,
         0.15487754848096277,
         0.15360528375808294,
         0.15461354915584838,
         0.15446016202112298,
         0.15481524469403476,
         0.15446159504837803,
         0.15546399983879808,
         0.15562758052890951,
         0.15461442087377822,
         0.15544113507131477,
         0.15533210366190253,
         0.15417620142945995,
         0.1551450395158359,
         0.15492387396561635,
         0.1544771921131518,
         0.15434409794095275,
         0.1556965850970962,
         0.15493341177314907,
         0.15456240198441915,
         0.1548246532291561,
         0.15523734340420017,
         0.15513573906251363,
         0.155082289177876,
         0.15479492047777424,
         0.15526094452127234,
         0.15547633587152926,
         0.1559894781608086,
         0.15477746521884744,
         0.15442269140636766,
         0.15481014617464758,
         0.1548943051270076,
         0.1556953124992259,
         0.1546862344076107,
         0.15654759079991998,
         0.15569535758975264,
         0.15459888215575898,
         0.15457211357432526,
         0.15455686001034527,
         0.15496560360317108,
         0.15471245929018243,
         0.1556447721146918,
         0.15497070850877018,
         0.15581946065286537,
         0.1552562258847348,
         0.1554050338152167,
         0.15449192297536057,
         0.15465872686404686,
         0.15482536142135594,
         0.1544881717531712,
         0.1556284191546502,
         0.15524239780066848,
         0.15499271820117902,
         0.1550577628341588,
         0.15568069107346721,
         0.1559432236985727,
         0.1552548860381176,
         0.1545318943726552
        ],
        [
         23.980278059840202,
         23.853617310523987,
         23.772284790873528,
         23.910724073648453,
         23.953054666519165,
         23.884314835071564,
         23.81922148168087,
         23.76534393429756,
         23.81682063639164,
         23.80734731256962,
         23.85845023393631,
         23.868446350097656,
         23.74498112499714,
         23.986851438879967,
         23.914551436901093,
         23.852947995066643,
         23.972399353981018,
         24.011402264237404,
         23.784339651465416,
         23.80547061562538,
         23.93251706659794,
         23.773413762450218,
         23.730638533830643,
         23.944065168499947,
         23.752344831824303,
         23.947360306978226,
         23.80219967663288,
         23.71147447824478,
         24.05266958475113,
         23.783697426319122,
         23.866985261440277,
         23.781397074460983,
         23.92006379365921,
         23.74400605261326,
         23.840454757213593,
         23.91905327141285,
         23.819956988096237,
         23.93186393380165,
         23.78956650197506,
         23.872470557689667,
         23.778805539011955,
         23.833754003047943,
         23.820281714200974,
         23.851142466068268,
         23.655213698744774,
         23.81048657000065,
         23.786864951252937,
         23.841547682881355,
         23.787085637450218,
         23.941455975174904,
         23.966647401452065,
         23.810620814561844,
         23.937934800982475,
         23.92114396393299,
         23.743135020136833,
         23.89233608543873,
         23.858276590704918,
         23.789487585425377,
         23.768991082906723,
         23.977274104952812,
         23.859745413064957,
         23.802609905600548,
         23.84299659729004,
         23.906550884246826,
         23.890903815627098,
         23.882672533392906,
         23.838417753577232,
         23.91018545627594,
         23.943355724215508,
         24.022379636764526,
         23.835729643702507,
         23.78109447658062,
         23.84076251089573,
         23.853722989559174,
         23.97707812488079,
         23.82168009877205,
         24.108328983187675,
         23.977085068821907,
         23.808227851986885,
         23.80410549044609,
         23.80175644159317,
         23.864702954888344,
         23.825718730688095,
         23.969294905662537,
         23.86548911035061,
         23.996196940541267,
         23.90945878624916,
         23.932375207543373,
         23.79175613820553,
         23.817443937063217,
         23.843105658888817,
         23.791178449988365,
         23.96677654981613,
         23.907329261302948,
         23.868878602981567,
         23.878895476460457,
         23.97482642531395,
         24.015256449580193,
         23.90925244987011,
         23.7979117333889
        ],
        [
         4.259054308523187,
         4.244422224421101,
         4.256564951811044,
         4.253049505753536,
         4.254134602879528,
         4.252473406870152,
         4.24442622952527,
         4.246126323415022,
         4.250855355732725,
         4.25379190490605,
         4.2562826834875445,
         4.252413631281516,
         4.249483931970557,
         4.2503715470281564,
         4.246479344017059,
         4.2541260393319416,
         4.260432804544392,
         4.25587804690748,
         4.248665032762018,
         4.253177441752128,
         4.249503899569902,
         4.255234661859829,
         4.245403251898546,
         4.2541982687418365,
         4.245634741718788,
         4.250349903508096,
         4.2559317370318,
         4.241777172436168,
         4.257698095665958,
         4.246438794819096,
         4.254985559235338,
         4.250176330143121,
         4.253455460718452,
         4.254572907228821,
         4.247292282789986,
         4.252669804017074,
         4.249874215213583,
         4.259445106534423,
         4.247490448177247,
         4.2432571281559195,
         4.243685923017484,
         4.252920181333611,
         4.24766759031429,
         4.251218413519513,
         4.248168591123966,
         4.255137434669455,
         4.2548818095450995,
         4.251688784385811,
         4.2464099466575345,
         4.254147594877324,
         4.2509280043231685,
         4.252156671048865,
         4.252114537548376,
         4.252443774591455,
         4.241645707540394,
         4.249561004891054,
         4.256837377666594,
         4.253311343870212,
         4.246107519013372,
         4.2612472237850545,
         4.251193841768011,
         4.252286146622527,
         4.255594656811276,
         4.258585097330234,
         4.259919413974131,
         4.255202650885831,
         4.254696690302736,
         4.249571140801902,
         4.255259556450541,
         4.254576368547127,
         4.24546115683012,
         4.243433797875041,
         4.244608854762611,
         4.25042671085952,
         4.263118717770534,
         4.249508828538604,
         4.268585722363523,
         4.255631824993552,
         4.251655120180516,
         4.255540756682225,
         4.252238899155125,
         4.257419343880452,
         4.252887484655406,
         4.257389588125657,
         4.252837768466759,
         4.25988477218952,
         4.255802107510036,
         4.2511343597818225,
         4.250008658919755,
         4.247091451040607,
         4.242642116478183,
         4.2493613183694485,
         4.268961754220251,
         4.257497781922781,
         4.250908509408006,
         4.2536223315962385,
         4.250781521803381,
         4.255895826553844,
         4.2579328399787935,
         4.252034831109083
        ]
       ],
       "encoder": "json",
       "name": "ABC_GAN_4 Metrics",
       "version": 1
      }
     },
     "metadata": {
      "scrapbook": {
       "data": true,
       "display": false,
       "name": "ABC_GAN_4 Metrics"
      }
     },
     "output_type": "display_data"
    },
    {
     "name": "stdout",
     "output_type": "stream",
     "text": [
      "MAE\n",
      "0.15496667334108383\n"
     ]
    }
   ],
   "source": [
    "ABC_GAN4_metrics=ABC_train_test2.test_generator(gen4,test_data,prior_model,variance,bias,\"3\",device)\n",
    "sb.glue(\"ABC_GAN_4 Metrics\",ABC_GAN4_metrics)\n",
    "\n",
    "print(\"MAE\")\n",
    "print(mean(ABC_GAN4_metrics[1]))"
   ]
  },
  {
   "cell_type": "code",
   "execution_count": 26,
   "id": "c98149ac",
   "metadata": {
    "execution": {
     "iopub.execute_input": "2022-07-24T22:33:54.901763Z",
     "iopub.status.busy": "2022-07-24T22:33:54.901308Z",
     "iopub.status.idle": "2022-07-24T22:33:56.241628Z",
     "shell.execute_reply": "2022-07-24T22:33:56.240384Z"
    },
    "id": "c8e46b48",
    "papermill": {
     "duration": 1.369436,
     "end_time": "2022-07-24T22:33:56.244746",
     "exception": false,
     "start_time": "2022-07-24T22:33:54.875310",
     "status": "completed"
    },
    "tags": []
   },
   "outputs": [
    {
     "data": {
      "image/png": "[encoded data removed]",
      "text/plain": [
       "<Figure size 432x288 with 1 Axes>"
      ]
     },
     "metadata": {
      "needs_background": "light"
     },
     "output_type": "display_data"
    },
    {
     "data": {
      "image/png": "[encoded data removed]",
      "text/plain": [
       "<Figure size 432x288 with 1 Axes>"
      ]
     },
     "metadata": {
      "needs_background": "light"
     },
     "output_type": "display_data"
    },
    {
     "data": {
      "image/png": "[encoded data removed]",
      "text/plain": [
       "<Figure size 432x288 with 1 Axes>"
      ]
     },
     "metadata": {
      "needs_background": "light"
     },
     "output_type": "display_data"
    },
    {
     "data": {
      "image/png": "[encoded data removed]",
      "text/plain": [
       "<Figure size 432x288 with 1 Axes>"
      ]
     },
     "metadata": {
      "needs_background": "light"
     },
     "output_type": "display_data"
    }
   ],
   "source": [
    "sanityChecks.discProbVsError(train_data,disc4,device)\n",
    "sanityChecks.discProbVsError(test_data,disc4,device)"
   ]
  },
  {
   "cell_type": "markdown",
   "id": "a5bd74c3",
   "metadata": {
    "id": "a5bd74c3",
    "papermill": {
     "duration": 0.026317,
     "end_time": "2022-07-24T22:33:56.297699",
     "exception": false,
     "start_time": "2022-07-24T22:33:56.271382",
     "status": "completed"
    },
    "tags": []
   },
   "source": [
    "## Skip Connection Model Analysis - ABC-GAN "
   ]
  },
  {
   "cell_type": "markdown",
   "id": "5744a8bf",
   "metadata": {
    "id": "5744a8bf",
    "papermill": {
     "duration": 0.026801,
     "end_time": "2022-07-24T22:33:56.349775",
     "exception": false,
     "start_time": "2022-07-24T22:33:56.322974",
     "status": "completed"
    },
    "tags": []
   },
   "source": [
    "### Weight Analysis \n",
    "\n",
    "Study the weights of the skip connection layer\n",
    "\n",
    "Equation of the skip connection is \n",
    "\n",
    "$output = y_{gan} * w + y_{abc} * (1-w)$"
   ]
  },
  {
   "cell_type": "code",
   "execution_count": 27,
   "id": "52c31dea",
   "metadata": {
    "execution": {
     "iopub.execute_input": "2022-07-24T22:33:56.403098Z",
     "iopub.status.busy": "2022-07-24T22:33:56.402777Z",
     "iopub.status.idle": "2022-07-24T22:33:56.426001Z",
     "shell.execute_reply": "2022-07-24T22:33:56.425010Z"
    },
    "id": "52c31dea",
    "papermill": {
     "duration": 0.053984,
     "end_time": "2022-07-24T22:33:56.428941",
     "exception": false,
     "start_time": "2022-07-24T22:33:56.374957",
     "status": "completed"
    },
    "tags": []
   },
   "outputs": [
    {
     "name": "stdout",
     "output_type": "stream",
     "text": [
      "Weight of the node at skip connection\n",
      "Parameter containing:\n",
      "tensor([[0.9834]], requires_grad=True)\n"
     ]
    },
    {
     "data": {
      "application/scrapbook.scrap.json+json": {
       "data": 0.983441948890686,
       "encoder": "json",
       "name": "Skip Connection Weight",
       "version": 1
      }
     },
     "metadata": {
      "scrapbook": {
       "data": true,
       "display": false,
       "name": "Skip Connection Weight"
      }
     },
     "output_type": "display_data"
    }
   ],
   "source": [
    "print(\"Weight of the node at skip connection\")\n",
    "for name,param in gen3.named_parameters():\n",
    "    if(name == \"skipNode.weight\"):\n",
    "        print(param)\n",
    "        sb.glue(\"Skip Connection Weight\",param.item())"
   ]
  },
  {
   "cell_type": "markdown",
   "id": "8caebc76",
   "metadata": {
    "id": "a5bd74c3",
    "papermill": {
     "duration": 0.141296,
     "end_time": "2022-07-24T22:33:56.602981",
     "exception": false,
     "start_time": "2022-07-24T22:33:56.461685",
     "status": "completed"
    },
    "tags": []
   },
   "source": [
    "## skipGAN Model Analysis (TabNet Generator) "
   ]
  },
  {
   "cell_type": "markdown",
   "id": "34683733",
   "metadata": {
    "id": "5744a8bf",
    "papermill": {
     "duration": 0.10292,
     "end_time": "2022-07-24T22:33:56.799687",
     "exception": false,
     "start_time": "2022-07-24T22:33:56.696767",
     "status": "completed"
    },
    "tags": []
   },
   "source": [
    "### Weight Analysis \n",
    "\n",
    "Study the weights of the skip connection layer\n",
    "\n",
    "Equation of the skip connection is \n",
    "\n",
    "$output = y_{gan} * w + y_{abc} * (1-w)$"
   ]
  },
  {
   "cell_type": "code",
   "execution_count": 28,
   "id": "139daf2c",
   "metadata": {
    "execution": {
     "iopub.execute_input": "2022-07-24T22:33:56.891327Z",
     "iopub.status.busy": "2022-07-24T22:33:56.890200Z",
     "iopub.status.idle": "2022-07-24T22:33:56.907589Z",
     "shell.execute_reply": "2022-07-24T22:33:56.905874Z"
    },
    "id": "52c31dea",
    "papermill": {
     "duration": 0.098605,
     "end_time": "2022-07-24T22:33:56.953573",
     "exception": false,
     "start_time": "2022-07-24T22:33:56.854968",
     "status": "completed"
    },
    "tags": []
   },
   "outputs": [
    {
     "name": "stdout",
     "output_type": "stream",
     "text": [
      "Weight of the node at skip connection\n",
      "Parameter containing:\n",
      "tensor([[0.9950]], requires_grad=True)\n"
     ]
    },
    {
     "data": {
      "application/scrapbook.scrap.json+json": {
       "data": 0.9950091242790222,
       "encoder": "json",
       "name": "Skip Connection Weight",
       "version": 1
      }
     },
     "metadata": {
      "scrapbook": {
       "data": true,
       "display": false,
       "name": "Skip Connection Weight"
      }
     },
     "output_type": "display_data"
    }
   ],
   "source": [
    "print(\"Weight of the node at skip connection\")\n",
    "for name,param in gen4.named_parameters():\n",
    "    if(name == \"skipNode.weight\"):\n",
    "        print(param)\n",
    "        sb.glue(\"Skip Connection Weight\",param.item())"
   ]
  }
 ],
 "metadata": {
  "colab": {
   "collapsed_sections": [],
   "name": "ABC_GAN_Model-Catboost_Pre-gen.ipynb",
   "provenance": []
  },
  "interpreter": {
   "hash": "31f2aee4e71d21fbe5cf8b01ff0e069b9275f58929596ceb00d14d90e3e16cd6"
  },
  "kernelspec": {
   "display_name": "Python 3 (ipykernel)",
   "language": "python",
   "name": "python3"
  },
  "language_info": {
   "codemirror_mode": {
    "name": "ipython",
    "version": 3
   },
   "file_extension": ".py",
   "mimetype": "text/x-python",
   "name": "python",
   "nbconvert_exporter": "python",
   "pygments_lexer": "ipython3",
   "version": "3.8.13"
  },
  "papermill": {
   "default_parameters": {},
   "duration": 2833.825209,
   "end_time": "2022-07-24T22:34:00.204867",
   "environment_variables": {},
   "exception": null,
   "input_path": "ABC_GAN-Catboost.ipynb",
   "output_path": "./ABC_GAN_Catboost/ABC-GAN_output_1_9.ipynb",
   "parameters": {
    "bias": 0,
    "variance": 1
   },
   "start_time": "2022-07-24T21:46:46.379658",
   "version": "2.3.3"
  }
 },
 "nbformat": 4,
 "nbformat_minor": 5
}