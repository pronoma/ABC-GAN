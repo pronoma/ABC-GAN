{
 "cells": [
  {
   "cell_type": "markdown",
   "id": "622780e6",
   "metadata": {
    "id": "622780e6",
    "papermill": {
     "duration": 0.009042,
     "end_time": "2022-07-25T00:08:04.262401",
     "exception": false,
     "start_time": "2022-07-25T00:08:04.253359",
     "status": "completed"
    },
    "tags": []
   },
   "source": [
    "## Import Libraries "
   ]
  },
  {
   "cell_type": "code",
   "execution_count": 1,
   "id": "a62397e3",
   "metadata": {
    "execution": {
     "iopub.execute_input": "2022-07-25T00:08:04.287330Z",
     "iopub.status.busy": "2022-07-25T00:08:04.285043Z",
     "iopub.status.idle": "2022-07-25T00:08:04.300305Z",
     "shell.execute_reply": "2022-07-25T00:08:04.299402Z"
    },
    "id": "a62397e3",
    "papermill": {
     "duration": 0.028354,
     "end_time": "2022-07-25T00:08:04.303703",
     "exception": false,
     "start_time": "2022-07-25T00:08:04.275349",
     "status": "completed"
    },
    "tags": []
   },
   "outputs": [],
   "source": [
    "import warnings\n",
    "import sys\n",
    "sys.path.insert(0, '../../src')\n",
    "warnings.filterwarnings('ignore')"
   ]
  },
  {
   "cell_type": "code",
   "execution_count": 2,
   "id": "d6a4e155",
   "metadata": {
    "execution": {
     "iopub.execute_input": "2022-07-25T00:08:04.329365Z",
     "iopub.status.busy": "2022-07-25T00:08:04.328639Z",
     "iopub.status.idle": "2022-07-25T00:08:09.791885Z",
     "shell.execute_reply": "2022-07-25T00:08:09.790820Z"
    },
    "id": "d6a4e155",
    "papermill": {
     "duration": 5.47937,
     "end_time": "2022-07-25T00:08:09.794791",
     "exception": false,
     "start_time": "2022-07-25T00:08:04.315421",
     "status": "completed"
    },
    "tags": []
   },
   "outputs": [],
   "source": [
    "import ABC_train_test2\n",
    "import energyefficiencyDataset\n",
    "import network\n",
    "import dataset\n",
    "import sanityChecks\n",
    "import torch \n",
    "import scrapbook as sb\n",
    "from statistics import mean \n",
    "import catboost as ctb \n",
    "from sklearn.model_selection import train_test_split\n",
    "from sklearn.metrics import mean_squared_error,mean_absolute_error\n",
    "import numpy as np"
   ]
  },
  {
   "cell_type": "markdown",
   "id": "2fa5b0f7",
   "metadata": {
    "id": "2fa5b0f7",
    "papermill": {
     "duration": 0.0073,
     "end_time": "2022-07-25T00:08:09.810046",
     "exception": false,
     "start_time": "2022-07-25T00:08:09.802746",
     "status": "completed"
    },
    "tags": []
   },
   "source": [
    "## Parameters "
   ]
  },
  {
   "cell_type": "code",
   "execution_count": 3,
   "id": "783186fb",
   "metadata": {
    "execution": {
     "iopub.execute_input": "2022-07-25T00:08:09.827941Z",
     "iopub.status.busy": "2022-07-25T00:08:09.827540Z",
     "iopub.status.idle": "2022-07-25T00:08:09.832278Z",
     "shell.execute_reply": "2022-07-25T00:08:09.831346Z"
    },
    "id": "783186fb",
    "papermill": {
     "duration": 0.016478,
     "end_time": "2022-07-25T00:08:09.834798",
     "exception": false,
     "start_time": "2022-07-25T00:08:09.818320",
     "status": "completed"
    },
    "tags": [
     "parameters"
    ]
   },
   "outputs": [],
   "source": [
    "variance = 1\n",
    "bias = 1 "
   ]
  },
  {
   "cell_type": "code",
   "execution_count": 4,
   "id": "d53ac76f",
   "metadata": {
    "execution": {
     "iopub.execute_input": "2022-07-25T00:08:09.850891Z",
     "iopub.status.busy": "2022-07-25T00:08:09.850398Z",
     "iopub.status.idle": "2022-07-25T00:08:09.856539Z",
     "shell.execute_reply": "2022-07-25T00:08:09.855627Z"
    },
    "papermill": {
     "duration": 0.017173,
     "end_time": "2022-07-25T00:08:09.859058",
     "exception": false,
     "start_time": "2022-07-25T00:08:09.841885",
     "status": "completed"
    },
    "tags": [
     "injected-parameters"
    ]
   },
   "outputs": [],
   "source": [
    "# Parameters\n",
    "variance = 1\n",
    "bias = 1\n"
   ]
  },
  {
   "cell_type": "markdown",
   "id": "391cdbfd",
   "metadata": {
    "id": "391cdbfd",
    "papermill": {
     "duration": 0.006583,
     "end_time": "2022-07-25T00:08:09.872313",
     "exception": false,
     "start_time": "2022-07-25T00:08:09.865730",
     "status": "completed"
    },
    "tags": []
   },
   "source": [
    "## Dataset \n"
   ]
  },
  {
   "cell_type": "code",
   "execution_count": 5,
   "id": "5b51f161",
   "metadata": {
    "execution": {
     "iopub.execute_input": "2022-07-25T00:08:09.890040Z",
     "iopub.status.busy": "2022-07-25T00:08:09.889575Z",
     "iopub.status.idle": "2022-07-25T00:08:09.894666Z",
     "shell.execute_reply": "2022-07-25T00:08:09.893661Z"
    },
    "id": "5b51f161",
    "papermill": {
     "duration": 0.018296,
     "end_time": "2022-07-25T00:08:09.897249",
     "exception": false,
     "start_time": "2022-07-25T00:08:09.878953",
     "status": "completed"
    },
    "tags": []
   },
   "outputs": [],
   "source": [
    "#Parameters \n",
    "n_features = 8\n",
    "n_samples= 768\n",
    "n_target = 1 "
   ]
  },
  {
   "cell_type": "code",
   "execution_count": 6,
   "id": "5d6eced4",
   "metadata": {
    "execution": {
     "iopub.execute_input": "2022-07-25T00:08:09.915912Z",
     "iopub.status.busy": "2022-07-25T00:08:09.915488Z",
     "iopub.status.idle": "2022-07-25T00:08:10.379169Z",
     "shell.execute_reply": "2022-07-25T00:08:10.378233Z"
    },
    "id": "5d6eced4",
    "papermill": {
     "duration": 0.477754,
     "end_time": "2022-07-25T00:08:10.383328",
     "exception": false,
     "start_time": "2022-07-25T00:08:09.905574",
     "status": "completed"
    },
    "tags": []
   },
   "outputs": [
    {
     "name": "stdout",
     "output_type": "stream",
     "text": [
      "     X1     X2     X3      X4   X5  X6   X7  X8     Y1     Y2\n",
      "0  0.98  514.5  294.0  110.25  7.0   2  0.0   0  15.55  21.33\n",
      "1  0.98  514.5  294.0  110.25  7.0   3  0.0   0  15.55  21.33\n",
      "2  0.98  514.5  294.0  110.25  7.0   4  0.0   0  15.55  21.33\n",
      "3  0.98  514.5  294.0  110.25  7.0   5  0.0   0  15.55  21.33\n",
      "4  0.90  563.5  318.5  122.50  7.0   2  0.0   0  20.84  28.28\n"
     ]
    }
   ],
   "source": [
    "X,Y = energyefficiencyDataset.energy_data()"
   ]
  },
  {
   "cell_type": "code",
   "execution_count": 7,
   "id": "fe007438",
   "metadata": {
    "execution": {
     "iopub.execute_input": "2022-07-25T00:08:10.400741Z",
     "iopub.status.busy": "2022-07-25T00:08:10.400356Z",
     "iopub.status.idle": "2022-07-25T00:08:10.408482Z",
     "shell.execute_reply": "2022-07-25T00:08:10.407499Z"
    },
    "id": "fe007438",
    "papermill": {
     "duration": 0.020336,
     "end_time": "2022-07-25T00:08:10.411231",
     "exception": false,
     "start_time": "2022-07-25T00:08:10.390895",
     "status": "completed"
    },
    "tags": []
   },
   "outputs": [],
   "source": [
    "#Train test split for dataset \n",
    "X_train,X_test,Y_train,Y_test = train_test_split(X,Y,test_size = 0.2)\n",
    "train_data = dataset.CustomDataset(X_train,Y_train)\n",
    "test_data = dataset.CustomDataset(X_test,Y_test)\n"
   ]
  },
  {
   "cell_type": "markdown",
   "id": "a9a1af34",
   "metadata": {
    "id": "a9a1af34",
    "papermill": {
     "duration": 0.008275,
     "end_time": "2022-07-25T00:08:10.427305",
     "exception": false,
     "start_time": "2022-07-25T00:08:10.419030",
     "status": "completed"
    },
    "tags": []
   },
   "source": [
    "## Training Parameters "
   ]
  },
  {
   "cell_type": "code",
   "execution_count": 8,
   "id": "952b7fc8",
   "metadata": {
    "execution": {
     "iopub.execute_input": "2022-07-25T00:08:10.445123Z",
     "iopub.status.busy": "2022-07-25T00:08:10.444774Z",
     "iopub.status.idle": "2022-07-25T00:08:10.450524Z",
     "shell.execute_reply": "2022-07-25T00:08:10.449217Z"
    },
    "id": "952b7fc8",
    "papermill": {
     "duration": 0.017684,
     "end_time": "2022-07-25T00:08:10.453323",
     "exception": false,
     "start_time": "2022-07-25T00:08:10.435639",
     "status": "completed"
    },
    "tags": []
   },
   "outputs": [],
   "source": [
    "batch_size = 32\n",
    "n_epochs = 1000\n",
    "#Select the device \n",
    "device = torch.device('cuda' if torch.cuda.is_available() else 'cpu')"
   ]
  },
  {
   "cell_type": "markdown",
   "id": "a95e1600",
   "metadata": {
    "id": "a95e1600",
    "papermill": {
     "duration": 0.007767,
     "end_time": "2022-07-25T00:08:10.468666",
     "exception": false,
     "start_time": "2022-07-25T00:08:10.460899",
     "status": "completed"
    },
    "tags": []
   },
   "source": [
    "# ABC Pre-generator Model \n",
    "\n",
    "1. The catboost model is used as a pre-generator model for the ABC-GAN. \n",
    "2. The model is first trained on the entire dataset \n",
    "3. It generats X,Y pairs and we add some Gaussian noise with mean 0 and variance 1 to it which is then feed as input to the generator.\n"
   ]
  },
  {
   "cell_type": "code",
   "execution_count": 9,
   "id": "ff8ce7bd",
   "metadata": {
    "execution": {
     "iopub.execute_input": "2022-07-25T00:08:10.486649Z",
     "iopub.status.busy": "2022-07-25T00:08:10.486299Z",
     "iopub.status.idle": "2022-07-25T00:08:11.324065Z",
     "shell.execute_reply": "2022-07-25T00:08:11.323366Z"
    },
    "id": "ff8ce7bd",
    "papermill": {
     "duration": 0.849709,
     "end_time": "2022-07-25T00:08:11.327029",
     "exception": false,
     "start_time": "2022-07-25T00:08:10.477320",
     "status": "completed"
    },
    "tags": []
   },
   "outputs": [
    {
     "name": "stdout",
     "output_type": "stream",
     "text": [
      "Learning rate set to 0.037906\n",
      "0:\tlearn: 0.9743119\ttotal: 61.3ms\tremaining: 1m 1s\n",
      "1:\tlearn: 0.9419394\ttotal: 61.6ms\tremaining: 30.7s\n",
      "2:\tlearn: 0.9101684\ttotal: 62ms\tremaining: 20.6s\n",
      "3:\tlearn: 0.8794723\ttotal: 62.3ms\tremaining: 15.5s\n",
      "4:\tlearn: 0.8507943\ttotal: 62.7ms\tremaining: 12.5s\n"
     ]
    },
    {
     "name": "stdout",
     "output_type": "stream",
     "text": [
      "5:\tlearn: 0.8249693\ttotal: 68.4ms\tremaining: 11.3s\n",
      "6:\tlearn: 0.7989164\ttotal: 69.7ms\tremaining: 9.88s\n",
      "7:\tlearn: 0.7741018\ttotal: 70.1ms\tremaining: 8.7s\n",
      "8:\tlearn: 0.7484767\ttotal: 70.4ms\tremaining: 7.75s\n",
      "9:\tlearn: 0.7239368\ttotal: 70.9ms\tremaining: 7.02s\n",
      "10:\tlearn: 0.7016669\ttotal: 71.2ms\tremaining: 6.4s\n",
      "11:\tlearn: 0.6811100\ttotal: 71.9ms\tremaining: 5.92s\n",
      "12:\tlearn: 0.6594418\ttotal: 72.4ms\tremaining: 5.5s\n",
      "13:\tlearn: 0.6392715\ttotal: 73.1ms\tremaining: 5.14s\n",
      "14:\tlearn: 0.6191830\ttotal: 73.5ms\tremaining: 4.83s\n",
      "15:\tlearn: 0.5988045\ttotal: 74.1ms\tremaining: 4.55s\n",
      "16:\tlearn: 0.5822435\ttotal: 74.5ms\tremaining: 4.31s\n",
      "17:\tlearn: 0.5652731\ttotal: 75ms\tremaining: 4.09s\n",
      "18:\tlearn: 0.5491166\ttotal: 75.3ms\tremaining: 3.89s\n",
      "19:\tlearn: 0.5316785\ttotal: 75.8ms\tremaining: 3.71s\n",
      "20:\tlearn: 0.5172733\ttotal: 76.2ms\tremaining: 3.55s\n",
      "21:\tlearn: 0.5026615\ttotal: 76.6ms\tremaining: 3.4s\n",
      "22:\tlearn: 0.4874835\ttotal: 76.9ms\tremaining: 3.27s\n",
      "23:\tlearn: 0.4736800\ttotal: 77.4ms\tremaining: 3.15s\n",
      "24:\tlearn: 0.4594263\ttotal: 77.8ms\tremaining: 3.03s\n",
      "25:\tlearn: 0.4469804\ttotal: 78.3ms\tremaining: 2.93s\n",
      "26:\tlearn: 0.4368947\ttotal: 78.6ms\tremaining: 2.83s\n",
      "27:\tlearn: 0.4248910\ttotal: 79.1ms\tremaining: 2.75s\n",
      "28:\tlearn: 0.4127295\ttotal: 79.6ms\tremaining: 2.66s\n",
      "29:\tlearn: 0.4005135\ttotal: 80ms\tremaining: 2.59s\n",
      "30:\tlearn: 0.3889565\ttotal: 80.5ms\tremaining: 2.52s\n",
      "31:\tlearn: 0.3772582\ttotal: 81ms\tremaining: 2.45s\n",
      "32:\tlearn: 0.3677185\ttotal: 81.4ms\tremaining: 2.39s\n",
      "33:\tlearn: 0.3571782\ttotal: 82ms\tremaining: 2.33s\n",
      "34:\tlearn: 0.3459745\ttotal: 82.6ms\tremaining: 2.28s\n",
      "35:\tlearn: 0.3368431\ttotal: 84ms\tremaining: 2.25s\n",
      "36:\tlearn: 0.3271320\ttotal: 86.3ms\tremaining: 2.25s\n",
      "37:\tlearn: 0.3172174\ttotal: 87.2ms\tremaining: 2.21s\n",
      "38:\tlearn: 0.3084461\ttotal: 87.6ms\tremaining: 2.16s\n",
      "39:\tlearn: 0.3009566\ttotal: 88.6ms\tremaining: 2.13s\n",
      "40:\tlearn: 0.2921636\ttotal: 89.1ms\tremaining: 2.08s\n",
      "41:\tlearn: 0.2850299\ttotal: 89.8ms\tremaining: 2.05s\n",
      "42:\tlearn: 0.2776093\ttotal: 90.2ms\tremaining: 2.01s\n",
      "43:\tlearn: 0.2693761\ttotal: 91.2ms\tremaining: 1.98s\n",
      "44:\tlearn: 0.2638628\ttotal: 91.6ms\tremaining: 1.94s\n",
      "45:\tlearn: 0.2594718\ttotal: 92.4ms\tremaining: 1.92s\n",
      "46:\tlearn: 0.2528904\ttotal: 93.2ms\tremaining: 1.89s\n",
      "47:\tlearn: 0.2463294\ttotal: 93.7ms\tremaining: 1.86s\n",
      "48:\tlearn: 0.2406033\ttotal: 94.4ms\tremaining: 1.83s\n",
      "49:\tlearn: 0.2360028\ttotal: 95.1ms\tremaining: 1.81s\n",
      "50:\tlearn: 0.2293251\ttotal: 95.7ms\tremaining: 1.78s\n",
      "51:\tlearn: 0.2228983\ttotal: 96.5ms\tremaining: 1.76s\n",
      "52:\tlearn: 0.2170247\ttotal: 97.2ms\tremaining: 1.74s\n",
      "53:\tlearn: 0.2112133\ttotal: 98.2ms\tremaining: 1.72s\n",
      "54:\tlearn: 0.2054548\ttotal: 98.7ms\tremaining: 1.7s\n",
      "55:\tlearn: 0.2009522\ttotal: 99.2ms\tremaining: 1.67s\n",
      "56:\tlearn: 0.1958432\ttotal: 99.8ms\tremaining: 1.65s\n",
      "57:\tlearn: 0.1919060\ttotal: 100ms\tremaining: 1.63s\n",
      "58:\tlearn: 0.1867177\ttotal: 101ms\tremaining: 1.61s\n",
      "59:\tlearn: 0.1819395\ttotal: 101ms\tremaining: 1.59s\n",
      "60:\tlearn: 0.1775399\ttotal: 102ms\tremaining: 1.57s\n",
      "61:\tlearn: 0.1733592\ttotal: 103ms\tremaining: 1.55s\n",
      "62:\tlearn: 0.1697035\ttotal: 103ms\tremaining: 1.53s\n",
      "63:\tlearn: 0.1652595\ttotal: 104ms\tremaining: 1.51s\n",
      "64:\tlearn: 0.1616096\ttotal: 104ms\tremaining: 1.5s\n",
      "65:\tlearn: 0.1584776\ttotal: 105ms\tremaining: 1.48s\n",
      "66:\tlearn: 0.1546463\ttotal: 105ms\tremaining: 1.46s\n",
      "67:\tlearn: 0.1514720\ttotal: 106ms\tremaining: 1.45s\n",
      "68:\tlearn: 0.1478680\ttotal: 106ms\tremaining: 1.43s\n",
      "69:\tlearn: 0.1454307\ttotal: 106ms\tremaining: 1.41s\n",
      "70:\tlearn: 0.1418536\ttotal: 107ms\tremaining: 1.4s\n",
      "71:\tlearn: 0.1384838\ttotal: 107ms\tremaining: 1.38s\n",
      "72:\tlearn: 0.1354445\ttotal: 108ms\tremaining: 1.37s\n",
      "73:\tlearn: 0.1322956\ttotal: 108ms\tremaining: 1.35s\n",
      "74:\tlearn: 0.1305350\ttotal: 109ms\tremaining: 1.34s\n",
      "75:\tlearn: 0.1280792\ttotal: 109ms\tremaining: 1.33s\n",
      "76:\tlearn: 0.1254978\ttotal: 110ms\tremaining: 1.31s\n",
      "77:\tlearn: 0.1226242\ttotal: 110ms\tremaining: 1.3s\n",
      "78:\tlearn: 0.1200583\ttotal: 111ms\tremaining: 1.29s\n",
      "79:\tlearn: 0.1180183\ttotal: 111ms\tremaining: 1.28s\n",
      "80:\tlearn: 0.1161688\ttotal: 112ms\tremaining: 1.26s\n",
      "81:\tlearn: 0.1143426\ttotal: 112ms\tremaining: 1.25s\n",
      "82:\tlearn: 0.1122867\ttotal: 113ms\tremaining: 1.24s\n",
      "83:\tlearn: 0.1097587\ttotal: 113ms\tremaining: 1.23s\n",
      "84:\tlearn: 0.1085404\ttotal: 114ms\tremaining: 1.22s\n",
      "85:\tlearn: 0.1069607\ttotal: 114ms\tremaining: 1.21s\n",
      "86:\tlearn: 0.1049764\ttotal: 115ms\tremaining: 1.2s\n",
      "87:\tlearn: 0.1029669\ttotal: 115ms\tremaining: 1.19s\n",
      "88:\tlearn: 0.1008203\ttotal: 116ms\tremaining: 1.18s\n",
      "89:\tlearn: 0.0988038\ttotal: 117ms\tremaining: 1.18s\n",
      "90:\tlearn: 0.0964798\ttotal: 118ms\tremaining: 1.18s\n",
      "91:\tlearn: 0.0954793\ttotal: 119ms\tremaining: 1.18s\n",
      "92:\tlearn: 0.0935480\ttotal: 120ms\tremaining: 1.17s\n",
      "93:\tlearn: 0.0924535\ttotal: 121ms\tremaining: 1.17s\n",
      "94:\tlearn: 0.0907931\ttotal: 121ms\tremaining: 1.16s\n",
      "95:\tlearn: 0.0888978\ttotal: 122ms\tremaining: 1.15s\n",
      "96:\tlearn: 0.0875215\ttotal: 123ms\tremaining: 1.15s\n",
      "97:\tlearn: 0.0861032\ttotal: 124ms\tremaining: 1.14s\n",
      "98:\tlearn: 0.0846954\ttotal: 124ms\tremaining: 1.13s\n",
      "99:\tlearn: 0.0836402\ttotal: 126ms\tremaining: 1.14s\n",
      "100:\tlearn: 0.0826687\ttotal: 127ms\tremaining: 1.13s\n",
      "101:\tlearn: 0.0813176\ttotal: 127ms\tremaining: 1.12s\n",
      "102:\tlearn: 0.0804308\ttotal: 128ms\tremaining: 1.12s\n",
      "103:\tlearn: 0.0793910\ttotal: 129ms\tremaining: 1.11s\n",
      "104:\tlearn: 0.0783495\ttotal: 131ms\tremaining: 1.11s\n",
      "105:\tlearn: 0.0771164\ttotal: 133ms\tremaining: 1.12s\n",
      "106:\tlearn: 0.0764799\ttotal: 133ms\tremaining: 1.11s\n",
      "107:\tlearn: 0.0753260\ttotal: 134ms\tremaining: 1.1s\n",
      "108:\tlearn: 0.0742683\ttotal: 134ms\tremaining: 1.1s\n",
      "109:\tlearn: 0.0731966\ttotal: 134ms\tremaining: 1.09s\n",
      "110:\tlearn: 0.0726611\ttotal: 135ms\tremaining: 1.08s\n"
     ]
    },
    {
     "name": "stdout",
     "output_type": "stream",
     "text": [
      "111:\tlearn: 0.0719451\ttotal: 137ms\tremaining: 1.09s\n",
      "112:\tlearn: 0.0710061\ttotal: 138ms\tremaining: 1.08s\n",
      "113:\tlearn: 0.0699380\ttotal: 139ms\tremaining: 1.08s\n",
      "114:\tlearn: 0.0689922\ttotal: 142ms\tremaining: 1.09s\n",
      "115:\tlearn: 0.0680133\ttotal: 143ms\tremaining: 1.09s\n",
      "116:\tlearn: 0.0670880\ttotal: 143ms\tremaining: 1.08s\n",
      "117:\tlearn: 0.0662909\ttotal: 143ms\tremaining: 1.07s\n",
      "118:\tlearn: 0.0657900\ttotal: 143ms\tremaining: 1.06s\n",
      "119:\tlearn: 0.0651623\ttotal: 144ms\tremaining: 1.05s\n",
      "120:\tlearn: 0.0645034\ttotal: 144ms\tremaining: 1.05s\n",
      "121:\tlearn: 0.0638865\ttotal: 144ms\tremaining: 1.04s\n",
      "122:\tlearn: 0.0632105\ttotal: 145ms\tremaining: 1.03s\n",
      "123:\tlearn: 0.0623868\ttotal: 149ms\tremaining: 1.05s\n",
      "124:\tlearn: 0.0618216\ttotal: 149ms\tremaining: 1.05s\n",
      "125:\tlearn: 0.0614593\ttotal: 150ms\tremaining: 1.04s\n",
      "126:\tlearn: 0.0609956\ttotal: 150ms\tremaining: 1.03s\n",
      "127:\tlearn: 0.0603590\ttotal: 150ms\tremaining: 1.02s\n",
      "128:\tlearn: 0.0598502\ttotal: 151ms\tremaining: 1.02s\n",
      "129:\tlearn: 0.0593098\ttotal: 151ms\tremaining: 1.01s\n",
      "130:\tlearn: 0.0587369\ttotal: 151ms\tremaining: 1s\n",
      "131:\tlearn: 0.0583151\ttotal: 152ms\tremaining: 999ms\n",
      "132:\tlearn: 0.0578623\ttotal: 154ms\tremaining: 1s\n",
      "133:\tlearn: 0.0575429\ttotal: 154ms\tremaining: 997ms\n",
      "134:\tlearn: 0.0571465\ttotal: 154ms\tremaining: 990ms\n",
      "135:\tlearn: 0.0568411\ttotal: 155ms\tremaining: 983ms\n",
      "136:\tlearn: 0.0562215\ttotal: 155ms\tremaining: 976ms\n",
      "137:\tlearn: 0.0557389\ttotal: 155ms\tremaining: 971ms\n",
      "138:\tlearn: 0.0553146\ttotal: 156ms\tremaining: 964ms\n",
      "139:\tlearn: 0.0548382\ttotal: 156ms\tremaining: 958ms\n",
      "140:\tlearn: 0.0544770\ttotal: 156ms\tremaining: 952ms\n",
      "141:\tlearn: 0.0540767\ttotal: 157ms\tremaining: 947ms\n",
      "142:\tlearn: 0.0538007\ttotal: 157ms\tremaining: 941ms\n",
      "143:\tlearn: 0.0534089\ttotal: 157ms\tremaining: 935ms\n",
      "144:\tlearn: 0.0531022\ttotal: 158ms\tremaining: 929ms\n",
      "145:\tlearn: 0.0527811\ttotal: 158ms\tremaining: 924ms\n",
      "146:\tlearn: 0.0524824\ttotal: 158ms\tremaining: 919ms\n",
      "147:\tlearn: 0.0522286\ttotal: 159ms\tremaining: 913ms\n",
      "148:\tlearn: 0.0519751\ttotal: 159ms\tremaining: 907ms\n",
      "149:\tlearn: 0.0516563\ttotal: 160ms\tremaining: 905ms\n",
      "150:\tlearn: 0.0513319\ttotal: 160ms\tremaining: 899ms\n",
      "151:\tlearn: 0.0511085\ttotal: 160ms\tremaining: 894ms\n",
      "152:\tlearn: 0.0508881\ttotal: 161ms\tremaining: 889ms\n",
      "153:\tlearn: 0.0506219\ttotal: 161ms\tremaining: 884ms\n",
      "154:\tlearn: 0.0504169\ttotal: 161ms\tremaining: 879ms\n",
      "155:\tlearn: 0.0501729\ttotal: 161ms\tremaining: 874ms\n",
      "156:\tlearn: 0.0498860\ttotal: 162ms\tremaining: 869ms\n",
      "157:\tlearn: 0.0496684\ttotal: 163ms\tremaining: 869ms\n",
      "158:\tlearn: 0.0494519\ttotal: 163ms\tremaining: 864ms\n",
      "159:\tlearn: 0.0491951\ttotal: 164ms\tremaining: 859ms\n",
      "160:\tlearn: 0.0489391\ttotal: 164ms\tremaining: 854ms\n",
      "161:\tlearn: 0.0486341\ttotal: 164ms\tremaining: 849ms\n",
      "162:\tlearn: 0.0484098\ttotal: 164ms\tremaining: 845ms\n",
      "163:\tlearn: 0.0481366\ttotal: 165ms\tremaining: 841ms\n",
      "164:\tlearn: 0.0478964\ttotal: 166ms\tremaining: 838ms\n",
      "165:\tlearn: 0.0476511\ttotal: 166ms\tremaining: 833ms\n",
      "166:\tlearn: 0.0474945\ttotal: 166ms\tremaining: 830ms\n",
      "167:\tlearn: 0.0472969\ttotal: 167ms\tremaining: 825ms\n",
      "168:\tlearn: 0.0470903\ttotal: 167ms\tremaining: 821ms\n",
      "169:\tlearn: 0.0468949\ttotal: 167ms\tremaining: 816ms\n",
      "170:\tlearn: 0.0467260\ttotal: 168ms\tremaining: 813ms\n",
      "171:\tlearn: 0.0465562\ttotal: 168ms\tremaining: 808ms\n",
      "172:\tlearn: 0.0463377\ttotal: 168ms\tremaining: 805ms\n",
      "173:\tlearn: 0.0461893\ttotal: 169ms\tremaining: 804ms\n"
     ]
    },
    {
     "name": "stdout",
     "output_type": "stream",
     "text": [
      "174:\tlearn: 0.0459583\ttotal: 170ms\tremaining: 803ms\n",
      "175:\tlearn: 0.0458126\ttotal: 170ms\tremaining: 798ms\n",
      "176:\tlearn: 0.0456580\ttotal: 171ms\tremaining: 794ms\n",
      "177:\tlearn: 0.0454922\ttotal: 174ms\tremaining: 801ms\n",
      "178:\tlearn: 0.0453169\ttotal: 174ms\tremaining: 797ms\n",
      "179:\tlearn: 0.0451423\ttotal: 174ms\tremaining: 793ms\n",
      "180:\tlearn: 0.0449346\ttotal: 174ms\tremaining: 789ms\n",
      "181:\tlearn: 0.0448167\ttotal: 175ms\tremaining: 785ms\n",
      "182:\tlearn: 0.0446653\ttotal: 175ms\tremaining: 781ms\n",
      "183:\tlearn: 0.0445231\ttotal: 175ms\tremaining: 777ms\n",
      "184:\tlearn: 0.0444051\ttotal: 175ms\tremaining: 773ms\n",
      "185:\tlearn: 0.0442369\ttotal: 176ms\tremaining: 769ms\n",
      "186:\tlearn: 0.0439423\ttotal: 176ms\tremaining: 765ms\n",
      "187:\tlearn: 0.0438343\ttotal: 176ms\tremaining: 762ms\n",
      "188:\tlearn: 0.0435672\ttotal: 177ms\tremaining: 758ms\n",
      "189:\tlearn: 0.0434050\ttotal: 177ms\tremaining: 754ms\n",
      "190:\tlearn: 0.0432582\ttotal: 177ms\tremaining: 750ms\n",
      "191:\tlearn: 0.0431357\ttotal: 177ms\tremaining: 747ms\n",
      "192:\tlearn: 0.0429796\ttotal: 178ms\tremaining: 743ms\n",
      "193:\tlearn: 0.0428610\ttotal: 178ms\tremaining: 739ms\n",
      "194:\tlearn: 0.0427620\ttotal: 178ms\tremaining: 736ms\n",
      "195:\tlearn: 0.0426139\ttotal: 179ms\tremaining: 732ms\n",
      "196:\tlearn: 0.0424723\ttotal: 179ms\tremaining: 729ms\n",
      "197:\tlearn: 0.0423703\ttotal: 179ms\tremaining: 725ms\n",
      "198:\tlearn: 0.0421583\ttotal: 179ms\tremaining: 722ms\n",
      "199:\tlearn: 0.0420332\ttotal: 180ms\tremaining: 721ms\n",
      "200:\tlearn: 0.0419129\ttotal: 180ms\tremaining: 717ms\n",
      "201:\tlearn: 0.0418047\ttotal: 181ms\tremaining: 714ms\n",
      "202:\tlearn: 0.0416808\ttotal: 181ms\tremaining: 711ms\n",
      "203:\tlearn: 0.0415611\ttotal: 181ms\tremaining: 707ms\n",
      "204:\tlearn: 0.0414369\ttotal: 182ms\tremaining: 704ms\n",
      "205:\tlearn: 0.0413173\ttotal: 182ms\tremaining: 701ms\n",
      "206:\tlearn: 0.0411859\ttotal: 182ms\tremaining: 697ms\n",
      "207:\tlearn: 0.0410954\ttotal: 183ms\tremaining: 695ms\n",
      "208:\tlearn: 0.0410039\ttotal: 183ms\tremaining: 692ms\n",
      "209:\tlearn: 0.0408580\ttotal: 183ms\tremaining: 689ms\n",
      "210:\tlearn: 0.0407610\ttotal: 183ms\tremaining: 686ms\n",
      "211:\tlearn: 0.0405034\ttotal: 184ms\tremaining: 683ms\n",
      "212:\tlearn: 0.0404222\ttotal: 184ms\tremaining: 680ms\n",
      "213:\tlearn: 0.0402884\ttotal: 184ms\tremaining: 677ms\n",
      "214:\tlearn: 0.0401881\ttotal: 185ms\tremaining: 674ms\n",
      "215:\tlearn: 0.0400633\ttotal: 186ms\tremaining: 674ms\n",
      "216:\tlearn: 0.0399456\ttotal: 186ms\tremaining: 672ms\n",
      "217:\tlearn: 0.0398659\ttotal: 186ms\tremaining: 669ms\n",
      "218:\tlearn: 0.0397298\ttotal: 187ms\tremaining: 666ms\n",
      "219:\tlearn: 0.0396495\ttotal: 187ms\tremaining: 663ms\n",
      "220:\tlearn: 0.0395399\ttotal: 188ms\tremaining: 662ms\n",
      "221:\tlearn: 0.0394318\ttotal: 188ms\tremaining: 660ms\n",
      "222:\tlearn: 0.0393602\ttotal: 189ms\tremaining: 657ms\n",
      "223:\tlearn: 0.0391637\ttotal: 189ms\tremaining: 656ms\n",
      "224:\tlearn: 0.0389332\ttotal: 190ms\tremaining: 654ms\n",
      "225:\tlearn: 0.0388654\ttotal: 190ms\tremaining: 651ms\n",
      "226:\tlearn: 0.0387905\ttotal: 190ms\tremaining: 648ms\n",
      "227:\tlearn: 0.0386835\ttotal: 191ms\tremaining: 646ms\n",
      "228:\tlearn: 0.0385183\ttotal: 191ms\tremaining: 645ms\n",
      "229:\tlearn: 0.0384003\ttotal: 192ms\tremaining: 644ms\n",
      "230:\tlearn: 0.0382686\ttotal: 193ms\tremaining: 643ms\n",
      "231:\tlearn: 0.0381604\ttotal: 194ms\tremaining: 642ms\n",
      "232:\tlearn: 0.0380922\ttotal: 195ms\tremaining: 641ms\n",
      "233:\tlearn: 0.0379434\ttotal: 195ms\tremaining: 639ms\n",
      "234:\tlearn: 0.0378576\ttotal: 196ms\tremaining: 637ms\n",
      "235:\tlearn: 0.0377592\ttotal: 196ms\tremaining: 634ms\n",
      "236:\tlearn: 0.0376553\ttotal: 196ms\tremaining: 631ms\n",
      "237:\tlearn: 0.0374598\ttotal: 196ms\tremaining: 629ms\n",
      "238:\tlearn: 0.0373976\ttotal: 197ms\tremaining: 627ms\n",
      "239:\tlearn: 0.0372761\ttotal: 197ms\tremaining: 624ms\n",
      "240:\tlearn: 0.0372227\ttotal: 197ms\tremaining: 622ms\n",
      "241:\tlearn: 0.0371373\ttotal: 198ms\tremaining: 619ms\n",
      "242:\tlearn: 0.0370313\ttotal: 198ms\tremaining: 617ms\n",
      "243:\tlearn: 0.0369547\ttotal: 199ms\tremaining: 615ms\n",
      "244:\tlearn: 0.0368395\ttotal: 199ms\tremaining: 613ms\n",
      "245:\tlearn: 0.0367668\ttotal: 199ms\tremaining: 611ms\n",
      "246:\tlearn: 0.0366632\ttotal: 200ms\tremaining: 609ms\n",
      "247:\tlearn: 0.0366119\ttotal: 200ms\tremaining: 606ms\n",
      "248:\tlearn: 0.0365077\ttotal: 200ms\tremaining: 604ms\n",
      "249:\tlearn: 0.0363248\ttotal: 201ms\tremaining: 602ms\n",
      "250:\tlearn: 0.0361488\ttotal: 201ms\tremaining: 601ms\n",
      "251:\tlearn: 0.0360153\ttotal: 202ms\tremaining: 599ms\n",
      "252:\tlearn: 0.0359258\ttotal: 202ms\tremaining: 596ms\n",
      "253:\tlearn: 0.0358525\ttotal: 202ms\tremaining: 594ms\n",
      "254:\tlearn: 0.0356888\ttotal: 203ms\tremaining: 592ms\n",
      "255:\tlearn: 0.0355969\ttotal: 203ms\tremaining: 590ms\n",
      "256:\tlearn: 0.0354969\ttotal: 203ms\tremaining: 588ms\n",
      "257:\tlearn: 0.0354346\ttotal: 204ms\tremaining: 587ms\n",
      "258:\tlearn: 0.0352690\ttotal: 205ms\tremaining: 587ms\n",
      "259:\tlearn: 0.0351209\ttotal: 207ms\tremaining: 589ms\n",
      "260:\tlearn: 0.0350333\ttotal: 208ms\tremaining: 588ms\n",
      "261:\tlearn: 0.0349688\ttotal: 208ms\tremaining: 587ms\n",
      "262:\tlearn: 0.0348301\ttotal: 209ms\tremaining: 587ms\n",
      "263:\tlearn: 0.0347625\ttotal: 210ms\tremaining: 585ms\n",
      "264:\tlearn: 0.0346369\ttotal: 211ms\tremaining: 584ms\n",
      "265:\tlearn: 0.0345342\ttotal: 211ms\tremaining: 582ms\n",
      "266:\tlearn: 0.0344666\ttotal: 211ms\tremaining: 580ms\n",
      "267:\tlearn: 0.0343809\ttotal: 212ms\tremaining: 578ms\n",
      "268:\tlearn: 0.0342737\ttotal: 212ms\tremaining: 576ms\n",
      "269:\tlearn: 0.0342246\ttotal: 212ms\tremaining: 574ms\n",
      "270:\tlearn: 0.0341739\ttotal: 212ms\tremaining: 572ms\n",
      "271:\tlearn: 0.0340756\ttotal: 213ms\tremaining: 569ms\n",
      "272:\tlearn: 0.0340171\ttotal: 213ms\tremaining: 567ms\n",
      "273:\tlearn: 0.0339567\ttotal: 213ms\tremaining: 565ms\n",
      "274:\tlearn: 0.0338607\ttotal: 214ms\tremaining: 563ms\n",
      "275:\tlearn: 0.0338021\ttotal: 214ms\tremaining: 561ms\n",
      "276:\tlearn: 0.0337509\ttotal: 214ms\tremaining: 559ms\n",
      "277:\tlearn: 0.0335946\ttotal: 214ms\tremaining: 557ms\n",
      "278:\tlearn: 0.0335147\ttotal: 215ms\tremaining: 555ms\n",
      "279:\tlearn: 0.0334699\ttotal: 215ms\tremaining: 553ms\n",
      "280:\tlearn: 0.0333423\ttotal: 216ms\tremaining: 554ms\n",
      "281:\tlearn: 0.0332217\ttotal: 217ms\tremaining: 552ms\n",
      "282:\tlearn: 0.0331488\ttotal: 217ms\tremaining: 550ms\n",
      "283:\tlearn: 0.0331067\ttotal: 217ms\tremaining: 548ms\n",
      "284:\tlearn: 0.0330637\ttotal: 218ms\tremaining: 546ms\n",
      "285:\tlearn: 0.0329583\ttotal: 218ms\tremaining: 544ms\n",
      "286:\tlearn: 0.0328907\ttotal: 219ms\tremaining: 543ms\n",
      "287:\tlearn: 0.0327709\ttotal: 219ms\tremaining: 541ms\n",
      "288:\tlearn: 0.0326381\ttotal: 219ms\tremaining: 540ms\n",
      "289:\tlearn: 0.0325676\ttotal: 220ms\tremaining: 538ms\n",
      "290:\tlearn: 0.0324288\ttotal: 220ms\tremaining: 536ms\n",
      "291:\tlearn: 0.0323537\ttotal: 220ms\tremaining: 534ms\n",
      "292:\tlearn: 0.0323117\ttotal: 221ms\tremaining: 533ms\n",
      "293:\tlearn: 0.0322701\ttotal: 221ms\tremaining: 531ms\n",
      "294:\tlearn: 0.0321422\ttotal: 222ms\tremaining: 530ms\n",
      "295:\tlearn: 0.0320915\ttotal: 222ms\tremaining: 528ms\n",
      "296:\tlearn: 0.0320097\ttotal: 222ms\tremaining: 526ms\n",
      "297:\tlearn: 0.0319652\ttotal: 223ms\tremaining: 524ms\n",
      "298:\tlearn: 0.0318469\ttotal: 223ms\tremaining: 522ms\n",
      "299:\tlearn: 0.0317287\ttotal: 223ms\tremaining: 521ms\n",
      "300:\tlearn: 0.0316909\ttotal: 224ms\tremaining: 520ms\n",
      "301:\tlearn: 0.0316078\ttotal: 224ms\tremaining: 518ms\n",
      "302:\tlearn: 0.0315373\ttotal: 225ms\tremaining: 518ms\n",
      "303:\tlearn: 0.0314548\ttotal: 226ms\tremaining: 517ms\n",
      "304:\tlearn: 0.0313805\ttotal: 226ms\tremaining: 515ms\n",
      "305:\tlearn: 0.0312667\ttotal: 226ms\tremaining: 513ms\n",
      "306:\tlearn: 0.0311961\ttotal: 227ms\tremaining: 512ms\n",
      "307:\tlearn: 0.0311313\ttotal: 227ms\tremaining: 511ms\n",
      "308:\tlearn: 0.0310519\ttotal: 228ms\tremaining: 510ms\n",
      "309:\tlearn: 0.0310159\ttotal: 228ms\tremaining: 508ms\n",
      "310:\tlearn: 0.0309077\ttotal: 228ms\tremaining: 506ms\n",
      "311:\tlearn: 0.0308406\ttotal: 229ms\tremaining: 504ms\n",
      "312:\tlearn: 0.0307569\ttotal: 229ms\tremaining: 502ms\n",
      "313:\tlearn: 0.0307016\ttotal: 230ms\tremaining: 503ms\n",
      "314:\tlearn: 0.0306549\ttotal: 230ms\tremaining: 501ms\n",
      "315:\tlearn: 0.0305994\ttotal: 231ms\tremaining: 500ms\n",
      "316:\tlearn: 0.0305655\ttotal: 231ms\tremaining: 498ms\n",
      "317:\tlearn: 0.0304618\ttotal: 231ms\tremaining: 496ms\n",
      "318:\tlearn: 0.0304268\ttotal: 232ms\tremaining: 495ms\n",
      "319:\tlearn: 0.0303298\ttotal: 232ms\tremaining: 493ms\n",
      "320:\tlearn: 0.0302295\ttotal: 232ms\tremaining: 492ms\n",
      "321:\tlearn: 0.0301831\ttotal: 233ms\tremaining: 490ms\n",
      "322:\tlearn: 0.0301079\ttotal: 233ms\tremaining: 489ms\n",
      "323:\tlearn: 0.0300701\ttotal: 234ms\tremaining: 488ms\n",
      "324:\tlearn: 0.0300387\ttotal: 234ms\tremaining: 486ms\n",
      "325:\tlearn: 0.0299592\ttotal: 234ms\tremaining: 484ms\n",
      "326:\tlearn: 0.0298885\ttotal: 235ms\tremaining: 483ms\n",
      "327:\tlearn: 0.0298379\ttotal: 235ms\tremaining: 481ms\n",
      "328:\tlearn: 0.0297902\ttotal: 235ms\tremaining: 480ms\n",
      "329:\tlearn: 0.0297124\ttotal: 236ms\tremaining: 478ms\n",
      "330:\tlearn: 0.0296391\ttotal: 236ms\tremaining: 477ms\n",
      "331:\tlearn: 0.0295794\ttotal: 236ms\tremaining: 475ms\n",
      "332:\tlearn: 0.0294976\ttotal: 237ms\tremaining: 474ms\n",
      "333:\tlearn: 0.0294348\ttotal: 237ms\tremaining: 472ms\n",
      "334:\tlearn: 0.0293448\ttotal: 237ms\tremaining: 471ms\n",
      "335:\tlearn: 0.0293160\ttotal: 237ms\tremaining: 469ms\n",
      "336:\tlearn: 0.0292594\ttotal: 238ms\tremaining: 468ms\n",
      "337:\tlearn: 0.0291962\ttotal: 238ms\tremaining: 466ms\n",
      "338:\tlearn: 0.0291296\ttotal: 238ms\tremaining: 465ms\n",
      "339:\tlearn: 0.0290995\ttotal: 239ms\tremaining: 463ms\n",
      "340:\tlearn: 0.0290176\ttotal: 239ms\tremaining: 462ms\n",
      "341:\tlearn: 0.0289572\ttotal: 239ms\tremaining: 460ms\n",
      "342:\tlearn: 0.0288910\ttotal: 240ms\tremaining: 459ms\n",
      "343:\tlearn: 0.0288462\ttotal: 240ms\tremaining: 457ms\n",
      "344:\tlearn: 0.0287729\ttotal: 240ms\tremaining: 456ms\n",
      "345:\tlearn: 0.0286872\ttotal: 240ms\tremaining: 455ms\n",
      "346:\tlearn: 0.0286444\ttotal: 241ms\tremaining: 453ms\n",
      "347:\tlearn: 0.0285917\ttotal: 241ms\tremaining: 452ms\n",
      "348:\tlearn: 0.0285244\ttotal: 241ms\tremaining: 450ms\n",
      "349:\tlearn: 0.0284961\ttotal: 242ms\tremaining: 449ms\n",
      "350:\tlearn: 0.0284614\ttotal: 242ms\tremaining: 447ms\n",
      "351:\tlearn: 0.0284355\ttotal: 242ms\tremaining: 446ms\n",
      "352:\tlearn: 0.0283972\ttotal: 243ms\tremaining: 445ms\n",
      "353:\tlearn: 0.0283658\ttotal: 243ms\tremaining: 443ms\n",
      "354:\tlearn: 0.0283082\ttotal: 243ms\tremaining: 442ms\n",
      "355:\tlearn: 0.0282651\ttotal: 244ms\tremaining: 441ms\n"
     ]
    },
    {
     "name": "stdout",
     "output_type": "stream",
     "text": [
      "356:\tlearn: 0.0281905\ttotal: 246ms\tremaining: 444ms\n",
      "357:\tlearn: 0.0281383\ttotal: 247ms\tremaining: 443ms\n",
      "358:\tlearn: 0.0281023\ttotal: 248ms\tremaining: 443ms\n",
      "359:\tlearn: 0.0280489\ttotal: 248ms\tremaining: 441ms\n",
      "360:\tlearn: 0.0279773\ttotal: 248ms\tremaining: 440ms\n",
      "361:\tlearn: 0.0279310\ttotal: 249ms\tremaining: 438ms\n",
      "362:\tlearn: 0.0278603\ttotal: 249ms\tremaining: 437ms\n",
      "363:\tlearn: 0.0278002\ttotal: 249ms\tremaining: 436ms\n",
      "364:\tlearn: 0.0277411\ttotal: 250ms\tremaining: 434ms\n",
      "365:\tlearn: 0.0276731\ttotal: 250ms\tremaining: 433ms\n",
      "366:\tlearn: 0.0276378\ttotal: 251ms\tremaining: 433ms\n",
      "367:\tlearn: 0.0276009\ttotal: 252ms\tremaining: 432ms\n",
      "368:\tlearn: 0.0275441\ttotal: 252ms\tremaining: 431ms\n",
      "369:\tlearn: 0.0274822\ttotal: 252ms\tremaining: 429ms\n",
      "370:\tlearn: 0.0274480\ttotal: 253ms\tremaining: 428ms\n",
      "371:\tlearn: 0.0273811\ttotal: 253ms\tremaining: 427ms\n",
      "372:\tlearn: 0.0273525\ttotal: 253ms\tremaining: 425ms\n",
      "373:\tlearn: 0.0273088\ttotal: 254ms\tremaining: 425ms\n",
      "374:\tlearn: 0.0272762\ttotal: 254ms\tremaining: 423ms\n",
      "375:\tlearn: 0.0272143\ttotal: 254ms\tremaining: 422ms\n",
      "376:\tlearn: 0.0271863\ttotal: 255ms\tremaining: 421ms\n",
      "377:\tlearn: 0.0271176\ttotal: 255ms\tremaining: 419ms\n",
      "378:\tlearn: 0.0270881\ttotal: 255ms\tremaining: 418ms\n",
      "379:\tlearn: 0.0270406\ttotal: 256ms\tremaining: 417ms\n",
      "380:\tlearn: 0.0270016\ttotal: 256ms\tremaining: 416ms\n",
      "381:\tlearn: 0.0269318\ttotal: 256ms\tremaining: 415ms\n",
      "382:\tlearn: 0.0269005\ttotal: 257ms\tremaining: 414ms\n",
      "383:\tlearn: 0.0268270\ttotal: 257ms\tremaining: 413ms\n",
      "384:\tlearn: 0.0267906\ttotal: 257ms\tremaining: 411ms\n",
      "385:\tlearn: 0.0267596\ttotal: 258ms\tremaining: 410ms\n",
      "386:\tlearn: 0.0267245\ttotal: 258ms\tremaining: 409ms\n",
      "387:\tlearn: 0.0266947\ttotal: 258ms\tremaining: 407ms\n",
      "388:\tlearn: 0.0266462\ttotal: 259ms\tremaining: 406ms\n",
      "389:\tlearn: 0.0265829\ttotal: 259ms\tremaining: 405ms\n",
      "390:\tlearn: 0.0265548\ttotal: 260ms\tremaining: 404ms\n",
      "391:\tlearn: 0.0264887\ttotal: 260ms\tremaining: 403ms\n",
      "392:\tlearn: 0.0264308\ttotal: 260ms\tremaining: 402ms\n",
      "393:\tlearn: 0.0263944\ttotal: 260ms\tremaining: 400ms\n",
      "394:\tlearn: 0.0263403\ttotal: 261ms\tremaining: 399ms\n",
      "395:\tlearn: 0.0263015\ttotal: 261ms\tremaining: 398ms\n",
      "396:\tlearn: 0.0262805\ttotal: 261ms\tremaining: 397ms\n",
      "397:\tlearn: 0.0262508\ttotal: 262ms\tremaining: 396ms\n",
      "398:\tlearn: 0.0261740\ttotal: 263ms\tremaining: 395ms\n",
      "399:\tlearn: 0.0261424\ttotal: 263ms\tremaining: 394ms\n",
      "400:\tlearn: 0.0261185\ttotal: 263ms\tremaining: 393ms\n",
      "401:\tlearn: 0.0260961\ttotal: 263ms\tremaining: 392ms\n",
      "402:\tlearn: 0.0260234\ttotal: 264ms\tremaining: 391ms\n",
      "403:\tlearn: 0.0259739\ttotal: 264ms\tremaining: 389ms\n",
      "404:\tlearn: 0.0259497\ttotal: 265ms\tremaining: 389ms\n",
      "405:\tlearn: 0.0258974\ttotal: 265ms\tremaining: 387ms\n",
      "406:\tlearn: 0.0258673\ttotal: 265ms\tremaining: 386ms\n",
      "407:\tlearn: 0.0258054\ttotal: 265ms\tremaining: 385ms\n",
      "408:\tlearn: 0.0257788\ttotal: 266ms\tremaining: 384ms\n",
      "409:\tlearn: 0.0257516\ttotal: 266ms\tremaining: 383ms\n",
      "410:\tlearn: 0.0257326\ttotal: 266ms\tremaining: 381ms\n",
      "411:\tlearn: 0.0257043\ttotal: 266ms\tremaining: 380ms\n",
      "412:\tlearn: 0.0256602\ttotal: 267ms\tremaining: 380ms\n",
      "413:\tlearn: 0.0256417\ttotal: 268ms\tremaining: 379ms\n",
      "414:\tlearn: 0.0255920\ttotal: 268ms\tremaining: 378ms\n",
      "415:\tlearn: 0.0255432\ttotal: 268ms\tremaining: 377ms\n",
      "416:\tlearn: 0.0254856\ttotal: 268ms\tremaining: 375ms\n",
      "417:\tlearn: 0.0254608\ttotal: 269ms\tremaining: 374ms\n",
      "418:\tlearn: 0.0254369\ttotal: 269ms\tremaining: 373ms\n",
      "419:\tlearn: 0.0254054\ttotal: 269ms\tremaining: 372ms\n",
      "420:\tlearn: 0.0253534\ttotal: 270ms\tremaining: 371ms\n",
      "421:\tlearn: 0.0253246\ttotal: 270ms\tremaining: 370ms\n",
      "422:\tlearn: 0.0252838\ttotal: 270ms\tremaining: 369ms\n",
      "423:\tlearn: 0.0252255\ttotal: 270ms\tremaining: 367ms\n",
      "424:\tlearn: 0.0251797\ttotal: 271ms\tremaining: 366ms\n",
      "425:\tlearn: 0.0251241\ttotal: 271ms\tremaining: 365ms\n",
      "426:\tlearn: 0.0250703\ttotal: 271ms\tremaining: 364ms\n",
      "427:\tlearn: 0.0250172\ttotal: 272ms\tremaining: 363ms\n",
      "428:\tlearn: 0.0249798\ttotal: 272ms\tremaining: 362ms\n",
      "429:\tlearn: 0.0249536\ttotal: 272ms\tremaining: 361ms\n",
      "430:\tlearn: 0.0249295\ttotal: 272ms\tremaining: 360ms\n",
      "431:\tlearn: 0.0248785\ttotal: 273ms\tremaining: 359ms\n",
      "432:\tlearn: 0.0248280\ttotal: 273ms\tremaining: 357ms\n",
      "433:\tlearn: 0.0247977\ttotal: 273ms\tremaining: 356ms\n",
      "434:\tlearn: 0.0247716\ttotal: 274ms\tremaining: 355ms\n",
      "435:\tlearn: 0.0247455\ttotal: 274ms\tremaining: 354ms\n",
      "436:\tlearn: 0.0247076\ttotal: 274ms\tremaining: 353ms\n",
      "437:\tlearn: 0.0246820\ttotal: 274ms\tremaining: 352ms\n",
      "438:\tlearn: 0.0246500\ttotal: 275ms\tremaining: 351ms\n",
      "439:\tlearn: 0.0246016\ttotal: 275ms\tremaining: 350ms\n",
      "440:\tlearn: 0.0245548\ttotal: 275ms\tremaining: 349ms\n",
      "441:\tlearn: 0.0245394\ttotal: 275ms\tremaining: 348ms\n",
      "442:\tlearn: 0.0244886\ttotal: 276ms\tremaining: 347ms\n",
      "443:\tlearn: 0.0244607\ttotal: 276ms\tremaining: 346ms\n",
      "444:\tlearn: 0.0244190\ttotal: 276ms\tremaining: 345ms\n",
      "445:\tlearn: 0.0243908\ttotal: 277ms\tremaining: 344ms\n",
      "446:\tlearn: 0.0243702\ttotal: 277ms\tremaining: 343ms\n",
      "447:\tlearn: 0.0243473\ttotal: 278ms\tremaining: 342ms\n",
      "448:\tlearn: 0.0243066\ttotal: 278ms\tremaining: 341ms\n",
      "449:\tlearn: 0.0242856\ttotal: 278ms\tremaining: 340ms\n",
      "450:\tlearn: 0.0242638\ttotal: 279ms\tremaining: 339ms\n",
      "451:\tlearn: 0.0242108\ttotal: 279ms\tremaining: 338ms\n",
      "452:\tlearn: 0.0241926\ttotal: 279ms\tremaining: 337ms\n",
      "453:\tlearn: 0.0241771\ttotal: 279ms\tremaining: 336ms\n",
      "454:\tlearn: 0.0241480\ttotal: 280ms\tremaining: 335ms\n",
      "455:\tlearn: 0.0241095\ttotal: 280ms\tremaining: 334ms\n",
      "456:\tlearn: 0.0240790\ttotal: 280ms\tremaining: 333ms\n",
      "457:\tlearn: 0.0240519\ttotal: 281ms\tremaining: 332ms\n",
      "458:\tlearn: 0.0240156\ttotal: 281ms\tremaining: 331ms\n",
      "459:\tlearn: 0.0239716\ttotal: 281ms\tremaining: 330ms\n",
      "460:\tlearn: 0.0239428\ttotal: 282ms\tremaining: 329ms\n",
      "461:\tlearn: 0.0239086\ttotal: 282ms\tremaining: 328ms\n",
      "462:\tlearn: 0.0238827\ttotal: 282ms\tremaining: 327ms\n",
      "463:\tlearn: 0.0238678\ttotal: 283ms\tremaining: 326ms\n",
      "464:\tlearn: 0.0238448\ttotal: 283ms\tremaining: 325ms\n",
      "465:\tlearn: 0.0238113\ttotal: 283ms\tremaining: 324ms\n",
      "466:\tlearn: 0.0237960\ttotal: 283ms\tremaining: 323ms\n",
      "467:\tlearn: 0.0237479\ttotal: 284ms\tremaining: 322ms\n",
      "468:\tlearn: 0.0237182\ttotal: 284ms\tremaining: 322ms\n",
      "469:\tlearn: 0.0236920\ttotal: 285ms\tremaining: 322ms\n",
      "470:\tlearn: 0.0236777\ttotal: 285ms\tremaining: 321ms\n",
      "471:\tlearn: 0.0236643\ttotal: 286ms\tremaining: 320ms\n",
      "472:\tlearn: 0.0236160\ttotal: 286ms\tremaining: 319ms\n",
      "473:\tlearn: 0.0235646\ttotal: 286ms\tremaining: 318ms\n",
      "474:\tlearn: 0.0235445\ttotal: 287ms\tremaining: 317ms\n",
      "475:\tlearn: 0.0235251\ttotal: 287ms\tremaining: 316ms\n",
      "476:\tlearn: 0.0235001\ttotal: 287ms\tremaining: 315ms\n",
      "477:\tlearn: 0.0234853\ttotal: 288ms\tremaining: 315ms\n",
      "478:\tlearn: 0.0234587\ttotal: 288ms\tremaining: 314ms\n",
      "479:\tlearn: 0.0234230\ttotal: 289ms\tremaining: 313ms\n",
      "480:\tlearn: 0.0234104\ttotal: 289ms\tremaining: 312ms\n",
      "481:\tlearn: 0.0233724\ttotal: 289ms\tremaining: 311ms\n",
      "482:\tlearn: 0.0233311\ttotal: 289ms\tremaining: 310ms\n",
      "483:\tlearn: 0.0233192\ttotal: 290ms\tremaining: 309ms\n",
      "484:\tlearn: 0.0232769\ttotal: 291ms\tremaining: 309ms\n",
      "485:\tlearn: 0.0232344\ttotal: 291ms\tremaining: 308ms\n",
      "486:\tlearn: 0.0232028\ttotal: 291ms\tremaining: 307ms\n",
      "487:\tlearn: 0.0231817\ttotal: 291ms\tremaining: 306ms\n",
      "488:\tlearn: 0.0231417\ttotal: 292ms\tremaining: 305ms\n",
      "489:\tlearn: 0.0231073\ttotal: 292ms\tremaining: 304ms\n",
      "490:\tlearn: 0.0230823\ttotal: 292ms\tremaining: 303ms\n",
      "491:\tlearn: 0.0230529\ttotal: 293ms\tremaining: 302ms\n"
     ]
    },
    {
     "name": "stdout",
     "output_type": "stream",
     "text": [
      "492:\tlearn: 0.0230181\ttotal: 295ms\tremaining: 303ms\n",
      "493:\tlearn: 0.0229752\ttotal: 297ms\tremaining: 304ms\n",
      "494:\tlearn: 0.0229445\ttotal: 298ms\tremaining: 304ms\n",
      "495:\tlearn: 0.0229044\ttotal: 298ms\tremaining: 303ms\n",
      "496:\tlearn: 0.0228770\ttotal: 298ms\tremaining: 302ms\n",
      "497:\tlearn: 0.0228478\ttotal: 299ms\tremaining: 301ms\n",
      "498:\tlearn: 0.0228360\ttotal: 299ms\tremaining: 300ms\n",
      "499:\tlearn: 0.0228192\ttotal: 299ms\tremaining: 299ms\n",
      "500:\tlearn: 0.0228081\ttotal: 300ms\tremaining: 299ms\n",
      "501:\tlearn: 0.0227637\ttotal: 300ms\tremaining: 298ms\n",
      "502:\tlearn: 0.0227337\ttotal: 301ms\tremaining: 297ms\n",
      "503:\tlearn: 0.0226956\ttotal: 301ms\tremaining: 296ms\n",
      "504:\tlearn: 0.0226838\ttotal: 301ms\tremaining: 295ms\n",
      "505:\tlearn: 0.0226467\ttotal: 301ms\tremaining: 294ms\n",
      "506:\tlearn: 0.0226321\ttotal: 302ms\tremaining: 293ms\n",
      "507:\tlearn: 0.0225916\ttotal: 302ms\tremaining: 293ms\n",
      "508:\tlearn: 0.0225837\ttotal: 303ms\tremaining: 292ms\n",
      "509:\tlearn: 0.0225698\ttotal: 303ms\tremaining: 291ms\n",
      "510:\tlearn: 0.0225412\ttotal: 304ms\tremaining: 291ms\n",
      "511:\tlearn: 0.0225290\ttotal: 304ms\tremaining: 290ms\n",
      "512:\tlearn: 0.0224874\ttotal: 305ms\tremaining: 289ms\n",
      "513:\tlearn: 0.0224689\ttotal: 305ms\tremaining: 289ms\n",
      "514:\tlearn: 0.0224489\ttotal: 306ms\tremaining: 288ms\n",
      "515:\tlearn: 0.0224310\ttotal: 306ms\tremaining: 287ms\n",
      "516:\tlearn: 0.0224063\ttotal: 307ms\tremaining: 286ms\n",
      "517:\tlearn: 0.0223878\ttotal: 307ms\tremaining: 286ms\n",
      "518:\tlearn: 0.0223478\ttotal: 307ms\tremaining: 285ms\n",
      "519:\tlearn: 0.0223103\ttotal: 308ms\tremaining: 284ms\n",
      "520:\tlearn: 0.0222924\ttotal: 308ms\tremaining: 283ms\n",
      "521:\tlearn: 0.0222734\ttotal: 308ms\tremaining: 282ms\n",
      "522:\tlearn: 0.0222590\ttotal: 309ms\tremaining: 282ms\n",
      "523:\tlearn: 0.0222444\ttotal: 309ms\tremaining: 281ms\n",
      "524:\tlearn: 0.0222263\ttotal: 310ms\tremaining: 280ms\n",
      "525:\tlearn: 0.0222094\ttotal: 310ms\tremaining: 279ms\n",
      "526:\tlearn: 0.0222005\ttotal: 310ms\tremaining: 278ms\n",
      "527:\tlearn: 0.0221854\ttotal: 311ms\tremaining: 278ms\n",
      "528:\tlearn: 0.0221791\ttotal: 311ms\tremaining: 277ms\n",
      "529:\tlearn: 0.0221326\ttotal: 311ms\tremaining: 276ms\n",
      "530:\tlearn: 0.0221046\ttotal: 312ms\tremaining: 275ms\n",
      "531:\tlearn: 0.0220937\ttotal: 312ms\tremaining: 275ms\n",
      "532:\tlearn: 0.0220805\ttotal: 313ms\tremaining: 274ms\n",
      "533:\tlearn: 0.0220299\ttotal: 313ms\tremaining: 273ms\n",
      "534:\tlearn: 0.0219792\ttotal: 314ms\tremaining: 273ms\n",
      "535:\tlearn: 0.0219406\ttotal: 314ms\tremaining: 272ms\n",
      "536:\tlearn: 0.0219020\ttotal: 314ms\tremaining: 271ms\n",
      "537:\tlearn: 0.0218641\ttotal: 315ms\tremaining: 271ms\n",
      "538:\tlearn: 0.0218577\ttotal: 315ms\tremaining: 270ms\n",
      "539:\tlearn: 0.0218416\ttotal: 316ms\tremaining: 269ms\n",
      "540:\tlearn: 0.0218086\ttotal: 316ms\tremaining: 268ms\n",
      "541:\tlearn: 0.0217889\ttotal: 316ms\tremaining: 267ms\n",
      "542:\tlearn: 0.0217676\ttotal: 317ms\tremaining: 266ms\n",
      "543:\tlearn: 0.0217398\ttotal: 317ms\tremaining: 266ms\n",
      "544:\tlearn: 0.0217009\ttotal: 317ms\tremaining: 265ms\n",
      "545:\tlearn: 0.0216607\ttotal: 318ms\tremaining: 264ms\n",
      "546:\tlearn: 0.0216501\ttotal: 318ms\tremaining: 264ms\n",
      "547:\tlearn: 0.0216110\ttotal: 319ms\tremaining: 263ms\n",
      "548:\tlearn: 0.0216057\ttotal: 319ms\tremaining: 262ms\n",
      "549:\tlearn: 0.0215908\ttotal: 319ms\tremaining: 261ms\n",
      "550:\tlearn: 0.0215811\ttotal: 320ms\tremaining: 260ms\n",
      "551:\tlearn: 0.0215755\ttotal: 320ms\tremaining: 260ms\n",
      "552:\tlearn: 0.0215451\ttotal: 320ms\tremaining: 259ms\n",
      "553:\tlearn: 0.0215218\ttotal: 321ms\tremaining: 258ms\n",
      "554:\tlearn: 0.0214989\ttotal: 321ms\tremaining: 257ms\n",
      "555:\tlearn: 0.0214819\ttotal: 321ms\tremaining: 257ms\n",
      "556:\tlearn: 0.0214481\ttotal: 322ms\tremaining: 256ms\n",
      "557:\tlearn: 0.0214353\ttotal: 322ms\tremaining: 255ms\n",
      "558:\tlearn: 0.0214006\ttotal: 322ms\tremaining: 254ms\n",
      "559:\tlearn: 0.0213851\ttotal: 323ms\tremaining: 254ms\n",
      "560:\tlearn: 0.0213489\ttotal: 323ms\tremaining: 253ms\n",
      "561:\tlearn: 0.0213232\ttotal: 323ms\tremaining: 252ms\n",
      "562:\tlearn: 0.0213014\ttotal: 323ms\tremaining: 251ms\n",
      "563:\tlearn: 0.0212899\ttotal: 324ms\tremaining: 250ms\n",
      "564:\tlearn: 0.0212610\ttotal: 324ms\tremaining: 250ms\n",
      "565:\tlearn: 0.0212298\ttotal: 324ms\tremaining: 249ms\n",
      "566:\tlearn: 0.0211795\ttotal: 325ms\tremaining: 248ms\n",
      "567:\tlearn: 0.0211491\ttotal: 325ms\tremaining: 247ms\n",
      "568:\tlearn: 0.0211076\ttotal: 325ms\tremaining: 246ms\n",
      "569:\tlearn: 0.0210978\ttotal: 326ms\tremaining: 246ms\n",
      "570:\tlearn: 0.0210874\ttotal: 326ms\tremaining: 245ms\n",
      "571:\tlearn: 0.0210413\ttotal: 326ms\tremaining: 244ms\n",
      "572:\tlearn: 0.0210165\ttotal: 326ms\tremaining: 243ms\n",
      "573:\tlearn: 0.0209848\ttotal: 327ms\tremaining: 243ms\n",
      "574:\tlearn: 0.0209416\ttotal: 327ms\tremaining: 242ms\n",
      "575:\tlearn: 0.0209262\ttotal: 327ms\tremaining: 241ms\n",
      "576:\tlearn: 0.0208936\ttotal: 328ms\tremaining: 240ms\n",
      "577:\tlearn: 0.0208639\ttotal: 328ms\tremaining: 240ms\n",
      "578:\tlearn: 0.0208350\ttotal: 329ms\tremaining: 239ms\n",
      "579:\tlearn: 0.0208189\ttotal: 329ms\tremaining: 238ms\n",
      "580:\tlearn: 0.0208037\ttotal: 329ms\tremaining: 237ms\n",
      "581:\tlearn: 0.0207845\ttotal: 329ms\tremaining: 237ms\n",
      "582:\tlearn: 0.0207634\ttotal: 330ms\tremaining: 236ms\n",
      "583:\tlearn: 0.0207406\ttotal: 330ms\tremaining: 235ms\n",
      "584:\tlearn: 0.0207158\ttotal: 331ms\tremaining: 235ms\n",
      "585:\tlearn: 0.0206878\ttotal: 332ms\tremaining: 234ms\n",
      "586:\tlearn: 0.0206735\ttotal: 332ms\tremaining: 234ms\n",
      "587:\tlearn: 0.0206354\ttotal: 332ms\tremaining: 233ms\n",
      "588:\tlearn: 0.0206202\ttotal: 333ms\tremaining: 232ms\n",
      "589:\tlearn: 0.0205946\ttotal: 333ms\tremaining: 231ms\n",
      "590:\tlearn: 0.0205895\ttotal: 333ms\tremaining: 231ms\n",
      "591:\tlearn: 0.0205743\ttotal: 334ms\tremaining: 230ms\n",
      "592:\tlearn: 0.0205506\ttotal: 334ms\tremaining: 229ms\n",
      "593:\tlearn: 0.0205211\ttotal: 335ms\tremaining: 229ms\n",
      "594:\tlearn: 0.0205065\ttotal: 335ms\tremaining: 228ms\n",
      "595:\tlearn: 0.0204823\ttotal: 335ms\tremaining: 227ms\n",
      "596:\tlearn: 0.0204681\ttotal: 335ms\tremaining: 226ms\n",
      "597:\tlearn: 0.0204420\ttotal: 336ms\tremaining: 226ms\n",
      "598:\tlearn: 0.0204278\ttotal: 336ms\tremaining: 225ms\n",
      "599:\tlearn: 0.0203824\ttotal: 336ms\tremaining: 224ms\n",
      "600:\tlearn: 0.0203555\ttotal: 337ms\tremaining: 224ms\n",
      "601:\tlearn: 0.0203417\ttotal: 338ms\tremaining: 223ms\n",
      "602:\tlearn: 0.0203196\ttotal: 338ms\tremaining: 222ms\n",
      "603:\tlearn: 0.0202724\ttotal: 338ms\tremaining: 222ms\n",
      "604:\tlearn: 0.0202490\ttotal: 338ms\tremaining: 221ms\n",
      "605:\tlearn: 0.0202320\ttotal: 339ms\tremaining: 220ms\n",
      "606:\tlearn: 0.0202181\ttotal: 339ms\tremaining: 220ms\n",
      "607:\tlearn: 0.0202049\ttotal: 339ms\tremaining: 219ms\n",
      "608:\tlearn: 0.0201859\ttotal: 340ms\tremaining: 218ms\n",
      "609:\tlearn: 0.0201725\ttotal: 340ms\tremaining: 218ms\n",
      "610:\tlearn: 0.0201626\ttotal: 341ms\tremaining: 217ms\n",
      "611:\tlearn: 0.0201200\ttotal: 341ms\tremaining: 216ms\n",
      "612:\tlearn: 0.0200925\ttotal: 341ms\tremaining: 215ms\n",
      "613:\tlearn: 0.0200723\ttotal: 342ms\tremaining: 215ms\n",
      "614:\tlearn: 0.0200625\ttotal: 342ms\tremaining: 214ms\n",
      "615:\tlearn: 0.0200360\ttotal: 342ms\tremaining: 213ms\n",
      "616:\tlearn: 0.0200042\ttotal: 343ms\tremaining: 213ms\n",
      "617:\tlearn: 0.0199821\ttotal: 343ms\tremaining: 212ms\n",
      "618:\tlearn: 0.0199692\ttotal: 344ms\tremaining: 212ms\n",
      "619:\tlearn: 0.0199435\ttotal: 344ms\tremaining: 211ms\n",
      "620:\tlearn: 0.0199339\ttotal: 344ms\tremaining: 210ms\n",
      "621:\tlearn: 0.0199169\ttotal: 345ms\tremaining: 209ms\n",
      "622:\tlearn: 0.0199081\ttotal: 345ms\tremaining: 209ms\n",
      "623:\tlearn: 0.0198805\ttotal: 345ms\tremaining: 208ms\n",
      "624:\tlearn: 0.0198611\ttotal: 346ms\tremaining: 207ms\n",
      "625:\tlearn: 0.0198442\ttotal: 346ms\tremaining: 207ms\n",
      "626:\tlearn: 0.0198279\ttotal: 346ms\tremaining: 206ms\n",
      "627:\tlearn: 0.0198135\ttotal: 347ms\tremaining: 205ms\n",
      "628:\tlearn: 0.0197924\ttotal: 347ms\tremaining: 205ms\n",
      "629:\tlearn: 0.0197799\ttotal: 347ms\tremaining: 204ms\n",
      "630:\tlearn: 0.0197677\ttotal: 348ms\tremaining: 203ms\n",
      "631:\tlearn: 0.0197450\ttotal: 348ms\tremaining: 203ms\n",
      "632:\tlearn: 0.0197291\ttotal: 348ms\tremaining: 202ms\n",
      "633:\tlearn: 0.0197142\ttotal: 349ms\tremaining: 201ms\n",
      "634:\tlearn: 0.0197026\ttotal: 349ms\tremaining: 200ms\n",
      "635:\tlearn: 0.0196877\ttotal: 349ms\tremaining: 200ms\n",
      "636:\tlearn: 0.0196482\ttotal: 349ms\tremaining: 199ms\n",
      "637:\tlearn: 0.0196347\ttotal: 350ms\tremaining: 198ms\n",
      "638:\tlearn: 0.0196138\ttotal: 350ms\tremaining: 198ms\n",
      "639:\tlearn: 0.0195983\ttotal: 350ms\tremaining: 197ms\n",
      "640:\tlearn: 0.0195710\ttotal: 351ms\tremaining: 196ms\n",
      "641:\tlearn: 0.0195520\ttotal: 351ms\tremaining: 196ms\n",
      "642:\tlearn: 0.0195469\ttotal: 351ms\tremaining: 195ms\n",
      "643:\tlearn: 0.0195354\ttotal: 351ms\tremaining: 194ms\n",
      "644:\tlearn: 0.0195188\ttotal: 352ms\tremaining: 194ms\n",
      "645:\tlearn: 0.0194801\ttotal: 352ms\tremaining: 193ms\n",
      "646:\tlearn: 0.0194681\ttotal: 352ms\tremaining: 192ms\n",
      "647:\tlearn: 0.0194577\ttotal: 353ms\tremaining: 192ms\n",
      "648:\tlearn: 0.0194252\ttotal: 353ms\tremaining: 191ms\n",
      "649:\tlearn: 0.0194122\ttotal: 353ms\tremaining: 190ms\n",
      "650:\tlearn: 0.0193812\ttotal: 354ms\tremaining: 190ms\n",
      "651:\tlearn: 0.0193689\ttotal: 354ms\tremaining: 189ms\n",
      "652:\tlearn: 0.0193572\ttotal: 354ms\tremaining: 188ms\n",
      "653:\tlearn: 0.0193238\ttotal: 355ms\tremaining: 188ms\n",
      "654:\tlearn: 0.0192950\ttotal: 355ms\tremaining: 187ms\n",
      "655:\tlearn: 0.0192746\ttotal: 355ms\tremaining: 186ms\n",
      "656:\tlearn: 0.0192437\ttotal: 356ms\tremaining: 186ms\n",
      "657:\tlearn: 0.0192156\ttotal: 356ms\tremaining: 185ms\n",
      "658:\tlearn: 0.0191899\ttotal: 357ms\tremaining: 185ms\n",
      "659:\tlearn: 0.0191796\ttotal: 357ms\tremaining: 184ms\n",
      "660:\tlearn: 0.0191501\ttotal: 358ms\tremaining: 184ms\n",
      "661:\tlearn: 0.0191263\ttotal: 358ms\tremaining: 183ms\n",
      "662:\tlearn: 0.0191083\ttotal: 358ms\tremaining: 182ms\n",
      "663:\tlearn: 0.0190756\ttotal: 359ms\tremaining: 182ms\n",
      "664:\tlearn: 0.0190506\ttotal: 360ms\tremaining: 182ms\n",
      "665:\tlearn: 0.0190390\ttotal: 361ms\tremaining: 181ms\n",
      "666:\tlearn: 0.0190143\ttotal: 361ms\tremaining: 180ms\n",
      "667:\tlearn: 0.0189863\ttotal: 361ms\tremaining: 180ms\n",
      "668:\tlearn: 0.0189625\ttotal: 362ms\tremaining: 179ms\n",
      "669:\tlearn: 0.0189333\ttotal: 362ms\tremaining: 178ms\n",
      "670:\tlearn: 0.0189077\ttotal: 362ms\tremaining: 178ms\n",
      "671:\tlearn: 0.0188724\ttotal: 363ms\tremaining: 177ms\n",
      "672:\tlearn: 0.0188447\ttotal: 363ms\tremaining: 176ms\n",
      "673:\tlearn: 0.0188274\ttotal: 363ms\tremaining: 176ms\n",
      "674:\tlearn: 0.0188085\ttotal: 364ms\tremaining: 175ms\n",
      "675:\tlearn: 0.0187972\ttotal: 364ms\tremaining: 174ms\n",
      "676:\tlearn: 0.0187791\ttotal: 364ms\tremaining: 174ms\n",
      "677:\tlearn: 0.0187650\ttotal: 364ms\tremaining: 173ms\n",
      "678:\tlearn: 0.0187554\ttotal: 365ms\tremaining: 172ms\n",
      "679:\tlearn: 0.0187369\ttotal: 365ms\tremaining: 172ms\n",
      "680:\tlearn: 0.0187232\ttotal: 365ms\tremaining: 171ms\n",
      "681:\tlearn: 0.0187091\ttotal: 366ms\tremaining: 170ms\n",
      "682:\tlearn: 0.0186913\ttotal: 366ms\tremaining: 170ms\n",
      "683:\tlearn: 0.0186673\ttotal: 366ms\tremaining: 169ms\n",
      "684:\tlearn: 0.0186580\ttotal: 367ms\tremaining: 169ms\n",
      "685:\tlearn: 0.0186471\ttotal: 367ms\tremaining: 168ms\n",
      "686:\tlearn: 0.0186437\ttotal: 367ms\tremaining: 167ms\n",
      "687:\tlearn: 0.0186335\ttotal: 367ms\tremaining: 167ms\n",
      "688:\tlearn: 0.0186204\ttotal: 368ms\tremaining: 166ms\n",
      "689:\tlearn: 0.0185856\ttotal: 368ms\tremaining: 165ms\n",
      "690:\tlearn: 0.0185745\ttotal: 368ms\tremaining: 165ms\n",
      "691:\tlearn: 0.0185502\ttotal: 369ms\tremaining: 164ms\n",
      "692:\tlearn: 0.0185411\ttotal: 369ms\tremaining: 163ms\n",
      "693:\tlearn: 0.0185160\ttotal: 369ms\tremaining: 163ms\n",
      "694:\tlearn: 0.0185065\ttotal: 370ms\tremaining: 162ms\n",
      "695:\tlearn: 0.0184851\ttotal: 370ms\tremaining: 162ms\n",
      "696:\tlearn: 0.0184671\ttotal: 370ms\tremaining: 161ms\n",
      "697:\tlearn: 0.0184519\ttotal: 370ms\tremaining: 160ms\n",
      "698:\tlearn: 0.0184448\ttotal: 371ms\tremaining: 160ms\n",
      "699:\tlearn: 0.0184217\ttotal: 371ms\tremaining: 159ms\n",
      "700:\tlearn: 0.0183986\ttotal: 371ms\tremaining: 158ms\n",
      "701:\tlearn: 0.0183761\ttotal: 372ms\tremaining: 158ms\n",
      "702:\tlearn: 0.0183529\ttotal: 372ms\tremaining: 157ms\n",
      "703:\tlearn: 0.0183281\ttotal: 372ms\tremaining: 157ms\n"
     ]
    },
    {
     "name": "stdout",
     "output_type": "stream",
     "text": [
      "704:\tlearn: 0.0183090\ttotal: 373ms\tremaining: 156ms\n",
      "705:\tlearn: 0.0182938\ttotal: 374ms\tremaining: 156ms\n",
      "706:\tlearn: 0.0182824\ttotal: 376ms\tremaining: 156ms\n",
      "707:\tlearn: 0.0182719\ttotal: 377ms\tremaining: 155ms\n",
      "708:\tlearn: 0.0182603\ttotal: 377ms\tremaining: 155ms\n",
      "709:\tlearn: 0.0182204\ttotal: 377ms\tremaining: 154ms\n",
      "710:\tlearn: 0.0181981\ttotal: 378ms\tremaining: 154ms\n",
      "711:\tlearn: 0.0181715\ttotal: 379ms\tremaining: 153ms\n",
      "712:\tlearn: 0.0181492\ttotal: 379ms\tremaining: 153ms\n",
      "713:\tlearn: 0.0181375\ttotal: 379ms\tremaining: 152ms\n",
      "714:\tlearn: 0.0181282\ttotal: 380ms\tremaining: 151ms\n",
      "715:\tlearn: 0.0181121\ttotal: 380ms\tremaining: 151ms\n",
      "716:\tlearn: 0.0181001\ttotal: 380ms\tremaining: 150ms\n",
      "717:\tlearn: 0.0180896\ttotal: 381ms\tremaining: 149ms\n",
      "718:\tlearn: 0.0180678\ttotal: 382ms\tremaining: 149ms\n",
      "719:\tlearn: 0.0180517\ttotal: 382ms\tremaining: 149ms\n",
      "720:\tlearn: 0.0180240\ttotal: 382ms\tremaining: 148ms\n",
      "721:\tlearn: 0.0180134\ttotal: 383ms\tremaining: 147ms\n",
      "722:\tlearn: 0.0179896\ttotal: 383ms\tremaining: 147ms\n",
      "723:\tlearn: 0.0179617\ttotal: 383ms\tremaining: 146ms\n",
      "724:\tlearn: 0.0179409\ttotal: 384ms\tremaining: 145ms\n",
      "725:\tlearn: 0.0179117\ttotal: 384ms\tremaining: 145ms\n",
      "726:\tlearn: 0.0178924\ttotal: 385ms\tremaining: 144ms\n",
      "727:\tlearn: 0.0178893\ttotal: 385ms\tremaining: 144ms\n",
      "728:\tlearn: 0.0178735\ttotal: 385ms\tremaining: 143ms\n",
      "729:\tlearn: 0.0178519\ttotal: 385ms\tremaining: 143ms\n",
      "730:\tlearn: 0.0178322\ttotal: 386ms\tremaining: 142ms\n",
      "731:\tlearn: 0.0178026\ttotal: 386ms\tremaining: 141ms\n",
      "732:\tlearn: 0.0177927\ttotal: 386ms\tremaining: 141ms\n",
      "733:\tlearn: 0.0177793\ttotal: 387ms\tremaining: 140ms\n",
      "734:\tlearn: 0.0177534\ttotal: 387ms\tremaining: 140ms\n",
      "735:\tlearn: 0.0177460\ttotal: 388ms\tremaining: 139ms\n",
      "736:\tlearn: 0.0177265\ttotal: 388ms\tremaining: 138ms\n",
      "737:\tlearn: 0.0177235\ttotal: 388ms\tremaining: 138ms\n",
      "738:\tlearn: 0.0176959\ttotal: 389ms\tremaining: 137ms\n",
      "739:\tlearn: 0.0176854\ttotal: 389ms\tremaining: 137ms\n",
      "740:\tlearn: 0.0176670\ttotal: 389ms\tremaining: 136ms\n",
      "741:\tlearn: 0.0176582\ttotal: 390ms\tremaining: 136ms\n",
      "742:\tlearn: 0.0176382\ttotal: 390ms\tremaining: 135ms\n",
      "743:\tlearn: 0.0176214\ttotal: 390ms\tremaining: 134ms\n",
      "744:\tlearn: 0.0176019\ttotal: 391ms\tremaining: 134ms\n",
      "745:\tlearn: 0.0175751\ttotal: 391ms\tremaining: 133ms\n",
      "746:\tlearn: 0.0175561\ttotal: 391ms\tremaining: 132ms\n",
      "747:\tlearn: 0.0175378\ttotal: 391ms\tremaining: 132ms\n",
      "748:\tlearn: 0.0175174\ttotal: 392ms\tremaining: 131ms\n",
      "749:\tlearn: 0.0174989\ttotal: 392ms\tremaining: 131ms\n",
      "750:\tlearn: 0.0174721\ttotal: 392ms\tremaining: 130ms\n",
      "751:\tlearn: 0.0174611\ttotal: 393ms\tremaining: 129ms\n",
      "752:\tlearn: 0.0174397\ttotal: 393ms\tremaining: 129ms\n",
      "753:\tlearn: 0.0174282\ttotal: 393ms\tremaining: 128ms\n",
      "754:\tlearn: 0.0174184\ttotal: 393ms\tremaining: 128ms\n",
      "755:\tlearn: 0.0174088\ttotal: 394ms\tremaining: 127ms\n",
      "756:\tlearn: 0.0173908\ttotal: 395ms\tremaining: 127ms\n",
      "757:\tlearn: 0.0173662\ttotal: 396ms\tremaining: 126ms\n",
      "758:\tlearn: 0.0173538\ttotal: 396ms\tremaining: 126ms\n",
      "759:\tlearn: 0.0173474\ttotal: 396ms\tremaining: 125ms\n",
      "760:\tlearn: 0.0173381\ttotal: 396ms\tremaining: 124ms\n",
      "761:\tlearn: 0.0173206\ttotal: 397ms\tremaining: 124ms\n",
      "762:\tlearn: 0.0173123\ttotal: 397ms\tremaining: 123ms\n",
      "763:\tlearn: 0.0172927\ttotal: 397ms\tremaining: 123ms\n",
      "764:\tlearn: 0.0172812\ttotal: 397ms\tremaining: 122ms\n",
      "765:\tlearn: 0.0172578\ttotal: 398ms\tremaining: 122ms\n",
      "766:\tlearn: 0.0172417\ttotal: 398ms\tremaining: 121ms\n",
      "767:\tlearn: 0.0172251\ttotal: 398ms\tremaining: 120ms\n",
      "768:\tlearn: 0.0172065\ttotal: 399ms\tremaining: 120ms\n",
      "769:\tlearn: 0.0171796\ttotal: 399ms\tremaining: 119ms\n",
      "770:\tlearn: 0.0171708\ttotal: 399ms\tremaining: 119ms\n",
      "771:\tlearn: 0.0171453\ttotal: 399ms\tremaining: 118ms\n",
      "772:\tlearn: 0.0171357\ttotal: 400ms\tremaining: 117ms\n",
      "773:\tlearn: 0.0171288\ttotal: 400ms\tremaining: 117ms\n",
      "774:\tlearn: 0.0171213\ttotal: 401ms\tremaining: 116ms\n",
      "775:\tlearn: 0.0171096\ttotal: 401ms\tremaining: 116ms\n",
      "776:\tlearn: 0.0170916\ttotal: 401ms\tremaining: 115ms\n",
      "777:\tlearn: 0.0170730\ttotal: 401ms\tremaining: 115ms\n",
      "778:\tlearn: 0.0170574\ttotal: 402ms\tremaining: 114ms\n",
      "779:\tlearn: 0.0170405\ttotal: 402ms\tremaining: 113ms\n",
      "780:\tlearn: 0.0170222\ttotal: 402ms\tremaining: 113ms\n",
      "781:\tlearn: 0.0169986\ttotal: 403ms\tremaining: 112ms\n",
      "782:\tlearn: 0.0169861\ttotal: 403ms\tremaining: 112ms\n",
      "783:\tlearn: 0.0169582\ttotal: 404ms\tremaining: 111ms\n",
      "784:\tlearn: 0.0169476\ttotal: 404ms\tremaining: 111ms\n",
      "785:\tlearn: 0.0169209\ttotal: 404ms\tremaining: 110ms\n",
      "786:\tlearn: 0.0169038\ttotal: 404ms\tremaining: 109ms\n",
      "787:\tlearn: 0.0168910\ttotal: 405ms\tremaining: 109ms\n",
      "788:\tlearn: 0.0168706\ttotal: 405ms\tremaining: 108ms\n",
      "789:\tlearn: 0.0168560\ttotal: 405ms\tremaining: 108ms\n",
      "790:\tlearn: 0.0168449\ttotal: 406ms\tremaining: 107ms\n",
      "791:\tlearn: 0.0168292\ttotal: 406ms\tremaining: 107ms\n",
      "792:\tlearn: 0.0168040\ttotal: 406ms\tremaining: 106ms\n",
      "793:\tlearn: 0.0167956\ttotal: 407ms\tremaining: 105ms\n",
      "794:\tlearn: 0.0167711\ttotal: 407ms\tremaining: 105ms\n",
      "795:\tlearn: 0.0167489\ttotal: 407ms\tremaining: 104ms\n",
      "796:\tlearn: 0.0167406\ttotal: 407ms\tremaining: 104ms\n",
      "797:\tlearn: 0.0167264\ttotal: 409ms\tremaining: 103ms\n",
      "798:\tlearn: 0.0167108\ttotal: 409ms\tremaining: 103ms\n",
      "799:\tlearn: 0.0166921\ttotal: 409ms\tremaining: 102ms\n",
      "800:\tlearn: 0.0166744\ttotal: 410ms\tremaining: 102ms\n",
      "801:\tlearn: 0.0166509\ttotal: 410ms\tremaining: 101ms\n",
      "802:\tlearn: 0.0166334\ttotal: 410ms\tremaining: 101ms\n",
      "803:\tlearn: 0.0166230\ttotal: 411ms\tremaining: 100ms\n",
      "804:\tlearn: 0.0165996\ttotal: 411ms\tremaining: 99.6ms\n",
      "805:\tlearn: 0.0165862\ttotal: 412ms\tremaining: 99.1ms\n",
      "806:\tlearn: 0.0165769\ttotal: 412ms\tremaining: 98.5ms\n",
      "807:\tlearn: 0.0165689\ttotal: 412ms\tremaining: 97.9ms\n",
      "808:\tlearn: 0.0165528\ttotal: 412ms\tremaining: 97.4ms\n",
      "809:\tlearn: 0.0165431\ttotal: 413ms\tremaining: 96.8ms\n",
      "810:\tlearn: 0.0165264\ttotal: 413ms\tremaining: 96.2ms\n",
      "811:\tlearn: 0.0165183\ttotal: 414ms\tremaining: 95.9ms\n",
      "812:\tlearn: 0.0165033\ttotal: 414ms\tremaining: 95.3ms\n",
      "813:\tlearn: 0.0164940\ttotal: 415ms\tremaining: 94.8ms\n",
      "814:\tlearn: 0.0164768\ttotal: 415ms\tremaining: 94.2ms\n",
      "815:\tlearn: 0.0164542\ttotal: 415ms\tremaining: 93.6ms\n",
      "816:\tlearn: 0.0164458\ttotal: 416ms\tremaining: 93.1ms\n",
      "817:\tlearn: 0.0164427\ttotal: 416ms\tremaining: 92.5ms\n",
      "818:\tlearn: 0.0164315\ttotal: 416ms\tremaining: 92ms\n",
      "819:\tlearn: 0.0164099\ttotal: 416ms\tremaining: 91.4ms\n",
      "820:\tlearn: 0.0163917\ttotal: 417ms\tremaining: 90.9ms\n",
      "821:\tlearn: 0.0163804\ttotal: 417ms\tremaining: 90.4ms\n",
      "822:\tlearn: 0.0163650\ttotal: 418ms\tremaining: 89.8ms\n",
      "823:\tlearn: 0.0163505\ttotal: 418ms\tremaining: 89.3ms\n",
      "824:\tlearn: 0.0163379\ttotal: 418ms\tremaining: 88.7ms\n",
      "825:\tlearn: 0.0163262\ttotal: 419ms\tremaining: 88.2ms\n",
      "826:\tlearn: 0.0163178\ttotal: 419ms\tremaining: 87.6ms\n",
      "827:\tlearn: 0.0163051\ttotal: 419ms\tremaining: 87.1ms\n",
      "828:\tlearn: 0.0162990\ttotal: 420ms\tremaining: 86.7ms\n",
      "829:\tlearn: 0.0162822\ttotal: 421ms\tremaining: 86.2ms\n",
      "830:\tlearn: 0.0162598\ttotal: 421ms\tremaining: 85.6ms\n",
      "831:\tlearn: 0.0162507\ttotal: 421ms\tremaining: 85.1ms\n",
      "832:\tlearn: 0.0162358\ttotal: 422ms\tremaining: 84.5ms\n",
      "833:\tlearn: 0.0162298\ttotal: 422ms\tremaining: 84ms\n",
      "834:\tlearn: 0.0162022\ttotal: 422ms\tremaining: 83.4ms\n",
      "835:\tlearn: 0.0161910\ttotal: 422ms\tremaining: 82.9ms\n",
      "836:\tlearn: 0.0161765\ttotal: 423ms\tremaining: 82.5ms\n",
      "837:\tlearn: 0.0161724\ttotal: 424ms\tremaining: 82ms\n",
      "838:\tlearn: 0.0161561\ttotal: 424ms\tremaining: 81.4ms\n",
      "839:\tlearn: 0.0161388\ttotal: 424ms\tremaining: 80.8ms\n",
      "840:\tlearn: 0.0161204\ttotal: 425ms\tremaining: 80.3ms\n",
      "841:\tlearn: 0.0161087\ttotal: 425ms\tremaining: 79.7ms\n",
      "842:\tlearn: 0.0160957\ttotal: 426ms\tremaining: 79.3ms\n",
      "843:\tlearn: 0.0160832\ttotal: 426ms\tremaining: 78.7ms\n"
     ]
    },
    {
     "name": "stdout",
     "output_type": "stream",
     "text": [
      "844:\tlearn: 0.0160710\ttotal: 426ms\tremaining: 78.2ms\n",
      "845:\tlearn: 0.0160633\ttotal: 426ms\tremaining: 77.6ms\n",
      "846:\tlearn: 0.0160398\ttotal: 427ms\tremaining: 77.1ms\n",
      "847:\tlearn: 0.0160300\ttotal: 427ms\tremaining: 76.5ms\n",
      "848:\tlearn: 0.0160246\ttotal: 429ms\tremaining: 76.3ms\n",
      "849:\tlearn: 0.0160106\ttotal: 430ms\tremaining: 75.8ms\n",
      "850:\tlearn: 0.0160029\ttotal: 430ms\tremaining: 75.3ms\n",
      "851:\tlearn: 0.0159809\ttotal: 430ms\tremaining: 74.7ms\n",
      "852:\tlearn: 0.0159714\ttotal: 430ms\tremaining: 74.2ms\n",
      "853:\tlearn: 0.0159514\ttotal: 431ms\tremaining: 73.6ms\n",
      "854:\tlearn: 0.0159393\ttotal: 431ms\tremaining: 73.2ms\n",
      "855:\tlearn: 0.0159274\ttotal: 432ms\tremaining: 72.6ms\n",
      "856:\tlearn: 0.0159119\ttotal: 432ms\tremaining: 72.1ms\n",
      "857:\tlearn: 0.0158909\ttotal: 432ms\tremaining: 71.5ms\n",
      "858:\tlearn: 0.0158678\ttotal: 433ms\tremaining: 71ms\n",
      "859:\tlearn: 0.0158452\ttotal: 433ms\tremaining: 70.5ms\n",
      "860:\tlearn: 0.0158332\ttotal: 433ms\tremaining: 70ms\n",
      "861:\tlearn: 0.0158154\ttotal: 434ms\tremaining: 69.4ms\n",
      "862:\tlearn: 0.0158118\ttotal: 434ms\tremaining: 68.9ms\n",
      "863:\tlearn: 0.0157997\ttotal: 434ms\tremaining: 68.4ms\n",
      "864:\tlearn: 0.0157923\ttotal: 435ms\tremaining: 67.8ms\n",
      "865:\tlearn: 0.0157827\ttotal: 435ms\tremaining: 67.4ms\n",
      "866:\tlearn: 0.0157753\ttotal: 436ms\tremaining: 66.9ms\n",
      "867:\tlearn: 0.0157583\ttotal: 436ms\tremaining: 66.4ms\n",
      "868:\tlearn: 0.0157531\ttotal: 437ms\tremaining: 65.8ms\n",
      "869:\tlearn: 0.0157124\ttotal: 437ms\tremaining: 65.3ms\n",
      "870:\tlearn: 0.0157036\ttotal: 437ms\tremaining: 64.8ms\n",
      "871:\tlearn: 0.0156854\ttotal: 438ms\tremaining: 64.2ms\n",
      "872:\tlearn: 0.0156714\ttotal: 438ms\tremaining: 63.7ms\n",
      "873:\tlearn: 0.0156586\ttotal: 438ms\tremaining: 63.2ms\n",
      "874:\tlearn: 0.0156486\ttotal: 439ms\tremaining: 62.7ms\n",
      "875:\tlearn: 0.0156346\ttotal: 439ms\tremaining: 62.2ms\n",
      "876:\tlearn: 0.0156205\ttotal: 440ms\tremaining: 61.6ms\n",
      "877:\tlearn: 0.0156023\ttotal: 440ms\tremaining: 61.1ms\n",
      "878:\tlearn: 0.0155828\ttotal: 440ms\tremaining: 60.6ms\n",
      "879:\tlearn: 0.0155772\ttotal: 440ms\tremaining: 60.1ms\n",
      "880:\tlearn: 0.0155628\ttotal: 441ms\tremaining: 59.5ms\n",
      "881:\tlearn: 0.0155574\ttotal: 442ms\tremaining: 59.1ms\n",
      "882:\tlearn: 0.0155351\ttotal: 442ms\tremaining: 58.6ms\n",
      "883:\tlearn: 0.0155197\ttotal: 442ms\tremaining: 58ms\n",
      "884:\tlearn: 0.0155050\ttotal: 443ms\tremaining: 57.5ms\n",
      "885:\tlearn: 0.0154898\ttotal: 443ms\tremaining: 57ms\n",
      "886:\tlearn: 0.0154687\ttotal: 443ms\tremaining: 56.5ms\n",
      "887:\tlearn: 0.0154551\ttotal: 444ms\tremaining: 56ms\n",
      "888:\tlearn: 0.0154443\ttotal: 444ms\tremaining: 55.4ms\n",
      "889:\tlearn: 0.0154354\ttotal: 444ms\tremaining: 54.9ms\n",
      "890:\tlearn: 0.0154186\ttotal: 444ms\tremaining: 54.4ms\n",
      "891:\tlearn: 0.0154066\ttotal: 445ms\tremaining: 53.8ms\n",
      "892:\tlearn: 0.0153910\ttotal: 445ms\tremaining: 53.3ms\n",
      "893:\tlearn: 0.0153740\ttotal: 445ms\tremaining: 52.8ms\n",
      "894:\tlearn: 0.0153684\ttotal: 446ms\tremaining: 52.3ms\n",
      "895:\tlearn: 0.0153614\ttotal: 446ms\tremaining: 51.7ms\n",
      "896:\tlearn: 0.0153489\ttotal: 446ms\tremaining: 51.2ms\n",
      "897:\tlearn: 0.0153415\ttotal: 446ms\tremaining: 50.7ms\n",
      "898:\tlearn: 0.0153044\ttotal: 447ms\tremaining: 50.2ms\n",
      "899:\tlearn: 0.0152940\ttotal: 447ms\tremaining: 49.7ms\n",
      "900:\tlearn: 0.0152740\ttotal: 448ms\tremaining: 49.2ms\n",
      "901:\tlearn: 0.0152622\ttotal: 448ms\tremaining: 48.7ms\n",
      "902:\tlearn: 0.0152481\ttotal: 448ms\tremaining: 48.1ms\n",
      "903:\tlearn: 0.0152366\ttotal: 448ms\tremaining: 47.6ms\n",
      "904:\tlearn: 0.0152259\ttotal: 449ms\tremaining: 47.1ms\n",
      "905:\tlearn: 0.0152191\ttotal: 449ms\tremaining: 46.6ms\n",
      "906:\tlearn: 0.0152067\ttotal: 449ms\tremaining: 46.1ms\n",
      "907:\tlearn: 0.0151943\ttotal: 449ms\tremaining: 45.5ms\n",
      "908:\tlearn: 0.0151849\ttotal: 450ms\tremaining: 45ms\n",
      "909:\tlearn: 0.0151732\ttotal: 450ms\tremaining: 44.5ms\n",
      "910:\tlearn: 0.0151661\ttotal: 450ms\tremaining: 44ms\n",
      "911:\tlearn: 0.0151574\ttotal: 451ms\tremaining: 43.5ms\n",
      "912:\tlearn: 0.0151460\ttotal: 451ms\tremaining: 43ms\n",
      "913:\tlearn: 0.0151268\ttotal: 452ms\tremaining: 42.5ms\n",
      "914:\tlearn: 0.0151102\ttotal: 452ms\tremaining: 42ms\n",
      "915:\tlearn: 0.0151008\ttotal: 452ms\tremaining: 41.5ms\n",
      "916:\tlearn: 0.0150839\ttotal: 452ms\tremaining: 40.9ms\n",
      "917:\tlearn: 0.0150710\ttotal: 453ms\tremaining: 40.4ms\n",
      "918:\tlearn: 0.0150687\ttotal: 453ms\tremaining: 39.9ms\n",
      "919:\tlearn: 0.0150519\ttotal: 453ms\tremaining: 39.4ms\n",
      "920:\tlearn: 0.0150449\ttotal: 454ms\tremaining: 38.9ms\n",
      "921:\tlearn: 0.0150349\ttotal: 454ms\tremaining: 38.4ms\n",
      "922:\tlearn: 0.0150188\ttotal: 454ms\tremaining: 37.9ms\n",
      "923:\tlearn: 0.0150099\ttotal: 455ms\tremaining: 37.4ms\n",
      "924:\tlearn: 0.0149972\ttotal: 455ms\tremaining: 36.9ms\n",
      "925:\tlearn: 0.0149897\ttotal: 455ms\tremaining: 36.4ms\n",
      "926:\tlearn: 0.0149838\ttotal: 456ms\tremaining: 35.9ms\n",
      "927:\tlearn: 0.0149726\ttotal: 471ms\tremaining: 36.6ms\n",
      "928:\tlearn: 0.0149547\ttotal: 475ms\tremaining: 36.3ms\n",
      "929:\tlearn: 0.0149448\ttotal: 476ms\tremaining: 35.8ms\n",
      "930:\tlearn: 0.0149338\ttotal: 477ms\tremaining: 35.4ms\n",
      "931:\tlearn: 0.0149207\ttotal: 477ms\tremaining: 34.8ms\n",
      "932:\tlearn: 0.0149064\ttotal: 478ms\tremaining: 34.3ms\n",
      "933:\tlearn: 0.0148919\ttotal: 478ms\tremaining: 33.8ms\n",
      "934:\tlearn: 0.0148766\ttotal: 479ms\tremaining: 33.3ms\n",
      "935:\tlearn: 0.0148696\ttotal: 479ms\tremaining: 32.8ms\n",
      "936:\tlearn: 0.0148582\ttotal: 479ms\tremaining: 32.2ms\n",
      "937:\tlearn: 0.0148504\ttotal: 480ms\tremaining: 31.7ms\n",
      "938:\tlearn: 0.0148408\ttotal: 480ms\tremaining: 31.2ms\n",
      "939:\tlearn: 0.0148260\ttotal: 480ms\tremaining: 30.6ms\n",
      "940:\tlearn: 0.0148147\ttotal: 481ms\tremaining: 30.1ms\n",
      "941:\tlearn: 0.0148066\ttotal: 481ms\tremaining: 29.6ms\n",
      "942:\tlearn: 0.0147906\ttotal: 482ms\tremaining: 29.1ms\n",
      "943:\tlearn: 0.0147800\ttotal: 482ms\tremaining: 28.6ms\n",
      "944:\tlearn: 0.0147669\ttotal: 482ms\tremaining: 28.1ms\n",
      "945:\tlearn: 0.0147561\ttotal: 482ms\tremaining: 27.5ms\n",
      "946:\tlearn: 0.0147480\ttotal: 483ms\tremaining: 27ms\n",
      "947:\tlearn: 0.0147376\ttotal: 483ms\tremaining: 26.5ms\n",
      "948:\tlearn: 0.0147302\ttotal: 483ms\tremaining: 26ms\n",
      "949:\tlearn: 0.0147224\ttotal: 484ms\tremaining: 25.5ms\n",
      "950:\tlearn: 0.0147122\ttotal: 484ms\tremaining: 25ms\n",
      "951:\tlearn: 0.0147031\ttotal: 485ms\tremaining: 24.4ms\n",
      "952:\tlearn: 0.0146965\ttotal: 485ms\tremaining: 23.9ms\n",
      "953:\tlearn: 0.0146801\ttotal: 485ms\tremaining: 23.4ms\n",
      "954:\tlearn: 0.0146781\ttotal: 486ms\tremaining: 22.9ms\n",
      "955:\tlearn: 0.0146639\ttotal: 486ms\tremaining: 22.4ms\n",
      "956:\tlearn: 0.0146542\ttotal: 486ms\tremaining: 21.8ms\n",
      "957:\tlearn: 0.0146457\ttotal: 487ms\tremaining: 21.3ms\n",
      "958:\tlearn: 0.0146362\ttotal: 487ms\tremaining: 20.8ms\n",
      "959:\tlearn: 0.0146205\ttotal: 487ms\tremaining: 20.3ms\n",
      "960:\tlearn: 0.0146112\ttotal: 488ms\tremaining: 19.8ms\n",
      "961:\tlearn: 0.0146018\ttotal: 488ms\tremaining: 19.3ms\n",
      "962:\tlearn: 0.0145933\ttotal: 488ms\tremaining: 18.8ms\n",
      "963:\tlearn: 0.0145813\ttotal: 489ms\tremaining: 18.2ms\n",
      "964:\tlearn: 0.0145689\ttotal: 489ms\tremaining: 17.7ms\n",
      "965:\tlearn: 0.0145569\ttotal: 489ms\tremaining: 17.2ms\n",
      "966:\tlearn: 0.0145437\ttotal: 490ms\tremaining: 16.7ms\n",
      "967:\tlearn: 0.0145290\ttotal: 490ms\tremaining: 16.2ms\n",
      "968:\tlearn: 0.0145217\ttotal: 490ms\tremaining: 15.7ms\n",
      "969:\tlearn: 0.0145084\ttotal: 490ms\tremaining: 15.2ms\n",
      "970:\tlearn: 0.0144981\ttotal: 491ms\tremaining: 14.7ms\n",
      "971:\tlearn: 0.0144841\ttotal: 491ms\tremaining: 14.1ms\n",
      "972:\tlearn: 0.0144693\ttotal: 491ms\tremaining: 13.6ms\n",
      "973:\tlearn: 0.0144553\ttotal: 492ms\tremaining: 13.1ms\n",
      "974:\tlearn: 0.0144383\ttotal: 493ms\tremaining: 12.6ms\n",
      "975:\tlearn: 0.0144284\ttotal: 493ms\tremaining: 12.1ms\n",
      "976:\tlearn: 0.0144200\ttotal: 493ms\tremaining: 11.6ms\n",
      "977:\tlearn: 0.0144141\ttotal: 494ms\tremaining: 11.1ms\n",
      "978:\tlearn: 0.0144080\ttotal: 494ms\tremaining: 10.6ms\n",
      "979:\tlearn: 0.0144017\ttotal: 494ms\tremaining: 10.1ms\n",
      "980:\tlearn: 0.0143868\ttotal: 495ms\tremaining: 9.58ms\n",
      "981:\tlearn: 0.0143781\ttotal: 495ms\tremaining: 9.07ms\n",
      "982:\tlearn: 0.0143644\ttotal: 495ms\tremaining: 8.57ms\n",
      "983:\tlearn: 0.0143595\ttotal: 496ms\tremaining: 8.06ms\n",
      "984:\tlearn: 0.0143543\ttotal: 496ms\tremaining: 7.55ms\n",
      "985:\tlearn: 0.0143369\ttotal: 496ms\tremaining: 7.04ms\n",
      "986:\tlearn: 0.0143326\ttotal: 496ms\tremaining: 6.54ms\n",
      "987:\tlearn: 0.0143273\ttotal: 497ms\tremaining: 6.03ms\n",
      "988:\tlearn: 0.0143174\ttotal: 498ms\tremaining: 5.54ms\n",
      "989:\tlearn: 0.0143099\ttotal: 499ms\tremaining: 5.04ms\n",
      "990:\tlearn: 0.0143017\ttotal: 499ms\tremaining: 4.53ms\n",
      "991:\tlearn: 0.0142967\ttotal: 499ms\tremaining: 4.03ms\n",
      "992:\tlearn: 0.0142906\ttotal: 499ms\tremaining: 3.52ms\n",
      "993:\tlearn: 0.0142863\ttotal: 500ms\tremaining: 3.02ms\n",
      "994:\tlearn: 0.0142723\ttotal: 500ms\tremaining: 2.51ms\n",
      "995:\tlearn: 0.0142556\ttotal: 500ms\tremaining: 2.01ms\n",
      "996:\tlearn: 0.0142466\ttotal: 501ms\tremaining: 1.51ms\n",
      "997:\tlearn: 0.0142388\ttotal: 501ms\tremaining: 1ms\n",
      "998:\tlearn: 0.0142188\ttotal: 502ms\tremaining: 502us\n",
      "999:\tlearn: 0.0142121\ttotal: 502ms\tremaining: 0us\n"
     ]
    },
    {
     "data": {
      "text/plain": [
       "<catboost.core.CatBoostRegressor at 0x7f8e8e4c6f70>"
      ]
     },
     "execution_count": 9,
     "metadata": {},
     "output_type": "execute_result"
    }
   ],
   "source": [
    "#Train the Model \n",
    "prior_model = ctb.CatBoostRegressor()\n",
    "prior_model.fit(X_train,Y_train)"
   ]
  },
  {
   "cell_type": "code",
   "execution_count": 10,
   "id": "af65dcda",
   "metadata": {
    "execution": {
     "iopub.execute_input": "2022-07-25T00:08:11.351181Z",
     "iopub.status.busy": "2022-07-25T00:08:11.350550Z",
     "iopub.status.idle": "2022-07-25T00:08:11.379255Z",
     "shell.execute_reply": "2022-07-25T00:08:11.378030Z"
    },
    "id": "af65dcda",
    "papermill": {
     "duration": 0.044586,
     "end_time": "2022-07-25T00:08:11.383203",
     "exception": false,
     "start_time": "2022-07-25T00:08:11.338617",
     "status": "completed"
    },
    "tags": []
   },
   "outputs": [
    {
     "data": {
      "application/scrapbook.scrap.json+json": {
       "data": 0.0005741444756836765,
       "encoder": "json",
       "name": "Prior Model MSE",
       "version": 1
      }
     },
     "metadata": {
      "scrapbook": {
       "data": true,
       "display": false,
       "name": "Prior Model MSE"
      }
     },
     "output_type": "display_data"
    },
    {
     "data": {
      "application/scrapbook.scrap.json+json": {
       "data": 1.8360104173423897,
       "encoder": "json",
       "name": "ABC Pre-generator MSE",
       "version": 1
      }
     },
     "metadata": {
      "scrapbook": {
       "data": true,
       "display": false,
       "name": "ABC Pre-generator MSE"
      }
     },
     "output_type": "display_data"
    },
    {
     "data": {
      "application/scrapbook.scrap.json+json": {
       "data": 0.017368772553405725,
       "encoder": "json",
       "name": "Prior Model MAE",
       "version": 1
      }
     },
     "metadata": {
      "scrapbook": {
       "data": true,
       "display": false,
       "name": "Prior Model MAE"
      }
     },
     "output_type": "display_data"
    },
    {
     "name": "stdout",
     "output_type": "stream",
     "text": [
      "Prior Model MAE 0.017368772553405725\n",
      "ABC Pre-generator MAE 1.1135398635046638\n"
     ]
    }
   ],
   "source": [
    "y_pred = prior_model.predict(X_test)\n",
    "y_abc = y_pred + np.random.normal(0,variance, y_pred.shape) + bias \n",
    "mse = mean_squared_error(y_pred,Y_test)\n",
    "sb.glue(\"Prior Model MSE\",mse)\n",
    "mse = mean_squared_error(y_abc,Y_test)\n",
    "sb.glue(\"ABC Pre-generator MSE\",mse)\n",
    "mae = mean_absolute_error(y_pred,Y_test)\n",
    "sb.glue(\"Prior Model MAE\",mae)\n",
    "print(\"Prior Model MAE\",mae)\n",
    "mae = mean_absolute_error(y_abc,Y_test)\n",
    "print(\"ABC Pre-generator MAE\",mae)"
   ]
  },
  {
   "cell_type": "markdown",
   "id": "25609da2",
   "metadata": {
    "papermill": {
     "duration": 0.018811,
     "end_time": "2022-07-25T00:08:11.416993",
     "exception": false,
     "start_time": "2022-07-25T00:08:11.398182",
     "status": "completed"
    },
    "tags": []
   },
   "source": [
    "# mGAN Model"
   ]
  },
  {
   "cell_type": "code",
   "execution_count": 11,
   "id": "dfc3464d",
   "metadata": {
    "execution": {
     "iopub.execute_input": "2022-07-25T00:08:11.447390Z",
     "iopub.status.busy": "2022-07-25T00:08:11.446940Z",
     "iopub.status.idle": "2022-07-25T00:08:11.451901Z",
     "shell.execute_reply": "2022-07-25T00:08:11.450832Z"
    },
    "papermill": {
     "duration": 0.027214,
     "end_time": "2022-07-25T00:08:11.455336",
     "exception": false,
     "start_time": "2022-07-25T00:08:11.428122",
     "status": "completed"
    },
    "tags": []
   },
   "outputs": [],
   "source": [
    "# gen = network.Generator(n_features+1).to(device)\n",
    "# disc = network.Discriminator(n_features+1).to(device)\n",
    "\n",
    "# criterion = torch.nn.BCELoss()\n",
    "# gen_opt = torch.optim.Adam(gen.parameters(), lr=0.01, betas=(0.5, 0.999))\n",
    "# disc_opt = torch.optim.Adam(disc.parameters(), lr=0.01, betas=(0.5, 0.999))"
   ]
  },
  {
   "cell_type": "code",
   "execution_count": 12,
   "id": "b75fdd85",
   "metadata": {
    "execution": {
     "iopub.execute_input": "2022-07-25T00:08:11.484049Z",
     "iopub.status.busy": "2022-07-25T00:08:11.483556Z",
     "iopub.status.idle": "2022-07-25T00:08:11.489858Z",
     "shell.execute_reply": "2022-07-25T00:08:11.489129Z"
    },
    "papermill": {
     "duration": 0.026534,
     "end_time": "2022-07-25T00:08:11.492768",
     "exception": false,
     "start_time": "2022-07-25T00:08:11.466234",
     "status": "completed"
    },
    "tags": []
   },
   "outputs": [],
   "source": [
    "#Training the ABC_GAN \n",
    "# ABC_train_test2.training_GAN(disc,gen,disc_opt,gen_opt,train_data,batch_size,n_epochs,criterion,prior_model,variance,bias,device)"
   ]
  },
  {
   "cell_type": "code",
   "execution_count": 13,
   "id": "1fa7c368",
   "metadata": {
    "execution": {
     "iopub.execute_input": "2022-07-25T00:08:11.518213Z",
     "iopub.status.busy": "2022-07-25T00:08:11.517956Z",
     "iopub.status.idle": "2022-07-25T00:08:11.523996Z",
     "shell.execute_reply": "2022-07-25T00:08:11.523200Z"
    },
    "papermill": {
     "duration": 0.021806,
     "end_time": "2022-07-25T00:08:11.526896",
     "exception": false,
     "start_time": "2022-07-25T00:08:11.505090",
     "status": "completed"
    },
    "tags": []
   },
   "outputs": [],
   "source": [
    "# ABC_GAN1_metrics=ABC_train_test2.test_generator(gen,test_data,prior_model,variance,bias,\"1\",device)\n",
    "# sb.glue(\"ABC_GAN_1 Metrics\",ABC_GAN1_metrics)\n",
    "\n",
    "# print(\"MAE\")\n",
    "# print(mean(ABC_GAN1_metrics[1]))"
   ]
  },
  {
   "cell_type": "code",
   "execution_count": 14,
   "id": "eb22ce5c",
   "metadata": {
    "execution": {
     "iopub.execute_input": "2022-07-25T00:08:11.551997Z",
     "iopub.status.busy": "2022-07-25T00:08:11.551358Z",
     "iopub.status.idle": "2022-07-25T00:08:11.555911Z",
     "shell.execute_reply": "2022-07-25T00:08:11.554790Z"
    },
    "papermill": {
     "duration": 0.021845,
     "end_time": "2022-07-25T00:08:11.559034",
     "exception": false,
     "start_time": "2022-07-25T00:08:11.537189",
     "status": "completed"
    },
    "tags": []
   },
   "outputs": [],
   "source": [
    "# sanityChecks.discProbVsError(train_data,disc,device)\n",
    "# sanityChecks.discProbVsError(test_data,disc,device)"
   ]
  },
  {
   "cell_type": "markdown",
   "id": "cd2a4659",
   "metadata": {
    "papermill": {
     "duration": 0.01829,
     "end_time": "2022-07-25T00:08:11.597128",
     "exception": false,
     "start_time": "2022-07-25T00:08:11.578838",
     "status": "completed"
    },
    "tags": []
   },
   "source": [
    "# mGAN Model with TabNet Generator"
   ]
  },
  {
   "cell_type": "code",
   "execution_count": 15,
   "id": "d5baf7e2",
   "metadata": {
    "execution": {
     "iopub.execute_input": "2022-07-25T00:08:11.625817Z",
     "iopub.status.busy": "2022-07-25T00:08:11.625165Z",
     "iopub.status.idle": "2022-07-25T00:08:11.643875Z",
     "shell.execute_reply": "2022-07-25T00:08:11.642968Z"
    },
    "papermill": {
     "duration": 0.035448,
     "end_time": "2022-07-25T00:08:11.646562",
     "exception": false,
     "start_time": "2022-07-25T00:08:11.611114",
     "status": "completed"
    },
    "tags": []
   },
   "outputs": [],
   "source": [
    "gen2 = network.GeneratorTabnet(n_features+1).to(device)\n",
    "disc2 = network.Discriminator(n_features+1).to(device)\n",
    "\n",
    "criterion = torch.nn.BCELoss()\n",
    "gen_opt = torch.optim.Adam(gen2.parameters(), lr=0.01, betas=(0.5, 0.999))\n",
    "disc_opt = torch.optim.Adam(disc2.parameters(), lr=0.01, betas=(0.5, 0.999))"
   ]
  },
  {
   "cell_type": "code",
   "execution_count": 16,
   "id": "806343b2",
   "metadata": {
    "execution": {
     "iopub.execute_input": "2022-07-25T00:08:11.673665Z",
     "iopub.status.busy": "2022-07-25T00:08:11.673207Z",
     "iopub.status.idle": "2022-07-25T00:24:50.991769Z",
     "shell.execute_reply": "2022-07-25T00:24:50.989931Z"
    },
    "papermill": {
     "duration": 999.337894,
     "end_time": "2022-07-25T00:24:50.996714",
     "exception": false,
     "start_time": "2022-07-25T00:08:11.658820",
     "status": "completed"
    },
    "tags": []
   },
   "outputs": [
    {
     "data": {
      "image/png": "[encoded data removed]",
      "text/plain": [
       "<Figure size 432x288 with 1 Axes>"
      ]
     },
     "metadata": {
      "needs_background": "light"
     },
     "output_type": "display_data"
    },
    {
     "data": {
      "image/png": "[encoded data removed]",
      "text/plain": [
       "<Figure size 432x288 with 1 Axes>"
      ]
     },
     "metadata": {
      "needs_background": "light"
     },
     "output_type": "display_data"
    }
   ],
   "source": [
    "#Training the ABC_GAN \n",
    "ABC_train_test2.training_GAN(disc2,gen2,disc_opt,gen_opt,train_data,batch_size,n_epochs,criterion,prior_model,variance,bias,device)"
   ]
  },
  {
   "cell_type": "code",
   "execution_count": 17,
   "id": "0fb598d8",
   "metadata": {
    "execution": {
     "iopub.execute_input": "2022-07-25T00:24:51.026465Z",
     "iopub.status.busy": "2022-07-25T00:24:51.025826Z",
     "iopub.status.idle": "2022-07-25T00:24:53.386857Z",
     "shell.execute_reply": "2022-07-25T00:24:53.384497Z"
    },
    "papermill": {
     "duration": 2.381886,
     "end_time": "2022-07-25T00:24:53.391150",
     "exception": false,
     "start_time": "2022-07-25T00:24:51.009264",
     "status": "completed"
    },
    "tags": []
   },
   "outputs": [
    {
     "data": {
      "application/scrapbook.scrap.json+json": {
       "data": 0.0465600609559315,
       "encoder": "json",
       "name": "ABC-GAN Model 1 MSE",
       "version": 1
      }
     },
     "metadata": {
      "scrapbook": {
       "data": true,
       "display": false,
       "name": "ABC-GAN Model 1 MSE"
      }
     },
     "output_type": "display_data"
    },
    {
     "data": {
      "application/scrapbook.scrap.json+json": {
       "data": 0.10460313199112167,
       "encoder": "json",
       "name": "ABC-GAN Model 1 MAE",
       "version": 1
      }
     },
     "metadata": {
      "scrapbook": {
       "data": true,
       "display": false,
       "name": "ABC-GAN Model 1 MAE"
      }
     },
     "output_type": "display_data"
    },
    {
     "data": {
      "application/scrapbook.scrap.json+json": {
       "data": 16.108882326632738,
       "encoder": "json",
       "name": "ABC-GAN Model 1 Manhattan Distance",
       "version": 1
      }
     },
     "metadata": {
      "scrapbook": {
       "data": true,
       "display": false,
       "name": "ABC-GAN Model 1 Manhattan Distance"
      }
     },
     "output_type": "display_data"
    },
    {
     "data": {
      "application/scrapbook.scrap.json+json": {
       "data": 2.6777321350750247,
       "encoder": "json",
       "name": "ABC-GAN Model 1 Euclidean distance",
       "version": 1
      }
     },
     "metadata": {
      "scrapbook": {
       "data": true,
       "display": false,
       "name": "ABC-GAN Model 1 Euclidean distance"
      }
     },
     "output_type": "display_data"
    },
    {
     "data": {
      "application/scrapbook.scrap.json+json": {
       "data": [
        [
         0.0465600609559315,
         0.0465600609559315,
         0.0465600609559315,
         0.0465600609559315,
         0.0465600609559315,
         0.0465600609559315,
         0.0465600609559315,
         0.0465600609559315,
         0.0465600609559315,
         0.0465600609559315,
         0.0465600609559315,
         0.0465600609559315,
         0.0465600609559315,
         0.0465600609559315,
         0.0465600609559315,
         0.0465600609559315,
         0.0465600609559315,
         0.0465600609559315,
         0.0465600609559315,
         0.0465600609559315,
         0.0465600609559315,
         0.0465600609559315,
         0.0465600609559315,
         0.0465600609559315,
         0.0465600609559315,
         0.0465600609559315,
         0.0465600609559315,
         0.0465600609559315,
         0.0465600609559315,
         0.0465600609559315,
         0.0465600609559315,
         0.0465600609559315,
         0.0465600609559315,
         0.0465600609559315,
         0.0465600609559315,
         0.0465600609559315,
         0.0465600609559315,
         0.0465600609559315,
         0.0465600609559315,
         0.0465600609559315,
         0.0465600609559315,
         0.0465600609559315,
         0.0465600609559315,
         0.0465600609559315,
         0.0465600609559315,
         0.0465600609559315,
         0.0465600609559315,
         0.0465600609559315,
         0.0465600609559315,
         0.0465600609559315,
         0.0465600609559315,
         0.0465600609559315,
         0.0465600609559315,
         0.0465600609559315,
         0.0465600609559315,
         0.0465600609559315,
         0.0465600609559315,
         0.0465600609559315,
         0.0465600609559315,
         0.0465600609559315,
         0.0465600609559315,
         0.0465600609559315,
         0.0465600609559315,
         0.0465600609559315,
         0.0465600609559315,
         0.0465600609559315,
         0.0465600609559315,
         0.0465600609559315,
         0.0465600609559315,
         0.0465600609559315,
         0.0465600609559315,
         0.0465600609559315,
         0.0465600609559315,
         0.0465600609559315,
         0.0465600609559315,
         0.0465600609559315,
         0.0465600609559315,
         0.0465600609559315,
         0.0465600609559315,
         0.0465600609559315,
         0.0465600609559315,
         0.0465600609559315,
         0.0465600609559315,
         0.0465600609559315,
         0.0465600609559315,
         0.0465600609559315,
         0.0465600609559315,
         0.0465600609559315,
         0.0465600609559315,
         0.0465600609559315,
         0.0465600609559315,
         0.0465600609559315,
         0.0465600609559315,
         0.0465600609559315,
         0.0465600609559315,
         0.0465600609559315,
         0.0465600609559315,
         0.0465600609559315,
         0.0465600609559315,
         0.0465600609559315
        ],
        [
         0.10460313199112167,
         0.10460313199112167,
         0.10460313199112167,
         0.10460313199112167,
         0.10460313199112167,
         0.10460313199112167,
         0.10460313199112167,
         0.10460313199112167,
         0.10460313199112167,
         0.10460313199112167,
         0.10460313199112167,
         0.10460313199112167,
         0.10460313199112167,
         0.10460313199112167,
         0.10460313199112167,
         0.10460313199112167,
         0.10460313199112167,
         0.10460313199112167,
         0.10460313199112167,
         0.10460313199112167,
         0.10460313199112167,
         0.10460313199112167,
         0.10460313199112167,
         0.10460313199112167,
         0.10460313199112167,
         0.10460313199112167,
         0.10460313199112167,
         0.10460313199112167,
         0.10460313199112167,
         0.10460313199112167,
         0.10460313199112167,
         0.10460313199112167,
         0.10460313199112167,
         0.10460313199112167,
         0.10460313199112167,
         0.10460313199112167,
         0.10460313199112167,
         0.10460313199112167,
         0.10460313199112167,
         0.10460313199112167,
         0.10460313199112167,
         0.10460313199112167,
         0.10460313199112167,
         0.10460313199112167,
         0.10460313199112167,
         0.10460313199112167,
         0.10460313199112167,
         0.10460313199112167,
         0.10460313199112167,
         0.10460313199112167,
         0.10460313199112167,
         0.10460313199112167,
         0.10460313199112167,
         0.10460313199112167,
         0.10460313199112167,
         0.10460313199112167,
         0.10460313199112167,
         0.10460313199112167,
         0.10460313199112167,
         0.10460313199112167,
         0.10460313199112167,
         0.10460313199112167,
         0.10460313199112167,
         0.10460313199112167,
         0.10460313199112167,
         0.10460313199112167,
         0.10460313199112167,
         0.10460313199112167,
         0.10460313199112167,
         0.10460313199112167,
         0.10460313199112167,
         0.10460313199112167,
         0.10460313199112167,
         0.10460313199112167,
         0.10460313199112167,
         0.10460313199112167,
         0.10460313199112167,
         0.10460313199112167,
         0.10460313199112167,
         0.10460313199112167,
         0.10460313199112167,
         0.10460313199112167,
         0.10460313199112167,
         0.10460313199112167,
         0.10460313199112167,
         0.10460313199112167,
         0.10460313199112167,
         0.10460313199112167,
         0.10460313199112167,
         0.10460313199112167,
         0.10460313199112167,
         0.10460313199112167,
         0.10460313199112167,
         0.10460313199112167,
         0.10460313199112167,
         0.10460313199112167,
         0.10460313199112167,
         0.10460313199112167,
         0.10460313199112167,
         0.10460313199112167
        ],
        [
         16.108882326632738,
         16.108882326632738,
         16.108882326632738,
         16.108882326632738,
         16.108882326632738,
         16.108882326632738,
         16.108882326632738,
         16.108882326632738,
         16.108882326632738,
         16.108882326632738,
         16.108882326632738,
         16.108882326632738,
         16.108882326632738,
         16.108882326632738,
         16.108882326632738,
         16.108882326632738,
         16.108882326632738,
         16.108882326632738,
         16.108882326632738,
         16.108882326632738,
         16.108882326632738,
         16.108882326632738,
         16.108882326632738,
         16.108882326632738,
         16.108882326632738,
         16.108882326632738,
         16.108882326632738,
         16.108882326632738,
         16.108882326632738,
         16.108882326632738,
         16.108882326632738,
         16.108882326632738,
         16.108882326632738,
         16.108882326632738,
         16.108882326632738,
         16.108882326632738,
         16.108882326632738,
         16.108882326632738,
         16.108882326632738,
         16.108882326632738,
         16.108882326632738,
         16.108882326632738,
         16.108882326632738,
         16.108882326632738,
         16.108882326632738,
         16.108882326632738,
         16.108882326632738,
         16.108882326632738,
         16.108882326632738,
         16.108882326632738,
         16.108882326632738,
         16.108882326632738,
         16.108882326632738,
         16.108882326632738,
         16.108882326632738,
         16.108882326632738,
         16.108882326632738,
         16.108882326632738,
         16.108882326632738,
         16.108882326632738,
         16.108882326632738,
         16.108882326632738,
         16.108882326632738,
         16.108882326632738,
         16.108882326632738,
         16.108882326632738,
         16.108882326632738,
         16.108882326632738,
         16.108882326632738,
         16.108882326632738,
         16.108882326632738,
         16.108882326632738,
         16.108882326632738,
         16.108882326632738,
         16.108882326632738,
         16.108882326632738,
         16.108882326632738,
         16.108882326632738,
         16.108882326632738,
         16.108882326632738,
         16.108882326632738,
         16.108882326632738,
         16.108882326632738,
         16.108882326632738,
         16.108882326632738,
         16.108882326632738,
         16.108882326632738,
         16.108882326632738,
         16.108882326632738,
         16.108882326632738,
         16.108882326632738,
         16.108882326632738,
         16.108882326632738,
         16.108882326632738,
         16.108882326632738,
         16.108882326632738,
         16.108882326632738,
         16.108882326632738,
         16.108882326632738,
         16.108882326632738
        ],
        [
         2.6777321350750247,
         2.6777321350750247,
         2.6777321350750247,
         2.6777321350750247,
         2.6777321350750247,
         2.6777321350750247,
         2.6777321350750247,
         2.6777321350750247,
         2.6777321350750247,
         2.6777321350750247,
         2.6777321350750247,
         2.6777321350750247,
         2.6777321350750247,
         2.6777321350750247,
         2.6777321350750247,
         2.6777321350750247,
         2.6777321350750247,
         2.6777321350750247,
         2.6777321350750247,
         2.6777321350750247,
         2.6777321350750247,
         2.6777321350750247,
         2.6777321350750247,
         2.6777321350750247,
         2.6777321350750247,
         2.6777321350750247,
         2.6777321350750247,
         2.6777321350750247,
         2.6777321350750247,
         2.6777321350750247,
         2.6777321350750247,
         2.6777321350750247,
         2.6777321350750247,
         2.6777321350750247,
         2.6777321350750247,
         2.6777321350750247,
         2.6777321350750247,
         2.6777321350750247,
         2.6777321350750247,
         2.6777321350750247,
         2.6777321350750247,
         2.6777321350750247,
         2.6777321350750247,
         2.6777321350750247,
         2.6777321350750247,
         2.6777321350750247,
         2.6777321350750247,
         2.6777321350750247,
         2.6777321350750247,
         2.6777321350750247,
         2.6777321350750247,
         2.6777321350750247,
         2.6777321350750247,
         2.6777321350750247,
         2.6777321350750247,
         2.6777321350750247,
         2.6777321350750247,
         2.6777321350750247,
         2.6777321350750247,
         2.6777321350750247,
         2.6777321350750247,
         2.6777321350750247,
         2.6777321350750247,
         2.6777321350750247,
         2.6777321350750247,
         2.6777321350750247,
         2.6777321350750247,
         2.6777321350750247,
         2.6777321350750247,
         2.6777321350750247,
         2.6777321350750247,
         2.6777321350750247,
         2.6777321350750247,
         2.6777321350750247,
         2.6777321350750247,
         2.6777321350750247,
         2.6777321350750247,
         2.6777321350750247,
         2.6777321350750247,
         2.6777321350750247,
         2.6777321350750247,
         2.6777321350750247,
         2.6777321350750247,
         2.6777321350750247,
         2.6777321350750247,
         2.6777321350750247,
         2.6777321350750247,
         2.6777321350750247,
         2.6777321350750247,
         2.6777321350750247,
         2.6777321350750247,
         2.6777321350750247,
         2.6777321350750247,
         2.6777321350750247,
         2.6777321350750247,
         2.6777321350750247,
         2.6777321350750247,
         2.6777321350750247,
         2.6777321350750247,
         2.6777321350750247
        ]
       ],
       "encoder": "json",
       "name": "ABC_GAN_2 Metrics",
       "version": 1
      }
     },
     "metadata": {
      "scrapbook": {
       "data": true,
       "display": false,
       "name": "ABC_GAN_2 Metrics"
      }
     },
     "output_type": "display_data"
    },
    {
     "name": "stdout",
     "output_type": "stream",
     "text": [
      "MAE\n",
      "0.10460313199112167\n"
     ]
    }
   ],
   "source": [
    "ABC_GAN2_metrics=ABC_train_test2.test_generator(gen2,test_data,prior_model,variance,bias,\"1\",device)\n",
    "sb.glue(\"ABC_GAN_2 Metrics\",ABC_GAN2_metrics)\n",
    "\n",
    "print(\"MAE\")\n",
    "print(mean(ABC_GAN2_metrics[1]))"
   ]
  },
  {
   "cell_type": "code",
   "execution_count": 18,
   "id": "6819fc64",
   "metadata": {
    "execution": {
     "iopub.execute_input": "2022-07-25T00:24:53.432019Z",
     "iopub.status.busy": "2022-07-25T00:24:53.431693Z",
     "iopub.status.idle": "2022-07-25T00:24:54.389524Z",
     "shell.execute_reply": "2022-07-25T00:24:54.388384Z"
    },
    "papermill": {
     "duration": 0.98393,
     "end_time": "2022-07-25T00:24:54.392920",
     "exception": false,
     "start_time": "2022-07-25T00:24:53.408990",
     "status": "completed"
    },
    "tags": []
   },
   "outputs": [
    {
     "data": {
      "image/png": "[encoded data removed]",
      "text/plain": [
       "<Figure size 432x288 with 1 Axes>"
      ]
     },
     "metadata": {
      "needs_background": "light"
     },
     "output_type": "display_data"
    },
    {
     "data": {
      "image/png": "[encoded data removed]",
      "text/plain": [
       "<Figure size 432x288 with 1 Axes>"
      ]
     },
     "metadata": {
      "needs_background": "light"
     },
     "output_type": "display_data"
    },
    {
     "data": {
      "image/png": "[encoded data removed]",
      "text/plain": [
       "<Figure size 432x288 with 1 Axes>"
      ]
     },
     "metadata": {
      "needs_background": "light"
     },
     "output_type": "display_data"
    },
    {
     "data": {
      "image/png": "[encoded data removed]",
      "text/plain": [
       "<Figure size 432x288 with 1 Axes>"
      ]
     },
     "metadata": {
      "needs_background": "light"
     },
     "output_type": "display_data"
    }
   ],
   "source": [
    "sanityChecks.discProbVsError(train_data,disc2,device)\n",
    "sanityChecks.discProbVsError(test_data,disc2,device)"
   ]
  },
  {
   "cell_type": "markdown",
   "id": "130f3a4d",
   "metadata": {
    "id": "130f3a4d",
    "papermill": {
     "duration": 0.017077,
     "end_time": "2022-07-25T00:24:54.426746",
     "exception": false,
     "start_time": "2022-07-25T00:24:54.409669",
     "status": "completed"
    },
    "tags": []
   },
   "source": [
    "# skipGAN Model"
   ]
  },
  {
   "cell_type": "code",
   "execution_count": 19,
   "id": "4e43dad1",
   "metadata": {
    "execution": {
     "iopub.execute_input": "2022-07-25T00:24:54.460788Z",
     "iopub.status.busy": "2022-07-25T00:24:54.460421Z",
     "iopub.status.idle": "2022-07-25T00:24:54.471336Z",
     "shell.execute_reply": "2022-07-25T00:24:54.470432Z"
    },
    "id": "4e43dad1",
    "papermill": {
     "duration": 0.031072,
     "end_time": "2022-07-25T00:24:54.474907",
     "exception": false,
     "start_time": "2022-07-25T00:24:54.443835",
     "status": "completed"
    },
    "tags": []
   },
   "outputs": [],
   "source": [
    "#Generator\n",
    "gen3 = network.GeneratorWithSkipConnection(n_features+1).to(device)\n",
    "constraints=network.weightConstraint()\n",
    "#Discriminator \n",
    "disc3 = network.Discriminator(n_features+1).to(device)\n",
    "\n",
    "criterion = torch.nn.BCELoss()\n",
    "gen_opt = torch.optim.Adam(gen3.parameters(), lr=0.01, betas=(0.5, 0.999))\n",
    "disc_opt = torch.optim.Adam(disc3.parameters(), lr=0.01, betas=(0.5, 0.999))\n"
   ]
  },
  {
   "cell_type": "code",
   "execution_count": 20,
   "id": "26acbc37",
   "metadata": {
    "execution": {
     "iopub.execute_input": "2022-07-25T00:24:54.509215Z",
     "iopub.status.busy": "2022-07-25T00:24:54.508872Z",
     "iopub.status.idle": "2022-07-25T00:32:39.052405Z",
     "shell.execute_reply": "2022-07-25T00:32:39.050343Z"
    },
    "id": "26acbc37",
    "papermill": {
     "duration": 464.567271,
     "end_time": "2022-07-25T00:32:39.057727",
     "exception": false,
     "start_time": "2022-07-25T00:24:54.490456",
     "status": "completed"
    },
    "tags": []
   },
   "outputs": [
    {
     "data": {
      "image/png": "[encoded data removed]",
      "text/plain": [
       "<Figure size 432x288 with 1 Axes>"
      ]
     },
     "metadata": {
      "needs_background": "light"
     },
     "output_type": "display_data"
    },
    {
     "data": {
      "image/png": "[encoded data removed]",
      "text/plain": [
       "<Figure size 432x288 with 1 Axes>"
      ]
     },
     "metadata": {
      "needs_background": "light"
     },
     "output_type": "display_data"
    }
   ],
   "source": [
    "ABC_train_test2.training_GAN_skip_connection(disc3,gen3,disc_opt,gen_opt,train_data,batch_size,n_epochs,criterion,prior_model,variance,bias,device)"
   ]
  },
  {
   "cell_type": "code",
   "execution_count": 21,
   "id": "c5e0717b",
   "metadata": {
    "execution": {
     "iopub.execute_input": "2022-07-25T00:32:39.124835Z",
     "iopub.status.busy": "2022-07-25T00:32:39.124388Z",
     "iopub.status.idle": "2022-07-25T00:32:41.641623Z",
     "shell.execute_reply": "2022-07-25T00:32:41.639570Z"
    },
    "id": "c5e0717b",
    "papermill": {
     "duration": 2.559429,
     "end_time": "2022-07-25T00:32:41.645488",
     "exception": false,
     "start_time": "2022-07-25T00:32:39.086059",
     "status": "completed"
    },
    "tags": []
   },
   "outputs": [
    {
     "data": {
      "application/scrapbook.scrap.json+json": {
       "data": 0.10628837855263167,
       "encoder": "json",
       "name": "ABC-GAN Model 3 MSE",
       "version": 1
      }
     },
     "metadata": {
      "scrapbook": {
       "data": true,
       "display": false,
       "name": "ABC-GAN Model 3 MSE"
      }
     },
     "output_type": "display_data"
    },
    {
     "data": {
      "application/scrapbook.scrap.json+json": {
       "data": 0.12199911240137533,
       "encoder": "json",
       "name": "ABC-GAN Model 3 MAE",
       "version": 1
      }
     },
     "metadata": {
      "scrapbook": {
       "data": true,
       "display": false,
       "name": "ABC-GAN Model 3 MAE"
      }
     },
     "output_type": "display_data"
    },
    {
     "data": {
      "application/scrapbook.scrap.json+json": {
       "data": 18.7878633098118,
       "encoder": "json",
       "name": "ABC-GAN Model 3 Manhattan Distance",
       "version": 1
      }
     },
     "metadata": {
      "scrapbook": {
       "data": true,
       "display": false,
       "name": "ABC-GAN Model 3 Manhattan Distance"
      }
     },
     "output_type": "display_data"
    },
    {
     "data": {
      "application/scrapbook.scrap.json+json": {
       "data": 4.045715203551102,
       "encoder": "json",
       "name": "ABC-GAN Model 3 Euclidean distance",
       "version": 1
      }
     },
     "metadata": {
      "scrapbook": {
       "data": true,
       "display": false,
       "name": "ABC-GAN Model 3 Euclidean distance"
      }
     },
     "output_type": "display_data"
    },
    {
     "data": {
      "application/scrapbook.scrap.json+json": {
       "data": [
        [
         0.1086714292988722,
         0.10742883378782839,
         0.10573932069749842,
         0.10418194339196561,
         0.10660254241752988,
         0.10628517434457112,
         0.10722294130636655,
         0.10753846119186602,
         0.10522978448397831,
         0.10665979270302091,
         0.1071064726070415,
         0.10709167136398941,
         0.10659860234932571,
         0.10795515382284554,
         0.10548712894819473,
         0.10593869290812372,
         0.1069885872701139,
         0.1056793074728836,
         0.10578484821928763,
         0.10711676131774497,
         0.10829300271080851,
         0.10527054090769253,
         0.1069082045275049,
         0.1076182258570915,
         0.10450912829579359,
         0.10605931758950825,
         0.10669615748093458,
         0.10451765167941288,
         0.10529143073237802,
         0.10485923600268299,
         0.10691026214835486,
         0.10687160563602618,
         0.10734064131249413,
         0.10417146493408404,
         0.10560045586743373,
         0.10742765472886108,
         0.10450920104818243,
         0.10621058493917272,
         0.10728403155708902,
         0.10608433444996437,
         0.10811957155902532,
         0.10525877854558702,
         0.10773087425966192,
         0.10807366396804742,
         0.1065858911881221,
         0.10846494422975846,
         0.10542931889553761,
         0.10430927828816308,
         0.10455746545550869,
         0.10645274960286731,
         0.10475530841001267,
         0.10577371935003435,
         0.10488258197131294,
         0.10641933514897219,
         0.10485201920796908,
         0.10588803022887798,
         0.10553928433467662,
         0.10702316004594803,
         0.1038318608197282,
         0.10450251273904315,
         0.10540301619969285,
         0.1060608292401274,
         0.10682298856046424,
         0.10600417734358318,
         0.10637246491398172,
         0.10537184476905258,
         0.10902265262951404,
         0.10572407610761986,
         0.10323627232298623,
         0.10628589843386758,
         0.10520418425457737,
         0.10389302636732033,
         0.10777760844087493,
         0.10737156362237575,
         0.10713372727626887,
         0.10431982174490456,
         0.10860290555156756,
         0.10550673462952868,
         0.10657074498413725,
         0.10544636749430823,
         0.10753187735593278,
         0.10544532565893862,
         0.10763946696350073,
         0.10676440098762614,
         0.10679100787016918,
         0.10480342981189845,
         0.1071989937550588,
         0.10567191562600857,
         0.10908020836804232,
         0.10517327479968937,
         0.10593860185052154,
         0.10792744457368268,
         0.10517041831572028,
         0.10720633374548107,
         0.10639277518607518,
         0.10682777295264584,
         0.10591060153273626,
         0.10661419296497417,
         0.10679094451213622,
         0.10963703298820325
        ],
        [
         0.126112390406333,
         0.12205826953150235,
         0.12043967308452377,
         0.12128814583184658,
         0.12192468521753688,
         0.1225844874929685,
         0.12004376524551348,
         0.1229303568940271,
         0.12016305150827031,
         0.12291102462097422,
         0.12354980643790264,
         0.12043787633347047,
         0.12186897272703709,
         0.12581836628159146,
         0.12236058148374031,
         0.11957766568022114,
         0.12266760340033027,
         0.12355025396863749,
         0.11974205785467253,
         0.12155658797687524,
         0.12104228521128754,
         0.12061607322425812,
         0.1211230642851684,
         0.12098112523362234,
         0.1214603939904021,
         0.1216384330159658,
         0.12325152108905377,
         0.12065894299416573,
         0.12186491482153342,
         0.12137317427663834,
         0.12328739103849058,
         0.12306066546831038,
         0.12006079848226789,
         0.11976524996389816,
         0.12326600361470279,
         0.12185156246187626,
         0.12033222690708452,
         0.12282016844331443,
         0.12517658267895898,
         0.1210524391673215,
         0.1229756973296791,
         0.12098320135725783,
         0.12337692986641612,
         0.12390559091680235,
         0.12174144384826159,
         0.12294593639671803,
         0.120400900093766,
         0.11927566181432891,
         0.12274295285150602,
         0.12540705025486357,
         0.12288347213202483,
         0.12237493130196998,
         0.12056240761144595,
         0.11963704274362558,
         0.12222716790418346,
         0.1200593545210439,
         0.12069233202121475,
         0.12333090794454148,
         0.11999959791345256,
         0.12079602883910978,
         0.12079832584343174,
         0.1224968967983475,
         0.12390650970885506,
         0.12144818372250378,
         0.12419315727500173,
         0.12164929898625071,
         0.12214837782084942,
         0.1236498544790915,
         0.11873027563772419,
         0.12484483060414915,
         0.11900724635108725,
         0.12116373129576058,
         0.1229265019442741,
         0.1225274410824497,
         0.12136384334366818,
         0.12110767341763168,
         0.1241050778900261,
         0.12240309495624009,
         0.12155043258779234,
         0.12191157572745502,
         0.12272316720578577,
         0.12283797438752342,
         0.12367866813604321,
         0.12022813223302364,
         0.11899880017456296,
         0.12341903413754779,
         0.12440900163507307,
         0.12219322168014267,
         0.1250277068949752,
         0.11936457068115086,
         0.12034900667895744,
         0.12514076335960395,
         0.11876476635890347,
         0.1234222881544333,
         0.12043565417361723,
         0.12088265775569848,
         0.12100537738145946,
         0.12269342440337717,
         0.12477365599388814,
         0.1250437932306683
        ],
        [
         19.421308122575283,
         18.796973507851362,
         18.54770965501666,
         18.678374458104372,
         18.77640152350068,
         18.87801107391715,
         18.486739847809076,
         18.931274961680174,
         18.505109932273626,
         18.92829779163003,
         19.026670191437006,
         18.547432955354452,
         18.767821799963713,
         19.376028407365084,
         18.843529548496008,
         18.414960514754057,
         18.89081092365086,
         19.026739111170173,
         18.44027690961957,
         18.719714548438787,
         18.64051192253828,
         18.57487527653575,
         18.652951899915934,
         18.63109328597784,
         18.704900674521923,
         18.732318684458733,
         18.98073424771428,
         18.581477221101522,
         18.767196882516146,
         18.691468838602304,
         18.98625821992755,
         18.9513424821198,
         18.489362966269255,
         18.443848494440317,
         18.98296455666423,
         18.765140619128942,
         18.531162943691015,
         18.914305940270424,
         19.27719373255968,
         18.64207563176751,
         18.93825738877058,
         18.631413009017706,
         19.00004719942808,
         19.081461001187563,
         18.748182352632284,
         18.933674205094576,
         18.541738614439964,
         18.368451919406652,
         18.902414739131927,
         19.31268573924899,
         18.924054708331823,
         18.845739420503378,
         18.566610772162676,
         18.42410458251834,
         18.822983857244253,
         18.48914059624076,
         18.58661913126707,
         18.992959823459387,
         18.479938078671694,
         18.602588441222906,
         18.602942179888487,
         18.864522106945515,
         19.08160249516368,
         18.70302029326558,
         19.125746220350266,
         18.73399204388261,
         18.81085018441081,
         19.042077589780092,
         18.284462448209524,
         19.22610391303897,
         18.327115938067436,
         18.65921461954713,
         18.93068129941821,
         18.869225926697254,
         18.690031874924898,
         18.65058170631528,
         19.11218199506402,
         18.850076623260975,
         18.71876661852002,
         18.774382662028074,
         18.89936774969101,
         18.917048055678606,
         19.046514892950654,
         18.51513236388564,
         18.325815226882696,
         19.00653125718236,
         19.158986251801252,
         18.81775613874197,
         19.25426686182618,
         18.382143884897232,
         18.533747028559446,
         19.271677557379007,
         18.289774019271135,
         19.007032375782728,
         18.547090742737055,
         18.615929294377565,
         18.634828116744757,
         18.894787358120084,
         19.215143023058772,
         19.256744157522917
        ],
        [
         4.090892336890121,
         4.067436588728283,
         4.035325933232006,
         4.005498630927578,
         4.051764002542546,
         4.04572822234316,
         4.0635370013303,
         4.069511398626052,
         4.025591485798411,
         4.052851844845209,
         4.0613294352323095,
         4.06104880419509,
         4.051689124525247,
         4.0773880964065965,
         4.030510868118579,
         4.039128458943965,
         4.059093795368313,
         4.034180629424527,
         4.036194572337946,
         4.06152449739414,
         4.083763266579554,
         4.026370983874269,
         4.057568668209541,
         4.07102036128439,
         4.011783363736408,
         4.041427335581362,
         4.053542679196053,
         4.011946953616109,
         4.026770459411141,
         4.018497523255823,
         4.057607715248808,
         4.056874075929401,
         4.065766688107434,
         4.0052971924501355,
         4.032675315914337,
         4.067414268087848,
         4.011784760106166,
         4.0443083562746045,
         4.064694436214327,
         4.041903945579918,
         4.080491884575914,
         4.026146035108562,
         4.073150455849615,
         4.079625503778416,
         4.051447549083019,
         4.0870039651782575,
         4.029406297447899,
         4.007945715248288,
         4.012711013784613,
         4.048916328950447,
         4.016505632405107,
         4.035982257134599,
         4.0189448395794365,
         4.048280821897329,
         4.018359237055248,
         4.038162534525722,
         4.031507135990236,
         4.059749579355357,
         3.998763129548703,
         4.011656386308857,
         4.02890363433437,
         4.041456136466115,
         4.055951212516182,
         4.040376629834378,
         4.047389232178341,
         4.028307845042891,
         4.0974978346480135,
         4.035035033376222,
         3.9872780110922634,
         4.045742003491523,
         4.025101784452775,
         3.999940757132201,
         4.074033836370869,
         4.06635227173518,
         4.0618461320618,
         4.008148269302834,
         4.089602359024823,
         4.030885403102824,
         4.051159676877368,
         4.0297320747319505,
         4.0693868227060515,
         4.029712167323685,
         4.071422099510085,
         4.054838807165387,
         4.055344031276022,
         4.017428056733855,
         4.0630831936202165,
         4.034039539519329,
         4.098579276856618,
         4.024510444656861,
         4.039126723065311,
         4.076864783672267,
         4.0244557918581885,
         4.06322229231974,
         4.047775608733217,
         4.0560420405498085,
         4.038592902985071,
         4.05198540429331,
         4.055342828278391,
         4.109027023540159
        ]
       ],
       "encoder": "json",
       "name": "ABC_GAN_3 Metrics",
       "version": 1
      }
     },
     "metadata": {
      "scrapbook": {
       "data": true,
       "display": false,
       "name": "ABC_GAN_3 Metrics"
      }
     },
     "output_type": "display_data"
    },
    {
     "name": "stdout",
     "output_type": "stream",
     "text": [
      "MAE\n",
      "0.12199911240137533\n"
     ]
    }
   ],
   "source": [
    "ABC_GAN3_metrics=ABC_train_test2.test_generator(gen3,test_data,prior_model,variance,bias,\"3\",device)\n",
    "sb.glue(\"ABC_GAN_3 Metrics\",ABC_GAN3_metrics)\n",
    "\n",
    "print(\"MAE\")\n",
    "print(mean(ABC_GAN3_metrics[1]))"
   ]
  },
  {
   "cell_type": "code",
   "execution_count": 22,
   "id": "c8e46b48",
   "metadata": {
    "execution": {
     "iopub.execute_input": "2022-07-25T00:32:41.701509Z",
     "iopub.status.busy": "2022-07-25T00:32:41.700477Z",
     "iopub.status.idle": "2022-07-25T00:32:43.285865Z",
     "shell.execute_reply": "2022-07-25T00:32:43.284721Z"
    },
    "id": "c8e46b48",
    "papermill": {
     "duration": 1.620349,
     "end_time": "2022-07-25T00:32:43.288655",
     "exception": false,
     "start_time": "2022-07-25T00:32:41.668306",
     "status": "completed"
    },
    "tags": []
   },
   "outputs": [
    {
     "data": {
      "image/png": "[encoded data removed]",
      "text/plain": [
       "<Figure size 432x288 with 1 Axes>"
      ]
     },
     "metadata": {
      "needs_background": "light"
     },
     "output_type": "display_data"
    },
    {
     "data": {
      "image/png": "[encoded data removed]",
      "text/plain": [
       "<Figure size 432x288 with 1 Axes>"
      ]
     },
     "metadata": {
      "needs_background": "light"
     },
     "output_type": "display_data"
    },
    {
     "data": {
      "image/png": "[encoded data removed]",
      "text/plain": [
       "<Figure size 432x288 with 1 Axes>"
      ]
     },
     "metadata": {
      "needs_background": "light"
     },
     "output_type": "display_data"
    },
    {
     "data": {
      "image/png": "[encoded data removed]",
      "text/plain": [
       "<Figure size 432x288 with 1 Axes>"
      ]
     },
     "metadata": {
      "needs_background": "light"
     },
     "output_type": "display_data"
    }
   ],
   "source": [
    "sanityChecks.discProbVsError(train_data,disc3,device)\n",
    "sanityChecks.discProbVsError(test_data,disc3,device)"
   ]
  },
  {
   "cell_type": "markdown",
   "id": "9988a7e0",
   "metadata": {
    "id": "130f3a4d",
    "papermill": {
     "duration": 0.022445,
     "end_time": "2022-07-25T00:32:43.335674",
     "exception": false,
     "start_time": "2022-07-25T00:32:43.313229",
     "status": "completed"
    },
    "tags": []
   },
   "source": [
    "# skipGAN Model with TabNet Generator"
   ]
  },
  {
   "cell_type": "code",
   "execution_count": 23,
   "id": "6a5d68df",
   "metadata": {
    "execution": {
     "iopub.execute_input": "2022-07-25T00:32:43.386803Z",
     "iopub.status.busy": "2022-07-25T00:32:43.386487Z",
     "iopub.status.idle": "2022-07-25T00:32:43.405182Z",
     "shell.execute_reply": "2022-07-25T00:32:43.404057Z"
    },
    "id": "4e43dad1",
    "papermill": {
     "duration": 0.048135,
     "end_time": "2022-07-25T00:32:43.408452",
     "exception": false,
     "start_time": "2022-07-25T00:32:43.360317",
     "status": "completed"
    },
    "tags": []
   },
   "outputs": [],
   "source": [
    "#Generator\n",
    "gen4 = network.GeneratorTabnetskipConnection(n_features+1).to(device)\n",
    "constraints=network.weightConstraint()\n",
    "#Discriminator \n",
    "disc4 = network.Discriminator(n_features+1).to(device)\n",
    "\n",
    "criterion = torch.nn.BCELoss()\n",
    "gen_opt = torch.optim.Adam(gen4.parameters(), lr=0.01, betas=(0.5, 0.999))\n",
    "disc_opt = torch.optim.Adam(disc4.parameters(), lr=0.01, betas=(0.5, 0.999))\n"
   ]
  },
  {
   "cell_type": "code",
   "execution_count": 24,
   "id": "0ab84b62",
   "metadata": {
    "execution": {
     "iopub.execute_input": "2022-07-25T00:32:43.460032Z",
     "iopub.status.busy": "2022-07-25T00:32:43.459638Z",
     "iopub.status.idle": "2022-07-25T00:54:32.217302Z",
     "shell.execute_reply": "2022-07-25T00:54:32.215789Z"
    },
    "id": "26acbc37",
    "papermill": {
     "duration": 1308.788308,
     "end_time": "2022-07-25T00:54:32.220343",
     "exception": false,
     "start_time": "2022-07-25T00:32:43.432035",
     "status": "completed"
    },
    "tags": []
   },
   "outputs": [
    {
     "data": {
      "image/png": "[encoded data removed]",
      "text/plain": [
       "<Figure size 432x288 with 1 Axes>"
      ]
     },
     "metadata": {
      "needs_background": "light"
     },
     "output_type": "display_data"
    },
    {
     "data": {
      "image/png": "[encoded data removed]",
      "text/plain": [
       "<Figure size 432x288 with 1 Axes>"
      ]
     },
     "metadata": {
      "needs_background": "light"
     },
     "output_type": "display_data"
    }
   ],
   "source": [
    "ABC_train_test2.training_GAN_skip_connection(disc4,gen4,disc_opt,gen_opt,train_data,batch_size,n_epochs,criterion,prior_model,variance,bias,device)"
   ]
  },
  {
   "cell_type": "code",
   "execution_count": 25,
   "id": "c51942b9",
   "metadata": {
    "execution": {
     "iopub.execute_input": "2022-07-25T00:54:32.267026Z",
     "iopub.status.busy": "2022-07-25T00:54:32.266240Z",
     "iopub.status.idle": "2022-07-25T00:54:35.495215Z",
     "shell.execute_reply": "2022-07-25T00:54:35.493536Z"
    },
    "id": "c5e0717b",
    "papermill": {
     "duration": 3.257011,
     "end_time": "2022-07-25T00:54:35.499703",
     "exception": false,
     "start_time": "2022-07-25T00:54:32.242692",
     "status": "completed"
    },
    "tags": []
   },
   "outputs": [
    {
     "data": {
      "application/scrapbook.scrap.json+json": {
       "data": 0.013274286864953546,
       "encoder": "json",
       "name": "ABC-GAN Model 3 MSE",
       "version": 1
      }
     },
     "metadata": {
      "scrapbook": {
       "data": true,
       "display": false,
       "name": "ABC-GAN Model 3 MSE"
      }
     },
     "output_type": "display_data"
    },
    {
     "data": {
      "application/scrapbook.scrap.json+json": {
       "data": 0.07202562750063159,
       "encoder": "json",
       "name": "ABC-GAN Model 3 MAE",
       "version": 1
      }
     },
     "metadata": {
      "scrapbook": {
       "data": true,
       "display": false,
       "name": "ABC-GAN Model 3 MAE"
      }
     },
     "output_type": "display_data"
    },
    {
     "data": {
      "application/scrapbook.scrap.json+json": {
       "data": 11.091946635097266,
       "encoder": "json",
       "name": "ABC-GAN Model 3 Manhattan Distance",
       "version": 1
      }
     },
     "metadata": {
      "scrapbook": {
       "data": true,
       "display": false,
       "name": "ABC-GAN Model 3 Manhattan Distance"
      }
     },
     "output_type": "display_data"
    },
    {
     "data": {
      "application/scrapbook.scrap.json+json": {
       "data": 1.4293196176576948,
       "encoder": "json",
       "name": "ABC-GAN Model 3 Euclidean distance",
       "version": 1
      }
     },
     "metadata": {
      "scrapbook": {
       "data": true,
       "display": false,
       "name": "ABC-GAN Model 3 Euclidean distance"
      }
     },
     "output_type": "display_data"
    },
    {
     "data": {
      "application/scrapbook.scrap.json+json": {
       "data": [
        [
         0.012933561140438381,
         0.01332601503512655,
         0.013361044033114736,
         0.012824959944748702,
         0.013066332319126465,
         0.012772150110839308,
         0.013086680015660731,
         0.01265930779635043,
         0.013969818625172327,
         0.013029793104739269,
         0.012469433515534962,
         0.013890637446247373,
         0.012649115044475337,
         0.013679979530638054,
         0.01314871324239627,
         0.013025118171471405,
         0.012927172478598424,
         0.013680838089389092,
         0.012783589393743367,
         0.01366518188456143,
         0.014311905843184652,
         0.013553300510255691,
         0.013457192147384792,
         0.013725333511568759,
         0.012822829246284934,
         0.013073189928118888,
         0.012468639849893354,
         0.013103183368318543,
         0.012718499125169255,
         0.013179318776192418,
         0.012584248505567577,
         0.01272854611928185,
         0.012972790887130398,
         0.01348304827388517,
         0.01341384659101808,
         0.01294032305046214,
         0.01268927230042032,
         0.012977363503179129,
         0.013970911186810783,
         0.013145002642776427,
         0.015768473073818023,
         0.013165296764756628,
         0.01301913383104571,
         0.012621693700226285,
         0.013380627158090254,
         0.01282346147228634,
         0.013418953237873132,
         0.012810314155799472,
         0.013188563226871354,
         0.013947540853413464,
         0.01278432208280264,
         0.013063903264797607,
         0.014439267347529492,
         0.012434446504370332,
         0.01296832216657665,
         0.013922897724126443,
         0.01251109554210151,
         0.014142138812994835,
         0.012867951485847823,
         0.014660569702179615,
         0.01320115031716984,
         0.013011250858272146,
         0.014568467545572982,
         0.013092393231550618,
         0.012224776681229595,
         0.013337041552961127,
         0.014045403725181259,
         0.013061330263227179,
         0.01268397199401511,
         0.015641326646424817,
         0.012881921835396078,
         0.013072578784438623,
         0.013904497003894522,
         0.013025458213037069,
         0.013804915735022434,
         0.013302045797097496,
         0.013222531691812187,
         0.013403553966297267,
         0.01255968442523698,
         0.012834466902243253,
         0.01233834171138485,
         0.013182670018407871,
         0.013620547094798997,
         0.012922331129589423,
         0.01324131556182173,
         0.012532104780461474,
         0.013019886451608453,
         0.01336352159623228,
         0.012886824599805653,
         0.012648173283377749,
         0.014038891992018299,
         0.013246954462384901,
         0.015510674774065395,
         0.014047971993024917,
         0.013181012555538522,
         0.012750270966742808,
         0.01309546355017431,
         0.012331855138437342,
         0.014878974786489143,
         0.013504974482126477
        ],
        [
         0.07145097152656549,
         0.07189701398374973,
         0.07206509351827108,
         0.07060135209134646,
         0.07153641178526661,
         0.07055064936640201,
         0.07112683481597282,
         0.0703452957140935,
         0.0727520232608953,
         0.0714198105859679,
         0.0690894838567678,
         0.07300436687837174,
         0.07076626733042203,
         0.0732781993733211,
         0.07227178834765763,
         0.07098552570134015,
         0.0711610069280708,
         0.07488426800768871,
         0.07066858978337281,
         0.07398240662530645,
         0.07459857805886051,
         0.07320364489667601,
         0.07283168119172771,
         0.07350467849377688,
         0.0708423008682666,
         0.0723151642248615,
         0.06960915776525999,
         0.07267071877594118,
         0.06969150574273103,
         0.07082100611712251,
         0.06989835214789038,
         0.07056700847075358,
         0.070677592310232,
         0.07329536802679687,
         0.07269101725383238,
         0.07016184918775961,
         0.07203890443719052,
         0.07153092005423137,
         0.07476931745065497,
         0.07145663091985437,
         0.07661539129912853,
         0.07203400055212635,
         0.07289032492931787,
         0.06965173691414393,
         0.0718882004307075,
         0.07004062637880251,
         0.07316980682700486,
         0.07110074675315387,
         0.07205394474039604,
         0.07392043056716392,
         0.07005790529119504,
         0.07128336938557686,
         0.07477526277206935,
         0.06976345890237913,
         0.07029042158324222,
         0.07277008407301717,
         0.06876992073829298,
         0.07321349011322895,
         0.07141743530216929,
         0.07416021477963243,
         0.0726614108962285,
         0.07242938515718107,
         0.07712610559417056,
         0.07222076287710821,
         0.06903007580572135,
         0.07165773215328718,
         0.07415856539525768,
         0.07242021325056429,
         0.0710177452533276,
         0.07746685603512572,
         0.07151121450225253,
         0.07064300076431268,
         0.07497082870792258,
         0.07150937657948438,
         0.07152676434776226,
         0.07339059602614346,
         0.07192742749564833,
         0.07348580636664645,
         0.06876064491059099,
         0.07101726481183009,
         0.06862932373467204,
         0.07209766513438194,
         0.07326518412824574,
         0.07201271395307857,
         0.07241916068672359,
         0.06924031909506817,
         0.07253134427229305,
         0.07328839002588353,
         0.0703780676492236,
         0.0701673153255667,
         0.07383181936071291,
         0.07268249700692567,
         0.0757248755544424,
         0.07413489826313861,
         0.07175830841161214,
         0.07050562141971155,
         0.07228949237856772,
         0.06864129940604234,
         0.07581926449262477,
         0.07333388462565936
        ],
        [
         11.003449615091085,
         11.072140153497458,
         11.098024401813745,
         10.872608222067356,
         11.016607414931059,
         10.864800002425909,
         10.953532561659813,
         10.833175539970398,
         11.203811582177877,
         10.998650830239058,
         10.639780513942242,
         11.242672499269247,
         10.898005168884993,
         11.28484270349145,
         11.129855405539274,
         10.931770958006382,
         10.958795066922903,
         11.532177273184061,
         10.882962826639414,
         11.393290620297194,
         11.48818102106452,
         11.273361314088106,
         11.216078903526068,
         11.31972048804164,
         10.909714333713055,
         11.136535290628672,
         10.719810295850039,
         11.191290691494942,
         10.732491884380579,
         10.906434942036867,
         10.764346230775118,
         10.86731930449605,
         10.884349215775728,
         11.287486676126719,
         11.194416657090187,
         10.80492477491498,
         11.093991283327341,
         11.015761688351631,
         11.514474887400866,
         11.004321161657572,
         11.798770260065794,
         11.093236085027456,
         11.225110039114952,
         10.726367484778166,
         11.070782866328955,
         10.786256462335587,
         11.268150251358747,
         10.949514999985695,
         11.09630749002099,
         11.383746307343245,
         10.788917414844036,
         10.977638885378838,
         11.51539046689868,
         10.743572670966387,
         10.824724923819304,
         11.206592947244644,
         10.590567793697119,
         11.274877477437258,
         10.998285036534071,
         11.420673076063395,
         11.18985727801919,
         11.154125314205885,
         11.877420261502266,
         11.121997483074665,
         10.630631674081087,
         11.035290751606226,
         11.420419070869684,
         11.1527128405869,
         10.936732769012451,
         11.92989582940936,
         11.012727033346891,
         10.879022117704153,
         11.545507621020079,
         11.012443993240595,
         11.015121709555387,
         11.302151788026094,
         11.076823834329844,
         11.316814180463552,
         10.589139316231012,
         10.936658781021833,
         10.568915855139494,
         11.103040430694818,
         11.282838355749846,
         11.0899579487741,
         11.152550745755434,
         10.663009140640497,
         11.16982701793313,
         11.286412063986063,
         10.838222417980433,
         10.805766560137272,
         11.370100181549788,
         11.193104539066553,
         11.66163083538413,
         11.416774332523346,
         11.05077949538827,
         10.857865698635578,
         11.132581826299429,
         10.570760108530521,
         11.676166731864214,
         11.293418232351542
        ],
        [
         1.4113002570776747,
         1.4325523778939075,
         1.434433958430875,
         1.4053625267137657,
         1.4185257054933744,
         1.4024660841065832,
         1.4196297835744898,
         1.3962569250098515,
         1.4667488088546512,
         1.4165409059147736,
         1.3857462831963088,
         1.4625861228392998,
         1.3956947076095123,
         1.4514533570591446,
         1.422990456513685,
         1.4162867641853456,
         1.4109516510866549,
         1.4514989031225343,
         1.4030939977907677,
         1.4506681254589073,
         1.4845987672938559,
         1.444717369792229,
         1.4395859094535686,
         1.4538574073070538,
         1.405245780612018,
         1.4188978994030221,
         1.3857021818859838,
         1.4205246350278673,
         1.39951736869396,
         1.4246456020827187,
         1.3921114430452064,
         1.400070034808761,
         1.4134389964261216,
         1.4409682280252802,
         1.4372655895890587,
         1.411669136083654,
         1.3979084141190115,
         1.4136880771547822,
         1.4668061640069763,
         1.4227896566209532,
         1.5583147478503743,
         1.4238875312932973,
         1.4159613730540248,
         1.3941810606355431,
         1.4354847900085528,
         1.4052804228096598,
         1.4375391468173875,
         1.4045598527628216,
         1.4251451634616694,
         1.465578824705677,
         1.403134206250994,
         1.418393846143881,
         1.4911898509309747,
         1.3838008388756784,
         1.413195532703385,
         1.4642835277074835,
         1.3880593335602165,
         1.4757673858712301,
         1.4077160682540228,
         1.5025737033954976,
         1.4258250765238194,
         1.4155326319707047,
         1.4978464547537038,
         1.4199396316952333,
         1.3720844029830517,
         1.4331449330601613,
         1.4707114515355872,
         1.4182541593582534,
         1.3976164305982979,
         1.5520194275682961,
         1.4084800185487176,
         1.4188647337937283,
         1.4633155977436163,
         1.416305251281555,
         1.45806619300821,
         1.4312634463134362,
         1.4269792852522691,
         1.4367140671719543,
         1.3907520992205962,
         1.4058833176851702,
         1.3784428256381427,
         1.4248267202838427,
         1.4482970180867754,
         1.4106874189404155,
         1.42799250576484,
         1.3892242929747043,
         1.4160022999796653,
         1.434566947137627,
         1.408748021602895,
         1.395642750004518,
         1.470370486228154,
         1.4282965333596784,
         1.5455238319760947,
         1.4708459086273575,
         1.4247371454247033,
         1.4012643322651128,
         1.4201061181217562,
         1.3780804371731539,
         1.5137245843016913,
         1.4421394073554323
        ]
       ],
       "encoder": "json",
       "name": "ABC_GAN_4 Metrics",
       "version": 1
      }
     },
     "metadata": {
      "scrapbook": {
       "data": true,
       "display": false,
       "name": "ABC_GAN_4 Metrics"
      }
     },
     "output_type": "display_data"
    },
    {
     "name": "stdout",
     "output_type": "stream",
     "text": [
      "MAE\n",
      "0.07202562750063159\n"
     ]
    }
   ],
   "source": [
    "ABC_GAN4_metrics=ABC_train_test2.test_generator(gen4,test_data,prior_model,variance,bias,\"3\",device)\n",
    "sb.glue(\"ABC_GAN_4 Metrics\",ABC_GAN4_metrics)\n",
    "\n",
    "print(\"MAE\")\n",
    "print(mean(ABC_GAN4_metrics[1]))"
   ]
  },
  {
   "cell_type": "code",
   "execution_count": 26,
   "id": "5366f680",
   "metadata": {
    "execution": {
     "iopub.execute_input": "2022-07-25T00:54:35.551003Z",
     "iopub.status.busy": "2022-07-25T00:54:35.550432Z",
     "iopub.status.idle": "2022-07-25T00:54:36.515474Z",
     "shell.execute_reply": "2022-07-25T00:54:36.513958Z"
    },
    "id": "c8e46b48",
    "papermill": {
     "duration": 0.995261,
     "end_time": "2022-07-25T00:54:36.518960",
     "exception": false,
     "start_time": "2022-07-25T00:54:35.523699",
     "status": "completed"
    },
    "tags": []
   },
   "outputs": [
    {
     "data": {
      "image/png": "[encoded data removed]",
      "text/plain": [
       "<Figure size 432x288 with 1 Axes>"
      ]
     },
     "metadata": {
      "needs_background": "light"
     },
     "output_type": "display_data"
    },
    {
     "data": {
      "image/png": "[encoded data removed]",
      "text/plain": [
       "<Figure size 432x288 with 1 Axes>"
      ]
     },
     "metadata": {
      "needs_background": "light"
     },
     "output_type": "display_data"
    },
    {
     "data": {
      "image/png": "[encoded data removed]",
      "text/plain": [
       "<Figure size 432x288 with 1 Axes>"
      ]
     },
     "metadata": {
      "needs_background": "light"
     },
     "output_type": "display_data"
    },
    {
     "data": {
      "image/png": "[encoded data removed]",
      "text/plain": [
       "<Figure size 432x288 with 1 Axes>"
      ]
     },
     "metadata": {
      "needs_background": "light"
     },
     "output_type": "display_data"
    }
   ],
   "source": [
    "sanityChecks.discProbVsError(train_data,disc4,device)\n",
    "sanityChecks.discProbVsError(test_data,disc4,device)"
   ]
  },
  {
   "cell_type": "markdown",
   "id": "a5bd74c3",
   "metadata": {
    "id": "a5bd74c3",
    "papermill": {
     "duration": 0.038724,
     "end_time": "2022-07-25T00:54:36.601219",
     "exception": false,
     "start_time": "2022-07-25T00:54:36.562495",
     "status": "completed"
    },
    "tags": []
   },
   "source": [
    "## Skip Connection Model Analysis - ABC-GAN "
   ]
  },
  {
   "cell_type": "markdown",
   "id": "5744a8bf",
   "metadata": {
    "id": "5744a8bf",
    "papermill": {
     "duration": 0.032201,
     "end_time": "2022-07-25T00:54:36.689302",
     "exception": false,
     "start_time": "2022-07-25T00:54:36.657101",
     "status": "completed"
    },
    "tags": []
   },
   "source": [
    "### Weight Analysis \n",
    "\n",
    "Study the weights of the skip connection layer\n",
    "\n",
    "Equation of the skip connection is \n",
    "\n",
    "$output = y_{gan} * w + y_{abc} * (1-w)$"
   ]
  },
  {
   "cell_type": "code",
   "execution_count": 27,
   "id": "52c31dea",
   "metadata": {
    "execution": {
     "iopub.execute_input": "2022-07-25T00:54:36.756364Z",
     "iopub.status.busy": "2022-07-25T00:54:36.754778Z",
     "iopub.status.idle": "2022-07-25T00:54:36.797121Z",
     "shell.execute_reply": "2022-07-25T00:54:36.793739Z"
    },
    "id": "52c31dea",
    "papermill": {
     "duration": 0.086135,
     "end_time": "2022-07-25T00:54:36.801413",
     "exception": false,
     "start_time": "2022-07-25T00:54:36.715278",
     "status": "completed"
    },
    "tags": []
   },
   "outputs": [
    {
     "name": "stdout",
     "output_type": "stream",
     "text": [
      "Weight of the node at skip connection\n",
      "Parameter containing:\n",
      "tensor([[0.9607]], requires_grad=True)\n"
     ]
    },
    {
     "data": {
      "application/scrapbook.scrap.json+json": {
       "data": 0.9607381820678711,
       "encoder": "json",
       "name": "Skip Connection Weight",
       "version": 1
      }
     },
     "metadata": {
      "scrapbook": {
       "data": true,
       "display": false,
       "name": "Skip Connection Weight"
      }
     },
     "output_type": "display_data"
    }
   ],
   "source": [
    "print(\"Weight of the node at skip connection\")\n",
    "for name,param in gen3.named_parameters():\n",
    "    if(name == \"skipNode.weight\"):\n",
    "        print(param)\n",
    "        sb.glue(\"Skip Connection Weight\",param.item())"
   ]
  },
  {
   "cell_type": "markdown",
   "id": "7e5a9e47",
   "metadata": {
    "id": "a5bd74c3",
    "papermill": {
     "duration": 0.033186,
     "end_time": "2022-07-25T00:54:36.878409",
     "exception": false,
     "start_time": "2022-07-25T00:54:36.845223",
     "status": "completed"
    },
    "tags": []
   },
   "source": [
    "## skipGAN Model Analysis (TabNet Generator) "
   ]
  },
  {
   "cell_type": "markdown",
   "id": "7fabb87b",
   "metadata": {
    "id": "5744a8bf",
    "papermill": {
     "duration": 0.047,
     "end_time": "2022-07-25T00:54:36.970944",
     "exception": false,
     "start_time": "2022-07-25T00:54:36.923944",
     "status": "completed"
    },
    "tags": []
   },
   "source": [
    "### Weight Analysis \n",
    "\n",
    "Study the weights of the skip connection layer\n",
    "\n",
    "Equation of the skip connection is \n",
    "\n",
    "$output = y_{gan} * w + y_{abc} * (1-w)$"
   ]
  },
  {
   "cell_type": "code",
   "execution_count": 28,
   "id": "19e8a8b2",
   "metadata": {
    "execution": {
     "iopub.execute_input": "2022-07-25T00:54:37.061749Z",
     "iopub.status.busy": "2022-07-25T00:54:37.060990Z",
     "iopub.status.idle": "2022-07-25T00:54:37.077700Z",
     "shell.execute_reply": "2022-07-25T00:54:37.076054Z"
    },
    "id": "52c31dea",
    "papermill": {
     "duration": 0.104476,
     "end_time": "2022-07-25T00:54:37.120982",
     "exception": false,
     "start_time": "2022-07-25T00:54:37.016506",
     "status": "completed"
    },
    "tags": []
   },
   "outputs": [
    {
     "name": "stdout",
     "output_type": "stream",
     "text": [
      "Weight of the node at skip connection\n",
      "Parameter containing:\n",
      "tensor([[0.9895]], requires_grad=True)\n"
     ]
    },
    {
     "data": {
      "application/scrapbook.scrap.json+json": {
       "data": 0.9894932508468628,
       "encoder": "json",
       "name": "Skip Connection Weight",
       "version": 1
      }
     },
     "metadata": {
      "scrapbook": {
       "data": true,
       "display": false,
       "name": "Skip Connection Weight"
      }
     },
     "output_type": "display_data"
    }
   ],
   "source": [
    "print(\"Weight of the node at skip connection\")\n",
    "for name,param in gen4.named_parameters():\n",
    "    if(name == \"skipNode.weight\"):\n",
    "        print(param)\n",
    "        sb.glue(\"Skip Connection Weight\",param.item())"
   ]
  }
 ],
 "metadata": {
  "colab": {
   "collapsed_sections": [],
   "name": "ABC_GAN_Model-Catboost_Pre-gen.ipynb",
   "provenance": []
  },
  "interpreter": {
   "hash": "31f2aee4e71d21fbe5cf8b01ff0e069b9275f58929596ceb00d14d90e3e16cd6"
  },
  "kernelspec": {
   "display_name": "Python 3 (ipykernel)",
   "language": "python",
   "name": "python3"
  },
  "language_info": {
   "codemirror_mode": {
    "name": "ipython",
    "version": 3
   },
   "file_extension": ".py",
   "mimetype": "text/x-python",
   "name": "python",
   "nbconvert_exporter": "python",
   "pygments_lexer": "ipython3",
   "version": "3.8.9"
  },
  "papermill": {
   "default_parameters": {},
   "duration": 2797.44904,
   "end_time": "2022-07-25T00:54:38.271764",
   "environment_variables": {},
   "exception": null,
   "input_path": "ABC_GAN-Catboost.ipynb",
   "output_path": "./ABC_GAN_Catboost/ABC-GAN_output_2_0.ipynb",
   "parameters": {
    "bias": 1,
    "variance": 1
   },
   "start_time": "2022-07-25T00:08:00.822724",
   "version": "2.3.3"
  }
 },
 "nbformat": 4,
 "nbformat_minor": 5
}
