{
 "cells": [
  {
   "cell_type": "markdown",
   "id": "622780e6",
   "metadata": {
    "id": "622780e6",
    "papermill": {
     "duration": 0.017622,
     "end_time": "2022-07-25T06:06:48.851700",
     "exception": false,
     "start_time": "2022-07-25T06:06:48.834078",
     "status": "completed"
    },
    "tags": []
   },
   "source": [
    "## Import Libraries "
   ]
  },
  {
   "cell_type": "code",
   "execution_count": 1,
   "id": "a62397e3",
   "metadata": {
    "execution": {
     "iopub.execute_input": "2022-07-25T06:06:48.886482Z",
     "iopub.status.busy": "2022-07-25T06:06:48.885192Z",
     "iopub.status.idle": "2022-07-25T06:06:48.907775Z",
     "shell.execute_reply": "2022-07-25T06:06:48.906839Z"
    },
    "id": "a62397e3",
    "papermill": {
     "duration": 0.048248,
     "end_time": "2022-07-25T06:06:48.913619",
     "exception": false,
     "start_time": "2022-07-25T06:06:48.865371",
     "status": "completed"
    },
    "tags": []
   },
   "outputs": [],
   "source": [
    "import warnings\n",
    "import sys\n",
    "sys.path.insert(0, '../../src')\n",
    "warnings.filterwarnings('ignore')"
   ]
  },
  {
   "cell_type": "code",
   "execution_count": 2,
   "id": "d6a4e155",
   "metadata": {
    "execution": {
     "iopub.execute_input": "2022-07-25T06:06:48.958652Z",
     "iopub.status.busy": "2022-07-25T06:06:48.957889Z",
     "iopub.status.idle": "2022-07-25T06:06:58.687732Z",
     "shell.execute_reply": "2022-07-25T06:06:58.686573Z"
    },
    "id": "d6a4e155",
    "papermill": {
     "duration": 9.763502,
     "end_time": "2022-07-25T06:06:58.691377",
     "exception": false,
     "start_time": "2022-07-25T06:06:48.927875",
     "status": "completed"
    },
    "tags": []
   },
   "outputs": [],
   "source": [
    "import ABC_train_test2\n",
    "import energyefficiencyDataset\n",
    "import network\n",
    "import dataset\n",
    "import sanityChecks\n",
    "import torch \n",
    "import scrapbook as sb\n",
    "from statistics import mean \n",
    "import catboost as ctb \n",
    "from sklearn.model_selection import train_test_split\n",
    "from sklearn.metrics import mean_squared_error,mean_absolute_error\n",
    "import numpy as np"
   ]
  },
  {
   "cell_type": "markdown",
   "id": "2fa5b0f7",
   "metadata": {
    "id": "2fa5b0f7",
    "papermill": {
     "duration": 0.008921,
     "end_time": "2022-07-25T06:06:58.710171",
     "exception": false,
     "start_time": "2022-07-25T06:06:58.701250",
     "status": "completed"
    },
    "tags": []
   },
   "source": [
    "## Parameters "
   ]
  },
  {
   "cell_type": "code",
   "execution_count": 3,
   "id": "783186fb",
   "metadata": {
    "execution": {
     "iopub.execute_input": "2022-07-25T06:06:58.731079Z",
     "iopub.status.busy": "2022-07-25T06:06:58.730489Z",
     "iopub.status.idle": "2022-07-25T06:06:58.743126Z",
     "shell.execute_reply": "2022-07-25T06:06:58.741484Z"
    },
    "id": "783186fb",
    "papermill": {
     "duration": 0.031308,
     "end_time": "2022-07-25T06:06:58.749142",
     "exception": false,
     "start_time": "2022-07-25T06:06:58.717834",
     "status": "completed"
    },
    "tags": [
     "parameters"
    ]
   },
   "outputs": [],
   "source": [
    "variance = 1\n",
    "bias = 1 "
   ]
  },
  {
   "cell_type": "code",
   "execution_count": 4,
   "id": "7529974a",
   "metadata": {
    "execution": {
     "iopub.execute_input": "2022-07-25T06:06:58.774057Z",
     "iopub.status.busy": "2022-07-25T06:06:58.773494Z",
     "iopub.status.idle": "2022-07-25T06:06:58.779384Z",
     "shell.execute_reply": "2022-07-25T06:06:58.777715Z"
    },
    "papermill": {
     "duration": 0.020794,
     "end_time": "2022-07-25T06:06:58.782774",
     "exception": false,
     "start_time": "2022-07-25T06:06:58.761980",
     "status": "completed"
    },
    "tags": [
     "injected-parameters"
    ]
   },
   "outputs": [],
   "source": [
    "# Parameters\n",
    "variance = 0.1\n",
    "bias = 0.01\n"
   ]
  },
  {
   "cell_type": "markdown",
   "id": "391cdbfd",
   "metadata": {
    "id": "391cdbfd",
    "papermill": {
     "duration": 0.013431,
     "end_time": "2022-07-25T06:06:58.809755",
     "exception": false,
     "start_time": "2022-07-25T06:06:58.796324",
     "status": "completed"
    },
    "tags": []
   },
   "source": [
    "## Dataset \n"
   ]
  },
  {
   "cell_type": "code",
   "execution_count": 5,
   "id": "5b51f161",
   "metadata": {
    "execution": {
     "iopub.execute_input": "2022-07-25T06:06:58.839808Z",
     "iopub.status.busy": "2022-07-25T06:06:58.838916Z",
     "iopub.status.idle": "2022-07-25T06:06:58.844727Z",
     "shell.execute_reply": "2022-07-25T06:06:58.843419Z"
    },
    "id": "5b51f161",
    "papermill": {
     "duration": 0.043731,
     "end_time": "2022-07-25T06:06:58.866167",
     "exception": false,
     "start_time": "2022-07-25T06:06:58.822436",
     "status": "completed"
    },
    "tags": []
   },
   "outputs": [],
   "source": [
    "#Parameters \n",
    "n_features = 8\n",
    "n_samples= 768\n",
    "n_target = 1 "
   ]
  },
  {
   "cell_type": "code",
   "execution_count": 6,
   "id": "5d6eced4",
   "metadata": {
    "execution": {
     "iopub.execute_input": "2022-07-25T06:06:58.914979Z",
     "iopub.status.busy": "2022-07-25T06:06:58.911555Z",
     "iopub.status.idle": "2022-07-25T06:06:59.757465Z",
     "shell.execute_reply": "2022-07-25T06:06:59.755839Z"
    },
    "id": "5d6eced4",
    "papermill": {
     "duration": 0.880695,
     "end_time": "2022-07-25T06:06:59.760292",
     "exception": false,
     "start_time": "2022-07-25T06:06:58.879597",
     "status": "completed"
    },
    "tags": []
   },
   "outputs": [
    {
     "name": "stdout",
     "output_type": "stream",
     "text": [
      "     X1     X2     X3      X4   X5  X6   X7  X8     Y1     Y2\n",
      "0  0.98  514.5  294.0  110.25  7.0   2  0.0   0  15.55  21.33\n",
      "1  0.98  514.5  294.0  110.25  7.0   3  0.0   0  15.55  21.33\n",
      "2  0.98  514.5  294.0  110.25  7.0   4  0.0   0  15.55  21.33\n",
      "3  0.98  514.5  294.0  110.25  7.0   5  0.0   0  15.55  21.33\n",
      "4  0.90  563.5  318.5  122.50  7.0   2  0.0   0  20.84  28.28\n"
     ]
    }
   ],
   "source": [
    "X,Y = energyefficiencyDataset.energy_data()"
   ]
  },
  {
   "cell_type": "code",
   "execution_count": 7,
   "id": "fe007438",
   "metadata": {
    "execution": {
     "iopub.execute_input": "2022-07-25T06:06:59.779585Z",
     "iopub.status.busy": "2022-07-25T06:06:59.778283Z",
     "iopub.status.idle": "2022-07-25T06:06:59.789691Z",
     "shell.execute_reply": "2022-07-25T06:06:59.787410Z"
    },
    "id": "fe007438",
    "papermill": {
     "duration": 0.030817,
     "end_time": "2022-07-25T06:06:59.799086",
     "exception": false,
     "start_time": "2022-07-25T06:06:59.768269",
     "status": "completed"
    },
    "tags": []
   },
   "outputs": [],
   "source": [
    "#Train test split for dataset \n",
    "X_train,X_test,Y_train,Y_test = train_test_split(X,Y,test_size = 0.2)\n",
    "train_data = dataset.CustomDataset(X_train,Y_train)\n",
    "test_data = dataset.CustomDataset(X_test,Y_test)\n"
   ]
  },
  {
   "cell_type": "markdown",
   "id": "a9a1af34",
   "metadata": {
    "id": "a9a1af34",
    "papermill": {
     "duration": 0.009258,
     "end_time": "2022-07-25T06:06:59.820674",
     "exception": false,
     "start_time": "2022-07-25T06:06:59.811416",
     "status": "completed"
    },
    "tags": []
   },
   "source": [
    "## Training Parameters "
   ]
  },
  {
   "cell_type": "code",
   "execution_count": 8,
   "id": "952b7fc8",
   "metadata": {
    "execution": {
     "iopub.execute_input": "2022-07-25T06:06:59.859527Z",
     "iopub.status.busy": "2022-07-25T06:06:59.857285Z",
     "iopub.status.idle": "2022-07-25T06:06:59.872686Z",
     "shell.execute_reply": "2022-07-25T06:06:59.871315Z"
    },
    "id": "952b7fc8",
    "papermill": {
     "duration": 0.046915,
     "end_time": "2022-07-25T06:06:59.875951",
     "exception": false,
     "start_time": "2022-07-25T06:06:59.829036",
     "status": "completed"
    },
    "tags": []
   },
   "outputs": [],
   "source": [
    "batch_size = 32\n",
    "n_epochs = 1000\n",
    "#Select the device \n",
    "device = torch.device('cuda' if torch.cuda.is_available() else 'cpu')"
   ]
  },
  {
   "cell_type": "markdown",
   "id": "a95e1600",
   "metadata": {
    "id": "a95e1600",
    "papermill": {
     "duration": 0.043389,
     "end_time": "2022-07-25T06:06:59.939333",
     "exception": false,
     "start_time": "2022-07-25T06:06:59.895944",
     "status": "completed"
    },
    "tags": []
   },
   "source": [
    "# ABC Pre-generator Model \n",
    "\n",
    "1. The catboost model is used as a pre-generator model for the ABC-GAN. \n",
    "2. The model is first trained on the entire dataset \n",
    "3. It generats X,Y pairs and we add some Gaussian noise with mean 0 and variance 1 to it which is then feed as input to the generator.\n"
   ]
  },
  {
   "cell_type": "code",
   "execution_count": 9,
   "id": "ff8ce7bd",
   "metadata": {
    "execution": {
     "iopub.execute_input": "2022-07-25T06:06:59.991345Z",
     "iopub.status.busy": "2022-07-25T06:06:59.990399Z",
     "iopub.status.idle": "2022-07-25T06:07:01.331254Z",
     "shell.execute_reply": "2022-07-25T06:07:01.330229Z"
    },
    "id": "ff8ce7bd",
    "papermill": {
     "duration": 1.373571,
     "end_time": "2022-07-25T06:07:01.338911",
     "exception": false,
     "start_time": "2022-07-25T06:06:59.965340",
     "status": "completed"
    },
    "tags": []
   },
   "outputs": [
    {
     "name": "stdout",
     "output_type": "stream",
     "text": [
      "Learning rate set to 0.037906\n",
      "0:\tlearn: 0.9636947\ttotal: 51.4ms\tremaining: 51.3s\n",
      "1:\tlearn: 0.9316233\ttotal: 52ms\tremaining: 26s\n",
      "2:\tlearn: 0.9043065\ttotal: 52.7ms\tremaining: 17.5s\n",
      "3:\tlearn: 0.8737262\ttotal: 53.3ms\tremaining: 13.3s\n",
      "4:\tlearn: 0.8488143\ttotal: 53.7ms\tremaining: 10.7s\n",
      "5:\tlearn: 0.8211767\ttotal: 54.6ms\tremaining: 9.05s\n",
      "6:\tlearn: 0.7985961\ttotal: 55.1ms\tremaining: 7.81s\n",
      "7:\tlearn: 0.7737659\ttotal: 55.5ms\tremaining: 6.88s\n",
      "8:\tlearn: 0.7479279\ttotal: 55.8ms\tremaining: 6.14s\n",
      "9:\tlearn: 0.7247736\ttotal: 56.4ms\tremaining: 5.58s\n",
      "10:\tlearn: 0.7021257\ttotal: 58.8ms\tremaining: 5.28s\n",
      "11:\tlearn: 0.6799539\ttotal: 59ms\tremaining: 4.86s\n",
      "12:\tlearn: 0.6614400\ttotal: 62ms\tremaining: 4.7s\n",
      "13:\tlearn: 0.6429270\ttotal: 62.5ms\tremaining: 4.41s\n",
      "14:\tlearn: 0.6228520\ttotal: 63.2ms\tremaining: 4.15s\n",
      "15:\tlearn: 0.6047089\ttotal: 63.9ms\tremaining: 3.93s\n",
      "16:\tlearn: 0.5856312\ttotal: 64.3ms\tremaining: 3.72s\n",
      "17:\tlearn: 0.5679092\ttotal: 65.1ms\tremaining: 3.55s\n",
      "18:\tlearn: 0.5523565\ttotal: 65.7ms\tremaining: 3.39s\n",
      "19:\tlearn: 0.5371548\ttotal: 66.9ms\tremaining: 3.28s\n",
      "20:\tlearn: 0.5215358\ttotal: 67.3ms\tremaining: 3.14s\n",
      "21:\tlearn: 0.5061716\ttotal: 68.6ms\tremaining: 3.05s\n",
      "22:\tlearn: 0.4903539\ttotal: 69.9ms\tremaining: 2.97s\n",
      "23:\tlearn: 0.4746550\ttotal: 70.7ms\tremaining: 2.88s\n",
      "24:\tlearn: 0.4616293\ttotal: 72.3ms\tremaining: 2.82s\n",
      "25:\tlearn: 0.4476089\ttotal: 73.4ms\tremaining: 2.75s\n",
      "26:\tlearn: 0.4344225\ttotal: 74.2ms\tremaining: 2.67s\n",
      "27:\tlearn: 0.4216736\ttotal: 74.8ms\tremaining: 2.6s\n",
      "28:\tlearn: 0.4082590\ttotal: 75.7ms\tremaining: 2.53s\n",
      "29:\tlearn: 0.3972089\ttotal: 77.5ms\tremaining: 2.5s\n",
      "30:\tlearn: 0.3862765\ttotal: 78.6ms\tremaining: 2.46s\n",
      "31:\tlearn: 0.3746996\ttotal: 79.2ms\tremaining: 2.4s\n",
      "32:\tlearn: 0.3637458\ttotal: 79.9ms\tremaining: 2.34s\n",
      "33:\tlearn: 0.3533448\ttotal: 80.9ms\tremaining: 2.3s\n",
      "34:\tlearn: 0.3434439\ttotal: 81.6ms\tremaining: 2.25s\n",
      "35:\tlearn: 0.3331977\ttotal: 82.5ms\tremaining: 2.21s\n",
      "36:\tlearn: 0.3247753\ttotal: 83.3ms\tremaining: 2.17s\n",
      "37:\tlearn: 0.3157862\ttotal: 84ms\tremaining: 2.13s\n",
      "38:\tlearn: 0.3077534\ttotal: 84.4ms\tremaining: 2.08s\n",
      "39:\tlearn: 0.2992994\ttotal: 85.1ms\tremaining: 2.04s\n",
      "40:\tlearn: 0.2918089\ttotal: 85.9ms\tremaining: 2.01s\n",
      "41:\tlearn: 0.2848341\ttotal: 86.8ms\tremaining: 1.98s\n",
      "42:\tlearn: 0.2769947\ttotal: 87.5ms\tremaining: 1.95s\n",
      "43:\tlearn: 0.2690662\ttotal: 87.9ms\tremaining: 1.91s\n",
      "44:\tlearn: 0.2623782\ttotal: 88.4ms\tremaining: 1.88s\n",
      "45:\tlearn: 0.2557710\ttotal: 88.9ms\tremaining: 1.84s\n",
      "46:\tlearn: 0.2495637\ttotal: 89.8ms\tremaining: 1.82s\n",
      "47:\tlearn: 0.2442921\ttotal: 90.5ms\tremaining: 1.79s\n",
      "48:\tlearn: 0.2378844\ttotal: 90.9ms\tremaining: 1.76s\n",
      "49:\tlearn: 0.2309208\ttotal: 91.3ms\tremaining: 1.73s\n",
      "50:\tlearn: 0.2246228\ttotal: 92.3ms\tremaining: 1.72s\n",
      "51:\tlearn: 0.2197125\ttotal: 92.7ms\tremaining: 1.69s\n",
      "52:\tlearn: 0.2142819\ttotal: 93.4ms\tremaining: 1.67s\n",
      "53:\tlearn: 0.2090006\ttotal: 93.9ms\tremaining: 1.64s\n",
      "54:\tlearn: 0.2033642\ttotal: 94.3ms\tremaining: 1.62s\n",
      "55:\tlearn: 0.1981726\ttotal: 94.7ms\tremaining: 1.59s\n",
      "56:\tlearn: 0.1937182\ttotal: 95.1ms\tremaining: 1.57s\n",
      "57:\tlearn: 0.1887242\ttotal: 95.6ms\tremaining: 1.55s\n",
      "58:\tlearn: 0.1848556\ttotal: 96.2ms\tremaining: 1.53s\n",
      "59:\tlearn: 0.1799671\ttotal: 96.8ms\tremaining: 1.51s\n",
      "60:\tlearn: 0.1752861\ttotal: 97.3ms\tremaining: 1.5s\n",
      "61:\tlearn: 0.1707857\ttotal: 97.8ms\tremaining: 1.48s\n",
      "62:\tlearn: 0.1669119\ttotal: 98.2ms\tremaining: 1.46s\n",
      "63:\tlearn: 0.1630480\ttotal: 98.6ms\tremaining: 1.44s\n",
      "64:\tlearn: 0.1594036\ttotal: 99.5ms\tremaining: 1.43s\n",
      "65:\tlearn: 0.1555370\ttotal: 100ms\tremaining: 1.41s\n",
      "66:\tlearn: 0.1518434\ttotal: 100ms\tremaining: 1.4s\n",
      "67:\tlearn: 0.1482611\ttotal: 101ms\tremaining: 1.39s\n",
      "68:\tlearn: 0.1444361\ttotal: 102ms\tremaining: 1.37s\n",
      "69:\tlearn: 0.1405927\ttotal: 103ms\tremaining: 1.36s\n",
      "70:\tlearn: 0.1371571\ttotal: 103ms\tremaining: 1.35s\n",
      "71:\tlearn: 0.1343593\ttotal: 104ms\tremaining: 1.34s\n",
      "72:\tlearn: 0.1312194\ttotal: 105ms\tremaining: 1.33s\n",
      "73:\tlearn: 0.1294538\ttotal: 106ms\tremaining: 1.32s\n",
      "74:\tlearn: 0.1268157\ttotal: 106ms\tremaining: 1.31s\n",
      "75:\tlearn: 0.1242299\ttotal: 107ms\tremaining: 1.3s\n",
      "76:\tlearn: 0.1217506\ttotal: 107ms\tremaining: 1.29s\n",
      "77:\tlearn: 0.1193860\ttotal: 108ms\tremaining: 1.28s\n",
      "78:\tlearn: 0.1170903\ttotal: 109ms\tremaining: 1.27s\n",
      "79:\tlearn: 0.1147246\ttotal: 109ms\tremaining: 1.26s\n",
      "80:\tlearn: 0.1125225\ttotal: 110ms\tremaining: 1.25s\n",
      "81:\tlearn: 0.1102905\ttotal: 110ms\tremaining: 1.23s\n",
      "82:\tlearn: 0.1084818\ttotal: 111ms\tremaining: 1.22s\n",
      "83:\tlearn: 0.1071397\ttotal: 111ms\tremaining: 1.21s\n",
      "84:\tlearn: 0.1049950\ttotal: 112ms\tremaining: 1.2s\n",
      "85:\tlearn: 0.1035266\ttotal: 112ms\tremaining: 1.19s\n",
      "86:\tlearn: 0.1015304\ttotal: 113ms\tremaining: 1.18s\n",
      "87:\tlearn: 0.0993491\ttotal: 113ms\tremaining: 1.17s\n",
      "88:\tlearn: 0.0977644\ttotal: 114ms\tremaining: 1.16s\n",
      "89:\tlearn: 0.0967087\ttotal: 114ms\tremaining: 1.16s\n",
      "90:\tlearn: 0.0945805\ttotal: 115ms\tremaining: 1.15s\n",
      "91:\tlearn: 0.0934040\ttotal: 115ms\tremaining: 1.14s\n",
      "92:\tlearn: 0.0917555\ttotal: 116ms\tremaining: 1.13s\n",
      "93:\tlearn: 0.0900766\ttotal: 116ms\tremaining: 1.12s\n",
      "94:\tlearn: 0.0889913\ttotal: 117ms\tremaining: 1.11s\n",
      "95:\tlearn: 0.0874238\ttotal: 117ms\tremaining: 1.1s\n",
      "96:\tlearn: 0.0856918\ttotal: 118ms\tremaining: 1.1s\n",
      "97:\tlearn: 0.0844279\ttotal: 118ms\tremaining: 1.09s\n",
      "98:\tlearn: 0.0828732\ttotal: 119ms\tremaining: 1.08s\n",
      "99:\tlearn: 0.0820562\ttotal: 120ms\tremaining: 1.07s\n",
      "100:\tlearn: 0.0805003\ttotal: 120ms\tremaining: 1.07s\n",
      "101:\tlearn: 0.0792719\ttotal: 121ms\tremaining: 1.06s\n",
      "102:\tlearn: 0.0784098\ttotal: 121ms\tremaining: 1.06s\n",
      "103:\tlearn: 0.0772303\ttotal: 122ms\tremaining: 1.05s\n",
      "104:\tlearn: 0.0762662\ttotal: 122ms\tremaining: 1.04s\n",
      "105:\tlearn: 0.0752364\ttotal: 123ms\tremaining: 1.04s\n",
      "106:\tlearn: 0.0746681\ttotal: 124ms\tremaining: 1.03s\n",
      "107:\tlearn: 0.0736911\ttotal: 124ms\tremaining: 1.02s\n",
      "108:\tlearn: 0.0726002\ttotal: 125ms\tremaining: 1.02s\n",
      "109:\tlearn: 0.0719158\ttotal: 125ms\tremaining: 1.01s\n",
      "110:\tlearn: 0.0711467\ttotal: 126ms\tremaining: 1.01s\n",
      "111:\tlearn: 0.0702655\ttotal: 127ms\tremaining: 1.01s\n",
      "112:\tlearn: 0.0696763\ttotal: 128ms\tremaining: 1s\n",
      "113:\tlearn: 0.0686362\ttotal: 129ms\tremaining: 1s\n",
      "114:\tlearn: 0.0677304\ttotal: 130ms\tremaining: 998ms\n",
      "115:\tlearn: 0.0668365\ttotal: 130ms\tremaining: 993ms\n",
      "116:\tlearn: 0.0661427\ttotal: 131ms\tremaining: 989ms\n",
      "117:\tlearn: 0.0652136\ttotal: 132ms\tremaining: 985ms\n",
      "118:\tlearn: 0.0643942\ttotal: 133ms\tremaining: 981ms\n",
      "119:\tlearn: 0.0636307\ttotal: 133ms\tremaining: 976ms\n",
      "120:\tlearn: 0.0630152\ttotal: 134ms\tremaining: 972ms\n",
      "121:\tlearn: 0.0622531\ttotal: 135ms\tremaining: 969ms\n",
      "122:\tlearn: 0.0616033\ttotal: 135ms\tremaining: 966ms\n",
      "123:\tlearn: 0.0609997\ttotal: 136ms\tremaining: 963ms\n",
      "124:\tlearn: 0.0606055\ttotal: 137ms\tremaining: 958ms\n",
      "125:\tlearn: 0.0602552\ttotal: 137ms\tremaining: 952ms\n",
      "126:\tlearn: 0.0596437\ttotal: 138ms\tremaining: 945ms\n",
      "127:\tlearn: 0.0591406\ttotal: 138ms\tremaining: 942ms\n",
      "128:\tlearn: 0.0588460\ttotal: 139ms\tremaining: 938ms\n",
      "129:\tlearn: 0.0582222\ttotal: 139ms\tremaining: 933ms\n",
      "130:\tlearn: 0.0576892\ttotal: 140ms\tremaining: 929ms\n",
      "131:\tlearn: 0.0573347\ttotal: 141ms\tremaining: 924ms\n",
      "132:\tlearn: 0.0570687\ttotal: 141ms\tremaining: 919ms\n",
      "133:\tlearn: 0.0568515\ttotal: 142ms\tremaining: 915ms\n",
      "134:\tlearn: 0.0565053\ttotal: 142ms\tremaining: 910ms\n",
      "135:\tlearn: 0.0559846\ttotal: 143ms\tremaining: 906ms\n",
      "136:\tlearn: 0.0555697\ttotal: 143ms\tremaining: 903ms\n",
      "137:\tlearn: 0.0552995\ttotal: 144ms\tremaining: 899ms\n",
      "138:\tlearn: 0.0549962\ttotal: 145ms\tremaining: 896ms\n",
      "139:\tlearn: 0.0545349\ttotal: 145ms\tremaining: 892ms\n"
     ]
    },
    {
     "name": "stdout",
     "output_type": "stream",
     "text": [
      "140:\tlearn: 0.0541499\ttotal: 146ms\tremaining: 888ms\n",
      "141:\tlearn: 0.0538298\ttotal: 146ms\tremaining: 883ms\n",
      "142:\tlearn: 0.0536030\ttotal: 147ms\tremaining: 883ms\n",
      "143:\tlearn: 0.0532206\ttotal: 148ms\tremaining: 881ms\n",
      "144:\tlearn: 0.0529041\ttotal: 149ms\tremaining: 878ms\n",
      "145:\tlearn: 0.0526905\ttotal: 150ms\tremaining: 875ms\n",
      "146:\tlearn: 0.0523492\ttotal: 150ms\tremaining: 871ms\n",
      "147:\tlearn: 0.0520161\ttotal: 151ms\tremaining: 868ms\n",
      "148:\tlearn: 0.0517937\ttotal: 151ms\tremaining: 863ms\n",
      "149:\tlearn: 0.0514680\ttotal: 152ms\tremaining: 860ms\n",
      "150:\tlearn: 0.0512862\ttotal: 152ms\tremaining: 855ms\n",
      "151:\tlearn: 0.0509966\ttotal: 153ms\tremaining: 854ms\n",
      "152:\tlearn: 0.0506813\ttotal: 153ms\tremaining: 850ms\n",
      "153:\tlearn: 0.0505038\ttotal: 154ms\tremaining: 846ms\n",
      "154:\tlearn: 0.0502547\ttotal: 155ms\tremaining: 843ms\n",
      "155:\tlearn: 0.0499296\ttotal: 155ms\tremaining: 839ms\n",
      "156:\tlearn: 0.0497037\ttotal: 157ms\tremaining: 843ms\n",
      "157:\tlearn: 0.0494437\ttotal: 157ms\tremaining: 838ms\n",
      "158:\tlearn: 0.0492497\ttotal: 158ms\tremaining: 834ms\n",
      "159:\tlearn: 0.0490364\ttotal: 158ms\tremaining: 829ms\n",
      "160:\tlearn: 0.0488492\ttotal: 158ms\tremaining: 824ms\n",
      "161:\tlearn: 0.0486328\ttotal: 163ms\tremaining: 844ms\n",
      "162:\tlearn: 0.0484570\ttotal: 163ms\tremaining: 839ms\n",
      "163:\tlearn: 0.0482325\ttotal: 165ms\tremaining: 841ms\n",
      "164:\tlearn: 0.0479147\ttotal: 166ms\tremaining: 839ms\n",
      "165:\tlearn: 0.0477068\ttotal: 167ms\tremaining: 838ms\n",
      "166:\tlearn: 0.0474717\ttotal: 167ms\tremaining: 833ms\n",
      "167:\tlearn: 0.0472266\ttotal: 167ms\tremaining: 829ms\n",
      "168:\tlearn: 0.0471062\ttotal: 168ms\tremaining: 824ms\n",
      "169:\tlearn: 0.0469704\ttotal: 168ms\tremaining: 820ms\n",
      "170:\tlearn: 0.0468013\ttotal: 169ms\tremaining: 818ms\n",
      "171:\tlearn: 0.0465596\ttotal: 170ms\tremaining: 817ms\n",
      "172:\tlearn: 0.0463093\ttotal: 171ms\tremaining: 815ms\n",
      "173:\tlearn: 0.0461010\ttotal: 172ms\tremaining: 815ms\n",
      "174:\tlearn: 0.0459534\ttotal: 175ms\tremaining: 824ms\n",
      "175:\tlearn: 0.0458154\ttotal: 176ms\tremaining: 822ms\n",
      "176:\tlearn: 0.0456355\ttotal: 176ms\tremaining: 820ms\n",
      "177:\tlearn: 0.0454284\ttotal: 177ms\tremaining: 817ms\n",
      "178:\tlearn: 0.0453027\ttotal: 177ms\tremaining: 814ms\n",
      "179:\tlearn: 0.0451568\ttotal: 178ms\tremaining: 810ms\n",
      "180:\tlearn: 0.0450044\ttotal: 178ms\tremaining: 807ms\n",
      "181:\tlearn: 0.0448530\ttotal: 179ms\tremaining: 804ms\n",
      "182:\tlearn: 0.0446950\ttotal: 179ms\tremaining: 801ms\n",
      "183:\tlearn: 0.0446078\ttotal: 180ms\tremaining: 798ms\n",
      "184:\tlearn: 0.0444746\ttotal: 181ms\tremaining: 796ms\n",
      "185:\tlearn: 0.0443458\ttotal: 181ms\tremaining: 794ms\n",
      "186:\tlearn: 0.0441122\ttotal: 182ms\tremaining: 790ms\n",
      "187:\tlearn: 0.0439457\ttotal: 182ms\tremaining: 787ms\n",
      "188:\tlearn: 0.0438282\ttotal: 183ms\tremaining: 784ms\n",
      "189:\tlearn: 0.0436536\ttotal: 183ms\tremaining: 781ms\n",
      "190:\tlearn: 0.0435072\ttotal: 183ms\tremaining: 777ms\n",
      "191:\tlearn: 0.0433633\ttotal: 184ms\tremaining: 773ms\n",
      "192:\tlearn: 0.0432710\ttotal: 184ms\tremaining: 769ms\n",
      "193:\tlearn: 0.0430442\ttotal: 184ms\tremaining: 766ms\n",
      "194:\tlearn: 0.0428749\ttotal: 185ms\tremaining: 762ms\n",
      "195:\tlearn: 0.0426092\ttotal: 185ms\tremaining: 758ms\n",
      "196:\tlearn: 0.0425189\ttotal: 185ms\tremaining: 755ms\n",
      "197:\tlearn: 0.0423741\ttotal: 186ms\tremaining: 754ms\n",
      "198:\tlearn: 0.0422949\ttotal: 187ms\tremaining: 751ms\n",
      "199:\tlearn: 0.0422042\ttotal: 187ms\tremaining: 748ms\n",
      "200:\tlearn: 0.0421107\ttotal: 188ms\tremaining: 746ms\n",
      "201:\tlearn: 0.0418667\ttotal: 188ms\tremaining: 743ms\n",
      "202:\tlearn: 0.0417179\ttotal: 189ms\tremaining: 744ms\n",
      "203:\tlearn: 0.0415529\ttotal: 191ms\tremaining: 744ms\n",
      "204:\tlearn: 0.0414435\ttotal: 192ms\tremaining: 743ms\n",
      "205:\tlearn: 0.0413579\ttotal: 192ms\tremaining: 741ms\n",
      "206:\tlearn: 0.0412381\ttotal: 193ms\tremaining: 741ms\n",
      "207:\tlearn: 0.0411086\ttotal: 194ms\tremaining: 740ms\n",
      "208:\tlearn: 0.0409538\ttotal: 195ms\tremaining: 737ms\n",
      "209:\tlearn: 0.0408803\ttotal: 197ms\tremaining: 741ms\n",
      "210:\tlearn: 0.0407353\ttotal: 197ms\tremaining: 737ms\n",
      "211:\tlearn: 0.0404945\ttotal: 198ms\tremaining: 734ms\n",
      "212:\tlearn: 0.0403648\ttotal: 201ms\tremaining: 742ms\n",
      "213:\tlearn: 0.0402285\ttotal: 203ms\tremaining: 746ms\n",
      "214:\tlearn: 0.0401576\ttotal: 205ms\tremaining: 747ms\n",
      "215:\tlearn: 0.0400064\ttotal: 205ms\tremaining: 745ms\n",
      "216:\tlearn: 0.0399227\ttotal: 206ms\tremaining: 744ms\n",
      "217:\tlearn: 0.0398013\ttotal: 206ms\tremaining: 740ms\n",
      "218:\tlearn: 0.0395980\ttotal: 207ms\tremaining: 737ms\n",
      "219:\tlearn: 0.0394798\ttotal: 208ms\tremaining: 738ms\n",
      "220:\tlearn: 0.0394068\ttotal: 209ms\tremaining: 737ms\n",
      "221:\tlearn: 0.0393336\ttotal: 209ms\tremaining: 734ms\n",
      "222:\tlearn: 0.0392600\ttotal: 210ms\tremaining: 733ms\n",
      "223:\tlearn: 0.0390175\ttotal: 212ms\tremaining: 733ms\n",
      "224:\tlearn: 0.0387760\ttotal: 213ms\tremaining: 734ms\n",
      "225:\tlearn: 0.0387114\ttotal: 214ms\tremaining: 733ms\n",
      "226:\tlearn: 0.0384873\ttotal: 215ms\tremaining: 731ms\n",
      "227:\tlearn: 0.0383684\ttotal: 215ms\tremaining: 728ms\n",
      "228:\tlearn: 0.0383070\ttotal: 215ms\tremaining: 725ms\n",
      "229:\tlearn: 0.0380634\ttotal: 216ms\tremaining: 723ms\n",
      "230:\tlearn: 0.0379536\ttotal: 216ms\tremaining: 720ms\n",
      "231:\tlearn: 0.0378050\ttotal: 217ms\tremaining: 718ms\n",
      "232:\tlearn: 0.0376639\ttotal: 217ms\tremaining: 715ms\n",
      "233:\tlearn: 0.0375888\ttotal: 217ms\tremaining: 711ms\n",
      "234:\tlearn: 0.0374742\ttotal: 218ms\tremaining: 708ms\n",
      "235:\tlearn: 0.0372864\ttotal: 218ms\tremaining: 707ms\n",
      "236:\tlearn: 0.0370932\ttotal: 219ms\tremaining: 706ms\n",
      "237:\tlearn: 0.0369868\ttotal: 220ms\tremaining: 703ms\n",
      "238:\tlearn: 0.0368464\ttotal: 220ms\tremaining: 700ms\n",
      "239:\tlearn: 0.0366666\ttotal: 220ms\tremaining: 697ms\n",
      "240:\tlearn: 0.0365958\ttotal: 221ms\tremaining: 695ms\n",
      "241:\tlearn: 0.0364712\ttotal: 221ms\tremaining: 693ms\n",
      "242:\tlearn: 0.0363406\ttotal: 222ms\tremaining: 691ms\n",
      "243:\tlearn: 0.0362423\ttotal: 222ms\tremaining: 688ms\n",
      "244:\tlearn: 0.0361888\ttotal: 223ms\tremaining: 686ms\n",
      "245:\tlearn: 0.0361267\ttotal: 223ms\tremaining: 684ms\n",
      "246:\tlearn: 0.0360756\ttotal: 224ms\tremaining: 683ms\n",
      "247:\tlearn: 0.0359204\ttotal: 224ms\tremaining: 680ms\n",
      "248:\tlearn: 0.0357694\ttotal: 225ms\tremaining: 678ms\n",
      "249:\tlearn: 0.0355644\ttotal: 225ms\tremaining: 676ms\n",
      "250:\tlearn: 0.0354402\ttotal: 226ms\tremaining: 673ms\n",
      "251:\tlearn: 0.0353925\ttotal: 226ms\tremaining: 671ms\n",
      "252:\tlearn: 0.0352916\ttotal: 227ms\tremaining: 669ms\n",
      "253:\tlearn: 0.0351544\ttotal: 227ms\tremaining: 667ms\n",
      "254:\tlearn: 0.0350065\ttotal: 227ms\tremaining: 664ms\n",
      "255:\tlearn: 0.0349194\ttotal: 228ms\tremaining: 662ms\n",
      "256:\tlearn: 0.0347916\ttotal: 228ms\tremaining: 659ms\n",
      "257:\tlearn: 0.0346713\ttotal: 228ms\tremaining: 656ms\n",
      "258:\tlearn: 0.0345802\ttotal: 229ms\tremaining: 654ms\n",
      "259:\tlearn: 0.0345356\ttotal: 229ms\tremaining: 653ms\n",
      "260:\tlearn: 0.0343673\ttotal: 231ms\tremaining: 653ms\n",
      "261:\tlearn: 0.0342969\ttotal: 232ms\tremaining: 653ms\n",
      "262:\tlearn: 0.0342176\ttotal: 233ms\tremaining: 653ms\n",
      "263:\tlearn: 0.0341425\ttotal: 234ms\tremaining: 653ms\n",
      "264:\tlearn: 0.0339860\ttotal: 235ms\tremaining: 652ms\n",
      "265:\tlearn: 0.0339156\ttotal: 236ms\tremaining: 651ms\n",
      "266:\tlearn: 0.0338465\ttotal: 236ms\tremaining: 649ms\n",
      "267:\tlearn: 0.0337547\ttotal: 237ms\tremaining: 648ms\n",
      "268:\tlearn: 0.0336426\ttotal: 238ms\tremaining: 647ms\n",
      "269:\tlearn: 0.0334973\ttotal: 239ms\tremaining: 645ms\n",
      "270:\tlearn: 0.0334347\ttotal: 239ms\tremaining: 643ms\n",
      "271:\tlearn: 0.0332860\ttotal: 240ms\tremaining: 641ms\n",
      "272:\tlearn: 0.0332238\ttotal: 240ms\tremaining: 639ms\n",
      "273:\tlearn: 0.0331264\ttotal: 241ms\tremaining: 637ms\n",
      "274:\tlearn: 0.0330091\ttotal: 244ms\tremaining: 643ms\n",
      "275:\tlearn: 0.0328895\ttotal: 246ms\tremaining: 644ms\n",
      "276:\tlearn: 0.0327917\ttotal: 246ms\tremaining: 643ms\n",
      "277:\tlearn: 0.0326743\ttotal: 248ms\tremaining: 643ms\n",
      "278:\tlearn: 0.0325428\ttotal: 248ms\tremaining: 641ms\n",
      "279:\tlearn: 0.0325030\ttotal: 249ms\tremaining: 640ms\n",
      "280:\tlearn: 0.0323794\ttotal: 250ms\tremaining: 639ms\n",
      "281:\tlearn: 0.0323183\ttotal: 251ms\tremaining: 638ms\n",
      "282:\tlearn: 0.0322463\ttotal: 251ms\tremaining: 636ms\n",
      "283:\tlearn: 0.0321698\ttotal: 252ms\tremaining: 636ms\n",
      "284:\tlearn: 0.0320803\ttotal: 253ms\tremaining: 634ms\n",
      "285:\tlearn: 0.0320269\ttotal: 253ms\tremaining: 633ms\n",
      "286:\tlearn: 0.0319411\ttotal: 254ms\tremaining: 630ms\n",
      "287:\tlearn: 0.0318880\ttotal: 255ms\tremaining: 629ms\n",
      "288:\tlearn: 0.0318310\ttotal: 255ms\tremaining: 628ms\n",
      "289:\tlearn: 0.0317361\ttotal: 256ms\tremaining: 627ms\n",
      "290:\tlearn: 0.0317031\ttotal: 259ms\tremaining: 632ms\n",
      "291:\tlearn: 0.0316506\ttotal: 260ms\tremaining: 631ms\n",
      "292:\tlearn: 0.0315698\ttotal: 261ms\tremaining: 629ms\n",
      "293:\tlearn: 0.0314905\ttotal: 261ms\tremaining: 627ms\n",
      "294:\tlearn: 0.0314416\ttotal: 262ms\tremaining: 627ms\n",
      "295:\tlearn: 0.0313668\ttotal: 263ms\tremaining: 625ms\n",
      "296:\tlearn: 0.0312660\ttotal: 264ms\tremaining: 624ms\n",
      "297:\tlearn: 0.0311768\ttotal: 264ms\tremaining: 623ms\n",
      "298:\tlearn: 0.0310850\ttotal: 266ms\tremaining: 623ms\n",
      "299:\tlearn: 0.0309990\ttotal: 266ms\tremaining: 621ms\n",
      "300:\tlearn: 0.0309466\ttotal: 267ms\tremaining: 619ms\n",
      "301:\tlearn: 0.0309139\ttotal: 267ms\tremaining: 617ms\n",
      "302:\tlearn: 0.0308753\ttotal: 268ms\tremaining: 616ms\n",
      "303:\tlearn: 0.0307977\ttotal: 270ms\tremaining: 617ms\n",
      "304:\tlearn: 0.0307241\ttotal: 271ms\tremaining: 618ms\n",
      "305:\tlearn: 0.0306324\ttotal: 273ms\tremaining: 618ms\n",
      "306:\tlearn: 0.0305886\ttotal: 274ms\tremaining: 617ms\n",
      "307:\tlearn: 0.0305393\ttotal: 274ms\tremaining: 616ms\n",
      "308:\tlearn: 0.0305049\ttotal: 274ms\tremaining: 613ms\n",
      "309:\tlearn: 0.0304309\ttotal: 276ms\tremaining: 613ms\n",
      "310:\tlearn: 0.0303553\ttotal: 277ms\tremaining: 613ms\n",
      "311:\tlearn: 0.0302708\ttotal: 279ms\tremaining: 614ms\n",
      "312:\tlearn: 0.0301722\ttotal: 281ms\tremaining: 616ms\n",
      "313:\tlearn: 0.0301260\ttotal: 282ms\tremaining: 617ms\n",
      "314:\tlearn: 0.0300316\ttotal: 284ms\tremaining: 617ms\n",
      "315:\tlearn: 0.0299412\ttotal: 285ms\tremaining: 616ms\n",
      "316:\tlearn: 0.0298584\ttotal: 286ms\tremaining: 615ms\n",
      "317:\tlearn: 0.0297908\ttotal: 286ms\tremaining: 614ms\n",
      "318:\tlearn: 0.0297121\ttotal: 288ms\tremaining: 614ms\n"
     ]
    },
    {
     "name": "stdout",
     "output_type": "stream",
     "text": [
      "319:\tlearn: 0.0296424\ttotal: 302ms\tremaining: 641ms\n",
      "320:\tlearn: 0.0295563\ttotal: 304ms\tremaining: 643ms\n",
      "321:\tlearn: 0.0294942\ttotal: 306ms\tremaining: 644ms\n",
      "322:\tlearn: 0.0294374\ttotal: 307ms\tremaining: 644ms\n",
      "323:\tlearn: 0.0293576\ttotal: 309ms\tremaining: 644ms\n",
      "324:\tlearn: 0.0292845\ttotal: 310ms\tremaining: 643ms\n",
      "325:\tlearn: 0.0292153\ttotal: 310ms\tremaining: 642ms\n",
      "326:\tlearn: 0.0291612\ttotal: 311ms\tremaining: 641ms\n",
      "327:\tlearn: 0.0290838\ttotal: 312ms\tremaining: 639ms\n",
      "328:\tlearn: 0.0290363\ttotal: 313ms\tremaining: 637ms\n",
      "329:\tlearn: 0.0289615\ttotal: 313ms\tremaining: 636ms\n",
      "330:\tlearn: 0.0289279\ttotal: 315ms\tremaining: 638ms\n",
      "331:\tlearn: 0.0288750\ttotal: 316ms\tremaining: 636ms\n",
      "332:\tlearn: 0.0288105\ttotal: 316ms\tremaining: 633ms\n",
      "333:\tlearn: 0.0287329\ttotal: 318ms\tremaining: 633ms\n",
      "334:\tlearn: 0.0286707\ttotal: 319ms\tremaining: 634ms\n",
      "335:\tlearn: 0.0286258\ttotal: 321ms\tremaining: 635ms\n",
      "336:\tlearn: 0.0285675\ttotal: 322ms\tremaining: 633ms\n",
      "337:\tlearn: 0.0285122\ttotal: 323ms\tremaining: 632ms\n",
      "338:\tlearn: 0.0284321\ttotal: 323ms\tremaining: 630ms\n",
      "339:\tlearn: 0.0283572\ttotal: 324ms\tremaining: 629ms\n",
      "340:\tlearn: 0.0283057\ttotal: 324ms\tremaining: 627ms\n",
      "341:\tlearn: 0.0282640\ttotal: 325ms\tremaining: 624ms\n",
      "342:\tlearn: 0.0282000\ttotal: 325ms\tremaining: 623ms\n",
      "343:\tlearn: 0.0281586\ttotal: 325ms\tremaining: 621ms\n",
      "344:\tlearn: 0.0280933\ttotal: 326ms\tremaining: 619ms\n",
      "345:\tlearn: 0.0280518\ttotal: 328ms\tremaining: 619ms\n",
      "346:\tlearn: 0.0279955\ttotal: 328ms\tremaining: 618ms\n",
      "347:\tlearn: 0.0279338\ttotal: 330ms\tremaining: 618ms\n",
      "348:\tlearn: 0.0279133\ttotal: 330ms\tremaining: 616ms\n",
      "349:\tlearn: 0.0278557\ttotal: 331ms\tremaining: 615ms\n",
      "350:\tlearn: 0.0278162\ttotal: 332ms\tremaining: 613ms\n",
      "351:\tlearn: 0.0277493\ttotal: 334ms\tremaining: 614ms\n",
      "352:\tlearn: 0.0277271\ttotal: 334ms\tremaining: 613ms\n",
      "353:\tlearn: 0.0276662\ttotal: 335ms\tremaining: 611ms\n",
      "354:\tlearn: 0.0276099\ttotal: 336ms\tremaining: 610ms\n",
      "355:\tlearn: 0.0275920\ttotal: 336ms\tremaining: 608ms\n",
      "356:\tlearn: 0.0275408\ttotal: 337ms\tremaining: 606ms\n",
      "357:\tlearn: 0.0274939\ttotal: 337ms\tremaining: 604ms\n",
      "358:\tlearn: 0.0274295\ttotal: 339ms\tremaining: 605ms\n",
      "359:\tlearn: 0.0273540\ttotal: 340ms\tremaining: 604ms\n",
      "360:\tlearn: 0.0273102\ttotal: 340ms\tremaining: 603ms\n",
      "361:\tlearn: 0.0272673\ttotal: 341ms\tremaining: 601ms\n",
      "362:\tlearn: 0.0272047\ttotal: 341ms\tremaining: 599ms\n",
      "363:\tlearn: 0.0271662\ttotal: 342ms\tremaining: 597ms\n",
      "364:\tlearn: 0.0271214\ttotal: 342ms\tremaining: 596ms\n",
      "365:\tlearn: 0.0270810\ttotal: 343ms\tremaining: 594ms\n",
      "366:\tlearn: 0.0270095\ttotal: 344ms\tremaining: 592ms\n",
      "367:\tlearn: 0.0269483\ttotal: 344ms\tremaining: 591ms\n",
      "368:\tlearn: 0.0268836\ttotal: 344ms\tremaining: 589ms\n",
      "369:\tlearn: 0.0268237\ttotal: 345ms\tremaining: 587ms\n",
      "370:\tlearn: 0.0267792\ttotal: 345ms\tremaining: 586ms\n",
      "371:\tlearn: 0.0267615\ttotal: 346ms\tremaining: 584ms\n",
      "372:\tlearn: 0.0267022\ttotal: 347ms\tremaining: 583ms\n",
      "373:\tlearn: 0.0266649\ttotal: 347ms\tremaining: 581ms\n",
      "374:\tlearn: 0.0266237\ttotal: 348ms\tremaining: 579ms\n",
      "375:\tlearn: 0.0265815\ttotal: 348ms\tremaining: 577ms\n",
      "376:\tlearn: 0.0265322\ttotal: 349ms\tremaining: 576ms\n",
      "377:\tlearn: 0.0264756\ttotal: 349ms\tremaining: 575ms\n",
      "378:\tlearn: 0.0264376\ttotal: 350ms\tremaining: 573ms\n",
      "379:\tlearn: 0.0263962\ttotal: 350ms\tremaining: 571ms\n",
      "380:\tlearn: 0.0263587\ttotal: 350ms\tremaining: 569ms\n",
      "381:\tlearn: 0.0263266\ttotal: 351ms\tremaining: 568ms\n",
      "382:\tlearn: 0.0262913\ttotal: 351ms\tremaining: 566ms\n",
      "383:\tlearn: 0.0262565\ttotal: 351ms\tremaining: 564ms\n",
      "384:\tlearn: 0.0261894\ttotal: 352ms\tremaining: 562ms\n",
      "385:\tlearn: 0.0261503\ttotal: 352ms\tremaining: 560ms\n",
      "386:\tlearn: 0.0261122\ttotal: 353ms\tremaining: 560ms\n",
      "387:\tlearn: 0.0260544\ttotal: 354ms\tremaining: 558ms\n",
      "388:\tlearn: 0.0260280\ttotal: 354ms\tremaining: 557ms\n",
      "389:\tlearn: 0.0259949\ttotal: 355ms\tremaining: 555ms\n",
      "390:\tlearn: 0.0259354\ttotal: 356ms\tremaining: 554ms\n",
      "391:\tlearn: 0.0259119\ttotal: 356ms\tremaining: 552ms\n",
      "392:\tlearn: 0.0258596\ttotal: 356ms\tremaining: 551ms\n",
      "393:\tlearn: 0.0258067\ttotal: 357ms\tremaining: 549ms\n",
      "394:\tlearn: 0.0257503\ttotal: 358ms\tremaining: 548ms\n",
      "395:\tlearn: 0.0257346\ttotal: 358ms\tremaining: 546ms\n",
      "396:\tlearn: 0.0257081\ttotal: 359ms\tremaining: 545ms\n",
      "397:\tlearn: 0.0256570\ttotal: 359ms\tremaining: 543ms\n",
      "398:\tlearn: 0.0256346\ttotal: 359ms\tremaining: 541ms\n",
      "399:\tlearn: 0.0256075\ttotal: 360ms\tremaining: 540ms\n",
      "400:\tlearn: 0.0255816\ttotal: 360ms\tremaining: 538ms\n",
      "401:\tlearn: 0.0255484\ttotal: 361ms\tremaining: 537ms\n",
      "402:\tlearn: 0.0255301\ttotal: 361ms\tremaining: 535ms\n",
      "403:\tlearn: 0.0254786\ttotal: 362ms\tremaining: 535ms\n",
      "404:\tlearn: 0.0254269\ttotal: 363ms\tremaining: 533ms\n",
      "405:\tlearn: 0.0253683\ttotal: 364ms\tremaining: 532ms\n",
      "406:\tlearn: 0.0253343\ttotal: 364ms\tremaining: 531ms\n",
      "407:\tlearn: 0.0252899\ttotal: 365ms\tremaining: 529ms\n",
      "408:\tlearn: 0.0252558\ttotal: 365ms\tremaining: 528ms\n",
      "409:\tlearn: 0.0252256\ttotal: 366ms\tremaining: 526ms\n",
      "410:\tlearn: 0.0251747\ttotal: 366ms\tremaining: 525ms\n",
      "411:\tlearn: 0.0251516\ttotal: 367ms\tremaining: 524ms\n",
      "412:\tlearn: 0.0250980\ttotal: 367ms\tremaining: 522ms\n",
      "413:\tlearn: 0.0250557\ttotal: 368ms\tremaining: 520ms\n",
      "414:\tlearn: 0.0250331\ttotal: 368ms\tremaining: 519ms\n",
      "415:\tlearn: 0.0250185\ttotal: 369ms\tremaining: 518ms\n",
      "416:\tlearn: 0.0249660\ttotal: 369ms\tremaining: 516ms\n",
      "417:\tlearn: 0.0249360\ttotal: 370ms\tremaining: 515ms\n",
      "418:\tlearn: 0.0248811\ttotal: 370ms\tremaining: 513ms\n",
      "419:\tlearn: 0.0248548\ttotal: 371ms\tremaining: 512ms\n",
      "420:\tlearn: 0.0248002\ttotal: 371ms\tremaining: 510ms\n",
      "421:\tlearn: 0.0247604\ttotal: 371ms\tremaining: 508ms\n",
      "422:\tlearn: 0.0247376\ttotal: 372ms\tremaining: 507ms\n",
      "423:\tlearn: 0.0246908\ttotal: 372ms\tremaining: 505ms\n",
      "424:\tlearn: 0.0246550\ttotal: 372ms\tremaining: 504ms\n",
      "425:\tlearn: 0.0246312\ttotal: 373ms\tremaining: 502ms\n",
      "426:\tlearn: 0.0245873\ttotal: 373ms\tremaining: 500ms\n",
      "427:\tlearn: 0.0245458\ttotal: 373ms\tremaining: 499ms\n",
      "428:\tlearn: 0.0245005\ttotal: 374ms\tremaining: 497ms\n",
      "429:\tlearn: 0.0244582\ttotal: 374ms\tremaining: 496ms\n",
      "430:\tlearn: 0.0244481\ttotal: 374ms\tremaining: 494ms\n",
      "431:\tlearn: 0.0244209\ttotal: 375ms\tremaining: 494ms\n",
      "432:\tlearn: 0.0243805\ttotal: 377ms\tremaining: 494ms\n",
      "433:\tlearn: 0.0243279\ttotal: 378ms\tremaining: 493ms\n",
      "434:\tlearn: 0.0242841\ttotal: 379ms\tremaining: 492ms\n",
      "435:\tlearn: 0.0242345\ttotal: 379ms\tremaining: 491ms\n",
      "436:\tlearn: 0.0242171\ttotal: 380ms\tremaining: 489ms\n",
      "437:\tlearn: 0.0241880\ttotal: 381ms\tremaining: 489ms\n",
      "438:\tlearn: 0.0241437\ttotal: 383ms\tremaining: 489ms\n",
      "439:\tlearn: 0.0241144\ttotal: 384ms\tremaining: 489ms\n",
      "440:\tlearn: 0.0240884\ttotal: 385ms\tremaining: 487ms\n",
      "441:\tlearn: 0.0240488\ttotal: 385ms\tremaining: 486ms\n",
      "442:\tlearn: 0.0240358\ttotal: 386ms\tremaining: 486ms\n",
      "443:\tlearn: 0.0240236\ttotal: 387ms\tremaining: 485ms\n",
      "444:\tlearn: 0.0239998\ttotal: 388ms\tremaining: 484ms\n",
      "445:\tlearn: 0.0239545\ttotal: 389ms\tremaining: 483ms\n",
      "446:\tlearn: 0.0239272\ttotal: 390ms\tremaining: 483ms\n",
      "447:\tlearn: 0.0238998\ttotal: 391ms\tremaining: 482ms\n",
      "448:\tlearn: 0.0238647\ttotal: 392ms\tremaining: 481ms\n",
      "449:\tlearn: 0.0238483\ttotal: 393ms\tremaining: 480ms\n",
      "450:\tlearn: 0.0238039\ttotal: 393ms\tremaining: 479ms\n",
      "451:\tlearn: 0.0237808\ttotal: 394ms\tremaining: 477ms\n",
      "452:\tlearn: 0.0237595\ttotal: 394ms\tremaining: 476ms\n",
      "453:\tlearn: 0.0237230\ttotal: 394ms\tremaining: 474ms\n",
      "454:\tlearn: 0.0236883\ttotal: 395ms\tremaining: 473ms\n",
      "455:\tlearn: 0.0236423\ttotal: 395ms\tremaining: 471ms\n",
      "456:\tlearn: 0.0235988\ttotal: 396ms\tremaining: 470ms\n",
      "457:\tlearn: 0.0235557\ttotal: 396ms\tremaining: 468ms\n",
      "458:\tlearn: 0.0235446\ttotal: 396ms\tremaining: 467ms\n",
      "459:\tlearn: 0.0235070\ttotal: 396ms\tremaining: 465ms\n",
      "460:\tlearn: 0.0234663\ttotal: 397ms\tremaining: 464ms\n",
      "461:\tlearn: 0.0234480\ttotal: 397ms\tremaining: 463ms\n",
      "462:\tlearn: 0.0234165\ttotal: 398ms\tremaining: 461ms\n",
      "463:\tlearn: 0.0233813\ttotal: 398ms\tremaining: 460ms\n",
      "464:\tlearn: 0.0233433\ttotal: 399ms\tremaining: 459ms\n",
      "465:\tlearn: 0.0233019\ttotal: 400ms\tremaining: 458ms\n",
      "466:\tlearn: 0.0232740\ttotal: 400ms\tremaining: 457ms\n",
      "467:\tlearn: 0.0232335\ttotal: 401ms\tremaining: 455ms\n",
      "468:\tlearn: 0.0231923\ttotal: 401ms\tremaining: 454ms\n",
      "469:\tlearn: 0.0231823\ttotal: 402ms\tremaining: 453ms\n",
      "470:\tlearn: 0.0231521\ttotal: 403ms\tremaining: 452ms\n",
      "471:\tlearn: 0.0231029\ttotal: 403ms\tremaining: 451ms\n",
      "472:\tlearn: 0.0230841\ttotal: 404ms\tremaining: 450ms\n",
      "473:\tlearn: 0.0230406\ttotal: 404ms\tremaining: 448ms\n",
      "474:\tlearn: 0.0230203\ttotal: 404ms\tremaining: 447ms\n",
      "475:\tlearn: 0.0229942\ttotal: 405ms\tremaining: 446ms\n",
      "476:\tlearn: 0.0229624\ttotal: 405ms\tremaining: 444ms\n",
      "477:\tlearn: 0.0229321\ttotal: 405ms\tremaining: 443ms\n",
      "478:\tlearn: 0.0229075\ttotal: 406ms\tremaining: 441ms\n",
      "479:\tlearn: 0.0228933\ttotal: 406ms\tremaining: 440ms\n",
      "480:\tlearn: 0.0228645\ttotal: 406ms\tremaining: 438ms\n",
      "481:\tlearn: 0.0228294\ttotal: 407ms\tremaining: 437ms\n",
      "482:\tlearn: 0.0228037\ttotal: 407ms\tremaining: 436ms\n",
      "483:\tlearn: 0.0227869\ttotal: 408ms\tremaining: 434ms\n",
      "484:\tlearn: 0.0227452\ttotal: 408ms\tremaining: 433ms\n",
      "485:\tlearn: 0.0227288\ttotal: 409ms\tremaining: 432ms\n",
      "486:\tlearn: 0.0227114\ttotal: 409ms\tremaining: 431ms\n",
      "487:\tlearn: 0.0226821\ttotal: 410ms\tremaining: 430ms\n",
      "488:\tlearn: 0.0226726\ttotal: 411ms\tremaining: 429ms\n",
      "489:\tlearn: 0.0226357\ttotal: 411ms\tremaining: 428ms\n",
      "490:\tlearn: 0.0226028\ttotal: 411ms\tremaining: 426ms\n",
      "491:\tlearn: 0.0225685\ttotal: 413ms\tremaining: 427ms\n",
      "492:\tlearn: 0.0225338\ttotal: 414ms\tremaining: 426ms\n",
      "493:\tlearn: 0.0225059\ttotal: 415ms\tremaining: 425ms\n",
      "494:\tlearn: 0.0224601\ttotal: 416ms\tremaining: 425ms\n",
      "495:\tlearn: 0.0224265\ttotal: 417ms\tremaining: 423ms\n",
      "496:\tlearn: 0.0223935\ttotal: 417ms\tremaining: 422ms\n",
      "497:\tlearn: 0.0223639\ttotal: 418ms\tremaining: 421ms\n",
      "498:\tlearn: 0.0223310\ttotal: 418ms\tremaining: 420ms\n",
      "499:\tlearn: 0.0223041\ttotal: 419ms\tremaining: 419ms\n",
      "500:\tlearn: 0.0222675\ttotal: 419ms\tremaining: 418ms\n",
      "501:\tlearn: 0.0222468\ttotal: 420ms\tremaining: 417ms\n",
      "502:\tlearn: 0.0222139\ttotal: 420ms\tremaining: 415ms\n",
      "503:\tlearn: 0.0221826\ttotal: 421ms\tremaining: 414ms\n",
      "504:\tlearn: 0.0221532\ttotal: 423ms\tremaining: 415ms\n",
      "505:\tlearn: 0.0221182\ttotal: 424ms\tremaining: 414ms\n",
      "506:\tlearn: 0.0220775\ttotal: 426ms\tremaining: 414ms\n",
      "507:\tlearn: 0.0220691\ttotal: 427ms\tremaining: 413ms\n",
      "508:\tlearn: 0.0220547\ttotal: 428ms\tremaining: 413ms\n",
      "509:\tlearn: 0.0220340\ttotal: 428ms\tremaining: 412ms\n",
      "510:\tlearn: 0.0220186\ttotal: 429ms\tremaining: 410ms\n",
      "511:\tlearn: 0.0220076\ttotal: 430ms\tremaining: 409ms\n",
      "512:\tlearn: 0.0219675\ttotal: 430ms\tremaining: 408ms\n",
      "513:\tlearn: 0.0219352\ttotal: 431ms\tremaining: 408ms\n",
      "514:\tlearn: 0.0219276\ttotal: 432ms\tremaining: 407ms\n",
      "515:\tlearn: 0.0218869\ttotal: 432ms\tremaining: 405ms\n",
      "516:\tlearn: 0.0218566\ttotal: 433ms\tremaining: 404ms\n",
      "517:\tlearn: 0.0218401\ttotal: 433ms\tremaining: 403ms\n",
      "518:\tlearn: 0.0218175\ttotal: 434ms\tremaining: 402ms\n",
      "519:\tlearn: 0.0217831\ttotal: 434ms\tremaining: 401ms\n",
      "520:\tlearn: 0.0217618\ttotal: 435ms\tremaining: 400ms\n",
      "521:\tlearn: 0.0217434\ttotal: 435ms\tremaining: 398ms\n",
      "522:\tlearn: 0.0217269\ttotal: 435ms\tremaining: 397ms\n",
      "523:\tlearn: 0.0217148\ttotal: 436ms\tremaining: 396ms\n",
      "524:\tlearn: 0.0217012\ttotal: 436ms\tremaining: 395ms\n",
      "525:\tlearn: 0.0216601\ttotal: 437ms\tremaining: 394ms\n",
      "526:\tlearn: 0.0216287\ttotal: 437ms\tremaining: 392ms\n",
      "527:\tlearn: 0.0215987\ttotal: 437ms\tremaining: 391ms\n",
      "528:\tlearn: 0.0215554\ttotal: 438ms\tremaining: 390ms\n",
      "529:\tlearn: 0.0215440\ttotal: 438ms\tremaining: 389ms\n",
      "530:\tlearn: 0.0215258\ttotal: 439ms\tremaining: 387ms\n",
      "531:\tlearn: 0.0214918\ttotal: 439ms\tremaining: 386ms\n",
      "532:\tlearn: 0.0214585\ttotal: 439ms\tremaining: 385ms\n",
      "533:\tlearn: 0.0214376\ttotal: 439ms\tremaining: 384ms\n",
      "534:\tlearn: 0.0214080\ttotal: 440ms\tremaining: 382ms\n",
      "535:\tlearn: 0.0213950\ttotal: 440ms\tremaining: 381ms\n",
      "536:\tlearn: 0.0213578\ttotal: 440ms\tremaining: 380ms\n",
      "537:\tlearn: 0.0213340\ttotal: 441ms\tremaining: 379ms\n",
      "538:\tlearn: 0.0212959\ttotal: 442ms\tremaining: 378ms\n",
      "539:\tlearn: 0.0212554\ttotal: 442ms\tremaining: 377ms\n"
     ]
    },
    {
     "name": "stdout",
     "output_type": "stream",
     "text": [
      "540:\tlearn: 0.0212187\ttotal: 443ms\tremaining: 376ms\n",
      "541:\tlearn: 0.0211869\ttotal: 444ms\tremaining: 375ms\n",
      "542:\tlearn: 0.0211615\ttotal: 445ms\tremaining: 374ms\n",
      "543:\tlearn: 0.0211517\ttotal: 445ms\tremaining: 373ms\n",
      "544:\tlearn: 0.0211215\ttotal: 446ms\tremaining: 372ms\n",
      "545:\tlearn: 0.0210935\ttotal: 447ms\tremaining: 372ms\n",
      "546:\tlearn: 0.0210779\ttotal: 449ms\tremaining: 371ms\n",
      "547:\tlearn: 0.0210433\ttotal: 449ms\tremaining: 370ms\n",
      "548:\tlearn: 0.0210311\ttotal: 450ms\tremaining: 369ms\n",
      "549:\tlearn: 0.0210235\ttotal: 450ms\tremaining: 368ms\n",
      "550:\tlearn: 0.0210031\ttotal: 450ms\tremaining: 367ms\n",
      "551:\tlearn: 0.0209967\ttotal: 451ms\tremaining: 366ms\n",
      "552:\tlearn: 0.0209818\ttotal: 452ms\tremaining: 365ms\n",
      "553:\tlearn: 0.0209567\ttotal: 453ms\tremaining: 365ms\n",
      "554:\tlearn: 0.0209486\ttotal: 454ms\tremaining: 364ms\n",
      "555:\tlearn: 0.0209397\ttotal: 455ms\tremaining: 363ms\n",
      "556:\tlearn: 0.0209056\ttotal: 455ms\tremaining: 362ms\n",
      "557:\tlearn: 0.0208843\ttotal: 456ms\tremaining: 362ms\n",
      "558:\tlearn: 0.0208779\ttotal: 458ms\tremaining: 362ms\n",
      "559:\tlearn: 0.0208567\ttotal: 460ms\tremaining: 362ms\n",
      "560:\tlearn: 0.0208478\ttotal: 462ms\tremaining: 361ms\n",
      "561:\tlearn: 0.0208091\ttotal: 463ms\tremaining: 360ms\n",
      "562:\tlearn: 0.0207998\ttotal: 463ms\tremaining: 359ms\n",
      "563:\tlearn: 0.0207828\ttotal: 463ms\tremaining: 358ms\n",
      "564:\tlearn: 0.0207502\ttotal: 464ms\tremaining: 357ms\n",
      "565:\tlearn: 0.0207286\ttotal: 464ms\tremaining: 356ms\n",
      "566:\tlearn: 0.0206992\ttotal: 465ms\tremaining: 355ms\n",
      "567:\tlearn: 0.0206795\ttotal: 465ms\tremaining: 354ms\n",
      "568:\tlearn: 0.0206630\ttotal: 466ms\tremaining: 353ms\n",
      "569:\tlearn: 0.0206387\ttotal: 466ms\tremaining: 352ms\n",
      "570:\tlearn: 0.0206204\ttotal: 467ms\tremaining: 351ms\n",
      "571:\tlearn: 0.0206026\ttotal: 467ms\tremaining: 349ms\n",
      "572:\tlearn: 0.0205871\ttotal: 467ms\tremaining: 348ms\n",
      "573:\tlearn: 0.0205500\ttotal: 468ms\tremaining: 347ms\n",
      "574:\tlearn: 0.0205385\ttotal: 468ms\tremaining: 346ms\n",
      "575:\tlearn: 0.0205195\ttotal: 469ms\tremaining: 345ms\n",
      "576:\tlearn: 0.0205085\ttotal: 470ms\tremaining: 344ms\n",
      "577:\tlearn: 0.0204994\ttotal: 470ms\tremaining: 343ms\n",
      "578:\tlearn: 0.0204674\ttotal: 471ms\tremaining: 342ms\n",
      "579:\tlearn: 0.0204528\ttotal: 471ms\tremaining: 341ms\n",
      "580:\tlearn: 0.0204231\ttotal: 472ms\tremaining: 340ms\n",
      "581:\tlearn: 0.0203891\ttotal: 473ms\tremaining: 339ms\n",
      "582:\tlearn: 0.0203537\ttotal: 473ms\tremaining: 338ms\n",
      "583:\tlearn: 0.0203188\ttotal: 474ms\tremaining: 338ms\n",
      "584:\tlearn: 0.0202834\ttotal: 474ms\tremaining: 337ms\n",
      "585:\tlearn: 0.0202613\ttotal: 475ms\tremaining: 335ms\n",
      "586:\tlearn: 0.0202374\ttotal: 475ms\tremaining: 334ms\n",
      "587:\tlearn: 0.0202220\ttotal: 476ms\tremaining: 333ms\n",
      "588:\tlearn: 0.0202079\ttotal: 476ms\tremaining: 332ms\n",
      "589:\tlearn: 0.0201820\ttotal: 477ms\tremaining: 332ms\n",
      "590:\tlearn: 0.0201746\ttotal: 478ms\tremaining: 331ms\n",
      "591:\tlearn: 0.0201308\ttotal: 478ms\tremaining: 330ms\n",
      "592:\tlearn: 0.0201085\ttotal: 479ms\tremaining: 329ms\n",
      "593:\tlearn: 0.0200873\ttotal: 480ms\tremaining: 328ms\n",
      "594:\tlearn: 0.0200587\ttotal: 482ms\tremaining: 328ms\n",
      "595:\tlearn: 0.0200210\ttotal: 483ms\tremaining: 327ms\n",
      "596:\tlearn: 0.0199965\ttotal: 484ms\tremaining: 327ms\n",
      "597:\tlearn: 0.0199804\ttotal: 486ms\tremaining: 327ms\n",
      "598:\tlearn: 0.0199744\ttotal: 486ms\tremaining: 326ms\n",
      "599:\tlearn: 0.0199696\ttotal: 487ms\tremaining: 324ms\n",
      "600:\tlearn: 0.0199592\ttotal: 487ms\tremaining: 323ms\n",
      "601:\tlearn: 0.0199282\ttotal: 488ms\tremaining: 322ms\n",
      "602:\tlearn: 0.0199125\ttotal: 488ms\tremaining: 321ms\n",
      "603:\tlearn: 0.0198957\ttotal: 489ms\tremaining: 320ms\n",
      "604:\tlearn: 0.0198807\ttotal: 489ms\tremaining: 319ms\n",
      "605:\tlearn: 0.0198604\ttotal: 492ms\tremaining: 320ms\n",
      "606:\tlearn: 0.0198181\ttotal: 493ms\tremaining: 319ms\n",
      "607:\tlearn: 0.0197953\ttotal: 493ms\tremaining: 318ms\n",
      "608:\tlearn: 0.0197716\ttotal: 495ms\tremaining: 318ms\n",
      "609:\tlearn: 0.0197590\ttotal: 496ms\tremaining: 317ms\n",
      "610:\tlearn: 0.0197443\ttotal: 497ms\tremaining: 316ms\n",
      "611:\tlearn: 0.0197366\ttotal: 498ms\tremaining: 316ms\n",
      "612:\tlearn: 0.0197071\ttotal: 499ms\tremaining: 315ms\n",
      "613:\tlearn: 0.0196917\ttotal: 500ms\tremaining: 314ms\n",
      "614:\tlearn: 0.0196657\ttotal: 501ms\tremaining: 314ms\n",
      "615:\tlearn: 0.0196537\ttotal: 502ms\tremaining: 313ms\n",
      "616:\tlearn: 0.0196258\ttotal: 503ms\tremaining: 312ms\n",
      "617:\tlearn: 0.0196141\ttotal: 504ms\tremaining: 311ms\n",
      "618:\tlearn: 0.0195874\ttotal: 504ms\tremaining: 310ms\n",
      "619:\tlearn: 0.0195687\ttotal: 504ms\tremaining: 309ms\n",
      "620:\tlearn: 0.0195573\ttotal: 505ms\tremaining: 308ms\n",
      "621:\tlearn: 0.0195309\ttotal: 506ms\tremaining: 308ms\n",
      "622:\tlearn: 0.0195196\ttotal: 507ms\tremaining: 307ms\n",
      "623:\tlearn: 0.0194914\ttotal: 508ms\tremaining: 306ms\n",
      "624:\tlearn: 0.0194696\ttotal: 509ms\tremaining: 306ms\n",
      "625:\tlearn: 0.0194624\ttotal: 510ms\tremaining: 305ms\n",
      "626:\tlearn: 0.0194520\ttotal: 510ms\tremaining: 304ms\n",
      "627:\tlearn: 0.0194339\ttotal: 511ms\tremaining: 303ms\n",
      "628:\tlearn: 0.0194091\ttotal: 514ms\tremaining: 303ms\n",
      "629:\tlearn: 0.0194006\ttotal: 514ms\tremaining: 302ms\n",
      "630:\tlearn: 0.0193781\ttotal: 515ms\tremaining: 301ms\n",
      "631:\tlearn: 0.0193569\ttotal: 515ms\tremaining: 300ms\n",
      "632:\tlearn: 0.0193260\ttotal: 516ms\tremaining: 299ms\n",
      "633:\tlearn: 0.0193147\ttotal: 517ms\tremaining: 299ms\n",
      "634:\tlearn: 0.0192882\ttotal: 519ms\tremaining: 299ms\n",
      "635:\tlearn: 0.0192703\ttotal: 522ms\tremaining: 299ms\n",
      "636:\tlearn: 0.0192636\ttotal: 523ms\tremaining: 298ms\n",
      "637:\tlearn: 0.0192571\ttotal: 523ms\tremaining: 297ms\n",
      "638:\tlearn: 0.0192319\ttotal: 524ms\tremaining: 296ms\n",
      "639:\tlearn: 0.0192010\ttotal: 525ms\tremaining: 295ms\n",
      "640:\tlearn: 0.0191905\ttotal: 526ms\tremaining: 295ms\n",
      "641:\tlearn: 0.0191551\ttotal: 527ms\tremaining: 294ms\n",
      "642:\tlearn: 0.0191385\ttotal: 528ms\tremaining: 293ms\n",
      "643:\tlearn: 0.0191117\ttotal: 529ms\tremaining: 292ms\n",
      "644:\tlearn: 0.0190874\ttotal: 529ms\tremaining: 291ms\n",
      "645:\tlearn: 0.0190743\ttotal: 529ms\tremaining: 290ms\n",
      "646:\tlearn: 0.0190677\ttotal: 531ms\tremaining: 289ms\n",
      "647:\tlearn: 0.0190280\ttotal: 531ms\tremaining: 289ms\n",
      "648:\tlearn: 0.0190120\ttotal: 533ms\tremaining: 288ms\n",
      "649:\tlearn: 0.0189983\ttotal: 533ms\tremaining: 287ms\n",
      "650:\tlearn: 0.0189721\ttotal: 534ms\tremaining: 286ms\n",
      "651:\tlearn: 0.0189622\ttotal: 534ms\tremaining: 285ms\n",
      "652:\tlearn: 0.0189526\ttotal: 535ms\tremaining: 284ms\n",
      "653:\tlearn: 0.0189277\ttotal: 535ms\tremaining: 283ms\n",
      "654:\tlearn: 0.0189108\ttotal: 536ms\tremaining: 282ms\n",
      "655:\tlearn: 0.0189037\ttotal: 536ms\tremaining: 281ms\n",
      "656:\tlearn: 0.0188787\ttotal: 537ms\tremaining: 280ms\n",
      "657:\tlearn: 0.0188652\ttotal: 537ms\tremaining: 279ms\n",
      "658:\tlearn: 0.0188364\ttotal: 538ms\tremaining: 278ms\n",
      "659:\tlearn: 0.0188260\ttotal: 538ms\tremaining: 277ms\n",
      "660:\tlearn: 0.0188032\ttotal: 540ms\tremaining: 277ms\n",
      "661:\tlearn: 0.0187956\ttotal: 540ms\tremaining: 276ms\n",
      "662:\tlearn: 0.0187762\ttotal: 541ms\tremaining: 275ms\n",
      "663:\tlearn: 0.0187643\ttotal: 543ms\tremaining: 275ms\n",
      "664:\tlearn: 0.0187539\ttotal: 544ms\tremaining: 274ms\n",
      "665:\tlearn: 0.0187264\ttotal: 544ms\tremaining: 273ms\n",
      "666:\tlearn: 0.0187085\ttotal: 545ms\tremaining: 272ms\n",
      "667:\tlearn: 0.0186832\ttotal: 545ms\tremaining: 271ms\n",
      "668:\tlearn: 0.0186647\ttotal: 545ms\tremaining: 270ms\n",
      "669:\tlearn: 0.0186330\ttotal: 546ms\tremaining: 269ms\n",
      "670:\tlearn: 0.0186222\ttotal: 546ms\tremaining: 268ms\n",
      "671:\tlearn: 0.0186156\ttotal: 548ms\tremaining: 268ms\n",
      "672:\tlearn: 0.0185901\ttotal: 554ms\tremaining: 269ms\n",
      "673:\tlearn: 0.0185828\ttotal: 555ms\tremaining: 268ms\n",
      "674:\tlearn: 0.0185748\ttotal: 556ms\tremaining: 268ms\n",
      "675:\tlearn: 0.0185515\ttotal: 557ms\tremaining: 267ms\n",
      "676:\tlearn: 0.0185249\ttotal: 558ms\tremaining: 266ms\n",
      "677:\tlearn: 0.0185039\ttotal: 559ms\tremaining: 265ms\n",
      "678:\tlearn: 0.0184965\ttotal: 559ms\tremaining: 264ms\n",
      "679:\tlearn: 0.0184726\ttotal: 560ms\tremaining: 263ms\n",
      "680:\tlearn: 0.0184476\ttotal: 560ms\tremaining: 263ms\n",
      "681:\tlearn: 0.0184316\ttotal: 561ms\tremaining: 262ms\n",
      "682:\tlearn: 0.0184270\ttotal: 561ms\tremaining: 261ms\n",
      "683:\tlearn: 0.0184077\ttotal: 562ms\tremaining: 260ms\n",
      "684:\tlearn: 0.0183883\ttotal: 563ms\tremaining: 259ms\n",
      "685:\tlearn: 0.0183573\ttotal: 564ms\tremaining: 258ms\n",
      "686:\tlearn: 0.0183284\ttotal: 564ms\tremaining: 257ms\n",
      "687:\tlearn: 0.0183027\ttotal: 565ms\tremaining: 256ms\n",
      "688:\tlearn: 0.0182667\ttotal: 567ms\tremaining: 256ms\n",
      "689:\tlearn: 0.0182608\ttotal: 567ms\tremaining: 255ms\n",
      "690:\tlearn: 0.0182555\ttotal: 567ms\tremaining: 254ms\n",
      "691:\tlearn: 0.0182331\ttotal: 568ms\tremaining: 253ms\n"
     ]
    },
    {
     "name": "stdout",
     "output_type": "stream",
     "text": [
      "692:\tlearn: 0.0182112\ttotal: 571ms\tremaining: 253ms\n",
      "693:\tlearn: 0.0181868\ttotal: 576ms\tremaining: 254ms\n",
      "694:\tlearn: 0.0181631\ttotal: 577ms\tremaining: 253ms\n",
      "695:\tlearn: 0.0181565\ttotal: 578ms\tremaining: 252ms\n",
      "696:\tlearn: 0.0181442\ttotal: 579ms\tremaining: 252ms\n",
      "697:\tlearn: 0.0181214\ttotal: 581ms\tremaining: 251ms\n",
      "698:\tlearn: 0.0180980\ttotal: 584ms\tremaining: 251ms\n",
      "699:\tlearn: 0.0180761\ttotal: 585ms\tremaining: 251ms\n",
      "700:\tlearn: 0.0180719\ttotal: 587ms\tremaining: 250ms\n",
      "701:\tlearn: 0.0180666\ttotal: 590ms\tremaining: 250ms\n",
      "702:\tlearn: 0.0180486\ttotal: 594ms\tremaining: 251ms\n",
      "703:\tlearn: 0.0180367\ttotal: 595ms\tremaining: 250ms\n",
      "704:\tlearn: 0.0180281\ttotal: 607ms\tremaining: 254ms\n",
      "705:\tlearn: 0.0180231\ttotal: 607ms\tremaining: 253ms\n",
      "706:\tlearn: 0.0180017\ttotal: 609ms\tremaining: 252ms\n",
      "707:\tlearn: 0.0179811\ttotal: 610ms\tremaining: 251ms\n",
      "708:\tlearn: 0.0179635\ttotal: 610ms\tremaining: 250ms\n",
      "709:\tlearn: 0.0179575\ttotal: 611ms\tremaining: 249ms\n",
      "710:\tlearn: 0.0179380\ttotal: 612ms\tremaining: 249ms\n",
      "711:\tlearn: 0.0179233\ttotal: 613ms\tremaining: 248ms\n",
      "712:\tlearn: 0.0179002\ttotal: 614ms\tremaining: 247ms\n",
      "713:\tlearn: 0.0178868\ttotal: 615ms\tremaining: 246ms\n",
      "714:\tlearn: 0.0178760\ttotal: 617ms\tremaining: 246ms\n",
      "715:\tlearn: 0.0178659\ttotal: 620ms\tremaining: 246ms\n",
      "716:\tlearn: 0.0178466\ttotal: 631ms\tremaining: 249ms\n",
      "717:\tlearn: 0.0178275\ttotal: 637ms\tremaining: 250ms\n",
      "718:\tlearn: 0.0178194\ttotal: 638ms\tremaining: 249ms\n",
      "719:\tlearn: 0.0177967\ttotal: 651ms\tremaining: 253ms\n",
      "720:\tlearn: 0.0177786\ttotal: 652ms\tremaining: 252ms\n",
      "721:\tlearn: 0.0177594\ttotal: 653ms\tremaining: 251ms\n",
      "722:\tlearn: 0.0177401\ttotal: 655ms\tremaining: 251ms\n",
      "723:\tlearn: 0.0177186\ttotal: 659ms\tremaining: 251ms\n",
      "724:\tlearn: 0.0176992\ttotal: 661ms\tremaining: 251ms\n",
      "725:\tlearn: 0.0176934\ttotal: 664ms\tremaining: 251ms\n",
      "726:\tlearn: 0.0176724\ttotal: 664ms\tremaining: 250ms\n",
      "727:\tlearn: 0.0176652\ttotal: 667ms\tremaining: 249ms\n",
      "728:\tlearn: 0.0176598\ttotal: 668ms\tremaining: 248ms\n",
      "729:\tlearn: 0.0176561\ttotal: 668ms\tremaining: 247ms\n",
      "730:\tlearn: 0.0176349\ttotal: 669ms\tremaining: 246ms\n",
      "731:\tlearn: 0.0176154\ttotal: 669ms\tremaining: 245ms\n",
      "732:\tlearn: 0.0175941\ttotal: 670ms\tremaining: 244ms\n",
      "733:\tlearn: 0.0175868\ttotal: 670ms\tremaining: 243ms\n",
      "734:\tlearn: 0.0175736\ttotal: 673ms\tremaining: 242ms\n",
      "735:\tlearn: 0.0175530\ttotal: 673ms\tremaining: 241ms\n",
      "736:\tlearn: 0.0175476\ttotal: 674ms\tremaining: 240ms\n",
      "737:\tlearn: 0.0175296\ttotal: 676ms\tremaining: 240ms\n",
      "738:\tlearn: 0.0175254\ttotal: 677ms\tremaining: 239ms\n",
      "739:\tlearn: 0.0175114\ttotal: 677ms\tremaining: 238ms\n",
      "740:\tlearn: 0.0174942\ttotal: 678ms\tremaining: 237ms\n",
      "741:\tlearn: 0.0174774\ttotal: 679ms\tremaining: 236ms\n",
      "742:\tlearn: 0.0174522\ttotal: 680ms\tremaining: 235ms\n",
      "743:\tlearn: 0.0174477\ttotal: 681ms\tremaining: 234ms\n",
      "744:\tlearn: 0.0174341\ttotal: 682ms\tremaining: 234ms\n",
      "745:\tlearn: 0.0174082\ttotal: 683ms\tremaining: 232ms\n",
      "746:\tlearn: 0.0174037\ttotal: 683ms\tremaining: 231ms\n",
      "747:\tlearn: 0.0173960\ttotal: 684ms\tremaining: 230ms\n"
     ]
    },
    {
     "name": "stdout",
     "output_type": "stream",
     "text": [
      "748:\tlearn: 0.0173787\ttotal: 687ms\tremaining: 230ms\n",
      "749:\tlearn: 0.0173647\ttotal: 687ms\tremaining: 229ms\n",
      "750:\tlearn: 0.0173431\ttotal: 688ms\tremaining: 228ms\n",
      "751:\tlearn: 0.0173382\ttotal: 688ms\tremaining: 227ms\n",
      "752:\tlearn: 0.0173182\ttotal: 691ms\tremaining: 227ms\n",
      "753:\tlearn: 0.0173145\ttotal: 692ms\tremaining: 226ms\n",
      "754:\tlearn: 0.0173057\ttotal: 694ms\tremaining: 225ms\n",
      "755:\tlearn: 0.0172860\ttotal: 694ms\tremaining: 224ms\n",
      "756:\tlearn: 0.0172573\ttotal: 697ms\tremaining: 224ms\n",
      "757:\tlearn: 0.0172401\ttotal: 697ms\tremaining: 223ms\n",
      "758:\tlearn: 0.0172184\ttotal: 698ms\tremaining: 221ms\n",
      "759:\tlearn: 0.0172108\ttotal: 698ms\tremaining: 220ms\n",
      "760:\tlearn: 0.0171834\ttotal: 699ms\tremaining: 220ms\n",
      "761:\tlearn: 0.0171760\ttotal: 700ms\tremaining: 219ms\n",
      "762:\tlearn: 0.0171594\ttotal: 701ms\tremaining: 218ms\n",
      "763:\tlearn: 0.0171403\ttotal: 702ms\tremaining: 217ms\n",
      "764:\tlearn: 0.0171331\ttotal: 703ms\tremaining: 216ms\n",
      "765:\tlearn: 0.0171116\ttotal: 704ms\tremaining: 215ms\n",
      "766:\tlearn: 0.0170963\ttotal: 704ms\tremaining: 214ms\n",
      "767:\tlearn: 0.0170798\ttotal: 706ms\tremaining: 213ms\n",
      "768:\tlearn: 0.0170599\ttotal: 707ms\tremaining: 212ms\n",
      "769:\tlearn: 0.0170421\ttotal: 707ms\tremaining: 211ms\n",
      "770:\tlearn: 0.0170218\ttotal: 708ms\tremaining: 210ms\n",
      "771:\tlearn: 0.0170164\ttotal: 708ms\tremaining: 209ms\n",
      "772:\tlearn: 0.0169985\ttotal: 714ms\tremaining: 210ms\n",
      "773:\tlearn: 0.0169818\ttotal: 715ms\tremaining: 209ms\n",
      "774:\tlearn: 0.0169676\ttotal: 716ms\tremaining: 208ms\n",
      "775:\tlearn: 0.0169542\ttotal: 717ms\tremaining: 207ms\n",
      "776:\tlearn: 0.0169374\ttotal: 718ms\tremaining: 206ms\n",
      "777:\tlearn: 0.0169331\ttotal: 719ms\tremaining: 205ms\n",
      "778:\tlearn: 0.0169241\ttotal: 719ms\tremaining: 204ms\n",
      "779:\tlearn: 0.0168969\ttotal: 720ms\tremaining: 203ms\n",
      "780:\tlearn: 0.0168808\ttotal: 723ms\tremaining: 203ms\n",
      "781:\tlearn: 0.0168673\ttotal: 724ms\tremaining: 202ms\n",
      "782:\tlearn: 0.0168468\ttotal: 726ms\tremaining: 201ms\n",
      "783:\tlearn: 0.0168270\ttotal: 727ms\tremaining: 200ms\n",
      "784:\tlearn: 0.0168126\ttotal: 727ms\tremaining: 199ms\n",
      "785:\tlearn: 0.0167941\ttotal: 729ms\tremaining: 198ms\n",
      "786:\tlearn: 0.0167747\ttotal: 731ms\tremaining: 198ms\n",
      "787:\tlearn: 0.0167631\ttotal: 732ms\tremaining: 197ms\n",
      "788:\tlearn: 0.0167473\ttotal: 734ms\tremaining: 196ms\n",
      "789:\tlearn: 0.0167287\ttotal: 735ms\tremaining: 195ms\n",
      "790:\tlearn: 0.0167138\ttotal: 736ms\tremaining: 195ms\n",
      "791:\tlearn: 0.0167036\ttotal: 737ms\tremaining: 194ms\n",
      "792:\tlearn: 0.0166850\ttotal: 738ms\tremaining: 193ms\n",
      "793:\tlearn: 0.0166581\ttotal: 738ms\tremaining: 192ms\n",
      "794:\tlearn: 0.0166426\ttotal: 739ms\tremaining: 191ms\n",
      "795:\tlearn: 0.0166209\ttotal: 740ms\tremaining: 190ms\n",
      "796:\tlearn: 0.0166003\ttotal: 740ms\tremaining: 189ms\n",
      "797:\tlearn: 0.0165815\ttotal: 741ms\tremaining: 188ms\n",
      "798:\tlearn: 0.0165663\ttotal: 742ms\tremaining: 187ms\n",
      "799:\tlearn: 0.0165596\ttotal: 742ms\tremaining: 186ms\n",
      "800:\tlearn: 0.0165364\ttotal: 743ms\tremaining: 185ms\n",
      "801:\tlearn: 0.0165246\ttotal: 743ms\tremaining: 183ms\n",
      "802:\tlearn: 0.0165117\ttotal: 744ms\tremaining: 182ms\n",
      "803:\tlearn: 0.0164846\ttotal: 744ms\tremaining: 181ms\n",
      "804:\tlearn: 0.0164668\ttotal: 745ms\tremaining: 180ms\n",
      "805:\tlearn: 0.0164534\ttotal: 745ms\tremaining: 179ms\n",
      "806:\tlearn: 0.0164491\ttotal: 746ms\tremaining: 178ms\n",
      "807:\tlearn: 0.0164407\ttotal: 746ms\tremaining: 177ms\n",
      "808:\tlearn: 0.0164292\ttotal: 747ms\tremaining: 176ms\n",
      "809:\tlearn: 0.0164162\ttotal: 747ms\tremaining: 175ms\n",
      "810:\tlearn: 0.0164025\ttotal: 747ms\tremaining: 174ms\n",
      "811:\tlearn: 0.0163857\ttotal: 748ms\tremaining: 173ms\n",
      "812:\tlearn: 0.0163726\ttotal: 748ms\tremaining: 172ms\n",
      "813:\tlearn: 0.0163553\ttotal: 748ms\tremaining: 171ms\n",
      "814:\tlearn: 0.0163439\ttotal: 749ms\tremaining: 170ms\n",
      "815:\tlearn: 0.0163344\ttotal: 750ms\tremaining: 169ms\n",
      "816:\tlearn: 0.0163246\ttotal: 750ms\tremaining: 168ms\n",
      "817:\tlearn: 0.0163136\ttotal: 751ms\tremaining: 167ms\n",
      "818:\tlearn: 0.0162814\ttotal: 751ms\tremaining: 166ms\n",
      "819:\tlearn: 0.0162669\ttotal: 751ms\tremaining: 165ms\n",
      "820:\tlearn: 0.0162632\ttotal: 752ms\tremaining: 164ms\n",
      "821:\tlearn: 0.0162473\ttotal: 753ms\tremaining: 163ms\n",
      "822:\tlearn: 0.0162254\ttotal: 756ms\tremaining: 163ms\n",
      "823:\tlearn: 0.0162163\ttotal: 758ms\tremaining: 162ms\n",
      "824:\tlearn: 0.0162080\ttotal: 759ms\tremaining: 161ms\n",
      "825:\tlearn: 0.0161956\ttotal: 762ms\tremaining: 161ms\n",
      "826:\tlearn: 0.0161827\ttotal: 764ms\tremaining: 160ms\n",
      "827:\tlearn: 0.0161785\ttotal: 764ms\tremaining: 159ms\n",
      "828:\tlearn: 0.0161712\ttotal: 765ms\tremaining: 158ms\n",
      "829:\tlearn: 0.0161569\ttotal: 767ms\tremaining: 157ms\n",
      "830:\tlearn: 0.0161376\ttotal: 767ms\tremaining: 156ms\n",
      "831:\tlearn: 0.0161116\ttotal: 768ms\tremaining: 155ms\n",
      "832:\tlearn: 0.0161011\ttotal: 769ms\tremaining: 154ms\n",
      "833:\tlearn: 0.0160984\ttotal: 771ms\tremaining: 153ms\n",
      "834:\tlearn: 0.0160849\ttotal: 773ms\tremaining: 153ms\n",
      "835:\tlearn: 0.0160778\ttotal: 773ms\tremaining: 152ms\n",
      "836:\tlearn: 0.0160465\ttotal: 774ms\tremaining: 151ms\n",
      "837:\tlearn: 0.0160260\ttotal: 775ms\tremaining: 150ms\n",
      "838:\tlearn: 0.0160116\ttotal: 775ms\tremaining: 149ms\n",
      "839:\tlearn: 0.0160011\ttotal: 776ms\tremaining: 148ms\n",
      "840:\tlearn: 0.0159799\ttotal: 776ms\tremaining: 147ms\n",
      "841:\tlearn: 0.0159555\ttotal: 777ms\tremaining: 146ms\n",
      "842:\tlearn: 0.0159441\ttotal: 777ms\tremaining: 145ms\n",
      "843:\tlearn: 0.0159300\ttotal: 778ms\tremaining: 144ms\n",
      "844:\tlearn: 0.0159086\ttotal: 778ms\tremaining: 143ms\n",
      "845:\tlearn: 0.0158989\ttotal: 779ms\tremaining: 142ms\n",
      "846:\tlearn: 0.0158846\ttotal: 779ms\tremaining: 141ms\n",
      "847:\tlearn: 0.0158704\ttotal: 780ms\tremaining: 140ms\n",
      "848:\tlearn: 0.0158544\ttotal: 780ms\tremaining: 139ms\n",
      "849:\tlearn: 0.0158354\ttotal: 782ms\tremaining: 138ms\n",
      "850:\tlearn: 0.0158202\ttotal: 783ms\tremaining: 137ms\n",
      "851:\tlearn: 0.0158056\ttotal: 783ms\tremaining: 136ms\n",
      "852:\tlearn: 0.0157920\ttotal: 784ms\tremaining: 135ms\n",
      "853:\tlearn: 0.0157786\ttotal: 785ms\tremaining: 134ms\n",
      "854:\tlearn: 0.0157653\ttotal: 785ms\tremaining: 133ms\n",
      "855:\tlearn: 0.0157470\ttotal: 786ms\tremaining: 132ms\n",
      "856:\tlearn: 0.0157345\ttotal: 786ms\tremaining: 131ms\n",
      "857:\tlearn: 0.0157304\ttotal: 787ms\tremaining: 130ms\n",
      "858:\tlearn: 0.0157172\ttotal: 787ms\tremaining: 129ms\n",
      "859:\tlearn: 0.0157013\ttotal: 788ms\tremaining: 128ms\n",
      "860:\tlearn: 0.0156945\ttotal: 789ms\tremaining: 127ms\n",
      "861:\tlearn: 0.0156823\ttotal: 790ms\tremaining: 126ms\n",
      "862:\tlearn: 0.0156742\ttotal: 791ms\tremaining: 126ms\n",
      "863:\tlearn: 0.0156626\ttotal: 792ms\tremaining: 125ms\n",
      "864:\tlearn: 0.0156445\ttotal: 793ms\tremaining: 124ms\n",
      "865:\tlearn: 0.0156371\ttotal: 794ms\tremaining: 123ms\n",
      "866:\tlearn: 0.0156239\ttotal: 795ms\tremaining: 122ms\n",
      "867:\tlearn: 0.0156167\ttotal: 796ms\tremaining: 121ms\n",
      "868:\tlearn: 0.0156017\ttotal: 798ms\tremaining: 120ms\n",
      "869:\tlearn: 0.0155822\ttotal: 799ms\tremaining: 119ms\n",
      "870:\tlearn: 0.0155669\ttotal: 801ms\tremaining: 119ms\n",
      "871:\tlearn: 0.0155650\ttotal: 802ms\tremaining: 118ms\n",
      "872:\tlearn: 0.0155539\ttotal: 802ms\tremaining: 117ms\n",
      "873:\tlearn: 0.0155501\ttotal: 804ms\tremaining: 116ms\n",
      "874:\tlearn: 0.0155329\ttotal: 805ms\tremaining: 115ms\n",
      "875:\tlearn: 0.0155217\ttotal: 806ms\tremaining: 114ms\n",
      "876:\tlearn: 0.0155067\ttotal: 807ms\tremaining: 113ms\n",
      "877:\tlearn: 0.0154921\ttotal: 808ms\tremaining: 112ms\n",
      "878:\tlearn: 0.0154736\ttotal: 809ms\tremaining: 111ms\n",
      "879:\tlearn: 0.0154550\ttotal: 809ms\tremaining: 110ms\n",
      "880:\tlearn: 0.0154395\ttotal: 810ms\tremaining: 109ms\n",
      "881:\tlearn: 0.0154250\ttotal: 810ms\tremaining: 108ms\n",
      "882:\tlearn: 0.0154196\ttotal: 811ms\tremaining: 107ms\n",
      "883:\tlearn: 0.0154173\ttotal: 812ms\tremaining: 107ms\n",
      "884:\tlearn: 0.0153954\ttotal: 813ms\tremaining: 106ms\n",
      "885:\tlearn: 0.0153788\ttotal: 815ms\tremaining: 105ms\n",
      "886:\tlearn: 0.0153751\ttotal: 816ms\tremaining: 104ms\n",
      "887:\tlearn: 0.0153639\ttotal: 817ms\tremaining: 103ms\n",
      "888:\tlearn: 0.0153464\ttotal: 818ms\tremaining: 102ms\n",
      "889:\tlearn: 0.0153370\ttotal: 819ms\tremaining: 101ms\n",
      "890:\tlearn: 0.0153146\ttotal: 819ms\tremaining: 100ms\n",
      "891:\tlearn: 0.0153024\ttotal: 820ms\tremaining: 99.3ms\n",
      "892:\tlearn: 0.0152929\ttotal: 821ms\tremaining: 98.4ms\n",
      "893:\tlearn: 0.0152792\ttotal: 821ms\tremaining: 97.4ms\n",
      "894:\tlearn: 0.0152663\ttotal: 823ms\tremaining: 96.5ms\n",
      "895:\tlearn: 0.0152569\ttotal: 823ms\tremaining: 95.6ms\n",
      "896:\tlearn: 0.0152553\ttotal: 824ms\tremaining: 94.6ms\n",
      "897:\tlearn: 0.0152426\ttotal: 825ms\tremaining: 93.7ms\n",
      "898:\tlearn: 0.0152336\ttotal: 826ms\tremaining: 92.8ms\n",
      "899:\tlearn: 0.0152305\ttotal: 828ms\tremaining: 92ms\n",
      "900:\tlearn: 0.0152128\ttotal: 829ms\tremaining: 91.1ms\n",
      "901:\tlearn: 0.0152004\ttotal: 830ms\tremaining: 90.2ms\n",
      "902:\tlearn: 0.0151862\ttotal: 831ms\tremaining: 89.3ms\n",
      "903:\tlearn: 0.0151724\ttotal: 832ms\tremaining: 88.3ms\n",
      "904:\tlearn: 0.0151574\ttotal: 833ms\tremaining: 87.4ms\n",
      "905:\tlearn: 0.0151540\ttotal: 833ms\tremaining: 86.5ms\n"
     ]
    },
    {
     "name": "stdout",
     "output_type": "stream",
     "text": [
      "906:\tlearn: 0.0151454\ttotal: 834ms\tremaining: 85.5ms\n",
      "907:\tlearn: 0.0151351\ttotal: 836ms\tremaining: 84.7ms\n",
      "908:\tlearn: 0.0151211\ttotal: 837ms\tremaining: 83.8ms\n",
      "909:\tlearn: 0.0151112\ttotal: 838ms\tremaining: 82.9ms\n",
      "910:\tlearn: 0.0151082\ttotal: 839ms\tremaining: 82ms\n",
      "911:\tlearn: 0.0150977\ttotal: 841ms\tremaining: 81.1ms\n",
      "912:\tlearn: 0.0150931\ttotal: 841ms\tremaining: 80.2ms\n",
      "913:\tlearn: 0.0150819\ttotal: 842ms\tremaining: 79.2ms\n",
      "914:\tlearn: 0.0150717\ttotal: 842ms\tremaining: 78.2ms\n",
      "915:\tlearn: 0.0150635\ttotal: 843ms\tremaining: 77.3ms\n",
      "916:\tlearn: 0.0150423\ttotal: 843ms\tremaining: 76.3ms\n",
      "917:\tlearn: 0.0150312\ttotal: 844ms\tremaining: 75.4ms\n",
      "918:\tlearn: 0.0150207\ttotal: 844ms\tremaining: 74.4ms\n",
      "919:\tlearn: 0.0150134\ttotal: 845ms\tremaining: 73.4ms\n",
      "920:\tlearn: 0.0149959\ttotal: 845ms\tremaining: 72.5ms\n",
      "921:\tlearn: 0.0149828\ttotal: 846ms\tremaining: 71.6ms\n",
      "922:\tlearn: 0.0149669\ttotal: 846ms\tremaining: 70.6ms\n",
      "923:\tlearn: 0.0149569\ttotal: 846ms\tremaining: 69.6ms\n",
      "924:\tlearn: 0.0149466\ttotal: 847ms\tremaining: 68.7ms\n",
      "925:\tlearn: 0.0149446\ttotal: 847ms\tremaining: 67.7ms\n",
      "926:\tlearn: 0.0149238\ttotal: 847ms\tremaining: 66.7ms\n",
      "927:\tlearn: 0.0149025\ttotal: 848ms\tremaining: 65.8ms\n",
      "928:\tlearn: 0.0148895\ttotal: 849ms\tremaining: 64.9ms\n",
      "929:\tlearn: 0.0148758\ttotal: 849ms\tremaining: 63.9ms\n",
      "930:\tlearn: 0.0148725\ttotal: 849ms\tremaining: 62.9ms\n",
      "931:\tlearn: 0.0148569\ttotal: 850ms\tremaining: 62ms\n",
      "932:\tlearn: 0.0148459\ttotal: 850ms\tremaining: 61ms\n",
      "933:\tlearn: 0.0148364\ttotal: 850ms\tremaining: 60.1ms\n",
      "934:\tlearn: 0.0148238\ttotal: 851ms\tremaining: 59.1ms\n",
      "935:\tlearn: 0.0148037\ttotal: 851ms\tremaining: 58.2ms\n",
      "936:\tlearn: 0.0147885\ttotal: 852ms\tremaining: 57.3ms\n",
      "937:\tlearn: 0.0147747\ttotal: 853ms\tremaining: 56.4ms\n",
      "938:\tlearn: 0.0147634\ttotal: 853ms\tremaining: 55.4ms\n",
      "939:\tlearn: 0.0147579\ttotal: 854ms\tremaining: 54.5ms\n",
      "940:\tlearn: 0.0147509\ttotal: 854ms\tremaining: 53.6ms\n",
      "941:\tlearn: 0.0147386\ttotal: 855ms\tremaining: 52.6ms\n",
      "942:\tlearn: 0.0147308\ttotal: 856ms\tremaining: 51.7ms\n",
      "943:\tlearn: 0.0147120\ttotal: 857ms\tremaining: 50.8ms\n",
      "944:\tlearn: 0.0147039\ttotal: 857ms\tremaining: 49.9ms\n",
      "945:\tlearn: 0.0146921\ttotal: 858ms\tremaining: 49ms\n",
      "946:\tlearn: 0.0146745\ttotal: 858ms\tremaining: 48ms\n",
      "947:\tlearn: 0.0146609\ttotal: 859ms\tremaining: 47.1ms\n",
      "948:\tlearn: 0.0146408\ttotal: 859ms\tremaining: 46.2ms\n",
      "949:\tlearn: 0.0146290\ttotal: 860ms\tremaining: 45.2ms\n",
      "950:\tlearn: 0.0146175\ttotal: 860ms\tremaining: 44.3ms\n",
      "951:\tlearn: 0.0146075\ttotal: 860ms\tremaining: 43.4ms\n",
      "952:\tlearn: 0.0145908\ttotal: 861ms\tremaining: 42.4ms\n",
      "953:\tlearn: 0.0145827\ttotal: 861ms\tremaining: 41.5ms\n",
      "954:\tlearn: 0.0145749\ttotal: 861ms\tremaining: 40.6ms\n",
      "955:\tlearn: 0.0145647\ttotal: 861ms\tremaining: 39.6ms\n",
      "956:\tlearn: 0.0145568\ttotal: 862ms\tremaining: 38.7ms\n",
      "957:\tlearn: 0.0145443\ttotal: 862ms\tremaining: 37.8ms\n",
      "958:\tlearn: 0.0145301\ttotal: 863ms\tremaining: 36.9ms\n",
      "959:\tlearn: 0.0145138\ttotal: 863ms\tremaining: 36ms\n",
      "960:\tlearn: 0.0144968\ttotal: 864ms\tremaining: 35.1ms\n",
      "961:\tlearn: 0.0144619\ttotal: 865ms\tremaining: 34.2ms\n",
      "962:\tlearn: 0.0144600\ttotal: 865ms\tremaining: 33.2ms\n",
      "963:\tlearn: 0.0144512\ttotal: 866ms\tremaining: 32.3ms\n",
      "964:\tlearn: 0.0144373\ttotal: 866ms\tremaining: 31.4ms\n",
      "965:\tlearn: 0.0144283\ttotal: 867ms\tremaining: 30.5ms\n",
      "966:\tlearn: 0.0144159\ttotal: 867ms\tremaining: 29.6ms\n",
      "967:\tlearn: 0.0144047\ttotal: 868ms\tremaining: 28.7ms\n",
      "968:\tlearn: 0.0143898\ttotal: 868ms\tremaining: 27.8ms\n",
      "969:\tlearn: 0.0143821\ttotal: 869ms\tremaining: 26.9ms\n",
      "970:\tlearn: 0.0143744\ttotal: 869ms\tremaining: 26ms\n",
      "971:\tlearn: 0.0143646\ttotal: 870ms\tremaining: 25.1ms\n",
      "972:\tlearn: 0.0143540\ttotal: 870ms\tremaining: 24.1ms\n",
      "973:\tlearn: 0.0143464\ttotal: 870ms\tremaining: 23.2ms\n",
      "974:\tlearn: 0.0143363\ttotal: 871ms\tremaining: 22.3ms\n",
      "975:\tlearn: 0.0143291\ttotal: 871ms\tremaining: 21.4ms\n",
      "976:\tlearn: 0.0143108\ttotal: 871ms\tremaining: 20.5ms\n",
      "977:\tlearn: 0.0142973\ttotal: 872ms\tremaining: 19.6ms\n",
      "978:\tlearn: 0.0142760\ttotal: 872ms\tremaining: 18.7ms\n",
      "979:\tlearn: 0.0142662\ttotal: 872ms\tremaining: 17.8ms\n",
      "980:\tlearn: 0.0142583\ttotal: 872ms\tremaining: 16.9ms\n",
      "981:\tlearn: 0.0142518\ttotal: 873ms\tremaining: 16ms\n",
      "982:\tlearn: 0.0142426\ttotal: 873ms\tremaining: 15.1ms\n",
      "983:\tlearn: 0.0142251\ttotal: 873ms\tremaining: 14.2ms\n",
      "984:\tlearn: 0.0142131\ttotal: 874ms\tremaining: 13.3ms\n",
      "985:\tlearn: 0.0141800\ttotal: 874ms\tremaining: 12.4ms\n",
      "986:\tlearn: 0.0141633\ttotal: 876ms\tremaining: 11.5ms\n",
      "987:\tlearn: 0.0141595\ttotal: 877ms\tremaining: 10.6ms\n",
      "988:\tlearn: 0.0141518\ttotal: 877ms\tremaining: 9.76ms\n",
      "989:\tlearn: 0.0141310\ttotal: 878ms\tremaining: 8.87ms\n",
      "990:\tlearn: 0.0141201\ttotal: 878ms\tremaining: 7.98ms\n",
      "991:\tlearn: 0.0140998\ttotal: 879ms\tremaining: 7.09ms\n",
      "992:\tlearn: 0.0140832\ttotal: 879ms\tremaining: 6.2ms\n",
      "993:\tlearn: 0.0140686\ttotal: 880ms\tremaining: 5.31ms\n",
      "994:\tlearn: 0.0140590\ttotal: 881ms\tremaining: 4.42ms\n",
      "995:\tlearn: 0.0140512\ttotal: 881ms\tremaining: 3.54ms\n",
      "996:\tlearn: 0.0140382\ttotal: 882ms\tremaining: 2.65ms\n",
      "997:\tlearn: 0.0140364\ttotal: 882ms\tremaining: 1.77ms\n",
      "998:\tlearn: 0.0140206\ttotal: 883ms\tremaining: 883us\n",
      "999:\tlearn: 0.0140157\ttotal: 883ms\tremaining: 0us\n"
     ]
    },
    {
     "data": {
      "text/plain": [
       "<catboost.core.CatBoostRegressor at 0x7fb860ebf250>"
      ]
     },
     "execution_count": 9,
     "metadata": {},
     "output_type": "execute_result"
    }
   ],
   "source": [
    "#Train the Model \n",
    "prior_model = ctb.CatBoostRegressor()\n",
    "prior_model.fit(X_train,Y_train)"
   ]
  },
  {
   "cell_type": "code",
   "execution_count": 10,
   "id": "af65dcda",
   "metadata": {
    "execution": {
     "iopub.execute_input": "2022-07-25T06:07:01.395403Z",
     "iopub.status.busy": "2022-07-25T06:07:01.393632Z",
     "iopub.status.idle": "2022-07-25T06:07:01.517138Z",
     "shell.execute_reply": "2022-07-25T06:07:01.516299Z"
    },
    "id": "af65dcda",
    "papermill": {
     "duration": 0.163155,
     "end_time": "2022-07-25T06:07:01.520202",
     "exception": false,
     "start_time": "2022-07-25T06:07:01.357047",
     "status": "completed"
    },
    "tags": []
   },
   "outputs": [
    {
     "data": {
      "application/scrapbook.scrap.json+json": {
       "data": 0.0007947330558202471,
       "encoder": "json",
       "name": "Prior Model MSE",
       "version": 1
      }
     },
     "metadata": {
      "scrapbook": {
       "data": true,
       "display": false,
       "name": "Prior Model MSE"
      }
     },
     "output_type": "display_data"
    },
    {
     "data": {
      "application/scrapbook.scrap.json+json": {
       "data": 0.010211577399641089,
       "encoder": "json",
       "name": "ABC Pre-generator MSE",
       "version": 1
      }
     },
     "metadata": {
      "scrapbook": {
       "data": true,
       "display": false,
       "name": "ABC Pre-generator MSE"
      }
     },
     "output_type": "display_data"
    },
    {
     "data": {
      "application/scrapbook.scrap.json+json": {
       "data": 0.01956700276445652,
       "encoder": "json",
       "name": "Prior Model MAE",
       "version": 1
      }
     },
     "metadata": {
      "scrapbook": {
       "data": true,
       "display": false,
       "name": "Prior Model MAE"
      }
     },
     "output_type": "display_data"
    },
    {
     "name": "stdout",
     "output_type": "stream",
     "text": [
      "Prior Model MAE 0.01956700276445652\n",
      "ABC Pre-generator MAE 0.0790317348125103\n"
     ]
    }
   ],
   "source": [
    "y_pred = prior_model.predict(X_test)\n",
    "y_abc = y_pred + np.random.normal(0,variance, y_pred.shape) + bias \n",
    "mse = mean_squared_error(y_pred,Y_test)\n",
    "sb.glue(\"Prior Model MSE\",mse)\n",
    "mse = mean_squared_error(y_abc,Y_test)\n",
    "sb.glue(\"ABC Pre-generator MSE\",mse)\n",
    "mae = mean_absolute_error(y_pred,Y_test)\n",
    "sb.glue(\"Prior Model MAE\",mae)\n",
    "print(\"Prior Model MAE\",mae)\n",
    "mae = mean_absolute_error(y_abc,Y_test)\n",
    "print(\"ABC Pre-generator MAE\",mae)"
   ]
  },
  {
   "cell_type": "markdown",
   "id": "25609da2",
   "metadata": {
    "papermill": {
     "duration": 0.011,
     "end_time": "2022-07-25T06:07:01.542630",
     "exception": false,
     "start_time": "2022-07-25T06:07:01.531630",
     "status": "completed"
    },
    "tags": []
   },
   "source": [
    "# mGAN Model"
   ]
  },
  {
   "cell_type": "code",
   "execution_count": 11,
   "id": "dfc3464d",
   "metadata": {
    "execution": {
     "iopub.execute_input": "2022-07-25T06:07:01.567051Z",
     "iopub.status.busy": "2022-07-25T06:07:01.566482Z",
     "iopub.status.idle": "2022-07-25T06:07:01.571744Z",
     "shell.execute_reply": "2022-07-25T06:07:01.570971Z"
    },
    "papermill": {
     "duration": 0.020873,
     "end_time": "2022-07-25T06:07:01.575479",
     "exception": false,
     "start_time": "2022-07-25T06:07:01.554606",
     "status": "completed"
    },
    "tags": []
   },
   "outputs": [],
   "source": [
    "# gen = network.Generator(n_features+1).to(device)\n",
    "# disc = network.Discriminator(n_features+1).to(device)\n",
    "\n",
    "# criterion = torch.nn.BCELoss()\n",
    "# gen_opt = torch.optim.Adam(gen.parameters(), lr=0.01, betas=(0.5, 0.999))\n",
    "# disc_opt = torch.optim.Adam(disc.parameters(), lr=0.01, betas=(0.5, 0.999))"
   ]
  },
  {
   "cell_type": "code",
   "execution_count": 12,
   "id": "b75fdd85",
   "metadata": {
    "execution": {
     "iopub.execute_input": "2022-07-25T06:07:01.604122Z",
     "iopub.status.busy": "2022-07-25T06:07:01.603635Z",
     "iopub.status.idle": "2022-07-25T06:07:01.609113Z",
     "shell.execute_reply": "2022-07-25T06:07:01.607636Z"
    },
    "papermill": {
     "duration": 0.028208,
     "end_time": "2022-07-25T06:07:01.614046",
     "exception": false,
     "start_time": "2022-07-25T06:07:01.585838",
     "status": "completed"
    },
    "tags": []
   },
   "outputs": [],
   "source": [
    "#Training the ABC_GAN \n",
    "# ABC_train_test2.training_GAN(disc,gen,disc_opt,gen_opt,train_data,batch_size,n_epochs,criterion,prior_model,variance,bias,device)"
   ]
  },
  {
   "cell_type": "code",
   "execution_count": 13,
   "id": "1fa7c368",
   "metadata": {
    "execution": {
     "iopub.execute_input": "2022-07-25T06:07:01.640094Z",
     "iopub.status.busy": "2022-07-25T06:07:01.639582Z",
     "iopub.status.idle": "2022-07-25T06:07:01.650751Z",
     "shell.execute_reply": "2022-07-25T06:07:01.646516Z"
    },
    "papermill": {
     "duration": 0.031161,
     "end_time": "2022-07-25T06:07:01.657055",
     "exception": false,
     "start_time": "2022-07-25T06:07:01.625894",
     "status": "completed"
    },
    "tags": []
   },
   "outputs": [],
   "source": [
    "# ABC_GAN1_metrics=ABC_train_test2.test_generator(gen,test_data,prior_model,variance,bias,\"1\",device)\n",
    "# sb.glue(\"ABC_GAN_1 Metrics\",ABC_GAN1_metrics)\n",
    "\n",
    "# print(\"MAE\")\n",
    "# print(mean(ABC_GAN1_metrics[1]))"
   ]
  },
  {
   "cell_type": "code",
   "execution_count": 14,
   "id": "eb22ce5c",
   "metadata": {
    "execution": {
     "iopub.execute_input": "2022-07-25T06:07:01.686257Z",
     "iopub.status.busy": "2022-07-25T06:07:01.685899Z",
     "iopub.status.idle": "2022-07-25T06:07:01.690756Z",
     "shell.execute_reply": "2022-07-25T06:07:01.689188Z"
    },
    "papermill": {
     "duration": 0.026227,
     "end_time": "2022-07-25T06:07:01.694208",
     "exception": false,
     "start_time": "2022-07-25T06:07:01.667981",
     "status": "completed"
    },
    "tags": []
   },
   "outputs": [],
   "source": [
    "# sanityChecks.discProbVsError(train_data,disc,device)\n",
    "# sanityChecks.discProbVsError(test_data,disc,device)"
   ]
  },
  {
   "cell_type": "markdown",
   "id": "9239fa6c",
   "metadata": {
    "papermill": {
     "duration": 0.235532,
     "end_time": "2022-07-25T06:07:01.944063",
     "exception": false,
     "start_time": "2022-07-25T06:07:01.708531",
     "status": "completed"
    },
    "tags": []
   },
   "source": [
    "# mGAN Model with TabNet Generator"
   ]
  },
  {
   "cell_type": "code",
   "execution_count": 15,
   "id": "e3dc4352",
   "metadata": {
    "execution": {
     "iopub.execute_input": "2022-07-25T06:07:02.008922Z",
     "iopub.status.busy": "2022-07-25T06:07:02.008176Z",
     "iopub.status.idle": "2022-07-25T06:07:02.030896Z",
     "shell.execute_reply": "2022-07-25T06:07:02.029414Z"
    },
    "papermill": {
     "duration": 0.061531,
     "end_time": "2022-07-25T06:07:02.039535",
     "exception": false,
     "start_time": "2022-07-25T06:07:01.978004",
     "status": "completed"
    },
    "tags": []
   },
   "outputs": [],
   "source": [
    "gen2 = network.GeneratorTabnet(n_features+1).to(device)\n",
    "disc2 = network.Discriminator(n_features+1).to(device)\n",
    "\n",
    "criterion = torch.nn.BCELoss()\n",
    "gen_opt = torch.optim.Adam(gen2.parameters(), lr=0.01, betas=(0.5, 0.999))\n",
    "disc_opt = torch.optim.Adam(disc2.parameters(), lr=0.01, betas=(0.5, 0.999))"
   ]
  },
  {
   "cell_type": "code",
   "execution_count": 16,
   "id": "82129acf",
   "metadata": {
    "execution": {
     "iopub.execute_input": "2022-07-25T06:07:02.079446Z",
     "iopub.status.busy": "2022-07-25T06:07:02.078800Z",
     "iopub.status.idle": "2022-07-25T06:32:27.751696Z",
     "shell.execute_reply": "2022-07-25T06:32:27.748564Z"
    },
    "papermill": {
     "duration": 1525.709894,
     "end_time": "2022-07-25T06:32:27.771014",
     "exception": false,
     "start_time": "2022-07-25T06:07:02.061120",
     "status": "completed"
    },
    "tags": []
   },
   "outputs": [
    {
     "data": {
      "image/png": "[encoded data removed]",
      "text/plain": [
       "<Figure size 432x288 with 1 Axes>"
      ]
     },
     "metadata": {
      "needs_background": "light"
     },
     "output_type": "display_data"
    },
    {
     "data": {
      "image/png": "[encoded data removed]",
      "text/plain": [
       "<Figure size 432x288 with 1 Axes>"
      ]
     },
     "metadata": {
      "needs_background": "light"
     },
     "output_type": "display_data"
    }
   ],
   "source": [
    "#Training the ABC_GAN \n",
    "ABC_train_test2.training_GAN(disc2,gen2,disc_opt,gen_opt,train_data,batch_size,n_epochs,criterion,prior_model,variance,bias,device)"
   ]
  },
  {
   "cell_type": "code",
   "execution_count": 17,
   "id": "7f078066",
   "metadata": {
    "execution": {
     "iopub.execute_input": "2022-07-25T06:32:27.826401Z",
     "iopub.status.busy": "2022-07-25T06:32:27.825351Z",
     "iopub.status.idle": "2022-07-25T06:32:31.592527Z",
     "shell.execute_reply": "2022-07-25T06:32:31.591221Z"
    },
    "papermill": {
     "duration": 3.802585,
     "end_time": "2022-07-25T06:32:31.596585",
     "exception": false,
     "start_time": "2022-07-25T06:32:27.794000",
     "status": "completed"
    },
    "tags": []
   },
   "outputs": [
    {
     "data": {
      "application/scrapbook.scrap.json+json": {
       "data": 0.013928236744940764,
       "encoder": "json",
       "name": "ABC-GAN Model 1 MSE",
       "version": 1
      }
     },
     "metadata": {
      "scrapbook": {
       "data": true,
       "display": false,
       "name": "ABC-GAN Model 1 MSE"
      }
     },
     "output_type": "display_data"
    },
    {
     "data": {
      "application/scrapbook.scrap.json+json": {
       "data": 0.08051931148781985,
       "encoder": "json",
       "name": "ABC-GAN Model 1 MAE",
       "version": 1
      }
     },
     "metadata": {
      "scrapbook": {
       "data": true,
       "display": false,
       "name": "ABC-GAN Model 1 MAE"
      }
     },
     "output_type": "display_data"
    },
    {
     "data": {
      "application/scrapbook.scrap.json+json": {
       "data": 12.399973969124257,
       "encoder": "json",
       "name": "ABC-GAN Model 1 Manhattan Distance",
       "version": 1
      }
     },
     "metadata": {
      "scrapbook": {
       "data": true,
       "display": false,
       "name": "ABC-GAN Model 1 Manhattan Distance"
      }
     },
     "output_type": "display_data"
    },
    {
     "data": {
      "application/scrapbook.scrap.json+json": {
       "data": 1.462636391744448,
       "encoder": "json",
       "name": "ABC-GAN Model 1 Euclidean distance",
       "version": 1
      }
     },
     "metadata": {
      "scrapbook": {
       "data": true,
       "display": false,
       "name": "ABC-GAN Model 1 Euclidean distance"
      }
     },
     "output_type": "display_data"
    },
    {
     "data": {
      "application/scrapbook.scrap.json+json": {
       "data": [
        [
         0.013631126613738784,
         0.013441210940867566,
         0.01470954869858088,
         0.01286754368551515,
         0.014786686211948482,
         0.0151911337522784,
         0.01519829768580827,
         0.013993588047862791,
         0.01355580536427542,
         0.013665789992782541,
         0.013617766338009629,
         0.012799719803715961,
         0.013575079627696917,
         0.01629794841018139,
         0.014073999412342459,
         0.01729160889825289,
         0.015387032615922155,
         0.015016483983789191,
         0.01439195966307002,
         0.016008840545611445,
         0.0136046068541309,
         0.013295659515376371,
         0.01253119438148803,
         0.011392685438861816,
         0.01436634782335987,
         0.012288667795519034,
         0.016966534379124123,
         0.016965418490365616,
         0.01295299169555871,
         0.016001748963322293,
         0.01502205763804596,
         0.01171058916506906,
         0.010569820268764213,
         0.011681786433371175,
         0.012771844960081397,
         0.013421004047807921,
         0.014874294571311498,
         0.012873611478880232,
         0.014526283352483472,
         0.012816753680745106,
         0.014924552965698919,
         0.014370194341104,
         0.012459210387634435,
         0.012388177816489081,
         0.012419961315170314,
         0.012038452793252798,
         0.013808487800203285,
         0.014364887812636258,
         0.013959631443408296,
         0.01388048815570497,
         0.012978788175199894,
         0.013204867090348238,
         0.01634542119356387,
         0.01162489632339999,
         0.013421765186870912,
         0.016897937584599756,
         0.015587351110025597,
         0.013283514192363484,
         0.016487126493977367,
         0.014260850013861976,
         0.014122968487154402,
         0.013507062865025073,
         0.015474535396501465,
         0.012257553482674157,
         0.012109643505471144,
         0.015532412262157475,
         0.014486069236762069,
         0.013864151617337245,
         0.014797177224288558,
         0.01564540488624805,
         0.013564497079966157,
         0.013346556888146791,
         0.015544328275325382,
         0.014587418922008365,
         0.013363302790589787,
         0.013281200284362266,
         0.01305800367591141,
         0.013653409814763191,
         0.014431018890860771,
         0.011521460046454084,
         0.014544042439390819,
         0.01312002183278584,
         0.015726859729294964,
         0.01241792929569618,
         0.015251338572821483,
         0.012804223734037416,
         0.014611537390915304,
         0.013314835781217359,
         0.013889905170859274,
         0.013282905565093246,
         0.016643245915526596,
         0.01133451999644125,
         0.011915717376584714,
         0.014125779595299084,
         0.015475198409702962,
         0.014805078008055446,
         0.011724935398809732,
         0.013711375841527096,
         0.012564995387638568,
         0.014569419998940613
        ],
        [
         0.0808773458899035,
         0.0828493678845562,
         0.08256241283681873,
         0.07866034609592193,
         0.08289974280814459,
         0.08183883131759895,
         0.08506857382448076,
         0.07958168247351785,
         0.07989862368913828,
         0.0813769820182548,
         0.07929739086320262,
         0.07885261771402188,
         0.08150858984800516,
         0.08717577779883301,
         0.08106356531429987,
         0.08686011672842425,
         0.08095819572010984,
         0.08588487220710361,
         0.07940464499466993,
         0.08195543556486244,
         0.08115329865559742,
         0.07860166242031695,
         0.0779992076024026,
         0.07297843008894812,
         0.08591912126821744,
         0.07604051614784962,
         0.08559867982788906,
         0.08753437134013935,
         0.0788262387882773,
         0.08729367036759467,
         0.08281494833093572,
         0.07343006115890556,
         0.0692675615019806,
         0.07126206799422379,
         0.08018369219181212,
         0.08052962961570397,
         0.08079924118741379,
         0.07726527538827875,
         0.08163398718340444,
         0.08153217490278668,
         0.0833655870217201,
         0.07975159557657195,
         0.0760826605988981,
         0.07538615516689304,
         0.0783699494605134,
         0.0802407284182581,
         0.0825887851828298,
         0.08170223769477823,
         0.07646707136958063,
         0.0827156634420737,
         0.07805755116384137,
         0.0787064034564348,
         0.08329353260190843,
         0.07428731083531272,
         0.08150834465617096,
         0.08594556782975213,
         0.08436548957818901,
         0.07952274847775698,
         0.0844962853430347,
         0.08240242922896301,
         0.08039946545689523,
         0.07844334996801305,
         0.08438378138249958,
         0.07499977541095637,
         0.07620594409814516,
         0.08385470568795096,
         0.08033692818618828,
         0.08021536006217266,
         0.08389315939230191,
         0.08486011741658697,
         0.0811633953534357,
         0.07947137895003929,
         0.0852234914729541,
         0.08186410910558778,
         0.07988549770134223,
         0.08002346948805181,
         0.08064064017025294,
         0.07912829035723751,
         0.08118606911512552,
         0.07543009133743388,
         0.08166157319996652,
         0.07955436390377098,
         0.08565849976541547,
         0.077076512509836,
         0.08142502045912015,
         0.07782861591594947,
         0.08121309101629953,
         0.079408784590468,
         0.07977230722302353,
         0.08139509176714467,
         0.09007165775719014,
         0.07282203456459495,
         0.0727319254044008,
         0.08157451123047571,
         0.08284330146701692,
         0.08056251531732934,
         0.07544694338961468,
         0.08206427463802038,
         0.07737344369147119,
         0.08134261219967882
        ],
        [
         12.45511126704514,
         12.758802654221654,
         12.714611576870084,
         12.113693298771977,
         12.766560392454267,
         12.603180022910237,
         13.100560368970037,
         12.25557910092175,
         12.304388048127294,
         12.532055230811238,
         12.211798192933202,
         12.14330312795937,
         12.552322836592793,
         13.425069781020284,
         12.48378905840218,
         13.376457976177335,
         12.467562140896916,
         13.226270319893956,
         12.228315329179168,
         12.621137076988816,
         12.497607992962003,
         12.10465601272881,
         12.011877970770001,
         11.23867823369801,
         13.231544675305486,
         11.710239486768842,
         13.182196693494916,
         13.48029318638146,
         12.139240773394704,
         13.443225236609578,
         12.7535020429641,
         11.308229418471456,
         10.667204471305013,
         10.974358471110463,
         12.348288597539067,
         12.40156296081841,
         12.443083142861724,
         11.898852409794927,
         12.571634026244283,
         12.555954935029149,
         12.838300401344895,
         12.28174571879208,
         11.716729732230306,
         11.609467895701528,
         12.068972216919065,
         12.357072176411748,
         12.71867291815579,
         12.582144604995847,
         11.775928990915418,
         12.73821217007935,
         12.020862879231572,
         12.12078613229096,
         12.827204020693898,
         11.440245868638158,
         12.552285077050328,
         13.235617445781827,
         12.992285395041108,
         12.246503265574574,
         13.012427942827344,
         12.689974101260304,
         12.381517680361867,
         12.08027589507401,
         12.995102332904935,
         11.549965413287282,
         11.735715391114354,
         12.913624675944448,
         12.371886940672994,
         12.35316544957459,
         12.919546546414495,
         13.068458082154393,
         12.499162884429097,
         12.23859235830605,
         13.124417686834931,
         12.607072802260518,
         12.302366646006703,
         12.323614301159978,
         12.418658586218953,
         12.185756715014577,
         12.502654643729329,
         11.616234065964818,
         12.575882272794843,
         12.25137204118073,
         13.191408963873982,
         11.869782926514745,
         12.539453150704503,
         11.985606851056218,
         12.506816016510129,
         12.228952826932073,
         12.284935312345624,
         12.534844132140279,
         13.871035294607282,
         11.214593322947621,
         11.200716512277722,
         12.56247472949326,
         12.757868425920606,
         12.406627358868718,
         11.618829282000661,
         12.637898294255137,
         11.915510328486562,
         12.526762278750539
        ],
        [
         1.4488593784476713,
         1.438730859088525,
         1.5050815591128128,
         1.4076937619984444,
         1.509022755507705,
         1.5295210354391577,
         1.5298816436621736,
         1.4679961033227813,
         1.444850866386706,
         1.4507004028704589,
         1.4481491691305433,
         1.4039789349460547,
         1.4458776790120682,
         1.5842613594883683,
         1.472207835022195,
         1.6318418337360225,
         1.5393514942507482,
         1.5207033022596932,
         1.4887450379809106,
         1.5701469498184435,
         1.4474492929067184,
         1.430919831915108,
         1.3891738317248696,
         1.3245654221610648,
         1.487419767516023,
         1.3756652356259975,
         1.6164301081040018,
         1.6163769509357355,
         1.4123599828358355,
         1.5697991401296005,
         1.5209854950850379,
         1.342918735970511,
         1.2758339709341842,
         1.3412662341008816,
         1.4024493302264203,
         1.4376489917091793,
         1.5134864928310299,
         1.4080256275180347,
         1.495676314007297,
         1.4049128324685294,
         1.5160412780388381,
         1.487618878789193,
         1.385178111181267,
         1.3812238716947078,
         1.3829945923741815,
         1.3615879443359253,
         1.4582548204039327,
         1.4873441844932813,
         1.4662139142310981,
         1.4620517008569038,
         1.413765673292708,
         1.4260257823453364,
         1.5865670057734202,
         1.3379962757061765,
         1.437689757485293,
         1.613159132890603,
         1.5493392368825951,
         1.4302661240566303,
         1.5934294713204329,
         1.481948346648676,
         1.4747668110659995,
         1.4422509078568337,
         1.543722271349748,
         1.3739225729027893,
         1.3656079597902746,
         1.5466064426260002,
         1.4936045870515258,
         1.461191072060713,
         1.5095579791914049,
         1.5522217472005084,
         1.4453139971351514,
         1.4336560817625006,
         1.5471995845397932,
         1.4988203741573864,
         1.4345552027547868,
         1.4301415467679377,
         1.4180735404379976,
         1.450043141245643,
         1.4907638676841342,
         1.3320303476850401,
         1.4965903032113317,
         1.4214370764297022,
         1.5562571761477677,
         1.3828814524525272,
         1.532548903041762,
         1.404225927349927,
         1.500058918243199,
         1.4319513645049098,
         1.4625475706151674,
         1.4302333575414747,
         1.600955924125051,
         1.3211798058750188,
         1.3546292762206367,
         1.4749135763413592,
         1.5437553417216914,
         1.509960931031177,
         1.3437410656137212,
         1.453117985435172,
         1.3910461134327428,
         1.4978954168555474
        ]
       ],
       "encoder": "json",
       "name": "ABC_GAN_2 Metrics",
       "version": 1
      }
     },
     "metadata": {
      "scrapbook": {
       "data": true,
       "display": false,
       "name": "ABC_GAN_2 Metrics"
      }
     },
     "output_type": "display_data"
    },
    {
     "name": "stdout",
     "output_type": "stream",
     "text": [
      "MAE\n",
      "0.08051931148781985\n"
     ]
    }
   ],
   "source": [
    "ABC_GAN2_metrics=ABC_train_test2.test_generator(gen2,test_data,prior_model,variance,bias,\"1\",device)\n",
    "sb.glue(\"ABC_GAN_2 Metrics\",ABC_GAN2_metrics)\n",
    "\n",
    "print(\"MAE\")\n",
    "print(mean(ABC_GAN2_metrics[1]))"
   ]
  },
  {
   "cell_type": "code",
   "execution_count": 18,
   "id": "2556798a",
   "metadata": {
    "execution": {
     "iopub.execute_input": "2022-07-25T06:32:31.632321Z",
     "iopub.status.busy": "2022-07-25T06:32:31.631616Z",
     "iopub.status.idle": "2022-07-25T06:32:32.836863Z",
     "shell.execute_reply": "2022-07-25T06:32:32.835438Z"
    },
    "papermill": {
     "duration": 1.227276,
     "end_time": "2022-07-25T06:32:32.839909",
     "exception": false,
     "start_time": "2022-07-25T06:32:31.612633",
     "status": "completed"
    },
    "tags": []
   },
   "outputs": [
    {
     "data": {
      "image/png": "[encoded data removed]",
      "text/plain": [
       "<Figure size 432x288 with 1 Axes>"
      ]
     },
     "metadata": {
      "needs_background": "light"
     },
     "output_type": "display_data"
    },
    {
     "data": {
      "image/png": "[encoded data removed]",
      "text/plain": [
       "<Figure size 432x288 with 1 Axes>"
      ]
     },
     "metadata": {
      "needs_background": "light"
     },
     "output_type": "display_data"
    },
    {
     "data": {
      "image/png": "[encoded data removed]",
      "text/plain": [
       "<Figure size 432x288 with 1 Axes>"
      ]
     },
     "metadata": {
      "needs_background": "light"
     },
     "output_type": "display_data"
    },
    {
     "data": {
      "image/png": "[encoded data removed]",
      "text/plain": [
       "<Figure size 432x288 with 1 Axes>"
      ]
     },
     "metadata": {
      "needs_background": "light"
     },
     "output_type": "display_data"
    }
   ],
   "source": [
    "sanityChecks.discProbVsError(train_data,disc2,device)\n",
    "sanityChecks.discProbVsError(test_data,disc2,device)"
   ]
  },
  {
   "cell_type": "markdown",
   "id": "130f3a4d",
   "metadata": {
    "id": "130f3a4d",
    "papermill": {
     "duration": 0.02192,
     "end_time": "2022-07-25T06:32:32.881826",
     "exception": false,
     "start_time": "2022-07-25T06:32:32.859906",
     "status": "completed"
    },
    "tags": []
   },
   "source": [
    "# skipGAN Model"
   ]
  },
  {
   "cell_type": "code",
   "execution_count": 19,
   "id": "4e43dad1",
   "metadata": {
    "execution": {
     "iopub.execute_input": "2022-07-25T06:32:32.916578Z",
     "iopub.status.busy": "2022-07-25T06:32:32.916121Z",
     "iopub.status.idle": "2022-07-25T06:32:32.929966Z",
     "shell.execute_reply": "2022-07-25T06:32:32.929015Z"
    },
    "id": "4e43dad1",
    "papermill": {
     "duration": 0.037933,
     "end_time": "2022-07-25T06:32:32.935069",
     "exception": false,
     "start_time": "2022-07-25T06:32:32.897136",
     "status": "completed"
    },
    "tags": []
   },
   "outputs": [],
   "source": [
    "#Generator\n",
    "gen3 = network.GeneratorWithSkipConnection(n_features+1).to(device)\n",
    "constraints=network.weightConstraint()\n",
    "#Discriminator \n",
    "disc3 = network.Discriminator(n_features+1).to(device)\n",
    "\n",
    "criterion = torch.nn.BCELoss()\n",
    "gen_opt = torch.optim.Adam(gen3.parameters(), lr=0.01, betas=(0.5, 0.999))\n",
    "disc_opt = torch.optim.Adam(disc3.parameters(), lr=0.01, betas=(0.5, 0.999))\n"
   ]
  },
  {
   "cell_type": "code",
   "execution_count": 20,
   "id": "26acbc37",
   "metadata": {
    "execution": {
     "iopub.execute_input": "2022-07-25T06:32:32.987182Z",
     "iopub.status.busy": "2022-07-25T06:32:32.986787Z",
     "iopub.status.idle": "2022-07-25T06:43:15.566062Z",
     "shell.execute_reply": "2022-07-25T06:43:15.556745Z"
    },
    "id": "26acbc37",
    "papermill": {
     "duration": 642.618405,
     "end_time": "2022-07-25T06:43:15.580316",
     "exception": false,
     "start_time": "2022-07-25T06:32:32.961911",
     "status": "completed"
    },
    "tags": []
   },
   "outputs": [
    {
     "data": {
      "image/png": "[encoded data removed]",
      "text/plain": [
       "<Figure size 432x288 with 1 Axes>"
      ]
     },
     "metadata": {
      "needs_background": "light"
     },
     "output_type": "display_data"
    },
    {
     "data": {
      "image/png": "[encoded data removed]",
      "text/plain": [
       "<Figure size 432x288 with 1 Axes>"
      ]
     },
     "metadata": {
      "needs_background": "light"
     },
     "output_type": "display_data"
    }
   ],
   "source": [
    "ABC_train_test2.training_GAN_skip_connection(disc3,gen3,disc_opt,gen_opt,train_data,batch_size,n_epochs,criterion,prior_model,variance,bias,device)"
   ]
  },
  {
   "cell_type": "code",
   "execution_count": 21,
   "id": "c5e0717b",
   "metadata": {
    "execution": {
     "iopub.execute_input": "2022-07-25T06:43:15.657633Z",
     "iopub.status.busy": "2022-07-25T06:43:15.655994Z",
     "iopub.status.idle": "2022-07-25T06:43:18.463456Z",
     "shell.execute_reply": "2022-07-25T06:43:18.462411Z"
    },
    "id": "c5e0717b",
    "papermill": {
     "duration": 2.845892,
     "end_time": "2022-07-25T06:43:18.466440",
     "exception": false,
     "start_time": "2022-07-25T06:43:15.620548",
     "status": "completed"
    },
    "tags": []
   },
   "outputs": [
    {
     "data": {
      "application/scrapbook.scrap.json+json": {
       "data": 0.02501066739663809,
       "encoder": "json",
       "name": "ABC-GAN Model 3 MSE",
       "version": 1
      }
     },
     "metadata": {
      "scrapbook": {
       "data": true,
       "display": false,
       "name": "ABC-GAN Model 3 MSE"
      }
     },
     "output_type": "display_data"
    },
    {
     "data": {
      "application/scrapbook.scrap.json+json": {
       "data": 0.12925615312661612,
       "encoder": "json",
       "name": "ABC-GAN Model 3 MAE",
       "version": 1
      }
     },
     "metadata": {
      "scrapbook": {
       "data": true,
       "display": false,
       "name": "ABC-GAN Model 3 MAE"
      }
     },
     "output_type": "display_data"
    },
    {
     "data": {
      "application/scrapbook.scrap.json+json": {
       "data": 19.905447581498883,
       "encoder": "json",
       "name": "ABC-GAN Model 3 Manhattan Distance",
       "version": 1
      }
     },
     "metadata": {
      "scrapbook": {
       "data": true,
       "display": false,
       "name": "ABC-GAN Model 3 Manhattan Distance"
      }
     },
     "output_type": "display_data"
    },
    {
     "data": {
      "application/scrapbook.scrap.json+json": {
       "data": 1.9606349644924932,
       "encoder": "json",
       "name": "ABC-GAN Model 3 Euclidean distance",
       "version": 1
      }
     },
     "metadata": {
      "scrapbook": {
       "data": true,
       "display": false,
       "name": "ABC-GAN Model 3 Euclidean distance"
      }
     },
     "output_type": "display_data"
    },
    {
     "data": {
      "application/scrapbook.scrap.json+json": {
       "data": [
        [
         0.021546670524402903,
         0.022507152259699067,
         0.02634912044956789,
         0.026630138449412217,
         0.02339115226558048,
         0.020516929272890096,
         0.02211486095206294,
         0.025396454234880825,
         0.02558155342430246,
         0.024361750734047623,
         0.022270279897050365,
         0.022577295613542183,
         0.028464305488864628,
         0.023309845041685383,
         0.02451603887369246,
         0.024119023513593397,
         0.026996883585732122,
         0.02774790314706024,
         0.024702658829816707,
         0.02253667109173381,
         0.026165537084747507,
         0.027608623024496588,
         0.02716771569871038,
         0.020800624129756494,
         0.022643507717635843,
         0.02407451754115821,
         0.026746167115381938,
         0.021057782361057112,
         0.03199485438347133,
         0.024583898163922556,
         0.02670286493083796,
         0.02689940143287914,
         0.02447302839081949,
         0.02428817003501887,
         0.0261943214453168,
         0.02546621367223238,
         0.023646524956086594,
         0.024303850788910026,
         0.02288839500517533,
         0.02210200444996554,
         0.026334446011392572,
         0.02436059214489724,
         0.024925781281477613,
         0.026285461868493558,
         0.02401492439702857,
         0.028260696334318464,
         0.026672628536763717,
         0.023401588103410163,
         0.026920805106102424,
         0.026899132133845097,
         0.024836028512437755,
         0.022710989355491693,
         0.026743011045860323,
         0.02456771306307805,
         0.024778809466419666,
         0.027904311644114183,
         0.02874695661406015,
         0.02381472691212621,
         0.026731123283769496,
         0.023557820462074004,
         0.02371606510823823,
         0.023319939706602292,
         0.025780864844767496,
         0.02208813952562789,
         0.025278825222332973,
         0.0296488441278432,
         0.026952817540249956,
         0.024790050907397037,
         0.022625170216808838,
         0.0231050578362695,
         0.02289692718945491,
         0.029136545711749718,
         0.025801041073586047,
         0.024900058139975957,
         0.022776542012238932,
         0.028468660951100105,
         0.024875125712105824,
         0.027710339512221287,
         0.02326829609710511,
         0.0259242391061413,
         0.02598928576293673,
         0.029604286850588708,
         0.02379009996944506,
         0.026716786407146073,
         0.027169518596762414,
         0.026427567707226148,
         0.020268999308258026,
         0.02738636393368302,
         0.02607039288932372,
         0.02334050761766967,
         0.026304672739099925,
         0.023805192029423546,
         0.023644623747036183,
         0.02450793045273216,
         0.025921374674156266,
         0.024677293200973224,
         0.023732015086714624,
         0.026349316339800467,
         0.024070929402841668,
         0.020313796151816017
        ],
        [
         0.12322792484630625,
         0.12137605778437544,
         0.13167528785136226,
         0.13637646671094292,
         0.11980830036200486,
         0.1156002806088367,
         0.12405478014526042,
         0.12621413097511253,
         0.13197476428316593,
         0.13083511118039295,
         0.12049104211634243,
         0.12219452603974125,
         0.1392706348258373,
         0.12055559622051266,
         0.12830070479373848,
         0.12796172046090487,
         0.1344921641390432,
         0.13857917956911125,
         0.12775743932330183,
         0.12181740326734332,
         0.14009075807770352,
         0.13716020142393454,
         0.13187079140976943,
         0.12023176481439309,
         0.118743505002326,
         0.1277702622865508,
         0.1337111923335628,
         0.11568579631071392,
         0.14831768833826503,
         0.12335970592624568,
         0.13701759621065546,
         0.133624723241604,
         0.12834895182062278,
         0.12568977370543719,
         0.1358233971110025,
         0.1287426879544827,
         0.12512145612945225,
         0.12804118800279382,
         0.12416237073817424,
         0.11730130145011784,
         0.1279467451809482,
         0.1311269902394383,
         0.1312953982224035,
         0.1366925858469172,
         0.12934303134921696,
         0.13737583482130009,
         0.13267841975676356,
         0.12537047397587206,
         0.13295814731194602,
         0.13558498107791914,
         0.13134572879326614,
         0.12300535215234215,
         0.13347681729098806,
         0.1272525586030603,
         0.12893798664308986,
         0.1384283370797994,
         0.1389028325422921,
         0.12901289146030684,
         0.13142213173355763,
         0.1242010063286145,
         0.12720914927081434,
         0.12253361189278303,
         0.13066804144144445,
         0.11802263996358235,
         0.12492404659218215,
         0.139317640502538,
         0.1348730931058526,
         0.13157432573520905,
         0.1273432028927393,
         0.12064590877188104,
         0.1220742804542571,
         0.13840804080926367,
         0.13504878368664097,
         0.12920037069200696,
         0.1280699460706734,
         0.13960474904312134,
         0.1268843146428079,
         0.13656706500846844,
         0.12398459847000512,
         0.13302598911785074,
         0.13433868531440082,
         0.14336083968496555,
         0.12762024356112756,
         0.13550637049189249,
         0.13495720408300493,
         0.13423493469448447,
         0.11799880113549434,
         0.13538389511454801,
         0.1305175837818775,
         0.12419321899628871,
         0.13250251407069819,
         0.12270037726462855,
         0.12335912986694798,
         0.12471613186326894,
         0.13537986586837994,
         0.13248267429941274,
         0.12425212154479383,
         0.13107723739094934,
         0.12838940485078212,
         0.11292740241805842
        ],
        [
         18.977100426331162,
         18.691912898793817,
         20.277994329109788,
         21.001975873485208,
         18.45047825574875,
         17.802443213760853,
         19.104436142370105,
         19.436976170167327,
         20.32411369960755,
         20.148607121780515,
         18.555620485916734,
         18.817957010120153,
         21.447677763178945,
         18.56556181795895,
         19.758308538235724,
         19.706104950979352,
         20.711793277412653,
         21.34119365364313,
         19.67464565578848,
         18.75988010317087,
         21.57397674396634,
         21.122671019285917,
         20.30810187710449,
         18.515691781416535,
         18.286499770358205,
         19.676620392128825,
         20.591523619368672,
         17.815612631849945,
         22.840924004092813,
         18.997394712641835,
         21.10070981644094,
         20.578207379207015,
         19.76573858037591,
         19.35622515063733,
         20.916803155094385,
         19.826373944990337,
         19.268704243935645,
         19.71834295243025,
         19.121005093678832,
         18.064400423318148,
         19.703798757866025,
         20.193556496873498,
         20.219491326250136,
         21.050658220425248,
         19.918826827779412,
         21.15587856248021,
         20.432476642541587,
         19.307052992284298,
         20.475554686039686,
         20.88008708599955,
         20.227242234162986,
         18.94282423146069,
         20.55542986281216,
         19.59689402487129,
         19.85644994303584,
         21.31796391028911,
         21.391036211512983,
         19.867985284887254,
         20.239008286967874,
         19.126954974606633,
         19.59020898770541,
         18.870176231488585,
         20.122878381982446,
         18.175486554391682,
         19.23830317519605,
         21.454916637390852,
         20.7704563383013,
         20.262446163222194,
         19.61085324548185,
         18.57946995086968,
         18.799439189955592,
         21.314838284626603,
         20.79751268774271,
         19.89685708656907,
         19.722771694883704,
         21.49913135264069,
         19.540184454992414,
         21.03132801130414,
         19.09362816438079,
         20.486002324149013,
         20.688157538417727,
         22.077569311484694,
         19.653517508413643,
         20.867981055751443,
         20.78340942878276,
         20.672179942950606,
         18.171815374866128,
         20.849119847640395,
         20.099707902409136,
         19.125755725428462,
         20.40538716688752,
         18.895858098752797,
         18.99730599950999,
         19.206284306943417,
         20.84849934373051,
         20.40233184210956,
         19.13482671789825,
         20.1858945582062,
         19.771968347020447,
         17.390819972380996
        ],
        [
         1.8215892129561062,
         1.8617468807530353,
         2.014389373788855,
         2.0251027927513903,
         1.8979561240712057,
         1.7775283705260725,
         1.8454507814129568,
         1.9776384786334549,
         1.9848322919941068,
         1.936933042994345,
         1.8519241626334908,
         1.864645683363329,
         2.0936816962674034,
         1.8946546219349714,
         1.943056866524662,
         1.927259614347113,
         2.038999772487174,
         2.0671664385451107,
         1.9504382737712496,
         1.8629673502579174,
         2.0073596366996913,
         2.0619718586276767,
         2.0454408369839,
         1.7897754373056132,
         1.8673778911928673,
         1.9254806416420718,
         2.029509727931556,
         1.8008049543475813,
         2.219731419576383,
         1.945744155135529,
         2.0278661689936657,
         2.0353151649470376,
         1.9413516868888545,
         1.934005735615307,
         2.008463468071746,
         1.9803527225026825,
         1.9082884591270093,
         1.934629944328409,
         1.8774484895189536,
         1.8449142758661425,
         2.013828365515407,
         1.9368869843938172,
         1.9592269693293711,
         2.011954554096093,
         1.923096034300523,
         2.0861800582608017,
         2.0267177392675113,
         1.8983794583605158,
         2.036124747244081,
         2.0353049768062146,
         1.9556963953833462,
         1.8701583785192417,
         2.0293899824978165,
         1.94510354781282,
         1.9534422586369502,
         2.0729843205373224,
         2.104051168238373,
         1.9150634309253143,
         2.0289388817065195,
         1.904705843735299,
         1.911092364766467,
         1.895064831296479,
         1.9925494187332453,
         1.844335513659783,
         1.9730532390787832,
         2.1368018147895356,
         2.0373349997480763,
         1.9538853189834717,
         1.866621604232781,
         1.8863135759426382,
         1.877798388319698,
         2.1182606165459097,
         1.9933289556247988,
         1.958215757662137,
         1.8728554321903212,
         2.0938418723651067,
         1.9572351314199057,
         2.065766754714113,
         1.8929652925910148,
         1.9980822861798657,
         2.0005874156087895,
         2.1351955823742843,
         1.9140729858849528,
         2.0283947117611243,
         2.0455087054083663,
         2.0173857903020993,
         1.766755753767831,
         2.053655288939014,
         2.0037066913487744,
         1.895900359491798,
         2.012689643691095,
         1.9146800183140853,
         1.9082117432411876,
         1.9427355171820875,
         1.997971896654221,
         1.949436624502032,
         1.9117348988167924,
         2.01439686167579,
         1.9253371465895568,
         1.7687070439673345
        ]
       ],
       "encoder": "json",
       "name": "ABC_GAN_3 Metrics",
       "version": 1
      }
     },
     "metadata": {
      "scrapbook": {
       "data": true,
       "display": false,
       "name": "ABC_GAN_3 Metrics"
      }
     },
     "output_type": "display_data"
    },
    {
     "name": "stdout",
     "output_type": "stream",
     "text": [
      "MAE\n",
      "0.12925615312661612\n"
     ]
    }
   ],
   "source": [
    "ABC_GAN3_metrics=ABC_train_test2.test_generator(gen3,test_data,prior_model,variance,bias,\"3\",device)\n",
    "sb.glue(\"ABC_GAN_3 Metrics\",ABC_GAN3_metrics)\n",
    "\n",
    "print(\"MAE\")\n",
    "print(mean(ABC_GAN3_metrics[1]))"
   ]
  },
  {
   "cell_type": "code",
   "execution_count": 22,
   "id": "c8e46b48",
   "metadata": {
    "execution": {
     "iopub.execute_input": "2022-07-25T06:43:18.507352Z",
     "iopub.status.busy": "2022-07-25T06:43:18.506925Z",
     "iopub.status.idle": "2022-07-25T06:43:22.176577Z",
     "shell.execute_reply": "2022-07-25T06:43:22.175563Z"
    },
    "id": "c8e46b48",
    "papermill": {
     "duration": 3.694342,
     "end_time": "2022-07-25T06:43:22.179497",
     "exception": false,
     "start_time": "2022-07-25T06:43:18.485155",
     "status": "completed"
    },
    "tags": []
   },
   "outputs": [
    {
     "data": {
      "image/png": "[encoded data removed]",
      "text/plain": [
       "<Figure size 432x288 with 1 Axes>"
      ]
     },
     "metadata": {
      "needs_background": "light"
     },
     "output_type": "display_data"
    },
    {
     "data": {
      "image/png": "[encoded data removed]",
      "text/plain": [
       "<Figure size 432x288 with 1 Axes>"
      ]
     },
     "metadata": {
      "needs_background": "light"
     },
     "output_type": "display_data"
    },
    {
     "data": {
      "image/png": "[encoded data removed]",
      "text/plain": [
       "<Figure size 432x288 with 1 Axes>"
      ]
     },
     "metadata": {
      "needs_background": "light"
     },
     "output_type": "display_data"
    },
    {
     "data": {
      "image/png": "[encoded data removed]",
      "text/plain": [
       "<Figure size 432x288 with 1 Axes>"
      ]
     },
     "metadata": {
      "needs_background": "light"
     },
     "output_type": "display_data"
    }
   ],
   "source": [
    "sanityChecks.discProbVsError(train_data,disc3,device)\n",
    "sanityChecks.discProbVsError(test_data,disc3,device)"
   ]
  },
  {
   "cell_type": "markdown",
   "id": "0de023d0",
   "metadata": {
    "id": "130f3a4d",
    "papermill": {
     "duration": 0.035923,
     "end_time": "2022-07-25T06:43:22.245015",
     "exception": false,
     "start_time": "2022-07-25T06:43:22.209092",
     "status": "completed"
    },
    "tags": []
   },
   "source": [
    "# skipGAN Model with TabNet Generator"
   ]
  },
  {
   "cell_type": "code",
   "execution_count": 23,
   "id": "fe1fdc30",
   "metadata": {
    "execution": {
     "iopub.execute_input": "2022-07-25T06:43:22.361238Z",
     "iopub.status.busy": "2022-07-25T06:43:22.359273Z",
     "iopub.status.idle": "2022-07-25T06:43:22.385700Z",
     "shell.execute_reply": "2022-07-25T06:43:22.384626Z"
    },
    "id": "4e43dad1",
    "papermill": {
     "duration": 0.108068,
     "end_time": "2022-07-25T06:43:22.388569",
     "exception": false,
     "start_time": "2022-07-25T06:43:22.280501",
     "status": "completed"
    },
    "tags": []
   },
   "outputs": [],
   "source": [
    "#Generator\n",
    "gen4 = network.GeneratorTabnetskipConnection(n_features+1).to(device)\n",
    "constraints=network.weightConstraint()\n",
    "#Discriminator \n",
    "disc4 = network.Discriminator(n_features+1).to(device)\n",
    "\n",
    "criterion = torch.nn.BCELoss()\n",
    "gen_opt = torch.optim.Adam(gen4.parameters(), lr=0.01, betas=(0.5, 0.999))\n",
    "disc_opt = torch.optim.Adam(disc4.parameters(), lr=0.01, betas=(0.5, 0.999))\n"
   ]
  },
  {
   "cell_type": "code",
   "execution_count": 24,
   "id": "c21fb87b",
   "metadata": {
    "execution": {
     "iopub.execute_input": "2022-07-25T06:43:22.450358Z",
     "iopub.status.busy": "2022-07-25T06:43:22.447859Z",
     "iopub.status.idle": "2022-07-25T07:05:29.896412Z",
     "shell.execute_reply": "2022-07-25T07:05:29.893929Z"
    },
    "id": "26acbc37",
    "papermill": {
     "duration": 1327.484953,
     "end_time": "2022-07-25T07:05:29.899808",
     "exception": false,
     "start_time": "2022-07-25T06:43:22.414855",
     "status": "completed"
    },
    "tags": []
   },
   "outputs": [
    {
     "data": {
      "image/png": "[encoded data removed]",
      "text/plain": [
       "<Figure size 432x288 with 1 Axes>"
      ]
     },
     "metadata": {
      "needs_background": "light"
     },
     "output_type": "display_data"
    },
    {
     "data": {
      "image/png": "[encoded data removed]",
      "text/plain": [
       "<Figure size 432x288 with 1 Axes>"
      ]
     },
     "metadata": {
      "needs_background": "light"
     },
     "output_type": "display_data"
    }
   ],
   "source": [
    "ABC_train_test2.training_GAN_skip_connection(disc4,gen4,disc_opt,gen_opt,train_data,batch_size,n_epochs,criterion,prior_model,variance,bias,device)"
   ]
  },
  {
   "cell_type": "code",
   "execution_count": 25,
   "id": "cbe7997a",
   "metadata": {
    "execution": {
     "iopub.execute_input": "2022-07-25T07:05:29.983001Z",
     "iopub.status.busy": "2022-07-25T07:05:29.981924Z",
     "iopub.status.idle": "2022-07-25T07:05:33.651888Z",
     "shell.execute_reply": "2022-07-25T07:05:33.650833Z"
    },
    "id": "c5e0717b",
    "papermill": {
     "duration": 3.722498,
     "end_time": "2022-07-25T07:05:33.654360",
     "exception": false,
     "start_time": "2022-07-25T07:05:29.931862",
     "status": "completed"
    },
    "tags": []
   },
   "outputs": [
    {
     "data": {
      "application/scrapbook.scrap.json+json": {
       "data": 0.01095421131274178,
       "encoder": "json",
       "name": "ABC-GAN Model 3 MSE",
       "version": 1
      }
     },
     "metadata": {
      "scrapbook": {
       "data": true,
       "display": false,
       "name": "ABC-GAN Model 3 MSE"
      }
     },
     "output_type": "display_data"
    },
    {
     "data": {
      "application/scrapbook.scrap.json+json": {
       "data": 0.08347036426500629,
       "encoder": "json",
       "name": "ABC-GAN Model 3 MAE",
       "version": 1
      }
     },
     "metadata": {
      "scrapbook": {
       "data": true,
       "display": false,
       "name": "ABC-GAN Model 3 MAE"
      }
     },
     "output_type": "display_data"
    },
    {
     "data": {
      "application/scrapbook.scrap.json+json": {
       "data": 12.854436096810968,
       "encoder": "json",
       "name": "ABC-GAN Model 3 Manhattan Distance",
       "version": 1
      }
     },
     "metadata": {
      "scrapbook": {
       "data": true,
       "display": false,
       "name": "ABC-GAN Model 3 Manhattan Distance"
      }
     },
     "output_type": "display_data"
    },
    {
     "data": {
      "application/scrapbook.scrap.json+json": {
       "data": 1.2964963530448494,
       "encoder": "json",
       "name": "ABC-GAN Model 3 Euclidean distance",
       "version": 1
      }
     },
     "metadata": {
      "scrapbook": {
       "data": true,
       "display": false,
       "name": "ABC-GAN Model 3 Euclidean distance"
      }
     },
     "output_type": "display_data"
    },
    {
     "data": {
      "application/scrapbook.scrap.json+json": {
       "data": [
        [
         0.010404461397323265,
         0.011538957417116623,
         0.012759430864131888,
         0.010641503137394889,
         0.01253588795251793,
         0.010043653326797694,
         0.011456300497888018,
         0.012436566773750211,
         0.010775257318636686,
         0.011670805021773,
         0.012746674733326252,
         0.010230375360599746,
         0.009461226909473945,
         0.011928591548266218,
         0.009626305453495982,
         0.009470553927603771,
         0.010113298226578287,
         0.009611857564946697,
         0.011149789263794008,
         0.010766254272171314,
         0.010209235885386542,
         0.009371239057201804,
         0.011004431716083559,
         0.011937382483149444,
         0.011125583266283058,
         0.009874454018200161,
         0.00907393524335232,
         0.008791268972681178,
         0.012982697983444121,
         0.009428481615895648,
         0.010561706570166779,
         0.010047426248597226,
         0.010450982109170108,
         0.01349702852814447,
         0.012202590497833862,
         0.01266061858537288,
         0.011353408092307053,
         0.013321466605982369,
         0.010802281482659921,
         0.011827726092614716,
         0.011523804959230407,
         0.01102821237244165,
         0.011077819756983883,
         0.012410519226130939,
         0.01033068314626542,
         0.009898037437732807,
         0.012945908481093938,
         0.011155794738521966,
         0.010818441363115465,
         0.012309005054110481,
         0.013004253792898199,
         0.013445532298901873,
         0.010449270681762629,
         0.008436616827108012,
         0.011369672163841694,
         0.011220754267564489,
         0.013544948221924253,
         0.011151009648869687,
         0.012313288018364477,
         0.008581852433793707,
         0.011904559998512183,
         0.009798059717021855,
         0.01173886660753443,
         0.007913445109322566,
         0.011010388023050944,
         0.009170518451320503,
         0.010702031815500225,
         0.009932565306899243,
         0.012543717133744803,
         0.010739560503409419,
         0.010545687091903564,
         0.010430036873118406,
         0.010868872401438974,
         0.011724533599293655,
         0.012187604670018634,
         0.012317393742339797,
         0.010430673115452552,
         0.010760832721298878,
         0.011591805552607701,
         0.010850647512880575,
         0.00902155002022046,
         0.01134025199039485,
         0.008759632726736622,
         0.010779976657130205,
         0.01233447531060124,
         0.010056778073561397,
         0.011714418790210183,
         0.007523858373632429,
         0.010212102494695369,
         0.011933832021043549,
         0.01058683784369807,
         0.009486070052404288,
         0.009940837205235904,
         0.011656877711102518,
         0.011514209533196922,
         0.009137915204488176,
         0.009251097345659301,
         0.013094787606449415,
         0.011498591730196994,
         0.01150810972408169
        ],
        [
         0.08361967386339199,
         0.087527919209913,
         0.09148373039947315,
         0.08201277845043253,
         0.09274326018722993,
         0.08225779637525027,
         0.0839529452700313,
         0.08674897457920498,
         0.08070593765957958,
         0.08282887520776554,
         0.0903203166626672,
         0.08302913949667633,
         0.07717555152953832,
         0.08593866353636825,
         0.07701338064409309,
         0.0800673934183531,
         0.08319999578759654,
         0.07463649540607419,
         0.08396388993102621,
         0.08483519984481784,
         0.08160459870690262,
         0.07954040795032467,
         0.08508934056410541,
         0.08741842045799478,
         0.08319301811929841,
         0.08224618813482584,
         0.07754183411840107,
         0.07408883717733544,
         0.09185863050402372,
         0.07923614462329583,
         0.08154325893560013,
         0.0791086730269062,
         0.08285484983065686,
         0.09268660180636548,
         0.08619519171921851,
         0.08839331844265198,
         0.08887878579825356,
         0.09371127212395916,
         0.08048239196862349,
         0.085969075342858,
         0.0851438484190927,
         0.08452765831070674,
         0.080863225031886,
         0.08883795462391496,
         0.08218139140298228,
         0.08007413737911295,
         0.08981240404068262,
         0.08158194146711718,
         0.08449427254933428,
         0.09079032755372199,
         0.0907164297078724,
         0.09307901644716401,
         0.08315836957522801,
         0.07218823284999311,
         0.08505649033740356,
         0.08124997228529159,
         0.0903003141283989,
         0.08661987394239608,
         0.08928182306276126,
         0.07569062933567669,
         0.08494041365414083,
         0.07749730706601948,
         0.08682058854089059,
         0.07279473774183493,
         0.08545875338861694,
         0.0770077584190415,
         0.08101733525997246,
         0.08201525763112616,
         0.09033904903169189,
         0.08400127350945365,
         0.08475688497789881,
         0.08182763972307568,
         0.08380699445578185,
         0.08772671341218731,
         0.0882005819857314,
         0.08953950228774316,
         0.07853958193309508,
         0.079295319704605,
         0.08965352539263376,
         0.08198141529188528,
         0.0755297490697983,
         0.08667490191685108,
         0.07371738167213542,
         0.0813293761706778,
         0.08748794014432601,
         0.07931627328628553,
         0.08478125445423769,
         0.06961542320764297,
         0.07900492279705676,
         0.08956510524035662,
         0.07983159608897064,
         0.08067468910586911,
         0.07935809987512502,
         0.08587901669784219,
         0.08372866132526428,
         0.07593151657273631,
         0.07516210039400241,
         0.08820401324418845,
         0.0862710860908612,
         0.08640161647715351
        ],
        [
         12.877429774962366,
         13.479299558326602,
         14.088494481518865,
         12.62996788136661,
         14.28246206883341,
         12.667700641788542,
         12.92875357158482,
         13.359342085197568,
         12.428714399575256,
         12.755646781995893,
         13.909328766050749,
         12.786487482488155,
         11.885034935548902,
         13.23455418460071,
         11.860060619190335,
         12.330378586426377,
         12.812799351289868,
         11.494020292535424,
         12.930439049378037,
         13.064620776101947,
         12.567108200863004,
         12.24922282435,
         13.103758446872234,
         13.462436750531197,
         12.811724790371954,
         12.66591297276318,
         11.941442454233766,
         11.409680925309658,
         14.146229097619653,
         12.202366271987557,
         12.55766187608242,
         12.182735646143556,
         12.759646873921156,
         14.273736678180285,
         13.27405952475965,
         13.612571040168405,
         13.687333012931049,
         14.43153590708971,
         12.394288363168016,
         13.23923760280013,
         13.112152656540275,
         13.017259379848838,
         12.452936654910445,
         13.681045012082905,
         12.65593427605927,
         12.331417156383395,
         13.831110222265124,
         12.563618985936046,
         13.01211797259748,
         13.981710443273187,
         13.97033017501235,
         14.33416853286326,
         12.806388914585114,
         11.116987858898938,
         13.098699511960149,
         12.512495731934905,
         13.90624837577343,
         13.339460587128997,
         13.749400751665235,
         11.656356917694211,
         13.080823702737689,
         11.934585288167,
         13.37037063529715,
         11.21038961224258,
         13.16064802184701,
         11.859194796532393,
         12.476669630035758,
         12.630349675193429,
         13.912213550880551,
         12.936196120455861,
         13.052560286596417,
         12.601456517353654,
         12.906277146190405,
         13.509913865476847,
         13.582889625802636,
         13.789083352312446,
         12.095095617696643,
         12.21147923450917,
         13.806642910465598,
         12.625137954950333,
         11.631581356748939,
         13.347934895195067,
         11.352476777508855,
         12.524723930284381,
         13.473142782226205,
         12.214706086087972,
         13.056313185952604,
         10.720775173977017,
         12.166758110746741,
         13.793026207014918,
         12.294065797701478,
         12.423902122303843,
         12.221147380769253,
         13.225368571467698,
         12.8942138440907,
         11.69345355220139,
         11.574963460676372,
         13.583418039605021,
         13.285747257992625,
         13.305848937481642
        ],
        [
         1.2658147791789218,
         1.333041425551344,
         1.4017675816897432,
         1.2801529139750505,
         1.3894339655729455,
         1.2436730327247774,
         1.3282583621700843,
         1.3839188137884146,
         1.28817298025927,
         1.3406356601825278,
         1.4010667039553266,
         1.2551803876464773,
         1.2070745395620717,
         1.3553608738756617,
         1.2175594604939757,
         1.2076693690124713,
         1.2479775346107223,
         1.21664541465531,
         1.3103692405670537,
         1.2876347144723856,
         1.2538828997755442,
         1.201320446346052,
         1.3017997097391243,
         1.355860207545385,
         1.3089460733764362,
         1.2331528367574007,
         1.182110835529502,
         1.163552930378718,
         1.4139786028969443,
         1.2049838873810428,
         1.2753441934653107,
         1.2439066051291683,
         1.2686414957789283,
         1.4417150874337996,
         1.3708387712150596,
         1.3963292098024103,
         1.3222801693345045,
         1.432307877979202,
         1.2897873267828412,
         1.3496183972748246,
         1.3321658919674693,
         1.3032055499252657,
         1.3061333173055185,
         1.3824687919892316,
         1.2613188353960607,
         1.2346245443092618,
         1.4119737625354327,
         1.3107220871460061,
         1.2907517073084898,
         1.3768031007856623,
         1.4151519650222455,
         1.4389621169547475,
         1.2685376167033617,
         1.139841651886188,
         1.3232269318720886,
         1.3145326763549592,
         1.4442721440837716,
         1.3104409509496915,
         1.3770426118418158,
         1.149610923227607,
         1.3539949186650873,
         1.228373394543111,
         1.3445391245926248,
         1.10393412250717,
         1.3021519709887341,
         1.1883853926666035,
         1.2837884948803033,
         1.2367760740176386,
         1.3898677773790928,
         1.2860374479481733,
         1.2743766366946425,
         1.267369590316982,
         1.2937566810732233,
         1.3437180412166918,
         1.3699967588220308,
         1.3772721722013876,
         1.2674082451127153,
         1.2873104672455775,
         1.3360905864130568,
         1.2926715425751463,
         1.1786936426035186,
         1.3215138313770336,
         1.1614574636711583,
         1.288455045858431,
         1.3782268310523456,
         1.2444853648510517,
         1.3431383002849588,
         1.0764172934040934,
         1.2540589237285014,
         1.3556585599776614,
         1.276860614135115,
         1.2086582594225137,
         1.2372909640041543,
         1.3398355001677587,
         1.3316111549969554,
         1.1862710236245253,
         1.1935949862627326,
         1.4200694671012437,
         1.3307077539604018,
         1.331258388709187
        ]
       ],
       "encoder": "json",
       "name": "ABC_GAN_4 Metrics",
       "version": 1
      }
     },
     "metadata": {
      "scrapbook": {
       "data": true,
       "display": false,
       "name": "ABC_GAN_4 Metrics"
      }
     },
     "output_type": "display_data"
    },
    {
     "name": "stdout",
     "output_type": "stream",
     "text": [
      "MAE\n",
      "0.08347036426500629\n"
     ]
    }
   ],
   "source": [
    "ABC_GAN4_metrics=ABC_train_test2.test_generator(gen4,test_data,prior_model,variance,bias,\"3\",device)\n",
    "sb.glue(\"ABC_GAN_4 Metrics\",ABC_GAN4_metrics)\n",
    "\n",
    "print(\"MAE\")\n",
    "print(mean(ABC_GAN4_metrics[1]))"
   ]
  },
  {
   "cell_type": "code",
   "execution_count": 26,
   "id": "030a8828",
   "metadata": {
    "execution": {
     "iopub.execute_input": "2022-07-25T07:05:33.710237Z",
     "iopub.status.busy": "2022-07-25T07:05:33.709847Z",
     "iopub.status.idle": "2022-07-25T07:05:34.533241Z",
     "shell.execute_reply": "2022-07-25T07:05:34.532349Z"
    },
    "id": "c8e46b48",
    "papermill": {
     "duration": 0.857953,
     "end_time": "2022-07-25T07:05:34.535776",
     "exception": false,
     "start_time": "2022-07-25T07:05:33.677823",
     "status": "completed"
    },
    "tags": []
   },
   "outputs": [
    {
     "data": {
      "image/png": "[encoded data removed]",
      "text/plain": [
       "<Figure size 432x288 with 1 Axes>"
      ]
     },
     "metadata": {
      "needs_background": "light"
     },
     "output_type": "display_data"
    },
    {
     "data": {
      "image/png": "[encoded data removed]",
      "text/plain": [
       "<Figure size 432x288 with 1 Axes>"
      ]
     },
     "metadata": {
      "needs_background": "light"
     },
     "output_type": "display_data"
    },
    {
     "data": {
      "image/png": "[encoded data removed]",
      "text/plain": [
       "<Figure size 432x288 with 1 Axes>"
      ]
     },
     "metadata": {
      "needs_background": "light"
     },
     "output_type": "display_data"
    },
    {
     "data": {
      "image/png": "[encoded data removed]",
      "text/plain": [
       "<Figure size 432x288 with 1 Axes>"
      ]
     },
     "metadata": {
      "needs_background": "light"
     },
     "output_type": "display_data"
    }
   ],
   "source": [
    "sanityChecks.discProbVsError(train_data,disc4,device)\n",
    "sanityChecks.discProbVsError(test_data,disc4,device)"
   ]
  },
  {
   "cell_type": "markdown",
   "id": "a5bd74c3",
   "metadata": {
    "id": "a5bd74c3",
    "papermill": {
     "duration": 0.025697,
     "end_time": "2022-07-25T07:05:34.592071",
     "exception": false,
     "start_time": "2022-07-25T07:05:34.566374",
     "status": "completed"
    },
    "tags": []
   },
   "source": [
    "## Skip Connection Model Analysis - ABC-GAN "
   ]
  },
  {
   "cell_type": "markdown",
   "id": "5744a8bf",
   "metadata": {
    "id": "5744a8bf",
    "papermill": {
     "duration": 0.025471,
     "end_time": "2022-07-25T07:05:34.642807",
     "exception": false,
     "start_time": "2022-07-25T07:05:34.617336",
     "status": "completed"
    },
    "tags": []
   },
   "source": [
    "### Weight Analysis \n",
    "\n",
    "Study the weights of the skip connection layer\n",
    "\n",
    "Equation of the skip connection is \n",
    "\n",
    "$output = y_{gan} * w + y_{abc} * (1-w)$"
   ]
  },
  {
   "cell_type": "code",
   "execution_count": 27,
   "id": "52c31dea",
   "metadata": {
    "execution": {
     "iopub.execute_input": "2022-07-25T07:05:34.704321Z",
     "iopub.status.busy": "2022-07-25T07:05:34.703955Z",
     "iopub.status.idle": "2022-07-25T07:05:34.769964Z",
     "shell.execute_reply": "2022-07-25T07:05:34.768747Z"
    },
    "id": "52c31dea",
    "papermill": {
     "duration": 0.106381,
     "end_time": "2022-07-25T07:05:34.774823",
     "exception": false,
     "start_time": "2022-07-25T07:05:34.668442",
     "status": "completed"
    },
    "tags": []
   },
   "outputs": [
    {
     "name": "stdout",
     "output_type": "stream",
     "text": [
      "Weight of the node at skip connection\n",
      "Parameter containing:\n",
      "tensor([[0.0708]], requires_grad=True)\n"
     ]
    },
    {
     "data": {
      "application/scrapbook.scrap.json+json": {
       "data": 0.07077722251415253,
       "encoder": "json",
       "name": "Skip Connection Weight",
       "version": 1
      }
     },
     "metadata": {
      "scrapbook": {
       "data": true,
       "display": false,
       "name": "Skip Connection Weight"
      }
     },
     "output_type": "display_data"
    }
   ],
   "source": [
    "print(\"Weight of the node at skip connection\")\n",
    "for name,param in gen3.named_parameters():\n",
    "    if(name == \"skipNode.weight\"):\n",
    "        print(param)\n",
    "        sb.glue(\"Skip Connection Weight\",param.item())"
   ]
  },
  {
   "cell_type": "markdown",
   "id": "53fb674b",
   "metadata": {
    "id": "a5bd74c3",
    "papermill": {
     "duration": 0.029456,
     "end_time": "2022-07-25T07:05:34.834441",
     "exception": false,
     "start_time": "2022-07-25T07:05:34.804985",
     "status": "completed"
    },
    "tags": []
   },
   "source": [
    "## skipGAN Model Analysis (TabNet Generator) "
   ]
  },
  {
   "cell_type": "markdown",
   "id": "3d04fb90",
   "metadata": {
    "id": "5744a8bf",
    "papermill": {
     "duration": 0.027005,
     "end_time": "2022-07-25T07:05:34.886171",
     "exception": false,
     "start_time": "2022-07-25T07:05:34.859166",
     "status": "completed"
    },
    "tags": []
   },
   "source": [
    "### Weight Analysis \n",
    "\n",
    "Study the weights of the skip connection layer\n",
    "\n",
    "Equation of the skip connection is \n",
    "\n",
    "$output = y_{gan} * w + y_{abc} * (1-w)$"
   ]
  },
  {
   "cell_type": "code",
   "execution_count": 28,
   "id": "76e09cc1",
   "metadata": {
    "execution": {
     "iopub.execute_input": "2022-07-25T07:05:34.956072Z",
     "iopub.status.busy": "2022-07-25T07:05:34.955574Z",
     "iopub.status.idle": "2022-07-25T07:05:34.969248Z",
     "shell.execute_reply": "2022-07-25T07:05:34.968474Z"
    },
    "id": "52c31dea",
    "papermill": {
     "duration": 0.057608,
     "end_time": "2022-07-25T07:05:34.972765",
     "exception": false,
     "start_time": "2022-07-25T07:05:34.915157",
     "status": "completed"
    },
    "tags": []
   },
   "outputs": [
    {
     "name": "stdout",
     "output_type": "stream",
     "text": [
      "Weight of the node at skip connection\n",
      "Parameter containing:\n",
      "tensor([[0.0211]], requires_grad=True)\n"
     ]
    },
    {
     "data": {
      "application/scrapbook.scrap.json+json": {
       "data": 0.02113463543355465,
       "encoder": "json",
       "name": "Skip Connection Weight",
       "version": 1
      }
     },
     "metadata": {
      "scrapbook": {
       "data": true,
       "display": false,
       "name": "Skip Connection Weight"
      }
     },
     "output_type": "display_data"
    }
   ],
   "source": [
    "print(\"Weight of the node at skip connection\")\n",
    "for name,param in gen4.named_parameters():\n",
    "    if(name == \"skipNode.weight\"):\n",
    "        print(param)\n",
    "        sb.glue(\"Skip Connection Weight\",param.item())"
   ]
  }
 ],
 "metadata": {
  "colab": {
   "collapsed_sections": [],
   "name": "ABC_GAN_Model-Catboost_Pre-gen.ipynb",
   "provenance": []
  },
  "interpreter": {
   "hash": "31f2aee4e71d21fbe5cf8b01ff0e069b9275f58929596ceb00d14d90e3e16cd6"
  },
  "kernelspec": {
   "display_name": "Python 3 (ipykernel)",
   "language": "python",
   "name": "python3"
  },
  "language_info": {
   "codemirror_mode": {
    "name": "ipython",
    "version": 3
   },
   "file_extension": ".py",
   "mimetype": "text/x-python",
   "name": "python",
   "nbconvert_exporter": "python",
   "pygments_lexer": "ipython3",
   "version": "3.8.13"
  },
  "papermill": {
   "default_parameters": {},
   "duration": 3533.992147,
   "end_time": "2022-07-25T07:05:36.774895",
   "environment_variables": {},
   "exception": null,
   "input_path": "ABC_GAN-Catboost.ipynb",
   "output_path": "./ABC_GAN_Catboost/ABC-GAN_output_2_7.ipynb",
   "parameters": {
    "bias": 0.01,
    "variance": 0.1
   },
   "start_time": "2022-07-25T06:06:42.782748",
   "version": "2.3.3"
  }
 },
 "nbformat": 4,
 "nbformat_minor": 5
}