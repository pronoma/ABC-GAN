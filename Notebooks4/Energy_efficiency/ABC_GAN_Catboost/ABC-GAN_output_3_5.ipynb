{
 "cells": [
  {
   "cell_type": "markdown",
   "id": "f5bbdbab",
   "metadata": {
    "tags": [
     "papermill-error-cell-tag"
    ]
   },
   "source": [
    "<span style=\"color:red; font-family:Helvetica Neue, Helvetica, Arial, sans-serif; font-size:2em;\">An Exception was encountered at '<a href=\"#papermill-error-cell\">In [20]</a>'.</span>"
   ]
  },
  {
   "cell_type": "markdown",
   "id": "622780e6",
   "metadata": {
    "id": "622780e6",
    "papermill": {
     "duration": 0.012153,
     "end_time": "2022-07-24T13:07:51.683053",
     "exception": false,
     "start_time": "2022-07-24T13:07:51.670900",
     "status": "completed"
    },
    "tags": []
   },
   "source": [
    "## Import Libraries "
   ]
  },
  {
   "cell_type": "code",
   "execution_count": 1,
   "id": "a62397e3",
   "metadata": {
    "execution": {
     "iopub.execute_input": "2022-07-24T13:07:51.725635Z",
     "iopub.status.busy": "2022-07-24T13:07:51.725132Z",
     "iopub.status.idle": "2022-07-24T13:07:51.799491Z",
     "shell.execute_reply": "2022-07-24T13:07:51.774869Z"
    },
    "id": "a62397e3",
    "papermill": {
     "duration": 0.114606,
     "end_time": "2022-07-24T13:07:51.808434",
     "exception": false,
     "start_time": "2022-07-24T13:07:51.693828",
     "status": "completed"
    },
    "tags": []
   },
   "outputs": [],
   "source": [
    "import warnings\n",
    "import sys\n",
    "sys.path.insert(0, '../../src')\n",
    "warnings.filterwarnings('ignore')"
   ]
  },
  {
   "cell_type": "code",
   "execution_count": 2,
   "id": "d6a4e155",
   "metadata": {
    "execution": {
     "iopub.execute_input": "2022-07-24T13:07:51.847126Z",
     "iopub.status.busy": "2022-07-24T13:07:51.845569Z",
     "iopub.status.idle": "2022-07-24T13:07:59.340928Z",
     "shell.execute_reply": "2022-07-24T13:07:59.339756Z"
    },
    "id": "d6a4e155",
    "papermill": {
     "duration": 7.516787,
     "end_time": "2022-07-24T13:07:59.345165",
     "exception": false,
     "start_time": "2022-07-24T13:07:51.828378",
     "status": "completed"
    },
    "tags": []
   },
   "outputs": [],
   "source": [
    "import ABC_train_test2\n",
    "import energyefficiencyDataset\n",
    "import network\n",
    "import dataset\n",
    "import sanityChecks\n",
    "import torch \n",
    "import scrapbook as sb\n",
    "from statistics import mean \n",
    "import catboost as ctb \n",
    "from sklearn.model_selection import train_test_split\n",
    "from sklearn.metrics import mean_squared_error,mean_absolute_error\n",
    "import numpy as np"
   ]
  },
  {
   "cell_type": "markdown",
   "id": "2fa5b0f7",
   "metadata": {
    "id": "2fa5b0f7",
    "papermill": {
     "duration": 0.00753,
     "end_time": "2022-07-24T13:07:59.362242",
     "exception": false,
     "start_time": "2022-07-24T13:07:59.354712",
     "status": "completed"
    },
    "tags": []
   },
   "source": [
    "## Parameters "
   ]
  },
  {
   "cell_type": "code",
   "execution_count": 3,
   "id": "783186fb",
   "metadata": {
    "execution": {
     "iopub.execute_input": "2022-07-24T13:07:59.383541Z",
     "iopub.status.busy": "2022-07-24T13:07:59.382715Z",
     "iopub.status.idle": "2022-07-24T13:07:59.388730Z",
     "shell.execute_reply": "2022-07-24T13:07:59.386575Z"
    },
    "id": "783186fb",
    "papermill": {
     "duration": 0.022752,
     "end_time": "2022-07-24T13:07:59.392711",
     "exception": false,
     "start_time": "2022-07-24T13:07:59.369959",
     "status": "completed"
    },
    "tags": [
     "parameters"
    ]
   },
   "outputs": [],
   "source": [
    "variance = 1\n",
    "bias = 1 "
   ]
  },
  {
   "cell_type": "code",
   "execution_count": 4,
   "id": "cc9f5183",
   "metadata": {
    "execution": {
     "iopub.execute_input": "2022-07-24T13:07:59.416579Z",
     "iopub.status.busy": "2022-07-24T13:07:59.415635Z",
     "iopub.status.idle": "2022-07-24T13:07:59.420485Z",
     "shell.execute_reply": "2022-07-24T13:07:59.419464Z"
    },
    "papermill": {
     "duration": 0.019492,
     "end_time": "2022-07-24T13:07:59.423610",
     "exception": false,
     "start_time": "2022-07-24T13:07:59.404118",
     "status": "completed"
    },
    "tags": [
     "injected-parameters"
    ]
   },
   "outputs": [],
   "source": [
    "# Parameters\n",
    "variance = 0.01\n",
    "bias = 0.1\n"
   ]
  },
  {
   "cell_type": "markdown",
   "id": "391cdbfd",
   "metadata": {
    "id": "391cdbfd",
    "papermill": {
     "duration": 0.007758,
     "end_time": "2022-07-24T13:07:59.439351",
     "exception": false,
     "start_time": "2022-07-24T13:07:59.431593",
     "status": "completed"
    },
    "tags": []
   },
   "source": [
    "## Dataset \n"
   ]
  },
  {
   "cell_type": "code",
   "execution_count": 5,
   "id": "5b51f161",
   "metadata": {
    "execution": {
     "iopub.execute_input": "2022-07-24T13:07:59.457525Z",
     "iopub.status.busy": "2022-07-24T13:07:59.457165Z",
     "iopub.status.idle": "2022-07-24T13:07:59.463117Z",
     "shell.execute_reply": "2022-07-24T13:07:59.461281Z"
    },
    "id": "5b51f161",
    "papermill": {
     "duration": 0.018119,
     "end_time": "2022-07-24T13:07:59.465941",
     "exception": false,
     "start_time": "2022-07-24T13:07:59.447822",
     "status": "completed"
    },
    "tags": []
   },
   "outputs": [],
   "source": [
    "#Parameters \n",
    "n_features = 8\n",
    "n_samples= 768\n",
    "n_target = 1 "
   ]
  },
  {
   "cell_type": "code",
   "execution_count": 6,
   "id": "5d6eced4",
   "metadata": {
    "execution": {
     "iopub.execute_input": "2022-07-24T13:07:59.489600Z",
     "iopub.status.busy": "2022-07-24T13:07:59.489178Z",
     "iopub.status.idle": "2022-07-24T13:08:00.267557Z",
     "shell.execute_reply": "2022-07-24T13:08:00.266473Z"
    },
    "id": "5d6eced4",
    "papermill": {
     "duration": 0.796538,
     "end_time": "2022-07-24T13:08:00.270525",
     "exception": false,
     "start_time": "2022-07-24T13:07:59.473987",
     "status": "completed"
    },
    "tags": []
   },
   "outputs": [
    {
     "name": "stdout",
     "output_type": "stream",
     "text": [
      "     X1     X2     X3      X4   X5  X6   X7  X8     Y1     Y2\n",
      "0  0.98  514.5  294.0  110.25  7.0   2  0.0   0  15.55  21.33\n",
      "1  0.98  514.5  294.0  110.25  7.0   3  0.0   0  15.55  21.33\n",
      "2  0.98  514.5  294.0  110.25  7.0   4  0.0   0  15.55  21.33\n",
      "3  0.98  514.5  294.0  110.25  7.0   5  0.0   0  15.55  21.33\n",
      "4  0.90  563.5  318.5  122.50  7.0   2  0.0   0  20.84  28.28\n"
     ]
    }
   ],
   "source": [
    "X,Y = energyefficiencyDataset.energy_data()"
   ]
  },
  {
   "cell_type": "code",
   "execution_count": 7,
   "id": "fe007438",
   "metadata": {
    "execution": {
     "iopub.execute_input": "2022-07-24T13:08:00.287751Z",
     "iopub.status.busy": "2022-07-24T13:08:00.287406Z",
     "iopub.status.idle": "2022-07-24T13:08:00.294749Z",
     "shell.execute_reply": "2022-07-24T13:08:00.293540Z"
    },
    "id": "fe007438",
    "papermill": {
     "duration": 0.019486,
     "end_time": "2022-07-24T13:08:00.297559",
     "exception": false,
     "start_time": "2022-07-24T13:08:00.278073",
     "status": "completed"
    },
    "tags": []
   },
   "outputs": [],
   "source": [
    "#Train test split for dataset \n",
    "X_train,X_test,Y_train,Y_test = train_test_split(X,Y,test_size = 0.2)\n",
    "train_data = dataset.CustomDataset(X_train,Y_train)\n",
    "test_data = dataset.CustomDataset(X_test,Y_test)\n"
   ]
  },
  {
   "cell_type": "markdown",
   "id": "a9a1af34",
   "metadata": {
    "id": "a9a1af34",
    "papermill": {
     "duration": 0.008817,
     "end_time": "2022-07-24T13:08:00.314565",
     "exception": false,
     "start_time": "2022-07-24T13:08:00.305748",
     "status": "completed"
    },
    "tags": []
   },
   "source": [
    "## Training Parameters "
   ]
  },
  {
   "cell_type": "code",
   "execution_count": 8,
   "id": "952b7fc8",
   "metadata": {
    "execution": {
     "iopub.execute_input": "2022-07-24T13:08:00.333436Z",
     "iopub.status.busy": "2022-07-24T13:08:00.332861Z",
     "iopub.status.idle": "2022-07-24T13:08:00.338192Z",
     "shell.execute_reply": "2022-07-24T13:08:00.337196Z"
    },
    "id": "952b7fc8",
    "papermill": {
     "duration": 0.018402,
     "end_time": "2022-07-24T13:08:00.341401",
     "exception": false,
     "start_time": "2022-07-24T13:08:00.322999",
     "status": "completed"
    },
    "tags": []
   },
   "outputs": [],
   "source": [
    "batch_size = 32\n",
    "n_epochs = 1000\n",
    "#Select the device \n",
    "device = torch.device('cuda' if torch.cuda.is_available() else 'cpu')"
   ]
  },
  {
   "cell_type": "markdown",
   "id": "a95e1600",
   "metadata": {
    "id": "a95e1600",
    "papermill": {
     "duration": 0.00832,
     "end_time": "2022-07-24T13:08:00.357201",
     "exception": false,
     "start_time": "2022-07-24T13:08:00.348881",
     "status": "completed"
    },
    "tags": []
   },
   "source": [
    "# ABC Pre-generator Model \n",
    "\n",
    "1. The catboost model is used as a pre-generator model for the ABC-GAN. \n",
    "2. The model is first trained on the entire dataset \n",
    "3. It generats X,Y pairs and we add some Gaussian noise with mean 0 and variance 1 to it which is then feed as input to the generator.\n"
   ]
  },
  {
   "cell_type": "code",
   "execution_count": 9,
   "id": "ff8ce7bd",
   "metadata": {
    "execution": {
     "iopub.execute_input": "2022-07-24T13:08:00.376817Z",
     "iopub.status.busy": "2022-07-24T13:08:00.375779Z",
     "iopub.status.idle": "2022-07-24T13:08:02.581950Z",
     "shell.execute_reply": "2022-07-24T13:08:02.568767Z"
    },
    "id": "ff8ce7bd",
    "papermill": {
     "duration": 2.219789,
     "end_time": "2022-07-24T13:08:02.585365",
     "exception": false,
     "start_time": "2022-07-24T13:08:00.365576",
     "status": "completed"
    },
    "tags": []
   },
   "outputs": [
    {
     "name": "stdout",
     "output_type": "stream",
     "text": [
      "Learning rate set to 0.037906\n",
      "0:\tlearn: 0.9734312\ttotal: 52.7ms\tremaining: 52.6s\n",
      "1:\tlearn: 0.9409367\ttotal: 53.1ms\tremaining: 26.5s\n",
      "2:\tlearn: 0.9134930\ttotal: 53.4ms\tremaining: 17.7s\n",
      "3:\tlearn: 0.8824956\ttotal: 53.8ms\tremaining: 13.4s\n",
      "4:\tlearn: 0.8536451\ttotal: 54.2ms\tremaining: 10.8s\n",
      "5:\tlearn: 0.8276422\ttotal: 54.8ms\tremaining: 9.07s\n",
      "6:\tlearn: 0.8015432\ttotal: 55ms\tremaining: 7.8s\n",
      "7:\tlearn: 0.7754357\ttotal: 55.5ms\tremaining: 6.88s\n",
      "8:\tlearn: 0.7498367\ttotal: 55.9ms\tremaining: 6.16s\n",
      "9:\tlearn: 0.7265940\ttotal: 56.4ms\tremaining: 5.59s\n",
      "10:\tlearn: 0.7051486\ttotal: 56.9ms\tremaining: 5.11s\n",
      "11:\tlearn: 0.6840147\ttotal: 57.2ms\tremaining: 4.71s\n",
      "12:\tlearn: 0.6621845\ttotal: 57.7ms\tremaining: 4.38s\n",
      "13:\tlearn: 0.6417900\ttotal: 59.4ms\tremaining: 4.19s\n",
      "14:\tlearn: 0.6207801\ttotal: 59.7ms\tremaining: 3.92s\n",
      "15:\tlearn: 0.6027975\ttotal: 59.9ms\tremaining: 3.68s\n",
      "16:\tlearn: 0.5844022\ttotal: 60.1ms\tremaining: 3.48s\n",
      "17:\tlearn: 0.5669270\ttotal: 60.4ms\tremaining: 3.29s\n",
      "18:\tlearn: 0.5494725\ttotal: 60.6ms\tremaining: 3.13s\n",
      "19:\tlearn: 0.5332880\ttotal: 60.9ms\tremaining: 2.98s\n",
      "20:\tlearn: 0.5164271\ttotal: 63.8ms\tremaining: 2.97s\n",
      "21:\tlearn: 0.5024728\ttotal: 64.8ms\tremaining: 2.88s\n",
      "22:\tlearn: 0.4871049\ttotal: 65.2ms\tremaining: 2.77s\n"
     ]
    },
    {
     "name": "stdout",
     "output_type": "stream",
     "text": [
      "23:\tlearn: 0.4734133\ttotal: 66ms\tremaining: 2.69s\n",
      "24:\tlearn: 0.4597459\ttotal: 66.7ms\tremaining: 2.6s\n",
      "25:\tlearn: 0.4456233\ttotal: 67.8ms\tremaining: 2.54s\n",
      "26:\tlearn: 0.4339940\ttotal: 68.2ms\tremaining: 2.46s\n",
      "27:\tlearn: 0.4212269\ttotal: 68.7ms\tremaining: 2.38s\n",
      "28:\tlearn: 0.4108831\ttotal: 69.1ms\tremaining: 2.31s\n",
      "29:\tlearn: 0.3995579\ttotal: 69.4ms\tremaining: 2.24s\n",
      "30:\tlearn: 0.3873654\ttotal: 69.9ms\tremaining: 2.19s\n",
      "31:\tlearn: 0.3764799\ttotal: 70.4ms\tremaining: 2.13s\n",
      "32:\tlearn: 0.3656958\ttotal: 70.9ms\tremaining: 2.08s\n",
      "33:\tlearn: 0.3550787\ttotal: 71.4ms\tremaining: 2.03s\n",
      "34:\tlearn: 0.3450449\ttotal: 72ms\tremaining: 1.98s\n",
      "35:\tlearn: 0.3359524\ttotal: 72.4ms\tremaining: 1.94s\n",
      "36:\tlearn: 0.3257959\ttotal: 72.9ms\tremaining: 1.9s\n",
      "37:\tlearn: 0.3166004\ttotal: 73.4ms\tremaining: 1.86s\n",
      "38:\tlearn: 0.3090307\ttotal: 73.8ms\tremaining: 1.82s\n",
      "39:\tlearn: 0.2995858\ttotal: 74.3ms\tremaining: 1.78s\n",
      "40:\tlearn: 0.2915372\ttotal: 74.8ms\tremaining: 1.75s\n",
      "41:\tlearn: 0.2844554\ttotal: 75.2ms\tremaining: 1.72s\n",
      "42:\tlearn: 0.2770184\ttotal: 75.7ms\tremaining: 1.69s\n",
      "43:\tlearn: 0.2692493\ttotal: 80.7ms\tremaining: 1.75s\n",
      "44:\tlearn: 0.2635436\ttotal: 81ms\tremaining: 1.72s\n",
      "45:\tlearn: 0.2569578\ttotal: 81.6ms\tremaining: 1.69s\n",
      "46:\tlearn: 0.2507943\ttotal: 82ms\tremaining: 1.66s\n",
      "47:\tlearn: 0.2442615\ttotal: 82.4ms\tremaining: 1.64s\n",
      "48:\tlearn: 0.2373679\ttotal: 83ms\tremaining: 1.61s\n",
      "49:\tlearn: 0.2311427\ttotal: 83.5ms\tremaining: 1.59s\n",
      "50:\tlearn: 0.2253172\ttotal: 84ms\tremaining: 1.56s\n",
      "51:\tlearn: 0.2191985\ttotal: 84.6ms\tremaining: 1.54s\n",
      "52:\tlearn: 0.2143054\ttotal: 85.4ms\tremaining: 1.52s\n",
      "53:\tlearn: 0.2081685\ttotal: 86.3ms\tremaining: 1.51s\n",
      "54:\tlearn: 0.2026346\ttotal: 87.1ms\tremaining: 1.5s\n",
      "55:\tlearn: 0.1971492\ttotal: 92.3ms\tremaining: 1.56s\n",
      "56:\tlearn: 0.1925534\ttotal: 92.9ms\tremaining: 1.54s\n",
      "57:\tlearn: 0.1878623\ttotal: 94.5ms\tremaining: 1.53s\n",
      "58:\tlearn: 0.1832908\ttotal: 98.3ms\tremaining: 1.57s\n",
      "59:\tlearn: 0.1798340\ttotal: 102ms\tremaining: 1.6s\n",
      "60:\tlearn: 0.1753432\ttotal: 103ms\tremaining: 1.58s\n",
      "61:\tlearn: 0.1707404\ttotal: 103ms\tremaining: 1.56s\n",
      "62:\tlearn: 0.1678666\ttotal: 104ms\tremaining: 1.55s\n",
      "63:\tlearn: 0.1634659\ttotal: 105ms\tremaining: 1.53s\n",
      "64:\tlearn: 0.1606831\ttotal: 106ms\tremaining: 1.52s\n",
      "65:\tlearn: 0.1566539\ttotal: 108ms\tremaining: 1.52s\n",
      "66:\tlearn: 0.1529845\ttotal: 109ms\tremaining: 1.51s\n",
      "67:\tlearn: 0.1497358\ttotal: 113ms\tremaining: 1.55s\n",
      "68:\tlearn: 0.1464092\ttotal: 114ms\tremaining: 1.54s\n",
      "69:\tlearn: 0.1433169\ttotal: 115ms\tremaining: 1.52s\n",
      "70:\tlearn: 0.1411046\ttotal: 115ms\tremaining: 1.51s\n",
      "71:\tlearn: 0.1380675\ttotal: 116ms\tremaining: 1.5s\n",
      "72:\tlearn: 0.1346440\ttotal: 117ms\tremaining: 1.49s\n",
      "73:\tlearn: 0.1323476\ttotal: 119ms\tremaining: 1.49s\n",
      "74:\tlearn: 0.1300965\ttotal: 122ms\tremaining: 1.5s\n",
      "75:\tlearn: 0.1276102\ttotal: 124ms\tremaining: 1.5s\n",
      "76:\tlearn: 0.1247964\ttotal: 124ms\tremaining: 1.49s\n",
      "77:\tlearn: 0.1218779\ttotal: 125ms\tremaining: 1.48s\n",
      "78:\tlearn: 0.1199678\ttotal: 126ms\tremaining: 1.46s\n",
      "79:\tlearn: 0.1176983\ttotal: 126ms\tremaining: 1.45s\n",
      "80:\tlearn: 0.1148766\ttotal: 127ms\tremaining: 1.44s\n",
      "81:\tlearn: 0.1122640\ttotal: 127ms\tremaining: 1.42s\n",
      "82:\tlearn: 0.1096143\ttotal: 128ms\tremaining: 1.41s\n",
      "83:\tlearn: 0.1072789\ttotal: 129ms\tremaining: 1.4s\n",
      "84:\tlearn: 0.1057427\ttotal: 130ms\tremaining: 1.4s\n",
      "85:\tlearn: 0.1043683\ttotal: 130ms\tremaining: 1.38s\n",
      "86:\tlearn: 0.1021544\ttotal: 132ms\tremaining: 1.39s\n",
      "87:\tlearn: 0.1002356\ttotal: 133ms\tremaining: 1.38s\n",
      "88:\tlearn: 0.0980241\ttotal: 133ms\tremaining: 1.36s\n",
      "89:\tlearn: 0.0958825\ttotal: 134ms\tremaining: 1.36s\n",
      "90:\tlearn: 0.0950246\ttotal: 135ms\tremaining: 1.34s\n",
      "91:\tlearn: 0.0932344\ttotal: 136ms\tremaining: 1.34s\n",
      "92:\tlearn: 0.0915738\ttotal: 137ms\tremaining: 1.34s\n",
      "93:\tlearn: 0.0898461\ttotal: 138ms\tremaining: 1.33s\n",
      "94:\tlearn: 0.0881651\ttotal: 140ms\tremaining: 1.33s\n",
      "95:\tlearn: 0.0863645\ttotal: 141ms\tremaining: 1.33s\n",
      "96:\tlearn: 0.0851221\ttotal: 142ms\tremaining: 1.32s\n",
      "97:\tlearn: 0.0840670\ttotal: 142ms\tremaining: 1.31s\n",
      "98:\tlearn: 0.0826893\ttotal: 143ms\tremaining: 1.3s\n",
      "99:\tlearn: 0.0811805\ttotal: 143ms\tremaining: 1.29s\n"
     ]
    },
    {
     "name": "stdout",
     "output_type": "stream",
     "text": [
      "100:\tlearn: 0.0798527\ttotal: 144ms\tremaining: 1.28s\n",
      "101:\tlearn: 0.0786544\ttotal: 144ms\tremaining: 1.27s\n",
      "102:\tlearn: 0.0773587\ttotal: 144ms\tremaining: 1.26s\n",
      "103:\tlearn: 0.0763186\ttotal: 148ms\tremaining: 1.27s\n",
      "104:\tlearn: 0.0750084\ttotal: 148ms\tremaining: 1.26s\n",
      "105:\tlearn: 0.0743435\ttotal: 149ms\tremaining: 1.26s\n",
      "106:\tlearn: 0.0730756\ttotal: 150ms\tremaining: 1.25s\n",
      "107:\tlearn: 0.0720006\ttotal: 150ms\tremaining: 1.24s\n",
      "108:\tlearn: 0.0708415\ttotal: 151ms\tremaining: 1.23s\n",
      "109:\tlearn: 0.0702583\ttotal: 151ms\tremaining: 1.22s\n",
      "110:\tlearn: 0.0695260\ttotal: 156ms\tremaining: 1.25s\n",
      "111:\tlearn: 0.0685427\ttotal: 157ms\tremaining: 1.24s\n",
      "112:\tlearn: 0.0678513\ttotal: 157ms\tremaining: 1.23s\n",
      "113:\tlearn: 0.0667855\ttotal: 157ms\tremaining: 1.22s\n",
      "114:\tlearn: 0.0657204\ttotal: 159ms\tremaining: 1.22s\n",
      "115:\tlearn: 0.0651845\ttotal: 161ms\tremaining: 1.23s\n",
      "116:\tlearn: 0.0644051\ttotal: 163ms\tremaining: 1.23s\n",
      "117:\tlearn: 0.0641898\ttotal: 163ms\tremaining: 1.22s\n",
      "118:\tlearn: 0.0633213\ttotal: 164ms\tremaining: 1.21s\n",
      "119:\tlearn: 0.0625581\ttotal: 164ms\tremaining: 1.2s\n",
      "120:\tlearn: 0.0616451\ttotal: 165ms\tremaining: 1.2s\n",
      "121:\tlearn: 0.0609232\ttotal: 166ms\tremaining: 1.2s\n",
      "122:\tlearn: 0.0602978\ttotal: 166ms\tremaining: 1.19s\n",
      "123:\tlearn: 0.0595452\ttotal: 167ms\tremaining: 1.18s\n",
      "124:\tlearn: 0.0590070\ttotal: 167ms\tremaining: 1.17s\n",
      "125:\tlearn: 0.0584652\ttotal: 168ms\tremaining: 1.16s\n",
      "126:\tlearn: 0.0577612\ttotal: 168ms\tremaining: 1.15s\n",
      "127:\tlearn: 0.0572612\ttotal: 168ms\tremaining: 1.15s\n",
      "128:\tlearn: 0.0565692\ttotal: 169ms\tremaining: 1.14s\n",
      "129:\tlearn: 0.0559054\ttotal: 169ms\tremaining: 1.13s\n",
      "130:\tlearn: 0.0553361\ttotal: 169ms\tremaining: 1.12s\n",
      "131:\tlearn: 0.0551719\ttotal: 169ms\tremaining: 1.11s\n",
      "132:\tlearn: 0.0547453\ttotal: 170ms\tremaining: 1.11s\n",
      "133:\tlearn: 0.0542763\ttotal: 170ms\tremaining: 1.1s\n",
      "134:\tlearn: 0.0537807\ttotal: 171ms\tremaining: 1.09s\n",
      "135:\tlearn: 0.0532853\ttotal: 171ms\tremaining: 1.09s\n",
      "136:\tlearn: 0.0528949\ttotal: 172ms\tremaining: 1.09s\n",
      "137:\tlearn: 0.0524868\ttotal: 173ms\tremaining: 1.08s\n",
      "138:\tlearn: 0.0520290\ttotal: 173ms\tremaining: 1.07s\n",
      "139:\tlearn: 0.0515844\ttotal: 174ms\tremaining: 1.07s\n",
      "140:\tlearn: 0.0511022\ttotal: 175ms\tremaining: 1.06s\n",
      "141:\tlearn: 0.0507047\ttotal: 176ms\tremaining: 1.06s\n",
      "142:\tlearn: 0.0503836\ttotal: 176ms\tremaining: 1.05s\n",
      "143:\tlearn: 0.0501154\ttotal: 177ms\tremaining: 1.05s\n",
      "144:\tlearn: 0.0498916\ttotal: 177ms\tremaining: 1.04s\n",
      "145:\tlearn: 0.0496134\ttotal: 177ms\tremaining: 1.03s\n",
      "146:\tlearn: 0.0493051\ttotal: 178ms\tremaining: 1.03s\n",
      "147:\tlearn: 0.0490316\ttotal: 178ms\tremaining: 1.03s\n",
      "148:\tlearn: 0.0487822\ttotal: 179ms\tremaining: 1.02s\n",
      "149:\tlearn: 0.0485804\ttotal: 179ms\tremaining: 1.01s\n",
      "150:\tlearn: 0.0482822\ttotal: 179ms\tremaining: 1.01s\n",
      "151:\tlearn: 0.0479988\ttotal: 180ms\tremaining: 1s\n",
      "152:\tlearn: 0.0477976\ttotal: 180ms\tremaining: 998ms\n",
      "153:\tlearn: 0.0475456\ttotal: 181ms\tremaining: 992ms\n",
      "154:\tlearn: 0.0472419\ttotal: 181ms\tremaining: 987ms\n",
      "155:\tlearn: 0.0469433\ttotal: 181ms\tremaining: 981ms\n",
      "156:\tlearn: 0.0466827\ttotal: 182ms\tremaining: 975ms\n",
      "157:\tlearn: 0.0464917\ttotal: 182ms\tremaining: 969ms\n",
      "158:\tlearn: 0.0462203\ttotal: 183ms\tremaining: 967ms\n",
      "159:\tlearn: 0.0459950\ttotal: 183ms\tremaining: 961ms\n",
      "160:\tlearn: 0.0457094\ttotal: 183ms\tremaining: 955ms\n",
      "161:\tlearn: 0.0455254\ttotal: 184ms\tremaining: 951ms\n",
      "162:\tlearn: 0.0452980\ttotal: 184ms\tremaining: 946ms\n",
      "163:\tlearn: 0.0450825\ttotal: 184ms\tremaining: 940ms\n",
      "164:\tlearn: 0.0448877\ttotal: 185ms\tremaining: 935ms\n",
      "165:\tlearn: 0.0446983\ttotal: 185ms\tremaining: 930ms\n",
      "166:\tlearn: 0.0444480\ttotal: 185ms\tremaining: 925ms\n",
      "167:\tlearn: 0.0442240\ttotal: 186ms\tremaining: 919ms\n",
      "168:\tlearn: 0.0440518\ttotal: 187ms\tremaining: 918ms\n",
      "169:\tlearn: 0.0438316\ttotal: 188ms\tremaining: 915ms\n",
      "170:\tlearn: 0.0436332\ttotal: 188ms\tremaining: 911ms\n",
      "171:\tlearn: 0.0434689\ttotal: 188ms\tremaining: 906ms\n",
      "172:\tlearn: 0.0432807\ttotal: 189ms\tremaining: 902ms\n",
      "173:\tlearn: 0.0431437\ttotal: 189ms\tremaining: 897ms\n",
      "174:\tlearn: 0.0429942\ttotal: 189ms\tremaining: 892ms\n",
      "175:\tlearn: 0.0427803\ttotal: 189ms\tremaining: 887ms\n",
      "176:\tlearn: 0.0426149\ttotal: 190ms\tremaining: 883ms\n",
      "177:\tlearn: 0.0424818\ttotal: 190ms\tremaining: 878ms\n",
      "178:\tlearn: 0.0422780\ttotal: 190ms\tremaining: 874ms\n",
      "179:\tlearn: 0.0421179\ttotal: 191ms\tremaining: 869ms\n"
     ]
    },
    {
     "name": "stdout",
     "output_type": "stream",
     "text": [
      "180:\tlearn: 0.0420091\ttotal: 191ms\tremaining: 864ms\n",
      "181:\tlearn: 0.0418893\ttotal: 191ms\tremaining: 860ms\n",
      "182:\tlearn: 0.0417471\ttotal: 192ms\tremaining: 855ms\n",
      "183:\tlearn: 0.0415758\ttotal: 192ms\tremaining: 851ms\n",
      "184:\tlearn: 0.0414365\ttotal: 194ms\tremaining: 856ms\n",
      "185:\tlearn: 0.0412737\ttotal: 195ms\tremaining: 854ms\n",
      "186:\tlearn: 0.0410014\ttotal: 196ms\tremaining: 850ms\n",
      "187:\tlearn: 0.0408797\ttotal: 196ms\tremaining: 846ms\n",
      "188:\tlearn: 0.0407170\ttotal: 196ms\tremaining: 842ms\n",
      "189:\tlearn: 0.0405455\ttotal: 196ms\tremaining: 838ms\n",
      "190:\tlearn: 0.0404341\ttotal: 197ms\tremaining: 833ms\n",
      "191:\tlearn: 0.0403213\ttotal: 197ms\tremaining: 829ms\n",
      "192:\tlearn: 0.0401407\ttotal: 198ms\tremaining: 827ms\n",
      "193:\tlearn: 0.0399909\ttotal: 199ms\tremaining: 825ms\n",
      "194:\tlearn: 0.0398178\ttotal: 199ms\tremaining: 822ms\n",
      "195:\tlearn: 0.0396877\ttotal: 200ms\tremaining: 818ms\n",
      "196:\tlearn: 0.0394946\ttotal: 202ms\tremaining: 822ms\n",
      "197:\tlearn: 0.0393492\ttotal: 202ms\tremaining: 819ms\n",
      "198:\tlearn: 0.0391088\ttotal: 203ms\tremaining: 818ms\n",
      "199:\tlearn: 0.0389171\ttotal: 204ms\tremaining: 815ms\n",
      "200:\tlearn: 0.0388054\ttotal: 205ms\tremaining: 816ms\n",
      "201:\tlearn: 0.0387035\ttotal: 206ms\tremaining: 812ms\n",
      "202:\tlearn: 0.0385241\ttotal: 206ms\tremaining: 809ms\n",
      "203:\tlearn: 0.0383497\ttotal: 209ms\tremaining: 816ms\n",
      "204:\tlearn: 0.0382562\ttotal: 212ms\tremaining: 821ms\n",
      "205:\tlearn: 0.0381478\ttotal: 212ms\tremaining: 817ms\n",
      "206:\tlearn: 0.0380758\ttotal: 214ms\tremaining: 819ms\n",
      "207:\tlearn: 0.0379075\ttotal: 214ms\tremaining: 816ms\n",
      "208:\tlearn: 0.0378186\ttotal: 215ms\tremaining: 815ms\n",
      "209:\tlearn: 0.0376611\ttotal: 216ms\tremaining: 811ms\n",
      "210:\tlearn: 0.0375603\ttotal: 217ms\tremaining: 810ms\n",
      "211:\tlearn: 0.0374534\ttotal: 217ms\tremaining: 806ms\n",
      "212:\tlearn: 0.0373036\ttotal: 217ms\tremaining: 802ms\n",
      "213:\tlearn: 0.0371973\ttotal: 218ms\tremaining: 799ms\n",
      "214:\tlearn: 0.0371026\ttotal: 218ms\tremaining: 795ms\n",
      "215:\tlearn: 0.0369550\ttotal: 218ms\tremaining: 792ms\n",
      "216:\tlearn: 0.0367649\ttotal: 218ms\tremaining: 788ms\n",
      "217:\tlearn: 0.0366369\ttotal: 219ms\tremaining: 784ms\n",
      "218:\tlearn: 0.0365155\ttotal: 219ms\tremaining: 781ms\n",
      "219:\tlearn: 0.0363798\ttotal: 220ms\tremaining: 779ms\n",
      "220:\tlearn: 0.0362708\ttotal: 220ms\tremaining: 775ms\n",
      "221:\tlearn: 0.0361462\ttotal: 220ms\tremaining: 772ms\n",
      "222:\tlearn: 0.0360452\ttotal: 221ms\tremaining: 769ms\n",
      "223:\tlearn: 0.0359493\ttotal: 221ms\tremaining: 765ms\n",
      "224:\tlearn: 0.0358471\ttotal: 221ms\tremaining: 761ms\n",
      "225:\tlearn: 0.0357002\ttotal: 221ms\tremaining: 758ms\n",
      "226:\tlearn: 0.0355809\ttotal: 222ms\tremaining: 755ms\n",
      "227:\tlearn: 0.0354686\ttotal: 222ms\tremaining: 751ms\n",
      "228:\tlearn: 0.0353162\ttotal: 222ms\tremaining: 748ms\n",
      "229:\tlearn: 0.0352330\ttotal: 222ms\tremaining: 744ms\n",
      "230:\tlearn: 0.0350915\ttotal: 223ms\tremaining: 741ms\n",
      "231:\tlearn: 0.0349992\ttotal: 225ms\tremaining: 744ms\n",
      "232:\tlearn: 0.0348871\ttotal: 225ms\tremaining: 742ms\n",
      "233:\tlearn: 0.0347690\ttotal: 226ms\tremaining: 739ms\n",
      "234:\tlearn: 0.0346966\ttotal: 226ms\tremaining: 736ms\n",
      "235:\tlearn: 0.0345535\ttotal: 226ms\tremaining: 732ms\n",
      "236:\tlearn: 0.0344152\ttotal: 227ms\tremaining: 729ms\n",
      "237:\tlearn: 0.0343350\ttotal: 227ms\tremaining: 726ms\n",
      "238:\tlearn: 0.0342021\ttotal: 227ms\tremaining: 723ms\n",
      "239:\tlearn: 0.0341032\ttotal: 228ms\tremaining: 721ms\n",
      "240:\tlearn: 0.0340594\ttotal: 228ms\tremaining: 718ms\n",
      "241:\tlearn: 0.0339400\ttotal: 229ms\tremaining: 717ms\n",
      "242:\tlearn: 0.0338376\ttotal: 229ms\tremaining: 714ms\n",
      "243:\tlearn: 0.0337193\ttotal: 230ms\tremaining: 713ms\n",
      "244:\tlearn: 0.0336454\ttotal: 230ms\tremaining: 710ms\n",
      "245:\tlearn: 0.0335596\ttotal: 231ms\tremaining: 707ms\n",
      "246:\tlearn: 0.0334388\ttotal: 231ms\tremaining: 705ms\n",
      "247:\tlearn: 0.0333348\ttotal: 232ms\tremaining: 702ms\n",
      "248:\tlearn: 0.0332262\ttotal: 232ms\tremaining: 700ms\n",
      "249:\tlearn: 0.0331642\ttotal: 232ms\tremaining: 697ms\n",
      "250:\tlearn: 0.0330875\ttotal: 233ms\tremaining: 694ms\n",
      "251:\tlearn: 0.0329701\ttotal: 233ms\tremaining: 691ms\n",
      "252:\tlearn: 0.0328320\ttotal: 233ms\tremaining: 689ms\n",
      "253:\tlearn: 0.0327476\ttotal: 233ms\tremaining: 686ms\n",
      "254:\tlearn: 0.0326551\ttotal: 234ms\tremaining: 683ms\n",
      "255:\tlearn: 0.0325752\ttotal: 234ms\tremaining: 680ms\n",
      "256:\tlearn: 0.0324967\ttotal: 234ms\tremaining: 677ms\n",
      "257:\tlearn: 0.0324378\ttotal: 235ms\tremaining: 677ms\n",
      "258:\tlearn: 0.0323630\ttotal: 236ms\tremaining: 675ms\n",
      "259:\tlearn: 0.0322748\ttotal: 236ms\tremaining: 672ms\n",
      "260:\tlearn: 0.0322244\ttotal: 237ms\tremaining: 670ms\n",
      "261:\tlearn: 0.0321355\ttotal: 237ms\tremaining: 668ms\n",
      "262:\tlearn: 0.0320592\ttotal: 237ms\tremaining: 665ms\n",
      "263:\tlearn: 0.0320079\ttotal: 238ms\tremaining: 664ms\n",
      "264:\tlearn: 0.0319230\ttotal: 239ms\tremaining: 663ms\n",
      "265:\tlearn: 0.0318863\ttotal: 240ms\tremaining: 662ms\n",
      "266:\tlearn: 0.0318226\ttotal: 241ms\tremaining: 661ms\n",
      "267:\tlearn: 0.0317638\ttotal: 241ms\tremaining: 660ms\n",
      "268:\tlearn: 0.0316881\ttotal: 242ms\tremaining: 657ms\n",
      "269:\tlearn: 0.0315658\ttotal: 242ms\tremaining: 654ms\n",
      "270:\tlearn: 0.0314646\ttotal: 242ms\tremaining: 652ms\n",
      "271:\tlearn: 0.0313640\ttotal: 242ms\tremaining: 649ms\n",
      "272:\tlearn: 0.0312778\ttotal: 243ms\tremaining: 648ms\n",
      "273:\tlearn: 0.0312154\ttotal: 244ms\tremaining: 645ms\n",
      "274:\tlearn: 0.0311639\ttotal: 245ms\tremaining: 645ms\n",
      "275:\tlearn: 0.0310698\ttotal: 246ms\tremaining: 645ms\n",
      "276:\tlearn: 0.0309877\ttotal: 247ms\tremaining: 643ms\n",
      "277:\tlearn: 0.0309144\ttotal: 247ms\tremaining: 642ms\n",
      "278:\tlearn: 0.0307529\ttotal: 247ms\tremaining: 639ms\n",
      "279:\tlearn: 0.0306907\ttotal: 248ms\tremaining: 637ms\n",
      "280:\tlearn: 0.0306205\ttotal: 248ms\tremaining: 634ms\n",
      "281:\tlearn: 0.0305677\ttotal: 248ms\tremaining: 632ms\n",
      "282:\tlearn: 0.0305248\ttotal: 249ms\tremaining: 630ms\n",
      "283:\tlearn: 0.0303783\ttotal: 249ms\tremaining: 627ms\n",
      "284:\tlearn: 0.0302228\ttotal: 249ms\tremaining: 625ms\n",
      "285:\tlearn: 0.0301686\ttotal: 249ms\tremaining: 623ms\n",
      "286:\tlearn: 0.0301343\ttotal: 250ms\tremaining: 620ms\n",
      "287:\tlearn: 0.0300742\ttotal: 250ms\tremaining: 618ms\n",
      "288:\tlearn: 0.0300434\ttotal: 250ms\tremaining: 616ms\n",
      "289:\tlearn: 0.0299691\ttotal: 251ms\tremaining: 614ms\n",
      "290:\tlearn: 0.0298835\ttotal: 251ms\tremaining: 613ms\n",
      "291:\tlearn: 0.0297401\ttotal: 252ms\tremaining: 610ms\n",
      "292:\tlearn: 0.0296799\ttotal: 252ms\tremaining: 608ms\n",
      "293:\tlearn: 0.0296372\ttotal: 253ms\tremaining: 607ms\n",
      "294:\tlearn: 0.0295743\ttotal: 253ms\tremaining: 605ms\n",
      "295:\tlearn: 0.0295322\ttotal: 253ms\tremaining: 603ms\n",
      "296:\tlearn: 0.0294759\ttotal: 254ms\tremaining: 602ms\n",
      "297:\tlearn: 0.0293496\ttotal: 254ms\tremaining: 599ms\n",
      "298:\tlearn: 0.0292690\ttotal: 255ms\tremaining: 597ms\n",
      "299:\tlearn: 0.0292121\ttotal: 255ms\tremaining: 595ms\n",
      "300:\tlearn: 0.0291629\ttotal: 255ms\tremaining: 593ms\n",
      "301:\tlearn: 0.0291001\ttotal: 256ms\tremaining: 591ms\n",
      "302:\tlearn: 0.0289717\ttotal: 256ms\tremaining: 589ms\n",
      "303:\tlearn: 0.0289347\ttotal: 256ms\tremaining: 587ms\n",
      "304:\tlearn: 0.0288695\ttotal: 257ms\tremaining: 585ms\n",
      "305:\tlearn: 0.0288204\ttotal: 257ms\tremaining: 583ms\n",
      "306:\tlearn: 0.0287646\ttotal: 257ms\tremaining: 581ms\n",
      "307:\tlearn: 0.0287232\ttotal: 258ms\tremaining: 579ms\n",
      "308:\tlearn: 0.0286742\ttotal: 258ms\tremaining: 577ms\n",
      "309:\tlearn: 0.0285670\ttotal: 258ms\tremaining: 574ms\n",
      "310:\tlearn: 0.0284951\ttotal: 259ms\tremaining: 573ms\n",
      "311:\tlearn: 0.0283821\ttotal: 259ms\tremaining: 571ms\n",
      "312:\tlearn: 0.0283464\ttotal: 259ms\tremaining: 569ms\n",
      "313:\tlearn: 0.0283030\ttotal: 260ms\tremaining: 567ms\n",
      "314:\tlearn: 0.0282117\ttotal: 260ms\tremaining: 565ms\n",
      "315:\tlearn: 0.0281735\ttotal: 260ms\tremaining: 563ms\n",
      "316:\tlearn: 0.0280828\ttotal: 260ms\tremaining: 561ms\n",
      "317:\tlearn: 0.0280029\ttotal: 261ms\tremaining: 560ms\n",
      "318:\tlearn: 0.0279313\ttotal: 261ms\tremaining: 558ms\n",
      "319:\tlearn: 0.0278844\ttotal: 261ms\tremaining: 556ms\n",
      "320:\tlearn: 0.0277779\ttotal: 262ms\tremaining: 554ms\n",
      "321:\tlearn: 0.0276958\ttotal: 262ms\tremaining: 552ms\n",
      "322:\tlearn: 0.0276038\ttotal: 264ms\tremaining: 553ms\n",
      "323:\tlearn: 0.0275455\ttotal: 266ms\tremaining: 554ms\n",
      "324:\tlearn: 0.0274975\ttotal: 266ms\tremaining: 552ms\n",
      "325:\tlearn: 0.0274292\ttotal: 266ms\tremaining: 550ms\n",
      "326:\tlearn: 0.0273631\ttotal: 267ms\tremaining: 549ms\n",
      "327:\tlearn: 0.0273248\ttotal: 267ms\tremaining: 547ms\n",
      "328:\tlearn: 0.0272846\ttotal: 268ms\tremaining: 546ms\n",
      "329:\tlearn: 0.0272466\ttotal: 269ms\tremaining: 546ms\n",
      "330:\tlearn: 0.0271501\ttotal: 269ms\tremaining: 544ms\n",
      "331:\tlearn: 0.0271223\ttotal: 270ms\tremaining: 544ms\n",
      "332:\tlearn: 0.0270351\ttotal: 271ms\tremaining: 543ms\n",
      "333:\tlearn: 0.0269483\ttotal: 272ms\tremaining: 542ms\n",
      "334:\tlearn: 0.0269209\ttotal: 272ms\tremaining: 540ms\n",
      "335:\tlearn: 0.0268879\ttotal: 272ms\tremaining: 538ms\n",
      "336:\tlearn: 0.0268262\ttotal: 273ms\tremaining: 536ms\n",
      "337:\tlearn: 0.0267654\ttotal: 273ms\tremaining: 535ms\n",
      "338:\tlearn: 0.0267077\ttotal: 273ms\tremaining: 533ms\n",
      "339:\tlearn: 0.0266860\ttotal: 273ms\tremaining: 531ms\n",
      "340:\tlearn: 0.0266256\ttotal: 276ms\tremaining: 534ms\n",
      "341:\tlearn: 0.0265633\ttotal: 277ms\tremaining: 533ms\n",
      "342:\tlearn: 0.0265131\ttotal: 277ms\tremaining: 531ms\n",
      "343:\tlearn: 0.0264629\ttotal: 278ms\tremaining: 530ms\n",
      "344:\tlearn: 0.0264040\ttotal: 278ms\tremaining: 529ms\n"
     ]
    },
    {
     "name": "stdout",
     "output_type": "stream",
     "text": [
      "345:\tlearn: 0.0263497\ttotal: 280ms\tremaining: 530ms\n",
      "346:\tlearn: 0.0262953\ttotal: 281ms\tremaining: 528ms\n",
      "347:\tlearn: 0.0262364\ttotal: 281ms\tremaining: 526ms\n",
      "348:\tlearn: 0.0261846\ttotal: 281ms\tremaining: 525ms\n",
      "349:\tlearn: 0.0261167\ttotal: 282ms\tremaining: 523ms\n",
      "350:\tlearn: 0.0260365\ttotal: 282ms\tremaining: 521ms\n",
      "351:\tlearn: 0.0259865\ttotal: 282ms\tremaining: 520ms\n",
      "352:\tlearn: 0.0259251\ttotal: 283ms\tremaining: 518ms\n",
      "353:\tlearn: 0.0258905\ttotal: 283ms\tremaining: 516ms\n",
      "354:\tlearn: 0.0258579\ttotal: 283ms\tremaining: 515ms\n",
      "355:\tlearn: 0.0258094\ttotal: 283ms\tremaining: 513ms\n",
      "356:\tlearn: 0.0257632\ttotal: 284ms\tremaining: 511ms\n",
      "357:\tlearn: 0.0256864\ttotal: 284ms\tremaining: 509ms\n",
      "358:\tlearn: 0.0256573\ttotal: 284ms\tremaining: 508ms\n",
      "359:\tlearn: 0.0255983\ttotal: 286ms\tremaining: 508ms\n",
      "360:\tlearn: 0.0255499\ttotal: 286ms\tremaining: 507ms\n",
      "361:\tlearn: 0.0254915\ttotal: 287ms\tremaining: 505ms\n",
      "362:\tlearn: 0.0254481\ttotal: 287ms\tremaining: 504ms\n",
      "363:\tlearn: 0.0253534\ttotal: 287ms\tremaining: 502ms\n",
      "364:\tlearn: 0.0252863\ttotal: 288ms\tremaining: 500ms\n",
      "365:\tlearn: 0.0252157\ttotal: 288ms\tremaining: 499ms\n",
      "366:\tlearn: 0.0251668\ttotal: 288ms\tremaining: 497ms\n",
      "367:\tlearn: 0.0251242\ttotal: 288ms\tremaining: 495ms\n",
      "368:\tlearn: 0.0250841\ttotal: 289ms\tremaining: 494ms\n",
      "369:\tlearn: 0.0250630\ttotal: 289ms\tremaining: 492ms\n",
      "370:\tlearn: 0.0250082\ttotal: 289ms\tremaining: 491ms\n",
      "371:\tlearn: 0.0249571\ttotal: 290ms\tremaining: 490ms\n",
      "372:\tlearn: 0.0249244\ttotal: 291ms\tremaining: 489ms\n",
      "373:\tlearn: 0.0248946\ttotal: 291ms\tremaining: 487ms\n",
      "374:\tlearn: 0.0248238\ttotal: 291ms\tremaining: 485ms\n",
      "375:\tlearn: 0.0247810\ttotal: 291ms\tremaining: 484ms\n",
      "376:\tlearn: 0.0247285\ttotal: 292ms\tremaining: 483ms\n",
      "377:\tlearn: 0.0247029\ttotal: 292ms\tremaining: 481ms\n",
      "378:\tlearn: 0.0246813\ttotal: 293ms\tremaining: 479ms\n",
      "379:\tlearn: 0.0246141\ttotal: 293ms\tremaining: 478ms\n",
      "380:\tlearn: 0.0245603\ttotal: 293ms\tremaining: 476ms\n",
      "381:\tlearn: 0.0244963\ttotal: 294ms\tremaining: 475ms\n",
      "382:\tlearn: 0.0244571\ttotal: 294ms\tremaining: 473ms\n",
      "383:\tlearn: 0.0244193\ttotal: 294ms\tremaining: 472ms\n",
      "384:\tlearn: 0.0243744\ttotal: 295ms\tremaining: 471ms\n",
      "385:\tlearn: 0.0243392\ttotal: 295ms\tremaining: 469ms\n",
      "386:\tlearn: 0.0243138\ttotal: 296ms\tremaining: 469ms\n",
      "387:\tlearn: 0.0242848\ttotal: 296ms\tremaining: 467ms\n",
      "388:\tlearn: 0.0242562\ttotal: 297ms\tremaining: 466ms\n",
      "389:\tlearn: 0.0242188\ttotal: 298ms\tremaining: 466ms\n",
      "390:\tlearn: 0.0241721\ttotal: 299ms\tremaining: 465ms\n",
      "391:\tlearn: 0.0241438\ttotal: 299ms\tremaining: 464ms\n",
      "392:\tlearn: 0.0241181\ttotal: 301ms\tremaining: 465ms\n",
      "393:\tlearn: 0.0240634\ttotal: 302ms\tremaining: 465ms\n",
      "394:\tlearn: 0.0240327\ttotal: 303ms\tremaining: 464ms\n",
      "395:\tlearn: 0.0240047\ttotal: 303ms\tremaining: 462ms\n",
      "396:\tlearn: 0.0239429\ttotal: 304ms\tremaining: 461ms\n",
      "397:\tlearn: 0.0238879\ttotal: 304ms\tremaining: 460ms\n",
      "398:\tlearn: 0.0238268\ttotal: 304ms\tremaining: 459ms\n",
      "399:\tlearn: 0.0237825\ttotal: 306ms\tremaining: 459ms\n",
      "400:\tlearn: 0.0237401\ttotal: 306ms\tremaining: 458ms\n",
      "401:\tlearn: 0.0237182\ttotal: 307ms\tremaining: 456ms\n",
      "402:\tlearn: 0.0236923\ttotal: 307ms\tremaining: 455ms\n",
      "403:\tlearn: 0.0236557\ttotal: 307ms\tremaining: 453ms\n",
      "404:\tlearn: 0.0235884\ttotal: 308ms\tremaining: 452ms\n",
      "405:\tlearn: 0.0235648\ttotal: 308ms\tremaining: 450ms\n",
      "406:\tlearn: 0.0235334\ttotal: 308ms\tremaining: 449ms\n",
      "407:\tlearn: 0.0234893\ttotal: 308ms\tremaining: 447ms\n",
      "408:\tlearn: 0.0234438\ttotal: 309ms\tremaining: 446ms\n",
      "409:\tlearn: 0.0233906\ttotal: 309ms\tremaining: 445ms\n",
      "410:\tlearn: 0.0233519\ttotal: 310ms\tremaining: 444ms\n",
      "411:\tlearn: 0.0233152\ttotal: 310ms\tremaining: 442ms\n",
      "412:\tlearn: 0.0232797\ttotal: 310ms\tremaining: 441ms\n",
      "413:\tlearn: 0.0232577\ttotal: 310ms\tremaining: 439ms\n",
      "414:\tlearn: 0.0231898\ttotal: 311ms\tremaining: 438ms\n",
      "415:\tlearn: 0.0231354\ttotal: 311ms\tremaining: 437ms\n",
      "416:\tlearn: 0.0230853\ttotal: 311ms\tremaining: 435ms\n",
      "417:\tlearn: 0.0230676\ttotal: 312ms\tremaining: 434ms\n",
      "418:\tlearn: 0.0230338\ttotal: 312ms\tremaining: 433ms\n",
      "419:\tlearn: 0.0230115\ttotal: 312ms\tremaining: 431ms\n",
      "420:\tlearn: 0.0229799\ttotal: 313ms\tremaining: 430ms\n",
      "421:\tlearn: 0.0229500\ttotal: 313ms\tremaining: 429ms\n",
      "422:\tlearn: 0.0229165\ttotal: 314ms\tremaining: 428ms\n",
      "423:\tlearn: 0.0229023\ttotal: 314ms\tremaining: 427ms\n",
      "424:\tlearn: 0.0228681\ttotal: 314ms\tremaining: 425ms\n",
      "425:\tlearn: 0.0228400\ttotal: 315ms\tremaining: 424ms\n",
      "426:\tlearn: 0.0228133\ttotal: 315ms\tremaining: 423ms\n",
      "427:\tlearn: 0.0227893\ttotal: 315ms\tremaining: 421ms\n",
      "428:\tlearn: 0.0227378\ttotal: 316ms\tremaining: 420ms\n",
      "429:\tlearn: 0.0227161\ttotal: 316ms\tremaining: 419ms\n",
      "430:\tlearn: 0.0226941\ttotal: 317ms\tremaining: 418ms\n",
      "431:\tlearn: 0.0226484\ttotal: 317ms\tremaining: 417ms\n",
      "432:\tlearn: 0.0226181\ttotal: 317ms\tremaining: 415ms\n",
      "433:\tlearn: 0.0225934\ttotal: 317ms\tremaining: 414ms\n",
      "434:\tlearn: 0.0225734\ttotal: 318ms\tremaining: 412ms\n",
      "435:\tlearn: 0.0225416\ttotal: 318ms\tremaining: 411ms\n",
      "436:\tlearn: 0.0225153\ttotal: 318ms\tremaining: 410ms\n",
      "437:\tlearn: 0.0224747\ttotal: 319ms\tremaining: 409ms\n",
      "438:\tlearn: 0.0224510\ttotal: 319ms\tremaining: 407ms\n",
      "439:\tlearn: 0.0224287\ttotal: 319ms\tremaining: 406ms\n",
      "440:\tlearn: 0.0224065\ttotal: 320ms\tremaining: 405ms\n",
      "441:\tlearn: 0.0223944\ttotal: 320ms\tremaining: 404ms\n",
      "442:\tlearn: 0.0223741\ttotal: 320ms\tremaining: 402ms\n",
      "443:\tlearn: 0.0223424\ttotal: 320ms\tremaining: 401ms\n",
      "444:\tlearn: 0.0222803\ttotal: 321ms\tremaining: 400ms\n",
      "445:\tlearn: 0.0222588\ttotal: 321ms\tremaining: 399ms\n",
      "446:\tlearn: 0.0222010\ttotal: 321ms\tremaining: 397ms\n",
      "447:\tlearn: 0.0221683\ttotal: 322ms\tremaining: 396ms\n",
      "448:\tlearn: 0.0221152\ttotal: 322ms\tremaining: 396ms\n",
      "449:\tlearn: 0.0220927\ttotal: 323ms\tremaining: 395ms\n",
      "450:\tlearn: 0.0220548\ttotal: 324ms\tremaining: 394ms\n",
      "451:\tlearn: 0.0220299\ttotal: 324ms\tremaining: 393ms\n",
      "452:\tlearn: 0.0219957\ttotal: 325ms\tremaining: 392ms\n",
      "453:\tlearn: 0.0219578\ttotal: 326ms\tremaining: 392ms\n"
     ]
    },
    {
     "name": "stdout",
     "output_type": "stream",
     "text": [
      "454:\tlearn: 0.0219350\ttotal: 326ms\tremaining: 391ms\n",
      "455:\tlearn: 0.0218809\ttotal: 327ms\tremaining: 390ms\n",
      "456:\tlearn: 0.0218195\ttotal: 327ms\tremaining: 388ms\n",
      "457:\tlearn: 0.0217925\ttotal: 327ms\tremaining: 387ms\n",
      "458:\tlearn: 0.0217634\ttotal: 327ms\tremaining: 386ms\n",
      "459:\tlearn: 0.0217416\ttotal: 329ms\tremaining: 386ms\n",
      "460:\tlearn: 0.0217205\ttotal: 330ms\tremaining: 386ms\n",
      "461:\tlearn: 0.0217040\ttotal: 330ms\tremaining: 385ms\n",
      "462:\tlearn: 0.0216754\ttotal: 331ms\tremaining: 384ms\n",
      "463:\tlearn: 0.0216523\ttotal: 333ms\tremaining: 384ms\n",
      "464:\tlearn: 0.0216022\ttotal: 333ms\tremaining: 384ms\n",
      "465:\tlearn: 0.0215836\ttotal: 334ms\tremaining: 382ms\n",
      "466:\tlearn: 0.0215669\ttotal: 334ms\tremaining: 381ms\n",
      "467:\tlearn: 0.0215350\ttotal: 334ms\tremaining: 380ms\n",
      "468:\tlearn: 0.0215016\ttotal: 334ms\tremaining: 379ms\n",
      "469:\tlearn: 0.0214423\ttotal: 335ms\tremaining: 378ms\n",
      "470:\tlearn: 0.0214212\ttotal: 335ms\tremaining: 376ms\n",
      "471:\tlearn: 0.0213915\ttotal: 335ms\tremaining: 375ms\n",
      "472:\tlearn: 0.0213697\ttotal: 336ms\tremaining: 375ms\n",
      "473:\tlearn: 0.0213496\ttotal: 337ms\tremaining: 374ms\n",
      "474:\tlearn: 0.0213325\ttotal: 338ms\tremaining: 373ms\n",
      "475:\tlearn: 0.0213092\ttotal: 338ms\tremaining: 372ms\n",
      "476:\tlearn: 0.0212940\ttotal: 338ms\tremaining: 371ms\n",
      "477:\tlearn: 0.0212777\ttotal: 338ms\tremaining: 370ms\n",
      "478:\tlearn: 0.0212478\ttotal: 339ms\tremaining: 368ms\n",
      "479:\tlearn: 0.0212033\ttotal: 339ms\tremaining: 367ms\n",
      "480:\tlearn: 0.0211552\ttotal: 339ms\tremaining: 366ms\n",
      "481:\tlearn: 0.0211290\ttotal: 340ms\tremaining: 365ms\n",
      "482:\tlearn: 0.0211094\ttotal: 340ms\tremaining: 364ms\n",
      "483:\tlearn: 0.0210941\ttotal: 340ms\tremaining: 363ms\n",
      "484:\tlearn: 0.0210545\ttotal: 341ms\tremaining: 362ms\n",
      "485:\tlearn: 0.0210316\ttotal: 341ms\tremaining: 361ms\n",
      "486:\tlearn: 0.0210153\ttotal: 341ms\tremaining: 360ms\n",
      "487:\tlearn: 0.0209933\ttotal: 342ms\tremaining: 359ms\n",
      "488:\tlearn: 0.0209386\ttotal: 342ms\tremaining: 357ms\n",
      "489:\tlearn: 0.0209086\ttotal: 342ms\tremaining: 356ms\n",
      "490:\tlearn: 0.0208927\ttotal: 343ms\tremaining: 355ms\n",
      "491:\tlearn: 0.0208734\ttotal: 343ms\tremaining: 354ms\n",
      "492:\tlearn: 0.0208326\ttotal: 343ms\tremaining: 353ms\n",
      "493:\tlearn: 0.0207825\ttotal: 343ms\tremaining: 352ms\n",
      "494:\tlearn: 0.0207708\ttotal: 344ms\tremaining: 351ms\n",
      "495:\tlearn: 0.0207567\ttotal: 344ms\tremaining: 350ms\n",
      "496:\tlearn: 0.0207392\ttotal: 345ms\tremaining: 349ms\n",
      "497:\tlearn: 0.0207154\ttotal: 345ms\tremaining: 348ms\n",
      "498:\tlearn: 0.0207046\ttotal: 346ms\tremaining: 347ms\n",
      "499:\tlearn: 0.0206917\ttotal: 346ms\tremaining: 346ms\n",
      "500:\tlearn: 0.0206747\ttotal: 346ms\tremaining: 345ms\n",
      "501:\tlearn: 0.0206386\ttotal: 347ms\tremaining: 344ms\n",
      "502:\tlearn: 0.0206115\ttotal: 347ms\tremaining: 343ms\n",
      "503:\tlearn: 0.0205809\ttotal: 347ms\tremaining: 342ms\n",
      "504:\tlearn: 0.0205472\ttotal: 347ms\tremaining: 341ms\n",
      "505:\tlearn: 0.0204969\ttotal: 348ms\tremaining: 340ms\n",
      "506:\tlearn: 0.0204856\ttotal: 349ms\tremaining: 339ms\n",
      "507:\tlearn: 0.0204564\ttotal: 349ms\tremaining: 338ms\n",
      "508:\tlearn: 0.0204356\ttotal: 350ms\tremaining: 337ms\n",
      "509:\tlearn: 0.0204176\ttotal: 350ms\tremaining: 336ms\n",
      "510:\tlearn: 0.0203799\ttotal: 350ms\tremaining: 335ms\n",
      "511:\tlearn: 0.0203407\ttotal: 350ms\tremaining: 334ms\n",
      "512:\tlearn: 0.0203123\ttotal: 351ms\tremaining: 333ms\n",
      "513:\tlearn: 0.0203006\ttotal: 351ms\tremaining: 332ms\n",
      "514:\tlearn: 0.0202866\ttotal: 352ms\tremaining: 332ms\n",
      "515:\tlearn: 0.0202458\ttotal: 353ms\tremaining: 332ms\n",
      "516:\tlearn: 0.0202295\ttotal: 354ms\tremaining: 330ms\n",
      "517:\tlearn: 0.0201793\ttotal: 354ms\tremaining: 329ms\n",
      "518:\tlearn: 0.0201615\ttotal: 354ms\tremaining: 328ms\n",
      "519:\tlearn: 0.0201453\ttotal: 355ms\tremaining: 327ms\n",
      "520:\tlearn: 0.0201283\ttotal: 355ms\tremaining: 326ms\n",
      "521:\tlearn: 0.0201132\ttotal: 355ms\tremaining: 325ms\n",
      "522:\tlearn: 0.0200878\ttotal: 355ms\tremaining: 324ms\n",
      "523:\tlearn: 0.0200793\ttotal: 356ms\tremaining: 323ms\n",
      "524:\tlearn: 0.0200673\ttotal: 356ms\tremaining: 322ms\n",
      "525:\tlearn: 0.0200548\ttotal: 356ms\tremaining: 321ms\n",
      "526:\tlearn: 0.0200178\ttotal: 357ms\tremaining: 320ms\n",
      "527:\tlearn: 0.0200060\ttotal: 357ms\tremaining: 319ms\n",
      "528:\tlearn: 0.0199948\ttotal: 357ms\tremaining: 318ms\n",
      "529:\tlearn: 0.0199532\ttotal: 358ms\tremaining: 317ms\n",
      "530:\tlearn: 0.0199426\ttotal: 358ms\tremaining: 316ms\n",
      "531:\tlearn: 0.0199328\ttotal: 358ms\tremaining: 315ms\n",
      "532:\tlearn: 0.0199058\ttotal: 359ms\tremaining: 314ms\n",
      "533:\tlearn: 0.0198780\ttotal: 359ms\tremaining: 313ms\n",
      "534:\tlearn: 0.0198557\ttotal: 360ms\tremaining: 312ms\n",
      "535:\tlearn: 0.0198392\ttotal: 360ms\tremaining: 311ms\n",
      "536:\tlearn: 0.0198227\ttotal: 360ms\tremaining: 311ms\n",
      "537:\tlearn: 0.0197732\ttotal: 361ms\tremaining: 310ms\n",
      "538:\tlearn: 0.0197644\ttotal: 361ms\tremaining: 309ms\n",
      "539:\tlearn: 0.0197183\ttotal: 361ms\tremaining: 308ms\n",
      "540:\tlearn: 0.0196456\ttotal: 362ms\tremaining: 307ms\n",
      "541:\tlearn: 0.0196319\ttotal: 362ms\tremaining: 306ms\n",
      "542:\tlearn: 0.0196145\ttotal: 362ms\tremaining: 305ms\n",
      "543:\tlearn: 0.0195982\ttotal: 363ms\tremaining: 304ms\n",
      "544:\tlearn: 0.0195621\ttotal: 363ms\tremaining: 303ms\n",
      "545:\tlearn: 0.0195542\ttotal: 363ms\tremaining: 302ms\n",
      "546:\tlearn: 0.0195448\ttotal: 364ms\tremaining: 301ms\n",
      "547:\tlearn: 0.0195045\ttotal: 364ms\tremaining: 300ms\n",
      "548:\tlearn: 0.0194919\ttotal: 364ms\tremaining: 299ms\n",
      "549:\tlearn: 0.0194829\ttotal: 364ms\tremaining: 298ms\n",
      "550:\tlearn: 0.0194732\ttotal: 365ms\tremaining: 297ms\n",
      "551:\tlearn: 0.0194349\ttotal: 365ms\tremaining: 296ms\n",
      "552:\tlearn: 0.0194263\ttotal: 365ms\tremaining: 295ms\n",
      "553:\tlearn: 0.0194160\ttotal: 365ms\tremaining: 294ms\n",
      "554:\tlearn: 0.0194063\ttotal: 366ms\tremaining: 293ms\n",
      "555:\tlearn: 0.0193974\ttotal: 366ms\tremaining: 292ms\n",
      "556:\tlearn: 0.0193660\ttotal: 366ms\tremaining: 291ms\n",
      "557:\tlearn: 0.0193513\ttotal: 367ms\tremaining: 290ms\n",
      "558:\tlearn: 0.0193443\ttotal: 367ms\tremaining: 290ms\n",
      "559:\tlearn: 0.0193306\ttotal: 368ms\tremaining: 289ms\n",
      "560:\tlearn: 0.0193140\ttotal: 368ms\tremaining: 288ms\n",
      "561:\tlearn: 0.0192943\ttotal: 368ms\tremaining: 287ms\n",
      "562:\tlearn: 0.0192781\ttotal: 368ms\tremaining: 286ms\n",
      "563:\tlearn: 0.0192684\ttotal: 369ms\tremaining: 285ms\n",
      "564:\tlearn: 0.0192457\ttotal: 369ms\tremaining: 284ms\n",
      "565:\tlearn: 0.0192409\ttotal: 369ms\tremaining: 283ms\n",
      "566:\tlearn: 0.0192197\ttotal: 370ms\tremaining: 282ms\n",
      "567:\tlearn: 0.0191967\ttotal: 370ms\tremaining: 281ms\n",
      "568:\tlearn: 0.0191279\ttotal: 370ms\tremaining: 280ms\n",
      "569:\tlearn: 0.0191130\ttotal: 371ms\tremaining: 280ms\n",
      "570:\tlearn: 0.0190945\ttotal: 371ms\tremaining: 279ms\n",
      "571:\tlearn: 0.0190887\ttotal: 372ms\tremaining: 278ms\n",
      "572:\tlearn: 0.0190632\ttotal: 372ms\tremaining: 277ms\n",
      "573:\tlearn: 0.0190560\ttotal: 372ms\tremaining: 276ms\n",
      "574:\tlearn: 0.0190360\ttotal: 372ms\tremaining: 275ms\n",
      "575:\tlearn: 0.0190023\ttotal: 373ms\tremaining: 274ms\n",
      "576:\tlearn: 0.0189581\ttotal: 373ms\tremaining: 274ms\n",
      "577:\tlearn: 0.0189401\ttotal: 373ms\tremaining: 273ms\n",
      "578:\tlearn: 0.0189163\ttotal: 374ms\tremaining: 272ms\n",
      "579:\tlearn: 0.0189025\ttotal: 374ms\tremaining: 271ms\n",
      "580:\tlearn: 0.0188948\ttotal: 374ms\tremaining: 270ms\n",
      "581:\tlearn: 0.0188756\ttotal: 375ms\tremaining: 269ms\n",
      "582:\tlearn: 0.0188667\ttotal: 375ms\tremaining: 268ms\n",
      "583:\tlearn: 0.0188269\ttotal: 375ms\tremaining: 267ms\n",
      "584:\tlearn: 0.0188166\ttotal: 376ms\tremaining: 267ms\n",
      "585:\tlearn: 0.0187593\ttotal: 376ms\tremaining: 266ms\n",
      "586:\tlearn: 0.0187411\ttotal: 376ms\tremaining: 265ms\n",
      "587:\tlearn: 0.0186774\ttotal: 377ms\tremaining: 264ms\n",
      "588:\tlearn: 0.0186627\ttotal: 377ms\tremaining: 263ms\n",
      "589:\tlearn: 0.0186492\ttotal: 377ms\tremaining: 262ms\n",
      "590:\tlearn: 0.0186311\ttotal: 378ms\tremaining: 261ms\n",
      "591:\tlearn: 0.0186172\ttotal: 378ms\tremaining: 261ms\n",
      "592:\tlearn: 0.0186118\ttotal: 378ms\tremaining: 260ms\n",
      "593:\tlearn: 0.0185936\ttotal: 379ms\tremaining: 259ms\n",
      "594:\tlearn: 0.0185866\ttotal: 379ms\tremaining: 258ms\n",
      "595:\tlearn: 0.0185798\ttotal: 380ms\tremaining: 257ms\n",
      "596:\tlearn: 0.0185747\ttotal: 380ms\tremaining: 257ms\n",
      "597:\tlearn: 0.0185699\ttotal: 380ms\tremaining: 256ms\n",
      "598:\tlearn: 0.0185588\ttotal: 381ms\tremaining: 255ms\n",
      "599:\tlearn: 0.0185515\ttotal: 381ms\tremaining: 254ms\n",
      "600:\tlearn: 0.0185383\ttotal: 381ms\tremaining: 253ms\n",
      "601:\tlearn: 0.0185319\ttotal: 382ms\tremaining: 253ms\n",
      "602:\tlearn: 0.0185047\ttotal: 382ms\tremaining: 252ms\n",
      "603:\tlearn: 0.0184961\ttotal: 383ms\tremaining: 251ms\n",
      "604:\tlearn: 0.0184871\ttotal: 383ms\tremaining: 250ms\n",
      "605:\tlearn: 0.0184669\ttotal: 384ms\tremaining: 249ms\n",
      "606:\tlearn: 0.0184474\ttotal: 384ms\tremaining: 248ms\n",
      "607:\tlearn: 0.0184142\ttotal: 384ms\tremaining: 248ms\n",
      "608:\tlearn: 0.0183908\ttotal: 384ms\tremaining: 247ms\n",
      "609:\tlearn: 0.0183770\ttotal: 385ms\tremaining: 246ms\n",
      "610:\tlearn: 0.0183550\ttotal: 385ms\tremaining: 245ms\n",
      "611:\tlearn: 0.0183504\ttotal: 388ms\tremaining: 246ms\n",
      "612:\tlearn: 0.0183474\ttotal: 388ms\tremaining: 245ms\n",
      "613:\tlearn: 0.0183344\ttotal: 388ms\tremaining: 244ms\n",
      "614:\tlearn: 0.0183242\ttotal: 388ms\tremaining: 243ms\n",
      "615:\tlearn: 0.0183188\ttotal: 389ms\tremaining: 242ms\n",
      "616:\tlearn: 0.0183066\ttotal: 390ms\tremaining: 242ms\n",
      "617:\tlearn: 0.0182933\ttotal: 390ms\tremaining: 241ms\n",
      "618:\tlearn: 0.0182739\ttotal: 390ms\tremaining: 240ms\n",
      "619:\tlearn: 0.0182493\ttotal: 391ms\tremaining: 239ms\n",
      "620:\tlearn: 0.0182351\ttotal: 391ms\tremaining: 239ms\n",
      "621:\tlearn: 0.0181756\ttotal: 391ms\tremaining: 238ms\n",
      "622:\tlearn: 0.0181640\ttotal: 392ms\tremaining: 237ms\n",
      "623:\tlearn: 0.0181570\ttotal: 392ms\tremaining: 236ms\n",
      "624:\tlearn: 0.0181352\ttotal: 392ms\tremaining: 235ms\n",
      "625:\tlearn: 0.0181217\ttotal: 392ms\tremaining: 234ms\n",
      "626:\tlearn: 0.0181093\ttotal: 393ms\tremaining: 234ms\n",
      "627:\tlearn: 0.0180953\ttotal: 393ms\tremaining: 233ms\n",
      "628:\tlearn: 0.0180821\ttotal: 394ms\tremaining: 233ms\n",
      "629:\tlearn: 0.0180744\ttotal: 395ms\tremaining: 232ms\n",
      "630:\tlearn: 0.0180488\ttotal: 395ms\tremaining: 231ms\n",
      "631:\tlearn: 0.0180447\ttotal: 395ms\tremaining: 230ms\n",
      "632:\tlearn: 0.0180273\ttotal: 396ms\tremaining: 229ms\n",
      "633:\tlearn: 0.0180149\ttotal: 399ms\tremaining: 230ms\n",
      "634:\tlearn: 0.0180096\ttotal: 402ms\tremaining: 231ms\n",
      "635:\tlearn: 0.0179995\ttotal: 403ms\tremaining: 231ms\n",
      "636:\tlearn: 0.0179841\ttotal: 403ms\tremaining: 230ms\n",
      "637:\tlearn: 0.0179441\ttotal: 403ms\tremaining: 229ms\n",
      "638:\tlearn: 0.0179320\ttotal: 404ms\tremaining: 228ms\n",
      "639:\tlearn: 0.0179139\ttotal: 404ms\tremaining: 227ms\n",
      "640:\tlearn: 0.0178899\ttotal: 405ms\tremaining: 227ms\n",
      "641:\tlearn: 0.0178761\ttotal: 405ms\tremaining: 226ms\n",
      "642:\tlearn: 0.0178449\ttotal: 406ms\tremaining: 225ms\n",
      "643:\tlearn: 0.0178424\ttotal: 407ms\tremaining: 225ms\n",
      "644:\tlearn: 0.0178014\ttotal: 407ms\tremaining: 224ms\n",
      "645:\tlearn: 0.0177912\ttotal: 407ms\tremaining: 223ms\n",
      "646:\tlearn: 0.0177597\ttotal: 408ms\tremaining: 222ms\n",
      "647:\tlearn: 0.0177283\ttotal: 408ms\tremaining: 222ms\n",
      "648:\tlearn: 0.0177082\ttotal: 408ms\tremaining: 221ms\n",
      "649:\tlearn: 0.0176900\ttotal: 409ms\tremaining: 220ms\n",
      "650:\tlearn: 0.0176335\ttotal: 411ms\tremaining: 221ms\n",
      "651:\tlearn: 0.0176107\ttotal: 412ms\tremaining: 220ms\n",
      "652:\tlearn: 0.0175951\ttotal: 413ms\tremaining: 219ms\n",
      "653:\tlearn: 0.0175766\ttotal: 414ms\tremaining: 219ms\n",
      "654:\tlearn: 0.0175706\ttotal: 414ms\tremaining: 218ms\n",
      "655:\tlearn: 0.0175600\ttotal: 414ms\tremaining: 217ms\n",
      "656:\tlearn: 0.0175461\ttotal: 414ms\tremaining: 216ms\n",
      "657:\tlearn: 0.0175333\ttotal: 415ms\tremaining: 215ms\n",
      "658:\tlearn: 0.0175284\ttotal: 415ms\tremaining: 215ms\n"
     ]
    },
    {
     "name": "stdout",
     "output_type": "stream",
     "text": [
      "659:\tlearn: 0.0175112\ttotal: 416ms\tremaining: 214ms\n",
      "660:\tlearn: 0.0175056\ttotal: 419ms\tremaining: 215ms\n",
      "661:\tlearn: 0.0174724\ttotal: 419ms\tremaining: 214ms\n",
      "662:\tlearn: 0.0174343\ttotal: 420ms\tremaining: 213ms\n",
      "663:\tlearn: 0.0174166\ttotal: 420ms\tremaining: 212ms\n",
      "664:\tlearn: 0.0173964\ttotal: 420ms\tremaining: 212ms\n",
      "665:\tlearn: 0.0173912\ttotal: 423ms\tremaining: 212ms\n",
      "666:\tlearn: 0.0173720\ttotal: 424ms\tremaining: 212ms\n",
      "667:\tlearn: 0.0173464\ttotal: 425ms\tremaining: 211ms\n",
      "668:\tlearn: 0.0173258\ttotal: 425ms\tremaining: 210ms\n",
      "669:\tlearn: 0.0173140\ttotal: 426ms\tremaining: 210ms\n",
      "670:\tlearn: 0.0172949\ttotal: 426ms\tremaining: 209ms\n",
      "671:\tlearn: 0.0172784\ttotal: 427ms\tremaining: 208ms\n",
      "672:\tlearn: 0.0172513\ttotal: 428ms\tremaining: 208ms\n",
      "673:\tlearn: 0.0172224\ttotal: 429ms\tremaining: 207ms\n",
      "674:\tlearn: 0.0171873\ttotal: 429ms\tremaining: 207ms\n",
      "675:\tlearn: 0.0171765\ttotal: 430ms\tremaining: 206ms\n",
      "676:\tlearn: 0.0171666\ttotal: 431ms\tremaining: 205ms\n",
      "677:\tlearn: 0.0171564\ttotal: 433ms\tremaining: 206ms\n",
      "678:\tlearn: 0.0171307\ttotal: 434ms\tremaining: 205ms\n",
      "679:\tlearn: 0.0171184\ttotal: 437ms\tremaining: 205ms\n",
      "680:\tlearn: 0.0171072\ttotal: 437ms\tremaining: 205ms\n",
      "681:\tlearn: 0.0171034\ttotal: 438ms\tremaining: 204ms\n",
      "682:\tlearn: 0.0170998\ttotal: 440ms\tremaining: 204ms\n",
      "683:\tlearn: 0.0170666\ttotal: 440ms\tremaining: 203ms\n",
      "684:\tlearn: 0.0170570\ttotal: 443ms\tremaining: 204ms\n",
      "685:\tlearn: 0.0170394\ttotal: 444ms\tremaining: 203ms\n",
      "686:\tlearn: 0.0170346\ttotal: 445ms\tremaining: 203ms\n",
      "687:\tlearn: 0.0170009\ttotal: 446ms\tremaining: 202ms\n",
      "688:\tlearn: 0.0169848\ttotal: 448ms\tremaining: 202ms\n"
     ]
    },
    {
     "name": "stdout",
     "output_type": "stream",
     "text": [
      "689:\tlearn: 0.0169815\ttotal: 449ms\tremaining: 202ms\n",
      "690:\tlearn: 0.0169715\ttotal: 450ms\tremaining: 201ms\n",
      "691:\tlearn: 0.0169532\ttotal: 451ms\tremaining: 201ms\n",
      "692:\tlearn: 0.0169345\ttotal: 454ms\tremaining: 201ms\n",
      "693:\tlearn: 0.0169298\ttotal: 454ms\tremaining: 200ms\n",
      "694:\tlearn: 0.0169197\ttotal: 455ms\tremaining: 200ms\n",
      "695:\tlearn: 0.0169108\ttotal: 456ms\tremaining: 199ms\n",
      "696:\tlearn: 0.0169067\ttotal: 456ms\tremaining: 198ms\n",
      "697:\tlearn: 0.0169031\ttotal: 457ms\tremaining: 198ms\n",
      "698:\tlearn: 0.0168955\ttotal: 461ms\tremaining: 198ms\n",
      "699:\tlearn: 0.0168921\ttotal: 464ms\tremaining: 199ms\n",
      "700:\tlearn: 0.0168632\ttotal: 464ms\tremaining: 198ms\n",
      "701:\tlearn: 0.0168263\ttotal: 468ms\tremaining: 199ms\n",
      "702:\tlearn: 0.0168177\ttotal: 469ms\tremaining: 198ms\n",
      "703:\tlearn: 0.0168097\ttotal: 470ms\tremaining: 197ms\n",
      "704:\tlearn: 0.0168051\ttotal: 472ms\tremaining: 198ms\n",
      "705:\tlearn: 0.0167879\ttotal: 473ms\tremaining: 197ms\n",
      "706:\tlearn: 0.0167554\ttotal: 473ms\tremaining: 196ms\n",
      "707:\tlearn: 0.0167485\ttotal: 474ms\tremaining: 195ms\n",
      "708:\tlearn: 0.0167219\ttotal: 474ms\tremaining: 195ms\n",
      "709:\tlearn: 0.0166967\ttotal: 478ms\tremaining: 195ms\n",
      "710:\tlearn: 0.0166829\ttotal: 478ms\tremaining: 194ms\n",
      "711:\tlearn: 0.0166708\ttotal: 479ms\tremaining: 194ms\n",
      "712:\tlearn: 0.0166440\ttotal: 479ms\tremaining: 193ms\n",
      "713:\tlearn: 0.0166205\ttotal: 481ms\tremaining: 193ms\n",
      "714:\tlearn: 0.0166174\ttotal: 481ms\tremaining: 192ms\n",
      "715:\tlearn: 0.0166089\ttotal: 484ms\tremaining: 192ms\n",
      "716:\tlearn: 0.0166054\ttotal: 485ms\tremaining: 191ms\n",
      "717:\tlearn: 0.0165733\ttotal: 487ms\tremaining: 191ms\n",
      "718:\tlearn: 0.0165568\ttotal: 488ms\tremaining: 191ms\n",
      "719:\tlearn: 0.0165480\ttotal: 489ms\tremaining: 190ms\n",
      "720:\tlearn: 0.0165173\ttotal: 491ms\tremaining: 190ms\n",
      "721:\tlearn: 0.0165146\ttotal: 494ms\tremaining: 190ms\n",
      "722:\tlearn: 0.0165037\ttotal: 494ms\tremaining: 189ms\n",
      "723:\tlearn: 0.0164870\ttotal: 496ms\tremaining: 189ms\n",
      "724:\tlearn: 0.0164650\ttotal: 497ms\tremaining: 188ms\n",
      "725:\tlearn: 0.0164513\ttotal: 497ms\tremaining: 188ms\n",
      "726:\tlearn: 0.0164232\ttotal: 498ms\tremaining: 187ms\n",
      "727:\tlearn: 0.0164126\ttotal: 500ms\tremaining: 187ms\n"
     ]
    },
    {
     "name": "stdout",
     "output_type": "stream",
     "text": [
      "728:\tlearn: 0.0164015\ttotal: 500ms\tremaining: 187ms\n",
      "729:\tlearn: 0.0163989\ttotal: 511ms\tremaining: 189ms\n",
      "730:\tlearn: 0.0163655\ttotal: 523ms\tremaining: 193ms\n",
      "731:\tlearn: 0.0163612\ttotal: 523ms\tremaining: 192ms\n",
      "732:\tlearn: 0.0163548\ttotal: 524ms\tremaining: 191ms\n"
     ]
    },
    {
     "name": "stdout",
     "output_type": "stream",
     "text": [
      "733:\tlearn: 0.0163404\ttotal: 526ms\tremaining: 191ms\n",
      "734:\tlearn: 0.0163194\ttotal: 526ms\tremaining: 190ms\n",
      "735:\tlearn: 0.0162947\ttotal: 527ms\tremaining: 189ms\n",
      "736:\tlearn: 0.0162721\ttotal: 527ms\tremaining: 188ms\n",
      "737:\tlearn: 0.0162650\ttotal: 528ms\tremaining: 188ms\n",
      "738:\tlearn: 0.0162539\ttotal: 533ms\tremaining: 188ms\n",
      "739:\tlearn: 0.0162405\ttotal: 533ms\tremaining: 188ms\n",
      "740:\tlearn: 0.0162328\ttotal: 535ms\tremaining: 187ms\n",
      "741:\tlearn: 0.0162269\ttotal: 536ms\tremaining: 186ms\n",
      "742:\tlearn: 0.0162190\ttotal: 537ms\tremaining: 186ms\n",
      "743:\tlearn: 0.0162100\ttotal: 540ms\tremaining: 186ms\n",
      "744:\tlearn: 0.0161944\ttotal: 545ms\tremaining: 187ms\n",
      "745:\tlearn: 0.0161713\ttotal: 545ms\tremaining: 186ms\n",
      "746:\tlearn: 0.0161624\ttotal: 546ms\tremaining: 185ms\n",
      "747:\tlearn: 0.0161389\ttotal: 546ms\tremaining: 184ms\n",
      "748:\tlearn: 0.0161201\ttotal: 547ms\tremaining: 184ms\n",
      "749:\tlearn: 0.0161132\ttotal: 550ms\tremaining: 184ms\n",
      "750:\tlearn: 0.0160853\ttotal: 551ms\tremaining: 183ms\n",
      "751:\tlearn: 0.0160782\ttotal: 553ms\tremaining: 182ms\n",
      "752:\tlearn: 0.0160520\ttotal: 553ms\tremaining: 182ms\n",
      "753:\tlearn: 0.0160323\ttotal: 560ms\tremaining: 183ms\n",
      "754:\tlearn: 0.0160253\ttotal: 560ms\tremaining: 182ms\n",
      "755:\tlearn: 0.0160010\ttotal: 563ms\tremaining: 182ms\n",
      "756:\tlearn: 0.0159901\ttotal: 564ms\tremaining: 181ms\n",
      "757:\tlearn: 0.0159775\ttotal: 565ms\tremaining: 181ms\n",
      "758:\tlearn: 0.0159483\ttotal: 568ms\tremaining: 180ms\n",
      "759:\tlearn: 0.0159280\ttotal: 569ms\tremaining: 180ms\n",
      "760:\tlearn: 0.0159176\ttotal: 570ms\tremaining: 179ms\n",
      "761:\tlearn: 0.0159081\ttotal: 571ms\tremaining: 179ms\n"
     ]
    },
    {
     "name": "stdout",
     "output_type": "stream",
     "text": [
      "762:\tlearn: 0.0159018\ttotal: 618ms\tremaining: 192ms\n",
      "763:\tlearn: 0.0158814\ttotal: 631ms\tremaining: 195ms\n",
      "764:\tlearn: 0.0158642\ttotal: 632ms\tremaining: 194ms\n",
      "765:\tlearn: 0.0158605\ttotal: 640ms\tremaining: 196ms\n",
      "766:\tlearn: 0.0158507\ttotal: 641ms\tremaining: 195ms\n",
      "767:\tlearn: 0.0158386\ttotal: 643ms\tremaining: 195ms\n",
      "768:\tlearn: 0.0158295\ttotal: 644ms\tremaining: 194ms\n",
      "769:\tlearn: 0.0158228\ttotal: 645ms\tremaining: 193ms\n",
      "770:\tlearn: 0.0158158\ttotal: 647ms\tremaining: 192ms\n",
      "771:\tlearn: 0.0158097\ttotal: 647ms\tremaining: 191ms\n",
      "772:\tlearn: 0.0157991\ttotal: 649ms\tremaining: 191ms\n",
      "773:\tlearn: 0.0157870\ttotal: 650ms\tremaining: 190ms\n",
      "774:\tlearn: 0.0157674\ttotal: 650ms\tremaining: 189ms\n",
      "775:\tlearn: 0.0157530\ttotal: 651ms\tremaining: 188ms\n",
      "776:\tlearn: 0.0157345\ttotal: 652ms\tremaining: 187ms\n",
      "777:\tlearn: 0.0157210\ttotal: 655ms\tremaining: 187ms\n",
      "778:\tlearn: 0.0156910\ttotal: 669ms\tremaining: 190ms\n",
      "779:\tlearn: 0.0156692\ttotal: 670ms\tremaining: 189ms\n",
      "780:\tlearn: 0.0156634\ttotal: 671ms\tremaining: 188ms\n",
      "781:\tlearn: 0.0156432\ttotal: 672ms\tremaining: 188ms\n",
      "782:\tlearn: 0.0156368\ttotal: 674ms\tremaining: 187ms\n",
      "783:\tlearn: 0.0156009\ttotal: 678ms\tremaining: 187ms\n",
      "784:\tlearn: 0.0155971\ttotal: 678ms\tremaining: 186ms\n",
      "785:\tlearn: 0.0155867\ttotal: 679ms\tremaining: 185ms\n",
      "786:\tlearn: 0.0155799\ttotal: 680ms\tremaining: 184ms\n",
      "787:\tlearn: 0.0155636\ttotal: 681ms\tremaining: 184ms\n",
      "788:\tlearn: 0.0155444\ttotal: 683ms\tremaining: 183ms\n",
      "789:\tlearn: 0.0155179\ttotal: 686ms\tremaining: 183ms\n",
      "790:\tlearn: 0.0155045\ttotal: 687ms\tremaining: 182ms\n",
      "791:\tlearn: 0.0154598\ttotal: 692ms\tremaining: 182ms\n",
      "792:\tlearn: 0.0154570\ttotal: 696ms\tremaining: 182ms\n"
     ]
    },
    {
     "name": "stdout",
     "output_type": "stream",
     "text": [
      "793:\tlearn: 0.0154500\ttotal: 763ms\tremaining: 198ms\n",
      "794:\tlearn: 0.0154336\ttotal: 769ms\tremaining: 199ms\n",
      "795:\tlearn: 0.0153995\ttotal: 770ms\tremaining: 198ms\n",
      "796:\tlearn: 0.0153925\ttotal: 776ms\tremaining: 198ms\n",
      "797:\tlearn: 0.0153751\ttotal: 778ms\tremaining: 197ms\n",
      "798:\tlearn: 0.0153705\ttotal: 784ms\tremaining: 197ms\n",
      "799:\tlearn: 0.0153668\ttotal: 785ms\tremaining: 196ms\n",
      "800:\tlearn: 0.0153529\ttotal: 785ms\tremaining: 195ms\n",
      "801:\tlearn: 0.0153459\ttotal: 785ms\tremaining: 194ms\n",
      "802:\tlearn: 0.0153403\ttotal: 786ms\tremaining: 193ms\n",
      "803:\tlearn: 0.0153375\ttotal: 787ms\tremaining: 192ms\n",
      "804:\tlearn: 0.0153264\ttotal: 788ms\tremaining: 191ms\n",
      "805:\tlearn: 0.0153122\ttotal: 789ms\tremaining: 190ms\n",
      "806:\tlearn: 0.0152861\ttotal: 790ms\tremaining: 189ms\n",
      "807:\tlearn: 0.0152763\ttotal: 792ms\tremaining: 188ms\n",
      "808:\tlearn: 0.0152654\ttotal: 796ms\tremaining: 188ms\n",
      "809:\tlearn: 0.0152484\ttotal: 798ms\tremaining: 187ms\n",
      "810:\tlearn: 0.0152390\ttotal: 798ms\tremaining: 186ms\n",
      "811:\tlearn: 0.0152280\ttotal: 803ms\tremaining: 186ms\n",
      "812:\tlearn: 0.0152200\ttotal: 827ms\tremaining: 190ms\n",
      "813:\tlearn: 0.0152109\ttotal: 830ms\tremaining: 190ms\n",
      "814:\tlearn: 0.0151945\ttotal: 830ms\tremaining: 189ms\n",
      "815:\tlearn: 0.0151720\ttotal: 831ms\tremaining: 188ms\n",
      "816:\tlearn: 0.0151601\ttotal: 833ms\tremaining: 187ms\n",
      "817:\tlearn: 0.0151455\ttotal: 834ms\tremaining: 186ms\n",
      "818:\tlearn: 0.0151258\ttotal: 835ms\tremaining: 185ms\n",
      "819:\tlearn: 0.0151078\ttotal: 836ms\tremaining: 184ms\n",
      "820:\tlearn: 0.0150982\ttotal: 837ms\tremaining: 183ms\n",
      "821:\tlearn: 0.0150918\ttotal: 839ms\tremaining: 182ms\n",
      "822:\tlearn: 0.0150794\ttotal: 840ms\tremaining: 181ms\n",
      "823:\tlearn: 0.0150663\ttotal: 841ms\tremaining: 180ms\n",
      "824:\tlearn: 0.0150515\ttotal: 842ms\tremaining: 179ms\n",
      "825:\tlearn: 0.0150436\ttotal: 846ms\tremaining: 178ms\n",
      "826:\tlearn: 0.0150351\ttotal: 846ms\tremaining: 177ms\n",
      "827:\tlearn: 0.0150189\ttotal: 847ms\tremaining: 176ms\n",
      "828:\tlearn: 0.0149922\ttotal: 848ms\tremaining: 175ms\n",
      "829:\tlearn: 0.0149828\ttotal: 850ms\tremaining: 174ms\n",
      "830:\tlearn: 0.0149648\ttotal: 851ms\tremaining: 173ms\n",
      "831:\tlearn: 0.0149461\ttotal: 854ms\tremaining: 173ms\n",
      "832:\tlearn: 0.0149274\ttotal: 855ms\tremaining: 172ms\n",
      "833:\tlearn: 0.0149165\ttotal: 857ms\tremaining: 171ms\n",
      "834:\tlearn: 0.0149076\ttotal: 858ms\tremaining: 170ms\n",
      "835:\tlearn: 0.0148981\ttotal: 859ms\tremaining: 169ms\n",
      "836:\tlearn: 0.0148789\ttotal: 860ms\tremaining: 168ms\n",
      "837:\tlearn: 0.0148637\ttotal: 861ms\tremaining: 167ms\n",
      "838:\tlearn: 0.0148429\ttotal: 863ms\tremaining: 166ms\n",
      "839:\tlearn: 0.0148019\ttotal: 864ms\tremaining: 165ms\n",
      "840:\tlearn: 0.0147841\ttotal: 865ms\tremaining: 164ms\n",
      "841:\tlearn: 0.0147740\ttotal: 866ms\tremaining: 163ms\n",
      "842:\tlearn: 0.0147633\ttotal: 867ms\tremaining: 162ms\n",
      "843:\tlearn: 0.0147539\ttotal: 868ms\tremaining: 161ms\n",
      "844:\tlearn: 0.0147468\ttotal: 869ms\tremaining: 160ms\n",
      "845:\tlearn: 0.0147394\ttotal: 870ms\tremaining: 159ms\n",
      "846:\tlearn: 0.0147312\ttotal: 870ms\tremaining: 157ms\n",
      "847:\tlearn: 0.0147265\ttotal: 871ms\tremaining: 156ms\n",
      "848:\tlearn: 0.0147151\ttotal: 873ms\tremaining: 155ms\n",
      "849:\tlearn: 0.0147068\ttotal: 876ms\tremaining: 155ms\n",
      "850:\tlearn: 0.0146918\ttotal: 877ms\tremaining: 154ms\n",
      "851:\tlearn: 0.0146762\ttotal: 877ms\tremaining: 153ms\n",
      "852:\tlearn: 0.0146589\ttotal: 878ms\tremaining: 152ms\n",
      "853:\tlearn: 0.0146488\ttotal: 879ms\tremaining: 151ms\n",
      "854:\tlearn: 0.0146435\ttotal: 880ms\tremaining: 149ms\n",
      "855:\tlearn: 0.0146240\ttotal: 881ms\tremaining: 148ms\n",
      "856:\tlearn: 0.0146106\ttotal: 882ms\tremaining: 147ms\n",
      "857:\tlearn: 0.0145867\ttotal: 884ms\tremaining: 146ms\n",
      "858:\tlearn: 0.0145785\ttotal: 884ms\tremaining: 145ms\n"
     ]
    },
    {
     "name": "stdout",
     "output_type": "stream",
     "text": [
      "859:\tlearn: 0.0145737\ttotal: 887ms\tremaining: 145ms\n",
      "860:\tlearn: 0.0145655\ttotal: 897ms\tremaining: 145ms\n",
      "861:\tlearn: 0.0145568\ttotal: 903ms\tremaining: 145ms\n",
      "862:\tlearn: 0.0145435\ttotal: 903ms\tremaining: 144ms\n",
      "863:\tlearn: 0.0145405\ttotal: 907ms\tremaining: 143ms\n",
      "864:\tlearn: 0.0145322\ttotal: 907ms\tremaining: 142ms\n",
      "865:\tlearn: 0.0145265\ttotal: 908ms\tremaining: 141ms\n",
      "866:\tlearn: 0.0145097\ttotal: 910ms\tremaining: 140ms\n",
      "867:\tlearn: 0.0144971\ttotal: 911ms\tremaining: 139ms\n",
      "868:\tlearn: 0.0144790\ttotal: 919ms\tremaining: 139ms\n",
      "869:\tlearn: 0.0144712\ttotal: 925ms\tremaining: 138ms\n",
      "870:\tlearn: 0.0144634\ttotal: 929ms\tremaining: 138ms\n",
      "871:\tlearn: 0.0144562\ttotal: 929ms\tremaining: 137ms\n",
      "872:\tlearn: 0.0144488\ttotal: 930ms\tremaining: 135ms\n",
      "873:\tlearn: 0.0144195\ttotal: 930ms\tremaining: 134ms\n",
      "874:\tlearn: 0.0144147\ttotal: 930ms\tremaining: 133ms\n",
      "875:\tlearn: 0.0144012\ttotal: 931ms\tremaining: 132ms\n",
      "876:\tlearn: 0.0143895\ttotal: 931ms\tremaining: 131ms\n",
      "877:\tlearn: 0.0143665\ttotal: 932ms\tremaining: 130ms\n",
      "878:\tlearn: 0.0143561\ttotal: 935ms\tremaining: 129ms\n",
      "879:\tlearn: 0.0143409\ttotal: 935ms\tremaining: 128ms\n",
      "880:\tlearn: 0.0143211\ttotal: 935ms\tremaining: 126ms\n",
      "881:\tlearn: 0.0143112\ttotal: 935ms\tremaining: 125ms\n",
      "882:\tlearn: 0.0142876\ttotal: 936ms\tremaining: 124ms\n",
      "883:\tlearn: 0.0142657\ttotal: 936ms\tremaining: 123ms\n",
      "884:\tlearn: 0.0142605\ttotal: 936ms\tremaining: 122ms\n",
      "885:\tlearn: 0.0142386\ttotal: 937ms\tremaining: 121ms\n",
      "886:\tlearn: 0.0142273\ttotal: 937ms\tremaining: 119ms\n",
      "887:\tlearn: 0.0142174\ttotal: 937ms\tremaining: 118ms\n",
      "888:\tlearn: 0.0142069\ttotal: 937ms\tremaining: 117ms\n",
      "889:\tlearn: 0.0141989\ttotal: 942ms\tremaining: 117ms\n",
      "890:\tlearn: 0.0141859\ttotal: 945ms\tremaining: 116ms\n",
      "891:\tlearn: 0.0141811\ttotal: 946ms\tremaining: 115ms\n"
     ]
    },
    {
     "name": "stdout",
     "output_type": "stream",
     "text": [
      "892:\tlearn: 0.0141678\ttotal: 947ms\tremaining: 114ms\n",
      "893:\tlearn: 0.0141539\ttotal: 948ms\tremaining: 113ms\n",
      "894:\tlearn: 0.0141258\ttotal: 950ms\tremaining: 112ms\n",
      "895:\tlearn: 0.0141140\ttotal: 952ms\tremaining: 111ms\n",
      "896:\tlearn: 0.0140969\ttotal: 954ms\tremaining: 110ms\n",
      "897:\tlearn: 0.0140874\ttotal: 954ms\tremaining: 108ms\n",
      "898:\tlearn: 0.0140789\ttotal: 955ms\tremaining: 107ms\n",
      "899:\tlearn: 0.0140738\ttotal: 956ms\tremaining: 106ms\n",
      "900:\tlearn: 0.0140583\ttotal: 956ms\tremaining: 105ms\n",
      "901:\tlearn: 0.0140482\ttotal: 958ms\tremaining: 104ms\n",
      "902:\tlearn: 0.0140239\ttotal: 960ms\tremaining: 103ms\n",
      "903:\tlearn: 0.0140178\ttotal: 964ms\tremaining: 102ms\n",
      "904:\tlearn: 0.0139973\ttotal: 969ms\tremaining: 102ms\n",
      "905:\tlearn: 0.0139847\ttotal: 970ms\tremaining: 101ms\n",
      "906:\tlearn: 0.0139651\ttotal: 970ms\tremaining: 99.6ms\n",
      "907:\tlearn: 0.0139596\ttotal: 971ms\tremaining: 98.5ms\n",
      "908:\tlearn: 0.0139542\ttotal: 972ms\tremaining: 97.4ms\n",
      "909:\tlearn: 0.0139389\ttotal: 973ms\tremaining: 96.4ms\n",
      "910:\tlearn: 0.0139220\ttotal: 974ms\tremaining: 95.2ms\n",
      "911:\tlearn: 0.0139151\ttotal: 974ms\tremaining: 94.1ms\n",
      "912:\tlearn: 0.0138775\ttotal: 974ms\tremaining: 93ms\n",
      "913:\tlearn: 0.0138563\ttotal: 975ms\tremaining: 91.9ms\n",
      "914:\tlearn: 0.0138485\ttotal: 976ms\tremaining: 90.8ms\n",
      "915:\tlearn: 0.0138376\ttotal: 977ms\tremaining: 89.7ms\n",
      "916:\tlearn: 0.0138144\ttotal: 978ms\tremaining: 88.6ms\n",
      "917:\tlearn: 0.0138014\ttotal: 979ms\tremaining: 87.5ms\n",
      "918:\tlearn: 0.0137964\ttotal: 980ms\tremaining: 86.5ms\n",
      "919:\tlearn: 0.0137811\ttotal: 981ms\tremaining: 85.4ms\n",
      "920:\tlearn: 0.0137707\ttotal: 989ms\tremaining: 84.9ms\n",
      "921:\tlearn: 0.0137645\ttotal: 989ms\tremaining: 83.8ms\n",
      "922:\tlearn: 0.0137481\ttotal: 990ms\tremaining: 82.7ms\n",
      "923:\tlearn: 0.0137405\ttotal: 991ms\tremaining: 81.6ms\n",
      "924:\tlearn: 0.0137232\ttotal: 991ms\tremaining: 80.4ms\n",
      "925:\tlearn: 0.0137130\ttotal: 992ms\tremaining: 79.3ms\n",
      "926:\tlearn: 0.0137057\ttotal: 992ms\tremaining: 78.2ms\n",
      "927:\tlearn: 0.0137015\ttotal: 992ms\tremaining: 77.1ms\n",
      "928:\tlearn: 0.0136833\ttotal: 992ms\tremaining: 75.9ms\n",
      "929:\tlearn: 0.0136793\ttotal: 993ms\tremaining: 74.8ms\n",
      "930:\tlearn: 0.0136604\ttotal: 998ms\tremaining: 74ms\n",
      "931:\tlearn: 0.0136465\ttotal: 999ms\tremaining: 73ms\n",
      "932:\tlearn: 0.0136437\ttotal: 1s\tremaining: 72ms\n",
      "933:\tlearn: 0.0136185\ttotal: 1s\tremaining: 70.8ms\n",
      "934:\tlearn: 0.0136113\ttotal: 1s\tremaining: 69.7ms\n",
      "935:\tlearn: 0.0135988\ttotal: 1s\tremaining: 68.6ms\n",
      "936:\tlearn: 0.0135902\ttotal: 1.01s\tremaining: 67.7ms\n",
      "937:\tlearn: 0.0135750\ttotal: 1.01s\tremaining: 66.7ms\n",
      "938:\tlearn: 0.0135680\ttotal: 1.01s\tremaining: 65.7ms\n",
      "939:\tlearn: 0.0135607\ttotal: 1.01s\tremaining: 64.7ms\n",
      "940:\tlearn: 0.0135445\ttotal: 1.01s\tremaining: 63.7ms\n",
      "941:\tlearn: 0.0135381\ttotal: 1.01s\tremaining: 62.6ms\n",
      "942:\tlearn: 0.0135315\ttotal: 1.01s\tremaining: 61.5ms\n",
      "943:\tlearn: 0.0135245\ttotal: 1.02s\tremaining: 60.4ms\n",
      "944:\tlearn: 0.0135148\ttotal: 1.02s\tremaining: 59.6ms\n",
      "945:\tlearn: 0.0135015\ttotal: 1.02s\tremaining: 58.6ms\n",
      "946:\tlearn: 0.0134916\ttotal: 1.03s\tremaining: 57.6ms\n",
      "947:\tlearn: 0.0134855\ttotal: 1.03s\tremaining: 56.5ms\n",
      "948:\tlearn: 0.0134777\ttotal: 1.04s\tremaining: 55.8ms\n",
      "949:\tlearn: 0.0134653\ttotal: 1.04s\tremaining: 54.7ms\n",
      "950:\tlearn: 0.0134562\ttotal: 1.04s\tremaining: 53.7ms\n",
      "951:\tlearn: 0.0134466\ttotal: 1.04s\tremaining: 52.6ms\n",
      "952:\tlearn: 0.0134343\ttotal: 1.04s\tremaining: 51.5ms\n",
      "953:\tlearn: 0.0134136\ttotal: 1.05s\tremaining: 50.5ms\n",
      "954:\tlearn: 0.0134082\ttotal: 1.05s\tremaining: 49.4ms\n",
      "955:\tlearn: 0.0133970\ttotal: 1.05s\tremaining: 48.3ms\n",
      "956:\tlearn: 0.0133855\ttotal: 1.05s\tremaining: 47.2ms\n",
      "957:\tlearn: 0.0133792\ttotal: 1.05s\tremaining: 46.2ms\n",
      "958:\tlearn: 0.0133720\ttotal: 1.05s\tremaining: 45ms\n",
      "959:\tlearn: 0.0133532\ttotal: 1.05s\tremaining: 44ms\n",
      "960:\tlearn: 0.0133409\ttotal: 1.05s\tremaining: 42.8ms\n",
      "961:\tlearn: 0.0133303\ttotal: 1.05s\tremaining: 41.7ms\n"
     ]
    },
    {
     "name": "stdout",
     "output_type": "stream",
     "text": [
      "962:\tlearn: 0.0133194\ttotal: 1.06s\tremaining: 40.6ms\n",
      "963:\tlearn: 0.0133016\ttotal: 1.06s\tremaining: 39.6ms\n",
      "964:\tlearn: 0.0132922\ttotal: 1.06s\tremaining: 38.5ms\n",
      "965:\tlearn: 0.0132700\ttotal: 1.06s\tremaining: 37.4ms\n",
      "966:\tlearn: 0.0132596\ttotal: 1.06s\tremaining: 36.3ms\n",
      "967:\tlearn: 0.0132443\ttotal: 1.06s\tremaining: 35.1ms\n",
      "968:\tlearn: 0.0132405\ttotal: 1.07s\tremaining: 34.4ms\n",
      "969:\tlearn: 0.0132149\ttotal: 1.07s\tremaining: 33.3ms\n",
      "970:\tlearn: 0.0132009\ttotal: 1.08s\tremaining: 32.2ms\n",
      "971:\tlearn: 0.0131946\ttotal: 1.08s\tremaining: 31.1ms\n",
      "972:\tlearn: 0.0131885\ttotal: 1.08s\tremaining: 30ms\n",
      "973:\tlearn: 0.0131801\ttotal: 1.08s\tremaining: 29ms\n",
      "974:\tlearn: 0.0131651\ttotal: 1.08s\tremaining: 27.9ms\n",
      "975:\tlearn: 0.0131454\ttotal: 1.08s\tremaining: 26.7ms\n",
      "976:\tlearn: 0.0131272\ttotal: 1.09s\tremaining: 25.6ms\n",
      "977:\tlearn: 0.0131171\ttotal: 1.09s\tremaining: 24.5ms\n",
      "978:\tlearn: 0.0131100\ttotal: 1.09s\tremaining: 23.4ms\n",
      "979:\tlearn: 0.0131041\ttotal: 1.09s\tremaining: 22.3ms\n",
      "980:\tlearn: 0.0131001\ttotal: 1.09s\tremaining: 21.2ms\n",
      "981:\tlearn: 0.0130894\ttotal: 1.09s\tremaining: 20ms\n",
      "982:\tlearn: 0.0130791\ttotal: 1.09s\tremaining: 18.9ms\n",
      "983:\tlearn: 0.0130662\ttotal: 1.09s\tremaining: 17.8ms\n",
      "984:\tlearn: 0.0130626\ttotal: 1.09s\tremaining: 16.7ms\n",
      "985:\tlearn: 0.0130595\ttotal: 1.09s\tremaining: 15.5ms\n",
      "986:\tlearn: 0.0130536\ttotal: 1.09s\tremaining: 14.4ms\n",
      "987:\tlearn: 0.0130432\ttotal: 1.09s\tremaining: 13.3ms\n",
      "988:\tlearn: 0.0130331\ttotal: 1.09s\tremaining: 12.2ms\n",
      "989:\tlearn: 0.0130200\ttotal: 1.09s\tremaining: 11.1ms\n",
      "990:\tlearn: 0.0130121\ttotal: 1.1s\tremaining: 9.97ms\n",
      "991:\tlearn: 0.0130020\ttotal: 1.1s\tremaining: 8.88ms\n",
      "992:\tlearn: 0.0129964\ttotal: 1.1s\tremaining: 7.78ms\n",
      "993:\tlearn: 0.0129882\ttotal: 1.1s\tremaining: 6.66ms\n",
      "994:\tlearn: 0.0129821\ttotal: 1.1s\tremaining: 5.56ms\n",
      "995:\tlearn: 0.0129736\ttotal: 1.11s\tremaining: 4.45ms\n",
      "996:\tlearn: 0.0129614\ttotal: 1.11s\tremaining: 3.33ms\n",
      "997:\tlearn: 0.0129550\ttotal: 1.11s\tremaining: 2.22ms\n",
      "998:\tlearn: 0.0129485\ttotal: 1.11s\tremaining: 1.11ms\n",
      "999:\tlearn: 0.0129424\ttotal: 1.11s\tremaining: 0us\n"
     ]
    },
    {
     "data": {
      "text/plain": [
       "<catboost.core.CatBoostRegressor at 0x7fdab05e98e0>"
      ]
     },
     "execution_count": 9,
     "metadata": {},
     "output_type": "execute_result"
    }
   ],
   "source": [
    "#Train the Model \n",
    "prior_model = ctb.CatBoostRegressor()\n",
    "prior_model.fit(X_train,Y_train)"
   ]
  },
  {
   "cell_type": "code",
   "execution_count": 10,
   "id": "af65dcda",
   "metadata": {
    "execution": {
     "iopub.execute_input": "2022-07-24T13:08:02.635717Z",
     "iopub.status.busy": "2022-07-24T13:08:02.630667Z",
     "iopub.status.idle": "2022-07-24T13:08:02.711474Z",
     "shell.execute_reply": "2022-07-24T13:08:02.709802Z"
    },
    "id": "af65dcda",
    "papermill": {
     "duration": 0.124089,
     "end_time": "2022-07-24T13:08:02.730163",
     "exception": false,
     "start_time": "2022-07-24T13:08:02.606074",
     "status": "completed"
    },
    "tags": []
   },
   "outputs": [
    {
     "data": {
      "application/scrapbook.scrap.json+json": {
       "data": 0.0018587611380460627,
       "encoder": "json",
       "name": "Prior Model MSE",
       "version": 1
      }
     },
     "metadata": {
      "scrapbook": {
       "data": true,
       "display": false,
       "name": "Prior Model MSE"
      }
     },
     "output_type": "display_data"
    },
    {
     "data": {
      "application/scrapbook.scrap.json+json": {
       "data": 0.0115870977162455,
       "encoder": "json",
       "name": "ABC Pre-generator MSE",
       "version": 1
      }
     },
     "metadata": {
      "scrapbook": {
       "data": true,
       "display": false,
       "name": "ABC Pre-generator MSE"
      }
     },
     "output_type": "display_data"
    },
    {
     "data": {
      "application/scrapbook.scrap.json+json": {
       "data": 0.025458587182643412,
       "encoder": "json",
       "name": "Prior Model MAE",
       "version": 1
      }
     },
     "metadata": {
      "scrapbook": {
       "data": true,
       "display": false,
       "name": "Prior Model MAE"
      }
     },
     "output_type": "display_data"
    },
    {
     "name": "stdout",
     "output_type": "stream",
     "text": [
      "Prior Model MAE 0.025458587182643412\n",
      "ABC Pre-generator MAE 0.10091873969426182\n"
     ]
    }
   ],
   "source": [
    "y_pred = prior_model.predict(X_test)\n",
    "y_abc = y_pred + np.random.normal(0,variance, y_pred.shape) + bias \n",
    "mse = mean_squared_error(y_pred,Y_test)\n",
    "sb.glue(\"Prior Model MSE\",mse)\n",
    "mse = mean_squared_error(y_abc,Y_test)\n",
    "sb.glue(\"ABC Pre-generator MSE\",mse)\n",
    "mae = mean_absolute_error(y_pred,Y_test)\n",
    "sb.glue(\"Prior Model MAE\",mae)\n",
    "print(\"Prior Model MAE\",mae)\n",
    "mae = mean_absolute_error(y_abc,Y_test)\n",
    "print(\"ABC Pre-generator MAE\",mae)"
   ]
  },
  {
   "cell_type": "markdown",
   "id": "25609da2",
   "metadata": {
    "papermill": {
     "duration": 0.024333,
     "end_time": "2022-07-24T13:08:02.785239",
     "exception": false,
     "start_time": "2022-07-24T13:08:02.760906",
     "status": "completed"
    },
    "tags": []
   },
   "source": [
    "# mGAN Model"
   ]
  },
  {
   "cell_type": "code",
   "execution_count": 11,
   "id": "dfc3464d",
   "metadata": {
    "execution": {
     "iopub.execute_input": "2022-07-24T13:08:02.916431Z",
     "iopub.status.busy": "2022-07-24T13:08:02.915808Z",
     "iopub.status.idle": "2022-07-24T13:08:02.926735Z",
     "shell.execute_reply": "2022-07-24T13:08:02.924417Z"
    },
    "papermill": {
     "duration": 0.129823,
     "end_time": "2022-07-24T13:08:02.965522",
     "exception": false,
     "start_time": "2022-07-24T13:08:02.835699",
     "status": "completed"
    },
    "tags": []
   },
   "outputs": [],
   "source": [
    "# gen = network.Generator(n_features+1).to(device)\n",
    "# disc = network.Discriminator(n_features+1).to(device)\n",
    "\n",
    "# criterion = torch.nn.BCELoss()\n",
    "# gen_opt = torch.optim.Adam(gen.parameters(), lr=0.01, betas=(0.5, 0.999))\n",
    "# disc_opt = torch.optim.Adam(disc.parameters(), lr=0.01, betas=(0.5, 0.999))"
   ]
  },
  {
   "cell_type": "code",
   "execution_count": 12,
   "id": "b75fdd85",
   "metadata": {
    "execution": {
     "iopub.execute_input": "2022-07-24T13:08:03.003912Z",
     "iopub.status.busy": "2022-07-24T13:08:03.003377Z",
     "iopub.status.idle": "2022-07-24T13:08:03.008052Z",
     "shell.execute_reply": "2022-07-24T13:08:03.006524Z"
    },
    "papermill": {
     "duration": 0.022872,
     "end_time": "2022-07-24T13:08:03.011557",
     "exception": false,
     "start_time": "2022-07-24T13:08:02.988685",
     "status": "completed"
    },
    "tags": []
   },
   "outputs": [],
   "source": [
    "#Training the ABC_GAN \n",
    "# ABC_train_test2.training_GAN(disc,gen,disc_opt,gen_opt,train_data,batch_size,n_epochs,criterion,prior_model,variance,bias,device)"
   ]
  },
  {
   "cell_type": "code",
   "execution_count": 13,
   "id": "1fa7c368",
   "metadata": {
    "execution": {
     "iopub.execute_input": "2022-07-24T13:08:03.034456Z",
     "iopub.status.busy": "2022-07-24T13:08:03.033859Z",
     "iopub.status.idle": "2022-07-24T13:08:03.038720Z",
     "shell.execute_reply": "2022-07-24T13:08:03.036755Z"
    },
    "papermill": {
     "duration": 0.030181,
     "end_time": "2022-07-24T13:08:03.052574",
     "exception": false,
     "start_time": "2022-07-24T13:08:03.022393",
     "status": "completed"
    },
    "tags": []
   },
   "outputs": [],
   "source": [
    "# ABC_GAN1_metrics=ABC_train_test2.test_generator(gen,test_data,prior_model,variance,bias,\"1\",device)\n",
    "# sb.glue(\"ABC_GAN_1 Metrics\",ABC_GAN1_metrics)\n",
    "\n",
    "# print(\"MAE\")\n",
    "# print(mean(ABC_GAN1_metrics[1]))"
   ]
  },
  {
   "cell_type": "code",
   "execution_count": 14,
   "id": "eb22ce5c",
   "metadata": {
    "execution": {
     "iopub.execute_input": "2022-07-24T13:08:03.088303Z",
     "iopub.status.busy": "2022-07-24T13:08:03.087791Z",
     "iopub.status.idle": "2022-07-24T13:08:03.096700Z",
     "shell.execute_reply": "2022-07-24T13:08:03.093079Z"
    },
    "papermill": {
     "duration": 0.047361,
     "end_time": "2022-07-24T13:08:03.115771",
     "exception": false,
     "start_time": "2022-07-24T13:08:03.068410",
     "status": "completed"
    },
    "tags": []
   },
   "outputs": [],
   "source": [
    "# sanityChecks.discProbVsError(train_data,disc,device)\n",
    "# sanityChecks.discProbVsError(test_data,disc,device)"
   ]
  },
  {
   "cell_type": "markdown",
   "id": "3f39476e",
   "metadata": {
    "papermill": {
     "duration": 0.015904,
     "end_time": "2022-07-24T13:08:03.152171",
     "exception": false,
     "start_time": "2022-07-24T13:08:03.136267",
     "status": "completed"
    },
    "tags": []
   },
   "source": [
    "# mGAN Model with TabNet Generator"
   ]
  },
  {
   "cell_type": "code",
   "execution_count": 15,
   "id": "b8a90d24",
   "metadata": {
    "execution": {
     "iopub.execute_input": "2022-07-24T13:08:03.185910Z",
     "iopub.status.busy": "2022-07-24T13:08:03.185370Z",
     "iopub.status.idle": "2022-07-24T13:08:03.227328Z",
     "shell.execute_reply": "2022-07-24T13:08:03.222176Z"
    },
    "papermill": {
     "duration": 0.087542,
     "end_time": "2022-07-24T13:08:03.252452",
     "exception": false,
     "start_time": "2022-07-24T13:08:03.164910",
     "status": "completed"
    },
    "tags": []
   },
   "outputs": [],
   "source": [
    "gen2 = network.GeneratorTabnet(n_features+1).to(device)\n",
    "disc2 = network.Discriminator(n_features+1).to(device)\n",
    "\n",
    "criterion = torch.nn.BCELoss()\n",
    "gen_opt = torch.optim.Adam(gen2.parameters(), lr=0.01, betas=(0.5, 0.999))\n",
    "disc_opt = torch.optim.Adam(disc2.parameters(), lr=0.01, betas=(0.5, 0.999))"
   ]
  },
  {
   "cell_type": "code",
   "execution_count": 16,
   "id": "32abbc50",
   "metadata": {
    "execution": {
     "iopub.execute_input": "2022-07-24T13:08:03.289963Z",
     "iopub.status.busy": "2022-07-24T13:08:03.289505Z",
     "iopub.status.idle": "2022-07-24T13:11:10.399253Z",
     "shell.execute_reply": "2022-07-24T13:11:10.397701Z"
    },
    "papermill": {
     "duration": 187.127492,
     "end_time": "2022-07-24T13:11:10.403083",
     "exception": false,
     "start_time": "2022-07-24T13:08:03.275591",
     "status": "completed"
    },
    "tags": []
   },
   "outputs": [
    {
     "data": {
      "image/png": "[encoded data removed]",
      "text/plain": [
       "<Figure size 432x288 with 1 Axes>"
      ]
     },
     "metadata": {
      "needs_background": "light"
     },
     "output_type": "display_data"
    },
    {
     "data": {
      "image/png": "[encoded data removed]",
      "text/plain": [
       "<Figure size 432x288 with 1 Axes>"
      ]
     },
     "metadata": {
      "needs_background": "light"
     },
     "output_type": "display_data"
    }
   ],
   "source": [
    "#Training the ABC_GAN \n",
    "ABC_train_test2.training_GAN(disc2,gen2,disc_opt,gen_opt,train_data,batch_size,n_epochs,criterion,prior_model,variance,bias,device)"
   ]
  },
  {
   "cell_type": "code",
   "execution_count": 17,
   "id": "6d8c89d9",
   "metadata": {
    "execution": {
     "iopub.execute_input": "2022-07-24T13:11:10.432239Z",
     "iopub.status.busy": "2022-07-24T13:11:10.431886Z",
     "iopub.status.idle": "2022-07-24T13:11:11.073954Z",
     "shell.execute_reply": "2022-07-24T13:11:11.073032Z"
    },
    "papermill": {
     "duration": 0.661271,
     "end_time": "2022-07-24T13:11:11.077176",
     "exception": false,
     "start_time": "2022-07-24T13:11:10.415905",
     "status": "completed"
    },
    "tags": []
   },
   "outputs": [
    {
     "data": {
      "application/scrapbook.scrap.json+json": {
       "data": 0.004495611450533256,
       "encoder": "json",
       "name": "ABC-GAN Model 1 MSE",
       "version": 1
      }
     },
     "metadata": {
      "scrapbook": {
       "data": true,
       "display": false,
       "name": "ABC-GAN Model 1 MSE"
      }
     },
     "output_type": "display_data"
    },
    {
     "data": {
      "application/scrapbook.scrap.json+json": {
       "data": 0.04083143771275297,
       "encoder": "json",
       "name": "ABC-GAN Model 1 MAE",
       "version": 1
      }
     },
     "metadata": {
      "scrapbook": {
       "data": true,
       "display": false,
       "name": "ABC-GAN Model 1 MAE"
      }
     },
     "output_type": "display_data"
    },
    {
     "data": {
      "application/scrapbook.scrap.json+json": {
       "data": 6.288041407763958,
       "encoder": "json",
       "name": "ABC-GAN Model 1 Manhattan Distance",
       "version": 1
      }
     },
     "metadata": {
      "scrapbook": {
       "data": true,
       "display": false,
       "name": "ABC-GAN Model 1 Manhattan Distance"
      }
     },
     "output_type": "display_data"
    },
    {
     "data": {
      "application/scrapbook.scrap.json+json": {
       "data": 0.8320311699255097,
       "encoder": "json",
       "name": "ABC-GAN Model 1 Euclidean distance",
       "version": 1
      }
     },
     "metadata": {
      "scrapbook": {
       "data": true,
       "display": false,
       "name": "ABC-GAN Model 1 Euclidean distance"
      }
     },
     "output_type": "display_data"
    },
    {
     "data": {
      "application/scrapbook.scrap.json+json": {
       "data": [
        [
         0.004477307848480909,
         0.004441890720790187,
         0.0044291612905681225,
         0.004592439685808746,
         0.0046076935953199725,
         0.004517236823299504,
         0.0045750858514367505,
         0.004455207482806861,
         0.004525725319024782,
         0.004464720503313055,
         0.004507107726057272,
         0.0044756719358146945,
         0.004653037581153952,
         0.004450743718209413,
         0.004635724002264131,
         0.00449226136462465,
         0.004451274165492111,
         0.004405334805792115,
         0.004413614132627017,
         0.004601183455099716,
         0.004482361447303929,
         0.004467328305758937,
         0.0045050524629649796,
         0.004484836575124655,
         0.004553418244261293,
         0.004529571152791634,
         0.004470230867012721,
         0.004414870370670731,
         0.004456916837022074,
         0.004515705317271637,
         0.004481347020383098,
         0.004415955987014478,
         0.004494862546427272,
         0.004407482814776407,
         0.00460130439508306,
         0.004516577796972926,
         0.0044734162654959395,
         0.0043614560296551174,
         0.004565979339897479,
         0.00445715793147713,
         0.0044720031104501555,
         0.0045879570974272366,
         0.004460934345832591,
         0.004551674693907046,
         0.004426473146557284,
         0.00463568724014362,
         0.004562683583007374,
         0.004559642813828318,
         0.004542360438922857,
         0.004406305279705836,
         0.004481005429144749,
         0.004522134062982453,
         0.004437388211445766,
         0.004575974018208654,
         0.004502668052359805,
         0.004360915067192425,
         0.004599994134842229,
         0.004571025025353873,
         0.004519629076553316,
         0.004483074040517623,
         0.004389278357093857,
         0.00440814160684362,
         0.004353999286551816,
         0.004429992676402637,
         0.004615482685464758,
         0.004461285910120431,
         0.0045353901482116715,
         0.0045334801211779525,
         0.004570397023331039,
         0.0045225347689467005,
         0.0045514263948845425,
         0.0044492964724017385,
         0.00437747921600176,
         0.004445746473347751,
         0.004479788589097911,
         0.004420198098607423,
         0.004435546570135699,
         0.004538410547752895,
         0.0044771234832516205,
         0.0043157082151682544,
         0.004574461479094957,
         0.0045723285860466995,
         0.004474679025656763,
         0.004582127235933905,
         0.004548153113333055,
         0.004479284733377198,
         0.00451759732183297,
         0.004412428841641517,
         0.004347396370172855,
         0.004497581685125315,
         0.004531751079462458,
         0.004473534395557626,
         0.004389640102768006,
         0.0045118745777978555,
         0.004448813500150092,
         0.004587616397062317,
         0.0046220337263637775,
         0.004458926188114877,
         0.0044183491261858745,
         0.004714078339120716
        ],
        [
         0.04114295842198582,
         0.04066882282495499,
         0.04022998072497257,
         0.041614243446232435,
         0.04149725210744065,
         0.04095956441256907,
         0.0411558018682839,
         0.040523705254127455,
         0.04130348843800557,
         0.04035243324258111,
         0.04171239700797316,
         0.04020545360716907,
         0.04161753524820526,
         0.041467059645559884,
         0.041773729413360744,
         0.04144592941194385,
         0.04031304521607114,
         0.04003533691941918,
         0.039768184063496526,
         0.0425454502949467,
         0.04085080548153295,
         0.041211315079942926,
         0.04070089515540507,
         0.040242125364867126,
         0.04028684452369616,
         0.040871522159545454,
         0.04125746649194073,
         0.040412589423842245,
         0.04064887113772429,
         0.040971281176263634,
         0.04009054030303831,
         0.04065571657635949,
         0.041789851889207766,
         0.04114436629143628,
         0.04138406753152996,
         0.040981052661096896,
         0.04116290972217337,
         0.04026961878135607,
         0.04120552239867,
         0.04075444779999844,
         0.04093578370747628,
         0.04145321743441867,
         0.03981072339531663,
         0.041095434748507166,
         0.04108581150119955,
         0.04170714444541312,
         0.04108615809833849,
         0.04085614590288757,
         0.04160942050156655,
         0.040521574388076735,
         0.0402832365074715,
         0.04116922491169595,
         0.03964885575817777,
         0.041951794032152594,
         0.04083347930149599,
         0.039733393722540374,
         0.041761418925477314,
         0.04137561160635639,
         0.04097152927092144,
         0.039792794782619975,
         0.040583104572512886,
         0.03984184863118382,
         0.04110906795634852,
         0.04033760929649526,
         0.04119004183388376,
         0.040736876234605715,
         0.040979084933733013,
         0.04113031275473632,
         0.04078509387644855,
         0.040666635644126245,
         0.04132859379827202,
         0.04058237712491642,
         0.04070594103692414,
         0.04023761747332363,
         0.04111385819586841,
         0.04007331281900406,
         0.03984173522754149,
         0.04069540765765425,
         0.04086120068639904,
         0.03905903393184984,
         0.042043557511521626,
         0.04079968327438677,
         0.04056286724743905,
         0.041116667161514235,
         0.04107670456945122,
         0.040506196970289406,
         0.041342982320816485,
         0.03999213613085933,
         0.03968133158110953,
         0.04098473402199807,
         0.041157727214423095,
         0.04098100757057017,
         0.040619827806949615,
         0.040929004840262524,
         0.04009337055605727,
         0.040795097006605816,
         0.04142814748860025,
         0.04054265740242871,
         0.040009558684640116,
         0.04171482376851045
        ],
        [
         6.336015596985817,
         6.262998715043068,
         6.195417031645775,
         6.408593490719795,
         6.39057682454586,
         6.307772919535637,
         6.337993487715721,
         6.240650609135628,
         6.360737219452858,
         6.2142747193574905,
         6.423709139227867,
         6.191639855504036,
         6.40910042822361,
         6.385927185416222,
         6.433154329657555,
         6.382673129439354,
         6.208208963274956,
         6.165441885590553,
         6.124300345778465,
         6.551999345421791,
         6.2910240441560745,
         6.346542522311211,
         6.267937853932381,
         6.197287306189537,
         6.204174056649208,
         6.29421441257,
         6.353649839758873,
         6.223538771271706,
         6.259926155209541,
         6.3095773011446,
         6.1739432066679,
         6.260980352759361,
         6.435637190937996,
         6.336232408881187,
         6.373146399855614,
         6.311082109808922,
         6.339088097214699,
         6.2015212923288345,
         6.34565044939518,
         6.27618496119976,
         6.304110690951347,
         6.3837954849004745,
         6.130851402878761,
         6.3286969512701035,
         6.3272149711847305,
         6.42290024459362,
         6.327268347144127,
         6.291846469044685,
         6.407850757241249,
         6.240322455763817,
         6.203618422150612,
         6.3400606364011765,
         6.1059237867593765,
         6.4605762809515,
         6.288355812430382,
         6.118942633271217,
         6.431258514523506,
         6.371844187378883,
         6.309615507721901,
         6.128090396523476,
         6.249798104166985,
         6.135644689202309,
         6.330796465277672,
         6.211991831660271,
         6.3432664424180984,
         6.27347894012928,
         6.310779079794884,
         6.334068164229393,
         6.280904456973076,
         6.262661889195442,
         6.364603444933891,
         6.249686077237129,
         6.268714919686317,
         6.196593090891838,
         6.331534162163734,
         6.171290174126625,
         6.1356272250413895,
         6.267092779278755,
         6.292624905705452,
         6.015091225504875,
         6.47470785677433,
         6.283151224255562,
         6.246681556105614,
         6.331966742873192,
         6.325812503695488,
         6.237954333424568,
         6.366819277405739,
         6.158788964152336,
         6.110925063490868,
         6.311649039387703,
         6.338289991021156,
         6.3110751658678055,
         6.255453482270241,
         6.303066745400429,
         6.17437906563282,
         6.282444939017296,
         6.379934713244438,
         6.243569239974022,
         6.161472037434578,
         6.424082860350609
        ],
        [
         0.8303646239249718,
         0.8270738606688576,
         0.8258879093118453,
         0.8409730742506248,
         0.8423685735349318,
         0.8340590331554018,
         0.8393826428520306,
         0.8283127141075747,
         0.8348423199202448,
         0.8291965735036598,
         0.8331233941096721,
         0.8302129113158039,
         0.8465032708133552,
         0.827897658291319,
         0.8449269177560128,
         0.8317501128056407,
         0.8279469919540654,
         0.8236634993078094,
         0.8244371270294422,
         0.8417732783151032,
         0.8308331137387369,
         0.8294387012232286,
         0.8329334182854035,
         0.8310624721217995,
         0.8373926257235844,
         0.8351969573279776,
         0.8297081134471079,
         0.8245544476159792,
         0.8284716005400544,
         0.8339176331388083,
         0.8307390933012585,
         0.824655820327626,
         0.831990884655475,
         0.8238642809805306,
         0.8417843410534501,
         0.8339981898864233,
         0.8300036776342469,
         0.8195512360840462,
         0.8385468492244257,
         0.8284940080938895,
         0.8298725679339714,
         0.840562545563264,
         0.8288449126695651,
         0.8372322872785575,
         0.825637247566885,
         0.8449235675385777,
         0.8382441600053863,
         0.83796479241646,
         0.8363752193807036,
         0.8237542188509256,
         0.8307074311021247,
         0.8345110219160067,
         0.8266545739077767,
         0.8394641140657132,
         0.8327129637896903,
         0.8195004089978439,
         0.8416644799239797,
         0.839010043983084,
         0.8342798557973281,
         0.8308991528697776,
         0.8221610955235319,
         0.8239258507013343,
         0.8188503466012453,
         0.8259654182627781,
         0.8430802651951786,
         0.8288775724789195,
         0.8357332605709775,
         0.8355572623473538,
         0.8389524072275971,
         0.8345479940769086,
         0.8372094509811864,
         0.8277630438415741,
         0.8210552961063409,
         0.8274327506785997,
         0.8305946320083452,
         0.8250518209091736,
         0.8264830136190929,
         0.8360114977402798,
         0.8303475274972218,
         0.8152417219057861,
         0.8393253646713075,
         0.8391296695095412,
         0.8301208164786265,
         0.840028329482894,
         0.8369083459096883,
         0.8305479209173234,
         0.8340923135734302,
         0.8243264169082498,
         0.8182292105557096,
         0.8322425004223819,
         0.8353979089255721,
         0.8300146365672563,
         0.8221949743377619,
         0.8335638457735974,
         0.8277181156789515,
         0.8405313350182709,
         0.8436783710988576,
         0.8286583330720153,
         0.8248792429396103,
         0.8520375955464584
        ]
       ],
       "encoder": "json",
       "name": "ABC_GAN_2 Metrics",
       "version": 1
      }
     },
     "metadata": {
      "scrapbook": {
       "data": true,
       "display": false,
       "name": "ABC_GAN_2 Metrics"
      }
     },
     "output_type": "display_data"
    },
    {
     "name": "stdout",
     "output_type": "stream",
     "text": [
      "MAE\n",
      "0.04083143771275297\n"
     ]
    }
   ],
   "source": [
    "ABC_GAN2_metrics=ABC_train_test2.test_generator(gen2,test_data,prior_model,variance,bias,\"1\",device)\n",
    "sb.glue(\"ABC_GAN_2 Metrics\",ABC_GAN2_metrics)\n",
    "\n",
    "print(\"MAE\")\n",
    "print(mean(ABC_GAN2_metrics[1]))"
   ]
  },
  {
   "cell_type": "code",
   "execution_count": 18,
   "id": "3aae2160",
   "metadata": {
    "execution": {
     "iopub.execute_input": "2022-07-24T13:11:11.111344Z",
     "iopub.status.busy": "2022-07-24T13:11:11.110757Z",
     "iopub.status.idle": "2022-07-24T13:11:12.066914Z",
     "shell.execute_reply": "2022-07-24T13:11:12.066058Z"
    },
    "papermill": {
     "duration": 0.976287,
     "end_time": "2022-07-24T13:11:12.069414",
     "exception": false,
     "start_time": "2022-07-24T13:11:11.093127",
     "status": "completed"
    },
    "tags": []
   },
   "outputs": [
    {
     "data": {
      "image/png": "[encoded data removed]",
      "text/plain": [
       "<Figure size 432x288 with 1 Axes>"
      ]
     },
     "metadata": {
      "needs_background": "light"
     },
     "output_type": "display_data"
    },
    {
     "data": {
      "image/png": "[encoded data removed]",
      "text/plain": [
       "<Figure size 432x288 with 1 Axes>"
      ]
     },
     "metadata": {
      "needs_background": "light"
     },
     "output_type": "display_data"
    },
    {
     "data": {
      "image/png": "[encoded data removed]",
      "text/plain": [
       "<Figure size 432x288 with 1 Axes>"
      ]
     },
     "metadata": {
      "needs_background": "light"
     },
     "output_type": "display_data"
    },
    {
     "data": {
      "image/png": "[encoded data removed]",
      "text/plain": [
       "<Figure size 432x288 with 1 Axes>"
      ]
     },
     "metadata": {
      "needs_background": "light"
     },
     "output_type": "display_data"
    }
   ],
   "source": [
    "sanityChecks.discProbVsError(train_data,disc2,device)\n",
    "sanityChecks.discProbVsError(test_data,disc2,device)"
   ]
  },
  {
   "cell_type": "markdown",
   "id": "130f3a4d",
   "metadata": {
    "id": "130f3a4d",
    "papermill": {
     "duration": 0.017876,
     "end_time": "2022-07-24T13:11:12.106988",
     "exception": false,
     "start_time": "2022-07-24T13:11:12.089112",
     "status": "completed"
    },
    "tags": []
   },
   "source": [
    "# skipGAN Model"
   ]
  },
  {
   "cell_type": "code",
   "execution_count": 19,
   "id": "4e43dad1",
   "metadata": {
    "execution": {
     "iopub.execute_input": "2022-07-24T13:11:12.159383Z",
     "iopub.status.busy": "2022-07-24T13:11:12.158980Z",
     "iopub.status.idle": "2022-07-24T13:11:12.163932Z",
     "shell.execute_reply": "2022-07-24T13:11:12.162846Z"
    },
    "id": "4e43dad1",
    "papermill": {
     "duration": 0.039397,
     "end_time": "2022-07-24T13:11:12.166574",
     "exception": false,
     "start_time": "2022-07-24T13:11:12.127177",
     "status": "completed"
    },
    "tags": []
   },
   "outputs": [],
   "source": [
    "# #Generator\n",
    "# gen3 = network.GeneratorWithSkipConnection(n_features+1).to(device)\n",
    "# constraints=network.weightConstraint()\n",
    "# #Discriminator \n",
    "# disc3 = network.Discriminator(n_features+1).to(device)\n",
    "\n",
    "# criterion = torch.nn.BCELoss()\n",
    "# gen_opt = torch.optim.Adam(gen3.parameters(), lr=0.01, betas=(0.5, 0.999))\n",
    "# disc_opt = torch.optim.Adam(disc3.parameters(), lr=0.01, betas=(0.5, 0.999))\n"
   ]
  },
  {
   "cell_type": "markdown",
   "id": "322698ca",
   "metadata": {
    "tags": [
     "papermill-error-cell-tag"
    ]
   },
   "source": [
    "<span id=\"papermill-error-cell\" style=\"color:red; font-family:Helvetica Neue, Helvetica, Arial, sans-serif; font-size:2em;\">Execution using papermill encountered an exception here and stopped:</span>"
   ]
  },
  {
   "cell_type": "code",
   "execution_count": 20,
   "id": "26acbc37",
   "metadata": {
    "execution": {
     "iopub.execute_input": "2022-07-24T13:11:12.202871Z",
     "iopub.status.busy": "2022-07-24T13:11:12.202139Z",
     "iopub.status.idle": "2022-07-24T13:11:13.091056Z",
     "shell.execute_reply": "2022-07-24T13:11:13.089399Z"
    },
    "id": "26acbc37",
    "papermill": {
     "duration": 0.920644,
     "end_time": "2022-07-24T13:11:13.103798",
     "exception": true,
     "start_time": "2022-07-24T13:11:12.183154",
     "status": "failed"
    },
    "tags": []
   },
   "outputs": [
    {
     "ename": "NameError",
     "evalue": "name 'disc3' is not defined",
     "output_type": "error",
     "traceback": [
      "\u001b[0;31m---------------------------------------------------------------------------\u001b[0m",
      "\u001b[0;31mNameError\u001b[0m                                 Traceback (most recent call last)",
      "Input \u001b[0;32mIn [20]\u001b[0m, in \u001b[0;36m<cell line: 1>\u001b[0;34m()\u001b[0m\n\u001b[0;32m----> 1\u001b[0m ABC_train_test2\u001b[38;5;241m.\u001b[39mtraining_GAN_skip_connection(\u001b[43mdisc3\u001b[49m,gen3,disc_opt,gen_opt,train_data,batch_size,n_epochs,criterion,prior_model,variance,bias,device)\n",
      "\u001b[0;31mNameError\u001b[0m: name 'disc3' is not defined"
     ]
    }
   ],
   "source": [
    "ABC_train_test2.training_GAN_skip_connection(disc3,gen3,disc_opt,gen_opt,train_data,batch_size,n_epochs,criterion,prior_model,variance,bias,device)"
   ]
  },
  {
   "cell_type": "code",
   "execution_count": null,
   "id": "c5e0717b",
   "metadata": {
    "id": "c5e0717b",
    "papermill": {
     "duration": null,
     "end_time": null,
     "exception": null,
     "start_time": null,
     "status": "pending"
    },
    "tags": []
   },
   "outputs": [],
   "source": [
    "# ABC_GAN3_metrics=ABC_train_test2.test_generator(gen3,test_data,prior_model,variance,bias,\"3\",device)\n",
    "# sb.glue(\"ABC_GAN_3 Metrics\",ABC_GAN3_metrics)\n",
    "\n",
    "# print(\"MAE\")\n",
    "# print(mean(ABC_GAN3_metrics[1]))"
   ]
  },
  {
   "cell_type": "code",
   "execution_count": null,
   "id": "c8e46b48",
   "metadata": {
    "id": "c8e46b48",
    "papermill": {
     "duration": null,
     "end_time": null,
     "exception": null,
     "start_time": null,
     "status": "pending"
    },
    "tags": []
   },
   "outputs": [],
   "source": [
    "# sanityChecks.discProbVsError(train_data,disc3,device)\n",
    "# sanityChecks.discProbVsError(test_data,disc3,device)"
   ]
  },
  {
   "cell_type": "markdown",
   "id": "0977f4f8",
   "metadata": {
    "id": "130f3a4d",
    "papermill": {
     "duration": null,
     "end_time": null,
     "exception": null,
     "start_time": null,
     "status": "pending"
    },
    "tags": []
   },
   "source": [
    "# skipGAN Model with TabNet Generator"
   ]
  },
  {
   "cell_type": "code",
   "execution_count": null,
   "id": "f7569566",
   "metadata": {
    "id": "4e43dad1",
    "papermill": {
     "duration": null,
     "end_time": null,
     "exception": null,
     "start_time": null,
     "status": "pending"
    },
    "tags": []
   },
   "outputs": [],
   "source": [
    "# #Generator\n",
    "# gen4 = network.GeneratorTabnetskipConnection(n_features+1).to(device)\n",
    "# constraints=network.weightConstraint()\n",
    "# #Discriminator \n",
    "# disc4 = network.Discriminator(n_features+1).to(device)\n",
    "\n",
    "# criterion = torch.nn.BCELoss()\n",
    "# gen_opt = torch.optim.Adam(gen4.parameters(), lr=0.01, betas=(0.5, 0.999))\n",
    "# disc_opt = torch.optim.Adam(disc4.parameters(), lr=0.01, betas=(0.5, 0.999))\n"
   ]
  },
  {
   "cell_type": "code",
   "execution_count": null,
   "id": "60b35c99",
   "metadata": {
    "id": "26acbc37",
    "papermill": {
     "duration": null,
     "end_time": null,
     "exception": null,
     "start_time": null,
     "status": "pending"
    },
    "tags": []
   },
   "outputs": [],
   "source": [
    "# ABC_train_test2.training_GAN_skip_connection(disc4,gen4,disc_opt,gen_opt,train_data,batch_size,n_epochs,criterion,prior_model,variance,bias,device)"
   ]
  },
  {
   "cell_type": "code",
   "execution_count": null,
   "id": "d29d8287",
   "metadata": {
    "id": "c5e0717b",
    "papermill": {
     "duration": null,
     "end_time": null,
     "exception": null,
     "start_time": null,
     "status": "pending"
    },
    "tags": []
   },
   "outputs": [],
   "source": [
    "# ABC_GAN4_metrics=ABC_train_test2.test_generator(gen4,test_data,prior_model,variance,bias,\"3\",device)\n",
    "# sb.glue(\"ABC_GAN_4 Metrics\",ABC_GAN4_metrics)\n",
    "\n",
    "# print(\"MAE\")\n",
    "# print(mean(ABC_GAN4_metrics[1]))"
   ]
  },
  {
   "cell_type": "code",
   "execution_count": null,
   "id": "b5860715",
   "metadata": {
    "id": "c8e46b48",
    "papermill": {
     "duration": null,
     "end_time": null,
     "exception": null,
     "start_time": null,
     "status": "pending"
    },
    "tags": []
   },
   "outputs": [],
   "source": [
    "# sanityChecks.discProbVsError(train_data,disc4,device)\n",
    "# sanityChecks.discProbVsError(test_data,disc4,device)"
   ]
  },
  {
   "cell_type": "markdown",
   "id": "a5bd74c3",
   "metadata": {
    "id": "a5bd74c3",
    "papermill": {
     "duration": null,
     "end_time": null,
     "exception": null,
     "start_time": null,
     "status": "pending"
    },
    "tags": []
   },
   "source": [
    "## Skip Connection Model Analysis - ABC-GAN "
   ]
  },
  {
   "cell_type": "markdown",
   "id": "5744a8bf",
   "metadata": {
    "id": "5744a8bf",
    "papermill": {
     "duration": null,
     "end_time": null,
     "exception": null,
     "start_time": null,
     "status": "pending"
    },
    "tags": []
   },
   "source": [
    "### Weight Analysis \n",
    "\n",
    "Study the weights of the skip connection layer\n",
    "\n",
    "Equation of the skip connection is \n",
    "\n",
    "$output = y_{gan} * w + y_{abc} * (1-w)$"
   ]
  },
  {
   "cell_type": "code",
   "execution_count": null,
   "id": "52c31dea",
   "metadata": {
    "id": "52c31dea",
    "papermill": {
     "duration": null,
     "end_time": null,
     "exception": null,
     "start_time": null,
     "status": "pending"
    },
    "tags": []
   },
   "outputs": [],
   "source": [
    "# print(\"Weight of the node at skip connection\")\n",
    "# for name,param in gen3.named_parameters():\n",
    "#     if(name == \"skipNode.weight\"):\n",
    "#         print(param)\n",
    "#         sb.glue(\"Skip Connection Weight\",param.item())"
   ]
  },
  {
   "cell_type": "markdown",
   "id": "4f105e9b",
   "metadata": {
    "id": "a5bd74c3",
    "papermill": {
     "duration": null,
     "end_time": null,
     "exception": null,
     "start_time": null,
     "status": "pending"
    },
    "tags": []
   },
   "source": [
    "## skipGAN Model Analysis (TabNet Generator) "
   ]
  },
  {
   "cell_type": "markdown",
   "id": "18539759",
   "metadata": {
    "id": "5744a8bf",
    "papermill": {
     "duration": null,
     "end_time": null,
     "exception": null,
     "start_time": null,
     "status": "pending"
    },
    "tags": []
   },
   "source": [
    "### Weight Analysis \n",
    "\n",
    "Study the weights of the skip connection layer\n",
    "\n",
    "Equation of the skip connection is \n",
    "\n",
    "$output = y_{gan} * w + y_{abc} * (1-w)$"
   ]
  },
  {
   "cell_type": "code",
   "execution_count": null,
   "id": "dd25bbcf",
   "metadata": {
    "id": "52c31dea",
    "papermill": {
     "duration": null,
     "end_time": null,
     "exception": null,
     "start_time": null,
     "status": "pending"
    },
    "tags": []
   },
   "outputs": [],
   "source": [
    "# print(\"Weight of the node at skip connection\")\n",
    "# for name,param in gen4.named_parameters():\n",
    "#     if(name == \"skipNode.weight\"):\n",
    "#         print(param)\n",
    "#         sb.glue(\"Skip Connection Weight\",param.item())"
   ]
  }
 ],
 "metadata": {
  "colab": {
   "collapsed_sections": [],
   "name": "ABC_GAN_Model-Catboost_Pre-gen.ipynb",
   "provenance": []
  },
  "interpreter": {
   "hash": "31f2aee4e71d21fbe5cf8b01ff0e069b9275f58929596ceb00d14d90e3e16cd6"
  },
  "kernelspec": {
   "display_name": "Python 3 (ipykernel)",
   "language": "python",
   "name": "python3"
  },
  "language_info": {
   "codemirror_mode": {
    "name": "ipython",
    "version": 3
   },
   "file_extension": ".py",
   "mimetype": "text/x-python",
   "name": "python",
   "nbconvert_exporter": "python",
   "pygments_lexer": "ipython3",
   "version": "3.8.13"
  },
  "papermill": {
   "default_parameters": {},
   "duration": 207.367605,
   "end_time": "2022-07-24T13:11:13.983215",
   "environment_variables": {},
   "exception": true,
   "input_path": "ABC_GAN-Catboost.ipynb",
   "output_path": "./ABC_GAN_Catboost/ABC-GAN_output_3_5.ipynb",
   "parameters": {
    "bias": 0.1,
    "variance": 0.01
   },
   "start_time": "2022-07-24T13:07:46.615610",
   "version": "2.3.3"
  }
 },
 "nbformat": 4,
 "nbformat_minor": 5
}