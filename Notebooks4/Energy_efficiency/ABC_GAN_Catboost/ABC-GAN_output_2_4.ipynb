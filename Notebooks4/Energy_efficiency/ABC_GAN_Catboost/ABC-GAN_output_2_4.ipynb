{
 "cells": [
  {
   "cell_type": "markdown",
   "id": "622780e6",
   "metadata": {
    "id": "622780e6",
    "papermill": {
     "duration": 0.008276,
     "end_time": "2022-07-25T03:14:52.287544",
     "exception": false,
     "start_time": "2022-07-25T03:14:52.279268",
     "status": "completed"
    },
    "tags": []
   },
   "source": [
    "## Import Libraries "
   ]
  },
  {
   "cell_type": "code",
   "execution_count": 1,
   "id": "a62397e3",
   "metadata": {
    "execution": {
     "iopub.execute_input": "2022-07-25T03:14:52.305963Z",
     "iopub.status.busy": "2022-07-25T03:14:52.305385Z",
     "iopub.status.idle": "2022-07-25T03:14:52.318451Z",
     "shell.execute_reply": "2022-07-25T03:14:52.317291Z"
    },
    "id": "a62397e3",
    "papermill": {
     "duration": 0.026153,
     "end_time": "2022-07-25T03:14:52.321389",
     "exception": false,
     "start_time": "2022-07-25T03:14:52.295236",
     "status": "completed"
    },
    "tags": []
   },
   "outputs": [],
   "source": [
    "import warnings\n",
    "import sys\n",
    "sys.path.insert(0, '../../src')\n",
    "warnings.filterwarnings('ignore')"
   ]
  },
  {
   "cell_type": "code",
   "execution_count": 2,
   "id": "d6a4e155",
   "metadata": {
    "execution": {
     "iopub.execute_input": "2022-07-25T03:14:52.337344Z",
     "iopub.status.busy": "2022-07-25T03:14:52.337026Z",
     "iopub.status.idle": "2022-07-25T03:15:00.073968Z",
     "shell.execute_reply": "2022-07-25T03:15:00.073091Z"
    },
    "id": "d6a4e155",
    "papermill": {
     "duration": 7.748406,
     "end_time": "2022-07-25T03:15:00.076780",
     "exception": false,
     "start_time": "2022-07-25T03:14:52.328374",
     "status": "completed"
    },
    "tags": []
   },
   "outputs": [],
   "source": [
    "import ABC_train_test2\n",
    "import energyefficiencyDataset\n",
    "import network\n",
    "import dataset\n",
    "import sanityChecks\n",
    "import torch \n",
    "import scrapbook as sb\n",
    "from statistics import mean \n",
    "import catboost as ctb \n",
    "from sklearn.model_selection import train_test_split\n",
    "from sklearn.metrics import mean_squared_error,mean_absolute_error\n",
    "import numpy as np"
   ]
  },
  {
   "cell_type": "markdown",
   "id": "2fa5b0f7",
   "metadata": {
    "id": "2fa5b0f7",
    "papermill": {
     "duration": 0.007471,
     "end_time": "2022-07-25T03:15:00.091532",
     "exception": false,
     "start_time": "2022-07-25T03:15:00.084061",
     "status": "completed"
    },
    "tags": []
   },
   "source": [
    "## Parameters "
   ]
  },
  {
   "cell_type": "code",
   "execution_count": 3,
   "id": "783186fb",
   "metadata": {
    "execution": {
     "iopub.execute_input": "2022-07-25T03:15:00.120305Z",
     "iopub.status.busy": "2022-07-25T03:15:00.119652Z",
     "iopub.status.idle": "2022-07-25T03:15:00.124646Z",
     "shell.execute_reply": "2022-07-25T03:15:00.123641Z"
    },
    "id": "783186fb",
    "papermill": {
     "duration": 0.024405,
     "end_time": "2022-07-25T03:15:00.128436",
     "exception": false,
     "start_time": "2022-07-25T03:15:00.104031",
     "status": "completed"
    },
    "tags": [
     "parameters"
    ]
   },
   "outputs": [],
   "source": [
    "variance = 1\n",
    "bias = 1 "
   ]
  },
  {
   "cell_type": "code",
   "execution_count": 4,
   "id": "17cb7a76",
   "metadata": {
    "execution": {
     "iopub.execute_input": "2022-07-25T03:15:00.151286Z",
     "iopub.status.busy": "2022-07-25T03:15:00.150755Z",
     "iopub.status.idle": "2022-07-25T03:15:00.158583Z",
     "shell.execute_reply": "2022-07-25T03:15:00.156771Z"
    },
    "papermill": {
     "duration": 0.032163,
     "end_time": "2022-07-25T03:15:00.168348",
     "exception": false,
     "start_time": "2022-07-25T03:15:00.136185",
     "status": "completed"
    },
    "tags": [
     "injected-parameters"
    ]
   },
   "outputs": [],
   "source": [
    "# Parameters\n",
    "variance = 0.1\n",
    "bias = 0.1\n"
   ]
  },
  {
   "cell_type": "markdown",
   "id": "391cdbfd",
   "metadata": {
    "id": "391cdbfd",
    "papermill": {
     "duration": 0.008667,
     "end_time": "2022-07-25T03:15:00.184707",
     "exception": false,
     "start_time": "2022-07-25T03:15:00.176040",
     "status": "completed"
    },
    "tags": []
   },
   "source": [
    "## Dataset \n"
   ]
  },
  {
   "cell_type": "code",
   "execution_count": 5,
   "id": "5b51f161",
   "metadata": {
    "execution": {
     "iopub.execute_input": "2022-07-25T03:15:00.206269Z",
     "iopub.status.busy": "2022-07-25T03:15:00.205791Z",
     "iopub.status.idle": "2022-07-25T03:15:00.212827Z",
     "shell.execute_reply": "2022-07-25T03:15:00.211424Z"
    },
    "id": "5b51f161",
    "papermill": {
     "duration": 0.024685,
     "end_time": "2022-07-25T03:15:00.217728",
     "exception": false,
     "start_time": "2022-07-25T03:15:00.193043",
     "status": "completed"
    },
    "tags": []
   },
   "outputs": [],
   "source": [
    "#Parameters \n",
    "n_features = 8\n",
    "n_samples= 768\n",
    "n_target = 1 "
   ]
  },
  {
   "cell_type": "code",
   "execution_count": 6,
   "id": "5d6eced4",
   "metadata": {
    "execution": {
     "iopub.execute_input": "2022-07-25T03:15:00.239272Z",
     "iopub.status.busy": "2022-07-25T03:15:00.238787Z",
     "iopub.status.idle": "2022-07-25T03:15:00.958748Z",
     "shell.execute_reply": "2022-07-25T03:15:00.957812Z"
    },
    "id": "5d6eced4",
    "papermill": {
     "duration": 0.733075,
     "end_time": "2022-07-25T03:15:00.961202",
     "exception": false,
     "start_time": "2022-07-25T03:15:00.228127",
     "status": "completed"
    },
    "tags": []
   },
   "outputs": [
    {
     "name": "stdout",
     "output_type": "stream",
     "text": [
      "     X1     X2     X3      X4   X5  X6   X7  X8     Y1     Y2\n",
      "0  0.98  514.5  294.0  110.25  7.0   2  0.0   0  15.55  21.33\n",
      "1  0.98  514.5  294.0  110.25  7.0   3  0.0   0  15.55  21.33\n",
      "2  0.98  514.5  294.0  110.25  7.0   4  0.0   0  15.55  21.33\n",
      "3  0.98  514.5  294.0  110.25  7.0   5  0.0   0  15.55  21.33\n",
      "4  0.90  563.5  318.5  122.50  7.0   2  0.0   0  20.84  28.28\n"
     ]
    }
   ],
   "source": [
    "X,Y = energyefficiencyDataset.energy_data()"
   ]
  },
  {
   "cell_type": "code",
   "execution_count": 7,
   "id": "fe007438",
   "metadata": {
    "execution": {
     "iopub.execute_input": "2022-07-25T03:15:00.978784Z",
     "iopub.status.busy": "2022-07-25T03:15:00.978370Z",
     "iopub.status.idle": "2022-07-25T03:15:00.985101Z",
     "shell.execute_reply": "2022-07-25T03:15:00.984161Z"
    },
    "id": "fe007438",
    "papermill": {
     "duration": 0.018671,
     "end_time": "2022-07-25T03:15:00.987691",
     "exception": false,
     "start_time": "2022-07-25T03:15:00.969020",
     "status": "completed"
    },
    "tags": []
   },
   "outputs": [],
   "source": [
    "#Train test split for dataset \n",
    "X_train,X_test,Y_train,Y_test = train_test_split(X,Y,test_size = 0.2)\n",
    "train_data = dataset.CustomDataset(X_train,Y_train)\n",
    "test_data = dataset.CustomDataset(X_test,Y_test)\n"
   ]
  },
  {
   "cell_type": "markdown",
   "id": "a9a1af34",
   "metadata": {
    "id": "a9a1af34",
    "papermill": {
     "duration": 0.009467,
     "end_time": "2022-07-25T03:15:01.004828",
     "exception": false,
     "start_time": "2022-07-25T03:15:00.995361",
     "status": "completed"
    },
    "tags": []
   },
   "source": [
    "## Training Parameters "
   ]
  },
  {
   "cell_type": "code",
   "execution_count": 8,
   "id": "952b7fc8",
   "metadata": {
    "execution": {
     "iopub.execute_input": "2022-07-25T03:15:01.025851Z",
     "iopub.status.busy": "2022-07-25T03:15:01.025423Z",
     "iopub.status.idle": "2022-07-25T03:15:01.030448Z",
     "shell.execute_reply": "2022-07-25T03:15:01.029240Z"
    },
    "id": "952b7fc8",
    "papermill": {
     "duration": 0.019219,
     "end_time": "2022-07-25T03:15:01.033210",
     "exception": false,
     "start_time": "2022-07-25T03:15:01.013991",
     "status": "completed"
    },
    "tags": []
   },
   "outputs": [],
   "source": [
    "batch_size = 32\n",
    "n_epochs = 1000\n",
    "#Select the device \n",
    "device = torch.device('cuda' if torch.cuda.is_available() else 'cpu')"
   ]
  },
  {
   "cell_type": "markdown",
   "id": "a95e1600",
   "metadata": {
    "id": "a95e1600",
    "papermill": {
     "duration": 0.007778,
     "end_time": "2022-07-25T03:15:01.048769",
     "exception": false,
     "start_time": "2022-07-25T03:15:01.040991",
     "status": "completed"
    },
    "tags": []
   },
   "source": [
    "# ABC Pre-generator Model \n",
    "\n",
    "1. The catboost model is used as a pre-generator model for the ABC-GAN. \n",
    "2. The model is first trained on the entire dataset \n",
    "3. It generats X,Y pairs and we add some Gaussian noise with mean 0 and variance 1 to it which is then feed as input to the generator.\n"
   ]
  },
  {
   "cell_type": "code",
   "execution_count": 9,
   "id": "ff8ce7bd",
   "metadata": {
    "execution": {
     "iopub.execute_input": "2022-07-25T03:15:01.066598Z",
     "iopub.status.busy": "2022-07-25T03:15:01.066212Z",
     "iopub.status.idle": "2022-07-25T03:15:02.099988Z",
     "shell.execute_reply": "2022-07-25T03:15:02.099249Z"
    },
    "id": "ff8ce7bd",
    "papermill": {
     "duration": 1.04603,
     "end_time": "2022-07-25T03:15:02.102748",
     "exception": false,
     "start_time": "2022-07-25T03:15:01.056718",
     "status": "completed"
    },
    "tags": []
   },
   "outputs": [
    {
     "name": "stdout",
     "output_type": "stream",
     "text": [
      "Learning rate set to 0.037906\n",
      "0:\tlearn: 0.9700971\ttotal: 61.7ms\tremaining: 1m 1s\n",
      "1:\tlearn: 0.9378667\ttotal: 61.9ms\tremaining: 30.9s\n",
      "2:\tlearn: 0.9108325\ttotal: 62ms\tremaining: 20.6s\n",
      "3:\tlearn: 0.8804417\ttotal: 62.3ms\tremaining: 15.5s\n",
      "4:\tlearn: 0.8558971\ttotal: 62.4ms\tremaining: 12.4s\n",
      "5:\tlearn: 0.8282053\ttotal: 62.6ms\tremaining: 10.4s\n",
      "6:\tlearn: 0.8022854\ttotal: 62.8ms\tremaining: 8.91s\n",
      "7:\tlearn: 0.7764854\ttotal: 63.1ms\tremaining: 7.82s\n",
      "8:\tlearn: 0.7507069\ttotal: 63.3ms\tremaining: 6.97s\n",
      "9:\tlearn: 0.7272747\ttotal: 63.6ms\tremaining: 6.29s\n",
      "10:\tlearn: 0.7038099\ttotal: 63.7ms\tremaining: 5.73s\n"
     ]
    },
    {
     "name": "stdout",
     "output_type": "stream",
     "text": [
      "11:\tlearn: 0.6819137\ttotal: 66.3ms\tremaining: 5.46s\n",
      "12:\tlearn: 0.6606218\ttotal: 67.7ms\tremaining: 5.14s\n",
      "13:\tlearn: 0.6405484\ttotal: 68.2ms\tremaining: 4.8s\n",
      "14:\tlearn: 0.6201682\ttotal: 68.7ms\tremaining: 4.51s\n",
      "15:\tlearn: 0.6022688\ttotal: 69.4ms\tremaining: 4.27s\n",
      "16:\tlearn: 0.5839241\ttotal: 70ms\tremaining: 4.05s\n",
      "17:\tlearn: 0.5658481\ttotal: 70.4ms\tremaining: 3.84s\n",
      "18:\tlearn: 0.5487959\ttotal: 70.7ms\tremaining: 3.65s\n",
      "19:\tlearn: 0.5336222\ttotal: 71.1ms\tremaining: 3.48s\n",
      "20:\tlearn: 0.5211311\ttotal: 71.3ms\tremaining: 3.33s\n",
      "21:\tlearn: 0.5062603\ttotal: 71.7ms\tremaining: 3.19s\n",
      "22:\tlearn: 0.4927297\ttotal: 72.1ms\tremaining: 3.06s\n",
      "23:\tlearn: 0.4777058\ttotal: 72.7ms\tremaining: 2.96s\n",
      "24:\tlearn: 0.4654044\ttotal: 73.3ms\tremaining: 2.86s\n",
      "25:\tlearn: 0.4524995\ttotal: 73.8ms\tremaining: 2.76s\n",
      "26:\tlearn: 0.4398824\ttotal: 74.3ms\tremaining: 2.68s\n",
      "27:\tlearn: 0.4282525\ttotal: 74.8ms\tremaining: 2.6s\n",
      "28:\tlearn: 0.4147192\ttotal: 75.5ms\tremaining: 2.53s\n",
      "29:\tlearn: 0.4021306\ttotal: 76ms\tremaining: 2.46s\n",
      "30:\tlearn: 0.3908766\ttotal: 76.4ms\tremaining: 2.39s\n",
      "31:\tlearn: 0.3797058\ttotal: 76.6ms\tremaining: 2.32s\n",
      "32:\tlearn: 0.3678657\ttotal: 77.1ms\tremaining: 2.26s\n",
      "33:\tlearn: 0.3575952\ttotal: 77.4ms\tremaining: 2.2s\n",
      "34:\tlearn: 0.3472478\ttotal: 77.8ms\tremaining: 2.15s\n",
      "35:\tlearn: 0.3372251\ttotal: 78.3ms\tremaining: 2.1s\n",
      "36:\tlearn: 0.3276288\ttotal: 78.5ms\tremaining: 2.04s\n",
      "37:\tlearn: 0.3184429\ttotal: 78.9ms\tremaining: 2s\n",
      "38:\tlearn: 0.3113635\ttotal: 79.3ms\tremaining: 1.95s\n",
      "39:\tlearn: 0.3036994\ttotal: 79.5ms\tremaining: 1.91s\n",
      "40:\tlearn: 0.2944567\ttotal: 80.1ms\tremaining: 1.87s\n",
      "41:\tlearn: 0.2873104\ttotal: 80.7ms\tremaining: 1.84s\n",
      "42:\tlearn: 0.2807834\ttotal: 81ms\tremaining: 1.8s\n",
      "43:\tlearn: 0.2736491\ttotal: 81.7ms\tremaining: 1.77s\n",
      "44:\tlearn: 0.2672821\ttotal: 82ms\tremaining: 1.74s\n",
      "45:\tlearn: 0.2599023\ttotal: 82.5ms\tremaining: 1.71s\n",
      "46:\tlearn: 0.2541730\ttotal: 82.9ms\tremaining: 1.68s\n",
      "47:\tlearn: 0.2477149\ttotal: 83.2ms\tremaining: 1.65s\n",
      "48:\tlearn: 0.2429081\ttotal: 83.6ms\tremaining: 1.62s\n",
      "49:\tlearn: 0.2370552\ttotal: 83.9ms\tremaining: 1.59s\n",
      "50:\tlearn: 0.2302064\ttotal: 84.3ms\tremaining: 1.57s\n",
      "51:\tlearn: 0.2236702\ttotal: 84.7ms\tremaining: 1.54s\n",
      "52:\tlearn: 0.2180686\ttotal: 85.1ms\tremaining: 1.52s\n",
      "53:\tlearn: 0.2125575\ttotal: 86.2ms\tremaining: 1.51s\n",
      "54:\tlearn: 0.2071212\ttotal: 86.7ms\tremaining: 1.49s\n",
      "55:\tlearn: 0.2014127\ttotal: 88ms\tremaining: 1.48s\n",
      "56:\tlearn: 0.1968755\ttotal: 89.4ms\tremaining: 1.48s\n",
      "57:\tlearn: 0.1915399\ttotal: 90ms\tremaining: 1.46s\n",
      "58:\tlearn: 0.1869234\ttotal: 91.1ms\tremaining: 1.45s\n",
      "59:\tlearn: 0.1829942\ttotal: 91.9ms\tremaining: 1.44s\n",
      "60:\tlearn: 0.1782087\ttotal: 92.5ms\tremaining: 1.42s\n",
      "61:\tlearn: 0.1736175\ttotal: 93.5ms\tremaining: 1.42s\n",
      "62:\tlearn: 0.1690780\ttotal: 94.2ms\tremaining: 1.4s\n",
      "63:\tlearn: 0.1664063\ttotal: 94.5ms\tremaining: 1.38s\n",
      "64:\tlearn: 0.1622698\ttotal: 95ms\tremaining: 1.36s\n",
      "65:\tlearn: 0.1587283\ttotal: 95.3ms\tremaining: 1.35s\n",
      "66:\tlearn: 0.1548768\ttotal: 95.7ms\tremaining: 1.33s\n",
      "67:\tlearn: 0.1511811\ttotal: 96.1ms\tremaining: 1.32s\n",
      "68:\tlearn: 0.1476517\ttotal: 96.6ms\tremaining: 1.3s\n",
      "69:\tlearn: 0.1438573\ttotal: 97.1ms\tremaining: 1.29s\n",
      "70:\tlearn: 0.1404777\ttotal: 97.7ms\tremaining: 1.28s\n",
      "71:\tlearn: 0.1382770\ttotal: 97.9ms\tremaining: 1.26s\n",
      "72:\tlearn: 0.1358125\ttotal: 98.5ms\tremaining: 1.25s\n",
      "73:\tlearn: 0.1329945\ttotal: 98.8ms\tremaining: 1.24s\n",
      "74:\tlearn: 0.1296859\ttotal: 99.4ms\tremaining: 1.23s\n",
      "75:\tlearn: 0.1275383\ttotal: 100ms\tremaining: 1.22s\n",
      "76:\tlearn: 0.1248713\ttotal: 100ms\tremaining: 1.2s\n",
      "77:\tlearn: 0.1217830\ttotal: 101ms\tremaining: 1.19s\n",
      "78:\tlearn: 0.1191862\ttotal: 101ms\tremaining: 1.18s\n",
      "79:\tlearn: 0.1176712\ttotal: 102ms\tremaining: 1.17s\n",
      "80:\tlearn: 0.1152322\ttotal: 103ms\tremaining: 1.16s\n",
      "81:\tlearn: 0.1126888\ttotal: 103ms\tremaining: 1.15s\n",
      "82:\tlearn: 0.1104687\ttotal: 103ms\tremaining: 1.14s\n",
      "83:\tlearn: 0.1080294\ttotal: 104ms\tremaining: 1.13s\n",
      "84:\tlearn: 0.1063409\ttotal: 104ms\tremaining: 1.12s\n",
      "85:\tlearn: 0.1043690\ttotal: 105ms\tremaining: 1.11s\n",
      "86:\tlearn: 0.1026109\ttotal: 105ms\tremaining: 1.1s\n",
      "87:\tlearn: 0.1007245\ttotal: 105ms\tremaining: 1.09s\n",
      "88:\tlearn: 0.0991871\ttotal: 106ms\tremaining: 1.08s\n",
      "89:\tlearn: 0.0978400\ttotal: 106ms\tremaining: 1.07s\n",
      "90:\tlearn: 0.0960805\ttotal: 106ms\tremaining: 1.06s\n",
      "91:\tlearn: 0.0948405\ttotal: 107ms\tremaining: 1.06s\n",
      "92:\tlearn: 0.0930883\ttotal: 108ms\tremaining: 1.05s\n",
      "93:\tlearn: 0.0913217\ttotal: 108ms\tremaining: 1.04s\n",
      "94:\tlearn: 0.0902112\ttotal: 109ms\tremaining: 1.03s\n",
      "95:\tlearn: 0.0884213\ttotal: 109ms\tremaining: 1.03s\n",
      "96:\tlearn: 0.0874626\ttotal: 109ms\tremaining: 1.02s\n",
      "97:\tlearn: 0.0862013\ttotal: 110ms\tremaining: 1.01s\n",
      "98:\tlearn: 0.0844877\ttotal: 111ms\tremaining: 1.01s\n",
      "99:\tlearn: 0.0836911\ttotal: 111ms\tremaining: 1000ms\n",
      "100:\tlearn: 0.0820576\ttotal: 111ms\tremaining: 992ms\n",
      "101:\tlearn: 0.0812293\ttotal: 112ms\tremaining: 985ms\n",
      "102:\tlearn: 0.0800154\ttotal: 112ms\tremaining: 979ms\n",
      "103:\tlearn: 0.0786810\ttotal: 113ms\tremaining: 973ms\n",
      "104:\tlearn: 0.0776934\ttotal: 113ms\tremaining: 967ms\n",
      "105:\tlearn: 0.0770180\ttotal: 114ms\tremaining: 959ms\n",
      "106:\tlearn: 0.0755047\ttotal: 114ms\tremaining: 952ms\n",
      "107:\tlearn: 0.0742773\ttotal: 114ms\tremaining: 945ms\n",
      "108:\tlearn: 0.0730955\ttotal: 115ms\tremaining: 940ms\n",
      "109:\tlearn: 0.0718714\ttotal: 115ms\tremaining: 934ms\n",
      "110:\tlearn: 0.0708764\ttotal: 116ms\tremaining: 928ms\n",
      "111:\tlearn: 0.0702130\ttotal: 116ms\tremaining: 921ms\n",
      "112:\tlearn: 0.0693803\ttotal: 117ms\tremaining: 919ms\n",
      "113:\tlearn: 0.0683236\ttotal: 118ms\tremaining: 914ms\n",
      "114:\tlearn: 0.0673354\ttotal: 118ms\tremaining: 909ms\n",
      "115:\tlearn: 0.0664840\ttotal: 119ms\tremaining: 905ms\n",
      "116:\tlearn: 0.0655601\ttotal: 119ms\tremaining: 899ms\n",
      "117:\tlearn: 0.0649707\ttotal: 119ms\tremaining: 893ms\n",
      "118:\tlearn: 0.0647515\ttotal: 120ms\tremaining: 887ms\n",
      "119:\tlearn: 0.0637744\ttotal: 120ms\tremaining: 883ms\n",
      "120:\tlearn: 0.0630269\ttotal: 121ms\tremaining: 878ms\n",
      "121:\tlearn: 0.0625144\ttotal: 121ms\tremaining: 874ms\n",
      "122:\tlearn: 0.0618470\ttotal: 122ms\tremaining: 870ms\n",
      "123:\tlearn: 0.0610002\ttotal: 122ms\tremaining: 864ms\n",
      "124:\tlearn: 0.0605769\ttotal: 123ms\tremaining: 859ms\n",
      "125:\tlearn: 0.0599962\ttotal: 123ms\tremaining: 854ms\n",
      "126:\tlearn: 0.0592949\ttotal: 124ms\tremaining: 850ms\n",
      "127:\tlearn: 0.0586665\ttotal: 124ms\tremaining: 845ms\n",
      "128:\tlearn: 0.0583812\ttotal: 124ms\tremaining: 840ms\n",
      "129:\tlearn: 0.0577652\ttotal: 125ms\tremaining: 835ms\n",
      "130:\tlearn: 0.0571673\ttotal: 125ms\tremaining: 831ms\n",
      "131:\tlearn: 0.0565090\ttotal: 126ms\tremaining: 827ms\n",
      "132:\tlearn: 0.0563378\ttotal: 126ms\tremaining: 821ms\n",
      "133:\tlearn: 0.0559241\ttotal: 126ms\tremaining: 817ms\n",
      "134:\tlearn: 0.0555485\ttotal: 127ms\tremaining: 812ms\n",
      "135:\tlearn: 0.0551227\ttotal: 127ms\tremaining: 808ms\n",
      "136:\tlearn: 0.0546461\ttotal: 128ms\tremaining: 805ms\n",
      "137:\tlearn: 0.0542735\ttotal: 128ms\tremaining: 801ms\n",
      "138:\tlearn: 0.0538573\ttotal: 129ms\tremaining: 797ms\n",
      "139:\tlearn: 0.0534852\ttotal: 129ms\tremaining: 792ms\n",
      "140:\tlearn: 0.0530489\ttotal: 129ms\tremaining: 788ms\n",
      "141:\tlearn: 0.0527243\ttotal: 130ms\tremaining: 785ms\n",
      "142:\tlearn: 0.0524726\ttotal: 130ms\tremaining: 780ms\n",
      "143:\tlearn: 0.0522272\ttotal: 131ms\tremaining: 777ms\n",
      "144:\tlearn: 0.0518477\ttotal: 131ms\tremaining: 774ms\n",
      "145:\tlearn: 0.0516142\ttotal: 132ms\tremaining: 771ms\n",
      "146:\tlearn: 0.0513530\ttotal: 132ms\tremaining: 767ms\n",
      "147:\tlearn: 0.0509656\ttotal: 133ms\tremaining: 763ms\n",
      "148:\tlearn: 0.0506971\ttotal: 133ms\tremaining: 760ms\n",
      "149:\tlearn: 0.0504498\ttotal: 133ms\tremaining: 756ms\n",
      "150:\tlearn: 0.0502303\ttotal: 134ms\tremaining: 753ms\n",
      "151:\tlearn: 0.0499176\ttotal: 134ms\tremaining: 750ms\n",
      "152:\tlearn: 0.0496562\ttotal: 135ms\tremaining: 747ms\n",
      "153:\tlearn: 0.0493324\ttotal: 135ms\tremaining: 743ms\n",
      "154:\tlearn: 0.0490625\ttotal: 136ms\tremaining: 740ms\n",
      "155:\tlearn: 0.0487651\ttotal: 136ms\tremaining: 737ms\n",
      "156:\tlearn: 0.0485330\ttotal: 137ms\tremaining: 734ms\n",
      "157:\tlearn: 0.0482629\ttotal: 137ms\tremaining: 731ms\n",
      "158:\tlearn: 0.0480564\ttotal: 138ms\tremaining: 728ms\n",
      "159:\tlearn: 0.0478788\ttotal: 138ms\tremaining: 725ms\n",
      "160:\tlearn: 0.0476344\ttotal: 139ms\tremaining: 722ms\n",
      "161:\tlearn: 0.0473744\ttotal: 139ms\tremaining: 719ms\n",
      "162:\tlearn: 0.0472633\ttotal: 140ms\tremaining: 716ms\n",
      "163:\tlearn: 0.0470344\ttotal: 140ms\tremaining: 713ms\n",
      "164:\tlearn: 0.0468148\ttotal: 140ms\tremaining: 710ms\n",
      "165:\tlearn: 0.0466776\ttotal: 141ms\tremaining: 707ms\n",
      "166:\tlearn: 0.0465329\ttotal: 141ms\tremaining: 705ms\n",
      "167:\tlearn: 0.0463183\ttotal: 142ms\tremaining: 701ms\n",
      "168:\tlearn: 0.0460296\ttotal: 142ms\tremaining: 699ms\n",
      "169:\tlearn: 0.0457767\ttotal: 143ms\tremaining: 696ms\n",
      "170:\tlearn: 0.0455671\ttotal: 143ms\tremaining: 693ms\n",
      "171:\tlearn: 0.0453611\ttotal: 144ms\tremaining: 691ms\n",
      "172:\tlearn: 0.0452034\ttotal: 144ms\tremaining: 689ms\n",
      "173:\tlearn: 0.0450127\ttotal: 144ms\tremaining: 686ms\n",
      "174:\tlearn: 0.0448882\ttotal: 145ms\tremaining: 683ms\n",
      "175:\tlearn: 0.0446619\ttotal: 146ms\tremaining: 682ms\n",
      "176:\tlearn: 0.0445268\ttotal: 146ms\tremaining: 679ms\n",
      "177:\tlearn: 0.0443645\ttotal: 147ms\tremaining: 677ms\n",
      "178:\tlearn: 0.0441798\ttotal: 147ms\tremaining: 674ms\n",
      "179:\tlearn: 0.0440336\ttotal: 147ms\tremaining: 671ms\n",
      "180:\tlearn: 0.0438442\ttotal: 148ms\tremaining: 669ms\n",
      "181:\tlearn: 0.0436806\ttotal: 148ms\tremaining: 666ms\n",
      "182:\tlearn: 0.0435892\ttotal: 149ms\tremaining: 664ms\n",
      "183:\tlearn: 0.0434462\ttotal: 149ms\tremaining: 661ms\n",
      "184:\tlearn: 0.0432987\ttotal: 149ms\tremaining: 658ms\n",
      "185:\tlearn: 0.0431857\ttotal: 150ms\tremaining: 655ms\n",
      "186:\tlearn: 0.0430638\ttotal: 150ms\tremaining: 653ms\n",
      "187:\tlearn: 0.0429581\ttotal: 151ms\tremaining: 650ms\n",
      "188:\tlearn: 0.0428130\ttotal: 151ms\tremaining: 648ms\n",
      "189:\tlearn: 0.0426623\ttotal: 151ms\tremaining: 646ms\n",
      "190:\tlearn: 0.0425153\ttotal: 152ms\tremaining: 643ms\n"
     ]
    },
    {
     "name": "stdout",
     "output_type": "stream",
     "text": [
      "191:\tlearn: 0.0423634\ttotal: 153ms\tremaining: 644ms\n",
      "192:\tlearn: 0.0420979\ttotal: 155ms\tremaining: 647ms\n",
      "193:\tlearn: 0.0420136\ttotal: 155ms\tremaining: 645ms\n",
      "194:\tlearn: 0.0418896\ttotal: 155ms\tremaining: 642ms\n",
      "195:\tlearn: 0.0417791\ttotal: 156ms\tremaining: 639ms\n",
      "196:\tlearn: 0.0416106\ttotal: 156ms\tremaining: 636ms\n",
      "197:\tlearn: 0.0414786\ttotal: 157ms\tremaining: 634ms\n",
      "198:\tlearn: 0.0413744\ttotal: 157ms\tremaining: 633ms\n",
      "199:\tlearn: 0.0412930\ttotal: 158ms\tremaining: 631ms\n",
      "200:\tlearn: 0.0411358\ttotal: 158ms\tremaining: 629ms\n",
      "201:\tlearn: 0.0408902\ttotal: 159ms\tremaining: 627ms\n",
      "202:\tlearn: 0.0407562\ttotal: 159ms\tremaining: 626ms\n",
      "203:\tlearn: 0.0405103\ttotal: 160ms\tremaining: 624ms\n",
      "204:\tlearn: 0.0403892\ttotal: 160ms\tremaining: 622ms\n",
      "205:\tlearn: 0.0401378\ttotal: 161ms\tremaining: 620ms\n",
      "206:\tlearn: 0.0398799\ttotal: 161ms\tremaining: 619ms\n",
      "207:\tlearn: 0.0397333\ttotal: 162ms\tremaining: 618ms\n",
      "208:\tlearn: 0.0396011\ttotal: 163ms\tremaining: 616ms\n",
      "209:\tlearn: 0.0394903\ttotal: 163ms\tremaining: 614ms\n",
      "210:\tlearn: 0.0393665\ttotal: 164ms\tremaining: 612ms\n",
      "211:\tlearn: 0.0392600\ttotal: 164ms\tremaining: 611ms\n",
      "212:\tlearn: 0.0390325\ttotal: 165ms\tremaining: 609ms\n",
      "213:\tlearn: 0.0389291\ttotal: 165ms\tremaining: 607ms\n",
      "214:\tlearn: 0.0388427\ttotal: 166ms\tremaining: 605ms\n",
      "215:\tlearn: 0.0387344\ttotal: 167ms\tremaining: 605ms\n",
      "216:\tlearn: 0.0386573\ttotal: 167ms\tremaining: 603ms\n",
      "217:\tlearn: 0.0385714\ttotal: 168ms\tremaining: 601ms\n",
      "218:\tlearn: 0.0384994\ttotal: 169ms\tremaining: 602ms\n",
      "219:\tlearn: 0.0384039\ttotal: 169ms\tremaining: 600ms\n",
      "220:\tlearn: 0.0382834\ttotal: 170ms\tremaining: 598ms\n",
      "221:\tlearn: 0.0382208\ttotal: 170ms\tremaining: 596ms\n",
      "222:\tlearn: 0.0379932\ttotal: 171ms\tremaining: 595ms\n",
      "223:\tlearn: 0.0379060\ttotal: 171ms\tremaining: 593ms\n",
      "224:\tlearn: 0.0378042\ttotal: 172ms\tremaining: 591ms\n",
      "225:\tlearn: 0.0377403\ttotal: 172ms\tremaining: 590ms\n",
      "226:\tlearn: 0.0375263\ttotal: 173ms\tremaining: 588ms\n",
      "227:\tlearn: 0.0374066\ttotal: 173ms\tremaining: 587ms\n",
      "228:\tlearn: 0.0372753\ttotal: 174ms\tremaining: 585ms\n",
      "229:\tlearn: 0.0370799\ttotal: 174ms\tremaining: 583ms\n",
      "230:\tlearn: 0.0369841\ttotal: 175ms\tremaining: 582ms\n",
      "231:\tlearn: 0.0368344\ttotal: 175ms\tremaining: 580ms\n",
      "232:\tlearn: 0.0366546\ttotal: 176ms\tremaining: 578ms\n",
      "233:\tlearn: 0.0365492\ttotal: 176ms\tremaining: 577ms\n",
      "234:\tlearn: 0.0364552\ttotal: 176ms\tremaining: 575ms\n",
      "235:\tlearn: 0.0363963\ttotal: 177ms\tremaining: 573ms\n",
      "236:\tlearn: 0.0362820\ttotal: 177ms\tremaining: 571ms\n",
      "237:\tlearn: 0.0362270\ttotal: 178ms\tremaining: 570ms\n",
      "238:\tlearn: 0.0360254\ttotal: 179ms\tremaining: 568ms\n",
      "239:\tlearn: 0.0359546\ttotal: 179ms\tremaining: 567ms\n",
      "240:\tlearn: 0.0358590\ttotal: 180ms\tremaining: 565ms\n",
      "241:\tlearn: 0.0357170\ttotal: 180ms\tremaining: 564ms\n",
      "242:\tlearn: 0.0356149\ttotal: 181ms\tremaining: 563ms\n",
      "243:\tlearn: 0.0354581\ttotal: 181ms\tremaining: 561ms\n",
      "244:\tlearn: 0.0353780\ttotal: 182ms\tremaining: 560ms\n",
      "245:\tlearn: 0.0352286\ttotal: 182ms\tremaining: 558ms\n",
      "246:\tlearn: 0.0351362\ttotal: 183ms\tremaining: 557ms\n",
      "247:\tlearn: 0.0350460\ttotal: 183ms\tremaining: 555ms\n",
      "248:\tlearn: 0.0349085\ttotal: 184ms\tremaining: 554ms\n",
      "249:\tlearn: 0.0347176\ttotal: 184ms\tremaining: 552ms\n",
      "250:\tlearn: 0.0346462\ttotal: 184ms\tremaining: 551ms\n",
      "251:\tlearn: 0.0345764\ttotal: 185ms\tremaining: 549ms\n",
      "252:\tlearn: 0.0345122\ttotal: 185ms\tremaining: 548ms\n",
      "253:\tlearn: 0.0344467\ttotal: 186ms\tremaining: 546ms\n",
      "254:\tlearn: 0.0343575\ttotal: 187ms\tremaining: 545ms\n",
      "255:\tlearn: 0.0342684\ttotal: 187ms\tremaining: 544ms\n",
      "256:\tlearn: 0.0341629\ttotal: 188ms\tremaining: 542ms\n",
      "257:\tlearn: 0.0341018\ttotal: 188ms\tremaining: 541ms\n",
      "258:\tlearn: 0.0340438\ttotal: 189ms\tremaining: 540ms\n",
      "259:\tlearn: 0.0339887\ttotal: 189ms\tremaining: 539ms\n",
      "260:\tlearn: 0.0338708\ttotal: 190ms\tremaining: 538ms\n",
      "261:\tlearn: 0.0338267\ttotal: 190ms\tremaining: 536ms\n",
      "262:\tlearn: 0.0337496\ttotal: 191ms\tremaining: 535ms\n",
      "263:\tlearn: 0.0336643\ttotal: 191ms\tremaining: 534ms\n",
      "264:\tlearn: 0.0336275\ttotal: 192ms\tremaining: 532ms\n",
      "265:\tlearn: 0.0335581\ttotal: 192ms\tremaining: 531ms\n",
      "266:\tlearn: 0.0334178\ttotal: 193ms\tremaining: 530ms\n",
      "267:\tlearn: 0.0332992\ttotal: 193ms\tremaining: 528ms\n",
      "268:\tlearn: 0.0331341\ttotal: 194ms\tremaining: 527ms\n",
      "269:\tlearn: 0.0330591\ttotal: 195ms\tremaining: 526ms\n",
      "270:\tlearn: 0.0329830\ttotal: 195ms\tremaining: 525ms\n",
      "271:\tlearn: 0.0329043\ttotal: 196ms\tremaining: 524ms\n",
      "272:\tlearn: 0.0328360\ttotal: 196ms\tremaining: 523ms\n",
      "273:\tlearn: 0.0326732\ttotal: 197ms\tremaining: 522ms\n",
      "274:\tlearn: 0.0325911\ttotal: 197ms\tremaining: 520ms\n",
      "275:\tlearn: 0.0325312\ttotal: 198ms\tremaining: 519ms\n",
      "276:\tlearn: 0.0324453\ttotal: 198ms\tremaining: 518ms\n",
      "277:\tlearn: 0.0322943\ttotal: 199ms\tremaining: 516ms\n",
      "278:\tlearn: 0.0322578\ttotal: 199ms\tremaining: 515ms\n",
      "279:\tlearn: 0.0321746\ttotal: 200ms\tremaining: 514ms\n",
      "280:\tlearn: 0.0321051\ttotal: 200ms\tremaining: 512ms\n",
      "281:\tlearn: 0.0320585\ttotal: 201ms\tremaining: 511ms\n",
      "282:\tlearn: 0.0319135\ttotal: 201ms\tremaining: 510ms\n",
      "283:\tlearn: 0.0318168\ttotal: 202ms\tremaining: 509ms\n",
      "284:\tlearn: 0.0317641\ttotal: 202ms\tremaining: 508ms\n",
      "285:\tlearn: 0.0316277\ttotal: 203ms\tremaining: 507ms\n",
      "286:\tlearn: 0.0315462\ttotal: 203ms\tremaining: 505ms\n",
      "287:\tlearn: 0.0314653\ttotal: 204ms\tremaining: 504ms\n",
      "288:\tlearn: 0.0314068\ttotal: 204ms\tremaining: 503ms\n"
     ]
    },
    {
     "name": "stdout",
     "output_type": "stream",
     "text": [
      "289:\tlearn: 0.0313196\ttotal: 206ms\tremaining: 503ms\n",
      "290:\tlearn: 0.0312758\ttotal: 206ms\tremaining: 502ms\n",
      "291:\tlearn: 0.0312057\ttotal: 207ms\tremaining: 501ms\n",
      "292:\tlearn: 0.0311142\ttotal: 208ms\tremaining: 502ms\n",
      "293:\tlearn: 0.0310075\ttotal: 208ms\tremaining: 500ms\n",
      "294:\tlearn: 0.0309574\ttotal: 208ms\tremaining: 498ms\n",
      "295:\tlearn: 0.0308890\ttotal: 209ms\tremaining: 497ms\n",
      "296:\tlearn: 0.0308521\ttotal: 209ms\tremaining: 495ms\n",
      "297:\tlearn: 0.0307642\ttotal: 210ms\tremaining: 494ms\n",
      "298:\tlearn: 0.0307154\ttotal: 210ms\tremaining: 493ms\n",
      "299:\tlearn: 0.0306458\ttotal: 211ms\tremaining: 492ms\n",
      "300:\tlearn: 0.0305546\ttotal: 211ms\tremaining: 491ms\n",
      "301:\tlearn: 0.0305105\ttotal: 212ms\tremaining: 490ms\n",
      "302:\tlearn: 0.0304123\ttotal: 212ms\tremaining: 489ms\n",
      "303:\tlearn: 0.0303442\ttotal: 213ms\tremaining: 487ms\n",
      "304:\tlearn: 0.0302610\ttotal: 213ms\tremaining: 486ms\n",
      "305:\tlearn: 0.0302326\ttotal: 214ms\tremaining: 485ms\n",
      "306:\tlearn: 0.0301931\ttotal: 214ms\tremaining: 484ms\n",
      "307:\tlearn: 0.0301216\ttotal: 215ms\tremaining: 483ms\n",
      "308:\tlearn: 0.0299972\ttotal: 215ms\tremaining: 482ms\n",
      "309:\tlearn: 0.0299129\ttotal: 216ms\tremaining: 481ms\n",
      "310:\tlearn: 0.0298160\ttotal: 216ms\tremaining: 479ms\n",
      "311:\tlearn: 0.0297734\ttotal: 217ms\tremaining: 478ms\n",
      "312:\tlearn: 0.0297132\ttotal: 218ms\tremaining: 478ms\n",
      "313:\tlearn: 0.0296081\ttotal: 218ms\tremaining: 477ms\n",
      "314:\tlearn: 0.0295828\ttotal: 219ms\tremaining: 476ms\n",
      "315:\tlearn: 0.0294901\ttotal: 219ms\tremaining: 474ms\n",
      "316:\tlearn: 0.0294198\ttotal: 220ms\tremaining: 473ms\n",
      "317:\tlearn: 0.0293315\ttotal: 220ms\tremaining: 472ms\n",
      "318:\tlearn: 0.0292504\ttotal: 221ms\tremaining: 471ms\n",
      "319:\tlearn: 0.0292310\ttotal: 221ms\tremaining: 470ms\n",
      "320:\tlearn: 0.0291692\ttotal: 222ms\tremaining: 469ms\n",
      "321:\tlearn: 0.0290971\ttotal: 222ms\tremaining: 468ms\n",
      "322:\tlearn: 0.0290493\ttotal: 223ms\tremaining: 466ms\n",
      "323:\tlearn: 0.0289938\ttotal: 223ms\tremaining: 465ms\n",
      "324:\tlearn: 0.0289556\ttotal: 223ms\tremaining: 464ms\n",
      "325:\tlearn: 0.0288998\ttotal: 224ms\tremaining: 463ms\n",
      "326:\tlearn: 0.0288524\ttotal: 224ms\tremaining: 461ms\n",
      "327:\tlearn: 0.0287443\ttotal: 225ms\tremaining: 460ms\n",
      "328:\tlearn: 0.0286708\ttotal: 225ms\tremaining: 459ms\n",
      "329:\tlearn: 0.0286137\ttotal: 226ms\tremaining: 458ms\n",
      "330:\tlearn: 0.0285492\ttotal: 226ms\tremaining: 457ms\n",
      "331:\tlearn: 0.0285009\ttotal: 227ms\tremaining: 456ms\n",
      "332:\tlearn: 0.0283989\ttotal: 227ms\tremaining: 455ms\n",
      "333:\tlearn: 0.0283610\ttotal: 228ms\tremaining: 454ms\n",
      "334:\tlearn: 0.0282825\ttotal: 228ms\tremaining: 453ms\n",
      "335:\tlearn: 0.0282128\ttotal: 229ms\tremaining: 452ms\n",
      "336:\tlearn: 0.0281429\ttotal: 229ms\tremaining: 451ms\n",
      "337:\tlearn: 0.0280885\ttotal: 230ms\tremaining: 450ms\n",
      "338:\tlearn: 0.0280065\ttotal: 230ms\tremaining: 449ms\n",
      "339:\tlearn: 0.0278981\ttotal: 231ms\tremaining: 448ms\n",
      "340:\tlearn: 0.0278219\ttotal: 231ms\tremaining: 447ms\n",
      "341:\tlearn: 0.0277188\ttotal: 232ms\tremaining: 446ms\n",
      "342:\tlearn: 0.0276736\ttotal: 232ms\tremaining: 445ms\n",
      "343:\tlearn: 0.0275987\ttotal: 233ms\tremaining: 443ms\n",
      "344:\tlearn: 0.0275280\ttotal: 233ms\tremaining: 442ms\n",
      "345:\tlearn: 0.0274613\ttotal: 233ms\tremaining: 441ms\n",
      "346:\tlearn: 0.0274335\ttotal: 234ms\tremaining: 440ms\n",
      "347:\tlearn: 0.0273675\ttotal: 234ms\tremaining: 439ms\n",
      "348:\tlearn: 0.0272947\ttotal: 235ms\tremaining: 438ms\n",
      "349:\tlearn: 0.0272244\ttotal: 236ms\tremaining: 437ms\n",
      "350:\tlearn: 0.0271718\ttotal: 236ms\tremaining: 436ms\n",
      "351:\tlearn: 0.0271052\ttotal: 236ms\tremaining: 435ms\n",
      "352:\tlearn: 0.0270396\ttotal: 237ms\tremaining: 434ms\n",
      "353:\tlearn: 0.0269757\ttotal: 238ms\tremaining: 433ms\n",
      "354:\tlearn: 0.0269419\ttotal: 238ms\tremaining: 432ms\n",
      "355:\tlearn: 0.0268788\ttotal: 238ms\tremaining: 431ms\n",
      "356:\tlearn: 0.0268439\ttotal: 239ms\tremaining: 431ms\n",
      "357:\tlearn: 0.0267616\ttotal: 240ms\tremaining: 430ms\n",
      "358:\tlearn: 0.0267297\ttotal: 240ms\tremaining: 429ms\n",
      "359:\tlearn: 0.0266745\ttotal: 241ms\tremaining: 428ms\n",
      "360:\tlearn: 0.0265825\ttotal: 241ms\tremaining: 427ms\n",
      "361:\tlearn: 0.0265158\ttotal: 242ms\tremaining: 426ms\n",
      "362:\tlearn: 0.0264909\ttotal: 242ms\tremaining: 425ms\n",
      "363:\tlearn: 0.0264422\ttotal: 243ms\tremaining: 424ms\n",
      "364:\tlearn: 0.0263777\ttotal: 243ms\tremaining: 423ms\n",
      "365:\tlearn: 0.0263071\ttotal: 244ms\tremaining: 422ms\n",
      "366:\tlearn: 0.0262512\ttotal: 244ms\tremaining: 421ms\n",
      "367:\tlearn: 0.0261955\ttotal: 245ms\tremaining: 420ms\n",
      "368:\tlearn: 0.0261697\ttotal: 245ms\tremaining: 419ms\n",
      "369:\tlearn: 0.0261157\ttotal: 249ms\tremaining: 424ms\n",
      "370:\tlearn: 0.0260557\ttotal: 250ms\tremaining: 423ms\n",
      "371:\tlearn: 0.0260181\ttotal: 250ms\tremaining: 422ms\n",
      "372:\tlearn: 0.0259628\ttotal: 250ms\tremaining: 420ms\n",
      "373:\tlearn: 0.0259125\ttotal: 250ms\tremaining: 419ms\n",
      "374:\tlearn: 0.0258657\ttotal: 251ms\tremaining: 418ms\n",
      "375:\tlearn: 0.0258264\ttotal: 251ms\tremaining: 417ms\n",
      "376:\tlearn: 0.0257954\ttotal: 251ms\tremaining: 415ms\n",
      "377:\tlearn: 0.0257569\ttotal: 251ms\tremaining: 414ms\n",
      "378:\tlearn: 0.0257042\ttotal: 252ms\tremaining: 413ms\n",
      "379:\tlearn: 0.0256586\ttotal: 252ms\tremaining: 412ms\n",
      "380:\tlearn: 0.0255734\ttotal: 253ms\tremaining: 410ms\n",
      "381:\tlearn: 0.0255330\ttotal: 253ms\tremaining: 409ms\n",
      "382:\tlearn: 0.0255066\ttotal: 253ms\tremaining: 408ms\n",
      "383:\tlearn: 0.0254448\ttotal: 253ms\tremaining: 406ms\n",
      "384:\tlearn: 0.0254210\ttotal: 254ms\tremaining: 406ms\n",
      "385:\tlearn: 0.0253717\ttotal: 254ms\tremaining: 404ms\n",
      "386:\tlearn: 0.0253130\ttotal: 255ms\tremaining: 403ms\n",
      "387:\tlearn: 0.0252826\ttotal: 255ms\tremaining: 402ms\n",
      "388:\tlearn: 0.0252611\ttotal: 255ms\tremaining: 401ms\n",
      "389:\tlearn: 0.0252236\ttotal: 256ms\tremaining: 400ms\n",
      "390:\tlearn: 0.0251736\ttotal: 256ms\tremaining: 399ms\n",
      "391:\tlearn: 0.0251528\ttotal: 257ms\tremaining: 399ms\n",
      "392:\tlearn: 0.0251307\ttotal: 258ms\tremaining: 398ms\n",
      "393:\tlearn: 0.0250952\ttotal: 258ms\tremaining: 397ms\n",
      "394:\tlearn: 0.0250738\ttotal: 259ms\tremaining: 396ms\n",
      "395:\tlearn: 0.0250005\ttotal: 259ms\tremaining: 395ms\n",
      "396:\tlearn: 0.0249425\ttotal: 259ms\tremaining: 394ms\n",
      "397:\tlearn: 0.0248848\ttotal: 260ms\tremaining: 393ms\n",
      "398:\tlearn: 0.0248048\ttotal: 260ms\tremaining: 392ms\n",
      "399:\tlearn: 0.0247600\ttotal: 260ms\tremaining: 391ms\n",
      "400:\tlearn: 0.0247190\ttotal: 261ms\tremaining: 389ms\n",
      "401:\tlearn: 0.0246734\ttotal: 261ms\tremaining: 388ms\n",
      "402:\tlearn: 0.0246313\ttotal: 261ms\tremaining: 387ms\n",
      "403:\tlearn: 0.0245793\ttotal: 262ms\tremaining: 386ms\n",
      "404:\tlearn: 0.0245240\ttotal: 262ms\tremaining: 385ms\n",
      "405:\tlearn: 0.0244999\ttotal: 263ms\tremaining: 385ms\n",
      "406:\tlearn: 0.0244772\ttotal: 263ms\tremaining: 383ms\n",
      "407:\tlearn: 0.0244365\ttotal: 263ms\tremaining: 382ms\n",
      "408:\tlearn: 0.0243780\ttotal: 264ms\tremaining: 381ms\n",
      "409:\tlearn: 0.0243577\ttotal: 265ms\tremaining: 381ms\n",
      "410:\tlearn: 0.0243240\ttotal: 265ms\tremaining: 380ms\n",
      "411:\tlearn: 0.0242510\ttotal: 266ms\tremaining: 379ms\n",
      "412:\tlearn: 0.0242158\ttotal: 266ms\tremaining: 378ms\n",
      "413:\tlearn: 0.0241827\ttotal: 266ms\tremaining: 377ms\n",
      "414:\tlearn: 0.0241535\ttotal: 267ms\tremaining: 376ms\n",
      "415:\tlearn: 0.0241336\ttotal: 267ms\tremaining: 375ms\n",
      "416:\tlearn: 0.0240997\ttotal: 268ms\tremaining: 375ms\n",
      "417:\tlearn: 0.0240664\ttotal: 268ms\tremaining: 374ms\n",
      "418:\tlearn: 0.0240295\ttotal: 269ms\tremaining: 373ms\n",
      "419:\tlearn: 0.0240101\ttotal: 269ms\tremaining: 372ms\n",
      "420:\tlearn: 0.0239802\ttotal: 269ms\tremaining: 370ms\n",
      "421:\tlearn: 0.0239277\ttotal: 270ms\tremaining: 369ms\n",
      "422:\tlearn: 0.0239050\ttotal: 270ms\tremaining: 369ms\n",
      "423:\tlearn: 0.0238627\ttotal: 271ms\tremaining: 368ms\n",
      "424:\tlearn: 0.0238438\ttotal: 271ms\tremaining: 367ms\n",
      "425:\tlearn: 0.0238189\ttotal: 272ms\tremaining: 366ms\n",
      "426:\tlearn: 0.0237844\ttotal: 272ms\tremaining: 365ms\n",
      "427:\tlearn: 0.0237303\ttotal: 273ms\tremaining: 364ms\n",
      "428:\tlearn: 0.0236988\ttotal: 273ms\tremaining: 363ms\n",
      "429:\tlearn: 0.0236296\ttotal: 273ms\tremaining: 363ms\n",
      "430:\tlearn: 0.0236022\ttotal: 274ms\tremaining: 362ms\n",
      "431:\tlearn: 0.0235539\ttotal: 275ms\tremaining: 361ms\n",
      "432:\tlearn: 0.0235223\ttotal: 275ms\tremaining: 360ms\n",
      "433:\tlearn: 0.0234967\ttotal: 276ms\tremaining: 359ms\n",
      "434:\tlearn: 0.0234624\ttotal: 276ms\tremaining: 358ms\n",
      "435:\tlearn: 0.0234301\ttotal: 276ms\tremaining: 357ms\n",
      "436:\tlearn: 0.0233975\ttotal: 277ms\tremaining: 356ms\n",
      "437:\tlearn: 0.0233516\ttotal: 277ms\tremaining: 355ms\n",
      "438:\tlearn: 0.0233340\ttotal: 277ms\tremaining: 354ms\n",
      "439:\tlearn: 0.0233114\ttotal: 277ms\tremaining: 353ms\n",
      "440:\tlearn: 0.0232852\ttotal: 278ms\tremaining: 352ms\n",
      "441:\tlearn: 0.0232617\ttotal: 278ms\tremaining: 351ms\n",
      "442:\tlearn: 0.0232454\ttotal: 279ms\tremaining: 351ms\n",
      "443:\tlearn: 0.0232217\ttotal: 279ms\tremaining: 349ms\n",
      "444:\tlearn: 0.0231639\ttotal: 279ms\tremaining: 349ms\n",
      "445:\tlearn: 0.0231338\ttotal: 280ms\tremaining: 348ms\n",
      "446:\tlearn: 0.0231097\ttotal: 280ms\tremaining: 347ms\n",
      "447:\tlearn: 0.0230839\ttotal: 280ms\tremaining: 345ms\n",
      "448:\tlearn: 0.0230556\ttotal: 281ms\tremaining: 345ms\n",
      "449:\tlearn: 0.0230147\ttotal: 281ms\tremaining: 344ms\n",
      "450:\tlearn: 0.0229595\ttotal: 281ms\tremaining: 343ms\n",
      "451:\tlearn: 0.0229198\ttotal: 282ms\tremaining: 342ms\n",
      "452:\tlearn: 0.0228976\ttotal: 282ms\tremaining: 341ms\n",
      "453:\tlearn: 0.0228738\ttotal: 283ms\tremaining: 340ms\n",
      "454:\tlearn: 0.0228529\ttotal: 283ms\tremaining: 339ms\n",
      "455:\tlearn: 0.0228313\ttotal: 284ms\tremaining: 338ms\n",
      "456:\tlearn: 0.0227926\ttotal: 284ms\tremaining: 338ms\n",
      "457:\tlearn: 0.0227614\ttotal: 284ms\tremaining: 337ms\n",
      "458:\tlearn: 0.0227334\ttotal: 285ms\tremaining: 336ms\n",
      "459:\tlearn: 0.0226724\ttotal: 285ms\tremaining: 335ms\n",
      "460:\tlearn: 0.0226568\ttotal: 286ms\tremaining: 334ms\n",
      "461:\tlearn: 0.0226238\ttotal: 286ms\tremaining: 333ms\n",
      "462:\tlearn: 0.0225926\ttotal: 286ms\tremaining: 332ms\n",
      "463:\tlearn: 0.0225718\ttotal: 287ms\tremaining: 331ms\n",
      "464:\tlearn: 0.0225132\ttotal: 287ms\tremaining: 330ms\n",
      "465:\tlearn: 0.0224737\ttotal: 287ms\tremaining: 329ms\n",
      "466:\tlearn: 0.0224477\ttotal: 287ms\tremaining: 328ms\n",
      "467:\tlearn: 0.0224023\ttotal: 288ms\tremaining: 328ms\n",
      "468:\tlearn: 0.0223736\ttotal: 289ms\tremaining: 327ms\n",
      "469:\tlearn: 0.0223582\ttotal: 289ms\tremaining: 326ms\n",
      "470:\tlearn: 0.0223329\ttotal: 289ms\tremaining: 325ms\n",
      "471:\tlearn: 0.0223117\ttotal: 290ms\tremaining: 324ms\n",
      "472:\tlearn: 0.0222626\ttotal: 290ms\tremaining: 323ms\n",
      "473:\tlearn: 0.0222385\ttotal: 290ms\tremaining: 322ms\n",
      "474:\tlearn: 0.0221885\ttotal: 291ms\tremaining: 321ms\n",
      "475:\tlearn: 0.0221451\ttotal: 291ms\tremaining: 320ms\n",
      "476:\tlearn: 0.0221304\ttotal: 291ms\tremaining: 319ms\n",
      "477:\tlearn: 0.0221088\ttotal: 292ms\tremaining: 318ms\n",
      "478:\tlearn: 0.0220905\ttotal: 292ms\tremaining: 317ms\n",
      "479:\tlearn: 0.0220696\ttotal: 292ms\tremaining: 317ms\n",
      "480:\tlearn: 0.0220111\ttotal: 293ms\tremaining: 316ms\n",
      "481:\tlearn: 0.0219767\ttotal: 293ms\tremaining: 315ms\n",
      "482:\tlearn: 0.0219570\ttotal: 294ms\tremaining: 314ms\n",
      "483:\tlearn: 0.0219466\ttotal: 294ms\tremaining: 314ms\n",
      "484:\tlearn: 0.0219247\ttotal: 295ms\tremaining: 313ms\n",
      "485:\tlearn: 0.0219009\ttotal: 295ms\tremaining: 312ms\n",
      "486:\tlearn: 0.0218737\ttotal: 300ms\tremaining: 316ms\n"
     ]
    },
    {
     "name": "stdout",
     "output_type": "stream",
     "text": [
      "487:\tlearn: 0.0218187\ttotal: 301ms\tremaining: 315ms\n",
      "488:\tlearn: 0.0217852\ttotal: 301ms\tremaining: 315ms\n",
      "489:\tlearn: 0.0217638\ttotal: 302ms\tremaining: 314ms\n",
      "490:\tlearn: 0.0217170\ttotal: 307ms\tremaining: 318ms\n",
      "491:\tlearn: 0.0216977\ttotal: 308ms\tremaining: 318ms\n",
      "492:\tlearn: 0.0216539\ttotal: 309ms\tremaining: 317ms\n",
      "493:\tlearn: 0.0216129\ttotal: 310ms\tremaining: 318ms\n",
      "494:\tlearn: 0.0215905\ttotal: 311ms\tremaining: 317ms\n",
      "495:\tlearn: 0.0215641\ttotal: 311ms\tremaining: 316ms\n",
      "496:\tlearn: 0.0215426\ttotal: 311ms\tremaining: 315ms\n",
      "497:\tlearn: 0.0215036\ttotal: 311ms\tremaining: 314ms\n",
      "498:\tlearn: 0.0214900\ttotal: 312ms\tremaining: 314ms\n",
      "499:\tlearn: 0.0214642\ttotal: 313ms\tremaining: 313ms\n",
      "500:\tlearn: 0.0214308\ttotal: 313ms\tremaining: 312ms\n",
      "501:\tlearn: 0.0213967\ttotal: 313ms\tremaining: 311ms\n",
      "502:\tlearn: 0.0213775\ttotal: 313ms\tremaining: 310ms\n",
      "503:\tlearn: 0.0213528\ttotal: 314ms\tremaining: 309ms\n",
      "504:\tlearn: 0.0213209\ttotal: 314ms\tremaining: 308ms\n",
      "505:\tlearn: 0.0213045\ttotal: 314ms\tremaining: 307ms\n",
      "506:\tlearn: 0.0212907\ttotal: 315ms\tremaining: 306ms\n",
      "507:\tlearn: 0.0212465\ttotal: 315ms\tremaining: 305ms\n",
      "508:\tlearn: 0.0212124\ttotal: 315ms\tremaining: 304ms\n",
      "509:\tlearn: 0.0211613\ttotal: 316ms\tremaining: 303ms\n",
      "510:\tlearn: 0.0211024\ttotal: 316ms\tremaining: 302ms\n",
      "511:\tlearn: 0.0210807\ttotal: 316ms\tremaining: 301ms\n",
      "512:\tlearn: 0.0210649\ttotal: 317ms\tremaining: 301ms\n",
      "513:\tlearn: 0.0210469\ttotal: 318ms\tremaining: 301ms\n",
      "514:\tlearn: 0.0210369\ttotal: 318ms\tremaining: 300ms\n",
      "515:\tlearn: 0.0210237\ttotal: 318ms\tremaining: 299ms\n",
      "516:\tlearn: 0.0209965\ttotal: 319ms\tremaining: 298ms\n",
      "517:\tlearn: 0.0209577\ttotal: 320ms\tremaining: 298ms\n",
      "518:\tlearn: 0.0209266\ttotal: 320ms\tremaining: 297ms\n",
      "519:\tlearn: 0.0208886\ttotal: 320ms\tremaining: 296ms\n",
      "520:\tlearn: 0.0208692\ttotal: 321ms\tremaining: 295ms\n",
      "521:\tlearn: 0.0208318\ttotal: 321ms\tremaining: 294ms\n",
      "522:\tlearn: 0.0207998\ttotal: 321ms\tremaining: 293ms\n",
      "523:\tlearn: 0.0207876\ttotal: 322ms\tremaining: 292ms\n",
      "524:\tlearn: 0.0207355\ttotal: 322ms\tremaining: 292ms\n",
      "525:\tlearn: 0.0207270\ttotal: 322ms\tremaining: 291ms\n",
      "526:\tlearn: 0.0206887\ttotal: 323ms\tremaining: 290ms\n",
      "527:\tlearn: 0.0206748\ttotal: 323ms\tremaining: 289ms\n",
      "528:\tlearn: 0.0206501\ttotal: 324ms\tremaining: 289ms\n",
      "529:\tlearn: 0.0206352\ttotal: 325ms\tremaining: 288ms\n",
      "530:\tlearn: 0.0206226\ttotal: 325ms\tremaining: 287ms\n",
      "531:\tlearn: 0.0205871\ttotal: 325ms\tremaining: 286ms\n",
      "532:\tlearn: 0.0205428\ttotal: 326ms\tremaining: 285ms\n",
      "533:\tlearn: 0.0205152\ttotal: 326ms\tremaining: 284ms\n",
      "534:\tlearn: 0.0204806\ttotal: 326ms\tremaining: 283ms\n",
      "535:\tlearn: 0.0204659\ttotal: 327ms\tremaining: 283ms\n",
      "536:\tlearn: 0.0204185\ttotal: 327ms\tremaining: 282ms\n",
      "537:\tlearn: 0.0203899\ttotal: 328ms\tremaining: 281ms\n",
      "538:\tlearn: 0.0203720\ttotal: 328ms\tremaining: 281ms\n",
      "539:\tlearn: 0.0203537\ttotal: 328ms\tremaining: 280ms\n",
      "540:\tlearn: 0.0203202\ttotal: 329ms\tremaining: 279ms\n",
      "541:\tlearn: 0.0203028\ttotal: 329ms\tremaining: 278ms\n",
      "542:\tlearn: 0.0202756\ttotal: 329ms\tremaining: 277ms\n",
      "543:\tlearn: 0.0202637\ttotal: 329ms\tremaining: 276ms\n",
      "544:\tlearn: 0.0202504\ttotal: 330ms\tremaining: 275ms\n",
      "545:\tlearn: 0.0202303\ttotal: 330ms\tremaining: 274ms\n",
      "546:\tlearn: 0.0202095\ttotal: 330ms\tremaining: 273ms\n",
      "547:\tlearn: 0.0201902\ttotal: 330ms\tremaining: 273ms\n",
      "548:\tlearn: 0.0201744\ttotal: 331ms\tremaining: 272ms\n",
      "549:\tlearn: 0.0201500\ttotal: 331ms\tremaining: 271ms\n",
      "550:\tlearn: 0.0201212\ttotal: 331ms\tremaining: 270ms\n",
      "551:\tlearn: 0.0200949\ttotal: 332ms\tremaining: 269ms\n",
      "552:\tlearn: 0.0200805\ttotal: 332ms\tremaining: 268ms\n",
      "553:\tlearn: 0.0200498\ttotal: 332ms\tremaining: 268ms\n",
      "554:\tlearn: 0.0200349\ttotal: 333ms\tremaining: 267ms\n",
      "555:\tlearn: 0.0200233\ttotal: 333ms\tremaining: 266ms\n",
      "556:\tlearn: 0.0199789\ttotal: 334ms\tremaining: 265ms\n",
      "557:\tlearn: 0.0199710\ttotal: 334ms\tremaining: 265ms\n",
      "558:\tlearn: 0.0199309\ttotal: 336ms\tremaining: 265ms\n",
      "559:\tlearn: 0.0199070\ttotal: 337ms\tremaining: 264ms\n",
      "560:\tlearn: 0.0198909\ttotal: 337ms\tremaining: 264ms\n",
      "561:\tlearn: 0.0198791\ttotal: 338ms\tremaining: 263ms\n",
      "562:\tlearn: 0.0198380\ttotal: 338ms\tremaining: 262ms\n",
      "563:\tlearn: 0.0197960\ttotal: 339ms\tremaining: 262ms\n",
      "564:\tlearn: 0.0197797\ttotal: 339ms\tremaining: 261ms\n",
      "565:\tlearn: 0.0197688\ttotal: 340ms\tremaining: 261ms\n",
      "566:\tlearn: 0.0197333\ttotal: 341ms\tremaining: 261ms\n",
      "567:\tlearn: 0.0197073\ttotal: 342ms\tremaining: 260ms\n",
      "568:\tlearn: 0.0196816\ttotal: 342ms\tremaining: 259ms\n",
      "569:\tlearn: 0.0196469\ttotal: 343ms\tremaining: 259ms\n",
      "570:\tlearn: 0.0196364\ttotal: 346ms\tremaining: 260ms\n",
      "571:\tlearn: 0.0196257\ttotal: 347ms\tremaining: 259ms\n",
      "572:\tlearn: 0.0196140\ttotal: 347ms\tremaining: 259ms\n",
      "573:\tlearn: 0.0195989\ttotal: 348ms\tremaining: 258ms\n",
      "574:\tlearn: 0.0195787\ttotal: 348ms\tremaining: 257ms\n",
      "575:\tlearn: 0.0195645\ttotal: 350ms\tremaining: 257ms\n",
      "576:\tlearn: 0.0195491\ttotal: 350ms\tremaining: 257ms\n",
      "577:\tlearn: 0.0195312\ttotal: 351ms\tremaining: 256ms\n",
      "578:\tlearn: 0.0195198\ttotal: 351ms\tremaining: 255ms\n",
      "579:\tlearn: 0.0194978\ttotal: 352ms\tremaining: 255ms\n",
      "580:\tlearn: 0.0194860\ttotal: 352ms\tremaining: 254ms\n",
      "581:\tlearn: 0.0194751\ttotal: 352ms\tremaining: 253ms\n",
      "582:\tlearn: 0.0194442\ttotal: 353ms\tremaining: 252ms\n",
      "583:\tlearn: 0.0194271\ttotal: 353ms\tremaining: 251ms\n",
      "584:\tlearn: 0.0194108\ttotal: 353ms\tremaining: 251ms\n",
      "585:\tlearn: 0.0193989\ttotal: 354ms\tremaining: 250ms\n",
      "586:\tlearn: 0.0193742\ttotal: 354ms\tremaining: 249ms\n",
      "587:\tlearn: 0.0193431\ttotal: 354ms\tremaining: 248ms\n",
      "588:\tlearn: 0.0193322\ttotal: 355ms\tremaining: 248ms\n",
      "589:\tlearn: 0.0193003\ttotal: 356ms\tremaining: 247ms\n",
      "590:\tlearn: 0.0192879\ttotal: 356ms\tremaining: 246ms\n",
      "591:\tlearn: 0.0192602\ttotal: 356ms\tremaining: 245ms\n",
      "592:\tlearn: 0.0192325\ttotal: 356ms\tremaining: 245ms\n",
      "593:\tlearn: 0.0192220\ttotal: 357ms\tremaining: 244ms\n",
      "594:\tlearn: 0.0191981\ttotal: 357ms\tremaining: 243ms\n",
      "595:\tlearn: 0.0191735\ttotal: 358ms\tremaining: 242ms\n",
      "596:\tlearn: 0.0191348\ttotal: 358ms\tremaining: 242ms\n",
      "597:\tlearn: 0.0191112\ttotal: 358ms\tremaining: 241ms\n",
      "598:\tlearn: 0.0190820\ttotal: 359ms\tremaining: 240ms\n",
      "599:\tlearn: 0.0190462\ttotal: 359ms\tremaining: 239ms\n",
      "600:\tlearn: 0.0190332\ttotal: 359ms\tremaining: 239ms\n",
      "601:\tlearn: 0.0190208\ttotal: 360ms\tremaining: 238ms\n",
      "602:\tlearn: 0.0189953\ttotal: 360ms\tremaining: 237ms\n",
      "603:\tlearn: 0.0189572\ttotal: 360ms\tremaining: 236ms\n",
      "604:\tlearn: 0.0189455\ttotal: 360ms\tremaining: 235ms\n",
      "605:\tlearn: 0.0189203\ttotal: 361ms\tremaining: 235ms\n",
      "606:\tlearn: 0.0188999\ttotal: 362ms\tremaining: 234ms\n",
      "607:\tlearn: 0.0188769\ttotal: 362ms\tremaining: 233ms\n",
      "608:\tlearn: 0.0188709\ttotal: 362ms\tremaining: 233ms\n",
      "609:\tlearn: 0.0188423\ttotal: 363ms\tremaining: 232ms\n",
      "610:\tlearn: 0.0188322\ttotal: 363ms\tremaining: 231ms\n",
      "611:\tlearn: 0.0188223\ttotal: 363ms\tremaining: 230ms\n",
      "612:\tlearn: 0.0187821\ttotal: 364ms\tremaining: 230ms\n",
      "613:\tlearn: 0.0187467\ttotal: 364ms\tremaining: 229ms\n",
      "614:\tlearn: 0.0187281\ttotal: 364ms\tremaining: 228ms\n",
      "615:\tlearn: 0.0186942\ttotal: 365ms\tremaining: 227ms\n",
      "616:\tlearn: 0.0186777\ttotal: 365ms\tremaining: 227ms\n",
      "617:\tlearn: 0.0186549\ttotal: 366ms\tremaining: 226ms\n",
      "618:\tlearn: 0.0186453\ttotal: 366ms\tremaining: 225ms\n",
      "619:\tlearn: 0.0186316\ttotal: 367ms\tremaining: 225ms\n",
      "620:\tlearn: 0.0186122\ttotal: 367ms\tremaining: 224ms\n",
      "621:\tlearn: 0.0185873\ttotal: 368ms\tremaining: 223ms\n",
      "622:\tlearn: 0.0185712\ttotal: 368ms\tremaining: 223ms\n",
      "623:\tlearn: 0.0185527\ttotal: 369ms\tremaining: 222ms\n",
      "624:\tlearn: 0.0185304\ttotal: 369ms\tremaining: 222ms\n",
      "625:\tlearn: 0.0185210\ttotal: 370ms\tremaining: 221ms\n",
      "626:\tlearn: 0.0185073\ttotal: 370ms\tremaining: 220ms\n",
      "627:\tlearn: 0.0184862\ttotal: 372ms\tremaining: 220ms\n",
      "628:\tlearn: 0.0184624\ttotal: 372ms\tremaining: 220ms\n",
      "629:\tlearn: 0.0184454\ttotal: 373ms\tremaining: 219ms\n",
      "630:\tlearn: 0.0184220\ttotal: 373ms\tremaining: 218ms\n",
      "631:\tlearn: 0.0183957\ttotal: 374ms\tremaining: 217ms\n",
      "632:\tlearn: 0.0183757\ttotal: 374ms\tremaining: 217ms\n",
      "633:\tlearn: 0.0183530\ttotal: 375ms\tremaining: 216ms\n",
      "634:\tlearn: 0.0183435\ttotal: 375ms\tremaining: 216ms\n",
      "635:\tlearn: 0.0183298\ttotal: 376ms\tremaining: 215ms\n",
      "636:\tlearn: 0.0183036\ttotal: 377ms\tremaining: 215ms\n",
      "637:\tlearn: 0.0182699\ttotal: 378ms\tremaining: 214ms\n",
      "638:\tlearn: 0.0182568\ttotal: 378ms\tremaining: 214ms\n",
      "639:\tlearn: 0.0182201\ttotal: 378ms\tremaining: 213ms\n",
      "640:\tlearn: 0.0182075\ttotal: 379ms\tremaining: 212ms\n",
      "641:\tlearn: 0.0181854\ttotal: 380ms\tremaining: 212ms\n",
      "642:\tlearn: 0.0181519\ttotal: 380ms\tremaining: 211ms\n",
      "643:\tlearn: 0.0181337\ttotal: 380ms\tremaining: 210ms\n",
      "644:\tlearn: 0.0181223\ttotal: 380ms\tremaining: 209ms\n",
      "645:\tlearn: 0.0181101\ttotal: 381ms\tremaining: 209ms\n",
      "646:\tlearn: 0.0180988\ttotal: 381ms\tremaining: 208ms\n",
      "647:\tlearn: 0.0180677\ttotal: 381ms\tremaining: 207ms\n",
      "648:\tlearn: 0.0180325\ttotal: 383ms\tremaining: 207ms\n",
      "649:\tlearn: 0.0180234\ttotal: 383ms\tremaining: 206ms\n",
      "650:\tlearn: 0.0180048\ttotal: 384ms\tremaining: 206ms\n",
      "651:\tlearn: 0.0179855\ttotal: 384ms\tremaining: 205ms\n",
      "652:\tlearn: 0.0179634\ttotal: 384ms\tremaining: 204ms\n",
      "653:\tlearn: 0.0179527\ttotal: 385ms\tremaining: 203ms\n",
      "654:\tlearn: 0.0179309\ttotal: 385ms\tremaining: 203ms\n",
      "655:\tlearn: 0.0179187\ttotal: 385ms\tremaining: 202ms\n"
     ]
    },
    {
     "name": "stdout",
     "output_type": "stream",
     "text": [
      "656:\tlearn: 0.0178918\ttotal: 387ms\tremaining: 202ms\n",
      "657:\tlearn: 0.0178741\ttotal: 387ms\tremaining: 201ms\n",
      "658:\tlearn: 0.0178628\ttotal: 388ms\tremaining: 201ms\n",
      "659:\tlearn: 0.0178453\ttotal: 388ms\tremaining: 200ms\n",
      "660:\tlearn: 0.0178296\ttotal: 388ms\tremaining: 199ms\n",
      "661:\tlearn: 0.0178196\ttotal: 389ms\tremaining: 198ms\n",
      "662:\tlearn: 0.0178072\ttotal: 389ms\tremaining: 198ms\n",
      "663:\tlearn: 0.0177861\ttotal: 389ms\tremaining: 197ms\n",
      "664:\tlearn: 0.0177787\ttotal: 390ms\tremaining: 196ms\n",
      "665:\tlearn: 0.0177547\ttotal: 390ms\tremaining: 196ms\n",
      "666:\tlearn: 0.0177422\ttotal: 390ms\tremaining: 195ms\n",
      "667:\tlearn: 0.0177213\ttotal: 391ms\tremaining: 194ms\n",
      "668:\tlearn: 0.0176992\ttotal: 391ms\tremaining: 193ms\n",
      "669:\tlearn: 0.0176844\ttotal: 391ms\tremaining: 193ms\n",
      "670:\tlearn: 0.0176735\ttotal: 392ms\tremaining: 192ms\n",
      "671:\tlearn: 0.0176435\ttotal: 392ms\tremaining: 191ms\n",
      "672:\tlearn: 0.0176198\ttotal: 393ms\tremaining: 191ms\n",
      "673:\tlearn: 0.0176043\ttotal: 393ms\tremaining: 190ms\n",
      "674:\tlearn: 0.0175850\ttotal: 394ms\tremaining: 189ms\n",
      "675:\tlearn: 0.0175641\ttotal: 394ms\tremaining: 189ms\n",
      "676:\tlearn: 0.0175521\ttotal: 394ms\tremaining: 188ms\n",
      "677:\tlearn: 0.0175378\ttotal: 394ms\tremaining: 187ms\n",
      "678:\tlearn: 0.0175299\ttotal: 395ms\tremaining: 187ms\n",
      "679:\tlearn: 0.0175101\ttotal: 396ms\tremaining: 186ms\n",
      "680:\tlearn: 0.0174954\ttotal: 396ms\tremaining: 186ms\n",
      "681:\tlearn: 0.0174839\ttotal: 397ms\tremaining: 185ms\n",
      "682:\tlearn: 0.0174559\ttotal: 397ms\tremaining: 184ms\n",
      "683:\tlearn: 0.0174324\ttotal: 397ms\tremaining: 184ms\n",
      "684:\tlearn: 0.0174183\ttotal: 398ms\tremaining: 183ms\n",
      "685:\tlearn: 0.0174069\ttotal: 398ms\tremaining: 182ms\n",
      "686:\tlearn: 0.0173895\ttotal: 398ms\tremaining: 181ms\n",
      "687:\tlearn: 0.0173687\ttotal: 399ms\tremaining: 181ms\n",
      "688:\tlearn: 0.0173535\ttotal: 399ms\tremaining: 180ms\n",
      "689:\tlearn: 0.0173289\ttotal: 399ms\tremaining: 179ms\n",
      "690:\tlearn: 0.0173199\ttotal: 400ms\tremaining: 179ms\n",
      "691:\tlearn: 0.0172942\ttotal: 401ms\tremaining: 178ms\n",
      "692:\tlearn: 0.0172726\ttotal: 402ms\tremaining: 178ms\n",
      "693:\tlearn: 0.0172531\ttotal: 402ms\tremaining: 177ms\n",
      "694:\tlearn: 0.0172341\ttotal: 403ms\tremaining: 177ms\n",
      "695:\tlearn: 0.0172149\ttotal: 403ms\tremaining: 176ms\n",
      "696:\tlearn: 0.0171953\ttotal: 403ms\tremaining: 175ms\n",
      "697:\tlearn: 0.0171674\ttotal: 404ms\tremaining: 175ms\n",
      "698:\tlearn: 0.0171597\ttotal: 404ms\tremaining: 174ms\n",
      "699:\tlearn: 0.0171415\ttotal: 404ms\tremaining: 173ms\n",
      "700:\tlearn: 0.0171189\ttotal: 404ms\tremaining: 172ms\n",
      "701:\tlearn: 0.0170876\ttotal: 405ms\tremaining: 172ms\n",
      "702:\tlearn: 0.0170744\ttotal: 407ms\tremaining: 172ms\n",
      "703:\tlearn: 0.0170547\ttotal: 408ms\tremaining: 172ms\n",
      "704:\tlearn: 0.0170478\ttotal: 409ms\tremaining: 171ms\n",
      "705:\tlearn: 0.0170324\ttotal: 411ms\tremaining: 171ms\n",
      "706:\tlearn: 0.0170130\ttotal: 411ms\tremaining: 170ms\n",
      "707:\tlearn: 0.0169954\ttotal: 413ms\tremaining: 170ms\n",
      "708:\tlearn: 0.0169683\ttotal: 414ms\tremaining: 170ms\n",
      "709:\tlearn: 0.0169485\ttotal: 415ms\tremaining: 169ms\n",
      "710:\tlearn: 0.0169309\ttotal: 415ms\tremaining: 169ms\n",
      "711:\tlearn: 0.0169247\ttotal: 416ms\tremaining: 168ms\n",
      "712:\tlearn: 0.0169161\ttotal: 416ms\tremaining: 168ms\n",
      "713:\tlearn: 0.0169095\ttotal: 417ms\tremaining: 167ms\n",
      "714:\tlearn: 0.0168999\ttotal: 417ms\tremaining: 166ms\n",
      "715:\tlearn: 0.0168917\ttotal: 418ms\tremaining: 166ms\n",
      "716:\tlearn: 0.0168748\ttotal: 418ms\tremaining: 165ms\n",
      "717:\tlearn: 0.0168512\ttotal: 419ms\tremaining: 165ms\n",
      "718:\tlearn: 0.0168387\ttotal: 419ms\tremaining: 164ms\n",
      "719:\tlearn: 0.0168298\ttotal: 419ms\tremaining: 163ms\n",
      "720:\tlearn: 0.0168156\ttotal: 420ms\tremaining: 162ms\n",
      "721:\tlearn: 0.0167985\ttotal: 420ms\tremaining: 162ms\n",
      "722:\tlearn: 0.0167786\ttotal: 420ms\tremaining: 161ms\n",
      "723:\tlearn: 0.0167721\ttotal: 421ms\tremaining: 160ms\n",
      "724:\tlearn: 0.0167524\ttotal: 421ms\tremaining: 160ms\n",
      "725:\tlearn: 0.0167368\ttotal: 421ms\tremaining: 159ms\n",
      "726:\tlearn: 0.0167111\ttotal: 422ms\tremaining: 158ms\n",
      "727:\tlearn: 0.0166962\ttotal: 422ms\tremaining: 158ms\n",
      "728:\tlearn: 0.0166787\ttotal: 422ms\tremaining: 157ms\n",
      "729:\tlearn: 0.0166600\ttotal: 422ms\tremaining: 156ms\n",
      "730:\tlearn: 0.0166358\ttotal: 423ms\tremaining: 156ms\n",
      "731:\tlearn: 0.0166095\ttotal: 423ms\tremaining: 155ms\n",
      "732:\tlearn: 0.0165879\ttotal: 423ms\tremaining: 154ms\n",
      "733:\tlearn: 0.0165702\ttotal: 424ms\tremaining: 154ms\n",
      "734:\tlearn: 0.0165614\ttotal: 424ms\tremaining: 153ms\n",
      "735:\tlearn: 0.0165525\ttotal: 424ms\tremaining: 152ms\n",
      "736:\tlearn: 0.0165405\ttotal: 425ms\tremaining: 152ms\n",
      "737:\tlearn: 0.0165142\ttotal: 425ms\tremaining: 151ms\n",
      "738:\tlearn: 0.0164976\ttotal: 425ms\tremaining: 150ms\n",
      "739:\tlearn: 0.0164822\ttotal: 426ms\tremaining: 150ms\n",
      "740:\tlearn: 0.0164687\ttotal: 426ms\tremaining: 149ms\n",
      "741:\tlearn: 0.0164605\ttotal: 426ms\tremaining: 148ms\n",
      "742:\tlearn: 0.0164488\ttotal: 427ms\tremaining: 148ms\n",
      "743:\tlearn: 0.0164304\ttotal: 427ms\tremaining: 147ms\n",
      "744:\tlearn: 0.0163957\ttotal: 427ms\tremaining: 146ms\n",
      "745:\tlearn: 0.0163786\ttotal: 428ms\tremaining: 146ms\n",
      "746:\tlearn: 0.0163726\ttotal: 428ms\tremaining: 145ms\n",
      "747:\tlearn: 0.0163603\ttotal: 429ms\tremaining: 144ms\n",
      "748:\tlearn: 0.0163467\ttotal: 429ms\tremaining: 144ms\n",
      "749:\tlearn: 0.0163388\ttotal: 429ms\tremaining: 143ms\n",
      "750:\tlearn: 0.0163215\ttotal: 430ms\tremaining: 142ms\n",
      "751:\tlearn: 0.0163014\ttotal: 431ms\tremaining: 142ms\n",
      "752:\tlearn: 0.0162957\ttotal: 431ms\tremaining: 141ms\n",
      "753:\tlearn: 0.0162801\ttotal: 431ms\tremaining: 141ms\n",
      "754:\tlearn: 0.0162711\ttotal: 431ms\tremaining: 140ms\n",
      "755:\tlearn: 0.0162647\ttotal: 432ms\tremaining: 139ms\n",
      "756:\tlearn: 0.0162565\ttotal: 433ms\tremaining: 139ms\n",
      "757:\tlearn: 0.0162499\ttotal: 433ms\tremaining: 138ms\n",
      "758:\tlearn: 0.0162344\ttotal: 434ms\tremaining: 138ms\n",
      "759:\tlearn: 0.0162194\ttotal: 434ms\tremaining: 137ms\n",
      "760:\tlearn: 0.0162047\ttotal: 434ms\tremaining: 136ms\n",
      "761:\tlearn: 0.0161982\ttotal: 435ms\tremaining: 136ms\n",
      "762:\tlearn: 0.0161927\ttotal: 435ms\tremaining: 135ms\n",
      "763:\tlearn: 0.0161770\ttotal: 435ms\tremaining: 134ms\n",
      "764:\tlearn: 0.0161617\ttotal: 436ms\tremaining: 134ms\n",
      "765:\tlearn: 0.0161284\ttotal: 436ms\tremaining: 133ms\n",
      "766:\tlearn: 0.0161121\ttotal: 437ms\tremaining: 133ms\n",
      "767:\tlearn: 0.0160985\ttotal: 437ms\tremaining: 132ms\n",
      "768:\tlearn: 0.0160758\ttotal: 438ms\tremaining: 132ms\n",
      "769:\tlearn: 0.0160566\ttotal: 438ms\tremaining: 131ms\n",
      "770:\tlearn: 0.0160412\ttotal: 443ms\tremaining: 132ms\n",
      "771:\tlearn: 0.0160302\ttotal: 444ms\tremaining: 131ms\n",
      "772:\tlearn: 0.0160125\ttotal: 445ms\tremaining: 131ms\n",
      "773:\tlearn: 0.0160070\ttotal: 445ms\tremaining: 130ms\n",
      "774:\tlearn: 0.0159869\ttotal: 446ms\tremaining: 129ms\n",
      "775:\tlearn: 0.0159739\ttotal: 446ms\tremaining: 129ms\n",
      "776:\tlearn: 0.0159617\ttotal: 446ms\tremaining: 128ms\n",
      "777:\tlearn: 0.0159479\ttotal: 447ms\tremaining: 127ms\n",
      "778:\tlearn: 0.0159281\ttotal: 447ms\tremaining: 127ms\n",
      "779:\tlearn: 0.0159133\ttotal: 447ms\tremaining: 126ms\n",
      "780:\tlearn: 0.0159037\ttotal: 447ms\tremaining: 125ms\n",
      "781:\tlearn: 0.0158873\ttotal: 448ms\tremaining: 125ms\n",
      "782:\tlearn: 0.0158710\ttotal: 448ms\tremaining: 124ms\n",
      "783:\tlearn: 0.0158587\ttotal: 448ms\tremaining: 124ms\n",
      "784:\tlearn: 0.0158284\ttotal: 449ms\tremaining: 123ms\n",
      "785:\tlearn: 0.0158187\ttotal: 449ms\tremaining: 122ms\n",
      "786:\tlearn: 0.0158052\ttotal: 449ms\tremaining: 122ms\n",
      "787:\tlearn: 0.0157881\ttotal: 450ms\tremaining: 121ms\n",
      "788:\tlearn: 0.0157713\ttotal: 450ms\tremaining: 120ms\n",
      "789:\tlearn: 0.0157576\ttotal: 451ms\tremaining: 120ms\n",
      "790:\tlearn: 0.0157397\ttotal: 454ms\tremaining: 120ms\n",
      "791:\tlearn: 0.0157160\ttotal: 454ms\tremaining: 119ms\n",
      "792:\tlearn: 0.0156994\ttotal: 455ms\tremaining: 119ms\n",
      "793:\tlearn: 0.0156825\ttotal: 455ms\tremaining: 118ms\n",
      "794:\tlearn: 0.0156736\ttotal: 456ms\tremaining: 118ms\n",
      "795:\tlearn: 0.0156523\ttotal: 456ms\tremaining: 117ms\n",
      "796:\tlearn: 0.0156326\ttotal: 456ms\tremaining: 116ms\n",
      "797:\tlearn: 0.0156146\ttotal: 457ms\tremaining: 116ms\n",
      "798:\tlearn: 0.0155958\ttotal: 457ms\tremaining: 115ms\n",
      "799:\tlearn: 0.0155807\ttotal: 457ms\tremaining: 114ms\n",
      "800:\tlearn: 0.0155673\ttotal: 458ms\tremaining: 114ms\n",
      "801:\tlearn: 0.0155484\ttotal: 458ms\tremaining: 113ms\n",
      "802:\tlearn: 0.0155335\ttotal: 458ms\tremaining: 112ms\n",
      "803:\tlearn: 0.0155209\ttotal: 459ms\tremaining: 112ms\n",
      "804:\tlearn: 0.0155075\ttotal: 459ms\tremaining: 111ms\n",
      "805:\tlearn: 0.0154901\ttotal: 459ms\tremaining: 111ms\n",
      "806:\tlearn: 0.0154740\ttotal: 459ms\tremaining: 110ms\n",
      "807:\tlearn: 0.0154621\ttotal: 460ms\tremaining: 109ms\n",
      "808:\tlearn: 0.0154504\ttotal: 460ms\tremaining: 109ms\n",
      "809:\tlearn: 0.0154279\ttotal: 460ms\tremaining: 108ms\n",
      "810:\tlearn: 0.0154082\ttotal: 461ms\tremaining: 107ms\n",
      "811:\tlearn: 0.0153936\ttotal: 461ms\tremaining: 107ms\n",
      "812:\tlearn: 0.0153816\ttotal: 461ms\tremaining: 106ms\n",
      "813:\tlearn: 0.0153631\ttotal: 462ms\tremaining: 105ms\n",
      "814:\tlearn: 0.0153416\ttotal: 462ms\tremaining: 105ms\n",
      "815:\tlearn: 0.0153301\ttotal: 463ms\tremaining: 104ms\n",
      "816:\tlearn: 0.0153162\ttotal: 463ms\tremaining: 104ms\n",
      "817:\tlearn: 0.0153039\ttotal: 463ms\tremaining: 103ms\n",
      "818:\tlearn: 0.0152882\ttotal: 463ms\tremaining: 102ms\n",
      "819:\tlearn: 0.0152743\ttotal: 464ms\tremaining: 102ms\n",
      "820:\tlearn: 0.0152570\ttotal: 464ms\tremaining: 101ms\n",
      "821:\tlearn: 0.0152367\ttotal: 464ms\tremaining: 101ms\n",
      "822:\tlearn: 0.0152149\ttotal: 465ms\tremaining: 99.9ms\n",
      "823:\tlearn: 0.0152015\ttotal: 465ms\tremaining: 99.3ms\n",
      "824:\tlearn: 0.0151841\ttotal: 465ms\tremaining: 98.7ms\n",
      "825:\tlearn: 0.0151779\ttotal: 466ms\tremaining: 98.1ms\n",
      "826:\tlearn: 0.0151649\ttotal: 466ms\tremaining: 97.5ms\n",
      "827:\tlearn: 0.0151531\ttotal: 466ms\tremaining: 96.9ms\n",
      "828:\tlearn: 0.0151459\ttotal: 467ms\tremaining: 96.3ms\n",
      "829:\tlearn: 0.0151386\ttotal: 467ms\tremaining: 95.7ms\n",
      "830:\tlearn: 0.0151264\ttotal: 467ms\tremaining: 95ms\n",
      "831:\tlearn: 0.0151196\ttotal: 468ms\tremaining: 94.4ms\n",
      "832:\tlearn: 0.0151073\ttotal: 468ms\tremaining: 93.8ms\n",
      "833:\tlearn: 0.0150877\ttotal: 468ms\tremaining: 93.2ms\n",
      "834:\tlearn: 0.0150812\ttotal: 468ms\tremaining: 92.6ms\n",
      "835:\tlearn: 0.0150676\ttotal: 469ms\tremaining: 92ms\n",
      "836:\tlearn: 0.0150627\ttotal: 469ms\tremaining: 91.3ms\n",
      "837:\tlearn: 0.0150435\ttotal: 469ms\tremaining: 90.7ms\n",
      "838:\tlearn: 0.0150324\ttotal: 470ms\tremaining: 90.1ms\n",
      "839:\tlearn: 0.0150245\ttotal: 470ms\tremaining: 89.5ms\n",
      "840:\tlearn: 0.0150155\ttotal: 470ms\tremaining: 88.9ms\n",
      "841:\tlearn: 0.0150127\ttotal: 471ms\tremaining: 88.3ms\n",
      "842:\tlearn: 0.0149959\ttotal: 471ms\tremaining: 87.7ms\n",
      "843:\tlearn: 0.0149637\ttotal: 471ms\tremaining: 87.1ms\n",
      "844:\tlearn: 0.0149525\ttotal: 471ms\tremaining: 86.5ms\n",
      "845:\tlearn: 0.0149402\ttotal: 472ms\tremaining: 85.9ms\n",
      "846:\tlearn: 0.0149294\ttotal: 472ms\tremaining: 85.3ms\n",
      "847:\tlearn: 0.0149125\ttotal: 472ms\tremaining: 84.7ms\n",
      "848:\tlearn: 0.0149067\ttotal: 473ms\tremaining: 84.1ms\n",
      "849:\tlearn: 0.0148990\ttotal: 474ms\tremaining: 83.6ms\n",
      "850:\tlearn: 0.0148811\ttotal: 474ms\tremaining: 83ms\n",
      "851:\tlearn: 0.0148721\ttotal: 474ms\tremaining: 82.3ms\n",
      "852:\tlearn: 0.0148530\ttotal: 474ms\tremaining: 81.7ms\n",
      "853:\tlearn: 0.0148400\ttotal: 475ms\tremaining: 81.1ms\n",
      "854:\tlearn: 0.0148341\ttotal: 475ms\tremaining: 80.6ms\n",
      "855:\tlearn: 0.0148166\ttotal: 475ms\tremaining: 79.9ms\n",
      "856:\tlearn: 0.0148027\ttotal: 476ms\tremaining: 79.3ms\n",
      "857:\tlearn: 0.0147720\ttotal: 476ms\tremaining: 78.7ms\n",
      "858:\tlearn: 0.0147647\ttotal: 476ms\tremaining: 78.1ms\n",
      "859:\tlearn: 0.0147471\ttotal: 477ms\tremaining: 77.6ms\n",
      "860:\tlearn: 0.0147367\ttotal: 477ms\tremaining: 77ms\n",
      "861:\tlearn: 0.0147289\ttotal: 478ms\tremaining: 76.4ms\n",
      "862:\tlearn: 0.0147183\ttotal: 478ms\tremaining: 75.9ms\n",
      "863:\tlearn: 0.0147079\ttotal: 478ms\tremaining: 75.3ms\n",
      "864:\tlearn: 0.0146981\ttotal: 479ms\tremaining: 74.7ms\n",
      "865:\tlearn: 0.0146874\ttotal: 479ms\tremaining: 74.1ms\n",
      "866:\tlearn: 0.0146784\ttotal: 479ms\tremaining: 73.5ms\n",
      "867:\tlearn: 0.0146670\ttotal: 480ms\tremaining: 73ms\n",
      "868:\tlearn: 0.0146482\ttotal: 480ms\tremaining: 72.4ms\n",
      "869:\tlearn: 0.0146315\ttotal: 481ms\tremaining: 71.8ms\n",
      "870:\tlearn: 0.0146143\ttotal: 481ms\tremaining: 71.2ms\n",
      "871:\tlearn: 0.0146012\ttotal: 481ms\tremaining: 70.6ms\n",
      "872:\tlearn: 0.0145897\ttotal: 481ms\tremaining: 70ms\n",
      "873:\tlearn: 0.0145802\ttotal: 482ms\tremaining: 69.4ms\n",
      "874:\tlearn: 0.0145652\ttotal: 482ms\tremaining: 68.9ms\n",
      "875:\tlearn: 0.0145380\ttotal: 482ms\tremaining: 68.3ms\n",
      "876:\tlearn: 0.0145325\ttotal: 483ms\tremaining: 67.7ms\n",
      "877:\tlearn: 0.0145252\ttotal: 483ms\tremaining: 67.1ms\n",
      "878:\tlearn: 0.0145189\ttotal: 483ms\tremaining: 66.5ms\n",
      "879:\tlearn: 0.0145047\ttotal: 484ms\tremaining: 65.9ms\n",
      "880:\tlearn: 0.0144974\ttotal: 484ms\tremaining: 65.4ms\n",
      "881:\tlearn: 0.0144920\ttotal: 484ms\tremaining: 64.8ms\n",
      "882:\tlearn: 0.0144705\ttotal: 484ms\tremaining: 64.2ms\n",
      "883:\tlearn: 0.0144570\ttotal: 485ms\tremaining: 63.6ms\n",
      "884:\tlearn: 0.0144386\ttotal: 485ms\tremaining: 63ms\n",
      "885:\tlearn: 0.0144250\ttotal: 485ms\tremaining: 62.4ms\n",
      "886:\tlearn: 0.0144149\ttotal: 486ms\tremaining: 61.9ms\n",
      "887:\tlearn: 0.0143960\ttotal: 486ms\tremaining: 61.3ms\n",
      "888:\tlearn: 0.0143847\ttotal: 486ms\tremaining: 60.7ms\n",
      "889:\tlearn: 0.0143691\ttotal: 487ms\tremaining: 60.1ms\n",
      "890:\tlearn: 0.0143599\ttotal: 487ms\tremaining: 59.6ms\n",
      "891:\tlearn: 0.0143516\ttotal: 487ms\tremaining: 59ms\n",
      "892:\tlearn: 0.0143338\ttotal: 488ms\tremaining: 58.5ms\n",
      "893:\tlearn: 0.0143278\ttotal: 488ms\tremaining: 57.9ms\n",
      "894:\tlearn: 0.0143051\ttotal: 489ms\tremaining: 57.3ms\n",
      "895:\tlearn: 0.0142917\ttotal: 489ms\tremaining: 56.7ms\n",
      "896:\tlearn: 0.0142790\ttotal: 489ms\tremaining: 56.2ms\n",
      "897:\tlearn: 0.0142704\ttotal: 489ms\tremaining: 55.6ms\n",
      "898:\tlearn: 0.0142603\ttotal: 490ms\tremaining: 55ms\n",
      "899:\tlearn: 0.0142505\ttotal: 490ms\tremaining: 54.5ms\n",
      "900:\tlearn: 0.0142399\ttotal: 490ms\tremaining: 53.9ms\n",
      "901:\tlearn: 0.0142212\ttotal: 491ms\tremaining: 53.3ms\n",
      "902:\tlearn: 0.0142041\ttotal: 491ms\tremaining: 52.7ms\n",
      "903:\tlearn: 0.0141850\ttotal: 491ms\tremaining: 52.2ms\n",
      "904:\tlearn: 0.0141767\ttotal: 492ms\tremaining: 51.6ms\n",
      "905:\tlearn: 0.0141613\ttotal: 492ms\tremaining: 51ms\n",
      "906:\tlearn: 0.0141336\ttotal: 492ms\tremaining: 50.5ms\n",
      "907:\tlearn: 0.0141073\ttotal: 493ms\tremaining: 49.9ms\n",
      "908:\tlearn: 0.0140990\ttotal: 493ms\tremaining: 49.3ms\n",
      "909:\tlearn: 0.0140787\ttotal: 493ms\tremaining: 48.8ms\n",
      "910:\tlearn: 0.0140662\ttotal: 493ms\tremaining: 48.2ms\n",
      "911:\tlearn: 0.0140563\ttotal: 494ms\tremaining: 47.6ms\n",
      "912:\tlearn: 0.0140471\ttotal: 494ms\tremaining: 47.1ms\n",
      "913:\tlearn: 0.0140391\ttotal: 495ms\tremaining: 46.5ms\n",
      "914:\tlearn: 0.0140255\ttotal: 495ms\tremaining: 46ms\n",
      "915:\tlearn: 0.0140096\ttotal: 495ms\tremaining: 45.4ms\n",
      "916:\tlearn: 0.0140000\ttotal: 495ms\tremaining: 44.8ms\n",
      "917:\tlearn: 0.0139908\ttotal: 496ms\tremaining: 44.3ms\n",
      "918:\tlearn: 0.0139849\ttotal: 496ms\tremaining: 43.7ms\n",
      "919:\tlearn: 0.0139755\ttotal: 496ms\tremaining: 43.1ms\n",
      "920:\tlearn: 0.0139651\ttotal: 497ms\tremaining: 42.6ms\n",
      "921:\tlearn: 0.0139591\ttotal: 497ms\tremaining: 42ms\n",
      "922:\tlearn: 0.0139446\ttotal: 497ms\tremaining: 41.5ms\n",
      "923:\tlearn: 0.0139285\ttotal: 497ms\tremaining: 40.9ms\n",
      "924:\tlearn: 0.0139177\ttotal: 498ms\tremaining: 40.4ms\n",
      "925:\tlearn: 0.0139004\ttotal: 498ms\tremaining: 39.8ms\n",
      "926:\tlearn: 0.0138936\ttotal: 499ms\tremaining: 39.3ms\n",
      "927:\tlearn: 0.0138866\ttotal: 499ms\tremaining: 38.7ms\n",
      "928:\tlearn: 0.0138791\ttotal: 499ms\tremaining: 38.2ms\n",
      "929:\tlearn: 0.0138731\ttotal: 499ms\tremaining: 37.6ms\n",
      "930:\tlearn: 0.0138616\ttotal: 500ms\tremaining: 37ms\n",
      "931:\tlearn: 0.0138525\ttotal: 500ms\tremaining: 36.5ms\n",
      "932:\tlearn: 0.0138412\ttotal: 500ms\tremaining: 35.9ms\n",
      "933:\tlearn: 0.0138298\ttotal: 501ms\tremaining: 35.4ms\n",
      "934:\tlearn: 0.0138118\ttotal: 501ms\tremaining: 34.8ms\n",
      "935:\tlearn: 0.0137856\ttotal: 501ms\tremaining: 34.3ms\n",
      "936:\tlearn: 0.0137709\ttotal: 502ms\tremaining: 33.7ms\n",
      "937:\tlearn: 0.0137615\ttotal: 502ms\tremaining: 33.2ms\n",
      "938:\tlearn: 0.0137513\ttotal: 502ms\tremaining: 32.6ms\n",
      "939:\tlearn: 0.0137469\ttotal: 503ms\tremaining: 32.1ms\n",
      "940:\tlearn: 0.0137367\ttotal: 503ms\tremaining: 31.5ms\n",
      "941:\tlearn: 0.0137253\ttotal: 503ms\tremaining: 31ms\n",
      "942:\tlearn: 0.0137143\ttotal: 504ms\tremaining: 30.5ms\n",
      "943:\tlearn: 0.0137043\ttotal: 504ms\tremaining: 29.9ms\n",
      "944:\tlearn: 0.0136992\ttotal: 505ms\tremaining: 29.4ms\n",
      "945:\tlearn: 0.0136948\ttotal: 505ms\tremaining: 28.8ms\n",
      "946:\tlearn: 0.0136802\ttotal: 505ms\tremaining: 28.3ms\n",
      "947:\tlearn: 0.0136726\ttotal: 506ms\tremaining: 27.7ms\n",
      "948:\tlearn: 0.0136620\ttotal: 506ms\tremaining: 27.2ms\n",
      "949:\tlearn: 0.0136540\ttotal: 507ms\tremaining: 26.7ms\n",
      "950:\tlearn: 0.0136451\ttotal: 507ms\tremaining: 26.1ms\n",
      "951:\tlearn: 0.0136349\ttotal: 507ms\tremaining: 25.6ms\n",
      "952:\tlearn: 0.0136144\ttotal: 508ms\tremaining: 25ms\n",
      "953:\tlearn: 0.0136030\ttotal: 508ms\tremaining: 24.5ms\n",
      "954:\tlearn: 0.0135939\ttotal: 508ms\tremaining: 24ms\n",
      "955:\tlearn: 0.0135888\ttotal: 509ms\tremaining: 23.4ms\n",
      "956:\tlearn: 0.0135801\ttotal: 509ms\tremaining: 22.9ms\n",
      "957:\tlearn: 0.0135575\ttotal: 510ms\tremaining: 22.4ms\n",
      "958:\tlearn: 0.0135427\ttotal: 510ms\tremaining: 21.8ms\n",
      "959:\tlearn: 0.0135342\ttotal: 510ms\tremaining: 21.3ms\n",
      "960:\tlearn: 0.0135243\ttotal: 511ms\tremaining: 20.7ms\n",
      "961:\tlearn: 0.0135177\ttotal: 511ms\tremaining: 20.2ms\n",
      "962:\tlearn: 0.0135092\ttotal: 511ms\tremaining: 19.6ms\n",
      "963:\tlearn: 0.0135015\ttotal: 512ms\tremaining: 19.1ms\n",
      "964:\tlearn: 0.0134936\ttotal: 512ms\tremaining: 18.6ms\n",
      "965:\tlearn: 0.0134840\ttotal: 512ms\tremaining: 18ms\n",
      "966:\tlearn: 0.0134702\ttotal: 512ms\tremaining: 17.5ms\n",
      "967:\tlearn: 0.0134648\ttotal: 513ms\tremaining: 16.9ms\n",
      "968:\tlearn: 0.0134567\ttotal: 513ms\tremaining: 16.4ms\n",
      "969:\tlearn: 0.0134520\ttotal: 513ms\tremaining: 15.9ms\n",
      "970:\tlearn: 0.0134285\ttotal: 514ms\tremaining: 15.3ms\n",
      "971:\tlearn: 0.0134145\ttotal: 514ms\tremaining: 14.8ms\n",
      "972:\tlearn: 0.0134063\ttotal: 514ms\tremaining: 14.3ms\n",
      "973:\tlearn: 0.0133825\ttotal: 515ms\tremaining: 13.7ms\n",
      "974:\tlearn: 0.0133721\ttotal: 515ms\tremaining: 13.2ms\n",
      "975:\tlearn: 0.0133548\ttotal: 515ms\tremaining: 12.7ms\n",
      "976:\tlearn: 0.0133486\ttotal: 516ms\tremaining: 12.1ms\n",
      "977:\tlearn: 0.0133407\ttotal: 516ms\tremaining: 11.6ms\n",
      "978:\tlearn: 0.0133301\ttotal: 517ms\tremaining: 11.1ms\n",
      "979:\tlearn: 0.0133169\ttotal: 517ms\tremaining: 10.6ms\n",
      "980:\tlearn: 0.0133065\ttotal: 517ms\tremaining: 10ms\n",
      "981:\tlearn: 0.0132971\ttotal: 518ms\tremaining: 9.49ms\n",
      "982:\tlearn: 0.0132933\ttotal: 518ms\tremaining: 8.95ms\n",
      "983:\tlearn: 0.0132848\ttotal: 518ms\tremaining: 8.43ms\n",
      "984:\tlearn: 0.0132691\ttotal: 518ms\tremaining: 7.89ms\n",
      "985:\tlearn: 0.0132631\ttotal: 519ms\tremaining: 7.37ms\n",
      "986:\tlearn: 0.0132487\ttotal: 519ms\tremaining: 6.84ms\n",
      "987:\tlearn: 0.0132417\ttotal: 519ms\tremaining: 6.31ms\n",
      "988:\tlearn: 0.0132321\ttotal: 520ms\tremaining: 5.78ms\n",
      "989:\tlearn: 0.0132164\ttotal: 520ms\tremaining: 5.26ms\n",
      "990:\tlearn: 0.0132055\ttotal: 521ms\tremaining: 4.73ms\n",
      "991:\tlearn: 0.0132004\ttotal: 521ms\tremaining: 4.2ms\n",
      "992:\tlearn: 0.0131848\ttotal: 521ms\tremaining: 3.67ms\n",
      "993:\tlearn: 0.0131771\ttotal: 522ms\tremaining: 3.15ms\n",
      "994:\tlearn: 0.0131679\ttotal: 522ms\tremaining: 2.62ms\n",
      "995:\tlearn: 0.0131594\ttotal: 522ms\tremaining: 2.1ms\n",
      "996:\tlearn: 0.0131529\ttotal: 523ms\tremaining: 1.57ms\n",
      "997:\tlearn: 0.0131418\ttotal: 523ms\tremaining: 1.05ms\n",
      "998:\tlearn: 0.0131330\ttotal: 523ms\tremaining: 523us\n",
      "999:\tlearn: 0.0131235\ttotal: 524ms\tremaining: 0us\n"
     ]
    },
    {
     "data": {
      "text/plain": [
       "<catboost.core.CatBoostRegressor at 0x7fd379634bb0>"
      ]
     },
     "execution_count": 9,
     "metadata": {},
     "output_type": "execute_result"
    }
   ],
   "source": [
    "#Train the Model \n",
    "prior_model = ctb.CatBoostRegressor()\n",
    "prior_model.fit(X_train,Y_train)"
   ]
  },
  {
   "cell_type": "code",
   "execution_count": 10,
   "id": "af65dcda",
   "metadata": {
    "execution": {
     "iopub.execute_input": "2022-07-25T03:15:02.134574Z",
     "iopub.status.busy": "2022-07-25T03:15:02.133929Z",
     "iopub.status.idle": "2022-07-25T03:15:02.165246Z",
     "shell.execute_reply": "2022-07-25T03:15:02.164134Z"
    },
    "id": "af65dcda",
    "papermill": {
     "duration": 0.045561,
     "end_time": "2022-07-25T03:15:02.168791",
     "exception": false,
     "start_time": "2022-07-25T03:15:02.123230",
     "status": "completed"
    },
    "tags": []
   },
   "outputs": [
    {
     "data": {
      "application/scrapbook.scrap.json+json": {
       "data": 0.0009799685535952871,
       "encoder": "json",
       "name": "Prior Model MSE",
       "version": 1
      }
     },
     "metadata": {
      "scrapbook": {
       "data": true,
       "display": false,
       "name": "Prior Model MSE"
      }
     },
     "output_type": "display_data"
    },
    {
     "data": {
      "application/scrapbook.scrap.json+json": {
       "data": 0.020964988220510367,
       "encoder": "json",
       "name": "ABC Pre-generator MSE",
       "version": 1
      }
     },
     "metadata": {
      "scrapbook": {
       "data": true,
       "display": false,
       "name": "ABC Pre-generator MSE"
      }
     },
     "output_type": "display_data"
    },
    {
     "data": {
      "application/scrapbook.scrap.json+json": {
       "data": 0.022201645427633903,
       "encoder": "json",
       "name": "Prior Model MAE",
       "version": 1
      }
     },
     "metadata": {
      "scrapbook": {
       "data": true,
       "display": false,
       "name": "Prior Model MAE"
      }
     },
     "output_type": "display_data"
    },
    {
     "name": "stdout",
     "output_type": "stream",
     "text": [
      "Prior Model MAE 0.022201645427633903\n",
      "ABC Pre-generator MAE 0.11814977449046533\n"
     ]
    }
   ],
   "source": [
    "y_pred = prior_model.predict(X_test)\n",
    "y_abc = y_pred + np.random.normal(0,variance, y_pred.shape) + bias \n",
    "mse = mean_squared_error(y_pred,Y_test)\n",
    "sb.glue(\"Prior Model MSE\",mse)\n",
    "mse = mean_squared_error(y_abc,Y_test)\n",
    "sb.glue(\"ABC Pre-generator MSE\",mse)\n",
    "mae = mean_absolute_error(y_pred,Y_test)\n",
    "sb.glue(\"Prior Model MAE\",mae)\n",
    "print(\"Prior Model MAE\",mae)\n",
    "mae = mean_absolute_error(y_abc,Y_test)\n",
    "print(\"ABC Pre-generator MAE\",mae)"
   ]
  },
  {
   "cell_type": "markdown",
   "id": "25609da2",
   "metadata": {
    "papermill": {
     "duration": 0.010982,
     "end_time": "2022-07-25T03:15:02.192802",
     "exception": false,
     "start_time": "2022-07-25T03:15:02.181820",
     "status": "completed"
    },
    "tags": []
   },
   "source": [
    "# mGAN Model"
   ]
  },
  {
   "cell_type": "code",
   "execution_count": 11,
   "id": "dfc3464d",
   "metadata": {
    "execution": {
     "iopub.execute_input": "2022-07-25T03:15:02.229117Z",
     "iopub.status.busy": "2022-07-25T03:15:02.228392Z",
     "iopub.status.idle": "2022-07-25T03:15:02.234425Z",
     "shell.execute_reply": "2022-07-25T03:15:02.233263Z"
    },
    "papermill": {
     "duration": 0.033861,
     "end_time": "2022-07-25T03:15:02.237242",
     "exception": false,
     "start_time": "2022-07-25T03:15:02.203381",
     "status": "completed"
    },
    "tags": []
   },
   "outputs": [],
   "source": [
    "# gen = network.Generator(n_features+1).to(device)\n",
    "# disc = network.Discriminator(n_features+1).to(device)\n",
    "\n",
    "# criterion = torch.nn.BCELoss()\n",
    "# gen_opt = torch.optim.Adam(gen.parameters(), lr=0.01, betas=(0.5, 0.999))\n",
    "# disc_opt = torch.optim.Adam(disc.parameters(), lr=0.01, betas=(0.5, 0.999))"
   ]
  },
  {
   "cell_type": "code",
   "execution_count": 12,
   "id": "b75fdd85",
   "metadata": {
    "execution": {
     "iopub.execute_input": "2022-07-25T03:15:02.266831Z",
     "iopub.status.busy": "2022-07-25T03:15:02.266509Z",
     "iopub.status.idle": "2022-07-25T03:15:02.270665Z",
     "shell.execute_reply": "2022-07-25T03:15:02.269584Z"
    },
    "papermill": {
     "duration": 0.025214,
     "end_time": "2022-07-25T03:15:02.273564",
     "exception": false,
     "start_time": "2022-07-25T03:15:02.248350",
     "status": "completed"
    },
    "tags": []
   },
   "outputs": [],
   "source": [
    "#Training the ABC_GAN \n",
    "# ABC_train_test2.training_GAN(disc,gen,disc_opt,gen_opt,train_data,batch_size,n_epochs,criterion,prior_model,variance,bias,device)"
   ]
  },
  {
   "cell_type": "code",
   "execution_count": 13,
   "id": "1fa7c368",
   "metadata": {
    "execution": {
     "iopub.execute_input": "2022-07-25T03:15:02.300835Z",
     "iopub.status.busy": "2022-07-25T03:15:02.300567Z",
     "iopub.status.idle": "2022-07-25T03:15:02.306972Z",
     "shell.execute_reply": "2022-07-25T03:15:02.304535Z"
    },
    "papermill": {
     "duration": 0.02663,
     "end_time": "2022-07-25T03:15:02.310422",
     "exception": false,
     "start_time": "2022-07-25T03:15:02.283792",
     "status": "completed"
    },
    "tags": []
   },
   "outputs": [],
   "source": [
    "# ABC_GAN1_metrics=ABC_train_test2.test_generator(gen,test_data,prior_model,variance,bias,\"1\",device)\n",
    "# sb.glue(\"ABC_GAN_1 Metrics\",ABC_GAN1_metrics)\n",
    "\n",
    "# print(\"MAE\")\n",
    "# print(mean(ABC_GAN1_metrics[1]))"
   ]
  },
  {
   "cell_type": "code",
   "execution_count": 14,
   "id": "eb22ce5c",
   "metadata": {
    "execution": {
     "iopub.execute_input": "2022-07-25T03:15:02.332778Z",
     "iopub.status.busy": "2022-07-25T03:15:02.332465Z",
     "iopub.status.idle": "2022-07-25T03:15:02.338231Z",
     "shell.execute_reply": "2022-07-25T03:15:02.337467Z"
    },
    "papermill": {
     "duration": 0.021337,
     "end_time": "2022-07-25T03:15:02.341599",
     "exception": false,
     "start_time": "2022-07-25T03:15:02.320262",
     "status": "completed"
    },
    "tags": []
   },
   "outputs": [],
   "source": [
    "# sanityChecks.discProbVsError(train_data,disc,device)\n",
    "# sanityChecks.discProbVsError(test_data,disc,device)"
   ]
  },
  {
   "cell_type": "markdown",
   "id": "c72ce081",
   "metadata": {
    "papermill": {
     "duration": 0.010291,
     "end_time": "2022-07-25T03:15:02.362866",
     "exception": false,
     "start_time": "2022-07-25T03:15:02.352575",
     "status": "completed"
    },
    "tags": []
   },
   "source": [
    "# mGAN Model with TabNet Generator"
   ]
  },
  {
   "cell_type": "code",
   "execution_count": 15,
   "id": "becb1642",
   "metadata": {
    "execution": {
     "iopub.execute_input": "2022-07-25T03:15:02.387174Z",
     "iopub.status.busy": "2022-07-25T03:15:02.386491Z",
     "iopub.status.idle": "2022-07-25T03:15:02.409938Z",
     "shell.execute_reply": "2022-07-25T03:15:02.409241Z"
    },
    "papermill": {
     "duration": 0.03868,
     "end_time": "2022-07-25T03:15:02.412710",
     "exception": false,
     "start_time": "2022-07-25T03:15:02.374030",
     "status": "completed"
    },
    "tags": []
   },
   "outputs": [],
   "source": [
    "gen2 = network.GeneratorTabnet(n_features+1).to(device)\n",
    "disc2 = network.Discriminator(n_features+1).to(device)\n",
    "\n",
    "criterion = torch.nn.BCELoss()\n",
    "gen_opt = torch.optim.Adam(gen2.parameters(), lr=0.01, betas=(0.5, 0.999))\n",
    "disc_opt = torch.optim.Adam(disc2.parameters(), lr=0.01, betas=(0.5, 0.999))"
   ]
  },
  {
   "cell_type": "code",
   "execution_count": 16,
   "id": "fcc2e10d",
   "metadata": {
    "execution": {
     "iopub.execute_input": "2022-07-25T03:15:02.435735Z",
     "iopub.status.busy": "2022-07-25T03:15:02.435106Z",
     "iopub.status.idle": "2022-07-25T03:31:42.996231Z",
     "shell.execute_reply": "2022-07-25T03:31:42.994605Z"
    },
    "papermill": {
     "duration": 1000.576477,
     "end_time": "2022-07-25T03:31:42.999395",
     "exception": false,
     "start_time": "2022-07-25T03:15:02.422918",
     "status": "completed"
    },
    "tags": []
   },
   "outputs": [
    {
     "data": {
      "image/png": "[encoded data removed]",
      "text/plain": [
       "<Figure size 432x288 with 1 Axes>"
      ]
     },
     "metadata": {
      "needs_background": "light"
     },
     "output_type": "display_data"
    },
    {
     "data": {
      "image/png": "[encoded data removed]",
      "text/plain": [
       "<Figure size 432x288 with 1 Axes>"
      ]
     },
     "metadata": {
      "needs_background": "light"
     },
     "output_type": "display_data"
    }
   ],
   "source": [
    "#Training the ABC_GAN \n",
    "ABC_train_test2.training_GAN(disc2,gen2,disc_opt,gen_opt,train_data,batch_size,n_epochs,criterion,prior_model,variance,bias,device)"
   ]
  },
  {
   "cell_type": "code",
   "execution_count": 17,
   "id": "08697202",
   "metadata": {
    "execution": {
     "iopub.execute_input": "2022-07-25T03:31:43.028377Z",
     "iopub.status.busy": "2022-07-25T03:31:43.027583Z",
     "iopub.status.idle": "2022-07-25T03:31:44.989694Z",
     "shell.execute_reply": "2022-07-25T03:31:44.987961Z"
    },
    "papermill": {
     "duration": 1.976878,
     "end_time": "2022-07-25T03:31:44.992590",
     "exception": false,
     "start_time": "2022-07-25T03:31:43.015712",
     "status": "completed"
    },
    "tags": []
   },
   "outputs": [
    {
     "data": {
      "application/scrapbook.scrap.json+json": {
       "data": 0.12115776555928749,
       "encoder": "json",
       "name": "ABC-GAN Model 1 MSE",
       "version": 1
      }
     },
     "metadata": {
      "scrapbook": {
       "data": true,
       "display": false,
       "name": "ABC-GAN Model 1 MSE"
      }
     },
     "output_type": "display_data"
    },
    {
     "data": {
      "application/scrapbook.scrap.json+json": {
       "data": 0.18382421731174767,
       "encoder": "json",
       "name": "ABC-GAN Model 1 MAE",
       "version": 1
      }
     },
     "metadata": {
      "scrapbook": {
       "data": true,
       "display": false,
       "name": "ABC-GAN Model 1 MAE"
      }
     },
     "output_type": "display_data"
    },
    {
     "data": {
      "application/scrapbook.scrap.json+json": {
       "data": 28.30892946600914,
       "encoder": "json",
       "name": "ABC-GAN Model 1 Manhattan Distance",
       "version": 1
      }
     },
     "metadata": {
      "scrapbook": {
       "data": true,
       "display": false,
       "name": "ABC-GAN Model 1 Manhattan Distance"
      }
     },
     "output_type": "display_data"
    },
    {
     "data": {
      "application/scrapbook.scrap.json+json": {
       "data": 4.31947178252194,
       "encoder": "json",
       "name": "ABC-GAN Model 1 Euclidean distance",
       "version": 1
      }
     },
     "metadata": {
      "scrapbook": {
       "data": true,
       "display": false,
       "name": "ABC-GAN Model 1 Euclidean distance"
      }
     },
     "output_type": "display_data"
    },
    {
     "data": {
      "application/scrapbook.scrap.json+json": {
       "data": [
        [
         0.12246189577657551,
         0.12159317810299557,
         0.12432718500689433,
         0.1219346260225063,
         0.12214359946052396,
         0.12082705460109767,
         0.12331646930844033,
         0.1213306472105633,
         0.12232443407449793,
         0.11890270205057452,
         0.12127477715443664,
         0.11897331111016173,
         0.12039127763684974,
         0.12080002867649378,
         0.12194621479805898,
         0.12122659657953291,
         0.12217687171761439,
         0.12068677331522912,
         0.11903312050150797,
         0.12075151503162783,
         0.12062567239601721,
         0.1224217709321538,
         0.12010572894256634,
         0.121087783653518,
         0.12224780254911724,
         0.11994457195548333,
         0.12310936785449503,
         0.1214144682205823,
         0.12024495207016697,
         0.12085880473980128,
         0.12207632971467827,
         0.12176824837024622,
         0.12050022191846409,
         0.1213226436126628,
         0.1221003638934245,
         0.12015628951645134,
         0.12166710855031661,
         0.12071009072252184,
         0.12019100590697158,
         0.1224336391477032,
         0.12131463785353208,
         0.12189297063682016,
         0.12150986842640236,
         0.12235333989109394,
         0.12153592774647785,
         0.12305059335516365,
         0.12200246042895181,
         0.12239886459269342,
         0.12109399702121011,
         0.12114860124958202,
         0.12205762488164659,
         0.11959926343647781,
         0.11990494999884575,
         0.1212641127842619,
         0.12071201598413599,
         0.1195236457947881,
         0.12189637187383559,
         0.12244857951036846,
         0.12086296926663807,
         0.12244055761491272,
         0.12195836098379036,
         0.1210691745176305,
         0.12132499845884999,
         0.12024506143726807,
         0.12190221333035121,
         0.11820626910194237,
         0.12107024233772812,
         0.12023508232961987,
         0.12050254282704034,
         0.11895059619166098,
         0.12057688399063382,
         0.11957094764574391,
         0.12097899575378472,
         0.1207190088245919,
         0.12047928379221512,
         0.12143899152150146,
         0.11857948692000697,
         0.11931849860937871,
         0.12124228668107319,
         0.12106564354776092,
         0.12251844098754287,
         0.12315986545824824,
         0.12154380899350138,
         0.11875098837637958,
         0.12213777634854411,
         0.12383572936388207,
         0.1206046493095646,
         0.12161444035554791,
         0.12053633124127151,
         0.12134732064348812,
         0.12285958211199255,
         0.12147158018942791,
         0.11917604346396947,
         0.11937578876382407,
         0.12101855754670117,
         0.12017977027892235,
         0.12043897965527424,
         0.1201302537758974,
         0.1237474753137379,
         0.12147410979709637
        ],
        [
         0.18439762105608914,
         0.18731302695421428,
         0.1872415179749588,
         0.1852130125482361,
         0.1840184640574765,
         0.18399424865454822,
         0.18543650388911173,
         0.18564563815469864,
         0.18538462409338394,
         0.18000944640922856,
         0.18299386277794838,
         0.18146870115941222,
         0.18346866520194263,
         0.18436217724115816,
         0.1849698107447717,
         0.18425303634691548,
         0.18495540649859937,
         0.18240486617599214,
         0.18131692015698977,
         0.1813161711317378,
         0.18094788269176112,
         0.18661568231590384,
         0.1851968550933646,
         0.18620547753843394,
         0.18734334293123964,
         0.18442886521096352,
         0.18505490421281232,
         0.18042203411459923,
         0.1823134476004483,
         0.18297671637945362,
         0.18377057961248733,
         0.18524920059876007,
         0.18324052561800203,
         0.18535587776984488,
         0.18466088499922256,
         0.18320213674337832,
         0.18598931490794404,
         0.1821710391865148,
         0.1841484328078759,
         0.1869141897307588,
         0.18375325125533265,
         0.18489891924447827,
         0.18364776511277472,
         0.18405696135256197,
         0.18476626978485616,
         0.187195370868816,
         0.18463767798883574,
         0.18643521294965373,
         0.1836655166048508,
         0.1837721766492763,
         0.18578436898140163,
         0.18123639534626687,
         0.1818673081889555,
         0.18303628290047894,
         0.18145225559929748,
         0.18330385342433855,
         0.18603107226746424,
         0.18590381446403342,
         0.18007730571674063,
         0.18657242395467571,
         0.18684993553664778,
         0.18400281343560715,
         0.18534606898372824,
         0.1826394454322078,
         0.18246433356559122,
         0.18004202963663385,
         0.1819972624252369,
         0.1832673644477671,
         0.18240758317050995,
         0.18163222185783573,
         0.18203234241960883,
         0.18228822980414738,
         0.1853282376640029,
         0.18229684315912134,
         0.18137133798815988,
         0.18644068719117673,
         0.1822192639402755,
         0.1831052881943715,
         0.18510086626395003,
         0.18369082206642473,
         0.18483008028237852,
         0.18616024438630452,
         0.18332524873413047,
         0.18283028203945656,
         0.18301243027793124,
         0.1861846593583559,
         0.18200635290765144,
         0.18375751680948518,
         0.17979250098397206,
         0.18542158734295275,
         0.18633994895529438,
         0.18301657451824707,
         0.18020788127822535,
         0.1821005086039568,
         0.18263672509944284,
         0.18232723228730163,
         0.18444835607494628,
         0.18165834635109096,
         0.1859611128154513,
         0.18341585093891466
        ],
        [
         28.39723364263773,
         28.846206150949,
         28.835193768143654,
         28.52280393242836,
         28.33884346485138,
         28.335114292800426,
         28.557221598923206,
         28.589428275823593,
         28.549232110381126,
         27.7214547470212,
         28.18105486780405,
         27.94617997854948,
         28.254174441099167,
         28.39177529513836,
         28.485350854694843,
         28.374967597424984,
         28.4831326007843,
         28.09034939110279,
         27.922805704176426,
         27.922690354287624,
         27.865973934531212,
         28.73881507664919,
         28.520315684378147,
         28.675643540918827,
         28.850874811410904,
         28.402045242488384,
         28.498455248773098,
         27.78499325364828,
         28.076270930469036,
         28.178414322435856,
         28.300669260323048,
         28.528376892209053,
         28.21904094517231,
         28.54480517655611,
         28.437776289880276,
         28.213129058480263,
         28.642354495823383,
         28.054340034723282,
         28.35885865241289,
         28.784785218536854,
         28.298000693321228,
         28.474433563649654,
         28.281755827367306,
         28.344772048294544,
         28.454005546867847,
         28.828087113797665,
         28.434202410280704,
         28.711022794246674,
         28.284489557147026,
         28.300915203988552,
         28.610792823135853,
         27.9104048833251,
         28.007565461099148,
         28.187587566673756,
         27.943647362291813,
         28.228793427348137,
         28.64878512918949,
         28.629187427461147,
         27.731905080378056,
         28.73215328902006,
         28.774890072643757,
         28.3364332690835,
         28.54329462349415,
         28.12647459656,
         28.099507369101048,
         27.726472564041615,
         28.02757841348648,
         28.22317412495613,
         28.090767808258533,
         27.9713621661067,
         28.032980732619762,
         28.072387389838696,
         28.540548600256443,
         28.07371384650469,
         27.93118605017662,
         28.711865827441216,
         28.061766646802425,
         28.198214381933212,
         28.505533404648304,
         28.28838659822941,
         28.46383236348629,
         28.668677635490894,
         28.232088305056095,
         28.15586343407631,
         28.18391426280141,
         28.67243754118681,
         28.02897834777832,
         28.298657588660717,
         27.688045151531696,
         28.554924450814724,
         28.696352139115334,
         28.18455247581005,
         27.752013716846704,
         28.043478325009346,
         28.126055665314198,
         28.078393772244453,
         28.405046835541725,
         27.97538533806801,
         28.638011373579502,
         28.246041044592857
        ],
        [
         4.342710207876254,
         4.327279679875258,
         4.375658406578571,
         4.333351175183702,
         4.3370628675315155,
         4.313625668572674,
         4.357836191678137,
         4.322605657520327,
         4.340272208914168,
         4.2791373097609835,
         4.321610311189944,
         4.280407680462797,
         4.305839843291301,
         4.313143217675485,
         4.333557093070435,
         4.32075177176936,
         4.337653541318464,
         4.311120862437665,
         4.2814834528738075,
         4.312277045236157,
         4.3100294139352044,
         4.341998701468216,
         4.300730432979404,
         4.3182772818152575,
         4.338912489618113,
         4.297844120154246,
         4.354175312225293,
         4.324098531020041,
         4.3032223529357285,
         4.314192384436442,
         4.335868399301396,
         4.330393775283943,
         4.307787619584265,
         4.322463084440406,
         4.3362951974683845,
         4.301635570981519,
         4.328595004935059,
         4.3115373095067095,
         4.302256955328636,
         4.342209164555099,
         4.322320468156421,
         4.33261093084416,
         4.3257970060632704,
         4.340784991591782,
         4.326260841992492,
         4.353135809585453,
         4.334556367848799,
         4.341592466742449,
         4.31838807210125,
         4.319361595471676,
         4.335536210409685,
         4.2916531277839285,
         4.297134196161698,
         4.3214202953168455,
         4.31157169273073,
         4.290296196347912,
         4.332671377865009,
         4.342474092564828,
         4.314266712555247,
         4.342331847371473,
         4.333772904929804,
         4.317945446125401,
         4.3225050332721295,
         4.303224309902898,
         4.332775190668688,
         4.266587095290464,
         4.317964488044121,
         4.303045744442121,
         4.307829104707405,
         4.279999043634915,
         4.309157705927877,
         4.29114506133789,
         4.3163370287875855,
         4.311696575477819,
         4.307413342599144,
         4.324535199800231,
         4.273317327987833,
         4.286612740363226,
         4.321031375596023,
         4.31788247945161,
         4.343712687561367,
         4.355068229152124,
         4.326401112356459,
         4.276406459863521,
         4.336959483056741,
         4.367001525307477,
         4.309653813669137,
         4.3276580057525775,
         4.308433011102274,
         4.322902656676086,
         4.34975581443911,
         4.325115414549292,
         4.284053068468141,
         4.287641714232767,
         4.31704272184003,
         4.302055860045757,
         4.30669279922683,
         4.301169501599326,
         4.365445131749526,
         4.325160448902773
        ]
       ],
       "encoder": "json",
       "name": "ABC_GAN_2 Metrics",
       "version": 1
      }
     },
     "metadata": {
      "scrapbook": {
       "data": true,
       "display": false,
       "name": "ABC_GAN_2 Metrics"
      }
     },
     "output_type": "display_data"
    },
    {
     "name": "stdout",
     "output_type": "stream",
     "text": [
      "MAE\n",
      "0.18382421731174767\n"
     ]
    }
   ],
   "source": [
    "ABC_GAN2_metrics=ABC_train_test2.test_generator(gen2,test_data,prior_model,variance,bias,\"1\",device)\n",
    "sb.glue(\"ABC_GAN_2 Metrics\",ABC_GAN2_metrics)\n",
    "\n",
    "print(\"MAE\")\n",
    "print(mean(ABC_GAN2_metrics[1]))"
   ]
  },
  {
   "cell_type": "code",
   "execution_count": 18,
   "id": "1a553f74",
   "metadata": {
    "execution": {
     "iopub.execute_input": "2022-07-25T03:31:45.024977Z",
     "iopub.status.busy": "2022-07-25T03:31:45.023936Z",
     "iopub.status.idle": "2022-07-25T03:31:45.956988Z",
     "shell.execute_reply": "2022-07-25T03:31:45.956080Z"
    },
    "papermill": {
     "duration": 0.952958,
     "end_time": "2022-07-25T03:31:45.959811",
     "exception": false,
     "start_time": "2022-07-25T03:31:45.006853",
     "status": "completed"
    },
    "tags": []
   },
   "outputs": [
    {
     "data": {
      "image/png": "[encoded data removed]",
      "text/plain": [
       "<Figure size 432x288 with 1 Axes>"
      ]
     },
     "metadata": {
      "needs_background": "light"
     },
     "output_type": "display_data"
    },
    {
     "data": {
      "image/png": "[encoded data removed]",
      "text/plain": [
       "<Figure size 432x288 with 1 Axes>"
      ]
     },
     "metadata": {
      "needs_background": "light"
     },
     "output_type": "display_data"
    },
    {
     "data": {
      "image/png": "[encoded data removed]",
      "text/plain": [
       "<Figure size 432x288 with 1 Axes>"
      ]
     },
     "metadata": {
      "needs_background": "light"
     },
     "output_type": "display_data"
    },
    {
     "data": {
      "image/png": "[encoded data removed]",
      "text/plain": [
       "<Figure size 432x288 with 1 Axes>"
      ]
     },
     "metadata": {
      "needs_background": "light"
     },
     "output_type": "display_data"
    }
   ],
   "source": [
    "sanityChecks.discProbVsError(train_data,disc2,device)\n",
    "sanityChecks.discProbVsError(test_data,disc2,device)"
   ]
  },
  {
   "cell_type": "markdown",
   "id": "130f3a4d",
   "metadata": {
    "id": "130f3a4d",
    "papermill": {
     "duration": 0.019737,
     "end_time": "2022-07-25T03:31:46.001845",
     "exception": false,
     "start_time": "2022-07-25T03:31:45.982108",
     "status": "completed"
    },
    "tags": []
   },
   "source": [
    "# skipGAN Model"
   ]
  },
  {
   "cell_type": "code",
   "execution_count": 19,
   "id": "4e43dad1",
   "metadata": {
    "execution": {
     "iopub.execute_input": "2022-07-25T03:31:46.042565Z",
     "iopub.status.busy": "2022-07-25T03:31:46.042278Z",
     "iopub.status.idle": "2022-07-25T03:31:46.052372Z",
     "shell.execute_reply": "2022-07-25T03:31:46.051334Z"
    },
    "id": "4e43dad1",
    "papermill": {
     "duration": 0.03775,
     "end_time": "2022-07-25T03:31:46.055160",
     "exception": false,
     "start_time": "2022-07-25T03:31:46.017410",
     "status": "completed"
    },
    "tags": []
   },
   "outputs": [],
   "source": [
    "#Generator\n",
    "gen3 = network.GeneratorWithSkipConnection(n_features+1).to(device)\n",
    "constraints=network.weightConstraint()\n",
    "#Discriminator \n",
    "disc3 = network.Discriminator(n_features+1).to(device)\n",
    "\n",
    "criterion = torch.nn.BCELoss()\n",
    "gen_opt = torch.optim.Adam(gen3.parameters(), lr=0.01, betas=(0.5, 0.999))\n",
    "disc_opt = torch.optim.Adam(disc3.parameters(), lr=0.01, betas=(0.5, 0.999))\n"
   ]
  },
  {
   "cell_type": "code",
   "execution_count": 20,
   "id": "26acbc37",
   "metadata": {
    "execution": {
     "iopub.execute_input": "2022-07-25T03:31:46.094963Z",
     "iopub.status.busy": "2022-07-25T03:31:46.094321Z",
     "iopub.status.idle": "2022-07-25T03:39:30.704318Z",
     "shell.execute_reply": "2022-07-25T03:39:30.702938Z"
    },
    "id": "26acbc37",
    "papermill": {
     "duration": 464.637021,
     "end_time": "2022-07-25T03:39:30.707578",
     "exception": false,
     "start_time": "2022-07-25T03:31:46.070557",
     "status": "completed"
    },
    "tags": []
   },
   "outputs": [
    {
     "data": {
      "image/png": "[encoded data removed]",
      "text/plain": [
       "<Figure size 432x288 with 1 Axes>"
      ]
     },
     "metadata": {
      "needs_background": "light"
     },
     "output_type": "display_data"
    },
    {
     "data": {
      "image/png": "[encoded data removed]",
      "text/plain": [
       "<Figure size 432x288 with 1 Axes>"
      ]
     },
     "metadata": {
      "needs_background": "light"
     },
     "output_type": "display_data"
    }
   ],
   "source": [
    "ABC_train_test2.training_GAN_skip_connection(disc3,gen3,disc_opt,gen_opt,train_data,batch_size,n_epochs,criterion,prior_model,variance,bias,device)"
   ]
  },
  {
   "cell_type": "code",
   "execution_count": 21,
   "id": "c5e0717b",
   "metadata": {
    "execution": {
     "iopub.execute_input": "2022-07-25T03:39:30.761472Z",
     "iopub.status.busy": "2022-07-25T03:39:30.761148Z",
     "iopub.status.idle": "2022-07-25T03:39:32.718350Z",
     "shell.execute_reply": "2022-07-25T03:39:32.717010Z"
    },
    "id": "c5e0717b",
    "papermill": {
     "duration": 1.981669,
     "end_time": "2022-07-25T03:39:32.721217",
     "exception": false,
     "start_time": "2022-07-25T03:39:30.739548",
     "status": "completed"
    },
    "tags": []
   },
   "outputs": [
    {
     "data": {
      "application/scrapbook.scrap.json+json": {
       "data": 0.027221483409148556,
       "encoder": "json",
       "name": "ABC-GAN Model 3 MSE",
       "version": 1
      }
     },
     "metadata": {
      "scrapbook": {
       "data": true,
       "display": false,
       "name": "ABC-GAN Model 3 MSE"
      }
     },
     "output_type": "display_data"
    },
    {
     "data": {
      "application/scrapbook.scrap.json+json": {
       "data": 0.13195270584968777,
       "encoder": "json",
       "name": "ABC-GAN Model 3 MAE",
       "version": 1
      }
     },
     "metadata": {
      "scrapbook": {
       "data": true,
       "display": false,
       "name": "ABC-GAN Model 3 MAE"
      }
     },
     "output_type": "display_data"
    },
    {
     "data": {
      "application/scrapbook.scrap.json+json": {
       "data": 20.320716700851918,
       "encoder": "json",
       "name": "ABC-GAN Model 3 Manhattan Distance",
       "version": 1
      }
     },
     "metadata": {
      "scrapbook": {
       "data": true,
       "display": false,
       "name": "ABC-GAN Model 3 Manhattan Distance"
      }
     },
     "output_type": "display_data"
    },
    {
     "data": {
      "application/scrapbook.scrap.json+json": {
       "data": 2.0456191906027383,
       "encoder": "json",
       "name": "ABC-GAN Model 3 Euclidean distance",
       "version": 1
      }
     },
     "metadata": {
      "scrapbook": {
       "data": true,
       "display": false,
       "name": "ABC-GAN Model 3 Euclidean distance"
      }
     },
     "output_type": "display_data"
    },
    {
     "data": {
      "application/scrapbook.scrap.json+json": {
       "data": [
        [
         0.02591818632692772,
         0.023458775148395433,
         0.02583105415283194,
         0.026459882032972885,
         0.0298351025718913,
         0.026425341179639638,
         0.025679525149553607,
         0.0295211728981208,
         0.03160415848272015,
         0.028768388239560204,
         0.02939514060913001,
         0.025895992158053934,
         0.0333432406767026,
         0.02594478277248102,
         0.02172178355404478,
         0.025121084635343537,
         0.0256074561938964,
         0.0290710324016086,
         0.02460035833874112,
         0.027066644938124402,
         0.029987150890380423,
         0.02401582067782779,
         0.025976373517510427,
         0.02515720012089764,
         0.02809593721836627,
         0.025023008474580874,
         0.025538196179356182,
         0.028328000800889153,
         0.027689761223481428,
         0.028707461957712625,
         0.02218428483301344,
         0.02601109308953209,
         0.029071136495048215,
         0.027587683924673062,
         0.02301767819431723,
         0.023794226121760034,
         0.03075138200411697,
         0.02636719653633999,
         0.024350892471502548,
         0.02678237169345335,
         0.02347811826774486,
         0.030040038379550497,
         0.029548838808544243,
         0.027267691057956206,
         0.02815090947671917,
         0.02719432274972474,
         0.027088770785126146,
         0.030987997296021412,
         0.02533530890065926,
         0.031976709744403115,
         0.02791821811815191,
         0.02372886928199582,
         0.026941441383650563,
         0.030866052422191155,
         0.027070923251632708,
         0.029150531481728057,
         0.025730363936024472,
         0.02439568495147245,
         0.027748783395881646,
         0.02668879077094267,
         0.027145588514100615,
         0.02729110452041695,
         0.02967221360526615,
         0.024666083664420475,
         0.02855589586139838,
         0.027005390661014924,
         0.024929079935902113,
         0.028167851167598883,
         0.02577768757770143,
         0.026915112509720007,
         0.02547341391236673,
         0.0290270623169649,
         0.027337756217079835,
         0.02820594356851408,
         0.02471870121058823,
         0.03079533015946424,
         0.027294396169586628,
         0.02756204076501158,
         0.026442419062678583,
         0.02738194105276087,
         0.029178312626986985,
         0.0267229312830491,
         0.03191935054976632,
         0.02855979639358852,
         0.02997880260045423,
         0.028707745671015267,
         0.026255774929200195,
         0.028242770366058087,
         0.02482670225702918,
         0.02695357375834891,
         0.029470597618729666,
         0.021661104849602156,
         0.030127966652536666,
         0.02643632556730717,
         0.028928765845065985,
         0.027528453889136786,
         0.029469019321990437,
         0.025066717653744835,
         0.02837823658704535,
         0.028356056696023216
        ],
        [
         0.12806328763435412,
         0.12287296766004005,
         0.12721310057616853,
         0.12682941270532547,
         0.13789470556688,
         0.1319239441934344,
         0.1258384727135107,
         0.1379723698384576,
         0.1393834285728343,
         0.14102811671116136,
         0.13732041520151225,
         0.12818517661713935,
         0.14573243865138524,
         0.1252856327632031,
         0.11792514003910028,
         0.12710186065017404,
         0.12637486516848787,
         0.1365264281630516,
         0.12236347359109234,
         0.1322409658172688,
         0.14065342246518506,
         0.12402048886015818,
         0.12302113145396307,
         0.12693542488790177,
         0.13235898296554366,
         0.12665045575855613,
         0.13114599123984189,
         0.13836163974234036,
         0.1351735827500944,
         0.1345320786651853,
         0.1163918859289064,
         0.12646055574734488,
         0.13786480396792486,
         0.13229436209643042,
         0.12338819098356482,
         0.12187538794302322,
         0.1360956866342526,
         0.13167336133199853,
         0.12692588732227103,
         0.13078880276192317,
         0.12230741750303802,
         0.1400899477303028,
         0.1408833839579836,
         0.13340745590530434,
         0.1334088793532415,
         0.13377979683218064,
         0.1310839377730698,
         0.13862303716989308,
         0.12601719240283038,
         0.13879207995804874,
         0.1352114671139748,
         0.12380739354661532,
         0.1304848449086988,
         0.13870386237447913,
         0.1276355412389551,
         0.1364332547338752,
         0.13212555903312448,
         0.12375125738900977,
         0.13775055231405542,
         0.13073230554144105,
         0.13599722653433874,
         0.13065459975948582,
         0.13738379453296784,
         0.12858226455070756,
         0.13412197984077714,
         0.13158479279705457,
         0.12569887360388582,
         0.1323431548360106,
         0.13076210539642866,
         0.13377860759372834,
         0.13281880323956538,
         0.13922041794889933,
         0.13004958392544227,
         0.13240601794866771,
         0.1252168101536763,
         0.14102017419872345,
         0.13269556134745672,
         0.13197097816057018,
         0.12834029756002613,
         0.13390273750795947,
         0.13725161363745664,
         0.13383970820865074,
         0.142993196893435,
         0.13756741989742627,
         0.13924675526750552,
         0.13543037213868908,
         0.12903507184479143,
         0.1359087551472249,
         0.1298611138451409,
         0.12607923251661388,
         0.1381487345637439,
         0.11873554351267876,
         0.14159613160730958,
         0.1329658290298728,
         0.13852264727284383,
         0.13068919483717387,
         0.13696573147332514,
         0.12279717067812944,
         0.13348988893550712,
         0.1358801991037734
        ],
        [
         19.721746295690536,
         18.922437019646168,
         19.590817488729954,
         19.53172955662012,
         21.23578465729952,
         20.3162874057889,
         19.37912479788065,
         21.24774495512247,
         21.465048000216484,
         21.71832997351885,
         21.147343941032887,
         19.74051719903946,
         22.442795552313328,
         19.293987445533276,
         18.160471566021442,
         19.5736865401268,
         19.461729235947132,
         21.025069937109947,
         18.84397493302822,
         20.365108735859394,
         21.6606270596385,
         19.09915528446436,
         18.945254243910313,
         19.548055432736874,
         20.383283376693726,
         19.504170186817646,
         20.19648265093565,
         21.307692520320415,
         20.816731743514538,
         20.717940114438534,
         17.924350433051586,
         19.474925585091114,
         21.23117981106043,
         20.373331762850285,
         19.001781411468983,
         18.768809743225574,
         20.9587357416749,
         20.277697645127773,
         19.546586647629738,
         20.14147562533617,
         18.835342295467854,
         21.573851950466633,
         21.696041129529476,
         20.544748209416866,
         20.54496742039919,
         20.60208871215582,
         20.186926417052746,
         21.347947724163532,
         19.406647630035877,
         21.373980313539505,
         20.82256593555212,
         19.06633860617876,
         20.094666115939617,
         21.360394805669785,
         19.655873350799084,
         21.01072122901678,
         20.34733609110117,
         19.057693637907505,
         21.213585056364536,
         20.13277505338192,
         20.943572886288166,
         20.120808362960815,
         21.15710435807705,
         19.801668740808964,
         20.65478489547968,
         20.264058090746403,
         19.357626534998417,
         20.380845844745636,
         20.137364231050014,
         20.601905569434166,
         20.45409569889307,
         21.439944364130497,
         20.02763592451811,
         20.39052676409483,
         19.283388763666153,
         21.717106826603413,
         20.435116447508335,
         20.32353063672781,
         19.764405824244022,
         20.621021576225758,
         21.136748500168324,
         20.611315064132214,
         22.020952321588993,
         21.185382664203644,
         21.44400031119585,
         20.85627730935812,
         19.87140106409788,
         20.929948292672634,
         19.9986115321517,
         19.416201807558537,
         21.274905122816563,
         18.28527370095253,
         21.805804267525673,
         20.476737670600414,
         21.332487680017948,
         20.126136004924774,
         21.09272264689207,
         18.910764284431934,
         20.557442896068096,
         20.925550661981106
        ],
        [
         1.9978490169046481,
         1.9006976016328572,
         1.9944879893185916,
         2.0186187934025144,
         2.1435031597996907,
         2.017300805944543,
         1.9886293955966898,
         2.13219619789329,
         2.2061369872106544,
         2.10483533533915,
         2.127639925787731,
         1.9969934382316599,
         2.2660227413272356,
         1.9988738196699853,
         1.828976398787829,
         1.9668876515558544,
         1.985836915222407,
         2.115877829612977,
         1.9463954336583644,
         2.041632513571225,
         2.1489581748183433,
         1.9231319206922544,
         2.000090378382088,
         1.968300997972169,
         2.0800899816182,
         1.9630443971254075,
         1.983149568646009,
         2.0886627595992917,
         2.0649995710450253,
         2.102605322329358,
         1.8483451691402422,
         2.001426575167808,
         2.1158816177275668,
         2.0611897836928192,
         1.8827433287426232,
         1.9142389669921165,
         2.176169301463931,
         2.015080213439742,
         1.9365013402038718,
         2.0308828722483763,
         1.901481057815909,
         2.1508523683532483,
         2.133195062931614,
         2.0492009230246935,
         2.082123929888601,
         2.0464422062344223,
         2.042466817578544,
         2.184525482476068,
         1.9752563303788007,
         2.2191019130806224,
         2.073500805448455,
         1.9116081893074626,
         2.036904998541215,
         2.1802229411272225,
         2.0417938634327015,
         2.118768946389889,
         1.9905969069974383,
         1.938281579783174,
         2.067199226723388,
         2.027331689370334,
         2.044607696153835,
         2.0500805096737564,
         2.137643771822374,
         1.948993813310025,
         2.0970474392953893,
         2.0393210050887762,
         1.9593566061666583,
         2.0827503642564147,
         1.9924266327687,
         2.035909459307285,
         1.9806326621825856,
         2.114277086101203,
         2.0518319759254884,
         2.084158177670583,
         1.9510714970063467,
         2.177723776000412,
         2.050204138644818,
         2.060231607808157,
         2.0179525603077244,
         2.053489450210342,
         2.119778324390547,
         2.0286279643122245,
         2.2171107290038568,
         2.0971906552845003,
         2.1486590237797043,
         2.1026157122347278,
         2.0108180770763,
         2.0855183136028668,
         1.955329166044043,
         2.0373635804111476,
         2.130368989936806,
         1.826420035708854,
         2.153997879407184,
         2.0177200344362207,
         2.1106941844189935,
         2.058975934518678,
         2.1303119432577304,
         1.9647581323604961,
         2.0905139163385122,
         2.0896968036506096
        ]
       ],
       "encoder": "json",
       "name": "ABC_GAN_3 Metrics",
       "version": 1
      }
     },
     "metadata": {
      "scrapbook": {
       "data": true,
       "display": false,
       "name": "ABC_GAN_3 Metrics"
      }
     },
     "output_type": "display_data"
    },
    {
     "name": "stdout",
     "output_type": "stream",
     "text": [
      "MAE\n",
      "0.13195270584968777\n"
     ]
    }
   ],
   "source": [
    "ABC_GAN3_metrics=ABC_train_test2.test_generator(gen3,test_data,prior_model,variance,bias,\"3\",device)\n",
    "sb.glue(\"ABC_GAN_3 Metrics\",ABC_GAN3_metrics)\n",
    "\n",
    "print(\"MAE\")\n",
    "print(mean(ABC_GAN3_metrics[1]))"
   ]
  },
  {
   "cell_type": "code",
   "execution_count": 22,
   "id": "c8e46b48",
   "metadata": {
    "execution": {
     "iopub.execute_input": "2022-07-25T03:39:32.873236Z",
     "iopub.status.busy": "2022-07-25T03:39:32.872901Z",
     "iopub.status.idle": "2022-07-25T03:39:34.025530Z",
     "shell.execute_reply": "2022-07-25T03:39:34.024514Z"
    },
    "id": "c8e46b48",
    "papermill": {
     "duration": 1.187305,
     "end_time": "2022-07-25T03:39:34.028240",
     "exception": false,
     "start_time": "2022-07-25T03:39:32.840935",
     "status": "completed"
    },
    "tags": []
   },
   "outputs": [
    {
     "data": {
      "image/png": "[encoded data removed]",
      "text/plain": [
       "<Figure size 432x288 with 1 Axes>"
      ]
     },
     "metadata": {
      "needs_background": "light"
     },
     "output_type": "display_data"
    },
    {
     "data": {
      "image/png": "[encoded data removed]",
      "text/plain": [
       "<Figure size 432x288 with 1 Axes>"
      ]
     },
     "metadata": {
      "needs_background": "light"
     },
     "output_type": "display_data"
    },
    {
     "data": {
      "image/png": "[encoded data removed]",
      "text/plain": [
       "<Figure size 432x288 with 1 Axes>"
      ]
     },
     "metadata": {
      "needs_background": "light"
     },
     "output_type": "display_data"
    },
    {
     "data": {
      "image/png": "[encoded data removed]",
      "text/plain": [
       "<Figure size 432x288 with 1 Axes>"
      ]
     },
     "metadata": {
      "needs_background": "light"
     },
     "output_type": "display_data"
    }
   ],
   "source": [
    "sanityChecks.discProbVsError(train_data,disc3,device)\n",
    "sanityChecks.discProbVsError(test_data,disc3,device)"
   ]
  },
  {
   "cell_type": "markdown",
   "id": "f5100464",
   "metadata": {
    "id": "130f3a4d",
    "papermill": {
     "duration": 0.021625,
     "end_time": "2022-07-25T03:39:34.072042",
     "exception": false,
     "start_time": "2022-07-25T03:39:34.050417",
     "status": "completed"
    },
    "tags": []
   },
   "source": [
    "# skipGAN Model with TabNet Generator"
   ]
  },
  {
   "cell_type": "code",
   "execution_count": 23,
   "id": "7891f8f5",
   "metadata": {
    "execution": {
     "iopub.execute_input": "2022-07-25T03:39:34.116279Z",
     "iopub.status.busy": "2022-07-25T03:39:34.115946Z",
     "iopub.status.idle": "2022-07-25T03:39:34.134017Z",
     "shell.execute_reply": "2022-07-25T03:39:34.133122Z"
    },
    "id": "4e43dad1",
    "papermill": {
     "duration": 0.043807,
     "end_time": "2022-07-25T03:39:34.137180",
     "exception": false,
     "start_time": "2022-07-25T03:39:34.093373",
     "status": "completed"
    },
    "tags": []
   },
   "outputs": [],
   "source": [
    "#Generator\n",
    "gen4 = network.GeneratorTabnetskipConnection(n_features+1).to(device)\n",
    "constraints=network.weightConstraint()\n",
    "#Discriminator \n",
    "disc4 = network.Discriminator(n_features+1).to(device)\n",
    "\n",
    "criterion = torch.nn.BCELoss()\n",
    "gen_opt = torch.optim.Adam(gen4.parameters(), lr=0.01, betas=(0.5, 0.999))\n",
    "disc_opt = torch.optim.Adam(disc4.parameters(), lr=0.01, betas=(0.5, 0.999))\n"
   ]
  },
  {
   "cell_type": "code",
   "execution_count": 24,
   "id": "a119411f",
   "metadata": {
    "execution": {
     "iopub.execute_input": "2022-07-25T03:39:34.183427Z",
     "iopub.status.busy": "2022-07-25T03:39:34.183090Z",
     "iopub.status.idle": "2022-07-25T04:01:29.679968Z",
     "shell.execute_reply": "2022-07-25T04:01:29.678651Z"
    },
    "id": "26acbc37",
    "papermill": {
     "duration": 1315.525035,
     "end_time": "2022-07-25T04:01:29.683628",
     "exception": false,
     "start_time": "2022-07-25T03:39:34.158593",
     "status": "completed"
    },
    "tags": []
   },
   "outputs": [
    {
     "data": {
      "image/png": "[encoded data removed]",
      "text/plain": [
       "<Figure size 432x288 with 1 Axes>"
      ]
     },
     "metadata": {
      "needs_background": "light"
     },
     "output_type": "display_data"
    },
    {
     "data": {
      "image/png": "[encoded data removed]",
      "text/plain": [
       "<Figure size 432x288 with 1 Axes>"
      ]
     },
     "metadata": {
      "needs_background": "light"
     },
     "output_type": "display_data"
    }
   ],
   "source": [
    "ABC_train_test2.training_GAN_skip_connection(disc4,gen4,disc_opt,gen_opt,train_data,batch_size,n_epochs,criterion,prior_model,variance,bias,device)"
   ]
  },
  {
   "cell_type": "code",
   "execution_count": 25,
   "id": "a9a99677",
   "metadata": {
    "execution": {
     "iopub.execute_input": "2022-07-25T04:01:29.736089Z",
     "iopub.status.busy": "2022-07-25T04:01:29.735758Z",
     "iopub.status.idle": "2022-07-25T04:01:34.674185Z",
     "shell.execute_reply": "2022-07-25T04:01:34.672376Z"
    },
    "id": "c5e0717b",
    "papermill": {
     "duration": 4.969315,
     "end_time": "2022-07-25T04:01:34.677672",
     "exception": false,
     "start_time": "2022-07-25T04:01:29.708357",
     "status": "completed"
    },
    "tags": []
   },
   "outputs": [
    {
     "data": {
      "application/scrapbook.scrap.json+json": {
       "data": 0.019886526454265578,
       "encoder": "json",
       "name": "ABC-GAN Model 3 MSE",
       "version": 1
      }
     },
     "metadata": {
      "scrapbook": {
       "data": true,
       "display": false,
       "name": "ABC-GAN Model 3 MSE"
      }
     },
     "output_type": "display_data"
    },
    {
     "data": {
      "application/scrapbook.scrap.json+json": {
       "data": 0.11513910232362785,
       "encoder": "json",
       "name": "ABC-GAN Model 3 MAE",
       "version": 1
      }
     },
     "metadata": {
      "scrapbook": {
       "data": true,
       "display": false,
       "name": "ABC-GAN Model 3 MAE"
      }
     },
     "output_type": "display_data"
    },
    {
     "data": {
      "application/scrapbook.scrap.json+json": {
       "data": 17.73142175783869,
       "encoder": "json",
       "name": "ABC-GAN Model 3 Manhattan Distance",
       "version": 1
      }
     },
     "metadata": {
      "scrapbook": {
       "data": true,
       "display": false,
       "name": "ABC-GAN Model 3 Manhattan Distance"
      }
     },
     "output_type": "display_data"
    },
    {
     "data": {
      "application/scrapbook.scrap.json+json": {
       "data": 1.7476840128607143,
       "encoder": "json",
       "name": "ABC-GAN Model 3 Euclidean distance",
       "version": 1
      }
     },
     "metadata": {
      "scrapbook": {
       "data": true,
       "display": false,
       "name": "ABC-GAN Model 3 Euclidean distance"
      }
     },
     "output_type": "display_data"
    },
    {
     "data": {
      "application/scrapbook.scrap.json+json": {
       "data": [
        [
         0.01605648071571251,
         0.021041662145519842,
         0.019102064229069515,
         0.018954410266271683,
         0.018603284970478036,
         0.023257696816807595,
         0.021062883475024788,
         0.017346428869524772,
         0.01955962762073897,
         0.022080040630159174,
         0.01758601492241846,
         0.020589163735639363,
         0.017639356658176956,
         0.018028306254469474,
         0.01887659962054371,
         0.019167878151149117,
         0.01619353524600019,
         0.021824126591913053,
         0.022384051013299638,
         0.02217893252491309,
         0.023320542227706006,
         0.02015604547262789,
         0.019189137675719597,
         0.018797469000877684,
         0.022325508454431445,
         0.0169710550375214,
         0.022083871018522723,
         0.019420436799536703,
         0.019394876315219182,
         0.023421601081597538,
         0.02011795305425332,
         0.019432880102756348,
         0.019067087284820934,
         0.019579757008065357,
         0.020112073673086435,
         0.02201731582018599,
         0.021367760739569863,
         0.01802010983175302,
         0.021409530017331153,
         0.02120500167785238,
         0.01842108676905091,
         0.020237613627246822,
         0.01823325035437151,
         0.01824601957500117,
         0.022421360160516275,
         0.020786552195739112,
         0.023250053164211137,
         0.01922274686487286,
         0.02203185029920878,
         0.016836104162377487,
         0.022936304603431663,
         0.02068530745862783,
         0.01887185706895131,
         0.017125748066824265,
         0.01743291372387572,
         0.02385205877344055,
         0.017410336800196945,
         0.02001571812409194,
         0.018044234054070674,
         0.018472426314045304,
         0.021096712541823357,
         0.020567558456468876,
         0.020211744897454132,
         0.019551163912648488,
         0.015432200476015692,
         0.02077611764797369,
         0.021160335474087008,
         0.02273157261488629,
         0.020603685514929408,
         0.021047477796260282,
         0.01841162739463828,
         0.02017875925252003,
         0.01870257083316901,
         0.021374295610417503,
         0.025447549314880993,
         0.01919541742262606,
         0.021658236694147837,
         0.01960569973807332,
         0.020729279078399773,
         0.017181223912879986,
         0.021420640313193327,
         0.02100131180081663,
         0.017710761710296466,
         0.016836590877432646,
         0.01716216312208996,
         0.020075190087029966,
         0.023526074634937506,
         0.020651949550312736,
         0.018832181997794645,
         0.01689304803289755,
         0.018209881711389434,
         0.019211520816205824,
         0.02120249321259745,
         0.017586765903742214,
         0.02421224517704632,
         0.019410533500528765,
         0.01890014624963165,
         0.021562742588467073,
         0.01884232865780715,
         0.0162647479866233
        ],
        [
         0.10093537451965469,
         0.12092351918290188,
         0.11168255579548997,
         0.11014384994065607,
         0.10991273303939537,
         0.1263478041759559,
         0.11963682026638613,
         0.10596869692399905,
         0.11825346854793561,
         0.12233428526427839,
         0.10404972853018092,
         0.1204009662781443,
         0.1068230333629173,
         0.11057869976313857,
         0.11169843878838923,
         0.11487386167629973,
         0.10626828864023283,
         0.11928343376168957,
         0.12185375813346405,
         0.12238339368592609,
         0.12588550276183463,
         0.11068885226721888,
         0.11212372400060103,
         0.11042891021866302,
         0.12051093868620984,
         0.10684500608061041,
         0.11855265938422897,
         0.11190935083991521,
         0.11203139033410456,
         0.12577628349135447,
         0.11592530730095776,
         0.11297454721258059,
         0.11331164846559624,
         0.11443635569764422,
         0.11574970748783513,
         0.11876180293885144,
         0.12101438433512465,
         0.10746385524799297,
         0.1177716191325869,
         0.11836509764581532,
         0.11083274465296175,
         0.11896913895359287,
         0.11297179250554605,
         0.11069334820880518,
         0.12237198892738912,
         0.11701172541875343,
         0.13019734741998956,
         0.11048529389036166,
         0.1246812566631026,
         0.10345657943905175,
         0.12683366718036787,
         0.11598595101144407,
         0.111418022907206,
         0.10485314617731742,
         0.10577788760329222,
         0.12677132541180722,
         0.10902535552521805,
         0.11531123757217225,
         0.11245353529592614,
         0.11285787622456427,
         0.12188724984789824,
         0.11911666223948653,
         0.11501015882406916,
         0.11633177812803876,
         0.10197981751777908,
         0.11824722237909188,
         0.11951416174506212,
         0.1246036896844963,
         0.11622234119416831,
         0.11848602185098382,
         0.11353297613851436,
         0.11588570654585764,
         0.11182653705601568,
         0.12062519261395777,
         0.13269046476328528,
         0.11384369132967738,
         0.12148395478241629,
         0.11154153381849265,
         0.11503855937293597,
         0.10843594623850537,
         0.11890230168189321,
         0.11610322419021811,
         0.104481677343319,
         0.10535397320114948,
         0.10759233455959853,
         0.11506658052275708,
         0.12823536358289905,
         0.11981893149385979,
         0.11441816776603847,
         0.10516234066385727,
         0.10784427720037373,
         0.1170452931387858,
         0.11830812891001825,
         0.11017302264060293,
         0.1316356627972095,
         0.11320239068432288,
         0.112461357679847,
         0.12150760397750449,
         0.11081645550665917,
         0.10163860395550728
        ],
        [
         15.544047676026821,
         18.62222195416689,
         17.199113592505455,
         16.962152890861034,
         16.926560888066888,
         19.45756184309721,
         18.424070321023464,
         16.319179326295853,
         18.211034156382084,
         18.83947993069887,
         16.02365819364786,
         18.54174880683422,
         16.450747137889266,
         17.02911976352334,
         17.20155957341194,
         17.690574698150158,
         16.365316450595856,
         18.369648799300194,
         18.765478752553463,
         18.847042627632618,
         19.386367425322533,
         17.046083249151707,
         17.267053496092558,
         17.006052173674107,
         18.558684557676315,
         16.454130936414003,
         18.25710954517126,
         17.234040029346943,
         17.252834111452103,
         19.36954765766859,
         17.852497324347496,
         17.39808027073741,
         17.44999386370182,
         17.62319877743721,
         17.82545495312661,
         18.289317652583122,
         18.636215187609196,
         16.549433708190918,
         18.13682934641838,
         18.22822503745556,
         17.06824267655611,
         18.321247398853302,
         17.39765604585409,
         17.046775624156,
         18.845286294817924,
         18.01980571448803,
         20.050391502678394,
         17.014735259115696,
         19.2009135261178,
         15.932313233613968,
         19.532384745776653,
         17.861836455762386,
         17.158375527709723,
         16.147384511306882,
         16.289794690907,
         19.52278411341831,
         16.78990475088358,
         17.757930586114526,
         17.317844435572624,
         17.380112938582897,
         18.77063647657633,
         18.343965984880924,
         17.71156445890665,
         17.915093831717968,
         15.70489189773798,
         18.21007224638015,
         18.405180908739567,
         19.18896821141243,
         17.89824054390192,
         18.246847365051508,
         17.48407832533121,
         17.846398808062077,
         17.221286706626415,
         18.576279662549496,
         20.434331573545933,
         17.531928464770317,
         18.70852903649211,
         17.177396208047867,
         17.71593814343214,
         16.699135720729828,
         18.310954459011555,
         17.87989652529359,
         16.090178310871124,
         16.22451187297702,
         16.569219522178173,
         17.72025340050459,
         19.748245991766453,
         18.452115450054407,
         17.620397835969925,
         16.19500046223402,
         16.608018688857555,
         18.024975143373013,
         18.21945185214281,
         16.96664548665285,
         20.271892070770264,
         17.433168165385723,
         17.319049082696438,
         18.71217101253569,
         17.065734148025513,
         15.65234500914812
        ],
        [
         1.5724814880372129,
         1.8001155436277017,
         1.715143694060852,
         1.708502028387979,
         1.692603286494983,
         1.8925340973912121,
         1.80102305791842,
         1.6344265189682938,
         1.7355640736065614,
         1.8439973581988973,
         1.6456750280819246,
         1.7806547153472685,
         1.6481689614111932,
         1.6662410279393252,
         1.704991595745777,
         1.7180958166752411,
         1.5791784028044549,
         1.8332799827507553,
         1.8566485548019434,
         1.8481221844987998,
         1.8950893126886459,
         1.761826042146243,
         1.7190483419790201,
         1.7014141841818422,
         1.8542190544761539,
         1.6166454391047826,
         1.8441572972098936,
         1.729377710949419,
         1.7282392636853712,
         1.8991910295086223,
         1.760160438810909,
         1.7299316564027833,
         1.7135727127444649,
         1.7364569039403384,
         1.759903220536661,
         1.8413762886245284,
         1.814010792110609,
         1.6658622134168135,
         1.815782922782621,
         1.8070888905610776,
         1.684294321795879,
         1.7653873508655291,
         1.6756851000630197,
         1.676271760350982,
         1.8581952170639944,
         1.7891699299238804,
         1.8922230807408822,
         1.720553113737097,
         1.8419839700926153,
         1.6102049686316748,
         1.8794123839457046,
         1.7848073701743519,
         1.704777401486335,
         1.6239966755787822,
         1.6384958692278906,
         1.9165638656485842,
         1.637434538303846,
         1.7556823719312553,
         1.6669769177546772,
         1.6866397518032643,
         1.8024687879241617,
         1.779720203373611,
         1.7642586868733101,
         1.7351885322776506,
         1.5416091830637286,
         1.7887208048736807,
         1.8051846617477667,
         1.8710056607857946,
         1.781282563014394,
         1.800364291087802,
         1.6838618170070534,
         1.7628184605591366,
         1.6971139939049549,
         1.8142881590321576,
         1.9796268826452303,
         1.7193296028058183,
         1.8262991132064779,
         1.7376069059667354,
         1.786703382790094,
         1.6266248745741958,
         1.8162540043264246,
         1.798388728091277,
         1.651501529937425,
         1.610228243176919,
         1.6257223381629022,
         1.7582887343672013,
         1.9034220482542425,
         1.783367665611374,
         1.7029844472749525,
         1.612925725836817,
         1.6746109349798157,
         1.7200506404451286,
         1.8069820017753377,
         1.645710165605202,
         1.9309805170599554,
         1.7289367134402085,
         1.7060546657253612,
         1.8222684650248242,
         1.7034431640950929,
         1.582646893637361
        ]
       ],
       "encoder": "json",
       "name": "ABC_GAN_4 Metrics",
       "version": 1
      }
     },
     "metadata": {
      "scrapbook": {
       "data": true,
       "display": false,
       "name": "ABC_GAN_4 Metrics"
      }
     },
     "output_type": "display_data"
    },
    {
     "name": "stdout",
     "output_type": "stream",
     "text": [
      "MAE\n",
      "0.11513910232362785\n"
     ]
    }
   ],
   "source": [
    "ABC_GAN4_metrics=ABC_train_test2.test_generator(gen4,test_data,prior_model,variance,bias,\"3\",device)\n",
    "sb.glue(\"ABC_GAN_4 Metrics\",ABC_GAN4_metrics)\n",
    "\n",
    "print(\"MAE\")\n",
    "print(mean(ABC_GAN4_metrics[1]))"
   ]
  },
  {
   "cell_type": "code",
   "execution_count": 26,
   "id": "410efddd",
   "metadata": {
    "execution": {
     "iopub.execute_input": "2022-07-25T04:01:34.732883Z",
     "iopub.status.busy": "2022-07-25T04:01:34.732502Z",
     "iopub.status.idle": "2022-07-25T04:01:35.834638Z",
     "shell.execute_reply": "2022-07-25T04:01:35.833723Z"
    },
    "id": "c8e46b48",
    "papermill": {
     "duration": 1.136673,
     "end_time": "2022-07-25T04:01:35.837059",
     "exception": false,
     "start_time": "2022-07-25T04:01:34.700386",
     "status": "completed"
    },
    "tags": []
   },
   "outputs": [
    {
     "data": {
      "image/png": "[encoded data removed]",
      "text/plain": [
       "<Figure size 432x288 with 1 Axes>"
      ]
     },
     "metadata": {
      "needs_background": "light"
     },
     "output_type": "display_data"
    },
    {
     "data": {
      "image/png": "[encoded data removed]",
      "text/plain": [
       "<Figure size 432x288 with 1 Axes>"
      ]
     },
     "metadata": {
      "needs_background": "light"
     },
     "output_type": "display_data"
    },
    {
     "data": {
      "image/png": "[encoded data removed]",
      "text/plain": [
       "<Figure size 432x288 with 1 Axes>"
      ]
     },
     "metadata": {
      "needs_background": "light"
     },
     "output_type": "display_data"
    },
    {
     "data": {
      "image/png": "[encoded data removed]",
      "text/plain": [
       "<Figure size 432x288 with 1 Axes>"
      ]
     },
     "metadata": {
      "needs_background": "light"
     },
     "output_type": "display_data"
    }
   ],
   "source": [
    "sanityChecks.discProbVsError(train_data,disc4,device)\n",
    "sanityChecks.discProbVsError(test_data,disc4,device)"
   ]
  },
  {
   "cell_type": "markdown",
   "id": "a5bd74c3",
   "metadata": {
    "id": "a5bd74c3",
    "papermill": {
     "duration": 0.038275,
     "end_time": "2022-07-25T04:01:35.909413",
     "exception": false,
     "start_time": "2022-07-25T04:01:35.871138",
     "status": "completed"
    },
    "tags": []
   },
   "source": [
    "## Skip Connection Model Analysis - ABC-GAN "
   ]
  },
  {
   "cell_type": "markdown",
   "id": "5744a8bf",
   "metadata": {
    "id": "5744a8bf",
    "papermill": {
     "duration": 0.02673,
     "end_time": "2022-07-25T04:01:35.962393",
     "exception": false,
     "start_time": "2022-07-25T04:01:35.935663",
     "status": "completed"
    },
    "tags": []
   },
   "source": [
    "### Weight Analysis \n",
    "\n",
    "Study the weights of the skip connection layer\n",
    "\n",
    "Equation of the skip connection is \n",
    "\n",
    "$output = y_{gan} * w + y_{abc} * (1-w)$"
   ]
  },
  {
   "cell_type": "code",
   "execution_count": 27,
   "id": "52c31dea",
   "metadata": {
    "execution": {
     "iopub.execute_input": "2022-07-25T04:01:36.027353Z",
     "iopub.status.busy": "2022-07-25T04:01:36.026820Z",
     "iopub.status.idle": "2022-07-25T04:01:36.043040Z",
     "shell.execute_reply": "2022-07-25T04:01:36.042046Z"
    },
    "id": "52c31dea",
    "papermill": {
     "duration": 0.050443,
     "end_time": "2022-07-25T04:01:36.045690",
     "exception": false,
     "start_time": "2022-07-25T04:01:35.995247",
     "status": "completed"
    },
    "tags": []
   },
   "outputs": [
    {
     "name": "stdout",
     "output_type": "stream",
     "text": [
      "Weight of the node at skip connection\n",
      "Parameter containing:\n",
      "tensor([[0.0882]], requires_grad=True)\n"
     ]
    },
    {
     "data": {
      "application/scrapbook.scrap.json+json": {
       "data": 0.08816023170948029,
       "encoder": "json",
       "name": "Skip Connection Weight",
       "version": 1
      }
     },
     "metadata": {
      "scrapbook": {
       "data": true,
       "display": false,
       "name": "Skip Connection Weight"
      }
     },
     "output_type": "display_data"
    }
   ],
   "source": [
    "print(\"Weight of the node at skip connection\")\n",
    "for name,param in gen3.named_parameters():\n",
    "    if(name == \"skipNode.weight\"):\n",
    "        print(param)\n",
    "        sb.glue(\"Skip Connection Weight\",param.item())"
   ]
  },
  {
   "cell_type": "markdown",
   "id": "574ac7be",
   "metadata": {
    "id": "a5bd74c3",
    "papermill": {
     "duration": 0.02817,
     "end_time": "2022-07-25T04:01:36.108548",
     "exception": false,
     "start_time": "2022-07-25T04:01:36.080378",
     "status": "completed"
    },
    "tags": []
   },
   "source": [
    "## skipGAN Model Analysis (TabNet Generator) "
   ]
  },
  {
   "cell_type": "markdown",
   "id": "597da2c8",
   "metadata": {
    "id": "5744a8bf",
    "papermill": {
     "duration": 0.029184,
     "end_time": "2022-07-25T04:01:36.171123",
     "exception": false,
     "start_time": "2022-07-25T04:01:36.141939",
     "status": "completed"
    },
    "tags": []
   },
   "source": [
    "### Weight Analysis \n",
    "\n",
    "Study the weights of the skip connection layer\n",
    "\n",
    "Equation of the skip connection is \n",
    "\n",
    "$output = y_{gan} * w + y_{abc} * (1-w)$"
   ]
  },
  {
   "cell_type": "code",
   "execution_count": 28,
   "id": "962cc4e6",
   "metadata": {
    "execution": {
     "iopub.execute_input": "2022-07-25T04:01:36.228610Z",
     "iopub.status.busy": "2022-07-25T04:01:36.228128Z",
     "iopub.status.idle": "2022-07-25T04:01:36.241261Z",
     "shell.execute_reply": "2022-07-25T04:01:36.240291Z"
    },
    "id": "52c31dea",
    "papermill": {
     "duration": 0.047203,
     "end_time": "2022-07-25T04:01:36.245008",
     "exception": false,
     "start_time": "2022-07-25T04:01:36.197805",
     "status": "completed"
    },
    "tags": []
   },
   "outputs": [
    {
     "name": "stdout",
     "output_type": "stream",
     "text": [
      "Weight of the node at skip connection"
     ]
    },
    {
     "name": "stdout",
     "output_type": "stream",
     "text": [
      "\n",
      "Parameter containing:\n",
      "tensor([[0.0019]], requires_grad=True)\n"
     ]
    },
    {
     "data": {
      "application/scrapbook.scrap.json+json": {
       "data": 0.0019337778212502599,
       "encoder": "json",
       "name": "Skip Connection Weight",
       "version": 1
      }
     },
     "metadata": {
      "scrapbook": {
       "data": true,
       "display": false,
       "name": "Skip Connection Weight"
      }
     },
     "output_type": "display_data"
    }
   ],
   "source": [
    "print(\"Weight of the node at skip connection\")\n",
    "for name,param in gen4.named_parameters():\n",
    "    if(name == \"skipNode.weight\"):\n",
    "        print(param)\n",
    "        sb.glue(\"Skip Connection Weight\",param.item())"
   ]
  }
 ],
 "metadata": {
  "colab": {
   "collapsed_sections": [],
   "name": "ABC_GAN_Model-Catboost_Pre-gen.ipynb",
   "provenance": []
  },
  "interpreter": {
   "hash": "31f2aee4e71d21fbe5cf8b01ff0e069b9275f58929596ceb00d14d90e3e16cd6"
  },
  "kernelspec": {
   "display_name": "Python 3 (ipykernel)",
   "language": "python",
   "name": "python3"
  },
  "language_info": {
   "codemirror_mode": {
    "name": "ipython",
    "version": 3
   },
   "file_extension": ".py",
   "mimetype": "text/x-python",
   "name": "python",
   "nbconvert_exporter": "python",
   "pygments_lexer": "ipython3",
   "version": "3.8.13"
  },
  "papermill": {
   "default_parameters": {},
   "duration": 2808.513306,
   "end_time": "2022-07-25T04:01:37.286907",
   "environment_variables": {},
   "exception": null,
   "input_path": "ABC_GAN-Catboost.ipynb",
   "output_path": "./ABC_GAN_Catboost/ABC-GAN_output_2_4.ipynb",
   "parameters": {
    "bias": 0.1,
    "variance": 0.1
   },
   "start_time": "2022-07-25T03:14:48.773601",
   "version": "2.3.3"
  }
 },
 "nbformat": 4,
 "nbformat_minor": 5
}