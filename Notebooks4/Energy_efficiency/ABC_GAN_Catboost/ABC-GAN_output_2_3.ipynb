{
 "cells": [
  {
   "cell_type": "markdown",
   "id": "622780e6",
   "metadata": {
    "id": "622780e6",
    "papermill": {
     "duration": 0.010777,
     "end_time": "2022-07-25T02:28:03.593351",
     "exception": false,
     "start_time": "2022-07-25T02:28:03.582574",
     "status": "completed"
    },
    "tags": []
   },
   "source": [
    "## Import Libraries "
   ]
  },
  {
   "cell_type": "code",
   "execution_count": 1,
   "id": "a62397e3",
   "metadata": {
    "execution": {
     "iopub.execute_input": "2022-07-25T02:28:03.616470Z",
     "iopub.status.busy": "2022-07-25T02:28:03.615703Z",
     "iopub.status.idle": "2022-07-25T02:28:03.631204Z",
     "shell.execute_reply": "2022-07-25T02:28:03.630265Z"
    },
    "id": "a62397e3",
    "papermill": {
     "duration": 0.02927,
     "end_time": "2022-07-25T02:28:03.634635",
     "exception": false,
     "start_time": "2022-07-25T02:28:03.605365",
     "status": "completed"
    },
    "tags": []
   },
   "outputs": [],
   "source": [
    "import warnings\n",
    "import sys\n",
    "sys.path.insert(0, '../../src')\n",
    "warnings.filterwarnings('ignore')"
   ]
  },
  {
   "cell_type": "code",
   "execution_count": 2,
   "id": "d6a4e155",
   "metadata": {
    "execution": {
     "iopub.execute_input": "2022-07-25T02:28:03.658676Z",
     "iopub.status.busy": "2022-07-25T02:28:03.656769Z",
     "iopub.status.idle": "2022-07-25T02:28:10.074733Z",
     "shell.execute_reply": "2022-07-25T02:28:10.073610Z"
    },
    "id": "d6a4e155",
    "papermill": {
     "duration": 6.432863,
     "end_time": "2022-07-25T02:28:10.077565",
     "exception": false,
     "start_time": "2022-07-25T02:28:03.644702",
     "status": "completed"
    },
    "tags": []
   },
   "outputs": [],
   "source": [
    "import ABC_train_test2\n",
    "import energyefficiencyDataset\n",
    "import network\n",
    "import dataset\n",
    "import sanityChecks\n",
    "import torch \n",
    "import scrapbook as sb\n",
    "from statistics import mean \n",
    "import catboost as ctb \n",
    "from sklearn.model_selection import train_test_split\n",
    "from sklearn.metrics import mean_squared_error,mean_absolute_error\n",
    "import numpy as np"
   ]
  },
  {
   "cell_type": "markdown",
   "id": "2fa5b0f7",
   "metadata": {
    "id": "2fa5b0f7",
    "papermill": {
     "duration": 0.016674,
     "end_time": "2022-07-25T02:28:10.106762",
     "exception": false,
     "start_time": "2022-07-25T02:28:10.090088",
     "status": "completed"
    },
    "tags": []
   },
   "source": [
    "## Parameters "
   ]
  },
  {
   "cell_type": "code",
   "execution_count": 3,
   "id": "783186fb",
   "metadata": {
    "execution": {
     "iopub.execute_input": "2022-07-25T02:28:10.134903Z",
     "iopub.status.busy": "2022-07-25T02:28:10.134218Z",
     "iopub.status.idle": "2022-07-25T02:28:10.142545Z",
     "shell.execute_reply": "2022-07-25T02:28:10.139742Z"
    },
    "id": "783186fb",
    "papermill": {
     "duration": 0.028396,
     "end_time": "2022-07-25T02:28:10.146639",
     "exception": false,
     "start_time": "2022-07-25T02:28:10.118243",
     "status": "completed"
    },
    "tags": [
     "parameters"
    ]
   },
   "outputs": [],
   "source": [
    "variance = 1\n",
    "bias = 1 "
   ]
  },
  {
   "cell_type": "code",
   "execution_count": 4,
   "id": "83630845",
   "metadata": {
    "execution": {
     "iopub.execute_input": "2022-07-25T02:28:10.174556Z",
     "iopub.status.busy": "2022-07-25T02:28:10.173550Z",
     "iopub.status.idle": "2022-07-25T02:28:10.180843Z",
     "shell.execute_reply": "2022-07-25T02:28:10.179310Z"
    },
    "papermill": {
     "duration": 0.025826,
     "end_time": "2022-07-25T02:28:10.185107",
     "exception": false,
     "start_time": "2022-07-25T02:28:10.159281",
     "status": "completed"
    },
    "tags": [
     "injected-parameters"
    ]
   },
   "outputs": [],
   "source": [
    "# Parameters\n",
    "variance = 1\n",
    "bias = 0.1\n"
   ]
  },
  {
   "cell_type": "markdown",
   "id": "391cdbfd",
   "metadata": {
    "id": "391cdbfd",
    "papermill": {
     "duration": 0.015017,
     "end_time": "2022-07-25T02:28:10.210930",
     "exception": false,
     "start_time": "2022-07-25T02:28:10.195913",
     "status": "completed"
    },
    "tags": []
   },
   "source": [
    "## Dataset \n"
   ]
  },
  {
   "cell_type": "code",
   "execution_count": 5,
   "id": "5b51f161",
   "metadata": {
    "execution": {
     "iopub.execute_input": "2022-07-25T02:28:10.242710Z",
     "iopub.status.busy": "2022-07-25T02:28:10.241890Z",
     "iopub.status.idle": "2022-07-25T02:28:10.250825Z",
     "shell.execute_reply": "2022-07-25T02:28:10.248498Z"
    },
    "id": "5b51f161",
    "papermill": {
     "duration": 0.034344,
     "end_time": "2022-07-25T02:28:10.257766",
     "exception": false,
     "start_time": "2022-07-25T02:28:10.223422",
     "status": "completed"
    },
    "tags": []
   },
   "outputs": [],
   "source": [
    "#Parameters \n",
    "n_features = 8\n",
    "n_samples= 768\n",
    "n_target = 1 "
   ]
  },
  {
   "cell_type": "code",
   "execution_count": 6,
   "id": "5d6eced4",
   "metadata": {
    "execution": {
     "iopub.execute_input": "2022-07-25T02:28:10.285836Z",
     "iopub.status.busy": "2022-07-25T02:28:10.285266Z",
     "iopub.status.idle": "2022-07-25T02:28:11.117972Z",
     "shell.execute_reply": "2022-07-25T02:28:11.116955Z"
    },
    "id": "5d6eced4",
    "papermill": {
     "duration": 0.850396,
     "end_time": "2022-07-25T02:28:11.121305",
     "exception": false,
     "start_time": "2022-07-25T02:28:10.270909",
     "status": "completed"
    },
    "tags": []
   },
   "outputs": [
    {
     "name": "stdout",
     "output_type": "stream",
     "text": [
      "     X1     X2     X3      X4   X5  X6   X7  X8     Y1     Y2\n",
      "0  0.98  514.5  294.0  110.25  7.0   2  0.0   0  15.55  21.33\n",
      "1  0.98  514.5  294.0  110.25  7.0   3  0.0   0  15.55  21.33\n",
      "2  0.98  514.5  294.0  110.25  7.0   4  0.0   0  15.55  21.33\n",
      "3  0.98  514.5  294.0  110.25  7.0   5  0.0   0  15.55  21.33\n",
      "4  0.90  563.5  318.5  122.50  7.0   2  0.0   0  20.84  28.28\n"
     ]
    }
   ],
   "source": [
    "X,Y = energyefficiencyDataset.energy_data()"
   ]
  },
  {
   "cell_type": "code",
   "execution_count": 7,
   "id": "fe007438",
   "metadata": {
    "execution": {
     "iopub.execute_input": "2022-07-25T02:28:11.150436Z",
     "iopub.status.busy": "2022-07-25T02:28:11.148556Z",
     "iopub.status.idle": "2022-07-25T02:28:11.161720Z",
     "shell.execute_reply": "2022-07-25T02:28:11.159217Z"
    },
    "id": "fe007438",
    "papermill": {
     "duration": 0.038552,
     "end_time": "2022-07-25T02:28:11.168861",
     "exception": false,
     "start_time": "2022-07-25T02:28:11.130309",
     "status": "completed"
    },
    "tags": []
   },
   "outputs": [],
   "source": [
    "#Train test split for dataset \n",
    "X_train,X_test,Y_train,Y_test = train_test_split(X,Y,test_size = 0.2)\n",
    "train_data = dataset.CustomDataset(X_train,Y_train)\n",
    "test_data = dataset.CustomDataset(X_test,Y_test)\n"
   ]
  },
  {
   "cell_type": "markdown",
   "id": "a9a1af34",
   "metadata": {
    "id": "a9a1af34",
    "papermill": {
     "duration": 0.016506,
     "end_time": "2022-07-25T02:28:11.196762",
     "exception": false,
     "start_time": "2022-07-25T02:28:11.180256",
     "status": "completed"
    },
    "tags": []
   },
   "source": [
    "## Training Parameters "
   ]
  },
  {
   "cell_type": "code",
   "execution_count": 8,
   "id": "952b7fc8",
   "metadata": {
    "execution": {
     "iopub.execute_input": "2022-07-25T02:28:11.219735Z",
     "iopub.status.busy": "2022-07-25T02:28:11.218667Z",
     "iopub.status.idle": "2022-07-25T02:28:11.228466Z",
     "shell.execute_reply": "2022-07-25T02:28:11.225463Z"
    },
    "id": "952b7fc8",
    "papermill": {
     "duration": 0.031042,
     "end_time": "2022-07-25T02:28:11.236979",
     "exception": false,
     "start_time": "2022-07-25T02:28:11.205937",
     "status": "completed"
    },
    "tags": []
   },
   "outputs": [],
   "source": [
    "batch_size = 32\n",
    "n_epochs = 1000\n",
    "#Select the device \n",
    "device = torch.device('cuda' if torch.cuda.is_available() else 'cpu')"
   ]
  },
  {
   "cell_type": "markdown",
   "id": "a95e1600",
   "metadata": {
    "id": "a95e1600",
    "papermill": {
     "duration": 0.013913,
     "end_time": "2022-07-25T02:28:11.265891",
     "exception": false,
     "start_time": "2022-07-25T02:28:11.251978",
     "status": "completed"
    },
    "tags": []
   },
   "source": [
    "# ABC Pre-generator Model \n",
    "\n",
    "1. The catboost model is used as a pre-generator model for the ABC-GAN. \n",
    "2. The model is first trained on the entire dataset \n",
    "3. It generats X,Y pairs and we add some Gaussian noise with mean 0 and variance 1 to it which is then feed as input to the generator.\n"
   ]
  },
  {
   "cell_type": "code",
   "execution_count": 9,
   "id": "ff8ce7bd",
   "metadata": {
    "execution": {
     "iopub.execute_input": "2022-07-25T02:28:11.294485Z",
     "iopub.status.busy": "2022-07-25T02:28:11.293989Z",
     "iopub.status.idle": "2022-07-25T02:28:12.269085Z",
     "shell.execute_reply": "2022-07-25T02:28:12.268028Z"
    },
    "id": "ff8ce7bd",
    "papermill": {
     "duration": 0.992659,
     "end_time": "2022-07-25T02:28:12.271731",
     "exception": false,
     "start_time": "2022-07-25T02:28:11.279072",
     "status": "completed"
    },
    "tags": []
   },
   "outputs": [
    {
     "name": "stdout",
     "output_type": "stream",
     "text": [
      "Learning rate set to 0.037906\n",
      "0:\tlearn: 0.9764638\ttotal: 52.3ms\tremaining: 52.3s\n",
      "1:\tlearn: 0.9439581\ttotal: 52.7ms\tremaining: 26.3s\n",
      "2:\tlearn: 0.9164279\ttotal: 53.1ms\tremaining: 17.6s\n",
      "3:\tlearn: 0.8853929\ttotal: 53.8ms\tremaining: 13.4s\n",
      "4:\tlearn: 0.8603949\ttotal: 54.2ms\tremaining: 10.8s\n",
      "5:\tlearn: 0.8322641\ttotal: 54.8ms\tremaining: 9.07s\n",
      "6:\tlearn: 0.8095994\ttotal: 55ms\tremaining: 7.8s\n",
      "7:\tlearn: 0.7843013\ttotal: 55.7ms\tremaining: 6.91s\n",
      "8:\tlearn: 0.7585983\ttotal: 56.3ms\tremaining: 6.2s\n",
      "9:\tlearn: 0.7343914\ttotal: 56.8ms\tremaining: 5.63s\n",
      "10:\tlearn: 0.7113710\ttotal: 57.4ms\tremaining: 5.16s\n",
      "11:\tlearn: 0.6883106\ttotal: 57.9ms\tremaining: 4.77s\n",
      "12:\tlearn: 0.6683102\ttotal: 58.3ms\tremaining: 4.42s\n",
      "13:\tlearn: 0.6480271\ttotal: 58.8ms\tremaining: 4.14s\n",
      "14:\tlearn: 0.6279392\ttotal: 60.8ms\tremaining: 3.99s\n",
      "15:\tlearn: 0.6080911\ttotal: 61.9ms\tremaining: 3.81s\n",
      "16:\tlearn: 0.5892848\ttotal: 62.4ms\tremaining: 3.61s\n",
      "17:\tlearn: 0.5719726\ttotal: 62.8ms\tremaining: 3.42s\n",
      "18:\tlearn: 0.5562263\ttotal: 63.3ms\tremaining: 3.27s\n",
      "19:\tlearn: 0.5383679\ttotal: 64ms\tremaining: 3.13s\n",
      "20:\tlearn: 0.5229769\ttotal: 64.6ms\tremaining: 3.01s\n",
      "21:\tlearn: 0.5070448\ttotal: 65.1ms\tremaining: 2.89s\n",
      "22:\tlearn: 0.4908874\ttotal: 65.4ms\tremaining: 2.78s\n",
      "23:\tlearn: 0.4767097\ttotal: 66ms\tremaining: 2.68s\n",
      "24:\tlearn: 0.4626445\ttotal: 66.4ms\tremaining: 2.59s\n",
      "25:\tlearn: 0.4497175\ttotal: 66.9ms\tremaining: 2.5s\n",
      "26:\tlearn: 0.4365803\ttotal: 67.3ms\tremaining: 2.42s\n",
      "27:\tlearn: 0.4234820\ttotal: 67.8ms\tremaining: 2.35s\n",
      "28:\tlearn: 0.4108519\ttotal: 68.3ms\tremaining: 2.29s\n",
      "29:\tlearn: 0.3982724\ttotal: 68.8ms\tremaining: 2.22s\n",
      "30:\tlearn: 0.3898747\ttotal: 68.9ms\tremaining: 2.15s\n",
      "31:\tlearn: 0.3783436\ttotal: 69.6ms\tremaining: 2.1s\n",
      "32:\tlearn: 0.3664560\ttotal: 70.9ms\tremaining: 2.08s\n",
      "33:\tlearn: 0.3555496\ttotal: 71.4ms\tremaining: 2.03s\n",
      "34:\tlearn: 0.3457122\ttotal: 72.5ms\tremaining: 2s\n",
      "35:\tlearn: 0.3365456\ttotal: 73.3ms\tremaining: 1.96s\n",
      "36:\tlearn: 0.3273733\ttotal: 73.8ms\tremaining: 1.92s\n",
      "37:\tlearn: 0.3190725\ttotal: 74.7ms\tremaining: 1.89s\n",
      "38:\tlearn: 0.3101807\ttotal: 75.3ms\tremaining: 1.85s\n",
      "39:\tlearn: 0.3023427\ttotal: 75.9ms\tremaining: 1.82s\n",
      "40:\tlearn: 0.2946704\ttotal: 76.2ms\tremaining: 1.78s\n",
      "41:\tlearn: 0.2873224\ttotal: 76.9ms\tremaining: 1.75s\n",
      "42:\tlearn: 0.2795471\ttotal: 77.3ms\tremaining: 1.72s\n",
      "43:\tlearn: 0.2718900\ttotal: 77.8ms\tremaining: 1.69s\n",
      "44:\tlearn: 0.2652796\ttotal: 78.3ms\tremaining: 1.66s\n",
      "45:\tlearn: 0.2579030\ttotal: 78.9ms\tremaining: 1.64s\n",
      "46:\tlearn: 0.2513852\ttotal: 79.3ms\tremaining: 1.61s\n",
      "47:\tlearn: 0.2455033\ttotal: 79.9ms\tremaining: 1.58s\n",
      "48:\tlearn: 0.2387139\ttotal: 81.2ms\tremaining: 1.57s\n",
      "49:\tlearn: 0.2321880\ttotal: 82ms\tremaining: 1.56s\n",
      "50:\tlearn: 0.2267144\ttotal: 82.6ms\tremaining: 1.54s\n",
      "51:\tlearn: 0.2206965\ttotal: 83.5ms\tremaining: 1.52s\n",
      "52:\tlearn: 0.2158638\ttotal: 84.2ms\tremaining: 1.5s\n",
      "53:\tlearn: 0.2097672\ttotal: 84.6ms\tremaining: 1.48s\n",
      "54:\tlearn: 0.2039605\ttotal: 85.2ms\tremaining: 1.46s\n",
      "55:\tlearn: 0.1982021\ttotal: 86.5ms\tremaining: 1.46s\n",
      "56:\tlearn: 0.1930113\ttotal: 87.4ms\tremaining: 1.45s\n",
      "57:\tlearn: 0.1885258\ttotal: 88.2ms\tremaining: 1.43s\n",
      "58:\tlearn: 0.1834328\ttotal: 89ms\tremaining: 1.42s\n",
      "59:\tlearn: 0.1800071\ttotal: 89.8ms\tremaining: 1.41s\n",
      "60:\tlearn: 0.1754676\ttotal: 90.9ms\tremaining: 1.4s\n",
      "61:\tlearn: 0.1709277\ttotal: 91.8ms\tremaining: 1.39s\n",
      "62:\tlearn: 0.1680464\ttotal: 92.8ms\tremaining: 1.38s\n",
      "63:\tlearn: 0.1651967\ttotal: 93.7ms\tremaining: 1.37s\n",
      "64:\tlearn: 0.1624888\ttotal: 95.9ms\tremaining: 1.38s\n",
      "65:\tlearn: 0.1584515\ttotal: 96.6ms\tremaining: 1.37s\n",
      "66:\tlearn: 0.1545917\ttotal: 97.6ms\tremaining: 1.36s\n",
      "67:\tlearn: 0.1515318\ttotal: 98.5ms\tremaining: 1.35s\n",
      "68:\tlearn: 0.1476622\ttotal: 99.1ms\tremaining: 1.34s\n",
      "69:\tlearn: 0.1445649\ttotal: 99.6ms\tremaining: 1.32s\n",
      "70:\tlearn: 0.1419911\ttotal: 100ms\tremaining: 1.31s\n",
      "71:\tlearn: 0.1388456\ttotal: 101ms\tremaining: 1.3s\n",
      "72:\tlearn: 0.1360210\ttotal: 105ms\tremaining: 1.34s\n",
      "73:\tlearn: 0.1331013\ttotal: 106ms\tremaining: 1.33s\n",
      "74:\tlearn: 0.1310064\ttotal: 107ms\tremaining: 1.31s\n",
      "75:\tlearn: 0.1281251\ttotal: 107ms\tremaining: 1.3s\n",
      "76:\tlearn: 0.1252134\ttotal: 108ms\tremaining: 1.29s\n",
      "77:\tlearn: 0.1222671\ttotal: 108ms\tremaining: 1.28s\n",
      "78:\tlearn: 0.1193511\ttotal: 109ms\tremaining: 1.27s\n",
      "79:\tlearn: 0.1171669\ttotal: 110ms\tremaining: 1.27s\n",
      "80:\tlearn: 0.1157130\ttotal: 111ms\tremaining: 1.26s\n",
      "81:\tlearn: 0.1133534\ttotal: 111ms\tremaining: 1.25s\n",
      "82:\tlearn: 0.1109700\ttotal: 112ms\tremaining: 1.24s\n",
      "83:\tlearn: 0.1090268\ttotal: 113ms\tremaining: 1.23s\n",
      "84:\tlearn: 0.1071401\ttotal: 113ms\tremaining: 1.22s\n",
      "85:\tlearn: 0.1056648\ttotal: 114ms\tremaining: 1.21s\n",
      "86:\tlearn: 0.1038858\ttotal: 114ms\tremaining: 1.2s\n",
      "87:\tlearn: 0.1017202\ttotal: 115ms\tremaining: 1.19s\n",
      "88:\tlearn: 0.1005499\ttotal: 116ms\tremaining: 1.19s\n",
      "89:\tlearn: 0.0996723\ttotal: 117ms\tremaining: 1.18s\n",
      "90:\tlearn: 0.0989487\ttotal: 118ms\tremaining: 1.18s\n",
      "91:\tlearn: 0.0973047\ttotal: 119ms\tremaining: 1.17s\n",
      "92:\tlearn: 0.0955167\ttotal: 119ms\tremaining: 1.16s\n",
      "93:\tlearn: 0.0939271\ttotal: 120ms\tremaining: 1.16s\n",
      "94:\tlearn: 0.0919488\ttotal: 121ms\tremaining: 1.15s\n",
      "95:\tlearn: 0.0907267\ttotal: 122ms\tremaining: 1.15s\n",
      "96:\tlearn: 0.0890619\ttotal: 122ms\tremaining: 1.14s\n",
      "97:\tlearn: 0.0876591\ttotal: 123ms\tremaining: 1.13s\n",
      "98:\tlearn: 0.0860204\ttotal: 124ms\tremaining: 1.13s\n",
      "99:\tlearn: 0.0854181\ttotal: 124ms\tremaining: 1.12s\n",
      "100:\tlearn: 0.0847329\ttotal: 125ms\tremaining: 1.11s\n",
      "101:\tlearn: 0.0841295\ttotal: 125ms\tremaining: 1.1s\n",
      "102:\tlearn: 0.0832494\ttotal: 126ms\tremaining: 1.09s\n",
      "103:\tlearn: 0.0820184\ttotal: 126ms\tremaining: 1.09s\n",
      "104:\tlearn: 0.0805022\ttotal: 127ms\tremaining: 1.08s\n",
      "105:\tlearn: 0.0790453\ttotal: 127ms\tremaining: 1.07s\n",
      "106:\tlearn: 0.0777223\ttotal: 128ms\tremaining: 1.07s\n",
      "107:\tlearn: 0.0762385\ttotal: 128ms\tremaining: 1.06s\n",
      "108:\tlearn: 0.0747756\ttotal: 129ms\tremaining: 1.05s\n",
      "109:\tlearn: 0.0741155\ttotal: 130ms\tremaining: 1.05s\n",
      "110:\tlearn: 0.0732306\ttotal: 130ms\tremaining: 1.04s\n",
      "111:\tlearn: 0.0720897\ttotal: 131ms\tremaining: 1.03s\n",
      "112:\tlearn: 0.0709703\ttotal: 131ms\tremaining: 1.03s\n",
      "113:\tlearn: 0.0698890\ttotal: 132ms\tremaining: 1.02s\n",
      "114:\tlearn: 0.0688008\ttotal: 132ms\tremaining: 1.02s\n",
      "115:\tlearn: 0.0677277\ttotal: 134ms\tremaining: 1.02s\n",
      "116:\tlearn: 0.0669562\ttotal: 134ms\tremaining: 1.01s\n",
      "117:\tlearn: 0.0660677\ttotal: 135ms\tremaining: 1.01s\n",
      "118:\tlearn: 0.0652227\ttotal: 136ms\tremaining: 1.01s\n",
      "119:\tlearn: 0.0646969\ttotal: 137ms\tremaining: 1s\n",
      "120:\tlearn: 0.0641881\ttotal: 138ms\tremaining: 999ms\n",
      "121:\tlearn: 0.0633131\ttotal: 138ms\tremaining: 995ms\n",
      "122:\tlearn: 0.0625951\ttotal: 139ms\tremaining: 991ms\n",
      "123:\tlearn: 0.0618262\ttotal: 140ms\tremaining: 986ms\n",
      "124:\tlearn: 0.0611929\ttotal: 140ms\tremaining: 980ms\n",
      "125:\tlearn: 0.0606057\ttotal: 140ms\tremaining: 974ms\n",
      "126:\tlearn: 0.0599376\ttotal: 141ms\tremaining: 968ms\n",
      "127:\tlearn: 0.0595347\ttotal: 141ms\tremaining: 963ms\n",
      "128:\tlearn: 0.0590277\ttotal: 142ms\tremaining: 962ms\n",
      "129:\tlearn: 0.0586132\ttotal: 143ms\tremaining: 957ms\n",
      "130:\tlearn: 0.0580714\ttotal: 143ms\tremaining: 951ms\n",
      "131:\tlearn: 0.0575044\ttotal: 144ms\tremaining: 949ms\n",
      "132:\tlearn: 0.0573465\ttotal: 144ms\tremaining: 942ms\n",
      "133:\tlearn: 0.0568384\ttotal: 145ms\tremaining: 936ms\n",
      "134:\tlearn: 0.0563557\ttotal: 145ms\tremaining: 932ms\n",
      "135:\tlearn: 0.0558507\ttotal: 146ms\tremaining: 928ms\n",
      "136:\tlearn: 0.0554787\ttotal: 147ms\tremaining: 924ms\n",
      "137:\tlearn: 0.0549821\ttotal: 147ms\tremaining: 919ms\n",
      "138:\tlearn: 0.0545929\ttotal: 148ms\tremaining: 914ms\n",
      "139:\tlearn: 0.0541799\ttotal: 148ms\tremaining: 910ms\n",
      "140:\tlearn: 0.0537104\ttotal: 149ms\tremaining: 906ms\n"
     ]
    },
    {
     "name": "stdout",
     "output_type": "stream",
     "text": [
      "141:\tlearn: 0.0532665\ttotal: 150ms\tremaining: 907ms\n",
      "142:\tlearn: 0.0529786\ttotal: 150ms\tremaining: 902ms\n",
      "143:\tlearn: 0.0527262\ttotal: 151ms\tremaining: 896ms\n",
      "144:\tlearn: 0.0523583\ttotal: 151ms\tremaining: 890ms\n",
      "145:\tlearn: 0.0521057\ttotal: 152ms\tremaining: 891ms\n",
      "146:\tlearn: 0.0517760\ttotal: 153ms\tremaining: 888ms\n",
      "147:\tlearn: 0.0515200\ttotal: 154ms\tremaining: 885ms\n",
      "148:\tlearn: 0.0512140\ttotal: 154ms\tremaining: 881ms\n",
      "149:\tlearn: 0.0509801\ttotal: 155ms\tremaining: 878ms\n",
      "150:\tlearn: 0.0506638\ttotal: 156ms\tremaining: 874ms\n",
      "151:\tlearn: 0.0503546\ttotal: 156ms\tremaining: 871ms\n",
      "152:\tlearn: 0.0499612\ttotal: 157ms\tremaining: 867ms\n",
      "153:\tlearn: 0.0496317\ttotal: 157ms\tremaining: 862ms\n",
      "154:\tlearn: 0.0492788\ttotal: 158ms\tremaining: 859ms\n",
      "155:\tlearn: 0.0490342\ttotal: 158ms\tremaining: 855ms\n",
      "156:\tlearn: 0.0487501\ttotal: 158ms\tremaining: 851ms\n",
      "157:\tlearn: 0.0484639\ttotal: 159ms\tremaining: 847ms\n",
      "158:\tlearn: 0.0482065\ttotal: 160ms\tremaining: 844ms\n",
      "159:\tlearn: 0.0479859\ttotal: 160ms\tremaining: 840ms\n",
      "160:\tlearn: 0.0477154\ttotal: 161ms\tremaining: 837ms\n",
      "161:\tlearn: 0.0474931\ttotal: 161ms\tremaining: 833ms\n",
      "162:\tlearn: 0.0472739\ttotal: 162ms\tremaining: 830ms\n",
      "163:\tlearn: 0.0470211\ttotal: 162ms\tremaining: 827ms\n",
      "164:\tlearn: 0.0468575\ttotal: 163ms\tremaining: 824ms\n",
      "165:\tlearn: 0.0467188\ttotal: 163ms\tremaining: 820ms\n",
      "166:\tlearn: 0.0464983\ttotal: 164ms\tremaining: 818ms\n",
      "167:\tlearn: 0.0462886\ttotal: 165ms\tremaining: 816ms\n",
      "168:\tlearn: 0.0460111\ttotal: 165ms\tremaining: 813ms\n",
      "169:\tlearn: 0.0458475\ttotal: 166ms\tremaining: 811ms\n",
      "170:\tlearn: 0.0457117\ttotal: 167ms\tremaining: 807ms\n",
      "171:\tlearn: 0.0455541\ttotal: 169ms\tremaining: 812ms\n",
      "172:\tlearn: 0.0453543\ttotal: 170ms\tremaining: 810ms\n",
      "173:\tlearn: 0.0451428\ttotal: 170ms\tremaining: 808ms\n",
      "174:\tlearn: 0.0450163\ttotal: 171ms\tremaining: 806ms\n",
      "175:\tlearn: 0.0448802\ttotal: 172ms\tremaining: 804ms\n",
      "176:\tlearn: 0.0447105\ttotal: 172ms\tremaining: 801ms\n",
      "177:\tlearn: 0.0445650\ttotal: 173ms\tremaining: 799ms\n",
      "178:\tlearn: 0.0443789\ttotal: 174ms\tremaining: 796ms\n",
      "179:\tlearn: 0.0442025\ttotal: 174ms\tremaining: 794ms\n",
      "180:\tlearn: 0.0440538\ttotal: 175ms\tremaining: 791ms\n",
      "181:\tlearn: 0.0438497\ttotal: 175ms\tremaining: 788ms\n",
      "182:\tlearn: 0.0436298\ttotal: 176ms\tremaining: 785ms\n",
      "183:\tlearn: 0.0434796\ttotal: 176ms\tremaining: 782ms\n",
      "184:\tlearn: 0.0433431\ttotal: 177ms\tremaining: 779ms\n",
      "185:\tlearn: 0.0430486\ttotal: 177ms\tremaining: 776ms\n",
      "186:\tlearn: 0.0428723\ttotal: 178ms\tremaining: 774ms\n",
      "187:\tlearn: 0.0426977\ttotal: 179ms\tremaining: 771ms\n",
      "188:\tlearn: 0.0425867\ttotal: 179ms\tremaining: 769ms\n",
      "189:\tlearn: 0.0424852\ttotal: 180ms\tremaining: 766ms\n",
      "190:\tlearn: 0.0423319\ttotal: 180ms\tremaining: 764ms\n",
      "191:\tlearn: 0.0421899\ttotal: 181ms\tremaining: 761ms\n",
      "192:\tlearn: 0.0420030\ttotal: 181ms\tremaining: 757ms\n",
      "193:\tlearn: 0.0418923\ttotal: 182ms\tremaining: 755ms\n",
      "194:\tlearn: 0.0417352\ttotal: 182ms\tremaining: 752ms\n",
      "195:\tlearn: 0.0415702\ttotal: 183ms\tremaining: 750ms\n",
      "196:\tlearn: 0.0413698\ttotal: 183ms\tremaining: 747ms\n",
      "197:\tlearn: 0.0412574\ttotal: 184ms\tremaining: 744ms\n",
      "198:\tlearn: 0.0411635\ttotal: 184ms\tremaining: 742ms\n",
      "199:\tlearn: 0.0409092\ttotal: 185ms\tremaining: 739ms\n",
      "200:\tlearn: 0.0408080\ttotal: 185ms\tremaining: 737ms\n",
      "201:\tlearn: 0.0406951\ttotal: 186ms\tremaining: 734ms\n",
      "202:\tlearn: 0.0405401\ttotal: 186ms\tremaining: 732ms\n",
      "203:\tlearn: 0.0404443\ttotal: 187ms\tremaining: 729ms\n",
      "204:\tlearn: 0.0402921\ttotal: 187ms\tremaining: 726ms\n",
      "205:\tlearn: 0.0402213\ttotal: 188ms\tremaining: 724ms\n",
      "206:\tlearn: 0.0400768\ttotal: 188ms\tremaining: 722ms\n",
      "207:\tlearn: 0.0399957\ttotal: 189ms\tremaining: 720ms\n",
      "208:\tlearn: 0.0398444\ttotal: 190ms\tremaining: 717ms\n",
      "209:\tlearn: 0.0397619\ttotal: 190ms\tremaining: 715ms\n",
      "210:\tlearn: 0.0396197\ttotal: 191ms\tremaining: 713ms\n",
      "211:\tlearn: 0.0395098\ttotal: 191ms\tremaining: 711ms\n",
      "212:\tlearn: 0.0393947\ttotal: 192ms\tremaining: 709ms\n",
      "213:\tlearn: 0.0392688\ttotal: 192ms\tremaining: 707ms\n",
      "214:\tlearn: 0.0391716\ttotal: 193ms\tremaining: 705ms\n",
      "215:\tlearn: 0.0390579\ttotal: 194ms\tremaining: 702ms\n",
      "216:\tlearn: 0.0389767\ttotal: 194ms\tremaining: 700ms\n",
      "217:\tlearn: 0.0388616\ttotal: 194ms\tremaining: 698ms\n",
      "218:\tlearn: 0.0387176\ttotal: 195ms\tremaining: 695ms\n",
      "219:\tlearn: 0.0386569\ttotal: 196ms\tremaining: 693ms\n",
      "220:\tlearn: 0.0384191\ttotal: 196ms\tremaining: 691ms\n",
      "221:\tlearn: 0.0382424\ttotal: 197ms\tremaining: 689ms\n",
      "222:\tlearn: 0.0381069\ttotal: 197ms\tremaining: 687ms\n",
      "223:\tlearn: 0.0378969\ttotal: 198ms\tremaining: 685ms\n",
      "224:\tlearn: 0.0376869\ttotal: 198ms\tremaining: 683ms\n",
      "225:\tlearn: 0.0375753\ttotal: 199ms\tremaining: 680ms\n",
      "226:\tlearn: 0.0373627\ttotal: 199ms\tremaining: 678ms\n",
      "227:\tlearn: 0.0372690\ttotal: 200ms\tremaining: 676ms\n",
      "228:\tlearn: 0.0371521\ttotal: 200ms\tremaining: 674ms\n",
      "229:\tlearn: 0.0369559\ttotal: 201ms\tremaining: 672ms\n",
      "230:\tlearn: 0.0368390\ttotal: 201ms\tremaining: 670ms\n",
      "231:\tlearn: 0.0366571\ttotal: 202ms\tremaining: 669ms\n",
      "232:\tlearn: 0.0365503\ttotal: 203ms\tremaining: 668ms\n",
      "233:\tlearn: 0.0364918\ttotal: 204ms\tremaining: 667ms\n",
      "234:\tlearn: 0.0363977\ttotal: 205ms\tremaining: 666ms\n",
      "235:\tlearn: 0.0363180\ttotal: 205ms\tremaining: 664ms\n",
      "236:\tlearn: 0.0361688\ttotal: 206ms\tremaining: 663ms\n",
      "237:\tlearn: 0.0360588\ttotal: 207ms\tremaining: 662ms\n",
      "238:\tlearn: 0.0359791\ttotal: 207ms\tremaining: 660ms\n",
      "239:\tlearn: 0.0358815\ttotal: 208ms\tremaining: 660ms\n",
      "240:\tlearn: 0.0357537\ttotal: 209ms\tremaining: 658ms\n",
      "241:\tlearn: 0.0355803\ttotal: 210ms\tremaining: 657ms\n",
      "242:\tlearn: 0.0354935\ttotal: 210ms\tremaining: 654ms\n",
      "243:\tlearn: 0.0354062\ttotal: 211ms\tremaining: 654ms\n",
      "244:\tlearn: 0.0352761\ttotal: 212ms\tremaining: 652ms\n",
      "245:\tlearn: 0.0351589\ttotal: 212ms\tremaining: 651ms\n",
      "246:\tlearn: 0.0350560\ttotal: 213ms\tremaining: 650ms\n",
      "247:\tlearn: 0.0349669\ttotal: 214ms\tremaining: 648ms\n",
      "248:\tlearn: 0.0348845\ttotal: 215ms\tremaining: 647ms\n",
      "249:\tlearn: 0.0347850\ttotal: 216ms\tremaining: 647ms\n",
      "250:\tlearn: 0.0347158\ttotal: 217ms\tremaining: 647ms\n",
      "251:\tlearn: 0.0346138\ttotal: 218ms\tremaining: 648ms\n",
      "252:\tlearn: 0.0344684\ttotal: 219ms\tremaining: 647ms\n",
      "253:\tlearn: 0.0343256\ttotal: 220ms\tremaining: 645ms\n",
      "254:\tlearn: 0.0341726\ttotal: 220ms\tremaining: 643ms\n",
      "255:\tlearn: 0.0340441\ttotal: 221ms\tremaining: 641ms\n",
      "256:\tlearn: 0.0339554\ttotal: 221ms\tremaining: 639ms\n",
      "257:\tlearn: 0.0338895\ttotal: 222ms\tremaining: 637ms\n",
      "258:\tlearn: 0.0338223\ttotal: 222ms\tremaining: 636ms\n",
      "259:\tlearn: 0.0337799\ttotal: 223ms\tremaining: 634ms\n",
      "260:\tlearn: 0.0336759\ttotal: 223ms\tremaining: 632ms\n",
      "261:\tlearn: 0.0335236\ttotal: 224ms\tremaining: 631ms\n",
      "262:\tlearn: 0.0334347\ttotal: 224ms\tremaining: 629ms\n",
      "263:\tlearn: 0.0333525\ttotal: 225ms\tremaining: 626ms\n",
      "264:\tlearn: 0.0333104\ttotal: 225ms\tremaining: 624ms\n",
      "265:\tlearn: 0.0332182\ttotal: 225ms\tremaining: 622ms\n",
      "266:\tlearn: 0.0331459\ttotal: 226ms\tremaining: 620ms\n",
      "267:\tlearn: 0.0330766\ttotal: 226ms\tremaining: 618ms\n",
      "268:\tlearn: 0.0329365\ttotal: 227ms\tremaining: 616ms\n",
      "269:\tlearn: 0.0328751\ttotal: 227ms\tremaining: 614ms\n",
      "270:\tlearn: 0.0328360\ttotal: 228ms\tremaining: 612ms\n",
      "271:\tlearn: 0.0327113\ttotal: 229ms\tremaining: 612ms\n",
      "272:\tlearn: 0.0326151\ttotal: 229ms\tremaining: 610ms\n",
      "273:\tlearn: 0.0324856\ttotal: 229ms\tremaining: 608ms\n",
      "274:\tlearn: 0.0323811\ttotal: 230ms\tremaining: 606ms\n",
      "275:\tlearn: 0.0322864\ttotal: 230ms\tremaining: 605ms\n",
      "276:\tlearn: 0.0322121\ttotal: 231ms\tremaining: 603ms\n",
      "277:\tlearn: 0.0320993\ttotal: 231ms\tremaining: 601ms\n",
      "278:\tlearn: 0.0320474\ttotal: 232ms\tremaining: 599ms\n",
      "279:\tlearn: 0.0319668\ttotal: 232ms\tremaining: 598ms\n",
      "280:\tlearn: 0.0318863\ttotal: 233ms\tremaining: 596ms\n",
      "281:\tlearn: 0.0317976\ttotal: 234ms\tremaining: 595ms\n",
      "282:\tlearn: 0.0316994\ttotal: 234ms\tremaining: 593ms\n",
      "283:\tlearn: 0.0315713\ttotal: 234ms\tremaining: 591ms\n",
      "284:\tlearn: 0.0314636\ttotal: 235ms\tremaining: 590ms\n",
      "285:\tlearn: 0.0313871\ttotal: 236ms\tremaining: 588ms\n",
      "286:\tlearn: 0.0312710\ttotal: 236ms\tremaining: 586ms\n",
      "287:\tlearn: 0.0312172\ttotal: 236ms\tremaining: 585ms\n",
      "288:\tlearn: 0.0311529\ttotal: 237ms\tremaining: 582ms\n",
      "289:\tlearn: 0.0310489\ttotal: 237ms\tremaining: 581ms\n",
      "290:\tlearn: 0.0309320\ttotal: 238ms\tremaining: 580ms\n",
      "291:\tlearn: 0.0309004\ttotal: 239ms\tremaining: 579ms\n",
      "292:\tlearn: 0.0308080\ttotal: 240ms\tremaining: 579ms\n",
      "293:\tlearn: 0.0307035\ttotal: 246ms\tremaining: 590ms\n",
      "294:\tlearn: 0.0306709\ttotal: 247ms\tremaining: 589ms\n",
      "295:\tlearn: 0.0306210\ttotal: 247ms\tremaining: 587ms\n",
      "296:\tlearn: 0.0305887\ttotal: 248ms\tremaining: 587ms\n",
      "297:\tlearn: 0.0304784\ttotal: 249ms\tremaining: 586ms\n",
      "298:\tlearn: 0.0304206\ttotal: 250ms\tremaining: 585ms\n",
      "299:\tlearn: 0.0303408\ttotal: 250ms\tremaining: 584ms\n",
      "300:\tlearn: 0.0302400\ttotal: 251ms\tremaining: 584ms\n",
      "301:\tlearn: 0.0301715\ttotal: 253ms\tremaining: 584ms\n",
      "302:\tlearn: 0.0300675\ttotal: 253ms\tremaining: 583ms\n",
      "303:\tlearn: 0.0300110\ttotal: 254ms\tremaining: 581ms\n",
      "304:\tlearn: 0.0299603\ttotal: 254ms\tremaining: 579ms\n",
      "305:\tlearn: 0.0298610\ttotal: 255ms\tremaining: 578ms\n",
      "306:\tlearn: 0.0298173\ttotal: 255ms\tremaining: 576ms\n",
      "307:\tlearn: 0.0297326\ttotal: 256ms\tremaining: 574ms\n",
      "308:\tlearn: 0.0296574\ttotal: 259ms\tremaining: 578ms\n",
      "309:\tlearn: 0.0296308\ttotal: 259ms\tremaining: 576ms\n",
      "310:\tlearn: 0.0295770\ttotal: 259ms\tremaining: 574ms\n",
      "311:\tlearn: 0.0295232\ttotal: 260ms\tremaining: 573ms\n",
      "312:\tlearn: 0.0294776\ttotal: 260ms\tremaining: 571ms\n",
      "313:\tlearn: 0.0294289\ttotal: 261ms\tremaining: 569ms\n",
      "314:\tlearn: 0.0293343\ttotal: 261ms\tremaining: 568ms\n",
      "315:\tlearn: 0.0292969\ttotal: 262ms\tremaining: 567ms\n",
      "316:\tlearn: 0.0292319\ttotal: 262ms\tremaining: 565ms\n",
      "317:\tlearn: 0.0291690\ttotal: 263ms\tremaining: 564ms\n",
      "318:\tlearn: 0.0290722\ttotal: 264ms\tremaining: 563ms\n",
      "319:\tlearn: 0.0289953\ttotal: 264ms\tremaining: 561ms\n",
      "320:\tlearn: 0.0289484\ttotal: 265ms\tremaining: 560ms\n",
      "321:\tlearn: 0.0288759\ttotal: 265ms\tremaining: 558ms\n",
      "322:\tlearn: 0.0288333\ttotal: 266ms\tremaining: 557ms\n",
      "323:\tlearn: 0.0287510\ttotal: 266ms\tremaining: 555ms\n",
      "324:\tlearn: 0.0287102\ttotal: 267ms\tremaining: 554ms\n",
      "325:\tlearn: 0.0286729\ttotal: 267ms\tremaining: 553ms\n",
      "326:\tlearn: 0.0286361\ttotal: 268ms\tremaining: 551ms\n",
      "327:\tlearn: 0.0285798\ttotal: 268ms\tremaining: 550ms\n",
      "328:\tlearn: 0.0285437\ttotal: 269ms\tremaining: 549ms\n",
      "329:\tlearn: 0.0284825\ttotal: 269ms\tremaining: 547ms\n",
      "330:\tlearn: 0.0284226\ttotal: 270ms\tremaining: 545ms\n",
      "331:\tlearn: 0.0283343\ttotal: 270ms\tremaining: 544ms\n",
      "332:\tlearn: 0.0282856\ttotal: 271ms\tremaining: 543ms\n",
      "333:\tlearn: 0.0281959\ttotal: 271ms\tremaining: 541ms\n",
      "334:\tlearn: 0.0281117\ttotal: 272ms\tremaining: 539ms\n",
      "335:\tlearn: 0.0280299\ttotal: 272ms\tremaining: 538ms\n",
      "336:\tlearn: 0.0279969\ttotal: 272ms\tremaining: 536ms\n",
      "337:\tlearn: 0.0279225\ttotal: 273ms\tremaining: 535ms\n",
      "338:\tlearn: 0.0278643\ttotal: 274ms\tremaining: 534ms\n",
      "339:\tlearn: 0.0278311\ttotal: 274ms\tremaining: 532ms\n",
      "340:\tlearn: 0.0277568\ttotal: 275ms\tremaining: 531ms\n",
      "341:\tlearn: 0.0277003\ttotal: 275ms\tremaining: 529ms\n",
      "342:\tlearn: 0.0276229\ttotal: 275ms\tremaining: 527ms\n",
      "343:\tlearn: 0.0275384\ttotal: 276ms\tremaining: 526ms\n",
      "344:\tlearn: 0.0274754\ttotal: 276ms\tremaining: 525ms\n",
      "345:\tlearn: 0.0273998\ttotal: 277ms\tremaining: 523ms\n",
      "346:\tlearn: 0.0273676\ttotal: 277ms\tremaining: 522ms\n",
      "347:\tlearn: 0.0273099\ttotal: 278ms\tremaining: 521ms\n",
      "348:\tlearn: 0.0272286\ttotal: 279ms\tremaining: 521ms\n",
      "349:\tlearn: 0.0271992\ttotal: 280ms\tremaining: 520ms\n",
      "350:\tlearn: 0.0271689\ttotal: 281ms\tremaining: 519ms\n",
      "351:\tlearn: 0.0271180\ttotal: 283ms\tremaining: 521ms\n",
      "352:\tlearn: 0.0270903\ttotal: 284ms\tremaining: 520ms\n",
      "353:\tlearn: 0.0270601\ttotal: 285ms\tremaining: 519ms\n",
      "354:\tlearn: 0.0270262\ttotal: 285ms\tremaining: 518ms\n",
      "355:\tlearn: 0.0269596\ttotal: 286ms\tremaining: 518ms\n",
      "356:\tlearn: 0.0269406\ttotal: 287ms\tremaining: 517ms\n",
      "357:\tlearn: 0.0268785\ttotal: 288ms\tremaining: 516ms\n",
      "358:\tlearn: 0.0268315\ttotal: 289ms\tremaining: 515ms\n",
      "359:\tlearn: 0.0267988\ttotal: 289ms\tremaining: 514ms\n",
      "360:\tlearn: 0.0267508\ttotal: 289ms\tremaining: 512ms\n",
      "361:\tlearn: 0.0267193\ttotal: 290ms\tremaining: 511ms\n",
      "362:\tlearn: 0.0266608\ttotal: 290ms\tremaining: 509ms\n",
      "363:\tlearn: 0.0265948\ttotal: 291ms\tremaining: 508ms\n",
      "364:\tlearn: 0.0265278\ttotal: 292ms\tremaining: 509ms\n",
      "365:\tlearn: 0.0264539\ttotal: 293ms\tremaining: 508ms\n",
      "366:\tlearn: 0.0264288\ttotal: 294ms\tremaining: 507ms\n",
      "367:\tlearn: 0.0263795\ttotal: 295ms\tremaining: 506ms\n",
      "368:\tlearn: 0.0263344\ttotal: 295ms\tremaining: 504ms\n",
      "369:\tlearn: 0.0262585\ttotal: 295ms\tremaining: 503ms\n",
      "370:\tlearn: 0.0261891\ttotal: 296ms\tremaining: 501ms\n",
      "371:\tlearn: 0.0261363\ttotal: 296ms\tremaining: 500ms\n",
      "372:\tlearn: 0.0260936\ttotal: 297ms\tremaining: 499ms\n",
      "373:\tlearn: 0.0260641\ttotal: 297ms\tremaining: 498ms\n",
      "374:\tlearn: 0.0260031\ttotal: 298ms\tremaining: 497ms\n",
      "375:\tlearn: 0.0259287\ttotal: 298ms\tremaining: 495ms\n",
      "376:\tlearn: 0.0258853\ttotal: 299ms\tremaining: 494ms\n",
      "377:\tlearn: 0.0258561\ttotal: 299ms\tremaining: 492ms\n",
      "378:\tlearn: 0.0258051\ttotal: 299ms\tremaining: 491ms\n",
      "379:\tlearn: 0.0257495\ttotal: 300ms\tremaining: 489ms\n",
      "380:\tlearn: 0.0257037\ttotal: 301ms\tremaining: 488ms\n",
      "381:\tlearn: 0.0256409\ttotal: 301ms\tremaining: 487ms\n",
      "382:\tlearn: 0.0256134\ttotal: 302ms\tremaining: 486ms\n",
      "383:\tlearn: 0.0255619\ttotal: 302ms\tremaining: 485ms\n"
     ]
    },
    {
     "name": "stdout",
     "output_type": "stream",
     "text": [
      "384:\tlearn: 0.0255355\ttotal: 304ms\tremaining: 485ms\n",
      "385:\tlearn: 0.0254962\ttotal: 304ms\tremaining: 484ms\n",
      "386:\tlearn: 0.0254641\ttotal: 306ms\tremaining: 485ms\n",
      "387:\tlearn: 0.0253926\ttotal: 307ms\tremaining: 484ms\n",
      "388:\tlearn: 0.0253344\ttotal: 308ms\tremaining: 483ms\n",
      "389:\tlearn: 0.0252893\ttotal: 308ms\tremaining: 482ms\n",
      "390:\tlearn: 0.0252455\ttotal: 308ms\tremaining: 480ms\n",
      "391:\tlearn: 0.0252031\ttotal: 309ms\tremaining: 479ms\n",
      "392:\tlearn: 0.0251480\ttotal: 309ms\tremaining: 478ms\n",
      "393:\tlearn: 0.0251221\ttotal: 310ms\tremaining: 477ms\n",
      "394:\tlearn: 0.0250807\ttotal: 310ms\tremaining: 475ms\n",
      "395:\tlearn: 0.0250059\ttotal: 311ms\tremaining: 474ms\n",
      "396:\tlearn: 0.0249677\ttotal: 311ms\tremaining: 473ms\n",
      "397:\tlearn: 0.0249426\ttotal: 312ms\tremaining: 472ms\n",
      "398:\tlearn: 0.0249160\ttotal: 312ms\tremaining: 470ms\n",
      "399:\tlearn: 0.0248936\ttotal: 313ms\tremaining: 469ms\n",
      "400:\tlearn: 0.0248587\ttotal: 313ms\tremaining: 468ms\n",
      "401:\tlearn: 0.0248328\ttotal: 314ms\tremaining: 467ms\n",
      "402:\tlearn: 0.0248174\ttotal: 314ms\tremaining: 465ms\n",
      "403:\tlearn: 0.0247683\ttotal: 315ms\tremaining: 464ms\n",
      "404:\tlearn: 0.0247355\ttotal: 315ms\tremaining: 463ms\n",
      "405:\tlearn: 0.0246989\ttotal: 316ms\tremaining: 463ms\n",
      "406:\tlearn: 0.0246728\ttotal: 317ms\tremaining: 462ms\n",
      "407:\tlearn: 0.0246260\ttotal: 334ms\tremaining: 484ms\n",
      "408:\tlearn: 0.0245888\ttotal: 334ms\tremaining: 483ms\n",
      "409:\tlearn: 0.0245327\ttotal: 335ms\tremaining: 482ms\n",
      "410:\tlearn: 0.0245046\ttotal: 337ms\tremaining: 483ms\n",
      "411:\tlearn: 0.0244689\ttotal: 339ms\tremaining: 484ms\n",
      "412:\tlearn: 0.0244486\ttotal: 340ms\tremaining: 483ms\n",
      "413:\tlearn: 0.0243786\ttotal: 341ms\tremaining: 482ms\n",
      "414:\tlearn: 0.0243522\ttotal: 342ms\tremaining: 482ms\n",
      "415:\tlearn: 0.0243088\ttotal: 342ms\tremaining: 480ms\n",
      "416:\tlearn: 0.0242731\ttotal: 343ms\tremaining: 479ms\n",
      "417:\tlearn: 0.0242567\ttotal: 344ms\tremaining: 479ms\n",
      "418:\tlearn: 0.0242167\ttotal: 344ms\tremaining: 477ms\n",
      "419:\tlearn: 0.0241808\ttotal: 345ms\tremaining: 476ms\n",
      "420:\tlearn: 0.0241590\ttotal: 345ms\tremaining: 475ms\n",
      "421:\tlearn: 0.0241262\ttotal: 346ms\tremaining: 473ms\n",
      "422:\tlearn: 0.0240611\ttotal: 346ms\tremaining: 472ms\n",
      "423:\tlearn: 0.0240121\ttotal: 346ms\tremaining: 470ms\n",
      "424:\tlearn: 0.0239694\ttotal: 346ms\tremaining: 469ms\n",
      "425:\tlearn: 0.0239231\ttotal: 347ms\tremaining: 467ms\n",
      "426:\tlearn: 0.0239080\ttotal: 347ms\tremaining: 466ms\n",
      "427:\tlearn: 0.0238680\ttotal: 348ms\tremaining: 465ms\n",
      "428:\tlearn: 0.0238305\ttotal: 348ms\tremaining: 464ms\n",
      "429:\tlearn: 0.0237868\ttotal: 349ms\tremaining: 463ms\n",
      "430:\tlearn: 0.0237672\ttotal: 350ms\tremaining: 462ms\n",
      "431:\tlearn: 0.0237545\ttotal: 350ms\tremaining: 460ms\n",
      "432:\tlearn: 0.0237316\ttotal: 351ms\tremaining: 459ms\n",
      "433:\tlearn: 0.0237128\ttotal: 351ms\tremaining: 458ms\n",
      "434:\tlearn: 0.0236715\ttotal: 352ms\tremaining: 457ms\n",
      "435:\tlearn: 0.0236033\ttotal: 352ms\tremaining: 456ms\n",
      "436:\tlearn: 0.0235831\ttotal: 353ms\tremaining: 454ms\n",
      "437:\tlearn: 0.0235440\ttotal: 353ms\tremaining: 453ms\n",
      "438:\tlearn: 0.0234914\ttotal: 354ms\tremaining: 452ms\n",
      "439:\tlearn: 0.0234703\ttotal: 354ms\tremaining: 451ms\n",
      "440:\tlearn: 0.0234107\ttotal: 355ms\tremaining: 450ms\n",
      "441:\tlearn: 0.0233778\ttotal: 355ms\tremaining: 448ms\n",
      "442:\tlearn: 0.0233283\ttotal: 356ms\tremaining: 447ms\n",
      "443:\tlearn: 0.0233102\ttotal: 356ms\tremaining: 446ms\n",
      "444:\tlearn: 0.0232781\ttotal: 357ms\tremaining: 445ms\n",
      "445:\tlearn: 0.0232442\ttotal: 358ms\tremaining: 445ms\n",
      "446:\tlearn: 0.0232073\ttotal: 358ms\tremaining: 443ms\n",
      "447:\tlearn: 0.0231878\ttotal: 359ms\tremaining: 442ms\n",
      "448:\tlearn: 0.0231668\ttotal: 360ms\tremaining: 442ms\n",
      "449:\tlearn: 0.0231363\ttotal: 361ms\tremaining: 442ms\n",
      "450:\tlearn: 0.0231184\ttotal: 362ms\tremaining: 440ms\n",
      "451:\tlearn: 0.0230856\ttotal: 363ms\tremaining: 440ms\n",
      "452:\tlearn: 0.0230490\ttotal: 364ms\tremaining: 439ms\n",
      "453:\tlearn: 0.0230211\ttotal: 364ms\tremaining: 438ms\n",
      "454:\tlearn: 0.0229896\ttotal: 366ms\tremaining: 438ms\n",
      "455:\tlearn: 0.0229776\ttotal: 366ms\tremaining: 436ms\n",
      "456:\tlearn: 0.0229656\ttotal: 367ms\tremaining: 436ms\n",
      "457:\tlearn: 0.0229216\ttotal: 369ms\tremaining: 436ms\n",
      "458:\tlearn: 0.0229046\ttotal: 369ms\tremaining: 435ms\n",
      "459:\tlearn: 0.0228694\ttotal: 370ms\tremaining: 435ms\n",
      "460:\tlearn: 0.0228409\ttotal: 372ms\tremaining: 434ms\n",
      "461:\tlearn: 0.0228064\ttotal: 372ms\tremaining: 433ms\n",
      "462:\tlearn: 0.0227863\ttotal: 372ms\tremaining: 432ms\n",
      "463:\tlearn: 0.0227675\ttotal: 373ms\tremaining: 431ms\n",
      "464:\tlearn: 0.0227098\ttotal: 373ms\tremaining: 430ms\n",
      "465:\tlearn: 0.0226848\ttotal: 374ms\tremaining: 428ms\n",
      "466:\tlearn: 0.0226665\ttotal: 374ms\tremaining: 427ms\n",
      "467:\tlearn: 0.0226294\ttotal: 375ms\tremaining: 426ms\n",
      "468:\tlearn: 0.0226189\ttotal: 375ms\tremaining: 425ms\n",
      "469:\tlearn: 0.0226076\ttotal: 376ms\tremaining: 424ms\n",
      "470:\tlearn: 0.0225954\ttotal: 376ms\tremaining: 423ms\n",
      "471:\tlearn: 0.0225641\ttotal: 377ms\tremaining: 422ms\n",
      "472:\tlearn: 0.0225200\ttotal: 377ms\tremaining: 421ms\n",
      "473:\tlearn: 0.0225040\ttotal: 378ms\tremaining: 419ms\n",
      "474:\tlearn: 0.0224694\ttotal: 379ms\tremaining: 418ms\n",
      "475:\tlearn: 0.0224255\ttotal: 379ms\tremaining: 417ms\n",
      "476:\tlearn: 0.0224148\ttotal: 380ms\tremaining: 416ms\n",
      "477:\tlearn: 0.0223807\ttotal: 380ms\tremaining: 415ms\n",
      "478:\tlearn: 0.0223635\ttotal: 381ms\tremaining: 414ms\n",
      "479:\tlearn: 0.0223427\ttotal: 381ms\tremaining: 413ms\n",
      "480:\tlearn: 0.0223275\ttotal: 381ms\tremaining: 412ms\n",
      "481:\tlearn: 0.0222952\ttotal: 382ms\tremaining: 411ms\n",
      "482:\tlearn: 0.0222770\ttotal: 383ms\tremaining: 409ms\n",
      "483:\tlearn: 0.0222459\ttotal: 383ms\tremaining: 408ms\n",
      "484:\tlearn: 0.0222195\ttotal: 384ms\tremaining: 407ms\n",
      "485:\tlearn: 0.0221752\ttotal: 384ms\tremaining: 406ms\n",
      "486:\tlearn: 0.0221445\ttotal: 385ms\tremaining: 406ms\n",
      "487:\tlearn: 0.0221283\ttotal: 386ms\tremaining: 404ms\n",
      "488:\tlearn: 0.0220987\ttotal: 386ms\tremaining: 403ms\n",
      "489:\tlearn: 0.0220788\ttotal: 386ms\tremaining: 402ms\n",
      "490:\tlearn: 0.0220501\ttotal: 387ms\tremaining: 401ms\n",
      "491:\tlearn: 0.0220214\ttotal: 387ms\tremaining: 399ms\n",
      "492:\tlearn: 0.0219914\ttotal: 387ms\tremaining: 398ms\n",
      "493:\tlearn: 0.0219572\ttotal: 388ms\tremaining: 397ms\n",
      "494:\tlearn: 0.0218966\ttotal: 388ms\tremaining: 396ms\n",
      "495:\tlearn: 0.0218735\ttotal: 389ms\tremaining: 395ms\n",
      "496:\tlearn: 0.0218473\ttotal: 389ms\tremaining: 394ms\n",
      "497:\tlearn: 0.0218286\ttotal: 390ms\tremaining: 393ms\n",
      "498:\tlearn: 0.0218015\ttotal: 390ms\tremaining: 392ms\n",
      "499:\tlearn: 0.0217796\ttotal: 391ms\tremaining: 391ms\n",
      "500:\tlearn: 0.0217637\ttotal: 392ms\tremaining: 391ms\n",
      "501:\tlearn: 0.0217532\ttotal: 394ms\tremaining: 390ms\n",
      "502:\tlearn: 0.0217224\ttotal: 395ms\tremaining: 390ms\n",
      "503:\tlearn: 0.0216864\ttotal: 396ms\tremaining: 389ms\n",
      "504:\tlearn: 0.0216495\ttotal: 396ms\tremaining: 388ms\n",
      "505:\tlearn: 0.0216226\ttotal: 397ms\tremaining: 388ms\n",
      "506:\tlearn: 0.0215889\ttotal: 398ms\tremaining: 387ms\n",
      "507:\tlearn: 0.0215419\ttotal: 399ms\tremaining: 387ms\n",
      "508:\tlearn: 0.0215307\ttotal: 401ms\tremaining: 387ms\n",
      "509:\tlearn: 0.0214903\ttotal: 401ms\tremaining: 386ms\n",
      "510:\tlearn: 0.0214559\ttotal: 403ms\tremaining: 386ms\n",
      "511:\tlearn: 0.0214179\ttotal: 404ms\tremaining: 385ms\n",
      "512:\tlearn: 0.0213922\ttotal: 405ms\tremaining: 384ms\n",
      "513:\tlearn: 0.0213723\ttotal: 406ms\tremaining: 384ms\n",
      "514:\tlearn: 0.0213621\ttotal: 406ms\tremaining: 383ms\n",
      "515:\tlearn: 0.0213528\ttotal: 407ms\tremaining: 381ms\n",
      "516:\tlearn: 0.0213174\ttotal: 407ms\tremaining: 380ms\n",
      "517:\tlearn: 0.0212690\ttotal: 407ms\tremaining: 379ms\n",
      "518:\tlearn: 0.0212519\ttotal: 408ms\tremaining: 378ms\n",
      "519:\tlearn: 0.0212254\ttotal: 409ms\tremaining: 377ms\n",
      "520:\tlearn: 0.0211998\ttotal: 409ms\tremaining: 376ms\n",
      "521:\tlearn: 0.0211907\ttotal: 410ms\tremaining: 375ms\n",
      "522:\tlearn: 0.0211590\ttotal: 410ms\tremaining: 374ms\n",
      "523:\tlearn: 0.0211279\ttotal: 411ms\tremaining: 373ms\n",
      "524:\tlearn: 0.0211062\ttotal: 411ms\tremaining: 372ms\n",
      "525:\tlearn: 0.0210724\ttotal: 412ms\tremaining: 371ms\n",
      "526:\tlearn: 0.0210298\ttotal: 412ms\tremaining: 370ms\n",
      "527:\tlearn: 0.0210193\ttotal: 413ms\tremaining: 369ms\n",
      "528:\tlearn: 0.0209979\ttotal: 413ms\tremaining: 368ms\n",
      "529:\tlearn: 0.0209597\ttotal: 414ms\tremaining: 367ms\n",
      "530:\tlearn: 0.0209325\ttotal: 414ms\tremaining: 366ms\n",
      "531:\tlearn: 0.0208759\ttotal: 414ms\tremaining: 365ms\n",
      "532:\tlearn: 0.0208502\ttotal: 415ms\tremaining: 364ms\n",
      "533:\tlearn: 0.0208145\ttotal: 415ms\tremaining: 363ms\n",
      "534:\tlearn: 0.0207912\ttotal: 416ms\tremaining: 362ms\n",
      "535:\tlearn: 0.0207626\ttotal: 416ms\tremaining: 360ms\n",
      "536:\tlearn: 0.0207301\ttotal: 417ms\tremaining: 360ms\n",
      "537:\tlearn: 0.0206715\ttotal: 418ms\tremaining: 359ms\n",
      "538:\tlearn: 0.0206492\ttotal: 418ms\tremaining: 358ms\n",
      "539:\tlearn: 0.0206076\ttotal: 419ms\tremaining: 357ms\n",
      "540:\tlearn: 0.0205718\ttotal: 419ms\tremaining: 356ms\n",
      "541:\tlearn: 0.0205350\ttotal: 420ms\tremaining: 355ms\n",
      "542:\tlearn: 0.0204786\ttotal: 420ms\tremaining: 354ms\n",
      "543:\tlearn: 0.0204550\ttotal: 421ms\tremaining: 352ms\n",
      "544:\tlearn: 0.0204314\ttotal: 421ms\tremaining: 352ms\n",
      "545:\tlearn: 0.0204086\ttotal: 422ms\tremaining: 351ms\n",
      "546:\tlearn: 0.0203881\ttotal: 422ms\tremaining: 350ms\n",
      "547:\tlearn: 0.0203780\ttotal: 423ms\tremaining: 349ms\n",
      "548:\tlearn: 0.0203540\ttotal: 423ms\tremaining: 347ms\n",
      "549:\tlearn: 0.0203323\ttotal: 423ms\tremaining: 346ms\n",
      "550:\tlearn: 0.0203033\ttotal: 424ms\tremaining: 345ms\n",
      "551:\tlearn: 0.0202815\ttotal: 424ms\tremaining: 344ms\n",
      "552:\tlearn: 0.0202604\ttotal: 425ms\tremaining: 343ms\n",
      "553:\tlearn: 0.0202509\ttotal: 427ms\tremaining: 343ms\n",
      "554:\tlearn: 0.0202200\ttotal: 427ms\tremaining: 342ms\n",
      "555:\tlearn: 0.0202048\ttotal: 428ms\tremaining: 342ms\n",
      "556:\tlearn: 0.0201969\ttotal: 428ms\tremaining: 341ms\n",
      "557:\tlearn: 0.0201736\ttotal: 429ms\tremaining: 340ms\n",
      "558:\tlearn: 0.0201211\ttotal: 430ms\tremaining: 339ms\n",
      "559:\tlearn: 0.0201021\ttotal: 434ms\tremaining: 341ms\n",
      "560:\tlearn: 0.0200816\ttotal: 435ms\tremaining: 340ms\n",
      "561:\tlearn: 0.0200733\ttotal: 435ms\tremaining: 339ms\n",
      "562:\tlearn: 0.0200554\ttotal: 436ms\tremaining: 338ms\n",
      "563:\tlearn: 0.0200336\ttotal: 437ms\tremaining: 338ms\n",
      "564:\tlearn: 0.0200118\ttotal: 438ms\tremaining: 337ms\n",
      "565:\tlearn: 0.0199979\ttotal: 439ms\tremaining: 336ms\n",
      "566:\tlearn: 0.0199851\ttotal: 439ms\tremaining: 335ms\n",
      "567:\tlearn: 0.0199642\ttotal: 440ms\tremaining: 334ms\n",
      "568:\tlearn: 0.0199270\ttotal: 441ms\tremaining: 334ms\n",
      "569:\tlearn: 0.0199182\ttotal: 441ms\tremaining: 333ms\n",
      "570:\tlearn: 0.0198988\ttotal: 442ms\tremaining: 332ms\n",
      "571:\tlearn: 0.0198804\ttotal: 442ms\tremaining: 331ms\n",
      "572:\tlearn: 0.0198544\ttotal: 443ms\tremaining: 330ms\n",
      "573:\tlearn: 0.0198228\ttotal: 443ms\tremaining: 329ms\n",
      "574:\tlearn: 0.0198050\ttotal: 444ms\tremaining: 328ms\n",
      "575:\tlearn: 0.0197909\ttotal: 444ms\tremaining: 327ms\n",
      "576:\tlearn: 0.0197710\ttotal: 445ms\tremaining: 326ms\n",
      "577:\tlearn: 0.0197519\ttotal: 445ms\tremaining: 325ms\n",
      "578:\tlearn: 0.0197344\ttotal: 446ms\tremaining: 324ms\n",
      "579:\tlearn: 0.0197128\ttotal: 446ms\tremaining: 323ms\n",
      "580:\tlearn: 0.0196948\ttotal: 447ms\tremaining: 322ms\n",
      "581:\tlearn: 0.0196646\ttotal: 448ms\tremaining: 321ms\n",
      "582:\tlearn: 0.0196496\ttotal: 448ms\tremaining: 321ms\n",
      "583:\tlearn: 0.0196217\ttotal: 449ms\tremaining: 320ms\n",
      "584:\tlearn: 0.0195743\ttotal: 449ms\tremaining: 318ms\n",
      "585:\tlearn: 0.0195497\ttotal: 449ms\tremaining: 317ms\n",
      "586:\tlearn: 0.0195367\ttotal: 449ms\tremaining: 316ms\n",
      "587:\tlearn: 0.0194866\ttotal: 450ms\tremaining: 315ms\n",
      "588:\tlearn: 0.0194626\ttotal: 451ms\tremaining: 314ms\n",
      "589:\tlearn: 0.0194429\ttotal: 451ms\tremaining: 313ms\n"
     ]
    },
    {
     "name": "stdout",
     "output_type": "stream",
     "text": [
      "590:\tlearn: 0.0193941\ttotal: 452ms\tremaining: 313ms\n",
      "591:\tlearn: 0.0193784\ttotal: 453ms\tremaining: 312ms\n",
      "592:\tlearn: 0.0193580\ttotal: 454ms\tremaining: 311ms\n",
      "593:\tlearn: 0.0193502\ttotal: 454ms\tremaining: 310ms\n",
      "594:\tlearn: 0.0193219\ttotal: 455ms\tremaining: 309ms\n",
      "595:\tlearn: 0.0192992\ttotal: 455ms\tremaining: 309ms\n",
      "596:\tlearn: 0.0192723\ttotal: 456ms\tremaining: 308ms\n",
      "597:\tlearn: 0.0192609\ttotal: 456ms\tremaining: 307ms\n",
      "598:\tlearn: 0.0192367\ttotal: 457ms\tremaining: 306ms\n",
      "599:\tlearn: 0.0192030\ttotal: 457ms\tremaining: 305ms\n",
      "600:\tlearn: 0.0191858\ttotal: 458ms\tremaining: 304ms\n",
      "601:\tlearn: 0.0191691\ttotal: 458ms\tremaining: 303ms\n",
      "602:\tlearn: 0.0191561\ttotal: 458ms\tremaining: 302ms\n",
      "603:\tlearn: 0.0191312\ttotal: 459ms\tremaining: 301ms\n",
      "604:\tlearn: 0.0191076\ttotal: 459ms\tremaining: 300ms\n",
      "605:\tlearn: 0.0190953\ttotal: 460ms\tremaining: 299ms\n",
      "606:\tlearn: 0.0190542\ttotal: 460ms\tremaining: 298ms\n",
      "607:\tlearn: 0.0190388\ttotal: 461ms\tremaining: 297ms\n",
      "608:\tlearn: 0.0190285\ttotal: 461ms\tremaining: 296ms\n",
      "609:\tlearn: 0.0190206\ttotal: 462ms\tremaining: 295ms\n",
      "610:\tlearn: 0.0190084\ttotal: 463ms\tremaining: 295ms\n",
      "611:\tlearn: 0.0189798\ttotal: 463ms\tremaining: 294ms\n",
      "612:\tlearn: 0.0189615\ttotal: 464ms\tremaining: 293ms\n",
      "613:\tlearn: 0.0189308\ttotal: 465ms\tremaining: 292ms\n",
      "614:\tlearn: 0.0189002\ttotal: 465ms\tremaining: 291ms\n",
      "615:\tlearn: 0.0188846\ttotal: 466ms\tremaining: 291ms\n",
      "616:\tlearn: 0.0188668\ttotal: 467ms\tremaining: 290ms\n",
      "617:\tlearn: 0.0188379\ttotal: 468ms\tremaining: 289ms\n",
      "618:\tlearn: 0.0188225\ttotal: 468ms\tremaining: 288ms\n",
      "619:\tlearn: 0.0188078\ttotal: 469ms\tremaining: 288ms\n",
      "620:\tlearn: 0.0187869\ttotal: 470ms\tremaining: 287ms\n",
      "621:\tlearn: 0.0187691\ttotal: 471ms\tremaining: 287ms\n",
      "622:\tlearn: 0.0187542\ttotal: 472ms\tremaining: 286ms\n",
      "623:\tlearn: 0.0187361\ttotal: 473ms\tremaining: 285ms\n",
      "624:\tlearn: 0.0187289\ttotal: 473ms\tremaining: 284ms\n",
      "625:\tlearn: 0.0187115\ttotal: 474ms\tremaining: 283ms\n",
      "626:\tlearn: 0.0186997\ttotal: 475ms\tremaining: 282ms\n",
      "627:\tlearn: 0.0186742\ttotal: 475ms\tremaining: 281ms\n",
      "628:\tlearn: 0.0186643\ttotal: 475ms\tremaining: 280ms\n",
      "629:\tlearn: 0.0186460\ttotal: 476ms\tremaining: 279ms\n",
      "630:\tlearn: 0.0186163\ttotal: 476ms\tremaining: 278ms\n",
      "631:\tlearn: 0.0185878\ttotal: 476ms\tremaining: 277ms\n",
      "632:\tlearn: 0.0185759\ttotal: 476ms\tremaining: 276ms\n",
      "633:\tlearn: 0.0185629\ttotal: 477ms\tremaining: 276ms\n",
      "634:\tlearn: 0.0185448\ttotal: 478ms\tremaining: 275ms\n",
      "635:\tlearn: 0.0185309\ttotal: 479ms\tremaining: 274ms\n",
      "636:\tlearn: 0.0185238\ttotal: 479ms\tremaining: 273ms\n",
      "637:\tlearn: 0.0184912\ttotal: 480ms\tremaining: 272ms\n",
      "638:\tlearn: 0.0184713\ttotal: 480ms\tremaining: 271ms\n",
      "639:\tlearn: 0.0184519\ttotal: 481ms\tremaining: 270ms\n",
      "640:\tlearn: 0.0184376\ttotal: 481ms\tremaining: 269ms\n",
      "641:\tlearn: 0.0184081\ttotal: 482ms\tremaining: 269ms\n",
      "642:\tlearn: 0.0183979\ttotal: 482ms\tremaining: 268ms\n",
      "643:\tlearn: 0.0183785\ttotal: 482ms\tremaining: 267ms\n",
      "644:\tlearn: 0.0183445\ttotal: 483ms\tremaining: 266ms\n",
      "645:\tlearn: 0.0183310\ttotal: 483ms\tremaining: 265ms\n",
      "646:\tlearn: 0.0183065\ttotal: 484ms\tremaining: 264ms\n",
      "647:\tlearn: 0.0182859\ttotal: 484ms\tremaining: 263ms\n",
      "648:\tlearn: 0.0182669\ttotal: 485ms\tremaining: 262ms\n",
      "649:\tlearn: 0.0182537\ttotal: 485ms\tremaining: 261ms\n",
      "650:\tlearn: 0.0182256\ttotal: 486ms\tremaining: 260ms\n",
      "651:\tlearn: 0.0182127\ttotal: 486ms\tremaining: 259ms\n",
      "652:\tlearn: 0.0181965\ttotal: 486ms\tremaining: 259ms\n",
      "653:\tlearn: 0.0181737\ttotal: 487ms\tremaining: 258ms\n",
      "654:\tlearn: 0.0181617\ttotal: 488ms\tremaining: 257ms\n",
      "655:\tlearn: 0.0181352\ttotal: 488ms\tremaining: 256ms\n",
      "656:\tlearn: 0.0181057\ttotal: 489ms\tremaining: 255ms\n",
      "657:\tlearn: 0.0180933\ttotal: 489ms\tremaining: 254ms\n",
      "658:\tlearn: 0.0180836\ttotal: 490ms\tremaining: 253ms\n",
      "659:\tlearn: 0.0180753\ttotal: 490ms\tremaining: 252ms\n",
      "660:\tlearn: 0.0180671\ttotal: 490ms\tremaining: 251ms\n",
      "661:\tlearn: 0.0180490\ttotal: 491ms\tremaining: 251ms\n",
      "662:\tlearn: 0.0180205\ttotal: 491ms\tremaining: 250ms\n",
      "663:\tlearn: 0.0180110\ttotal: 492ms\tremaining: 249ms\n",
      "664:\tlearn: 0.0180016\ttotal: 492ms\tremaining: 248ms\n",
      "665:\tlearn: 0.0179839\ttotal: 493ms\tremaining: 247ms\n",
      "666:\tlearn: 0.0179521\ttotal: 494ms\tremaining: 246ms\n",
      "667:\tlearn: 0.0179398\ttotal: 494ms\tremaining: 246ms\n",
      "668:\tlearn: 0.0179223\ttotal: 494ms\tremaining: 245ms\n",
      "669:\tlearn: 0.0178816\ttotal: 495ms\tremaining: 244ms\n",
      "670:\tlearn: 0.0178682\ttotal: 495ms\tremaining: 243ms\n",
      "671:\tlearn: 0.0178625\ttotal: 496ms\tremaining: 242ms\n",
      "672:\tlearn: 0.0178231\ttotal: 496ms\tremaining: 241ms\n",
      "673:\tlearn: 0.0178050\ttotal: 497ms\tremaining: 240ms\n",
      "674:\tlearn: 0.0177731\ttotal: 498ms\tremaining: 240ms\n",
      "675:\tlearn: 0.0177515\ttotal: 498ms\tremaining: 239ms\n",
      "676:\tlearn: 0.0177456\ttotal: 499ms\tremaining: 238ms\n",
      "677:\tlearn: 0.0177090\ttotal: 499ms\tremaining: 237ms\n",
      "678:\tlearn: 0.0176914\ttotal: 500ms\tremaining: 236ms\n",
      "679:\tlearn: 0.0176830\ttotal: 500ms\tremaining: 235ms\n",
      "680:\tlearn: 0.0176615\ttotal: 501ms\tremaining: 235ms\n",
      "681:\tlearn: 0.0176508\ttotal: 501ms\tremaining: 234ms\n",
      "682:\tlearn: 0.0176233\ttotal: 502ms\tremaining: 233ms\n",
      "683:\tlearn: 0.0176097\ttotal: 502ms\tremaining: 232ms\n",
      "684:\tlearn: 0.0175882\ttotal: 503ms\tremaining: 231ms\n",
      "685:\tlearn: 0.0175752\ttotal: 503ms\tremaining: 230ms\n",
      "686:\tlearn: 0.0175674\ttotal: 504ms\tremaining: 229ms\n",
      "687:\tlearn: 0.0175284\ttotal: 504ms\tremaining: 229ms\n",
      "688:\tlearn: 0.0175160\ttotal: 505ms\tremaining: 228ms\n",
      "689:\tlearn: 0.0175040\ttotal: 506ms\tremaining: 227ms\n",
      "690:\tlearn: 0.0174894\ttotal: 506ms\tremaining: 226ms\n",
      "691:\tlearn: 0.0174794\ttotal: 507ms\tremaining: 226ms\n",
      "692:\tlearn: 0.0174528\ttotal: 508ms\tremaining: 225ms\n",
      "693:\tlearn: 0.0174413\ttotal: 509ms\tremaining: 224ms\n",
      "694:\tlearn: 0.0174319\ttotal: 510ms\tremaining: 224ms\n",
      "695:\tlearn: 0.0174006\ttotal: 511ms\tremaining: 223ms\n",
      "696:\tlearn: 0.0173891\ttotal: 511ms\tremaining: 222ms\n",
      "697:\tlearn: 0.0173614\ttotal: 511ms\tremaining: 221ms\n",
      "698:\tlearn: 0.0173526\ttotal: 511ms\tremaining: 220ms\n",
      "699:\tlearn: 0.0173248\ttotal: 512ms\tremaining: 220ms\n",
      "700:\tlearn: 0.0173176\ttotal: 513ms\tremaining: 219ms\n",
      "701:\tlearn: 0.0173056\ttotal: 513ms\tremaining: 218ms\n",
      "702:\tlearn: 0.0172971\ttotal: 514ms\tremaining: 217ms\n",
      "703:\tlearn: 0.0172872\ttotal: 515ms\tremaining: 216ms\n",
      "704:\tlearn: 0.0172771\ttotal: 515ms\tremaining: 216ms\n",
      "705:\tlearn: 0.0172517\ttotal: 516ms\tremaining: 215ms\n",
      "706:\tlearn: 0.0172355\ttotal: 516ms\tremaining: 214ms\n",
      "707:\tlearn: 0.0172217\ttotal: 518ms\tremaining: 213ms\n",
      "708:\tlearn: 0.0171958\ttotal: 518ms\tremaining: 213ms\n",
      "709:\tlearn: 0.0171612\ttotal: 518ms\tremaining: 212ms\n",
      "710:\tlearn: 0.0171330\ttotal: 518ms\tremaining: 211ms\n",
      "711:\tlearn: 0.0170996\ttotal: 519ms\tremaining: 210ms\n",
      "712:\tlearn: 0.0170766\ttotal: 519ms\tremaining: 209ms\n",
      "713:\tlearn: 0.0170515\ttotal: 519ms\tremaining: 208ms\n",
      "714:\tlearn: 0.0170169\ttotal: 520ms\tremaining: 207ms\n",
      "715:\tlearn: 0.0169838\ttotal: 520ms\tremaining: 206ms\n",
      "716:\tlearn: 0.0169669\ttotal: 521ms\tremaining: 206ms\n",
      "717:\tlearn: 0.0169587\ttotal: 522ms\tremaining: 205ms\n",
      "718:\tlearn: 0.0169538\ttotal: 522ms\tremaining: 204ms\n",
      "719:\tlearn: 0.0169362\ttotal: 523ms\tremaining: 203ms\n",
      "720:\tlearn: 0.0169282\ttotal: 523ms\tremaining: 202ms\n",
      "721:\tlearn: 0.0169164\ttotal: 524ms\tremaining: 202ms\n",
      "722:\tlearn: 0.0169029\ttotal: 524ms\tremaining: 201ms\n",
      "723:\tlearn: 0.0168801\ttotal: 525ms\tremaining: 200ms\n",
      "724:\tlearn: 0.0168441\ttotal: 525ms\tremaining: 199ms\n",
      "725:\tlearn: 0.0168395\ttotal: 525ms\tremaining: 198ms\n",
      "726:\tlearn: 0.0168078\ttotal: 526ms\tremaining: 197ms\n",
      "727:\tlearn: 0.0167893\ttotal: 526ms\tremaining: 197ms\n",
      "728:\tlearn: 0.0167570\ttotal: 527ms\tremaining: 196ms\n",
      "729:\tlearn: 0.0167355\ttotal: 527ms\tremaining: 195ms\n",
      "730:\tlearn: 0.0167265\ttotal: 528ms\tremaining: 194ms\n",
      "731:\tlearn: 0.0167174\ttotal: 528ms\tremaining: 193ms\n",
      "732:\tlearn: 0.0166957\ttotal: 528ms\tremaining: 192ms\n",
      "733:\tlearn: 0.0166806\ttotal: 529ms\tremaining: 192ms\n",
      "734:\tlearn: 0.0166729\ttotal: 529ms\tremaining: 191ms\n",
      "735:\tlearn: 0.0166424\ttotal: 530ms\tremaining: 190ms\n",
      "736:\tlearn: 0.0166312\ttotal: 530ms\tremaining: 189ms\n",
      "737:\tlearn: 0.0165999\ttotal: 531ms\tremaining: 188ms\n",
      "738:\tlearn: 0.0165688\ttotal: 531ms\tremaining: 188ms\n",
      "739:\tlearn: 0.0165467\ttotal: 532ms\tremaining: 187ms\n",
      "740:\tlearn: 0.0165285\ttotal: 532ms\tremaining: 186ms\n",
      "741:\tlearn: 0.0165196\ttotal: 533ms\tremaining: 185ms\n",
      "742:\tlearn: 0.0165080\ttotal: 533ms\tremaining: 184ms\n",
      "743:\tlearn: 0.0164938\ttotal: 534ms\tremaining: 184ms\n",
      "744:\tlearn: 0.0164876\ttotal: 534ms\tremaining: 183ms\n",
      "745:\tlearn: 0.0164656\ttotal: 535ms\tremaining: 182ms\n",
      "746:\tlearn: 0.0164458\ttotal: 535ms\tremaining: 181ms\n",
      "747:\tlearn: 0.0164184\ttotal: 536ms\tremaining: 180ms\n",
      "748:\tlearn: 0.0164014\ttotal: 536ms\tremaining: 180ms\n",
      "749:\tlearn: 0.0163813\ttotal: 536ms\tremaining: 179ms\n",
      "750:\tlearn: 0.0163587\ttotal: 537ms\tremaining: 178ms\n",
      "751:\tlearn: 0.0163503\ttotal: 537ms\tremaining: 177ms\n",
      "752:\tlearn: 0.0163429\ttotal: 537ms\tremaining: 176ms\n",
      "753:\tlearn: 0.0163299\ttotal: 537ms\tremaining: 175ms\n",
      "754:\tlearn: 0.0163094\ttotal: 539ms\tremaining: 175ms\n",
      "755:\tlearn: 0.0162999\ttotal: 540ms\tremaining: 174ms\n",
      "756:\tlearn: 0.0162704\ttotal: 541ms\tremaining: 174ms\n",
      "757:\tlearn: 0.0162550\ttotal: 542ms\tremaining: 173ms\n",
      "758:\tlearn: 0.0162510\ttotal: 543ms\tremaining: 172ms\n",
      "759:\tlearn: 0.0162234\ttotal: 543ms\tremaining: 171ms\n",
      "760:\tlearn: 0.0162022\ttotal: 543ms\tremaining: 171ms\n",
      "761:\tlearn: 0.0161798\ttotal: 544ms\tremaining: 170ms\n",
      "762:\tlearn: 0.0161760\ttotal: 545ms\tremaining: 169ms\n",
      "763:\tlearn: 0.0161653\ttotal: 545ms\tremaining: 168ms\n",
      "764:\tlearn: 0.0161451\ttotal: 546ms\tremaining: 168ms\n",
      "765:\tlearn: 0.0161312\ttotal: 547ms\tremaining: 167ms\n",
      "766:\tlearn: 0.0161039\ttotal: 547ms\tremaining: 166ms\n",
      "767:\tlearn: 0.0160779\ttotal: 548ms\tremaining: 166ms\n",
      "768:\tlearn: 0.0160684\ttotal: 549ms\tremaining: 165ms\n",
      "769:\tlearn: 0.0160445\ttotal: 549ms\tremaining: 164ms\n",
      "770:\tlearn: 0.0160389\ttotal: 550ms\tremaining: 163ms\n",
      "771:\tlearn: 0.0160331\ttotal: 551ms\tremaining: 163ms\n",
      "772:\tlearn: 0.0160222\ttotal: 551ms\tremaining: 162ms\n",
      "773:\tlearn: 0.0160141\ttotal: 552ms\tremaining: 161ms\n",
      "774:\tlearn: 0.0159838\ttotal: 553ms\tremaining: 160ms\n",
      "775:\tlearn: 0.0159759\ttotal: 554ms\tremaining: 160ms\n",
      "776:\tlearn: 0.0159634\ttotal: 554ms\tremaining: 159ms\n",
      "777:\tlearn: 0.0159468\ttotal: 555ms\tremaining: 158ms\n",
      "778:\tlearn: 0.0159248\ttotal: 555ms\tremaining: 158ms\n",
      "779:\tlearn: 0.0159126\ttotal: 556ms\tremaining: 157ms\n",
      "780:\tlearn: 0.0159007\ttotal: 556ms\tremaining: 156ms\n",
      "781:\tlearn: 0.0158936\ttotal: 557ms\tremaining: 155ms\n",
      "782:\tlearn: 0.0158848\ttotal: 557ms\tremaining: 154ms\n",
      "783:\tlearn: 0.0158579\ttotal: 558ms\tremaining: 154ms\n",
      "784:\tlearn: 0.0158500\ttotal: 559ms\tremaining: 153ms\n",
      "785:\tlearn: 0.0158433\ttotal: 559ms\tremaining: 152ms\n",
      "786:\tlearn: 0.0158322\ttotal: 560ms\tremaining: 151ms\n",
      "787:\tlearn: 0.0158215\ttotal: 560ms\tremaining: 151ms\n",
      "788:\tlearn: 0.0158151\ttotal: 561ms\tremaining: 150ms\n",
      "789:\tlearn: 0.0158082\ttotal: 561ms\tremaining: 149ms\n",
      "790:\tlearn: 0.0157889\ttotal: 561ms\tremaining: 148ms\n",
      "791:\tlearn: 0.0157754\ttotal: 562ms\tremaining: 147ms\n",
      "792:\tlearn: 0.0157511\ttotal: 562ms\tremaining: 147ms\n",
      "793:\tlearn: 0.0157375\ttotal: 562ms\tremaining: 146ms\n",
      "794:\tlearn: 0.0157188\ttotal: 563ms\tremaining: 145ms\n",
      "795:\tlearn: 0.0157126\ttotal: 564ms\tremaining: 144ms\n",
      "796:\tlearn: 0.0157087\ttotal: 564ms\tremaining: 144ms\n",
      "797:\tlearn: 0.0156967\ttotal: 564ms\tremaining: 143ms\n",
      "798:\tlearn: 0.0156876\ttotal: 565ms\tremaining: 142ms\n",
      "799:\tlearn: 0.0156780\ttotal: 565ms\tremaining: 141ms\n",
      "800:\tlearn: 0.0156705\ttotal: 566ms\tremaining: 141ms\n",
      "801:\tlearn: 0.0156645\ttotal: 566ms\tremaining: 140ms\n",
      "802:\tlearn: 0.0156618\ttotal: 567ms\tremaining: 139ms\n",
      "803:\tlearn: 0.0156353\ttotal: 567ms\tremaining: 138ms\n",
      "804:\tlearn: 0.0156223\ttotal: 568ms\tremaining: 138ms\n",
      "805:\tlearn: 0.0156052\ttotal: 569ms\tremaining: 137ms\n",
      "806:\tlearn: 0.0155998\ttotal: 569ms\tremaining: 136ms\n",
      "807:\tlearn: 0.0155889\ttotal: 570ms\tremaining: 135ms\n",
      "808:\tlearn: 0.0155685\ttotal: 570ms\tremaining: 135ms\n",
      "809:\tlearn: 0.0155373\ttotal: 570ms\tremaining: 134ms\n",
      "810:\tlearn: 0.0155225\ttotal: 570ms\tremaining: 133ms\n",
      "811:\tlearn: 0.0155140\ttotal: 571ms\tremaining: 132ms\n",
      "812:\tlearn: 0.0155067\ttotal: 572ms\tremaining: 131ms\n",
      "813:\tlearn: 0.0154998\ttotal: 573ms\tremaining: 131ms\n",
      "814:\tlearn: 0.0154878\ttotal: 573ms\tremaining: 130ms\n",
      "815:\tlearn: 0.0154763\ttotal: 574ms\tremaining: 129ms\n",
      "816:\tlearn: 0.0154665\ttotal: 575ms\tremaining: 129ms\n",
      "817:\tlearn: 0.0154484\ttotal: 576ms\tremaining: 128ms\n",
      "818:\tlearn: 0.0154371\ttotal: 577ms\tremaining: 127ms\n",
      "819:\tlearn: 0.0154304\ttotal: 577ms\tremaining: 127ms\n",
      "820:\tlearn: 0.0154146\ttotal: 578ms\tremaining: 126ms\n",
      "821:\tlearn: 0.0154014\ttotal: 578ms\tremaining: 125ms\n",
      "822:\tlearn: 0.0153856\ttotal: 579ms\tremaining: 124ms\n",
      "823:\tlearn: 0.0153709\ttotal: 579ms\tremaining: 124ms\n",
      "824:\tlearn: 0.0153464\ttotal: 580ms\tremaining: 123ms\n",
      "825:\tlearn: 0.0153428\ttotal: 581ms\tremaining: 122ms\n",
      "826:\tlearn: 0.0153235\ttotal: 581ms\tremaining: 122ms\n",
      "827:\tlearn: 0.0153165\ttotal: 582ms\tremaining: 121ms\n",
      "828:\tlearn: 0.0153050\ttotal: 583ms\tremaining: 120ms\n",
      "829:\tlearn: 0.0152975\ttotal: 584ms\tremaining: 120ms\n",
      "830:\tlearn: 0.0152893\ttotal: 584ms\tremaining: 119ms\n",
      "831:\tlearn: 0.0152803\ttotal: 585ms\tremaining: 118ms\n",
      "832:\tlearn: 0.0152717\ttotal: 585ms\tremaining: 117ms\n",
      "833:\tlearn: 0.0152604\ttotal: 586ms\tremaining: 117ms\n",
      "834:\tlearn: 0.0152477\ttotal: 586ms\tremaining: 116ms\n",
      "835:\tlearn: 0.0152418\ttotal: 587ms\tremaining: 115ms\n",
      "836:\tlearn: 0.0152206\ttotal: 588ms\tremaining: 115ms\n",
      "837:\tlearn: 0.0152097\ttotal: 589ms\tremaining: 114ms\n",
      "838:\tlearn: 0.0152071\ttotal: 590ms\tremaining: 113ms\n",
      "839:\tlearn: 0.0151901\ttotal: 591ms\tremaining: 112ms\n",
      "840:\tlearn: 0.0151781\ttotal: 591ms\tremaining: 112ms\n",
      "841:\tlearn: 0.0151617\ttotal: 592ms\tremaining: 111ms\n",
      "842:\tlearn: 0.0151588\ttotal: 592ms\tremaining: 110ms\n",
      "843:\tlearn: 0.0151517\ttotal: 592ms\tremaining: 110ms\n",
      "844:\tlearn: 0.0151381\ttotal: 593ms\tremaining: 109ms\n",
      "845:\tlearn: 0.0151271\ttotal: 593ms\tremaining: 108ms\n",
      "846:\tlearn: 0.0151063\ttotal: 593ms\tremaining: 107ms\n",
      "847:\tlearn: 0.0150817\ttotal: 594ms\tremaining: 106ms\n",
      "848:\tlearn: 0.0150693\ttotal: 594ms\tremaining: 106ms\n",
      "849:\tlearn: 0.0150603\ttotal: 595ms\tremaining: 105ms\n",
      "850:\tlearn: 0.0150508\ttotal: 595ms\tremaining: 104ms\n",
      "851:\tlearn: 0.0150454\ttotal: 596ms\tremaining: 103ms\n",
      "852:\tlearn: 0.0150304\ttotal: 596ms\tremaining: 103ms\n",
      "853:\tlearn: 0.0150082\ttotal: 597ms\tremaining: 102ms\n",
      "854:\tlearn: 0.0149904\ttotal: 597ms\tremaining: 101ms\n",
      "855:\tlearn: 0.0149869\ttotal: 598ms\tremaining: 101ms\n",
      "856:\tlearn: 0.0149689\ttotal: 598ms\tremaining: 99.8ms\n",
      "857:\tlearn: 0.0149513\ttotal: 599ms\tremaining: 99.1ms\n"
     ]
    },
    {
     "name": "stdout",
     "output_type": "stream",
     "text": [
      "858:\tlearn: 0.0149416\ttotal: 600ms\tremaining: 98.4ms\n",
      "859:\tlearn: 0.0149124\ttotal: 601ms\tremaining: 97.8ms\n",
      "860:\tlearn: 0.0148547\ttotal: 601ms\tremaining: 97.1ms\n",
      "861:\tlearn: 0.0148342\ttotal: 602ms\tremaining: 96.3ms\n",
      "862:\tlearn: 0.0148306\ttotal: 602ms\tremaining: 95.5ms\n",
      "863:\tlearn: 0.0148194\ttotal: 602ms\tremaining: 94.8ms\n",
      "864:\tlearn: 0.0147939\ttotal: 602ms\tremaining: 94ms\n",
      "865:\tlearn: 0.0147815\ttotal: 603ms\tremaining: 93.3ms\n",
      "866:\tlearn: 0.0147759\ttotal: 604ms\tremaining: 92.6ms\n",
      "867:\tlearn: 0.0147623\ttotal: 604ms\tremaining: 91.8ms\n",
      "868:\tlearn: 0.0147606\ttotal: 604ms\tremaining: 91.1ms\n",
      "869:\tlearn: 0.0147509\ttotal: 605ms\tremaining: 90.4ms\n",
      "870:\tlearn: 0.0147449\ttotal: 605ms\tremaining: 89.7ms\n",
      "871:\tlearn: 0.0147333\ttotal: 606ms\tremaining: 89ms\n",
      "872:\tlearn: 0.0147125\ttotal: 607ms\tremaining: 88.2ms\n",
      "873:\tlearn: 0.0147064\ttotal: 607ms\tremaining: 87.5ms\n",
      "874:\tlearn: 0.0146970\ttotal: 608ms\tremaining: 86.8ms\n",
      "875:\tlearn: 0.0146731\ttotal: 608ms\tremaining: 86.1ms\n",
      "876:\tlearn: 0.0146640\ttotal: 609ms\tremaining: 85.4ms\n",
      "877:\tlearn: 0.0146587\ttotal: 610ms\tremaining: 84.8ms\n",
      "878:\tlearn: 0.0146534\ttotal: 611ms\tremaining: 84.1ms\n",
      "879:\tlearn: 0.0146461\ttotal: 612ms\tremaining: 83.4ms\n",
      "880:\tlearn: 0.0146217\ttotal: 613ms\tremaining: 82.8ms\n",
      "881:\tlearn: 0.0146129\ttotal: 613ms\tremaining: 82.1ms\n",
      "882:\tlearn: 0.0145897\ttotal: 614ms\tremaining: 81.4ms\n",
      "883:\tlearn: 0.0145739\ttotal: 615ms\tremaining: 80.7ms\n",
      "884:\tlearn: 0.0145582\ttotal: 616ms\tremaining: 80ms\n",
      "885:\tlearn: 0.0145462\ttotal: 616ms\tremaining: 79.3ms\n",
      "886:\tlearn: 0.0145434\ttotal: 617ms\tremaining: 78.6ms\n",
      "887:\tlearn: 0.0145253\ttotal: 618ms\tremaining: 77.9ms\n",
      "888:\tlearn: 0.0145211\ttotal: 618ms\tremaining: 77.2ms\n",
      "889:\tlearn: 0.0145128\ttotal: 619ms\tremaining: 76.5ms\n",
      "890:\tlearn: 0.0144843\ttotal: 620ms\tremaining: 75.8ms\n",
      "891:\tlearn: 0.0144686\ttotal: 621ms\tremaining: 75.2ms\n",
      "892:\tlearn: 0.0144609\ttotal: 622ms\tremaining: 74.5ms\n",
      "893:\tlearn: 0.0144481\ttotal: 623ms\tremaining: 73.9ms\n",
      "894:\tlearn: 0.0144392\ttotal: 624ms\tremaining: 73.2ms\n",
      "895:\tlearn: 0.0144284\ttotal: 624ms\tremaining: 72.5ms\n",
      "896:\tlearn: 0.0144143\ttotal: 625ms\tremaining: 71.7ms\n",
      "897:\tlearn: 0.0144074\ttotal: 626ms\tremaining: 71.1ms\n",
      "898:\tlearn: 0.0143901\ttotal: 626ms\tremaining: 70.4ms\n",
      "899:\tlearn: 0.0143770\ttotal: 627ms\tremaining: 69.6ms\n",
      "900:\tlearn: 0.0143699\ttotal: 627ms\tremaining: 68.9ms\n",
      "901:\tlearn: 0.0143644\ttotal: 628ms\tremaining: 68.2ms\n",
      "902:\tlearn: 0.0143495\ttotal: 628ms\tremaining: 67.5ms\n",
      "903:\tlearn: 0.0143332\ttotal: 629ms\tremaining: 66.7ms\n",
      "904:\tlearn: 0.0143168\ttotal: 629ms\tremaining: 66ms\n",
      "905:\tlearn: 0.0142966\ttotal: 630ms\tremaining: 65.3ms\n",
      "906:\tlearn: 0.0142852\ttotal: 630ms\tremaining: 64.6ms\n",
      "907:\tlearn: 0.0142678\ttotal: 630ms\tremaining: 63.9ms\n",
      "908:\tlearn: 0.0142455\ttotal: 631ms\tremaining: 63.1ms\n",
      "909:\tlearn: 0.0142288\ttotal: 631ms\tremaining: 62.4ms\n",
      "910:\tlearn: 0.0142203\ttotal: 632ms\tremaining: 61.7ms\n",
      "911:\tlearn: 0.0142045\ttotal: 632ms\tremaining: 61ms\n",
      "912:\tlearn: 0.0141883\ttotal: 632ms\tremaining: 60.3ms\n",
      "913:\tlearn: 0.0141761\ttotal: 633ms\tremaining: 59.5ms\n",
      "914:\tlearn: 0.0141670\ttotal: 634ms\tremaining: 58.9ms\n",
      "915:\tlearn: 0.0141563\ttotal: 634ms\tremaining: 58.2ms\n",
      "916:\tlearn: 0.0141489\ttotal: 635ms\tremaining: 57.5ms\n",
      "917:\tlearn: 0.0141392\ttotal: 635ms\tremaining: 56.7ms\n",
      "918:\tlearn: 0.0141304\ttotal: 636ms\tremaining: 56ms\n",
      "919:\tlearn: 0.0141149\ttotal: 636ms\tremaining: 55.3ms\n",
      "920:\tlearn: 0.0141042\ttotal: 637ms\tremaining: 54.6ms\n",
      "921:\tlearn: 0.0140995\ttotal: 637ms\tremaining: 53.9ms\n",
      "922:\tlearn: 0.0140908\ttotal: 638ms\tremaining: 53.2ms\n",
      "923:\tlearn: 0.0140725\ttotal: 638ms\tremaining: 52.5ms\n",
      "924:\tlearn: 0.0140620\ttotal: 639ms\tremaining: 51.8ms\n",
      "925:\tlearn: 0.0140584\ttotal: 639ms\tremaining: 51.1ms\n",
      "926:\tlearn: 0.0140451\ttotal: 639ms\tremaining: 50.4ms\n",
      "927:\tlearn: 0.0140235\ttotal: 640ms\tremaining: 49.6ms\n",
      "928:\tlearn: 0.0140086\ttotal: 640ms\tremaining: 48.9ms\n",
      "929:\tlearn: 0.0139932\ttotal: 641ms\tremaining: 48.2ms\n",
      "930:\tlearn: 0.0139441\ttotal: 641ms\tremaining: 47.5ms\n",
      "931:\tlearn: 0.0139402\ttotal: 641ms\tremaining: 46.8ms\n",
      "932:\tlearn: 0.0139302\ttotal: 641ms\tremaining: 46.1ms\n",
      "933:\tlearn: 0.0139126\ttotal: 642ms\tremaining: 45.3ms\n",
      "934:\tlearn: 0.0138961\ttotal: 642ms\tremaining: 44.6ms\n",
      "935:\tlearn: 0.0138939\ttotal: 643ms\tremaining: 43.9ms\n",
      "936:\tlearn: 0.0138841\ttotal: 643ms\tremaining: 43.2ms\n",
      "937:\tlearn: 0.0138633\ttotal: 644ms\tremaining: 42.6ms\n",
      "938:\tlearn: 0.0138580\ttotal: 644ms\tremaining: 41.9ms\n",
      "939:\tlearn: 0.0138515\ttotal: 645ms\tremaining: 41.1ms\n",
      "940:\tlearn: 0.0138476\ttotal: 646ms\tremaining: 40.5ms\n",
      "941:\tlearn: 0.0138433\ttotal: 647ms\tremaining: 39.8ms\n",
      "942:\tlearn: 0.0138267\ttotal: 647ms\tremaining: 39.1ms\n",
      "943:\tlearn: 0.0138137\ttotal: 648ms\tremaining: 38.4ms\n",
      "944:\tlearn: 0.0138018\ttotal: 649ms\tremaining: 37.8ms\n",
      "945:\tlearn: 0.0137935\ttotal: 649ms\tremaining: 37.1ms\n",
      "946:\tlearn: 0.0137884\ttotal: 650ms\tremaining: 36.4ms\n",
      "947:\tlearn: 0.0137868\ttotal: 651ms\tremaining: 35.7ms\n",
      "948:\tlearn: 0.0137694\ttotal: 651ms\tremaining: 35ms\n",
      "949:\tlearn: 0.0137594\ttotal: 652ms\tremaining: 34.3ms\n",
      "950:\tlearn: 0.0137563\ttotal: 653ms\tremaining: 33.6ms\n",
      "951:\tlearn: 0.0137362\ttotal: 654ms\tremaining: 33ms\n",
      "952:\tlearn: 0.0137322\ttotal: 655ms\tremaining: 32.3ms\n",
      "953:\tlearn: 0.0137284\ttotal: 656ms\tremaining: 31.6ms\n",
      "954:\tlearn: 0.0137156\ttotal: 656ms\tremaining: 30.9ms\n",
      "955:\tlearn: 0.0136958\ttotal: 657ms\tremaining: 30.2ms\n",
      "956:\tlearn: 0.0136849\ttotal: 658ms\tremaining: 29.6ms\n",
      "957:\tlearn: 0.0136758\ttotal: 658ms\tremaining: 28.9ms\n",
      "958:\tlearn: 0.0136652\ttotal: 659ms\tremaining: 28.2ms\n",
      "959:\tlearn: 0.0136531\ttotal: 660ms\tremaining: 27.5ms\n",
      "960:\tlearn: 0.0136513\ttotal: 661ms\tremaining: 26.8ms\n",
      "961:\tlearn: 0.0136453\ttotal: 662ms\tremaining: 26.1ms\n",
      "962:\tlearn: 0.0136415\ttotal: 662ms\tremaining: 25.4ms\n",
      "963:\tlearn: 0.0136377\ttotal: 664ms\tremaining: 24.8ms\n",
      "964:\tlearn: 0.0136282\ttotal: 664ms\tremaining: 24.1ms\n",
      "965:\tlearn: 0.0136147\ttotal: 665ms\tremaining: 23.4ms\n",
      "966:\tlearn: 0.0136065\ttotal: 665ms\tremaining: 22.7ms\n",
      "967:\tlearn: 0.0135882\ttotal: 666ms\tremaining: 22ms\n",
      "968:\tlearn: 0.0135828\ttotal: 667ms\tremaining: 21.3ms\n",
      "969:\tlearn: 0.0135730\ttotal: 667ms\tremaining: 20.6ms\n",
      "970:\tlearn: 0.0135705\ttotal: 668ms\tremaining: 19.9ms\n",
      "971:\tlearn: 0.0135649\ttotal: 668ms\tremaining: 19.2ms\n",
      "972:\tlearn: 0.0135515\ttotal: 669ms\tremaining: 18.6ms\n",
      "973:\tlearn: 0.0135472\ttotal: 669ms\tremaining: 17.9ms\n",
      "974:\tlearn: 0.0135423\ttotal: 670ms\tremaining: 17.2ms\n",
      "975:\tlearn: 0.0135330\ttotal: 671ms\tremaining: 16.5ms\n",
      "976:\tlearn: 0.0135275\ttotal: 671ms\tremaining: 15.8ms\n",
      "977:\tlearn: 0.0135206\ttotal: 672ms\tremaining: 15.1ms\n",
      "978:\tlearn: 0.0135133\ttotal: 672ms\tremaining: 14.4ms\n",
      "979:\tlearn: 0.0135067\ttotal: 672ms\tremaining: 13.7ms\n",
      "980:\tlearn: 0.0135030\ttotal: 672ms\tremaining: 13ms\n",
      "981:\tlearn: 0.0134581\ttotal: 673ms\tremaining: 12.3ms\n",
      "982:\tlearn: 0.0134421\ttotal: 673ms\tremaining: 11.6ms\n",
      "983:\tlearn: 0.0134291\ttotal: 673ms\tremaining: 10.9ms\n",
      "984:\tlearn: 0.0134203\ttotal: 674ms\tremaining: 10.3ms\n",
      "985:\tlearn: 0.0134179\ttotal: 675ms\tremaining: 9.58ms\n",
      "986:\tlearn: 0.0134003\ttotal: 675ms\tremaining: 8.89ms\n",
      "987:\tlearn: 0.0133981\ttotal: 676ms\tremaining: 8.21ms\n",
      "988:\tlearn: 0.0133838\ttotal: 676ms\tremaining: 7.52ms\n",
      "989:\tlearn: 0.0133715\ttotal: 677ms\tremaining: 6.84ms\n",
      "990:\tlearn: 0.0133700\ttotal: 677ms\tremaining: 6.15ms\n",
      "991:\tlearn: 0.0133620\ttotal: 678ms\tremaining: 5.47ms\n",
      "992:\tlearn: 0.0133567\ttotal: 679ms\tremaining: 4.78ms\n",
      "993:\tlearn: 0.0133157\ttotal: 679ms\tremaining: 4.1ms\n",
      "994:\tlearn: 0.0133104\ttotal: 680ms\tremaining: 3.42ms\n",
      "995:\tlearn: 0.0133013\ttotal: 680ms\tremaining: 2.73ms\n",
      "996:\tlearn: 0.0132911\ttotal: 681ms\tremaining: 2.05ms\n",
      "997:\tlearn: 0.0132740\ttotal: 681ms\tremaining: 1.36ms\n",
      "998:\tlearn: 0.0132338\ttotal: 682ms\tremaining: 682us\n",
      "999:\tlearn: 0.0132247\ttotal: 682ms\tremaining: 0us\n"
     ]
    },
    {
     "data": {
      "text/plain": [
       "<catboost.core.CatBoostRegressor at 0x7fee1b72fdf0>"
      ]
     },
     "execution_count": 9,
     "metadata": {},
     "output_type": "execute_result"
    }
   ],
   "source": [
    "#Train the Model \n",
    "prior_model = ctb.CatBoostRegressor()\n",
    "prior_model.fit(X_train,Y_train)"
   ]
  },
  {
   "cell_type": "code",
   "execution_count": 10,
   "id": "af65dcda",
   "metadata": {
    "execution": {
     "iopub.execute_input": "2022-07-25T02:28:12.300189Z",
     "iopub.status.busy": "2022-07-25T02:28:12.299330Z",
     "iopub.status.idle": "2022-07-25T02:28:12.350204Z",
     "shell.execute_reply": "2022-07-25T02:28:12.345247Z"
    },
    "id": "af65dcda",
    "papermill": {
     "duration": 0.073198,
     "end_time": "2022-07-25T02:28:12.356236",
     "exception": false,
     "start_time": "2022-07-25T02:28:12.283038",
     "status": "completed"
    },
    "tags": []
   },
   "outputs": [
    {
     "data": {
      "application/scrapbook.scrap.json+json": {
       "data": 0.0008002157864781114,
       "encoder": "json",
       "name": "Prior Model MSE",
       "version": 1
      }
     },
     "metadata": {
      "scrapbook": {
       "data": true,
       "display": false,
       "name": "Prior Model MSE"
      }
     },
     "output_type": "display_data"
    },
    {
     "data": {
      "application/scrapbook.scrap.json+json": {
       "data": 1.0093540687861526,
       "encoder": "json",
       "name": "ABC Pre-generator MSE",
       "version": 1
      }
     },
     "metadata": {
      "scrapbook": {
       "data": true,
       "display": false,
       "name": "ABC Pre-generator MSE"
      }
     },
     "output_type": "display_data"
    },
    {
     "data": {
      "application/scrapbook.scrap.json+json": {
       "data": 0.020446134302622095,
       "encoder": "json",
       "name": "Prior Model MAE",
       "version": 1
      }
     },
     "metadata": {
      "scrapbook": {
       "data": true,
       "display": false,
       "name": "Prior Model MAE"
      }
     },
     "output_type": "display_data"
    },
    {
     "name": "stdout",
     "output_type": "stream",
     "text": [
      "Prior Model MAE 0.020446134302622095\n",
      "ABC Pre-generator MAE 0.7930206591351687\n"
     ]
    }
   ],
   "source": [
    "y_pred = prior_model.predict(X_test)\n",
    "y_abc = y_pred + np.random.normal(0,variance, y_pred.shape) + bias \n",
    "mse = mean_squared_error(y_pred,Y_test)\n",
    "sb.glue(\"Prior Model MSE\",mse)\n",
    "mse = mean_squared_error(y_abc,Y_test)\n",
    "sb.glue(\"ABC Pre-generator MSE\",mse)\n",
    "mae = mean_absolute_error(y_pred,Y_test)\n",
    "sb.glue(\"Prior Model MAE\",mae)\n",
    "print(\"Prior Model MAE\",mae)\n",
    "mae = mean_absolute_error(y_abc,Y_test)\n",
    "print(\"ABC Pre-generator MAE\",mae)"
   ]
  },
  {
   "cell_type": "markdown",
   "id": "25609da2",
   "metadata": {
    "papermill": {
     "duration": 0.011359,
     "end_time": "2022-07-25T02:28:12.379029",
     "exception": false,
     "start_time": "2022-07-25T02:28:12.367670",
     "status": "completed"
    },
    "tags": []
   },
   "source": [
    "# mGAN Model"
   ]
  },
  {
   "cell_type": "code",
   "execution_count": 11,
   "id": "dfc3464d",
   "metadata": {
    "execution": {
     "iopub.execute_input": "2022-07-25T02:28:12.413753Z",
     "iopub.status.busy": "2022-07-25T02:28:12.412351Z",
     "iopub.status.idle": "2022-07-25T02:28:12.418767Z",
     "shell.execute_reply": "2022-07-25T02:28:12.417867Z"
    },
    "papermill": {
     "duration": 0.028163,
     "end_time": "2022-07-25T02:28:12.422620",
     "exception": false,
     "start_time": "2022-07-25T02:28:12.394457",
     "status": "completed"
    },
    "tags": []
   },
   "outputs": [],
   "source": [
    "# gen = network.Generator(n_features+1).to(device)\n",
    "# disc = network.Discriminator(n_features+1).to(device)\n",
    "\n",
    "# criterion = torch.nn.BCELoss()\n",
    "# gen_opt = torch.optim.Adam(gen.parameters(), lr=0.01, betas=(0.5, 0.999))\n",
    "# disc_opt = torch.optim.Adam(disc.parameters(), lr=0.01, betas=(0.5, 0.999))"
   ]
  },
  {
   "cell_type": "code",
   "execution_count": 12,
   "id": "b75fdd85",
   "metadata": {
    "execution": {
     "iopub.execute_input": "2022-07-25T02:28:12.455846Z",
     "iopub.status.busy": "2022-07-25T02:28:12.455113Z",
     "iopub.status.idle": "2022-07-25T02:28:12.461645Z",
     "shell.execute_reply": "2022-07-25T02:28:12.459815Z"
    },
    "papermill": {
     "duration": 0.031793,
     "end_time": "2022-07-25T02:28:12.464913",
     "exception": false,
     "start_time": "2022-07-25T02:28:12.433120",
     "status": "completed"
    },
    "tags": []
   },
   "outputs": [],
   "source": [
    "#Training the ABC_GAN \n",
    "# ABC_train_test2.training_GAN(disc,gen,disc_opt,gen_opt,train_data,batch_size,n_epochs,criterion,prior_model,variance,bias,device)"
   ]
  },
  {
   "cell_type": "code",
   "execution_count": 13,
   "id": "1fa7c368",
   "metadata": {
    "execution": {
     "iopub.execute_input": "2022-07-25T02:28:12.489430Z",
     "iopub.status.busy": "2022-07-25T02:28:12.488566Z",
     "iopub.status.idle": "2022-07-25T02:28:12.497193Z",
     "shell.execute_reply": "2022-07-25T02:28:12.494456Z"
    },
    "papermill": {
     "duration": 0.029146,
     "end_time": "2022-07-25T02:28:12.504033",
     "exception": false,
     "start_time": "2022-07-25T02:28:12.474887",
     "status": "completed"
    },
    "tags": []
   },
   "outputs": [],
   "source": [
    "# ABC_GAN1_metrics=ABC_train_test2.test_generator(gen,test_data,prior_model,variance,bias,\"1\",device)\n",
    "# sb.glue(\"ABC_GAN_1 Metrics\",ABC_GAN1_metrics)\n",
    "\n",
    "# print(\"MAE\")\n",
    "# print(mean(ABC_GAN1_metrics[1]))"
   ]
  },
  {
   "cell_type": "code",
   "execution_count": 14,
   "id": "eb22ce5c",
   "metadata": {
    "execution": {
     "iopub.execute_input": "2022-07-25T02:28:12.529113Z",
     "iopub.status.busy": "2022-07-25T02:28:12.528639Z",
     "iopub.status.idle": "2022-07-25T02:28:12.534150Z",
     "shell.execute_reply": "2022-07-25T02:28:12.531926Z"
    },
    "papermill": {
     "duration": 0.028734,
     "end_time": "2022-07-25T02:28:12.544408",
     "exception": false,
     "start_time": "2022-07-25T02:28:12.515674",
     "status": "completed"
    },
    "tags": []
   },
   "outputs": [],
   "source": [
    "# sanityChecks.discProbVsError(train_data,disc,device)\n",
    "# sanityChecks.discProbVsError(test_data,disc,device)"
   ]
  },
  {
   "cell_type": "markdown",
   "id": "84cb3562",
   "metadata": {
    "papermill": {
     "duration": 0.011061,
     "end_time": "2022-07-25T02:28:12.572739",
     "exception": false,
     "start_time": "2022-07-25T02:28:12.561678",
     "status": "completed"
    },
    "tags": []
   },
   "source": [
    "# mGAN Model with TabNet Generator"
   ]
  },
  {
   "cell_type": "code",
   "execution_count": 15,
   "id": "f2edbc18",
   "metadata": {
    "execution": {
     "iopub.execute_input": "2022-07-25T02:28:12.604085Z",
     "iopub.status.busy": "2022-07-25T02:28:12.603609Z",
     "iopub.status.idle": "2022-07-25T02:28:12.622094Z",
     "shell.execute_reply": "2022-07-25T02:28:12.621303Z"
    },
    "papermill": {
     "duration": 0.041056,
     "end_time": "2022-07-25T02:28:12.625098",
     "exception": false,
     "start_time": "2022-07-25T02:28:12.584042",
     "status": "completed"
    },
    "tags": []
   },
   "outputs": [],
   "source": [
    "gen2 = network.GeneratorTabnet(n_features+1).to(device)\n",
    "disc2 = network.Discriminator(n_features+1).to(device)\n",
    "\n",
    "criterion = torch.nn.BCELoss()\n",
    "gen_opt = torch.optim.Adam(gen2.parameters(), lr=0.01, betas=(0.5, 0.999))\n",
    "disc_opt = torch.optim.Adam(disc2.parameters(), lr=0.01, betas=(0.5, 0.999))"
   ]
  },
  {
   "cell_type": "code",
   "execution_count": 16,
   "id": "e8f3f7b8",
   "metadata": {
    "execution": {
     "iopub.execute_input": "2022-07-25T02:28:12.659475Z",
     "iopub.status.busy": "2022-07-25T02:28:12.658800Z",
     "iopub.status.idle": "2022-07-25T02:44:43.377975Z",
     "shell.execute_reply": "2022-07-25T02:44:43.376451Z"
    },
    "papermill": {
     "duration": 990.739144,
     "end_time": "2022-07-25T02:44:43.381040",
     "exception": false,
     "start_time": "2022-07-25T02:28:12.641896",
     "status": "completed"
    },
    "tags": []
   },
   "outputs": [
    {
     "data": {
      "image/png": "[encoded data removed]",
      "text/plain": [
       "<Figure size 432x288 with 1 Axes>"
      ]
     },
     "metadata": {
      "needs_background": "light"
     },
     "output_type": "display_data"
    },
    {
     "data": {
      "image/png": "[encoded data removed]",
      "text/plain": [
       "<Figure size 432x288 with 1 Axes>"
      ]
     },
     "metadata": {
      "needs_background": "light"
     },
     "output_type": "display_data"
    }
   ],
   "source": [
    "#Training the ABC_GAN \n",
    "ABC_train_test2.training_GAN(disc2,gen2,disc_opt,gen_opt,train_data,batch_size,n_epochs,criterion,prior_model,variance,bias,device)"
   ]
  },
  {
   "cell_type": "code",
   "execution_count": 17,
   "id": "b3f18316",
   "metadata": {
    "execution": {
     "iopub.execute_input": "2022-07-25T02:44:43.407279Z",
     "iopub.status.busy": "2022-07-25T02:44:43.406671Z",
     "iopub.status.idle": "2022-07-25T02:44:45.296739Z",
     "shell.execute_reply": "2022-07-25T02:44:45.295730Z"
    },
    "papermill": {
     "duration": 1.907977,
     "end_time": "2022-07-25T02:44:45.300887",
     "exception": false,
     "start_time": "2022-07-25T02:44:43.392910",
     "status": "completed"
    },
    "tags": []
   },
   "outputs": [
    {
     "data": {
      "application/scrapbook.scrap.json+json": {
       "data": 0.02110900935232788,
       "encoder": "json",
       "name": "ABC-GAN Model 1 MSE",
       "version": 1
      }
     },
     "metadata": {
      "scrapbook": {
       "data": true,
       "display": false,
       "name": "ABC-GAN Model 1 MSE"
      }
     },
     "output_type": "display_data"
    },
    {
     "data": {
      "application/scrapbook.scrap.json+json": {
       "data": 0.05965067795925326,
       "encoder": "json",
       "name": "ABC-GAN Model 1 MAE",
       "version": 1
      }
     },
     "metadata": {
      "scrapbook": {
       "data": true,
       "display": false,
       "name": "ABC-GAN Model 1 MAE"
      }
     },
     "output_type": "display_data"
    },
    {
     "data": {
      "application/scrapbook.scrap.json+json": {
       "data": 9.186204405725002,
       "encoder": "json",
       "name": "ABC-GAN Model 1 Manhattan Distance",
       "version": 1
      }
     },
     "metadata": {
      "scrapbook": {
       "data": true,
       "display": false,
       "name": "ABC-GAN Model 1 Manhattan Distance"
      }
     },
     "output_type": "display_data"
    },
    {
     "data": {
      "application/scrapbook.scrap.json+json": {
       "data": 1.7747587271373513,
       "encoder": "json",
       "name": "ABC-GAN Model 1 Euclidean distance",
       "version": 1
      }
     },
     "metadata": {
      "scrapbook": {
       "data": true,
       "display": false,
       "name": "ABC-GAN Model 1 Euclidean distance"
      }
     },
     "output_type": "display_data"
    },
    {
     "data": {
      "application/scrapbook.scrap.json+json": {
       "data": [
        [
         0.01311170748978544,
         0.013260444140462693,
         0.013152887688104983,
         0.01608441545919755,
         0.027131765478726755,
         0.013332412008531575,
         0.013372872899683846,
         0.021743030801731473,
         0.015463458797528749,
         0.02904225757402931,
         0.029052832066119656,
         0.036211099137419774,
         0.009964357708193497,
         0.03589773423448053,
         0.013261842548602213,
         0.027696793742239944,
         0.02804413790201898,
         0.019762763115054014,
         0.02081367422682279,
         0.020698845727023844,
         0.02911797219576233,
         0.020026217855067936,
         0.036148133255472614,
         0.013233760580999456,
         0.013196906952445388,
         0.026268487332974683,
         0.01970852044265531,
         0.02800315536296335,
         0.028047238943231034,
         0.011897684880528246,
         0.020537404617564654,
         0.018464527839863243,
         0.012899080825112373,
         0.026313080973073517,
         0.012082861152435733,
         0.02932600081696703,
         0.021077141042410968,
         0.013269573274456404,
         0.007043126303946656,
         0.01954127251390688,
         0.025764400657981808,
         0.02068805096810148,
         0.01599833057069339,
         0.013240608075534366,
         0.022720642080989378,
         0.025420889215894978,
         0.0418729395071398,
         0.012878436797851514,
         0.02609337017913458,
         0.01304145047547626,
         0.023692867883506358,
         0.013311284555525561,
         0.013300486048526463,
         0.027778754439849486,
         0.02062077836763102,
         0.020820190897087972,
         0.023231150983548648,
         0.026924116049032165,
         0.012221572071967788,
         0.004408753070153824,
         0.02064290534357286,
         0.020818580733291524,
         0.028628938966438058,
         0.02905140163574635,
         0.020480643180825684,
         0.02064290534357286,
         0.022047066508520216,
         0.028470220671490663,
         0.013074600804179244,
         0.02064290534357286,
         0.028668477388614694,
         0.026286362417426892,
         0.02064290534357286,
         0.0241585799604616,
         0.029052832066119656,
         0.02066633354361657,
         0.020920138581814685,
         0.01224978737589382,
         0.027290128354285202,
         0.029083800838091072,
         0.02133330990154501,
         0.020248967352122376,
         0.028886809953251366,
         0.01202620697632296,
         0.022668741979681488,
         0.026284313680450345,
         0.020384338954809525,
         0.013061316978838756,
         0.028735243481037516,
         0.02906731407256676,
         0.022459620479243676,
         0.02061918594803707,
         0.02100219837391171,
         0.029050574619692522,
         0.005384344268248857,
         0.020679857059401383,
         0.013718284724803366,
         0.027648656263283004,
         0.021216218697288496,
         0.015575364263922106
        ],
        [
         0.05285122110085054,
         0.0536893042070525,
         0.05324858281906549,
         0.057214970422255526,
         0.06510846461955604,
         0.05378938079267353,
         0.0541522687712273,
         0.05974737961183895,
         0.055846700710909705,
         0.06505902508249531,
         0.06506058428581658,
         0.07193105822646773,
         0.05145048466208693,
         0.07186101173812692,
         0.0536435375159437,
         0.06438961150971326,
         0.06530584249790612,
         0.060942211805225965,
         0.05899273023589865,
         0.05885211552505369,
         0.06510354433353845,
         0.05957317826422778,
         0.07191004487988237,
         0.05360315807841041,
         0.053430816473124865,
         0.0634359662215431,
         0.05914077056305749,
         0.06520611463816135,
         0.06521235222553277,
         0.051498123287380515,
         0.0581765721564169,
         0.05833414032474741,
         0.05312863950218473,
         0.06344980514281756,
         0.05210567439918394,
         0.06639712981202385,
         0.05888756945148691,
         0.053702231254670524,
         0.050150798803026024,
         0.05908874809354931,
         0.06332283254180636,
         0.05901049590343005,
         0.055589662066527774,
         0.05363892918670332,
         0.06147832287983461,
         0.06398815158512686,
         0.07700769187181027,
         0.05251063009748211,
         0.06401360412309696,
         0.05353322847710027,
         0.06248452611170806,
         0.053812024752040964,
         0.053681742932115285,
         0.06581841051191478,
         0.058804085212094445,
         0.05901942344067933,
         0.06212006751206014,
         0.06407621396439415,
         0.05234958086307947,
         0.04678109646230549,
         0.058775286299067656,
         0.05807345805617122,
         0.0651774974418925,
         0.06509317467352013,
         0.05794503230166126,
         0.058775286299067656,
         0.06064959615468979,
         0.06481047855182127,
         0.053162321932130045,
         0.058775286299067656,
         0.06480325323033642,
         0.06423926092200465,
         0.058775286299067656,
         0.06293248714177639,
         0.06506058428581658,
         0.05880668865782874,
         0.05906717605017996,
         0.05257584106225472,
         0.0648730235633912,
         0.06555158199815007,
         0.05930438376479335,
         0.06014308478538092,
         0.06499908042031449,
         0.052255987830750354,
         0.06101977738080087,
         0.06341111360045222,
         0.05873306318149938,
         0.05308138017917608,
         0.06492084119614068,
         0.06500770509630055,
         0.061395525254986504,
         0.05871341725835552,
         0.05941108749671416,
         0.06499103418031296,
         0.047599157826466995,
         0.05911169297896422,
         0.053996684586072895,
         0.06486549654177257,
         0.060499766720579815,
         0.055972329885154576
        ],
        [
         8.139088049530983,
         8.268152847886086,
         8.200281754136086,
         8.811105445027351,
         10.026703551411629,
         8.283564642071724,
         8.339449390769005,
         9.201096460223198,
         8.600391909480095,
         10.019089862704277,
         10.019329980015755,
         11.07738296687603,
         7.923374637961388,
         11.066595807671547,
         8.26110477745533,
         9.916000172495842,
         10.057099744677544,
         9.385100618004799,
         9.084880456328392,
         9.063225790858269,
         10.025945827364922,
         9.174269452691078,
         11.074146911501884,
         8.254886344075203,
         8.228345736861229,
         9.769138798117638,
         9.107678666710854,
         10.041741654276848,
         10.042702242732048,
         7.930710986256599,
         8.959192112088203,
         8.9834576100111,
         8.181810483336449,
         9.771269991993904,
         8.024273857474327,
         10.225157991051674,
         9.068685695528984,
         8.270143613219261,
         7.723223015666008,
         9.099667206406593,
         9.751716211438179,
         9.087616369128227,
         8.560807958245277,
         8.260395094752312,
         9.46766172349453,
         9.854175344109535,
         11.859184548258781,
         8.086637035012245,
         9.858095034956932,
         8.244117185473442,
         9.622617021203041,
         8.287051811814308,
         8.266988411545753,
         10.136035218834877,
         9.055829122662544,
         9.088991209864616,
         9.566490396857262,
         9.8677369505167,
         8.061835452914238,
         7.2042888551950455,
         9.05139409005642,
         8.943312540650368,
         10.037334606051445,
         10.0243488997221,
         8.923534974455833,
         9.05139409005642,
         9.340037807822227,
         9.980813696980476,
         8.186997577548027,
         9.05139409005642,
         9.97970099747181,
         9.892846181988716,
         9.05139409005642,
         9.691603019833565,
         10.019329980015755,
         9.056230053305626,
         9.096345111727715,
         8.096679523587227,
         9.990445628762245,
         10.09494362771511,
         9.132875099778175,
         9.262035056948662,
         10.009858384728432,
         8.047422125935555,
         9.397045716643333,
         9.765311494469643,
         9.044891729950905,
         8.174532547593117,
         9.997809544205666,
         10.011186584830284,
         9.454910889267921,
         9.04186625778675,
         9.14930747449398,
         10.008619263768196,
         7.330270305275917,
         9.10320071876049,
         8.315489426255226,
         9.989286467432976,
         9.316964074969292,
         8.619738802313805
        ],
        [
         1.420986612683933,
         1.4290235819017316,
         1.4232163236726059,
         1.5738487794945304,
         2.044087053851651,
         1.4328961753434415,
         1.4350687880904218,
         1.8298706903676685,
         1.5431696779095383,
         2.1148304107896014,
         2.1152153881301134,
         2.3614633740887547,
         1.2387538444185748,
         2.3512233139602037,
         1.4290989302650607,
         2.065261783964675,
         2.078171609110018,
         1.7445531002862362,
         1.7903367925981721,
         1.7853913414043634,
         2.1175853508530413,
         1.7561428044667844,
         2.3594093585774347,
         1.427585069084822,
         1.4255959002033465,
         2.0113048126224182,
         1.7421573258947993,
         2.076652577080807,
         2.07828650509442,
         1.353603882825899,
         1.7784151121447875,
         1.6862791249787028,
         1.4094177688206238,
         2.0130112940203095,
         1.3640969970918868,
         2.125136260528469,
         1.80163251539577,
         1.4295154018989393,
         1.0414612094589915,
         1.7347495401762354,
         1.9919130757463286,
         1.784925726490497,
         1.5696314560707498,
         1.4279543562846442,
         1.8705557678060187,
         1.9785896338674747,
         2.539376436076292,
         1.4082894826239147,
         2.0045894860511284,
         1.4171744328851492,
         1.910157494569487,
         1.4317603925066988,
         1.4311795315309241,
         2.0683153008515944,
         1.7820212873630823,
         1.7906170439687958,
         1.8914537402396316,
         2.0362499531125726,
         1.3719045517393107,
         0.8239829930306141,
         1.7829771234960423,
         1.7905478024690922,
         2.099727744454376,
         2.1151633156579037,
         1.7759558130334088,
         1.7829771234960423,
         1.842619939735841,
         2.0938992295259964,
         1.418974462012479,
         1.7829771234960423,
         2.101177174311263,
         2.0119890189272263,
         1.7829771234960423,
         1.9288393696498125,
         2.1152153881301134,
         1.7839886114314047,
         1.7949098421924878,
         1.3734872609120363,
         2.050043845033545,
         2.1163424413515943,
         1.8125478544959666,
         1.765882491058464,
         2.1091630408293973,
         1.360895247384506,
         1.8684181183212043,
         2.0119106110335405,
         1.7717754369673002,
         1.4182534381206937,
         2.103622469950295,
         2.1157425096583187,
         1.8597799745678323,
         1.7819524786025325,
         1.798426687297095,
         2.115133208909701,
         0.9105981645656464,
         1.7845722140467764,
         1.4534840376212317,
         2.0634662741478436,
         1.8075667842108707,
         1.5487433927684744
        ]
       ],
       "encoder": "json",
       "name": "ABC_GAN_2 Metrics",
       "version": 1
      }
     },
     "metadata": {
      "scrapbook": {
       "data": true,
       "display": false,
       "name": "ABC_GAN_2 Metrics"
      }
     },
     "output_type": "display_data"
    },
    {
     "name": "stdout",
     "output_type": "stream",
     "text": [
      "MAE\n",
      "0.05965067795925326\n"
     ]
    }
   ],
   "source": [
    "ABC_GAN2_metrics=ABC_train_test2.test_generator(gen2,test_data,prior_model,variance,bias,\"1\",device)\n",
    "sb.glue(\"ABC_GAN_2 Metrics\",ABC_GAN2_metrics)\n",
    "\n",
    "print(\"MAE\")\n",
    "print(mean(ABC_GAN2_metrics[1]))"
   ]
  },
  {
   "cell_type": "code",
   "execution_count": 18,
   "id": "e0af0905",
   "metadata": {
    "execution": {
     "iopub.execute_input": "2022-07-25T02:44:45.330123Z",
     "iopub.status.busy": "2022-07-25T02:44:45.329772Z",
     "iopub.status.idle": "2022-07-25T02:44:46.266595Z",
     "shell.execute_reply": "2022-07-25T02:44:46.265456Z"
    },
    "papermill": {
     "duration": 0.956221,
     "end_time": "2022-07-25T02:44:46.270865",
     "exception": false,
     "start_time": "2022-07-25T02:44:45.314644",
     "status": "completed"
    },
    "tags": []
   },
   "outputs": [
    {
     "data": {
      "image/png": "[encoded data removed]",
      "text/plain": [
       "<Figure size 432x288 with 1 Axes>"
      ]
     },
     "metadata": {
      "needs_background": "light"
     },
     "output_type": "display_data"
    },
    {
     "data": {
      "image/png": "[encoded data removed]",
      "text/plain": [
       "<Figure size 432x288 with 1 Axes>"
      ]
     },
     "metadata": {
      "needs_background": "light"
     },
     "output_type": "display_data"
    },
    {
     "data": {
      "image/png": "[encoded data removed]",
      "text/plain": [
       "<Figure size 432x288 with 1 Axes>"
      ]
     },
     "metadata": {
      "needs_background": "light"
     },
     "output_type": "display_data"
    },
    {
     "data": {
      "image/png": "[encoded data removed]",
      "text/plain": [
       "<Figure size 432x288 with 1 Axes>"
      ]
     },
     "metadata": {
      "needs_background": "light"
     },
     "output_type": "display_data"
    }
   ],
   "source": [
    "sanityChecks.discProbVsError(train_data,disc2,device)\n",
    "sanityChecks.discProbVsError(test_data,disc2,device)"
   ]
  },
  {
   "cell_type": "markdown",
   "id": "130f3a4d",
   "metadata": {
    "id": "130f3a4d",
    "papermill": {
     "duration": 0.017021,
     "end_time": "2022-07-25T02:44:46.303765",
     "exception": false,
     "start_time": "2022-07-25T02:44:46.286744",
     "status": "completed"
    },
    "tags": []
   },
   "source": [
    "# skipGAN Model"
   ]
  },
  {
   "cell_type": "code",
   "execution_count": 19,
   "id": "4e43dad1",
   "metadata": {
    "execution": {
     "iopub.execute_input": "2022-07-25T02:44:46.338689Z",
     "iopub.status.busy": "2022-07-25T02:44:46.338346Z",
     "iopub.status.idle": "2022-07-25T02:44:46.348904Z",
     "shell.execute_reply": "2022-07-25T02:44:46.348069Z"
    },
    "id": "4e43dad1",
    "papermill": {
     "duration": 0.030613,
     "end_time": "2022-07-25T02:44:46.351688",
     "exception": false,
     "start_time": "2022-07-25T02:44:46.321075",
     "status": "completed"
    },
    "tags": []
   },
   "outputs": [],
   "source": [
    "#Generator\n",
    "gen3 = network.GeneratorWithSkipConnection(n_features+1).to(device)\n",
    "constraints=network.weightConstraint()\n",
    "#Discriminator \n",
    "disc3 = network.Discriminator(n_features+1).to(device)\n",
    "\n",
    "criterion = torch.nn.BCELoss()\n",
    "gen_opt = torch.optim.Adam(gen3.parameters(), lr=0.01, betas=(0.5, 0.999))\n",
    "disc_opt = torch.optim.Adam(disc3.parameters(), lr=0.01, betas=(0.5, 0.999))\n"
   ]
  },
  {
   "cell_type": "code",
   "execution_count": 20,
   "id": "26acbc37",
   "metadata": {
    "execution": {
     "iopub.execute_input": "2022-07-25T02:44:46.394687Z",
     "iopub.status.busy": "2022-07-25T02:44:46.394188Z",
     "iopub.status.idle": "2022-07-25T02:52:30.772043Z",
     "shell.execute_reply": "2022-07-25T02:52:30.770279Z"
    },
    "id": "26acbc37",
    "papermill": {
     "duration": 464.402957,
     "end_time": "2022-07-25T02:52:30.775787",
     "exception": false,
     "start_time": "2022-07-25T02:44:46.372830",
     "status": "completed"
    },
    "tags": []
   },
   "outputs": [
    {
     "data": {
      "image/png": "[encoded data removed]",
      "text/plain": [
       "<Figure size 432x288 with 1 Axes>"
      ]
     },
     "metadata": {
      "needs_background": "light"
     },
     "output_type": "display_data"
    },
    {
     "data": {
      "image/png": "[encoded data removed]",
      "text/plain": [
       "<Figure size 432x288 with 1 Axes>"
      ]
     },
     "metadata": {
      "needs_background": "light"
     },
     "output_type": "display_data"
    }
   ],
   "source": [
    "ABC_train_test2.training_GAN_skip_connection(disc3,gen3,disc_opt,gen_opt,train_data,batch_size,n_epochs,criterion,prior_model,variance,bias,device)"
   ]
  },
  {
   "cell_type": "code",
   "execution_count": 21,
   "id": "c5e0717b",
   "metadata": {
    "execution": {
     "iopub.execute_input": "2022-07-25T02:52:30.815064Z",
     "iopub.status.busy": "2022-07-25T02:52:30.814628Z",
     "iopub.status.idle": "2022-07-25T02:52:33.594709Z",
     "shell.execute_reply": "2022-07-25T02:52:33.593465Z"
    },
    "id": "c5e0717b",
    "papermill": {
     "duration": 2.803834,
     "end_time": "2022-07-25T02:52:33.597230",
     "exception": false,
     "start_time": "2022-07-25T02:52:30.793396",
     "status": "completed"
    },
    "tags": []
   },
   "outputs": [
    {
     "data": {
      "application/scrapbook.scrap.json+json": {
       "data": 0.14675667080267962,
       "encoder": "json",
       "name": "ABC-GAN Model 3 MSE",
       "version": 1
      }
     },
     "metadata": {
      "scrapbook": {
       "data": true,
       "display": false,
       "name": "ABC-GAN Model 3 MSE"
      }
     },
     "output_type": "display_data"
    },
    {
     "data": {
      "application/scrapbook.scrap.json+json": {
       "data": 0.15356350250254527,
       "encoder": "json",
       "name": "ABC-GAN Model 3 MAE",
       "version": 1
      }
     },
     "metadata": {
      "scrapbook": {
       "data": true,
       "display": false,
       "name": "ABC-GAN Model 3 MAE"
      }
     },
     "output_type": "display_data"
    },
    {
     "data": {
      "application/scrapbook.scrap.json+json": {
       "data": 23.648779385391972,
       "encoder": "json",
       "name": "ABC-GAN Model 3 Manhattan Distance",
       "version": 1
      }
     },
     "metadata": {
      "scrapbook": {
       "data": true,
       "display": false,
       "name": "ABC-GAN Model 3 Manhattan Distance"
      }
     },
     "output_type": "display_data"
    },
    {
     "data": {
      "application/scrapbook.scrap.json+json": {
       "data": 4.75395684421999,
       "encoder": "json",
       "name": "ABC-GAN Model 3 Euclidean distance",
       "version": 1
      }
     },
     "metadata": {
      "scrapbook": {
       "data": true,
       "display": false,
       "name": "ABC-GAN Model 3 Euclidean distance"
      }
     },
     "output_type": "display_data"
    },
    {
     "data": {
      "application/scrapbook.scrap.json+json": {
       "data": [
        [
         0.14513223516966497,
         0.14706249471954286,
         0.14750083048212323,
         0.14953386107607375,
         0.14453635555441688,
         0.14499336821792777,
         0.14854665043881563,
         0.14789503196647436,
         0.14611418912094976,
         0.1466465190744608,
         0.14500271545877713,
         0.14746623326250258,
         0.1459895956260603,
         0.14577349375224102,
         0.14681707471207167,
         0.14728476949031608,
         0.14736072154325844,
         0.14748260642800456,
         0.14809533986096016,
         0.14762680258231703,
         0.1479522462441982,
         0.14715451752461498,
         0.147988423049462,
         0.14536372867059738,
         0.14682183866459325,
         0.14850443791400866,
         0.14674476777552517,
         0.14613548749704802,
         0.148407517723312,
         0.1456142161412519,
         0.14938435724628452,
         0.14648581385618942,
         0.14826214853976966,
         0.14565379063698647,
         0.14790387845516226,
         0.14580059648120544,
         0.14930232652659414,
         0.14681670437561162,
         0.1479481831561101,
         0.14627984127212112,
         0.14561029486163,
         0.14729728895139602,
         0.14579326186441752,
         0.14534977315187134,
         0.14563106715283006,
         0.14659559134261538,
         0.1457268657019027,
         0.14507258910259824,
         0.14714202056632825,
         0.1469481830803744,
         0.14519986074953392,
         0.14354801576942613,
         0.1477386474381626,
         0.14817761966525306,
         0.14521698679365702,
         0.14677729934281936,
         0.14731226495584754,
         0.14675384635753674,
         0.1469810296760721,
         0.14719159346759125,
         0.14735453095815393,
         0.14857157197862844,
         0.14835606714056024,
         0.1489472636605612,
         0.14699430749899572,
         0.14712176131546895,
         0.14599294111028538,
         0.14437992354998327,
         0.14761060383093602,
         0.14637253944747508,
         0.14541311023298525,
         0.1456817642620243,
         0.14572987121584086,
         0.14462722335646497,
         0.14791100653410857,
         0.14752260298953562,
         0.14463135930225515,
         0.1440502852944962,
         0.1472539035065341,
         0.14680395432241686,
         0.14587962245050987,
         0.1483239724287654,
         0.14496966388759897,
         0.1455848835010239,
         0.14743514005140737,
         0.14615917208805596,
         0.14613916590532258,
         0.14533431296733515,
         0.14680812936350982,
         0.14840455228608976,
         0.14860730339248449,
         0.14768747246930794,
         0.14810172897707358,
         0.1458107571690058,
         0.14678007528451564,
         0.14619944921833916,
         0.1458651866339303,
         0.14817040843026766,
         0.1467462600498674,
         0.1478834219263724
        ],
        [
         0.15137689161513532,
         0.15448073389661776,
         0.15576691585653402,
         0.15631657722708467,
         0.15291874374371844,
         0.15219650436918458,
         0.15412965794275332,
         0.15366711811005296,
         0.15150554400759858,
         0.15415616969686824,
         0.1530981304051427,
         0.15391115225585444,
         0.15331639340994033,
         0.15256515073940738,
         0.15408163697930513,
         0.15428909683575878,
         0.1543645613294627,
         0.1530783719733938,
         0.15519315784784976,
         0.15349288380329873,
         0.15423925113319964,
         0.1520542686188279,
         0.15376864719603742,
         0.15205238423273934,
         0.15330793819837757,
         0.1556593186959818,
         0.15228872971198001,
         0.1536364812258776,
         0.1545958643319545,
         0.1518112424906198,
         0.1541567537691686,
         0.15342751300180113,
         0.1540748556325962,
         0.15365043066611345,
         0.15573154926880614,
         0.15451417157015243,
         0.15518703655182542,
         0.1526204923095254,
         0.1524582343877523,
         0.15461922586931812,
         0.1540840891516441,
         0.1538497907224462,
         0.15316967190811773,
         0.1521059207424715,
         0.1525904301118541,
         0.15293897324326364,
         0.15289106505451264,
         0.1537097530415306,
         0.15609138790372903,
         0.15352161688270508,
         0.1539541669431832,
         0.1522615820096878,
         0.15364854147827084,
         0.15560341334913846,
         0.15366807783191855,
         0.1539752353285137,
         0.1531050374320188,
         0.15406807824098445,
         0.151351793416679,
         0.153336739530424,
         0.15456701730462638,
         0.15430867368379583,
         0.1539455387475235,
         0.1559530341175276,
         0.15328366287633197,
         0.15275091062868376,
         0.15300875573189227,
         0.15181435596246223,
         0.15270786161546585,
         0.15213466104265158,
         0.15325566247262834,
         0.15387107363551275,
         0.15330176888783645,
         0.15484925855386567,
         0.15387568165632812,
         0.15533961769338553,
         0.15142571989011455,
         0.15203601441213063,
         0.15428183319700228,
         0.15225072159105307,
         0.15317303309778005,
         0.15323539248171758,
         0.151289946508485,
         0.15279715836604502,
         0.15274867674263268,
         0.15343815372506905,
         0.1540444941054304,
         0.15223901645074805,
         0.15334992194185396,
         0.1560264391304514,
         0.15326451529543123,
         0.15408000340322395,
         0.15347617344519535,
         0.15279805561672752,
         0.15376119700248364,
         0.15304086962110036,
         0.15346841547976842,
         0.15586806945018955,
         0.15341353280977768,
         0.15419021664888827
        ],
        [
         23.31204130873084,
         23.790033020079136,
         23.988105041906238,
         24.07275289297104,
         23.54948653653264,
         23.438261672854424,
         23.735967323184013,
         23.664736188948154,
         23.33185377717018,
         23.74005013331771,
         23.577112082391977,
         23.702317447401583,
         23.61072458513081,
         23.495033213868737,
         23.72857209481299,
         23.760520912706852,
         23.772142444737256,
         23.574069283902645,
         23.899746308568865,
         23.637904105708003,
         23.752844674512744,
         23.416357367299497,
         23.680371668189764,
         23.41606717184186,
         23.609422482550144,
         23.971535079181194,
         23.452464375644922,
         23.660018108785152,
         23.80776310712099,
         23.37893134355545,
         23.740140080451965,
         23.627837002277374,
         23.727527767419815,
         23.66216632258147,
         23.982658587396145,
         23.795182421803474,
         23.898803628981113,
         23.503555815666914,
         23.478568095713854,
         23.81136078387499,
         23.72894972935319,
         23.692867771256715,
         23.58812947385013,
         23.42431179434061,
         23.498926237225533,
         23.5526018794626,
         23.545224018394947,
         23.67130196839571,
         24.038073737174273,
         23.64232899993658,
         23.70894170925021,
         23.448283629491925,
         23.66187538765371,
         23.96292565576732,
         23.664883986115456,
         23.71218624059111,
         23.578175764530897,
         23.726484049111605,
         23.308176186168566,
         23.6138578876853,
         23.803320664912462,
         23.76353574730456,
         23.70761296711862,
         24.01676725409925,
         23.605684082955122,
         23.5236402368173,
         23.56334838271141,
         23.379410818219185,
         23.51701068878174,
         23.428737800568342,
         23.601372020784765,
         23.696145339868963,
         23.60847240872681,
         23.846785817295313,
         23.69685497507453,
         23.92230112478137,
         23.31956086307764,
         23.413546219468117,
         23.759402312338352,
         23.446611125022173,
         23.58864709705813,
         23.598250442184508,
         23.29865176230669,
         23.53076238837093,
         23.52329621836543,
         23.629475673660636,
         23.72285209223628,
         23.4448085334152,
         23.61588797904551,
         24.028071626089513,
         23.602735355496407,
         23.72832052409649,
         23.635330710560083,
         23.530900564976037,
         23.679224338382483,
         23.568293921649456,
         23.634135983884335,
         24.00368269532919,
         23.625684052705765,
         23.745293363928795
        ],
        [
         4.727617181639013,
         4.758952005096248,
         4.766039015183045,
         4.798772197730931,
         4.717901944231163,
         4.725354876150666,
         4.7829054106868565,
         4.772403474438959,
         4.743583574116331,
         4.7522167393193415,
         4.725507187662682,
         4.765480030639662,
         4.741560684670531,
         4.738050024835651,
         4.75497944324253,
         4.762547060293333,
         4.763774881085566,
         4.765744578752905,
         4.775634234171192,
         4.768073782742547,
         4.77332650481889,
         4.760440704261603,
         4.773910048337437,
         4.731386077596289,
         4.755056587922731,
         4.782225782912945,
         4.753808393007745,
         4.743929286419159,
         4.780664988198822,
         4.735460831403084,
         4.796372693601678,
         4.749612124569032,
         4.778323019127582,
         4.736104280745506,
         4.772546205338926,
         4.738490461962083,
         4.79505560813381,
         4.7549734461765585,
         4.773260961443545,
         4.746271753271894,
         4.735397069802174,
         4.762749468375906,
         4.738371273667809,
         4.731158955836105,
         4.735734825931011,
         4.751391487423739,
         4.737292192602544,
         4.726645609922551,
         4.760238562006588,
         4.757102079457373,
         4.728718489763186,
         4.701743764657069,
         4.769879632179101,
         4.77696068943936,
         4.728997353163055,
         4.754335295158954,
         4.762991581264922,
         4.753955441425662,
         4.75763371542147,
         4.7610403688699225,
         4.763674817570538,
         4.783306605760159,
         4.779836225190804,
         4.789350540911202,
         4.757848605708817,
         4.759910843974099,
         4.741615012944846,
         4.715348155406706,
         4.76781218065101,
         4.74777538168258,
         4.732189659753688,
         4.736559056567514,
         4.73734104400765,
         4.71938474770765,
         4.772661207990016,
         4.766390758256029,
         4.7194522280183415,
         4.709962201053466,
         4.762047998498781,
         4.7547669728023685,
         4.739774452163154,
         4.7793191726468605,
         4.724968596582441,
         4.7349838499363095,
         4.764977604135903,
         4.74431370184989,
         4.743988991283566,
         4.730907333373758,
         4.7548345840818165,
         4.7806172250095305,
         4.7838817630082175,
         4.7690534448958966,
         4.775737248055982,
         4.738655569254521,
         4.754380253389016,
         4.744967352851254,
         4.7395399293207,
         4.776844449870774,
         4.753832564119143,
         4.772216149407039
        ]
       ],
       "encoder": "json",
       "name": "ABC_GAN_3 Metrics",
       "version": 1
      }
     },
     "metadata": {
      "scrapbook": {
       "data": true,
       "display": false,
       "name": "ABC_GAN_3 Metrics"
      }
     },
     "output_type": "display_data"
    },
    {
     "name": "stdout",
     "output_type": "stream",
     "text": [
      "MAE\n",
      "0.15356350250254527\n"
     ]
    }
   ],
   "source": [
    "ABC_GAN3_metrics=ABC_train_test2.test_generator(gen3,test_data,prior_model,variance,bias,\"3\",device)\n",
    "sb.glue(\"ABC_GAN_3 Metrics\",ABC_GAN3_metrics)\n",
    "\n",
    "print(\"MAE\")\n",
    "print(mean(ABC_GAN3_metrics[1]))"
   ]
  },
  {
   "cell_type": "code",
   "execution_count": 22,
   "id": "c8e46b48",
   "metadata": {
    "execution": {
     "iopub.execute_input": "2022-07-25T02:52:33.645294Z",
     "iopub.status.busy": "2022-07-25T02:52:33.644731Z",
     "iopub.status.idle": "2022-07-25T02:52:35.082316Z",
     "shell.execute_reply": "2022-07-25T02:52:35.081363Z"
    },
    "id": "c8e46b48",
    "papermill": {
     "duration": 1.466975,
     "end_time": "2022-07-25T02:52:35.085001",
     "exception": false,
     "start_time": "2022-07-25T02:52:33.618026",
     "status": "completed"
    },
    "tags": []
   },
   "outputs": [
    {
     "data": {
      "image/png": "[encoded data removed]",
      "text/plain": [
       "<Figure size 432x288 with 1 Axes>"
      ]
     },
     "metadata": {
      "needs_background": "light"
     },
     "output_type": "display_data"
    },
    {
     "data": {
      "image/png": "[encoded data removed]",
      "text/plain": [
       "<Figure size 432x288 with 1 Axes>"
      ]
     },
     "metadata": {
      "needs_background": "light"
     },
     "output_type": "display_data"
    },
    {
     "data": {
      "image/png": "[encoded data removed]",
      "text/plain": [
       "<Figure size 432x288 with 1 Axes>"
      ]
     },
     "metadata": {
      "needs_background": "light"
     },
     "output_type": "display_data"
    },
    {
     "data": {
      "image/png": "[encoded data removed]",
      "text/plain": [
       "<Figure size 432x288 with 1 Axes>"
      ]
     },
     "metadata": {
      "needs_background": "light"
     },
     "output_type": "display_data"
    }
   ],
   "source": [
    "sanityChecks.discProbVsError(train_data,disc3,device)\n",
    "sanityChecks.discProbVsError(test_data,disc3,device)"
   ]
  },
  {
   "cell_type": "markdown",
   "id": "64105286",
   "metadata": {
    "id": "130f3a4d",
    "papermill": {
     "duration": 0.021577,
     "end_time": "2022-07-25T02:52:35.127215",
     "exception": false,
     "start_time": "2022-07-25T02:52:35.105638",
     "status": "completed"
    },
    "tags": []
   },
   "source": [
    "# skipGAN Model with TabNet Generator"
   ]
  },
  {
   "cell_type": "code",
   "execution_count": 23,
   "id": "c3072d47",
   "metadata": {
    "execution": {
     "iopub.execute_input": "2022-07-25T02:52:35.169473Z",
     "iopub.status.busy": "2022-07-25T02:52:35.168756Z",
     "iopub.status.idle": "2022-07-25T02:52:35.189074Z",
     "shell.execute_reply": "2022-07-25T02:52:35.187434Z"
    },
    "id": "4e43dad1",
    "papermill": {
     "duration": 0.045619,
     "end_time": "2022-07-25T02:52:35.192030",
     "exception": false,
     "start_time": "2022-07-25T02:52:35.146411",
     "status": "completed"
    },
    "tags": []
   },
   "outputs": [],
   "source": [
    "#Generator\n",
    "gen4 = network.GeneratorTabnetskipConnection(n_features+1).to(device)\n",
    "constraints=network.weightConstraint()\n",
    "#Discriminator \n",
    "disc4 = network.Discriminator(n_features+1).to(device)\n",
    "\n",
    "criterion = torch.nn.BCELoss()\n",
    "gen_opt = torch.optim.Adam(gen4.parameters(), lr=0.01, betas=(0.5, 0.999))\n",
    "disc_opt = torch.optim.Adam(disc4.parameters(), lr=0.01, betas=(0.5, 0.999))\n"
   ]
  },
  {
   "cell_type": "code",
   "execution_count": 24,
   "id": "26a64f94",
   "metadata": {
    "execution": {
     "iopub.execute_input": "2022-07-25T02:52:35.238965Z",
     "iopub.status.busy": "2022-07-25T02:52:35.238422Z",
     "iopub.status.idle": "2022-07-25T03:14:40.010917Z",
     "shell.execute_reply": "2022-07-25T03:14:40.009796Z"
    },
    "id": "26acbc37",
    "papermill": {
     "duration": 1324.801646,
     "end_time": "2022-07-25T03:14:40.013676",
     "exception": false,
     "start_time": "2022-07-25T02:52:35.212030",
     "status": "completed"
    },
    "tags": []
   },
   "outputs": [
    {
     "data": {
      "image/png": "[encoded data removed]",
      "text/plain": [
       "<Figure size 432x288 with 1 Axes>"
      ]
     },
     "metadata": {
      "needs_background": "light"
     },
     "output_type": "display_data"
    },
    {
     "data": {
      "image/png": "[encoded data removed]",
      "text/plain": [
       "<Figure size 432x288 with 1 Axes>"
      ]
     },
     "metadata": {
      "needs_background": "light"
     },
     "output_type": "display_data"
    }
   ],
   "source": [
    "ABC_train_test2.training_GAN_skip_connection(disc4,gen4,disc_opt,gen_opt,train_data,batch_size,n_epochs,criterion,prior_model,variance,bias,device)"
   ]
  },
  {
   "cell_type": "code",
   "execution_count": 25,
   "id": "16f365ca",
   "metadata": {
    "execution": {
     "iopub.execute_input": "2022-07-25T03:14:40.057212Z",
     "iopub.status.busy": "2022-07-25T03:14:40.056649Z",
     "iopub.status.idle": "2022-07-25T03:14:43.150188Z",
     "shell.execute_reply": "2022-07-25T03:14:43.148774Z"
    },
    "id": "c5e0717b",
    "papermill": {
     "duration": 3.120354,
     "end_time": "2022-07-25T03:14:43.154745",
     "exception": false,
     "start_time": "2022-07-25T03:14:40.034391",
     "status": "completed"
    },
    "tags": []
   },
   "outputs": [
    {
     "data": {
      "application/scrapbook.scrap.json+json": {
       "data": 0.013005670245308892,
       "encoder": "json",
       "name": "ABC-GAN Model 3 MSE",
       "version": 1
      }
     },
     "metadata": {
      "scrapbook": {
       "data": true,
       "display": false,
       "name": "ABC-GAN Model 3 MSE"
      }
     },
     "output_type": "display_data"
    },
    {
     "data": {
      "application/scrapbook.scrap.json+json": {
       "data": 0.08001772212711247,
       "encoder": "json",
       "name": "ABC-GAN Model 3 MAE",
       "version": 1
      }
     },
     "metadata": {
      "scrapbook": {
       "data": true,
       "display": false,
       "name": "ABC-GAN Model 3 MAE"
      }
     },
     "output_type": "display_data"
    },
    {
     "data": {
      "application/scrapbook.scrap.json+json": {
       "data": 12.322729207575321,
       "encoder": "json",
       "name": "ABC-GAN Model 3 Manhattan Distance",
       "version": 1
      }
     },
     "metadata": {
      "scrapbook": {
       "data": true,
       "display": false,
       "name": "ABC-GAN Model 3 Manhattan Distance"
      }
     },
     "output_type": "display_data"
    },
    {
     "data": {
      "application/scrapbook.scrap.json+json": {
       "data": 1.4151403733921184,
       "encoder": "json",
       "name": "ABC-GAN Model 3 Euclidean distance",
       "version": 1
      }
     },
     "metadata": {
      "scrapbook": {
       "data": true,
       "display": false,
       "name": "ABC-GAN Model 3 Euclidean distance"
      }
     },
     "output_type": "display_data"
    },
    {
     "data": {
      "application/scrapbook.scrap.json+json": {
       "data": [
        [
         0.01339644153511095,
         0.013314661346720111,
         0.013048983240930602,
         0.012853255193853785,
         0.013112718778362845,
         0.012722229749333569,
         0.013177415337980768,
         0.01286103445538089,
         0.012548353589647393,
         0.012710609528344166,
         0.012711865271769488,
         0.012782282108531091,
         0.012346780681883421,
         0.012916183092628986,
         0.012840885685707288,
         0.013053709432198985,
         0.012848219517631359,
         0.012478049058975123,
         0.012761523553489255,
         0.013239494616519463,
         0.01337931992234084,
         0.012516998674831631,
         0.013135679544550123,
         0.013229839834914938,
         0.013063551847106237,
         0.012816965231723633,
         0.013601666966576225,
         0.013047100412697054,
         0.013509853590553811,
         0.012877619689903894,
         0.013145236312286356,
         0.012927769243695913,
         0.012623702450877905,
         0.012741815611395754,
         0.013154918097773262,
         0.013465291166677116,
         0.01308359496007475,
         0.013070103081476851,
         0.012995356569641623,
         0.013191339409637777,
         0.012521628399944465,
         0.012726161307176465,
         0.013826393311455085,
         0.013349933894538838,
         0.012503008026890212,
         0.012916803614845594,
         0.013376698932523254,
         0.012992146179232285,
         0.012844863027555154,
         0.013216486352514963,
         0.012752108203236707,
         0.013382896778136495,
         0.012671480743564018,
         0.013045610501018913,
         0.012856562881347617,
         0.012957995287506957,
         0.012643846922590535,
         0.01341139903665214,
         0.012568425844938716,
         0.013202124470310238,
         0.013021354483464134,
         0.012956561722346582,
         0.01303620498480203,
         0.013312284600054245,
         0.013154871855224456,
         0.013114129357724059,
         0.013371948415987267,
         0.013126238291220439,
         0.01273024431430289,
         0.012958801885204275,
         0.012962957810571621,
         0.013165352592222637,
         0.013570457823865454,
         0.013291244372206686,
         0.012775850439122743,
         0.012884360800125035,
         0.013041794160609084,
         0.013205809887786371,
         0.012495291639254343,
         0.013010405899066872,
         0.01335754204401571,
         0.013320023899758454,
         0.012838513582857305,
         0.012984745549299681,
         0.012975275591088029,
         0.013110901718092332,
         0.01292026618557558,
         0.012801314070790031,
         0.013281219719203301,
         0.012626668608096244,
         0.012943371088849494,
         0.013384530922752177,
         0.013283487435015237,
         0.012826488501686176,
         0.01357277157410908,
         0.013006190757011746,
         0.01273051965689283,
         0.012531016145041212,
         0.012695257196427077,
         0.013121762839452376
        ],
        [
         0.08060848625836434,
         0.08012469795036625,
         0.08077451598818426,
         0.07817071018280922,
         0.08012858807266533,
         0.07993167774243788,
         0.08085465039332192,
         0.07974557099597794,
         0.07931465544290357,
         0.07890664817547643,
         0.07980470468181294,
         0.07854042478002511,
         0.07836997131635616,
         0.07999025752114786,
         0.0794854232581792,
         0.08013974381731702,
         0.07964788048298328,
         0.07864171288326963,
         0.07855521442441198,
         0.08082362724008499,
         0.0817857597313531,
         0.07833557783976777,
         0.08010872697772144,
         0.08041820157464448,
         0.07977433831660778,
         0.0790614928905066,
         0.08130308451106796,
         0.08055851272271052,
         0.08174388379148849,
         0.07975447881821689,
         0.08076191495184774,
         0.0805933191017671,
         0.07872393969204519,
         0.07853457162326033,
         0.08042769080826215,
         0.08164871665467689,
         0.08140732969653297,
         0.08036477413850945,
         0.07944694623447858,
         0.08007708842587935,
         0.07853563018626981,
         0.08062992332043586,
         0.08239825698849443,
         0.08117362099711771,
         0.07946029080489239,
         0.08009341243025545,
         0.08130551618221518,
         0.0797736229157293,
         0.07852994108741934,
         0.08015835921388942,
         0.0794560109059532,
         0.08126934022678957,
         0.07834429431755047,
         0.08064365367610733,
         0.07923106234762575,
         0.07961553526292374,
         0.08001056601378051,
         0.0810053769934487,
         0.07889907623266244,
         0.0796403864809832,
         0.08003030693182697,
         0.0798052249887547,
         0.07993929496930018,
         0.07981130064694912,
         0.08053138433629042,
         0.07950548617193451,
         0.08213735415370434,
         0.08028270761397752,
         0.0791478647620647,
         0.07943019457161427,
         0.08092668800094685,
         0.08031911422292907,
         0.08136707002466376,
         0.08004313317889516,
         0.08001720012685695,
         0.07878175803593226,
         0.08077163728220123,
         0.08018190602396989,
         0.0782710344034743,
         0.07985166300620351,
         0.08088175490401782,
         0.08035155857441487,
         0.08054051444224723,
         0.07978461295753331,
         0.08052784015799498,
         0.08099889975379813,
         0.0797673346740859,
         0.0785478659748257,
         0.08090617754436158,
         0.07926440449407349,
         0.08019730412437544,
         0.08172297395475499,
         0.08100136209811483,
         0.08102779849976688,
         0.08098464964755944,
         0.07968099923296408,
         0.07913285672858164,
         0.07874159367343822,
         0.07958681951579336,
         0.07940918161207206
        ],
        [
         12.413706883788109,
         12.339203484356403,
         12.439275462180376,
         12.038289368152618,
         12.33980256319046,
         12.309478372335434,
         12.451616160571575,
         12.280817933380604,
         12.21445693820715,
         12.15162381902337,
         12.289924520999193,
         12.095225416123867,
         12.06897558271885,
         12.31849965825677,
         12.240755181759596,
         12.341520547866821,
         12.265773594379425,
         12.110823784023523,
         12.097503021359444,
         12.446838594973087,
         12.595006998628378,
         12.063678987324238,
         12.336743954569101,
         12.38440304249525,
         12.285248100757599,
         12.175469905138016,
         12.520675014704466,
         12.406010959297419,
         12.588558103889227,
         12.2821897380054,
         12.437334902584553,
         12.411371141672134,
         12.123486712574959,
         12.09432402998209,
         12.38586438447237,
         12.573902364820242,
         12.536728773266077,
         12.376175217330456,
         12.234829720109701,
         12.33187161758542,
         12.09448704868555,
         12.417008191347122,
         12.689331576228142,
         12.500737633556128,
         12.236884783953428,
         12.334385514259338,
         12.521049492061138,
         12.285137929022312,
         12.093610927462578,
         12.34438731893897,
         12.236225679516792,
         12.515478394925594,
         12.065021324902773,
         12.41912266612053,
         12.201583601534367,
         12.260792430490255,
         12.321627166122198,
         12.4748280569911,
         12.150457739830017,
         12.264619518071413,
         12.324667267501354,
         12.290004648268223,
         12.310651425272226,
         12.290940299630165,
         12.401833187788725,
         12.243844870477915,
         12.649152539670467,
         12.363536972552538,
         12.188771173357964,
         12.232249964028597,
         12.462709952145815,
         12.369143590331078,
         12.530528783798218,
         12.326642509549856,
         12.32264881953597,
         12.13239073753357,
         12.438832141458988,
         12.348013527691364,
         12.053739298135042,
         12.297156102955341,
         12.455790255218744,
         12.37414002045989,
         12.403239224106073,
         12.286830395460129,
         12.401287384331226,
         12.473830562084913,
         12.284169539809227,
         12.096371360123158,
         12.459551341831684,
         12.206718292087317,
         12.350384835153818,
         12.585337989032269,
         12.474209763109684,
         12.4782809689641,
         12.471636045724154,
         12.270873881876469,
         12.186459936201572,
         12.126205425709486,
         12.256370205432177,
         12.229013968259096
        ],
        [
         1.4363328292589732,
         1.4319419846470376,
         1.4175836550635426,
         1.4069119730294013,
         1.4210414110320213,
         1.3997226087326622,
         1.4245427203313483,
         1.407337665995143,
         1.3901246177252233,
         1.399083223888058,
         1.3991523333263256,
         1.40302225381987,
         1.378914147077347,
         1.4103517987597505,
         1.406234829464454,
         1.4178403480500348,
         1.4066363445166734,
         1.3862249294693012,
         1.4018825297568072,
         1.4278943136464959,
         1.4354146676276125,
         1.388386760209154,
         1.4222850100668005,
         1.4273735791925324,
         1.418374768689277,
         1.40492442703707,
         1.447292891177435,
         1.4174813803205129,
         1.4423998935611744,
         1.4082448055097523,
         1.4228023025326109,
         1.4109842180298016,
         1.3942919986269724,
         1.4007996302665653,
         1.4233261702986713,
         1.4400190414255902,
         1.419462441860126,
         1.4187303741541009,
         1.4146677743289446,
         1.4252951515683403,
         1.3886435012599336,
         1.3999388705601312,
         1.4591999760019472,
         1.433837445374817,
         1.3876106212266799,
         1.4103856765743976,
         1.4352740628913285,
         1.4144930228183425,
         1.4064525965148964,
         1.4266530406119438,
         1.401365285462164,
         1.4356065282078583,
         1.3969280706281404,
         1.4174004434728078,
         1.4070929904336575,
         1.4126327457184586,
         1.3954040368577634,
         1.4371344584430608,
         1.39123599008959,
         1.42587768354364,
         1.416082127015759,
         1.4125546025698879,
         1.416889398527462,
         1.4318141738397319,
         1.4233236686378001,
         1.4211178420840074,
         1.435019183168657,
         1.4217737853990513,
         1.400163427747863,
         1.412676711183935,
         1.4129032177852912,
         1.4238905502889911,
         1.4456315245854594,
         1.4306822265338413,
         1.402669229585116,
         1.4086133476647362,
         1.4171931063668772,
         1.426076688933348,
         1.3871823645235577,
         1.415486668413482,
         1.4342459603493465,
         1.4322303168704404,
         1.406104936254768,
         1.4140901012991185,
         1.4135743493101296,
         1.4209429490962047,
         1.4105747029415492,
         1.4040663684105765,
         1.4301425931554197,
         1.39445579551552,
         1.411835382643041,
         1.4356941742947331,
         1.4302646835436952,
         1.4054462740566325,
         1.4457547587377324,
         1.4152573534802102,
         1.4001785697408369,
         1.3891639522879746,
         1.3982380370486887,
         1.421531384555285
        ]
       ],
       "encoder": "json",
       "name": "ABC_GAN_4 Metrics",
       "version": 1
      }
     },
     "metadata": {
      "scrapbook": {
       "data": true,
       "display": false,
       "name": "ABC_GAN_4 Metrics"
      }
     },
     "output_type": "display_data"
    },
    {
     "name": "stdout",
     "output_type": "stream",
     "text": [
      "MAE\n",
      "0.08001772212711247\n"
     ]
    }
   ],
   "source": [
    "ABC_GAN4_metrics=ABC_train_test2.test_generator(gen4,test_data,prior_model,variance,bias,\"3\",device)\n",
    "sb.glue(\"ABC_GAN_4 Metrics\",ABC_GAN4_metrics)\n",
    "\n",
    "print(\"MAE\")\n",
    "print(mean(ABC_GAN4_metrics[1]))"
   ]
  },
  {
   "cell_type": "code",
   "execution_count": 26,
   "id": "001e02ca",
   "metadata": {
    "execution": {
     "iopub.execute_input": "2022-07-25T03:14:43.220838Z",
     "iopub.status.busy": "2022-07-25T03:14:43.220266Z",
     "iopub.status.idle": "2022-07-25T03:14:44.588310Z",
     "shell.execute_reply": "2022-07-25T03:14:44.566388Z"
    },
    "id": "c8e46b48",
    "papermill": {
     "duration": 1.405659,
     "end_time": "2022-07-25T03:14:44.591372",
     "exception": false,
     "start_time": "2022-07-25T03:14:43.185713",
     "status": "completed"
    },
    "tags": []
   },
   "outputs": [
    {
     "data": {
      "image/png": "[encoded data removed]",
      "text/plain": [
       "<Figure size 432x288 with 1 Axes>"
      ]
     },
     "metadata": {
      "needs_background": "light"
     },
     "output_type": "display_data"
    },
    {
     "data": {
      "image/png": "[encoded data removed]",
      "text/plain": [
       "<Figure size 432x288 with 1 Axes>"
      ]
     },
     "metadata": {
      "needs_background": "light"
     },
     "output_type": "display_data"
    },
    {
     "data": {
      "image/png": "[encoded data removed]",
      "text/plain": [
       "<Figure size 432x288 with 1 Axes>"
      ]
     },
     "metadata": {
      "needs_background": "light"
     },
     "output_type": "display_data"
    },
    {
     "data": {
      "image/png": "[encoded data removed]",
      "text/plain": [
       "<Figure size 432x288 with 1 Axes>"
      ]
     },
     "metadata": {
      "needs_background": "light"
     },
     "output_type": "display_data"
    }
   ],
   "source": [
    "sanityChecks.discProbVsError(train_data,disc4,device)\n",
    "sanityChecks.discProbVsError(test_data,disc4,device)"
   ]
  },
  {
   "cell_type": "markdown",
   "id": "a5bd74c3",
   "metadata": {
    "id": "a5bd74c3",
    "papermill": {
     "duration": 0.038791,
     "end_time": "2022-07-25T03:14:44.667455",
     "exception": false,
     "start_time": "2022-07-25T03:14:44.628664",
     "status": "completed"
    },
    "tags": []
   },
   "source": [
    "## Skip Connection Model Analysis - ABC-GAN "
   ]
  },
  {
   "cell_type": "markdown",
   "id": "5744a8bf",
   "metadata": {
    "id": "5744a8bf",
    "papermill": {
     "duration": 0.029673,
     "end_time": "2022-07-25T03:14:44.740225",
     "exception": false,
     "start_time": "2022-07-25T03:14:44.710552",
     "status": "completed"
    },
    "tags": []
   },
   "source": [
    "### Weight Analysis \n",
    "\n",
    "Study the weights of the skip connection layer\n",
    "\n",
    "Equation of the skip connection is \n",
    "\n",
    "$output = y_{gan} * w + y_{abc} * (1-w)$"
   ]
  },
  {
   "cell_type": "code",
   "execution_count": 27,
   "id": "52c31dea",
   "metadata": {
    "execution": {
     "iopub.execute_input": "2022-07-25T03:14:44.805263Z",
     "iopub.status.busy": "2022-07-25T03:14:44.804231Z",
     "iopub.status.idle": "2022-07-25T03:14:44.833122Z",
     "shell.execute_reply": "2022-07-25T03:14:44.832184Z"
    },
    "id": "52c31dea",
    "papermill": {
     "duration": 0.062347,
     "end_time": "2022-07-25T03:14:44.835795",
     "exception": false,
     "start_time": "2022-07-25T03:14:44.773448",
     "status": "completed"
    },
    "tags": []
   },
   "outputs": [
    {
     "name": "stdout",
     "output_type": "stream",
     "text": [
      "Weight of the node at skip connection\n",
      "Parameter containing:\n",
      "tensor([[0.9690]], requires_grad=True)\n"
     ]
    },
    {
     "data": {
      "application/scrapbook.scrap.json+json": {
       "data": 0.9689785242080688,
       "encoder": "json",
       "name": "Skip Connection Weight",
       "version": 1
      }
     },
     "metadata": {
      "scrapbook": {
       "data": true,
       "display": false,
       "name": "Skip Connection Weight"
      }
     },
     "output_type": "display_data"
    }
   ],
   "source": [
    "print(\"Weight of the node at skip connection\")\n",
    "for name,param in gen3.named_parameters():\n",
    "    if(name == \"skipNode.weight\"):\n",
    "        print(param)\n",
    "        sb.glue(\"Skip Connection Weight\",param.item())"
   ]
  },
  {
   "cell_type": "markdown",
   "id": "051c3c8f",
   "metadata": {
    "id": "a5bd74c3",
    "papermill": {
     "duration": 0.032526,
     "end_time": "2022-07-25T03:14:44.907593",
     "exception": false,
     "start_time": "2022-07-25T03:14:44.875067",
     "status": "completed"
    },
    "tags": []
   },
   "source": [
    "## skipGAN Model Analysis (TabNet Generator) "
   ]
  },
  {
   "cell_type": "markdown",
   "id": "f9b6b1c2",
   "metadata": {
    "id": "5744a8bf",
    "papermill": {
     "duration": 0.038427,
     "end_time": "2022-07-25T03:14:44.976035",
     "exception": false,
     "start_time": "2022-07-25T03:14:44.937608",
     "status": "completed"
    },
    "tags": []
   },
   "source": [
    "### Weight Analysis \n",
    "\n",
    "Study the weights of the skip connection layer\n",
    "\n",
    "Equation of the skip connection is \n",
    "\n",
    "$output = y_{gan} * w + y_{abc} * (1-w)$"
   ]
  },
  {
   "cell_type": "code",
   "execution_count": 28,
   "id": "019d8862",
   "metadata": {
    "execution": {
     "iopub.execute_input": "2022-07-25T03:14:45.041185Z",
     "iopub.status.busy": "2022-07-25T03:14:45.040622Z",
     "iopub.status.idle": "2022-07-25T03:14:45.057456Z",
     "shell.execute_reply": "2022-07-25T03:14:45.055983Z"
    },
    "id": "52c31dea",
    "papermill": {
     "duration": 0.058762,
     "end_time": "2022-07-25T03:14:45.068947",
     "exception": false,
     "start_time": "2022-07-25T03:14:45.010185",
     "status": "completed"
    },
    "tags": []
   },
   "outputs": [
    {
     "name": "stdout",
     "output_type": "stream",
     "text": [
      "Weight of the node at skip connection\n",
      "Parameter containing:\n",
      "tensor([[0.9949]], requires_grad=True)\n"
     ]
    },
    {
     "data": {
      "application/scrapbook.scrap.json+json": {
       "data": 0.994894802570343,
       "encoder": "json",
       "name": "Skip Connection Weight",
       "version": 1
      }
     },
     "metadata": {
      "scrapbook": {
       "data": true,
       "display": false,
       "name": "Skip Connection Weight"
      }
     },
     "output_type": "display_data"
    }
   ],
   "source": [
    "print(\"Weight of the node at skip connection\")\n",
    "for name,param in gen4.named_parameters():\n",
    "    if(name == \"skipNode.weight\"):\n",
    "        print(param)\n",
    "        sb.glue(\"Skip Connection Weight\",param.item())"
   ]
  }
 ],
 "metadata": {
  "colab": {
   "collapsed_sections": [],
   "name": "ABC_GAN_Model-Catboost_Pre-gen.ipynb",
   "provenance": []
  },
  "interpreter": {
   "hash": "31f2aee4e71d21fbe5cf8b01ff0e069b9275f58929596ceb00d14d90e3e16cd6"
  },
  "kernelspec": {
   "display_name": "Python 3 (ipykernel)",
   "language": "python",
   "name": "python3"
  },
  "language_info": {
   "codemirror_mode": {
    "name": "ipython",
    "version": 3
   },
   "file_extension": ".py",
   "mimetype": "text/x-python",
   "name": "python",
   "nbconvert_exporter": "python",
   "pygments_lexer": "ipython3",
   "version": "3.8.13"
  },
  "papermill": {
   "default_parameters": {},
   "duration": 2806.891023,
   "end_time": "2022-07-25T03:14:46.223015",
   "environment_variables": {},
   "exception": null,
   "input_path": "ABC_GAN-Catboost.ipynb",
   "output_path": "./ABC_GAN_Catboost/ABC-GAN_output_2_3.ipynb",
   "parameters": {
    "bias": 0.1,
    "variance": 1
   },
   "start_time": "2022-07-25T02:27:59.331992",
   "version": "2.3.3"
  }
 },
 "nbformat": 4,
 "nbformat_minor": 5
}