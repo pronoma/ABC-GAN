{
 "cells": [
  {
   "cell_type": "markdown",
   "id": "405a50b8",
   "metadata": {
    "tags": [
     "papermill-error-cell-tag"
    ]
   },
   "source": [
    "<span style=\"color:red; font-family:Helvetica Neue, Helvetica, Arial, sans-serif; font-size:2em;\">An Exception was encountered at '<a href=\"#papermill-error-cell\">In [20]</a>'.</span>"
   ]
  },
  {
   "cell_type": "markdown",
   "id": "622780e6",
   "metadata": {
    "id": "622780e6",
    "papermill": {
     "duration": 0.008664,
     "end_time": "2022-07-24T12:34:23.107204",
     "exception": false,
     "start_time": "2022-07-24T12:34:23.098540",
     "status": "completed"
    },
    "tags": []
   },
   "source": [
    "## Import Libraries "
   ]
  },
  {
   "cell_type": "code",
   "execution_count": 1,
   "id": "a62397e3",
   "metadata": {
    "execution": {
     "iopub.execute_input": "2022-07-24T12:34:23.133787Z",
     "iopub.status.busy": "2022-07-24T12:34:23.126739Z",
     "iopub.status.idle": "2022-07-24T12:34:23.156092Z",
     "shell.execute_reply": "2022-07-24T12:34:23.153720Z"
    },
    "id": "a62397e3",
    "papermill": {
     "duration": 0.064485,
     "end_time": "2022-07-24T12:34:23.180223",
     "exception": false,
     "start_time": "2022-07-24T12:34:23.115738",
     "status": "completed"
    },
    "tags": []
   },
   "outputs": [],
   "source": [
    "import warnings\n",
    "import sys\n",
    "sys.path.insert(0, '../../src')\n",
    "warnings.filterwarnings('ignore')"
   ]
  },
  {
   "cell_type": "code",
   "execution_count": 2,
   "id": "d6a4e155",
   "metadata": {
    "execution": {
     "iopub.execute_input": "2022-07-24T12:34:23.208694Z",
     "iopub.status.busy": "2022-07-24T12:34:23.208190Z",
     "iopub.status.idle": "2022-07-24T12:34:32.553790Z",
     "shell.execute_reply": "2022-07-24T12:34:32.542663Z"
    },
    "id": "d6a4e155",
    "papermill": {
     "duration": 9.374178,
     "end_time": "2022-07-24T12:34:32.563568",
     "exception": false,
     "start_time": "2022-07-24T12:34:23.189390",
     "status": "completed"
    },
    "tags": []
   },
   "outputs": [],
   "source": [
    "import ABC_train_test2\n",
    "import energyefficiencyDataset\n",
    "import network\n",
    "import dataset\n",
    "import sanityChecks\n",
    "import torch \n",
    "import scrapbook as sb\n",
    "from statistics import mean \n",
    "import catboost as ctb \n",
    "from sklearn.model_selection import train_test_split\n",
    "from sklearn.metrics import mean_squared_error,mean_absolute_error\n",
    "import numpy as np"
   ]
  },
  {
   "cell_type": "markdown",
   "id": "2fa5b0f7",
   "metadata": {
    "id": "2fa5b0f7",
    "papermill": {
     "duration": 0.010934,
     "end_time": "2022-07-24T12:34:32.581911",
     "exception": false,
     "start_time": "2022-07-24T12:34:32.570977",
     "status": "completed"
    },
    "tags": []
   },
   "source": [
    "## Parameters "
   ]
  },
  {
   "cell_type": "code",
   "execution_count": 3,
   "id": "783186fb",
   "metadata": {
    "execution": {
     "iopub.execute_input": "2022-07-24T12:34:32.611000Z",
     "iopub.status.busy": "2022-07-24T12:34:32.610457Z",
     "iopub.status.idle": "2022-07-24T12:34:32.616260Z",
     "shell.execute_reply": "2022-07-24T12:34:32.614664Z"
    },
    "id": "783186fb",
    "papermill": {
     "duration": 0.047253,
     "end_time": "2022-07-24T12:34:32.644447",
     "exception": false,
     "start_time": "2022-07-24T12:34:32.597194",
     "status": "completed"
    },
    "tags": [
     "parameters"
    ]
   },
   "outputs": [],
   "source": [
    "variance = 1\n",
    "bias = 1 "
   ]
  },
  {
   "cell_type": "code",
   "execution_count": 4,
   "id": "2c0b5d8e",
   "metadata": {
    "execution": {
     "iopub.execute_input": "2022-07-24T12:34:32.683603Z",
     "iopub.status.busy": "2022-07-24T12:34:32.681576Z",
     "iopub.status.idle": "2022-07-24T12:34:32.693514Z",
     "shell.execute_reply": "2022-07-24T12:34:32.690232Z"
    },
    "papermill": {
     "duration": 0.04842,
     "end_time": "2022-07-24T12:34:32.707813",
     "exception": false,
     "start_time": "2022-07-24T12:34:32.659393",
     "status": "completed"
    },
    "tags": [
     "injected-parameters"
    ]
   },
   "outputs": [],
   "source": [
    "# Parameters\n",
    "variance = 0.1\n",
    "bias = 0\n"
   ]
  },
  {
   "cell_type": "markdown",
   "id": "391cdbfd",
   "metadata": {
    "id": "391cdbfd",
    "papermill": {
     "duration": 0.014167,
     "end_time": "2022-07-24T12:34:32.731145",
     "exception": false,
     "start_time": "2022-07-24T12:34:32.716978",
     "status": "completed"
    },
    "tags": []
   },
   "source": [
    "## Dataset \n"
   ]
  },
  {
   "cell_type": "code",
   "execution_count": 5,
   "id": "5b51f161",
   "metadata": {
    "execution": {
     "iopub.execute_input": "2022-07-24T12:34:32.759137Z",
     "iopub.status.busy": "2022-07-24T12:34:32.758225Z",
     "iopub.status.idle": "2022-07-24T12:34:32.767182Z",
     "shell.execute_reply": "2022-07-24T12:34:32.765426Z"
    },
    "id": "5b51f161",
    "papermill": {
     "duration": 0.045726,
     "end_time": "2022-07-24T12:34:32.784842",
     "exception": false,
     "start_time": "2022-07-24T12:34:32.739116",
     "status": "completed"
    },
    "tags": []
   },
   "outputs": [],
   "source": [
    "#Parameters \n",
    "n_features = 8\n",
    "n_samples= 768\n",
    "n_target = 1 "
   ]
  },
  {
   "cell_type": "code",
   "execution_count": 6,
   "id": "5d6eced4",
   "metadata": {
    "execution": {
     "iopub.execute_input": "2022-07-24T12:34:32.832996Z",
     "iopub.status.busy": "2022-07-24T12:34:32.832107Z",
     "iopub.status.idle": "2022-07-24T12:34:34.653857Z",
     "shell.execute_reply": "2022-07-24T12:34:34.650386Z"
    },
    "id": "5d6eced4",
    "papermill": {
     "duration": 1.849289,
     "end_time": "2022-07-24T12:34:34.657651",
     "exception": false,
     "start_time": "2022-07-24T12:34:32.808362",
     "status": "completed"
    },
    "tags": []
   },
   "outputs": [
    {
     "name": "stdout",
     "output_type": "stream",
     "text": [
      "     X1     X2     X3      X4   X5  X6   X7  X8     Y1     Y2\n",
      "0  0.98  514.5  294.0  110.25  7.0   2  0.0   0  15.55  21.33\n",
      "1  0.98  514.5  294.0  110.25  7.0   3  0.0   0  15.55  21.33\n",
      "2  0.98  514.5  294.0  110.25  7.0   4  0.0   0  15.55  21.33\n",
      "3  0.98  514.5  294.0  110.25  7.0   5  0.0   0  15.55  21.33\n",
      "4  0.90  563.5  318.5  122.50  7.0   2  0.0   0  20.84  28.28\n"
     ]
    }
   ],
   "source": [
    "X,Y = energyefficiencyDataset.energy_data()"
   ]
  },
  {
   "cell_type": "code",
   "execution_count": 7,
   "id": "fe007438",
   "metadata": {
    "execution": {
     "iopub.execute_input": "2022-07-24T12:34:34.686860Z",
     "iopub.status.busy": "2022-07-24T12:34:34.685138Z",
     "iopub.status.idle": "2022-07-24T12:34:34.700929Z",
     "shell.execute_reply": "2022-07-24T12:34:34.699467Z"
    },
    "id": "fe007438",
    "papermill": {
     "duration": 0.045232,
     "end_time": "2022-07-24T12:34:34.718679",
     "exception": false,
     "start_time": "2022-07-24T12:34:34.673447",
     "status": "completed"
    },
    "tags": []
   },
   "outputs": [],
   "source": [
    "#Train test split for dataset \n",
    "X_train,X_test,Y_train,Y_test = train_test_split(X,Y,test_size = 0.2)\n",
    "train_data = dataset.CustomDataset(X_train,Y_train)\n",
    "test_data = dataset.CustomDataset(X_test,Y_test)\n"
   ]
  },
  {
   "cell_type": "markdown",
   "id": "a9a1af34",
   "metadata": {
    "id": "a9a1af34",
    "papermill": {
     "duration": 0.007909,
     "end_time": "2022-07-24T12:34:34.734605",
     "exception": false,
     "start_time": "2022-07-24T12:34:34.726696",
     "status": "completed"
    },
    "tags": []
   },
   "source": [
    "## Training Parameters "
   ]
  },
  {
   "cell_type": "code",
   "execution_count": 8,
   "id": "952b7fc8",
   "metadata": {
    "execution": {
     "iopub.execute_input": "2022-07-24T12:34:34.760609Z",
     "iopub.status.busy": "2022-07-24T12:34:34.759960Z",
     "iopub.status.idle": "2022-07-24T12:34:34.770279Z",
     "shell.execute_reply": "2022-07-24T12:34:34.768632Z"
    },
    "id": "952b7fc8",
    "papermill": {
     "duration": 0.038568,
     "end_time": "2022-07-24T12:34:34.782505",
     "exception": false,
     "start_time": "2022-07-24T12:34:34.743937",
     "status": "completed"
    },
    "tags": []
   },
   "outputs": [],
   "source": [
    "batch_size = 32\n",
    "n_epochs = 1000\n",
    "#Select the device \n",
    "device = torch.device('cuda' if torch.cuda.is_available() else 'cpu')"
   ]
  },
  {
   "cell_type": "markdown",
   "id": "a95e1600",
   "metadata": {
    "id": "a95e1600",
    "papermill": {
     "duration": 0.020277,
     "end_time": "2022-07-24T12:34:34.820146",
     "exception": false,
     "start_time": "2022-07-24T12:34:34.799869",
     "status": "completed"
    },
    "tags": []
   },
   "source": [
    "# ABC Pre-generator Model \n",
    "\n",
    "1. The catboost model is used as a pre-generator model for the ABC-GAN. \n",
    "2. The model is first trained on the entire dataset \n",
    "3. It generats X,Y pairs and we add some Gaussian noise with mean 0 and variance 1 to it which is then feed as input to the generator.\n"
   ]
  },
  {
   "cell_type": "code",
   "execution_count": 9,
   "id": "ff8ce7bd",
   "metadata": {
    "execution": {
     "iopub.execute_input": "2022-07-24T12:34:34.855762Z",
     "iopub.status.busy": "2022-07-24T12:34:34.854766Z",
     "iopub.status.idle": "2022-07-24T12:34:37.586159Z",
     "shell.execute_reply": "2022-07-24T12:34:37.583449Z"
    },
    "id": "ff8ce7bd",
    "papermill": {
     "duration": 2.755233,
     "end_time": "2022-07-24T12:34:37.591206",
     "exception": false,
     "start_time": "2022-07-24T12:34:34.835973",
     "status": "completed"
    },
    "tags": []
   },
   "outputs": [
    {
     "name": "stdout",
     "output_type": "stream",
     "text": [
      "Learning rate set to 0.037906\n",
      "0:\tlearn: 0.9670453\ttotal: 61.1ms\tremaining: 1m 1s\n",
      "1:\tlearn: 0.9349417\ttotal: 62ms\tremaining: 30.9s\n",
      "2:\tlearn: 0.9078347\ttotal: 62.2ms\tremaining: 20.7s\n",
      "3:\tlearn: 0.8775938\ttotal: 66.5ms\tremaining: 16.6s\n",
      "4:\tlearn: 0.8527735\ttotal: 66.9ms\tremaining: 13.3s\n",
      "5:\tlearn: 0.8248611\ttotal: 69.5ms\tremaining: 11.5s\n",
      "6:\tlearn: 0.8023592\ttotal: 69.9ms\tremaining: 9.91s\n",
      "7:\tlearn: 0.7794636\ttotal: 70.7ms\tremaining: 8.76s\n",
      "8:\tlearn: 0.7535096\ttotal: 71ms\tremaining: 7.82s\n",
      "9:\tlearn: 0.7300766\ttotal: 72.1ms\tremaining: 7.14s\n",
      "10:\tlearn: 0.7073206\ttotal: 72.4ms\tremaining: 6.51s\n",
      "11:\tlearn: 0.6845246\ttotal: 73.2ms\tremaining: 6.03s\n",
      "12:\tlearn: 0.6630491\ttotal: 77.2ms\tremaining: 5.86s\n",
      "13:\tlearn: 0.6429796\ttotal: 78.4ms\tremaining: 5.52s\n",
      "14:\tlearn: 0.6228317\ttotal: 79.3ms\tremaining: 5.21s\n",
      "15:\tlearn: 0.6046309\ttotal: 81ms\tremaining: 4.98s\n",
      "16:\tlearn: 0.5857454\ttotal: 82.4ms\tremaining: 4.76s\n",
      "17:\tlearn: 0.5677496\ttotal: 83.7ms\tremaining: 4.57s\n",
      "18:\tlearn: 0.5511687\ttotal: 83.9ms\tremaining: 4.33s\n",
      "19:\tlearn: 0.5378700\ttotal: 85ms\tremaining: 4.17s\n",
      "20:\tlearn: 0.5213422\ttotal: 86.2ms\tremaining: 4.02s\n",
      "21:\tlearn: 0.5053399\ttotal: 87.1ms\tremaining: 3.87s\n",
      "22:\tlearn: 0.4903854\ttotal: 88.1ms\tremaining: 3.74s\n",
      "23:\tlearn: 0.4748050\ttotal: 88.6ms\tremaining: 3.6s\n",
      "24:\tlearn: 0.4629607\ttotal: 89.4ms\tremaining: 3.49s\n",
      "25:\tlearn: 0.4484582\ttotal: 91.7ms\tremaining: 3.43s\n",
      "26:\tlearn: 0.4361285\ttotal: 93.9ms\tremaining: 3.38s\n",
      "27:\tlearn: 0.4235773\ttotal: 94.7ms\tremaining: 3.29s\n",
      "28:\tlearn: 0.4125781\ttotal: 98.2ms\tremaining: 3.29s\n",
      "29:\tlearn: 0.4016321\ttotal: 99.1ms\tremaining: 3.21s\n",
      "30:\tlearn: 0.3903955\ttotal: 102ms\tremaining: 3.19s\n",
      "31:\tlearn: 0.3785512\ttotal: 102ms\tremaining: 3.09s\n",
      "32:\tlearn: 0.3679786\ttotal: 103ms\tremaining: 3.01s\n",
      "33:\tlearn: 0.3575649\ttotal: 103ms\tremaining: 2.92s\n",
      "34:\tlearn: 0.3474301\ttotal: 103ms\tremaining: 2.84s\n",
      "35:\tlearn: 0.3366257\ttotal: 103ms\tremaining: 2.77s\n",
      "36:\tlearn: 0.3275221\ttotal: 104ms\tremaining: 2.7s\n",
      "37:\tlearn: 0.3175745\ttotal: 106ms\tremaining: 2.68s\n",
      "38:\tlearn: 0.3094349\ttotal: 106ms\tremaining: 2.62s\n",
      "39:\tlearn: 0.3019918\ttotal: 107ms\tremaining: 2.58s\n",
      "40:\tlearn: 0.2928699\ttotal: 108ms\tremaining: 2.52s\n",
      "41:\tlearn: 0.2852523\ttotal: 109ms\tremaining: 2.48s\n",
      "42:\tlearn: 0.2767075\ttotal: 109ms\tremaining: 2.42s\n",
      "43:\tlearn: 0.2690299\ttotal: 109ms\tremaining: 2.37s\n",
      "44:\tlearn: 0.2622599\ttotal: 117ms\tremaining: 2.47s\n",
      "45:\tlearn: 0.2559150\ttotal: 117ms\tremaining: 2.43s\n",
      "46:\tlearn: 0.2491077\ttotal: 120ms\tremaining: 2.43s\n",
      "47:\tlearn: 0.2440898\ttotal: 121ms\tremaining: 2.39s\n",
      "48:\tlearn: 0.2381784\ttotal: 123ms\tremaining: 2.38s\n",
      "49:\tlearn: 0.2311403\ttotal: 123ms\tremaining: 2.33s\n",
      "50:\tlearn: 0.2245951\ttotal: 124ms\tremaining: 2.3s\n",
      "51:\tlearn: 0.2188406\ttotal: 126ms\tremaining: 2.29s\n",
      "52:\tlearn: 0.2131485\ttotal: 127ms\tremaining: 2.27s\n",
      "53:\tlearn: 0.2074898\ttotal: 127ms\tremaining: 2.23s\n"
     ]
    },
    {
     "name": "stdout",
     "output_type": "stream",
     "text": [
      "54:\tlearn: 0.2018028\ttotal: 137ms\tremaining: 2.36s\n",
      "55:\tlearn: 0.1971590\ttotal: 142ms\tremaining: 2.39s\n",
      "56:\tlearn: 0.1921151\ttotal: 142ms\tremaining: 2.35s\n",
      "57:\tlearn: 0.1871737\ttotal: 149ms\tremaining: 2.42s\n",
      "58:\tlearn: 0.1831067\ttotal: 151ms\tremaining: 2.4s\n",
      "59:\tlearn: 0.1794483\ttotal: 151ms\tremaining: 2.37s\n",
      "60:\tlearn: 0.1750467\ttotal: 152ms\tremaining: 2.34s\n",
      "61:\tlearn: 0.1704399\ttotal: 153ms\tremaining: 2.32s\n",
      "62:\tlearn: 0.1661928\ttotal: 236ms\tremaining: 3.51s\n",
      "63:\tlearn: 0.1621517\ttotal: 237ms\tremaining: 3.47s\n",
      "64:\tlearn: 0.1584963\ttotal: 238ms\tremaining: 3.42s\n",
      "65:\tlearn: 0.1545463\ttotal: 238ms\tremaining: 3.37s\n",
      "66:\tlearn: 0.1512505\ttotal: 238ms\tremaining: 3.32s\n",
      "67:\tlearn: 0.1478010\ttotal: 239ms\tremaining: 3.27s\n",
      "68:\tlearn: 0.1441669\ttotal: 241ms\tremaining: 3.25s\n",
      "69:\tlearn: 0.1405300\ttotal: 241ms\tremaining: 3.21s\n",
      "70:\tlearn: 0.1372730\ttotal: 242ms\tremaining: 3.16s\n",
      "71:\tlearn: 0.1342470\ttotal: 242ms\tremaining: 3.12s\n",
      "72:\tlearn: 0.1315075\ttotal: 242ms\tremaining: 3.08s\n",
      "73:\tlearn: 0.1286089\ttotal: 242ms\tremaining: 3.03s\n",
      "74:\tlearn: 0.1254852\ttotal: 243ms\tremaining: 2.99s\n",
      "75:\tlearn: 0.1236449\ttotal: 243ms\tremaining: 2.95s\n",
      "76:\tlearn: 0.1213442\ttotal: 243ms\tremaining: 2.92s\n",
      "77:\tlearn: 0.1186717\ttotal: 244ms\tremaining: 2.88s\n",
      "78:\tlearn: 0.1167300\ttotal: 245ms\tremaining: 2.86s\n",
      "79:\tlearn: 0.1151282\ttotal: 246ms\tremaining: 2.83s\n",
      "80:\tlearn: 0.1124520\ttotal: 246ms\tremaining: 2.79s\n",
      "81:\tlearn: 0.1108087\ttotal: 247ms\tremaining: 2.76s\n",
      "82:\tlearn: 0.1091391\ttotal: 248ms\tremaining: 2.74s\n",
      "83:\tlearn: 0.1078219\ttotal: 253ms\tremaining: 2.76s\n",
      "84:\tlearn: 0.1057424\ttotal: 256ms\tremaining: 2.76s\n",
      "85:\tlearn: 0.1043500\ttotal: 257ms\tremaining: 2.73s\n",
      "86:\tlearn: 0.1030791\ttotal: 262ms\tremaining: 2.75s\n",
      "87:\tlearn: 0.1013325\ttotal: 263ms\tremaining: 2.73s\n",
      "88:\tlearn: 0.1003548\ttotal: 263ms\tremaining: 2.69s\n",
      "89:\tlearn: 0.0983751\ttotal: 263ms\tremaining: 2.66s\n",
      "90:\tlearn: 0.0963141\ttotal: 267ms\tremaining: 2.67s\n",
      "91:\tlearn: 0.0946954\ttotal: 268ms\tremaining: 2.64s\n",
      "92:\tlearn: 0.0934950\ttotal: 268ms\tremaining: 2.61s\n",
      "93:\tlearn: 0.0915904\ttotal: 271ms\tremaining: 2.61s\n",
      "94:\tlearn: 0.0903267\ttotal: 271ms\tremaining: 2.58s\n",
      "95:\tlearn: 0.0890170\ttotal: 272ms\tremaining: 2.56s\n",
      "96:\tlearn: 0.0872664\ttotal: 272ms\tremaining: 2.53s\n",
      "97:\tlearn: 0.0864797\ttotal: 272ms\tremaining: 2.5s\n",
      "98:\tlearn: 0.0852757\ttotal: 273ms\tremaining: 2.48s\n",
      "99:\tlearn: 0.0835555\ttotal: 273ms\tremaining: 2.46s\n",
      "100:\tlearn: 0.0820115\ttotal: 273ms\tremaining: 2.43s\n",
      "101:\tlearn: 0.0814123\ttotal: 273ms\tremaining: 2.41s\n",
      "102:\tlearn: 0.0799676\ttotal: 274ms\tremaining: 2.38s\n",
      "103:\tlearn: 0.0788940\ttotal: 274ms\tremaining: 2.36s\n",
      "104:\tlearn: 0.0776594\ttotal: 279ms\tremaining: 2.38s\n",
      "105:\tlearn: 0.0767035\ttotal: 290ms\tremaining: 2.44s\n",
      "106:\tlearn: 0.0752768\ttotal: 290ms\tremaining: 2.42s\n"
     ]
    },
    {
     "name": "stdout",
     "output_type": "stream",
     "text": [
      "107:\tlearn: 0.0739601\ttotal: 292ms\tremaining: 2.41s\n",
      "108:\tlearn: 0.0727971\ttotal: 294ms\tremaining: 2.4s\n",
      "109:\tlearn: 0.0722124\ttotal: 296ms\tremaining: 2.4s\n",
      "110:\tlearn: 0.0715640\ttotal: 297ms\tremaining: 2.38s\n",
      "111:\tlearn: 0.0704990\ttotal: 297ms\tremaining: 2.36s\n",
      "112:\tlearn: 0.0696745\ttotal: 298ms\tremaining: 2.34s\n",
      "113:\tlearn: 0.0685881\ttotal: 299ms\tremaining: 2.32s\n",
      "114:\tlearn: 0.0675720\ttotal: 299ms\tremaining: 2.3s\n",
      "115:\tlearn: 0.0665711\ttotal: 301ms\tremaining: 2.29s\n",
      "116:\tlearn: 0.0658316\ttotal: 301ms\tremaining: 2.27s\n",
      "117:\tlearn: 0.0649304\ttotal: 301ms\tremaining: 2.25s\n",
      "118:\tlearn: 0.0641260\ttotal: 301ms\tremaining: 2.23s\n",
      "119:\tlearn: 0.0632352\ttotal: 302ms\tremaining: 2.21s\n",
      "120:\tlearn: 0.0624599\ttotal: 302ms\tremaining: 2.19s\n",
      "121:\tlearn: 0.0617526\ttotal: 303ms\tremaining: 2.18s\n",
      "122:\tlearn: 0.0611399\ttotal: 305ms\tremaining: 2.18s\n",
      "123:\tlearn: 0.0605441\ttotal: 309ms\tremaining: 2.18s\n",
      "124:\tlearn: 0.0600222\ttotal: 310ms\tremaining: 2.17s\n",
      "125:\tlearn: 0.0594037\ttotal: 311ms\tremaining: 2.15s\n",
      "126:\tlearn: 0.0588239\ttotal: 311ms\tremaining: 2.14s\n",
      "127:\tlearn: 0.0584235\ttotal: 311ms\tremaining: 2.12s\n",
      "128:\tlearn: 0.0580172\ttotal: 312ms\tremaining: 2.1s\n",
      "129:\tlearn: 0.0575613\ttotal: 312ms\tremaining: 2.09s\n",
      "130:\tlearn: 0.0570923\ttotal: 312ms\tremaining: 2.07s\n",
      "131:\tlearn: 0.0567322\ttotal: 312ms\tremaining: 2.05s\n",
      "132:\tlearn: 0.0563290\ttotal: 313ms\tremaining: 2.04s\n",
      "133:\tlearn: 0.0560549\ttotal: 316ms\tremaining: 2.04s\n",
      "134:\tlearn: 0.0555695\ttotal: 318ms\tremaining: 2.04s\n",
      "135:\tlearn: 0.0550802\ttotal: 318ms\tremaining: 2.02s\n",
      "136:\tlearn: 0.0546130\ttotal: 318ms\tremaining: 2.01s\n",
      "137:\tlearn: 0.0541715\ttotal: 319ms\tremaining: 1.99s\n",
      "138:\tlearn: 0.0538211\ttotal: 319ms\tremaining: 1.98s\n",
      "139:\tlearn: 0.0534539\ttotal: 319ms\tremaining: 1.96s\n",
      "140:\tlearn: 0.0531084\ttotal: 320ms\tremaining: 1.95s\n",
      "141:\tlearn: 0.0528160\ttotal: 320ms\tremaining: 1.93s\n",
      "142:\tlearn: 0.0524727\ttotal: 320ms\tremaining: 1.92s\n",
      "143:\tlearn: 0.0522181\ttotal: 321ms\tremaining: 1.91s\n",
      "144:\tlearn: 0.0519728\ttotal: 321ms\tremaining: 1.89s\n",
      "145:\tlearn: 0.0517608\ttotal: 321ms\tremaining: 1.88s\n",
      "146:\tlearn: 0.0515200\ttotal: 322ms\tremaining: 1.87s\n",
      "147:\tlearn: 0.0512300\ttotal: 326ms\tremaining: 1.88s\n",
      "148:\tlearn: 0.0510365\ttotal: 327ms\tremaining: 1.86s\n",
      "149:\tlearn: 0.0508330\ttotal: 328ms\tremaining: 1.86s\n",
      "150:\tlearn: 0.0506226\ttotal: 330ms\tremaining: 1.85s\n",
      "151:\tlearn: 0.0503148\ttotal: 330ms\tremaining: 1.84s\n",
      "152:\tlearn: 0.0501292\ttotal: 331ms\tremaining: 1.83s\n",
      "153:\tlearn: 0.0498376\ttotal: 331ms\tremaining: 1.82s\n",
      "154:\tlearn: 0.0495733\ttotal: 334ms\tremaining: 1.82s\n",
      "155:\tlearn: 0.0493241\ttotal: 335ms\tremaining: 1.81s\n",
      "156:\tlearn: 0.0491139\ttotal: 340ms\tremaining: 1.83s\n",
      "157:\tlearn: 0.0489070\ttotal: 342ms\tremaining: 1.82s\n",
      "158:\tlearn: 0.0487127\ttotal: 344ms\tremaining: 1.82s\n",
      "159:\tlearn: 0.0484592\ttotal: 350ms\tremaining: 1.83s\n",
      "160:\tlearn: 0.0482411\ttotal: 350ms\tremaining: 1.82s\n",
      "161:\tlearn: 0.0480171\ttotal: 351ms\tremaining: 1.81s\n",
      "162:\tlearn: 0.0478018\ttotal: 352ms\tremaining: 1.8s\n",
      "163:\tlearn: 0.0476019\ttotal: 354ms\tremaining: 1.8s\n",
      "164:\tlearn: 0.0474382\ttotal: 355ms\tremaining: 1.8s\n",
      "165:\tlearn: 0.0472631\ttotal: 364ms\tremaining: 1.83s\n",
      "166:\tlearn: 0.0470261\ttotal: 365ms\tremaining: 1.82s\n",
      "167:\tlearn: 0.0468217\ttotal: 366ms\tremaining: 1.81s\n",
      "168:\tlearn: 0.0466000\ttotal: 366ms\tremaining: 1.8s\n",
      "169:\tlearn: 0.0464082\ttotal: 367ms\tremaining: 1.79s\n",
      "170:\tlearn: 0.0462786\ttotal: 367ms\tremaining: 1.78s\n",
      "171:\tlearn: 0.0461175\ttotal: 367ms\tremaining: 1.77s\n",
      "172:\tlearn: 0.0459734\ttotal: 368ms\tremaining: 1.76s\n",
      "173:\tlearn: 0.0457862\ttotal: 368ms\tremaining: 1.75s\n",
      "174:\tlearn: 0.0456349\ttotal: 368ms\tremaining: 1.74s\n",
      "175:\tlearn: 0.0454804\ttotal: 369ms\tremaining: 1.73s\n",
      "176:\tlearn: 0.0452997\ttotal: 380ms\tremaining: 1.76s\n",
      "177:\tlearn: 0.0451655\ttotal: 380ms\tremaining: 1.75s\n",
      "178:\tlearn: 0.0450034\ttotal: 380ms\tremaining: 1.74s\n",
      "179:\tlearn: 0.0449048\ttotal: 381ms\tremaining: 1.74s\n",
      "180:\tlearn: 0.0448136\ttotal: 382ms\tremaining: 1.73s\n",
      "181:\tlearn: 0.0446172\ttotal: 382ms\tremaining: 1.72s\n",
      "182:\tlearn: 0.0444531\ttotal: 385ms\tremaining: 1.72s\n",
      "183:\tlearn: 0.0442454\ttotal: 392ms\tremaining: 1.74s\n",
      "184:\tlearn: 0.0441394\ttotal: 392ms\tremaining: 1.73s\n",
      "185:\tlearn: 0.0439680\ttotal: 393ms\tremaining: 1.72s\n",
      "186:\tlearn: 0.0437115\ttotal: 393ms\tremaining: 1.71s\n",
      "187:\tlearn: 0.0435996\ttotal: 399ms\tremaining: 1.72s\n",
      "188:\tlearn: 0.0434559\ttotal: 399ms\tremaining: 1.71s\n",
      "189:\tlearn: 0.0432411\ttotal: 399ms\tremaining: 1.7s\n",
      "190:\tlearn: 0.0431023\ttotal: 399ms\tremaining: 1.69s\n",
      "191:\tlearn: 0.0429461\ttotal: 403ms\tremaining: 1.7s\n"
     ]
    },
    {
     "name": "stdout",
     "output_type": "stream",
     "text": [
      "192:\tlearn: 0.0427496\ttotal: 407ms\tremaining: 1.7s\n",
      "193:\tlearn: 0.0425913\ttotal: 408ms\tremaining: 1.69s\n",
      "194:\tlearn: 0.0424554\ttotal: 408ms\tremaining: 1.68s\n",
      "195:\tlearn: 0.0423753\ttotal: 412ms\tremaining: 1.69s\n",
      "196:\tlearn: 0.0421961\ttotal: 412ms\tremaining: 1.68s\n",
      "197:\tlearn: 0.0420754\ttotal: 413ms\tremaining: 1.67s\n",
      "198:\tlearn: 0.0419690\ttotal: 418ms\tremaining: 1.68s\n",
      "199:\tlearn: 0.0418363\ttotal: 418ms\tremaining: 1.67s\n",
      "200:\tlearn: 0.0416908\ttotal: 418ms\tremaining: 1.66s\n",
      "201:\tlearn: 0.0415951\ttotal: 424ms\tremaining: 1.67s\n",
      "202:\tlearn: 0.0414611\ttotal: 424ms\tremaining: 1.66s\n",
      "203:\tlearn: 0.0413349\ttotal: 424ms\tremaining: 1.65s\n",
      "204:\tlearn: 0.0412343\ttotal: 424ms\tremaining: 1.65s\n",
      "205:\tlearn: 0.0410826\ttotal: 425ms\tremaining: 1.64s\n",
      "206:\tlearn: 0.0409304\ttotal: 425ms\tremaining: 1.63s\n",
      "207:\tlearn: 0.0408434\ttotal: 429ms\tremaining: 1.63s\n",
      "208:\tlearn: 0.0407077\ttotal: 429ms\tremaining: 1.62s\n",
      "209:\tlearn: 0.0405927\ttotal: 429ms\tremaining: 1.61s\n",
      "210:\tlearn: 0.0404723\ttotal: 430ms\tremaining: 1.61s\n",
      "211:\tlearn: 0.0402899\ttotal: 430ms\tremaining: 1.6s\n",
      "212:\tlearn: 0.0401259\ttotal: 430ms\tremaining: 1.59s\n",
      "213:\tlearn: 0.0399715\ttotal: 430ms\tremaining: 1.58s\n",
      "214:\tlearn: 0.0398433\ttotal: 431ms\tremaining: 1.57s\n",
      "215:\tlearn: 0.0397762\ttotal: 431ms\tremaining: 1.56s\n",
      "216:\tlearn: 0.0397275\ttotal: 436ms\tremaining: 1.57s\n",
      "217:\tlearn: 0.0396519\ttotal: 436ms\tremaining: 1.56s\n",
      "218:\tlearn: 0.0395182\ttotal: 437ms\tremaining: 1.56s\n",
      "219:\tlearn: 0.0394263\ttotal: 440ms\tremaining: 1.56s\n",
      "220:\tlearn: 0.0391680\ttotal: 440ms\tremaining: 1.55s\n",
      "221:\tlearn: 0.0390753\ttotal: 443ms\tremaining: 1.55s\n",
      "222:\tlearn: 0.0388699\ttotal: 449ms\tremaining: 1.56s\n",
      "223:\tlearn: 0.0387485\ttotal: 450ms\tremaining: 1.56s\n",
      "224:\tlearn: 0.0386708\ttotal: 450ms\tremaining: 1.55s\n",
      "225:\tlearn: 0.0385566\ttotal: 450ms\tremaining: 1.54s\n",
      "226:\tlearn: 0.0384631\ttotal: 451ms\tremaining: 1.54s\n",
      "227:\tlearn: 0.0383326\ttotal: 456ms\tremaining: 1.54s\n",
      "228:\tlearn: 0.0382824\ttotal: 456ms\tremaining: 1.54s\n",
      "229:\tlearn: 0.0381602\ttotal: 457ms\tremaining: 1.53s\n",
      "230:\tlearn: 0.0381237\ttotal: 458ms\tremaining: 1.52s\n",
      "231:\tlearn: 0.0379428\ttotal: 458ms\tremaining: 1.52s\n",
      "232:\tlearn: 0.0378974\ttotal: 458ms\tremaining: 1.51s\n",
      "233:\tlearn: 0.0377383\ttotal: 459ms\tremaining: 1.5s\n",
      "234:\tlearn: 0.0376300\ttotal: 460ms\tremaining: 1.5s\n",
      "235:\tlearn: 0.0375593\ttotal: 460ms\tremaining: 1.49s\n",
      "236:\tlearn: 0.0373980\ttotal: 460ms\tremaining: 1.48s\n",
      "237:\tlearn: 0.0373213\ttotal: 462ms\tremaining: 1.48s\n",
      "238:\tlearn: 0.0372754\ttotal: 467ms\tremaining: 1.49s\n",
      "239:\tlearn: 0.0371636\ttotal: 468ms\tremaining: 1.48s\n",
      "240:\tlearn: 0.0370991\ttotal: 468ms\tremaining: 1.47s\n",
      "241:\tlearn: 0.0369910\ttotal: 468ms\tremaining: 1.47s\n",
      "242:\tlearn: 0.0368983\ttotal: 469ms\tremaining: 1.46s\n",
      "243:\tlearn: 0.0367867\ttotal: 469ms\tremaining: 1.45s\n",
      "244:\tlearn: 0.0366677\ttotal: 469ms\tremaining: 1.45s\n",
      "245:\tlearn: 0.0364789\ttotal: 469ms\tremaining: 1.44s\n",
      "246:\tlearn: 0.0363013\ttotal: 470ms\tremaining: 1.43s\n",
      "247:\tlearn: 0.0361922\ttotal: 470ms\tremaining: 1.42s\n",
      "248:\tlearn: 0.0361420\ttotal: 470ms\tremaining: 1.42s\n",
      "249:\tlearn: 0.0360741\ttotal: 470ms\tremaining: 1.41s\n",
      "250:\tlearn: 0.0359794\ttotal: 471ms\tremaining: 1.4s\n",
      "251:\tlearn: 0.0358883\ttotal: 481ms\tremaining: 1.43s\n",
      "252:\tlearn: 0.0358304\ttotal: 483ms\tremaining: 1.42s\n",
      "253:\tlearn: 0.0357165\ttotal: 483ms\tremaining: 1.42s\n",
      "254:\tlearn: 0.0356304\ttotal: 484ms\tremaining: 1.41s\n",
      "255:\tlearn: 0.0355242\ttotal: 484ms\tremaining: 1.41s\n",
      "256:\tlearn: 0.0354683\ttotal: 485ms\tremaining: 1.4s\n",
      "257:\tlearn: 0.0354074\ttotal: 485ms\tremaining: 1.39s\n",
      "258:\tlearn: 0.0353705\ttotal: 485ms\tremaining: 1.39s\n",
      "259:\tlearn: 0.0352743\ttotal: 485ms\tremaining: 1.38s\n",
      "260:\tlearn: 0.0352119\ttotal: 486ms\tremaining: 1.38s\n",
      "261:\tlearn: 0.0350593\ttotal: 489ms\tremaining: 1.38s\n",
      "262:\tlearn: 0.0349575\ttotal: 490ms\tremaining: 1.37s\n",
      "263:\tlearn: 0.0348370\ttotal: 492ms\tremaining: 1.37s\n",
      "264:\tlearn: 0.0347412\ttotal: 492ms\tremaining: 1.36s\n",
      "265:\tlearn: 0.0345968\ttotal: 494ms\tremaining: 1.36s\n",
      "266:\tlearn: 0.0344979\ttotal: 495ms\tremaining: 1.36s\n",
      "267:\tlearn: 0.0343908\ttotal: 495ms\tremaining: 1.35s\n",
      "268:\tlearn: 0.0343433\ttotal: 495ms\tremaining: 1.35s\n",
      "269:\tlearn: 0.0341764\ttotal: 496ms\tremaining: 1.34s\n",
      "270:\tlearn: 0.0341175\ttotal: 501ms\tremaining: 1.35s\n",
      "271:\tlearn: 0.0340435\ttotal: 501ms\tremaining: 1.34s\n",
      "272:\tlearn: 0.0339556\ttotal: 505ms\tremaining: 1.34s\n",
      "273:\tlearn: 0.0338374\ttotal: 509ms\tremaining: 1.35s\n",
      "274:\tlearn: 0.0337337\ttotal: 510ms\tremaining: 1.34s\n",
      "275:\tlearn: 0.0336356\ttotal: 510ms\tremaining: 1.34s\n",
      "276:\tlearn: 0.0335885\ttotal: 510ms\tremaining: 1.33s\n",
      "277:\tlearn: 0.0335346\ttotal: 511ms\tremaining: 1.33s\n",
      "278:\tlearn: 0.0334558\ttotal: 513ms\tremaining: 1.32s\n",
      "279:\tlearn: 0.0333445\ttotal: 513ms\tremaining: 1.32s\n",
      "280:\tlearn: 0.0333000\ttotal: 513ms\tremaining: 1.31s\n",
      "281:\tlearn: 0.0332021\ttotal: 514ms\tremaining: 1.31s\n",
      "282:\tlearn: 0.0331659\ttotal: 514ms\tremaining: 1.3s\n",
      "283:\tlearn: 0.0330720\ttotal: 514ms\tremaining: 1.3s\n",
      "284:\tlearn: 0.0329992\ttotal: 515ms\tremaining: 1.29s\n",
      "285:\tlearn: 0.0329400\ttotal: 515ms\tremaining: 1.28s\n",
      "286:\tlearn: 0.0328464\ttotal: 515ms\tremaining: 1.28s\n",
      "287:\tlearn: 0.0327600\ttotal: 515ms\tremaining: 1.27s\n"
     ]
    },
    {
     "name": "stdout",
     "output_type": "stream",
     "text": [
      "288:\tlearn: 0.0326731\ttotal: 521ms\tremaining: 1.28s\n",
      "289:\tlearn: 0.0325936\ttotal: 523ms\tremaining: 1.28s\n",
      "290:\tlearn: 0.0325321\ttotal: 523ms\tremaining: 1.27s\n",
      "291:\tlearn: 0.0324444\ttotal: 525ms\tremaining: 1.27s\n",
      "292:\tlearn: 0.0323801\ttotal: 528ms\tremaining: 1.27s\n",
      "293:\tlearn: 0.0323463\ttotal: 528ms\tremaining: 1.27s\n",
      "294:\tlearn: 0.0322482\ttotal: 530ms\tremaining: 1.27s\n",
      "295:\tlearn: 0.0321835\ttotal: 530ms\tremaining: 1.26s\n",
      "296:\tlearn: 0.0321302\ttotal: 531ms\tremaining: 1.26s\n",
      "297:\tlearn: 0.0320770\ttotal: 532ms\tremaining: 1.25s\n",
      "298:\tlearn: 0.0320389\ttotal: 533ms\tremaining: 1.25s\n",
      "299:\tlearn: 0.0319498\ttotal: 534ms\tremaining: 1.25s\n",
      "300:\tlearn: 0.0318920\ttotal: 535ms\tremaining: 1.24s\n",
      "301:\tlearn: 0.0318411\ttotal: 535ms\tremaining: 1.24s\n",
      "302:\tlearn: 0.0317592\ttotal: 536ms\tremaining: 1.23s\n",
      "303:\tlearn: 0.0317255\ttotal: 536ms\tremaining: 1.23s\n",
      "304:\tlearn: 0.0316689\ttotal: 536ms\tremaining: 1.22s\n",
      "305:\tlearn: 0.0316252\ttotal: 536ms\tremaining: 1.22s\n",
      "306:\tlearn: 0.0315990\ttotal: 537ms\tremaining: 1.21s\n",
      "307:\tlearn: 0.0315270\ttotal: 537ms\tremaining: 1.21s\n",
      "308:\tlearn: 0.0314940\ttotal: 539ms\tremaining: 1.21s\n",
      "309:\tlearn: 0.0314062\ttotal: 540ms\tremaining: 1.2s\n",
      "310:\tlearn: 0.0313274\ttotal: 540ms\tremaining: 1.2s\n",
      "311:\tlearn: 0.0312962\ttotal: 540ms\tremaining: 1.19s\n",
      "312:\tlearn: 0.0311790\ttotal: 541ms\tremaining: 1.19s\n",
      "313:\tlearn: 0.0311440\ttotal: 541ms\tremaining: 1.18s\n",
      "314:\tlearn: 0.0311094\ttotal: 545ms\tremaining: 1.18s\n",
      "315:\tlearn: 0.0310779\ttotal: 547ms\tremaining: 1.18s\n",
      "316:\tlearn: 0.0310313\ttotal: 548ms\tremaining: 1.18s\n",
      "317:\tlearn: 0.0309852\ttotal: 550ms\tremaining: 1.18s\n",
      "318:\tlearn: 0.0309230\ttotal: 552ms\tremaining: 1.18s\n",
      "319:\tlearn: 0.0308763\ttotal: 553ms\tremaining: 1.17s\n",
      "320:\tlearn: 0.0307967\ttotal: 553ms\tremaining: 1.17s\n",
      "321:\tlearn: 0.0307250\ttotal: 555ms\tremaining: 1.17s\n",
      "322:\tlearn: 0.0306207\ttotal: 556ms\tremaining: 1.16s\n",
      "323:\tlearn: 0.0305145\ttotal: 557ms\tremaining: 1.16s\n",
      "324:\tlearn: 0.0304879\ttotal: 559ms\tremaining: 1.16s\n",
      "325:\tlearn: 0.0304153\ttotal: 560ms\tremaining: 1.16s\n",
      "326:\tlearn: 0.0303479\ttotal: 560ms\tremaining: 1.15s\n",
      "327:\tlearn: 0.0302600\ttotal: 560ms\tremaining: 1.15s\n",
      "328:\tlearn: 0.0301857\ttotal: 561ms\tremaining: 1.14s\n",
      "329:\tlearn: 0.0301133\ttotal: 561ms\tremaining: 1.14s\n",
      "330:\tlearn: 0.0300859\ttotal: 566ms\tremaining: 1.14s\n",
      "331:\tlearn: 0.0300615\ttotal: 566ms\tremaining: 1.14s\n",
      "332:\tlearn: 0.0299895\ttotal: 568ms\tremaining: 1.14s\n",
      "333:\tlearn: 0.0299155\ttotal: 585ms\tremaining: 1.17s\n",
      "334:\tlearn: 0.0298154\ttotal: 588ms\tremaining: 1.17s\n",
      "335:\tlearn: 0.0297868\ttotal: 590ms\tremaining: 1.17s\n",
      "336:\tlearn: 0.0297184\ttotal: 590ms\tremaining: 1.16s\n",
      "337:\tlearn: 0.0296528\ttotal: 592ms\tremaining: 1.16s\n",
      "338:\tlearn: 0.0295894\ttotal: 592ms\tremaining: 1.16s\n",
      "339:\tlearn: 0.0294940\ttotal: 593ms\tremaining: 1.15s\n",
      "340:\tlearn: 0.0294517\ttotal: 593ms\tremaining: 1.15s\n",
      "341:\tlearn: 0.0293691\ttotal: 594ms\tremaining: 1.14s\n",
      "342:\tlearn: 0.0292811\ttotal: 594ms\tremaining: 1.14s\n",
      "343:\tlearn: 0.0292111\ttotal: 604ms\tremaining: 1.15s\n",
      "344:\tlearn: 0.0291846\ttotal: 604ms\tremaining: 1.15s\n",
      "345:\tlearn: 0.0291060\ttotal: 605ms\tremaining: 1.14s\n",
      "346:\tlearn: 0.0290638\ttotal: 607ms\tremaining: 1.14s\n",
      "347:\tlearn: 0.0289994\ttotal: 608ms\tremaining: 1.14s\n",
      "348:\tlearn: 0.0289795\ttotal: 609ms\tremaining: 1.14s\n",
      "349:\tlearn: 0.0289048\ttotal: 609ms\tremaining: 1.13s\n",
      "350:\tlearn: 0.0288594\ttotal: 611ms\tremaining: 1.13s\n",
      "351:\tlearn: 0.0288029\ttotal: 617ms\tremaining: 1.14s\n",
      "352:\tlearn: 0.0287636\ttotal: 617ms\tremaining: 1.13s\n",
      "353:\tlearn: 0.0287069\ttotal: 617ms\tremaining: 1.13s\n",
      "354:\tlearn: 0.0286643\ttotal: 618ms\tremaining: 1.12s\n",
      "355:\tlearn: 0.0286028\ttotal: 618ms\tremaining: 1.12s\n",
      "356:\tlearn: 0.0285408\ttotal: 618ms\tremaining: 1.11s\n",
      "357:\tlearn: 0.0285097\ttotal: 621ms\tremaining: 1.11s\n",
      "358:\tlearn: 0.0284711\ttotal: 630ms\tremaining: 1.12s\n",
      "359:\tlearn: 0.0284501\ttotal: 630ms\tremaining: 1.12s\n",
      "360:\tlearn: 0.0284092\ttotal: 639ms\tremaining: 1.13s\n",
      "361:\tlearn: 0.0283299\ttotal: 639ms\tremaining: 1.13s\n",
      "362:\tlearn: 0.0283094\ttotal: 639ms\tremaining: 1.12s\n",
      "363:\tlearn: 0.0282607\ttotal: 640ms\tremaining: 1.12s\n",
      "364:\tlearn: 0.0282252\ttotal: 640ms\tremaining: 1.11s\n",
      "365:\tlearn: 0.0281663\ttotal: 640ms\tremaining: 1.11s\n",
      "366:\tlearn: 0.0280968\ttotal: 640ms\tremaining: 1.1s\n",
      "367:\tlearn: 0.0280406\ttotal: 641ms\tremaining: 1.1s\n",
      "368:\tlearn: 0.0279871\ttotal: 641ms\tremaining: 1.1s\n",
      "369:\tlearn: 0.0279182\ttotal: 641ms\tremaining: 1.09s\n"
     ]
    },
    {
     "name": "stdout",
     "output_type": "stream",
     "text": [
      "370:\tlearn: 0.0278513\ttotal: 661ms\tremaining: 1.12s\n",
      "371:\tlearn: 0.0278287\ttotal: 661ms\tremaining: 1.12s\n",
      "372:\tlearn: 0.0277918\ttotal: 682ms\tremaining: 1.15s\n",
      "373:\tlearn: 0.0277508\ttotal: 682ms\tremaining: 1.14s\n",
      "374:\tlearn: 0.0277160\ttotal: 683ms\tremaining: 1.14s\n",
      "375:\tlearn: 0.0276580\ttotal: 687ms\tremaining: 1.14s\n",
      "376:\tlearn: 0.0276236\ttotal: 693ms\tremaining: 1.14s\n",
      "377:\tlearn: 0.0276020\ttotal: 696ms\tremaining: 1.15s\n",
      "378:\tlearn: 0.0275745\ttotal: 698ms\tremaining: 1.14s\n",
      "379:\tlearn: 0.0275199\ttotal: 698ms\tremaining: 1.14s\n",
      "380:\tlearn: 0.0274934\ttotal: 699ms\tremaining: 1.14s\n",
      "381:\tlearn: 0.0274641\ttotal: 702ms\tremaining: 1.14s\n",
      "382:\tlearn: 0.0274242\ttotal: 702ms\tremaining: 1.13s\n",
      "383:\tlearn: 0.0273553\ttotal: 705ms\tremaining: 1.13s\n",
      "384:\tlearn: 0.0273232\ttotal: 706ms\tremaining: 1.13s\n",
      "385:\tlearn: 0.0272671\ttotal: 708ms\tremaining: 1.13s\n",
      "386:\tlearn: 0.0272249\ttotal: 709ms\tremaining: 1.12s\n",
      "387:\tlearn: 0.0272049\ttotal: 710ms\tremaining: 1.12s\n",
      "388:\tlearn: 0.0271484\ttotal: 711ms\tremaining: 1.12s\n",
      "389:\tlearn: 0.0270806\ttotal: 714ms\tremaining: 1.12s\n",
      "390:\tlearn: 0.0270488\ttotal: 715ms\tremaining: 1.11s\n",
      "391:\tlearn: 0.0270240\ttotal: 716ms\tremaining: 1.11s\n",
      "392:\tlearn: 0.0269623\ttotal: 720ms\tremaining: 1.11s\n",
      "393:\tlearn: 0.0269432\ttotal: 725ms\tremaining: 1.11s\n",
      "394:\tlearn: 0.0269015\ttotal: 727ms\tremaining: 1.11s\n",
      "395:\tlearn: 0.0268787\ttotal: 728ms\tremaining: 1.11s\n",
      "396:\tlearn: 0.0268418\ttotal: 730ms\tremaining: 1.11s\n",
      "397:\tlearn: 0.0268026\ttotal: 732ms\tremaining: 1.11s\n",
      "398:\tlearn: 0.0267539\ttotal: 733ms\tremaining: 1.1s\n",
      "399:\tlearn: 0.0266983\ttotal: 735ms\tremaining: 1.1s\n",
      "400:\tlearn: 0.0266746\ttotal: 736ms\tremaining: 1.1s\n",
      "401:\tlearn: 0.0266517\ttotal: 737ms\tremaining: 1.1s\n",
      "402:\tlearn: 0.0266311\ttotal: 738ms\tremaining: 1.09s\n",
      "403:\tlearn: 0.0265743\ttotal: 739ms\tremaining: 1.09s\n",
      "404:\tlearn: 0.0265219\ttotal: 740ms\tremaining: 1.09s\n",
      "405:\tlearn: 0.0264748\ttotal: 741ms\tremaining: 1.08s\n",
      "406:\tlearn: 0.0264571\ttotal: 743ms\tremaining: 1.08s\n",
      "407:\tlearn: 0.0264408\ttotal: 743ms\tremaining: 1.08s\n",
      "408:\tlearn: 0.0264214\ttotal: 745ms\tremaining: 1.08s\n",
      "409:\tlearn: 0.0263684\ttotal: 746ms\tremaining: 1.07s\n",
      "410:\tlearn: 0.0263337\ttotal: 747ms\tremaining: 1.07s\n",
      "411:\tlearn: 0.0263076\ttotal: 748ms\tremaining: 1.07s\n",
      "412:\tlearn: 0.0262856\ttotal: 748ms\tremaining: 1.06s\n",
      "413:\tlearn: 0.0262505\ttotal: 749ms\tremaining: 1.06s\n",
      "414:\tlearn: 0.0261986\ttotal: 750ms\tremaining: 1.06s\n",
      "415:\tlearn: 0.0261612\ttotal: 750ms\tremaining: 1.05s\n",
      "416:\tlearn: 0.0261194\ttotal: 751ms\tremaining: 1.05s\n",
      "417:\tlearn: 0.0260796\ttotal: 752ms\tremaining: 1.05s\n",
      "418:\tlearn: 0.0260472\ttotal: 752ms\tremaining: 1.04s\n",
      "419:\tlearn: 0.0260112\ttotal: 752ms\tremaining: 1.04s\n",
      "420:\tlearn: 0.0259929\ttotal: 753ms\tremaining: 1.03s\n",
      "421:\tlearn: 0.0259574\ttotal: 755ms\tremaining: 1.03s\n",
      "422:\tlearn: 0.0259032\ttotal: 755ms\tremaining: 1.03s\n",
      "423:\tlearn: 0.0258584\ttotal: 760ms\tremaining: 1.03s\n",
      "424:\tlearn: 0.0257953\ttotal: 761ms\tremaining: 1.03s\n",
      "425:\tlearn: 0.0257484\ttotal: 762ms\tremaining: 1.03s\n",
      "426:\tlearn: 0.0256924\ttotal: 764ms\tremaining: 1.02s\n",
      "427:\tlearn: 0.0256715\ttotal: 765ms\tremaining: 1.02s\n",
      "428:\tlearn: 0.0256184\ttotal: 766ms\tremaining: 1.02s\n",
      "429:\tlearn: 0.0255846\ttotal: 768ms\tremaining: 1.02s\n",
      "430:\tlearn: 0.0255604\ttotal: 770ms\tremaining: 1.02s\n",
      "431:\tlearn: 0.0255402\ttotal: 771ms\tremaining: 1.01s\n",
      "432:\tlearn: 0.0254795\ttotal: 771ms\tremaining: 1.01s\n",
      "433:\tlearn: 0.0254508\ttotal: 771ms\tremaining: 1.01s\n",
      "434:\tlearn: 0.0254258\ttotal: 772ms\tremaining: 1s\n",
      "435:\tlearn: 0.0254065\ttotal: 777ms\tremaining: 1s\n",
      "436:\tlearn: 0.0253487\ttotal: 777ms\tremaining: 1s\n",
      "437:\tlearn: 0.0252943\ttotal: 778ms\tremaining: 998ms\n",
      "438:\tlearn: 0.0252475\ttotal: 778ms\tremaining: 995ms\n",
      "439:\tlearn: 0.0252284\ttotal: 779ms\tremaining: 992ms\n",
      "440:\tlearn: 0.0251772\ttotal: 781ms\tremaining: 990ms\n",
      "441:\tlearn: 0.0251246\ttotal: 782ms\tremaining: 987ms\n",
      "442:\tlearn: 0.0250966\ttotal: 782ms\tremaining: 984ms\n",
      "443:\tlearn: 0.0250623\ttotal: 784ms\tremaining: 982ms\n",
      "444:\tlearn: 0.0250336\ttotal: 787ms\tremaining: 981ms\n",
      "445:\tlearn: 0.0249962\ttotal: 788ms\tremaining: 979ms\n",
      "446:\tlearn: 0.0249829\ttotal: 788ms\tremaining: 975ms\n",
      "447:\tlearn: 0.0249333\ttotal: 789ms\tremaining: 972ms\n",
      "448:\tlearn: 0.0248915\ttotal: 790ms\tremaining: 970ms\n",
      "449:\tlearn: 0.0248499\ttotal: 793ms\tremaining: 969ms\n",
      "450:\tlearn: 0.0248399\ttotal: 794ms\tremaining: 966ms\n",
      "451:\tlearn: 0.0248216\ttotal: 796ms\tremaining: 965ms\n",
      "452:\tlearn: 0.0247798\ttotal: 797ms\tremaining: 962ms\n",
      "453:\tlearn: 0.0247450\ttotal: 797ms\tremaining: 959ms\n",
      "454:\tlearn: 0.0247353\ttotal: 798ms\tremaining: 955ms\n",
      "455:\tlearn: 0.0247073\ttotal: 798ms\tremaining: 952ms\n",
      "456:\tlearn: 0.0246586\ttotal: 802ms\tremaining: 953ms\n",
      "457:\tlearn: 0.0246072\ttotal: 803ms\tremaining: 951ms\n",
      "458:\tlearn: 0.0245777\ttotal: 804ms\tremaining: 948ms\n",
      "459:\tlearn: 0.0245604\ttotal: 805ms\tremaining: 944ms\n",
      "460:\tlearn: 0.0245449\ttotal: 805ms\tremaining: 942ms\n",
      "461:\tlearn: 0.0244993\ttotal: 806ms\tremaining: 938ms\n",
      "462:\tlearn: 0.0244825\ttotal: 806ms\tremaining: 935ms\n",
      "463:\tlearn: 0.0244343\ttotal: 806ms\tremaining: 931ms\n",
      "464:\tlearn: 0.0244123\ttotal: 806ms\tremaining: 928ms\n",
      "465:\tlearn: 0.0243894\ttotal: 807ms\tremaining: 924ms\n",
      "466:\tlearn: 0.0243732\ttotal: 807ms\tremaining: 921ms\n"
     ]
    },
    {
     "name": "stdout",
     "output_type": "stream",
     "text": [
      "467:\tlearn: 0.0243574\ttotal: 809ms\tremaining: 920ms\n",
      "468:\tlearn: 0.0243166\ttotal: 809ms\tremaining: 916ms\n",
      "469:\tlearn: 0.0243066\ttotal: 810ms\tremaining: 913ms\n",
      "470:\tlearn: 0.0242949\ttotal: 810ms\tremaining: 910ms\n",
      "471:\tlearn: 0.0242524\ttotal: 810ms\tremaining: 906ms\n",
      "472:\tlearn: 0.0242022\ttotal: 810ms\tremaining: 903ms\n",
      "473:\tlearn: 0.0241867\ttotal: 811ms\tremaining: 900ms\n",
      "474:\tlearn: 0.0241607\ttotal: 819ms\tremaining: 905ms\n",
      "475:\tlearn: 0.0241447\ttotal: 820ms\tremaining: 903ms\n",
      "476:\tlearn: 0.0241224\ttotal: 820ms\tremaining: 899ms\n",
      "477:\tlearn: 0.0241088\ttotal: 822ms\tremaining: 897ms\n",
      "478:\tlearn: 0.0240942\ttotal: 822ms\tremaining: 894ms\n",
      "479:\tlearn: 0.0240799\ttotal: 824ms\tremaining: 893ms\n",
      "480:\tlearn: 0.0240444\ttotal: 825ms\tremaining: 890ms\n",
      "481:\tlearn: 0.0240063\ttotal: 826ms\tremaining: 888ms\n",
      "482:\tlearn: 0.0239634\ttotal: 827ms\tremaining: 885ms\n",
      "483:\tlearn: 0.0239425\ttotal: 828ms\tremaining: 883ms\n",
      "484:\tlearn: 0.0238696\ttotal: 829ms\tremaining: 880ms\n",
      "485:\tlearn: 0.0238558\ttotal: 830ms\tremaining: 878ms\n",
      "486:\tlearn: 0.0238116\ttotal: 831ms\tremaining: 875ms\n",
      "487:\tlearn: 0.0237729\ttotal: 832ms\tremaining: 873ms\n",
      "488:\tlearn: 0.0237594\ttotal: 833ms\tremaining: 870ms\n",
      "489:\tlearn: 0.0237081\ttotal: 833ms\tremaining: 867ms\n",
      "490:\tlearn: 0.0236633\ttotal: 834ms\tremaining: 864ms\n",
      "491:\tlearn: 0.0236443\ttotal: 834ms\tremaining: 861ms\n",
      "492:\tlearn: 0.0236335\ttotal: 835ms\tremaining: 858ms\n",
      "493:\tlearn: 0.0235863\ttotal: 838ms\tremaining: 858ms\n",
      "494:\tlearn: 0.0235731\ttotal: 838ms\tremaining: 855ms\n",
      "495:\tlearn: 0.0235324\ttotal: 839ms\tremaining: 852ms\n",
      "496:\tlearn: 0.0234967\ttotal: 842ms\tremaining: 853ms\n",
      "497:\tlearn: 0.0234550\ttotal: 843ms\tremaining: 850ms\n",
      "498:\tlearn: 0.0234164\ttotal: 846ms\tremaining: 850ms\n",
      "499:\tlearn: 0.0234034\ttotal: 847ms\tremaining: 847ms\n",
      "500:\tlearn: 0.0233652\ttotal: 848ms\tremaining: 845ms\n",
      "501:\tlearn: 0.0233351\ttotal: 849ms\tremaining: 842ms\n",
      "502:\tlearn: 0.0232869\ttotal: 850ms\tremaining: 840ms\n",
      "503:\tlearn: 0.0232521\ttotal: 851ms\tremaining: 838ms\n",
      "504:\tlearn: 0.0232211\ttotal: 851ms\tremaining: 835ms\n",
      "505:\tlearn: 0.0232114\ttotal: 854ms\tremaining: 834ms\n",
      "506:\tlearn: 0.0231890\ttotal: 856ms\tremaining: 832ms\n",
      "507:\tlearn: 0.0231697\ttotal: 858ms\tremaining: 831ms\n",
      "508:\tlearn: 0.0231546\ttotal: 859ms\tremaining: 828ms\n",
      "509:\tlearn: 0.0231271\ttotal: 859ms\tremaining: 825ms\n",
      "510:\tlearn: 0.0230816\ttotal: 859ms\tremaining: 822ms\n",
      "511:\tlearn: 0.0230691\ttotal: 860ms\tremaining: 819ms\n",
      "512:\tlearn: 0.0230268\ttotal: 860ms\tremaining: 816ms\n",
      "513:\tlearn: 0.0230051\ttotal: 860ms\tremaining: 813ms\n",
      "514:\tlearn: 0.0229843\ttotal: 861ms\tremaining: 810ms\n",
      "515:\tlearn: 0.0229718\ttotal: 864ms\tremaining: 810ms\n",
      "516:\tlearn: 0.0229537\ttotal: 866ms\tremaining: 809ms\n",
      "517:\tlearn: 0.0229418\ttotal: 867ms\tremaining: 806ms\n",
      "518:\tlearn: 0.0228986\ttotal: 867ms\tremaining: 803ms\n",
      "519:\tlearn: 0.0228675\ttotal: 867ms\tremaining: 801ms\n",
      "520:\tlearn: 0.0228563\ttotal: 868ms\tremaining: 798ms\n",
      "521:\tlearn: 0.0228082\ttotal: 868ms\tremaining: 795ms\n",
      "522:\tlearn: 0.0227730\ttotal: 872ms\tremaining: 795ms\n",
      "523:\tlearn: 0.0227412\ttotal: 873ms\tremaining: 793ms\n",
      "524:\tlearn: 0.0227309\ttotal: 874ms\tremaining: 791ms\n",
      "525:\tlearn: 0.0226916\ttotal: 874ms\tremaining: 788ms\n",
      "526:\tlearn: 0.0226807\ttotal: 875ms\tremaining: 785ms\n",
      "527:\tlearn: 0.0226684\ttotal: 875ms\tremaining: 782ms\n",
      "528:\tlearn: 0.0226505\ttotal: 875ms\tremaining: 779ms\n",
      "529:\tlearn: 0.0225895\ttotal: 875ms\tremaining: 776ms\n",
      "530:\tlearn: 0.0225550\ttotal: 879ms\tremaining: 777ms\n",
      "531:\tlearn: 0.0225431\ttotal: 880ms\tremaining: 774ms\n",
      "532:\tlearn: 0.0225167\ttotal: 880ms\tremaining: 771ms\n",
      "533:\tlearn: 0.0224882\ttotal: 881ms\tremaining: 769ms\n",
      "534:\tlearn: 0.0224494\ttotal: 886ms\tremaining: 770ms\n",
      "535:\tlearn: 0.0224378\ttotal: 887ms\tremaining: 768ms\n",
      "536:\tlearn: 0.0224300\ttotal: 888ms\tremaining: 766ms\n",
      "537:\tlearn: 0.0224186\ttotal: 888ms\tremaining: 763ms\n",
      "538:\tlearn: 0.0224070\ttotal: 889ms\tremaining: 760ms\n",
      "539:\tlearn: 0.0223636\ttotal: 890ms\tremaining: 759ms\n",
      "540:\tlearn: 0.0223525\ttotal: 892ms\tremaining: 757ms\n",
      "541:\tlearn: 0.0223452\ttotal: 893ms\tremaining: 755ms\n",
      "542:\tlearn: 0.0223180\ttotal: 894ms\tremaining: 752ms\n",
      "543:\tlearn: 0.0222639\ttotal: 896ms\tremaining: 751ms\n",
      "544:\tlearn: 0.0222513\ttotal: 897ms\tremaining: 749ms\n",
      "545:\tlearn: 0.0222421\ttotal: 898ms\tremaining: 747ms\n",
      "546:\tlearn: 0.0222131\ttotal: 899ms\tremaining: 744ms\n",
      "547:\tlearn: 0.0221674\ttotal: 899ms\tremaining: 742ms\n",
      "548:\tlearn: 0.0221551\ttotal: 901ms\tremaining: 740ms\n",
      "549:\tlearn: 0.0221285\ttotal: 902ms\tremaining: 738ms\n",
      "550:\tlearn: 0.0220949\ttotal: 902ms\tremaining: 735ms\n",
      "551:\tlearn: 0.0220574\ttotal: 905ms\tremaining: 735ms\n",
      "552:\tlearn: 0.0220312\ttotal: 907ms\tremaining: 733ms\n",
      "553:\tlearn: 0.0220242\ttotal: 908ms\tremaining: 731ms\n",
      "554:\tlearn: 0.0219831\ttotal: 908ms\tremaining: 728ms\n",
      "555:\tlearn: 0.0219723\ttotal: 910ms\tremaining: 727ms\n"
     ]
    },
    {
     "name": "stdout",
     "output_type": "stream",
     "text": [
      "556:\tlearn: 0.0219576\ttotal: 913ms\tremaining: 726ms\n",
      "557:\tlearn: 0.0219197\ttotal: 915ms\tremaining: 724ms\n",
      "558:\tlearn: 0.0219091\ttotal: 917ms\tremaining: 724ms\n",
      "559:\tlearn: 0.0218992\ttotal: 919ms\tremaining: 722ms\n",
      "560:\tlearn: 0.0218689\ttotal: 919ms\tremaining: 719ms\n",
      "561:\tlearn: 0.0218585\ttotal: 920ms\tremaining: 717ms\n",
      "562:\tlearn: 0.0218217\ttotal: 922ms\tremaining: 716ms\n",
      "563:\tlearn: 0.0218124\ttotal: 924ms\tremaining: 714ms\n",
      "564:\tlearn: 0.0217839\ttotal: 926ms\tremaining: 713ms\n",
      "565:\tlearn: 0.0217464\ttotal: 927ms\tremaining: 711ms\n",
      "566:\tlearn: 0.0217160\ttotal: 930ms\tremaining: 710ms\n",
      "567:\tlearn: 0.0217058\ttotal: 931ms\tremaining: 708ms\n",
      "568:\tlearn: 0.0216956\ttotal: 932ms\tremaining: 706ms\n",
      "569:\tlearn: 0.0216803\ttotal: 933ms\tremaining: 704ms\n",
      "570:\tlearn: 0.0216403\ttotal: 934ms\tremaining: 702ms\n",
      "571:\tlearn: 0.0216130\ttotal: 935ms\tremaining: 700ms\n",
      "572:\tlearn: 0.0215900\ttotal: 936ms\tremaining: 697ms\n",
      "573:\tlearn: 0.0215730\ttotal: 937ms\tremaining: 695ms\n",
      "574:\tlearn: 0.0215633\ttotal: 938ms\tremaining: 693ms\n",
      "575:\tlearn: 0.0215269\ttotal: 940ms\tremaining: 692ms\n",
      "576:\tlearn: 0.0214940\ttotal: 941ms\tremaining: 690ms\n",
      "577:\tlearn: 0.0214650\ttotal: 942ms\tremaining: 688ms\n",
      "578:\tlearn: 0.0214353\ttotal: 943ms\tremaining: 686ms\n",
      "579:\tlearn: 0.0214242\ttotal: 946ms\tremaining: 685ms\n",
      "580:\tlearn: 0.0214163\ttotal: 947ms\tremaining: 683ms\n",
      "581:\tlearn: 0.0213900\ttotal: 948ms\tremaining: 681ms\n",
      "582:\tlearn: 0.0213539\ttotal: 950ms\tremaining: 679ms\n",
      "583:\tlearn: 0.0213190\ttotal: 951ms\tremaining: 678ms\n",
      "584:\tlearn: 0.0213082\ttotal: 953ms\tremaining: 676ms\n",
      "585:\tlearn: 0.0212792\ttotal: 956ms\tremaining: 676ms\n",
      "586:\tlearn: 0.0212451\ttotal: 958ms\tremaining: 674ms\n",
      "587:\tlearn: 0.0212205\ttotal: 959ms\tremaining: 672ms\n",
      "588:\tlearn: 0.0211893\ttotal: 960ms\tremaining: 670ms\n",
      "589:\tlearn: 0.0211788\ttotal: 960ms\tremaining: 667ms\n",
      "590:\tlearn: 0.0211730\ttotal: 961ms\tremaining: 665ms\n",
      "591:\tlearn: 0.0211548\ttotal: 962ms\tremaining: 663ms\n",
      "592:\tlearn: 0.0211448\ttotal: 963ms\tremaining: 661ms\n",
      "593:\tlearn: 0.0211227\ttotal: 971ms\tremaining: 663ms\n",
      "594:\tlearn: 0.0210893\ttotal: 972ms\tremaining: 661ms\n",
      "595:\tlearn: 0.0210758\ttotal: 973ms\tremaining: 659ms\n",
      "596:\tlearn: 0.0210679\ttotal: 976ms\tremaining: 659ms\n",
      "597:\tlearn: 0.0210495\ttotal: 989ms\tremaining: 665ms\n",
      "598:\tlearn: 0.0210407\ttotal: 990ms\tremaining: 663ms\n",
      "599:\tlearn: 0.0210322\ttotal: 991ms\tremaining: 660ms\n",
      "600:\tlearn: 0.0210203\ttotal: 996ms\tremaining: 661ms\n",
      "601:\tlearn: 0.0210113\ttotal: 1s\tremaining: 662ms\n",
      "602:\tlearn: 0.0210024\ttotal: 1.01s\tremaining: 662ms\n",
      "603:\tlearn: 0.0209781\ttotal: 1.01s\tremaining: 662ms\n",
      "604:\tlearn: 0.0209469\ttotal: 1.02s\tremaining: 664ms\n",
      "605:\tlearn: 0.0209162\ttotal: 1.02s\tremaining: 664ms\n",
      "606:\tlearn: 0.0208957\ttotal: 1.02s\tremaining: 662ms\n",
      "607:\tlearn: 0.0208634\ttotal: 1.02s\tremaining: 659ms\n"
     ]
    },
    {
     "name": "stdout",
     "output_type": "stream",
     "text": [
      "608:\tlearn: 0.0208290\ttotal: 1.02s\tremaining: 658ms\n",
      "609:\tlearn: 0.0207990\ttotal: 1.03s\tremaining: 657ms\n",
      "610:\tlearn: 0.0207790\ttotal: 1.03s\tremaining: 656ms\n",
      "611:\tlearn: 0.0207587\ttotal: 1.03s\tremaining: 656ms\n",
      "612:\tlearn: 0.0207367\ttotal: 1.03s\tremaining: 653ms\n",
      "613:\tlearn: 0.0207314\ttotal: 1.03s\tremaining: 651ms\n",
      "614:\tlearn: 0.0207148\ttotal: 1.04s\tremaining: 649ms\n",
      "615:\tlearn: 0.0206912\ttotal: 1.04s\tremaining: 647ms\n",
      "616:\tlearn: 0.0206809\ttotal: 1.04s\tremaining: 644ms\n",
      "617:\tlearn: 0.0206577\ttotal: 1.04s\tremaining: 642ms\n",
      "618:\tlearn: 0.0206327\ttotal: 1.04s\tremaining: 640ms\n",
      "619:\tlearn: 0.0206141\ttotal: 1.04s\tremaining: 640ms\n",
      "620:\tlearn: 0.0205939\ttotal: 1.04s\tremaining: 638ms\n",
      "621:\tlearn: 0.0205763\ttotal: 1.05s\tremaining: 636ms\n",
      "622:\tlearn: 0.0205666\ttotal: 1.05s\tremaining: 633ms\n",
      "623:\tlearn: 0.0205264\ttotal: 1.05s\tremaining: 631ms\n",
      "624:\tlearn: 0.0204446\ttotal: 1.05s\tremaining: 628ms\n",
      "625:\tlearn: 0.0204299\ttotal: 1.05s\tremaining: 626ms\n",
      "626:\tlearn: 0.0204178\ttotal: 1.05s\tremaining: 625ms\n",
      "627:\tlearn: 0.0203703\ttotal: 1.05s\tremaining: 624ms\n",
      "628:\tlearn: 0.0203622\ttotal: 1.05s\tremaining: 622ms\n",
      "629:\tlearn: 0.0203496\ttotal: 1.05s\tremaining: 620ms\n",
      "630:\tlearn: 0.0203399\ttotal: 1.06s\tremaining: 618ms\n",
      "631:\tlearn: 0.0203288\ttotal: 1.06s\tremaining: 616ms\n",
      "632:\tlearn: 0.0203086\ttotal: 1.06s\tremaining: 614ms\n",
      "633:\tlearn: 0.0202927\ttotal: 1.06s\tremaining: 612ms\n",
      "634:\tlearn: 0.0202654\ttotal: 1.06s\tremaining: 611ms\n",
      "635:\tlearn: 0.0202495\ttotal: 1.06s\tremaining: 609ms\n",
      "636:\tlearn: 0.0202379\ttotal: 1.06s\tremaining: 607ms\n",
      "637:\tlearn: 0.0202246\ttotal: 1.06s\tremaining: 604ms\n",
      "638:\tlearn: 0.0201918\ttotal: 1.07s\tremaining: 602ms\n",
      "639:\tlearn: 0.0201835\ttotal: 1.07s\tremaining: 600ms\n",
      "640:\tlearn: 0.0201526\ttotal: 1.07s\tremaining: 599ms\n",
      "641:\tlearn: 0.0201446\ttotal: 1.07s\tremaining: 596ms\n",
      "642:\tlearn: 0.0201204\ttotal: 1.07s\tremaining: 594ms\n",
      "643:\tlearn: 0.0200914\ttotal: 1.07s\tremaining: 591ms\n",
      "644:\tlearn: 0.0200694\ttotal: 1.07s\tremaining: 590ms\n",
      "645:\tlearn: 0.0200616\ttotal: 1.07s\tremaining: 589ms\n",
      "646:\tlearn: 0.0200539\ttotal: 1.07s\tremaining: 587ms\n",
      "647:\tlearn: 0.0200324\ttotal: 1.08s\tremaining: 586ms\n",
      "648:\tlearn: 0.0200250\ttotal: 1.08s\tremaining: 584ms\n",
      "649:\tlearn: 0.0200168\ttotal: 1.08s\tremaining: 582ms\n",
      "650:\tlearn: 0.0200019\ttotal: 1.08s\tremaining: 580ms\n",
      "651:\tlearn: 0.0199787\ttotal: 1.08s\tremaining: 578ms\n",
      "652:\tlearn: 0.0199685\ttotal: 1.09s\tremaining: 578ms\n",
      "653:\tlearn: 0.0199440\ttotal: 1.09s\tremaining: 576ms\n",
      "654:\tlearn: 0.0199369\ttotal: 1.09s\tremaining: 574ms\n",
      "655:\tlearn: 0.0199160\ttotal: 1.09s\tremaining: 572ms\n",
      "656:\tlearn: 0.0198880\ttotal: 1.09s\tremaining: 570ms\n",
      "657:\tlearn: 0.0198629\ttotal: 1.1s\tremaining: 570ms\n",
      "658:\tlearn: 0.0198198\ttotal: 1.1s\tremaining: 568ms\n",
      "659:\tlearn: 0.0197951\ttotal: 1.1s\tremaining: 565ms\n",
      "660:\tlearn: 0.0197880\ttotal: 1.1s\tremaining: 563ms\n",
      "661:\tlearn: 0.0197804\ttotal: 1.1s\tremaining: 561ms\n",
      "662:\tlearn: 0.0197587\ttotal: 1.1s\tremaining: 562ms\n",
      "663:\tlearn: 0.0197315\ttotal: 1.11s\tremaining: 560ms\n",
      "664:\tlearn: 0.0197006\ttotal: 1.11s\tremaining: 559ms\n",
      "665:\tlearn: 0.0196730\ttotal: 1.11s\tremaining: 558ms\n",
      "666:\tlearn: 0.0196477\ttotal: 1.11s\tremaining: 556ms\n",
      "667:\tlearn: 0.0196124\ttotal: 1.11s\tremaining: 554ms\n",
      "668:\tlearn: 0.0195957\ttotal: 1.11s\tremaining: 552ms\n",
      "669:\tlearn: 0.0195700\ttotal: 1.12s\tremaining: 551ms\n",
      "670:\tlearn: 0.0195629\ttotal: 1.12s\tremaining: 549ms\n",
      "671:\tlearn: 0.0195589\ttotal: 1.12s\tremaining: 548ms\n",
      "672:\tlearn: 0.0195524\ttotal: 1.12s\tremaining: 547ms\n",
      "673:\tlearn: 0.0195240\ttotal: 1.13s\tremaining: 544ms\n",
      "674:\tlearn: 0.0195172\ttotal: 1.13s\tremaining: 542ms\n",
      "675:\tlearn: 0.0195044\ttotal: 1.13s\tremaining: 540ms\n",
      "676:\tlearn: 0.0194794\ttotal: 1.13s\tremaining: 539ms\n",
      "677:\tlearn: 0.0194755\ttotal: 1.13s\tremaining: 536ms\n",
      "678:\tlearn: 0.0194620\ttotal: 1.13s\tremaining: 535ms\n",
      "679:\tlearn: 0.0194376\ttotal: 1.13s\tremaining: 533ms\n",
      "680:\tlearn: 0.0194229\ttotal: 1.13s\tremaining: 531ms\n",
      "681:\tlearn: 0.0193929\ttotal: 1.13s\tremaining: 529ms\n",
      "682:\tlearn: 0.0193855\ttotal: 1.14s\tremaining: 528ms\n",
      "683:\tlearn: 0.0193790\ttotal: 1.14s\tremaining: 526ms\n",
      "684:\tlearn: 0.0193543\ttotal: 1.14s\tremaining: 526ms\n"
     ]
    },
    {
     "name": "stdout",
     "output_type": "stream",
     "text": [
      "685:\tlearn: 0.0193476\ttotal: 1.15s\tremaining: 524ms\n",
      "686:\tlearn: 0.0193407\ttotal: 1.15s\tremaining: 522ms\n",
      "687:\tlearn: 0.0193342\ttotal: 1.15s\tremaining: 521ms\n",
      "688:\tlearn: 0.0193104\ttotal: 1.15s\tremaining: 519ms\n",
      "689:\tlearn: 0.0193023\ttotal: 1.15s\tremaining: 518ms\n",
      "690:\tlearn: 0.0192903\ttotal: 1.15s\tremaining: 516ms\n",
      "691:\tlearn: 0.0192716\ttotal: 1.16s\tremaining: 515ms\n",
      "692:\tlearn: 0.0192516\ttotal: 1.16s\tremaining: 513ms\n",
      "693:\tlearn: 0.0192330\ttotal: 1.16s\tremaining: 511ms\n",
      "694:\tlearn: 0.0192158\ttotal: 1.16s\tremaining: 508ms\n",
      "695:\tlearn: 0.0191868\ttotal: 1.16s\tremaining: 507ms\n",
      "696:\tlearn: 0.0191712\ttotal: 1.16s\tremaining: 505ms\n",
      "697:\tlearn: 0.0191515\ttotal: 1.16s\tremaining: 503ms\n",
      "698:\tlearn: 0.0191258\ttotal: 1.16s\tremaining: 501ms\n",
      "699:\tlearn: 0.0191000\ttotal: 1.16s\tremaining: 499ms\n",
      "700:\tlearn: 0.0190931\ttotal: 1.16s\tremaining: 497ms\n",
      "701:\tlearn: 0.0190740\ttotal: 1.17s\tremaining: 496ms\n",
      "702:\tlearn: 0.0190507\ttotal: 1.17s\tremaining: 495ms\n",
      "703:\tlearn: 0.0190453\ttotal: 1.17s\tremaining: 493ms\n",
      "704:\tlearn: 0.0190224\ttotal: 1.18s\tremaining: 493ms\n",
      "705:\tlearn: 0.0190057\ttotal: 1.18s\tremaining: 491ms\n",
      "706:\tlearn: 0.0189993\ttotal: 1.18s\tremaining: 490ms\n",
      "707:\tlearn: 0.0189894\ttotal: 1.18s\tremaining: 488ms\n",
      "708:\tlearn: 0.0189579\ttotal: 1.18s\tremaining: 486ms\n",
      "709:\tlearn: 0.0189350\ttotal: 1.19s\tremaining: 484ms\n",
      "710:\tlearn: 0.0189220\ttotal: 1.19s\tremaining: 483ms\n",
      "711:\tlearn: 0.0189155\ttotal: 1.19s\tremaining: 481ms\n",
      "712:\tlearn: 0.0189032\ttotal: 1.19s\tremaining: 479ms\n",
      "713:\tlearn: 0.0188999\ttotal: 1.19s\tremaining: 477ms\n",
      "714:\tlearn: 0.0188887\ttotal: 1.19s\tremaining: 475ms\n",
      "715:\tlearn: 0.0188661\ttotal: 1.19s\tremaining: 473ms\n",
      "716:\tlearn: 0.0188441\ttotal: 1.19s\tremaining: 471ms\n",
      "717:\tlearn: 0.0188175\ttotal: 1.2s\tremaining: 470ms\n",
      "718:\tlearn: 0.0187853\ttotal: 1.2s\tremaining: 468ms\n",
      "719:\tlearn: 0.0187617\ttotal: 1.2s\tremaining: 466ms\n",
      "720:\tlearn: 0.0187360\ttotal: 1.2s\tremaining: 464ms\n",
      "721:\tlearn: 0.0187126\ttotal: 1.2s\tremaining: 462ms\n",
      "722:\tlearn: 0.0187018\ttotal: 1.21s\tremaining: 463ms\n",
      "723:\tlearn: 0.0186773\ttotal: 1.21s\tremaining: 461ms\n",
      "724:\tlearn: 0.0186470\ttotal: 1.21s\tremaining: 459ms\n",
      "725:\tlearn: 0.0186262\ttotal: 1.21s\tremaining: 458ms\n",
      "726:\tlearn: 0.0186114\ttotal: 1.21s\tremaining: 456ms\n",
      "727:\tlearn: 0.0185988\ttotal: 1.22s\tremaining: 455ms\n",
      "728:\tlearn: 0.0185740\ttotal: 1.22s\tremaining: 453ms\n",
      "729:\tlearn: 0.0185415\ttotal: 1.22s\tremaining: 451ms\n",
      "730:\tlearn: 0.0185187\ttotal: 1.22s\tremaining: 449ms\n",
      "731:\tlearn: 0.0185113\ttotal: 1.22s\tremaining: 446ms\n",
      "732:\tlearn: 0.0184864\ttotal: 1.22s\tremaining: 445ms\n",
      "733:\tlearn: 0.0184634\ttotal: 1.22s\tremaining: 443ms\n",
      "734:\tlearn: 0.0184384\ttotal: 1.22s\tremaining: 441ms\n",
      "735:\tlearn: 0.0184223\ttotal: 1.23s\tremaining: 440ms\n",
      "736:\tlearn: 0.0184181\ttotal: 1.23s\tremaining: 438ms\n",
      "737:\tlearn: 0.0184095\ttotal: 1.23s\tremaining: 435ms\n",
      "738:\tlearn: 0.0183962\ttotal: 1.23s\tremaining: 433ms\n",
      "739:\tlearn: 0.0183863\ttotal: 1.23s\tremaining: 431ms\n",
      "740:\tlearn: 0.0183196\ttotal: 1.23s\tremaining: 430ms\n",
      "741:\tlearn: 0.0182960\ttotal: 1.23s\tremaining: 428ms\n",
      "742:\tlearn: 0.0182853\ttotal: 1.23s\tremaining: 427ms\n",
      "743:\tlearn: 0.0182656\ttotal: 1.24s\tremaining: 425ms\n",
      "744:\tlearn: 0.0182413\ttotal: 1.24s\tremaining: 423ms\n",
      "745:\tlearn: 0.0182163\ttotal: 1.24s\tremaining: 421ms\n",
      "746:\tlearn: 0.0181994\ttotal: 1.24s\tremaining: 419ms\n",
      "747:\tlearn: 0.0181854\ttotal: 1.24s\tremaining: 417ms\n",
      "748:\tlearn: 0.0181794\ttotal: 1.24s\tremaining: 416ms\n",
      "749:\tlearn: 0.0181573\ttotal: 1.24s\tremaining: 414ms\n",
      "750:\tlearn: 0.0181358\ttotal: 1.25s\tremaining: 413ms\n",
      "751:\tlearn: 0.0181299\ttotal: 1.25s\tremaining: 412ms\n",
      "752:\tlearn: 0.0181163\ttotal: 1.25s\tremaining: 410ms\n",
      "753:\tlearn: 0.0180989\ttotal: 1.25s\tremaining: 408ms\n",
      "754:\tlearn: 0.0180795\ttotal: 1.25s\tremaining: 406ms\n",
      "755:\tlearn: 0.0180684\ttotal: 1.25s\tremaining: 404ms\n",
      "756:\tlearn: 0.0180581\ttotal: 1.25s\tremaining: 402ms\n",
      "757:\tlearn: 0.0180376\ttotal: 1.25s\tremaining: 400ms\n",
      "758:\tlearn: 0.0180190\ttotal: 1.25s\tremaining: 398ms\n",
      "759:\tlearn: 0.0179985\ttotal: 1.26s\tremaining: 397ms\n",
      "760:\tlearn: 0.0179696\ttotal: 1.26s\tremaining: 396ms\n",
      "761:\tlearn: 0.0179466\ttotal: 1.26s\tremaining: 394ms\n",
      "762:\tlearn: 0.0179203\ttotal: 1.26s\tremaining: 392ms\n",
      "763:\tlearn: 0.0179081\ttotal: 1.26s\tremaining: 390ms\n",
      "764:\tlearn: 0.0178919\ttotal: 1.26s\tremaining: 388ms\n",
      "765:\tlearn: 0.0178884\ttotal: 1.26s\tremaining: 386ms\n",
      "766:\tlearn: 0.0178695\ttotal: 1.26s\tremaining: 384ms\n",
      "767:\tlearn: 0.0178517\ttotal: 1.26s\tremaining: 382ms\n"
     ]
    },
    {
     "name": "stdout",
     "output_type": "stream",
     "text": [
      "768:\tlearn: 0.0178377\ttotal: 1.27s\tremaining: 381ms\n",
      "769:\tlearn: 0.0178128\ttotal: 1.27s\tremaining: 379ms\n",
      "770:\tlearn: 0.0178073\ttotal: 1.27s\tremaining: 377ms\n",
      "771:\tlearn: 0.0178041\ttotal: 1.27s\tremaining: 375ms\n",
      "772:\tlearn: 0.0177847\ttotal: 1.27s\tremaining: 373ms\n",
      "773:\tlearn: 0.0177678\ttotal: 1.27s\tremaining: 371ms\n",
      "774:\tlearn: 0.0177484\ttotal: 1.27s\tremaining: 369ms\n",
      "775:\tlearn: 0.0177313\ttotal: 1.27s\tremaining: 367ms\n",
      "776:\tlearn: 0.0177071\ttotal: 1.27s\tremaining: 365ms\n",
      "777:\tlearn: 0.0176910\ttotal: 1.27s\tremaining: 363ms\n",
      "778:\tlearn: 0.0176729\ttotal: 1.27s\tremaining: 361ms\n",
      "779:\tlearn: 0.0176562\ttotal: 1.28s\tremaining: 360ms\n",
      "780:\tlearn: 0.0176418\ttotal: 1.28s\tremaining: 359ms\n",
      "781:\tlearn: 0.0176142\ttotal: 1.28s\tremaining: 357ms\n",
      "782:\tlearn: 0.0176086\ttotal: 1.28s\tremaining: 355ms\n",
      "783:\tlearn: 0.0175939\ttotal: 1.28s\tremaining: 354ms\n",
      "784:\tlearn: 0.0175786\ttotal: 1.28s\tremaining: 352ms\n",
      "785:\tlearn: 0.0175679\ttotal: 1.29s\tremaining: 350ms\n",
      "786:\tlearn: 0.0175460\ttotal: 1.29s\tremaining: 349ms\n",
      "787:\tlearn: 0.0175405\ttotal: 1.29s\tremaining: 347ms\n",
      "788:\tlearn: 0.0175241\ttotal: 1.29s\tremaining: 345ms\n",
      "789:\tlearn: 0.0175098\ttotal: 1.29s\tremaining: 344ms\n",
      "790:\tlearn: 0.0174925\ttotal: 1.29s\tremaining: 342ms\n",
      "791:\tlearn: 0.0174764\ttotal: 1.29s\tremaining: 340ms\n",
      "792:\tlearn: 0.0174677\ttotal: 1.3s\tremaining: 339ms\n",
      "793:\tlearn: 0.0174424\ttotal: 1.3s\tremaining: 337ms\n",
      "794:\tlearn: 0.0174308\ttotal: 1.3s\tremaining: 335ms\n",
      "795:\tlearn: 0.0174140\ttotal: 1.3s\tremaining: 334ms\n",
      "796:\tlearn: 0.0173994\ttotal: 1.3s\tremaining: 332ms\n",
      "797:\tlearn: 0.0173930\ttotal: 1.3s\tremaining: 330ms\n",
      "798:\tlearn: 0.0173756\ttotal: 1.3s\tremaining: 328ms\n",
      "799:\tlearn: 0.0173654\ttotal: 1.3s\tremaining: 326ms\n",
      "800:\tlearn: 0.0173441\ttotal: 1.31s\tremaining: 325ms\n",
      "801:\tlearn: 0.0173235\ttotal: 1.31s\tremaining: 323ms\n",
      "802:\tlearn: 0.0172996\ttotal: 1.31s\tremaining: 321ms\n",
      "803:\tlearn: 0.0172916\ttotal: 1.31s\tremaining: 319ms\n",
      "804:\tlearn: 0.0172713\ttotal: 1.31s\tremaining: 318ms\n",
      "805:\tlearn: 0.0172534\ttotal: 1.31s\tremaining: 316ms\n",
      "806:\tlearn: 0.0172363\ttotal: 1.31s\tremaining: 314ms\n",
      "807:\tlearn: 0.0172314\ttotal: 1.31s\tremaining: 313ms\n",
      "808:\tlearn: 0.0172284\ttotal: 1.31s\tremaining: 311ms\n",
      "809:\tlearn: 0.0172067\ttotal: 1.32s\tremaining: 309ms\n",
      "810:\tlearn: 0.0171786\ttotal: 1.32s\tremaining: 307ms\n",
      "811:\tlearn: 0.0171621\ttotal: 1.32s\tremaining: 305ms\n",
      "812:\tlearn: 0.0171377\ttotal: 1.32s\tremaining: 303ms\n",
      "813:\tlearn: 0.0171217\ttotal: 1.32s\tremaining: 301ms\n",
      "814:\tlearn: 0.0171079\ttotal: 1.32s\tremaining: 299ms\n",
      "815:\tlearn: 0.0170785\ttotal: 1.32s\tremaining: 297ms\n",
      "816:\tlearn: 0.0170531\ttotal: 1.32s\tremaining: 295ms\n",
      "817:\tlearn: 0.0170379\ttotal: 1.32s\tremaining: 293ms\n",
      "818:\tlearn: 0.0170351\ttotal: 1.32s\tremaining: 292ms\n",
      "819:\tlearn: 0.0170185\ttotal: 1.32s\tremaining: 291ms\n",
      "820:\tlearn: 0.0169972\ttotal: 1.32s\tremaining: 289ms\n",
      "821:\tlearn: 0.0169874\ttotal: 1.33s\tremaining: 287ms\n",
      "822:\tlearn: 0.0169714\ttotal: 1.33s\tremaining: 286ms\n",
      "823:\tlearn: 0.0169552\ttotal: 1.33s\tremaining: 284ms\n",
      "824:\tlearn: 0.0169378\ttotal: 1.33s\tremaining: 282ms\n",
      "825:\tlearn: 0.0169264\ttotal: 1.33s\tremaining: 280ms\n",
      "826:\tlearn: 0.0169036\ttotal: 1.33s\tremaining: 279ms\n",
      "827:\tlearn: 0.0168830\ttotal: 1.33s\tremaining: 277ms\n",
      "828:\tlearn: 0.0168739\ttotal: 1.33s\tremaining: 275ms\n",
      "829:\tlearn: 0.0168608\ttotal: 1.34s\tremaining: 274ms\n",
      "830:\tlearn: 0.0168523\ttotal: 1.34s\tremaining: 272ms\n",
      "831:\tlearn: 0.0168482\ttotal: 1.34s\tremaining: 271ms\n",
      "832:\tlearn: 0.0168293\ttotal: 1.34s\tremaining: 270ms\n",
      "833:\tlearn: 0.0168081\ttotal: 1.35s\tremaining: 268ms\n",
      "834:\tlearn: 0.0167805\ttotal: 1.35s\tremaining: 266ms\n",
      "835:\tlearn: 0.0167764\ttotal: 1.35s\tremaining: 265ms\n",
      "836:\tlearn: 0.0167536\ttotal: 1.35s\tremaining: 264ms\n",
      "837:\tlearn: 0.0167463\ttotal: 1.35s\tremaining: 262ms\n",
      "838:\tlearn: 0.0167274\ttotal: 1.35s\tremaining: 260ms\n",
      "839:\tlearn: 0.0167034\ttotal: 1.35s\tremaining: 258ms\n",
      "840:\tlearn: 0.0166954\ttotal: 1.36s\tremaining: 257ms\n",
      "841:\tlearn: 0.0166880\ttotal: 1.36s\tremaining: 255ms\n",
      "842:\tlearn: 0.0166731\ttotal: 1.36s\tremaining: 253ms\n",
      "843:\tlearn: 0.0166528\ttotal: 1.36s\tremaining: 251ms\n",
      "844:\tlearn: 0.0166457\ttotal: 1.36s\tremaining: 250ms\n",
      "845:\tlearn: 0.0166241\ttotal: 1.36s\tremaining: 248ms\n",
      "846:\tlearn: 0.0166041\ttotal: 1.36s\tremaining: 246ms\n",
      "847:\tlearn: 0.0165809\ttotal: 1.37s\tremaining: 245ms\n",
      "848:\tlearn: 0.0165603\ttotal: 1.37s\tremaining: 243ms\n",
      "849:\tlearn: 0.0165462\ttotal: 1.37s\tremaining: 242ms\n",
      "850:\tlearn: 0.0165285\ttotal: 1.37s\tremaining: 240ms\n",
      "851:\tlearn: 0.0165132\ttotal: 1.37s\tremaining: 239ms\n",
      "852:\tlearn: 0.0164996\ttotal: 1.38s\tremaining: 237ms\n",
      "853:\tlearn: 0.0164844\ttotal: 1.38s\tremaining: 235ms\n",
      "854:\tlearn: 0.0164612\ttotal: 1.38s\tremaining: 233ms\n",
      "855:\tlearn: 0.0164484\ttotal: 1.38s\tremaining: 232ms\n",
      "856:\tlearn: 0.0164416\ttotal: 1.38s\tremaining: 230ms\n",
      "857:\tlearn: 0.0164236\ttotal: 1.38s\tremaining: 228ms\n",
      "858:\tlearn: 0.0164116\ttotal: 1.38s\tremaining: 226ms\n",
      "859:\tlearn: 0.0164035\ttotal: 1.38s\tremaining: 224ms\n",
      "860:\tlearn: 0.0163949\ttotal: 1.38s\tremaining: 223ms\n",
      "861:\tlearn: 0.0163849\ttotal: 1.38s\tremaining: 221ms\n",
      "862:\tlearn: 0.0163719\ttotal: 1.38s\tremaining: 219ms\n"
     ]
    },
    {
     "name": "stdout",
     "output_type": "stream",
     "text": [
      "863:\tlearn: 0.0163550\ttotal: 1.39s\tremaining: 218ms\n",
      "864:\tlearn: 0.0163373\ttotal: 1.39s\tremaining: 217ms\n",
      "865:\tlearn: 0.0163129\ttotal: 1.39s\tremaining: 215ms\n",
      "866:\tlearn: 0.0162997\ttotal: 1.39s\tremaining: 213ms\n",
      "867:\tlearn: 0.0162860\ttotal: 1.39s\tremaining: 212ms\n",
      "868:\tlearn: 0.0162795\ttotal: 1.4s\tremaining: 210ms\n",
      "869:\tlearn: 0.0162741\ttotal: 1.4s\tremaining: 209ms\n",
      "870:\tlearn: 0.0162599\ttotal: 1.4s\tremaining: 207ms\n",
      "871:\tlearn: 0.0162449\ttotal: 1.4s\tremaining: 205ms\n",
      "872:\tlearn: 0.0162329\ttotal: 1.4s\tremaining: 204ms\n",
      "873:\tlearn: 0.0162140\ttotal: 1.4s\tremaining: 202ms\n",
      "874:\tlearn: 0.0162093\ttotal: 1.4s\tremaining: 200ms\n",
      "875:\tlearn: 0.0162031\ttotal: 1.4s\tremaining: 198ms\n",
      "876:\tlearn: 0.0161878\ttotal: 1.41s\tremaining: 197ms\n",
      "877:\tlearn: 0.0161829\ttotal: 1.41s\tremaining: 195ms\n",
      "878:\tlearn: 0.0161780\ttotal: 1.41s\tremaining: 194ms\n",
      "879:\tlearn: 0.0161666\ttotal: 1.41s\tremaining: 192ms\n",
      "880:\tlearn: 0.0161504\ttotal: 1.41s\tremaining: 191ms\n",
      "881:\tlearn: 0.0161415\ttotal: 1.41s\tremaining: 189ms\n",
      "882:\tlearn: 0.0161275\ttotal: 1.41s\tremaining: 187ms\n",
      "883:\tlearn: 0.0161163\ttotal: 1.42s\tremaining: 186ms\n",
      "884:\tlearn: 0.0161089\ttotal: 1.42s\tremaining: 184ms\n",
      "885:\tlearn: 0.0161066\ttotal: 1.42s\tremaining: 183ms\n",
      "886:\tlearn: 0.0160891\ttotal: 1.42s\tremaining: 181ms\n",
      "887:\tlearn: 0.0160680\ttotal: 1.42s\tremaining: 179ms\n",
      "888:\tlearn: 0.0160652\ttotal: 1.42s\tremaining: 178ms\n",
      "889:\tlearn: 0.0160402\ttotal: 1.43s\tremaining: 176ms\n",
      "890:\tlearn: 0.0160170\ttotal: 1.43s\tremaining: 175ms\n",
      "891:\tlearn: 0.0160124\ttotal: 1.43s\tremaining: 173ms\n",
      "892:\tlearn: 0.0159736\ttotal: 1.43s\tremaining: 172ms\n",
      "893:\tlearn: 0.0159658\ttotal: 1.43s\tremaining: 170ms\n",
      "894:\tlearn: 0.0159584\ttotal: 1.44s\tremaining: 168ms\n",
      "895:\tlearn: 0.0159462\ttotal: 1.44s\tremaining: 167ms\n",
      "896:\tlearn: 0.0159321\ttotal: 1.44s\tremaining: 165ms\n",
      "897:\tlearn: 0.0159069\ttotal: 1.44s\tremaining: 164ms\n",
      "898:\tlearn: 0.0159022\ttotal: 1.44s\tremaining: 162ms\n",
      "899:\tlearn: 0.0158933\ttotal: 1.45s\tremaining: 161ms\n",
      "900:\tlearn: 0.0158782\ttotal: 1.45s\tremaining: 159ms\n",
      "901:\tlearn: 0.0158628\ttotal: 1.45s\tremaining: 158ms\n",
      "902:\tlearn: 0.0158496\ttotal: 1.46s\tremaining: 157ms\n",
      "903:\tlearn: 0.0158309\ttotal: 1.46s\tremaining: 155ms\n",
      "904:\tlearn: 0.0158177\ttotal: 1.46s\tremaining: 153ms\n",
      "905:\tlearn: 0.0158049\ttotal: 1.46s\tremaining: 152ms\n",
      "906:\tlearn: 0.0157715\ttotal: 1.47s\tremaining: 151ms\n",
      "907:\tlearn: 0.0157688\ttotal: 1.47s\tremaining: 149ms\n",
      "908:\tlearn: 0.0157626\ttotal: 1.47s\tremaining: 147ms\n",
      "909:\tlearn: 0.0157408\ttotal: 1.47s\tremaining: 146ms\n",
      "910:\tlearn: 0.0157318\ttotal: 1.48s\tremaining: 144ms\n",
      "911:\tlearn: 0.0156960\ttotal: 1.48s\tremaining: 143ms\n",
      "912:\tlearn: 0.0156778\ttotal: 1.48s\tremaining: 141ms\n",
      "913:\tlearn: 0.0156653\ttotal: 1.48s\tremaining: 140ms\n",
      "914:\tlearn: 0.0156535\ttotal: 1.48s\tremaining: 138ms\n",
      "915:\tlearn: 0.0156408\ttotal: 1.48s\tremaining: 136ms\n",
      "916:\tlearn: 0.0156260\ttotal: 1.48s\tremaining: 134ms\n",
      "917:\tlearn: 0.0156215\ttotal: 1.49s\tremaining: 133ms\n",
      "918:\tlearn: 0.0156044\ttotal: 1.49s\tremaining: 131ms\n",
      "919:\tlearn: 0.0155851\ttotal: 1.49s\tremaining: 130ms\n",
      "920:\tlearn: 0.0155727\ttotal: 1.49s\tremaining: 128ms\n",
      "921:\tlearn: 0.0155551\ttotal: 1.52s\tremaining: 129ms\n",
      "922:\tlearn: 0.0155404\ttotal: 1.52s\tremaining: 127ms\n"
     ]
    },
    {
     "name": "stdout",
     "output_type": "stream",
     "text": [
      "923:\tlearn: 0.0155287\ttotal: 1.52s\tremaining: 125ms\n",
      "924:\tlearn: 0.0155215\ttotal: 1.53s\tremaining: 124ms\n",
      "925:\tlearn: 0.0155077\ttotal: 1.53s\tremaining: 122ms\n",
      "926:\tlearn: 0.0155019\ttotal: 1.53s\tremaining: 121ms\n",
      "927:\tlearn: 0.0154840\ttotal: 1.53s\tremaining: 119ms\n",
      "928:\tlearn: 0.0154731\ttotal: 1.53s\tremaining: 117ms\n",
      "929:\tlearn: 0.0154626\ttotal: 1.53s\tremaining: 116ms\n",
      "930:\tlearn: 0.0154581\ttotal: 1.54s\tremaining: 114ms\n",
      "931:\tlearn: 0.0154476\ttotal: 1.54s\tremaining: 112ms\n",
      "932:\tlearn: 0.0154400\ttotal: 1.54s\tremaining: 111ms\n",
      "933:\tlearn: 0.0154303\ttotal: 1.54s\tremaining: 109ms\n",
      "934:\tlearn: 0.0154231\ttotal: 1.54s\tremaining: 107ms\n",
      "935:\tlearn: 0.0154088\ttotal: 1.54s\tremaining: 106ms\n",
      "936:\tlearn: 0.0153918\ttotal: 1.55s\tremaining: 104ms\n",
      "937:\tlearn: 0.0153803\ttotal: 1.55s\tremaining: 102ms\n",
      "938:\tlearn: 0.0153657\ttotal: 1.55s\tremaining: 101ms\n",
      "939:\tlearn: 0.0153466\ttotal: 1.55s\tremaining: 98.9ms\n",
      "940:\tlearn: 0.0153354\ttotal: 1.55s\tremaining: 97.3ms\n",
      "941:\tlearn: 0.0153262\ttotal: 1.55s\tremaining: 95.7ms\n",
      "942:\tlearn: 0.0153197\ttotal: 1.55s\tremaining: 94ms\n",
      "943:\tlearn: 0.0153179\ttotal: 1.56s\tremaining: 92.4ms\n",
      "944:\tlearn: 0.0152986\ttotal: 1.56s\tremaining: 90.7ms\n",
      "945:\tlearn: 0.0152906\ttotal: 1.56s\tremaining: 89ms\n",
      "946:\tlearn: 0.0152764\ttotal: 1.56s\tremaining: 87.3ms\n",
      "947:\tlearn: 0.0152556\ttotal: 1.56s\tremaining: 85.7ms\n",
      "948:\tlearn: 0.0152501\ttotal: 1.56s\tremaining: 84ms\n",
      "949:\tlearn: 0.0152292\ttotal: 1.56s\tremaining: 82.4ms\n",
      "950:\tlearn: 0.0152106\ttotal: 1.56s\tremaining: 80.7ms\n",
      "951:\tlearn: 0.0151897\ttotal: 1.57s\tremaining: 79ms\n",
      "952:\tlearn: 0.0151864\ttotal: 1.57s\tremaining: 77.4ms\n",
      "953:\tlearn: 0.0151784\ttotal: 1.57s\tremaining: 75.7ms\n",
      "954:\tlearn: 0.0151660\ttotal: 1.57s\tremaining: 74.1ms\n",
      "955:\tlearn: 0.0151551\ttotal: 1.57s\tremaining: 72.4ms\n",
      "956:\tlearn: 0.0151507\ttotal: 1.57s\tremaining: 70.7ms\n",
      "957:\tlearn: 0.0151377\ttotal: 1.57s\tremaining: 69.1ms\n",
      "958:\tlearn: 0.0151261\ttotal: 1.58s\tremaining: 67.4ms\n",
      "959:\tlearn: 0.0151153\ttotal: 1.58s\tremaining: 65.7ms\n",
      "960:\tlearn: 0.0151124\ttotal: 1.58s\tremaining: 64ms\n",
      "961:\tlearn: 0.0151096\ttotal: 1.58s\tremaining: 62.4ms\n",
      "962:\tlearn: 0.0151060\ttotal: 1.58s\tremaining: 60.9ms\n",
      "963:\tlearn: 0.0150923\ttotal: 1.59s\tremaining: 59.2ms\n",
      "964:\tlearn: 0.0150856\ttotal: 1.59s\tremaining: 57.6ms\n",
      "965:\tlearn: 0.0150663\ttotal: 1.59s\tremaining: 55.9ms\n",
      "966:\tlearn: 0.0150621\ttotal: 1.59s\tremaining: 54.2ms\n",
      "967:\tlearn: 0.0150493\ttotal: 1.59s\tremaining: 52.5ms\n",
      "968:\tlearn: 0.0150413\ttotal: 1.59s\tremaining: 50.8ms\n",
      "969:\tlearn: 0.0150317\ttotal: 1.59s\tremaining: 49.2ms\n",
      "970:\tlearn: 0.0150149\ttotal: 1.59s\tremaining: 47.5ms\n",
      "971:\tlearn: 0.0150014\ttotal: 1.59s\tremaining: 46ms\n",
      "972:\tlearn: 0.0149881\ttotal: 1.6s\tremaining: 44.3ms\n",
      "973:\tlearn: 0.0149796\ttotal: 1.6s\tremaining: 42.6ms\n",
      "974:\tlearn: 0.0149760\ttotal: 1.6s\tremaining: 40.9ms\n",
      "975:\tlearn: 0.0149685\ttotal: 1.6s\tremaining: 39.3ms\n",
      "976:\tlearn: 0.0149544\ttotal: 1.6s\tremaining: 37.6ms\n",
      "977:\tlearn: 0.0149526\ttotal: 1.6s\tremaining: 35.9ms\n",
      "978:\tlearn: 0.0149442\ttotal: 1.6s\tremaining: 34.3ms\n",
      "979:\tlearn: 0.0149347\ttotal: 1.6s\tremaining: 32.6ms\n",
      "980:\tlearn: 0.0149168\ttotal: 1.6s\tremaining: 31ms\n",
      "981:\tlearn: 0.0149056\ttotal: 1.6s\tremaining: 29.3ms\n",
      "982:\tlearn: 0.0148966\ttotal: 1.6s\tremaining: 27.8ms\n",
      "983:\tlearn: 0.0148851\ttotal: 1.6s\tremaining: 26.1ms\n",
      "984:\tlearn: 0.0148675\ttotal: 1.61s\tremaining: 24.5ms\n",
      "985:\tlearn: 0.0148550\ttotal: 1.61s\tremaining: 22.8ms\n",
      "986:\tlearn: 0.0148509\ttotal: 1.61s\tremaining: 21.3ms\n",
      "987:\tlearn: 0.0148425\ttotal: 1.61s\tremaining: 19.6ms\n",
      "988:\tlearn: 0.0148258\ttotal: 1.61s\tremaining: 18ms\n",
      "989:\tlearn: 0.0148187\ttotal: 1.61s\tremaining: 16.3ms\n",
      "990:\tlearn: 0.0148081\ttotal: 1.62s\tremaining: 14.7ms\n",
      "991:\tlearn: 0.0147919\ttotal: 1.62s\tremaining: 13.1ms\n",
      "992:\tlearn: 0.0147871\ttotal: 1.62s\tremaining: 11.4ms\n",
      "993:\tlearn: 0.0147828\ttotal: 1.62s\tremaining: 9.77ms\n",
      "994:\tlearn: 0.0147729\ttotal: 1.62s\tremaining: 8.15ms\n",
      "995:\tlearn: 0.0147690\ttotal: 1.62s\tremaining: 6.53ms\n",
      "996:\tlearn: 0.0147621\ttotal: 1.63s\tremaining: 4.9ms\n",
      "997:\tlearn: 0.0147535\ttotal: 1.63s\tremaining: 3.26ms\n",
      "998:\tlearn: 0.0147405\ttotal: 1.63s\tremaining: 1.63ms\n",
      "999:\tlearn: 0.0147307\ttotal: 1.63s\tremaining: 0us\n"
     ]
    },
    {
     "data": {
      "text/plain": [
       "<catboost.core.CatBoostRegressor at 0x7fd7f86f55e0>"
      ]
     },
     "execution_count": 9,
     "metadata": {},
     "output_type": "execute_result"
    }
   ],
   "source": [
    "#Train the Model \n",
    "prior_model = ctb.CatBoostRegressor()\n",
    "prior_model.fit(X_train,Y_train)"
   ]
  },
  {
   "cell_type": "code",
   "execution_count": 10,
   "id": "af65dcda",
   "metadata": {
    "execution": {
     "iopub.execute_input": "2022-07-24T12:34:37.628689Z",
     "iopub.status.busy": "2022-07-24T12:34:37.626588Z",
     "iopub.status.idle": "2022-07-24T12:34:37.707515Z",
     "shell.execute_reply": "2022-07-24T12:34:37.703872Z"
    },
    "id": "af65dcda",
    "papermill": {
     "duration": 0.117741,
     "end_time": "2022-07-24T12:34:37.722229",
     "exception": false,
     "start_time": "2022-07-24T12:34:37.604488",
     "status": "completed"
    },
    "tags": []
   },
   "outputs": [
    {
     "data": {
      "application/scrapbook.scrap.json+json": {
       "data": 0.0005669016355040164,
       "encoder": "json",
       "name": "Prior Model MSE",
       "version": 1
      }
     },
     "metadata": {
      "scrapbook": {
       "data": true,
       "display": false,
       "name": "Prior Model MSE"
      }
     },
     "output_type": "display_data"
    },
    {
     "data": {
      "application/scrapbook.scrap.json+json": {
       "data": 0.009752274867558468,
       "encoder": "json",
       "name": "ABC Pre-generator MSE",
       "version": 1
      }
     },
     "metadata": {
      "scrapbook": {
       "data": true,
       "display": false,
       "name": "ABC Pre-generator MSE"
      }
     },
     "output_type": "display_data"
    },
    {
     "data": {
      "application/scrapbook.scrap.json+json": {
       "data": 0.018027530038567406,
       "encoder": "json",
       "name": "Prior Model MAE",
       "version": 1
      }
     },
     "metadata": {
      "scrapbook": {
       "data": true,
       "display": false,
       "name": "Prior Model MAE"
      }
     },
     "output_type": "display_data"
    },
    {
     "name": "stdout",
     "output_type": "stream",
     "text": [
      "Prior Model MAE 0.018027530038567406\n",
      "ABC Pre-generator MAE 0.07754637530099094\n"
     ]
    }
   ],
   "source": [
    "y_pred = prior_model.predict(X_test)\n",
    "y_abc = y_pred + np.random.normal(0,variance, y_pred.shape) + bias \n",
    "mse = mean_squared_error(y_pred,Y_test)\n",
    "sb.glue(\"Prior Model MSE\",mse)\n",
    "mse = mean_squared_error(y_abc,Y_test)\n",
    "sb.glue(\"ABC Pre-generator MSE\",mse)\n",
    "mae = mean_absolute_error(y_pred,Y_test)\n",
    "sb.glue(\"Prior Model MAE\",mae)\n",
    "print(\"Prior Model MAE\",mae)\n",
    "mae = mean_absolute_error(y_abc,Y_test)\n",
    "print(\"ABC Pre-generator MAE\",mae)"
   ]
  },
  {
   "cell_type": "markdown",
   "id": "25609da2",
   "metadata": {
    "papermill": {
     "duration": 0.023168,
     "end_time": "2022-07-24T12:34:37.757894",
     "exception": false,
     "start_time": "2022-07-24T12:34:37.734726",
     "status": "completed"
    },
    "tags": []
   },
   "source": [
    "# mGAN Model"
   ]
  },
  {
   "cell_type": "code",
   "execution_count": 11,
   "id": "dfc3464d",
   "metadata": {
    "execution": {
     "iopub.execute_input": "2022-07-24T12:34:37.802501Z",
     "iopub.status.busy": "2022-07-24T12:34:37.800601Z",
     "iopub.status.idle": "2022-07-24T12:34:37.810568Z",
     "shell.execute_reply": "2022-07-24T12:34:37.807474Z"
    },
    "papermill": {
     "duration": 0.050758,
     "end_time": "2022-07-24T12:34:37.826653",
     "exception": false,
     "start_time": "2022-07-24T12:34:37.775895",
     "status": "completed"
    },
    "tags": []
   },
   "outputs": [],
   "source": [
    "# gen = network.Generator(n_features+1).to(device)\n",
    "# disc = network.Discriminator(n_features+1).to(device)\n",
    "\n",
    "# criterion = torch.nn.BCELoss()\n",
    "# gen_opt = torch.optim.Adam(gen.parameters(), lr=0.01, betas=(0.5, 0.999))\n",
    "# disc_opt = torch.optim.Adam(disc.parameters(), lr=0.01, betas=(0.5, 0.999))"
   ]
  },
  {
   "cell_type": "code",
   "execution_count": 12,
   "id": "b75fdd85",
   "metadata": {
    "execution": {
     "iopub.execute_input": "2022-07-24T12:34:37.867455Z",
     "iopub.status.busy": "2022-07-24T12:34:37.864910Z",
     "iopub.status.idle": "2022-07-24T12:34:37.877164Z",
     "shell.execute_reply": "2022-07-24T12:34:37.871215Z"
    },
    "papermill": {
     "duration": 0.053702,
     "end_time": "2022-07-24T12:34:37.897360",
     "exception": false,
     "start_time": "2022-07-24T12:34:37.843658",
     "status": "completed"
    },
    "tags": []
   },
   "outputs": [],
   "source": [
    "#Training the ABC_GAN \n",
    "# ABC_train_test2.training_GAN(disc,gen,disc_opt,gen_opt,train_data,batch_size,n_epochs,criterion,prior_model,variance,bias,device)"
   ]
  },
  {
   "cell_type": "code",
   "execution_count": 13,
   "id": "1fa7c368",
   "metadata": {
    "execution": {
     "iopub.execute_input": "2022-07-24T12:34:37.944166Z",
     "iopub.status.busy": "2022-07-24T12:34:37.943330Z",
     "iopub.status.idle": "2022-07-24T12:34:37.952679Z",
     "shell.execute_reply": "2022-07-24T12:34:37.951705Z"
    },
    "papermill": {
     "duration": 0.056347,
     "end_time": "2022-07-24T12:34:37.967235",
     "exception": false,
     "start_time": "2022-07-24T12:34:37.910888",
     "status": "completed"
    },
    "tags": []
   },
   "outputs": [],
   "source": [
    "# ABC_GAN1_metrics=ABC_train_test2.test_generator(gen,test_data,prior_model,variance,bias,\"1\",device)\n",
    "# sb.glue(\"ABC_GAN_1 Metrics\",ABC_GAN1_metrics)\n",
    "\n",
    "# print(\"MAE\")\n",
    "# print(mean(ABC_GAN1_metrics[1]))"
   ]
  },
  {
   "cell_type": "code",
   "execution_count": 14,
   "id": "eb22ce5c",
   "metadata": {
    "execution": {
     "iopub.execute_input": "2022-07-24T12:34:38.025212Z",
     "iopub.status.busy": "2022-07-24T12:34:38.024648Z",
     "iopub.status.idle": "2022-07-24T12:34:38.038547Z",
     "shell.execute_reply": "2022-07-24T12:34:38.033093Z"
    },
    "papermill": {
     "duration": 0.069028,
     "end_time": "2022-07-24T12:34:38.051347",
     "exception": false,
     "start_time": "2022-07-24T12:34:37.982319",
     "status": "completed"
    },
    "tags": []
   },
   "outputs": [],
   "source": [
    "# sanityChecks.discProbVsError(train_data,disc,device)\n",
    "# sanityChecks.discProbVsError(test_data,disc,device)"
   ]
  },
  {
   "cell_type": "markdown",
   "id": "ab28c5da",
   "metadata": {
    "papermill": {
     "duration": 0.020388,
     "end_time": "2022-07-24T12:34:38.103176",
     "exception": false,
     "start_time": "2022-07-24T12:34:38.082788",
     "status": "completed"
    },
    "tags": []
   },
   "source": [
    "# mGAN Model with TabNet Generator"
   ]
  },
  {
   "cell_type": "code",
   "execution_count": 15,
   "id": "2f3af631",
   "metadata": {
    "execution": {
     "iopub.execute_input": "2022-07-24T12:34:38.146698Z",
     "iopub.status.busy": "2022-07-24T12:34:38.145244Z",
     "iopub.status.idle": "2022-07-24T12:34:38.158525Z",
     "shell.execute_reply": "2022-07-24T12:34:38.155450Z"
    },
    "papermill": {
     "duration": 0.060297,
     "end_time": "2022-07-24T12:34:38.181057",
     "exception": false,
     "start_time": "2022-07-24T12:34:38.120760",
     "status": "completed"
    },
    "tags": []
   },
   "outputs": [],
   "source": [
    "gen2 = network.GeneratorTabnet(n_features+1).to(device)\n",
    "disc2 = network.Discriminator(n_features+1).to(device)\n",
    "\n",
    "criterion = torch.nn.BCELoss()\n",
    "gen_opt = torch.optim.Adam(gen2.parameters(), lr=0.01, betas=(0.5, 0.999))\n",
    "disc_opt = torch.optim.Adam(disc2.parameters(), lr=0.01, betas=(0.5, 0.999))"
   ]
  },
  {
   "cell_type": "code",
   "execution_count": 16,
   "id": "8e715fe3",
   "metadata": {
    "execution": {
     "iopub.execute_input": "2022-07-24T12:34:38.224000Z",
     "iopub.status.busy": "2022-07-24T12:34:38.221600Z",
     "iopub.status.idle": "2022-07-24T12:38:39.389138Z",
     "shell.execute_reply": "2022-07-24T12:38:39.387066Z"
    },
    "papermill": {
     "duration": 241.195787,
     "end_time": "2022-07-24T12:38:39.393513",
     "exception": false,
     "start_time": "2022-07-24T12:34:38.197726",
     "status": "completed"
    },
    "tags": []
   },
   "outputs": [
    {
     "data": {
      "image/png": "[encoded data removed]",
      "text/plain": [
       "<Figure size 432x288 with 1 Axes>"
      ]
     },
     "metadata": {
      "needs_background": "light"
     },
     "output_type": "display_data"
    },
    {
     "data": {
      "image/png": "[encoded data removed]",
      "text/plain": [
       "<Figure size 432x288 with 1 Axes>"
      ]
     },
     "metadata": {
      "needs_background": "light"
     },
     "output_type": "display_data"
    }
   ],
   "source": [
    "#Training the ABC_GAN \n",
    "ABC_train_test2.training_GAN(disc2,gen2,disc_opt,gen_opt,train_data,batch_size,n_epochs,criterion,prior_model,variance,bias,device)"
   ]
  },
  {
   "cell_type": "code",
   "execution_count": 17,
   "id": "b30e29e8",
   "metadata": {
    "execution": {
     "iopub.execute_input": "2022-07-24T12:38:39.430972Z",
     "iopub.status.busy": "2022-07-24T12:38:39.430205Z",
     "iopub.status.idle": "2022-07-24T12:38:40.106294Z",
     "shell.execute_reply": "2022-07-24T12:38:40.104585Z"
    },
    "papermill": {
     "duration": 0.698141,
     "end_time": "2022-07-24T12:38:40.109230",
     "exception": false,
     "start_time": "2022-07-24T12:38:39.411089",
     "status": "completed"
    },
    "tags": []
   },
   "outputs": [
    {
     "data": {
      "application/scrapbook.scrap.json+json": {
       "data": 0.01832545408131542,
       "encoder": "json",
       "name": "ABC-GAN Model 1 MSE",
       "version": 1
      }
     },
     "metadata": {
      "scrapbook": {
       "data": true,
       "display": false,
       "name": "ABC-GAN Model 1 MSE"
      }
     },
     "output_type": "display_data"
    },
    {
     "data": {
      "application/scrapbook.scrap.json+json": {
       "data": 0.045841646517639036,
       "encoder": "json",
       "name": "ABC-GAN Model 1 MAE",
       "version": 1
      }
     },
     "metadata": {
      "scrapbook": {
       "data": true,
       "display": false,
       "name": "ABC-GAN Model 1 MAE"
      }
     },
     "output_type": "display_data"
    },
    {
     "data": {
      "application/scrapbook.scrap.json+json": {
       "data": 7.059613563716412,
       "encoder": "json",
       "name": "ABC-GAN Model 1 Manhattan Distance",
       "version": 1
      }
     },
     "metadata": {
      "scrapbook": {
       "data": true,
       "display": false,
       "name": "ABC-GAN Model 1 Manhattan Distance"
      }
     },
     "output_type": "display_data"
    },
    {
     "data": {
      "application/scrapbook.scrap.json+json": {
       "data": 1.679885332745267,
       "encoder": "json",
       "name": "ABC-GAN Model 1 Euclidean distance",
       "version": 1
      }
     },
     "metadata": {
      "scrapbook": {
       "data": true,
       "display": false,
       "name": "ABC-GAN Model 1 Euclidean distance"
      }
     },
     "output_type": "display_data"
    },
    {
     "data": {
      "application/scrapbook.scrap.json+json": {
       "data": [
        [
         0.01833947012761191,
         0.018574820291464532,
         0.018356576245993177,
         0.018392577167328752,
         0.018317654770657686,
         0.018385838102611518,
         0.018439851380145627,
         0.01847728340998995,
         0.018215042891035167,
         0.01829140284112046,
         0.018417535319256873,
         0.01699041366374968,
         0.018692313404478765,
         0.018362686310969233,
         0.018355779338231536,
         0.018375186805615923,
         0.01835118993552172,
         0.018503335794799628,
         0.018231282960755303,
         0.018297293480106103,
         0.018311665370755223,
         0.018564954838356598,
         0.01831540427640907,
         0.01854507857611099,
         0.01807320061386831,
         0.018320524074861375,
         0.018213627850836488,
         0.018183307246093214,
         0.018199068284234284,
         0.0181916418660803,
         0.018244484622030405,
         0.01835977722244531,
         0.018339770695775717,
         0.01820919007091989,
         0.01831466439848768,
         0.018391910103909455,
         0.01854331681990833,
         0.018386702691651036,
         0.01826950908028157,
         0.01829485209222451,
         0.018346086709598357,
         0.01838025919531278,
         0.01860244524954894,
         0.018384368391810988,
         0.01846797328449914,
         0.018323532072809352,
         0.018467890765708667,
         0.01837168772182606,
         0.018471207757731208,
         0.018576545054202392,
         0.018182397642655165,
         0.018259894493883853,
         0.018241821121479512,
         0.018589201134349694,
         0.01824410517674509,
         0.018378823125164274,
         0.01838137577532333,
         0.018220576587249227,
         0.01838914431020762,
         0.01856058650416722,
         0.018302668758203588,
         0.018602924458718688,
         0.01821941733299813,
         0.01847981579569069,
         0.018234749768149316,
         0.018122243646178416,
         0.018247594388707114,
         0.018320178249437605,
         0.018275610240860208,
         0.018254781311228832,
         0.018362277721566747,
         0.018370325310249725,
         0.01816466322988282,
         0.01832020854689547,
         0.018252351887562936,
         0.018252201001283275,
         0.01844026985871999,
         0.018513213814130257,
         0.018260020450568893,
         0.01823287249675761,
         0.018555579695824553,
         0.018250598753342725,
         0.018425330410801615,
         0.0184029481978703,
         0.018612805862843015,
         0.018368824316268118,
         0.018354028358735223,
         0.018170998289313227,
         0.01823256348605846,
         0.018338798271338067,
         0.018331905021096336,
         0.01842022066850039,
         0.018527283723028174,
         0.018226091754007672,
         0.018176340896763357,
         0.018462473862385805,
         0.018381395736562153,
         0.017099901661883056,
         0.01826153568218613,
         0.018237288103987146
        ],
        [
         0.04547114367899183,
         0.04598012636718038,
         0.04659876945827689,
         0.046324171440361384,
         0.04599900788010715,
         0.04678807893840523,
         0.0458582780239257,
         0.04671769707717679,
         0.04559041237966581,
         0.04525307636079076,
         0.046465862518200625,
         0.04567051415222806,
         0.04746752365359238,
         0.04618366432751154,
         0.0457105693443642,
         0.04614950220596481,
         0.04632691543113876,
         0.0467781676342348,
         0.04420114538402527,
         0.044970677681751066,
         0.04523367354912417,
         0.047529358247464355,
         0.04577819700655225,
         0.04636619779486935,
         0.04470547228180743,
         0.0462066816867559,
         0.04499578923470788,
         0.04471313612317884,
         0.044861476940961625,
         0.04473814022328172,
         0.04554472928987695,
         0.046513642462623586,
         0.04588568987107122,
         0.04506848246923515,
         0.0454332186272005,
         0.04640820228143946,
         0.047429297095188845,
         0.04518984178347247,
         0.04552878756318,
         0.045289843621385564,
         0.046173448952568044,
         0.04618911713652023,
         0.04759026263151076,
         0.045572939800558154,
         0.046387530790714476,
         0.04594593308866024,
         0.04656025702012824,
         0.04454313995098913,
         0.045802383478005214,
         0.047164222902872345,
         0.044796403473267306,
         0.04492834609534059,
         0.04521160894496874,
         0.04635381159167011,
         0.0450830277926349,
         0.04556148424260802,
         0.045537377937467066,
         0.045226122143787226,
         0.04591579437739663,
         0.046978441562939,
         0.046242915069708575,
         0.04704888041627098,
         0.0455719485830564,
         0.047578217510085605,
         0.045836464610773245,
         0.04659857225979303,
         0.046191834421320396,
         0.045751658860932694,
         0.04473459481128624,
         0.04473137625722916,
         0.045676341328721545,
         0.04532778265511061,
         0.045277210678179546,
         0.04622596064461516,
         0.045131284283933704,
         0.04564905038417934,
         0.04516789034105741,
         0.046685680432559606,
         0.045429468372619,
         0.04514024757429377,
         0.046284536964126995,
         0.044443084072176516,
         0.046145588183751356,
         0.04707588983530348,
         0.04727947356348688,
         0.045366090734477164,
         0.045412254822138065,
         0.044945206952753,
         0.045183520739922274,
         0.046050390760813444,
         0.046151561227131196,
         0.04602713212854676,
         0.04691659932496486,
         0.045491278824674616,
         0.044821454647493056,
         0.04582441213552828,
         0.047258990949818065,
         0.045804390877291754,
         0.044797755560124074,
         0.0454408439577787
        ],
        [
         7.002556126564741,
         7.080939460545778,
         7.17621049657464,
         7.133922401815653,
         7.083847213536501,
         7.205364156514406,
         7.062174815684557,
         7.194525349885225,
         7.0209235064685345,
         6.968973759561777,
         7.1557428278028965,
         7.033259179443121,
         7.309998642653227,
         7.112284306436777,
         7.039427679032087,
         7.10702333971858,
         7.134344976395369,
         7.203837815672159,
         6.806976389139891,
         6.925484362989664,
         6.965985726565123,
         7.31952117010951,
         7.0498423390090466,
         7.14039446040988,
         6.884642731398344,
         7.115828979760408,
         6.929351542145014,
         6.8858229629695415,
         6.908667448908091,
         6.8896735943853855,
         7.01388831064105,
         7.163100939244032,
         7.066396240144968,
         6.940546300262213,
         6.996715668588877,
         7.146863151341677,
         7.304111752659082,
         6.95923563465476,
         7.011433284729719,
         6.9746359176933765,
         7.110711138695478,
         7.113124039024115,
         7.328900445252657,
         7.018232729285955,
         7.143679741770029,
         7.075673695653677,
         7.170279581099749,
         6.859643552452326,
         7.0535670556128025,
         7.263290327042341,
         6.898646134883165,
         6.918965298682451,
         6.9625877775251865,
         7.138486985117197,
         6.942786280065775,
         7.016468573361635,
         7.012756202369928,
         6.964822810143232,
         7.0710323341190815,
         7.234680000692606,
         7.121408920735121,
         7.24552758410573,
         7.018080081790686,
         7.327045496553183,
         7.05881555005908,
         7.176180128008127,
         7.113542500883341,
         7.045755464583635,
         6.889127600938082,
         6.888631943613291,
         7.0341565646231174,
         6.9804785288870335,
         6.97269044443965,
         7.118797939270735,
         6.95021777972579,
         7.029953759163618,
         6.9558551125228405,
         7.18959478661418,
         6.996138129383326,
         6.95159812644124,
         7.127818692475557,
         6.844234947115183,
         7.1064205802977085,
         7.249687034636736,
         7.2810389287769794,
         6.986377973109484,
         6.9934872426092625,
         6.921561870723963,
         6.9582621939480305,
         7.09176017716527,
         7.107340428978205,
         7.088178347796202,
         7.225156296044588,
         7.005656938999891,
         6.90250401571393,
         7.056959468871355,
         7.277884606271982,
         7.05387619510293,
         6.898854356259108,
         6.997889969497919
        ],
        [
         1.6805589545303772,
         1.6913078740683314,
         1.6813425415075147,
         1.6829904586089095,
         1.679559119138497,
         1.6826821053907284,
         1.6851519553270045,
         1.6868614777563842,
         1.6748482334884602,
         1.6783551583418066,
         1.6841319542023894,
         1.6175672178359237,
         1.6966485388228552,
         1.6816223392573202,
         1.681306045337272,
         1.6821946284734275,
         1.68109584797249,
         1.6880502695118837,
         1.6755946932227725,
         1.6786253888036904,
         1.6792845104675695,
         1.69085867094412,
         1.6794559412401973,
         1.6899532835913225,
         1.6683143871991635,
         1.6796906582846296,
         1.6747831767213388,
         1.6733885728958338,
         1.674113650793183,
         1.673772041640189,
         1.6762012503851327,
         1.6814891293899519,
         1.6805727259328769,
         1.6745791324752808,
         1.679422018840739,
         1.6829599389177559,
         1.6898730101004285,
         1.6827216687599467,
         1.6773504101300247,
         1.6785133964918406,
         1.6808620863349102,
         1.6824267936757806,
         1.6925650854340983,
         1.6826148496726434,
         1.686436445826782,
         1.6798285445880006,
         1.686432678146132,
         1.6820344554025084,
         1.6865841202533025,
         1.6913863953417532,
         1.6733467175002603,
         1.6769089874105014,
         1.6760788921491272,
         1.691962462553426,
         1.6761838196387482,
         1.6823610674511278,
         1.6824778956645443,
         1.6751026220612222,
         1.6828333915667273,
         1.6906597297036894,
         1.6788719393578988,
         1.6925868859951263,
         1.6750493333874417,
         1.68697706935701,
         1.6757539987405654,
         1.6705764039730349,
         1.6763440982867737,
         1.6796748049588024,
         1.677630464998914,
         1.6766741847864304,
         1.6816036302057864,
         1.6819720859094118,
         1.672530459334584,
         1.6796761938605616,
         1.6765626116207806,
         1.67655568180649,
         1.6851710768473562,
         1.688500792826601,
         1.6769147710565406,
         1.6756677369039104,
         1.6904316824873407,
         1.6764820929597726,
         1.6844883149679162,
         1.6834648860228794,
         1.6930363560413653,
         1.6819033696099461,
         1.6812258525389219,
         1.6728220875377742,
         1.6756535372364427,
         1.6805281710777904,
         1.6802123000528342,
         1.6842547262659116,
         1.6891422951741926,
         1.675356120386702,
         1.673067989682893,
         1.6861853322833211,
         1.6824788092069902,
         1.6227707342474447,
         1.6769843455013718,
         1.6758706298560224
        ]
       ],
       "encoder": "json",
       "name": "ABC_GAN_2 Metrics",
       "version": 1
      }
     },
     "metadata": {
      "scrapbook": {
       "data": true,
       "display": false,
       "name": "ABC_GAN_2 Metrics"
      }
     },
     "output_type": "display_data"
    },
    {
     "name": "stdout",
     "output_type": "stream",
     "text": [
      "MAE\n",
      "0.045841646517639036\n"
     ]
    }
   ],
   "source": [
    "ABC_GAN2_metrics=ABC_train_test2.test_generator(gen2,test_data,prior_model,variance,bias,\"1\",device)\n",
    "sb.glue(\"ABC_GAN_2 Metrics\",ABC_GAN2_metrics)\n",
    "\n",
    "print(\"MAE\")\n",
    "print(mean(ABC_GAN2_metrics[1]))"
   ]
  },
  {
   "cell_type": "code",
   "execution_count": 18,
   "id": "50390ca8",
   "metadata": {
    "execution": {
     "iopub.execute_input": "2022-07-24T12:38:40.144926Z",
     "iopub.status.busy": "2022-07-24T12:38:40.144423Z",
     "iopub.status.idle": "2022-07-24T12:38:41.119592Z",
     "shell.execute_reply": "2022-07-24T12:38:41.118606Z"
    },
    "papermill": {
     "duration": 0.996479,
     "end_time": "2022-07-24T12:38:41.122087",
     "exception": false,
     "start_time": "2022-07-24T12:38:40.125608",
     "status": "completed"
    },
    "tags": []
   },
   "outputs": [
    {
     "data": {
      "image/png": "[encoded data removed]",
      "text/plain": [
       "<Figure size 432x288 with 1 Axes>"
      ]
     },
     "metadata": {
      "needs_background": "light"
     },
     "output_type": "display_data"
    },
    {
     "data": {
      "image/png": "[encoded data removed]",
      "text/plain": [
       "<Figure size 432x288 with 1 Axes>"
      ]
     },
     "metadata": {
      "needs_background": "light"
     },
     "output_type": "display_data"
    },
    {
     "data": {
      "image/png": "[encoded data removed]",
      "text/plain": [
       "<Figure size 432x288 with 1 Axes>"
      ]
     },
     "metadata": {
      "needs_background": "light"
     },
     "output_type": "display_data"
    },
    {
     "data": {
      "image/png": "[encoded data removed]",
      "text/plain": [
       "<Figure size 432x288 with 1 Axes>"
      ]
     },
     "metadata": {
      "needs_background": "light"
     },
     "output_type": "display_data"
    }
   ],
   "source": [
    "sanityChecks.discProbVsError(train_data,disc2,device)\n",
    "sanityChecks.discProbVsError(test_data,disc2,device)"
   ]
  },
  {
   "cell_type": "markdown",
   "id": "130f3a4d",
   "metadata": {
    "id": "130f3a4d",
    "papermill": {
     "duration": 0.017318,
     "end_time": "2022-07-24T12:38:41.158583",
     "exception": false,
     "start_time": "2022-07-24T12:38:41.141265",
     "status": "completed"
    },
    "tags": []
   },
   "source": [
    "# skipGAN Model"
   ]
  },
  {
   "cell_type": "code",
   "execution_count": 19,
   "id": "4e43dad1",
   "metadata": {
    "execution": {
     "iopub.execute_input": "2022-07-24T12:38:41.198147Z",
     "iopub.status.busy": "2022-07-24T12:38:41.197807Z",
     "iopub.status.idle": "2022-07-24T12:38:41.202846Z",
     "shell.execute_reply": "2022-07-24T12:38:41.201756Z"
    },
    "id": "4e43dad1",
    "papermill": {
     "duration": 0.02662,
     "end_time": "2022-07-24T12:38:41.205630",
     "exception": false,
     "start_time": "2022-07-24T12:38:41.179010",
     "status": "completed"
    },
    "tags": []
   },
   "outputs": [],
   "source": [
    "# #Generator\n",
    "# gen3 = network.GeneratorWithSkipConnection(n_features+1).to(device)\n",
    "# constraints=network.weightConstraint()\n",
    "# #Discriminator \n",
    "# disc3 = network.Discriminator(n_features+1).to(device)\n",
    "\n",
    "# criterion = torch.nn.BCELoss()\n",
    "# gen_opt = torch.optim.Adam(gen3.parameters(), lr=0.01, betas=(0.5, 0.999))\n",
    "# disc_opt = torch.optim.Adam(disc3.parameters(), lr=0.01, betas=(0.5, 0.999))\n"
   ]
  },
  {
   "cell_type": "markdown",
   "id": "57c3e5d3",
   "metadata": {
    "tags": [
     "papermill-error-cell-tag"
    ]
   },
   "source": [
    "<span id=\"papermill-error-cell\" style=\"color:red; font-family:Helvetica Neue, Helvetica, Arial, sans-serif; font-size:2em;\">Execution using papermill encountered an exception here and stopped:</span>"
   ]
  },
  {
   "cell_type": "code",
   "execution_count": 20,
   "id": "26acbc37",
   "metadata": {
    "execution": {
     "iopub.execute_input": "2022-07-24T12:38:41.245697Z",
     "iopub.status.busy": "2022-07-24T12:38:41.245343Z",
     "iopub.status.idle": "2022-07-24T12:38:42.299442Z",
     "shell.execute_reply": "2022-07-24T12:38:42.297733Z"
    },
    "id": "26acbc37",
    "papermill": {
     "duration": 1.083555,
     "end_time": "2022-07-24T12:38:42.307576",
     "exception": true,
     "start_time": "2022-07-24T12:38:41.224021",
     "status": "failed"
    },
    "tags": []
   },
   "outputs": [
    {
     "ename": "NameError",
     "evalue": "name 'disc3' is not defined",
     "output_type": "error",
     "traceback": [
      "\u001b[0;31m---------------------------------------------------------------------------\u001b[0m",
      "\u001b[0;31mNameError\u001b[0m                                 Traceback (most recent call last)",
      "Input \u001b[0;32mIn [20]\u001b[0m, in \u001b[0;36m<cell line: 1>\u001b[0;34m()\u001b[0m\n\u001b[0;32m----> 1\u001b[0m ABC_train_test2\u001b[38;5;241m.\u001b[39mtraining_GAN_skip_connection(\u001b[43mdisc3\u001b[49m,gen3,disc_opt,gen_opt,train_data,batch_size,n_epochs,criterion,prior_model,variance,bias,device)\n",
      "\u001b[0;31mNameError\u001b[0m: name 'disc3' is not defined"
     ]
    }
   ],
   "source": [
    "ABC_train_test2.training_GAN_skip_connection(disc3,gen3,disc_opt,gen_opt,train_data,batch_size,n_epochs,criterion,prior_model,variance,bias,device)"
   ]
  },
  {
   "cell_type": "code",
   "execution_count": null,
   "id": "c5e0717b",
   "metadata": {
    "id": "c5e0717b",
    "papermill": {
     "duration": null,
     "end_time": null,
     "exception": null,
     "start_time": null,
     "status": "pending"
    },
    "tags": []
   },
   "outputs": [],
   "source": [
    "# ABC_GAN3_metrics=ABC_train_test2.test_generator(gen3,test_data,prior_model,variance,bias,\"3\",device)\n",
    "# sb.glue(\"ABC_GAN_3 Metrics\",ABC_GAN3_metrics)\n",
    "\n",
    "# print(\"MAE\")\n",
    "# print(mean(ABC_GAN3_metrics[1]))"
   ]
  },
  {
   "cell_type": "code",
   "execution_count": null,
   "id": "c8e46b48",
   "metadata": {
    "id": "c8e46b48",
    "papermill": {
     "duration": null,
     "end_time": null,
     "exception": null,
     "start_time": null,
     "status": "pending"
    },
    "tags": []
   },
   "outputs": [],
   "source": [
    "# sanityChecks.discProbVsError(train_data,disc3,device)\n",
    "# sanityChecks.discProbVsError(test_data,disc3,device)"
   ]
  },
  {
   "cell_type": "markdown",
   "id": "3cd1c529",
   "metadata": {
    "id": "130f3a4d",
    "papermill": {
     "duration": null,
     "end_time": null,
     "exception": null,
     "start_time": null,
     "status": "pending"
    },
    "tags": []
   },
   "source": [
    "# skipGAN Model with TabNet Generator"
   ]
  },
  {
   "cell_type": "code",
   "execution_count": null,
   "id": "e82f4d88",
   "metadata": {
    "id": "4e43dad1",
    "papermill": {
     "duration": null,
     "end_time": null,
     "exception": null,
     "start_time": null,
     "status": "pending"
    },
    "tags": []
   },
   "outputs": [],
   "source": [
    "# #Generator\n",
    "# gen4 = network.GeneratorTabnetskipConnection(n_features+1).to(device)\n",
    "# constraints=network.weightConstraint()\n",
    "# #Discriminator \n",
    "# disc4 = network.Discriminator(n_features+1).to(device)\n",
    "\n",
    "# criterion = torch.nn.BCELoss()\n",
    "# gen_opt = torch.optim.Adam(gen4.parameters(), lr=0.01, betas=(0.5, 0.999))\n",
    "# disc_opt = torch.optim.Adam(disc4.parameters(), lr=0.01, betas=(0.5, 0.999))\n"
   ]
  },
  {
   "cell_type": "code",
   "execution_count": null,
   "id": "894cbe24",
   "metadata": {
    "id": "26acbc37",
    "papermill": {
     "duration": null,
     "end_time": null,
     "exception": null,
     "start_time": null,
     "status": "pending"
    },
    "tags": []
   },
   "outputs": [],
   "source": [
    "# ABC_train_test2.training_GAN_skip_connection(disc4,gen4,disc_opt,gen_opt,train_data,batch_size,n_epochs,criterion,prior_model,variance,bias,device)"
   ]
  },
  {
   "cell_type": "code",
   "execution_count": null,
   "id": "dd6ae504",
   "metadata": {
    "id": "c5e0717b",
    "papermill": {
     "duration": null,
     "end_time": null,
     "exception": null,
     "start_time": null,
     "status": "pending"
    },
    "tags": []
   },
   "outputs": [],
   "source": [
    "# ABC_GAN4_metrics=ABC_train_test2.test_generator(gen4,test_data,prior_model,variance,bias,\"3\",device)\n",
    "# sb.glue(\"ABC_GAN_4 Metrics\",ABC_GAN4_metrics)\n",
    "\n",
    "# print(\"MAE\")\n",
    "# print(mean(ABC_GAN4_metrics[1]))"
   ]
  },
  {
   "cell_type": "code",
   "execution_count": null,
   "id": "d77ac884",
   "metadata": {
    "id": "c8e46b48",
    "papermill": {
     "duration": null,
     "end_time": null,
     "exception": null,
     "start_time": null,
     "status": "pending"
    },
    "tags": []
   },
   "outputs": [],
   "source": [
    "# sanityChecks.discProbVsError(train_data,disc4,device)\n",
    "# sanityChecks.discProbVsError(test_data,disc4,device)"
   ]
  },
  {
   "cell_type": "markdown",
   "id": "a5bd74c3",
   "metadata": {
    "id": "a5bd74c3",
    "papermill": {
     "duration": null,
     "end_time": null,
     "exception": null,
     "start_time": null,
     "status": "pending"
    },
    "tags": []
   },
   "source": [
    "## Skip Connection Model Analysis - ABC-GAN "
   ]
  },
  {
   "cell_type": "markdown",
   "id": "5744a8bf",
   "metadata": {
    "id": "5744a8bf",
    "papermill": {
     "duration": null,
     "end_time": null,
     "exception": null,
     "start_time": null,
     "status": "pending"
    },
    "tags": []
   },
   "source": [
    "### Weight Analysis \n",
    "\n",
    "Study the weights of the skip connection layer\n",
    "\n",
    "Equation of the skip connection is \n",
    "\n",
    "$output = y_{gan} * w + y_{abc} * (1-w)$"
   ]
  },
  {
   "cell_type": "code",
   "execution_count": null,
   "id": "52c31dea",
   "metadata": {
    "id": "52c31dea",
    "papermill": {
     "duration": null,
     "end_time": null,
     "exception": null,
     "start_time": null,
     "status": "pending"
    },
    "tags": []
   },
   "outputs": [],
   "source": [
    "# print(\"Weight of the node at skip connection\")\n",
    "# for name,param in gen3.named_parameters():\n",
    "#     if(name == \"skipNode.weight\"):\n",
    "#         print(param)\n",
    "#         sb.glue(\"Skip Connection Weight\",param.item())"
   ]
  },
  {
   "cell_type": "markdown",
   "id": "58ff9e6a",
   "metadata": {
    "id": "a5bd74c3",
    "papermill": {
     "duration": null,
     "end_time": null,
     "exception": null,
     "start_time": null,
     "status": "pending"
    },
    "tags": []
   },
   "source": [
    "## skipGAN Model Analysis (TabNet Generator) "
   ]
  },
  {
   "cell_type": "markdown",
   "id": "9ff79640",
   "metadata": {
    "id": "5744a8bf",
    "papermill": {
     "duration": null,
     "end_time": null,
     "exception": null,
     "start_time": null,
     "status": "pending"
    },
    "tags": []
   },
   "source": [
    "### Weight Analysis \n",
    "\n",
    "Study the weights of the skip connection layer\n",
    "\n",
    "Equation of the skip connection is \n",
    "\n",
    "$output = y_{gan} * w + y_{abc} * (1-w)$"
   ]
  },
  {
   "cell_type": "code",
   "execution_count": null,
   "id": "95cd022c",
   "metadata": {
    "id": "52c31dea",
    "papermill": {
     "duration": null,
     "end_time": null,
     "exception": null,
     "start_time": null,
     "status": "pending"
    },
    "tags": []
   },
   "outputs": [],
   "source": [
    "# print(\"Weight of the node at skip connection\")\n",
    "# for name,param in gen4.named_parameters():\n",
    "#     if(name == \"skipNode.weight\"):\n",
    "#         print(param)\n",
    "#         sb.glue(\"Skip Connection Weight\",param.item())"
   ]
  }
 ],
 "metadata": {
  "colab": {
   "collapsed_sections": [],
   "name": "ABC_GAN_Model-Catboost_Pre-gen.ipynb",
   "provenance": []
  },
  "interpreter": {
   "hash": "31f2aee4e71d21fbe5cf8b01ff0e069b9275f58929596ceb00d14d90e3e16cd6"
  },
  "kernelspec": {
   "display_name": "Python 3 (ipykernel)",
   "language": "python",
   "name": "python3"
  },
  "language_info": {
   "codemirror_mode": {
    "name": "ipython",
    "version": 3
   },
   "file_extension": ".py",
   "mimetype": "text/x-python",
   "name": "python",
   "nbconvert_exporter": "python",
   "pygments_lexer": "ipython3",
   "version": "3.8.13"
  },
  "papermill": {
   "default_parameters": {},
   "duration": 266.38455,
   "end_time": "2022-07-24T12:38:43.296414",
   "environment_variables": {},
   "exception": true,
   "input_path": "ABC_GAN-Catboost.ipynb",
   "output_path": "./ABC_GAN_Catboost/ABC-GAN_output_2_10.ipynb",
   "parameters": {
    "bias": 0,
    "variance": 0.1
   },
   "start_time": "2022-07-24T12:34:16.911864",
   "version": "2.3.3"
  }
 },
 "nbformat": 4,
 "nbformat_minor": 5
}