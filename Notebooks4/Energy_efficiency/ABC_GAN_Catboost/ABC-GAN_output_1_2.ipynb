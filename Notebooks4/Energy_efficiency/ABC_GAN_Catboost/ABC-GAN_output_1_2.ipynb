{
 "cells": [
  {
   "cell_type": "markdown",
   "id": "622780e6",
   "metadata": {
    "id": "622780e6",
    "papermill": {
     "duration": 0.007397,
     "end_time": "2022-07-24T15:34:09.681413",
     "exception": false,
     "start_time": "2022-07-24T15:34:09.674016",
     "status": "completed"
    },
    "tags": []
   },
   "source": [
    "## Import Libraries "
   ]
  },
  {
   "cell_type": "code",
   "execution_count": 1,
   "id": "a62397e3",
   "metadata": {
    "execution": {
     "iopub.execute_input": "2022-07-24T15:34:09.696992Z",
     "iopub.status.busy": "2022-07-24T15:34:09.696511Z",
     "iopub.status.idle": "2022-07-24T15:34:09.709591Z",
     "shell.execute_reply": "2022-07-24T15:34:09.708836Z"
    },
    "id": "a62397e3",
    "papermill": {
     "duration": 0.024498,
     "end_time": "2022-07-24T15:34:09.712645",
     "exception": false,
     "start_time": "2022-07-24T15:34:09.688147",
     "status": "completed"
    },
    "tags": []
   },
   "outputs": [],
   "source": [
    "import warnings\n",
    "import sys\n",
    "sys.path.insert(0, '../../src')\n",
    "warnings.filterwarnings('ignore')"
   ]
  },
  {
   "cell_type": "code",
   "execution_count": 2,
   "id": "d6a4e155",
   "metadata": {
    "execution": {
     "iopub.execute_input": "2022-07-24T15:34:09.731890Z",
     "iopub.status.busy": "2022-07-24T15:34:09.731497Z",
     "iopub.status.idle": "2022-07-24T15:34:15.919444Z",
     "shell.execute_reply": "2022-07-24T15:34:15.913068Z"
    },
    "id": "d6a4e155",
    "papermill": {
     "duration": 6.210354,
     "end_time": "2022-07-24T15:34:15.930754",
     "exception": false,
     "start_time": "2022-07-24T15:34:09.720400",
     "status": "completed"
    },
    "tags": []
   },
   "outputs": [],
   "source": [
    "import ABC_train_test2\n",
    "import energyefficiencyDataset\n",
    "import network\n",
    "import dataset\n",
    "import sanityChecks\n",
    "import torch \n",
    "import scrapbook as sb\n",
    "from statistics import mean \n",
    "import catboost as ctb \n",
    "from sklearn.model_selection import train_test_split\n",
    "from sklearn.metrics import mean_squared_error,mean_absolute_error\n",
    "import numpy as np"
   ]
  },
  {
   "cell_type": "markdown",
   "id": "2fa5b0f7",
   "metadata": {
    "id": "2fa5b0f7",
    "papermill": {
     "duration": 0.007479,
     "end_time": "2022-07-24T15:34:15.945652",
     "exception": false,
     "start_time": "2022-07-24T15:34:15.938173",
     "status": "completed"
    },
    "tags": []
   },
   "source": [
    "## Parameters "
   ]
  },
  {
   "cell_type": "code",
   "execution_count": 3,
   "id": "783186fb",
   "metadata": {
    "execution": {
     "iopub.execute_input": "2022-07-24T15:34:15.967078Z",
     "iopub.status.busy": "2022-07-24T15:34:15.965620Z",
     "iopub.status.idle": "2022-07-24T15:34:15.976098Z",
     "shell.execute_reply": "2022-07-24T15:34:15.973980Z"
    },
    "id": "783186fb",
    "papermill": {
     "duration": 0.027943,
     "end_time": "2022-07-24T15:34:15.981258",
     "exception": false,
     "start_time": "2022-07-24T15:34:15.953315",
     "status": "completed"
    },
    "tags": [
     "parameters"
    ]
   },
   "outputs": [],
   "source": [
    "variance = 1\n",
    "bias = 1 "
   ]
  },
  {
   "cell_type": "code",
   "execution_count": 4,
   "id": "7d033d33",
   "metadata": {
    "execution": {
     "iopub.execute_input": "2022-07-24T15:34:16.003463Z",
     "iopub.status.busy": "2022-07-24T15:34:16.002153Z",
     "iopub.status.idle": "2022-07-24T15:34:16.015132Z",
     "shell.execute_reply": "2022-07-24T15:34:16.012991Z"
    },
    "papermill": {
     "duration": 0.032723,
     "end_time": "2022-07-24T15:34:16.023264",
     "exception": false,
     "start_time": "2022-07-24T15:34:15.990541",
     "status": "completed"
    },
    "tags": [
     "injected-parameters"
    ]
   },
   "outputs": [],
   "source": [
    "# Parameters\n",
    "variance = 0.01\n",
    "bias = 1\n"
   ]
  },
  {
   "cell_type": "markdown",
   "id": "391cdbfd",
   "metadata": {
    "id": "391cdbfd",
    "papermill": {
     "duration": 0.008288,
     "end_time": "2022-07-24T15:34:16.044208",
     "exception": false,
     "start_time": "2022-07-24T15:34:16.035920",
     "status": "completed"
    },
    "tags": []
   },
   "source": [
    "## Dataset \n"
   ]
  },
  {
   "cell_type": "code",
   "execution_count": 5,
   "id": "5b51f161",
   "metadata": {
    "execution": {
     "iopub.execute_input": "2022-07-24T15:34:16.067321Z",
     "iopub.status.busy": "2022-07-24T15:34:16.066714Z",
     "iopub.status.idle": "2022-07-24T15:34:16.075179Z",
     "shell.execute_reply": "2022-07-24T15:34:16.072078Z"
    },
    "id": "5b51f161",
    "papermill": {
     "duration": 0.031093,
     "end_time": "2022-07-24T15:34:16.083885",
     "exception": false,
     "start_time": "2022-07-24T15:34:16.052792",
     "status": "completed"
    },
    "tags": []
   },
   "outputs": [],
   "source": [
    "#Parameters \n",
    "n_features = 8\n",
    "n_samples= 768\n",
    "n_target = 1 "
   ]
  },
  {
   "cell_type": "code",
   "execution_count": 6,
   "id": "5d6eced4",
   "metadata": {
    "execution": {
     "iopub.execute_input": "2022-07-24T15:34:16.104611Z",
     "iopub.status.busy": "2022-07-24T15:34:16.103689Z",
     "iopub.status.idle": "2022-07-24T15:34:17.243922Z",
     "shell.execute_reply": "2022-07-24T15:34:17.241381Z"
    },
    "id": "5d6eced4",
    "papermill": {
     "duration": 1.15902,
     "end_time": "2022-07-24T15:34:17.250494",
     "exception": false,
     "start_time": "2022-07-24T15:34:16.091474",
     "status": "completed"
    },
    "tags": []
   },
   "outputs": [
    {
     "name": "stdout",
     "output_type": "stream",
     "text": [
      "     X1     X2     X3      X4   X5  X6   X7  X8     Y1     Y2\n",
      "0  0.98  514.5  294.0  110.25  7.0   2  0.0   0  15.55  21.33\n",
      "1  0.98  514.5  294.0  110.25  7.0   3  0.0   0  15.55  21.33\n",
      "2  0.98  514.5  294.0  110.25  7.0   4  0.0   0  15.55  21.33\n",
      "3  0.98  514.5  294.0  110.25  7.0   5  0.0   0  15.55  21.33\n",
      "4  0.90  563.5  318.5  122.50  7.0   2  0.0   0  20.84  28.28\n"
     ]
    }
   ],
   "source": [
    "X,Y = energyefficiencyDataset.energy_data()"
   ]
  },
  {
   "cell_type": "code",
   "execution_count": 7,
   "id": "fe007438",
   "metadata": {
    "execution": {
     "iopub.execute_input": "2022-07-24T15:34:17.281241Z",
     "iopub.status.busy": "2022-07-24T15:34:17.280772Z",
     "iopub.status.idle": "2022-07-24T15:34:17.294208Z",
     "shell.execute_reply": "2022-07-24T15:34:17.291701Z"
    },
    "id": "fe007438",
    "papermill": {
     "duration": 0.034788,
     "end_time": "2022-07-24T15:34:17.300108",
     "exception": false,
     "start_time": "2022-07-24T15:34:17.265320",
     "status": "completed"
    },
    "tags": []
   },
   "outputs": [],
   "source": [
    "#Train test split for dataset \n",
    "X_train,X_test,Y_train,Y_test = train_test_split(X,Y,test_size = 0.2)\n",
    "train_data = dataset.CustomDataset(X_train,Y_train)\n",
    "test_data = dataset.CustomDataset(X_test,Y_test)\n"
   ]
  },
  {
   "cell_type": "markdown",
   "id": "a9a1af34",
   "metadata": {
    "id": "a9a1af34",
    "papermill": {
     "duration": 0.010462,
     "end_time": "2022-07-24T15:34:17.322720",
     "exception": false,
     "start_time": "2022-07-24T15:34:17.312258",
     "status": "completed"
    },
    "tags": []
   },
   "source": [
    "## Training Parameters "
   ]
  },
  {
   "cell_type": "code",
   "execution_count": 8,
   "id": "952b7fc8",
   "metadata": {
    "execution": {
     "iopub.execute_input": "2022-07-24T15:34:17.357762Z",
     "iopub.status.busy": "2022-07-24T15:34:17.353629Z",
     "iopub.status.idle": "2022-07-24T15:34:17.364837Z",
     "shell.execute_reply": "2022-07-24T15:34:17.362948Z"
    },
    "id": "952b7fc8",
    "papermill": {
     "duration": 0.034976,
     "end_time": "2022-07-24T15:34:17.370258",
     "exception": false,
     "start_time": "2022-07-24T15:34:17.335282",
     "status": "completed"
    },
    "tags": []
   },
   "outputs": [],
   "source": [
    "batch_size = 32\n",
    "n_epochs = 1000\n",
    "#Select the device \n",
    "device = torch.device('cuda' if torch.cuda.is_available() else 'cpu')"
   ]
  },
  {
   "cell_type": "markdown",
   "id": "a95e1600",
   "metadata": {
    "id": "a95e1600",
    "papermill": {
     "duration": 0.013046,
     "end_time": "2022-07-24T15:34:17.410775",
     "exception": false,
     "start_time": "2022-07-24T15:34:17.397729",
     "status": "completed"
    },
    "tags": []
   },
   "source": [
    "# ABC Pre-generator Model \n",
    "\n",
    "1. The catboost model is used as a pre-generator model for the ABC-GAN. \n",
    "2. The model is first trained on the entire dataset \n",
    "3. It generats X,Y pairs and we add some Gaussian noise with mean 0 and variance 1 to it which is then feed as input to the generator.\n"
   ]
  },
  {
   "cell_type": "code",
   "execution_count": 9,
   "id": "ff8ce7bd",
   "metadata": {
    "execution": {
     "iopub.execute_input": "2022-07-24T15:34:17.442055Z",
     "iopub.status.busy": "2022-07-24T15:34:17.441231Z",
     "iopub.status.idle": "2022-07-24T15:34:19.339115Z",
     "shell.execute_reply": "2022-07-24T15:34:19.335806Z"
    },
    "id": "ff8ce7bd",
    "papermill": {
     "duration": 1.916762,
     "end_time": "2022-07-24T15:34:19.343913",
     "exception": false,
     "start_time": "2022-07-24T15:34:17.427151",
     "status": "completed"
    },
    "tags": []
   },
   "outputs": [
    {
     "name": "stdout",
     "output_type": "stream",
     "text": [
      "Learning rate set to 0.037906\n",
      "0:\tlearn: 0.9677265\ttotal: 49.9ms\tremaining: 49.9s\n",
      "1:\tlearn: 0.9354847\ttotal: 50.8ms\tremaining: 25.3s\n",
      "2:\tlearn: 0.9084145\ttotal: 51.6ms\tremaining: 17.2s\n",
      "3:\tlearn: 0.8776572\ttotal: 52.7ms\tremaining: 13.1s\n",
      "4:\tlearn: 0.8531849\ttotal: 52.9ms\tremaining: 10.5s\n",
      "5:\tlearn: 0.8252950\ttotal: 54.6ms\tremaining: 9.04s\n",
      "6:\tlearn: 0.8031271\ttotal: 56.4ms\tremaining: 8s\n",
      "7:\tlearn: 0.7799510\ttotal: 57.5ms\tremaining: 7.13s\n",
      "8:\tlearn: 0.7539502\ttotal: 58.4ms\tremaining: 6.43s\n",
      "9:\tlearn: 0.7304335\ttotal: 60.2ms\tremaining: 5.96s\n",
      "10:\tlearn: 0.7075025\ttotal: 63.8ms\tremaining: 5.73s\n",
      "11:\tlearn: 0.6845907\ttotal: 64.2ms\tremaining: 5.29s\n",
      "12:\tlearn: 0.6661844\ttotal: 65ms\tremaining: 4.93s\n",
      "13:\tlearn: 0.6467304\ttotal: 65.8ms\tremaining: 4.63s\n",
      "14:\tlearn: 0.6263344\ttotal: 66.5ms\tremaining: 4.37s\n",
      "15:\tlearn: 0.6078899\ttotal: 67.3ms\tremaining: 4.14s\n",
      "16:\tlearn: 0.5888549\ttotal: 69ms\tremaining: 3.99s\n",
      "17:\tlearn: 0.5707761\ttotal: 69.8ms\tremaining: 3.81s\n",
      "18:\tlearn: 0.5566066\ttotal: 71.2ms\tremaining: 3.68s\n",
      "19:\tlearn: 0.5411124\ttotal: 71.9ms\tremaining: 3.52s\n",
      "20:\tlearn: 0.5259688\ttotal: 72.8ms\tremaining: 3.39s\n",
      "21:\tlearn: 0.5111580\ttotal: 73.6ms\tremaining: 3.27s\n",
      "22:\tlearn: 0.4953115\ttotal: 76.6ms\tremaining: 3.25s\n",
      "23:\tlearn: 0.4804433\ttotal: 78.4ms\tremaining: 3.19s\n",
      "24:\tlearn: 0.4653405\ttotal: 79.3ms\tremaining: 3.09s\n",
      "25:\tlearn: 0.4507954\ttotal: 81ms\tremaining: 3.04s\n",
      "26:\tlearn: 0.4375518\ttotal: 81.3ms\tremaining: 2.93s\n",
      "27:\tlearn: 0.4242241\ttotal: 82.9ms\tremaining: 2.88s\n",
      "28:\tlearn: 0.4116752\ttotal: 83.2ms\tremaining: 2.79s\n",
      "29:\tlearn: 0.4014024\ttotal: 84.1ms\tremaining: 2.72s\n",
      "30:\tlearn: 0.3901064\ttotal: 84.3ms\tremaining: 2.63s\n",
      "31:\tlearn: 0.3789707\ttotal: 84.6ms\tremaining: 2.56s\n",
      "32:\tlearn: 0.3684040\ttotal: 85.6ms\tremaining: 2.51s\n",
      "33:\tlearn: 0.3580536\ttotal: 86.3ms\tremaining: 2.45s\n",
      "34:\tlearn: 0.3477649\ttotal: 87.1ms\tremaining: 2.4s\n",
      "35:\tlearn: 0.3386609\ttotal: 87.8ms\tremaining: 2.35s\n",
      "36:\tlearn: 0.3293068\ttotal: 88.9ms\tremaining: 2.31s\n",
      "37:\tlearn: 0.3193747\ttotal: 89.4ms\tremaining: 2.26s\n",
      "38:\tlearn: 0.3103167\ttotal: 91.3ms\tremaining: 2.25s\n",
      "39:\tlearn: 0.3028209\ttotal: 92.8ms\tremaining: 2.23s\n",
      "40:\tlearn: 0.2937995\ttotal: 93ms\tremaining: 2.18s\n",
      "41:\tlearn: 0.2862153\ttotal: 93.4ms\tremaining: 2.13s\n",
      "42:\tlearn: 0.2776771\ttotal: 93.7ms\tremaining: 2.08s\n",
      "43:\tlearn: 0.2698945\ttotal: 95.3ms\tremaining: 2.07s\n",
      "44:\tlearn: 0.2631175\ttotal: 95.8ms\tremaining: 2.03s\n",
      "45:\tlearn: 0.2567840\ttotal: 97ms\tremaining: 2.01s\n",
      "46:\tlearn: 0.2504975\ttotal: 98.1ms\tremaining: 1.99s\n",
      "47:\tlearn: 0.2443746\ttotal: 99.6ms\tremaining: 1.98s\n",
      "48:\tlearn: 0.2383932\ttotal: 100ms\tremaining: 1.95s\n",
      "49:\tlearn: 0.2324391\ttotal: 102ms\tremaining: 1.93s\n",
      "50:\tlearn: 0.2271511\ttotal: 102ms\tremaining: 1.9s\n",
      "51:\tlearn: 0.2216689\ttotal: 103ms\tremaining: 1.88s\n",
      "52:\tlearn: 0.2168543\ttotal: 104ms\tremaining: 1.86s\n",
      "53:\tlearn: 0.2111891\ttotal: 105ms\tremaining: 1.83s\n",
      "54:\tlearn: 0.2065397\ttotal: 106ms\tremaining: 1.81s\n",
      "55:\tlearn: 0.2010982\ttotal: 106ms\tremaining: 1.79s\n",
      "56:\tlearn: 0.1957700\ttotal: 109ms\tremaining: 1.8s\n",
      "57:\tlearn: 0.1903317\ttotal: 110ms\tremaining: 1.78s\n",
      "58:\tlearn: 0.1853616\ttotal: 111ms\tremaining: 1.78s\n",
      "59:\tlearn: 0.1824471\ttotal: 114ms\tremaining: 1.79s\n",
      "60:\tlearn: 0.1792283\ttotal: 119ms\tremaining: 1.83s\n",
      "61:\tlearn: 0.1748402\ttotal: 120ms\tremaining: 1.81s\n",
      "62:\tlearn: 0.1708223\ttotal: 121ms\tremaining: 1.79s\n",
      "63:\tlearn: 0.1673358\ttotal: 121ms\tremaining: 1.78s\n",
      "64:\tlearn: 0.1630641\ttotal: 122ms\tremaining: 1.76s\n",
      "65:\tlearn: 0.1606451\ttotal: 123ms\tremaining: 1.74s\n",
      "66:\tlearn: 0.1580827\ttotal: 124ms\tremaining: 1.72s\n",
      "67:\tlearn: 0.1543611\ttotal: 125ms\tremaining: 1.71s\n",
      "68:\tlearn: 0.1513427\ttotal: 126ms\tremaining: 1.7s\n",
      "69:\tlearn: 0.1480379\ttotal: 127ms\tremaining: 1.69s\n",
      "70:\tlearn: 0.1449726\ttotal: 128ms\tremaining: 1.67s\n",
      "71:\tlearn: 0.1430862\ttotal: 128ms\tremaining: 1.65s\n",
      "72:\tlearn: 0.1393202\ttotal: 129ms\tremaining: 1.64s\n",
      "73:\tlearn: 0.1359086\ttotal: 130ms\tremaining: 1.62s\n",
      "74:\tlearn: 0.1336208\ttotal: 131ms\tremaining: 1.61s\n",
      "75:\tlearn: 0.1314329\ttotal: 132ms\tremaining: 1.6s\n",
      "76:\tlearn: 0.1292637\ttotal: 132ms\tremaining: 1.59s\n",
      "77:\tlearn: 0.1263695\ttotal: 133ms\tremaining: 1.58s\n",
      "78:\tlearn: 0.1236130\ttotal: 134ms\tremaining: 1.56s\n",
      "79:\tlearn: 0.1221165\ttotal: 135ms\tremaining: 1.55s\n",
      "80:\tlearn: 0.1206202\ttotal: 136ms\tremaining: 1.54s\n",
      "81:\tlearn: 0.1178581\ttotal: 136ms\tremaining: 1.53s\n",
      "82:\tlearn: 0.1165836\ttotal: 137ms\tremaining: 1.52s\n",
      "83:\tlearn: 0.1140244\ttotal: 138ms\tremaining: 1.51s\n",
      "84:\tlearn: 0.1113240\ttotal: 139ms\tremaining: 1.5s\n",
      "85:\tlearn: 0.1100989\ttotal: 140ms\tremaining: 1.49s\n",
      "86:\tlearn: 0.1079875\ttotal: 141ms\tremaining: 1.48s\n",
      "87:\tlearn: 0.1059887\ttotal: 142ms\tremaining: 1.48s\n",
      "88:\tlearn: 0.1037693\ttotal: 143ms\tremaining: 1.47s\n",
      "89:\tlearn: 0.1020019\ttotal: 144ms\tremaining: 1.46s\n",
      "90:\tlearn: 0.0998052\ttotal: 156ms\tremaining: 1.56s\n",
      "91:\tlearn: 0.0981694\ttotal: 156ms\tremaining: 1.54s\n",
      "92:\tlearn: 0.0963097\ttotal: 157ms\tremaining: 1.53s\n",
      "93:\tlearn: 0.0956310\ttotal: 158ms\tremaining: 1.52s\n"
     ]
    },
    {
     "name": "stdout",
     "output_type": "stream",
     "text": [
      "94:\tlearn: 0.0937559\ttotal: 160ms\tremaining: 1.52s\n",
      "95:\tlearn: 0.0918039\ttotal: 161ms\tremaining: 1.51s\n",
      "96:\tlearn: 0.0906430\ttotal: 163ms\tremaining: 1.51s\n",
      "97:\tlearn: 0.0886417\ttotal: 164ms\tremaining: 1.51s\n",
      "98:\tlearn: 0.0871663\ttotal: 166ms\tremaining: 1.51s\n",
      "99:\tlearn: 0.0861233\ttotal: 168ms\tremaining: 1.51s\n",
      "100:\tlearn: 0.0854475\ttotal: 170ms\tremaining: 1.51s\n",
      "101:\tlearn: 0.0839565\ttotal: 171ms\tremaining: 1.5s\n",
      "102:\tlearn: 0.0827824\ttotal: 171ms\tremaining: 1.49s\n",
      "103:\tlearn: 0.0819128\ttotal: 172ms\tremaining: 1.49s\n",
      "104:\tlearn: 0.0806631\ttotal: 174ms\tremaining: 1.48s\n",
      "105:\tlearn: 0.0796184\ttotal: 175ms\tremaining: 1.47s\n",
      "106:\tlearn: 0.0785407\ttotal: 177ms\tremaining: 1.48s\n",
      "107:\tlearn: 0.0779771\ttotal: 177ms\tremaining: 1.46s\n",
      "108:\tlearn: 0.0767428\ttotal: 181ms\tremaining: 1.48s\n",
      "109:\tlearn: 0.0758109\ttotal: 181ms\tremaining: 1.46s\n",
      "110:\tlearn: 0.0744324\ttotal: 182ms\tremaining: 1.46s\n",
      "111:\tlearn: 0.0732151\ttotal: 183ms\tremaining: 1.45s\n",
      "112:\tlearn: 0.0721632\ttotal: 184ms\tremaining: 1.44s\n",
      "113:\tlearn: 0.0709649\ttotal: 185ms\tremaining: 1.44s\n",
      "114:\tlearn: 0.0704026\ttotal: 185ms\tremaining: 1.43s\n",
      "115:\tlearn: 0.0698740\ttotal: 186ms\tremaining: 1.42s\n",
      "116:\tlearn: 0.0687667\ttotal: 187ms\tremaining: 1.41s\n",
      "117:\tlearn: 0.0680274\ttotal: 188ms\tremaining: 1.41s\n",
      "118:\tlearn: 0.0671684\ttotal: 189ms\tremaining: 1.4s\n",
      "119:\tlearn: 0.0662117\ttotal: 190ms\tremaining: 1.39s\n",
      "120:\tlearn: 0.0652627\ttotal: 191ms\tremaining: 1.39s\n",
      "121:\tlearn: 0.0648999\ttotal: 192ms\tremaining: 1.38s\n",
      "122:\tlearn: 0.0640519\ttotal: 193ms\tremaining: 1.38s\n",
      "123:\tlearn: 0.0634598\ttotal: 194ms\tremaining: 1.37s\n",
      "124:\tlearn: 0.0626870\ttotal: 196ms\tremaining: 1.37s\n",
      "125:\tlearn: 0.0621798\ttotal: 197ms\tremaining: 1.36s\n",
      "126:\tlearn: 0.0620158\ttotal: 198ms\tremaining: 1.36s\n",
      "127:\tlearn: 0.0613061\ttotal: 198ms\tremaining: 1.35s\n",
      "128:\tlearn: 0.0606006\ttotal: 199ms\tremaining: 1.34s\n",
      "129:\tlearn: 0.0601923\ttotal: 199ms\tremaining: 1.33s\n",
      "130:\tlearn: 0.0595372\ttotal: 200ms\tremaining: 1.33s\n",
      "131:\tlearn: 0.0589066\ttotal: 201ms\tremaining: 1.32s\n",
      "132:\tlearn: 0.0585782\ttotal: 202ms\tremaining: 1.32s\n",
      "133:\tlearn: 0.0580214\ttotal: 204ms\tremaining: 1.32s\n",
      "134:\tlearn: 0.0576719\ttotal: 205ms\tremaining: 1.31s\n",
      "135:\tlearn: 0.0573377\ttotal: 206ms\tremaining: 1.31s\n",
      "136:\tlearn: 0.0568215\ttotal: 207ms\tremaining: 1.3s\n",
      "137:\tlearn: 0.0564980\ttotal: 207ms\tremaining: 1.29s\n",
      "138:\tlearn: 0.0560068\ttotal: 208ms\tremaining: 1.29s\n",
      "139:\tlearn: 0.0556625\ttotal: 209ms\tremaining: 1.28s\n",
      "140:\tlearn: 0.0552378\ttotal: 209ms\tremaining: 1.27s\n",
      "141:\tlearn: 0.0547943\ttotal: 210ms\tremaining: 1.27s\n",
      "142:\tlearn: 0.0544327\ttotal: 212ms\tremaining: 1.27s\n",
      "143:\tlearn: 0.0540483\ttotal: 212ms\tremaining: 1.26s\n",
      "144:\tlearn: 0.0537510\ttotal: 213ms\tremaining: 1.25s\n",
      "145:\tlearn: 0.0535329\ttotal: 214ms\tremaining: 1.25s\n",
      "146:\tlearn: 0.0533319\ttotal: 215ms\tremaining: 1.25s\n",
      "147:\tlearn: 0.0530411\ttotal: 216ms\tremaining: 1.24s\n",
      "148:\tlearn: 0.0526335\ttotal: 218ms\tremaining: 1.25s\n",
      "149:\tlearn: 0.0522754\ttotal: 219ms\tremaining: 1.24s\n",
      "150:\tlearn: 0.0520489\ttotal: 220ms\tremaining: 1.24s\n",
      "151:\tlearn: 0.0518742\ttotal: 220ms\tremaining: 1.23s\n",
      "152:\tlearn: 0.0515515\ttotal: 221ms\tremaining: 1.22s\n",
      "153:\tlearn: 0.0513308\ttotal: 221ms\tremaining: 1.22s\n",
      "154:\tlearn: 0.0509968\ttotal: 224ms\tremaining: 1.22s\n",
      "155:\tlearn: 0.0507284\ttotal: 225ms\tremaining: 1.22s\n",
      "156:\tlearn: 0.0505027\ttotal: 225ms\tremaining: 1.21s\n",
      "157:\tlearn: 0.0502860\ttotal: 226ms\tremaining: 1.21s\n",
      "158:\tlearn: 0.0501198\ttotal: 228ms\tremaining: 1.2s\n",
      "159:\tlearn: 0.0498685\ttotal: 229ms\tremaining: 1.2s\n",
      "160:\tlearn: 0.0496595\ttotal: 229ms\tremaining: 1.19s\n",
      "161:\tlearn: 0.0494260\ttotal: 230ms\tremaining: 1.19s\n",
      "162:\tlearn: 0.0492431\ttotal: 231ms\tremaining: 1.18s\n",
      "163:\tlearn: 0.0489783\ttotal: 232ms\tremaining: 1.18s\n",
      "164:\tlearn: 0.0488068\ttotal: 232ms\tremaining: 1.18s\n",
      "165:\tlearn: 0.0486217\ttotal: 233ms\tremaining: 1.17s\n",
      "166:\tlearn: 0.0483912\ttotal: 234ms\tremaining: 1.17s\n",
      "167:\tlearn: 0.0482444\ttotal: 235ms\tremaining: 1.16s\n",
      "168:\tlearn: 0.0479941\ttotal: 236ms\tremaining: 1.16s\n",
      "169:\tlearn: 0.0478089\ttotal: 236ms\tremaining: 1.15s\n",
      "170:\tlearn: 0.0476104\ttotal: 237ms\tremaining: 1.15s\n",
      "171:\tlearn: 0.0474293\ttotal: 238ms\tremaining: 1.14s\n",
      "172:\tlearn: 0.0472969\ttotal: 239ms\tremaining: 1.14s\n",
      "173:\tlearn: 0.0471444\ttotal: 239ms\tremaining: 1.14s\n",
      "174:\tlearn: 0.0469988\ttotal: 240ms\tremaining: 1.13s\n",
      "175:\tlearn: 0.0467979\ttotal: 241ms\tremaining: 1.13s\n",
      "176:\tlearn: 0.0466633\ttotal: 242ms\tremaining: 1.13s\n"
     ]
    },
    {
     "name": "stdout",
     "output_type": "stream",
     "text": [
      "177:\tlearn: 0.0464741\ttotal: 242ms\tremaining: 1.12s\n",
      "178:\tlearn: 0.0463873\ttotal: 243ms\tremaining: 1.12s\n",
      "179:\tlearn: 0.0461852\ttotal: 244ms\tremaining: 1.11s\n",
      "180:\tlearn: 0.0460306\ttotal: 246ms\tremaining: 1.11s\n",
      "181:\tlearn: 0.0459366\ttotal: 246ms\tremaining: 1.11s\n",
      "182:\tlearn: 0.0457847\ttotal: 248ms\tremaining: 1.11s\n",
      "183:\tlearn: 0.0455083\ttotal: 249ms\tremaining: 1.1s\n",
      "184:\tlearn: 0.0453182\ttotal: 250ms\tremaining: 1.1s\n",
      "185:\tlearn: 0.0452033\ttotal: 251ms\tremaining: 1.1s\n",
      "186:\tlearn: 0.0450598\ttotal: 252ms\tremaining: 1.09s\n",
      "187:\tlearn: 0.0448810\ttotal: 252ms\tremaining: 1.09s\n",
      "188:\tlearn: 0.0447483\ttotal: 253ms\tremaining: 1.09s\n",
      "189:\tlearn: 0.0445595\ttotal: 254ms\tremaining: 1.08s\n",
      "190:\tlearn: 0.0442336\ttotal: 254ms\tremaining: 1.08s\n",
      "191:\tlearn: 0.0440662\ttotal: 255ms\tremaining: 1.07s\n",
      "192:\tlearn: 0.0439080\ttotal: 255ms\tremaining: 1.06s\n",
      "193:\tlearn: 0.0437907\ttotal: 255ms\tremaining: 1.06s\n",
      "194:\tlearn: 0.0436394\ttotal: 255ms\tremaining: 1.05s\n",
      "195:\tlearn: 0.0434982\ttotal: 256ms\tremaining: 1.05s\n",
      "196:\tlearn: 0.0433587\ttotal: 258ms\tremaining: 1.05s\n",
      "197:\tlearn: 0.0430848\ttotal: 259ms\tremaining: 1.05s\n",
      "198:\tlearn: 0.0429423\ttotal: 260ms\tremaining: 1.05s\n",
      "199:\tlearn: 0.0428302\ttotal: 261ms\tremaining: 1.04s\n",
      "200:\tlearn: 0.0426598\ttotal: 262ms\tremaining: 1.04s\n",
      "201:\tlearn: 0.0425569\ttotal: 263ms\tremaining: 1.04s\n",
      "202:\tlearn: 0.0422936\ttotal: 264ms\tremaining: 1.03s\n",
      "203:\tlearn: 0.0421966\ttotal: 265ms\tremaining: 1.03s\n",
      "204:\tlearn: 0.0421046\ttotal: 266ms\tremaining: 1.03s\n",
      "205:\tlearn: 0.0419682\ttotal: 267ms\tremaining: 1.03s\n",
      "206:\tlearn: 0.0418727\ttotal: 270ms\tremaining: 1.03s\n",
      "207:\tlearn: 0.0417469\ttotal: 270ms\tremaining: 1.03s\n",
      "208:\tlearn: 0.0415984\ttotal: 271ms\tremaining: 1.03s\n",
      "209:\tlearn: 0.0415231\ttotal: 272ms\tremaining: 1.02s\n",
      "210:\tlearn: 0.0412660\ttotal: 273ms\tremaining: 1.02s\n",
      "211:\tlearn: 0.0411683\ttotal: 273ms\tremaining: 1.01s\n",
      "212:\tlearn: 0.0410573\ttotal: 275ms\tremaining: 1.01s\n",
      "213:\tlearn: 0.0409760\ttotal: 276ms\tremaining: 1.01s\n",
      "214:\tlearn: 0.0407188\ttotal: 277ms\tremaining: 1.01s\n",
      "215:\tlearn: 0.0405232\ttotal: 278ms\tremaining: 1.01s\n",
      "216:\tlearn: 0.0403085\ttotal: 279ms\tremaining: 1.01s\n",
      "217:\tlearn: 0.0401267\ttotal: 280ms\tremaining: 1s\n",
      "218:\tlearn: 0.0400458\ttotal: 281ms\tremaining: 1s\n",
      "219:\tlearn: 0.0399205\ttotal: 281ms\tremaining: 998ms\n",
      "220:\tlearn: 0.0398012\ttotal: 283ms\tremaining: 996ms\n",
      "221:\tlearn: 0.0397081\ttotal: 283ms\tremaining: 993ms\n",
      "222:\tlearn: 0.0396398\ttotal: 284ms\tremaining: 990ms\n",
      "223:\tlearn: 0.0395432\ttotal: 285ms\tremaining: 988ms\n",
      "224:\tlearn: 0.0392801\ttotal: 286ms\tremaining: 985ms\n",
      "225:\tlearn: 0.0391238\ttotal: 287ms\tremaining: 984ms\n",
      "226:\tlearn: 0.0389185\ttotal: 288ms\tremaining: 981ms\n",
      "227:\tlearn: 0.0388325\ttotal: 289ms\tremaining: 979ms\n",
      "228:\tlearn: 0.0386396\ttotal: 290ms\tremaining: 978ms\n",
      "229:\tlearn: 0.0385400\ttotal: 292ms\tremaining: 977ms\n",
      "230:\tlearn: 0.0383863\ttotal: 293ms\tremaining: 976ms\n",
      "231:\tlearn: 0.0382892\ttotal: 294ms\tremaining: 973ms\n",
      "232:\tlearn: 0.0382081\ttotal: 295ms\tremaining: 970ms\n",
      "233:\tlearn: 0.0380904\ttotal: 297ms\tremaining: 972ms\n",
      "234:\tlearn: 0.0379118\ttotal: 298ms\tremaining: 970ms\n",
      "235:\tlearn: 0.0378356\ttotal: 301ms\tremaining: 973ms\n",
      "236:\tlearn: 0.0376633\ttotal: 302ms\tremaining: 972ms\n",
      "237:\tlearn: 0.0375019\ttotal: 303ms\tremaining: 969ms\n",
      "238:\tlearn: 0.0374215\ttotal: 304ms\tremaining: 967ms\n",
      "239:\tlearn: 0.0373355\ttotal: 305ms\tremaining: 965ms\n",
      "240:\tlearn: 0.0372570\ttotal: 306ms\tremaining: 963ms\n",
      "241:\tlearn: 0.0371056\ttotal: 307ms\tremaining: 962ms\n",
      "242:\tlearn: 0.0369842\ttotal: 308ms\tremaining: 960ms\n",
      "243:\tlearn: 0.0368866\ttotal: 309ms\tremaining: 957ms\n",
      "244:\tlearn: 0.0368003\ttotal: 310ms\tremaining: 954ms\n",
      "245:\tlearn: 0.0366599\ttotal: 311ms\tremaining: 952ms\n",
      "246:\tlearn: 0.0365769\ttotal: 312ms\tremaining: 951ms\n",
      "247:\tlearn: 0.0364792\ttotal: 313ms\tremaining: 950ms\n",
      "248:\tlearn: 0.0363836\ttotal: 314ms\tremaining: 946ms\n",
      "249:\tlearn: 0.0362816\ttotal: 316ms\tremaining: 949ms\n",
      "250:\tlearn: 0.0361785\ttotal: 317ms\tremaining: 946ms\n",
      "251:\tlearn: 0.0360496\ttotal: 318ms\tremaining: 943ms\n",
      "252:\tlearn: 0.0359265\ttotal: 319ms\tremaining: 941ms\n",
      "253:\tlearn: 0.0358328\ttotal: 319ms\tremaining: 938ms\n",
      "254:\tlearn: 0.0357372\ttotal: 320ms\tremaining: 936ms\n",
      "255:\tlearn: 0.0356602\ttotal: 321ms\tremaining: 933ms\n",
      "256:\tlearn: 0.0354967\ttotal: 322ms\tremaining: 930ms\n",
      "257:\tlearn: 0.0354336\ttotal: 324ms\tremaining: 932ms\n",
      "258:\tlearn: 0.0353348\ttotal: 327ms\tremaining: 934ms\n",
      "259:\tlearn: 0.0352476\ttotal: 327ms\tremaining: 931ms\n",
      "260:\tlearn: 0.0351624\ttotal: 329ms\tremaining: 930ms\n",
      "261:\tlearn: 0.0350861\ttotal: 329ms\tremaining: 928ms\n",
      "262:\tlearn: 0.0350016\ttotal: 330ms\tremaining: 925ms\n",
      "263:\tlearn: 0.0348686\ttotal: 331ms\tremaining: 923ms\n",
      "264:\tlearn: 0.0346983\ttotal: 332ms\tremaining: 921ms\n",
      "265:\tlearn: 0.0346341\ttotal: 333ms\tremaining: 919ms\n",
      "266:\tlearn: 0.0345737\ttotal: 334ms\tremaining: 916ms\n",
      "267:\tlearn: 0.0344750\ttotal: 334ms\tremaining: 913ms\n",
      "268:\tlearn: 0.0344286\ttotal: 337ms\tremaining: 915ms\n",
      "269:\tlearn: 0.0343309\ttotal: 338ms\tremaining: 914ms\n",
      "270:\tlearn: 0.0342497\ttotal: 342ms\tremaining: 919ms\n",
      "271:\tlearn: 0.0341609\ttotal: 343ms\tremaining: 917ms\n",
      "272:\tlearn: 0.0340925\ttotal: 344ms\tremaining: 915ms\n",
      "273:\tlearn: 0.0340498\ttotal: 344ms\tremaining: 913ms\n",
      "274:\tlearn: 0.0339448\ttotal: 346ms\tremaining: 911ms\n",
      "275:\tlearn: 0.0338647\ttotal: 346ms\tremaining: 909ms\n",
      "276:\tlearn: 0.0338008\ttotal: 348ms\tremaining: 909ms\n",
      "277:\tlearn: 0.0337591\ttotal: 349ms\tremaining: 906ms\n",
      "278:\tlearn: 0.0337251\ttotal: 350ms\tremaining: 905ms\n",
      "279:\tlearn: 0.0336893\ttotal: 351ms\tremaining: 902ms\n",
      "280:\tlearn: 0.0336209\ttotal: 352ms\tremaining: 901ms\n",
      "281:\tlearn: 0.0335390\ttotal: 353ms\tremaining: 899ms\n",
      "282:\tlearn: 0.0333860\ttotal: 354ms\tremaining: 897ms\n",
      "283:\tlearn: 0.0333003\ttotal: 355ms\tremaining: 895ms\n",
      "284:\tlearn: 0.0332616\ttotal: 356ms\tremaining: 893ms\n",
      "285:\tlearn: 0.0332255\ttotal: 357ms\tremaining: 891ms\n",
      "286:\tlearn: 0.0331101\ttotal: 358ms\tremaining: 889ms\n",
      "287:\tlearn: 0.0330259\ttotal: 359ms\tremaining: 887ms\n",
      "288:\tlearn: 0.0328964\ttotal: 360ms\tremaining: 885ms\n",
      "289:\tlearn: 0.0328372\ttotal: 360ms\tremaining: 883ms\n",
      "290:\tlearn: 0.0327290\ttotal: 361ms\tremaining: 881ms\n",
      "291:\tlearn: 0.0326890\ttotal: 362ms\tremaining: 879ms\n",
      "292:\tlearn: 0.0326206\ttotal: 364ms\tremaining: 877ms\n",
      "293:\tlearn: 0.0324825\ttotal: 364ms\tremaining: 875ms\n",
      "294:\tlearn: 0.0324525\ttotal: 366ms\tremaining: 875ms\n",
      "295:\tlearn: 0.0323696\ttotal: 367ms\tremaining: 873ms\n",
      "296:\tlearn: 0.0322398\ttotal: 368ms\tremaining: 871ms\n",
      "297:\tlearn: 0.0322046\ttotal: 369ms\tremaining: 869ms\n",
      "298:\tlearn: 0.0321187\ttotal: 371ms\tremaining: 869ms\n",
      "299:\tlearn: 0.0320886\ttotal: 372ms\tremaining: 869ms\n",
      "300:\tlearn: 0.0319892\ttotal: 373ms\tremaining: 867ms\n",
      "301:\tlearn: 0.0319122\ttotal: 374ms\tremaining: 865ms\n",
      "302:\tlearn: 0.0318843\ttotal: 375ms\tremaining: 863ms\n",
      "303:\tlearn: 0.0318240\ttotal: 376ms\tremaining: 862ms\n",
      "304:\tlearn: 0.0317266\ttotal: 377ms\tremaining: 859ms\n",
      "305:\tlearn: 0.0315866\ttotal: 378ms\tremaining: 858ms\n",
      "306:\tlearn: 0.0315088\ttotal: 379ms\tremaining: 856ms\n",
      "307:\tlearn: 0.0314360\ttotal: 381ms\tremaining: 855ms\n",
      "308:\tlearn: 0.0313993\ttotal: 382ms\tremaining: 854ms\n",
      "309:\tlearn: 0.0313204\ttotal: 383ms\tremaining: 852ms\n",
      "310:\tlearn: 0.0312382\ttotal: 383ms\tremaining: 850ms\n",
      "311:\tlearn: 0.0311909\ttotal: 385ms\tremaining: 849ms\n",
      "312:\tlearn: 0.0311525\ttotal: 386ms\tremaining: 846ms\n",
      "313:\tlearn: 0.0310772\ttotal: 386ms\tremaining: 844ms\n",
      "314:\tlearn: 0.0309660\ttotal: 387ms\tremaining: 842ms\n",
      "315:\tlearn: 0.0308982\ttotal: 388ms\tremaining: 840ms\n",
      "316:\tlearn: 0.0308718\ttotal: 389ms\tremaining: 839ms\n",
      "317:\tlearn: 0.0308108\ttotal: 390ms\tremaining: 837ms\n",
      "318:\tlearn: 0.0307608\ttotal: 391ms\tremaining: 835ms\n",
      "319:\tlearn: 0.0306927\ttotal: 392ms\tremaining: 833ms\n",
      "320:\tlearn: 0.0306664\ttotal: 393ms\tremaining: 832ms\n",
      "321:\tlearn: 0.0305917\ttotal: 395ms\tremaining: 831ms\n",
      "322:\tlearn: 0.0304840\ttotal: 396ms\tremaining: 830ms\n",
      "323:\tlearn: 0.0304443\ttotal: 397ms\tremaining: 828ms\n"
     ]
    },
    {
     "name": "stdout",
     "output_type": "stream",
     "text": [
      "324:\tlearn: 0.0304067\ttotal: 398ms\tremaining: 827ms\n",
      "325:\tlearn: 0.0303080\ttotal: 401ms\tremaining: 829ms\n",
      "326:\tlearn: 0.0302646\ttotal: 402ms\tremaining: 826ms\n",
      "327:\tlearn: 0.0301725\ttotal: 403ms\tremaining: 826ms\n",
      "328:\tlearn: 0.0300920\ttotal: 404ms\tremaining: 825ms\n",
      "329:\tlearn: 0.0300210\ttotal: 405ms\tremaining: 823ms\n",
      "330:\tlearn: 0.0299564\ttotal: 406ms\tremaining: 821ms\n",
      "331:\tlearn: 0.0299160\ttotal: 407ms\tremaining: 819ms\n",
      "332:\tlearn: 0.0298293\ttotal: 408ms\tremaining: 818ms\n",
      "333:\tlearn: 0.0297510\ttotal: 409ms\tremaining: 816ms\n",
      "334:\tlearn: 0.0296899\ttotal: 411ms\tremaining: 816ms\n",
      "335:\tlearn: 0.0296628\ttotal: 412ms\tremaining: 814ms\n",
      "336:\tlearn: 0.0295805\ttotal: 413ms\tremaining: 812ms\n",
      "337:\tlearn: 0.0295534\ttotal: 413ms\tremaining: 810ms\n",
      "338:\tlearn: 0.0294987\ttotal: 414ms\tremaining: 808ms\n",
      "339:\tlearn: 0.0294533\ttotal: 415ms\tremaining: 806ms\n",
      "340:\tlearn: 0.0294202\ttotal: 416ms\tremaining: 804ms\n",
      "341:\tlearn: 0.0293686\ttotal: 417ms\tremaining: 802ms\n",
      "342:\tlearn: 0.0292518\ttotal: 417ms\tremaining: 799ms\n",
      "343:\tlearn: 0.0291947\ttotal: 418ms\tremaining: 797ms\n",
      "344:\tlearn: 0.0291498\ttotal: 418ms\tremaining: 794ms\n",
      "345:\tlearn: 0.0290848\ttotal: 420ms\tremaining: 793ms\n",
      "346:\tlearn: 0.0290533\ttotal: 421ms\tremaining: 792ms\n",
      "347:\tlearn: 0.0289901\ttotal: 421ms\tremaining: 790ms\n",
      "348:\tlearn: 0.0289165\ttotal: 422ms\tremaining: 788ms\n",
      "349:\tlearn: 0.0288856\ttotal: 423ms\tremaining: 786ms\n",
      "350:\tlearn: 0.0288233\ttotal: 424ms\tremaining: 784ms\n",
      "351:\tlearn: 0.0288041\ttotal: 425ms\tremaining: 782ms\n",
      "352:\tlearn: 0.0287725\ttotal: 426ms\tremaining: 781ms\n",
      "353:\tlearn: 0.0287153\ttotal: 427ms\tremaining: 780ms\n",
      "354:\tlearn: 0.0286139\ttotal: 428ms\tremaining: 778ms\n",
      "355:\tlearn: 0.0285310\ttotal: 429ms\tremaining: 776ms\n",
      "356:\tlearn: 0.0284230\ttotal: 430ms\tremaining: 774ms\n",
      "357:\tlearn: 0.0283797\ttotal: 430ms\tremaining: 772ms\n",
      "358:\tlearn: 0.0283503\ttotal: 432ms\tremaining: 771ms\n",
      "359:\tlearn: 0.0283154\ttotal: 433ms\tremaining: 769ms\n",
      "360:\tlearn: 0.0282623\ttotal: 434ms\tremaining: 768ms\n",
      "361:\tlearn: 0.0282017\ttotal: 434ms\tremaining: 766ms\n",
      "362:\tlearn: 0.0281523\ttotal: 436ms\tremaining: 764ms\n",
      "363:\tlearn: 0.0281317\ttotal: 436ms\tremaining: 762ms\n",
      "364:\tlearn: 0.0280613\ttotal: 437ms\tremaining: 761ms\n",
      "365:\tlearn: 0.0280104\ttotal: 438ms\tremaining: 759ms\n",
      "366:\tlearn: 0.0279795\ttotal: 439ms\tremaining: 757ms\n",
      "367:\tlearn: 0.0279057\ttotal: 440ms\tremaining: 755ms\n",
      "368:\tlearn: 0.0278666\ttotal: 440ms\tremaining: 753ms\n",
      "369:\tlearn: 0.0278401\ttotal: 442ms\tremaining: 752ms\n",
      "370:\tlearn: 0.0277787\ttotal: 444ms\tremaining: 752ms\n",
      "371:\tlearn: 0.0277293\ttotal: 444ms\tremaining: 749ms\n",
      "372:\tlearn: 0.0276587\ttotal: 445ms\tremaining: 748ms\n",
      "373:\tlearn: 0.0276218\ttotal: 446ms\tremaining: 747ms\n",
      "374:\tlearn: 0.0275968\ttotal: 446ms\tremaining: 744ms\n",
      "375:\tlearn: 0.0275278\ttotal: 447ms\tremaining: 742ms\n",
      "376:\tlearn: 0.0274825\ttotal: 448ms\tremaining: 740ms\n",
      "377:\tlearn: 0.0274432\ttotal: 449ms\tremaining: 738ms\n",
      "378:\tlearn: 0.0273677\ttotal: 451ms\tremaining: 738ms\n",
      "379:\tlearn: 0.0273048\ttotal: 452ms\tremaining: 737ms\n",
      "380:\tlearn: 0.0272763\ttotal: 453ms\tremaining: 736ms\n",
      "381:\tlearn: 0.0272407\ttotal: 454ms\tremaining: 734ms\n",
      "382:\tlearn: 0.0271925\ttotal: 454ms\tremaining: 732ms\n",
      "383:\tlearn: 0.0271230\ttotal: 455ms\tremaining: 730ms\n",
      "384:\tlearn: 0.0270975\ttotal: 456ms\tremaining: 728ms\n",
      "385:\tlearn: 0.0270415\ttotal: 457ms\tremaining: 726ms\n",
      "386:\tlearn: 0.0269903\ttotal: 458ms\tremaining: 725ms\n",
      "387:\tlearn: 0.0269630\ttotal: 459ms\tremaining: 724ms\n",
      "388:\tlearn: 0.0269055\ttotal: 460ms\tremaining: 722ms\n",
      "389:\tlearn: 0.0268516\ttotal: 461ms\tremaining: 721ms\n",
      "390:\tlearn: 0.0268140\ttotal: 462ms\tremaining: 719ms\n",
      "391:\tlearn: 0.0267515\ttotal: 463ms\tremaining: 718ms\n",
      "392:\tlearn: 0.0267138\ttotal: 464ms\tremaining: 716ms\n",
      "393:\tlearn: 0.0266737\ttotal: 464ms\tremaining: 714ms\n",
      "394:\tlearn: 0.0266108\ttotal: 465ms\tremaining: 713ms\n",
      "395:\tlearn: 0.0265684\ttotal: 466ms\tremaining: 710ms\n",
      "396:\tlearn: 0.0265410\ttotal: 467ms\tremaining: 709ms\n",
      "397:\tlearn: 0.0265173\ttotal: 468ms\tremaining: 708ms\n",
      "398:\tlearn: 0.0264692\ttotal: 469ms\tremaining: 707ms\n",
      "399:\tlearn: 0.0264447\ttotal: 470ms\tremaining: 705ms\n",
      "400:\tlearn: 0.0264298\ttotal: 470ms\tremaining: 703ms\n",
      "401:\tlearn: 0.0264033\ttotal: 471ms\tremaining: 701ms\n",
      "402:\tlearn: 0.0263618\ttotal: 472ms\tremaining: 700ms\n",
      "403:\tlearn: 0.0262830\ttotal: 473ms\tremaining: 698ms\n",
      "404:\tlearn: 0.0262676\ttotal: 474ms\tremaining: 696ms\n",
      "405:\tlearn: 0.0262303\ttotal: 475ms\tremaining: 695ms\n",
      "406:\tlearn: 0.0262165\ttotal: 476ms\tremaining: 694ms\n",
      "407:\tlearn: 0.0261551\ttotal: 478ms\tremaining: 693ms\n",
      "408:\tlearn: 0.0261257\ttotal: 479ms\tremaining: 693ms\n",
      "409:\tlearn: 0.0261030\ttotal: 491ms\tremaining: 707ms\n",
      "410:\tlearn: 0.0260544\ttotal: 492ms\tremaining: 705ms\n",
      "411:\tlearn: 0.0260316\ttotal: 493ms\tremaining: 703ms\n",
      "412:\tlearn: 0.0260096\ttotal: 494ms\tremaining: 702ms\n",
      "413:\tlearn: 0.0259690\ttotal: 495ms\tremaining: 700ms\n",
      "414:\tlearn: 0.0259142\ttotal: 496ms\tremaining: 699ms\n",
      "415:\tlearn: 0.0258524\ttotal: 497ms\tremaining: 698ms\n",
      "416:\tlearn: 0.0257984\ttotal: 498ms\tremaining: 697ms\n",
      "417:\tlearn: 0.0257489\ttotal: 504ms\tremaining: 702ms\n",
      "418:\tlearn: 0.0256855\ttotal: 505ms\tremaining: 700ms\n",
      "419:\tlearn: 0.0256594\ttotal: 508ms\tremaining: 702ms\n",
      "420:\tlearn: 0.0256381\ttotal: 509ms\tremaining: 700ms\n",
      "421:\tlearn: 0.0255972\ttotal: 510ms\tremaining: 698ms\n",
      "422:\tlearn: 0.0255722\ttotal: 510ms\tremaining: 696ms\n",
      "423:\tlearn: 0.0255073\ttotal: 511ms\tremaining: 694ms\n",
      "424:\tlearn: 0.0254884\ttotal: 513ms\tremaining: 693ms\n",
      "425:\tlearn: 0.0254301\ttotal: 513ms\tremaining: 692ms\n",
      "426:\tlearn: 0.0254150\ttotal: 514ms\tremaining: 690ms\n",
      "427:\tlearn: 0.0253647\ttotal: 515ms\tremaining: 688ms\n",
      "428:\tlearn: 0.0253072\ttotal: 517ms\tremaining: 688ms\n",
      "429:\tlearn: 0.0252823\ttotal: 520ms\tremaining: 690ms\n",
      "430:\tlearn: 0.0252619\ttotal: 521ms\tremaining: 688ms\n",
      "431:\tlearn: 0.0252323\ttotal: 522ms\tremaining: 686ms\n",
      "432:\tlearn: 0.0252195\ttotal: 523ms\tremaining: 685ms\n",
      "433:\tlearn: 0.0252093\ttotal: 525ms\tremaining: 685ms\n",
      "434:\tlearn: 0.0251888\ttotal: 527ms\tremaining: 684ms\n",
      "435:\tlearn: 0.0251547\ttotal: 529ms\tremaining: 685ms\n",
      "436:\tlearn: 0.0251350\ttotal: 531ms\tremaining: 684ms\n",
      "437:\tlearn: 0.0250912\ttotal: 532ms\tremaining: 682ms\n",
      "438:\tlearn: 0.0250658\ttotal: 533ms\tremaining: 681ms\n",
      "439:\tlearn: 0.0250458\ttotal: 534ms\tremaining: 679ms\n",
      "440:\tlearn: 0.0250263\ttotal: 534ms\tremaining: 677ms\n",
      "441:\tlearn: 0.0250055\ttotal: 537ms\tremaining: 677ms\n",
      "442:\tlearn: 0.0249641\ttotal: 537ms\tremaining: 676ms\n",
      "443:\tlearn: 0.0249320\ttotal: 538ms\tremaining: 674ms\n",
      "444:\tlearn: 0.0249118\ttotal: 539ms\tremaining: 672ms\n"
     ]
    },
    {
     "name": "stdout",
     "output_type": "stream",
     "text": [
      "445:\tlearn: 0.0248792\ttotal: 540ms\tremaining: 671ms\n",
      "446:\tlearn: 0.0248243\ttotal: 541ms\tremaining: 670ms\n",
      "447:\tlearn: 0.0248047\ttotal: 542ms\tremaining: 668ms\n",
      "448:\tlearn: 0.0247700\ttotal: 543ms\tremaining: 666ms\n",
      "449:\tlearn: 0.0247517\ttotal: 544ms\tremaining: 664ms\n",
      "450:\tlearn: 0.0247235\ttotal: 544ms\tremaining: 662ms\n",
      "451:\tlearn: 0.0246973\ttotal: 545ms\tremaining: 661ms\n",
      "452:\tlearn: 0.0246676\ttotal: 546ms\tremaining: 659ms\n",
      "453:\tlearn: 0.0246500\ttotal: 547ms\tremaining: 658ms\n",
      "454:\tlearn: 0.0245914\ttotal: 548ms\tremaining: 656ms\n",
      "455:\tlearn: 0.0245772\ttotal: 549ms\tremaining: 655ms\n",
      "456:\tlearn: 0.0245481\ttotal: 549ms\tremaining: 653ms\n",
      "457:\tlearn: 0.0245037\ttotal: 550ms\tremaining: 651ms\n",
      "458:\tlearn: 0.0244467\ttotal: 551ms\tremaining: 650ms\n",
      "459:\tlearn: 0.0244271\ttotal: 552ms\tremaining: 648ms\n",
      "460:\tlearn: 0.0243957\ttotal: 553ms\tremaining: 646ms\n",
      "461:\tlearn: 0.0243134\ttotal: 553ms\tremaining: 644ms\n",
      "462:\tlearn: 0.0242635\ttotal: 554ms\tremaining: 643ms\n",
      "463:\tlearn: 0.0242466\ttotal: 555ms\tremaining: 642ms\n",
      "464:\tlearn: 0.0241918\ttotal: 556ms\tremaining: 640ms\n",
      "465:\tlearn: 0.0241670\ttotal: 557ms\tremaining: 638ms\n",
      "466:\tlearn: 0.0241404\ttotal: 558ms\tremaining: 637ms\n",
      "467:\tlearn: 0.0241047\ttotal: 559ms\tremaining: 636ms\n",
      "468:\tlearn: 0.0240950\ttotal: 560ms\tremaining: 634ms\n",
      "469:\tlearn: 0.0240515\ttotal: 561ms\tremaining: 632ms\n",
      "470:\tlearn: 0.0240167\ttotal: 561ms\tremaining: 631ms\n",
      "471:\tlearn: 0.0240018\ttotal: 562ms\tremaining: 629ms\n",
      "472:\tlearn: 0.0239592\ttotal: 563ms\tremaining: 627ms\n",
      "473:\tlearn: 0.0239427\ttotal: 564ms\tremaining: 625ms\n",
      "474:\tlearn: 0.0239263\ttotal: 565ms\tremaining: 624ms\n",
      "475:\tlearn: 0.0239095\ttotal: 566ms\tremaining: 623ms\n",
      "476:\tlearn: 0.0238706\ttotal: 567ms\tremaining: 622ms\n",
      "477:\tlearn: 0.0238378\ttotal: 568ms\tremaining: 620ms\n",
      "478:\tlearn: 0.0237874\ttotal: 569ms\tremaining: 618ms\n",
      "479:\tlearn: 0.0237611\ttotal: 569ms\tremaining: 617ms\n",
      "480:\tlearn: 0.0237404\ttotal: 570ms\tremaining: 615ms\n",
      "481:\tlearn: 0.0237295\ttotal: 571ms\tremaining: 614ms\n",
      "482:\tlearn: 0.0236781\ttotal: 573ms\tremaining: 613ms\n",
      "483:\tlearn: 0.0236593\ttotal: 574ms\tremaining: 612ms\n",
      "484:\tlearn: 0.0236189\ttotal: 575ms\tremaining: 610ms\n",
      "485:\tlearn: 0.0235738\ttotal: 576ms\tremaining: 609ms\n",
      "486:\tlearn: 0.0235477\ttotal: 577ms\tremaining: 608ms\n",
      "487:\tlearn: 0.0235352\ttotal: 580ms\tremaining: 608ms\n",
      "488:\tlearn: 0.0235182\ttotal: 581ms\tremaining: 607ms\n",
      "489:\tlearn: 0.0234988\ttotal: 582ms\tremaining: 606ms\n",
      "490:\tlearn: 0.0234503\ttotal: 583ms\tremaining: 605ms\n",
      "491:\tlearn: 0.0234306\ttotal: 585ms\tremaining: 604ms\n",
      "492:\tlearn: 0.0234158\ttotal: 586ms\tremaining: 603ms\n",
      "493:\tlearn: 0.0233921\ttotal: 587ms\tremaining: 601ms\n",
      "494:\tlearn: 0.0233873\ttotal: 588ms\tremaining: 600ms\n",
      "495:\tlearn: 0.0233716\ttotal: 589ms\tremaining: 599ms\n",
      "496:\tlearn: 0.0233205\ttotal: 590ms\tremaining: 598ms\n",
      "497:\tlearn: 0.0232712\ttotal: 591ms\tremaining: 596ms\n",
      "498:\tlearn: 0.0232537\ttotal: 592ms\tremaining: 595ms\n",
      "499:\tlearn: 0.0232072\ttotal: 594ms\tremaining: 594ms\n",
      "500:\tlearn: 0.0231884\ttotal: 595ms\tremaining: 592ms\n",
      "501:\tlearn: 0.0231618\ttotal: 595ms\tremaining: 591ms\n",
      "502:\tlearn: 0.0231413\ttotal: 596ms\tremaining: 589ms\n",
      "503:\tlearn: 0.0231266\ttotal: 597ms\tremaining: 588ms\n",
      "504:\tlearn: 0.0231031\ttotal: 599ms\tremaining: 587ms\n",
      "505:\tlearn: 0.0230891\ttotal: 602ms\tremaining: 588ms\n",
      "506:\tlearn: 0.0230441\ttotal: 603ms\tremaining: 586ms\n",
      "507:\tlearn: 0.0229964\ttotal: 604ms\tremaining: 585ms\n",
      "508:\tlearn: 0.0229744\ttotal: 605ms\tremaining: 583ms\n",
      "509:\tlearn: 0.0229654\ttotal: 606ms\tremaining: 582ms\n",
      "510:\tlearn: 0.0229217\ttotal: 607ms\tremaining: 580ms\n",
      "511:\tlearn: 0.0228795\ttotal: 607ms\tremaining: 579ms\n",
      "512:\tlearn: 0.0228364\ttotal: 608ms\tremaining: 577ms\n",
      "513:\tlearn: 0.0228225\ttotal: 610ms\tremaining: 576ms\n",
      "514:\tlearn: 0.0227616\ttotal: 611ms\tremaining: 575ms\n",
      "515:\tlearn: 0.0227446\ttotal: 612ms\tremaining: 575ms\n",
      "516:\tlearn: 0.0227281\ttotal: 613ms\tremaining: 573ms\n",
      "517:\tlearn: 0.0227104\ttotal: 614ms\tremaining: 571ms\n",
      "518:\tlearn: 0.0226946\ttotal: 615ms\tremaining: 570ms\n",
      "519:\tlearn: 0.0226528\ttotal: 616ms\tremaining: 568ms\n",
      "520:\tlearn: 0.0226311\ttotal: 617ms\tremaining: 567ms\n",
      "521:\tlearn: 0.0226158\ttotal: 618ms\tremaining: 566ms\n",
      "522:\tlearn: 0.0226026\ttotal: 618ms\tremaining: 564ms\n",
      "523:\tlearn: 0.0225830\ttotal: 619ms\tremaining: 562ms\n",
      "524:\tlearn: 0.0225666\ttotal: 619ms\tremaining: 560ms\n",
      "525:\tlearn: 0.0225223\ttotal: 620ms\tremaining: 559ms\n",
      "526:\tlearn: 0.0224987\ttotal: 621ms\tremaining: 557ms\n",
      "527:\tlearn: 0.0224779\ttotal: 622ms\tremaining: 556ms\n",
      "528:\tlearn: 0.0224392\ttotal: 622ms\tremaining: 554ms\n",
      "529:\tlearn: 0.0224156\ttotal: 623ms\tremaining: 553ms\n",
      "530:\tlearn: 0.0224045\ttotal: 624ms\tremaining: 551ms\n",
      "531:\tlearn: 0.0223613\ttotal: 625ms\tremaining: 549ms\n",
      "532:\tlearn: 0.0223057\ttotal: 625ms\tremaining: 548ms\n",
      "533:\tlearn: 0.0222920\ttotal: 626ms\tremaining: 546ms\n",
      "534:\tlearn: 0.0222483\ttotal: 626ms\tremaining: 545ms\n",
      "535:\tlearn: 0.0222343\ttotal: 627ms\tremaining: 543ms\n",
      "536:\tlearn: 0.0222149\ttotal: 628ms\tremaining: 541ms\n",
      "537:\tlearn: 0.0222000\ttotal: 628ms\tremaining: 540ms\n",
      "538:\tlearn: 0.0221866\ttotal: 629ms\tremaining: 538ms\n",
      "539:\tlearn: 0.0221479\ttotal: 629ms\tremaining: 536ms\n",
      "540:\tlearn: 0.0221388\ttotal: 631ms\tremaining: 535ms\n",
      "541:\tlearn: 0.0221009\ttotal: 631ms\tremaining: 533ms\n",
      "542:\tlearn: 0.0220867\ttotal: 632ms\tremaining: 532ms\n",
      "543:\tlearn: 0.0220725\ttotal: 633ms\tremaining: 530ms\n",
      "544:\tlearn: 0.0220445\ttotal: 633ms\tremaining: 529ms\n",
      "545:\tlearn: 0.0220182\ttotal: 634ms\tremaining: 527ms\n",
      "546:\tlearn: 0.0219772\ttotal: 635ms\tremaining: 526ms\n",
      "547:\tlearn: 0.0219454\ttotal: 636ms\tremaining: 524ms\n",
      "548:\tlearn: 0.0219331\ttotal: 637ms\tremaining: 523ms\n",
      "549:\tlearn: 0.0219214\ttotal: 638ms\tremaining: 522ms\n",
      "550:\tlearn: 0.0219102\ttotal: 639ms\tremaining: 520ms\n",
      "551:\tlearn: 0.0218891\ttotal: 640ms\tremaining: 519ms\n",
      "552:\tlearn: 0.0218761\ttotal: 641ms\tremaining: 518ms\n",
      "553:\tlearn: 0.0218659\ttotal: 642ms\tremaining: 517ms\n",
      "554:\tlearn: 0.0218472\ttotal: 643ms\tremaining: 515ms\n",
      "555:\tlearn: 0.0218340\ttotal: 644ms\tremaining: 514ms\n",
      "556:\tlearn: 0.0218028\ttotal: 645ms\tremaining: 513ms\n",
      "557:\tlearn: 0.0217899\ttotal: 645ms\tremaining: 511ms\n",
      "558:\tlearn: 0.0217542\ttotal: 646ms\tremaining: 510ms\n",
      "559:\tlearn: 0.0217247\ttotal: 647ms\tremaining: 508ms\n",
      "560:\tlearn: 0.0217127\ttotal: 648ms\tremaining: 507ms\n",
      "561:\tlearn: 0.0216606\ttotal: 649ms\tremaining: 506ms\n",
      "562:\tlearn: 0.0216419\ttotal: 649ms\tremaining: 504ms\n",
      "563:\tlearn: 0.0216182\ttotal: 650ms\tremaining: 503ms\n",
      "564:\tlearn: 0.0215793\ttotal: 651ms\tremaining: 501ms\n",
      "565:\tlearn: 0.0215302\ttotal: 652ms\tremaining: 500ms\n",
      "566:\tlearn: 0.0215162\ttotal: 653ms\tremaining: 499ms\n",
      "567:\tlearn: 0.0214956\ttotal: 654ms\tremaining: 497ms\n",
      "568:\tlearn: 0.0214793\ttotal: 655ms\tremaining: 496ms\n",
      "569:\tlearn: 0.0214612\ttotal: 656ms\tremaining: 495ms\n",
      "570:\tlearn: 0.0214489\ttotal: 657ms\tremaining: 493ms\n",
      "571:\tlearn: 0.0214089\ttotal: 658ms\tremaining: 492ms\n",
      "572:\tlearn: 0.0213713\ttotal: 659ms\tremaining: 491ms\n",
      "573:\tlearn: 0.0213560\ttotal: 660ms\tremaining: 490ms\n",
      "574:\tlearn: 0.0213187\ttotal: 661ms\tremaining: 488ms\n",
      "575:\tlearn: 0.0212847\ttotal: 662ms\tremaining: 487ms\n",
      "576:\tlearn: 0.0212689\ttotal: 663ms\tremaining: 486ms\n",
      "577:\tlearn: 0.0212018\ttotal: 664ms\tremaining: 485ms\n",
      "578:\tlearn: 0.0211823\ttotal: 665ms\tremaining: 483ms\n",
      "579:\tlearn: 0.0211628\ttotal: 666ms\tremaining: 482ms\n",
      "580:\tlearn: 0.0211476\ttotal: 667ms\tremaining: 481ms\n",
      "581:\tlearn: 0.0211034\ttotal: 668ms\tremaining: 480ms\n"
     ]
    },
    {
     "name": "stdout",
     "output_type": "stream",
     "text": [
      "582:\tlearn: 0.0210607\ttotal: 670ms\tremaining: 479ms\n",
      "583:\tlearn: 0.0210503\ttotal: 673ms\tremaining: 479ms\n",
      "584:\tlearn: 0.0210384\ttotal: 673ms\tremaining: 478ms\n",
      "585:\tlearn: 0.0210065\ttotal: 674ms\tremaining: 476ms\n",
      "586:\tlearn: 0.0209994\ttotal: 675ms\tremaining: 475ms\n",
      "587:\tlearn: 0.0209633\ttotal: 676ms\tremaining: 474ms\n",
      "588:\tlearn: 0.0209279\ttotal: 677ms\tremaining: 472ms\n",
      "589:\tlearn: 0.0208854\ttotal: 677ms\tremaining: 471ms\n",
      "590:\tlearn: 0.0208503\ttotal: 678ms\tremaining: 469ms\n",
      "591:\tlearn: 0.0208355\ttotal: 679ms\tremaining: 468ms\n",
      "592:\tlearn: 0.0208258\ttotal: 680ms\tremaining: 467ms\n",
      "593:\tlearn: 0.0208150\ttotal: 681ms\tremaining: 466ms\n",
      "594:\tlearn: 0.0207962\ttotal: 682ms\tremaining: 464ms\n",
      "595:\tlearn: 0.0207838\ttotal: 683ms\tremaining: 463ms\n",
      "596:\tlearn: 0.0207509\ttotal: 684ms\tremaining: 461ms\n",
      "597:\tlearn: 0.0207274\ttotal: 685ms\tremaining: 460ms\n",
      "598:\tlearn: 0.0207005\ttotal: 685ms\tremaining: 459ms\n",
      "599:\tlearn: 0.0206730\ttotal: 686ms\tremaining: 458ms\n",
      "600:\tlearn: 0.0206483\ttotal: 687ms\tremaining: 456ms\n",
      "601:\tlearn: 0.0206248\ttotal: 688ms\tremaining: 455ms\n",
      "602:\tlearn: 0.0206013\ttotal: 689ms\tremaining: 454ms\n",
      "603:\tlearn: 0.0205789\ttotal: 690ms\tremaining: 452ms\n",
      "604:\tlearn: 0.0205416\ttotal: 691ms\tremaining: 451ms\n",
      "605:\tlearn: 0.0205312\ttotal: 692ms\tremaining: 450ms\n",
      "606:\tlearn: 0.0205217\ttotal: 693ms\tremaining: 449ms\n",
      "607:\tlearn: 0.0205018\ttotal: 694ms\tremaining: 448ms\n",
      "608:\tlearn: 0.0204870\ttotal: 695ms\tremaining: 446ms\n",
      "609:\tlearn: 0.0204789\ttotal: 696ms\tremaining: 445ms\n",
      "610:\tlearn: 0.0204542\ttotal: 697ms\tremaining: 443ms\n",
      "611:\tlearn: 0.0204280\ttotal: 697ms\tremaining: 442ms\n",
      "612:\tlearn: 0.0204080\ttotal: 698ms\tremaining: 441ms\n",
      "613:\tlearn: 0.0203942\ttotal: 699ms\tremaining: 439ms\n",
      "614:\tlearn: 0.0203648\ttotal: 701ms\tremaining: 439ms\n",
      "615:\tlearn: 0.0203326\ttotal: 702ms\tremaining: 438ms\n",
      "616:\tlearn: 0.0202917\ttotal: 703ms\tremaining: 436ms\n",
      "617:\tlearn: 0.0202817\ttotal: 704ms\tremaining: 435ms\n",
      "618:\tlearn: 0.0202738\ttotal: 705ms\tremaining: 434ms\n",
      "619:\tlearn: 0.0202486\ttotal: 706ms\tremaining: 433ms\n",
      "620:\tlearn: 0.0202300\ttotal: 707ms\tremaining: 431ms\n",
      "621:\tlearn: 0.0202104\ttotal: 708ms\tremaining: 430ms\n",
      "622:\tlearn: 0.0202008\ttotal: 709ms\tremaining: 429ms\n",
      "623:\tlearn: 0.0201726\ttotal: 710ms\tremaining: 428ms\n",
      "624:\tlearn: 0.0201605\ttotal: 711ms\tremaining: 426ms\n",
      "625:\tlearn: 0.0201404\ttotal: 711ms\tremaining: 425ms\n",
      "626:\tlearn: 0.0201265\ttotal: 712ms\tremaining: 424ms\n",
      "627:\tlearn: 0.0201085\ttotal: 713ms\tremaining: 422ms\n",
      "628:\tlearn: 0.0200670\ttotal: 714ms\tremaining: 421ms\n",
      "629:\tlearn: 0.0200568\ttotal: 715ms\tremaining: 420ms\n",
      "630:\tlearn: 0.0200394\ttotal: 716ms\tremaining: 419ms\n",
      "631:\tlearn: 0.0200227\ttotal: 717ms\tremaining: 418ms\n",
      "632:\tlearn: 0.0200016\ttotal: 718ms\tremaining: 416ms\n",
      "633:\tlearn: 0.0199847\ttotal: 719ms\tremaining: 415ms\n",
      "634:\tlearn: 0.0199602\ttotal: 721ms\tremaining: 415ms\n",
      "635:\tlearn: 0.0199390\ttotal: 722ms\tremaining: 413ms\n",
      "636:\tlearn: 0.0199190\ttotal: 723ms\tremaining: 412ms\n",
      "637:\tlearn: 0.0199034\ttotal: 724ms\tremaining: 411ms\n",
      "638:\tlearn: 0.0198941\ttotal: 725ms\tremaining: 409ms\n",
      "639:\tlearn: 0.0198676\ttotal: 725ms\tremaining: 408ms\n",
      "640:\tlearn: 0.0198529\ttotal: 726ms\tremaining: 407ms\n",
      "641:\tlearn: 0.0198389\ttotal: 727ms\tremaining: 405ms\n",
      "642:\tlearn: 0.0198208\ttotal: 728ms\tremaining: 404ms\n",
      "643:\tlearn: 0.0197856\ttotal: 729ms\tremaining: 403ms\n",
      "644:\tlearn: 0.0197549\ttotal: 730ms\tremaining: 402ms\n",
      "645:\tlearn: 0.0197139\ttotal: 730ms\tremaining: 400ms\n",
      "646:\tlearn: 0.0196847\ttotal: 731ms\tremaining: 399ms\n",
      "647:\tlearn: 0.0196592\ttotal: 732ms\tremaining: 398ms\n",
      "648:\tlearn: 0.0196325\ttotal: 733ms\tremaining: 396ms\n",
      "649:\tlearn: 0.0195998\ttotal: 734ms\tremaining: 395ms\n",
      "650:\tlearn: 0.0195805\ttotal: 734ms\tremaining: 394ms\n",
      "651:\tlearn: 0.0195720\ttotal: 736ms\tremaining: 393ms\n",
      "652:\tlearn: 0.0195620\ttotal: 736ms\tremaining: 391ms\n",
      "653:\tlearn: 0.0195470\ttotal: 737ms\tremaining: 390ms\n",
      "654:\tlearn: 0.0195392\ttotal: 738ms\tremaining: 389ms\n",
      "655:\tlearn: 0.0195331\ttotal: 739ms\tremaining: 388ms\n",
      "656:\tlearn: 0.0195048\ttotal: 740ms\tremaining: 386ms\n",
      "657:\tlearn: 0.0194850\ttotal: 741ms\tremaining: 385ms\n",
      "658:\tlearn: 0.0194437\ttotal: 742ms\tremaining: 384ms\n",
      "659:\tlearn: 0.0194386\ttotal: 743ms\tremaining: 383ms\n",
      "660:\tlearn: 0.0194062\ttotal: 744ms\tremaining: 381ms\n",
      "661:\tlearn: 0.0193946\ttotal: 744ms\tremaining: 380ms\n",
      "662:\tlearn: 0.0193751\ttotal: 745ms\tremaining: 379ms\n",
      "663:\tlearn: 0.0193664\ttotal: 747ms\tremaining: 378ms\n",
      "664:\tlearn: 0.0193578\ttotal: 747ms\tremaining: 376ms\n",
      "665:\tlearn: 0.0193498\ttotal: 748ms\tremaining: 375ms\n",
      "666:\tlearn: 0.0193183\ttotal: 749ms\tremaining: 374ms\n",
      "667:\tlearn: 0.0192946\ttotal: 750ms\tremaining: 373ms\n",
      "668:\tlearn: 0.0192683\ttotal: 751ms\tremaining: 371ms\n",
      "669:\tlearn: 0.0191902\ttotal: 752ms\tremaining: 370ms\n",
      "670:\tlearn: 0.0191646\ttotal: 753ms\tremaining: 369ms\n",
      "671:\tlearn: 0.0191484\ttotal: 754ms\tremaining: 368ms\n",
      "672:\tlearn: 0.0191399\ttotal: 755ms\tremaining: 367ms\n",
      "673:\tlearn: 0.0191105\ttotal: 755ms\tremaining: 365ms\n",
      "674:\tlearn: 0.0191030\ttotal: 756ms\tremaining: 364ms\n",
      "675:\tlearn: 0.0190935\ttotal: 757ms\tremaining: 363ms\n",
      "676:\tlearn: 0.0190806\ttotal: 759ms\tremaining: 362ms\n",
      "677:\tlearn: 0.0190440\ttotal: 759ms\tremaining: 361ms\n",
      "678:\tlearn: 0.0190347\ttotal: 760ms\tremaining: 359ms\n",
      "679:\tlearn: 0.0190002\ttotal: 761ms\tremaining: 358ms\n",
      "680:\tlearn: 0.0189849\ttotal: 762ms\tremaining: 357ms\n",
      "681:\tlearn: 0.0189610\ttotal: 764ms\tremaining: 356ms\n",
      "682:\tlearn: 0.0189477\ttotal: 765ms\tremaining: 355ms\n",
      "683:\tlearn: 0.0189297\ttotal: 767ms\tremaining: 354ms\n",
      "684:\tlearn: 0.0189140\ttotal: 767ms\tremaining: 353ms\n",
      "685:\tlearn: 0.0189054\ttotal: 768ms\tremaining: 352ms\n",
      "686:\tlearn: 0.0188837\ttotal: 770ms\tremaining: 351ms\n",
      "687:\tlearn: 0.0188587\ttotal: 771ms\tremaining: 349ms\n",
      "688:\tlearn: 0.0188440\ttotal: 772ms\tremaining: 348ms\n",
      "689:\tlearn: 0.0188373\ttotal: 773ms\tremaining: 347ms\n",
      "690:\tlearn: 0.0188247\ttotal: 773ms\tremaining: 346ms\n",
      "691:\tlearn: 0.0188060\ttotal: 774ms\tremaining: 345ms\n",
      "692:\tlearn: 0.0187770\ttotal: 775ms\tremaining: 343ms\n",
      "693:\tlearn: 0.0187563\ttotal: 776ms\tremaining: 342ms\n",
      "694:\tlearn: 0.0187378\ttotal: 777ms\tremaining: 341ms\n",
      "695:\tlearn: 0.0187253\ttotal: 777ms\tremaining: 340ms\n",
      "696:\tlearn: 0.0187175\ttotal: 778ms\tremaining: 338ms\n",
      "697:\tlearn: 0.0186446\ttotal: 779ms\tremaining: 337ms\n",
      "698:\tlearn: 0.0186273\ttotal: 779ms\tremaining: 336ms\n",
      "699:\tlearn: 0.0186192\ttotal: 780ms\tremaining: 334ms\n",
      "700:\tlearn: 0.0186154\ttotal: 781ms\tremaining: 333ms\n",
      "701:\tlearn: 0.0186098\ttotal: 782ms\tremaining: 332ms\n",
      "702:\tlearn: 0.0185935\ttotal: 783ms\tremaining: 331ms\n",
      "703:\tlearn: 0.0185750\ttotal: 783ms\tremaining: 329ms\n",
      "704:\tlearn: 0.0185424\ttotal: 784ms\tremaining: 328ms\n",
      "705:\tlearn: 0.0185199\ttotal: 785ms\tremaining: 327ms\n",
      "706:\tlearn: 0.0185070\ttotal: 785ms\tremaining: 325ms\n",
      "707:\tlearn: 0.0184929\ttotal: 786ms\tremaining: 324ms\n",
      "708:\tlearn: 0.0184707\ttotal: 787ms\tremaining: 323ms\n",
      "709:\tlearn: 0.0184634\ttotal: 788ms\tremaining: 322ms\n",
      "710:\tlearn: 0.0184534\ttotal: 788ms\tremaining: 320ms\n",
      "711:\tlearn: 0.0184312\ttotal: 789ms\tremaining: 319ms\n",
      "712:\tlearn: 0.0184179\ttotal: 790ms\tremaining: 318ms\n",
      "713:\tlearn: 0.0183998\ttotal: 791ms\tremaining: 317ms\n",
      "714:\tlearn: 0.0183635\ttotal: 792ms\tremaining: 316ms\n",
      "715:\tlearn: 0.0183406\ttotal: 793ms\tremaining: 314ms\n",
      "716:\tlearn: 0.0183187\ttotal: 793ms\tremaining: 313ms\n",
      "717:\tlearn: 0.0183076\ttotal: 794ms\tremaining: 312ms\n",
      "718:\tlearn: 0.0182785\ttotal: 795ms\tremaining: 311ms\n",
      "719:\tlearn: 0.0182584\ttotal: 796ms\tremaining: 309ms\n",
      "720:\tlearn: 0.0182322\ttotal: 796ms\tremaining: 308ms\n",
      "721:\tlearn: 0.0182227\ttotal: 798ms\tremaining: 307ms\n",
      "722:\tlearn: 0.0181932\ttotal: 798ms\tremaining: 306ms\n",
      "723:\tlearn: 0.0181718\ttotal: 799ms\tremaining: 305ms\n",
      "724:\tlearn: 0.0181581\ttotal: 800ms\tremaining: 304ms\n",
      "725:\tlearn: 0.0181384\ttotal: 801ms\tremaining: 302ms\n",
      "726:\tlearn: 0.0181193\ttotal: 802ms\tremaining: 301ms\n",
      "727:\tlearn: 0.0181034\ttotal: 803ms\tremaining: 300ms\n",
      "728:\tlearn: 0.0180952\ttotal: 804ms\tremaining: 299ms\n",
      "729:\tlearn: 0.0180793\ttotal: 805ms\tremaining: 298ms\n",
      "730:\tlearn: 0.0180598\ttotal: 806ms\tremaining: 296ms\n",
      "731:\tlearn: 0.0180527\ttotal: 806ms\tremaining: 295ms\n",
      "732:\tlearn: 0.0180304\ttotal: 807ms\tremaining: 294ms\n",
      "733:\tlearn: 0.0180078\ttotal: 808ms\tremaining: 293ms\n",
      "734:\tlearn: 0.0179969\ttotal: 809ms\tremaining: 292ms\n",
      "735:\tlearn: 0.0179765\ttotal: 810ms\tremaining: 291ms\n",
      "736:\tlearn: 0.0179587\ttotal: 811ms\tremaining: 289ms\n",
      "737:\tlearn: 0.0179502\ttotal: 813ms\tremaining: 289ms\n",
      "738:\tlearn: 0.0179390\ttotal: 815ms\tremaining: 288ms\n",
      "739:\tlearn: 0.0179239\ttotal: 816ms\tremaining: 287ms\n",
      "740:\tlearn: 0.0178833\ttotal: 817ms\tremaining: 286ms\n",
      "741:\tlearn: 0.0178552\ttotal: 818ms\tremaining: 285ms\n",
      "742:\tlearn: 0.0178495\ttotal: 819ms\tremaining: 283ms\n",
      "743:\tlearn: 0.0178278\ttotal: 820ms\tremaining: 282ms\n",
      "744:\tlearn: 0.0178177\ttotal: 821ms\tremaining: 281ms\n",
      "745:\tlearn: 0.0177967\ttotal: 822ms\tremaining: 280ms\n"
     ]
    },
    {
     "name": "stdout",
     "output_type": "stream",
     "text": [
      "746:\tlearn: 0.0177691\ttotal: 823ms\tremaining: 279ms\n",
      "747:\tlearn: 0.0177602\ttotal: 825ms\tremaining: 278ms\n",
      "748:\tlearn: 0.0177322\ttotal: 826ms\tremaining: 277ms\n",
      "749:\tlearn: 0.0177162\ttotal: 827ms\tremaining: 276ms\n",
      "750:\tlearn: 0.0176982\ttotal: 829ms\tremaining: 275ms\n",
      "751:\tlearn: 0.0176813\ttotal: 830ms\tremaining: 274ms\n",
      "752:\tlearn: 0.0176739\ttotal: 830ms\tremaining: 272ms\n",
      "753:\tlearn: 0.0176575\ttotal: 831ms\tremaining: 271ms\n",
      "754:\tlearn: 0.0176279\ttotal: 832ms\tremaining: 270ms\n",
      "755:\tlearn: 0.0176079\ttotal: 833ms\tremaining: 269ms\n",
      "756:\tlearn: 0.0175876\ttotal: 836ms\tremaining: 268ms\n",
      "757:\tlearn: 0.0175672\ttotal: 839ms\tremaining: 268ms\n",
      "758:\tlearn: 0.0175561\ttotal: 842ms\tremaining: 267ms\n",
      "759:\tlearn: 0.0175398\ttotal: 843ms\tremaining: 266ms\n",
      "760:\tlearn: 0.0175360\ttotal: 847ms\tremaining: 266ms\n",
      "761:\tlearn: 0.0175337\ttotal: 850ms\tremaining: 265ms\n",
      "762:\tlearn: 0.0175023\ttotal: 855ms\tremaining: 266ms\n",
      "763:\tlearn: 0.0174792\ttotal: 857ms\tremaining: 265ms\n",
      "764:\tlearn: 0.0174718\ttotal: 858ms\tremaining: 264ms\n",
      "765:\tlearn: 0.0174645\ttotal: 862ms\tremaining: 263ms\n",
      "766:\tlearn: 0.0174459\ttotal: 865ms\tremaining: 263ms\n",
      "767:\tlearn: 0.0174313\ttotal: 868ms\tremaining: 262ms\n",
      "768:\tlearn: 0.0174067\ttotal: 870ms\tremaining: 261ms\n",
      "769:\tlearn: 0.0173943\ttotal: 873ms\tremaining: 261ms\n",
      "770:\tlearn: 0.0173695\ttotal: 875ms\tremaining: 260ms\n",
      "771:\tlearn: 0.0173528\ttotal: 876ms\tremaining: 259ms\n",
      "772:\tlearn: 0.0173214\ttotal: 877ms\tremaining: 257ms\n",
      "773:\tlearn: 0.0173144\ttotal: 877ms\tremaining: 256ms\n",
      "774:\tlearn: 0.0173073\ttotal: 878ms\tremaining: 255ms\n",
      "775:\tlearn: 0.0172940\ttotal: 880ms\tremaining: 254ms\n",
      "776:\tlearn: 0.0172709\ttotal: 880ms\tremaining: 253ms\n",
      "777:\tlearn: 0.0172427\ttotal: 881ms\tremaining: 251ms\n",
      "778:\tlearn: 0.0172155\ttotal: 882ms\tremaining: 250ms\n",
      "779:\tlearn: 0.0172087\ttotal: 883ms\tremaining: 249ms\n",
      "780:\tlearn: 0.0172031\ttotal: 884ms\tremaining: 248ms\n",
      "781:\tlearn: 0.0171922\ttotal: 886ms\tremaining: 247ms\n",
      "782:\tlearn: 0.0171809\ttotal: 886ms\tremaining: 246ms\n",
      "783:\tlearn: 0.0171773\ttotal: 887ms\tremaining: 244ms\n",
      "784:\tlearn: 0.0171657\ttotal: 887ms\tremaining: 243ms\n",
      "785:\tlearn: 0.0171482\ttotal: 888ms\tremaining: 242ms\n",
      "786:\tlearn: 0.0171414\ttotal: 889ms\tremaining: 241ms\n",
      "787:\tlearn: 0.0171145\ttotal: 889ms\tremaining: 239ms\n",
      "788:\tlearn: 0.0170957\ttotal: 890ms\tremaining: 238ms\n",
      "789:\tlearn: 0.0170768\ttotal: 890ms\tremaining: 237ms\n",
      "790:\tlearn: 0.0170540\ttotal: 891ms\tremaining: 235ms\n",
      "791:\tlearn: 0.0170294\ttotal: 891ms\tremaining: 234ms\n",
      "792:\tlearn: 0.0170127\ttotal: 892ms\tremaining: 233ms\n",
      "793:\tlearn: 0.0170019\ttotal: 893ms\tremaining: 232ms\n",
      "794:\tlearn: 0.0169968\ttotal: 894ms\tremaining: 230ms\n",
      "795:\tlearn: 0.0169773\ttotal: 895ms\tremaining: 229ms\n",
      "796:\tlearn: 0.0169609\ttotal: 896ms\tremaining: 228ms\n",
      "797:\tlearn: 0.0169374\ttotal: 897ms\tremaining: 227ms\n",
      "798:\tlearn: 0.0169327\ttotal: 899ms\tremaining: 226ms\n",
      "799:\tlearn: 0.0169225\ttotal: 900ms\tremaining: 225ms\n",
      "800:\tlearn: 0.0169163\ttotal: 901ms\tremaining: 224ms\n",
      "801:\tlearn: 0.0168992\ttotal: 902ms\tremaining: 223ms\n",
      "802:\tlearn: 0.0168958\ttotal: 903ms\tremaining: 221ms\n",
      "803:\tlearn: 0.0168695\ttotal: 904ms\tremaining: 220ms\n",
      "804:\tlearn: 0.0168538\ttotal: 904ms\tremaining: 219ms\n",
      "805:\tlearn: 0.0168388\ttotal: 905ms\tremaining: 218ms\n",
      "806:\tlearn: 0.0168355\ttotal: 906ms\tremaining: 217ms\n",
      "807:\tlearn: 0.0168189\ttotal: 907ms\tremaining: 215ms\n",
      "808:\tlearn: 0.0168006\ttotal: 908ms\tremaining: 214ms\n",
      "809:\tlearn: 0.0167837\ttotal: 909ms\tremaining: 213ms\n",
      "810:\tlearn: 0.0167753\ttotal: 910ms\tremaining: 212ms\n",
      "811:\tlearn: 0.0167579\ttotal: 911ms\tremaining: 211ms\n",
      "812:\tlearn: 0.0167420\ttotal: 914ms\tremaining: 210ms\n",
      "813:\tlearn: 0.0167327\ttotal: 916ms\tremaining: 209ms\n",
      "814:\tlearn: 0.0167198\ttotal: 916ms\tremaining: 208ms\n",
      "815:\tlearn: 0.0167024\ttotal: 917ms\tremaining: 207ms\n",
      "816:\tlearn: 0.0166941\ttotal: 919ms\tremaining: 206ms\n",
      "817:\tlearn: 0.0166743\ttotal: 919ms\tremaining: 205ms\n",
      "818:\tlearn: 0.0166598\ttotal: 920ms\tremaining: 203ms\n",
      "819:\tlearn: 0.0166483\ttotal: 921ms\tremaining: 202ms\n",
      "820:\tlearn: 0.0166377\ttotal: 922ms\tremaining: 201ms\n",
      "821:\tlearn: 0.0166308\ttotal: 923ms\tremaining: 200ms\n",
      "822:\tlearn: 0.0166160\ttotal: 924ms\tremaining: 199ms\n",
      "823:\tlearn: 0.0166108\ttotal: 924ms\tremaining: 197ms\n",
      "824:\tlearn: 0.0165881\ttotal: 925ms\tremaining: 196ms\n",
      "825:\tlearn: 0.0165840\ttotal: 926ms\tremaining: 195ms\n",
      "826:\tlearn: 0.0165808\ttotal: 927ms\tremaining: 194ms\n",
      "827:\tlearn: 0.0165710\ttotal: 929ms\tremaining: 193ms\n",
      "828:\tlearn: 0.0165421\ttotal: 930ms\tremaining: 192ms\n",
      "829:\tlearn: 0.0165150\ttotal: 931ms\tremaining: 191ms\n",
      "830:\tlearn: 0.0164905\ttotal: 931ms\tremaining: 189ms\n",
      "831:\tlearn: 0.0164670\ttotal: 932ms\tremaining: 188ms\n",
      "832:\tlearn: 0.0164615\ttotal: 933ms\tremaining: 187ms\n",
      "833:\tlearn: 0.0164437\ttotal: 934ms\tremaining: 186ms\n",
      "834:\tlearn: 0.0164292\ttotal: 935ms\tremaining: 185ms\n",
      "835:\tlearn: 0.0164202\ttotal: 936ms\tremaining: 184ms\n",
      "836:\tlearn: 0.0164138\ttotal: 936ms\tremaining: 182ms\n",
      "837:\tlearn: 0.0164102\ttotal: 936ms\tremaining: 181ms\n",
      "838:\tlearn: 0.0164058\ttotal: 939ms\tremaining: 180ms\n",
      "839:\tlearn: 0.0163944\ttotal: 940ms\tremaining: 179ms\n",
      "840:\tlearn: 0.0163902\ttotal: 941ms\tremaining: 178ms\n",
      "841:\tlearn: 0.0163672\ttotal: 942ms\tremaining: 177ms\n",
      "842:\tlearn: 0.0163638\ttotal: 944ms\tremaining: 176ms\n",
      "843:\tlearn: 0.0163416\ttotal: 944ms\tremaining: 174ms\n",
      "844:\tlearn: 0.0163331\ttotal: 945ms\tremaining: 173ms\n",
      "845:\tlearn: 0.0163126\ttotal: 946ms\tremaining: 172ms\n",
      "846:\tlearn: 0.0162869\ttotal: 947ms\tremaining: 171ms\n",
      "847:\tlearn: 0.0162729\ttotal: 948ms\tremaining: 170ms\n",
      "848:\tlearn: 0.0162514\ttotal: 949ms\tremaining: 169ms\n",
      "849:\tlearn: 0.0162482\ttotal: 950ms\tremaining: 168ms\n",
      "850:\tlearn: 0.0162264\ttotal: 951ms\tremaining: 166ms\n",
      "851:\tlearn: 0.0162029\ttotal: 952ms\tremaining: 165ms\n",
      "852:\tlearn: 0.0161963\ttotal: 952ms\tremaining: 164ms\n",
      "853:\tlearn: 0.0161824\ttotal: 953ms\tremaining: 163ms\n",
      "854:\tlearn: 0.0161716\ttotal: 954ms\tremaining: 162ms\n",
      "855:\tlearn: 0.0161645\ttotal: 955ms\tremaining: 161ms\n",
      "856:\tlearn: 0.0161521\ttotal: 956ms\tremaining: 159ms\n",
      "857:\tlearn: 0.0161382\ttotal: 956ms\tremaining: 158ms\n",
      "858:\tlearn: 0.0161254\ttotal: 957ms\tremaining: 157ms\n",
      "859:\tlearn: 0.0161096\ttotal: 959ms\tremaining: 156ms\n",
      "860:\tlearn: 0.0160981\ttotal: 960ms\tremaining: 155ms\n",
      "861:\tlearn: 0.0160933\ttotal: 961ms\tremaining: 154ms\n",
      "862:\tlearn: 0.0160880\ttotal: 963ms\tremaining: 153ms\n",
      "863:\tlearn: 0.0160672\ttotal: 964ms\tremaining: 152ms\n",
      "864:\tlearn: 0.0160605\ttotal: 964ms\tremaining: 151ms\n",
      "865:\tlearn: 0.0160359\ttotal: 965ms\tremaining: 149ms\n",
      "866:\tlearn: 0.0160206\ttotal: 966ms\tremaining: 148ms\n"
     ]
    },
    {
     "name": "stdout",
     "output_type": "stream",
     "text": [
      "867:\tlearn: 0.0160066\ttotal: 968ms\tremaining: 147ms\n",
      "868:\tlearn: 0.0159886\ttotal: 970ms\tremaining: 146ms\n",
      "869:\tlearn: 0.0159669\ttotal: 971ms\tremaining: 145ms\n",
      "870:\tlearn: 0.0159446\ttotal: 972ms\tremaining: 144ms\n",
      "871:\tlearn: 0.0159270\ttotal: 972ms\tremaining: 143ms\n",
      "872:\tlearn: 0.0159233\ttotal: 974ms\tremaining: 142ms\n",
      "873:\tlearn: 0.0159138\ttotal: 974ms\tremaining: 140ms\n",
      "874:\tlearn: 0.0158986\ttotal: 975ms\tremaining: 139ms\n",
      "875:\tlearn: 0.0158750\ttotal: 976ms\tremaining: 138ms\n",
      "876:\tlearn: 0.0158651\ttotal: 977ms\tremaining: 137ms\n",
      "877:\tlearn: 0.0158626\ttotal: 977ms\tremaining: 136ms\n",
      "878:\tlearn: 0.0158483\ttotal: 988ms\tremaining: 136ms\n",
      "879:\tlearn: 0.0158270\ttotal: 989ms\tremaining: 135ms\n",
      "880:\tlearn: 0.0158184\ttotal: 991ms\tremaining: 134ms\n",
      "881:\tlearn: 0.0158104\ttotal: 992ms\tremaining: 133ms\n",
      "882:\tlearn: 0.0158021\ttotal: 994ms\tremaining: 132ms\n",
      "883:\tlearn: 0.0157968\ttotal: 995ms\tremaining: 131ms\n",
      "884:\tlearn: 0.0157766\ttotal: 997ms\tremaining: 130ms\n",
      "885:\tlearn: 0.0157668\ttotal: 997ms\tremaining: 128ms\n",
      "886:\tlearn: 0.0157501\ttotal: 999ms\tremaining: 127ms\n",
      "887:\tlearn: 0.0157375\ttotal: 1s\tremaining: 126ms\n",
      "888:\tlearn: 0.0157238\ttotal: 1s\tremaining: 125ms\n",
      "889:\tlearn: 0.0157065\ttotal: 1s\tremaining: 124ms\n",
      "890:\tlearn: 0.0156900\ttotal: 1s\tremaining: 123ms\n",
      "891:\tlearn: 0.0156784\ttotal: 1s\tremaining: 122ms\n",
      "892:\tlearn: 0.0156632\ttotal: 1s\tremaining: 120ms\n",
      "893:\tlearn: 0.0156416\ttotal: 1.01s\tremaining: 119ms\n",
      "894:\tlearn: 0.0156255\ttotal: 1.01s\tremaining: 118ms\n",
      "895:\tlearn: 0.0156193\ttotal: 1.01s\tremaining: 117ms\n",
      "896:\tlearn: 0.0156068\ttotal: 1.01s\tremaining: 116ms\n",
      "897:\tlearn: 0.0155991\ttotal: 1.01s\tremaining: 115ms\n",
      "898:\tlearn: 0.0155802\ttotal: 1.01s\tremaining: 114ms\n",
      "899:\tlearn: 0.0155712\ttotal: 1.01s\tremaining: 113ms\n",
      "900:\tlearn: 0.0155586\ttotal: 1.02s\tremaining: 112ms\n",
      "901:\tlearn: 0.0155521\ttotal: 1.02s\tremaining: 111ms\n",
      "902:\tlearn: 0.0155366\ttotal: 1.02s\tremaining: 109ms\n",
      "903:\tlearn: 0.0155270\ttotal: 1.02s\tremaining: 108ms\n",
      "904:\tlearn: 0.0155074\ttotal: 1.02s\tremaining: 107ms\n",
      "905:\tlearn: 0.0154946\ttotal: 1.02s\tremaining: 106ms\n",
      "906:\tlearn: 0.0154761\ttotal: 1.02s\tremaining: 105ms\n",
      "907:\tlearn: 0.0154698\ttotal: 1.02s\tremaining: 104ms\n",
      "908:\tlearn: 0.0154559\ttotal: 1.02s\tremaining: 103ms\n",
      "909:\tlearn: 0.0154494\ttotal: 1.03s\tremaining: 101ms\n",
      "910:\tlearn: 0.0154448\ttotal: 1.03s\tremaining: 100ms\n",
      "911:\tlearn: 0.0154284\ttotal: 1.03s\tremaining: 99.3ms\n",
      "912:\tlearn: 0.0154173\ttotal: 1.03s\tremaining: 98.1ms\n",
      "913:\tlearn: 0.0153649\ttotal: 1.03s\tremaining: 96.9ms\n",
      "914:\tlearn: 0.0153584\ttotal: 1.03s\tremaining: 95.7ms\n",
      "915:\tlearn: 0.0153483\ttotal: 1.03s\tremaining: 94.5ms\n",
      "916:\tlearn: 0.0153299\ttotal: 1.03s\tremaining: 93.3ms\n",
      "917:\tlearn: 0.0153184\ttotal: 1.03s\tremaining: 92.1ms\n",
      "918:\tlearn: 0.0153101\ttotal: 1.03s\tremaining: 90.9ms\n",
      "919:\tlearn: 0.0152998\ttotal: 1.03s\tremaining: 89.7ms\n",
      "920:\tlearn: 0.0152898\ttotal: 1.03s\tremaining: 88.6ms\n",
      "921:\tlearn: 0.0152707\ttotal: 1.03s\tremaining: 87.4ms\n",
      "922:\tlearn: 0.0152524\ttotal: 1.03s\tremaining: 86.3ms\n",
      "923:\tlearn: 0.0152451\ttotal: 1.03s\tremaining: 85.1ms\n",
      "924:\tlearn: 0.0152367\ttotal: 1.03s\tremaining: 84ms\n",
      "925:\tlearn: 0.0152276\ttotal: 1.04s\tremaining: 82.9ms\n",
      "926:\tlearn: 0.0152144\ttotal: 1.04s\tremaining: 81.8ms\n",
      "927:\tlearn: 0.0152027\ttotal: 1.04s\tremaining: 80.6ms\n",
      "928:\tlearn: 0.0151874\ttotal: 1.04s\tremaining: 79.4ms\n",
      "929:\tlearn: 0.0151644\ttotal: 1.04s\tremaining: 78.3ms\n",
      "930:\tlearn: 0.0151548\ttotal: 1.04s\tremaining: 77.2ms\n",
      "931:\tlearn: 0.0151463\ttotal: 1.04s\tremaining: 76.2ms\n",
      "932:\tlearn: 0.0150965\ttotal: 1.04s\tremaining: 75ms\n",
      "933:\tlearn: 0.0150727\ttotal: 1.04s\tremaining: 73.9ms\n",
      "934:\tlearn: 0.0150594\ttotal: 1.05s\tremaining: 72.8ms\n",
      "935:\tlearn: 0.0150448\ttotal: 1.05s\tremaining: 71.7ms\n",
      "936:\tlearn: 0.0150347\ttotal: 1.05s\tremaining: 70.5ms\n",
      "937:\tlearn: 0.0150314\ttotal: 1.05s\tremaining: 69.4ms\n",
      "938:\tlearn: 0.0150212\ttotal: 1.05s\tremaining: 68.3ms\n",
      "939:\tlearn: 0.0150035\ttotal: 1.05s\tremaining: 67.2ms\n",
      "940:\tlearn: 0.0149866\ttotal: 1.05s\tremaining: 66ms\n",
      "941:\tlearn: 0.0149800\ttotal: 1.05s\tremaining: 64.9ms\n",
      "942:\tlearn: 0.0149740\ttotal: 1.06s\tremaining: 63.8ms\n",
      "943:\tlearn: 0.0149504\ttotal: 1.06s\tremaining: 62.7ms\n",
      "944:\tlearn: 0.0149452\ttotal: 1.06s\tremaining: 61.6ms\n",
      "945:\tlearn: 0.0149420\ttotal: 1.06s\tremaining: 60.5ms\n",
      "946:\tlearn: 0.0149219\ttotal: 1.06s\tremaining: 59.3ms\n",
      "947:\tlearn: 0.0149099\ttotal: 1.06s\tremaining: 58.3ms\n",
      "948:\tlearn: 0.0148945\ttotal: 1.06s\tremaining: 57.2ms\n",
      "949:\tlearn: 0.0148832\ttotal: 1.06s\tremaining: 56.1ms\n",
      "950:\tlearn: 0.0148800\ttotal: 1.07s\tremaining: 55ms\n",
      "951:\tlearn: 0.0148591\ttotal: 1.07s\tremaining: 53.8ms\n",
      "952:\tlearn: 0.0148398\ttotal: 1.07s\tremaining: 52.7ms\n",
      "953:\tlearn: 0.0148290\ttotal: 1.07s\tremaining: 51.6ms\n",
      "954:\tlearn: 0.0148203\ttotal: 1.07s\tremaining: 50.5ms\n",
      "955:\tlearn: 0.0148120\ttotal: 1.07s\tremaining: 49.4ms\n",
      "956:\tlearn: 0.0148034\ttotal: 1.07s\tremaining: 48.2ms\n",
      "957:\tlearn: 0.0147935\ttotal: 1.07s\tremaining: 47.1ms\n",
      "958:\tlearn: 0.0147799\ttotal: 1.08s\tremaining: 46ms\n",
      "959:\tlearn: 0.0147750\ttotal: 1.08s\tremaining: 44.9ms\n",
      "960:\tlearn: 0.0147665\ttotal: 1.08s\tremaining: 43.8ms\n",
      "961:\tlearn: 0.0147510\ttotal: 1.08s\tremaining: 42.7ms\n",
      "962:\tlearn: 0.0147360\ttotal: 1.08s\tremaining: 41.6ms\n",
      "963:\tlearn: 0.0147298\ttotal: 1.08s\tremaining: 40.5ms\n",
      "964:\tlearn: 0.0147156\ttotal: 1.08s\tremaining: 39.3ms\n",
      "965:\tlearn: 0.0147061\ttotal: 1.09s\tremaining: 38.3ms\n",
      "966:\tlearn: 0.0146971\ttotal: 1.09s\tremaining: 37.2ms\n",
      "967:\tlearn: 0.0146877\ttotal: 1.1s\tremaining: 36.4ms\n",
      "968:\tlearn: 0.0146821\ttotal: 1.1s\tremaining: 35.3ms\n",
      "969:\tlearn: 0.0146767\ttotal: 1.1s\tremaining: 34.1ms\n",
      "970:\tlearn: 0.0146663\ttotal: 1.1s\tremaining: 33ms\n",
      "971:\tlearn: 0.0146587\ttotal: 1.1s\tremaining: 31.9ms\n",
      "972:\tlearn: 0.0146484\ttotal: 1.11s\tremaining: 30.7ms\n",
      "973:\tlearn: 0.0146425\ttotal: 1.11s\tremaining: 29.6ms\n",
      "974:\tlearn: 0.0146222\ttotal: 1.11s\tremaining: 28.4ms\n"
     ]
    },
    {
     "name": "stdout",
     "output_type": "stream",
     "text": [
      "975:\tlearn: 0.0146139\ttotal: 1.11s\tremaining: 27.3ms\n",
      "976:\tlearn: 0.0146086\ttotal: 1.11s\tremaining: 26.2ms\n",
      "977:\tlearn: 0.0145774\ttotal: 1.11s\tremaining: 25.1ms\n",
      "978:\tlearn: 0.0145660\ttotal: 1.11s\tremaining: 23.9ms\n",
      "979:\tlearn: 0.0145469\ttotal: 1.12s\tremaining: 22.8ms\n",
      "980:\tlearn: 0.0145226\ttotal: 1.12s\tremaining: 21.6ms\n",
      "981:\tlearn: 0.0145086\ttotal: 1.12s\tremaining: 20.5ms\n",
      "982:\tlearn: 0.0144936\ttotal: 1.12s\tremaining: 19.4ms\n",
      "983:\tlearn: 0.0144699\ttotal: 1.12s\tremaining: 18.2ms\n",
      "984:\tlearn: 0.0144265\ttotal: 1.12s\tremaining: 17.1ms\n",
      "985:\tlearn: 0.0144152\ttotal: 1.12s\tremaining: 16ms\n",
      "986:\tlearn: 0.0144085\ttotal: 1.13s\tremaining: 14.8ms\n",
      "987:\tlearn: 0.0144001\ttotal: 1.13s\tremaining: 13.7ms\n",
      "988:\tlearn: 0.0143934\ttotal: 1.13s\tremaining: 12.5ms\n",
      "989:\tlearn: 0.0143904\ttotal: 1.13s\tremaining: 11.4ms\n",
      "990:\tlearn: 0.0143734\ttotal: 1.13s\tremaining: 10.3ms\n",
      "991:\tlearn: 0.0143519\ttotal: 1.13s\tremaining: 9.12ms\n",
      "992:\tlearn: 0.0143426\ttotal: 1.13s\tremaining: 7.98ms\n",
      "993:\tlearn: 0.0143261\ttotal: 1.13s\tremaining: 6.84ms\n",
      "994:\tlearn: 0.0143087\ttotal: 1.13s\tremaining: 5.7ms\n",
      "995:\tlearn: 0.0142948\ttotal: 1.14s\tremaining: 4.56ms\n",
      "996:\tlearn: 0.0142803\ttotal: 1.14s\tremaining: 3.42ms\n",
      "997:\tlearn: 0.0142759\ttotal: 1.14s\tremaining: 2.28ms\n",
      "998:\tlearn: 0.0142684\ttotal: 1.14s\tremaining: 1.14ms\n",
      "999:\tlearn: 0.0142491\ttotal: 1.14s\tremaining: 0us\n"
     ]
    },
    {
     "data": {
      "text/plain": [
       "<catboost.core.CatBoostRegressor at 0x7fbce7dde160>"
      ]
     },
     "execution_count": 9,
     "metadata": {},
     "output_type": "execute_result"
    }
   ],
   "source": [
    "#Train the Model \n",
    "prior_model = ctb.CatBoostRegressor()\n",
    "prior_model.fit(X_train,Y_train)"
   ]
  },
  {
   "cell_type": "code",
   "execution_count": 10,
   "id": "af65dcda",
   "metadata": {
    "execution": {
     "iopub.execute_input": "2022-07-24T15:34:19.383687Z",
     "iopub.status.busy": "2022-07-24T15:34:19.380584Z",
     "iopub.status.idle": "2022-07-24T15:34:19.470936Z",
     "shell.execute_reply": "2022-07-24T15:34:19.468801Z"
    },
    "id": "af65dcda",
    "papermill": {
     "duration": 0.119272,
     "end_time": "2022-07-24T15:34:19.478717",
     "exception": false,
     "start_time": "2022-07-24T15:34:19.359445",
     "status": "completed"
    },
    "tags": []
   },
   "outputs": [
    {
     "data": {
      "application/scrapbook.scrap.json+json": {
       "data": 0.0007256609828667485,
       "encoder": "json",
       "name": "Prior Model MSE",
       "version": 1
      }
     },
     "metadata": {
      "scrapbook": {
       "data": true,
       "display": false,
       "name": "Prior Model MSE"
      }
     },
     "output_type": "display_data"
    },
    {
     "data": {
      "application/scrapbook.scrap.json+json": {
       "data": 1.0028272186627887,
       "encoder": "json",
       "name": "ABC Pre-generator MSE",
       "version": 1
      }
     },
     "metadata": {
      "scrapbook": {
       "data": true,
       "display": false,
       "name": "ABC Pre-generator MSE"
      }
     },
     "output_type": "display_data"
    },
    {
     "data": {
      "application/scrapbook.scrap.json+json": {
       "data": 0.01771633476716811,
       "encoder": "json",
       "name": "Prior Model MAE",
       "version": 1
      }
     },
     "metadata": {
      "scrapbook": {
       "data": true,
       "display": false,
       "name": "Prior Model MAE"
      }
     },
     "output_type": "display_data"
    },
    {
     "name": "stdout",
     "output_type": "stream",
     "text": [
      "Prior Model MAE 0.01771633476716811\n",
      "ABC Pre-generator MAE 1.0009766251558896\n"
     ]
    }
   ],
   "source": [
    "y_pred = prior_model.predict(X_test)\n",
    "y_abc = y_pred + np.random.normal(0,variance, y_pred.shape) + bias \n",
    "mse = mean_squared_error(y_pred,Y_test)\n",
    "sb.glue(\"Prior Model MSE\",mse)\n",
    "mse = mean_squared_error(y_abc,Y_test)\n",
    "sb.glue(\"ABC Pre-generator MSE\",mse)\n",
    "mae = mean_absolute_error(y_pred,Y_test)\n",
    "sb.glue(\"Prior Model MAE\",mae)\n",
    "print(\"Prior Model MAE\",mae)\n",
    "mae = mean_absolute_error(y_abc,Y_test)\n",
    "print(\"ABC Pre-generator MAE\",mae)"
   ]
  },
  {
   "cell_type": "markdown",
   "id": "25609da2",
   "metadata": {
    "papermill": {
     "duration": 0.018078,
     "end_time": "2022-07-24T15:34:19.521368",
     "exception": false,
     "start_time": "2022-07-24T15:34:19.503290",
     "status": "completed"
    },
    "tags": []
   },
   "source": [
    "# mGAN Model"
   ]
  },
  {
   "cell_type": "code",
   "execution_count": 11,
   "id": "dfc3464d",
   "metadata": {
    "execution": {
     "iopub.execute_input": "2022-07-24T15:34:19.556089Z",
     "iopub.status.busy": "2022-07-24T15:34:19.554697Z",
     "iopub.status.idle": "2022-07-24T15:34:19.566789Z",
     "shell.execute_reply": "2022-07-24T15:34:19.561501Z"
    },
    "papermill": {
     "duration": 0.049323,
     "end_time": "2022-07-24T15:34:19.585795",
     "exception": false,
     "start_time": "2022-07-24T15:34:19.536472",
     "status": "completed"
    },
    "tags": []
   },
   "outputs": [],
   "source": [
    "# gen = network.Generator(n_features+1).to(device)\n",
    "# disc = network.Discriminator(n_features+1).to(device)\n",
    "\n",
    "# criterion = torch.nn.BCELoss()\n",
    "# gen_opt = torch.optim.Adam(gen.parameters(), lr=0.01, betas=(0.5, 0.999))\n",
    "# disc_opt = torch.optim.Adam(disc.parameters(), lr=0.01, betas=(0.5, 0.999))"
   ]
  },
  {
   "cell_type": "code",
   "execution_count": 12,
   "id": "b75fdd85",
   "metadata": {
    "execution": {
     "iopub.execute_input": "2022-07-24T15:34:19.623882Z",
     "iopub.status.busy": "2022-07-24T15:34:19.622755Z",
     "iopub.status.idle": "2022-07-24T15:34:19.631151Z",
     "shell.execute_reply": "2022-07-24T15:34:19.629542Z"
    },
    "papermill": {
     "duration": 0.033401,
     "end_time": "2022-07-24T15:34:19.638975",
     "exception": false,
     "start_time": "2022-07-24T15:34:19.605574",
     "status": "completed"
    },
    "tags": []
   },
   "outputs": [],
   "source": [
    "#Training the ABC_GAN \n",
    "# ABC_train_test2.training_GAN(disc,gen,disc_opt,gen_opt,train_data,batch_size,n_epochs,criterion,prior_model,variance,bias,device)"
   ]
  },
  {
   "cell_type": "code",
   "execution_count": 13,
   "id": "1fa7c368",
   "metadata": {
    "execution": {
     "iopub.execute_input": "2022-07-24T15:34:19.670438Z",
     "iopub.status.busy": "2022-07-24T15:34:19.669324Z",
     "iopub.status.idle": "2022-07-24T15:34:19.679288Z",
     "shell.execute_reply": "2022-07-24T15:34:19.675859Z"
    },
    "papermill": {
     "duration": 0.038567,
     "end_time": "2022-07-24T15:34:19.690225",
     "exception": false,
     "start_time": "2022-07-24T15:34:19.651658",
     "status": "completed"
    },
    "tags": []
   },
   "outputs": [],
   "source": [
    "# ABC_GAN1_metrics=ABC_train_test2.test_generator(gen,test_data,prior_model,variance,bias,\"1\",device)\n",
    "# sb.glue(\"ABC_GAN_1 Metrics\",ABC_GAN1_metrics)\n",
    "\n",
    "# print(\"MAE\")\n",
    "# print(mean(ABC_GAN1_metrics[1]))"
   ]
  },
  {
   "cell_type": "code",
   "execution_count": 14,
   "id": "eb22ce5c",
   "metadata": {
    "execution": {
     "iopub.execute_input": "2022-07-24T15:34:19.731401Z",
     "iopub.status.busy": "2022-07-24T15:34:19.730111Z",
     "iopub.status.idle": "2022-07-24T15:34:19.735351Z",
     "shell.execute_reply": "2022-07-24T15:34:19.734074Z"
    },
    "papermill": {
     "duration": 0.031851,
     "end_time": "2022-07-24T15:34:19.741294",
     "exception": false,
     "start_time": "2022-07-24T15:34:19.709443",
     "status": "completed"
    },
    "tags": []
   },
   "outputs": [],
   "source": [
    "# sanityChecks.discProbVsError(train_data,disc,device)\n",
    "# sanityChecks.discProbVsError(test_data,disc,device)"
   ]
  },
  {
   "cell_type": "markdown",
   "id": "8b7c9186",
   "metadata": {
    "papermill": {
     "duration": 0.017915,
     "end_time": "2022-07-24T15:34:19.780191",
     "exception": false,
     "start_time": "2022-07-24T15:34:19.762276",
     "status": "completed"
    },
    "tags": []
   },
   "source": [
    "# mGAN Model with TabNet Generator"
   ]
  },
  {
   "cell_type": "code",
   "execution_count": 15,
   "id": "3edd845a",
   "metadata": {
    "execution": {
     "iopub.execute_input": "2022-07-24T15:34:19.839023Z",
     "iopub.status.busy": "2022-07-24T15:34:19.838608Z",
     "iopub.status.idle": "2022-07-24T15:34:19.864352Z",
     "shell.execute_reply": "2022-07-24T15:34:19.862364Z"
    },
    "papermill": {
     "duration": 0.060197,
     "end_time": "2022-07-24T15:34:19.869839",
     "exception": false,
     "start_time": "2022-07-24T15:34:19.809642",
     "status": "completed"
    },
    "tags": []
   },
   "outputs": [],
   "source": [
    "gen2 = network.GeneratorTabnet(n_features+1).to(device)\n",
    "disc2 = network.Discriminator(n_features+1).to(device)\n",
    "\n",
    "criterion = torch.nn.BCELoss()\n",
    "gen_opt = torch.optim.Adam(gen2.parameters(), lr=0.01, betas=(0.5, 0.999))\n",
    "disc_opt = torch.optim.Adam(disc2.parameters(), lr=0.01, betas=(0.5, 0.999))"
   ]
  },
  {
   "cell_type": "code",
   "execution_count": 16,
   "id": "69fb3a18",
   "metadata": {
    "execution": {
     "iopub.execute_input": "2022-07-24T15:34:19.934453Z",
     "iopub.status.busy": "2022-07-24T15:34:19.933980Z",
     "iopub.status.idle": "2022-07-24T15:49:34.819746Z",
     "shell.execute_reply": "2022-07-24T15:49:34.817562Z"
    },
    "papermill": {
     "duration": 914.930782,
     "end_time": "2022-07-24T15:49:34.829013",
     "exception": false,
     "start_time": "2022-07-24T15:34:19.898231",
     "status": "completed"
    },
    "tags": []
   },
   "outputs": [
    {
     "data": {
      "image/png": "[encoded data removed]",
      "text/plain": [
       "<Figure size 432x288 with 1 Axes>"
      ]
     },
     "metadata": {
      "needs_background": "light"
     },
     "output_type": "display_data"
    },
    {
     "data": {
      "image/png": "[encoded data removed]",
      "text/plain": [
       "<Figure size 432x288 with 1 Axes>"
      ]
     },
     "metadata": {
      "needs_background": "light"
     },
     "output_type": "display_data"
    }
   ],
   "source": [
    "#Training the ABC_GAN \n",
    "ABC_train_test2.training_GAN(disc2,gen2,disc_opt,gen_opt,train_data,batch_size,n_epochs,criterion,prior_model,variance,bias,device)"
   ]
  },
  {
   "cell_type": "code",
   "execution_count": 17,
   "id": "7002092c",
   "metadata": {
    "execution": {
     "iopub.execute_input": "2022-07-24T15:49:34.878489Z",
     "iopub.status.busy": "2022-07-24T15:49:34.876971Z",
     "iopub.status.idle": "2022-07-24T15:49:37.293930Z",
     "shell.execute_reply": "2022-07-24T15:49:37.292092Z"
    },
    "papermill": {
     "duration": 2.442026,
     "end_time": "2022-07-24T15:49:37.298411",
     "exception": false,
     "start_time": "2022-07-24T15:49:34.856385",
     "status": "completed"
    },
    "tags": []
   },
   "outputs": [
    {
     "data": {
      "application/scrapbook.scrap.json+json": {
       "data": 0.00583773708488311,
       "encoder": "json",
       "name": "ABC-GAN Model 1 MSE",
       "version": 1
      }
     },
     "metadata": {
      "scrapbook": {
       "data": true,
       "display": false,
       "name": "ABC-GAN Model 1 MSE"
      }
     },
     "output_type": "display_data"
    },
    {
     "data": {
      "application/scrapbook.scrap.json+json": {
       "data": 0.049613541727522754,
       "encoder": "json",
       "name": "ABC-GAN Model 1 MAE",
       "version": 1
      }
     },
     "metadata": {
      "scrapbook": {
       "data": true,
       "display": false,
       "name": "ABC-GAN Model 1 MAE"
      }
     },
     "output_type": "display_data"
    },
    {
     "data": {
      "application/scrapbook.scrap.json+json": {
       "data": 7.640485426038504,
       "encoder": "json",
       "name": "ABC-GAN Model 1 Manhattan Distance",
       "version": 1
      }
     },
     "metadata": {
      "scrapbook": {
       "data": true,
       "display": false,
       "name": "ABC-GAN Model 1 Manhattan Distance"
      }
     },
     "output_type": "display_data"
    },
    {
     "data": {
      "application/scrapbook.scrap.json+json": {
       "data": 0.9480862178152922,
       "encoder": "json",
       "name": "ABC-GAN Model 1 Euclidean distance",
       "version": 1
      }
     },
     "metadata": {
      "scrapbook": {
       "data": true,
       "display": false,
       "name": "ABC-GAN Model 1 Euclidean distance"
      }
     },
     "output_type": "display_data"
    },
    {
     "data": {
      "application/scrapbook.scrap.json+json": {
       "data": [
        [
         0.005852630812788086,
         0.0061365843237665635,
         0.00579145561826815,
         0.005776948010957214,
         0.0054514966288949805,
         0.005966026075574798,
         0.006120247126582894,
         0.005646098008297955,
         0.005854686285928199,
         0.005906634180554758,
         0.005809167979202714,
         0.005731963021545299,
         0.005981859899983775,
         0.006174639189380283,
         0.0057423263274948054,
         0.005914394318010273,
         0.005752336573559995,
         0.0058253476819285326,
         0.00578611765636693,
         0.005975920941159167,
         0.005784469666844064,
         0.005931250454055978,
         0.005912493123427814,
         0.005778639059927919,
         0.005556554946548221,
         0.005697190793592075,
         0.005803072248423059,
         0.005977318276682222,
         0.0058637317159437085,
         0.0056402845966180715,
         0.005839684065140915,
         0.006001049267545853,
         0.006034132905625901,
         0.005665664259418669,
         0.006030624387674408,
         0.005902631458163642,
         0.005952025322552497,
         0.005865931486388584,
         0.0057203228347217725,
         0.005804450257517099,
         0.005843100849036518,
         0.005712007140061945,
         0.0056902943564045684,
         0.00592677002888991,
         0.005824791261225356,
         0.006051906548879919,
         0.00573926278029245,
         0.005996694404952647,
         0.005698694807407626,
         0.005875613481575813,
         0.005804671807202944,
         0.0057159005426478,
         0.00593522601756715,
         0.005728837556126007,
         0.005877029158220161,
         0.005943568741345752,
         0.005638931030902094,
         0.005913898772728068,
         0.005719467689607923,
         0.005745144016014446,
         0.005737825602173842,
         0.005803593825263454,
         0.005964891723330647,
         0.00597739979806355,
         0.00570322559911175,
         0.00562480826399247,
         0.005920302400610911,
         0.005685981405469833,
         0.006013420797209321,
         0.005562822337732026,
         0.005801390218169467,
         0.005841082199622459,
         0.006081990024242771,
         0.005960201119774155,
         0.005885291481648237,
         0.006051440066821778,
         0.005683617230315149,
         0.006234504572058567,
         0.005977238220804305,
         0.0057046358314213055,
         0.005869016565903764,
         0.005474977705674145,
         0.006066878607095566,
         0.00567397777624839,
         0.005848466312858172,
         0.005983173937453655,
         0.005971888798338146,
         0.005744234772002052,
         0.005746121154063565,
         0.005817612936418873,
         0.005649076277978373,
         0.0059606406474784395,
         0.005689730129180491,
         0.005684099564237114,
         0.005960502725923511,
         0.0058257814675407495,
         0.005666978519663021,
         0.005847338588141764,
         0.005846695466198589,
         0.005890641039929658
        ],
        [
         0.049503722748199065,
         0.051394626401461564,
         0.05008060417392037,
         0.04899924567767552,
         0.04788354000487885,
         0.05047724192792719,
         0.05085647425481251,
         0.048786589754866314,
         0.049175165883906476,
         0.05033014047068435,
         0.05030894085958407,
         0.0499880313873291,
         0.050084830878616926,
         0.05096447071084728,
         0.04872193206827362,
         0.04988078656908754,
         0.04856941374865445,
         0.04913761882812946,
         0.04905241737505058,
         0.04925569011406465,
         0.049312036242577933,
         0.05032770393730758,
         0.05021064844611403,
         0.0494360090656714,
         0.04782398441782246,
         0.04890030999849369,
         0.04883234783426508,
         0.04932886768471111,
         0.049718803496329816,
         0.04900699573290813,
         0.04863975216428955,
         0.051237681082316806,
         0.04977882779263831,
         0.04868856507849384,
         0.050342953340573746,
         0.05039857424698867,
         0.05030199304803625,
         0.04949475699043893,
         0.049346446120119715,
         0.04974423000564823,
         0.04970360924671223,
         0.04825558319881365,
         0.04842314143459518,
         0.05031720190853268,
         0.0495828590416289,
         0.05099202179676526,
         0.04961178800115337,
         0.05066245716887635,
         0.04912224324879708,
         0.04996131863686946,
         0.048733910666657734,
         0.04842213521917145,
         0.04976830234775295,
         0.04902386713724632,
         0.05035312396365327,
         0.05091172272895838,
         0.049166220736193963,
         0.050198359342364524,
         0.048760636673345195,
         0.04939867052939031,
         0.0494024067536577,
         0.04936795178558919,
         0.05012012031171229,
         0.05047642217053996,
         0.04918440895808208,
         0.04835396869616075,
         0.05050044719661985,
         0.04807373107253731,
         0.050485363157538626,
         0.048163161068767696,
         0.04983632992227356,
         0.05020072901403749,
         0.051070006056265396,
         0.05115531026930004,
         0.05038389195869496,
         0.05070081962780519,
         0.04914602530854089,
         0.05143345340892866,
         0.050137410980540434,
         0.04876427633034718,
         0.04939943677806235,
         0.047956659519053126,
         0.050357344475659455,
         0.04857889011308744,
         0.04958583143624393,
         0.05059724155958597,
         0.0499166405046141,
         0.0490557374311732,
         0.04942727446943134,
         0.04995277553022682,
         0.04812995412132957,
         0.049574991422040124,
         0.04862492802468213,
         0.04930021778329626,
         0.04968179665602647,
         0.04973922060294585,
         0.04892170564694838,
         0.04997938745594644,
         0.05004403062842109,
         0.049881730954368396
        ],
        [
         7.623573303222656,
         7.914772465825081,
         7.712413042783737,
         7.54588383436203,
         7.374065160751343,
         7.773495256900787,
         7.831897035241127,
         7.5131348222494125,
         7.572975546121597,
         7.75084163248539,
         7.747576892375946,
         7.698156833648682,
         7.713063955307007,
         7.848528489470482,
         7.503177538514137,
         7.681641131639481,
         7.479689717292786,
         7.567193299531937,
         7.55407227575779,
         7.585376277565956,
         7.594053581357002,
         7.750466406345367,
         7.732439860701561,
         7.613145396113396,
         7.364893600344658,
         7.530647739768028,
         7.520181566476822,
         7.596645623445511,
         7.656695738434792,
         7.547077342867851,
         7.4905218333005905,
         7.890602886676788,
         7.665939480066299,
         7.498039022088051,
         7.752814814448357,
         7.761380434036255,
         7.746506929397583,
         7.6221925765275955,
         7.599352702498436,
         7.660611420869827,
         7.654355823993683,
         7.431359812617302,
         7.457163780927658,
         7.748849093914032,
         7.6357602924108505,
         7.852771356701851,
         7.64021535217762,
         7.802018404006958,
         7.564825460314751,
         7.694043070077896,
         7.505022242665291,
         7.457008823752403,
         7.664318561553955,
         7.549675539135933,
         7.754381090402603,
         7.84040530025959,
         7.571597993373871,
         7.730547338724136,
         7.50913804769516,
         7.607395261526108,
         7.607970640063286,
         7.602664574980736,
         7.718498528003693,
         7.773369014263153,
         7.57439897954464,
         7.4465111792087555,
         7.777068868279457,
         7.403354585170746,
         7.774745926260948,
         7.417126804590225,
         7.6747948080301285,
         7.730912268161774,
         7.864780932664871,
         7.877917781472206,
         7.759119361639023,
         7.807926222681999,
         7.568487897515297,
         7.920751824975014,
         7.721161291003227,
         7.5096985548734665,
         7.607513263821602,
         7.385325565934181,
         7.755031049251556,
         7.481149077415466,
         7.636218041181564,
         7.791975200176239,
         7.687162637710571,
         7.554583564400673,
         7.611800268292427,
         7.69272743165493,
         7.412012934684753,
         7.634548678994179,
         7.488238915801048,
         7.5922335386276245,
         7.650996685028076,
         7.659839972853661,
         7.533942669630051,
         7.696825668215752,
         7.706780716776848,
         7.6817865669727325
        ],
        [
         0.9493709207519289,
         0.9721285850442063,
         0.9443961908083361,
         0.9432125919894258,
         0.9162589594922534,
         0.9585238732752143,
         0.970833691985278,
         0.9324693524603824,
         0.9495376180188664,
         0.9537408787534656,
         0.9458392404617277,
         0.9395330251342824,
         0.9597949909212391,
         0.9751381620901541,
         0.9403819726229338,
         0.9543671856123209,
         0.9412012708917467,
         0.9471555009696105,
         0.9439608673459442,
         0.9593184168661163,
         0.9438264293258511,
         0.955726200292019,
         0.9542137816065556,
         0.9433506321770816,
         0.9250456538833237,
         0.9366789109471717,
         0.9453428617476048,
         0.9594305678938222,
         0.9502708478404097,
         0.9319891779839415,
         0.9483202760838243,
         0.96133323421281,
         0.9639794953557823,
         0.9340836664616693,
         0.9636992039541481,
         0.9534176653267973,
         0.9573985061995264,
         0.9504490774911836,
         0.9385785617342605,
         0.9454550965845142,
         0.9485976653732728,
         0.937896102758477,
         0.9361118153758682,
         0.9553651576486585,
         0.9471102650846441,
         0.9653981606194967,
         0.9401310909469154,
         0.9609843590624707,
         0.9368025407420575,
         0.9512331344957845,
         0.9454731399195079,
         0.9382156913885853,
         0.9560464458933683,
         0.9392768407894475,
         0.9513477231622015,
         0.9567181330816542,
         0.9318773410481245,
         0.9543272033218598,
         0.9385084039046321,
         0.9406126612300223,
         0.9400133736999552,
         0.9453853442330127,
         0.9584327443242534,
         0.9594371104464255,
         0.9371748728296174,
         0.9307096607722735,
         0.9548437409828272,
         0.9357569857833572,
         0.9623236476208176,
         0.9255671990788847,
         0.9452058472090076,
         0.9484337924925802,
         0.9677946392357145,
         0.958055829503281,
         0.9520162226421504,
         0.9653609533695434,
         0.9355624262808618,
         0.979853919774279,
         0.959424142912749,
         0.9372907329312933,
         0.9506989803030083,
         0.9182301272958856,
         0.9665915918797955,
         0.934768729441808,
         0.9490330933008387,
         0.9599004044003018,
         0.9589947210199201,
         0.9405382261706942,
         0.9406926478535851,
         0.9465264878536186,
         0.9327152549458325,
         0.9580911541767201,
         0.9360654036411107,
         0.9356021231765753,
         0.9580800696143411,
         0.9471907653695085,
         0.9341919995526109,
         0.9489415907071581,
         0.9488894044063211,
         0.9524488018519249
        ]
       ],
       "encoder": "json",
       "name": "ABC_GAN_2 Metrics",
       "version": 1
      }
     },
     "metadata": {
      "scrapbook": {
       "data": true,
       "display": false,
       "name": "ABC_GAN_2 Metrics"
      }
     },
     "output_type": "display_data"
    },
    {
     "name": "stdout",
     "output_type": "stream",
     "text": [
      "MAE\n",
      "0.049613541727522754\n"
     ]
    }
   ],
   "source": [
    "ABC_GAN2_metrics=ABC_train_test2.test_generator(gen2,test_data,prior_model,variance,bias,\"1\",device)\n",
    "sb.glue(\"ABC_GAN_2 Metrics\",ABC_GAN2_metrics)\n",
    "\n",
    "print(\"MAE\")\n",
    "print(mean(ABC_GAN2_metrics[1]))"
   ]
  },
  {
   "cell_type": "code",
   "execution_count": 18,
   "id": "3f2bd092",
   "metadata": {
    "execution": {
     "iopub.execute_input": "2022-07-24T15:49:37.340960Z",
     "iopub.status.busy": "2022-07-24T15:49:37.339902Z",
     "iopub.status.idle": "2022-07-24T15:49:38.549170Z",
     "shell.execute_reply": "2022-07-24T15:49:38.546805Z"
    },
    "papermill": {
     "duration": 1.233771,
     "end_time": "2022-07-24T15:49:38.553526",
     "exception": false,
     "start_time": "2022-07-24T15:49:37.319755",
     "status": "completed"
    },
    "tags": []
   },
   "outputs": [
    {
     "data": {
      "image/png": "[encoded data removed]",
      "text/plain": [
       "<Figure size 432x288 with 1 Axes>"
      ]
     },
     "metadata": {
      "needs_background": "light"
     },
     "output_type": "display_data"
    },
    {
     "data": {
      "image/png": "[encoded data removed]",
      "text/plain": [
       "<Figure size 432x288 with 1 Axes>"
      ]
     },
     "metadata": {
      "needs_background": "light"
     },
     "output_type": "display_data"
    },
    {
     "data": {
      "image/png": "[encoded data removed]",
      "text/plain": [
       "<Figure size 432x288 with 1 Axes>"
      ]
     },
     "metadata": {
      "needs_background": "light"
     },
     "output_type": "display_data"
    },
    {
     "data": {
      "image/png": "[encoded data removed]",
      "text/plain": [
       "<Figure size 432x288 with 1 Axes>"
      ]
     },
     "metadata": {
      "needs_background": "light"
     },
     "output_type": "display_data"
    }
   ],
   "source": [
    "sanityChecks.discProbVsError(train_data,disc2,device)\n",
    "sanityChecks.discProbVsError(test_data,disc2,device)"
   ]
  },
  {
   "cell_type": "markdown",
   "id": "130f3a4d",
   "metadata": {
    "id": "130f3a4d",
    "papermill": {
     "duration": 0.017998,
     "end_time": "2022-07-24T15:49:38.611855",
     "exception": false,
     "start_time": "2022-07-24T15:49:38.593857",
     "status": "completed"
    },
    "tags": []
   },
   "source": [
    "# skipGAN Model"
   ]
  },
  {
   "cell_type": "code",
   "execution_count": 19,
   "id": "4e43dad1",
   "metadata": {
    "execution": {
     "iopub.execute_input": "2022-07-24T15:49:38.651979Z",
     "iopub.status.busy": "2022-07-24T15:49:38.651257Z",
     "iopub.status.idle": "2022-07-24T15:49:38.667587Z",
     "shell.execute_reply": "2022-07-24T15:49:38.664972Z"
    },
    "id": "4e43dad1",
    "papermill": {
     "duration": 0.043959,
     "end_time": "2022-07-24T15:49:38.673301",
     "exception": false,
     "start_time": "2022-07-24T15:49:38.629342",
     "status": "completed"
    },
    "tags": []
   },
   "outputs": [],
   "source": [
    "#Generator\n",
    "gen3 = network.GeneratorWithSkipConnection(n_features+1).to(device)\n",
    "constraints=network.weightConstraint()\n",
    "#Discriminator \n",
    "disc3 = network.Discriminator(n_features+1).to(device)\n",
    "\n",
    "criterion = torch.nn.BCELoss()\n",
    "gen_opt = torch.optim.Adam(gen3.parameters(), lr=0.01, betas=(0.5, 0.999))\n",
    "disc_opt = torch.optim.Adam(disc3.parameters(), lr=0.01, betas=(0.5, 0.999))\n"
   ]
  },
  {
   "cell_type": "code",
   "execution_count": 20,
   "id": "26acbc37",
   "metadata": {
    "execution": {
     "iopub.execute_input": "2022-07-24T15:49:38.715562Z",
     "iopub.status.busy": "2022-07-24T15:49:38.713593Z",
     "iopub.status.idle": "2022-07-24T15:58:45.774829Z",
     "shell.execute_reply": "2022-07-24T15:58:45.765742Z"
    },
    "id": "26acbc37",
    "papermill": {
     "duration": 547.091628,
     "end_time": "2022-07-24T15:58:45.781841",
     "exception": false,
     "start_time": "2022-07-24T15:49:38.690213",
     "status": "completed"
    },
    "tags": []
   },
   "outputs": [
    {
     "data": {
      "image/png": "[encoded data removed]",
      "text/plain": [
       "<Figure size 432x288 with 1 Axes>"
      ]
     },
     "metadata": {
      "needs_background": "light"
     },
     "output_type": "display_data"
    },
    {
     "data": {
      "image/png": "[encoded data removed]",
      "text/plain": [
       "<Figure size 432x288 with 1 Axes>"
      ]
     },
     "metadata": {
      "needs_background": "light"
     },
     "output_type": "display_data"
    }
   ],
   "source": [
    "ABC_train_test2.training_GAN_skip_connection(disc3,gen3,disc_opt,gen_opt,train_data,batch_size,n_epochs,criterion,prior_model,variance,bias,device)"
   ]
  },
  {
   "cell_type": "code",
   "execution_count": 21,
   "id": "c5e0717b",
   "metadata": {
    "execution": {
     "iopub.execute_input": "2022-07-24T15:58:45.831075Z",
     "iopub.status.busy": "2022-07-24T15:58:45.830029Z",
     "iopub.status.idle": "2022-07-24T15:58:47.748636Z",
     "shell.execute_reply": "2022-07-24T15:58:47.747361Z"
    },
    "id": "c5e0717b",
    "papermill": {
     "duration": 1.949603,
     "end_time": "2022-07-24T15:58:47.751918",
     "exception": false,
     "start_time": "2022-07-24T15:58:45.802315",
     "status": "completed"
    },
    "tags": []
   },
   "outputs": [
    {
     "data": {
      "application/scrapbook.scrap.json+json": {
       "data": 0.010395382377436544,
       "encoder": "json",
       "name": "ABC-GAN Model 3 MSE",
       "version": 1
      }
     },
     "metadata": {
      "scrapbook": {
       "data": true,
       "display": false,
       "name": "ABC-GAN Model 3 MSE"
      }
     },
     "output_type": "display_data"
    },
    {
     "data": {
      "application/scrapbook.scrap.json+json": {
       "data": 0.08943576514527395,
       "encoder": "json",
       "name": "ABC-GAN Model 3 MAE",
       "version": 1
      }
     },
     "metadata": {
      "scrapbook": {
       "data": true,
       "display": false,
       "name": "ABC-GAN Model 3 MAE"
      }
     },
     "output_type": "display_data"
    },
    {
     "data": {
      "application/scrapbook.scrap.json+json": {
       "data": 13.773107832372188,
       "encoder": "json",
       "name": "ABC-GAN Model 3 Manhattan Distance",
       "version": 1
      }
     },
     "metadata": {
      "scrapbook": {
       "data": true,
       "display": false,
       "name": "ABC-GAN Model 3 Manhattan Distance"
      }
     },
     "output_type": "display_data"
    },
    {
     "data": {
      "application/scrapbook.scrap.json+json": {
       "data": 1.2652280634481468,
       "encoder": "json",
       "name": "ABC-GAN Model 3 Euclidean distance",
       "version": 1
      }
     },
     "metadata": {
      "scrapbook": {
       "data": true,
       "display": false,
       "name": "ABC-GAN Model 3 Euclidean distance"
      }
     },
     "output_type": "display_data"
    },
    {
     "data": {
      "application/scrapbook.scrap.json+json": {
       "data": [
        [
         0.010542006408061714,
         0.010618977491814863,
         0.010369467602878326,
         0.010654372807700704,
         0.010459186481607154,
         0.010170135579976848,
         0.010351873856496671,
         0.010273921201680242,
         0.01052297260467101,
         0.010541614051420841,
         0.010592410323158101,
         0.010201511504261936,
         0.010404770801877171,
         0.010247046251250972,
         0.010576460593979634,
         0.010403508031859326,
         0.010428234356625007,
         0.010240007641394837,
         0.010398643152294103,
         0.010221664424638989,
         0.010361654735368148,
         0.01056301973694385,
         0.0104623621127104,
         0.010282972581664348,
         0.010428967613058488,
         0.010395772589683609,
         0.010201322383216024,
         0.010567287480692291,
         0.010392389006754214,
         0.010563595411362772,
         0.010110753480414429,
         0.010218824836529514,
         0.010107259273625246,
         0.01029700402903032,
         0.010439524833487654,
         0.010545889484054424,
         0.010188162926768734,
         0.010226235517388165,
         0.010510662153875857,
         0.010136753047071578,
         0.009985392702617028,
         0.010335108067192659,
         0.01034631762599281,
         0.010288900010980054,
         0.010369524386224443,
         0.010232528116144803,
         0.010240600818985035,
         0.010311484710869762,
         0.010590089738388084,
         0.010365897536240974,
         0.010449456589119185,
         0.010650735931250628,
         0.01050833186812985,
         0.010240556325573748,
         0.010459174089003431,
         0.01005181910183946,
         0.010394146589993469,
         0.010363807682988821,
         0.010165259492650649,
         0.01074221060422898,
         0.010276008025889578,
         0.01060322663544759,
         0.010534792831670858,
         0.01032031941700544,
         0.010352863881599148,
         0.010225509026007322,
         0.01044731894135297,
         0.010668634928263091,
         0.010461937457410206,
         0.010286752123117322,
         0.010495240978766097,
         0.010421969748988942,
         0.010601340702029026,
         0.010349853807169877,
         0.010446906713458565,
         0.01045445257241154,
         0.010395961358859479,
         0.010457967959403328,
         0.010451915588765168,
         0.010367149331986477,
         0.01047165978465642,
         0.010478016180555228,
         0.010293257962721191,
         0.01035040892547571,
         0.010757742605504685,
         0.01071654362644838,
         0.010470991875076073,
         0.01034426171357808,
         0.010481801544140763,
         0.01044555627870371,
         0.010424072656594343,
         0.010479359713857635,
         0.010507767805365753,
         0.010443851014792224,
         0.010120227506049474,
         0.010379375415943295,
         0.010320730791184998,
         0.010422577256197314,
         0.010214596422372576,
         0.010484776245072098
        ],
        [
         0.09044677270697309,
         0.09062370522455736,
         0.0893881307406859,
         0.0906195201269992,
         0.08999277670662124,
         0.08888260342858055,
         0.08955573938883744,
         0.08897253638738162,
         0.09006816593857554,
         0.09018771447144545,
         0.09055965403457741,
         0.08787470804406451,
         0.08952618728984486,
         0.08860216860647326,
         0.0904741943269581,
         0.08952654917518814,
         0.08964299749244344,
         0.08842603610707568,
         0.08957189244109315,
         0.08943078521784249,
         0.08950553834438324,
         0.08940557574296927,
         0.08973173893891372,
         0.088807085311258,
         0.0901741199679189,
         0.08966554875497694,
         0.08843286916033014,
         0.09029075329179888,
         0.08928892287341031,
         0.08981820012067819,
         0.08776786942760666,
         0.08856148146963738,
         0.08821802576640983,
         0.08874185828419474,
         0.08968102583637486,
         0.08950086518541558,
         0.08867576118413505,
         0.08891137834493217,
         0.09005965756905543,
         0.088320144004636,
         0.08781408373411599,
         0.08907654823420884,
         0.08925286051514861,
         0.08834710949427121,
         0.08893980976049003,
         0.08785709874196486,
         0.08938079762768436,
         0.08926582084847735,
         0.08981454894914255,
         0.08951099681389796,
         0.08977154632667442,
         0.09060864924610436,
         0.0899260380825439,
         0.0893421834939486,
         0.08977403191777018,
         0.08807451345703819,
         0.08938243656189411,
         0.08944053851164781,
         0.0882352710544289,
         0.09058621138721318,
         0.08904007715838295,
         0.08952779506708121,
         0.08997745386191777,
         0.08884501902313975,
         0.08927674514132661,
         0.08853179235737045,
         0.09004541534882088,
         0.09116182408549568,
         0.08961175691771817,
         0.08931677952989356,
         0.0892697504975579,
         0.08951873129064386,
         0.09038941000963187,
         0.08927289444904823,
         0.08956116089573155,
         0.08953120549777885,
         0.08904537074751669,
         0.0894487409235595,
         0.08923352964512714,
         0.08942706573319126,
         0.08986718101160866,
         0.08978859731903324,
         0.08925114417230928,
         0.08895597519812645,
         0.09040541482436193,
         0.09104339197858588,
         0.09035097004531266,
         0.08921534442282342,
         0.09000824411194046,
         0.09031762240769027,
         0.08990755386940845,
         0.08959113661344949,
         0.0896292876500588,
         0.08981834468129393,
         0.08799123357642781,
         0.08945426460984465,
         0.08939000209430595,
         0.08926933036222086,
         0.08878415706869844,
         0.09017244813504158
        ],
        [
         13.928802996873856,
         13.956050604581833,
         13.765772134065628,
         13.955406099557877,
         13.858887612819672,
         13.687920928001404,
         13.791583865880966,
         13.701770603656769,
         13.870497554540634,
         13.8889080286026,
         13.94618672132492,
         13.532705038785934,
         13.787032842636108,
         13.644733965396881,
         13.933025926351547,
         13.787088572978973,
         13.805021613836288,
         13.617609560489655,
         13.794071435928345,
         13.772340923547745,
         13.783852905035019,
         13.768458664417267,
         13.818687796592712,
         13.676291137933731,
         13.88681447505951,
         13.808494508266449,
         13.618661850690842,
         13.904776006937027,
         13.750494122505188,
         13.832002818584442,
         13.516251891851425,
         13.638468146324158,
         13.585575968027115,
         13.666246175765991,
         13.810877978801727,
         13.783133238554,
         13.656067222356796,
         13.692352265119553,
         13.869187265634537,
         13.601302176713943,
         13.523368895053864,
         13.717788428068161,
         13.744940519332886,
         13.605454862117767,
         13.696730703115463,
         13.529993206262589,
         13.764642834663391,
         13.746936410665512,
         13.831440538167953,
         13.784693509340286,
         13.824818134307861,
         13.95373198390007,
         13.848609864711761,
         13.758696258068085,
         13.825200915336609,
         13.56347507238388,
         13.764895230531693,
         13.773842930793762,
         13.58823174238205,
         13.950276553630829,
         13.712171882390976,
         13.787280440330505,
         13.856527894735336,
         13.682132929563522,
         13.748618751764297,
         13.63389602303505,
         13.866993963718414,
         14.038920909166336,
         13.800210565328598,
         13.754784047603607,
         13.747541576623917,
         13.785884618759155,
         13.919969141483307,
         13.748025745153427,
         13.792418777942657,
         13.787805646657944,
         13.712987095117569,
         13.775106102228165,
         13.741963565349579,
         13.771768122911453,
         13.839545875787735,
         13.827443987131119,
         13.74467620253563,
         13.699220180511475,
         13.922433882951736,
         14.020682364702225,
         13.91404938697815,
         13.739163041114807,
         13.86126959323883,
         13.908913850784302,
         13.8457632958889,
         13.797035038471222,
         13.802910298109055,
         13.832025080919266,
         13.550649970769882,
         13.775956749916077,
         13.766060322523117,
         13.747476875782013,
         13.67276018857956,
         13.886557012796402
        ],
        [
         1.274154224119476,
         1.2787972997076156,
         1.2636843003073444,
         1.2809267786981067,
         1.2691393612080202,
         1.251479476186659,
         1.2626118064949683,
         1.2578489039064895,
         1.2730034489817126,
         1.2741305129062759,
         1.2771966135902286,
         1.253408461618294,
         1.265833600237047,
         1.256202659881219,
         1.2762346694369588,
         1.2657567842624176,
         1.2672600723293743,
         1.2557711482490768,
         1.2654608036021076,
         1.2546458948222818,
         1.2632081496122065,
         1.2754234745720157,
         1.269332015414959,
         1.2584028677559145,
         1.267304624946586,
         1.2652861252741514,
         1.2533968433881058,
         1.2756811012265616,
         1.265080197868953,
         1.2754582287750027,
         1.2478205143304153,
         1.254471611805363,
         1.2476048766088916,
         1.2592611406974603,
         1.2679459075043773,
         1.2743888655133413,
         1.2525881568665675,
         1.2549264001039175,
         1.2722586103842575,
         1.249423854922349,
         1.2400606744038867,
         1.2615889355680279,
         1.2622729159745498,
         1.2587655070309673,
         1.2636877602788452,
         1.2553124431337004,
         1.2558075195362128,
         1.26014627939535,
         1.2770567018389454,
         1.263466746923365,
         1.2685489011955173,
         1.2807081374819935,
         1.2721175683450006,
         1.255804791413999,
         1.2691386093356898,
         1.2441785007318191,
         1.265187169891868,
         1.2633393776734256,
         1.2511794283268087,
         1.2861961098725432,
         1.2579766436571846,
         1.2778485441784284,
         1.2737182169056513,
         1.2606859998504139,
         1.262672181433593,
         1.2548818231232484,
         1.2684191408869379,
         1.2817838269195458,
         1.2693062547869098,
         1.2586341116305675,
         1.2713249430141687,
         1.2668793712679582,
         1.2777348974307894,
         1.262488608385898,
         1.2683941161455374,
         1.2688521175264582,
         1.2652976129213078,
         1.2690654300500477,
         1.2686981519139358,
         1.2635430333494453,
         1.2698959039374402,
         1.2702812648407853,
         1.259032059265793,
         1.2625224649578555,
         1.2871256198396959,
         1.2846585999685094,
         1.2698554046668917,
         1.2621474968841893,
         1.270510699599841,
         1.2683121330809586,
         1.2670071780047376,
         1.2703627025121904,
         1.2720834257336764,
         1.2682086012474456,
         1.2484049967585114,
         1.26428786834932,
         1.2607111254536028,
         1.2669162945729233,
         1.2542120430953358,
         1.270690970197358
        ]
       ],
       "encoder": "json",
       "name": "ABC_GAN_3 Metrics",
       "version": 1
      }
     },
     "metadata": {
      "scrapbook": {
       "data": true,
       "display": false,
       "name": "ABC_GAN_3 Metrics"
      }
     },
     "output_type": "display_data"
    },
    {
     "name": "stdout",
     "output_type": "stream",
     "text": [
      "MAE\n",
      "0.08943576514527395\n"
     ]
    }
   ],
   "source": [
    "ABC_GAN3_metrics=ABC_train_test2.test_generator(gen3,test_data,prior_model,variance,bias,\"3\",device)\n",
    "sb.glue(\"ABC_GAN_3 Metrics\",ABC_GAN3_metrics)\n",
    "\n",
    "print(\"MAE\")\n",
    "print(mean(ABC_GAN3_metrics[1]))"
   ]
  },
  {
   "cell_type": "code",
   "execution_count": 22,
   "id": "c8e46b48",
   "metadata": {
    "execution": {
     "iopub.execute_input": "2022-07-24T15:58:47.802194Z",
     "iopub.status.busy": "2022-07-24T15:58:47.801333Z",
     "iopub.status.idle": "2022-07-24T15:58:49.509785Z",
     "shell.execute_reply": "2022-07-24T15:58:49.506210Z"
    },
    "id": "c8e46b48",
    "papermill": {
     "duration": 1.734645,
     "end_time": "2022-07-24T15:58:49.512195",
     "exception": false,
     "start_time": "2022-07-24T15:58:47.777550",
     "status": "completed"
    },
    "tags": []
   },
   "outputs": [
    {
     "data": {
      "image/png": "[encoded data removed]",
      "text/plain": [
       "<Figure size 432x288 with 1 Axes>"
      ]
     },
     "metadata": {
      "needs_background": "light"
     },
     "output_type": "display_data"
    },
    {
     "data": {
      "image/png": "[encoded data removed]",
      "text/plain": [
       "<Figure size 432x288 with 1 Axes>"
      ]
     },
     "metadata": {
      "needs_background": "light"
     },
     "output_type": "display_data"
    },
    {
     "data": {
      "image/png": "[encoded data removed]",
      "text/plain": [
       "<Figure size 432x288 with 1 Axes>"
      ]
     },
     "metadata": {
      "needs_background": "light"
     },
     "output_type": "display_data"
    },
    {
     "data": {
      "image/png": "[encoded data removed]",
      "text/plain": [
       "<Figure size 432x288 with 1 Axes>"
      ]
     },
     "metadata": {
      "needs_background": "light"
     },
     "output_type": "display_data"
    }
   ],
   "source": [
    "sanityChecks.discProbVsError(train_data,disc3,device)\n",
    "sanityChecks.discProbVsError(test_data,disc3,device)"
   ]
  },
  {
   "cell_type": "markdown",
   "id": "baf214e7",
   "metadata": {
    "id": "130f3a4d",
    "papermill": {
     "duration": 0.02223,
     "end_time": "2022-07-24T15:58:49.559386",
     "exception": false,
     "start_time": "2022-07-24T15:58:49.537156",
     "status": "completed"
    },
    "tags": []
   },
   "source": [
    "# skipGAN Model with TabNet Generator"
   ]
  },
  {
   "cell_type": "code",
   "execution_count": 23,
   "id": "d313ca49",
   "metadata": {
    "execution": {
     "iopub.execute_input": "2022-07-24T15:58:49.604994Z",
     "iopub.status.busy": "2022-07-24T15:58:49.604107Z",
     "iopub.status.idle": "2022-07-24T15:58:49.623497Z",
     "shell.execute_reply": "2022-07-24T15:58:49.622516Z"
    },
    "id": "4e43dad1",
    "papermill": {
     "duration": 0.045858,
     "end_time": "2022-07-24T15:58:49.626412",
     "exception": false,
     "start_time": "2022-07-24T15:58:49.580554",
     "status": "completed"
    },
    "tags": []
   },
   "outputs": [],
   "source": [
    "#Generator\n",
    "gen4 = network.GeneratorTabnetskipConnection(n_features+1).to(device)\n",
    "constraints=network.weightConstraint()\n",
    "#Discriminator \n",
    "disc4 = network.Discriminator(n_features+1).to(device)\n",
    "\n",
    "criterion = torch.nn.BCELoss()\n",
    "gen_opt = torch.optim.Adam(gen4.parameters(), lr=0.01, betas=(0.5, 0.999))\n",
    "disc_opt = torch.optim.Adam(disc4.parameters(), lr=0.01, betas=(0.5, 0.999))\n"
   ]
  },
  {
   "cell_type": "code",
   "execution_count": 24,
   "id": "b3d0b3e8",
   "metadata": {
    "execution": {
     "iopub.execute_input": "2022-07-24T15:58:49.674413Z",
     "iopub.status.busy": "2022-07-24T15:58:49.673937Z",
     "iopub.status.idle": "2022-07-24T16:22:05.669732Z",
     "shell.execute_reply": "2022-07-24T16:22:05.664203Z"
    },
    "id": "26acbc37",
    "papermill": {
     "duration": 1396.042008,
     "end_time": "2022-07-24T16:22:05.689898",
     "exception": false,
     "start_time": "2022-07-24T15:58:49.647890",
     "status": "completed"
    },
    "tags": []
   },
   "outputs": [
    {
     "data": {
      "image/png": "[encoded data removed]",
      "text/plain": [
       "<Figure size 432x288 with 1 Axes>"
      ]
     },
     "metadata": {
      "needs_background": "light"
     },
     "output_type": "display_data"
    },
    {
     "data": {
      "image/png": "[encoded data removed]",
      "text/plain": [
       "<Figure size 432x288 with 1 Axes>"
      ]
     },
     "metadata": {
      "needs_background": "light"
     },
     "output_type": "display_data"
    }
   ],
   "source": [
    "ABC_train_test2.training_GAN_skip_connection(disc4,gen4,disc_opt,gen_opt,train_data,batch_size,n_epochs,criterion,prior_model,variance,bias,device)"
   ]
  },
  {
   "cell_type": "code",
   "execution_count": 25,
   "id": "4b31d3b3",
   "metadata": {
    "execution": {
     "iopub.execute_input": "2022-07-24T16:22:05.770835Z",
     "iopub.status.busy": "2022-07-24T16:22:05.770096Z",
     "iopub.status.idle": "2022-07-24T16:22:10.983619Z",
     "shell.execute_reply": "2022-07-24T16:22:10.982464Z"
    },
    "id": "c5e0717b",
    "papermill": {
     "duration": 5.261488,
     "end_time": "2022-07-24T16:22:10.986332",
     "exception": false,
     "start_time": "2022-07-24T16:22:05.724844",
     "status": "completed"
    },
    "tags": []
   },
   "outputs": [
    {
     "data": {
      "application/scrapbook.scrap.json+json": {
       "data": 21.419668110312426,
       "encoder": "json",
       "name": "ABC-GAN Model 3 MSE",
       "version": 1
      }
     },
     "metadata": {
      "scrapbook": {
       "data": true,
       "display": false,
       "name": "ABC-GAN Model 3 MSE"
      }
     },
     "output_type": "display_data"
    },
    {
     "data": {
      "application/scrapbook.scrap.json+json": {
       "data": 4.283038937356565,
       "encoder": "json",
       "name": "ABC-GAN Model 3 MAE",
       "version": 1
      }
     },
     "metadata": {
      "scrapbook": {
       "data": true,
       "display": false,
       "name": "ABC-GAN Model 3 MAE"
      }
     },
     "output_type": "display_data"
    },
    {
     "data": {
      "application/scrapbook.scrap.json+json": {
       "data": 659.587996352911,
       "encoder": "json",
       "name": "ABC-GAN Model 3 Manhattan Distance",
       "version": 1
      }
     },
     "metadata": {
      "scrapbook": {
       "data": true,
       "display": false,
       "name": "ABC-GAN Model 3 Manhattan Distance"
      }
     },
     "output_type": "display_data"
    },
    {
     "data": {
      "application/scrapbook.scrap.json+json": {
       "data": 57.43368983743994,
       "encoder": "json",
       "name": "ABC-GAN Model 3 Euclidean distance",
       "version": 1
      }
     },
     "metadata": {
      "scrapbook": {
       "data": true,
       "display": false,
       "name": "ABC-GAN Model 3 Euclidean distance"
      }
     },
     "output_type": "display_data"
    },
    {
     "data": {
      "application/scrapbook.scrap.json+json": {
       "data": [
        [
         21.415165297056497,
         21.429254507917644,
         21.433791543018796,
         21.407212258989578,
         21.41453479763068,
         21.417796407869822,
         21.423869488157692,
         21.40897754402007,
         21.41464825659043,
         21.42339455386665,
         21.41119705049375,
         21.42408948018569,
         21.411935328433586,
         21.42402455473593,
         21.42655008365155,
         21.42167728667608,
         21.42262238239324,
         21.421665812243265,
         21.418417402098804,
         21.418831320985937,
         21.422358221680078,
         21.417222682387244,
         21.42676372609045,
         21.430416028276802,
         21.418758022244752,
         21.42829618536645,
         21.433016293053967,
         21.416923059462654,
         21.429394638143076,
         21.431496534596832,
         21.419568877549658,
         21.4317194915912,
         21.42579223064076,
         21.404242150588708,
         21.41406711500796,
         21.423563892156775,
         21.42794854683945,
         21.443977732120523,
         21.411675326733246,
         21.41579409729615,
         21.428408781315376,
         21.435255239318494,
         21.39734827406015,
         21.42492575433938,
         21.419692968301796,
         21.406444116418495,
         21.4150283345278,
         21.414267756022955,
         21.391029126279967,
         21.41368545081831,
         21.419965694456792,
         21.42599051097987,
         21.421463199021414,
         21.434280640440797,
         21.42714096256344,
         21.414731413585173,
         21.417336115587425,
         21.423204100175596,
         21.4230228992788,
         21.41436550367441,
         21.413526349050326,
         21.40471932606221,
         21.41905691986639,
         21.407380727015536,
         21.421137868282678,
         21.426327889397523,
         21.405597846635366,
         21.414779873437592,
         21.411658230830266,
         21.421168418524186,
         21.431013184470313,
         21.446604805965407,
         21.404963191434174,
         21.427184468149488,
         21.41443337031404,
         21.426216465908997,
         21.41360528336557,
         21.432149133983476,
         21.4215116180211,
         21.43678473292054,
         21.418289743202763,
         21.429016694544263,
         21.411998284229654,
         21.416340086711834,
         21.41933595062684,
         21.430758864380756,
         21.419836943350095,
         21.409973793718056,
         21.407297237113873,
         21.409307964868187,
         21.41119434236316,
         21.41759992077054,
         21.422778373849276,
         21.413004018933382,
         21.437017838817432,
         21.410624945793217,
         21.408060599833593,
         21.419854370160863,
         21.410875886717427,
         21.413588417613457
        ],
        [
         4.278970521185305,
         4.28170973391502,
         4.286514574250617,
         4.283727691738637,
         4.279828595844182,
         4.285054226393823,
         4.282613845034079,
         4.278864602957453,
         4.27888209885591,
         4.280730585966792,
         4.284638193714154,
         4.286525248900636,
         4.282942566972275,
         4.279268259545425,
         4.286540852932187,
         4.2849554793014155,
         4.281856813407564,
         4.282432691810967,
         4.279302204777668,
         4.283223524689674,
         4.280845093456182,
         4.284582919308117,
         4.286887699326911,
         4.284701952105992,
         4.283018416592053,
         4.285653499233258,
         4.286792400014865,
         4.288069151632198,
         4.283401993381513,
         4.281693906946615,
         4.284557707317464,
         4.283065713264725,
         4.28408048776063,
         4.277993486492665,
         4.281174334032195,
         4.280902347974963,
         4.283938885702716,
         4.287399941644111,
         4.279455741698092,
         4.279785095290705,
         4.282279292677904,
         4.288316032522685,
         4.279752921167907,
         4.284516595594295,
         4.283975405545978,
         4.280553509082113,
         4.283532784550221,
         4.2862382718882,
         4.276388260644752,
         4.281264312275044,
         4.284575653734145,
         4.285475498089543,
         4.286955489160179,
         4.286333225957759,
         4.284037253492839,
         4.280986012769984,
         4.287477746605873,
         4.280342768732604,
         4.283708229660988,
         4.279649458341784,
         4.283716616111916,
         4.284126087636142,
         4.279628443447026,
         4.286384235148306,
         4.284906513698689,
         4.286780587457991,
         4.280854696770767,
         4.284187178526606,
         4.282616901126775,
         4.285620533994266,
         4.286097381989677,
         4.287805849275031,
         4.277953566862391,
         4.285038091339074,
         4.280355709907297,
         4.280609122537947,
         4.27880986267096,
         4.286158671046232,
         4.283656604297749,
         4.283936139244537,
         4.280685012410213,
         4.286292730407282,
         4.284477960947272,
         4.279038040088369,
         4.284159811479705,
         4.282855025553084,
         4.284854326348801,
         4.284156298676095,
         4.28083842547683,
         4.281898228572561,
         4.284252827237179,
         4.2830575342689245,
         4.285918156241442,
         4.285409860216178,
         4.284265807116187,
         4.280691161751747,
         4.279146984993638,
         4.281515580686656,
         4.2786893420792245,
         4.279506020151175
        ],
        [
         658.961460262537,
         659.383299022913,
         660.1232444345951,
         659.69406452775,
         659.093603760004,
         659.8983508646488,
         659.5225321352482,
         658.9451488554478,
         658.9478432238102,
         659.2325102388859,
         659.8342818319798,
         660.124888330698,
         659.5731553137302,
         659.0073119699955,
         660.1272913515568,
         659.883143812418,
         659.4059492647648,
         659.4946345388889,
         659.0125395357609,
         659.6164228022099,
         659.250144392252,
         659.8257695734501,
         660.1807056963444,
         659.8441006243229,
         659.5848361551762,
         659.9906388819218,
         660.1660296022892,
         660.3626493513584,
         659.643906980753,
         659.3808616697788,
         659.8218869268894,
         659.5921198427677,
         659.7483951151371,
         658.8109969198704,
         659.300847440958,
         659.2589615881443,
         659.7265883982182,
         660.2595910131931,
         659.0361842215061,
         659.0869046747684,
         659.4710110723972,
         660.4006690084934,
         659.0819498598576,
         659.8155557215214,
         659.7322124540806,
         659.2052403986454,
         659.664048820734,
         660.0806938707829,
         658.5637921392918,
         659.3147040903568,
         659.8246506750584,
         659.9632267057896,
         660.1911453306675,
         660.0953167974949,
         659.7417370378971,
         659.2718459665775,
         660.2715729773045,
         659.1727863848209,
         659.6910673677921,
         659.0660165846348,
         659.6923588812351,
         659.755417495966,
         659.062780290842,
         660.1031722128391,
         659.8756031095982,
         660.1642104685307,
         659.2516233026981,
         659.7648254930973,
         659.5230027735233,
         659.985562235117,
         660.0589968264103,
         660.3221007883549,
         658.8048492968082,
         659.8958660662174,
         659.1747793257236,
         659.2138048708439,
         658.9367188513279,
         660.0684353411198,
         659.6831170618534,
         659.7261654436588,
         659.2254919111729,
         660.0890804827213,
         659.8096059858799,
         658.9718581736088,
         659.7606109678745,
         659.5596739351749,
         659.8675662577152,
         659.7600699961185,
         659.2491175234318,
         659.4123272001743,
         659.7749353945255,
         659.5908602774143,
         660.031396061182,
         659.9531184732914,
         659.7769342958927,
         659.2264389097691,
         658.9886356890202,
         659.353399425745,
         658.9181586802006,
         659.043927103281
        ],
        [
         57.42765410276395,
         57.44654205623971,
         57.45262307001217,
         57.416989540417354,
         57.42680871191716,
         57.43118183366901,
         57.439323648318535,
         57.41935685619521,
         57.4269608417068,
         57.43868697398527,
         57.422333162072405,
         57.439618556781824,
         57.423323141200854,
         57.43953152167358,
         57.44291699489452,
         57.43638482833087,
         57.43765182255069,
         57.436369445547854,
         57.43201441637945,
         57.43256936122426,
         57.43729769181983,
         57.43041261463855,
         57.44320337357527,
         57.44809890983886,
         57.43247108932102,
         57.445257528767634,
         57.4515840436999,
         57.43001089288813,
         57.44672988320601,
         57.449547137709565,
         57.43355819677768,
         57.44984596763549,
         57.44190111337436,
         57.413006289434634,
         57.42618162224636,
         57.43891398165658,
         57.44479154991576,
         57.46627333268238,
         57.42297449903583,
         57.428497202901006,
         57.445408452917896,
         57.454584733118125,
         57.40375975670292,
         57.44073960324907,
         57.433724562477025,
         57.41595940092311,
         57.42747046072359,
         57.42645065148582,
         57.39528278044387,
         57.425669864843734,
         57.43409019864724,
         57.442166904556295,
         57.43609781878726,
         57.45327857161752,
         57.4437090396744,
         57.42707234129315,
         57.43056470034457,
         57.43843165883834,
         57.43818874659033,
         57.42658171583835,
         57.425456530651566,
         57.41364625429726,
         57.432871821452764,
         57.41721546679527,
         57.4356616721313,
         57.44261915135155,
         57.414824465305514,
         57.42713731772976,
         57.422951574678414,
         57.43570262870235,
         57.44889929675267,
         57.469793284112946,
         57.41397331208548,
         57.4437673563897,
         57.42667271423935,
         57.44246979152261,
         57.425562371110466,
         57.45042181423436,
         57.43616273024557,
         57.45663450698938,
         57.43184326184584,
         57.44622329587749,
         57.423407559734464,
         57.429229259616775,
         57.4332459155543,
         57.448558425034804,
         57.43391758600413,
         57.42069282264522,
         57.41710350161818,
         57.419799952539904,
         57.422329530627074,
         57.430918395918624,
         57.437860941828156,
         57.42475615025057,
         57.456946900943876,
         57.421565997908445,
         57.41812721061506,
         57.43394094962294,
         57.42190249856307,
         57.42553975638778
        ]
       ],
       "encoder": "json",
       "name": "ABC_GAN_4 Metrics",
       "version": 1
      }
     },
     "metadata": {
      "scrapbook": {
       "data": true,
       "display": false,
       "name": "ABC_GAN_4 Metrics"
      }
     },
     "output_type": "display_data"
    },
    {
     "name": "stdout",
     "output_type": "stream",
     "text": [
      "MAE\n",
      "4.283038937356565\n"
     ]
    }
   ],
   "source": [
    "ABC_GAN4_metrics=ABC_train_test2.test_generator(gen4,test_data,prior_model,variance,bias,\"3\",device)\n",
    "sb.glue(\"ABC_GAN_4 Metrics\",ABC_GAN4_metrics)\n",
    "\n",
    "print(\"MAE\")\n",
    "print(mean(ABC_GAN4_metrics[1]))"
   ]
  },
  {
   "cell_type": "code",
   "execution_count": 26,
   "id": "72d97131",
   "metadata": {
    "execution": {
     "iopub.execute_input": "2022-07-24T16:22:11.056045Z",
     "iopub.status.busy": "2022-07-24T16:22:11.055583Z",
     "iopub.status.idle": "2022-07-24T16:22:12.107593Z",
     "shell.execute_reply": "2022-07-24T16:22:12.106622Z"
    },
    "id": "c8e46b48",
    "papermill": {
     "duration": 1.084831,
     "end_time": "2022-07-24T16:22:12.110280",
     "exception": false,
     "start_time": "2022-07-24T16:22:11.025449",
     "status": "completed"
    },
    "tags": []
   },
   "outputs": [
    {
     "data": {
      "image/png": "[encoded data removed]",
      "text/plain": [
       "<Figure size 432x288 with 1 Axes>"
      ]
     },
     "metadata": {
      "needs_background": "light"
     },
     "output_type": "display_data"
    },
    {
     "data": {
      "image/png": "[encoded data removed]",
      "text/plain": [
       "<Figure size 432x288 with 1 Axes>"
      ]
     },
     "metadata": {
      "needs_background": "light"
     },
     "output_type": "display_data"
    },
    {
     "data": {
      "image/png": "[encoded data removed]",
      "text/plain": [
       "<Figure size 432x288 with 1 Axes>"
      ]
     },
     "metadata": {
      "needs_background": "light"
     },
     "output_type": "display_data"
    },
    {
     "data": {
      "image/png": "[encoded data removed]",
      "text/plain": [
       "<Figure size 432x288 with 1 Axes>"
      ]
     },
     "metadata": {
      "needs_background": "light"
     },
     "output_type": "display_data"
    }
   ],
   "source": [
    "sanityChecks.discProbVsError(train_data,disc4,device)\n",
    "sanityChecks.discProbVsError(test_data,disc4,device)"
   ]
  },
  {
   "cell_type": "markdown",
   "id": "a5bd74c3",
   "metadata": {
    "id": "a5bd74c3",
    "papermill": {
     "duration": 0.048019,
     "end_time": "2022-07-24T16:22:12.184283",
     "exception": false,
     "start_time": "2022-07-24T16:22:12.136264",
     "status": "completed"
    },
    "tags": []
   },
   "source": [
    "## Skip Connection Model Analysis - ABC-GAN "
   ]
  },
  {
   "cell_type": "markdown",
   "id": "5744a8bf",
   "metadata": {
    "id": "5744a8bf",
    "papermill": {
     "duration": 0.045629,
     "end_time": "2022-07-24T16:22:12.278333",
     "exception": false,
     "start_time": "2022-07-24T16:22:12.232704",
     "status": "completed"
    },
    "tags": []
   },
   "source": [
    "### Weight Analysis \n",
    "\n",
    "Study the weights of the skip connection layer\n",
    "\n",
    "Equation of the skip connection is \n",
    "\n",
    "$output = y_{gan} * w + y_{abc} * (1-w)$"
   ]
  },
  {
   "cell_type": "code",
   "execution_count": 27,
   "id": "52c31dea",
   "metadata": {
    "execution": {
     "iopub.execute_input": "2022-07-24T16:22:12.348121Z",
     "iopub.status.busy": "2022-07-24T16:22:12.346770Z",
     "iopub.status.idle": "2022-07-24T16:22:12.401010Z",
     "shell.execute_reply": "2022-07-24T16:22:12.400115Z"
    },
    "id": "52c31dea",
    "papermill": {
     "duration": 0.098467,
     "end_time": "2022-07-24T16:22:12.404692",
     "exception": false,
     "start_time": "2022-07-24T16:22:12.306225",
     "status": "completed"
    },
    "tags": []
   },
   "outputs": [
    {
     "name": "stdout",
     "output_type": "stream",
     "text": [
      "Weight of the node at skip connection\n",
      "Parameter containing:\n",
      "tensor([[0.0452]], requires_grad=True)\n"
     ]
    },
    {
     "data": {
      "application/scrapbook.scrap.json+json": {
       "data": 0.04518945887684822,
       "encoder": "json",
       "name": "Skip Connection Weight",
       "version": 1
      }
     },
     "metadata": {
      "scrapbook": {
       "data": true,
       "display": false,
       "name": "Skip Connection Weight"
      }
     },
     "output_type": "display_data"
    }
   ],
   "source": [
    "print(\"Weight of the node at skip connection\")\n",
    "for name,param in gen3.named_parameters():\n",
    "    if(name == \"skipNode.weight\"):\n",
    "        print(param)\n",
    "        sb.glue(\"Skip Connection Weight\",param.item())"
   ]
  },
  {
   "cell_type": "markdown",
   "id": "59fb104f",
   "metadata": {
    "id": "a5bd74c3",
    "papermill": {
     "duration": 0.039541,
     "end_time": "2022-07-24T16:22:12.480712",
     "exception": false,
     "start_time": "2022-07-24T16:22:12.441171",
     "status": "completed"
    },
    "tags": []
   },
   "source": [
    "## skipGAN Model Analysis (TabNet Generator) "
   ]
  },
  {
   "cell_type": "markdown",
   "id": "79154e43",
   "metadata": {
    "id": "5744a8bf",
    "papermill": {
     "duration": 0.030681,
     "end_time": "2022-07-24T16:22:12.542608",
     "exception": false,
     "start_time": "2022-07-24T16:22:12.511927",
     "status": "completed"
    },
    "tags": []
   },
   "source": [
    "### Weight Analysis \n",
    "\n",
    "Study the weights of the skip connection layer\n",
    "\n",
    "Equation of the skip connection is \n",
    "\n",
    "$output = y_{gan} * w + y_{abc} * (1-w)$"
   ]
  },
  {
   "cell_type": "code",
   "execution_count": 28,
   "id": "7efe29f8",
   "metadata": {
    "execution": {
     "iopub.execute_input": "2022-07-24T16:22:12.614719Z",
     "iopub.status.busy": "2022-07-24T16:22:12.613713Z",
     "iopub.status.idle": "2022-07-24T16:22:12.635628Z",
     "shell.execute_reply": "2022-07-24T16:22:12.634214Z"
    },
    "id": "52c31dea",
    "papermill": {
     "duration": 0.062909,
     "end_time": "2022-07-24T16:22:12.639289",
     "exception": false,
     "start_time": "2022-07-24T16:22:12.576380",
     "status": "completed"
    },
    "tags": []
   },
   "outputs": [
    {
     "name": "stdout",
     "output_type": "stream",
     "text": [
      "Weight of the node at skip connection\n",
      "Parameter containing:\n",
      "tensor([[0.1795]], requires_grad=True)\n"
     ]
    },
    {
     "data": {
      "application/scrapbook.scrap.json+json": {
       "data": 0.1794547289609909,
       "encoder": "json",
       "name": "Skip Connection Weight",
       "version": 1
      }
     },
     "metadata": {
      "scrapbook": {
       "data": true,
       "display": false,
       "name": "Skip Connection Weight"
      }
     },
     "output_type": "display_data"
    }
   ],
   "source": [
    "print(\"Weight of the node at skip connection\")\n",
    "for name,param in gen4.named_parameters():\n",
    "    if(name == \"skipNode.weight\"):\n",
    "        print(param)\n",
    "        sb.glue(\"Skip Connection Weight\",param.item())"
   ]
  }
 ],
 "metadata": {
  "colab": {
   "collapsed_sections": [],
   "name": "ABC_GAN_Model-Catboost_Pre-gen.ipynb",
   "provenance": []
  },
  "interpreter": {
   "hash": "31f2aee4e71d21fbe5cf8b01ff0e069b9275f58929596ceb00d14d90e3e16cd6"
  },
  "kernelspec": {
   "display_name": "Python 3 (ipykernel)",
   "language": "python",
   "name": "python3"
  },
  "language_info": {
   "codemirror_mode": {
    "name": "ipython",
    "version": 3
   },
   "file_extension": ".py",
   "mimetype": "text/x-python",
   "name": "python",
   "nbconvert_exporter": "python",
   "pygments_lexer": "ipython3",
   "version": "3.8.13"
  },
  "papermill": {
   "default_parameters": {},
   "duration": 2888.007764,
   "end_time": "2022-07-24T16:22:14.307543",
   "environment_variables": {},
   "exception": null,
   "input_path": "ABC_GAN-Catboost.ipynb",
   "output_path": "./ABC_GAN_Catboost/ABC-GAN_output_1_2.ipynb",
   "parameters": {
    "bias": 1,
    "variance": 0.01
   },
   "start_time": "2022-07-24T15:34:06.299779",
   "version": "2.3.3"
  }
 },
 "nbformat": 4,
 "nbformat_minor": 5
}