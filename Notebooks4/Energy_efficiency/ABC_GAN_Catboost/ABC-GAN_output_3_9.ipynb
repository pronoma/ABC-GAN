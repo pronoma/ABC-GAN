{
 "cells": [
  {
   "cell_type": "markdown",
   "id": "6096732e",
   "metadata": {
    "tags": [
     "papermill-error-cell-tag"
    ]
   },
   "source": [
    "<span style=\"color:red; font-family:Helvetica Neue, Helvetica, Arial, sans-serif; font-size:2em;\">An Exception was encountered at '<a href=\"#papermill-error-cell\">In [15]</a>'.</span>"
   ]
  },
  {
   "cell_type": "markdown",
   "id": "622780e6",
   "metadata": {
    "id": "622780e6",
    "papermill": {
     "duration": 0.020044,
     "end_time": "2022-07-24T13:19:48.919257",
     "exception": false,
     "start_time": "2022-07-24T13:19:48.899213",
     "status": "completed"
    },
    "tags": []
   },
   "source": [
    "## Import Libraries "
   ]
  },
  {
   "cell_type": "code",
   "execution_count": 1,
   "id": "a62397e3",
   "metadata": {
    "execution": {
     "iopub.execute_input": "2022-07-24T13:19:48.961316Z",
     "iopub.status.busy": "2022-07-24T13:19:48.959432Z",
     "iopub.status.idle": "2022-07-24T13:19:48.988079Z",
     "shell.execute_reply": "2022-07-24T13:19:48.984726Z"
    },
    "id": "a62397e3",
    "papermill": {
     "duration": 0.065897,
     "end_time": "2022-07-24T13:19:48.998844",
     "exception": false,
     "start_time": "2022-07-24T13:19:48.932947",
     "status": "completed"
    },
    "tags": []
   },
   "outputs": [],
   "source": [
    "import warnings\n",
    "import sys\n",
    "sys.path.insert(0, '../../src')\n",
    "warnings.filterwarnings('ignore')"
   ]
  },
  {
   "cell_type": "code",
   "execution_count": 2,
   "id": "d6a4e155",
   "metadata": {
    "execution": {
     "iopub.execute_input": "2022-07-24T13:19:49.038078Z",
     "iopub.status.busy": "2022-07-24T13:19:49.036731Z",
     "iopub.status.idle": "2022-07-24T13:19:58.773058Z",
     "shell.execute_reply": "2022-07-24T13:19:58.769244Z"
    },
    "id": "d6a4e155",
    "papermill": {
     "duration": 9.770759,
     "end_time": "2022-07-24T13:19:58.781230",
     "exception": false,
     "start_time": "2022-07-24T13:19:49.010471",
     "status": "completed"
    },
    "tags": []
   },
   "outputs": [],
   "source": [
    "import ABC_train_test2\n",
    "import energyefficiencyDataset\n",
    "import network\n",
    "import dataset\n",
    "import sanityChecks\n",
    "import torch \n",
    "import scrapbook as sb\n",
    "from statistics import mean \n",
    "import catboost as ctb \n",
    "from sklearn.model_selection import train_test_split\n",
    "from sklearn.metrics import mean_squared_error,mean_absolute_error\n",
    "import numpy as np"
   ]
  },
  {
   "cell_type": "markdown",
   "id": "2fa5b0f7",
   "metadata": {
    "id": "2fa5b0f7",
    "papermill": {
     "duration": 0.013737,
     "end_time": "2022-07-24T13:19:58.813868",
     "exception": false,
     "start_time": "2022-07-24T13:19:58.800131",
     "status": "completed"
    },
    "tags": []
   },
   "source": [
    "## Parameters "
   ]
  },
  {
   "cell_type": "code",
   "execution_count": 3,
   "id": "783186fb",
   "metadata": {
    "execution": {
     "iopub.execute_input": "2022-07-24T13:19:58.839562Z",
     "iopub.status.busy": "2022-07-24T13:19:58.838826Z",
     "iopub.status.idle": "2022-07-24T13:19:58.848848Z",
     "shell.execute_reply": "2022-07-24T13:19:58.846701Z"
    },
    "id": "783186fb",
    "papermill": {
     "duration": 0.02934,
     "end_time": "2022-07-24T13:19:58.853243",
     "exception": false,
     "start_time": "2022-07-24T13:19:58.823903",
     "status": "completed"
    },
    "tags": [
     "parameters"
    ]
   },
   "outputs": [],
   "source": [
    "variance = 1\n",
    "bias = 1 "
   ]
  },
  {
   "cell_type": "code",
   "execution_count": 4,
   "id": "d9a435f9",
   "metadata": {
    "execution": {
     "iopub.execute_input": "2022-07-24T13:19:58.877560Z",
     "iopub.status.busy": "2022-07-24T13:19:58.877111Z",
     "iopub.status.idle": "2022-07-24T13:19:58.883962Z",
     "shell.execute_reply": "2022-07-24T13:19:58.881896Z"
    },
    "papermill": {
     "duration": 0.023151,
     "end_time": "2022-07-24T13:19:58.888843",
     "exception": false,
     "start_time": "2022-07-24T13:19:58.865692",
     "status": "completed"
    },
    "tags": [
     "injected-parameters"
    ]
   },
   "outputs": [],
   "source": [
    "# Parameters\n",
    "variance = 1\n",
    "bias = 0\n"
   ]
  },
  {
   "cell_type": "markdown",
   "id": "391cdbfd",
   "metadata": {
    "id": "391cdbfd",
    "papermill": {
     "duration": 0.015047,
     "end_time": "2022-07-24T13:19:58.919468",
     "exception": false,
     "start_time": "2022-07-24T13:19:58.904421",
     "status": "completed"
    },
    "tags": []
   },
   "source": [
    "## Dataset \n"
   ]
  },
  {
   "cell_type": "code",
   "execution_count": 5,
   "id": "5b51f161",
   "metadata": {
    "execution": {
     "iopub.execute_input": "2022-07-24T13:19:58.961357Z",
     "iopub.status.busy": "2022-07-24T13:19:58.960423Z",
     "iopub.status.idle": "2022-07-24T13:19:58.966378Z",
     "shell.execute_reply": "2022-07-24T13:19:58.965034Z"
    },
    "id": "5b51f161",
    "papermill": {
     "duration": 0.040733,
     "end_time": "2022-07-24T13:19:58.978153",
     "exception": false,
     "start_time": "2022-07-24T13:19:58.937420",
     "status": "completed"
    },
    "tags": []
   },
   "outputs": [],
   "source": [
    "#Parameters \n",
    "n_features = 8\n",
    "n_samples= 768\n",
    "n_target = 1 "
   ]
  },
  {
   "cell_type": "code",
   "execution_count": 6,
   "id": "5d6eced4",
   "metadata": {
    "execution": {
     "iopub.execute_input": "2022-07-24T13:19:59.036216Z",
     "iopub.status.busy": "2022-07-24T13:19:59.035143Z",
     "iopub.status.idle": "2022-07-24T13:19:59.993370Z",
     "shell.execute_reply": "2022-07-24T13:19:59.990545Z"
    },
    "id": "5d6eced4",
    "papermill": {
     "duration": 1.009573,
     "end_time": "2022-07-24T13:19:59.999734",
     "exception": false,
     "start_time": "2022-07-24T13:19:58.990161",
     "status": "completed"
    },
    "tags": []
   },
   "outputs": [
    {
     "name": "stdout",
     "output_type": "stream",
     "text": [
      "     X1     X2     X3      X4   X5  X6   X7  X8     Y1     Y2\n",
      "0  0.98  514.5  294.0  110.25  7.0   2  0.0   0  15.55  21.33\n",
      "1  0.98  514.5  294.0  110.25  7.0   3  0.0   0  15.55  21.33\n",
      "2  0.98  514.5  294.0  110.25  7.0   4  0.0   0  15.55  21.33\n",
      "3  0.98  514.5  294.0  110.25  7.0   5  0.0   0  15.55  21.33\n",
      "4  0.90  563.5  318.5  122.50  7.0   2  0.0   0  20.84  28.28\n"
     ]
    }
   ],
   "source": [
    "X,Y = energyefficiencyDataset.energy_data()"
   ]
  },
  {
   "cell_type": "code",
   "execution_count": 7,
   "id": "fe007438",
   "metadata": {
    "execution": {
     "iopub.execute_input": "2022-07-24T13:20:00.047671Z",
     "iopub.status.busy": "2022-07-24T13:20:00.046958Z",
     "iopub.status.idle": "2022-07-24T13:20:00.062058Z",
     "shell.execute_reply": "2022-07-24T13:20:00.058299Z"
    },
    "id": "fe007438",
    "papermill": {
     "duration": 0.044514,
     "end_time": "2022-07-24T13:20:00.065953",
     "exception": false,
     "start_time": "2022-07-24T13:20:00.021439",
     "status": "completed"
    },
    "tags": []
   },
   "outputs": [],
   "source": [
    "#Train test split for dataset \n",
    "X_train,X_test,Y_train,Y_test = train_test_split(X,Y,test_size = 0.2)\n",
    "train_data = dataset.CustomDataset(X_train,Y_train)\n",
    "test_data = dataset.CustomDataset(X_test,Y_test)\n"
   ]
  },
  {
   "cell_type": "markdown",
   "id": "a9a1af34",
   "metadata": {
    "id": "a9a1af34",
    "papermill": {
     "duration": 0.036213,
     "end_time": "2022-07-24T13:20:00.118261",
     "exception": false,
     "start_time": "2022-07-24T13:20:00.082048",
     "status": "completed"
    },
    "tags": []
   },
   "source": [
    "## Training Parameters "
   ]
  },
  {
   "cell_type": "code",
   "execution_count": 8,
   "id": "952b7fc8",
   "metadata": {
    "execution": {
     "iopub.execute_input": "2022-07-24T13:20:00.162632Z",
     "iopub.status.busy": "2022-07-24T13:20:00.161723Z",
     "iopub.status.idle": "2022-07-24T13:20:00.175263Z",
     "shell.execute_reply": "2022-07-24T13:20:00.169456Z"
    },
    "id": "952b7fc8",
    "papermill": {
     "duration": 0.071357,
     "end_time": "2022-07-24T13:20:00.204948",
     "exception": false,
     "start_time": "2022-07-24T13:20:00.133591",
     "status": "completed"
    },
    "tags": []
   },
   "outputs": [],
   "source": [
    "batch_size = 32\n",
    "n_epochs = 1000\n",
    "#Select the device \n",
    "device = torch.device('cuda' if torch.cuda.is_available() else 'cpu')"
   ]
  },
  {
   "cell_type": "markdown",
   "id": "a95e1600",
   "metadata": {
    "id": "a95e1600",
    "papermill": {
     "duration": 0.029662,
     "end_time": "2022-07-24T13:20:00.258363",
     "exception": false,
     "start_time": "2022-07-24T13:20:00.228701",
     "status": "completed"
    },
    "tags": []
   },
   "source": [
    "# ABC Pre-generator Model \n",
    "\n",
    "1. The catboost model is used as a pre-generator model for the ABC-GAN. \n",
    "2. The model is first trained on the entire dataset \n",
    "3. It generats X,Y pairs and we add some Gaussian noise with mean 0 and variance 1 to it which is then feed as input to the generator.\n"
   ]
  },
  {
   "cell_type": "code",
   "execution_count": 9,
   "id": "ff8ce7bd",
   "metadata": {
    "execution": {
     "iopub.execute_input": "2022-07-24T13:20:00.300810Z",
     "iopub.status.busy": "2022-07-24T13:20:00.299635Z",
     "iopub.status.idle": "2022-07-24T13:20:01.635899Z",
     "shell.execute_reply": "2022-07-24T13:20:01.623906Z"
    },
    "id": "ff8ce7bd",
    "papermill": {
     "duration": 1.421009,
     "end_time": "2022-07-24T13:20:01.703780",
     "exception": false,
     "start_time": "2022-07-24T13:20:00.282771",
     "status": "completed"
    },
    "tags": []
   },
   "outputs": [
    {
     "name": "stdout",
     "output_type": "stream",
     "text": [
      "Learning rate set to 0.037906\n",
      "0:\tlearn: 0.9588987\ttotal: 49.2ms\tremaining: 49.1s\n",
      "1:\tlearn: 0.9270133\ttotal: 49.8ms\tremaining: 24.8s\n",
      "2:\tlearn: 0.8999415\ttotal: 50.9ms\tremaining: 16.9s\n",
      "3:\tlearn: 0.8698729\ttotal: 52.1ms\tremaining: 13s\n",
      "4:\tlearn: 0.8415052\ttotal: 53.8ms\tremaining: 10.7s\n",
      "5:\tlearn: 0.8159713\ttotal: 55.2ms\tremaining: 9.15s\n",
      "6:\tlearn: 0.7901893\ttotal: 55.8ms\tremaining: 7.92s\n",
      "7:\tlearn: 0.7659938\ttotal: 56.5ms\tremaining: 7s\n",
      "8:\tlearn: 0.7421690\ttotal: 57.5ms\tremaining: 6.33s\n",
      "9:\tlearn: 0.7177121\ttotal: 58ms\tremaining: 5.74s\n",
      "10:\tlearn: 0.6947483\ttotal: 58.6ms\tremaining: 5.27s\n",
      "11:\tlearn: 0.6761278\ttotal: 59.1ms\tremaining: 4.87s\n",
      "12:\tlearn: 0.6555003\ttotal: 60.3ms\tremaining: 4.57s\n",
      "13:\tlearn: 0.6336210\ttotal: 61ms\tremaining: 4.29s\n",
      "14:\tlearn: 0.6131765\ttotal: 63.6ms\tremaining: 4.18s\n",
      "15:\tlearn: 0.5962937\ttotal: 64.1ms\tremaining: 3.94s\n",
      "16:\tlearn: 0.5775533\ttotal: 65.4ms\tremaining: 3.78s\n",
      "17:\tlearn: 0.5602810\ttotal: 66.1ms\tremaining: 3.61s\n",
      "18:\tlearn: 0.5446211\ttotal: 67ms\tremaining: 3.46s\n",
      "19:\tlearn: 0.5279986\ttotal: 67.6ms\tremaining: 3.31s\n",
      "20:\tlearn: 0.5128848\ttotal: 68.2ms\tremaining: 3.18s\n",
      "21:\tlearn: 0.4969514\ttotal: 69.2ms\tremaining: 3.07s\n",
      "22:\tlearn: 0.4838589\ttotal: 69.7ms\tremaining: 2.96s\n",
      "23:\tlearn: 0.4728527\ttotal: 70ms\tremaining: 2.85s\n",
      "24:\tlearn: 0.4582014\ttotal: 70.5ms\tremaining: 2.75s\n",
      "25:\tlearn: 0.4437970\ttotal: 71.8ms\tremaining: 2.69s\n",
      "26:\tlearn: 0.4312114\ttotal: 72.4ms\tremaining: 2.61s\n",
      "27:\tlearn: 0.4174809\ttotal: 72.7ms\tremaining: 2.52s\n",
      "28:\tlearn: 0.4050885\ttotal: 73.9ms\tremaining: 2.47s\n",
      "29:\tlearn: 0.3928683\ttotal: 75.9ms\tremaining: 2.46s\n",
      "30:\tlearn: 0.3811803\ttotal: 76.7ms\tremaining: 2.4s\n",
      "31:\tlearn: 0.3692844\ttotal: 77.3ms\tremaining: 2.34s\n",
      "32:\tlearn: 0.3618416\ttotal: 78.3ms\tremaining: 2.29s\n",
      "33:\tlearn: 0.3512736\ttotal: 79.7ms\tremaining: 2.27s\n",
      "34:\tlearn: 0.3403880\ttotal: 80.4ms\tremaining: 2.22s\n",
      "35:\tlearn: 0.3304376\ttotal: 83.7ms\tremaining: 2.24s\n",
      "36:\tlearn: 0.3214248\ttotal: 84.6ms\tremaining: 2.2s\n",
      "37:\tlearn: 0.3132360\ttotal: 86.3ms\tremaining: 2.18s\n",
      "38:\tlearn: 0.3048107\ttotal: 87ms\tremaining: 2.14s\n",
      "39:\tlearn: 0.2964976\ttotal: 89.4ms\tremaining: 2.15s\n",
      "40:\tlearn: 0.2883668\ttotal: 89.9ms\tremaining: 2.1s\n",
      "41:\tlearn: 0.2806118\ttotal: 90.4ms\tremaining: 2.06s\n",
      "42:\tlearn: 0.2727459\ttotal: 91.2ms\tremaining: 2.03s\n",
      "43:\tlearn: 0.2656456\ttotal: 92.6ms\tremaining: 2.01s\n",
      "44:\tlearn: 0.2588902\ttotal: 93.7ms\tremaining: 1.99s\n",
      "45:\tlearn: 0.2518428\ttotal: 94.5ms\tremaining: 1.96s\n",
      "46:\tlearn: 0.2469290\ttotal: 95.2ms\tremaining: 1.93s\n",
      "47:\tlearn: 0.2404607\ttotal: 96.2ms\tremaining: 1.91s\n",
      "48:\tlearn: 0.2348951\ttotal: 96.9ms\tremaining: 1.88s\n",
      "49:\tlearn: 0.2295069\ttotal: 98.1ms\tremaining: 1.86s\n",
      "50:\tlearn: 0.2231562\ttotal: 99.1ms\tremaining: 1.84s\n",
      "51:\tlearn: 0.2179789\ttotal: 100ms\tremaining: 1.83s\n",
      "52:\tlearn: 0.2127335\ttotal: 101ms\tremaining: 1.8s\n",
      "53:\tlearn: 0.2065105\ttotal: 102ms\tremaining: 1.79s\n",
      "54:\tlearn: 0.2016540\ttotal: 103ms\tremaining: 1.76s\n",
      "55:\tlearn: 0.1959590\ttotal: 103ms\tremaining: 1.74s\n",
      "56:\tlearn: 0.1913333\ttotal: 104ms\tremaining: 1.72s\n",
      "57:\tlearn: 0.1865572\ttotal: 105ms\tremaining: 1.71s\n",
      "58:\tlearn: 0.1830041\ttotal: 106ms\tremaining: 1.69s\n",
      "59:\tlearn: 0.1789113\ttotal: 107ms\tremaining: 1.67s\n",
      "60:\tlearn: 0.1753312\ttotal: 108ms\tremaining: 1.66s\n",
      "61:\tlearn: 0.1710968\ttotal: 108ms\tremaining: 1.64s\n",
      "62:\tlearn: 0.1670725\ttotal: 109ms\tremaining: 1.62s\n",
      "63:\tlearn: 0.1630671\ttotal: 110ms\tremaining: 1.6s\n",
      "64:\tlearn: 0.1601628\ttotal: 110ms\tremaining: 1.58s\n",
      "65:\tlearn: 0.1562490\ttotal: 111ms\tremaining: 1.57s\n",
      "66:\tlearn: 0.1530062\ttotal: 112ms\tremaining: 1.55s\n",
      "67:\tlearn: 0.1502111\ttotal: 112ms\tremaining: 1.54s\n",
      "68:\tlearn: 0.1461582\ttotal: 113ms\tremaining: 1.53s\n",
      "69:\tlearn: 0.1424513\ttotal: 114ms\tremaining: 1.52s\n",
      "70:\tlearn: 0.1401670\ttotal: 116ms\tremaining: 1.51s\n",
      "71:\tlearn: 0.1372085\ttotal: 116ms\tremaining: 1.5s\n",
      "72:\tlearn: 0.1339519\ttotal: 117ms\tremaining: 1.49s\n",
      "73:\tlearn: 0.1310615\ttotal: 119ms\tremaining: 1.48s\n",
      "74:\tlearn: 0.1282731\ttotal: 121ms\tremaining: 1.5s\n",
      "75:\tlearn: 0.1251862\ttotal: 122ms\tremaining: 1.48s\n",
      "76:\tlearn: 0.1221500\ttotal: 124ms\tremaining: 1.48s\n",
      "77:\tlearn: 0.1196974\ttotal: 126ms\tremaining: 1.49s\n",
      "78:\tlearn: 0.1181453\ttotal: 127ms\tremaining: 1.48s\n",
      "79:\tlearn: 0.1159267\ttotal: 129ms\tremaining: 1.48s\n",
      "80:\tlearn: 0.1135142\ttotal: 131ms\tremaining: 1.48s\n",
      "81:\tlearn: 0.1112871\ttotal: 132ms\tremaining: 1.47s\n",
      "82:\tlearn: 0.1094572\ttotal: 132ms\tremaining: 1.46s\n",
      "83:\tlearn: 0.1074133\ttotal: 133ms\tremaining: 1.45s\n",
      "84:\tlearn: 0.1056331\ttotal: 134ms\tremaining: 1.44s\n",
      "85:\tlearn: 0.1032698\ttotal: 135ms\tremaining: 1.43s\n",
      "86:\tlearn: 0.1010697\ttotal: 138ms\tremaining: 1.45s\n",
      "87:\tlearn: 0.0992061\ttotal: 139ms\tremaining: 1.44s\n",
      "88:\tlearn: 0.0977099\ttotal: 140ms\tremaining: 1.44s\n",
      "89:\tlearn: 0.0962346\ttotal: 141ms\tremaining: 1.43s\n",
      "90:\tlearn: 0.0948580\ttotal: 145ms\tremaining: 1.45s\n",
      "91:\tlearn: 0.0936467\ttotal: 146ms\tremaining: 1.44s\n",
      "92:\tlearn: 0.0919470\ttotal: 147ms\tremaining: 1.43s\n",
      "93:\tlearn: 0.0903944\ttotal: 147ms\tremaining: 1.42s\n",
      "94:\tlearn: 0.0890431\ttotal: 148ms\tremaining: 1.41s\n"
     ]
    },
    {
     "name": "stdout",
     "output_type": "stream",
     "text": [
      "95:\tlearn: 0.0873116\ttotal: 152ms\tremaining: 1.43s\n",
      "96:\tlearn: 0.0855807\ttotal: 153ms\tremaining: 1.42s\n",
      "97:\tlearn: 0.0844729\ttotal: 155ms\tremaining: 1.43s\n",
      "98:\tlearn: 0.0827172\ttotal: 157ms\tremaining: 1.43s\n",
      "99:\tlearn: 0.0818221\ttotal: 158ms\tremaining: 1.42s\n",
      "100:\tlearn: 0.0808527\ttotal: 159ms\tremaining: 1.41s\n",
      "101:\tlearn: 0.0802021\ttotal: 159ms\tremaining: 1.4s\n",
      "102:\tlearn: 0.0788472\ttotal: 160ms\tremaining: 1.39s\n",
      "103:\tlearn: 0.0775322\ttotal: 161ms\tremaining: 1.38s\n",
      "104:\tlearn: 0.0765371\ttotal: 162ms\tremaining: 1.38s\n",
      "105:\tlearn: 0.0753201\ttotal: 163ms\tremaining: 1.38s\n",
      "106:\tlearn: 0.0746825\ttotal: 164ms\tremaining: 1.37s\n",
      "107:\tlearn: 0.0736754\ttotal: 165ms\tremaining: 1.36s\n",
      "108:\tlearn: 0.0723890\ttotal: 166ms\tremaining: 1.35s\n",
      "109:\tlearn: 0.0713033\ttotal: 166ms\tremaining: 1.34s\n",
      "110:\tlearn: 0.0703409\ttotal: 166ms\tremaining: 1.33s\n",
      "111:\tlearn: 0.0694259\ttotal: 166ms\tremaining: 1.32s\n",
      "112:\tlearn: 0.0684423\ttotal: 168ms\tremaining: 1.32s\n",
      "113:\tlearn: 0.0677215\ttotal: 169ms\tremaining: 1.31s\n",
      "114:\tlearn: 0.0667313\ttotal: 170ms\tremaining: 1.3s\n",
      "115:\tlearn: 0.0661250\ttotal: 170ms\tremaining: 1.3s\n",
      "116:\tlearn: 0.0655344\ttotal: 171ms\tremaining: 1.29s\n",
      "117:\tlearn: 0.0647147\ttotal: 172ms\tremaining: 1.28s\n",
      "118:\tlearn: 0.0638895\ttotal: 173ms\tremaining: 1.28s\n",
      "119:\tlearn: 0.0631395\ttotal: 174ms\tremaining: 1.28s\n",
      "120:\tlearn: 0.0624291\ttotal: 175ms\tremaining: 1.27s\n",
      "121:\tlearn: 0.0618450\ttotal: 176ms\tremaining: 1.27s\n",
      "122:\tlearn: 0.0614747\ttotal: 177ms\tremaining: 1.26s\n",
      "123:\tlearn: 0.0610958\ttotal: 178ms\tremaining: 1.26s\n",
      "124:\tlearn: 0.0604660\ttotal: 179ms\tremaining: 1.25s\n",
      "125:\tlearn: 0.0597624\ttotal: 180ms\tremaining: 1.25s\n",
      "126:\tlearn: 0.0593106\ttotal: 180ms\tremaining: 1.24s\n",
      "127:\tlearn: 0.0587263\ttotal: 181ms\tremaining: 1.23s\n",
      "128:\tlearn: 0.0583471\ttotal: 182ms\tremaining: 1.23s\n",
      "129:\tlearn: 0.0578795\ttotal: 182ms\tremaining: 1.22s\n",
      "130:\tlearn: 0.0573048\ttotal: 183ms\tremaining: 1.21s\n",
      "131:\tlearn: 0.0567986\ttotal: 183ms\tremaining: 1.2s\n",
      "132:\tlearn: 0.0563472\ttotal: 184ms\tremaining: 1.2s\n",
      "133:\tlearn: 0.0560407\ttotal: 185ms\tremaining: 1.19s\n",
      "134:\tlearn: 0.0557207\ttotal: 185ms\tremaining: 1.19s\n",
      "135:\tlearn: 0.0554116\ttotal: 186ms\tremaining: 1.18s\n",
      "136:\tlearn: 0.0549584\ttotal: 190ms\tremaining: 1.19s\n",
      "137:\tlearn: 0.0546986\ttotal: 190ms\tremaining: 1.19s\n",
      "138:\tlearn: 0.0542392\ttotal: 191ms\tremaining: 1.18s\n",
      "139:\tlearn: 0.0539235\ttotal: 191ms\tremaining: 1.18s\n",
      "140:\tlearn: 0.0535582\ttotal: 194ms\tremaining: 1.18s\n",
      "141:\tlearn: 0.0532624\ttotal: 194ms\tremaining: 1.17s\n",
      "142:\tlearn: 0.0528456\ttotal: 195ms\tremaining: 1.17s\n",
      "143:\tlearn: 0.0525053\ttotal: 196ms\tremaining: 1.16s\n",
      "144:\tlearn: 0.0522793\ttotal: 199ms\tremaining: 1.17s\n",
      "145:\tlearn: 0.0519804\ttotal: 200ms\tremaining: 1.17s\n",
      "146:\tlearn: 0.0518106\ttotal: 201ms\tremaining: 1.17s\n"
     ]
    },
    {
     "name": "stdout",
     "output_type": "stream",
     "text": [
      "147:\tlearn: 0.0515796\ttotal: 216ms\tremaining: 1.24s\n",
      "148:\tlearn: 0.0513171\ttotal: 217ms\tremaining: 1.24s\n",
      "149:\tlearn: 0.0510927\ttotal: 217ms\tremaining: 1.23s\n",
      "150:\tlearn: 0.0509245\ttotal: 218ms\tremaining: 1.23s\n",
      "151:\tlearn: 0.0508109\ttotal: 219ms\tremaining: 1.22s\n",
      "152:\tlearn: 0.0506187\ttotal: 219ms\tremaining: 1.21s\n",
      "153:\tlearn: 0.0503625\ttotal: 219ms\tremaining: 1.2s\n",
      "154:\tlearn: 0.0501063\ttotal: 219ms\tremaining: 1.2s\n",
      "155:\tlearn: 0.0497652\ttotal: 220ms\tremaining: 1.19s\n",
      "156:\tlearn: 0.0495347\ttotal: 221ms\tremaining: 1.19s\n",
      "157:\tlearn: 0.0492718\ttotal: 222ms\tremaining: 1.18s\n",
      "158:\tlearn: 0.0490361\ttotal: 223ms\tremaining: 1.18s\n",
      "159:\tlearn: 0.0487669\ttotal: 224ms\tremaining: 1.18s\n",
      "160:\tlearn: 0.0485414\ttotal: 224ms\tremaining: 1.17s\n",
      "161:\tlearn: 0.0484037\ttotal: 224ms\tremaining: 1.16s\n",
      "162:\tlearn: 0.0481805\ttotal: 225ms\tremaining: 1.15s\n",
      "163:\tlearn: 0.0479079\ttotal: 226ms\tremaining: 1.15s\n",
      "164:\tlearn: 0.0476247\ttotal: 226ms\tremaining: 1.14s\n",
      "165:\tlearn: 0.0474118\ttotal: 226ms\tremaining: 1.14s\n",
      "166:\tlearn: 0.0471114\ttotal: 226ms\tremaining: 1.13s\n",
      "167:\tlearn: 0.0469475\ttotal: 227ms\tremaining: 1.12s\n",
      "168:\tlearn: 0.0467910\ttotal: 228ms\tremaining: 1.12s\n",
      "169:\tlearn: 0.0466023\ttotal: 229ms\tremaining: 1.12s\n",
      "170:\tlearn: 0.0464457\ttotal: 229ms\tremaining: 1.11s\n",
      "171:\tlearn: 0.0461631\ttotal: 230ms\tremaining: 1.11s\n",
      "172:\tlearn: 0.0459986\ttotal: 231ms\tremaining: 1.1s\n",
      "173:\tlearn: 0.0458329\ttotal: 232ms\tremaining: 1.1s\n",
      "174:\tlearn: 0.0456115\ttotal: 233ms\tremaining: 1.1s\n",
      "175:\tlearn: 0.0454775\ttotal: 234ms\tremaining: 1.09s\n",
      "176:\tlearn: 0.0453718\ttotal: 234ms\tremaining: 1.09s\n",
      "177:\tlearn: 0.0452261\ttotal: 236ms\tremaining: 1.09s\n",
      "178:\tlearn: 0.0450211\ttotal: 236ms\tremaining: 1.08s\n",
      "179:\tlearn: 0.0448626\ttotal: 237ms\tremaining: 1.08s\n",
      "180:\tlearn: 0.0446827\ttotal: 238ms\tremaining: 1.08s\n",
      "181:\tlearn: 0.0444866\ttotal: 238ms\tremaining: 1.07s\n",
      "182:\tlearn: 0.0443442\ttotal: 238ms\tremaining: 1.06s\n",
      "183:\tlearn: 0.0441653\ttotal: 239ms\tremaining: 1.06s\n",
      "184:\tlearn: 0.0439842\ttotal: 240ms\tremaining: 1.05s\n",
      "185:\tlearn: 0.0438788\ttotal: 240ms\tremaining: 1.05s\n",
      "186:\tlearn: 0.0437798\ttotal: 241ms\tremaining: 1.05s\n",
      "187:\tlearn: 0.0436091\ttotal: 242ms\tremaining: 1.04s\n",
      "188:\tlearn: 0.0432951\ttotal: 242ms\tremaining: 1.04s\n",
      "189:\tlearn: 0.0431106\ttotal: 243ms\tremaining: 1.03s\n",
      "190:\tlearn: 0.0429679\ttotal: 243ms\tremaining: 1.03s\n",
      "191:\tlearn: 0.0427981\ttotal: 244ms\tremaining: 1.03s\n",
      "192:\tlearn: 0.0426322\ttotal: 245ms\tremaining: 1.02s\n",
      "193:\tlearn: 0.0425385\ttotal: 245ms\tremaining: 1.02s\n",
      "194:\tlearn: 0.0423720\ttotal: 246ms\tremaining: 1.01s\n",
      "195:\tlearn: 0.0422264\ttotal: 246ms\tremaining: 1.01s\n",
      "196:\tlearn: 0.0421213\ttotal: 247ms\tremaining: 1s\n",
      "197:\tlearn: 0.0419826\ttotal: 247ms\tremaining: 1s\n",
      "198:\tlearn: 0.0418348\ttotal: 248ms\tremaining: 998ms\n",
      "199:\tlearn: 0.0417257\ttotal: 249ms\tremaining: 994ms\n",
      "200:\tlearn: 0.0415380\ttotal: 249ms\tremaining: 991ms\n",
      "201:\tlearn: 0.0414613\ttotal: 250ms\tremaining: 987ms\n",
      "202:\tlearn: 0.0413859\ttotal: 250ms\tremaining: 983ms\n",
      "203:\tlearn: 0.0412740\ttotal: 251ms\tremaining: 979ms\n",
      "204:\tlearn: 0.0410306\ttotal: 251ms\tremaining: 975ms\n",
      "205:\tlearn: 0.0408974\ttotal: 253ms\tremaining: 976ms\n",
      "206:\tlearn: 0.0406269\ttotal: 254ms\tremaining: 972ms\n",
      "207:\tlearn: 0.0405347\ttotal: 254ms\tremaining: 968ms\n",
      "208:\tlearn: 0.0404677\ttotal: 255ms\tremaining: 964ms\n",
      "209:\tlearn: 0.0403531\ttotal: 255ms\tremaining: 960ms\n",
      "210:\tlearn: 0.0401907\ttotal: 256ms\tremaining: 957ms\n",
      "211:\tlearn: 0.0400377\ttotal: 257ms\tremaining: 954ms\n",
      "212:\tlearn: 0.0399752\ttotal: 258ms\tremaining: 953ms\n",
      "213:\tlearn: 0.0398790\ttotal: 259ms\tremaining: 951ms\n",
      "214:\tlearn: 0.0397641\ttotal: 260ms\tremaining: 949ms\n",
      "215:\tlearn: 0.0395730\ttotal: 260ms\tremaining: 945ms\n",
      "216:\tlearn: 0.0395338\ttotal: 261ms\tremaining: 941ms\n",
      "217:\tlearn: 0.0394600\ttotal: 262ms\tremaining: 938ms\n",
      "218:\tlearn: 0.0393351\ttotal: 262ms\tremaining: 935ms\n",
      "219:\tlearn: 0.0393186\ttotal: 262ms\tremaining: 931ms\n",
      "220:\tlearn: 0.0391697\ttotal: 263ms\tremaining: 927ms\n",
      "221:\tlearn: 0.0390276\ttotal: 264ms\tremaining: 924ms\n",
      "222:\tlearn: 0.0389809\ttotal: 265ms\tremaining: 922ms\n",
      "223:\tlearn: 0.0388749\ttotal: 265ms\tremaining: 920ms\n",
      "224:\tlearn: 0.0386547\ttotal: 267ms\tremaining: 918ms\n",
      "225:\tlearn: 0.0384876\ttotal: 267ms\tremaining: 914ms\n",
      "226:\tlearn: 0.0383528\ttotal: 268ms\tremaining: 911ms\n",
      "227:\tlearn: 0.0382964\ttotal: 268ms\tremaining: 907ms\n",
      "228:\tlearn: 0.0381385\ttotal: 268ms\tremaining: 904ms\n",
      "229:\tlearn: 0.0381057\ttotal: 269ms\tremaining: 900ms\n",
      "230:\tlearn: 0.0380917\ttotal: 271ms\tremaining: 901ms\n",
      "231:\tlearn: 0.0379424\ttotal: 275ms\tremaining: 909ms\n",
      "232:\tlearn: 0.0379282\ttotal: 275ms\tremaining: 906ms\n",
      "233:\tlearn: 0.0378817\ttotal: 276ms\tremaining: 903ms\n",
      "234:\tlearn: 0.0376841\ttotal: 276ms\tremaining: 900ms\n",
      "235:\tlearn: 0.0375678\ttotal: 277ms\tremaining: 897ms\n",
      "236:\tlearn: 0.0374533\ttotal: 278ms\tremaining: 894ms\n",
      "237:\tlearn: 0.0373267\ttotal: 278ms\tremaining: 891ms\n",
      "238:\tlearn: 0.0372514\ttotal: 279ms\tremaining: 888ms\n",
      "239:\tlearn: 0.0371985\ttotal: 279ms\tremaining: 885ms\n",
      "240:\tlearn: 0.0369664\ttotal: 280ms\tremaining: 881ms\n",
      "241:\tlearn: 0.0367615\ttotal: 280ms\tremaining: 878ms\n",
      "242:\tlearn: 0.0366509\ttotal: 281ms\tremaining: 875ms\n",
      "243:\tlearn: 0.0365836\ttotal: 281ms\tremaining: 872ms\n",
      "244:\tlearn: 0.0364686\ttotal: 282ms\tremaining: 869ms\n",
      "245:\tlearn: 0.0363641\ttotal: 283ms\tremaining: 866ms\n",
      "246:\tlearn: 0.0363165\ttotal: 284ms\tremaining: 864ms\n",
      "247:\tlearn: 0.0362155\ttotal: 285ms\tremaining: 864ms\n",
      "248:\tlearn: 0.0361100\ttotal: 286ms\tremaining: 861ms\n",
      "249:\tlearn: 0.0360146\ttotal: 286ms\tremaining: 858ms\n",
      "250:\tlearn: 0.0358869\ttotal: 287ms\tremaining: 855ms\n",
      "251:\tlearn: 0.0357288\ttotal: 287ms\tremaining: 852ms\n",
      "252:\tlearn: 0.0355384\ttotal: 288ms\tremaining: 849ms\n",
      "253:\tlearn: 0.0354317\ttotal: 288ms\tremaining: 846ms\n",
      "254:\tlearn: 0.0353429\ttotal: 289ms\tremaining: 844ms\n",
      "255:\tlearn: 0.0353090\ttotal: 289ms\tremaining: 841ms\n",
      "256:\tlearn: 0.0351461\ttotal: 290ms\tremaining: 838ms\n",
      "257:\tlearn: 0.0350585\ttotal: 290ms\tremaining: 834ms\n",
      "258:\tlearn: 0.0348863\ttotal: 290ms\tremaining: 830ms\n",
      "259:\tlearn: 0.0348244\ttotal: 291ms\tremaining: 828ms\n",
      "260:\tlearn: 0.0346810\ttotal: 292ms\tremaining: 826ms\n",
      "261:\tlearn: 0.0345791\ttotal: 292ms\tremaining: 823ms\n",
      "262:\tlearn: 0.0345442\ttotal: 293ms\tremaining: 820ms\n",
      "263:\tlearn: 0.0345178\ttotal: 293ms\tremaining: 818ms\n",
      "264:\tlearn: 0.0344065\ttotal: 294ms\tremaining: 815ms\n",
      "265:\tlearn: 0.0343813\ttotal: 294ms\tremaining: 813ms\n",
      "266:\tlearn: 0.0342688\ttotal: 295ms\tremaining: 809ms\n",
      "267:\tlearn: 0.0341891\ttotal: 295ms\tremaining: 806ms\n",
      "268:\tlearn: 0.0340631\ttotal: 295ms\tremaining: 803ms\n",
      "269:\tlearn: 0.0339451\ttotal: 296ms\tremaining: 801ms\n",
      "270:\tlearn: 0.0338855\ttotal: 297ms\tremaining: 799ms\n",
      "271:\tlearn: 0.0338373\ttotal: 298ms\tremaining: 796ms\n",
      "272:\tlearn: 0.0337219\ttotal: 298ms\tremaining: 794ms\n",
      "273:\tlearn: 0.0336988\ttotal: 299ms\tremaining: 791ms\n",
      "274:\tlearn: 0.0335588\ttotal: 299ms\tremaining: 789ms\n",
      "275:\tlearn: 0.0334652\ttotal: 300ms\tremaining: 786ms\n",
      "276:\tlearn: 0.0333739\ttotal: 300ms\tremaining: 784ms\n",
      "277:\tlearn: 0.0333048\ttotal: 301ms\tremaining: 781ms\n",
      "278:\tlearn: 0.0331999\ttotal: 301ms\tremaining: 779ms\n",
      "279:\tlearn: 0.0331725\ttotal: 302ms\tremaining: 777ms\n",
      "280:\tlearn: 0.0330983\ttotal: 303ms\tremaining: 774ms\n",
      "281:\tlearn: 0.0330268\ttotal: 303ms\tremaining: 772ms\n",
      "282:\tlearn: 0.0329418\ttotal: 304ms\tremaining: 769ms\n",
      "283:\tlearn: 0.0328712\ttotal: 304ms\tremaining: 767ms\n",
      "284:\tlearn: 0.0327890\ttotal: 305ms\tremaining: 765ms\n",
      "285:\tlearn: 0.0327638\ttotal: 306ms\tremaining: 764ms\n",
      "286:\tlearn: 0.0326838\ttotal: 307ms\tremaining: 763ms\n",
      "287:\tlearn: 0.0326323\ttotal: 308ms\tremaining: 762ms\n",
      "288:\tlearn: 0.0325665\ttotal: 309ms\tremaining: 760ms\n",
      "289:\tlearn: 0.0325043\ttotal: 310ms\tremaining: 758ms\n",
      "290:\tlearn: 0.0324578\ttotal: 310ms\tremaining: 756ms\n",
      "291:\tlearn: 0.0323867\ttotal: 311ms\tremaining: 755ms\n",
      "292:\tlearn: 0.0322490\ttotal: 312ms\tremaining: 753ms\n",
      "293:\tlearn: 0.0321691\ttotal: 313ms\tremaining: 752ms\n",
      "294:\tlearn: 0.0320344\ttotal: 313ms\tremaining: 749ms\n",
      "295:\tlearn: 0.0319766\ttotal: 314ms\tremaining: 748ms\n",
      "296:\tlearn: 0.0319364\ttotal: 315ms\tremaining: 745ms\n",
      "297:\tlearn: 0.0318555\ttotal: 316ms\tremaining: 743ms\n",
      "298:\tlearn: 0.0318020\ttotal: 316ms\tremaining: 741ms\n",
      "299:\tlearn: 0.0317293\ttotal: 317ms\tremaining: 739ms\n",
      "300:\tlearn: 0.0316951\ttotal: 317ms\tremaining: 736ms\n",
      "301:\tlearn: 0.0316274\ttotal: 318ms\tremaining: 734ms\n",
      "302:\tlearn: 0.0316079\ttotal: 318ms\tremaining: 732ms\n",
      "303:\tlearn: 0.0315587\ttotal: 319ms\tremaining: 730ms\n",
      "304:\tlearn: 0.0314944\ttotal: 319ms\tremaining: 727ms\n",
      "305:\tlearn: 0.0314062\ttotal: 320ms\tremaining: 725ms\n",
      "306:\tlearn: 0.0313714\ttotal: 320ms\tremaining: 723ms\n",
      "307:\tlearn: 0.0313174\ttotal: 321ms\tremaining: 721ms\n",
      "308:\tlearn: 0.0312000\ttotal: 321ms\tremaining: 719ms\n",
      "309:\tlearn: 0.0311579\ttotal: 322ms\tremaining: 717ms\n",
      "310:\tlearn: 0.0310448\ttotal: 323ms\tremaining: 714ms\n",
      "311:\tlearn: 0.0309904\ttotal: 323ms\tremaining: 712ms\n",
      "312:\tlearn: 0.0309389\ttotal: 323ms\tremaining: 710ms\n",
      "313:\tlearn: 0.0309313\ttotal: 324ms\tremaining: 707ms\n",
      "314:\tlearn: 0.0308254\ttotal: 324ms\tremaining: 704ms\n",
      "315:\tlearn: 0.0308074\ttotal: 325ms\tremaining: 703ms\n",
      "316:\tlearn: 0.0307884\ttotal: 325ms\tremaining: 700ms\n",
      "317:\tlearn: 0.0306821\ttotal: 325ms\tremaining: 698ms\n",
      "318:\tlearn: 0.0306486\ttotal: 326ms\tremaining: 695ms\n",
      "319:\tlearn: 0.0305841\ttotal: 326ms\tremaining: 693ms\n",
      "320:\tlearn: 0.0305366\ttotal: 327ms\tremaining: 692ms\n",
      "321:\tlearn: 0.0304884\ttotal: 327ms\tremaining: 689ms\n",
      "322:\tlearn: 0.0304305\ttotal: 328ms\tremaining: 687ms\n",
      "323:\tlearn: 0.0303989\ttotal: 328ms\tremaining: 685ms\n",
      "324:\tlearn: 0.0303538\ttotal: 328ms\tremaining: 682ms\n",
      "325:\tlearn: 0.0302940\ttotal: 329ms\tremaining: 679ms\n",
      "326:\tlearn: 0.0302470\ttotal: 329ms\tremaining: 677ms\n",
      "327:\tlearn: 0.0301529\ttotal: 329ms\tremaining: 675ms\n",
      "328:\tlearn: 0.0300099\ttotal: 330ms\tremaining: 672ms\n",
      "329:\tlearn: 0.0298981\ttotal: 330ms\tremaining: 670ms\n",
      "330:\tlearn: 0.0298463\ttotal: 330ms\tremaining: 668ms\n",
      "331:\tlearn: 0.0297919\ttotal: 331ms\tremaining: 665ms\n",
      "332:\tlearn: 0.0297356\ttotal: 331ms\tremaining: 663ms\n",
      "333:\tlearn: 0.0296094\ttotal: 331ms\tremaining: 660ms\n",
      "334:\tlearn: 0.0295234\ttotal: 332ms\tremaining: 659ms\n",
      "335:\tlearn: 0.0294080\ttotal: 332ms\tremaining: 657ms\n",
      "336:\tlearn: 0.0292943\ttotal: 333ms\tremaining: 655ms\n",
      "337:\tlearn: 0.0292417\ttotal: 333ms\tremaining: 652ms\n",
      "338:\tlearn: 0.0292261\ttotal: 334ms\tremaining: 650ms\n",
      "339:\tlearn: 0.0291456\ttotal: 334ms\tremaining: 648ms\n",
      "340:\tlearn: 0.0290773\ttotal: 334ms\tremaining: 646ms\n",
      "341:\tlearn: 0.0290338\ttotal: 335ms\tremaining: 644ms\n",
      "342:\tlearn: 0.0289926\ttotal: 335ms\tremaining: 641ms\n",
      "343:\tlearn: 0.0289455\ttotal: 335ms\tremaining: 639ms\n",
      "344:\tlearn: 0.0289029\ttotal: 335ms\tremaining: 637ms\n",
      "345:\tlearn: 0.0288173\ttotal: 336ms\tremaining: 635ms\n",
      "346:\tlearn: 0.0287781\ttotal: 336ms\tremaining: 633ms\n",
      "347:\tlearn: 0.0286790\ttotal: 337ms\tremaining: 631ms\n",
      "348:\tlearn: 0.0285948\ttotal: 338ms\tremaining: 630ms\n",
      "349:\tlearn: 0.0285281\ttotal: 338ms\tremaining: 628ms\n",
      "350:\tlearn: 0.0284713\ttotal: 338ms\tremaining: 626ms\n",
      "351:\tlearn: 0.0283937\ttotal: 339ms\tremaining: 623ms\n",
      "352:\tlearn: 0.0283427\ttotal: 339ms\tremaining: 621ms\n",
      "353:\tlearn: 0.0282696\ttotal: 339ms\tremaining: 620ms\n",
      "354:\tlearn: 0.0282458\ttotal: 340ms\tremaining: 617ms\n",
      "355:\tlearn: 0.0282023\ttotal: 340ms\tremaining: 616ms\n",
      "356:\tlearn: 0.0281128\ttotal: 342ms\tremaining: 616ms\n",
      "357:\tlearn: 0.0280558\ttotal: 343ms\tremaining: 615ms\n",
      "358:\tlearn: 0.0279599\ttotal: 344ms\tremaining: 613ms\n",
      "359:\tlearn: 0.0279118\ttotal: 344ms\tremaining: 612ms\n",
      "360:\tlearn: 0.0278696\ttotal: 345ms\tremaining: 610ms\n",
      "361:\tlearn: 0.0278473\ttotal: 345ms\tremaining: 608ms\n",
      "362:\tlearn: 0.0278339\ttotal: 346ms\tremaining: 607ms\n",
      "363:\tlearn: 0.0278287\ttotal: 346ms\tremaining: 605ms\n",
      "364:\tlearn: 0.0277567\ttotal: 347ms\tremaining: 604ms\n",
      "365:\tlearn: 0.0277124\ttotal: 348ms\tremaining: 602ms\n",
      "366:\tlearn: 0.0276672\ttotal: 348ms\tremaining: 601ms\n",
      "367:\tlearn: 0.0276303\ttotal: 349ms\tremaining: 600ms\n",
      "368:\tlearn: 0.0275741\ttotal: 350ms\tremaining: 598ms\n",
      "369:\tlearn: 0.0275255\ttotal: 350ms\tremaining: 596ms\n",
      "370:\tlearn: 0.0275142\ttotal: 351ms\tremaining: 594ms\n",
      "371:\tlearn: 0.0274907\ttotal: 351ms\tremaining: 592ms\n",
      "372:\tlearn: 0.0274484\ttotal: 351ms\tremaining: 591ms\n",
      "373:\tlearn: 0.0274204\ttotal: 352ms\tremaining: 589ms\n",
      "374:\tlearn: 0.0273797\ttotal: 352ms\tremaining: 587ms\n",
      "375:\tlearn: 0.0273192\ttotal: 353ms\tremaining: 585ms\n",
      "376:\tlearn: 0.0272924\ttotal: 353ms\tremaining: 583ms\n",
      "377:\tlearn: 0.0272609\ttotal: 353ms\tremaining: 581ms\n",
      "378:\tlearn: 0.0272012\ttotal: 354ms\tremaining: 579ms\n",
      "379:\tlearn: 0.0271793\ttotal: 354ms\tremaining: 577ms\n",
      "380:\tlearn: 0.0271166\ttotal: 355ms\tremaining: 577ms\n",
      "381:\tlearn: 0.0270690\ttotal: 355ms\tremaining: 575ms\n",
      "382:\tlearn: 0.0269968\ttotal: 356ms\tremaining: 573ms\n",
      "383:\tlearn: 0.0269335\ttotal: 356ms\tremaining: 572ms\n",
      "384:\tlearn: 0.0268984\ttotal: 357ms\tremaining: 570ms\n",
      "385:\tlearn: 0.0268591\ttotal: 357ms\tremaining: 569ms\n",
      "386:\tlearn: 0.0268093\ttotal: 358ms\tremaining: 568ms\n",
      "387:\tlearn: 0.0267740\ttotal: 359ms\tremaining: 566ms\n",
      "388:\tlearn: 0.0267338\ttotal: 359ms\tremaining: 564ms\n",
      "389:\tlearn: 0.0267127\ttotal: 360ms\tremaining: 563ms\n",
      "390:\tlearn: 0.0266728\ttotal: 360ms\tremaining: 561ms\n",
      "391:\tlearn: 0.0266249\ttotal: 361ms\tremaining: 560ms\n",
      "392:\tlearn: 0.0266033\ttotal: 361ms\tremaining: 558ms\n",
      "393:\tlearn: 0.0265972\ttotal: 361ms\tremaining: 556ms\n",
      "394:\tlearn: 0.0265270\ttotal: 362ms\tremaining: 554ms\n",
      "395:\tlearn: 0.0264731\ttotal: 362ms\tremaining: 552ms\n",
      "396:\tlearn: 0.0264529\ttotal: 362ms\tremaining: 550ms\n",
      "397:\tlearn: 0.0264248\ttotal: 362ms\tremaining: 548ms\n",
      "398:\tlearn: 0.0263614\ttotal: 363ms\tremaining: 546ms\n",
      "399:\tlearn: 0.0263438\ttotal: 363ms\tremaining: 545ms\n",
      "400:\tlearn: 0.0263165\ttotal: 364ms\tremaining: 544ms\n",
      "401:\tlearn: 0.0262577\ttotal: 364ms\tremaining: 542ms\n",
      "402:\tlearn: 0.0262059\ttotal: 365ms\tremaining: 540ms\n",
      "403:\tlearn: 0.0261520\ttotal: 365ms\tremaining: 538ms\n",
      "404:\tlearn: 0.0260629\ttotal: 365ms\tremaining: 537ms\n"
     ]
    },
    {
     "name": "stdout",
     "output_type": "stream",
     "text": [
      "405:\tlearn: 0.0259988\ttotal: 367ms\tremaining: 537ms\n",
      "406:\tlearn: 0.0259491\ttotal: 368ms\tremaining: 535ms\n",
      "407:\tlearn: 0.0259273\ttotal: 368ms\tremaining: 534ms\n",
      "408:\tlearn: 0.0259045\ttotal: 369ms\tremaining: 533ms\n",
      "409:\tlearn: 0.0258660\ttotal: 370ms\tremaining: 532ms\n",
      "410:\tlearn: 0.0258351\ttotal: 371ms\tremaining: 531ms\n",
      "411:\tlearn: 0.0257995\ttotal: 371ms\tremaining: 530ms\n",
      "412:\tlearn: 0.0257675\ttotal: 371ms\tremaining: 528ms\n",
      "413:\tlearn: 0.0257050\ttotal: 372ms\tremaining: 526ms\n",
      "414:\tlearn: 0.0256797\ttotal: 372ms\tremaining: 524ms\n",
      "415:\tlearn: 0.0256494\ttotal: 372ms\tremaining: 523ms\n",
      "416:\tlearn: 0.0256101\ttotal: 372ms\tremaining: 521ms\n",
      "417:\tlearn: 0.0255775\ttotal: 373ms\tremaining: 519ms\n",
      "418:\tlearn: 0.0255423\ttotal: 373ms\tremaining: 517ms\n",
      "419:\tlearn: 0.0255119\ttotal: 373ms\tremaining: 516ms\n",
      "420:\tlearn: 0.0254279\ttotal: 374ms\tremaining: 514ms\n",
      "421:\tlearn: 0.0253824\ttotal: 376ms\tremaining: 515ms\n",
      "422:\tlearn: 0.0253620\ttotal: 377ms\tremaining: 514ms\n",
      "423:\tlearn: 0.0253456\ttotal: 378ms\tremaining: 513ms\n",
      "424:\tlearn: 0.0253247\ttotal: 379ms\tremaining: 512ms\n",
      "425:\tlearn: 0.0252453\ttotal: 380ms\tremaining: 512ms\n",
      "426:\tlearn: 0.0252217\ttotal: 380ms\tremaining: 510ms\n",
      "427:\tlearn: 0.0252025\ttotal: 381ms\tremaining: 509ms\n",
      "428:\tlearn: 0.0251601\ttotal: 382ms\tremaining: 508ms\n",
      "429:\tlearn: 0.0251367\ttotal: 383ms\tremaining: 508ms\n",
      "430:\tlearn: 0.0251210\ttotal: 384ms\tremaining: 506ms\n",
      "431:\tlearn: 0.0250932\ttotal: 384ms\tremaining: 505ms\n",
      "432:\tlearn: 0.0250750\ttotal: 384ms\tremaining: 503ms\n",
      "433:\tlearn: 0.0250206\ttotal: 385ms\tremaining: 502ms\n",
      "434:\tlearn: 0.0250029\ttotal: 385ms\tremaining: 500ms\n",
      "435:\tlearn: 0.0249248\ttotal: 385ms\tremaining: 499ms\n",
      "436:\tlearn: 0.0249075\ttotal: 386ms\tremaining: 497ms\n",
      "437:\tlearn: 0.0248909\ttotal: 386ms\tremaining: 495ms\n",
      "438:\tlearn: 0.0248183\ttotal: 386ms\tremaining: 494ms\n",
      "439:\tlearn: 0.0247780\ttotal: 387ms\tremaining: 492ms\n",
      "440:\tlearn: 0.0247534\ttotal: 387ms\tremaining: 490ms\n",
      "441:\tlearn: 0.0247183\ttotal: 388ms\tremaining: 490ms\n",
      "442:\tlearn: 0.0247019\ttotal: 388ms\tremaining: 488ms\n",
      "443:\tlearn: 0.0246924\ttotal: 388ms\tremaining: 486ms\n",
      "444:\tlearn: 0.0246775\ttotal: 389ms\tremaining: 485ms\n",
      "445:\tlearn: 0.0246458\ttotal: 389ms\tremaining: 483ms\n",
      "446:\tlearn: 0.0246056\ttotal: 389ms\tremaining: 482ms\n",
      "447:\tlearn: 0.0245682\ttotal: 390ms\tremaining: 480ms\n",
      "448:\tlearn: 0.0245139\ttotal: 390ms\tremaining: 479ms\n",
      "449:\tlearn: 0.0244793\ttotal: 390ms\tremaining: 477ms\n",
      "450:\tlearn: 0.0244617\ttotal: 391ms\tremaining: 476ms\n",
      "451:\tlearn: 0.0244464\ttotal: 391ms\tremaining: 474ms\n",
      "452:\tlearn: 0.0244109\ttotal: 392ms\tremaining: 473ms\n",
      "453:\tlearn: 0.0243784\ttotal: 392ms\tremaining: 471ms\n",
      "454:\tlearn: 0.0243453\ttotal: 392ms\tremaining: 470ms\n",
      "455:\tlearn: 0.0243287\ttotal: 392ms\tremaining: 468ms\n",
      "456:\tlearn: 0.0242831\ttotal: 393ms\tremaining: 467ms\n",
      "457:\tlearn: 0.0242580\ttotal: 394ms\tremaining: 466ms\n",
      "458:\tlearn: 0.0242268\ttotal: 394ms\tremaining: 465ms\n",
      "459:\tlearn: 0.0242050\ttotal: 394ms\tremaining: 463ms\n",
      "460:\tlearn: 0.0241903\ttotal: 395ms\tremaining: 461ms\n",
      "461:\tlearn: 0.0241633\ttotal: 395ms\tremaining: 460ms\n",
      "462:\tlearn: 0.0241423\ttotal: 395ms\tremaining: 459ms\n",
      "463:\tlearn: 0.0241165\ttotal: 396ms\tremaining: 457ms\n",
      "464:\tlearn: 0.0241034\ttotal: 396ms\tremaining: 456ms\n",
      "465:\tlearn: 0.0240763\ttotal: 396ms\tremaining: 454ms\n",
      "466:\tlearn: 0.0240612\ttotal: 397ms\tremaining: 453ms\n",
      "467:\tlearn: 0.0240468\ttotal: 397ms\tremaining: 451ms\n",
      "468:\tlearn: 0.0240310\ttotal: 397ms\tremaining: 450ms\n",
      "469:\tlearn: 0.0240089\ttotal: 398ms\tremaining: 449ms\n",
      "470:\tlearn: 0.0239949\ttotal: 399ms\tremaining: 448ms\n",
      "471:\tlearn: 0.0239598\ttotal: 399ms\tremaining: 446ms\n",
      "472:\tlearn: 0.0238952\ttotal: 399ms\tremaining: 445ms\n",
      "473:\tlearn: 0.0238852\ttotal: 400ms\tremaining: 444ms\n",
      "474:\tlearn: 0.0238654\ttotal: 400ms\tremaining: 442ms\n",
      "475:\tlearn: 0.0238521\ttotal: 401ms\tremaining: 441ms\n",
      "476:\tlearn: 0.0238330\ttotal: 401ms\tremaining: 439ms\n",
      "477:\tlearn: 0.0238203\ttotal: 401ms\tremaining: 438ms\n",
      "478:\tlearn: 0.0238113\ttotal: 402ms\tremaining: 437ms\n",
      "479:\tlearn: 0.0238001\ttotal: 402ms\tremaining: 435ms\n",
      "480:\tlearn: 0.0237860\ttotal: 402ms\tremaining: 434ms\n",
      "481:\tlearn: 0.0237291\ttotal: 402ms\tremaining: 432ms\n",
      "482:\tlearn: 0.0236969\ttotal: 403ms\tremaining: 431ms\n",
      "483:\tlearn: 0.0236598\ttotal: 404ms\tremaining: 430ms\n",
      "484:\tlearn: 0.0236332\ttotal: 404ms\tremaining: 429ms\n",
      "485:\tlearn: 0.0236196\ttotal: 404ms\tremaining: 428ms\n",
      "486:\tlearn: 0.0236034\ttotal: 405ms\tremaining: 426ms\n",
      "487:\tlearn: 0.0235340\ttotal: 406ms\tremaining: 426ms\n",
      "488:\tlearn: 0.0235196\ttotal: 406ms\tremaining: 424ms\n",
      "489:\tlearn: 0.0234620\ttotal: 406ms\tremaining: 423ms\n",
      "490:\tlearn: 0.0234387\ttotal: 407ms\tremaining: 422ms\n",
      "491:\tlearn: 0.0234110\ttotal: 407ms\tremaining: 420ms\n",
      "492:\tlearn: 0.0233785\ttotal: 407ms\tremaining: 419ms\n",
      "493:\tlearn: 0.0233596\ttotal: 408ms\tremaining: 418ms\n",
      "494:\tlearn: 0.0233008\ttotal: 408ms\tremaining: 416ms\n",
      "495:\tlearn: 0.0232831\ttotal: 408ms\tremaining: 415ms\n",
      "496:\tlearn: 0.0232626\ttotal: 408ms\tremaining: 413ms\n",
      "497:\tlearn: 0.0232387\ttotal: 409ms\tremaining: 412ms\n",
      "498:\tlearn: 0.0232079\ttotal: 410ms\tremaining: 411ms\n",
      "499:\tlearn: 0.0231893\ttotal: 411ms\tremaining: 411ms\n",
      "500:\tlearn: 0.0231718\ttotal: 413ms\tremaining: 412ms\n",
      "501:\tlearn: 0.0231526\ttotal: 414ms\tremaining: 411ms\n",
      "502:\tlearn: 0.0231338\ttotal: 414ms\tremaining: 409ms\n",
      "503:\tlearn: 0.0231048\ttotal: 415ms\tremaining: 408ms\n",
      "504:\tlearn: 0.0230940\ttotal: 415ms\tremaining: 407ms\n",
      "505:\tlearn: 0.0230803\ttotal: 416ms\tremaining: 406ms\n",
      "506:\tlearn: 0.0230619\ttotal: 417ms\tremaining: 405ms\n",
      "507:\tlearn: 0.0230294\ttotal: 419ms\tremaining: 406ms\n",
      "508:\tlearn: 0.0229894\ttotal: 419ms\tremaining: 404ms\n",
      "509:\tlearn: 0.0229735\ttotal: 420ms\tremaining: 403ms\n",
      "510:\tlearn: 0.0229454\ttotal: 420ms\tremaining: 402ms\n",
      "511:\tlearn: 0.0229095\ttotal: 420ms\tremaining: 400ms\n",
      "512:\tlearn: 0.0229020\ttotal: 421ms\tremaining: 400ms\n",
      "513:\tlearn: 0.0228734\ttotal: 421ms\tremaining: 398ms\n",
      "514:\tlearn: 0.0228625\ttotal: 422ms\tremaining: 397ms\n",
      "515:\tlearn: 0.0228351\ttotal: 422ms\tremaining: 396ms\n",
      "516:\tlearn: 0.0227899\ttotal: 422ms\tremaining: 395ms\n",
      "517:\tlearn: 0.0227687\ttotal: 423ms\tremaining: 393ms\n",
      "518:\tlearn: 0.0227517\ttotal: 424ms\tremaining: 393ms\n",
      "519:\tlearn: 0.0226865\ttotal: 424ms\tremaining: 392ms\n",
      "520:\tlearn: 0.0226521\ttotal: 425ms\tremaining: 390ms\n",
      "521:\tlearn: 0.0226105\ttotal: 425ms\tremaining: 389ms\n",
      "522:\tlearn: 0.0225469\ttotal: 425ms\tremaining: 388ms\n",
      "523:\tlearn: 0.0224862\ttotal: 426ms\tremaining: 387ms\n",
      "524:\tlearn: 0.0224691\ttotal: 426ms\tremaining: 385ms\n",
      "525:\tlearn: 0.0224530\ttotal: 426ms\tremaining: 384ms\n",
      "526:\tlearn: 0.0224379\ttotal: 427ms\tremaining: 383ms\n",
      "527:\tlearn: 0.0224225\ttotal: 427ms\tremaining: 382ms\n",
      "528:\tlearn: 0.0224095\ttotal: 427ms\tremaining: 380ms\n",
      "529:\tlearn: 0.0223472\ttotal: 427ms\tremaining: 379ms\n",
      "530:\tlearn: 0.0223231\ttotal: 428ms\tremaining: 378ms\n",
      "531:\tlearn: 0.0222942\ttotal: 428ms\tremaining: 377ms\n",
      "532:\tlearn: 0.0222753\ttotal: 429ms\tremaining: 376ms\n",
      "533:\tlearn: 0.0222137\ttotal: 429ms\tremaining: 374ms\n",
      "534:\tlearn: 0.0221935\ttotal: 429ms\tremaining: 373ms\n",
      "535:\tlearn: 0.0221849\ttotal: 430ms\tremaining: 372ms\n",
      "536:\tlearn: 0.0221353\ttotal: 430ms\tremaining: 371ms\n",
      "537:\tlearn: 0.0221253\ttotal: 430ms\tremaining: 369ms\n",
      "538:\tlearn: 0.0220995\ttotal: 431ms\tremaining: 368ms\n",
      "539:\tlearn: 0.0220727\ttotal: 431ms\tremaining: 367ms\n",
      "540:\tlearn: 0.0220546\ttotal: 432ms\tremaining: 366ms\n",
      "541:\tlearn: 0.0220346\ttotal: 432ms\tremaining: 365ms\n",
      "542:\tlearn: 0.0220003\ttotal: 432ms\tremaining: 364ms\n",
      "543:\tlearn: 0.0219908\ttotal: 433ms\tremaining: 363ms\n",
      "544:\tlearn: 0.0219749\ttotal: 433ms\tremaining: 361ms\n",
      "545:\tlearn: 0.0219650\ttotal: 433ms\tremaining: 360ms\n",
      "546:\tlearn: 0.0219498\ttotal: 434ms\tremaining: 359ms\n",
      "547:\tlearn: 0.0219206\ttotal: 434ms\tremaining: 358ms\n",
      "548:\tlearn: 0.0218638\ttotal: 434ms\tremaining: 357ms\n",
      "549:\tlearn: 0.0218165\ttotal: 435ms\tremaining: 356ms\n",
      "550:\tlearn: 0.0218072\ttotal: 435ms\tremaining: 354ms\n",
      "551:\tlearn: 0.0217944\ttotal: 436ms\tremaining: 354ms\n",
      "552:\tlearn: 0.0217620\ttotal: 436ms\tremaining: 352ms\n",
      "553:\tlearn: 0.0217215\ttotal: 436ms\tremaining: 351ms\n",
      "554:\tlearn: 0.0216650\ttotal: 437ms\tremaining: 350ms\n",
      "555:\tlearn: 0.0216402\ttotal: 437ms\tremaining: 349ms\n",
      "556:\tlearn: 0.0216198\ttotal: 437ms\tremaining: 348ms\n",
      "557:\tlearn: 0.0215816\ttotal: 437ms\tremaining: 346ms\n",
      "558:\tlearn: 0.0215671\ttotal: 438ms\tremaining: 346ms\n",
      "559:\tlearn: 0.0215434\ttotal: 438ms\tremaining: 344ms\n",
      "560:\tlearn: 0.0214894\ttotal: 439ms\tremaining: 343ms\n",
      "561:\tlearn: 0.0214824\ttotal: 439ms\tremaining: 342ms\n",
      "562:\tlearn: 0.0214757\ttotal: 439ms\tremaining: 341ms\n",
      "563:\tlearn: 0.0214574\ttotal: 440ms\tremaining: 340ms\n",
      "564:\tlearn: 0.0214435\ttotal: 440ms\tremaining: 339ms\n",
      "565:\tlearn: 0.0214382\ttotal: 440ms\tremaining: 338ms\n",
      "566:\tlearn: 0.0214135\ttotal: 440ms\tremaining: 336ms\n",
      "567:\tlearn: 0.0213986\ttotal: 441ms\tremaining: 335ms\n",
      "568:\tlearn: 0.0213846\ttotal: 441ms\tremaining: 334ms\n",
      "569:\tlearn: 0.0213706\ttotal: 441ms\tremaining: 333ms\n",
      "570:\tlearn: 0.0213573\ttotal: 442ms\tremaining: 332ms\n",
      "571:\tlearn: 0.0213337\ttotal: 442ms\tremaining: 331ms\n",
      "572:\tlearn: 0.0213084\ttotal: 442ms\tremaining: 330ms\n",
      "573:\tlearn: 0.0212856\ttotal: 442ms\tremaining: 328ms\n",
      "574:\tlearn: 0.0212720\ttotal: 443ms\tremaining: 327ms\n",
      "575:\tlearn: 0.0212466\ttotal: 444ms\tremaining: 327ms\n",
      "576:\tlearn: 0.0212140\ttotal: 445ms\tremaining: 326ms\n",
      "577:\tlearn: 0.0211927\ttotal: 447ms\tremaining: 326ms\n",
      "578:\tlearn: 0.0211741\ttotal: 448ms\tremaining: 326ms\n",
      "579:\tlearn: 0.0211506\ttotal: 449ms\tremaining: 325ms\n",
      "580:\tlearn: 0.0211380\ttotal: 450ms\tremaining: 324ms\n",
      "581:\tlearn: 0.0211308\ttotal: 451ms\tremaining: 324ms\n",
      "582:\tlearn: 0.0211294\ttotal: 451ms\tremaining: 323ms\n",
      "583:\tlearn: 0.0211022\ttotal: 452ms\tremaining: 322ms\n",
      "584:\tlearn: 0.0210707\ttotal: 453ms\tremaining: 321ms\n",
      "585:\tlearn: 0.0210564\ttotal: 453ms\tremaining: 320ms\n",
      "586:\tlearn: 0.0210342\ttotal: 453ms\tremaining: 319ms\n",
      "587:\tlearn: 0.0210218\ttotal: 454ms\tremaining: 318ms\n",
      "588:\tlearn: 0.0210122\ttotal: 454ms\tremaining: 317ms\n",
      "589:\tlearn: 0.0209691\ttotal: 454ms\tremaining: 316ms\n",
      "590:\tlearn: 0.0209416\ttotal: 455ms\tremaining: 315ms\n",
      "591:\tlearn: 0.0209189\ttotal: 455ms\tremaining: 314ms\n",
      "592:\tlearn: 0.0209144\ttotal: 455ms\tremaining: 312ms\n",
      "593:\tlearn: 0.0209084\ttotal: 456ms\tremaining: 311ms\n",
      "594:\tlearn: 0.0208659\ttotal: 456ms\tremaining: 311ms\n",
      "595:\tlearn: 0.0208484\ttotal: 457ms\tremaining: 310ms\n",
      "596:\tlearn: 0.0208370\ttotal: 457ms\tremaining: 308ms\n",
      "597:\tlearn: 0.0208158\ttotal: 457ms\tremaining: 307ms\n",
      "598:\tlearn: 0.0207618\ttotal: 458ms\tremaining: 306ms\n",
      "599:\tlearn: 0.0207473\ttotal: 458ms\tremaining: 305ms\n",
      "600:\tlearn: 0.0207180\ttotal: 458ms\tremaining: 304ms\n",
      "601:\tlearn: 0.0207056\ttotal: 458ms\tremaining: 303ms\n",
      "602:\tlearn: 0.0206849\ttotal: 459ms\tremaining: 302ms\n",
      "603:\tlearn: 0.0206614\ttotal: 459ms\tremaining: 301ms\n",
      "604:\tlearn: 0.0206265\ttotal: 459ms\tremaining: 300ms\n",
      "605:\tlearn: 0.0206230\ttotal: 459ms\tremaining: 299ms\n",
      "606:\tlearn: 0.0206132\ttotal: 460ms\tremaining: 298ms\n",
      "607:\tlearn: 0.0206058\ttotal: 460ms\tremaining: 297ms\n",
      "608:\tlearn: 0.0205946\ttotal: 460ms\tremaining: 296ms\n",
      "609:\tlearn: 0.0205821\ttotal: 461ms\tremaining: 294ms\n",
      "610:\tlearn: 0.0205604\ttotal: 461ms\tremaining: 293ms\n",
      "611:\tlearn: 0.0205370\ttotal: 461ms\tremaining: 292ms\n",
      "612:\tlearn: 0.0205113\ttotal: 461ms\tremaining: 291ms\n",
      "613:\tlearn: 0.0205005\ttotal: 462ms\tremaining: 290ms\n",
      "614:\tlearn: 0.0204955\ttotal: 462ms\tremaining: 289ms\n",
      "615:\tlearn: 0.0204731\ttotal: 462ms\tremaining: 288ms\n",
      "616:\tlearn: 0.0204601\ttotal: 463ms\tremaining: 287ms\n",
      "617:\tlearn: 0.0204495\ttotal: 463ms\tremaining: 286ms\n",
      "618:\tlearn: 0.0204442\ttotal: 463ms\tremaining: 285ms\n",
      "619:\tlearn: 0.0204257\ttotal: 464ms\tremaining: 284ms\n",
      "620:\tlearn: 0.0204083\ttotal: 464ms\tremaining: 283ms\n",
      "621:\tlearn: 0.0203907\ttotal: 464ms\tremaining: 282ms\n",
      "622:\tlearn: 0.0203840\ttotal: 465ms\tremaining: 281ms\n",
      "623:\tlearn: 0.0203636\ttotal: 465ms\tremaining: 280ms\n",
      "624:\tlearn: 0.0203563\ttotal: 466ms\tremaining: 279ms\n",
      "625:\tlearn: 0.0203181\ttotal: 466ms\tremaining: 278ms\n",
      "626:\tlearn: 0.0203010\ttotal: 466ms\tremaining: 277ms\n",
      "627:\tlearn: 0.0202501\ttotal: 467ms\tremaining: 276ms\n",
      "628:\tlearn: 0.0202376\ttotal: 467ms\tremaining: 275ms\n",
      "629:\tlearn: 0.0202170\ttotal: 468ms\tremaining: 275ms\n",
      "630:\tlearn: 0.0201750\ttotal: 468ms\tremaining: 274ms\n",
      "631:\tlearn: 0.0201476\ttotal: 468ms\tremaining: 273ms\n",
      "632:\tlearn: 0.0201285\ttotal: 469ms\tremaining: 272ms\n",
      "633:\tlearn: 0.0200955\ttotal: 469ms\tremaining: 271ms\n",
      "634:\tlearn: 0.0200734\ttotal: 470ms\tremaining: 270ms\n",
      "635:\tlearn: 0.0200679\ttotal: 470ms\tremaining: 269ms\n",
      "636:\tlearn: 0.0200605\ttotal: 470ms\tremaining: 268ms\n",
      "637:\tlearn: 0.0200370\ttotal: 471ms\tremaining: 267ms\n",
      "638:\tlearn: 0.0200278\ttotal: 471ms\tremaining: 266ms\n",
      "639:\tlearn: 0.0200161\ttotal: 471ms\tremaining: 265ms\n",
      "640:\tlearn: 0.0200105\ttotal: 472ms\tremaining: 264ms\n",
      "641:\tlearn: 0.0199787\ttotal: 472ms\tremaining: 263ms\n",
      "642:\tlearn: 0.0199596\ttotal: 472ms\tremaining: 262ms\n",
      "643:\tlearn: 0.0199484\ttotal: 473ms\tremaining: 262ms\n",
      "644:\tlearn: 0.0199182\ttotal: 474ms\tremaining: 261ms\n",
      "645:\tlearn: 0.0199125\ttotal: 474ms\tremaining: 260ms\n",
      "646:\tlearn: 0.0199084\ttotal: 474ms\tremaining: 259ms\n",
      "647:\tlearn: 0.0199019\ttotal: 475ms\tremaining: 258ms\n",
      "648:\tlearn: 0.0198950\ttotal: 475ms\tremaining: 257ms\n",
      "649:\tlearn: 0.0198513\ttotal: 475ms\tremaining: 256ms\n",
      "650:\tlearn: 0.0198241\ttotal: 475ms\tremaining: 255ms\n",
      "651:\tlearn: 0.0197984\ttotal: 476ms\tremaining: 254ms\n",
      "652:\tlearn: 0.0197882\ttotal: 478ms\tremaining: 254ms\n",
      "653:\tlearn: 0.0197721\ttotal: 479ms\tremaining: 253ms\n",
      "654:\tlearn: 0.0197530\ttotal: 481ms\tremaining: 253ms\n",
      "655:\tlearn: 0.0197303\ttotal: 481ms\tremaining: 252ms\n",
      "656:\tlearn: 0.0196732\ttotal: 482ms\tremaining: 251ms\n",
      "657:\tlearn: 0.0196381\ttotal: 483ms\tremaining: 251ms\n",
      "658:\tlearn: 0.0196279\ttotal: 483ms\tremaining: 250ms\n",
      "659:\tlearn: 0.0196115\ttotal: 484ms\tremaining: 249ms\n",
      "660:\tlearn: 0.0196042\ttotal: 484ms\tremaining: 248ms\n",
      "661:\tlearn: 0.0195892\ttotal: 485ms\tremaining: 247ms\n",
      "662:\tlearn: 0.0195715\ttotal: 485ms\tremaining: 247ms\n",
      "663:\tlearn: 0.0195595\ttotal: 485ms\tremaining: 246ms\n",
      "664:\tlearn: 0.0195399\ttotal: 486ms\tremaining: 245ms\n",
      "665:\tlearn: 0.0195021\ttotal: 486ms\tremaining: 244ms\n",
      "666:\tlearn: 0.0194964\ttotal: 486ms\tremaining: 243ms\n",
      "667:\tlearn: 0.0194796\ttotal: 487ms\tremaining: 242ms\n",
      "668:\tlearn: 0.0194362\ttotal: 487ms\tremaining: 241ms\n",
      "669:\tlearn: 0.0194055\ttotal: 487ms\tremaining: 240ms\n",
      "670:\tlearn: 0.0193991\ttotal: 488ms\tremaining: 239ms\n",
      "671:\tlearn: 0.0193854\ttotal: 488ms\tremaining: 238ms\n",
      "672:\tlearn: 0.0193636\ttotal: 488ms\tremaining: 237ms\n",
      "673:\tlearn: 0.0193479\ttotal: 488ms\tremaining: 236ms\n",
      "674:\tlearn: 0.0193299\ttotal: 489ms\tremaining: 235ms\n",
      "675:\tlearn: 0.0193241\ttotal: 489ms\tremaining: 234ms\n",
      "676:\tlearn: 0.0193180\ttotal: 489ms\tremaining: 233ms\n",
      "677:\tlearn: 0.0193020\ttotal: 490ms\tremaining: 232ms\n",
      "678:\tlearn: 0.0192733\ttotal: 490ms\tremaining: 232ms\n",
      "679:\tlearn: 0.0192635\ttotal: 490ms\tremaining: 231ms\n",
      "680:\tlearn: 0.0192340\ttotal: 491ms\tremaining: 230ms\n",
      "681:\tlearn: 0.0192245\ttotal: 491ms\tremaining: 229ms\n",
      "682:\tlearn: 0.0192047\ttotal: 492ms\tremaining: 228ms\n",
      "683:\tlearn: 0.0191998\ttotal: 492ms\tremaining: 227ms\n",
      "684:\tlearn: 0.0191939\ttotal: 492ms\tremaining: 226ms\n",
      "685:\tlearn: 0.0191720\ttotal: 493ms\tremaining: 225ms\n",
      "686:\tlearn: 0.0191574\ttotal: 493ms\tremaining: 225ms\n",
      "687:\tlearn: 0.0191266\ttotal: 493ms\tremaining: 224ms\n",
      "688:\tlearn: 0.0191213\ttotal: 493ms\tremaining: 223ms\n",
      "689:\tlearn: 0.0191123\ttotal: 494ms\tremaining: 222ms\n",
      "690:\tlearn: 0.0190942\ttotal: 494ms\tremaining: 221ms\n",
      "691:\tlearn: 0.0190846\ttotal: 494ms\tremaining: 220ms\n",
      "692:\tlearn: 0.0190799\ttotal: 495ms\tremaining: 219ms\n",
      "693:\tlearn: 0.0190646\ttotal: 495ms\tremaining: 218ms\n",
      "694:\tlearn: 0.0190229\ttotal: 495ms\tremaining: 217ms\n",
      "695:\tlearn: 0.0190041\ttotal: 496ms\tremaining: 217ms\n",
      "696:\tlearn: 0.0189969\ttotal: 496ms\tremaining: 216ms\n",
      "697:\tlearn: 0.0189790\ttotal: 496ms\tremaining: 215ms\n",
      "698:\tlearn: 0.0189737\ttotal: 496ms\tremaining: 214ms\n",
      "699:\tlearn: 0.0189685\ttotal: 497ms\tremaining: 213ms\n",
      "700:\tlearn: 0.0189470\ttotal: 497ms\tremaining: 212ms\n",
      "701:\tlearn: 0.0189345\ttotal: 497ms\tremaining: 211ms\n",
      "702:\tlearn: 0.0189184\ttotal: 498ms\tremaining: 210ms\n",
      "703:\tlearn: 0.0188758\ttotal: 498ms\tremaining: 209ms\n",
      "704:\tlearn: 0.0188668\ttotal: 498ms\tremaining: 209ms\n",
      "705:\tlearn: 0.0188260\ttotal: 499ms\tremaining: 208ms\n",
      "706:\tlearn: 0.0188139\ttotal: 499ms\tremaining: 207ms\n",
      "707:\tlearn: 0.0187997\ttotal: 500ms\tremaining: 206ms\n",
      "708:\tlearn: 0.0187606\ttotal: 501ms\tremaining: 206ms\n",
      "709:\tlearn: 0.0187227\ttotal: 501ms\tremaining: 205ms\n",
      "710:\tlearn: 0.0187170\ttotal: 502ms\tremaining: 204ms\n"
     ]
    },
    {
     "name": "stdout",
     "output_type": "stream",
     "text": [
      "711:\tlearn: 0.0187084\ttotal: 502ms\tremaining: 203ms\n",
      "712:\tlearn: 0.0186790\ttotal: 502ms\tremaining: 202ms\n",
      "713:\tlearn: 0.0186661\ttotal: 503ms\tremaining: 201ms\n",
      "714:\tlearn: 0.0186503\ttotal: 503ms\tremaining: 200ms\n",
      "715:\tlearn: 0.0186413\ttotal: 507ms\tremaining: 201ms\n",
      "716:\tlearn: 0.0186337\ttotal: 508ms\tremaining: 200ms\n",
      "717:\tlearn: 0.0186309\ttotal: 508ms\tremaining: 199ms\n",
      "718:\tlearn: 0.0186157\ttotal: 512ms\tremaining: 200ms\n",
      "719:\tlearn: 0.0185846\ttotal: 512ms\tremaining: 199ms\n",
      "720:\tlearn: 0.0185491\ttotal: 516ms\tremaining: 200ms\n",
      "721:\tlearn: 0.0185235\ttotal: 517ms\tremaining: 199ms\n",
      "722:\tlearn: 0.0185063\ttotal: 517ms\tremaining: 198ms\n",
      "723:\tlearn: 0.0184800\ttotal: 518ms\tremaining: 197ms\n",
      "724:\tlearn: 0.0184707\ttotal: 518ms\tremaining: 196ms\n",
      "725:\tlearn: 0.0184572\ttotal: 518ms\tremaining: 196ms\n",
      "726:\tlearn: 0.0184523\ttotal: 519ms\tremaining: 195ms\n",
      "727:\tlearn: 0.0184342\ttotal: 519ms\tremaining: 194ms\n",
      "728:\tlearn: 0.0183976\ttotal: 519ms\tremaining: 193ms\n",
      "729:\tlearn: 0.0183886\ttotal: 519ms\tremaining: 192ms\n",
      "730:\tlearn: 0.0183758\ttotal: 520ms\tremaining: 191ms\n",
      "731:\tlearn: 0.0183648\ttotal: 520ms\tremaining: 190ms\n",
      "732:\tlearn: 0.0183388\ttotal: 520ms\tremaining: 190ms\n",
      "733:\tlearn: 0.0183266\ttotal: 521ms\tremaining: 189ms\n",
      "734:\tlearn: 0.0183185\ttotal: 521ms\tremaining: 188ms\n",
      "735:\tlearn: 0.0183053\ttotal: 521ms\tremaining: 187ms\n",
      "736:\tlearn: 0.0182885\ttotal: 522ms\tremaining: 186ms\n",
      "737:\tlearn: 0.0182637\ttotal: 522ms\tremaining: 185ms\n",
      "738:\tlearn: 0.0182383\ttotal: 523ms\tremaining: 185ms\n",
      "739:\tlearn: 0.0182232\ttotal: 523ms\tremaining: 184ms\n",
      "740:\tlearn: 0.0182180\ttotal: 523ms\tremaining: 183ms\n",
      "741:\tlearn: 0.0182066\ttotal: 523ms\tremaining: 182ms\n",
      "742:\tlearn: 0.0181753\ttotal: 524ms\tremaining: 181ms\n",
      "743:\tlearn: 0.0181708\ttotal: 524ms\tremaining: 180ms\n",
      "744:\tlearn: 0.0181494\ttotal: 524ms\tremaining: 179ms\n",
      "745:\tlearn: 0.0181179\ttotal: 525ms\tremaining: 179ms\n",
      "746:\tlearn: 0.0181102\ttotal: 525ms\tremaining: 178ms\n",
      "747:\tlearn: 0.0180681\ttotal: 525ms\tremaining: 177ms\n",
      "748:\tlearn: 0.0180457\ttotal: 526ms\tremaining: 176ms\n",
      "749:\tlearn: 0.0180311\ttotal: 526ms\tremaining: 175ms\n",
      "750:\tlearn: 0.0180093\ttotal: 527ms\tremaining: 175ms\n",
      "751:\tlearn: 0.0179923\ttotal: 527ms\tremaining: 174ms\n",
      "752:\tlearn: 0.0179784\ttotal: 527ms\tremaining: 173ms\n",
      "753:\tlearn: 0.0179615\ttotal: 528ms\tremaining: 172ms\n",
      "754:\tlearn: 0.0179570\ttotal: 528ms\tremaining: 171ms\n",
      "755:\tlearn: 0.0179497\ttotal: 528ms\tremaining: 170ms\n",
      "756:\tlearn: 0.0179409\ttotal: 528ms\tremaining: 170ms\n",
      "757:\tlearn: 0.0179241\ttotal: 529ms\tremaining: 169ms\n",
      "758:\tlearn: 0.0179020\ttotal: 530ms\tremaining: 168ms\n",
      "759:\tlearn: 0.0178903\ttotal: 530ms\tremaining: 167ms\n",
      "760:\tlearn: 0.0178836\ttotal: 530ms\tremaining: 167ms\n",
      "761:\tlearn: 0.0178681\ttotal: 530ms\tremaining: 166ms\n",
      "762:\tlearn: 0.0178442\ttotal: 531ms\tremaining: 165ms\n",
      "763:\tlearn: 0.0178391\ttotal: 531ms\tremaining: 164ms\n",
      "764:\tlearn: 0.0178299\ttotal: 531ms\tremaining: 163ms\n",
      "765:\tlearn: 0.0178173\ttotal: 532ms\tremaining: 162ms\n",
      "766:\tlearn: 0.0178041\ttotal: 532ms\tremaining: 162ms\n",
      "767:\tlearn: 0.0177832\ttotal: 532ms\tremaining: 161ms\n",
      "768:\tlearn: 0.0177691\ttotal: 532ms\tremaining: 160ms\n",
      "769:\tlearn: 0.0177558\ttotal: 533ms\tremaining: 159ms\n",
      "770:\tlearn: 0.0177493\ttotal: 534ms\tremaining: 158ms\n",
      "771:\tlearn: 0.0177417\ttotal: 534ms\tremaining: 158ms\n",
      "772:\tlearn: 0.0177338\ttotal: 535ms\tremaining: 157ms\n",
      "773:\tlearn: 0.0177202\ttotal: 535ms\tremaining: 156ms\n",
      "774:\tlearn: 0.0177097\ttotal: 536ms\tremaining: 156ms\n",
      "775:\tlearn: 0.0176992\ttotal: 536ms\tremaining: 155ms\n",
      "776:\tlearn: 0.0176887\ttotal: 537ms\tremaining: 154ms\n",
      "777:\tlearn: 0.0176763\ttotal: 537ms\tremaining: 153ms\n",
      "778:\tlearn: 0.0176585\ttotal: 537ms\tremaining: 152ms\n",
      "779:\tlearn: 0.0176510\ttotal: 538ms\tremaining: 152ms\n",
      "780:\tlearn: 0.0176438\ttotal: 538ms\tremaining: 151ms\n",
      "781:\tlearn: 0.0176351\ttotal: 539ms\tremaining: 150ms\n",
      "782:\tlearn: 0.0176008\ttotal: 539ms\tremaining: 149ms\n",
      "783:\tlearn: 0.0175910\ttotal: 540ms\tremaining: 149ms\n",
      "784:\tlearn: 0.0175741\ttotal: 541ms\tremaining: 148ms\n",
      "785:\tlearn: 0.0175626\ttotal: 541ms\tremaining: 147ms\n",
      "786:\tlearn: 0.0175377\ttotal: 541ms\tremaining: 147ms\n",
      "787:\tlearn: 0.0175346\ttotal: 542ms\tremaining: 146ms\n",
      "788:\tlearn: 0.0175279\ttotal: 542ms\tremaining: 145ms\n",
      "789:\tlearn: 0.0175042\ttotal: 544ms\tremaining: 145ms\n",
      "790:\tlearn: 0.0174926\ttotal: 544ms\tremaining: 144ms\n",
      "791:\tlearn: 0.0174602\ttotal: 545ms\tremaining: 143ms\n",
      "792:\tlearn: 0.0174390\ttotal: 545ms\tremaining: 142ms\n",
      "793:\tlearn: 0.0174028\ttotal: 547ms\tremaining: 142ms\n",
      "794:\tlearn: 0.0173874\ttotal: 551ms\tremaining: 142ms\n",
      "795:\tlearn: 0.0173817\ttotal: 551ms\tremaining: 141ms\n",
      "796:\tlearn: 0.0173517\ttotal: 552ms\tremaining: 140ms\n",
      "797:\tlearn: 0.0173146\ttotal: 552ms\tremaining: 140ms\n",
      "798:\tlearn: 0.0173050\ttotal: 552ms\tremaining: 139ms\n",
      "799:\tlearn: 0.0172789\ttotal: 552ms\tremaining: 138ms\n",
      "800:\tlearn: 0.0172747\ttotal: 553ms\tremaining: 137ms\n",
      "801:\tlearn: 0.0172514\ttotal: 553ms\tremaining: 137ms\n",
      "802:\tlearn: 0.0172326\ttotal: 553ms\tremaining: 136ms\n",
      "803:\tlearn: 0.0172135\ttotal: 554ms\tremaining: 135ms\n",
      "804:\tlearn: 0.0172071\ttotal: 554ms\tremaining: 134ms\n",
      "805:\tlearn: 0.0171879\ttotal: 554ms\tremaining: 133ms\n",
      "806:\tlearn: 0.0171784\ttotal: 554ms\tremaining: 133ms\n",
      "807:\tlearn: 0.0171655\ttotal: 555ms\tremaining: 132ms\n",
      "808:\tlearn: 0.0171483\ttotal: 555ms\tremaining: 131ms\n",
      "809:\tlearn: 0.0171161\ttotal: 555ms\tremaining: 130ms\n",
      "810:\tlearn: 0.0170889\ttotal: 556ms\tremaining: 129ms\n",
      "811:\tlearn: 0.0170886\ttotal: 556ms\tremaining: 129ms\n",
      "812:\tlearn: 0.0170832\ttotal: 556ms\tremaining: 128ms\n",
      "813:\tlearn: 0.0170702\ttotal: 557ms\tremaining: 127ms\n",
      "814:\tlearn: 0.0170657\ttotal: 557ms\tremaining: 126ms\n",
      "815:\tlearn: 0.0170471\ttotal: 557ms\tremaining: 126ms\n",
      "816:\tlearn: 0.0170408\ttotal: 557ms\tremaining: 125ms\n",
      "817:\tlearn: 0.0170383\ttotal: 558ms\tremaining: 124ms\n",
      "818:\tlearn: 0.0170242\ttotal: 558ms\tremaining: 123ms\n",
      "819:\tlearn: 0.0169981\ttotal: 558ms\tremaining: 123ms\n",
      "820:\tlearn: 0.0169838\ttotal: 559ms\tremaining: 122ms\n",
      "821:\tlearn: 0.0169702\ttotal: 559ms\tremaining: 121ms\n",
      "822:\tlearn: 0.0169679\ttotal: 559ms\tremaining: 120ms\n",
      "823:\tlearn: 0.0169518\ttotal: 560ms\tremaining: 120ms\n",
      "824:\tlearn: 0.0169398\ttotal: 560ms\tremaining: 119ms\n",
      "825:\tlearn: 0.0169299\ttotal: 560ms\tremaining: 118ms\n",
      "826:\tlearn: 0.0169150\ttotal: 561ms\tremaining: 117ms\n",
      "827:\tlearn: 0.0169064\ttotal: 561ms\tremaining: 117ms\n",
      "828:\tlearn: 0.0168840\ttotal: 561ms\tremaining: 116ms\n",
      "829:\tlearn: 0.0168752\ttotal: 562ms\tremaining: 115ms\n",
      "830:\tlearn: 0.0168662\ttotal: 562ms\tremaining: 114ms\n",
      "831:\tlearn: 0.0168372\ttotal: 562ms\tremaining: 114ms\n",
      "832:\tlearn: 0.0168264\ttotal: 562ms\tremaining: 113ms\n",
      "833:\tlearn: 0.0168103\ttotal: 563ms\tremaining: 112ms\n",
      "834:\tlearn: 0.0168060\ttotal: 563ms\tremaining: 111ms\n",
      "835:\tlearn: 0.0168026\ttotal: 563ms\tremaining: 111ms\n",
      "836:\tlearn: 0.0167981\ttotal: 564ms\tremaining: 110ms\n",
      "837:\tlearn: 0.0167854\ttotal: 564ms\tremaining: 109ms\n",
      "838:\tlearn: 0.0167594\ttotal: 564ms\tremaining: 108ms\n",
      "839:\tlearn: 0.0167386\ttotal: 565ms\tremaining: 108ms\n",
      "840:\tlearn: 0.0167223\ttotal: 565ms\tremaining: 107ms\n",
      "841:\tlearn: 0.0167165\ttotal: 565ms\tremaining: 106ms\n",
      "842:\tlearn: 0.0166999\ttotal: 566ms\tremaining: 105ms\n",
      "843:\tlearn: 0.0166744\ttotal: 566ms\tremaining: 105ms\n",
      "844:\tlearn: 0.0166438\ttotal: 566ms\tremaining: 104ms\n",
      "845:\tlearn: 0.0166353\ttotal: 566ms\tremaining: 103ms\n",
      "846:\tlearn: 0.0166191\ttotal: 567ms\tremaining: 102ms\n",
      "847:\tlearn: 0.0166149\ttotal: 568ms\tremaining: 102ms\n",
      "848:\tlearn: 0.0165869\ttotal: 568ms\tremaining: 101ms\n",
      "849:\tlearn: 0.0165760\ttotal: 568ms\tremaining: 100ms\n",
      "850:\tlearn: 0.0165552\ttotal: 569ms\tremaining: 99.6ms\n",
      "851:\tlearn: 0.0165396\ttotal: 569ms\tremaining: 98.8ms\n",
      "852:\tlearn: 0.0165267\ttotal: 569ms\tremaining: 98.1ms\n",
      "853:\tlearn: 0.0164961\ttotal: 570ms\tremaining: 97.4ms\n",
      "854:\tlearn: 0.0164839\ttotal: 570ms\tremaining: 96.7ms\n",
      "855:\tlearn: 0.0164786\ttotal: 570ms\tremaining: 95.9ms\n",
      "856:\tlearn: 0.0164559\ttotal: 570ms\tremaining: 95.2ms\n",
      "857:\tlearn: 0.0164442\ttotal: 571ms\tremaining: 94.5ms\n",
      "858:\tlearn: 0.0164392\ttotal: 571ms\tremaining: 93.7ms\n",
      "859:\tlearn: 0.0164271\ttotal: 571ms\tremaining: 93ms\n",
      "860:\tlearn: 0.0164037\ttotal: 572ms\tremaining: 92.3ms\n",
      "861:\tlearn: 0.0163953\ttotal: 573ms\tremaining: 91.7ms\n",
      "862:\tlearn: 0.0163864\ttotal: 573ms\tremaining: 91ms\n",
      "863:\tlearn: 0.0163755\ttotal: 573ms\tremaining: 90.2ms\n",
      "864:\tlearn: 0.0163712\ttotal: 574ms\tremaining: 89.5ms\n",
      "865:\tlearn: 0.0163507\ttotal: 574ms\tremaining: 88.8ms\n",
      "866:\tlearn: 0.0163371\ttotal: 574ms\tremaining: 88.1ms\n",
      "867:\tlearn: 0.0163292\ttotal: 575ms\tremaining: 87.4ms\n",
      "868:\tlearn: 0.0163163\ttotal: 575ms\tremaining: 86.7ms\n",
      "869:\tlearn: 0.0163070\ttotal: 575ms\tremaining: 85.9ms\n",
      "870:\tlearn: 0.0163035\ttotal: 576ms\tremaining: 85.4ms\n",
      "871:\tlearn: 0.0162849\ttotal: 577ms\tremaining: 84.7ms\n",
      "872:\tlearn: 0.0162695\ttotal: 579ms\tremaining: 84.3ms\n",
      "873:\tlearn: 0.0162606\ttotal: 580ms\tremaining: 83.6ms\n",
      "874:\tlearn: 0.0162499\ttotal: 580ms\tremaining: 82.9ms\n",
      "875:\tlearn: 0.0162412\ttotal: 581ms\tremaining: 82.2ms\n",
      "876:\tlearn: 0.0162313\ttotal: 581ms\tremaining: 81.5ms\n",
      "877:\tlearn: 0.0162146\ttotal: 582ms\tremaining: 80.9ms\n",
      "878:\tlearn: 0.0162036\ttotal: 583ms\tremaining: 80.3ms\n",
      "879:\tlearn: 0.0161887\ttotal: 583ms\tremaining: 79.6ms\n",
      "880:\tlearn: 0.0161721\ttotal: 584ms\tremaining: 78.8ms\n",
      "881:\tlearn: 0.0161672\ttotal: 584ms\tremaining: 78.1ms\n",
      "882:\tlearn: 0.0161591\ttotal: 584ms\tremaining: 77.4ms\n",
      "883:\tlearn: 0.0161458\ttotal: 585ms\tremaining: 76.7ms\n",
      "884:\tlearn: 0.0161298\ttotal: 586ms\tremaining: 76.1ms\n",
      "885:\tlearn: 0.0160946\ttotal: 586ms\tremaining: 75.4ms\n",
      "886:\tlearn: 0.0160848\ttotal: 587ms\tremaining: 74.7ms\n",
      "887:\tlearn: 0.0160771\ttotal: 587ms\tremaining: 74ms\n",
      "888:\tlearn: 0.0160661\ttotal: 588ms\tremaining: 73.4ms\n",
      "889:\tlearn: 0.0160579\ttotal: 588ms\tremaining: 72.7ms\n",
      "890:\tlearn: 0.0160523\ttotal: 588ms\tremaining: 72ms\n",
      "891:\tlearn: 0.0160417\ttotal: 589ms\tremaining: 71.3ms\n",
      "892:\tlearn: 0.0160340\ttotal: 589ms\tremaining: 70.6ms\n",
      "893:\tlearn: 0.0160246\ttotal: 589ms\tremaining: 69.9ms\n",
      "894:\tlearn: 0.0160199\ttotal: 590ms\tremaining: 69.2ms\n",
      "895:\tlearn: 0.0160098\ttotal: 590ms\tremaining: 68.5ms\n",
      "896:\tlearn: 0.0159972\ttotal: 590ms\tremaining: 67.8ms\n",
      "897:\tlearn: 0.0159869\ttotal: 592ms\tremaining: 67.2ms\n",
      "898:\tlearn: 0.0159571\ttotal: 592ms\tremaining: 66.5ms\n",
      "899:\tlearn: 0.0159297\ttotal: 592ms\tremaining: 65.8ms\n",
      "900:\tlearn: 0.0159210\ttotal: 593ms\tremaining: 65.1ms\n",
      "901:\tlearn: 0.0159096\ttotal: 593ms\tremaining: 64.5ms\n",
      "902:\tlearn: 0.0158974\ttotal: 594ms\tremaining: 63.8ms\n",
      "903:\tlearn: 0.0158846\ttotal: 594ms\tremaining: 63.1ms\n",
      "904:\tlearn: 0.0158593\ttotal: 594ms\tremaining: 62.4ms\n",
      "905:\tlearn: 0.0158521\ttotal: 595ms\tremaining: 61.7ms\n",
      "906:\tlearn: 0.0158482\ttotal: 595ms\tremaining: 61ms\n",
      "907:\tlearn: 0.0158229\ttotal: 595ms\tremaining: 60.3ms\n",
      "908:\tlearn: 0.0158132\ttotal: 596ms\tremaining: 59.6ms\n",
      "909:\tlearn: 0.0158073\ttotal: 596ms\tremaining: 58.9ms\n",
      "910:\tlearn: 0.0157958\ttotal: 596ms\tremaining: 58.2ms\n",
      "911:\tlearn: 0.0157886\ttotal: 597ms\tremaining: 57.6ms\n",
      "912:\tlearn: 0.0157661\ttotal: 597ms\tremaining: 56.9ms\n",
      "913:\tlearn: 0.0157365\ttotal: 598ms\tremaining: 56.3ms\n",
      "914:\tlearn: 0.0157286\ttotal: 598ms\tremaining: 55.6ms\n",
      "915:\tlearn: 0.0157115\ttotal: 599ms\tremaining: 54.9ms\n",
      "916:\tlearn: 0.0157024\ttotal: 599ms\tremaining: 54.3ms\n",
      "917:\tlearn: 0.0156940\ttotal: 600ms\tremaining: 53.6ms\n",
      "918:\tlearn: 0.0156831\ttotal: 600ms\tremaining: 52.9ms\n",
      "919:\tlearn: 0.0156584\ttotal: 601ms\tremaining: 52.3ms\n",
      "920:\tlearn: 0.0156541\ttotal: 602ms\tremaining: 51.6ms\n",
      "921:\tlearn: 0.0156506\ttotal: 602ms\tremaining: 50.9ms\n",
      "922:\tlearn: 0.0156430\ttotal: 602ms\tremaining: 50.2ms\n",
      "923:\tlearn: 0.0156371\ttotal: 603ms\tremaining: 49.6ms\n",
      "924:\tlearn: 0.0156226\ttotal: 603ms\tremaining: 48.9ms\n",
      "925:\tlearn: 0.0156152\ttotal: 604ms\tremaining: 48.2ms\n",
      "926:\tlearn: 0.0156034\ttotal: 604ms\tremaining: 47.5ms\n",
      "927:\tlearn: 0.0155913\ttotal: 604ms\tremaining: 46.9ms\n",
      "928:\tlearn: 0.0155900\ttotal: 605ms\tremaining: 46.2ms\n",
      "929:\tlearn: 0.0155852\ttotal: 605ms\tremaining: 45.5ms\n",
      "930:\tlearn: 0.0155806\ttotal: 605ms\tremaining: 44.8ms\n",
      "931:\tlearn: 0.0155740\ttotal: 605ms\tremaining: 44.2ms\n",
      "932:\tlearn: 0.0155656\ttotal: 606ms\tremaining: 43.5ms\n",
      "933:\tlearn: 0.0155577\ttotal: 606ms\tremaining: 42.9ms\n",
      "934:\tlearn: 0.0155566\ttotal: 607ms\tremaining: 42.2ms\n",
      "935:\tlearn: 0.0155467\ttotal: 607ms\tremaining: 41.5ms\n",
      "936:\tlearn: 0.0155259\ttotal: 608ms\tremaining: 40.9ms\n",
      "937:\tlearn: 0.0155193\ttotal: 608ms\tremaining: 40.2ms\n",
      "938:\tlearn: 0.0155057\ttotal: 609ms\tremaining: 39.5ms\n",
      "939:\tlearn: 0.0154930\ttotal: 610ms\tremaining: 38.9ms\n",
      "940:\tlearn: 0.0154862\ttotal: 610ms\tremaining: 38.3ms\n",
      "941:\tlearn: 0.0154723\ttotal: 610ms\tremaining: 37.6ms\n",
      "942:\tlearn: 0.0154507\ttotal: 611ms\tremaining: 36.9ms\n",
      "943:\tlearn: 0.0154448\ttotal: 611ms\tremaining: 36.2ms\n",
      "944:\tlearn: 0.0154295\ttotal: 611ms\tremaining: 35.6ms\n",
      "945:\tlearn: 0.0154196\ttotal: 612ms\tremaining: 35ms\n",
      "946:\tlearn: 0.0154169\ttotal: 613ms\tremaining: 34.3ms\n",
      "947:\tlearn: 0.0154017\ttotal: 613ms\tremaining: 33.6ms\n",
      "948:\tlearn: 0.0153734\ttotal: 613ms\tremaining: 33ms\n",
      "949:\tlearn: 0.0153658\ttotal: 614ms\tremaining: 32.3ms\n",
      "950:\tlearn: 0.0153413\ttotal: 614ms\tremaining: 31.6ms\n",
      "951:\tlearn: 0.0153155\ttotal: 614ms\tremaining: 31ms\n",
      "952:\tlearn: 0.0153129\ttotal: 615ms\tremaining: 30.3ms\n",
      "953:\tlearn: 0.0153049\ttotal: 615ms\tremaining: 29.6ms\n",
      "954:\tlearn: 0.0152918\ttotal: 616ms\tremaining: 29ms\n",
      "955:\tlearn: 0.0152463\ttotal: 616ms\tremaining: 28.3ms\n",
      "956:\tlearn: 0.0152356\ttotal: 616ms\tremaining: 27.7ms\n",
      "957:\tlearn: 0.0152311\ttotal: 617ms\tremaining: 27ms\n",
      "958:\tlearn: 0.0152228\ttotal: 617ms\tremaining: 26.4ms\n",
      "959:\tlearn: 0.0152064\ttotal: 619ms\tremaining: 25.8ms\n",
      "960:\tlearn: 0.0152001\ttotal: 620ms\tremaining: 25.1ms\n",
      "961:\tlearn: 0.0151966\ttotal: 620ms\tremaining: 24.5ms\n",
      "962:\tlearn: 0.0151756\ttotal: 620ms\tremaining: 23.8ms\n",
      "963:\tlearn: 0.0151515\ttotal: 621ms\tremaining: 23.2ms\n",
      "964:\tlearn: 0.0151448\ttotal: 621ms\tremaining: 22.5ms\n",
      "965:\tlearn: 0.0151402\ttotal: 621ms\tremaining: 21.9ms\n",
      "966:\tlearn: 0.0151350\ttotal: 621ms\tremaining: 21.2ms\n",
      "967:\tlearn: 0.0151245\ttotal: 634ms\tremaining: 20.9ms\n"
     ]
    },
    {
     "name": "stdout",
     "output_type": "stream",
     "text": [
      "968:\tlearn: 0.0151183\ttotal: 645ms\tremaining: 20.6ms\n",
      "969:\tlearn: 0.0150950\ttotal: 648ms\tremaining: 20ms\n",
      "970:\tlearn: 0.0150765\ttotal: 649ms\tremaining: 19.4ms\n",
      "971:\tlearn: 0.0150697\ttotal: 652ms\tremaining: 18.8ms\n",
      "972:\tlearn: 0.0150524\ttotal: 657ms\tremaining: 18.2ms\n",
      "973:\tlearn: 0.0150257\ttotal: 659ms\tremaining: 17.6ms\n",
      "974:\tlearn: 0.0150185\ttotal: 662ms\tremaining: 17ms\n",
      "975:\tlearn: 0.0149996\ttotal: 667ms\tremaining: 16.4ms\n",
      "976:\tlearn: 0.0149904\ttotal: 672ms\tremaining: 15.8ms\n",
      "977:\tlearn: 0.0149863\ttotal: 703ms\tremaining: 15.8ms\n",
      "978:\tlearn: 0.0149700\ttotal: 704ms\tremaining: 15.1ms\n",
      "979:\tlearn: 0.0149627\ttotal: 708ms\tremaining: 14.4ms\n",
      "980:\tlearn: 0.0149589\ttotal: 710ms\tremaining: 13.7ms\n",
      "981:\tlearn: 0.0149508\ttotal: 711ms\tremaining: 13ms\n",
      "982:\tlearn: 0.0149365\ttotal: 711ms\tremaining: 12.3ms\n",
      "983:\tlearn: 0.0149208\ttotal: 712ms\tremaining: 11.6ms\n",
      "984:\tlearn: 0.0149153\ttotal: 719ms\tremaining: 10.9ms\n",
      "985:\tlearn: 0.0149110\ttotal: 721ms\tremaining: 10.2ms\n",
      "986:\tlearn: 0.0148990\ttotal: 721ms\tremaining: 9.5ms\n",
      "987:\tlearn: 0.0148568\ttotal: 722ms\tremaining: 8.77ms\n",
      "988:\tlearn: 0.0148542\ttotal: 723ms\tremaining: 8.04ms\n",
      "989:\tlearn: 0.0148504\ttotal: 724ms\tremaining: 7.31ms\n",
      "990:\tlearn: 0.0148456\ttotal: 724ms\tremaining: 6.58ms\n",
      "991:\tlearn: 0.0148343\ttotal: 725ms\tremaining: 5.85ms\n",
      "992:\tlearn: 0.0148168\ttotal: 725ms\tremaining: 5.11ms\n",
      "993:\tlearn: 0.0148127\ttotal: 726ms\tremaining: 4.38ms\n",
      "994:\tlearn: 0.0148054\ttotal: 726ms\tremaining: 3.65ms\n",
      "995:\tlearn: 0.0147859\ttotal: 727ms\tremaining: 2.92ms\n",
      "996:\tlearn: 0.0147810\ttotal: 727ms\tremaining: 2.19ms\n",
      "997:\tlearn: 0.0147743\ttotal: 728ms\tremaining: 1.46ms\n",
      "998:\tlearn: 0.0147581\ttotal: 728ms\tremaining: 729us\n",
      "999:\tlearn: 0.0147470\ttotal: 729ms\tremaining: 0us\n"
     ]
    },
    {
     "data": {
      "text/plain": [
       "<catboost.core.CatBoostRegressor at 0x7fc4514c8700>"
      ]
     },
     "execution_count": 9,
     "metadata": {},
     "output_type": "execute_result"
    }
   ],
   "source": [
    "#Train the Model \n",
    "prior_model = ctb.CatBoostRegressor()\n",
    "prior_model.fit(X_train,Y_train)"
   ]
  },
  {
   "cell_type": "code",
   "execution_count": 10,
   "id": "af65dcda",
   "metadata": {
    "execution": {
     "iopub.execute_input": "2022-07-24T13:20:01.895465Z",
     "iopub.status.busy": "2022-07-24T13:20:01.892824Z",
     "iopub.status.idle": "2022-07-24T13:20:01.948954Z",
     "shell.execute_reply": "2022-07-24T13:20:01.936462Z"
    },
    "id": "af65dcda",
    "papermill": {
     "duration": 0.203616,
     "end_time": "2022-07-24T13:20:01.962844",
     "exception": false,
     "start_time": "2022-07-24T13:20:01.759228",
     "status": "completed"
    },
    "tags": []
   },
   "outputs": [
    {
     "data": {
      "application/scrapbook.scrap.json+json": {
       "data": 0.0012701895430212058,
       "encoder": "json",
       "name": "Prior Model MSE",
       "version": 1
      }
     },
     "metadata": {
      "scrapbook": {
       "data": true,
       "display": false,
       "name": "Prior Model MSE"
      }
     },
     "output_type": "display_data"
    },
    {
     "data": {
      "application/scrapbook.scrap.json+json": {
       "data": 0.9235586784614592,
       "encoder": "json",
       "name": "ABC Pre-generator MSE",
       "version": 1
      }
     },
     "metadata": {
      "scrapbook": {
       "data": true,
       "display": false,
       "name": "ABC Pre-generator MSE"
      }
     },
     "output_type": "display_data"
    },
    {
     "data": {
      "application/scrapbook.scrap.json+json": {
       "data": 0.02052991802900808,
       "encoder": "json",
       "name": "Prior Model MAE",
       "version": 1
      }
     },
     "metadata": {
      "scrapbook": {
       "data": true,
       "display": false,
       "name": "Prior Model MAE"
      }
     },
     "output_type": "display_data"
    },
    {
     "name": "stdout",
     "output_type": "stream",
     "text": [
      "Prior Model MAE 0.02052991802900808\n",
      "ABC Pre-generator MAE 0.7680837244942341\n"
     ]
    }
   ],
   "source": [
    "y_pred = prior_model.predict(X_test)\n",
    "y_abc = y_pred + np.random.normal(0,variance, y_pred.shape) + bias \n",
    "mse = mean_squared_error(y_pred,Y_test)\n",
    "sb.glue(\"Prior Model MSE\",mse)\n",
    "mse = mean_squared_error(y_abc,Y_test)\n",
    "sb.glue(\"ABC Pre-generator MSE\",mse)\n",
    "mae = mean_absolute_error(y_pred,Y_test)\n",
    "sb.glue(\"Prior Model MAE\",mae)\n",
    "print(\"Prior Model MAE\",mae)\n",
    "mae = mean_absolute_error(y_abc,Y_test)\n",
    "print(\"ABC Pre-generator MAE\",mae)"
   ]
  },
  {
   "cell_type": "markdown",
   "id": "25609da2",
   "metadata": {
    "papermill": {
     "duration": 0.022718,
     "end_time": "2022-07-24T13:20:02.009589",
     "exception": false,
     "start_time": "2022-07-24T13:20:01.986871",
     "status": "completed"
    },
    "tags": []
   },
   "source": [
    "# mGAN Model"
   ]
  },
  {
   "cell_type": "code",
   "execution_count": 11,
   "id": "dfc3464d",
   "metadata": {
    "execution": {
     "iopub.execute_input": "2022-07-24T13:20:02.036015Z",
     "iopub.status.busy": "2022-07-24T13:20:02.035177Z",
     "iopub.status.idle": "2022-07-24T13:20:02.042025Z",
     "shell.execute_reply": "2022-07-24T13:20:02.040412Z"
    },
    "papermill": {
     "duration": 0.027087,
     "end_time": "2022-07-24T13:20:02.048329",
     "exception": false,
     "start_time": "2022-07-24T13:20:02.021242",
     "status": "completed"
    },
    "tags": []
   },
   "outputs": [],
   "source": [
    "# gen = network.Generator(n_features+1).to(device)\n",
    "# disc = network.Discriminator(n_features+1).to(device)\n",
    "\n",
    "# criterion = torch.nn.BCELoss()\n",
    "# gen_opt = torch.optim.Adam(gen.parameters(), lr=0.01, betas=(0.5, 0.999))\n",
    "# disc_opt = torch.optim.Adam(disc.parameters(), lr=0.01, betas=(0.5, 0.999))"
   ]
  },
  {
   "cell_type": "code",
   "execution_count": 12,
   "id": "b75fdd85",
   "metadata": {
    "execution": {
     "iopub.execute_input": "2022-07-24T13:20:02.117326Z",
     "iopub.status.busy": "2022-07-24T13:20:02.116731Z",
     "iopub.status.idle": "2022-07-24T13:20:02.125014Z",
     "shell.execute_reply": "2022-07-24T13:20:02.123194Z"
    },
    "papermill": {
     "duration": 0.053546,
     "end_time": "2022-07-24T13:20:02.129183",
     "exception": false,
     "start_time": "2022-07-24T13:20:02.075637",
     "status": "completed"
    },
    "tags": []
   },
   "outputs": [],
   "source": [
    "#Training the ABC_GAN \n",
    "# ABC_train_test2.training_GAN(disc,gen,disc_opt,gen_opt,train_data,batch_size,n_epochs,criterion,prior_model,variance,bias,device)"
   ]
  },
  {
   "cell_type": "code",
   "execution_count": 13,
   "id": "1fa7c368",
   "metadata": {
    "execution": {
     "iopub.execute_input": "2022-07-24T13:20:02.173038Z",
     "iopub.status.busy": "2022-07-24T13:20:02.172446Z",
     "iopub.status.idle": "2022-07-24T13:20:02.179602Z",
     "shell.execute_reply": "2022-07-24T13:20:02.178581Z"
    },
    "papermill": {
     "duration": 0.037352,
     "end_time": "2022-07-24T13:20:02.183591",
     "exception": false,
     "start_time": "2022-07-24T13:20:02.146239",
     "status": "completed"
    },
    "tags": []
   },
   "outputs": [],
   "source": [
    "# ABC_GAN1_metrics=ABC_train_test2.test_generator(gen,test_data,prior_model,variance,bias,\"1\",device)\n",
    "# sb.glue(\"ABC_GAN_1 Metrics\",ABC_GAN1_metrics)\n",
    "\n",
    "# print(\"MAE\")\n",
    "# print(mean(ABC_GAN1_metrics[1]))"
   ]
  },
  {
   "cell_type": "code",
   "execution_count": 14,
   "id": "eb22ce5c",
   "metadata": {
    "execution": {
     "iopub.execute_input": "2022-07-24T13:20:02.220668Z",
     "iopub.status.busy": "2022-07-24T13:20:02.219995Z",
     "iopub.status.idle": "2022-07-24T13:20:02.224188Z",
     "shell.execute_reply": "2022-07-24T13:20:02.223392Z"
    },
    "papermill": {
     "duration": 0.028619,
     "end_time": "2022-07-24T13:20:02.231586",
     "exception": false,
     "start_time": "2022-07-24T13:20:02.202967",
     "status": "completed"
    },
    "tags": []
   },
   "outputs": [],
   "source": [
    "# sanityChecks.discProbVsError(train_data,disc,device)\n",
    "# sanityChecks.discProbVsError(test_data,disc,device)"
   ]
  },
  {
   "cell_type": "markdown",
   "id": "944d3ace",
   "metadata": {
    "papermill": {
     "duration": 0.018187,
     "end_time": "2022-07-24T13:20:02.267707",
     "exception": false,
     "start_time": "2022-07-24T13:20:02.249520",
     "status": "completed"
    },
    "tags": []
   },
   "source": [
    "# mGAN Model with TabNet Generator"
   ]
  },
  {
   "cell_type": "markdown",
   "id": "e2392e7e",
   "metadata": {
    "tags": [
     "papermill-error-cell-tag"
    ]
   },
   "source": [
    "<span id=\"papermill-error-cell\" style=\"color:red; font-family:Helvetica Neue, Helvetica, Arial, sans-serif; font-size:2em;\">Execution using papermill encountered an exception here and stopped:</span>"
   ]
  },
  {
   "cell_type": "code",
   "execution_count": 15,
   "id": "9f86ebf5",
   "metadata": {
    "execution": {
     "iopub.execute_input": "2022-07-24T13:20:02.311657Z",
     "iopub.status.busy": "2022-07-24T13:20:02.311104Z",
     "iopub.status.idle": "2022-07-24T13:20:03.600896Z",
     "shell.execute_reply": "2022-07-24T13:20:03.598379Z"
    },
    "papermill": {
     "duration": 1.314844,
     "end_time": "2022-07-24T13:20:03.603737",
     "exception": true,
     "start_time": "2022-07-24T13:20:02.288893",
     "status": "failed"
    },
    "tags": []
   },
   "outputs": [
    {
     "ename": "NameError",
     "evalue": "name 'pytorch_tabnet' is not defined",
     "output_type": "error",
     "traceback": [
      "\u001b[0;31m---------------------------------------------------------------------------\u001b[0m",
      "\u001b[0;31mNameError\u001b[0m                                 Traceback (most recent call last)",
      "Input \u001b[0;32mIn [15]\u001b[0m, in \u001b[0;36m<cell line: 1>\u001b[0;34m()\u001b[0m\n\u001b[0;32m----> 1\u001b[0m gen2 \u001b[38;5;241m=\u001b[39m \u001b[43mnetwork\u001b[49m\u001b[38;5;241;43m.\u001b[39;49m\u001b[43mGeneratorTabnet\u001b[49m\u001b[43m(\u001b[49m\u001b[43mn_features\u001b[49m\u001b[38;5;241;43m+\u001b[39;49m\u001b[38;5;241;43m1\u001b[39;49m\u001b[43m)\u001b[49m\u001b[38;5;241m.\u001b[39mto(device)\n\u001b[1;32m      2\u001b[0m disc2 \u001b[38;5;241m=\u001b[39m network\u001b[38;5;241m.\u001b[39mDiscriminator(n_features\u001b[38;5;241m+\u001b[39m\u001b[38;5;241m1\u001b[39m)\u001b[38;5;241m.\u001b[39mto(device)\n\u001b[1;32m      4\u001b[0m criterion \u001b[38;5;241m=\u001b[39m torch\u001b[38;5;241m.\u001b[39mnn\u001b[38;5;241m.\u001b[39mBCELoss()\n",
      "File \u001b[0;32m~/Dropbox/My Mac (Pronoma’s MacBook Air)/Desktop/ABC_GAN/ABC_GAN-2/Notebooks4/Energy_efficiency/../../src/network.py:133\u001b[0m, in \u001b[0;36mGeneratorTabnet.__init__\u001b[0;34m(self, n_input)\u001b[0m\n\u001b[1;32m    131\u001b[0m \u001b[38;5;28;01mdef\u001b[39;00m \u001b[38;5;21m__init__\u001b[39m(\u001b[38;5;28mself\u001b[39m,n_input):\n\u001b[1;32m    132\u001b[0m   \u001b[38;5;28msuper\u001b[39m()\u001b[38;5;241m.\u001b[39m\u001b[38;5;21m__init__\u001b[39m()\n\u001b[0;32m--> 133\u001b[0m   \u001b[38;5;28mself\u001b[39m\u001b[38;5;241m.\u001b[39moutput \u001b[38;5;241m=\u001b[39m \u001b[43mpytorch_tabnet\u001b[49m\u001b[38;5;241m.\u001b[39mtab_network\u001b[38;5;241m.\u001b[39mTabNet(n_input, \u001b[38;5;241m1\u001b[39m)\n",
      "\u001b[0;31mNameError\u001b[0m: name 'pytorch_tabnet' is not defined"
     ]
    }
   ],
   "source": [
    "gen2 = network.GeneratorTabnet(n_features+1).to(device)\n",
    "disc2 = network.Discriminator(n_features+1).to(device)\n",
    "\n",
    "criterion = torch.nn.BCELoss()\n",
    "gen_opt = torch.optim.Adam(gen2.parameters(), lr=0.01, betas=(0.5, 0.999))\n",
    "disc_opt = torch.optim.Adam(disc2.parameters(), lr=0.01, betas=(0.5, 0.999))"
   ]
  },
  {
   "cell_type": "code",
   "execution_count": null,
   "id": "749c03b5",
   "metadata": {
    "papermill": {
     "duration": null,
     "end_time": null,
     "exception": null,
     "start_time": null,
     "status": "pending"
    },
    "tags": []
   },
   "outputs": [],
   "source": [
    "#Training the ABC_GAN \n",
    "ABC_train_test2.training_GAN(disc2,gen2,disc_opt,gen_opt,train_data,batch_size,n_epochs,criterion,prior_model,variance,bias,device)"
   ]
  },
  {
   "cell_type": "code",
   "execution_count": null,
   "id": "92bf94d2",
   "metadata": {
    "papermill": {
     "duration": null,
     "end_time": null,
     "exception": null,
     "start_time": null,
     "status": "pending"
    },
    "tags": []
   },
   "outputs": [],
   "source": [
    "ABC_GAN2_metrics=ABC_train_test2.test_generator(gen2,test_data,prior_model,variance,bias,\"1\",device)\n",
    "sb.glue(\"ABC_GAN_2 Metrics\",ABC_GAN2_metrics)\n",
    "\n",
    "print(\"MAE\")\n",
    "print(mean(ABC_GAN2_metrics[1]))"
   ]
  },
  {
   "cell_type": "code",
   "execution_count": null,
   "id": "0d5d7a4c",
   "metadata": {
    "papermill": {
     "duration": null,
     "end_time": null,
     "exception": null,
     "start_time": null,
     "status": "pending"
    },
    "tags": []
   },
   "outputs": [],
   "source": [
    "sanityChecks.discProbVsError(train_data,disc2,device)\n",
    "sanityChecks.discProbVsError(test_data,disc2,device)"
   ]
  },
  {
   "cell_type": "markdown",
   "id": "130f3a4d",
   "metadata": {
    "id": "130f3a4d",
    "papermill": {
     "duration": null,
     "end_time": null,
     "exception": null,
     "start_time": null,
     "status": "pending"
    },
    "tags": []
   },
   "source": [
    "# skipGAN Model"
   ]
  },
  {
   "cell_type": "code",
   "execution_count": null,
   "id": "4e43dad1",
   "metadata": {
    "id": "4e43dad1",
    "papermill": {
     "duration": null,
     "end_time": null,
     "exception": null,
     "start_time": null,
     "status": "pending"
    },
    "tags": []
   },
   "outputs": [],
   "source": [
    "# #Generator\n",
    "# gen3 = network.GeneratorWithSkipConnection(n_features+1).to(device)\n",
    "# constraints=network.weightConstraint()\n",
    "# #Discriminator \n",
    "# disc3 = network.Discriminator(n_features+1).to(device)\n",
    "\n",
    "# criterion = torch.nn.BCELoss()\n",
    "# gen_opt = torch.optim.Adam(gen3.parameters(), lr=0.01, betas=(0.5, 0.999))\n",
    "# disc_opt = torch.optim.Adam(disc3.parameters(), lr=0.01, betas=(0.5, 0.999))\n"
   ]
  },
  {
   "cell_type": "code",
   "execution_count": null,
   "id": "26acbc37",
   "metadata": {
    "id": "26acbc37",
    "papermill": {
     "duration": null,
     "end_time": null,
     "exception": null,
     "start_time": null,
     "status": "pending"
    },
    "tags": []
   },
   "outputs": [],
   "source": [
    "ABC_train_test2.training_GAN_skip_connection(disc3,gen3,disc_opt,gen_opt,train_data,batch_size,n_epochs,criterion,prior_model,variance,bias,device)"
   ]
  },
  {
   "cell_type": "code",
   "execution_count": null,
   "id": "c5e0717b",
   "metadata": {
    "id": "c5e0717b",
    "papermill": {
     "duration": null,
     "end_time": null,
     "exception": null,
     "start_time": null,
     "status": "pending"
    },
    "tags": []
   },
   "outputs": [],
   "source": [
    "# ABC_GAN3_metrics=ABC_train_test2.test_generator(gen3,test_data,prior_model,variance,bias,\"3\",device)\n",
    "# sb.glue(\"ABC_GAN_3 Metrics\",ABC_GAN3_metrics)\n",
    "\n",
    "# print(\"MAE\")\n",
    "# print(mean(ABC_GAN3_metrics[1]))"
   ]
  },
  {
   "cell_type": "code",
   "execution_count": null,
   "id": "c8e46b48",
   "metadata": {
    "id": "c8e46b48",
    "papermill": {
     "duration": null,
     "end_time": null,
     "exception": null,
     "start_time": null,
     "status": "pending"
    },
    "tags": []
   },
   "outputs": [],
   "source": [
    "# sanityChecks.discProbVsError(train_data,disc3,device)\n",
    "# sanityChecks.discProbVsError(test_data,disc3,device)"
   ]
  },
  {
   "cell_type": "markdown",
   "id": "c0be88ce",
   "metadata": {
    "id": "130f3a4d",
    "papermill": {
     "duration": null,
     "end_time": null,
     "exception": null,
     "start_time": null,
     "status": "pending"
    },
    "tags": []
   },
   "source": [
    "# skipGAN Model with TabNet Generator"
   ]
  },
  {
   "cell_type": "code",
   "execution_count": null,
   "id": "3097c751",
   "metadata": {
    "id": "4e43dad1",
    "papermill": {
     "duration": null,
     "end_time": null,
     "exception": null,
     "start_time": null,
     "status": "pending"
    },
    "tags": []
   },
   "outputs": [],
   "source": [
    "# #Generator\n",
    "# gen4 = network.GeneratorTabnetskipConnection(n_features+1).to(device)\n",
    "# constraints=network.weightConstraint()\n",
    "# #Discriminator \n",
    "# disc4 = network.Discriminator(n_features+1).to(device)\n",
    "\n",
    "# criterion = torch.nn.BCELoss()\n",
    "# gen_opt = torch.optim.Adam(gen4.parameters(), lr=0.01, betas=(0.5, 0.999))\n",
    "# disc_opt = torch.optim.Adam(disc4.parameters(), lr=0.01, betas=(0.5, 0.999))\n"
   ]
  },
  {
   "cell_type": "code",
   "execution_count": null,
   "id": "54fbf14a",
   "metadata": {
    "id": "26acbc37",
    "papermill": {
     "duration": null,
     "end_time": null,
     "exception": null,
     "start_time": null,
     "status": "pending"
    },
    "tags": []
   },
   "outputs": [],
   "source": [
    "# ABC_train_test2.training_GAN_skip_connection(disc4,gen4,disc_opt,gen_opt,train_data,batch_size,n_epochs,criterion,prior_model,variance,bias,device)"
   ]
  },
  {
   "cell_type": "code",
   "execution_count": null,
   "id": "329c37c9",
   "metadata": {
    "id": "c5e0717b",
    "papermill": {
     "duration": null,
     "end_time": null,
     "exception": null,
     "start_time": null,
     "status": "pending"
    },
    "tags": []
   },
   "outputs": [],
   "source": [
    "# ABC_GAN4_metrics=ABC_train_test2.test_generator(gen4,test_data,prior_model,variance,bias,\"3\",device)\n",
    "# sb.glue(\"ABC_GAN_4 Metrics\",ABC_GAN4_metrics)\n",
    "\n",
    "# print(\"MAE\")\n",
    "# print(mean(ABC_GAN4_metrics[1]))"
   ]
  },
  {
   "cell_type": "code",
   "execution_count": null,
   "id": "605d558d",
   "metadata": {
    "id": "c8e46b48",
    "papermill": {
     "duration": null,
     "end_time": null,
     "exception": null,
     "start_time": null,
     "status": "pending"
    },
    "tags": []
   },
   "outputs": [],
   "source": [
    "# sanityChecks.discProbVsError(train_data,disc4,device)\n",
    "# sanityChecks.discProbVsError(test_data,disc4,device)"
   ]
  },
  {
   "cell_type": "markdown",
   "id": "a5bd74c3",
   "metadata": {
    "id": "a5bd74c3",
    "papermill": {
     "duration": null,
     "end_time": null,
     "exception": null,
     "start_time": null,
     "status": "pending"
    },
    "tags": []
   },
   "source": [
    "## Skip Connection Model Analysis - ABC-GAN "
   ]
  },
  {
   "cell_type": "markdown",
   "id": "5744a8bf",
   "metadata": {
    "id": "5744a8bf",
    "papermill": {
     "duration": null,
     "end_time": null,
     "exception": null,
     "start_time": null,
     "status": "pending"
    },
    "tags": []
   },
   "source": [
    "### Weight Analysis \n",
    "\n",
    "Study the weights of the skip connection layer\n",
    "\n",
    "Equation of the skip connection is \n",
    "\n",
    "$output = y_{gan} * w + y_{abc} * (1-w)$"
   ]
  },
  {
   "cell_type": "code",
   "execution_count": null,
   "id": "52c31dea",
   "metadata": {
    "id": "52c31dea",
    "papermill": {
     "duration": null,
     "end_time": null,
     "exception": null,
     "start_time": null,
     "status": "pending"
    },
    "tags": []
   },
   "outputs": [],
   "source": [
    "# print(\"Weight of the node at skip connection\")\n",
    "# for name,param in gen3.named_parameters():\n",
    "#     if(name == \"skipNode.weight\"):\n",
    "#         print(param)\n",
    "#         sb.glue(\"Skip Connection Weight\",param.item())"
   ]
  },
  {
   "cell_type": "markdown",
   "id": "192263d5",
   "metadata": {
    "id": "a5bd74c3",
    "papermill": {
     "duration": null,
     "end_time": null,
     "exception": null,
     "start_time": null,
     "status": "pending"
    },
    "tags": []
   },
   "source": [
    "## skipGAN Model Analysis (TabNet Generator) "
   ]
  },
  {
   "cell_type": "markdown",
   "id": "f2dee3e5",
   "metadata": {
    "id": "5744a8bf",
    "papermill": {
     "duration": null,
     "end_time": null,
     "exception": null,
     "start_time": null,
     "status": "pending"
    },
    "tags": []
   },
   "source": [
    "### Weight Analysis \n",
    "\n",
    "Study the weights of the skip connection layer\n",
    "\n",
    "Equation of the skip connection is \n",
    "\n",
    "$output = y_{gan} * w + y_{abc} * (1-w)$"
   ]
  },
  {
   "cell_type": "code",
   "execution_count": null,
   "id": "c890da3a",
   "metadata": {
    "id": "52c31dea",
    "papermill": {
     "duration": null,
     "end_time": null,
     "exception": null,
     "start_time": null,
     "status": "pending"
    },
    "tags": []
   },
   "outputs": [],
   "source": [
    "# print(\"Weight of the node at skip connection\")\n",
    "# for name,param in gen4.named_parameters():\n",
    "#     if(name == \"skipNode.weight\"):\n",
    "#         print(param)\n",
    "#         sb.glue(\"Skip Connection Weight\",param.item())"
   ]
  }
 ],
 "metadata": {
  "colab": {
   "collapsed_sections": [],
   "name": "ABC_GAN_Model-Catboost_Pre-gen.ipynb",
   "provenance": []
  },
  "interpreter": {
   "hash": "31f2aee4e71d21fbe5cf8b01ff0e069b9275f58929596ceb00d14d90e3e16cd6"
  },
  "kernelspec": {
   "display_name": "Python 3 (ipykernel)",
   "language": "python",
   "name": "python3"
  },
  "language_info": {
   "codemirror_mode": {
    "name": "ipython",
    "version": 3
   },
   "file_extension": ".py",
   "mimetype": "text/x-python",
   "name": "python",
   "nbconvert_exporter": "python",
   "pygments_lexer": "ipython3",
   "version": "3.8.9"
  },
  "papermill": {
   "default_parameters": {},
   "duration": 19.134365,
   "end_time": "2022-07-24T13:20:04.579840",
   "environment_variables": {},
   "exception": true,
   "input_path": "ABC_GAN-Catboost.ipynb",
   "output_path": "./ABC_GAN_Catboost/ABC-GAN_output_3_9.ipynb",
   "parameters": {
    "bias": 0,
    "variance": 1
   },
   "start_time": "2022-07-24T13:19:45.445475",
   "version": "2.3.3"
  }
 },
 "nbformat": 4,
 "nbformat_minor": 5
}
