{
 "cells": [
  {
   "cell_type": "markdown",
   "id": "622780e6",
   "metadata": {
    "id": "622780e6",
    "papermill": {
     "duration": 0.008449,
     "end_time": "2022-07-25T01:41:21.765818",
     "exception": false,
     "start_time": "2022-07-25T01:41:21.757369",
     "status": "completed"
    },
    "tags": []
   },
   "source": [
    "## Import Libraries "
   ]
  },
  {
   "cell_type": "code",
   "execution_count": 1,
   "id": "a62397e3",
   "metadata": {
    "execution": {
     "iopub.execute_input": "2022-07-25T01:41:21.791452Z",
     "iopub.status.busy": "2022-07-25T01:41:21.790480Z",
     "iopub.status.idle": "2022-07-25T01:41:21.803946Z",
     "shell.execute_reply": "2022-07-25T01:41:21.802964Z"
    },
    "id": "a62397e3",
    "papermill": {
     "duration": 0.032032,
     "end_time": "2022-07-25T01:41:21.806727",
     "exception": false,
     "start_time": "2022-07-25T01:41:21.774695",
     "status": "completed"
    },
    "tags": []
   },
   "outputs": [],
   "source": [
    "import warnings\n",
    "import sys\n",
    "sys.path.insert(0, '../../src')\n",
    "warnings.filterwarnings('ignore')"
   ]
  },
  {
   "cell_type": "code",
   "execution_count": 2,
   "id": "d6a4e155",
   "metadata": {
    "execution": {
     "iopub.execute_input": "2022-07-25T01:41:21.826332Z",
     "iopub.status.busy": "2022-07-25T01:41:21.825784Z",
     "iopub.status.idle": "2022-07-25T01:41:28.889273Z",
     "shell.execute_reply": "2022-07-25T01:41:28.888006Z"
    },
    "id": "d6a4e155",
    "papermill": {
     "duration": 7.079672,
     "end_time": "2022-07-25T01:41:28.894083",
     "exception": false,
     "start_time": "2022-07-25T01:41:21.814411",
     "status": "completed"
    },
    "tags": []
   },
   "outputs": [],
   "source": [
    "import ABC_train_test2\n",
    "import energyefficiencyDataset\n",
    "import network\n",
    "import dataset\n",
    "import sanityChecks\n",
    "import torch \n",
    "import scrapbook as sb\n",
    "from statistics import mean \n",
    "import catboost as ctb \n",
    "from sklearn.model_selection import train_test_split\n",
    "from sklearn.metrics import mean_squared_error,mean_absolute_error\n",
    "import numpy as np"
   ]
  },
  {
   "cell_type": "markdown",
   "id": "2fa5b0f7",
   "metadata": {
    "id": "2fa5b0f7",
    "papermill": {
     "duration": 0.007251,
     "end_time": "2022-07-25T01:41:28.910093",
     "exception": false,
     "start_time": "2022-07-25T01:41:28.902842",
     "status": "completed"
    },
    "tags": []
   },
   "source": [
    "## Parameters "
   ]
  },
  {
   "cell_type": "code",
   "execution_count": 3,
   "id": "783186fb",
   "metadata": {
    "execution": {
     "iopub.execute_input": "2022-07-25T01:41:28.927742Z",
     "iopub.status.busy": "2022-07-25T01:41:28.927312Z",
     "iopub.status.idle": "2022-07-25T01:41:28.932326Z",
     "shell.execute_reply": "2022-07-25T01:41:28.930918Z"
    },
    "id": "783186fb",
    "papermill": {
     "duration": 0.017941,
     "end_time": "2022-07-25T01:41:28.935267",
     "exception": false,
     "start_time": "2022-07-25T01:41:28.917326",
     "status": "completed"
    },
    "tags": [
     "parameters"
    ]
   },
   "outputs": [],
   "source": [
    "variance = 1\n",
    "bias = 1 "
   ]
  },
  {
   "cell_type": "code",
   "execution_count": 4,
   "id": "dca2591c",
   "metadata": {
    "execution": {
     "iopub.execute_input": "2022-07-25T01:41:28.951782Z",
     "iopub.status.busy": "2022-07-25T01:41:28.951366Z",
     "iopub.status.idle": "2022-07-25T01:41:28.956931Z",
     "shell.execute_reply": "2022-07-25T01:41:28.955903Z"
    },
    "papermill": {
     "duration": 0.016365,
     "end_time": "2022-07-25T01:41:28.959525",
     "exception": false,
     "start_time": "2022-07-25T01:41:28.943160",
     "status": "completed"
    },
    "tags": [
     "injected-parameters"
    ]
   },
   "outputs": [],
   "source": [
    "# Parameters\n",
    "variance = 0.01\n",
    "bias = 1\n"
   ]
  },
  {
   "cell_type": "markdown",
   "id": "391cdbfd",
   "metadata": {
    "id": "391cdbfd",
    "papermill": {
     "duration": 0.007291,
     "end_time": "2022-07-25T01:41:28.973418",
     "exception": false,
     "start_time": "2022-07-25T01:41:28.966127",
     "status": "completed"
    },
    "tags": []
   },
   "source": [
    "## Dataset \n"
   ]
  },
  {
   "cell_type": "code",
   "execution_count": 5,
   "id": "5b51f161",
   "metadata": {
    "execution": {
     "iopub.execute_input": "2022-07-25T01:41:28.997064Z",
     "iopub.status.busy": "2022-07-25T01:41:28.996338Z",
     "iopub.status.idle": "2022-07-25T01:41:29.002369Z",
     "shell.execute_reply": "2022-07-25T01:41:29.001310Z"
    },
    "id": "5b51f161",
    "papermill": {
     "duration": 0.01922,
     "end_time": "2022-07-25T01:41:29.005392",
     "exception": false,
     "start_time": "2022-07-25T01:41:28.986172",
     "status": "completed"
    },
    "tags": []
   },
   "outputs": [],
   "source": [
    "#Parameters \n",
    "n_features = 8\n",
    "n_samples= 768\n",
    "n_target = 1 "
   ]
  },
  {
   "cell_type": "code",
   "execution_count": 6,
   "id": "5d6eced4",
   "metadata": {
    "execution": {
     "iopub.execute_input": "2022-07-25T01:41:29.026114Z",
     "iopub.status.busy": "2022-07-25T01:41:29.025740Z",
     "iopub.status.idle": "2022-07-25T01:41:29.713058Z",
     "shell.execute_reply": "2022-07-25T01:41:29.711889Z"
    },
    "id": "5d6eced4",
    "papermill": {
     "duration": 0.702243,
     "end_time": "2022-07-25T01:41:29.715690",
     "exception": false,
     "start_time": "2022-07-25T01:41:29.013447",
     "status": "completed"
    },
    "tags": []
   },
   "outputs": [
    {
     "name": "stdout",
     "output_type": "stream",
     "text": [
      "     X1     X2     X3      X4   X5  X6   X7  X8     Y1     Y2\n",
      "0  0.98  514.5  294.0  110.25  7.0   2  0.0   0  15.55  21.33\n",
      "1  0.98  514.5  294.0  110.25  7.0   3  0.0   0  15.55  21.33\n",
      "2  0.98  514.5  294.0  110.25  7.0   4  0.0   0  15.55  21.33\n",
      "3  0.98  514.5  294.0  110.25  7.0   5  0.0   0  15.55  21.33\n",
      "4  0.90  563.5  318.5  122.50  7.0   2  0.0   0  20.84  28.28\n"
     ]
    }
   ],
   "source": [
    "X,Y = energyefficiencyDataset.energy_data()"
   ]
  },
  {
   "cell_type": "code",
   "execution_count": 7,
   "id": "fe007438",
   "metadata": {
    "execution": {
     "iopub.execute_input": "2022-07-25T01:41:29.737277Z",
     "iopub.status.busy": "2022-07-25T01:41:29.736834Z",
     "iopub.status.idle": "2022-07-25T01:41:29.747439Z",
     "shell.execute_reply": "2022-07-25T01:41:29.745604Z"
    },
    "id": "fe007438",
    "papermill": {
     "duration": 0.026059,
     "end_time": "2022-07-25T01:41:29.750065",
     "exception": false,
     "start_time": "2022-07-25T01:41:29.724006",
     "status": "completed"
    },
    "tags": []
   },
   "outputs": [],
   "source": [
    "#Train test split for dataset \n",
    "X_train,X_test,Y_train,Y_test = train_test_split(X,Y,test_size = 0.2)\n",
    "train_data = dataset.CustomDataset(X_train,Y_train)\n",
    "test_data = dataset.CustomDataset(X_test,Y_test)\n"
   ]
  },
  {
   "cell_type": "markdown",
   "id": "a9a1af34",
   "metadata": {
    "id": "a9a1af34",
    "papermill": {
     "duration": 0.007721,
     "end_time": "2022-07-25T01:41:29.765718",
     "exception": false,
     "start_time": "2022-07-25T01:41:29.757997",
     "status": "completed"
    },
    "tags": []
   },
   "source": [
    "## Training Parameters "
   ]
  },
  {
   "cell_type": "code",
   "execution_count": 8,
   "id": "952b7fc8",
   "metadata": {
    "execution": {
     "iopub.execute_input": "2022-07-25T01:41:29.790603Z",
     "iopub.status.busy": "2022-07-25T01:41:29.789475Z",
     "iopub.status.idle": "2022-07-25T01:41:29.797353Z",
     "shell.execute_reply": "2022-07-25T01:41:29.795912Z"
    },
    "id": "952b7fc8",
    "papermill": {
     "duration": 0.024065,
     "end_time": "2022-07-25T01:41:29.800295",
     "exception": false,
     "start_time": "2022-07-25T01:41:29.776230",
     "status": "completed"
    },
    "tags": []
   },
   "outputs": [],
   "source": [
    "batch_size = 32\n",
    "n_epochs = 1000\n",
    "#Select the device \n",
    "device = torch.device('cuda' if torch.cuda.is_available() else 'cpu')"
   ]
  },
  {
   "cell_type": "markdown",
   "id": "a95e1600",
   "metadata": {
    "id": "a95e1600",
    "papermill": {
     "duration": 0.008127,
     "end_time": "2022-07-25T01:41:29.815969",
     "exception": false,
     "start_time": "2022-07-25T01:41:29.807842",
     "status": "completed"
    },
    "tags": []
   },
   "source": [
    "# ABC Pre-generator Model \n",
    "\n",
    "1. The catboost model is used as a pre-generator model for the ABC-GAN. \n",
    "2. The model is first trained on the entire dataset \n",
    "3. It generats X,Y pairs and we add some Gaussian noise with mean 0 and variance 1 to it which is then feed as input to the generator.\n"
   ]
  },
  {
   "cell_type": "code",
   "execution_count": 9,
   "id": "ff8ce7bd",
   "metadata": {
    "execution": {
     "iopub.execute_input": "2022-07-25T01:41:29.837524Z",
     "iopub.status.busy": "2022-07-25T01:41:29.836060Z",
     "iopub.status.idle": "2022-07-25T01:41:30.809443Z",
     "shell.execute_reply": "2022-07-25T01:41:30.808714Z"
    },
    "id": "ff8ce7bd",
    "papermill": {
     "duration": 0.988112,
     "end_time": "2022-07-25T01:41:30.812240",
     "exception": false,
     "start_time": "2022-07-25T01:41:29.824128",
     "status": "completed"
    },
    "tags": []
   },
   "outputs": [
    {
     "name": "stdout",
     "output_type": "stream",
     "text": [
      "Learning rate set to 0.037906\n",
      "0:\tlearn: 0.9680815\ttotal: 52.2ms\tremaining: 52.1s\n"
     ]
    },
    {
     "name": "stdout",
     "output_type": "stream",
     "text": [
      "1:\tlearn: 0.9358094\ttotal: 52.9ms\tremaining: 26.4s\n",
      "2:\tlearn: 0.9080403\ttotal: 53.1ms\tremaining: 17.7s\n",
      "3:\tlearn: 0.8777549\ttotal: 53.9ms\tremaining: 13.4s\n",
      "4:\tlearn: 0.8525748\ttotal: 54.2ms\tremaining: 10.8s\n",
      "5:\tlearn: 0.8246278\ttotal: 54.8ms\tremaining: 9.08s\n",
      "6:\tlearn: 0.8017917\ttotal: 55.1ms\tremaining: 7.81s\n",
      "7:\tlearn: 0.7787065\ttotal: 55.6ms\tremaining: 6.9s\n",
      "8:\tlearn: 0.7527048\ttotal: 56.2ms\tremaining: 6.19s\n",
      "9:\tlearn: 0.7286639\ttotal: 57.1ms\tremaining: 5.65s\n",
      "10:\tlearn: 0.7057690\ttotal: 57.7ms\tremaining: 5.19s\n",
      "11:\tlearn: 0.6828907\ttotal: 58.2ms\tremaining: 4.79s\n",
      "12:\tlearn: 0.6641517\ttotal: 59ms\tremaining: 4.48s\n",
      "13:\tlearn: 0.6447669\ttotal: 59.6ms\tremaining: 4.2s\n",
      "14:\tlearn: 0.6244429\ttotal: 59.9ms\tremaining: 3.93s\n",
      "15:\tlearn: 0.6060563\ttotal: 60.4ms\tremaining: 3.72s\n",
      "16:\tlearn: 0.5870545\ttotal: 61ms\tremaining: 3.52s\n",
      "17:\tlearn: 0.5690027\ttotal: 61.4ms\tremaining: 3.35s\n",
      "18:\tlearn: 0.5530104\ttotal: 61.7ms\tremaining: 3.19s\n",
      "19:\tlearn: 0.5395007\ttotal: 62.1ms\tremaining: 3.04s\n",
      "20:\tlearn: 0.5224483\ttotal: 62.6ms\tremaining: 2.92s\n",
      "21:\tlearn: 0.5061692\ttotal: 63.1ms\tremaining: 2.8s\n",
      "22:\tlearn: 0.4926776\ttotal: 63.6ms\tremaining: 2.7s\n",
      "23:\tlearn: 0.4776950\ttotal: 64.1ms\tremaining: 2.61s\n",
      "24:\tlearn: 0.4622156\ttotal: 64.6ms\tremaining: 2.52s\n",
      "25:\tlearn: 0.4481020\ttotal: 65.1ms\tremaining: 2.44s\n",
      "26:\tlearn: 0.4353587\ttotal: 65.5ms\tremaining: 2.36s\n",
      "27:\tlearn: 0.4235979\ttotal: 65.9ms\tremaining: 2.29s\n",
      "28:\tlearn: 0.4122833\ttotal: 66.4ms\tremaining: 2.22s\n",
      "29:\tlearn: 0.4017886\ttotal: 66.7ms\tremaining: 2.16s\n",
      "30:\tlearn: 0.3892517\ttotal: 67.2ms\tremaining: 2.1s\n",
      "31:\tlearn: 0.3776904\ttotal: 67.6ms\tremaining: 2.04s\n",
      "32:\tlearn: 0.3674018\ttotal: 68.6ms\tremaining: 2.01s\n",
      "33:\tlearn: 0.3590406\ttotal: 69.1ms\tremaining: 1.96s\n",
      "34:\tlearn: 0.3489028\ttotal: 70.5ms\tremaining: 1.94s\n",
      "35:\tlearn: 0.3394514\ttotal: 71.3ms\tremaining: 1.91s\n",
      "36:\tlearn: 0.3310040\ttotal: 71.9ms\tremaining: 1.87s\n",
      "37:\tlearn: 0.3215804\ttotal: 72.6ms\tremaining: 1.84s\n",
      "38:\tlearn: 0.3137375\ttotal: 74ms\tremaining: 1.82s\n",
      "39:\tlearn: 0.3053100\ttotal: 75.3ms\tremaining: 1.81s\n",
      "40:\tlearn: 0.2971745\ttotal: 75.7ms\tremaining: 1.77s\n",
      "41:\tlearn: 0.2887961\ttotal: 76.3ms\tremaining: 1.74s\n",
      "42:\tlearn: 0.2827979\ttotal: 76.9ms\tremaining: 1.71s\n",
      "43:\tlearn: 0.2748850\ttotal: 77.4ms\tremaining: 1.68s\n",
      "44:\tlearn: 0.2675676\ttotal: 78.2ms\tremaining: 1.66s\n",
      "45:\tlearn: 0.2602907\ttotal: 78.6ms\tremaining: 1.63s\n",
      "46:\tlearn: 0.2526115\ttotal: 78.9ms\tremaining: 1.6s\n",
      "47:\tlearn: 0.2460433\ttotal: 79.5ms\tremaining: 1.58s\n",
      "48:\tlearn: 0.2395088\ttotal: 80ms\tremaining: 1.55s\n",
      "49:\tlearn: 0.2338668\ttotal: 80.5ms\tremaining: 1.53s\n",
      "50:\tlearn: 0.2286994\ttotal: 80.9ms\tremaining: 1.5s\n",
      "51:\tlearn: 0.2224613\ttotal: 81.5ms\tremaining: 1.49s\n",
      "52:\tlearn: 0.2175240\ttotal: 81.9ms\tremaining: 1.46s\n",
      "53:\tlearn: 0.2127371\ttotal: 82.3ms\tremaining: 1.44s\n",
      "54:\tlearn: 0.2086793\ttotal: 82.7ms\tremaining: 1.42s\n",
      "55:\tlearn: 0.2037352\ttotal: 83.2ms\tremaining: 1.4s\n",
      "56:\tlearn: 0.2004983\ttotal: 83.6ms\tremaining: 1.38s\n",
      "57:\tlearn: 0.1956536\ttotal: 84.1ms\tremaining: 1.36s\n",
      "58:\tlearn: 0.1909124\ttotal: 84.6ms\tremaining: 1.35s\n",
      "59:\tlearn: 0.1867151\ttotal: 85.1ms\tremaining: 1.33s\n",
      "60:\tlearn: 0.1828800\ttotal: 85.4ms\tremaining: 1.31s\n",
      "61:\tlearn: 0.1781464\ttotal: 86ms\tremaining: 1.3s\n",
      "62:\tlearn: 0.1751820\ttotal: 86.3ms\tremaining: 1.28s\n",
      "63:\tlearn: 0.1710161\ttotal: 86.8ms\tremaining: 1.27s\n",
      "64:\tlearn: 0.1666093\ttotal: 87.2ms\tremaining: 1.25s\n",
      "65:\tlearn: 0.1640331\ttotal: 87.6ms\tremaining: 1.24s\n",
      "66:\tlearn: 0.1600378\ttotal: 88.2ms\tremaining: 1.23s\n",
      "67:\tlearn: 0.1577078\ttotal: 88.7ms\tremaining: 1.22s\n",
      "68:\tlearn: 0.1544175\ttotal: 89.3ms\tremaining: 1.2s\n",
      "69:\tlearn: 0.1507051\ttotal: 89.8ms\tremaining: 1.19s\n",
      "70:\tlearn: 0.1481575\ttotal: 90.3ms\tremaining: 1.18s\n",
      "71:\tlearn: 0.1451809\ttotal: 90.7ms\tremaining: 1.17s\n",
      "72:\tlearn: 0.1416590\ttotal: 91.3ms\tremaining: 1.16s\n",
      "73:\tlearn: 0.1398916\ttotal: 91.7ms\tremaining: 1.15s\n",
      "74:\tlearn: 0.1367727\ttotal: 92.3ms\tremaining: 1.14s\n",
      "75:\tlearn: 0.1334176\ttotal: 92.8ms\tremaining: 1.13s\n",
      "76:\tlearn: 0.1312195\ttotal: 93.1ms\tremaining: 1.11s\n",
      "77:\tlearn: 0.1281061\ttotal: 93.5ms\tremaining: 1.1s\n",
      "78:\tlearn: 0.1256656\ttotal: 94ms\tremaining: 1.1s\n",
      "79:\tlearn: 0.1227422\ttotal: 94.6ms\tremaining: 1.09s\n",
      "80:\tlearn: 0.1200520\ttotal: 96ms\tremaining: 1.09s\n",
      "81:\tlearn: 0.1183227\ttotal: 96.6ms\tremaining: 1.08s\n",
      "82:\tlearn: 0.1161149\ttotal: 97.4ms\tremaining: 1.07s\n",
      "83:\tlearn: 0.1134556\ttotal: 97.9ms\tremaining: 1.07s\n",
      "84:\tlearn: 0.1113875\ttotal: 98.5ms\tremaining: 1.06s\n",
      "85:\tlearn: 0.1088258\ttotal: 99ms\tremaining: 1.05s\n",
      "86:\tlearn: 0.1066433\ttotal: 99.5ms\tremaining: 1.04s\n",
      "87:\tlearn: 0.1052577\ttotal: 100ms\tremaining: 1.04s\n",
      "88:\tlearn: 0.1039847\ttotal: 100ms\tremaining: 1.03s\n",
      "89:\tlearn: 0.1020031\ttotal: 101ms\tremaining: 1.02s\n",
      "90:\tlearn: 0.0998418\ttotal: 101ms\tremaining: 1.01s\n",
      "91:\tlearn: 0.0977432\ttotal: 102ms\tremaining: 1.01s\n",
      "92:\tlearn: 0.0960921\ttotal: 103ms\tremaining: 1s\n",
      "93:\tlearn: 0.0940536\ttotal: 104ms\tremaining: 999ms\n",
      "94:\tlearn: 0.0924081\ttotal: 104ms\tremaining: 993ms\n",
      "95:\tlearn: 0.0908467\ttotal: 105ms\tremaining: 986ms\n",
      "96:\tlearn: 0.0899715\ttotal: 105ms\tremaining: 980ms\n",
      "97:\tlearn: 0.0884963\ttotal: 106ms\tremaining: 975ms\n",
      "98:\tlearn: 0.0868398\ttotal: 106ms\tremaining: 969ms\n",
      "99:\tlearn: 0.0851749\ttotal: 107ms\tremaining: 963ms\n",
      "100:\tlearn: 0.0835698\ttotal: 108ms\tremaining: 957ms\n",
      "101:\tlearn: 0.0819005\ttotal: 108ms\tremaining: 952ms\n",
      "102:\tlearn: 0.0806424\ttotal: 109ms\tremaining: 945ms\n",
      "103:\tlearn: 0.0790095\ttotal: 109ms\tremaining: 941ms\n",
      "104:\tlearn: 0.0778704\ttotal: 110ms\tremaining: 935ms\n",
      "105:\tlearn: 0.0766069\ttotal: 111ms\tremaining: 932ms\n",
      "106:\tlearn: 0.0758217\ttotal: 111ms\tremaining: 927ms\n",
      "107:\tlearn: 0.0747350\ttotal: 112ms\tremaining: 922ms\n",
      "108:\tlearn: 0.0741562\ttotal: 112ms\tremaining: 916ms\n",
      "109:\tlearn: 0.0729299\ttotal: 113ms\tremaining: 912ms\n",
      "110:\tlearn: 0.0718946\ttotal: 113ms\tremaining: 908ms\n",
      "111:\tlearn: 0.0707693\ttotal: 114ms\tremaining: 903ms\n",
      "112:\tlearn: 0.0703093\ttotal: 114ms\tremaining: 897ms\n",
      "113:\tlearn: 0.0692511\ttotal: 115ms\tremaining: 893ms\n",
      "114:\tlearn: 0.0684992\ttotal: 115ms\tremaining: 887ms\n",
      "115:\tlearn: 0.0674776\ttotal: 116ms\tremaining: 883ms\n",
      "116:\tlearn: 0.0669396\ttotal: 116ms\tremaining: 877ms\n",
      "117:\tlearn: 0.0659511\ttotal: 117ms\tremaining: 873ms\n",
      "118:\tlearn: 0.0652478\ttotal: 117ms\tremaining: 868ms\n",
      "119:\tlearn: 0.0644232\ttotal: 118ms\tremaining: 864ms\n",
      "120:\tlearn: 0.0636497\ttotal: 118ms\tremaining: 860ms\n",
      "121:\tlearn: 0.0629884\ttotal: 119ms\tremaining: 856ms\n",
      "122:\tlearn: 0.0620723\ttotal: 119ms\tremaining: 851ms\n",
      "123:\tlearn: 0.0613194\ttotal: 120ms\tremaining: 847ms\n",
      "124:\tlearn: 0.0605332\ttotal: 120ms\tremaining: 843ms\n",
      "125:\tlearn: 0.0601788\ttotal: 121ms\tremaining: 839ms\n",
      "126:\tlearn: 0.0594803\ttotal: 122ms\tremaining: 835ms\n",
      "127:\tlearn: 0.0589072\ttotal: 122ms\tremaining: 832ms\n",
      "128:\tlearn: 0.0584335\ttotal: 122ms\tremaining: 827ms\n",
      "129:\tlearn: 0.0579305\ttotal: 123ms\tremaining: 822ms\n",
      "130:\tlearn: 0.0575621\ttotal: 124ms\tremaining: 819ms\n",
      "131:\tlearn: 0.0570889\ttotal: 124ms\tremaining: 815ms\n",
      "132:\tlearn: 0.0565237\ttotal: 125ms\tremaining: 812ms\n",
      "133:\tlearn: 0.0559887\ttotal: 125ms\tremaining: 809ms\n",
      "134:\tlearn: 0.0555298\ttotal: 126ms\tremaining: 805ms\n",
      "135:\tlearn: 0.0550982\ttotal: 126ms\tremaining: 802ms\n",
      "136:\tlearn: 0.0545656\ttotal: 127ms\tremaining: 798ms\n",
      "137:\tlearn: 0.0540543\ttotal: 127ms\tremaining: 796ms\n",
      "138:\tlearn: 0.0537184\ttotal: 128ms\tremaining: 793ms\n",
      "139:\tlearn: 0.0533108\ttotal: 129ms\tremaining: 790ms\n",
      "140:\tlearn: 0.0529415\ttotal: 129ms\tremaining: 787ms\n",
      "141:\tlearn: 0.0524738\ttotal: 130ms\tremaining: 785ms\n",
      "142:\tlearn: 0.0520000\ttotal: 130ms\tremaining: 782ms\n",
      "143:\tlearn: 0.0516663\ttotal: 131ms\tremaining: 779ms\n",
      "144:\tlearn: 0.0513553\ttotal: 132ms\tremaining: 776ms\n",
      "145:\tlearn: 0.0510946\ttotal: 132ms\tremaining: 772ms\n",
      "146:\tlearn: 0.0508293\ttotal: 133ms\tremaining: 769ms\n",
      "147:\tlearn: 0.0505267\ttotal: 133ms\tremaining: 766ms\n",
      "148:\tlearn: 0.0502594\ttotal: 134ms\tremaining: 763ms\n",
      "149:\tlearn: 0.0498602\ttotal: 134ms\tremaining: 761ms\n",
      "150:\tlearn: 0.0495715\ttotal: 135ms\tremaining: 758ms\n",
      "151:\tlearn: 0.0493192\ttotal: 136ms\tremaining: 756ms\n",
      "152:\tlearn: 0.0489828\ttotal: 136ms\tremaining: 753ms\n",
      "153:\tlearn: 0.0486105\ttotal: 137ms\tremaining: 750ms\n",
      "154:\tlearn: 0.0484080\ttotal: 137ms\tremaining: 748ms\n",
      "155:\tlearn: 0.0480319\ttotal: 138ms\tremaining: 745ms\n",
      "156:\tlearn: 0.0477520\ttotal: 138ms\tremaining: 742ms\n",
      "157:\tlearn: 0.0475014\ttotal: 139ms\tremaining: 740ms\n",
      "158:\tlearn: 0.0471924\ttotal: 139ms\tremaining: 737ms\n",
      "159:\tlearn: 0.0470081\ttotal: 140ms\tremaining: 734ms\n",
      "160:\tlearn: 0.0468329\ttotal: 140ms\tremaining: 731ms\n",
      "161:\tlearn: 0.0465802\ttotal: 141ms\tremaining: 728ms\n",
      "162:\tlearn: 0.0463046\ttotal: 142ms\tremaining: 730ms\n",
      "163:\tlearn: 0.0461033\ttotal: 143ms\tremaining: 728ms\n",
      "164:\tlearn: 0.0458785\ttotal: 144ms\tremaining: 728ms\n",
      "165:\tlearn: 0.0456560\ttotal: 145ms\tremaining: 727ms\n",
      "166:\tlearn: 0.0454676\ttotal: 145ms\tremaining: 725ms\n",
      "167:\tlearn: 0.0452616\ttotal: 146ms\tremaining: 722ms\n"
     ]
    },
    {
     "name": "stdout",
     "output_type": "stream",
     "text": [
      "168:\tlearn: 0.0450828\ttotal: 147ms\tremaining: 723ms\n",
      "169:\tlearn: 0.0448870\ttotal: 148ms\tremaining: 723ms\n",
      "170:\tlearn: 0.0446565\ttotal: 149ms\tremaining: 721ms\n",
      "171:\tlearn: 0.0444378\ttotal: 149ms\tremaining: 718ms\n",
      "172:\tlearn: 0.0442658\ttotal: 150ms\tremaining: 716ms\n",
      "173:\tlearn: 0.0440645\ttotal: 150ms\tremaining: 713ms\n",
      "174:\tlearn: 0.0438606\ttotal: 151ms\tremaining: 711ms\n",
      "175:\tlearn: 0.0436982\ttotal: 151ms\tremaining: 708ms\n",
      "176:\tlearn: 0.0434610\ttotal: 152ms\tremaining: 706ms\n",
      "177:\tlearn: 0.0432853\ttotal: 152ms\tremaining: 704ms\n",
      "178:\tlearn: 0.0431541\ttotal: 153ms\tremaining: 702ms\n",
      "179:\tlearn: 0.0429777\ttotal: 153ms\tremaining: 699ms\n",
      "180:\tlearn: 0.0428069\ttotal: 154ms\tremaining: 697ms\n",
      "181:\tlearn: 0.0425620\ttotal: 155ms\tremaining: 694ms\n",
      "182:\tlearn: 0.0424330\ttotal: 155ms\tremaining: 692ms\n",
      "183:\tlearn: 0.0421857\ttotal: 155ms\tremaining: 689ms\n",
      "184:\tlearn: 0.0420635\ttotal: 156ms\tremaining: 685ms\n",
      "185:\tlearn: 0.0418834\ttotal: 156ms\tremaining: 683ms\n",
      "186:\tlearn: 0.0417444\ttotal: 156ms\tremaining: 680ms\n",
      "187:\tlearn: 0.0415971\ttotal: 157ms\tremaining: 676ms\n",
      "188:\tlearn: 0.0413292\ttotal: 157ms\tremaining: 673ms\n",
      "189:\tlearn: 0.0411971\ttotal: 157ms\tremaining: 671ms\n",
      "190:\tlearn: 0.0409852\ttotal: 158ms\tremaining: 669ms\n",
      "191:\tlearn: 0.0408092\ttotal: 158ms\tremaining: 667ms\n",
      "192:\tlearn: 0.0405767\ttotal: 159ms\tremaining: 664ms\n",
      "193:\tlearn: 0.0404994\ttotal: 159ms\tremaining: 662ms\n",
      "194:\tlearn: 0.0403723\ttotal: 160ms\tremaining: 660ms\n",
      "195:\tlearn: 0.0402170\ttotal: 160ms\tremaining: 658ms\n",
      "196:\tlearn: 0.0400294\ttotal: 161ms\tremaining: 656ms\n",
      "197:\tlearn: 0.0398891\ttotal: 161ms\tremaining: 654ms\n",
      "198:\tlearn: 0.0397327\ttotal: 162ms\tremaining: 652ms\n",
      "199:\tlearn: 0.0396254\ttotal: 163ms\tremaining: 650ms\n",
      "200:\tlearn: 0.0395202\ttotal: 163ms\tremaining: 649ms\n",
      "201:\tlearn: 0.0393951\ttotal: 164ms\tremaining: 647ms\n",
      "202:\tlearn: 0.0392863\ttotal: 164ms\tremaining: 644ms\n",
      "203:\tlearn: 0.0391780\ttotal: 164ms\tremaining: 642ms\n",
      "204:\tlearn: 0.0390658\ttotal: 165ms\tremaining: 639ms\n",
      "205:\tlearn: 0.0389149\ttotal: 165ms\tremaining: 638ms\n",
      "206:\tlearn: 0.0387472\ttotal: 167ms\tremaining: 638ms\n",
      "207:\tlearn: 0.0386168\ttotal: 168ms\tremaining: 641ms\n",
      "208:\tlearn: 0.0384900\ttotal: 169ms\tremaining: 639ms\n",
      "209:\tlearn: 0.0383387\ttotal: 170ms\tremaining: 639ms\n",
      "210:\tlearn: 0.0382194\ttotal: 171ms\tremaining: 640ms\n",
      "211:\tlearn: 0.0380586\ttotal: 172ms\tremaining: 639ms\n",
      "212:\tlearn: 0.0379184\ttotal: 173ms\tremaining: 638ms\n",
      "213:\tlearn: 0.0378345\ttotal: 173ms\tremaining: 637ms\n",
      "214:\tlearn: 0.0377128\ttotal: 174ms\tremaining: 634ms\n",
      "215:\tlearn: 0.0375555\ttotal: 175ms\tremaining: 634ms\n",
      "216:\tlearn: 0.0374683\ttotal: 175ms\tremaining: 632ms\n",
      "217:\tlearn: 0.0373790\ttotal: 176ms\tremaining: 632ms\n",
      "218:\tlearn: 0.0372514\ttotal: 177ms\tremaining: 633ms\n",
      "219:\tlearn: 0.0371651\ttotal: 178ms\tremaining: 632ms\n",
      "220:\tlearn: 0.0370240\ttotal: 179ms\tremaining: 631ms\n",
      "221:\tlearn: 0.0368941\ttotal: 180ms\tremaining: 629ms\n",
      "222:\tlearn: 0.0368205\ttotal: 180ms\tremaining: 629ms\n",
      "223:\tlearn: 0.0366123\ttotal: 184ms\tremaining: 637ms\n",
      "224:\tlearn: 0.0364542\ttotal: 184ms\tremaining: 634ms\n",
      "225:\tlearn: 0.0363236\ttotal: 184ms\tremaining: 631ms\n",
      "226:\tlearn: 0.0361638\ttotal: 185ms\tremaining: 629ms\n",
      "227:\tlearn: 0.0360122\ttotal: 189ms\tremaining: 638ms\n",
      "228:\tlearn: 0.0358161\ttotal: 189ms\tremaining: 637ms\n",
      "229:\tlearn: 0.0356821\ttotal: 190ms\tremaining: 636ms\n",
      "230:\tlearn: 0.0356099\ttotal: 191ms\tremaining: 634ms\n",
      "231:\tlearn: 0.0355040\ttotal: 192ms\tremaining: 634ms\n"
     ]
    },
    {
     "name": "stdout",
     "output_type": "stream",
     "text": [
      "232:\tlearn: 0.0354074\ttotal: 193ms\tremaining: 635ms\n",
      "233:\tlearn: 0.0353006\ttotal: 194ms\tremaining: 634ms\n",
      "234:\tlearn: 0.0351689\ttotal: 195ms\tremaining: 636ms\n",
      "235:\tlearn: 0.0350894\ttotal: 197ms\tremaining: 636ms\n",
      "236:\tlearn: 0.0349940\ttotal: 197ms\tremaining: 635ms\n",
      "237:\tlearn: 0.0348209\ttotal: 198ms\tremaining: 633ms\n",
      "238:\tlearn: 0.0347159\ttotal: 199ms\tremaining: 632ms\n",
      "239:\tlearn: 0.0346341\ttotal: 199ms\tremaining: 630ms\n",
      "240:\tlearn: 0.0345221\ttotal: 200ms\tremaining: 629ms\n",
      "241:\tlearn: 0.0344579\ttotal: 200ms\tremaining: 627ms\n",
      "242:\tlearn: 0.0343291\ttotal: 201ms\tremaining: 625ms\n",
      "243:\tlearn: 0.0340712\ttotal: 202ms\tremaining: 625ms\n",
      "244:\tlearn: 0.0339974\ttotal: 203ms\tremaining: 625ms\n",
      "245:\tlearn: 0.0339108\ttotal: 203ms\tremaining: 623ms\n",
      "246:\tlearn: 0.0337629\ttotal: 204ms\tremaining: 622ms\n",
      "247:\tlearn: 0.0337009\ttotal: 205ms\tremaining: 621ms\n",
      "248:\tlearn: 0.0336297\ttotal: 206ms\tremaining: 621ms\n",
      "249:\tlearn: 0.0335742\ttotal: 207ms\tremaining: 620ms\n",
      "250:\tlearn: 0.0334639\ttotal: 207ms\tremaining: 618ms\n",
      "251:\tlearn: 0.0333504\ttotal: 208ms\tremaining: 617ms\n",
      "252:\tlearn: 0.0332361\ttotal: 208ms\tremaining: 615ms\n",
      "253:\tlearn: 0.0331294\ttotal: 209ms\tremaining: 613ms\n",
      "254:\tlearn: 0.0330727\ttotal: 210ms\tremaining: 614ms\n",
      "255:\tlearn: 0.0329830\ttotal: 211ms\tremaining: 613ms\n",
      "256:\tlearn: 0.0329363\ttotal: 212ms\tremaining: 612ms\n",
      "257:\tlearn: 0.0328168\ttotal: 212ms\tremaining: 611ms\n",
      "258:\tlearn: 0.0327423\ttotal: 213ms\tremaining: 610ms\n",
      "259:\tlearn: 0.0326072\ttotal: 214ms\tremaining: 609ms\n",
      "260:\tlearn: 0.0325030\ttotal: 215ms\tremaining: 608ms\n",
      "261:\tlearn: 0.0324246\ttotal: 216ms\tremaining: 607ms\n",
      "262:\tlearn: 0.0323122\ttotal: 216ms\tremaining: 605ms\n",
      "263:\tlearn: 0.0322057\ttotal: 217ms\tremaining: 604ms\n",
      "264:\tlearn: 0.0321558\ttotal: 218ms\tremaining: 603ms\n",
      "265:\tlearn: 0.0320872\ttotal: 218ms\tremaining: 603ms\n",
      "266:\tlearn: 0.0319905\ttotal: 219ms\tremaining: 603ms\n",
      "267:\tlearn: 0.0318982\ttotal: 220ms\tremaining: 602ms\n",
      "268:\tlearn: 0.0318573\ttotal: 221ms\tremaining: 599ms\n",
      "269:\tlearn: 0.0317485\ttotal: 221ms\tremaining: 597ms\n",
      "270:\tlearn: 0.0316551\ttotal: 221ms\tremaining: 595ms\n",
      "271:\tlearn: 0.0316015\ttotal: 222ms\tremaining: 594ms\n",
      "272:\tlearn: 0.0314996\ttotal: 222ms\tremaining: 592ms\n",
      "273:\tlearn: 0.0314374\ttotal: 223ms\tremaining: 591ms\n",
      "274:\tlearn: 0.0313379\ttotal: 224ms\tremaining: 589ms\n",
      "275:\tlearn: 0.0312203\ttotal: 224ms\tremaining: 588ms\n",
      "276:\tlearn: 0.0311795\ttotal: 225ms\tremaining: 587ms\n",
      "277:\tlearn: 0.0310436\ttotal: 225ms\tremaining: 585ms\n",
      "278:\tlearn: 0.0309326\ttotal: 226ms\tremaining: 583ms\n",
      "279:\tlearn: 0.0308214\ttotal: 226ms\tremaining: 582ms\n",
      "280:\tlearn: 0.0306532\ttotal: 227ms\tremaining: 580ms\n",
      "281:\tlearn: 0.0306006\ttotal: 227ms\tremaining: 578ms\n",
      "282:\tlearn: 0.0305171\ttotal: 228ms\tremaining: 577ms\n",
      "283:\tlearn: 0.0304266\ttotal: 228ms\tremaining: 575ms\n",
      "284:\tlearn: 0.0302962\ttotal: 228ms\tremaining: 573ms\n",
      "285:\tlearn: 0.0302357\ttotal: 229ms\tremaining: 572ms\n",
      "286:\tlearn: 0.0301510\ttotal: 230ms\tremaining: 571ms\n",
      "287:\tlearn: 0.0301006\ttotal: 230ms\tremaining: 569ms\n",
      "288:\tlearn: 0.0300156\ttotal: 231ms\tremaining: 567ms\n",
      "289:\tlearn: 0.0299337\ttotal: 231ms\tremaining: 566ms\n",
      "290:\tlearn: 0.0298855\ttotal: 232ms\tremaining: 565ms\n",
      "291:\tlearn: 0.0298046\ttotal: 232ms\tremaining: 563ms\n",
      "292:\tlearn: 0.0296829\ttotal: 233ms\tremaining: 561ms\n",
      "293:\tlearn: 0.0296013\ttotal: 233ms\tremaining: 560ms\n",
      "294:\tlearn: 0.0295246\ttotal: 234ms\tremaining: 559ms\n",
      "295:\tlearn: 0.0294767\ttotal: 234ms\tremaining: 557ms\n",
      "296:\tlearn: 0.0293907\ttotal: 235ms\tremaining: 555ms\n",
      "297:\tlearn: 0.0292961\ttotal: 235ms\tremaining: 554ms\n",
      "298:\tlearn: 0.0292067\ttotal: 236ms\tremaining: 553ms\n",
      "299:\tlearn: 0.0291321\ttotal: 236ms\tremaining: 551ms\n",
      "300:\tlearn: 0.0290550\ttotal: 237ms\tremaining: 550ms\n",
      "301:\tlearn: 0.0290095\ttotal: 237ms\tremaining: 549ms\n",
      "302:\tlearn: 0.0289233\ttotal: 238ms\tremaining: 547ms\n",
      "303:\tlearn: 0.0288518\ttotal: 238ms\tremaining: 546ms\n",
      "304:\tlearn: 0.0287806\ttotal: 239ms\tremaining: 545ms\n",
      "305:\tlearn: 0.0287097\ttotal: 240ms\tremaining: 545ms\n",
      "306:\tlearn: 0.0286652\ttotal: 241ms\tremaining: 544ms\n",
      "307:\tlearn: 0.0285901\ttotal: 242ms\tremaining: 543ms\n",
      "308:\tlearn: 0.0285119\ttotal: 243ms\tremaining: 543ms\n",
      "309:\tlearn: 0.0284428\ttotal: 244ms\tremaining: 543ms\n",
      "310:\tlearn: 0.0283593\ttotal: 245ms\tremaining: 543ms\n",
      "311:\tlearn: 0.0282885\ttotal: 246ms\tremaining: 542ms\n",
      "312:\tlearn: 0.0281657\ttotal: 246ms\tremaining: 540ms\n",
      "313:\tlearn: 0.0280867\ttotal: 247ms\tremaining: 540ms\n",
      "314:\tlearn: 0.0280196\ttotal: 247ms\tremaining: 538ms\n",
      "315:\tlearn: 0.0279775\ttotal: 248ms\tremaining: 537ms\n",
      "316:\tlearn: 0.0279203\ttotal: 248ms\tremaining: 535ms\n",
      "317:\tlearn: 0.0278628\ttotal: 249ms\tremaining: 534ms\n",
      "318:\tlearn: 0.0277392\ttotal: 249ms\tremaining: 532ms\n",
      "319:\tlearn: 0.0276752\ttotal: 250ms\tremaining: 531ms\n",
      "320:\tlearn: 0.0276399\ttotal: 250ms\tremaining: 529ms\n",
      "321:\tlearn: 0.0275562\ttotal: 252ms\tremaining: 530ms\n",
      "322:\tlearn: 0.0275198\ttotal: 252ms\tremaining: 529ms\n",
      "323:\tlearn: 0.0274486\ttotal: 253ms\tremaining: 527ms\n",
      "324:\tlearn: 0.0273754\ttotal: 253ms\tremaining: 526ms\n",
      "325:\tlearn: 0.0273359\ttotal: 254ms\tremaining: 525ms\n",
      "326:\tlearn: 0.0272985\ttotal: 254ms\tremaining: 523ms\n",
      "327:\tlearn: 0.0272315\ttotal: 255ms\tremaining: 522ms\n",
      "328:\tlearn: 0.0271706\ttotal: 255ms\tremaining: 521ms\n",
      "329:\tlearn: 0.0271142\ttotal: 256ms\tremaining: 520ms\n",
      "330:\tlearn: 0.0270583\ttotal: 257ms\tremaining: 519ms\n",
      "331:\tlearn: 0.0269957\ttotal: 257ms\tremaining: 518ms\n",
      "332:\tlearn: 0.0269429\ttotal: 258ms\tremaining: 516ms\n",
      "333:\tlearn: 0.0268836\ttotal: 258ms\tremaining: 515ms\n",
      "334:\tlearn: 0.0268189\ttotal: 258ms\tremaining: 513ms\n",
      "335:\tlearn: 0.0267690\ttotal: 259ms\tremaining: 511ms\n",
      "336:\tlearn: 0.0267145\ttotal: 259ms\tremaining: 510ms\n",
      "337:\tlearn: 0.0266764\ttotal: 260ms\tremaining: 509ms\n",
      "338:\tlearn: 0.0266478\ttotal: 260ms\tremaining: 508ms\n",
      "339:\tlearn: 0.0265965\ttotal: 261ms\tremaining: 506ms\n",
      "340:\tlearn: 0.0265392\ttotal: 261ms\tremaining: 505ms\n",
      "341:\tlearn: 0.0264331\ttotal: 262ms\tremaining: 504ms\n",
      "342:\tlearn: 0.0263737\ttotal: 263ms\tremaining: 503ms\n",
      "343:\tlearn: 0.0263319\ttotal: 263ms\tremaining: 502ms\n",
      "344:\tlearn: 0.0262757\ttotal: 264ms\tremaining: 501ms\n",
      "345:\tlearn: 0.0262144\ttotal: 264ms\tremaining: 499ms\n",
      "346:\tlearn: 0.0261636\ttotal: 265ms\tremaining: 498ms\n",
      "347:\tlearn: 0.0260919\ttotal: 265ms\tremaining: 497ms\n",
      "348:\tlearn: 0.0260588\ttotal: 266ms\tremaining: 495ms\n",
      "349:\tlearn: 0.0260054\ttotal: 266ms\tremaining: 494ms\n",
      "350:\tlearn: 0.0259514\ttotal: 267ms\tremaining: 493ms\n",
      "351:\tlearn: 0.0259029\ttotal: 267ms\tremaining: 492ms\n",
      "352:\tlearn: 0.0258474\ttotal: 268ms\tremaining: 490ms\n",
      "353:\tlearn: 0.0257843\ttotal: 268ms\tremaining: 489ms\n",
      "354:\tlearn: 0.0257414\ttotal: 268ms\tremaining: 488ms\n",
      "355:\tlearn: 0.0257103\ttotal: 269ms\tremaining: 487ms\n",
      "356:\tlearn: 0.0256624\ttotal: 269ms\tremaining: 485ms\n",
      "357:\tlearn: 0.0255663\ttotal: 270ms\tremaining: 484ms\n",
      "358:\tlearn: 0.0255169\ttotal: 270ms\tremaining: 483ms\n",
      "359:\tlearn: 0.0254522\ttotal: 272ms\tremaining: 483ms\n",
      "360:\tlearn: 0.0254074\ttotal: 272ms\tremaining: 482ms\n",
      "361:\tlearn: 0.0253719\ttotal: 272ms\tremaining: 480ms\n",
      "362:\tlearn: 0.0252947\ttotal: 273ms\tremaining: 479ms\n",
      "363:\tlearn: 0.0252508\ttotal: 273ms\tremaining: 477ms\n",
      "364:\tlearn: 0.0251961\ttotal: 273ms\tremaining: 475ms\n",
      "365:\tlearn: 0.0251169\ttotal: 274ms\tremaining: 474ms\n",
      "366:\tlearn: 0.0250656\ttotal: 275ms\tremaining: 474ms\n",
      "367:\tlearn: 0.0250241\ttotal: 276ms\tremaining: 473ms\n",
      "368:\tlearn: 0.0249810\ttotal: 276ms\tremaining: 472ms\n",
      "369:\tlearn: 0.0249149\ttotal: 277ms\tremaining: 471ms\n",
      "370:\tlearn: 0.0248522\ttotal: 277ms\tremaining: 470ms\n",
      "371:\tlearn: 0.0248125\ttotal: 278ms\tremaining: 468ms\n",
      "372:\tlearn: 0.0247720\ttotal: 278ms\tremaining: 468ms\n",
      "373:\tlearn: 0.0246718\ttotal: 279ms\tremaining: 467ms\n",
      "374:\tlearn: 0.0246246\ttotal: 279ms\tremaining: 466ms\n",
      "375:\tlearn: 0.0245784\ttotal: 280ms\tremaining: 464ms\n",
      "376:\tlearn: 0.0245196\ttotal: 280ms\tremaining: 463ms\n",
      "377:\tlearn: 0.0244784\ttotal: 281ms\tremaining: 462ms\n",
      "378:\tlearn: 0.0244364\ttotal: 281ms\tremaining: 461ms\n",
      "379:\tlearn: 0.0243938\ttotal: 282ms\tremaining: 460ms\n",
      "380:\tlearn: 0.0243285\ttotal: 282ms\tremaining: 459ms\n",
      "381:\tlearn: 0.0242902\ttotal: 283ms\tremaining: 457ms\n",
      "382:\tlearn: 0.0242531\ttotal: 283ms\tremaining: 456ms\n",
      "383:\tlearn: 0.0242004\ttotal: 283ms\tremaining: 455ms\n",
      "384:\tlearn: 0.0241552\ttotal: 284ms\tremaining: 453ms\n",
      "385:\tlearn: 0.0241101\ttotal: 284ms\tremaining: 452ms\n",
      "386:\tlearn: 0.0240726\ttotal: 284ms\tremaining: 451ms\n",
      "387:\tlearn: 0.0240357\ttotal: 285ms\tremaining: 449ms\n",
      "388:\tlearn: 0.0239924\ttotal: 289ms\tremaining: 454ms\n",
      "389:\tlearn: 0.0239012\ttotal: 290ms\tremaining: 453ms\n",
      "390:\tlearn: 0.0238663\ttotal: 291ms\tremaining: 452ms\n",
      "391:\tlearn: 0.0238037\ttotal: 291ms\tremaining: 451ms\n",
      "392:\tlearn: 0.0237467\ttotal: 292ms\tremaining: 450ms\n",
      "393:\tlearn: 0.0237082\ttotal: 292ms\tremaining: 449ms\n",
      "394:\tlearn: 0.0236349\ttotal: 293ms\tremaining: 448ms\n",
      "395:\tlearn: 0.0235760\ttotal: 293ms\tremaining: 447ms\n",
      "396:\tlearn: 0.0235394\ttotal: 293ms\tremaining: 445ms\n",
      "397:\tlearn: 0.0234837\ttotal: 294ms\tremaining: 444ms\n",
      "398:\tlearn: 0.0234266\ttotal: 294ms\tremaining: 443ms\n"
     ]
    },
    {
     "name": "stdout",
     "output_type": "stream",
     "text": [
      "399:\tlearn: 0.0233900\ttotal: 294ms\tremaining: 441ms\n",
      "400:\tlearn: 0.0233653\ttotal: 295ms\tremaining: 441ms\n",
      "401:\tlearn: 0.0233295\ttotal: 296ms\tremaining: 440ms\n",
      "402:\tlearn: 0.0232936\ttotal: 296ms\tremaining: 439ms\n",
      "403:\tlearn: 0.0232097\ttotal: 297ms\tremaining: 438ms\n",
      "404:\tlearn: 0.0231701\ttotal: 297ms\tremaining: 436ms\n",
      "405:\tlearn: 0.0230878\ttotal: 298ms\tremaining: 436ms\n",
      "406:\tlearn: 0.0230349\ttotal: 299ms\tremaining: 435ms\n",
      "407:\tlearn: 0.0230035\ttotal: 299ms\tremaining: 434ms\n",
      "408:\tlearn: 0.0229669\ttotal: 299ms\tremaining: 432ms\n",
      "409:\tlearn: 0.0229153\ttotal: 299ms\tremaining: 431ms\n",
      "410:\tlearn: 0.0228827\ttotal: 300ms\tremaining: 430ms\n",
      "411:\tlearn: 0.0228589\ttotal: 300ms\tremaining: 429ms\n",
      "412:\tlearn: 0.0228232\ttotal: 301ms\tremaining: 428ms\n",
      "413:\tlearn: 0.0227581\ttotal: 301ms\tremaining: 427ms\n",
      "414:\tlearn: 0.0227211\ttotal: 302ms\tremaining: 426ms\n",
      "415:\tlearn: 0.0227010\ttotal: 302ms\tremaining: 425ms\n",
      "416:\tlearn: 0.0226676\ttotal: 303ms\tremaining: 424ms\n",
      "417:\tlearn: 0.0226432\ttotal: 304ms\tremaining: 423ms\n",
      "418:\tlearn: 0.0226092\ttotal: 304ms\tremaining: 422ms\n",
      "419:\tlearn: 0.0225794\ttotal: 305ms\tremaining: 421ms\n",
      "420:\tlearn: 0.0225461\ttotal: 305ms\tremaining: 420ms\n",
      "421:\tlearn: 0.0225191\ttotal: 306ms\tremaining: 419ms\n",
      "422:\tlearn: 0.0224869\ttotal: 306ms\tremaining: 418ms\n",
      "423:\tlearn: 0.0224646\ttotal: 307ms\tremaining: 416ms\n",
      "424:\tlearn: 0.0224256\ttotal: 307ms\tremaining: 415ms\n",
      "425:\tlearn: 0.0223759\ttotal: 308ms\tremaining: 415ms\n",
      "426:\tlearn: 0.0223460\ttotal: 309ms\tremaining: 414ms\n",
      "427:\tlearn: 0.0222988\ttotal: 310ms\tremaining: 414ms\n",
      "428:\tlearn: 0.0222235\ttotal: 311ms\tremaining: 414ms\n",
      "429:\tlearn: 0.0221794\ttotal: 312ms\tremaining: 413ms\n",
      "430:\tlearn: 0.0221450\ttotal: 312ms\tremaining: 412ms\n",
      "431:\tlearn: 0.0221123\ttotal: 313ms\tremaining: 412ms\n",
      "432:\tlearn: 0.0220670\ttotal: 314ms\tremaining: 411ms\n",
      "433:\tlearn: 0.0220400\ttotal: 315ms\tremaining: 410ms\n",
      "434:\tlearn: 0.0219931\ttotal: 315ms\tremaining: 409ms\n",
      "435:\tlearn: 0.0219601\ttotal: 316ms\tremaining: 409ms\n",
      "436:\tlearn: 0.0219187\ttotal: 317ms\tremaining: 408ms\n",
      "437:\tlearn: 0.0218995\ttotal: 317ms\tremaining: 407ms\n",
      "438:\tlearn: 0.0218618\ttotal: 319ms\tremaining: 407ms\n",
      "439:\tlearn: 0.0218336\ttotal: 320ms\tremaining: 407ms\n",
      "440:\tlearn: 0.0218022\ttotal: 321ms\tremaining: 406ms\n",
      "441:\tlearn: 0.0217722\ttotal: 322ms\tremaining: 406ms\n",
      "442:\tlearn: 0.0217513\ttotal: 323ms\tremaining: 406ms\n",
      "443:\tlearn: 0.0217314\ttotal: 323ms\tremaining: 405ms\n",
      "444:\tlearn: 0.0216880\ttotal: 325ms\tremaining: 405ms\n",
      "445:\tlearn: 0.0216521\ttotal: 326ms\tremaining: 405ms\n",
      "446:\tlearn: 0.0216029\ttotal: 327ms\tremaining: 405ms\n",
      "447:\tlearn: 0.0215741\ttotal: 327ms\tremaining: 403ms\n",
      "448:\tlearn: 0.0215431\ttotal: 328ms\tremaining: 402ms\n",
      "449:\tlearn: 0.0215033\ttotal: 329ms\tremaining: 403ms\n",
      "450:\tlearn: 0.0214799\ttotal: 330ms\tremaining: 402ms\n",
      "451:\tlearn: 0.0214524\ttotal: 331ms\tremaining: 401ms\n",
      "452:\tlearn: 0.0214322\ttotal: 331ms\tremaining: 400ms\n",
      "453:\tlearn: 0.0213891\ttotal: 332ms\tremaining: 400ms\n"
     ]
    },
    {
     "name": "stdout",
     "output_type": "stream",
     "text": [
      "454:\tlearn: 0.0213596\ttotal: 334ms\tremaining: 400ms\n",
      "455:\tlearn: 0.0213422\ttotal: 335ms\tremaining: 400ms\n",
      "456:\tlearn: 0.0213110\ttotal: 335ms\tremaining: 399ms\n",
      "457:\tlearn: 0.0212874\ttotal: 336ms\tremaining: 398ms\n",
      "458:\tlearn: 0.0212504\ttotal: 337ms\tremaining: 397ms\n",
      "459:\tlearn: 0.0212275\ttotal: 338ms\tremaining: 396ms\n",
      "460:\tlearn: 0.0211601\ttotal: 338ms\tremaining: 395ms\n",
      "461:\tlearn: 0.0211223\ttotal: 339ms\tremaining: 395ms\n",
      "462:\tlearn: 0.0210642\ttotal: 340ms\tremaining: 394ms\n",
      "463:\tlearn: 0.0210344\ttotal: 340ms\tremaining: 393ms\n",
      "464:\tlearn: 0.0210088\ttotal: 341ms\tremaining: 393ms\n",
      "465:\tlearn: 0.0209901\ttotal: 342ms\tremaining: 392ms\n",
      "466:\tlearn: 0.0209651\ttotal: 343ms\tremaining: 392ms\n",
      "467:\tlearn: 0.0209425\ttotal: 344ms\tremaining: 391ms\n",
      "468:\tlearn: 0.0209039\ttotal: 344ms\tremaining: 390ms\n",
      "469:\tlearn: 0.0208684\ttotal: 345ms\tremaining: 389ms\n",
      "470:\tlearn: 0.0208042\ttotal: 346ms\tremaining: 388ms\n",
      "471:\tlearn: 0.0207677\ttotal: 346ms\tremaining: 387ms\n",
      "472:\tlearn: 0.0207083\ttotal: 347ms\tremaining: 387ms\n",
      "473:\tlearn: 0.0206899\ttotal: 348ms\tremaining: 386ms\n",
      "474:\tlearn: 0.0206605\ttotal: 349ms\tremaining: 386ms\n",
      "475:\tlearn: 0.0206233\ttotal: 350ms\tremaining: 385ms\n",
      "476:\tlearn: 0.0206039\ttotal: 351ms\tremaining: 384ms\n",
      "477:\tlearn: 0.0205789\ttotal: 352ms\tremaining: 384ms\n",
      "478:\tlearn: 0.0205388\ttotal: 352ms\tremaining: 383ms\n",
      "479:\tlearn: 0.0205066\ttotal: 353ms\tremaining: 382ms\n",
      "480:\tlearn: 0.0204826\ttotal: 353ms\tremaining: 381ms\n",
      "481:\tlearn: 0.0204518\ttotal: 354ms\tremaining: 380ms\n",
      "482:\tlearn: 0.0204048\ttotal: 354ms\tremaining: 379ms\n",
      "483:\tlearn: 0.0203860\ttotal: 355ms\tremaining: 379ms\n",
      "484:\tlearn: 0.0203524\ttotal: 356ms\tremaining: 378ms\n",
      "485:\tlearn: 0.0203304\ttotal: 356ms\tremaining: 377ms\n",
      "486:\tlearn: 0.0202923\ttotal: 357ms\tremaining: 376ms\n",
      "487:\tlearn: 0.0202652\ttotal: 358ms\tremaining: 376ms\n",
      "488:\tlearn: 0.0202379\ttotal: 359ms\tremaining: 375ms\n",
      "489:\tlearn: 0.0202181\ttotal: 360ms\tremaining: 374ms\n",
      "490:\tlearn: 0.0201984\ttotal: 360ms\tremaining: 373ms\n",
      "491:\tlearn: 0.0201767\ttotal: 361ms\tremaining: 372ms\n",
      "492:\tlearn: 0.0201610\ttotal: 361ms\tremaining: 371ms\n",
      "493:\tlearn: 0.0201220\ttotal: 362ms\tremaining: 370ms\n",
      "494:\tlearn: 0.0200714\ttotal: 362ms\tremaining: 369ms\n",
      "495:\tlearn: 0.0200494\ttotal: 363ms\tremaining: 369ms\n",
      "496:\tlearn: 0.0200269\ttotal: 364ms\tremaining: 368ms\n",
      "497:\tlearn: 0.0200071\ttotal: 365ms\tremaining: 368ms\n",
      "498:\tlearn: 0.0199766\ttotal: 366ms\tremaining: 367ms\n",
      "499:\tlearn: 0.0199603\ttotal: 367ms\tremaining: 367ms\n",
      "500:\tlearn: 0.0199478\ttotal: 367ms\tremaining: 366ms\n",
      "501:\tlearn: 0.0199292\ttotal: 368ms\tremaining: 365ms\n",
      "502:\tlearn: 0.0198985\ttotal: 369ms\tremaining: 364ms\n",
      "503:\tlearn: 0.0198798\ttotal: 369ms\tremaining: 364ms\n",
      "504:\tlearn: 0.0198448\ttotal: 370ms\tremaining: 363ms\n",
      "505:\tlearn: 0.0198102\ttotal: 371ms\tremaining: 362ms\n",
      "506:\tlearn: 0.0197947\ttotal: 371ms\tremaining: 361ms\n",
      "507:\tlearn: 0.0197680\ttotal: 372ms\tremaining: 360ms\n",
      "508:\tlearn: 0.0197352\ttotal: 372ms\tremaining: 359ms\n",
      "509:\tlearn: 0.0197127\ttotal: 374ms\tremaining: 359ms\n",
      "510:\tlearn: 0.0196983\ttotal: 374ms\tremaining: 358ms\n",
      "511:\tlearn: 0.0196808\ttotal: 375ms\tremaining: 357ms\n",
      "512:\tlearn: 0.0196496\ttotal: 376ms\tremaining: 357ms\n",
      "513:\tlearn: 0.0196261\ttotal: 377ms\tremaining: 356ms\n",
      "514:\tlearn: 0.0195929\ttotal: 377ms\tremaining: 355ms\n",
      "515:\tlearn: 0.0195621\ttotal: 378ms\tremaining: 355ms\n",
      "516:\tlearn: 0.0195305\ttotal: 379ms\tremaining: 354ms\n",
      "517:\tlearn: 0.0195161\ttotal: 380ms\tremaining: 353ms\n",
      "518:\tlearn: 0.0194999\ttotal: 381ms\tremaining: 353ms\n",
      "519:\tlearn: 0.0194747\ttotal: 381ms\tremaining: 352ms\n",
      "520:\tlearn: 0.0194598\ttotal: 382ms\tremaining: 351ms\n",
      "521:\tlearn: 0.0194462\ttotal: 383ms\tremaining: 350ms\n",
      "522:\tlearn: 0.0194136\ttotal: 384ms\tremaining: 350ms\n",
      "523:\tlearn: 0.0193935\ttotal: 384ms\tremaining: 349ms\n",
      "524:\tlearn: 0.0193485\ttotal: 385ms\tremaining: 348ms\n",
      "525:\tlearn: 0.0193187\ttotal: 386ms\tremaining: 348ms\n",
      "526:\tlearn: 0.0192885\ttotal: 386ms\tremaining: 347ms\n",
      "527:\tlearn: 0.0192668\ttotal: 387ms\tremaining: 346ms\n",
      "528:\tlearn: 0.0192525\ttotal: 388ms\tremaining: 345ms\n",
      "529:\tlearn: 0.0192371\ttotal: 388ms\tremaining: 344ms\n",
      "530:\tlearn: 0.0192091\ttotal: 391ms\tremaining: 345ms\n",
      "531:\tlearn: 0.0191714\ttotal: 392ms\tremaining: 345ms\n",
      "532:\tlearn: 0.0191518\ttotal: 393ms\tremaining: 344ms\n",
      "533:\tlearn: 0.0191370\ttotal: 393ms\tremaining: 343ms\n",
      "534:\tlearn: 0.0191257\ttotal: 394ms\tremaining: 342ms\n",
      "535:\tlearn: 0.0191146\ttotal: 394ms\tremaining: 341ms\n",
      "536:\tlearn: 0.0190969\ttotal: 395ms\tremaining: 341ms\n",
      "537:\tlearn: 0.0190758\ttotal: 396ms\tremaining: 340ms\n",
      "538:\tlearn: 0.0190556\ttotal: 396ms\tremaining: 339ms\n",
      "539:\tlearn: 0.0190362\ttotal: 397ms\tremaining: 338ms\n",
      "540:\tlearn: 0.0190148\ttotal: 398ms\tremaining: 337ms\n",
      "541:\tlearn: 0.0190070\ttotal: 398ms\tremaining: 336ms\n",
      "542:\tlearn: 0.0189808\ttotal: 399ms\tremaining: 335ms\n",
      "543:\tlearn: 0.0189670\ttotal: 399ms\tremaining: 334ms\n",
      "544:\tlearn: 0.0189409\ttotal: 399ms\tremaining: 333ms\n",
      "545:\tlearn: 0.0189134\ttotal: 401ms\tremaining: 333ms\n",
      "546:\tlearn: 0.0189052\ttotal: 401ms\tremaining: 332ms\n",
      "547:\tlearn: 0.0188730\ttotal: 403ms\tremaining: 332ms\n",
      "548:\tlearn: 0.0188477\ttotal: 404ms\tremaining: 331ms\n",
      "549:\tlearn: 0.0188376\ttotal: 404ms\tremaining: 331ms\n",
      "550:\tlearn: 0.0188098\ttotal: 405ms\tremaining: 330ms\n",
      "551:\tlearn: 0.0187991\ttotal: 405ms\tremaining: 329ms\n",
      "552:\tlearn: 0.0187827\ttotal: 405ms\tremaining: 328ms\n",
      "553:\tlearn: 0.0187694\ttotal: 406ms\tremaining: 327ms\n",
      "554:\tlearn: 0.0187423\ttotal: 406ms\tremaining: 325ms\n",
      "555:\tlearn: 0.0187248\ttotal: 406ms\tremaining: 324ms\n",
      "556:\tlearn: 0.0187083\ttotal: 407ms\tremaining: 324ms\n",
      "557:\tlearn: 0.0186927\ttotal: 408ms\tremaining: 323ms\n",
      "558:\tlearn: 0.0186792\ttotal: 409ms\tremaining: 322ms\n",
      "559:\tlearn: 0.0186669\ttotal: 409ms\tremaining: 321ms\n",
      "560:\tlearn: 0.0186423\ttotal: 409ms\tremaining: 320ms\n",
      "561:\tlearn: 0.0186163\ttotal: 410ms\tremaining: 320ms\n",
      "562:\tlearn: 0.0185741\ttotal: 412ms\tremaining: 319ms\n",
      "563:\tlearn: 0.0185632\ttotal: 413ms\tremaining: 319ms\n",
      "564:\tlearn: 0.0185364\ttotal: 414ms\tremaining: 319ms\n",
      "565:\tlearn: 0.0185212\ttotal: 414ms\tremaining: 318ms\n",
      "566:\tlearn: 0.0185060\ttotal: 415ms\tremaining: 317ms\n",
      "567:\tlearn: 0.0184915\ttotal: 416ms\tremaining: 316ms\n",
      "568:\tlearn: 0.0184617\ttotal: 417ms\tremaining: 316ms\n",
      "569:\tlearn: 0.0184434\ttotal: 417ms\tremaining: 315ms\n",
      "570:\tlearn: 0.0184178\ttotal: 418ms\tremaining: 314ms\n",
      "571:\tlearn: 0.0183929\ttotal: 419ms\tremaining: 313ms\n",
      "572:\tlearn: 0.0183620\ttotal: 420ms\tremaining: 313ms\n",
      "573:\tlearn: 0.0183430\ttotal: 420ms\tremaining: 312ms\n",
      "574:\tlearn: 0.0183365\ttotal: 422ms\tremaining: 312ms\n",
      "575:\tlearn: 0.0183109\ttotal: 422ms\tremaining: 311ms\n",
      "576:\tlearn: 0.0182910\ttotal: 423ms\tremaining: 310ms\n",
      "577:\tlearn: 0.0182728\ttotal: 424ms\tremaining: 309ms\n",
      "578:\tlearn: 0.0182440\ttotal: 424ms\tremaining: 309ms\n",
      "579:\tlearn: 0.0182337\ttotal: 425ms\tremaining: 308ms\n",
      "580:\tlearn: 0.0182140\ttotal: 426ms\tremaining: 307ms\n",
      "581:\tlearn: 0.0182026\ttotal: 426ms\tremaining: 306ms\n",
      "582:\tlearn: 0.0181968\ttotal: 427ms\tremaining: 305ms\n",
      "583:\tlearn: 0.0181691\ttotal: 429ms\tremaining: 305ms\n",
      "584:\tlearn: 0.0181351\ttotal: 429ms\tremaining: 305ms\n",
      "585:\tlearn: 0.0181152\ttotal: 430ms\tremaining: 304ms\n",
      "586:\tlearn: 0.0181026\ttotal: 431ms\tremaining: 303ms\n",
      "587:\tlearn: 0.0180847\ttotal: 431ms\tremaining: 302ms\n",
      "588:\tlearn: 0.0180564\ttotal: 432ms\tremaining: 301ms\n",
      "589:\tlearn: 0.0180480\ttotal: 433ms\tremaining: 301ms\n",
      "590:\tlearn: 0.0180360\ttotal: 433ms\tremaining: 300ms\n",
      "591:\tlearn: 0.0180107\ttotal: 434ms\tremaining: 299ms\n",
      "592:\tlearn: 0.0179857\ttotal: 435ms\tremaining: 298ms\n",
      "593:\tlearn: 0.0179697\ttotal: 435ms\tremaining: 297ms\n",
      "594:\tlearn: 0.0179639\ttotal: 435ms\tremaining: 296ms\n",
      "595:\tlearn: 0.0179474\ttotal: 436ms\tremaining: 296ms\n",
      "596:\tlearn: 0.0179317\ttotal: 436ms\tremaining: 295ms\n",
      "597:\tlearn: 0.0179236\ttotal: 437ms\tremaining: 294ms\n",
      "598:\tlearn: 0.0179096\ttotal: 437ms\tremaining: 293ms\n",
      "599:\tlearn: 0.0178862\ttotal: 439ms\tremaining: 293ms\n",
      "600:\tlearn: 0.0178795\ttotal: 440ms\tremaining: 292ms\n",
      "601:\tlearn: 0.0178420\ttotal: 441ms\tremaining: 291ms\n",
      "602:\tlearn: 0.0178246\ttotal: 441ms\tremaining: 290ms\n",
      "603:\tlearn: 0.0178141\ttotal: 441ms\tremaining: 289ms\n",
      "604:\tlearn: 0.0177900\ttotal: 442ms\tremaining: 288ms\n",
      "605:\tlearn: 0.0177734\ttotal: 442ms\tremaining: 287ms\n"
     ]
    },
    {
     "name": "stdout",
     "output_type": "stream",
     "text": [
      "606:\tlearn: 0.0177622\ttotal: 446ms\tremaining: 289ms\n",
      "607:\tlearn: 0.0177493\ttotal: 447ms\tremaining: 288ms\n",
      "608:\tlearn: 0.0177376\ttotal: 448ms\tremaining: 287ms\n",
      "609:\tlearn: 0.0177202\ttotal: 448ms\tremaining: 287ms\n",
      "610:\tlearn: 0.0176979\ttotal: 449ms\tremaining: 286ms\n",
      "611:\tlearn: 0.0176926\ttotal: 450ms\tremaining: 285ms\n",
      "612:\tlearn: 0.0176617\ttotal: 450ms\tremaining: 284ms\n",
      "613:\tlearn: 0.0176440\ttotal: 451ms\tremaining: 284ms\n",
      "614:\tlearn: 0.0176282\ttotal: 452ms\tremaining: 283ms\n",
      "615:\tlearn: 0.0176134\ttotal: 453ms\tremaining: 283ms\n",
      "616:\tlearn: 0.0175903\ttotal: 454ms\tremaining: 282ms\n",
      "617:\tlearn: 0.0175353\ttotal: 455ms\tremaining: 281ms\n",
      "618:\tlearn: 0.0175241\ttotal: 456ms\tremaining: 281ms\n",
      "619:\tlearn: 0.0175132\ttotal: 457ms\tremaining: 280ms\n",
      "620:\tlearn: 0.0175083\ttotal: 457ms\tremaining: 279ms\n",
      "621:\tlearn: 0.0174977\ttotal: 458ms\tremaining: 278ms\n",
      "622:\tlearn: 0.0174809\ttotal: 460ms\tremaining: 278ms\n",
      "623:\tlearn: 0.0174772\ttotal: 460ms\tremaining: 277ms\n",
      "624:\tlearn: 0.0174652\ttotal: 461ms\tremaining: 277ms\n",
      "625:\tlearn: 0.0174574\ttotal: 462ms\tremaining: 276ms\n",
      "626:\tlearn: 0.0174473\ttotal: 462ms\tremaining: 275ms\n",
      "627:\tlearn: 0.0174309\ttotal: 463ms\tremaining: 274ms\n",
      "628:\tlearn: 0.0174096\ttotal: 464ms\tremaining: 273ms\n",
      "629:\tlearn: 0.0173795\ttotal: 464ms\tremaining: 273ms\n",
      "630:\tlearn: 0.0173627\ttotal: 467ms\tremaining: 273ms\n",
      "631:\tlearn: 0.0173412\ttotal: 469ms\tremaining: 273ms\n",
      "632:\tlearn: 0.0173106\ttotal: 470ms\tremaining: 273ms\n",
      "633:\tlearn: 0.0172808\ttotal: 471ms\tremaining: 272ms\n",
      "634:\tlearn: 0.0172672\ttotal: 471ms\tremaining: 271ms\n",
      "635:\tlearn: 0.0172404\ttotal: 474ms\tremaining: 272ms\n",
      "636:\tlearn: 0.0172267\ttotal: 476ms\tremaining: 271ms\n",
      "637:\tlearn: 0.0171957\ttotal: 477ms\tremaining: 270ms\n",
      "638:\tlearn: 0.0171851\ttotal: 478ms\tremaining: 270ms\n",
      "639:\tlearn: 0.0171615\ttotal: 479ms\tremaining: 269ms\n",
      "640:\tlearn: 0.0171328\ttotal: 479ms\tremaining: 268ms\n",
      "641:\tlearn: 0.0171170\ttotal: 480ms\tremaining: 268ms\n",
      "642:\tlearn: 0.0171018\ttotal: 480ms\tremaining: 267ms\n",
      "643:\tlearn: 0.0170919\ttotal: 481ms\tremaining: 266ms\n",
      "644:\tlearn: 0.0170639\ttotal: 481ms\tremaining: 265ms\n",
      "645:\tlearn: 0.0170444\ttotal: 482ms\tremaining: 264ms\n",
      "646:\tlearn: 0.0170391\ttotal: 482ms\tremaining: 263ms\n",
      "647:\tlearn: 0.0170323\ttotal: 482ms\tremaining: 262ms\n",
      "648:\tlearn: 0.0170105\ttotal: 483ms\tremaining: 261ms\n",
      "649:\tlearn: 0.0169895\ttotal: 483ms\tremaining: 260ms\n",
      "650:\tlearn: 0.0169679\ttotal: 484ms\tremaining: 259ms\n",
      "651:\tlearn: 0.0169552\ttotal: 484ms\tremaining: 259ms\n",
      "652:\tlearn: 0.0169235\ttotal: 485ms\tremaining: 258ms\n",
      "653:\tlearn: 0.0169033\ttotal: 485ms\tremaining: 257ms\n",
      "654:\tlearn: 0.0168946\ttotal: 486ms\tremaining: 256ms\n",
      "655:\tlearn: 0.0168883\ttotal: 486ms\tremaining: 255ms\n",
      "656:\tlearn: 0.0168377\ttotal: 486ms\tremaining: 254ms\n",
      "657:\tlearn: 0.0168245\ttotal: 487ms\tremaining: 253ms\n",
      "658:\tlearn: 0.0167949\ttotal: 487ms\tremaining: 252ms\n",
      "659:\tlearn: 0.0167807\ttotal: 488ms\tremaining: 251ms\n"
     ]
    },
    {
     "name": "stdout",
     "output_type": "stream",
     "text": [
      "660:\tlearn: 0.0167605\ttotal: 488ms\tremaining: 250ms\n",
      "661:\tlearn: 0.0167465\ttotal: 488ms\tremaining: 249ms\n",
      "662:\tlearn: 0.0167313\ttotal: 489ms\tremaining: 249ms\n",
      "663:\tlearn: 0.0167222\ttotal: 490ms\tremaining: 248ms\n",
      "664:\tlearn: 0.0167069\ttotal: 491ms\tremaining: 247ms\n",
      "665:\tlearn: 0.0166925\ttotal: 491ms\tremaining: 246ms\n",
      "666:\tlearn: 0.0166792\ttotal: 492ms\tremaining: 245ms\n",
      "667:\tlearn: 0.0166713\ttotal: 492ms\tremaining: 245ms\n",
      "668:\tlearn: 0.0166616\ttotal: 492ms\tremaining: 244ms\n",
      "669:\tlearn: 0.0166497\ttotal: 493ms\tremaining: 243ms\n",
      "670:\tlearn: 0.0166433\ttotal: 493ms\tremaining: 242ms\n",
      "671:\tlearn: 0.0166291\ttotal: 494ms\tremaining: 241ms\n",
      "672:\tlearn: 0.0166160\ttotal: 494ms\tremaining: 240ms\n",
      "673:\tlearn: 0.0166010\ttotal: 495ms\tremaining: 239ms\n",
      "674:\tlearn: 0.0165889\ttotal: 495ms\tremaining: 238ms\n",
      "675:\tlearn: 0.0165697\ttotal: 496ms\tremaining: 238ms\n",
      "676:\tlearn: 0.0165583\ttotal: 496ms\tremaining: 237ms\n",
      "677:\tlearn: 0.0165306\ttotal: 497ms\tremaining: 236ms\n",
      "678:\tlearn: 0.0165184\ttotal: 498ms\tremaining: 235ms\n",
      "679:\tlearn: 0.0164994\ttotal: 499ms\tremaining: 235ms\n",
      "680:\tlearn: 0.0164786\ttotal: 500ms\tremaining: 234ms\n",
      "681:\tlearn: 0.0164576\ttotal: 501ms\tremaining: 233ms\n",
      "682:\tlearn: 0.0164353\ttotal: 502ms\tremaining: 233ms\n",
      "683:\tlearn: 0.0164069\ttotal: 503ms\tremaining: 232ms\n",
      "684:\tlearn: 0.0163926\ttotal: 504ms\tremaining: 232ms\n",
      "685:\tlearn: 0.0163820\ttotal: 504ms\tremaining: 231ms\n",
      "686:\tlearn: 0.0163754\ttotal: 505ms\tremaining: 230ms\n",
      "687:\tlearn: 0.0163493\ttotal: 505ms\tremaining: 229ms\n",
      "688:\tlearn: 0.0163319\ttotal: 506ms\tremaining: 228ms\n",
      "689:\tlearn: 0.0163060\ttotal: 506ms\tremaining: 227ms\n",
      "690:\tlearn: 0.0162869\ttotal: 507ms\tremaining: 227ms\n",
      "691:\tlearn: 0.0162718\ttotal: 507ms\tremaining: 226ms\n",
      "692:\tlearn: 0.0162535\ttotal: 508ms\tremaining: 225ms\n",
      "693:\tlearn: 0.0162381\ttotal: 509ms\tremaining: 225ms\n",
      "694:\tlearn: 0.0162295\ttotal: 511ms\tremaining: 224ms\n",
      "695:\tlearn: 0.0162156\ttotal: 511ms\tremaining: 223ms\n",
      "696:\tlearn: 0.0162015\ttotal: 512ms\tremaining: 223ms\n",
      "697:\tlearn: 0.0161842\ttotal: 513ms\tremaining: 222ms\n",
      "698:\tlearn: 0.0161776\ttotal: 513ms\tremaining: 221ms\n",
      "699:\tlearn: 0.0161668\ttotal: 514ms\tremaining: 220ms\n",
      "700:\tlearn: 0.0161524\ttotal: 514ms\tremaining: 219ms\n",
      "701:\tlearn: 0.0161462\ttotal: 515ms\tremaining: 219ms\n",
      "702:\tlearn: 0.0161379\ttotal: 516ms\tremaining: 218ms\n",
      "703:\tlearn: 0.0161286\ttotal: 516ms\tremaining: 217ms\n",
      "704:\tlearn: 0.0161136\ttotal: 517ms\tremaining: 216ms\n",
      "705:\tlearn: 0.0161018\ttotal: 517ms\tremaining: 215ms\n",
      "706:\tlearn: 0.0160940\ttotal: 518ms\tremaining: 215ms\n",
      "707:\tlearn: 0.0160838\ttotal: 519ms\tremaining: 214ms\n",
      "708:\tlearn: 0.0160690\ttotal: 520ms\tremaining: 213ms\n",
      "709:\tlearn: 0.0160576\ttotal: 521ms\tremaining: 213ms\n",
      "710:\tlearn: 0.0160347\ttotal: 522ms\tremaining: 212ms\n",
      "711:\tlearn: 0.0160211\ttotal: 522ms\tremaining: 211ms\n",
      "712:\tlearn: 0.0159980\ttotal: 523ms\tremaining: 211ms\n",
      "713:\tlearn: 0.0159869\ttotal: 526ms\tremaining: 211ms\n",
      "714:\tlearn: 0.0159787\ttotal: 527ms\tremaining: 210ms\n",
      "715:\tlearn: 0.0159689\ttotal: 528ms\tremaining: 209ms\n",
      "716:\tlearn: 0.0159567\ttotal: 528ms\tremaining: 209ms\n",
      "717:\tlearn: 0.0159390\ttotal: 529ms\tremaining: 208ms\n",
      "718:\tlearn: 0.0159205\ttotal: 529ms\tremaining: 207ms\n",
      "719:\tlearn: 0.0159021\ttotal: 530ms\tremaining: 206ms\n",
      "720:\tlearn: 0.0158813\ttotal: 530ms\tremaining: 205ms\n",
      "721:\tlearn: 0.0158644\ttotal: 531ms\tremaining: 204ms\n",
      "722:\tlearn: 0.0158497\ttotal: 531ms\tremaining: 204ms\n",
      "723:\tlearn: 0.0158270\ttotal: 532ms\tremaining: 203ms\n",
      "724:\tlearn: 0.0157878\ttotal: 533ms\tremaining: 202ms\n",
      "725:\tlearn: 0.0157802\ttotal: 533ms\tremaining: 201ms\n",
      "726:\tlearn: 0.0157684\ttotal: 534ms\tremaining: 201ms\n",
      "727:\tlearn: 0.0157604\ttotal: 534ms\tremaining: 200ms\n",
      "728:\tlearn: 0.0157415\ttotal: 535ms\tremaining: 199ms\n",
      "729:\tlearn: 0.0157275\ttotal: 536ms\tremaining: 198ms\n",
      "730:\tlearn: 0.0157047\ttotal: 536ms\tremaining: 197ms\n",
      "731:\tlearn: 0.0156878\ttotal: 537ms\tremaining: 197ms\n",
      "732:\tlearn: 0.0156796\ttotal: 537ms\tremaining: 196ms\n",
      "733:\tlearn: 0.0156687\ttotal: 538ms\tremaining: 195ms\n",
      "734:\tlearn: 0.0156630\ttotal: 539ms\tremaining: 194ms\n",
      "735:\tlearn: 0.0156426\ttotal: 540ms\tremaining: 194ms\n",
      "736:\tlearn: 0.0156277\ttotal: 541ms\tremaining: 193ms\n",
      "737:\tlearn: 0.0156198\ttotal: 541ms\tremaining: 192ms\n",
      "738:\tlearn: 0.0156063\ttotal: 542ms\tremaining: 191ms\n",
      "739:\tlearn: 0.0155938\ttotal: 543ms\tremaining: 191ms\n",
      "740:\tlearn: 0.0155806\ttotal: 544ms\tremaining: 190ms\n",
      "741:\tlearn: 0.0155611\ttotal: 544ms\tremaining: 189ms\n",
      "742:\tlearn: 0.0155440\ttotal: 545ms\tremaining: 188ms\n",
      "743:\tlearn: 0.0155329\ttotal: 546ms\tremaining: 188ms\n",
      "744:\tlearn: 0.0155263\ttotal: 546ms\tremaining: 187ms\n",
      "745:\tlearn: 0.0155106\ttotal: 547ms\tremaining: 186ms\n",
      "746:\tlearn: 0.0154960\ttotal: 548ms\tremaining: 186ms\n",
      "747:\tlearn: 0.0154811\ttotal: 549ms\tremaining: 185ms\n",
      "748:\tlearn: 0.0154755\ttotal: 549ms\tremaining: 184ms\n",
      "749:\tlearn: 0.0154660\ttotal: 550ms\tremaining: 183ms\n",
      "750:\tlearn: 0.0154516\ttotal: 550ms\tremaining: 182ms\n",
      "751:\tlearn: 0.0154289\ttotal: 551ms\tremaining: 182ms\n",
      "752:\tlearn: 0.0154199\ttotal: 552ms\tremaining: 181ms\n",
      "753:\tlearn: 0.0154018\ttotal: 552ms\tremaining: 180ms\n",
      "754:\tlearn: 0.0153886\ttotal: 552ms\tremaining: 179ms\n",
      "755:\tlearn: 0.0153812\ttotal: 553ms\tremaining: 178ms\n",
      "756:\tlearn: 0.0153638\ttotal: 553ms\tremaining: 178ms\n",
      "757:\tlearn: 0.0153432\ttotal: 554ms\tremaining: 177ms\n",
      "758:\tlearn: 0.0153174\ttotal: 554ms\tremaining: 176ms\n",
      "759:\tlearn: 0.0152910\ttotal: 555ms\tremaining: 175ms\n",
      "760:\tlearn: 0.0152801\ttotal: 555ms\tremaining: 174ms\n",
      "761:\tlearn: 0.0152731\ttotal: 556ms\tremaining: 174ms\n",
      "762:\tlearn: 0.0152660\ttotal: 556ms\tremaining: 173ms\n",
      "763:\tlearn: 0.0152594\ttotal: 557ms\tremaining: 172ms\n",
      "764:\tlearn: 0.0152525\ttotal: 557ms\tremaining: 171ms\n",
      "765:\tlearn: 0.0152339\ttotal: 558ms\tremaining: 170ms\n",
      "766:\tlearn: 0.0152244\ttotal: 558ms\tremaining: 170ms\n",
      "767:\tlearn: 0.0152165\ttotal: 559ms\tremaining: 169ms\n",
      "768:\tlearn: 0.0152048\ttotal: 559ms\tremaining: 168ms\n",
      "769:\tlearn: 0.0151923\ttotal: 560ms\tremaining: 167ms\n",
      "770:\tlearn: 0.0151715\ttotal: 560ms\tremaining: 166ms\n",
      "771:\tlearn: 0.0151614\ttotal: 561ms\tremaining: 166ms\n",
      "772:\tlearn: 0.0151405\ttotal: 561ms\tremaining: 165ms\n",
      "773:\tlearn: 0.0151358\ttotal: 562ms\tremaining: 164ms\n",
      "774:\tlearn: 0.0151208\ttotal: 562ms\tremaining: 163ms\n",
      "775:\tlearn: 0.0151103\ttotal: 563ms\tremaining: 162ms\n",
      "776:\tlearn: 0.0150986\ttotal: 563ms\tremaining: 162ms\n",
      "777:\tlearn: 0.0150838\ttotal: 563ms\tremaining: 161ms\n",
      "778:\tlearn: 0.0150731\ttotal: 564ms\tremaining: 160ms\n",
      "779:\tlearn: 0.0150521\ttotal: 564ms\tremaining: 159ms\n",
      "780:\tlearn: 0.0150324\ttotal: 564ms\tremaining: 158ms\n",
      "781:\tlearn: 0.0150112\ttotal: 565ms\tremaining: 158ms\n",
      "782:\tlearn: 0.0150060\ttotal: 565ms\tremaining: 157ms\n",
      "783:\tlearn: 0.0149961\ttotal: 566ms\tremaining: 156ms\n",
      "784:\tlearn: 0.0149708\ttotal: 566ms\tremaining: 155ms\n",
      "785:\tlearn: 0.0149645\ttotal: 567ms\tremaining: 154ms\n",
      "786:\tlearn: 0.0149535\ttotal: 567ms\tremaining: 154ms\n",
      "787:\tlearn: 0.0149360\ttotal: 568ms\tremaining: 153ms\n",
      "788:\tlearn: 0.0149275\ttotal: 569ms\tremaining: 152ms\n",
      "789:\tlearn: 0.0149210\ttotal: 571ms\tremaining: 152ms\n",
      "790:\tlearn: 0.0148795\ttotal: 572ms\tremaining: 151ms\n",
      "791:\tlearn: 0.0148677\ttotal: 573ms\tremaining: 151ms\n",
      "792:\tlearn: 0.0148580\ttotal: 574ms\tremaining: 150ms\n",
      "793:\tlearn: 0.0148488\ttotal: 576ms\tremaining: 149ms\n",
      "794:\tlearn: 0.0148390\ttotal: 577ms\tremaining: 149ms\n",
      "795:\tlearn: 0.0148226\ttotal: 578ms\tremaining: 148ms\n",
      "796:\tlearn: 0.0148118\ttotal: 579ms\tremaining: 147ms\n",
      "797:\tlearn: 0.0147884\ttotal: 580ms\tremaining: 147ms\n",
      "798:\tlearn: 0.0147767\ttotal: 580ms\tremaining: 146ms\n",
      "799:\tlearn: 0.0147704\ttotal: 581ms\tremaining: 145ms\n",
      "800:\tlearn: 0.0147549\ttotal: 582ms\tremaining: 145ms\n",
      "801:\tlearn: 0.0147383\ttotal: 582ms\tremaining: 144ms\n",
      "802:\tlearn: 0.0147306\ttotal: 583ms\tremaining: 143ms\n",
      "803:\tlearn: 0.0147213\ttotal: 584ms\tremaining: 142ms\n",
      "804:\tlearn: 0.0147035\ttotal: 585ms\tremaining: 142ms\n",
      "805:\tlearn: 0.0146925\ttotal: 586ms\tremaining: 141ms\n",
      "806:\tlearn: 0.0146731\ttotal: 586ms\tremaining: 140ms\n",
      "807:\tlearn: 0.0146616\ttotal: 587ms\tremaining: 139ms\n",
      "808:\tlearn: 0.0146551\ttotal: 587ms\tremaining: 139ms\n",
      "809:\tlearn: 0.0146333\ttotal: 588ms\tremaining: 138ms\n",
      "810:\tlearn: 0.0146277\ttotal: 588ms\tremaining: 137ms\n",
      "811:\tlearn: 0.0146131\ttotal: 588ms\tremaining: 136ms\n",
      "812:\tlearn: 0.0145997\ttotal: 589ms\tremaining: 136ms\n",
      "813:\tlearn: 0.0145826\ttotal: 590ms\tremaining: 135ms\n",
      "814:\tlearn: 0.0145718\ttotal: 590ms\tremaining: 134ms\n",
      "815:\tlearn: 0.0145592\ttotal: 591ms\tremaining: 133ms\n",
      "816:\tlearn: 0.0145501\ttotal: 591ms\tremaining: 132ms\n",
      "817:\tlearn: 0.0145333\ttotal: 592ms\tremaining: 132ms\n",
      "818:\tlearn: 0.0145166\ttotal: 592ms\tremaining: 131ms\n",
      "819:\tlearn: 0.0145097\ttotal: 593ms\tremaining: 130ms\n",
      "820:\tlearn: 0.0145012\ttotal: 593ms\tremaining: 129ms\n",
      "821:\tlearn: 0.0144810\ttotal: 594ms\tremaining: 129ms\n",
      "822:\tlearn: 0.0144678\ttotal: 594ms\tremaining: 128ms\n",
      "823:\tlearn: 0.0144546\ttotal: 595ms\tremaining: 127ms\n",
      "824:\tlearn: 0.0144481\ttotal: 595ms\tremaining: 126ms\n"
     ]
    },
    {
     "name": "stdout",
     "output_type": "stream",
     "text": [
      "825:\tlearn: 0.0144373\ttotal: 597ms\tremaining: 126ms\n",
      "826:\tlearn: 0.0144307\ttotal: 598ms\tremaining: 125ms\n",
      "827:\tlearn: 0.0144177\ttotal: 599ms\tremaining: 124ms\n",
      "828:\tlearn: 0.0144084\ttotal: 599ms\tremaining: 124ms\n",
      "829:\tlearn: 0.0143993\ttotal: 600ms\tremaining: 123ms\n",
      "830:\tlearn: 0.0143880\ttotal: 600ms\tremaining: 122ms\n",
      "831:\tlearn: 0.0143797\ttotal: 601ms\tremaining: 121ms\n",
      "832:\tlearn: 0.0143713\ttotal: 601ms\tremaining: 121ms\n",
      "833:\tlearn: 0.0143651\ttotal: 601ms\tremaining: 120ms\n",
      "834:\tlearn: 0.0143584\ttotal: 602ms\tremaining: 119ms\n",
      "835:\tlearn: 0.0143481\ttotal: 602ms\tremaining: 118ms\n",
      "836:\tlearn: 0.0143339\ttotal: 603ms\tremaining: 117ms\n",
      "837:\tlearn: 0.0143235\ttotal: 604ms\tremaining: 117ms\n",
      "838:\tlearn: 0.0143018\ttotal: 604ms\tremaining: 116ms\n",
      "839:\tlearn: 0.0142882\ttotal: 604ms\tremaining: 115ms\n",
      "840:\tlearn: 0.0142837\ttotal: 605ms\tremaining: 114ms\n",
      "841:\tlearn: 0.0142706\ttotal: 606ms\tremaining: 114ms\n",
      "842:\tlearn: 0.0142648\ttotal: 606ms\tremaining: 113ms\n",
      "843:\tlearn: 0.0142541\ttotal: 607ms\tremaining: 112ms\n",
      "844:\tlearn: 0.0142497\ttotal: 607ms\tremaining: 111ms\n",
      "845:\tlearn: 0.0142403\ttotal: 608ms\tremaining: 111ms\n",
      "846:\tlearn: 0.0142305\ttotal: 609ms\tremaining: 110ms\n",
      "847:\tlearn: 0.0142244\ttotal: 610ms\tremaining: 109ms\n",
      "848:\tlearn: 0.0142116\ttotal: 611ms\tremaining: 109ms\n",
      "849:\tlearn: 0.0142041\ttotal: 611ms\tremaining: 108ms\n",
      "850:\tlearn: 0.0141984\ttotal: 612ms\tremaining: 107ms\n",
      "851:\tlearn: 0.0141747\ttotal: 612ms\tremaining: 106ms\n",
      "852:\tlearn: 0.0141666\ttotal: 613ms\tremaining: 106ms\n",
      "853:\tlearn: 0.0141580\ttotal: 613ms\tremaining: 105ms\n",
      "854:\tlearn: 0.0141396\ttotal: 614ms\tremaining: 104ms\n",
      "855:\tlearn: 0.0141328\ttotal: 615ms\tremaining: 103ms\n",
      "856:\tlearn: 0.0141293\ttotal: 615ms\tremaining: 103ms\n",
      "857:\tlearn: 0.0141092\ttotal: 616ms\tremaining: 102ms\n",
      "858:\tlearn: 0.0141010\ttotal: 616ms\tremaining: 101ms\n",
      "859:\tlearn: 0.0140915\ttotal: 617ms\tremaining: 100ms\n",
      "860:\tlearn: 0.0140822\ttotal: 617ms\tremaining: 99.7ms\n",
      "861:\tlearn: 0.0140764\ttotal: 618ms\tremaining: 98.9ms\n",
      "862:\tlearn: 0.0140685\ttotal: 619ms\tremaining: 98.2ms\n",
      "863:\tlearn: 0.0140538\ttotal: 619ms\tremaining: 97.5ms\n",
      "864:\tlearn: 0.0140446\ttotal: 620ms\tremaining: 96.7ms\n",
      "865:\tlearn: 0.0140297\ttotal: 620ms\tremaining: 96ms\n",
      "866:\tlearn: 0.0140129\ttotal: 621ms\tremaining: 95.2ms\n",
      "867:\tlearn: 0.0140063\ttotal: 621ms\tremaining: 94.5ms\n",
      "868:\tlearn: 0.0139849\ttotal: 622ms\tremaining: 93.7ms\n",
      "869:\tlearn: 0.0139767\ttotal: 622ms\tremaining: 93ms\n",
      "870:\tlearn: 0.0139724\ttotal: 623ms\tremaining: 92.2ms\n",
      "871:\tlearn: 0.0139642\ttotal: 623ms\tremaining: 91.5ms\n",
      "872:\tlearn: 0.0139522\ttotal: 624ms\tremaining: 90.8ms\n",
      "873:\tlearn: 0.0139423\ttotal: 624ms\tremaining: 90ms\n",
      "874:\tlearn: 0.0139337\ttotal: 625ms\tremaining: 89.3ms\n",
      "875:\tlearn: 0.0139283\ttotal: 625ms\tremaining: 88.5ms\n",
      "876:\tlearn: 0.0139126\ttotal: 626ms\tremaining: 87.8ms\n",
      "877:\tlearn: 0.0139075\ttotal: 626ms\tremaining: 87ms\n",
      "878:\tlearn: 0.0138997\ttotal: 627ms\tremaining: 86.2ms\n",
      "879:\tlearn: 0.0138934\ttotal: 627ms\tremaining: 85.5ms\n",
      "880:\tlearn: 0.0138796\ttotal: 627ms\tremaining: 84.7ms\n",
      "881:\tlearn: 0.0138686\ttotal: 628ms\tremaining: 84ms\n",
      "882:\tlearn: 0.0138585\ttotal: 628ms\tremaining: 83.3ms\n",
      "883:\tlearn: 0.0138522\ttotal: 629ms\tremaining: 82.5ms\n",
      "884:\tlearn: 0.0138433\ttotal: 629ms\tremaining: 81.8ms\n",
      "885:\tlearn: 0.0138326\ttotal: 630ms\tremaining: 81ms\n",
      "886:\tlearn: 0.0138246\ttotal: 630ms\tremaining: 80.3ms\n",
      "887:\tlearn: 0.0138152\ttotal: 631ms\tremaining: 79.5ms\n",
      "888:\tlearn: 0.0138036\ttotal: 631ms\tremaining: 78.8ms\n",
      "889:\tlearn: 0.0137968\ttotal: 632ms\tremaining: 78.1ms\n",
      "890:\tlearn: 0.0137828\ttotal: 632ms\tremaining: 77.3ms\n",
      "891:\tlearn: 0.0137787\ttotal: 633ms\tremaining: 76.6ms\n",
      "892:\tlearn: 0.0137693\ttotal: 633ms\tremaining: 75.9ms\n",
      "893:\tlearn: 0.0137619\ttotal: 634ms\tremaining: 75.2ms\n",
      "894:\tlearn: 0.0137570\ttotal: 634ms\tremaining: 74.4ms\n",
      "895:\tlearn: 0.0137522\ttotal: 635ms\tremaining: 73.7ms\n",
      "896:\tlearn: 0.0137390\ttotal: 636ms\tremaining: 73ms\n",
      "897:\tlearn: 0.0137242\ttotal: 636ms\tremaining: 72.2ms\n",
      "898:\tlearn: 0.0137038\ttotal: 637ms\tremaining: 71.5ms\n",
      "899:\tlearn: 0.0136840\ttotal: 637ms\tremaining: 70.8ms\n"
     ]
    },
    {
     "name": "stdout",
     "output_type": "stream",
     "text": [
      "900:\tlearn: 0.0136742\ttotal: 638ms\tremaining: 70.1ms\n",
      "901:\tlearn: 0.0136660\ttotal: 640ms\tremaining: 69.5ms\n",
      "902:\tlearn: 0.0136563\ttotal: 641ms\tremaining: 68.8ms\n",
      "903:\tlearn: 0.0136482\ttotal: 641ms\tremaining: 68ms\n",
      "904:\tlearn: 0.0136292\ttotal: 641ms\tremaining: 67.3ms\n",
      "905:\tlearn: 0.0136211\ttotal: 642ms\tremaining: 66.6ms\n",
      "906:\tlearn: 0.0136037\ttotal: 642ms\tremaining: 65.8ms\n",
      "907:\tlearn: 0.0135947\ttotal: 643ms\tremaining: 65.1ms\n",
      "908:\tlearn: 0.0135871\ttotal: 643ms\tremaining: 64.4ms\n",
      "909:\tlearn: 0.0135726\ttotal: 644ms\tremaining: 63.7ms\n",
      "910:\tlearn: 0.0135603\ttotal: 644ms\tremaining: 63ms\n",
      "911:\tlearn: 0.0135483\ttotal: 645ms\tremaining: 62.2ms\n",
      "912:\tlearn: 0.0135435\ttotal: 645ms\tremaining: 61.5ms\n",
      "913:\tlearn: 0.0135118\ttotal: 646ms\tremaining: 60.8ms\n",
      "914:\tlearn: 0.0135010\ttotal: 646ms\tremaining: 60.1ms\n",
      "915:\tlearn: 0.0134975\ttotal: 647ms\tremaining: 59.3ms\n",
      "916:\tlearn: 0.0134906\ttotal: 648ms\tremaining: 58.6ms\n",
      "917:\tlearn: 0.0134728\ttotal: 648ms\tremaining: 57.9ms\n",
      "918:\tlearn: 0.0134652\ttotal: 649ms\tremaining: 57.2ms\n",
      "919:\tlearn: 0.0134544\ttotal: 649ms\tremaining: 56.4ms\n",
      "920:\tlearn: 0.0134229\ttotal: 650ms\tremaining: 55.7ms\n",
      "921:\tlearn: 0.0134117\ttotal: 650ms\tremaining: 55ms\n",
      "922:\tlearn: 0.0134024\ttotal: 651ms\tremaining: 54.3ms\n",
      "923:\tlearn: 0.0133952\ttotal: 651ms\tremaining: 53.6ms\n",
      "924:\tlearn: 0.0133833\ttotal: 652ms\tremaining: 52.8ms\n",
      "925:\tlearn: 0.0133766\ttotal: 652ms\tremaining: 52.1ms\n",
      "926:\tlearn: 0.0133619\ttotal: 653ms\tremaining: 51.4ms\n",
      "927:\tlearn: 0.0133526\ttotal: 653ms\tremaining: 50.7ms\n",
      "928:\tlearn: 0.0133457\ttotal: 654ms\tremaining: 50ms\n",
      "929:\tlearn: 0.0133385\ttotal: 655ms\tremaining: 49.3ms\n",
      "930:\tlearn: 0.0133273\ttotal: 655ms\tremaining: 48.5ms\n",
      "931:\tlearn: 0.0132974\ttotal: 655ms\tremaining: 47.8ms\n",
      "932:\tlearn: 0.0132866\ttotal: 656ms\tremaining: 47.1ms\n",
      "933:\tlearn: 0.0132800\ttotal: 657ms\tremaining: 46.4ms\n",
      "934:\tlearn: 0.0132753\ttotal: 657ms\tremaining: 45.7ms\n",
      "935:\tlearn: 0.0132689\ttotal: 657ms\tremaining: 44.9ms\n",
      "936:\tlearn: 0.0132492\ttotal: 658ms\tremaining: 44.2ms\n",
      "937:\tlearn: 0.0132388\ttotal: 659ms\tremaining: 43.5ms\n",
      "938:\tlearn: 0.0132295\ttotal: 659ms\tremaining: 42.8ms\n",
      "939:\tlearn: 0.0132196\ttotal: 659ms\tremaining: 42.1ms\n",
      "940:\tlearn: 0.0131994\ttotal: 660ms\tremaining: 41.4ms\n",
      "941:\tlearn: 0.0131947\ttotal: 660ms\tremaining: 40.7ms\n",
      "942:\tlearn: 0.0131808\ttotal: 661ms\tremaining: 39.9ms\n",
      "943:\tlearn: 0.0131581\ttotal: 661ms\tremaining: 39.2ms\n",
      "944:\tlearn: 0.0131503\ttotal: 662ms\tremaining: 38.5ms\n",
      "945:\tlearn: 0.0131461\ttotal: 662ms\tremaining: 37.8ms\n",
      "946:\tlearn: 0.0131415\ttotal: 663ms\tremaining: 37.1ms\n",
      "947:\tlearn: 0.0131275\ttotal: 663ms\tremaining: 36.4ms\n",
      "948:\tlearn: 0.0131227\ttotal: 664ms\tremaining: 35.7ms\n",
      "949:\tlearn: 0.0131049\ttotal: 664ms\tremaining: 35ms\n",
      "950:\tlearn: 0.0130916\ttotal: 665ms\tremaining: 34.3ms\n",
      "951:\tlearn: 0.0130817\ttotal: 665ms\tremaining: 33.5ms\n",
      "952:\tlearn: 0.0130774\ttotal: 666ms\tremaining: 32.8ms\n",
      "953:\tlearn: 0.0130691\ttotal: 666ms\tremaining: 32.1ms\n",
      "954:\tlearn: 0.0130530\ttotal: 667ms\tremaining: 31.4ms\n",
      "955:\tlearn: 0.0130465\ttotal: 667ms\tremaining: 30.7ms\n",
      "956:\tlearn: 0.0130385\ttotal: 668ms\tremaining: 30ms\n",
      "957:\tlearn: 0.0130327\ttotal: 668ms\tremaining: 29.3ms\n",
      "958:\tlearn: 0.0130175\ttotal: 669ms\tremaining: 28.6ms\n",
      "959:\tlearn: 0.0130096\ttotal: 669ms\tremaining: 27.9ms\n",
      "960:\tlearn: 0.0129992\ttotal: 670ms\tremaining: 27.2ms\n",
      "961:\tlearn: 0.0129871\ttotal: 670ms\tremaining: 26.5ms\n",
      "962:\tlearn: 0.0129811\ttotal: 671ms\tremaining: 25.8ms\n",
      "963:\tlearn: 0.0129684\ttotal: 671ms\tremaining: 25.1ms\n",
      "964:\tlearn: 0.0129622\ttotal: 671ms\tremaining: 24.4ms\n",
      "965:\tlearn: 0.0129573\ttotal: 672ms\tremaining: 23.6ms\n",
      "966:\tlearn: 0.0129502\ttotal: 672ms\tremaining: 22.9ms\n",
      "967:\tlearn: 0.0129354\ttotal: 672ms\tremaining: 22.2ms\n",
      "968:\tlearn: 0.0129293\ttotal: 673ms\tremaining: 21.5ms\n",
      "969:\tlearn: 0.0129177\ttotal: 674ms\tremaining: 20.8ms\n",
      "970:\tlearn: 0.0129091\ttotal: 674ms\tremaining: 20.1ms\n",
      "971:\tlearn: 0.0128979\ttotal: 675ms\tremaining: 19.4ms\n",
      "972:\tlearn: 0.0128884\ttotal: 675ms\tremaining: 18.7ms\n",
      "973:\tlearn: 0.0128812\ttotal: 676ms\tremaining: 18ms\n",
      "974:\tlearn: 0.0128795\ttotal: 676ms\tremaining: 17.3ms\n",
      "975:\tlearn: 0.0128643\ttotal: 677ms\tremaining: 16.6ms\n",
      "976:\tlearn: 0.0128549\ttotal: 677ms\tremaining: 15.9ms\n",
      "977:\tlearn: 0.0128394\ttotal: 678ms\tremaining: 15.2ms\n",
      "978:\tlearn: 0.0128322\ttotal: 678ms\tremaining: 14.6ms\n",
      "979:\tlearn: 0.0128251\ttotal: 679ms\tremaining: 13.9ms\n",
      "980:\tlearn: 0.0128133\ttotal: 679ms\tremaining: 13.2ms\n",
      "981:\tlearn: 0.0127986\ttotal: 680ms\tremaining: 12.5ms\n",
      "982:\tlearn: 0.0127924\ttotal: 680ms\tremaining: 11.8ms\n",
      "983:\tlearn: 0.0127863\ttotal: 681ms\tremaining: 11.1ms\n",
      "984:\tlearn: 0.0127789\ttotal: 681ms\tremaining: 10.4ms\n",
      "985:\tlearn: 0.0127726\ttotal: 682ms\tremaining: 9.68ms\n",
      "986:\tlearn: 0.0127534\ttotal: 682ms\tremaining: 8.99ms\n",
      "987:\tlearn: 0.0127407\ttotal: 683ms\tremaining: 8.29ms\n",
      "988:\tlearn: 0.0127344\ttotal: 683ms\tremaining: 7.6ms\n",
      "989:\tlearn: 0.0127310\ttotal: 684ms\tremaining: 6.91ms\n",
      "990:\tlearn: 0.0127259\ttotal: 685ms\tremaining: 6.22ms\n",
      "991:\tlearn: 0.0127212\ttotal: 685ms\tremaining: 5.53ms\n",
      "992:\tlearn: 0.0127129\ttotal: 686ms\tremaining: 4.83ms\n",
      "993:\tlearn: 0.0127047\ttotal: 686ms\tremaining: 4.14ms\n",
      "994:\tlearn: 0.0126995\ttotal: 687ms\tremaining: 3.45ms\n",
      "995:\tlearn: 0.0126939\ttotal: 687ms\tremaining: 2.76ms\n",
      "996:\tlearn: 0.0126846\ttotal: 688ms\tremaining: 2.07ms\n",
      "997:\tlearn: 0.0126747\ttotal: 688ms\tremaining: 1.38ms\n",
      "998:\tlearn: 0.0126683\ttotal: 688ms\tremaining: 689us\n",
      "999:\tlearn: 0.0126654\ttotal: 689ms\tremaining: 0us\n"
     ]
    },
    {
     "data": {
      "text/plain": [
       "<catboost.core.CatBoostRegressor at 0x7ff3475abaf0>"
      ]
     },
     "execution_count": 9,
     "metadata": {},
     "output_type": "execute_result"
    }
   ],
   "source": [
    "#Train the Model \n",
    "prior_model = ctb.CatBoostRegressor()\n",
    "prior_model.fit(X_train,Y_train)"
   ]
  },
  {
   "cell_type": "code",
   "execution_count": 10,
   "id": "af65dcda",
   "metadata": {
    "execution": {
     "iopub.execute_input": "2022-07-25T01:41:30.837276Z",
     "iopub.status.busy": "2022-07-25T01:41:30.836695Z",
     "iopub.status.idle": "2022-07-25T01:41:30.870461Z",
     "shell.execute_reply": "2022-07-25T01:41:30.869073Z"
    },
    "id": "af65dcda",
    "papermill": {
     "duration": 0.050831,
     "end_time": "2022-07-25T01:41:30.876279",
     "exception": false,
     "start_time": "2022-07-25T01:41:30.825448",
     "status": "completed"
    },
    "tags": []
   },
   "outputs": [
    {
     "data": {
      "application/scrapbook.scrap.json+json": {
       "data": 0.0016307024789072098,
       "encoder": "json",
       "name": "Prior Model MSE",
       "version": 1
      }
     },
     "metadata": {
      "scrapbook": {
       "data": true,
       "display": false,
       "name": "Prior Model MSE"
      }
     },
     "output_type": "display_data"
    },
    {
     "data": {
      "application/scrapbook.scrap.json+json": {
       "data": 0.9989206737239319,
       "encoder": "json",
       "name": "ABC Pre-generator MSE",
       "version": 1
      }
     },
     "metadata": {
      "scrapbook": {
       "data": true,
       "display": false,
       "name": "ABC Pre-generator MSE"
      }
     },
     "output_type": "display_data"
    },
    {
     "data": {
      "application/scrapbook.scrap.json+json": {
       "data": 0.02620627224258236,
       "encoder": "json",
       "name": "Prior Model MAE",
       "version": 1
      }
     },
     "metadata": {
      "scrapbook": {
       "data": true,
       "display": false,
       "name": "Prior Model MAE"
      }
     },
     "output_type": "display_data"
    },
    {
     "name": "stdout",
     "output_type": "stream",
     "text": [
      "Prior Model MAE 0.02620627224258236\n",
      "ABC Pre-generator MAE 0.9986708117013507\n"
     ]
    }
   ],
   "source": [
    "y_pred = prior_model.predict(X_test)\n",
    "y_abc = y_pred + np.random.normal(0,variance, y_pred.shape) + bias \n",
    "mse = mean_squared_error(y_pred,Y_test)\n",
    "sb.glue(\"Prior Model MSE\",mse)\n",
    "mse = mean_squared_error(y_abc,Y_test)\n",
    "sb.glue(\"ABC Pre-generator MSE\",mse)\n",
    "mae = mean_absolute_error(y_pred,Y_test)\n",
    "sb.glue(\"Prior Model MAE\",mae)\n",
    "print(\"Prior Model MAE\",mae)\n",
    "mae = mean_absolute_error(y_abc,Y_test)\n",
    "print(\"ABC Pre-generator MAE\",mae)"
   ]
  },
  {
   "cell_type": "markdown",
   "id": "25609da2",
   "metadata": {
    "papermill": {
     "duration": 0.013813,
     "end_time": "2022-07-25T01:41:30.901284",
     "exception": false,
     "start_time": "2022-07-25T01:41:30.887471",
     "status": "completed"
    },
    "tags": []
   },
   "source": [
    "# mGAN Model"
   ]
  },
  {
   "cell_type": "code",
   "execution_count": 11,
   "id": "dfc3464d",
   "metadata": {
    "execution": {
     "iopub.execute_input": "2022-07-25T01:41:30.932624Z",
     "iopub.status.busy": "2022-07-25T01:41:30.932224Z",
     "iopub.status.idle": "2022-07-25T01:41:30.937977Z",
     "shell.execute_reply": "2022-07-25T01:41:30.937234Z"
    },
    "papermill": {
     "duration": 0.020926,
     "end_time": "2022-07-25T01:41:30.940942",
     "exception": false,
     "start_time": "2022-07-25T01:41:30.920016",
     "status": "completed"
    },
    "tags": []
   },
   "outputs": [],
   "source": [
    "# gen = network.Generator(n_features+1).to(device)\n",
    "# disc = network.Discriminator(n_features+1).to(device)\n",
    "\n",
    "# criterion = torch.nn.BCELoss()\n",
    "# gen_opt = torch.optim.Adam(gen.parameters(), lr=0.01, betas=(0.5, 0.999))\n",
    "# disc_opt = torch.optim.Adam(disc.parameters(), lr=0.01, betas=(0.5, 0.999))"
   ]
  },
  {
   "cell_type": "code",
   "execution_count": 12,
   "id": "b75fdd85",
   "metadata": {
    "execution": {
     "iopub.execute_input": "2022-07-25T01:41:30.965602Z",
     "iopub.status.busy": "2022-07-25T01:41:30.965219Z",
     "iopub.status.idle": "2022-07-25T01:41:30.970144Z",
     "shell.execute_reply": "2022-07-25T01:41:30.968832Z"
    },
    "papermill": {
     "duration": 0.020436,
     "end_time": "2022-07-25T01:41:30.973179",
     "exception": false,
     "start_time": "2022-07-25T01:41:30.952743",
     "status": "completed"
    },
    "tags": []
   },
   "outputs": [],
   "source": [
    "#Training the ABC_GAN \n",
    "# ABC_train_test2.training_GAN(disc,gen,disc_opt,gen_opt,train_data,batch_size,n_epochs,criterion,prior_model,variance,bias,device)"
   ]
  },
  {
   "cell_type": "code",
   "execution_count": 13,
   "id": "1fa7c368",
   "metadata": {
    "execution": {
     "iopub.execute_input": "2022-07-25T01:41:31.002215Z",
     "iopub.status.busy": "2022-07-25T01:41:31.001503Z",
     "iopub.status.idle": "2022-07-25T01:41:31.006597Z",
     "shell.execute_reply": "2022-07-25T01:41:31.005719Z"
    },
    "papermill": {
     "duration": 0.025908,
     "end_time": "2022-07-25T01:41:31.009986",
     "exception": false,
     "start_time": "2022-07-25T01:41:30.984078",
     "status": "completed"
    },
    "tags": []
   },
   "outputs": [],
   "source": [
    "# ABC_GAN1_metrics=ABC_train_test2.test_generator(gen,test_data,prior_model,variance,bias,\"1\",device)\n",
    "# sb.glue(\"ABC_GAN_1 Metrics\",ABC_GAN1_metrics)\n",
    "\n",
    "# print(\"MAE\")\n",
    "# print(mean(ABC_GAN1_metrics[1]))"
   ]
  },
  {
   "cell_type": "code",
   "execution_count": 14,
   "id": "eb22ce5c",
   "metadata": {
    "execution": {
     "iopub.execute_input": "2022-07-25T01:41:31.032932Z",
     "iopub.status.busy": "2022-07-25T01:41:31.032341Z",
     "iopub.status.idle": "2022-07-25T01:41:31.037690Z",
     "shell.execute_reply": "2022-07-25T01:41:31.036001Z"
    },
    "papermill": {
     "duration": 0.023113,
     "end_time": "2022-07-25T01:41:31.043215",
     "exception": false,
     "start_time": "2022-07-25T01:41:31.020102",
     "status": "completed"
    },
    "tags": []
   },
   "outputs": [],
   "source": [
    "# sanityChecks.discProbVsError(train_data,disc,device)\n",
    "# sanityChecks.discProbVsError(test_data,disc,device)"
   ]
  },
  {
   "cell_type": "markdown",
   "id": "03c91e1e",
   "metadata": {
    "papermill": {
     "duration": 0.011767,
     "end_time": "2022-07-25T01:41:31.066303",
     "exception": false,
     "start_time": "2022-07-25T01:41:31.054536",
     "status": "completed"
    },
    "tags": []
   },
   "source": [
    "# mGAN Model with TabNet Generator"
   ]
  },
  {
   "cell_type": "code",
   "execution_count": 15,
   "id": "5db58293",
   "metadata": {
    "execution": {
     "iopub.execute_input": "2022-07-25T01:41:31.093430Z",
     "iopub.status.busy": "2022-07-25T01:41:31.092672Z",
     "iopub.status.idle": "2022-07-25T01:41:31.114217Z",
     "shell.execute_reply": "2022-07-25T01:41:31.113391Z"
    },
    "papermill": {
     "duration": 0.039186,
     "end_time": "2022-07-25T01:41:31.116954",
     "exception": false,
     "start_time": "2022-07-25T01:41:31.077768",
     "status": "completed"
    },
    "tags": []
   },
   "outputs": [],
   "source": [
    "gen2 = network.GeneratorTabnet(n_features+1).to(device)\n",
    "disc2 = network.Discriminator(n_features+1).to(device)\n",
    "\n",
    "criterion = torch.nn.BCELoss()\n",
    "gen_opt = torch.optim.Adam(gen2.parameters(), lr=0.01, betas=(0.5, 0.999))\n",
    "disc_opt = torch.optim.Adam(disc2.parameters(), lr=0.01, betas=(0.5, 0.999))"
   ]
  },
  {
   "cell_type": "code",
   "execution_count": 16,
   "id": "48c53363",
   "metadata": {
    "execution": {
     "iopub.execute_input": "2022-07-25T01:41:31.140314Z",
     "iopub.status.busy": "2022-07-25T01:41:31.139694Z",
     "iopub.status.idle": "2022-07-25T01:58:04.726838Z",
     "shell.execute_reply": "2022-07-25T01:58:04.725552Z"
    },
    "papermill": {
     "duration": 993.60393,
     "end_time": "2022-07-25T01:58:04.731390",
     "exception": false,
     "start_time": "2022-07-25T01:41:31.127460",
     "status": "completed"
    },
    "tags": []
   },
   "outputs": [
    {
     "data": {
      "image/png": "[encoded data removed]",
      "text/plain": [
       "<Figure size 432x288 with 1 Axes>"
      ]
     },
     "metadata": {
      "needs_background": "light"
     },
     "output_type": "display_data"
    },
    {
     "data": {
      "image/png": "[encoded data removed]",
      "text/plain": [
       "<Figure size 432x288 with 1 Axes>"
      ]
     },
     "metadata": {
      "needs_background": "light"
     },
     "output_type": "display_data"
    }
   ],
   "source": [
    "#Training the ABC_GAN \n",
    "ABC_train_test2.training_GAN(disc2,gen2,disc_opt,gen_opt,train_data,batch_size,n_epochs,criterion,prior_model,variance,bias,device)"
   ]
  },
  {
   "cell_type": "code",
   "execution_count": 17,
   "id": "a1cd2e3f",
   "metadata": {
    "execution": {
     "iopub.execute_input": "2022-07-25T01:58:04.764051Z",
     "iopub.status.busy": "2022-07-25T01:58:04.763102Z",
     "iopub.status.idle": "2022-07-25T01:58:07.673044Z",
     "shell.execute_reply": "2022-07-25T01:58:07.670818Z"
    },
    "papermill": {
     "duration": 2.928154,
     "end_time": "2022-07-25T01:58:07.675925",
     "exception": false,
     "start_time": "2022-07-25T01:58:04.747771",
     "status": "completed"
    },
    "tags": []
   },
   "outputs": [
    {
     "data": {
      "application/scrapbook.scrap.json+json": {
       "data": 0.014991301717649142,
       "encoder": "json",
       "name": "ABC-GAN Model 1 MSE",
       "version": 1
      }
     },
     "metadata": {
      "scrapbook": {
       "data": true,
       "display": false,
       "name": "ABC-GAN Model 1 MSE"
      }
     },
     "output_type": "display_data"
    },
    {
     "data": {
      "application/scrapbook.scrap.json+json": {
       "data": 0.10297106328529197,
       "encoder": "json",
       "name": "ABC-GAN Model 1 MAE",
       "version": 1
      }
     },
     "metadata": {
      "scrapbook": {
       "data": true,
       "display": false,
       "name": "ABC-GAN Model 1 MAE"
      }
     },
     "output_type": "display_data"
    },
    {
     "data": {
      "application/scrapbook.scrap.json+json": {
       "data": 15.857543745934963,
       "encoder": "json",
       "name": "ABC-GAN Model 1 Manhattan Distance",
       "version": 1
      }
     },
     "metadata": {
      "scrapbook": {
       "data": true,
       "display": false,
       "name": "ABC-GAN Model 1 Manhattan Distance"
      }
     },
     "output_type": "display_data"
    },
    {
     "data": {
      "application/scrapbook.scrap.json+json": {
       "data": 1.5193677872393494,
       "encoder": "json",
       "name": "ABC-GAN Model 1 Euclidean distance",
       "version": 1
      }
     },
     "metadata": {
      "scrapbook": {
       "data": true,
       "display": false,
       "name": "ABC-GAN Model 1 Euclidean distance"
      }
     },
     "output_type": "display_data"
    },
    {
     "data": {
      "application/scrapbook.scrap.json+json": {
       "data": [
        [
         0.014794342891886102,
         0.014644742159474948,
         0.01519225080540939,
         0.015198307763358137,
         0.014832275690145015,
         0.015109024687120396,
         0.015142762731570681,
         0.015078332179032546,
         0.015213219692228748,
         0.01505345442201683,
         0.014790739659112954,
         0.015320753526580988,
         0.014660722348737745,
         0.014535471399413922,
         0.014485247903936514,
         0.01493503066917824,
         0.015025314293985155,
         0.014879035049465148,
         0.01496078143918258,
         0.014912108536924599,
         0.014520214135828586,
         0.014800073024183322,
         0.014882367167175097,
         0.015076185109990115,
         0.015190104524904054,
         0.014820424852675228,
         0.014952819226952505,
         0.01568282538546249,
         0.015208764431997826,
         0.015037768420398407,
         0.014976920872565561,
         0.014998668017665986,
         0.014892740962606427,
         0.014705496572210404,
         0.014724418767150176,
         0.01459521152900269,
         0.015348775811264015,
         0.015053643145202246,
         0.014919087696474131,
         0.015338131863764412,
         0.014828226197548533,
         0.015252043571112744,
         0.015319919396304945,
         0.014510308078559131,
         0.015366221515431183,
         0.014748496549641749,
         0.015043935009737844,
         0.015085476376416359,
         0.014754720670125444,
         0.01550516369931021,
         0.014610284712826282,
         0.015320763529618543,
         0.015097723525570449,
         0.01493243760718844,
         0.015024239532587138,
         0.014930363523184479,
         0.015109039987468691,
         0.01569537543322744,
         0.014832458824148635,
         0.014951088455621962,
         0.014626253265593152,
         0.01491325618813285,
         0.01494212366643273,
         0.015161492957413428,
         0.01518235701682982,
         0.015132067831872074,
         0.015190538940710105,
         0.014779487334560006,
         0.015000967901559643,
         0.014888739313238789,
         0.015161015698109868,
         0.015068829516585652,
         0.015097324213726017,
         0.014927729547383332,
         0.015130463089092517,
         0.015490411039513693,
         0.015423617483073308,
         0.015239235483614956,
         0.015423715247063789,
         0.014899510784472861,
         0.014990644474619072,
         0.015182848022434142,
         0.014562275434029817,
         0.015045427490187106,
         0.01472402159274468,
         0.014772634179186561,
         0.014725927552153616,
         0.015026137073018489,
         0.014772345133468244,
         0.01462775104547311,
         0.015175710382735578,
         0.015204453551482014,
         0.014967706372499836,
         0.01529959268196477,
         0.014912521630604912,
         0.01442571352447574,
         0.0151206250309065,
         0.01540201863542017,
         0.014506140513912405,
         0.014599695362754402
        ],
        [
         0.10206891364091403,
         0.10126905985079802,
         0.10357496335908964,
         0.10386370364334677,
         0.1021638736128807,
         0.10310253017134481,
         0.10279470672468086,
         0.10351159423589706,
         0.10311251830358009,
         0.10343965133289237,
         0.1024658139069359,
         0.10385751946792975,
         0.10189695772412535,
         0.10050422388624836,
         0.10075203039042362,
         0.10261500994493435,
         0.10308722890429682,
         0.10258729455920008,
         0.10249270431020042,
         0.10261793666845792,
         0.10168053712937739,
         0.10247749012786073,
         0.1026515495273974,
         0.10346684024318473,
         0.10375333703183509,
         0.10267620998156535,
         0.10258922658183357,
         0.10566081609818842,
         0.10395020362618682,
         0.10250090827028473,
         0.10308706518504526,
         0.10275788750354346,
         0.10347442793381678,
         0.10188343782316554,
         0.10293495451862161,
         0.10183782846509636,
         0.10433610731905157,
         0.10297036229015945,
         0.1032019726835288,
         0.1046445570015288,
         0.10228729267399032,
         0.10472323048811455,
         0.10402163137476166,
         0.10111622318818972,
         0.10426150475229536,
         0.10231713834521058,
         0.10305700576924659,
         0.10310501731061317,
         0.10249320659544561,
         0.10513315059534915,
         0.10141963705226972,
         0.10403782651795969,
         0.1035759997638789,
         0.10276539062524771,
         0.1030841881965662,
         0.10257277134564016,
         0.10323550842412106,
         0.10519822938488675,
         0.10222660198614195,
         0.10310289882994317,
         0.1016838684097513,
         0.10267116274539527,
         0.102810688800626,
         0.10351665047082034,
         0.1036292121007845,
         0.1031004898733907,
         0.10350348335968984,
         0.10239946213248488,
         0.10261077956332788,
         0.10239865118032926,
         0.10387445057367349,
         0.10295672676005921,
         0.10360252402432553,
         0.10248909039156777,
         0.10358612858629845,
         0.10493349187172853,
         0.10436432373214077,
         0.10375290344674866,
         0.10476013969678383,
         0.10300373431150016,
         0.10326846698661904,
         0.10329256855048143,
         0.10110124984344879,
         0.10368408852970445,
         0.10163280087244975,
         0.10228789481636766,
         0.10164705528454347,
         0.10271025323248528,
         0.10263718713026543,
         0.10112518981679694,
         0.10374528769548837,
         0.10431572959407584,
         0.1032231966783474,
         0.10489153968436378,
         0.1027725584708251,
         0.10070181328367878,
         0.10336366460307853,
         0.10417235023402549,
         0.10127962932184145,
         0.10155743466956275
        ],
        [
         15.71861270070076,
         15.595435217022896,
         15.950544357299805,
         15.995010361075401,
         15.733236536383629,
         15.8777896463871,
         15.830384835600853,
         15.940785512328148,
         15.879327818751335,
         15.929706305265427,
         15.779735341668129,
         15.99405799806118,
         15.692131489515305,
         15.477650478482246,
         15.515812680125237,
         15.80271153151989,
         15.875433251261711,
         15.798443362116814,
         15.783876463770866,
         15.80316224694252,
         15.658802717924118,
         15.781533479690552,
         15.8083386272192,
         15.933893397450447,
         15.978013902902603,
         15.812136337161064,
         15.798740893602371,
         16.271765679121017,
         16.00833135843277,
         15.785139873623848,
         15.875408038496971,
         15.824714675545692,
         15.935061901807785,
         15.690049424767494,
         15.85198299586773,
         15.68302558362484,
         16.06776052713394,
         15.857435792684555,
         15.893103793263435,
         16.115261778235435,
         15.75224307179451,
         16.12737749516964,
         16.019331231713295,
         15.571898370981216,
         16.056271731853485,
         15.75683930516243,
         15.870778888463974,
         15.878172665834427,
         15.783953815698624,
         16.19050519168377,
         15.618624106049538,
         16.021825283765793,
         15.950703963637352,
         15.825870156288147,
         15.874964982271194,
         15.796206787228584,
         15.898268297314644,
         16.20052732527256,
         15.74289670586586,
         15.877846419811249,
         15.6593157351017,
         15.81135906279087,
         15.832846075296402,
         15.941564172506332,
         15.958898663520813,
         15.877475440502167,
         15.939536437392235,
         15.769517168402672,
         15.802060052752495,
         15.769392281770706,
         15.996665388345718,
         15.855335921049118,
         15.954788699746132,
         15.783319920301437,
         15.952263802289963,
         16.159757748246193,
         16.07210585474968,
         15.977947130799294,
         16.13306151330471,
         15.862575083971024,
         15.903343915939331,
         15.90705555677414,
         15.569592475891113,
         15.967349633574486,
         15.651451334357262,
         15.75233580172062,
         15.653646513819695,
         15.817378997802734,
         15.806126818060875,
         15.573279231786728,
         15.97677430510521,
         16.06462235748768,
         15.8963722884655,
         16.15329711139202,
         15.826974004507065,
         15.508079245686531,
         15.918004348874092,
         16.042541936039925,
         15.597062915563583,
         15.639844939112663
        ],
        [
         1.50941339776433,
         1.501762395507073,
         1.5295772697163899,
         1.5298821508721356,
         1.5113472322012345,
         1.5253818544274549,
         1.527083973022402,
         1.5238317346646288,
         1.5306324942987546,
         1.5225741298835311,
         1.5092295741547719,
         1.536032565765932,
         1.502581525810035,
         1.4961492557595129,
         1.493562244168693,
         1.5165733490515547,
         1.5211503545914564,
         1.5137276497499914,
         1.5178802132033073,
         1.5154090915282208,
         1.495363827607717,
         1.5097056818215369,
         1.513897137768932,
         1.523723238300997,
         1.5294692206236855,
         1.5107433360144222,
         1.5174762472443137,
         1.5540769316096368,
         1.5304083515610025,
         1.5217806467232242,
         1.5186987240315626,
         1.519800932596293,
         1.5144246789594356,
         1.5048742379748552,
         1.5058421199253016,
         1.4992206560297967,
         1.53743665721052,
         1.5225836740097884,
         1.5157636706482367,
         1.5369034800597332,
         1.5111409048869247,
         1.532584323928495,
         1.5359907509587944,
         1.4948536530704624,
         1.5383101486294635,
         1.5070728146459376,
         1.5220926356498896,
         1.524192691875971,
         1.507390786491452,
         1.545249238697037,
         1.4999946152487504,
         1.5360330672095752,
         1.5248112745313267,
         1.5164416874733495,
         1.5210959496423684,
         1.5163363685443971,
         1.5253826267760422,
         1.5546986256882795,
         1.511356562469257,
         1.5173884216527362,
         1.5008141133735868,
         1.5154674041273402,
         1.516933434475831,
         1.5280281134330178,
         1.529079128296437,
         1.526544609930643,
         1.5294910908107167,
         1.5086553779847274,
         1.5199174506663788,
         1.514221203866454,
         1.528004063315579,
         1.523351484574125,
         1.5247911099274571,
         1.5162026085906306,
         1.5264636634130035,
         1.5445139365137204,
         1.5411804217525245,
         1.5319406856914217,
         1.541185306200336,
         1.5147688473192271,
         1.5193943691785015,
         1.5291038537178754,
         1.4975281021872648,
         1.5221681357487464,
         1.5058218106013344,
         1.5083055604202784,
         1.5059192684309661,
         1.5211920027546972,
         1.508290804372323,
         1.5008909557335797,
         1.5287443863973071,
         1.5301914412674742,
         1.5182314650161135,
         1.5349714241713341,
         1.5154300812354085,
         1.4904898130377355,
         1.5259673177232862,
         1.5401009284636855,
         1.4946389661528665,
         1.4994509281280857
        ]
       ],
       "encoder": "json",
       "name": "ABC_GAN_2 Metrics",
       "version": 1
      }
     },
     "metadata": {
      "scrapbook": {
       "data": true,
       "display": false,
       "name": "ABC_GAN_2 Metrics"
      }
     },
     "output_type": "display_data"
    },
    {
     "name": "stdout",
     "output_type": "stream",
     "text": [
      "MAE\n",
      "0.10297106328529197\n"
     ]
    }
   ],
   "source": [
    "ABC_GAN2_metrics=ABC_train_test2.test_generator(gen2,test_data,prior_model,variance,bias,\"1\",device)\n",
    "sb.glue(\"ABC_GAN_2 Metrics\",ABC_GAN2_metrics)\n",
    "\n",
    "print(\"MAE\")\n",
    "print(mean(ABC_GAN2_metrics[1]))"
   ]
  },
  {
   "cell_type": "code",
   "execution_count": 18,
   "id": "80032115",
   "metadata": {
    "execution": {
     "iopub.execute_input": "2022-07-25T01:58:07.726428Z",
     "iopub.status.busy": "2022-07-25T01:58:07.725821Z",
     "iopub.status.idle": "2022-07-25T01:58:08.780549Z",
     "shell.execute_reply": "2022-07-25T01:58:08.779458Z"
    },
    "papermill": {
     "duration": 1.081332,
     "end_time": "2022-07-25T01:58:08.783264",
     "exception": false,
     "start_time": "2022-07-25T01:58:07.701932",
     "status": "completed"
    },
    "tags": []
   },
   "outputs": [
    {
     "data": {
      "image/png": "[encoded data removed]",
      "text/plain": [
       "<Figure size 432x288 with 1 Axes>"
      ]
     },
     "metadata": {
      "needs_background": "light"
     },
     "output_type": "display_data"
    },
    {
     "data": {
      "image/png": "[encoded data removed]",
      "text/plain": [
       "<Figure size 432x288 with 1 Axes>"
      ]
     },
     "metadata": {
      "needs_background": "light"
     },
     "output_type": "display_data"
    },
    {
     "data": {
      "image/png": "[encoded data removed]",
      "text/plain": [
       "<Figure size 432x288 with 1 Axes>"
      ]
     },
     "metadata": {
      "needs_background": "light"
     },
     "output_type": "display_data"
    },
    {
     "data": {
      "image/png": "[encoded data removed]",
      "text/plain": [
       "<Figure size 432x288 with 1 Axes>"
      ]
     },
     "metadata": {
      "needs_background": "light"
     },
     "output_type": "display_data"
    }
   ],
   "source": [
    "sanityChecks.discProbVsError(train_data,disc2,device)\n",
    "sanityChecks.discProbVsError(test_data,disc2,device)"
   ]
  },
  {
   "cell_type": "markdown",
   "id": "130f3a4d",
   "metadata": {
    "id": "130f3a4d",
    "papermill": {
     "duration": 0.023055,
     "end_time": "2022-07-25T01:58:08.824312",
     "exception": false,
     "start_time": "2022-07-25T01:58:08.801257",
     "status": "completed"
    },
    "tags": []
   },
   "source": [
    "# skipGAN Model"
   ]
  },
  {
   "cell_type": "code",
   "execution_count": 19,
   "id": "4e43dad1",
   "metadata": {
    "execution": {
     "iopub.execute_input": "2022-07-25T01:58:08.868058Z",
     "iopub.status.busy": "2022-07-25T01:58:08.863282Z",
     "iopub.status.idle": "2022-07-25T01:58:08.877726Z",
     "shell.execute_reply": "2022-07-25T01:58:08.876725Z"
    },
    "id": "4e43dad1",
    "papermill": {
     "duration": 0.040463,
     "end_time": "2022-07-25T01:58:08.880349",
     "exception": false,
     "start_time": "2022-07-25T01:58:08.839886",
     "status": "completed"
    },
    "tags": []
   },
   "outputs": [],
   "source": [
    "#Generator\n",
    "gen3 = network.GeneratorWithSkipConnection(n_features+1).to(device)\n",
    "constraints=network.weightConstraint()\n",
    "#Discriminator \n",
    "disc3 = network.Discriminator(n_features+1).to(device)\n",
    "\n",
    "criterion = torch.nn.BCELoss()\n",
    "gen_opt = torch.optim.Adam(gen3.parameters(), lr=0.01, betas=(0.5, 0.999))\n",
    "disc_opt = torch.optim.Adam(disc3.parameters(), lr=0.01, betas=(0.5, 0.999))\n"
   ]
  },
  {
   "cell_type": "code",
   "execution_count": 20,
   "id": "26acbc37",
   "metadata": {
    "execution": {
     "iopub.execute_input": "2022-07-25T01:58:08.921580Z",
     "iopub.status.busy": "2022-07-25T01:58:08.921191Z",
     "iopub.status.idle": "2022-07-25T02:05:46.180233Z",
     "shell.execute_reply": "2022-07-25T02:05:46.179134Z"
    },
    "id": "26acbc37",
    "papermill": {
     "duration": 457.287092,
     "end_time": "2022-07-25T02:05:46.183008",
     "exception": false,
     "start_time": "2022-07-25T01:58:08.895916",
     "status": "completed"
    },
    "tags": []
   },
   "outputs": [
    {
     "data": {
      "image/png": "[encoded data removed]",
      "text/plain": [
       "<Figure size 432x288 with 1 Axes>"
      ]
     },
     "metadata": {
      "needs_background": "light"
     },
     "output_type": "display_data"
    },
    {
     "data": {
      "image/png": "[encoded data removed]",
      "text/plain": [
       "<Figure size 432x288 with 1 Axes>"
      ]
     },
     "metadata": {
      "needs_background": "light"
     },
     "output_type": "display_data"
    }
   ],
   "source": [
    "ABC_train_test2.training_GAN_skip_connection(disc3,gen3,disc_opt,gen_opt,train_data,batch_size,n_epochs,criterion,prior_model,variance,bias,device)"
   ]
  },
  {
   "cell_type": "code",
   "execution_count": 21,
   "id": "c5e0717b",
   "metadata": {
    "execution": {
     "iopub.execute_input": "2022-07-25T02:05:46.232376Z",
     "iopub.status.busy": "2022-07-25T02:05:46.232042Z",
     "iopub.status.idle": "2022-07-25T02:05:48.152862Z",
     "shell.execute_reply": "2022-07-25T02:05:48.151384Z"
    },
    "id": "c5e0717b",
    "papermill": {
     "duration": 1.954526,
     "end_time": "2022-07-25T02:05:48.155487",
     "exception": false,
     "start_time": "2022-07-25T02:05:46.200961",
     "status": "completed"
    },
    "tags": []
   },
   "outputs": [
    {
     "data": {
      "application/scrapbook.scrap.json+json": {
       "data": 0.02811618567946089,
       "encoder": "json",
       "name": "ABC-GAN Model 3 MSE",
       "version": 1
      }
     },
     "metadata": {
      "scrapbook": {
       "data": true,
       "display": false,
       "name": "ABC-GAN Model 3 MSE"
      }
     },
     "output_type": "display_data"
    },
    {
     "data": {
      "application/scrapbook.scrap.json+json": {
       "data": 0.14207414391462678,
       "encoder": "json",
       "name": "ABC-GAN Model 3 MAE",
       "version": 1
      }
     },
     "metadata": {
      "scrapbook": {
       "data": true,
       "display": false,
       "name": "ABC-GAN Model 3 MAE"
      }
     },
     "output_type": "display_data"
    },
    {
     "data": {
      "application/scrapbook.scrap.json+json": {
       "data": 21.879418162852527,
       "encoder": "json",
       "name": "ABC-GAN Model 3 Manhattan Distance",
       "version": 1
      }
     },
     "metadata": {
      "scrapbook": {
       "data": true,
       "display": false,
       "name": "ABC-GAN Model 3 Manhattan Distance"
      }
     },
     "output_type": "display_data"
    },
    {
     "data": {
      "application/scrapbook.scrap.json+json": {
       "data": 2.080830682230709,
       "encoder": "json",
       "name": "ABC-GAN Model 3 Euclidean distance",
       "version": 1
      }
     },
     "metadata": {
      "scrapbook": {
       "data": true,
       "display": false,
       "name": "ABC-GAN Model 3 Euclidean distance"
      }
     },
     "output_type": "display_data"
    },
    {
     "data": {
      "application/scrapbook.scrap.json+json": {
       "data": [
        [
         0.027984987583144893,
         0.02798027182870142,
         0.028008985692320236,
         0.0280337434856909,
         0.02824322223435833,
         0.028146615323541024,
         0.028348617865901652,
         0.02788226176301513,
         0.02816831514220701,
         0.02802564141683169,
         0.02825022202455212,
         0.028031038709428798,
         0.028018956375217126,
         0.028325702254132768,
         0.027981288535198382,
         0.027952792503016712,
         0.02808322141828007,
         0.028281607872770877,
         0.027846253815351035,
         0.028159959080574386,
         0.028142906071821863,
         0.028302286358557107,
         0.028098100058329037,
         0.028037213231247776,
         0.02811587245753056,
         0.02835883182548928,
         0.02828184622726425,
         0.028148008058980496,
         0.02805699035138104,
         0.02806272989556818,
         0.028055612444831398,
         0.028232896837028343,
         0.028229979580101462,
         0.028272852728347144,
         0.028238639759039525,
         0.028274913886470084,
         0.02802404041708211,
         0.028135978985495875,
         0.02802509019756768,
         0.02814072898419917,
         0.02806303904078428,
         0.028206417628291233,
         0.027985712946705942,
         0.02817270753353527,
         0.02797512673758252,
         0.027996426542581856,
         0.028102218502514802,
         0.028125636937278358,
         0.02832153425245829,
         0.028344875872934945,
         0.027863170366696745,
         0.02777392590526215,
         0.02808455792729149,
         0.02802437763005071,
         0.028189787259499725,
         0.02817064075083131,
         0.02780946048544727,
         0.027756126249297998,
         0.028377150034412428,
         0.02832070183721474,
         0.02818929056950711,
         0.02800673337173421,
         0.027961379805097514,
         0.027679137914460063,
         0.028180395729166467,
         0.028513640852232274,
         0.028284602656298292,
         0.0281974879817685,
         0.028127277122137636,
         0.027913989872759844,
         0.028102247610437742,
         0.027948716738904412,
         0.02760127831700238,
         0.02808876368997813,
         0.02795328632463329,
         0.028275780395416412,
         0.028259039406681147,
         0.028317408738289127,
         0.02802251452027401,
         0.02819253826754312,
         0.02818300511967189,
         0.028230337551388845,
         0.028329188649707022,
         0.028009530628811733,
         0.027860146636324672,
         0.02826763495138576,
         0.02826965354778761,
         0.028363217229582297,
         0.028285876656177416,
         0.02809007466919398,
         0.02805215212495997,
         0.02826069037554085,
         0.028182905201158286,
         0.02813236094807863,
         0.028159032664940218,
         0.02808850157574916,
         0.02827160405849282,
         0.02799391897134376,
         0.027919456858990548,
         0.028200951921242844
        ],
        [
         0.14140968624647562,
         0.1415556241552551,
         0.14153604277155615,
         0.14217708424314277,
         0.14236091396638326,
         0.1423576447096738,
         0.14285136827013709,
         0.14133734943030715,
         0.1422104076905684,
         0.14200132398249268,
         0.14198121051122617,
         0.14206193522973495,
         0.1416274770707279,
         0.14267547186705973,
         0.14147859744050287,
         0.14182477018662862,
         0.1417421968532847,
         0.1420792169965707,
         0.14183360057604777,
         0.1422243748198856,
         0.14222218038199783,
         0.14227978730356539,
         0.14187043324693457,
         0.14170282285708885,
         0.14204638722268018,
         0.14299163086847824,
         0.14278483216638688,
         0.14215544727328536,
         0.14236107342816018,
         0.1417235844321065,
         0.1416868834526508,
         0.14237949368241545,
         0.14312088257306582,
         0.14214371454406094,
         0.14272521842609753,
         0.14263365891846744,
         0.14166413412078635,
         0.14211565836683496,
         0.1416294982100462,
         0.14207413666821145,
         0.1420847690337664,
         0.1418705571007419,
         0.14218983344443434,
         0.14210912759427902,
         0.14184291912363722,
         0.14155286008661444,
         0.1419181747289447,
         0.14265395110690748,
         0.1424463770606301,
         0.1427359939976172,
         0.14141410202174992,
         0.14098684876770168,
         0.14101772890849548,
         0.14206005168425573,
         0.14194064297072298,
         0.14218976696977367,
         0.14147554115428554,
         0.14113025763979206,
         0.14271820152734782,
         0.14314111409249244,
         0.14252554015679794,
         0.14169409145395478,
         0.14125578134477912,
         0.1411484968546149,
         0.1423033502001267,
         0.14251006520413734,
         0.1424218953236357,
         0.14189834002550547,
         0.14207783999381127,
         0.1418601887953746,
         0.14230490088849873,
         0.14195971103844704,
         0.14047114899406185,
         0.14227162311216454,
         0.14171786422466304,
         0.14238632780003857,
         0.14258948490991222,
         0.14251576383392534,
         0.14184141904115677,
         0.14214919459123115,
         0.14223134740219487,
         0.14262936573911023,
         0.14190741667112747,
         0.14174536702694832,
         0.14194481413472781,
         0.14244704838697012,
         0.14254843946788218,
         0.14299180919860865,
         0.1428236508524263,
         0.14215391584030992,
         0.14177081182405546,
         0.14262297401180515,
         0.14197882855093324,
         0.14229718024854537,
         0.14226493161994141,
         0.14217392577753438,
         0.14223822390104268,
         0.14162619682875546,
         0.1412641793102413,
         0.1427343627075096
        ],
        [
         21.777091681957245,
         21.799566119909286,
         21.79655058681965,
         21.895270973443985,
         21.92358075082302,
         21.923077285289764,
         21.999110713601112,
         21.765951812267303,
         21.900402784347534,
         21.86820389330387,
         21.86510641872883,
         21.87753802537918,
         21.810631468892097,
         21.9720226675272,
         21.78770400583744,
         21.841014608740807,
         21.828298315405846,
         21.880199417471886,
         21.842374488711357,
         21.902553722262383,
         21.902215778827667,
         21.91108724474907,
         21.848046720027924,
         21.822234719991684,
         21.875143632292747,
         22.02071115374565,
         21.98886415362358,
         21.891938880085945,
         21.92360530793667,
         21.825432002544403,
         21.81978005170822,
         21.92644202709198,
         22.040615916252136,
         21.890132039785385,
         21.97968363761902,
         21.965583473443985,
         21.816276654601097,
         21.885811388492584,
         21.810942724347115,
         21.879417046904564,
         21.881054431200027,
         21.84806579351425,
         21.897234350442886,
         21.884805649518967,
         21.84380954504013,
         21.799140453338623,
         21.855398908257484,
         21.968708470463753,
         21.936742067337036,
         21.98134307563305,
         21.777771711349487,
         21.71197471022606,
         21.716730251908302,
         21.87724795937538,
         21.85885901749134,
         21.897224113345146,
         21.78723333775997,
         21.734059676527977,
         21.978603035211563,
         22.043731570243835,
         21.94893318414688,
         21.820890083909035,
         21.753390327095985,
         21.736868515610695,
         21.91471593081951,
         21.94655004143715,
         21.932971879839897,
         21.85234436392784,
         21.879987359046936,
         21.846469074487686,
         21.914954736828804,
         21.861795499920845,
         21.632556945085526,
         21.90982995927334,
         21.824551090598106,
         21.92749448120594,
         21.95878067612648,
         21.9474276304245,
         21.843578532338142,
         21.8909759670496,
         21.90362749993801,
         21.964922323822975,
         21.85374216735363,
         21.82878652215004,
         21.859501376748085,
         21.9368454515934,
         21.952459678053856,
         22.02073861658573,
         21.99484223127365,
         21.89170303940773,
         21.83270502090454,
         21.963937997817993,
         21.86473959684372,
         21.913765758275986,
         21.908799469470978,
         21.894784569740295,
         21.904686480760574,
         21.81043431162834,
         21.75468361377716,
         21.981091856956482
        ],
        [
         2.075978826434488,
         2.075803907313988,
         2.0768687480477226,
         2.077786441575842,
         2.085534997090958,
         2.08196511974272,
         2.0894226837451666,
         2.0721651265052046,
         2.0827675174872207,
         2.0774861679905547,
         2.0857934202075303,
         2.0776862037497468,
         2.0772383786613027,
         2.0885780203613287,
         2.0758416207458,
         2.07478433709737,
         2.079619219572451,
         2.086951751336555,
         2.070826667677442,
         2.082458570634349,
         2.0818279311846517,
         2.087714563635986,
         2.0801700432855657,
         2.077915021749484,
         2.080827806056932,
         2.0897990575950955,
         2.08696054562579,
         2.082016628435757,
         2.078647760952461,
         2.0788603618130534,
         2.078596718101911,
         2.0851537384332994,
         2.0850460079661612,
         2.086628697244783,
         2.085365800739066,
         2.0867047559528857,
         2.077426827647762,
         2.081571705170486,
         2.0774657374853196,
         2.0817474062831622,
         2.0788718123734276,
         2.0841756919119967,
         2.0760057306743436,
         2.0829298980437225,
         2.075613046207724,
         2.076403064811263,
         2.080322486872475,
         2.081189104416239,
         2.088424352203971,
         2.0892847782032926,
         2.0714555839967455,
         2.06813553458432,
         2.0796687045784212,
         2.077439326437191,
         2.0835611913171537,
         2.0828534935583014,
         2.069458121044946,
         2.0674727186572235,
         2.0904738949098394,
         2.0883936609104783,
         2.0835428355817633,
         2.0767852414843158,
         2.075103007078207,
         2.064603409574548,
         2.0832140894040716,
         2.0954953331476953,
         2.0870622436980497,
         2.0838457594535034,
         2.0812497872214175,
         2.0733437824936356,
         2.0803235642580726,
         2.074633070639548,
         2.0616975677383835,
         2.0798244176508343,
         2.0748026638679464,
         2.086736730134908,
         2.0861189008848218,
         2.0882722393635667,
         2.0773702693843954,
         2.083662854974777,
         2.083310535765005,
         2.0850592276752913,
         2.088706550010049,
         2.076888951493798,
         2.071343183056347,
         2.0864361438858863,
         2.0865106389278947,
         2.0899606344033548,
         2.0871092460748963,
         2.079872952623759,
         2.0784685292887732,
         2.086179838324896,
         2.0833068427330566,
         2.0814378650356367,
         2.0824243156477005,
         2.0798147135418987,
         2.086582618783137,
         2.076310073564866,
         2.0735468059063784,
         2.0839737512433785
        ]
       ],
       "encoder": "json",
       "name": "ABC_GAN_3 Metrics",
       "version": 1
      }
     },
     "metadata": {
      "scrapbook": {
       "data": true,
       "display": false,
       "name": "ABC_GAN_3 Metrics"
      }
     },
     "output_type": "display_data"
    },
    {
     "name": "stdout",
     "output_type": "stream",
     "text": [
      "MAE\n",
      "0.14207414391462678\n"
     ]
    }
   ],
   "source": [
    "ABC_GAN3_metrics=ABC_train_test2.test_generator(gen3,test_data,prior_model,variance,bias,\"3\",device)\n",
    "sb.glue(\"ABC_GAN_3 Metrics\",ABC_GAN3_metrics)\n",
    "\n",
    "print(\"MAE\")\n",
    "print(mean(ABC_GAN3_metrics[1]))"
   ]
  },
  {
   "cell_type": "code",
   "execution_count": 22,
   "id": "c8e46b48",
   "metadata": {
    "execution": {
     "iopub.execute_input": "2022-07-25T02:05:48.197126Z",
     "iopub.status.busy": "2022-07-25T02:05:48.196737Z",
     "iopub.status.idle": "2022-07-25T02:05:49.186826Z",
     "shell.execute_reply": "2022-07-25T02:05:49.185702Z"
    },
    "id": "c8e46b48",
    "papermill": {
     "duration": 1.014838,
     "end_time": "2022-07-25T02:05:49.189971",
     "exception": false,
     "start_time": "2022-07-25T02:05:48.175133",
     "status": "completed"
    },
    "tags": []
   },
   "outputs": [
    {
     "data": {
      "image/png": "[encoded data removed]",
      "text/plain": [
       "<Figure size 432x288 with 1 Axes>"
      ]
     },
     "metadata": {
      "needs_background": "light"
     },
     "output_type": "display_data"
    },
    {
     "data": {
      "image/png": "[encoded data removed]",
      "text/plain": [
       "<Figure size 432x288 with 1 Axes>"
      ]
     },
     "metadata": {
      "needs_background": "light"
     },
     "output_type": "display_data"
    },
    {
     "data": {
      "image/png": "[encoded data removed]",
      "text/plain": [
       "<Figure size 432x288 with 1 Axes>"
      ]
     },
     "metadata": {
      "needs_background": "light"
     },
     "output_type": "display_data"
    },
    {
     "data": {
      "image/png": "[encoded data removed]",
      "text/plain": [
       "<Figure size 432x288 with 1 Axes>"
      ]
     },
     "metadata": {
      "needs_background": "light"
     },
     "output_type": "display_data"
    }
   ],
   "source": [
    "sanityChecks.discProbVsError(train_data,disc3,device)\n",
    "sanityChecks.discProbVsError(test_data,disc3,device)"
   ]
  },
  {
   "cell_type": "markdown",
   "id": "f085385e",
   "metadata": {
    "id": "130f3a4d",
    "papermill": {
     "duration": 0.022769,
     "end_time": "2022-07-25T02:05:49.232769",
     "exception": false,
     "start_time": "2022-07-25T02:05:49.210000",
     "status": "completed"
    },
    "tags": []
   },
   "source": [
    "# skipGAN Model with TabNet Generator"
   ]
  },
  {
   "cell_type": "code",
   "execution_count": 23,
   "id": "b81a8a5b",
   "metadata": {
    "execution": {
     "iopub.execute_input": "2022-07-25T02:05:49.275232Z",
     "iopub.status.busy": "2022-07-25T02:05:49.274854Z",
     "iopub.status.idle": "2022-07-25T02:05:49.292715Z",
     "shell.execute_reply": "2022-07-25T02:05:49.291845Z"
    },
    "id": "4e43dad1",
    "papermill": {
     "duration": 0.043718,
     "end_time": "2022-07-25T02:05:49.295619",
     "exception": false,
     "start_time": "2022-07-25T02:05:49.251901",
     "status": "completed"
    },
    "tags": []
   },
   "outputs": [],
   "source": [
    "#Generator\n",
    "gen4 = network.GeneratorTabnetskipConnection(n_features+1).to(device)\n",
    "constraints=network.weightConstraint()\n",
    "#Discriminator \n",
    "disc4 = network.Discriminator(n_features+1).to(device)\n",
    "\n",
    "criterion = torch.nn.BCELoss()\n",
    "gen_opt = torch.optim.Adam(gen4.parameters(), lr=0.01, betas=(0.5, 0.999))\n",
    "disc_opt = torch.optim.Adam(disc4.parameters(), lr=0.01, betas=(0.5, 0.999))\n"
   ]
  },
  {
   "cell_type": "code",
   "execution_count": 24,
   "id": "0c294294",
   "metadata": {
    "execution": {
     "iopub.execute_input": "2022-07-25T02:05:49.340548Z",
     "iopub.status.busy": "2022-07-25T02:05:49.339559Z",
     "iopub.status.idle": "2022-07-25T02:27:49.972416Z",
     "shell.execute_reply": "2022-07-25T02:27:49.969026Z"
    },
    "id": "26acbc37",
    "papermill": {
     "duration": 1320.664096,
     "end_time": "2022-07-25T02:27:49.979055",
     "exception": false,
     "start_time": "2022-07-25T02:05:49.314959",
     "status": "completed"
    },
    "tags": []
   },
   "outputs": [
    {
     "data": {
      "image/png": "[encoded data removed]",
      "text/plain": [
       "<Figure size 432x288 with 1 Axes>"
      ]
     },
     "metadata": {
      "needs_background": "light"
     },
     "output_type": "display_data"
    },
    {
     "data": {
      "image/png": "[encoded data removed]",
      "text/plain": [
       "<Figure size 432x288 with 1 Axes>"
      ]
     },
     "metadata": {
      "needs_background": "light"
     },
     "output_type": "display_data"
    }
   ],
   "source": [
    "ABC_train_test2.training_GAN_skip_connection(disc4,gen4,disc_opt,gen_opt,train_data,batch_size,n_epochs,criterion,prior_model,variance,bias,device)"
   ]
  },
  {
   "cell_type": "code",
   "execution_count": 25,
   "id": "ef71e48b",
   "metadata": {
    "execution": {
     "iopub.execute_input": "2022-07-25T02:27:50.058531Z",
     "iopub.status.busy": "2022-07-25T02:27:50.057899Z",
     "iopub.status.idle": "2022-07-25T02:27:53.992499Z",
     "shell.execute_reply": "2022-07-25T02:27:53.991431Z"
    },
    "id": "c5e0717b",
    "papermill": {
     "duration": 3.981169,
     "end_time": "2022-07-25T02:27:53.995383",
     "exception": false,
     "start_time": "2022-07-25T02:27:50.014214",
     "status": "completed"
    },
    "tags": []
   },
   "outputs": [
    {
     "data": {
      "application/scrapbook.scrap.json+json": {
       "data": 0.004314840524021005,
       "encoder": "json",
       "name": "ABC-GAN Model 3 MSE",
       "version": 1
      }
     },
     "metadata": {
      "scrapbook": {
       "data": true,
       "display": false,
       "name": "ABC-GAN Model 3 MSE"
      }
     },
     "output_type": "display_data"
    },
    {
     "data": {
      "application/scrapbook.scrap.json+json": {
       "data": 0.05220343709185526,
       "encoder": "json",
       "name": "ABC-GAN Model 3 MAE",
       "version": 1
      }
     },
     "metadata": {
      "scrapbook": {
       "data": true,
       "display": false,
       "name": "ABC-GAN Model 3 MAE"
      }
     },
     "output_type": "display_data"
    },
    {
     "data": {
      "application/scrapbook.scrap.json+json": {
       "data": 8.03932931214571,
       "encoder": "json",
       "name": "ABC-GAN Model 3 Manhattan Distance",
       "version": 1
      }
     },
     "metadata": {
      "scrapbook": {
       "data": true,
       "display": false,
       "name": "ABC-GAN Model 3 Manhattan Distance"
      }
     },
     "output_type": "display_data"
    },
    {
     "data": {
      "application/scrapbook.scrap.json+json": {
       "data": 0.8151132510223096,
       "encoder": "json",
       "name": "ABC-GAN Model 3 Euclidean distance",
       "version": 1
      }
     },
     "metadata": {
      "scrapbook": {
       "data": true,
       "display": false,
       "name": "ABC-GAN Model 3 Euclidean distance"
      }
     },
     "output_type": "display_data"
    },
    {
     "data": {
      "application/scrapbook.scrap.json+json": {
       "data": [
        [
         0.004352564129180533,
         0.00434574533570621,
         0.004344072858617718,
         0.004382667858986139,
         0.004439693654518449,
         0.004380602957864539,
         0.004286667894233842,
         0.0043935578788453725,
         0.004339961628522131,
         0.0042815708995691945,
         0.004281106084956744,
         0.00420336534284984,
         0.0043171436167396575,
         0.004242264354214719,
         0.004263408152007157,
         0.004263057431812141,
         0.0044146508813009905,
         0.004379962032913707,
         0.004239796961689525,
         0.004339625197400185,
         0.00442509660003462,
         0.004485798903754585,
         0.004284667000853075,
         0.004437647390222848,
         0.0043296958246875844,
         0.004353585834694527,
         0.004282414549263195,
         0.004312330930008281,
         0.004314147288916968,
         0.004233896049137881,
         0.004087859199496065,
         0.004131579700416983,
         0.004449670977111826,
         0.00432940067066726,
         0.004223673743779735,
         0.00443111362002689,
         0.0043036706441843715,
         0.004283310593388148,
         0.004355116348386616,
         0.004454178471243739,
         0.004231386218999357,
         0.004260750527127961,
         0.00448584414456694,
         0.004488953622600486,
         0.004276490429417422,
         0.004329342745177084,
         0.004239251455394521,
         0.004191432970008496,
         0.004388951494702677,
         0.004256885229003168,
         0.004401629915595876,
         0.0043037289067628616,
         0.004378407386941795,
         0.004251405163895478,
         0.00429451472915922,
         0.004230225461258804,
         0.004269821186275683,
         0.004282010009707574,
         0.004295025174319381,
         0.004440837200014453,
         0.004453831202694313,
         0.004372974042433472,
         0.004275517266234956,
         0.004395704951186492,
         0.004172113170629527,
         0.0043782747408560784,
         0.00419193879730349,
         0.0042146244800421884,
         0.0041975837560861255,
         0.00433775954879658,
         0.004551741037678854,
         0.004319607772240961,
         0.004308080292181511,
         0.004239330997818291,
         0.004377192160522568,
         0.004404958851095486,
         0.004119945756770305,
         0.004361750373300792,
         0.004165829319731979,
         0.0043240326470535976,
         0.004311777049537719,
         0.004265019494148853,
         0.0044546806677775224,
         0.004353725857788506,
         0.00427316720904451,
         0.004286897219369381,
         0.0041290270703131715,
         0.004308107214718248,
         0.004425053659838719,
         0.004241561269890123,
         0.004180923883255856,
         0.004193918213835916,
         0.004161049800532348,
         0.004298462567892687,
         0.004332308570596295,
         0.0044053695692950175,
         0.004299083779231202,
         0.004492343948517388,
         0.004355047851033879,
         0.004256502877692319
        ],
        [
         0.0518420764378139,
         0.052649861806398864,
         0.05214352151016136,
         0.0524576548245046,
         0.052213286618133646,
         0.052648932128757625,
         0.05252207660829866,
         0.05311731413587347,
         0.05246207369612409,
         0.051885524933988396,
         0.051944186741655525,
         0.0518657121952478,
         0.05196865367424953,
         0.05152335008243462,
         0.05158948724146013,
         0.05271480358266211,
         0.05297469009052624,
         0.05258828111283191,
         0.051739125476255046,
         0.05190854703451132,
         0.0533939315514131,
         0.053258063150690746,
         0.05265195300052693,
         0.05253962553166724,
         0.05254663120616566,
         0.052815237989673365,
         0.05160622840577906,
         0.05193393474275416,
         0.05232350044436269,
         0.051869171973946804,
         0.050855254778614294,
         0.0509879370401432,
         0.05337148362940008,
         0.0520711506341959,
         0.05192945897579193,
         0.05263172709322595,
         0.0517983003096147,
         0.05224732764355548,
         0.052121822516639514,
         0.053615240888162094,
         0.051999874509774245,
         0.052459215769520055,
         0.053539242643814586,
         0.0528040448953579,
         0.05220063224241331,
         0.05178120287207814,
         0.052108988552898555,
         0.05168476487909045,
         0.05250328411529591,
         0.051928368288201174,
         0.052959670494129134,
         0.05211128913736963,
         0.052644962807754415,
         0.05083310797617033,
         0.051290461962873284,
         0.05149390209804882,
         0.051567554086833806,
         0.05193944972056847,
         0.0520127270515863,
         0.053246175313924816,
         0.05259568350655692,
         0.05244810027735574,
         0.052075285996709554,
         0.0529165535004108,
         0.051349334322012864,
         0.052583545059352726,
         0.0514616941089754,
         0.05171756465713699,
         0.051293866974966865,
         0.05199454879605925,
         0.05332061203269215,
         0.05237037195013715,
         0.05284565513010149,
         0.05184896696697582,
         0.05344660289875873,
         0.05192969720084946,
         0.05076519970770006,
         0.05260003696788441,
         0.05116848241199146,
         0.05238302593881434,
         0.05233353860192485,
         0.05215473840763042,
         0.05242893719053888,
         0.05185335139175514,
         0.052558962787900655,
         0.05232254773765415,
         0.05095673033169338,
         0.0517658173263847,
         0.053116973731424905,
         0.05179874695740737,
         0.051631827246059074,
         0.05172950493824947,
         0.05157971014450123,
         0.05159328355417623,
         0.052555914823111,
         0.052716461288464536,
         0.05204879211915004,
         0.05356578432120286,
         0.05211827023462816,
         0.05196292679031174
        ],
        [
         7.98367977142334,
         8.108078718185425,
         8.03010231256485,
         8.078478842973709,
         8.040846139192581,
         8.107935547828674,
         8.088399797677994,
         8.180066376924515,
         8.07915934920311,
         7.990370839834213,
         7.999404758214951,
         7.987319678068161,
         8.003172665834427,
         7.934595912694931,
         7.94478103518486,
         8.118079751729965,
         8.15810227394104,
         8.098595291376114,
         7.967825323343277,
         7.993916243314743,
         8.222665458917618,
         8.201741725206375,
         8.108400762081146,
         8.091102331876755,
         8.092181205749512,
         8.133546650409698,
         7.947359174489975,
         7.99782595038414,
         8.057819068431854,
         7.987852483987808,
         7.831709235906601,
         7.852142304182053,
         8.219208478927612,
         8.018957197666168,
         7.997136682271957,
         8.105285972356796,
         7.976938247680664,
         8.046088457107544,
         8.026760667562485,
         8.256747096776962,
         8.007980674505234,
         8.078719228506088,
         8.245043367147446,
         8.131822913885117,
         8.03889736533165,
         7.974305242300034,
         8.024784237146378,
         7.959453791379929,
         8.08550575375557,
         7.99696871638298,
         8.155789256095886,
         8.025138527154922,
         8.10732427239418,
         7.828298628330231,
         7.898731142282486,
         7.930060923099518,
         7.941403329372406,
         7.9986752569675446,
         8.00995996594429,
         8.199910998344421,
         8.099735260009766,
         8.077007442712784,
         8.01959404349327,
         8.149149239063263,
         7.907797485589981,
         8.09786593914032,
         7.925100892782211,
         7.964504957199097,
         7.8992555141448975,
         8.007160514593124,
         8.211374253034592,
         8.065037280321121,
         8.13823089003563,
         7.984740912914276,
         8.230776846408844,
         7.997173368930817,
         7.817840754985809,
         8.1004056930542,
         7.879946291446686,
         8.066985994577408,
         8.059364944696426,
         8.031829714775085,
         8.074056327342987,
         7.985416114330292,
         8.0940802693367,
         8.05767235159874,
         7.84733647108078,
         7.971935868263245,
         8.180013954639435,
         7.977007031440735,
         7.951301395893097,
         7.9663437604904175,
         7.943275362253189,
         7.94536566734314,
         8.093610882759094,
         8.118335038423538,
         8.015513986349106,
         8.24913078546524,
         8.026213616132736,
         8.002290725708008
        ],
        [
         0.8187153814933503,
         0.818073824112932,
         0.8179163895088107,
         0.8215417520028214,
         0.8268692900306802,
         0.8213481938320307,
         0.8124942188791324,
         0.8225617991021631,
         0.8175292598998571,
         0.8120110335048754,
         0.8119669556597353,
         0.8045609130444229,
         0.8153772850514707,
         0.80827514532433,
         0.8102868969748321,
         0.810253568026127,
         0.8245339506171668,
         0.8212881060070887,
         0.8080400559998167,
         0.8174975721062593,
         0.8255088590713799,
         0.8311516294745539,
         0.8123045722703853,
         0.8266787151574175,
         0.8165617900697338,
         0.8188114670319152,
         0.8120910297414521,
         0.8149226731544995,
         0.8150942782851645,
         0.807477548645926,
         0.7934294654992301,
         0.7976611272114339,
         0.8277978802070112,
         0.8165339572135124,
         0.8065021739227236,
         0.8260699107727754,
         0.8141039732149654,
         0.8121759854746844,
         0.8189553819662819,
         0.8282170516063623,
         0.8072381790561575,
         0.8100343086423599,
         0.8311558206878592,
         0.8314438392822903,
         0.811529128331376,
         0.8165284947613713,
         0.8079880717750456,
         0.8034181211432242,
         0.8221304824565333,
         0.8096667989157564,
         0.823317075616536,
         0.814109483817429,
         0.8211423369849082,
         0.8091454722359284,
         0.8132375226774278,
         0.8071274503037645,
         0.8108960862443815,
         0.812052671626026,
         0.8132858518658643,
         0.8269757728024599,
         0.8281847651429747,
         0.8206326842959367,
         0.811436786817176,
         0.8227627619689164,
         0.8015643631530454,
         0.8211298984276703,
         0.8034665984250605,
         0.8056377411259338,
         0.8040073994916113,
         0.8173218279935226,
         0.8372383888729323,
         0.8156099539149262,
         0.814520942024177,
         0.8079956520081137,
         0.8210283751006876,
         0.8236283525162942,
         0.7965372850925605,
         0.8195788903383994,
         0.8009604954295341,
         0.8160275900030918,
         0.8148703366970776,
         0.8104400052434007,
         0.8282637399027791,
         0.8188246345215989,
         0.8112137512350579,
         0.8125159517098016,
         0.7974146780867709,
         0.8145234871178425,
         0.8255048537804988,
         0.8082081635093021,
         0.8024102928187062,
         0.8036562728746233,
         0.8005008864966868,
         0.813611231151263,
         0.8168081291661031,
         0.8236667491597756,
         0.8136700203409273,
         0.831757758047184,
         0.8189489416680489,
         0.8096304361649315
        ]
       ],
       "encoder": "json",
       "name": "ABC_GAN_4 Metrics",
       "version": 1
      }
     },
     "metadata": {
      "scrapbook": {
       "data": true,
       "display": false,
       "name": "ABC_GAN_4 Metrics"
      }
     },
     "output_type": "display_data"
    },
    {
     "name": "stdout",
     "output_type": "stream",
     "text": [
      "MAE\n",
      "0.05220343709185526\n"
     ]
    }
   ],
   "source": [
    "ABC_GAN4_metrics=ABC_train_test2.test_generator(gen4,test_data,prior_model,variance,bias,\"3\",device)\n",
    "sb.glue(\"ABC_GAN_4 Metrics\",ABC_GAN4_metrics)\n",
    "\n",
    "print(\"MAE\")\n",
    "print(mean(ABC_GAN4_metrics[1]))"
   ]
  },
  {
   "cell_type": "code",
   "execution_count": 26,
   "id": "7d9c8639",
   "metadata": {
    "execution": {
     "iopub.execute_input": "2022-07-25T02:27:54.046149Z",
     "iopub.status.busy": "2022-07-25T02:27:54.045710Z",
     "iopub.status.idle": "2022-07-25T02:27:54.968651Z",
     "shell.execute_reply": "2022-07-25T02:27:54.967169Z"
    },
    "id": "c8e46b48",
    "papermill": {
     "duration": 0.950509,
     "end_time": "2022-07-25T02:27:54.971179",
     "exception": false,
     "start_time": "2022-07-25T02:27:54.020670",
     "status": "completed"
    },
    "tags": []
   },
   "outputs": [
    {
     "data": {
      "image/png": "[encoded data removed]",
      "text/plain": [
       "<Figure size 432x288 with 1 Axes>"
      ]
     },
     "metadata": {
      "needs_background": "light"
     },
     "output_type": "display_data"
    },
    {
     "data": {
      "image/png": "[encoded data removed]",
      "text/plain": [
       "<Figure size 432x288 with 1 Axes>"
      ]
     },
     "metadata": {
      "needs_background": "light"
     },
     "output_type": "display_data"
    },
    {
     "data": {
      "image/png": "[encoded data removed]",
      "text/plain": [
       "<Figure size 432x288 with 1 Axes>"
      ]
     },
     "metadata": {
      "needs_background": "light"
     },
     "output_type": "display_data"
    },
    {
     "data": {
      "image/png": "[encoded data removed]",
      "text/plain": [
       "<Figure size 432x288 with 1 Axes>"
      ]
     },
     "metadata": {
      "needs_background": "light"
     },
     "output_type": "display_data"
    }
   ],
   "source": [
    "sanityChecks.discProbVsError(train_data,disc4,device)\n",
    "sanityChecks.discProbVsError(test_data,disc4,device)"
   ]
  },
  {
   "cell_type": "markdown",
   "id": "a5bd74c3",
   "metadata": {
    "id": "a5bd74c3",
    "papermill": {
     "duration": 0.02523,
     "end_time": "2022-07-25T02:27:55.021825",
     "exception": false,
     "start_time": "2022-07-25T02:27:54.996595",
     "status": "completed"
    },
    "tags": []
   },
   "source": [
    "## Skip Connection Model Analysis - ABC-GAN "
   ]
  },
  {
   "cell_type": "markdown",
   "id": "5744a8bf",
   "metadata": {
    "id": "5744a8bf",
    "papermill": {
     "duration": 0.025631,
     "end_time": "2022-07-25T02:27:55.074395",
     "exception": false,
     "start_time": "2022-07-25T02:27:55.048764",
     "status": "completed"
    },
    "tags": []
   },
   "source": [
    "### Weight Analysis \n",
    "\n",
    "Study the weights of the skip connection layer\n",
    "\n",
    "Equation of the skip connection is \n",
    "\n",
    "$output = y_{gan} * w + y_{abc} * (1-w)$"
   ]
  },
  {
   "cell_type": "code",
   "execution_count": 27,
   "id": "52c31dea",
   "metadata": {
    "execution": {
     "iopub.execute_input": "2022-07-25T02:27:55.130336Z",
     "iopub.status.busy": "2022-07-25T02:27:55.130013Z",
     "iopub.status.idle": "2022-07-25T02:27:55.152556Z",
     "shell.execute_reply": "2022-07-25T02:27:55.151331Z"
    },
    "id": "52c31dea",
    "papermill": {
     "duration": 0.055026,
     "end_time": "2022-07-25T02:27:55.155544",
     "exception": false,
     "start_time": "2022-07-25T02:27:55.100518",
     "status": "completed"
    },
    "tags": []
   },
   "outputs": [
    {
     "name": "stdout",
     "output_type": "stream",
     "text": [
      "Weight of the node at skip connection\n",
      "Parameter containing:\n",
      "tensor([[0.4108]], requires_grad=True)\n"
     ]
    },
    {
     "data": {
      "application/scrapbook.scrap.json+json": {
       "data": 0.41084855794906616,
       "encoder": "json",
       "name": "Skip Connection Weight",
       "version": 1
      }
     },
     "metadata": {
      "scrapbook": {
       "data": true,
       "display": false,
       "name": "Skip Connection Weight"
      }
     },
     "output_type": "display_data"
    }
   ],
   "source": [
    "print(\"Weight of the node at skip connection\")\n",
    "for name,param in gen3.named_parameters():\n",
    "    if(name == \"skipNode.weight\"):\n",
    "        print(param)\n",
    "        sb.glue(\"Skip Connection Weight\",param.item())"
   ]
  },
  {
   "cell_type": "markdown",
   "id": "e900fdb9",
   "metadata": {
    "id": "a5bd74c3",
    "papermill": {
     "duration": 0.02893,
     "end_time": "2022-07-25T02:27:55.209020",
     "exception": false,
     "start_time": "2022-07-25T02:27:55.180090",
     "status": "completed"
    },
    "tags": []
   },
   "source": [
    "## skipGAN Model Analysis (TabNet Generator) "
   ]
  },
  {
   "cell_type": "markdown",
   "id": "0b2ffae4",
   "metadata": {
    "id": "5744a8bf",
    "papermill": {
     "duration": 0.025135,
     "end_time": "2022-07-25T02:27:55.261811",
     "exception": false,
     "start_time": "2022-07-25T02:27:55.236676",
     "status": "completed"
    },
    "tags": []
   },
   "source": [
    "### Weight Analysis \n",
    "\n",
    "Study the weights of the skip connection layer\n",
    "\n",
    "Equation of the skip connection is \n",
    "\n",
    "$output = y_{gan} * w + y_{abc} * (1-w)$"
   ]
  },
  {
   "cell_type": "code",
   "execution_count": 28,
   "id": "36e21382",
   "metadata": {
    "execution": {
     "iopub.execute_input": "2022-07-25T02:27:55.321254Z",
     "iopub.status.busy": "2022-07-25T02:27:55.320854Z",
     "iopub.status.idle": "2022-07-25T02:27:55.335389Z",
     "shell.execute_reply": "2022-07-25T02:27:55.334285Z"
    },
    "id": "52c31dea",
    "papermill": {
     "duration": 0.048376,
     "end_time": "2022-07-25T02:27:55.338628",
     "exception": false,
     "start_time": "2022-07-25T02:27:55.290252",
     "status": "completed"
    },
    "tags": []
   },
   "outputs": [
    {
     "name": "stdout",
     "output_type": "stream",
     "text": [
      "Weight of the node at skip connection\n",
      "Parameter containing:\n",
      "tensor([[0.2533]], requires_grad=True)\n"
     ]
    },
    {
     "data": {
      "application/scrapbook.scrap.json+json": {
       "data": 0.2533310651779175,
       "encoder": "json",
       "name": "Skip Connection Weight",
       "version": 1
      }
     },
     "metadata": {
      "scrapbook": {
       "data": true,
       "display": false,
       "name": "Skip Connection Weight"
      }
     },
     "output_type": "display_data"
    }
   ],
   "source": [
    "print(\"Weight of the node at skip connection\")\n",
    "for name,param in gen4.named_parameters():\n",
    "    if(name == \"skipNode.weight\"):\n",
    "        print(param)\n",
    "        sb.glue(\"Skip Connection Weight\",param.item())"
   ]
  }
 ],
 "metadata": {
  "colab": {
   "collapsed_sections": [],
   "name": "ABC_GAN_Model-Catboost_Pre-gen.ipynb",
   "provenance": []
  },
  "interpreter": {
   "hash": "31f2aee4e71d21fbe5cf8b01ff0e069b9275f58929596ceb00d14d90e3e16cd6"
  },
  "kernelspec": {
   "display_name": "Python 3 (ipykernel)",
   "language": "python",
   "name": "python3"
  },
  "language_info": {
   "codemirror_mode": {
    "name": "ipython",
    "version": 3
   },
   "file_extension": ".py",
   "mimetype": "text/x-python",
   "name": "python",
   "nbconvert_exporter": "python",
   "pygments_lexer": "ipython3",
   "version": "3.8.13"
  },
  "papermill": {
   "default_parameters": {},
   "duration": 2797.812314,
   "end_time": "2022-07-25T02:27:56.600787",
   "environment_variables": {},
   "exception": null,
   "input_path": "ABC_GAN-Catboost.ipynb",
   "output_path": "./ABC_GAN_Catboost/ABC-GAN_output_2_2.ipynb",
   "parameters": {
    "bias": 1,
    "variance": 0.01
   },
   "start_time": "2022-07-25T01:41:18.788473",
   "version": "2.3.3"
  }
 },
 "nbformat": 4,
 "nbformat_minor": 5
}