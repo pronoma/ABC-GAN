{
 "cells": [
  {
   "cell_type": "markdown",
   "id": "622780e6",
   "metadata": {
    "id": "622780e6",
    "papermill": {
     "duration": 0.016134,
     "end_time": "2022-07-25T04:01:44.754157",
     "exception": false,
     "start_time": "2022-07-25T04:01:44.738023",
     "status": "completed"
    },
    "tags": []
   },
   "source": [
    "## Import Libraries "
   ]
  },
  {
   "cell_type": "code",
   "execution_count": 1,
   "id": "a62397e3",
   "metadata": {
    "execution": {
     "iopub.execute_input": "2022-07-25T04:01:44.779098Z",
     "iopub.status.busy": "2022-07-25T04:01:44.778303Z",
     "iopub.status.idle": "2022-07-25T04:01:44.803452Z",
     "shell.execute_reply": "2022-07-25T04:01:44.796531Z"
    },
    "id": "a62397e3",
    "papermill": {
     "duration": 0.055473,
     "end_time": "2022-07-25T04:01:44.818964",
     "exception": false,
     "start_time": "2022-07-25T04:01:44.763491",
     "status": "completed"
    },
    "tags": []
   },
   "outputs": [],
   "source": [
    "import warnings\n",
    "import sys\n",
    "sys.path.insert(0, '../../src')\n",
    "warnings.filterwarnings('ignore')"
   ]
  },
  {
   "cell_type": "code",
   "execution_count": 2,
   "id": "d6a4e155",
   "metadata": {
    "execution": {
     "iopub.execute_input": "2022-07-25T04:01:44.860068Z",
     "iopub.status.busy": "2022-07-25T04:01:44.858426Z",
     "iopub.status.idle": "2022-07-25T04:01:51.395854Z",
     "shell.execute_reply": "2022-07-25T04:01:51.394934Z"
    },
    "id": "d6a4e155",
    "papermill": {
     "duration": 6.566973,
     "end_time": "2022-07-25T04:01:51.399462",
     "exception": false,
     "start_time": "2022-07-25T04:01:44.832489",
     "status": "completed"
    },
    "tags": []
   },
   "outputs": [],
   "source": [
    "import ABC_train_test2\n",
    "import energyefficiencyDataset\n",
    "import network\n",
    "import dataset\n",
    "import sanityChecks\n",
    "import torch \n",
    "import scrapbook as sb\n",
    "from statistics import mean \n",
    "import catboost as ctb \n",
    "from sklearn.model_selection import train_test_split\n",
    "from sklearn.metrics import mean_squared_error,mean_absolute_error\n",
    "import numpy as np"
   ]
  },
  {
   "cell_type": "markdown",
   "id": "2fa5b0f7",
   "metadata": {
    "id": "2fa5b0f7",
    "papermill": {
     "duration": 0.007253,
     "end_time": "2022-07-25T04:01:51.414343",
     "exception": false,
     "start_time": "2022-07-25T04:01:51.407090",
     "status": "completed"
    },
    "tags": []
   },
   "source": [
    "## Parameters "
   ]
  },
  {
   "cell_type": "code",
   "execution_count": 3,
   "id": "783186fb",
   "metadata": {
    "execution": {
     "iopub.execute_input": "2022-07-25T04:01:51.431969Z",
     "iopub.status.busy": "2022-07-25T04:01:51.430979Z",
     "iopub.status.idle": "2022-07-25T04:01:51.436596Z",
     "shell.execute_reply": "2022-07-25T04:01:51.435595Z"
    },
    "id": "783186fb",
    "papermill": {
     "duration": 0.016889,
     "end_time": "2022-07-25T04:01:51.439002",
     "exception": false,
     "start_time": "2022-07-25T04:01:51.422113",
     "status": "completed"
    },
    "tags": [
     "parameters"
    ]
   },
   "outputs": [],
   "source": [
    "variance = 1\n",
    "bias = 1 "
   ]
  },
  {
   "cell_type": "code",
   "execution_count": 4,
   "id": "cc8bed32",
   "metadata": {
    "execution": {
     "iopub.execute_input": "2022-07-25T04:01:51.457571Z",
     "iopub.status.busy": "2022-07-25T04:01:51.457217Z",
     "iopub.status.idle": "2022-07-25T04:01:51.462192Z",
     "shell.execute_reply": "2022-07-25T04:01:51.461270Z"
    },
    "papermill": {
     "duration": 0.019237,
     "end_time": "2022-07-25T04:01:51.467391",
     "exception": false,
     "start_time": "2022-07-25T04:01:51.448154",
     "status": "completed"
    },
    "tags": [
     "injected-parameters"
    ]
   },
   "outputs": [],
   "source": [
    "# Parameters\n",
    "variance = 0.01\n",
    "bias = 0.1\n"
   ]
  },
  {
   "cell_type": "markdown",
   "id": "391cdbfd",
   "metadata": {
    "id": "391cdbfd",
    "papermill": {
     "duration": 0.006957,
     "end_time": "2022-07-25T04:01:51.481699",
     "exception": false,
     "start_time": "2022-07-25T04:01:51.474742",
     "status": "completed"
    },
    "tags": []
   },
   "source": [
    "## Dataset \n"
   ]
  },
  {
   "cell_type": "code",
   "execution_count": 5,
   "id": "5b51f161",
   "metadata": {
    "execution": {
     "iopub.execute_input": "2022-07-25T04:01:51.499758Z",
     "iopub.status.busy": "2022-07-25T04:01:51.499035Z",
     "iopub.status.idle": "2022-07-25T04:01:51.504178Z",
     "shell.execute_reply": "2022-07-25T04:01:51.503199Z"
    },
    "id": "5b51f161",
    "papermill": {
     "duration": 0.018268,
     "end_time": "2022-07-25T04:01:51.507585",
     "exception": false,
     "start_time": "2022-07-25T04:01:51.489317",
     "status": "completed"
    },
    "tags": []
   },
   "outputs": [],
   "source": [
    "#Parameters \n",
    "n_features = 8\n",
    "n_samples= 768\n",
    "n_target = 1 "
   ]
  },
  {
   "cell_type": "code",
   "execution_count": 6,
   "id": "5d6eced4",
   "metadata": {
    "execution": {
     "iopub.execute_input": "2022-07-25T04:01:51.527766Z",
     "iopub.status.busy": "2022-07-25T04:01:51.527239Z",
     "iopub.status.idle": "2022-07-25T04:01:52.249206Z",
     "shell.execute_reply": "2022-07-25T04:01:52.247940Z"
    },
    "id": "5d6eced4",
    "papermill": {
     "duration": 0.735426,
     "end_time": "2022-07-25T04:01:52.251714",
     "exception": false,
     "start_time": "2022-07-25T04:01:51.516288",
     "status": "completed"
    },
    "tags": []
   },
   "outputs": [
    {
     "name": "stdout",
     "output_type": "stream",
     "text": [
      "     X1     X2     X3      X4   X5  X6   X7  X8     Y1     Y2\n",
      "0  0.98  514.5  294.0  110.25  7.0   2  0.0   0  15.55  21.33\n",
      "1  0.98  514.5  294.0  110.25  7.0   3  0.0   0  15.55  21.33\n",
      "2  0.98  514.5  294.0  110.25  7.0   4  0.0   0  15.55  21.33\n",
      "3  0.98  514.5  294.0  110.25  7.0   5  0.0   0  15.55  21.33\n",
      "4  0.90  563.5  318.5  122.50  7.0   2  0.0   0  20.84  28.28\n"
     ]
    }
   ],
   "source": [
    "X,Y = energyefficiencyDataset.energy_data()"
   ]
  },
  {
   "cell_type": "code",
   "execution_count": 7,
   "id": "fe007438",
   "metadata": {
    "execution": {
     "iopub.execute_input": "2022-07-25T04:01:52.271392Z",
     "iopub.status.busy": "2022-07-25T04:01:52.270961Z",
     "iopub.status.idle": "2022-07-25T04:01:52.280869Z",
     "shell.execute_reply": "2022-07-25T04:01:52.279909Z"
    },
    "id": "fe007438",
    "papermill": {
     "duration": 0.02438,
     "end_time": "2022-07-25T04:01:52.283509",
     "exception": false,
     "start_time": "2022-07-25T04:01:52.259129",
     "status": "completed"
    },
    "tags": []
   },
   "outputs": [],
   "source": [
    "#Train test split for dataset \n",
    "X_train,X_test,Y_train,Y_test = train_test_split(X,Y,test_size = 0.2)\n",
    "train_data = dataset.CustomDataset(X_train,Y_train)\n",
    "test_data = dataset.CustomDataset(X_test,Y_test)\n"
   ]
  },
  {
   "cell_type": "markdown",
   "id": "a9a1af34",
   "metadata": {
    "id": "a9a1af34",
    "papermill": {
     "duration": 0.007693,
     "end_time": "2022-07-25T04:01:52.298702",
     "exception": false,
     "start_time": "2022-07-25T04:01:52.291009",
     "status": "completed"
    },
    "tags": []
   },
   "source": [
    "## Training Parameters "
   ]
  },
  {
   "cell_type": "code",
   "execution_count": 8,
   "id": "952b7fc8",
   "metadata": {
    "execution": {
     "iopub.execute_input": "2022-07-25T04:01:52.323038Z",
     "iopub.status.busy": "2022-07-25T04:01:52.322500Z",
     "iopub.status.idle": "2022-07-25T04:01:52.328698Z",
     "shell.execute_reply": "2022-07-25T04:01:52.327173Z"
    },
    "id": "952b7fc8",
    "papermill": {
     "duration": 0.022586,
     "end_time": "2022-07-25T04:01:52.331502",
     "exception": false,
     "start_time": "2022-07-25T04:01:52.308916",
     "status": "completed"
    },
    "tags": []
   },
   "outputs": [],
   "source": [
    "batch_size = 32\n",
    "n_epochs = 1000\n",
    "#Select the device \n",
    "device = torch.device('cuda' if torch.cuda.is_available() else 'cpu')"
   ]
  },
  {
   "cell_type": "markdown",
   "id": "a95e1600",
   "metadata": {
    "id": "a95e1600",
    "papermill": {
     "duration": 0.00991,
     "end_time": "2022-07-25T04:01:52.349020",
     "exception": false,
     "start_time": "2022-07-25T04:01:52.339110",
     "status": "completed"
    },
    "tags": []
   },
   "source": [
    "# ABC Pre-generator Model \n",
    "\n",
    "1. The catboost model is used as a pre-generator model for the ABC-GAN. \n",
    "2. The model is first trained on the entire dataset \n",
    "3. It generats X,Y pairs and we add some Gaussian noise with mean 0 and variance 1 to it which is then feed as input to the generator.\n"
   ]
  },
  {
   "cell_type": "code",
   "execution_count": 9,
   "id": "ff8ce7bd",
   "metadata": {
    "execution": {
     "iopub.execute_input": "2022-07-25T04:01:52.371242Z",
     "iopub.status.busy": "2022-07-25T04:01:52.370455Z",
     "iopub.status.idle": "2022-07-25T04:01:53.926363Z",
     "shell.execute_reply": "2022-07-25T04:01:53.924255Z"
    },
    "id": "ff8ce7bd",
    "papermill": {
     "duration": 1.572533,
     "end_time": "2022-07-25T04:01:53.930670",
     "exception": false,
     "start_time": "2022-07-25T04:01:52.358137",
     "status": "completed"
    },
    "tags": []
   },
   "outputs": [
    {
     "name": "stdout",
     "output_type": "stream",
     "text": [
      "Learning rate set to 0.037906\n"
     ]
    },
    {
     "name": "stdout",
     "output_type": "stream",
     "text": [
      "0:\tlearn: 0.9668810\ttotal: 106ms\tremaining: 1m 45s\n",
      "1:\tlearn: 0.9346583\ttotal: 106ms\tremaining: 53s\n",
      "2:\tlearn: 0.9075868\ttotal: 107ms\tremaining: 35.5s\n",
      "3:\tlearn: 0.8768525\ttotal: 109ms\tremaining: 27.1s\n",
      "4:\tlearn: 0.8521174\ttotal: 110ms\tremaining: 21.8s\n",
      "5:\tlearn: 0.8244215\ttotal: 111ms\tremaining: 18.3s\n",
      "6:\tlearn: 0.8020034\ttotal: 131ms\tremaining: 18.5s\n",
      "7:\tlearn: 0.7788055\ttotal: 134ms\tremaining: 16.7s\n",
      "8:\tlearn: 0.7528720\ttotal: 135ms\tremaining: 14.9s\n",
      "9:\tlearn: 0.7306290\ttotal: 136ms\tremaining: 13.4s\n",
      "10:\tlearn: 0.7078508\ttotal: 136ms\tremaining: 12.3s\n"
     ]
    },
    {
     "name": "stdout",
     "output_type": "stream",
     "text": [
      "11:\tlearn: 0.6849833\ttotal: 139ms\tremaining: 11.5s\n",
      "12:\tlearn: 0.6635188\ttotal: 140ms\tremaining: 10.6s\n",
      "13:\tlearn: 0.6447650\ttotal: 140ms\tremaining: 9.89s\n",
      "14:\tlearn: 0.6246157\ttotal: 141ms\tremaining: 9.26s\n",
      "15:\tlearn: 0.6063735\ttotal: 142ms\tremaining: 8.72s\n",
      "16:\tlearn: 0.5871660\ttotal: 142ms\tremaining: 8.23s\n",
      "17:\tlearn: 0.5703811\ttotal: 143ms\tremaining: 7.78s\n",
      "18:\tlearn: 0.5538665\ttotal: 143ms\tremaining: 7.38s\n",
      "19:\tlearn: 0.5383897\ttotal: 143ms\tremaining: 7.03s\n",
      "20:\tlearn: 0.5231792\ttotal: 144ms\tremaining: 6.72s\n",
      "21:\tlearn: 0.5083671\ttotal: 145ms\tremaining: 6.46s\n",
      "22:\tlearn: 0.4930069\ttotal: 146ms\tremaining: 6.21s\n",
      "23:\tlearn: 0.4774741\ttotal: 147ms\tremaining: 5.98s\n",
      "24:\tlearn: 0.4638835\ttotal: 147ms\tremaining: 5.75s\n",
      "25:\tlearn: 0.4492279\ttotal: 148ms\tremaining: 5.54s\n",
      "26:\tlearn: 0.4361126\ttotal: 148ms\tremaining: 5.34s\n",
      "27:\tlearn: 0.4233140\ttotal: 149ms\tremaining: 5.16s\n",
      "28:\tlearn: 0.4102266\ttotal: 150ms\tremaining: 5.02s\n",
      "29:\tlearn: 0.3993670\ttotal: 163ms\tremaining: 5.26s\n",
      "30:\tlearn: 0.3882571\ttotal: 163ms\tremaining: 5.1s\n",
      "31:\tlearn: 0.3765682\ttotal: 164ms\tremaining: 4.96s\n",
      "32:\tlearn: 0.3655889\ttotal: 165ms\tremaining: 4.83s\n",
      "33:\tlearn: 0.3553151\ttotal: 165ms\tremaining: 4.7s\n",
      "34:\tlearn: 0.3444739\ttotal: 166ms\tremaining: 4.58s\n",
      "35:\tlearn: 0.3342896\ttotal: 167ms\tremaining: 4.46s\n",
      "36:\tlearn: 0.3258293\ttotal: 167ms\tremaining: 4.35s\n",
      "37:\tlearn: 0.3167430\ttotal: 168ms\tremaining: 4.24s\n",
      "38:\tlearn: 0.3085256\ttotal: 168ms\tremaining: 4.14s\n",
      "39:\tlearn: 0.3001961\ttotal: 169ms\tremaining: 4.05s\n",
      "40:\tlearn: 0.2926994\ttotal: 169ms\tremaining: 3.96s\n",
      "41:\tlearn: 0.2852710\ttotal: 170ms\tremaining: 3.87s\n",
      "42:\tlearn: 0.2766352\ttotal: 170ms\tremaining: 3.79s\n",
      "43:\tlearn: 0.2688609\ttotal: 171ms\tremaining: 3.71s\n",
      "44:\tlearn: 0.2617519\ttotal: 171ms\tremaining: 3.63s\n",
      "45:\tlearn: 0.2549539\ttotal: 171ms\tremaining: 3.56s\n",
      "46:\tlearn: 0.2474099\ttotal: 172ms\tremaining: 3.48s\n",
      "47:\tlearn: 0.2423219\ttotal: 172ms\tremaining: 3.41s\n",
      "48:\tlearn: 0.2365948\ttotal: 172ms\tremaining: 3.34s\n",
      "49:\tlearn: 0.2312728\ttotal: 173ms\tremaining: 3.29s\n",
      "50:\tlearn: 0.2249677\ttotal: 174ms\tremaining: 3.23s\n",
      "51:\tlearn: 0.2196136\ttotal: 174ms\tremaining: 3.17s\n",
      "52:\tlearn: 0.2145574\ttotal: 175ms\tremaining: 3.12s\n",
      "53:\tlearn: 0.2091391\ttotal: 175ms\tremaining: 3.07s\n",
      "54:\tlearn: 0.2036518\ttotal: 176ms\tremaining: 3.02s\n",
      "55:\tlearn: 0.1982165\ttotal: 176ms\tremaining: 2.97s\n",
      "56:\tlearn: 0.1937088\ttotal: 177ms\tremaining: 2.92s\n",
      "57:\tlearn: 0.1889171\ttotal: 177ms\tremaining: 2.88s\n",
      "58:\tlearn: 0.1848871\ttotal: 178ms\tremaining: 2.83s\n",
      "59:\tlearn: 0.1809178\ttotal: 178ms\tremaining: 2.79s\n",
      "60:\tlearn: 0.1762276\ttotal: 179ms\tremaining: 2.75s\n",
      "61:\tlearn: 0.1725490\ttotal: 179ms\tremaining: 2.71s\n",
      "62:\tlearn: 0.1683447\ttotal: 180ms\tremaining: 2.67s\n",
      "63:\tlearn: 0.1642015\ttotal: 180ms\tremaining: 2.64s\n",
      "64:\tlearn: 0.1604576\ttotal: 181ms\tremaining: 2.6s\n",
      "65:\tlearn: 0.1579460\ttotal: 181ms\tremaining: 2.56s\n",
      "66:\tlearn: 0.1553702\ttotal: 184ms\tremaining: 2.57s\n",
      "67:\tlearn: 0.1519715\ttotal: 192ms\tremaining: 2.63s\n",
      "68:\tlearn: 0.1490239\ttotal: 193ms\tremaining: 2.6s\n",
      "69:\tlearn: 0.1457042\ttotal: 194ms\tremaining: 2.58s\n",
      "70:\tlearn: 0.1422300\ttotal: 195ms\tremaining: 2.56s\n",
      "71:\tlearn: 0.1403318\ttotal: 196ms\tremaining: 2.52s\n",
      "72:\tlearn: 0.1366740\ttotal: 196ms\tremaining: 2.49s\n",
      "73:\tlearn: 0.1332557\ttotal: 197ms\tremaining: 2.46s\n",
      "74:\tlearn: 0.1306881\ttotal: 197ms\tremaining: 2.43s\n",
      "75:\tlearn: 0.1276989\ttotal: 198ms\tremaining: 2.4s\n",
      "76:\tlearn: 0.1256005\ttotal: 198ms\tremaining: 2.37s\n",
      "77:\tlearn: 0.1228414\ttotal: 199ms\tremaining: 2.35s\n",
      "78:\tlearn: 0.1201818\ttotal: 209ms\tremaining: 2.44s\n",
      "79:\tlearn: 0.1182881\ttotal: 210ms\tremaining: 2.41s\n",
      "80:\tlearn: 0.1161850\ttotal: 210ms\tremaining: 2.38s\n",
      "81:\tlearn: 0.1134656\ttotal: 211ms\tremaining: 2.36s\n",
      "82:\tlearn: 0.1119207\ttotal: 211ms\tremaining: 2.33s\n",
      "83:\tlearn: 0.1093865\ttotal: 212ms\tremaining: 2.31s\n",
      "84:\tlearn: 0.1071877\ttotal: 215ms\tremaining: 2.32s\n",
      "85:\tlearn: 0.1057275\ttotal: 216ms\tremaining: 2.29s\n",
      "86:\tlearn: 0.1041490\ttotal: 216ms\tremaining: 2.27s\n",
      "87:\tlearn: 0.1027193\ttotal: 217ms\tremaining: 2.25s\n",
      "88:\tlearn: 0.1013464\ttotal: 217ms\tremaining: 2.22s\n",
      "89:\tlearn: 0.0992845\ttotal: 225ms\tremaining: 2.28s\n",
      "90:\tlearn: 0.0976480\ttotal: 232ms\tremaining: 2.32s\n",
      "91:\tlearn: 0.0958906\ttotal: 233ms\tremaining: 2.3s\n",
      "92:\tlearn: 0.0941339\ttotal: 238ms\tremaining: 2.32s\n",
      "93:\tlearn: 0.0932461\ttotal: 238ms\tremaining: 2.29s\n",
      "94:\tlearn: 0.0914330\ttotal: 238ms\tremaining: 2.27s\n",
      "95:\tlearn: 0.0898967\ttotal: 240ms\tremaining: 2.26s\n"
     ]
    },
    {
     "name": "stdout",
     "output_type": "stream",
     "text": [
      "96:\tlearn: 0.0887996\ttotal: 241ms\tremaining: 2.24s\n",
      "97:\tlearn: 0.0874445\ttotal: 243ms\tremaining: 2.24s\n",
      "98:\tlearn: 0.0858856\ttotal: 244ms\tremaining: 2.22s\n",
      "99:\tlearn: 0.0848144\ttotal: 244ms\tremaining: 2.2s\n",
      "100:\tlearn: 0.0833692\ttotal: 245ms\tremaining: 2.18s\n",
      "101:\tlearn: 0.0818059\ttotal: 245ms\tremaining: 2.16s\n",
      "102:\tlearn: 0.0810597\ttotal: 246ms\tremaining: 2.15s\n",
      "103:\tlearn: 0.0799099\ttotal: 247ms\tremaining: 2.13s\n",
      "104:\tlearn: 0.0785270\ttotal: 247ms\tremaining: 2.11s\n",
      "105:\tlearn: 0.0774557\ttotal: 248ms\tremaining: 2.09s\n",
      "106:\tlearn: 0.0768174\ttotal: 248ms\tremaining: 2.07s\n",
      "107:\tlearn: 0.0757111\ttotal: 249ms\tremaining: 2.05s\n",
      "108:\tlearn: 0.0746768\ttotal: 250ms\tremaining: 2.04s\n",
      "109:\tlearn: 0.0735694\ttotal: 251ms\tremaining: 2.03s\n",
      "110:\tlearn: 0.0729465\ttotal: 251ms\tremaining: 2.01s\n",
      "111:\tlearn: 0.0724158\ttotal: 252ms\tremaining: 2s\n",
      "112:\tlearn: 0.0713149\ttotal: 252ms\tremaining: 1.98s\n",
      "113:\tlearn: 0.0707970\ttotal: 253ms\tremaining: 1.96s\n",
      "114:\tlearn: 0.0697966\ttotal: 253ms\tremaining: 1.95s\n",
      "115:\tlearn: 0.0690229\ttotal: 254ms\tremaining: 1.93s\n",
      "116:\tlearn: 0.0681514\ttotal: 254ms\tremaining: 1.92s\n",
      "117:\tlearn: 0.0673909\ttotal: 255ms\tremaining: 1.9s\n",
      "118:\tlearn: 0.0665911\ttotal: 257ms\tremaining: 1.91s\n",
      "119:\tlearn: 0.0657852\ttotal: 258ms\tremaining: 1.89s\n",
      "120:\tlearn: 0.0651573\ttotal: 259ms\tremaining: 1.88s\n",
      "121:\tlearn: 0.0643003\ttotal: 259ms\tremaining: 1.87s\n",
      "122:\tlearn: 0.0636549\ttotal: 260ms\tremaining: 1.85s\n",
      "123:\tlearn: 0.0629165\ttotal: 260ms\tremaining: 1.84s\n",
      "124:\tlearn: 0.0623559\ttotal: 261ms\tremaining: 1.82s\n",
      "125:\tlearn: 0.0618047\ttotal: 261ms\tremaining: 1.81s\n",
      "126:\tlearn: 0.0613024\ttotal: 262ms\tremaining: 1.8s\n",
      "127:\tlearn: 0.0609768\ttotal: 262ms\tremaining: 1.78s\n",
      "128:\tlearn: 0.0603476\ttotal: 267ms\tremaining: 1.8s\n",
      "129:\tlearn: 0.0599338\ttotal: 268ms\tremaining: 1.79s\n",
      "130:\tlearn: 0.0594667\ttotal: 268ms\tremaining: 1.78s\n",
      "131:\tlearn: 0.0591270\ttotal: 268ms\tremaining: 1.76s\n",
      "132:\tlearn: 0.0587683\ttotal: 268ms\tremaining: 1.75s\n"
     ]
    },
    {
     "name": "stdout",
     "output_type": "stream",
     "text": [
      "133:\tlearn: 0.0583270\ttotal: 269ms\tremaining: 1.74s\n",
      "134:\tlearn: 0.0577988\ttotal: 270ms\tremaining: 1.73s\n",
      "135:\tlearn: 0.0573720\ttotal: 271ms\tremaining: 1.72s\n",
      "136:\tlearn: 0.0571791\ttotal: 271ms\tremaining: 1.71s\n",
      "137:\tlearn: 0.0568581\ttotal: 280ms\tremaining: 1.75s\n",
      "138:\tlearn: 0.0564611\ttotal: 280ms\tremaining: 1.74s\n",
      "139:\tlearn: 0.0563296\ttotal: 280ms\tremaining: 1.72s\n",
      "140:\tlearn: 0.0558628\ttotal: 283ms\tremaining: 1.72s\n",
      "141:\tlearn: 0.0554247\ttotal: 287ms\tremaining: 1.73s\n",
      "142:\tlearn: 0.0552197\ttotal: 287ms\tremaining: 1.72s\n",
      "143:\tlearn: 0.0549315\ttotal: 288ms\tremaining: 1.71s\n",
      "144:\tlearn: 0.0544911\ttotal: 288ms\tremaining: 1.7s\n",
      "145:\tlearn: 0.0541098\ttotal: 289ms\tremaining: 1.69s\n",
      "146:\tlearn: 0.0537105\ttotal: 289ms\tremaining: 1.68s\n",
      "147:\tlearn: 0.0534380\ttotal: 290ms\tremaining: 1.67s\n",
      "148:\tlearn: 0.0532337\ttotal: 291ms\tremaining: 1.66s\n",
      "149:\tlearn: 0.0529329\ttotal: 301ms\tremaining: 1.7s\n",
      "150:\tlearn: 0.0525939\ttotal: 301ms\tremaining: 1.69s\n",
      "151:\tlearn: 0.0522516\ttotal: 302ms\tremaining: 1.68s\n",
      "152:\tlearn: 0.0518460\ttotal: 302ms\tremaining: 1.67s\n",
      "153:\tlearn: 0.0516122\ttotal: 303ms\tremaining: 1.66s\n",
      "154:\tlearn: 0.0515161\ttotal: 303ms\tremaining: 1.65s\n",
      "155:\tlearn: 0.0513289\ttotal: 303ms\tremaining: 1.64s\n",
      "156:\tlearn: 0.0510339\ttotal: 304ms\tremaining: 1.63s\n",
      "157:\tlearn: 0.0507331\ttotal: 304ms\tremaining: 1.62s\n",
      "158:\tlearn: 0.0505250\ttotal: 305ms\tremaining: 1.61s\n",
      "159:\tlearn: 0.0502849\ttotal: 309ms\tremaining: 1.62s\n",
      "160:\tlearn: 0.0500573\ttotal: 318ms\tremaining: 1.66s\n",
      "161:\tlearn: 0.0498165\ttotal: 319ms\tremaining: 1.65s\n",
      "162:\tlearn: 0.0495843\ttotal: 319ms\tremaining: 1.64s\n",
      "163:\tlearn: 0.0494264\ttotal: 324ms\tremaining: 1.65s\n",
      "164:\tlearn: 0.0492413\ttotal: 324ms\tremaining: 1.64s\n",
      "165:\tlearn: 0.0490601\ttotal: 325ms\tremaining: 1.63s\n",
      "166:\tlearn: 0.0488807\ttotal: 325ms\tremaining: 1.62s\n",
      "167:\tlearn: 0.0486281\ttotal: 326ms\tremaining: 1.61s\n",
      "168:\tlearn: 0.0485129\ttotal: 330ms\tremaining: 1.62s\n",
      "169:\tlearn: 0.0483349\ttotal: 332ms\tremaining: 1.62s\n",
      "170:\tlearn: 0.0481519\ttotal: 338ms\tremaining: 1.64s\n",
      "171:\tlearn: 0.0479575\ttotal: 339ms\tremaining: 1.63s\n",
      "172:\tlearn: 0.0478183\ttotal: 339ms\tremaining: 1.62s\n",
      "173:\tlearn: 0.0476276\ttotal: 339ms\tremaining: 1.61s\n",
      "174:\tlearn: 0.0473895\ttotal: 340ms\tremaining: 1.6s\n",
      "175:\tlearn: 0.0472548\ttotal: 340ms\tremaining: 1.59s\n",
      "176:\tlearn: 0.0470142\ttotal: 344ms\tremaining: 1.6s\n",
      "177:\tlearn: 0.0468644\ttotal: 344ms\tremaining: 1.59s\n",
      "178:\tlearn: 0.0467428\ttotal: 345ms\tremaining: 1.58s\n",
      "179:\tlearn: 0.0466107\ttotal: 345ms\tremaining: 1.57s\n",
      "180:\tlearn: 0.0462563\ttotal: 348ms\tremaining: 1.58s\n",
      "181:\tlearn: 0.0460831\ttotal: 349ms\tremaining: 1.57s\n",
      "182:\tlearn: 0.0459087\ttotal: 349ms\tremaining: 1.56s\n",
      "183:\tlearn: 0.0456871\ttotal: 352ms\tremaining: 1.56s\n",
      "184:\tlearn: 0.0455180\ttotal: 353ms\tremaining: 1.56s\n",
      "185:\tlearn: 0.0453694\ttotal: 354ms\tremaining: 1.55s\n",
      "186:\tlearn: 0.0451615\ttotal: 355ms\tremaining: 1.54s\n",
      "187:\tlearn: 0.0450300\ttotal: 355ms\tremaining: 1.53s\n",
      "188:\tlearn: 0.0448456\ttotal: 356ms\tremaining: 1.53s\n",
      "189:\tlearn: 0.0445505\ttotal: 356ms\tremaining: 1.52s\n",
      "190:\tlearn: 0.0443671\ttotal: 357ms\tremaining: 1.51s\n",
      "191:\tlearn: 0.0442267\ttotal: 357ms\tremaining: 1.5s\n",
      "192:\tlearn: 0.0441231\ttotal: 358ms\tremaining: 1.5s\n",
      "193:\tlearn: 0.0439821\ttotal: 358ms\tremaining: 1.49s\n",
      "194:\tlearn: 0.0438750\ttotal: 359ms\tremaining: 1.48s\n",
      "195:\tlearn: 0.0437730\ttotal: 359ms\tremaining: 1.47s\n"
     ]
    },
    {
     "name": "stdout",
     "output_type": "stream",
     "text": [
      "196:\tlearn: 0.0435977\ttotal: 361ms\tremaining: 1.47s\n",
      "197:\tlearn: 0.0434207\ttotal: 361ms\tremaining: 1.46s\n",
      "198:\tlearn: 0.0433147\ttotal: 361ms\tremaining: 1.45s\n",
      "199:\tlearn: 0.0431892\ttotal: 361ms\tremaining: 1.45s\n",
      "200:\tlearn: 0.0430331\ttotal: 362ms\tremaining: 1.44s\n",
      "201:\tlearn: 0.0427740\ttotal: 362ms\tremaining: 1.43s\n",
      "202:\tlearn: 0.0426764\ttotal: 362ms\tremaining: 1.42s\n",
      "203:\tlearn: 0.0424146\ttotal: 363ms\tremaining: 1.42s\n",
      "204:\tlearn: 0.0421678\ttotal: 364ms\tremaining: 1.41s\n",
      "205:\tlearn: 0.0420615\ttotal: 364ms\tremaining: 1.4s\n",
      "206:\tlearn: 0.0419586\ttotal: 365ms\tremaining: 1.4s\n",
      "207:\tlearn: 0.0418071\ttotal: 365ms\tremaining: 1.39s\n",
      "208:\tlearn: 0.0417357\ttotal: 366ms\tremaining: 1.39s\n",
      "209:\tlearn: 0.0415918\ttotal: 367ms\tremaining: 1.38s\n",
      "210:\tlearn: 0.0414578\ttotal: 367ms\tremaining: 1.37s\n",
      "211:\tlearn: 0.0413144\ttotal: 368ms\tremaining: 1.37s\n",
      "212:\tlearn: 0.0412140\ttotal: 368ms\tremaining: 1.36s\n",
      "213:\tlearn: 0.0411179\ttotal: 369ms\tremaining: 1.35s\n",
      "214:\tlearn: 0.0410493\ttotal: 369ms\tremaining: 1.35s\n",
      "215:\tlearn: 0.0409307\ttotal: 370ms\tremaining: 1.34s\n",
      "216:\tlearn: 0.0408572\ttotal: 370ms\tremaining: 1.34s\n",
      "217:\tlearn: 0.0407930\ttotal: 371ms\tremaining: 1.33s\n",
      "218:\tlearn: 0.0405725\ttotal: 371ms\tremaining: 1.32s\n",
      "219:\tlearn: 0.0404151\ttotal: 372ms\tremaining: 1.32s\n",
      "220:\tlearn: 0.0402781\ttotal: 372ms\tremaining: 1.31s\n",
      "221:\tlearn: 0.0401552\ttotal: 375ms\tremaining: 1.31s\n",
      "222:\tlearn: 0.0400681\ttotal: 375ms\tremaining: 1.31s\n",
      "223:\tlearn: 0.0398736\ttotal: 376ms\tremaining: 1.3s\n",
      "224:\tlearn: 0.0397473\ttotal: 378ms\tremaining: 1.3s\n",
      "225:\tlearn: 0.0396024\ttotal: 378ms\tremaining: 1.3s\n",
      "226:\tlearn: 0.0394720\ttotal: 380ms\tremaining: 1.29s\n",
      "227:\tlearn: 0.0393634\ttotal: 381ms\tremaining: 1.29s\n",
      "228:\tlearn: 0.0392598\ttotal: 386ms\tremaining: 1.3s\n",
      "229:\tlearn: 0.0391663\ttotal: 387ms\tremaining: 1.29s\n",
      "230:\tlearn: 0.0390552\ttotal: 387ms\tremaining: 1.29s\n",
      "231:\tlearn: 0.0389408\ttotal: 388ms\tremaining: 1.28s\n",
      "232:\tlearn: 0.0388144\ttotal: 389ms\tremaining: 1.28s\n",
      "233:\tlearn: 0.0387281\ttotal: 389ms\tremaining: 1.27s\n",
      "234:\tlearn: 0.0386488\ttotal: 389ms\tremaining: 1.27s\n",
      "235:\tlearn: 0.0385617\ttotal: 390ms\tremaining: 1.26s\n",
      "236:\tlearn: 0.0384981\ttotal: 391ms\tremaining: 1.26s\n",
      "237:\tlearn: 0.0384298\ttotal: 391ms\tremaining: 1.25s\n",
      "238:\tlearn: 0.0382563\ttotal: 392ms\tremaining: 1.25s\n",
      "239:\tlearn: 0.0381511\ttotal: 393ms\tremaining: 1.24s\n",
      "240:\tlearn: 0.0380526\ttotal: 393ms\tremaining: 1.24s\n",
      "241:\tlearn: 0.0378634\ttotal: 394ms\tremaining: 1.23s\n",
      "242:\tlearn: 0.0377929\ttotal: 395ms\tremaining: 1.23s\n",
      "243:\tlearn: 0.0376964\ttotal: 396ms\tremaining: 1.23s\n",
      "244:\tlearn: 0.0375092\ttotal: 396ms\tremaining: 1.22s\n",
      "245:\tlearn: 0.0373127\ttotal: 397ms\tremaining: 1.22s\n",
      "246:\tlearn: 0.0372371\ttotal: 398ms\tremaining: 1.21s\n",
      "247:\tlearn: 0.0371044\ttotal: 398ms\tremaining: 1.21s\n",
      "248:\tlearn: 0.0370124\ttotal: 403ms\tremaining: 1.22s\n"
     ]
    },
    {
     "name": "stdout",
     "output_type": "stream",
     "text": [
      "249:\tlearn: 0.0369034\ttotal: 404ms\tremaining: 1.21s\n",
      "250:\tlearn: 0.0367818\ttotal: 404ms\tremaining: 1.21s\n",
      "251:\tlearn: 0.0366996\ttotal: 406ms\tremaining: 1.2s\n",
      "252:\tlearn: 0.0365487\ttotal: 407ms\tremaining: 1.2s\n",
      "253:\tlearn: 0.0364592\ttotal: 409ms\tremaining: 1.2s\n",
      "254:\tlearn: 0.0363460\ttotal: 409ms\tremaining: 1.19s\n",
      "255:\tlearn: 0.0362095\ttotal: 414ms\tremaining: 1.2s\n",
      "256:\tlearn: 0.0361106\ttotal: 415ms\tremaining: 1.2s\n",
      "257:\tlearn: 0.0359897\ttotal: 415ms\tremaining: 1.19s\n",
      "258:\tlearn: 0.0359170\ttotal: 417ms\tremaining: 1.19s\n",
      "259:\tlearn: 0.0358162\ttotal: 418ms\tremaining: 1.19s\n",
      "260:\tlearn: 0.0356858\ttotal: 419ms\tremaining: 1.19s\n",
      "261:\tlearn: 0.0355346\ttotal: 419ms\tremaining: 1.18s\n",
      "262:\tlearn: 0.0354127\ttotal: 420ms\tremaining: 1.18s\n",
      "263:\tlearn: 0.0353006\ttotal: 421ms\tremaining: 1.17s\n",
      "264:\tlearn: 0.0352297\ttotal: 423ms\tremaining: 1.17s\n",
      "265:\tlearn: 0.0350718\ttotal: 424ms\tremaining: 1.17s\n",
      "266:\tlearn: 0.0349465\ttotal: 425ms\tremaining: 1.17s\n",
      "267:\tlearn: 0.0348472\ttotal: 425ms\tremaining: 1.16s\n",
      "268:\tlearn: 0.0347863\ttotal: 425ms\tremaining: 1.16s\n",
      "269:\tlearn: 0.0346431\ttotal: 426ms\tremaining: 1.15s\n",
      "270:\tlearn: 0.0345842\ttotal: 426ms\tremaining: 1.15s\n",
      "271:\tlearn: 0.0345164\ttotal: 427ms\tremaining: 1.14s\n",
      "272:\tlearn: 0.0344425\ttotal: 429ms\tremaining: 1.14s\n",
      "273:\tlearn: 0.0343538\ttotal: 429ms\tremaining: 1.14s\n",
      "274:\tlearn: 0.0342444\ttotal: 430ms\tremaining: 1.13s\n",
      "275:\tlearn: 0.0341289\ttotal: 430ms\tremaining: 1.13s\n",
      "276:\tlearn: 0.0340349\ttotal: 431ms\tremaining: 1.12s\n",
      "277:\tlearn: 0.0339800\ttotal: 432ms\tremaining: 1.12s\n",
      "278:\tlearn: 0.0338805\ttotal: 433ms\tremaining: 1.12s\n",
      "279:\tlearn: 0.0337913\ttotal: 433ms\tremaining: 1.11s\n",
      "280:\tlearn: 0.0337317\ttotal: 434ms\tremaining: 1.11s\n",
      "281:\tlearn: 0.0336187\ttotal: 435ms\tremaining: 1.11s\n",
      "282:\tlearn: 0.0335371\ttotal: 435ms\tremaining: 1.1s\n",
      "283:\tlearn: 0.0334452\ttotal: 436ms\tremaining: 1.1s\n",
      "284:\tlearn: 0.0333390\ttotal: 436ms\tremaining: 1.09s\n",
      "285:\tlearn: 0.0332695\ttotal: 437ms\tremaining: 1.09s\n",
      "286:\tlearn: 0.0332165\ttotal: 437ms\tremaining: 1.08s\n",
      "287:\tlearn: 0.0331138\ttotal: 438ms\tremaining: 1.08s\n",
      "288:\tlearn: 0.0330440\ttotal: 438ms\tremaining: 1.08s\n",
      "289:\tlearn: 0.0329967\ttotal: 439ms\tremaining: 1.07s\n",
      "290:\tlearn: 0.0329361\ttotal: 439ms\tremaining: 1.07s\n",
      "291:\tlearn: 0.0328392\ttotal: 440ms\tremaining: 1.07s\n",
      "292:\tlearn: 0.0327475\ttotal: 440ms\tremaining: 1.06s\n",
      "293:\tlearn: 0.0326692\ttotal: 441ms\tremaining: 1.06s\n",
      "294:\tlearn: 0.0325675\ttotal: 450ms\tremaining: 1.07s\n",
      "295:\tlearn: 0.0324872\ttotal: 451ms\tremaining: 1.07s\n",
      "296:\tlearn: 0.0324094\ttotal: 451ms\tremaining: 1.07s\n",
      "297:\tlearn: 0.0323330\ttotal: 452ms\tremaining: 1.06s\n",
      "298:\tlearn: 0.0322941\ttotal: 453ms\tremaining: 1.06s\n",
      "299:\tlearn: 0.0322341\ttotal: 453ms\tremaining: 1.06s\n",
      "300:\tlearn: 0.0321377\ttotal: 454ms\tremaining: 1.05s\n",
      "301:\tlearn: 0.0320395\ttotal: 457ms\tremaining: 1.05s\n",
      "302:\tlearn: 0.0319777\ttotal: 457ms\tremaining: 1.05s\n",
      "303:\tlearn: 0.0319192\ttotal: 458ms\tremaining: 1.05s\n",
      "304:\tlearn: 0.0318275\ttotal: 459ms\tremaining: 1.05s\n",
      "305:\tlearn: 0.0317329\ttotal: 460ms\tremaining: 1.04s\n",
      "306:\tlearn: 0.0316614\ttotal: 460ms\tremaining: 1.04s\n",
      "307:\tlearn: 0.0315751\ttotal: 461ms\tremaining: 1.03s\n",
      "308:\tlearn: 0.0314853\ttotal: 461ms\tremaining: 1.03s\n",
      "309:\tlearn: 0.0314164\ttotal: 462ms\tremaining: 1.03s\n",
      "310:\tlearn: 0.0313090\ttotal: 472ms\tremaining: 1.05s\n",
      "311:\tlearn: 0.0312444\ttotal: 473ms\tremaining: 1.04s\n",
      "312:\tlearn: 0.0311697\ttotal: 474ms\tremaining: 1.04s\n",
      "313:\tlearn: 0.0310944\ttotal: 474ms\tremaining: 1.04s\n",
      "314:\tlearn: 0.0310457\ttotal: 475ms\tremaining: 1.03s\n",
      "315:\tlearn: 0.0309727\ttotal: 479ms\tremaining: 1.04s\n",
      "316:\tlearn: 0.0308939\ttotal: 480ms\tremaining: 1.03s\n",
      "317:\tlearn: 0.0308337\ttotal: 481ms\tremaining: 1.03s\n",
      "318:\tlearn: 0.0307598\ttotal: 481ms\tremaining: 1.03s\n",
      "319:\tlearn: 0.0307086\ttotal: 481ms\tremaining: 1.02s\n",
      "320:\tlearn: 0.0306565\ttotal: 482ms\tremaining: 1.02s\n",
      "321:\tlearn: 0.0305947\ttotal: 482ms\tremaining: 1.01s\n",
      "322:\tlearn: 0.0305113\ttotal: 483ms\tremaining: 1.01s\n",
      "323:\tlearn: 0.0304613\ttotal: 483ms\tremaining: 1.01s\n",
      "324:\tlearn: 0.0303859\ttotal: 484ms\tremaining: 1s\n",
      "325:\tlearn: 0.0302993\ttotal: 485ms\tremaining: 1s\n",
      "326:\tlearn: 0.0302302\ttotal: 485ms\tremaining: 998ms\n",
      "327:\tlearn: 0.0301558\ttotal: 485ms\tremaining: 995ms\n",
      "328:\tlearn: 0.0301071\ttotal: 486ms\tremaining: 991ms\n",
      "329:\tlearn: 0.0300646\ttotal: 486ms\tremaining: 988ms\n",
      "330:\tlearn: 0.0299995\ttotal: 487ms\tremaining: 984ms\n",
      "331:\tlearn: 0.0299523\ttotal: 487ms\tremaining: 981ms\n",
      "332:\tlearn: 0.0299120\ttotal: 488ms\tremaining: 977ms\n",
      "333:\tlearn: 0.0298710\ttotal: 488ms\tremaining: 974ms\n",
      "334:\tlearn: 0.0298301\ttotal: 489ms\tremaining: 970ms\n",
      "335:\tlearn: 0.0297899\ttotal: 489ms\tremaining: 967ms\n",
      "336:\tlearn: 0.0297220\ttotal: 490ms\tremaining: 964ms\n",
      "337:\tlearn: 0.0296720\ttotal: 490ms\tremaining: 960ms\n",
      "338:\tlearn: 0.0296058\ttotal: 491ms\tremaining: 957ms\n"
     ]
    },
    {
     "name": "stdout",
     "output_type": "stream",
     "text": [
      "339:\tlearn: 0.0295610\ttotal: 491ms\tremaining: 953ms\n",
      "340:\tlearn: 0.0295185\ttotal: 491ms\tremaining: 950ms\n",
      "341:\tlearn: 0.0294621\ttotal: 492ms\tremaining: 946ms\n",
      "342:\tlearn: 0.0293990\ttotal: 492ms\tremaining: 942ms\n",
      "343:\tlearn: 0.0293210\ttotal: 492ms\tremaining: 939ms\n",
      "344:\tlearn: 0.0292287\ttotal: 493ms\tremaining: 937ms\n",
      "345:\tlearn: 0.0291924\ttotal: 494ms\tremaining: 933ms\n",
      "346:\tlearn: 0.0291579\ttotal: 494ms\tremaining: 930ms\n",
      "347:\tlearn: 0.0290782\ttotal: 495ms\tremaining: 927ms\n",
      "348:\tlearn: 0.0289977\ttotal: 495ms\tremaining: 923ms\n",
      "349:\tlearn: 0.0289375\ttotal: 495ms\tremaining: 920ms\n",
      "350:\tlearn: 0.0288865\ttotal: 495ms\tremaining: 916ms\n",
      "351:\tlearn: 0.0288368\ttotal: 496ms\tremaining: 913ms\n",
      "352:\tlearn: 0.0287632\ttotal: 496ms\tremaining: 909ms\n",
      "353:\tlearn: 0.0286763\ttotal: 496ms\tremaining: 906ms\n",
      "354:\tlearn: 0.0286011\ttotal: 497ms\tremaining: 902ms\n",
      "355:\tlearn: 0.0285383\ttotal: 497ms\tremaining: 899ms\n",
      "356:\tlearn: 0.0284768\ttotal: 497ms\tremaining: 896ms\n",
      "357:\tlearn: 0.0284416\ttotal: 498ms\tremaining: 892ms\n",
      "358:\tlearn: 0.0284048\ttotal: 498ms\tremaining: 889ms\n",
      "359:\tlearn: 0.0283546\ttotal: 498ms\tremaining: 885ms\n",
      "360:\tlearn: 0.0283057\ttotal: 498ms\tremaining: 882ms\n",
      "361:\tlearn: 0.0282222\ttotal: 499ms\tremaining: 879ms\n",
      "362:\tlearn: 0.0281648\ttotal: 499ms\tremaining: 876ms\n",
      "363:\tlearn: 0.0281069\ttotal: 500ms\tremaining: 873ms\n",
      "364:\tlearn: 0.0280398\ttotal: 505ms\tremaining: 879ms\n",
      "365:\tlearn: 0.0279822\ttotal: 506ms\tremaining: 876ms\n",
      "366:\tlearn: 0.0279592\ttotal: 506ms\tremaining: 873ms\n",
      "367:\tlearn: 0.0279358\ttotal: 508ms\tremaining: 872ms\n",
      "368:\tlearn: 0.0278550\ttotal: 511ms\tremaining: 874ms\n",
      "369:\tlearn: 0.0277976\ttotal: 516ms\tremaining: 878ms\n",
      "370:\tlearn: 0.0277391\ttotal: 516ms\tremaining: 875ms\n",
      "371:\tlearn: 0.0276698\ttotal: 516ms\tremaining: 872ms\n",
      "372:\tlearn: 0.0276165\ttotal: 517ms\tremaining: 869ms\n",
      "373:\tlearn: 0.0275394\ttotal: 517ms\tremaining: 866ms\n",
      "374:\tlearn: 0.0274789\ttotal: 518ms\tremaining: 863ms\n",
      "375:\tlearn: 0.0274220\ttotal: 519ms\tremaining: 861ms\n",
      "376:\tlearn: 0.0273490\ttotal: 519ms\tremaining: 858ms\n",
      "377:\tlearn: 0.0272951\ttotal: 520ms\tremaining: 855ms\n",
      "378:\tlearn: 0.0272517\ttotal: 520ms\tremaining: 852ms\n",
      "379:\tlearn: 0.0272020\ttotal: 520ms\tremaining: 849ms\n",
      "380:\tlearn: 0.0271688\ttotal: 521ms\tremaining: 846ms\n",
      "381:\tlearn: 0.0271030\ttotal: 521ms\tremaining: 843ms\n",
      "382:\tlearn: 0.0270679\ttotal: 522ms\tremaining: 841ms\n",
      "383:\tlearn: 0.0269990\ttotal: 522ms\tremaining: 838ms\n",
      "384:\tlearn: 0.0269280\ttotal: 523ms\tremaining: 835ms\n",
      "385:\tlearn: 0.0268666\ttotal: 523ms\tremaining: 832ms\n",
      "386:\tlearn: 0.0268273\ttotal: 524ms\tremaining: 829ms\n",
      "387:\tlearn: 0.0267542\ttotal: 524ms\tremaining: 827ms\n",
      "388:\tlearn: 0.0266994\ttotal: 525ms\tremaining: 825ms\n",
      "389:\tlearn: 0.0266407\ttotal: 526ms\tremaining: 823ms\n",
      "390:\tlearn: 0.0265791\ttotal: 527ms\tremaining: 820ms\n",
      "391:\tlearn: 0.0265315\ttotal: 527ms\tremaining: 817ms\n",
      "392:\tlearn: 0.0264803\ttotal: 527ms\tremaining: 814ms\n",
      "393:\tlearn: 0.0264494\ttotal: 529ms\tremaining: 813ms\n",
      "394:\tlearn: 0.0264131\ttotal: 529ms\tremaining: 810ms\n",
      "395:\tlearn: 0.0263573\ttotal: 530ms\tremaining: 808ms\n",
      "396:\tlearn: 0.0263262\ttotal: 530ms\tremaining: 805ms\n",
      "397:\tlearn: 0.0262787\ttotal: 531ms\tremaining: 802ms\n"
     ]
    },
    {
     "name": "stdout",
     "output_type": "stream",
     "text": [
      "398:\tlearn: 0.0262601\ttotal: 531ms\tremaining: 800ms\n",
      "399:\tlearn: 0.0262264\ttotal: 531ms\tremaining: 797ms\n",
      "400:\tlearn: 0.0261750\ttotal: 533ms\tremaining: 796ms\n",
      "401:\tlearn: 0.0261446\ttotal: 534ms\tremaining: 794ms\n",
      "402:\tlearn: 0.0261003\ttotal: 534ms\tremaining: 791ms\n",
      "403:\tlearn: 0.0260739\ttotal: 535ms\tremaining: 789ms\n",
      "404:\tlearn: 0.0260521\ttotal: 537ms\tremaining: 789ms\n",
      "405:\tlearn: 0.0260084\ttotal: 537ms\tremaining: 786ms\n",
      "406:\tlearn: 0.0259909\ttotal: 539ms\tremaining: 785ms\n",
      "407:\tlearn: 0.0259298\ttotal: 539ms\tremaining: 782ms\n",
      "408:\tlearn: 0.0258986\ttotal: 540ms\tremaining: 780ms\n",
      "409:\tlearn: 0.0258685\ttotal: 540ms\tremaining: 777ms\n",
      "410:\tlearn: 0.0258077\ttotal: 540ms\tremaining: 774ms\n",
      "411:\tlearn: 0.0257902\ttotal: 540ms\tremaining: 771ms\n",
      "412:\tlearn: 0.0257557\ttotal: 541ms\tremaining: 769ms\n",
      "413:\tlearn: 0.0257139\ttotal: 541ms\tremaining: 766ms\n",
      "414:\tlearn: 0.0256745\ttotal: 541ms\tremaining: 763ms\n",
      "415:\tlearn: 0.0256161\ttotal: 542ms\tremaining: 760ms\n",
      "416:\tlearn: 0.0255790\ttotal: 542ms\tremaining: 758ms\n",
      "417:\tlearn: 0.0255228\ttotal: 542ms\tremaining: 755ms\n",
      "418:\tlearn: 0.0254660\ttotal: 542ms\tremaining: 752ms\n",
      "419:\tlearn: 0.0254294\ttotal: 543ms\tremaining: 750ms\n",
      "420:\tlearn: 0.0253669\ttotal: 543ms\tremaining: 747ms\n",
      "421:\tlearn: 0.0253111\ttotal: 544ms\tremaining: 745ms\n",
      "422:\tlearn: 0.0252557\ttotal: 544ms\tremaining: 743ms\n",
      "423:\tlearn: 0.0252306\ttotal: 545ms\tremaining: 740ms\n",
      "424:\tlearn: 0.0251821\ttotal: 545ms\tremaining: 737ms\n",
      "425:\tlearn: 0.0251488\ttotal: 545ms\tremaining: 735ms\n",
      "426:\tlearn: 0.0251068\ttotal: 546ms\tremaining: 732ms\n",
      "427:\tlearn: 0.0250868\ttotal: 546ms\tremaining: 729ms\n",
      "428:\tlearn: 0.0250593\ttotal: 546ms\tremaining: 727ms\n",
      "429:\tlearn: 0.0250347\ttotal: 546ms\tremaining: 724ms\n",
      "430:\tlearn: 0.0249937\ttotal: 547ms\tremaining: 722ms\n",
      "431:\tlearn: 0.0249810\ttotal: 547ms\tremaining: 720ms\n",
      "432:\tlearn: 0.0249617\ttotal: 548ms\tremaining: 717ms\n",
      "433:\tlearn: 0.0248836\ttotal: 548ms\tremaining: 714ms\n",
      "434:\tlearn: 0.0248515\ttotal: 548ms\tremaining: 712ms\n",
      "435:\tlearn: 0.0247989\ttotal: 549ms\tremaining: 710ms\n",
      "436:\tlearn: 0.0247709\ttotal: 549ms\tremaining: 707ms\n",
      "437:\tlearn: 0.0247392\ttotal: 549ms\tremaining: 705ms\n",
      "438:\tlearn: 0.0246998\ttotal: 549ms\tremaining: 702ms\n",
      "439:\tlearn: 0.0246795\ttotal: 550ms\tremaining: 699ms\n",
      "440:\tlearn: 0.0246593\ttotal: 550ms\tremaining: 697ms\n",
      "441:\tlearn: 0.0246325\ttotal: 551ms\tremaining: 695ms\n",
      "442:\tlearn: 0.0246094\ttotal: 551ms\tremaining: 693ms\n",
      "443:\tlearn: 0.0245632\ttotal: 551ms\tremaining: 690ms\n",
      "444:\tlearn: 0.0245374\ttotal: 551ms\tremaining: 688ms\n",
      "445:\tlearn: 0.0245114\ttotal: 552ms\tremaining: 685ms\n",
      "446:\tlearn: 0.0244923\ttotal: 552ms\tremaining: 683ms\n",
      "447:\tlearn: 0.0244485\ttotal: 553ms\tremaining: 681ms\n",
      "448:\tlearn: 0.0244224\ttotal: 553ms\tremaining: 679ms\n",
      "449:\tlearn: 0.0243833\ttotal: 554ms\tremaining: 677ms\n",
      "450:\tlearn: 0.0243578\ttotal: 554ms\tremaining: 675ms\n",
      "451:\tlearn: 0.0243131\ttotal: 555ms\tremaining: 672ms\n",
      "452:\tlearn: 0.0242506\ttotal: 556ms\tremaining: 672ms\n",
      "453:\tlearn: 0.0241958\ttotal: 557ms\tremaining: 670ms\n",
      "454:\tlearn: 0.0241468\ttotal: 559ms\tremaining: 670ms\n",
      "455:\tlearn: 0.0240972\ttotal: 563ms\tremaining: 672ms\n",
      "456:\tlearn: 0.0240414\ttotal: 564ms\tremaining: 670ms\n",
      "457:\tlearn: 0.0240115\ttotal: 565ms\tremaining: 669ms\n",
      "458:\tlearn: 0.0239595\ttotal: 568ms\tremaining: 670ms\n",
      "459:\tlearn: 0.0239297\ttotal: 571ms\tremaining: 670ms\n",
      "460:\tlearn: 0.0238901\ttotal: 572ms\tremaining: 668ms\n",
      "461:\tlearn: 0.0238604\ttotal: 572ms\tremaining: 666ms\n",
      "462:\tlearn: 0.0238305\ttotal: 573ms\tremaining: 664ms\n",
      "463:\tlearn: 0.0238076\ttotal: 573ms\tremaining: 662ms\n",
      "464:\tlearn: 0.0237779\ttotal: 574ms\tremaining: 660ms\n",
      "465:\tlearn: 0.0237568\ttotal: 574ms\tremaining: 658ms\n",
      "466:\tlearn: 0.0237101\ttotal: 574ms\tremaining: 656ms\n",
      "467:\tlearn: 0.0236938\ttotal: 575ms\tremaining: 653ms\n",
      "468:\tlearn: 0.0236764\ttotal: 575ms\tremaining: 651ms\n",
      "469:\tlearn: 0.0236590\ttotal: 576ms\tremaining: 649ms\n",
      "470:\tlearn: 0.0236430\ttotal: 576ms\tremaining: 647ms\n",
      "471:\tlearn: 0.0236261\ttotal: 577ms\tremaining: 645ms\n",
      "472:\tlearn: 0.0235783\ttotal: 577ms\tremaining: 643ms\n",
      "473:\tlearn: 0.0235435\ttotal: 577ms\tremaining: 641ms\n",
      "474:\tlearn: 0.0235096\ttotal: 578ms\tremaining: 639ms\n",
      "475:\tlearn: 0.0234818\ttotal: 578ms\tremaining: 637ms\n",
      "476:\tlearn: 0.0234620\ttotal: 579ms\tremaining: 635ms\n",
      "477:\tlearn: 0.0234448\ttotal: 579ms\tremaining: 633ms\n",
      "478:\tlearn: 0.0234281\ttotal: 582ms\tremaining: 633ms\n",
      "479:\tlearn: 0.0233807\ttotal: 582ms\tremaining: 631ms\n",
      "480:\tlearn: 0.0233580\ttotal: 583ms\tremaining: 629ms\n",
      "481:\tlearn: 0.0233105\ttotal: 583ms\tremaining: 627ms\n",
      "482:\tlearn: 0.0232537\ttotal: 584ms\tremaining: 625ms\n",
      "483:\tlearn: 0.0231996\ttotal: 584ms\tremaining: 623ms\n",
      "484:\tlearn: 0.0231605\ttotal: 585ms\tremaining: 621ms\n",
      "485:\tlearn: 0.0231236\ttotal: 585ms\tremaining: 619ms\n",
      "486:\tlearn: 0.0230982\ttotal: 586ms\tremaining: 617ms\n",
      "487:\tlearn: 0.0230819\ttotal: 586ms\tremaining: 615ms\n",
      "488:\tlearn: 0.0230417\ttotal: 587ms\tremaining: 613ms\n",
      "489:\tlearn: 0.0230115\ttotal: 587ms\tremaining: 611ms\n",
      "490:\tlearn: 0.0229771\ttotal: 588ms\tremaining: 609ms\n",
      "491:\tlearn: 0.0229589\ttotal: 588ms\tremaining: 607ms\n",
      "492:\tlearn: 0.0229104\ttotal: 589ms\tremaining: 605ms\n",
      "493:\tlearn: 0.0228956\ttotal: 589ms\tremaining: 603ms\n",
      "494:\tlearn: 0.0228526\ttotal: 589ms\tremaining: 601ms\n",
      "495:\tlearn: 0.0228181\ttotal: 590ms\tremaining: 599ms\n",
      "496:\tlearn: 0.0227834\ttotal: 590ms\tremaining: 598ms\n",
      "497:\tlearn: 0.0227694\ttotal: 591ms\tremaining: 596ms\n",
      "498:\tlearn: 0.0227056\ttotal: 591ms\tremaining: 594ms\n",
      "499:\tlearn: 0.0226569\ttotal: 600ms\tremaining: 600ms\n",
      "500:\tlearn: 0.0226382\ttotal: 600ms\tremaining: 598ms\n",
      "501:\tlearn: 0.0226223\ttotal: 601ms\tremaining: 596ms\n",
      "502:\tlearn: 0.0225912\ttotal: 601ms\tremaining: 594ms\n",
      "503:\tlearn: 0.0225458\ttotal: 602ms\tremaining: 592ms\n",
      "504:\tlearn: 0.0224967\ttotal: 602ms\tremaining: 590ms\n",
      "505:\tlearn: 0.0224833\ttotal: 603ms\tremaining: 588ms\n",
      "506:\tlearn: 0.0224505\ttotal: 603ms\tremaining: 587ms\n",
      "507:\tlearn: 0.0224269\ttotal: 604ms\tremaining: 585ms\n",
      "508:\tlearn: 0.0224203\ttotal: 605ms\tremaining: 583ms\n",
      "509:\tlearn: 0.0224063\ttotal: 605ms\tremaining: 581ms\n",
      "510:\tlearn: 0.0223976\ttotal: 605ms\tremaining: 579ms\n",
      "511:\tlearn: 0.0223616\ttotal: 606ms\tremaining: 577ms\n",
      "512:\tlearn: 0.0223164\ttotal: 606ms\tremaining: 575ms\n",
      "513:\tlearn: 0.0222861\ttotal: 606ms\tremaining: 573ms\n",
      "514:\tlearn: 0.0222435\ttotal: 607ms\tremaining: 571ms\n",
      "515:\tlearn: 0.0221794\ttotal: 607ms\tremaining: 569ms\n",
      "516:\tlearn: 0.0221370\ttotal: 607ms\tremaining: 567ms\n"
     ]
    },
    {
     "name": "stdout",
     "output_type": "stream",
     "text": [
      "517:\tlearn: 0.0220849\ttotal: 608ms\tremaining: 566ms\n",
      "518:\tlearn: 0.0220380\ttotal: 609ms\tremaining: 564ms\n",
      "519:\tlearn: 0.0219967\ttotal: 609ms\tremaining: 562ms\n",
      "520:\tlearn: 0.0219746\ttotal: 610ms\tremaining: 561ms\n",
      "521:\tlearn: 0.0219510\ttotal: 610ms\tremaining: 559ms\n",
      "522:\tlearn: 0.0219117\ttotal: 611ms\tremaining: 557ms\n",
      "523:\tlearn: 0.0218956\ttotal: 611ms\tremaining: 555ms\n",
      "524:\tlearn: 0.0218831\ttotal: 612ms\tremaining: 554ms\n",
      "525:\tlearn: 0.0218391\ttotal: 612ms\tremaining: 552ms\n",
      "526:\tlearn: 0.0218256\ttotal: 613ms\tremaining: 550ms\n",
      "527:\tlearn: 0.0217823\ttotal: 613ms\tremaining: 548ms\n",
      "528:\tlearn: 0.0217690\ttotal: 614ms\tremaining: 547ms\n",
      "529:\tlearn: 0.0217368\ttotal: 615ms\tremaining: 545ms\n",
      "530:\tlearn: 0.0217000\ttotal: 615ms\tremaining: 543ms\n",
      "531:\tlearn: 0.0216622\ttotal: 616ms\tremaining: 542ms\n",
      "532:\tlearn: 0.0216275\ttotal: 616ms\tremaining: 540ms\n",
      "533:\tlearn: 0.0216003\ttotal: 617ms\tremaining: 538ms\n",
      "534:\tlearn: 0.0215833\ttotal: 617ms\tremaining: 536ms\n",
      "535:\tlearn: 0.0215665\ttotal: 618ms\tremaining: 535ms\n",
      "536:\tlearn: 0.0215504\ttotal: 618ms\tremaining: 533ms\n",
      "537:\tlearn: 0.0215348\ttotal: 619ms\tremaining: 531ms\n",
      "538:\tlearn: 0.0215038\ttotal: 619ms\tremaining: 530ms\n",
      "539:\tlearn: 0.0214665\ttotal: 620ms\tremaining: 528ms\n",
      "540:\tlearn: 0.0214342\ttotal: 620ms\tremaining: 526ms\n",
      "541:\tlearn: 0.0213937\ttotal: 621ms\tremaining: 524ms\n",
      "542:\tlearn: 0.0213589\ttotal: 621ms\tremaining: 523ms\n",
      "543:\tlearn: 0.0213231\ttotal: 622ms\tremaining: 521ms\n",
      "544:\tlearn: 0.0212818\ttotal: 622ms\tremaining: 519ms\n",
      "545:\tlearn: 0.0212580\ttotal: 622ms\tremaining: 518ms\n",
      "546:\tlearn: 0.0212428\ttotal: 626ms\tremaining: 518ms\n",
      "547:\tlearn: 0.0212230\ttotal: 627ms\tremaining: 517ms\n",
      "548:\tlearn: 0.0212082\ttotal: 628ms\tremaining: 516ms\n",
      "549:\tlearn: 0.0211889\ttotal: 628ms\tremaining: 514ms\n",
      "550:\tlearn: 0.0211541\ttotal: 630ms\tremaining: 513ms\n",
      "551:\tlearn: 0.0211251\ttotal: 631ms\tremaining: 512ms\n",
      "552:\tlearn: 0.0210930\ttotal: 631ms\tremaining: 510ms\n",
      "553:\tlearn: 0.0210687\ttotal: 631ms\tremaining: 508ms\n",
      "554:\tlearn: 0.0210290\ttotal: 631ms\tremaining: 506ms\n",
      "555:\tlearn: 0.0210066\ttotal: 632ms\tremaining: 504ms\n",
      "556:\tlearn: 0.0209777\ttotal: 632ms\tremaining: 503ms\n",
      "557:\tlearn: 0.0209616\ttotal: 632ms\tremaining: 501ms\n",
      "558:\tlearn: 0.0209336\ttotal: 633ms\tremaining: 499ms\n",
      "559:\tlearn: 0.0209142\ttotal: 633ms\tremaining: 497ms\n",
      "560:\tlearn: 0.0208938\ttotal: 633ms\tremaining: 495ms\n",
      "561:\tlearn: 0.0208678\ttotal: 634ms\tremaining: 494ms\n",
      "562:\tlearn: 0.0208303\ttotal: 634ms\tremaining: 492ms\n",
      "563:\tlearn: 0.0208160\ttotal: 634ms\tremaining: 490ms\n",
      "564:\tlearn: 0.0207921\ttotal: 634ms\tremaining: 488ms\n",
      "565:\tlearn: 0.0207541\ttotal: 635ms\tremaining: 487ms\n",
      "566:\tlearn: 0.0207218\ttotal: 636ms\tremaining: 485ms\n",
      "567:\tlearn: 0.0207079\ttotal: 636ms\tremaining: 484ms\n",
      "568:\tlearn: 0.0206726\ttotal: 636ms\tremaining: 482ms\n",
      "569:\tlearn: 0.0206385\ttotal: 636ms\tremaining: 480ms\n",
      "570:\tlearn: 0.0206028\ttotal: 637ms\tremaining: 478ms\n",
      "571:\tlearn: 0.0205661\ttotal: 637ms\tremaining: 477ms\n",
      "572:\tlearn: 0.0205500\ttotal: 638ms\tremaining: 475ms\n",
      "573:\tlearn: 0.0205354\ttotal: 638ms\tremaining: 473ms\n",
      "574:\tlearn: 0.0205198\ttotal: 638ms\tremaining: 472ms\n",
      "575:\tlearn: 0.0204840\ttotal: 638ms\tremaining: 470ms\n",
      "576:\tlearn: 0.0204688\ttotal: 639ms\tremaining: 468ms\n",
      "577:\tlearn: 0.0204431\ttotal: 639ms\tremaining: 467ms\n",
      "578:\tlearn: 0.0204074\ttotal: 639ms\tremaining: 465ms\n",
      "579:\tlearn: 0.0203901\ttotal: 640ms\tremaining: 463ms\n",
      "580:\tlearn: 0.0203707\ttotal: 640ms\tremaining: 462ms\n",
      "581:\tlearn: 0.0203375\ttotal: 640ms\tremaining: 460ms\n",
      "582:\tlearn: 0.0203140\ttotal: 641ms\tremaining: 458ms\n",
      "583:\tlearn: 0.0202743\ttotal: 641ms\tremaining: 457ms\n",
      "584:\tlearn: 0.0202595\ttotal: 641ms\tremaining: 455ms\n",
      "585:\tlearn: 0.0202293\ttotal: 643ms\tremaining: 454ms\n",
      "586:\tlearn: 0.0201933\ttotal: 643ms\tremaining: 453ms\n",
      "587:\tlearn: 0.0201804\ttotal: 644ms\tremaining: 451ms\n",
      "588:\tlearn: 0.0201497\ttotal: 644ms\tremaining: 449ms\n",
      "589:\tlearn: 0.0201365\ttotal: 645ms\tremaining: 448ms\n",
      "590:\tlearn: 0.0201189\ttotal: 645ms\tremaining: 446ms\n",
      "591:\tlearn: 0.0200884\ttotal: 646ms\tremaining: 445ms\n",
      "592:\tlearn: 0.0200731\ttotal: 648ms\tremaining: 445ms\n",
      "593:\tlearn: 0.0200265\ttotal: 649ms\tremaining: 443ms\n",
      "594:\tlearn: 0.0199982\ttotal: 649ms\tremaining: 442ms\n",
      "595:\tlearn: 0.0199903\ttotal: 650ms\tremaining: 440ms\n"
     ]
    },
    {
     "name": "stdout",
     "output_type": "stream",
     "text": [
      "596:\tlearn: 0.0199832\ttotal: 656ms\tremaining: 443ms\n",
      "597:\tlearn: 0.0199706\ttotal: 657ms\tremaining: 441ms\n",
      "598:\tlearn: 0.0199406\ttotal: 657ms\tremaining: 440ms\n",
      "599:\tlearn: 0.0199262\ttotal: 658ms\tremaining: 438ms\n",
      "600:\tlearn: 0.0198936\ttotal: 658ms\tremaining: 437ms\n",
      "601:\tlearn: 0.0198676\ttotal: 658ms\tremaining: 435ms\n",
      "602:\tlearn: 0.0198538\ttotal: 659ms\tremaining: 434ms\n",
      "603:\tlearn: 0.0198252\ttotal: 659ms\tremaining: 432ms\n",
      "604:\tlearn: 0.0198041\ttotal: 660ms\tremaining: 431ms\n",
      "605:\tlearn: 0.0197880\ttotal: 660ms\tremaining: 429ms\n",
      "606:\tlearn: 0.0197738\ttotal: 667ms\tremaining: 432ms\n",
      "607:\tlearn: 0.0197359\ttotal: 672ms\tremaining: 433ms\n",
      "608:\tlearn: 0.0197200\ttotal: 673ms\tremaining: 432ms\n",
      "609:\tlearn: 0.0196937\ttotal: 674ms\tremaining: 431ms\n",
      "610:\tlearn: 0.0196820\ttotal: 674ms\tremaining: 429ms\n",
      "611:\tlearn: 0.0196543\ttotal: 674ms\tremaining: 428ms\n",
      "612:\tlearn: 0.0196278\ttotal: 675ms\tremaining: 426ms\n",
      "613:\tlearn: 0.0196009\ttotal: 675ms\tremaining: 425ms\n",
      "614:\tlearn: 0.0195861\ttotal: 676ms\tremaining: 423ms\n",
      "615:\tlearn: 0.0195559\ttotal: 676ms\tremaining: 422ms\n",
      "616:\tlearn: 0.0194943\ttotal: 677ms\tremaining: 420ms\n",
      "617:\tlearn: 0.0194825\ttotal: 678ms\tremaining: 419ms\n",
      "618:\tlearn: 0.0194710\ttotal: 678ms\tremaining: 417ms\n",
      "619:\tlearn: 0.0194508\ttotal: 678ms\tremaining: 416ms\n",
      "620:\tlearn: 0.0194130\ttotal: 681ms\tremaining: 416ms\n",
      "621:\tlearn: 0.0193885\ttotal: 682ms\tremaining: 414ms\n",
      "622:\tlearn: 0.0193614\ttotal: 682ms\tremaining: 413ms\n",
      "623:\tlearn: 0.0193578\ttotal: 683ms\tremaining: 411ms\n",
      "624:\tlearn: 0.0193344\ttotal: 683ms\tremaining: 410ms\n",
      "625:\tlearn: 0.0193017\ttotal: 684ms\tremaining: 409ms\n",
      "626:\tlearn: 0.0192894\ttotal: 684ms\tremaining: 407ms\n",
      "627:\tlearn: 0.0192769\ttotal: 685ms\tremaining: 406ms\n",
      "628:\tlearn: 0.0192414\ttotal: 685ms\tremaining: 404ms\n",
      "629:\tlearn: 0.0192276\ttotal: 686ms\tremaining: 403ms\n",
      "630:\tlearn: 0.0192155\ttotal: 686ms\tremaining: 401ms\n",
      "631:\tlearn: 0.0191996\ttotal: 686ms\tremaining: 400ms\n",
      "632:\tlearn: 0.0191673\ttotal: 687ms\tremaining: 398ms\n",
      "633:\tlearn: 0.0191415\ttotal: 687ms\tremaining: 397ms\n",
      "634:\tlearn: 0.0191216\ttotal: 688ms\tremaining: 395ms\n",
      "635:\tlearn: 0.0191021\ttotal: 688ms\tremaining: 394ms\n",
      "636:\tlearn: 0.0190705\ttotal: 689ms\tremaining: 392ms\n",
      "637:\tlearn: 0.0190443\ttotal: 689ms\tremaining: 391ms\n",
      "638:\tlearn: 0.0190151\ttotal: 690ms\tremaining: 390ms\n",
      "639:\tlearn: 0.0189904\ttotal: 690ms\tremaining: 388ms\n",
      "640:\tlearn: 0.0189644\ttotal: 691ms\tremaining: 387ms\n",
      "641:\tlearn: 0.0189493\ttotal: 691ms\tremaining: 385ms\n",
      "642:\tlearn: 0.0189213\ttotal: 691ms\tremaining: 384ms\n",
      "643:\tlearn: 0.0188973\ttotal: 692ms\tremaining: 382ms\n",
      "644:\tlearn: 0.0188656\ttotal: 692ms\tremaining: 381ms\n",
      "645:\tlearn: 0.0188474\ttotal: 693ms\tremaining: 380ms\n",
      "646:\tlearn: 0.0188378\ttotal: 693ms\tremaining: 378ms\n",
      "647:\tlearn: 0.0187922\ttotal: 694ms\tremaining: 377ms\n",
      "648:\tlearn: 0.0187373\ttotal: 694ms\tremaining: 375ms\n",
      "649:\tlearn: 0.0187031\ttotal: 695ms\tremaining: 374ms\n",
      "650:\tlearn: 0.0186761\ttotal: 695ms\tremaining: 373ms\n",
      "651:\tlearn: 0.0186615\ttotal: 696ms\tremaining: 371ms\n",
      "652:\tlearn: 0.0186315\ttotal: 696ms\tremaining: 370ms\n",
      "653:\tlearn: 0.0186215\ttotal: 697ms\tremaining: 369ms\n",
      "654:\tlearn: 0.0185906\ttotal: 697ms\tremaining: 367ms\n",
      "655:\tlearn: 0.0185801\ttotal: 697ms\tremaining: 366ms\n",
      "656:\tlearn: 0.0185569\ttotal: 698ms\tremaining: 364ms\n",
      "657:\tlearn: 0.0185156\ttotal: 698ms\tremaining: 363ms\n",
      "658:\tlearn: 0.0184949\ttotal: 699ms\tremaining: 362ms\n",
      "659:\tlearn: 0.0184697\ttotal: 699ms\tremaining: 360ms\n",
      "660:\tlearn: 0.0184536\ttotal: 700ms\tremaining: 359ms\n",
      "661:\tlearn: 0.0184200\ttotal: 700ms\tremaining: 358ms\n",
      "662:\tlearn: 0.0183984\ttotal: 701ms\tremaining: 356ms\n",
      "663:\tlearn: 0.0183762\ttotal: 702ms\tremaining: 355ms\n",
      "664:\tlearn: 0.0183570\ttotal: 703ms\tremaining: 354ms\n",
      "665:\tlearn: 0.0183318\ttotal: 703ms\tremaining: 353ms\n",
      "666:\tlearn: 0.0183125\ttotal: 704ms\tremaining: 351ms\n",
      "667:\tlearn: 0.0182801\ttotal: 704ms\tremaining: 350ms\n",
      "668:\tlearn: 0.0182622\ttotal: 705ms\tremaining: 349ms\n",
      "669:\tlearn: 0.0182499\ttotal: 705ms\tremaining: 347ms\n",
      "670:\tlearn: 0.0182299\ttotal: 706ms\tremaining: 346ms\n",
      "671:\tlearn: 0.0182179\ttotal: 706ms\tremaining: 345ms\n",
      "672:\tlearn: 0.0181886\ttotal: 706ms\tremaining: 343ms\n",
      "673:\tlearn: 0.0181755\ttotal: 711ms\tremaining: 344ms\n",
      "674:\tlearn: 0.0181622\ttotal: 711ms\tremaining: 343ms\n",
      "675:\tlearn: 0.0181474\ttotal: 712ms\tremaining: 341ms\n",
      "676:\tlearn: 0.0181361\ttotal: 712ms\tremaining: 340ms\n",
      "677:\tlearn: 0.0181185\ttotal: 714ms\tremaining: 339ms\n",
      "678:\tlearn: 0.0181019\ttotal: 715ms\tremaining: 338ms\n",
      "679:\tlearn: 0.0180911\ttotal: 715ms\tremaining: 336ms\n"
     ]
    },
    {
     "name": "stdout",
     "output_type": "stream",
     "text": [
      "680:\tlearn: 0.0180682\ttotal: 723ms\tremaining: 339ms\n",
      "681:\tlearn: 0.0180407\ttotal: 723ms\tremaining: 337ms\n",
      "682:\tlearn: 0.0180265\ttotal: 724ms\tremaining: 336ms\n",
      "683:\tlearn: 0.0180007\ttotal: 724ms\tremaining: 335ms\n",
      "684:\tlearn: 0.0179759\ttotal: 725ms\tremaining: 333ms\n",
      "685:\tlearn: 0.0179487\ttotal: 725ms\tremaining: 332ms\n",
      "686:\tlearn: 0.0179261\ttotal: 725ms\tremaining: 331ms\n",
      "687:\tlearn: 0.0178995\ttotal: 726ms\tremaining: 329ms\n",
      "688:\tlearn: 0.0178787\ttotal: 726ms\tremaining: 328ms\n",
      "689:\tlearn: 0.0178578\ttotal: 727ms\tremaining: 327ms\n",
      "690:\tlearn: 0.0178331\ttotal: 727ms\tremaining: 325ms\n",
      "691:\tlearn: 0.0178133\ttotal: 728ms\tremaining: 324ms\n",
      "692:\tlearn: 0.0177873\ttotal: 730ms\tremaining: 323ms\n",
      "693:\tlearn: 0.0177755\ttotal: 733ms\tremaining: 323ms\n",
      "694:\tlearn: 0.0177549\ttotal: 734ms\tremaining: 322ms\n",
      "695:\tlearn: 0.0177439\ttotal: 735ms\tremaining: 321ms\n",
      "696:\tlearn: 0.0177188\ttotal: 735ms\tremaining: 319ms\n",
      "697:\tlearn: 0.0176874\ttotal: 735ms\tremaining: 318ms\n",
      "698:\tlearn: 0.0176792\ttotal: 736ms\tremaining: 317ms\n",
      "699:\tlearn: 0.0176691\ttotal: 736ms\tremaining: 316ms\n",
      "700:\tlearn: 0.0176437\ttotal: 737ms\tremaining: 314ms\n",
      "701:\tlearn: 0.0176385\ttotal: 737ms\tremaining: 313ms\n",
      "702:\tlearn: 0.0176162\ttotal: 738ms\tremaining: 312ms\n",
      "703:\tlearn: 0.0176056\ttotal: 738ms\tremaining: 310ms\n",
      "704:\tlearn: 0.0175786\ttotal: 739ms\tremaining: 309ms\n",
      "705:\tlearn: 0.0175652\ttotal: 739ms\tremaining: 308ms\n",
      "706:\tlearn: 0.0175533\ttotal: 752ms\tremaining: 312ms\n",
      "707:\tlearn: 0.0175339\ttotal: 752ms\tremaining: 310ms\n",
      "708:\tlearn: 0.0175245\ttotal: 753ms\tremaining: 309ms\n",
      "709:\tlearn: 0.0175148\ttotal: 753ms\tremaining: 308ms\n",
      "710:\tlearn: 0.0175044\ttotal: 753ms\tremaining: 306ms\n",
      "711:\tlearn: 0.0174862\ttotal: 754ms\tremaining: 305ms\n",
      "712:\tlearn: 0.0174715\ttotal: 754ms\tremaining: 304ms\n",
      "713:\tlearn: 0.0174431\ttotal: 755ms\tremaining: 302ms\n",
      "714:\tlearn: 0.0174248\ttotal: 755ms\tremaining: 301ms\n",
      "715:\tlearn: 0.0174131\ttotal: 756ms\tremaining: 300ms\n",
      "716:\tlearn: 0.0173895\ttotal: 756ms\tremaining: 299ms\n",
      "717:\tlearn: 0.0173662\ttotal: 757ms\tremaining: 297ms\n",
      "718:\tlearn: 0.0173422\ttotal: 758ms\tremaining: 296ms\n",
      "719:\tlearn: 0.0173259\ttotal: 760ms\tremaining: 296ms\n",
      "720:\tlearn: 0.0173102\ttotal: 761ms\tremaining: 294ms\n",
      "721:\tlearn: 0.0172853\ttotal: 761ms\tremaining: 293ms\n"
     ]
    },
    {
     "name": "stdout",
     "output_type": "stream",
     "text": [
      "722:\tlearn: 0.0172701\ttotal: 762ms\tremaining: 292ms\n",
      "723:\tlearn: 0.0172584\ttotal: 762ms\tremaining: 291ms\n",
      "724:\tlearn: 0.0172286\ttotal: 763ms\tremaining: 289ms\n",
      "725:\tlearn: 0.0172005\ttotal: 763ms\tremaining: 288ms\n",
      "726:\tlearn: 0.0171701\ttotal: 764ms\tremaining: 287ms\n",
      "727:\tlearn: 0.0171492\ttotal: 765ms\tremaining: 286ms\n",
      "728:\tlearn: 0.0171382\ttotal: 765ms\tremaining: 285ms\n",
      "729:\tlearn: 0.0171235\ttotal: 766ms\tremaining: 283ms\n",
      "730:\tlearn: 0.0170973\ttotal: 766ms\tremaining: 282ms\n",
      "731:\tlearn: 0.0170730\ttotal: 767ms\tremaining: 281ms\n",
      "732:\tlearn: 0.0170537\ttotal: 767ms\tremaining: 280ms\n",
      "733:\tlearn: 0.0170501\ttotal: 768ms\tremaining: 278ms\n",
      "734:\tlearn: 0.0170396\ttotal: 768ms\tremaining: 277ms\n",
      "735:\tlearn: 0.0170162\ttotal: 769ms\tremaining: 276ms\n",
      "736:\tlearn: 0.0170058\ttotal: 770ms\tremaining: 275ms\n",
      "737:\tlearn: 0.0169920\ttotal: 770ms\tremaining: 273ms\n",
      "738:\tlearn: 0.0169876\ttotal: 771ms\tremaining: 272ms\n",
      "739:\tlearn: 0.0169742\ttotal: 771ms\tremaining: 271ms\n",
      "740:\tlearn: 0.0169605\ttotal: 772ms\tremaining: 270ms\n",
      "741:\tlearn: 0.0169427\ttotal: 772ms\tremaining: 268ms\n",
      "742:\tlearn: 0.0169339\ttotal: 773ms\tremaining: 267ms\n",
      "743:\tlearn: 0.0169141\ttotal: 773ms\tremaining: 266ms\n",
      "744:\tlearn: 0.0169045\ttotal: 774ms\tremaining: 265ms\n",
      "745:\tlearn: 0.0168986\ttotal: 774ms\tremaining: 264ms\n",
      "746:\tlearn: 0.0168792\ttotal: 775ms\tremaining: 262ms\n",
      "747:\tlearn: 0.0168629\ttotal: 775ms\tremaining: 261ms\n",
      "748:\tlearn: 0.0168536\ttotal: 776ms\tremaining: 260ms\n",
      "749:\tlearn: 0.0168338\ttotal: 776ms\tremaining: 259ms\n",
      "750:\tlearn: 0.0168244\ttotal: 777ms\tremaining: 258ms\n",
      "751:\tlearn: 0.0168111\ttotal: 778ms\tremaining: 256ms\n",
      "752:\tlearn: 0.0167915\ttotal: 778ms\tremaining: 255ms\n",
      "753:\tlearn: 0.0167835\ttotal: 779ms\tremaining: 254ms\n",
      "754:\tlearn: 0.0167632\ttotal: 779ms\tremaining: 253ms\n",
      "755:\tlearn: 0.0167438\ttotal: 780ms\tremaining: 252ms\n",
      "756:\tlearn: 0.0167351\ttotal: 780ms\tremaining: 250ms\n",
      "757:\tlearn: 0.0167196\ttotal: 781ms\tremaining: 249ms\n",
      "758:\tlearn: 0.0167107\ttotal: 781ms\tremaining: 248ms\n",
      "759:\tlearn: 0.0166940\ttotal: 782ms\tremaining: 247ms\n",
      "760:\tlearn: 0.0166588\ttotal: 782ms\tremaining: 246ms\n",
      "761:\tlearn: 0.0166433\ttotal: 783ms\tremaining: 245ms\n",
      "762:\tlearn: 0.0166333\ttotal: 783ms\tremaining: 243ms\n",
      "763:\tlearn: 0.0166125\ttotal: 784ms\tremaining: 242ms\n",
      "764:\tlearn: 0.0166025\ttotal: 784ms\tremaining: 241ms\n",
      "765:\tlearn: 0.0165798\ttotal: 785ms\tremaining: 240ms\n",
      "766:\tlearn: 0.0165636\ttotal: 785ms\tremaining: 238ms\n",
      "767:\tlearn: 0.0165373\ttotal: 785ms\tremaining: 237ms\n",
      "768:\tlearn: 0.0165243\ttotal: 786ms\tremaining: 236ms\n",
      "769:\tlearn: 0.0165003\ttotal: 786ms\tremaining: 235ms\n",
      "770:\tlearn: 0.0164920\ttotal: 787ms\tremaining: 234ms\n",
      "771:\tlearn: 0.0164769\ttotal: 787ms\tremaining: 232ms\n",
      "772:\tlearn: 0.0164661\ttotal: 788ms\tremaining: 231ms\n",
      "773:\tlearn: 0.0164325\ttotal: 788ms\tremaining: 230ms\n",
      "774:\tlearn: 0.0164162\ttotal: 789ms\tremaining: 229ms\n",
      "775:\tlearn: 0.0164072\ttotal: 789ms\tremaining: 228ms\n",
      "776:\tlearn: 0.0163960\ttotal: 789ms\tremaining: 227ms\n",
      "777:\tlearn: 0.0163864\ttotal: 790ms\tremaining: 226ms\n",
      "778:\tlearn: 0.0163833\ttotal: 796ms\tremaining: 226ms\n",
      "779:\tlearn: 0.0163742\ttotal: 796ms\tremaining: 225ms\n",
      "780:\tlearn: 0.0163525\ttotal: 800ms\tremaining: 224ms\n",
      "781:\tlearn: 0.0163397\ttotal: 801ms\tremaining: 223ms\n",
      "782:\tlearn: 0.0163320\ttotal: 801ms\tremaining: 222ms\n",
      "783:\tlearn: 0.0163127\ttotal: 802ms\tremaining: 221ms\n",
      "784:\tlearn: 0.0163008\ttotal: 803ms\tremaining: 220ms\n",
      "785:\tlearn: 0.0162924\ttotal: 804ms\tremaining: 219ms\n",
      "786:\tlearn: 0.0162875\ttotal: 804ms\tremaining: 218ms\n",
      "787:\tlearn: 0.0162687\ttotal: 804ms\tremaining: 216ms\n",
      "788:\tlearn: 0.0162493\ttotal: 805ms\tremaining: 215ms\n",
      "789:\tlearn: 0.0162255\ttotal: 805ms\tremaining: 214ms\n",
      "790:\tlearn: 0.0162111\ttotal: 805ms\tremaining: 213ms\n",
      "791:\tlearn: 0.0161945\ttotal: 806ms\tremaining: 212ms\n",
      "792:\tlearn: 0.0161805\ttotal: 806ms\tremaining: 210ms\n",
      "793:\tlearn: 0.0161708\ttotal: 806ms\tremaining: 209ms\n",
      "794:\tlearn: 0.0161581\ttotal: 806ms\tremaining: 208ms\n",
      "795:\tlearn: 0.0161405\ttotal: 807ms\tremaining: 207ms\n",
      "796:\tlearn: 0.0161233\ttotal: 807ms\tremaining: 206ms\n",
      "797:\tlearn: 0.0161109\ttotal: 807ms\tremaining: 204ms\n",
      "798:\tlearn: 0.0161076\ttotal: 808ms\tremaining: 203ms\n",
      "799:\tlearn: 0.0160958\ttotal: 808ms\tremaining: 202ms\n",
      "800:\tlearn: 0.0160741\ttotal: 808ms\tremaining: 201ms\n",
      "801:\tlearn: 0.0160628\ttotal: 808ms\tremaining: 200ms\n",
      "802:\tlearn: 0.0160508\ttotal: 809ms\tremaining: 198ms\n",
      "803:\tlearn: 0.0160408\ttotal: 809ms\tremaining: 197ms\n",
      "804:\tlearn: 0.0160165\ttotal: 809ms\tremaining: 196ms\n",
      "805:\tlearn: 0.0159855\ttotal: 810ms\tremaining: 195ms\n",
      "806:\tlearn: 0.0159686\ttotal: 810ms\tremaining: 194ms\n",
      "807:\tlearn: 0.0159587\ttotal: 810ms\tremaining: 193ms\n",
      "808:\tlearn: 0.0159388\ttotal: 811ms\tremaining: 191ms\n",
      "809:\tlearn: 0.0159189\ttotal: 811ms\tremaining: 190ms\n",
      "810:\tlearn: 0.0158927\ttotal: 811ms\tremaining: 189ms\n",
      "811:\tlearn: 0.0158816\ttotal: 812ms\tremaining: 188ms\n",
      "812:\tlearn: 0.0158709\ttotal: 812ms\tremaining: 187ms\n",
      "813:\tlearn: 0.0158513\ttotal: 812ms\tremaining: 186ms\n",
      "814:\tlearn: 0.0158222\ttotal: 812ms\tremaining: 184ms\n",
      "815:\tlearn: 0.0158127\ttotal: 813ms\tremaining: 183ms\n",
      "816:\tlearn: 0.0158001\ttotal: 813ms\tremaining: 182ms\n",
      "817:\tlearn: 0.0157924\ttotal: 813ms\tremaining: 181ms\n",
      "818:\tlearn: 0.0157805\ttotal: 814ms\tremaining: 180ms\n",
      "819:\tlearn: 0.0157769\ttotal: 814ms\tremaining: 179ms\n",
      "820:\tlearn: 0.0157522\ttotal: 814ms\tremaining: 178ms\n",
      "821:\tlearn: 0.0157417\ttotal: 814ms\tremaining: 176ms\n",
      "822:\tlearn: 0.0157322\ttotal: 815ms\tremaining: 175ms\n",
      "823:\tlearn: 0.0157159\ttotal: 815ms\tremaining: 174ms\n",
      "824:\tlearn: 0.0157006\ttotal: 815ms\tremaining: 173ms\n",
      "825:\tlearn: 0.0156834\ttotal: 816ms\tremaining: 172ms\n",
      "826:\tlearn: 0.0156680\ttotal: 816ms\tremaining: 171ms\n",
      "827:\tlearn: 0.0156533\ttotal: 816ms\tremaining: 170ms\n",
      "828:\tlearn: 0.0156237\ttotal: 817ms\tremaining: 168ms\n",
      "829:\tlearn: 0.0156168\ttotal: 817ms\tremaining: 167ms\n",
      "830:\tlearn: 0.0156090\ttotal: 817ms\tremaining: 166ms\n",
      "831:\tlearn: 0.0155967\ttotal: 818ms\tremaining: 165ms\n",
      "832:\tlearn: 0.0155888\ttotal: 818ms\tremaining: 164ms\n",
      "833:\tlearn: 0.0155769\ttotal: 818ms\tremaining: 163ms\n",
      "834:\tlearn: 0.0155671\ttotal: 819ms\tremaining: 162ms\n",
      "835:\tlearn: 0.0155530\ttotal: 819ms\tremaining: 161ms\n",
      "836:\tlearn: 0.0155341\ttotal: 820ms\tremaining: 160ms\n",
      "837:\tlearn: 0.0155088\ttotal: 820ms\tremaining: 159ms\n",
      "838:\tlearn: 0.0155005\ttotal: 821ms\tremaining: 157ms\n",
      "839:\tlearn: 0.0154951\ttotal: 821ms\tremaining: 156ms\n",
      "840:\tlearn: 0.0154785\ttotal: 822ms\tremaining: 155ms\n",
      "841:\tlearn: 0.0154664\ttotal: 822ms\tremaining: 154ms\n",
      "842:\tlearn: 0.0154484\ttotal: 823ms\tremaining: 153ms\n",
      "843:\tlearn: 0.0154337\ttotal: 823ms\tremaining: 152ms\n",
      "844:\tlearn: 0.0154247\ttotal: 824ms\tremaining: 151ms\n",
      "845:\tlearn: 0.0154137\ttotal: 824ms\tremaining: 150ms\n",
      "846:\tlearn: 0.0153981\ttotal: 825ms\tremaining: 149ms\n",
      "847:\tlearn: 0.0153930\ttotal: 825ms\tremaining: 148ms\n",
      "848:\tlearn: 0.0153812\ttotal: 825ms\tremaining: 147ms\n",
      "849:\tlearn: 0.0153662\ttotal: 826ms\tremaining: 146ms\n",
      "850:\tlearn: 0.0153514\ttotal: 826ms\tremaining: 145ms\n",
      "851:\tlearn: 0.0153320\ttotal: 828ms\tremaining: 144ms\n",
      "852:\tlearn: 0.0153146\ttotal: 830ms\tremaining: 143ms\n",
      "853:\tlearn: 0.0153057\ttotal: 833ms\tremaining: 142ms\n",
      "854:\tlearn: 0.0152938\ttotal: 834ms\tremaining: 141ms\n",
      "855:\tlearn: 0.0152751\ttotal: 834ms\tremaining: 140ms\n",
      "856:\tlearn: 0.0152571\ttotal: 835ms\tremaining: 139ms\n",
      "857:\tlearn: 0.0152413\ttotal: 836ms\tremaining: 138ms\n",
      "858:\tlearn: 0.0152265\ttotal: 837ms\tremaining: 137ms\n",
      "859:\tlearn: 0.0152111\ttotal: 838ms\tremaining: 136ms\n",
      "860:\tlearn: 0.0151972\ttotal: 839ms\tremaining: 135ms\n",
      "861:\tlearn: 0.0151946\ttotal: 839ms\tremaining: 134ms\n",
      "862:\tlearn: 0.0151777\ttotal: 840ms\tremaining: 133ms\n",
      "863:\tlearn: 0.0151703\ttotal: 840ms\tremaining: 132ms\n",
      "864:\tlearn: 0.0151633\ttotal: 841ms\tremaining: 131ms\n",
      "865:\tlearn: 0.0151532\ttotal: 843ms\tremaining: 130ms\n",
      "866:\tlearn: 0.0151424\ttotal: 844ms\tremaining: 129ms\n",
      "867:\tlearn: 0.0151325\ttotal: 844ms\tremaining: 128ms\n",
      "868:\tlearn: 0.0151139\ttotal: 845ms\tremaining: 127ms\n",
      "869:\tlearn: 0.0151002\ttotal: 845ms\tremaining: 126ms\n",
      "870:\tlearn: 0.0150899\ttotal: 845ms\tremaining: 125ms\n",
      "871:\tlearn: 0.0150728\ttotal: 845ms\tremaining: 124ms\n",
      "872:\tlearn: 0.0150489\ttotal: 846ms\tremaining: 123ms\n",
      "873:\tlearn: 0.0150402\ttotal: 846ms\tremaining: 122ms\n"
     ]
    },
    {
     "name": "stdout",
     "output_type": "stream",
     "text": [
      "874:\tlearn: 0.0150296\ttotal: 848ms\tremaining: 121ms\n",
      "875:\tlearn: 0.0150042\ttotal: 860ms\tremaining: 122ms\n",
      "876:\tlearn: 0.0149955\ttotal: 863ms\tremaining: 121ms\n",
      "877:\tlearn: 0.0149894\ttotal: 864ms\tremaining: 120ms\n",
      "878:\tlearn: 0.0149824\ttotal: 864ms\tremaining: 119ms\n",
      "879:\tlearn: 0.0149638\ttotal: 865ms\tremaining: 118ms\n",
      "880:\tlearn: 0.0149579\ttotal: 868ms\tremaining: 117ms\n",
      "881:\tlearn: 0.0149487\ttotal: 869ms\tremaining: 116ms\n",
      "882:\tlearn: 0.0149372\ttotal: 870ms\tremaining: 115ms\n",
      "883:\tlearn: 0.0149295\ttotal: 870ms\tremaining: 114ms\n",
      "884:\tlearn: 0.0149232\ttotal: 871ms\tremaining: 113ms\n",
      "885:\tlearn: 0.0149122\ttotal: 871ms\tremaining: 112ms\n",
      "886:\tlearn: 0.0148896\ttotal: 871ms\tremaining: 111ms\n",
      "887:\tlearn: 0.0148748\ttotal: 871ms\tremaining: 110ms\n",
      "888:\tlearn: 0.0148605\ttotal: 873ms\tremaining: 109ms\n",
      "889:\tlearn: 0.0148519\ttotal: 874ms\tremaining: 108ms\n",
      "890:\tlearn: 0.0148427\ttotal: 874ms\tremaining: 107ms\n",
      "891:\tlearn: 0.0148214\ttotal: 875ms\tremaining: 106ms\n",
      "892:\tlearn: 0.0148085\ttotal: 875ms\tremaining: 105ms\n",
      "893:\tlearn: 0.0147998\ttotal: 876ms\tremaining: 104ms\n",
      "894:\tlearn: 0.0147933\ttotal: 877ms\tremaining: 103ms\n",
      "895:\tlearn: 0.0147806\ttotal: 878ms\tremaining: 102ms\n",
      "896:\tlearn: 0.0147654\ttotal: 879ms\tremaining: 101ms\n",
      "897:\tlearn: 0.0147629\ttotal: 880ms\tremaining: 99.9ms\n",
      "898:\tlearn: 0.0147560\ttotal: 880ms\tremaining: 98.9ms\n",
      "899:\tlearn: 0.0147483\ttotal: 881ms\tremaining: 97.8ms\n",
      "900:\tlearn: 0.0147309\ttotal: 881ms\tremaining: 96.8ms\n",
      "901:\tlearn: 0.0147230\ttotal: 882ms\tremaining: 95.8ms\n",
      "902:\tlearn: 0.0147088\ttotal: 882ms\tremaining: 94.8ms\n",
      "903:\tlearn: 0.0146945\ttotal: 882ms\tremaining: 93.7ms\n",
      "904:\tlearn: 0.0146842\ttotal: 883ms\tremaining: 92.7ms\n",
      "905:\tlearn: 0.0146643\ttotal: 883ms\tremaining: 91.6ms\n",
      "906:\tlearn: 0.0146496\ttotal: 883ms\tremaining: 90.6ms\n",
      "907:\tlearn: 0.0146269\ttotal: 884ms\tremaining: 89.5ms\n",
      "908:\tlearn: 0.0146141\ttotal: 884ms\tremaining: 88.5ms\n",
      "909:\tlearn: 0.0146042\ttotal: 885ms\tremaining: 87.5ms\n",
      "910:\tlearn: 0.0145922\ttotal: 885ms\tremaining: 86.4ms\n",
      "911:\tlearn: 0.0145829\ttotal: 885ms\tremaining: 85.4ms\n",
      "912:\tlearn: 0.0145735\ttotal: 885ms\tremaining: 84.4ms\n",
      "913:\tlearn: 0.0145673\ttotal: 886ms\tremaining: 83.3ms\n",
      "914:\tlearn: 0.0145542\ttotal: 886ms\tremaining: 82.3ms\n",
      "915:\tlearn: 0.0145462\ttotal: 886ms\tremaining: 81.3ms\n",
      "916:\tlearn: 0.0145391\ttotal: 887ms\tremaining: 80.2ms\n",
      "917:\tlearn: 0.0145207\ttotal: 890ms\tremaining: 79.5ms\n",
      "918:\tlearn: 0.0145091\ttotal: 891ms\tremaining: 78.5ms\n",
      "919:\tlearn: 0.0145026\ttotal: 892ms\tremaining: 77.5ms\n",
      "920:\tlearn: 0.0144927\ttotal: 892ms\tremaining: 76.5ms\n",
      "921:\tlearn: 0.0144835\ttotal: 892ms\tremaining: 75.5ms\n",
      "922:\tlearn: 0.0144660\ttotal: 893ms\tremaining: 74.5ms\n",
      "923:\tlearn: 0.0144525\ttotal: 893ms\tremaining: 73.5ms\n",
      "924:\tlearn: 0.0144447\ttotal: 894ms\tremaining: 72.5ms\n",
      "925:\tlearn: 0.0144385\ttotal: 894ms\tremaining: 71.5ms\n",
      "926:\tlearn: 0.0144323\ttotal: 895ms\tremaining: 70.5ms\n",
      "927:\tlearn: 0.0144207\ttotal: 895ms\tremaining: 69.5ms\n",
      "928:\tlearn: 0.0143985\ttotal: 896ms\tremaining: 68.5ms\n",
      "929:\tlearn: 0.0143876\ttotal: 896ms\tremaining: 67.5ms\n",
      "930:\tlearn: 0.0143810\ttotal: 904ms\tremaining: 67ms\n"
     ]
    },
    {
     "name": "stdout",
     "output_type": "stream",
     "text": [
      "931:\tlearn: 0.0143753\ttotal: 908ms\tremaining: 66.2ms\n",
      "932:\tlearn: 0.0143565\ttotal: 908ms\tremaining: 65.2ms\n",
      "933:\tlearn: 0.0143416\ttotal: 908ms\tremaining: 64.2ms\n",
      "934:\tlearn: 0.0143293\ttotal: 909ms\tremaining: 63.2ms\n",
      "935:\tlearn: 0.0143239\ttotal: 909ms\tremaining: 62.1ms\n",
      "936:\tlearn: 0.0143054\ttotal: 909ms\tremaining: 61.1ms\n",
      "937:\tlearn: 0.0142866\ttotal: 910ms\tremaining: 60.1ms\n",
      "938:\tlearn: 0.0142773\ttotal: 910ms\tremaining: 59.1ms\n",
      "939:\tlearn: 0.0142738\ttotal: 910ms\tremaining: 58.1ms\n",
      "940:\tlearn: 0.0142621\ttotal: 910ms\tremaining: 57.1ms\n",
      "941:\tlearn: 0.0142563\ttotal: 911ms\tremaining: 56.1ms\n",
      "942:\tlearn: 0.0142487\ttotal: 911ms\tremaining: 55.1ms\n",
      "943:\tlearn: 0.0142365\ttotal: 912ms\tremaining: 54.1ms\n",
      "944:\tlearn: 0.0142311\ttotal: 912ms\tremaining: 53.1ms\n",
      "945:\tlearn: 0.0142194\ttotal: 913ms\tremaining: 52.1ms\n",
      "946:\tlearn: 0.0142120\ttotal: 913ms\tremaining: 51.1ms\n",
      "947:\tlearn: 0.0142056\ttotal: 913ms\tremaining: 50.1ms\n",
      "948:\tlearn: 0.0141947\ttotal: 914ms\tremaining: 49.1ms\n",
      "949:\tlearn: 0.0141831\ttotal: 914ms\tremaining: 48.1ms\n",
      "950:\tlearn: 0.0141752\ttotal: 914ms\tremaining: 47.1ms\n",
      "951:\tlearn: 0.0141657\ttotal: 915ms\tremaining: 46.1ms\n",
      "952:\tlearn: 0.0141606\ttotal: 915ms\tremaining: 45.1ms\n",
      "953:\tlearn: 0.0141381\ttotal: 915ms\tremaining: 44.1ms\n",
      "954:\tlearn: 0.0141348\ttotal: 916ms\tremaining: 43.1ms\n",
      "955:\tlearn: 0.0141235\ttotal: 916ms\tremaining: 42.2ms\n",
      "956:\tlearn: 0.0141058\ttotal: 916ms\tremaining: 41.2ms\n",
      "957:\tlearn: 0.0140974\ttotal: 917ms\tremaining: 40.2ms\n",
      "958:\tlearn: 0.0140871\ttotal: 917ms\tremaining: 39.2ms\n",
      "959:\tlearn: 0.0140722\ttotal: 917ms\tremaining: 38.2ms\n",
      "960:\tlearn: 0.0140593\ttotal: 918ms\tremaining: 37.2ms\n",
      "961:\tlearn: 0.0140383\ttotal: 918ms\tremaining: 36.3ms\n",
      "962:\tlearn: 0.0140324\ttotal: 919ms\tremaining: 35.3ms\n",
      "963:\tlearn: 0.0140124\ttotal: 919ms\tremaining: 34.3ms\n",
      "964:\tlearn: 0.0140065\ttotal: 919ms\tremaining: 33.3ms\n",
      "965:\tlearn: 0.0139895\ttotal: 920ms\tremaining: 32.4ms\n",
      "966:\tlearn: 0.0139730\ttotal: 920ms\tremaining: 31.4ms\n",
      "967:\tlearn: 0.0139656\ttotal: 920ms\tremaining: 30.4ms\n",
      "968:\tlearn: 0.0139524\ttotal: 921ms\tremaining: 29.4ms\n",
      "969:\tlearn: 0.0139486\ttotal: 921ms\tremaining: 28.5ms\n",
      "970:\tlearn: 0.0139392\ttotal: 921ms\tremaining: 27.5ms\n",
      "971:\tlearn: 0.0139335\ttotal: 921ms\tremaining: 26.5ms\n",
      "972:\tlearn: 0.0139281\ttotal: 922ms\tremaining: 25.6ms\n",
      "973:\tlearn: 0.0139109\ttotal: 922ms\tremaining: 24.6ms\n",
      "974:\tlearn: 0.0138999\ttotal: 922ms\tremaining: 23.6ms\n",
      "975:\tlearn: 0.0138774\ttotal: 923ms\tremaining: 22.7ms\n",
      "976:\tlearn: 0.0138664\ttotal: 923ms\tremaining: 21.7ms\n",
      "977:\tlearn: 0.0138606\ttotal: 923ms\tremaining: 20.8ms\n",
      "978:\tlearn: 0.0138515\ttotal: 924ms\tremaining: 19.8ms\n",
      "979:\tlearn: 0.0138420\ttotal: 924ms\tremaining: 18.9ms\n",
      "980:\tlearn: 0.0138350\ttotal: 925ms\tremaining: 17.9ms\n",
      "981:\tlearn: 0.0138259\ttotal: 925ms\tremaining: 17ms\n",
      "982:\tlearn: 0.0138212\ttotal: 926ms\tremaining: 16ms\n",
      "983:\tlearn: 0.0138121\ttotal: 926ms\tremaining: 15.1ms\n",
      "984:\tlearn: 0.0138028\ttotal: 927ms\tremaining: 14.1ms\n",
      "985:\tlearn: 0.0137919\ttotal: 927ms\tremaining: 13.2ms\n",
      "986:\tlearn: 0.0137815\ttotal: 928ms\tremaining: 12.2ms\n",
      "987:\tlearn: 0.0137745\ttotal: 928ms\tremaining: 11.3ms\n",
      "988:\tlearn: 0.0137677\ttotal: 928ms\tremaining: 10.3ms\n",
      "989:\tlearn: 0.0137590\ttotal: 929ms\tremaining: 9.38ms\n",
      "990:\tlearn: 0.0137419\ttotal: 929ms\tremaining: 8.44ms\n",
      "991:\tlearn: 0.0137311\ttotal: 932ms\tremaining: 7.51ms\n",
      "992:\tlearn: 0.0137219\ttotal: 937ms\tremaining: 6.6ms\n",
      "993:\tlearn: 0.0137072\ttotal: 939ms\tremaining: 5.67ms\n",
      "994:\tlearn: 0.0137021\ttotal: 939ms\tremaining: 4.72ms\n",
      "995:\tlearn: 0.0136923\ttotal: 942ms\tremaining: 3.78ms\n",
      "996:\tlearn: 0.0136734\ttotal: 943ms\tremaining: 2.84ms\n",
      "997:\tlearn: 0.0136637\ttotal: 943ms\tremaining: 1.89ms\n",
      "998:\tlearn: 0.0136555\ttotal: 944ms\tremaining: 944us\n",
      "999:\tlearn: 0.0136533\ttotal: 944ms\tremaining: 0us\n"
     ]
    },
    {
     "data": {
      "text/plain": [
       "<catboost.core.CatBoostRegressor at 0x7fbb447129a0>"
      ]
     },
     "execution_count": 9,
     "metadata": {},
     "output_type": "execute_result"
    }
   ],
   "source": [
    "#Train the Model \n",
    "prior_model = ctb.CatBoostRegressor()\n",
    "prior_model.fit(X_train,Y_train)"
   ]
  },
  {
   "cell_type": "code",
   "execution_count": 10,
   "id": "af65dcda",
   "metadata": {
    "execution": {
     "iopub.execute_input": "2022-07-25T04:01:53.968248Z",
     "iopub.status.busy": "2022-07-25T04:01:53.966714Z",
     "iopub.status.idle": "2022-07-25T04:01:54.221446Z",
     "shell.execute_reply": "2022-07-25T04:01:54.207047Z"
    },
    "id": "af65dcda",
    "papermill": {
     "duration": 0.289434,
     "end_time": "2022-07-25T04:01:54.238328",
     "exception": false,
     "start_time": "2022-07-25T04:01:53.948894",
     "status": "completed"
    },
    "tags": []
   },
   "outputs": [
    {
     "data": {
      "application/scrapbook.scrap.json+json": {
       "data": 0.0007570172828735195,
       "encoder": "json",
       "name": "Prior Model MSE",
       "version": 1
      }
     },
     "metadata": {
      "scrapbook": {
       "data": true,
       "display": false,
       "name": "Prior Model MSE"
      }
     },
     "output_type": "display_data"
    },
    {
     "data": {
      "application/scrapbook.scrap.json+json": {
       "data": 0.010706811171238097,
       "encoder": "json",
       "name": "ABC Pre-generator MSE",
       "version": 1
      }
     },
     "metadata": {
      "scrapbook": {
       "data": true,
       "display": false,
       "name": "ABC Pre-generator MSE"
      }
     },
     "output_type": "display_data"
    },
    {
     "data": {
      "application/scrapbook.scrap.json+json": {
       "data": 0.01928663540505767,
       "encoder": "json",
       "name": "Prior Model MAE",
       "version": 1
      }
     },
     "metadata": {
      "scrapbook": {
       "data": true,
       "display": false,
       "name": "Prior Model MAE"
      }
     },
     "output_type": "display_data"
    },
    {
     "name": "stdout",
     "output_type": "stream",
     "text": [
      "Prior Model MAE 0.01928663540505767\n",
      "ABC Pre-generator MAE 0.09923221390265613\n"
     ]
    }
   ],
   "source": [
    "y_pred = prior_model.predict(X_test)\n",
    "y_abc = y_pred + np.random.normal(0,variance, y_pred.shape) + bias \n",
    "mse = mean_squared_error(y_pred,Y_test)\n",
    "sb.glue(\"Prior Model MSE\",mse)\n",
    "mse = mean_squared_error(y_abc,Y_test)\n",
    "sb.glue(\"ABC Pre-generator MSE\",mse)\n",
    "mae = mean_absolute_error(y_pred,Y_test)\n",
    "sb.glue(\"Prior Model MAE\",mae)\n",
    "print(\"Prior Model MAE\",mae)\n",
    "mae = mean_absolute_error(y_abc,Y_test)\n",
    "print(\"ABC Pre-generator MAE\",mae)"
   ]
  },
  {
   "cell_type": "markdown",
   "id": "25609da2",
   "metadata": {
    "papermill": {
     "duration": 0.014224,
     "end_time": "2022-07-25T04:01:54.273320",
     "exception": false,
     "start_time": "2022-07-25T04:01:54.259096",
     "status": "completed"
    },
    "tags": []
   },
   "source": [
    "# mGAN Model"
   ]
  },
  {
   "cell_type": "code",
   "execution_count": 11,
   "id": "dfc3464d",
   "metadata": {
    "execution": {
     "iopub.execute_input": "2022-07-25T04:01:54.329726Z",
     "iopub.status.busy": "2022-07-25T04:01:54.328828Z",
     "iopub.status.idle": "2022-07-25T04:01:54.336014Z",
     "shell.execute_reply": "2022-07-25T04:01:54.334769Z"
    },
    "papermill": {
     "duration": 0.039169,
     "end_time": "2022-07-25T04:01:54.342392",
     "exception": false,
     "start_time": "2022-07-25T04:01:54.303223",
     "status": "completed"
    },
    "tags": []
   },
   "outputs": [],
   "source": [
    "# gen = network.Generator(n_features+1).to(device)\n",
    "# disc = network.Discriminator(n_features+1).to(device)\n",
    "\n",
    "# criterion = torch.nn.BCELoss()\n",
    "# gen_opt = torch.optim.Adam(gen.parameters(), lr=0.01, betas=(0.5, 0.999))\n",
    "# disc_opt = torch.optim.Adam(disc.parameters(), lr=0.01, betas=(0.5, 0.999))"
   ]
  },
  {
   "cell_type": "code",
   "execution_count": 12,
   "id": "b75fdd85",
   "metadata": {
    "execution": {
     "iopub.execute_input": "2022-07-25T04:01:54.387761Z",
     "iopub.status.busy": "2022-07-25T04:01:54.387279Z",
     "iopub.status.idle": "2022-07-25T04:01:54.392811Z",
     "shell.execute_reply": "2022-07-25T04:01:54.391760Z"
    },
    "papermill": {
     "duration": 0.04921,
     "end_time": "2022-07-25T04:01:54.416359",
     "exception": false,
     "start_time": "2022-07-25T04:01:54.367149",
     "status": "completed"
    },
    "tags": []
   },
   "outputs": [],
   "source": [
    "#Training the ABC_GAN \n",
    "# ABC_train_test2.training_GAN(disc,gen,disc_opt,gen_opt,train_data,batch_size,n_epochs,criterion,prior_model,variance,bias,device)"
   ]
  },
  {
   "cell_type": "code",
   "execution_count": 13,
   "id": "1fa7c368",
   "metadata": {
    "execution": {
     "iopub.execute_input": "2022-07-25T04:01:54.532811Z",
     "iopub.status.busy": "2022-07-25T04:01:54.531995Z",
     "iopub.status.idle": "2022-07-25T04:01:54.537255Z",
     "shell.execute_reply": "2022-07-25T04:01:54.535885Z"
    },
    "papermill": {
     "duration": 0.105343,
     "end_time": "2022-07-25T04:01:54.541569",
     "exception": false,
     "start_time": "2022-07-25T04:01:54.436226",
     "status": "completed"
    },
    "tags": []
   },
   "outputs": [],
   "source": [
    "# ABC_GAN1_metrics=ABC_train_test2.test_generator(gen,test_data,prior_model,variance,bias,\"1\",device)\n",
    "# sb.glue(\"ABC_GAN_1 Metrics\",ABC_GAN1_metrics)\n",
    "\n",
    "# print(\"MAE\")\n",
    "# print(mean(ABC_GAN1_metrics[1]))"
   ]
  },
  {
   "cell_type": "code",
   "execution_count": 14,
   "id": "eb22ce5c",
   "metadata": {
    "execution": {
     "iopub.execute_input": "2022-07-25T04:01:54.604578Z",
     "iopub.status.busy": "2022-07-25T04:01:54.603794Z",
     "iopub.status.idle": "2022-07-25T04:01:54.609988Z",
     "shell.execute_reply": "2022-07-25T04:01:54.608331Z"
    },
    "papermill": {
     "duration": 0.061316,
     "end_time": "2022-07-25T04:01:54.616764",
     "exception": false,
     "start_time": "2022-07-25T04:01:54.555448",
     "status": "completed"
    },
    "tags": []
   },
   "outputs": [],
   "source": [
    "# sanityChecks.discProbVsError(train_data,disc,device)\n",
    "# sanityChecks.discProbVsError(test_data,disc,device)"
   ]
  },
  {
   "cell_type": "markdown",
   "id": "14da58ac",
   "metadata": {
    "papermill": {
     "duration": 0.017361,
     "end_time": "2022-07-25T04:01:54.649019",
     "exception": false,
     "start_time": "2022-07-25T04:01:54.631658",
     "status": "completed"
    },
    "tags": []
   },
   "source": [
    "# mGAN Model with TabNet Generator"
   ]
  },
  {
   "cell_type": "code",
   "execution_count": 15,
   "id": "66a213c3",
   "metadata": {
    "execution": {
     "iopub.execute_input": "2022-07-25T04:01:54.702663Z",
     "iopub.status.busy": "2022-07-25T04:01:54.701741Z",
     "iopub.status.idle": "2022-07-25T04:01:54.741363Z",
     "shell.execute_reply": "2022-07-25T04:01:54.729757Z"
    },
    "papermill": {
     "duration": 0.087865,
     "end_time": "2022-07-25T04:01:54.759114",
     "exception": false,
     "start_time": "2022-07-25T04:01:54.671249",
     "status": "completed"
    },
    "tags": []
   },
   "outputs": [],
   "source": [
    "gen2 = network.GeneratorTabnet(n_features+1).to(device)\n",
    "disc2 = network.Discriminator(n_features+1).to(device)\n",
    "\n",
    "criterion = torch.nn.BCELoss()\n",
    "gen_opt = torch.optim.Adam(gen2.parameters(), lr=0.01, betas=(0.5, 0.999))\n",
    "disc_opt = torch.optim.Adam(disc2.parameters(), lr=0.01, betas=(0.5, 0.999))"
   ]
  },
  {
   "cell_type": "code",
   "execution_count": 16,
   "id": "ad020683",
   "metadata": {
    "execution": {
     "iopub.execute_input": "2022-07-25T04:01:54.806147Z",
     "iopub.status.busy": "2022-07-25T04:01:54.805704Z",
     "iopub.status.idle": "2022-07-25T04:20:13.303266Z",
     "shell.execute_reply": "2022-07-25T04:20:13.301416Z"
    },
    "papermill": {
     "duration": 1098.522021,
     "end_time": "2022-07-25T04:20:13.308895",
     "exception": false,
     "start_time": "2022-07-25T04:01:54.786874",
     "status": "completed"
    },
    "tags": []
   },
   "outputs": [
    {
     "data": {
      "image/png": "[encoded data removed]",
      "text/plain": [
       "<Figure size 432x288 with 1 Axes>"
      ]
     },
     "metadata": {
      "needs_background": "light"
     },
     "output_type": "display_data"
    },
    {
     "data": {
      "image/png": "[encoded data removed]",
      "text/plain": [
       "<Figure size 432x288 with 1 Axes>"
      ]
     },
     "metadata": {
      "needs_background": "light"
     },
     "output_type": "display_data"
    }
   ],
   "source": [
    "#Training the ABC_GAN \n",
    "ABC_train_test2.training_GAN(disc2,gen2,disc_opt,gen_opt,train_data,batch_size,n_epochs,criterion,prior_model,variance,bias,device)"
   ]
  },
  {
   "cell_type": "code",
   "execution_count": 17,
   "id": "dd0aa57b",
   "metadata": {
    "execution": {
     "iopub.execute_input": "2022-07-25T04:20:13.354460Z",
     "iopub.status.busy": "2022-07-25T04:20:13.353496Z",
     "iopub.status.idle": "2022-07-25T04:20:15.487185Z",
     "shell.execute_reply": "2022-07-25T04:20:15.485920Z"
    },
    "papermill": {
     "duration": 2.166994,
     "end_time": "2022-07-25T04:20:15.491519",
     "exception": false,
     "start_time": "2022-07-25T04:20:13.324525",
     "status": "completed"
    },
    "tags": []
   },
   "outputs": [
    {
     "data": {
      "application/scrapbook.scrap.json+json": {
       "data": 0.002221461231774427,
       "encoder": "json",
       "name": "ABC-GAN Model 1 MSE",
       "version": 1
      }
     },
     "metadata": {
      "scrapbook": {
       "data": true,
       "display": false,
       "name": "ABC-GAN Model 1 MSE"
      }
     },
     "output_type": "display_data"
    },
    {
     "data": {
      "application/scrapbook.scrap.json+json": {
       "data": 0.034206308151123584,
       "encoder": "json",
       "name": "ABC-GAN Model 1 MAE",
       "version": 1
      }
     },
     "metadata": {
      "scrapbook": {
       "data": true,
       "display": false,
       "name": "ABC-GAN Model 1 MAE"
      }
     },
     "output_type": "display_data"
    },
    {
     "data": {
      "application/scrapbook.scrap.json+json": {
       "data": 5.267771455273032,
       "encoder": "json",
       "name": "ABC-GAN Model 1 Manhattan Distance",
       "version": 1
      }
     },
     "metadata": {
      "scrapbook": {
       "data": true,
       "display": false,
       "name": "ABC-GAN Model 1 Manhattan Distance"
      }
     },
     "output_type": "display_data"
    },
    {
     "data": {
      "application/scrapbook.scrap.json+json": {
       "data": 0.5848520379520238,
       "encoder": "json",
       "name": "ABC-GAN Model 1 Euclidean distance",
       "version": 1
      }
     },
     "metadata": {
      "scrapbook": {
       "data": true,
       "display": false,
       "name": "ABC-GAN Model 1 Euclidean distance"
      }
     },
     "output_type": "display_data"
    },
    {
     "data": {
      "application/scrapbook.scrap.json+json": {
       "data": [
        [
         0.0021990015500094103,
         0.0021955478436906702,
         0.0022804228520152295,
         0.0022943741182865278,
         0.002202810201198882,
         0.002225050639074791,
         0.002255591050758727,
         0.002273209065890425,
         0.0021024304431915765,
         0.002254732650064663,
         0.0023131208903633734,
         0.002302983352827229,
         0.002294350573145537,
         0.002234433298626214,
         0.0022482486928815473,
         0.0021900926548829233,
         0.0022047510656252414,
         0.0022548992155370855,
         0.0022553094649836536,
         0.0022142771378982113,
         0.002206944838820501,
         0.0021813171598708734,
         0.002193692064651858,
         0.0021945939408685652,
         0.002236852767697891,
         0.0022072824503311657,
         0.0022588580028822477,
         0.0022107874803438364,
         0.0021646979689309877,
         0.002153569492844489,
         0.002124561445026279,
         0.002412378488077578,
         0.002240497711942438,
         0.0021468771915778015,
         0.002176861680455138,
         0.0023528659594095397,
         0.002285015890260814,
         0.0022473256933847447,
         0.00219378185659053,
         0.002259535028726793,
         0.0022678873580995688,
         0.0021933377217504563,
         0.0022266723965866445,
         0.0022072582187714993,
         0.002222325742855965,
         0.0022405442479504606,
         0.0021748236967009615,
         0.0022922109454995296,
         0.002247416241595452,
         0.0022744489447109727,
         0.002208486152151671,
         0.002116673060386371,
         0.0022064129681494643,
         0.0022791592515373684,
         0.0021893069847468173,
         0.0021688342570678172,
         0.0022397895243201236,
         0.0022253069638504233,
         0.0022496146958911746,
         0.0022849784300121054,
         0.0022090290577272804,
         0.002160278289855364,
         0.0021927308629207318,
         0.0021604179914881025,
         0.0021629340112907704,
         0.002195665611059384,
         0.002140224331951662,
         0.002234242552747969,
         0.002107765277272214,
         0.002322806897967981,
         0.002181155915583358,
         0.0021333017998969956,
         0.0022525939404457107,
         0.002244472967356941,
         0.0022378934439378443,
         0.00218958350618604,
         0.002211680909205645,
         0.0022204116566139675,
         0.0022205072865162513,
         0.002263928291305904,
         0.0021843617298051405,
         0.002139927710304412,
         0.0022152917312892786,
         0.002240833612402686,
         0.0022265808902215125,
         0.0021555510906353017,
         0.002261422213613233,
         0.002152218924942829,
         0.0022445711182027734,
         0.0022666849448705053,
         0.0022767048145876565,
         0.002214691623047861,
         0.002192039430880794,
         0.0022656795132433133,
         0.00219587061158262,
         0.002154120360283935,
         0.0021386135155122008,
         0.0021994383980624204,
         0.0022312101284230664,
         0.0023892645379202247
        ],
        [
         0.0339653164922417,
         0.033567657670030344,
         0.03505977572171719,
         0.03458548414629775,
         0.03390633929278943,
         0.03401734965381684,
         0.035213023859572104,
         0.03498811008674758,
         0.03324159041240618,
         0.03486602371195694,
         0.034694560017291605,
         0.034810371455047034,
         0.03448068708568424,
         0.03424055448600224,
         0.03447470489841003,
         0.03437631074097249,
         0.034117643467404625,
         0.034911850539894845,
         0.03416143599655721,
         0.03383694908448628,
         0.03421520407904278,
         0.03319109308642226,
         0.033343655190297534,
         0.033835762555336026,
         0.033929176773730814,
         0.034641347051440896,
         0.03452690323064854,
         0.033637475899674675,
         0.03313291488916843,
         0.03416733017989567,
         0.03336608690487874,
         0.03558004362049041,
         0.03446138843700483,
         0.03392485325986689,
         0.03397098710978186,
         0.034678919700446065,
         0.034283164937000773,
         0.0347684473766909,
         0.03422648091981938,
         0.03441243018809851,
         0.034227198255913596,
         0.03400395118764469,
         0.03477860653361717,
         0.034563956419368845,
         0.03433498672463677,
         0.034410320609420925,
         0.03394679163957571,
         0.03499461821727939,
         0.03448509889376628,
         0.03456601674680586,
         0.03413271207314033,
         0.0331545290718605,
         0.033654568160509137,
         0.03426998263442671,
         0.03407107395204631,
         0.03335672505683713,
         0.03452973353204789,
         0.03429949970601441,
         0.03449304895354556,
         0.034727682976366636,
         0.034086907645324606,
         0.03353857070014074,
         0.033934334462339226,
         0.03346934063094003,
         0.033354531780078814,
         0.03380730627225591,
         0.033797124618446674,
         0.03464843864951815,
         0.03307861641242907,
         0.03488421348201764,
         0.03377653566467297,
         0.033545622481154155,
         0.034653187620562395,
         0.03460022124957729,
         0.03427549098412712,
         0.03384486527799012,
         0.034249866308716986,
         0.03349540082665233,
         0.034005721813285504,
         0.034352775082572715,
         0.03379541277498394,
         0.033351571383801376,
         0.03396692673687811,
         0.03534841140756359,
         0.03390339273330453,
         0.034473416093107945,
         0.03450934874353471,
         0.034086685966361656,
         0.03498770780377574,
         0.03503365345396005,
         0.03484385160656719,
         0.03465494852174412,
         0.03394152359528975,
         0.03417092663320628,
         0.03386050583673762,
         0.03347464147713277,
         0.033485482313803265,
         0.034540828220643006,
         0.0342746517778217,
         0.0357173505154523
        ],
        [
         5.230658739805222,
         5.169419281184673,
         5.399205461144447,
         5.326164558529854,
         5.221576251089573,
         5.238671846687794,
         5.4228056743741035,
         5.388168953359127,
         5.1192049235105515,
         5.369367651641369,
         5.342962242662907,
         5.360797204077244,
         5.3100258111953735,
         5.273045390844345,
         5.3091045543551445,
         5.293951854109764,
         5.254117093980312,
         5.3764249831438065,
         5.2608611434698105,
         5.210890159010887,
         5.269141428172588,
         5.111428335309029,
         5.1349228993058205,
         5.210707433521748,
         5.225093223154545,
         5.334767445921898,
         5.317143097519875,
         5.1801712885499,
         5.102468892931938,
         5.261768847703934,
         5.138377383351326,
         5.479326717555523,
         5.307053819298744,
         5.224427402019501,
         5.231532014906406,
         5.340553633868694,
         5.279607400298119,
         5.354340896010399,
         5.2708780616521835,
         5.299514248967171,
         5.270988531410694,
         5.236608482897282,
         5.355905406177044,
         5.322849288582802,
         5.287587955594063,
         5.2991893738508224,
         5.227805912494659,
         5.389171205461025,
         5.310705229640007,
         5.323166579008102,
         5.256437659263611,
         5.105797477066517,
         5.182803496718407,
         5.277577325701714,
         5.246945388615131,
         5.136935658752918,
         5.317578963935375,
         5.282122954726219,
         5.311929538846016,
         5.348063178360462,
         5.24938377737999,
         5.164939887821674,
         5.225887507200241,
         5.154278457164764,
         5.136597894132137,
         5.20632516592741,
         5.2047571912407875,
         5.335859552025795,
         5.094106927514076,
         5.372168876230717,
         5.201586492359638,
         5.16602586209774,
         5.336590893566608,
         5.328434072434902,
         5.278425611555576,
         5.212109252810478,
         5.274479411542416,
         5.158291727304459,
         5.236881159245968,
         5.290327362716198,
         5.2044935673475266,
         5.1361419931054115,
         5.230906717479229,
         5.443655356764793,
         5.221122480928898,
         5.308906078338623,
         5.314439706504345,
         5.2493496388196945,
         5.388107001781464,
         5.395182631909847,
         5.365953147411346,
         5.336862072348595,
         5.226994633674622,
         5.262322701513767,
         5.2145178988575935,
         5.155094787478447,
         5.156764276325703,
         5.319287545979023,
         5.278296373784542,
         5.500471979379654
        ],
        [
         0.5819331909261141,
         0.5814760252395306,
         0.5926087404100157,
         0.5944187196043924,
         0.5824369244687598,
         0.5853697962976205,
         0.5893734145826769,
         0.5916706821764329,
         0.5690116767268514,
         0.5892612562437464,
         0.5968422045364751,
         0.5955329011359434,
         0.594415669598651,
         0.586602700290782,
         0.5884133740014398,
         0.5807531909959429,
         0.5826934563784694,
         0.5892830213002163,
         0.589336625034863,
         0.5839509219414972,
         0.5829832803591859,
         0.5795885114631885,
         0.5812302280132944,
         0.5813496941546964,
         0.5869202043084522,
         0.5830278701322944,
         0.58980007836882,
         0.5834905928744274,
         0.5773763826269414,
         0.5758903557953122,
         0.5719986560596511,
         0.609513155857974,
         0.587398201937268,
         0.5749948586752593,
         0.5789962856444688,
         0.6019479693038835,
         0.5932052318550177,
         0.5882925775337053,
         0.5812421233143221,
         0.5898884593072882,
         0.5909777095181624,
         0.5811832836116075,
         0.5855830846893917,
         0.5830246698818249,
         0.5850112515155743,
         0.5874043021500361,
         0.5787251932410996,
         0.5941384397654537,
         0.5883044290209786,
         0.5918320179624366,
         0.5831868203512124,
         0.5709357681031214,
         0.5829130270417856,
         0.5924445330465585,
         0.5806490124429817,
         0.5779277425322683,
         0.5873053607326423,
         0.5854035124877244,
         0.5885921025355683,
         0.5932003693709775,
         0.5832584974863214,
         0.5767866647537251,
         0.581102876339287,
         0.5768053143732015,
         0.5771410899760808,
         0.5814916199767157,
         0.5741032547552365,
         0.5865776616298879,
         0.5697331416548637,
         0.5980905134568422,
         0.5795670893001406,
         0.5731740374302882,
         0.5889817202839486,
         0.5879190734896844,
         0.5870567181852432,
         0.5806856808572518,
         0.5836084817903774,
         0.5847592625333531,
         0.5847718547634647,
         0.5904616472397757,
         0.5799928502921321,
         0.5740634698244432,
         0.5840846913064482,
         0.5874422323173689,
         0.5855710521312618,
         0.576155246403117,
         0.5901347480842302,
         0.5757097484333539,
         0.5879319282053214,
         0.590821023246514,
         0.5921254440120768,
         0.5840055735601936,
         0.5810112497668546,
         0.5906899737082646,
         0.5815187651174496,
         0.5759640053716256,
         0.5738871678203643,
         0.5819909907392148,
         0.5861794603849168,
         0.6065861347242572
        ]
       ],
       "encoder": "json",
       "name": "ABC_GAN_2 Metrics",
       "version": 1
      }
     },
     "metadata": {
      "scrapbook": {
       "data": true,
       "display": false,
       "name": "ABC_GAN_2 Metrics"
      }
     },
     "output_type": "display_data"
    },
    {
     "name": "stdout",
     "output_type": "stream",
     "text": [
      "MAE\n",
      "0.034206308151123584\n"
     ]
    }
   ],
   "source": [
    "ABC_GAN2_metrics=ABC_train_test2.test_generator(gen2,test_data,prior_model,variance,bias,\"1\",device)\n",
    "sb.glue(\"ABC_GAN_2 Metrics\",ABC_GAN2_metrics)\n",
    "\n",
    "print(\"MAE\")\n",
    "print(mean(ABC_GAN2_metrics[1]))"
   ]
  },
  {
   "cell_type": "code",
   "execution_count": 18,
   "id": "1e2a5724",
   "metadata": {
    "execution": {
     "iopub.execute_input": "2022-07-25T04:20:15.523059Z",
     "iopub.status.busy": "2022-07-25T04:20:15.522294Z",
     "iopub.status.idle": "2022-07-25T04:20:16.600925Z",
     "shell.execute_reply": "2022-07-25T04:20:16.599591Z"
    },
    "papermill": {
     "duration": 1.097807,
     "end_time": "2022-07-25T04:20:16.603746",
     "exception": false,
     "start_time": "2022-07-25T04:20:15.505939",
     "status": "completed"
    },
    "tags": []
   },
   "outputs": [
    {
     "data": {
      "image/png": "[encoded data removed]",
      "text/plain": [
       "<Figure size 432x288 with 1 Axes>"
      ]
     },
     "metadata": {
      "needs_background": "light"
     },
     "output_type": "display_data"
    },
    {
     "data": {
      "image/png": "[encoded data removed]",
      "text/plain": [
       "<Figure size 432x288 with 1 Axes>"
      ]
     },
     "metadata": {
      "needs_background": "light"
     },
     "output_type": "display_data"
    },
    {
     "data": {
      "image/png": "[encoded data removed]",
      "text/plain": [
       "<Figure size 432x288 with 1 Axes>"
      ]
     },
     "metadata": {
      "needs_background": "light"
     },
     "output_type": "display_data"
    },
    {
     "data": {
      "image/png": "[encoded data removed]",
      "text/plain": [
       "<Figure size 432x288 with 1 Axes>"
      ]
     },
     "metadata": {
      "needs_background": "light"
     },
     "output_type": "display_data"
    }
   ],
   "source": [
    "sanityChecks.discProbVsError(train_data,disc2,device)\n",
    "sanityChecks.discProbVsError(test_data,disc2,device)"
   ]
  },
  {
   "cell_type": "markdown",
   "id": "130f3a4d",
   "metadata": {
    "id": "130f3a4d",
    "papermill": {
     "duration": 0.017076,
     "end_time": "2022-07-25T04:20:16.636689",
     "exception": false,
     "start_time": "2022-07-25T04:20:16.619613",
     "status": "completed"
    },
    "tags": []
   },
   "source": [
    "# skipGAN Model"
   ]
  },
  {
   "cell_type": "code",
   "execution_count": 19,
   "id": "4e43dad1",
   "metadata": {
    "execution": {
     "iopub.execute_input": "2022-07-25T04:20:16.673713Z",
     "iopub.status.busy": "2022-07-25T04:20:16.673322Z",
     "iopub.status.idle": "2022-07-25T04:20:16.687953Z",
     "shell.execute_reply": "2022-07-25T04:20:16.684945Z"
    },
    "id": "4e43dad1",
    "papermill": {
     "duration": 0.039398,
     "end_time": "2022-07-25T04:20:16.692356",
     "exception": false,
     "start_time": "2022-07-25T04:20:16.652958",
     "status": "completed"
    },
    "tags": []
   },
   "outputs": [],
   "source": [
    "#Generator\n",
    "gen3 = network.GeneratorWithSkipConnection(n_features+1).to(device)\n",
    "constraints=network.weightConstraint()\n",
    "#Discriminator \n",
    "disc3 = network.Discriminator(n_features+1).to(device)\n",
    "\n",
    "criterion = torch.nn.BCELoss()\n",
    "gen_opt = torch.optim.Adam(gen3.parameters(), lr=0.01, betas=(0.5, 0.999))\n",
    "disc_opt = torch.optim.Adam(disc3.parameters(), lr=0.01, betas=(0.5, 0.999))\n"
   ]
  },
  {
   "cell_type": "code",
   "execution_count": 20,
   "id": "26acbc37",
   "metadata": {
    "execution": {
     "iopub.execute_input": "2022-07-25T04:20:16.728872Z",
     "iopub.status.busy": "2022-07-25T04:20:16.728320Z",
     "iopub.status.idle": "2022-07-25T04:28:14.999753Z",
     "shell.execute_reply": "2022-07-25T04:28:14.996507Z"
    },
    "id": "26acbc37",
    "papermill": {
     "duration": 478.296248,
     "end_time": "2022-07-25T04:28:15.005298",
     "exception": false,
     "start_time": "2022-07-25T04:20:16.709050",
     "status": "completed"
    },
    "tags": []
   },
   "outputs": [
    {
     "data": {
      "image/png": "[encoded data removed]",
      "text/plain": [
       "<Figure size 432x288 with 1 Axes>"
      ]
     },
     "metadata": {
      "needs_background": "light"
     },
     "output_type": "display_data"
    },
    {
     "data": {
      "image/png": "[encoded data removed]",
      "text/plain": [
       "<Figure size 432x288 with 1 Axes>"
      ]
     },
     "metadata": {
      "needs_background": "light"
     },
     "output_type": "display_data"
    }
   ],
   "source": [
    "ABC_train_test2.training_GAN_skip_connection(disc3,gen3,disc_opt,gen_opt,train_data,batch_size,n_epochs,criterion,prior_model,variance,bias,device)"
   ]
  },
  {
   "cell_type": "code",
   "execution_count": 21,
   "id": "c5e0717b",
   "metadata": {
    "execution": {
     "iopub.execute_input": "2022-07-25T04:28:15.056798Z",
     "iopub.status.busy": "2022-07-25T04:28:15.055658Z",
     "iopub.status.idle": "2022-07-25T04:28:17.142110Z",
     "shell.execute_reply": "2022-07-25T04:28:17.141039Z"
    },
    "id": "c5e0717b",
    "papermill": {
     "duration": 2.116067,
     "end_time": "2022-07-25T04:28:17.144815",
     "exception": false,
     "start_time": "2022-07-25T04:28:15.028748",
     "status": "completed"
    },
    "tags": []
   },
   "outputs": [
    {
     "data": {
      "application/scrapbook.scrap.json+json": {
       "data": 0.0025268145945295225,
       "encoder": "json",
       "name": "ABC-GAN Model 3 MSE",
       "version": 1
      }
     },
     "metadata": {
      "scrapbook": {
       "data": true,
       "display": false,
       "name": "ABC-GAN Model 3 MSE"
      }
     },
     "output_type": "display_data"
    },
    {
     "data": {
      "application/scrapbook.scrap.json+json": {
       "data": 0.04000005232387936,
       "encoder": "json",
       "name": "ABC-GAN Model 3 MAE",
       "version": 1
      }
     },
     "metadata": {
      "scrapbook": {
       "data": true,
       "display": false,
       "name": "ABC-GAN Model 3 MAE"
      }
     },
     "output_type": "display_data"
    },
    {
     "data": {
      "application/scrapbook.scrap.json+json": {
       "data": 6.1600080578774215,
       "encoder": "json",
       "name": "ABC-GAN Model 3 Manhattan Distance",
       "version": 1
      }
     },
     "metadata": {
      "scrapbook": {
       "data": true,
       "display": false,
       "name": "ABC-GAN Model 3 Manhattan Distance"
      }
     },
     "output_type": "display_data"
    },
    {
     "data": {
      "application/scrapbook.scrap.json+json": {
       "data": 0.6237493760880404,
       "encoder": "json",
       "name": "ABC-GAN Model 3 Euclidean distance",
       "version": 1
      }
     },
     "metadata": {
      "scrapbook": {
       "data": true,
       "display": false,
       "name": "ABC-GAN Model 3 Euclidean distance"
      }
     },
     "output_type": "display_data"
    },
    {
     "data": {
      "application/scrapbook.scrap.json+json": {
       "data": [
        [
         0.0025049391947324657,
         0.0025091604492695208,
         0.0025066785630347413,
         0.0025083557450040184,
         0.002585937870471646,
         0.0026752533886025267,
         0.002596798413329003,
         0.0025649251663248437,
         0.0025153620418681996,
         0.002397012077671538,
         0.002515705664755092,
         0.0024777251347812995,
         0.0024812593984360806,
         0.0026036094285919855,
         0.002398749659270229,
         0.0024663144114003945,
         0.0025902188300294914,
         0.0025493134345393556,
         0.002551860593810681,
         0.002406346865263164,
         0.002542665068687624,
         0.0026358890584772363,
         0.002473624709972332,
         0.0025385182455338784,
         0.002529504001664899,
         0.002525427267335991,
         0.0025280352840227204,
         0.002473033586220936,
         0.002575834646539482,
         0.00247387185489732,
         0.002540144703441404,
         0.0025435352009031825,
         0.0026091218547129045,
         0.0024700466435760462,
         0.0024103518020859634,
         0.0026156456787162683,
         0.002507370406668807,
         0.002476118286085125,
         0.0025167692277616115,
         0.0024410683725924124,
         0.0026529822476838495,
         0.0026832369650036407,
         0.002613742816039786,
         0.00245823228914111,
         0.00243960615532124,
         0.0025217547355772933,
         0.0023691370634913167,
         0.0025414933859666073,
         0.0024608901858244625,
         0.002509266348637253,
         0.002514522774755912,
         0.0024558026722101803,
         0.002516859363189349,
         0.002568232093124114,
         0.0025429490813353986,
         0.0025497703070288414,
         0.002507422275865614,
         0.0025833696576623134,
         0.002553026479852741,
         0.002487816429956911,
         0.002456620979917726,
         0.0024977168809396186,
         0.0024687915135555107,
         0.0025184429668866394,
         0.0025991089353439656,
         0.0026291022012133996,
         0.002537023343669188,
         0.0025875301063031774,
         0.00242583856390661,
         0.002635361819460251,
         0.0025497232654210058,
         0.0025685376867226367,
         0.002575817747927295,
         0.0025264552718013795,
         0.0025681477521024235,
         0.002500462026691825,
         0.00259119275093966,
         0.0026372308390539825,
         0.002463313390335427,
         0.002572570094453675,
         0.002449926945491582,
         0.002660998710798083,
         0.0026297244652561174,
         0.0024899764411847143,
         0.0024618889740223968,
         0.0024474145117727377,
         0.002537458279749353,
         0.0025337328985752753,
         0.002531027714315262,
         0.0025963878455242334,
         0.00254432209274992,
         0.002434812005340925,
         0.002453885509063626,
         0.0024750005807549036,
         0.002456702210723591,
         0.00247209485007867,
         0.002607077919608215,
         0.0025487211807185585,
         0.002566003295370161,
         0.0025130993264581747
        ],
        [
         0.03964406851824228,
         0.03944237027075383,
         0.03922648036054203,
         0.03985787753934984,
         0.04047998616641218,
         0.04167017737379322,
         0.040501890583084774,
         0.04074012570373424,
         0.039579783602581395,
         0.03823748656681606,
         0.03930360035269291,
         0.039962648909974405,
         0.03919996635673882,
         0.04027210146962822,
         0.03898692929318973,
         0.039856894498134586,
         0.039965756866451985,
         0.04005627532477503,
         0.04024880935812925,
         0.038843434981324455,
         0.039983074241257334,
         0.040815843293419134,
         0.04008396903609301,
         0.039693973813351095,
         0.04073569444673402,
         0.03907513163693539,
         0.04015457683375904,
         0.03943139595257771,
         0.04078936876801701,
         0.03973791303185673,
         0.04007562109595769,
         0.03986440265139976,
         0.04035175248206436,
         0.039343159258752675,
         0.03951461409980601,
         0.04099638769765953,
         0.03989693125734081,
         0.03956760456422707,
         0.04035915211810694,
         0.03934470109351269,
         0.04141949746128801,
         0.04079189983668265,
         0.04071287651147161,
         0.040193843086818594,
         0.03950239679256043,
         0.040303472864937476,
         0.0388535370977668,
         0.04068378634847604,
         0.039597182401588986,
         0.03946752062478623,
         0.03959232844509088,
         0.03832669730310316,
         0.03999087238660107,
         0.04041758571545799,
         0.0403565772168048,
         0.040317978371273384,
         0.04043808458493901,
         0.040593780770704344,
         0.04001643769926839,
         0.03964665261181918,
         0.03955889023937188,
         0.04008552765884957,
         0.03940331931044529,
         0.03980172067493588,
         0.04084954667207483,
         0.04064984280954708,
         0.04012475617520221,
         0.040836018256165764,
         0.038769718840137704,
         0.04106242001637236,
         0.04059073638606381,
         0.04080163968073857,
         0.040580563343964614,
         0.039260536432266235,
         0.0403675316506392,
         0.039557660409769456,
         0.04064478197848642,
         0.04061023953866649,
         0.039173796289152914,
         0.040632018359837596,
         0.03941855120000901,
         0.04106962051871535,
         0.04150734788605145,
         0.04022443841223593,
         0.03947007685125648,
         0.03891914894247984,
         0.040352519504822694,
         0.03954131398108098,
         0.03962396922243106,
         0.04042018151709011,
         0.04016531670054832,
         0.03911351388344517,
         0.03937768495895646,
         0.039693837622543436,
         0.039866832169619476,
         0.04011440756065505,
         0.04013371307935033,
         0.039881779921132246,
         0.04052877537422366,
         0.040105998757984734
        ],
        [
         6.105186551809311,
         6.074125021696091,
         6.040877975523472,
         6.1381131410598755,
         6.233917869627476,
         6.417207315564156,
         6.237291149795055,
         6.2739793583750725,
         6.095286674797535,
         5.888572931289673,
         6.052754454314709,
         6.154247932136059,
         6.0367948189377785,
         6.201903626322746,
         6.003987111151218,
         6.137961752712727,
         6.154726557433605,
         6.168666400015354,
         6.198316641151905,
         5.981888987123966,
         6.157393433153629,
         6.285639867186546,
         6.172931231558323,
         6.112871967256069,
         6.273296944797039,
         6.017570272088051,
         6.1838048323988914,
         6.072434976696968,
         6.28156279027462,
         6.119638606905937,
         6.171645648777485,
         6.139118008315563,
         6.214169882237911,
         6.058846525847912,
         6.085250571370125,
         6.313443705439568,
         6.1441274136304855,
         6.093411102890968,
         6.215309426188469,
         6.059083968400955,
         6.378602609038353,
         6.281952574849129,
         6.269782982766628,
         6.189851835370064,
         6.083369106054306,
         6.206734821200371,
         5.9834447130560875,
         6.26530309766531,
         6.097966089844704,
         6.077998176217079,
         6.097218580543995,
         5.902311384677887,
         6.158594347536564,
         6.2243082001805305,
         6.2149128913879395,
         6.208968669176102,
         6.227465026080608,
         6.251442238688469,
         6.162531405687332,
         6.105584502220154,
         6.09206909686327,
         6.173171259462833,
         6.068111173808575,
         6.1294649839401245,
         6.290830187499523,
         6.26007579267025,
         6.17921245098114,
         6.288746811449528,
         5.9705367013812065,
         6.323612682521343,
         6.250973403453827,
         6.28345251083374,
         6.2494067549705505,
         6.046122610569,
         6.216599874198437,
         6.091879703104496,
         6.259296424686909,
         6.253976888954639,
         6.032764628529549,
         6.2573308274149895,
         6.070456884801388,
         6.324721559882164,
         6.392131574451923,
         6.194563515484333,
         6.078391835093498,
         5.993548937141895,
         6.214288003742695,
         6.089362353086472,
         6.102091260254383,
         6.224707953631878,
         6.185458771884441,
         6.023481138050556,
         6.064163483679295,
         6.112850993871689,
         6.139492154121399,
         6.1776187643408775,
         6.180591814219952,
         6.141794107854366,
         6.241431407630444,
         6.176323808729649
        ],
        [
         0.6210963178032854,
         0.6216194247186185,
         0.621311917403288,
         0.6215197380056556,
         0.6310581843638774,
         0.6418637097116405,
         0.6323819697403354,
         0.6284890417612912,
         0.6223871419363536,
         0.6075688108859908,
         0.6224296525490123,
         0.6177132593334226,
         0.6181536599901002,
         0.6332107484899208,
         0.6077889827297096,
         0.6162892335224271,
         0.6315803193771491,
         0.6265734345781512,
         0.6268863784186453,
         0.6087507020534163,
         0.6257558793794064,
         0.6371239400662122,
         0.617201916179575,
         0.6252453996729742,
         0.6241342934468466,
         0.6236311403143229,
         0.6239530701418969,
         0.6171281651958725,
         0.6298242100515669,
         0.6172327483649804,
         0.6254456685676032,
         0.6258629410175124,
         0.6338807187679614,
         0.6167553673140681,
         0.6092570701446463,
         0.6346726987371565,
         0.6213976525760266,
         0.6175129278461376,
         0.6225612107056527,
         0.6131268460761048,
         0.6391864095420935,
         0.6428207313167184,
         0.6344417969129454,
         0.615278613741556,
         0.612943184903357,
         0.6231775262947976,
         0.604025750922643,
         0.6256116858234487,
         0.6156111504975906,
         0.6216325423352103,
         0.6222833014892899,
         0.6149744803813958,
         0.6225723587914579,
         0.6288940628922438,
         0.6257908264952846,
         0.6266295774079305,
         0.6214040798733981,
         0.6307447401920973,
         0.6270295670040785,
         0.6189698944321641,
         0.6150769308853404,
         0.6202002899585756,
         0.6165986483017528,
         0.6227681887352167,
         0.6326632406288283,
         0.6363031816570333,
         0.6250612729365458,
         0.6312524347443654,
         0.6112112064103684,
         0.637060217088525,
         0.6266237969267006,
         0.6289314777901374,
         0.6298221440857755,
         0.6237580555451068,
         0.6288837363326971,
         0.6205410156553239,
         0.6316990451510178,
         0.6372860811396349,
         0.6159141678120871,
         0.6294249713396077,
         0.6142383491818983,
         0.6401513894875999,
         0.6363784783047287,
         0.6192385420356569,
         0.6157360652093145,
         0.6139233134626845,
         0.6251148495127918,
         0.6246557983246392,
         0.624322246924255,
         0.6323319762677924,
         0.6259597449385126,
         0.6123406313666458,
         0.6147343884929478,
         0.6173735412505585,
         0.6150870998902782,
         0.6170110265725526,
         0.6336323852358441,
         0.6265006479092085,
         0.6286211160047082,
         0.622107142118268
        ]
       ],
       "encoder": "json",
       "name": "ABC_GAN_3 Metrics",
       "version": 1
      }
     },
     "metadata": {
      "scrapbook": {
       "data": true,
       "display": false,
       "name": "ABC_GAN_3 Metrics"
      }
     },
     "output_type": "display_data"
    },
    {
     "name": "stdout",
     "output_type": "stream",
     "text": [
      "MAE\n",
      "0.04000005232387936\n"
     ]
    }
   ],
   "source": [
    "ABC_GAN3_metrics=ABC_train_test2.test_generator(gen3,test_data,prior_model,variance,bias,\"3\",device)\n",
    "sb.glue(\"ABC_GAN_3 Metrics\",ABC_GAN3_metrics)\n",
    "\n",
    "print(\"MAE\")\n",
    "print(mean(ABC_GAN3_metrics[1]))"
   ]
  },
  {
   "cell_type": "code",
   "execution_count": 22,
   "id": "c8e46b48",
   "metadata": {
    "execution": {
     "iopub.execute_input": "2022-07-25T04:28:17.191585Z",
     "iopub.status.busy": "2022-07-25T04:28:17.190819Z",
     "iopub.status.idle": "2022-07-25T04:28:18.692926Z",
     "shell.execute_reply": "2022-07-25T04:28:18.691824Z"
    },
    "id": "c8e46b48",
    "papermill": {
     "duration": 1.525155,
     "end_time": "2022-07-25T04:28:18.695607",
     "exception": false,
     "start_time": "2022-07-25T04:28:17.170452",
     "status": "completed"
    },
    "tags": []
   },
   "outputs": [
    {
     "data": {
      "image/png": "[encoded data removed]",
      "text/plain": [
       "<Figure size 432x288 with 1 Axes>"
      ]
     },
     "metadata": {
      "needs_background": "light"
     },
     "output_type": "display_data"
    },
    {
     "data": {
      "image/png": "[encoded data removed]",
      "text/plain": [
       "<Figure size 432x288 with 1 Axes>"
      ]
     },
     "metadata": {
      "needs_background": "light"
     },
     "output_type": "display_data"
    },
    {
     "data": {
      "image/png": "[encoded data removed]",
      "text/plain": [
       "<Figure size 432x288 with 1 Axes>"
      ]
     },
     "metadata": {
      "needs_background": "light"
     },
     "output_type": "display_data"
    },
    {
     "data": {
      "image/png": "[encoded data removed]",
      "text/plain": [
       "<Figure size 432x288 with 1 Axes>"
      ]
     },
     "metadata": {
      "needs_background": "light"
     },
     "output_type": "display_data"
    }
   ],
   "source": [
    "sanityChecks.discProbVsError(train_data,disc3,device)\n",
    "sanityChecks.discProbVsError(test_data,disc3,device)"
   ]
  },
  {
   "cell_type": "markdown",
   "id": "749894a2",
   "metadata": {
    "id": "130f3a4d",
    "papermill": {
     "duration": 0.023082,
     "end_time": "2022-07-25T04:28:18.743569",
     "exception": false,
     "start_time": "2022-07-25T04:28:18.720487",
     "status": "completed"
    },
    "tags": []
   },
   "source": [
    "# skipGAN Model with TabNet Generator"
   ]
  },
  {
   "cell_type": "code",
   "execution_count": 23,
   "id": "d670ab9b",
   "metadata": {
    "execution": {
     "iopub.execute_input": "2022-07-25T04:28:18.788479Z",
     "iopub.status.busy": "2022-07-25T04:28:18.787946Z",
     "iopub.status.idle": "2022-07-25T04:28:18.806516Z",
     "shell.execute_reply": "2022-07-25T04:28:18.805312Z"
    },
    "id": "4e43dad1",
    "papermill": {
     "duration": 0.044563,
     "end_time": "2022-07-25T04:28:18.809961",
     "exception": false,
     "start_time": "2022-07-25T04:28:18.765398",
     "status": "completed"
    },
    "tags": []
   },
   "outputs": [],
   "source": [
    "#Generator\n",
    "gen4 = network.GeneratorTabnetskipConnection(n_features+1).to(device)\n",
    "constraints=network.weightConstraint()\n",
    "#Discriminator \n",
    "disc4 = network.Discriminator(n_features+1).to(device)\n",
    "\n",
    "criterion = torch.nn.BCELoss()\n",
    "gen_opt = torch.optim.Adam(gen4.parameters(), lr=0.01, betas=(0.5, 0.999))\n",
    "disc_opt = torch.optim.Adam(disc4.parameters(), lr=0.01, betas=(0.5, 0.999))\n"
   ]
  },
  {
   "cell_type": "code",
   "execution_count": 24,
   "id": "c1a01681",
   "metadata": {
    "execution": {
     "iopub.execute_input": "2022-07-25T04:28:18.857379Z",
     "iopub.status.busy": "2022-07-25T04:28:18.856712Z",
     "iopub.status.idle": "2022-07-25T05:01:41.421612Z",
     "shell.execute_reply": "2022-07-25T05:01:41.313371Z"
    },
    "id": "26acbc37",
    "papermill": {
     "duration": 2002.608931,
     "end_time": "2022-07-25T05:01:41.439727",
     "exception": false,
     "start_time": "2022-07-25T04:28:18.830796",
     "status": "completed"
    },
    "tags": []
   },
   "outputs": [
    {
     "data": {
      "image/png": "[encoded data removed]",
      "text/plain": [
       "<Figure size 432x288 with 1 Axes>"
      ]
     },
     "metadata": {
      "needs_background": "light"
     },
     "output_type": "display_data"
    },
    {
     "data": {
      "image/png": "[encoded data removed]",
      "text/plain": [
       "<Figure size 432x288 with 1 Axes>"
      ]
     },
     "metadata": {
      "needs_background": "light"
     },
     "output_type": "display_data"
    }
   ],
   "source": [
    "ABC_train_test2.training_GAN_skip_connection(disc4,gen4,disc_opt,gen_opt,train_data,batch_size,n_epochs,criterion,prior_model,variance,bias,device)"
   ]
  },
  {
   "cell_type": "code",
   "execution_count": 25,
   "id": "67ad45ec",
   "metadata": {
    "execution": {
     "iopub.execute_input": "2022-07-25T05:01:41.557147Z",
     "iopub.status.busy": "2022-07-25T05:01:41.555831Z",
     "iopub.status.idle": "2022-07-25T05:01:49.818805Z",
     "shell.execute_reply": "2022-07-25T05:01:49.815476Z"
    },
    "id": "c5e0717b",
    "papermill": {
     "duration": 8.354048,
     "end_time": "2022-07-25T05:01:49.824311",
     "exception": false,
     "start_time": "2022-07-25T05:01:41.470263",
     "status": "completed"
    },
    "tags": []
   },
   "outputs": [
    {
     "data": {
      "application/scrapbook.scrap.json+json": {
       "data": 0.0027961447203717254,
       "encoder": "json",
       "name": "ABC-GAN Model 3 MSE",
       "version": 1
      }
     },
     "metadata": {
      "scrapbook": {
       "data": true,
       "display": false,
       "name": "ABC-GAN Model 3 MSE"
      }
     },
     "output_type": "display_data"
    },
    {
     "data": {
      "application/scrapbook.scrap.json+json": {
       "data": 0.04359476603422459,
       "encoder": "json",
       "name": "ABC-GAN Model 3 MAE",
       "version": 1
      }
     },
     "metadata": {
      "scrapbook": {
       "data": true,
       "display": false,
       "name": "ABC-GAN Model 3 MAE"
      }
     },
     "output_type": "display_data"
    },
    {
     "data": {
      "application/scrapbook.scrap.json+json": {
       "data": 6.713593969270587,
       "encoder": "json",
       "name": "ABC-GAN Model 3 Manhattan Distance",
       "version": 1
      }
     },
     "metadata": {
      "scrapbook": {
       "data": true,
       "display": false,
       "name": "ABC-GAN Model 3 Manhattan Distance"
      }
     },
     "output_type": "display_data"
    },
    {
     "data": {
      "application/scrapbook.scrap.json+json": {
       "data": 0.6561261381849793,
       "encoder": "json",
       "name": "ABC-GAN Model 3 Euclidean distance",
       "version": 1
      }
     },
     "metadata": {
      "scrapbook": {
       "data": true,
       "display": false,
       "name": "ABC-GAN Model 3 Euclidean distance"
      }
     },
     "output_type": "display_data"
    },
    {
     "data": {
      "application/scrapbook.scrap.json+json": {
       "data": [
        [
         0.0028441652912518604,
         0.002798340502250291,
         0.002669232982832554,
         0.002739236770153065,
         0.0028024826110702103,
         0.0028383415157466007,
         0.0028239348801171738,
         0.0026543179886160846,
         0.00282402644850182,
         0.0028099876184072485,
         0.002747806573938371,
         0.002952018850752037,
         0.002769767912583109,
         0.002973868321784123,
         0.0028810034268171385,
         0.002875410927212884,
         0.0027142247428049667,
         0.002725250250785747,
         0.0027815538404068253,
         0.002897235445495028,
         0.002734894506183677,
         0.002677887726689998,
         0.0028687148751131253,
         0.0028645490348027007,
         0.0027391692742671386,
         0.002969766496397086,
         0.0028129640861370223,
         0.0028021883407673373,
         0.0029168523360980176,
         0.002888701471299146,
         0.0028905002632559637,
         0.0028153472673630555,
         0.002763958459444053,
         0.002820618217896212,
         0.002753255030486021,
         0.0027260242411975334,
         0.0027373237045764526,
         0.0026411918392687753,
         0.0025644966298182473,
         0.0027137183251615825,
         0.002822248504122831,
         0.0028264821942292884,
         0.002684468489043194,
         0.002891628105909378,
         0.0028183344970845623,
         0.002666593544578909,
         0.0027284566342110446,
         0.0028500740228369604,
         0.0028142284281868677,
         0.0029622771326762234,
         0.0028233911757494404,
         0.0027430327226838505,
         0.002677676230156531,
         0.0029385817809000807,
         0.0027860908136881756,
         0.002721323645962033,
         0.0028396584804281913,
         0.002657781747631648,
         0.002777148797109016,
         0.00283511267682829,
         0.0027748408890637824,
         0.002733380264564926,
         0.0027599308337360553,
         0.002790865521282845,
         0.002910416801425557,
         0.002902266414332365,
         0.0026565833362513255,
         0.002772100308387377,
         0.0027196502672463796,
         0.0026394947968333506,
         0.002729948059830033,
         0.0026505594364931114,
         0.002773018942121173,
         0.002813255273882361,
         0.0027440942411752077,
         0.0026833563879356376,
         0.002850942447565386,
         0.0027274429606143295,
         0.0028601367034104125,
         0.002871161228484023,
         0.0027455094260550603,
         0.0028137167649196675,
         0.002849203934490877,
         0.0028146739317156883,
         0.0028703386899157357,
         0.0028332068213167963,
         0.0028305838202427815,
         0.002745810800017853,
         0.002823653721640859,
         0.00288402187476249,
         0.00280047370892295,
         0.0028558057567254847,
         0.0028744550268536024,
         0.0029181696341565367,
         0.0028381095227838654,
         0.0027872281281429447,
         0.00271206433405235,
         0.002956656080845381,
         0.0029814900503389737,
         0.0026269362428702095
        ],
        [
         0.04428330784687748,
         0.043496553048297956,
         0.043331058236298625,
         0.042556540000361284,
         0.04465742709187718,
         0.04443937235257842,
         0.043790887218791166,
         0.042367440394379875,
         0.04384981303826555,
         0.043811808787770086,
         0.04249531867635715,
         0.04428876805808637,
         0.043020110577344894,
         0.04487898815181348,
         0.04357371251884993,
         0.044376482775846084,
         0.04258806679349441,
         0.04300911216573282,
         0.0438457667924367,
         0.04472670205808305,
         0.04287549055048397,
         0.04327477732455576,
         0.043910401546722884,
         0.04400105963086153,
         0.042971987857834085,
         0.044331926852464676,
         0.04396418254677351,
         0.04432969516167393,
         0.044242985594969295,
         0.0444828203165686,
         0.044562974194814635,
         0.04395160945011424,
         0.043368868674937784,
         0.04409626382705453,
         0.043483039630310874,
         0.04364535381848162,
         0.04295958525368145,
         0.042678675336110125,
         0.041152813556519424,
         0.042563053065693225,
         0.0436679765872367,
         0.044362302579275974,
         0.042725897309455,
         0.04465769555468064,
         0.04333215153643063,
         0.04232888257542214,
         0.04315027744545565,
         0.04391134786721948,
         0.044180412087347604,
         0.04450410860893014,
         0.04364967999326718,
         0.04338642650029876,
         0.04170838554764723,
         0.044318604633792655,
         0.04362026568163525,
         0.0432119168728203,
         0.04401848547450908,
         0.04229711629934125,
         0.04324845403626368,
         0.04471138787347001,
         0.043749590247095405,
         0.042864829930779225,
         0.04361018978736617,
         0.043503272117345365,
         0.04426275827474408,
         0.04526962238279256,
         0.042558461766351356,
         0.043753992669381105,
         0.04246098959407249,
         0.04241946954038236,
         0.04301161759278991,
         0.04257551788703188,
         0.04343678187820819,
         0.043757181034072654,
         0.04394411503688082,
         0.042281760168927054,
         0.043950380781641256,
         0.04273012991655956,
         0.0446140586652539,
         0.044394258603260114,
         0.04300180295264566,
         0.04356591059983551,
         0.04362369072321173,
         0.043959167338423914,
         0.044486178544821675,
         0.04320308706396586,
         0.043924667763632616,
         0.04303231395103715,
         0.0437922737524881,
         0.04445146551573431,
         0.04402161375075191,
         0.043815048048635584,
         0.04391908423080073,
         0.04427505981225472,
         0.043872297729377625,
         0.04303117052881748,
         0.04312720551312744,
         0.04465804950563938,
         0.04489572089794394,
         0.042445241485710265
        ],
        [
         6.819629408419132,
         6.698469169437885,
         6.672982968389988,
         6.553707160055637,
         6.877243772149086,
         6.843663342297077,
         6.74379663169384,
         6.524585820734501,
         6.752871207892895,
         6.747018553316593,
         6.544279076159,
         6.820470280945301,
         6.625097028911114,
         6.911364175379276,
         6.710351727902889,
         6.833978347480297,
         6.558562286198139,
         6.623403273522854,
         6.752248086035252,
         6.88791211694479,
         6.602825544774532,
         6.6643157079815865,
         6.762201838195324,
         6.776163183152676,
         6.617686130106449,
         6.82711673527956,
         6.770484112203121,
         6.826773054897785,
         6.813419781625271,
         6.850354328751564,
         6.862698026001453,
         6.768547855317593,
         6.678805775940418,
         6.790824629366398,
         6.696388103067875,
         6.721384488046169,
         6.615776129066944,
         6.57251600176096,
         6.337533287703991,
         6.554710172116756,
         6.724868394434452,
         6.8317945972085,
         6.579788185656071,
         6.877285115420818,
         6.673151336610317,
         6.518647916615009,
         6.64514272660017,
         6.7623475715518,
         6.8037834614515305,
         6.853632725775242,
         6.722050718963146,
         6.681509681046009,
         6.423091374337673,
         6.825065113604069,
         6.7175209149718285,
         6.654635198414326,
         6.778846763074398,
         6.513755910098553,
         6.660261921584606,
         6.885553732514381,
         6.737436898052692,
         6.60118380934,
         6.715969227254391,
         6.699503906071186,
         6.816464774310589,
         6.971521846950054,
         6.554003112018108,
         6.73811487108469,
         6.5389923974871635,
         6.5325983092188835,
         6.623789109289646,
         6.556629754602909,
         6.6892644092440605,
         6.738605879247189,
         6.7673937156796455,
         6.511391066014767,
         6.768358640372753,
         6.580440007150173,
         6.8705650344491005,
         6.836715824902058,
         6.622277654707432,
         6.709150232374668,
         6.718048371374607,
         6.769711770117283,
         6.850871495902538,
         6.653275407850742,
         6.7643988355994225,
         6.626976348459721,
         6.744010157883167,
         6.845525689423084,
         6.779328517615795,
         6.74751739948988,
         6.763538971543312,
         6.818359211087227,
         6.756333850324154,
         6.626800261437893,
         6.6415896490216255,
         6.877339623868465,
         6.913941018283367,
         6.536567188799381
        ],
        [
         0.6618167834474935,
         0.6564635841739774,
         0.6411410760169819,
         0.6494940050559143,
         0.656949253827731,
         0.6611388609248261,
         0.6594588474939469,
         0.639347300179548,
         0.6594695391519462,
         0.6578283159265161,
         0.650509194697899,
         0.6742483986008522,
         0.6531035588157508,
         0.6767390350458254,
         0.6660889788382925,
         0.66544217088398,
         0.6465219334190951,
         0.6478337276037772,
         0.6544916282296139,
         0.6679627673802143,
         0.6489790088687662,
         0.6421796554783246,
         0.6646669021152033,
         0.6641841245916796,
         0.6494860031110288,
         0.6762721644760719,
         0.6581766246723606,
         0.6569147619578738,
         0.670220306883561,
         0.6669782804410265,
         0.6671859115279777,
         0.6584553737148103,
         0.6524182728544504,
         0.6590714722668678,
         0.6511538026417777,
         0.6479257157610123,
         0.6492671641972768,
         0.637764488857283,
         0.628436536964561,
         0.6464616168612671,
         0.6592619127743662,
         0.6597562109683474,
         0.6429682319622424,
         0.6673160632788965,
         0.6588046087809516,
         0.6408240053752293,
         0.6482147187996434,
         0.6625038864164435,
         0.6583245232715986,
         0.6754188910832584,
         0.6593953602091949,
         0.6499438739562925,
         0.6421542956674087,
         0.6727121184121871,
         0.6550251791404503,
         0.6473668523164845,
         0.6612922243501291,
         0.6397643231185011,
         0.6539731758679315,
         0.6607627049338943,
         0.6537013820666302,
         0.6487993223971482,
         0.6519427493233991,
         0.6555862187977705,
         0.6694805355046073,
         0.668542465223552,
         0.6396200698717202,
         0.6533784871662489,
         0.6471677843928438,
         0.6375595648347973,
         0.6483918577633629,
         0.6388944773747377,
         0.6534867382638003,
         0.6582106898082738,
         0.6500696217644554,
         0.6428350361812026,
         0.6626048120298172,
         0.6480942955578353,
         0.66367239834515,
         0.6649502456474015,
         0.6502372271813414,
         0.6582646745782648,
         0.6624027520410789,
         0.6583766289018892,
         0.6648549903904033,
         0.6605405744409548,
         0.6602347372846936,
         0.6502729144003688,
         0.6594260179373364,
         0.666437820590506,
         0.6567137513210259,
         0.6631697267937708,
         0.6653315520366179,
         0.6703716310078364,
         0.6611118411499791,
         0.6551588599217854,
         0.6462645800630434,
         0.6747777681949729,
         0.6776056875146503,
         0.6360410217918434
        ]
       ],
       "encoder": "json",
       "name": "ABC_GAN_4 Metrics",
       "version": 1
      }
     },
     "metadata": {
      "scrapbook": {
       "data": true,
       "display": false,
       "name": "ABC_GAN_4 Metrics"
      }
     },
     "output_type": "display_data"
    },
    {
     "name": "stdout",
     "output_type": "stream",
     "text": [
      "MAE\n",
      "0.04359476603422459\n"
     ]
    }
   ],
   "source": [
    "ABC_GAN4_metrics=ABC_train_test2.test_generator(gen4,test_data,prior_model,variance,bias,\"3\",device)\n",
    "sb.glue(\"ABC_GAN_4 Metrics\",ABC_GAN4_metrics)\n",
    "\n",
    "print(\"MAE\")\n",
    "print(mean(ABC_GAN4_metrics[1]))"
   ]
  },
  {
   "cell_type": "code",
   "execution_count": 26,
   "id": "6c5814ee",
   "metadata": {
    "execution": {
     "iopub.execute_input": "2022-07-25T05:01:49.956088Z",
     "iopub.status.busy": "2022-07-25T05:01:49.951135Z",
     "iopub.status.idle": "2022-07-25T05:01:51.958543Z",
     "shell.execute_reply": "2022-07-25T05:01:51.957503Z"
    },
    "id": "c8e46b48",
    "papermill": {
     "duration": 2.097518,
     "end_time": "2022-07-25T05:01:51.961452",
     "exception": false,
     "start_time": "2022-07-25T05:01:49.863934",
     "status": "completed"
    },
    "tags": []
   },
   "outputs": [
    {
     "data": {
      "image/png": "[encoded data removed]",
      "text/plain": [
       "<Figure size 432x288 with 1 Axes>"
      ]
     },
     "metadata": {
      "needs_background": "light"
     },
     "output_type": "display_data"
    },
    {
     "data": {
      "image/png": "[encoded data removed]",
      "text/plain": [
       "<Figure size 432x288 with 1 Axes>"
      ]
     },
     "metadata": {
      "needs_background": "light"
     },
     "output_type": "display_data"
    },
    {
     "data": {
      "image/png": "[encoded data removed]",
      "text/plain": [
       "<Figure size 432x288 with 1 Axes>"
      ]
     },
     "metadata": {
      "needs_background": "light"
     },
     "output_type": "display_data"
    },
    {
     "data": {
      "image/png": "[encoded data removed]",
      "text/plain": [
       "<Figure size 432x288 with 1 Axes>"
      ]
     },
     "metadata": {
      "needs_background": "light"
     },
     "output_type": "display_data"
    }
   ],
   "source": [
    "sanityChecks.discProbVsError(train_data,disc4,device)\n",
    "sanityChecks.discProbVsError(test_data,disc4,device)"
   ]
  },
  {
   "cell_type": "markdown",
   "id": "a5bd74c3",
   "metadata": {
    "id": "a5bd74c3",
    "papermill": {
     "duration": 0.044511,
     "end_time": "2022-07-25T05:01:52.049248",
     "exception": false,
     "start_time": "2022-07-25T05:01:52.004737",
     "status": "completed"
    },
    "tags": []
   },
   "source": [
    "## Skip Connection Model Analysis - ABC-GAN "
   ]
  },
  {
   "cell_type": "markdown",
   "id": "5744a8bf",
   "metadata": {
    "id": "5744a8bf",
    "papermill": {
     "duration": 0.034394,
     "end_time": "2022-07-25T05:01:52.123053",
     "exception": false,
     "start_time": "2022-07-25T05:01:52.088659",
     "status": "completed"
    },
    "tags": []
   },
   "source": [
    "### Weight Analysis \n",
    "\n",
    "Study the weights of the skip connection layer\n",
    "\n",
    "Equation of the skip connection is \n",
    "\n",
    "$output = y_{gan} * w + y_{abc} * (1-w)$"
   ]
  },
  {
   "cell_type": "code",
   "execution_count": 27,
   "id": "52c31dea",
   "metadata": {
    "execution": {
     "iopub.execute_input": "2022-07-25T05:01:52.196726Z",
     "iopub.status.busy": "2022-07-25T05:01:52.196377Z",
     "iopub.status.idle": "2022-07-25T05:01:52.316795Z",
     "shell.execute_reply": "2022-07-25T05:01:52.313625Z"
    },
    "id": "52c31dea",
    "papermill": {
     "duration": 0.16646,
     "end_time": "2022-07-25T05:01:52.329643",
     "exception": false,
     "start_time": "2022-07-25T05:01:52.163183",
     "status": "completed"
    },
    "tags": []
   },
   "outputs": [
    {
     "name": "stdout",
     "output_type": "stream",
     "text": [
      "Weight of the node at skip connection\n",
      "Parameter containing:\n",
      "tensor([[0.0878]], requires_grad=True)\n"
     ]
    },
    {
     "data": {
      "application/scrapbook.scrap.json+json": {
       "data": 0.08775146305561066,
       "encoder": "json",
       "name": "Skip Connection Weight",
       "version": 1
      }
     },
     "metadata": {
      "scrapbook": {
       "data": true,
       "display": false,
       "name": "Skip Connection Weight"
      }
     },
     "output_type": "display_data"
    }
   ],
   "source": [
    "print(\"Weight of the node at skip connection\")\n",
    "for name,param in gen3.named_parameters():\n",
    "    if(name == \"skipNode.weight\"):\n",
    "        print(param)\n",
    "        sb.glue(\"Skip Connection Weight\",param.item())"
   ]
  },
  {
   "cell_type": "markdown",
   "id": "721a6fad",
   "metadata": {
    "id": "a5bd74c3",
    "papermill": {
     "duration": 0.127884,
     "end_time": "2022-07-25T05:01:52.560962",
     "exception": false,
     "start_time": "2022-07-25T05:01:52.433078",
     "status": "completed"
    },
    "tags": []
   },
   "source": [
    "## skipGAN Model Analysis (TabNet Generator) "
   ]
  },
  {
   "cell_type": "markdown",
   "id": "722b2eef",
   "metadata": {
    "id": "5744a8bf",
    "papermill": {
     "duration": 0.14476,
     "end_time": "2022-07-25T05:01:52.832597",
     "exception": false,
     "start_time": "2022-07-25T05:01:52.687837",
     "status": "completed"
    },
    "tags": []
   },
   "source": [
    "### Weight Analysis \n",
    "\n",
    "Study the weights of the skip connection layer\n",
    "\n",
    "Equation of the skip connection is \n",
    "\n",
    "$output = y_{gan} * w + y_{abc} * (1-w)$"
   ]
  },
  {
   "cell_type": "code",
   "execution_count": 28,
   "id": "8ff7f238",
   "metadata": {
    "execution": {
     "iopub.execute_input": "2022-07-25T05:01:53.007467Z",
     "iopub.status.busy": "2022-07-25T05:01:53.007138Z",
     "iopub.status.idle": "2022-07-25T05:01:53.026172Z",
     "shell.execute_reply": "2022-07-25T05:01:53.019332Z"
    },
    "id": "52c31dea",
    "papermill": {
     "duration": 0.186872,
     "end_time": "2022-07-25T05:01:53.073027",
     "exception": false,
     "start_time": "2022-07-25T05:01:52.886155",
     "status": "completed"
    },
    "tags": []
   },
   "outputs": [
    {
     "name": "stdout",
     "output_type": "stream",
     "text": [
      "Weight of the node at skip connection\n",
      "Parameter containing:\n",
      "tensor([[0.0633]], requires_grad=True)\n"
     ]
    },
    {
     "data": {
      "application/scrapbook.scrap.json+json": {
       "data": 0.06328136473894119,
       "encoder": "json",
       "name": "Skip Connection Weight",
       "version": 1
      }
     },
     "metadata": {
      "scrapbook": {
       "data": true,
       "display": false,
       "name": "Skip Connection Weight"
      }
     },
     "output_type": "display_data"
    }
   ],
   "source": [
    "print(\"Weight of the node at skip connection\")\n",
    "for name,param in gen4.named_parameters():\n",
    "    if(name == \"skipNode.weight\"):\n",
    "        print(param)\n",
    "        sb.glue(\"Skip Connection Weight\",param.item())"
   ]
  }
 ],
 "metadata": {
  "colab": {
   "collapsed_sections": [],
   "name": "ABC_GAN_Model-Catboost_Pre-gen.ipynb",
   "provenance": []
  },
  "interpreter": {
   "hash": "31f2aee4e71d21fbe5cf8b01ff0e069b9275f58929596ceb00d14d90e3e16cd6"
  },
  "kernelspec": {
   "display_name": "Python 3 (ipykernel)",
   "language": "python",
   "name": "python3"
  },
  "language_info": {
   "codemirror_mode": {
    "name": "ipython",
    "version": 3
   },
   "file_extension": ".py",
   "mimetype": "text/x-python",
   "name": "python",
   "nbconvert_exporter": "python",
   "pygments_lexer": "ipython3",
   "version": "3.8.13"
  },
  "papermill": {
   "default_parameters": {},
   "duration": 3615.364149,
   "end_time": "2022-07-25T05:01:55.738901",
   "environment_variables": {},
   "exception": null,
   "input_path": "ABC_GAN-Catboost.ipynb",
   "output_path": "./ABC_GAN_Catboost/ABC-GAN_output_2_5.ipynb",
   "parameters": {
    "bias": 0.1,
    "variance": 0.01
   },
   "start_time": "2022-07-25T04:01:40.374752",
   "version": "2.3.3"
  }
 },
 "nbformat": 4,
 "nbformat_minor": 5
}