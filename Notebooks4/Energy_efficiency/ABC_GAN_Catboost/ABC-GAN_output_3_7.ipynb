{
 "cells": [
  {
   "cell_type": "markdown",
   "id": "e44e00db",
   "metadata": {
    "tags": [
     "papermill-error-cell-tag"
    ]
   },
   "source": [
    "<span style=\"color:red; font-family:Helvetica Neue, Helvetica, Arial, sans-serif; font-size:2em;\">An Exception was encountered at '<a href=\"#papermill-error-cell\">In [20]</a>'.</span>"
   ]
  },
  {
   "cell_type": "markdown",
   "id": "622780e6",
   "metadata": {
    "id": "622780e6",
    "papermill": {
     "duration": 0.01037,
     "end_time": "2022-07-24T13:15:09.564009",
     "exception": false,
     "start_time": "2022-07-24T13:15:09.553639",
     "status": "completed"
    },
    "tags": []
   },
   "source": [
    "## Import Libraries "
   ]
  },
  {
   "cell_type": "code",
   "execution_count": 1,
   "id": "a62397e3",
   "metadata": {
    "execution": {
     "iopub.execute_input": "2022-07-24T13:15:09.589168Z",
     "iopub.status.busy": "2022-07-24T13:15:09.588572Z",
     "iopub.status.idle": "2022-07-24T13:15:09.616790Z",
     "shell.execute_reply": "2022-07-24T13:15:09.613718Z"
    },
    "id": "a62397e3",
    "papermill": {
     "duration": 0.072021,
     "end_time": "2022-07-24T13:15:09.645989",
     "exception": false,
     "start_time": "2022-07-24T13:15:09.573968",
     "status": "completed"
    },
    "tags": []
   },
   "outputs": [],
   "source": [
    "import warnings\n",
    "import sys\n",
    "sys.path.insert(0, '../../src')\n",
    "warnings.filterwarnings('ignore')"
   ]
  },
  {
   "cell_type": "code",
   "execution_count": 2,
   "id": "d6a4e155",
   "metadata": {
    "execution": {
     "iopub.execute_input": "2022-07-24T13:15:09.677390Z",
     "iopub.status.busy": "2022-07-24T13:15:09.674799Z",
     "iopub.status.idle": "2022-07-24T13:15:18.265078Z",
     "shell.execute_reply": "2022-07-24T13:15:18.264108Z"
    },
    "id": "d6a4e155",
    "papermill": {
     "duration": 8.613836,
     "end_time": "2022-07-24T13:15:18.268051",
     "exception": false,
     "start_time": "2022-07-24T13:15:09.654215",
     "status": "completed"
    },
    "tags": []
   },
   "outputs": [],
   "source": [
    "import ABC_train_test2\n",
    "import energyefficiencyDataset\n",
    "import network\n",
    "import dataset\n",
    "import sanityChecks\n",
    "import torch \n",
    "import scrapbook as sb\n",
    "from statistics import mean \n",
    "import catboost as ctb \n",
    "from sklearn.model_selection import train_test_split\n",
    "from sklearn.metrics import mean_squared_error,mean_absolute_error\n",
    "import numpy as np"
   ]
  },
  {
   "cell_type": "markdown",
   "id": "2fa5b0f7",
   "metadata": {
    "id": "2fa5b0f7",
    "papermill": {
     "duration": 0.00734,
     "end_time": "2022-07-24T13:15:18.283543",
     "exception": false,
     "start_time": "2022-07-24T13:15:18.276203",
     "status": "completed"
    },
    "tags": []
   },
   "source": [
    "## Parameters "
   ]
  },
  {
   "cell_type": "code",
   "execution_count": 3,
   "id": "783186fb",
   "metadata": {
    "execution": {
     "iopub.execute_input": "2022-07-24T13:15:18.302669Z",
     "iopub.status.busy": "2022-07-24T13:15:18.302268Z",
     "iopub.status.idle": "2022-07-24T13:15:18.306843Z",
     "shell.execute_reply": "2022-07-24T13:15:18.305902Z"
    },
    "id": "783186fb",
    "papermill": {
     "duration": 0.018651,
     "end_time": "2022-07-24T13:15:18.309880",
     "exception": false,
     "start_time": "2022-07-24T13:15:18.291229",
     "status": "completed"
    },
    "tags": [
     "parameters"
    ]
   },
   "outputs": [],
   "source": [
    "variance = 1\n",
    "bias = 1 "
   ]
  },
  {
   "cell_type": "code",
   "execution_count": 4,
   "id": "e7a5560a",
   "metadata": {
    "execution": {
     "iopub.execute_input": "2022-07-24T13:15:18.326171Z",
     "iopub.status.busy": "2022-07-24T13:15:18.325484Z",
     "iopub.status.idle": "2022-07-24T13:15:18.330491Z",
     "shell.execute_reply": "2022-07-24T13:15:18.329348Z"
    },
    "papermill": {
     "duration": 0.016862,
     "end_time": "2022-07-24T13:15:18.333344",
     "exception": false,
     "start_time": "2022-07-24T13:15:18.316482",
     "status": "completed"
    },
    "tags": [
     "injected-parameters"
    ]
   },
   "outputs": [],
   "source": [
    "# Parameters\n",
    "variance = 0.1\n",
    "bias = 0.01\n"
   ]
  },
  {
   "cell_type": "markdown",
   "id": "391cdbfd",
   "metadata": {
    "id": "391cdbfd",
    "papermill": {
     "duration": 0.017561,
     "end_time": "2022-07-24T13:15:18.357580",
     "exception": false,
     "start_time": "2022-07-24T13:15:18.340019",
     "status": "completed"
    },
    "tags": []
   },
   "source": [
    "## Dataset \n"
   ]
  },
  {
   "cell_type": "code",
   "execution_count": 5,
   "id": "5b51f161",
   "metadata": {
    "execution": {
     "iopub.execute_input": "2022-07-24T13:15:18.382643Z",
     "iopub.status.busy": "2022-07-24T13:15:18.381988Z",
     "iopub.status.idle": "2022-07-24T13:15:18.386748Z",
     "shell.execute_reply": "2022-07-24T13:15:18.385644Z"
    },
    "id": "5b51f161",
    "papermill": {
     "duration": 0.025523,
     "end_time": "2022-07-24T13:15:18.392269",
     "exception": false,
     "start_time": "2022-07-24T13:15:18.366746",
     "status": "completed"
    },
    "tags": []
   },
   "outputs": [],
   "source": [
    "#Parameters \n",
    "n_features = 8\n",
    "n_samples= 768\n",
    "n_target = 1 "
   ]
  },
  {
   "cell_type": "code",
   "execution_count": 6,
   "id": "5d6eced4",
   "metadata": {
    "execution": {
     "iopub.execute_input": "2022-07-24T13:15:18.410382Z",
     "iopub.status.busy": "2022-07-24T13:15:18.409650Z",
     "iopub.status.idle": "2022-07-24T13:15:19.027458Z",
     "shell.execute_reply": "2022-07-24T13:15:19.026405Z"
    },
    "id": "5d6eced4",
    "papermill": {
     "duration": 0.630487,
     "end_time": "2022-07-24T13:15:19.030574",
     "exception": false,
     "start_time": "2022-07-24T13:15:18.400087",
     "status": "completed"
    },
    "tags": []
   },
   "outputs": [
    {
     "name": "stdout",
     "output_type": "stream",
     "text": [
      "     X1     X2     X3      X4   X5  X6   X7  X8     Y1     Y2\n",
      "0  0.98  514.5  294.0  110.25  7.0   2  0.0   0  15.55  21.33\n",
      "1  0.98  514.5  294.0  110.25  7.0   3  0.0   0  15.55  21.33\n",
      "2  0.98  514.5  294.0  110.25  7.0   4  0.0   0  15.55  21.33\n",
      "3  0.98  514.5  294.0  110.25  7.0   5  0.0   0  15.55  21.33\n",
      "4  0.90  563.5  318.5  122.50  7.0   2  0.0   0  20.84  28.28\n"
     ]
    }
   ],
   "source": [
    "X,Y = energyefficiencyDataset.energy_data()"
   ]
  },
  {
   "cell_type": "code",
   "execution_count": 7,
   "id": "fe007438",
   "metadata": {
    "execution": {
     "iopub.execute_input": "2022-07-24T13:15:19.048433Z",
     "iopub.status.busy": "2022-07-24T13:15:19.048079Z",
     "iopub.status.idle": "2022-07-24T13:15:19.054771Z",
     "shell.execute_reply": "2022-07-24T13:15:19.053677Z"
    },
    "id": "fe007438",
    "papermill": {
     "duration": 0.019978,
     "end_time": "2022-07-24T13:15:19.057806",
     "exception": false,
     "start_time": "2022-07-24T13:15:19.037828",
     "status": "completed"
    },
    "tags": []
   },
   "outputs": [],
   "source": [
    "#Train test split for dataset \n",
    "X_train,X_test,Y_train,Y_test = train_test_split(X,Y,test_size = 0.2)\n",
    "train_data = dataset.CustomDataset(X_train,Y_train)\n",
    "test_data = dataset.CustomDataset(X_test,Y_test)\n"
   ]
  },
  {
   "cell_type": "markdown",
   "id": "a9a1af34",
   "metadata": {
    "id": "a9a1af34",
    "papermill": {
     "duration": 0.007603,
     "end_time": "2022-07-24T13:15:19.073361",
     "exception": false,
     "start_time": "2022-07-24T13:15:19.065758",
     "status": "completed"
    },
    "tags": []
   },
   "source": [
    "## Training Parameters "
   ]
  },
  {
   "cell_type": "code",
   "execution_count": 8,
   "id": "952b7fc8",
   "metadata": {
    "execution": {
     "iopub.execute_input": "2022-07-24T13:15:19.091679Z",
     "iopub.status.busy": "2022-07-24T13:15:19.091315Z",
     "iopub.status.idle": "2022-07-24T13:15:19.097326Z",
     "shell.execute_reply": "2022-07-24T13:15:19.096168Z"
    },
    "id": "952b7fc8",
    "papermill": {
     "duration": 0.018667,
     "end_time": "2022-07-24T13:15:19.100508",
     "exception": false,
     "start_time": "2022-07-24T13:15:19.081841",
     "status": "completed"
    },
    "tags": []
   },
   "outputs": [],
   "source": [
    "batch_size = 32\n",
    "n_epochs = 1000\n",
    "#Select the device \n",
    "device = torch.device('cuda' if torch.cuda.is_available() else 'cpu')"
   ]
  },
  {
   "cell_type": "markdown",
   "id": "a95e1600",
   "metadata": {
    "id": "a95e1600",
    "papermill": {
     "duration": 0.007875,
     "end_time": "2022-07-24T13:15:19.117144",
     "exception": false,
     "start_time": "2022-07-24T13:15:19.109269",
     "status": "completed"
    },
    "tags": []
   },
   "source": [
    "# ABC Pre-generator Model \n",
    "\n",
    "1. The catboost model is used as a pre-generator model for the ABC-GAN. \n",
    "2. The model is first trained on the entire dataset \n",
    "3. It generats X,Y pairs and we add some Gaussian noise with mean 0 and variance 1 to it which is then feed as input to the generator.\n"
   ]
  },
  {
   "cell_type": "code",
   "execution_count": 9,
   "id": "ff8ce7bd",
   "metadata": {
    "execution": {
     "iopub.execute_input": "2022-07-24T13:15:19.135937Z",
     "iopub.status.busy": "2022-07-24T13:15:19.135592Z",
     "iopub.status.idle": "2022-07-24T13:15:19.952576Z",
     "shell.execute_reply": "2022-07-24T13:15:19.951837Z"
    },
    "id": "ff8ce7bd",
    "papermill": {
     "duration": 0.829611,
     "end_time": "2022-07-24T13:15:19.956053",
     "exception": false,
     "start_time": "2022-07-24T13:15:19.126442",
     "status": "completed"
    },
    "tags": []
   },
   "outputs": [
    {
     "name": "stdout",
     "output_type": "stream",
     "text": [
      "Learning rate set to 0.037906\n",
      "0:\tlearn: 0.9715348\ttotal: 53.4ms\tremaining: 53.3s\n",
      "1:\tlearn: 0.9391860\ttotal: 53.8ms\tremaining: 26.9s\n",
      "2:\tlearn: 0.9075726\ttotal: 54.4ms\tremaining: 18.1s\n",
      "3:\tlearn: 0.8769048\ttotal: 54.7ms\tremaining: 13.6s\n",
      "4:\tlearn: 0.8520205\ttotal: 54.9ms\tremaining: 10.9s\n",
      "5:\tlearn: 0.8242497\ttotal: 55.3ms\tremaining: 9.16s\n",
      "6:\tlearn: 0.8016727\ttotal: 55.5ms\tremaining: 7.87s\n",
      "7:\tlearn: 0.7784662\ttotal: 56ms\tremaining: 6.94s\n",
      "8:\tlearn: 0.7530286\ttotal: 56.5ms\tremaining: 6.22s\n",
      "9:\tlearn: 0.7288986\ttotal: 56.9ms\tremaining: 5.64s\n",
      "10:\tlearn: 0.7060925\ttotal: 57.3ms\tremaining: 5.15s\n",
      "11:\tlearn: 0.6854075\ttotal: 57.7ms\tremaining: 4.75s\n",
      "12:\tlearn: 0.6654122\ttotal: 58ms\tremaining: 4.4s\n",
      "13:\tlearn: 0.6450886\ttotal: 58.4ms\tremaining: 4.11s\n",
      "14:\tlearn: 0.6246292\ttotal: 58.7ms\tremaining: 3.85s\n",
      "15:\tlearn: 0.6042006\ttotal: 58.9ms\tremaining: 3.62s\n",
      "16:\tlearn: 0.5853518\ttotal: 59.1ms\tremaining: 3.42s\n",
      "17:\tlearn: 0.5680733\ttotal: 59.3ms\tremaining: 3.23s\n",
      "18:\tlearn: 0.5519837\ttotal: 59.6ms\tremaining: 3.08s\n",
      "19:\tlearn: 0.5362884\ttotal: 59.7ms\tremaining: 2.92s\n",
      "20:\tlearn: 0.5210665\ttotal: 59.9ms\tremaining: 2.79s\n",
      "21:\tlearn: 0.5067765\ttotal: 60.6ms\tremaining: 2.69s\n",
      "22:\tlearn: 0.4910286\ttotal: 63.2ms\tremaining: 2.68s\n"
     ]
    },
    {
     "name": "stdout",
     "output_type": "stream",
     "text": [
      "23:\tlearn: 0.4750171\ttotal: 64.8ms\tremaining: 2.63s\n",
      "24:\tlearn: 0.4603252\ttotal: 66.2ms\tremaining: 2.58s\n",
      "25:\tlearn: 0.4463202\ttotal: 66.8ms\tremaining: 2.5s\n",
      "26:\tlearn: 0.4334546\ttotal: 67.4ms\tremaining: 2.43s\n",
      "27:\tlearn: 0.4195254\ttotal: 67.6ms\tremaining: 2.35s\n",
      "28:\tlearn: 0.4077771\ttotal: 67.9ms\tremaining: 2.27s\n",
      "29:\tlearn: 0.3952413\ttotal: 68.8ms\tremaining: 2.22s\n",
      "30:\tlearn: 0.3832232\ttotal: 69.5ms\tremaining: 2.17s\n",
      "31:\tlearn: 0.3723791\ttotal: 70.4ms\tremaining: 2.13s\n",
      "32:\tlearn: 0.3615642\ttotal: 71.1ms\tremaining: 2.08s\n",
      "33:\tlearn: 0.3509400\ttotal: 71.8ms\tremaining: 2.04s\n",
      "34:\tlearn: 0.3415807\ttotal: 72.5ms\tremaining: 2s\n",
      "35:\tlearn: 0.3323922\ttotal: 72.8ms\tremaining: 1.95s\n",
      "36:\tlearn: 0.3232313\ttotal: 73.1ms\tremaining: 1.9s\n",
      "37:\tlearn: 0.3148682\ttotal: 73.3ms\tremaining: 1.86s\n",
      "38:\tlearn: 0.3061716\ttotal: 73.5ms\tremaining: 1.81s\n",
      "39:\tlearn: 0.2978371\ttotal: 74.5ms\tremaining: 1.79s\n",
      "40:\tlearn: 0.2892430\ttotal: 75.2ms\tremaining: 1.76s\n",
      "41:\tlearn: 0.2818777\ttotal: 76.6ms\tremaining: 1.75s\n",
      "42:\tlearn: 0.2745643\ttotal: 77.1ms\tremaining: 1.72s\n",
      "43:\tlearn: 0.2663131\ttotal: 77.4ms\tremaining: 1.68s\n",
      "44:\tlearn: 0.2588347\ttotal: 77.6ms\tremaining: 1.65s\n",
      "45:\tlearn: 0.2517278\ttotal: 77.9ms\tremaining: 1.61s\n",
      "46:\tlearn: 0.2458822\ttotal: 78ms\tremaining: 1.58s\n",
      "47:\tlearn: 0.2396418\ttotal: 78.3ms\tremaining: 1.55s\n",
      "48:\tlearn: 0.2325224\ttotal: 78.6ms\tremaining: 1.52s\n",
      "49:\tlearn: 0.2257917\ttotal: 79.9ms\tremaining: 1.52s\n",
      "50:\tlearn: 0.2200670\ttotal: 80.5ms\tremaining: 1.5s\n",
      "51:\tlearn: 0.2141729\ttotal: 81ms\tremaining: 1.48s\n",
      "52:\tlearn: 0.2085869\ttotal: 81.5ms\tremaining: 1.46s\n",
      "53:\tlearn: 0.2027130\ttotal: 82.6ms\tremaining: 1.45s\n",
      "54:\tlearn: 0.1974064\ttotal: 83ms\tremaining: 1.43s\n",
      "55:\tlearn: 0.1928774\ttotal: 84ms\tremaining: 1.42s\n",
      "56:\tlearn: 0.1877072\ttotal: 84.3ms\tremaining: 1.39s\n",
      "57:\tlearn: 0.1829465\ttotal: 84.5ms\tremaining: 1.37s\n",
      "58:\tlearn: 0.1794767\ttotal: 84.9ms\tremaining: 1.35s\n",
      "59:\tlearn: 0.1747552\ttotal: 86.3ms\tremaining: 1.35s\n",
      "60:\tlearn: 0.1699183\ttotal: 87ms\tremaining: 1.34s\n",
      "61:\tlearn: 0.1656495\ttotal: 87.8ms\tremaining: 1.33s\n",
      "62:\tlearn: 0.1615521\ttotal: 88.3ms\tremaining: 1.31s\n",
      "63:\tlearn: 0.1574360\ttotal: 88.7ms\tremaining: 1.3s\n",
      "64:\tlearn: 0.1534372\ttotal: 89.4ms\tremaining: 1.29s\n",
      "65:\tlearn: 0.1504661\ttotal: 89.8ms\tremaining: 1.27s\n",
      "66:\tlearn: 0.1468301\ttotal: 90.2ms\tremaining: 1.26s\n",
      "67:\tlearn: 0.1429170\ttotal: 91.6ms\tremaining: 1.25s\n",
      "68:\tlearn: 0.1393903\ttotal: 92.4ms\tremaining: 1.25s\n",
      "69:\tlearn: 0.1358002\ttotal: 92.9ms\tremaining: 1.23s\n",
      "70:\tlearn: 0.1325020\ttotal: 93.6ms\tremaining: 1.22s\n",
      "71:\tlearn: 0.1293740\ttotal: 93.9ms\tremaining: 1.21s\n",
      "72:\tlearn: 0.1262870\ttotal: 94.4ms\tremaining: 1.2s\n",
      "73:\tlearn: 0.1232164\ttotal: 94.9ms\tremaining: 1.19s\n",
      "74:\tlearn: 0.1209481\ttotal: 95.3ms\tremaining: 1.18s\n",
      "75:\tlearn: 0.1181741\ttotal: 95.8ms\tremaining: 1.16s\n",
      "76:\tlearn: 0.1155469\ttotal: 96.3ms\tremaining: 1.15s\n",
      "77:\tlearn: 0.1135908\ttotal: 96.6ms\tremaining: 1.14s\n",
      "78:\tlearn: 0.1119998\ttotal: 97ms\tremaining: 1.13s\n",
      "79:\tlearn: 0.1092840\ttotal: 97.4ms\tremaining: 1.12s\n",
      "80:\tlearn: 0.1072100\ttotal: 97.9ms\tremaining: 1.11s\n",
      "81:\tlearn: 0.1055416\ttotal: 98.2ms\tremaining: 1.1s\n",
      "82:\tlearn: 0.1032142\ttotal: 98.5ms\tremaining: 1.09s\n",
      "83:\tlearn: 0.1013941\ttotal: 98.9ms\tremaining: 1.08s\n",
      "84:\tlearn: 0.0994031\ttotal: 99.3ms\tremaining: 1.07s\n",
      "85:\tlearn: 0.0975314\ttotal: 99.8ms\tremaining: 1.06s\n",
      "86:\tlearn: 0.0953109\ttotal: 100ms\tremaining: 1.05s\n",
      "87:\tlearn: 0.0935057\ttotal: 101ms\tremaining: 1.04s\n",
      "88:\tlearn: 0.0914713\ttotal: 101ms\tremaining: 1.04s\n",
      "89:\tlearn: 0.0901641\ttotal: 102ms\tremaining: 1.03s\n",
      "90:\tlearn: 0.0886270\ttotal: 102ms\tremaining: 1.02s\n",
      "91:\tlearn: 0.0876556\ttotal: 102ms\tremaining: 1.01s\n",
      "92:\tlearn: 0.0864779\ttotal: 103ms\tremaining: 1s\n",
      "93:\tlearn: 0.0849560\ttotal: 103ms\tremaining: 994ms\n",
      "94:\tlearn: 0.0835235\ttotal: 104ms\tremaining: 988ms\n",
      "95:\tlearn: 0.0827207\ttotal: 104ms\tremaining: 979ms\n",
      "96:\tlearn: 0.0816420\ttotal: 104ms\tremaining: 971ms\n",
      "97:\tlearn: 0.0803057\ttotal: 105ms\tremaining: 964ms\n",
      "98:\tlearn: 0.0788065\ttotal: 105ms\tremaining: 957ms\n",
      "99:\tlearn: 0.0773157\ttotal: 106ms\tremaining: 950ms\n",
      "100:\tlearn: 0.0759162\ttotal: 106ms\tremaining: 943ms\n",
      "101:\tlearn: 0.0748148\ttotal: 106ms\tremaining: 938ms\n",
      "102:\tlearn: 0.0739416\ttotal: 107ms\tremaining: 930ms\n",
      "103:\tlearn: 0.0732361\ttotal: 107ms\tremaining: 923ms\n",
      "104:\tlearn: 0.0720438\ttotal: 108ms\tremaining: 917ms\n",
      "105:\tlearn: 0.0711497\ttotal: 108ms\tremaining: 911ms\n",
      "106:\tlearn: 0.0700632\ttotal: 108ms\tremaining: 905ms\n",
      "107:\tlearn: 0.0690320\ttotal: 109ms\tremaining: 900ms\n",
      "108:\tlearn: 0.0681160\ttotal: 109ms\tremaining: 895ms\n",
      "109:\tlearn: 0.0670704\ttotal: 110ms\tremaining: 889ms\n",
      "110:\tlearn: 0.0662789\ttotal: 111ms\tremaining: 889ms\n",
      "111:\tlearn: 0.0652361\ttotal: 112ms\tremaining: 885ms\n",
      "112:\tlearn: 0.0646607\ttotal: 113ms\tremaining: 883ms\n",
      "113:\tlearn: 0.0638770\ttotal: 113ms\tremaining: 880ms\n",
      "114:\tlearn: 0.0630274\ttotal: 114ms\tremaining: 877ms\n",
      "115:\tlearn: 0.0621556\ttotal: 115ms\tremaining: 873ms\n",
      "116:\tlearn: 0.0612517\ttotal: 115ms\tremaining: 870ms\n",
      "117:\tlearn: 0.0610140\ttotal: 116ms\tremaining: 865ms\n",
      "118:\tlearn: 0.0603041\ttotal: 116ms\tremaining: 862ms\n",
      "119:\tlearn: 0.0597445\ttotal: 117ms\tremaining: 859ms\n",
      "120:\tlearn: 0.0592812\ttotal: 117ms\tremaining: 853ms\n",
      "121:\tlearn: 0.0587105\ttotal: 118ms\tremaining: 848ms\n",
      "122:\tlearn: 0.0581910\ttotal: 118ms\tremaining: 843ms\n",
      "123:\tlearn: 0.0575852\ttotal: 119ms\tremaining: 838ms\n",
      "124:\tlearn: 0.0570966\ttotal: 119ms\tremaining: 834ms\n",
      "125:\tlearn: 0.0567472\ttotal: 120ms\tremaining: 830ms\n",
      "126:\tlearn: 0.0564127\ttotal: 120ms\tremaining: 826ms\n",
      "127:\tlearn: 0.0558822\ttotal: 121ms\tremaining: 822ms\n",
      "128:\tlearn: 0.0557527\ttotal: 121ms\tremaining: 819ms\n",
      "129:\tlearn: 0.0554245\ttotal: 122ms\tremaining: 815ms\n",
      "130:\tlearn: 0.0550357\ttotal: 122ms\tremaining: 811ms\n",
      "131:\tlearn: 0.0545489\ttotal: 123ms\tremaining: 807ms\n",
      "132:\tlearn: 0.0539471\ttotal: 123ms\tremaining: 803ms\n",
      "133:\tlearn: 0.0534489\ttotal: 124ms\tremaining: 800ms\n",
      "134:\tlearn: 0.0531295\ttotal: 124ms\tremaining: 796ms\n",
      "135:\tlearn: 0.0528039\ttotal: 125ms\tremaining: 793ms\n",
      "136:\tlearn: 0.0524586\ttotal: 125ms\tremaining: 789ms\n",
      "137:\tlearn: 0.0520323\ttotal: 126ms\tremaining: 786ms\n",
      "138:\tlearn: 0.0516025\ttotal: 126ms\tremaining: 782ms\n",
      "139:\tlearn: 0.0512490\ttotal: 127ms\tremaining: 778ms\n",
      "140:\tlearn: 0.0509332\ttotal: 127ms\tremaining: 775ms\n",
      "141:\tlearn: 0.0506616\ttotal: 128ms\tremaining: 772ms\n",
      "142:\tlearn: 0.0504200\ttotal: 128ms\tremaining: 769ms\n",
      "143:\tlearn: 0.0500598\ttotal: 129ms\tremaining: 766ms\n",
      "144:\tlearn: 0.0496631\ttotal: 129ms\tremaining: 762ms\n",
      "145:\tlearn: 0.0493259\ttotal: 130ms\tremaining: 758ms\n",
      "146:\tlearn: 0.0489429\ttotal: 130ms\tremaining: 755ms\n",
      "147:\tlearn: 0.0486123\ttotal: 131ms\tremaining: 752ms\n",
      "148:\tlearn: 0.0482446\ttotal: 131ms\tremaining: 749ms\n",
      "149:\tlearn: 0.0479773\ttotal: 132ms\tremaining: 746ms\n",
      "150:\tlearn: 0.0477909\ttotal: 132ms\tremaining: 743ms\n",
      "151:\tlearn: 0.0475313\ttotal: 133ms\tremaining: 740ms\n",
      "152:\tlearn: 0.0472618\ttotal: 133ms\tremaining: 737ms\n",
      "153:\tlearn: 0.0470173\ttotal: 134ms\tremaining: 734ms\n",
      "154:\tlearn: 0.0467276\ttotal: 134ms\tremaining: 731ms\n",
      "155:\tlearn: 0.0465863\ttotal: 135ms\tremaining: 728ms\n",
      "156:\tlearn: 0.0464565\ttotal: 135ms\tremaining: 725ms\n",
      "157:\tlearn: 0.0462712\ttotal: 136ms\tremaining: 723ms\n",
      "158:\tlearn: 0.0460493\ttotal: 136ms\tremaining: 720ms\n",
      "159:\tlearn: 0.0458275\ttotal: 137ms\tremaining: 717ms\n",
      "160:\tlearn: 0.0456169\ttotal: 137ms\tremaining: 714ms\n",
      "161:\tlearn: 0.0454357\ttotal: 138ms\tremaining: 711ms\n",
      "162:\tlearn: 0.0452020\ttotal: 138ms\tremaining: 709ms\n",
      "163:\tlearn: 0.0450374\ttotal: 139ms\tremaining: 707ms\n",
      "164:\tlearn: 0.0448688\ttotal: 139ms\tremaining: 704ms\n",
      "165:\tlearn: 0.0446848\ttotal: 140ms\tremaining: 701ms\n",
      "166:\tlearn: 0.0445178\ttotal: 140ms\tremaining: 698ms\n",
      "167:\tlearn: 0.0443099\ttotal: 140ms\tremaining: 695ms\n",
      "168:\tlearn: 0.0442259\ttotal: 141ms\tremaining: 693ms\n",
      "169:\tlearn: 0.0440464\ttotal: 141ms\tremaining: 691ms\n",
      "170:\tlearn: 0.0438761\ttotal: 142ms\tremaining: 688ms\n",
      "171:\tlearn: 0.0436715\ttotal: 143ms\tremaining: 686ms\n",
      "172:\tlearn: 0.0435217\ttotal: 143ms\tremaining: 683ms\n",
      "173:\tlearn: 0.0434135\ttotal: 143ms\tremaining: 681ms\n",
      "174:\tlearn: 0.0432702\ttotal: 144ms\tremaining: 678ms\n",
      "175:\tlearn: 0.0430708\ttotal: 144ms\tremaining: 676ms\n",
      "176:\tlearn: 0.0429173\ttotal: 145ms\tremaining: 674ms\n",
      "177:\tlearn: 0.0427272\ttotal: 145ms\tremaining: 671ms\n",
      "178:\tlearn: 0.0425932\ttotal: 146ms\tremaining: 669ms\n",
      "179:\tlearn: 0.0425093\ttotal: 146ms\tremaining: 667ms\n",
      "180:\tlearn: 0.0423413\ttotal: 147ms\tremaining: 664ms\n",
      "181:\tlearn: 0.0422261\ttotal: 147ms\tremaining: 662ms\n",
      "182:\tlearn: 0.0420450\ttotal: 148ms\tremaining: 659ms\n",
      "183:\tlearn: 0.0418829\ttotal: 149ms\tremaining: 659ms\n",
      "184:\tlearn: 0.0417908\ttotal: 149ms\tremaining: 657ms\n",
      "185:\tlearn: 0.0416408\ttotal: 150ms\tremaining: 655ms\n",
      "186:\tlearn: 0.0415058\ttotal: 150ms\tremaining: 653ms\n"
     ]
    },
    {
     "name": "stdout",
     "output_type": "stream",
     "text": [
      "187:\tlearn: 0.0413334\ttotal: 152ms\tremaining: 655ms\n",
      "188:\tlearn: 0.0412190\ttotal: 152ms\tremaining: 653ms\n",
      "189:\tlearn: 0.0410944\ttotal: 153ms\tremaining: 652ms\n",
      "190:\tlearn: 0.0409677\ttotal: 153ms\tremaining: 650ms\n",
      "191:\tlearn: 0.0407116\ttotal: 154ms\tremaining: 648ms\n",
      "192:\tlearn: 0.0405410\ttotal: 154ms\tremaining: 646ms\n",
      "193:\tlearn: 0.0404231\ttotal: 155ms\tremaining: 644ms\n",
      "194:\tlearn: 0.0401977\ttotal: 156ms\tremaining: 642ms\n",
      "195:\tlearn: 0.0400541\ttotal: 156ms\tremaining: 640ms\n",
      "196:\tlearn: 0.0397690\ttotal: 156ms\tremaining: 638ms\n",
      "197:\tlearn: 0.0396328\ttotal: 157ms\tremaining: 636ms\n",
      "198:\tlearn: 0.0395103\ttotal: 157ms\tremaining: 634ms\n",
      "199:\tlearn: 0.0393945\ttotal: 158ms\tremaining: 632ms\n",
      "200:\tlearn: 0.0392743\ttotal: 158ms\tremaining: 630ms\n",
      "201:\tlearn: 0.0391700\ttotal: 159ms\tremaining: 628ms\n",
      "202:\tlearn: 0.0390957\ttotal: 160ms\tremaining: 626ms\n",
      "203:\tlearn: 0.0390207\ttotal: 160ms\tremaining: 625ms\n",
      "204:\tlearn: 0.0389250\ttotal: 161ms\tremaining: 623ms\n",
      "205:\tlearn: 0.0386572\ttotal: 161ms\tremaining: 621ms\n",
      "206:\tlearn: 0.0385199\ttotal: 162ms\tremaining: 619ms\n",
      "207:\tlearn: 0.0383874\ttotal: 162ms\tremaining: 617ms\n",
      "208:\tlearn: 0.0382382\ttotal: 163ms\tremaining: 615ms\n",
      "209:\tlearn: 0.0381188\ttotal: 163ms\tremaining: 614ms\n",
      "210:\tlearn: 0.0379102\ttotal: 164ms\tremaining: 612ms\n",
      "211:\tlearn: 0.0378150\ttotal: 164ms\tremaining: 610ms\n",
      "212:\tlearn: 0.0377134\ttotal: 165ms\tremaining: 608ms\n",
      "213:\tlearn: 0.0376353\ttotal: 165ms\tremaining: 607ms\n",
      "214:\tlearn: 0.0375353\ttotal: 166ms\tremaining: 606ms\n",
      "215:\tlearn: 0.0374249\ttotal: 166ms\tremaining: 604ms\n",
      "216:\tlearn: 0.0372325\ttotal: 167ms\tremaining: 603ms\n",
      "217:\tlearn: 0.0371519\ttotal: 168ms\tremaining: 601ms\n",
      "218:\tlearn: 0.0369313\ttotal: 168ms\tremaining: 599ms\n",
      "219:\tlearn: 0.0368765\ttotal: 168ms\tremaining: 597ms\n",
      "220:\tlearn: 0.0367046\ttotal: 169ms\tremaining: 595ms\n",
      "221:\tlearn: 0.0366028\ttotal: 169ms\tremaining: 594ms\n",
      "222:\tlearn: 0.0364945\ttotal: 170ms\tremaining: 592ms\n",
      "223:\tlearn: 0.0362693\ttotal: 170ms\tremaining: 591ms\n",
      "224:\tlearn: 0.0361477\ttotal: 171ms\tremaining: 589ms\n",
      "225:\tlearn: 0.0360667\ttotal: 171ms\tremaining: 587ms\n",
      "226:\tlearn: 0.0359533\ttotal: 172ms\tremaining: 585ms\n",
      "227:\tlearn: 0.0357565\ttotal: 172ms\tremaining: 584ms\n",
      "228:\tlearn: 0.0355170\ttotal: 173ms\tremaining: 582ms\n",
      "229:\tlearn: 0.0354576\ttotal: 173ms\tremaining: 581ms\n",
      "230:\tlearn: 0.0353572\ttotal: 174ms\tremaining: 579ms\n",
      "231:\tlearn: 0.0352117\ttotal: 174ms\tremaining: 578ms\n",
      "232:\tlearn: 0.0351193\ttotal: 175ms\tremaining: 576ms\n",
      "233:\tlearn: 0.0349936\ttotal: 176ms\tremaining: 575ms\n",
      "234:\tlearn: 0.0348184\ttotal: 176ms\tremaining: 573ms\n",
      "235:\tlearn: 0.0346162\ttotal: 177ms\tremaining: 572ms\n",
      "236:\tlearn: 0.0344858\ttotal: 177ms\tremaining: 570ms\n",
      "237:\tlearn: 0.0343986\ttotal: 178ms\tremaining: 569ms\n",
      "238:\tlearn: 0.0342960\ttotal: 178ms\tremaining: 567ms\n",
      "239:\tlearn: 0.0341887\ttotal: 179ms\tremaining: 565ms\n",
      "240:\tlearn: 0.0341092\ttotal: 179ms\tremaining: 564ms\n",
      "241:\tlearn: 0.0339893\ttotal: 180ms\tremaining: 562ms\n",
      "242:\tlearn: 0.0339087\ttotal: 180ms\tremaining: 561ms\n",
      "243:\tlearn: 0.0338472\ttotal: 181ms\tremaining: 559ms\n",
      "244:\tlearn: 0.0337744\ttotal: 181ms\tremaining: 558ms\n",
      "245:\tlearn: 0.0337284\ttotal: 182ms\tremaining: 556ms\n",
      "246:\tlearn: 0.0336461\ttotal: 182ms\tremaining: 555ms\n",
      "247:\tlearn: 0.0335470\ttotal: 182ms\tremaining: 553ms\n",
      "248:\tlearn: 0.0334394\ttotal: 183ms\tremaining: 552ms\n",
      "249:\tlearn: 0.0333471\ttotal: 183ms\tremaining: 550ms\n",
      "250:\tlearn: 0.0332735\ttotal: 184ms\tremaining: 549ms\n",
      "251:\tlearn: 0.0330855\ttotal: 185ms\tremaining: 548ms\n",
      "252:\tlearn: 0.0329461\ttotal: 185ms\tremaining: 547ms\n",
      "253:\tlearn: 0.0328593\ttotal: 186ms\tremaining: 546ms\n",
      "254:\tlearn: 0.0327144\ttotal: 186ms\tremaining: 544ms\n",
      "255:\tlearn: 0.0325505\ttotal: 187ms\tremaining: 543ms\n",
      "256:\tlearn: 0.0324760\ttotal: 187ms\tremaining: 541ms\n",
      "257:\tlearn: 0.0324302\ttotal: 188ms\tremaining: 540ms\n",
      "258:\tlearn: 0.0323518\ttotal: 188ms\tremaining: 538ms\n",
      "259:\tlearn: 0.0322713\ttotal: 189ms\tremaining: 537ms\n",
      "260:\tlearn: 0.0321646\ttotal: 189ms\tremaining: 535ms\n",
      "261:\tlearn: 0.0320604\ttotal: 190ms\tremaining: 534ms\n",
      "262:\tlearn: 0.0319743\ttotal: 190ms\tremaining: 533ms\n",
      "263:\tlearn: 0.0318951\ttotal: 191ms\tremaining: 531ms\n",
      "264:\tlearn: 0.0317452\ttotal: 191ms\tremaining: 530ms\n",
      "265:\tlearn: 0.0316193\ttotal: 191ms\tremaining: 528ms\n",
      "266:\tlearn: 0.0315786\ttotal: 192ms\tremaining: 527ms\n",
      "267:\tlearn: 0.0314952\ttotal: 192ms\tremaining: 525ms\n",
      "268:\tlearn: 0.0314537\ttotal: 193ms\tremaining: 524ms\n",
      "269:\tlearn: 0.0314018\ttotal: 193ms\tremaining: 523ms\n",
      "270:\tlearn: 0.0312992\ttotal: 194ms\tremaining: 522ms\n",
      "271:\tlearn: 0.0312285\ttotal: 195ms\tremaining: 521ms\n",
      "272:\tlearn: 0.0311600\ttotal: 195ms\tremaining: 519ms\n",
      "273:\tlearn: 0.0311175\ttotal: 195ms\tremaining: 518ms\n",
      "274:\tlearn: 0.0310414\ttotal: 196ms\tremaining: 517ms\n",
      "275:\tlearn: 0.0309541\ttotal: 196ms\tremaining: 515ms\n",
      "276:\tlearn: 0.0308866\ttotal: 197ms\tremaining: 514ms\n",
      "277:\tlearn: 0.0308028\ttotal: 198ms\tremaining: 513ms\n",
      "278:\tlearn: 0.0307105\ttotal: 198ms\tremaining: 512ms\n",
      "279:\tlearn: 0.0305861\ttotal: 200ms\tremaining: 513ms\n",
      "280:\tlearn: 0.0304544\ttotal: 200ms\tremaining: 513ms\n",
      "281:\tlearn: 0.0303931\ttotal: 201ms\tremaining: 513ms\n",
      "282:\tlearn: 0.0303318\ttotal: 202ms\tremaining: 512ms\n",
      "283:\tlearn: 0.0302942\ttotal: 203ms\tremaining: 511ms\n",
      "284:\tlearn: 0.0301850\ttotal: 203ms\tremaining: 510ms\n",
      "285:\tlearn: 0.0300822\ttotal: 204ms\tremaining: 508ms\n",
      "286:\tlearn: 0.0300264\ttotal: 204ms\tremaining: 507ms\n",
      "287:\tlearn: 0.0299518\ttotal: 205ms\tremaining: 506ms\n"
     ]
    },
    {
     "name": "stdout",
     "output_type": "stream",
     "text": [
      "288:\tlearn: 0.0298770\ttotal: 207ms\tremaining: 510ms\n",
      "289:\tlearn: 0.0298208\ttotal: 208ms\tremaining: 510ms\n",
      "290:\tlearn: 0.0297255\ttotal: 209ms\tremaining: 509ms\n",
      "291:\tlearn: 0.0296661\ttotal: 210ms\tremaining: 508ms\n",
      "292:\tlearn: 0.0296119\ttotal: 211ms\tremaining: 508ms\n",
      "293:\tlearn: 0.0295634\ttotal: 212ms\tremaining: 508ms\n",
      "294:\tlearn: 0.0294967\ttotal: 212ms\tremaining: 507ms\n",
      "295:\tlearn: 0.0294301\ttotal: 213ms\tremaining: 506ms\n",
      "296:\tlearn: 0.0293158\ttotal: 213ms\tremaining: 505ms\n",
      "297:\tlearn: 0.0292674\ttotal: 214ms\tremaining: 505ms\n",
      "298:\tlearn: 0.0291606\ttotal: 215ms\tremaining: 503ms\n",
      "299:\tlearn: 0.0291129\ttotal: 215ms\tremaining: 502ms\n",
      "300:\tlearn: 0.0290727\ttotal: 216ms\tremaining: 501ms\n",
      "301:\tlearn: 0.0290336\ttotal: 217ms\tremaining: 501ms\n",
      "302:\tlearn: 0.0289786\ttotal: 217ms\tremaining: 500ms\n",
      "303:\tlearn: 0.0289156\ttotal: 218ms\tremaining: 499ms\n",
      "304:\tlearn: 0.0288307\ttotal: 219ms\tremaining: 499ms\n",
      "305:\tlearn: 0.0287997\ttotal: 220ms\tremaining: 498ms\n",
      "306:\tlearn: 0.0287401\ttotal: 220ms\tremaining: 497ms\n",
      "307:\tlearn: 0.0286799\ttotal: 221ms\tremaining: 497ms\n",
      "308:\tlearn: 0.0286280\ttotal: 222ms\tremaining: 496ms\n",
      "309:\tlearn: 0.0285661\ttotal: 222ms\tremaining: 495ms\n",
      "310:\tlearn: 0.0285196\ttotal: 224ms\tremaining: 496ms\n",
      "311:\tlearn: 0.0284826\ttotal: 224ms\tremaining: 494ms\n",
      "312:\tlearn: 0.0283960\ttotal: 224ms\tremaining: 493ms\n",
      "313:\tlearn: 0.0283154\ttotal: 225ms\tremaining: 491ms\n",
      "314:\tlearn: 0.0282085\ttotal: 225ms\tremaining: 489ms\n",
      "315:\tlearn: 0.0281233\ttotal: 225ms\tremaining: 487ms\n",
      "316:\tlearn: 0.0280841\ttotal: 226ms\tremaining: 487ms\n",
      "317:\tlearn: 0.0280041\ttotal: 227ms\tremaining: 486ms\n",
      "318:\tlearn: 0.0279613\ttotal: 227ms\tremaining: 485ms\n",
      "319:\tlearn: 0.0279201\ttotal: 227ms\tremaining: 483ms\n",
      "320:\tlearn: 0.0278722\ttotal: 228ms\tremaining: 481ms\n",
      "321:\tlearn: 0.0278391\ttotal: 228ms\tremaining: 480ms\n",
      "322:\tlearn: 0.0277445\ttotal: 228ms\tremaining: 478ms\n",
      "323:\tlearn: 0.0277178\ttotal: 229ms\tremaining: 477ms\n",
      "324:\tlearn: 0.0276411\ttotal: 229ms\tremaining: 476ms\n",
      "325:\tlearn: 0.0275535\ttotal: 230ms\tremaining: 475ms\n",
      "326:\tlearn: 0.0274997\ttotal: 230ms\tremaining: 473ms\n",
      "327:\tlearn: 0.0274512\ttotal: 230ms\tremaining: 472ms\n",
      "328:\tlearn: 0.0274060\ttotal: 231ms\tremaining: 470ms\n",
      "329:\tlearn: 0.0273139\ttotal: 231ms\tremaining: 469ms\n",
      "330:\tlearn: 0.0272760\ttotal: 231ms\tremaining: 468ms\n",
      "331:\tlearn: 0.0272379\ttotal: 232ms\tremaining: 467ms\n",
      "332:\tlearn: 0.0272074\ttotal: 232ms\tremaining: 466ms\n",
      "333:\tlearn: 0.0271573\ttotal: 233ms\tremaining: 465ms\n",
      "334:\tlearn: 0.0270836\ttotal: 234ms\tremaining: 464ms\n",
      "335:\tlearn: 0.0270380\ttotal: 234ms\tremaining: 462ms\n",
      "336:\tlearn: 0.0270090\ttotal: 234ms\tremaining: 461ms\n",
      "337:\tlearn: 0.0269682\ttotal: 235ms\tremaining: 459ms\n",
      "338:\tlearn: 0.0269399\ttotal: 235ms\tremaining: 459ms\n",
      "339:\tlearn: 0.0268988\ttotal: 236ms\tremaining: 457ms\n",
      "340:\tlearn: 0.0268323\ttotal: 236ms\tremaining: 456ms\n",
      "341:\tlearn: 0.0267945\ttotal: 236ms\tremaining: 455ms\n",
      "342:\tlearn: 0.0267569\ttotal: 237ms\tremaining: 453ms\n",
      "343:\tlearn: 0.0266884\ttotal: 237ms\tremaining: 452ms\n",
      "344:\tlearn: 0.0266032\ttotal: 238ms\tremaining: 451ms\n",
      "345:\tlearn: 0.0265628\ttotal: 238ms\tremaining: 450ms\n",
      "346:\tlearn: 0.0265208\ttotal: 238ms\tremaining: 449ms\n",
      "347:\tlearn: 0.0264994\ttotal: 239ms\tremaining: 448ms\n",
      "348:\tlearn: 0.0264575\ttotal: 239ms\tremaining: 446ms\n",
      "349:\tlearn: 0.0264196\ttotal: 240ms\tremaining: 445ms\n",
      "350:\tlearn: 0.0263850\ttotal: 240ms\tremaining: 444ms\n",
      "351:\tlearn: 0.0263095\ttotal: 240ms\tremaining: 443ms\n",
      "352:\tlearn: 0.0262586\ttotal: 241ms\tremaining: 441ms\n",
      "353:\tlearn: 0.0262171\ttotal: 241ms\tremaining: 440ms\n",
      "354:\tlearn: 0.0261746\ttotal: 242ms\tremaining: 439ms\n",
      "355:\tlearn: 0.0261028\ttotal: 242ms\tremaining: 438ms\n",
      "356:\tlearn: 0.0260639\ttotal: 243ms\tremaining: 437ms\n",
      "357:\tlearn: 0.0259883\ttotal: 243ms\tremaining: 436ms\n",
      "358:\tlearn: 0.0259174\ttotal: 243ms\tremaining: 434ms\n",
      "359:\tlearn: 0.0258731\ttotal: 244ms\tremaining: 433ms\n",
      "360:\tlearn: 0.0258174\ttotal: 244ms\tremaining: 432ms\n",
      "361:\tlearn: 0.0257557\ttotal: 244ms\tremaining: 431ms\n",
      "362:\tlearn: 0.0257108\ttotal: 245ms\tremaining: 430ms\n",
      "363:\tlearn: 0.0256504\ttotal: 245ms\tremaining: 429ms\n",
      "364:\tlearn: 0.0255963\ttotal: 246ms\tremaining: 427ms\n",
      "365:\tlearn: 0.0255592\ttotal: 246ms\tremaining: 426ms\n",
      "366:\tlearn: 0.0255198\ttotal: 246ms\tremaining: 425ms\n",
      "367:\tlearn: 0.0254728\ttotal: 247ms\tremaining: 424ms\n",
      "368:\tlearn: 0.0254316\ttotal: 247ms\tremaining: 423ms\n",
      "369:\tlearn: 0.0253742\ttotal: 248ms\tremaining: 422ms\n",
      "370:\tlearn: 0.0253201\ttotal: 248ms\tremaining: 421ms\n",
      "371:\tlearn: 0.0252698\ttotal: 248ms\tremaining: 419ms\n",
      "372:\tlearn: 0.0252332\ttotal: 249ms\tremaining: 418ms\n",
      "373:\tlearn: 0.0251872\ttotal: 249ms\tremaining: 417ms\n",
      "374:\tlearn: 0.0251426\ttotal: 249ms\tremaining: 415ms\n",
      "375:\tlearn: 0.0250518\ttotal: 250ms\tremaining: 414ms\n",
      "376:\tlearn: 0.0250181\ttotal: 250ms\tremaining: 413ms\n",
      "377:\tlearn: 0.0249846\ttotal: 251ms\tremaining: 413ms\n",
      "378:\tlearn: 0.0249344\ttotal: 251ms\tremaining: 412ms\n",
      "379:\tlearn: 0.0248933\ttotal: 252ms\tremaining: 411ms\n",
      "380:\tlearn: 0.0248254\ttotal: 252ms\tremaining: 410ms\n",
      "381:\tlearn: 0.0247951\ttotal: 252ms\tremaining: 408ms\n",
      "382:\tlearn: 0.0247604\ttotal: 253ms\tremaining: 407ms\n",
      "383:\tlearn: 0.0247137\ttotal: 253ms\tremaining: 406ms\n",
      "384:\tlearn: 0.0246492\ttotal: 254ms\tremaining: 406ms\n",
      "385:\tlearn: 0.0245964\ttotal: 254ms\tremaining: 405ms\n",
      "386:\tlearn: 0.0245651\ttotal: 255ms\tremaining: 404ms\n",
      "387:\tlearn: 0.0245222\ttotal: 255ms\tremaining: 402ms\n",
      "388:\tlearn: 0.0244621\ttotal: 255ms\tremaining: 401ms\n",
      "389:\tlearn: 0.0244351\ttotal: 256ms\tremaining: 400ms\n",
      "390:\tlearn: 0.0243834\ttotal: 256ms\tremaining: 399ms\n",
      "391:\tlearn: 0.0243521\ttotal: 257ms\tremaining: 398ms\n",
      "392:\tlearn: 0.0243361\ttotal: 258ms\tremaining: 398ms\n",
      "393:\tlearn: 0.0243026\ttotal: 259ms\tremaining: 398ms\n",
      "394:\tlearn: 0.0242681\ttotal: 259ms\tremaining: 397ms\n",
      "395:\tlearn: 0.0242221\ttotal: 260ms\tremaining: 396ms\n",
      "396:\tlearn: 0.0242032\ttotal: 261ms\tremaining: 396ms\n",
      "397:\tlearn: 0.0241511\ttotal: 261ms\tremaining: 395ms\n",
      "398:\tlearn: 0.0241074\ttotal: 267ms\tremaining: 403ms\n",
      "399:\tlearn: 0.0240758\ttotal: 268ms\tremaining: 402ms\n",
      "400:\tlearn: 0.0240270\ttotal: 269ms\tremaining: 402ms\n",
      "401:\tlearn: 0.0240123\ttotal: 271ms\tremaining: 403ms\n",
      "402:\tlearn: 0.0239460\ttotal: 271ms\tremaining: 402ms\n",
      "403:\tlearn: 0.0239190\ttotal: 272ms\tremaining: 401ms\n",
      "404:\tlearn: 0.0238672\ttotal: 272ms\tremaining: 400ms\n",
      "405:\tlearn: 0.0238345\ttotal: 273ms\tremaining: 399ms\n",
      "406:\tlearn: 0.0238073\ttotal: 273ms\tremaining: 398ms\n",
      "407:\tlearn: 0.0237520\ttotal: 273ms\tremaining: 397ms\n",
      "408:\tlearn: 0.0237160\ttotal: 274ms\tremaining: 395ms\n",
      "409:\tlearn: 0.0236596\ttotal: 274ms\tremaining: 394ms\n",
      "410:\tlearn: 0.0236206\ttotal: 274ms\tremaining: 393ms\n",
      "411:\tlearn: 0.0235741\ttotal: 275ms\tremaining: 392ms\n",
      "412:\tlearn: 0.0235403\ttotal: 275ms\tremaining: 391ms\n",
      "413:\tlearn: 0.0234947\ttotal: 276ms\tremaining: 390ms\n",
      "414:\tlearn: 0.0234432\ttotal: 276ms\tremaining: 389ms\n",
      "415:\tlearn: 0.0233984\ttotal: 276ms\tremaining: 388ms\n",
      "416:\tlearn: 0.0233755\ttotal: 277ms\tremaining: 387ms\n",
      "417:\tlearn: 0.0233317\ttotal: 277ms\tremaining: 386ms\n",
      "418:\tlearn: 0.0233082\ttotal: 277ms\tremaining: 385ms\n",
      "419:\tlearn: 0.0232649\ttotal: 278ms\tremaining: 384ms\n",
      "420:\tlearn: 0.0232450\ttotal: 278ms\tremaining: 383ms\n",
      "421:\tlearn: 0.0232147\ttotal: 279ms\tremaining: 382ms\n",
      "422:\tlearn: 0.0231919\ttotal: 279ms\tremaining: 380ms\n",
      "423:\tlearn: 0.0231462\ttotal: 279ms\tremaining: 379ms\n",
      "424:\tlearn: 0.0231045\ttotal: 279ms\tremaining: 378ms\n",
      "425:\tlearn: 0.0230811\ttotal: 280ms\tremaining: 377ms\n",
      "426:\tlearn: 0.0230411\ttotal: 280ms\tremaining: 376ms\n",
      "427:\tlearn: 0.0229993\ttotal: 280ms\tremaining: 375ms\n",
      "428:\tlearn: 0.0229742\ttotal: 281ms\tremaining: 374ms\n",
      "429:\tlearn: 0.0229461\ttotal: 281ms\tremaining: 372ms\n",
      "430:\tlearn: 0.0229174\ttotal: 282ms\tremaining: 372ms\n",
      "431:\tlearn: 0.0228936\ttotal: 282ms\tremaining: 371ms\n",
      "432:\tlearn: 0.0228620\ttotal: 282ms\tremaining: 369ms\n",
      "433:\tlearn: 0.0228415\ttotal: 282ms\tremaining: 368ms\n",
      "434:\tlearn: 0.0227942\ttotal: 283ms\tremaining: 368ms\n",
      "435:\tlearn: 0.0227775\ttotal: 284ms\tremaining: 367ms\n",
      "436:\tlearn: 0.0227504\ttotal: 284ms\tremaining: 366ms\n",
      "437:\tlearn: 0.0226869\ttotal: 285ms\tremaining: 365ms\n",
      "438:\tlearn: 0.0226566\ttotal: 285ms\tremaining: 364ms\n",
      "439:\tlearn: 0.0226104\ttotal: 285ms\tremaining: 363ms\n",
      "440:\tlearn: 0.0225800\ttotal: 285ms\tremaining: 362ms\n",
      "441:\tlearn: 0.0225295\ttotal: 286ms\tremaining: 362ms\n",
      "442:\tlearn: 0.0224919\ttotal: 287ms\tremaining: 360ms\n",
      "443:\tlearn: 0.0224593\ttotal: 287ms\tremaining: 359ms\n",
      "444:\tlearn: 0.0224293\ttotal: 288ms\tremaining: 359ms\n",
      "445:\tlearn: 0.0223912\ttotal: 288ms\tremaining: 357ms\n",
      "446:\tlearn: 0.0223666\ttotal: 288ms\tremaining: 356ms\n",
      "447:\tlearn: 0.0223409\ttotal: 288ms\tremaining: 355ms\n",
      "448:\tlearn: 0.0223046\ttotal: 289ms\tremaining: 355ms\n",
      "449:\tlearn: 0.0222757\ttotal: 289ms\tremaining: 354ms\n",
      "450:\tlearn: 0.0222358\ttotal: 290ms\tremaining: 352ms\n",
      "451:\tlearn: 0.0221980\ttotal: 290ms\tremaining: 351ms\n",
      "452:\tlearn: 0.0221706\ttotal: 291ms\tremaining: 351ms\n",
      "453:\tlearn: 0.0221437\ttotal: 291ms\tremaining: 350ms\n",
      "454:\tlearn: 0.0221093\ttotal: 291ms\tremaining: 349ms\n",
      "455:\tlearn: 0.0220667\ttotal: 292ms\tremaining: 348ms\n",
      "456:\tlearn: 0.0220097\ttotal: 292ms\tremaining: 347ms\n",
      "457:\tlearn: 0.0219821\ttotal: 293ms\tremaining: 346ms\n",
      "458:\tlearn: 0.0219349\ttotal: 293ms\tremaining: 346ms\n",
      "459:\tlearn: 0.0219137\ttotal: 294ms\tremaining: 345ms\n",
      "460:\tlearn: 0.0218695\ttotal: 294ms\tremaining: 344ms\n",
      "461:\tlearn: 0.0218249\ttotal: 295ms\tremaining: 343ms\n",
      "462:\tlearn: 0.0218116\ttotal: 295ms\tremaining: 342ms\n",
      "463:\tlearn: 0.0217837\ttotal: 295ms\tremaining: 341ms\n",
      "464:\tlearn: 0.0217605\ttotal: 296ms\tremaining: 340ms\n",
      "465:\tlearn: 0.0217267\ttotal: 296ms\tremaining: 339ms\n",
      "466:\tlearn: 0.0217039\ttotal: 296ms\tremaining: 338ms\n",
      "467:\tlearn: 0.0216665\ttotal: 298ms\tremaining: 338ms\n"
     ]
    },
    {
     "name": "stdout",
     "output_type": "stream",
     "text": [
      "468:\tlearn: 0.0216258\ttotal: 299ms\tremaining: 338ms\n",
      "469:\tlearn: 0.0216017\ttotal: 300ms\tremaining: 339ms\n",
      "470:\tlearn: 0.0215766\ttotal: 301ms\tremaining: 338ms\n",
      "471:\tlearn: 0.0215523\ttotal: 302ms\tremaining: 338ms\n",
      "472:\tlearn: 0.0215109\ttotal: 303ms\tremaining: 337ms\n",
      "473:\tlearn: 0.0214827\ttotal: 303ms\tremaining: 336ms\n",
      "474:\tlearn: 0.0214540\ttotal: 303ms\tremaining: 335ms\n",
      "475:\tlearn: 0.0214073\ttotal: 304ms\tremaining: 334ms\n",
      "476:\tlearn: 0.0213879\ttotal: 304ms\tremaining: 334ms\n",
      "477:\tlearn: 0.0213681\ttotal: 305ms\tremaining: 333ms\n",
      "478:\tlearn: 0.0213274\ttotal: 306ms\tremaining: 332ms\n",
      "479:\tlearn: 0.0213095\ttotal: 306ms\tremaining: 332ms\n",
      "480:\tlearn: 0.0212895\ttotal: 306ms\tremaining: 331ms\n",
      "481:\tlearn: 0.0212511\ttotal: 307ms\tremaining: 330ms\n",
      "482:\tlearn: 0.0212100\ttotal: 307ms\tremaining: 329ms\n",
      "483:\tlearn: 0.0211855\ttotal: 307ms\tremaining: 327ms\n",
      "484:\tlearn: 0.0211636\ttotal: 308ms\tremaining: 327ms\n",
      "485:\tlearn: 0.0211384\ttotal: 308ms\tremaining: 326ms\n",
      "486:\tlearn: 0.0211200\ttotal: 308ms\tremaining: 325ms\n",
      "487:\tlearn: 0.0210872\ttotal: 308ms\tremaining: 324ms\n",
      "488:\tlearn: 0.0210665\ttotal: 309ms\tremaining: 323ms\n",
      "489:\tlearn: 0.0210330\ttotal: 309ms\tremaining: 322ms\n",
      "490:\tlearn: 0.0210097\ttotal: 309ms\tremaining: 321ms\n",
      "491:\tlearn: 0.0209664\ttotal: 310ms\tremaining: 320ms\n",
      "492:\tlearn: 0.0209514\ttotal: 310ms\tremaining: 319ms\n",
      "493:\tlearn: 0.0209277\ttotal: 310ms\tremaining: 318ms\n",
      "494:\tlearn: 0.0208969\ttotal: 311ms\tremaining: 317ms\n",
      "495:\tlearn: 0.0208719\ttotal: 311ms\tremaining: 316ms\n",
      "496:\tlearn: 0.0208384\ttotal: 312ms\tremaining: 316ms\n",
      "497:\tlearn: 0.0208161\ttotal: 313ms\tremaining: 315ms\n",
      "498:\tlearn: 0.0207846\ttotal: 314ms\tremaining: 315ms\n",
      "499:\tlearn: 0.0207526\ttotal: 314ms\tremaining: 314ms\n",
      "500:\tlearn: 0.0207294\ttotal: 315ms\tremaining: 313ms\n",
      "501:\tlearn: 0.0207149\ttotal: 315ms\tremaining: 313ms\n",
      "502:\tlearn: 0.0206802\ttotal: 315ms\tremaining: 312ms\n",
      "503:\tlearn: 0.0206570\ttotal: 316ms\tremaining: 311ms\n",
      "504:\tlearn: 0.0206394\ttotal: 316ms\tremaining: 310ms\n",
      "505:\tlearn: 0.0206103\ttotal: 317ms\tremaining: 309ms\n",
      "506:\tlearn: 0.0205963\ttotal: 317ms\tremaining: 309ms\n",
      "507:\tlearn: 0.0205520\ttotal: 318ms\tremaining: 308ms\n",
      "508:\tlearn: 0.0205285\ttotal: 318ms\tremaining: 307ms\n",
      "509:\tlearn: 0.0205094\ttotal: 319ms\tremaining: 306ms\n",
      "510:\tlearn: 0.0204945\ttotal: 319ms\tremaining: 306ms\n",
      "511:\tlearn: 0.0204741\ttotal: 320ms\tremaining: 305ms\n",
      "512:\tlearn: 0.0204569\ttotal: 321ms\tremaining: 304ms\n",
      "513:\tlearn: 0.0204436\ttotal: 321ms\tremaining: 303ms\n",
      "514:\tlearn: 0.0204309\ttotal: 321ms\tremaining: 302ms\n",
      "515:\tlearn: 0.0204177\ttotal: 321ms\tremaining: 301ms\n",
      "516:\tlearn: 0.0204036\ttotal: 322ms\tremaining: 301ms\n",
      "517:\tlearn: 0.0203737\ttotal: 323ms\tremaining: 301ms\n",
      "518:\tlearn: 0.0203414\ttotal: 323ms\tremaining: 300ms\n",
      "519:\tlearn: 0.0203124\ttotal: 324ms\tremaining: 299ms\n",
      "520:\tlearn: 0.0202816\ttotal: 324ms\tremaining: 298ms\n",
      "521:\tlearn: 0.0202602\ttotal: 324ms\tremaining: 297ms\n",
      "522:\tlearn: 0.0202416\ttotal: 325ms\tremaining: 296ms\n",
      "523:\tlearn: 0.0202081\ttotal: 325ms\tremaining: 295ms\n",
      "524:\tlearn: 0.0201848\ttotal: 325ms\tremaining: 294ms\n",
      "525:\tlearn: 0.0201770\ttotal: 326ms\tremaining: 293ms\n",
      "526:\tlearn: 0.0201509\ttotal: 326ms\tremaining: 293ms\n",
      "527:\tlearn: 0.0201252\ttotal: 326ms\tremaining: 292ms\n",
      "528:\tlearn: 0.0201081\ttotal: 326ms\tremaining: 291ms\n",
      "529:\tlearn: 0.0200782\ttotal: 327ms\tremaining: 290ms\n",
      "530:\tlearn: 0.0200610\ttotal: 328ms\tremaining: 290ms\n",
      "531:\tlearn: 0.0200413\ttotal: 328ms\tremaining: 289ms\n",
      "532:\tlearn: 0.0200143\ttotal: 329ms\tremaining: 288ms\n",
      "533:\tlearn: 0.0199894\ttotal: 329ms\tremaining: 287ms\n",
      "534:\tlearn: 0.0199687\ttotal: 330ms\tremaining: 287ms\n",
      "535:\tlearn: 0.0199582\ttotal: 330ms\tremaining: 286ms\n",
      "536:\tlearn: 0.0199339\ttotal: 331ms\tremaining: 285ms\n",
      "537:\tlearn: 0.0199202\ttotal: 331ms\tremaining: 285ms\n",
      "538:\tlearn: 0.0198990\ttotal: 332ms\tremaining: 284ms\n",
      "539:\tlearn: 0.0198759\ttotal: 333ms\tremaining: 283ms\n",
      "540:\tlearn: 0.0198490\ttotal: 333ms\tremaining: 283ms\n",
      "541:\tlearn: 0.0198344\ttotal: 333ms\tremaining: 282ms\n",
      "542:\tlearn: 0.0198101\ttotal: 334ms\tremaining: 281ms\n",
      "543:\tlearn: 0.0197838\ttotal: 334ms\tremaining: 280ms\n",
      "544:\tlearn: 0.0197637\ttotal: 335ms\tremaining: 280ms\n",
      "545:\tlearn: 0.0197443\ttotal: 335ms\tremaining: 279ms\n",
      "546:\tlearn: 0.0197251\ttotal: 336ms\tremaining: 278ms\n",
      "547:\tlearn: 0.0197066\ttotal: 336ms\tremaining: 277ms\n",
      "548:\tlearn: 0.0196933\ttotal: 336ms\tremaining: 276ms\n",
      "549:\tlearn: 0.0196820\ttotal: 337ms\tremaining: 275ms\n",
      "550:\tlearn: 0.0196515\ttotal: 337ms\tremaining: 275ms\n",
      "551:\tlearn: 0.0196398\ttotal: 337ms\tremaining: 274ms\n",
      "552:\tlearn: 0.0196161\ttotal: 338ms\tremaining: 273ms\n",
      "553:\tlearn: 0.0195966\ttotal: 339ms\tremaining: 273ms\n",
      "554:\tlearn: 0.0195837\ttotal: 339ms\tremaining: 272ms\n",
      "555:\tlearn: 0.0195655\ttotal: 339ms\tremaining: 271ms\n",
      "556:\tlearn: 0.0195508\ttotal: 339ms\tremaining: 270ms\n",
      "557:\tlearn: 0.0195424\ttotal: 340ms\tremaining: 269ms\n",
      "558:\tlearn: 0.0195308\ttotal: 340ms\tremaining: 269ms\n",
      "559:\tlearn: 0.0195199\ttotal: 341ms\tremaining: 268ms\n",
      "560:\tlearn: 0.0194979\ttotal: 341ms\tremaining: 267ms\n",
      "561:\tlearn: 0.0194702\ttotal: 342ms\tremaining: 266ms\n",
      "562:\tlearn: 0.0194598\ttotal: 342ms\tremaining: 265ms\n",
      "563:\tlearn: 0.0194426\ttotal: 342ms\tremaining: 265ms\n",
      "564:\tlearn: 0.0194240\ttotal: 343ms\tremaining: 264ms\n",
      "565:\tlearn: 0.0194062\ttotal: 343ms\tremaining: 263ms\n",
      "566:\tlearn: 0.0193906\ttotal: 343ms\tremaining: 262ms\n",
      "567:\tlearn: 0.0193624\ttotal: 344ms\tremaining: 261ms\n",
      "568:\tlearn: 0.0193321\ttotal: 344ms\tremaining: 261ms\n",
      "569:\tlearn: 0.0192809\ttotal: 345ms\tremaining: 260ms\n",
      "570:\tlearn: 0.0192676\ttotal: 345ms\tremaining: 259ms\n",
      "571:\tlearn: 0.0192604\ttotal: 346ms\tremaining: 259ms\n",
      "572:\tlearn: 0.0192436\ttotal: 346ms\tremaining: 258ms\n",
      "573:\tlearn: 0.0192270\ttotal: 346ms\tremaining: 257ms\n",
      "574:\tlearn: 0.0192120\ttotal: 347ms\tremaining: 256ms\n",
      "575:\tlearn: 0.0191994\ttotal: 348ms\tremaining: 256ms\n",
      "576:\tlearn: 0.0191895\ttotal: 348ms\tremaining: 255ms\n",
      "577:\tlearn: 0.0191593\ttotal: 349ms\tremaining: 255ms\n",
      "578:\tlearn: 0.0191177\ttotal: 349ms\tremaining: 254ms\n",
      "579:\tlearn: 0.0191058\ttotal: 349ms\tremaining: 253ms\n",
      "580:\tlearn: 0.0190877\ttotal: 350ms\tremaining: 252ms\n",
      "581:\tlearn: 0.0190661\ttotal: 350ms\tremaining: 251ms\n",
      "582:\tlearn: 0.0190595\ttotal: 350ms\tremaining: 250ms\n",
      "583:\tlearn: 0.0190301\ttotal: 351ms\tremaining: 250ms\n",
      "584:\tlearn: 0.0190074\ttotal: 351ms\tremaining: 249ms\n",
      "585:\tlearn: 0.0189903\ttotal: 351ms\tremaining: 248ms\n",
      "586:\tlearn: 0.0189732\ttotal: 352ms\tremaining: 247ms\n"
     ]
    },
    {
     "name": "stdout",
     "output_type": "stream",
     "text": [
      "587:\tlearn: 0.0189575\ttotal: 352ms\tremaining: 247ms\n",
      "588:\tlearn: 0.0189463\ttotal: 352ms\tremaining: 246ms\n",
      "589:\tlearn: 0.0189274\ttotal: 352ms\tremaining: 245ms\n",
      "590:\tlearn: 0.0189090\ttotal: 353ms\tremaining: 244ms\n",
      "591:\tlearn: 0.0188968\ttotal: 353ms\tremaining: 243ms\n",
      "592:\tlearn: 0.0188842\ttotal: 353ms\tremaining: 242ms\n",
      "593:\tlearn: 0.0188676\ttotal: 356ms\tremaining: 243ms\n",
      "594:\tlearn: 0.0188433\ttotal: 356ms\tremaining: 243ms\n",
      "595:\tlearn: 0.0188275\ttotal: 357ms\tremaining: 242ms\n",
      "596:\tlearn: 0.0188207\ttotal: 358ms\tremaining: 241ms\n",
      "597:\tlearn: 0.0187929\ttotal: 358ms\tremaining: 241ms\n",
      "598:\tlearn: 0.0187722\ttotal: 358ms\tremaining: 240ms\n",
      "599:\tlearn: 0.0187622\ttotal: 359ms\tremaining: 239ms\n",
      "600:\tlearn: 0.0187486\ttotal: 359ms\tremaining: 238ms\n",
      "601:\tlearn: 0.0187346\ttotal: 359ms\tremaining: 238ms\n",
      "602:\tlearn: 0.0187282\ttotal: 360ms\tremaining: 237ms\n",
      "603:\tlearn: 0.0187069\ttotal: 360ms\tremaining: 236ms\n",
      "604:\tlearn: 0.0186969\ttotal: 361ms\tremaining: 236ms\n",
      "605:\tlearn: 0.0186728\ttotal: 361ms\tremaining: 235ms\n",
      "606:\tlearn: 0.0186530\ttotal: 362ms\tremaining: 234ms\n",
      "607:\tlearn: 0.0186317\ttotal: 362ms\tremaining: 234ms\n",
      "608:\tlearn: 0.0186191\ttotal: 363ms\tremaining: 233ms\n",
      "609:\tlearn: 0.0185923\ttotal: 363ms\tremaining: 232ms\n",
      "610:\tlearn: 0.0185861\ttotal: 364ms\tremaining: 232ms\n",
      "611:\tlearn: 0.0185800\ttotal: 365ms\tremaining: 231ms\n",
      "612:\tlearn: 0.0185665\ttotal: 365ms\tremaining: 230ms\n",
      "613:\tlearn: 0.0185404\ttotal: 366ms\tremaining: 230ms\n",
      "614:\tlearn: 0.0184781\ttotal: 367ms\tremaining: 230ms\n",
      "615:\tlearn: 0.0184696\ttotal: 368ms\tremaining: 229ms\n",
      "616:\tlearn: 0.0184426\ttotal: 368ms\tremaining: 229ms\n",
      "617:\tlearn: 0.0184180\ttotal: 369ms\tremaining: 228ms\n",
      "618:\tlearn: 0.0183841\ttotal: 369ms\tremaining: 227ms\n",
      "619:\tlearn: 0.0183733\ttotal: 370ms\tremaining: 226ms\n",
      "620:\tlearn: 0.0183559\ttotal: 370ms\tremaining: 226ms\n",
      "621:\tlearn: 0.0183295\ttotal: 370ms\tremaining: 225ms\n",
      "622:\tlearn: 0.0182972\ttotal: 370ms\tremaining: 224ms\n",
      "623:\tlearn: 0.0182794\ttotal: 371ms\tremaining: 224ms\n",
      "624:\tlearn: 0.0182622\ttotal: 372ms\tremaining: 223ms\n",
      "625:\tlearn: 0.0182473\ttotal: 372ms\tremaining: 222ms\n",
      "626:\tlearn: 0.0182346\ttotal: 373ms\tremaining: 222ms\n",
      "627:\tlearn: 0.0181954\ttotal: 373ms\tremaining: 221ms\n",
      "628:\tlearn: 0.0181372\ttotal: 373ms\tremaining: 220ms\n",
      "629:\tlearn: 0.0181272\ttotal: 374ms\tremaining: 219ms\n",
      "630:\tlearn: 0.0181021\ttotal: 374ms\tremaining: 219ms\n",
      "631:\tlearn: 0.0180939\ttotal: 375ms\tremaining: 218ms\n",
      "632:\tlearn: 0.0180812\ttotal: 375ms\tremaining: 218ms\n",
      "633:\tlearn: 0.0180688\ttotal: 376ms\tremaining: 217ms\n",
      "634:\tlearn: 0.0180569\ttotal: 377ms\tremaining: 217ms\n",
      "635:\tlearn: 0.0180436\ttotal: 377ms\tremaining: 216ms\n",
      "636:\tlearn: 0.0180284\ttotal: 378ms\tremaining: 215ms\n",
      "637:\tlearn: 0.0180000\ttotal: 378ms\tremaining: 214ms\n",
      "638:\tlearn: 0.0179964\ttotal: 379ms\tremaining: 214ms\n",
      "639:\tlearn: 0.0179855\ttotal: 379ms\tremaining: 213ms\n",
      "640:\tlearn: 0.0179694\ttotal: 379ms\tremaining: 212ms\n",
      "641:\tlearn: 0.0179473\ttotal: 380ms\tremaining: 212ms\n",
      "642:\tlearn: 0.0179170\ttotal: 380ms\tremaining: 211ms\n",
      "643:\tlearn: 0.0179027\ttotal: 380ms\tremaining: 210ms\n",
      "644:\tlearn: 0.0178889\ttotal: 380ms\tremaining: 209ms\n",
      "645:\tlearn: 0.0178736\ttotal: 381ms\tremaining: 209ms\n",
      "646:\tlearn: 0.0178347\ttotal: 381ms\tremaining: 208ms\n",
      "647:\tlearn: 0.0178251\ttotal: 382ms\tremaining: 207ms\n",
      "648:\tlearn: 0.0178211\ttotal: 382ms\tremaining: 206ms\n",
      "649:\tlearn: 0.0178001\ttotal: 382ms\tremaining: 206ms\n",
      "650:\tlearn: 0.0177846\ttotal: 382ms\tremaining: 205ms\n",
      "651:\tlearn: 0.0177620\ttotal: 383ms\tremaining: 204ms\n",
      "652:\tlearn: 0.0177513\ttotal: 383ms\tremaining: 203ms\n",
      "653:\tlearn: 0.0177273\ttotal: 383ms\tremaining: 203ms\n",
      "654:\tlearn: 0.0177070\ttotal: 383ms\tremaining: 202ms\n",
      "655:\tlearn: 0.0176966\ttotal: 384ms\tremaining: 202ms\n",
      "656:\tlearn: 0.0176859\ttotal: 385ms\tremaining: 201ms\n",
      "657:\tlearn: 0.0176706\ttotal: 385ms\tremaining: 200ms\n",
      "658:\tlearn: 0.0176467\ttotal: 385ms\tremaining: 199ms\n",
      "659:\tlearn: 0.0176269\ttotal: 386ms\tremaining: 199ms\n",
      "660:\tlearn: 0.0176073\ttotal: 386ms\tremaining: 198ms\n",
      "661:\tlearn: 0.0175998\ttotal: 387ms\tremaining: 197ms\n",
      "662:\tlearn: 0.0175893\ttotal: 387ms\tremaining: 197ms\n",
      "663:\tlearn: 0.0175713\ttotal: 388ms\tremaining: 196ms\n",
      "664:\tlearn: 0.0175551\ttotal: 388ms\tremaining: 195ms\n",
      "665:\tlearn: 0.0175420\ttotal: 388ms\tremaining: 195ms\n",
      "666:\tlearn: 0.0175318\ttotal: 389ms\tremaining: 194ms\n",
      "667:\tlearn: 0.0175199\ttotal: 389ms\tremaining: 193ms\n",
      "668:\tlearn: 0.0175074\ttotal: 389ms\tremaining: 192ms\n",
      "669:\tlearn: 0.0174976\ttotal: 391ms\tremaining: 193ms\n",
      "670:\tlearn: 0.0174807\ttotal: 392ms\tremaining: 192ms\n",
      "671:\tlearn: 0.0174746\ttotal: 392ms\tremaining: 191ms\n",
      "672:\tlearn: 0.0174558\ttotal: 393ms\tremaining: 191ms\n",
      "673:\tlearn: 0.0174417\ttotal: 393ms\tremaining: 190ms\n",
      "674:\tlearn: 0.0174264\ttotal: 394ms\tremaining: 190ms\n",
      "675:\tlearn: 0.0174090\ttotal: 394ms\tremaining: 189ms\n",
      "676:\tlearn: 0.0173969\ttotal: 395ms\tremaining: 188ms\n",
      "677:\tlearn: 0.0173870\ttotal: 395ms\tremaining: 188ms\n",
      "678:\tlearn: 0.0173631\ttotal: 396ms\tremaining: 187ms\n",
      "679:\tlearn: 0.0173509\ttotal: 397ms\tremaining: 187ms\n",
      "680:\tlearn: 0.0173345\ttotal: 397ms\tremaining: 186ms\n",
      "681:\tlearn: 0.0173256\ttotal: 398ms\tremaining: 185ms\n",
      "682:\tlearn: 0.0172898\ttotal: 398ms\tremaining: 185ms\n",
      "683:\tlearn: 0.0172755\ttotal: 399ms\tremaining: 184ms\n",
      "684:\tlearn: 0.0172283\ttotal: 399ms\tremaining: 184ms\n",
      "685:\tlearn: 0.0172138\ttotal: 402ms\tremaining: 184ms\n",
      "686:\tlearn: 0.0172069\ttotal: 402ms\tremaining: 183ms\n",
      "687:\tlearn: 0.0171983\ttotal: 403ms\tremaining: 183ms\n",
      "688:\tlearn: 0.0171767\ttotal: 403ms\tremaining: 182ms\n",
      "689:\tlearn: 0.0171682\ttotal: 404ms\tremaining: 181ms\n",
      "690:\tlearn: 0.0171590\ttotal: 404ms\tremaining: 181ms\n",
      "691:\tlearn: 0.0171471\ttotal: 405ms\tremaining: 180ms\n",
      "692:\tlearn: 0.0170981\ttotal: 406ms\tremaining: 180ms\n",
      "693:\tlearn: 0.0170890\ttotal: 406ms\tremaining: 179ms\n",
      "694:\tlearn: 0.0170736\ttotal: 407ms\tremaining: 179ms\n",
      "695:\tlearn: 0.0170644\ttotal: 407ms\tremaining: 178ms\n",
      "696:\tlearn: 0.0170602\ttotal: 408ms\tremaining: 177ms\n",
      "697:\tlearn: 0.0170292\ttotal: 408ms\tremaining: 177ms\n",
      "698:\tlearn: 0.0170185\ttotal: 409ms\tremaining: 176ms\n",
      "699:\tlearn: 0.0169977\ttotal: 409ms\tremaining: 175ms\n",
      "700:\tlearn: 0.0169777\ttotal: 409ms\tremaining: 175ms\n",
      "701:\tlearn: 0.0169678\ttotal: 410ms\tremaining: 174ms\n",
      "702:\tlearn: 0.0169557\ttotal: 410ms\tremaining: 173ms\n",
      "703:\tlearn: 0.0169422\ttotal: 410ms\tremaining: 172ms\n",
      "704:\tlearn: 0.0169088\ttotal: 411ms\tremaining: 172ms\n",
      "705:\tlearn: 0.0169012\ttotal: 413ms\tremaining: 172ms\n",
      "706:\tlearn: 0.0168968\ttotal: 413ms\tremaining: 171ms\n",
      "707:\tlearn: 0.0168834\ttotal: 413ms\tremaining: 170ms\n",
      "708:\tlearn: 0.0168645\ttotal: 413ms\tremaining: 170ms\n",
      "709:\tlearn: 0.0168327\ttotal: 414ms\tremaining: 169ms\n",
      "710:\tlearn: 0.0168181\ttotal: 414ms\tremaining: 168ms\n",
      "711:\tlearn: 0.0168016\ttotal: 415ms\tremaining: 168ms\n",
      "712:\tlearn: 0.0167900\ttotal: 415ms\tremaining: 167ms\n",
      "713:\tlearn: 0.0167874\ttotal: 415ms\tremaining: 166ms\n",
      "714:\tlearn: 0.0167663\ttotal: 416ms\tremaining: 166ms\n",
      "715:\tlearn: 0.0167582\ttotal: 416ms\tremaining: 165ms\n",
      "716:\tlearn: 0.0167557\ttotal: 416ms\tremaining: 164ms\n",
      "717:\tlearn: 0.0167426\ttotal: 416ms\tremaining: 164ms\n",
      "718:\tlearn: 0.0167306\ttotal: 417ms\tremaining: 163ms\n",
      "719:\tlearn: 0.0167118\ttotal: 418ms\tremaining: 162ms\n",
      "720:\tlearn: 0.0167025\ttotal: 418ms\tremaining: 162ms\n",
      "721:\tlearn: 0.0166808\ttotal: 418ms\tremaining: 161ms\n",
      "722:\tlearn: 0.0166684\ttotal: 419ms\tremaining: 160ms\n",
      "723:\tlearn: 0.0166525\ttotal: 419ms\tremaining: 160ms\n",
      "724:\tlearn: 0.0166130\ttotal: 419ms\tremaining: 159ms\n",
      "725:\tlearn: 0.0166018\ttotal: 420ms\tremaining: 158ms\n",
      "726:\tlearn: 0.0165870\ttotal: 420ms\tremaining: 158ms\n",
      "727:\tlearn: 0.0165618\ttotal: 421ms\tremaining: 157ms\n",
      "728:\tlearn: 0.0165158\ttotal: 421ms\tremaining: 157ms\n",
      "729:\tlearn: 0.0165013\ttotal: 422ms\tremaining: 156ms\n",
      "730:\tlearn: 0.0164727\ttotal: 423ms\tremaining: 156ms\n",
      "731:\tlearn: 0.0164432\ttotal: 423ms\tremaining: 155ms\n",
      "732:\tlearn: 0.0164327\ttotal: 424ms\tremaining: 154ms\n",
      "733:\tlearn: 0.0164187\ttotal: 424ms\tremaining: 154ms\n",
      "734:\tlearn: 0.0164104\ttotal: 425ms\tremaining: 153ms\n",
      "735:\tlearn: 0.0163889\ttotal: 425ms\tremaining: 153ms\n",
      "736:\tlearn: 0.0163806\ttotal: 427ms\tremaining: 152ms\n",
      "737:\tlearn: 0.0163609\ttotal: 428ms\tremaining: 152ms\n",
      "738:\tlearn: 0.0163483\ttotal: 429ms\tremaining: 151ms\n",
      "739:\tlearn: 0.0163403\ttotal: 432ms\tremaining: 152ms\n",
      "740:\tlearn: 0.0163292\ttotal: 432ms\tremaining: 151ms\n",
      "741:\tlearn: 0.0163171\ttotal: 433ms\tremaining: 151ms\n",
      "742:\tlearn: 0.0163074\ttotal: 433ms\tremaining: 150ms\n",
      "743:\tlearn: 0.0162900\ttotal: 434ms\tremaining: 149ms\n",
      "744:\tlearn: 0.0162779\ttotal: 436ms\tremaining: 149ms\n"
     ]
    },
    {
     "name": "stdout",
     "output_type": "stream",
     "text": [
      "745:\tlearn: 0.0162731\ttotal: 438ms\tremaining: 149ms\n",
      "746:\tlearn: 0.0162616\ttotal: 439ms\tremaining: 149ms\n",
      "747:\tlearn: 0.0162540\ttotal: 439ms\tremaining: 148ms\n",
      "748:\tlearn: 0.0162467\ttotal: 440ms\tremaining: 147ms\n",
      "749:\tlearn: 0.0162370\ttotal: 440ms\tremaining: 147ms\n",
      "750:\tlearn: 0.0162166\ttotal: 440ms\tremaining: 146ms\n",
      "751:\tlearn: 0.0161881\ttotal: 440ms\tremaining: 145ms\n",
      "752:\tlearn: 0.0161810\ttotal: 442ms\tremaining: 145ms\n",
      "753:\tlearn: 0.0161724\ttotal: 442ms\tremaining: 144ms\n",
      "754:\tlearn: 0.0161549\ttotal: 442ms\tremaining: 144ms\n",
      "755:\tlearn: 0.0161375\ttotal: 443ms\tremaining: 143ms\n",
      "756:\tlearn: 0.0161253\ttotal: 443ms\tremaining: 142ms\n",
      "757:\tlearn: 0.0161065\ttotal: 443ms\tremaining: 142ms\n",
      "758:\tlearn: 0.0160949\ttotal: 444ms\tremaining: 141ms\n",
      "759:\tlearn: 0.0160783\ttotal: 444ms\tremaining: 140ms\n",
      "760:\tlearn: 0.0160700\ttotal: 444ms\tremaining: 139ms\n",
      "761:\tlearn: 0.0160520\ttotal: 444ms\tremaining: 139ms\n",
      "762:\tlearn: 0.0160468\ttotal: 445ms\tremaining: 138ms\n",
      "763:\tlearn: 0.0160312\ttotal: 445ms\tremaining: 138ms\n",
      "764:\tlearn: 0.0160170\ttotal: 446ms\tremaining: 137ms\n",
      "765:\tlearn: 0.0160098\ttotal: 446ms\tremaining: 136ms\n",
      "766:\tlearn: 0.0160016\ttotal: 446ms\tremaining: 136ms\n",
      "767:\tlearn: 0.0159940\ttotal: 447ms\tremaining: 135ms\n",
      "768:\tlearn: 0.0159846\ttotal: 447ms\tremaining: 134ms\n",
      "769:\tlearn: 0.0159681\ttotal: 447ms\tremaining: 134ms\n",
      "770:\tlearn: 0.0159585\ttotal: 448ms\tremaining: 133ms\n",
      "771:\tlearn: 0.0159491\ttotal: 448ms\tremaining: 132ms\n",
      "772:\tlearn: 0.0159425\ttotal: 448ms\tremaining: 132ms\n",
      "773:\tlearn: 0.0159156\ttotal: 449ms\tremaining: 131ms\n",
      "774:\tlearn: 0.0159080\ttotal: 449ms\tremaining: 130ms\n",
      "775:\tlearn: 0.0158978\ttotal: 449ms\tremaining: 130ms\n",
      "776:\tlearn: 0.0158673\ttotal: 450ms\tremaining: 129ms\n",
      "777:\tlearn: 0.0158518\ttotal: 450ms\tremaining: 128ms\n",
      "778:\tlearn: 0.0158331\ttotal: 451ms\tremaining: 128ms\n",
      "779:\tlearn: 0.0158054\ttotal: 451ms\tremaining: 127ms\n",
      "780:\tlearn: 0.0157989\ttotal: 452ms\tremaining: 127ms\n",
      "781:\tlearn: 0.0157850\ttotal: 452ms\tremaining: 126ms\n",
      "782:\tlearn: 0.0157787\ttotal: 452ms\tremaining: 125ms\n",
      "783:\tlearn: 0.0157661\ttotal: 452ms\tremaining: 125ms\n",
      "784:\tlearn: 0.0157549\ttotal: 453ms\tremaining: 124ms\n",
      "785:\tlearn: 0.0157524\ttotal: 453ms\tremaining: 123ms\n",
      "786:\tlearn: 0.0157340\ttotal: 454ms\tremaining: 123ms\n",
      "787:\tlearn: 0.0157275\ttotal: 454ms\tremaining: 122ms\n",
      "788:\tlearn: 0.0157137\ttotal: 454ms\tremaining: 121ms\n",
      "789:\tlearn: 0.0157066\ttotal: 454ms\tremaining: 121ms\n",
      "790:\tlearn: 0.0156964\ttotal: 455ms\tremaining: 120ms\n",
      "791:\tlearn: 0.0156811\ttotal: 455ms\tremaining: 119ms\n",
      "792:\tlearn: 0.0156725\ttotal: 456ms\tremaining: 119ms\n",
      "793:\tlearn: 0.0156639\ttotal: 458ms\tremaining: 119ms\n",
      "794:\tlearn: 0.0156499\ttotal: 459ms\tremaining: 118ms\n",
      "795:\tlearn: 0.0156107\ttotal: 460ms\tremaining: 118ms\n",
      "796:\tlearn: 0.0156031\ttotal: 460ms\tremaining: 117ms\n",
      "797:\tlearn: 0.0155863\ttotal: 461ms\tremaining: 117ms\n",
      "798:\tlearn: 0.0155787\ttotal: 462ms\tremaining: 116ms\n",
      "799:\tlearn: 0.0155726\ttotal: 463ms\tremaining: 116ms\n",
      "800:\tlearn: 0.0155473\ttotal: 464ms\tremaining: 115ms\n",
      "801:\tlearn: 0.0155231\ttotal: 466ms\tremaining: 115ms\n",
      "802:\tlearn: 0.0155123\ttotal: 467ms\tremaining: 114ms\n",
      "803:\tlearn: 0.0154983\ttotal: 467ms\tremaining: 114ms\n",
      "804:\tlearn: 0.0154873\ttotal: 469ms\tremaining: 113ms\n",
      "805:\tlearn: 0.0154779\ttotal: 469ms\tremaining: 113ms\n",
      "806:\tlearn: 0.0154717\ttotal: 470ms\tremaining: 113ms\n",
      "807:\tlearn: 0.0154658\ttotal: 471ms\tremaining: 112ms\n",
      "808:\tlearn: 0.0154487\ttotal: 472ms\tremaining: 111ms\n",
      "809:\tlearn: 0.0154429\ttotal: 472ms\tremaining: 111ms\n",
      "810:\tlearn: 0.0154330\ttotal: 473ms\tremaining: 110ms\n",
      "811:\tlearn: 0.0154054\ttotal: 474ms\tremaining: 110ms\n",
      "812:\tlearn: 0.0153851\ttotal: 474ms\tremaining: 109ms\n",
      "813:\tlearn: 0.0153749\ttotal: 474ms\tremaining: 108ms\n",
      "814:\tlearn: 0.0153693\ttotal: 475ms\tremaining: 108ms\n",
      "815:\tlearn: 0.0153451\ttotal: 475ms\tremaining: 107ms\n",
      "816:\tlearn: 0.0153406\ttotal: 475ms\tremaining: 106ms\n",
      "817:\tlearn: 0.0153279\ttotal: 475ms\tremaining: 106ms\n",
      "818:\tlearn: 0.0153203\ttotal: 476ms\tremaining: 105ms\n",
      "819:\tlearn: 0.0153039\ttotal: 476ms\tremaining: 105ms\n",
      "820:\tlearn: 0.0153010\ttotal: 476ms\tremaining: 104ms\n",
      "821:\tlearn: 0.0152891\ttotal: 477ms\tremaining: 103ms\n",
      "822:\tlearn: 0.0152800\ttotal: 477ms\tremaining: 103ms\n",
      "823:\tlearn: 0.0152639\ttotal: 477ms\tremaining: 102ms\n",
      "824:\tlearn: 0.0152541\ttotal: 478ms\tremaining: 101ms\n",
      "825:\tlearn: 0.0152482\ttotal: 478ms\tremaining: 101ms\n",
      "826:\tlearn: 0.0152208\ttotal: 479ms\tremaining: 100ms\n",
      "827:\tlearn: 0.0152055\ttotal: 479ms\tremaining: 99.5ms\n",
      "828:\tlearn: 0.0151975\ttotal: 479ms\tremaining: 98.9ms\n",
      "829:\tlearn: 0.0151870\ttotal: 480ms\tremaining: 98.2ms\n",
      "830:\tlearn: 0.0151786\ttotal: 480ms\tremaining: 97.6ms\n",
      "831:\tlearn: 0.0151753\ttotal: 480ms\tremaining: 97ms\n",
      "832:\tlearn: 0.0151655\ttotal: 481ms\tremaining: 96.3ms\n",
      "833:\tlearn: 0.0151610\ttotal: 481ms\tremaining: 95.7ms\n",
      "834:\tlearn: 0.0151556\ttotal: 481ms\tremaining: 95.1ms\n",
      "835:\tlearn: 0.0151519\ttotal: 482ms\tremaining: 94.5ms\n",
      "836:\tlearn: 0.0151325\ttotal: 482ms\tremaining: 93.9ms\n",
      "837:\tlearn: 0.0151092\ttotal: 482ms\tremaining: 93.3ms\n",
      "838:\tlearn: 0.0151015\ttotal: 483ms\tremaining: 92.6ms\n",
      "839:\tlearn: 0.0150961\ttotal: 483ms\tremaining: 92ms\n",
      "840:\tlearn: 0.0150876\ttotal: 483ms\tremaining: 91.4ms\n",
      "841:\tlearn: 0.0150745\ttotal: 484ms\tremaining: 90.8ms\n",
      "842:\tlearn: 0.0150537\ttotal: 484ms\tremaining: 90.2ms\n",
      "843:\tlearn: 0.0150451\ttotal: 485ms\tremaining: 89.6ms\n",
      "844:\tlearn: 0.0150339\ttotal: 485ms\tremaining: 89ms\n",
      "845:\tlearn: 0.0150231\ttotal: 485ms\tremaining: 88.3ms\n",
      "846:\tlearn: 0.0150083\ttotal: 485ms\tremaining: 87.7ms\n",
      "847:\tlearn: 0.0149941\ttotal: 486ms\tremaining: 87.1ms\n",
      "848:\tlearn: 0.0149711\ttotal: 486ms\tremaining: 86.5ms\n",
      "849:\tlearn: 0.0149610\ttotal: 486ms\tremaining: 85.8ms\n",
      "850:\tlearn: 0.0149391\ttotal: 487ms\tremaining: 85.3ms\n",
      "851:\tlearn: 0.0149275\ttotal: 487ms\tremaining: 84.7ms\n",
      "852:\tlearn: 0.0149030\ttotal: 488ms\tremaining: 84.1ms\n",
      "853:\tlearn: 0.0148889\ttotal: 488ms\tremaining: 83.5ms\n",
      "854:\tlearn: 0.0148762\ttotal: 489ms\tremaining: 82.9ms\n",
      "855:\tlearn: 0.0148684\ttotal: 489ms\tremaining: 82.3ms\n",
      "856:\tlearn: 0.0148563\ttotal: 489ms\tremaining: 81.7ms\n"
     ]
    },
    {
     "name": "stdout",
     "output_type": "stream",
     "text": [
      "857:\tlearn: 0.0148498\ttotal: 491ms\tremaining: 81.2ms\n",
      "858:\tlearn: 0.0148406\ttotal: 494ms\tremaining: 81ms\n",
      "859:\tlearn: 0.0148337\ttotal: 494ms\tremaining: 80.5ms\n",
      "860:\tlearn: 0.0148253\ttotal: 496ms\tremaining: 80.1ms\n",
      "861:\tlearn: 0.0148018\ttotal: 496ms\tremaining: 79.5ms\n",
      "862:\tlearn: 0.0147964\ttotal: 497ms\tremaining: 78.9ms\n",
      "863:\tlearn: 0.0147940\ttotal: 497ms\tremaining: 78.3ms\n",
      "864:\tlearn: 0.0147896\ttotal: 498ms\tremaining: 77.7ms\n",
      "865:\tlearn: 0.0147852\ttotal: 498ms\tremaining: 77.1ms\n",
      "866:\tlearn: 0.0147745\ttotal: 499ms\tremaining: 76.6ms\n",
      "867:\tlearn: 0.0147718\ttotal: 500ms\tremaining: 76ms\n",
      "868:\tlearn: 0.0147640\ttotal: 500ms\tremaining: 75.4ms\n",
      "869:\tlearn: 0.0147527\ttotal: 501ms\tremaining: 74.8ms\n",
      "870:\tlearn: 0.0147315\ttotal: 501ms\tremaining: 74.2ms\n",
      "871:\tlearn: 0.0147255\ttotal: 501ms\tremaining: 73.6ms\n",
      "872:\tlearn: 0.0147130\ttotal: 502ms\tremaining: 73.1ms\n",
      "873:\tlearn: 0.0147052\ttotal: 503ms\tremaining: 72.5ms\n",
      "874:\tlearn: 0.0146947\ttotal: 504ms\tremaining: 72ms\n",
      "875:\tlearn: 0.0146918\ttotal: 505ms\tremaining: 71.4ms\n",
      "876:\tlearn: 0.0146825\ttotal: 505ms\tremaining: 70.8ms\n",
      "877:\tlearn: 0.0146729\ttotal: 505ms\tremaining: 70.2ms\n",
      "878:\tlearn: 0.0146482\ttotal: 507ms\tremaining: 69.7ms\n",
      "879:\tlearn: 0.0146211\ttotal: 507ms\tremaining: 69.2ms\n",
      "880:\tlearn: 0.0146141\ttotal: 508ms\tremaining: 68.6ms\n",
      "881:\tlearn: 0.0146008\ttotal: 508ms\tremaining: 68ms\n",
      "882:\tlearn: 0.0145940\ttotal: 508ms\tremaining: 67.3ms\n",
      "883:\tlearn: 0.0145873\ttotal: 509ms\tremaining: 66.7ms\n",
      "884:\tlearn: 0.0145796\ttotal: 509ms\tremaining: 66.2ms\n",
      "885:\tlearn: 0.0145497\ttotal: 510ms\tremaining: 65.6ms\n",
      "886:\tlearn: 0.0145377\ttotal: 510ms\tremaining: 65ms\n",
      "887:\tlearn: 0.0145252\ttotal: 510ms\tremaining: 64.4ms\n",
      "888:\tlearn: 0.0144990\ttotal: 511ms\tremaining: 63.8ms\n",
      "889:\tlearn: 0.0144943\ttotal: 511ms\tremaining: 63.2ms\n",
      "890:\tlearn: 0.0144887\ttotal: 511ms\tremaining: 62.5ms\n",
      "891:\tlearn: 0.0144680\ttotal: 512ms\tremaining: 62ms\n",
      "892:\tlearn: 0.0144605\ttotal: 512ms\tremaining: 61.4ms\n",
      "893:\tlearn: 0.0144496\ttotal: 513ms\tremaining: 60.8ms\n",
      "894:\tlearn: 0.0144420\ttotal: 513ms\tremaining: 60.2ms\n",
      "895:\tlearn: 0.0144375\ttotal: 513ms\tremaining: 59.6ms\n",
      "896:\tlearn: 0.0144261\ttotal: 514ms\tremaining: 59ms\n",
      "897:\tlearn: 0.0144177\ttotal: 514ms\tremaining: 58.4ms\n",
      "898:\tlearn: 0.0144051\ttotal: 514ms\tremaining: 57.8ms\n",
      "899:\tlearn: 0.0143995\ttotal: 515ms\tremaining: 57.2ms\n",
      "900:\tlearn: 0.0143931\ttotal: 516ms\tremaining: 56.7ms\n",
      "901:\tlearn: 0.0143782\ttotal: 516ms\tremaining: 56.1ms\n",
      "902:\tlearn: 0.0143701\ttotal: 516ms\tremaining: 55.5ms\n",
      "903:\tlearn: 0.0143549\ttotal: 517ms\tremaining: 54.9ms\n",
      "904:\tlearn: 0.0143505\ttotal: 517ms\tremaining: 54.3ms\n",
      "905:\tlearn: 0.0143428\ttotal: 517ms\tremaining: 53.7ms\n",
      "906:\tlearn: 0.0143368\ttotal: 518ms\tremaining: 53.1ms\n",
      "907:\tlearn: 0.0143170\ttotal: 519ms\tremaining: 52.6ms\n",
      "908:\tlearn: 0.0143077\ttotal: 519ms\tremaining: 52ms\n",
      "909:\tlearn: 0.0142839\ttotal: 520ms\tremaining: 51.4ms\n",
      "910:\tlearn: 0.0142789\ttotal: 520ms\tremaining: 50.8ms\n",
      "911:\tlearn: 0.0142691\ttotal: 521ms\tremaining: 50.2ms\n",
      "912:\tlearn: 0.0142506\ttotal: 521ms\tremaining: 49.7ms\n",
      "913:\tlearn: 0.0142347\ttotal: 523ms\tremaining: 49.2ms\n",
      "914:\tlearn: 0.0142304\ttotal: 524ms\tremaining: 48.7ms\n",
      "915:\tlearn: 0.0142242\ttotal: 524ms\tremaining: 48.1ms\n",
      "916:\tlearn: 0.0142207\ttotal: 525ms\tremaining: 47.5ms\n",
      "917:\tlearn: 0.0142130\ttotal: 525ms\tremaining: 46.9ms\n",
      "918:\tlearn: 0.0142050\ttotal: 525ms\tremaining: 46.3ms\n",
      "919:\tlearn: 0.0141995\ttotal: 526ms\tremaining: 45.7ms\n",
      "920:\tlearn: 0.0141948\ttotal: 526ms\tremaining: 45.1ms\n",
      "921:\tlearn: 0.0141889\ttotal: 527ms\tremaining: 44.6ms\n",
      "922:\tlearn: 0.0141752\ttotal: 527ms\tremaining: 44ms\n",
      "923:\tlearn: 0.0141537\ttotal: 527ms\tremaining: 43.4ms\n",
      "924:\tlearn: 0.0141510\ttotal: 528ms\tremaining: 42.8ms\n",
      "925:\tlearn: 0.0141454\ttotal: 528ms\tremaining: 42.2ms\n",
      "926:\tlearn: 0.0141327\ttotal: 528ms\tremaining: 41.6ms\n",
      "927:\tlearn: 0.0141246\ttotal: 528ms\tremaining: 41ms\n",
      "928:\tlearn: 0.0141132\ttotal: 529ms\tremaining: 40.4ms\n",
      "929:\tlearn: 0.0141049\ttotal: 530ms\tremaining: 39.9ms\n",
      "930:\tlearn: 0.0140978\ttotal: 530ms\tremaining: 39.3ms\n",
      "931:\tlearn: 0.0140812\ttotal: 530ms\tremaining: 38.7ms\n",
      "932:\tlearn: 0.0140751\ttotal: 530ms\tremaining: 38.1ms\n",
      "933:\tlearn: 0.0140403\ttotal: 531ms\tremaining: 37.5ms\n",
      "934:\tlearn: 0.0140296\ttotal: 531ms\tremaining: 36.9ms\n",
      "935:\tlearn: 0.0140232\ttotal: 531ms\tremaining: 36.3ms\n",
      "936:\tlearn: 0.0140073\ttotal: 532ms\tremaining: 35.8ms\n",
      "937:\tlearn: 0.0140045\ttotal: 532ms\tremaining: 35.2ms\n",
      "938:\tlearn: 0.0139989\ttotal: 533ms\tremaining: 34.6ms\n",
      "939:\tlearn: 0.0139764\ttotal: 533ms\tremaining: 34ms\n",
      "940:\tlearn: 0.0139639\ttotal: 533ms\tremaining: 33.4ms\n",
      "941:\tlearn: 0.0139590\ttotal: 534ms\tremaining: 32.9ms\n",
      "942:\tlearn: 0.0139447\ttotal: 534ms\tremaining: 32.3ms\n",
      "943:\tlearn: 0.0139378\ttotal: 534ms\tremaining: 31.7ms\n",
      "944:\tlearn: 0.0139221\ttotal: 534ms\tremaining: 31.1ms\n",
      "945:\tlearn: 0.0139169\ttotal: 535ms\tremaining: 30.5ms\n",
      "946:\tlearn: 0.0139060\ttotal: 535ms\tremaining: 30ms\n",
      "947:\tlearn: 0.0138903\ttotal: 536ms\tremaining: 29.4ms\n",
      "948:\tlearn: 0.0138827\ttotal: 536ms\tremaining: 28.8ms\n",
      "949:\tlearn: 0.0138704\ttotal: 536ms\tremaining: 28.2ms\n",
      "950:\tlearn: 0.0138664\ttotal: 536ms\tremaining: 27.6ms\n",
      "951:\tlearn: 0.0138455\ttotal: 537ms\tremaining: 27.1ms\n",
      "952:\tlearn: 0.0138414\ttotal: 537ms\tremaining: 26.5ms\n",
      "953:\tlearn: 0.0138267\ttotal: 538ms\tremaining: 25.9ms\n",
      "954:\tlearn: 0.0138088\ttotal: 538ms\tremaining: 25.4ms\n",
      "955:\tlearn: 0.0138024\ttotal: 538ms\tremaining: 24.8ms\n",
      "956:\tlearn: 0.0137979\ttotal: 539ms\tremaining: 24.2ms\n",
      "957:\tlearn: 0.0137919\ttotal: 539ms\tremaining: 23.6ms\n",
      "958:\tlearn: 0.0137740\ttotal: 539ms\tremaining: 23.1ms\n",
      "959:\tlearn: 0.0137453\ttotal: 539ms\tremaining: 22.5ms\n",
      "960:\tlearn: 0.0137389\ttotal: 540ms\tremaining: 21.9ms\n",
      "961:\tlearn: 0.0137312\ttotal: 541ms\tremaining: 21.4ms\n",
      "962:\tlearn: 0.0137211\ttotal: 542ms\tremaining: 20.8ms\n",
      "963:\tlearn: 0.0137169\ttotal: 542ms\tremaining: 20.2ms\n",
      "964:\tlearn: 0.0137023\ttotal: 542ms\tremaining: 19.7ms\n",
      "965:\tlearn: 0.0136752\ttotal: 542ms\tremaining: 19.1ms\n",
      "966:\tlearn: 0.0136705\ttotal: 543ms\tremaining: 18.5ms\n",
      "967:\tlearn: 0.0136614\ttotal: 544ms\tremaining: 18ms\n",
      "968:\tlearn: 0.0136539\ttotal: 544ms\tremaining: 17.4ms\n",
      "969:\tlearn: 0.0136487\ttotal: 545ms\tremaining: 16.8ms\n",
      "970:\tlearn: 0.0136421\ttotal: 545ms\tremaining: 16.3ms\n",
      "971:\tlearn: 0.0136392\ttotal: 545ms\tremaining: 15.7ms\n",
      "972:\tlearn: 0.0136330\ttotal: 545ms\tremaining: 15.1ms\n",
      "973:\tlearn: 0.0136130\ttotal: 546ms\tremaining: 14.6ms\n",
      "974:\tlearn: 0.0135962\ttotal: 546ms\tremaining: 14ms\n",
      "975:\tlearn: 0.0135861\ttotal: 547ms\tremaining: 13.4ms\n",
      "976:\tlearn: 0.0135814\ttotal: 547ms\tremaining: 12.9ms\n",
      "977:\tlearn: 0.0135726\ttotal: 547ms\tremaining: 12.3ms\n",
      "978:\tlearn: 0.0135638\ttotal: 548ms\tremaining: 11.7ms\n",
      "979:\tlearn: 0.0135600\ttotal: 548ms\tremaining: 11.2ms\n",
      "980:\tlearn: 0.0135540\ttotal: 548ms\tremaining: 10.6ms\n",
      "981:\tlearn: 0.0135472\ttotal: 549ms\tremaining: 10.1ms\n",
      "982:\tlearn: 0.0135429\ttotal: 549ms\tremaining: 9.49ms\n",
      "983:\tlearn: 0.0135159\ttotal: 549ms\tremaining: 8.93ms\n",
      "984:\tlearn: 0.0134981\ttotal: 550ms\tremaining: 8.37ms\n",
      "985:\tlearn: 0.0134911\ttotal: 550ms\tremaining: 7.81ms\n",
      "986:\tlearn: 0.0134828\ttotal: 550ms\tremaining: 7.25ms\n",
      "987:\tlearn: 0.0134743\ttotal: 551ms\tremaining: 6.69ms\n",
      "988:\tlearn: 0.0134590\ttotal: 551ms\tremaining: 6.13ms\n",
      "989:\tlearn: 0.0134545\ttotal: 551ms\tremaining: 5.57ms\n",
      "990:\tlearn: 0.0134398\ttotal: 552ms\tremaining: 5.01ms\n",
      "991:\tlearn: 0.0134225\ttotal: 552ms\tremaining: 4.45ms\n",
      "992:\tlearn: 0.0134135\ttotal: 553ms\tremaining: 3.9ms\n",
      "993:\tlearn: 0.0134079\ttotal: 553ms\tremaining: 3.34ms\n",
      "994:\tlearn: 0.0134037\ttotal: 553ms\tremaining: 2.78ms\n",
      "995:\tlearn: 0.0134007\ttotal: 554ms\tremaining: 2.22ms\n",
      "996:\tlearn: 0.0133976\ttotal: 554ms\tremaining: 1.67ms\n",
      "997:\tlearn: 0.0133876\ttotal: 554ms\tremaining: 1.11ms\n",
      "998:\tlearn: 0.0133783\ttotal: 554ms\tremaining: 555us\n",
      "999:\tlearn: 0.0133586\ttotal: 555ms\tremaining: 0us\n"
     ]
    },
    {
     "data": {
      "text/plain": [
       "<catboost.core.CatBoostRegressor at 0x7f86a75e97c0>"
      ]
     },
     "execution_count": 9,
     "metadata": {},
     "output_type": "execute_result"
    }
   ],
   "source": [
    "#Train the Model \n",
    "prior_model = ctb.CatBoostRegressor()\n",
    "prior_model.fit(X_train,Y_train)"
   ]
  },
  {
   "cell_type": "code",
   "execution_count": 10,
   "id": "af65dcda",
   "metadata": {
    "execution": {
     "iopub.execute_input": "2022-07-24T13:15:19.978458Z",
     "iopub.status.busy": "2022-07-24T13:15:19.978198Z",
     "iopub.status.idle": "2022-07-24T13:15:20.011615Z",
     "shell.execute_reply": "2022-07-24T13:15:20.010862Z"
    },
    "id": "af65dcda",
    "papermill": {
     "duration": 0.04835,
     "end_time": "2022-07-24T13:15:20.014909",
     "exception": false,
     "start_time": "2022-07-24T13:15:19.966559",
     "status": "completed"
    },
    "tags": []
   },
   "outputs": [
    {
     "data": {
      "application/scrapbook.scrap.json+json": {
       "data": 0.0014065485795269072,
       "encoder": "json",
       "name": "Prior Model MSE",
       "version": 1
      }
     },
     "metadata": {
      "scrapbook": {
       "data": true,
       "display": false,
       "name": "Prior Model MSE"
      }
     },
     "output_type": "display_data"
    },
    {
     "data": {
      "application/scrapbook.scrap.json+json": {
       "data": 0.009085683559100157,
       "encoder": "json",
       "name": "ABC Pre-generator MSE",
       "version": 1
      }
     },
     "metadata": {
      "scrapbook": {
       "data": true,
       "display": false,
       "name": "ABC Pre-generator MSE"
      }
     },
     "output_type": "display_data"
    },
    {
     "data": {
      "application/scrapbook.scrap.json+json": {
       "data": 0.02211139308421872,
       "encoder": "json",
       "name": "Prior Model MAE",
       "version": 1
      }
     },
     "metadata": {
      "scrapbook": {
       "data": true,
       "display": false,
       "name": "Prior Model MAE"
      }
     },
     "output_type": "display_data"
    },
    {
     "name": "stdout",
     "output_type": "stream",
     "text": [
      "Prior Model MAE 0.02211139308421872\n",
      "ABC Pre-generator MAE 0.07429347185599555\n"
     ]
    }
   ],
   "source": [
    "y_pred = prior_model.predict(X_test)\n",
    "y_abc = y_pred + np.random.normal(0,variance, y_pred.shape) + bias \n",
    "mse = mean_squared_error(y_pred,Y_test)\n",
    "sb.glue(\"Prior Model MSE\",mse)\n",
    "mse = mean_squared_error(y_abc,Y_test)\n",
    "sb.glue(\"ABC Pre-generator MSE\",mse)\n",
    "mae = mean_absolute_error(y_pred,Y_test)\n",
    "sb.glue(\"Prior Model MAE\",mae)\n",
    "print(\"Prior Model MAE\",mae)\n",
    "mae = mean_absolute_error(y_abc,Y_test)\n",
    "print(\"ABC Pre-generator MAE\",mae)"
   ]
  },
  {
   "cell_type": "markdown",
   "id": "25609da2",
   "metadata": {
    "papermill": {
     "duration": 0.010232,
     "end_time": "2022-07-24T13:15:20.035121",
     "exception": false,
     "start_time": "2022-07-24T13:15:20.024889",
     "status": "completed"
    },
    "tags": []
   },
   "source": [
    "# mGAN Model"
   ]
  },
  {
   "cell_type": "code",
   "execution_count": 11,
   "id": "dfc3464d",
   "metadata": {
    "execution": {
     "iopub.execute_input": "2022-07-24T13:15:20.079168Z",
     "iopub.status.busy": "2022-07-24T13:15:20.078884Z",
     "iopub.status.idle": "2022-07-24T13:15:20.084157Z",
     "shell.execute_reply": "2022-07-24T13:15:20.082126Z"
    },
    "papermill": {
     "duration": 0.023294,
     "end_time": "2022-07-24T13:15:20.087693",
     "exception": false,
     "start_time": "2022-07-24T13:15:20.064399",
     "status": "completed"
    },
    "tags": []
   },
   "outputs": [],
   "source": [
    "# gen = network.Generator(n_features+1).to(device)\n",
    "# disc = network.Discriminator(n_features+1).to(device)\n",
    "\n",
    "# criterion = torch.nn.BCELoss()\n",
    "# gen_opt = torch.optim.Adam(gen.parameters(), lr=0.01, betas=(0.5, 0.999))\n",
    "# disc_opt = torch.optim.Adam(disc.parameters(), lr=0.01, betas=(0.5, 0.999))"
   ]
  },
  {
   "cell_type": "code",
   "execution_count": 12,
   "id": "b75fdd85",
   "metadata": {
    "execution": {
     "iopub.execute_input": "2022-07-24T13:15:20.111473Z",
     "iopub.status.busy": "2022-07-24T13:15:20.111136Z",
     "iopub.status.idle": "2022-07-24T13:15:20.116294Z",
     "shell.execute_reply": "2022-07-24T13:15:20.114555Z"
    },
    "papermill": {
     "duration": 0.02092,
     "end_time": "2022-07-24T13:15:20.119216",
     "exception": false,
     "start_time": "2022-07-24T13:15:20.098296",
     "status": "completed"
    },
    "tags": []
   },
   "outputs": [],
   "source": [
    "#Training the ABC_GAN \n",
    "# ABC_train_test2.training_GAN(disc,gen,disc_opt,gen_opt,train_data,batch_size,n_epochs,criterion,prior_model,variance,bias,device)"
   ]
  },
  {
   "cell_type": "code",
   "execution_count": 13,
   "id": "1fa7c368",
   "metadata": {
    "execution": {
     "iopub.execute_input": "2022-07-24T13:15:20.144960Z",
     "iopub.status.busy": "2022-07-24T13:15:20.144250Z",
     "iopub.status.idle": "2022-07-24T13:15:20.150070Z",
     "shell.execute_reply": "2022-07-24T13:15:20.148403Z"
    },
    "papermill": {
     "duration": 0.023379,
     "end_time": "2022-07-24T13:15:20.153320",
     "exception": false,
     "start_time": "2022-07-24T13:15:20.129941",
     "status": "completed"
    },
    "tags": []
   },
   "outputs": [],
   "source": [
    "# ABC_GAN1_metrics=ABC_train_test2.test_generator(gen,test_data,prior_model,variance,bias,\"1\",device)\n",
    "# sb.glue(\"ABC_GAN_1 Metrics\",ABC_GAN1_metrics)\n",
    "\n",
    "# print(\"MAE\")\n",
    "# print(mean(ABC_GAN1_metrics[1]))"
   ]
  },
  {
   "cell_type": "code",
   "execution_count": 14,
   "id": "eb22ce5c",
   "metadata": {
    "execution": {
     "iopub.execute_input": "2022-07-24T13:15:20.178282Z",
     "iopub.status.busy": "2022-07-24T13:15:20.177702Z",
     "iopub.status.idle": "2022-07-24T13:15:20.182332Z",
     "shell.execute_reply": "2022-07-24T13:15:20.181316Z"
    },
    "papermill": {
     "duration": 0.019483,
     "end_time": "2022-07-24T13:15:20.185141",
     "exception": false,
     "start_time": "2022-07-24T13:15:20.165658",
     "status": "completed"
    },
    "tags": []
   },
   "outputs": [],
   "source": [
    "# sanityChecks.discProbVsError(train_data,disc,device)\n",
    "# sanityChecks.discProbVsError(test_data,disc,device)"
   ]
  },
  {
   "cell_type": "markdown",
   "id": "d95e812d",
   "metadata": {
    "papermill": {
     "duration": 0.013426,
     "end_time": "2022-07-24T13:15:20.225577",
     "exception": false,
     "start_time": "2022-07-24T13:15:20.212151",
     "status": "completed"
    },
    "tags": []
   },
   "source": [
    "# mGAN Model with TabNet Generator"
   ]
  },
  {
   "cell_type": "code",
   "execution_count": 15,
   "id": "f969e26a",
   "metadata": {
    "execution": {
     "iopub.execute_input": "2022-07-24T13:15:20.254944Z",
     "iopub.status.busy": "2022-07-24T13:15:20.254361Z",
     "iopub.status.idle": "2022-07-24T13:15:20.263266Z",
     "shell.execute_reply": "2022-07-24T13:15:20.261971Z"
    },
    "papermill": {
     "duration": 0.026697,
     "end_time": "2022-07-24T13:15:20.266809",
     "exception": false,
     "start_time": "2022-07-24T13:15:20.240112",
     "status": "completed"
    },
    "tags": []
   },
   "outputs": [],
   "source": [
    "gen2 = network.GeneratorTabnet(n_features+1).to(device)\n",
    "disc2 = network.Discriminator(n_features+1).to(device)\n",
    "\n",
    "criterion = torch.nn.BCELoss()\n",
    "gen_opt = torch.optim.Adam(gen2.parameters(), lr=0.01, betas=(0.5, 0.999))\n",
    "disc_opt = torch.optim.Adam(disc2.parameters(), lr=0.01, betas=(0.5, 0.999))"
   ]
  },
  {
   "cell_type": "code",
   "execution_count": 16,
   "id": "c6055739",
   "metadata": {
    "execution": {
     "iopub.execute_input": "2022-07-24T13:15:20.290722Z",
     "iopub.status.busy": "2022-07-24T13:15:20.290024Z",
     "iopub.status.idle": "2022-07-24T13:19:12.162233Z",
     "shell.execute_reply": "2022-07-24T13:19:12.159523Z"
    },
    "papermill": {
     "duration": 231.895518,
     "end_time": "2022-07-24T13:19:12.172585",
     "exception": false,
     "start_time": "2022-07-24T13:15:20.277067",
     "status": "completed"
    },
    "tags": []
   },
   "outputs": [
    {
     "data": {
      "image/png": "[encoded data removed]",
      "text/plain": [
       "<Figure size 432x288 with 1 Axes>"
      ]
     },
     "metadata": {
      "needs_background": "light"
     },
     "output_type": "display_data"
    },
    {
     "data": {
      "image/png": "[encoded data removed]",
      "text/plain": [
       "<Figure size 432x288 with 1 Axes>"
      ]
     },
     "metadata": {
      "needs_background": "light"
     },
     "output_type": "display_data"
    }
   ],
   "source": [
    "#Training the ABC_GAN \n",
    "ABC_train_test2.training_GAN(disc2,gen2,disc_opt,gen_opt,train_data,batch_size,n_epochs,criterion,prior_model,variance,bias,device)"
   ]
  },
  {
   "cell_type": "code",
   "execution_count": 17,
   "id": "54811360",
   "metadata": {
    "execution": {
     "iopub.execute_input": "2022-07-24T13:19:12.253896Z",
     "iopub.status.busy": "2022-07-24T13:19:12.250118Z",
     "iopub.status.idle": "2022-07-24T13:19:13.817019Z",
     "shell.execute_reply": "2022-07-24T13:19:13.815652Z"
    },
    "papermill": {
     "duration": 1.605561,
     "end_time": "2022-07-24T13:19:13.822607",
     "exception": false,
     "start_time": "2022-07-24T13:19:12.217046",
     "status": "completed"
    },
    "tags": []
   },
   "outputs": [
    {
     "data": {
      "application/scrapbook.scrap.json+json": {
       "data": 0.00715416512155718,
       "encoder": "json",
       "name": "ABC-GAN Model 1 MSE",
       "version": 1
      }
     },
     "metadata": {
      "scrapbook": {
       "data": true,
       "display": false,
       "name": "ABC-GAN Model 1 MSE"
      }
     },
     "output_type": "display_data"
    },
    {
     "data": {
      "application/scrapbook.scrap.json+json": {
       "data": 0.06794602395458654,
       "encoder": "json",
       "name": "ABC-GAN Model 1 MAE",
       "version": 1
      }
     },
     "metadata": {
      "scrapbook": {
       "data": true,
       "display": false,
       "name": "ABC-GAN Model 1 MAE"
      }
     },
     "output_type": "display_data"
    },
    {
     "data": {
      "application/scrapbook.scrap.json+json": {
       "data": 10.463687689006328,
       "encoder": "json",
       "name": "ABC-GAN Model 1 Manhattan Distance",
       "version": 1
      }
     },
     "metadata": {
      "scrapbook": {
       "data": true,
       "display": false,
       "name": "ABC-GAN Model 1 Manhattan Distance"
      }
     },
     "output_type": "display_data"
    },
    {
     "data": {
      "application/scrapbook.scrap.json+json": {
       "data": 1.0491133529530128,
       "encoder": "json",
       "name": "ABC-GAN Model 1 Euclidean distance",
       "version": 1
      }
     },
     "metadata": {
      "scrapbook": {
       "data": true,
       "display": false,
       "name": "ABC-GAN Model 1 Euclidean distance"
      }
     },
     "output_type": "display_data"
    },
    {
     "data": {
      "application/scrapbook.scrap.json+json": {
       "data": [
        [
         0.00796974817663804,
         0.007061293865907304,
         0.0070928605091442895,
         0.0070497469969082165,
         0.008091227923079413,
         0.006860502630438955,
         0.007134144041529517,
         0.006711185827175475,
         0.006878112679079552,
         0.006181472556333509,
         0.006962856005234687,
         0.007821781345612833,
         0.0068108270765696545,
         0.007889263555263685,
         0.007442932778534995,
         0.0071434853682527085,
         0.006957826217463278,
         0.0071862944384889944,
         0.006428048165644703,
         0.007081798843041786,
         0.007475555466403101,
         0.007012173108471437,
         0.00740307488446569,
         0.006902809382789449,
         0.006692375788024928,
         0.007541539441828228,
         0.007820745758818613,
         0.007489768465837603,
         0.007190442449061669,
         0.007406268339673501,
         0.006978910718385563,
         0.007725041907643695,
         0.0070221409596446065,
         0.007116173298676732,
         0.007231917436687016,
         0.007076768924428359,
         0.007028718175335347,
         0.00738476942892043,
         0.007190461078264662,
         0.007601172428344414,
         0.007746903828403279,
         0.008353573251937745,
         0.006171612300873723,
         0.0064608665390831965,
         0.007490688304831089,
         0.006999830519730453,
         0.006997923605534948,
         0.0065451175941731825,
         0.007857395367768276,
         0.007408772582756392,
         0.006195708442509019,
         0.006697893200204073,
         0.006635569335055143,
         0.007593282048878488,
         0.007044081205438875,
         0.00696402872895424,
         0.007304659632196524,
         0.006716055641519123,
         0.0070172637533524405,
         0.007171766623768507,
         0.006922401359080047,
         0.006141947933091639,
         0.007069521417385215,
         0.007998775314915581,
         0.006951364617224389,
         0.006991826413662528,
         0.006941179857667103,
         0.006661117577052356,
         0.00689046306713094,
         0.00759215074173739,
         0.006907228081522352,
         0.007324419963423421,
         0.00699021096402504,
         0.007138036274820806,
         0.006588353721467055,
         0.007165085154319736,
         0.007880630455529742,
         0.007163856155383123,
         0.007425515788348823,
         0.00721223365683634,
         0.007326245522103132,
         0.00800809722565392,
         0.008077307375043554,
         0.00679698474214801,
         0.007130855142537444,
         0.007309527641896886,
         0.007051752258733855,
         0.0072908528269441525,
         0.007061952770112367,
         0.006446345948051092,
         0.006667702480407829,
         0.007680921029521803,
         0.006997427526557266,
         0.006829966397588924,
         0.007228052770345818,
         0.007989744276136293,
         0.007146236194168451,
         0.007204961718961789,
         0.006378979537105139,
         0.007417051308061248
        ],
        [
         0.07025111362628349,
         0.06791897265651783,
         0.06754984002705518,
         0.06678719888743642,
         0.07157584553124843,
         0.0679341366200091,
         0.0676942231835096,
         0.0669013729391547,
         0.06838317924215422,
         0.06393008294527407,
         0.06810845969269028,
         0.0706818543326158,
         0.06510678487648437,
         0.0700422063131224,
         0.06983965328084184,
         0.0667730662971735,
         0.06668371216140011,
         0.0679462809696213,
         0.06491789543493227,
         0.06674405228491727,
         0.06835525088592784,
         0.06786577657542446,
         0.0691487965500587,
         0.06700522116349115,
         0.06652902775480375,
         0.0693121397891989,
         0.06995936475887701,
         0.07033892326637523,
         0.06775150227953088,
         0.0693701146920393,
         0.06701630559544285,
         0.07027836552784815,
         0.06719757328656586,
         0.06718541374551011,
         0.06810707794865231,
         0.06722089631313627,
         0.06820867996807996,
         0.07040476569204361,
         0.06890785270793871,
         0.06917032717981121,
         0.06945545751262795,
         0.07025840522890742,
         0.06434020141212198,
         0.0653740470720963,
         0.06888360590613507,
         0.06661905621650158,
         0.06707038713449781,
         0.06508881881736316,
         0.06916172804867292,
         0.06986687721853907,
         0.06377803691505611,
         0.0658959484380948,
         0.06669431724041314,
         0.06814189905953871,
         0.06756518502997888,
         0.06847569610101062,
         0.0670615051715792,
         0.06594846516170284,
         0.06852809303476438,
         0.06901955519887534,
         0.06699293186622006,
         0.0637157703810311,
         0.0673383604251332,
         0.07026611638630366,
         0.06675613141775906,
         0.0662673358841763,
         0.0670191909053496,
         0.06613884162302915,
         0.06669737788086588,
         0.069063504625644,
         0.0681621353202439,
         0.06914542404958954,
         0.0669208476924664,
         0.06802884714266696,
         0.06509049606884455,
         0.06771724547755409,
         0.07068604020426025,
         0.06909017354346715,
         0.06799866116375892,
         0.06944967373334743,
         0.06997726056966688,
         0.06856929184264177,
         0.07249273565392216,
         0.0665246272677338,
         0.06861124161098685,
         0.06848076326990282,
         0.06774513929017953,
         0.06805076055809275,
         0.06750521017843253,
         0.065423691935547,
         0.06738564268044837,
         0.07041349796602478,
         0.0676596210422841,
         0.06734154085544022,
         0.06909178373972316,
         0.06990746614317615,
         0.06878210587257688,
         0.06946625011404614,
         0.06571966712060687,
         0.07057839905383526
        ],
        [
         10.818671498447657,
         10.459521789103746,
         10.402675364166498,
         10.285228628665209,
         11.022680211812258,
         10.461857039481401,
         10.424910370260477,
         10.302811432629824,
         10.53100960329175,
         9.845232773572206,
         10.488702792674303,
         10.885005567222834,
         10.026444870978594,
         10.78649977222085,
         10.755306605249643,
         10.283052209764719,
         10.269291672855616,
         10.46372726932168,
         9.99735589697957,
         10.27858405187726,
         10.526708636432886,
         10.451329592615366,
         10.64891466870904,
         10.318804059177637,
         10.245470274239779,
         10.67406952753663,
         10.77374217286706,
         10.832194183021784,
         10.433731351047754,
         10.682997662574053,
         10.320511061698198,
         10.822868291288614,
         10.348426286131144,
         10.346553716808558,
         10.488490004092455,
         10.352018032222986,
         10.504136715084314,
         10.842333916574717,
         10.611809317022562,
         10.652230385690928,
         10.696140456944704,
         10.819794405251741,
         9.908391017466784,
         10.06760324910283,
         10.608075309544802,
         10.259334657341242,
         10.328839618712664,
         10.023678097873926,
         10.65090611949563,
         10.759499091655016,
         9.821817684918642,
         10.1479760594666,
         10.270924855023623,
         10.493852455168962,
         10.405038494616747,
         10.545257199555635,
         10.327471796423197,
         10.156063634902239,
         10.553326327353716,
         10.629011500626802,
         10.31691150739789,
         9.81222863867879,
         10.370107505470514,
         10.820981923490763,
         10.280444238334894,
         10.205169726163149,
         10.320955399423838,
         10.18538160994649,
         10.271396193653345,
         10.635779712349176,
         10.49696883931756,
         10.64839530363679,
         10.305810544639826,
         10.476442459970713,
         10.02393639460206,
         10.42845580354333,
         10.88565019145608,
         10.639886725693941,
         10.471793819218874,
         10.695249754935503,
         10.7764981277287,
         10.559670943766832,
         11.163881290704012,
         10.244792599231005,
         10.566131208091974,
         10.546037543565035,
         10.432751450687647,
         10.479817125946283,
         10.395802367478609,
         10.075248558074236,
         10.37738897278905,
         10.843678686767817,
         10.419581640511751,
         10.370597291737795,
         10.640134695917368,
         10.765749786049128,
         10.59244430437684,
         10.697802517563105,
         10.120828736573458,
         10.869073454290628
        ],
        [
         1.1078543312197042,
         1.0428035554934232,
         1.0451318186756255,
         1.041950592650086,
         1.1162656942476685,
         1.0278703250350205,
         1.0481689665295122,
         1.0166231442304583,
         1.029188686577078,
         0.975677597198665,
         1.035509451818834,
         1.0975219028449392,
         1.024142260524253,
         1.1022461555889445,
         1.0706127441303832,
         1.0488549693408127,
         1.0351353715767542,
         1.0519930339728039,
         0.9949469420573562,
         1.044316533350131,
         1.0729564491749315,
         1.0391701779326625,
         1.0677422592590948,
         1.0310347447829171,
         1.0151974543682816,
         1.0776813416040696,
         1.0974492456865905,
         1.073975951192107,
         1.052296601322791,
         1.0679725297542626,
         1.036702585427169,
         1.0907137359440968,
         1.0399085093340035,
         1.0468479775001798,
         1.0553270986996404,
         1.0439455993307156,
         1.0403954051232847,
         1.0664213482736298,
         1.0522979644819037,
         1.0819337105225253,
         1.092256009172806,
         1.1342179159219856,
         0.9748991200809206,
         0.9974835572673929,
         1.0740418981324646,
         1.0382552191241274,
         1.038113787237402,
         1.0039661894220693,
         1.100017675601767,
         1.0681530684993066,
         0.9768004402877739,
         1.0156158490450153,
         1.0108796553489896,
         1.0813720153246462,
         1.0415318073095927,
         1.0355966513362975,
         1.0606213194907337,
         1.0169919216955192,
         1.0395473139863696,
         1.0509291413127482,
         1.0324968810114281,
         0.9725533310292616,
         1.0434108961848747,
         1.109869991709389,
         1.034654604712392,
         1.037661441754501,
         1.0338963671861574,
         1.012823828148836,
         1.0301122814228383,
         1.0812914566515164,
         1.031364690376029,
         1.0620549300140774,
         1.0375415598711486,
         1.0484548565972711,
         1.0072767609281605,
         1.0504394860082322,
         1.1016429050066905,
         1.0503493932634993,
         1.0693593555983503,
         1.0538899293345565,
         1.0621872765213685,
         1.1105165342086103,
         1.1153050415723527,
         1.0231009971116212,
         1.047927331426548,
         1.0609746730493241,
         1.0420987706762799,
         1.0596184857529616,
         1.0428522074566964,
         0.9963620205527045,
         1.013324322210222,
         1.0875945193620449,
         1.038076990925923,
         1.0255802383181407,
         1.055045082749195,
         1.109243263907872,
         1.0490568973615975,
         1.053358488227116,
         0.991142193993471,
         1.0687496907327891
        ]
       ],
       "encoder": "json",
       "name": "ABC_GAN_2 Metrics",
       "version": 1
      }
     },
     "metadata": {
      "scrapbook": {
       "data": true,
       "display": false,
       "name": "ABC_GAN_2 Metrics"
      }
     },
     "output_type": "display_data"
    },
    {
     "name": "stdout",
     "output_type": "stream",
     "text": [
      "MAE\n",
      "0.06794602395458654\n"
     ]
    }
   ],
   "source": [
    "ABC_GAN2_metrics=ABC_train_test2.test_generator(gen2,test_data,prior_model,variance,bias,\"1\",device)\n",
    "sb.glue(\"ABC_GAN_2 Metrics\",ABC_GAN2_metrics)\n",
    "\n",
    "print(\"MAE\")\n",
    "print(mean(ABC_GAN2_metrics[1]))"
   ]
  },
  {
   "cell_type": "code",
   "execution_count": 18,
   "id": "3688ca21",
   "metadata": {
    "execution": {
     "iopub.execute_input": "2022-07-24T13:19:13.881121Z",
     "iopub.status.busy": "2022-07-24T13:19:13.880171Z",
     "iopub.status.idle": "2022-07-24T13:19:16.728886Z",
     "shell.execute_reply": "2022-07-24T13:19:16.725082Z"
    },
    "papermill": {
     "duration": 2.889986,
     "end_time": "2022-07-24T13:19:16.735513",
     "exception": false,
     "start_time": "2022-07-24T13:19:13.845527",
     "status": "completed"
    },
    "tags": []
   },
   "outputs": [
    {
     "data": {
      "image/png": "[encoded data removed]",
      "text/plain": [
       "<Figure size 432x288 with 1 Axes>"
      ]
     },
     "metadata": {
      "needs_background": "light"
     },
     "output_type": "display_data"
    },
    {
     "data": {
      "image/png": "[encoded data removed]",
      "text/plain": [
       "<Figure size 432x288 with 1 Axes>"
      ]
     },
     "metadata": {
      "needs_background": "light"
     },
     "output_type": "display_data"
    },
    {
     "data": {
      "image/png": "[encoded data removed]",
      "text/plain": [
       "<Figure size 432x288 with 1 Axes>"
      ]
     },
     "metadata": {
      "needs_background": "light"
     },
     "output_type": "display_data"
    },
    {
     "data": {
      "image/png": "[encoded data removed]",
      "text/plain": [
       "<Figure size 432x288 with 1 Axes>"
      ]
     },
     "metadata": {
      "needs_background": "light"
     },
     "output_type": "display_data"
    }
   ],
   "source": [
    "sanityChecks.discProbVsError(train_data,disc2,device)\n",
    "sanityChecks.discProbVsError(test_data,disc2,device)"
   ]
  },
  {
   "cell_type": "markdown",
   "id": "130f3a4d",
   "metadata": {
    "id": "130f3a4d",
    "papermill": {
     "duration": 0.027973,
     "end_time": "2022-07-24T13:19:16.796162",
     "exception": false,
     "start_time": "2022-07-24T13:19:16.768189",
     "status": "completed"
    },
    "tags": []
   },
   "source": [
    "# skipGAN Model"
   ]
  },
  {
   "cell_type": "code",
   "execution_count": 19,
   "id": "4e43dad1",
   "metadata": {
    "execution": {
     "iopub.execute_input": "2022-07-24T13:19:16.859476Z",
     "iopub.status.busy": "2022-07-24T13:19:16.858328Z",
     "iopub.status.idle": "2022-07-24T13:19:16.866643Z",
     "shell.execute_reply": "2022-07-24T13:19:16.864171Z"
    },
    "id": "4e43dad1",
    "papermill": {
     "duration": 0.046732,
     "end_time": "2022-07-24T13:19:16.873419",
     "exception": false,
     "start_time": "2022-07-24T13:19:16.826687",
     "status": "completed"
    },
    "tags": []
   },
   "outputs": [],
   "source": [
    "# #Generator\n",
    "# gen3 = network.GeneratorWithSkipConnection(n_features+1).to(device)\n",
    "# constraints=network.weightConstraint()\n",
    "# #Discriminator \n",
    "# disc3 = network.Discriminator(n_features+1).to(device)\n",
    "\n",
    "# criterion = torch.nn.BCELoss()\n",
    "# gen_opt = torch.optim.Adam(gen3.parameters(), lr=0.01, betas=(0.5, 0.999))\n",
    "# disc_opt = torch.optim.Adam(disc3.parameters(), lr=0.01, betas=(0.5, 0.999))\n"
   ]
  },
  {
   "cell_type": "markdown",
   "id": "e8b1aa4b",
   "metadata": {
    "tags": [
     "papermill-error-cell-tag"
    ]
   },
   "source": [
    "<span id=\"papermill-error-cell\" style=\"color:red; font-family:Helvetica Neue, Helvetica, Arial, sans-serif; font-size:2em;\">Execution using papermill encountered an exception here and stopped:</span>"
   ]
  },
  {
   "cell_type": "code",
   "execution_count": 20,
   "id": "26acbc37",
   "metadata": {
    "execution": {
     "iopub.execute_input": "2022-07-24T13:19:16.934422Z",
     "iopub.status.busy": "2022-07-24T13:19:16.933269Z",
     "iopub.status.idle": "2022-07-24T13:19:18.958800Z",
     "shell.execute_reply": "2022-07-24T13:19:18.952838Z"
    },
    "id": "26acbc37",
    "papermill": {
     "duration": 2.078129,
     "end_time": "2022-07-24T13:19:18.977125",
     "exception": true,
     "start_time": "2022-07-24T13:19:16.898996",
     "status": "failed"
    },
    "tags": []
   },
   "outputs": [
    {
     "ename": "NameError",
     "evalue": "name 'disc3' is not defined",
     "output_type": "error",
     "traceback": [
      "\u001b[0;31m---------------------------------------------------------------------------\u001b[0m",
      "\u001b[0;31mNameError\u001b[0m                                 Traceback (most recent call last)",
      "Input \u001b[0;32mIn [20]\u001b[0m, in \u001b[0;36m<cell line: 1>\u001b[0;34m()\u001b[0m\n\u001b[0;32m----> 1\u001b[0m ABC_train_test2\u001b[38;5;241m.\u001b[39mtraining_GAN_skip_connection(\u001b[43mdisc3\u001b[49m,gen3,disc_opt,gen_opt,train_data,batch_size,n_epochs,criterion,prior_model,variance,bias,device)\n",
      "\u001b[0;31mNameError\u001b[0m: name 'disc3' is not defined"
     ]
    }
   ],
   "source": [
    "ABC_train_test2.training_GAN_skip_connection(disc3,gen3,disc_opt,gen_opt,train_data,batch_size,n_epochs,criterion,prior_model,variance,bias,device)"
   ]
  },
  {
   "cell_type": "code",
   "execution_count": null,
   "id": "c5e0717b",
   "metadata": {
    "id": "c5e0717b",
    "papermill": {
     "duration": null,
     "end_time": null,
     "exception": null,
     "start_time": null,
     "status": "pending"
    },
    "tags": []
   },
   "outputs": [],
   "source": [
    "# ABC_GAN3_metrics=ABC_train_test2.test_generator(gen3,test_data,prior_model,variance,bias,\"3\",device)\n",
    "# sb.glue(\"ABC_GAN_3 Metrics\",ABC_GAN3_metrics)\n",
    "\n",
    "# print(\"MAE\")\n",
    "# print(mean(ABC_GAN3_metrics[1]))"
   ]
  },
  {
   "cell_type": "code",
   "execution_count": null,
   "id": "c8e46b48",
   "metadata": {
    "id": "c8e46b48",
    "papermill": {
     "duration": null,
     "end_time": null,
     "exception": null,
     "start_time": null,
     "status": "pending"
    },
    "tags": []
   },
   "outputs": [],
   "source": [
    "# sanityChecks.discProbVsError(train_data,disc3,device)\n",
    "# sanityChecks.discProbVsError(test_data,disc3,device)"
   ]
  },
  {
   "cell_type": "markdown",
   "id": "617a8ebb",
   "metadata": {
    "id": "130f3a4d",
    "papermill": {
     "duration": null,
     "end_time": null,
     "exception": null,
     "start_time": null,
     "status": "pending"
    },
    "tags": []
   },
   "source": [
    "# skipGAN Model with TabNet Generator"
   ]
  },
  {
   "cell_type": "code",
   "execution_count": null,
   "id": "10e4be15",
   "metadata": {
    "id": "4e43dad1",
    "papermill": {
     "duration": null,
     "end_time": null,
     "exception": null,
     "start_time": null,
     "status": "pending"
    },
    "tags": []
   },
   "outputs": [],
   "source": [
    "# #Generator\n",
    "# gen4 = network.GeneratorTabnetskipConnection(n_features+1).to(device)\n",
    "# constraints=network.weightConstraint()\n",
    "# #Discriminator \n",
    "# disc4 = network.Discriminator(n_features+1).to(device)\n",
    "\n",
    "# criterion = torch.nn.BCELoss()\n",
    "# gen_opt = torch.optim.Adam(gen4.parameters(), lr=0.01, betas=(0.5, 0.999))\n",
    "# disc_opt = torch.optim.Adam(disc4.parameters(), lr=0.01, betas=(0.5, 0.999))\n"
   ]
  },
  {
   "cell_type": "code",
   "execution_count": null,
   "id": "6f15f76b",
   "metadata": {
    "id": "26acbc37",
    "papermill": {
     "duration": null,
     "end_time": null,
     "exception": null,
     "start_time": null,
     "status": "pending"
    },
    "tags": []
   },
   "outputs": [],
   "source": [
    "# ABC_train_test2.training_GAN_skip_connection(disc4,gen4,disc_opt,gen_opt,train_data,batch_size,n_epochs,criterion,prior_model,variance,bias,device)"
   ]
  },
  {
   "cell_type": "code",
   "execution_count": null,
   "id": "16ec6b22",
   "metadata": {
    "id": "c5e0717b",
    "papermill": {
     "duration": null,
     "end_time": null,
     "exception": null,
     "start_time": null,
     "status": "pending"
    },
    "tags": []
   },
   "outputs": [],
   "source": [
    "# ABC_GAN4_metrics=ABC_train_test2.test_generator(gen4,test_data,prior_model,variance,bias,\"3\",device)\n",
    "# sb.glue(\"ABC_GAN_4 Metrics\",ABC_GAN4_metrics)\n",
    "\n",
    "# print(\"MAE\")\n",
    "# print(mean(ABC_GAN4_metrics[1]))"
   ]
  },
  {
   "cell_type": "code",
   "execution_count": null,
   "id": "d2295631",
   "metadata": {
    "id": "c8e46b48",
    "papermill": {
     "duration": null,
     "end_time": null,
     "exception": null,
     "start_time": null,
     "status": "pending"
    },
    "tags": []
   },
   "outputs": [],
   "source": [
    "# sanityChecks.discProbVsError(train_data,disc4,device)\n",
    "# sanityChecks.discProbVsError(test_data,disc4,device)"
   ]
  },
  {
   "cell_type": "markdown",
   "id": "a5bd74c3",
   "metadata": {
    "id": "a5bd74c3",
    "papermill": {
     "duration": null,
     "end_time": null,
     "exception": null,
     "start_time": null,
     "status": "pending"
    },
    "tags": []
   },
   "source": [
    "## Skip Connection Model Analysis - ABC-GAN "
   ]
  },
  {
   "cell_type": "markdown",
   "id": "5744a8bf",
   "metadata": {
    "id": "5744a8bf",
    "papermill": {
     "duration": null,
     "end_time": null,
     "exception": null,
     "start_time": null,
     "status": "pending"
    },
    "tags": []
   },
   "source": [
    "### Weight Analysis \n",
    "\n",
    "Study the weights of the skip connection layer\n",
    "\n",
    "Equation of the skip connection is \n",
    "\n",
    "$output = y_{gan} * w + y_{abc} * (1-w)$"
   ]
  },
  {
   "cell_type": "code",
   "execution_count": null,
   "id": "52c31dea",
   "metadata": {
    "id": "52c31dea",
    "papermill": {
     "duration": null,
     "end_time": null,
     "exception": null,
     "start_time": null,
     "status": "pending"
    },
    "tags": []
   },
   "outputs": [],
   "source": [
    "# print(\"Weight of the node at skip connection\")\n",
    "# for name,param in gen3.named_parameters():\n",
    "#     if(name == \"skipNode.weight\"):\n",
    "#         print(param)\n",
    "#         sb.glue(\"Skip Connection Weight\",param.item())"
   ]
  },
  {
   "cell_type": "markdown",
   "id": "295cdb7e",
   "metadata": {
    "id": "a5bd74c3",
    "papermill": {
     "duration": null,
     "end_time": null,
     "exception": null,
     "start_time": null,
     "status": "pending"
    },
    "tags": []
   },
   "source": [
    "## skipGAN Model Analysis (TabNet Generator) "
   ]
  },
  {
   "cell_type": "markdown",
   "id": "54639b2d",
   "metadata": {
    "id": "5744a8bf",
    "papermill": {
     "duration": null,
     "end_time": null,
     "exception": null,
     "start_time": null,
     "status": "pending"
    },
    "tags": []
   },
   "source": [
    "### Weight Analysis \n",
    "\n",
    "Study the weights of the skip connection layer\n",
    "\n",
    "Equation of the skip connection is \n",
    "\n",
    "$output = y_{gan} * w + y_{abc} * (1-w)$"
   ]
  },
  {
   "cell_type": "code",
   "execution_count": null,
   "id": "06c3eb5e",
   "metadata": {
    "id": "52c31dea",
    "papermill": {
     "duration": null,
     "end_time": null,
     "exception": null,
     "start_time": null,
     "status": "pending"
    },
    "tags": []
   },
   "outputs": [],
   "source": [
    "# print(\"Weight of the node at skip connection\")\n",
    "# for name,param in gen4.named_parameters():\n",
    "#     if(name == \"skipNode.weight\"):\n",
    "#         print(param)\n",
    "#         sb.glue(\"Skip Connection Weight\",param.item())"
   ]
  }
 ],
 "metadata": {
  "colab": {
   "collapsed_sections": [],
   "name": "ABC_GAN_Model-Catboost_Pre-gen.ipynb",
   "provenance": []
  },
  "interpreter": {
   "hash": "31f2aee4e71d21fbe5cf8b01ff0e069b9275f58929596ceb00d14d90e3e16cd6"
  },
  "kernelspec": {
   "display_name": "Python 3 (ipykernel)",
   "language": "python",
   "name": "python3"
  },
  "language_info": {
   "codemirror_mode": {
    "name": "ipython",
    "version": 3
   },
   "file_extension": ".py",
   "mimetype": "text/x-python",
   "name": "python",
   "nbconvert_exporter": "python",
   "pygments_lexer": "ipython3",
   "version": "3.8.13"
  },
  "papermill": {
   "default_parameters": {},
   "duration": 257.602284,
   "end_time": "2022-07-24T13:19:20.311526",
   "environment_variables": {},
   "exception": true,
   "input_path": "ABC_GAN-Catboost.ipynb",
   "output_path": "./ABC_GAN_Catboost/ABC-GAN_output_3_7.ipynb",
   "parameters": {
    "bias": 0.01,
    "variance": 0.1
   },
   "start_time": "2022-07-24T13:15:02.709242",
   "version": "2.3.3"
  }
 },
 "nbformat": 4,
 "nbformat_minor": 5
}