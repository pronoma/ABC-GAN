{
 "cells": [
  {
   "cell_type": "markdown",
   "id": "622780e6",
   "metadata": {
    "id": "622780e6",
    "papermill": {
     "duration": 0.011009,
     "end_time": "2022-07-24T17:14:46.631062",
     "exception": false,
     "start_time": "2022-07-24T17:14:46.620053",
     "status": "completed"
    },
    "tags": []
   },
   "source": [
    "## Import Libraries "
   ]
  },
  {
   "cell_type": "code",
   "execution_count": 1,
   "id": "a62397e3",
   "metadata": {
    "execution": {
     "iopub.execute_input": "2022-07-24T17:14:46.650039Z",
     "iopub.status.busy": "2022-07-24T17:14:46.648692Z",
     "iopub.status.idle": "2022-07-24T17:14:46.665530Z",
     "shell.execute_reply": "2022-07-24T17:14:46.664562Z"
    },
    "id": "a62397e3",
    "papermill": {
     "duration": 0.031249,
     "end_time": "2022-07-24T17:14:46.669478",
     "exception": false,
     "start_time": "2022-07-24T17:14:46.638229",
     "status": "completed"
    },
    "tags": []
   },
   "outputs": [],
   "source": [
    "import warnings\n",
    "import sys\n",
    "sys.path.insert(0, '../../src')\n",
    "warnings.filterwarnings('ignore')"
   ]
  },
  {
   "cell_type": "code",
   "execution_count": 2,
   "id": "d6a4e155",
   "metadata": {
    "execution": {
     "iopub.execute_input": "2022-07-24T17:14:46.696497Z",
     "iopub.status.busy": "2022-07-24T17:14:46.695977Z",
     "iopub.status.idle": "2022-07-24T17:14:56.787283Z",
     "shell.execute_reply": "2022-07-24T17:14:56.786034Z"
    },
    "id": "d6a4e155",
    "papermill": {
     "duration": 10.108249,
     "end_time": "2022-07-24T17:14:56.791919",
     "exception": false,
     "start_time": "2022-07-24T17:14:46.683670",
     "status": "completed"
    },
    "tags": []
   },
   "outputs": [],
   "source": [
    "import ABC_train_test2\n",
    "import energyefficiencyDataset\n",
    "import network\n",
    "import dataset\n",
    "import sanityChecks\n",
    "import torch \n",
    "import scrapbook as sb\n",
    "from statistics import mean \n",
    "import catboost as ctb \n",
    "from sklearn.model_selection import train_test_split\n",
    "from sklearn.metrics import mean_squared_error,mean_absolute_error\n",
    "import numpy as np"
   ]
  },
  {
   "cell_type": "markdown",
   "id": "2fa5b0f7",
   "metadata": {
    "id": "2fa5b0f7",
    "papermill": {
     "duration": 0.008632,
     "end_time": "2022-07-24T17:14:56.810449",
     "exception": false,
     "start_time": "2022-07-24T17:14:56.801817",
     "status": "completed"
    },
    "tags": []
   },
   "source": [
    "## Parameters "
   ]
  },
  {
   "cell_type": "code",
   "execution_count": 3,
   "id": "783186fb",
   "metadata": {
    "execution": {
     "iopub.execute_input": "2022-07-24T17:14:56.829499Z",
     "iopub.status.busy": "2022-07-24T17:14:56.829127Z",
     "iopub.status.idle": "2022-07-24T17:14:56.834216Z",
     "shell.execute_reply": "2022-07-24T17:14:56.832642Z"
    },
    "id": "783186fb",
    "papermill": {
     "duration": 0.01893,
     "end_time": "2022-07-24T17:14:56.837184",
     "exception": false,
     "start_time": "2022-07-24T17:14:56.818254",
     "status": "completed"
    },
    "tags": [
     "parameters"
    ]
   },
   "outputs": [],
   "source": [
    "variance = 1\n",
    "bias = 1 "
   ]
  },
  {
   "cell_type": "code",
   "execution_count": 4,
   "id": "2c12c35e",
   "metadata": {
    "execution": {
     "iopub.execute_input": "2022-07-24T17:14:56.853939Z",
     "iopub.status.busy": "2022-07-24T17:14:56.853504Z",
     "iopub.status.idle": "2022-07-24T17:14:56.858283Z",
     "shell.execute_reply": "2022-07-24T17:14:56.857159Z"
    },
    "papermill": {
     "duration": 0.017311,
     "end_time": "2022-07-24T17:14:56.862172",
     "exception": false,
     "start_time": "2022-07-24T17:14:56.844861",
     "status": "completed"
    },
    "tags": [
     "injected-parameters"
    ]
   },
   "outputs": [],
   "source": [
    "# Parameters\n",
    "variance = 0.1\n",
    "bias = 0.1\n"
   ]
  },
  {
   "cell_type": "markdown",
   "id": "391cdbfd",
   "metadata": {
    "id": "391cdbfd",
    "papermill": {
     "duration": 0.011388,
     "end_time": "2022-07-24T17:14:56.881807",
     "exception": false,
     "start_time": "2022-07-24T17:14:56.870419",
     "status": "completed"
    },
    "tags": []
   },
   "source": [
    "## Dataset \n"
   ]
  },
  {
   "cell_type": "code",
   "execution_count": 5,
   "id": "5b51f161",
   "metadata": {
    "execution": {
     "iopub.execute_input": "2022-07-24T17:14:56.901125Z",
     "iopub.status.busy": "2022-07-24T17:14:56.900370Z",
     "iopub.status.idle": "2022-07-24T17:14:56.905396Z",
     "shell.execute_reply": "2022-07-24T17:14:56.904086Z"
    },
    "id": "5b51f161",
    "papermill": {
     "duration": 0.02548,
     "end_time": "2022-07-24T17:14:56.914748",
     "exception": false,
     "start_time": "2022-07-24T17:14:56.889268",
     "status": "completed"
    },
    "tags": []
   },
   "outputs": [],
   "source": [
    "#Parameters \n",
    "n_features = 8\n",
    "n_samples= 768\n",
    "n_target = 1 "
   ]
  },
  {
   "cell_type": "code",
   "execution_count": 6,
   "id": "5d6eced4",
   "metadata": {
    "execution": {
     "iopub.execute_input": "2022-07-24T17:14:56.945486Z",
     "iopub.status.busy": "2022-07-24T17:14:56.944898Z",
     "iopub.status.idle": "2022-07-24T17:14:57.550703Z",
     "shell.execute_reply": "2022-07-24T17:14:57.549183Z"
    },
    "id": "5d6eced4",
    "papermill": {
     "duration": 0.62357,
     "end_time": "2022-07-24T17:14:57.553412",
     "exception": false,
     "start_time": "2022-07-24T17:14:56.929842",
     "status": "completed"
    },
    "tags": []
   },
   "outputs": [
    {
     "name": "stdout",
     "output_type": "stream",
     "text": [
      "     X1     X2     X3      X4   X5  X6   X7  X8     Y1     Y2\n",
      "0  0.98  514.5  294.0  110.25  7.0   2  0.0   0  15.55  21.33\n",
      "1  0.98  514.5  294.0  110.25  7.0   3  0.0   0  15.55  21.33\n",
      "2  0.98  514.5  294.0  110.25  7.0   4  0.0   0  15.55  21.33\n",
      "3  0.98  514.5  294.0  110.25  7.0   5  0.0   0  15.55  21.33\n",
      "4  0.90  563.5  318.5  122.50  7.0   2  0.0   0  20.84  28.28\n"
     ]
    }
   ],
   "source": [
    "X,Y = energyefficiencyDataset.energy_data()"
   ]
  },
  {
   "cell_type": "code",
   "execution_count": 7,
   "id": "fe007438",
   "metadata": {
    "execution": {
     "iopub.execute_input": "2022-07-24T17:14:57.570991Z",
     "iopub.status.busy": "2022-07-24T17:14:57.570472Z",
     "iopub.status.idle": "2022-07-24T17:14:57.579102Z",
     "shell.execute_reply": "2022-07-24T17:14:57.577950Z"
    },
    "id": "fe007438",
    "papermill": {
     "duration": 0.02155,
     "end_time": "2022-07-24T17:14:57.582093",
     "exception": false,
     "start_time": "2022-07-24T17:14:57.560543",
     "status": "completed"
    },
    "tags": []
   },
   "outputs": [],
   "source": [
    "#Train test split for dataset \n",
    "X_train,X_test,Y_train,Y_test = train_test_split(X,Y,test_size = 0.2)\n",
    "train_data = dataset.CustomDataset(X_train,Y_train)\n",
    "test_data = dataset.CustomDataset(X_test,Y_test)\n"
   ]
  },
  {
   "cell_type": "markdown",
   "id": "a9a1af34",
   "metadata": {
    "id": "a9a1af34",
    "papermill": {
     "duration": 0.009642,
     "end_time": "2022-07-24T17:14:57.599035",
     "exception": false,
     "start_time": "2022-07-24T17:14:57.589393",
     "status": "completed"
    },
    "tags": []
   },
   "source": [
    "## Training Parameters "
   ]
  },
  {
   "cell_type": "code",
   "execution_count": 8,
   "id": "952b7fc8",
   "metadata": {
    "execution": {
     "iopub.execute_input": "2022-07-24T17:14:57.618881Z",
     "iopub.status.busy": "2022-07-24T17:14:57.617291Z",
     "iopub.status.idle": "2022-07-24T17:14:57.624369Z",
     "shell.execute_reply": "2022-07-24T17:14:57.623348Z"
    },
    "id": "952b7fc8",
    "papermill": {
     "duration": 0.020606,
     "end_time": "2022-07-24T17:14:57.627808",
     "exception": false,
     "start_time": "2022-07-24T17:14:57.607202",
     "status": "completed"
    },
    "tags": []
   },
   "outputs": [],
   "source": [
    "batch_size = 32\n",
    "n_epochs = 1000\n",
    "#Select the device \n",
    "device = torch.device('cuda' if torch.cuda.is_available() else 'cpu')"
   ]
  },
  {
   "cell_type": "markdown",
   "id": "a95e1600",
   "metadata": {
    "id": "a95e1600",
    "papermill": {
     "duration": 0.012247,
     "end_time": "2022-07-24T17:14:57.647389",
     "exception": false,
     "start_time": "2022-07-24T17:14:57.635142",
     "status": "completed"
    },
    "tags": []
   },
   "source": [
    "# ABC Pre-generator Model \n",
    "\n",
    "1. The catboost model is used as a pre-generator model for the ABC-GAN. \n",
    "2. The model is first trained on the entire dataset \n",
    "3. It generats X,Y pairs and we add some Gaussian noise with mean 0 and variance 1 to it which is then feed as input to the generator.\n"
   ]
  },
  {
   "cell_type": "code",
   "execution_count": 9,
   "id": "ff8ce7bd",
   "metadata": {
    "execution": {
     "iopub.execute_input": "2022-07-24T17:14:57.667901Z",
     "iopub.status.busy": "2022-07-24T17:14:57.667344Z",
     "iopub.status.idle": "2022-07-24T17:14:58.567835Z",
     "shell.execute_reply": "2022-07-24T17:14:58.564775Z"
    },
    "id": "ff8ce7bd",
    "papermill": {
     "duration": 0.913707,
     "end_time": "2022-07-24T17:14:58.570877",
     "exception": false,
     "start_time": "2022-07-24T17:14:57.657170",
     "status": "completed"
    },
    "tags": []
   },
   "outputs": [
    {
     "name": "stdout",
     "output_type": "stream",
     "text": [
      "Learning rate set to 0.037906\n",
      "0:\tlearn: 0.9669419\ttotal: 52.4ms\tremaining: 52.3s\n",
      "1:\tlearn: 0.9345952\ttotal: 52.6ms\tremaining: 26.2s\n",
      "2:\tlearn: 0.9070645\ttotal: 53.2ms\tremaining: 17.7s\n"
     ]
    },
    {
     "name": "stdout",
     "output_type": "stream",
     "text": [
      "3:\tlearn: 0.8768611\ttotal: 53.9ms\tremaining: 13.4s\n",
      "4:\tlearn: 0.8519883\ttotal: 55ms\tremaining: 10.9s\n",
      "5:\tlearn: 0.8242071\ttotal: 55.6ms\tremaining: 9.21s\n",
      "6:\tlearn: 0.8016039\ttotal: 55.9ms\tremaining: 7.93s\n",
      "7:\tlearn: 0.7785963\ttotal: 56.5ms\tremaining: 7.01s\n",
      "8:\tlearn: 0.7526660\ttotal: 57ms\tremaining: 6.27s\n",
      "9:\tlearn: 0.7286176\ttotal: 57.3ms\tremaining: 5.67s\n",
      "10:\tlearn: 0.7058921\ttotal: 57.5ms\tremaining: 5.17s\n",
      "11:\tlearn: 0.6830723\ttotal: 57.7ms\tremaining: 4.75s\n",
      "12:\tlearn: 0.6631706\ttotal: 57.9ms\tremaining: 4.4s\n",
      "13:\tlearn: 0.6418196\ttotal: 58.2ms\tremaining: 4.09s\n",
      "14:\tlearn: 0.6219448\ttotal: 59.7ms\tremaining: 3.92s\n",
      "15:\tlearn: 0.6022916\ttotal: 60.3ms\tremaining: 3.71s\n",
      "16:\tlearn: 0.5836987\ttotal: 60.8ms\tremaining: 3.52s\n",
      "17:\tlearn: 0.5665142\ttotal: 61.2ms\tremaining: 3.34s\n",
      "18:\tlearn: 0.5508260\ttotal: 61.9ms\tremaining: 3.2s\n",
      "19:\tlearn: 0.5349908\ttotal: 62.1ms\tremaining: 3.04s\n",
      "20:\tlearn: 0.5191112\ttotal: 62.9ms\tremaining: 2.93s\n",
      "21:\tlearn: 0.5027161\ttotal: 63.2ms\tremaining: 2.81s\n",
      "22:\tlearn: 0.4865690\ttotal: 63.4ms\tremaining: 2.69s\n",
      "23:\tlearn: 0.4733142\ttotal: 63.7ms\tremaining: 2.59s\n",
      "24:\tlearn: 0.4587773\ttotal: 65.1ms\tremaining: 2.54s\n",
      "25:\tlearn: 0.4451909\ttotal: 65.6ms\tremaining: 2.46s\n",
      "26:\tlearn: 0.4333134\ttotal: 65.8ms\tremaining: 2.37s\n",
      "27:\tlearn: 0.4195662\ttotal: 66.1ms\tremaining: 2.29s\n",
      "28:\tlearn: 0.4083762\ttotal: 66.3ms\tremaining: 2.22s\n",
      "29:\tlearn: 0.3969326\ttotal: 66.5ms\tremaining: 2.15s\n",
      "30:\tlearn: 0.3848383\ttotal: 66.7ms\tremaining: 2.08s\n",
      "31:\tlearn: 0.3735501\ttotal: 68.4ms\tremaining: 2.07s\n",
      "32:\tlearn: 0.3633027\ttotal: 69.4ms\tremaining: 2.03s\n",
      "33:\tlearn: 0.3530756\ttotal: 70.2ms\tremaining: 1.99s\n",
      "34:\tlearn: 0.3420887\ttotal: 70.9ms\tremaining: 1.96s\n",
      "35:\tlearn: 0.3332650\ttotal: 71.8ms\tremaining: 1.92s\n",
      "36:\tlearn: 0.3248456\ttotal: 72.3ms\tremaining: 1.88s\n",
      "37:\tlearn: 0.3164156\ttotal: 73.3ms\tremaining: 1.85s\n",
      "38:\tlearn: 0.3077768\ttotal: 73.9ms\tremaining: 1.82s\n",
      "39:\tlearn: 0.2997557\ttotal: 74.8ms\tremaining: 1.79s\n",
      "40:\tlearn: 0.2934373\ttotal: 75.1ms\tremaining: 1.76s\n",
      "41:\tlearn: 0.2845615\ttotal: 76.3ms\tremaining: 1.74s\n",
      "42:\tlearn: 0.2764790\ttotal: 77.1ms\tremaining: 1.72s\n",
      "43:\tlearn: 0.2694145\ttotal: 77.6ms\tremaining: 1.69s\n",
      "44:\tlearn: 0.2629675\ttotal: 78.6ms\tremaining: 1.67s\n",
      "45:\tlearn: 0.2575359\ttotal: 79.7ms\tremaining: 1.65s\n",
      "46:\tlearn: 0.2524089\ttotal: 79.9ms\tremaining: 1.62s\n",
      "47:\tlearn: 0.2464271\ttotal: 82ms\tremaining: 1.63s\n",
      "48:\tlearn: 0.2391211\ttotal: 82.8ms\tremaining: 1.61s\n",
      "49:\tlearn: 0.2324001\ttotal: 83.4ms\tremaining: 1.58s\n",
      "50:\tlearn: 0.2265190\ttotal: 83.8ms\tremaining: 1.56s\n",
      "51:\tlearn: 0.2220553\ttotal: 84.6ms\tremaining: 1.54s\n",
      "52:\tlearn: 0.2171522\ttotal: 85.6ms\tremaining: 1.53s\n",
      "53:\tlearn: 0.2110359\ttotal: 86ms\tremaining: 1.51s\n",
      "54:\tlearn: 0.2052631\ttotal: 87.2ms\tremaining: 1.5s\n",
      "55:\tlearn: 0.1993741\ttotal: 88.2ms\tremaining: 1.49s\n",
      "56:\tlearn: 0.1943180\ttotal: 89.5ms\tremaining: 1.48s\n",
      "57:\tlearn: 0.1904834\ttotal: 90.4ms\tremaining: 1.47s\n",
      "58:\tlearn: 0.1855741\ttotal: 90.7ms\tremaining: 1.45s\n",
      "59:\tlearn: 0.1814508\ttotal: 91.8ms\tremaining: 1.44s\n",
      "60:\tlearn: 0.1768662\ttotal: 92.6ms\tremaining: 1.43s\n",
      "61:\tlearn: 0.1726270\ttotal: 93.4ms\tremaining: 1.41s\n",
      "62:\tlearn: 0.1699330\ttotal: 93.8ms\tremaining: 1.39s\n",
      "63:\tlearn: 0.1663639\ttotal: 95.1ms\tremaining: 1.39s\n",
      "64:\tlearn: 0.1619348\ttotal: 96.4ms\tremaining: 1.39s\n",
      "65:\tlearn: 0.1577149\ttotal: 97.8ms\tremaining: 1.38s\n",
      "66:\tlearn: 0.1542482\ttotal: 98.8ms\tremaining: 1.38s\n",
      "67:\tlearn: 0.1504842\ttotal: 99.7ms\tremaining: 1.37s\n",
      "68:\tlearn: 0.1468522\ttotal: 100ms\tremaining: 1.35s\n",
      "69:\tlearn: 0.1433705\ttotal: 101ms\tremaining: 1.34s\n",
      "70:\tlearn: 0.1407371\ttotal: 102ms\tremaining: 1.33s\n",
      "71:\tlearn: 0.1379693\ttotal: 102ms\tremaining: 1.32s\n",
      "72:\tlearn: 0.1346011\ttotal: 103ms\tremaining: 1.31s\n",
      "73:\tlearn: 0.1324151\ttotal: 103ms\tremaining: 1.29s\n",
      "74:\tlearn: 0.1297181\ttotal: 105ms\tremaining: 1.29s\n",
      "75:\tlearn: 0.1265337\ttotal: 105ms\tremaining: 1.28s\n",
      "76:\tlearn: 0.1246222\ttotal: 105ms\tremaining: 1.26s\n",
      "77:\tlearn: 0.1215228\ttotal: 106ms\tremaining: 1.25s\n",
      "78:\tlearn: 0.1197405\ttotal: 106ms\tremaining: 1.24s\n",
      "79:\tlearn: 0.1171746\ttotal: 107ms\tremaining: 1.23s\n",
      "80:\tlearn: 0.1145993\ttotal: 107ms\tremaining: 1.22s\n",
      "81:\tlearn: 0.1125057\ttotal: 108ms\tremaining: 1.21s\n",
      "82:\tlearn: 0.1098572\ttotal: 108ms\tremaining: 1.2s\n",
      "83:\tlearn: 0.1085809\ttotal: 109ms\tremaining: 1.19s\n",
      "84:\tlearn: 0.1066609\ttotal: 109ms\tremaining: 1.18s\n",
      "85:\tlearn: 0.1042434\ttotal: 110ms\tremaining: 1.17s\n",
      "86:\tlearn: 0.1019465\ttotal: 110ms\tremaining: 1.16s\n",
      "87:\tlearn: 0.1007700\ttotal: 111ms\tremaining: 1.15s\n",
      "88:\tlearn: 0.0985610\ttotal: 111ms\tremaining: 1.14s\n",
      "89:\tlearn: 0.0965862\ttotal: 112ms\tremaining: 1.13s\n",
      "90:\tlearn: 0.0948035\ttotal: 112ms\tremaining: 1.12s\n",
      "91:\tlearn: 0.0934948\ttotal: 113ms\tremaining: 1.11s\n",
      "92:\tlearn: 0.0922910\ttotal: 113ms\tremaining: 1.1s\n",
      "93:\tlearn: 0.0909519\ttotal: 114ms\tremaining: 1.1s\n",
      "94:\tlearn: 0.0893982\ttotal: 114ms\tremaining: 1.09s\n",
      "95:\tlearn: 0.0875634\ttotal: 115ms\tremaining: 1.08s\n",
      "96:\tlearn: 0.0866730\ttotal: 115ms\tremaining: 1.07s\n",
      "97:\tlearn: 0.0851337\ttotal: 116ms\tremaining: 1.06s\n",
      "98:\tlearn: 0.0836103\ttotal: 116ms\tremaining: 1.06s\n",
      "99:\tlearn: 0.0819670\ttotal: 117ms\tremaining: 1.05s\n",
      "100:\tlearn: 0.0814974\ttotal: 117ms\tremaining: 1.04s\n",
      "101:\tlearn: 0.0808957\ttotal: 117ms\tremaining: 1.03s\n",
      "102:\tlearn: 0.0797849\ttotal: 118ms\tremaining: 1.03s\n",
      "103:\tlearn: 0.0785300\ttotal: 119ms\tremaining: 1.02s\n",
      "104:\tlearn: 0.0771142\ttotal: 119ms\tremaining: 1.02s\n",
      "105:\tlearn: 0.0759147\ttotal: 120ms\tremaining: 1.01s\n",
      "106:\tlearn: 0.0749382\ttotal: 120ms\tremaining: 1s\n",
      "107:\tlearn: 0.0734294\ttotal: 121ms\tremaining: 1s\n",
      "108:\tlearn: 0.0728481\ttotal: 122ms\tremaining: 994ms\n",
      "109:\tlearn: 0.0719473\ttotal: 122ms\tremaining: 986ms\n",
      "110:\tlearn: 0.0710895\ttotal: 122ms\tremaining: 980ms\n",
      "111:\tlearn: 0.0702780\ttotal: 123ms\tremaining: 975ms\n",
      "112:\tlearn: 0.0694281\ttotal: 124ms\tremaining: 972ms\n",
      "113:\tlearn: 0.0685893\ttotal: 125ms\tremaining: 968ms\n",
      "114:\tlearn: 0.0680520\ttotal: 125ms\tremaining: 961ms\n",
      "115:\tlearn: 0.0668630\ttotal: 125ms\tremaining: 955ms\n",
      "116:\tlearn: 0.0659752\ttotal: 126ms\tremaining: 950ms\n",
      "117:\tlearn: 0.0648417\ttotal: 126ms\tremaining: 945ms\n",
      "118:\tlearn: 0.0638060\ttotal: 127ms\tremaining: 939ms\n",
      "119:\tlearn: 0.0628851\ttotal: 127ms\tremaining: 934ms\n",
      "120:\tlearn: 0.0622966\ttotal: 128ms\tremaining: 931ms\n",
      "121:\tlearn: 0.0614997\ttotal: 129ms\tremaining: 926ms\n",
      "122:\tlearn: 0.0608598\ttotal: 129ms\tremaining: 922ms\n",
      "123:\tlearn: 0.0600344\ttotal: 130ms\tremaining: 917ms\n",
      "124:\tlearn: 0.0593173\ttotal: 130ms\tremaining: 912ms\n",
      "125:\tlearn: 0.0586456\ttotal: 131ms\tremaining: 906ms\n",
      "126:\tlearn: 0.0582650\ttotal: 131ms\tremaining: 904ms\n",
      "127:\tlearn: 0.0575767\ttotal: 132ms\tremaining: 900ms\n",
      "128:\tlearn: 0.0569821\ttotal: 133ms\tremaining: 897ms\n",
      "129:\tlearn: 0.0563983\ttotal: 133ms\tremaining: 893ms\n",
      "130:\tlearn: 0.0557338\ttotal: 134ms\tremaining: 888ms\n",
      "131:\tlearn: 0.0553883\ttotal: 134ms\tremaining: 884ms\n",
      "132:\tlearn: 0.0550349\ttotal: 135ms\tremaining: 879ms\n",
      "133:\tlearn: 0.0547194\ttotal: 135ms\tremaining: 875ms\n",
      "134:\tlearn: 0.0541996\ttotal: 136ms\tremaining: 871ms\n",
      "135:\tlearn: 0.0538137\ttotal: 136ms\tremaining: 866ms\n",
      "136:\tlearn: 0.0532222\ttotal: 137ms\tremaining: 862ms\n",
      "137:\tlearn: 0.0527838\ttotal: 137ms\tremaining: 858ms\n",
      "138:\tlearn: 0.0523698\ttotal: 138ms\tremaining: 853ms\n",
      "139:\tlearn: 0.0520363\ttotal: 138ms\tremaining: 850ms\n",
      "140:\tlearn: 0.0515728\ttotal: 139ms\tremaining: 845ms\n",
      "141:\tlearn: 0.0513872\ttotal: 139ms\tremaining: 841ms\n",
      "142:\tlearn: 0.0511863\ttotal: 140ms\tremaining: 838ms\n",
      "143:\tlearn: 0.0508967\ttotal: 140ms\tremaining: 834ms\n",
      "144:\tlearn: 0.0506329\ttotal: 141ms\tremaining: 830ms\n",
      "145:\tlearn: 0.0503009\ttotal: 141ms\tremaining: 826ms\n",
      "146:\tlearn: 0.0500342\ttotal: 142ms\tremaining: 823ms\n",
      "147:\tlearn: 0.0496601\ttotal: 142ms\tremaining: 820ms\n",
      "148:\tlearn: 0.0494361\ttotal: 143ms\tremaining: 817ms\n",
      "149:\tlearn: 0.0492248\ttotal: 143ms\tremaining: 813ms\n",
      "150:\tlearn: 0.0489403\ttotal: 144ms\tremaining: 809ms\n",
      "151:\tlearn: 0.0485533\ttotal: 144ms\tremaining: 806ms\n",
      "152:\tlearn: 0.0482369\ttotal: 145ms\tremaining: 803ms\n",
      "153:\tlearn: 0.0478718\ttotal: 145ms\tremaining: 799ms\n",
      "154:\tlearn: 0.0475129\ttotal: 146ms\tremaining: 796ms\n",
      "155:\tlearn: 0.0472282\ttotal: 147ms\tremaining: 794ms\n",
      "156:\tlearn: 0.0469705\ttotal: 147ms\tremaining: 790ms\n",
      "157:\tlearn: 0.0467285\ttotal: 148ms\tremaining: 787ms\n",
      "158:\tlearn: 0.0464401\ttotal: 148ms\tremaining: 785ms\n",
      "159:\tlearn: 0.0462604\ttotal: 149ms\tremaining: 782ms\n",
      "160:\tlearn: 0.0460252\ttotal: 149ms\tremaining: 778ms\n"
     ]
    },
    {
     "name": "stdout",
     "output_type": "stream",
     "text": [
      "161:\tlearn: 0.0458018\ttotal: 150ms\tremaining: 776ms\n",
      "162:\tlearn: 0.0455914\ttotal: 151ms\tremaining: 775ms\n",
      "163:\tlearn: 0.0453756\ttotal: 151ms\tremaining: 772ms\n",
      "164:\tlearn: 0.0452040\ttotal: 153ms\tremaining: 772ms\n",
      "165:\tlearn: 0.0450677\ttotal: 153ms\tremaining: 769ms\n",
      "166:\tlearn: 0.0448582\ttotal: 153ms\tremaining: 765ms\n",
      "167:\tlearn: 0.0447281\ttotal: 154ms\tremaining: 762ms\n",
      "168:\tlearn: 0.0445093\ttotal: 154ms\tremaining: 759ms\n",
      "169:\tlearn: 0.0442965\ttotal: 155ms\tremaining: 756ms\n",
      "170:\tlearn: 0.0440116\ttotal: 155ms\tremaining: 753ms\n",
      "171:\tlearn: 0.0438585\ttotal: 156ms\tremaining: 752ms\n",
      "172:\tlearn: 0.0436859\ttotal: 156ms\tremaining: 748ms\n",
      "173:\tlearn: 0.0434726\ttotal: 157ms\tremaining: 745ms\n",
      "174:\tlearn: 0.0433548\ttotal: 158ms\tremaining: 743ms\n",
      "175:\tlearn: 0.0431573\ttotal: 158ms\tremaining: 740ms\n",
      "176:\tlearn: 0.0430229\ttotal: 159ms\tremaining: 738ms\n",
      "177:\tlearn: 0.0428577\ttotal: 159ms\tremaining: 735ms\n",
      "178:\tlearn: 0.0427086\ttotal: 160ms\tremaining: 734ms\n",
      "179:\tlearn: 0.0425814\ttotal: 161ms\tremaining: 732ms\n",
      "180:\tlearn: 0.0423897\ttotal: 161ms\tremaining: 729ms\n",
      "181:\tlearn: 0.0422140\ttotal: 162ms\tremaining: 727ms\n",
      "182:\tlearn: 0.0420699\ttotal: 162ms\tremaining: 724ms\n",
      "183:\tlearn: 0.0419278\ttotal: 163ms\tremaining: 722ms\n",
      "184:\tlearn: 0.0417465\ttotal: 164ms\tremaining: 720ms\n",
      "185:\tlearn: 0.0416354\ttotal: 164ms\tremaining: 717ms\n",
      "186:\tlearn: 0.0414990\ttotal: 164ms\tremaining: 714ms\n",
      "187:\tlearn: 0.0413758\ttotal: 165ms\tremaining: 712ms\n",
      "188:\tlearn: 0.0412760\ttotal: 165ms\tremaining: 710ms\n",
      "189:\tlearn: 0.0409886\ttotal: 166ms\tremaining: 707ms\n",
      "190:\tlearn: 0.0407290\ttotal: 166ms\tremaining: 704ms\n",
      "191:\tlearn: 0.0405808\ttotal: 167ms\tremaining: 702ms\n",
      "192:\tlearn: 0.0404763\ttotal: 168ms\tremaining: 702ms\n",
      "193:\tlearn: 0.0403347\ttotal: 169ms\tremaining: 701ms\n",
      "194:\tlearn: 0.0401918\ttotal: 170ms\tremaining: 701ms\n",
      "195:\tlearn: 0.0400512\ttotal: 172ms\tremaining: 704ms\n",
      "196:\tlearn: 0.0399004\ttotal: 174ms\tremaining: 708ms\n",
      "197:\tlearn: 0.0397925\ttotal: 175ms\tremaining: 707ms\n",
      "198:\tlearn: 0.0395958\ttotal: 175ms\tremaining: 706ms\n",
      "199:\tlearn: 0.0394642\ttotal: 176ms\tremaining: 704ms\n",
      "200:\tlearn: 0.0392576\ttotal: 176ms\tremaining: 701ms\n",
      "201:\tlearn: 0.0391207\ttotal: 177ms\tremaining: 698ms\n",
      "202:\tlearn: 0.0389830\ttotal: 177ms\tremaining: 697ms\n",
      "203:\tlearn: 0.0388482\ttotal: 179ms\tremaining: 697ms\n",
      "204:\tlearn: 0.0387272\ttotal: 180ms\tremaining: 697ms\n",
      "205:\tlearn: 0.0386311\ttotal: 181ms\tremaining: 698ms\n",
      "206:\tlearn: 0.0384586\ttotal: 182ms\tremaining: 699ms\n",
      "207:\tlearn: 0.0383000\ttotal: 183ms\tremaining: 697ms\n",
      "208:\tlearn: 0.0381897\ttotal: 186ms\tremaining: 705ms\n",
      "209:\tlearn: 0.0380800\ttotal: 187ms\tremaining: 703ms\n",
      "210:\tlearn: 0.0379826\ttotal: 187ms\tremaining: 700ms\n",
      "211:\tlearn: 0.0378883\ttotal: 188ms\tremaining: 698ms\n",
      "212:\tlearn: 0.0378033\ttotal: 188ms\tremaining: 696ms\n",
      "213:\tlearn: 0.0377262\ttotal: 189ms\tremaining: 694ms\n",
      "214:\tlearn: 0.0376355\ttotal: 189ms\tremaining: 692ms\n",
      "215:\tlearn: 0.0374655\ttotal: 190ms\tremaining: 689ms\n",
      "216:\tlearn: 0.0373616\ttotal: 190ms\tremaining: 687ms\n",
      "217:\tlearn: 0.0372541\ttotal: 191ms\tremaining: 685ms\n",
      "218:\tlearn: 0.0371608\ttotal: 191ms\tremaining: 683ms\n"
     ]
    },
    {
     "name": "stdout",
     "output_type": "stream",
     "text": [
      "219:\tlearn: 0.0370949\ttotal: 192ms\tremaining: 681ms\n",
      "220:\tlearn: 0.0370297\ttotal: 192ms\tremaining: 678ms\n",
      "221:\tlearn: 0.0369371\ttotal: 192ms\tremaining: 675ms\n",
      "222:\tlearn: 0.0368253\ttotal: 195ms\tremaining: 678ms\n",
      "223:\tlearn: 0.0367215\ttotal: 195ms\tremaining: 677ms\n",
      "224:\tlearn: 0.0366686\ttotal: 196ms\tremaining: 675ms\n",
      "225:\tlearn: 0.0366092\ttotal: 197ms\tremaining: 674ms\n",
      "226:\tlearn: 0.0365098\ttotal: 197ms\tremaining: 672ms\n",
      "227:\tlearn: 0.0364086\ttotal: 198ms\tremaining: 670ms\n",
      "228:\tlearn: 0.0362116\ttotal: 199ms\tremaining: 669ms\n",
      "229:\tlearn: 0.0360861\ttotal: 199ms\tremaining: 667ms\n",
      "230:\tlearn: 0.0359671\ttotal: 200ms\tremaining: 665ms\n",
      "231:\tlearn: 0.0358627\ttotal: 200ms\tremaining: 663ms\n",
      "232:\tlearn: 0.0357014\ttotal: 201ms\tremaining: 661ms\n",
      "233:\tlearn: 0.0355201\ttotal: 201ms\tremaining: 659ms\n",
      "234:\tlearn: 0.0354505\ttotal: 202ms\tremaining: 656ms\n",
      "235:\tlearn: 0.0353500\ttotal: 202ms\tremaining: 655ms\n",
      "236:\tlearn: 0.0351226\ttotal: 203ms\tremaining: 653ms\n",
      "237:\tlearn: 0.0349805\ttotal: 203ms\tremaining: 651ms\n",
      "238:\tlearn: 0.0348863\ttotal: 204ms\tremaining: 650ms\n",
      "239:\tlearn: 0.0347961\ttotal: 205ms\tremaining: 649ms\n",
      "240:\tlearn: 0.0347060\ttotal: 206ms\tremaining: 648ms\n",
      "241:\tlearn: 0.0345352\ttotal: 207ms\tremaining: 647ms\n",
      "242:\tlearn: 0.0344747\ttotal: 207ms\tremaining: 644ms\n",
      "243:\tlearn: 0.0343501\ttotal: 207ms\tremaining: 642ms\n",
      "244:\tlearn: 0.0341808\ttotal: 209ms\tremaining: 644ms\n",
      "245:\tlearn: 0.0341190\ttotal: 209ms\tremaining: 642ms\n",
      "246:\tlearn: 0.0339996\ttotal: 210ms\tremaining: 641ms\n",
      "247:\tlearn: 0.0338161\ttotal: 211ms\tremaining: 640ms\n",
      "248:\tlearn: 0.0337348\ttotal: 212ms\tremaining: 640ms\n",
      "249:\tlearn: 0.0336689\ttotal: 213ms\tremaining: 638ms\n",
      "250:\tlearn: 0.0335897\ttotal: 214ms\tremaining: 637ms\n",
      "251:\tlearn: 0.0334964\ttotal: 214ms\tremaining: 636ms\n",
      "252:\tlearn: 0.0334293\ttotal: 215ms\tremaining: 636ms\n",
      "253:\tlearn: 0.0333554\ttotal: 216ms\tremaining: 634ms\n",
      "254:\tlearn: 0.0332665\ttotal: 217ms\tremaining: 633ms\n",
      "255:\tlearn: 0.0331420\ttotal: 217ms\tremaining: 631ms\n",
      "256:\tlearn: 0.0330951\ttotal: 218ms\tremaining: 630ms\n",
      "257:\tlearn: 0.0330100\ttotal: 219ms\tremaining: 629ms\n",
      "258:\tlearn: 0.0328591\ttotal: 220ms\tremaining: 629ms\n",
      "259:\tlearn: 0.0327191\ttotal: 221ms\tremaining: 628ms\n",
      "260:\tlearn: 0.0326134\ttotal: 221ms\tremaining: 626ms\n",
      "261:\tlearn: 0.0325477\ttotal: 222ms\tremaining: 624ms\n",
      "262:\tlearn: 0.0324686\ttotal: 222ms\tremaining: 623ms\n",
      "263:\tlearn: 0.0324272\ttotal: 223ms\tremaining: 621ms\n",
      "264:\tlearn: 0.0322943\ttotal: 223ms\tremaining: 620ms\n",
      "265:\tlearn: 0.0321183\ttotal: 224ms\tremaining: 618ms\n",
      "266:\tlearn: 0.0319891\ttotal: 224ms\tremaining: 616ms\n",
      "267:\tlearn: 0.0318430\ttotal: 225ms\tremaining: 614ms\n",
      "268:\tlearn: 0.0317530\ttotal: 225ms\tremaining: 612ms\n",
      "269:\tlearn: 0.0316041\ttotal: 226ms\tremaining: 611ms\n",
      "270:\tlearn: 0.0315637\ttotal: 226ms\tremaining: 609ms\n",
      "271:\tlearn: 0.0314806\ttotal: 227ms\tremaining: 607ms\n",
      "272:\tlearn: 0.0313999\ttotal: 227ms\tremaining: 606ms\n",
      "273:\tlearn: 0.0313422\ttotal: 228ms\tremaining: 604ms\n",
      "274:\tlearn: 0.0312020\ttotal: 228ms\tremaining: 602ms\n",
      "275:\tlearn: 0.0311565\ttotal: 229ms\tremaining: 601ms\n",
      "276:\tlearn: 0.0309815\ttotal: 229ms\tremaining: 599ms\n",
      "277:\tlearn: 0.0308665\ttotal: 230ms\tremaining: 597ms\n",
      "278:\tlearn: 0.0308212\ttotal: 230ms\tremaining: 596ms\n",
      "279:\tlearn: 0.0307534\ttotal: 231ms\tremaining: 594ms\n",
      "280:\tlearn: 0.0306235\ttotal: 231ms\tremaining: 592ms\n",
      "281:\tlearn: 0.0305607\ttotal: 232ms\tremaining: 590ms\n",
      "282:\tlearn: 0.0304391\ttotal: 232ms\tremaining: 588ms\n",
      "283:\tlearn: 0.0303460\ttotal: 232ms\tremaining: 586ms\n",
      "284:\tlearn: 0.0302672\ttotal: 233ms\tremaining: 584ms\n",
      "285:\tlearn: 0.0301404\ttotal: 233ms\tremaining: 583ms\n",
      "286:\tlearn: 0.0300476\ttotal: 234ms\tremaining: 581ms\n",
      "287:\tlearn: 0.0299059\ttotal: 234ms\tremaining: 580ms\n",
      "288:\tlearn: 0.0298761\ttotal: 235ms\tremaining: 577ms\n",
      "289:\tlearn: 0.0298009\ttotal: 235ms\tremaining: 576ms\n",
      "290:\tlearn: 0.0297359\ttotal: 236ms\tremaining: 574ms\n",
      "291:\tlearn: 0.0297048\ttotal: 236ms\tremaining: 573ms\n",
      "292:\tlearn: 0.0296148\ttotal: 237ms\tremaining: 571ms\n",
      "293:\tlearn: 0.0295000\ttotal: 237ms\tremaining: 570ms\n",
      "294:\tlearn: 0.0294297\ttotal: 238ms\tremaining: 568ms\n",
      "295:\tlearn: 0.0293584\ttotal: 238ms\tremaining: 567ms\n",
      "296:\tlearn: 0.0292400\ttotal: 239ms\tremaining: 565ms\n",
      "297:\tlearn: 0.0292030\ttotal: 239ms\tremaining: 564ms\n",
      "298:\tlearn: 0.0291358\ttotal: 240ms\tremaining: 563ms\n",
      "299:\tlearn: 0.0290411\ttotal: 240ms\tremaining: 561ms\n",
      "300:\tlearn: 0.0289735\ttotal: 241ms\tremaining: 559ms\n",
      "301:\tlearn: 0.0289383\ttotal: 241ms\tremaining: 557ms\n",
      "302:\tlearn: 0.0288730\ttotal: 242ms\tremaining: 556ms\n",
      "303:\tlearn: 0.0288017\ttotal: 243ms\tremaining: 556ms\n",
      "304:\tlearn: 0.0287641\ttotal: 244ms\tremaining: 555ms\n",
      "305:\tlearn: 0.0287341\ttotal: 245ms\tremaining: 555ms\n",
      "306:\tlearn: 0.0286995\ttotal: 245ms\tremaining: 554ms\n",
      "307:\tlearn: 0.0286492\ttotal: 246ms\tremaining: 553ms\n",
      "308:\tlearn: 0.0285395\ttotal: 247ms\tremaining: 552ms\n",
      "309:\tlearn: 0.0285055\ttotal: 248ms\tremaining: 551ms\n",
      "310:\tlearn: 0.0284424\ttotal: 248ms\tremaining: 551ms\n",
      "311:\tlearn: 0.0283838\ttotal: 249ms\tremaining: 550ms\n",
      "312:\tlearn: 0.0283492\ttotal: 250ms\tremaining: 549ms\n",
      "313:\tlearn: 0.0282328\ttotal: 251ms\tremaining: 549ms\n",
      "314:\tlearn: 0.0281388\ttotal: 252ms\tremaining: 547ms\n",
      "315:\tlearn: 0.0280415\ttotal: 252ms\tremaining: 546ms\n",
      "316:\tlearn: 0.0279818\ttotal: 253ms\tremaining: 545ms\n",
      "317:\tlearn: 0.0278589\ttotal: 255ms\tremaining: 546ms\n",
      "318:\tlearn: 0.0277994\ttotal: 255ms\tremaining: 544ms\n",
      "319:\tlearn: 0.0276924\ttotal: 256ms\tremaining: 544ms\n",
      "320:\tlearn: 0.0276452\ttotal: 256ms\tremaining: 542ms\n",
      "321:\tlearn: 0.0275946\ttotal: 257ms\tremaining: 541ms\n",
      "322:\tlearn: 0.0275375\ttotal: 258ms\tremaining: 541ms\n",
      "323:\tlearn: 0.0274779\ttotal: 259ms\tremaining: 539ms\n",
      "324:\tlearn: 0.0274320\ttotal: 259ms\tremaining: 538ms\n",
      "325:\tlearn: 0.0273805\ttotal: 260ms\tremaining: 537ms\n",
      "326:\tlearn: 0.0273317\ttotal: 260ms\tremaining: 535ms\n",
      "327:\tlearn: 0.0272497\ttotal: 261ms\tremaining: 534ms\n",
      "328:\tlearn: 0.0272057\ttotal: 261ms\tremaining: 533ms\n",
      "329:\tlearn: 0.0271588\ttotal: 262ms\tremaining: 532ms\n",
      "330:\tlearn: 0.0271015\ttotal: 262ms\tremaining: 530ms\n",
      "331:\tlearn: 0.0270144\ttotal: 263ms\tremaining: 529ms\n",
      "332:\tlearn: 0.0269444\ttotal: 263ms\tremaining: 527ms\n",
      "333:\tlearn: 0.0268946\ttotal: 264ms\tremaining: 526ms\n",
      "334:\tlearn: 0.0268376\ttotal: 264ms\tremaining: 525ms\n",
      "335:\tlearn: 0.0268096\ttotal: 265ms\tremaining: 523ms\n",
      "336:\tlearn: 0.0267430\ttotal: 265ms\tremaining: 522ms\n",
      "337:\tlearn: 0.0267032\ttotal: 266ms\tremaining: 520ms\n",
      "338:\tlearn: 0.0266779\ttotal: 266ms\tremaining: 519ms\n",
      "339:\tlearn: 0.0266017\ttotal: 267ms\tremaining: 517ms\n",
      "340:\tlearn: 0.0265057\ttotal: 267ms\tremaining: 516ms\n",
      "341:\tlearn: 0.0264279\ttotal: 268ms\tremaining: 515ms\n",
      "342:\tlearn: 0.0263389\ttotal: 269ms\tremaining: 515ms\n",
      "343:\tlearn: 0.0262342\ttotal: 270ms\tremaining: 514ms\n",
      "344:\tlearn: 0.0261915\ttotal: 270ms\tremaining: 513ms\n",
      "345:\tlearn: 0.0261260\ttotal: 271ms\tremaining: 512ms\n",
      "346:\tlearn: 0.0260782\ttotal: 271ms\tremaining: 511ms\n",
      "347:\tlearn: 0.0259893\ttotal: 272ms\tremaining: 509ms\n",
      "348:\tlearn: 0.0259374\ttotal: 272ms\tremaining: 508ms\n",
      "349:\tlearn: 0.0258984\ttotal: 273ms\tremaining: 507ms\n",
      "350:\tlearn: 0.0258468\ttotal: 273ms\tremaining: 506ms\n",
      "351:\tlearn: 0.0258060\ttotal: 274ms\tremaining: 504ms\n",
      "352:\tlearn: 0.0257610\ttotal: 274ms\tremaining: 503ms\n",
      "353:\tlearn: 0.0257224\ttotal: 275ms\tremaining: 501ms\n",
      "354:\tlearn: 0.0256442\ttotal: 275ms\tremaining: 500ms\n",
      "355:\tlearn: 0.0255931\ttotal: 276ms\tremaining: 500ms\n",
      "356:\tlearn: 0.0255696\ttotal: 277ms\tremaining: 499ms\n",
      "357:\tlearn: 0.0255480\ttotal: 278ms\tremaining: 498ms\n",
      "358:\tlearn: 0.0255009\ttotal: 278ms\tremaining: 497ms\n",
      "359:\tlearn: 0.0254526\ttotal: 280ms\tremaining: 497ms\n",
      "360:\tlearn: 0.0253822\ttotal: 280ms\tremaining: 495ms\n",
      "361:\tlearn: 0.0253377\ttotal: 281ms\tremaining: 494ms\n",
      "362:\tlearn: 0.0253027\ttotal: 281ms\tremaining: 493ms\n",
      "363:\tlearn: 0.0252210\ttotal: 282ms\tremaining: 493ms\n",
      "364:\tlearn: 0.0251573\ttotal: 283ms\tremaining: 492ms\n",
      "365:\tlearn: 0.0250883\ttotal: 284ms\tremaining: 491ms\n",
      "366:\tlearn: 0.0250671\ttotal: 285ms\tremaining: 492ms\n",
      "367:\tlearn: 0.0249907\ttotal: 286ms\tremaining: 491ms\n",
      "368:\tlearn: 0.0249397\ttotal: 287ms\tremaining: 491ms\n",
      "369:\tlearn: 0.0248952\ttotal: 288ms\tremaining: 490ms\n",
      "370:\tlearn: 0.0248264\ttotal: 288ms\tremaining: 489ms\n",
      "371:\tlearn: 0.0247855\ttotal: 289ms\tremaining: 488ms\n",
      "372:\tlearn: 0.0247277\ttotal: 290ms\tremaining: 487ms\n",
      "373:\tlearn: 0.0246674\ttotal: 291ms\tremaining: 486ms\n",
      "374:\tlearn: 0.0246377\ttotal: 291ms\tremaining: 485ms\n",
      "375:\tlearn: 0.0246019\ttotal: 293ms\tremaining: 486ms\n",
      "376:\tlearn: 0.0245510\ttotal: 294ms\tremaining: 485ms\n",
      "377:\tlearn: 0.0245170\ttotal: 294ms\tremaining: 484ms\n",
      "378:\tlearn: 0.0244962\ttotal: 295ms\tremaining: 483ms\n",
      "379:\tlearn: 0.0244767\ttotal: 296ms\tremaining: 482ms\n"
     ]
    },
    {
     "name": "stdout",
     "output_type": "stream",
     "text": [
      "380:\tlearn: 0.0244580\ttotal: 306ms\tremaining: 497ms\n",
      "381:\tlearn: 0.0244204\ttotal: 310ms\tremaining: 501ms\n",
      "382:\tlearn: 0.0243572\ttotal: 311ms\tremaining: 502ms\n",
      "383:\tlearn: 0.0243380\ttotal: 312ms\tremaining: 501ms\n",
      "384:\tlearn: 0.0242789\ttotal: 313ms\tremaining: 499ms\n",
      "385:\tlearn: 0.0242318\ttotal: 313ms\tremaining: 499ms\n",
      "386:\tlearn: 0.0241867\ttotal: 314ms\tremaining: 497ms\n",
      "387:\tlearn: 0.0241498\ttotal: 314ms\tremaining: 496ms\n",
      "388:\tlearn: 0.0240887\ttotal: 315ms\tremaining: 495ms\n",
      "389:\tlearn: 0.0240517\ttotal: 316ms\tremaining: 494ms\n",
      "390:\tlearn: 0.0240213\ttotal: 317ms\tremaining: 494ms\n",
      "391:\tlearn: 0.0239851\ttotal: 318ms\tremaining: 493ms\n",
      "392:\tlearn: 0.0239235\ttotal: 320ms\tremaining: 494ms\n",
      "393:\tlearn: 0.0238902\ttotal: 321ms\tremaining: 493ms\n",
      "394:\tlearn: 0.0238302\ttotal: 322ms\tremaining: 493ms\n",
      "395:\tlearn: 0.0237819\ttotal: 322ms\tremaining: 492ms\n",
      "396:\tlearn: 0.0237436\ttotal: 323ms\tremaining: 491ms\n",
      "397:\tlearn: 0.0236803\ttotal: 324ms\tremaining: 489ms\n",
      "398:\tlearn: 0.0236464\ttotal: 324ms\tremaining: 488ms\n",
      "399:\tlearn: 0.0235864\ttotal: 325ms\tremaining: 487ms\n",
      "400:\tlearn: 0.0235698\ttotal: 325ms\tremaining: 486ms\n",
      "401:\tlearn: 0.0235215\ttotal: 326ms\tremaining: 485ms\n",
      "402:\tlearn: 0.0234884\ttotal: 327ms\tremaining: 484ms\n",
      "403:\tlearn: 0.0234538\ttotal: 327ms\tremaining: 483ms\n",
      "404:\tlearn: 0.0233993\ttotal: 328ms\tremaining: 481ms\n",
      "405:\tlearn: 0.0233678\ttotal: 328ms\tremaining: 480ms\n",
      "406:\tlearn: 0.0233281\ttotal: 329ms\tremaining: 479ms\n",
      "407:\tlearn: 0.0232762\ttotal: 329ms\tremaining: 478ms\n",
      "408:\tlearn: 0.0232251\ttotal: 330ms\tremaining: 476ms\n",
      "409:\tlearn: 0.0231924\ttotal: 330ms\tremaining: 475ms\n",
      "410:\tlearn: 0.0231579\ttotal: 331ms\tremaining: 474ms\n",
      "411:\tlearn: 0.0231434\ttotal: 331ms\tremaining: 473ms\n",
      "412:\tlearn: 0.0230873\ttotal: 332ms\tremaining: 471ms\n",
      "413:\tlearn: 0.0230726\ttotal: 332ms\tremaining: 470ms\n",
      "414:\tlearn: 0.0230314\ttotal: 333ms\tremaining: 469ms\n",
      "415:\tlearn: 0.0229760\ttotal: 333ms\tremaining: 467ms\n",
      "416:\tlearn: 0.0229620\ttotal: 333ms\tremaining: 466ms\n",
      "417:\tlearn: 0.0229156\ttotal: 334ms\tremaining: 465ms\n",
      "418:\tlearn: 0.0228877\ttotal: 334ms\tremaining: 463ms\n",
      "419:\tlearn: 0.0228565\ttotal: 335ms\tremaining: 462ms\n",
      "420:\tlearn: 0.0228054\ttotal: 335ms\tremaining: 461ms\n",
      "421:\tlearn: 0.0227744\ttotal: 336ms\tremaining: 460ms\n",
      "422:\tlearn: 0.0227437\ttotal: 336ms\tremaining: 459ms\n",
      "423:\tlearn: 0.0227173\ttotal: 337ms\tremaining: 457ms\n",
      "424:\tlearn: 0.0226352\ttotal: 337ms\tremaining: 456ms\n",
      "425:\tlearn: 0.0225829\ttotal: 337ms\tremaining: 454ms\n",
      "426:\tlearn: 0.0225554\ttotal: 338ms\tremaining: 453ms\n",
      "427:\tlearn: 0.0225187\ttotal: 338ms\tremaining: 452ms\n",
      "428:\tlearn: 0.0225039\ttotal: 339ms\tremaining: 451ms\n",
      "429:\tlearn: 0.0224608\ttotal: 339ms\tremaining: 450ms\n",
      "430:\tlearn: 0.0224319\ttotal: 340ms\tremaining: 449ms\n",
      "431:\tlearn: 0.0224061\ttotal: 341ms\tremaining: 448ms\n",
      "432:\tlearn: 0.0223570\ttotal: 341ms\tremaining: 447ms\n",
      "433:\tlearn: 0.0223061\ttotal: 342ms\tremaining: 445ms\n",
      "434:\tlearn: 0.0222818\ttotal: 342ms\tremaining: 445ms\n",
      "435:\tlearn: 0.0222258\ttotal: 343ms\tremaining: 443ms\n",
      "436:\tlearn: 0.0221809\ttotal: 343ms\tremaining: 442ms\n"
     ]
    },
    {
     "name": "stdout",
     "output_type": "stream",
     "text": [
      "437:\tlearn: 0.0221520\ttotal: 344ms\tremaining: 441ms\n",
      "438:\tlearn: 0.0220760\ttotal: 344ms\tremaining: 440ms\n",
      "439:\tlearn: 0.0220165\ttotal: 345ms\tremaining: 438ms\n",
      "440:\tlearn: 0.0219441\ttotal: 345ms\tremaining: 437ms\n",
      "441:\tlearn: 0.0219159\ttotal: 345ms\tremaining: 436ms\n",
      "442:\tlearn: 0.0218855\ttotal: 346ms\tremaining: 435ms\n",
      "443:\tlearn: 0.0218565\ttotal: 347ms\tremaining: 435ms\n",
      "444:\tlearn: 0.0217874\ttotal: 348ms\tremaining: 434ms\n",
      "445:\tlearn: 0.0217624\ttotal: 349ms\tremaining: 433ms\n",
      "446:\tlearn: 0.0217152\ttotal: 349ms\tremaining: 432ms\n",
      "447:\tlearn: 0.0216703\ttotal: 350ms\tremaining: 431ms\n",
      "448:\tlearn: 0.0216345\ttotal: 350ms\tremaining: 430ms\n",
      "449:\tlearn: 0.0216076\ttotal: 351ms\tremaining: 429ms\n",
      "450:\tlearn: 0.0215960\ttotal: 351ms\tremaining: 428ms\n",
      "451:\tlearn: 0.0215579\ttotal: 352ms\tremaining: 426ms\n",
      "452:\tlearn: 0.0214921\ttotal: 352ms\tremaining: 425ms\n",
      "453:\tlearn: 0.0214681\ttotal: 353ms\tremaining: 424ms\n",
      "454:\tlearn: 0.0214341\ttotal: 353ms\tremaining: 423ms\n",
      "455:\tlearn: 0.0214099\ttotal: 354ms\tremaining: 422ms\n",
      "456:\tlearn: 0.0213471\ttotal: 354ms\tremaining: 421ms\n",
      "457:\tlearn: 0.0213097\ttotal: 354ms\tremaining: 419ms\n",
      "458:\tlearn: 0.0212500\ttotal: 357ms\tremaining: 420ms\n",
      "459:\tlearn: 0.0212091\ttotal: 357ms\tremaining: 419ms\n",
      "460:\tlearn: 0.0211960\ttotal: 358ms\tremaining: 418ms\n",
      "461:\tlearn: 0.0211732\ttotal: 358ms\tremaining: 417ms\n",
      "462:\tlearn: 0.0211338\ttotal: 359ms\tremaining: 416ms\n",
      "463:\tlearn: 0.0210996\ttotal: 359ms\tremaining: 415ms\n",
      "464:\tlearn: 0.0210561\ttotal: 360ms\tremaining: 414ms\n",
      "465:\tlearn: 0.0210225\ttotal: 360ms\tremaining: 413ms\n",
      "466:\tlearn: 0.0209967\ttotal: 361ms\tremaining: 412ms\n",
      "467:\tlearn: 0.0209723\ttotal: 361ms\tremaining: 411ms\n",
      "468:\tlearn: 0.0209342\ttotal: 362ms\tremaining: 410ms\n",
      "469:\tlearn: 0.0209026\ttotal: 362ms\tremaining: 409ms\n",
      "470:\tlearn: 0.0208584\ttotal: 363ms\tremaining: 408ms\n",
      "471:\tlearn: 0.0208348\ttotal: 364ms\tremaining: 407ms\n",
      "472:\tlearn: 0.0208029\ttotal: 364ms\tremaining: 406ms\n",
      "473:\tlearn: 0.0207616\ttotal: 365ms\tremaining: 405ms\n",
      "474:\tlearn: 0.0207223\ttotal: 365ms\tremaining: 404ms\n",
      "475:\tlearn: 0.0206940\ttotal: 366ms\tremaining: 403ms\n",
      "476:\tlearn: 0.0206719\ttotal: 366ms\tremaining: 402ms\n",
      "477:\tlearn: 0.0206472\ttotal: 367ms\tremaining: 401ms\n",
      "478:\tlearn: 0.0206171\ttotal: 367ms\tremaining: 400ms\n",
      "479:\tlearn: 0.0205800\ttotal: 368ms\tremaining: 398ms\n",
      "480:\tlearn: 0.0205450\ttotal: 368ms\tremaining: 397ms\n",
      "481:\tlearn: 0.0205160\ttotal: 369ms\tremaining: 397ms\n",
      "482:\tlearn: 0.0204869\ttotal: 370ms\tremaining: 396ms\n",
      "483:\tlearn: 0.0204627\ttotal: 370ms\tremaining: 395ms\n",
      "484:\tlearn: 0.0204321\ttotal: 371ms\tremaining: 394ms\n",
      "485:\tlearn: 0.0203956\ttotal: 371ms\tremaining: 393ms\n",
      "486:\tlearn: 0.0203674\ttotal: 372ms\tremaining: 391ms\n",
      "487:\tlearn: 0.0203369\ttotal: 372ms\tremaining: 390ms\n",
      "488:\tlearn: 0.0203005\ttotal: 373ms\tremaining: 389ms\n",
      "489:\tlearn: 0.0202736\ttotal: 373ms\tremaining: 388ms\n",
      "490:\tlearn: 0.0202413\ttotal: 374ms\tremaining: 388ms\n",
      "491:\tlearn: 0.0202127\ttotal: 374ms\tremaining: 386ms\n",
      "492:\tlearn: 0.0201750\ttotal: 375ms\tremaining: 385ms\n",
      "493:\tlearn: 0.0201452\ttotal: 375ms\tremaining: 384ms\n",
      "494:\tlearn: 0.0200911\ttotal: 376ms\tremaining: 383ms\n",
      "495:\tlearn: 0.0200625\ttotal: 376ms\tremaining: 382ms\n",
      "496:\tlearn: 0.0200238\ttotal: 377ms\tremaining: 381ms\n",
      "497:\tlearn: 0.0199899\ttotal: 377ms\tremaining: 380ms\n",
      "498:\tlearn: 0.0199513\ttotal: 378ms\tremaining: 379ms\n",
      "499:\tlearn: 0.0199316\ttotal: 378ms\tremaining: 378ms\n",
      "500:\tlearn: 0.0199191\ttotal: 378ms\tremaining: 377ms\n",
      "501:\tlearn: 0.0198964\ttotal: 379ms\tremaining: 376ms\n",
      "502:\tlearn: 0.0198699\ttotal: 379ms\tremaining: 375ms\n",
      "503:\tlearn: 0.0198477\ttotal: 380ms\tremaining: 374ms\n",
      "504:\tlearn: 0.0198214\ttotal: 380ms\tremaining: 373ms\n",
      "505:\tlearn: 0.0197967\ttotal: 381ms\tremaining: 372ms\n",
      "506:\tlearn: 0.0197630\ttotal: 382ms\tremaining: 371ms\n",
      "507:\tlearn: 0.0197307\ttotal: 382ms\tremaining: 370ms\n",
      "508:\tlearn: 0.0197023\ttotal: 383ms\tremaining: 369ms\n",
      "509:\tlearn: 0.0196821\ttotal: 383ms\tremaining: 368ms\n",
      "510:\tlearn: 0.0196458\ttotal: 384ms\tremaining: 367ms\n",
      "511:\tlearn: 0.0196178\ttotal: 384ms\tremaining: 366ms\n",
      "512:\tlearn: 0.0195862\ttotal: 385ms\tremaining: 366ms\n",
      "513:\tlearn: 0.0195622\ttotal: 386ms\tremaining: 365ms\n",
      "514:\tlearn: 0.0195440\ttotal: 386ms\tremaining: 364ms\n",
      "515:\tlearn: 0.0195210\ttotal: 387ms\tremaining: 363ms\n",
      "516:\tlearn: 0.0194961\ttotal: 387ms\tremaining: 362ms\n",
      "517:\tlearn: 0.0194619\ttotal: 388ms\tremaining: 361ms\n",
      "518:\tlearn: 0.0194379\ttotal: 388ms\tremaining: 360ms\n",
      "519:\tlearn: 0.0193997\ttotal: 389ms\tremaining: 359ms\n",
      "520:\tlearn: 0.0193816\ttotal: 389ms\tremaining: 358ms\n",
      "521:\tlearn: 0.0193523\ttotal: 390ms\tremaining: 357ms\n",
      "522:\tlearn: 0.0193277\ttotal: 390ms\tremaining: 356ms\n",
      "523:\tlearn: 0.0193050\ttotal: 391ms\tremaining: 355ms\n",
      "524:\tlearn: 0.0192815\ttotal: 391ms\tremaining: 354ms\n",
      "525:\tlearn: 0.0192519\ttotal: 392ms\tremaining: 353ms\n",
      "526:\tlearn: 0.0192296\ttotal: 392ms\tremaining: 352ms\n",
      "527:\tlearn: 0.0192075\ttotal: 393ms\tremaining: 351ms\n",
      "528:\tlearn: 0.0191843\ttotal: 393ms\tremaining: 350ms\n",
      "529:\tlearn: 0.0191752\ttotal: 394ms\tremaining: 349ms\n",
      "530:\tlearn: 0.0191666\ttotal: 394ms\tremaining: 348ms\n",
      "531:\tlearn: 0.0191344\ttotal: 395ms\tremaining: 347ms\n",
      "532:\tlearn: 0.0191141\ttotal: 395ms\tremaining: 346ms\n",
      "533:\tlearn: 0.0190728\ttotal: 396ms\tremaining: 346ms\n",
      "534:\tlearn: 0.0190448\ttotal: 396ms\tremaining: 345ms\n",
      "535:\tlearn: 0.0190285\ttotal: 397ms\tremaining: 344ms\n",
      "536:\tlearn: 0.0190029\ttotal: 398ms\tremaining: 343ms\n",
      "537:\tlearn: 0.0189812\ttotal: 398ms\tremaining: 342ms\n",
      "538:\tlearn: 0.0189452\ttotal: 398ms\tremaining: 341ms\n",
      "539:\tlearn: 0.0189240\ttotal: 399ms\tremaining: 340ms\n",
      "540:\tlearn: 0.0189060\ttotal: 399ms\tremaining: 339ms\n",
      "541:\tlearn: 0.0188562\ttotal: 400ms\tremaining: 338ms\n",
      "542:\tlearn: 0.0188347\ttotal: 400ms\tremaining: 337ms\n",
      "543:\tlearn: 0.0188116\ttotal: 401ms\tremaining: 336ms\n",
      "544:\tlearn: 0.0187941\ttotal: 401ms\tremaining: 335ms\n",
      "545:\tlearn: 0.0187763\ttotal: 402ms\tremaining: 335ms\n",
      "546:\tlearn: 0.0187565\ttotal: 403ms\tremaining: 334ms\n",
      "547:\tlearn: 0.0187187\ttotal: 403ms\tremaining: 333ms\n",
      "548:\tlearn: 0.0186986\ttotal: 404ms\tremaining: 332ms\n",
      "549:\tlearn: 0.0186790\ttotal: 405ms\tremaining: 331ms\n",
      "550:\tlearn: 0.0186347\ttotal: 405ms\tremaining: 330ms\n",
      "551:\tlearn: 0.0186167\ttotal: 406ms\tremaining: 329ms\n",
      "552:\tlearn: 0.0185904\ttotal: 406ms\tremaining: 328ms\n",
      "553:\tlearn: 0.0185708\ttotal: 406ms\tremaining: 327ms\n",
      "554:\tlearn: 0.0185392\ttotal: 407ms\tremaining: 326ms\n",
      "555:\tlearn: 0.0185158\ttotal: 407ms\tremaining: 325ms\n",
      "556:\tlearn: 0.0184985\ttotal: 408ms\tremaining: 325ms\n",
      "557:\tlearn: 0.0184905\ttotal: 409ms\tremaining: 324ms\n",
      "558:\tlearn: 0.0184747\ttotal: 409ms\tremaining: 323ms\n",
      "559:\tlearn: 0.0184323\ttotal: 410ms\tremaining: 322ms\n",
      "560:\tlearn: 0.0183853\ttotal: 410ms\tremaining: 321ms\n",
      "561:\tlearn: 0.0183657\ttotal: 411ms\tremaining: 320ms\n",
      "562:\tlearn: 0.0183473\ttotal: 411ms\tremaining: 319ms\n",
      "563:\tlearn: 0.0183218\ttotal: 412ms\tremaining: 318ms\n",
      "564:\tlearn: 0.0183033\ttotal: 412ms\tremaining: 317ms\n",
      "565:\tlearn: 0.0182828\ttotal: 413ms\tremaining: 317ms\n",
      "566:\tlearn: 0.0182619\ttotal: 413ms\tremaining: 316ms\n",
      "567:\tlearn: 0.0182482\ttotal: 414ms\tremaining: 315ms\n",
      "568:\tlearn: 0.0182109\ttotal: 414ms\tremaining: 314ms\n",
      "569:\tlearn: 0.0181914\ttotal: 414ms\tremaining: 313ms\n",
      "570:\tlearn: 0.0181680\ttotal: 415ms\tremaining: 312ms\n",
      "571:\tlearn: 0.0181454\ttotal: 415ms\tremaining: 310ms\n",
      "572:\tlearn: 0.0181217\ttotal: 415ms\tremaining: 309ms\n",
      "573:\tlearn: 0.0180921\ttotal: 416ms\tremaining: 308ms\n",
      "574:\tlearn: 0.0180730\ttotal: 417ms\tremaining: 308ms\n",
      "575:\tlearn: 0.0180557\ttotal: 417ms\tremaining: 307ms\n",
      "576:\tlearn: 0.0180356\ttotal: 418ms\tremaining: 306ms\n",
      "577:\tlearn: 0.0180062\ttotal: 418ms\tremaining: 305ms\n",
      "578:\tlearn: 0.0179923\ttotal: 419ms\tremaining: 305ms\n",
      "579:\tlearn: 0.0179741\ttotal: 419ms\tremaining: 304ms\n",
      "580:\tlearn: 0.0179656\ttotal: 420ms\tremaining: 303ms\n",
      "581:\tlearn: 0.0179491\ttotal: 421ms\tremaining: 302ms\n",
      "582:\tlearn: 0.0179163\ttotal: 421ms\tremaining: 301ms\n",
      "583:\tlearn: 0.0179023\ttotal: 422ms\tremaining: 300ms\n",
      "584:\tlearn: 0.0178832\ttotal: 422ms\tremaining: 299ms\n",
      "585:\tlearn: 0.0178643\ttotal: 423ms\tremaining: 299ms\n",
      "586:\tlearn: 0.0178488\ttotal: 423ms\tremaining: 298ms\n",
      "587:\tlearn: 0.0178337\ttotal: 424ms\tremaining: 297ms\n",
      "588:\tlearn: 0.0178029\ttotal: 424ms\tremaining: 296ms\n",
      "589:\tlearn: 0.0177688\ttotal: 424ms\tremaining: 295ms\n",
      "590:\tlearn: 0.0177512\ttotal: 424ms\tremaining: 294ms\n",
      "591:\tlearn: 0.0177388\ttotal: 426ms\tremaining: 294ms\n",
      "592:\tlearn: 0.0177142\ttotal: 426ms\tremaining: 292ms\n",
      "593:\tlearn: 0.0176852\ttotal: 427ms\tremaining: 292ms\n",
      "594:\tlearn: 0.0176669\ttotal: 427ms\tremaining: 291ms\n",
      "595:\tlearn: 0.0176544\ttotal: 428ms\tremaining: 290ms\n",
      "596:\tlearn: 0.0176269\ttotal: 428ms\tremaining: 289ms\n",
      "597:\tlearn: 0.0175934\ttotal: 429ms\tremaining: 288ms\n",
      "598:\tlearn: 0.0175862\ttotal: 429ms\tremaining: 287ms\n",
      "599:\tlearn: 0.0175688\ttotal: 430ms\tremaining: 287ms\n",
      "600:\tlearn: 0.0175476\ttotal: 430ms\tremaining: 286ms\n",
      "601:\tlearn: 0.0175142\ttotal: 431ms\tremaining: 285ms\n",
      "602:\tlearn: 0.0174946\ttotal: 431ms\tremaining: 284ms\n",
      "603:\tlearn: 0.0174779\ttotal: 431ms\tremaining: 283ms\n",
      "604:\tlearn: 0.0174603\ttotal: 432ms\tremaining: 282ms\n",
      "605:\tlearn: 0.0174176\ttotal: 433ms\tremaining: 281ms\n",
      "606:\tlearn: 0.0174041\ttotal: 433ms\tremaining: 281ms\n",
      "607:\tlearn: 0.0173855\ttotal: 434ms\tremaining: 280ms\n",
      "608:\tlearn: 0.0173693\ttotal: 434ms\tremaining: 279ms\n",
      "609:\tlearn: 0.0173536\ttotal: 435ms\tremaining: 278ms\n",
      "610:\tlearn: 0.0173334\ttotal: 435ms\tremaining: 277ms\n",
      "611:\tlearn: 0.0173217\ttotal: 436ms\tremaining: 276ms\n",
      "612:\tlearn: 0.0172964\ttotal: 436ms\tremaining: 276ms\n",
      "613:\tlearn: 0.0172791\ttotal: 437ms\tremaining: 275ms\n",
      "614:\tlearn: 0.0172505\ttotal: 437ms\tremaining: 274ms\n",
      "615:\tlearn: 0.0172245\ttotal: 438ms\tremaining: 273ms\n",
      "616:\tlearn: 0.0172012\ttotal: 438ms\tremaining: 272ms\n",
      "617:\tlearn: 0.0171845\ttotal: 439ms\tremaining: 271ms\n",
      "618:\tlearn: 0.0171611\ttotal: 439ms\tremaining: 270ms\n",
      "619:\tlearn: 0.0171458\ttotal: 439ms\tremaining: 269ms\n",
      "620:\tlearn: 0.0171294\ttotal: 440ms\tremaining: 269ms\n",
      "621:\tlearn: 0.0171078\ttotal: 441ms\tremaining: 268ms\n",
      "622:\tlearn: 0.0170998\ttotal: 441ms\tremaining: 267ms\n",
      "623:\tlearn: 0.0170939\ttotal: 442ms\tremaining: 266ms\n",
      "624:\tlearn: 0.0170801\ttotal: 442ms\tremaining: 265ms\n",
      "625:\tlearn: 0.0170618\ttotal: 443ms\tremaining: 264ms\n",
      "626:\tlearn: 0.0170557\ttotal: 443ms\tremaining: 264ms\n",
      "627:\tlearn: 0.0170400\ttotal: 444ms\tremaining: 263ms\n",
      "628:\tlearn: 0.0170260\ttotal: 444ms\tremaining: 262ms\n",
      "629:\tlearn: 0.0170179\ttotal: 445ms\tremaining: 261ms\n",
      "630:\tlearn: 0.0169952\ttotal: 445ms\tremaining: 260ms\n",
      "631:\tlearn: 0.0169749\ttotal: 446ms\tremaining: 260ms\n",
      "632:\tlearn: 0.0169600\ttotal: 446ms\tremaining: 259ms\n",
      "633:\tlearn: 0.0169469\ttotal: 447ms\tremaining: 258ms\n",
      "634:\tlearn: 0.0169326\ttotal: 447ms\tremaining: 257ms\n",
      "635:\tlearn: 0.0169112\ttotal: 447ms\tremaining: 256ms\n",
      "636:\tlearn: 0.0168821\ttotal: 448ms\tremaining: 255ms\n",
      "637:\tlearn: 0.0168749\ttotal: 448ms\tremaining: 254ms\n",
      "638:\tlearn: 0.0168525\ttotal: 449ms\tremaining: 253ms\n",
      "639:\tlearn: 0.0168390\ttotal: 449ms\tremaining: 252ms\n",
      "640:\tlearn: 0.0168224\ttotal: 449ms\tremaining: 252ms\n",
      "641:\tlearn: 0.0168162\ttotal: 450ms\tremaining: 251ms\n",
      "642:\tlearn: 0.0168098\ttotal: 451ms\tremaining: 250ms\n",
      "643:\tlearn: 0.0167974\ttotal: 451ms\tremaining: 250ms\n",
      "644:\tlearn: 0.0167930\ttotal: 452ms\tremaining: 249ms\n",
      "645:\tlearn: 0.0167742\ttotal: 452ms\tremaining: 248ms\n",
      "646:\tlearn: 0.0167591\ttotal: 453ms\tremaining: 247ms\n",
      "647:\tlearn: 0.0167389\ttotal: 453ms\tremaining: 246ms\n",
      "648:\tlearn: 0.0167089\ttotal: 454ms\tremaining: 245ms\n",
      "649:\tlearn: 0.0166844\ttotal: 454ms\tremaining: 245ms\n",
      "650:\tlearn: 0.0166670\ttotal: 455ms\tremaining: 244ms\n",
      "651:\tlearn: 0.0166519\ttotal: 455ms\tremaining: 243ms\n",
      "652:\tlearn: 0.0166359\ttotal: 456ms\tremaining: 242ms\n",
      "653:\tlearn: 0.0166248\ttotal: 456ms\tremaining: 241ms\n",
      "654:\tlearn: 0.0165964\ttotal: 457ms\tremaining: 241ms\n",
      "655:\tlearn: 0.0165770\ttotal: 457ms\tremaining: 240ms\n",
      "656:\tlearn: 0.0165633\ttotal: 457ms\tremaining: 239ms\n",
      "657:\tlearn: 0.0165523\ttotal: 458ms\tremaining: 238ms\n"
     ]
    },
    {
     "name": "stdout",
     "output_type": "stream",
     "text": [
      "658:\tlearn: 0.0165252\ttotal: 459ms\tremaining: 237ms\n",
      "659:\tlearn: 0.0165058\ttotal: 460ms\tremaining: 237ms\n",
      "660:\tlearn: 0.0164949\ttotal: 461ms\tremaining: 236ms\n",
      "661:\tlearn: 0.0164885\ttotal: 461ms\tremaining: 236ms\n",
      "662:\tlearn: 0.0164558\ttotal: 462ms\tremaining: 235ms\n",
      "663:\tlearn: 0.0164423\ttotal: 462ms\tremaining: 234ms\n",
      "664:\tlearn: 0.0164278\ttotal: 463ms\tremaining: 233ms\n",
      "665:\tlearn: 0.0164037\ttotal: 463ms\tremaining: 232ms\n",
      "666:\tlearn: 0.0163825\ttotal: 463ms\tremaining: 231ms\n",
      "667:\tlearn: 0.0163699\ttotal: 464ms\tremaining: 231ms\n",
      "668:\tlearn: 0.0163481\ttotal: 464ms\tremaining: 230ms\n",
      "669:\tlearn: 0.0163339\ttotal: 465ms\tremaining: 229ms\n",
      "670:\tlearn: 0.0163177\ttotal: 465ms\tremaining: 228ms\n",
      "671:\tlearn: 0.0163059\ttotal: 466ms\tremaining: 227ms\n",
      "672:\tlearn: 0.0162876\ttotal: 467ms\tremaining: 227ms\n",
      "673:\tlearn: 0.0162645\ttotal: 467ms\tremaining: 226ms\n",
      "674:\tlearn: 0.0162388\ttotal: 467ms\tremaining: 225ms\n",
      "675:\tlearn: 0.0162111\ttotal: 468ms\tremaining: 224ms\n",
      "676:\tlearn: 0.0161986\ttotal: 468ms\tremaining: 223ms\n",
      "677:\tlearn: 0.0161892\ttotal: 469ms\tremaining: 223ms\n",
      "678:\tlearn: 0.0161773\ttotal: 470ms\tremaining: 222ms\n",
      "679:\tlearn: 0.0161605\ttotal: 470ms\tremaining: 221ms\n",
      "680:\tlearn: 0.0161394\ttotal: 471ms\tremaining: 220ms\n",
      "681:\tlearn: 0.0161175\ttotal: 471ms\tremaining: 220ms\n",
      "682:\tlearn: 0.0161059\ttotal: 471ms\tremaining: 219ms\n",
      "683:\tlearn: 0.0160880\ttotal: 472ms\tremaining: 218ms\n",
      "684:\tlearn: 0.0160738\ttotal: 472ms\tremaining: 217ms\n",
      "685:\tlearn: 0.0160454\ttotal: 473ms\tremaining: 217ms\n",
      "686:\tlearn: 0.0160208\ttotal: 474ms\tremaining: 216ms\n",
      "687:\tlearn: 0.0160077\ttotal: 475ms\tremaining: 215ms\n",
      "688:\tlearn: 0.0159943\ttotal: 475ms\tremaining: 214ms\n",
      "689:\tlearn: 0.0159890\ttotal: 476ms\tremaining: 214ms\n",
      "690:\tlearn: 0.0159758\ttotal: 477ms\tremaining: 213ms\n",
      "691:\tlearn: 0.0159640\ttotal: 477ms\tremaining: 212ms\n",
      "692:\tlearn: 0.0159433\ttotal: 478ms\tremaining: 212ms\n",
      "693:\tlearn: 0.0159295\ttotal: 478ms\tremaining: 211ms\n",
      "694:\tlearn: 0.0159177\ttotal: 479ms\tremaining: 210ms\n",
      "695:\tlearn: 0.0159055\ttotal: 479ms\tremaining: 209ms\n",
      "696:\tlearn: 0.0158874\ttotal: 480ms\tremaining: 209ms\n",
      "697:\tlearn: 0.0158642\ttotal: 480ms\tremaining: 208ms\n",
      "698:\tlearn: 0.0158514\ttotal: 481ms\tremaining: 207ms\n",
      "699:\tlearn: 0.0158420\ttotal: 481ms\tremaining: 206ms\n",
      "700:\tlearn: 0.0158298\ttotal: 481ms\tremaining: 205ms\n",
      "701:\tlearn: 0.0158175\ttotal: 482ms\tremaining: 205ms\n",
      "702:\tlearn: 0.0157987\ttotal: 483ms\tremaining: 204ms\n",
      "703:\tlearn: 0.0157897\ttotal: 483ms\tremaining: 203ms\n",
      "704:\tlearn: 0.0157751\ttotal: 483ms\tremaining: 202ms\n",
      "705:\tlearn: 0.0157521\ttotal: 484ms\tremaining: 201ms\n",
      "706:\tlearn: 0.0157391\ttotal: 484ms\tremaining: 201ms\n",
      "707:\tlearn: 0.0157255\ttotal: 485ms\tremaining: 200ms\n",
      "708:\tlearn: 0.0157012\ttotal: 485ms\tremaining: 199ms\n",
      "709:\tlearn: 0.0156836\ttotal: 486ms\tremaining: 198ms\n",
      "710:\tlearn: 0.0156717\ttotal: 486ms\tremaining: 198ms\n",
      "711:\tlearn: 0.0156614\ttotal: 487ms\tremaining: 197ms\n",
      "712:\tlearn: 0.0156518\ttotal: 487ms\tremaining: 196ms\n",
      "713:\tlearn: 0.0156358\ttotal: 488ms\tremaining: 195ms\n",
      "714:\tlearn: 0.0156251\ttotal: 488ms\tremaining: 195ms\n",
      "715:\tlearn: 0.0156097\ttotal: 488ms\tremaining: 194ms\n",
      "716:\tlearn: 0.0155962\ttotal: 489ms\tremaining: 193ms\n",
      "717:\tlearn: 0.0155776\ttotal: 490ms\tremaining: 192ms\n",
      "718:\tlearn: 0.0155684\ttotal: 490ms\tremaining: 192ms\n",
      "719:\tlearn: 0.0155638\ttotal: 491ms\tremaining: 191ms\n",
      "720:\tlearn: 0.0155600\ttotal: 491ms\tremaining: 190ms\n",
      "721:\tlearn: 0.0155511\ttotal: 492ms\tremaining: 189ms\n",
      "722:\tlearn: 0.0155417\ttotal: 492ms\tremaining: 189ms\n",
      "723:\tlearn: 0.0155289\ttotal: 493ms\tremaining: 188ms\n",
      "724:\tlearn: 0.0155196\ttotal: 493ms\tremaining: 187ms\n",
      "725:\tlearn: 0.0155047\ttotal: 494ms\tremaining: 186ms\n",
      "726:\tlearn: 0.0154866\ttotal: 494ms\tremaining: 186ms\n"
     ]
    },
    {
     "name": "stdout",
     "output_type": "stream",
     "text": [
      "727:\tlearn: 0.0154653\ttotal: 495ms\tremaining: 185ms\n",
      "728:\tlearn: 0.0154440\ttotal: 495ms\tremaining: 184ms\n",
      "729:\tlearn: 0.0154221\ttotal: 496ms\tremaining: 183ms\n",
      "730:\tlearn: 0.0153986\ttotal: 498ms\tremaining: 183ms\n",
      "731:\tlearn: 0.0153819\ttotal: 498ms\tremaining: 182ms\n",
      "732:\tlearn: 0.0153772\ttotal: 499ms\tremaining: 182ms\n",
      "733:\tlearn: 0.0153653\ttotal: 499ms\tremaining: 181ms\n",
      "734:\tlearn: 0.0153560\ttotal: 500ms\tremaining: 180ms\n",
      "735:\tlearn: 0.0153472\ttotal: 500ms\tremaining: 179ms\n",
      "736:\tlearn: 0.0153349\ttotal: 501ms\tremaining: 179ms\n",
      "737:\tlearn: 0.0153251\ttotal: 501ms\tremaining: 178ms\n",
      "738:\tlearn: 0.0153170\ttotal: 502ms\tremaining: 177ms\n",
      "739:\tlearn: 0.0152989\ttotal: 502ms\tremaining: 176ms\n",
      "740:\tlearn: 0.0152818\ttotal: 503ms\tremaining: 176ms\n",
      "741:\tlearn: 0.0152682\ttotal: 503ms\tremaining: 175ms\n",
      "742:\tlearn: 0.0152514\ttotal: 503ms\tremaining: 174ms\n",
      "743:\tlearn: 0.0152260\ttotal: 504ms\tremaining: 174ms\n",
      "744:\tlearn: 0.0152050\ttotal: 505ms\tremaining: 173ms\n",
      "745:\tlearn: 0.0151892\ttotal: 505ms\tremaining: 172ms\n",
      "746:\tlearn: 0.0151787\ttotal: 506ms\tremaining: 171ms\n",
      "747:\tlearn: 0.0151666\ttotal: 507ms\tremaining: 171ms\n",
      "748:\tlearn: 0.0151561\ttotal: 507ms\tremaining: 170ms\n",
      "749:\tlearn: 0.0151471\ttotal: 508ms\tremaining: 169ms\n",
      "750:\tlearn: 0.0151325\ttotal: 508ms\tremaining: 169ms\n",
      "751:\tlearn: 0.0151160\ttotal: 509ms\tremaining: 168ms\n",
      "752:\tlearn: 0.0151038\ttotal: 509ms\tremaining: 167ms\n",
      "753:\tlearn: 0.0150859\ttotal: 510ms\tremaining: 166ms\n",
      "754:\tlearn: 0.0150822\ttotal: 510ms\tremaining: 166ms\n",
      "755:\tlearn: 0.0150780\ttotal: 511ms\tremaining: 165ms\n",
      "756:\tlearn: 0.0150545\ttotal: 511ms\tremaining: 164ms\n",
      "757:\tlearn: 0.0150437\ttotal: 512ms\tremaining: 163ms\n",
      "758:\tlearn: 0.0150330\ttotal: 512ms\tremaining: 163ms\n",
      "759:\tlearn: 0.0150176\ttotal: 513ms\tremaining: 162ms\n",
      "760:\tlearn: 0.0150072\ttotal: 513ms\tremaining: 161ms\n",
      "761:\tlearn: 0.0149928\ttotal: 514ms\tremaining: 161ms\n",
      "762:\tlearn: 0.0149821\ttotal: 514ms\tremaining: 160ms\n",
      "763:\tlearn: 0.0149735\ttotal: 515ms\tremaining: 159ms\n",
      "764:\tlearn: 0.0149600\ttotal: 515ms\tremaining: 158ms\n",
      "765:\tlearn: 0.0149516\ttotal: 516ms\tremaining: 158ms\n",
      "766:\tlearn: 0.0149415\ttotal: 516ms\tremaining: 157ms\n",
      "767:\tlearn: 0.0149258\ttotal: 517ms\tremaining: 156ms\n",
      "768:\tlearn: 0.0149070\ttotal: 517ms\tremaining: 155ms\n",
      "769:\tlearn: 0.0148910\ttotal: 518ms\tremaining: 155ms\n",
      "770:\tlearn: 0.0148753\ttotal: 518ms\tremaining: 154ms\n",
      "771:\tlearn: 0.0148615\ttotal: 519ms\tremaining: 153ms\n",
      "772:\tlearn: 0.0148525\ttotal: 519ms\tremaining: 153ms\n",
      "773:\tlearn: 0.0148377\ttotal: 520ms\tremaining: 152ms\n",
      "774:\tlearn: 0.0148263\ttotal: 520ms\tremaining: 151ms\n",
      "775:\tlearn: 0.0147982\ttotal: 521ms\tremaining: 150ms\n",
      "776:\tlearn: 0.0147761\ttotal: 521ms\tremaining: 150ms\n",
      "777:\tlearn: 0.0147556\ttotal: 521ms\tremaining: 149ms\n",
      "778:\tlearn: 0.0147466\ttotal: 522ms\tremaining: 148ms\n",
      "779:\tlearn: 0.0147300\ttotal: 522ms\tremaining: 147ms\n",
      "780:\tlearn: 0.0147209\ttotal: 523ms\tremaining: 147ms\n",
      "781:\tlearn: 0.0147031\ttotal: 524ms\tremaining: 146ms\n",
      "782:\tlearn: 0.0146915\ttotal: 524ms\tremaining: 145ms\n",
      "783:\tlearn: 0.0146809\ttotal: 524ms\tremaining: 145ms\n",
      "784:\tlearn: 0.0146623\ttotal: 525ms\tremaining: 144ms\n",
      "785:\tlearn: 0.0146468\ttotal: 526ms\tremaining: 143ms\n",
      "786:\tlearn: 0.0146304\ttotal: 526ms\tremaining: 142ms\n",
      "787:\tlearn: 0.0146110\ttotal: 527ms\tremaining: 142ms\n",
      "788:\tlearn: 0.0146011\ttotal: 527ms\tremaining: 141ms\n",
      "789:\tlearn: 0.0145927\ttotal: 528ms\tremaining: 140ms\n",
      "790:\tlearn: 0.0145818\ttotal: 528ms\tremaining: 140ms\n",
      "791:\tlearn: 0.0145705\ttotal: 529ms\tremaining: 139ms\n",
      "792:\tlearn: 0.0145666\ttotal: 530ms\tremaining: 138ms\n",
      "793:\tlearn: 0.0145528\ttotal: 530ms\tremaining: 138ms\n",
      "794:\tlearn: 0.0145411\ttotal: 531ms\tremaining: 137ms\n",
      "795:\tlearn: 0.0145306\ttotal: 531ms\tremaining: 136ms\n",
      "796:\tlearn: 0.0145055\ttotal: 532ms\tremaining: 135ms\n",
      "797:\tlearn: 0.0144946\ttotal: 532ms\tremaining: 135ms\n",
      "798:\tlearn: 0.0144844\ttotal: 533ms\tremaining: 134ms\n",
      "799:\tlearn: 0.0144766\ttotal: 533ms\tremaining: 133ms\n",
      "800:\tlearn: 0.0144635\ttotal: 534ms\tremaining: 133ms\n",
      "801:\tlearn: 0.0144560\ttotal: 534ms\tremaining: 132ms\n",
      "802:\tlearn: 0.0144426\ttotal: 535ms\tremaining: 131ms\n",
      "803:\tlearn: 0.0144329\ttotal: 535ms\tremaining: 130ms\n",
      "804:\tlearn: 0.0144215\ttotal: 536ms\tremaining: 130ms\n",
      "805:\tlearn: 0.0144077\ttotal: 536ms\tremaining: 129ms\n",
      "806:\tlearn: 0.0143914\ttotal: 537ms\tremaining: 128ms\n",
      "807:\tlearn: 0.0143839\ttotal: 537ms\tremaining: 128ms\n",
      "808:\tlearn: 0.0143786\ttotal: 538ms\tremaining: 127ms\n",
      "809:\tlearn: 0.0143701\ttotal: 538ms\tremaining: 126ms\n",
      "810:\tlearn: 0.0143525\ttotal: 538ms\tremaining: 125ms\n",
      "811:\tlearn: 0.0143429\ttotal: 539ms\tremaining: 125ms\n",
      "812:\tlearn: 0.0143357\ttotal: 539ms\tremaining: 124ms\n",
      "813:\tlearn: 0.0143331\ttotal: 540ms\tremaining: 123ms\n",
      "814:\tlearn: 0.0143208\ttotal: 540ms\tremaining: 123ms\n",
      "815:\tlearn: 0.0143067\ttotal: 541ms\tremaining: 122ms\n",
      "816:\tlearn: 0.0142881\ttotal: 542ms\tremaining: 121ms\n",
      "817:\tlearn: 0.0142621\ttotal: 542ms\tremaining: 121ms\n",
      "818:\tlearn: 0.0142550\ttotal: 543ms\tremaining: 120ms\n",
      "819:\tlearn: 0.0142523\ttotal: 543ms\tremaining: 119ms\n",
      "820:\tlearn: 0.0142302\ttotal: 543ms\tremaining: 118ms\n",
      "821:\tlearn: 0.0142191\ttotal: 544ms\tremaining: 118ms\n",
      "822:\tlearn: 0.0142112\ttotal: 544ms\tremaining: 117ms\n",
      "823:\tlearn: 0.0142039\ttotal: 544ms\tremaining: 116ms\n",
      "824:\tlearn: 0.0141971\ttotal: 544ms\tremaining: 115ms\n",
      "825:\tlearn: 0.0141877\ttotal: 546ms\tremaining: 115ms\n",
      "826:\tlearn: 0.0141800\ttotal: 546ms\tremaining: 114ms\n",
      "827:\tlearn: 0.0141677\ttotal: 547ms\tremaining: 114ms\n",
      "828:\tlearn: 0.0141482\ttotal: 547ms\tremaining: 113ms\n",
      "829:\tlearn: 0.0141350\ttotal: 548ms\tremaining: 112ms\n",
      "830:\tlearn: 0.0141226\ttotal: 548ms\tremaining: 111ms\n",
      "831:\tlearn: 0.0141141\ttotal: 548ms\tremaining: 111ms\n",
      "832:\tlearn: 0.0141102\ttotal: 549ms\tremaining: 110ms\n",
      "833:\tlearn: 0.0140957\ttotal: 549ms\tremaining: 109ms\n",
      "834:\tlearn: 0.0140827\ttotal: 550ms\tremaining: 109ms\n",
      "835:\tlearn: 0.0140791\ttotal: 550ms\tremaining: 108ms\n",
      "836:\tlearn: 0.0140715\ttotal: 551ms\tremaining: 107ms\n",
      "837:\tlearn: 0.0140558\ttotal: 551ms\tremaining: 107ms\n",
      "838:\tlearn: 0.0140486\ttotal: 552ms\tremaining: 106ms\n",
      "839:\tlearn: 0.0140417\ttotal: 552ms\tremaining: 105ms\n",
      "840:\tlearn: 0.0140322\ttotal: 553ms\tremaining: 105ms\n",
      "841:\tlearn: 0.0140241\ttotal: 553ms\tremaining: 104ms\n",
      "842:\tlearn: 0.0140024\ttotal: 554ms\tremaining: 103ms\n",
      "843:\tlearn: 0.0139903\ttotal: 554ms\tremaining: 102ms\n",
      "844:\tlearn: 0.0139755\ttotal: 554ms\tremaining: 102ms\n",
      "845:\tlearn: 0.0139688\ttotal: 555ms\tremaining: 101ms\n",
      "846:\tlearn: 0.0139624\ttotal: 555ms\tremaining: 100ms\n",
      "847:\tlearn: 0.0139531\ttotal: 556ms\tremaining: 99.7ms\n",
      "848:\tlearn: 0.0139460\ttotal: 557ms\tremaining: 99ms\n",
      "849:\tlearn: 0.0139297\ttotal: 557ms\tremaining: 98.3ms\n",
      "850:\tlearn: 0.0139241\ttotal: 557ms\tremaining: 97.6ms\n",
      "851:\tlearn: 0.0139107\ttotal: 558ms\tremaining: 96.9ms\n",
      "852:\tlearn: 0.0138988\ttotal: 558ms\tremaining: 96.2ms\n",
      "853:\tlearn: 0.0138785\ttotal: 559ms\tremaining: 95.6ms\n",
      "854:\tlearn: 0.0138670\ttotal: 559ms\tremaining: 94.9ms\n",
      "855:\tlearn: 0.0138581\ttotal: 560ms\tremaining: 94.2ms\n",
      "856:\tlearn: 0.0138489\ttotal: 560ms\tremaining: 93.4ms\n",
      "857:\tlearn: 0.0138426\ttotal: 560ms\tremaining: 92.8ms\n",
      "858:\tlearn: 0.0138336\ttotal: 561ms\tremaining: 92.1ms\n",
      "859:\tlearn: 0.0138284\ttotal: 561ms\tremaining: 91.4ms\n",
      "860:\tlearn: 0.0138164\ttotal: 562ms\tremaining: 90.7ms\n",
      "861:\tlearn: 0.0137962\ttotal: 562ms\tremaining: 90ms\n",
      "862:\tlearn: 0.0137829\ttotal: 562ms\tremaining: 89.3ms\n",
      "863:\tlearn: 0.0137765\ttotal: 563ms\tremaining: 88.6ms\n",
      "864:\tlearn: 0.0137694\ttotal: 563ms\tremaining: 87.9ms\n",
      "865:\tlearn: 0.0137583\ttotal: 563ms\tremaining: 87.2ms\n",
      "866:\tlearn: 0.0137457\ttotal: 564ms\tremaining: 86.5ms\n",
      "867:\tlearn: 0.0137327\ttotal: 565ms\tremaining: 85.9ms\n",
      "868:\tlearn: 0.0137267\ttotal: 565ms\tremaining: 85.2ms\n",
      "869:\tlearn: 0.0137183\ttotal: 566ms\tremaining: 84.5ms\n",
      "870:\tlearn: 0.0137075\ttotal: 566ms\tremaining: 83.8ms\n",
      "871:\tlearn: 0.0136896\ttotal: 566ms\tremaining: 83.1ms\n",
      "872:\tlearn: 0.0136818\ttotal: 567ms\tremaining: 82.4ms\n",
      "873:\tlearn: 0.0136680\ttotal: 567ms\tremaining: 81.7ms\n",
      "874:\tlearn: 0.0136614\ttotal: 567ms\tremaining: 81ms\n",
      "875:\tlearn: 0.0136489\ttotal: 568ms\tremaining: 80.3ms\n",
      "876:\tlearn: 0.0136373\ttotal: 568ms\tremaining: 79.7ms\n",
      "877:\tlearn: 0.0136343\ttotal: 568ms\tremaining: 79ms\n",
      "878:\tlearn: 0.0136229\ttotal: 569ms\tremaining: 78.3ms\n",
      "879:\tlearn: 0.0136075\ttotal: 570ms\tremaining: 77.7ms\n",
      "880:\tlearn: 0.0135984\ttotal: 570ms\tremaining: 77ms\n",
      "881:\tlearn: 0.0135841\ttotal: 571ms\tremaining: 76.4ms\n",
      "882:\tlearn: 0.0135694\ttotal: 571ms\tremaining: 75.7ms\n",
      "883:\tlearn: 0.0135608\ttotal: 572ms\tremaining: 75.1ms\n",
      "884:\tlearn: 0.0135495\ttotal: 573ms\tremaining: 74.4ms\n",
      "885:\tlearn: 0.0135302\ttotal: 573ms\tremaining: 73.7ms\n",
      "886:\tlearn: 0.0135194\ttotal: 573ms\tremaining: 73ms\n",
      "887:\tlearn: 0.0135113\ttotal: 574ms\tremaining: 72.3ms\n",
      "888:\tlearn: 0.0135050\ttotal: 574ms\tremaining: 71.7ms\n",
      "889:\tlearn: 0.0134988\ttotal: 574ms\tremaining: 71ms\n",
      "890:\tlearn: 0.0134924\ttotal: 575ms\tremaining: 70.3ms\n",
      "891:\tlearn: 0.0134828\ttotal: 575ms\tremaining: 69.6ms\n",
      "892:\tlearn: 0.0134693\ttotal: 576ms\tremaining: 69ms\n",
      "893:\tlearn: 0.0134440\ttotal: 576ms\tremaining: 68.3ms\n",
      "894:\tlearn: 0.0134284\ttotal: 577ms\tremaining: 67.7ms\n",
      "895:\tlearn: 0.0134203\ttotal: 577ms\tremaining: 67ms\n",
      "896:\tlearn: 0.0133989\ttotal: 578ms\tremaining: 66.3ms\n",
      "897:\tlearn: 0.0133894\ttotal: 578ms\tremaining: 65.7ms\n",
      "898:\tlearn: 0.0133787\ttotal: 579ms\tremaining: 65ms\n",
      "899:\tlearn: 0.0133709\ttotal: 579ms\tremaining: 64.3ms\n",
      "900:\tlearn: 0.0133626\ttotal: 580ms\tremaining: 63.7ms\n",
      "901:\tlearn: 0.0133527\ttotal: 580ms\tremaining: 63ms\n",
      "902:\tlearn: 0.0133362\ttotal: 581ms\tremaining: 62.4ms\n",
      "903:\tlearn: 0.0133330\ttotal: 581ms\tremaining: 61.7ms\n",
      "904:\tlearn: 0.0133249\ttotal: 581ms\tremaining: 61ms\n",
      "905:\tlearn: 0.0133150\ttotal: 582ms\tremaining: 60.3ms\n",
      "906:\tlearn: 0.0133093\ttotal: 582ms\tremaining: 59.7ms\n",
      "907:\tlearn: 0.0132957\ttotal: 583ms\tremaining: 59ms\n",
      "908:\tlearn: 0.0132808\ttotal: 583ms\tremaining: 58.3ms\n",
      "909:\tlearn: 0.0132708\ttotal: 583ms\tremaining: 57.7ms\n",
      "910:\tlearn: 0.0132603\ttotal: 584ms\tremaining: 57ms\n",
      "911:\tlearn: 0.0132483\ttotal: 584ms\tremaining: 56.4ms\n",
      "912:\tlearn: 0.0132415\ttotal: 585ms\tremaining: 55.8ms\n",
      "913:\tlearn: 0.0132305\ttotal: 586ms\tremaining: 55.1ms\n",
      "914:\tlearn: 0.0132229\ttotal: 586ms\tremaining: 54.5ms\n",
      "915:\tlearn: 0.0132105\ttotal: 587ms\tremaining: 53.8ms\n",
      "916:\tlearn: 0.0131978\ttotal: 588ms\tremaining: 53.2ms\n",
      "917:\tlearn: 0.0131874\ttotal: 588ms\tremaining: 52.5ms\n",
      "918:\tlearn: 0.0131707\ttotal: 589ms\tremaining: 51.9ms\n",
      "919:\tlearn: 0.0131652\ttotal: 589ms\tremaining: 51.2ms\n",
      "920:\tlearn: 0.0131573\ttotal: 590ms\tremaining: 50.6ms\n",
      "921:\tlearn: 0.0131505\ttotal: 590ms\tremaining: 49.9ms\n",
      "922:\tlearn: 0.0131403\ttotal: 591ms\tremaining: 49.3ms\n",
      "923:\tlearn: 0.0131350\ttotal: 591ms\tremaining: 48.6ms\n",
      "924:\tlearn: 0.0131242\ttotal: 592ms\tremaining: 48ms\n",
      "925:\tlearn: 0.0131179\ttotal: 592ms\tremaining: 47.3ms\n",
      "926:\tlearn: 0.0131088\ttotal: 593ms\tremaining: 46.7ms\n",
      "927:\tlearn: 0.0130973\ttotal: 593ms\tremaining: 46ms\n",
      "928:\tlearn: 0.0130808\ttotal: 594ms\tremaining: 45.4ms\n",
      "929:\tlearn: 0.0130729\ttotal: 594ms\tremaining: 44.7ms\n",
      "930:\tlearn: 0.0130674\ttotal: 595ms\tremaining: 44.1ms\n",
      "931:\tlearn: 0.0130531\ttotal: 595ms\tremaining: 43.4ms\n",
      "932:\tlearn: 0.0130470\ttotal: 596ms\tremaining: 42.8ms\n",
      "933:\tlearn: 0.0130358\ttotal: 596ms\tremaining: 42.1ms\n",
      "934:\tlearn: 0.0130279\ttotal: 597ms\tremaining: 41.5ms\n",
      "935:\tlearn: 0.0130228\ttotal: 597ms\tremaining: 40.8ms\n",
      "936:\tlearn: 0.0130075\ttotal: 598ms\tremaining: 40.2ms\n",
      "937:\tlearn: 0.0129989\ttotal: 598ms\tremaining: 39.5ms\n",
      "938:\tlearn: 0.0129866\ttotal: 598ms\tremaining: 38.9ms\n",
      "939:\tlearn: 0.0129698\ttotal: 599ms\tremaining: 38.2ms\n",
      "940:\tlearn: 0.0129668\ttotal: 599ms\tremaining: 37.6ms\n",
      "941:\tlearn: 0.0129596\ttotal: 600ms\tremaining: 36.9ms\n",
      "942:\tlearn: 0.0129473\ttotal: 600ms\tremaining: 36.3ms\n",
      "943:\tlearn: 0.0129381\ttotal: 601ms\tremaining: 35.6ms\n",
      "944:\tlearn: 0.0129317\ttotal: 601ms\tremaining: 35ms\n",
      "945:\tlearn: 0.0129207\ttotal: 602ms\tremaining: 34.3ms\n",
      "946:\tlearn: 0.0129182\ttotal: 602ms\tremaining: 33.7ms\n",
      "947:\tlearn: 0.0129101\ttotal: 603ms\tremaining: 33.1ms\n",
      "948:\tlearn: 0.0129009\ttotal: 604ms\tremaining: 32.4ms\n",
      "949:\tlearn: 0.0128974\ttotal: 604ms\tremaining: 31.8ms\n",
      "950:\tlearn: 0.0128770\ttotal: 604ms\tremaining: 31.1ms\n",
      "951:\tlearn: 0.0128655\ttotal: 605ms\tremaining: 30.5ms\n",
      "952:\tlearn: 0.0128509\ttotal: 605ms\tremaining: 29.8ms\n",
      "953:\tlearn: 0.0128355\ttotal: 605ms\tremaining: 29.2ms\n",
      "954:\tlearn: 0.0128168\ttotal: 605ms\tremaining: 28.5ms\n",
      "955:\tlearn: 0.0128112\ttotal: 606ms\tremaining: 27.9ms\n"
     ]
    },
    {
     "name": "stdout",
     "output_type": "stream",
     "text": [
      "956:\tlearn: 0.0127966\ttotal: 606ms\tremaining: 27.2ms\n",
      "957:\tlearn: 0.0127894\ttotal: 607ms\tremaining: 26.6ms\n",
      "958:\tlearn: 0.0127840\ttotal: 607ms\tremaining: 25.9ms\n",
      "959:\tlearn: 0.0127782\ttotal: 609ms\tremaining: 25.4ms\n",
      "960:\tlearn: 0.0127700\ttotal: 609ms\tremaining: 24.7ms\n",
      "961:\tlearn: 0.0127601\ttotal: 610ms\tremaining: 24.1ms\n",
      "962:\tlearn: 0.0127494\ttotal: 610ms\tremaining: 23.5ms\n",
      "963:\tlearn: 0.0127431\ttotal: 611ms\tremaining: 22.8ms\n",
      "964:\tlearn: 0.0127335\ttotal: 611ms\tremaining: 22.2ms\n",
      "965:\tlearn: 0.0127311\ttotal: 612ms\tremaining: 21.5ms\n",
      "966:\tlearn: 0.0127296\ttotal: 612ms\tremaining: 20.9ms\n",
      "967:\tlearn: 0.0127214\ttotal: 613ms\tremaining: 20.3ms\n",
      "968:\tlearn: 0.0127077\ttotal: 614ms\tremaining: 19.6ms\n",
      "969:\tlearn: 0.0126940\ttotal: 614ms\tremaining: 19ms\n",
      "970:\tlearn: 0.0126896\ttotal: 615ms\tremaining: 18.4ms\n",
      "971:\tlearn: 0.0126627\ttotal: 615ms\tremaining: 17.7ms\n",
      "972:\tlearn: 0.0126481\ttotal: 616ms\tremaining: 17.1ms\n",
      "973:\tlearn: 0.0126389\ttotal: 616ms\tremaining: 16.5ms\n",
      "974:\tlearn: 0.0126340\ttotal: 617ms\tremaining: 15.8ms\n",
      "975:\tlearn: 0.0126245\ttotal: 618ms\tremaining: 15.2ms\n",
      "976:\tlearn: 0.0126141\ttotal: 618ms\tremaining: 14.5ms\n",
      "977:\tlearn: 0.0125837\ttotal: 618ms\tremaining: 13.9ms\n",
      "978:\tlearn: 0.0125814\ttotal: 619ms\tremaining: 13.3ms\n",
      "979:\tlearn: 0.0125706\ttotal: 619ms\tremaining: 12.6ms\n",
      "980:\tlearn: 0.0125676\ttotal: 620ms\tremaining: 12ms\n",
      "981:\tlearn: 0.0125628\ttotal: 620ms\tremaining: 11.4ms\n",
      "982:\tlearn: 0.0125479\ttotal: 621ms\tremaining: 10.7ms\n",
      "983:\tlearn: 0.0125392\ttotal: 621ms\tremaining: 10.1ms\n",
      "984:\tlearn: 0.0125341\ttotal: 621ms\tremaining: 9.46ms\n",
      "985:\tlearn: 0.0125282\ttotal: 622ms\tremaining: 8.83ms\n",
      "986:\tlearn: 0.0125161\ttotal: 623ms\tremaining: 8.2ms\n",
      "987:\tlearn: 0.0125097\ttotal: 623ms\tremaining: 7.57ms\n",
      "988:\tlearn: 0.0125027\ttotal: 624ms\tremaining: 6.94ms\n",
      "989:\tlearn: 0.0124900\ttotal: 624ms\tremaining: 6.31ms\n",
      "990:\tlearn: 0.0124810\ttotal: 625ms\tremaining: 5.67ms\n",
      "991:\tlearn: 0.0124698\ttotal: 625ms\tremaining: 5.04ms\n",
      "992:\tlearn: 0.0124665\ttotal: 626ms\tremaining: 4.41ms\n",
      "993:\tlearn: 0.0124528\ttotal: 627ms\tremaining: 3.78ms\n",
      "994:\tlearn: 0.0124414\ttotal: 627ms\tremaining: 3.15ms\n",
      "995:\tlearn: 0.0124315\ttotal: 628ms\tremaining: 2.52ms\n",
      "996:\tlearn: 0.0124262\ttotal: 628ms\tremaining: 1.89ms\n",
      "997:\tlearn: 0.0124200\ttotal: 629ms\tremaining: 1.26ms\n",
      "998:\tlearn: 0.0124163\ttotal: 629ms\tremaining: 629us\n",
      "999:\tlearn: 0.0124110\ttotal: 630ms\tremaining: 0us\n"
     ]
    },
    {
     "data": {
      "text/plain": [
       "<catboost.core.CatBoostRegressor at 0x7f87a2624eb0>"
      ]
     },
     "execution_count": 9,
     "metadata": {},
     "output_type": "execute_result"
    }
   ],
   "source": [
    "#Train the Model \n",
    "prior_model = ctb.CatBoostRegressor()\n",
    "prior_model.fit(X_train,Y_train)"
   ]
  },
  {
   "cell_type": "code",
   "execution_count": 10,
   "id": "af65dcda",
   "metadata": {
    "execution": {
     "iopub.execute_input": "2022-07-24T17:14:58.601421Z",
     "iopub.status.busy": "2022-07-24T17:14:58.600625Z",
     "iopub.status.idle": "2022-07-24T17:14:58.663816Z",
     "shell.execute_reply": "2022-07-24T17:14:58.649662Z"
    },
    "id": "af65dcda",
    "papermill": {
     "duration": 0.084657,
     "end_time": "2022-07-24T17:14:58.672049",
     "exception": false,
     "start_time": "2022-07-24T17:14:58.587392",
     "status": "completed"
    },
    "tags": []
   },
   "outputs": [
    {
     "data": {
      "application/scrapbook.scrap.json+json": {
       "data": 0.0013968563460610096,
       "encoder": "json",
       "name": "Prior Model MSE",
       "version": 1
      }
     },
     "metadata": {
      "scrapbook": {
       "data": true,
       "display": false,
       "name": "Prior Model MSE"
      }
     },
     "output_type": "display_data"
    },
    {
     "data": {
      "application/scrapbook.scrap.json+json": {
       "data": 0.018450972630610737,
       "encoder": "json",
       "name": "ABC Pre-generator MSE",
       "version": 1
      }
     },
     "metadata": {
      "scrapbook": {
       "data": true,
       "display": false,
       "name": "ABC Pre-generator MSE"
      }
     },
     "output_type": "display_data"
    },
    {
     "data": {
      "application/scrapbook.scrap.json+json": {
       "data": 0.02230808043276358,
       "encoder": "json",
       "name": "Prior Model MAE",
       "version": 1
      }
     },
     "metadata": {
      "scrapbook": {
       "data": true,
       "display": false,
       "name": "Prior Model MAE"
      }
     },
     "output_type": "display_data"
    },
    {
     "name": "stdout",
     "output_type": "stream",
     "text": [
      "Prior Model MAE 0.02230808043276358\n",
      "ABC Pre-generator MAE 0.11142787156987578\n"
     ]
    }
   ],
   "source": [
    "y_pred = prior_model.predict(X_test)\n",
    "y_abc = y_pred + np.random.normal(0,variance, y_pred.shape) + bias \n",
    "mse = mean_squared_error(y_pred,Y_test)\n",
    "sb.glue(\"Prior Model MSE\",mse)\n",
    "mse = mean_squared_error(y_abc,Y_test)\n",
    "sb.glue(\"ABC Pre-generator MSE\",mse)\n",
    "mae = mean_absolute_error(y_pred,Y_test)\n",
    "sb.glue(\"Prior Model MAE\",mae)\n",
    "print(\"Prior Model MAE\",mae)\n",
    "mae = mean_absolute_error(y_abc,Y_test)\n",
    "print(\"ABC Pre-generator MAE\",mae)"
   ]
  },
  {
   "cell_type": "markdown",
   "id": "25609da2",
   "metadata": {
    "papermill": {
     "duration": 0.025967,
     "end_time": "2022-07-24T17:14:58.712947",
     "exception": false,
     "start_time": "2022-07-24T17:14:58.686980",
     "status": "completed"
    },
    "tags": []
   },
   "source": [
    "# mGAN Model"
   ]
  },
  {
   "cell_type": "code",
   "execution_count": 11,
   "id": "dfc3464d",
   "metadata": {
    "execution": {
     "iopub.execute_input": "2022-07-24T17:14:58.749482Z",
     "iopub.status.busy": "2022-07-24T17:14:58.748986Z",
     "iopub.status.idle": "2022-07-24T17:14:58.755625Z",
     "shell.execute_reply": "2022-07-24T17:14:58.753939Z"
    },
    "papermill": {
     "duration": 0.027167,
     "end_time": "2022-07-24T17:14:58.759869",
     "exception": false,
     "start_time": "2022-07-24T17:14:58.732702",
     "status": "completed"
    },
    "tags": []
   },
   "outputs": [],
   "source": [
    "# gen = network.Generator(n_features+1).to(device)\n",
    "# disc = network.Discriminator(n_features+1).to(device)\n",
    "\n",
    "# criterion = torch.nn.BCELoss()\n",
    "# gen_opt = torch.optim.Adam(gen.parameters(), lr=0.01, betas=(0.5, 0.999))\n",
    "# disc_opt = torch.optim.Adam(disc.parameters(), lr=0.01, betas=(0.5, 0.999))"
   ]
  },
  {
   "cell_type": "code",
   "execution_count": 12,
   "id": "b75fdd85",
   "metadata": {
    "execution": {
     "iopub.execute_input": "2022-07-24T17:14:58.794539Z",
     "iopub.status.busy": "2022-07-24T17:14:58.793935Z",
     "iopub.status.idle": "2022-07-24T17:14:58.799670Z",
     "shell.execute_reply": "2022-07-24T17:14:58.798348Z"
    },
    "papermill": {
     "duration": 0.02628,
     "end_time": "2022-07-24T17:14:58.803630",
     "exception": false,
     "start_time": "2022-07-24T17:14:58.777350",
     "status": "completed"
    },
    "tags": []
   },
   "outputs": [],
   "source": [
    "#Training the ABC_GAN \n",
    "# ABC_train_test2.training_GAN(disc,gen,disc_opt,gen_opt,train_data,batch_size,n_epochs,criterion,prior_model,variance,bias,device)"
   ]
  },
  {
   "cell_type": "code",
   "execution_count": 13,
   "id": "1fa7c368",
   "metadata": {
    "execution": {
     "iopub.execute_input": "2022-07-24T17:14:58.846780Z",
     "iopub.status.busy": "2022-07-24T17:14:58.846355Z",
     "iopub.status.idle": "2022-07-24T17:14:58.852407Z",
     "shell.execute_reply": "2022-07-24T17:14:58.851003Z"
    },
    "papermill": {
     "duration": 0.045598,
     "end_time": "2022-07-24T17:14:58.865526",
     "exception": false,
     "start_time": "2022-07-24T17:14:58.819928",
     "status": "completed"
    },
    "tags": []
   },
   "outputs": [],
   "source": [
    "# ABC_GAN1_metrics=ABC_train_test2.test_generator(gen,test_data,prior_model,variance,bias,\"1\",device)\n",
    "# sb.glue(\"ABC_GAN_1 Metrics\",ABC_GAN1_metrics)\n",
    "\n",
    "# print(\"MAE\")\n",
    "# print(mean(ABC_GAN1_metrics[1]))"
   ]
  },
  {
   "cell_type": "code",
   "execution_count": 14,
   "id": "eb22ce5c",
   "metadata": {
    "execution": {
     "iopub.execute_input": "2022-07-24T17:14:58.930012Z",
     "iopub.status.busy": "2022-07-24T17:14:58.928088Z",
     "iopub.status.idle": "2022-07-24T17:14:58.937926Z",
     "shell.execute_reply": "2022-07-24T17:14:58.935541Z"
    },
    "papermill": {
     "duration": 0.05261,
     "end_time": "2022-07-24T17:14:58.944117",
     "exception": false,
     "start_time": "2022-07-24T17:14:58.891507",
     "status": "completed"
    },
    "tags": []
   },
   "outputs": [],
   "source": [
    "# sanityChecks.discProbVsError(train_data,disc,device)\n",
    "# sanityChecks.discProbVsError(test_data,disc,device)"
   ]
  },
  {
   "cell_type": "markdown",
   "id": "419859ad",
   "metadata": {
    "papermill": {
     "duration": 0.025285,
     "end_time": "2022-07-24T17:14:58.990499",
     "exception": false,
     "start_time": "2022-07-24T17:14:58.965214",
     "status": "completed"
    },
    "tags": []
   },
   "source": [
    "# mGAN Model with TabNet Generator"
   ]
  },
  {
   "cell_type": "code",
   "execution_count": 15,
   "id": "68139695",
   "metadata": {
    "execution": {
     "iopub.execute_input": "2022-07-24T17:14:59.029928Z",
     "iopub.status.busy": "2022-07-24T17:14:59.029220Z",
     "iopub.status.idle": "2022-07-24T17:14:59.050632Z",
     "shell.execute_reply": "2022-07-24T17:14:59.049948Z"
    },
    "papermill": {
     "duration": 0.04967,
     "end_time": "2022-07-24T17:14:59.053470",
     "exception": false,
     "start_time": "2022-07-24T17:14:59.003800",
     "status": "completed"
    },
    "tags": []
   },
   "outputs": [],
   "source": [
    "gen2 = network.GeneratorTabnet(n_features+1).to(device)\n",
    "disc2 = network.Discriminator(n_features+1).to(device)\n",
    "\n",
    "criterion = torch.nn.BCELoss()\n",
    "gen_opt = torch.optim.Adam(gen2.parameters(), lr=0.01, betas=(0.5, 0.999))\n",
    "disc_opt = torch.optim.Adam(disc2.parameters(), lr=0.01, betas=(0.5, 0.999))"
   ]
  },
  {
   "cell_type": "code",
   "execution_count": 16,
   "id": "87f16a64",
   "metadata": {
    "execution": {
     "iopub.execute_input": "2022-07-24T17:14:59.092539Z",
     "iopub.status.busy": "2022-07-24T17:14:59.091840Z",
     "iopub.status.idle": "2022-07-24T17:32:24.739426Z",
     "shell.execute_reply": "2022-07-24T17:32:24.734755Z"
    },
    "papermill": {
     "duration": 1045.677986,
     "end_time": "2022-07-24T17:32:24.752393",
     "exception": false,
     "start_time": "2022-07-24T17:14:59.074407",
     "status": "completed"
    },
    "tags": []
   },
   "outputs": [
    {
     "data": {
      "image/png": "[encoded data removed]",
      "text/plain": [
       "<Figure size 432x288 with 1 Axes>"
      ]
     },
     "metadata": {
      "needs_background": "light"
     },
     "output_type": "display_data"
    },
    {
     "data": {
      "image/png": "[encoded data removed]",
      "text/plain": [
       "<Figure size 432x288 with 1 Axes>"
      ]
     },
     "metadata": {
      "needs_background": "light"
     },
     "output_type": "display_data"
    }
   ],
   "source": [
    "#Training the ABC_GAN \n",
    "ABC_train_test2.training_GAN(disc2,gen2,disc_opt,gen_opt,train_data,batch_size,n_epochs,criterion,prior_model,variance,bias,device)"
   ]
  },
  {
   "cell_type": "code",
   "execution_count": 17,
   "id": "44a863ef",
   "metadata": {
    "execution": {
     "iopub.execute_input": "2022-07-24T17:32:24.829782Z",
     "iopub.status.busy": "2022-07-24T17:32:24.829008Z",
     "iopub.status.idle": "2022-07-24T17:32:27.520398Z",
     "shell.execute_reply": "2022-07-24T17:32:27.518861Z"
    },
    "papermill": {
     "duration": 2.748058,
     "end_time": "2022-07-24T17:32:27.524647",
     "exception": false,
     "start_time": "2022-07-24T17:32:24.776589",
     "status": "completed"
    },
    "tags": []
   },
   "outputs": [
    {
     "data": {
      "application/scrapbook.scrap.json+json": {
       "data": 0.016372964587489415,
       "encoder": "json",
       "name": "ABC-GAN Model 1 MSE",
       "version": 1
      }
     },
     "metadata": {
      "scrapbook": {
       "data": true,
       "display": false,
       "name": "ABC-GAN Model 1 MSE"
      }
     },
     "output_type": "display_data"
    },
    {
     "data": {
      "application/scrapbook.scrap.json+json": {
       "data": 0.09278637190240545,
       "encoder": "json",
       "name": "ABC-GAN Model 1 MAE",
       "version": 1
      }
     },
     "metadata": {
      "scrapbook": {
       "data": true,
       "display": false,
       "name": "ABC-GAN Model 1 MAE"
      }
     },
     "output_type": "display_data"
    },
    {
     "data": {
      "application/scrapbook.scrap.json+json": {
       "data": 14.289101272970438,
       "encoder": "json",
       "name": "ABC-GAN Model 1 Manhattan Distance",
       "version": 1
      }
     },
     "metadata": {
      "scrapbook": {
       "data": true,
       "display": false,
       "name": "ABC-GAN Model 1 Manhattan Distance"
      }
     },
     "output_type": "display_data"
    },
    {
     "data": {
      "application/scrapbook.scrap.json+json": {
       "data": 1.5852286337859018,
       "encoder": "json",
       "name": "ABC-GAN Model 1 Euclidean distance",
       "version": 1
      }
     },
     "metadata": {
      "scrapbook": {
       "data": true,
       "display": false,
       "name": "ABC-GAN Model 1 Euclidean distance"
      }
     },
     "output_type": "display_data"
    },
    {
     "data": {
      "application/scrapbook.scrap.json+json": {
       "data": [
        [
         0.015547260231620173,
         0.01580141427286976,
         0.015624433676998329,
         0.016207625708563187,
         0.015683042331699835,
         0.015850401441867914,
         0.014606169164879562,
         0.015752953857432,
         0.01681154784558064,
         0.014880120668251012,
         0.013793490116257766,
         0.014660760281041714,
         0.016391175494816175,
         0.018907448590819886,
         0.01819631318882524,
         0.014099083959176304,
         0.016095068133392794,
         0.014520347927301102,
         0.013981260661738732,
         0.02062867642081156,
         0.01797385876926646,
         0.017308675040918042,
         0.018101564548703958,
         0.014331650262365315,
         0.016493112438233506,
         0.015936444660047216,
         0.016269616313029974,
         0.017414239035768726,
         0.022682211718285415,
         0.01681899606074494,
         0.01669524226510809,
         0.02162921149173194,
         0.01657184137440778,
         0.014268237924084373,
         0.016461085513881323,
         0.016271810460746033,
         0.020468124052532687,
         0.01578793897403688,
         0.01831208325787694,
         0.015770081193224043,
         0.016922735404851705,
         0.022425422418910684,
         0.015598797739795259,
         0.01582282440756365,
         0.02284692346830379,
         0.015860625125947818,
         0.014480235029225847,
         0.01389627711199374,
         0.015164436011080541,
         0.01733018588611998,
         0.015945819905729516,
         0.016745968470698744,
         0.016998225402799733,
         0.01839037340803988,
         0.01627016519537204,
         0.015463668126042196,
         0.013497431444269004,
         0.017402011222648263,
         0.013782115506121205,
         0.013747579935797278,
         0.016584047146665493,
         0.0155966119526366,
         0.014684849421086912,
         0.016760213409319397,
         0.014762218053638435,
         0.01664399180397654,
         0.01689503302400619,
         0.014970451595150779,
         0.015344803985504975,
         0.013096733351914908,
         0.01373969212877086,
         0.01598928491068686,
         0.014774788239112182,
         0.016281730423898903,
         0.016334563508315567,
         0.020335368860218774,
         0.01601214887839046,
         0.015141267676472754,
         0.015645566119963518,
         0.015857681069493472,
         0.014778064462680337,
         0.015186825021967358,
         0.01723609672412758,
         0.015977608684212916,
         0.01620386934834002,
         0.015487187851865782,
         0.01562197287641086,
         0.017925279686363243,
         0.014838323924516908,
         0.018381846291419736,
         0.014993106585931601,
         0.014050537882491899,
         0.018324066891849178,
         0.016350130064557832,
         0.018021043338052732,
         0.02085555503333095,
         0.01716711139990281,
         0.016456206072650748,
         0.01612380029745464,
         0.015670340201342604
        ],
        [
         0.09063274787085784,
         0.09346503620459275,
         0.0923892128365961,
         0.09417896987507482,
         0.09349418202923103,
         0.09173303309150717,
         0.08895488684488968,
         0.09088319296912327,
         0.09314444430124064,
         0.09228457809220274,
         0.0874720968475396,
         0.09016674738861137,
         0.09166813950211584,
         0.09704786702361587,
         0.0940017733214931,
         0.08961024013190687,
         0.09380709158571122,
         0.08835283225378046,
         0.08624481614195294,
         0.10030407602475448,
         0.09392533065485102,
         0.09553604774999541,
         0.09487586605132788,
         0.08653640271732946,
         0.09475688944727957,
         0.09392539362193315,
         0.09386021216920057,
         0.09515368734038883,
         0.09619224892759864,
         0.09288713192059235,
         0.09523663388008809,
         0.10167806081522207,
         0.09204319408526282,
         0.09118025864825233,
         0.09625825381462837,
         0.09394850300068593,
         0.09287974353299125,
         0.09218571038747375,
         0.09554657551713965,
         0.09124836759859478,
         0.09374595383883684,
         0.09395123097755305,
         0.09154731788757173,
         0.09173211357374857,
         0.09685029349495451,
         0.09152241398326376,
         0.08933607110294042,
         0.08808236509900201,
         0.08954902011417336,
         0.09640192841602997,
         0.09154129956014358,
         0.09619413610160737,
         0.09544662600262212,
         0.09512839997308208,
         0.09288542900331222,
         0.09025320457899338,
         0.08696456620010076,
         0.09601313309961712,
         0.08805066820040539,
         0.08565260836394964,
         0.09060467749398637,
         0.09274276818886593,
         0.08858002904899322,
         0.09675146715546196,
         0.08955792670271226,
         0.09715027980167758,
         0.09502523171098588,
         0.08972719213743875,
         0.0924005534427313,
         0.0831185762782569,
         0.08789544464270403,
         0.09214157387372349,
         0.09002838137426547,
         0.09416586662606373,
         0.09502705185395943,
         0.09464971932836554,
         0.09399588852395098,
         0.09243156779073662,
         0.09416904705637075,
         0.09327304255604357,
         0.09083052771770722,
         0.09065444592096202,
         0.093897828989505,
         0.08989224833279073,
         0.0964663020855227,
         0.0903422778182022,
         0.08978440359766994,
         0.0971477393472156,
         0.09133064019941277,
         0.0976814152430985,
         0.09271264123403794,
         0.08914977823710674,
         0.10177922141193957,
         0.0926421218757312,
         0.09974998631212231,
         0.10120901096515454,
         0.09333678004755215,
         0.09254288771371176,
         0.09269860632378947,
         0.09081278549047647
        ],
        [
         13.957443172112107,
         14.393615575507283,
         14.2279387768358,
         14.503561360761523,
         14.398104032501578,
         14.126887096092105,
         13.699052574113011,
         13.996011717244983,
         14.344244422391057,
         14.211825026199222,
         13.470702914521098,
         13.88567909784615,
         14.116893483325839,
         14.945371521636844,
         14.476273091509938,
         13.799976980313659,
         14.446292104199529,
         13.60633616708219,
         13.281701685860753,
         15.44682770781219,
         14.464500920847058,
         14.712551353499293,
         14.610883371904492,
         13.326606018468738,
         14.592560974881053,
         14.464510617777705,
         14.454472674056888,
         14.653667850419879,
         14.813606334850192,
         14.304618315771222,
         14.666441617533565,
         15.6584213655442,
         14.174651889130473,
         14.04175983183086,
         14.82377108745277,
         14.468069462105632,
         14.303480504080653,
         14.196599399670959,
         14.714172629639506,
         14.052248610183597,
         14.436876891180873,
         14.46848957054317,
         14.098286954686046,
         14.12674549035728,
         14.914945198222995,
         14.094451753422618,
         13.757754949852824,
         13.56468422524631,
         13.790549097582698,
         14.845896976068616,
         14.09736013226211,
         14.813896959647536,
         14.698780404403806,
         14.64977359585464,
         14.304356066510081,
         13.898993505164981,
         13.392543194815516,
         14.786022497341037,
         13.55980290286243,
         13.190501688048244,
         13.953120334073901,
         14.282386301085353,
         13.641324473544955,
         14.899725941941142,
         13.791920712217689,
         14.961143089458346,
         14.633885683491826,
         13.817987589165568,
         14.229685230180621,
         12.800260746851563,
         13.53589847497642,
         14.189802376553416,
         13.864370731636882,
         14.501543460413814,
         14.634165985509753,
         14.576056776568294,
         14.47536683268845,
         14.23446143977344,
         14.502033246681094,
         14.36404855363071,
         13.987901268526912,
         13.96078467182815,
         14.460265664383769,
         13.843406243249774,
         14.855810521170497,
         13.912710784003139,
         13.826798154041171,
         14.960751859471202,
         14.064918590709567,
         15.042937947437167,
         14.277746750041842,
         13.729065848514438,
         15.674000097438693,
         14.266886768862605,
         15.361497892066836,
         15.5861876886338,
         14.373864127323031,
         14.25160470791161,
         14.275585373863578,
         13.985168965533376
        ],
        [
         1.5473454933108852,
         1.559941600837013,
         1.5511810939596133,
         1.5798652977765955,
         1.554087680628662,
         1.5623577765824508,
         1.4997833348158836,
         1.5575477180634076,
         1.6090302570863662,
         1.513782871785335,
         1.45746268490953,
         1.5025834696549887,
         1.588786022786483,
         1.706384213178926,
         1.6739869267945573,
         1.4735192328955706,
         1.574369871581164,
         1.4953707168472874,
         1.4673493591874311,
         1.782362524517664,
         1.6637230089371953,
         1.6326469172179816,
         1.6696229935229119,
         1.4856224757334073,
         1.5937187065125262,
         1.56659263296087,
         1.5828837330033485,
         1.637618029794611,
         1.868973141758852,
         1.60938665129133,
         1.6034548041110002,
         1.8250749490710563,
         1.597517940950523,
         1.4823321626103219,
         1.5921705841830276,
         1.5829904645811639,
         1.7754129390341937,
         1.5592763071379234,
         1.6793036716785468,
         1.558394206789958,
         1.6143423590884192,
         1.8583635415365438,
         1.5499080140216288,
         1.5609980649458866,
         1.8757468416923386,
         1.5628615643734936,
         1.4933037850687918,
         1.462883001216104,
         1.5281764118407284,
         1.633661111265882,
         1.567053370336296,
         1.6058888954369186,
         1.6179390322355038,
         1.6828896294285438,
         1.5829104333749568,
         1.5431801228017739,
         1.4417366064636865,
         1.637042983030022,
         1.45686162278463,
         1.4550351576895937,
         1.5981061480973302,
         1.5497994195075815,
         1.5038174127357964,
         1.6065717740067473,
         1.5077737165305405,
         1.6009917981714916,
         1.6130204852068535,
         1.5183706878273235,
         1.537237721944061,
         1.4201749667540604,
         1.454617677546479,
         1.5691876485130056,
         1.5084155226008766,
         1.5834729190233823,
         1.5860399680590012,
         1.76964595455523,
         1.5703091820632429,
         1.5270085861503218,
         1.5522297453902825,
         1.562716508104395,
         1.5085827545258403,
         1.5293041075544693,
         1.6292203336306745,
         1.568614591723789,
         1.5796822084344568,
         1.5443532397697524,
         1.5510589360070342,
         1.6614731630995248,
         1.5116553457635784,
         1.682499429087166,
         1.5195191391468112,
         1.4709802289302711,
         1.6798530594503716,
         1.5867955224104666,
         1.6659053616757828,
         1.7921371250919853,
         1.625956689332478,
         1.5919345888535166,
         1.5757744907847742,
         1.5534582038171352
        ]
       ],
       "encoder": "json",
       "name": "ABC_GAN_2 Metrics",
       "version": 1
      }
     },
     "metadata": {
      "scrapbook": {
       "data": true,
       "display": false,
       "name": "ABC_GAN_2 Metrics"
      }
     },
     "output_type": "display_data"
    },
    {
     "name": "stdout",
     "output_type": "stream",
     "text": [
      "MAE\n",
      "0.09278637190240545\n"
     ]
    }
   ],
   "source": [
    "ABC_GAN2_metrics=ABC_train_test2.test_generator(gen2,test_data,prior_model,variance,bias,\"1\",device)\n",
    "sb.glue(\"ABC_GAN_2 Metrics\",ABC_GAN2_metrics)\n",
    "\n",
    "print(\"MAE\")\n",
    "print(mean(ABC_GAN2_metrics[1]))"
   ]
  },
  {
   "cell_type": "code",
   "execution_count": 18,
   "id": "2cd6286e",
   "metadata": {
    "execution": {
     "iopub.execute_input": "2022-07-24T17:32:27.589805Z",
     "iopub.status.busy": "2022-07-24T17:32:27.589332Z",
     "iopub.status.idle": "2022-07-24T17:32:29.165856Z",
     "shell.execute_reply": "2022-07-24T17:32:29.164810Z"
    },
    "papermill": {
     "duration": 1.599937,
     "end_time": "2022-07-24T17:32:29.168761",
     "exception": false,
     "start_time": "2022-07-24T17:32:27.568824",
     "status": "completed"
    },
    "tags": []
   },
   "outputs": [
    {
     "data": {
      "image/png": "[encoded data removed]",
      "text/plain": [
       "<Figure size 432x288 with 1 Axes>"
      ]
     },
     "metadata": {
      "needs_background": "light"
     },
     "output_type": "display_data"
    },
    {
     "data": {
      "image/png": "[encoded data removed]",
      "text/plain": [
       "<Figure size 432x288 with 1 Axes>"
      ]
     },
     "metadata": {
      "needs_background": "light"
     },
     "output_type": "display_data"
    },
    {
     "data": {
      "image/png": "[encoded data removed]",
      "text/plain": [
       "<Figure size 432x288 with 1 Axes>"
      ]
     },
     "metadata": {
      "needs_background": "light"
     },
     "output_type": "display_data"
    },
    {
     "data": {
      "image/png": "[encoded data removed]",
      "text/plain": [
       "<Figure size 432x288 with 1 Axes>"
      ]
     },
     "metadata": {
      "needs_background": "light"
     },
     "output_type": "display_data"
    }
   ],
   "source": [
    "sanityChecks.discProbVsError(train_data,disc2,device)\n",
    "sanityChecks.discProbVsError(test_data,disc2,device)"
   ]
  },
  {
   "cell_type": "markdown",
   "id": "130f3a4d",
   "metadata": {
    "id": "130f3a4d",
    "papermill": {
     "duration": 0.020176,
     "end_time": "2022-07-24T17:32:29.207811",
     "exception": false,
     "start_time": "2022-07-24T17:32:29.187635",
     "status": "completed"
    },
    "tags": []
   },
   "source": [
    "# skipGAN Model"
   ]
  },
  {
   "cell_type": "code",
   "execution_count": 19,
   "id": "4e43dad1",
   "metadata": {
    "execution": {
     "iopub.execute_input": "2022-07-24T17:32:29.260485Z",
     "iopub.status.busy": "2022-07-24T17:32:29.260070Z",
     "iopub.status.idle": "2022-07-24T17:32:29.273271Z",
     "shell.execute_reply": "2022-07-24T17:32:29.272455Z"
    },
    "id": "4e43dad1",
    "papermill": {
     "duration": 0.041441,
     "end_time": "2022-07-24T17:32:29.276366",
     "exception": false,
     "start_time": "2022-07-24T17:32:29.234925",
     "status": "completed"
    },
    "tags": []
   },
   "outputs": [],
   "source": [
    "#Generator\n",
    "gen3 = network.GeneratorWithSkipConnection(n_features+1).to(device)\n",
    "constraints=network.weightConstraint()\n",
    "#Discriminator \n",
    "disc3 = network.Discriminator(n_features+1).to(device)\n",
    "\n",
    "criterion = torch.nn.BCELoss()\n",
    "gen_opt = torch.optim.Adam(gen3.parameters(), lr=0.01, betas=(0.5, 0.999))\n",
    "disc_opt = torch.optim.Adam(disc3.parameters(), lr=0.01, betas=(0.5, 0.999))\n"
   ]
  },
  {
   "cell_type": "code",
   "execution_count": 20,
   "id": "26acbc37",
   "metadata": {
    "execution": {
     "iopub.execute_input": "2022-07-24T17:32:29.320143Z",
     "iopub.status.busy": "2022-07-24T17:32:29.319764Z",
     "iopub.status.idle": "2022-07-24T17:41:50.157333Z",
     "shell.execute_reply": "2022-07-24T17:41:50.155209Z"
    },
    "id": "26acbc37",
    "papermill": {
     "duration": 560.866868,
     "end_time": "2022-07-24T17:41:50.162707",
     "exception": false,
     "start_time": "2022-07-24T17:32:29.295839",
     "status": "completed"
    },
    "tags": []
   },
   "outputs": [
    {
     "data": {
      "image/png": "[encoded data removed]",
      "text/plain": [
       "<Figure size 432x288 with 1 Axes>"
      ]
     },
     "metadata": {
      "needs_background": "light"
     },
     "output_type": "display_data"
    },
    {
     "data": {
      "image/png": "[encoded data removed]",
      "text/plain": [
       "<Figure size 432x288 with 1 Axes>"
      ]
     },
     "metadata": {
      "needs_background": "light"
     },
     "output_type": "display_data"
    }
   ],
   "source": [
    "ABC_train_test2.training_GAN_skip_connection(disc3,gen3,disc_opt,gen_opt,train_data,batch_size,n_epochs,criterion,prior_model,variance,bias,device)"
   ]
  },
  {
   "cell_type": "code",
   "execution_count": 21,
   "id": "c5e0717b",
   "metadata": {
    "execution": {
     "iopub.execute_input": "2022-07-24T17:41:50.267376Z",
     "iopub.status.busy": "2022-07-24T17:41:50.265724Z",
     "iopub.status.idle": "2022-07-24T17:41:52.659000Z",
     "shell.execute_reply": "2022-07-24T17:41:52.657986Z"
    },
    "id": "c5e0717b",
    "papermill": {
     "duration": 2.45179,
     "end_time": "2022-07-24T17:41:52.664856",
     "exception": false,
     "start_time": "2022-07-24T17:41:50.213066",
     "status": "completed"
    },
    "tags": []
   },
   "outputs": [
    {
     "data": {
      "application/scrapbook.scrap.json+json": {
       "data": 0.011256199781102571,
       "encoder": "json",
       "name": "ABC-GAN Model 3 MSE",
       "version": 1
      }
     },
     "metadata": {
      "scrapbook": {
       "data": true,
       "display": false,
       "name": "ABC-GAN Model 3 MSE"
      }
     },
     "output_type": "display_data"
    },
    {
     "data": {
      "application/scrapbook.scrap.json+json": {
       "data": 0.0836389967475038,
       "encoder": "json",
       "name": "ABC-GAN Model 3 MAE",
       "version": 1
      }
     },
     "metadata": {
      "scrapbook": {
       "data": true,
       "display": false,
       "name": "ABC-GAN Model 3 MAE"
      }
     },
     "output_type": "display_data"
    },
    {
     "data": {
      "application/scrapbook.scrap.json+json": {
       "data": 12.880405499115586,
       "encoder": "json",
       "name": "ABC-GAN Model 3 Manhattan Distance",
       "version": 1
      }
     },
     "metadata": {
      "scrapbook": {
       "data": true,
       "display": false,
       "name": "ABC-GAN Model 3 Manhattan Distance"
      }
     },
     "output_type": "display_data"
    },
    {
     "data": {
      "application/scrapbook.scrap.json+json": {
       "data": 1.3147501512369355,
       "encoder": "json",
       "name": "ABC-GAN Model 3 Euclidean distance",
       "version": 1
      }
     },
     "metadata": {
      "scrapbook": {
       "data": true,
       "display": false,
       "name": "ABC-GAN Model 3 Euclidean distance"
      }
     },
     "output_type": "display_data"
    },
    {
     "data": {
      "application/scrapbook.scrap.json+json": {
       "data": [
        [
         0.00978450497262845,
         0.010538736971611916,
         0.010476548414308048,
         0.011857081659953965,
         0.01359813142900134,
         0.012927635163037026,
         0.010099867111917729,
         0.01178749616182695,
         0.012397850667370348,
         0.010757017545213106,
         0.01149318563798222,
         0.010537641737206603,
         0.011008597568001613,
         0.00855582966344665,
         0.012877036295024357,
         0.010524910399329367,
         0.010953269944806181,
         0.010422985471731205,
         0.010260198504356874,
         0.00834401467244427,
         0.01071992294065586,
         0.011809543569876771,
         0.012097750294560356,
         0.012209001526925868,
         0.011582187903173535,
         0.010720485945116669,
         0.008526092325570575,
         0.012460843265654992,
         0.01304116863690322,
         0.011478840164522467,
         0.010747727081016782,
         0.009559804211834277,
         0.011360286669448282,
         0.011730107744959075,
         0.010451300784566757,
         0.012700110421819292,
         0.011769818800430827,
         0.013213102103458286,
         0.00887841667329149,
         0.009125551273059387,
         0.011411984562002658,
         0.012172785544977345,
         0.0115906212103734,
         0.011482396536763735,
         0.012428687486153974,
         0.011624050239925477,
         0.013463966518677222,
         0.013060136247781835,
         0.011305643653325379,
         0.010796968518084317,
         0.010658631992984497,
         0.010198513109464142,
         0.011453034321204229,
         0.011136150125540253,
         0.013497027899398583,
         0.010046370734410802,
         0.010943120142048112,
         0.012360372873207848,
         0.010186773507868885,
         0.012136420614998285,
         0.012347293047357544,
         0.011302572534563994,
         0.010141335350781893,
         0.013035099688011174,
         0.010291017158401396,
         0.012225481017485409,
         0.011171825175364537,
         0.011611886090166931,
         0.012869369904073103,
         0.010457840425648776,
         0.010459213178838194,
         0.010906335190807772,
         0.010321870084093396,
         0.010880410059540354,
         0.01119963115382201,
         0.013280403243330706,
         0.012260072440136445,
         0.010209416676006475,
         0.011114544070706783,
         0.010406846533636185,
         0.010310959795277484,
         0.009601456418735896,
         0.009845694369877579,
         0.010780644680128784,
         0.011346984161894445,
         0.011802551062574105,
         0.009793803225543693,
         0.01025155252231266,
         0.010870412906392032,
         0.011377444854391308,
         0.011231742361551885,
         0.012996683587786833,
         0.009448795833049563,
         0.011411360811171715,
         0.010842379645857884,
         0.012044140428564066,
         0.011881154256772157,
         0.013259038133445596,
         0.010778868954807683,
         0.013913588910114743
        ],
        [
         0.07871409719688939,
         0.08227559100449472,
         0.0839825595620197,
         0.08631053979375533,
         0.09246803032742305,
         0.09165428809869985,
         0.08110594731308036,
         0.08126996362025475,
         0.08908561516746685,
         0.08092660421820043,
         0.08450972464225896,
         0.07859310334814447,
         0.0817906968900329,
         0.0756252518455897,
         0.09036678510004437,
         0.0808151357432271,
         0.0792879755548262,
         0.0815703146183839,
         0.07925734225079997,
         0.07107441646179982,
         0.08459727810816718,
         0.08627856424828241,
         0.08669204507990703,
         0.08687241381493868,
         0.08132920076756121,
         0.07968912676412176,
         0.07176373622005248,
         0.08588769730761067,
         0.09036750589533672,
         0.08552679413469969,
         0.07928802570110405,
         0.0802800077824043,
         0.08334613275750503,
         0.08275195534111231,
         0.08293661043386567,
         0.08642680714414878,
         0.08719304018932117,
         0.08830804173387104,
         0.07465202947957562,
         0.07458514897999438,
         0.08459061997422537,
         0.08919894648111099,
         0.08617615267973054,
         0.08479533094138682,
         0.08502700309232845,
         0.08257722447009443,
         0.09157669344650847,
         0.09211311374440209,
         0.08363165076241477,
         0.08342279473247079,
         0.08014846096033013,
         0.07945313417147119,
         0.08290418766003538,
         0.08324340550688566,
         0.09213614987523912,
         0.07851286066768619,
         0.08349884428422559,
         0.0853390320772668,
         0.0779637096981917,
         0.0885495138415075,
         0.09001106017740904,
         0.08338802657392505,
         0.08054029013864793,
         0.08690333969939451,
         0.08296184255076307,
         0.08903807833452117,
         0.08588615019938775,
         0.08741768303194217,
         0.08953409476278278,
         0.07929926480517371,
         0.08433189551503241,
         0.08515595140346846,
         0.08246829896536353,
         0.08367976254795666,
         0.08584815318176112,
         0.09428746022235651,
         0.08560072980192188,
         0.07853377374590605,
         0.08371756035931312,
         0.08256074146355515,
         0.08169393228100878,
         0.07793739964193724,
         0.07886189269506699,
         0.0831885165474438,
         0.0811737696337816,
         0.08730580869384787,
         0.0779166038377912,
         0.07940097626105144,
         0.08561956900619454,
         0.08408822754228656,
         0.08366696339390882,
         0.08947014463944482,
         0.07965095731877274,
         0.07730271949057842,
         0.08043767193743548,
         0.0877337861540062,
         0.0837299916288489,
         0.0866115606668127,
         0.08513576296678224,
         0.08749428922431422
        ],
        [
         12.121970968320966,
         12.670441014692187,
         12.933314172551036,
         13.29182312823832,
         14.24007667042315,
         14.114760367199779,
         12.490315886214375,
         12.51557439751923,
         13.719184735789895,
         12.462697049602866,
         13.01449759490788,
         12.103337915614247,
         12.595767321065068,
         11.646288784220815,
         13.916484905406833,
         12.445530904456973,
         12.210348235443234,
         12.561828451231122,
         12.205630706623197,
         10.945460135117173,
         13.027980828657746,
         13.286898894235492,
         13.350574942305684,
         13.378351727500558,
         12.524696918204427,
         12.272125521674752,
         11.051615377888083,
         13.226705385372043,
         13.916595907881856,
         13.17112629674375,
         12.210355957970023,
         12.363121198490262,
         12.835304444655776,
         12.743801122531295,
         12.772238006815314,
         13.309728300198913,
         13.42772818915546,
         13.599438427016139,
         11.496412539854646,
         11.486112942919135,
         13.026955476030707,
         13.736637758091092,
         13.271127512678504,
         13.058480964973569,
         13.094158476218581,
         12.716892568394542,
         14.102810790762305,
         14.185419516637921,
         12.879274217411876,
         12.847110388800502,
         12.34286298789084,
         12.235782662406564,
         12.767244899645448,
         12.819484448060393,
         14.188967080786824,
         12.090980542823672,
         12.858822019770741,
         13.142210939899087,
         12.006411293521523,
         13.636625131592155,
         13.86170326732099,
         12.841756092384458,
         12.403204681351781,
         13.383114313706756,
         12.776123752817512,
         13.71186406351626,
         13.226467130705714,
         13.462323186919093,
         13.788250593468547,
         12.212086779996753,
         12.98711190931499,
         13.114016516134143,
         12.700118040665984,
         12.886683432385325,
         13.220615589991212,
         14.520268874242902,
         13.182512389495969,
         12.09420115686953,
         12.89250429533422,
         12.714354185387492,
         12.580865571275353,
         12.002359544858336,
         12.144731475040317,
         12.811031548306346,
         12.500760523602366,
         13.445094538852572,
         11.999156991019845,
         12.227750344201922,
         13.18541362695396,
         12.949587041512132,
         12.884712362661958,
         13.778402274474502,
         12.266247427091002,
         11.904618801549077,
         12.387401478365064,
         13.511003067716956,
         12.894418710842729,
         13.338180342689157,
         13.110907496884465,
         13.47412054054439
        ],
        [
         1.2275234277946718,
         1.2739566294141393,
         1.2701922908770307,
         1.351292187364713,
         1.4471047785375482,
         1.4109769009830395,
         1.247148561814241,
         1.3473211973844061,
         1.3817630052852892,
         1.2870822436669764,
         1.330394899362314,
         1.2738904299545613,
         1.3020460919154315,
         1.1478666160189448,
         1.4082129062871676,
         1.2731206547286562,
         1.2987700225598648,
         1.266941104647965,
         1.2570085797921025,
         1.133568815536321,
         1.2848611336876068,
         1.3485806278309882,
         1.364937194658529,
         1.3711988313685888,
         1.3355361983445915,
         1.2848948733448846,
         1.1458700703560891,
         1.3852688774786175,
         1.4171591195356632,
         1.3295643592306692,
         1.2865263193874366,
         1.2133465492687894,
         1.3226806670905247,
         1.3440374223672857,
         1.2686608375855544,
         1.3985052752707696,
         1.3463105493408076,
         1.4264703726094614,
         1.1693058486499115,
         1.1854682180687703,
         1.3256868493533491,
         1.369163603783898,
         1.3360223300519731,
         1.3297703059782975,
         1.3834803478429725,
         1.3379475837821613,
         1.4399482087479023,
         1.4181893322678756,
         1.3194957834764416,
         1.2894701050373307,
         1.2811827843518708,
         1.253224249229753,
         1.3280690062889997,
         1.3095675314137865,
         1.4417150538533545,
         1.2438412652341388,
         1.2981681331304544,
         1.3796729404007344,
         1.2525027425965216,
         1.3671169572168052,
         1.3789427578014477,
         1.3193165542518046,
         1.2497062230862146,
         1.416829330566572,
         1.2588950084871315,
         1.3721239290577047,
         1.3116634770420874,
         1.3372473435702563,
         1.4077936515083656,
         1.269057691970665,
         1.2691409809556549,
         1.2959844209651583,
         1.2607807077166049,
         1.2944431811281691,
         1.3132947870484333,
         1.4300986327777985,
         1.3740637378888259,
         1.2538940019415505,
         1.3082965210107549,
         1.265959859624298,
         1.2601142045357367,
         1.2159869606559637,
         1.231355729657822,
         1.2884949672931723,
         1.3219060333214856,
         1.3481813170476782,
         1.2281065494222108,
         1.2564788452004074,
         1.2938483634430942,
         1.323679155829033,
         1.31517615690028,
         1.414740001738543,
         1.2062812931856453,
         1.3256506194772604,
         1.2921789603077873,
         1.3619095513281587,
         1.3526632084679882,
         1.4289478200937296,
         1.2883888462107949,
         1.4637939377377098
        ]
       ],
       "encoder": "json",
       "name": "ABC_GAN_3 Metrics",
       "version": 1
      }
     },
     "metadata": {
      "scrapbook": {
       "data": true,
       "display": false,
       "name": "ABC_GAN_3 Metrics"
      }
     },
     "output_type": "display_data"
    },
    {
     "name": "stdout",
     "output_type": "stream",
     "text": [
      "MAE\n",
      "0.0836389967475038\n"
     ]
    }
   ],
   "source": [
    "ABC_GAN3_metrics=ABC_train_test2.test_generator(gen3,test_data,prior_model,variance,bias,\"3\",device)\n",
    "sb.glue(\"ABC_GAN_3 Metrics\",ABC_GAN3_metrics)\n",
    "\n",
    "print(\"MAE\")\n",
    "print(mean(ABC_GAN3_metrics[1]))"
   ]
  },
  {
   "cell_type": "code",
   "execution_count": 22,
   "id": "c8e46b48",
   "metadata": {
    "execution": {
     "iopub.execute_input": "2022-07-24T17:41:52.710441Z",
     "iopub.status.busy": "2022-07-24T17:41:52.710007Z",
     "iopub.status.idle": "2022-07-24T17:41:54.863109Z",
     "shell.execute_reply": "2022-07-24T17:41:54.861485Z"
    },
    "id": "c8e46b48",
    "papermill": {
     "duration": 2.178454,
     "end_time": "2022-07-24T17:41:54.865668",
     "exception": false,
     "start_time": "2022-07-24T17:41:52.687214",
     "status": "completed"
    },
    "tags": []
   },
   "outputs": [
    {
     "data": {
      "image/png": "[encoded data removed]",
      "text/plain": [
       "<Figure size 432x288 with 1 Axes>"
      ]
     },
     "metadata": {
      "needs_background": "light"
     },
     "output_type": "display_data"
    },
    {
     "data": {
      "image/png": "[encoded data removed]",
      "text/plain": [
       "<Figure size 432x288 with 1 Axes>"
      ]
     },
     "metadata": {
      "needs_background": "light"
     },
     "output_type": "display_data"
    },
    {
     "data": {
      "image/png": "[encoded data removed]",
      "text/plain": [
       "<Figure size 432x288 with 1 Axes>"
      ]
     },
     "metadata": {
      "needs_background": "light"
     },
     "output_type": "display_data"
    },
    {
     "data": {
      "image/png": "[encoded data removed]",
      "text/plain": [
       "<Figure size 432x288 with 1 Axes>"
      ]
     },
     "metadata": {
      "needs_background": "light"
     },
     "output_type": "display_data"
    }
   ],
   "source": [
    "sanityChecks.discProbVsError(train_data,disc3,device)\n",
    "sanityChecks.discProbVsError(test_data,disc3,device)"
   ]
  },
  {
   "cell_type": "markdown",
   "id": "dd836377",
   "metadata": {
    "id": "130f3a4d",
    "papermill": {
     "duration": 0.024125,
     "end_time": "2022-07-24T17:41:54.916366",
     "exception": false,
     "start_time": "2022-07-24T17:41:54.892241",
     "status": "completed"
    },
    "tags": []
   },
   "source": [
    "# skipGAN Model with TabNet Generator"
   ]
  },
  {
   "cell_type": "code",
   "execution_count": 23,
   "id": "f4879331",
   "metadata": {
    "execution": {
     "iopub.execute_input": "2022-07-24T17:41:54.974535Z",
     "iopub.status.busy": "2022-07-24T17:41:54.973293Z",
     "iopub.status.idle": "2022-07-24T17:41:54.998485Z",
     "shell.execute_reply": "2022-07-24T17:41:54.996704Z"
    },
    "id": "4e43dad1",
    "papermill": {
     "duration": 0.065244,
     "end_time": "2022-07-24T17:41:55.007023",
     "exception": false,
     "start_time": "2022-07-24T17:41:54.941779",
     "status": "completed"
    },
    "tags": []
   },
   "outputs": [],
   "source": [
    "#Generator\n",
    "gen4 = network.GeneratorTabnetskipConnection(n_features+1).to(device)\n",
    "constraints=network.weightConstraint()\n",
    "#Discriminator \n",
    "disc4 = network.Discriminator(n_features+1).to(device)\n",
    "\n",
    "criterion = torch.nn.BCELoss()\n",
    "gen_opt = torch.optim.Adam(gen4.parameters(), lr=0.01, betas=(0.5, 0.999))\n",
    "disc_opt = torch.optim.Adam(disc4.parameters(), lr=0.01, betas=(0.5, 0.999))\n"
   ]
  },
  {
   "cell_type": "code",
   "execution_count": 24,
   "id": "954cd455",
   "metadata": {
    "execution": {
     "iopub.execute_input": "2022-07-24T17:41:55.070338Z",
     "iopub.status.busy": "2022-07-24T17:41:55.069459Z",
     "iopub.status.idle": "2022-07-24T18:07:47.443820Z",
     "shell.execute_reply": "2022-07-24T18:07:47.430416Z"
    },
    "id": "26acbc37",
    "papermill": {
     "duration": 1552.426677,
     "end_time": "2022-07-24T18:07:47.455904",
     "exception": false,
     "start_time": "2022-07-24T17:41:55.029227",
     "status": "completed"
    },
    "tags": []
   },
   "outputs": [
    {
     "data": {
      "image/png": "[encoded data removed]",
      "text/plain": [
       "<Figure size 432x288 with 1 Axes>"
      ]
     },
     "metadata": {
      "needs_background": "light"
     },
     "output_type": "display_data"
    },
    {
     "data": {
      "image/png": "[encoded data removed]",
      "text/plain": [
       "<Figure size 432x288 with 1 Axes>"
      ]
     },
     "metadata": {
      "needs_background": "light"
     },
     "output_type": "display_data"
    }
   ],
   "source": [
    "ABC_train_test2.training_GAN_skip_connection(disc4,gen4,disc_opt,gen_opt,train_data,batch_size,n_epochs,criterion,prior_model,variance,bias,device)"
   ]
  },
  {
   "cell_type": "code",
   "execution_count": 25,
   "id": "140734d6",
   "metadata": {
    "execution": {
     "iopub.execute_input": "2022-07-24T18:07:47.573611Z",
     "iopub.status.busy": "2022-07-24T18:07:47.570811Z",
     "iopub.status.idle": "2022-07-24T18:07:52.370384Z",
     "shell.execute_reply": "2022-07-24T18:07:52.368503Z"
    },
    "id": "c5e0717b",
    "papermill": {
     "duration": 4.851923,
     "end_time": "2022-07-24T18:07:52.374819",
     "exception": false,
     "start_time": "2022-07-24T18:07:47.522896",
     "status": "completed"
    },
    "tags": []
   },
   "outputs": [
    {
     "data": {
      "application/scrapbook.scrap.json+json": {
       "data": 0.008282921033036315,
       "encoder": "json",
       "name": "ABC-GAN Model 3 MSE",
       "version": 1
      }
     },
     "metadata": {
      "scrapbook": {
       "data": true,
       "display": false,
       "name": "ABC-GAN Model 3 MSE"
      }
     },
     "output_type": "display_data"
    },
    {
     "data": {
      "application/scrapbook.scrap.json+json": {
       "data": 0.06622827524210435,
       "encoder": "json",
       "name": "ABC-GAN Model 3 MAE",
       "version": 1
      }
     },
     "metadata": {
      "scrapbook": {
       "data": true,
       "display": false,
       "name": "ABC-GAN Model 3 MAE"
      }
     },
     "output_type": "display_data"
    },
    {
     "data": {
      "application/scrapbook.scrap.json+json": {
       "data": 10.19915438728407,
       "encoder": "json",
       "name": "ABC-GAN Model 3 Manhattan Distance",
       "version": 1
      }
     },
     "metadata": {
      "scrapbook": {
       "data": true,
       "display": false,
       "name": "ABC-GAN Model 3 Manhattan Distance"
      }
     },
     "output_type": "display_data"
    },
    {
     "data": {
      "application/scrapbook.scrap.json+json": {
       "data": 1.127824032104219,
       "encoder": "json",
       "name": "ABC-GAN Model 3 Euclidean distance",
       "version": 1
      }
     },
     "metadata": {
      "scrapbook": {
       "data": true,
       "display": false,
       "name": "ABC-GAN Model 3 Euclidean distance"
      }
     },
     "output_type": "display_data"
    },
    {
     "data": {
      "application/scrapbook.scrap.json+json": {
       "data": [
        [
         0.0079833240166292,
         0.009706409711962783,
         0.008995084536304073,
         0.007424380998626566,
         0.007605685838466249,
         0.008323238380491753,
         0.007605153240903156,
         0.007667880271220128,
         0.007898733068571017,
         0.006911680402661954,
         0.006961800259240308,
         0.008467524782222017,
         0.008276753631850552,
         0.007173487536127785,
         0.007445019119883755,
         0.008832345397021157,
         0.00846790470573753,
         0.008416857349596733,
         0.008097112831673078,
         0.006579579253033138,
         0.007637746983333435,
         0.009746287860488263,
         0.008110494748293905,
         0.00923821449892366,
         0.008568172977542128,
         0.008048419270201541,
         0.0075777848831034104,
         0.008484094718536693,
         0.007119137255172628,
         0.009562878629011052,
         0.009917896977360424,
         0.009276788362932883,
         0.00853388200730039,
         0.008458898345826832,
         0.008764633417095906,
         0.0088059367003251,
         0.007262196267333738,
         0.009751153932459669,
         0.007550845249376849,
         0.009225882885992409,
         0.007670113398852651,
         0.008179694850537603,
         0.008775661258541862,
         0.008055030704699078,
         0.007551240946549138,
         0.007904655979921904,
         0.006951876998070582,
         0.008559704216770886,
         0.007873465145948657,
         0.007559652446316546,
         0.009003872427425782,
         0.007778700595390509,
         0.009455244659050815,
         0.009934775448212009,
         0.006631534446432127,
         0.007556804256859628,
         0.007793861557468546,
         0.007016561051302964,
         0.009174508013530895,
         0.008786131403251164,
         0.007706525812634611,
         0.0076326903176047525,
         0.008193424368823012,
         0.008890829298225912,
         0.007929500732651655,
         0.008307780443576072,
         0.0077636751981083095,
         0.009556694599390445,
         0.009487046566076544,
         0.006575586526565209,
         0.008274219500375726,
         0.007159705966081699,
         0.009662194539202253,
         0.01066605307602613,
         0.008081343003545802,
         0.00820073128711776,
         0.010109778157550535,
         0.007083782073395657,
         0.008409417571244885,
         0.007291525716927566,
         0.00878990554139868,
         0.00825905508745343,
         0.007569184535142173,
         0.009099494589870425,
         0.008569738450671972,
         0.00698538501900657,
         0.008410384961230918,
         0.007758215579492627,
         0.007191327642220922,
         0.00971925164616301,
         0.008384998055311853,
         0.009643245935048929,
         0.009457262094319343,
         0.00828541438983205,
         0.008012093000206746,
         0.008593991895240618,
         0.008348113549039018,
         0.008292205772389824,
         0.008160155316199838,
         0.009085784380300851
        ],
        [
         0.06728452396905654,
         0.06944966605295996,
         0.07053130888077733,
         0.06012437583322262,
         0.06101960097379112,
         0.06677025676305805,
         0.06266205621181757,
         0.06149871733233139,
         0.06449328119830265,
         0.06137592015279965,
         0.06286001008294233,
         0.06486190641419841,
         0.06485698903100444,
         0.060120493887210046,
         0.0617193669298446,
         0.06796818031844767,
         0.06725838832412061,
         0.0672469690272754,
         0.06352774575110767,
         0.05976719925688072,
         0.0641428789656077,
         0.07306848075724655,
         0.06554937673514927,
         0.07043945200305868,
         0.06849033173850992,
         0.06763390426269987,
         0.06114527676254511,
         0.066811576134876,
         0.06068459166479962,
         0.07060205023251957,
         0.07239701694433952,
         0.06626661580249474,
         0.06585765079679815,
         0.0669034215948218,
         0.06817625667416043,
         0.07227972402636494,
         0.061378898691724644,
         0.07294581967176168,
         0.06321716283194044,
         0.06926163096077644,
         0.06255190244984704,
         0.06369774376175233,
         0.07144595548365411,
         0.06649315770860616,
         0.0629309146943224,
         0.06478693922860669,
         0.06350182118982851,
         0.06593586488735753,
         0.06436974062983479,
         0.06513572352418265,
         0.07041253341821493,
         0.06272794080099889,
         0.06927281921705256,
         0.07345377788092795,
         0.06114429161678274,
         0.0645310196227261,
         0.06269761016471433,
         0.06301098214099546,
         0.0710310104436108,
         0.06814865125706057,
         0.06318899866967619,
         0.06260086580288488,
         0.06522031748885071,
         0.06903880843046037,
         0.06448866953081511,
         0.06670485188966835,
         0.06609718904334616,
         0.06902685046631407,
         0.070961733517999,
         0.057743519266414176,
         0.06922930889073517,
         0.0626296362682403,
         0.06985931958422645,
         0.07563504667396283,
         0.06924062639523249,
         0.06415397480323717,
         0.07745488202078389,
         0.062062357939392715,
         0.066843032582917,
         0.06427929616932358,
         0.07135519108360076,
         0.06653922666831837,
         0.06440104627618928,
         0.06910040467832383,
         0.06686788133357639,
         0.06243838479911739,
         0.06471471245364323,
         0.06250177262133205,
         0.06000935398767908,
         0.067575812497019,
         0.06679744284309737,
         0.07107893852879862,
         0.06905259669746285,
         0.06910331175940765,
         0.06631938811972157,
         0.06779017349003584,
         0.06789244702932509,
         0.0648766104978594,
         0.07083015117262091,
         0.06719391847440562
        ],
        [
         10.361816691234708,
         10.695248572155833,
         10.861821567639709,
         9.259153878316283,
         9.397018549963832,
         10.28261954151094,
         9.649956656619906,
         9.470802469179034,
         9.931965304538608,
         9.451891703531146,
         9.680441552773118,
         9.988733587786555,
         9.987976310774684,
         9.258556058630347,
         9.504782507196069,
         10.467099769040942,
         10.357791801914573,
         10.35603323020041,
         9.78327284567058,
         9.20414868555963,
         9.878003360703588,
         11.252546036615968,
         10.094604017212987,
         10.847675608471036,
         10.547511087730527,
         10.415621256455779,
         9.416372621431947,
         10.288982724770904,
         9.345427116379142,
         10.872715735808015,
         11.149140609428287,
         10.20505883358419,
         10.142078222706914,
         10.303126925602555,
         10.499143527820706,
         11.1310775000602,
         9.452350398525596,
         11.233656229451299,
         9.735443076118827,
         10.66629116795957,
         9.632992977276444,
         9.80945253930986,
         11.002677144482732,
         10.239946287125349,
         9.691360862925649,
         9.97718864120543,
         9.77928046323359,
         10.15412319265306,
         9.912940056994557,
         10.030901422724128,
         10.8435301464051,
         9.66010288335383,
         10.668014159426093,
         11.311881793662906,
         9.416220908984542,
         9.93777702189982,
         9.655431965366006,
         9.703691249713302,
         10.938775608316064,
         10.494892293587327,
         9.731105795130134,
         9.640533333644271,
         10.04392889328301,
         10.631976498290896,
         9.931255107745528,
         10.272547191008925,
         10.17896711267531,
         10.630134971812367,
         10.928106961771846,
         8.892501967027783,
         10.661313569173217,
         9.644963985309005,
         10.758335215970874,
         11.647797187790275,
         10.663056464865804,
         9.879712119698524,
         11.928051831200719,
         9.557603122666478,
         10.293827017769217,
         9.899011610075831,
         10.988699426874518,
         10.247040906921029,
         9.91776112653315,
         10.64146232046187,
         10.297653725370765,
         9.615511259064078,
         9.966065717861056,
         9.625272983685136,
         9.241440514102578,
         10.406675124540925,
         10.286806197836995,
         10.946156533434987,
         10.634099891409278,
         10.641910010948777,
         10.213185770437121,
         10.43968671746552,
         10.455436842516065,
         9.990998016670346,
         10.90784328058362,
         10.347863445058465
        ],
        [
         1.1087975011519897,
         1.2226148598975348,
         1.1769634737708843,
         1.069277641115015,
         1.0822548771540843,
         1.1321566634506595,
         1.082216983372136,
         1.0866708617460485,
         1.1029074723474932,
         1.031697039837733,
         1.0354309440629093,
         1.1419276756704826,
         1.1289907259605745,
         1.0510552224139695,
         1.070762786270656,
         1.1662680614426761,
         1.1419532935648373,
         1.138506052613642,
         1.1166715614170777,
         1.0066057842905054,
         1.0845335566193186,
         1.225123802117644,
         1.1175939294919517,
         1.1927636114646707,
         1.1486943190168077,
         1.1133088374799858,
         1.0802679630526517,
         1.1430444377427549,
         1.0470659660673651,
         1.2135416387037168,
         1.2358625063143172,
         1.1952511902908376,
         1.1463934006807,
         1.1413458482236365,
         1.1617889422062724,
         1.1645231864802288,
         1.0575340302654075,
         1.2254296004254137,
         1.0783460337034836,
         1.191967266514828,
         1.0868290865740151,
         1.1223515523145104,
         1.1625196057768004,
         1.113766011567806,
         1.0783742883473102,
         1.1033209056788391,
         1.0346927358896791,
         1.1481264953752772,
         1.101141967448382,
         1.07897473405671,
         1.1775382600253677,
         1.0944952680071933,
         1.2066928679220017,
         1.236913666762822,
         1.0105722659713887,
         1.0787714565914241,
         1.095561353758956,
         1.0394952630486856,
         1.1886438634358727,
         1.1632128937132185,
         1.0894057899358394,
         1.0841744826876953,
         1.1232930841052764,
         1.1701229473550163,
         1.1050534434263146,
         1.1311048529251013,
         1.0934376893580537,
         1.213149194578362,
         1.2087204685847708,
         1.0063003155574592,
         1.1288178786048093,
         1.0500451032106104,
         1.219827020129144,
         1.2816287191335969,
         1.115583624183348,
         1.123793850408577,
         1.2477603280529408,
         1.0444627515153095,
         1.138002770634462,
         1.059667381967967,
         1.1634626996063935,
         1.1277829948477802,
         1.0796547681605888,
         1.1837745422334631,
         1.1487992520033619,
         1.0371833458588755,
         1.1380682246814386,
         1.09305315481081,
         1.0523613718214966,
         1.2234233745965064,
         1.136349286319143,
         1.2186303270465308,
         1.2068215951519838,
         1.1295812569417643,
         1.1107935550910613,
         1.1504237270966968,
         1.1338472059991191,
         1.1300441092930986,
         1.1210102223863863,
         1.1828824094415857
        ]
       ],
       "encoder": "json",
       "name": "ABC_GAN_4 Metrics",
       "version": 1
      }
     },
     "metadata": {
      "scrapbook": {
       "data": true,
       "display": false,
       "name": "ABC_GAN_4 Metrics"
      }
     },
     "output_type": "display_data"
    },
    {
     "name": "stdout",
     "output_type": "stream",
     "text": [
      "MAE\n",
      "0.06622827524210435\n"
     ]
    }
   ],
   "source": [
    "ABC_GAN4_metrics=ABC_train_test2.test_generator(gen4,test_data,prior_model,variance,bias,\"3\",device)\n",
    "sb.glue(\"ABC_GAN_4 Metrics\",ABC_GAN4_metrics)\n",
    "\n",
    "print(\"MAE\")\n",
    "print(mean(ABC_GAN4_metrics[1]))"
   ]
  },
  {
   "cell_type": "code",
   "execution_count": 26,
   "id": "a019cc9d",
   "metadata": {
    "execution": {
     "iopub.execute_input": "2022-07-24T18:07:52.431267Z",
     "iopub.status.busy": "2022-07-24T18:07:52.430850Z",
     "iopub.status.idle": "2022-07-24T18:07:53.442357Z",
     "shell.execute_reply": "2022-07-24T18:07:53.440112Z"
    },
    "id": "c8e46b48",
    "papermill": {
     "duration": 1.041887,
     "end_time": "2022-07-24T18:07:53.445148",
     "exception": false,
     "start_time": "2022-07-24T18:07:52.403261",
     "status": "completed"
    },
    "tags": []
   },
   "outputs": [
    {
     "data": {
      "image/png": "[encoded data removed]",
      "text/plain": [
       "<Figure size 432x288 with 1 Axes>"
      ]
     },
     "metadata": {
      "needs_background": "light"
     },
     "output_type": "display_data"
    },
    {
     "data": {
      "image/png": "[encoded data removed]",
      "text/plain": [
       "<Figure size 432x288 with 1 Axes>"
      ]
     },
     "metadata": {
      "needs_background": "light"
     },
     "output_type": "display_data"
    },
    {
     "data": {
      "image/png": "[encoded data removed]",
      "text/plain": [
       "<Figure size 432x288 with 1 Axes>"
      ]
     },
     "metadata": {
      "needs_background": "light"
     },
     "output_type": "display_data"
    },
    {
     "data": {
      "image/png": "[encoded data removed]",
      "text/plain": [
       "<Figure size 432x288 with 1 Axes>"
      ]
     },
     "metadata": {
      "needs_background": "light"
     },
     "output_type": "display_data"
    }
   ],
   "source": [
    "sanityChecks.discProbVsError(train_data,disc4,device)\n",
    "sanityChecks.discProbVsError(test_data,disc4,device)"
   ]
  },
  {
   "cell_type": "markdown",
   "id": "a5bd74c3",
   "metadata": {
    "id": "a5bd74c3",
    "papermill": {
     "duration": 0.03102,
     "end_time": "2022-07-24T18:07:53.506310",
     "exception": false,
     "start_time": "2022-07-24T18:07:53.475290",
     "status": "completed"
    },
    "tags": []
   },
   "source": [
    "## Skip Connection Model Analysis - ABC-GAN "
   ]
  },
  {
   "cell_type": "markdown",
   "id": "5744a8bf",
   "metadata": {
    "id": "5744a8bf",
    "papermill": {
     "duration": 0.033635,
     "end_time": "2022-07-24T18:07:53.574081",
     "exception": false,
     "start_time": "2022-07-24T18:07:53.540446",
     "status": "completed"
    },
    "tags": []
   },
   "source": [
    "### Weight Analysis \n",
    "\n",
    "Study the weights of the skip connection layer\n",
    "\n",
    "Equation of the skip connection is \n",
    "\n",
    "$output = y_{gan} * w + y_{abc} * (1-w)$"
   ]
  },
  {
   "cell_type": "code",
   "execution_count": 27,
   "id": "52c31dea",
   "metadata": {
    "execution": {
     "iopub.execute_input": "2022-07-24T18:07:53.803370Z",
     "iopub.status.busy": "2022-07-24T18:07:53.788549Z",
     "iopub.status.idle": "2022-07-24T18:07:53.870116Z",
     "shell.execute_reply": "2022-07-24T18:07:53.869097Z"
    },
    "id": "52c31dea",
    "papermill": {
     "duration": 0.269504,
     "end_time": "2022-07-24T18:07:53.874554",
     "exception": false,
     "start_time": "2022-07-24T18:07:53.605050",
     "status": "completed"
    },
    "tags": []
   },
   "outputs": [
    {
     "name": "stdout",
     "output_type": "stream",
     "text": [
      "Weight of the node at skip connection\n",
      "Parameter containing:\n",
      "tensor([[0.0460]], requires_grad=True)\n"
     ]
    },
    {
     "data": {
      "application/scrapbook.scrap.json+json": {
       "data": 0.045961156487464905,
       "encoder": "json",
       "name": "Skip Connection Weight",
       "version": 1
      }
     },
     "metadata": {
      "scrapbook": {
       "data": true,
       "display": false,
       "name": "Skip Connection Weight"
      }
     },
     "output_type": "display_data"
    }
   ],
   "source": [
    "print(\"Weight of the node at skip connection\")\n",
    "for name,param in gen3.named_parameters():\n",
    "    if(name == \"skipNode.weight\"):\n",
    "        print(param)\n",
    "        sb.glue(\"Skip Connection Weight\",param.item())"
   ]
  },
  {
   "cell_type": "markdown",
   "id": "60ffd063",
   "metadata": {
    "id": "a5bd74c3",
    "papermill": {
     "duration": 0.036269,
     "end_time": "2022-07-24T18:07:53.940524",
     "exception": false,
     "start_time": "2022-07-24T18:07:53.904255",
     "status": "completed"
    },
    "tags": []
   },
   "source": [
    "## skipGAN Model Analysis (TabNet Generator) "
   ]
  },
  {
   "cell_type": "markdown",
   "id": "d79bf76c",
   "metadata": {
    "id": "5744a8bf",
    "papermill": {
     "duration": 0.034839,
     "end_time": "2022-07-24T18:07:54.013304",
     "exception": false,
     "start_time": "2022-07-24T18:07:53.978465",
     "status": "completed"
    },
    "tags": []
   },
   "source": [
    "### Weight Analysis \n",
    "\n",
    "Study the weights of the skip connection layer\n",
    "\n",
    "Equation of the skip connection is \n",
    "\n",
    "$output = y_{gan} * w + y_{abc} * (1-w)$"
   ]
  },
  {
   "cell_type": "code",
   "execution_count": 28,
   "id": "c9a1b6ed",
   "metadata": {
    "execution": {
     "iopub.execute_input": "2022-07-24T18:07:54.101900Z",
     "iopub.status.busy": "2022-07-24T18:07:54.100840Z",
     "iopub.status.idle": "2022-07-24T18:07:54.124008Z",
     "shell.execute_reply": "2022-07-24T18:07:54.119665Z"
    },
    "id": "52c31dea",
    "papermill": {
     "duration": 0.081634,
     "end_time": "2022-07-24T18:07:54.132361",
     "exception": false,
     "start_time": "2022-07-24T18:07:54.050727",
     "status": "completed"
    },
    "tags": []
   },
   "outputs": [
    {
     "name": "stdout",
     "output_type": "stream",
     "text": [
      "Weight of the node at skip connection\n",
      "Parameter containing:\n",
      "tensor([[0.2826]], requires_grad=True)\n"
     ]
    },
    {
     "data": {
      "application/scrapbook.scrap.json+json": {
       "data": 0.28255072236061096,
       "encoder": "json",
       "name": "Skip Connection Weight",
       "version": 1
      }
     },
     "metadata": {
      "scrapbook": {
       "data": true,
       "display": false,
       "name": "Skip Connection Weight"
      }
     },
     "output_type": "display_data"
    }
   ],
   "source": [
    "print(\"Weight of the node at skip connection\")\n",
    "for name,param in gen4.named_parameters():\n",
    "    if(name == \"skipNode.weight\"):\n",
    "        print(param)\n",
    "        sb.glue(\"Skip Connection Weight\",param.item())"
   ]
  }
 ],
 "metadata": {
  "colab": {
   "collapsed_sections": [],
   "name": "ABC_GAN_Model-Catboost_Pre-gen.ipynb",
   "provenance": []
  },
  "interpreter": {
   "hash": "31f2aee4e71d21fbe5cf8b01ff0e069b9275f58929596ceb00d14d90e3e16cd6"
  },
  "kernelspec": {
   "display_name": "Python 3 (ipykernel)",
   "language": "python",
   "name": "python3"
  },
  "language_info": {
   "codemirror_mode": {
    "name": "ipython",
    "version": 3
   },
   "file_extension": ".py",
   "mimetype": "text/x-python",
   "name": "python",
   "nbconvert_exporter": "python",
   "pygments_lexer": "ipython3",
   "version": "3.8.13"
  },
  "papermill": {
   "default_parameters": {},
   "duration": 3196.544461,
   "end_time": "2022-07-24T18:07:57.563931",
   "environment_variables": {},
   "exception": null,
   "input_path": "ABC_GAN-Catboost.ipynb",
   "output_path": "./ABC_GAN_Catboost/ABC-GAN_output_1_4.ipynb",
   "parameters": {
    "bias": 0.1,
    "variance": 0.1
   },
   "start_time": "2022-07-24T17:14:41.019470",
   "version": "2.3.3"
  }
 },
 "nbformat": 4,
 "nbformat_minor": 5
}