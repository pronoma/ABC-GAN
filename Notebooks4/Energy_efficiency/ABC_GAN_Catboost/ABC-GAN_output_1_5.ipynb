{
 "cells": [
  {
   "cell_type": "markdown",
   "id": "622780e6",
   "metadata": {
    "id": "622780e6",
    "papermill": {
     "duration": 0.01096,
     "end_time": "2022-07-24T18:08:05.931854",
     "exception": false,
     "start_time": "2022-07-24T18:08:05.920894",
     "status": "completed"
    },
    "tags": []
   },
   "source": [
    "## Import Libraries "
   ]
  },
  {
   "cell_type": "code",
   "execution_count": 1,
   "id": "a62397e3",
   "metadata": {
    "execution": {
     "iopub.execute_input": "2022-07-24T18:08:05.962646Z",
     "iopub.status.busy": "2022-07-24T18:08:05.961934Z",
     "iopub.status.idle": "2022-07-24T18:08:05.976623Z",
     "shell.execute_reply": "2022-07-24T18:08:05.975543Z"
    },
    "id": "a62397e3",
    "papermill": {
     "duration": 0.036317,
     "end_time": "2022-07-24T18:08:05.980828",
     "exception": false,
     "start_time": "2022-07-24T18:08:05.944511",
     "status": "completed"
    },
    "tags": []
   },
   "outputs": [],
   "source": [
    "import warnings\n",
    "import sys\n",
    "sys.path.insert(0, '../../src')\n",
    "warnings.filterwarnings('ignore')"
   ]
  },
  {
   "cell_type": "code",
   "execution_count": 2,
   "id": "d6a4e155",
   "metadata": {
    "execution": {
     "iopub.execute_input": "2022-07-24T18:08:06.001581Z",
     "iopub.status.busy": "2022-07-24T18:08:05.999570Z",
     "iopub.status.idle": "2022-07-24T18:08:15.613228Z",
     "shell.execute_reply": "2022-07-24T18:08:15.611992Z"
    },
    "id": "d6a4e155",
    "papermill": {
     "duration": 9.6275,
     "end_time": "2022-07-24T18:08:15.616164",
     "exception": false,
     "start_time": "2022-07-24T18:08:05.988664",
     "status": "completed"
    },
    "tags": []
   },
   "outputs": [],
   "source": [
    "import ABC_train_test2\n",
    "import energyefficiencyDataset\n",
    "import network\n",
    "import dataset\n",
    "import sanityChecks\n",
    "import torch \n",
    "import scrapbook as sb\n",
    "from statistics import mean \n",
    "import catboost as ctb \n",
    "from sklearn.model_selection import train_test_split\n",
    "from sklearn.metrics import mean_squared_error,mean_absolute_error\n",
    "import numpy as np"
   ]
  },
  {
   "cell_type": "markdown",
   "id": "2fa5b0f7",
   "metadata": {
    "id": "2fa5b0f7",
    "papermill": {
     "duration": 0.010212,
     "end_time": "2022-07-24T18:08:15.637023",
     "exception": false,
     "start_time": "2022-07-24T18:08:15.626811",
     "status": "completed"
    },
    "tags": []
   },
   "source": [
    "## Parameters "
   ]
  },
  {
   "cell_type": "code",
   "execution_count": 3,
   "id": "783186fb",
   "metadata": {
    "execution": {
     "iopub.execute_input": "2022-07-24T18:08:15.664903Z",
     "iopub.status.busy": "2022-07-24T18:08:15.663615Z",
     "iopub.status.idle": "2022-07-24T18:08:15.691823Z",
     "shell.execute_reply": "2022-07-24T18:08:15.685570Z"
    },
    "id": "783186fb",
    "papermill": {
     "duration": 0.051496,
     "end_time": "2022-07-24T18:08:15.696278",
     "exception": false,
     "start_time": "2022-07-24T18:08:15.644782",
     "status": "completed"
    },
    "tags": [
     "parameters"
    ]
   },
   "outputs": [],
   "source": [
    "variance = 1\n",
    "bias = 1 "
   ]
  },
  {
   "cell_type": "code",
   "execution_count": 4,
   "id": "37604eaf",
   "metadata": {
    "execution": {
     "iopub.execute_input": "2022-07-24T18:08:15.719189Z",
     "iopub.status.busy": "2022-07-24T18:08:15.718326Z",
     "iopub.status.idle": "2022-07-24T18:08:15.727167Z",
     "shell.execute_reply": "2022-07-24T18:08:15.723809Z"
    },
    "papermill": {
     "duration": 0.037149,
     "end_time": "2022-07-24T18:08:15.742898",
     "exception": false,
     "start_time": "2022-07-24T18:08:15.705749",
     "status": "completed"
    },
    "tags": [
     "injected-parameters"
    ]
   },
   "outputs": [],
   "source": [
    "# Parameters\n",
    "variance = 0.01\n",
    "bias = 0.1\n"
   ]
  },
  {
   "cell_type": "markdown",
   "id": "391cdbfd",
   "metadata": {
    "id": "391cdbfd",
    "papermill": {
     "duration": 0.009216,
     "end_time": "2022-07-24T18:08:15.763762",
     "exception": false,
     "start_time": "2022-07-24T18:08:15.754546",
     "status": "completed"
    },
    "tags": []
   },
   "source": [
    "## Dataset \n"
   ]
  },
  {
   "cell_type": "code",
   "execution_count": 5,
   "id": "5b51f161",
   "metadata": {
    "execution": {
     "iopub.execute_input": "2022-07-24T18:08:15.789359Z",
     "iopub.status.busy": "2022-07-24T18:08:15.788706Z",
     "iopub.status.idle": "2022-07-24T18:08:15.797913Z",
     "shell.execute_reply": "2022-07-24T18:08:15.796445Z"
    },
    "id": "5b51f161",
    "papermill": {
     "duration": 0.032075,
     "end_time": "2022-07-24T18:08:15.806329",
     "exception": false,
     "start_time": "2022-07-24T18:08:15.774254",
     "status": "completed"
    },
    "tags": []
   },
   "outputs": [],
   "source": [
    "#Parameters \n",
    "n_features = 8\n",
    "n_samples= 768\n",
    "n_target = 1 "
   ]
  },
  {
   "cell_type": "code",
   "execution_count": 6,
   "id": "5d6eced4",
   "metadata": {
    "execution": {
     "iopub.execute_input": "2022-07-24T18:08:15.825103Z",
     "iopub.status.busy": "2022-07-24T18:08:15.824647Z",
     "iopub.status.idle": "2022-07-24T18:08:16.728245Z",
     "shell.execute_reply": "2022-07-24T18:08:16.726032Z"
    },
    "id": "5d6eced4",
    "papermill": {
     "duration": 0.91603,
     "end_time": "2022-07-24T18:08:16.731242",
     "exception": false,
     "start_time": "2022-07-24T18:08:15.815212",
     "status": "completed"
    },
    "tags": []
   },
   "outputs": [
    {
     "name": "stdout",
     "output_type": "stream",
     "text": [
      "     X1     X2     X3      X4   X5  X6   X7  X8     Y1     Y2\n",
      "0  0.98  514.5  294.0  110.25  7.0   2  0.0   0  15.55  21.33\n",
      "1  0.98  514.5  294.0  110.25  7.0   3  0.0   0  15.55  21.33\n",
      "2  0.98  514.5  294.0  110.25  7.0   4  0.0   0  15.55  21.33\n",
      "3  0.98  514.5  294.0  110.25  7.0   5  0.0   0  15.55  21.33\n",
      "4  0.90  563.5  318.5  122.50  7.0   2  0.0   0  20.84  28.28\n"
     ]
    }
   ],
   "source": [
    "X,Y = energyefficiencyDataset.energy_data()"
   ]
  },
  {
   "cell_type": "code",
   "execution_count": 7,
   "id": "fe007438",
   "metadata": {
    "execution": {
     "iopub.execute_input": "2022-07-24T18:08:16.759044Z",
     "iopub.status.busy": "2022-07-24T18:08:16.758151Z",
     "iopub.status.idle": "2022-07-24T18:08:16.768047Z",
     "shell.execute_reply": "2022-07-24T18:08:16.765943Z"
    },
    "id": "fe007438",
    "papermill": {
     "duration": 0.030354,
     "end_time": "2022-07-24T18:08:16.772547",
     "exception": false,
     "start_time": "2022-07-24T18:08:16.742193",
     "status": "completed"
    },
    "tags": []
   },
   "outputs": [],
   "source": [
    "#Train test split for dataset \n",
    "X_train,X_test,Y_train,Y_test = train_test_split(X,Y,test_size = 0.2)\n",
    "train_data = dataset.CustomDataset(X_train,Y_train)\n",
    "test_data = dataset.CustomDataset(X_test,Y_test)\n"
   ]
  },
  {
   "cell_type": "markdown",
   "id": "a9a1af34",
   "metadata": {
    "id": "a9a1af34",
    "papermill": {
     "duration": 0.018267,
     "end_time": "2022-07-24T18:08:16.808124",
     "exception": false,
     "start_time": "2022-07-24T18:08:16.789857",
     "status": "completed"
    },
    "tags": []
   },
   "source": [
    "## Training Parameters "
   ]
  },
  {
   "cell_type": "code",
   "execution_count": 8,
   "id": "952b7fc8",
   "metadata": {
    "execution": {
     "iopub.execute_input": "2022-07-24T18:08:16.852612Z",
     "iopub.status.busy": "2022-07-24T18:08:16.851764Z",
     "iopub.status.idle": "2022-07-24T18:08:16.860896Z",
     "shell.execute_reply": "2022-07-24T18:08:16.859799Z"
    },
    "id": "952b7fc8",
    "papermill": {
     "duration": 0.035612,
     "end_time": "2022-07-24T18:08:16.865171",
     "exception": false,
     "start_time": "2022-07-24T18:08:16.829559",
     "status": "completed"
    },
    "tags": []
   },
   "outputs": [],
   "source": [
    "batch_size = 32\n",
    "n_epochs = 1000\n",
    "#Select the device \n",
    "device = torch.device('cuda' if torch.cuda.is_available() else 'cpu')"
   ]
  },
  {
   "cell_type": "markdown",
   "id": "a95e1600",
   "metadata": {
    "id": "a95e1600",
    "papermill": {
     "duration": 0.010275,
     "end_time": "2022-07-24T18:08:16.886075",
     "exception": false,
     "start_time": "2022-07-24T18:08:16.875800",
     "status": "completed"
    },
    "tags": []
   },
   "source": [
    "# ABC Pre-generator Model \n",
    "\n",
    "1. The catboost model is used as a pre-generator model for the ABC-GAN. \n",
    "2. The model is first trained on the entire dataset \n",
    "3. It generats X,Y pairs and we add some Gaussian noise with mean 0 and variance 1 to it which is then feed as input to the generator.\n"
   ]
  },
  {
   "cell_type": "code",
   "execution_count": 9,
   "id": "ff8ce7bd",
   "metadata": {
    "execution": {
     "iopub.execute_input": "2022-07-24T18:08:16.907312Z",
     "iopub.status.busy": "2022-07-24T18:08:16.906794Z",
     "iopub.status.idle": "2022-07-24T18:08:18.358701Z",
     "shell.execute_reply": "2022-07-24T18:08:18.357891Z"
    },
    "id": "ff8ce7bd",
    "papermill": {
     "duration": 1.468098,
     "end_time": "2022-07-24T18:08:18.362592",
     "exception": false,
     "start_time": "2022-07-24T18:08:16.894494",
     "status": "completed"
    },
    "tags": []
   },
   "outputs": [
    {
     "name": "stdout",
     "output_type": "stream",
     "text": [
      "Learning rate set to 0.037906\n",
      "0:\tlearn: 0.9638309\ttotal: 51.7ms\tremaining: 51.6s\n",
      "1:\tlearn: 0.9316550\ttotal: 52.1ms\tremaining: 26s\n",
      "2:\tlearn: 0.9044148\ttotal: 52.6ms\tremaining: 17.5s\n",
      "3:\tlearn: 0.8742816\ttotal: 53.1ms\tremaining: 13.2s\n",
      "4:\tlearn: 0.8497734\ttotal: 53.5ms\tremaining: 10.6s\n",
      "5:\tlearn: 0.8221820\ttotal: 53.9ms\tremaining: 8.92s\n",
      "6:\tlearn: 0.7999555\ttotal: 54.1ms\tremaining: 7.68s\n",
      "7:\tlearn: 0.7751722\ttotal: 56.3ms\tremaining: 6.98s\n",
      "8:\tlearn: 0.7498578\ttotal: 59.9ms\tremaining: 6.59s\n",
      "9:\tlearn: 0.7258897\ttotal: 62.8ms\tremaining: 6.22s\n",
      "10:\tlearn: 0.7031118\ttotal: 65.1ms\tremaining: 5.85s\n",
      "11:\tlearn: 0.6803292\ttotal: 67ms\tremaining: 5.51s\n",
      "12:\tlearn: 0.6605743\ttotal: 68ms\tremaining: 5.17s\n",
      "13:\tlearn: 0.6404773\ttotal: 68.8ms\tremaining: 4.84s\n",
      "14:\tlearn: 0.6206745\ttotal: 70.5ms\tremaining: 4.63s\n",
      "15:\tlearn: 0.6009340\ttotal: 71.8ms\tremaining: 4.41s\n",
      "16:\tlearn: 0.5822086\ttotal: 72.3ms\tremaining: 4.18s\n",
      "17:\tlearn: 0.5652351\ttotal: 73ms\tremaining: 3.98s\n",
      "18:\tlearn: 0.5493299\ttotal: 74.6ms\tremaining: 3.85s\n",
      "19:\tlearn: 0.5326344\ttotal: 75ms\tremaining: 3.67s\n",
      "20:\tlearn: 0.5167744\ttotal: 75.4ms\tremaining: 3.52s\n",
      "21:\tlearn: 0.5010063\ttotal: 76.2ms\tremaining: 3.38s\n",
      "22:\tlearn: 0.4877651\ttotal: 76.5ms\tremaining: 3.25s\n",
      "23:\tlearn: 0.4738097\ttotal: 77.5ms\tremaining: 3.15s\n",
      "24:\tlearn: 0.4587011\ttotal: 78.5ms\tremaining: 3.06s\n",
      "25:\tlearn: 0.4452184\ttotal: 78.9ms\tremaining: 2.95s\n",
      "26:\tlearn: 0.4319618\ttotal: 79.6ms\tremaining: 2.87s\n",
      "27:\tlearn: 0.4181462\ttotal: 80.2ms\tremaining: 2.79s\n",
      "28:\tlearn: 0.4067927\ttotal: 80.9ms\tremaining: 2.71s\n",
      "29:\tlearn: 0.3952788\ttotal: 81.4ms\tremaining: 2.63s\n",
      "30:\tlearn: 0.3827355\ttotal: 82.1ms\tremaining: 2.56s\n",
      "31:\tlearn: 0.3716045\ttotal: 84.5ms\tremaining: 2.56s\n",
      "32:\tlearn: 0.3614574\ttotal: 85.2ms\tremaining: 2.5s\n",
      "33:\tlearn: 0.3510895\ttotal: 85.9ms\tremaining: 2.44s\n",
      "34:\tlearn: 0.3406520\ttotal: 86.5ms\tremaining: 2.38s\n",
      "35:\tlearn: 0.3319027\ttotal: 87.3ms\tremaining: 2.34s\n",
      "36:\tlearn: 0.3225899\ttotal: 88ms\tremaining: 2.29s\n",
      "37:\tlearn: 0.3141763\ttotal: 88.7ms\tremaining: 2.25s\n",
      "38:\tlearn: 0.3056124\ttotal: 89.5ms\tremaining: 2.21s\n",
      "39:\tlearn: 0.2972965\ttotal: 90.3ms\tremaining: 2.17s\n",
      "40:\tlearn: 0.2909736\ttotal: 90.8ms\tremaining: 2.12s\n",
      "41:\tlearn: 0.2831658\ttotal: 92.2ms\tremaining: 2.1s\n",
      "42:\tlearn: 0.2751265\ttotal: 92.9ms\tremaining: 2.07s\n",
      "43:\tlearn: 0.2678467\ttotal: 93.5ms\tremaining: 2.03s\n",
      "44:\tlearn: 0.2634268\ttotal: 94.3ms\tremaining: 2s\n",
      "45:\tlearn: 0.2572942\ttotal: 95.5ms\tremaining: 1.98s\n",
      "46:\tlearn: 0.2509034\ttotal: 96.3ms\tremaining: 1.95s\n",
      "47:\tlearn: 0.2447576\ttotal: 98.2ms\tremaining: 1.95s\n",
      "48:\tlearn: 0.2379568\ttotal: 99.1ms\tremaining: 1.92s\n",
      "49:\tlearn: 0.2319422\ttotal: 99.8ms\tremaining: 1.9s\n",
      "50:\tlearn: 0.2268940\ttotal: 101ms\tremaining: 1.87s\n",
      "51:\tlearn: 0.2213909\ttotal: 101ms\tremaining: 1.84s\n",
      "52:\tlearn: 0.2156157\ttotal: 102ms\tremaining: 1.83s\n",
      "53:\tlearn: 0.2094466\ttotal: 103ms\tremaining: 1.8s\n",
      "54:\tlearn: 0.2042807\ttotal: 105ms\tremaining: 1.8s\n",
      "55:\tlearn: 0.1983986\ttotal: 105ms\tremaining: 1.78s\n",
      "56:\tlearn: 0.1933075\ttotal: 106ms\tremaining: 1.75s\n",
      "57:\tlearn: 0.1879380\ttotal: 106ms\tremaining: 1.73s\n",
      "58:\tlearn: 0.1832305\ttotal: 109ms\tremaining: 1.74s\n",
      "59:\tlearn: 0.1784655\ttotal: 110ms\tremaining: 1.73s\n",
      "60:\tlearn: 0.1746263\ttotal: 123ms\tremaining: 1.89s\n",
      "61:\tlearn: 0.1696030\ttotal: 124ms\tremaining: 1.88s\n",
      "62:\tlearn: 0.1659687\ttotal: 126ms\tremaining: 1.88s\n",
      "63:\tlearn: 0.1619110\ttotal: 129ms\tremaining: 1.88s\n"
     ]
    },
    {
     "name": "stdout",
     "output_type": "stream",
     "text": [
      "64:\tlearn: 0.1592208\ttotal: 130ms\tremaining: 1.87s\n",
      "65:\tlearn: 0.1564902\ttotal: 132ms\tremaining: 1.86s\n",
      "66:\tlearn: 0.1529365\ttotal: 133ms\tremaining: 1.85s\n",
      "67:\tlearn: 0.1500783\ttotal: 136ms\tremaining: 1.86s\n",
      "68:\tlearn: 0.1468308\ttotal: 136ms\tremaining: 1.83s\n",
      "69:\tlearn: 0.1437695\ttotal: 137ms\tremaining: 1.82s\n",
      "70:\tlearn: 0.1417364\ttotal: 138ms\tremaining: 1.8s\n",
      "71:\tlearn: 0.1387131\ttotal: 143ms\tremaining: 1.85s\n",
      "72:\tlearn: 0.1351065\ttotal: 144ms\tremaining: 1.83s\n",
      "73:\tlearn: 0.1327140\ttotal: 145ms\tremaining: 1.81s\n",
      "74:\tlearn: 0.1304703\ttotal: 146ms\tremaining: 1.8s\n",
      "75:\tlearn: 0.1276626\ttotal: 152ms\tremaining: 1.84s\n",
      "76:\tlearn: 0.1247873\ttotal: 160ms\tremaining: 1.91s\n",
      "77:\tlearn: 0.1219244\ttotal: 161ms\tremaining: 1.9s\n",
      "78:\tlearn: 0.1201871\ttotal: 164ms\tremaining: 1.92s\n",
      "79:\tlearn: 0.1179717\ttotal: 165ms\tremaining: 1.9s\n",
      "80:\tlearn: 0.1150754\ttotal: 167ms\tremaining: 1.89s\n",
      "81:\tlearn: 0.1135720\ttotal: 167ms\tremaining: 1.87s\n",
      "82:\tlearn: 0.1110944\ttotal: 168ms\tremaining: 1.85s\n",
      "83:\tlearn: 0.1096135\ttotal: 169ms\tremaining: 1.84s\n",
      "84:\tlearn: 0.1071408\ttotal: 173ms\tremaining: 1.86s\n",
      "85:\tlearn: 0.1048864\ttotal: 174ms\tremaining: 1.85s\n",
      "86:\tlearn: 0.1027310\ttotal: 175ms\tremaining: 1.83s\n",
      "87:\tlearn: 0.1004166\ttotal: 176ms\tremaining: 1.82s\n",
      "88:\tlearn: 0.0985527\ttotal: 177ms\tremaining: 1.81s\n",
      "89:\tlearn: 0.0964778\ttotal: 177ms\tremaining: 1.79s\n",
      "90:\tlearn: 0.0942629\ttotal: 179ms\tremaining: 1.79s\n",
      "91:\tlearn: 0.0929160\ttotal: 181ms\tremaining: 1.78s\n",
      "92:\tlearn: 0.0910549\ttotal: 182ms\tremaining: 1.77s\n",
      "93:\tlearn: 0.0901662\ttotal: 182ms\tremaining: 1.76s\n",
      "94:\tlearn: 0.0886303\ttotal: 183ms\tremaining: 1.75s\n",
      "95:\tlearn: 0.0870194\ttotal: 188ms\tremaining: 1.77s\n",
      "96:\tlearn: 0.0854116\ttotal: 191ms\tremaining: 1.78s\n",
      "97:\tlearn: 0.0837132\ttotal: 191ms\tremaining: 1.76s\n",
      "98:\tlearn: 0.0821300\ttotal: 192ms\tremaining: 1.75s\n",
      "99:\tlearn: 0.0808888\ttotal: 193ms\tremaining: 1.74s\n",
      "100:\tlearn: 0.0798909\ttotal: 193ms\tremaining: 1.72s\n",
      "101:\tlearn: 0.0784159\ttotal: 194ms\tremaining: 1.71s\n",
      "102:\tlearn: 0.0772032\ttotal: 196ms\tremaining: 1.7s\n",
      "103:\tlearn: 0.0761666\ttotal: 196ms\tremaining: 1.69s\n",
      "104:\tlearn: 0.0752950\ttotal: 197ms\tremaining: 1.68s\n",
      "105:\tlearn: 0.0744874\ttotal: 197ms\tremaining: 1.66s\n",
      "106:\tlearn: 0.0734299\ttotal: 199ms\tremaining: 1.66s\n",
      "107:\tlearn: 0.0724866\ttotal: 199ms\tremaining: 1.65s\n",
      "108:\tlearn: 0.0713663\ttotal: 201ms\tremaining: 1.64s\n",
      "109:\tlearn: 0.0703082\ttotal: 203ms\tremaining: 1.64s\n",
      "110:\tlearn: 0.0693962\ttotal: 210ms\tremaining: 1.68s\n",
      "111:\tlearn: 0.0684455\ttotal: 211ms\tremaining: 1.67s\n",
      "112:\tlearn: 0.0675154\ttotal: 212ms\tremaining: 1.66s\n",
      "113:\tlearn: 0.0669022\ttotal: 213ms\tremaining: 1.65s\n",
      "114:\tlearn: 0.0657310\ttotal: 213ms\tremaining: 1.64s\n",
      "115:\tlearn: 0.0646628\ttotal: 214ms\tremaining: 1.63s\n",
      "116:\tlearn: 0.0640049\ttotal: 216ms\tremaining: 1.63s\n",
      "117:\tlearn: 0.0632180\ttotal: 217ms\tremaining: 1.63s\n",
      "118:\tlearn: 0.0622240\ttotal: 219ms\tremaining: 1.62s\n",
      "119:\tlearn: 0.0618217\ttotal: 220ms\tremaining: 1.61s\n",
      "120:\tlearn: 0.0613959\ttotal: 242ms\tremaining: 1.76s\n",
      "121:\tlearn: 0.0606696\ttotal: 244ms\tremaining: 1.75s\n",
      "122:\tlearn: 0.0598502\ttotal: 245ms\tremaining: 1.75s\n",
      "123:\tlearn: 0.0591181\ttotal: 248ms\tremaining: 1.75s\n",
      "124:\tlearn: 0.0584396\ttotal: 248ms\tremaining: 1.74s\n",
      "125:\tlearn: 0.0578983\ttotal: 249ms\tremaining: 1.73s\n",
      "126:\tlearn: 0.0573629\ttotal: 251ms\tremaining: 1.72s\n",
      "127:\tlearn: 0.0567022\ttotal: 257ms\tremaining: 1.75s\n",
      "128:\tlearn: 0.0561877\ttotal: 261ms\tremaining: 1.76s\n"
     ]
    },
    {
     "name": "stdout",
     "output_type": "stream",
     "text": [
      "129:\tlearn: 0.0556575\ttotal: 263ms\tremaining: 1.76s\n",
      "130:\tlearn: 0.0550434\ttotal: 265ms\tremaining: 1.75s\n",
      "131:\tlearn: 0.0546937\ttotal: 267ms\tremaining: 1.75s\n",
      "132:\tlearn: 0.0543649\ttotal: 269ms\tremaining: 1.75s\n",
      "133:\tlearn: 0.0539629\ttotal: 275ms\tremaining: 1.78s\n",
      "134:\tlearn: 0.0536205\ttotal: 277ms\tremaining: 1.77s\n",
      "135:\tlearn: 0.0530812\ttotal: 278ms\tremaining: 1.76s\n",
      "136:\tlearn: 0.0526175\ttotal: 282ms\tremaining: 1.77s\n",
      "137:\tlearn: 0.0521746\ttotal: 290ms\tremaining: 1.81s\n",
      "138:\tlearn: 0.0518385\ttotal: 290ms\tremaining: 1.79s\n",
      "139:\tlearn: 0.0513739\ttotal: 292ms\tremaining: 1.79s\n",
      "140:\tlearn: 0.0509901\ttotal: 292ms\tremaining: 1.78s\n",
      "141:\tlearn: 0.0507433\ttotal: 295ms\tremaining: 1.78s\n",
      "142:\tlearn: 0.0504092\ttotal: 296ms\tremaining: 1.77s\n",
      "143:\tlearn: 0.0501841\ttotal: 298ms\tremaining: 1.77s\n",
      "144:\tlearn: 0.0499414\ttotal: 298ms\tremaining: 1.76s\n",
      "145:\tlearn: 0.0496417\ttotal: 301ms\tremaining: 1.76s\n",
      "146:\tlearn: 0.0493523\ttotal: 302ms\tremaining: 1.75s\n",
      "147:\tlearn: 0.0490447\ttotal: 303ms\tremaining: 1.74s\n",
      "148:\tlearn: 0.0487808\ttotal: 304ms\tremaining: 1.73s\n",
      "149:\tlearn: 0.0484689\ttotal: 308ms\tremaining: 1.74s\n",
      "150:\tlearn: 0.0481756\ttotal: 309ms\tremaining: 1.74s\n",
      "151:\tlearn: 0.0479986\ttotal: 310ms\tremaining: 1.73s\n",
      "152:\tlearn: 0.0477468\ttotal: 311ms\tremaining: 1.72s\n",
      "153:\tlearn: 0.0474391\ttotal: 312ms\tremaining: 1.72s\n",
      "154:\tlearn: 0.0472024\ttotal: 313ms\tremaining: 1.71s\n",
      "155:\tlearn: 0.0469214\ttotal: 313ms\tremaining: 1.7s\n",
      "156:\tlearn: 0.0467308\ttotal: 314ms\tremaining: 1.68s\n",
      "157:\tlearn: 0.0465294\ttotal: 315ms\tremaining: 1.68s\n",
      "158:\tlearn: 0.0462661\ttotal: 322ms\tremaining: 1.7s\n",
      "159:\tlearn: 0.0460444\ttotal: 324ms\tremaining: 1.7s\n",
      "160:\tlearn: 0.0458078\ttotal: 325ms\tremaining: 1.69s\n",
      "161:\tlearn: 0.0454919\ttotal: 328ms\tremaining: 1.7s\n",
      "162:\tlearn: 0.0452923\ttotal: 330ms\tremaining: 1.69s\n",
      "163:\tlearn: 0.0450819\ttotal: 331ms\tremaining: 1.69s\n",
      "164:\tlearn: 0.0448929\ttotal: 331ms\tremaining: 1.68s\n",
      "165:\tlearn: 0.0447362\ttotal: 333ms\tremaining: 1.67s\n",
      "166:\tlearn: 0.0445204\ttotal: 333ms\tremaining: 1.66s\n",
      "167:\tlearn: 0.0443672\ttotal: 334ms\tremaining: 1.66s\n",
      "168:\tlearn: 0.0441833\ttotal: 335ms\tremaining: 1.65s\n",
      "169:\tlearn: 0.0440212\ttotal: 336ms\tremaining: 1.64s\n",
      "170:\tlearn: 0.0438556\ttotal: 337ms\tremaining: 1.64s\n",
      "171:\tlearn: 0.0436011\ttotal: 340ms\tremaining: 1.64s\n",
      "172:\tlearn: 0.0434530\ttotal: 342ms\tremaining: 1.64s\n",
      "173:\tlearn: 0.0432090\ttotal: 343ms\tremaining: 1.63s\n",
      "174:\tlearn: 0.0430776\ttotal: 344ms\tremaining: 1.62s\n",
      "175:\tlearn: 0.0428678\ttotal: 344ms\tremaining: 1.61s\n",
      "176:\tlearn: 0.0427470\ttotal: 345ms\tremaining: 1.6s\n",
      "177:\tlearn: 0.0426160\ttotal: 346ms\tremaining: 1.59s\n",
      "178:\tlearn: 0.0424487\ttotal: 346ms\tremaining: 1.59s\n",
      "179:\tlearn: 0.0423341\ttotal: 347ms\tremaining: 1.58s\n",
      "180:\tlearn: 0.0421905\ttotal: 347ms\tremaining: 1.57s\n",
      "181:\tlearn: 0.0418376\ttotal: 348ms\tremaining: 1.56s\n",
      "182:\tlearn: 0.0417157\ttotal: 348ms\tremaining: 1.55s\n",
      "183:\tlearn: 0.0415832\ttotal: 349ms\tremaining: 1.55s\n",
      "184:\tlearn: 0.0414547\ttotal: 350ms\tremaining: 1.54s\n",
      "185:\tlearn: 0.0412080\ttotal: 351ms\tremaining: 1.53s\n",
      "186:\tlearn: 0.0410964\ttotal: 352ms\tremaining: 1.53s\n",
      "187:\tlearn: 0.0409500\ttotal: 352ms\tremaining: 1.52s\n",
      "188:\tlearn: 0.0407842\ttotal: 353ms\tremaining: 1.51s\n",
      "189:\tlearn: 0.0405385\ttotal: 354ms\tremaining: 1.51s\n",
      "190:\tlearn: 0.0404430\ttotal: 354ms\tremaining: 1.5s\n",
      "191:\tlearn: 0.0403672\ttotal: 354ms\tremaining: 1.49s\n",
      "192:\tlearn: 0.0402499\ttotal: 355ms\tremaining: 1.48s\n",
      "193:\tlearn: 0.0401133\ttotal: 356ms\tremaining: 1.48s\n",
      "194:\tlearn: 0.0399343\ttotal: 356ms\tremaining: 1.47s\n",
      "195:\tlearn: 0.0397114\ttotal: 357ms\tremaining: 1.46s\n",
      "196:\tlearn: 0.0396061\ttotal: 357ms\tremaining: 1.46s\n",
      "197:\tlearn: 0.0394757\ttotal: 357ms\tremaining: 1.45s\n",
      "198:\tlearn: 0.0393324\ttotal: 358ms\tremaining: 1.44s\n",
      "199:\tlearn: 0.0391845\ttotal: 359ms\tremaining: 1.44s\n",
      "200:\tlearn: 0.0390680\ttotal: 359ms\tremaining: 1.43s\n",
      "201:\tlearn: 0.0388544\ttotal: 360ms\tremaining: 1.42s\n",
      "202:\tlearn: 0.0387533\ttotal: 361ms\tremaining: 1.42s\n",
      "203:\tlearn: 0.0386021\ttotal: 361ms\tremaining: 1.41s\n",
      "204:\tlearn: 0.0385039\ttotal: 363ms\tremaining: 1.41s\n",
      "205:\tlearn: 0.0383741\ttotal: 364ms\tremaining: 1.4s\n",
      "206:\tlearn: 0.0382883\ttotal: 364ms\tremaining: 1.4s\n",
      "207:\tlearn: 0.0382052\ttotal: 365ms\tremaining: 1.39s\n",
      "208:\tlearn: 0.0380364\ttotal: 365ms\tremaining: 1.38s\n",
      "209:\tlearn: 0.0379075\ttotal: 366ms\tremaining: 1.38s\n",
      "210:\tlearn: 0.0377523\ttotal: 366ms\tremaining: 1.37s\n",
      "211:\tlearn: 0.0374761\ttotal: 367ms\tremaining: 1.36s\n",
      "212:\tlearn: 0.0373852\ttotal: 368ms\tremaining: 1.36s\n",
      "213:\tlearn: 0.0372626\ttotal: 369ms\tremaining: 1.35s\n",
      "214:\tlearn: 0.0371536\ttotal: 370ms\tremaining: 1.35s\n",
      "215:\tlearn: 0.0370726\ttotal: 371ms\tremaining: 1.35s\n",
      "216:\tlearn: 0.0369763\ttotal: 372ms\tremaining: 1.34s\n",
      "217:\tlearn: 0.0368598\ttotal: 372ms\tremaining: 1.33s\n",
      "218:\tlearn: 0.0366973\ttotal: 373ms\tremaining: 1.33s\n",
      "219:\tlearn: 0.0366085\ttotal: 375ms\tremaining: 1.33s\n",
      "220:\tlearn: 0.0364711\ttotal: 376ms\tremaining: 1.32s\n",
      "221:\tlearn: 0.0363799\ttotal: 376ms\tremaining: 1.32s\n",
      "222:\tlearn: 0.0362829\ttotal: 377ms\tremaining: 1.31s\n",
      "223:\tlearn: 0.0360102\ttotal: 377ms\tremaining: 1.31s\n",
      "224:\tlearn: 0.0359445\ttotal: 378ms\tremaining: 1.3s\n",
      "225:\tlearn: 0.0356877\ttotal: 379ms\tremaining: 1.3s\n",
      "226:\tlearn: 0.0355549\ttotal: 379ms\tremaining: 1.29s\n",
      "227:\tlearn: 0.0354398\ttotal: 380ms\tremaining: 1.28s\n",
      "228:\tlearn: 0.0353043\ttotal: 380ms\tremaining: 1.28s\n",
      "229:\tlearn: 0.0350936\ttotal: 381ms\tremaining: 1.28s\n",
      "230:\tlearn: 0.0348655\ttotal: 382ms\tremaining: 1.27s\n",
      "231:\tlearn: 0.0347690\ttotal: 383ms\tremaining: 1.27s\n",
      "232:\tlearn: 0.0346539\ttotal: 383ms\tremaining: 1.26s\n",
      "233:\tlearn: 0.0345683\ttotal: 384ms\tremaining: 1.26s\n",
      "234:\tlearn: 0.0343972\ttotal: 385ms\tremaining: 1.25s\n",
      "235:\tlearn: 0.0341991\ttotal: 385ms\tremaining: 1.25s\n",
      "236:\tlearn: 0.0341209\ttotal: 386ms\tremaining: 1.24s\n",
      "237:\tlearn: 0.0340690\ttotal: 386ms\tremaining: 1.24s\n",
      "238:\tlearn: 0.0339447\ttotal: 387ms\tremaining: 1.23s\n",
      "239:\tlearn: 0.0338457\ttotal: 388ms\tremaining: 1.23s\n",
      "240:\tlearn: 0.0337441\ttotal: 389ms\tremaining: 1.22s\n",
      "241:\tlearn: 0.0336497\ttotal: 389ms\tremaining: 1.22s\n",
      "242:\tlearn: 0.0335452\ttotal: 390ms\tremaining: 1.21s\n",
      "243:\tlearn: 0.0334493\ttotal: 390ms\tremaining: 1.21s\n",
      "244:\tlearn: 0.0333580\ttotal: 391ms\tremaining: 1.2s\n",
      "245:\tlearn: 0.0332748\ttotal: 392ms\tremaining: 1.2s\n",
      "246:\tlearn: 0.0331764\ttotal: 392ms\tremaining: 1.2s\n",
      "247:\tlearn: 0.0330082\ttotal: 393ms\tremaining: 1.19s\n",
      "248:\tlearn: 0.0329151\ttotal: 393ms\tremaining: 1.19s\n",
      "249:\tlearn: 0.0327830\ttotal: 394ms\tremaining: 1.18s\n",
      "250:\tlearn: 0.0327039\ttotal: 395ms\tremaining: 1.18s\n",
      "251:\tlearn: 0.0325387\ttotal: 395ms\tremaining: 1.17s\n",
      "252:\tlearn: 0.0324764\ttotal: 397ms\tremaining: 1.17s\n",
      "253:\tlearn: 0.0323855\ttotal: 398ms\tremaining: 1.17s\n",
      "254:\tlearn: 0.0323008\ttotal: 398ms\tremaining: 1.16s\n",
      "255:\tlearn: 0.0321962\ttotal: 399ms\tremaining: 1.16s\n",
      "256:\tlearn: 0.0321113\ttotal: 400ms\tremaining: 1.16s\n",
      "257:\tlearn: 0.0320696\ttotal: 400ms\tremaining: 1.15s\n",
      "258:\tlearn: 0.0319689\ttotal: 401ms\tremaining: 1.15s\n",
      "259:\tlearn: 0.0319034\ttotal: 401ms\tremaining: 1.14s\n",
      "260:\tlearn: 0.0318058\ttotal: 402ms\tremaining: 1.14s\n",
      "261:\tlearn: 0.0317504\ttotal: 402ms\tremaining: 1.13s\n",
      "262:\tlearn: 0.0316187\ttotal: 402ms\tremaining: 1.13s\n",
      "263:\tlearn: 0.0315271\ttotal: 403ms\tremaining: 1.12s\n"
     ]
    },
    {
     "name": "stdout",
     "output_type": "stream",
     "text": [
      "264:\tlearn: 0.0313724\ttotal: 404ms\tremaining: 1.12s\n",
      "265:\tlearn: 0.0312599\ttotal: 405ms\tremaining: 1.12s\n",
      "266:\tlearn: 0.0311397\ttotal: 409ms\tremaining: 1.12s\n",
      "267:\tlearn: 0.0310534\ttotal: 409ms\tremaining: 1.12s\n",
      "268:\tlearn: 0.0309795\ttotal: 410ms\tremaining: 1.11s\n",
      "269:\tlearn: 0.0309443\ttotal: 411ms\tremaining: 1.11s\n",
      "270:\tlearn: 0.0308406\ttotal: 412ms\tremaining: 1.11s\n",
      "271:\tlearn: 0.0306920\ttotal: 412ms\tremaining: 1.1s\n",
      "272:\tlearn: 0.0305944\ttotal: 413ms\tremaining: 1.1s\n",
      "273:\tlearn: 0.0304651\ttotal: 414ms\tremaining: 1.09s\n",
      "274:\tlearn: 0.0303388\ttotal: 414ms\tremaining: 1.09s\n",
      "275:\tlearn: 0.0303043\ttotal: 415ms\tremaining: 1.09s\n",
      "276:\tlearn: 0.0302145\ttotal: 415ms\tremaining: 1.08s\n",
      "277:\tlearn: 0.0301655\ttotal: 416ms\tremaining: 1.08s\n",
      "278:\tlearn: 0.0300853\ttotal: 416ms\tremaining: 1.08s\n",
      "279:\tlearn: 0.0300147\ttotal: 421ms\tremaining: 1.08s\n",
      "280:\tlearn: 0.0299350\ttotal: 421ms\tremaining: 1.08s\n",
      "281:\tlearn: 0.0298196\ttotal: 421ms\tremaining: 1.07s\n",
      "282:\tlearn: 0.0297412\ttotal: 422ms\tremaining: 1.07s\n",
      "283:\tlearn: 0.0296080\ttotal: 423ms\tremaining: 1.06s\n",
      "284:\tlearn: 0.0295059\ttotal: 428ms\tremaining: 1.07s\n",
      "285:\tlearn: 0.0294603\ttotal: 429ms\tremaining: 1.07s\n",
      "286:\tlearn: 0.0294062\ttotal: 430ms\tremaining: 1.07s\n",
      "287:\tlearn: 0.0293322\ttotal: 432ms\tremaining: 1.07s\n",
      "288:\tlearn: 0.0292264\ttotal: 433ms\tremaining: 1.06s\n",
      "289:\tlearn: 0.0291855\ttotal: 434ms\tremaining: 1.06s\n",
      "290:\tlearn: 0.0291507\ttotal: 434ms\tremaining: 1.06s\n",
      "291:\tlearn: 0.0290771\ttotal: 435ms\tremaining: 1.05s\n",
      "292:\tlearn: 0.0289944\ttotal: 435ms\tremaining: 1.05s\n",
      "293:\tlearn: 0.0288883\ttotal: 437ms\tremaining: 1.05s\n",
      "294:\tlearn: 0.0288123\ttotal: 437ms\tremaining: 1.04s\n",
      "295:\tlearn: 0.0287432\ttotal: 438ms\tremaining: 1.04s\n",
      "296:\tlearn: 0.0286633\ttotal: 439ms\tremaining: 1.04s\n",
      "297:\tlearn: 0.0285751\ttotal: 439ms\tremaining: 1.03s\n",
      "298:\tlearn: 0.0284397\ttotal: 440ms\tremaining: 1.03s\n",
      "299:\tlearn: 0.0283742\ttotal: 440ms\tremaining: 1.03s\n",
      "300:\tlearn: 0.0283064\ttotal: 441ms\tremaining: 1.02s\n",
      "301:\tlearn: 0.0282107\ttotal: 442ms\tremaining: 1.02s\n",
      "302:\tlearn: 0.0281272\ttotal: 442ms\tremaining: 1.02s\n",
      "303:\tlearn: 0.0280025\ttotal: 443ms\tremaining: 1.01s\n",
      "304:\tlearn: 0.0279019\ttotal: 444ms\tremaining: 1.01s\n",
      "305:\tlearn: 0.0278296\ttotal: 445ms\tremaining: 1.01s\n",
      "306:\tlearn: 0.0277839\ttotal: 445ms\tremaining: 1s\n",
      "307:\tlearn: 0.0277280\ttotal: 446ms\tremaining: 1s\n",
      "308:\tlearn: 0.0276408\ttotal: 447ms\tremaining: 999ms\n",
      "309:\tlearn: 0.0275869\ttotal: 447ms\tremaining: 996ms\n",
      "310:\tlearn: 0.0274952\ttotal: 448ms\tremaining: 993ms\n",
      "311:\tlearn: 0.0274321\ttotal: 449ms\tremaining: 990ms\n",
      "312:\tlearn: 0.0273936\ttotal: 450ms\tremaining: 987ms\n",
      "313:\tlearn: 0.0272814\ttotal: 450ms\tremaining: 984ms\n",
      "314:\tlearn: 0.0272337\ttotal: 451ms\tremaining: 980ms\n",
      "315:\tlearn: 0.0271884\ttotal: 451ms\tremaining: 977ms\n",
      "316:\tlearn: 0.0271240\ttotal: 452ms\tremaining: 974ms\n",
      "317:\tlearn: 0.0270648\ttotal: 452ms\tremaining: 970ms\n",
      "318:\tlearn: 0.0270374\ttotal: 453ms\tremaining: 967ms\n",
      "319:\tlearn: 0.0269930\ttotal: 453ms\tremaining: 963ms\n",
      "320:\tlearn: 0.0269385\ttotal: 455ms\tremaining: 961ms\n",
      "321:\tlearn: 0.0268833\ttotal: 456ms\tremaining: 960ms\n",
      "322:\tlearn: 0.0268215\ttotal: 457ms\tremaining: 958ms\n",
      "323:\tlearn: 0.0267290\ttotal: 458ms\tremaining: 955ms\n",
      "324:\tlearn: 0.0266818\ttotal: 459ms\tremaining: 953ms\n",
      "325:\tlearn: 0.0266360\ttotal: 459ms\tremaining: 950ms\n",
      "326:\tlearn: 0.0266004\ttotal: 460ms\tremaining: 947ms\n",
      "327:\tlearn: 0.0265423\ttotal: 460ms\tremaining: 943ms\n",
      "328:\tlearn: 0.0264794\ttotal: 462ms\tremaining: 942ms\n",
      "329:\tlearn: 0.0264020\ttotal: 463ms\tremaining: 940ms\n",
      "330:\tlearn: 0.0263621\ttotal: 463ms\tremaining: 937ms\n",
      "331:\tlearn: 0.0262650\ttotal: 464ms\tremaining: 934ms\n",
      "332:\tlearn: 0.0262142\ttotal: 464ms\tremaining: 930ms\n",
      "333:\tlearn: 0.0261639\ttotal: 465ms\tremaining: 927ms\n",
      "334:\tlearn: 0.0261129\ttotal: 466ms\tremaining: 924ms\n",
      "335:\tlearn: 0.0260529\ttotal: 466ms\tremaining: 921ms\n",
      "336:\tlearn: 0.0260335\ttotal: 467ms\tremaining: 919ms\n",
      "337:\tlearn: 0.0259696\ttotal: 468ms\tremaining: 916ms\n",
      "338:\tlearn: 0.0259106\ttotal: 468ms\tremaining: 913ms\n",
      "339:\tlearn: 0.0258569\ttotal: 469ms\tremaining: 910ms\n",
      "340:\tlearn: 0.0257731\ttotal: 470ms\tremaining: 908ms\n",
      "341:\tlearn: 0.0256965\ttotal: 470ms\tremaining: 905ms\n",
      "342:\tlearn: 0.0256372\ttotal: 471ms\tremaining: 902ms\n",
      "343:\tlearn: 0.0255822\ttotal: 471ms\tremaining: 899ms\n",
      "344:\tlearn: 0.0255167\ttotal: 472ms\tremaining: 896ms\n",
      "345:\tlearn: 0.0254742\ttotal: 472ms\tremaining: 892ms\n",
      "346:\tlearn: 0.0253922\ttotal: 472ms\tremaining: 889ms\n",
      "347:\tlearn: 0.0253679\ttotal: 473ms\tremaining: 887ms\n",
      "348:\tlearn: 0.0253321\ttotal: 475ms\tremaining: 887ms\n",
      "349:\tlearn: 0.0252846\ttotal: 476ms\tremaining: 884ms\n",
      "350:\tlearn: 0.0252503\ttotal: 477ms\tremaining: 881ms\n",
      "351:\tlearn: 0.0252003\ttotal: 477ms\tremaining: 879ms\n",
      "352:\tlearn: 0.0251696\ttotal: 478ms\tremaining: 876ms\n",
      "353:\tlearn: 0.0251193\ttotal: 479ms\tremaining: 873ms\n",
      "354:\tlearn: 0.0250979\ttotal: 480ms\tremaining: 872ms\n",
      "355:\tlearn: 0.0250532\ttotal: 481ms\tremaining: 870ms\n",
      "356:\tlearn: 0.0250147\ttotal: 481ms\tremaining: 867ms\n",
      "357:\tlearn: 0.0249671\ttotal: 482ms\tremaining: 864ms\n",
      "358:\tlearn: 0.0248942\ttotal: 484ms\tremaining: 863ms\n",
      "359:\tlearn: 0.0248531\ttotal: 484ms\tremaining: 860ms\n",
      "360:\tlearn: 0.0248144\ttotal: 485ms\tremaining: 858ms\n",
      "361:\tlearn: 0.0247613\ttotal: 485ms\tremaining: 855ms\n",
      "362:\tlearn: 0.0247159\ttotal: 487ms\tremaining: 854ms\n",
      "363:\tlearn: 0.0246712\ttotal: 487ms\tremaining: 851ms\n",
      "364:\tlearn: 0.0246064\ttotal: 487ms\tremaining: 848ms\n",
      "365:\tlearn: 0.0245617\ttotal: 488ms\tremaining: 845ms\n",
      "366:\tlearn: 0.0245270\ttotal: 488ms\tremaining: 842ms\n",
      "367:\tlearn: 0.0244864\ttotal: 489ms\tremaining: 840ms\n",
      "368:\tlearn: 0.0244290\ttotal: 490ms\tremaining: 837ms\n",
      "369:\tlearn: 0.0243939\ttotal: 490ms\tremaining: 834ms\n",
      "370:\tlearn: 0.0243499\ttotal: 491ms\tremaining: 832ms\n",
      "371:\tlearn: 0.0243205\ttotal: 491ms\tremaining: 830ms\n",
      "372:\tlearn: 0.0242648\ttotal: 492ms\tremaining: 827ms\n",
      "373:\tlearn: 0.0242266\ttotal: 493ms\tremaining: 824ms\n",
      "374:\tlearn: 0.0241859\ttotal: 493ms\tremaining: 822ms\n",
      "375:\tlearn: 0.0241426\ttotal: 493ms\tremaining: 819ms\n",
      "376:\tlearn: 0.0241014\ttotal: 494ms\tremaining: 816ms\n",
      "377:\tlearn: 0.0240683\ttotal: 494ms\tremaining: 813ms\n",
      "378:\tlearn: 0.0240010\ttotal: 495ms\tremaining: 811ms\n",
      "379:\tlearn: 0.0239601\ttotal: 495ms\tremaining: 808ms\n",
      "380:\tlearn: 0.0239214\ttotal: 495ms\tremaining: 805ms\n",
      "381:\tlearn: 0.0238728\ttotal: 496ms\tremaining: 802ms\n",
      "382:\tlearn: 0.0238461\ttotal: 496ms\tremaining: 800ms\n",
      "383:\tlearn: 0.0238104\ttotal: 497ms\tremaining: 797ms\n",
      "384:\tlearn: 0.0237503\ttotal: 498ms\tremaining: 795ms\n",
      "385:\tlearn: 0.0237129\ttotal: 499ms\tremaining: 793ms\n",
      "386:\tlearn: 0.0236626\ttotal: 499ms\tremaining: 790ms\n",
      "387:\tlearn: 0.0236274\ttotal: 499ms\tremaining: 788ms\n",
      "388:\tlearn: 0.0235873\ttotal: 500ms\tremaining: 785ms\n",
      "389:\tlearn: 0.0235544\ttotal: 500ms\tremaining: 782ms\n",
      "390:\tlearn: 0.0235205\ttotal: 501ms\tremaining: 780ms\n",
      "391:\tlearn: 0.0234924\ttotal: 501ms\tremaining: 778ms\n",
      "392:\tlearn: 0.0234541\ttotal: 502ms\tremaining: 775ms\n",
      "393:\tlearn: 0.0234168\ttotal: 503ms\tremaining: 773ms\n",
      "394:\tlearn: 0.0233878\ttotal: 505ms\tremaining: 773ms\n",
      "395:\tlearn: 0.0233325\ttotal: 505ms\tremaining: 771ms\n",
      "396:\tlearn: 0.0233083\ttotal: 506ms\tremaining: 768ms\n",
      "397:\tlearn: 0.0232672\ttotal: 506ms\tremaining: 765ms\n",
      "398:\tlearn: 0.0232274\ttotal: 506ms\tremaining: 762ms\n",
      "399:\tlearn: 0.0231810\ttotal: 506ms\tremaining: 759ms\n",
      "400:\tlearn: 0.0231522\ttotal: 507ms\tremaining: 758ms\n",
      "401:\tlearn: 0.0231128\ttotal: 508ms\tremaining: 755ms\n",
      "402:\tlearn: 0.0230813\ttotal: 508ms\tremaining: 753ms\n",
      "403:\tlearn: 0.0230546\ttotal: 509ms\tremaining: 751ms\n",
      "404:\tlearn: 0.0230210\ttotal: 510ms\tremaining: 749ms\n",
      "405:\tlearn: 0.0229911\ttotal: 510ms\tremaining: 746ms\n",
      "406:\tlearn: 0.0229457\ttotal: 511ms\tremaining: 745ms\n",
      "407:\tlearn: 0.0229010\ttotal: 512ms\tremaining: 742ms\n",
      "408:\tlearn: 0.0228523\ttotal: 512ms\tremaining: 740ms\n",
      "409:\tlearn: 0.0228181\ttotal: 513ms\tremaining: 738ms\n",
      "410:\tlearn: 0.0228010\ttotal: 513ms\tremaining: 735ms\n",
      "411:\tlearn: 0.0227762\ttotal: 513ms\tremaining: 733ms\n",
      "412:\tlearn: 0.0227438\ttotal: 514ms\tremaining: 730ms\n",
      "413:\tlearn: 0.0227118\ttotal: 515ms\tremaining: 729ms\n",
      "414:\tlearn: 0.0226772\ttotal: 515ms\tremaining: 726ms\n",
      "415:\tlearn: 0.0226571\ttotal: 516ms\tremaining: 724ms\n",
      "416:\tlearn: 0.0225892\ttotal: 517ms\tremaining: 722ms\n",
      "417:\tlearn: 0.0225574\ttotal: 517ms\tremaining: 720ms\n",
      "418:\tlearn: 0.0225332\ttotal: 517ms\tremaining: 717ms\n",
      "419:\tlearn: 0.0224815\ttotal: 518ms\tremaining: 715ms\n",
      "420:\tlearn: 0.0224212\ttotal: 518ms\tremaining: 713ms\n",
      "421:\tlearn: 0.0223747\ttotal: 519ms\tremaining: 712ms\n",
      "422:\tlearn: 0.0223171\ttotal: 521ms\tremaining: 710ms\n",
      "423:\tlearn: 0.0222567\ttotal: 521ms\tremaining: 708ms\n",
      "424:\tlearn: 0.0222000\ttotal: 522ms\tremaining: 706ms\n",
      "425:\tlearn: 0.0221725\ttotal: 523ms\tremaining: 705ms\n",
      "426:\tlearn: 0.0221433\ttotal: 524ms\tremaining: 703ms\n",
      "427:\tlearn: 0.0221125\ttotal: 524ms\tremaining: 701ms\n",
      "428:\tlearn: 0.0220801\ttotal: 525ms\tremaining: 699ms\n",
      "429:\tlearn: 0.0220200\ttotal: 526ms\tremaining: 697ms\n",
      "430:\tlearn: 0.0219893\ttotal: 527ms\tremaining: 695ms\n",
      "431:\tlearn: 0.0219596\ttotal: 527ms\tremaining: 693ms\n",
      "432:\tlearn: 0.0219064\ttotal: 528ms\tremaining: 691ms\n",
      "433:\tlearn: 0.0218639\ttotal: 528ms\tremaining: 689ms\n",
      "434:\tlearn: 0.0218226\ttotal: 528ms\tremaining: 686ms\n",
      "435:\tlearn: 0.0217914\ttotal: 544ms\tremaining: 704ms\n",
      "436:\tlearn: 0.0217677\ttotal: 545ms\tremaining: 702ms\n",
      "437:\tlearn: 0.0217421\ttotal: 546ms\tremaining: 701ms\n",
      "438:\tlearn: 0.0217148\ttotal: 547ms\tremaining: 699ms\n",
      "439:\tlearn: 0.0216914\ttotal: 548ms\tremaining: 697ms\n",
      "440:\tlearn: 0.0216767\ttotal: 549ms\tremaining: 695ms\n",
      "441:\tlearn: 0.0216231\ttotal: 550ms\tremaining: 695ms\n",
      "442:\tlearn: 0.0215868\ttotal: 551ms\tremaining: 693ms\n",
      "443:\tlearn: 0.0215553\ttotal: 551ms\tremaining: 690ms\n",
      "444:\tlearn: 0.0215226\ttotal: 552ms\tremaining: 688ms\n",
      "445:\tlearn: 0.0214983\ttotal: 555ms\tremaining: 689ms\n",
      "446:\tlearn: 0.0214683\ttotal: 555ms\tremaining: 687ms\n",
      "447:\tlearn: 0.0214354\ttotal: 556ms\tremaining: 685ms\n",
      "448:\tlearn: 0.0214083\ttotal: 556ms\tremaining: 682ms\n",
      "449:\tlearn: 0.0213795\ttotal: 557ms\tremaining: 680ms\n",
      "450:\tlearn: 0.0213294\ttotal: 557ms\tremaining: 678ms\n",
      "451:\tlearn: 0.0212830\ttotal: 558ms\tremaining: 676ms\n",
      "452:\tlearn: 0.0212518\ttotal: 558ms\tremaining: 674ms\n"
     ]
    },
    {
     "name": "stdout",
     "output_type": "stream",
     "text": [
      "453:\tlearn: 0.0212060\ttotal: 561ms\tremaining: 674ms\n",
      "454:\tlearn: 0.0211785\ttotal: 563ms\tremaining: 674ms\n",
      "455:\tlearn: 0.0211487\ttotal: 564ms\tremaining: 673ms\n",
      "456:\tlearn: 0.0211239\ttotal: 564ms\tremaining: 671ms\n",
      "457:\tlearn: 0.0210802\ttotal: 565ms\tremaining: 669ms\n",
      "458:\tlearn: 0.0210450\ttotal: 565ms\tremaining: 667ms\n",
      "459:\tlearn: 0.0210285\ttotal: 566ms\tremaining: 664ms\n",
      "460:\tlearn: 0.0210021\ttotal: 566ms\tremaining: 662ms\n",
      "461:\tlearn: 0.0209666\ttotal: 567ms\tremaining: 660ms\n",
      "462:\tlearn: 0.0209203\ttotal: 567ms\tremaining: 658ms\n",
      "463:\tlearn: 0.0208920\ttotal: 567ms\tremaining: 655ms\n",
      "464:\tlearn: 0.0208483\ttotal: 568ms\tremaining: 653ms\n",
      "465:\tlearn: 0.0208250\ttotal: 569ms\tremaining: 652ms\n",
      "466:\tlearn: 0.0207977\ttotal: 570ms\tremaining: 651ms\n",
      "467:\tlearn: 0.0207845\ttotal: 571ms\tremaining: 649ms\n",
      "468:\tlearn: 0.0207621\ttotal: 573ms\tremaining: 648ms\n",
      "469:\tlearn: 0.0207341\ttotal: 573ms\tremaining: 647ms\n",
      "470:\tlearn: 0.0206994\ttotal: 574ms\tremaining: 645ms\n",
      "471:\tlearn: 0.0206707\ttotal: 575ms\tremaining: 644ms\n",
      "472:\tlearn: 0.0206541\ttotal: 576ms\tremaining: 642ms\n",
      "473:\tlearn: 0.0206342\ttotal: 577ms\tremaining: 640ms\n",
      "474:\tlearn: 0.0205934\ttotal: 579ms\tremaining: 640ms\n",
      "475:\tlearn: 0.0205652\ttotal: 580ms\tremaining: 638ms\n",
      "476:\tlearn: 0.0205466\ttotal: 580ms\tremaining: 636ms\n",
      "477:\tlearn: 0.0205173\ttotal: 580ms\tremaining: 634ms\n",
      "478:\tlearn: 0.0204754\ttotal: 581ms\tremaining: 632ms\n",
      "479:\tlearn: 0.0204507\ttotal: 581ms\tremaining: 630ms\n",
      "480:\tlearn: 0.0204365\ttotal: 582ms\tremaining: 628ms\n",
      "481:\tlearn: 0.0204112\ttotal: 582ms\tremaining: 626ms\n",
      "482:\tlearn: 0.0203985\ttotal: 583ms\tremaining: 624ms\n",
      "483:\tlearn: 0.0203790\ttotal: 584ms\tremaining: 622ms\n",
      "484:\tlearn: 0.0203447\ttotal: 585ms\tremaining: 621ms\n",
      "485:\tlearn: 0.0203210\ttotal: 586ms\tremaining: 619ms\n",
      "486:\tlearn: 0.0203078\ttotal: 586ms\tremaining: 617ms\n",
      "487:\tlearn: 0.0202796\ttotal: 586ms\tremaining: 615ms\n",
      "488:\tlearn: 0.0202607\ttotal: 588ms\tremaining: 615ms\n",
      "489:\tlearn: 0.0202365\ttotal: 588ms\tremaining: 612ms\n",
      "490:\tlearn: 0.0202004\ttotal: 589ms\tremaining: 611ms\n",
      "491:\tlearn: 0.0201744\ttotal: 590ms\tremaining: 609ms\n",
      "492:\tlearn: 0.0201463\ttotal: 590ms\tremaining: 607ms\n",
      "493:\tlearn: 0.0201281\ttotal: 591ms\tremaining: 605ms\n",
      "494:\tlearn: 0.0201115\ttotal: 591ms\tremaining: 603ms\n",
      "495:\tlearn: 0.0200946\ttotal: 591ms\tremaining: 601ms\n",
      "496:\tlearn: 0.0200535\ttotal: 592ms\tremaining: 599ms\n",
      "497:\tlearn: 0.0200308\ttotal: 593ms\tremaining: 598ms\n",
      "498:\tlearn: 0.0200080\ttotal: 594ms\tremaining: 596ms\n",
      "499:\tlearn: 0.0199729\ttotal: 594ms\tremaining: 594ms\n",
      "500:\tlearn: 0.0199500\ttotal: 595ms\tremaining: 592ms\n",
      "501:\tlearn: 0.0199305\ttotal: 596ms\tremaining: 591ms\n",
      "502:\tlearn: 0.0198916\ttotal: 597ms\tremaining: 590ms\n",
      "503:\tlearn: 0.0198666\ttotal: 598ms\tremaining: 589ms\n",
      "504:\tlearn: 0.0198433\ttotal: 599ms\tremaining: 588ms\n",
      "505:\tlearn: 0.0198180\ttotal: 600ms\tremaining: 586ms\n",
      "506:\tlearn: 0.0197950\ttotal: 601ms\tremaining: 584ms\n",
      "507:\tlearn: 0.0197717\ttotal: 601ms\tremaining: 582ms\n",
      "508:\tlearn: 0.0197473\ttotal: 603ms\tremaining: 581ms\n",
      "509:\tlearn: 0.0197030\ttotal: 603ms\tremaining: 579ms\n",
      "510:\tlearn: 0.0196873\ttotal: 603ms\tremaining: 577ms\n",
      "511:\tlearn: 0.0196528\ttotal: 604ms\tremaining: 575ms\n",
      "512:\tlearn: 0.0196210\ttotal: 604ms\tremaining: 574ms\n",
      "513:\tlearn: 0.0195903\ttotal: 604ms\tremaining: 572ms\n",
      "514:\tlearn: 0.0195708\ttotal: 605ms\tremaining: 569ms\n",
      "515:\tlearn: 0.0195512\ttotal: 605ms\tremaining: 567ms\n",
      "516:\tlearn: 0.0195287\ttotal: 605ms\tremaining: 566ms\n",
      "517:\tlearn: 0.0194835\ttotal: 606ms\tremaining: 564ms\n",
      "518:\tlearn: 0.0194459\ttotal: 606ms\tremaining: 562ms\n",
      "519:\tlearn: 0.0194207\ttotal: 607ms\tremaining: 561ms\n",
      "520:\tlearn: 0.0193968\ttotal: 608ms\tremaining: 559ms\n",
      "521:\tlearn: 0.0193695\ttotal: 609ms\tremaining: 557ms\n",
      "522:\tlearn: 0.0193548\ttotal: 609ms\tremaining: 555ms\n",
      "523:\tlearn: 0.0193380\ttotal: 609ms\tremaining: 553ms\n",
      "524:\tlearn: 0.0193091\ttotal: 610ms\tremaining: 551ms\n",
      "525:\tlearn: 0.0192837\ttotal: 610ms\tremaining: 550ms\n",
      "526:\tlearn: 0.0192538\ttotal: 610ms\tremaining: 548ms\n",
      "527:\tlearn: 0.0192325\ttotal: 612ms\tremaining: 547ms\n",
      "528:\tlearn: 0.0192015\ttotal: 614ms\tremaining: 547ms\n",
      "529:\tlearn: 0.0191770\ttotal: 615ms\tremaining: 546ms\n",
      "530:\tlearn: 0.0191570\ttotal: 617ms\tremaining: 545ms\n",
      "531:\tlearn: 0.0191241\ttotal: 617ms\tremaining: 543ms\n",
      "532:\tlearn: 0.0191008\ttotal: 617ms\tremaining: 541ms\n",
      "533:\tlearn: 0.0190704\ttotal: 617ms\tremaining: 539ms\n",
      "534:\tlearn: 0.0190505\ttotal: 618ms\tremaining: 537ms\n",
      "535:\tlearn: 0.0190393\ttotal: 618ms\tremaining: 535ms\n",
      "536:\tlearn: 0.0190158\ttotal: 621ms\tremaining: 535ms\n",
      "537:\tlearn: 0.0189930\ttotal: 621ms\tremaining: 533ms\n",
      "538:\tlearn: 0.0189741\ttotal: 622ms\tremaining: 532ms\n",
      "539:\tlearn: 0.0189448\ttotal: 623ms\tremaining: 531ms\n",
      "540:\tlearn: 0.0189220\ttotal: 624ms\tremaining: 529ms\n",
      "541:\tlearn: 0.0189029\ttotal: 624ms\tremaining: 527ms\n",
      "542:\tlearn: 0.0188752\ttotal: 628ms\tremaining: 528ms\n",
      "543:\tlearn: 0.0188606\ttotal: 628ms\tremaining: 527ms\n",
      "544:\tlearn: 0.0188513\ttotal: 629ms\tremaining: 525ms\n",
      "545:\tlearn: 0.0188412\ttotal: 629ms\tremaining: 523ms\n",
      "546:\tlearn: 0.0188193\ttotal: 630ms\tremaining: 522ms\n",
      "547:\tlearn: 0.0187902\ttotal: 630ms\tremaining: 520ms\n",
      "548:\tlearn: 0.0187605\ttotal: 631ms\tremaining: 518ms\n",
      "549:\tlearn: 0.0187419\ttotal: 632ms\tremaining: 517ms\n",
      "550:\tlearn: 0.0187215\ttotal: 632ms\tremaining: 515ms\n",
      "551:\tlearn: 0.0186963\ttotal: 633ms\tremaining: 513ms\n",
      "552:\tlearn: 0.0186876\ttotal: 633ms\tremaining: 512ms\n",
      "553:\tlearn: 0.0186742\ttotal: 634ms\tremaining: 510ms\n",
      "554:\tlearn: 0.0186574\ttotal: 634ms\tremaining: 509ms\n",
      "555:\tlearn: 0.0186322\ttotal: 635ms\tremaining: 507ms\n",
      "556:\tlearn: 0.0185951\ttotal: 635ms\tremaining: 505ms\n",
      "557:\tlearn: 0.0185641\ttotal: 636ms\tremaining: 504ms\n",
      "558:\tlearn: 0.0185377\ttotal: 636ms\tremaining: 502ms\n",
      "559:\tlearn: 0.0185110\ttotal: 637ms\tremaining: 500ms\n",
      "560:\tlearn: 0.0184943\ttotal: 638ms\tremaining: 499ms\n",
      "561:\tlearn: 0.0184552\ttotal: 638ms\tremaining: 498ms\n",
      "562:\tlearn: 0.0184295\ttotal: 639ms\tremaining: 496ms\n",
      "563:\tlearn: 0.0184148\ttotal: 640ms\tremaining: 494ms\n",
      "564:\tlearn: 0.0183961\ttotal: 640ms\tremaining: 493ms\n",
      "565:\tlearn: 0.0183789\ttotal: 640ms\tremaining: 491ms\n",
      "566:\tlearn: 0.0183589\ttotal: 640ms\tremaining: 489ms\n",
      "567:\tlearn: 0.0183488\ttotal: 641ms\tremaining: 488ms\n",
      "568:\tlearn: 0.0183320\ttotal: 641ms\tremaining: 486ms\n",
      "569:\tlearn: 0.0183182\ttotal: 642ms\tremaining: 484ms\n",
      "570:\tlearn: 0.0183048\ttotal: 643ms\tremaining: 483ms\n",
      "571:\tlearn: 0.0182817\ttotal: 643ms\tremaining: 481ms\n",
      "572:\tlearn: 0.0182687\ttotal: 644ms\tremaining: 480ms\n",
      "573:\tlearn: 0.0182593\ttotal: 644ms\tremaining: 478ms\n",
      "574:\tlearn: 0.0182334\ttotal: 645ms\tremaining: 477ms\n",
      "575:\tlearn: 0.0182151\ttotal: 645ms\tremaining: 475ms\n",
      "576:\tlearn: 0.0181922\ttotal: 646ms\tremaining: 473ms\n",
      "577:\tlearn: 0.0181776\ttotal: 646ms\tremaining: 472ms\n",
      "578:\tlearn: 0.0181535\ttotal: 647ms\tremaining: 470ms\n",
      "579:\tlearn: 0.0181398\ttotal: 648ms\tremaining: 469ms\n",
      "580:\tlearn: 0.0181301\ttotal: 651ms\tremaining: 470ms\n",
      "581:\tlearn: 0.0181033\ttotal: 651ms\tremaining: 468ms\n",
      "582:\tlearn: 0.0180775\ttotal: 652ms\tremaining: 466ms\n",
      "583:\tlearn: 0.0180437\ttotal: 652ms\tremaining: 464ms\n",
      "584:\tlearn: 0.0180164\ttotal: 652ms\tremaining: 463ms\n",
      "585:\tlearn: 0.0179960\ttotal: 653ms\tremaining: 461ms\n",
      "586:\tlearn: 0.0179731\ttotal: 653ms\tremaining: 460ms\n",
      "587:\tlearn: 0.0179576\ttotal: 654ms\tremaining: 458ms\n",
      "588:\tlearn: 0.0179512\ttotal: 654ms\tremaining: 457ms\n",
      "589:\tlearn: 0.0179419\ttotal: 655ms\tremaining: 455ms\n",
      "590:\tlearn: 0.0179239\ttotal: 656ms\tremaining: 454ms\n",
      "591:\tlearn: 0.0179155\ttotal: 656ms\tremaining: 452ms\n",
      "592:\tlearn: 0.0178792\ttotal: 657ms\tremaining: 451ms\n",
      "593:\tlearn: 0.0178622\ttotal: 657ms\tremaining: 449ms\n",
      "594:\tlearn: 0.0178400\ttotal: 658ms\tremaining: 448ms\n",
      "595:\tlearn: 0.0178301\ttotal: 658ms\tremaining: 446ms\n",
      "596:\tlearn: 0.0178036\ttotal: 659ms\tremaining: 445ms\n",
      "597:\tlearn: 0.0177755\ttotal: 660ms\tremaining: 444ms\n",
      "598:\tlearn: 0.0177652\ttotal: 661ms\tremaining: 442ms\n",
      "599:\tlearn: 0.0177344\ttotal: 661ms\tremaining: 441ms\n",
      "600:\tlearn: 0.0177137\ttotal: 662ms\tremaining: 439ms\n",
      "601:\tlearn: 0.0176983\ttotal: 662ms\tremaining: 438ms\n",
      "602:\tlearn: 0.0176698\ttotal: 663ms\tremaining: 436ms\n",
      "603:\tlearn: 0.0176542\ttotal: 663ms\tremaining: 435ms\n",
      "604:\tlearn: 0.0176193\ttotal: 664ms\tremaining: 433ms\n",
      "605:\tlearn: 0.0176074\ttotal: 664ms\tremaining: 432ms\n",
      "606:\tlearn: 0.0175841\ttotal: 665ms\tremaining: 430ms\n",
      "607:\tlearn: 0.0175629\ttotal: 665ms\tremaining: 429ms\n",
      "608:\tlearn: 0.0175456\ttotal: 666ms\tremaining: 428ms\n",
      "609:\tlearn: 0.0175280\ttotal: 666ms\tremaining: 426ms\n",
      "610:\tlearn: 0.0174969\ttotal: 667ms\tremaining: 425ms\n",
      "611:\tlearn: 0.0174687\ttotal: 667ms\tremaining: 423ms\n",
      "612:\tlearn: 0.0174546\ttotal: 668ms\tremaining: 422ms\n",
      "613:\tlearn: 0.0174361\ttotal: 669ms\tremaining: 420ms\n",
      "614:\tlearn: 0.0174232\ttotal: 669ms\tremaining: 419ms\n",
      "615:\tlearn: 0.0174070\ttotal: 669ms\tremaining: 417ms\n",
      "616:\tlearn: 0.0173943\ttotal: 670ms\tremaining: 416ms\n",
      "617:\tlearn: 0.0173800\ttotal: 671ms\tremaining: 415ms\n",
      "618:\tlearn: 0.0173657\ttotal: 672ms\tremaining: 413ms\n",
      "619:\tlearn: 0.0173519\ttotal: 672ms\tremaining: 412ms\n",
      "620:\tlearn: 0.0173403\ttotal: 672ms\tremaining: 410ms\n",
      "621:\tlearn: 0.0173272\ttotal: 673ms\tremaining: 409ms\n",
      "622:\tlearn: 0.0173126\ttotal: 673ms\tremaining: 408ms\n",
      "623:\tlearn: 0.0172903\ttotal: 674ms\tremaining: 406ms\n",
      "624:\tlearn: 0.0172835\ttotal: 674ms\tremaining: 405ms\n",
      "625:\tlearn: 0.0172709\ttotal: 675ms\tremaining: 403ms\n",
      "626:\tlearn: 0.0172638\ttotal: 675ms\tremaining: 402ms\n",
      "627:\tlearn: 0.0172415\ttotal: 676ms\tremaining: 400ms\n",
      "628:\tlearn: 0.0172314\ttotal: 677ms\tremaining: 399ms\n",
      "629:\tlearn: 0.0172172\ttotal: 678ms\tremaining: 398ms\n",
      "630:\tlearn: 0.0171976\ttotal: 679ms\tremaining: 397ms\n",
      "631:\tlearn: 0.0171796\ttotal: 680ms\tremaining: 396ms\n",
      "632:\tlearn: 0.0171637\ttotal: 680ms\tremaining: 394ms\n",
      "633:\tlearn: 0.0171391\ttotal: 680ms\tremaining: 393ms\n",
      "634:\tlearn: 0.0171273\ttotal: 681ms\tremaining: 391ms\n",
      "635:\tlearn: 0.0171081\ttotal: 681ms\tremaining: 390ms\n",
      "636:\tlearn: 0.0170915\ttotal: 682ms\tremaining: 389ms\n",
      "637:\tlearn: 0.0170810\ttotal: 683ms\tremaining: 387ms\n",
      "638:\tlearn: 0.0170705\ttotal: 685ms\tremaining: 387ms\n",
      "639:\tlearn: 0.0170587\ttotal: 686ms\tremaining: 386ms\n",
      "640:\tlearn: 0.0170379\ttotal: 687ms\tremaining: 384ms\n",
      "641:\tlearn: 0.0170268\ttotal: 687ms\tremaining: 383ms\n",
      "642:\tlearn: 0.0170129\ttotal: 688ms\tremaining: 382ms\n",
      "643:\tlearn: 0.0169941\ttotal: 689ms\tremaining: 381ms\n",
      "644:\tlearn: 0.0169877\ttotal: 689ms\tremaining: 379ms\n",
      "645:\tlearn: 0.0169693\ttotal: 690ms\tremaining: 378ms\n",
      "646:\tlearn: 0.0169565\ttotal: 690ms\tremaining: 377ms\n",
      "647:\tlearn: 0.0169382\ttotal: 691ms\tremaining: 375ms\n",
      "648:\tlearn: 0.0169105\ttotal: 691ms\tremaining: 374ms\n",
      "649:\tlearn: 0.0168924\ttotal: 691ms\tremaining: 372ms\n",
      "650:\tlearn: 0.0168803\ttotal: 692ms\tremaining: 371ms\n",
      "651:\tlearn: 0.0168615\ttotal: 692ms\tremaining: 369ms\n",
      "652:\tlearn: 0.0168479\ttotal: 692ms\tremaining: 368ms\n",
      "653:\tlearn: 0.0168287\ttotal: 693ms\tremaining: 367ms\n",
      "654:\tlearn: 0.0168132\ttotal: 693ms\tremaining: 365ms\n",
      "655:\tlearn: 0.0167956\ttotal: 694ms\tremaining: 364ms\n",
      "656:\tlearn: 0.0167738\ttotal: 695ms\tremaining: 363ms\n",
      "657:\tlearn: 0.0167620\ttotal: 696ms\tremaining: 362ms\n",
      "658:\tlearn: 0.0167450\ttotal: 697ms\tremaining: 361ms\n",
      "659:\tlearn: 0.0167305\ttotal: 698ms\tremaining: 359ms\n",
      "660:\tlearn: 0.0167196\ttotal: 698ms\tremaining: 358ms\n",
      "661:\tlearn: 0.0166996\ttotal: 698ms\tremaining: 357ms\n",
      "662:\tlearn: 0.0166832\ttotal: 699ms\tremaining: 355ms\n",
      "663:\tlearn: 0.0166558\ttotal: 699ms\tremaining: 354ms\n",
      "664:\tlearn: 0.0166509\ttotal: 700ms\tremaining: 353ms\n",
      "665:\tlearn: 0.0166302\ttotal: 701ms\tremaining: 351ms\n",
      "666:\tlearn: 0.0166106\ttotal: 703ms\tremaining: 351ms\n",
      "667:\tlearn: 0.0165879\ttotal: 704ms\tremaining: 350ms\n",
      "668:\tlearn: 0.0165571\ttotal: 704ms\tremaining: 348ms\n",
      "669:\tlearn: 0.0165446\ttotal: 705ms\tremaining: 347ms\n",
      "670:\tlearn: 0.0165256\ttotal: 705ms\tremaining: 346ms\n",
      "671:\tlearn: 0.0164997\ttotal: 706ms\tremaining: 344ms\n",
      "672:\tlearn: 0.0164845\ttotal: 706ms\tremaining: 343ms\n",
      "673:\tlearn: 0.0164687\ttotal: 707ms\tremaining: 342ms\n",
      "674:\tlearn: 0.0164476\ttotal: 708ms\tremaining: 341ms\n"
     ]
    },
    {
     "name": "stdout",
     "output_type": "stream",
     "text": [
      "675:\tlearn: 0.0164320\ttotal: 712ms\tremaining: 341ms\n",
      "676:\tlearn: 0.0164274\ttotal: 713ms\tremaining: 340ms\n",
      "677:\tlearn: 0.0164098\ttotal: 716ms\tremaining: 340ms\n",
      "678:\tlearn: 0.0163767\ttotal: 717ms\tremaining: 339ms\n",
      "679:\tlearn: 0.0163490\ttotal: 717ms\tremaining: 337ms\n",
      "680:\tlearn: 0.0163418\ttotal: 717ms\tremaining: 336ms\n",
      "681:\tlearn: 0.0163342\ttotal: 718ms\tremaining: 335ms\n",
      "682:\tlearn: 0.0163130\ttotal: 718ms\tremaining: 333ms\n",
      "683:\tlearn: 0.0163021\ttotal: 719ms\tremaining: 332ms\n",
      "684:\tlearn: 0.0162786\ttotal: 719ms\tremaining: 331ms\n",
      "685:\tlearn: 0.0162669\ttotal: 720ms\tremaining: 330ms\n",
      "686:\tlearn: 0.0162460\ttotal: 721ms\tremaining: 328ms\n",
      "687:\tlearn: 0.0162369\ttotal: 721ms\tremaining: 327ms\n",
      "688:\tlearn: 0.0162316\ttotal: 722ms\tremaining: 326ms\n",
      "689:\tlearn: 0.0162204\ttotal: 722ms\tremaining: 324ms\n",
      "690:\tlearn: 0.0161942\ttotal: 723ms\tremaining: 323ms\n",
      "691:\tlearn: 0.0161713\ttotal: 724ms\tremaining: 322ms\n",
      "692:\tlearn: 0.0161402\ttotal: 725ms\tremaining: 321ms\n",
      "693:\tlearn: 0.0161156\ttotal: 726ms\tremaining: 320ms\n",
      "694:\tlearn: 0.0161053\ttotal: 728ms\tremaining: 320ms\n",
      "695:\tlearn: 0.0160964\ttotal: 729ms\tremaining: 319ms\n",
      "696:\tlearn: 0.0160736\ttotal: 730ms\tremaining: 317ms\n",
      "697:\tlearn: 0.0160450\ttotal: 731ms\tremaining: 316ms\n",
      "698:\tlearn: 0.0160309\ttotal: 732ms\tremaining: 315ms\n",
      "699:\tlearn: 0.0160117\ttotal: 734ms\tremaining: 315ms\n",
      "700:\tlearn: 0.0159970\ttotal: 739ms\tremaining: 315ms\n",
      "701:\tlearn: 0.0159867\ttotal: 741ms\tremaining: 315ms\n",
      "702:\tlearn: 0.0159756\ttotal: 742ms\tremaining: 313ms\n",
      "703:\tlearn: 0.0159710\ttotal: 743ms\tremaining: 312ms\n",
      "704:\tlearn: 0.0159519\ttotal: 744ms\tremaining: 311ms\n",
      "705:\tlearn: 0.0159408\ttotal: 744ms\tremaining: 310ms\n",
      "706:\tlearn: 0.0159180\ttotal: 746ms\tremaining: 309ms\n",
      "707:\tlearn: 0.0159079\ttotal: 746ms\tremaining: 308ms\n",
      "708:\tlearn: 0.0158992\ttotal: 747ms\tremaining: 307ms\n",
      "709:\tlearn: 0.0158882\ttotal: 748ms\tremaining: 305ms\n",
      "710:\tlearn: 0.0158628\ttotal: 748ms\tremaining: 304ms\n",
      "711:\tlearn: 0.0158528\ttotal: 750ms\tremaining: 303ms\n",
      "712:\tlearn: 0.0158290\ttotal: 751ms\tremaining: 302ms\n",
      "713:\tlearn: 0.0158181\ttotal: 752ms\tremaining: 301ms\n",
      "714:\tlearn: 0.0157940\ttotal: 752ms\tremaining: 300ms\n",
      "715:\tlearn: 0.0157699\ttotal: 753ms\tremaining: 298ms\n",
      "716:\tlearn: 0.0157461\ttotal: 753ms\tremaining: 297ms\n",
      "717:\tlearn: 0.0157277\ttotal: 754ms\tremaining: 296ms\n",
      "718:\tlearn: 0.0157132\ttotal: 754ms\tremaining: 295ms\n",
      "719:\tlearn: 0.0157034\ttotal: 755ms\tremaining: 293ms\n",
      "720:\tlearn: 0.0156889\ttotal: 755ms\tremaining: 292ms\n",
      "721:\tlearn: 0.0156777\ttotal: 755ms\tremaining: 291ms\n",
      "722:\tlearn: 0.0156608\ttotal: 756ms\tremaining: 290ms\n",
      "723:\tlearn: 0.0156554\ttotal: 756ms\tremaining: 288ms\n",
      "724:\tlearn: 0.0156461\ttotal: 757ms\tremaining: 287ms\n",
      "725:\tlearn: 0.0156368\ttotal: 758ms\tremaining: 286ms\n",
      "726:\tlearn: 0.0156253\ttotal: 759ms\tremaining: 285ms\n",
      "727:\tlearn: 0.0156008\ttotal: 759ms\tremaining: 284ms\n",
      "728:\tlearn: 0.0155944\ttotal: 761ms\tremaining: 283ms\n",
      "729:\tlearn: 0.0155736\ttotal: 762ms\tremaining: 282ms\n",
      "730:\tlearn: 0.0155550\ttotal: 763ms\tremaining: 281ms\n",
      "731:\tlearn: 0.0155501\ttotal: 764ms\tremaining: 280ms\n",
      "732:\tlearn: 0.0155384\ttotal: 765ms\tremaining: 279ms\n",
      "733:\tlearn: 0.0155132\ttotal: 767ms\tremaining: 278ms\n",
      "734:\tlearn: 0.0154898\ttotal: 768ms\tremaining: 277ms\n",
      "735:\tlearn: 0.0154740\ttotal: 769ms\tremaining: 276ms\n",
      "736:\tlearn: 0.0154514\ttotal: 769ms\tremaining: 275ms\n",
      "737:\tlearn: 0.0154230\ttotal: 770ms\tremaining: 273ms\n",
      "738:\tlearn: 0.0154154\ttotal: 771ms\tremaining: 272ms\n",
      "739:\tlearn: 0.0154008\ttotal: 772ms\tremaining: 271ms\n",
      "740:\tlearn: 0.0153904\ttotal: 773ms\tremaining: 270ms\n",
      "741:\tlearn: 0.0153751\ttotal: 777ms\tremaining: 270ms\n",
      "742:\tlearn: 0.0153617\ttotal: 778ms\tremaining: 269ms\n",
      "743:\tlearn: 0.0153485\ttotal: 779ms\tremaining: 268ms\n",
      "744:\tlearn: 0.0153266\ttotal: 780ms\tremaining: 267ms\n",
      "745:\tlearn: 0.0153135\ttotal: 781ms\tremaining: 266ms\n",
      "746:\tlearn: 0.0153055\ttotal: 782ms\tremaining: 265ms\n",
      "747:\tlearn: 0.0152967\ttotal: 783ms\tremaining: 264ms\n",
      "748:\tlearn: 0.0152868\ttotal: 784ms\tremaining: 263ms\n",
      "749:\tlearn: 0.0152742\ttotal: 784ms\tremaining: 261ms\n",
      "750:\tlearn: 0.0152552\ttotal: 785ms\tremaining: 260ms\n",
      "751:\tlearn: 0.0152377\ttotal: 785ms\tremaining: 259ms\n",
      "752:\tlearn: 0.0152213\ttotal: 786ms\tremaining: 258ms\n",
      "753:\tlearn: 0.0152092\ttotal: 786ms\tremaining: 257ms\n",
      "754:\tlearn: 0.0151966\ttotal: 787ms\tremaining: 255ms\n",
      "755:\tlearn: 0.0151881\ttotal: 788ms\tremaining: 254ms\n",
      "756:\tlearn: 0.0151739\ttotal: 788ms\tremaining: 253ms\n",
      "757:\tlearn: 0.0151612\ttotal: 789ms\tremaining: 252ms\n",
      "758:\tlearn: 0.0151452\ttotal: 789ms\tremaining: 251ms\n",
      "759:\tlearn: 0.0151340\ttotal: 790ms\tremaining: 249ms\n",
      "760:\tlearn: 0.0151243\ttotal: 790ms\tremaining: 248ms\n",
      "761:\tlearn: 0.0151146\ttotal: 791ms\tremaining: 247ms\n",
      "762:\tlearn: 0.0150932\ttotal: 791ms\tremaining: 246ms\n",
      "763:\tlearn: 0.0150667\ttotal: 792ms\tremaining: 245ms\n",
      "764:\tlearn: 0.0150581\ttotal: 793ms\tremaining: 244ms\n",
      "765:\tlearn: 0.0150498\ttotal: 794ms\tremaining: 242ms\n",
      "766:\tlearn: 0.0150379\ttotal: 794ms\tremaining: 241ms\n",
      "767:\tlearn: 0.0150289\ttotal: 795ms\tremaining: 240ms\n",
      "768:\tlearn: 0.0150043\ttotal: 795ms\tremaining: 239ms\n",
      "769:\tlearn: 0.0149924\ttotal: 795ms\tremaining: 238ms\n",
      "770:\tlearn: 0.0149807\ttotal: 796ms\tremaining: 236ms\n",
      "771:\tlearn: 0.0149739\ttotal: 801ms\tremaining: 236ms\n",
      "772:\tlearn: 0.0149644\ttotal: 802ms\tremaining: 235ms\n",
      "773:\tlearn: 0.0149552\ttotal: 803ms\tremaining: 234ms\n",
      "774:\tlearn: 0.0149457\ttotal: 803ms\tremaining: 233ms\n",
      "775:\tlearn: 0.0149390\ttotal: 805ms\tremaining: 232ms\n",
      "776:\tlearn: 0.0149310\ttotal: 805ms\tremaining: 231ms\n",
      "777:\tlearn: 0.0149111\ttotal: 806ms\tremaining: 230ms\n",
      "778:\tlearn: 0.0148960\ttotal: 807ms\tremaining: 229ms\n",
      "779:\tlearn: 0.0148719\ttotal: 808ms\tremaining: 228ms\n",
      "780:\tlearn: 0.0148643\ttotal: 809ms\tremaining: 227ms\n",
      "781:\tlearn: 0.0148569\ttotal: 810ms\tremaining: 226ms\n",
      "782:\tlearn: 0.0148421\ttotal: 811ms\tremaining: 225ms\n",
      "783:\tlearn: 0.0148362\ttotal: 811ms\tremaining: 224ms\n",
      "784:\tlearn: 0.0148246\ttotal: 813ms\tremaining: 223ms\n",
      "785:\tlearn: 0.0148003\ttotal: 816ms\tremaining: 222ms\n",
      "786:\tlearn: 0.0147957\ttotal: 816ms\tremaining: 221ms\n",
      "787:\tlearn: 0.0147803\ttotal: 817ms\tremaining: 220ms\n",
      "788:\tlearn: 0.0147613\ttotal: 818ms\tremaining: 219ms\n",
      "789:\tlearn: 0.0147516\ttotal: 819ms\tremaining: 218ms\n",
      "790:\tlearn: 0.0147286\ttotal: 820ms\tremaining: 217ms\n",
      "791:\tlearn: 0.0147190\ttotal: 820ms\tremaining: 215ms\n",
      "792:\tlearn: 0.0147055\ttotal: 821ms\tremaining: 214ms\n",
      "793:\tlearn: 0.0147000\ttotal: 821ms\tremaining: 213ms\n",
      "794:\tlearn: 0.0146841\ttotal: 822ms\tremaining: 212ms\n",
      "795:\tlearn: 0.0146753\ttotal: 822ms\tremaining: 211ms\n",
      "796:\tlearn: 0.0146709\ttotal: 823ms\tremaining: 210ms\n",
      "797:\tlearn: 0.0146514\ttotal: 824ms\tremaining: 209ms\n",
      "798:\tlearn: 0.0146446\ttotal: 824ms\tremaining: 207ms\n",
      "799:\tlearn: 0.0146231\ttotal: 825ms\tremaining: 206ms\n",
      "800:\tlearn: 0.0146129\ttotal: 827ms\tremaining: 205ms\n",
      "801:\tlearn: 0.0145992\ttotal: 828ms\tremaining: 204ms\n",
      "802:\tlearn: 0.0145897\ttotal: 829ms\tremaining: 203ms\n",
      "803:\tlearn: 0.0145815\ttotal: 830ms\tremaining: 202ms\n",
      "804:\tlearn: 0.0145666\ttotal: 831ms\tremaining: 201ms\n",
      "805:\tlearn: 0.0145591\ttotal: 832ms\tremaining: 200ms\n",
      "806:\tlearn: 0.0145546\ttotal: 832ms\tremaining: 199ms\n",
      "807:\tlearn: 0.0145341\ttotal: 833ms\tremaining: 198ms\n",
      "808:\tlearn: 0.0145317\ttotal: 834ms\tremaining: 197ms\n",
      "809:\tlearn: 0.0145264\ttotal: 835ms\tremaining: 196ms\n",
      "810:\tlearn: 0.0145180\ttotal: 836ms\tremaining: 195ms\n",
      "811:\tlearn: 0.0145093\ttotal: 837ms\tremaining: 194ms\n",
      "812:\tlearn: 0.0144936\ttotal: 838ms\tremaining: 193ms\n",
      "813:\tlearn: 0.0144792\ttotal: 839ms\tremaining: 192ms\n",
      "814:\tlearn: 0.0144685\ttotal: 841ms\tremaining: 191ms\n",
      "815:\tlearn: 0.0144570\ttotal: 842ms\tremaining: 190ms\n",
      "816:\tlearn: 0.0144476\ttotal: 844ms\tremaining: 189ms\n",
      "817:\tlearn: 0.0144407\ttotal: 845ms\tremaining: 188ms\n",
      "818:\tlearn: 0.0144359\ttotal: 846ms\tremaining: 187ms\n",
      "819:\tlearn: 0.0144310\ttotal: 847ms\tremaining: 186ms\n",
      "820:\tlearn: 0.0144233\ttotal: 848ms\tremaining: 185ms\n",
      "821:\tlearn: 0.0144093\ttotal: 849ms\tremaining: 184ms\n",
      "822:\tlearn: 0.0143939\ttotal: 850ms\tremaining: 183ms\n",
      "823:\tlearn: 0.0143814\ttotal: 850ms\tremaining: 182ms\n",
      "824:\tlearn: 0.0143628\ttotal: 851ms\tremaining: 181ms\n",
      "825:\tlearn: 0.0143540\ttotal: 851ms\tremaining: 179ms\n",
      "826:\tlearn: 0.0143431\ttotal: 852ms\tremaining: 178ms\n",
      "827:\tlearn: 0.0143356\ttotal: 853ms\tremaining: 177ms\n",
      "828:\tlearn: 0.0143284\ttotal: 853ms\tremaining: 176ms\n",
      "829:\tlearn: 0.0143068\ttotal: 854ms\tremaining: 175ms\n",
      "830:\tlearn: 0.0142981\ttotal: 854ms\tremaining: 174ms\n",
      "831:\tlearn: 0.0142837\ttotal: 855ms\tremaining: 173ms\n",
      "832:\tlearn: 0.0142582\ttotal: 856ms\tremaining: 172ms\n",
      "833:\tlearn: 0.0142536\ttotal: 857ms\tremaining: 171ms\n",
      "834:\tlearn: 0.0142293\ttotal: 857ms\tremaining: 169ms\n",
      "835:\tlearn: 0.0142168\ttotal: 858ms\tremaining: 168ms\n",
      "836:\tlearn: 0.0142051\ttotal: 858ms\tremaining: 167ms\n",
      "837:\tlearn: 0.0141946\ttotal: 859ms\tremaining: 166ms\n",
      "838:\tlearn: 0.0141837\ttotal: 859ms\tremaining: 165ms\n"
     ]
    },
    {
     "name": "stdout",
     "output_type": "stream",
     "text": [
      "839:\tlearn: 0.0141708\ttotal: 862ms\tremaining: 164ms\n",
      "840:\tlearn: 0.0141602\ttotal: 863ms\tremaining: 163ms\n",
      "841:\tlearn: 0.0141550\ttotal: 864ms\tremaining: 162ms\n",
      "842:\tlearn: 0.0141464\ttotal: 865ms\tremaining: 161ms\n",
      "843:\tlearn: 0.0141348\ttotal: 865ms\tremaining: 160ms\n",
      "844:\tlearn: 0.0141247\ttotal: 866ms\tremaining: 159ms\n",
      "845:\tlearn: 0.0141074\ttotal: 866ms\tremaining: 158ms\n",
      "846:\tlearn: 0.0140901\ttotal: 867ms\tremaining: 157ms\n",
      "847:\tlearn: 0.0140800\ttotal: 867ms\tremaining: 155ms\n",
      "848:\tlearn: 0.0140719\ttotal: 868ms\tremaining: 154ms\n",
      "849:\tlearn: 0.0140601\ttotal: 869ms\tremaining: 153ms\n",
      "850:\tlearn: 0.0140480\ttotal: 870ms\tremaining: 152ms\n",
      "851:\tlearn: 0.0140359\ttotal: 871ms\tremaining: 151ms\n",
      "852:\tlearn: 0.0140250\ttotal: 871ms\tremaining: 150ms\n",
      "853:\tlearn: 0.0140081\ttotal: 872ms\tremaining: 149ms\n",
      "854:\tlearn: 0.0140039\ttotal: 873ms\tremaining: 148ms\n",
      "855:\tlearn: 0.0139849\ttotal: 873ms\tremaining: 147ms\n",
      "856:\tlearn: 0.0139751\ttotal: 873ms\tremaining: 146ms\n",
      "857:\tlearn: 0.0139684\ttotal: 874ms\tremaining: 145ms\n",
      "858:\tlearn: 0.0139618\ttotal: 875ms\tremaining: 144ms\n",
      "859:\tlearn: 0.0139449\ttotal: 876ms\tremaining: 143ms\n",
      "860:\tlearn: 0.0139328\ttotal: 876ms\tremaining: 141ms\n",
      "861:\tlearn: 0.0139235\ttotal: 877ms\tremaining: 140ms\n",
      "862:\tlearn: 0.0139171\ttotal: 877ms\tremaining: 139ms\n",
      "863:\tlearn: 0.0139081\ttotal: 878ms\tremaining: 138ms\n",
      "864:\tlearn: 0.0139021\ttotal: 878ms\tremaining: 137ms\n",
      "865:\tlearn: 0.0138945\ttotal: 879ms\tremaining: 136ms\n",
      "866:\tlearn: 0.0138868\ttotal: 879ms\tremaining: 135ms\n",
      "867:\tlearn: 0.0138805\ttotal: 880ms\tremaining: 134ms\n",
      "868:\tlearn: 0.0138768\ttotal: 880ms\tremaining: 133ms\n",
      "869:\tlearn: 0.0138698\ttotal: 881ms\tremaining: 132ms\n",
      "870:\tlearn: 0.0138579\ttotal: 882ms\tremaining: 131ms\n",
      "871:\tlearn: 0.0138392\ttotal: 882ms\tremaining: 130ms\n",
      "872:\tlearn: 0.0138301\ttotal: 883ms\tremaining: 129ms\n",
      "873:\tlearn: 0.0138268\ttotal: 885ms\tremaining: 128ms\n",
      "874:\tlearn: 0.0138233\ttotal: 885ms\tremaining: 126ms\n",
      "875:\tlearn: 0.0138165\ttotal: 886ms\tremaining: 125ms\n",
      "876:\tlearn: 0.0138074\ttotal: 886ms\tremaining: 124ms\n",
      "877:\tlearn: 0.0138014\ttotal: 887ms\tremaining: 123ms\n",
      "878:\tlearn: 0.0137880\ttotal: 888ms\tremaining: 122ms\n",
      "879:\tlearn: 0.0137794\ttotal: 888ms\tremaining: 121ms\n",
      "880:\tlearn: 0.0137674\ttotal: 889ms\tremaining: 120ms\n",
      "881:\tlearn: 0.0137581\ttotal: 889ms\tremaining: 119ms\n",
      "882:\tlearn: 0.0137452\ttotal: 890ms\tremaining: 118ms\n",
      "883:\tlearn: 0.0137292\ttotal: 891ms\tremaining: 117ms\n",
      "884:\tlearn: 0.0137167\ttotal: 891ms\tremaining: 116ms\n",
      "885:\tlearn: 0.0136958\ttotal: 892ms\tremaining: 115ms\n",
      "886:\tlearn: 0.0136782\ttotal: 892ms\tremaining: 114ms\n",
      "887:\tlearn: 0.0136716\ttotal: 893ms\tremaining: 113ms\n",
      "888:\tlearn: 0.0136623\ttotal: 893ms\tremaining: 111ms\n",
      "889:\tlearn: 0.0136526\ttotal: 894ms\tremaining: 110ms\n",
      "890:\tlearn: 0.0136442\ttotal: 894ms\tremaining: 109ms\n",
      "891:\tlearn: 0.0136367\ttotal: 895ms\tremaining: 108ms\n",
      "892:\tlearn: 0.0136289\ttotal: 896ms\tremaining: 107ms\n",
      "893:\tlearn: 0.0136163\ttotal: 896ms\tremaining: 106ms\n",
      "894:\tlearn: 0.0136027\ttotal: 896ms\tremaining: 105ms\n",
      "895:\tlearn: 0.0135941\ttotal: 897ms\tremaining: 104ms\n",
      "896:\tlearn: 0.0135871\ttotal: 897ms\tremaining: 103ms\n",
      "897:\tlearn: 0.0135786\ttotal: 898ms\tremaining: 102ms\n",
      "898:\tlearn: 0.0135613\ttotal: 898ms\tremaining: 101ms\n",
      "899:\tlearn: 0.0135484\ttotal: 899ms\tremaining: 99.9ms\n",
      "900:\tlearn: 0.0135295\ttotal: 900ms\tremaining: 98.9ms\n",
      "901:\tlearn: 0.0135215\ttotal: 900ms\tremaining: 97.8ms\n",
      "902:\tlearn: 0.0135184\ttotal: 901ms\tremaining: 96.8ms\n",
      "903:\tlearn: 0.0135052\ttotal: 901ms\tremaining: 95.7ms\n",
      "904:\tlearn: 0.0134946\ttotal: 902ms\tremaining: 94.7ms\n",
      "905:\tlearn: 0.0134835\ttotal: 902ms\tremaining: 93.6ms\n",
      "906:\tlearn: 0.0134777\ttotal: 903ms\tremaining: 92.6ms\n",
      "907:\tlearn: 0.0134715\ttotal: 903ms\tremaining: 91.5ms\n",
      "908:\tlearn: 0.0134684\ttotal: 904ms\tremaining: 90.5ms\n",
      "909:\tlearn: 0.0134578\ttotal: 904ms\tremaining: 89.4ms\n",
      "910:\tlearn: 0.0134442\ttotal: 906ms\tremaining: 88.5ms\n",
      "911:\tlearn: 0.0134377\ttotal: 906ms\tremaining: 87.4ms\n",
      "912:\tlearn: 0.0134228\ttotal: 907ms\tremaining: 86.4ms\n",
      "913:\tlearn: 0.0134136\ttotal: 907ms\tremaining: 85.3ms\n",
      "914:\tlearn: 0.0134023\ttotal: 908ms\tremaining: 84.3ms\n",
      "915:\tlearn: 0.0133915\ttotal: 908ms\tremaining: 83.3ms\n",
      "916:\tlearn: 0.0133860\ttotal: 909ms\tremaining: 82.2ms\n",
      "917:\tlearn: 0.0133778\ttotal: 909ms\tremaining: 81.2ms\n",
      "918:\tlearn: 0.0133729\ttotal: 909ms\tremaining: 80.2ms\n",
      "919:\tlearn: 0.0133607\ttotal: 910ms\tremaining: 79.2ms\n",
      "920:\tlearn: 0.0133506\ttotal: 911ms\tremaining: 78.2ms\n",
      "921:\tlearn: 0.0133453\ttotal: 911ms\tremaining: 77.1ms\n",
      "922:\tlearn: 0.0133398\ttotal: 913ms\tremaining: 76.1ms\n",
      "923:\tlearn: 0.0133328\ttotal: 913ms\tremaining: 75.1ms\n",
      "924:\tlearn: 0.0133211\ttotal: 913ms\tremaining: 74ms\n",
      "925:\tlearn: 0.0133188\ttotal: 914ms\tremaining: 73ms\n",
      "926:\tlearn: 0.0133132\ttotal: 914ms\tremaining: 72ms\n",
      "927:\tlearn: 0.0132978\ttotal: 915ms\tremaining: 71ms\n",
      "928:\tlearn: 0.0132904\ttotal: 915ms\tremaining: 69.9ms\n",
      "929:\tlearn: 0.0132799\ttotal: 916ms\tremaining: 68.9ms\n",
      "930:\tlearn: 0.0132677\ttotal: 917ms\tremaining: 67.9ms\n",
      "931:\tlearn: 0.0132599\ttotal: 918ms\tremaining: 67ms\n",
      "932:\tlearn: 0.0132506\ttotal: 919ms\tremaining: 66ms\n",
      "933:\tlearn: 0.0132448\ttotal: 919ms\tremaining: 65ms\n",
      "934:\tlearn: 0.0132363\ttotal: 920ms\tremaining: 63.9ms\n",
      "935:\tlearn: 0.0132252\ttotal: 920ms\tremaining: 62.9ms\n",
      "936:\tlearn: 0.0132170\ttotal: 921ms\tremaining: 61.9ms\n",
      "937:\tlearn: 0.0132030\ttotal: 921ms\tremaining: 60.9ms\n",
      "938:\tlearn: 0.0131954\ttotal: 921ms\tremaining: 59.9ms\n",
      "939:\tlearn: 0.0131921\ttotal: 922ms\tremaining: 58.9ms\n",
      "940:\tlearn: 0.0131815\ttotal: 923ms\tremaining: 57.9ms\n",
      "941:\tlearn: 0.0131642\ttotal: 923ms\tremaining: 56.9ms\n",
      "942:\tlearn: 0.0131568\ttotal: 924ms\tremaining: 55.8ms\n",
      "943:\tlearn: 0.0131476\ttotal: 924ms\tremaining: 54.8ms\n",
      "944:\tlearn: 0.0131371\ttotal: 926ms\tremaining: 53.9ms\n",
      "945:\tlearn: 0.0131224\ttotal: 926ms\tremaining: 52.9ms\n",
      "946:\tlearn: 0.0131122\ttotal: 927ms\tremaining: 51.9ms\n",
      "947:\tlearn: 0.0130965\ttotal: 927ms\tremaining: 50.9ms\n",
      "948:\tlearn: 0.0130881\ttotal: 928ms\tremaining: 49.9ms\n",
      "949:\tlearn: 0.0130780\ttotal: 929ms\tremaining: 48.9ms\n",
      "950:\tlearn: 0.0130711\ttotal: 930ms\tremaining: 47.9ms\n",
      "951:\tlearn: 0.0130618\ttotal: 930ms\tremaining: 46.9ms\n",
      "952:\tlearn: 0.0130545\ttotal: 931ms\tremaining: 45.9ms\n",
      "953:\tlearn: 0.0130488\ttotal: 931ms\tremaining: 44.9ms\n",
      "954:\tlearn: 0.0130450\ttotal: 932ms\tremaining: 43.9ms\n",
      "955:\tlearn: 0.0130414\ttotal: 932ms\tremaining: 42.9ms\n",
      "956:\tlearn: 0.0130361\ttotal: 933ms\tremaining: 41.9ms\n",
      "957:\tlearn: 0.0130289\ttotal: 933ms\tremaining: 40.9ms\n",
      "958:\tlearn: 0.0130139\ttotal: 933ms\tremaining: 39.9ms\n",
      "959:\tlearn: 0.0130090\ttotal: 934ms\tremaining: 38.9ms\n",
      "960:\tlearn: 0.0130029\ttotal: 934ms\tremaining: 37.9ms\n",
      "961:\tlearn: 0.0129961\ttotal: 936ms\tremaining: 37ms\n",
      "962:\tlearn: 0.0129896\ttotal: 936ms\tremaining: 36ms\n",
      "963:\tlearn: 0.0129793\ttotal: 936ms\tremaining: 35ms\n",
      "964:\tlearn: 0.0129721\ttotal: 937ms\tremaining: 34ms\n",
      "965:\tlearn: 0.0129548\ttotal: 937ms\tremaining: 33ms\n",
      "966:\tlearn: 0.0129511\ttotal: 938ms\tremaining: 32ms\n",
      "967:\tlearn: 0.0129409\ttotal: 938ms\tremaining: 31ms\n",
      "968:\tlearn: 0.0129265\ttotal: 939ms\tremaining: 30ms\n",
      "969:\tlearn: 0.0129197\ttotal: 939ms\tremaining: 29ms\n",
      "970:\tlearn: 0.0129026\ttotal: 940ms\tremaining: 28.1ms\n",
      "971:\tlearn: 0.0128975\ttotal: 941ms\tremaining: 27.1ms\n",
      "972:\tlearn: 0.0128949\ttotal: 942ms\tremaining: 26.1ms\n",
      "973:\tlearn: 0.0128606\ttotal: 943ms\tremaining: 25.2ms\n",
      "974:\tlearn: 0.0128520\ttotal: 973ms\tremaining: 24.9ms\n",
      "975:\tlearn: 0.0128360\ttotal: 974ms\tremaining: 23.9ms\n",
      "976:\tlearn: 0.0128209\ttotal: 974ms\tremaining: 22.9ms\n",
      "977:\tlearn: 0.0128062\ttotal: 974ms\tremaining: 21.9ms\n",
      "978:\tlearn: 0.0127927\ttotal: 974ms\tremaining: 20.9ms\n",
      "979:\tlearn: 0.0127863\ttotal: 975ms\tremaining: 19.9ms\n",
      "980:\tlearn: 0.0127731\ttotal: 976ms\tremaining: 18.9ms\n",
      "981:\tlearn: 0.0127675\ttotal: 977ms\tremaining: 17.9ms\n",
      "982:\tlearn: 0.0127569\ttotal: 979ms\tremaining: 16.9ms\n",
      "983:\tlearn: 0.0127466\ttotal: 979ms\tremaining: 15.9ms\n",
      "984:\tlearn: 0.0127366\ttotal: 979ms\tremaining: 14.9ms\n",
      "985:\tlearn: 0.0127227\ttotal: 980ms\tremaining: 13.9ms\n",
      "986:\tlearn: 0.0127139\ttotal: 980ms\tremaining: 12.9ms\n",
      "987:\tlearn: 0.0127109\ttotal: 981ms\tremaining: 11.9ms\n",
      "988:\tlearn: 0.0127095\ttotal: 981ms\tremaining: 10.9ms\n",
      "989:\tlearn: 0.0127052\ttotal: 982ms\tremaining: 9.92ms\n",
      "990:\tlearn: 0.0126893\ttotal: 983ms\tremaining: 8.93ms\n",
      "991:\tlearn: 0.0126814\ttotal: 984ms\tremaining: 7.94ms\n",
      "992:\tlearn: 0.0126757\ttotal: 984ms\tremaining: 6.94ms\n",
      "993:\tlearn: 0.0126604\ttotal: 985ms\tremaining: 5.94ms\n",
      "994:\tlearn: 0.0126544\ttotal: 985ms\tremaining: 4.95ms\n",
      "995:\tlearn: 0.0126455\ttotal: 986ms\tremaining: 3.96ms\n",
      "996:\tlearn: 0.0126409\ttotal: 986ms\tremaining: 2.97ms\n",
      "997:\tlearn: 0.0126320\ttotal: 987ms\tremaining: 1.98ms\n",
      "998:\tlearn: 0.0126273\ttotal: 987ms\tremaining: 988us\n",
      "999:\tlearn: 0.0126183\ttotal: 988ms\tremaining: 0us\n"
     ]
    },
    {
     "data": {
      "text/plain": [
       "<catboost.core.CatBoostRegressor at 0x7f8810eeefd0>"
      ]
     },
     "execution_count": 9,
     "metadata": {},
     "output_type": "execute_result"
    }
   ],
   "source": [
    "#Train the Model \n",
    "prior_model = ctb.CatBoostRegressor()\n",
    "prior_model.fit(X_train,Y_train)"
   ]
  },
  {
   "cell_type": "code",
   "execution_count": 10,
   "id": "af65dcda",
   "metadata": {
    "execution": {
     "iopub.execute_input": "2022-07-24T18:08:18.420952Z",
     "iopub.status.busy": "2022-07-24T18:08:18.418030Z",
     "iopub.status.idle": "2022-07-24T18:08:18.550421Z",
     "shell.execute_reply": "2022-07-24T18:08:18.549292Z"
    },
    "id": "af65dcda",
    "papermill": {
     "duration": 0.173258,
     "end_time": "2022-07-24T18:08:18.554816",
     "exception": false,
     "start_time": "2022-07-24T18:08:18.381558",
     "status": "completed"
    },
    "tags": []
   },
   "outputs": [
    {
     "data": {
      "application/scrapbook.scrap.json+json": {
       "data": 0.0014829703898595955,
       "encoder": "json",
       "name": "Prior Model MSE",
       "version": 1
      }
     },
     "metadata": {
      "scrapbook": {
       "data": true,
       "display": false,
       "name": "Prior Model MSE"
      }
     },
     "output_type": "display_data"
    },
    {
     "data": {
      "application/scrapbook.scrap.json+json": {
       "data": 0.011035374262346374,
       "encoder": "json",
       "name": "ABC Pre-generator MSE",
       "version": 1
      }
     },
     "metadata": {
      "scrapbook": {
       "data": true,
       "display": false,
       "name": "ABC Pre-generator MSE"
      }
     },
     "output_type": "display_data"
    },
    {
     "data": {
      "application/scrapbook.scrap.json+json": {
       "data": 0.023776557761689833,
       "encoder": "json",
       "name": "Prior Model MAE",
       "version": 1
      }
     },
     "metadata": {
      "scrapbook": {
       "data": true,
       "display": false,
       "name": "Prior Model MAE"
      }
     },
     "output_type": "display_data"
    },
    {
     "name": "stdout",
     "output_type": "stream",
     "text": [
      "Prior Model MAE 0.023776557761689833\n",
      "ABC Pre-generator MAE 0.0994807063492034\n"
     ]
    }
   ],
   "source": [
    "y_pred = prior_model.predict(X_test)\n",
    "y_abc = y_pred + np.random.normal(0,variance, y_pred.shape) + bias \n",
    "mse = mean_squared_error(y_pred,Y_test)\n",
    "sb.glue(\"Prior Model MSE\",mse)\n",
    "mse = mean_squared_error(y_abc,Y_test)\n",
    "sb.glue(\"ABC Pre-generator MSE\",mse)\n",
    "mae = mean_absolute_error(y_pred,Y_test)\n",
    "sb.glue(\"Prior Model MAE\",mae)\n",
    "print(\"Prior Model MAE\",mae)\n",
    "mae = mean_absolute_error(y_abc,Y_test)\n",
    "print(\"ABC Pre-generator MAE\",mae)"
   ]
  },
  {
   "cell_type": "markdown",
   "id": "25609da2",
   "metadata": {
    "papermill": {
     "duration": 0.017634,
     "end_time": "2022-07-24T18:08:18.593018",
     "exception": false,
     "start_time": "2022-07-24T18:08:18.575384",
     "status": "completed"
    },
    "tags": []
   },
   "source": [
    "# mGAN Model"
   ]
  },
  {
   "cell_type": "code",
   "execution_count": 11,
   "id": "dfc3464d",
   "metadata": {
    "execution": {
     "iopub.execute_input": "2022-07-24T18:08:18.646397Z",
     "iopub.status.busy": "2022-07-24T18:08:18.645557Z",
     "iopub.status.idle": "2022-07-24T18:08:18.659335Z",
     "shell.execute_reply": "2022-07-24T18:08:18.651805Z"
    },
    "papermill": {
     "duration": 0.21367,
     "end_time": "2022-07-24T18:08:18.829391",
     "exception": false,
     "start_time": "2022-07-24T18:08:18.615721",
     "status": "completed"
    },
    "tags": []
   },
   "outputs": [],
   "source": [
    "# gen = network.Generator(n_features+1).to(device)\n",
    "# disc = network.Discriminator(n_features+1).to(device)\n",
    "\n",
    "# criterion = torch.nn.BCELoss()\n",
    "# gen_opt = torch.optim.Adam(gen.parameters(), lr=0.01, betas=(0.5, 0.999))\n",
    "# disc_opt = torch.optim.Adam(disc.parameters(), lr=0.01, betas=(0.5, 0.999))"
   ]
  },
  {
   "cell_type": "code",
   "execution_count": 12,
   "id": "b75fdd85",
   "metadata": {
    "execution": {
     "iopub.execute_input": "2022-07-24T18:08:19.066801Z",
     "iopub.status.busy": "2022-07-24T18:08:19.065996Z",
     "iopub.status.idle": "2022-07-24T18:08:19.076071Z",
     "shell.execute_reply": "2022-07-24T18:08:19.073752Z"
    },
    "papermill": {
     "duration": 0.195549,
     "end_time": "2022-07-24T18:08:19.140174",
     "exception": false,
     "start_time": "2022-07-24T18:08:18.944625",
     "status": "completed"
    },
    "tags": []
   },
   "outputs": [],
   "source": [
    "#Training the ABC_GAN \n",
    "# ABC_train_test2.training_GAN(disc,gen,disc_opt,gen_opt,train_data,batch_size,n_epochs,criterion,prior_model,variance,bias,device)"
   ]
  },
  {
   "cell_type": "code",
   "execution_count": 13,
   "id": "1fa7c368",
   "metadata": {
    "execution": {
     "iopub.execute_input": "2022-07-24T18:08:19.235097Z",
     "iopub.status.busy": "2022-07-24T18:08:19.234644Z",
     "iopub.status.idle": "2022-07-24T18:08:19.240791Z",
     "shell.execute_reply": "2022-07-24T18:08:19.239030Z"
    },
    "papermill": {
     "duration": 0.080785,
     "end_time": "2022-07-24T18:08:19.276110",
     "exception": false,
     "start_time": "2022-07-24T18:08:19.195325",
     "status": "completed"
    },
    "tags": []
   },
   "outputs": [],
   "source": [
    "# ABC_GAN1_metrics=ABC_train_test2.test_generator(gen,test_data,prior_model,variance,bias,\"1\",device)\n",
    "# sb.glue(\"ABC_GAN_1 Metrics\",ABC_GAN1_metrics)\n",
    "\n",
    "# print(\"MAE\")\n",
    "# print(mean(ABC_GAN1_metrics[1]))"
   ]
  },
  {
   "cell_type": "code",
   "execution_count": 14,
   "id": "eb22ce5c",
   "metadata": {
    "execution": {
     "iopub.execute_input": "2022-07-24T18:08:19.384702Z",
     "iopub.status.busy": "2022-07-24T18:08:19.383958Z",
     "iopub.status.idle": "2022-07-24T18:08:19.392273Z",
     "shell.execute_reply": "2022-07-24T18:08:19.388929Z"
    },
    "papermill": {
     "duration": 0.07645,
     "end_time": "2022-07-24T18:08:19.429936",
     "exception": false,
     "start_time": "2022-07-24T18:08:19.353486",
     "status": "completed"
    },
    "tags": []
   },
   "outputs": [],
   "source": [
    "# sanityChecks.discProbVsError(train_data,disc,device)\n",
    "# sanityChecks.discProbVsError(test_data,disc,device)"
   ]
  },
  {
   "cell_type": "markdown",
   "id": "b387605c",
   "metadata": {
    "papermill": {
     "duration": 0.029563,
     "end_time": "2022-07-24T18:08:19.538923",
     "exception": false,
     "start_time": "2022-07-24T18:08:19.509360",
     "status": "completed"
    },
    "tags": []
   },
   "source": [
    "# mGAN Model with TabNet Generator"
   ]
  },
  {
   "cell_type": "code",
   "execution_count": 15,
   "id": "2b18c183",
   "metadata": {
    "execution": {
     "iopub.execute_input": "2022-07-24T18:08:19.590644Z",
     "iopub.status.busy": "2022-07-24T18:08:19.590105Z",
     "iopub.status.idle": "2022-07-24T18:08:19.619097Z",
     "shell.execute_reply": "2022-07-24T18:08:19.617062Z"
    },
    "papermill": {
     "duration": 0.088061,
     "end_time": "2022-07-24T18:08:19.643157",
     "exception": false,
     "start_time": "2022-07-24T18:08:19.555096",
     "status": "completed"
    },
    "tags": []
   },
   "outputs": [],
   "source": [
    "gen2 = network.GeneratorTabnet(n_features+1).to(device)\n",
    "disc2 = network.Discriminator(n_features+1).to(device)\n",
    "\n",
    "criterion = torch.nn.BCELoss()\n",
    "gen_opt = torch.optim.Adam(gen2.parameters(), lr=0.01, betas=(0.5, 0.999))\n",
    "disc_opt = torch.optim.Adam(disc2.parameters(), lr=0.01, betas=(0.5, 0.999))"
   ]
  },
  {
   "cell_type": "code",
   "execution_count": 16,
   "id": "3a13526f",
   "metadata": {
    "execution": {
     "iopub.execute_input": "2022-07-24T18:08:19.701412Z",
     "iopub.status.busy": "2022-07-24T18:08:19.700710Z",
     "iopub.status.idle": "2022-07-24T18:27:20.880013Z",
     "shell.execute_reply": "2022-07-24T18:27:20.869769Z"
    },
    "papermill": {
     "duration": 1141.218728,
     "end_time": "2022-07-24T18:27:20.890872",
     "exception": false,
     "start_time": "2022-07-24T18:08:19.672144",
     "status": "completed"
    },
    "tags": []
   },
   "outputs": [
    {
     "data": {
      "image/png": "[encoded data removed]",
      "text/plain": [
       "<Figure size 432x288 with 1 Axes>"
      ]
     },
     "metadata": {
      "needs_background": "light"
     },
     "output_type": "display_data"
    },
    {
     "data": {
      "image/png": "[encoded data removed]",
      "text/plain": [
       "<Figure size 432x288 with 1 Axes>"
      ]
     },
     "metadata": {
      "needs_background": "light"
     },
     "output_type": "display_data"
    }
   ],
   "source": [
    "#Training the ABC_GAN \n",
    "ABC_train_test2.training_GAN(disc2,gen2,disc_opt,gen_opt,train_data,batch_size,n_epochs,criterion,prior_model,variance,bias,device)"
   ]
  },
  {
   "cell_type": "code",
   "execution_count": 17,
   "id": "a4a6d372",
   "metadata": {
    "execution": {
     "iopub.execute_input": "2022-07-24T18:27:20.951281Z",
     "iopub.status.busy": "2022-07-24T18:27:20.949368Z",
     "iopub.status.idle": "2022-07-24T18:27:23.353326Z",
     "shell.execute_reply": "2022-07-24T18:27:23.352009Z"
    },
    "papermill": {
     "duration": 2.449947,
     "end_time": "2022-07-24T18:27:23.358028",
     "exception": false,
     "start_time": "2022-07-24T18:27:20.908081",
     "status": "completed"
    },
    "tags": []
   },
   "outputs": [
    {
     "data": {
      "application/scrapbook.scrap.json+json": {
       "data": 0.00570183184666687,
       "encoder": "json",
       "name": "ABC-GAN Model 1 MSE",
       "version": 1
      }
     },
     "metadata": {
      "scrapbook": {
       "data": true,
       "display": false,
       "name": "ABC-GAN Model 1 MSE"
      }
     },
     "output_type": "display_data"
    },
    {
     "data": {
      "application/scrapbook.scrap.json+json": {
       "data": 0.06233012552675489,
       "encoder": "json",
       "name": "ABC-GAN Model 1 MAE",
       "version": 1
      }
     },
     "metadata": {
      "scrapbook": {
       "data": true,
       "display": false,
       "name": "ABC-GAN Model 1 MAE"
      }
     },
     "output_type": "display_data"
    },
    {
     "data": {
      "application/scrapbook.scrap.json+json": {
       "data": 9.598839331120253,
       "encoder": "json",
       "name": "ABC-GAN Model 1 Manhattan Distance",
       "version": 1
      }
     },
     "metadata": {
      "scrapbook": {
       "data": true,
       "display": false,
       "name": "ABC-GAN Model 1 Manhattan Distance"
      }
     },
     "output_type": "display_data"
    },
    {
     "data": {
      "application/scrapbook.scrap.json+json": {
       "data": 0.9370428741674909,
       "encoder": "json",
       "name": "ABC-GAN Model 1 Euclidean distance",
       "version": 1
      }
     },
     "metadata": {
      "scrapbook": {
       "data": true,
       "display": false,
       "name": "ABC-GAN Model 1 Euclidean distance"
      }
     },
     "output_type": "display_data"
    },
    {
     "data": {
      "application/scrapbook.scrap.json+json": {
       "data": [
        [
         0.005660681900429826,
         0.005744718208329148,
         0.005815551862573192,
         0.005829955548524179,
         0.00561695323429586,
         0.005736584993051043,
         0.005611088151435801,
         0.0056930875265421696,
         0.005626866598826161,
         0.0057244818864325975,
         0.005803137015330077,
         0.0056195617836124895,
         0.005723763881785123,
         0.005826224905850909,
         0.005884304944873978,
         0.005663942594890354,
         0.005773288104536963,
         0.005678290309384905,
         0.005615534830687284,
         0.0056872767572701405,
         0.005595188609576982,
         0.005770192772403696,
         0.005671476358591759,
         0.005750738910098119,
         0.005660300989386853,
         0.005680964010950644,
         0.005667958998393494,
         0.005698774568253823,
         0.005655028497667522,
         0.005676889829077831,
         0.005657153849259771,
         0.005594828971054974,
         0.005689499449222995,
         0.005779735176228414,
         0.00580339391564248,
         0.005687521159173135,
         0.005633901268968133,
         0.005650778191016276,
         0.005656777214914628,
         0.005698054012242943,
         0.005704195065849226,
         0.005780548793614724,
         0.005608902145096956,
         0.005695858360913223,
         0.005729640352389979,
         0.005677137133925152,
         0.005672238769848274,
         0.005823606663889051,
         0.005727904444870615,
         0.005673647610463716,
         0.0058706373485162364,
         0.005637152618558071,
         0.005645776600571479,
         0.005705492691251359,
         0.0056681202545244905,
         0.005669636430320706,
         0.005713997105358022,
         0.0056718186525821675,
         0.005747535069529216,
         0.005568670418165825,
         0.005619461700863668,
         0.005728274437292787,
         0.0057987059810571204,
         0.005841233625628669,
         0.0057065161533645485,
         0.005779012555024234,
         0.005743758358800454,
         0.005705501746073286,
         0.005817625586034783,
         0.0057392412009657735,
         0.005690104197283656,
         0.005701603223085075,
         0.005664882311689372,
         0.0057033714645317755,
         0.005732110437408759,
         0.005736110983010303,
         0.0055719096959248055,
         0.00568450259299743,
         0.005658732596094709,
         0.005795624758403736,
         0.0057662668718745,
         0.005797155781081388,
         0.005651439450981653,
         0.005802259397695286,
         0.005713140608369425,
         0.0057213146244947345,
         0.0057250456348028255,
         0.0056043666949871385,
         0.0056851809551883145,
         0.005656577340619403,
         0.00559060376095852,
         0.005739380743229956,
         0.005746418964417905,
         0.0056214763304545225,
         0.005727624175922423,
         0.005692983277913838,
         0.005670373961534049,
         0.005547942545507411,
         0.005579647189484368,
         0.005718734430609274
        ],
        [
         0.06206726389271872,
         0.06247442602724224,
         0.06301856611843233,
         0.06245211240920154,
         0.06140875661527956,
         0.06282485886053606,
         0.062045139442016554,
         0.06216856063186348,
         0.06174107341023235,
         0.06274774728657363,
         0.06292511077670308,
         0.06251927803863179,
         0.06315808230406278,
         0.06277638499612932,
         0.06357943421447432,
         0.0623956678749679,
         0.06284276270247124,
         0.061717627787744846,
         0.06174624769331573,
         0.061751257676582835,
         0.06194088008109625,
         0.06315407360141928,
         0.0618715329797237,
         0.06300998633945143,
         0.06215067730321513,
         0.062426739505359104,
         0.062399041439805715,
         0.06234275830256474,
         0.0616533804636497,
         0.06270073712259144,
         0.06221343247921436,
         0.061278745628796615,
         0.06214442520172565,
         0.06293773757559913,
         0.06259814504679147,
         0.06233933926015705,
         0.06140032691227925,
         0.06189179236625696,
         0.06146113342278964,
         0.062074893190489186,
         0.06179285088142791,
         0.0625373006060526,
         0.06180215259264042,
         0.0627600998653994,
         0.06264098395000804,
         0.06245554190177422,
         0.062153089743155934,
         0.06254375367969661,
         0.0627121887617297,
         0.06211549333937756,
         0.06315924072420442,
         0.06221070701812769,
         0.062226874487740655,
         0.0622696236937077,
         0.061597980171829075,
         0.06183634698390961,
         0.06279465730314131,
         0.06178982168823093,
         0.06255467913367531,
         0.061423572626980866,
         0.06180315590524054,
         0.06293378838083961,
         0.06253961241477496,
         0.06332352583284502,
         0.061873472743220144,
         0.06290788561492772,
         0.06278887081455875,
         0.06306274699700343,
         0.06279159888818667,
         0.0627499067938173,
         0.06250986582660056,
         0.06228092467630064,
         0.06215508311212837,
         0.0628477871998564,
         0.06218953246807123,
         0.06282403097524271,
         0.06193399884096988,
         0.06245635178956119,
         0.06190448641389996,
         0.06244517456401478,
         0.06251699719336126,
         0.06294884639126914,
         0.06214736866486537,
         0.06310485216317238,
         0.06243373356856309,
         0.062208887431528664,
         0.062542323168222,
         0.06187013362522249,
         0.06220945986834439,
         0.06216586429577369,
         0.0623559822122772,
         0.06198159227897594,
         0.06218059138431178,
         0.061878705179536496,
         0.06311508742245761,
         0.06210964869756203,
         0.06152447051816173,
         0.061683466391904015,
         0.061639515610484336,
         0.06234613022246918
        ],
        [
         9.558358639478683,
         9.621061608195305,
         9.704859182238579,
         9.617625311017036,
         9.456948518753052,
         9.675028264522552,
         9.554951474070549,
         9.573958337306976,
         9.508125305175781,
         9.66315308213234,
         9.690467059612274,
         9.627968817949295,
         9.726344674825668,
         9.667563289403915,
         9.791232869029045,
         9.608932852745056,
         9.677785456180573,
         9.504514679312706,
         9.508922144770622,
         9.509693682193756,
         9.538895532488823,
         9.725727334618568,
         9.528216078877449,
         9.70353789627552,
         9.57120430469513,
         9.613717883825302,
         9.60945238173008,
         9.60078477859497,
         9.494620591402054,
         9.655913516879082,
         9.580868601799011,
         9.436926826834679,
         9.57024148106575,
         9.692411586642265,
         9.640114337205887,
         9.600258246064186,
         9.455650344491005,
         9.531336024403572,
         9.465014547109604,
         9.559533551335335,
         9.516099035739899,
         9.6307442933321,
         9.517531499266624,
         9.665055379271507,
         9.646711528301239,
         9.61815345287323,
         9.571575820446014,
         9.631738066673279,
         9.657677069306374,
         9.565785974264145,
         9.726523071527481,
         9.580448880791664,
         9.58293867111206,
         9.589522048830986,
         9.486088946461678,
         9.52279743552208,
         9.670377224683762,
         9.515632539987564,
         9.633420586585999,
         9.459230184555054,
         9.517686009407043,
         9.6918034106493,
         9.631100311875343,
         9.751822978258133,
         9.528514802455902,
         9.687814384698868,
         9.669486105442047,
         9.711663037538528,
         9.669906228780746,
         9.663485646247864,
         9.626519337296486,
         9.591262400150299,
         9.571882799267769,
         9.678559228777885,
         9.57718800008297,
         9.674900770187378,
         9.537835821509361,
         9.618278175592422,
         9.533290907740593,
         9.616556882858276,
         9.627617567777634,
         9.694122344255447,
         9.570694774389267,
         9.718147233128548,
         9.614794969558716,
         9.580168664455414,
         9.631517767906189,
         9.528000578284264,
         9.580256819725037,
         9.573543101549149,
         9.602821260690689,
         9.545165210962296,
         9.575811073184013,
         9.52932059764862,
         9.719723463058472,
         9.564885899424553,
         9.474768459796906,
         9.499253824353218,
         9.492485404014587,
         9.601304054260254
        ],
        [
         0.9336728616952478,
         0.9405778033117137,
         0.9463588044902798,
         0.9475300282696709,
         0.9300595669534089,
         0.9399117452877481,
         0.929573867598005,
         0.9363415397639336,
         0.930879936522014,
         0.9389197039739979,
         0.945348137122421,
         0.9302755047169217,
         0.9388608191819003,
         0.9472268131239951,
         0.9519364272421728,
         0.9339417324507533,
         0.9429137649322403,
         0.9351238996225448,
         0.929942129342381,
         0.9358635694478131,
         0.9282559161539748,
         0.9426609607648814,
         0.9345626566598576,
         0.9410705564170576,
         0.933641447433422,
         0.9353440317265083,
         0.9342728112027011,
         0.9368090966205915,
         0.9332065091076028,
         0.9350085741200377,
         0.9333818579691833,
         0.9282260832051995,
         0.9360464278978587,
         0.9434400972712448,
         0.9453690618001743,
         0.935883677874907,
         0.931461644632291,
         0.9328557452342278,
         0.9333507867339335,
         0.9367498694344255,
         0.9372545226035353,
         0.9435064992975234,
         0.9293927750660274,
         0.9365693714726295,
         0.9393426500846519,
         0.9350289399930215,
         0.9346254707403572,
         0.9470139525048793,
         0.9392003431164593,
         0.9347415321956184,
         0.9508302433513042,
         0.9317303812036737,
         0.9324428113766591,
         0.9373611227551041,
         0.9342861013612327,
         0.9344110499503891,
         0.938059461987957,
         0.9345908583426513,
         0.9408083761890619,
         0.926053586137183,
         0.9302672207129545,
         0.9392306763213653,
         0.9449871539247486,
         0.9484460861571495,
         0.9374451917942406,
         0.9433811178276423,
         0.9404992223576104,
         0.9373618665677018,
         0.9465275169002518,
         0.940129323523487,
         0.9360961736817873,
         0.9370415659697822,
         0.934019205370084,
         0.9371868573224303,
         0.9395451066132743,
         0.9398729123576159,
         0.9263228881833915,
         0.935635291832028,
         0.9335120887265387,
         0.944736054564541,
         0.9423402242654576,
         0.9448608311738474,
         0.932910325514288,
         0.9452766511688914,
         0.9379891543556842,
         0.9386599235996971,
         0.9389659353563553,
         0.9290169379661597,
         0.9356911173560432,
         0.9333342972672697,
         0.9278755192306843,
         0.9401407524713591,
         0.9407170246787061,
         0.9304339605205716,
         0.939177365087156,
         0.9363329668439166,
         0.9344718241211146,
         0.9243284870694732,
         0.9269658392738066,
         0.938448241680823
        ]
       ],
       "encoder": "json",
       "name": "ABC_GAN_2 Metrics",
       "version": 1
      }
     },
     "metadata": {
      "scrapbook": {
       "data": true,
       "display": false,
       "name": "ABC_GAN_2 Metrics"
      }
     },
     "output_type": "display_data"
    },
    {
     "name": "stdout",
     "output_type": "stream",
     "text": [
      "MAE\n",
      "0.06233012552675489\n"
     ]
    }
   ],
   "source": [
    "ABC_GAN2_metrics=ABC_train_test2.test_generator(gen2,test_data,prior_model,variance,bias,\"1\",device)\n",
    "sb.glue(\"ABC_GAN_2 Metrics\",ABC_GAN2_metrics)\n",
    "\n",
    "print(\"MAE\")\n",
    "print(mean(ABC_GAN2_metrics[1]))"
   ]
  },
  {
   "cell_type": "code",
   "execution_count": 18,
   "id": "ad068202",
   "metadata": {
    "execution": {
     "iopub.execute_input": "2022-07-24T18:27:23.403527Z",
     "iopub.status.busy": "2022-07-24T18:27:23.402174Z",
     "iopub.status.idle": "2022-07-24T18:27:24.557419Z",
     "shell.execute_reply": "2022-07-24T18:27:24.556517Z"
    },
    "papermill": {
     "duration": 1.188367,
     "end_time": "2022-07-24T18:27:24.560121",
     "exception": false,
     "start_time": "2022-07-24T18:27:23.371754",
     "status": "completed"
    },
    "tags": []
   },
   "outputs": [
    {
     "data": {
      "image/png": "[encoded data removed]",
      "text/plain": [
       "<Figure size 432x288 with 1 Axes>"
      ]
     },
     "metadata": {
      "needs_background": "light"
     },
     "output_type": "display_data"
    },
    {
     "data": {
      "image/png": "[encoded data removed]",
      "text/plain": [
       "<Figure size 432x288 with 1 Axes>"
      ]
     },
     "metadata": {
      "needs_background": "light"
     },
     "output_type": "display_data"
    },
    {
     "data": {
      "image/png": "[encoded data removed]",
      "text/plain": [
       "<Figure size 432x288 with 1 Axes>"
      ]
     },
     "metadata": {
      "needs_background": "light"
     },
     "output_type": "display_data"
    },
    {
     "data": {
      "image/png": "[encoded data removed]",
      "text/plain": [
       "<Figure size 432x288 with 1 Axes>"
      ]
     },
     "metadata": {
      "needs_background": "light"
     },
     "output_type": "display_data"
    }
   ],
   "source": [
    "sanityChecks.discProbVsError(train_data,disc2,device)\n",
    "sanityChecks.discProbVsError(test_data,disc2,device)"
   ]
  },
  {
   "cell_type": "markdown",
   "id": "130f3a4d",
   "metadata": {
    "id": "130f3a4d",
    "papermill": {
     "duration": 0.016539,
     "end_time": "2022-07-24T18:27:24.592574",
     "exception": false,
     "start_time": "2022-07-24T18:27:24.576035",
     "status": "completed"
    },
    "tags": []
   },
   "source": [
    "# skipGAN Model"
   ]
  },
  {
   "cell_type": "code",
   "execution_count": 19,
   "id": "4e43dad1",
   "metadata": {
    "execution": {
     "iopub.execute_input": "2022-07-24T18:27:24.628845Z",
     "iopub.status.busy": "2022-07-24T18:27:24.628476Z",
     "iopub.status.idle": "2022-07-24T18:27:24.640738Z",
     "shell.execute_reply": "2022-07-24T18:27:24.639818Z"
    },
    "id": "4e43dad1",
    "papermill": {
     "duration": 0.034963,
     "end_time": "2022-07-24T18:27:24.643504",
     "exception": false,
     "start_time": "2022-07-24T18:27:24.608541",
     "status": "completed"
    },
    "tags": []
   },
   "outputs": [],
   "source": [
    "#Generator\n",
    "gen3 = network.GeneratorWithSkipConnection(n_features+1).to(device)\n",
    "constraints=network.weightConstraint()\n",
    "#Discriminator \n",
    "disc3 = network.Discriminator(n_features+1).to(device)\n",
    "\n",
    "criterion = torch.nn.BCELoss()\n",
    "gen_opt = torch.optim.Adam(gen3.parameters(), lr=0.01, betas=(0.5, 0.999))\n",
    "disc_opt = torch.optim.Adam(disc3.parameters(), lr=0.01, betas=(0.5, 0.999))\n"
   ]
  },
  {
   "cell_type": "code",
   "execution_count": 20,
   "id": "26acbc37",
   "metadata": {
    "execution": {
     "iopub.execute_input": "2022-07-24T18:27:24.677437Z",
     "iopub.status.busy": "2022-07-24T18:27:24.676813Z",
     "iopub.status.idle": "2022-07-24T18:36:25.425099Z",
     "shell.execute_reply": "2022-07-24T18:36:25.422852Z"
    },
    "id": "26acbc37",
    "papermill": {
     "duration": 540.776483,
     "end_time": "2022-07-24T18:36:25.434933",
     "exception": false,
     "start_time": "2022-07-24T18:27:24.658450",
     "status": "completed"
    },
    "tags": []
   },
   "outputs": [
    {
     "data": {
      "image/png": "[encoded data removed]",
      "text/plain": [
       "<Figure size 432x288 with 1 Axes>"
      ]
     },
     "metadata": {
      "needs_background": "light"
     },
     "output_type": "display_data"
    },
    {
     "data": {
      "image/png": "[encoded data removed]",
      "text/plain": [
       "<Figure size 432x288 with 1 Axes>"
      ]
     },
     "metadata": {
      "needs_background": "light"
     },
     "output_type": "display_data"
    }
   ],
   "source": [
    "ABC_train_test2.training_GAN_skip_connection(disc3,gen3,disc_opt,gen_opt,train_data,batch_size,n_epochs,criterion,prior_model,variance,bias,device)"
   ]
  },
  {
   "cell_type": "code",
   "execution_count": 21,
   "id": "c5e0717b",
   "metadata": {
    "execution": {
     "iopub.execute_input": "2022-07-24T18:36:25.490292Z",
     "iopub.status.busy": "2022-07-24T18:36:25.489661Z",
     "iopub.status.idle": "2022-07-24T18:36:32.108388Z",
     "shell.execute_reply": "2022-07-24T18:36:32.105619Z"
    },
    "id": "c5e0717b",
    "papermill": {
     "duration": 6.651873,
     "end_time": "2022-07-24T18:36:32.112579",
     "exception": false,
     "start_time": "2022-07-24T18:36:25.460706",
     "status": "completed"
    },
    "tags": []
   },
   "outputs": [
    {
     "data": {
      "application/scrapbook.scrap.json+json": {
       "data": 0.005166984146641961,
       "encoder": "json",
       "name": "ABC-GAN Model 3 MSE",
       "version": 1
      }
     },
     "metadata": {
      "scrapbook": {
       "data": true,
       "display": false,
       "name": "ABC-GAN Model 3 MSE"
      }
     },
     "output_type": "display_data"
    },
    {
     "data": {
      "application/scrapbook.scrap.json+json": {
       "data": 0.057931815930581713,
       "encoder": "json",
       "name": "ABC-GAN Model 3 MAE",
       "version": 1
      }
     },
     "metadata": {
      "scrapbook": {
       "data": true,
       "display": false,
       "name": "ABC-GAN Model 3 MAE"
      }
     },
     "output_type": "display_data"
    },
    {
     "data": {
      "application/scrapbook.scrap.json+json": {
       "data": 8.921499653309583,
       "encoder": "json",
       "name": "ABC-GAN Model 3 Manhattan Distance",
       "version": 1
      }
     },
     "metadata": {
      "scrapbook": {
       "data": true,
       "display": false,
       "name": "ABC-GAN Model 3 Manhattan Distance"
      }
     },
     "output_type": "display_data"
    },
    {
     "data": {
      "application/scrapbook.scrap.json+json": {
       "data": 0.8919787235099274,
       "encoder": "json",
       "name": "ABC-GAN Model 3 Euclidean distance",
       "version": 1
      }
     },
     "metadata": {
      "scrapbook": {
       "data": true,
       "display": false,
       "name": "ABC-GAN Model 3 Euclidean distance"
      }
     },
     "output_type": "display_data"
    },
    {
     "data": {
      "application/scrapbook.scrap.json+json": {
       "data": [
        [
         0.005003963377002859,
         0.005201331267868022,
         0.005167036832482946,
         0.005129281407849098,
         0.005182792227877366,
         0.00515069004601482,
         0.004929432763888442,
         0.005136011882860376,
         0.005288972018520497,
         0.005113953294103803,
         0.005155835600001631,
         0.005222348379022661,
         0.005338691253525704,
         0.005149671988085288,
         0.005188483469940756,
         0.005161785156048329,
         0.005191696096592039,
         0.005234517082396828,
         0.005110561068821142,
         0.005149646455245918,
         0.005128251348105379,
         0.005235640495331883,
         0.005053877422903625,
         0.005371725530882015,
         0.005119956696633178,
         0.005163145282305727,
         0.0050100501353199595,
         0.005194897535764383,
         0.005210013821445191,
         0.0051144779680141975,
         0.005000368302640947,
         0.0050912436046011405,
         0.0053194246057623054,
         0.005061813284196378,
         0.005257910293650545,
         0.0052851175427324135,
         0.005423465526111576,
         0.005019492015832172,
         0.0053219894819342825,
         0.005175266969195836,
         0.0053501327215247935,
         0.005075844899884937,
         0.005219459410533659,
         0.005343431283742427,
         0.005086284548331923,
         0.005072339150595841,
         0.005173045542304088,
         0.00519080533319732,
         0.005041887129446362,
         0.00519611888874117,
         0.005224821713847181,
         0.005201896329722908,
         0.00517142577105165,
         0.00527571243472753,
         0.005310118088175947,
         0.005183500077063542,
         0.005093053857021009,
         0.005112033466999705,
         0.005125455648896498,
         0.005072363195826234,
         0.005109236409145381,
         0.0049784836066975756,
         0.005332210747330622,
         0.0050699376885320994,
         0.004984802959607723,
         0.005326061242020728,
         0.0050978568869928,
         0.005179830534234653,
         0.005260636985979613,
         0.00495958065311511,
         0.005325572062245673,
         0.005162821709424244,
         0.005204503488613319,
         0.005229370032145685,
         0.004981475037942962,
         0.005210967584027939,
         0.005302527999490326,
         0.004979126464211309,
         0.005092645697268099,
         0.004928782736427001,
         0.005256349392278222,
         0.005153432641297184,
         0.005224790530594811,
         0.005263592973769355,
         0.005262017554274121,
         0.005188578159846975,
         0.005185930452063838,
         0.005378529407595336,
         0.005205768681840923,
         0.00522581649970316,
         0.005289187712732904,
         0.0052572405847137104,
         0.00498457224484577,
         0.005126565428817464,
         0.005088621176734277,
         0.005099169356778538,
         0.005053872900412313,
         0.005296140558783989,
         0.004965504797034982,
         0.0051917440614789884
        ],
        [
         0.057357475645356364,
         0.05771444079937873,
         0.05771869271026029,
         0.05735241771711932,
         0.05760969207077831,
         0.05789498646150936,
         0.05676334530308649,
         0.05736913948090046,
         0.058231652895738555,
         0.05854079451460343,
         0.05706340674456064,
         0.05867560933549683,
         0.058897938917983665,
         0.05799324631497457,
         0.05815649264818662,
         0.057849837104221445,
         0.05852599949999289,
         0.05834322190516955,
         0.05741090022704818,
         0.05766506260865695,
         0.058708442737916845,
         0.058280077847567474,
         0.057208101519129494,
         0.05899283623734078,
         0.05827805012851566,
         0.058181284697024854,
         0.05733819330086956,
         0.05769648789972454,
         0.058182386947529655,
         0.05735369955564474,
         0.05754628472707488,
         0.057159246175320116,
         0.05869811492693889,
         0.05708409681335672,
         0.0578004191931966,
         0.05831336636434902,
         0.05870649049227888,
         0.05696642108551868,
         0.0581522196434535,
         0.05781086829382104,
         0.05898107714080191,
         0.0568222159689123,
         0.05765111381550888,
         0.059193542396480385,
         0.05760531108100693,
         0.05743067489041911,
         0.057587301189249214,
         0.05842957964965275,
         0.05753161579176977,
         0.058417930134705136,
         0.05775601445854484,
         0.05808756379531575,
         0.05778047539197005,
         0.05799859849276481,
         0.058574146312939654,
         0.057999625366616556,
         0.05788641466529339,
         0.05787153808133943,
         0.0580133649145628,
         0.05734424249498875,
         0.05706537568143436,
         0.057108372788537635,
         0.058871275805807734,
         0.057736763609694194,
         0.056256054428877766,
         0.058604351547244304,
         0.05715892401027989,
         0.058043275076847575,
         0.058433514475435405,
         0.05737317905023501,
         0.05878781788534932,
         0.05838184668259187,
         0.05763743721045457,
         0.057740255658115656,
         0.056669739159670746,
         0.0589163891197025,
         0.05823356271177143,
         0.056944241384407145,
         0.057967339436729236,
         0.056364083106254605,
         0.058250063570675914,
         0.0580491331200321,
         0.05785584411063752,
         0.058497679456100835,
         0.05839454247192903,
         0.05777807780481004,
         0.05794048207727345,
         0.059253182504084206,
         0.05771661844926995,
         0.05896417428920796,
         0.058848929772903395,
         0.05978359030438708,
         0.05729626699701532,
         0.058358103907727575,
         0.05792684853076935,
         0.05726601812359575,
         0.05750583247704939,
         0.05842016027732329,
         0.058148864946969143,
         0.058079593512532
        ],
        [
         8.83305124938488,
         8.888023883104324,
         8.888678677380085,
         8.832272328436375,
         8.87189257889986,
         8.915827915072441,
         8.74155517667532,
         8.83484748005867,
         8.967674545943737,
         9.015282355248928,
         8.787764638662338,
         9.036043837666512,
         9.070282593369484,
         8.930959932506084,
         8.95609986782074,
         8.908874914050102,
         9.013003922998905,
         8.98485617339611,
         8.84127863496542,
         8.88041964173317,
         9.041100181639194,
         8.97513198852539,
         8.810047633945942,
         9.08489678055048,
         8.974819719791412,
         8.959917843341827,
         8.830081768333912,
         8.885259136557579,
         8.960087589919567,
         8.83246973156929,
         8.862127847969532,
         8.802523910999298,
         9.039509698748589,
         8.790950909256935,
         8.901264555752277,
         8.980258420109749,
         9.040799535810947,
         8.772828847169876,
         8.955441825091839,
         8.90287371724844,
         9.083085879683495,
         8.750621259212494,
         8.878271527588367,
         9.11580552905798,
         8.871217906475067,
         8.844323933124542,
         8.868444383144379,
         8.998155266046524,
         8.859868831932545,
         8.99636124074459,
         8.894426226615906,
         8.945484824478626,
         8.898193210363388,
         8.93178416788578,
         9.020418532192707,
         8.93194230645895,
         8.914507858455181,
         8.912216864526272,
         8.93405819684267,
         8.831013344228268,
         8.788067854940891,
         8.794689409434795,
         9.06617647409439,
         8.891461595892906,
         8.663432382047176,
         9.025070138275623,
         8.802474297583103,
         8.938664361834526,
         8.998761229217052,
         8.83546957373619,
         9.053323954343796,
         8.990804389119148,
         8.876165330410004,
         8.891999371349812,
         8.727139830589294,
         9.073123924434185,
         8.9679686576128,
         8.7694131731987,
         8.926970273256302,
         8.680068798363209,
         8.97050978988409,
         8.939566500484943,
         8.909799993038177,
         9.008642636239529,
         8.99275954067707,
         8.897823981940746,
         8.922834239900112,
         9.124990105628967,
         8.888359241187572,
         9.080482840538025,
         9.062735185027122,
         9.20667290687561,
         8.82362511754036,
         8.987148001790047,
         8.92073467373848,
         8.818966791033745,
         8.855898201465607,
         8.996704682707787,
         8.954925201833248,
         8.944257400929928
        ],
        [
         0.8778441547669155,
         0.894988835266494,
         0.892033447916822,
         0.8887684382384206,
         0.8933924127129771,
         0.8906212815143608,
         0.8712821848510505,
         0.8893513534933749,
         0.9024974741527848,
         0.8874394668325191,
         0.8910660370591235,
         0.8967952109425483,
         0.9067295368757755,
         0.8905332594379248,
         0.8938827967753248,
         0.8915800098877513,
         0.8941594929738061,
         0.8978394236661206,
         0.8871450865548746,
         0.890531051737036,
         0.8886791927395558,
         0.8979357640060396,
         0.8822114956897571,
         0.9095305007287169,
         0.8879602081633554,
         0.8916974674602827,
         0.8783778918206411,
         0.8944351404700707,
         0.8957355237471378,
         0.8874849897740166,
         0.8775287565696669,
         0.8854668345616201,
         0.9050919231146608,
         0.8829038711922393,
         0.8998434226142813,
         0.902168554972291,
         0.9139002631694461,
         0.879205192454045,
         0.9053101016877474,
         0.8927435876309382,
         0.9077006329813913,
         0.8841267525543384,
         0.8965471260464692,
         0.9071319736930971,
         0.8850354910641246,
         0.8838213785555086,
         0.8925519668427322,
         0.8940827821361886,
         0.8811643535315871,
         0.8945402779451243,
         0.897007549540396,
         0.8950374488128012,
         0.8924122190680459,
         0.901365472462774,
         0.9042998316814483,
         0.8934534189692183,
         0.8856242397209074,
         0.8872728745532316,
         0.8884369251275303,
         0.8838234734138034,
         0.8870301049053457,
         0.875606347299645,
         0.9061790414089899,
         0.8836121343858647,
         0.8761618890248476,
         0.9056563538512785,
         0.8860417375027494,
         0.8931371128063913,
         0.9000767166418985,
         0.8739424583916993,
         0.9056147622393496,
         0.8916695258061327,
         0.8952617143866095,
         0.8973978966715018,
         0.875869371449428,
         0.8958175081679877,
         0.9036533140101408,
         0.8756628777609232,
         0.8855887518364759,
         0.8712247364542389,
         0.8997098456785088,
         0.8908583651511425,
         0.8970048727357065,
         0.9003295607501071,
         0.9001948141142642,
         0.8938909534257712,
         0.8936628500826421,
         0.9101063282769117,
         0.8953705249803023,
         0.8970929388610116,
         0.9025158767361753,
         0.8997861134991534,
         0.8761416128151023,
         0.8885331035126882,
         0.8852387594412474,
         0.886155788190708,
         0.8822111009636504,
         0.9031088782936055,
         0.8744642581280193,
         0.8941636234312846
        ]
       ],
       "encoder": "json",
       "name": "ABC_GAN_3 Metrics",
       "version": 1
      }
     },
     "metadata": {
      "scrapbook": {
       "data": true,
       "display": false,
       "name": "ABC_GAN_3 Metrics"
      }
     },
     "output_type": "display_data"
    },
    {
     "name": "stdout",
     "output_type": "stream",
     "text": [
      "MAE\n",
      "0.057931815930581713\n"
     ]
    }
   ],
   "source": [
    "ABC_GAN3_metrics=ABC_train_test2.test_generator(gen3,test_data,prior_model,variance,bias,\"3\",device)\n",
    "sb.glue(\"ABC_GAN_3 Metrics\",ABC_GAN3_metrics)\n",
    "\n",
    "print(\"MAE\")\n",
    "print(mean(ABC_GAN3_metrics[1]))"
   ]
  },
  {
   "cell_type": "code",
   "execution_count": 22,
   "id": "c8e46b48",
   "metadata": {
    "execution": {
     "iopub.execute_input": "2022-07-24T18:36:32.169667Z",
     "iopub.status.busy": "2022-07-24T18:36:32.168654Z",
     "iopub.status.idle": "2022-07-24T18:36:37.650129Z",
     "shell.execute_reply": "2022-07-24T18:36:37.648928Z"
    },
    "id": "c8e46b48",
    "papermill": {
     "duration": 5.514804,
     "end_time": "2022-07-24T18:36:37.653824",
     "exception": false,
     "start_time": "2022-07-24T18:36:32.139020",
     "status": "completed"
    },
    "tags": []
   },
   "outputs": [
    {
     "data": {
      "image/png": "[encoded data removed]",
      "text/plain": [
       "<Figure size 432x288 with 1 Axes>"
      ]
     },
     "metadata": {
      "needs_background": "light"
     },
     "output_type": "display_data"
    },
    {
     "data": {
      "image/png": "[encoded data removed]",
      "text/plain": [
       "<Figure size 432x288 with 1 Axes>"
      ]
     },
     "metadata": {
      "needs_background": "light"
     },
     "output_type": "display_data"
    },
    {
     "data": {
      "image/png": "[encoded data removed]",
      "text/plain": [
       "<Figure size 432x288 with 1 Axes>"
      ]
     },
     "metadata": {
      "needs_background": "light"
     },
     "output_type": "display_data"
    },
    {
     "data": {
      "image/png": "[encoded data removed]",
      "text/plain": [
       "<Figure size 432x288 with 1 Axes>"
      ]
     },
     "metadata": {
      "needs_background": "light"
     },
     "output_type": "display_data"
    }
   ],
   "source": [
    "sanityChecks.discProbVsError(train_data,disc3,device)\n",
    "sanityChecks.discProbVsError(test_data,disc3,device)"
   ]
  },
  {
   "cell_type": "markdown",
   "id": "83d0585e",
   "metadata": {
    "id": "130f3a4d",
    "papermill": {
     "duration": 0.030801,
     "end_time": "2022-07-24T18:36:37.720040",
     "exception": false,
     "start_time": "2022-07-24T18:36:37.689239",
     "status": "completed"
    },
    "tags": []
   },
   "source": [
    "# skipGAN Model with TabNet Generator"
   ]
  },
  {
   "cell_type": "code",
   "execution_count": 23,
   "id": "589738e0",
   "metadata": {
    "execution": {
     "iopub.execute_input": "2022-07-24T18:36:37.800913Z",
     "iopub.status.busy": "2022-07-24T18:36:37.800395Z",
     "iopub.status.idle": "2022-07-24T18:36:37.856726Z",
     "shell.execute_reply": "2022-07-24T18:36:37.854832Z"
    },
    "id": "4e43dad1",
    "papermill": {
     "duration": 0.146809,
     "end_time": "2022-07-24T18:36:37.890388",
     "exception": false,
     "start_time": "2022-07-24T18:36:37.743579",
     "status": "completed"
    },
    "tags": []
   },
   "outputs": [],
   "source": [
    "#Generator\n",
    "gen4 = network.GeneratorTabnetskipConnection(n_features+1).to(device)\n",
    "constraints=network.weightConstraint()\n",
    "#Discriminator \n",
    "disc4 = network.Discriminator(n_features+1).to(device)\n",
    "\n",
    "criterion = torch.nn.BCELoss()\n",
    "gen_opt = torch.optim.Adam(gen4.parameters(), lr=0.01, betas=(0.5, 0.999))\n",
    "disc_opt = torch.optim.Adam(disc4.parameters(), lr=0.01, betas=(0.5, 0.999))\n"
   ]
  },
  {
   "cell_type": "code",
   "execution_count": 24,
   "id": "2f9116fd",
   "metadata": {
    "execution": {
     "iopub.execute_input": "2022-07-24T18:36:37.971635Z",
     "iopub.status.busy": "2022-07-24T18:36:37.970428Z",
     "iopub.status.idle": "2022-07-24T19:03:57.278639Z",
     "shell.execute_reply": "2022-07-24T19:03:57.274507Z"
    },
    "id": "26acbc37",
    "papermill": {
     "duration": 1639.360078,
     "end_time": "2022-07-24T19:03:57.285850",
     "exception": false,
     "start_time": "2022-07-24T18:36:37.925772",
     "status": "completed"
    },
    "tags": []
   },
   "outputs": [
    {
     "data": {
      "image/png": "[encoded data removed]",
      "text/plain": [
       "<Figure size 432x288 with 1 Axes>"
      ]
     },
     "metadata": {
      "needs_background": "light"
     },
     "output_type": "display_data"
    },
    {
     "data": {
      "image/png": "[encoded data removed]",
      "text/plain": [
       "<Figure size 432x288 with 1 Axes>"
      ]
     },
     "metadata": {
      "needs_background": "light"
     },
     "output_type": "display_data"
    }
   ],
   "source": [
    "ABC_train_test2.training_GAN_skip_connection(disc4,gen4,disc_opt,gen_opt,train_data,batch_size,n_epochs,criterion,prior_model,variance,bias,device)"
   ]
  },
  {
   "cell_type": "code",
   "execution_count": 25,
   "id": "84ce7ba5",
   "metadata": {
    "execution": {
     "iopub.execute_input": "2022-07-24T19:03:57.346075Z",
     "iopub.status.busy": "2022-07-24T19:03:57.345215Z",
     "iopub.status.idle": "2022-07-24T19:04:00.986429Z",
     "shell.execute_reply": "2022-07-24T19:04:00.836414Z"
    },
    "id": "c5e0717b",
    "papermill": {
     "duration": 3.687641,
     "end_time": "2022-07-24T19:04:00.999002",
     "exception": false,
     "start_time": "2022-07-24T19:03:57.311361",
     "status": "completed"
    },
    "tags": []
   },
   "outputs": [
    {
     "data": {
      "application/scrapbook.scrap.json+json": {
       "data": 0.017013019682045362,
       "encoder": "json",
       "name": "ABC-GAN Model 3 MSE",
       "version": 1
      }
     },
     "metadata": {
      "scrapbook": {
       "data": true,
       "display": false,
       "name": "ABC-GAN Model 3 MSE"
      }
     },
     "output_type": "display_data"
    },
    {
     "data": {
      "application/scrapbook.scrap.json+json": {
       "data": 0.09617679821786942,
       "encoder": "json",
       "name": "ABC-GAN Model 3 MAE",
       "version": 1
      }
     },
     "metadata": {
      "scrapbook": {
       "data": true,
       "display": false,
       "name": "ABC-GAN Model 3 MAE"
      }
     },
     "output_type": "display_data"
    },
    {
     "data": {
      "application/scrapbook.scrap.json+json": {
       "data": 14.81122692555189,
       "encoder": "json",
       "name": "ABC-GAN Model 3 Manhattan Distance",
       "version": 1
      }
     },
     "metadata": {
      "scrapbook": {
       "data": true,
       "display": false,
       "name": "ABC-GAN Model 3 Manhattan Distance"
      }
     },
     "output_type": "display_data"
    },
    {
     "data": {
      "application/scrapbook.scrap.json+json": {
       "data": 1.6186058794049247,
       "encoder": "json",
       "name": "ABC-GAN Model 3 Euclidean distance",
       "version": 1
      }
     },
     "metadata": {
      "scrapbook": {
       "data": true,
       "display": false,
       "name": "ABC-GAN Model 3 Euclidean distance"
      }
     },
     "output_type": "display_data"
    },
    {
     "data": {
      "application/scrapbook.scrap.json+json": {
       "data": [
        [
         0.017208005762999187,
         0.01681332663890433,
         0.01732735529730236,
         0.016988444116966536,
         0.016893546753087917,
         0.016767598959241174,
         0.0170431971436123,
         0.01714914627765565,
         0.01696190475234724,
         0.016912335616297722,
         0.016987382363852478,
         0.01720737827955466,
         0.017231333028289147,
         0.01732438069349852,
         0.016711130457382074,
         0.017050964601488274,
         0.017182774687724164,
         0.01720891095337822,
         0.017334866438985314,
         0.016794253313006755,
         0.01709433542625459,
         0.016562083747435313,
         0.01740571827925797,
         0.01713331208673462,
         0.01717228874138662,
         0.017183778248660943,
         0.016865755235667537,
         0.01699421606909167,
         0.01659530448252677,
         0.016760559849135423,
         0.016935051896689514,
         0.017029595180808897,
         0.017344499914810272,
         0.017236146360887078,
         0.016606259423769112,
         0.0171036635678425,
         0.017086601381443932,
         0.016706245685317013,
         0.016647347615465696,
         0.017158753147623378,
         0.01684435747783901,
         0.016858353790726175,
         0.017124094619155376,
         0.017466683599178332,
         0.016688173785059743,
         0.01730568435140506,
         0.016891236861458495,
         0.01674949164918256,
         0.016997680923104802,
         0.01711397233099059,
         0.017064903728171595,
         0.017352572106275162,
         0.017028074825637875,
         0.0166505130552173,
         0.017241073390432377,
         0.01716007966660192,
         0.01699741684315978,
         0.016772942089674496,
         0.017072975820229742,
         0.017072351466222997,
         0.016903404271768684,
         0.017426149912697045,
         0.016813646181612907,
         0.01677173928410852,
         0.017409945366756708,
         0.01692901722396387,
         0.017122551995149966,
         0.016725299538566107,
         0.01703249464264182,
         0.016738830358969677,
         0.017278095849041553,
         0.017269820573656138,
         0.017280849798865423,
         0.01700875164704873,
         0.016664201110056585,
         0.017260660958029053,
         0.01678521990702153,
         0.01661903885132536,
         0.016753829262509953,
         0.01738583169319784,
         0.016876346741888867,
         0.017198629721773658,
         0.01721708804416235,
         0.01718638343628315,
         0.01725359369261446,
         0.01716705683935761,
         0.016851667770548286,
         0.017102313832780186,
         0.01655432556822354,
         0.016939096432922855,
         0.016905553630172477,
         0.017069723434275708,
         0.01672671747858501,
         0.017009417901734623,
         0.016533887719519972,
         0.016903761185175593,
         0.017051202748475054,
         0.017000818770639952,
         0.017207834374709675,
         0.017194785597599512
        ],
        [
         0.09700439715540254,
         0.09665192808810767,
         0.09631230304767559,
         0.09541195698759773,
         0.09702995908144232,
         0.09477982926484826,
         0.09623093806303941,
         0.09629251566026117,
         0.0967006284695167,
         0.09661529222866158,
         0.09539565608485953,
         0.09711530780443897,
         0.09681200395737376,
         0.09670299243230324,
         0.09606654651753314,
         0.09775781070257163,
         0.09599419818683104,
         0.09621664059239549,
         0.0973199742374482,
         0.09479874846610156,
         0.09695596828476175,
         0.09484099799936468,
         0.09731209597417287,
         0.09740939717014115,
         0.09579317494259253,
         0.09656768466358061,
         0.09511132160951564,
         0.09581811755121529,
         0.09505936890453487,
         0.09554153284082165,
         0.09650309877349185,
         0.09639272035716416,
         0.09712758544203523,
         0.09738508679650047,
         0.09633186798204076,
         0.09594380700743044,
         0.09593377213973503,
         0.09568520799859778,
         0.09435404895187972,
         0.09627856662521114,
         0.09575334336463508,
         0.09529262432804356,
         0.09597316510104514,
         0.09702650486648857,
         0.09439807791601527,
         0.09713003126444755,
         0.09581690857356245,
         0.09526275156380294,
         0.0958871812402428,
         0.09690605587773508,
         0.09570544038887148,
         0.097338763537345,
         0.09526162913867406,
         0.09576406745941608,
         0.09659928712364915,
         0.09571266706500735,
         0.09590406425587543,
         0.09514215724034743,
         0.09605004038516578,
         0.09602959589524702,
         0.09516355859768855,
         0.09809597610653221,
         0.09579685514236426,
         0.09494531899690628,
         0.09785496762820653,
         0.09570260994233094,
         0.09553418811652567,
         0.09522367162363869,
         0.09692860230222924,
         0.09626519196219259,
         0.09691576282312343,
         0.09723965407578976,
         0.09656649886013625,
         0.0962033285336061,
         0.09575576799643504,
         0.09711286207878744,
         0.09619638459248976,
         0.09541566650588791,
         0.09511686464795818,
         0.09806353066648756,
         0.09624519653908618,
         0.09607212671211787,
         0.09635611488060518,
         0.09688764863780566,
         0.09609451038496834,
         0.09688900488537627,
         0.0963187866977283,
         0.09644244379037387,
         0.09503754760537829,
         0.09593548562813115,
         0.09661532464352521,
         0.09699415062348564,
         0.09471889004691855,
         0.09620233030094728,
         0.09467823513142475,
         0.09611981071822055,
         0.09628010957272022,
         0.09608135788471668,
         0.09647284390090348,
         0.0966312363743782
        ],
        [
         14.938677161931992,
         14.88439692556858,
         14.832094669342041,
         14.69344137609005,
         14.942613698542118,
         14.596093706786633,
         14.819564461708069,
         14.829047411680222,
         14.891896784305573,
         14.878755003213882,
         14.690931037068367,
         14.955757401883602,
         14.909048609435558,
         14.8922608345747,
         14.794248163700104,
         15.05470284819603,
         14.78310652077198,
         14.817362651228905,
         14.987276032567024,
         14.59900726377964,
         14.93121911585331,
         14.60551369190216,
         14.986062780022621,
         15.001047164201736,
         14.752148941159248,
         14.871423438191414,
         14.64714352786541,
         14.755990102887154,
         14.63914281129837,
         14.713396057486534,
         14.861477211117744,
         14.84447893500328,
         14.957648158073425,
         14.997303366661072,
         14.835107669234276,
         14.775346279144287,
         14.773800909519196,
         14.735522031784058,
         14.530523538589478,
         14.826899260282516,
         14.746014878153801,
         14.675064146518707,
         14.779867425560951,
         14.94208174943924,
         14.537303999066353,
         14.958024814724922,
         14.755803920328617,
         14.670463740825653,
         14.76662591099739,
         14.923532605171204,
         14.738637819886208,
         14.99016958475113,
         14.670290887355804,
         14.747666388750076,
         14.87629021704197,
         14.739750728011131,
         14.769225895404816,
         14.651892215013504,
         14.791706219315529,
         14.788557767868042,
         14.655188024044037,
         15.10678032040596,
         14.752715691924095,
         14.621579125523567,
         15.069665014743805,
         14.738201931118965,
         14.712264969944954,
         14.66444543004036,
         14.927004754543304,
         14.824839562177658,
         14.92502747476101,
         14.974906727671623,
         14.871240824460983,
         14.815312594175339,
         14.746388271450996,
         14.955380760133266,
         14.814243227243423,
         14.694012641906738,
         14.64799715578556,
         15.101783722639084,
         14.821760267019272,
         14.795107513666153,
         14.838841691613197,
         14.920697890222073,
         14.798554599285126,
         14.920906752347946,
         14.833093151450157,
         14.852136343717575,
         14.635782331228256,
         14.774064786732197,
         14.878759995102882,
         14.937099196016788,
         14.586709067225456,
         14.815158866345882,
         14.58044821023941,
         14.802450850605965,
         14.827136874198914,
         14.796529114246368,
         14.856817960739136,
         14.881210401654243
        ],
        [
         1.6278921608945338,
         1.609115378831259,
         1.633527690547229,
         1.6174734600644447,
         1.612949534230857,
         1.6069257107044932,
         1.6200778870524386,
         1.6251056971037208,
         1.6162095569144104,
         1.6138462395500537,
         1.6174229144021923,
         1.6278624803869084,
         1.6289951768978719,
         1.6333874698915662,
         1.604217594479265,
         1.620447021234941,
         1.6266982823835283,
         1.6279349762260917,
         1.6338817067351414,
         1.6082024158056225,
         1.6225065964868084,
         1.5970475563066486,
         1.6372173389644171,
         1.6243552755961768,
         1.6262018528379372,
         1.626745785392968,
         1.6116222591825917,
         1.6177482111379746,
         1.5986484573880282,
         1.606588378137616,
         1.6149297173840678,
         1.6194312760486536,
         1.6343356408280345,
         1.6292226795550724,
         1.5991760226005276,
         1.622949225776255,
         1.622139517039877,
         1.6039831157274755,
         1.601153188418184,
         1.6255608216040396,
         1.6105995938119466,
         1.611268594546493,
         1.6239182773002858,
         1.6400820937603895,
         1.6031153305047021,
         1.632505862199698,
         1.6128392594008272,
         1.606057817755673,
         1.617913119471543,
         1.6234382461222696,
         1.6211092418891535,
         1.634715909375808,
         1.6193589852618329,
         1.601305408253986,
         1.6294555232121513,
         1.625623655295621,
         1.6179005512844744,
         1.6071817202201724,
         1.6214926075426246,
         1.6214629585033207,
         1.6134200500342053,
         1.638177977679881,
         1.6091306696376113,
         1.6071240928293968,
         1.6374161311287163,
         1.6146419579864868,
         1.623845130316649,
         1.604897544686009,
         1.6195691325061863,
         1.6055465970445486,
         1.6312040831092838,
         1.6308134069669178,
         1.631334076461739,
         1.6184399135110035,
         1.601963473662466,
         1.630380871924249,
         1.6077698422601774,
         1.5997912310998912,
         1.6062657645690306,
         1.6362817852535263,
         1.6121282201645393,
         1.627448609681161,
         1.6283217000338113,
         1.6268690940538533,
         1.6300470633275062,
         1.6259541055211466,
         1.6109490484383533,
         1.622885187019756,
         1.596673459886656,
         1.6151225497373627,
         1.6135226242747764,
         1.6213381537725122,
         1.6049655733697503,
         1.6184716113874633,
         1.595687534828193,
         1.6134370835322465,
         1.6204583374049326,
         1.6180624495607556,
         1.6278840541344737,
         1.6272667212323628
        ]
       ],
       "encoder": "json",
       "name": "ABC_GAN_4 Metrics",
       "version": 1
      }
     },
     "metadata": {
      "scrapbook": {
       "data": true,
       "display": false,
       "name": "ABC_GAN_4 Metrics"
      }
     },
     "output_type": "display_data"
    },
    {
     "name": "stdout",
     "output_type": "stream",
     "text": [
      "MAE\n",
      "0.09617679821786942\n"
     ]
    }
   ],
   "source": [
    "ABC_GAN4_metrics=ABC_train_test2.test_generator(gen4,test_data,prior_model,variance,bias,\"3\",device)\n",
    "sb.glue(\"ABC_GAN_4 Metrics\",ABC_GAN4_metrics)\n",
    "\n",
    "print(\"MAE\")\n",
    "print(mean(ABC_GAN4_metrics[1]))"
   ]
  },
  {
   "cell_type": "code",
   "execution_count": 26,
   "id": "fd4f27c4",
   "metadata": {
    "execution": {
     "iopub.execute_input": "2022-07-24T19:04:01.134220Z",
     "iopub.status.busy": "2022-07-24T19:04:01.133878Z",
     "iopub.status.idle": "2022-07-24T19:04:02.251503Z",
     "shell.execute_reply": "2022-07-24T19:04:02.249843Z"
    },
    "id": "c8e46b48",
    "papermill": {
     "duration": 1.174491,
     "end_time": "2022-07-24T19:04:02.254512",
     "exception": false,
     "start_time": "2022-07-24T19:04:01.080021",
     "status": "completed"
    },
    "tags": []
   },
   "outputs": [
    {
     "data": {
      "image/png": "[encoded data removed]",
      "text/plain": [
       "<Figure size 432x288 with 1 Axes>"
      ]
     },
     "metadata": {
      "needs_background": "light"
     },
     "output_type": "display_data"
    },
    {
     "data": {
      "image/png": "[encoded data removed]",
      "text/plain": [
       "<Figure size 432x288 with 1 Axes>"
      ]
     },
     "metadata": {
      "needs_background": "light"
     },
     "output_type": "display_data"
    },
    {
     "data": {
      "image/png": "[encoded data removed]",
      "text/plain": [
       "<Figure size 432x288 with 1 Axes>"
      ]
     },
     "metadata": {
      "needs_background": "light"
     },
     "output_type": "display_data"
    },
    {
     "data": {
      "image/png": "[encoded data removed]",
      "text/plain": [
       "<Figure size 432x288 with 1 Axes>"
      ]
     },
     "metadata": {
      "needs_background": "light"
     },
     "output_type": "display_data"
    }
   ],
   "source": [
    "sanityChecks.discProbVsError(train_data,disc4,device)\n",
    "sanityChecks.discProbVsError(test_data,disc4,device)"
   ]
  },
  {
   "cell_type": "markdown",
   "id": "a5bd74c3",
   "metadata": {
    "id": "a5bd74c3",
    "papermill": {
     "duration": 0.027998,
     "end_time": "2022-07-24T19:04:02.310463",
     "exception": false,
     "start_time": "2022-07-24T19:04:02.282465",
     "status": "completed"
    },
    "tags": []
   },
   "source": [
    "## Skip Connection Model Analysis - ABC-GAN "
   ]
  },
  {
   "cell_type": "markdown",
   "id": "5744a8bf",
   "metadata": {
    "id": "5744a8bf",
    "papermill": {
     "duration": 0.026511,
     "end_time": "2022-07-24T19:04:02.369200",
     "exception": false,
     "start_time": "2022-07-24T19:04:02.342689",
     "status": "completed"
    },
    "tags": []
   },
   "source": [
    "### Weight Analysis \n",
    "\n",
    "Study the weights of the skip connection layer\n",
    "\n",
    "Equation of the skip connection is \n",
    "\n",
    "$output = y_{gan} * w + y_{abc} * (1-w)$"
   ]
  },
  {
   "cell_type": "code",
   "execution_count": 27,
   "id": "52c31dea",
   "metadata": {
    "execution": {
     "iopub.execute_input": "2022-07-24T19:04:02.451138Z",
     "iopub.status.busy": "2022-07-24T19:04:02.450686Z",
     "iopub.status.idle": "2022-07-24T19:04:02.520520Z",
     "shell.execute_reply": "2022-07-24T19:04:02.519068Z"
    },
    "id": "52c31dea",
    "papermill": {
     "duration": 0.115832,
     "end_time": "2022-07-24T19:04:02.525748",
     "exception": false,
     "start_time": "2022-07-24T19:04:02.409916",
     "status": "completed"
    },
    "tags": []
   },
   "outputs": [
    {
     "name": "stdout",
     "output_type": "stream",
     "text": [
      "Weight of the node at skip connection\n",
      "Parameter containing:\n",
      "tensor([[0.0624]], requires_grad=True)\n"
     ]
    },
    {
     "data": {
      "application/scrapbook.scrap.json+json": {
       "data": 0.06244266405701637,
       "encoder": "json",
       "name": "Skip Connection Weight",
       "version": 1
      }
     },
     "metadata": {
      "scrapbook": {
       "data": true,
       "display": false,
       "name": "Skip Connection Weight"
      }
     },
     "output_type": "display_data"
    }
   ],
   "source": [
    "print(\"Weight of the node at skip connection\")\n",
    "for name,param in gen3.named_parameters():\n",
    "    if(name == \"skipNode.weight\"):\n",
    "        print(param)\n",
    "        sb.glue(\"Skip Connection Weight\",param.item())"
   ]
  },
  {
   "cell_type": "markdown",
   "id": "c9d21466",
   "metadata": {
    "id": "a5bd74c3",
    "papermill": {
     "duration": 0.026304,
     "end_time": "2022-07-24T19:04:02.578474",
     "exception": false,
     "start_time": "2022-07-24T19:04:02.552170",
     "status": "completed"
    },
    "tags": []
   },
   "source": [
    "## skipGAN Model Analysis (TabNet Generator) "
   ]
  },
  {
   "cell_type": "markdown",
   "id": "f6585fe4",
   "metadata": {
    "id": "5744a8bf",
    "papermill": {
     "duration": 0.028828,
     "end_time": "2022-07-24T19:04:02.633489",
     "exception": false,
     "start_time": "2022-07-24T19:04:02.604661",
     "status": "completed"
    },
    "tags": []
   },
   "source": [
    "### Weight Analysis \n",
    "\n",
    "Study the weights of the skip connection layer\n",
    "\n",
    "Equation of the skip connection is \n",
    "\n",
    "$output = y_{gan} * w + y_{abc} * (1-w)$"
   ]
  },
  {
   "cell_type": "code",
   "execution_count": 28,
   "id": "37ec081c",
   "metadata": {
    "execution": {
     "iopub.execute_input": "2022-07-24T19:04:02.688645Z",
     "iopub.status.busy": "2022-07-24T19:04:02.688259Z",
     "iopub.status.idle": "2022-07-24T19:04:02.703464Z",
     "shell.execute_reply": "2022-07-24T19:04:02.701958Z"
    },
    "id": "52c31dea",
    "papermill": {
     "duration": 0.04858,
     "end_time": "2022-07-24T19:04:02.707278",
     "exception": false,
     "start_time": "2022-07-24T19:04:02.658698",
     "status": "completed"
    },
    "tags": []
   },
   "outputs": [
    {
     "name": "stdout",
     "output_type": "stream",
     "text": [
      "Weight of the node at skip connection\n",
      "Parameter containing:\n",
      "tensor([[0.0931]], requires_grad=True)\n"
     ]
    },
    {
     "data": {
      "application/scrapbook.scrap.json+json": {
       "data": 0.09305250644683838,
       "encoder": "json",
       "name": "Skip Connection Weight",
       "version": 1
      }
     },
     "metadata": {
      "scrapbook": {
       "data": true,
       "display": false,
       "name": "Skip Connection Weight"
      }
     },
     "output_type": "display_data"
    }
   ],
   "source": [
    "print(\"Weight of the node at skip connection\")\n",
    "for name,param in gen4.named_parameters():\n",
    "    if(name == \"skipNode.weight\"):\n",
    "        print(param)\n",
    "        sb.glue(\"Skip Connection Weight\",param.item())"
   ]
  }
 ],
 "metadata": {
  "colab": {
   "collapsed_sections": [],
   "name": "ABC_GAN_Model-Catboost_Pre-gen.ipynb",
   "provenance": []
  },
  "interpreter": {
   "hash": "31f2aee4e71d21fbe5cf8b01ff0e069b9275f58929596ceb00d14d90e3e16cd6"
  },
  "kernelspec": {
   "display_name": "Python 3 (ipykernel)",
   "language": "python",
   "name": "python3"
  },
  "language_info": {
   "codemirror_mode": {
    "name": "ipython",
    "version": 3
   },
   "file_extension": ".py",
   "mimetype": "text/x-python",
   "name": "python",
   "nbconvert_exporter": "python",
   "pygments_lexer": "ipython3",
   "version": "3.8.9"
  },
  "papermill": {
   "default_parameters": {},
   "duration": 3364.631793,
   "end_time": "2022-07-24T19:04:05.519706",
   "environment_variables": {},
   "exception": null,
   "input_path": "ABC_GAN-Catboost.ipynb",
   "output_path": "./ABC_GAN_Catboost/ABC-GAN_output_1_5.ipynb",
   "parameters": {
    "bias": 0.1,
    "variance": 0.01
   },
   "start_time": "2022-07-24T18:08:00.887913",
   "version": "2.3.3"
  }
 },
 "nbformat": 4,
 "nbformat_minor": 5
}
