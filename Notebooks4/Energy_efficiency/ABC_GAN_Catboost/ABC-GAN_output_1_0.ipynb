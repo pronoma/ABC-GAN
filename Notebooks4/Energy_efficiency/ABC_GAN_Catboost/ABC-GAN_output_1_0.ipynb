{
 "cells": [
  {
   "cell_type": "markdown",
   "id": "622780e6",
   "metadata": {
    "id": "622780e6",
    "papermill": {
     "duration": 0.007097,
     "end_time": "2022-07-24T13:34:05.282990",
     "exception": false,
     "start_time": "2022-07-24T13:34:05.275893",
     "status": "completed"
    },
    "tags": []
   },
   "source": [
    "## Import Libraries "
   ]
  },
  {
   "cell_type": "code",
   "execution_count": 1,
   "id": "a62397e3",
   "metadata": {
    "execution": {
     "iopub.execute_input": "2022-07-24T13:34:05.301086Z",
     "iopub.status.busy": "2022-07-24T13:34:05.300620Z",
     "iopub.status.idle": "2022-07-24T13:34:05.313166Z",
     "shell.execute_reply": "2022-07-24T13:34:05.311880Z"
    },
    "id": "a62397e3",
    "papermill": {
     "duration": 0.02549,
     "end_time": "2022-07-24T13:34:05.317738",
     "exception": false,
     "start_time": "2022-07-24T13:34:05.292248",
     "status": "completed"
    },
    "tags": []
   },
   "outputs": [],
   "source": [
    "import warnings\n",
    "import sys\n",
    "sys.path.insert(0, '../../src')\n",
    "warnings.filterwarnings('ignore')"
   ]
  },
  {
   "cell_type": "code",
   "execution_count": 2,
   "id": "d6a4e155",
   "metadata": {
    "execution": {
     "iopub.execute_input": "2022-07-24T13:34:05.335772Z",
     "iopub.status.busy": "2022-07-24T13:34:05.334784Z",
     "iopub.status.idle": "2022-07-24T13:34:14.994681Z",
     "shell.execute_reply": "2022-07-24T13:34:14.993612Z"
    },
    "id": "d6a4e155",
    "papermill": {
     "duration": 9.675713,
     "end_time": "2022-07-24T13:34:15.000310",
     "exception": false,
     "start_time": "2022-07-24T13:34:05.324597",
     "status": "completed"
    },
    "tags": []
   },
   "outputs": [],
   "source": [
    "import ABC_train_test2\n",
    "import energyefficiencyDataset\n",
    "import network\n",
    "import dataset\n",
    "import sanityChecks\n",
    "import torch \n",
    "import scrapbook as sb\n",
    "from statistics import mean \n",
    "import catboost as ctb \n",
    "from sklearn.model_selection import train_test_split\n",
    "from sklearn.metrics import mean_squared_error,mean_absolute_error\n",
    "import numpy as np"
   ]
  },
  {
   "cell_type": "markdown",
   "id": "2fa5b0f7",
   "metadata": {
    "id": "2fa5b0f7",
    "papermill": {
     "duration": 0.007757,
     "end_time": "2022-07-24T13:34:15.021391",
     "exception": false,
     "start_time": "2022-07-24T13:34:15.013634",
     "status": "completed"
    },
    "tags": []
   },
   "source": [
    "## Parameters "
   ]
  },
  {
   "cell_type": "code",
   "execution_count": 3,
   "id": "783186fb",
   "metadata": {
    "execution": {
     "iopub.execute_input": "2022-07-24T13:34:15.041119Z",
     "iopub.status.busy": "2022-07-24T13:34:15.040452Z",
     "iopub.status.idle": "2022-07-24T13:34:15.046046Z",
     "shell.execute_reply": "2022-07-24T13:34:15.044181Z"
    },
    "id": "783186fb",
    "papermill": {
     "duration": 0.018443,
     "end_time": "2022-07-24T13:34:15.049299",
     "exception": false,
     "start_time": "2022-07-24T13:34:15.030856",
     "status": "completed"
    },
    "tags": [
     "parameters"
    ]
   },
   "outputs": [],
   "source": [
    "variance = 1\n",
    "bias = 1 "
   ]
  },
  {
   "cell_type": "code",
   "execution_count": 4,
   "id": "e8102c9e",
   "metadata": {
    "execution": {
     "iopub.execute_input": "2022-07-24T13:34:15.067950Z",
     "iopub.status.busy": "2022-07-24T13:34:15.067313Z",
     "iopub.status.idle": "2022-07-24T13:34:15.073122Z",
     "shell.execute_reply": "2022-07-24T13:34:15.071828Z"
    },
    "papermill": {
     "duration": 0.019469,
     "end_time": "2022-07-24T13:34:15.077139",
     "exception": false,
     "start_time": "2022-07-24T13:34:15.057670",
     "status": "completed"
    },
    "tags": [
     "injected-parameters"
    ]
   },
   "outputs": [],
   "source": [
    "# Parameters\n",
    "variance = 1\n",
    "bias = 1\n"
   ]
  },
  {
   "cell_type": "markdown",
   "id": "391cdbfd",
   "metadata": {
    "id": "391cdbfd",
    "papermill": {
     "duration": 0.007007,
     "end_time": "2022-07-24T13:34:15.092234",
     "exception": false,
     "start_time": "2022-07-24T13:34:15.085227",
     "status": "completed"
    },
    "tags": []
   },
   "source": [
    "## Dataset \n"
   ]
  },
  {
   "cell_type": "code",
   "execution_count": 5,
   "id": "5b51f161",
   "metadata": {
    "execution": {
     "iopub.execute_input": "2022-07-24T13:34:15.110256Z",
     "iopub.status.busy": "2022-07-24T13:34:15.109452Z",
     "iopub.status.idle": "2022-07-24T13:34:15.115855Z",
     "shell.execute_reply": "2022-07-24T13:34:15.114273Z"
    },
    "id": "5b51f161",
    "papermill": {
     "duration": 0.020067,
     "end_time": "2022-07-24T13:34:15.119383",
     "exception": false,
     "start_time": "2022-07-24T13:34:15.099316",
     "status": "completed"
    },
    "tags": []
   },
   "outputs": [],
   "source": [
    "#Parameters \n",
    "n_features = 8\n",
    "n_samples= 768\n",
    "n_target = 1 "
   ]
  },
  {
   "cell_type": "code",
   "execution_count": 6,
   "id": "5d6eced4",
   "metadata": {
    "execution": {
     "iopub.execute_input": "2022-07-24T13:34:15.140384Z",
     "iopub.status.busy": "2022-07-24T13:34:15.139965Z",
     "iopub.status.idle": "2022-07-24T13:34:15.923616Z",
     "shell.execute_reply": "2022-07-24T13:34:15.921897Z"
    },
    "id": "5d6eced4",
    "papermill": {
     "duration": 0.796794,
     "end_time": "2022-07-24T13:34:15.927209",
     "exception": false,
     "start_time": "2022-07-24T13:34:15.130415",
     "status": "completed"
    },
    "tags": []
   },
   "outputs": [
    {
     "name": "stdout",
     "output_type": "stream",
     "text": [
      "     X1     X2     X3      X4   X5  X6   X7  X8     Y1     Y2\n",
      "0  0.98  514.5  294.0  110.25  7.0   2  0.0   0  15.55  21.33\n",
      "1  0.98  514.5  294.0  110.25  7.0   3  0.0   0  15.55  21.33\n",
      "2  0.98  514.5  294.0  110.25  7.0   4  0.0   0  15.55  21.33\n",
      "3  0.98  514.5  294.0  110.25  7.0   5  0.0   0  15.55  21.33\n",
      "4  0.90  563.5  318.5  122.50  7.0   2  0.0   0  20.84  28.28\n"
     ]
    }
   ],
   "source": [
    "X,Y = energyefficiencyDataset.energy_data()"
   ]
  },
  {
   "cell_type": "code",
   "execution_count": 7,
   "id": "fe007438",
   "metadata": {
    "execution": {
     "iopub.execute_input": "2022-07-24T13:34:15.945834Z",
     "iopub.status.busy": "2022-07-24T13:34:15.945487Z",
     "iopub.status.idle": "2022-07-24T13:34:15.952367Z",
     "shell.execute_reply": "2022-07-24T13:34:15.951249Z"
    },
    "id": "fe007438",
    "papermill": {
     "duration": 0.019521,
     "end_time": "2022-07-24T13:34:15.955435",
     "exception": false,
     "start_time": "2022-07-24T13:34:15.935914",
     "status": "completed"
    },
    "tags": []
   },
   "outputs": [],
   "source": [
    "#Train test split for dataset \n",
    "X_train,X_test,Y_train,Y_test = train_test_split(X,Y,test_size = 0.2)\n",
    "train_data = dataset.CustomDataset(X_train,Y_train)\n",
    "test_data = dataset.CustomDataset(X_test,Y_test)\n"
   ]
  },
  {
   "cell_type": "markdown",
   "id": "a9a1af34",
   "metadata": {
    "id": "a9a1af34",
    "papermill": {
     "duration": 0.008429,
     "end_time": "2022-07-24T13:34:15.972751",
     "exception": false,
     "start_time": "2022-07-24T13:34:15.964322",
     "status": "completed"
    },
    "tags": []
   },
   "source": [
    "## Training Parameters "
   ]
  },
  {
   "cell_type": "code",
   "execution_count": 8,
   "id": "952b7fc8",
   "metadata": {
    "execution": {
     "iopub.execute_input": "2022-07-24T13:34:15.993443Z",
     "iopub.status.busy": "2022-07-24T13:34:15.993101Z",
     "iopub.status.idle": "2022-07-24T13:34:16.000054Z",
     "shell.execute_reply": "2022-07-24T13:34:15.997678Z"
    },
    "id": "952b7fc8",
    "papermill": {
     "duration": 0.022379,
     "end_time": "2022-07-24T13:34:16.003999",
     "exception": false,
     "start_time": "2022-07-24T13:34:15.981620",
     "status": "completed"
    },
    "tags": []
   },
   "outputs": [],
   "source": [
    "batch_size = 32\n",
    "n_epochs = 1000\n",
    "#Select the device \n",
    "device = torch.device('cuda' if torch.cuda.is_available() else 'cpu')"
   ]
  },
  {
   "cell_type": "markdown",
   "id": "a95e1600",
   "metadata": {
    "id": "a95e1600",
    "papermill": {
     "duration": 0.008766,
     "end_time": "2022-07-24T13:34:16.021226",
     "exception": false,
     "start_time": "2022-07-24T13:34:16.012460",
     "status": "completed"
    },
    "tags": []
   },
   "source": [
    "# ABC Pre-generator Model \n",
    "\n",
    "1. The catboost model is used as a pre-generator model for the ABC-GAN. \n",
    "2. The model is first trained on the entire dataset \n",
    "3. It generats X,Y pairs and we add some Gaussian noise with mean 0 and variance 1 to it which is then feed as input to the generator.\n"
   ]
  },
  {
   "cell_type": "code",
   "execution_count": 9,
   "id": "ff8ce7bd",
   "metadata": {
    "execution": {
     "iopub.execute_input": "2022-07-24T13:34:16.039812Z",
     "iopub.status.busy": "2022-07-24T13:34:16.039064Z",
     "iopub.status.idle": "2022-07-24T13:34:17.109521Z",
     "shell.execute_reply": "2022-07-24T13:34:17.107578Z"
    },
    "id": "ff8ce7bd",
    "papermill": {
     "duration": 1.084677,
     "end_time": "2022-07-24T13:34:17.114321",
     "exception": false,
     "start_time": "2022-07-24T13:34:16.029644",
     "status": "completed"
    },
    "tags": []
   },
   "outputs": [
    {
     "name": "stdout",
     "output_type": "stream",
     "text": [
      "Learning rate set to 0.037906\n",
      "0:\tlearn: 0.9843347\ttotal: 51.4ms\tremaining: 51.4s\n",
      "1:\tlearn: 0.9514443\ttotal: 51.7ms\tremaining: 25.8s\n",
      "2:\tlearn: 0.9194185\ttotal: 52.2ms\tremaining: 17.4s\n",
      "3:\tlearn: 0.8883544\ttotal: 52.5ms\tremaining: 13.1s\n",
      "4:\tlearn: 0.8629187\ttotal: 52.9ms\tremaining: 10.5s\n",
      "5:\tlearn: 0.8343168\ttotal: 53.4ms\tremaining: 8.85s\n",
      "6:\tlearn: 0.8112356\ttotal: 53.8ms\tremaining: 7.63s\n",
      "7:\tlearn: 0.7875756\ttotal: 54.3ms\tremaining: 6.73s\n",
      "8:\tlearn: 0.7616835\ttotal: 54.6ms\tremaining: 6.01s\n",
      "9:\tlearn: 0.7376765\ttotal: 55.1ms\tremaining: 5.45s\n",
      "10:\tlearn: 0.7140346\ttotal: 55.5ms\tremaining: 4.99s\n",
      "11:\tlearn: 0.6908024\ttotal: 55.8ms\tremaining: 4.59s\n",
      "12:\tlearn: 0.6688499\ttotal: 56.2ms\tremaining: 4.26s\n"
     ]
    },
    {
     "name": "stdout",
     "output_type": "stream",
     "text": [
      "13:\tlearn: 0.6496638\ttotal: 57.1ms\tremaining: 4.03s\n",
      "14:\tlearn: 0.6290538\ttotal: 57.5ms\tremaining: 3.77s\n",
      "15:\tlearn: 0.6103415\ttotal: 57.9ms\tremaining: 3.56s\n",
      "16:\tlearn: 0.5908871\ttotal: 59ms\tremaining: 3.41s\n",
      "17:\tlearn: 0.5735166\ttotal: 59.2ms\tremaining: 3.23s\n",
      "18:\tlearn: 0.5565432\ttotal: 59.4ms\tremaining: 3.07s\n",
      "19:\tlearn: 0.5428563\ttotal: 59.6ms\tremaining: 2.92s\n",
      "20:\tlearn: 0.5255003\ttotal: 61.2ms\tremaining: 2.85s\n",
      "21:\tlearn: 0.5090072\ttotal: 61.5ms\tremaining: 2.73s\n",
      "22:\tlearn: 0.4952281\ttotal: 61.7ms\tremaining: 2.62s\n",
      "23:\tlearn: 0.4799829\ttotal: 62.1ms\tremaining: 2.53s\n",
      "24:\tlearn: 0.4646972\ttotal: 63.2ms\tremaining: 2.46s\n",
      "25:\tlearn: 0.4502530\ttotal: 64.1ms\tremaining: 2.4s\n",
      "26:\tlearn: 0.4372830\ttotal: 64.7ms\tremaining: 2.33s\n",
      "27:\tlearn: 0.4246587\ttotal: 65.1ms\tremaining: 2.26s\n",
      "28:\tlearn: 0.4124757\ttotal: 65.7ms\tremaining: 2.2s\n",
      "29:\tlearn: 0.4001635\ttotal: 66.3ms\tremaining: 2.14s\n",
      "30:\tlearn: 0.3904099\ttotal: 66.7ms\tremaining: 2.08s\n",
      "31:\tlearn: 0.3810544\ttotal: 67.1ms\tremaining: 2.03s\n",
      "32:\tlearn: 0.3710362\ttotal: 67.6ms\tremaining: 1.98s\n",
      "33:\tlearn: 0.3600021\ttotal: 68.3ms\tremaining: 1.94s\n",
      "34:\tlearn: 0.3488235\ttotal: 68.7ms\tremaining: 1.89s\n",
      "35:\tlearn: 0.3391635\ttotal: 69.3ms\tremaining: 1.86s\n",
      "36:\tlearn: 0.3327076\ttotal: 69.6ms\tremaining: 1.81s\n",
      "37:\tlearn: 0.3231341\ttotal: 70.1ms\tremaining: 1.77s\n",
      "38:\tlearn: 0.3142053\ttotal: 70.6ms\tremaining: 1.74s\n",
      "39:\tlearn: 0.3056601\ttotal: 71.1ms\tremaining: 1.71s\n",
      "40:\tlearn: 0.2969864\ttotal: 71.7ms\tremaining: 1.68s\n",
      "41:\tlearn: 0.2890771\ttotal: 72.3ms\tremaining: 1.65s\n",
      "42:\tlearn: 0.2817135\ttotal: 72.7ms\tremaining: 1.62s\n",
      "43:\tlearn: 0.2749696\ttotal: 73.3ms\tremaining: 1.59s\n",
      "44:\tlearn: 0.2683426\ttotal: 73.7ms\tremaining: 1.56s\n",
      "45:\tlearn: 0.2605527\ttotal: 74.2ms\tremaining: 1.54s\n",
      "46:\tlearn: 0.2541814\ttotal: 74.8ms\tremaining: 1.52s\n",
      "47:\tlearn: 0.2483572\ttotal: 75.3ms\tremaining: 1.49s\n",
      "48:\tlearn: 0.2419632\ttotal: 75.8ms\tremaining: 1.47s\n",
      "49:\tlearn: 0.2364097\ttotal: 76.3ms\tremaining: 1.45s\n",
      "50:\tlearn: 0.2308702\ttotal: 76.7ms\tremaining: 1.43s\n",
      "51:\tlearn: 0.2257462\ttotal: 77.2ms\tremaining: 1.41s\n",
      "52:\tlearn: 0.2195919\ttotal: 77.7ms\tremaining: 1.39s\n",
      "53:\tlearn: 0.2145488\ttotal: 78.3ms\tremaining: 1.37s\n",
      "54:\tlearn: 0.2100237\ttotal: 78.9ms\tremaining: 1.35s\n",
      "55:\tlearn: 0.2041370\ttotal: 79.4ms\tremaining: 1.34s\n",
      "56:\tlearn: 0.1988002\ttotal: 79.8ms\tremaining: 1.32s\n",
      "57:\tlearn: 0.1936088\ttotal: 80.4ms\tremaining: 1.31s\n",
      "58:\tlearn: 0.1884495\ttotal: 81.1ms\tremaining: 1.29s\n",
      "59:\tlearn: 0.1839442\ttotal: 81.8ms\tremaining: 1.28s\n",
      "60:\tlearn: 0.1803464\ttotal: 82.4ms\tremaining: 1.27s\n",
      "61:\tlearn: 0.1764801\ttotal: 83ms\tremaining: 1.25s\n",
      "62:\tlearn: 0.1717783\ttotal: 83.6ms\tremaining: 1.24s\n",
      "63:\tlearn: 0.1685721\ttotal: 84.1ms\tremaining: 1.23s\n",
      "64:\tlearn: 0.1649906\ttotal: 84.6ms\tremaining: 1.22s\n",
      "65:\tlearn: 0.1617882\ttotal: 85.1ms\tremaining: 1.2s\n",
      "66:\tlearn: 0.1588618\ttotal: 85.7ms\tremaining: 1.19s\n",
      "67:\tlearn: 0.1550580\ttotal: 86.2ms\tremaining: 1.18s\n",
      "68:\tlearn: 0.1510421\ttotal: 86.6ms\tremaining: 1.17s\n",
      "69:\tlearn: 0.1473982\ttotal: 87.1ms\tremaining: 1.16s\n",
      "70:\tlearn: 0.1451870\ttotal: 87.6ms\tremaining: 1.15s\n",
      "71:\tlearn: 0.1415919\ttotal: 88.1ms\tremaining: 1.14s\n",
      "72:\tlearn: 0.1386138\ttotal: 88.9ms\tremaining: 1.13s\n",
      "73:\tlearn: 0.1359192\ttotal: 89.3ms\tremaining: 1.12s\n",
      "74:\tlearn: 0.1327916\ttotal: 89.7ms\tremaining: 1.11s\n",
      "75:\tlearn: 0.1312058\ttotal: 90.1ms\tremaining: 1.09s\n",
      "76:\tlearn: 0.1292648\ttotal: 90.6ms\tremaining: 1.09s\n",
      "77:\tlearn: 0.1268884\ttotal: 91.2ms\tremaining: 1.08s\n",
      "78:\tlearn: 0.1244653\ttotal: 91.7ms\tremaining: 1.07s\n",
      "79:\tlearn: 0.1217985\ttotal: 92.3ms\tremaining: 1.06s\n",
      "80:\tlearn: 0.1192953\ttotal: 92.8ms\tremaining: 1.05s\n",
      "81:\tlearn: 0.1168433\ttotal: 93.3ms\tremaining: 1.04s\n",
      "82:\tlearn: 0.1144236\ttotal: 94.1ms\tremaining: 1.04s\n",
      "83:\tlearn: 0.1131372\ttotal: 94.5ms\tremaining: 1.03s\n",
      "84:\tlearn: 0.1108417\ttotal: 95.2ms\tremaining: 1.02s\n",
      "85:\tlearn: 0.1083101\ttotal: 95.6ms\tremaining: 1.01s\n",
      "86:\tlearn: 0.1068444\ttotal: 96.2ms\tremaining: 1.01s\n",
      "87:\tlearn: 0.1047929\ttotal: 96.5ms\tremaining: 1s\n",
      "88:\tlearn: 0.1028002\ttotal: 97ms\tremaining: 993ms\n",
      "89:\tlearn: 0.1005876\ttotal: 97.6ms\tremaining: 987ms\n",
      "90:\tlearn: 0.0983217\ttotal: 98.2ms\tremaining: 981ms\n",
      "91:\tlearn: 0.0973568\ttotal: 98.7ms\tremaining: 974ms\n",
      "92:\tlearn: 0.0961688\ttotal: 99.2ms\tremaining: 968ms\n",
      "93:\tlearn: 0.0950792\ttotal: 99.8ms\tremaining: 962ms\n",
      "94:\tlearn: 0.0933490\ttotal: 100ms\tremaining: 957ms\n",
      "95:\tlearn: 0.0916964\ttotal: 101ms\tremaining: 951ms\n",
      "96:\tlearn: 0.0901730\ttotal: 102ms\tremaining: 945ms\n",
      "97:\tlearn: 0.0888867\ttotal: 102ms\tremaining: 940ms\n",
      "98:\tlearn: 0.0874552\ttotal: 102ms\tremaining: 932ms\n",
      "99:\tlearn: 0.0861028\ttotal: 103ms\tremaining: 928ms\n",
      "100:\tlearn: 0.0844259\ttotal: 104ms\tremaining: 922ms\n",
      "101:\tlearn: 0.0829610\ttotal: 104ms\tremaining: 915ms\n",
      "102:\tlearn: 0.0812875\ttotal: 105ms\tremaining: 910ms\n",
      "103:\tlearn: 0.0798316\ttotal: 105ms\tremaining: 905ms\n",
      "104:\tlearn: 0.0787228\ttotal: 106ms\tremaining: 899ms\n",
      "105:\tlearn: 0.0775589\ttotal: 106ms\tremaining: 895ms\n",
      "106:\tlearn: 0.0762884\ttotal: 107ms\tremaining: 890ms\n",
      "107:\tlearn: 0.0750661\ttotal: 107ms\tremaining: 886ms\n",
      "108:\tlearn: 0.0738857\ttotal: 108ms\tremaining: 879ms\n",
      "109:\tlearn: 0.0725685\ttotal: 108ms\tremaining: 875ms\n",
      "110:\tlearn: 0.0715840\ttotal: 109ms\tremaining: 870ms\n",
      "111:\tlearn: 0.0708004\ttotal: 109ms\tremaining: 865ms\n",
      "112:\tlearn: 0.0699448\ttotal: 110ms\tremaining: 861ms\n",
      "113:\tlearn: 0.0693463\ttotal: 110ms\tremaining: 856ms\n",
      "114:\tlearn: 0.0685329\ttotal: 111ms\tremaining: 852ms\n",
      "115:\tlearn: 0.0674390\ttotal: 111ms\tremaining: 848ms\n",
      "116:\tlearn: 0.0665248\ttotal: 112ms\tremaining: 843ms\n",
      "117:\tlearn: 0.0659175\ttotal: 112ms\tremaining: 840ms\n",
      "118:\tlearn: 0.0648780\ttotal: 113ms\tremaining: 837ms\n",
      "119:\tlearn: 0.0640175\ttotal: 114ms\tremaining: 833ms\n",
      "120:\tlearn: 0.0632241\ttotal: 114ms\tremaining: 829ms\n",
      "121:\tlearn: 0.0626475\ttotal: 115ms\tremaining: 825ms\n",
      "122:\tlearn: 0.0618922\ttotal: 115ms\tremaining: 821ms\n",
      "123:\tlearn: 0.0612445\ttotal: 116ms\tremaining: 817ms\n",
      "124:\tlearn: 0.0605974\ttotal: 116ms\tremaining: 813ms\n",
      "125:\tlearn: 0.0599557\ttotal: 117ms\tremaining: 809ms\n",
      "126:\tlearn: 0.0596004\ttotal: 117ms\tremaining: 806ms\n",
      "127:\tlearn: 0.0589464\ttotal: 118ms\tremaining: 802ms\n",
      "128:\tlearn: 0.0585775\ttotal: 118ms\tremaining: 800ms\n",
      "129:\tlearn: 0.0582521\ttotal: 119ms\tremaining: 797ms\n",
      "130:\tlearn: 0.0576303\ttotal: 120ms\tremaining: 793ms\n",
      "131:\tlearn: 0.0570093\ttotal: 120ms\tremaining: 790ms\n",
      "132:\tlearn: 0.0566324\ttotal: 121ms\tremaining: 788ms\n",
      "133:\tlearn: 0.0560582\ttotal: 121ms\tremaining: 785ms\n",
      "134:\tlearn: 0.0556928\ttotal: 122ms\tremaining: 782ms\n",
      "135:\tlearn: 0.0553592\ttotal: 122ms\tremaining: 778ms\n",
      "136:\tlearn: 0.0548391\ttotal: 123ms\tremaining: 774ms\n",
      "137:\tlearn: 0.0542940\ttotal: 123ms\tremaining: 769ms\n",
      "138:\tlearn: 0.0539391\ttotal: 124ms\tremaining: 766ms\n",
      "139:\tlearn: 0.0536149\ttotal: 124ms\tremaining: 763ms\n",
      "140:\tlearn: 0.0531090\ttotal: 125ms\tremaining: 760ms\n",
      "141:\tlearn: 0.0526497\ttotal: 125ms\tremaining: 757ms\n",
      "142:\tlearn: 0.0523058\ttotal: 126ms\tremaining: 754ms\n",
      "143:\tlearn: 0.0519165\ttotal: 126ms\tremaining: 751ms\n",
      "144:\tlearn: 0.0516226\ttotal: 127ms\tremaining: 747ms\n",
      "145:\tlearn: 0.0513795\ttotal: 130ms\tremaining: 758ms\n",
      "146:\tlearn: 0.0512102\ttotal: 132ms\tremaining: 768ms\n",
      "147:\tlearn: 0.0508405\ttotal: 133ms\tremaining: 767ms\n",
      "148:\tlearn: 0.0504229\ttotal: 134ms\tremaining: 764ms\n",
      "149:\tlearn: 0.0500473\ttotal: 134ms\tremaining: 761ms\n",
      "150:\tlearn: 0.0498263\ttotal: 135ms\tremaining: 759ms\n",
      "151:\tlearn: 0.0495930\ttotal: 135ms\tremaining: 756ms\n",
      "152:\tlearn: 0.0492383\ttotal: 139ms\tremaining: 772ms\n",
      "153:\tlearn: 0.0490133\ttotal: 140ms\tremaining: 771ms\n",
      "154:\tlearn: 0.0486382\ttotal: 141ms\tremaining: 769ms\n",
      "155:\tlearn: 0.0482856\ttotal: 142ms\tremaining: 768ms\n"
     ]
    },
    {
     "name": "stdout",
     "output_type": "stream",
     "text": [
      "156:\tlearn: 0.0480160\ttotal: 144ms\tremaining: 774ms\n",
      "157:\tlearn: 0.0477790\ttotal: 145ms\tremaining: 774ms\n",
      "158:\tlearn: 0.0475970\ttotal: 154ms\tremaining: 814ms\n",
      "159:\tlearn: 0.0473953\ttotal: 156ms\tremaining: 819ms\n",
      "160:\tlearn: 0.0471340\ttotal: 157ms\tremaining: 817ms\n",
      "161:\tlearn: 0.0468785\ttotal: 157ms\tremaining: 815ms\n",
      "162:\tlearn: 0.0466246\ttotal: 159ms\tremaining: 816ms\n",
      "163:\tlearn: 0.0464766\ttotal: 161ms\tremaining: 822ms\n",
      "164:\tlearn: 0.0462626\ttotal: 162ms\tremaining: 819ms\n",
      "165:\tlearn: 0.0460748\ttotal: 162ms\tremaining: 815ms\n",
      "166:\tlearn: 0.0458297\ttotal: 163ms\tremaining: 813ms\n",
      "167:\tlearn: 0.0456100\ttotal: 164ms\tremaining: 811ms\n",
      "168:\tlearn: 0.0454125\ttotal: 165ms\tremaining: 810ms\n",
      "169:\tlearn: 0.0451725\ttotal: 166ms\tremaining: 811ms\n",
      "170:\tlearn: 0.0449996\ttotal: 169ms\tremaining: 822ms\n",
      "171:\tlearn: 0.0448090\ttotal: 171ms\tremaining: 822ms\n",
      "172:\tlearn: 0.0446168\ttotal: 172ms\tremaining: 822ms\n",
      "173:\tlearn: 0.0444597\ttotal: 173ms\tremaining: 821ms\n",
      "174:\tlearn: 0.0442865\ttotal: 178ms\tremaining: 839ms\n",
      "175:\tlearn: 0.0440992\ttotal: 179ms\tremaining: 838ms\n",
      "176:\tlearn: 0.0439475\ttotal: 180ms\tremaining: 837ms\n",
      "177:\tlearn: 0.0437566\ttotal: 181ms\tremaining: 834ms\n",
      "178:\tlearn: 0.0435755\ttotal: 182ms\tremaining: 835ms\n",
      "179:\tlearn: 0.0433952\ttotal: 183ms\tremaining: 834ms\n",
      "180:\tlearn: 0.0431974\ttotal: 185ms\tremaining: 835ms\n"
     ]
    },
    {
     "name": "stdout",
     "output_type": "stream",
     "text": [
      "181:\tlearn: 0.0430247\ttotal: 187ms\tremaining: 842ms\n",
      "182:\tlearn: 0.0428663\ttotal: 188ms\tremaining: 841ms\n",
      "183:\tlearn: 0.0426525\ttotal: 190ms\tremaining: 842ms\n",
      "184:\tlearn: 0.0424483\ttotal: 192ms\tremaining: 847ms\n",
      "185:\tlearn: 0.0422913\ttotal: 196ms\tremaining: 857ms\n",
      "186:\tlearn: 0.0422042\ttotal: 198ms\tremaining: 860ms\n",
      "187:\tlearn: 0.0420500\ttotal: 199ms\tremaining: 858ms\n",
      "188:\tlearn: 0.0418369\ttotal: 199ms\tremaining: 855ms\n",
      "189:\tlearn: 0.0416733\ttotal: 200ms\tremaining: 853ms\n",
      "190:\tlearn: 0.0413900\ttotal: 200ms\tremaining: 849ms\n",
      "191:\tlearn: 0.0412073\ttotal: 201ms\tremaining: 847ms\n",
      "192:\tlearn: 0.0410736\ttotal: 202ms\tremaining: 846ms\n",
      "193:\tlearn: 0.0409355\ttotal: 203ms\tremaining: 845ms\n",
      "194:\tlearn: 0.0407562\ttotal: 204ms\tremaining: 842ms\n",
      "195:\tlearn: 0.0405406\ttotal: 205ms\tremaining: 841ms\n",
      "196:\tlearn: 0.0403705\ttotal: 206ms\tremaining: 840ms\n",
      "197:\tlearn: 0.0402702\ttotal: 207ms\tremaining: 838ms\n",
      "198:\tlearn: 0.0399914\ttotal: 207ms\tremaining: 835ms\n",
      "199:\tlearn: 0.0397953\ttotal: 208ms\tremaining: 832ms\n",
      "200:\tlearn: 0.0396949\ttotal: 209ms\tremaining: 830ms\n",
      "201:\tlearn: 0.0396059\ttotal: 209ms\tremaining: 827ms\n",
      "202:\tlearn: 0.0394487\ttotal: 210ms\tremaining: 826ms\n",
      "203:\tlearn: 0.0393786\ttotal: 211ms\tremaining: 823ms\n",
      "204:\tlearn: 0.0392728\ttotal: 211ms\tremaining: 819ms\n",
      "205:\tlearn: 0.0390957\ttotal: 212ms\tremaining: 815ms\n",
      "206:\tlearn: 0.0390215\ttotal: 212ms\tremaining: 812ms\n",
      "207:\tlearn: 0.0389470\ttotal: 212ms\tremaining: 808ms\n",
      "208:\tlearn: 0.0388228\ttotal: 213ms\tremaining: 806ms\n",
      "209:\tlearn: 0.0387235\ttotal: 213ms\tremaining: 802ms\n",
      "210:\tlearn: 0.0385784\ttotal: 214ms\tremaining: 802ms\n",
      "211:\tlearn: 0.0384629\ttotal: 215ms\tremaining: 799ms\n",
      "212:\tlearn: 0.0383094\ttotal: 216ms\tremaining: 797ms\n",
      "213:\tlearn: 0.0381729\ttotal: 216ms\tremaining: 794ms\n",
      "214:\tlearn: 0.0380353\ttotal: 217ms\tremaining: 791ms\n",
      "215:\tlearn: 0.0378650\ttotal: 217ms\tremaining: 789ms\n",
      "216:\tlearn: 0.0377280\ttotal: 218ms\tremaining: 786ms\n",
      "217:\tlearn: 0.0376173\ttotal: 218ms\tremaining: 784ms\n",
      "218:\tlearn: 0.0375235\ttotal: 219ms\tremaining: 781ms\n",
      "219:\tlearn: 0.0374380\ttotal: 220ms\tremaining: 779ms\n",
      "220:\tlearn: 0.0373037\ttotal: 220ms\tremaining: 777ms\n",
      "221:\tlearn: 0.0371295\ttotal: 221ms\tremaining: 774ms\n",
      "222:\tlearn: 0.0370212\ttotal: 222ms\tremaining: 772ms\n",
      "223:\tlearn: 0.0369128\ttotal: 222ms\tremaining: 769ms\n",
      "224:\tlearn: 0.0368298\ttotal: 222ms\tremaining: 766ms\n",
      "225:\tlearn: 0.0367222\ttotal: 223ms\tremaining: 763ms\n",
      "226:\tlearn: 0.0365978\ttotal: 223ms\tremaining: 761ms\n",
      "227:\tlearn: 0.0364794\ttotal: 224ms\tremaining: 760ms\n",
      "228:\tlearn: 0.0363400\ttotal: 225ms\tremaining: 757ms\n",
      "229:\tlearn: 0.0362211\ttotal: 225ms\tremaining: 755ms\n",
      "230:\tlearn: 0.0361527\ttotal: 226ms\tremaining: 753ms\n",
      "231:\tlearn: 0.0360156\ttotal: 227ms\tremaining: 751ms\n",
      "232:\tlearn: 0.0358867\ttotal: 228ms\tremaining: 749ms\n",
      "233:\tlearn: 0.0356556\ttotal: 228ms\tremaining: 747ms\n",
      "234:\tlearn: 0.0355906\ttotal: 229ms\tremaining: 744ms\n",
      "235:\tlearn: 0.0354711\ttotal: 230ms\tremaining: 743ms\n",
      "236:\tlearn: 0.0353959\ttotal: 230ms\tremaining: 742ms\n",
      "237:\tlearn: 0.0353337\ttotal: 231ms\tremaining: 741ms\n",
      "238:\tlearn: 0.0352327\ttotal: 232ms\tremaining: 740ms\n",
      "239:\tlearn: 0.0351247\ttotal: 240ms\tremaining: 759ms\n",
      "240:\tlearn: 0.0350659\ttotal: 240ms\tremaining: 757ms\n",
      "241:\tlearn: 0.0349618\ttotal: 241ms\tremaining: 756ms\n",
      "242:\tlearn: 0.0348569\ttotal: 242ms\tremaining: 754ms\n",
      "243:\tlearn: 0.0346511\ttotal: 243ms\tremaining: 754ms\n",
      "244:\tlearn: 0.0345473\ttotal: 244ms\tremaining: 752ms\n",
      "245:\tlearn: 0.0344845\ttotal: 247ms\tremaining: 757ms\n",
      "246:\tlearn: 0.0343861\ttotal: 248ms\tremaining: 756ms\n",
      "247:\tlearn: 0.0342904\ttotal: 249ms\tremaining: 755ms\n",
      "248:\tlearn: 0.0342302\ttotal: 249ms\tremaining: 752ms\n",
      "249:\tlearn: 0.0341365\ttotal: 250ms\tremaining: 750ms\n",
      "250:\tlearn: 0.0340873\ttotal: 251ms\tremaining: 749ms\n",
      "251:\tlearn: 0.0339123\ttotal: 252ms\tremaining: 748ms\n",
      "252:\tlearn: 0.0338593\ttotal: 253ms\tremaining: 746ms\n",
      "253:\tlearn: 0.0337772\ttotal: 254ms\tremaining: 745ms\n",
      "254:\tlearn: 0.0336667\ttotal: 255ms\tremaining: 744ms\n",
      "255:\tlearn: 0.0336012\ttotal: 255ms\tremaining: 742ms\n",
      "256:\tlearn: 0.0335112\ttotal: 256ms\tremaining: 740ms\n",
      "257:\tlearn: 0.0333946\ttotal: 257ms\tremaining: 738ms\n",
      "258:\tlearn: 0.0332267\ttotal: 257ms\tremaining: 736ms\n",
      "259:\tlearn: 0.0331427\ttotal: 258ms\tremaining: 733ms\n",
      "260:\tlearn: 0.0330804\ttotal: 258ms\tremaining: 731ms\n",
      "261:\tlearn: 0.0329734\ttotal: 259ms\tremaining: 729ms\n",
      "262:\tlearn: 0.0328762\ttotal: 259ms\tremaining: 727ms\n",
      "263:\tlearn: 0.0327734\ttotal: 260ms\tremaining: 725ms\n",
      "264:\tlearn: 0.0327142\ttotal: 261ms\tremaining: 724ms\n",
      "265:\tlearn: 0.0326247\ttotal: 262ms\tremaining: 722ms\n",
      "266:\tlearn: 0.0324841\ttotal: 262ms\tremaining: 719ms\n",
      "267:\tlearn: 0.0323868\ttotal: 262ms\tremaining: 717ms\n",
      "268:\tlearn: 0.0323053\ttotal: 263ms\tremaining: 715ms\n",
      "269:\tlearn: 0.0322327\ttotal: 263ms\tremaining: 712ms\n",
      "270:\tlearn: 0.0321585\ttotal: 264ms\tremaining: 710ms\n",
      "271:\tlearn: 0.0320834\ttotal: 265ms\tremaining: 708ms\n",
      "272:\tlearn: 0.0319571\ttotal: 265ms\tremaining: 706ms\n",
      "273:\tlearn: 0.0318854\ttotal: 266ms\tremaining: 704ms\n",
      "274:\tlearn: 0.0317650\ttotal: 266ms\tremaining: 701ms\n",
      "275:\tlearn: 0.0316706\ttotal: 266ms\tremaining: 699ms\n",
      "276:\tlearn: 0.0315522\ttotal: 267ms\tremaining: 696ms\n",
      "277:\tlearn: 0.0314641\ttotal: 267ms\tremaining: 693ms\n",
      "278:\tlearn: 0.0314126\ttotal: 268ms\tremaining: 693ms\n",
      "279:\tlearn: 0.0312696\ttotal: 268ms\tremaining: 690ms\n",
      "280:\tlearn: 0.0311995\ttotal: 269ms\tremaining: 688ms\n",
      "281:\tlearn: 0.0311458\ttotal: 269ms\tremaining: 686ms\n",
      "282:\tlearn: 0.0310785\ttotal: 270ms\tremaining: 684ms\n",
      "283:\tlearn: 0.0310142\ttotal: 270ms\tremaining: 682ms\n",
      "284:\tlearn: 0.0309346\ttotal: 271ms\tremaining: 679ms\n",
      "285:\tlearn: 0.0308720\ttotal: 271ms\tremaining: 677ms\n",
      "286:\tlearn: 0.0308070\ttotal: 272ms\tremaining: 675ms\n",
      "287:\tlearn: 0.0306749\ttotal: 272ms\tremaining: 673ms\n",
      "288:\tlearn: 0.0305512\ttotal: 273ms\tremaining: 671ms\n",
      "289:\tlearn: 0.0304696\ttotal: 273ms\tremaining: 668ms\n",
      "290:\tlearn: 0.0303550\ttotal: 274ms\tremaining: 667ms\n",
      "291:\tlearn: 0.0302942\ttotal: 274ms\tremaining: 665ms\n",
      "292:\tlearn: 0.0302203\ttotal: 275ms\tremaining: 663ms\n",
      "293:\tlearn: 0.0301888\ttotal: 275ms\tremaining: 661ms\n",
      "294:\tlearn: 0.0301152\ttotal: 275ms\tremaining: 658ms\n",
      "295:\tlearn: 0.0300708\ttotal: 276ms\tremaining: 656ms\n",
      "296:\tlearn: 0.0300138\ttotal: 276ms\tremaining: 654ms\n",
      "297:\tlearn: 0.0299489\ttotal: 277ms\tremaining: 652ms\n",
      "298:\tlearn: 0.0299021\ttotal: 277ms\tremaining: 650ms\n",
      "299:\tlearn: 0.0297553\ttotal: 278ms\tremaining: 648ms\n",
      "300:\tlearn: 0.0296954\ttotal: 278ms\tremaining: 646ms\n",
      "301:\tlearn: 0.0295557\ttotal: 278ms\tremaining: 644ms\n",
      "302:\tlearn: 0.0294906\ttotal: 279ms\tremaining: 642ms\n",
      "303:\tlearn: 0.0294174\ttotal: 279ms\tremaining: 640ms\n",
      "304:\tlearn: 0.0292856\ttotal: 280ms\tremaining: 638ms\n",
      "305:\tlearn: 0.0292446\ttotal: 280ms\tremaining: 636ms\n",
      "306:\tlearn: 0.0292140\ttotal: 281ms\tremaining: 634ms\n",
      "307:\tlearn: 0.0291516\ttotal: 281ms\tremaining: 632ms\n",
      "308:\tlearn: 0.0291138\ttotal: 282ms\tremaining: 630ms\n",
      "309:\tlearn: 0.0289910\ttotal: 282ms\tremaining: 628ms\n",
      "310:\tlearn: 0.0289392\ttotal: 283ms\tremaining: 626ms\n",
      "311:\tlearn: 0.0288823\ttotal: 283ms\tremaining: 624ms\n",
      "312:\tlearn: 0.0288528\ttotal: 283ms\tremaining: 621ms\n"
     ]
    },
    {
     "name": "stdout",
     "output_type": "stream",
     "text": [
      "313:\tlearn: 0.0288240\ttotal: 283ms\tremaining: 619ms\n",
      "314:\tlearn: 0.0287968\ttotal: 285ms\tremaining: 620ms\n",
      "315:\tlearn: 0.0286762\ttotal: 286ms\tremaining: 619ms\n",
      "316:\tlearn: 0.0286503\ttotal: 286ms\tremaining: 617ms\n",
      "317:\tlearn: 0.0286153\ttotal: 287ms\tremaining: 615ms\n",
      "318:\tlearn: 0.0285349\ttotal: 287ms\tremaining: 613ms\n",
      "319:\tlearn: 0.0284256\ttotal: 288ms\tremaining: 612ms\n",
      "320:\tlearn: 0.0283747\ttotal: 288ms\tremaining: 610ms\n",
      "321:\tlearn: 0.0283125\ttotal: 289ms\tremaining: 608ms\n",
      "322:\tlearn: 0.0282489\ttotal: 289ms\tremaining: 606ms\n",
      "323:\tlearn: 0.0281732\ttotal: 290ms\tremaining: 605ms\n",
      "324:\tlearn: 0.0281102\ttotal: 291ms\tremaining: 604ms\n",
      "325:\tlearn: 0.0280475\ttotal: 291ms\tremaining: 602ms\n",
      "326:\tlearn: 0.0279985\ttotal: 292ms\tremaining: 601ms\n",
      "327:\tlearn: 0.0279545\ttotal: 292ms\tremaining: 599ms\n",
      "328:\tlearn: 0.0279066\ttotal: 293ms\tremaining: 597ms\n",
      "329:\tlearn: 0.0278774\ttotal: 293ms\tremaining: 595ms\n",
      "330:\tlearn: 0.0278362\ttotal: 294ms\tremaining: 594ms\n",
      "331:\tlearn: 0.0277922\ttotal: 294ms\tremaining: 592ms\n",
      "332:\tlearn: 0.0277304\ttotal: 295ms\tremaining: 590ms\n",
      "333:\tlearn: 0.0276685\ttotal: 295ms\tremaining: 589ms\n",
      "334:\tlearn: 0.0276239\ttotal: 296ms\tremaining: 587ms\n",
      "335:\tlearn: 0.0275843\ttotal: 296ms\tremaining: 586ms\n",
      "336:\tlearn: 0.0275264\ttotal: 298ms\tremaining: 586ms\n",
      "337:\tlearn: 0.0274717\ttotal: 299ms\tremaining: 585ms\n",
      "338:\tlearn: 0.0274154\ttotal: 299ms\tremaining: 583ms\n",
      "339:\tlearn: 0.0273821\ttotal: 300ms\tremaining: 582ms\n",
      "340:\tlearn: 0.0272918\ttotal: 300ms\tremaining: 580ms\n",
      "341:\tlearn: 0.0272391\ttotal: 301ms\tremaining: 578ms\n",
      "342:\tlearn: 0.0272005\ttotal: 301ms\tremaining: 576ms\n",
      "343:\tlearn: 0.0271111\ttotal: 301ms\tremaining: 574ms\n",
      "344:\tlearn: 0.0270479\ttotal: 301ms\tremaining: 572ms\n",
      "345:\tlearn: 0.0270058\ttotal: 302ms\tremaining: 570ms\n",
      "346:\tlearn: 0.0269626\ttotal: 302ms\tremaining: 569ms\n",
      "347:\tlearn: 0.0269201\ttotal: 303ms\tremaining: 567ms\n",
      "348:\tlearn: 0.0268356\ttotal: 303ms\tremaining: 566ms\n",
      "349:\tlearn: 0.0267550\ttotal: 304ms\tremaining: 564ms\n",
      "350:\tlearn: 0.0267034\ttotal: 304ms\tremaining: 562ms\n",
      "351:\tlearn: 0.0266672\ttotal: 304ms\tremaining: 560ms\n",
      "352:\tlearn: 0.0266212\ttotal: 305ms\tremaining: 559ms\n",
      "353:\tlearn: 0.0265722\ttotal: 305ms\tremaining: 557ms\n",
      "354:\tlearn: 0.0265435\ttotal: 305ms\tremaining: 555ms\n",
      "355:\tlearn: 0.0264964\ttotal: 306ms\tremaining: 554ms\n",
      "356:\tlearn: 0.0264170\ttotal: 307ms\tremaining: 552ms\n",
      "357:\tlearn: 0.0263920\ttotal: 307ms\tremaining: 551ms\n",
      "358:\tlearn: 0.0263167\ttotal: 308ms\tremaining: 549ms\n",
      "359:\tlearn: 0.0262929\ttotal: 308ms\tremaining: 548ms\n",
      "360:\tlearn: 0.0262556\ttotal: 308ms\tremaining: 546ms\n",
      "361:\tlearn: 0.0262091\ttotal: 309ms\tremaining: 544ms\n",
      "362:\tlearn: 0.0261648\ttotal: 309ms\tremaining: 542ms\n",
      "363:\tlearn: 0.0261148\ttotal: 309ms\tremaining: 541ms\n",
      "364:\tlearn: 0.0260400\ttotal: 310ms\tremaining: 539ms\n",
      "365:\tlearn: 0.0259596\ttotal: 310ms\tremaining: 537ms\n",
      "366:\tlearn: 0.0259224\ttotal: 311ms\tremaining: 536ms\n",
      "367:\tlearn: 0.0258911\ttotal: 311ms\tremaining: 535ms\n",
      "368:\tlearn: 0.0258707\ttotal: 312ms\tremaining: 533ms\n",
      "369:\tlearn: 0.0258000\ttotal: 312ms\tremaining: 532ms\n",
      "370:\tlearn: 0.0257586\ttotal: 313ms\tremaining: 530ms\n",
      "371:\tlearn: 0.0257165\ttotal: 313ms\tremaining: 529ms\n",
      "372:\tlearn: 0.0256358\ttotal: 314ms\tremaining: 527ms\n",
      "373:\tlearn: 0.0255879\ttotal: 314ms\tremaining: 526ms\n",
      "374:\tlearn: 0.0255647\ttotal: 315ms\tremaining: 524ms\n",
      "375:\tlearn: 0.0255334\ttotal: 315ms\tremaining: 523ms\n",
      "376:\tlearn: 0.0255138\ttotal: 315ms\tremaining: 521ms\n",
      "377:\tlearn: 0.0254790\ttotal: 316ms\tremaining: 520ms\n",
      "378:\tlearn: 0.0254050\ttotal: 316ms\tremaining: 518ms\n",
      "379:\tlearn: 0.0253644\ttotal: 316ms\tremaining: 516ms\n",
      "380:\tlearn: 0.0253288\ttotal: 317ms\tremaining: 515ms\n",
      "381:\tlearn: 0.0252816\ttotal: 317ms\tremaining: 513ms\n",
      "382:\tlearn: 0.0251800\ttotal: 318ms\tremaining: 512ms\n",
      "383:\tlearn: 0.0251516\ttotal: 318ms\tremaining: 510ms\n",
      "384:\tlearn: 0.0251175\ttotal: 319ms\tremaining: 509ms\n",
      "385:\tlearn: 0.0250796\ttotal: 319ms\tremaining: 508ms\n",
      "386:\tlearn: 0.0250468\ttotal: 320ms\tremaining: 507ms\n",
      "387:\tlearn: 0.0249877\ttotal: 320ms\tremaining: 505ms\n",
      "388:\tlearn: 0.0249631\ttotal: 321ms\tremaining: 504ms\n",
      "389:\tlearn: 0.0249305\ttotal: 321ms\tremaining: 502ms\n",
      "390:\tlearn: 0.0248686\ttotal: 322ms\tremaining: 501ms\n",
      "391:\tlearn: 0.0247954\ttotal: 322ms\tremaining: 500ms\n",
      "392:\tlearn: 0.0247349\ttotal: 323ms\tremaining: 498ms\n",
      "393:\tlearn: 0.0246775\ttotal: 323ms\tremaining: 497ms\n",
      "394:\tlearn: 0.0245840\ttotal: 324ms\tremaining: 496ms\n",
      "395:\tlearn: 0.0245506\ttotal: 324ms\tremaining: 494ms\n",
      "396:\tlearn: 0.0244962\ttotal: 324ms\tremaining: 492ms\n",
      "397:\tlearn: 0.0244618\ttotal: 324ms\tremaining: 491ms\n",
      "398:\tlearn: 0.0243889\ttotal: 325ms\tremaining: 489ms\n",
      "399:\tlearn: 0.0243596\ttotal: 325ms\tremaining: 488ms\n",
      "400:\tlearn: 0.0243151\ttotal: 326ms\tremaining: 487ms\n",
      "401:\tlearn: 0.0242885\ttotal: 326ms\tremaining: 485ms\n",
      "402:\tlearn: 0.0242346\ttotal: 327ms\tremaining: 484ms\n",
      "403:\tlearn: 0.0241745\ttotal: 328ms\tremaining: 483ms\n",
      "404:\tlearn: 0.0241441\ttotal: 328ms\tremaining: 482ms\n",
      "405:\tlearn: 0.0240952\ttotal: 329ms\tremaining: 481ms\n",
      "406:\tlearn: 0.0240153\ttotal: 330ms\tremaining: 480ms\n",
      "407:\tlearn: 0.0239592\ttotal: 330ms\tremaining: 479ms\n",
      "408:\tlearn: 0.0239213\ttotal: 331ms\tremaining: 478ms\n",
      "409:\tlearn: 0.0239063\ttotal: 331ms\tremaining: 477ms\n",
      "410:\tlearn: 0.0238534\ttotal: 332ms\tremaining: 476ms\n",
      "411:\tlearn: 0.0237719\ttotal: 332ms\tremaining: 474ms\n",
      "412:\tlearn: 0.0237344\ttotal: 332ms\tremaining: 473ms\n",
      "413:\tlearn: 0.0236884\ttotal: 333ms\tremaining: 471ms\n",
      "414:\tlearn: 0.0236570\ttotal: 333ms\tremaining: 470ms\n",
      "415:\tlearn: 0.0236138\ttotal: 333ms\tremaining: 468ms\n",
      "416:\tlearn: 0.0235561\ttotal: 334ms\tremaining: 466ms\n"
     ]
    },
    {
     "name": "stdout",
     "output_type": "stream",
     "text": [
      "417:\tlearn: 0.0235001\ttotal: 335ms\tremaining: 466ms\n",
      "418:\tlearn: 0.0234675\ttotal: 335ms\tremaining: 465ms\n",
      "419:\tlearn: 0.0234343\ttotal: 338ms\tremaining: 466ms\n",
      "420:\tlearn: 0.0234064\ttotal: 338ms\tremaining: 465ms\n",
      "421:\tlearn: 0.0233909\ttotal: 339ms\tremaining: 464ms\n",
      "422:\tlearn: 0.0233570\ttotal: 339ms\tremaining: 463ms\n",
      "423:\tlearn: 0.0233289\ttotal: 340ms\tremaining: 461ms\n",
      "424:\tlearn: 0.0233038\ttotal: 340ms\tremaining: 460ms\n",
      "425:\tlearn: 0.0232536\ttotal: 340ms\tremaining: 459ms\n",
      "426:\tlearn: 0.0232295\ttotal: 341ms\tremaining: 457ms\n",
      "427:\tlearn: 0.0231953\ttotal: 341ms\tremaining: 456ms\n",
      "428:\tlearn: 0.0231124\ttotal: 342ms\tremaining: 455ms\n",
      "429:\tlearn: 0.0230648\ttotal: 342ms\tremaining: 453ms\n",
      "430:\tlearn: 0.0230266\ttotal: 342ms\tremaining: 452ms\n",
      "431:\tlearn: 0.0230095\ttotal: 343ms\tremaining: 451ms\n",
      "432:\tlearn: 0.0229783\ttotal: 343ms\tremaining: 450ms\n",
      "433:\tlearn: 0.0229525\ttotal: 344ms\tremaining: 449ms\n",
      "434:\tlearn: 0.0229032\ttotal: 344ms\tremaining: 447ms\n",
      "435:\tlearn: 0.0228703\ttotal: 345ms\tremaining: 446ms\n",
      "436:\tlearn: 0.0228425\ttotal: 345ms\tremaining: 445ms\n",
      "437:\tlearn: 0.0228128\ttotal: 346ms\tremaining: 444ms\n",
      "438:\tlearn: 0.0227660\ttotal: 346ms\tremaining: 443ms\n",
      "439:\tlearn: 0.0227398\ttotal: 347ms\tremaining: 442ms\n",
      "440:\tlearn: 0.0226708\ttotal: 348ms\tremaining: 441ms\n",
      "441:\tlearn: 0.0226395\ttotal: 348ms\tremaining: 440ms\n",
      "442:\tlearn: 0.0226265\ttotal: 349ms\tremaining: 438ms\n",
      "443:\tlearn: 0.0226017\ttotal: 349ms\tremaining: 437ms\n",
      "444:\tlearn: 0.0225548\ttotal: 349ms\tremaining: 436ms\n",
      "445:\tlearn: 0.0225324\ttotal: 350ms\tremaining: 434ms\n",
      "446:\tlearn: 0.0225061\ttotal: 350ms\tremaining: 433ms\n",
      "447:\tlearn: 0.0224854\ttotal: 351ms\tremaining: 432ms\n",
      "448:\tlearn: 0.0224340\ttotal: 351ms\tremaining: 431ms\n",
      "449:\tlearn: 0.0223906\ttotal: 351ms\tremaining: 430ms\n",
      "450:\tlearn: 0.0223690\ttotal: 352ms\tremaining: 429ms\n",
      "451:\tlearn: 0.0223453\ttotal: 353ms\tremaining: 427ms\n",
      "452:\tlearn: 0.0223179\ttotal: 353ms\tremaining: 426ms\n",
      "453:\tlearn: 0.0222726\ttotal: 354ms\tremaining: 425ms\n",
      "454:\tlearn: 0.0222599\ttotal: 354ms\tremaining: 424ms\n",
      "455:\tlearn: 0.0222083\ttotal: 355ms\tremaining: 423ms\n",
      "456:\tlearn: 0.0221864\ttotal: 355ms\tremaining: 422ms\n",
      "457:\tlearn: 0.0221615\ttotal: 356ms\tremaining: 421ms\n",
      "458:\tlearn: 0.0221325\ttotal: 356ms\tremaining: 420ms\n",
      "459:\tlearn: 0.0221123\ttotal: 357ms\tremaining: 419ms\n",
      "460:\tlearn: 0.0220984\ttotal: 357ms\tremaining: 417ms\n",
      "461:\tlearn: 0.0220789\ttotal: 357ms\tremaining: 416ms\n",
      "462:\tlearn: 0.0220558\ttotal: 358ms\tremaining: 415ms\n",
      "463:\tlearn: 0.0219929\ttotal: 358ms\tremaining: 414ms\n",
      "464:\tlearn: 0.0219450\ttotal: 359ms\tremaining: 413ms\n",
      "465:\tlearn: 0.0219000\ttotal: 359ms\tremaining: 412ms\n",
      "466:\tlearn: 0.0218555\ttotal: 360ms\tremaining: 411ms\n",
      "467:\tlearn: 0.0218412\ttotal: 361ms\tremaining: 410ms\n",
      "468:\tlearn: 0.0218063\ttotal: 361ms\tremaining: 409ms\n",
      "469:\tlearn: 0.0217635\ttotal: 362ms\tremaining: 408ms\n",
      "470:\tlearn: 0.0217390\ttotal: 362ms\tremaining: 407ms\n",
      "471:\tlearn: 0.0217173\ttotal: 363ms\tremaining: 406ms\n",
      "472:\tlearn: 0.0216977\ttotal: 363ms\tremaining: 405ms\n",
      "473:\tlearn: 0.0216731\ttotal: 364ms\tremaining: 403ms\n",
      "474:\tlearn: 0.0216369\ttotal: 364ms\tremaining: 402ms\n",
      "475:\tlearn: 0.0216128\ttotal: 364ms\tremaining: 401ms\n",
      "476:\tlearn: 0.0215967\ttotal: 365ms\tremaining: 400ms\n",
      "477:\tlearn: 0.0215389\ttotal: 365ms\tremaining: 398ms\n",
      "478:\tlearn: 0.0215207\ttotal: 365ms\tremaining: 397ms\n",
      "479:\tlearn: 0.0214792\ttotal: 365ms\tremaining: 396ms\n",
      "480:\tlearn: 0.0214373\ttotal: 366ms\tremaining: 395ms\n",
      "481:\tlearn: 0.0214241\ttotal: 367ms\tremaining: 394ms\n",
      "482:\tlearn: 0.0213828\ttotal: 367ms\tremaining: 393ms\n",
      "483:\tlearn: 0.0213161\ttotal: 368ms\tremaining: 392ms\n",
      "484:\tlearn: 0.0212734\ttotal: 368ms\tremaining: 391ms\n",
      "485:\tlearn: 0.0212627\ttotal: 369ms\tremaining: 390ms\n",
      "486:\tlearn: 0.0212231\ttotal: 369ms\tremaining: 389ms\n",
      "487:\tlearn: 0.0212120\ttotal: 370ms\tremaining: 388ms\n",
      "488:\tlearn: 0.0211748\ttotal: 370ms\tremaining: 387ms\n",
      "489:\tlearn: 0.0211372\ttotal: 371ms\tremaining: 386ms\n",
      "490:\tlearn: 0.0211106\ttotal: 371ms\tremaining: 385ms\n",
      "491:\tlearn: 0.0210900\ttotal: 372ms\tremaining: 384ms\n",
      "492:\tlearn: 0.0210557\ttotal: 373ms\tremaining: 383ms\n",
      "493:\tlearn: 0.0210458\ttotal: 373ms\tremaining: 382ms\n",
      "494:\tlearn: 0.0210188\ttotal: 374ms\tremaining: 381ms\n",
      "495:\tlearn: 0.0209842\ttotal: 374ms\tremaining: 380ms\n",
      "496:\tlearn: 0.0209625\ttotal: 374ms\tremaining: 379ms\n",
      "497:\tlearn: 0.0209441\ttotal: 375ms\tremaining: 378ms\n",
      "498:\tlearn: 0.0209086\ttotal: 375ms\tremaining: 377ms\n",
      "499:\tlearn: 0.0208660\ttotal: 376ms\tremaining: 376ms\n",
      "500:\tlearn: 0.0208444\ttotal: 376ms\tremaining: 375ms\n",
      "501:\tlearn: 0.0207903\ttotal: 377ms\tremaining: 374ms\n",
      "502:\tlearn: 0.0207629\ttotal: 377ms\tremaining: 373ms\n",
      "503:\tlearn: 0.0207387\ttotal: 378ms\tremaining: 372ms\n",
      "504:\tlearn: 0.0207082\ttotal: 378ms\tremaining: 371ms\n",
      "505:\tlearn: 0.0206755\ttotal: 379ms\tremaining: 370ms\n",
      "506:\tlearn: 0.0206549\ttotal: 379ms\tremaining: 369ms\n",
      "507:\tlearn: 0.0206052\ttotal: 380ms\tremaining: 368ms\n",
      "508:\tlearn: 0.0205832\ttotal: 380ms\tremaining: 367ms\n",
      "509:\tlearn: 0.0205502\ttotal: 380ms\tremaining: 366ms\n",
      "510:\tlearn: 0.0205290\ttotal: 381ms\tremaining: 365ms\n",
      "511:\tlearn: 0.0205035\ttotal: 381ms\tremaining: 364ms\n",
      "512:\tlearn: 0.0204881\ttotal: 382ms\tremaining: 363ms\n",
      "513:\tlearn: 0.0204612\ttotal: 382ms\tremaining: 362ms\n",
      "514:\tlearn: 0.0204355\ttotal: 383ms\tremaining: 361ms\n",
      "515:\tlearn: 0.0203933\ttotal: 383ms\tremaining: 360ms\n",
      "516:\tlearn: 0.0203695\ttotal: 384ms\tremaining: 359ms\n",
      "517:\tlearn: 0.0203447\ttotal: 384ms\tremaining: 358ms\n",
      "518:\tlearn: 0.0202986\ttotal: 385ms\tremaining: 357ms\n",
      "519:\tlearn: 0.0202796\ttotal: 386ms\tremaining: 356ms\n",
      "520:\tlearn: 0.0202473\ttotal: 386ms\tremaining: 355ms\n",
      "521:\tlearn: 0.0202146\ttotal: 387ms\tremaining: 354ms\n",
      "522:\tlearn: 0.0201955\ttotal: 387ms\tremaining: 353ms\n",
      "523:\tlearn: 0.0201547\ttotal: 388ms\tremaining: 352ms\n",
      "524:\tlearn: 0.0201339\ttotal: 388ms\tremaining: 351ms\n",
      "525:\tlearn: 0.0201106\ttotal: 388ms\tremaining: 350ms\n",
      "526:\tlearn: 0.0200813\ttotal: 389ms\tremaining: 349ms\n",
      "527:\tlearn: 0.0200455\ttotal: 390ms\tremaining: 348ms\n",
      "528:\tlearn: 0.0200333\ttotal: 390ms\tremaining: 347ms\n",
      "529:\tlearn: 0.0200044\ttotal: 390ms\tremaining: 346ms\n",
      "530:\tlearn: 0.0199873\ttotal: 391ms\tremaining: 345ms\n",
      "531:\tlearn: 0.0199561\ttotal: 391ms\tremaining: 344ms\n",
      "532:\tlearn: 0.0199283\ttotal: 392ms\tremaining: 343ms\n",
      "533:\tlearn: 0.0199093\ttotal: 392ms\tremaining: 342ms\n",
      "534:\tlearn: 0.0198731\ttotal: 393ms\tremaining: 341ms\n",
      "535:\tlearn: 0.0198317\ttotal: 393ms\tremaining: 341ms\n",
      "536:\tlearn: 0.0198153\ttotal: 394ms\tremaining: 339ms\n",
      "537:\tlearn: 0.0197915\ttotal: 394ms\tremaining: 339ms\n",
      "538:\tlearn: 0.0197734\ttotal: 395ms\tremaining: 338ms\n",
      "539:\tlearn: 0.0197504\ttotal: 395ms\tremaining: 337ms\n",
      "540:\tlearn: 0.0197219\ttotal: 395ms\tremaining: 336ms\n",
      "541:\tlearn: 0.0196994\ttotal: 396ms\tremaining: 334ms\n",
      "542:\tlearn: 0.0196776\ttotal: 396ms\tremaining: 333ms\n",
      "543:\tlearn: 0.0196604\ttotal: 397ms\tremaining: 333ms\n",
      "544:\tlearn: 0.0196497\ttotal: 398ms\tremaining: 332ms\n",
      "545:\tlearn: 0.0196266\ttotal: 399ms\tremaining: 332ms\n",
      "546:\tlearn: 0.0196174\ttotal: 400ms\tremaining: 331ms\n",
      "547:\tlearn: 0.0196095\ttotal: 400ms\tremaining: 330ms\n",
      "548:\tlearn: 0.0195826\ttotal: 401ms\tremaining: 329ms\n",
      "549:\tlearn: 0.0195384\ttotal: 401ms\tremaining: 328ms\n",
      "550:\tlearn: 0.0195177\ttotal: 402ms\tremaining: 327ms\n",
      "551:\tlearn: 0.0194922\ttotal: 402ms\tremaining: 326ms\n",
      "552:\tlearn: 0.0194761\ttotal: 403ms\tremaining: 325ms\n",
      "553:\tlearn: 0.0194563\ttotal: 403ms\tremaining: 325ms\n",
      "554:\tlearn: 0.0194438\ttotal: 403ms\tremaining: 323ms\n",
      "555:\tlearn: 0.0194261\ttotal: 405ms\tremaining: 323ms\n",
      "556:\tlearn: 0.0194188\ttotal: 405ms\tremaining: 322ms\n",
      "557:\tlearn: 0.0193858\ttotal: 407ms\tremaining: 322ms\n",
      "558:\tlearn: 0.0193474\ttotal: 408ms\tremaining: 322ms\n",
      "559:\tlearn: 0.0193156\ttotal: 408ms\tremaining: 321ms\n",
      "560:\tlearn: 0.0192882\ttotal: 409ms\tremaining: 320ms\n",
      "561:\tlearn: 0.0192694\ttotal: 409ms\tremaining: 319ms\n",
      "562:\tlearn: 0.0192453\ttotal: 410ms\tremaining: 318ms\n",
      "563:\tlearn: 0.0192253\ttotal: 410ms\tremaining: 317ms\n",
      "564:\tlearn: 0.0192030\ttotal: 411ms\tremaining: 317ms\n",
      "565:\tlearn: 0.0191819\ttotal: 412ms\tremaining: 316ms\n",
      "566:\tlearn: 0.0191714\ttotal: 412ms\tremaining: 315ms\n",
      "567:\tlearn: 0.0191639\ttotal: 413ms\tremaining: 314ms\n",
      "568:\tlearn: 0.0191469\ttotal: 413ms\tremaining: 313ms\n",
      "569:\tlearn: 0.0191283\ttotal: 414ms\tremaining: 312ms\n",
      "570:\tlearn: 0.0191183\ttotal: 414ms\tremaining: 311ms\n",
      "571:\tlearn: 0.0190997\ttotal: 415ms\tremaining: 310ms\n",
      "572:\tlearn: 0.0190848\ttotal: 415ms\tremaining: 309ms\n",
      "573:\tlearn: 0.0190513\ttotal: 416ms\tremaining: 308ms\n",
      "574:\tlearn: 0.0190325\ttotal: 416ms\tremaining: 308ms\n",
      "575:\tlearn: 0.0190146\ttotal: 417ms\tremaining: 307ms\n",
      "576:\tlearn: 0.0189791\ttotal: 417ms\tremaining: 306ms\n",
      "577:\tlearn: 0.0189647\ttotal: 418ms\tremaining: 305ms\n",
      "578:\tlearn: 0.0189461\ttotal: 418ms\tremaining: 304ms\n",
      "579:\tlearn: 0.0189317\ttotal: 418ms\tremaining: 303ms\n",
      "580:\tlearn: 0.0189177\ttotal: 419ms\tremaining: 302ms\n",
      "581:\tlearn: 0.0189010\ttotal: 420ms\tremaining: 301ms\n",
      "582:\tlearn: 0.0188845\ttotal: 420ms\tremaining: 301ms\n",
      "583:\tlearn: 0.0188651\ttotal: 421ms\tremaining: 300ms\n",
      "584:\tlearn: 0.0188479\ttotal: 421ms\tremaining: 299ms\n",
      "585:\tlearn: 0.0188345\ttotal: 421ms\tremaining: 298ms\n",
      "586:\tlearn: 0.0188133\ttotal: 422ms\tremaining: 297ms\n",
      "587:\tlearn: 0.0187910\ttotal: 422ms\tremaining: 296ms\n",
      "588:\tlearn: 0.0187754\ttotal: 423ms\tremaining: 295ms\n",
      "589:\tlearn: 0.0187535\ttotal: 423ms\tremaining: 294ms\n",
      "590:\tlearn: 0.0187384\ttotal: 424ms\tremaining: 293ms\n",
      "591:\tlearn: 0.0187116\ttotal: 424ms\tremaining: 292ms\n",
      "592:\tlearn: 0.0186882\ttotal: 425ms\tremaining: 292ms\n",
      "593:\tlearn: 0.0186736\ttotal: 425ms\tremaining: 291ms\n",
      "594:\tlearn: 0.0186538\ttotal: 426ms\tremaining: 290ms\n",
      "595:\tlearn: 0.0186333\ttotal: 426ms\tremaining: 289ms\n",
      "596:\tlearn: 0.0185942\ttotal: 427ms\tremaining: 288ms\n",
      "597:\tlearn: 0.0185777\ttotal: 427ms\tremaining: 287ms\n",
      "598:\tlearn: 0.0185410\ttotal: 428ms\tremaining: 286ms\n",
      "599:\tlearn: 0.0185255\ttotal: 428ms\tremaining: 285ms\n"
     ]
    },
    {
     "name": "stdout",
     "output_type": "stream",
     "text": [
      "600:\tlearn: 0.0184909\ttotal: 430ms\tremaining: 285ms\n",
      "601:\tlearn: 0.0184768\ttotal: 432ms\tremaining: 285ms\n",
      "602:\tlearn: 0.0184519\ttotal: 432ms\tremaining: 284ms\n",
      "603:\tlearn: 0.0184450\ttotal: 436ms\tremaining: 286ms\n",
      "604:\tlearn: 0.0184307\ttotal: 443ms\tremaining: 289ms\n",
      "605:\tlearn: 0.0184127\ttotal: 444ms\tremaining: 289ms\n",
      "606:\tlearn: 0.0183925\ttotal: 447ms\tremaining: 289ms\n",
      "607:\tlearn: 0.0183768\ttotal: 449ms\tremaining: 289ms\n",
      "608:\tlearn: 0.0183551\ttotal: 450ms\tremaining: 289ms\n",
      "609:\tlearn: 0.0183414\ttotal: 451ms\tremaining: 288ms\n",
      "610:\tlearn: 0.0183252\ttotal: 452ms\tremaining: 288ms\n",
      "611:\tlearn: 0.0183074\ttotal: 452ms\tremaining: 287ms\n",
      "612:\tlearn: 0.0182914\ttotal: 453ms\tremaining: 286ms\n",
      "613:\tlearn: 0.0182778\ttotal: 454ms\tremaining: 285ms\n",
      "614:\tlearn: 0.0182649\ttotal: 454ms\tremaining: 284ms\n",
      "615:\tlearn: 0.0182324\ttotal: 454ms\tremaining: 283ms\n",
      "616:\tlearn: 0.0182196\ttotal: 455ms\tremaining: 282ms\n",
      "617:\tlearn: 0.0182051\ttotal: 455ms\tremaining: 281ms\n",
      "618:\tlearn: 0.0181901\ttotal: 456ms\tremaining: 280ms\n",
      "619:\tlearn: 0.0181779\ttotal: 456ms\tremaining: 280ms\n",
      "620:\tlearn: 0.0181562\ttotal: 457ms\tremaining: 279ms\n",
      "621:\tlearn: 0.0181348\ttotal: 461ms\tremaining: 280ms\n",
      "622:\tlearn: 0.0181041\ttotal: 462ms\tremaining: 279ms\n",
      "623:\tlearn: 0.0180913\ttotal: 467ms\tremaining: 282ms\n",
      "624:\tlearn: 0.0180869\ttotal: 468ms\tremaining: 281ms\n"
     ]
    },
    {
     "name": "stdout",
     "output_type": "stream",
     "text": [
      "625:\tlearn: 0.0180712\ttotal: 470ms\tremaining: 281ms\n",
      "626:\tlearn: 0.0180422\ttotal: 471ms\tremaining: 280ms\n",
      "627:\tlearn: 0.0180298\ttotal: 472ms\tremaining: 279ms\n",
      "628:\tlearn: 0.0180123\ttotal: 479ms\tremaining: 283ms\n",
      "629:\tlearn: 0.0179918\ttotal: 480ms\tremaining: 282ms\n",
      "630:\tlearn: 0.0179718\ttotal: 480ms\tremaining: 281ms\n",
      "631:\tlearn: 0.0179598\ttotal: 481ms\tremaining: 280ms\n",
      "632:\tlearn: 0.0179270\ttotal: 484ms\tremaining: 280ms\n",
      "633:\tlearn: 0.0179145\ttotal: 485ms\tremaining: 280ms\n",
      "634:\tlearn: 0.0179029\ttotal: 489ms\tremaining: 281ms\n",
      "635:\tlearn: 0.0178869\ttotal: 490ms\tremaining: 280ms\n",
      "636:\tlearn: 0.0178791\ttotal: 491ms\tremaining: 280ms\n",
      "637:\tlearn: 0.0178452\ttotal: 491ms\tremaining: 279ms\n",
      "638:\tlearn: 0.0178200\ttotal: 492ms\tremaining: 278ms\n",
      "639:\tlearn: 0.0178138\ttotal: 493ms\tremaining: 277ms\n",
      "640:\tlearn: 0.0177909\ttotal: 494ms\tremaining: 277ms\n",
      "641:\tlearn: 0.0177680\ttotal: 496ms\tremaining: 277ms\n",
      "642:\tlearn: 0.0177566\ttotal: 503ms\tremaining: 279ms\n",
      "643:\tlearn: 0.0177299\ttotal: 504ms\tremaining: 279ms\n",
      "644:\tlearn: 0.0177130\ttotal: 506ms\tremaining: 278ms\n",
      "645:\tlearn: 0.0177060\ttotal: 515ms\tremaining: 282ms\n",
      "646:\tlearn: 0.0176932\ttotal: 516ms\tremaining: 282ms\n",
      "647:\tlearn: 0.0176687\ttotal: 517ms\tremaining: 281ms\n",
      "648:\tlearn: 0.0176545\ttotal: 520ms\tremaining: 281ms\n",
      "649:\tlearn: 0.0176236\ttotal: 525ms\tremaining: 283ms\n",
      "650:\tlearn: 0.0176125\ttotal: 526ms\tremaining: 282ms\n",
      "651:\tlearn: 0.0175983\ttotal: 527ms\tremaining: 281ms\n",
      "652:\tlearn: 0.0175800\ttotal: 528ms\tremaining: 281ms\n",
      "653:\tlearn: 0.0175616\ttotal: 529ms\tremaining: 280ms\n",
      "654:\tlearn: 0.0175455\ttotal: 529ms\tremaining: 279ms\n",
      "655:\tlearn: 0.0175140\ttotal: 530ms\tremaining: 278ms\n",
      "656:\tlearn: 0.0174953\ttotal: 531ms\tremaining: 277ms\n",
      "657:\tlearn: 0.0174827\ttotal: 533ms\tremaining: 277ms\n",
      "658:\tlearn: 0.0174662\ttotal: 533ms\tremaining: 276ms\n",
      "659:\tlearn: 0.0174524\ttotal: 534ms\tremaining: 275ms\n",
      "660:\tlearn: 0.0174383\ttotal: 536ms\tremaining: 275ms\n",
      "661:\tlearn: 0.0174137\ttotal: 537ms\tremaining: 274ms\n",
      "662:\tlearn: 0.0174042\ttotal: 537ms\tremaining: 273ms\n",
      "663:\tlearn: 0.0173862\ttotal: 539ms\tremaining: 273ms\n",
      "664:\tlearn: 0.0173657\ttotal: 539ms\tremaining: 272ms\n",
      "665:\tlearn: 0.0173590\ttotal: 541ms\tremaining: 271ms\n",
      "666:\tlearn: 0.0173459\ttotal: 543ms\tremaining: 271ms\n"
     ]
    },
    {
     "name": "stdout",
     "output_type": "stream",
     "text": [
      "667:\tlearn: 0.0173364\ttotal: 544ms\tremaining: 270ms\n",
      "668:\tlearn: 0.0173317\ttotal: 548ms\tremaining: 271ms\n",
      "669:\tlearn: 0.0173203\ttotal: 549ms\tremaining: 270ms\n",
      "670:\tlearn: 0.0173067\ttotal: 550ms\tremaining: 270ms\n",
      "671:\tlearn: 0.0172919\ttotal: 551ms\tremaining: 269ms\n",
      "672:\tlearn: 0.0172423\ttotal: 552ms\tremaining: 268ms\n",
      "673:\tlearn: 0.0172157\ttotal: 553ms\tremaining: 267ms\n",
      "674:\tlearn: 0.0171940\ttotal: 553ms\tremaining: 266ms\n",
      "675:\tlearn: 0.0171805\ttotal: 554ms\tremaining: 266ms\n",
      "676:\tlearn: 0.0171666\ttotal: 555ms\tremaining: 265ms\n",
      "677:\tlearn: 0.0171526\ttotal: 556ms\tremaining: 264ms\n",
      "678:\tlearn: 0.0171263\ttotal: 556ms\tremaining: 263ms\n",
      "679:\tlearn: 0.0171193\ttotal: 558ms\tremaining: 262ms\n",
      "680:\tlearn: 0.0170964\ttotal: 558ms\tremaining: 262ms\n",
      "681:\tlearn: 0.0170763\ttotal: 559ms\tremaining: 260ms\n",
      "682:\tlearn: 0.0170634\ttotal: 559ms\tremaining: 260ms\n",
      "683:\tlearn: 0.0170493\ttotal: 560ms\tremaining: 259ms\n",
      "684:\tlearn: 0.0170254\ttotal: 560ms\tremaining: 258ms\n",
      "685:\tlearn: 0.0170195\ttotal: 561ms\tremaining: 257ms\n",
      "686:\tlearn: 0.0170076\ttotal: 561ms\tremaining: 256ms\n",
      "687:\tlearn: 0.0169930\ttotal: 562ms\tremaining: 255ms\n",
      "688:\tlearn: 0.0169797\ttotal: 562ms\tremaining: 254ms\n",
      "689:\tlearn: 0.0169666\ttotal: 563ms\tremaining: 253ms\n",
      "690:\tlearn: 0.0169592\ttotal: 563ms\tremaining: 252ms\n",
      "691:\tlearn: 0.0169490\ttotal: 564ms\tremaining: 251ms\n",
      "692:\tlearn: 0.0169273\ttotal: 564ms\tremaining: 250ms\n",
      "693:\tlearn: 0.0169214\ttotal: 565ms\tremaining: 249ms\n",
      "694:\tlearn: 0.0169038\ttotal: 565ms\tremaining: 248ms\n",
      "695:\tlearn: 0.0168908\ttotal: 566ms\tremaining: 247ms\n",
      "696:\tlearn: 0.0168770\ttotal: 566ms\tremaining: 246ms\n",
      "697:\tlearn: 0.0168638\ttotal: 567ms\tremaining: 245ms\n",
      "698:\tlearn: 0.0168540\ttotal: 567ms\tremaining: 244ms\n",
      "699:\tlearn: 0.0168334\ttotal: 568ms\tremaining: 243ms\n",
      "700:\tlearn: 0.0168139\ttotal: 568ms\tremaining: 242ms\n",
      "701:\tlearn: 0.0167823\ttotal: 569ms\tremaining: 242ms\n",
      "702:\tlearn: 0.0167666\ttotal: 570ms\tremaining: 241ms\n",
      "703:\tlearn: 0.0167531\ttotal: 570ms\tremaining: 240ms\n",
      "704:\tlearn: 0.0167383\ttotal: 571ms\tremaining: 239ms\n",
      "705:\tlearn: 0.0167280\ttotal: 572ms\tremaining: 238ms\n",
      "706:\tlearn: 0.0167216\ttotal: 572ms\tremaining: 237ms\n",
      "707:\tlearn: 0.0167063\ttotal: 573ms\tremaining: 236ms\n",
      "708:\tlearn: 0.0167007\ttotal: 573ms\tremaining: 235ms\n",
      "709:\tlearn: 0.0166908\ttotal: 574ms\tremaining: 234ms\n",
      "710:\tlearn: 0.0166690\ttotal: 574ms\tremaining: 233ms\n",
      "711:\tlearn: 0.0166435\ttotal: 575ms\tremaining: 233ms\n",
      "712:\tlearn: 0.0166309\ttotal: 576ms\tremaining: 232ms\n",
      "713:\tlearn: 0.0166205\ttotal: 576ms\tremaining: 231ms\n",
      "714:\tlearn: 0.0165924\ttotal: 578ms\tremaining: 231ms\n",
      "715:\tlearn: 0.0165781\ttotal: 579ms\tremaining: 230ms\n",
      "716:\tlearn: 0.0165646\ttotal: 580ms\tremaining: 229ms\n",
      "717:\tlearn: 0.0165551\ttotal: 580ms\tremaining: 228ms\n",
      "718:\tlearn: 0.0165498\ttotal: 581ms\tremaining: 227ms\n",
      "719:\tlearn: 0.0165378\ttotal: 581ms\tremaining: 226ms\n",
      "720:\tlearn: 0.0165338\ttotal: 582ms\tremaining: 225ms\n",
      "721:\tlearn: 0.0165217\ttotal: 583ms\tremaining: 224ms\n",
      "722:\tlearn: 0.0165077\ttotal: 583ms\tremaining: 223ms\n",
      "723:\tlearn: 0.0164958\ttotal: 583ms\tremaining: 222ms\n",
      "724:\tlearn: 0.0164828\ttotal: 584ms\tremaining: 221ms\n",
      "725:\tlearn: 0.0164758\ttotal: 584ms\tremaining: 221ms\n",
      "726:\tlearn: 0.0164662\ttotal: 585ms\tremaining: 220ms\n",
      "727:\tlearn: 0.0164602\ttotal: 586ms\tremaining: 219ms\n",
      "728:\tlearn: 0.0164486\ttotal: 586ms\tremaining: 218ms\n",
      "729:\tlearn: 0.0164392\ttotal: 586ms\tremaining: 217ms\n",
      "730:\tlearn: 0.0164188\ttotal: 587ms\tremaining: 216ms\n",
      "731:\tlearn: 0.0164058\ttotal: 587ms\tremaining: 215ms\n",
      "732:\tlearn: 0.0163937\ttotal: 588ms\tremaining: 214ms\n",
      "733:\tlearn: 0.0163792\ttotal: 589ms\tremaining: 213ms\n",
      "734:\tlearn: 0.0163736\ttotal: 589ms\tremaining: 212ms\n",
      "735:\tlearn: 0.0163533\ttotal: 590ms\tremaining: 211ms\n",
      "736:\tlearn: 0.0163412\ttotal: 590ms\tremaining: 210ms\n",
      "737:\tlearn: 0.0163311\ttotal: 590ms\tremaining: 209ms\n",
      "738:\tlearn: 0.0163207\ttotal: 590ms\tremaining: 208ms\n",
      "739:\tlearn: 0.0163068\ttotal: 591ms\tremaining: 207ms\n",
      "740:\tlearn: 0.0162935\ttotal: 591ms\tremaining: 206ms\n",
      "741:\tlearn: 0.0162820\ttotal: 591ms\tremaining: 206ms\n",
      "742:\tlearn: 0.0162702\ttotal: 592ms\tremaining: 205ms\n",
      "743:\tlearn: 0.0162514\ttotal: 592ms\tremaining: 204ms\n",
      "744:\tlearn: 0.0162388\ttotal: 593ms\tremaining: 203ms\n",
      "745:\tlearn: 0.0162267\ttotal: 593ms\tremaining: 202ms\n",
      "746:\tlearn: 0.0162229\ttotal: 593ms\tremaining: 201ms\n",
      "747:\tlearn: 0.0162127\ttotal: 594ms\tremaining: 200ms\n",
      "748:\tlearn: 0.0161968\ttotal: 594ms\tremaining: 199ms\n",
      "749:\tlearn: 0.0161938\ttotal: 594ms\tremaining: 198ms\n",
      "750:\tlearn: 0.0161786\ttotal: 595ms\tremaining: 197ms\n",
      "751:\tlearn: 0.0161690\ttotal: 596ms\tremaining: 196ms\n",
      "752:\tlearn: 0.0161552\ttotal: 596ms\tremaining: 195ms\n",
      "753:\tlearn: 0.0161447\ttotal: 596ms\tremaining: 195ms\n",
      "754:\tlearn: 0.0161302\ttotal: 597ms\tremaining: 194ms\n",
      "755:\tlearn: 0.0161187\ttotal: 597ms\tremaining: 193ms\n",
      "756:\tlearn: 0.0161089\ttotal: 598ms\tremaining: 192ms\n",
      "757:\tlearn: 0.0161007\ttotal: 598ms\tremaining: 191ms\n",
      "758:\tlearn: 0.0160879\ttotal: 598ms\tremaining: 190ms\n"
     ]
    },
    {
     "name": "stdout",
     "output_type": "stream",
     "text": [
      "759:\tlearn: 0.0160659\ttotal: 599ms\tremaining: 189ms\n",
      "760:\tlearn: 0.0160572\ttotal: 600ms\tremaining: 188ms\n",
      "761:\tlearn: 0.0160458\ttotal: 601ms\tremaining: 188ms\n",
      "762:\tlearn: 0.0160357\ttotal: 601ms\tremaining: 187ms\n",
      "763:\tlearn: 0.0160334\ttotal: 602ms\tremaining: 186ms\n",
      "764:\tlearn: 0.0160127\ttotal: 602ms\tremaining: 185ms\n",
      "765:\tlearn: 0.0160027\ttotal: 603ms\tremaining: 184ms\n",
      "766:\tlearn: 0.0159912\ttotal: 603ms\tremaining: 183ms\n",
      "767:\tlearn: 0.0159818\ttotal: 603ms\tremaining: 182ms\n",
      "768:\tlearn: 0.0159594\ttotal: 604ms\tremaining: 181ms\n",
      "769:\tlearn: 0.0159480\ttotal: 604ms\tremaining: 181ms\n",
      "770:\tlearn: 0.0159427\ttotal: 605ms\tremaining: 180ms\n",
      "771:\tlearn: 0.0159320\ttotal: 606ms\tremaining: 179ms\n",
      "772:\tlearn: 0.0159176\ttotal: 606ms\tremaining: 178ms\n",
      "773:\tlearn: 0.0159068\ttotal: 606ms\tremaining: 177ms\n",
      "774:\tlearn: 0.0159014\ttotal: 607ms\tremaining: 176ms\n",
      "775:\tlearn: 0.0158923\ttotal: 607ms\tremaining: 175ms\n",
      "776:\tlearn: 0.0158787\ttotal: 608ms\tremaining: 174ms\n",
      "777:\tlearn: 0.0158729\ttotal: 608ms\tremaining: 174ms\n",
      "778:\tlearn: 0.0158645\ttotal: 609ms\tremaining: 173ms\n",
      "779:\tlearn: 0.0158448\ttotal: 609ms\tremaining: 172ms\n",
      "780:\tlearn: 0.0158347\ttotal: 610ms\tremaining: 171ms\n",
      "781:\tlearn: 0.0158259\ttotal: 610ms\tremaining: 170ms\n",
      "782:\tlearn: 0.0158060\ttotal: 610ms\tremaining: 169ms\n",
      "783:\tlearn: 0.0157902\ttotal: 611ms\tremaining: 168ms\n",
      "784:\tlearn: 0.0157811\ttotal: 611ms\tremaining: 167ms\n",
      "785:\tlearn: 0.0157709\ttotal: 611ms\tremaining: 166ms\n",
      "786:\tlearn: 0.0157670\ttotal: 612ms\tremaining: 166ms\n",
      "787:\tlearn: 0.0157466\ttotal: 612ms\tremaining: 165ms\n",
      "788:\tlearn: 0.0157361\ttotal: 613ms\tremaining: 164ms\n",
      "789:\tlearn: 0.0157257\ttotal: 613ms\tremaining: 163ms\n",
      "790:\tlearn: 0.0157176\ttotal: 614ms\tremaining: 162ms\n",
      "791:\tlearn: 0.0157132\ttotal: 614ms\tremaining: 161ms\n",
      "792:\tlearn: 0.0156979\ttotal: 615ms\tremaining: 160ms\n",
      "793:\tlearn: 0.0156741\ttotal: 615ms\tremaining: 160ms\n",
      "794:\tlearn: 0.0156655\ttotal: 616ms\tremaining: 159ms\n",
      "795:\tlearn: 0.0156576\ttotal: 616ms\tremaining: 158ms\n",
      "796:\tlearn: 0.0156397\ttotal: 616ms\tremaining: 157ms\n",
      "797:\tlearn: 0.0156311\ttotal: 616ms\tremaining: 156ms\n",
      "798:\tlearn: 0.0156212\ttotal: 617ms\tremaining: 155ms\n",
      "799:\tlearn: 0.0156125\ttotal: 617ms\tremaining: 154ms\n",
      "800:\tlearn: 0.0156030\ttotal: 617ms\tremaining: 153ms\n",
      "801:\tlearn: 0.0155982\ttotal: 617ms\tremaining: 152ms\n",
      "802:\tlearn: 0.0155941\ttotal: 618ms\tremaining: 152ms\n",
      "803:\tlearn: 0.0155755\ttotal: 618ms\tremaining: 151ms\n",
      "804:\tlearn: 0.0155649\ttotal: 619ms\tremaining: 150ms\n",
      "805:\tlearn: 0.0155504\ttotal: 620ms\tremaining: 149ms\n",
      "806:\tlearn: 0.0155446\ttotal: 620ms\tremaining: 148ms\n",
      "807:\tlearn: 0.0155211\ttotal: 621ms\tremaining: 147ms\n",
      "808:\tlearn: 0.0155034\ttotal: 621ms\tremaining: 147ms\n",
      "809:\tlearn: 0.0154930\ttotal: 622ms\tremaining: 146ms\n",
      "810:\tlearn: 0.0154834\ttotal: 622ms\tremaining: 145ms\n",
      "811:\tlearn: 0.0154783\ttotal: 623ms\tremaining: 144ms\n",
      "812:\tlearn: 0.0154712\ttotal: 623ms\tremaining: 143ms\n",
      "813:\tlearn: 0.0154616\ttotal: 623ms\tremaining: 142ms\n",
      "814:\tlearn: 0.0154442\ttotal: 624ms\tremaining: 142ms\n",
      "815:\tlearn: 0.0154341\ttotal: 624ms\tremaining: 141ms\n",
      "816:\tlearn: 0.0154219\ttotal: 625ms\tremaining: 140ms\n",
      "817:\tlearn: 0.0154120\ttotal: 625ms\tremaining: 139ms\n",
      "818:\tlearn: 0.0153942\ttotal: 625ms\tremaining: 138ms\n",
      "819:\tlearn: 0.0153838\ttotal: 625ms\tremaining: 137ms\n",
      "820:\tlearn: 0.0153771\ttotal: 626ms\tremaining: 136ms\n",
      "821:\tlearn: 0.0153645\ttotal: 626ms\tremaining: 136ms\n",
      "822:\tlearn: 0.0153456\ttotal: 627ms\tremaining: 135ms\n",
      "823:\tlearn: 0.0153377\ttotal: 627ms\tremaining: 134ms\n",
      "824:\tlearn: 0.0153302\ttotal: 628ms\tremaining: 133ms\n",
      "825:\tlearn: 0.0153209\ttotal: 628ms\tremaining: 132ms\n",
      "826:\tlearn: 0.0153191\ttotal: 629ms\tremaining: 131ms\n",
      "827:\tlearn: 0.0153046\ttotal: 629ms\tremaining: 131ms\n",
      "828:\tlearn: 0.0152948\ttotal: 629ms\tremaining: 130ms\n",
      "829:\tlearn: 0.0152823\ttotal: 630ms\tremaining: 129ms\n",
      "830:\tlearn: 0.0152704\ttotal: 631ms\tremaining: 128ms\n",
      "831:\tlearn: 0.0152442\ttotal: 631ms\tremaining: 127ms\n",
      "832:\tlearn: 0.0152229\ttotal: 631ms\tremaining: 127ms\n",
      "833:\tlearn: 0.0152153\ttotal: 632ms\tremaining: 126ms\n",
      "834:\tlearn: 0.0152047\ttotal: 632ms\tremaining: 125ms\n",
      "835:\tlearn: 0.0151946\ttotal: 633ms\tremaining: 124ms\n",
      "836:\tlearn: 0.0151875\ttotal: 633ms\tremaining: 123ms\n",
      "837:\tlearn: 0.0151806\ttotal: 633ms\tremaining: 122ms\n",
      "838:\tlearn: 0.0151645\ttotal: 634ms\tremaining: 122ms\n",
      "839:\tlearn: 0.0151555\ttotal: 634ms\tremaining: 121ms\n",
      "840:\tlearn: 0.0151517\ttotal: 635ms\tremaining: 120ms\n",
      "841:\tlearn: 0.0151270\ttotal: 635ms\tremaining: 119ms\n",
      "842:\tlearn: 0.0151202\ttotal: 636ms\tremaining: 119ms\n",
      "843:\tlearn: 0.0151148\ttotal: 637ms\tremaining: 118ms\n",
      "844:\tlearn: 0.0151031\ttotal: 637ms\tremaining: 117ms\n",
      "845:\tlearn: 0.0151004\ttotal: 638ms\tremaining: 116ms\n",
      "846:\tlearn: 0.0150780\ttotal: 638ms\tremaining: 115ms\n",
      "847:\tlearn: 0.0150696\ttotal: 638ms\tremaining: 114ms\n",
      "848:\tlearn: 0.0150618\ttotal: 639ms\tremaining: 114ms\n",
      "849:\tlearn: 0.0150552\ttotal: 640ms\tremaining: 113ms\n",
      "850:\tlearn: 0.0150483\ttotal: 640ms\tremaining: 112ms\n",
      "851:\tlearn: 0.0150363\ttotal: 640ms\tremaining: 111ms\n",
      "852:\tlearn: 0.0150298\ttotal: 641ms\tremaining: 110ms\n",
      "853:\tlearn: 0.0150177\ttotal: 641ms\tremaining: 110ms\n",
      "854:\tlearn: 0.0150142\ttotal: 642ms\tremaining: 109ms\n",
      "855:\tlearn: 0.0150056\ttotal: 642ms\tremaining: 108ms\n",
      "856:\tlearn: 0.0150024\ttotal: 643ms\tremaining: 107ms\n",
      "857:\tlearn: 0.0149938\ttotal: 644ms\tremaining: 107ms\n",
      "858:\tlearn: 0.0149812\ttotal: 644ms\tremaining: 106ms\n",
      "859:\tlearn: 0.0149756\ttotal: 645ms\tremaining: 105ms\n",
      "860:\tlearn: 0.0149642\ttotal: 645ms\tremaining: 104ms\n",
      "861:\tlearn: 0.0149558\ttotal: 646ms\tremaining: 103ms\n",
      "862:\tlearn: 0.0149520\ttotal: 646ms\tremaining: 103ms\n",
      "863:\tlearn: 0.0149490\ttotal: 646ms\tremaining: 102ms\n",
      "864:\tlearn: 0.0149423\ttotal: 647ms\tremaining: 101ms\n",
      "865:\tlearn: 0.0149317\ttotal: 647ms\tremaining: 100ms\n",
      "866:\tlearn: 0.0149255\ttotal: 648ms\tremaining: 99.4ms\n",
      "867:\tlearn: 0.0149190\ttotal: 648ms\tremaining: 98.6ms\n",
      "868:\tlearn: 0.0149022\ttotal: 649ms\tremaining: 97.8ms\n",
      "869:\tlearn: 0.0148890\ttotal: 649ms\tremaining: 97ms\n",
      "870:\tlearn: 0.0148803\ttotal: 650ms\tremaining: 96.3ms\n",
      "871:\tlearn: 0.0148642\ttotal: 650ms\tremaining: 95.5ms\n",
      "872:\tlearn: 0.0148586\ttotal: 651ms\tremaining: 94.7ms\n",
      "873:\tlearn: 0.0148503\ttotal: 651ms\tremaining: 93.9ms\n",
      "874:\tlearn: 0.0148399\ttotal: 652ms\tremaining: 93.1ms\n",
      "875:\tlearn: 0.0148339\ttotal: 652ms\tremaining: 92.4ms\n",
      "876:\tlearn: 0.0148280\ttotal: 653ms\tremaining: 91.6ms\n",
      "877:\tlearn: 0.0148179\ttotal: 653ms\tremaining: 90.8ms\n",
      "878:\tlearn: 0.0148112\ttotal: 654ms\tremaining: 90ms\n",
      "879:\tlearn: 0.0147910\ttotal: 654ms\tremaining: 89.2ms\n",
      "880:\tlearn: 0.0147818\ttotal: 655ms\tremaining: 88.5ms\n",
      "881:\tlearn: 0.0147769\ttotal: 655ms\tremaining: 87.6ms\n",
      "882:\tlearn: 0.0147674\ttotal: 656ms\tremaining: 86.9ms\n",
      "883:\tlearn: 0.0147638\ttotal: 657ms\tremaining: 86.2ms\n",
      "884:\tlearn: 0.0147506\ttotal: 657ms\tremaining: 85.4ms\n",
      "885:\tlearn: 0.0147415\ttotal: 658ms\tremaining: 84.6ms\n",
      "886:\tlearn: 0.0147327\ttotal: 658ms\tremaining: 83.8ms\n",
      "887:\tlearn: 0.0147244\ttotal: 659ms\tremaining: 83.1ms\n",
      "888:\tlearn: 0.0147155\ttotal: 659ms\tremaining: 82.3ms\n",
      "889:\tlearn: 0.0147026\ttotal: 660ms\tremaining: 81.5ms\n",
      "890:\tlearn: 0.0146971\ttotal: 660ms\tremaining: 80.8ms\n",
      "891:\tlearn: 0.0146613\ttotal: 661ms\tremaining: 80ms\n",
      "892:\tlearn: 0.0146574\ttotal: 661ms\tremaining: 79.2ms\n",
      "893:\tlearn: 0.0146516\ttotal: 661ms\tremaining: 78.4ms\n",
      "894:\tlearn: 0.0146469\ttotal: 662ms\tremaining: 77.6ms\n",
      "895:\tlearn: 0.0146408\ttotal: 662ms\tremaining: 76.8ms\n",
      "896:\tlearn: 0.0146340\ttotal: 663ms\tremaining: 76.1ms\n",
      "897:\tlearn: 0.0146228\ttotal: 663ms\tremaining: 75.3ms\n",
      "898:\tlearn: 0.0146152\ttotal: 663ms\tremaining: 74.5ms\n",
      "899:\tlearn: 0.0146088\ttotal: 664ms\tremaining: 73.8ms\n",
      "900:\tlearn: 0.0146036\ttotal: 664ms\tremaining: 73ms\n",
      "901:\tlearn: 0.0145969\ttotal: 665ms\tremaining: 72.2ms\n",
      "902:\tlearn: 0.0145861\ttotal: 665ms\tremaining: 71.5ms\n",
      "903:\tlearn: 0.0145705\ttotal: 666ms\tremaining: 70.7ms\n",
      "904:\tlearn: 0.0145661\ttotal: 666ms\tremaining: 69.9ms\n",
      "905:\tlearn: 0.0145451\ttotal: 666ms\tremaining: 69.1ms\n",
      "906:\tlearn: 0.0145305\ttotal: 667ms\tremaining: 68.4ms\n",
      "907:\tlearn: 0.0145115\ttotal: 668ms\tremaining: 67.6ms\n",
      "908:\tlearn: 0.0145058\ttotal: 668ms\tremaining: 66.9ms\n",
      "909:\tlearn: 0.0145000\ttotal: 669ms\tremaining: 66.1ms\n",
      "910:\tlearn: 0.0144871\ttotal: 669ms\tremaining: 65.4ms\n",
      "911:\tlearn: 0.0144646\ttotal: 670ms\tremaining: 64.6ms\n",
      "912:\tlearn: 0.0144597\ttotal: 670ms\tremaining: 63.8ms\n",
      "913:\tlearn: 0.0144549\ttotal: 670ms\tremaining: 63.1ms\n",
      "914:\tlearn: 0.0144493\ttotal: 671ms\tremaining: 62.3ms\n",
      "915:\tlearn: 0.0144353\ttotal: 671ms\tremaining: 61.6ms\n",
      "916:\tlearn: 0.0144231\ttotal: 672ms\tremaining: 60.8ms\n",
      "917:\tlearn: 0.0144100\ttotal: 672ms\tremaining: 60ms\n",
      "918:\tlearn: 0.0144035\ttotal: 673ms\tremaining: 59.3ms\n",
      "919:\tlearn: 0.0143872\ttotal: 673ms\tremaining: 58.5ms\n",
      "920:\tlearn: 0.0143824\ttotal: 674ms\tremaining: 57.8ms\n",
      "921:\tlearn: 0.0143780\ttotal: 674ms\tremaining: 57ms\n",
      "922:\tlearn: 0.0143704\ttotal: 675ms\tremaining: 56.3ms\n",
      "923:\tlearn: 0.0143367\ttotal: 675ms\tremaining: 55.5ms\n",
      "924:\tlearn: 0.0143332\ttotal: 675ms\tremaining: 54.8ms\n",
      "925:\tlearn: 0.0143191\ttotal: 676ms\tremaining: 54ms\n",
      "926:\tlearn: 0.0143128\ttotal: 677ms\tremaining: 53.3ms\n",
      "927:\tlearn: 0.0143097\ttotal: 677ms\tremaining: 52.5ms\n",
      "928:\tlearn: 0.0143049\ttotal: 677ms\tremaining: 51.8ms\n",
      "929:\tlearn: 0.0143001\ttotal: 677ms\tremaining: 51ms\n",
      "930:\tlearn: 0.0142901\ttotal: 678ms\tremaining: 50.2ms\n",
      "931:\tlearn: 0.0142844\ttotal: 678ms\tremaining: 49.5ms\n",
      "932:\tlearn: 0.0142726\ttotal: 678ms\tremaining: 48.7ms\n",
      "933:\tlearn: 0.0142546\ttotal: 679ms\tremaining: 48ms\n",
      "934:\tlearn: 0.0142517\ttotal: 679ms\tremaining: 47.2ms\n",
      "935:\tlearn: 0.0142442\ttotal: 679ms\tremaining: 46.4ms\n",
      "936:\tlearn: 0.0142376\ttotal: 679ms\tremaining: 45.7ms\n",
      "937:\tlearn: 0.0142339\ttotal: 680ms\tremaining: 44.9ms\n",
      "938:\tlearn: 0.0142175\ttotal: 680ms\tremaining: 44.2ms\n",
      "939:\tlearn: 0.0142079\ttotal: 681ms\tremaining: 43.5ms\n",
      "940:\tlearn: 0.0142029\ttotal: 681ms\tremaining: 42.7ms\n",
      "941:\tlearn: 0.0141822\ttotal: 682ms\tremaining: 42ms\n",
      "942:\tlearn: 0.0141671\ttotal: 682ms\tremaining: 41.2ms\n",
      "943:\tlearn: 0.0141579\ttotal: 683ms\tremaining: 40.5ms\n",
      "944:\tlearn: 0.0141526\ttotal: 683ms\tremaining: 39.7ms\n",
      "945:\tlearn: 0.0141439\ttotal: 683ms\tremaining: 39ms\n",
      "946:\tlearn: 0.0141383\ttotal: 684ms\tremaining: 38.3ms\n",
      "947:\tlearn: 0.0141216\ttotal: 684ms\tremaining: 37.5ms\n",
      "948:\tlearn: 0.0141036\ttotal: 685ms\tremaining: 36.8ms\n",
      "949:\tlearn: 0.0140869\ttotal: 685ms\tremaining: 36.1ms\n",
      "950:\tlearn: 0.0140796\ttotal: 686ms\tremaining: 35.3ms\n",
      "951:\tlearn: 0.0140732\ttotal: 686ms\tremaining: 34.6ms\n",
      "952:\tlearn: 0.0140425\ttotal: 687ms\tremaining: 33.9ms\n",
      "953:\tlearn: 0.0140312\ttotal: 687ms\tremaining: 33.1ms\n",
      "954:\tlearn: 0.0140218\ttotal: 688ms\tremaining: 32.4ms\n",
      "955:\tlearn: 0.0139925\ttotal: 688ms\tremaining: 31.7ms\n",
      "956:\tlearn: 0.0139816\ttotal: 689ms\tremaining: 30.9ms\n",
      "957:\tlearn: 0.0139767\ttotal: 689ms\tremaining: 30.2ms\n",
      "958:\tlearn: 0.0139617\ttotal: 690ms\tremaining: 29.5ms\n",
      "959:\tlearn: 0.0139445\ttotal: 690ms\tremaining: 28.8ms\n",
      "960:\tlearn: 0.0139395\ttotal: 691ms\tremaining: 28ms\n",
      "961:\tlearn: 0.0139352\ttotal: 691ms\tremaining: 27.3ms\n",
      "962:\tlearn: 0.0139211\ttotal: 692ms\tremaining: 26.6ms\n",
      "963:\tlearn: 0.0139158\ttotal: 692ms\tremaining: 25.8ms\n"
     ]
    },
    {
     "name": "stdout",
     "output_type": "stream",
     "text": [
      "964:\tlearn: 0.0139096\ttotal: 692ms\tremaining: 25.1ms\n",
      "965:\tlearn: 0.0138986\ttotal: 693ms\tremaining: 24.4ms\n",
      "966:\tlearn: 0.0138937\ttotal: 694ms\tremaining: 23.7ms\n",
      "967:\tlearn: 0.0138796\ttotal: 695ms\tremaining: 23ms\n",
      "968:\tlearn: 0.0138747\ttotal: 695ms\tremaining: 22.2ms\n",
      "969:\tlearn: 0.0138684\ttotal: 696ms\tremaining: 21.5ms\n",
      "970:\tlearn: 0.0138644\ttotal: 697ms\tremaining: 20.8ms\n",
      "971:\tlearn: 0.0138595\ttotal: 697ms\tremaining: 20.1ms\n",
      "972:\tlearn: 0.0138520\ttotal: 698ms\tremaining: 19.4ms\n",
      "973:\tlearn: 0.0138493\ttotal: 698ms\tremaining: 18.6ms\n",
      "974:\tlearn: 0.0138428\ttotal: 698ms\tremaining: 17.9ms\n",
      "975:\tlearn: 0.0138371\ttotal: 699ms\tremaining: 17.2ms\n",
      "976:\tlearn: 0.0138309\ttotal: 699ms\tremaining: 16.5ms\n",
      "977:\tlearn: 0.0138230\ttotal: 700ms\tremaining: 15.7ms\n",
      "978:\tlearn: 0.0137998\ttotal: 700ms\tremaining: 15ms\n",
      "979:\tlearn: 0.0137942\ttotal: 701ms\tremaining: 14.3ms\n",
      "980:\tlearn: 0.0137923\ttotal: 701ms\tremaining: 13.6ms\n",
      "981:\tlearn: 0.0137862\ttotal: 701ms\tremaining: 12.9ms\n",
      "982:\tlearn: 0.0137837\ttotal: 702ms\tremaining: 12.1ms\n",
      "983:\tlearn: 0.0137717\ttotal: 703ms\tremaining: 11.4ms\n",
      "984:\tlearn: 0.0137614\ttotal: 703ms\tremaining: 10.7ms\n",
      "985:\tlearn: 0.0137551\ttotal: 704ms\tremaining: 9.99ms\n",
      "986:\tlearn: 0.0137355\ttotal: 704ms\tremaining: 9.28ms\n",
      "987:\tlearn: 0.0136990\ttotal: 705ms\tremaining: 8.56ms\n",
      "988:\tlearn: 0.0136825\ttotal: 705ms\tremaining: 7.84ms\n",
      "989:\tlearn: 0.0136766\ttotal: 706ms\tremaining: 7.13ms\n",
      "990:\tlearn: 0.0136657\ttotal: 706ms\tremaining: 6.41ms\n",
      "991:\tlearn: 0.0136615\ttotal: 707ms\tremaining: 5.7ms\n",
      "992:\tlearn: 0.0136588\ttotal: 707ms\tremaining: 4.98ms\n",
      "993:\tlearn: 0.0136364\ttotal: 708ms\tremaining: 4.27ms\n",
      "994:\tlearn: 0.0136317\ttotal: 708ms\tremaining: 3.56ms\n",
      "995:\tlearn: 0.0136152\ttotal: 709ms\tremaining: 2.85ms\n",
      "996:\tlearn: 0.0136092\ttotal: 709ms\tremaining: 2.13ms\n",
      "997:\tlearn: 0.0136077\ttotal: 710ms\tremaining: 1.42ms\n",
      "998:\tlearn: 0.0136029\ttotal: 711ms\tremaining: 711us\n",
      "999:\tlearn: 0.0135914\ttotal: 711ms\tremaining: 0us\n"
     ]
    },
    {
     "data": {
      "text/plain": [
       "<catboost.core.CatBoostRegressor at 0x7fd68600c280>"
      ]
     },
     "execution_count": 9,
     "metadata": {},
     "output_type": "execute_result"
    }
   ],
   "source": [
    "#Train the Model \n",
    "prior_model = ctb.CatBoostRegressor()\n",
    "prior_model.fit(X_train,Y_train)"
   ]
  },
  {
   "cell_type": "code",
   "execution_count": 10,
   "id": "af65dcda",
   "metadata": {
    "execution": {
     "iopub.execute_input": "2022-07-24T13:34:17.143346Z",
     "iopub.status.busy": "2022-07-24T13:34:17.142559Z",
     "iopub.status.idle": "2022-07-24T13:34:17.175949Z",
     "shell.execute_reply": "2022-07-24T13:34:17.174988Z"
    },
    "id": "af65dcda",
    "papermill": {
     "duration": 0.049328,
     "end_time": "2022-07-24T13:34:17.179273",
     "exception": false,
     "start_time": "2022-07-24T13:34:17.129945",
     "status": "completed"
    },
    "tags": []
   },
   "outputs": [
    {
     "data": {
      "application/scrapbook.scrap.json+json": {
       "data": 0.0014748534286931011,
       "encoder": "json",
       "name": "Prior Model MSE",
       "version": 1
      }
     },
     "metadata": {
      "scrapbook": {
       "data": true,
       "display": false,
       "name": "Prior Model MSE"
      }
     },
     "output_type": "display_data"
    },
    {
     "data": {
      "application/scrapbook.scrap.json+json": {
       "data": 2.3582973922824153,
       "encoder": "json",
       "name": "ABC Pre-generator MSE",
       "version": 1
      }
     },
     "metadata": {
      "scrapbook": {
       "data": true,
       "display": false,
       "name": "ABC Pre-generator MSE"
      }
     },
     "output_type": "display_data"
    },
    {
     "data": {
      "application/scrapbook.scrap.json+json": {
       "data": 0.023625736316083345,
       "encoder": "json",
       "name": "Prior Model MAE",
       "version": 1
      }
     },
     "metadata": {
      "scrapbook": {
       "data": true,
       "display": false,
       "name": "Prior Model MAE"
      }
     },
     "output_type": "display_data"
    },
    {
     "name": "stdout",
     "output_type": "stream",
     "text": [
      "Prior Model MAE 0.023625736316083345\n",
      "ABC Pre-generator MAE 1.2772431162717892\n"
     ]
    }
   ],
   "source": [
    "y_pred = prior_model.predict(X_test)\n",
    "y_abc = y_pred + np.random.normal(0,variance, y_pred.shape) + bias \n",
    "mse = mean_squared_error(y_pred,Y_test)\n",
    "sb.glue(\"Prior Model MSE\",mse)\n",
    "mse = mean_squared_error(y_abc,Y_test)\n",
    "sb.glue(\"ABC Pre-generator MSE\",mse)\n",
    "mae = mean_absolute_error(y_pred,Y_test)\n",
    "sb.glue(\"Prior Model MAE\",mae)\n",
    "print(\"Prior Model MAE\",mae)\n",
    "mae = mean_absolute_error(y_abc,Y_test)\n",
    "print(\"ABC Pre-generator MAE\",mae)"
   ]
  },
  {
   "cell_type": "markdown",
   "id": "25609da2",
   "metadata": {
    "papermill": {
     "duration": 0.012628,
     "end_time": "2022-07-24T13:34:17.205024",
     "exception": false,
     "start_time": "2022-07-24T13:34:17.192396",
     "status": "completed"
    },
    "tags": []
   },
   "source": [
    "# mGAN Model"
   ]
  },
  {
   "cell_type": "code",
   "execution_count": 11,
   "id": "dfc3464d",
   "metadata": {
    "execution": {
     "iopub.execute_input": "2022-07-24T13:34:17.346101Z",
     "iopub.status.busy": "2022-07-24T13:34:17.345166Z",
     "iopub.status.idle": "2022-07-24T13:34:17.354536Z",
     "shell.execute_reply": "2022-07-24T13:34:17.353039Z"
    },
    "papermill": {
     "duration": 0.063296,
     "end_time": "2022-07-24T13:34:17.359075",
     "exception": false,
     "start_time": "2022-07-24T13:34:17.295779",
     "status": "completed"
    },
    "tags": []
   },
   "outputs": [],
   "source": [
    "# gen = network.Generator(n_features+1).to(device)\n",
    "# disc = network.Discriminator(n_features+1).to(device)\n",
    "\n",
    "# criterion = torch.nn.BCELoss()\n",
    "# gen_opt = torch.optim.Adam(gen.parameters(), lr=0.01, betas=(0.5, 0.999))\n",
    "# disc_opt = torch.optim.Adam(disc.parameters(), lr=0.01, betas=(0.5, 0.999))"
   ]
  },
  {
   "cell_type": "code",
   "execution_count": 12,
   "id": "b75fdd85",
   "metadata": {
    "execution": {
     "iopub.execute_input": "2022-07-24T13:34:17.386672Z",
     "iopub.status.busy": "2022-07-24T13:34:17.386120Z",
     "iopub.status.idle": "2022-07-24T13:34:17.391694Z",
     "shell.execute_reply": "2022-07-24T13:34:17.389505Z"
    },
    "papermill": {
     "duration": 0.023102,
     "end_time": "2022-07-24T13:34:17.395239",
     "exception": false,
     "start_time": "2022-07-24T13:34:17.372137",
     "status": "completed"
    },
    "tags": []
   },
   "outputs": [],
   "source": [
    "#Training the ABC_GAN \n",
    "# ABC_train_test2.training_GAN(disc,gen,disc_opt,gen_opt,train_data,batch_size,n_epochs,criterion,prior_model,variance,bias,device)"
   ]
  },
  {
   "cell_type": "code",
   "execution_count": 13,
   "id": "1fa7c368",
   "metadata": {
    "execution": {
     "iopub.execute_input": "2022-07-24T13:34:17.423359Z",
     "iopub.status.busy": "2022-07-24T13:34:17.422746Z",
     "iopub.status.idle": "2022-07-24T13:34:17.427815Z",
     "shell.execute_reply": "2022-07-24T13:34:17.426931Z"
    },
    "papermill": {
     "duration": 0.02281,
     "end_time": "2022-07-24T13:34:17.432076",
     "exception": false,
     "start_time": "2022-07-24T13:34:17.409266",
     "status": "completed"
    },
    "tags": []
   },
   "outputs": [],
   "source": [
    "# ABC_GAN1_metrics=ABC_train_test2.test_generator(gen,test_data,prior_model,variance,bias,\"1\",device)\n",
    "# sb.glue(\"ABC_GAN_1 Metrics\",ABC_GAN1_metrics)\n",
    "\n",
    "# print(\"MAE\")\n",
    "# print(mean(ABC_GAN1_metrics[1]))"
   ]
  },
  {
   "cell_type": "code",
   "execution_count": 14,
   "id": "eb22ce5c",
   "metadata": {
    "execution": {
     "iopub.execute_input": "2022-07-24T13:34:17.460589Z",
     "iopub.status.busy": "2022-07-24T13:34:17.460169Z",
     "iopub.status.idle": "2022-07-24T13:34:17.464819Z",
     "shell.execute_reply": "2022-07-24T13:34:17.463740Z"
    },
    "papermill": {
     "duration": 0.024712,
     "end_time": "2022-07-24T13:34:17.468751",
     "exception": false,
     "start_time": "2022-07-24T13:34:17.444039",
     "status": "completed"
    },
    "tags": []
   },
   "outputs": [],
   "source": [
    "# sanityChecks.discProbVsError(train_data,disc,device)\n",
    "# sanityChecks.discProbVsError(test_data,disc,device)"
   ]
  },
  {
   "cell_type": "markdown",
   "id": "e768028f",
   "metadata": {
    "papermill": {
     "duration": 0.010759,
     "end_time": "2022-07-24T13:34:17.489518",
     "exception": false,
     "start_time": "2022-07-24T13:34:17.478759",
     "status": "completed"
    },
    "tags": []
   },
   "source": [
    "# mGAN Model with TabNet Generator"
   ]
  },
  {
   "cell_type": "code",
   "execution_count": 15,
   "id": "f8206c8e",
   "metadata": {
    "execution": {
     "iopub.execute_input": "2022-07-24T13:34:17.513453Z",
     "iopub.status.busy": "2022-07-24T13:34:17.512905Z",
     "iopub.status.idle": "2022-07-24T13:34:17.531850Z",
     "shell.execute_reply": "2022-07-24T13:34:17.530752Z"
    },
    "papermill": {
     "duration": 0.034785,
     "end_time": "2022-07-24T13:34:17.534678",
     "exception": false,
     "start_time": "2022-07-24T13:34:17.499893",
     "status": "completed"
    },
    "tags": []
   },
   "outputs": [],
   "source": [
    "gen2 = network.GeneratorTabnet(n_features+1).to(device)\n",
    "disc2 = network.Discriminator(n_features+1).to(device)\n",
    "\n",
    "criterion = torch.nn.BCELoss()\n",
    "gen_opt = torch.optim.Adam(gen2.parameters(), lr=0.01, betas=(0.5, 0.999))\n",
    "disc_opt = torch.optim.Adam(disc2.parameters(), lr=0.01, betas=(0.5, 0.999))"
   ]
  },
  {
   "cell_type": "code",
   "execution_count": 16,
   "id": "417ccc63",
   "metadata": {
    "execution": {
     "iopub.execute_input": "2022-07-24T13:34:17.563062Z",
     "iopub.status.busy": "2022-07-24T13:34:17.562341Z",
     "iopub.status.idle": "2022-07-24T13:53:10.933323Z",
     "shell.execute_reply": "2022-07-24T13:53:10.930066Z"
    },
    "papermill": {
     "duration": 1133.394562,
     "end_time": "2022-07-24T13:53:10.944089",
     "exception": false,
     "start_time": "2022-07-24T13:34:17.549527",
     "status": "completed"
    },
    "tags": []
   },
   "outputs": [
    {
     "data": {
      "image/png": "[encoded data removed]",
      "text/plain": [
       "<Figure size 432x288 with 1 Axes>"
      ]
     },
     "metadata": {
      "needs_background": "light"
     },
     "output_type": "display_data"
    },
    {
     "data": {
      "image/png": "[encoded data removed]",
      "text/plain": [
       "<Figure size 432x288 with 1 Axes>"
      ]
     },
     "metadata": {
      "needs_background": "light"
     },
     "output_type": "display_data"
    }
   ],
   "source": [
    "#Training the ABC_GAN \n",
    "ABC_train_test2.training_GAN(disc2,gen2,disc_opt,gen_opt,train_data,batch_size,n_epochs,criterion,prior_model,variance,bias,device)"
   ]
  },
  {
   "cell_type": "code",
   "execution_count": 17,
   "id": "38770c20",
   "metadata": {
    "execution": {
     "iopub.execute_input": "2022-07-24T13:53:11.018087Z",
     "iopub.status.busy": "2022-07-24T13:53:11.016204Z",
     "iopub.status.idle": "2022-07-24T13:53:13.401271Z",
     "shell.execute_reply": "2022-07-24T13:53:13.400046Z"
    },
    "papermill": {
     "duration": 2.440879,
     "end_time": "2022-07-24T13:53:13.404994",
     "exception": false,
     "start_time": "2022-07-24T13:53:10.964115",
     "status": "completed"
    },
    "tags": []
   },
   "outputs": [
    {
     "data": {
      "application/scrapbook.scrap.json+json": {
       "data": 0.02658710271089491,
       "encoder": "json",
       "name": "ABC-GAN Model 1 MSE",
       "version": 1
      }
     },
     "metadata": {
      "scrapbook": {
       "data": true,
       "display": false,
       "name": "ABC-GAN Model 1 MSE"
      }
     },
     "output_type": "display_data"
    },
    {
     "data": {
      "application/scrapbook.scrap.json+json": {
       "data": 0.07586433682929386,
       "encoder": "json",
       "name": "ABC-GAN Model 1 MAE",
       "version": 1
      }
     },
     "metadata": {
      "scrapbook": {
       "data": true,
       "display": false,
       "name": "ABC-GAN Model 1 MAE"
      }
     },
     "output_type": "display_data"
    },
    {
     "data": {
      "application/scrapbook.scrap.json+json": {
       "data": 11.683107871711254,
       "encoder": "json",
       "name": "ABC-GAN Model 1 Manhattan Distance",
       "version": 1
      }
     },
     "metadata": {
      "scrapbook": {
       "data": true,
       "display": false,
       "name": "ABC-GAN Model 1 Manhattan Distance"
      }
     },
     "output_type": "display_data"
    },
    {
     "data": {
      "application/scrapbook.scrap.json+json": {
       "data": 2.0234603758401573,
       "encoder": "json",
       "name": "ABC-GAN Model 1 Euclidean distance",
       "version": 1
      }
     },
     "metadata": {
      "scrapbook": {
       "data": true,
       "display": false,
       "name": "ABC-GAN Model 1 Euclidean distance"
      }
     },
     "output_type": "display_data"
    },
    {
     "data": {
      "application/scrapbook.scrap.json+json": {
       "data": [
        [
         0.02678384661571614,
         0.02664040068818487,
         0.026606513359167454,
         0.026564796733137712,
         0.026698823859670633,
         0.026596221743240164,
         0.026344194094426693,
         0.026447252518986813,
         0.026508464500305418,
         0.02664113391129561,
         0.02671704525998677,
         0.02647774447394874,
         0.026672390990215178,
         0.026599984479020584,
         0.02657459317565312,
         0.02658959046064349,
         0.02658360150756791,
         0.026658530874856857,
         0.026603164656058644,
         0.02673979418465187,
         0.02678766686892877,
         0.026542610684409843,
         0.026631297706127162,
         0.026401179503667653,
         0.026679838830768618,
         0.026584425703575307,
         0.026467112769302695,
         0.026444205870749724,
         0.02652769331106604,
         0.026852151663951402,
         0.02664054182672679,
         0.02658756943935759,
         0.02653055924095952,
         0.026621895309598693,
         0.026506299829976137,
         0.026657076712343863,
         0.026347558644287727,
         0.02678433770832243,
         0.026492385837767175,
         0.026505769098461952,
         0.026599109074689285,
         0.026355912844158065,
         0.02648980518830714,
         0.026837449403188857,
         0.026531551423152472,
         0.0263797599191622,
         0.02656213316036321,
         0.02660462002973509,
         0.026557438456817028,
         0.02687982141272018,
         0.026518557072402412,
         0.026576647156415664,
         0.026675890176050918,
         0.02672268801409287,
         0.026712057500561187,
         0.026604779579299197,
         0.026504988137100716,
         0.026704399405532195,
         0.02657162458935035,
         0.026480916596648075,
         0.0265549687866419,
         0.02676136425549936,
         0.02653717168909498,
         0.026572177252688754,
         0.02665952375376116,
         0.026524866716733667,
         0.026560093844036126,
         0.0264442633192248,
         0.026688381744688263,
         0.026661074321723172,
         0.02661772932406465,
         0.026556094517985022,
         0.02677885943579959,
         0.026645520357998328,
         0.026579247097692257,
         0.026422569458064843,
         0.026664648039239534,
         0.02656419789667056,
         0.02660909550432272,
         0.02657981404621905,
         0.02673751603258642,
         0.02677731311761573,
         0.026440606295014477,
         0.026623090216561375,
         0.02637227851626187,
         0.02660013492843932,
         0.026367640823351416,
         0.02635156826794149,
         0.02662116392498336,
         0.026674873476210198,
         0.026301992070519104,
         0.02646965973213461,
         0.02635720448965137,
         0.02668150798674891,
         0.026447337521511422,
         0.026604477848214094,
         0.026660041919062547,
         0.02671075414313037,
         0.026617023851067876,
         0.026802010779505357
        ],
        [
         0.07606463497141738,
         0.07616561801209078,
         0.07605277480823654,
         0.07578942097433201,
         0.07581250983979795,
         0.07589223589022438,
         0.07575500432353516,
         0.0757166843425918,
         0.07605613918079958,
         0.0756954767003462,
         0.0761671479936544,
         0.07584759955862899,
         0.07579421469724024,
         0.07615069517648065,
         0.07576957611101014,
         0.07588958309648873,
         0.07598963587895616,
         0.07632361579831544,
         0.07586032824663373,
         0.0759717035893496,
         0.0758752239892235,
         0.07570711760358377,
         0.07590274546634067,
         0.07560395647759562,
         0.07594358258239635,
         0.07592426506536347,
         0.07564118093290886,
         0.0757773999947232,
         0.0757763327232429,
         0.07613951175824388,
         0.07586015601243291,
         0.07585684079434965,
         0.0755680791259586,
         0.07573640206223958,
         0.07579494408005244,
         0.07585185026000073,
         0.07582204387365997,
         0.07585744612983294,
         0.07573887255865258,
         0.07565467074126392,
         0.0759570642628453,
         0.07584788345477798,
         0.07582667368379506,
         0.07607701880397735,
         0.07575015138302531,
         0.07553938181175814,
         0.075635338710113,
         0.07601661123819166,
         0.07588726083760138,
         0.0760154203064256,
         0.07578370163773561,
         0.07591826976700262,
         0.07602198204243338,
         0.07602739793720184,
         0.07602749334333779,
         0.0760018943095362,
         0.07561641268722423,
         0.0761694350316153,
         0.07592177773257355,
         0.07582634663233509,
         0.07594462488959362,
         0.07606617637075387,
         0.0757535993569083,
         0.07612023352609053,
         0.07582673232083197,
         0.07574128093464035,
         0.07597891652545372,
         0.07576205431447401,
         0.07603898213861825,
         0.07570608110203371,
         0.07578653750288022,
         0.0758942568360211,
         0.07619254963545057,
         0.07587522263457248,
         0.07572010309471712,
         0.07587378844618797,
         0.07617100255636426,
         0.07605743422717243,
         0.07585037252926208,
         0.07568383792584593,
         0.07612048529765823,
         0.07601314526680228,
         0.07589004271022685,
         0.07581486422326658,
         0.0754319326347345,
         0.07584425473174491,
         0.07535677911205725,
         0.07582291046326811,
         0.07560035678279864,
         0.07588063562651734,
         0.07573761544250823,
         0.07574760502615532,
         0.07559900193825944,
         0.07554742592302235,
         0.07577319244866247,
         0.07558959524159307,
         0.07588485284865677,
         0.07602408891180892,
         0.07600858531795539,
         0.07603778907811487
        ],
        [
         11.713953785598278,
         11.72950517386198,
         11.712127320468426,
         11.67157083004713,
         11.675126515328884,
         11.687404327094555,
         11.666270665824413,
         11.660369388759136,
         11.712645433843136,
         11.657103411853313,
         11.729740791022778,
         11.680530332028866,
         11.672309063374996,
         11.72720705717802,
         11.668514721095562,
         11.686995796859264,
         11.70240392535925,
         11.753836832940578,
         11.682490549981594,
         11.699642352759838,
         11.68478449434042,
         11.6588961109519,
         11.689022801816463,
         11.643009297549725,
         11.695311717689037,
         11.692336820065975,
         11.648741863667965,
         11.669719599187374,
         11.669555239379406,
         11.725484810769558,
         11.682464025914669,
         11.681953482329845,
         11.637484185397625,
         11.663405917584896,
         11.672421388328075,
         11.681184940040112,
         11.676594756543636,
         11.682046703994274,
         11.663786374032497,
         11.650819294154644,
         11.697387896478176,
         11.680574052035809,
         11.67730774730444,
         11.715860895812511,
         11.665523312985897,
         11.633064799010754,
         11.647842161357403,
         11.706558130681515,
         11.686638168990612,
         11.70637472718954,
         11.670690052211285,
         11.691413544118404,
         11.70738523453474,
         11.708219282329082,
         11.70823397487402,
         11.704291723668575,
         11.644927553832531,
         11.730092994868755,
         11.691953770816326,
         11.677257381379604,
         11.695472232997417,
         11.714191161096096,
         11.666054300963879,
         11.72251596301794,
         11.677316777408123,
         11.664157263934612,
         11.700753144919872,
         11.667356364428997,
         11.71000324934721,
         11.658736489713192,
         11.671126775443554,
         11.68771555274725,
         11.733652643859386,
         11.684784285724163,
         11.660895876586437,
         11.684563420712948,
         11.730334393680096,
         11.712844870984554,
         11.680957369506359,
         11.655311040580273,
         11.722554735839367,
         11.706024371087551,
         11.687066577374935,
         11.675489090383053,
         11.616517625749111,
         11.680015228688717,
         11.604943983256817,
         11.676728211343288,
         11.642454944550991,
         11.68561788648367,
         11.663592778146267,
         11.66513117402792,
         11.642246298491955,
         11.634303592145443,
         11.66907163709402,
         11.640797667205334,
         11.686267338693142,
         11.707709692418575,
         11.70532213896513,
         11.70981951802969
        ],
        [
         2.0309387924849647,
         2.025492953821481,
         2.024204302265902,
         2.0226167943788087,
         2.027712719886443,
         2.023812775050841,
         2.0142010551436296,
         2.0181369844299395,
         2.0204711166079643,
         2.0255208274267447,
         2.028404538063836,
         2.0193000393671334,
         2.026708714268811,
         2.023955930787321,
         2.0229897056215043,
         2.0235604589285434,
         2.0233325559990027,
         2.026182063568809,
         2.024076914801666,
         2.0292679232758766,
         2.0310836264947416,
         2.0217720062853566,
         2.025146870413004,
         2.0163783483178,
         2.0269916575897313,
         2.0233639213820624,
         2.0188945902331343,
         2.0180207392629685,
         2.0212037922743393,
         2.0335268270294633,
         2.025498319257739,
         2.0234835540871265,
         2.0213129701032857,
         2.0247893415558567,
         2.020388619502774,
         2.0261268009927105,
         2.0143296729235534,
         2.0309574114396525,
         2.019858267061366,
         2.0203683924381566,
         2.023922626362517,
         2.0146489962274674,
         2.0197598864714834,
         2.0329700460388205,
         2.021350765989288,
         2.0155602267238204,
         2.022515390966391,
         2.0241322794173318,
         2.0223366491140444,
         2.034574279194276,
         2.0208557071572355,
         2.0230678837073195,
         2.0268416531914477,
         2.028618730607184,
         2.0282151895413914,
         2.024138348831936,
         2.0203386283278135,
         2.0279244336148126,
         2.0228767107166847,
         2.019420995207241,
         2.0222426148073462,
         2.03008622854964,
         2.021564849348303,
         2.0228977475181655,
         2.026219795105955,
         2.0210961071599205,
         2.02243774984091,
         2.018022931277199,
         2.0273161541017704,
         2.0262787186232227,
         2.0246309085623375,
         2.022285478306585,
         2.0307497022314536,
         2.0256875709575115,
         2.0231668376692538,
         2.017195007068475,
         2.02641451782277,
         2.02259399684842,
         2.0243025237512544,
         2.023188415130369,
         2.029181477595907,
         2.03069106959006,
         2.0178833884623337,
         2.024834781741575,
         2.0152743960821633,
         2.023961654523043,
         2.0150971904094646,
         2.014482939432099,
         2.024761527797147,
         2.026803028253207,
         2.0125870860312958,
         2.018991728251686,
         2.01469836238736,
         2.0270550633762596,
         2.01814022761372,
         2.0241268706839923,
         2.0262394862245756,
         2.0281657077374318,
         2.0246040781013095,
         2.0316273428076874
        ]
       ],
       "encoder": "json",
       "name": "ABC_GAN_2 Metrics",
       "version": 1
      }
     },
     "metadata": {
      "scrapbook": {
       "data": true,
       "display": false,
       "name": "ABC_GAN_2 Metrics"
      }
     },
     "output_type": "display_data"
    },
    {
     "name": "stdout",
     "output_type": "stream",
     "text": [
      "MAE\n",
      "0.07586433682929386\n"
     ]
    }
   ],
   "source": [
    "ABC_GAN2_metrics=ABC_train_test2.test_generator(gen2,test_data,prior_model,variance,bias,\"1\",device)\n",
    "sb.glue(\"ABC_GAN_2 Metrics\",ABC_GAN2_metrics)\n",
    "\n",
    "print(\"MAE\")\n",
    "print(mean(ABC_GAN2_metrics[1]))"
   ]
  },
  {
   "cell_type": "code",
   "execution_count": 18,
   "id": "332b71d4",
   "metadata": {
    "execution": {
     "iopub.execute_input": "2022-07-24T13:53:13.436300Z",
     "iopub.status.busy": "2022-07-24T13:53:13.435955Z",
     "iopub.status.idle": "2022-07-24T13:53:14.403804Z",
     "shell.execute_reply": "2022-07-24T13:53:14.402883Z"
    },
    "papermill": {
     "duration": 0.986525,
     "end_time": "2022-07-24T13:53:14.406567",
     "exception": false,
     "start_time": "2022-07-24T13:53:13.420042",
     "status": "completed"
    },
    "tags": []
   },
   "outputs": [
    {
     "data": {
      "image/png": "[encoded data removed]",
      "text/plain": [
       "<Figure size 432x288 with 1 Axes>"
      ]
     },
     "metadata": {
      "needs_background": "light"
     },
     "output_type": "display_data"
    },
    {
     "data": {
      "image/png": "[encoded data removed]",
      "text/plain": [
       "<Figure size 432x288 with 1 Axes>"
      ]
     },
     "metadata": {
      "needs_background": "light"
     },
     "output_type": "display_data"
    },
    {
     "data": {
      "image/png": "[encoded data removed]",
      "text/plain": [
       "<Figure size 432x288 with 1 Axes>"
      ]
     },
     "metadata": {
      "needs_background": "light"
     },
     "output_type": "display_data"
    },
    {
     "data": {
      "image/png": "[encoded data removed]",
      "text/plain": [
       "<Figure size 432x288 with 1 Axes>"
      ]
     },
     "metadata": {
      "needs_background": "light"
     },
     "output_type": "display_data"
    }
   ],
   "source": [
    "sanityChecks.discProbVsError(train_data,disc2,device)\n",
    "sanityChecks.discProbVsError(test_data,disc2,device)"
   ]
  },
  {
   "cell_type": "markdown",
   "id": "130f3a4d",
   "metadata": {
    "id": "130f3a4d",
    "papermill": {
     "duration": 0.01781,
     "end_time": "2022-07-24T13:53:14.440828",
     "exception": false,
     "start_time": "2022-07-24T13:53:14.423018",
     "status": "completed"
    },
    "tags": []
   },
   "source": [
    "# skipGAN Model"
   ]
  },
  {
   "cell_type": "code",
   "execution_count": 19,
   "id": "4e43dad1",
   "metadata": {
    "execution": {
     "iopub.execute_input": "2022-07-24T13:53:14.485812Z",
     "iopub.status.busy": "2022-07-24T13:53:14.485353Z",
     "iopub.status.idle": "2022-07-24T13:53:14.504775Z",
     "shell.execute_reply": "2022-07-24T13:53:14.503184Z"
    },
    "id": "4e43dad1",
    "papermill": {
     "duration": 0.040563,
     "end_time": "2022-07-24T13:53:14.507351",
     "exception": false,
     "start_time": "2022-07-24T13:53:14.466788",
     "status": "completed"
    },
    "tags": []
   },
   "outputs": [],
   "source": [
    "#Generator\n",
    "gen3 = network.GeneratorWithSkipConnection(n_features+1).to(device)\n",
    "constraints=network.weightConstraint()\n",
    "#Discriminator \n",
    "disc3 = network.Discriminator(n_features+1).to(device)\n",
    "\n",
    "criterion = torch.nn.BCELoss()\n",
    "gen_opt = torch.optim.Adam(gen3.parameters(), lr=0.01, betas=(0.5, 0.999))\n",
    "disc_opt = torch.optim.Adam(disc3.parameters(), lr=0.01, betas=(0.5, 0.999))\n"
   ]
  },
  {
   "cell_type": "code",
   "execution_count": 20,
   "id": "26acbc37",
   "metadata": {
    "execution": {
     "iopub.execute_input": "2022-07-24T13:53:14.542236Z",
     "iopub.status.busy": "2022-07-24T13:53:14.541618Z",
     "iopub.status.idle": "2022-07-24T14:06:33.994680Z",
     "shell.execute_reply": "2022-07-24T14:06:33.992153Z"
    },
    "id": "26acbc37",
    "papermill": {
     "duration": 799.48041,
     "end_time": "2022-07-24T14:06:34.003091",
     "exception": false,
     "start_time": "2022-07-24T13:53:14.522681",
     "status": "completed"
    },
    "tags": []
   },
   "outputs": [
    {
     "data": {
      "image/png": "[encoded data removed]",
      "text/plain": [
       "<Figure size 432x288 with 1 Axes>"
      ]
     },
     "metadata": {
      "needs_background": "light"
     },
     "output_type": "display_data"
    },
    {
     "data": {
      "image/png": "[encoded data removed]",
      "text/plain": [
       "<Figure size 432x288 with 1 Axes>"
      ]
     },
     "metadata": {
      "needs_background": "light"
     },
     "output_type": "display_data"
    }
   ],
   "source": [
    "ABC_train_test2.training_GAN_skip_connection(disc3,gen3,disc_opt,gen_opt,train_data,batch_size,n_epochs,criterion,prior_model,variance,bias,device)"
   ]
  },
  {
   "cell_type": "code",
   "execution_count": 21,
   "id": "c5e0717b",
   "metadata": {
    "execution": {
     "iopub.execute_input": "2022-07-24T14:06:34.084098Z",
     "iopub.status.busy": "2022-07-24T14:06:34.079569Z",
     "iopub.status.idle": "2022-07-24T14:06:36.915208Z",
     "shell.execute_reply": "2022-07-24T14:06:36.914215Z"
    },
    "id": "c5e0717b",
    "papermill": {
     "duration": 2.879329,
     "end_time": "2022-07-24T14:06:36.918068",
     "exception": false,
     "start_time": "2022-07-24T14:06:34.038739",
     "status": "completed"
    },
    "tags": []
   },
   "outputs": [
    {
     "data": {
      "application/scrapbook.scrap.json+json": {
       "data": 0.05225632445768895,
       "encoder": "json",
       "name": "ABC-GAN Model 3 MSE",
       "version": 1
      }
     },
     "metadata": {
      "scrapbook": {
       "data": true,
       "display": false,
       "name": "ABC-GAN Model 3 MSE"
      }
     },
     "output_type": "display_data"
    },
    {
     "data": {
      "application/scrapbook.scrap.json+json": {
       "data": 0.10801414141020217,
       "encoder": "json",
       "name": "ABC-GAN Model 3 MAE",
       "version": 1
      }
     },
     "metadata": {
      "scrapbook": {
       "data": true,
       "display": false,
       "name": "ABC-GAN Model 3 MAE"
      }
     },
     "output_type": "display_data"
    },
    {
     "data": {
      "application/scrapbook.scrap.json+json": {
       "data": 16.634177777171136,
       "encoder": "json",
       "name": "ABC-GAN Model 3 Manhattan Distance",
       "version": 1
      }
     },
     "metadata": {
      "scrapbook": {
       "data": true,
       "display": false,
       "name": "ABC-GAN Model 3 Manhattan Distance"
      }
     },
     "output_type": "display_data"
    },
    {
     "data": {
      "application/scrapbook.scrap.json+json": {
       "data": 2.8367196605531357,
       "encoder": "json",
       "name": "ABC-GAN Model 3 Euclidean distance",
       "version": 1
      }
     },
     "metadata": {
      "scrapbook": {
       "data": true,
       "display": false,
       "name": "ABC-GAN Model 3 Euclidean distance"
      }
     },
     "output_type": "display_data"
    },
    {
     "data": {
      "application/scrapbook.scrap.json+json": {
       "data": [
        [
         0.052997675306059616,
         0.05122620298293796,
         0.053837068033046984,
         0.05225534618214099,
         0.0511915654675502,
         0.05227046983531926,
         0.053229853324023704,
         0.05029337936431799,
         0.0524016419019741,
         0.051873068218469764,
         0.052157546766437184,
         0.050873028098818766,
         0.05248690858422349,
         0.05192432534417422,
         0.05158903202370342,
         0.05300319074720345,
         0.05307205096293593,
         0.05400803880209342,
         0.05240156190367585,
         0.05272542076922655,
         0.05142561224619334,
         0.051919065563608376,
         0.052950445021281524,
         0.05261033376039602,
         0.052838497951335175,
         0.05085235132360885,
         0.0541024275946094,
         0.05162770352823938,
         0.051885283537600205,
         0.05123794530714828,
         0.052705968764772765,
         0.052219958527193126,
         0.05133172399989788,
         0.05105535980386695,
         0.05209743100052102,
         0.05193383962262321,
         0.0521669906701321,
         0.052957607481833834,
         0.05227707682418388,
         0.05270176888263238,
         0.05292466438488918,
         0.05317512264205818,
         0.051726989253373844,
         0.05130940287318556,
         0.05335527005972691,
         0.053189981511123585,
         0.05088347116650393,
         0.05334455501105472,
         0.0529361708227089,
         0.05250645730449441,
         0.052784043390433015,
         0.053717614394988955,
         0.053241141540388795,
         0.05189715027125245,
         0.051590040264030836,
         0.052755403890691596,
         0.050797599931028926,
         0.0517631502012699,
         0.05174041950915781,
         0.05258014875966836,
         0.052839071504554753,
         0.051351749993349224,
         0.05199942940756962,
         0.053370406026958195,
         0.05252316527358528,
         0.05267894652155611,
         0.05234228289837033,
         0.05267761993672672,
         0.051578865099223374,
         0.0524120507031991,
         0.05336625278943501,
         0.05210228081868892,
         0.051945743233299015,
         0.051418968416820844,
         0.05203182971628466,
         0.05247444506831156,
         0.05141297042160771,
         0.05290624587888737,
         0.051645567972007624,
         0.052477235204464234,
         0.05176854489533263,
         0.05198159235679376,
         0.052608696437142034,
         0.053910721930948105,
         0.052817364548912685,
         0.05298892120474198,
         0.05169640173931568,
         0.050316615965314795,
         0.05249032450040737,
         0.05017049725295185,
         0.05221683916251192,
         0.05302651392890732,
         0.05250029854616047,
         0.051844778255386484,
         0.05304421695066744,
         0.05157842811482629,
         0.051865018675169086,
         0.05133904364105997,
         0.05221293248633144,
         0.052766005079073586
        ],
        [
         0.11065044142789655,
         0.1062890716477648,
         0.11004223689049869,
         0.11027652973478491,
         0.10963863405314359,
         0.10815352622371216,
         0.11327259015146789,
         0.10460277719350604,
         0.10675757717002522,
         0.10686691990726954,
         0.10572749714959752,
         0.10704614459113641,
         0.10887214972020744,
         0.1083983008737688,
         0.10570770477900257,
         0.10616774150690475,
         0.11100113909546432,
         0.11080440540205348,
         0.10615791540060725,
         0.11273433171309434,
         0.10705905993069921,
         0.10551864963460278,
         0.1104798773182677,
         0.10903470310104357,
         0.11069523368950014,
         0.10699647186057908,
         0.11039907906156082,
         0.10960903507354972,
         0.10567838834090666,
         0.10508175126530907,
         0.10942344309447648,
         0.1053183652073532,
         0.10917676070874388,
         0.10837986378313659,
         0.10770555696897692,
         0.1068312433342655,
         0.1069354648617181,
         0.10996771419977212,
         0.10453133957533094,
         0.10903366263230126,
         0.10848441807093559,
         0.1081303490640281,
         0.10542531993675541,
         0.11063300760148408,
         0.1109026466774476,
         0.10689916722960287,
         0.10675652663816106,
         0.11348644605317673,
         0.11073393253730489,
         0.1104030151452337,
         0.11113626127699752,
         0.1092681684470796,
         0.1085475402605998,
         0.1032100354696249,
         0.10658778574366073,
         0.10718230196794906,
         0.10543584876826831,
         0.10648783939805898,
         0.10638131651204902,
         0.11124971097746453,
         0.10884234647859227,
         0.10465937964134402,
         0.10521644073260294,
         0.1098790800610146,
         0.10936723780128862,
         0.10699294913898814,
         0.10455400303199694,
         0.10891617152404476,
         0.10213709995150566,
         0.10992745339096367,
         0.11022205346009949,
         0.10907558835559077,
         0.10697793292921859,
         0.1091127298385292,
         0.10830141961961598,
         0.10863732638490664,
         0.1089047221104046,
         0.10807903260960207,
         0.10406586571366756,
         0.107720917018203,
         0.10590382752480446,
         0.10428423502228477,
         0.10903643419990292,
         0.10848290690934503,
         0.1115521788113303,
         0.10915659817975837,
         0.10610116321545143,
         0.10695580160850054,
         0.10743280030883752,
         0.10796854669204006,
         0.11135200086932678,
         0.10902410324711304,
         0.10974389542039338,
         0.10547992640307971,
         0.10719084918692515,
         0.10605659350365787,
         0.10585931132172609,
         0.10742491914273856,
         0.10874604917578883,
         0.10770731443515072
        ],
        [
         17.04016797989607,
         16.36851703375578,
         16.9465044811368,
         16.982585579156876,
         16.884349644184113,
         16.65564303845167,
         17.443978883326054,
         16.10882768779993,
         16.440666884183884,
         16.45750566571951,
         16.282034561038017,
         16.485106267035007,
         16.766311056911945,
         16.693338334560394,
         16.278986535966396,
         16.34983219206333,
         17.094175420701504,
         17.063878431916237,
         16.348318971693516,
         17.36108708381653,
         16.48709522932768,
         16.24987204372883,
         17.013901107013226,
         16.79134427756071,
         17.04706598818302,
         16.47745666652918,
         17.001458175480366,
         16.879791401326656,
         16.274471804499626,
         16.182589694857597,
         16.851210236549377,
         16.219028241932392,
         16.813221149146557,
         16.690499022603035,
         16.586655773222446,
         16.452011473476887,
         16.468061588704586,
         16.935027986764908,
         16.097826294600964,
         16.791184045374393,
         16.70660038292408,
         16.65207375586033,
         16.235499270260334,
         17.037483170628548,
         17.07900758832693,
         16.46247175335884,
         16.440505102276802,
         17.476912692189217,
         17.053025610744953,
         17.00206433236599,
         17.11498423665762,
         16.827297940850258,
         16.71632120013237,
         15.894345462322235,
         16.414519004523754,
         16.506074503064156,
         16.23712071031332,
         16.399127267301083,
         16.38272274285555,
         17.132455490529537,
         16.76172135770321,
         16.11754446476698,
         16.203331872820854,
         16.921378329396248,
         16.84255462139845,
         16.476914167404175,
         16.10131646692753,
         16.773090414702892,
         15.729113392531872,
         16.928827822208405,
         16.97419623285532,
         16.79764060676098,
         16.474601671099663,
         16.803360395133495,
         16.67841862142086,
         16.730148263275623,
         16.771327205002308,
         16.64417102187872,
         16.026143319904804,
         16.58902122080326,
         16.309189438819885,
         16.059772193431854,
         16.79161086678505,
         16.706367664039135,
         17.179035536944866,
         16.81011611968279,
         16.33957913517952,
         16.471193447709084,
         16.544651247560978,
         16.62715619057417,
         17.148208133876324,
         16.78971190005541,
         16.90055989474058,
         16.243908666074276,
         16.507390774786472,
         16.332715399563313,
         16.30233394354582,
         16.54343754798174,
         16.74689157307148,
         16.58692642301321
        ],
        [
         2.8568587639456697,
         2.808707044063593,
         2.879393769023131,
         2.8367804483339403,
         2.8077573046833537,
         2.837190926715924,
         2.8631097449975,
         2.7830164250512377,
         2.840748643034792,
         2.8263850596909728,
         2.8341245918327806,
         2.7990080970261753,
         2.843058902304069,
         2.827781127138879,
         2.8186363603079996,
         2.857007415998308,
         2.8588626844065335,
         2.8839622007790577,
         2.8407464746376228,
         2.8495113262559406,
         2.8141684892546457,
         2.8276379005798624,
         2.8555854974553565,
         2.846399725811711,
         2.8525652813749267,
         2.7984392263967006,
         2.8864812227987637,
         2.8196925973142646,
         2.8267178254630285,
         2.809028938494731,
         2.848985642254977,
         2.8358197427177454,
         2.811598388103157,
         2.804019509524766,
         2.832490842717808,
         2.8280401874591483,
         2.834381160535813,
         2.8557786245089813,
         2.8373702315567346,
         2.8488721290934396,
         2.8548902457490253,
         2.8616374485383296,
         2.8224025837962188,
         2.810987022821446,
         2.8664806975100916,
         2.86203723817721,
         2.7992953684171313,
         2.8661928531943603,
         2.8552005720609492,
         2.8435883008783356,
         2.851094997036522,
         2.8761975969721374,
         2.8634133123284653,
         2.827041057673708,
         2.818663903458649,
         2.8503214203255225,
         2.7969323176255902,
         2.823388944335435,
         2.822768960508512,
         2.8455830525551224,
         2.852580763396793,
         2.8121467776372877,
         2.829825459063813,
         2.8668872541750856,
         2.8440406910120215,
         2.848255214042387,
         2.8391392298281244,
         2.848219350797251,
         2.8183586048053573,
         2.8410307651084423,
         2.866775702696845,
         2.832622679793074,
         2.8283642724953317,
         2.8139866979412695,
         2.8307069393188407,
         2.8427213265672,
         2.8138225681317555,
         2.8543934321233038,
         2.8201803963025442,
         2.842796901202668,
         2.823536065624313,
         2.8293400684516943,
         2.846355433061703,
         2.881362729224838,
         2.851994765165699,
         2.8566228077102274,
         2.8215679803709524,
         2.7836592569239644,
         2.8431514157819198,
         2.7796144655247756,
         2.835735042458452,
         2.857635936408227,
         2.8434215262793368,
         2.8256142431920037,
         2.858112910716227,
         2.8183466659875696,
         2.8261657552196118,
         2.8117988407286956,
         2.8356289607237124,
         2.8506077917134327
        ]
       ],
       "encoder": "json",
       "name": "ABC_GAN_3 Metrics",
       "version": 1
      }
     },
     "metadata": {
      "scrapbook": {
       "data": true,
       "display": false,
       "name": "ABC_GAN_3 Metrics"
      }
     },
     "output_type": "display_data"
    },
    {
     "name": "stdout",
     "output_type": "stream",
     "text": [
      "MAE\n",
      "0.10801414141020217\n"
     ]
    }
   ],
   "source": [
    "ABC_GAN3_metrics=ABC_train_test2.test_generator(gen3,test_data,prior_model,variance,bias,\"3\",device)\n",
    "sb.glue(\"ABC_GAN_3 Metrics\",ABC_GAN3_metrics)\n",
    "\n",
    "print(\"MAE\")\n",
    "print(mean(ABC_GAN3_metrics[1]))"
   ]
  },
  {
   "cell_type": "code",
   "execution_count": 22,
   "id": "c8e46b48",
   "metadata": {
    "execution": {
     "iopub.execute_input": "2022-07-24T14:06:37.001617Z",
     "iopub.status.busy": "2022-07-24T14:06:37.001069Z",
     "iopub.status.idle": "2022-07-24T14:06:39.091445Z",
     "shell.execute_reply": "2022-07-24T14:06:39.089984Z"
    },
    "id": "c8e46b48",
    "papermill": {
     "duration": 2.118356,
     "end_time": "2022-07-24T14:06:39.095455",
     "exception": false,
     "start_time": "2022-07-24T14:06:36.977099",
     "status": "completed"
    },
    "tags": []
   },
   "outputs": [
    {
     "data": {
      "image/png": "[encoded data removed]",
      "text/plain": [
       "<Figure size 432x288 with 1 Axes>"
      ]
     },
     "metadata": {
      "needs_background": "light"
     },
     "output_type": "display_data"
    },
    {
     "data": {
      "image/png": "[encoded data removed]",
      "text/plain": [
       "<Figure size 432x288 with 1 Axes>"
      ]
     },
     "metadata": {
      "needs_background": "light"
     },
     "output_type": "display_data"
    },
    {
     "data": {
      "image/png": "[encoded data removed]",
      "text/plain": [
       "<Figure size 432x288 with 1 Axes>"
      ]
     },
     "metadata": {
      "needs_background": "light"
     },
     "output_type": "display_data"
    },
    {
     "data": {
      "image/png": "[encoded data removed]",
      "text/plain": [
       "<Figure size 432x288 with 1 Axes>"
      ]
     },
     "metadata": {
      "needs_background": "light"
     },
     "output_type": "display_data"
    }
   ],
   "source": [
    "sanityChecks.discProbVsError(train_data,disc3,device)\n",
    "sanityChecks.discProbVsError(test_data,disc3,device)"
   ]
  },
  {
   "cell_type": "markdown",
   "id": "b08c0952",
   "metadata": {
    "id": "130f3a4d",
    "papermill": {
     "duration": 0.063938,
     "end_time": "2022-07-24T14:06:39.205752",
     "exception": false,
     "start_time": "2022-07-24T14:06:39.141814",
     "status": "completed"
    },
    "tags": []
   },
   "source": [
    "# skipGAN Model with TabNet Generator"
   ]
  },
  {
   "cell_type": "code",
   "execution_count": 23,
   "id": "92beeced",
   "metadata": {
    "execution": {
     "iopub.execute_input": "2022-07-24T14:06:39.310301Z",
     "iopub.status.busy": "2022-07-24T14:06:39.309128Z",
     "iopub.status.idle": "2022-07-24T14:06:39.356035Z",
     "shell.execute_reply": "2022-07-24T14:06:39.353412Z"
    },
    "id": "4e43dad1",
    "papermill": {
     "duration": 0.088645,
     "end_time": "2022-07-24T14:06:39.362088",
     "exception": false,
     "start_time": "2022-07-24T14:06:39.273443",
     "status": "completed"
    },
    "tags": []
   },
   "outputs": [],
   "source": [
    "#Generator\n",
    "gen4 = network.GeneratorTabnetskipConnection(n_features+1).to(device)\n",
    "constraints=network.weightConstraint()\n",
    "#Discriminator \n",
    "disc4 = network.Discriminator(n_features+1).to(device)\n",
    "\n",
    "criterion = torch.nn.BCELoss()\n",
    "gen_opt = torch.optim.Adam(gen4.parameters(), lr=0.01, betas=(0.5, 0.999))\n",
    "disc_opt = torch.optim.Adam(disc4.parameters(), lr=0.01, betas=(0.5, 0.999))\n"
   ]
  },
  {
   "cell_type": "code",
   "execution_count": 24,
   "id": "0ab2bb30",
   "metadata": {
    "execution": {
     "iopub.execute_input": "2022-07-24T14:06:39.446627Z",
     "iopub.status.busy": "2022-07-24T14:06:39.445575Z",
     "iopub.status.idle": "2022-07-24T14:36:51.672530Z",
     "shell.execute_reply": "2022-07-24T14:36:51.621645Z"
    },
    "id": "26acbc37",
    "papermill": {
     "duration": 1812.277192,
     "end_time": "2022-07-24T14:36:51.684784",
     "exception": false,
     "start_time": "2022-07-24T14:06:39.407592",
     "status": "completed"
    },
    "tags": []
   },
   "outputs": [
    {
     "data": {
      "image/png": "[encoded data removed]",
      "text/plain": [
       "<Figure size 432x288 with 1 Axes>"
      ]
     },
     "metadata": {
      "needs_background": "light"
     },
     "output_type": "display_data"
    },
    {
     "data": {
      "image/png": "[encoded data removed]",
      "text/plain": [
       "<Figure size 432x288 with 1 Axes>"
      ]
     },
     "metadata": {
      "needs_background": "light"
     },
     "output_type": "display_data"
    }
   ],
   "source": [
    "ABC_train_test2.training_GAN_skip_connection(disc4,gen4,disc_opt,gen_opt,train_data,batch_size,n_epochs,criterion,prior_model,variance,bias,device)"
   ]
  },
  {
   "cell_type": "code",
   "execution_count": 25,
   "id": "8a794f6e",
   "metadata": {
    "execution": {
     "iopub.execute_input": "2022-07-24T14:36:51.786224Z",
     "iopub.status.busy": "2022-07-24T14:36:51.785342Z",
     "iopub.status.idle": "2022-07-24T14:36:56.342886Z",
     "shell.execute_reply": "2022-07-24T14:36:56.341753Z"
    },
    "id": "c5e0717b",
    "papermill": {
     "duration": 4.622658,
     "end_time": "2022-07-24T14:36:56.345568",
     "exception": false,
     "start_time": "2022-07-24T14:36:51.722910",
     "status": "completed"
    },
    "tags": []
   },
   "outputs": [
    {
     "data": {
      "application/scrapbook.scrap.json+json": {
       "data": 0.03580960024873974,
       "encoder": "json",
       "name": "ABC-GAN Model 3 MSE",
       "version": 1
      }
     },
     "metadata": {
      "scrapbook": {
       "data": true,
       "display": false,
       "name": "ABC-GAN Model 3 MSE"
      }
     },
     "output_type": "display_data"
    },
    {
     "data": {
      "application/scrapbook.scrap.json+json": {
       "data": 0.12473805667130979,
       "encoder": "json",
       "name": "ABC-GAN Model 3 MAE",
       "version": 1
      }
     },
     "metadata": {
      "scrapbook": {
       "data": true,
       "display": false,
       "name": "ABC-GAN Model 3 MAE"
      }
     },
     "output_type": "display_data"
    },
    {
     "data": {
      "application/scrapbook.scrap.json+json": {
       "data": 19.209660727381706,
       "encoder": "json",
       "name": "ABC-GAN Model 3 Manhattan Distance",
       "version": 1
      }
     },
     "metadata": {
      "scrapbook": {
       "data": true,
       "display": false,
       "name": "ABC-GAN Model 3 Manhattan Distance"
      }
     },
     "output_type": "display_data"
    },
    {
     "data": {
      "application/scrapbook.scrap.json+json": {
       "data": 2.348304176729571,
       "encoder": "json",
       "name": "ABC-GAN Model 3 Euclidean distance",
       "version": 1
      }
     },
     "metadata": {
      "scrapbook": {
       "data": true,
       "display": false,
       "name": "ABC-GAN Model 3 Euclidean distance"
      }
     },
     "output_type": "display_data"
    },
    {
     "data": {
      "application/scrapbook.scrap.json+json": {
       "data": [
        [
         0.03548860368192444,
         0.035460830487304036,
         0.03622653424669987,
         0.03603323888975817,
         0.03494058035309912,
         0.03574279542784792,
         0.036094635781583125,
         0.03517516382663524,
         0.03614147002734741,
         0.035763937966609746,
         0.03589905889399584,
         0.035271940016326775,
         0.035654636967587985,
         0.03623441589538338,
         0.03571618993079157,
         0.03561400751910222,
         0.03583726564930245,
         0.03609097351297173,
         0.03526037642730307,
         0.035999313501759264,
         0.036044506075318616,
         0.03520078085231445,
         0.03510607610861814,
         0.035575841982555846,
         0.03533064114808697,
         0.03583379521199445,
         0.035984941099730584,
         0.03547034970625728,
         0.03603446997555914,
         0.035275316375396305,
         0.03564325997476092,
         0.03566065176620721,
         0.03591421261198113,
         0.035858849996936254,
         0.03650300872610413,
         0.03590911981626466,
         0.03590918034432686,
         0.035939991378514606,
         0.03574253976443016,
         0.03591403869108786,
         0.03591052008217371,
         0.0354786063409253,
         0.03525909774348908,
         0.0362490624867675,
         0.03586799473064118,
         0.03636743254437742,
         0.0358817282260596,
         0.035591118013008974,
         0.03614915222927384,
         0.03570772474976949,
         0.03559253006091465,
         0.03612901538662281,
         0.035606534095006484,
         0.0362703889501394,
         0.036807158096829426,
         0.03562424725007714,
         0.035481802867659985,
         0.035422340509659735,
         0.035517366671231856,
         0.03566700375474135,
         0.03584252751538412,
         0.03539068453241991,
         0.03572250339739342,
         0.03548855446018361,
         0.035694178928534895,
         0.0350803619445936,
         0.035882559691077974,
         0.03628182301508083,
         0.036179372761549033,
         0.03518802771004325,
         0.035564838877233745,
         0.03559766800648516,
         0.036732256902552884,
         0.036058594358370666,
         0.03630129726184714,
         0.03614562595850809,
         0.03588505484367835,
         0.03574177760857831,
         0.035851985792522544,
         0.036483778781497625,
         0.0358554817305481,
         0.035506375513122516,
         0.035964591967705906,
         0.03552792416195125,
         0.035597100029984445,
         0.0357109871930185,
         0.03622932796548398,
         0.03613857160861545,
         0.03519301099389779,
         0.03600743835202424,
         0.03561933570369409,
         0.036047056881232095,
         0.0357825517292034,
         0.03583965450893677,
         0.0362447257422885,
         0.03622741538559864,
         0.03559868598598068,
         0.03660332424859945,
         0.035977147290073425,
         0.03609748013533189
        ],
        [
         0.12360805587528588,
         0.12326176962875701,
         0.12523012642155995,
         0.12400568639496704,
         0.12301182287273468,
         0.12505390867590904,
         0.12530768648177,
         0.12317373240729432,
         0.12479989922472409,
         0.12490673629300934,
         0.12358419776156351,
         0.12390031196273767,
         0.12395015315382511,
         0.1257758547443074,
         0.12496760182759979,
         0.12420281008272976,
         0.12456897534913831,
         0.1234139743466656,
         0.12446426721168803,
         0.12508712326744933,
         0.1244138257166782,
         0.12382718451417886,
         0.12352553963080629,
         0.1255184090272947,
         0.1238497370346026,
         0.1237505819987167,
         0.12419542075171099,
         0.12400964836215043,
         0.12557095090870735,
         0.12284325890533336,
         0.12423700524808524,
         0.12459352656037777,
         0.12582773274996065,
         0.12503991048637922,
         0.12471934809506714,
         0.12548410936028925,
         0.12510941308233645,
         0.12627962042952512,
         0.12466043519315781,
         0.12476943776785553,
         0.12382453810665514,
         0.12469628109753907,
         0.12268111230684565,
         0.12583816414336105,
         0.12315343489701097,
         0.12558009364194683,
         0.12576753031704332,
         0.12467769209247132,
         0.12398337906637749,
         0.12534379141477794,
         0.12437404135798479,
         0.125898771907215,
         0.12362940585264912,
         0.12547477726618966,
         0.12644195764676316,
         0.12464267358957946,
         0.12504801981441385,
         0.12288436995117695,
         0.1238764330454461,
         0.1254724356551449,
         0.1254729007842479,
         0.12378029268863913,
         0.12432166261525897,
         0.12481327011407196,
         0.12535101122089795,
         0.12456331184351599,
         0.12489740197341163,
         0.1253894107392082,
         0.12665354116977035,
         0.12394675404413955,
         0.12363987875642715,
         0.12481809054295738,
         0.12846122328917703,
         0.12367608828784583,
         0.12470035163032545,
         0.12547849868605662,
         0.12562910772182725,
         0.12369396755254114,
         0.12358683952456945,
         0.1257565256159801,
         0.1258952161418153,
         0.1245881590460028,
         0.12530802998256374,
         0.12509111116652366,
         0.12427773079895355,
         0.12429599594566729,
         0.12613076837612436,
         0.12508438474365643,
         0.12308321036882215,
         0.1250776576434637,
         0.12530736794525926,
         0.12657713294996845,
         0.12566158635082184,
         0.1247584924779155,
         0.12619193280478577,
         0.12434503624772096,
         0.12509340933197505,
         0.12527617168697444,
         0.12506699450797848,
         0.12627645683559505
        ],
        [
         19.035640604794025,
         18.98231252282858,
         19.28543946892023,
         19.096875704824924,
         18.943820722401142,
         19.258301936089993,
         19.297383718192577,
         18.968754790723324,
         19.21918448060751,
         19.23563738912344,
         19.03196645528078,
         19.0806480422616,
         19.088323585689068,
         19.36948163062334,
         19.245010681450367,
         19.127232752740383,
         19.1836222037673,
         19.0057520493865,
         19.167497150599957,
         19.2634169831872,
         19.159729160368443,
         19.069386415183544,
         19.02293310314417,
         19.32983499020338,
         19.0728595033288,
         19.057589627802372,
         19.126094795763493,
         19.097485847771168,
         19.33792643994093,
         18.917861871421337,
         19.132498808205128,
         19.187403090298176,
         19.37747084349394,
         19.2561462149024,
         19.20677960664034,
         19.324552841484547,
         19.266849614679813,
         19.44706154614687,
         19.197707019746304,
         19.214493416249752,
         19.068978868424892,
         19.203227289021015,
         18.89289129525423,
         19.379077278077602,
         18.96562897413969,
         19.339334420859814,
         19.368199668824673,
         19.20036458224058,
         19.093440376222134,
         19.302943877875805,
         19.153602369129658,
         19.38841087371111,
         19.038928501307964,
         19.323115698993206,
         19.472061477601528,
         19.19497173279524,
         19.257395051419735,
         18.92419297248125,
         19.0769706889987,
         19.322755090892315,
         19.322826720774174,
         19.062165074050426,
         19.14553604274988,
         19.22124359756708,
         19.304055728018284,
         19.182750023901463,
         19.23419990390539,
         19.309969253838062,
         19.504645340144634,
         19.08780012279749,
         19.04054132848978,
         19.221985943615437,
         19.78302838653326,
         19.04611759632826,
         19.203854151070118,
         19.32368879765272,
         19.346882589161396,
         19.048871003091335,
         19.032373286783695,
         19.366504944860935,
         19.387863285839558,
         19.18657649308443,
         19.297436617314816,
         19.264031119644642,
         19.138770543038845,
         19.141583375632763,
         19.424138329923153,
         19.26299525052309,
         18.95481439679861,
         19.26195927709341,
         19.297334663569927,
         19.49287847429514,
         19.35188429802656,
         19.212807841598988,
         19.433557651937008,
         19.14913558214903,
         19.264385037124157,
         19.292530439794064,
         19.260317154228687,
         19.446574352681637
        ],
        [
         2.3377863390430624,
         2.3368713903518143,
         2.361966611531962,
         2.355656763839494,
         2.3196657893708017,
         2.346143750047848,
         2.357662806756683,
         2.3274396295719093,
         2.3591918921977286,
         2.346837541641496,
         2.3512666947148637,
         2.330639131765002,
         2.343248619546921,
         2.362223538932977,
         2.3452704000481273,
         2.341913140563019,
         2.349242199091566,
         2.3575431959982507,
         2.330257060885059,
         2.354547574221198,
         2.356025028644447,
         2.3282869778565582,
         2.32515283814359,
         2.340657955642729,
         2.3325777022010206,
         2.3491284474560232,
         2.3540775113318824,
         2.3371850279264628,
         2.355697004335682,
         2.330750677745484,
         2.3428747376061705,
         2.343446259677382,
         2.351762900941567,
         2.3499495525496252,
         2.3709625353050257,
         2.351596149789491,
         2.351598131702425,
         2.3526067823355543,
         2.3461353592071887,
         2.351757206521866,
         2.351641999253873,
         2.337457032012032,
         2.330214808230631,
         2.3627009169512325,
         2.350249175836201,
         2.3665554318109945,
         2.3506990761926927,
         2.341160433204735,
         2.359442612844858,
         2.3449924544579033,
         2.3412068745373307,
         2.3587853589379244,
         2.3416674082010447,
         2.3633958403791495,
         2.3808196796296297,
         2.342249789521152,
         2.3375623289272176,
         2.3356027998115603,
         2.33873351781893,
         2.343654961428872,
         2.3494146584562623,
         2.3345589343584083,
         2.345477674845486,
         2.337784717819046,
         2.3445476226757207,
         2.324301129257441,
         2.3507263116802872,
         2.3637683355867276,
         2.3604286486311232,
         2.3278651737904967,
         2.3402959614318006,
         2.3413758504346784,
         2.3783960063440115,
         2.356485419260871,
         2.3644026261033586,
         2.359327530804116,
         2.3508080410630012,
         2.346110345171569,
         2.3497246247270067,
         2.3703379363184975,
         2.349839183115391,
         2.33837161910182,
         2.353411813309925,
         2.339081084729748,
         2.341357171517751,
         2.345099577358038,
         2.3620576848765853,
         2.359097290856564,
         2.3280300026117056,
         2.354813263554402,
         2.3420883199334925,
         2.356108393030708,
         2.347448181813035,
         2.3493204963087226,
         2.362559578997412,
         2.3619953364437856,
         2.341409328127191,
         2.374218173269743,
         2.35382256822202,
         2.357755699991225
        ]
       ],
       "encoder": "json",
       "name": "ABC_GAN_4 Metrics",
       "version": 1
      }
     },
     "metadata": {
      "scrapbook": {
       "data": true,
       "display": false,
       "name": "ABC_GAN_4 Metrics"
      }
     },
     "output_type": "display_data"
    },
    {
     "name": "stdout",
     "output_type": "stream",
     "text": [
      "MAE\n",
      "0.12473805667130979\n"
     ]
    }
   ],
   "source": [
    "ABC_GAN4_metrics=ABC_train_test2.test_generator(gen4,test_data,prior_model,variance,bias,\"3\",device)\n",
    "sb.glue(\"ABC_GAN_4 Metrics\",ABC_GAN4_metrics)\n",
    "\n",
    "print(\"MAE\")\n",
    "print(mean(ABC_GAN4_metrics[1]))"
   ]
  },
  {
   "cell_type": "code",
   "execution_count": 26,
   "id": "6410428a",
   "metadata": {
    "execution": {
     "iopub.execute_input": "2022-07-24T14:36:56.409999Z",
     "iopub.status.busy": "2022-07-24T14:36:56.409670Z",
     "iopub.status.idle": "2022-07-24T14:36:57.477574Z",
     "shell.execute_reply": "2022-07-24T14:36:57.476262Z"
    },
    "id": "c8e46b48",
    "papermill": {
     "duration": 1.104892,
     "end_time": "2022-07-24T14:36:57.481266",
     "exception": false,
     "start_time": "2022-07-24T14:36:56.376374",
     "status": "completed"
    },
    "tags": []
   },
   "outputs": [
    {
     "data": {
      "image/png": "[encoded data removed]",
      "text/plain": [
       "<Figure size 432x288 with 1 Axes>"
      ]
     },
     "metadata": {
      "needs_background": "light"
     },
     "output_type": "display_data"
    },
    {
     "data": {
      "image/png": "[encoded data removed]",
      "text/plain": [
       "<Figure size 432x288 with 1 Axes>"
      ]
     },
     "metadata": {
      "needs_background": "light"
     },
     "output_type": "display_data"
    },
    {
     "data": {
      "image/png": "[encoded data removed]",
      "text/plain": [
       "<Figure size 432x288 with 1 Axes>"
      ]
     },
     "metadata": {
      "needs_background": "light"
     },
     "output_type": "display_data"
    },
    {
     "data": {
      "image/png": "[encoded data removed]",
      "text/plain": [
       "<Figure size 432x288 with 1 Axes>"
      ]
     },
     "metadata": {
      "needs_background": "light"
     },
     "output_type": "display_data"
    }
   ],
   "source": [
    "sanityChecks.discProbVsError(train_data,disc4,device)\n",
    "sanityChecks.discProbVsError(test_data,disc4,device)"
   ]
  },
  {
   "cell_type": "markdown",
   "id": "a5bd74c3",
   "metadata": {
    "id": "a5bd74c3",
    "papermill": {
     "duration": 0.030717,
     "end_time": "2022-07-24T14:36:57.548110",
     "exception": false,
     "start_time": "2022-07-24T14:36:57.517393",
     "status": "completed"
    },
    "tags": []
   },
   "source": [
    "## Skip Connection Model Analysis - ABC-GAN "
   ]
  },
  {
   "cell_type": "markdown",
   "id": "5744a8bf",
   "metadata": {
    "id": "5744a8bf",
    "papermill": {
     "duration": 0.038451,
     "end_time": "2022-07-24T14:36:57.618127",
     "exception": false,
     "start_time": "2022-07-24T14:36:57.579676",
     "status": "completed"
    },
    "tags": []
   },
   "source": [
    "### Weight Analysis \n",
    "\n",
    "Study the weights of the skip connection layer\n",
    "\n",
    "Equation of the skip connection is \n",
    "\n",
    "$output = y_{gan} * w + y_{abc} * (1-w)$"
   ]
  },
  {
   "cell_type": "code",
   "execution_count": 27,
   "id": "52c31dea",
   "metadata": {
    "execution": {
     "iopub.execute_input": "2022-07-24T14:36:57.692180Z",
     "iopub.status.busy": "2022-07-24T14:36:57.691603Z",
     "iopub.status.idle": "2022-07-24T14:36:57.766117Z",
     "shell.execute_reply": "2022-07-24T14:36:57.758494Z"
    },
    "id": "52c31dea",
    "papermill": {
     "duration": 0.132042,
     "end_time": "2022-07-24T14:36:57.785215",
     "exception": false,
     "start_time": "2022-07-24T14:36:57.653173",
     "status": "completed"
    },
    "tags": []
   },
   "outputs": [
    {
     "name": "stdout",
     "output_type": "stream",
     "text": [
      "Weight of the node at skip connection\n",
      "Parameter containing:\n",
      "tensor([[0.9581]], requires_grad=True)\n"
     ]
    },
    {
     "data": {
      "application/scrapbook.scrap.json+json": {
       "data": 0.9581226110458374,
       "encoder": "json",
       "name": "Skip Connection Weight",
       "version": 1
      }
     },
     "metadata": {
      "scrapbook": {
       "data": true,
       "display": false,
       "name": "Skip Connection Weight"
      }
     },
     "output_type": "display_data"
    }
   ],
   "source": [
    "print(\"Weight of the node at skip connection\")\n",
    "for name,param in gen3.named_parameters():\n",
    "    if(name == \"skipNode.weight\"):\n",
    "        print(param)\n",
    "        sb.glue(\"Skip Connection Weight\",param.item())"
   ]
  },
  {
   "cell_type": "markdown",
   "id": "71fa6cbd",
   "metadata": {
    "id": "a5bd74c3",
    "papermill": {
     "duration": 0.0556,
     "end_time": "2022-07-24T14:36:57.896991",
     "exception": false,
     "start_time": "2022-07-24T14:36:57.841391",
     "status": "completed"
    },
    "tags": []
   },
   "source": [
    "## skipGAN Model Analysis (TabNet Generator) "
   ]
  },
  {
   "cell_type": "markdown",
   "id": "2c9fbc91",
   "metadata": {
    "id": "5744a8bf",
    "papermill": {
     "duration": 0.067702,
     "end_time": "2022-07-24T14:36:58.011633",
     "exception": false,
     "start_time": "2022-07-24T14:36:57.943931",
     "status": "completed"
    },
    "tags": []
   },
   "source": [
    "### Weight Analysis \n",
    "\n",
    "Study the weights of the skip connection layer\n",
    "\n",
    "Equation of the skip connection is \n",
    "\n",
    "$output = y_{gan} * w + y_{abc} * (1-w)$"
   ]
  },
  {
   "cell_type": "code",
   "execution_count": 28,
   "id": "5f54bb4d",
   "metadata": {
    "execution": {
     "iopub.execute_input": "2022-07-24T14:36:58.083687Z",
     "iopub.status.busy": "2022-07-24T14:36:58.083335Z",
     "iopub.status.idle": "2022-07-24T14:36:58.096487Z",
     "shell.execute_reply": "2022-07-24T14:36:58.095349Z"
    },
    "id": "52c31dea",
    "papermill": {
     "duration": 0.052903,
     "end_time": "2022-07-24T14:36:58.101271",
     "exception": false,
     "start_time": "2022-07-24T14:36:58.048368",
     "status": "completed"
    },
    "tags": []
   },
   "outputs": [
    {
     "name": "stdout",
     "output_type": "stream",
     "text": [
      "Weight of the node at skip connection\n",
      "Parameter containing:\n",
      "tensor([[0.9869]], requires_grad=True)\n"
     ]
    },
    {
     "data": {
      "application/scrapbook.scrap.json+json": {
       "data": 0.9869041442871094,
       "encoder": "json",
       "name": "Skip Connection Weight",
       "version": 1
      }
     },
     "metadata": {
      "scrapbook": {
       "data": true,
       "display": false,
       "name": "Skip Connection Weight"
      }
     },
     "output_type": "display_data"
    }
   ],
   "source": [
    "print(\"Weight of the node at skip connection\")\n",
    "for name,param in gen4.named_parameters():\n",
    "    if(name == \"skipNode.weight\"):\n",
    "        print(param)\n",
    "        sb.glue(\"Skip Connection Weight\",param.item())"
   ]
  }
 ],
 "metadata": {
  "colab": {
   "collapsed_sections": [],
   "name": "ABC_GAN_Model-Catboost_Pre-gen.ipynb",
   "provenance": []
  },
  "interpreter": {
   "hash": "31f2aee4e71d21fbe5cf8b01ff0e069b9275f58929596ceb00d14d90e3e16cd6"
  },
  "kernelspec": {
   "display_name": "Python 3 (ipykernel)",
   "language": "python",
   "name": "python3"
  },
  "language_info": {
   "codemirror_mode": {
    "name": "ipython",
    "version": 3
   },
   "file_extension": ".py",
   "mimetype": "text/x-python",
   "name": "python",
   "nbconvert_exporter": "python",
   "pygments_lexer": "ipython3",
   "version": "3.8.13"
  },
  "papermill": {
   "default_parameters": {},
   "duration": 3779.577581,
   "end_time": "2022-07-24T14:37:01.354735",
   "environment_variables": {},
   "exception": null,
   "input_path": "ABC_GAN-Catboost.ipynb",
   "output_path": "./ABC_GAN_Catboost/ABC-GAN_output_1_0.ipynb",
   "parameters": {
    "bias": 1,
    "variance": 1
   },
   "start_time": "2022-07-24T13:34:01.777154",
   "version": "2.3.3"
  }
 },
 "nbformat": 4,
 "nbformat_minor": 5
}