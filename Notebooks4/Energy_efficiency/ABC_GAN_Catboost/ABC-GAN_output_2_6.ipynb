{
 "cells": [
  {
   "cell_type": "markdown",
   "id": "622780e6",
   "metadata": {
    "id": "622780e6",
    "papermill": {
     "duration": 0.027912,
     "end_time": "2022-07-25T05:02:06.797976",
     "exception": false,
     "start_time": "2022-07-25T05:02:06.770064",
     "status": "completed"
    },
    "tags": []
   },
   "source": [
    "## Import Libraries "
   ]
  },
  {
   "cell_type": "code",
   "execution_count": 1,
   "id": "a62397e3",
   "metadata": {
    "execution": {
     "iopub.execute_input": "2022-07-25T05:02:06.817514Z",
     "iopub.status.busy": "2022-07-25T05:02:06.817026Z",
     "iopub.status.idle": "2022-07-25T05:02:06.829040Z",
     "shell.execute_reply": "2022-07-25T05:02:06.827862Z"
    },
    "id": "a62397e3",
    "papermill": {
     "duration": 0.025761,
     "end_time": "2022-07-25T05:02:06.831928",
     "exception": false,
     "start_time": "2022-07-25T05:02:06.806167",
     "status": "completed"
    },
    "tags": []
   },
   "outputs": [],
   "source": [
    "import warnings\n",
    "import sys\n",
    "sys.path.insert(0, '../../src')\n",
    "warnings.filterwarnings('ignore')"
   ]
  },
  {
   "cell_type": "code",
   "execution_count": 2,
   "id": "d6a4e155",
   "metadata": {
    "execution": {
     "iopub.execute_input": "2022-07-25T05:02:06.853404Z",
     "iopub.status.busy": "2022-07-25T05:02:06.852966Z",
     "iopub.status.idle": "2022-07-25T05:02:18.123111Z",
     "shell.execute_reply": "2022-07-25T05:02:18.120863Z"
    },
    "id": "d6a4e155",
    "papermill": {
     "duration": 11.287124,
     "end_time": "2022-07-25T05:02:18.126478",
     "exception": false,
     "start_time": "2022-07-25T05:02:06.839354",
     "status": "completed"
    },
    "tags": []
   },
   "outputs": [],
   "source": [
    "import ABC_train_test2\n",
    "import energyefficiencyDataset\n",
    "import network\n",
    "import dataset\n",
    "import sanityChecks\n",
    "import torch \n",
    "import scrapbook as sb\n",
    "from statistics import mean \n",
    "import catboost as ctb \n",
    "from sklearn.model_selection import train_test_split\n",
    "from sklearn.metrics import mean_squared_error,mean_absolute_error\n",
    "import numpy as np"
   ]
  },
  {
   "cell_type": "markdown",
   "id": "2fa5b0f7",
   "metadata": {
    "id": "2fa5b0f7",
    "papermill": {
     "duration": 0.013604,
     "end_time": "2022-07-25T05:02:18.149263",
     "exception": false,
     "start_time": "2022-07-25T05:02:18.135659",
     "status": "completed"
    },
    "tags": []
   },
   "source": [
    "## Parameters "
   ]
  },
  {
   "cell_type": "code",
   "execution_count": 3,
   "id": "783186fb",
   "metadata": {
    "execution": {
     "iopub.execute_input": "2022-07-25T05:02:18.184544Z",
     "iopub.status.busy": "2022-07-25T05:02:18.183629Z",
     "iopub.status.idle": "2022-07-25T05:02:18.189231Z",
     "shell.execute_reply": "2022-07-25T05:02:18.188060Z"
    },
    "id": "783186fb",
    "papermill": {
     "duration": 0.020395,
     "end_time": "2022-07-25T05:02:18.193230",
     "exception": false,
     "start_time": "2022-07-25T05:02:18.172835",
     "status": "completed"
    },
    "tags": [
     "parameters"
    ]
   },
   "outputs": [],
   "source": [
    "variance = 1\n",
    "bias = 1 "
   ]
  },
  {
   "cell_type": "code",
   "execution_count": 4,
   "id": "3dce4dc0",
   "metadata": {
    "execution": {
     "iopub.execute_input": "2022-07-25T05:02:18.211667Z",
     "iopub.status.busy": "2022-07-25T05:02:18.209916Z",
     "iopub.status.idle": "2022-07-25T05:02:18.216715Z",
     "shell.execute_reply": "2022-07-25T05:02:18.215916Z"
    },
    "papermill": {
     "duration": 0.019065,
     "end_time": "2022-07-25T05:02:18.219775",
     "exception": false,
     "start_time": "2022-07-25T05:02:18.200710",
     "status": "completed"
    },
    "tags": [
     "injected-parameters"
    ]
   },
   "outputs": [],
   "source": [
    "# Parameters\n",
    "variance = 1\n",
    "bias = 0.01\n"
   ]
  },
  {
   "cell_type": "markdown",
   "id": "391cdbfd",
   "metadata": {
    "id": "391cdbfd",
    "papermill": {
     "duration": 0.007568,
     "end_time": "2022-07-25T05:02:18.234471",
     "exception": false,
     "start_time": "2022-07-25T05:02:18.226903",
     "status": "completed"
    },
    "tags": []
   },
   "source": [
    "## Dataset \n"
   ]
  },
  {
   "cell_type": "code",
   "execution_count": 5,
   "id": "5b51f161",
   "metadata": {
    "execution": {
     "iopub.execute_input": "2022-07-25T05:02:18.258344Z",
     "iopub.status.busy": "2022-07-25T05:02:18.257703Z",
     "iopub.status.idle": "2022-07-25T05:02:18.263654Z",
     "shell.execute_reply": "2022-07-25T05:02:18.262604Z"
    },
    "id": "5b51f161",
    "papermill": {
     "duration": 0.023354,
     "end_time": "2022-07-25T05:02:18.268010",
     "exception": false,
     "start_time": "2022-07-25T05:02:18.244656",
     "status": "completed"
    },
    "tags": []
   },
   "outputs": [],
   "source": [
    "#Parameters \n",
    "n_features = 8\n",
    "n_samples= 768\n",
    "n_target = 1 "
   ]
  },
  {
   "cell_type": "code",
   "execution_count": 6,
   "id": "5d6eced4",
   "metadata": {
    "execution": {
     "iopub.execute_input": "2022-07-25T05:02:18.286552Z",
     "iopub.status.busy": "2022-07-25T05:02:18.286119Z",
     "iopub.status.idle": "2022-07-25T05:02:19.418807Z",
     "shell.execute_reply": "2022-07-25T05:02:19.415933Z"
    },
    "id": "5d6eced4",
    "papermill": {
     "duration": 1.153703,
     "end_time": "2022-07-25T05:02:19.430296",
     "exception": false,
     "start_time": "2022-07-25T05:02:18.276593",
     "status": "completed"
    },
    "tags": []
   },
   "outputs": [
    {
     "name": "stdout",
     "output_type": "stream",
     "text": [
      "     X1     X2     X3      X4   X5  X6   X7  X8     Y1     Y2\n",
      "0  0.98  514.5  294.0  110.25  7.0   2  0.0   0  15.55  21.33\n",
      "1  0.98  514.5  294.0  110.25  7.0   3  0.0   0  15.55  21.33\n",
      "2  0.98  514.5  294.0  110.25  7.0   4  0.0   0  15.55  21.33\n",
      "3  0.98  514.5  294.0  110.25  7.0   5  0.0   0  15.55  21.33\n",
      "4  0.90  563.5  318.5  122.50  7.0   2  0.0   0  20.84  28.28\n"
     ]
    }
   ],
   "source": [
    "X,Y = energyefficiencyDataset.energy_data()"
   ]
  },
  {
   "cell_type": "code",
   "execution_count": 7,
   "id": "fe007438",
   "metadata": {
    "execution": {
     "iopub.execute_input": "2022-07-25T05:02:19.466993Z",
     "iopub.status.busy": "2022-07-25T05:02:19.461367Z",
     "iopub.status.idle": "2022-07-25T05:02:19.529049Z",
     "shell.execute_reply": "2022-07-25T05:02:19.524007Z"
    },
    "id": "fe007438",
    "papermill": {
     "duration": 0.089618,
     "end_time": "2022-07-25T05:02:19.533077",
     "exception": false,
     "start_time": "2022-07-25T05:02:19.443459",
     "status": "completed"
    },
    "tags": []
   },
   "outputs": [],
   "source": [
    "#Train test split for dataset \n",
    "X_train,X_test,Y_train,Y_test = train_test_split(X,Y,test_size = 0.2)\n",
    "train_data = dataset.CustomDataset(X_train,Y_train)\n",
    "test_data = dataset.CustomDataset(X_test,Y_test)\n"
   ]
  },
  {
   "cell_type": "markdown",
   "id": "a9a1af34",
   "metadata": {
    "id": "a9a1af34",
    "papermill": {
     "duration": 0.009742,
     "end_time": "2022-07-25T05:02:19.555266",
     "exception": false,
     "start_time": "2022-07-25T05:02:19.545524",
     "status": "completed"
    },
    "tags": []
   },
   "source": [
    "## Training Parameters "
   ]
  },
  {
   "cell_type": "code",
   "execution_count": 8,
   "id": "952b7fc8",
   "metadata": {
    "execution": {
     "iopub.execute_input": "2022-07-25T05:02:19.593184Z",
     "iopub.status.busy": "2022-07-25T05:02:19.590799Z",
     "iopub.status.idle": "2022-07-25T05:02:19.606757Z",
     "shell.execute_reply": "2022-07-25T05:02:19.598900Z"
    },
    "id": "952b7fc8",
    "papermill": {
     "duration": 0.062889,
     "end_time": "2022-07-25T05:02:19.629798",
     "exception": false,
     "start_time": "2022-07-25T05:02:19.566909",
     "status": "completed"
    },
    "tags": []
   },
   "outputs": [],
   "source": [
    "batch_size = 32\n",
    "n_epochs = 1000\n",
    "#Select the device \n",
    "device = torch.device('cuda' if torch.cuda.is_available() else 'cpu')"
   ]
  },
  {
   "cell_type": "markdown",
   "id": "a95e1600",
   "metadata": {
    "id": "a95e1600",
    "papermill": {
     "duration": 0.02453,
     "end_time": "2022-07-25T05:02:19.837148",
     "exception": false,
     "start_time": "2022-07-25T05:02:19.812618",
     "status": "completed"
    },
    "tags": []
   },
   "source": [
    "# ABC Pre-generator Model \n",
    "\n",
    "1. The catboost model is used as a pre-generator model for the ABC-GAN. \n",
    "2. The model is first trained on the entire dataset \n",
    "3. It generats X,Y pairs and we add some Gaussian noise with mean 0 and variance 1 to it which is then feed as input to the generator.\n"
   ]
  },
  {
   "cell_type": "code",
   "execution_count": 9,
   "id": "ff8ce7bd",
   "metadata": {
    "execution": {
     "iopub.execute_input": "2022-07-25T05:02:19.884811Z",
     "iopub.status.busy": "2022-07-25T05:02:19.883762Z",
     "iopub.status.idle": "2022-07-25T05:02:22.227890Z",
     "shell.execute_reply": "2022-07-25T05:02:22.220885Z"
    },
    "id": "ff8ce7bd",
    "papermill": {
     "duration": 2.373606,
     "end_time": "2022-07-25T05:02:22.237008",
     "exception": false,
     "start_time": "2022-07-25T05:02:19.863402",
     "status": "completed"
    },
    "tags": []
   },
   "outputs": [
    {
     "name": "stdout",
     "output_type": "stream",
     "text": [
      "Learning rate set to 0.037906\n",
      "0:\tlearn: 0.9564308\ttotal: 53.6ms\tremaining: 53.5s\n",
      "1:\tlearn: 0.9246280\ttotal: 54.5ms\tremaining: 27.2s\n",
      "2:\tlearn: 0.8939879\ttotal: 55.5ms\tremaining: 18.4s\n",
      "3:\tlearn: 0.8639150\ttotal: 55.9ms\tremaining: 13.9s\n",
      "4:\tlearn: 0.8393750\ttotal: 56.3ms\tremaining: 11.2s\n",
      "5:\tlearn: 0.8116220\ttotal: 56.8ms\tremaining: 9.42s\n",
      "6:\tlearn: 0.7893380\ttotal: 57.3ms\tremaining: 8.13s\n",
      "7:\tlearn: 0.7665817\ttotal: 57.8ms\tremaining: 7.17s\n",
      "8:\tlearn: 0.7410354\ttotal: 58.3ms\tremaining: 6.42s\n",
      "9:\tlearn: 0.7179147\ttotal: 58.6ms\tremaining: 5.8s\n",
      "10:\tlearn: 0.6954700\ttotal: 58.9ms\tremaining: 5.3s\n",
      "11:\tlearn: 0.6726836\ttotal: 59.2ms\tremaining: 4.88s\n",
      "12:\tlearn: 0.6516410\ttotal: 62.2ms\tremaining: 4.72s\n",
      "13:\tlearn: 0.6300704\ttotal: 63.2ms\tremaining: 4.45s\n",
      "14:\tlearn: 0.6120940\ttotal: 64ms\tremaining: 4.2s\n",
      "15:\tlearn: 0.5921502\ttotal: 65.2ms\tremaining: 4.01s\n",
      "16:\tlearn: 0.5738590\ttotal: 65.8ms\tremaining: 3.8s\n",
      "17:\tlearn: 0.5581626\ttotal: 66.1ms\tremaining: 3.6s\n",
      "18:\tlearn: 0.5410519\ttotal: 66.4ms\tremaining: 3.43s\n",
      "19:\tlearn: 0.5239009\ttotal: 66.7ms\tremaining: 3.27s\n",
      "20:\tlearn: 0.5098165\ttotal: 66.9ms\tremaining: 3.12s\n",
      "21:\tlearn: 0.4954853\ttotal: 67.3ms\tremaining: 2.99s\n",
      "22:\tlearn: 0.4839632\ttotal: 67.4ms\tremaining: 2.86s\n",
      "23:\tlearn: 0.4689712\ttotal: 68.3ms\tremaining: 2.78s\n",
      "24:\tlearn: 0.4560122\ttotal: 69.2ms\tremaining: 2.7s\n",
      "25:\tlearn: 0.4435467\ttotal: 69.5ms\tremaining: 2.6s\n",
      "26:\tlearn: 0.4299086\ttotal: 69.9ms\tremaining: 2.52s\n",
      "27:\tlearn: 0.4168963\ttotal: 70.2ms\tremaining: 2.44s\n",
      "28:\tlearn: 0.4047487\ttotal: 70.5ms\tremaining: 2.36s\n",
      "29:\tlearn: 0.3944877\ttotal: 70.8ms\tremaining: 2.29s\n",
      "30:\tlearn: 0.3833143\ttotal: 71ms\tremaining: 2.22s\n",
      "31:\tlearn: 0.3717833\ttotal: 71.3ms\tremaining: 2.16s\n",
      "32:\tlearn: 0.3609887\ttotal: 71.7ms\tremaining: 2.1s\n",
      "33:\tlearn: 0.3507235\ttotal: 72.2ms\tremaining: 2.05s\n",
      "34:\tlearn: 0.3407376\ttotal: 72.6ms\tremaining: 2s\n",
      "35:\tlearn: 0.3311699\ttotal: 73.2ms\tremaining: 1.96s\n",
      "36:\tlearn: 0.3220857\ttotal: 73.6ms\tremaining: 1.92s\n",
      "37:\tlearn: 0.3123543\ttotal: 73.9ms\tremaining: 1.87s\n",
      "38:\tlearn: 0.3033931\ttotal: 74.9ms\tremaining: 1.85s\n",
      "39:\tlearn: 0.2961097\ttotal: 75.9ms\tremaining: 1.82s\n",
      "40:\tlearn: 0.2872475\ttotal: 76.8ms\tremaining: 1.8s\n",
      "41:\tlearn: 0.2798653\ttotal: 78.2ms\tremaining: 1.78s\n",
      "42:\tlearn: 0.2714734\ttotal: 79.5ms\tremaining: 1.77s\n",
      "43:\tlearn: 0.2637191\ttotal: 80.1ms\tremaining: 1.74s\n",
      "44:\tlearn: 0.2567779\ttotal: 80.6ms\tremaining: 1.71s\n",
      "45:\tlearn: 0.2504640\ttotal: 82.8ms\tremaining: 1.72s\n",
      "46:\tlearn: 0.2431694\ttotal: 83.5ms\tremaining: 1.69s\n",
      "47:\tlearn: 0.2374085\ttotal: 84.3ms\tremaining: 1.67s\n",
      "48:\tlearn: 0.2311005\ttotal: 85.3ms\tremaining: 1.66s\n",
      "49:\tlearn: 0.2251939\ttotal: 85.8ms\tremaining: 1.63s\n",
      "50:\tlearn: 0.2191002\ttotal: 86.8ms\tremaining: 1.61s\n",
      "51:\tlearn: 0.2137641\ttotal: 87.4ms\tremaining: 1.59s\n",
      "52:\tlearn: 0.2088807\ttotal: 88ms\tremaining: 1.57s\n",
      "53:\tlearn: 0.2035656\ttotal: 89.1ms\tremaining: 1.56s\n",
      "54:\tlearn: 0.1983423\ttotal: 90.1ms\tremaining: 1.55s\n",
      "55:\tlearn: 0.1930266\ttotal: 91ms\tremaining: 1.53s\n",
      "56:\tlearn: 0.1884519\ttotal: 102ms\tremaining: 1.69s\n",
      "57:\tlearn: 0.1843427\ttotal: 103ms\tremaining: 1.67s\n",
      "58:\tlearn: 0.1796716\ttotal: 103ms\tremaining: 1.64s\n",
      "59:\tlearn: 0.1748219\ttotal: 103ms\tremaining: 1.62s\n",
      "60:\tlearn: 0.1714656\ttotal: 104ms\tremaining: 1.6s\n",
      "61:\tlearn: 0.1680317\ttotal: 105ms\tremaining: 1.59s\n",
      "62:\tlearn: 0.1642509\ttotal: 105ms\tremaining: 1.57s\n",
      "63:\tlearn: 0.1616559\ttotal: 106ms\tremaining: 1.55s\n",
      "64:\tlearn: 0.1579190\ttotal: 109ms\tremaining: 1.57s\n",
      "65:\tlearn: 0.1546940\ttotal: 110ms\tremaining: 1.56s\n",
      "66:\tlearn: 0.1509284\ttotal: 111ms\tremaining: 1.54s\n",
      "67:\tlearn: 0.1476377\ttotal: 113ms\tremaining: 1.54s\n",
      "68:\tlearn: 0.1439876\ttotal: 113ms\tremaining: 1.53s\n",
      "69:\tlearn: 0.1406768\ttotal: 114ms\tremaining: 1.51s\n",
      "70:\tlearn: 0.1377002\ttotal: 115ms\tremaining: 1.5s\n",
      "71:\tlearn: 0.1345228\ttotal: 116ms\tremaining: 1.49s\n",
      "72:\tlearn: 0.1309791\ttotal: 116ms\tremaining: 1.47s\n",
      "73:\tlearn: 0.1285335\ttotal: 116ms\tremaining: 1.46s\n",
      "74:\tlearn: 0.1262069\ttotal: 117ms\tremaining: 1.44s\n",
      "75:\tlearn: 0.1236581\ttotal: 117ms\tremaining: 1.42s\n"
     ]
    },
    {
     "name": "stdout",
     "output_type": "stream",
     "text": [
      "76:\tlearn: 0.1209447\ttotal: 117ms\tremaining: 1.4s\n",
      "77:\tlearn: 0.1181729\ttotal: 117ms\tremaining: 1.39s\n",
      "78:\tlearn: 0.1163859\ttotal: 118ms\tremaining: 1.38s\n",
      "79:\tlearn: 0.1141122\ttotal: 120ms\tremaining: 1.38s\n",
      "80:\tlearn: 0.1115670\ttotal: 121ms\tremaining: 1.38s\n",
      "81:\tlearn: 0.1100770\ttotal: 124ms\tremaining: 1.39s\n",
      "82:\tlearn: 0.1082580\ttotal: 129ms\tremaining: 1.43s\n",
      "83:\tlearn: 0.1062431\ttotal: 133ms\tremaining: 1.45s\n",
      "84:\tlearn: 0.1041054\ttotal: 133ms\tremaining: 1.43s\n",
      "85:\tlearn: 0.1019493\ttotal: 145ms\tremaining: 1.54s\n",
      "86:\tlearn: 0.0999686\ttotal: 145ms\tremaining: 1.52s\n",
      "87:\tlearn: 0.0978519\ttotal: 146ms\tremaining: 1.51s\n",
      "88:\tlearn: 0.0957559\ttotal: 146ms\tremaining: 1.5s\n",
      "89:\tlearn: 0.0937874\ttotal: 147ms\tremaining: 1.48s\n",
      "90:\tlearn: 0.0924039\ttotal: 157ms\tremaining: 1.56s\n",
      "91:\tlearn: 0.0907253\ttotal: 157ms\tremaining: 1.55s\n",
      "92:\tlearn: 0.0891499\ttotal: 157ms\tremaining: 1.53s\n",
      "93:\tlearn: 0.0881040\ttotal: 158ms\tremaining: 1.52s\n",
      "94:\tlearn: 0.0867955\ttotal: 160ms\tremaining: 1.52s\n",
      "95:\tlearn: 0.0855228\ttotal: 161ms\tremaining: 1.51s\n",
      "96:\tlearn: 0.0837047\ttotal: 161ms\tremaining: 1.5s\n",
      "97:\tlearn: 0.0824948\ttotal: 162ms\tremaining: 1.49s\n",
      "98:\tlearn: 0.0810313\ttotal: 162ms\tremaining: 1.48s\n",
      "99:\tlearn: 0.0799947\ttotal: 163ms\tremaining: 1.46s\n",
      "100:\tlearn: 0.0789324\ttotal: 163ms\tremaining: 1.45s\n",
      "101:\tlearn: 0.0776218\ttotal: 167ms\tremaining: 1.47s\n",
      "102:\tlearn: 0.0764586\ttotal: 171ms\tremaining: 1.48s\n",
      "103:\tlearn: 0.0755172\ttotal: 171ms\tremaining: 1.48s\n",
      "104:\tlearn: 0.0745219\ttotal: 172ms\tremaining: 1.47s\n",
      "105:\tlearn: 0.0734556\ttotal: 173ms\tremaining: 1.46s\n",
      "106:\tlearn: 0.0723328\ttotal: 175ms\tremaining: 1.46s\n",
      "107:\tlearn: 0.0714023\ttotal: 179ms\tremaining: 1.48s\n",
      "108:\tlearn: 0.0704164\ttotal: 199ms\tremaining: 1.62s\n",
      "109:\tlearn: 0.0694076\ttotal: 200ms\tremaining: 1.61s\n",
      "110:\tlearn: 0.0686012\ttotal: 202ms\tremaining: 1.62s\n",
      "111:\tlearn: 0.0675300\ttotal: 205ms\tremaining: 1.62s\n",
      "112:\tlearn: 0.0668837\ttotal: 206ms\tremaining: 1.62s\n",
      "113:\tlearn: 0.0661371\ttotal: 209ms\tremaining: 1.62s\n",
      "114:\tlearn: 0.0651022\ttotal: 209ms\tremaining: 1.61s\n",
      "115:\tlearn: 0.0641796\ttotal: 210ms\tremaining: 1.6s\n",
      "116:\tlearn: 0.0633656\ttotal: 213ms\tremaining: 1.61s\n",
      "117:\tlearn: 0.0625310\ttotal: 215ms\tremaining: 1.6s\n",
      "118:\tlearn: 0.0618689\ttotal: 216ms\tremaining: 1.6s\n",
      "119:\tlearn: 0.0614771\ttotal: 217ms\tremaining: 1.59s\n",
      "120:\tlearn: 0.0607729\ttotal: 219ms\tremaining: 1.59s\n",
      "121:\tlearn: 0.0602513\ttotal: 219ms\tremaining: 1.57s\n",
      "122:\tlearn: 0.0595678\ttotal: 219ms\tremaining: 1.56s\n",
      "123:\tlearn: 0.0589779\ttotal: 222ms\tremaining: 1.57s\n",
      "124:\tlearn: 0.0587814\ttotal: 222ms\tremaining: 1.55s\n",
      "125:\tlearn: 0.0584144\ttotal: 225ms\tremaining: 1.56s\n",
      "126:\tlearn: 0.0580547\ttotal: 227ms\tremaining: 1.56s\n"
     ]
    },
    {
     "name": "stdout",
     "output_type": "stream",
     "text": [
      "127:\tlearn: 0.0577746\ttotal: 228ms\tremaining: 1.55s\n",
      "128:\tlearn: 0.0574290\ttotal: 235ms\tremaining: 1.59s\n",
      "129:\tlearn: 0.0568829\ttotal: 236ms\tremaining: 1.58s\n",
      "130:\tlearn: 0.0564939\ttotal: 238ms\tremaining: 1.58s\n",
      "131:\tlearn: 0.0559595\ttotal: 263ms\tremaining: 1.73s\n",
      "132:\tlearn: 0.0556293\ttotal: 266ms\tremaining: 1.74s\n",
      "133:\tlearn: 0.0551574\ttotal: 268ms\tremaining: 1.73s\n",
      "134:\tlearn: 0.0546588\ttotal: 268ms\tremaining: 1.72s\n",
      "135:\tlearn: 0.0543462\ttotal: 269ms\tremaining: 1.71s\n",
      "136:\tlearn: 0.0538367\ttotal: 270ms\tremaining: 1.7s\n",
      "137:\tlearn: 0.0535090\ttotal: 270ms\tremaining: 1.69s\n",
      "138:\tlearn: 0.0530609\ttotal: 274ms\tremaining: 1.7s\n",
      "139:\tlearn: 0.0525877\ttotal: 275ms\tremaining: 1.69s\n",
      "140:\tlearn: 0.0522394\ttotal: 276ms\tremaining: 1.68s\n",
      "141:\tlearn: 0.0518684\ttotal: 277ms\tremaining: 1.67s\n",
      "142:\tlearn: 0.0516379\ttotal: 277ms\tremaining: 1.66s\n",
      "143:\tlearn: 0.0514284\ttotal: 278ms\tremaining: 1.65s\n",
      "144:\tlearn: 0.0512044\ttotal: 278ms\tremaining: 1.64s\n",
      "145:\tlearn: 0.0509743\ttotal: 280ms\tremaining: 1.64s\n",
      "146:\tlearn: 0.0506592\ttotal: 284ms\tremaining: 1.65s\n",
      "147:\tlearn: 0.0502951\ttotal: 285ms\tremaining: 1.64s\n",
      "148:\tlearn: 0.0501361\ttotal: 285ms\tremaining: 1.63s\n",
      "149:\tlearn: 0.0499609\ttotal: 289ms\tremaining: 1.64s\n",
      "150:\tlearn: 0.0496218\ttotal: 294ms\tremaining: 1.66s\n",
      "151:\tlearn: 0.0494252\ttotal: 298ms\tremaining: 1.66s\n",
      "152:\tlearn: 0.0490720\ttotal: 301ms\tremaining: 1.66s\n",
      "153:\tlearn: 0.0488386\ttotal: 302ms\tremaining: 1.66s\n",
      "154:\tlearn: 0.0485789\ttotal: 303ms\tremaining: 1.65s\n",
      "155:\tlearn: 0.0483739\ttotal: 305ms\tremaining: 1.65s\n",
      "156:\tlearn: 0.0481279\ttotal: 306ms\tremaining: 1.64s\n",
      "157:\tlearn: 0.0478946\ttotal: 306ms\tremaining: 1.63s\n",
      "158:\tlearn: 0.0476744\ttotal: 307ms\tremaining: 1.63s\n",
      "159:\tlearn: 0.0475902\ttotal: 309ms\tremaining: 1.62s\n",
      "160:\tlearn: 0.0473618\ttotal: 310ms\tremaining: 1.61s\n",
      "161:\tlearn: 0.0471534\ttotal: 310ms\tremaining: 1.6s\n",
      "162:\tlearn: 0.0469266\ttotal: 311ms\tremaining: 1.59s\n",
      "163:\tlearn: 0.0467361\ttotal: 311ms\tremaining: 1.58s\n",
      "164:\tlearn: 0.0466046\ttotal: 311ms\tremaining: 1.57s\n",
      "165:\tlearn: 0.0463938\ttotal: 312ms\tremaining: 1.56s\n",
      "166:\tlearn: 0.0461977\ttotal: 312ms\tremaining: 1.55s\n",
      "167:\tlearn: 0.0459584\ttotal: 319ms\tremaining: 1.58s\n",
      "168:\tlearn: 0.0457975\ttotal: 321ms\tremaining: 1.58s\n",
      "169:\tlearn: 0.0456627\ttotal: 322ms\tremaining: 1.57s\n",
      "170:\tlearn: 0.0455225\ttotal: 324ms\tremaining: 1.57s\n",
      "171:\tlearn: 0.0453307\ttotal: 325ms\tremaining: 1.57s\n",
      "172:\tlearn: 0.0451227\ttotal: 326ms\tremaining: 1.56s\n",
      "173:\tlearn: 0.0449852\ttotal: 365ms\tremaining: 1.73s\n"
     ]
    },
    {
     "name": "stdout",
     "output_type": "stream",
     "text": [
      "174:\tlearn: 0.0448622\ttotal: 390ms\tremaining: 1.84s\n",
      "175:\tlearn: 0.0447354\ttotal: 394ms\tremaining: 1.84s\n",
      "176:\tlearn: 0.0446048\ttotal: 397ms\tremaining: 1.85s\n",
      "177:\tlearn: 0.0444674\ttotal: 398ms\tremaining: 1.84s\n",
      "178:\tlearn: 0.0442685\ttotal: 399ms\tremaining: 1.83s\n",
      "179:\tlearn: 0.0441054\ttotal: 402ms\tremaining: 1.83s\n",
      "180:\tlearn: 0.0439594\ttotal: 405ms\tremaining: 1.83s\n",
      "181:\tlearn: 0.0438358\ttotal: 406ms\tremaining: 1.82s\n",
      "182:\tlearn: 0.0436855\ttotal: 407ms\tremaining: 1.81s\n",
      "183:\tlearn: 0.0434986\ttotal: 407ms\tremaining: 1.8s\n",
      "184:\tlearn: 0.0433467\ttotal: 408ms\tremaining: 1.79s\n",
      "185:\tlearn: 0.0432342\ttotal: 409ms\tremaining: 1.79s\n",
      "186:\tlearn: 0.0431022\ttotal: 409ms\tremaining: 1.78s\n",
      "187:\tlearn: 0.0430247\ttotal: 410ms\tremaining: 1.77s\n",
      "188:\tlearn: 0.0429388\ttotal: 410ms\tremaining: 1.76s\n",
      "189:\tlearn: 0.0428116\ttotal: 411ms\tremaining: 1.75s\n",
      "190:\tlearn: 0.0426884\ttotal: 415ms\tremaining: 1.76s\n",
      "191:\tlearn: 0.0425186\ttotal: 419ms\tremaining: 1.76s\n",
      "192:\tlearn: 0.0423955\ttotal: 420ms\tremaining: 1.75s\n",
      "193:\tlearn: 0.0422532\ttotal: 422ms\tremaining: 1.75s\n",
      "194:\tlearn: 0.0421569\ttotal: 423ms\tremaining: 1.75s\n",
      "195:\tlearn: 0.0420635\ttotal: 426ms\tremaining: 1.75s\n",
      "196:\tlearn: 0.0419407\ttotal: 426ms\tremaining: 1.74s\n",
      "197:\tlearn: 0.0418588\ttotal: 427ms\tremaining: 1.73s\n",
      "198:\tlearn: 0.0417354\ttotal: 429ms\tremaining: 1.72s\n",
      "199:\tlearn: 0.0415900\ttotal: 430ms\tremaining: 1.72s\n",
      "200:\tlearn: 0.0413313\ttotal: 432ms\tremaining: 1.72s\n",
      "201:\tlearn: 0.0412179\ttotal: 432ms\tremaining: 1.71s\n",
      "202:\tlearn: 0.0410976\ttotal: 434ms\tremaining: 1.7s\n",
      "203:\tlearn: 0.0409359\ttotal: 434ms\tremaining: 1.7s\n",
      "204:\tlearn: 0.0408335\ttotal: 435ms\tremaining: 1.69s\n",
      "205:\tlearn: 0.0407648\ttotal: 436ms\tremaining: 1.68s\n",
      "206:\tlearn: 0.0406816\ttotal: 437ms\tremaining: 1.67s\n",
      "207:\tlearn: 0.0405490\ttotal: 438ms\tremaining: 1.67s\n",
      "208:\tlearn: 0.0404318\ttotal: 439ms\tremaining: 1.66s\n",
      "209:\tlearn: 0.0401598\ttotal: 439ms\tremaining: 1.65s\n",
      "210:\tlearn: 0.0400838\ttotal: 440ms\tremaining: 1.64s\n",
      "211:\tlearn: 0.0399481\ttotal: 440ms\tremaining: 1.64s\n",
      "212:\tlearn: 0.0398566\ttotal: 441ms\tremaining: 1.63s\n",
      "213:\tlearn: 0.0397761\ttotal: 441ms\tremaining: 1.62s\n",
      "214:\tlearn: 0.0395122\ttotal: 441ms\tremaining: 1.61s\n",
      "215:\tlearn: 0.0394302\ttotal: 446ms\tremaining: 1.62s\n",
      "216:\tlearn: 0.0393596\ttotal: 447ms\tremaining: 1.61s\n",
      "217:\tlearn: 0.0392276\ttotal: 447ms\tremaining: 1.6s\n",
      "218:\tlearn: 0.0391219\ttotal: 447ms\tremaining: 1.59s\n",
      "219:\tlearn: 0.0390591\ttotal: 448ms\tremaining: 1.59s\n",
      "220:\tlearn: 0.0389233\ttotal: 448ms\tremaining: 1.58s\n",
      "221:\tlearn: 0.0388051\ttotal: 450ms\tremaining: 1.58s\n",
      "222:\tlearn: 0.0387433\ttotal: 452ms\tremaining: 1.58s\n",
      "223:\tlearn: 0.0385046\ttotal: 455ms\tremaining: 1.58s\n",
      "224:\tlearn: 0.0383671\ttotal: 462ms\tremaining: 1.59s\n",
      "225:\tlearn: 0.0382257\ttotal: 464ms\tremaining: 1.59s\n",
      "226:\tlearn: 0.0380639\ttotal: 465ms\tremaining: 1.58s\n",
      "227:\tlearn: 0.0380082\ttotal: 466ms\tremaining: 1.58s\n",
      "228:\tlearn: 0.0379114\ttotal: 466ms\tremaining: 1.57s\n",
      "229:\tlearn: 0.0378076\ttotal: 467ms\tremaining: 1.56s\n",
      "230:\tlearn: 0.0377109\ttotal: 468ms\tremaining: 1.56s\n",
      "231:\tlearn: 0.0375015\ttotal: 469ms\tremaining: 1.55s\n",
      "232:\tlearn: 0.0373621\ttotal: 470ms\tremaining: 1.55s\n",
      "233:\tlearn: 0.0373017\ttotal: 471ms\tremaining: 1.54s\n",
      "234:\tlearn: 0.0372445\ttotal: 472ms\tremaining: 1.54s\n",
      "235:\tlearn: 0.0371530\ttotal: 473ms\tremaining: 1.53s\n",
      "236:\tlearn: 0.0370718\ttotal: 474ms\tremaining: 1.53s\n",
      "237:\tlearn: 0.0369838\ttotal: 475ms\tremaining: 1.52s\n",
      "238:\tlearn: 0.0369308\ttotal: 477ms\tremaining: 1.52s\n",
      "239:\tlearn: 0.0368389\ttotal: 480ms\tremaining: 1.52s\n",
      "240:\tlearn: 0.0365994\ttotal: 482ms\tremaining: 1.52s\n",
      "241:\tlearn: 0.0365638\ttotal: 482ms\tremaining: 1.51s\n",
      "242:\tlearn: 0.0365160\ttotal: 483ms\tremaining: 1.5s\n",
      "243:\tlearn: 0.0363248\ttotal: 486ms\tremaining: 1.51s\n",
      "244:\tlearn: 0.0362799\ttotal: 487ms\tremaining: 1.5s\n",
      "245:\tlearn: 0.0361008\ttotal: 488ms\tremaining: 1.5s\n",
      "246:\tlearn: 0.0360525\ttotal: 489ms\tremaining: 1.49s\n",
      "247:\tlearn: 0.0359145\ttotal: 490ms\tremaining: 1.49s\n",
      "248:\tlearn: 0.0357934\ttotal: 491ms\tremaining: 1.48s\n",
      "249:\tlearn: 0.0357524\ttotal: 492ms\tremaining: 1.48s\n",
      "250:\tlearn: 0.0357123\ttotal: 492ms\tremaining: 1.47s\n",
      "251:\tlearn: 0.0356277\ttotal: 494ms\tremaining: 1.47s\n",
      "252:\tlearn: 0.0354747\ttotal: 495ms\tremaining: 1.46s\n",
      "253:\tlearn: 0.0353077\ttotal: 496ms\tremaining: 1.46s\n",
      "254:\tlearn: 0.0351831\ttotal: 497ms\tremaining: 1.45s\n",
      "255:\tlearn: 0.0350776\ttotal: 497ms\tremaining: 1.45s\n",
      "256:\tlearn: 0.0349973\ttotal: 498ms\tremaining: 1.44s\n",
      "257:\tlearn: 0.0349103\ttotal: 499ms\tremaining: 1.44s\n",
      "258:\tlearn: 0.0348047\ttotal: 500ms\tremaining: 1.43s\n",
      "259:\tlearn: 0.0347210\ttotal: 501ms\tremaining: 1.43s\n",
      "260:\tlearn: 0.0346329\ttotal: 502ms\tremaining: 1.42s\n",
      "261:\tlearn: 0.0344486\ttotal: 503ms\tremaining: 1.42s\n",
      "262:\tlearn: 0.0343066\ttotal: 504ms\tremaining: 1.41s\n",
      "263:\tlearn: 0.0341732\ttotal: 505ms\tremaining: 1.41s\n",
      "264:\tlearn: 0.0340879\ttotal: 506ms\tremaining: 1.4s\n",
      "265:\tlearn: 0.0339855\ttotal: 507ms\tremaining: 1.4s\n",
      "266:\tlearn: 0.0339103\ttotal: 508ms\tremaining: 1.4s\n",
      "267:\tlearn: 0.0337629\ttotal: 509ms\tremaining: 1.39s\n",
      "268:\tlearn: 0.0336971\ttotal: 511ms\tremaining: 1.39s\n",
      "269:\tlearn: 0.0336328\ttotal: 512ms\tremaining: 1.38s\n",
      "270:\tlearn: 0.0335099\ttotal: 513ms\tremaining: 1.38s\n",
      "271:\tlearn: 0.0334538\ttotal: 514ms\tremaining: 1.38s\n"
     ]
    },
    {
     "name": "stdout",
     "output_type": "stream",
     "text": [
      "272:\tlearn: 0.0334067\ttotal: 517ms\tremaining: 1.38s\n",
      "273:\tlearn: 0.0333303\ttotal: 520ms\tremaining: 1.38s\n",
      "274:\tlearn: 0.0332931\ttotal: 523ms\tremaining: 1.38s\n",
      "275:\tlearn: 0.0332388\ttotal: 525ms\tremaining: 1.38s\n",
      "276:\tlearn: 0.0331701\ttotal: 526ms\tremaining: 1.37s\n",
      "277:\tlearn: 0.0331309\ttotal: 527ms\tremaining: 1.37s\n",
      "278:\tlearn: 0.0330674\ttotal: 529ms\tremaining: 1.37s\n",
      "279:\tlearn: 0.0329621\ttotal: 530ms\tremaining: 1.36s\n",
      "280:\tlearn: 0.0329126\ttotal: 531ms\tremaining: 1.36s\n",
      "281:\tlearn: 0.0328396\ttotal: 532ms\tremaining: 1.35s\n",
      "282:\tlearn: 0.0328151\ttotal: 533ms\tremaining: 1.35s\n",
      "283:\tlearn: 0.0327558\ttotal: 534ms\tremaining: 1.34s\n",
      "284:\tlearn: 0.0326640\ttotal: 535ms\tremaining: 1.34s\n",
      "285:\tlearn: 0.0325485\ttotal: 536ms\tremaining: 1.34s\n",
      "286:\tlearn: 0.0325132\ttotal: 537ms\tremaining: 1.33s\n",
      "287:\tlearn: 0.0324330\ttotal: 539ms\tremaining: 1.33s\n",
      "288:\tlearn: 0.0323687\ttotal: 543ms\tremaining: 1.33s\n",
      "289:\tlearn: 0.0322420\ttotal: 543ms\tremaining: 1.33s\n",
      "290:\tlearn: 0.0322232\ttotal: 544ms\tremaining: 1.33s\n",
      "291:\tlearn: 0.0321945\ttotal: 547ms\tremaining: 1.32s\n",
      "292:\tlearn: 0.0321745\ttotal: 548ms\tremaining: 1.32s\n",
      "293:\tlearn: 0.0321303\ttotal: 549ms\tremaining: 1.32s\n",
      "294:\tlearn: 0.0320698\ttotal: 549ms\tremaining: 1.31s\n",
      "295:\tlearn: 0.0320212\ttotal: 549ms\tremaining: 1.31s\n",
      "296:\tlearn: 0.0319675\ttotal: 550ms\tremaining: 1.3s\n",
      "297:\tlearn: 0.0318438\ttotal: 550ms\tremaining: 1.29s\n",
      "298:\tlearn: 0.0317015\ttotal: 553ms\tremaining: 1.3s\n",
      "299:\tlearn: 0.0316198\ttotal: 555ms\tremaining: 1.29s\n",
      "300:\tlearn: 0.0315373\ttotal: 556ms\tremaining: 1.29s\n",
      "301:\tlearn: 0.0314883\ttotal: 557ms\tremaining: 1.29s\n",
      "302:\tlearn: 0.0313983\ttotal: 558ms\tremaining: 1.28s\n",
      "303:\tlearn: 0.0313515\ttotal: 559ms\tremaining: 1.28s\n",
      "304:\tlearn: 0.0312730\ttotal: 560ms\tremaining: 1.27s\n",
      "305:\tlearn: 0.0311815\ttotal: 561ms\tremaining: 1.27s\n",
      "306:\tlearn: 0.0311403\ttotal: 563ms\tremaining: 1.27s\n",
      "307:\tlearn: 0.0311228\ttotal: 564ms\tremaining: 1.27s\n",
      "308:\tlearn: 0.0310380\ttotal: 566ms\tremaining: 1.27s\n",
      "309:\tlearn: 0.0309969\ttotal: 568ms\tremaining: 1.26s\n",
      "310:\tlearn: 0.0309398\ttotal: 568ms\tremaining: 1.26s\n",
      "311:\tlearn: 0.0308295\ttotal: 570ms\tremaining: 1.26s\n",
      "312:\tlearn: 0.0307432\ttotal: 570ms\tremaining: 1.25s\n",
      "313:\tlearn: 0.0306448\ttotal: 571ms\tremaining: 1.25s\n",
      "314:\tlearn: 0.0305862\ttotal: 572ms\tremaining: 1.24s\n",
      "315:\tlearn: 0.0304867\ttotal: 581ms\tremaining: 1.26s\n",
      "316:\tlearn: 0.0304313\ttotal: 583ms\tremaining: 1.25s\n",
      "317:\tlearn: 0.0303780\ttotal: 583ms\tremaining: 1.25s\n",
      "318:\tlearn: 0.0303341\ttotal: 585ms\tremaining: 1.25s\n",
      "319:\tlearn: 0.0302634\ttotal: 588ms\tremaining: 1.25s\n",
      "320:\tlearn: 0.0302389\ttotal: 592ms\tremaining: 1.25s\n",
      "321:\tlearn: 0.0301920\ttotal: 593ms\tremaining: 1.25s\n"
     ]
    },
    {
     "name": "stdout",
     "output_type": "stream",
     "text": [
      "322:\tlearn: 0.0300977\ttotal: 604ms\tremaining: 1.26s\n",
      "323:\tlearn: 0.0300448\ttotal: 607ms\tremaining: 1.27s\n",
      "324:\tlearn: 0.0299773\ttotal: 610ms\tremaining: 1.27s\n",
      "325:\tlearn: 0.0299326\ttotal: 613ms\tremaining: 1.27s\n",
      "326:\tlearn: 0.0298743\ttotal: 614ms\tremaining: 1.26s\n",
      "327:\tlearn: 0.0298514\ttotal: 614ms\tremaining: 1.26s\n",
      "328:\tlearn: 0.0298078\ttotal: 616ms\tremaining: 1.25s\n",
      "329:\tlearn: 0.0297594\ttotal: 616ms\tremaining: 1.25s\n",
      "330:\tlearn: 0.0296807\ttotal: 617ms\tremaining: 1.25s\n",
      "331:\tlearn: 0.0296333\ttotal: 617ms\tremaining: 1.24s\n",
      "332:\tlearn: 0.0295702\ttotal: 617ms\tremaining: 1.24s\n",
      "333:\tlearn: 0.0295102\ttotal: 619ms\tremaining: 1.23s\n",
      "334:\tlearn: 0.0294633\ttotal: 620ms\tremaining: 1.23s\n",
      "335:\tlearn: 0.0293582\ttotal: 620ms\tremaining: 1.23s\n",
      "336:\tlearn: 0.0293347\ttotal: 620ms\tremaining: 1.22s\n",
      "337:\tlearn: 0.0292937\ttotal: 621ms\tremaining: 1.22s\n",
      "338:\tlearn: 0.0292664\ttotal: 621ms\tremaining: 1.21s\n",
      "339:\tlearn: 0.0292099\ttotal: 623ms\tremaining: 1.21s\n",
      "340:\tlearn: 0.0291558\ttotal: 627ms\tremaining: 1.21s\n",
      "341:\tlearn: 0.0291208\ttotal: 628ms\tremaining: 1.21s\n",
      "342:\tlearn: 0.0290820\ttotal: 628ms\tremaining: 1.2s\n",
      "343:\tlearn: 0.0290347\ttotal: 629ms\tremaining: 1.2s\n",
      "344:\tlearn: 0.0289283\ttotal: 630ms\tremaining: 1.2s\n",
      "345:\tlearn: 0.0288862\ttotal: 631ms\tremaining: 1.19s\n",
      "346:\tlearn: 0.0288446\ttotal: 632ms\tremaining: 1.19s\n",
      "347:\tlearn: 0.0287684\ttotal: 633ms\tremaining: 1.19s\n",
      "348:\tlearn: 0.0287269\ttotal: 634ms\tremaining: 1.18s\n",
      "349:\tlearn: 0.0286886\ttotal: 637ms\tremaining: 1.18s\n",
      "350:\tlearn: 0.0286066\ttotal: 638ms\tremaining: 1.18s\n",
      "351:\tlearn: 0.0285252\ttotal: 640ms\tremaining: 1.18s\n",
      "352:\tlearn: 0.0284877\ttotal: 640ms\tremaining: 1.17s\n",
      "353:\tlearn: 0.0284476\ttotal: 640ms\tremaining: 1.17s\n",
      "354:\tlearn: 0.0284172\ttotal: 642ms\tremaining: 1.17s\n",
      "355:\tlearn: 0.0283815\ttotal: 643ms\tremaining: 1.16s\n",
      "356:\tlearn: 0.0283355\ttotal: 645ms\tremaining: 1.16s\n",
      "357:\tlearn: 0.0282827\ttotal: 646ms\tremaining: 1.16s\n",
      "358:\tlearn: 0.0281955\ttotal: 646ms\tremaining: 1.15s\n",
      "359:\tlearn: 0.0281235\ttotal: 647ms\tremaining: 1.15s\n",
      "360:\tlearn: 0.0280734\ttotal: 647ms\tremaining: 1.15s\n",
      "361:\tlearn: 0.0280248\ttotal: 648ms\tremaining: 1.14s\n",
      "362:\tlearn: 0.0280137\ttotal: 648ms\tremaining: 1.14s\n",
      "363:\tlearn: 0.0279602\ttotal: 649ms\tremaining: 1.13s\n",
      "364:\tlearn: 0.0279140\ttotal: 649ms\tremaining: 1.13s\n",
      "365:\tlearn: 0.0278785\ttotal: 649ms\tremaining: 1.12s\n",
      "366:\tlearn: 0.0278366\ttotal: 649ms\tremaining: 1.12s\n",
      "367:\tlearn: 0.0278164\ttotal: 650ms\tremaining: 1.11s\n",
      "368:\tlearn: 0.0277971\ttotal: 650ms\tremaining: 1.11s\n",
      "369:\tlearn: 0.0277636\ttotal: 651ms\tremaining: 1.11s\n",
      "370:\tlearn: 0.0277263\ttotal: 652ms\tremaining: 1.1s\n",
      "371:\tlearn: 0.0276907\ttotal: 658ms\tremaining: 1.11s\n",
      "372:\tlearn: 0.0276588\ttotal: 658ms\tremaining: 1.11s\n",
      "373:\tlearn: 0.0275646\ttotal: 658ms\tremaining: 1.1s\n",
      "374:\tlearn: 0.0274693\ttotal: 659ms\tremaining: 1.1s\n",
      "375:\tlearn: 0.0274470\ttotal: 659ms\tremaining: 1.09s\n",
      "376:\tlearn: 0.0274206\ttotal: 659ms\tremaining: 1.09s\n",
      "377:\tlearn: 0.0273782\ttotal: 659ms\tremaining: 1.08s\n",
      "378:\tlearn: 0.0273385\ttotal: 660ms\tremaining: 1.08s\n",
      "379:\tlearn: 0.0272941\ttotal: 662ms\tremaining: 1.08s\n",
      "380:\tlearn: 0.0272060\ttotal: 662ms\tremaining: 1.07s\n",
      "381:\tlearn: 0.0271541\ttotal: 662ms\tremaining: 1.07s\n",
      "382:\tlearn: 0.0271096\ttotal: 663ms\tremaining: 1.07s\n",
      "383:\tlearn: 0.0270714\ttotal: 663ms\tremaining: 1.06s\n",
      "384:\tlearn: 0.0269890\ttotal: 665ms\tremaining: 1.06s\n",
      "385:\tlearn: 0.0269527\ttotal: 666ms\tremaining: 1.06s\n",
      "386:\tlearn: 0.0269075\ttotal: 668ms\tremaining: 1.06s\n",
      "387:\tlearn: 0.0268692\ttotal: 669ms\tremaining: 1.05s\n",
      "388:\tlearn: 0.0268072\ttotal: 670ms\tremaining: 1.05s\n",
      "389:\tlearn: 0.0267862\ttotal: 670ms\tremaining: 1.05s\n",
      "390:\tlearn: 0.0267668\ttotal: 671ms\tremaining: 1.04s\n",
      "391:\tlearn: 0.0267366\ttotal: 672ms\tremaining: 1.04s\n",
      "392:\tlearn: 0.0267053\ttotal: 672ms\tremaining: 1.04s\n",
      "393:\tlearn: 0.0266872\ttotal: 674ms\tremaining: 1.04s\n",
      "394:\tlearn: 0.0266087\ttotal: 675ms\tremaining: 1.03s\n",
      "395:\tlearn: 0.0265745\ttotal: 675ms\tremaining: 1.03s\n",
      "396:\tlearn: 0.0265419\ttotal: 675ms\tremaining: 1.02s\n",
      "397:\tlearn: 0.0265113\ttotal: 676ms\tremaining: 1.02s\n",
      "398:\tlearn: 0.0264709\ttotal: 677ms\tremaining: 1.02s\n",
      "399:\tlearn: 0.0263864\ttotal: 677ms\tremaining: 1.01s\n",
      "400:\tlearn: 0.0263474\ttotal: 681ms\tremaining: 1.02s\n",
      "401:\tlearn: 0.0262718\ttotal: 682ms\tremaining: 1.01s\n",
      "402:\tlearn: 0.0262540\ttotal: 689ms\tremaining: 1.02s\n",
      "403:\tlearn: 0.0261829\ttotal: 692ms\tremaining: 1.02s\n",
      "404:\tlearn: 0.0261452\ttotal: 701ms\tremaining: 1.03s\n",
      "405:\tlearn: 0.0260829\ttotal: 702ms\tremaining: 1.03s\n",
      "406:\tlearn: 0.0260238\ttotal: 703ms\tremaining: 1.02s\n",
      "407:\tlearn: 0.0259978\ttotal: 703ms\tremaining: 1.02s\n",
      "408:\tlearn: 0.0259352\ttotal: 705ms\tremaining: 1.02s\n",
      "409:\tlearn: 0.0259112\ttotal: 705ms\tremaining: 1.01s\n",
      "410:\tlearn: 0.0258857\ttotal: 706ms\tremaining: 1.01s\n",
      "411:\tlearn: 0.0258191\ttotal: 707ms\tremaining: 1.01s\n",
      "412:\tlearn: 0.0257826\ttotal: 708ms\tremaining: 1.01s\n",
      "413:\tlearn: 0.0257496\ttotal: 709ms\tremaining: 1s\n",
      "414:\tlearn: 0.0256930\ttotal: 710ms\tremaining: 1s\n",
      "415:\tlearn: 0.0256544\ttotal: 710ms\tremaining: 997ms\n",
      "416:\tlearn: 0.0255977\ttotal: 711ms\tremaining: 994ms\n",
      "417:\tlearn: 0.0255815\ttotal: 713ms\tremaining: 993ms\n",
      "418:\tlearn: 0.0255455\ttotal: 715ms\tremaining: 991ms\n",
      "419:\tlearn: 0.0255271\ttotal: 715ms\tremaining: 988ms\n",
      "420:\tlearn: 0.0254931\ttotal: 717ms\tremaining: 985ms\n",
      "421:\tlearn: 0.0254471\ttotal: 717ms\tremaining: 983ms\n",
      "422:\tlearn: 0.0253894\ttotal: 718ms\tremaining: 979ms\n",
      "423:\tlearn: 0.0253418\ttotal: 720ms\tremaining: 979ms\n",
      "424:\tlearn: 0.0253117\ttotal: 721ms\tremaining: 975ms\n",
      "425:\tlearn: 0.0252686\ttotal: 722ms\tremaining: 972ms\n",
      "426:\tlearn: 0.0252139\ttotal: 722ms\tremaining: 969ms\n",
      "427:\tlearn: 0.0252049\ttotal: 723ms\tremaining: 966ms\n",
      "428:\tlearn: 0.0251466\ttotal: 724ms\tremaining: 964ms\n",
      "429:\tlearn: 0.0251223\ttotal: 725ms\tremaining: 961ms\n",
      "430:\tlearn: 0.0250903\ttotal: 725ms\tremaining: 958ms\n",
      "431:\tlearn: 0.0250669\ttotal: 726ms\tremaining: 955ms\n",
      "432:\tlearn: 0.0250327\ttotal: 727ms\tremaining: 952ms\n",
      "433:\tlearn: 0.0250149\ttotal: 727ms\tremaining: 948ms\n",
      "434:\tlearn: 0.0249514\ttotal: 728ms\tremaining: 945ms\n",
      "435:\tlearn: 0.0249009\ttotal: 729ms\tremaining: 942ms\n",
      "436:\tlearn: 0.0248780\ttotal: 729ms\tremaining: 939ms\n",
      "437:\tlearn: 0.0248493\ttotal: 730ms\tremaining: 937ms\n",
      "438:\tlearn: 0.0248277\ttotal: 731ms\tremaining: 934ms\n",
      "439:\tlearn: 0.0247830\ttotal: 731ms\tremaining: 931ms\n",
      "440:\tlearn: 0.0247666\ttotal: 732ms\tremaining: 928ms\n",
      "441:\tlearn: 0.0247132\ttotal: 732ms\tremaining: 925ms\n",
      "442:\tlearn: 0.0246958\ttotal: 733ms\tremaining: 921ms\n",
      "443:\tlearn: 0.0246805\ttotal: 734ms\tremaining: 919ms\n",
      "444:\tlearn: 0.0245906\ttotal: 734ms\tremaining: 916ms\n",
      "445:\tlearn: 0.0245501\ttotal: 735ms\tremaining: 913ms\n",
      "446:\tlearn: 0.0245067\ttotal: 735ms\tremaining: 910ms\n",
      "447:\tlearn: 0.0244573\ttotal: 736ms\tremaining: 907ms\n",
      "448:\tlearn: 0.0243784\ttotal: 737ms\tremaining: 904ms\n",
      "449:\tlearn: 0.0243324\ttotal: 737ms\tremaining: 901ms\n",
      "450:\tlearn: 0.0243069\ttotal: 738ms\tremaining: 898ms\n",
      "451:\tlearn: 0.0242988\ttotal: 738ms\tremaining: 895ms\n",
      "452:\tlearn: 0.0242621\ttotal: 739ms\tremaining: 892ms\n"
     ]
    },
    {
     "name": "stdout",
     "output_type": "stream",
     "text": [
      "453:\tlearn: 0.0242475\ttotal: 741ms\tremaining: 891ms\n",
      "454:\tlearn: 0.0241963\ttotal: 741ms\tremaining: 887ms\n",
      "455:\tlearn: 0.0241538\ttotal: 741ms\tremaining: 884ms\n",
      "456:\tlearn: 0.0241057\ttotal: 742ms\tremaining: 882ms\n",
      "457:\tlearn: 0.0240598\ttotal: 743ms\tremaining: 879ms\n",
      "458:\tlearn: 0.0240344\ttotal: 744ms\tremaining: 876ms\n",
      "459:\tlearn: 0.0240128\ttotal: 744ms\tremaining: 874ms\n",
      "460:\tlearn: 0.0239861\ttotal: 745ms\tremaining: 871ms\n",
      "461:\tlearn: 0.0239552\ttotal: 745ms\tremaining: 868ms\n",
      "462:\tlearn: 0.0238932\ttotal: 746ms\tremaining: 865ms\n",
      "463:\tlearn: 0.0238560\ttotal: 747ms\tremaining: 863ms\n",
      "464:\tlearn: 0.0238221\ttotal: 748ms\tremaining: 861ms\n",
      "465:\tlearn: 0.0237869\ttotal: 749ms\tremaining: 858ms\n",
      "466:\tlearn: 0.0237626\ttotal: 750ms\tremaining: 855ms\n",
      "467:\tlearn: 0.0236886\ttotal: 750ms\tremaining: 853ms\n",
      "468:\tlearn: 0.0236584\ttotal: 751ms\tremaining: 850ms\n",
      "469:\tlearn: 0.0236342\ttotal: 752ms\tremaining: 848ms\n",
      "470:\tlearn: 0.0235935\ttotal: 753ms\tremaining: 845ms\n",
      "471:\tlearn: 0.0235638\ttotal: 753ms\tremaining: 843ms\n",
      "472:\tlearn: 0.0235250\ttotal: 754ms\tremaining: 840ms\n",
      "473:\tlearn: 0.0234825\ttotal: 755ms\tremaining: 838ms\n",
      "474:\tlearn: 0.0234490\ttotal: 755ms\tremaining: 835ms\n",
      "475:\tlearn: 0.0234184\ttotal: 756ms\tremaining: 832ms\n",
      "476:\tlearn: 0.0233611\ttotal: 757ms\tremaining: 830ms\n",
      "477:\tlearn: 0.0233449\ttotal: 757ms\tremaining: 827ms\n",
      "478:\tlearn: 0.0233313\ttotal: 758ms\tremaining: 824ms\n",
      "479:\tlearn: 0.0233067\ttotal: 758ms\tremaining: 821ms\n",
      "480:\tlearn: 0.0232690\ttotal: 759ms\tremaining: 819ms\n",
      "481:\tlearn: 0.0232387\ttotal: 759ms\tremaining: 816ms\n",
      "482:\tlearn: 0.0231916\ttotal: 760ms\tremaining: 813ms\n",
      "483:\tlearn: 0.0231459\ttotal: 762ms\tremaining: 812ms\n",
      "484:\tlearn: 0.0231043\ttotal: 763ms\tremaining: 811ms\n",
      "485:\tlearn: 0.0230500\ttotal: 764ms\tremaining: 808ms\n",
      "486:\tlearn: 0.0230241\ttotal: 764ms\tremaining: 805ms\n",
      "487:\tlearn: 0.0229906\ttotal: 765ms\tremaining: 803ms\n",
      "488:\tlearn: 0.0229522\ttotal: 766ms\tremaining: 800ms\n",
      "489:\tlearn: 0.0229257\ttotal: 767ms\tremaining: 798ms\n",
      "490:\tlearn: 0.0229053\ttotal: 768ms\tremaining: 796ms\n",
      "491:\tlearn: 0.0228710\ttotal: 768ms\tremaining: 793ms\n",
      "492:\tlearn: 0.0228083\ttotal: 769ms\tremaining: 791ms\n",
      "493:\tlearn: 0.0227878\ttotal: 770ms\tremaining: 788ms\n",
      "494:\tlearn: 0.0227718\ttotal: 772ms\tremaining: 787ms\n",
      "495:\tlearn: 0.0227119\ttotal: 772ms\tremaining: 785ms\n",
      "496:\tlearn: 0.0226932\ttotal: 773ms\tremaining: 782ms\n",
      "497:\tlearn: 0.0226602\ttotal: 774ms\tremaining: 780ms\n",
      "498:\tlearn: 0.0226030\ttotal: 774ms\tremaining: 777ms\n",
      "499:\tlearn: 0.0225414\ttotal: 775ms\tremaining: 775ms\n",
      "500:\tlearn: 0.0224939\ttotal: 775ms\tremaining: 772ms\n",
      "501:\tlearn: 0.0224627\ttotal: 776ms\tremaining: 769ms\n",
      "502:\tlearn: 0.0224478\ttotal: 776ms\tremaining: 767ms\n",
      "503:\tlearn: 0.0224243\ttotal: 776ms\tremaining: 764ms\n",
      "504:\tlearn: 0.0223740\ttotal: 777ms\tremaining: 761ms\n",
      "505:\tlearn: 0.0223347\ttotal: 778ms\tremaining: 759ms\n",
      "506:\tlearn: 0.0223050\ttotal: 779ms\tremaining: 758ms\n",
      "507:\tlearn: 0.0222683\ttotal: 780ms\tremaining: 755ms\n",
      "508:\tlearn: 0.0222313\ttotal: 780ms\tremaining: 752ms\n",
      "509:\tlearn: 0.0222191\ttotal: 781ms\tremaining: 750ms\n",
      "510:\tlearn: 0.0221833\ttotal: 781ms\tremaining: 747ms\n",
      "511:\tlearn: 0.0221517\ttotal: 782ms\tremaining: 745ms\n",
      "512:\tlearn: 0.0221191\ttotal: 782ms\tremaining: 742ms\n",
      "513:\tlearn: 0.0220937\ttotal: 783ms\tremaining: 740ms\n",
      "514:\tlearn: 0.0220878\ttotal: 783ms\tremaining: 737ms\n",
      "515:\tlearn: 0.0220761\ttotal: 783ms\tremaining: 735ms\n",
      "516:\tlearn: 0.0220691\ttotal: 784ms\tremaining: 733ms\n",
      "517:\tlearn: 0.0220318\ttotal: 785ms\tremaining: 730ms\n",
      "518:\tlearn: 0.0219978\ttotal: 786ms\tremaining: 728ms\n",
      "519:\tlearn: 0.0219586\ttotal: 786ms\tremaining: 726ms\n",
      "520:\tlearn: 0.0219478\ttotal: 787ms\tremaining: 723ms\n",
      "521:\tlearn: 0.0219252\ttotal: 787ms\tremaining: 721ms\n",
      "522:\tlearn: 0.0218966\ttotal: 787ms\tremaining: 718ms\n",
      "523:\tlearn: 0.0218871\ttotal: 788ms\tremaining: 716ms\n",
      "524:\tlearn: 0.0218693\ttotal: 789ms\tremaining: 714ms\n",
      "525:\tlearn: 0.0218419\ttotal: 789ms\tremaining: 711ms\n",
      "526:\tlearn: 0.0218108\ttotal: 790ms\tremaining: 709ms\n",
      "527:\tlearn: 0.0217868\ttotal: 790ms\tremaining: 706ms\n",
      "528:\tlearn: 0.0217707\ttotal: 791ms\tremaining: 704ms\n",
      "529:\tlearn: 0.0217529\ttotal: 792ms\tremaining: 702ms\n",
      "530:\tlearn: 0.0217270\ttotal: 792ms\tremaining: 700ms\n",
      "531:\tlearn: 0.0217074\ttotal: 793ms\tremaining: 697ms\n",
      "532:\tlearn: 0.0216511\ttotal: 793ms\tremaining: 695ms\n",
      "533:\tlearn: 0.0216373\ttotal: 794ms\tremaining: 693ms\n",
      "534:\tlearn: 0.0215842\ttotal: 795ms\tremaining: 691ms\n",
      "535:\tlearn: 0.0215330\ttotal: 795ms\tremaining: 689ms\n",
      "536:\tlearn: 0.0215013\ttotal: 796ms\tremaining: 686ms\n",
      "537:\tlearn: 0.0214706\ttotal: 796ms\tremaining: 684ms\n",
      "538:\tlearn: 0.0214408\ttotal: 797ms\tremaining: 681ms\n",
      "539:\tlearn: 0.0214117\ttotal: 797ms\tremaining: 679ms\n",
      "540:\tlearn: 0.0213982\ttotal: 798ms\tremaining: 677ms\n",
      "541:\tlearn: 0.0213699\ttotal: 798ms\tremaining: 674ms\n",
      "542:\tlearn: 0.0213507\ttotal: 799ms\tremaining: 672ms\n",
      "543:\tlearn: 0.0213069\ttotal: 799ms\tremaining: 670ms\n",
      "544:\tlearn: 0.0212772\ttotal: 800ms\tremaining: 668ms\n",
      "545:\tlearn: 0.0212408\ttotal: 801ms\tremaining: 666ms\n",
      "546:\tlearn: 0.0212227\ttotal: 801ms\tremaining: 664ms\n",
      "547:\tlearn: 0.0212144\ttotal: 802ms\tremaining: 661ms\n",
      "548:\tlearn: 0.0211931\ttotal: 803ms\tremaining: 659ms\n",
      "549:\tlearn: 0.0211801\ttotal: 803ms\tremaining: 657ms\n",
      "550:\tlearn: 0.0211609\ttotal: 805ms\tremaining: 656ms\n",
      "551:\tlearn: 0.0211368\ttotal: 806ms\tremaining: 654ms\n",
      "552:\tlearn: 0.0210950\ttotal: 809ms\tremaining: 654ms\n",
      "553:\tlearn: 0.0210484\ttotal: 811ms\tremaining: 653ms\n",
      "554:\tlearn: 0.0210142\ttotal: 813ms\tremaining: 652ms\n",
      "555:\tlearn: 0.0209974\ttotal: 814ms\tremaining: 650ms\n",
      "556:\tlearn: 0.0209708\ttotal: 815ms\tremaining: 648ms\n",
      "557:\tlearn: 0.0209506\ttotal: 815ms\tremaining: 646ms\n",
      "558:\tlearn: 0.0209162\ttotal: 816ms\tremaining: 644ms\n",
      "559:\tlearn: 0.0208940\ttotal: 816ms\tremaining: 641ms\n",
      "560:\tlearn: 0.0208722\ttotal: 817ms\tremaining: 640ms\n",
      "561:\tlearn: 0.0208508\ttotal: 818ms\tremaining: 638ms\n",
      "562:\tlearn: 0.0208222\ttotal: 820ms\tremaining: 636ms\n",
      "563:\tlearn: 0.0208027\ttotal: 822ms\tremaining: 635ms\n",
      "564:\tlearn: 0.0207910\ttotal: 823ms\tremaining: 634ms\n",
      "565:\tlearn: 0.0207649\ttotal: 824ms\tremaining: 632ms\n",
      "566:\tlearn: 0.0207463\ttotal: 825ms\tremaining: 630ms\n",
      "567:\tlearn: 0.0207387\ttotal: 825ms\tremaining: 628ms\n",
      "568:\tlearn: 0.0207086\ttotal: 826ms\tremaining: 626ms\n",
      "569:\tlearn: 0.0206913\ttotal: 827ms\tremaining: 624ms\n",
      "570:\tlearn: 0.0206585\ttotal: 827ms\tremaining: 622ms\n",
      "571:\tlearn: 0.0206318\ttotal: 828ms\tremaining: 620ms\n",
      "572:\tlearn: 0.0206119\ttotal: 829ms\tremaining: 618ms\n",
      "573:\tlearn: 0.0205715\ttotal: 830ms\tremaining: 616ms\n",
      "574:\tlearn: 0.0205417\ttotal: 831ms\tremaining: 614ms\n",
      "575:\tlearn: 0.0205017\ttotal: 833ms\tremaining: 613ms\n",
      "576:\tlearn: 0.0204771\ttotal: 834ms\tremaining: 611ms\n",
      "577:\tlearn: 0.0204512\ttotal: 834ms\tremaining: 609ms\n",
      "578:\tlearn: 0.0204315\ttotal: 835ms\tremaining: 607ms\n",
      "579:\tlearn: 0.0204131\ttotal: 836ms\tremaining: 605ms\n",
      "580:\tlearn: 0.0203830\ttotal: 836ms\tremaining: 603ms\n",
      "581:\tlearn: 0.0203635\ttotal: 837ms\tremaining: 601ms\n",
      "582:\tlearn: 0.0203427\ttotal: 838ms\tremaining: 599ms\n",
      "583:\tlearn: 0.0203260\ttotal: 839ms\tremaining: 598ms\n",
      "584:\tlearn: 0.0203041\ttotal: 840ms\tremaining: 596ms\n",
      "585:\tlearn: 0.0202848\ttotal: 841ms\tremaining: 594ms\n",
      "586:\tlearn: 0.0202574\ttotal: 842ms\tremaining: 592ms\n",
      "587:\tlearn: 0.0202402\ttotal: 842ms\tremaining: 590ms\n",
      "588:\tlearn: 0.0201961\ttotal: 842ms\tremaining: 588ms\n",
      "589:\tlearn: 0.0201768\ttotal: 842ms\tremaining: 585ms\n",
      "590:\tlearn: 0.0201720\ttotal: 843ms\tremaining: 583ms\n",
      "591:\tlearn: 0.0201353\ttotal: 845ms\tremaining: 582ms\n",
      "592:\tlearn: 0.0201068\ttotal: 845ms\tremaining: 580ms\n",
      "593:\tlearn: 0.0200782\ttotal: 847ms\tremaining: 579ms\n",
      "594:\tlearn: 0.0200673\ttotal: 848ms\tremaining: 577ms\n",
      "595:\tlearn: 0.0200601\ttotal: 848ms\tremaining: 575ms\n",
      "596:\tlearn: 0.0200420\ttotal: 849ms\tremaining: 573ms\n",
      "597:\tlearn: 0.0200125\ttotal: 850ms\tremaining: 571ms\n",
      "598:\tlearn: 0.0199716\ttotal: 850ms\tremaining: 569ms\n",
      "599:\tlearn: 0.0199470\ttotal: 851ms\tremaining: 567ms\n",
      "600:\tlearn: 0.0199200\ttotal: 852ms\tremaining: 565ms\n",
      "601:\tlearn: 0.0198900\ttotal: 852ms\tremaining: 564ms\n",
      "602:\tlearn: 0.0198654\ttotal: 853ms\tremaining: 562ms\n",
      "603:\tlearn: 0.0198232\ttotal: 854ms\tremaining: 560ms\n",
      "604:\tlearn: 0.0198065\ttotal: 855ms\tremaining: 558ms\n",
      "605:\tlearn: 0.0197946\ttotal: 856ms\tremaining: 556ms\n",
      "606:\tlearn: 0.0197705\ttotal: 858ms\tremaining: 556ms\n",
      "607:\tlearn: 0.0197599\ttotal: 861ms\tremaining: 555ms\n",
      "608:\tlearn: 0.0197331\ttotal: 861ms\tremaining: 553ms\n",
      "609:\tlearn: 0.0197151\ttotal: 862ms\tremaining: 551ms\n",
      "610:\tlearn: 0.0196961\ttotal: 862ms\tremaining: 549ms\n",
      "611:\tlearn: 0.0196811\ttotal: 863ms\tremaining: 547ms\n",
      "612:\tlearn: 0.0196644\ttotal: 864ms\tremaining: 545ms\n",
      "613:\tlearn: 0.0196493\ttotal: 864ms\tremaining: 543ms\n",
      "614:\tlearn: 0.0196397\ttotal: 865ms\tremaining: 542ms\n",
      "615:\tlearn: 0.0196097\ttotal: 866ms\tremaining: 540ms\n",
      "616:\tlearn: 0.0195807\ttotal: 867ms\tremaining: 538ms\n",
      "617:\tlearn: 0.0195648\ttotal: 867ms\tremaining: 536ms\n",
      "618:\tlearn: 0.0195292\ttotal: 868ms\tremaining: 534ms\n",
      "619:\tlearn: 0.0194992\ttotal: 869ms\tremaining: 532ms\n",
      "620:\tlearn: 0.0194880\ttotal: 872ms\tremaining: 532ms\n",
      "621:\tlearn: 0.0194655\ttotal: 874ms\tremaining: 531ms\n",
      "622:\tlearn: 0.0194462\ttotal: 874ms\tremaining: 529ms\n",
      "623:\tlearn: 0.0194307\ttotal: 875ms\tremaining: 527ms\n",
      "624:\tlearn: 0.0194029\ttotal: 876ms\tremaining: 525ms\n",
      "625:\tlearn: 0.0193778\ttotal: 877ms\tremaining: 524ms\n",
      "626:\tlearn: 0.0193671\ttotal: 877ms\tremaining: 522ms\n",
      "627:\tlearn: 0.0193476\ttotal: 877ms\tremaining: 520ms\n",
      "628:\tlearn: 0.0193272\ttotal: 879ms\tremaining: 518ms\n",
      "629:\tlearn: 0.0193002\ttotal: 879ms\tremaining: 516ms\n",
      "630:\tlearn: 0.0192823\ttotal: 880ms\tremaining: 515ms\n",
      "631:\tlearn: 0.0192785\ttotal: 881ms\tremaining: 513ms\n",
      "632:\tlearn: 0.0192562\ttotal: 882ms\tremaining: 511ms\n",
      "633:\tlearn: 0.0192394\ttotal: 883ms\tremaining: 510ms\n",
      "634:\tlearn: 0.0192333\ttotal: 884ms\tremaining: 508ms\n",
      "635:\tlearn: 0.0191950\ttotal: 885ms\tremaining: 507ms\n",
      "636:\tlearn: 0.0191752\ttotal: 886ms\tremaining: 505ms\n"
     ]
    },
    {
     "name": "stdout",
     "output_type": "stream",
     "text": [
      "637:\tlearn: 0.0191686\ttotal: 887ms\tremaining: 503ms\n",
      "638:\tlearn: 0.0191534\ttotal: 888ms\tremaining: 502ms\n",
      "639:\tlearn: 0.0191372\ttotal: 890ms\tremaining: 501ms\n",
      "640:\tlearn: 0.0191269\ttotal: 891ms\tremaining: 499ms\n",
      "641:\tlearn: 0.0191007\ttotal: 891ms\tremaining: 497ms\n",
      "642:\tlearn: 0.0190790\ttotal: 891ms\tremaining: 495ms\n",
      "643:\tlearn: 0.0190552\ttotal: 894ms\tremaining: 494ms\n",
      "644:\tlearn: 0.0190331\ttotal: 895ms\tremaining: 493ms\n",
      "645:\tlearn: 0.0190144\ttotal: 896ms\tremaining: 491ms\n",
      "646:\tlearn: 0.0189911\ttotal: 897ms\tremaining: 489ms\n",
      "647:\tlearn: 0.0189756\ttotal: 897ms\tremaining: 487ms\n",
      "648:\tlearn: 0.0189646\ttotal: 898ms\tremaining: 486ms\n",
      "649:\tlearn: 0.0189504\ttotal: 898ms\tremaining: 484ms\n",
      "650:\tlearn: 0.0189344\ttotal: 899ms\tremaining: 482ms\n",
      "651:\tlearn: 0.0189192\ttotal: 900ms\tremaining: 480ms\n",
      "652:\tlearn: 0.0189054\ttotal: 901ms\tremaining: 479ms\n",
      "653:\tlearn: 0.0188849\ttotal: 902ms\tremaining: 477ms\n",
      "654:\tlearn: 0.0188672\ttotal: 903ms\tremaining: 475ms\n",
      "655:\tlearn: 0.0188499\ttotal: 903ms\tremaining: 474ms\n",
      "656:\tlearn: 0.0188288\ttotal: 904ms\tremaining: 472ms\n",
      "657:\tlearn: 0.0188129\ttotal: 905ms\tremaining: 470ms\n",
      "658:\tlearn: 0.0187883\ttotal: 906ms\tremaining: 469ms\n",
      "659:\tlearn: 0.0187718\ttotal: 906ms\tremaining: 467ms\n",
      "660:\tlearn: 0.0187473\ttotal: 906ms\tremaining: 465ms\n",
      "661:\tlearn: 0.0187306\ttotal: 907ms\tremaining: 463ms\n",
      "662:\tlearn: 0.0187155\ttotal: 907ms\tremaining: 461ms\n",
      "663:\tlearn: 0.0187028\ttotal: 907ms\tremaining: 459ms\n",
      "664:\tlearn: 0.0186768\ttotal: 908ms\tremaining: 457ms\n",
      "665:\tlearn: 0.0186715\ttotal: 908ms\tremaining: 455ms\n",
      "666:\tlearn: 0.0186523\ttotal: 908ms\tremaining: 454ms\n",
      "667:\tlearn: 0.0186420\ttotal: 909ms\tremaining: 452ms\n",
      "668:\tlearn: 0.0186270\ttotal: 909ms\tremaining: 450ms\n",
      "669:\tlearn: 0.0186218\ttotal: 909ms\tremaining: 448ms\n",
      "670:\tlearn: 0.0185781\ttotal: 910ms\tremaining: 446ms\n",
      "671:\tlearn: 0.0185465\ttotal: 911ms\tremaining: 445ms\n",
      "672:\tlearn: 0.0185262\ttotal: 912ms\tremaining: 443ms\n",
      "673:\tlearn: 0.0184980\ttotal: 912ms\tremaining: 441ms\n",
      "674:\tlearn: 0.0184783\ttotal: 913ms\tremaining: 440ms\n",
      "675:\tlearn: 0.0184605\ttotal: 913ms\tremaining: 438ms\n",
      "676:\tlearn: 0.0184371\ttotal: 914ms\tremaining: 436ms\n",
      "677:\tlearn: 0.0184190\ttotal: 914ms\tremaining: 434ms\n",
      "678:\tlearn: 0.0184037\ttotal: 915ms\tremaining: 432ms\n",
      "679:\tlearn: 0.0183881\ttotal: 915ms\tremaining: 431ms\n",
      "680:\tlearn: 0.0183583\ttotal: 916ms\tremaining: 429ms\n",
      "681:\tlearn: 0.0183311\ttotal: 917ms\tremaining: 427ms\n",
      "682:\tlearn: 0.0183176\ttotal: 917ms\tremaining: 426ms\n",
      "683:\tlearn: 0.0183086\ttotal: 918ms\tremaining: 424ms\n",
      "684:\tlearn: 0.0183034\ttotal: 918ms\tremaining: 422ms\n",
      "685:\tlearn: 0.0182863\ttotal: 919ms\tremaining: 421ms\n",
      "686:\tlearn: 0.0182579\ttotal: 919ms\tremaining: 419ms\n",
      "687:\tlearn: 0.0182483\ttotal: 919ms\tremaining: 417ms\n",
      "688:\tlearn: 0.0182232\ttotal: 920ms\tremaining: 415ms\n",
      "689:\tlearn: 0.0182080\ttotal: 921ms\tremaining: 414ms\n",
      "690:\tlearn: 0.0181988\ttotal: 921ms\tremaining: 412ms\n",
      "691:\tlearn: 0.0181822\ttotal: 921ms\tremaining: 410ms\n",
      "692:\tlearn: 0.0181623\ttotal: 923ms\tremaining: 409ms\n",
      "693:\tlearn: 0.0181434\ttotal: 924ms\tremaining: 408ms\n",
      "694:\tlearn: 0.0181067\ttotal: 925ms\tremaining: 406ms\n",
      "695:\tlearn: 0.0180941\ttotal: 925ms\tremaining: 404ms\n",
      "696:\tlearn: 0.0180807\ttotal: 926ms\tremaining: 403ms\n",
      "697:\tlearn: 0.0180532\ttotal: 926ms\tremaining: 401ms\n",
      "698:\tlearn: 0.0180341\ttotal: 927ms\tremaining: 399ms\n",
      "699:\tlearn: 0.0180083\ttotal: 928ms\tremaining: 398ms\n",
      "700:\tlearn: 0.0179953\ttotal: 930ms\tremaining: 397ms\n",
      "701:\tlearn: 0.0179788\ttotal: 931ms\tremaining: 395ms\n",
      "702:\tlearn: 0.0179469\ttotal: 932ms\tremaining: 394ms\n",
      "703:\tlearn: 0.0179343\ttotal: 933ms\tremaining: 392ms\n",
      "704:\tlearn: 0.0179201\ttotal: 935ms\tremaining: 391ms\n",
      "705:\tlearn: 0.0179117\ttotal: 976ms\tremaining: 406ms\n"
     ]
    },
    {
     "name": "stdout",
     "output_type": "stream",
     "text": [
      "706:\tlearn: 0.0178906\ttotal: 1.09s\tremaining: 451ms\n",
      "707:\tlearn: 0.0178749\ttotal: 1.09s\tremaining: 449ms\n",
      "708:\tlearn: 0.0178613\ttotal: 1.1s\tremaining: 453ms\n",
      "709:\tlearn: 0.0178344\ttotal: 1.1s\tremaining: 451ms\n",
      "710:\tlearn: 0.0178142\ttotal: 1.11s\tremaining: 450ms\n",
      "711:\tlearn: 0.0177874\ttotal: 1.11s\tremaining: 448ms\n",
      "712:\tlearn: 0.0177721\ttotal: 1.11s\tremaining: 446ms\n",
      "713:\tlearn: 0.0177476\ttotal: 1.11s\tremaining: 444ms\n",
      "714:\tlearn: 0.0177320\ttotal: 1.11s\tremaining: 442ms\n",
      "715:\tlearn: 0.0176889\ttotal: 1.11s\tremaining: 441ms\n",
      "716:\tlearn: 0.0176728\ttotal: 1.11s\tremaining: 439ms\n",
      "717:\tlearn: 0.0176563\ttotal: 1.11s\tremaining: 437ms\n",
      "718:\tlearn: 0.0176484\ttotal: 1.11s\tremaining: 436ms\n",
      "719:\tlearn: 0.0176175\ttotal: 1.11s\tremaining: 434ms\n",
      "720:\tlearn: 0.0175985\ttotal: 1.11s\tremaining: 432ms\n",
      "721:\tlearn: 0.0175664\ttotal: 1.12s\tremaining: 430ms\n",
      "722:\tlearn: 0.0175544\ttotal: 1.12s\tremaining: 428ms\n",
      "723:\tlearn: 0.0175477\ttotal: 1.12s\tremaining: 426ms\n",
      "724:\tlearn: 0.0175294\ttotal: 1.12s\tremaining: 424ms\n",
      "725:\tlearn: 0.0175116\ttotal: 1.12s\tremaining: 422ms\n",
      "726:\tlearn: 0.0175000\ttotal: 1.12s\tremaining: 421ms\n",
      "727:\tlearn: 0.0174815\ttotal: 1.12s\tremaining: 419ms\n",
      "728:\tlearn: 0.0174716\ttotal: 1.12s\tremaining: 417ms\n",
      "729:\tlearn: 0.0174314\ttotal: 1.12s\tremaining: 415ms\n",
      "730:\tlearn: 0.0174286\ttotal: 1.12s\tremaining: 413ms\n",
      "731:\tlearn: 0.0174103\ttotal: 1.13s\tremaining: 412ms\n",
      "732:\tlearn: 0.0173969\ttotal: 1.13s\tremaining: 410ms\n",
      "733:\tlearn: 0.0173881\ttotal: 1.13s\tremaining: 409ms\n",
      "734:\tlearn: 0.0173811\ttotal: 1.13s\tremaining: 407ms\n",
      "735:\tlearn: 0.0173457\ttotal: 1.13s\tremaining: 405ms\n",
      "736:\tlearn: 0.0173357\ttotal: 1.13s\tremaining: 404ms\n",
      "737:\tlearn: 0.0173082\ttotal: 1.13s\tremaining: 402ms\n",
      "738:\tlearn: 0.0172996\ttotal: 1.13s\tremaining: 401ms\n",
      "739:\tlearn: 0.0172863\ttotal: 1.14s\tremaining: 399ms\n",
      "740:\tlearn: 0.0172754\ttotal: 1.14s\tremaining: 397ms\n",
      "741:\tlearn: 0.0172527\ttotal: 1.14s\tremaining: 396ms\n",
      "742:\tlearn: 0.0172389\ttotal: 1.14s\tremaining: 394ms\n",
      "743:\tlearn: 0.0172221\ttotal: 1.14s\tremaining: 393ms\n",
      "744:\tlearn: 0.0172184\ttotal: 1.14s\tremaining: 391ms\n",
      "745:\tlearn: 0.0172098\ttotal: 1.14s\tremaining: 389ms\n",
      "746:\tlearn: 0.0172047\ttotal: 1.14s\tremaining: 388ms\n",
      "747:\tlearn: 0.0171937\ttotal: 1.15s\tremaining: 386ms\n",
      "748:\tlearn: 0.0171860\ttotal: 1.15s\tremaining: 384ms\n",
      "749:\tlearn: 0.0171750\ttotal: 1.15s\tremaining: 383ms\n",
      "750:\tlearn: 0.0171641\ttotal: 1.15s\tremaining: 381ms\n",
      "751:\tlearn: 0.0171339\ttotal: 1.16s\tremaining: 381ms\n",
      "752:\tlearn: 0.0171252\ttotal: 1.16s\tremaining: 380ms\n",
      "753:\tlearn: 0.0171177\ttotal: 1.16s\tremaining: 378ms\n",
      "754:\tlearn: 0.0171043\ttotal: 1.16s\tremaining: 376ms\n",
      "755:\tlearn: 0.0170870\ttotal: 1.16s\tremaining: 375ms\n",
      "756:\tlearn: 0.0170723\ttotal: 1.16s\tremaining: 373ms\n",
      "757:\tlearn: 0.0170613\ttotal: 1.16s\tremaining: 371ms\n",
      "758:\tlearn: 0.0170442\ttotal: 1.17s\tremaining: 371ms\n",
      "759:\tlearn: 0.0170157\ttotal: 1.17s\tremaining: 369ms\n",
      "760:\tlearn: 0.0170053\ttotal: 1.17s\tremaining: 368ms\n",
      "761:\tlearn: 0.0169874\ttotal: 1.17s\tremaining: 366ms\n",
      "762:\tlearn: 0.0169705\ttotal: 1.17s\tremaining: 365ms\n",
      "763:\tlearn: 0.0169427\ttotal: 1.17s\tremaining: 363ms\n",
      "764:\tlearn: 0.0169379\ttotal: 1.18s\tremaining: 361ms\n",
      "765:\tlearn: 0.0169101\ttotal: 1.18s\tremaining: 360ms\n",
      "766:\tlearn: 0.0169066\ttotal: 1.18s\tremaining: 358ms\n",
      "767:\tlearn: 0.0168836\ttotal: 1.19s\tremaining: 358ms\n",
      "768:\tlearn: 0.0168535\ttotal: 1.19s\tremaining: 356ms\n",
      "769:\tlearn: 0.0168374\ttotal: 1.19s\tremaining: 355ms\n",
      "770:\tlearn: 0.0168183\ttotal: 1.19s\tremaining: 353ms\n"
     ]
    },
    {
     "name": "stdout",
     "output_type": "stream",
     "text": [
      "771:\tlearn: 0.0168014\ttotal: 1.19s\tremaining: 351ms\n",
      "772:\tlearn: 0.0167855\ttotal: 1.19s\tremaining: 350ms\n",
      "773:\tlearn: 0.0167822\ttotal: 1.19s\tremaining: 349ms\n",
      "774:\tlearn: 0.0167598\ttotal: 1.2s\tremaining: 347ms\n",
      "775:\tlearn: 0.0167476\ttotal: 1.2s\tremaining: 346ms\n",
      "776:\tlearn: 0.0167335\ttotal: 1.2s\tremaining: 345ms\n",
      "777:\tlearn: 0.0167085\ttotal: 1.2s\tremaining: 343ms\n",
      "778:\tlearn: 0.0166922\ttotal: 1.2s\tremaining: 341ms\n",
      "779:\tlearn: 0.0166720\ttotal: 1.2s\tremaining: 339ms\n",
      "780:\tlearn: 0.0166630\ttotal: 1.2s\tremaining: 338ms\n",
      "781:\tlearn: 0.0166501\ttotal: 1.21s\tremaining: 336ms\n",
      "782:\tlearn: 0.0166359\ttotal: 1.21s\tremaining: 335ms\n",
      "783:\tlearn: 0.0166305\ttotal: 1.21s\tremaining: 333ms\n",
      "784:\tlearn: 0.0166145\ttotal: 1.21s\tremaining: 331ms\n",
      "785:\tlearn: 0.0165962\ttotal: 1.21s\tremaining: 330ms\n",
      "786:\tlearn: 0.0165795\ttotal: 1.21s\tremaining: 328ms\n",
      "787:\tlearn: 0.0165677\ttotal: 1.21s\tremaining: 326ms\n",
      "788:\tlearn: 0.0165478\ttotal: 1.21s\tremaining: 325ms\n",
      "789:\tlearn: 0.0165330\ttotal: 1.22s\tremaining: 323ms\n",
      "790:\tlearn: 0.0165291\ttotal: 1.22s\tremaining: 321ms\n",
      "791:\tlearn: 0.0165161\ttotal: 1.22s\tremaining: 320ms\n",
      "792:\tlearn: 0.0164904\ttotal: 1.22s\tremaining: 318ms\n",
      "793:\tlearn: 0.0164868\ttotal: 1.22s\tremaining: 316ms\n",
      "794:\tlearn: 0.0164821\ttotal: 1.22s\tremaining: 314ms\n",
      "795:\tlearn: 0.0164721\ttotal: 1.22s\tremaining: 312ms\n",
      "796:\tlearn: 0.0164488\ttotal: 1.22s\tremaining: 311ms\n",
      "797:\tlearn: 0.0164274\ttotal: 1.22s\tremaining: 309ms\n",
      "798:\tlearn: 0.0164137\ttotal: 1.22s\tremaining: 307ms\n",
      "799:\tlearn: 0.0164046\ttotal: 1.22s\tremaining: 306ms\n",
      "800:\tlearn: 0.0163979\ttotal: 1.22s\tremaining: 304ms\n",
      "801:\tlearn: 0.0163807\ttotal: 1.22s\tremaining: 302ms\n",
      "802:\tlearn: 0.0163652\ttotal: 1.22s\tremaining: 300ms\n",
      "803:\tlearn: 0.0163481\ttotal: 1.22s\tremaining: 299ms\n",
      "804:\tlearn: 0.0163313\ttotal: 1.23s\tremaining: 297ms\n",
      "805:\tlearn: 0.0163211\ttotal: 1.23s\tremaining: 295ms\n",
      "806:\tlearn: 0.0163102\ttotal: 1.23s\tremaining: 293ms\n",
      "807:\tlearn: 0.0163042\ttotal: 1.23s\tremaining: 292ms\n",
      "808:\tlearn: 0.0162851\ttotal: 1.23s\tremaining: 290ms\n",
      "809:\tlearn: 0.0162704\ttotal: 1.23s\tremaining: 288ms\n",
      "810:\tlearn: 0.0162640\ttotal: 1.23s\tremaining: 287ms\n",
      "811:\tlearn: 0.0162422\ttotal: 1.23s\tremaining: 285ms\n",
      "812:\tlearn: 0.0162366\ttotal: 1.23s\tremaining: 284ms\n",
      "813:\tlearn: 0.0162341\ttotal: 1.23s\tremaining: 282ms\n",
      "814:\tlearn: 0.0162188\ttotal: 1.23s\tremaining: 280ms\n",
      "815:\tlearn: 0.0161992\ttotal: 1.24s\tremaining: 279ms\n",
      "816:\tlearn: 0.0161930\ttotal: 1.24s\tremaining: 277ms\n",
      "817:\tlearn: 0.0161836\ttotal: 1.24s\tremaining: 275ms\n",
      "818:\tlearn: 0.0161681\ttotal: 1.25s\tremaining: 276ms\n",
      "819:\tlearn: 0.0161467\ttotal: 1.25s\tremaining: 274ms\n",
      "820:\tlearn: 0.0161321\ttotal: 1.25s\tremaining: 272ms\n",
      "821:\tlearn: 0.0161174\ttotal: 1.25s\tremaining: 271ms\n",
      "822:\tlearn: 0.0161100\ttotal: 1.25s\tremaining: 269ms\n",
      "823:\tlearn: 0.0160962\ttotal: 1.25s\tremaining: 267ms\n",
      "824:\tlearn: 0.0160828\ttotal: 1.25s\tremaining: 266ms\n",
      "825:\tlearn: 0.0160544\ttotal: 1.25s\tremaining: 264ms\n",
      "826:\tlearn: 0.0160296\ttotal: 1.25s\tremaining: 262ms\n",
      "827:\tlearn: 0.0159965\ttotal: 1.25s\tremaining: 261ms\n",
      "828:\tlearn: 0.0159737\ttotal: 1.25s\tremaining: 259ms\n",
      "829:\tlearn: 0.0159510\ttotal: 1.25s\tremaining: 257ms\n",
      "830:\tlearn: 0.0159335\ttotal: 1.26s\tremaining: 255ms\n",
      "831:\tlearn: 0.0159215\ttotal: 1.26s\tremaining: 254ms\n",
      "832:\tlearn: 0.0158996\ttotal: 1.26s\tremaining: 252ms\n",
      "833:\tlearn: 0.0158896\ttotal: 1.26s\tremaining: 250ms\n",
      "834:\tlearn: 0.0158755\ttotal: 1.26s\tremaining: 249ms\n",
      "835:\tlearn: 0.0158550\ttotal: 1.26s\tremaining: 247ms\n",
      "836:\tlearn: 0.0158318\ttotal: 1.26s\tremaining: 245ms\n",
      "837:\tlearn: 0.0158217\ttotal: 1.26s\tremaining: 243ms\n",
      "838:\tlearn: 0.0158088\ttotal: 1.26s\tremaining: 242ms\n",
      "839:\tlearn: 0.0157982\ttotal: 1.26s\tremaining: 240ms\n",
      "840:\tlearn: 0.0157783\ttotal: 1.26s\tremaining: 238ms\n",
      "841:\tlearn: 0.0157743\ttotal: 1.26s\tremaining: 237ms\n",
      "842:\tlearn: 0.0157488\ttotal: 1.26s\tremaining: 235ms\n",
      "843:\tlearn: 0.0157395\ttotal: 1.26s\tremaining: 233ms\n",
      "844:\tlearn: 0.0157222\ttotal: 1.26s\tremaining: 232ms\n",
      "845:\tlearn: 0.0157069\ttotal: 1.26s\tremaining: 230ms\n",
      "846:\tlearn: 0.0156939\ttotal: 1.26s\tremaining: 228ms\n",
      "847:\tlearn: 0.0156797\ttotal: 1.26s\tremaining: 227ms\n",
      "848:\tlearn: 0.0156706\ttotal: 1.27s\tremaining: 225ms\n",
      "849:\tlearn: 0.0156597\ttotal: 1.27s\tremaining: 224ms\n",
      "850:\tlearn: 0.0156353\ttotal: 1.27s\tremaining: 222ms\n",
      "851:\tlearn: 0.0156267\ttotal: 1.27s\tremaining: 220ms\n",
      "852:\tlearn: 0.0156132\ttotal: 1.27s\tremaining: 219ms\n",
      "853:\tlearn: 0.0155987\ttotal: 1.27s\tremaining: 217ms\n",
      "854:\tlearn: 0.0155792\ttotal: 1.27s\tremaining: 216ms\n",
      "855:\tlearn: 0.0155616\ttotal: 1.27s\tremaining: 214ms\n",
      "856:\tlearn: 0.0155577\ttotal: 1.27s\tremaining: 212ms\n",
      "857:\tlearn: 0.0155454\ttotal: 1.27s\tremaining: 211ms\n",
      "858:\tlearn: 0.0155360\ttotal: 1.27s\tremaining: 209ms\n",
      "859:\tlearn: 0.0155269\ttotal: 1.27s\tremaining: 208ms\n",
      "860:\tlearn: 0.0155136\ttotal: 1.28s\tremaining: 206ms\n",
      "861:\tlearn: 0.0154992\ttotal: 1.28s\tremaining: 205ms\n",
      "862:\tlearn: 0.0154759\ttotal: 1.28s\tremaining: 203ms\n",
      "863:\tlearn: 0.0154685\ttotal: 1.28s\tremaining: 201ms\n",
      "864:\tlearn: 0.0154596\ttotal: 1.28s\tremaining: 200ms\n",
      "865:\tlearn: 0.0154541\ttotal: 1.28s\tremaining: 198ms\n",
      "866:\tlearn: 0.0154409\ttotal: 1.28s\tremaining: 197ms\n",
      "867:\tlearn: 0.0154280\ttotal: 1.28s\tremaining: 195ms\n",
      "868:\tlearn: 0.0154108\ttotal: 1.28s\tremaining: 194ms\n",
      "869:\tlearn: 0.0154046\ttotal: 1.28s\tremaining: 192ms\n",
      "870:\tlearn: 0.0153909\ttotal: 1.28s\tremaining: 190ms\n",
      "871:\tlearn: 0.0153858\ttotal: 1.28s\tremaining: 189ms\n",
      "872:\tlearn: 0.0153648\ttotal: 1.29s\tremaining: 187ms\n",
      "873:\tlearn: 0.0153566\ttotal: 1.29s\tremaining: 186ms\n",
      "874:\tlearn: 0.0153479\ttotal: 1.29s\tremaining: 184ms\n",
      "875:\tlearn: 0.0153296\ttotal: 1.29s\tremaining: 182ms\n",
      "876:\tlearn: 0.0153173\ttotal: 1.29s\tremaining: 181ms\n",
      "877:\tlearn: 0.0153040\ttotal: 1.29s\tremaining: 179ms\n",
      "878:\tlearn: 0.0152978\ttotal: 1.29s\tremaining: 178ms\n",
      "879:\tlearn: 0.0152894\ttotal: 1.29s\tremaining: 176ms\n",
      "880:\tlearn: 0.0152802\ttotal: 1.29s\tremaining: 175ms\n",
      "881:\tlearn: 0.0152745\ttotal: 1.29s\tremaining: 173ms\n",
      "882:\tlearn: 0.0152611\ttotal: 1.29s\tremaining: 172ms\n",
      "883:\tlearn: 0.0152506\ttotal: 1.29s\tremaining: 170ms\n",
      "884:\tlearn: 0.0152292\ttotal: 1.29s\tremaining: 168ms\n",
      "885:\tlearn: 0.0152195\ttotal: 1.3s\tremaining: 167ms\n",
      "886:\tlearn: 0.0152137\ttotal: 1.3s\tremaining: 165ms\n",
      "887:\tlearn: 0.0152017\ttotal: 1.3s\tremaining: 164ms\n",
      "888:\tlearn: 0.0151976\ttotal: 1.3s\tremaining: 162ms\n",
      "889:\tlearn: 0.0151879\ttotal: 1.3s\tremaining: 160ms\n",
      "890:\tlearn: 0.0151784\ttotal: 1.3s\tremaining: 159ms\n",
      "891:\tlearn: 0.0151569\ttotal: 1.3s\tremaining: 157ms\n",
      "892:\tlearn: 0.0151419\ttotal: 1.3s\tremaining: 156ms\n",
      "893:\tlearn: 0.0151232\ttotal: 1.3s\tremaining: 154ms\n",
      "894:\tlearn: 0.0151128\ttotal: 1.3s\tremaining: 153ms\n",
      "895:\tlearn: 0.0151089\ttotal: 1.3s\tremaining: 151ms\n",
      "896:\tlearn: 0.0150960\ttotal: 1.3s\tremaining: 150ms\n",
      "897:\tlearn: 0.0150941\ttotal: 1.3s\tremaining: 148ms\n",
      "898:\tlearn: 0.0150783\ttotal: 1.31s\tremaining: 147ms\n",
      "899:\tlearn: 0.0150703\ttotal: 1.31s\tremaining: 145ms\n",
      "900:\tlearn: 0.0150647\ttotal: 1.31s\tremaining: 144ms\n",
      "901:\tlearn: 0.0150561\ttotal: 1.31s\tremaining: 143ms\n",
      "902:\tlearn: 0.0150470\ttotal: 1.31s\tremaining: 141ms\n",
      "903:\tlearn: 0.0150188\ttotal: 1.31s\tremaining: 140ms\n",
      "904:\tlearn: 0.0150136\ttotal: 1.31s\tremaining: 138ms\n",
      "905:\tlearn: 0.0149961\ttotal: 1.31s\tremaining: 136ms\n",
      "906:\tlearn: 0.0149849\ttotal: 1.32s\tremaining: 135ms\n",
      "907:\tlearn: 0.0149731\ttotal: 1.32s\tremaining: 133ms\n",
      "908:\tlearn: 0.0149686\ttotal: 1.32s\tremaining: 132ms\n",
      "909:\tlearn: 0.0149584\ttotal: 1.32s\tremaining: 130ms\n",
      "910:\tlearn: 0.0149547\ttotal: 1.32s\tremaining: 129ms\n",
      "911:\tlearn: 0.0149460\ttotal: 1.32s\tremaining: 127ms\n",
      "912:\tlearn: 0.0149348\ttotal: 1.32s\tremaining: 126ms\n",
      "913:\tlearn: 0.0149150\ttotal: 1.32s\tremaining: 124ms\n",
      "914:\tlearn: 0.0148979\ttotal: 1.32s\tremaining: 123ms\n",
      "915:\tlearn: 0.0148894\ttotal: 1.32s\tremaining: 121ms\n",
      "916:\tlearn: 0.0148806\ttotal: 1.32s\tremaining: 120ms\n",
      "917:\tlearn: 0.0148765\ttotal: 1.32s\tremaining: 118ms\n",
      "918:\tlearn: 0.0148675\ttotal: 1.32s\tremaining: 117ms\n",
      "919:\tlearn: 0.0148580\ttotal: 1.33s\tremaining: 115ms\n",
      "920:\tlearn: 0.0148445\ttotal: 1.33s\tremaining: 114ms\n",
      "921:\tlearn: 0.0148253\ttotal: 1.33s\tremaining: 112ms\n",
      "922:\tlearn: 0.0148176\ttotal: 1.33s\tremaining: 111ms\n"
     ]
    },
    {
     "name": "stdout",
     "output_type": "stream",
     "text": [
      "923:\tlearn: 0.0148070\ttotal: 1.33s\tremaining: 109ms\n",
      "924:\tlearn: 0.0147928\ttotal: 1.33s\tremaining: 108ms\n",
      "925:\tlearn: 0.0147768\ttotal: 1.33s\tremaining: 106ms\n",
      "926:\tlearn: 0.0147677\ttotal: 1.33s\tremaining: 105ms\n",
      "927:\tlearn: 0.0147563\ttotal: 1.33s\tremaining: 103ms\n",
      "928:\tlearn: 0.0147469\ttotal: 1.33s\tremaining: 102ms\n",
      "929:\tlearn: 0.0147385\ttotal: 1.33s\tremaining: 100ms\n",
      "930:\tlearn: 0.0147296\ttotal: 1.33s\tremaining: 98.9ms\n",
      "931:\tlearn: 0.0147220\ttotal: 1.33s\tremaining: 97.4ms\n",
      "932:\tlearn: 0.0147143\ttotal: 1.34s\tremaining: 96ms\n",
      "933:\tlearn: 0.0146957\ttotal: 1.34s\tremaining: 94.6ms\n",
      "934:\tlearn: 0.0146755\ttotal: 1.34s\tremaining: 93.1ms\n",
      "935:\tlearn: 0.0146677\ttotal: 1.34s\tremaining: 91.6ms\n",
      "936:\tlearn: 0.0146627\ttotal: 1.34s\tremaining: 90ms\n",
      "937:\tlearn: 0.0146503\ttotal: 1.34s\tremaining: 88.5ms\n",
      "938:\tlearn: 0.0146408\ttotal: 1.34s\tremaining: 87.1ms\n",
      "939:\tlearn: 0.0146244\ttotal: 1.34s\tremaining: 85.6ms\n",
      "940:\tlearn: 0.0146161\ttotal: 1.34s\tremaining: 84.1ms\n",
      "941:\tlearn: 0.0145954\ttotal: 1.34s\tremaining: 82.7ms\n",
      "942:\tlearn: 0.0145808\ttotal: 1.34s\tremaining: 81.2ms\n",
      "943:\tlearn: 0.0145694\ttotal: 1.34s\tremaining: 79.7ms\n",
      "944:\tlearn: 0.0145498\ttotal: 1.34s\tremaining: 78.3ms\n",
      "945:\tlearn: 0.0145357\ttotal: 1.34s\tremaining: 76.8ms\n",
      "946:\tlearn: 0.0145231\ttotal: 1.35s\tremaining: 75.4ms\n",
      "947:\tlearn: 0.0145133\ttotal: 1.35s\tremaining: 73.9ms\n",
      "948:\tlearn: 0.0145071\ttotal: 1.35s\tremaining: 72.4ms\n",
      "949:\tlearn: 0.0144999\ttotal: 1.35s\tremaining: 71ms\n",
      "950:\tlearn: 0.0144928\ttotal: 1.35s\tremaining: 69.5ms\n",
      "951:\tlearn: 0.0144864\ttotal: 1.35s\tremaining: 68.1ms\n",
      "952:\tlearn: 0.0144821\ttotal: 1.35s\tremaining: 66.6ms\n",
      "953:\tlearn: 0.0144749\ttotal: 1.35s\tremaining: 65.2ms\n",
      "954:\tlearn: 0.0144719\ttotal: 1.35s\tremaining: 63.7ms\n",
      "955:\tlearn: 0.0144565\ttotal: 1.35s\tremaining: 62.3ms\n",
      "956:\tlearn: 0.0144484\ttotal: 1.35s\tremaining: 60.8ms\n",
      "957:\tlearn: 0.0144373\ttotal: 1.35s\tremaining: 59.4ms\n",
      "958:\tlearn: 0.0144082\ttotal: 1.35s\tremaining: 57.9ms\n",
      "959:\tlearn: 0.0143948\ttotal: 1.35s\tremaining: 56.5ms\n",
      "960:\tlearn: 0.0143870\ttotal: 1.36s\tremaining: 55.1ms\n",
      "961:\tlearn: 0.0143744\ttotal: 1.36s\tremaining: 53.7ms\n",
      "962:\tlearn: 0.0143662\ttotal: 1.36s\tremaining: 52.2ms\n",
      "963:\tlearn: 0.0143478\ttotal: 1.36s\tremaining: 50.8ms\n",
      "964:\tlearn: 0.0143422\ttotal: 1.36s\tremaining: 49.3ms\n",
      "965:\tlearn: 0.0143343\ttotal: 1.36s\tremaining: 47.9ms\n",
      "966:\tlearn: 0.0143279\ttotal: 1.36s\tremaining: 46.4ms\n",
      "967:\tlearn: 0.0143214\ttotal: 1.36s\tremaining: 45ms\n",
      "968:\tlearn: 0.0143124\ttotal: 1.36s\tremaining: 43.6ms\n",
      "969:\tlearn: 0.0142977\ttotal: 1.36s\tremaining: 42.2ms\n",
      "970:\tlearn: 0.0142828\ttotal: 1.36s\tremaining: 40.7ms\n",
      "971:\tlearn: 0.0142721\ttotal: 1.36s\tremaining: 39.3ms\n",
      "972:\tlearn: 0.0142573\ttotal: 1.36s\tremaining: 37.9ms\n",
      "973:\tlearn: 0.0142545\ttotal: 1.36s\tremaining: 36.4ms\n",
      "974:\tlearn: 0.0142471\ttotal: 1.36s\tremaining: 35ms\n",
      "975:\tlearn: 0.0142344\ttotal: 1.37s\tremaining: 33.6ms\n",
      "976:\tlearn: 0.0142332\ttotal: 1.37s\tremaining: 32.2ms\n",
      "977:\tlearn: 0.0142144\ttotal: 1.37s\tremaining: 30.8ms\n",
      "978:\tlearn: 0.0141923\ttotal: 1.37s\tremaining: 29.4ms\n",
      "979:\tlearn: 0.0141833\ttotal: 1.37s\tremaining: 28ms\n",
      "980:\tlearn: 0.0141670\ttotal: 1.38s\tremaining: 26.6ms\n",
      "981:\tlearn: 0.0141502\ttotal: 1.38s\tremaining: 25.2ms\n",
      "982:\tlearn: 0.0141414\ttotal: 1.38s\tremaining: 23.8ms\n",
      "983:\tlearn: 0.0141348\ttotal: 1.38s\tremaining: 22.4ms\n",
      "984:\tlearn: 0.0141227\ttotal: 1.38s\tremaining: 21ms\n",
      "985:\tlearn: 0.0140991\ttotal: 1.38s\tremaining: 19.6ms\n",
      "986:\tlearn: 0.0140724\ttotal: 1.38s\tremaining: 18.2ms\n",
      "987:\tlearn: 0.0140686\ttotal: 1.38s\tremaining: 16.8ms\n",
      "988:\tlearn: 0.0140625\ttotal: 1.38s\tremaining: 15.4ms\n",
      "989:\tlearn: 0.0140437\ttotal: 1.39s\tremaining: 14ms\n",
      "990:\tlearn: 0.0140376\ttotal: 1.39s\tremaining: 12.6ms\n",
      "991:\tlearn: 0.0140274\ttotal: 1.39s\tremaining: 11.2ms\n",
      "992:\tlearn: 0.0140133\ttotal: 1.39s\tremaining: 9.78ms\n",
      "993:\tlearn: 0.0139900\ttotal: 1.39s\tremaining: 8.37ms\n",
      "994:\tlearn: 0.0139843\ttotal: 1.39s\tremaining: 6.97ms\n",
      "995:\tlearn: 0.0139749\ttotal: 1.39s\tremaining: 5.58ms\n",
      "996:\tlearn: 0.0139733\ttotal: 1.39s\tremaining: 4.18ms\n",
      "997:\tlearn: 0.0139674\ttotal: 1.39s\tremaining: 2.79ms\n",
      "998:\tlearn: 0.0139557\ttotal: 1.39s\tremaining: 1.39ms\n",
      "999:\tlearn: 0.0139478\ttotal: 1.39s\tremaining: 0us\n"
     ]
    },
    {
     "data": {
      "text/plain": [
       "<catboost.core.CatBoostRegressor at 0x7fc6036f5d60>"
      ]
     },
     "execution_count": 9,
     "metadata": {},
     "output_type": "execute_result"
    }
   ],
   "source": [
    "#Train the Model \n",
    "prior_model = ctb.CatBoostRegressor()\n",
    "prior_model.fit(X_train,Y_train)"
   ]
  },
  {
   "cell_type": "code",
   "execution_count": 10,
   "id": "af65dcda",
   "metadata": {
    "execution": {
     "iopub.execute_input": "2022-07-25T05:02:22.304077Z",
     "iopub.status.busy": "2022-07-25T05:02:22.293204Z",
     "iopub.status.idle": "2022-07-25T05:02:22.376217Z",
     "shell.execute_reply": "2022-07-25T05:02:22.372650Z"
    },
    "id": "af65dcda",
    "papermill": {
     "duration": 0.128628,
     "end_time": "2022-07-25T05:02:22.381232",
     "exception": false,
     "start_time": "2022-07-25T05:02:22.252604",
     "status": "completed"
    },
    "tags": []
   },
   "outputs": [
    {
     "data": {
      "application/scrapbook.scrap.json+json": {
       "data": 0.0008424571386778292,
       "encoder": "json",
       "name": "Prior Model MSE",
       "version": 1
      }
     },
     "metadata": {
      "scrapbook": {
       "data": true,
       "display": false,
       "name": "Prior Model MSE"
      }
     },
     "output_type": "display_data"
    },
    {
     "data": {
      "application/scrapbook.scrap.json+json": {
       "data": 0.8607352736888632,
       "encoder": "json",
       "name": "ABC Pre-generator MSE",
       "version": 1
      }
     },
     "metadata": {
      "scrapbook": {
       "data": true,
       "display": false,
       "name": "ABC Pre-generator MSE"
      }
     },
     "output_type": "display_data"
    },
    {
     "data": {
      "application/scrapbook.scrap.json+json": {
       "data": 0.02068558747317181,
       "encoder": "json",
       "name": "Prior Model MAE",
       "version": 1
      }
     },
     "metadata": {
      "scrapbook": {
       "data": true,
       "display": false,
       "name": "Prior Model MAE"
      }
     },
     "output_type": "display_data"
    },
    {
     "name": "stdout",
     "output_type": "stream",
     "text": [
      "Prior Model MAE 0.02068558747317181\n",
      "ABC Pre-generator MAE 0.7402569554871185\n"
     ]
    }
   ],
   "source": [
    "y_pred = prior_model.predict(X_test)\n",
    "y_abc = y_pred + np.random.normal(0,variance, y_pred.shape) + bias \n",
    "mse = mean_squared_error(y_pred,Y_test)\n",
    "sb.glue(\"Prior Model MSE\",mse)\n",
    "mse = mean_squared_error(y_abc,Y_test)\n",
    "sb.glue(\"ABC Pre-generator MSE\",mse)\n",
    "mae = mean_absolute_error(y_pred,Y_test)\n",
    "sb.glue(\"Prior Model MAE\",mae)\n",
    "print(\"Prior Model MAE\",mae)\n",
    "mae = mean_absolute_error(y_abc,Y_test)\n",
    "print(\"ABC Pre-generator MAE\",mae)"
   ]
  },
  {
   "cell_type": "markdown",
   "id": "25609da2",
   "metadata": {
    "papermill": {
     "duration": 0.011594,
     "end_time": "2022-07-25T05:02:22.407160",
     "exception": false,
     "start_time": "2022-07-25T05:02:22.395566",
     "status": "completed"
    },
    "tags": []
   },
   "source": [
    "# mGAN Model"
   ]
  },
  {
   "cell_type": "code",
   "execution_count": 11,
   "id": "dfc3464d",
   "metadata": {
    "execution": {
     "iopub.execute_input": "2022-07-25T05:02:22.438813Z",
     "iopub.status.busy": "2022-07-25T05:02:22.438031Z",
     "iopub.status.idle": "2022-07-25T05:02:22.443161Z",
     "shell.execute_reply": "2022-07-25T05:02:22.442286Z"
    },
    "papermill": {
     "duration": 0.028529,
     "end_time": "2022-07-25T05:02:22.448069",
     "exception": false,
     "start_time": "2022-07-25T05:02:22.419540",
     "status": "completed"
    },
    "tags": []
   },
   "outputs": [],
   "source": [
    "# gen = network.Generator(n_features+1).to(device)\n",
    "# disc = network.Discriminator(n_features+1).to(device)\n",
    "\n",
    "# criterion = torch.nn.BCELoss()\n",
    "# gen_opt = torch.optim.Adam(gen.parameters(), lr=0.01, betas=(0.5, 0.999))\n",
    "# disc_opt = torch.optim.Adam(disc.parameters(), lr=0.01, betas=(0.5, 0.999))"
   ]
  },
  {
   "cell_type": "code",
   "execution_count": 12,
   "id": "b75fdd85",
   "metadata": {
    "execution": {
     "iopub.execute_input": "2022-07-25T05:02:22.487464Z",
     "iopub.status.busy": "2022-07-25T05:02:22.486565Z",
     "iopub.status.idle": "2022-07-25T05:02:22.495333Z",
     "shell.execute_reply": "2022-07-25T05:02:22.492887Z"
    },
    "papermill": {
     "duration": 0.035511,
     "end_time": "2022-07-25T05:02:22.498564",
     "exception": false,
     "start_time": "2022-07-25T05:02:22.463053",
     "status": "completed"
    },
    "tags": []
   },
   "outputs": [],
   "source": [
    "#Training the ABC_GAN \n",
    "# ABC_train_test2.training_GAN(disc,gen,disc_opt,gen_opt,train_data,batch_size,n_epochs,criterion,prior_model,variance,bias,device)"
   ]
  },
  {
   "cell_type": "code",
   "execution_count": 13,
   "id": "1fa7c368",
   "metadata": {
    "execution": {
     "iopub.execute_input": "2022-07-25T05:02:22.541458Z",
     "iopub.status.busy": "2022-07-25T05:02:22.540619Z",
     "iopub.status.idle": "2022-07-25T05:02:22.546672Z",
     "shell.execute_reply": "2022-07-25T05:02:22.544640Z"
    },
    "papermill": {
     "duration": 0.038572,
     "end_time": "2022-07-25T05:02:22.552281",
     "exception": false,
     "start_time": "2022-07-25T05:02:22.513709",
     "status": "completed"
    },
    "tags": []
   },
   "outputs": [],
   "source": [
    "# ABC_GAN1_metrics=ABC_train_test2.test_generator(gen,test_data,prior_model,variance,bias,\"1\",device)\n",
    "# sb.glue(\"ABC_GAN_1 Metrics\",ABC_GAN1_metrics)\n",
    "\n",
    "# print(\"MAE\")\n",
    "# print(mean(ABC_GAN1_metrics[1]))"
   ]
  },
  {
   "cell_type": "code",
   "execution_count": 14,
   "id": "eb22ce5c",
   "metadata": {
    "execution": {
     "iopub.execute_input": "2022-07-25T05:02:22.604632Z",
     "iopub.status.busy": "2022-07-25T05:02:22.603837Z",
     "iopub.status.idle": "2022-07-25T05:02:22.610166Z",
     "shell.execute_reply": "2022-07-25T05:02:22.608640Z"
    },
    "papermill": {
     "duration": 0.035628,
     "end_time": "2022-07-25T05:02:22.615731",
     "exception": false,
     "start_time": "2022-07-25T05:02:22.580103",
     "status": "completed"
    },
    "tags": []
   },
   "outputs": [],
   "source": [
    "# sanityChecks.discProbVsError(train_data,disc,device)\n",
    "# sanityChecks.discProbVsError(test_data,disc,device)"
   ]
  },
  {
   "cell_type": "markdown",
   "id": "9341fafd",
   "metadata": {
    "papermill": {
     "duration": 0.014722,
     "end_time": "2022-07-25T05:02:22.648431",
     "exception": false,
     "start_time": "2022-07-25T05:02:22.633709",
     "status": "completed"
    },
    "tags": []
   },
   "source": [
    "# mGAN Model with TabNet Generator"
   ]
  },
  {
   "cell_type": "code",
   "execution_count": 15,
   "id": "7a342564",
   "metadata": {
    "execution": {
     "iopub.execute_input": "2022-07-25T05:02:22.691871Z",
     "iopub.status.busy": "2022-07-25T05:02:22.691333Z",
     "iopub.status.idle": "2022-07-25T05:02:22.712761Z",
     "shell.execute_reply": "2022-07-25T05:02:22.711694Z"
    },
    "papermill": {
     "duration": 0.051398,
     "end_time": "2022-07-25T05:02:22.716972",
     "exception": false,
     "start_time": "2022-07-25T05:02:22.665574",
     "status": "completed"
    },
    "tags": []
   },
   "outputs": [],
   "source": [
    "gen2 = network.GeneratorTabnet(n_features+1).to(device)\n",
    "disc2 = network.Discriminator(n_features+1).to(device)\n",
    "\n",
    "criterion = torch.nn.BCELoss()\n",
    "gen_opt = torch.optim.Adam(gen2.parameters(), lr=0.01, betas=(0.5, 0.999))\n",
    "disc_opt = torch.optim.Adam(disc2.parameters(), lr=0.01, betas=(0.5, 0.999))"
   ]
  },
  {
   "cell_type": "code",
   "execution_count": 16,
   "id": "535f2e23",
   "metadata": {
    "execution": {
     "iopub.execute_input": "2022-07-25T05:02:22.757296Z",
     "iopub.status.busy": "2022-07-25T05:02:22.753778Z",
     "iopub.status.idle": "2022-07-25T05:24:35.435696Z",
     "shell.execute_reply": "2022-07-25T05:24:35.433078Z"
    },
    "papermill": {
     "duration": 1332.707404,
     "end_time": "2022-07-25T05:24:35.440763",
     "exception": false,
     "start_time": "2022-07-25T05:02:22.733359",
     "status": "completed"
    },
    "tags": []
   },
   "outputs": [
    {
     "data": {
      "image/png": "[encoded data removed]",
      "text/plain": [
       "<Figure size 432x288 with 1 Axes>"
      ]
     },
     "metadata": {
      "needs_background": "light"
     },
     "output_type": "display_data"
    },
    {
     "data": {
      "image/png": "[encoded data removed]",
      "text/plain": [
       "<Figure size 432x288 with 1 Axes>"
      ]
     },
     "metadata": {
      "needs_background": "light"
     },
     "output_type": "display_data"
    }
   ],
   "source": [
    "#Training the ABC_GAN \n",
    "ABC_train_test2.training_GAN(disc2,gen2,disc_opt,gen_opt,train_data,batch_size,n_epochs,criterion,prior_model,variance,bias,device)"
   ]
  },
  {
   "cell_type": "code",
   "execution_count": 17,
   "id": "f607023c",
   "metadata": {
    "execution": {
     "iopub.execute_input": "2022-07-25T05:24:35.476480Z",
     "iopub.status.busy": "2022-07-25T05:24:35.476006Z",
     "iopub.status.idle": "2022-07-25T05:24:37.720086Z",
     "shell.execute_reply": "2022-07-25T05:24:37.719034Z"
    },
    "papermill": {
     "duration": 2.269467,
     "end_time": "2022-07-25T05:24:37.725044",
     "exception": false,
     "start_time": "2022-07-25T05:24:35.455577",
     "status": "completed"
    },
    "tags": []
   },
   "outputs": [
    {
     "data": {
      "application/scrapbook.scrap.json+json": {
       "data": 0.11749350403558813,
       "encoder": "json",
       "name": "ABC-GAN Model 1 MSE",
       "version": 1
      }
     },
     "metadata": {
      "scrapbook": {
       "data": true,
       "display": false,
       "name": "ABC-GAN Model 1 MSE"
      }
     },
     "output_type": "display_data"
    },
    {
     "data": {
      "application/scrapbook.scrap.json+json": {
       "data": 0.1983957151696086,
       "encoder": "json",
       "name": "ABC-GAN Model 1 MAE",
       "version": 1
      }
     },
     "metadata": {
      "scrapbook": {
       "data": true,
       "display": false,
       "name": "ABC-GAN Model 1 MAE"
      }
     },
     "output_type": "display_data"
    },
    {
     "data": {
      "application/scrapbook.scrap.json+json": {
       "data": 30.552940136119723,
       "encoder": "json",
       "name": "ABC-GAN Model 1 Manhattan Distance",
       "version": 1
      }
     },
     "metadata": {
      "scrapbook": {
       "data": true,
       "display": false,
       "name": "ABC-GAN Model 1 Manhattan Distance"
      }
     },
     "output_type": "display_data"
    },
    {
     "data": {
      "application/scrapbook.scrap.json+json": {
       "data": 4.253690242039998,
       "encoder": "json",
       "name": "ABC-GAN Model 1 Euclidean distance",
       "version": 1
      }
     },
     "metadata": {
      "scrapbook": {
       "data": true,
       "display": false,
       "name": "ABC-GAN Model 1 Euclidean distance"
      }
     },
     "output_type": "display_data"
    },
    {
     "data": {
      "application/scrapbook.scrap.json+json": {
       "data": [
        [
         0.11714848598076914,
         0.11691044070372328,
         0.11642943145592996,
         0.11715826049928092,
         0.11803795639991178,
         0.11767167798650983,
         0.1176227273714155,
         0.11627632033581925,
         0.1174393281274583,
         0.11758281530859589,
         0.11676254750634389,
         0.11658616151596474,
         0.11654834672988354,
         0.11748243047899051,
         0.1178317225801563,
         0.11740012020417841,
         0.11764051513468027,
         0.11716181805496272,
         0.11676923482934815,
         0.1167280876557868,
         0.11804939164538351,
         0.11793908560782568,
         0.11814857569840943,
         0.11722037919886327,
         0.11741692942810644,
         0.1185132078479923,
         0.11620555051416703,
         0.11835153978983798,
         0.11761386163050953,
         0.11765570351238318,
         0.11735617266801353,
         0.11761105096896711,
         0.11741585976539982,
         0.11798068879630003,
         0.11702587732194634,
         0.1170708205683128,
         0.11671844338833913,
         0.11710796120435352,
         0.11758798373557894,
         0.11768167322660607,
         0.11698363850972451,
         0.11760565544994445,
         0.11883160572849348,
         0.11889742265323114,
         0.11769159618465061,
         0.11756274026969342,
         0.11711577167019592,
         0.11782681521529671,
         0.11777492465682395,
         0.11729517293340523,
         0.11762543390848593,
         0.11615587036075051,
         0.11778173298781813,
         0.11817176003206156,
         0.11737300861203868,
         0.11706507345359411,
         0.11719990819847034,
         0.11875992999228072,
         0.11766951259547095,
         0.11751753815608558,
         0.11808783174844678,
         0.11740699485938744,
         0.11726329382394045,
         0.11758338522745015,
         0.11669871819869905,
         0.11685655899339109,
         0.11734594268757709,
         0.11804586239423914,
         0.11796992445017719,
         0.11812526738913283,
         0.11794749839401793,
         0.11681544953205586,
         0.11745529302797235,
         0.11716302577130028,
         0.11769334593139988,
         0.11830702741322474,
         0.11707721428008397,
         0.11874621079475668,
         0.11759519916719854,
         0.11717976420084392,
         0.1183013019598445,
         0.11767482732623545,
         0.1170772680855239,
         0.1167555581894594,
         0.11781686615906022,
         0.11763568553940279,
         0.11683334549896406,
         0.11672607996660228,
         0.11671552391467067,
         0.11775033873898974,
         0.1172270712868573,
         0.117753040919314,
         0.11817045717260484,
         0.11805938629285323,
         0.11639185899577,
         0.11729447489874914,
         0.11746692987574539,
         0.11881218279271469,
         0.11849200076742519,
         0.11826809994720983
        ],
        [
         0.19811786198383802,
         0.19794941417776146,
         0.1977742210320838,
         0.19806995794370577,
         0.19864820209997042,
         0.19844605517271277,
         0.19765848937359723,
         0.19800741559305748,
         0.19818216431644056,
         0.1981428103013472,
         0.19754955332194055,
         0.1980929911233388,
         0.19760439811008318,
         0.19800800409216385,
         0.1982579810859321,
         0.19826505792798935,
         0.1986947481024575,
         0.1985414782418059,
         0.19826851306217058,
         0.19847136353711028,
         0.19808375995073998,
         0.1990376411417088,
         0.19866465781996775,
         0.1986465717774707,
         0.19815040887756782,
         0.1992791700963076,
         0.19743073930020455,
         0.19873606379736553,
         0.1991139618897593,
         0.1985446261121081,
         0.19829247529049973,
         0.19861872286185042,
         0.19801115839705838,
         0.1990203835166894,
         0.19840872041010238,
         0.19889195906845006,
         0.1975609627733757,
         0.19770853342367456,
         0.19883356078878625,
         0.19850232853711425,
         0.1979041664147532,
         0.19826209782199425,
         0.19980094693117328,
         0.19972712923954059,
         0.19866044108163228,
         0.19854244952658553,
         0.19811584505361396,
         0.19810124423790287,
         0.19794022596695207,
         0.19793994095805403,
         0.19872132756493308,
         0.19777371371527772,
         0.19844313493216192,
         0.19939993602501882,
         0.19801131679446665,
         0.19784372154768412,
         0.19804219993484484,
         0.19936905148160922,
         0.19830123470588165,
         0.19864538055542227,
         0.19914145317751092,
         0.19872464999169498,
         0.19853775237094273,
         0.19799931236095242,
         0.1981064323577788,
         0.19765851661175876,
         0.19831998307596554,
         0.1986342386475631,
         0.1986404120341524,
         0.19872773274198755,
         0.19903774104722136,
         0.19846446657335604,
         0.19848938939439786,
         0.19835538054247956,
         0.19894119811716018,
         0.19788332510884707,
         0.19811952476958175,
         0.19921375535331765,
         0.19855484342226734,
         0.1983012601055882,
         0.19907879689103597,
         0.19830830467792301,
         0.19762542911551215,
         0.19800565174067175,
         0.19842638951036837,
         0.19886560607459638,
         0.19773599481234302,
         0.19853553258172876,
         0.19817569769628637,
         0.19860873289116018,
         0.19799387575937555,
         0.19821471464517829,
         0.19836554748864918,
         0.19864258421705916,
         0.19818544576500918,
         0.19811627786461408,
         0.19898731653372964,
         0.19873322372312668,
         0.19896593946334604,
         0.1983164967848109
        ],
        [
         30.510150745511055,
         30.484209783375263,
         30.457230038940907,
         30.50277352333069,
         30.591823123395443,
         30.560692496597767,
         30.439407363533974,
         30.493142001330853,
         30.520053304731846,
         30.51399278640747,
         30.422631211578846,
         30.506320632994175,
         30.43107730895281,
         30.493232630193233,
         30.531729087233543,
         30.53281892091036,
         30.598991207778454,
         30.57538764923811,
         30.53335101157427,
         30.564589984714985,
         30.50489903241396,
         30.651796735823154,
         30.594357304275036,
         30.591572053730488,
         30.515162967145443,
         30.68899219483137,
         30.404333852231503,
         30.605353824794292,
         30.66355013102293,
         30.57587242126465,
         30.537041194736958,
         30.587283320724964,
         30.49371839314699,
         30.649139061570168,
         30.554942943155766,
         30.62936169654131,
         30.424388267099857,
         30.447114147245884,
         30.620368361473083,
         30.569358594715595,
         30.47724162787199,
         30.532363064587116,
         30.769345827400684,
         30.75797790288925,
         30.59370792657137,
         30.575537227094173,
         30.50984013825655,
         30.507591612637043,
         30.482794798910618,
         30.48275090754032,
         30.603084444999695,
         30.457151912152767,
         30.560242779552937,
         30.707590147852898,
         30.493742786347866,
         30.467933118343353,
         30.498498789966106,
         30.70283392816782,
         30.538390144705772,
         30.59138860553503,
         30.66778378933668,
         30.603596098721027,
         30.57481386512518,
         30.491894103586674,
         30.508390583097935,
         30.43941155821085,
         30.541277393698692,
         30.58967275172472,
         30.590623453259468,
         30.604070842266083,
         30.651812121272087,
         30.56352785229683,
         30.56736596673727,
         30.54672860354185,
         30.636944510042667,
         30.474032066762447,
         30.51040681451559,
         30.678918324410915,
         30.57744588702917,
         30.538394056260586,
         30.65813472121954,
         30.539478920400143,
         30.43431608378887,
         30.49287036806345,
         30.55766398459673,
         30.625303335487843,
         30.451343201100826,
         30.57447201758623,
         30.5190574452281,
         30.585744865238667,
         30.491056866943836,
         30.525066055357456,
         30.548294313251972,
         30.59095796942711,
         30.520558647811413,
         30.50990679115057,
         30.644046746194363,
         30.60491645336151,
         30.64075467735529,
         30.540740504860878
        ],
        [
         4.247454159969057,
         4.243136560184386,
         4.23439871105842,
         4.247631353694581,
         4.2635484382831175,
         4.256928283389622,
         4.25604276472852,
         4.231613561245422,
         4.252723425245119,
         4.255320617476874,
         4.240451899972096,
         4.237247794672689,
         4.236560562107198,
         4.253503766750952,
         4.259822211940783,
         4.252013465576453,
         4.256364567414398,
         4.24769584368564,
         4.240573329600564,
         4.239826116598553,
         4.26375495466016,
         4.26176245039598,
         4.265545763153298,
         4.248757276736922,
         4.252317854056583,
         4.2721228924962835,
         4.230325611484502,
         4.2692080211246495,
         4.255882363399918,
         4.256639324738121,
         4.251217542172369,
         4.255831510906057,
         4.252298484804609,
         4.2625140556519225,
         4.245230866228566,
         4.246045968606578,
         4.2396509622614245,
         4.246719442754658,
         4.255414139103167,
         4.25710907505285,
         4.244464669483959,
         4.255733889623674,
         4.277857791253467,
         4.279042309746141,
         4.257288551700037,
         4.25495734426713,
         4.246861056970215,
         4.259733506119331,
         4.2587954162122985,
         4.250112543420986,
         4.2560917309083965,
         4.229421241204945,
         4.258918510622619,
         4.26596425734411,
         4.251522471568738,
         4.245941746168156,
         4.24838626569718,
         4.276567457530774,
         4.256889115269803,
         4.254139263827312,
         4.2644490956348395,
         4.252137957351062,
         4.249534945013022,
         4.255330930142486,
         4.239292700746158,
         4.242158658629145,
         4.251032248041277,
         4.263691218734399,
         4.26231959915341,
         4.265124989719112,
         4.2619144468981025,
         4.241412409556114,
         4.253012476622628,
         4.247717736476877,
         4.257320198603293,
         4.2684051145172015,
         4.246161913909187,
         4.276320434952522,
         4.255544697421068,
         4.248021149538919,
         4.268301828809211,
         4.256985248769399,
         4.246162889618188,
         4.240324982967313,
         4.259553660713205,
         4.25627719645561,
         4.241737286400522,
         4.239789654553248,
         4.239597938821473,
         4.258350873965697,
         4.248878555357404,
         4.2583997348269635,
         4.265940740866092,
         4.263935446169348,
         4.233715423283499,
         4.250099896991524,
         4.253223154369494,
         4.277508170661753,
         4.271740642663536,
         4.2677028237531145
        ]
       ],
       "encoder": "json",
       "name": "ABC_GAN_2 Metrics",
       "version": 1
      }
     },
     "metadata": {
      "scrapbook": {
       "data": true,
       "display": false,
       "name": "ABC_GAN_2 Metrics"
      }
     },
     "output_type": "display_data"
    },
    {
     "name": "stdout",
     "output_type": "stream",
     "text": [
      "MAE\n",
      "0.1983957151696086\n"
     ]
    }
   ],
   "source": [
    "ABC_GAN2_metrics=ABC_train_test2.test_generator(gen2,test_data,prior_model,variance,bias,\"1\",device)\n",
    "sb.glue(\"ABC_GAN_2 Metrics\",ABC_GAN2_metrics)\n",
    "\n",
    "print(\"MAE\")\n",
    "print(mean(ABC_GAN2_metrics[1]))"
   ]
  },
  {
   "cell_type": "code",
   "execution_count": 18,
   "id": "e866a83a",
   "metadata": {
    "execution": {
     "iopub.execute_input": "2022-07-25T05:24:37.771142Z",
     "iopub.status.busy": "2022-07-25T05:24:37.768977Z",
     "iopub.status.idle": "2022-07-25T05:24:39.326036Z",
     "shell.execute_reply": "2022-07-25T05:24:39.323269Z"
    },
    "papermill": {
     "duration": 1.588295,
     "end_time": "2022-07-25T05:24:39.329871",
     "exception": false,
     "start_time": "2022-07-25T05:24:37.741576",
     "status": "completed"
    },
    "tags": []
   },
   "outputs": [
    {
     "data": {
      "image/png": "[encoded data removed]",
      "text/plain": [
       "<Figure size 432x288 with 1 Axes>"
      ]
     },
     "metadata": {
      "needs_background": "light"
     },
     "output_type": "display_data"
    },
    {
     "data": {
      "image/png": "[encoded data removed]",
      "text/plain": [
       "<Figure size 432x288 with 1 Axes>"
      ]
     },
     "metadata": {
      "needs_background": "light"
     },
     "output_type": "display_data"
    },
    {
     "data": {
      "image/png": "[encoded data removed]",
      "text/plain": [
       "<Figure size 432x288 with 1 Axes>"
      ]
     },
     "metadata": {
      "needs_background": "light"
     },
     "output_type": "display_data"
    },
    {
     "data": {
      "image/png": "[encoded data removed]",
      "text/plain": [
       "<Figure size 432x288 with 1 Axes>"
      ]
     },
     "metadata": {
      "needs_background": "light"
     },
     "output_type": "display_data"
    }
   ],
   "source": [
    "sanityChecks.discProbVsError(train_data,disc2,device)\n",
    "sanityChecks.discProbVsError(test_data,disc2,device)"
   ]
  },
  {
   "cell_type": "markdown",
   "id": "130f3a4d",
   "metadata": {
    "id": "130f3a4d",
    "papermill": {
     "duration": 0.030212,
     "end_time": "2022-07-25T05:24:39.385776",
     "exception": false,
     "start_time": "2022-07-25T05:24:39.355564",
     "status": "completed"
    },
    "tags": []
   },
   "source": [
    "# skipGAN Model"
   ]
  },
  {
   "cell_type": "code",
   "execution_count": 19,
   "id": "4e43dad1",
   "metadata": {
    "execution": {
     "iopub.execute_input": "2022-07-25T05:24:39.437775Z",
     "iopub.status.busy": "2022-07-25T05:24:39.437051Z",
     "iopub.status.idle": "2022-07-25T05:24:39.450154Z",
     "shell.execute_reply": "2022-07-25T05:24:39.448194Z"
    },
    "id": "4e43dad1",
    "papermill": {
     "duration": 0.042008,
     "end_time": "2022-07-25T05:24:39.453303",
     "exception": false,
     "start_time": "2022-07-25T05:24:39.411295",
     "status": "completed"
    },
    "tags": []
   },
   "outputs": [],
   "source": [
    "#Generator\n",
    "gen3 = network.GeneratorWithSkipConnection(n_features+1).to(device)\n",
    "constraints=network.weightConstraint()\n",
    "#Discriminator \n",
    "disc3 = network.Discriminator(n_features+1).to(device)\n",
    "\n",
    "criterion = torch.nn.BCELoss()\n",
    "gen_opt = torch.optim.Adam(gen3.parameters(), lr=0.01, betas=(0.5, 0.999))\n",
    "disc_opt = torch.optim.Adam(disc3.parameters(), lr=0.01, betas=(0.5, 0.999))\n"
   ]
  },
  {
   "cell_type": "code",
   "execution_count": 20,
   "id": "26acbc37",
   "metadata": {
    "execution": {
     "iopub.execute_input": "2022-07-25T05:24:39.493566Z",
     "iopub.status.busy": "2022-07-25T05:24:39.492803Z",
     "iopub.status.idle": "2022-07-25T05:34:26.155506Z",
     "shell.execute_reply": "2022-07-25T05:34:26.151891Z"
    },
    "id": "26acbc37",
    "papermill": {
     "duration": 586.69167,
     "end_time": "2022-07-25T05:34:26.161645",
     "exception": false,
     "start_time": "2022-07-25T05:24:39.469975",
     "status": "completed"
    },
    "tags": []
   },
   "outputs": [
    {
     "data": {
      "image/png": "[encoded data removed]",
      "text/plain": [
       "<Figure size 432x288 with 1 Axes>"
      ]
     },
     "metadata": {
      "needs_background": "light"
     },
     "output_type": "display_data"
    },
    {
     "data": {
      "image/png": "[encoded data removed]",
      "text/plain": [
       "<Figure size 432x288 with 1 Axes>"
      ]
     },
     "metadata": {
      "needs_background": "light"
     },
     "output_type": "display_data"
    }
   ],
   "source": [
    "ABC_train_test2.training_GAN_skip_connection(disc3,gen3,disc_opt,gen_opt,train_data,batch_size,n_epochs,criterion,prior_model,variance,bias,device)"
   ]
  },
  {
   "cell_type": "code",
   "execution_count": 21,
   "id": "c5e0717b",
   "metadata": {
    "execution": {
     "iopub.execute_input": "2022-07-25T05:34:26.227948Z",
     "iopub.status.busy": "2022-07-25T05:34:26.226773Z",
     "iopub.status.idle": "2022-07-25T05:34:28.998530Z",
     "shell.execute_reply": "2022-07-25T05:34:28.996734Z"
    },
    "id": "c5e0717b",
    "papermill": {
     "duration": 2.809448,
     "end_time": "2022-07-25T05:34:29.001837",
     "exception": false,
     "start_time": "2022-07-25T05:34:26.192389",
     "status": "completed"
    },
    "tags": []
   },
   "outputs": [
    {
     "data": {
      "application/scrapbook.scrap.json+json": {
       "data": 0.007286801993564718,
       "encoder": "json",
       "name": "ABC-GAN Model 3 MSE",
       "version": 1
      }
     },
     "metadata": {
      "scrapbook": {
       "data": true,
       "display": false,
       "name": "ABC-GAN Model 3 MSE"
      }
     },
     "output_type": "display_data"
    },
    {
     "data": {
      "application/scrapbook.scrap.json+json": {
       "data": 0.06124024449351739,
       "encoder": "json",
       "name": "ABC-GAN Model 3 MAE",
       "version": 1
      }
     },
     "metadata": {
      "scrapbook": {
       "data": true,
       "display": false,
       "name": "ABC-GAN Model 3 MAE"
      }
     },
     "output_type": "display_data"
    },
    {
     "data": {
      "application/scrapbook.scrap.json+json": {
       "data": 9.430997652001679,
       "encoder": "json",
       "name": "ABC-GAN Model 3 Manhattan Distance",
       "version": 1
      }
     },
     "metadata": {
      "scrapbook": {
       "data": true,
       "display": false,
       "name": "ABC-GAN Model 3 Manhattan Distance"
      }
     },
     "output_type": "display_data"
    },
    {
     "data": {
      "application/scrapbook.scrap.json+json": {
       "data": 1.0591738856810635,
       "encoder": "json",
       "name": "ABC-GAN Model 3 Euclidean distance",
       "version": 1
      }
     },
     "metadata": {
      "scrapbook": {
       "data": true,
       "display": false,
       "name": "ABC-GAN Model 3 Euclidean distance"
      }
     },
     "output_type": "display_data"
    },
    {
     "data": {
      "application/scrapbook.scrap.json+json": {
       "data": [
        [
         0.007647345096699999,
         0.007506604956375334,
         0.007653933918742236,
         0.0077612075175017515,
         0.00701641613365984,
         0.0071040845127743535,
         0.0073072269014790355,
         0.007408607157609869,
         0.007283518308544679,
         0.006653064808037418,
         0.007361106692687598,
         0.006985676694763198,
         0.007165994313556722,
         0.007500173256519909,
         0.0074945449051902445,
         0.00731569310218771,
         0.006977688950529922,
         0.007295122152597041,
         0.007622600464976985,
         0.0073260347187723545,
         0.007616850560985617,
         0.007613717633019574,
         0.007111071428117719,
         0.007115083319286224,
         0.007077485726989504,
         0.007492595146718193,
         0.007020534378528819,
         0.006962524702927142,
         0.007651022525476322,
         0.007128697525897372,
         0.007474918258553917,
         0.007252525635829526,
         0.007187432495193304,
         0.00696390592455468,
         0.006836872777597136,
         0.007358579522480605,
         0.007378545392643118,
         0.007302352867742942,
         0.00742018497472737,
         0.007182435036227689,
         0.007653676129782991,
         0.006936667161230493,
         0.00706025304920689,
         0.007050339590153203,
         0.007362373150368623,
         0.0073271087236585035,
         0.007583000649701319,
         0.007435318712393534,
         0.006618655199310816,
         0.007548244096329366,
         0.0067792108342345165,
         0.007276171157585579,
         0.007596789599318555,
         0.006966561059236895,
         0.007788152155017707,
         0.007679505998115462,
         0.0072660532846050676,
         0.007077794408967601,
         0.007029474276825743,
         0.007146064725554104,
         0.0071184690754298,
         0.007197423214725659,
         0.007284324435250358,
         0.007319116886842693,
         0.007065532669402211,
         0.007246320603483991,
         0.007552582469281889,
         0.00730290161265685,
         0.007261546641866418,
         0.007189910819761187,
         0.007262709368719105,
         0.007337691158510458,
         0.007625220320529702,
         0.007395242867120314,
         0.007358736724556689,
         0.006876996690883577,
         0.007160292552573721,
         0.00728240208506562,
         0.007321181136562643,
         0.007517504751585896,
         0.007169873289504338,
         0.0074879141550370475,
         0.0073784264146046835,
         0.007657147822385042,
         0.007060109853206846,
         0.007125054606059195,
         0.00742663654952218,
         0.007509431076982098,
         0.007580186020847461,
         0.007555582193705785,
         0.007163147790179334,
         0.007500907481137783,
         0.007257443836901162,
         0.007022817732945026,
         0.007411240431474394,
         0.007414086585864083,
         0.007336865763794944,
         0.007277522426508831,
         0.006847046310836956,
         0.007107258571865939
        ],
        [
         0.06259677157580078,
         0.06334460318669097,
         0.06308754727050855,
         0.06287469352027039,
         0.05985375774371159,
         0.06066894468355488,
         0.06170260277274367,
         0.06273545711845546,
         0.06230446212477498,
         0.05869293420926317,
         0.062267678318085606,
         0.06040421742704007,
         0.06035325531061594,
         0.060794910004773696,
         0.06247847570807903,
         0.062305974253973405,
         0.06107917839250007,
         0.06175866331179421,
         0.06162065446570322,
         0.06197836779832066,
         0.06340769136493857,
         0.06255422890573353,
         0.06046922229133643,
         0.060435790810492135,
         0.06005964602355833,
         0.061870381526358716,
         0.06008220541399795,
         0.05933320604555019,
         0.062351806452134985,
         0.06268823616109885,
         0.0629567712932438,
         0.059867883560719426,
         0.05999244541510359,
         0.06015503505704465,
         0.05891629884188825,
         0.060046492458938006,
         0.06135685301639817,
         0.062327076959145536,
         0.06311388425045199,
         0.0613447047721643,
         0.06283309175209566,
         0.06064977240446326,
         0.05964625554231854,
         0.05966896554092308,
         0.059909644935812266,
         0.0618654124970947,
         0.06093024631792849,
         0.0625588484108448,
         0.05820473539945367,
         0.0619189901785417,
         0.058792142003968165,
         0.06013323864960051,
         0.0628331582025661,
         0.05973436925318334,
         0.06306233189322731,
         0.06298259403798487,
         0.06096883751935773,
         0.060238140840809064,
         0.061931310971448945,
         0.061093638010032765,
         0.0614147801677902,
         0.05997825636492147,
         0.06188884053330917,
         0.061423697980580394,
         0.06025045437665729,
         0.06012891424069931,
         0.061851723917893,
         0.060482639480720864,
         0.059859479983131604,
         0.061251377759428766,
         0.059944295796094005,
         0.05981527665605793,
         0.06203868951309811,
         0.06195751911440453,
         0.062183624786602984,
         0.05927864469394281,
         0.06124973955092492,
         0.06238270923495293,
         0.06263947936815101,
         0.06295168322402162,
         0.05958856289069374,
         0.06096893331253683,
         0.06180460816370202,
         0.06313818736703365,
         0.059988666132286,
         0.06067042546225833,
         0.06364245664376716,
         0.061684345173371305,
         0.06027484656154335,
         0.061385386756488254,
         0.06120069557196134,
         0.061769831780489386,
         0.05998001605659336,
         0.060695461178948355,
         0.06100482682322527,
         0.0626935696156768,
         0.06074220483953303,
         0.061053765429691834,
         0.06016940594493569,
         0.062407692725008186
        ],
        [
         9.63990282267332,
         9.755068890750408,
         9.715482279658318,
         9.68270280212164,
         9.217478692531586,
         9.343017481267452,
         9.502200827002525,
         9.661260396242142,
         9.594887167215347,
         9.038711868226528,
         9.589222460985184,
         9.302249483764172,
         9.294401317834854,
         9.36241614073515,
         9.62168525904417,
         9.595120035111904,
         9.406193472445011,
         9.510834150016308,
         9.489580787718296,
         9.544668640941381,
         9.764784470200539,
         9.633351251482964,
         9.31226023286581,
         9.307111784815788,
         9.249185487627983,
         9.528038755059242,
         9.252659633755684,
         9.137313731014729,
         9.602178193628788,
         9.653988368809223,
         9.695342779159546,
         9.219654068350792,
         9.238836593925953,
         9.263875398784876,
         9.073110021650791,
         9.247159838676453,
         9.448955364525318,
         9.598369851708412,
         9.719538174569607,
         9.447084534913301,
         9.676296129822731,
         9.340064950287342,
         9.185523353517056,
         9.189020693302155,
         9.22608532011509,
         9.527273524552584,
         9.383257932960987,
         9.6340626552701,
         8.963529251515865,
         9.535524487495422,
         9.053989868611097,
         9.260518752038479,
         9.676306363195181,
         9.199092864990234,
         9.711599111557007,
         9.69931948184967,
         9.38920097798109,
         9.276673689484596,
         9.537421889603138,
         9.408420253545046,
         9.457876145839691,
         9.236651480197906,
         9.530881442129612,
         9.45924948900938,
         9.278569974005222,
         9.259852793067694,
         9.525165483355522,
         9.314326480031013,
         9.218359917402267,
         9.43271217495203,
         9.231421552598476,
         9.21155260503292,
         9.553958185017109,
         9.541457943618298,
         9.57627821713686,
         9.128911282867193,
         9.432459890842438,
         9.60693722218275,
         9.646479822695255,
         9.694559216499329,
         9.176638685166836,
         9.389215730130672,
         9.517909657210112,
         9.723280854523182,
         9.238254584372044,
         9.343245521187782,
         9.800938323140144,
         9.49938915669918,
         9.282326370477676,
         9.453349560499191,
         9.424907118082047,
         9.512554094195366,
         9.236922472715378,
         9.347101021558046,
         9.394743330776691,
         9.654809720814228,
         9.354299545288086,
         9.402279876172543,
         9.266088515520096,
         9.61078467965126
        ],
        [
         1.0852147920535362,
         1.0751823860544782,
         1.085682192672563,
         1.0932639012129093,
         1.0394845283041088,
         1.0459584193299705,
         1.060807684185862,
         1.0681411434224972,
         1.059085369323871,
         1.0122114306990229,
         1.064711430705001,
         1.037204999502766,
         1.0505061276773853,
         1.0747216762976664,
         1.0743183491867285,
         1.061422035637525,
         1.0366118359258725,
         1.0599286822706253,
         1.0834576464294559,
         1.0621719948722723,
         1.0830489307467992,
         1.082826170483986,
         1.0464726465274325,
         1.0467678019360733,
         1.043998468368792,
         1.074178594366226,
         1.0397895432699051,
         1.0354848160406698,
         1.0854756878545708,
         1.0477687812624479,
         1.0729107194064673,
         1.0568296683561391,
         1.052076330053941,
         1.0355875203870606,
         1.0260986345132512,
         1.0645286499019242,
         1.0659718525678998,
         1.0604538375772954,
         1.0689754375606648,
         1.0517105093984105,
         1.0856639093138265,
         1.0335602269967126,
         1.0427266993694277,
         1.0419943842860158,
         1.0648030170678369,
         1.062249849820375,
         1.0806396717009805,
         1.070064989478959,
         1.0095904618675169,
         1.0781602806794184,
         1.0217624325018588,
         1.05855106549858,
         1.0816217445553955,
         1.035784921266226,
         1.0951600028638404,
         1.0874943327253623,
         1.0578148258694338,
         1.0440212349282032,
         1.0404513629339742,
         1.0490443116166888,
         1.0470168277617076,
         1.0528072829667126,
         1.0591439765341422,
         1.061670382262675,
         1.0431164992885218,
         1.0563774765378777,
         1.0784700738868052,
         1.0604936814282087,
         1.0574867293954229,
         1.052257699540955,
         1.0575713889770004,
         1.063016668924157,
         1.0836438203402323,
         1.067177305576036,
         1.064540020657622,
         1.0291051891794496,
         1.0500881168246563,
         1.0590042120313334,
         1.0618200859988696,
         1.0759626999781302,
         1.050790410397653,
         1.0738429959150013,
         1.0659632582078622,
         1.0859101089166159,
         1.0427161250282142,
         1.0475010307074242,
         1.069440053778806,
         1.075384761773777,
         1.0804390992603465,
         1.0786842252627462,
         1.0502974624779484,
         1.0747742796025677,
         1.0571879449193406,
         1.0399586197890442,
         1.0683309536127168,
         1.068536070623294,
         1.0629568794755606,
         1.058649353507742,
         1.0268617881043638,
         1.0461920569701122
        ]
       ],
       "encoder": "json",
       "name": "ABC_GAN_3 Metrics",
       "version": 1
      }
     },
     "metadata": {
      "scrapbook": {
       "data": true,
       "display": false,
       "name": "ABC_GAN_3 Metrics"
      }
     },
     "output_type": "display_data"
    },
    {
     "name": "stdout",
     "output_type": "stream",
     "text": [
      "MAE\n",
      "0.06124024449351739\n"
     ]
    }
   ],
   "source": [
    "ABC_GAN3_metrics=ABC_train_test2.test_generator(gen3,test_data,prior_model,variance,bias,\"3\",device)\n",
    "sb.glue(\"ABC_GAN_3 Metrics\",ABC_GAN3_metrics)\n",
    "\n",
    "print(\"MAE\")\n",
    "print(mean(ABC_GAN3_metrics[1]))"
   ]
  },
  {
   "cell_type": "code",
   "execution_count": 22,
   "id": "c8e46b48",
   "metadata": {
    "execution": {
     "iopub.execute_input": "2022-07-25T05:34:29.057094Z",
     "iopub.status.busy": "2022-07-25T05:34:29.056730Z",
     "iopub.status.idle": "2022-07-25T05:34:31.153988Z",
     "shell.execute_reply": "2022-07-25T05:34:31.152654Z"
    },
    "id": "c8e46b48",
    "papermill": {
     "duration": 2.134675,
     "end_time": "2022-07-25T05:34:31.158143",
     "exception": false,
     "start_time": "2022-07-25T05:34:29.023468",
     "status": "completed"
    },
    "tags": []
   },
   "outputs": [
    {
     "data": {
      "image/png": "[encoded data removed]",
      "text/plain": [
       "<Figure size 432x288 with 1 Axes>"
      ]
     },
     "metadata": {
      "needs_background": "light"
     },
     "output_type": "display_data"
    },
    {
     "data": {
      "image/png": "[encoded data removed]",
      "text/plain": [
       "<Figure size 432x288 with 1 Axes>"
      ]
     },
     "metadata": {
      "needs_background": "light"
     },
     "output_type": "display_data"
    },
    {
     "data": {
      "image/png": "[encoded data removed]",
      "text/plain": [
       "<Figure size 432x288 with 1 Axes>"
      ]
     },
     "metadata": {
      "needs_background": "light"
     },
     "output_type": "display_data"
    },
    {
     "data": {
      "image/png": "[encoded data removed]",
      "text/plain": [
       "<Figure size 432x288 with 1 Axes>"
      ]
     },
     "metadata": {
      "needs_background": "light"
     },
     "output_type": "display_data"
    }
   ],
   "source": [
    "sanityChecks.discProbVsError(train_data,disc3,device)\n",
    "sanityChecks.discProbVsError(test_data,disc3,device)"
   ]
  },
  {
   "cell_type": "markdown",
   "id": "d93a7a9e",
   "metadata": {
    "id": "130f3a4d",
    "papermill": {
     "duration": 0.023298,
     "end_time": "2022-07-25T05:34:31.207350",
     "exception": false,
     "start_time": "2022-07-25T05:34:31.184052",
     "status": "completed"
    },
    "tags": []
   },
   "source": [
    "# skipGAN Model with TabNet Generator"
   ]
  },
  {
   "cell_type": "code",
   "execution_count": 23,
   "id": "ec3d9a14",
   "metadata": {
    "execution": {
     "iopub.execute_input": "2022-07-25T05:34:31.257892Z",
     "iopub.status.busy": "2022-07-25T05:34:31.257408Z",
     "iopub.status.idle": "2022-07-25T05:34:31.285051Z",
     "shell.execute_reply": "2022-07-25T05:34:31.284106Z"
    },
    "id": "4e43dad1",
    "papermill": {
     "duration": 0.059875,
     "end_time": "2022-07-25T05:34:31.293075",
     "exception": false,
     "start_time": "2022-07-25T05:34:31.233200",
     "status": "completed"
    },
    "tags": []
   },
   "outputs": [],
   "source": [
    "#Generator\n",
    "gen4 = network.GeneratorTabnetskipConnection(n_features+1).to(device)\n",
    "constraints=network.weightConstraint()\n",
    "#Discriminator \n",
    "disc4 = network.Discriminator(n_features+1).to(device)\n",
    "\n",
    "criterion = torch.nn.BCELoss()\n",
    "gen_opt = torch.optim.Adam(gen4.parameters(), lr=0.01, betas=(0.5, 0.999))\n",
    "disc_opt = torch.optim.Adam(disc4.parameters(), lr=0.01, betas=(0.5, 0.999))\n"
   ]
  },
  {
   "cell_type": "code",
   "execution_count": 24,
   "id": "94cf3d51",
   "metadata": {
    "execution": {
     "iopub.execute_input": "2022-07-25T05:34:31.365450Z",
     "iopub.status.busy": "2022-07-25T05:34:31.364845Z",
     "iopub.status.idle": "2022-07-25T06:06:28.557739Z",
     "shell.execute_reply": "2022-07-25T06:06:28.549116Z"
    },
    "id": "26acbc37",
    "papermill": {
     "duration": 1917.254282,
     "end_time": "2022-07-25T06:06:28.575947",
     "exception": false,
     "start_time": "2022-07-25T05:34:31.321665",
     "status": "completed"
    },
    "tags": []
   },
   "outputs": [
    {
     "data": {
      "image/png": "[encoded data removed]",
      "text/plain": [
       "<Figure size 432x288 with 1 Axes>"
      ]
     },
     "metadata": {
      "needs_background": "light"
     },
     "output_type": "display_data"
    },
    {
     "data": {
      "image/png": "[encoded data removed]",
      "text/plain": [
       "<Figure size 432x288 with 1 Axes>"
      ]
     },
     "metadata": {
      "needs_background": "light"
     },
     "output_type": "display_data"
    }
   ],
   "source": [
    "ABC_train_test2.training_GAN_skip_connection(disc4,gen4,disc_opt,gen_opt,train_data,batch_size,n_epochs,criterion,prior_model,variance,bias,device)"
   ]
  },
  {
   "cell_type": "code",
   "execution_count": 25,
   "id": "89a81aee",
   "metadata": {
    "execution": {
     "iopub.execute_input": "2022-07-25T06:06:28.676152Z",
     "iopub.status.busy": "2022-07-25T06:06:28.674852Z",
     "iopub.status.idle": "2022-07-25T06:06:34.016704Z",
     "shell.execute_reply": "2022-07-25T06:06:34.015099Z"
    },
    "id": "c5e0717b",
    "papermill": {
     "duration": 5.409281,
     "end_time": "2022-07-25T06:06:34.023251",
     "exception": false,
     "start_time": "2022-07-25T06:06:28.613970",
     "status": "completed"
    },
    "tags": []
   },
   "outputs": [
    {
     "data": {
      "application/scrapbook.scrap.json+json": {
       "data": 0.012289056384848174,
       "encoder": "json",
       "name": "ABC-GAN Model 3 MSE",
       "version": 1
      }
     },
     "metadata": {
      "scrapbook": {
       "data": true,
       "display": false,
       "name": "ABC-GAN Model 3 MSE"
      }
     },
     "output_type": "display_data"
    },
    {
     "data": {
      "application/scrapbook.scrap.json+json": {
       "data": 0.08088510326170302,
       "encoder": "json",
       "name": "ABC-GAN Model 3 MAE",
       "version": 1
      }
     },
     "metadata": {
      "scrapbook": {
       "data": true,
       "display": false,
       "name": "ABC-GAN Model 3 MAE"
      }
     },
     "output_type": "display_data"
    },
    {
     "data": {
      "application/scrapbook.scrap.json+json": {
       "data": 12.456305902302265,
       "encoder": "json",
       "name": "ABC-GAN Model 3 Manhattan Distance",
       "version": 1
      }
     },
     "metadata": {
      "scrapbook": {
       "data": true,
       "display": false,
       "name": "ABC-GAN Model 3 Manhattan Distance"
      }
     },
     "output_type": "display_data"
    },
    {
     "data": {
      "application/scrapbook.scrap.json+json": {
       "data": 1.3756848613473724,
       "encoder": "json",
       "name": "ABC-GAN Model 3 Euclidean distance",
       "version": 1
      }
     },
     "metadata": {
      "scrapbook": {
       "data": true,
       "display": false,
       "name": "ABC-GAN Model 3 Euclidean distance"
      }
     },
     "output_type": "display_data"
    },
    {
     "data": {
      "application/scrapbook.scrap.json+json": {
       "data": [
        [
         0.012282891357048057,
         0.01235872118357718,
         0.01234968878975246,
         0.012353422132580585,
         0.012304774332831859,
         0.012228251697334278,
         0.012246902731032544,
         0.012260477521846728,
         0.012311308424144244,
         0.012291362023089038,
         0.012300877834939933,
         0.012328744112160051,
         0.012392194166686776,
         0.012342927404434167,
         0.012301519906171123,
         0.012267317944947377,
         0.012266546564646773,
         0.012327611405833936,
         0.012300434100247323,
         0.012275655253309849,
         0.012319218052398924,
         0.012269774901519506,
         0.012301550392846847,
         0.012329923935754895,
         0.012240102122800146,
         0.012296948601818593,
         0.012368249163085635,
         0.012275201932133448,
         0.01226743053416618,
         0.012291402541287468,
         0.012338152733170477,
         0.01229551985728359,
         0.012247307871451259,
         0.012256690797201571,
         0.012259692060845864,
         0.012279062329069394,
         0.012315224817352416,
         0.012356382707433396,
         0.012327258550779492,
         0.012319489016021269,
         0.012248342162399482,
         0.012193163174641326,
         0.012337470270953499,
         0.01221134625178658,
         0.012285333537204653,
         0.012294058427393636,
         0.012278217962926243,
         0.01227076225409792,
         0.012265532130783541,
         0.012281374513803461,
         0.012274623402900673,
         0.012209247926414394,
         0.012261794459887038,
         0.012312052665426884,
         0.012280540109478946,
         0.012249311985147946,
         0.012282917295155108,
         0.012199560741769143,
         0.012276484360793729,
         0.012210315705829526,
         0.012352595910587742,
         0.012331251764799194,
         0.01222332179156498,
         0.012290401880995137,
         0.012330715706604494,
         0.012319586834308794,
         0.012257146055943543,
         0.012284844556843949,
         0.01234483342654519,
         0.012340525973370034,
         0.012277681564148213,
         0.012307325949292262,
         0.012311908451252296,
         0.012177117571945366,
         0.01223773841010173,
         0.01233462973792267,
         0.012257532156897925,
         0.012277982379548906,
         0.01222293851017895,
         0.012259884285696746,
         0.012381568893076332,
         0.012290184293584302,
         0.012319210195044446,
         0.012288784489868318,
         0.012242125149348014,
         0.012267058753994267,
         0.01234244664960528,
         0.012319402112121078,
         0.012335349729297548,
         0.012313069976005385,
         0.012270439778271965,
         0.01229646012057278,
         0.01228289466887694,
         0.012317207899054973,
         0.012319890489154892,
         0.012294097152949858,
         0.01221206204334001,
         0.012313742376972388,
         0.012282064504779516,
         0.0122089551465226
        ],
        [
         0.08089109940768836,
         0.08102083530325394,
         0.08111200467139096,
         0.08109459605116348,
         0.08098342429314341,
         0.0806910517057041,
         0.08078083932980315,
         0.08082986008617785,
         0.08089590048441639,
         0.0808751689052427,
         0.08100853449144921,
         0.08100272710253666,
         0.08123371309854767,
         0.0810941718518734,
         0.08082292756283438,
         0.08090193526117832,
         0.08083854475385183,
         0.08101411410546921,
         0.08090751855210825,
         0.08087971182419108,
         0.08095530212506072,
         0.0808356459941957,
         0.08092013499760009,
         0.08089117236532174,
         0.080690571191636,
         0.08083625752236936,
         0.08118088267646827,
         0.0807979367673397,
         0.08088145700174493,
         0.08083511245521632,
         0.08109916316030862,
         0.08095225454731421,
         0.08075118118098804,
         0.0807322913466336,
         0.08066767159026939,
         0.08091467981795211,
         0.08096670944775854,
         0.08118177423035944,
         0.08099158935539134,
         0.08104704412353503,
         0.08063646178547439,
         0.08058803610793956,
         0.0810338594987021,
         0.08064940915285766,
         0.08084774399539094,
         0.08093877886603405,
         0.08090263426110342,
         0.08087506459711434,
         0.08082265256867781,
         0.08087717378874879,
         0.08083629622668415,
         0.08066086775877258,
         0.08080267011151686,
         0.08095943400418604,
         0.08087503053731733,
         0.0807476830850174,
         0.08086811794669597,
         0.08059972423044118,
         0.08087009631774643,
         0.0806338455673162,
         0.08106735982484632,
         0.08089462401611465,
         0.08077815363739992,
         0.0809289011378567,
         0.08098925258238594,
         0.08106665172940725,
         0.08079409381592428,
         0.080909444091769,
         0.08102331953969868,
         0.08101327654409718,
         0.08077067383504533,
         0.08088813678591282,
         0.08089652962305328,
         0.08054672544459243,
         0.08077514244170932,
         0.0809626631051689,
         0.08082896601650622,
         0.08086323733260105,
         0.08074027933664137,
         0.08080279938392824,
         0.08112315035292081,
         0.0808644091057313,
         0.08104683957123138,
         0.08097928660837087,
         0.08072141717587199,
         0.08086496954420944,
         0.08100771841097187,
         0.08108575830792451,
         0.08098895533324836,
         0.08095390760859886,
         0.08086337376531068,
         0.0809145863470319,
         0.08069497148518438,
         0.0809710141416494,
         0.08096420295633279,
         0.08089199599314045,
         0.0806698241307364,
         0.08090849351379778,
         0.08076487167121528,
         0.08065725877494007
        ],
        [
         12.457229308784008,
         12.477208636701107,
         12.491248719394207,
         12.488567791879177,
         12.471447341144085,
         12.426421962678432,
         12.440249256789684,
         12.447798453271389,
         12.457968674600124,
         12.454776011407375,
         12.475314311683178,
         12.474419973790646,
         12.509991817176342,
         12.488502465188503,
         12.446730844676495,
         12.458898030221462,
         12.449135892093182,
         12.47617357224226,
         12.45975785702467,
         12.455475620925426,
         12.46711652725935,
         12.448689483106136,
         12.461700789630413,
         12.457240544259548,
         12.426347963511944,
         12.448783658444881,
         12.501855932176113,
         12.442882262170315,
         12.455744378268719,
         12.448607318103313,
         12.489271126687527,
         12.466647200286388,
         12.435681901872158,
         12.432772867381573,
         12.422821424901485,
         12.460860691964626,
         12.468873254954815,
         12.501993231475353,
         12.472704760730267,
         12.481244795024395,
         12.418015114963055,
         12.410557560622692,
         12.479214362800121,
         12.420009009540081,
         12.450552575290203,
         12.464571945369244,
         12.459005676209927,
         12.454759947955608,
         12.446688495576382,
         12.455084763467312,
         12.448789618909359,
         12.421773634850979,
         12.443611197173595,
         12.46775283664465,
         12.454754702746868,
         12.435143195092678,
         12.45369016379118,
         12.412357531487942,
         12.453994832932949,
         12.417612217366695,
         12.484373413026333,
         12.457772098481655,
         12.439835660159588,
         12.46305077522993,
         12.472344897687435,
         12.484264366328716,
         12.44229044765234,
         12.460054390132427,
         12.477591209113598,
         12.476044587790966,
         12.438683770596981,
         12.456773065030575,
         12.458065561950207,
         12.404195718467236,
         12.439371936023235,
         12.46825011819601,
         12.447660766541958,
         12.452938549220562,
         12.43400301784277,
         12.44363110512495,
         12.492965154349804,
         12.45311900228262,
         12.481213293969631,
         12.470810137689114,
         12.431098245084286,
         12.453205309808254,
         12.475188635289669,
         12.487206779420376,
         12.472299121320248,
         12.466901771724224,
         12.452959559857845,
         12.460846297442913,
         12.427025608718395,
         12.469536177814007,
         12.46848725527525,
         12.45736738294363,
         12.423152916133404,
         12.459908001124859,
         12.437790237367153,
         12.42121785134077
        ],
        [
         1.3753418734937872,
         1.3795807559801947,
         1.3790765292839549,
         1.3792849627315633,
         1.3765664703370144,
         1.372279403543418,
         1.373325533360176,
         1.3740864377339572,
         1.3769319145543157,
         1.375816031145048,
         1.3763484975037208,
         1.377906598167179,
         1.3814477556787168,
         1.3786989592666203,
         1.3763844177955347,
         1.3744697026569541,
         1.374426488014402,
         1.3778432989634293,
         1.3763236724833616,
         1.3749366927279658,
         1.3773741612464763,
         1.374607338418504,
         1.3763861233311,
         1.3779725273408951,
         1.372944182008585,
         1.3761286584764025,
         1.3801124487211858,
         1.3749113053388393,
         1.374476010071326,
         1.3758182988164789,
         1.3784322692494737,
         1.3760487120816882,
         1.3733482486985935,
         1.3738742237807076,
         1.3740424219689373,
         1.375127484517958,
         1.3771509074434334,
         1.3794502299629163,
         1.3778235797155025,
         1.3773893089708789,
         1.3734062374292322,
         1.3703091362516577,
         1.3783941459999163,
         1.3713304936357003,
         1.3754785947914698,
         1.3759669319495362,
         1.375080203584737,
         1.3746626448445742,
         1.3743696548384154,
         1.375256948764751,
         1.3748789052300947,
         1.3712126679212882,
         1.37416023331437,
         1.3769735329612331,
         1.3752102300593019,
         1.3734606094507347,
         1.375343325665954,
         1.3706685792825515,
         1.3749831241008865,
         1.37127262741504,
         1.3792388372687714,
         1.3780467233657485,
         1.3720027536054755,
         1.3757622940294778,
         1.3780167701508905,
         1.3773947772819362,
         1.3738997389239527,
         1.3754512211467074,
         1.378805406026521,
         1.3785648334042855,
         1.375050166677138,
         1.3767091908573168,
         1.3769654685186747,
         1.3694072097369672,
         1.372811609491873,
         1.3782354587080146,
         1.3739213777222772,
         1.3750670116218087,
         1.3719812427899873,
         1.3740531940202676,
         1.3808553905220327,
         1.3757501158320804,
         1.377373721992998,
         1.3756717673339527,
         1.3730576364448779,
         1.3744551822868278,
         1.3786721089654397,
         1.377384450785853,
         1.3782756829864709,
         1.3770304195277712,
         1.3746445816478827,
         1.3761013256908838,
         1.3753420589100913,
         1.3772617821076956,
         1.377411752283918,
         1.375969099055018,
         1.3713706846343048,
         1.3770680179474606,
         1.3752955804975326,
         1.3711962268634204
        ]
       ],
       "encoder": "json",
       "name": "ABC_GAN_4 Metrics",
       "version": 1
      }
     },
     "metadata": {
      "scrapbook": {
       "data": true,
       "display": false,
       "name": "ABC_GAN_4 Metrics"
      }
     },
     "output_type": "display_data"
    },
    {
     "name": "stdout",
     "output_type": "stream",
     "text": [
      "MAE\n",
      "0.08088510326170302\n"
     ]
    }
   ],
   "source": [
    "ABC_GAN4_metrics=ABC_train_test2.test_generator(gen4,test_data,prior_model,variance,bias,\"3\",device)\n",
    "sb.glue(\"ABC_GAN_4 Metrics\",ABC_GAN4_metrics)\n",
    "\n",
    "print(\"MAE\")\n",
    "print(mean(ABC_GAN4_metrics[1]))"
   ]
  },
  {
   "cell_type": "code",
   "execution_count": 26,
   "id": "78a71e1e",
   "metadata": {
    "execution": {
     "iopub.execute_input": "2022-07-25T06:06:34.122113Z",
     "iopub.status.busy": "2022-07-25T06:06:34.121691Z",
     "iopub.status.idle": "2022-07-25T06:06:35.977220Z",
     "shell.execute_reply": "2022-07-25T06:06:35.972016Z"
    },
    "id": "c8e46b48",
    "papermill": {
     "duration": 1.930327,
     "end_time": "2022-07-25T06:06:35.996307",
     "exception": false,
     "start_time": "2022-07-25T06:06:34.065980",
     "status": "completed"
    },
    "tags": []
   },
   "outputs": [
    {
     "data": {
      "image/png": "[encoded data removed]",
      "text/plain": [
       "<Figure size 432x288 with 1 Axes>"
      ]
     },
     "metadata": {
      "needs_background": "light"
     },
     "output_type": "display_data"
    },
    {
     "data": {
      "image/png": "[encoded data removed]",
      "text/plain": [
       "<Figure size 432x288 with 1 Axes>"
      ]
     },
     "metadata": {
      "needs_background": "light"
     },
     "output_type": "display_data"
    },
    {
     "data": {
      "image/png": "[encoded data removed]",
      "text/plain": [
       "<Figure size 432x288 with 1 Axes>"
      ]
     },
     "metadata": {
      "needs_background": "light"
     },
     "output_type": "display_data"
    },
    {
     "data": {
      "image/png": "[encoded data removed]",
      "text/plain": [
       "<Figure size 432x288 with 1 Axes>"
      ]
     },
     "metadata": {
      "needs_background": "light"
     },
     "output_type": "display_data"
    }
   ],
   "source": [
    "sanityChecks.discProbVsError(train_data,disc4,device)\n",
    "sanityChecks.discProbVsError(test_data,disc4,device)"
   ]
  },
  {
   "cell_type": "markdown",
   "id": "a5bd74c3",
   "metadata": {
    "id": "a5bd74c3",
    "papermill": {
     "duration": 0.069305,
     "end_time": "2022-07-25T06:06:36.126857",
     "exception": false,
     "start_time": "2022-07-25T06:06:36.057552",
     "status": "completed"
    },
    "tags": []
   },
   "source": [
    "## Skip Connection Model Analysis - ABC-GAN "
   ]
  },
  {
   "cell_type": "markdown",
   "id": "5744a8bf",
   "metadata": {
    "id": "5744a8bf",
    "papermill": {
     "duration": 0.086738,
     "end_time": "2022-07-25T06:06:36.297249",
     "exception": false,
     "start_time": "2022-07-25T06:06:36.210511",
     "status": "completed"
    },
    "tags": []
   },
   "source": [
    "### Weight Analysis \n",
    "\n",
    "Study the weights of the skip connection layer\n",
    "\n",
    "Equation of the skip connection is \n",
    "\n",
    "$output = y_{gan} * w + y_{abc} * (1-w)$"
   ]
  },
  {
   "cell_type": "code",
   "execution_count": 27,
   "id": "52c31dea",
   "metadata": {
    "execution": {
     "iopub.execute_input": "2022-07-25T06:06:36.502753Z",
     "iopub.status.busy": "2022-07-25T06:06:36.502123Z",
     "iopub.status.idle": "2022-07-25T06:06:36.588721Z",
     "shell.execute_reply": "2022-07-25T06:06:36.586283Z"
    },
    "id": "52c31dea",
    "papermill": {
     "duration": 0.212882,
     "end_time": "2022-07-25T06:06:36.593866",
     "exception": false,
     "start_time": "2022-07-25T06:06:36.380984",
     "status": "completed"
    },
    "tags": []
   },
   "outputs": [
    {
     "name": "stdout",
     "output_type": "stream",
     "text": [
      "Weight of the node at skip connection\n",
      "Parameter containing:\n",
      "tensor([[0.9160]], requires_grad=True)\n"
     ]
    },
    {
     "data": {
      "application/scrapbook.scrap.json+json": {
       "data": 0.9159729480743408,
       "encoder": "json",
       "name": "Skip Connection Weight",
       "version": 1
      }
     },
     "metadata": {
      "scrapbook": {
       "data": true,
       "display": false,
       "name": "Skip Connection Weight"
      }
     },
     "output_type": "display_data"
    }
   ],
   "source": [
    "print(\"Weight of the node at skip connection\")\n",
    "for name,param in gen3.named_parameters():\n",
    "    if(name == \"skipNode.weight\"):\n",
    "        print(param)\n",
    "        sb.glue(\"Skip Connection Weight\",param.item())"
   ]
  },
  {
   "cell_type": "markdown",
   "id": "e387a0eb",
   "metadata": {
    "id": "a5bd74c3",
    "papermill": {
     "duration": 0.066177,
     "end_time": "2022-07-25T06:06:36.715494",
     "exception": false,
     "start_time": "2022-07-25T06:06:36.649317",
     "status": "completed"
    },
    "tags": []
   },
   "source": [
    "## skipGAN Model Analysis (TabNet Generator) "
   ]
  },
  {
   "cell_type": "markdown",
   "id": "907562fe",
   "metadata": {
    "id": "5744a8bf",
    "papermill": {
     "duration": 0.029727,
     "end_time": "2022-07-25T06:06:36.799678",
     "exception": false,
     "start_time": "2022-07-25T06:06:36.769951",
     "status": "completed"
    },
    "tags": []
   },
   "source": [
    "### Weight Analysis \n",
    "\n",
    "Study the weights of the skip connection layer\n",
    "\n",
    "Equation of the skip connection is \n",
    "\n",
    "$output = y_{gan} * w + y_{abc} * (1-w)$"
   ]
  },
  {
   "cell_type": "code",
   "execution_count": 28,
   "id": "30c20665",
   "metadata": {
    "execution": {
     "iopub.execute_input": "2022-07-25T06:06:36.869568Z",
     "iopub.status.busy": "2022-07-25T06:06:36.868816Z",
     "iopub.status.idle": "2022-07-25T06:06:36.896540Z",
     "shell.execute_reply": "2022-07-25T06:06:36.894259Z"
    },
    "id": "52c31dea",
    "papermill": {
     "duration": 0.077637,
     "end_time": "2022-07-25T06:06:36.906272",
     "exception": false,
     "start_time": "2022-07-25T06:06:36.828635",
     "status": "completed"
    },
    "tags": []
   },
   "outputs": [
    {
     "name": "stdout",
     "output_type": "stream",
     "text": [
      "Weight of the node at skip connection\n",
      "Parameter containing:\n",
      "tensor([[1.]], requires_grad=True)\n"
     ]
    },
    {
     "data": {
      "application/scrapbook.scrap.json+json": {
       "data": 1.0,
       "encoder": "json",
       "name": "Skip Connection Weight",
       "version": 1
      }
     },
     "metadata": {
      "scrapbook": {
       "data": true,
       "display": false,
       "name": "Skip Connection Weight"
      }
     },
     "output_type": "display_data"
    }
   ],
   "source": [
    "print(\"Weight of the node at skip connection\")\n",
    "for name,param in gen4.named_parameters():\n",
    "    if(name == \"skipNode.weight\"):\n",
    "        print(param)\n",
    "        sb.glue(\"Skip Connection Weight\",param.item())"
   ]
  }
 ],
 "metadata": {
  "colab": {
   "collapsed_sections": [],
   "name": "ABC_GAN_Model-Catboost_Pre-gen.ipynb",
   "provenance": []
  },
  "interpreter": {
   "hash": "31f2aee4e71d21fbe5cf8b01ff0e069b9275f58929596ceb00d14d90e3e16cd6"
  },
  "kernelspec": {
   "display_name": "Python 3 (ipykernel)",
   "language": "python",
   "name": "python3"
  },
  "language_info": {
   "codemirror_mode": {
    "name": "ipython",
    "version": 3
   },
   "file_extension": ".py",
   "mimetype": "text/x-python",
   "name": "python",
   "nbconvert_exporter": "python",
   "pygments_lexer": "ipython3",
   "version": "3.8.13"
  },
  "papermill": {
   "default_parameters": {},
   "duration": 3878.386443,
   "end_time": "2022-07-25T06:06:38.942330",
   "environment_variables": {},
   "exception": null,
   "input_path": "ABC_GAN-Catboost.ipynb",
   "output_path": "./ABC_GAN_Catboost/ABC-GAN_output_2_6.ipynb",
   "parameters": {
    "bias": 0.01,
    "variance": 1
   },
   "start_time": "2022-07-25T05:02:00.555887",
   "version": "2.3.3"
  }
 },
 "nbformat": 4,
 "nbformat_minor": 5
}