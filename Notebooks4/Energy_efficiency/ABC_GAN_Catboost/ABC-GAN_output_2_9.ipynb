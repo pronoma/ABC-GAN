{
 "cells": [
  {
   "cell_type": "markdown",
   "id": "4ab49d83",
   "metadata": {
    "tags": [
     "papermill-error-cell-tag"
    ]
   },
   "source": [
    "<span style=\"color:red; font-family:Helvetica Neue, Helvetica, Arial, sans-serif; font-size:2em;\">An Exception was encountered at '<a href=\"#papermill-error-cell\">In [20]</a>'.</span>"
   ]
  },
  {
   "cell_type": "markdown",
   "id": "622780e6",
   "metadata": {
    "id": "622780e6",
    "papermill": {
     "duration": 0.01353,
     "end_time": "2022-07-24T12:29:20.565310",
     "exception": false,
     "start_time": "2022-07-24T12:29:20.551780",
     "status": "completed"
    },
    "tags": []
   },
   "source": [
    "## Import Libraries "
   ]
  },
  {
   "cell_type": "code",
   "execution_count": 1,
   "id": "a62397e3",
   "metadata": {
    "execution": {
     "iopub.execute_input": "2022-07-24T12:29:20.602396Z",
     "iopub.status.busy": "2022-07-24T12:29:20.601073Z",
     "iopub.status.idle": "2022-07-24T12:29:20.628076Z",
     "shell.execute_reply": "2022-07-24T12:29:20.627055Z"
    },
    "id": "a62397e3",
    "papermill": {
     "duration": 0.053725,
     "end_time": "2022-07-24T12:29:20.633418",
     "exception": false,
     "start_time": "2022-07-24T12:29:20.579693",
     "status": "completed"
    },
    "tags": []
   },
   "outputs": [],
   "source": [
    "import warnings\n",
    "import sys\n",
    "sys.path.insert(0, '../../src')\n",
    "warnings.filterwarnings('ignore')"
   ]
  },
  {
   "cell_type": "code",
   "execution_count": 2,
   "id": "d6a4e155",
   "metadata": {
    "execution": {
     "iopub.execute_input": "2022-07-24T12:29:20.683413Z",
     "iopub.status.busy": "2022-07-24T12:29:20.681672Z",
     "iopub.status.idle": "2022-07-24T12:29:30.075642Z",
     "shell.execute_reply": "2022-07-24T12:29:30.072631Z"
    },
    "id": "d6a4e155",
    "papermill": {
     "duration": 9.434431,
     "end_time": "2022-07-24T12:29:30.079348",
     "exception": false,
     "start_time": "2022-07-24T12:29:20.644917",
     "status": "completed"
    },
    "tags": []
   },
   "outputs": [],
   "source": [
    "import ABC_train_test2\n",
    "import energyefficiencyDataset\n",
    "import network\n",
    "import dataset\n",
    "import sanityChecks\n",
    "import torch \n",
    "import scrapbook as sb\n",
    "from statistics import mean \n",
    "import catboost as ctb \n",
    "from sklearn.model_selection import train_test_split\n",
    "from sklearn.metrics import mean_squared_error,mean_absolute_error\n",
    "import numpy as np"
   ]
  },
  {
   "cell_type": "markdown",
   "id": "2fa5b0f7",
   "metadata": {
    "id": "2fa5b0f7",
    "papermill": {
     "duration": 0.015273,
     "end_time": "2022-07-24T12:29:30.110924",
     "exception": false,
     "start_time": "2022-07-24T12:29:30.095651",
     "status": "completed"
    },
    "tags": []
   },
   "source": [
    "## Parameters "
   ]
  },
  {
   "cell_type": "code",
   "execution_count": 3,
   "id": "783186fb",
   "metadata": {
    "execution": {
     "iopub.execute_input": "2022-07-24T12:29:30.151780Z",
     "iopub.status.busy": "2022-07-24T12:29:30.149391Z",
     "iopub.status.idle": "2022-07-24T12:29:30.160672Z",
     "shell.execute_reply": "2022-07-24T12:29:30.157849Z"
    },
    "id": "783186fb",
    "papermill": {
     "duration": 0.040354,
     "end_time": "2022-07-24T12:29:30.168417",
     "exception": false,
     "start_time": "2022-07-24T12:29:30.128063",
     "status": "completed"
    },
    "tags": [
     "parameters"
    ]
   },
   "outputs": [],
   "source": [
    "variance = 1\n",
    "bias = 1 "
   ]
  },
  {
   "cell_type": "code",
   "execution_count": 4,
   "id": "dce33686",
   "metadata": {
    "execution": {
     "iopub.execute_input": "2022-07-24T12:29:30.209240Z",
     "iopub.status.busy": "2022-07-24T12:29:30.207714Z",
     "iopub.status.idle": "2022-07-24T12:29:30.217096Z",
     "shell.execute_reply": "2022-07-24T12:29:30.215241Z"
    },
    "papermill": {
     "duration": 0.039026,
     "end_time": "2022-07-24T12:29:30.225070",
     "exception": false,
     "start_time": "2022-07-24T12:29:30.186044",
     "status": "completed"
    },
    "tags": [
     "injected-parameters"
    ]
   },
   "outputs": [],
   "source": [
    "# Parameters\n",
    "variance = 1\n",
    "bias = 0\n"
   ]
  },
  {
   "cell_type": "markdown",
   "id": "391cdbfd",
   "metadata": {
    "id": "391cdbfd",
    "papermill": {
     "duration": 0.017757,
     "end_time": "2022-07-24T12:29:30.259808",
     "exception": false,
     "start_time": "2022-07-24T12:29:30.242051",
     "status": "completed"
    },
    "tags": []
   },
   "source": [
    "## Dataset \n"
   ]
  },
  {
   "cell_type": "code",
   "execution_count": 5,
   "id": "5b51f161",
   "metadata": {
    "execution": {
     "iopub.execute_input": "2022-07-24T12:29:30.293564Z",
     "iopub.status.busy": "2022-07-24T12:29:30.292748Z",
     "iopub.status.idle": "2022-07-24T12:29:30.301097Z",
     "shell.execute_reply": "2022-07-24T12:29:30.297077Z"
    },
    "id": "5b51f161",
    "papermill": {
     "duration": 0.037251,
     "end_time": "2022-07-24T12:29:30.311193",
     "exception": false,
     "start_time": "2022-07-24T12:29:30.273942",
     "status": "completed"
    },
    "tags": []
   },
   "outputs": [],
   "source": [
    "#Parameters \n",
    "n_features = 8\n",
    "n_samples= 768\n",
    "n_target = 1 "
   ]
  },
  {
   "cell_type": "code",
   "execution_count": 6,
   "id": "5d6eced4",
   "metadata": {
    "execution": {
     "iopub.execute_input": "2022-07-24T12:29:30.344568Z",
     "iopub.status.busy": "2022-07-24T12:29:30.343717Z",
     "iopub.status.idle": "2022-07-24T12:29:31.293319Z",
     "shell.execute_reply": "2022-07-24T12:29:31.286552Z"
    },
    "id": "5d6eced4",
    "papermill": {
     "duration": 0.97259,
     "end_time": "2022-07-24T12:29:31.299745",
     "exception": false,
     "start_time": "2022-07-24T12:29:30.327155",
     "status": "completed"
    },
    "tags": []
   },
   "outputs": [
    {
     "name": "stdout",
     "output_type": "stream",
     "text": [
      "     X1     X2     X3      X4   X5  X6   X7  X8     Y1     Y2\n",
      "0  0.98  514.5  294.0  110.25  7.0   2  0.0   0  15.55  21.33\n",
      "1  0.98  514.5  294.0  110.25  7.0   3  0.0   0  15.55  21.33\n",
      "2  0.98  514.5  294.0  110.25  7.0   4  0.0   0  15.55  21.33\n",
      "3  0.98  514.5  294.0  110.25  7.0   5  0.0   0  15.55  21.33\n",
      "4  0.90  563.5  318.5  122.50  7.0   2  0.0   0  20.84  28.28\n"
     ]
    }
   ],
   "source": [
    "X,Y = energyefficiencyDataset.energy_data()"
   ]
  },
  {
   "cell_type": "code",
   "execution_count": 7,
   "id": "fe007438",
   "metadata": {
    "execution": {
     "iopub.execute_input": "2022-07-24T12:29:31.343861Z",
     "iopub.status.busy": "2022-07-24T12:29:31.342903Z",
     "iopub.status.idle": "2022-07-24T12:29:31.402303Z",
     "shell.execute_reply": "2022-07-24T12:29:31.382890Z"
    },
    "id": "fe007438",
    "papermill": {
     "duration": 0.091703,
     "end_time": "2022-07-24T12:29:31.407818",
     "exception": false,
     "start_time": "2022-07-24T12:29:31.316115",
     "status": "completed"
    },
    "tags": []
   },
   "outputs": [],
   "source": [
    "#Train test split for dataset \n",
    "X_train,X_test,Y_train,Y_test = train_test_split(X,Y,test_size = 0.2)\n",
    "train_data = dataset.CustomDataset(X_train,Y_train)\n",
    "test_data = dataset.CustomDataset(X_test,Y_test)\n"
   ]
  },
  {
   "cell_type": "markdown",
   "id": "a9a1af34",
   "metadata": {
    "id": "a9a1af34",
    "papermill": {
     "duration": 0.020036,
     "end_time": "2022-07-24T12:29:31.475828",
     "exception": false,
     "start_time": "2022-07-24T12:29:31.455792",
     "status": "completed"
    },
    "tags": []
   },
   "source": [
    "## Training Parameters "
   ]
  },
  {
   "cell_type": "code",
   "execution_count": 8,
   "id": "952b7fc8",
   "metadata": {
    "execution": {
     "iopub.execute_input": "2022-07-24T12:29:31.516467Z",
     "iopub.status.busy": "2022-07-24T12:29:31.515229Z",
     "iopub.status.idle": "2022-07-24T12:29:31.525168Z",
     "shell.execute_reply": "2022-07-24T12:29:31.523010Z"
    },
    "id": "952b7fc8",
    "papermill": {
     "duration": 0.038581,
     "end_time": "2022-07-24T12:29:31.534467",
     "exception": false,
     "start_time": "2022-07-24T12:29:31.495886",
     "status": "completed"
    },
    "tags": []
   },
   "outputs": [],
   "source": [
    "batch_size = 32\n",
    "n_epochs = 1000\n",
    "#Select the device \n",
    "device = torch.device('cuda' if torch.cuda.is_available() else 'cpu')"
   ]
  },
  {
   "cell_type": "markdown",
   "id": "a95e1600",
   "metadata": {
    "id": "a95e1600",
    "papermill": {
     "duration": 0.07247,
     "end_time": "2022-07-24T12:29:31.625649",
     "exception": false,
     "start_time": "2022-07-24T12:29:31.553179",
     "status": "completed"
    },
    "tags": []
   },
   "source": [
    "# ABC Pre-generator Model \n",
    "\n",
    "1. The catboost model is used as a pre-generator model for the ABC-GAN. \n",
    "2. The model is first trained on the entire dataset \n",
    "3. It generats X,Y pairs and we add some Gaussian noise with mean 0 and variance 1 to it which is then feed as input to the generator.\n"
   ]
  },
  {
   "cell_type": "code",
   "execution_count": 9,
   "id": "ff8ce7bd",
   "metadata": {
    "execution": {
     "iopub.execute_input": "2022-07-24T12:29:31.696038Z",
     "iopub.status.busy": "2022-07-24T12:29:31.694248Z",
     "iopub.status.idle": "2022-07-24T12:29:32.767818Z",
     "shell.execute_reply": "2022-07-24T12:29:32.767073Z"
    },
    "id": "ff8ce7bd",
    "papermill": {
     "duration": 1.10797,
     "end_time": "2022-07-24T12:29:32.772563",
     "exception": false,
     "start_time": "2022-07-24T12:29:31.664593",
     "status": "completed"
    },
    "tags": []
   },
   "outputs": [
    {
     "name": "stdout",
     "output_type": "stream",
     "text": [
      "Learning rate set to 0.037906\n",
      "0:\tlearn: 0.9485917\ttotal: 50.4ms\tremaining: 50.4s\n",
      "1:\tlearn: 0.9171489\ttotal: 50.9ms\tremaining: 25.4s\n",
      "2:\tlearn: 0.8902925\ttotal: 51.7ms\tremaining: 17.2s\n",
      "3:\tlearn: 0.8608175\ttotal: 52.3ms\tremaining: 13s\n",
      "4:\tlearn: 0.8363723\ttotal: 52.6ms\tremaining: 10.5s\n",
      "5:\tlearn: 0.8089501\ttotal: 53ms\tremaining: 8.79s\n",
      "6:\tlearn: 0.7867922\ttotal: 53.2ms\tremaining: 7.55s\n",
      "7:\tlearn: 0.7643219\ttotal: 53.6ms\tremaining: 6.65s\n",
      "8:\tlearn: 0.7392990\ttotal: 54ms\tremaining: 5.94s\n",
      "9:\tlearn: 0.7175135\ttotal: 54.3ms\tremaining: 5.38s\n",
      "10:\tlearn: 0.6950437\ttotal: 54.8ms\tremaining: 4.93s\n",
      "11:\tlearn: 0.6727465\ttotal: 55.1ms\tremaining: 4.54s\n",
      "12:\tlearn: 0.6547676\ttotal: 55.5ms\tremaining: 4.21s\n",
      "13:\tlearn: 0.6354600\ttotal: 56.3ms\tremaining: 3.96s\n",
      "14:\tlearn: 0.6156664\ttotal: 56.5ms\tremaining: 3.71s\n",
      "15:\tlearn: 0.5977832\ttotal: 57.6ms\tremaining: 3.54s\n",
      "16:\tlearn: 0.5792455\ttotal: 58.1ms\tremaining: 3.36s\n",
      "17:\tlearn: 0.5627508\ttotal: 58.4ms\tremaining: 3.19s\n",
      "18:\tlearn: 0.5464320\ttotal: 58.8ms\tremaining: 3.04s\n",
      "19:\tlearn: 0.5313162\ttotal: 59.4ms\tremaining: 2.91s\n",
      "20:\tlearn: 0.5166113\ttotal: 59.7ms\tremaining: 2.78s\n",
      "21:\tlearn: 0.5022339\ttotal: 60.1ms\tremaining: 2.67s\n",
      "22:\tlearn: 0.4874428\ttotal: 60.3ms\tremaining: 2.56s\n",
      "23:\tlearn: 0.4720739\ttotal: 60.6ms\tremaining: 2.46s\n",
      "24:\tlearn: 0.4577450\ttotal: 61.3ms\tremaining: 2.39s\n",
      "25:\tlearn: 0.4439067\ttotal: 62.1ms\tremaining: 2.33s\n",
      "26:\tlearn: 0.4315500\ttotal: 62.4ms\tremaining: 2.25s\n",
      "27:\tlearn: 0.4193791\ttotal: 63.3ms\tremaining: 2.19s\n",
      "28:\tlearn: 0.4069789\ttotal: 63.6ms\tremaining: 2.13s\n",
      "29:\tlearn: 0.3953102\ttotal: 63.8ms\tremaining: 2.06s\n",
      "30:\tlearn: 0.3844177\ttotal: 64ms\tremaining: 2s\n",
      "31:\tlearn: 0.3727083\ttotal: 66.5ms\tremaining: 2.01s\n",
      "32:\tlearn: 0.3639850\ttotal: 67.6ms\tremaining: 1.98s\n",
      "33:\tlearn: 0.3538590\ttotal: 68.4ms\tremaining: 1.94s\n",
      "34:\tlearn: 0.3440180\ttotal: 69.2ms\tremaining: 1.91s\n",
      "35:\tlearn: 0.3352989\ttotal: 70.1ms\tremaining: 1.88s\n",
      "36:\tlearn: 0.3264851\ttotal: 70.7ms\tremaining: 1.84s\n",
      "37:\tlearn: 0.3166504\ttotal: 71.6ms\tremaining: 1.81s\n",
      "38:\tlearn: 0.3076859\ttotal: 71.8ms\tremaining: 1.77s\n",
      "39:\tlearn: 0.3003892\ttotal: 72.1ms\tremaining: 1.73s\n",
      "40:\tlearn: 0.2914646\ttotal: 72.3ms\tremaining: 1.69s\n",
      "41:\tlearn: 0.2848915\ttotal: 73.3ms\tremaining: 1.67s\n",
      "42:\tlearn: 0.2766434\ttotal: 74ms\tremaining: 1.65s\n",
      "43:\tlearn: 0.2693032\ttotal: 76.3ms\tremaining: 1.66s\n",
      "44:\tlearn: 0.2624027\ttotal: 76.9ms\tremaining: 1.63s\n",
      "45:\tlearn: 0.2582806\ttotal: 77.4ms\tremaining: 1.6s\n",
      "46:\tlearn: 0.2527009\ttotal: 77.9ms\tremaining: 1.58s\n",
      "47:\tlearn: 0.2478628\ttotal: 78.3ms\tremaining: 1.55s\n",
      "48:\tlearn: 0.2422262\ttotal: 78.8ms\tremaining: 1.53s\n",
      "49:\tlearn: 0.2364141\ttotal: 79.3ms\tremaining: 1.51s\n",
      "50:\tlearn: 0.2312087\ttotal: 79.7ms\tremaining: 1.48s\n",
      "51:\tlearn: 0.2254064\ttotal: 80.1ms\tremaining: 1.46s\n",
      "52:\tlearn: 0.2192865\ttotal: 80.5ms\tremaining: 1.44s\n",
      "53:\tlearn: 0.2141404\ttotal: 80.8ms\tremaining: 1.42s\n",
      "54:\tlearn: 0.2099739\ttotal: 81.1ms\tremaining: 1.39s\n",
      "55:\tlearn: 0.2044977\ttotal: 81.6ms\tremaining: 1.38s\n",
      "56:\tlearn: 0.1990171\ttotal: 82ms\tremaining: 1.35s\n",
      "57:\tlearn: 0.1946624\ttotal: 82.4ms\tremaining: 1.34s\n",
      "58:\tlearn: 0.1896066\ttotal: 83ms\tremaining: 1.32s\n",
      "59:\tlearn: 0.1848146\ttotal: 83.7ms\tremaining: 1.31s\n",
      "60:\tlearn: 0.1810092\ttotal: 84.3ms\tremaining: 1.3s\n",
      "61:\tlearn: 0.1780123\ttotal: 84.6ms\tremaining: 1.28s\n",
      "62:\tlearn: 0.1736638\ttotal: 85.1ms\tremaining: 1.26s\n",
      "63:\tlearn: 0.1693912\ttotal: 85.6ms\tremaining: 1.25s\n",
      "64:\tlearn: 0.1659563\ttotal: 85.9ms\tremaining: 1.24s\n",
      "65:\tlearn: 0.1627064\ttotal: 86.4ms\tremaining: 1.22s\n",
      "66:\tlearn: 0.1588831\ttotal: 86.9ms\tremaining: 1.21s\n",
      "67:\tlearn: 0.1566339\ttotal: 87.1ms\tremaining: 1.19s\n",
      "68:\tlearn: 0.1543795\ttotal: 87.6ms\tremaining: 1.18s\n",
      "69:\tlearn: 0.1512679\ttotal: 87.9ms\tremaining: 1.17s\n",
      "70:\tlearn: 0.1483520\ttotal: 88.3ms\tremaining: 1.16s\n",
      "71:\tlearn: 0.1444123\ttotal: 89.3ms\tremaining: 1.15s\n",
      "72:\tlearn: 0.1415307\ttotal: 89.9ms\tremaining: 1.14s\n",
      "73:\tlearn: 0.1397856\ttotal: 90.3ms\tremaining: 1.13s\n",
      "74:\tlearn: 0.1369578\ttotal: 90.8ms\tremaining: 1.12s\n",
      "75:\tlearn: 0.1336467\ttotal: 91.3ms\tremaining: 1.11s\n",
      "76:\tlearn: 0.1311994\ttotal: 91.7ms\tremaining: 1.1s\n",
      "77:\tlearn: 0.1281798\ttotal: 92.1ms\tremaining: 1.09s\n",
      "78:\tlearn: 0.1255442\ttotal: 92.5ms\tremaining: 1.08s\n",
      "79:\tlearn: 0.1227743\ttotal: 93.1ms\tremaining: 1.07s\n",
      "80:\tlearn: 0.1201702\ttotal: 93.4ms\tremaining: 1.06s\n",
      "81:\tlearn: 0.1180176\ttotal: 95.5ms\tremaining: 1.07s\n",
      "82:\tlearn: 0.1158994\ttotal: 97.4ms\tremaining: 1.08s\n",
      "83:\tlearn: 0.1132251\ttotal: 99ms\tremaining: 1.08s\n",
      "84:\tlearn: 0.1116624\ttotal: 99.2ms\tremaining: 1.07s\n",
      "85:\tlearn: 0.1092263\ttotal: 99.5ms\tremaining: 1.06s\n",
      "86:\tlearn: 0.1066781\ttotal: 99.8ms\tremaining: 1.05s\n",
      "87:\tlearn: 0.1052589\ttotal: 100ms\tremaining: 1.04s\n",
      "88:\tlearn: 0.1040498\ttotal: 101ms\tremaining: 1.03s\n",
      "89:\tlearn: 0.1017897\ttotal: 102ms\tremaining: 1.03s\n",
      "90:\tlearn: 0.1004454\ttotal: 103ms\tremaining: 1.02s\n",
      "91:\tlearn: 0.0986692\ttotal: 103ms\tremaining: 1.02s\n",
      "92:\tlearn: 0.0969155\ttotal: 104ms\tremaining: 1.01s\n",
      "93:\tlearn: 0.0961424\ttotal: 104ms\tremaining: 1s\n",
      "94:\tlearn: 0.0945026\ttotal: 105ms\tremaining: 1s\n",
      "95:\tlearn: 0.0926887\ttotal: 106ms\tremaining: 997ms\n",
      "96:\tlearn: 0.0910480\ttotal: 107ms\tremaining: 995ms\n",
      "97:\tlearn: 0.0898403\ttotal: 108ms\tremaining: 990ms\n",
      "98:\tlearn: 0.0881644\ttotal: 108ms\tremaining: 985ms\n",
      "99:\tlearn: 0.0862388\ttotal: 109ms\tremaining: 981ms\n",
      "100:\tlearn: 0.0852253\ttotal: 110ms\tremaining: 978ms\n",
      "101:\tlearn: 0.0838101\ttotal: 111ms\tremaining: 973ms\n",
      "102:\tlearn: 0.0825916\ttotal: 111ms\tremaining: 969ms\n",
      "103:\tlearn: 0.0812076\ttotal: 112ms\tremaining: 965ms\n",
      "104:\tlearn: 0.0803311\ttotal: 113ms\tremaining: 960ms\n",
      "105:\tlearn: 0.0789215\ttotal: 113ms\tremaining: 953ms\n",
      "106:\tlearn: 0.0778687\ttotal: 113ms\tremaining: 947ms\n",
      "107:\tlearn: 0.0770492\ttotal: 114ms\tremaining: 941ms\n",
      "108:\tlearn: 0.0764611\ttotal: 114ms\tremaining: 936ms\n",
      "109:\tlearn: 0.0752205\ttotal: 115ms\tremaining: 930ms\n",
      "110:\tlearn: 0.0742028\ttotal: 116ms\tremaining: 925ms\n",
      "111:\tlearn: 0.0728521\ttotal: 116ms\tremaining: 921ms\n",
      "112:\tlearn: 0.0719664\ttotal: 117ms\tremaining: 915ms\n",
      "113:\tlearn: 0.0711777\ttotal: 117ms\tremaining: 909ms\n",
      "114:\tlearn: 0.0701208\ttotal: 117ms\tremaining: 904ms\n",
      "115:\tlearn: 0.0693558\ttotal: 118ms\tremaining: 898ms\n",
      "116:\tlearn: 0.0689104\ttotal: 118ms\tremaining: 893ms\n",
      "117:\tlearn: 0.0677486\ttotal: 119ms\tremaining: 888ms\n",
      "118:\tlearn: 0.0669116\ttotal: 119ms\tremaining: 882ms\n",
      "119:\tlearn: 0.0659887\ttotal: 120ms\tremaining: 881ms\n",
      "120:\tlearn: 0.0649698\ttotal: 121ms\tremaining: 879ms\n",
      "121:\tlearn: 0.0640487\ttotal: 122ms\tremaining: 875ms\n",
      "122:\tlearn: 0.0636587\ttotal: 122ms\tremaining: 870ms\n",
      "123:\tlearn: 0.0628269\ttotal: 123ms\tremaining: 865ms\n",
      "124:\tlearn: 0.0622272\ttotal: 123ms\tremaining: 860ms\n",
      "125:\tlearn: 0.0614448\ttotal: 123ms\tremaining: 855ms\n",
      "126:\tlearn: 0.0608388\ttotal: 124ms\tremaining: 851ms\n",
      "127:\tlearn: 0.0601281\ttotal: 124ms\tremaining: 847ms\n",
      "128:\tlearn: 0.0594126\ttotal: 125ms\tremaining: 842ms\n",
      "129:\tlearn: 0.0588895\ttotal: 125ms\tremaining: 839ms\n",
      "130:\tlearn: 0.0582722\ttotal: 126ms\tremaining: 836ms\n",
      "131:\tlearn: 0.0577143\ttotal: 127ms\tremaining: 832ms\n",
      "132:\tlearn: 0.0572336\ttotal: 127ms\tremaining: 828ms\n",
      "133:\tlearn: 0.0568742\ttotal: 128ms\tremaining: 824ms\n",
      "134:\tlearn: 0.0565143\ttotal: 128ms\tremaining: 821ms\n",
      "135:\tlearn: 0.0562175\ttotal: 129ms\tremaining: 816ms\n",
      "136:\tlearn: 0.0556615\ttotal: 129ms\tremaining: 813ms\n",
      "137:\tlearn: 0.0552847\ttotal: 130ms\tremaining: 811ms\n",
      "138:\tlearn: 0.0547657\ttotal: 131ms\tremaining: 808ms\n",
      "139:\tlearn: 0.0543112\ttotal: 132ms\tremaining: 809ms\n",
      "140:\tlearn: 0.0538768\ttotal: 132ms\tremaining: 806ms\n",
      "141:\tlearn: 0.0534327\ttotal: 133ms\tremaining: 804ms\n",
      "142:\tlearn: 0.0529851\ttotal: 134ms\tremaining: 802ms\n",
      "143:\tlearn: 0.0527746\ttotal: 134ms\tremaining: 799ms\n",
      "144:\tlearn: 0.0525149\ttotal: 135ms\tremaining: 797ms\n",
      "145:\tlearn: 0.0521935\ttotal: 136ms\tremaining: 794ms\n",
      "146:\tlearn: 0.0519591\ttotal: 137ms\tremaining: 792ms\n",
      "147:\tlearn: 0.0516331\ttotal: 138ms\tremaining: 792ms\n",
      "148:\tlearn: 0.0513395\ttotal: 138ms\tremaining: 791ms\n",
      "149:\tlearn: 0.0510625\ttotal: 139ms\tremaining: 788ms\n",
      "150:\tlearn: 0.0506889\ttotal: 139ms\tremaining: 784ms\n",
      "151:\tlearn: 0.0504971\ttotal: 140ms\tremaining: 781ms\n",
      "152:\tlearn: 0.0501565\ttotal: 141ms\tremaining: 778ms\n",
      "153:\tlearn: 0.0499890\ttotal: 141ms\tremaining: 775ms\n",
      "154:\tlearn: 0.0496774\ttotal: 142ms\tremaining: 772ms\n",
      "155:\tlearn: 0.0494952\ttotal: 142ms\tremaining: 769ms\n",
      "156:\tlearn: 0.0492397\ttotal: 143ms\tremaining: 766ms\n",
      "157:\tlearn: 0.0489854\ttotal: 143ms\tremaining: 764ms\n",
      "158:\tlearn: 0.0487251\ttotal: 144ms\tremaining: 762ms\n",
      "159:\tlearn: 0.0485346\ttotal: 144ms\tremaining: 758ms\n",
      "160:\tlearn: 0.0482507\ttotal: 145ms\tremaining: 755ms\n",
      "161:\tlearn: 0.0480016\ttotal: 145ms\tremaining: 752ms\n",
      "162:\tlearn: 0.0477683\ttotal: 146ms\tremaining: 749ms\n",
      "163:\tlearn: 0.0475433\ttotal: 146ms\tremaining: 746ms\n"
     ]
    },
    {
     "name": "stdout",
     "output_type": "stream",
     "text": [
      "164:\tlearn: 0.0473240\ttotal: 147ms\tremaining: 744ms\n",
      "165:\tlearn: 0.0470418\ttotal: 148ms\tremaining: 742ms\n",
      "166:\tlearn: 0.0468433\ttotal: 148ms\tremaining: 738ms\n",
      "167:\tlearn: 0.0466467\ttotal: 149ms\tremaining: 736ms\n",
      "168:\tlearn: 0.0464630\ttotal: 149ms\tremaining: 732ms\n",
      "169:\tlearn: 0.0462612\ttotal: 149ms\tremaining: 728ms\n",
      "170:\tlearn: 0.0461024\ttotal: 149ms\tremaining: 724ms\n",
      "171:\tlearn: 0.0459161\ttotal: 150ms\tremaining: 721ms\n",
      "172:\tlearn: 0.0457120\ttotal: 150ms\tremaining: 719ms\n",
      "173:\tlearn: 0.0455781\ttotal: 151ms\tremaining: 717ms\n",
      "174:\tlearn: 0.0452696\ttotal: 152ms\tremaining: 716ms\n",
      "175:\tlearn: 0.0451090\ttotal: 152ms\tremaining: 713ms\n",
      "176:\tlearn: 0.0449529\ttotal: 153ms\tremaining: 711ms\n",
      "177:\tlearn: 0.0447500\ttotal: 153ms\tremaining: 708ms\n",
      "178:\tlearn: 0.0446143\ttotal: 154ms\tremaining: 706ms\n",
      "179:\tlearn: 0.0444584\ttotal: 154ms\tremaining: 703ms\n",
      "180:\tlearn: 0.0442770\ttotal: 155ms\tremaining: 701ms\n",
      "181:\tlearn: 0.0441293\ttotal: 155ms\tremaining: 698ms\n",
      "182:\tlearn: 0.0439215\ttotal: 156ms\tremaining: 696ms\n",
      "183:\tlearn: 0.0437151\ttotal: 156ms\tremaining: 694ms\n",
      "184:\tlearn: 0.0435405\ttotal: 157ms\tremaining: 691ms\n",
      "185:\tlearn: 0.0433622\ttotal: 157ms\tremaining: 689ms\n",
      "186:\tlearn: 0.0432185\ttotal: 158ms\tremaining: 687ms\n",
      "187:\tlearn: 0.0431103\ttotal: 158ms\tremaining: 684ms\n",
      "188:\tlearn: 0.0429759\ttotal: 159ms\tremaining: 681ms\n",
      "189:\tlearn: 0.0428280\ttotal: 159ms\tremaining: 679ms\n",
      "190:\tlearn: 0.0427047\ttotal: 160ms\tremaining: 677ms\n",
      "191:\tlearn: 0.0425349\ttotal: 160ms\tremaining: 675ms\n",
      "192:\tlearn: 0.0423706\ttotal: 161ms\tremaining: 672ms\n",
      "193:\tlearn: 0.0422373\ttotal: 161ms\tremaining: 671ms\n",
      "194:\tlearn: 0.0421049\ttotal: 162ms\tremaining: 668ms\n",
      "195:\tlearn: 0.0419868\ttotal: 162ms\tremaining: 666ms\n",
      "196:\tlearn: 0.0417824\ttotal: 163ms\tremaining: 664ms\n",
      "197:\tlearn: 0.0416209\ttotal: 164ms\tremaining: 663ms\n",
      "198:\tlearn: 0.0414921\ttotal: 165ms\tremaining: 662ms\n",
      "199:\tlearn: 0.0413904\ttotal: 166ms\tremaining: 663ms\n",
      "200:\tlearn: 0.0412987\ttotal: 166ms\tremaining: 661ms\n",
      "201:\tlearn: 0.0412000\ttotal: 167ms\tremaining: 659ms\n",
      "202:\tlearn: 0.0410845\ttotal: 168ms\tremaining: 658ms\n",
      "203:\tlearn: 0.0409429\ttotal: 168ms\tremaining: 656ms\n",
      "204:\tlearn: 0.0408399\ttotal: 169ms\tremaining: 654ms\n",
      "205:\tlearn: 0.0407619\ttotal: 169ms\tremaining: 652ms\n",
      "206:\tlearn: 0.0406773\ttotal: 170ms\tremaining: 650ms\n",
      "207:\tlearn: 0.0405466\ttotal: 170ms\tremaining: 648ms\n",
      "208:\tlearn: 0.0404569\ttotal: 171ms\tremaining: 647ms\n",
      "209:\tlearn: 0.0403466\ttotal: 172ms\tremaining: 645ms\n",
      "210:\tlearn: 0.0402535\ttotal: 172ms\tremaining: 643ms\n",
      "211:\tlearn: 0.0401215\ttotal: 173ms\tremaining: 641ms\n",
      "212:\tlearn: 0.0400144\ttotal: 173ms\tremaining: 639ms\n",
      "213:\tlearn: 0.0399089\ttotal: 174ms\tremaining: 637ms\n",
      "214:\tlearn: 0.0397247\ttotal: 174ms\tremaining: 635ms\n",
      "215:\tlearn: 0.0396317\ttotal: 175ms\tremaining: 633ms\n",
      "216:\tlearn: 0.0395399\ttotal: 175ms\tremaining: 632ms\n",
      "217:\tlearn: 0.0394309\ttotal: 176ms\tremaining: 630ms\n",
      "218:\tlearn: 0.0392848\ttotal: 176ms\tremaining: 628ms\n",
      "219:\tlearn: 0.0391706\ttotal: 177ms\tremaining: 627ms\n",
      "220:\tlearn: 0.0390623\ttotal: 178ms\tremaining: 626ms\n",
      "221:\tlearn: 0.0388757\ttotal: 178ms\tremaining: 623ms\n",
      "222:\tlearn: 0.0387878\ttotal: 178ms\tremaining: 621ms\n",
      "223:\tlearn: 0.0386932\ttotal: 179ms\tremaining: 620ms\n",
      "224:\tlearn: 0.0385894\ttotal: 179ms\tremaining: 618ms\n",
      "225:\tlearn: 0.0385038\ttotal: 180ms\tremaining: 616ms\n",
      "226:\tlearn: 0.0383949\ttotal: 180ms\tremaining: 614ms\n",
      "227:\tlearn: 0.0383283\ttotal: 181ms\tremaining: 613ms\n",
      "228:\tlearn: 0.0381183\ttotal: 181ms\tremaining: 611ms\n",
      "229:\tlearn: 0.0380367\ttotal: 182ms\tremaining: 609ms\n",
      "230:\tlearn: 0.0378401\ttotal: 183ms\tremaining: 608ms\n",
      "231:\tlearn: 0.0377615\ttotal: 183ms\tremaining: 606ms\n",
      "232:\tlearn: 0.0377078\ttotal: 184ms\tremaining: 604ms\n",
      "233:\tlearn: 0.0376354\ttotal: 184ms\tremaining: 603ms\n",
      "234:\tlearn: 0.0375440\ttotal: 185ms\tremaining: 601ms\n",
      "235:\tlearn: 0.0374848\ttotal: 185ms\tremaining: 599ms\n",
      "236:\tlearn: 0.0373877\ttotal: 186ms\tremaining: 598ms\n",
      "237:\tlearn: 0.0373054\ttotal: 186ms\tremaining: 597ms\n",
      "238:\tlearn: 0.0371343\ttotal: 187ms\tremaining: 595ms\n",
      "239:\tlearn: 0.0369336\ttotal: 187ms\tremaining: 593ms\n",
      "240:\tlearn: 0.0368496\ttotal: 188ms\tremaining: 592ms\n",
      "241:\tlearn: 0.0367176\ttotal: 189ms\tremaining: 592ms\n",
      "242:\tlearn: 0.0365423\ttotal: 190ms\tremaining: 591ms\n",
      "243:\tlearn: 0.0364710\ttotal: 190ms\tremaining: 589ms\n",
      "244:\tlearn: 0.0362615\ttotal: 191ms\tremaining: 588ms\n",
      "245:\tlearn: 0.0361233\ttotal: 191ms\tremaining: 586ms\n",
      "246:\tlearn: 0.0360667\ttotal: 192ms\tremaining: 584ms\n",
      "247:\tlearn: 0.0359903\ttotal: 192ms\tremaining: 583ms\n",
      "248:\tlearn: 0.0358802\ttotal: 193ms\tremaining: 581ms\n",
      "249:\tlearn: 0.0357514\ttotal: 193ms\tremaining: 580ms\n",
      "250:\tlearn: 0.0356444\ttotal: 194ms\tremaining: 578ms\n",
      "251:\tlearn: 0.0355392\ttotal: 194ms\tremaining: 577ms\n",
      "252:\tlearn: 0.0354729\ttotal: 195ms\tremaining: 576ms\n",
      "253:\tlearn: 0.0353837\ttotal: 196ms\tremaining: 574ms\n",
      "254:\tlearn: 0.0352676\ttotal: 196ms\tremaining: 573ms\n",
      "255:\tlearn: 0.0351992\ttotal: 197ms\tremaining: 571ms\n",
      "256:\tlearn: 0.0351512\ttotal: 197ms\tremaining: 570ms\n",
      "257:\tlearn: 0.0350419\ttotal: 198ms\tremaining: 568ms\n",
      "258:\tlearn: 0.0349741\ttotal: 198ms\tremaining: 566ms\n",
      "259:\tlearn: 0.0349075\ttotal: 199ms\tremaining: 565ms\n",
      "260:\tlearn: 0.0348057\ttotal: 199ms\tremaining: 563ms\n",
      "261:\tlearn: 0.0347266\ttotal: 199ms\tremaining: 562ms\n",
      "262:\tlearn: 0.0346948\ttotal: 200ms\tremaining: 560ms\n",
      "263:\tlearn: 0.0346316\ttotal: 201ms\tremaining: 560ms\n",
      "264:\tlearn: 0.0344989\ttotal: 201ms\tremaining: 558ms\n",
      "265:\tlearn: 0.0343983\ttotal: 202ms\tremaining: 556ms\n",
      "266:\tlearn: 0.0342048\ttotal: 202ms\tremaining: 555ms\n",
      "267:\tlearn: 0.0341268\ttotal: 203ms\tremaining: 553ms\n",
      "268:\tlearn: 0.0340765\ttotal: 203ms\tremaining: 553ms\n",
      "269:\tlearn: 0.0339919\ttotal: 204ms\tremaining: 552ms\n",
      "270:\tlearn: 0.0338681\ttotal: 205ms\tremaining: 551ms\n",
      "271:\tlearn: 0.0338125\ttotal: 206ms\tremaining: 550ms\n",
      "272:\tlearn: 0.0337554\ttotal: 206ms\tremaining: 549ms\n",
      "273:\tlearn: 0.0336769\ttotal: 207ms\tremaining: 548ms\n",
      "274:\tlearn: 0.0335317\ttotal: 207ms\tremaining: 547ms\n",
      "275:\tlearn: 0.0334168\ttotal: 208ms\tremaining: 546ms\n",
      "276:\tlearn: 0.0333275\ttotal: 209ms\tremaining: 545ms\n",
      "277:\tlearn: 0.0332894\ttotal: 209ms\tremaining: 544ms\n",
      "278:\tlearn: 0.0332237\ttotal: 210ms\tremaining: 543ms\n",
      "279:\tlearn: 0.0331449\ttotal: 211ms\tremaining: 542ms\n",
      "280:\tlearn: 0.0331011\ttotal: 211ms\tremaining: 540ms\n",
      "281:\tlearn: 0.0330494\ttotal: 212ms\tremaining: 540ms\n",
      "282:\tlearn: 0.0329888\ttotal: 212ms\tremaining: 538ms\n",
      "283:\tlearn: 0.0329239\ttotal: 213ms\tremaining: 537ms\n",
      "284:\tlearn: 0.0328176\ttotal: 213ms\tremaining: 536ms\n",
      "285:\tlearn: 0.0327323\ttotal: 214ms\tremaining: 534ms\n",
      "286:\tlearn: 0.0326472\ttotal: 214ms\tremaining: 532ms\n",
      "287:\tlearn: 0.0324893\ttotal: 215ms\tremaining: 531ms\n",
      "288:\tlearn: 0.0324284\ttotal: 215ms\tremaining: 529ms\n",
      "289:\tlearn: 0.0323571\ttotal: 216ms\tremaining: 528ms\n",
      "290:\tlearn: 0.0323022\ttotal: 216ms\tremaining: 527ms\n",
      "291:\tlearn: 0.0321644\ttotal: 217ms\tremaining: 527ms\n",
      "292:\tlearn: 0.0320886\ttotal: 218ms\tremaining: 526ms\n",
      "293:\tlearn: 0.0320315\ttotal: 219ms\tremaining: 525ms\n",
      "294:\tlearn: 0.0319928\ttotal: 219ms\tremaining: 524ms\n",
      "295:\tlearn: 0.0318986\ttotal: 220ms\tremaining: 523ms\n",
      "296:\tlearn: 0.0318105\ttotal: 220ms\tremaining: 521ms\n",
      "297:\tlearn: 0.0317157\ttotal: 221ms\tremaining: 520ms\n",
      "298:\tlearn: 0.0315879\ttotal: 221ms\tremaining: 518ms\n",
      "299:\tlearn: 0.0315438\ttotal: 221ms\tremaining: 517ms\n",
      "300:\tlearn: 0.0314469\ttotal: 222ms\tremaining: 515ms\n",
      "301:\tlearn: 0.0313112\ttotal: 222ms\tremaining: 513ms\n",
      "302:\tlearn: 0.0312378\ttotal: 222ms\tremaining: 511ms\n",
      "303:\tlearn: 0.0311457\ttotal: 222ms\tremaining: 509ms\n",
      "304:\tlearn: 0.0310533\ttotal: 224ms\tremaining: 510ms\n",
      "305:\tlearn: 0.0309597\ttotal: 225ms\tremaining: 510ms\n",
      "306:\tlearn: 0.0308632\ttotal: 225ms\tremaining: 508ms\n",
      "307:\tlearn: 0.0308186\ttotal: 226ms\tremaining: 507ms\n",
      "308:\tlearn: 0.0307843\ttotal: 226ms\tremaining: 505ms\n",
      "309:\tlearn: 0.0307205\ttotal: 226ms\tremaining: 504ms\n",
      "310:\tlearn: 0.0306315\ttotal: 227ms\tremaining: 502ms\n",
      "311:\tlearn: 0.0305468\ttotal: 227ms\tremaining: 501ms\n",
      "312:\tlearn: 0.0304872\ttotal: 227ms\tremaining: 499ms\n",
      "313:\tlearn: 0.0304069\ttotal: 228ms\tremaining: 497ms\n",
      "314:\tlearn: 0.0303226\ttotal: 228ms\tremaining: 496ms\n",
      "315:\tlearn: 0.0302627\ttotal: 228ms\tremaining: 494ms\n",
      "316:\tlearn: 0.0301717\ttotal: 228ms\tremaining: 492ms\n",
      "317:\tlearn: 0.0301019\ttotal: 231ms\tremaining: 495ms\n",
      "318:\tlearn: 0.0300260\ttotal: 231ms\tremaining: 493ms\n",
      "319:\tlearn: 0.0299492\ttotal: 231ms\tremaining: 491ms\n",
      "320:\tlearn: 0.0298998\ttotal: 231ms\tremaining: 489ms\n",
      "321:\tlearn: 0.0298275\ttotal: 232ms\tremaining: 488ms\n",
      "322:\tlearn: 0.0297715\ttotal: 232ms\tremaining: 486ms\n",
      "323:\tlearn: 0.0296962\ttotal: 232ms\tremaining: 484ms\n",
      "324:\tlearn: 0.0295995\ttotal: 233ms\tremaining: 483ms\n",
      "325:\tlearn: 0.0295528\ttotal: 233ms\tremaining: 483ms\n",
      "326:\tlearn: 0.0294711\ttotal: 234ms\tremaining: 481ms\n",
      "327:\tlearn: 0.0293991\ttotal: 234ms\tremaining: 480ms\n",
      "328:\tlearn: 0.0293436\ttotal: 235ms\tremaining: 478ms\n",
      "329:\tlearn: 0.0292764\ttotal: 235ms\tremaining: 477ms\n",
      "330:\tlearn: 0.0292563\ttotal: 236ms\tremaining: 477ms\n",
      "331:\tlearn: 0.0291864\ttotal: 236ms\tremaining: 475ms\n",
      "332:\tlearn: 0.0291362\ttotal: 237ms\tremaining: 474ms\n",
      "333:\tlearn: 0.0290533\ttotal: 237ms\tremaining: 473ms\n",
      "334:\tlearn: 0.0289795\ttotal: 238ms\tremaining: 472ms\n",
      "335:\tlearn: 0.0289605\ttotal: 238ms\tremaining: 471ms\n",
      "336:\tlearn: 0.0288714\ttotal: 239ms\tremaining: 469ms\n",
      "337:\tlearn: 0.0288188\ttotal: 239ms\tremaining: 468ms\n",
      "338:\tlearn: 0.0287709\ttotal: 239ms\tremaining: 466ms\n",
      "339:\tlearn: 0.0287466\ttotal: 240ms\tremaining: 465ms\n",
      "340:\tlearn: 0.0286851\ttotal: 240ms\tremaining: 464ms\n",
      "341:\tlearn: 0.0286033\ttotal: 240ms\tremaining: 462ms\n",
      "342:\tlearn: 0.0284958\ttotal: 242ms\tremaining: 464ms\n",
      "343:\tlearn: 0.0283948\ttotal: 243ms\tremaining: 463ms\n",
      "344:\tlearn: 0.0283160\ttotal: 243ms\tremaining: 462ms\n",
      "345:\tlearn: 0.0282618\ttotal: 244ms\tremaining: 461ms\n",
      "346:\tlearn: 0.0282135\ttotal: 244ms\tremaining: 459ms\n",
      "347:\tlearn: 0.0281192\ttotal: 244ms\tremaining: 458ms\n",
      "348:\tlearn: 0.0280399\ttotal: 245ms\tremaining: 456ms\n",
      "349:\tlearn: 0.0279890\ttotal: 245ms\tremaining: 455ms\n",
      "350:\tlearn: 0.0278805\ttotal: 246ms\tremaining: 455ms\n",
      "351:\tlearn: 0.0278431\ttotal: 246ms\tremaining: 453ms\n",
      "352:\tlearn: 0.0277691\ttotal: 255ms\tremaining: 467ms\n",
      "353:\tlearn: 0.0276871\ttotal: 256ms\tremaining: 466ms\n",
      "354:\tlearn: 0.0276493\ttotal: 256ms\tremaining: 465ms\n",
      "355:\tlearn: 0.0276229\ttotal: 256ms\tremaining: 464ms\n",
      "356:\tlearn: 0.0275660\ttotal: 257ms\tremaining: 462ms\n",
      "357:\tlearn: 0.0275310\ttotal: 257ms\tremaining: 461ms\n",
      "358:\tlearn: 0.0274771\ttotal: 257ms\tremaining: 460ms\n",
      "359:\tlearn: 0.0274246\ttotal: 258ms\tremaining: 458ms\n",
      "360:\tlearn: 0.0273750\ttotal: 259ms\tremaining: 458ms\n",
      "361:\tlearn: 0.0273042\ttotal: 259ms\tremaining: 457ms\n",
      "362:\tlearn: 0.0272709\ttotal: 261ms\tremaining: 457ms\n",
      "363:\tlearn: 0.0272397\ttotal: 261ms\tremaining: 456ms\n",
      "364:\tlearn: 0.0272180\ttotal: 262ms\tremaining: 455ms\n",
      "365:\tlearn: 0.0271656\ttotal: 262ms\tremaining: 454ms\n",
      "366:\tlearn: 0.0271041\ttotal: 272ms\tremaining: 469ms\n",
      "367:\tlearn: 0.0270731\ttotal: 274ms\tremaining: 470ms\n",
      "368:\tlearn: 0.0270213\ttotal: 275ms\tremaining: 471ms\n",
      "369:\tlearn: 0.0269578\ttotal: 278ms\tremaining: 473ms\n",
      "370:\tlearn: 0.0269376\ttotal: 279ms\tremaining: 473ms\n",
      "371:\tlearn: 0.0269009\ttotal: 281ms\tremaining: 474ms\n",
      "372:\tlearn: 0.0268769\ttotal: 282ms\tremaining: 475ms\n",
      "373:\tlearn: 0.0268188\ttotal: 284ms\tremaining: 475ms\n",
      "374:\tlearn: 0.0267530\ttotal: 285ms\tremaining: 475ms\n",
      "375:\tlearn: 0.0267310\ttotal: 286ms\tremaining: 475ms\n"
     ]
    },
    {
     "name": "stdout",
     "output_type": "stream",
     "text": [
      "376:\tlearn: 0.0266760\ttotal: 290ms\tremaining: 479ms\n",
      "377:\tlearn: 0.0266182\ttotal: 292ms\tremaining: 481ms\n",
      "378:\tlearn: 0.0265521\ttotal: 294ms\tremaining: 481ms\n",
      "379:\tlearn: 0.0264907\ttotal: 296ms\tremaining: 482ms\n",
      "380:\tlearn: 0.0264444\ttotal: 296ms\tremaining: 481ms\n",
      "381:\tlearn: 0.0263969\ttotal: 299ms\tremaining: 483ms\n",
      "382:\tlearn: 0.0263473\ttotal: 300ms\tremaining: 483ms\n",
      "383:\tlearn: 0.0263184\ttotal: 301ms\tremaining: 482ms\n",
      "384:\tlearn: 0.0262889\ttotal: 302ms\tremaining: 482ms\n",
      "385:\tlearn: 0.0262448\ttotal: 303ms\tremaining: 481ms\n",
      "386:\tlearn: 0.0261879\ttotal: 303ms\tremaining: 481ms\n",
      "387:\tlearn: 0.0261142\ttotal: 306ms\tremaining: 482ms\n",
      "388:\tlearn: 0.0260943\ttotal: 307ms\tremaining: 482ms\n",
      "389:\tlearn: 0.0260465\ttotal: 309ms\tremaining: 483ms\n",
      "390:\tlearn: 0.0259956\ttotal: 309ms\tremaining: 481ms\n",
      "391:\tlearn: 0.0259487\ttotal: 311ms\tremaining: 482ms\n",
      "392:\tlearn: 0.0259326\ttotal: 313ms\tremaining: 483ms\n",
      "393:\tlearn: 0.0258556\ttotal: 314ms\tremaining: 483ms\n",
      "394:\tlearn: 0.0257958\ttotal: 317ms\tremaining: 485ms\n",
      "395:\tlearn: 0.0257613\ttotal: 321ms\tremaining: 489ms\n",
      "396:\tlearn: 0.0257385\ttotal: 324ms\tremaining: 492ms\n",
      "397:\tlearn: 0.0256965\ttotal: 326ms\tremaining: 493ms\n",
      "398:\tlearn: 0.0256796\ttotal: 329ms\tremaining: 496ms\n",
      "399:\tlearn: 0.0256549\ttotal: 331ms\tremaining: 496ms\n",
      "400:\tlearn: 0.0256139\ttotal: 332ms\tremaining: 496ms\n",
      "401:\tlearn: 0.0255805\ttotal: 334ms\tremaining: 497ms\n",
      "402:\tlearn: 0.0255504\ttotal: 335ms\tremaining: 497ms\n",
      "403:\tlearn: 0.0255196\ttotal: 339ms\tremaining: 500ms\n",
      "404:\tlearn: 0.0254621\ttotal: 342ms\tremaining: 503ms\n",
      "405:\tlearn: 0.0254328\ttotal: 345ms\tremaining: 505ms\n",
      "406:\tlearn: 0.0253807\ttotal: 355ms\tremaining: 517ms\n",
      "407:\tlearn: 0.0253290\ttotal: 357ms\tremaining: 518ms\n",
      "408:\tlearn: 0.0252817\ttotal: 358ms\tremaining: 517ms\n",
      "409:\tlearn: 0.0252608\ttotal: 360ms\tremaining: 518ms\n",
      "410:\tlearn: 0.0252011\ttotal: 361ms\tremaining: 518ms\n",
      "411:\tlearn: 0.0251493\ttotal: 365ms\tremaining: 521ms\n",
      "412:\tlearn: 0.0251245\ttotal: 366ms\tremaining: 521ms\n",
      "413:\tlearn: 0.0250728\ttotal: 368ms\tremaining: 520ms\n",
      "414:\tlearn: 0.0250122\ttotal: 369ms\tremaining: 520ms\n",
      "415:\tlearn: 0.0249724\ttotal: 370ms\tremaining: 520ms\n",
      "416:\tlearn: 0.0249441\ttotal: 371ms\tremaining: 519ms\n",
      "417:\tlearn: 0.0248992\ttotal: 374ms\tremaining: 520ms\n",
      "418:\tlearn: 0.0248368\ttotal: 374ms\tremaining: 519ms\n",
      "419:\tlearn: 0.0247877\ttotal: 375ms\tremaining: 518ms\n",
      "420:\tlearn: 0.0247513\ttotal: 376ms\tremaining: 517ms\n",
      "421:\tlearn: 0.0247289\ttotal: 377ms\tremaining: 516ms\n",
      "422:\tlearn: 0.0247019\ttotal: 379ms\tremaining: 516ms\n",
      "423:\tlearn: 0.0246811\ttotal: 379ms\tremaining: 515ms\n",
      "424:\tlearn: 0.0246616\ttotal: 381ms\tremaining: 516ms\n",
      "425:\tlearn: 0.0246262\ttotal: 382ms\tremaining: 515ms\n",
      "426:\tlearn: 0.0246045\ttotal: 383ms\tremaining: 514ms\n",
      "427:\tlearn: 0.0245501\ttotal: 384ms\tremaining: 513ms\n",
      "428:\tlearn: 0.0244924\ttotal: 385ms\tremaining: 513ms\n",
      "429:\tlearn: 0.0244468\ttotal: 386ms\tremaining: 511ms\n",
      "430:\tlearn: 0.0244063\ttotal: 389ms\tremaining: 513ms\n",
      "431:\tlearn: 0.0243520\ttotal: 390ms\tremaining: 513ms\n",
      "432:\tlearn: 0.0243309\ttotal: 391ms\tremaining: 512ms\n",
      "433:\tlearn: 0.0242891\ttotal: 392ms\tremaining: 511ms\n",
      "434:\tlearn: 0.0242510\ttotal: 392ms\tremaining: 509ms\n",
      "435:\tlearn: 0.0242009\ttotal: 393ms\tremaining: 508ms\n",
      "436:\tlearn: 0.0241675\ttotal: 394ms\tremaining: 507ms\n",
      "437:\tlearn: 0.0241163\ttotal: 396ms\tremaining: 509ms\n",
      "438:\tlearn: 0.0240836\ttotal: 398ms\tremaining: 508ms\n",
      "439:\tlearn: 0.0240465\ttotal: 399ms\tremaining: 507ms\n",
      "440:\tlearn: 0.0240211\ttotal: 400ms\tremaining: 507ms\n",
      "441:\tlearn: 0.0239966\ttotal: 401ms\tremaining: 506ms\n",
      "442:\tlearn: 0.0239864\ttotal: 403ms\tremaining: 507ms\n",
      "443:\tlearn: 0.0239286\ttotal: 404ms\tremaining: 506ms\n",
      "444:\tlearn: 0.0238646\ttotal: 405ms\tremaining: 505ms\n",
      "445:\tlearn: 0.0238051\ttotal: 408ms\tremaining: 507ms\n",
      "446:\tlearn: 0.0237727\ttotal: 411ms\tremaining: 508ms\n",
      "447:\tlearn: 0.0237324\ttotal: 413ms\tremaining: 509ms\n",
      "448:\tlearn: 0.0236976\ttotal: 416ms\tremaining: 511ms\n",
      "449:\tlearn: 0.0236606\ttotal: 418ms\tremaining: 511ms\n",
      "450:\tlearn: 0.0236190\ttotal: 419ms\tremaining: 509ms\n",
      "451:\tlearn: 0.0235952\ttotal: 419ms\tremaining: 508ms\n",
      "452:\tlearn: 0.0235841\ttotal: 420ms\tremaining: 507ms\n",
      "453:\tlearn: 0.0235501\ttotal: 421ms\tremaining: 507ms\n",
      "454:\tlearn: 0.0235194\ttotal: 422ms\tremaining: 506ms\n",
      "455:\tlearn: 0.0234932\ttotal: 423ms\tremaining: 505ms\n",
      "456:\tlearn: 0.0234711\ttotal: 424ms\tremaining: 504ms\n",
      "457:\tlearn: 0.0234578\ttotal: 425ms\tremaining: 503ms\n",
      "458:\tlearn: 0.0234301\ttotal: 427ms\tremaining: 503ms\n"
     ]
    },
    {
     "name": "stdout",
     "output_type": "stream",
     "text": [
      "459:\tlearn: 0.0234000\ttotal: 427ms\tremaining: 502ms\n",
      "460:\tlearn: 0.0233726\ttotal: 428ms\tremaining: 500ms\n",
      "461:\tlearn: 0.0233561\ttotal: 428ms\tremaining: 499ms\n",
      "462:\tlearn: 0.0233301\ttotal: 430ms\tremaining: 499ms\n",
      "463:\tlearn: 0.0232777\ttotal: 433ms\tremaining: 500ms\n",
      "464:\tlearn: 0.0232280\ttotal: 434ms\tremaining: 499ms\n",
      "465:\tlearn: 0.0231738\ttotal: 434ms\tremaining: 497ms\n",
      "466:\tlearn: 0.0231334\ttotal: 435ms\tremaining: 496ms\n",
      "467:\tlearn: 0.0231217\ttotal: 436ms\tremaining: 495ms\n",
      "468:\tlearn: 0.0230725\ttotal: 436ms\tremaining: 494ms\n",
      "469:\tlearn: 0.0230399\ttotal: 437ms\tremaining: 493ms\n",
      "470:\tlearn: 0.0230080\ttotal: 438ms\tremaining: 492ms\n",
      "471:\tlearn: 0.0229636\ttotal: 440ms\tremaining: 492ms\n",
      "472:\tlearn: 0.0229199\ttotal: 441ms\tremaining: 491ms\n",
      "473:\tlearn: 0.0228960\ttotal: 441ms\tremaining: 489ms\n",
      "474:\tlearn: 0.0228832\ttotal: 443ms\tremaining: 489ms\n",
      "475:\tlearn: 0.0228533\ttotal: 443ms\tremaining: 488ms\n",
      "476:\tlearn: 0.0228184\ttotal: 446ms\tremaining: 489ms\n",
      "477:\tlearn: 0.0227958\ttotal: 447ms\tremaining: 488ms\n",
      "478:\tlearn: 0.0227651\ttotal: 448ms\tremaining: 487ms\n",
      "479:\tlearn: 0.0227428\ttotal: 448ms\tremaining: 485ms\n",
      "480:\tlearn: 0.0226870\ttotal: 449ms\tremaining: 484ms\n",
      "481:\tlearn: 0.0226464\ttotal: 449ms\tremaining: 482ms\n",
      "482:\tlearn: 0.0226248\ttotal: 449ms\tremaining: 481ms\n",
      "483:\tlearn: 0.0225804\ttotal: 451ms\tremaining: 481ms\n",
      "484:\tlearn: 0.0225634\ttotal: 451ms\tremaining: 479ms\n",
      "485:\tlearn: 0.0225518\ttotal: 452ms\tremaining: 478ms\n",
      "486:\tlearn: 0.0225317\ttotal: 452ms\tremaining: 476ms\n",
      "487:\tlearn: 0.0224941\ttotal: 453ms\tremaining: 475ms\n",
      "488:\tlearn: 0.0224706\ttotal: 453ms\tremaining: 474ms\n",
      "489:\tlearn: 0.0224507\ttotal: 454ms\tremaining: 473ms\n",
      "490:\tlearn: 0.0224402\ttotal: 454ms\tremaining: 471ms\n",
      "491:\tlearn: 0.0224054\ttotal: 455ms\tremaining: 470ms\n",
      "492:\tlearn: 0.0223721\ttotal: 455ms\tremaining: 468ms\n",
      "493:\tlearn: 0.0223552\ttotal: 456ms\tremaining: 467ms\n",
      "494:\tlearn: 0.0223242\ttotal: 457ms\tremaining: 466ms\n",
      "495:\tlearn: 0.0222785\ttotal: 457ms\tremaining: 465ms\n",
      "496:\tlearn: 0.0222442\ttotal: 458ms\tremaining: 463ms\n",
      "497:\tlearn: 0.0222009\ttotal: 458ms\tremaining: 462ms\n",
      "498:\tlearn: 0.0221733\ttotal: 459ms\tremaining: 461ms\n",
      "499:\tlearn: 0.0221463\ttotal: 459ms\tremaining: 459ms\n",
      "500:\tlearn: 0.0221080\ttotal: 463ms\tremaining: 461ms\n",
      "501:\tlearn: 0.0220722\ttotal: 464ms\tremaining: 460ms\n",
      "502:\tlearn: 0.0220281\ttotal: 465ms\tremaining: 459ms\n",
      "503:\tlearn: 0.0219916\ttotal: 466ms\tremaining: 459ms\n",
      "504:\tlearn: 0.0219844\ttotal: 467ms\tremaining: 457ms\n",
      "505:\tlearn: 0.0219143\ttotal: 467ms\tremaining: 456ms\n",
      "506:\tlearn: 0.0218974\ttotal: 467ms\tremaining: 455ms\n",
      "507:\tlearn: 0.0218673\ttotal: 468ms\tremaining: 453ms\n",
      "508:\tlearn: 0.0218507\ttotal: 469ms\tremaining: 452ms\n",
      "509:\tlearn: 0.0218186\ttotal: 469ms\tremaining: 451ms\n",
      "510:\tlearn: 0.0217769\ttotal: 470ms\tremaining: 449ms\n",
      "511:\tlearn: 0.0217525\ttotal: 470ms\tremaining: 448ms\n",
      "512:\tlearn: 0.0217062\ttotal: 471ms\tremaining: 447ms\n",
      "513:\tlearn: 0.0216493\ttotal: 474ms\tremaining: 448ms\n",
      "514:\tlearn: 0.0216246\ttotal: 474ms\tremaining: 447ms\n",
      "515:\tlearn: 0.0216036\ttotal: 475ms\tremaining: 446ms\n",
      "516:\tlearn: 0.0215856\ttotal: 476ms\tremaining: 444ms\n",
      "517:\tlearn: 0.0215705\ttotal: 476ms\tremaining: 443ms\n",
      "518:\tlearn: 0.0215477\ttotal: 477ms\tremaining: 442ms\n",
      "519:\tlearn: 0.0215298\ttotal: 477ms\tremaining: 440ms\n",
      "520:\tlearn: 0.0214997\ttotal: 478ms\tremaining: 439ms\n",
      "521:\tlearn: 0.0214483\ttotal: 478ms\tremaining: 438ms\n",
      "522:\tlearn: 0.0214081\ttotal: 479ms\tremaining: 437ms\n",
      "523:\tlearn: 0.0213909\ttotal: 480ms\tremaining: 436ms\n",
      "524:\tlearn: 0.0213648\ttotal: 481ms\tremaining: 435ms\n",
      "525:\tlearn: 0.0213252\ttotal: 481ms\tremaining: 433ms\n",
      "526:\tlearn: 0.0213106\ttotal: 482ms\tremaining: 433ms\n",
      "527:\tlearn: 0.0212826\ttotal: 483ms\tremaining: 431ms\n",
      "528:\tlearn: 0.0212578\ttotal: 483ms\tremaining: 430ms\n",
      "529:\tlearn: 0.0212339\ttotal: 484ms\tremaining: 429ms\n",
      "530:\tlearn: 0.0212169\ttotal: 484ms\tremaining: 428ms\n",
      "531:\tlearn: 0.0212036\ttotal: 484ms\tremaining: 426ms\n",
      "532:\tlearn: 0.0211849\ttotal: 486ms\tremaining: 426ms\n",
      "533:\tlearn: 0.0211597\ttotal: 487ms\tremaining: 425ms\n",
      "534:\tlearn: 0.0210982\ttotal: 488ms\tremaining: 424ms\n",
      "535:\tlearn: 0.0210455\ttotal: 490ms\tremaining: 424ms\n",
      "536:\tlearn: 0.0210177\ttotal: 490ms\tremaining: 423ms\n",
      "537:\tlearn: 0.0209824\ttotal: 491ms\tremaining: 421ms\n",
      "538:\tlearn: 0.0209656\ttotal: 496ms\tremaining: 424ms\n",
      "539:\tlearn: 0.0209353\ttotal: 497ms\tremaining: 423ms\n",
      "540:\tlearn: 0.0209020\ttotal: 497ms\tremaining: 422ms\n",
      "541:\tlearn: 0.0208737\ttotal: 498ms\tremaining: 421ms\n",
      "542:\tlearn: 0.0208449\ttotal: 499ms\tremaining: 420ms\n",
      "543:\tlearn: 0.0208120\ttotal: 502ms\tremaining: 421ms\n",
      "544:\tlearn: 0.0207763\ttotal: 502ms\tremaining: 419ms\n",
      "545:\tlearn: 0.0207540\ttotal: 503ms\tremaining: 418ms\n",
      "546:\tlearn: 0.0207329\ttotal: 503ms\tremaining: 417ms\n",
      "547:\tlearn: 0.0207180\ttotal: 506ms\tremaining: 417ms\n",
      "548:\tlearn: 0.0206739\ttotal: 506ms\tremaining: 416ms\n",
      "549:\tlearn: 0.0206412\ttotal: 507ms\tremaining: 415ms\n",
      "550:\tlearn: 0.0206256\ttotal: 508ms\tremaining: 414ms\n",
      "551:\tlearn: 0.0205967\ttotal: 509ms\tremaining: 413ms\n",
      "552:\tlearn: 0.0205566\ttotal: 513ms\tremaining: 415ms\n",
      "553:\tlearn: 0.0205229\ttotal: 514ms\tremaining: 414ms\n",
      "554:\tlearn: 0.0205105\ttotal: 514ms\tremaining: 412ms\n",
      "555:\tlearn: 0.0204827\ttotal: 515ms\tremaining: 411ms\n",
      "556:\tlearn: 0.0204490\ttotal: 515ms\tremaining: 409ms\n",
      "557:\tlearn: 0.0204251\ttotal: 515ms\tremaining: 408ms\n",
      "558:\tlearn: 0.0204100\ttotal: 516ms\tremaining: 407ms\n",
      "559:\tlearn: 0.0203799\ttotal: 516ms\tremaining: 405ms\n",
      "560:\tlearn: 0.0203545\ttotal: 516ms\tremaining: 404ms\n",
      "561:\tlearn: 0.0203338\ttotal: 517ms\tremaining: 403ms\n",
      "562:\tlearn: 0.0203156\ttotal: 517ms\tremaining: 401ms\n",
      "563:\tlearn: 0.0202893\ttotal: 517ms\tremaining: 400ms\n",
      "564:\tlearn: 0.0202744\ttotal: 518ms\tremaining: 399ms\n",
      "565:\tlearn: 0.0202543\ttotal: 518ms\tremaining: 397ms\n",
      "566:\tlearn: 0.0202336\ttotal: 519ms\tremaining: 396ms\n",
      "567:\tlearn: 0.0202103\ttotal: 519ms\tremaining: 395ms\n",
      "568:\tlearn: 0.0201815\ttotal: 520ms\tremaining: 394ms\n",
      "569:\tlearn: 0.0201608\ttotal: 520ms\tremaining: 392ms\n",
      "570:\tlearn: 0.0201449\ttotal: 520ms\tremaining: 391ms\n",
      "571:\tlearn: 0.0200859\ttotal: 521ms\tremaining: 390ms\n",
      "572:\tlearn: 0.0200798\ttotal: 521ms\tremaining: 388ms\n",
      "573:\tlearn: 0.0200609\ttotal: 521ms\tremaining: 387ms\n",
      "574:\tlearn: 0.0200250\ttotal: 522ms\tremaining: 386ms\n",
      "575:\tlearn: 0.0200107\ttotal: 522ms\tremaining: 384ms\n",
      "576:\tlearn: 0.0199987\ttotal: 522ms\tremaining: 383ms\n",
      "577:\tlearn: 0.0199846\ttotal: 523ms\tremaining: 382ms\n",
      "578:\tlearn: 0.0199583\ttotal: 523ms\tremaining: 380ms\n",
      "579:\tlearn: 0.0199359\ttotal: 523ms\tremaining: 379ms\n",
      "580:\tlearn: 0.0199211\ttotal: 524ms\tremaining: 378ms\n",
      "581:\tlearn: 0.0198757\ttotal: 524ms\tremaining: 376ms\n",
      "582:\tlearn: 0.0198196\ttotal: 524ms\tremaining: 375ms\n",
      "583:\tlearn: 0.0197892\ttotal: 525ms\tremaining: 374ms\n",
      "584:\tlearn: 0.0197744\ttotal: 525ms\tremaining: 372ms\n",
      "585:\tlearn: 0.0197531\ttotal: 526ms\tremaining: 371ms\n",
      "586:\tlearn: 0.0197300\ttotal: 526ms\tremaining: 370ms\n",
      "587:\tlearn: 0.0196756\ttotal: 526ms\tremaining: 369ms\n",
      "588:\tlearn: 0.0196643\ttotal: 527ms\tremaining: 368ms\n",
      "589:\tlearn: 0.0196353\ttotal: 527ms\tremaining: 366ms\n",
      "590:\tlearn: 0.0196212\ttotal: 527ms\tremaining: 365ms\n",
      "591:\tlearn: 0.0195958\ttotal: 528ms\tremaining: 364ms\n",
      "592:\tlearn: 0.0195773\ttotal: 528ms\tremaining: 362ms\n",
      "593:\tlearn: 0.0195608\ttotal: 528ms\tremaining: 361ms\n",
      "594:\tlearn: 0.0195553\ttotal: 529ms\tremaining: 360ms\n",
      "595:\tlearn: 0.0195291\ttotal: 529ms\tremaining: 359ms\n",
      "596:\tlearn: 0.0194774\ttotal: 529ms\tremaining: 357ms\n",
      "597:\tlearn: 0.0194640\ttotal: 530ms\tremaining: 356ms\n",
      "598:\tlearn: 0.0194513\ttotal: 530ms\tremaining: 355ms\n",
      "599:\tlearn: 0.0194260\ttotal: 531ms\tremaining: 354ms\n",
      "600:\tlearn: 0.0194025\ttotal: 531ms\tremaining: 352ms\n",
      "601:\tlearn: 0.0193849\ttotal: 531ms\tremaining: 351ms\n",
      "602:\tlearn: 0.0193739\ttotal: 532ms\tremaining: 350ms\n",
      "603:\tlearn: 0.0193582\ttotal: 532ms\tremaining: 349ms\n",
      "604:\tlearn: 0.0193386\ttotal: 532ms\tremaining: 347ms\n",
      "605:\tlearn: 0.0193273\ttotal: 532ms\tremaining: 346ms\n",
      "606:\tlearn: 0.0193145\ttotal: 533ms\tremaining: 345ms\n",
      "607:\tlearn: 0.0192733\ttotal: 533ms\tremaining: 344ms\n",
      "608:\tlearn: 0.0192297\ttotal: 534ms\tremaining: 343ms\n",
      "609:\tlearn: 0.0192175\ttotal: 534ms\tremaining: 341ms\n",
      "610:\tlearn: 0.0191680\ttotal: 534ms\tremaining: 340ms\n",
      "611:\tlearn: 0.0191549\ttotal: 534ms\tremaining: 339ms\n",
      "612:\tlearn: 0.0191382\ttotal: 535ms\tremaining: 338ms\n",
      "613:\tlearn: 0.0191170\ttotal: 535ms\tremaining: 336ms\n",
      "614:\tlearn: 0.0190943\ttotal: 535ms\tremaining: 335ms\n",
      "615:\tlearn: 0.0190735\ttotal: 536ms\tremaining: 334ms\n",
      "616:\tlearn: 0.0190506\ttotal: 536ms\tremaining: 333ms\n",
      "617:\tlearn: 0.0190318\ttotal: 537ms\tremaining: 332ms\n",
      "618:\tlearn: 0.0189938\ttotal: 537ms\tremaining: 331ms\n",
      "619:\tlearn: 0.0189796\ttotal: 537ms\tremaining: 329ms\n",
      "620:\tlearn: 0.0189492\ttotal: 538ms\tremaining: 328ms\n",
      "621:\tlearn: 0.0189365\ttotal: 538ms\tremaining: 327ms\n",
      "622:\tlearn: 0.0189140\ttotal: 538ms\tremaining: 326ms\n",
      "623:\tlearn: 0.0189092\ttotal: 539ms\tremaining: 325ms\n",
      "624:\tlearn: 0.0188882\ttotal: 539ms\tremaining: 323ms\n",
      "625:\tlearn: 0.0188699\ttotal: 539ms\tremaining: 322ms\n",
      "626:\tlearn: 0.0188420\ttotal: 539ms\tremaining: 321ms\n",
      "627:\tlearn: 0.0188257\ttotal: 540ms\tremaining: 320ms\n",
      "628:\tlearn: 0.0187987\ttotal: 541ms\tremaining: 319ms\n",
      "629:\tlearn: 0.0187748\ttotal: 541ms\tremaining: 318ms\n",
      "630:\tlearn: 0.0187484\ttotal: 542ms\tremaining: 317ms\n",
      "631:\tlearn: 0.0187309\ttotal: 542ms\tremaining: 316ms\n",
      "632:\tlearn: 0.0187149\ttotal: 542ms\tremaining: 314ms\n",
      "633:\tlearn: 0.0186765\ttotal: 543ms\tremaining: 313ms\n",
      "634:\tlearn: 0.0186508\ttotal: 543ms\tremaining: 312ms\n",
      "635:\tlearn: 0.0186388\ttotal: 544ms\tremaining: 311ms\n",
      "636:\tlearn: 0.0186224\ttotal: 544ms\tremaining: 310ms\n",
      "637:\tlearn: 0.0185967\ttotal: 545ms\tremaining: 309ms\n",
      "638:\tlearn: 0.0185604\ttotal: 545ms\tremaining: 308ms\n",
      "639:\tlearn: 0.0185447\ttotal: 545ms\tremaining: 307ms\n",
      "640:\tlearn: 0.0185309\ttotal: 545ms\tremaining: 305ms\n",
      "641:\tlearn: 0.0185192\ttotal: 546ms\tremaining: 304ms\n",
      "642:\tlearn: 0.0184933\ttotal: 546ms\tremaining: 303ms\n",
      "643:\tlearn: 0.0184686\ttotal: 546ms\tremaining: 302ms\n",
      "644:\tlearn: 0.0184401\ttotal: 547ms\tremaining: 301ms\n",
      "645:\tlearn: 0.0184165\ttotal: 547ms\tremaining: 300ms\n",
      "646:\tlearn: 0.0184006\ttotal: 548ms\tremaining: 299ms\n",
      "647:\tlearn: 0.0183895\ttotal: 548ms\tremaining: 298ms\n",
      "648:\tlearn: 0.0183701\ttotal: 548ms\tremaining: 297ms\n",
      "649:\tlearn: 0.0183457\ttotal: 549ms\tremaining: 296ms\n",
      "650:\tlearn: 0.0183353\ttotal: 549ms\tremaining: 294ms\n",
      "651:\tlearn: 0.0183116\ttotal: 550ms\tremaining: 293ms\n",
      "652:\tlearn: 0.0183012\ttotal: 550ms\tremaining: 292ms\n",
      "653:\tlearn: 0.0182896\ttotal: 550ms\tremaining: 291ms\n",
      "654:\tlearn: 0.0182628\ttotal: 551ms\tremaining: 290ms\n",
      "655:\tlearn: 0.0182500\ttotal: 551ms\tremaining: 289ms\n",
      "656:\tlearn: 0.0182212\ttotal: 551ms\tremaining: 288ms\n",
      "657:\tlearn: 0.0181541\ttotal: 552ms\tremaining: 287ms\n",
      "658:\tlearn: 0.0181433\ttotal: 554ms\tremaining: 287ms\n",
      "659:\tlearn: 0.0181081\ttotal: 555ms\tremaining: 286ms\n",
      "660:\tlearn: 0.0180728\ttotal: 555ms\tremaining: 285ms\n",
      "661:\tlearn: 0.0180540\ttotal: 556ms\tremaining: 284ms\n",
      "662:\tlearn: 0.0180208\ttotal: 556ms\tremaining: 283ms\n",
      "663:\tlearn: 0.0180095\ttotal: 556ms\tremaining: 281ms\n",
      "664:\tlearn: 0.0179895\ttotal: 556ms\tremaining: 280ms\n",
      "665:\tlearn: 0.0179724\ttotal: 557ms\tremaining: 279ms\n",
      "666:\tlearn: 0.0179629\ttotal: 557ms\tremaining: 278ms\n",
      "667:\tlearn: 0.0179516\ttotal: 557ms\tremaining: 277ms\n",
      "668:\tlearn: 0.0179384\ttotal: 557ms\tremaining: 276ms\n",
      "669:\tlearn: 0.0179156\ttotal: 558ms\tremaining: 275ms\n",
      "670:\tlearn: 0.0178949\ttotal: 558ms\tremaining: 274ms\n",
      "671:\tlearn: 0.0178645\ttotal: 558ms\tremaining: 273ms\n",
      "672:\tlearn: 0.0178499\ttotal: 559ms\tremaining: 271ms\n",
      "673:\tlearn: 0.0178360\ttotal: 559ms\tremaining: 270ms\n",
      "674:\tlearn: 0.0178243\ttotal: 560ms\tremaining: 269ms\n",
      "675:\tlearn: 0.0178127\ttotal: 560ms\tremaining: 268ms\n",
      "676:\tlearn: 0.0177938\ttotal: 560ms\tremaining: 267ms\n",
      "677:\tlearn: 0.0177829\ttotal: 561ms\tremaining: 266ms\n",
      "678:\tlearn: 0.0177643\ttotal: 561ms\tremaining: 265ms\n",
      "679:\tlearn: 0.0177449\ttotal: 561ms\tremaining: 264ms\n",
      "680:\tlearn: 0.0177355\ttotal: 562ms\tremaining: 263ms\n",
      "681:\tlearn: 0.0177180\ttotal: 562ms\tremaining: 262ms\n",
      "682:\tlearn: 0.0177136\ttotal: 562ms\tremaining: 261ms\n",
      "683:\tlearn: 0.0176534\ttotal: 563ms\tremaining: 260ms\n",
      "684:\tlearn: 0.0176322\ttotal: 563ms\tremaining: 259ms\n",
      "685:\tlearn: 0.0176173\ttotal: 563ms\tremaining: 258ms\n",
      "686:\tlearn: 0.0175972\ttotal: 563ms\tremaining: 257ms\n",
      "687:\tlearn: 0.0175789\ttotal: 565ms\tremaining: 256ms\n",
      "688:\tlearn: 0.0175590\ttotal: 565ms\tremaining: 255ms\n",
      "689:\tlearn: 0.0175127\ttotal: 565ms\tremaining: 254ms\n",
      "690:\tlearn: 0.0174979\ttotal: 566ms\tremaining: 253ms\n",
      "691:\tlearn: 0.0174784\ttotal: 566ms\tremaining: 252ms\n",
      "692:\tlearn: 0.0174516\ttotal: 566ms\tremaining: 251ms\n",
      "693:\tlearn: 0.0174369\ttotal: 567ms\tremaining: 250ms\n",
      "694:\tlearn: 0.0174179\ttotal: 567ms\tremaining: 249ms\n",
      "695:\tlearn: 0.0173982\ttotal: 567ms\tremaining: 248ms\n",
      "696:\tlearn: 0.0173788\ttotal: 568ms\tremaining: 247ms\n",
      "697:\tlearn: 0.0173683\ttotal: 568ms\tremaining: 246ms\n",
      "698:\tlearn: 0.0173590\ttotal: 568ms\tremaining: 245ms\n",
      "699:\tlearn: 0.0173530\ttotal: 568ms\tremaining: 244ms\n",
      "700:\tlearn: 0.0173448\ttotal: 569ms\tremaining: 243ms\n"
     ]
    },
    {
     "name": "stdout",
     "output_type": "stream",
     "text": [
      "701:\tlearn: 0.0173272\ttotal: 569ms\tremaining: 242ms\n",
      "702:\tlearn: 0.0173072\ttotal: 569ms\tremaining: 241ms\n",
      "703:\tlearn: 0.0172746\ttotal: 570ms\tremaining: 239ms\n",
      "704:\tlearn: 0.0172482\ttotal: 570ms\tremaining: 238ms\n",
      "705:\tlearn: 0.0172201\ttotal: 570ms\tremaining: 237ms\n",
      "706:\tlearn: 0.0171971\ttotal: 573ms\tremaining: 237ms\n",
      "707:\tlearn: 0.0171740\ttotal: 573ms\tremaining: 236ms\n",
      "708:\tlearn: 0.0171640\ttotal: 573ms\tremaining: 235ms\n",
      "709:\tlearn: 0.0171334\ttotal: 573ms\tremaining: 234ms\n",
      "710:\tlearn: 0.0171195\ttotal: 574ms\tremaining: 233ms\n",
      "711:\tlearn: 0.0171023\ttotal: 574ms\tremaining: 232ms\n",
      "712:\tlearn: 0.0170903\ttotal: 575ms\tremaining: 231ms\n",
      "713:\tlearn: 0.0170816\ttotal: 575ms\tremaining: 230ms\n",
      "714:\tlearn: 0.0170575\ttotal: 575ms\tremaining: 229ms\n",
      "715:\tlearn: 0.0170479\ttotal: 575ms\tremaining: 228ms\n",
      "716:\tlearn: 0.0170210\ttotal: 576ms\tremaining: 227ms\n",
      "717:\tlearn: 0.0170109\ttotal: 577ms\tremaining: 226ms\n",
      "718:\tlearn: 0.0169873\ttotal: 577ms\tremaining: 225ms\n",
      "719:\tlearn: 0.0169769\ttotal: 577ms\tremaining: 224ms\n",
      "720:\tlearn: 0.0169585\ttotal: 577ms\tremaining: 223ms\n",
      "721:\tlearn: 0.0169517\ttotal: 578ms\tremaining: 222ms\n",
      "722:\tlearn: 0.0168987\ttotal: 578ms\tremaining: 221ms\n",
      "723:\tlearn: 0.0168784\ttotal: 578ms\tremaining: 220ms\n",
      "724:\tlearn: 0.0168604\ttotal: 579ms\tremaining: 219ms\n",
      "725:\tlearn: 0.0168364\ttotal: 579ms\tremaining: 218ms\n",
      "726:\tlearn: 0.0168249\ttotal: 579ms\tremaining: 217ms\n",
      "727:\tlearn: 0.0167974\ttotal: 579ms\tremaining: 216ms\n",
      "728:\tlearn: 0.0167813\ttotal: 580ms\tremaining: 215ms\n",
      "729:\tlearn: 0.0167552\ttotal: 580ms\tremaining: 214ms\n",
      "730:\tlearn: 0.0167418\ttotal: 581ms\tremaining: 214ms\n",
      "731:\tlearn: 0.0167266\ttotal: 581ms\tremaining: 213ms\n",
      "732:\tlearn: 0.0167186\ttotal: 582ms\tremaining: 212ms\n",
      "733:\tlearn: 0.0167056\ttotal: 582ms\tremaining: 211ms\n",
      "734:\tlearn: 0.0166894\ttotal: 582ms\tremaining: 210ms\n",
      "735:\tlearn: 0.0166781\ttotal: 582ms\tremaining: 209ms\n",
      "736:\tlearn: 0.0166558\ttotal: 583ms\tremaining: 208ms\n",
      "737:\tlearn: 0.0166293\ttotal: 583ms\tremaining: 207ms\n",
      "738:\tlearn: 0.0166140\ttotal: 583ms\tremaining: 206ms\n",
      "739:\tlearn: 0.0165974\ttotal: 583ms\tremaining: 205ms\n",
      "740:\tlearn: 0.0165806\ttotal: 584ms\tremaining: 204ms\n",
      "741:\tlearn: 0.0165725\ttotal: 584ms\tremaining: 203ms\n",
      "742:\tlearn: 0.0165619\ttotal: 585ms\tremaining: 202ms\n",
      "743:\tlearn: 0.0165537\ttotal: 585ms\tremaining: 201ms\n",
      "744:\tlearn: 0.0165402\ttotal: 585ms\tremaining: 200ms\n",
      "745:\tlearn: 0.0165327\ttotal: 585ms\tremaining: 199ms\n",
      "746:\tlearn: 0.0165237\ttotal: 586ms\tremaining: 198ms\n",
      "747:\tlearn: 0.0165101\ttotal: 586ms\tremaining: 197ms\n",
      "748:\tlearn: 0.0164924\ttotal: 586ms\tremaining: 196ms\n",
      "749:\tlearn: 0.0164784\ttotal: 587ms\tremaining: 196ms\n",
      "750:\tlearn: 0.0164584\ttotal: 587ms\tremaining: 195ms\n",
      "751:\tlearn: 0.0164496\ttotal: 587ms\tremaining: 194ms\n",
      "752:\tlearn: 0.0164390\ttotal: 588ms\tremaining: 193ms\n",
      "753:\tlearn: 0.0164233\ttotal: 588ms\tremaining: 192ms\n",
      "754:\tlearn: 0.0164027\ttotal: 588ms\tremaining: 191ms\n",
      "755:\tlearn: 0.0163789\ttotal: 589ms\tremaining: 190ms\n",
      "756:\tlearn: 0.0163583\ttotal: 589ms\tremaining: 189ms\n",
      "757:\tlearn: 0.0163428\ttotal: 589ms\tremaining: 188ms\n",
      "758:\tlearn: 0.0163256\ttotal: 590ms\tremaining: 187ms\n",
      "759:\tlearn: 0.0163098\ttotal: 590ms\tremaining: 186ms\n",
      "760:\tlearn: 0.0162851\ttotal: 590ms\tremaining: 185ms\n",
      "761:\tlearn: 0.0162816\ttotal: 591ms\tremaining: 184ms\n",
      "762:\tlearn: 0.0162644\ttotal: 591ms\tremaining: 184ms\n",
      "763:\tlearn: 0.0162495\ttotal: 592ms\tremaining: 183ms\n",
      "764:\tlearn: 0.0162337\ttotal: 592ms\tremaining: 182ms\n",
      "765:\tlearn: 0.0162172\ttotal: 592ms\tremaining: 181ms\n",
      "766:\tlearn: 0.0162031\ttotal: 592ms\tremaining: 180ms\n",
      "767:\tlearn: 0.0161957\ttotal: 593ms\tremaining: 179ms\n",
      "768:\tlearn: 0.0161723\ttotal: 593ms\tremaining: 178ms\n",
      "769:\tlearn: 0.0161582\ttotal: 593ms\tremaining: 177ms\n",
      "770:\tlearn: 0.0161389\ttotal: 593ms\tremaining: 176ms\n",
      "771:\tlearn: 0.0161213\ttotal: 594ms\tremaining: 175ms\n",
      "772:\tlearn: 0.0161026\ttotal: 594ms\tremaining: 174ms\n",
      "773:\tlearn: 0.0160875\ttotal: 594ms\tremaining: 174ms\n",
      "774:\tlearn: 0.0160760\ttotal: 595ms\tremaining: 173ms\n",
      "775:\tlearn: 0.0160541\ttotal: 595ms\tremaining: 172ms\n",
      "776:\tlearn: 0.0160395\ttotal: 595ms\tremaining: 171ms\n",
      "777:\tlearn: 0.0160173\ttotal: 595ms\tremaining: 170ms\n",
      "778:\tlearn: 0.0160048\ttotal: 596ms\tremaining: 169ms\n",
      "779:\tlearn: 0.0159825\ttotal: 596ms\tremaining: 168ms\n",
      "780:\tlearn: 0.0159590\ttotal: 597ms\tremaining: 167ms\n",
      "781:\tlearn: 0.0159530\ttotal: 598ms\tremaining: 167ms\n",
      "782:\tlearn: 0.0159316\ttotal: 598ms\tremaining: 166ms\n",
      "783:\tlearn: 0.0159216\ttotal: 598ms\tremaining: 165ms\n",
      "784:\tlearn: 0.0159090\ttotal: 598ms\tremaining: 164ms\n",
      "785:\tlearn: 0.0158968\ttotal: 599ms\tremaining: 163ms\n",
      "786:\tlearn: 0.0158782\ttotal: 599ms\tremaining: 162ms\n",
      "787:\tlearn: 0.0158641\ttotal: 599ms\tremaining: 161ms\n",
      "788:\tlearn: 0.0158529\ttotal: 600ms\tremaining: 160ms\n",
      "789:\tlearn: 0.0158454\ttotal: 600ms\tremaining: 159ms\n",
      "790:\tlearn: 0.0158361\ttotal: 600ms\tremaining: 159ms\n",
      "791:\tlearn: 0.0158299\ttotal: 600ms\tremaining: 158ms\n",
      "792:\tlearn: 0.0158157\ttotal: 601ms\tremaining: 157ms\n",
      "793:\tlearn: 0.0158004\ttotal: 601ms\tremaining: 156ms\n",
      "794:\tlearn: 0.0157887\ttotal: 602ms\tremaining: 155ms\n",
      "795:\tlearn: 0.0157717\ttotal: 602ms\tremaining: 154ms\n",
      "796:\tlearn: 0.0157397\ttotal: 602ms\tremaining: 153ms\n",
      "797:\tlearn: 0.0157261\ttotal: 603ms\tremaining: 153ms\n",
      "798:\tlearn: 0.0157172\ttotal: 603ms\tremaining: 152ms\n",
      "799:\tlearn: 0.0157068\ttotal: 603ms\tremaining: 151ms\n",
      "800:\tlearn: 0.0156981\ttotal: 604ms\tremaining: 150ms\n",
      "801:\tlearn: 0.0156852\ttotal: 604ms\tremaining: 149ms\n",
      "802:\tlearn: 0.0156682\ttotal: 604ms\tremaining: 148ms\n",
      "803:\tlearn: 0.0156553\ttotal: 605ms\tremaining: 148ms\n",
      "804:\tlearn: 0.0156295\ttotal: 605ms\tremaining: 147ms\n",
      "805:\tlearn: 0.0156182\ttotal: 606ms\tremaining: 146ms\n",
      "806:\tlearn: 0.0156099\ttotal: 606ms\tremaining: 145ms\n",
      "807:\tlearn: 0.0155987\ttotal: 606ms\tremaining: 144ms\n",
      "808:\tlearn: 0.0155933\ttotal: 607ms\tremaining: 143ms\n",
      "809:\tlearn: 0.0155727\ttotal: 607ms\tremaining: 142ms\n",
      "810:\tlearn: 0.0155648\ttotal: 607ms\tremaining: 142ms\n",
      "811:\tlearn: 0.0155511\ttotal: 608ms\tremaining: 141ms\n",
      "812:\tlearn: 0.0155437\ttotal: 608ms\tremaining: 140ms\n",
      "813:\tlearn: 0.0155368\ttotal: 608ms\tremaining: 139ms\n",
      "814:\tlearn: 0.0155175\ttotal: 609ms\tremaining: 138ms\n",
      "815:\tlearn: 0.0155047\ttotal: 609ms\tremaining: 137ms\n",
      "816:\tlearn: 0.0154910\ttotal: 609ms\tremaining: 136ms\n",
      "817:\tlearn: 0.0154701\ttotal: 609ms\tremaining: 136ms\n",
      "818:\tlearn: 0.0154514\ttotal: 610ms\tremaining: 135ms\n",
      "819:\tlearn: 0.0154393\ttotal: 610ms\tremaining: 134ms\n",
      "820:\tlearn: 0.0154286\ttotal: 610ms\tremaining: 133ms\n",
      "821:\tlearn: 0.0154145\ttotal: 610ms\tremaining: 132ms\n",
      "822:\tlearn: 0.0154062\ttotal: 611ms\tremaining: 131ms\n",
      "823:\tlearn: 0.0153977\ttotal: 611ms\tremaining: 131ms\n",
      "824:\tlearn: 0.0153867\ttotal: 612ms\tremaining: 130ms\n",
      "825:\tlearn: 0.0153638\ttotal: 612ms\tremaining: 129ms\n",
      "826:\tlearn: 0.0153521\ttotal: 612ms\tremaining: 128ms\n",
      "827:\tlearn: 0.0153289\ttotal: 613ms\tremaining: 127ms\n",
      "828:\tlearn: 0.0153174\ttotal: 613ms\tremaining: 126ms\n",
      "829:\tlearn: 0.0153045\ttotal: 613ms\tremaining: 126ms\n",
      "830:\tlearn: 0.0152901\ttotal: 613ms\tremaining: 125ms\n",
      "831:\tlearn: 0.0152693\ttotal: 614ms\tremaining: 124ms\n",
      "832:\tlearn: 0.0152591\ttotal: 614ms\tremaining: 123ms\n",
      "833:\tlearn: 0.0152520\ttotal: 614ms\tremaining: 122ms\n",
      "834:\tlearn: 0.0152375\ttotal: 615ms\tremaining: 122ms\n",
      "835:\tlearn: 0.0152291\ttotal: 615ms\tremaining: 121ms\n",
      "836:\tlearn: 0.0152192\ttotal: 616ms\tremaining: 120ms\n",
      "837:\tlearn: 0.0151993\ttotal: 616ms\tremaining: 119ms\n",
      "838:\tlearn: 0.0151886\ttotal: 616ms\tremaining: 118ms\n",
      "839:\tlearn: 0.0151734\ttotal: 617ms\tremaining: 117ms\n",
      "840:\tlearn: 0.0151615\ttotal: 617ms\tremaining: 117ms\n",
      "841:\tlearn: 0.0151501\ttotal: 617ms\tremaining: 116ms\n",
      "842:\tlearn: 0.0151352\ttotal: 617ms\tremaining: 115ms\n",
      "843:\tlearn: 0.0151252\ttotal: 618ms\tremaining: 114ms\n",
      "844:\tlearn: 0.0150944\ttotal: 618ms\tremaining: 113ms\n",
      "845:\tlearn: 0.0150813\ttotal: 618ms\tremaining: 113ms\n",
      "846:\tlearn: 0.0150629\ttotal: 618ms\tremaining: 112ms\n",
      "847:\tlearn: 0.0150584\ttotal: 620ms\tremaining: 111ms\n",
      "848:\tlearn: 0.0150444\ttotal: 620ms\tremaining: 110ms\n",
      "849:\tlearn: 0.0150274\ttotal: 620ms\tremaining: 109ms\n",
      "850:\tlearn: 0.0150131\ttotal: 621ms\tremaining: 109ms\n",
      "851:\tlearn: 0.0150003\ttotal: 621ms\tremaining: 108ms\n",
      "852:\tlearn: 0.0149872\ttotal: 621ms\tremaining: 107ms\n",
      "853:\tlearn: 0.0149665\ttotal: 622ms\tremaining: 106ms\n",
      "854:\tlearn: 0.0149564\ttotal: 622ms\tremaining: 106ms\n",
      "855:\tlearn: 0.0149385\ttotal: 623ms\tremaining: 105ms\n",
      "856:\tlearn: 0.0149294\ttotal: 623ms\tremaining: 104ms\n",
      "857:\tlearn: 0.0149095\ttotal: 623ms\tremaining: 103ms\n",
      "858:\tlearn: 0.0149027\ttotal: 624ms\tremaining: 102ms\n",
      "859:\tlearn: 0.0148915\ttotal: 624ms\tremaining: 102ms\n",
      "860:\tlearn: 0.0148828\ttotal: 624ms\tremaining: 101ms\n",
      "861:\tlearn: 0.0148670\ttotal: 624ms\tremaining: 100ms\n",
      "862:\tlearn: 0.0148590\ttotal: 625ms\tremaining: 99.2ms\n",
      "863:\tlearn: 0.0148457\ttotal: 625ms\tremaining: 98.4ms\n",
      "864:\tlearn: 0.0148212\ttotal: 626ms\tremaining: 97.7ms\n",
      "865:\tlearn: 0.0148116\ttotal: 626ms\tremaining: 96.9ms\n",
      "866:\tlearn: 0.0148028\ttotal: 627ms\tremaining: 96.1ms\n",
      "867:\tlearn: 0.0147993\ttotal: 627ms\tremaining: 95.3ms\n",
      "868:\tlearn: 0.0147841\ttotal: 627ms\tremaining: 94.6ms\n",
      "869:\tlearn: 0.0147582\ttotal: 627ms\tremaining: 93.8ms\n",
      "870:\tlearn: 0.0147430\ttotal: 628ms\tremaining: 93ms\n",
      "871:\tlearn: 0.0147247\ttotal: 628ms\tremaining: 92.2ms\n",
      "872:\tlearn: 0.0147192\ttotal: 628ms\tremaining: 91.4ms\n",
      "873:\tlearn: 0.0147147\ttotal: 629ms\tremaining: 90.6ms\n",
      "874:\tlearn: 0.0147078\ttotal: 629ms\tremaining: 89.8ms\n",
      "875:\tlearn: 0.0146976\ttotal: 630ms\tremaining: 89.2ms\n",
      "876:\tlearn: 0.0146746\ttotal: 630ms\tremaining: 88.4ms\n",
      "877:\tlearn: 0.0146664\ttotal: 630ms\tremaining: 87.6ms\n",
      "878:\tlearn: 0.0146557\ttotal: 631ms\tremaining: 86.8ms\n",
      "879:\tlearn: 0.0146479\ttotal: 631ms\tremaining: 86ms\n",
      "880:\tlearn: 0.0146357\ttotal: 631ms\tremaining: 85.3ms\n",
      "881:\tlearn: 0.0146266\ttotal: 632ms\tremaining: 84.5ms\n",
      "882:\tlearn: 0.0146165\ttotal: 633ms\tremaining: 83.8ms\n",
      "883:\tlearn: 0.0146079\ttotal: 633ms\tremaining: 83.1ms\n",
      "884:\tlearn: 0.0145979\ttotal: 633ms\tremaining: 82.3ms\n",
      "885:\tlearn: 0.0145910\ttotal: 633ms\tremaining: 81.5ms\n",
      "886:\tlearn: 0.0145849\ttotal: 634ms\tremaining: 80.7ms\n",
      "887:\tlearn: 0.0145755\ttotal: 634ms\tremaining: 80ms\n",
      "888:\tlearn: 0.0145647\ttotal: 634ms\tremaining: 79.2ms\n",
      "889:\tlearn: 0.0145447\ttotal: 635ms\tremaining: 78.4ms\n",
      "890:\tlearn: 0.0145366\ttotal: 635ms\tremaining: 77.7ms\n",
      "891:\tlearn: 0.0145343\ttotal: 635ms\tremaining: 76.9ms\n",
      "892:\tlearn: 0.0145264\ttotal: 635ms\tremaining: 76.1ms\n",
      "893:\tlearn: 0.0145143\ttotal: 636ms\tremaining: 75.4ms\n",
      "894:\tlearn: 0.0144994\ttotal: 636ms\tremaining: 74.6ms\n",
      "895:\tlearn: 0.0144845\ttotal: 636ms\tremaining: 73.9ms\n",
      "896:\tlearn: 0.0144748\ttotal: 637ms\tremaining: 73.1ms\n",
      "897:\tlearn: 0.0144667\ttotal: 637ms\tremaining: 72.4ms\n",
      "898:\tlearn: 0.0144572\ttotal: 637ms\tremaining: 71.6ms\n",
      "899:\tlearn: 0.0144473\ttotal: 638ms\tremaining: 70.9ms\n",
      "900:\tlearn: 0.0144382\ttotal: 641ms\tremaining: 70.4ms\n",
      "901:\tlearn: 0.0144319\ttotal: 641ms\tremaining: 69.7ms\n",
      "902:\tlearn: 0.0144194\ttotal: 642ms\tremaining: 68.9ms\n",
      "903:\tlearn: 0.0144051\ttotal: 643ms\tremaining: 68.3ms\n",
      "904:\tlearn: 0.0143962\ttotal: 643ms\tremaining: 67.5ms\n",
      "905:\tlearn: 0.0143925\ttotal: 644ms\tremaining: 66.8ms\n",
      "906:\tlearn: 0.0143892\ttotal: 644ms\tremaining: 66.1ms\n",
      "907:\tlearn: 0.0143849\ttotal: 646ms\tremaining: 65.5ms\n",
      "908:\tlearn: 0.0143751\ttotal: 647ms\tremaining: 64.7ms\n",
      "909:\tlearn: 0.0143537\ttotal: 651ms\tremaining: 64.4ms\n",
      "910:\tlearn: 0.0143373\ttotal: 651ms\tremaining: 63.6ms\n",
      "911:\tlearn: 0.0143284\ttotal: 653ms\tremaining: 63ms\n",
      "912:\tlearn: 0.0143078\ttotal: 653ms\tremaining: 62.3ms\n",
      "913:\tlearn: 0.0142981\ttotal: 656ms\tremaining: 61.7ms\n",
      "914:\tlearn: 0.0142899\ttotal: 656ms\tremaining: 61ms\n",
      "915:\tlearn: 0.0142782\ttotal: 657ms\tremaining: 60.2ms\n",
      "916:\tlearn: 0.0142729\ttotal: 657ms\tremaining: 59.5ms\n",
      "917:\tlearn: 0.0142645\ttotal: 659ms\tremaining: 58.9ms\n",
      "918:\tlearn: 0.0142540\ttotal: 660ms\tremaining: 58.1ms\n",
      "919:\tlearn: 0.0142431\ttotal: 660ms\tremaining: 57.4ms\n",
      "920:\tlearn: 0.0142373\ttotal: 660ms\tremaining: 56.6ms\n",
      "921:\tlearn: 0.0142175\ttotal: 660ms\tremaining: 55.9ms\n",
      "922:\tlearn: 0.0141991\ttotal: 661ms\tremaining: 55.1ms\n",
      "923:\tlearn: 0.0141936\ttotal: 661ms\tremaining: 54.4ms\n",
      "924:\tlearn: 0.0141864\ttotal: 661ms\tremaining: 53.6ms\n",
      "925:\tlearn: 0.0141760\ttotal: 661ms\tremaining: 52.9ms\n",
      "926:\tlearn: 0.0141619\ttotal: 662ms\tremaining: 52.1ms\n",
      "927:\tlearn: 0.0141457\ttotal: 662ms\tremaining: 51.4ms\n",
      "928:\tlearn: 0.0141243\ttotal: 662ms\tremaining: 50.6ms\n",
      "929:\tlearn: 0.0141135\ttotal: 663ms\tremaining: 49.9ms\n",
      "930:\tlearn: 0.0140941\ttotal: 663ms\tremaining: 49.2ms\n",
      "931:\tlearn: 0.0140736\ttotal: 664ms\tremaining: 48.4ms\n",
      "932:\tlearn: 0.0140605\ttotal: 664ms\tremaining: 47.7ms\n",
      "933:\tlearn: 0.0140503\ttotal: 664ms\tremaining: 46.9ms\n",
      "934:\tlearn: 0.0140348\ttotal: 665ms\tremaining: 46.2ms\n",
      "935:\tlearn: 0.0140247\ttotal: 665ms\tremaining: 45.5ms\n",
      "936:\tlearn: 0.0140150\ttotal: 665ms\tremaining: 44.7ms\n",
      "937:\tlearn: 0.0140006\ttotal: 666ms\tremaining: 44ms\n",
      "938:\tlearn: 0.0139910\ttotal: 666ms\tremaining: 43.3ms\n",
      "939:\tlearn: 0.0139830\ttotal: 667ms\tremaining: 42.6ms\n",
      "940:\tlearn: 0.0139687\ttotal: 667ms\tremaining: 41.8ms\n",
      "941:\tlearn: 0.0139606\ttotal: 667ms\tremaining: 41.1ms\n",
      "942:\tlearn: 0.0139525\ttotal: 668ms\tremaining: 40.4ms\n",
      "943:\tlearn: 0.0139396\ttotal: 668ms\tremaining: 39.6ms\n",
      "944:\tlearn: 0.0139294\ttotal: 668ms\tremaining: 38.9ms\n",
      "945:\tlearn: 0.0139051\ttotal: 669ms\tremaining: 38.2ms\n",
      "946:\tlearn: 0.0138933\ttotal: 669ms\tremaining: 37.4ms\n",
      "947:\tlearn: 0.0138754\ttotal: 669ms\tremaining: 36.7ms\n",
      "948:\tlearn: 0.0138698\ttotal: 669ms\tremaining: 36ms\n",
      "949:\tlearn: 0.0138621\ttotal: 670ms\tremaining: 35.3ms\n",
      "950:\tlearn: 0.0138432\ttotal: 670ms\tremaining: 34.5ms\n",
      "951:\tlearn: 0.0138363\ttotal: 670ms\tremaining: 33.8ms\n",
      "952:\tlearn: 0.0138306\ttotal: 671ms\tremaining: 33.1ms\n",
      "953:\tlearn: 0.0138214\ttotal: 671ms\tremaining: 32.4ms\n",
      "954:\tlearn: 0.0138061\ttotal: 671ms\tremaining: 31.6ms\n",
      "955:\tlearn: 0.0137958\ttotal: 672ms\tremaining: 30.9ms\n",
      "956:\tlearn: 0.0137873\ttotal: 672ms\tremaining: 30.2ms\n",
      "957:\tlearn: 0.0137807\ttotal: 672ms\tremaining: 29.5ms\n",
      "958:\tlearn: 0.0137744\ttotal: 674ms\tremaining: 28.8ms\n",
      "959:\tlearn: 0.0137643\ttotal: 674ms\tremaining: 28.1ms\n",
      "960:\tlearn: 0.0137469\ttotal: 675ms\tremaining: 27.4ms\n",
      "961:\tlearn: 0.0137279\ttotal: 675ms\tremaining: 26.7ms\n",
      "962:\tlearn: 0.0137234\ttotal: 678ms\tremaining: 26.1ms\n",
      "963:\tlearn: 0.0137133\ttotal: 679ms\tremaining: 25.3ms\n",
      "964:\tlearn: 0.0137097\ttotal: 682ms\tremaining: 24.7ms\n",
      "965:\tlearn: 0.0136974\ttotal: 682ms\tremaining: 24ms\n",
      "966:\tlearn: 0.0136879\ttotal: 683ms\tremaining: 23.3ms\n",
      "967:\tlearn: 0.0136750\ttotal: 685ms\tremaining: 22.6ms\n",
      "968:\tlearn: 0.0136612\ttotal: 685ms\tremaining: 21.9ms\n",
      "969:\tlearn: 0.0136440\ttotal: 685ms\tremaining: 21.2ms\n",
      "970:\tlearn: 0.0136411\ttotal: 688ms\tremaining: 20.5ms\n",
      "971:\tlearn: 0.0136349\ttotal: 689ms\tremaining: 19.8ms\n",
      "972:\tlearn: 0.0136101\ttotal: 690ms\tremaining: 19.1ms\n",
      "973:\tlearn: 0.0135966\ttotal: 691ms\tremaining: 18.4ms\n",
      "974:\tlearn: 0.0135848\ttotal: 692ms\tremaining: 17.7ms\n",
      "975:\tlearn: 0.0135765\ttotal: 692ms\tremaining: 17ms\n",
      "976:\tlearn: 0.0135579\ttotal: 692ms\tremaining: 16.3ms\n",
      "977:\tlearn: 0.0135415\ttotal: 693ms\tremaining: 15.6ms\n",
      "978:\tlearn: 0.0135313\ttotal: 693ms\tremaining: 14.9ms\n",
      "979:\tlearn: 0.0135106\ttotal: 693ms\tremaining: 14.1ms\n",
      "980:\tlearn: 0.0135000\ttotal: 694ms\tremaining: 13.4ms\n",
      "981:\tlearn: 0.0134927\ttotal: 694ms\tremaining: 12.7ms\n",
      "982:\tlearn: 0.0134846\ttotal: 694ms\tremaining: 12ms\n",
      "983:\tlearn: 0.0134815\ttotal: 694ms\tremaining: 11.3ms\n",
      "984:\tlearn: 0.0134716\ttotal: 695ms\tremaining: 10.6ms\n",
      "985:\tlearn: 0.0134610\ttotal: 695ms\tremaining: 9.87ms\n",
      "986:\tlearn: 0.0134571\ttotal: 695ms\tremaining: 9.16ms\n",
      "987:\tlearn: 0.0134537\ttotal: 696ms\tremaining: 8.45ms\n",
      "988:\tlearn: 0.0134499\ttotal: 697ms\tremaining: 7.75ms\n",
      "989:\tlearn: 0.0134252\ttotal: 697ms\tremaining: 7.04ms\n",
      "990:\tlearn: 0.0134177\ttotal: 697ms\tremaining: 6.33ms\n",
      "991:\tlearn: 0.0134108\ttotal: 698ms\tremaining: 5.63ms\n",
      "992:\tlearn: 0.0134019\ttotal: 698ms\tremaining: 4.92ms\n",
      "993:\tlearn: 0.0133903\ttotal: 698ms\tremaining: 4.21ms\n",
      "994:\tlearn: 0.0133839\ttotal: 699ms\tremaining: 3.51ms\n",
      "995:\tlearn: 0.0133783\ttotal: 699ms\tremaining: 2.81ms\n",
      "996:\tlearn: 0.0133700\ttotal: 700ms\tremaining: 2.1ms\n",
      "997:\tlearn: 0.0133605\ttotal: 700ms\tremaining: 1.4ms\n",
      "998:\tlearn: 0.0133535\ttotal: 700ms\tremaining: 700us\n",
      "999:\tlearn: 0.0133370\ttotal: 701ms\tremaining: 0us\n"
     ]
    },
    {
     "data": {
      "text/plain": [
       "<catboost.core.CatBoostRegressor at 0x7fd2b9ed2e20>"
      ]
     },
     "execution_count": 9,
     "metadata": {},
     "output_type": "execute_result"
    }
   ],
   "source": [
    "#Train the Model \n",
    "prior_model = ctb.CatBoostRegressor()\n",
    "prior_model.fit(X_train,Y_train)"
   ]
  },
  {
   "cell_type": "code",
   "execution_count": 10,
   "id": "af65dcda",
   "metadata": {
    "execution": {
     "iopub.execute_input": "2022-07-24T12:29:32.807038Z",
     "iopub.status.busy": "2022-07-24T12:29:32.806412Z",
     "iopub.status.idle": "2022-07-24T12:29:32.952076Z",
     "shell.execute_reply": "2022-07-24T12:29:32.936740Z"
    },
    "id": "af65dcda",
    "papermill": {
     "duration": 0.170643,
     "end_time": "2022-07-24T12:29:32.957778",
     "exception": false,
     "start_time": "2022-07-24T12:29:32.787135",
     "status": "completed"
    },
    "tags": []
   },
   "outputs": [
    {
     "data": {
      "application/scrapbook.scrap.json+json": {
       "data": 0.001129015195343056,
       "encoder": "json",
       "name": "Prior Model MSE",
       "version": 1
      }
     },
     "metadata": {
      "scrapbook": {
       "data": true,
       "display": false,
       "name": "Prior Model MSE"
      }
     },
     "output_type": "display_data"
    },
    {
     "data": {
      "application/scrapbook.scrap.json+json": {
       "data": 1.0425402121631877,
       "encoder": "json",
       "name": "ABC Pre-generator MSE",
       "version": 1
      }
     },
     "metadata": {
      "scrapbook": {
       "data": true,
       "display": false,
       "name": "ABC Pre-generator MSE"
      }
     },
     "output_type": "display_data"
    },
    {
     "data": {
      "application/scrapbook.scrap.json+json": {
       "data": 0.022274780185519334,
       "encoder": "json",
       "name": "Prior Model MAE",
       "version": 1
      }
     },
     "metadata": {
      "scrapbook": {
       "data": true,
       "display": false,
       "name": "Prior Model MAE"
      }
     },
     "output_type": "display_data"
    },
    {
     "name": "stdout",
     "output_type": "stream",
     "text": [
      "Prior Model MAE 0.022274780185519334\n",
      "ABC Pre-generator MAE 0.817629161147423\n"
     ]
    }
   ],
   "source": [
    "y_pred = prior_model.predict(X_test)\n",
    "y_abc = y_pred + np.random.normal(0,variance, y_pred.shape) + bias \n",
    "mse = mean_squared_error(y_pred,Y_test)\n",
    "sb.glue(\"Prior Model MSE\",mse)\n",
    "mse = mean_squared_error(y_abc,Y_test)\n",
    "sb.glue(\"ABC Pre-generator MSE\",mse)\n",
    "mae = mean_absolute_error(y_pred,Y_test)\n",
    "sb.glue(\"Prior Model MAE\",mae)\n",
    "print(\"Prior Model MAE\",mae)\n",
    "mae = mean_absolute_error(y_abc,Y_test)\n",
    "print(\"ABC Pre-generator MAE\",mae)"
   ]
  },
  {
   "cell_type": "markdown",
   "id": "25609da2",
   "metadata": {
    "papermill": {
     "duration": 0.023163,
     "end_time": "2022-07-24T12:29:33.003502",
     "exception": false,
     "start_time": "2022-07-24T12:29:32.980339",
     "status": "completed"
    },
    "tags": []
   },
   "source": [
    "# mGAN Model"
   ]
  },
  {
   "cell_type": "code",
   "execution_count": 11,
   "id": "dfc3464d",
   "metadata": {
    "execution": {
     "iopub.execute_input": "2022-07-24T12:29:33.054985Z",
     "iopub.status.busy": "2022-07-24T12:29:33.052757Z",
     "iopub.status.idle": "2022-07-24T12:29:33.063671Z",
     "shell.execute_reply": "2022-07-24T12:29:33.062224Z"
    },
    "papermill": {
     "duration": 0.042212,
     "end_time": "2022-07-24T12:29:33.069911",
     "exception": false,
     "start_time": "2022-07-24T12:29:33.027699",
     "status": "completed"
    },
    "tags": []
   },
   "outputs": [],
   "source": [
    "# gen = network.Generator(n_features+1).to(device)\n",
    "# disc = network.Discriminator(n_features+1).to(device)\n",
    "\n",
    "# criterion = torch.nn.BCELoss()\n",
    "# gen_opt = torch.optim.Adam(gen.parameters(), lr=0.01, betas=(0.5, 0.999))\n",
    "# disc_opt = torch.optim.Adam(disc.parameters(), lr=0.01, betas=(0.5, 0.999))"
   ]
  },
  {
   "cell_type": "code",
   "execution_count": 12,
   "id": "b75fdd85",
   "metadata": {
    "execution": {
     "iopub.execute_input": "2022-07-24T12:29:33.099988Z",
     "iopub.status.busy": "2022-07-24T12:29:33.098881Z",
     "iopub.status.idle": "2022-07-24T12:29:33.104546Z",
     "shell.execute_reply": "2022-07-24T12:29:33.103063Z"
    },
    "papermill": {
     "duration": 0.024465,
     "end_time": "2022-07-24T12:29:33.109342",
     "exception": false,
     "start_time": "2022-07-24T12:29:33.084877",
     "status": "completed"
    },
    "tags": []
   },
   "outputs": [],
   "source": [
    "#Training the ABC_GAN \n",
    "# ABC_train_test2.training_GAN(disc,gen,disc_opt,gen_opt,train_data,batch_size,n_epochs,criterion,prior_model,variance,bias,device)"
   ]
  },
  {
   "cell_type": "code",
   "execution_count": 13,
   "id": "1fa7c368",
   "metadata": {
    "execution": {
     "iopub.execute_input": "2022-07-24T12:29:33.135314Z",
     "iopub.status.busy": "2022-07-24T12:29:33.134733Z",
     "iopub.status.idle": "2022-07-24T12:29:33.138994Z",
     "shell.execute_reply": "2022-07-24T12:29:33.137914Z"
    },
    "papermill": {
     "duration": 0.022246,
     "end_time": "2022-07-24T12:29:33.143069",
     "exception": false,
     "start_time": "2022-07-24T12:29:33.120823",
     "status": "completed"
    },
    "tags": []
   },
   "outputs": [],
   "source": [
    "# ABC_GAN1_metrics=ABC_train_test2.test_generator(gen,test_data,prior_model,variance,bias,\"1\",device)\n",
    "# sb.glue(\"ABC_GAN_1 Metrics\",ABC_GAN1_metrics)\n",
    "\n",
    "# print(\"MAE\")\n",
    "# print(mean(ABC_GAN1_metrics[1]))"
   ]
  },
  {
   "cell_type": "code",
   "execution_count": 14,
   "id": "eb22ce5c",
   "metadata": {
    "execution": {
     "iopub.execute_input": "2022-07-24T12:29:33.178925Z",
     "iopub.status.busy": "2022-07-24T12:29:33.178230Z",
     "iopub.status.idle": "2022-07-24T12:29:33.189493Z",
     "shell.execute_reply": "2022-07-24T12:29:33.184768Z"
    },
    "papermill": {
     "duration": 0.045039,
     "end_time": "2022-07-24T12:29:33.199827",
     "exception": false,
     "start_time": "2022-07-24T12:29:33.154788",
     "status": "completed"
    },
    "tags": []
   },
   "outputs": [],
   "source": [
    "# sanityChecks.discProbVsError(train_data,disc,device)\n",
    "# sanityChecks.discProbVsError(test_data,disc,device)"
   ]
  },
  {
   "cell_type": "markdown",
   "id": "48f36654",
   "metadata": {
    "papermill": {
     "duration": 0.017013,
     "end_time": "2022-07-24T12:29:33.233073",
     "exception": false,
     "start_time": "2022-07-24T12:29:33.216060",
     "status": "completed"
    },
    "tags": []
   },
   "source": [
    "# mGAN Model with TabNet Generator"
   ]
  },
  {
   "cell_type": "code",
   "execution_count": 15,
   "id": "a7b890aa",
   "metadata": {
    "execution": {
     "iopub.execute_input": "2022-07-24T12:29:33.273517Z",
     "iopub.status.busy": "2022-07-24T12:29:33.273136Z",
     "iopub.status.idle": "2022-07-24T12:29:33.290538Z",
     "shell.execute_reply": "2022-07-24T12:29:33.289645Z"
    },
    "papermill": {
     "duration": 0.049146,
     "end_time": "2022-07-24T12:29:33.298911",
     "exception": false,
     "start_time": "2022-07-24T12:29:33.249765",
     "status": "completed"
    },
    "tags": []
   },
   "outputs": [],
   "source": [
    "gen2 = network.GeneratorTabnet(n_features+1).to(device)\n",
    "disc2 = network.Discriminator(n_features+1).to(device)\n",
    "\n",
    "criterion = torch.nn.BCELoss()\n",
    "gen_opt = torch.optim.Adam(gen2.parameters(), lr=0.01, betas=(0.5, 0.999))\n",
    "disc_opt = torch.optim.Adam(disc2.parameters(), lr=0.01, betas=(0.5, 0.999))"
   ]
  },
  {
   "cell_type": "code",
   "execution_count": 16,
   "id": "1ae8b110",
   "metadata": {
    "execution": {
     "iopub.execute_input": "2022-07-24T12:29:33.328825Z",
     "iopub.status.busy": "2022-07-24T12:29:33.328476Z",
     "iopub.status.idle": "2022-07-24T12:34:06.328378Z",
     "shell.execute_reply": "2022-07-24T12:34:06.325065Z"
    },
    "papermill": {
     "duration": 273.028191,
     "end_time": "2022-07-24T12:34:06.340056",
     "exception": false,
     "start_time": "2022-07-24T12:29:33.311865",
     "status": "completed"
    },
    "tags": []
   },
   "outputs": [
    {
     "data": {
      "image/png": "[encoded data removed]",
      "text/plain": [
       "<Figure size 432x288 with 1 Axes>"
      ]
     },
     "metadata": {
      "needs_background": "light"
     },
     "output_type": "display_data"
    },
    {
     "data": {
      "image/png": "[encoded data removed]",
      "text/plain": [
       "<Figure size 432x288 with 1 Axes>"
      ]
     },
     "metadata": {
      "needs_background": "light"
     },
     "output_type": "display_data"
    }
   ],
   "source": [
    "#Training the ABC_GAN \n",
    "ABC_train_test2.training_GAN(disc2,gen2,disc_opt,gen_opt,train_data,batch_size,n_epochs,criterion,prior_model,variance,bias,device)"
   ]
  },
  {
   "cell_type": "code",
   "execution_count": 17,
   "id": "446f86e7",
   "metadata": {
    "execution": {
     "iopub.execute_input": "2022-07-24T12:34:06.398196Z",
     "iopub.status.busy": "2022-07-24T12:34:06.397208Z",
     "iopub.status.idle": "2022-07-24T12:34:07.685089Z",
     "shell.execute_reply": "2022-07-24T12:34:07.683782Z"
    },
    "papermill": {
     "duration": 1.338548,
     "end_time": "2022-07-24T12:34:07.693176",
     "exception": false,
     "start_time": "2022-07-24T12:34:06.354628",
     "status": "completed"
    },
    "tags": []
   },
   "outputs": [
    {
     "data": {
      "application/scrapbook.scrap.json+json": {
       "data": 23739.605889805378,
       "encoder": "json",
       "name": "ABC-GAN Model 1 MSE",
       "version": 1
      }
     },
     "metadata": {
      "scrapbook": {
       "data": true,
       "display": false,
       "name": "ABC-GAN Model 1 MSE"
      }
     },
     "output_type": "display_data"
    },
    {
     "data": {
      "application/scrapbook.scrap.json+json": {
       "data": 115.53235453505165,
       "encoder": "json",
       "name": "ABC-GAN Model 1 MAE",
       "version": 1
      }
     },
     "metadata": {
      "scrapbook": {
       "data": true,
       "display": false,
       "name": "ABC-GAN Model 1 MAE"
      }
     },
     "output_type": "display_data"
    },
    {
     "data": {
      "application/scrapbook.scrap.json+json": {
       "data": 17791.982598397954,
       "encoder": "json",
       "name": "ABC-GAN Model 1 Manhattan Distance",
       "version": 1
      }
     },
     "metadata": {
      "scrapbook": {
       "data": true,
       "display": false,
       "name": "ABC-GAN Model 1 Manhattan Distance"
      }
     },
     "output_type": "display_data"
    },
    {
     "data": {
      "application/scrapbook.scrap.json+json": {
       "data": 1911.9373111884918,
       "encoder": "json",
       "name": "ABC-GAN Model 1 Euclidean distance",
       "version": 1
      }
     },
     "metadata": {
      "scrapbook": {
       "data": true,
       "display": false,
       "name": "ABC-GAN Model 1 Euclidean distance"
      }
     },
     "output_type": "display_data"
    },
    {
     "data": {
      "application/scrapbook.scrap.json+json": {
       "data": [
        [
         24274.945793223433,
         23368.212381746715,
         23449.297804197213,
         23136.399046260954,
         22532.06335291938,
         24517.447347253143,
         23634.97653537153,
         23151.72735753515,
         24173.24760071459,
         24061.19187658487,
         24026.679557852403,
         23641.245039765305,
         23422.98609020385,
         23767.278461448277,
         23475.40719552225,
         23866.666612555582,
         23484.960575684127,
         24566.918733288465,
         23343.02781859625,
         24120.95676789918,
         23487.497698449166,
         23055.98518267058,
         23778.388188915764,
         23544.69679503572,
         24800.96596109155,
         22974.85185846249,
         23763.964829344724,
         22885.539777367903,
         24341.815138116148,
         23911.5029128896,
         23757.15301084059,
         23449.79629950104,
         23790.91730661775,
         23630.554753002358,
         23244.205266104218,
         23485.476664534097,
         24418.28928842017,
         23314.29461824159,
         23972.225914083167,
         24144.537478852802,
         23067.773090221657,
         23500.975800671175,
         23563.159409606866,
         23449.603643768423,
         23462.65386958403,
         24362.489051249315,
         23145.01771950171,
         24549.855912326664,
         24134.13287226305,
         23573.767452857974,
         24115.597936502676,
         23429.70669833444,
         23401.09255506037,
         23589.18703056606,
         23633.693968354877,
         24606.97597727419,
         23855.575940921583,
         24253.91906229662,
         23239.773063868895,
         24091.81112628973,
         23409.214969458964,
         23079.76620580318,
         22931.490139177906,
         23408.613384101813,
         23981.678510764457,
         24377.431312945526,
         23020.603886466393,
         22760.673718761536,
         23274.785947268498,
         23334.68732409212,
         23588.110111917096,
         24329.504214321667,
         23193.21582167168,
         23340.144031092874,
         23269.787588173764,
         24454.588292677876,
         24487.905685960504,
         24141.305868840685,
         24072.01735391259,
         24303.54038630803,
         23925.100215730694,
         24118.737797055455,
         24396.330878275025,
         24050.116613842256,
         24145.117980110084,
         23671.341714263253,
         23029.646215372908,
         23314.69852946683,
         24098.919295298885,
         23785.03858631198,
         23489.442348859855,
         24200.340602913893,
         23651.35940633727,
         24895.55949589821,
         23343.183847435586,
         24555.113659145783,
         23898.23291914058,
         23960.485839875262,
         23723.029197573338,
         24154.67201122895
        ],
        [
         116.09475845750421,
         115.19368210041823,
         115.06494601935681,
         114.45155740358759,
         113.74045814432252,
         117.28519870973398,
         114.7210928212682,
         114.37390657169624,
         116.44354461030672,
         114.9413168549707,
         116.05256890896224,
         115.27166917991474,
         115.26594111472126,
         114.86573934200668,
         115.03929391729513,
         114.93762018109442,
         115.04877145833929,
         116.891312700914,
         113.96322801161267,
         116.18362108718411,
         115.16205022816679,
         114.4047589793003,
         115.95556193468003,
         115.88288984315881,
         116.86822822451737,
         114.2309111243888,
         115.14068781820356,
         114.46260861252955,
         115.66521888849168,
         114.93720163882698,
         115.28007427393761,
         115.41414760259984,
         115.73955241691128,
         115.80223473590834,
         114.20429378316145,
         114.35553903968449,
         116.97085679616391,
         114.85143092965296,
         115.09878586749123,
         116.46347407816438,
         115.14481004137643,
         115.03867880045739,
         115.76244953965357,
         115.41351914051437,
         114.50564543258206,
         116.45967365814639,
         114.78461540165031,
         117.07459945757813,
         117.21565009047603,
         115.36738800338482,
         115.7808812960571,
         114.72456868238409,
         114.59873619901815,
         115.86394148942857,
         116.35720618624337,
         117.0087628576832,
         115.77287066712152,
         115.89078708703013,
         115.08896803811145,
         115.96988611362342,
         115.41823398557722,
         112.69684262354798,
         114.31123775276416,
         113.95822922860019,
         115.618311132256,
         116.40160432684102,
         114.59665419484259,
         114.28965409035952,
         114.6307609757989,
         114.93324557482568,
         115.25482968186549,
         116.60671144292097,
         115.54043515581735,
         116.38036899088411,
         114.78396570482957,
         117.3236490715803,
         116.40048541296757,
         116.54806017211651,
         115.33682265484633,
         117.59705253345771,
         115.1981306845661,
         116.01918330085887,
         117.25089255820767,
         117.30677185385403,
         115.46857726064741,
         116.16584387028517,
         114.4313222954969,
         115.06828490125814,
         116.07546495417641,
         115.70800971630477,
         115.44100492296425,
         117.04535989592748,
         114.58845246877134,
         117.70302793532368,
         115.01717269840324,
         116.78673049956318,
         115.54436058148306,
         115.85461274944488,
         115.75934342550138,
         115.63137963175919
        ],
        [
         17878.59280245565,
         17739.827043464407,
         17720.001686980948,
         17625.539840152487,
         17516.03055422567,
         18061.920601299033,
         17667.048294475302,
         17613.58161204122,
         17932.305869987234,
         17700.962795665488,
         17872.095611980185,
         17751.83705370687,
         17750.954931667075,
         17689.323858669028,
         17716.05126326345,
         17700.39350788854,
         17717.51080458425,
         18001.262155940756,
         17550.33711378835,
         17892.277647426352,
         17734.955735137686,
         17618.332882812247,
         17857.156537940726,
         17845.965035846457,
         17997.707146575674,
         17591.560313155875,
         17731.665924003348,
         17627.24172632955,
         17812.44370882772,
         17700.329052379355,
         17753.131438186392,
         17773.778730800375,
         17823.891072204337,
         17833.544149329886,
         17587.461242606863,
         17610.75301211141,
         18013.511946609244,
         17687.120363166556,
         17725.21302359365,
         17935.375008037314,
         17732.30074637197,
         17715.956535270438,
         17827.41722910665,
         17773.681947639212,
         17633.869396617636,
         17934.789743354544,
         17676.830771854147,
         18029.488316467032,
         18051.21011393331,
         17766.57775252126,
         17830.255719592795,
         17667.58357708715,
         17648.205374648795,
         17843.046989372,
         17919.00975268148,
         18019.349480083212,
         17829.022082736716,
         17847.18121140264,
         17723.701077869162,
         17859.362461498007,
         17774.40803377889,
         17355.31376402639,
         17603.93061392568,
         17549.567301204428,
         17805.219914367422,
         17925.847066333517,
         17647.88474600576,
         17600.606729915366,
         17653.13719027303,
         17699.719818523154,
         17749.243771007285,
         17957.43356220983,
         17793.22701399587,
         17922.57682459615,
         17676.730718543753,
         18067.841957023367,
         17925.674753597006,
         17948.40126650594,
         17761.870688846335,
         18109.946090152487,
         17740.512125423178,
         17866.954228332266,
         18056.63745396398,
         18065.24286549352,
         17782.1608981397,
         17889.539956023917,
         17622.42363350652,
         17720.515874793753,
         17875.621602943167,
         17819.033496310934,
         17777.914758136496,
         18024.98542397283,
         17646.621680190787,
         18126.266302039847,
         17712.6445955541,
         17985.15649693273,
         17793.83152954839,
         17841.61036341451,
         17826.938887527213,
         17807.232463290915
        ],
        [
         1933.4791574145322,
         1897.0252256596361,
         1900.3136219704288,
         1887.5925018722094,
         1862.7768938736558,
         1943.1126811065242,
         1907.8224200504658,
         1888.217681587696,
         1929.4248185690074,
         1924.9476743522334,
         1923.5666486787684,
         1908.0754010583169,
         1899.2471818832307,
         1913.1546939709383,
         1901.3712704546763,
         1917.1506613549075,
         1901.7581151806235,
         1945.0721027577417,
         1896.0027120402078,
         1927.3368523059155,
         1901.8608375906924,
         1884.3093477800478,
         1913.60178226637,
         1904.1752299711022,
         1954.3154192729742,
         1880.9910117284514,
         1913.021323383272,
         1877.3313840967605,
         1936.1403697226833,
         1918.9506112938388,
         1912.747124862419,
         1900.3338207070778,
         1914.1058657292529,
         1907.6439479007508,
         1891.9850979804378,
         1901.7790109101143,
         1939.1793497293395,
         1894.8354470003997,
         1921.3856434273696,
         1928.2787069672606,
         1884.7909846702191,
         1902.4064427202093,
         1904.9216648144504,
         1900.3260144355067,
         1900.854727725383,
         1936.9623935152674,
         1887.9440481124605,
         1944.3965157596601,
         1927.863185583591,
         1905.3504107486704,
         1927.1227470561942,
         1899.5196317868113,
         1898.3593583616605,
         1905.9734527813264,
         1907.7706547503683,
         1946.6572118635133,
         1916.7051663993402,
         1932.6415952249592,
         1891.8047076365497,
         1926.172088222809,
         1898.6887857931536,
         1885.2808797878606,
         1879.2151237773169,
         1898.6643887616578,
         1921.7644212175774,
         1937.5563016835436,
         1882.86297921963,
         1872.2029144003805,
         1893.2292613097209,
         1895.6639596484886,
         1905.9299455214075,
         1935.6507042866845,
         1889.9087905339343,
         1895.8855927477014,
         1893.0259608834635,
         1940.6201578548012,
         1941.9416766828808,
         1928.1496580404398,
         1925.380656520299,
         1934.6175899881182,
         1919.496140455231,
         1927.2481990513156,
         1938.3072396434868,
         1924.5046008081429,
         1928.3018873965125,
         1909.2895600187367,
         1883.2327304843202,
         1894.8518605785232,
         1926.4562210120498,
         1913.8693639567057,
         1901.9395683681475,
         1930.505750535009,
         1908.4835206456296,
         1958.038856194719,
         1896.0090486348108,
         1944.6047165191312,
         1918.4180643299965,
         1920.915099461918,
         1911.372934941345,
         1928.6833565231127
        ]
       ],
       "encoder": "json",
       "name": "ABC_GAN_2 Metrics",
       "version": 1
      }
     },
     "metadata": {
      "scrapbook": {
       "data": true,
       "display": false,
       "name": "ABC_GAN_2 Metrics"
      }
     },
     "output_type": "display_data"
    },
    {
     "name": "stdout",
     "output_type": "stream",
     "text": [
      "MAE\n",
      "115.53235453505165\n"
     ]
    }
   ],
   "source": [
    "ABC_GAN2_metrics=ABC_train_test2.test_generator(gen2,test_data,prior_model,variance,bias,\"1\",device)\n",
    "sb.glue(\"ABC_GAN_2 Metrics\",ABC_GAN2_metrics)\n",
    "\n",
    "print(\"MAE\")\n",
    "print(mean(ABC_GAN2_metrics[1]))"
   ]
  },
  {
   "cell_type": "code",
   "execution_count": 18,
   "id": "f6db2579",
   "metadata": {
    "execution": {
     "iopub.execute_input": "2022-07-24T12:34:07.745617Z",
     "iopub.status.busy": "2022-07-24T12:34:07.745103Z",
     "iopub.status.idle": "2022-07-24T12:34:09.814031Z",
     "shell.execute_reply": "2022-07-24T12:34:09.810676Z"
    },
    "papermill": {
     "duration": 2.108128,
     "end_time": "2022-07-24T12:34:09.820774",
     "exception": false,
     "start_time": "2022-07-24T12:34:07.712646",
     "status": "completed"
    },
    "tags": []
   },
   "outputs": [
    {
     "data": {
      "image/png": "[encoded data removed]",
      "text/plain": [
       "<Figure size 432x288 with 1 Axes>"
      ]
     },
     "metadata": {
      "needs_background": "light"
     },
     "output_type": "display_data"
    },
    {
     "data": {
      "image/png": "[encoded data removed]",
      "text/plain": [
       "<Figure size 432x288 with 1 Axes>"
      ]
     },
     "metadata": {
      "needs_background": "light"
     },
     "output_type": "display_data"
    },
    {
     "data": {
      "image/png": "[encoded data removed]",
      "text/plain": [
       "<Figure size 432x288 with 1 Axes>"
      ]
     },
     "metadata": {
      "needs_background": "light"
     },
     "output_type": "display_data"
    },
    {
     "data": {
      "image/png": "[encoded data removed]",
      "text/plain": [
       "<Figure size 432x288 with 1 Axes>"
      ]
     },
     "metadata": {
      "needs_background": "light"
     },
     "output_type": "display_data"
    }
   ],
   "source": [
    "sanityChecks.discProbVsError(train_data,disc2,device)\n",
    "sanityChecks.discProbVsError(test_data,disc2,device)"
   ]
  },
  {
   "cell_type": "markdown",
   "id": "130f3a4d",
   "metadata": {
    "id": "130f3a4d",
    "papermill": {
     "duration": 0.02004,
     "end_time": "2022-07-24T12:34:09.858430",
     "exception": false,
     "start_time": "2022-07-24T12:34:09.838390",
     "status": "completed"
    },
    "tags": []
   },
   "source": [
    "# skipGAN Model"
   ]
  },
  {
   "cell_type": "code",
   "execution_count": 19,
   "id": "4e43dad1",
   "metadata": {
    "execution": {
     "iopub.execute_input": "2022-07-24T12:34:09.906450Z",
     "iopub.status.busy": "2022-07-24T12:34:09.905405Z",
     "iopub.status.idle": "2022-07-24T12:34:09.913981Z",
     "shell.execute_reply": "2022-07-24T12:34:09.911244Z"
    },
    "id": "4e43dad1",
    "papermill": {
     "duration": 0.047437,
     "end_time": "2022-07-24T12:34:09.925372",
     "exception": false,
     "start_time": "2022-07-24T12:34:09.877935",
     "status": "completed"
    },
    "tags": []
   },
   "outputs": [],
   "source": [
    "# #Generator\n",
    "# gen3 = network.GeneratorWithSkipConnection(n_features+1).to(device)\n",
    "# constraints=network.weightConstraint()\n",
    "# #Discriminator \n",
    "# disc3 = network.Discriminator(n_features+1).to(device)\n",
    "\n",
    "# criterion = torch.nn.BCELoss()\n",
    "# gen_opt = torch.optim.Adam(gen3.parameters(), lr=0.01, betas=(0.5, 0.999))\n",
    "# disc_opt = torch.optim.Adam(disc3.parameters(), lr=0.01, betas=(0.5, 0.999))\n"
   ]
  },
  {
   "cell_type": "markdown",
   "id": "c7876c0c",
   "metadata": {
    "tags": [
     "papermill-error-cell-tag"
    ]
   },
   "source": [
    "<span id=\"papermill-error-cell\" style=\"color:red; font-family:Helvetica Neue, Helvetica, Arial, sans-serif; font-size:2em;\">Execution using papermill encountered an exception here and stopped:</span>"
   ]
  },
  {
   "cell_type": "code",
   "execution_count": 20,
   "id": "26acbc37",
   "metadata": {
    "execution": {
     "iopub.execute_input": "2022-07-24T12:34:09.984442Z",
     "iopub.status.busy": "2022-07-24T12:34:09.983122Z",
     "iopub.status.idle": "2022-07-24T12:34:12.254488Z",
     "shell.execute_reply": "2022-07-24T12:34:12.248529Z"
    },
    "id": "26acbc37",
    "papermill": {
     "duration": 2.309717,
     "end_time": "2022-07-24T12:34:12.260479",
     "exception": true,
     "start_time": "2022-07-24T12:34:09.950762",
     "status": "failed"
    },
    "tags": []
   },
   "outputs": [
    {
     "ename": "NameError",
     "evalue": "name 'disc3' is not defined",
     "output_type": "error",
     "traceback": [
      "\u001b[0;31m---------------------------------------------------------------------------\u001b[0m",
      "\u001b[0;31mNameError\u001b[0m                                 Traceback (most recent call last)",
      "Input \u001b[0;32mIn [20]\u001b[0m, in \u001b[0;36m<cell line: 1>\u001b[0;34m()\u001b[0m\n\u001b[0;32m----> 1\u001b[0m ABC_train_test2\u001b[38;5;241m.\u001b[39mtraining_GAN_skip_connection(\u001b[43mdisc3\u001b[49m,gen3,disc_opt,gen_opt,train_data,batch_size,n_epochs,criterion,prior_model,variance,bias,device)\n",
      "\u001b[0;31mNameError\u001b[0m: name 'disc3' is not defined"
     ]
    }
   ],
   "source": [
    "ABC_train_test2.training_GAN_skip_connection(disc3,gen3,disc_opt,gen_opt,train_data,batch_size,n_epochs,criterion,prior_model,variance,bias,device)"
   ]
  },
  {
   "cell_type": "code",
   "execution_count": null,
   "id": "c5e0717b",
   "metadata": {
    "id": "c5e0717b",
    "papermill": {
     "duration": null,
     "end_time": null,
     "exception": null,
     "start_time": null,
     "status": "pending"
    },
    "tags": []
   },
   "outputs": [],
   "source": [
    "# ABC_GAN3_metrics=ABC_train_test2.test_generator(gen3,test_data,prior_model,variance,bias,\"3\",device)\n",
    "# sb.glue(\"ABC_GAN_3 Metrics\",ABC_GAN3_metrics)\n",
    "\n",
    "# print(\"MAE\")\n",
    "# print(mean(ABC_GAN3_metrics[1]))"
   ]
  },
  {
   "cell_type": "code",
   "execution_count": null,
   "id": "c8e46b48",
   "metadata": {
    "id": "c8e46b48",
    "papermill": {
     "duration": null,
     "end_time": null,
     "exception": null,
     "start_time": null,
     "status": "pending"
    },
    "tags": []
   },
   "outputs": [],
   "source": [
    "# sanityChecks.discProbVsError(train_data,disc3,device)\n",
    "# sanityChecks.discProbVsError(test_data,disc3,device)"
   ]
  },
  {
   "cell_type": "markdown",
   "id": "b218162c",
   "metadata": {
    "id": "130f3a4d",
    "papermill": {
     "duration": null,
     "end_time": null,
     "exception": null,
     "start_time": null,
     "status": "pending"
    },
    "tags": []
   },
   "source": [
    "# skipGAN Model with TabNet Generator"
   ]
  },
  {
   "cell_type": "code",
   "execution_count": null,
   "id": "e578b79a",
   "metadata": {
    "id": "4e43dad1",
    "papermill": {
     "duration": null,
     "end_time": null,
     "exception": null,
     "start_time": null,
     "status": "pending"
    },
    "tags": []
   },
   "outputs": [],
   "source": [
    "# #Generator\n",
    "# gen4 = network.GeneratorTabnetskipConnection(n_features+1).to(device)\n",
    "# constraints=network.weightConstraint()\n",
    "# #Discriminator \n",
    "# disc4 = network.Discriminator(n_features+1).to(device)\n",
    "\n",
    "# criterion = torch.nn.BCELoss()\n",
    "# gen_opt = torch.optim.Adam(gen4.parameters(), lr=0.01, betas=(0.5, 0.999))\n",
    "# disc_opt = torch.optim.Adam(disc4.parameters(), lr=0.01, betas=(0.5, 0.999))\n"
   ]
  },
  {
   "cell_type": "code",
   "execution_count": null,
   "id": "01a7f006",
   "metadata": {
    "id": "26acbc37",
    "papermill": {
     "duration": null,
     "end_time": null,
     "exception": null,
     "start_time": null,
     "status": "pending"
    },
    "tags": []
   },
   "outputs": [],
   "source": [
    "# ABC_train_test2.training_GAN_skip_connection(disc4,gen4,disc_opt,gen_opt,train_data,batch_size,n_epochs,criterion,prior_model,variance,bias,device)"
   ]
  },
  {
   "cell_type": "code",
   "execution_count": null,
   "id": "53483325",
   "metadata": {
    "id": "c5e0717b",
    "papermill": {
     "duration": null,
     "end_time": null,
     "exception": null,
     "start_time": null,
     "status": "pending"
    },
    "tags": []
   },
   "outputs": [],
   "source": [
    "# ABC_GAN4_metrics=ABC_train_test2.test_generator(gen4,test_data,prior_model,variance,bias,\"3\",device)\n",
    "# sb.glue(\"ABC_GAN_4 Metrics\",ABC_GAN4_metrics)\n",
    "\n",
    "# print(\"MAE\")\n",
    "# print(mean(ABC_GAN4_metrics[1]))"
   ]
  },
  {
   "cell_type": "code",
   "execution_count": null,
   "id": "b1f6f604",
   "metadata": {
    "id": "c8e46b48",
    "papermill": {
     "duration": null,
     "end_time": null,
     "exception": null,
     "start_time": null,
     "status": "pending"
    },
    "tags": []
   },
   "outputs": [],
   "source": [
    "# sanityChecks.discProbVsError(train_data,disc4,device)\n",
    "# sanityChecks.discProbVsError(test_data,disc4,device)"
   ]
  },
  {
   "cell_type": "markdown",
   "id": "a5bd74c3",
   "metadata": {
    "id": "a5bd74c3",
    "papermill": {
     "duration": null,
     "end_time": null,
     "exception": null,
     "start_time": null,
     "status": "pending"
    },
    "tags": []
   },
   "source": [
    "## Skip Connection Model Analysis - ABC-GAN "
   ]
  },
  {
   "cell_type": "markdown",
   "id": "5744a8bf",
   "metadata": {
    "id": "5744a8bf",
    "papermill": {
     "duration": null,
     "end_time": null,
     "exception": null,
     "start_time": null,
     "status": "pending"
    },
    "tags": []
   },
   "source": [
    "### Weight Analysis \n",
    "\n",
    "Study the weights of the skip connection layer\n",
    "\n",
    "Equation of the skip connection is \n",
    "\n",
    "$output = y_{gan} * w + y_{abc} * (1-w)$"
   ]
  },
  {
   "cell_type": "code",
   "execution_count": null,
   "id": "52c31dea",
   "metadata": {
    "id": "52c31dea",
    "papermill": {
     "duration": null,
     "end_time": null,
     "exception": null,
     "start_time": null,
     "status": "pending"
    },
    "tags": []
   },
   "outputs": [],
   "source": [
    "# print(\"Weight of the node at skip connection\")\n",
    "# for name,param in gen3.named_parameters():\n",
    "#     if(name == \"skipNode.weight\"):\n",
    "#         print(param)\n",
    "#         sb.glue(\"Skip Connection Weight\",param.item())"
   ]
  },
  {
   "cell_type": "markdown",
   "id": "10525a3f",
   "metadata": {
    "id": "a5bd74c3",
    "papermill": {
     "duration": null,
     "end_time": null,
     "exception": null,
     "start_time": null,
     "status": "pending"
    },
    "tags": []
   },
   "source": [
    "## skipGAN Model Analysis (TabNet Generator) "
   ]
  },
  {
   "cell_type": "markdown",
   "id": "b571a98b",
   "metadata": {
    "id": "5744a8bf",
    "papermill": {
     "duration": null,
     "end_time": null,
     "exception": null,
     "start_time": null,
     "status": "pending"
    },
    "tags": []
   },
   "source": [
    "### Weight Analysis \n",
    "\n",
    "Study the weights of the skip connection layer\n",
    "\n",
    "Equation of the skip connection is \n",
    "\n",
    "$output = y_{gan} * w + y_{abc} * (1-w)$"
   ]
  },
  {
   "cell_type": "code",
   "execution_count": null,
   "id": "62a946f5",
   "metadata": {
    "id": "52c31dea",
    "papermill": {
     "duration": null,
     "end_time": null,
     "exception": null,
     "start_time": null,
     "status": "pending"
    },
    "tags": []
   },
   "outputs": [],
   "source": [
    "# print(\"Weight of the node at skip connection\")\n",
    "# for name,param in gen4.named_parameters():\n",
    "#     if(name == \"skipNode.weight\"):\n",
    "#         print(param)\n",
    "#         sb.glue(\"Skip Connection Weight\",param.item())"
   ]
  }
 ],
 "metadata": {
  "colab": {
   "collapsed_sections": [],
   "name": "ABC_GAN_Model-Catboost_Pre-gen.ipynb",
   "provenance": []
  },
  "interpreter": {
   "hash": "31f2aee4e71d21fbe5cf8b01ff0e069b9275f58929596ceb00d14d90e3e16cd6"
  },
  "kernelspec": {
   "display_name": "Python 3 (ipykernel)",
   "language": "python",
   "name": "python3"
  },
  "language_info": {
   "codemirror_mode": {
    "name": "ipython",
    "version": 3
   },
   "file_extension": ".py",
   "mimetype": "text/x-python",
   "name": "python",
   "nbconvert_exporter": "python",
   "pygments_lexer": "ipython3",
   "version": "3.8.13"
  },
  "papermill": {
   "default_parameters": {},
   "duration": 300.774075,
   "end_time": "2022-07-24T12:34:13.788503",
   "environment_variables": {},
   "exception": true,
   "input_path": "ABC_GAN-Catboost.ipynb",
   "output_path": "./ABC_GAN_Catboost/ABC-GAN_output_2_9.ipynb",
   "parameters": {
    "bias": 0,
    "variance": 1
   },
   "start_time": "2022-07-24T12:29:13.014428",
   "version": "2.3.3"
  }
 },
 "nbformat": 4,
 "nbformat_minor": 5
}