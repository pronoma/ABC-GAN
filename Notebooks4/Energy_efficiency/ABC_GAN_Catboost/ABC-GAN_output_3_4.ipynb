{
 "cells": [
  {
   "cell_type": "markdown",
   "id": "18548a25",
   "metadata": {
    "tags": [
     "papermill-error-cell-tag"
    ]
   },
   "source": [
    "<span style=\"color:red; font-family:Helvetica Neue, Helvetica, Arial, sans-serif; font-size:2em;\">An Exception was encountered at '<a href=\"#papermill-error-cell\">In [20]</a>'.</span>"
   ]
  },
  {
   "cell_type": "markdown",
   "id": "622780e6",
   "metadata": {
    "id": "622780e6",
    "papermill": {
     "duration": 0.025367,
     "end_time": "2022-07-24T13:03:26.752673",
     "exception": false,
     "start_time": "2022-07-24T13:03:26.727306",
     "status": "completed"
    },
    "tags": []
   },
   "source": [
    "## Import Libraries "
   ]
  },
  {
   "cell_type": "code",
   "execution_count": 1,
   "id": "a62397e3",
   "metadata": {
    "execution": {
     "iopub.execute_input": "2022-07-24T13:03:26.803879Z",
     "iopub.status.busy": "2022-07-24T13:03:26.800867Z",
     "iopub.status.idle": "2022-07-24T13:03:26.833822Z",
     "shell.execute_reply": "2022-07-24T13:03:26.831432Z"
    },
    "id": "a62397e3",
    "papermill": {
     "duration": 0.072585,
     "end_time": "2022-07-24T13:03:26.845297",
     "exception": false,
     "start_time": "2022-07-24T13:03:26.772712",
     "status": "completed"
    },
    "tags": []
   },
   "outputs": [],
   "source": [
    "import warnings\n",
    "import sys\n",
    "sys.path.insert(0, '../../src')\n",
    "warnings.filterwarnings('ignore')"
   ]
  },
  {
   "cell_type": "code",
   "execution_count": 2,
   "id": "d6a4e155",
   "metadata": {
    "execution": {
     "iopub.execute_input": "2022-07-24T13:03:26.901218Z",
     "iopub.status.busy": "2022-07-24T13:03:26.899963Z",
     "iopub.status.idle": "2022-07-24T13:03:35.526774Z",
     "shell.execute_reply": "2022-07-24T13:03:35.525842Z"
    },
    "id": "d6a4e155",
    "papermill": {
     "duration": 8.675293,
     "end_time": "2022-07-24T13:03:35.531128",
     "exception": false,
     "start_time": "2022-07-24T13:03:26.855835",
     "status": "completed"
    },
    "tags": []
   },
   "outputs": [],
   "source": [
    "import ABC_train_test2\n",
    "import energyefficiencyDataset\n",
    "import network\n",
    "import dataset\n",
    "import sanityChecks\n",
    "import torch \n",
    "import scrapbook as sb\n",
    "from statistics import mean \n",
    "import catboost as ctb \n",
    "from sklearn.model_selection import train_test_split\n",
    "from sklearn.metrics import mean_squared_error,mean_absolute_error\n",
    "import numpy as np"
   ]
  },
  {
   "cell_type": "markdown",
   "id": "2fa5b0f7",
   "metadata": {
    "id": "2fa5b0f7",
    "papermill": {
     "duration": 0.012244,
     "end_time": "2022-07-24T13:03:35.557954",
     "exception": false,
     "start_time": "2022-07-24T13:03:35.545710",
     "status": "completed"
    },
    "tags": []
   },
   "source": [
    "## Parameters "
   ]
  },
  {
   "cell_type": "code",
   "execution_count": 3,
   "id": "783186fb",
   "metadata": {
    "execution": {
     "iopub.execute_input": "2022-07-24T13:03:35.602701Z",
     "iopub.status.busy": "2022-07-24T13:03:35.600236Z",
     "iopub.status.idle": "2022-07-24T13:03:35.661278Z",
     "shell.execute_reply": "2022-07-24T13:03:35.653953Z"
    },
    "id": "783186fb",
    "papermill": {
     "duration": 0.095244,
     "end_time": "2022-07-24T13:03:35.667561",
     "exception": false,
     "start_time": "2022-07-24T13:03:35.572317",
     "status": "completed"
    },
    "tags": [
     "parameters"
    ]
   },
   "outputs": [],
   "source": [
    "variance = 1\n",
    "bias = 1 "
   ]
  },
  {
   "cell_type": "code",
   "execution_count": 4,
   "id": "2b7b906b",
   "metadata": {
    "execution": {
     "iopub.execute_input": "2022-07-24T13:03:35.704516Z",
     "iopub.status.busy": "2022-07-24T13:03:35.703671Z",
     "iopub.status.idle": "2022-07-24T13:03:35.718915Z",
     "shell.execute_reply": "2022-07-24T13:03:35.710112Z"
    },
    "papermill": {
     "duration": 0.042324,
     "end_time": "2022-07-24T13:03:35.723294",
     "exception": false,
     "start_time": "2022-07-24T13:03:35.680970",
     "status": "completed"
    },
    "tags": [
     "injected-parameters"
    ]
   },
   "outputs": [],
   "source": [
    "# Parameters\n",
    "variance = 0.1\n",
    "bias = 0.1\n"
   ]
  },
  {
   "cell_type": "markdown",
   "id": "391cdbfd",
   "metadata": {
    "id": "391cdbfd",
    "papermill": {
     "duration": 0.023173,
     "end_time": "2022-07-24T13:03:35.758985",
     "exception": false,
     "start_time": "2022-07-24T13:03:35.735812",
     "status": "completed"
    },
    "tags": []
   },
   "source": [
    "## Dataset \n"
   ]
  },
  {
   "cell_type": "code",
   "execution_count": 5,
   "id": "5b51f161",
   "metadata": {
    "execution": {
     "iopub.execute_input": "2022-07-24T13:03:35.804203Z",
     "iopub.status.busy": "2022-07-24T13:03:35.803448Z",
     "iopub.status.idle": "2022-07-24T13:03:35.810264Z",
     "shell.execute_reply": "2022-07-24T13:03:35.808322Z"
    },
    "id": "5b51f161",
    "papermill": {
     "duration": 0.02988,
     "end_time": "2022-07-24T13:03:35.813486",
     "exception": false,
     "start_time": "2022-07-24T13:03:35.783606",
     "status": "completed"
    },
    "tags": []
   },
   "outputs": [],
   "source": [
    "#Parameters \n",
    "n_features = 8\n",
    "n_samples= 768\n",
    "n_target = 1 "
   ]
  },
  {
   "cell_type": "code",
   "execution_count": 6,
   "id": "5d6eced4",
   "metadata": {
    "execution": {
     "iopub.execute_input": "2022-07-24T13:03:35.833172Z",
     "iopub.status.busy": "2022-07-24T13:03:35.832185Z",
     "iopub.status.idle": "2022-07-24T13:03:36.760513Z",
     "shell.execute_reply": "2022-07-24T13:03:36.756700Z"
    },
    "id": "5d6eced4",
    "papermill": {
     "duration": 0.942238,
     "end_time": "2022-07-24T13:03:36.764309",
     "exception": false,
     "start_time": "2022-07-24T13:03:35.822071",
     "status": "completed"
    },
    "tags": []
   },
   "outputs": [
    {
     "name": "stdout",
     "output_type": "stream",
     "text": [
      "     X1     X2     X3      X4   X5  X6   X7  X8     Y1     Y2\n",
      "0  0.98  514.5  294.0  110.25  7.0   2  0.0   0  15.55  21.33\n",
      "1  0.98  514.5  294.0  110.25  7.0   3  0.0   0  15.55  21.33\n",
      "2  0.98  514.5  294.0  110.25  7.0   4  0.0   0  15.55  21.33\n",
      "3  0.98  514.5  294.0  110.25  7.0   5  0.0   0  15.55  21.33\n",
      "4  0.90  563.5  318.5  122.50  7.0   2  0.0   0  20.84  28.28\n"
     ]
    }
   ],
   "source": [
    "X,Y = energyefficiencyDataset.energy_data()"
   ]
  },
  {
   "cell_type": "code",
   "execution_count": 7,
   "id": "fe007438",
   "metadata": {
    "execution": {
     "iopub.execute_input": "2022-07-24T13:03:36.789767Z",
     "iopub.status.busy": "2022-07-24T13:03:36.788882Z",
     "iopub.status.idle": "2022-07-24T13:03:36.797600Z",
     "shell.execute_reply": "2022-07-24T13:03:36.796501Z"
    },
    "id": "fe007438",
    "papermill": {
     "duration": 0.025185,
     "end_time": "2022-07-24T13:03:36.801000",
     "exception": false,
     "start_time": "2022-07-24T13:03:36.775815",
     "status": "completed"
    },
    "tags": []
   },
   "outputs": [],
   "source": [
    "#Train test split for dataset \n",
    "X_train,X_test,Y_train,Y_test = train_test_split(X,Y,test_size = 0.2)\n",
    "train_data = dataset.CustomDataset(X_train,Y_train)\n",
    "test_data = dataset.CustomDataset(X_test,Y_test)\n"
   ]
  },
  {
   "cell_type": "markdown",
   "id": "a9a1af34",
   "metadata": {
    "id": "a9a1af34",
    "papermill": {
     "duration": 0.009764,
     "end_time": "2022-07-24T13:03:36.818858",
     "exception": false,
     "start_time": "2022-07-24T13:03:36.809094",
     "status": "completed"
    },
    "tags": []
   },
   "source": [
    "## Training Parameters "
   ]
  },
  {
   "cell_type": "code",
   "execution_count": 8,
   "id": "952b7fc8",
   "metadata": {
    "execution": {
     "iopub.execute_input": "2022-07-24T13:03:36.849887Z",
     "iopub.status.busy": "2022-07-24T13:03:36.849587Z",
     "iopub.status.idle": "2022-07-24T13:03:36.854157Z",
     "shell.execute_reply": "2022-07-24T13:03:36.853244Z"
    },
    "id": "952b7fc8",
    "papermill": {
     "duration": 0.023642,
     "end_time": "2022-07-24T13:03:36.856752",
     "exception": false,
     "start_time": "2022-07-24T13:03:36.833110",
     "status": "completed"
    },
    "tags": []
   },
   "outputs": [],
   "source": [
    "batch_size = 32\n",
    "n_epochs = 1000\n",
    "#Select the device \n",
    "device = torch.device('cuda' if torch.cuda.is_available() else 'cpu')"
   ]
  },
  {
   "cell_type": "markdown",
   "id": "a95e1600",
   "metadata": {
    "id": "a95e1600",
    "papermill": {
     "duration": 0.007624,
     "end_time": "2022-07-24T13:03:36.871384",
     "exception": false,
     "start_time": "2022-07-24T13:03:36.863760",
     "status": "completed"
    },
    "tags": []
   },
   "source": [
    "# ABC Pre-generator Model \n",
    "\n",
    "1. The catboost model is used as a pre-generator model for the ABC-GAN. \n",
    "2. The model is first trained on the entire dataset \n",
    "3. It generats X,Y pairs and we add some Gaussian noise with mean 0 and variance 1 to it which is then feed as input to the generator.\n"
   ]
  },
  {
   "cell_type": "code",
   "execution_count": 9,
   "id": "ff8ce7bd",
   "metadata": {
    "execution": {
     "iopub.execute_input": "2022-07-24T13:03:36.898105Z",
     "iopub.status.busy": "2022-07-24T13:03:36.897541Z",
     "iopub.status.idle": "2022-07-24T13:03:38.352638Z",
     "shell.execute_reply": "2022-07-24T13:03:38.350013Z"
    },
    "id": "ff8ce7bd",
    "papermill": {
     "duration": 1.473555,
     "end_time": "2022-07-24T13:03:38.358791",
     "exception": false,
     "start_time": "2022-07-24T13:03:36.885236",
     "status": "completed"
    },
    "tags": []
   },
   "outputs": [
    {
     "name": "stdout",
     "output_type": "stream",
     "text": [
      "Learning rate set to 0.037906\n"
     ]
    },
    {
     "name": "stdout",
     "output_type": "stream",
     "text": [
      "0:\tlearn: 0.9737971\ttotal: 58.4ms\tremaining: 58.4s\n",
      "1:\tlearn: 0.9411695\ttotal: 59.3ms\tremaining: 29.6s\n",
      "2:\tlearn: 0.9136345\ttotal: 59.8ms\tremaining: 19.9s\n",
      "3:\tlearn: 0.8831142\ttotal: 60.5ms\tremaining: 15.1s\n",
      "4:\tlearn: 0.8582868\ttotal: 61ms\tremaining: 12.1s\n",
      "5:\tlearn: 0.8301704\ttotal: 62.2ms\tremaining: 10.3s\n",
      "6:\tlearn: 0.8076683\ttotal: 62.8ms\tremaining: 8.91s\n",
      "7:\tlearn: 0.7842580\ttotal: 69.4ms\tremaining: 8.6s\n",
      "8:\tlearn: 0.7581079\ttotal: 70.1ms\tremaining: 7.71s\n",
      "9:\tlearn: 0.7344628\ttotal: 71.4ms\tremaining: 7.07s\n",
      "10:\tlearn: 0.7113881\ttotal: 72.5ms\tremaining: 6.51s\n",
      "11:\tlearn: 0.6894511\ttotal: 73ms\tremaining: 6.01s\n",
      "12:\tlearn: 0.6676018\ttotal: 84.1ms\tremaining: 6.39s\n",
      "13:\tlearn: 0.6472504\ttotal: 85.3ms\tremaining: 6.01s\n",
      "14:\tlearn: 0.6271193\ttotal: 86.8ms\tremaining: 5.7s\n",
      "15:\tlearn: 0.6066775\ttotal: 87.2ms\tremaining: 5.37s\n",
      "16:\tlearn: 0.5875325\ttotal: 88.5ms\tremaining: 5.12s\n",
      "17:\tlearn: 0.5705978\ttotal: 88.8ms\tremaining: 4.84s\n",
      "18:\tlearn: 0.5545616\ttotal: 91.4ms\tremaining: 4.72s\n",
      "19:\tlearn: 0.5384598\ttotal: 91.7ms\tremaining: 4.5s\n",
      "20:\tlearn: 0.5229865\ttotal: 92.2ms\tremaining: 4.3s\n",
      "21:\tlearn: 0.5066194\ttotal: 93.1ms\tremaining: 4.14s\n",
      "22:\tlearn: 0.4904150\ttotal: 93.7ms\tremaining: 3.98s\n",
      "23:\tlearn: 0.4770103\ttotal: 94.3ms\tremaining: 3.84s\n",
      "24:\tlearn: 0.4622312\ttotal: 95ms\tremaining: 3.71s\n",
      "25:\tlearn: 0.4478472\ttotal: 95.7ms\tremaining: 3.58s\n",
      "26:\tlearn: 0.4360128\ttotal: 96.2ms\tremaining: 3.47s\n",
      "27:\tlearn: 0.4229576\ttotal: 98.1ms\tremaining: 3.4s\n",
      "28:\tlearn: 0.4118003\ttotal: 98.7ms\tremaining: 3.3s\n",
      "29:\tlearn: 0.3988020\ttotal: 100ms\tremaining: 3.24s\n",
      "30:\tlearn: 0.3860855\ttotal: 101ms\tremaining: 3.17s\n",
      "31:\tlearn: 0.3754040\ttotal: 103ms\tremaining: 3.1s\n",
      "32:\tlearn: 0.3644689\ttotal: 104ms\tremaining: 3.04s\n",
      "33:\tlearn: 0.3531493\ttotal: 105ms\tremaining: 2.97s\n",
      "34:\tlearn: 0.3439331\ttotal: 106ms\tremaining: 2.92s\n",
      "35:\tlearn: 0.3341571\ttotal: 109ms\tremaining: 2.92s\n",
      "36:\tlearn: 0.3239235\ttotal: 110ms\tremaining: 2.86s\n",
      "37:\tlearn: 0.3158231\ttotal: 111ms\tremaining: 2.81s\n",
      "38:\tlearn: 0.3073529\ttotal: 111ms\tremaining: 2.74s\n",
      "39:\tlearn: 0.2983552\ttotal: 112ms\tremaining: 2.69s\n",
      "40:\tlearn: 0.2911418\ttotal: 126ms\tremaining: 2.95s\n",
      "41:\tlearn: 0.2832880\ttotal: 127ms\tremaining: 2.89s\n",
      "42:\tlearn: 0.2751819\ttotal: 127ms\tremaining: 2.83s\n",
      "43:\tlearn: 0.2678842\ttotal: 128ms\tremaining: 2.78s\n",
      "44:\tlearn: 0.2603831\ttotal: 129ms\tremaining: 2.74s\n",
      "45:\tlearn: 0.2539938\ttotal: 131ms\tremaining: 2.71s\n",
      "46:\tlearn: 0.2479778\ttotal: 131ms\tremaining: 2.67s\n",
      "47:\tlearn: 0.2412102\ttotal: 132ms\tremaining: 2.62s\n",
      "48:\tlearn: 0.2342635\ttotal: 134ms\tremaining: 2.59s\n",
      "49:\tlearn: 0.2282047\ttotal: 134ms\tremaining: 2.56s\n",
      "50:\tlearn: 0.2221172\ttotal: 135ms\tremaining: 2.52s\n",
      "51:\tlearn: 0.2162452\ttotal: 136ms\tremaining: 2.48s\n",
      "52:\tlearn: 0.2101923\ttotal: 137ms\tremaining: 2.45s\n",
      "53:\tlearn: 0.2049378\ttotal: 138ms\tremaining: 2.42s\n",
      "54:\tlearn: 0.1992649\ttotal: 139ms\tremaining: 2.38s\n",
      "55:\tlearn: 0.1942405\ttotal: 139ms\tremaining: 2.35s\n",
      "56:\tlearn: 0.1898907\ttotal: 140ms\tremaining: 2.32s\n",
      "57:\tlearn: 0.1862447\ttotal: 141ms\tremaining: 2.28s\n",
      "58:\tlearn: 0.1819831\ttotal: 141ms\tremaining: 2.25s\n",
      "59:\tlearn: 0.1776254\ttotal: 142ms\tremaining: 2.22s\n",
      "60:\tlearn: 0.1730810\ttotal: 144ms\tremaining: 2.22s\n",
      "61:\tlearn: 0.1688910\ttotal: 145ms\tremaining: 2.2s\n",
      "62:\tlearn: 0.1646079\ttotal: 147ms\tremaining: 2.18s\n",
      "63:\tlearn: 0.1604019\ttotal: 148ms\tremaining: 2.16s\n",
      "64:\tlearn: 0.1565829\ttotal: 149ms\tremaining: 2.14s\n",
      "65:\tlearn: 0.1530963\ttotal: 154ms\tremaining: 2.17s\n",
      "66:\tlearn: 0.1491501\ttotal: 154ms\tremaining: 2.14s\n",
      "67:\tlearn: 0.1452755\ttotal: 157ms\tremaining: 2.15s\n",
      "68:\tlearn: 0.1417132\ttotal: 158ms\tremaining: 2.13s\n",
      "69:\tlearn: 0.1385005\ttotal: 158ms\tremaining: 2.1s\n",
      "70:\tlearn: 0.1360639\ttotal: 158ms\tremaining: 2.07s\n",
      "71:\tlearn: 0.1325800\ttotal: 159ms\tremaining: 2.05s\n",
      "72:\tlearn: 0.1303511\ttotal: 165ms\tremaining: 2.1s\n",
      "73:\tlearn: 0.1275761\ttotal: 166ms\tremaining: 2.08s\n",
      "74:\tlearn: 0.1243769\ttotal: 166ms\tremaining: 2.05s\n",
      "75:\tlearn: 0.1216142\ttotal: 167ms\tremaining: 2.03s\n",
      "76:\tlearn: 0.1197635\ttotal: 167ms\tremaining: 2s\n"
     ]
    },
    {
     "name": "stdout",
     "output_type": "stream",
     "text": [
      "77:\tlearn: 0.1171512\ttotal: 170ms\tremaining: 2.01s\n",
      "78:\tlearn: 0.1147763\ttotal: 171ms\tremaining: 1.99s\n",
      "79:\tlearn: 0.1128731\ttotal: 171ms\tremaining: 1.97s\n",
      "80:\tlearn: 0.1103703\ttotal: 172ms\tremaining: 1.95s\n",
      "81:\tlearn: 0.1088700\ttotal: 173ms\tremaining: 1.93s\n",
      "82:\tlearn: 0.1070508\ttotal: 173ms\tremaining: 1.91s\n",
      "83:\tlearn: 0.1053559\ttotal: 174ms\tremaining: 1.89s\n",
      "84:\tlearn: 0.1031045\ttotal: 174ms\tremaining: 1.88s\n",
      "85:\tlearn: 0.1015328\ttotal: 176ms\tremaining: 1.87s\n",
      "86:\tlearn: 0.1000725\ttotal: 177ms\tremaining: 1.85s\n",
      "87:\tlearn: 0.0976009\ttotal: 177ms\tremaining: 1.84s\n",
      "88:\tlearn: 0.0955371\ttotal: 178ms\tremaining: 1.82s\n",
      "89:\tlearn: 0.0936763\ttotal: 179ms\tremaining: 1.8s\n",
      "90:\tlearn: 0.0917529\ttotal: 179ms\tremaining: 1.79s\n",
      "91:\tlearn: 0.0903390\ttotal: 180ms\tremaining: 1.77s\n",
      "92:\tlearn: 0.0886160\ttotal: 180ms\tremaining: 1.76s\n",
      "93:\tlearn: 0.0870282\ttotal: 181ms\tremaining: 1.75s\n",
      "94:\tlearn: 0.0856989\ttotal: 182ms\tremaining: 1.73s\n",
      "95:\tlearn: 0.0839890\ttotal: 183ms\tremaining: 1.72s\n",
      "96:\tlearn: 0.0830308\ttotal: 184ms\tremaining: 1.71s\n",
      "97:\tlearn: 0.0813175\ttotal: 184ms\tremaining: 1.7s\n",
      "98:\tlearn: 0.0800640\ttotal: 185ms\tremaining: 1.69s\n",
      "99:\tlearn: 0.0787754\ttotal: 187ms\tremaining: 1.68s\n",
      "100:\tlearn: 0.0778738\ttotal: 190ms\tremaining: 1.69s\n",
      "101:\tlearn: 0.0768181\ttotal: 190ms\tremaining: 1.68s\n",
      "102:\tlearn: 0.0760676\ttotal: 191ms\tremaining: 1.66s\n",
      "103:\tlearn: 0.0750238\ttotal: 192ms\tremaining: 1.65s\n",
      "104:\tlearn: 0.0740860\ttotal: 192ms\tremaining: 1.64s\n",
      "105:\tlearn: 0.0727502\ttotal: 193ms\tremaining: 1.63s\n",
      "106:\tlearn: 0.0719988\ttotal: 194ms\tremaining: 1.62s\n",
      "107:\tlearn: 0.0711607\ttotal: 197ms\tremaining: 1.63s\n",
      "108:\tlearn: 0.0703481\ttotal: 197ms\tremaining: 1.61s\n",
      "109:\tlearn: 0.0692261\ttotal: 198ms\tremaining: 1.6s\n",
      "110:\tlearn: 0.0685354\ttotal: 199ms\tremaining: 1.59s\n",
      "111:\tlearn: 0.0675881\ttotal: 199ms\tremaining: 1.58s\n",
      "112:\tlearn: 0.0666086\ttotal: 199ms\tremaining: 1.56s\n",
      "113:\tlearn: 0.0657932\ttotal: 201ms\tremaining: 1.56s\n",
      "114:\tlearn: 0.0648180\ttotal: 202ms\tremaining: 1.55s\n",
      "115:\tlearn: 0.0637541\ttotal: 202ms\tremaining: 1.54s\n",
      "116:\tlearn: 0.0629286\ttotal: 203ms\tremaining: 1.53s\n",
      "117:\tlearn: 0.0624699\ttotal: 203ms\tremaining: 1.52s\n",
      "118:\tlearn: 0.0615625\ttotal: 206ms\tremaining: 1.52s\n",
      "119:\tlearn: 0.0609796\ttotal: 206ms\tremaining: 1.51s\n",
      "120:\tlearn: 0.0600460\ttotal: 206ms\tremaining: 1.5s\n",
      "121:\tlearn: 0.0592437\ttotal: 207ms\tremaining: 1.49s\n",
      "122:\tlearn: 0.0587359\ttotal: 207ms\tremaining: 1.48s\n",
      "123:\tlearn: 0.0580787\ttotal: 208ms\tremaining: 1.47s\n",
      "124:\tlearn: 0.0575807\ttotal: 209ms\tremaining: 1.47s\n",
      "125:\tlearn: 0.0570922\ttotal: 210ms\tremaining: 1.46s\n",
      "126:\tlearn: 0.0566871\ttotal: 213ms\tremaining: 1.47s\n",
      "127:\tlearn: 0.0560997\ttotal: 214ms\tremaining: 1.46s\n",
      "128:\tlearn: 0.0557453\ttotal: 214ms\tremaining: 1.45s\n",
      "129:\tlearn: 0.0555831\ttotal: 215ms\tremaining: 1.44s\n",
      "130:\tlearn: 0.0552517\ttotal: 215ms\tremaining: 1.43s\n",
      "131:\tlearn: 0.0548110\ttotal: 216ms\tremaining: 1.42s\n"
     ]
    },
    {
     "name": "stdout",
     "output_type": "stream",
     "text": [
      "132:\tlearn: 0.0544278\ttotal: 217ms\tremaining: 1.42s\n",
      "133:\tlearn: 0.0540057\ttotal: 219ms\tremaining: 1.42s\n",
      "134:\tlearn: 0.0536601\ttotal: 220ms\tremaining: 1.41s\n",
      "135:\tlearn: 0.0531835\ttotal: 221ms\tremaining: 1.4s\n",
      "136:\tlearn: 0.0528071\ttotal: 221ms\tremaining: 1.39s\n",
      "137:\tlearn: 0.0522662\ttotal: 222ms\tremaining: 1.38s\n",
      "138:\tlearn: 0.0519071\ttotal: 222ms\tremaining: 1.38s\n",
      "139:\tlearn: 0.0515513\ttotal: 222ms\tremaining: 1.37s\n",
      "140:\tlearn: 0.0511309\ttotal: 223ms\tremaining: 1.36s\n",
      "141:\tlearn: 0.0507101\ttotal: 225ms\tremaining: 1.36s\n",
      "142:\tlearn: 0.0503851\ttotal: 225ms\tremaining: 1.35s\n",
      "143:\tlearn: 0.0501411\ttotal: 226ms\tremaining: 1.34s\n",
      "144:\tlearn: 0.0498910\ttotal: 227ms\tremaining: 1.34s\n",
      "145:\tlearn: 0.0494366\ttotal: 227ms\tremaining: 1.33s\n",
      "146:\tlearn: 0.0491770\ttotal: 228ms\tremaining: 1.32s\n",
      "147:\tlearn: 0.0488266\ttotal: 229ms\tremaining: 1.32s\n",
      "148:\tlearn: 0.0486510\ttotal: 230ms\tremaining: 1.31s\n",
      "149:\tlearn: 0.0483379\ttotal: 231ms\tremaining: 1.31s\n",
      "150:\tlearn: 0.0479578\ttotal: 231ms\tremaining: 1.3s\n",
      "151:\tlearn: 0.0476758\ttotal: 232ms\tremaining: 1.29s\n",
      "152:\tlearn: 0.0474774\ttotal: 232ms\tremaining: 1.28s\n",
      "153:\tlearn: 0.0471562\ttotal: 233ms\tremaining: 1.28s\n",
      "154:\tlearn: 0.0468487\ttotal: 233ms\tremaining: 1.27s\n",
      "155:\tlearn: 0.0466701\ttotal: 234ms\tremaining: 1.26s\n",
      "156:\tlearn: 0.0463808\ttotal: 234ms\tremaining: 1.26s\n",
      "157:\tlearn: 0.0461934\ttotal: 235ms\tremaining: 1.25s\n",
      "158:\tlearn: 0.0460196\ttotal: 237ms\tremaining: 1.25s\n",
      "159:\tlearn: 0.0458116\ttotal: 238ms\tremaining: 1.25s\n",
      "160:\tlearn: 0.0455569\ttotal: 238ms\tremaining: 1.24s\n",
      "161:\tlearn: 0.0453431\ttotal: 239ms\tremaining: 1.24s\n",
      "162:\tlearn: 0.0451415\ttotal: 240ms\tremaining: 1.23s\n",
      "163:\tlearn: 0.0449386\ttotal: 240ms\tremaining: 1.22s\n",
      "164:\tlearn: 0.0447535\ttotal: 241ms\tremaining: 1.22s\n",
      "165:\tlearn: 0.0445313\ttotal: 242ms\tremaining: 1.21s\n",
      "166:\tlearn: 0.0442876\ttotal: 243ms\tremaining: 1.21s\n",
      "167:\tlearn: 0.0440826\ttotal: 244ms\tremaining: 1.21s\n",
      "168:\tlearn: 0.0439009\ttotal: 244ms\tremaining: 1.2s\n",
      "169:\tlearn: 0.0437528\ttotal: 245ms\tremaining: 1.2s\n",
      "170:\tlearn: 0.0435089\ttotal: 246ms\tremaining: 1.19s\n",
      "171:\tlearn: 0.0433316\ttotal: 247ms\tremaining: 1.19s\n",
      "172:\tlearn: 0.0430872\ttotal: 249ms\tremaining: 1.19s\n",
      "173:\tlearn: 0.0427530\ttotal: 250ms\tremaining: 1.19s\n",
      "174:\tlearn: 0.0425620\ttotal: 251ms\tremaining: 1.18s\n",
      "175:\tlearn: 0.0424182\ttotal: 252ms\tremaining: 1.18s\n",
      "176:\tlearn: 0.0422504\ttotal: 255ms\tremaining: 1.18s\n",
      "177:\tlearn: 0.0420924\ttotal: 256ms\tremaining: 1.18s\n",
      "178:\tlearn: 0.0419662\ttotal: 257ms\tremaining: 1.18s\n",
      "179:\tlearn: 0.0416494\ttotal: 258ms\tremaining: 1.17s\n",
      "180:\tlearn: 0.0414646\ttotal: 258ms\tremaining: 1.17s\n",
      "181:\tlearn: 0.0413302\ttotal: 259ms\tremaining: 1.16s\n",
      "182:\tlearn: 0.0412012\ttotal: 261ms\tremaining: 1.16s\n",
      "183:\tlearn: 0.0409801\ttotal: 293ms\tremaining: 1.3s\n",
      "184:\tlearn: 0.0408069\ttotal: 294ms\tremaining: 1.29s\n",
      "185:\tlearn: 0.0405221\ttotal: 296ms\tremaining: 1.29s\n",
      "186:\tlearn: 0.0403281\ttotal: 296ms\tremaining: 1.29s\n",
      "187:\tlearn: 0.0401578\ttotal: 297ms\tremaining: 1.28s\n",
      "188:\tlearn: 0.0399228\ttotal: 297ms\tremaining: 1.28s\n",
      "189:\tlearn: 0.0397776\ttotal: 298ms\tremaining: 1.27s\n",
      "190:\tlearn: 0.0396765\ttotal: 298ms\tremaining: 1.26s\n",
      "191:\tlearn: 0.0395263\ttotal: 300ms\tremaining: 1.26s\n",
      "192:\tlearn: 0.0393877\ttotal: 302ms\tremaining: 1.26s\n",
      "193:\tlearn: 0.0392723\ttotal: 303ms\tremaining: 1.26s\n",
      "194:\tlearn: 0.0391114\ttotal: 303ms\tremaining: 1.25s\n",
      "195:\tlearn: 0.0390118\ttotal: 303ms\tremaining: 1.24s\n",
      "196:\tlearn: 0.0388565\ttotal: 304ms\tremaining: 1.24s\n",
      "197:\tlearn: 0.0387270\ttotal: 304ms\tremaining: 1.23s\n",
      "198:\tlearn: 0.0386146\ttotal: 304ms\tremaining: 1.22s\n",
      "199:\tlearn: 0.0384880\ttotal: 305ms\tremaining: 1.22s\n",
      "200:\tlearn: 0.0383739\ttotal: 305ms\tremaining: 1.21s\n",
      "201:\tlearn: 0.0382388\ttotal: 305ms\tremaining: 1.21s\n",
      "202:\tlearn: 0.0381360\ttotal: 305ms\tremaining: 1.2s\n",
      "203:\tlearn: 0.0379374\ttotal: 306ms\tremaining: 1.19s\n",
      "204:\tlearn: 0.0378376\ttotal: 306ms\tremaining: 1.19s\n",
      "205:\tlearn: 0.0377599\ttotal: 309ms\tremaining: 1.19s\n",
      "206:\tlearn: 0.0376651\ttotal: 309ms\tremaining: 1.19s\n",
      "207:\tlearn: 0.0374244\ttotal: 310ms\tremaining: 1.18s\n",
      "208:\tlearn: 0.0373166\ttotal: 311ms\tremaining: 1.18s\n",
      "209:\tlearn: 0.0371793\ttotal: 312ms\tremaining: 1.17s\n",
      "210:\tlearn: 0.0370791\ttotal: 313ms\tremaining: 1.17s\n",
      "211:\tlearn: 0.0369533\ttotal: 314ms\tremaining: 1.17s\n",
      "212:\tlearn: 0.0367886\ttotal: 315ms\tremaining: 1.16s\n",
      "213:\tlearn: 0.0365630\ttotal: 315ms\tremaining: 1.16s\n",
      "214:\tlearn: 0.0364714\ttotal: 315ms\tremaining: 1.15s\n",
      "215:\tlearn: 0.0362508\ttotal: 316ms\tremaining: 1.15s\n",
      "216:\tlearn: 0.0361534\ttotal: 317ms\tremaining: 1.14s\n"
     ]
    },
    {
     "name": "stdout",
     "output_type": "stream",
     "text": [
      "217:\tlearn: 0.0360555\ttotal: 319ms\tremaining: 1.14s\n",
      "218:\tlearn: 0.0359439\ttotal: 320ms\tremaining: 1.14s\n",
      "219:\tlearn: 0.0358688\ttotal: 321ms\tremaining: 1.14s\n",
      "220:\tlearn: 0.0357235\ttotal: 322ms\tremaining: 1.14s\n",
      "221:\tlearn: 0.0356119\ttotal: 323ms\tremaining: 1.13s\n",
      "222:\tlearn: 0.0354990\ttotal: 324ms\tremaining: 1.13s\n",
      "223:\tlearn: 0.0354015\ttotal: 324ms\tremaining: 1.12s\n",
      "224:\tlearn: 0.0352879\ttotal: 325ms\tremaining: 1.12s\n",
      "225:\tlearn: 0.0352242\ttotal: 325ms\tremaining: 1.11s\n",
      "226:\tlearn: 0.0349874\ttotal: 325ms\tremaining: 1.11s\n",
      "227:\tlearn: 0.0348133\ttotal: 326ms\tremaining: 1.1s\n",
      "228:\tlearn: 0.0346254\ttotal: 327ms\tremaining: 1.1s\n",
      "229:\tlearn: 0.0345028\ttotal: 327ms\tremaining: 1.1s\n",
      "230:\tlearn: 0.0344021\ttotal: 328ms\tremaining: 1.09s\n",
      "231:\tlearn: 0.0343045\ttotal: 329ms\tremaining: 1.09s\n",
      "232:\tlearn: 0.0342324\ttotal: 330ms\tremaining: 1.09s\n",
      "233:\tlearn: 0.0341563\ttotal: 332ms\tremaining: 1.08s\n",
      "234:\tlearn: 0.0340784\ttotal: 332ms\tremaining: 1.08s\n",
      "235:\tlearn: 0.0339281\ttotal: 334ms\tremaining: 1.08s\n",
      "236:\tlearn: 0.0337884\ttotal: 335ms\tremaining: 1.08s\n",
      "237:\tlearn: 0.0335793\ttotal: 336ms\tremaining: 1.08s\n",
      "238:\tlearn: 0.0334961\ttotal: 337ms\tremaining: 1.07s\n",
      "239:\tlearn: 0.0334010\ttotal: 337ms\tremaining: 1.07s\n",
      "240:\tlearn: 0.0332059\ttotal: 338ms\tremaining: 1.06s\n",
      "241:\tlearn: 0.0331175\ttotal: 338ms\tremaining: 1.06s\n",
      "242:\tlearn: 0.0330474\ttotal: 339ms\tremaining: 1.05s\n",
      "243:\tlearn: 0.0329563\ttotal: 339ms\tremaining: 1.05s\n",
      "244:\tlearn: 0.0328733\ttotal: 340ms\tremaining: 1.05s\n",
      "245:\tlearn: 0.0326938\ttotal: 340ms\tremaining: 1.04s\n",
      "246:\tlearn: 0.0325927\ttotal: 341ms\tremaining: 1.04s\n",
      "247:\tlearn: 0.0325043\ttotal: 342ms\tremaining: 1.04s\n",
      "248:\tlearn: 0.0324173\ttotal: 342ms\tremaining: 1.03s\n",
      "249:\tlearn: 0.0323257\ttotal: 343ms\tremaining: 1.03s\n",
      "250:\tlearn: 0.0321580\ttotal: 343ms\tremaining: 1.02s\n",
      "251:\tlearn: 0.0320004\ttotal: 343ms\tremaining: 1.02s\n",
      "252:\tlearn: 0.0318290\ttotal: 343ms\tremaining: 1.01s\n",
      "253:\tlearn: 0.0317363\ttotal: 344ms\tremaining: 1.01s\n",
      "254:\tlearn: 0.0316490\ttotal: 344ms\tremaining: 1s\n",
      "255:\tlearn: 0.0314886\ttotal: 344ms\tremaining: 1s\n",
      "256:\tlearn: 0.0313377\ttotal: 345ms\tremaining: 997ms\n",
      "257:\tlearn: 0.0312672\ttotal: 345ms\tremaining: 992ms\n",
      "258:\tlearn: 0.0311973\ttotal: 345ms\tremaining: 988ms\n",
      "259:\tlearn: 0.0311014\ttotal: 346ms\tremaining: 986ms\n",
      "260:\tlearn: 0.0310152\ttotal: 347ms\tremaining: 982ms\n",
      "261:\tlearn: 0.0309296\ttotal: 347ms\tremaining: 978ms\n",
      "262:\tlearn: 0.0307918\ttotal: 348ms\tremaining: 975ms\n",
      "263:\tlearn: 0.0306518\ttotal: 348ms\tremaining: 971ms\n",
      "264:\tlearn: 0.0305240\ttotal: 349ms\tremaining: 967ms\n",
      "265:\tlearn: 0.0304147\ttotal: 349ms\tremaining: 963ms\n",
      "266:\tlearn: 0.0302853\ttotal: 349ms\tremaining: 959ms\n",
      "267:\tlearn: 0.0302036\ttotal: 349ms\tremaining: 954ms\n",
      "268:\tlearn: 0.0300923\ttotal: 350ms\tremaining: 952ms\n",
      "269:\tlearn: 0.0299721\ttotal: 351ms\tremaining: 948ms\n",
      "270:\tlearn: 0.0299186\ttotal: 351ms\tremaining: 944ms\n",
      "271:\tlearn: 0.0298496\ttotal: 351ms\tremaining: 940ms\n",
      "272:\tlearn: 0.0297966\ttotal: 352ms\tremaining: 938ms\n",
      "273:\tlearn: 0.0297004\ttotal: 353ms\tremaining: 935ms\n",
      "274:\tlearn: 0.0296498\ttotal: 353ms\tremaining: 932ms\n",
      "275:\tlearn: 0.0295770\ttotal: 354ms\tremaining: 929ms\n",
      "276:\tlearn: 0.0295299\ttotal: 355ms\tremaining: 925ms\n",
      "277:\tlearn: 0.0294490\ttotal: 355ms\tremaining: 921ms\n",
      "278:\tlearn: 0.0293282\ttotal: 355ms\tremaining: 918ms\n",
      "279:\tlearn: 0.0292674\ttotal: 356ms\tremaining: 917ms\n",
      "280:\tlearn: 0.0291908\ttotal: 357ms\tremaining: 914ms\n",
      "281:\tlearn: 0.0290787\ttotal: 358ms\tremaining: 911ms\n",
      "282:\tlearn: 0.0290306\ttotal: 358ms\tremaining: 908ms\n",
      "283:\tlearn: 0.0289438\ttotal: 359ms\tremaining: 905ms\n",
      "284:\tlearn: 0.0288933\ttotal: 359ms\tremaining: 902ms\n",
      "285:\tlearn: 0.0288109\ttotal: 360ms\tremaining: 898ms\n",
      "286:\tlearn: 0.0287360\ttotal: 361ms\tremaining: 897ms\n",
      "287:\tlearn: 0.0286128\ttotal: 362ms\tremaining: 895ms\n",
      "288:\tlearn: 0.0285474\ttotal: 363ms\tremaining: 893ms\n",
      "289:\tlearn: 0.0285057\ttotal: 363ms\tremaining: 889ms\n"
     ]
    },
    {
     "name": "stdout",
     "output_type": "stream",
     "text": [
      "290:\tlearn: 0.0284253\ttotal: 365ms\tremaining: 890ms\n",
      "291:\tlearn: 0.0283228\ttotal: 366ms\tremaining: 886ms\n",
      "292:\tlearn: 0.0282460\ttotal: 366ms\tremaining: 883ms\n",
      "293:\tlearn: 0.0281795\ttotal: 367ms\tremaining: 880ms\n",
      "294:\tlearn: 0.0281069\ttotal: 367ms\tremaining: 877ms\n",
      "295:\tlearn: 0.0280128\ttotal: 367ms\tremaining: 874ms\n",
      "296:\tlearn: 0.0279069\ttotal: 368ms\tremaining: 871ms\n",
      "297:\tlearn: 0.0278262\ttotal: 368ms\tremaining: 868ms\n",
      "298:\tlearn: 0.0277432\ttotal: 369ms\tremaining: 864ms\n",
      "299:\tlearn: 0.0276662\ttotal: 369ms\tremaining: 861ms\n",
      "300:\tlearn: 0.0276070\ttotal: 369ms\tremaining: 857ms\n",
      "301:\tlearn: 0.0275542\ttotal: 370ms\tremaining: 854ms\n",
      "302:\tlearn: 0.0274811\ttotal: 370ms\tremaining: 851ms\n",
      "303:\tlearn: 0.0274267\ttotal: 370ms\tremaining: 848ms\n",
      "304:\tlearn: 0.0273889\ttotal: 370ms\tremaining: 844ms\n",
      "305:\tlearn: 0.0273184\ttotal: 371ms\tremaining: 841ms\n",
      "306:\tlearn: 0.0272705\ttotal: 371ms\tremaining: 838ms\n",
      "307:\tlearn: 0.0272382\ttotal: 371ms\tremaining: 834ms\n",
      "308:\tlearn: 0.0271805\ttotal: 372ms\tremaining: 832ms\n",
      "309:\tlearn: 0.0271056\ttotal: 373ms\tremaining: 829ms\n",
      "310:\tlearn: 0.0270441\ttotal: 373ms\tremaining: 826ms\n",
      "311:\tlearn: 0.0269800\ttotal: 373ms\tremaining: 823ms\n",
      "312:\tlearn: 0.0269380\ttotal: 373ms\tremaining: 819ms\n",
      "313:\tlearn: 0.0268792\ttotal: 374ms\tremaining: 816ms\n",
      "314:\tlearn: 0.0268412\ttotal: 374ms\tremaining: 813ms\n",
      "315:\tlearn: 0.0267738\ttotal: 375ms\tremaining: 811ms\n",
      "316:\tlearn: 0.0266617\ttotal: 375ms\tremaining: 808ms\n",
      "317:\tlearn: 0.0265976\ttotal: 375ms\tremaining: 805ms\n",
      "318:\tlearn: 0.0265367\ttotal: 376ms\tremaining: 802ms\n",
      "319:\tlearn: 0.0264911\ttotal: 376ms\tremaining: 799ms\n",
      "320:\tlearn: 0.0264372\ttotal: 376ms\tremaining: 796ms\n",
      "321:\tlearn: 0.0264044\ttotal: 377ms\tremaining: 793ms\n",
      "322:\tlearn: 0.0263377\ttotal: 377ms\tremaining: 790ms\n",
      "323:\tlearn: 0.0262839\ttotal: 377ms\tremaining: 787ms\n",
      "324:\tlearn: 0.0262388\ttotal: 378ms\tremaining: 784ms\n",
      "325:\tlearn: 0.0261842\ttotal: 378ms\tremaining: 781ms\n",
      "326:\tlearn: 0.0261362\ttotal: 378ms\tremaining: 778ms\n",
      "327:\tlearn: 0.0260308\ttotal: 379ms\tremaining: 776ms\n",
      "328:\tlearn: 0.0259389\ttotal: 379ms\tremaining: 773ms\n",
      "329:\tlearn: 0.0258749\ttotal: 380ms\tremaining: 771ms\n",
      "330:\tlearn: 0.0258223\ttotal: 380ms\tremaining: 768ms\n",
      "331:\tlearn: 0.0257735\ttotal: 380ms\tremaining: 765ms\n",
      "332:\tlearn: 0.0257089\ttotal: 381ms\tremaining: 762ms\n",
      "333:\tlearn: 0.0256552\ttotal: 381ms\tremaining: 759ms\n",
      "334:\tlearn: 0.0256252\ttotal: 381ms\tremaining: 757ms\n",
      "335:\tlearn: 0.0255654\ttotal: 381ms\tremaining: 754ms\n",
      "336:\tlearn: 0.0255147\ttotal: 382ms\tremaining: 751ms\n",
      "337:\tlearn: 0.0254715\ttotal: 384ms\tremaining: 753ms\n",
      "338:\tlearn: 0.0254244\ttotal: 385ms\tremaining: 751ms\n",
      "339:\tlearn: 0.0253589\ttotal: 386ms\tremaining: 749ms\n",
      "340:\tlearn: 0.0253308\ttotal: 387ms\tremaining: 747ms\n",
      "341:\tlearn: 0.0252846\ttotal: 387ms\tremaining: 745ms\n",
      "342:\tlearn: 0.0252307\ttotal: 388ms\tremaining: 743ms\n",
      "343:\tlearn: 0.0251685\ttotal: 390ms\tremaining: 743ms\n",
      "344:\tlearn: 0.0250744\ttotal: 390ms\tremaining: 741ms\n",
      "345:\tlearn: 0.0249980\ttotal: 391ms\tremaining: 739ms\n",
      "346:\tlearn: 0.0249108\ttotal: 392ms\tremaining: 737ms\n",
      "347:\tlearn: 0.0248830\ttotal: 392ms\tremaining: 734ms\n",
      "348:\tlearn: 0.0248294\ttotal: 392ms\tremaining: 732ms\n",
      "349:\tlearn: 0.0247923\ttotal: 393ms\tremaining: 730ms\n",
      "350:\tlearn: 0.0247254\ttotal: 394ms\tremaining: 729ms\n",
      "351:\tlearn: 0.0246937\ttotal: 395ms\tremaining: 727ms\n",
      "352:\tlearn: 0.0246126\ttotal: 396ms\tremaining: 725ms\n",
      "353:\tlearn: 0.0245328\ttotal: 396ms\tremaining: 723ms\n",
      "354:\tlearn: 0.0244474\ttotal: 397ms\tremaining: 721ms\n",
      "355:\tlearn: 0.0244121\ttotal: 397ms\tremaining: 719ms\n",
      "356:\tlearn: 0.0243621\ttotal: 398ms\tremaining: 717ms\n",
      "357:\tlearn: 0.0243211\ttotal: 399ms\tremaining: 715ms\n",
      "358:\tlearn: 0.0242693\ttotal: 399ms\tremaining: 712ms\n",
      "359:\tlearn: 0.0242089\ttotal: 399ms\tremaining: 710ms\n",
      "360:\tlearn: 0.0241730\ttotal: 399ms\tremaining: 707ms\n",
      "361:\tlearn: 0.0241276\ttotal: 400ms\tremaining: 705ms\n",
      "362:\tlearn: 0.0240753\ttotal: 401ms\tremaining: 703ms\n",
      "363:\tlearn: 0.0240263\ttotal: 402ms\tremaining: 702ms\n",
      "364:\tlearn: 0.0239766\ttotal: 402ms\tremaining: 700ms\n",
      "365:\tlearn: 0.0239313\ttotal: 403ms\tremaining: 698ms\n",
      "366:\tlearn: 0.0238986\ttotal: 403ms\tremaining: 696ms\n",
      "367:\tlearn: 0.0238241\ttotal: 404ms\tremaining: 694ms\n",
      "368:\tlearn: 0.0237595\ttotal: 405ms\tremaining: 693ms\n",
      "369:\tlearn: 0.0237068\ttotal: 406ms\tremaining: 691ms\n",
      "370:\tlearn: 0.0236664\ttotal: 407ms\tremaining: 689ms\n",
      "371:\tlearn: 0.0236294\ttotal: 407ms\tremaining: 688ms\n",
      "372:\tlearn: 0.0236086\ttotal: 408ms\tremaining: 685ms\n",
      "373:\tlearn: 0.0235888\ttotal: 409ms\tremaining: 684ms\n",
      "374:\tlearn: 0.0235293\ttotal: 410ms\tremaining: 683ms\n",
      "375:\tlearn: 0.0234585\ttotal: 410ms\tremaining: 681ms\n",
      "376:\tlearn: 0.0234148\ttotal: 411ms\tremaining: 679ms\n",
      "377:\tlearn: 0.0233487\ttotal: 412ms\tremaining: 677ms\n",
      "378:\tlearn: 0.0233300\ttotal: 412ms\tremaining: 675ms\n",
      "379:\tlearn: 0.0232660\ttotal: 412ms\tremaining: 672ms\n",
      "380:\tlearn: 0.0232186\ttotal: 412ms\tremaining: 670ms\n",
      "381:\tlearn: 0.0231776\ttotal: 413ms\tremaining: 668ms\n",
      "382:\tlearn: 0.0231581\ttotal: 414ms\tremaining: 667ms\n",
      "383:\tlearn: 0.0231031\ttotal: 415ms\tremaining: 665ms\n",
      "384:\tlearn: 0.0230489\ttotal: 417ms\tremaining: 666ms\n",
      "385:\tlearn: 0.0230169\ttotal: 418ms\tremaining: 665ms\n",
      "386:\tlearn: 0.0229735\ttotal: 418ms\tremaining: 663ms\n",
      "387:\tlearn: 0.0229253\ttotal: 419ms\tremaining: 660ms\n",
      "388:\tlearn: 0.0228799\ttotal: 425ms\tremaining: 668ms\n",
      "389:\tlearn: 0.0228090\ttotal: 426ms\tremaining: 666ms\n",
      "390:\tlearn: 0.0227549\ttotal: 426ms\tremaining: 664ms\n",
      "391:\tlearn: 0.0227244\ttotal: 426ms\tremaining: 661ms\n",
      "392:\tlearn: 0.0226808\ttotal: 428ms\tremaining: 660ms\n",
      "393:\tlearn: 0.0226225\ttotal: 428ms\tremaining: 658ms\n",
      "394:\tlearn: 0.0225821\ttotal: 428ms\tremaining: 656ms\n",
      "395:\tlearn: 0.0225650\ttotal: 429ms\tremaining: 654ms\n",
      "396:\tlearn: 0.0225194\ttotal: 429ms\tremaining: 651ms\n",
      "397:\tlearn: 0.0224801\ttotal: 430ms\tremaining: 650ms\n",
      "398:\tlearn: 0.0224432\ttotal: 430ms\tremaining: 648ms\n",
      "399:\tlearn: 0.0224088\ttotal: 430ms\tremaining: 646ms\n",
      "400:\tlearn: 0.0223651\ttotal: 431ms\tremaining: 643ms\n",
      "401:\tlearn: 0.0223490\ttotal: 431ms\tremaining: 641ms\n",
      "402:\tlearn: 0.0223073\ttotal: 432ms\tremaining: 639ms\n",
      "403:\tlearn: 0.0222834\ttotal: 432ms\tremaining: 637ms\n",
      "404:\tlearn: 0.0222450\ttotal: 433ms\tremaining: 636ms\n",
      "405:\tlearn: 0.0222060\ttotal: 433ms\tremaining: 633ms\n",
      "406:\tlearn: 0.0221926\ttotal: 433ms\tremaining: 631ms\n",
      "407:\tlearn: 0.0221581\ttotal: 434ms\tremaining: 629ms\n",
      "408:\tlearn: 0.0220955\ttotal: 434ms\tremaining: 628ms\n",
      "409:\tlearn: 0.0220439\ttotal: 435ms\tremaining: 626ms\n",
      "410:\tlearn: 0.0220217\ttotal: 435ms\tremaining: 623ms\n",
      "411:\tlearn: 0.0219940\ttotal: 436ms\tremaining: 622ms\n",
      "412:\tlearn: 0.0219380\ttotal: 436ms\tremaining: 620ms\n",
      "413:\tlearn: 0.0219061\ttotal: 436ms\tremaining: 618ms\n",
      "414:\tlearn: 0.0218577\ttotal: 437ms\tremaining: 616ms\n",
      "415:\tlearn: 0.0218198\ttotal: 437ms\tremaining: 613ms\n",
      "416:\tlearn: 0.0217737\ttotal: 437ms\tremaining: 611ms\n",
      "417:\tlearn: 0.0217477\ttotal: 439ms\tremaining: 611ms\n",
      "418:\tlearn: 0.0217125\ttotal: 440ms\tremaining: 610ms\n",
      "419:\tlearn: 0.0216739\ttotal: 440ms\tremaining: 608ms\n",
      "420:\tlearn: 0.0216352\ttotal: 441ms\tremaining: 606ms\n",
      "421:\tlearn: 0.0216216\ttotal: 441ms\tremaining: 604ms\n",
      "422:\tlearn: 0.0215968\ttotal: 441ms\tremaining: 602ms\n",
      "423:\tlearn: 0.0215530\ttotal: 442ms\tremaining: 601ms\n",
      "424:\tlearn: 0.0215272\ttotal: 443ms\tremaining: 599ms\n",
      "425:\tlearn: 0.0214912\ttotal: 443ms\tremaining: 597ms\n",
      "426:\tlearn: 0.0214530\ttotal: 444ms\tremaining: 595ms\n",
      "427:\tlearn: 0.0214419\ttotal: 444ms\tremaining: 593ms\n",
      "428:\tlearn: 0.0214139\ttotal: 444ms\tremaining: 591ms\n",
      "429:\tlearn: 0.0213723\ttotal: 444ms\tremaining: 589ms\n",
      "430:\tlearn: 0.0213524\ttotal: 445ms\tremaining: 587ms\n",
      "431:\tlearn: 0.0213190\ttotal: 445ms\tremaining: 585ms\n",
      "432:\tlearn: 0.0212845\ttotal: 446ms\tremaining: 584ms\n",
      "433:\tlearn: 0.0212535\ttotal: 446ms\tremaining: 582ms\n",
      "434:\tlearn: 0.0212233\ttotal: 447ms\tremaining: 580ms\n",
      "435:\tlearn: 0.0211977\ttotal: 447ms\tremaining: 579ms\n",
      "436:\tlearn: 0.0211712\ttotal: 448ms\tremaining: 578ms\n",
      "437:\tlearn: 0.0211540\ttotal: 449ms\tremaining: 576ms\n",
      "438:\tlearn: 0.0211327\ttotal: 449ms\tremaining: 574ms\n",
      "439:\tlearn: 0.0211027\ttotal: 450ms\tremaining: 573ms\n",
      "440:\tlearn: 0.0210737\ttotal: 450ms\tremaining: 571ms\n",
      "441:\tlearn: 0.0210289\ttotal: 451ms\tremaining: 569ms\n",
      "442:\tlearn: 0.0209870\ttotal: 451ms\tremaining: 567ms\n",
      "443:\tlearn: 0.0209229\ttotal: 451ms\tremaining: 565ms\n",
      "444:\tlearn: 0.0209038\ttotal: 451ms\tremaining: 563ms\n",
      "445:\tlearn: 0.0208753\ttotal: 452ms\tremaining: 561ms\n",
      "446:\tlearn: 0.0208440\ttotal: 452ms\tremaining: 559ms\n",
      "447:\tlearn: 0.0208126\ttotal: 452ms\tremaining: 557ms\n",
      "448:\tlearn: 0.0207896\ttotal: 453ms\tremaining: 555ms\n",
      "449:\tlearn: 0.0207476\ttotal: 453ms\tremaining: 554ms\n",
      "450:\tlearn: 0.0206865\ttotal: 453ms\tremaining: 552ms\n",
      "451:\tlearn: 0.0206458\ttotal: 455ms\tremaining: 552ms\n",
      "452:\tlearn: 0.0206188\ttotal: 456ms\tremaining: 551ms\n"
     ]
    },
    {
     "name": "stdout",
     "output_type": "stream",
     "text": [
      "453:\tlearn: 0.0205927\ttotal: 457ms\tremaining: 550ms\n",
      "454:\tlearn: 0.0205689\ttotal: 460ms\tremaining: 551ms\n",
      "455:\tlearn: 0.0205433\ttotal: 461ms\tremaining: 550ms\n",
      "456:\tlearn: 0.0205320\ttotal: 462ms\tremaining: 549ms\n",
      "457:\tlearn: 0.0205178\ttotal: 462ms\tremaining: 547ms\n",
      "458:\tlearn: 0.0204783\ttotal: 463ms\tremaining: 545ms\n",
      "459:\tlearn: 0.0204550\ttotal: 463ms\tremaining: 543ms\n",
      "460:\tlearn: 0.0204252\ttotal: 463ms\tremaining: 542ms\n",
      "461:\tlearn: 0.0203667\ttotal: 463ms\tremaining: 540ms\n",
      "462:\tlearn: 0.0203408\ttotal: 464ms\tremaining: 538ms\n",
      "463:\tlearn: 0.0202960\ttotal: 468ms\tremaining: 540ms\n",
      "464:\tlearn: 0.0202704\ttotal: 468ms\tremaining: 538ms\n",
      "465:\tlearn: 0.0202471\ttotal: 469ms\tremaining: 537ms\n",
      "466:\tlearn: 0.0202205\ttotal: 469ms\tremaining: 536ms\n",
      "467:\tlearn: 0.0201918\ttotal: 470ms\tremaining: 534ms\n",
      "468:\tlearn: 0.0201732\ttotal: 470ms\tremaining: 532ms\n",
      "469:\tlearn: 0.0201490\ttotal: 471ms\tremaining: 531ms\n",
      "470:\tlearn: 0.0201316\ttotal: 472ms\tremaining: 530ms\n",
      "471:\tlearn: 0.0200977\ttotal: 473ms\tremaining: 529ms\n",
      "472:\tlearn: 0.0200702\ttotal: 474ms\tremaining: 529ms\n",
      "473:\tlearn: 0.0200431\ttotal: 475ms\tremaining: 527ms\n",
      "474:\tlearn: 0.0200198\ttotal: 476ms\tremaining: 526ms\n",
      "475:\tlearn: 0.0200100\ttotal: 476ms\tremaining: 524ms\n",
      "476:\tlearn: 0.0199830\ttotal: 476ms\tremaining: 522ms\n",
      "477:\tlearn: 0.0199600\ttotal: 477ms\tremaining: 521ms\n",
      "478:\tlearn: 0.0199306\ttotal: 477ms\tremaining: 519ms\n",
      "479:\tlearn: 0.0199132\ttotal: 478ms\tremaining: 518ms\n",
      "480:\tlearn: 0.0198873\ttotal: 478ms\tremaining: 516ms\n",
      "481:\tlearn: 0.0198660\ttotal: 479ms\tremaining: 515ms\n",
      "482:\tlearn: 0.0198433\ttotal: 479ms\tremaining: 513ms\n",
      "483:\tlearn: 0.0198171\ttotal: 480ms\tremaining: 512ms\n",
      "484:\tlearn: 0.0197945\ttotal: 482ms\tremaining: 512ms\n",
      "485:\tlearn: 0.0197743\ttotal: 483ms\tremaining: 511ms\n",
      "486:\tlearn: 0.0197318\ttotal: 483ms\tremaining: 509ms\n",
      "487:\tlearn: 0.0196925\ttotal: 484ms\tremaining: 508ms\n",
      "488:\tlearn: 0.0196370\ttotal: 484ms\tremaining: 506ms\n",
      "489:\tlearn: 0.0196131\ttotal: 485ms\tremaining: 504ms\n",
      "490:\tlearn: 0.0195883\ttotal: 485ms\tremaining: 503ms\n",
      "491:\tlearn: 0.0195561\ttotal: 485ms\tremaining: 501ms\n",
      "492:\tlearn: 0.0195369\ttotal: 485ms\tremaining: 499ms\n",
      "493:\tlearn: 0.0195173\ttotal: 486ms\tremaining: 498ms\n",
      "494:\tlearn: 0.0194927\ttotal: 486ms\tremaining: 496ms\n",
      "495:\tlearn: 0.0194693\ttotal: 487ms\tremaining: 494ms\n",
      "496:\tlearn: 0.0194473\ttotal: 487ms\tremaining: 493ms\n",
      "497:\tlearn: 0.0194212\ttotal: 488ms\tremaining: 492ms\n",
      "498:\tlearn: 0.0194016\ttotal: 489ms\tremaining: 491ms\n",
      "499:\tlearn: 0.0193489\ttotal: 489ms\tremaining: 489ms\n",
      "500:\tlearn: 0.0193329\ttotal: 490ms\tremaining: 488ms\n",
      "501:\tlearn: 0.0193123\ttotal: 490ms\tremaining: 486ms\n",
      "502:\tlearn: 0.0192739\ttotal: 490ms\tremaining: 484ms\n",
      "503:\tlearn: 0.0192536\ttotal: 491ms\tremaining: 483ms\n",
      "504:\tlearn: 0.0192148\ttotal: 491ms\tremaining: 481ms\n",
      "505:\tlearn: 0.0191966\ttotal: 491ms\tremaining: 479ms\n",
      "506:\tlearn: 0.0191733\ttotal: 491ms\tremaining: 478ms\n",
      "507:\tlearn: 0.0191379\ttotal: 492ms\tremaining: 476ms\n",
      "508:\tlearn: 0.0191184\ttotal: 492ms\tremaining: 475ms\n",
      "509:\tlearn: 0.0190965\ttotal: 493ms\tremaining: 473ms\n",
      "510:\tlearn: 0.0190740\ttotal: 494ms\tremaining: 473ms\n",
      "511:\tlearn: 0.0190526\ttotal: 495ms\tremaining: 471ms\n",
      "512:\tlearn: 0.0190357\ttotal: 495ms\tremaining: 470ms\n",
      "513:\tlearn: 0.0190013\ttotal: 495ms\tremaining: 468ms\n",
      "514:\tlearn: 0.0189773\ttotal: 496ms\tremaining: 467ms\n",
      "515:\tlearn: 0.0189443\ttotal: 496ms\tremaining: 465ms\n",
      "516:\tlearn: 0.0189189\ttotal: 497ms\tremaining: 464ms\n",
      "517:\tlearn: 0.0188997\ttotal: 497ms\tremaining: 463ms\n",
      "518:\tlearn: 0.0188812\ttotal: 498ms\tremaining: 461ms\n",
      "519:\tlearn: 0.0188479\ttotal: 498ms\tremaining: 460ms\n",
      "520:\tlearn: 0.0187977\ttotal: 498ms\tremaining: 458ms\n",
      "521:\tlearn: 0.0187663\ttotal: 499ms\tremaining: 456ms\n",
      "522:\tlearn: 0.0187577\ttotal: 499ms\tremaining: 455ms\n",
      "523:\tlearn: 0.0187437\ttotal: 499ms\tremaining: 454ms\n",
      "524:\tlearn: 0.0187240\ttotal: 500ms\tremaining: 452ms\n",
      "525:\tlearn: 0.0187052\ttotal: 500ms\tremaining: 451ms\n",
      "526:\tlearn: 0.0186843\ttotal: 501ms\tremaining: 449ms\n",
      "527:\tlearn: 0.0186672\ttotal: 501ms\tremaining: 448ms\n",
      "528:\tlearn: 0.0186441\ttotal: 501ms\tremaining: 446ms\n",
      "529:\tlearn: 0.0186238\ttotal: 502ms\tremaining: 445ms\n",
      "530:\tlearn: 0.0185699\ttotal: 502ms\tremaining: 443ms\n",
      "531:\tlearn: 0.0185454\ttotal: 502ms\tremaining: 442ms\n",
      "532:\tlearn: 0.0185148\ttotal: 502ms\tremaining: 440ms\n"
     ]
    },
    {
     "name": "stdout",
     "output_type": "stream",
     "text": [
      "533:\tlearn: 0.0184982\ttotal: 503ms\tremaining: 439ms\n",
      "534:\tlearn: 0.0184772\ttotal: 503ms\tremaining: 437ms\n",
      "535:\tlearn: 0.0184558\ttotal: 503ms\tremaining: 436ms\n",
      "536:\tlearn: 0.0184461\ttotal: 503ms\tremaining: 434ms\n",
      "537:\tlearn: 0.0184277\ttotal: 506ms\tremaining: 435ms\n",
      "538:\tlearn: 0.0184091\ttotal: 507ms\tremaining: 433ms\n",
      "539:\tlearn: 0.0183744\ttotal: 507ms\tremaining: 432ms\n",
      "540:\tlearn: 0.0183535\ttotal: 507ms\tremaining: 430ms\n",
      "541:\tlearn: 0.0183259\ttotal: 507ms\tremaining: 429ms\n",
      "542:\tlearn: 0.0183102\ttotal: 508ms\tremaining: 427ms\n",
      "543:\tlearn: 0.0182894\ttotal: 508ms\tremaining: 426ms\n",
      "544:\tlearn: 0.0182738\ttotal: 508ms\tremaining: 424ms\n",
      "545:\tlearn: 0.0182556\ttotal: 509ms\tremaining: 423ms\n",
      "546:\tlearn: 0.0182339\ttotal: 509ms\tremaining: 421ms\n",
      "547:\tlearn: 0.0182086\ttotal: 509ms\tremaining: 420ms\n",
      "548:\tlearn: 0.0181936\ttotal: 509ms\tremaining: 419ms\n",
      "549:\tlearn: 0.0181846\ttotal: 510ms\tremaining: 417ms\n",
      "550:\tlearn: 0.0181612\ttotal: 510ms\tremaining: 416ms\n",
      "551:\tlearn: 0.0181355\ttotal: 510ms\tremaining: 414ms\n",
      "552:\tlearn: 0.0181145\ttotal: 511ms\tremaining: 413ms\n",
      "553:\tlearn: 0.0181000\ttotal: 511ms\tremaining: 411ms\n",
      "554:\tlearn: 0.0180780\ttotal: 511ms\tremaining: 410ms\n",
      "555:\tlearn: 0.0180549\ttotal: 511ms\tremaining: 408ms\n",
      "556:\tlearn: 0.0180210\ttotal: 512ms\tremaining: 407ms\n",
      "557:\tlearn: 0.0180039\ttotal: 513ms\tremaining: 406ms\n",
      "558:\tlearn: 0.0179758\ttotal: 514ms\tremaining: 405ms\n",
      "559:\tlearn: 0.0179509\ttotal: 514ms\tremaining: 404ms\n",
      "560:\tlearn: 0.0179310\ttotal: 514ms\tremaining: 402ms\n",
      "561:\tlearn: 0.0179201\ttotal: 514ms\tremaining: 401ms\n",
      "562:\tlearn: 0.0178985\ttotal: 516ms\tremaining: 401ms\n",
      "563:\tlearn: 0.0178813\ttotal: 517ms\tremaining: 399ms\n",
      "564:\tlearn: 0.0178678\ttotal: 517ms\tremaining: 398ms\n",
      "565:\tlearn: 0.0178312\ttotal: 517ms\tremaining: 397ms\n",
      "566:\tlearn: 0.0178099\ttotal: 519ms\tremaining: 396ms\n",
      "567:\tlearn: 0.0177771\ttotal: 520ms\tremaining: 395ms\n",
      "568:\tlearn: 0.0177548\ttotal: 521ms\tremaining: 395ms\n",
      "569:\tlearn: 0.0177383\ttotal: 522ms\tremaining: 394ms\n",
      "570:\tlearn: 0.0177054\ttotal: 523ms\tremaining: 393ms\n",
      "571:\tlearn: 0.0176879\ttotal: 524ms\tremaining: 392ms\n",
      "572:\tlearn: 0.0176735\ttotal: 525ms\tremaining: 391ms\n",
      "573:\tlearn: 0.0176597\ttotal: 527ms\tremaining: 391ms\n",
      "574:\tlearn: 0.0176473\ttotal: 527ms\tremaining: 390ms\n",
      "575:\tlearn: 0.0176306\ttotal: 528ms\tremaining: 389ms\n",
      "576:\tlearn: 0.0176038\ttotal: 529ms\tremaining: 387ms\n",
      "577:\tlearn: 0.0175839\ttotal: 529ms\tremaining: 386ms\n",
      "578:\tlearn: 0.0175670\ttotal: 529ms\tremaining: 385ms\n",
      "579:\tlearn: 0.0175393\ttotal: 530ms\tremaining: 384ms\n",
      "580:\tlearn: 0.0175236\ttotal: 530ms\tremaining: 383ms\n",
      "581:\tlearn: 0.0175030\ttotal: 531ms\tremaining: 381ms\n",
      "582:\tlearn: 0.0174876\ttotal: 532ms\tremaining: 380ms\n",
      "583:\tlearn: 0.0174622\ttotal: 532ms\tremaining: 379ms\n",
      "584:\tlearn: 0.0174485\ttotal: 532ms\tremaining: 378ms\n",
      "585:\tlearn: 0.0174346\ttotal: 533ms\tremaining: 376ms\n",
      "586:\tlearn: 0.0174217\ttotal: 534ms\tremaining: 375ms\n",
      "587:\tlearn: 0.0174059\ttotal: 534ms\tremaining: 374ms\n",
      "588:\tlearn: 0.0173893\ttotal: 535ms\tremaining: 373ms\n",
      "589:\tlearn: 0.0173735\ttotal: 535ms\tremaining: 372ms\n",
      "590:\tlearn: 0.0173412\ttotal: 535ms\tremaining: 371ms\n",
      "591:\tlearn: 0.0173248\ttotal: 536ms\tremaining: 369ms\n",
      "592:\tlearn: 0.0173045\ttotal: 536ms\tremaining: 368ms\n",
      "593:\tlearn: 0.0172822\ttotal: 536ms\tremaining: 367ms\n",
      "594:\tlearn: 0.0172598\ttotal: 537ms\tremaining: 366ms\n",
      "595:\tlearn: 0.0172413\ttotal: 538ms\tremaining: 365ms\n",
      "596:\tlearn: 0.0172197\ttotal: 539ms\tremaining: 364ms\n",
      "597:\tlearn: 0.0172125\ttotal: 540ms\tremaining: 363ms\n",
      "598:\tlearn: 0.0171934\ttotal: 540ms\tremaining: 362ms\n",
      "599:\tlearn: 0.0171807\ttotal: 541ms\tremaining: 360ms\n",
      "600:\tlearn: 0.0171677\ttotal: 542ms\tremaining: 360ms\n",
      "601:\tlearn: 0.0171511\ttotal: 542ms\tremaining: 358ms\n",
      "602:\tlearn: 0.0171257\ttotal: 543ms\tremaining: 357ms\n",
      "603:\tlearn: 0.0171005\ttotal: 543ms\tremaining: 356ms\n",
      "604:\tlearn: 0.0170828\ttotal: 543ms\tremaining: 355ms\n",
      "605:\tlearn: 0.0170652\ttotal: 544ms\tremaining: 353ms\n",
      "606:\tlearn: 0.0170257\ttotal: 544ms\tremaining: 352ms\n",
      "607:\tlearn: 0.0170110\ttotal: 544ms\tremaining: 351ms\n",
      "608:\tlearn: 0.0169887\ttotal: 544ms\tremaining: 350ms\n",
      "609:\tlearn: 0.0169348\ttotal: 545ms\tremaining: 348ms\n",
      "610:\tlearn: 0.0169083\ttotal: 546ms\tremaining: 348ms\n",
      "611:\tlearn: 0.0168944\ttotal: 546ms\tremaining: 346ms\n",
      "612:\tlearn: 0.0168659\ttotal: 547ms\tremaining: 345ms\n",
      "613:\tlearn: 0.0168426\ttotal: 547ms\tremaining: 344ms\n",
      "614:\tlearn: 0.0168145\ttotal: 547ms\tremaining: 343ms\n",
      "615:\tlearn: 0.0167668\ttotal: 547ms\tremaining: 341ms\n",
      "616:\tlearn: 0.0167418\ttotal: 548ms\tremaining: 340ms\n",
      "617:\tlearn: 0.0167297\ttotal: 548ms\tremaining: 339ms\n",
      "618:\tlearn: 0.0166932\ttotal: 548ms\tremaining: 338ms\n",
      "619:\tlearn: 0.0166627\ttotal: 549ms\tremaining: 337ms\n",
      "620:\tlearn: 0.0166413\ttotal: 550ms\tremaining: 336ms\n",
      "621:\tlearn: 0.0166154\ttotal: 550ms\tremaining: 334ms\n",
      "622:\tlearn: 0.0165968\ttotal: 550ms\tremaining: 333ms\n",
      "623:\tlearn: 0.0165878\ttotal: 551ms\tremaining: 332ms\n",
      "624:\tlearn: 0.0165671\ttotal: 552ms\tremaining: 331ms\n",
      "625:\tlearn: 0.0165300\ttotal: 552ms\tremaining: 330ms\n",
      "626:\tlearn: 0.0165206\ttotal: 554ms\tremaining: 330ms\n",
      "627:\tlearn: 0.0165004\ttotal: 555ms\tremaining: 329ms\n",
      "628:\tlearn: 0.0164785\ttotal: 555ms\tremaining: 328ms\n",
      "629:\tlearn: 0.0164714\ttotal: 556ms\tremaining: 326ms\n",
      "630:\tlearn: 0.0164644\ttotal: 556ms\tremaining: 325ms\n",
      "631:\tlearn: 0.0164483\ttotal: 557ms\tremaining: 324ms\n",
      "632:\tlearn: 0.0164232\ttotal: 558ms\tremaining: 323ms\n",
      "633:\tlearn: 0.0164038\ttotal: 558ms\tremaining: 322ms\n",
      "634:\tlearn: 0.0163845\ttotal: 560ms\tremaining: 322ms\n",
      "635:\tlearn: 0.0163706\ttotal: 561ms\tremaining: 321ms\n",
      "636:\tlearn: 0.0163587\ttotal: 569ms\tremaining: 324ms\n",
      "637:\tlearn: 0.0163405\ttotal: 583ms\tremaining: 331ms\n",
      "638:\tlearn: 0.0163292\ttotal: 585ms\tremaining: 330ms\n",
      "639:\tlearn: 0.0163116\ttotal: 585ms\tremaining: 329ms\n",
      "640:\tlearn: 0.0162940\ttotal: 586ms\tremaining: 328ms\n",
      "641:\tlearn: 0.0162823\ttotal: 587ms\tremaining: 327ms\n",
      "642:\tlearn: 0.0162683\ttotal: 602ms\tremaining: 334ms\n"
     ]
    },
    {
     "name": "stdout",
     "output_type": "stream",
     "text": [
      "643:\tlearn: 0.0162527\ttotal: 603ms\tremaining: 333ms\n",
      "644:\tlearn: 0.0162410\ttotal: 610ms\tremaining: 336ms\n",
      "645:\tlearn: 0.0162241\ttotal: 614ms\tremaining: 337ms\n",
      "646:\tlearn: 0.0162141\ttotal: 616ms\tremaining: 336ms\n",
      "647:\tlearn: 0.0161955\ttotal: 618ms\tremaining: 336ms\n",
      "648:\tlearn: 0.0161785\ttotal: 620ms\tremaining: 335ms\n",
      "649:\tlearn: 0.0161685\ttotal: 620ms\tremaining: 334ms\n",
      "650:\tlearn: 0.0161585\ttotal: 621ms\tremaining: 333ms\n",
      "651:\tlearn: 0.0161482\ttotal: 622ms\tremaining: 332ms\n",
      "652:\tlearn: 0.0161302\ttotal: 622ms\tremaining: 330ms\n",
      "653:\tlearn: 0.0160791\ttotal: 622ms\tremaining: 329ms\n",
      "654:\tlearn: 0.0160646\ttotal: 622ms\tremaining: 328ms\n",
      "655:\tlearn: 0.0160540\ttotal: 623ms\tremaining: 327ms\n",
      "656:\tlearn: 0.0160292\ttotal: 624ms\tremaining: 326ms\n",
      "657:\tlearn: 0.0160181\ttotal: 625ms\tremaining: 325ms\n",
      "658:\tlearn: 0.0160029\ttotal: 626ms\tremaining: 324ms\n",
      "659:\tlearn: 0.0159900\ttotal: 627ms\tremaining: 323ms\n",
      "660:\tlearn: 0.0159615\ttotal: 627ms\tremaining: 322ms\n",
      "661:\tlearn: 0.0159448\ttotal: 628ms\tremaining: 321ms\n",
      "662:\tlearn: 0.0159110\ttotal: 629ms\tremaining: 320ms\n",
      "663:\tlearn: 0.0158901\ttotal: 629ms\tremaining: 318ms\n",
      "664:\tlearn: 0.0158781\ttotal: 631ms\tremaining: 318ms\n",
      "665:\tlearn: 0.0158522\ttotal: 631ms\tremaining: 317ms\n",
      "666:\tlearn: 0.0158282\ttotal: 632ms\tremaining: 316ms\n",
      "667:\tlearn: 0.0158064\ttotal: 633ms\tremaining: 314ms\n",
      "668:\tlearn: 0.0157934\ttotal: 633ms\tremaining: 313ms\n",
      "669:\tlearn: 0.0157742\ttotal: 633ms\tremaining: 312ms\n",
      "670:\tlearn: 0.0157633\ttotal: 634ms\tremaining: 311ms\n",
      "671:\tlearn: 0.0157516\ttotal: 634ms\tremaining: 309ms\n",
      "672:\tlearn: 0.0157408\ttotal: 634ms\tremaining: 308ms\n",
      "673:\tlearn: 0.0157332\ttotal: 634ms\tremaining: 307ms\n",
      "674:\tlearn: 0.0157190\ttotal: 636ms\tremaining: 306ms\n",
      "675:\tlearn: 0.0157072\ttotal: 636ms\tremaining: 305ms\n",
      "676:\tlearn: 0.0156759\ttotal: 636ms\tremaining: 304ms\n",
      "677:\tlearn: 0.0156659\ttotal: 637ms\tremaining: 302ms\n",
      "678:\tlearn: 0.0156505\ttotal: 637ms\tremaining: 301ms\n",
      "679:\tlearn: 0.0156410\ttotal: 637ms\tremaining: 300ms\n",
      "680:\tlearn: 0.0156201\ttotal: 638ms\tremaining: 299ms\n",
      "681:\tlearn: 0.0155935\ttotal: 640ms\tremaining: 298ms\n",
      "682:\tlearn: 0.0155746\ttotal: 640ms\tremaining: 297ms\n",
      "683:\tlearn: 0.0155548\ttotal: 642ms\tremaining: 297ms\n",
      "684:\tlearn: 0.0155420\ttotal: 643ms\tremaining: 296ms\n",
      "685:\tlearn: 0.0155280\ttotal: 643ms\tremaining: 294ms\n",
      "686:\tlearn: 0.0155148\ttotal: 644ms\tremaining: 293ms\n",
      "687:\tlearn: 0.0155067\ttotal: 645ms\tremaining: 292ms\n",
      "688:\tlearn: 0.0154991\ttotal: 647ms\tremaining: 292ms\n",
      "689:\tlearn: 0.0154831\ttotal: 647ms\tremaining: 291ms\n",
      "690:\tlearn: 0.0154721\ttotal: 648ms\tremaining: 290ms\n",
      "691:\tlearn: 0.0154623\ttotal: 649ms\tremaining: 289ms\n",
      "692:\tlearn: 0.0154481\ttotal: 650ms\tremaining: 288ms\n"
     ]
    },
    {
     "name": "stdout",
     "output_type": "stream",
     "text": [
      "693:\tlearn: 0.0154179\ttotal: 656ms\tremaining: 289ms\n",
      "694:\tlearn: 0.0154077\ttotal: 657ms\tremaining: 289ms\n",
      "695:\tlearn: 0.0153975\ttotal: 659ms\tremaining: 288ms\n",
      "696:\tlearn: 0.0153862\ttotal: 660ms\tremaining: 287ms\n",
      "697:\tlearn: 0.0153745\ttotal: 661ms\tremaining: 286ms\n",
      "698:\tlearn: 0.0153609\ttotal: 661ms\tremaining: 285ms\n",
      "699:\tlearn: 0.0153436\ttotal: 662ms\tremaining: 284ms\n",
      "700:\tlearn: 0.0153377\ttotal: 662ms\tremaining: 282ms\n",
      "701:\tlearn: 0.0153228\ttotal: 662ms\tremaining: 281ms\n",
      "702:\tlearn: 0.0153089\ttotal: 663ms\tremaining: 280ms\n",
      "703:\tlearn: 0.0152935\ttotal: 665ms\tremaining: 280ms\n",
      "704:\tlearn: 0.0152783\ttotal: 667ms\tremaining: 279ms\n",
      "705:\tlearn: 0.0152692\ttotal: 668ms\tremaining: 278ms\n",
      "706:\tlearn: 0.0152506\ttotal: 668ms\tremaining: 277ms\n",
      "707:\tlearn: 0.0152449\ttotal: 669ms\tremaining: 276ms\n",
      "708:\tlearn: 0.0152305\ttotal: 670ms\tremaining: 275ms\n",
      "709:\tlearn: 0.0152188\ttotal: 670ms\tremaining: 274ms\n",
      "710:\tlearn: 0.0152058\ttotal: 673ms\tremaining: 274ms\n",
      "711:\tlearn: 0.0152003\ttotal: 676ms\tremaining: 274ms\n",
      "712:\tlearn: 0.0151906\ttotal: 677ms\tremaining: 273ms\n",
      "713:\tlearn: 0.0151852\ttotal: 680ms\tremaining: 272ms\n",
      "714:\tlearn: 0.0151721\ttotal: 680ms\tremaining: 271ms\n",
      "715:\tlearn: 0.0151538\ttotal: 681ms\tremaining: 270ms\n",
      "716:\tlearn: 0.0151503\ttotal: 682ms\tremaining: 269ms\n",
      "717:\tlearn: 0.0151414\ttotal: 682ms\tremaining: 268ms\n",
      "718:\tlearn: 0.0151354\ttotal: 683ms\tremaining: 267ms\n",
      "719:\tlearn: 0.0151213\ttotal: 683ms\tremaining: 266ms\n",
      "720:\tlearn: 0.0151032\ttotal: 684ms\tremaining: 265ms\n",
      "721:\tlearn: 0.0150915\ttotal: 686ms\tremaining: 264ms\n",
      "722:\tlearn: 0.0150824\ttotal: 686ms\tremaining: 263ms\n",
      "723:\tlearn: 0.0150743\ttotal: 687ms\tremaining: 262ms\n",
      "724:\tlearn: 0.0150636\ttotal: 687ms\tremaining: 261ms\n",
      "725:\tlearn: 0.0150565\ttotal: 688ms\tremaining: 260ms\n",
      "726:\tlearn: 0.0150470\ttotal: 689ms\tremaining: 259ms\n",
      "727:\tlearn: 0.0150291\ttotal: 689ms\tremaining: 257ms\n",
      "728:\tlearn: 0.0150169\ttotal: 689ms\tremaining: 256ms\n",
      "729:\tlearn: 0.0150096\ttotal: 689ms\tremaining: 255ms\n",
      "730:\tlearn: 0.0149940\ttotal: 693ms\tremaining: 255ms\n",
      "731:\tlearn: 0.0149784\ttotal: 694ms\tremaining: 254ms\n",
      "732:\tlearn: 0.0149690\ttotal: 694ms\tremaining: 253ms\n",
      "733:\tlearn: 0.0149614\ttotal: 696ms\tremaining: 252ms\n",
      "734:\tlearn: 0.0149450\ttotal: 696ms\tremaining: 251ms\n",
      "735:\tlearn: 0.0149234\ttotal: 698ms\tremaining: 250ms\n",
      "736:\tlearn: 0.0149128\ttotal: 699ms\tremaining: 249ms\n",
      "737:\tlearn: 0.0149017\ttotal: 700ms\tremaining: 248ms\n",
      "738:\tlearn: 0.0148866\ttotal: 701ms\tremaining: 248ms\n",
      "739:\tlearn: 0.0148770\ttotal: 705ms\tremaining: 248ms\n",
      "740:\tlearn: 0.0148682\ttotal: 705ms\tremaining: 247ms\n",
      "741:\tlearn: 0.0148574\ttotal: 706ms\tremaining: 246ms\n",
      "742:\tlearn: 0.0148419\ttotal: 707ms\tremaining: 244ms\n",
      "743:\tlearn: 0.0148318\ttotal: 707ms\tremaining: 243ms\n",
      "744:\tlearn: 0.0148207\ttotal: 708ms\tremaining: 242ms\n",
      "745:\tlearn: 0.0147957\ttotal: 709ms\tremaining: 242ms\n",
      "746:\tlearn: 0.0147717\ttotal: 710ms\tremaining: 240ms\n",
      "747:\tlearn: 0.0147594\ttotal: 711ms\tremaining: 239ms\n",
      "748:\tlearn: 0.0147496\ttotal: 711ms\tremaining: 238ms\n",
      "749:\tlearn: 0.0147403\ttotal: 712ms\tremaining: 237ms\n",
      "750:\tlearn: 0.0147314\ttotal: 712ms\tremaining: 236ms\n",
      "751:\tlearn: 0.0147208\ttotal: 712ms\tremaining: 235ms\n",
      "752:\tlearn: 0.0147058\ttotal: 713ms\tremaining: 234ms\n",
      "753:\tlearn: 0.0146835\ttotal: 713ms\tremaining: 233ms\n",
      "754:\tlearn: 0.0146705\ttotal: 713ms\tremaining: 231ms\n",
      "755:\tlearn: 0.0146588\ttotal: 714ms\tremaining: 230ms\n",
      "756:\tlearn: 0.0146517\ttotal: 716ms\tremaining: 230ms\n",
      "757:\tlearn: 0.0146445\ttotal: 716ms\tremaining: 229ms\n",
      "758:\tlearn: 0.0146281\ttotal: 716ms\tremaining: 227ms\n",
      "759:\tlearn: 0.0146194\ttotal: 717ms\tremaining: 226ms\n",
      "760:\tlearn: 0.0146120\ttotal: 717ms\tremaining: 225ms\n",
      "761:\tlearn: 0.0146047\ttotal: 717ms\tremaining: 224ms\n",
      "762:\tlearn: 0.0145979\ttotal: 717ms\tremaining: 223ms\n",
      "763:\tlearn: 0.0145880\ttotal: 718ms\tremaining: 222ms\n",
      "764:\tlearn: 0.0145765\ttotal: 719ms\tremaining: 221ms\n",
      "765:\tlearn: 0.0145603\ttotal: 719ms\tremaining: 220ms\n",
      "766:\tlearn: 0.0145436\ttotal: 719ms\tremaining: 218ms\n",
      "767:\tlearn: 0.0145366\ttotal: 721ms\tremaining: 218ms\n",
      "768:\tlearn: 0.0145314\ttotal: 722ms\tremaining: 217ms\n",
      "769:\tlearn: 0.0144905\ttotal: 722ms\tremaining: 216ms\n",
      "770:\tlearn: 0.0144787\ttotal: 723ms\tremaining: 215ms\n",
      "771:\tlearn: 0.0144729\ttotal: 723ms\tremaining: 213ms\n",
      "772:\tlearn: 0.0144569\ttotal: 723ms\tremaining: 212ms\n",
      "773:\tlearn: 0.0144470\ttotal: 723ms\tremaining: 211ms\n",
      "774:\tlearn: 0.0144283\ttotal: 724ms\tremaining: 210ms\n",
      "775:\tlearn: 0.0144204\ttotal: 724ms\tremaining: 209ms\n",
      "776:\tlearn: 0.0144110\ttotal: 724ms\tremaining: 208ms\n",
      "777:\tlearn: 0.0144008\ttotal: 725ms\tremaining: 207ms\n",
      "778:\tlearn: 0.0143929\ttotal: 728ms\tremaining: 206ms\n",
      "779:\tlearn: 0.0143880\ttotal: 730ms\tremaining: 206ms\n",
      "780:\tlearn: 0.0143736\ttotal: 730ms\tremaining: 205ms\n",
      "781:\tlearn: 0.0143580\ttotal: 730ms\tremaining: 204ms\n"
     ]
    },
    {
     "name": "stdout",
     "output_type": "stream",
     "text": [
      "782:\tlearn: 0.0143510\ttotal: 736ms\tremaining: 204ms\n",
      "783:\tlearn: 0.0143424\ttotal: 737ms\tremaining: 203ms\n",
      "784:\tlearn: 0.0143360\ttotal: 740ms\tremaining: 203ms\n",
      "785:\tlearn: 0.0142947\ttotal: 741ms\tremaining: 202ms\n",
      "786:\tlearn: 0.0142831\ttotal: 746ms\tremaining: 202ms\n",
      "787:\tlearn: 0.0142742\ttotal: 747ms\tremaining: 201ms\n",
      "788:\tlearn: 0.0142556\ttotal: 750ms\tremaining: 201ms\n",
      "789:\tlearn: 0.0142404\ttotal: 750ms\tremaining: 199ms\n",
      "790:\tlearn: 0.0142263\ttotal: 750ms\tremaining: 198ms\n",
      "791:\tlearn: 0.0142172\ttotal: 751ms\tremaining: 197ms\n",
      "792:\tlearn: 0.0142047\ttotal: 751ms\tremaining: 196ms\n",
      "793:\tlearn: 0.0141977\ttotal: 755ms\tremaining: 196ms\n",
      "794:\tlearn: 0.0141882\ttotal: 756ms\tremaining: 195ms\n",
      "795:\tlearn: 0.0141752\ttotal: 757ms\tremaining: 194ms\n",
      "796:\tlearn: 0.0141683\ttotal: 757ms\tremaining: 193ms\n",
      "797:\tlearn: 0.0141611\ttotal: 757ms\tremaining: 192ms\n",
      "798:\tlearn: 0.0141530\ttotal: 758ms\tremaining: 191ms\n",
      "799:\tlearn: 0.0141306\ttotal: 758ms\tremaining: 190ms\n",
      "800:\tlearn: 0.0141127\ttotal: 759ms\tremaining: 188ms\n",
      "801:\tlearn: 0.0141071\ttotal: 759ms\tremaining: 187ms\n",
      "802:\tlearn: 0.0140886\ttotal: 760ms\tremaining: 187ms\n",
      "803:\tlearn: 0.0140780\ttotal: 761ms\tremaining: 185ms\n",
      "804:\tlearn: 0.0140677\ttotal: 761ms\tremaining: 184ms\n",
      "805:\tlearn: 0.0140580\ttotal: 761ms\tremaining: 183ms\n",
      "806:\tlearn: 0.0140450\ttotal: 763ms\tremaining: 182ms\n",
      "807:\tlearn: 0.0140379\ttotal: 764ms\tremaining: 181ms\n",
      "808:\tlearn: 0.0140330\ttotal: 764ms\tremaining: 180ms\n",
      "809:\tlearn: 0.0140207\ttotal: 766ms\tremaining: 180ms\n",
      "810:\tlearn: 0.0140114\ttotal: 767ms\tremaining: 179ms\n",
      "811:\tlearn: 0.0139954\ttotal: 767ms\tremaining: 178ms\n",
      "812:\tlearn: 0.0139883\ttotal: 768ms\tremaining: 177ms\n",
      "813:\tlearn: 0.0139753\ttotal: 769ms\tremaining: 176ms\n",
      "814:\tlearn: 0.0139615\ttotal: 769ms\tremaining: 175ms\n",
      "815:\tlearn: 0.0139500\ttotal: 771ms\tremaining: 174ms\n",
      "816:\tlearn: 0.0139411\ttotal: 771ms\tremaining: 173ms\n",
      "817:\tlearn: 0.0139290\ttotal: 772ms\tremaining: 172ms\n",
      "818:\tlearn: 0.0139141\ttotal: 773ms\tremaining: 171ms\n",
      "819:\tlearn: 0.0139022\ttotal: 773ms\tremaining: 170ms\n",
      "820:\tlearn: 0.0138958\ttotal: 775ms\tremaining: 169ms\n",
      "821:\tlearn: 0.0138887\ttotal: 775ms\tremaining: 168ms\n",
      "822:\tlearn: 0.0138802\ttotal: 776ms\tremaining: 167ms\n",
      "823:\tlearn: 0.0138699\ttotal: 777ms\tremaining: 166ms\n",
      "824:\tlearn: 0.0138495\ttotal: 778ms\tremaining: 165ms\n",
      "825:\tlearn: 0.0138448\ttotal: 778ms\tremaining: 164ms\n",
      "826:\tlearn: 0.0138412\ttotal: 779ms\tremaining: 163ms\n",
      "827:\tlearn: 0.0138365\ttotal: 779ms\tremaining: 162ms\n"
     ]
    },
    {
     "name": "stdout",
     "output_type": "stream",
     "text": [
      "828:\tlearn: 0.0138225\ttotal: 780ms\tremaining: 161ms\n",
      "829:\tlearn: 0.0137839\ttotal: 783ms\tremaining: 160ms\n",
      "830:\tlearn: 0.0137743\ttotal: 784ms\tremaining: 159ms\n",
      "831:\tlearn: 0.0137680\ttotal: 784ms\tremaining: 158ms\n",
      "832:\tlearn: 0.0137606\ttotal: 784ms\tremaining: 157ms\n",
      "833:\tlearn: 0.0137495\ttotal: 785ms\tremaining: 156ms\n",
      "834:\tlearn: 0.0137333\ttotal: 785ms\tremaining: 155ms\n",
      "835:\tlearn: 0.0137234\ttotal: 785ms\tremaining: 154ms\n",
      "836:\tlearn: 0.0136840\ttotal: 786ms\tremaining: 153ms\n",
      "837:\tlearn: 0.0136760\ttotal: 787ms\tremaining: 152ms\n",
      "838:\tlearn: 0.0136626\ttotal: 788ms\tremaining: 151ms\n",
      "839:\tlearn: 0.0136537\ttotal: 789ms\tremaining: 150ms\n",
      "840:\tlearn: 0.0136463\ttotal: 790ms\tremaining: 149ms\n",
      "841:\tlearn: 0.0136270\ttotal: 790ms\tremaining: 148ms\n",
      "842:\tlearn: 0.0136180\ttotal: 790ms\tremaining: 147ms\n",
      "843:\tlearn: 0.0136135\ttotal: 792ms\tremaining: 146ms\n",
      "844:\tlearn: 0.0136065\ttotal: 793ms\tremaining: 145ms\n",
      "845:\tlearn: 0.0135947\ttotal: 793ms\tremaining: 144ms\n",
      "846:\tlearn: 0.0135909\ttotal: 793ms\tremaining: 143ms\n",
      "847:\tlearn: 0.0135825\ttotal: 793ms\tremaining: 142ms\n",
      "848:\tlearn: 0.0135755\ttotal: 794ms\tremaining: 141ms\n",
      "849:\tlearn: 0.0135650\ttotal: 794ms\tremaining: 140ms\n",
      "850:\tlearn: 0.0135577\ttotal: 797ms\tremaining: 139ms\n",
      "851:\tlearn: 0.0135201\ttotal: 797ms\tremaining: 138ms\n",
      "852:\tlearn: 0.0135101\ttotal: 798ms\tremaining: 137ms\n",
      "853:\tlearn: 0.0135034\ttotal: 798ms\tremaining: 136ms\n",
      "854:\tlearn: 0.0134991\ttotal: 798ms\tremaining: 135ms\n",
      "855:\tlearn: 0.0134618\ttotal: 800ms\tremaining: 135ms\n",
      "856:\tlearn: 0.0134502\ttotal: 802ms\tremaining: 134ms\n",
      "857:\tlearn: 0.0134422\ttotal: 802ms\tremaining: 133ms\n",
      "858:\tlearn: 0.0134367\ttotal: 803ms\tremaining: 132ms\n",
      "859:\tlearn: 0.0134260\ttotal: 803ms\tremaining: 131ms\n",
      "860:\tlearn: 0.0134017\ttotal: 803ms\tremaining: 130ms\n",
      "861:\tlearn: 0.0133658\ttotal: 805ms\tremaining: 129ms\n",
      "862:\tlearn: 0.0133536\ttotal: 806ms\tremaining: 128ms\n",
      "863:\tlearn: 0.0133411\ttotal: 806ms\tremaining: 127ms\n",
      "864:\tlearn: 0.0133258\ttotal: 807ms\tremaining: 126ms\n",
      "865:\tlearn: 0.0132925\ttotal: 808ms\tremaining: 125ms\n",
      "866:\tlearn: 0.0132828\ttotal: 809ms\tremaining: 124ms\n",
      "867:\tlearn: 0.0132714\ttotal: 809ms\tremaining: 123ms\n",
      "868:\tlearn: 0.0132667\ttotal: 810ms\tremaining: 122ms\n",
      "869:\tlearn: 0.0132568\ttotal: 811ms\tremaining: 121ms\n",
      "870:\tlearn: 0.0132496\ttotal: 813ms\tremaining: 120ms\n",
      "871:\tlearn: 0.0132351\ttotal: 814ms\tremaining: 120ms\n",
      "872:\tlearn: 0.0132273\ttotal: 815ms\tremaining: 119ms\n",
      "873:\tlearn: 0.0132094\ttotal: 815ms\tremaining: 118ms\n",
      "874:\tlearn: 0.0132005\ttotal: 816ms\tremaining: 117ms\n",
      "875:\tlearn: 0.0131929\ttotal: 817ms\tremaining: 116ms\n",
      "876:\tlearn: 0.0131863\ttotal: 817ms\tremaining: 115ms\n",
      "877:\tlearn: 0.0131826\ttotal: 818ms\tremaining: 114ms\n",
      "878:\tlearn: 0.0131770\ttotal: 818ms\tremaining: 113ms\n",
      "879:\tlearn: 0.0131651\ttotal: 820ms\tremaining: 112ms\n",
      "880:\tlearn: 0.0131307\ttotal: 821ms\tremaining: 111ms\n",
      "881:\tlearn: 0.0131265\ttotal: 822ms\tremaining: 110ms\n",
      "882:\tlearn: 0.0131169\ttotal: 823ms\tremaining: 109ms\n",
      "883:\tlearn: 0.0130836\ttotal: 823ms\tremaining: 108ms\n",
      "884:\tlearn: 0.0130716\ttotal: 825ms\tremaining: 107ms\n",
      "885:\tlearn: 0.0130579\ttotal: 826ms\tremaining: 106ms\n",
      "886:\tlearn: 0.0130523\ttotal: 826ms\tremaining: 105ms\n",
      "887:\tlearn: 0.0130460\ttotal: 826ms\tremaining: 104ms\n",
      "888:\tlearn: 0.0130349\ttotal: 826ms\tremaining: 103ms\n",
      "889:\tlearn: 0.0130256\ttotal: 827ms\tremaining: 102ms\n",
      "890:\tlearn: 0.0130149\ttotal: 827ms\tremaining: 101ms\n",
      "891:\tlearn: 0.0130114\ttotal: 827ms\tremaining: 100ms\n",
      "892:\tlearn: 0.0130000\ttotal: 828ms\tremaining: 99.2ms\n",
      "893:\tlearn: 0.0129814\ttotal: 831ms\tremaining: 98.5ms\n",
      "894:\tlearn: 0.0129704\ttotal: 832ms\tremaining: 97.6ms\n",
      "895:\tlearn: 0.0129660\ttotal: 832ms\tremaining: 96.6ms\n",
      "896:\tlearn: 0.0129631\ttotal: 832ms\tremaining: 95.6ms\n",
      "897:\tlearn: 0.0129577\ttotal: 833ms\tremaining: 94.6ms\n",
      "898:\tlearn: 0.0129511\ttotal: 833ms\tremaining: 93.6ms\n",
      "899:\tlearn: 0.0129394\ttotal: 833ms\tremaining: 92.6ms\n",
      "900:\tlearn: 0.0129301\ttotal: 834ms\tremaining: 91.6ms\n",
      "901:\tlearn: 0.0128982\ttotal: 834ms\tremaining: 90.6ms\n",
      "902:\tlearn: 0.0128934\ttotal: 834ms\tremaining: 89.6ms\n",
      "903:\tlearn: 0.0128845\ttotal: 835ms\tremaining: 88.6ms\n",
      "904:\tlearn: 0.0128721\ttotal: 835ms\tremaining: 87.6ms\n",
      "905:\tlearn: 0.0128651\ttotal: 835ms\tremaining: 86.6ms\n",
      "906:\tlearn: 0.0128509\ttotal: 836ms\tremaining: 85.7ms\n",
      "907:\tlearn: 0.0128440\ttotal: 836ms\tremaining: 84.7ms\n",
      "908:\tlearn: 0.0128342\ttotal: 838ms\tremaining: 83.9ms\n",
      "909:\tlearn: 0.0128270\ttotal: 838ms\tremaining: 82.9ms\n",
      "910:\tlearn: 0.0128161\ttotal: 838ms\tremaining: 81.9ms\n",
      "911:\tlearn: 0.0128090\ttotal: 838ms\tremaining: 80.9ms\n",
      "912:\tlearn: 0.0127995\ttotal: 839ms\tremaining: 80ms\n",
      "913:\tlearn: 0.0127690\ttotal: 839ms\tremaining: 79ms\n",
      "914:\tlearn: 0.0127509\ttotal: 840ms\tremaining: 78ms\n",
      "915:\tlearn: 0.0127468\ttotal: 840ms\tremaining: 77ms\n",
      "916:\tlearn: 0.0127367\ttotal: 840ms\tremaining: 76ms\n",
      "917:\tlearn: 0.0127262\ttotal: 840ms\tremaining: 75.1ms\n",
      "918:\tlearn: 0.0126987\ttotal: 841ms\tremaining: 74.1ms\n",
      "919:\tlearn: 0.0126919\ttotal: 841ms\tremaining: 73.1ms\n",
      "920:\tlearn: 0.0126828\ttotal: 841ms\tremaining: 72.2ms\n",
      "921:\tlearn: 0.0126660\ttotal: 844ms\tremaining: 71.4ms\n",
      "922:\tlearn: 0.0126577\ttotal: 844ms\tremaining: 70.4ms\n",
      "923:\tlearn: 0.0126493\ttotal: 844ms\tremaining: 69.4ms\n",
      "924:\tlearn: 0.0126398\ttotal: 845ms\tremaining: 68.5ms\n",
      "925:\tlearn: 0.0126346\ttotal: 845ms\tremaining: 67.5ms\n",
      "926:\tlearn: 0.0126260\ttotal: 846ms\tremaining: 66.6ms\n",
      "927:\tlearn: 0.0125967\ttotal: 846ms\tremaining: 65.6ms\n",
      "928:\tlearn: 0.0125802\ttotal: 846ms\tremaining: 64.7ms\n",
      "929:\tlearn: 0.0125661\ttotal: 846ms\tremaining: 63.7ms\n",
      "930:\tlearn: 0.0125509\ttotal: 847ms\tremaining: 62.8ms\n",
      "931:\tlearn: 0.0125420\ttotal: 848ms\tremaining: 61.9ms\n",
      "932:\tlearn: 0.0125370\ttotal: 848ms\tremaining: 60.9ms\n",
      "933:\tlearn: 0.0125276\ttotal: 848ms\tremaining: 59.9ms\n",
      "934:\tlearn: 0.0125234\ttotal: 851ms\tremaining: 59.2ms\n",
      "935:\tlearn: 0.0125161\ttotal: 857ms\tremaining: 58.6ms\n",
      "936:\tlearn: 0.0125059\ttotal: 860ms\tremaining: 57.8ms\n",
      "937:\tlearn: 0.0124992\ttotal: 860ms\tremaining: 56.9ms\n",
      "938:\tlearn: 0.0124891\ttotal: 864ms\tremaining: 56.1ms\n",
      "939:\tlearn: 0.0124864\ttotal: 866ms\tremaining: 55.3ms\n",
      "940:\tlearn: 0.0124742\ttotal: 867ms\tremaining: 54.4ms\n",
      "941:\tlearn: 0.0124692\ttotal: 868ms\tremaining: 53.5ms\n",
      "942:\tlearn: 0.0124372\ttotal: 869ms\tremaining: 52.5ms\n",
      "943:\tlearn: 0.0124279\ttotal: 870ms\tremaining: 51.6ms\n",
      "944:\tlearn: 0.0124132\ttotal: 870ms\tremaining: 50.6ms\n",
      "945:\tlearn: 0.0124098\ttotal: 871ms\tremaining: 49.7ms\n",
      "946:\tlearn: 0.0124022\ttotal: 871ms\tremaining: 48.8ms\n",
      "947:\tlearn: 0.0123977\ttotal: 872ms\tremaining: 47.8ms\n"
     ]
    },
    {
     "name": "stdout",
     "output_type": "stream",
     "text": [
      "948:\tlearn: 0.0123892\ttotal: 886ms\tremaining: 47.6ms\n",
      "949:\tlearn: 0.0123785\ttotal: 888ms\tremaining: 46.7ms\n",
      "950:\tlearn: 0.0123671\ttotal: 889ms\tremaining: 45.8ms\n",
      "951:\tlearn: 0.0123391\ttotal: 890ms\tremaining: 44.9ms\n",
      "952:\tlearn: 0.0123348\ttotal: 897ms\tremaining: 44.2ms\n",
      "953:\tlearn: 0.0123281\ttotal: 903ms\tremaining: 43.5ms\n",
      "954:\tlearn: 0.0123198\ttotal: 905ms\tremaining: 42.7ms\n",
      "955:\tlearn: 0.0123114\ttotal: 906ms\tremaining: 41.7ms\n",
      "956:\tlearn: 0.0123022\ttotal: 908ms\tremaining: 40.8ms\n",
      "957:\tlearn: 0.0122974\ttotal: 910ms\tremaining: 39.9ms\n"
     ]
    },
    {
     "name": "stdout",
     "output_type": "stream",
     "text": [
      "958:\tlearn: 0.0122908\ttotal: 940ms\tremaining: 40.2ms\n",
      "959:\tlearn: 0.0122633\ttotal: 942ms\tremaining: 39.2ms\n",
      "960:\tlearn: 0.0122570\ttotal: 943ms\tremaining: 38.3ms\n",
      "961:\tlearn: 0.0122474\ttotal: 944ms\tremaining: 37.3ms\n",
      "962:\tlearn: 0.0122413\ttotal: 946ms\tremaining: 36.3ms\n",
      "963:\tlearn: 0.0122283\ttotal: 947ms\tremaining: 35.4ms\n",
      "964:\tlearn: 0.0122156\ttotal: 948ms\tremaining: 34.4ms\n",
      "965:\tlearn: 0.0122084\ttotal: 948ms\tremaining: 33.4ms\n",
      "966:\tlearn: 0.0121823\ttotal: 949ms\tremaining: 32.4ms\n",
      "967:\tlearn: 0.0121765\ttotal: 950ms\tremaining: 31.4ms\n",
      "968:\tlearn: 0.0121719\ttotal: 950ms\tremaining: 30.4ms\n",
      "969:\tlearn: 0.0121640\ttotal: 950ms\tremaining: 29.4ms\n",
      "970:\tlearn: 0.0121573\ttotal: 951ms\tremaining: 28.4ms\n",
      "971:\tlearn: 0.0121506\ttotal: 951ms\tremaining: 27.4ms\n",
      "972:\tlearn: 0.0121405\ttotal: 951ms\tremaining: 26.4ms\n",
      "973:\tlearn: 0.0121321\ttotal: 951ms\tremaining: 25.4ms\n",
      "974:\tlearn: 0.0121264\ttotal: 952ms\tremaining: 24.4ms\n",
      "975:\tlearn: 0.0121181\ttotal: 952ms\tremaining: 23.4ms\n",
      "976:\tlearn: 0.0121128\ttotal: 953ms\tremaining: 22.4ms\n",
      "977:\tlearn: 0.0121025\ttotal: 954ms\tremaining: 21.5ms\n",
      "978:\tlearn: 0.0121001\ttotal: 955ms\tremaining: 20.5ms\n",
      "979:\tlearn: 0.0120929\ttotal: 955ms\tremaining: 19.5ms\n",
      "980:\tlearn: 0.0120868\ttotal: 956ms\tremaining: 18.5ms\n",
      "981:\tlearn: 0.0120835\ttotal: 957ms\tremaining: 17.5ms\n",
      "982:\tlearn: 0.0120810\ttotal: 958ms\tremaining: 16.6ms\n",
      "983:\tlearn: 0.0120762\ttotal: 958ms\tremaining: 15.6ms\n",
      "984:\tlearn: 0.0120489\ttotal: 959ms\tremaining: 14.6ms\n",
      "985:\tlearn: 0.0120456\ttotal: 960ms\tremaining: 13.6ms\n",
      "986:\tlearn: 0.0120386\ttotal: 962ms\tremaining: 12.7ms\n",
      "987:\tlearn: 0.0120338\ttotal: 964ms\tremaining: 11.7ms\n",
      "988:\tlearn: 0.0120237\ttotal: 965ms\tremaining: 10.7ms\n",
      "989:\tlearn: 0.0120116\ttotal: 967ms\tremaining: 9.77ms\n",
      "990:\tlearn: 0.0120039\ttotal: 968ms\tremaining: 8.79ms\n",
      "991:\tlearn: 0.0119947\ttotal: 969ms\tremaining: 7.81ms\n",
      "992:\tlearn: 0.0119821\ttotal: 969ms\tremaining: 6.83ms\n",
      "993:\tlearn: 0.0119717\ttotal: 970ms\tremaining: 5.86ms\n",
      "994:\tlearn: 0.0119556\ttotal: 971ms\tremaining: 4.88ms\n",
      "995:\tlearn: 0.0119462\ttotal: 972ms\tremaining: 3.9ms\n",
      "996:\tlearn: 0.0119384\ttotal: 972ms\tremaining: 2.93ms\n",
      "997:\tlearn: 0.0119340\ttotal: 973ms\tremaining: 1.95ms\n",
      "998:\tlearn: 0.0119092\ttotal: 974ms\tremaining: 974us\n",
      "999:\tlearn: 0.0119019\ttotal: 974ms\tremaining: 0us\n"
     ]
    },
    {
     "data": {
      "text/plain": [
       "<catboost.core.CatBoostRegressor at 0x7f9be2ed3310>"
      ]
     },
     "execution_count": 9,
     "metadata": {},
     "output_type": "execute_result"
    }
   ],
   "source": [
    "#Train the Model \n",
    "prior_model = ctb.CatBoostRegressor()\n",
    "prior_model.fit(X_train,Y_train)"
   ]
  },
  {
   "cell_type": "code",
   "execution_count": 10,
   "id": "af65dcda",
   "metadata": {
    "execution": {
     "iopub.execute_input": "2022-07-24T13:03:38.417917Z",
     "iopub.status.busy": "2022-07-24T13:03:38.412170Z",
     "iopub.status.idle": "2022-07-24T13:03:38.475293Z",
     "shell.execute_reply": "2022-07-24T13:03:38.472063Z"
    },
    "id": "af65dcda",
    "papermill": {
     "duration": 0.097974,
     "end_time": "2022-07-24T13:03:38.481914",
     "exception": false,
     "start_time": "2022-07-24T13:03:38.383940",
     "status": "completed"
    },
    "tags": []
   },
   "outputs": [
    {
     "data": {
      "application/scrapbook.scrap.json+json": {
       "data": 0.0016118797109386947,
       "encoder": "json",
       "name": "Prior Model MSE",
       "version": 1
      }
     },
     "metadata": {
      "scrapbook": {
       "data": true,
       "display": false,
       "name": "Prior Model MSE"
      }
     },
     "output_type": "display_data"
    },
    {
     "data": {
      "application/scrapbook.scrap.json+json": {
       "data": 0.019022681518812652,
       "encoder": "json",
       "name": "ABC Pre-generator MSE",
       "version": 1
      }
     },
     "metadata": {
      "scrapbook": {
       "data": true,
       "display": false,
       "name": "ABC Pre-generator MSE"
      }
     },
     "output_type": "display_data"
    },
    {
     "data": {
      "application/scrapbook.scrap.json+json": {
       "data": 0.023028404161414953,
       "encoder": "json",
       "name": "Prior Model MAE",
       "version": 1
      }
     },
     "metadata": {
      "scrapbook": {
       "data": true,
       "display": false,
       "name": "Prior Model MAE"
      }
     },
     "output_type": "display_data"
    },
    {
     "name": "stdout",
     "output_type": "stream",
     "text": [
      "Prior Model MAE 0.023028404161414953\n",
      "ABC Pre-generator MAE 0.11209344785351506\n"
     ]
    }
   ],
   "source": [
    "y_pred = prior_model.predict(X_test)\n",
    "y_abc = y_pred + np.random.normal(0,variance, y_pred.shape) + bias \n",
    "mse = mean_squared_error(y_pred,Y_test)\n",
    "sb.glue(\"Prior Model MSE\",mse)\n",
    "mse = mean_squared_error(y_abc,Y_test)\n",
    "sb.glue(\"ABC Pre-generator MSE\",mse)\n",
    "mae = mean_absolute_error(y_pred,Y_test)\n",
    "sb.glue(\"Prior Model MAE\",mae)\n",
    "print(\"Prior Model MAE\",mae)\n",
    "mae = mean_absolute_error(y_abc,Y_test)\n",
    "print(\"ABC Pre-generator MAE\",mae)"
   ]
  },
  {
   "cell_type": "markdown",
   "id": "25609da2",
   "metadata": {
    "papermill": {
     "duration": 0.010306,
     "end_time": "2022-07-24T13:03:38.509945",
     "exception": false,
     "start_time": "2022-07-24T13:03:38.499639",
     "status": "completed"
    },
    "tags": []
   },
   "source": [
    "# mGAN Model"
   ]
  },
  {
   "cell_type": "code",
   "execution_count": 11,
   "id": "dfc3464d",
   "metadata": {
    "execution": {
     "iopub.execute_input": "2022-07-24T13:03:38.540650Z",
     "iopub.status.busy": "2022-07-24T13:03:38.539930Z",
     "iopub.status.idle": "2022-07-24T13:03:38.547551Z",
     "shell.execute_reply": "2022-07-24T13:03:38.543791Z"
    },
    "papermill": {
     "duration": 0.028603,
     "end_time": "2022-07-24T13:03:38.550753",
     "exception": false,
     "start_time": "2022-07-24T13:03:38.522150",
     "status": "completed"
    },
    "tags": []
   },
   "outputs": [],
   "source": [
    "# gen = network.Generator(n_features+1).to(device)\n",
    "# disc = network.Discriminator(n_features+1).to(device)\n",
    "\n",
    "# criterion = torch.nn.BCELoss()\n",
    "# gen_opt = torch.optim.Adam(gen.parameters(), lr=0.01, betas=(0.5, 0.999))\n",
    "# disc_opt = torch.optim.Adam(disc.parameters(), lr=0.01, betas=(0.5, 0.999))"
   ]
  },
  {
   "cell_type": "code",
   "execution_count": 12,
   "id": "b75fdd85",
   "metadata": {
    "execution": {
     "iopub.execute_input": "2022-07-24T13:03:38.586524Z",
     "iopub.status.busy": "2022-07-24T13:03:38.585512Z",
     "iopub.status.idle": "2022-07-24T13:03:38.602838Z",
     "shell.execute_reply": "2022-07-24T13:03:38.595167Z"
    },
    "papermill": {
     "duration": 0.042773,
     "end_time": "2022-07-24T13:03:38.606236",
     "exception": false,
     "start_time": "2022-07-24T13:03:38.563463",
     "status": "completed"
    },
    "tags": []
   },
   "outputs": [],
   "source": [
    "#Training the ABC_GAN \n",
    "# ABC_train_test2.training_GAN(disc,gen,disc_opt,gen_opt,train_data,batch_size,n_epochs,criterion,prior_model,variance,bias,device)"
   ]
  },
  {
   "cell_type": "code",
   "execution_count": 13,
   "id": "1fa7c368",
   "metadata": {
    "execution": {
     "iopub.execute_input": "2022-07-24T13:03:38.662988Z",
     "iopub.status.busy": "2022-07-24T13:03:38.662158Z",
     "iopub.status.idle": "2022-07-24T13:03:38.670037Z",
     "shell.execute_reply": "2022-07-24T13:03:38.667624Z"
    },
    "papermill": {
     "duration": 0.055369,
     "end_time": "2022-07-24T13:03:38.677101",
     "exception": false,
     "start_time": "2022-07-24T13:03:38.621732",
     "status": "completed"
    },
    "tags": []
   },
   "outputs": [],
   "source": [
    "# ABC_GAN1_metrics=ABC_train_test2.test_generator(gen,test_data,prior_model,variance,bias,\"1\",device)\n",
    "# sb.glue(\"ABC_GAN_1 Metrics\",ABC_GAN1_metrics)\n",
    "\n",
    "# print(\"MAE\")\n",
    "# print(mean(ABC_GAN1_metrics[1]))"
   ]
  },
  {
   "cell_type": "code",
   "execution_count": 14,
   "id": "eb22ce5c",
   "metadata": {
    "execution": {
     "iopub.execute_input": "2022-07-24T13:03:38.719640Z",
     "iopub.status.busy": "2022-07-24T13:03:38.718664Z",
     "iopub.status.idle": "2022-07-24T13:03:38.725948Z",
     "shell.execute_reply": "2022-07-24T13:03:38.723921Z"
    },
    "papermill": {
     "duration": 0.032047,
     "end_time": "2022-07-24T13:03:38.730673",
     "exception": false,
     "start_time": "2022-07-24T13:03:38.698626",
     "status": "completed"
    },
    "tags": []
   },
   "outputs": [],
   "source": [
    "# sanityChecks.discProbVsError(train_data,disc,device)\n",
    "# sanityChecks.discProbVsError(test_data,disc,device)"
   ]
  },
  {
   "cell_type": "markdown",
   "id": "c8550761",
   "metadata": {
    "papermill": {
     "duration": 0.057809,
     "end_time": "2022-07-24T13:03:38.806800",
     "exception": false,
     "start_time": "2022-07-24T13:03:38.748991",
     "status": "completed"
    },
    "tags": []
   },
   "source": [
    "# mGAN Model with TabNet Generator"
   ]
  },
  {
   "cell_type": "code",
   "execution_count": 15,
   "id": "d2c775d8",
   "metadata": {
    "execution": {
     "iopub.execute_input": "2022-07-24T13:03:38.845135Z",
     "iopub.status.busy": "2022-07-24T13:03:38.844364Z",
     "iopub.status.idle": "2022-07-24T13:03:38.856582Z",
     "shell.execute_reply": "2022-07-24T13:03:38.852412Z"
    },
    "papermill": {
     "duration": 0.04061,
     "end_time": "2022-07-24T13:03:38.862251",
     "exception": false,
     "start_time": "2022-07-24T13:03:38.821641",
     "status": "completed"
    },
    "tags": []
   },
   "outputs": [],
   "source": [
    "gen2 = network.GeneratorTabnet(n_features+1).to(device)\n",
    "disc2 = network.Discriminator(n_features+1).to(device)\n",
    "\n",
    "criterion = torch.nn.BCELoss()\n",
    "gen_opt = torch.optim.Adam(gen2.parameters(), lr=0.01, betas=(0.5, 0.999))\n",
    "disc_opt = torch.optim.Adam(disc2.parameters(), lr=0.01, betas=(0.5, 0.999))"
   ]
  },
  {
   "cell_type": "code",
   "execution_count": 16,
   "id": "0d3c7b40",
   "metadata": {
    "execution": {
     "iopub.execute_input": "2022-07-24T13:03:38.909556Z",
     "iopub.status.busy": "2022-07-24T13:03:38.907371Z",
     "iopub.status.idle": "2022-07-24T13:07:40.179381Z",
     "shell.execute_reply": "2022-07-24T13:07:40.177155Z"
    },
    "papermill": {
     "duration": 241.300598,
     "end_time": "2022-07-24T13:07:40.184013",
     "exception": false,
     "start_time": "2022-07-24T13:03:38.883415",
     "status": "completed"
    },
    "tags": []
   },
   "outputs": [
    {
     "data": {
      "image/png": "[encoded data removed]",
      "text/plain": [
       "<Figure size 432x288 with 1 Axes>"
      ]
     },
     "metadata": {
      "needs_background": "light"
     },
     "output_type": "display_data"
    },
    {
     "data": {
      "image/png": "[encoded data removed]",
      "text/plain": [
       "<Figure size 432x288 with 1 Axes>"
      ]
     },
     "metadata": {
      "needs_background": "light"
     },
     "output_type": "display_data"
    }
   ],
   "source": [
    "#Training the ABC_GAN \n",
    "ABC_train_test2.training_GAN(disc2,gen2,disc_opt,gen_opt,train_data,batch_size,n_epochs,criterion,prior_model,variance,bias,device)"
   ]
  },
  {
   "cell_type": "code",
   "execution_count": 17,
   "id": "7adb388d",
   "metadata": {
    "execution": {
     "iopub.execute_input": "2022-07-24T13:07:40.222107Z",
     "iopub.status.busy": "2022-07-24T13:07:40.220834Z",
     "iopub.status.idle": "2022-07-24T13:07:40.940736Z",
     "shell.execute_reply": "2022-07-24T13:07:40.939892Z"
    },
    "papermill": {
     "duration": 0.74262,
     "end_time": "2022-07-24T13:07:40.943810",
     "exception": false,
     "start_time": "2022-07-24T13:07:40.201190",
     "status": "completed"
    },
    "tags": []
   },
   "outputs": [
    {
     "data": {
      "application/scrapbook.scrap.json+json": {
       "data": 0.1178203039726261,
       "encoder": "json",
       "name": "ABC-GAN Model 1 MSE",
       "version": 1
      }
     },
     "metadata": {
      "scrapbook": {
       "data": true,
       "display": false,
       "name": "ABC-GAN Model 1 MSE"
      }
     },
     "output_type": "display_data"
    },
    {
     "data": {
      "application/scrapbook.scrap.json+json": {
       "data": 0.18521324799432382,
       "encoder": "json",
       "name": "ABC-GAN Model 1 MAE",
       "version": 1
      }
     },
     "metadata": {
      "scrapbook": {
       "data": true,
       "display": false,
       "name": "ABC-GAN Model 1 MAE"
      }
     },
     "output_type": "display_data"
    },
    {
     "data": {
      "application/scrapbook.scrap.json+json": {
       "data": 28.52284019112587,
       "encoder": "json",
       "name": "ABC-GAN Model 1 Manhattan Distance",
       "version": 1
      }
     },
     "metadata": {
      "scrapbook": {
       "data": true,
       "display": false,
       "name": "ABC-GAN Model 1 Manhattan Distance"
      }
     },
     "output_type": "display_data"
    },
    {
     "data": {
      "application/scrapbook.scrap.json+json": {
       "data": 4.25955646854433,
       "encoder": "json",
       "name": "ABC-GAN Model 1 Euclidean distance",
       "version": 1
      }
     },
     "metadata": {
      "scrapbook": {
       "data": true,
       "display": false,
       "name": "ABC-GAN Model 1 Euclidean distance"
      }
     },
     "output_type": "display_data"
    },
    {
     "data": {
      "application/scrapbook.scrap.json+json": {
       "data": [
        [
         0.11750415845336205,
         0.11751017240711548,
         0.11797904642613309,
         0.11657495000241255,
         0.11586246003670016,
         0.11779269095605517,
         0.11887108755411337,
         0.11680901905587274,
         0.11816714621234008,
         0.11510704756989903,
         0.11643756048820474,
         0.11935607586869278,
         0.1179814929996023,
         0.11787283429645737,
         0.1179800612373769,
         0.11780213490369386,
         0.11725729568396327,
         0.11829651544266125,
         0.1178552817691578,
         0.11781191901527671,
         0.11905503732289645,
         0.11809082732936031,
         0.1177234533737291,
         0.11793759683900008,
         0.11727435757155522,
         0.11757779770598703,
         0.11771557273277468,
         0.11807818482889924,
         0.11910861072978744,
         0.11837587358308563,
         0.11831102201020867,
         0.11705532412002681,
         0.1174689721011581,
         0.11992770283711383,
         0.11973494789971263,
         0.11736716266518651,
         0.1166988583399842,
         0.11739645905461803,
         0.11795249444373705,
         0.11851976041025365,
         0.11954586785626749,
         0.12274208075285951,
         0.11958196764620614,
         0.11732317196388624,
         0.11679788142868348,
         0.11665975099965659,
         0.11757495797016138,
         0.11778443040134198,
         0.12012337888947838,
         0.11860910948168833,
         0.11812335975707451,
         0.11868386636482643,
         0.11962917762542406,
         0.11704090397652524,
         0.1174633821695972,
         0.11710214515807862,
         0.11619838548560536,
         0.1200169818543824,
         0.11794531170603591,
         0.11751583543108869,
         0.11854802298031741,
         0.11565732984656321,
         0.11964759498390708,
         0.11772924666336676,
         0.11844414631428928,
         0.11917876912476387,
         0.1196884025891855,
         0.11648409441264578,
         0.11668759457662267,
         0.11693483194783665,
         0.11746434443159563,
         0.11838161004030434,
         0.11959920433342773,
         0.11713387785692839,
         0.1177099243078027,
         0.11699281619299345,
         0.11613100680788806,
         0.11654323405669229,
         0.11746337130475526,
         0.11780879301160391,
         0.12008516169993087,
         0.11603199911594791,
         0.11726485629800194,
         0.116936412898805,
         0.1163242541376271,
         0.11651117110377032,
         0.11908596321724238,
         0.1150962559007101,
         0.11865776404874902,
         0.11892023303317381,
         0.1157578235609584,
         0.11802829738143895,
         0.11864237798741942,
         0.11894244897596737,
         0.11622915946796517,
         0.11806820319700552,
         0.11763403396932616,
         0.11594545416676767,
         0.11881784606892885,
         0.11616155205235151
        ],
        [
         0.18557486209002408,
         0.1848759146092774,
         0.18618562178952353,
         0.1842645966000371,
         0.18237723932637798,
         0.18496922684180273,
         0.18665741635607436,
         0.18489527315288395,
         0.1855603646148335,
         0.18165149317159282,
         0.185135794537408,
         0.186641202731566,
         0.1859316640085988,
         0.18479703308699966,
         0.18614399007388524,
         0.1855627116444823,
         0.1847967217107872,
         0.18498677982912434,
         0.18503740700808438,
         0.18438663556204213,
         0.18661430284574435,
         0.18615200864030168,
         0.18653988489856968,
         0.18843231050225048,
         0.18434759742253787,
         0.18403336444458404,
         0.18583219237141796,
         0.18381331183693625,
         0.1860125285464448,
         0.18693907229931322,
         0.18606677128897084,
         0.18438573588024487,
         0.18464706625257218,
         0.18630770835783575,
         0.18609902088518265,
         0.18480407107960095,
         0.18351832148316619,
         0.18580782781173658,
         0.18567165616270784,
         0.18603229600113708,
         0.18627770922400735,
         0.18682049060022676,
         0.18703786719155002,
         0.18421988073107484,
         0.18265664558131972,
         0.18480309108635048,
         0.18640966210272406,
         0.18552785511914785,
         0.1887115998701616,
         0.1860694767205746,
         0.18520239266482266,
         0.1861320362462626,
         0.18684983969508828,
         0.18467278372157703,
         0.1850932834597377,
         0.1839683831899197,
         0.1827818172705638,
         0.18660556321794336,
         0.18460570372544327,
         0.18469120445963624,
         0.18677995770008532,
         0.18319473328528466,
         0.1862335249588087,
         0.18614461882547897,
         0.18521795025119533,
         0.18701980195262216,
         0.18775207462248863,
         0.184077868794466,
         0.18503275823283505,
         0.18415986253069594,
         0.18435947674435454,
         0.18650075677153352,
         0.1872769421958304,
         0.1851797369006392,
         0.1843931233728087,
         0.1840447849267489,
         0.18476003253614748,
         0.183727175771416,
         0.18526598114471932,
         0.18568407347450008,
         0.1872937913451876,
         0.18291296838939963,
         0.1837051146990293,
         0.18281008380574065,
         0.18336112506977922,
         0.18383511378393544,
         0.1866992638482676,
         0.18261996530867242,
         0.186314623270716,
         0.18710510335959396,
         0.18218888439141312,
         0.18570306045668467,
         0.18639412754541868,
         0.18580095063556323,
         0.18510449900255574,
         0.1856148958980263,
         0.18555847023214614,
         0.18113788614025364,
         0.18604890518374256,
         0.1826844484388054
        ],
        [
         28.57852876186371,
         28.47089084982872,
         28.672585755586624,
         28.376747876405716,
         28.086094856262207,
         28.48526093363762,
         28.74524211883545,
         28.47387206554413,
         28.576296150684357,
         27.974329948425293,
         28.510912358760834,
         28.742745220661163,
         28.63347625732422,
         28.45874309539795,
         28.666174471378326,
         28.576657593250275,
         28.458695143461227,
         28.48796409368515,
         28.495760679244995,
         28.39554187655449,
         28.73860263824463,
         28.66740933060646,
         28.72714227437973,
         29.018575817346573,
         28.38953000307083,
         28.341138124465942,
         28.618157625198364,
         28.307250022888184,
         28.645929396152496,
         28.78861713409424,
         28.65428277850151,
         28.39540332555771,
         28.435648202896118,
         28.691387087106705,
         28.65924921631813,
         28.459826946258545,
         28.261821508407593,
         28.61440548300743,
         28.593435049057007,
         28.64897358417511,
         28.68676722049713,
         28.77035555243492,
         28.803831547498703,
         28.369861632585526,
         28.12912341952324,
         28.459676027297974,
         28.707087963819504,
         28.57128968834877,
         29.061586380004883,
         28.65469941496849,
         28.52116847038269,
         28.66433358192444,
         28.774875313043594,
         28.439608693122864,
         28.504365652799606,
         28.331131011247635,
         28.148399859666824,
         28.737256735563278,
         28.42927837371826,
         28.44244548678398,
         28.76411348581314,
         28.211988925933838,
         28.67996284365654,
         28.666271299123764,
         28.523564338684082,
         28.80104950070381,
         28.91381949186325,
         28.347991794347763,
         28.495044767856598,
         28.360618829727173,
         28.3913594186306,
         28.721116542816162,
         28.840649098157883,
         28.51767948269844,
         28.396540999412537,
         28.34289687871933,
         28.45304501056671,
         28.293985068798065,
         28.530961096286774,
         28.595347315073013,
         28.84324386715889,
         28.168597131967545,
         28.290587663650513,
         28.15275290608406,
         28.237613260746002,
         28.31060752272606,
         28.75168663263321,
         28.123474657535553,
         28.692451983690262,
         28.814185917377472,
         28.05708819627762,
         28.598271310329437,
         28.704695641994476,
         28.61334639787674,
         28.506092846393585,
         28.58469396829605,
         28.576004415750504,
         27.89523446559906,
         28.651531398296356,
         28.133405059576035
        ],
        [
         4.253897084065123,
         4.254005941544484,
         4.262484387024132,
         4.2370440522104,
         4.224076093733613,
         4.259116622872927,
         4.278568391802736,
         4.241295666963622,
         4.2658809777934925,
         4.210283283315322,
         4.234546530052955,
         4.287287683813472,
         4.262528583122786,
         4.26056527724367,
         4.26250271912594,
         4.259287355317653,
         4.249426259547321,
         4.268215479350805,
         4.260248043535762,
         4.259464230199921,
         4.2818775960699815,
         4.264503184278501,
         4.257864701884534,
         4.261735551768318,
         4.249735411295567,
         4.255229823020373,
         4.257722184554471,
         4.264274904793367,
         4.282840885719111,
         4.269646886077955,
         4.268477174540369,
         4.245764938675259,
         4.253260126488661,
         4.297541883090323,
         4.294086861785138,
         4.251416593376697,
         4.239295246188635,
         4.25194716505405,
         4.2620047095628015,
         4.2722409931064345,
         4.29069500778897,
         4.347675290996368,
         4.2913427988819235,
         4.250619776272453,
         4.241093460419995,
         4.238584864544665,
         4.255178436611659,
         4.258967278790323,
         4.301046424880771,
         4.273851057322892,
         4.265090550338816,
         4.275197705391326,
         4.2921898087474295,
         4.245503410949622,
         4.2531589265060346,
         4.2466139869717505,
         4.2301951922793375,
         4.299141217217095,
         4.261874939827485,
         4.2541084443614805,
         4.27275034830832,
         4.220335152137887,
         4.29252019535397,
         4.257969467499558,
         4.270877958031644,
         4.284102058216357,
         4.293252147118145,
         4.2353926074860455,
         4.239090653052832,
         4.2435791638623686,
         4.253176347445015,
         4.2697503376903505,
         4.291652067368447,
         4.247189328246029,
         4.257620032764973,
         4.244631161092914,
         4.228968556091988,
         4.2364676376352275,
         4.25315872980686,
         4.259407719834647,
         4.300362182629429,
         4.227165464452034,
         4.24956325637027,
         4.24360785021613,
         4.232485692497326,
         4.235884836723092,
         4.282433693059978,
         4.210085914647033,
         4.274727554301834,
         4.279452755564519,
         4.222168261496406,
         4.263373992126611,
         4.274450398596595,
         4.279852467351995,
         4.230755317678703,
         4.264094662685016,
         4.256247317917066,
         4.225588709479688,
         4.277610114843923,
         4.229524679684719
        ]
       ],
       "encoder": "json",
       "name": "ABC_GAN_2 Metrics",
       "version": 1
      }
     },
     "metadata": {
      "scrapbook": {
       "data": true,
       "display": false,
       "name": "ABC_GAN_2 Metrics"
      }
     },
     "output_type": "display_data"
    },
    {
     "name": "stdout",
     "output_type": "stream",
     "text": [
      "MAE\n",
      "0.18521324799432382\n"
     ]
    }
   ],
   "source": [
    "ABC_GAN2_metrics=ABC_train_test2.test_generator(gen2,test_data,prior_model,variance,bias,\"1\",device)\n",
    "sb.glue(\"ABC_GAN_2 Metrics\",ABC_GAN2_metrics)\n",
    "\n",
    "print(\"MAE\")\n",
    "print(mean(ABC_GAN2_metrics[1]))"
   ]
  },
  {
   "cell_type": "code",
   "execution_count": 18,
   "id": "9f2f9ad4",
   "metadata": {
    "execution": {
     "iopub.execute_input": "2022-07-24T13:07:40.979573Z",
     "iopub.status.busy": "2022-07-24T13:07:40.979177Z",
     "iopub.status.idle": "2022-07-24T13:07:41.949149Z",
     "shell.execute_reply": "2022-07-24T13:07:41.946097Z"
    },
    "papermill": {
     "duration": 0.99014,
     "end_time": "2022-07-24T13:07:41.951785",
     "exception": false,
     "start_time": "2022-07-24T13:07:40.961645",
     "status": "completed"
    },
    "tags": []
   },
   "outputs": [
    {
     "data": {
      "image/png": "[encoded data removed]",
      "text/plain": [
       "<Figure size 432x288 with 1 Axes>"
      ]
     },
     "metadata": {
      "needs_background": "light"
     },
     "output_type": "display_data"
    },
    {
     "data": {
      "image/png": "[encoded data removed]",
      "text/plain": [
       "<Figure size 432x288 with 1 Axes>"
      ]
     },
     "metadata": {
      "needs_background": "light"
     },
     "output_type": "display_data"
    },
    {
     "data": {
      "image/png": "[encoded data removed]",
      "text/plain": [
       "<Figure size 432x288 with 1 Axes>"
      ]
     },
     "metadata": {
      "needs_background": "light"
     },
     "output_type": "display_data"
    },
    {
     "data": {
      "image/png": "[encoded data removed]",
      "text/plain": [
       "<Figure size 432x288 with 1 Axes>"
      ]
     },
     "metadata": {
      "needs_background": "light"
     },
     "output_type": "display_data"
    }
   ],
   "source": [
    "sanityChecks.discProbVsError(train_data,disc2,device)\n",
    "sanityChecks.discProbVsError(test_data,disc2,device)"
   ]
  },
  {
   "cell_type": "markdown",
   "id": "130f3a4d",
   "metadata": {
    "id": "130f3a4d",
    "papermill": {
     "duration": 0.017111,
     "end_time": "2022-07-24T13:07:41.984684",
     "exception": false,
     "start_time": "2022-07-24T13:07:41.967573",
     "status": "completed"
    },
    "tags": []
   },
   "source": [
    "# skipGAN Model"
   ]
  },
  {
   "cell_type": "code",
   "execution_count": 19,
   "id": "4e43dad1",
   "metadata": {
    "execution": {
     "iopub.execute_input": "2022-07-24T13:07:42.027914Z",
     "iopub.status.busy": "2022-07-24T13:07:42.027135Z",
     "iopub.status.idle": "2022-07-24T13:07:42.033214Z",
     "shell.execute_reply": "2022-07-24T13:07:42.031480Z"
    },
    "id": "4e43dad1",
    "papermill": {
     "duration": 0.032115,
     "end_time": "2022-07-24T13:07:42.035681",
     "exception": false,
     "start_time": "2022-07-24T13:07:42.003566",
     "status": "completed"
    },
    "tags": []
   },
   "outputs": [],
   "source": [
    "# #Generator\n",
    "# gen3 = network.GeneratorWithSkipConnection(n_features+1).to(device)\n",
    "# constraints=network.weightConstraint()\n",
    "# #Discriminator \n",
    "# disc3 = network.Discriminator(n_features+1).to(device)\n",
    "\n",
    "# criterion = torch.nn.BCELoss()\n",
    "# gen_opt = torch.optim.Adam(gen3.parameters(), lr=0.01, betas=(0.5, 0.999))\n",
    "# disc_opt = torch.optim.Adam(disc3.parameters(), lr=0.01, betas=(0.5, 0.999))\n"
   ]
  },
  {
   "cell_type": "markdown",
   "id": "020c7e7b",
   "metadata": {
    "tags": [
     "papermill-error-cell-tag"
    ]
   },
   "source": [
    "<span id=\"papermill-error-cell\" style=\"color:red; font-family:Helvetica Neue, Helvetica, Arial, sans-serif; font-size:2em;\">Execution using papermill encountered an exception here and stopped:</span>"
   ]
  },
  {
   "cell_type": "code",
   "execution_count": 20,
   "id": "26acbc37",
   "metadata": {
    "execution": {
     "iopub.execute_input": "2022-07-24T13:07:42.077806Z",
     "iopub.status.busy": "2022-07-24T13:07:42.077322Z",
     "iopub.status.idle": "2022-07-24T13:07:43.286106Z",
     "shell.execute_reply": "2022-07-24T13:07:43.282227Z"
    },
    "id": "26acbc37",
    "papermill": {
     "duration": 1.249581,
     "end_time": "2022-07-24T13:07:43.305919",
     "exception": true,
     "start_time": "2022-07-24T13:07:42.056338",
     "status": "failed"
    },
    "tags": []
   },
   "outputs": [
    {
     "ename": "NameError",
     "evalue": "name 'disc3' is not defined",
     "output_type": "error",
     "traceback": [
      "\u001b[0;31m---------------------------------------------------------------------------\u001b[0m",
      "\u001b[0;31mNameError\u001b[0m                                 Traceback (most recent call last)",
      "Input \u001b[0;32mIn [20]\u001b[0m, in \u001b[0;36m<cell line: 1>\u001b[0;34m()\u001b[0m\n\u001b[0;32m----> 1\u001b[0m ABC_train_test2\u001b[38;5;241m.\u001b[39mtraining_GAN_skip_connection(\u001b[43mdisc3\u001b[49m,gen3,disc_opt,gen_opt,train_data,batch_size,n_epochs,criterion,prior_model,variance,bias,device)\n",
      "\u001b[0;31mNameError\u001b[0m: name 'disc3' is not defined"
     ]
    }
   ],
   "source": [
    "ABC_train_test2.training_GAN_skip_connection(disc3,gen3,disc_opt,gen_opt,train_data,batch_size,n_epochs,criterion,prior_model,variance,bias,device)"
   ]
  },
  {
   "cell_type": "code",
   "execution_count": null,
   "id": "c5e0717b",
   "metadata": {
    "id": "c5e0717b",
    "papermill": {
     "duration": null,
     "end_time": null,
     "exception": null,
     "start_time": null,
     "status": "pending"
    },
    "tags": []
   },
   "outputs": [],
   "source": [
    "# ABC_GAN3_metrics=ABC_train_test2.test_generator(gen3,test_data,prior_model,variance,bias,\"3\",device)\n",
    "# sb.glue(\"ABC_GAN_3 Metrics\",ABC_GAN3_metrics)\n",
    "\n",
    "# print(\"MAE\")\n",
    "# print(mean(ABC_GAN3_metrics[1]))"
   ]
  },
  {
   "cell_type": "code",
   "execution_count": null,
   "id": "c8e46b48",
   "metadata": {
    "id": "c8e46b48",
    "papermill": {
     "duration": null,
     "end_time": null,
     "exception": null,
     "start_time": null,
     "status": "pending"
    },
    "tags": []
   },
   "outputs": [],
   "source": [
    "# sanityChecks.discProbVsError(train_data,disc3,device)\n",
    "# sanityChecks.discProbVsError(test_data,disc3,device)"
   ]
  },
  {
   "cell_type": "markdown",
   "id": "f23b9b5e",
   "metadata": {
    "id": "130f3a4d",
    "papermill": {
     "duration": null,
     "end_time": null,
     "exception": null,
     "start_time": null,
     "status": "pending"
    },
    "tags": []
   },
   "source": [
    "# skipGAN Model with TabNet Generator"
   ]
  },
  {
   "cell_type": "code",
   "execution_count": null,
   "id": "2b5f2684",
   "metadata": {
    "id": "4e43dad1",
    "papermill": {
     "duration": null,
     "end_time": null,
     "exception": null,
     "start_time": null,
     "status": "pending"
    },
    "tags": []
   },
   "outputs": [],
   "source": [
    "# #Generator\n",
    "# gen4 = network.GeneratorTabnetskipConnection(n_features+1).to(device)\n",
    "# constraints=network.weightConstraint()\n",
    "# #Discriminator \n",
    "# disc4 = network.Discriminator(n_features+1).to(device)\n",
    "\n",
    "# criterion = torch.nn.BCELoss()\n",
    "# gen_opt = torch.optim.Adam(gen4.parameters(), lr=0.01, betas=(0.5, 0.999))\n",
    "# disc_opt = torch.optim.Adam(disc4.parameters(), lr=0.01, betas=(0.5, 0.999))\n"
   ]
  },
  {
   "cell_type": "code",
   "execution_count": null,
   "id": "f3b20bde",
   "metadata": {
    "id": "26acbc37",
    "papermill": {
     "duration": null,
     "end_time": null,
     "exception": null,
     "start_time": null,
     "status": "pending"
    },
    "tags": []
   },
   "outputs": [],
   "source": [
    "# ABC_train_test2.training_GAN_skip_connection(disc4,gen4,disc_opt,gen_opt,train_data,batch_size,n_epochs,criterion,prior_model,variance,bias,device)"
   ]
  },
  {
   "cell_type": "code",
   "execution_count": null,
   "id": "999e729b",
   "metadata": {
    "id": "c5e0717b",
    "papermill": {
     "duration": null,
     "end_time": null,
     "exception": null,
     "start_time": null,
     "status": "pending"
    },
    "tags": []
   },
   "outputs": [],
   "source": [
    "# ABC_GAN4_metrics=ABC_train_test2.test_generator(gen4,test_data,prior_model,variance,bias,\"3\",device)\n",
    "# sb.glue(\"ABC_GAN_4 Metrics\",ABC_GAN4_metrics)\n",
    "\n",
    "# print(\"MAE\")\n",
    "# print(mean(ABC_GAN4_metrics[1]))"
   ]
  },
  {
   "cell_type": "code",
   "execution_count": null,
   "id": "85b35198",
   "metadata": {
    "id": "c8e46b48",
    "papermill": {
     "duration": null,
     "end_time": null,
     "exception": null,
     "start_time": null,
     "status": "pending"
    },
    "tags": []
   },
   "outputs": [],
   "source": [
    "# sanityChecks.discProbVsError(train_data,disc4,device)\n",
    "# sanityChecks.discProbVsError(test_data,disc4,device)"
   ]
  },
  {
   "cell_type": "markdown",
   "id": "a5bd74c3",
   "metadata": {
    "id": "a5bd74c3",
    "papermill": {
     "duration": null,
     "end_time": null,
     "exception": null,
     "start_time": null,
     "status": "pending"
    },
    "tags": []
   },
   "source": [
    "## Skip Connection Model Analysis - ABC-GAN "
   ]
  },
  {
   "cell_type": "markdown",
   "id": "5744a8bf",
   "metadata": {
    "id": "5744a8bf",
    "papermill": {
     "duration": null,
     "end_time": null,
     "exception": null,
     "start_time": null,
     "status": "pending"
    },
    "tags": []
   },
   "source": [
    "### Weight Analysis \n",
    "\n",
    "Study the weights of the skip connection layer\n",
    "\n",
    "Equation of the skip connection is \n",
    "\n",
    "$output = y_{gan} * w + y_{abc} * (1-w)$"
   ]
  },
  {
   "cell_type": "code",
   "execution_count": null,
   "id": "52c31dea",
   "metadata": {
    "id": "52c31dea",
    "papermill": {
     "duration": null,
     "end_time": null,
     "exception": null,
     "start_time": null,
     "status": "pending"
    },
    "tags": []
   },
   "outputs": [],
   "source": [
    "# print(\"Weight of the node at skip connection\")\n",
    "# for name,param in gen3.named_parameters():\n",
    "#     if(name == \"skipNode.weight\"):\n",
    "#         print(param)\n",
    "#         sb.glue(\"Skip Connection Weight\",param.item())"
   ]
  },
  {
   "cell_type": "markdown",
   "id": "9e2f1952",
   "metadata": {
    "id": "a5bd74c3",
    "papermill": {
     "duration": null,
     "end_time": null,
     "exception": null,
     "start_time": null,
     "status": "pending"
    },
    "tags": []
   },
   "source": [
    "## skipGAN Model Analysis (TabNet Generator) "
   ]
  },
  {
   "cell_type": "markdown",
   "id": "24b447e1",
   "metadata": {
    "id": "5744a8bf",
    "papermill": {
     "duration": null,
     "end_time": null,
     "exception": null,
     "start_time": null,
     "status": "pending"
    },
    "tags": []
   },
   "source": [
    "### Weight Analysis \n",
    "\n",
    "Study the weights of the skip connection layer\n",
    "\n",
    "Equation of the skip connection is \n",
    "\n",
    "$output = y_{gan} * w + y_{abc} * (1-w)$"
   ]
  },
  {
   "cell_type": "code",
   "execution_count": null,
   "id": "47277feb",
   "metadata": {
    "id": "52c31dea",
    "papermill": {
     "duration": null,
     "end_time": null,
     "exception": null,
     "start_time": null,
     "status": "pending"
    },
    "tags": []
   },
   "outputs": [],
   "source": [
    "# print(\"Weight of the node at skip connection\")\n",
    "# for name,param in gen4.named_parameters():\n",
    "#     if(name == \"skipNode.weight\"):\n",
    "#         print(param)\n",
    "#         sb.glue(\"Skip Connection Weight\",param.item())"
   ]
  }
 ],
 "metadata": {
  "colab": {
   "collapsed_sections": [],
   "name": "ABC_GAN_Model-Catboost_Pre-gen.ipynb",
   "provenance": []
  },
  "interpreter": {
   "hash": "31f2aee4e71d21fbe5cf8b01ff0e069b9275f58929596ceb00d14d90e3e16cd6"
  },
  "kernelspec": {
   "display_name": "Python 3 (ipykernel)",
   "language": "python",
   "name": "python3"
  },
  "language_info": {
   "codemirror_mode": {
    "name": "ipython",
    "version": 3
   },
   "file_extension": ".py",
   "mimetype": "text/x-python",
   "name": "python",
   "nbconvert_exporter": "python",
   "pygments_lexer": "ipython3",
   "version": "3.8.13"
  },
  "papermill": {
   "default_parameters": {},
   "duration": 261.906503,
   "end_time": "2022-07-24T13:07:44.284651",
   "environment_variables": {},
   "exception": true,
   "input_path": "ABC_GAN-Catboost.ipynb",
   "output_path": "./ABC_GAN_Catboost/ABC-GAN_output_3_4.ipynb",
   "parameters": {
    "bias": 0.1,
    "variance": 0.1
   },
   "start_time": "2022-07-24T13:03:22.378148",
   "version": "2.3.3"
  }
 },
 "nbformat": 4,
 "nbformat_minor": 5
}