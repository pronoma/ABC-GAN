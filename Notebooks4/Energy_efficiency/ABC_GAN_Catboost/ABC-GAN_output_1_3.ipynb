{
 "cells": [
  {
   "cell_type": "markdown",
   "id": "622780e6",
   "metadata": {
    "id": "622780e6",
    "papermill": {
     "duration": 0.007278,
     "end_time": "2022-07-24T16:22:20.614268",
     "exception": false,
     "start_time": "2022-07-24T16:22:20.606990",
     "status": "completed"
    },
    "tags": []
   },
   "source": [
    "## Import Libraries "
   ]
  },
  {
   "cell_type": "code",
   "execution_count": 1,
   "id": "a62397e3",
   "metadata": {
    "execution": {
     "iopub.execute_input": "2022-07-24T16:22:20.630934Z",
     "iopub.status.busy": "2022-07-24T16:22:20.630129Z",
     "iopub.status.idle": "2022-07-24T16:22:20.657696Z",
     "shell.execute_reply": "2022-07-24T16:22:20.652000Z"
    },
    "id": "a62397e3",
    "papermill": {
     "duration": 0.040508,
     "end_time": "2022-07-24T16:22:20.661422",
     "exception": false,
     "start_time": "2022-07-24T16:22:20.620914",
     "status": "completed"
    },
    "tags": []
   },
   "outputs": [],
   "source": [
    "import warnings\n",
    "import sys\n",
    "sys.path.insert(0, '../../src')\n",
    "warnings.filterwarnings('ignore')"
   ]
  },
  {
   "cell_type": "code",
   "execution_count": 2,
   "id": "d6a4e155",
   "metadata": {
    "execution": {
     "iopub.execute_input": "2022-07-24T16:22:20.686467Z",
     "iopub.status.busy": "2022-07-24T16:22:20.685235Z",
     "iopub.status.idle": "2022-07-24T16:22:29.997428Z",
     "shell.execute_reply": "2022-07-24T16:22:29.995508Z"
    },
    "id": "d6a4e155",
    "papermill": {
     "duration": 9.332767,
     "end_time": "2022-07-24T16:22:30.001609",
     "exception": false,
     "start_time": "2022-07-24T16:22:20.668842",
     "status": "completed"
    },
    "tags": []
   },
   "outputs": [],
   "source": [
    "import ABC_train_test2\n",
    "import energyefficiencyDataset\n",
    "import network\n",
    "import dataset\n",
    "import sanityChecks\n",
    "import torch \n",
    "import scrapbook as sb\n",
    "from statistics import mean \n",
    "import catboost as ctb \n",
    "from sklearn.model_selection import train_test_split\n",
    "from sklearn.metrics import mean_squared_error,mean_absolute_error\n",
    "import numpy as np"
   ]
  },
  {
   "cell_type": "markdown",
   "id": "2fa5b0f7",
   "metadata": {
    "id": "2fa5b0f7",
    "papermill": {
     "duration": 0.009914,
     "end_time": "2022-07-24T16:22:30.020146",
     "exception": false,
     "start_time": "2022-07-24T16:22:30.010232",
     "status": "completed"
    },
    "tags": []
   },
   "source": [
    "## Parameters "
   ]
  },
  {
   "cell_type": "code",
   "execution_count": 3,
   "id": "783186fb",
   "metadata": {
    "execution": {
     "iopub.execute_input": "2022-07-24T16:22:30.039798Z",
     "iopub.status.busy": "2022-07-24T16:22:30.038725Z",
     "iopub.status.idle": "2022-07-24T16:22:30.044671Z",
     "shell.execute_reply": "2022-07-24T16:22:30.043586Z"
    },
    "id": "783186fb",
    "papermill": {
     "duration": 0.019818,
     "end_time": "2022-07-24T16:22:30.047427",
     "exception": false,
     "start_time": "2022-07-24T16:22:30.027609",
     "status": "completed"
    },
    "tags": [
     "parameters"
    ]
   },
   "outputs": [],
   "source": [
    "variance = 1\n",
    "bias = 1 "
   ]
  },
  {
   "cell_type": "code",
   "execution_count": 4,
   "id": "408b64d4",
   "metadata": {
    "execution": {
     "iopub.execute_input": "2022-07-24T16:22:30.063452Z",
     "iopub.status.busy": "2022-07-24T16:22:30.063104Z",
     "iopub.status.idle": "2022-07-24T16:22:30.067715Z",
     "shell.execute_reply": "2022-07-24T16:22:30.066775Z"
    },
    "papermill": {
     "duration": 0.017259,
     "end_time": "2022-07-24T16:22:30.071821",
     "exception": false,
     "start_time": "2022-07-24T16:22:30.054562",
     "status": "completed"
    },
    "tags": [
     "injected-parameters"
    ]
   },
   "outputs": [],
   "source": [
    "# Parameters\n",
    "variance = 1\n",
    "bias = 0.1\n"
   ]
  },
  {
   "cell_type": "markdown",
   "id": "391cdbfd",
   "metadata": {
    "id": "391cdbfd",
    "papermill": {
     "duration": 0.007094,
     "end_time": "2022-07-24T16:22:30.087906",
     "exception": false,
     "start_time": "2022-07-24T16:22:30.080812",
     "status": "completed"
    },
    "tags": []
   },
   "source": [
    "## Dataset \n"
   ]
  },
  {
   "cell_type": "code",
   "execution_count": 5,
   "id": "5b51f161",
   "metadata": {
    "execution": {
     "iopub.execute_input": "2022-07-24T16:22:30.106835Z",
     "iopub.status.busy": "2022-07-24T16:22:30.105960Z",
     "iopub.status.idle": "2022-07-24T16:22:30.111579Z",
     "shell.execute_reply": "2022-07-24T16:22:30.110692Z"
    },
    "id": "5b51f161",
    "papermill": {
     "duration": 0.019591,
     "end_time": "2022-07-24T16:22:30.114306",
     "exception": false,
     "start_time": "2022-07-24T16:22:30.094715",
     "status": "completed"
    },
    "tags": []
   },
   "outputs": [],
   "source": [
    "#Parameters \n",
    "n_features = 8\n",
    "n_samples= 768\n",
    "n_target = 1 "
   ]
  },
  {
   "cell_type": "code",
   "execution_count": 6,
   "id": "5d6eced4",
   "metadata": {
    "execution": {
     "iopub.execute_input": "2022-07-24T16:22:30.132735Z",
     "iopub.status.busy": "2022-07-24T16:22:30.132294Z",
     "iopub.status.idle": "2022-07-24T16:22:30.836424Z",
     "shell.execute_reply": "2022-07-24T16:22:30.834912Z"
    },
    "id": "5d6eced4",
    "papermill": {
     "duration": 0.717043,
     "end_time": "2022-07-24T16:22:30.839459",
     "exception": false,
     "start_time": "2022-07-24T16:22:30.122416",
     "status": "completed"
    },
    "tags": []
   },
   "outputs": [
    {
     "name": "stdout",
     "output_type": "stream",
     "text": [
      "     X1     X2     X3      X4   X5  X6   X7  X8     Y1     Y2\n",
      "0  0.98  514.5  294.0  110.25  7.0   2  0.0   0  15.55  21.33\n",
      "1  0.98  514.5  294.0  110.25  7.0   3  0.0   0  15.55  21.33\n",
      "2  0.98  514.5  294.0  110.25  7.0   4  0.0   0  15.55  21.33\n",
      "3  0.98  514.5  294.0  110.25  7.0   5  0.0   0  15.55  21.33\n",
      "4  0.90  563.5  318.5  122.50  7.0   2  0.0   0  20.84  28.28\n"
     ]
    }
   ],
   "source": [
    "X,Y = energyefficiencyDataset.energy_data()"
   ]
  },
  {
   "cell_type": "code",
   "execution_count": 7,
   "id": "fe007438",
   "metadata": {
    "execution": {
     "iopub.execute_input": "2022-07-24T16:22:30.859287Z",
     "iopub.status.busy": "2022-07-24T16:22:30.857422Z",
     "iopub.status.idle": "2022-07-24T16:22:30.872317Z",
     "shell.execute_reply": "2022-07-24T16:22:30.870840Z"
    },
    "id": "fe007438",
    "papermill": {
     "duration": 0.03048,
     "end_time": "2022-07-24T16:22:30.878243",
     "exception": false,
     "start_time": "2022-07-24T16:22:30.847763",
     "status": "completed"
    },
    "tags": []
   },
   "outputs": [],
   "source": [
    "#Train test split for dataset \n",
    "X_train,X_test,Y_train,Y_test = train_test_split(X,Y,test_size = 0.2)\n",
    "train_data = dataset.CustomDataset(X_train,Y_train)\n",
    "test_data = dataset.CustomDataset(X_test,Y_test)\n"
   ]
  },
  {
   "cell_type": "markdown",
   "id": "a9a1af34",
   "metadata": {
    "id": "a9a1af34",
    "papermill": {
     "duration": 0.007829,
     "end_time": "2022-07-24T16:22:30.894429",
     "exception": false,
     "start_time": "2022-07-24T16:22:30.886600",
     "status": "completed"
    },
    "tags": []
   },
   "source": [
    "## Training Parameters "
   ]
  },
  {
   "cell_type": "code",
   "execution_count": 8,
   "id": "952b7fc8",
   "metadata": {
    "execution": {
     "iopub.execute_input": "2022-07-24T16:22:30.916952Z",
     "iopub.status.busy": "2022-07-24T16:22:30.915589Z",
     "iopub.status.idle": "2022-07-24T16:22:30.930088Z",
     "shell.execute_reply": "2022-07-24T16:22:30.927150Z"
    },
    "id": "952b7fc8",
    "papermill": {
     "duration": 0.030844,
     "end_time": "2022-07-24T16:22:30.932979",
     "exception": false,
     "start_time": "2022-07-24T16:22:30.902135",
     "status": "completed"
    },
    "tags": []
   },
   "outputs": [],
   "source": [
    "batch_size = 32\n",
    "n_epochs = 1000\n",
    "#Select the device \n",
    "device = torch.device('cuda' if torch.cuda.is_available() else 'cpu')"
   ]
  },
  {
   "cell_type": "markdown",
   "id": "a95e1600",
   "metadata": {
    "id": "a95e1600",
    "papermill": {
     "duration": 0.011304,
     "end_time": "2022-07-24T16:22:30.951718",
     "exception": false,
     "start_time": "2022-07-24T16:22:30.940414",
     "status": "completed"
    },
    "tags": []
   },
   "source": [
    "# ABC Pre-generator Model \n",
    "\n",
    "1. The catboost model is used as a pre-generator model for the ABC-GAN. \n",
    "2. The model is first trained on the entire dataset \n",
    "3. It generats X,Y pairs and we add some Gaussian noise with mean 0 and variance 1 to it which is then feed as input to the generator.\n"
   ]
  },
  {
   "cell_type": "code",
   "execution_count": 9,
   "id": "ff8ce7bd",
   "metadata": {
    "execution": {
     "iopub.execute_input": "2022-07-24T16:22:30.973162Z",
     "iopub.status.busy": "2022-07-24T16:22:30.972569Z",
     "iopub.status.idle": "2022-07-24T16:22:32.167736Z",
     "shell.execute_reply": "2022-07-24T16:22:32.166080Z"
    },
    "id": "ff8ce7bd",
    "papermill": {
     "duration": 1.208961,
     "end_time": "2022-07-24T16:22:32.170911",
     "exception": false,
     "start_time": "2022-07-24T16:22:30.961950",
     "status": "completed"
    },
    "tags": []
   },
   "outputs": [
    {
     "name": "stdout",
     "output_type": "stream",
     "text": [
      "Learning rate set to 0.037906\n"
     ]
    },
    {
     "name": "stdout",
     "output_type": "stream",
     "text": [
      "0:\tlearn: 0.9748275\ttotal: 54.4ms\tremaining: 54.4s\n",
      "1:\tlearn: 0.9422568\ttotal: 55.2ms\tremaining: 27.5s\n",
      "2:\tlearn: 0.9145791\ttotal: 56ms\tremaining: 18.6s\n",
      "3:\tlearn: 0.8835489\ttotal: 57.7ms\tremaining: 14.4s\n",
      "4:\tlearn: 0.8584422\ttotal: 57.9ms\tremaining: 11.5s\n",
      "5:\tlearn: 0.8304544\ttotal: 59.9ms\tremaining: 9.92s\n",
      "6:\tlearn: 0.8076761\ttotal: 62.7ms\tremaining: 8.9s\n",
      "7:\tlearn: 0.7843459\ttotal: 66.2ms\tremaining: 8.21s\n",
      "8:\tlearn: 0.7586559\ttotal: 83.1ms\tremaining: 9.15s\n",
      "9:\tlearn: 0.7343236\ttotal: 89ms\tremaining: 8.81s\n",
      "10:\tlearn: 0.7111384\ttotal: 90.8ms\tremaining: 8.16s\n",
      "11:\tlearn: 0.6908623\ttotal: 91.2ms\tremaining: 7.51s\n",
      "12:\tlearn: 0.6691165\ttotal: 94.1ms\tremaining: 7.14s\n",
      "13:\tlearn: 0.6479297\ttotal: 95.3ms\tremaining: 6.71s\n",
      "14:\tlearn: 0.6275655\ttotal: 95.7ms\tremaining: 6.29s\n",
      "15:\tlearn: 0.6090907\ttotal: 96.1ms\tremaining: 5.91s\n",
      "16:\tlearn: 0.5897391\ttotal: 96.6ms\tremaining: 5.58s\n",
      "17:\tlearn: 0.5725311\ttotal: 97.1ms\tremaining: 5.3s\n",
      "18:\tlearn: 0.5558770\ttotal: 98.9ms\tremaining: 5.11s\n",
      "19:\tlearn: 0.5401079\ttotal: 100ms\tremaining: 4.91s\n",
      "20:\tlearn: 0.5245572\ttotal: 101ms\tremaining: 4.7s\n",
      "21:\tlearn: 0.5087280\ttotal: 101ms\tremaining: 4.49s\n",
      "22:\tlearn: 0.4932374\ttotal: 103ms\tremaining: 4.39s\n",
      "23:\tlearn: 0.4776396\ttotal: 104ms\tremaining: 4.23s\n",
      "24:\tlearn: 0.4635303\ttotal: 104ms\tremaining: 4.07s\n",
      "25:\tlearn: 0.4487479\ttotal: 106ms\tremaining: 3.97s\n",
      "26:\tlearn: 0.4355721\ttotal: 107ms\tremaining: 3.85s\n",
      "27:\tlearn: 0.4225048\ttotal: 108ms\tremaining: 3.75s\n",
      "28:\tlearn: 0.4092308\ttotal: 109ms\tremaining: 3.65s\n",
      "29:\tlearn: 0.3981950\ttotal: 110ms\tremaining: 3.54s\n",
      "30:\tlearn: 0.3884379\ttotal: 111ms\tremaining: 3.48s\n",
      "31:\tlearn: 0.3761778\ttotal: 112ms\tremaining: 3.4s\n",
      "32:\tlearn: 0.3655423\ttotal: 113ms\tremaining: 3.31s\n",
      "33:\tlearn: 0.3541909\ttotal: 114ms\tremaining: 3.25s\n",
      "34:\tlearn: 0.3444442\ttotal: 115ms\tremaining: 3.17s\n",
      "35:\tlearn: 0.3346652\ttotal: 116ms\tremaining: 3.11s\n",
      "36:\tlearn: 0.3259420\ttotal: 117ms\tremaining: 3.03s\n",
      "37:\tlearn: 0.3170946\ttotal: 117ms\tremaining: 2.96s\n",
      "38:\tlearn: 0.3082804\ttotal: 117ms\tremaining: 2.89s\n",
      "39:\tlearn: 0.2997618\ttotal: 118ms\tremaining: 2.83s\n",
      "40:\tlearn: 0.2917611\ttotal: 118ms\tremaining: 2.77s\n",
      "41:\tlearn: 0.2834182\ttotal: 119ms\tremaining: 2.71s\n",
      "42:\tlearn: 0.2765825\ttotal: 119ms\tremaining: 2.66s\n",
      "43:\tlearn: 0.2694247\ttotal: 120ms\tremaining: 2.6s\n",
      "44:\tlearn: 0.2615533\ttotal: 120ms\tremaining: 2.56s\n",
      "45:\tlearn: 0.2554616\ttotal: 121ms\tremaining: 2.5s\n",
      "46:\tlearn: 0.2491780\ttotal: 121ms\tremaining: 2.46s\n",
      "47:\tlearn: 0.2437895\ttotal: 122ms\tremaining: 2.41s\n",
      "48:\tlearn: 0.2380763\ttotal: 122ms\tremaining: 2.38s\n",
      "49:\tlearn: 0.2320072\ttotal: 123ms\tremaining: 2.33s\n",
      "50:\tlearn: 0.2259752\ttotal: 124ms\tremaining: 2.3s\n",
      "51:\tlearn: 0.2206543\ttotal: 124ms\tremaining: 2.26s\n",
      "52:\tlearn: 0.2147857\ttotal: 124ms\tremaining: 2.22s\n",
      "53:\tlearn: 0.2105045\ttotal: 125ms\tremaining: 2.19s\n",
      "54:\tlearn: 0.2044492\ttotal: 126ms\tremaining: 2.16s\n",
      "55:\tlearn: 0.1988904\ttotal: 126ms\tremaining: 2.13s\n",
      "56:\tlearn: 0.1936023\ttotal: 127ms\tremaining: 2.1s\n",
      "57:\tlearn: 0.1886723\ttotal: 127ms\tremaining: 2.07s\n",
      "58:\tlearn: 0.1837095\ttotal: 128ms\tremaining: 2.04s\n",
      "59:\tlearn: 0.1789581\ttotal: 128ms\tremaining: 2.01s\n",
      "60:\tlearn: 0.1745484\ttotal: 129ms\tremaining: 1.99s\n",
      "61:\tlearn: 0.1708476\ttotal: 130ms\tremaining: 1.97s\n",
      "62:\tlearn: 0.1664241\ttotal: 131ms\tremaining: 1.95s\n",
      "63:\tlearn: 0.1629594\ttotal: 131ms\tremaining: 1.92s\n",
      "64:\tlearn: 0.1586176\ttotal: 132ms\tremaining: 1.9s\n",
      "65:\tlearn: 0.1560160\ttotal: 133ms\tremaining: 1.88s\n",
      "66:\tlearn: 0.1534665\ttotal: 133ms\tremaining: 1.85s\n",
      "67:\tlearn: 0.1498092\ttotal: 133ms\tremaining: 1.83s\n",
      "68:\tlearn: 0.1470803\ttotal: 134ms\tremaining: 1.81s\n",
      "69:\tlearn: 0.1434257\ttotal: 135ms\tremaining: 1.79s\n",
      "70:\tlearn: 0.1400954\ttotal: 136ms\tremaining: 1.77s\n",
      "71:\tlearn: 0.1375875\ttotal: 136ms\tremaining: 1.75s\n",
      "72:\tlearn: 0.1351093\ttotal: 136ms\tremaining: 1.73s\n",
      "73:\tlearn: 0.1326540\ttotal: 137ms\tremaining: 1.71s\n",
      "74:\tlearn: 0.1301380\ttotal: 137ms\tremaining: 1.69s\n",
      "75:\tlearn: 0.1280930\ttotal: 138ms\tremaining: 1.68s\n",
      "76:\tlearn: 0.1253245\ttotal: 138ms\tremaining: 1.66s\n",
      "77:\tlearn: 0.1225122\ttotal: 139ms\tremaining: 1.64s\n",
      "78:\tlearn: 0.1197458\ttotal: 139ms\tremaining: 1.62s\n",
      "79:\tlearn: 0.1168759\ttotal: 140ms\tremaining: 1.61s\n",
      "80:\tlearn: 0.1146980\ttotal: 140ms\tremaining: 1.59s\n",
      "81:\tlearn: 0.1129298\ttotal: 141ms\tremaining: 1.58s\n",
      "82:\tlearn: 0.1107831\ttotal: 141ms\tremaining: 1.56s\n",
      "83:\tlearn: 0.1085049\ttotal: 142ms\tremaining: 1.55s\n",
      "84:\tlearn: 0.1062134\ttotal: 142ms\tremaining: 1.53s\n",
      "85:\tlearn: 0.1042982\ttotal: 143ms\tremaining: 1.52s\n",
      "86:\tlearn: 0.1028633\ttotal: 143ms\tremaining: 1.5s\n",
      "87:\tlearn: 0.1009337\ttotal: 144ms\tremaining: 1.49s\n",
      "88:\tlearn: 0.0988066\ttotal: 144ms\tremaining: 1.48s\n",
      "89:\tlearn: 0.0975957\ttotal: 145ms\tremaining: 1.46s\n",
      "90:\tlearn: 0.0965863\ttotal: 145ms\tremaining: 1.45s\n",
      "91:\tlearn: 0.0955984\ttotal: 146ms\tremaining: 1.44s\n",
      "92:\tlearn: 0.0937281\ttotal: 146ms\tremaining: 1.42s\n"
     ]
    },
    {
     "name": "stdout",
     "output_type": "stream",
     "text": [
      "93:\tlearn: 0.0923227\ttotal: 153ms\tremaining: 1.48s\n",
      "94:\tlearn: 0.0901632\ttotal: 154ms\tremaining: 1.47s\n",
      "95:\tlearn: 0.0887333\ttotal: 154ms\tremaining: 1.45s\n",
      "96:\tlearn: 0.0867964\ttotal: 155ms\tremaining: 1.45s\n",
      "97:\tlearn: 0.0857003\ttotal: 156ms\tremaining: 1.43s\n",
      "98:\tlearn: 0.0842384\ttotal: 156ms\tremaining: 1.42s\n",
      "99:\tlearn: 0.0830761\ttotal: 157ms\tremaining: 1.41s\n",
      "100:\tlearn: 0.0816291\ttotal: 157ms\tremaining: 1.4s\n",
      "101:\tlearn: 0.0805299\ttotal: 158ms\tremaining: 1.39s\n",
      "102:\tlearn: 0.0789185\ttotal: 158ms\tremaining: 1.38s\n",
      "103:\tlearn: 0.0777563\ttotal: 159ms\tremaining: 1.37s\n",
      "104:\tlearn: 0.0769088\ttotal: 159ms\tremaining: 1.36s\n",
      "105:\tlearn: 0.0761250\ttotal: 160ms\tremaining: 1.35s\n",
      "106:\tlearn: 0.0746736\ttotal: 160ms\tremaining: 1.34s\n",
      "107:\tlearn: 0.0740638\ttotal: 161ms\tremaining: 1.33s\n",
      "108:\tlearn: 0.0730586\ttotal: 161ms\tremaining: 1.32s\n",
      "109:\tlearn: 0.0719734\ttotal: 162ms\tremaining: 1.31s\n",
      "110:\tlearn: 0.0709002\ttotal: 162ms\tremaining: 1.3s\n",
      "111:\tlearn: 0.0699337\ttotal: 163ms\tremaining: 1.29s\n",
      "112:\tlearn: 0.0687672\ttotal: 163ms\tremaining: 1.28s\n",
      "113:\tlearn: 0.0677345\ttotal: 163ms\tremaining: 1.27s\n",
      "114:\tlearn: 0.0670441\ttotal: 164ms\tremaining: 1.26s\n",
      "115:\tlearn: 0.0661513\ttotal: 165ms\tremaining: 1.25s\n",
      "116:\tlearn: 0.0653520\ttotal: 166ms\tremaining: 1.25s\n",
      "117:\tlearn: 0.0647179\ttotal: 167ms\tremaining: 1.25s\n",
      "118:\tlearn: 0.0638261\ttotal: 167ms\tremaining: 1.24s\n",
      "119:\tlearn: 0.0630802\ttotal: 168ms\tremaining: 1.23s\n",
      "120:\tlearn: 0.0627048\ttotal: 169ms\tremaining: 1.23s\n",
      "121:\tlearn: 0.0619895\ttotal: 170ms\tremaining: 1.22s\n",
      "122:\tlearn: 0.0613859\ttotal: 171ms\tremaining: 1.22s\n",
      "123:\tlearn: 0.0606065\ttotal: 172ms\tremaining: 1.21s\n",
      "124:\tlearn: 0.0599515\ttotal: 173ms\tremaining: 1.21s\n",
      "125:\tlearn: 0.0595021\ttotal: 173ms\tremaining: 1.2s\n",
      "126:\tlearn: 0.0591168\ttotal: 174ms\tremaining: 1.2s\n",
      "127:\tlearn: 0.0585975\ttotal: 175ms\tremaining: 1.19s\n",
      "128:\tlearn: 0.0581251\ttotal: 175ms\tremaining: 1.18s\n",
      "129:\tlearn: 0.0575474\ttotal: 176ms\tremaining: 1.18s\n",
      "130:\tlearn: 0.0569925\ttotal: 177ms\tremaining: 1.17s\n",
      "131:\tlearn: 0.0566671\ttotal: 177ms\tremaining: 1.17s\n",
      "132:\tlearn: 0.0562115\ttotal: 178ms\tremaining: 1.16s\n",
      "133:\tlearn: 0.0559211\ttotal: 179ms\tremaining: 1.15s\n",
      "134:\tlearn: 0.0554427\ttotal: 179ms\tremaining: 1.15s\n",
      "135:\tlearn: 0.0550578\ttotal: 179ms\tremaining: 1.14s\n",
      "136:\tlearn: 0.0546600\ttotal: 180ms\tremaining: 1.13s\n",
      "137:\tlearn: 0.0541902\ttotal: 180ms\tremaining: 1.13s\n",
      "138:\tlearn: 0.0537773\ttotal: 181ms\tremaining: 1.12s\n",
      "139:\tlearn: 0.0532992\ttotal: 181ms\tremaining: 1.11s\n",
      "140:\tlearn: 0.0528357\ttotal: 182ms\tremaining: 1.11s\n",
      "141:\tlearn: 0.0524443\ttotal: 182ms\tremaining: 1.1s\n",
      "142:\tlearn: 0.0521956\ttotal: 183ms\tremaining: 1.09s\n",
      "143:\tlearn: 0.0518269\ttotal: 184ms\tremaining: 1.09s\n",
      "144:\tlearn: 0.0516024\ttotal: 184ms\tremaining: 1.08s\n",
      "145:\tlearn: 0.0512812\ttotal: 184ms\tremaining: 1.08s\n",
      "146:\tlearn: 0.0509946\ttotal: 185ms\tremaining: 1.07s\n",
      "147:\tlearn: 0.0507482\ttotal: 185ms\tremaining: 1.07s\n",
      "148:\tlearn: 0.0503469\ttotal: 186ms\tremaining: 1.06s\n",
      "149:\tlearn: 0.0501640\ttotal: 186ms\tremaining: 1.05s\n",
      "150:\tlearn: 0.0498868\ttotal: 187ms\tremaining: 1.05s\n",
      "151:\tlearn: 0.0495846\ttotal: 187ms\tremaining: 1.04s\n",
      "152:\tlearn: 0.0493733\ttotal: 188ms\tremaining: 1.04s\n",
      "153:\tlearn: 0.0490905\ttotal: 189ms\tremaining: 1.04s\n",
      "154:\tlearn: 0.0487999\ttotal: 191ms\tremaining: 1.04s\n",
      "155:\tlearn: 0.0485635\ttotal: 191ms\tremaining: 1.03s\n",
      "156:\tlearn: 0.0483510\ttotal: 192ms\tremaining: 1.03s\n",
      "157:\tlearn: 0.0481217\ttotal: 193ms\tremaining: 1.02s\n"
     ]
    },
    {
     "name": "stdout",
     "output_type": "stream",
     "text": [
      "158:\tlearn: 0.0478835\ttotal: 193ms\tremaining: 1.02s\n",
      "159:\tlearn: 0.0476443\ttotal: 193ms\tremaining: 1.01s\n",
      "160:\tlearn: 0.0473814\ttotal: 194ms\tremaining: 1.01s\n",
      "161:\tlearn: 0.0471638\ttotal: 194ms\tremaining: 1s\n",
      "162:\tlearn: 0.0469498\ttotal: 195ms\tremaining: 1s\n",
      "163:\tlearn: 0.0467617\ttotal: 195ms\tremaining: 995ms\n",
      "164:\tlearn: 0.0466165\ttotal: 196ms\tremaining: 992ms\n",
      "165:\tlearn: 0.0463942\ttotal: 197ms\tremaining: 988ms\n",
      "166:\tlearn: 0.0462599\ttotal: 197ms\tremaining: 983ms\n",
      "167:\tlearn: 0.0460519\ttotal: 198ms\tremaining: 979ms\n",
      "168:\tlearn: 0.0458884\ttotal: 198ms\tremaining: 975ms\n",
      "169:\tlearn: 0.0456958\ttotal: 199ms\tremaining: 970ms\n",
      "170:\tlearn: 0.0455396\ttotal: 199ms\tremaining: 966ms\n",
      "171:\tlearn: 0.0453531\ttotal: 200ms\tremaining: 961ms\n",
      "172:\tlearn: 0.0452332\ttotal: 200ms\tremaining: 957ms\n",
      "173:\tlearn: 0.0450939\ttotal: 201ms\tremaining: 953ms\n",
      "174:\tlearn: 0.0449391\ttotal: 201ms\tremaining: 949ms\n",
      "175:\tlearn: 0.0447591\ttotal: 202ms\tremaining: 945ms\n",
      "176:\tlearn: 0.0446611\ttotal: 203ms\tremaining: 942ms\n",
      "177:\tlearn: 0.0445099\ttotal: 203ms\tremaining: 939ms\n",
      "178:\tlearn: 0.0443650\ttotal: 204ms\tremaining: 936ms\n",
      "179:\tlearn: 0.0442199\ttotal: 205ms\tremaining: 932ms\n",
      "180:\tlearn: 0.0440432\ttotal: 205ms\tremaining: 929ms\n",
      "181:\tlearn: 0.0438546\ttotal: 206ms\tremaining: 924ms\n",
      "182:\tlearn: 0.0436923\ttotal: 206ms\tremaining: 921ms\n",
      "183:\tlearn: 0.0435960\ttotal: 207ms\tremaining: 917ms\n",
      "184:\tlearn: 0.0434699\ttotal: 207ms\tremaining: 914ms\n",
      "185:\tlearn: 0.0433053\ttotal: 208ms\tremaining: 912ms\n",
      "186:\tlearn: 0.0431500\ttotal: 209ms\tremaining: 909ms\n",
      "187:\tlearn: 0.0430538\ttotal: 210ms\tremaining: 906ms\n",
      "188:\tlearn: 0.0428945\ttotal: 210ms\tremaining: 903ms\n",
      "189:\tlearn: 0.0427413\ttotal: 211ms\tremaining: 899ms\n",
      "190:\tlearn: 0.0426188\ttotal: 212ms\tremaining: 896ms\n",
      "191:\tlearn: 0.0425091\ttotal: 212ms\tremaining: 893ms\n",
      "192:\tlearn: 0.0423459\ttotal: 213ms\tremaining: 889ms\n",
      "193:\tlearn: 0.0421157\ttotal: 213ms\tremaining: 886ms\n",
      "194:\tlearn: 0.0419985\ttotal: 214ms\tremaining: 883ms\n",
      "195:\tlearn: 0.0418713\ttotal: 214ms\tremaining: 880ms\n",
      "196:\tlearn: 0.0417015\ttotal: 215ms\tremaining: 876ms\n",
      "197:\tlearn: 0.0415939\ttotal: 215ms\tremaining: 873ms\n",
      "198:\tlearn: 0.0413635\ttotal: 216ms\tremaining: 870ms\n",
      "199:\tlearn: 0.0412756\ttotal: 217ms\tremaining: 866ms\n",
      "200:\tlearn: 0.0411356\ttotal: 217ms\tremaining: 863ms\n",
      "201:\tlearn: 0.0410365\ttotal: 218ms\tremaining: 860ms\n",
      "202:\tlearn: 0.0408780\ttotal: 218ms\tremaining: 856ms\n",
      "203:\tlearn: 0.0407748\ttotal: 219ms\tremaining: 853ms\n",
      "204:\tlearn: 0.0406514\ttotal: 219ms\tremaining: 850ms\n",
      "205:\tlearn: 0.0405615\ttotal: 220ms\tremaining: 847ms\n",
      "206:\tlearn: 0.0403977\ttotal: 220ms\tremaining: 844ms\n",
      "207:\tlearn: 0.0402625\ttotal: 221ms\tremaining: 842ms\n",
      "208:\tlearn: 0.0401794\ttotal: 222ms\tremaining: 839ms\n",
      "209:\tlearn: 0.0400687\ttotal: 222ms\tremaining: 836ms\n",
      "210:\tlearn: 0.0398401\ttotal: 223ms\tremaining: 833ms\n",
      "211:\tlearn: 0.0397182\ttotal: 223ms\tremaining: 829ms\n",
      "212:\tlearn: 0.0395762\ttotal: 224ms\tremaining: 827ms\n",
      "213:\tlearn: 0.0394919\ttotal: 224ms\tremaining: 823ms\n",
      "214:\tlearn: 0.0393617\ttotal: 225ms\tremaining: 821ms\n",
      "215:\tlearn: 0.0392753\ttotal: 225ms\tremaining: 818ms\n",
      "216:\tlearn: 0.0391754\ttotal: 226ms\tremaining: 815ms\n",
      "217:\tlearn: 0.0390409\ttotal: 226ms\tremaining: 812ms\n",
      "218:\tlearn: 0.0389450\ttotal: 227ms\tremaining: 809ms\n",
      "219:\tlearn: 0.0388261\ttotal: 227ms\tremaining: 806ms\n",
      "220:\tlearn: 0.0386661\ttotal: 228ms\tremaining: 803ms\n",
      "221:\tlearn: 0.0385982\ttotal: 228ms\tremaining: 801ms\n",
      "222:\tlearn: 0.0385288\ttotal: 229ms\tremaining: 797ms\n",
      "223:\tlearn: 0.0384157\ttotal: 229ms\tremaining: 793ms\n",
      "224:\tlearn: 0.0381527\ttotal: 229ms\tremaining: 790ms\n",
      "225:\tlearn: 0.0380843\ttotal: 230ms\tremaining: 786ms\n",
      "226:\tlearn: 0.0379681\ttotal: 230ms\tremaining: 783ms\n",
      "227:\tlearn: 0.0378545\ttotal: 231ms\tremaining: 781ms\n",
      "228:\tlearn: 0.0377855\ttotal: 231ms\tremaining: 779ms\n",
      "229:\tlearn: 0.0376970\ttotal: 232ms\tremaining: 776ms\n",
      "230:\tlearn: 0.0375004\ttotal: 232ms\tremaining: 773ms\n",
      "231:\tlearn: 0.0374294\ttotal: 233ms\tremaining: 771ms\n",
      "232:\tlearn: 0.0371983\ttotal: 233ms\tremaining: 768ms\n",
      "233:\tlearn: 0.0370728\ttotal: 234ms\tremaining: 765ms\n",
      "234:\tlearn: 0.0370085\ttotal: 234ms\tremaining: 762ms\n",
      "235:\tlearn: 0.0369463\ttotal: 234ms\tremaining: 759ms\n",
      "236:\tlearn: 0.0367302\ttotal: 235ms\tremaining: 756ms\n",
      "237:\tlearn: 0.0365351\ttotal: 235ms\tremaining: 754ms\n",
      "238:\tlearn: 0.0364347\ttotal: 236ms\tremaining: 751ms\n",
      "239:\tlearn: 0.0362705\ttotal: 236ms\tremaining: 749ms\n",
      "240:\tlearn: 0.0361802\ttotal: 237ms\tremaining: 746ms\n",
      "241:\tlearn: 0.0361182\ttotal: 237ms\tremaining: 743ms\n",
      "242:\tlearn: 0.0360065\ttotal: 238ms\tremaining: 741ms\n",
      "243:\tlearn: 0.0358908\ttotal: 238ms\tremaining: 739ms\n",
      "244:\tlearn: 0.0357766\ttotal: 239ms\tremaining: 736ms\n",
      "245:\tlearn: 0.0356674\ttotal: 239ms\tremaining: 734ms\n",
      "246:\tlearn: 0.0355795\ttotal: 240ms\tremaining: 732ms\n",
      "247:\tlearn: 0.0354123\ttotal: 240ms\tremaining: 729ms\n",
      "248:\tlearn: 0.0353051\ttotal: 241ms\tremaining: 727ms\n",
      "249:\tlearn: 0.0352141\ttotal: 241ms\tremaining: 724ms\n",
      "250:\tlearn: 0.0351371\ttotal: 242ms\tremaining: 722ms\n",
      "251:\tlearn: 0.0350461\ttotal: 242ms\tremaining: 720ms\n",
      "252:\tlearn: 0.0349659\ttotal: 243ms\tremaining: 717ms\n",
      "253:\tlearn: 0.0349134\ttotal: 244ms\tremaining: 715ms\n",
      "254:\tlearn: 0.0347979\ttotal: 244ms\tremaining: 713ms\n",
      "255:\tlearn: 0.0347516\ttotal: 245ms\tremaining: 711ms\n",
      "256:\tlearn: 0.0346484\ttotal: 245ms\tremaining: 708ms\n",
      "257:\tlearn: 0.0345634\ttotal: 246ms\tremaining: 706ms\n",
      "258:\tlearn: 0.0344788\ttotal: 246ms\tremaining: 704ms\n",
      "259:\tlearn: 0.0343766\ttotal: 247ms\tremaining: 702ms\n",
      "260:\tlearn: 0.0343324\ttotal: 247ms\tremaining: 700ms\n",
      "261:\tlearn: 0.0342540\ttotal: 248ms\tremaining: 698ms\n",
      "262:\tlearn: 0.0341760\ttotal: 248ms\tremaining: 696ms\n",
      "263:\tlearn: 0.0340979\ttotal: 249ms\tremaining: 694ms\n",
      "264:\tlearn: 0.0340224\ttotal: 249ms\tremaining: 692ms\n",
      "265:\tlearn: 0.0339424\ttotal: 250ms\tremaining: 689ms\n",
      "266:\tlearn: 0.0338592\ttotal: 250ms\tremaining: 687ms\n",
      "267:\tlearn: 0.0337889\ttotal: 251ms\tremaining: 685ms\n",
      "268:\tlearn: 0.0336257\ttotal: 251ms\tremaining: 683ms\n",
      "269:\tlearn: 0.0335312\ttotal: 252ms\tremaining: 681ms\n",
      "270:\tlearn: 0.0334582\ttotal: 252ms\tremaining: 679ms\n",
      "271:\tlearn: 0.0333921\ttotal: 253ms\tremaining: 677ms\n",
      "272:\tlearn: 0.0332208\ttotal: 253ms\tremaining: 675ms\n",
      "273:\tlearn: 0.0331377\ttotal: 254ms\tremaining: 672ms\n",
      "274:\tlearn: 0.0329910\ttotal: 254ms\tremaining: 670ms\n",
      "275:\tlearn: 0.0329128\ttotal: 255ms\tremaining: 668ms\n",
      "276:\tlearn: 0.0327754\ttotal: 255ms\tremaining: 666ms\n",
      "277:\tlearn: 0.0326529\ttotal: 256ms\tremaining: 664ms\n",
      "278:\tlearn: 0.0326004\ttotal: 256ms\tremaining: 662ms\n",
      "279:\tlearn: 0.0325087\ttotal: 257ms\tremaining: 660ms\n",
      "280:\tlearn: 0.0324755\ttotal: 257ms\tremaining: 658ms\n",
      "281:\tlearn: 0.0323550\ttotal: 258ms\tremaining: 656ms\n",
      "282:\tlearn: 0.0322525\ttotal: 258ms\tremaining: 654ms\n",
      "283:\tlearn: 0.0321771\ttotal: 259ms\tremaining: 652ms\n",
      "284:\tlearn: 0.0320919\ttotal: 259ms\tremaining: 650ms\n",
      "285:\tlearn: 0.0320255\ttotal: 260ms\tremaining: 649ms\n",
      "286:\tlearn: 0.0319456\ttotal: 260ms\tremaining: 647ms\n",
      "287:\tlearn: 0.0318602\ttotal: 261ms\tremaining: 644ms\n",
      "288:\tlearn: 0.0318229\ttotal: 261ms\tremaining: 642ms\n",
      "289:\tlearn: 0.0317471\ttotal: 261ms\tremaining: 639ms\n",
      "290:\tlearn: 0.0316110\ttotal: 261ms\tremaining: 637ms\n",
      "291:\tlearn: 0.0315393\ttotal: 262ms\tremaining: 635ms\n",
      "292:\tlearn: 0.0314692\ttotal: 262ms\tremaining: 633ms\n",
      "293:\tlearn: 0.0313990\ttotal: 262ms\tremaining: 630ms\n",
      "294:\tlearn: 0.0312543\ttotal: 263ms\tremaining: 628ms\n",
      "295:\tlearn: 0.0311968\ttotal: 263ms\tremaining: 626ms\n",
      "296:\tlearn: 0.0311394\ttotal: 264ms\tremaining: 625ms\n",
      "297:\tlearn: 0.0310856\ttotal: 265ms\tremaining: 623ms\n",
      "298:\tlearn: 0.0310437\ttotal: 265ms\tremaining: 621ms\n",
      "299:\tlearn: 0.0310090\ttotal: 266ms\tremaining: 620ms\n",
      "300:\tlearn: 0.0309439\ttotal: 266ms\tremaining: 618ms\n",
      "301:\tlearn: 0.0308731\ttotal: 267ms\tremaining: 617ms\n",
      "302:\tlearn: 0.0308089\ttotal: 267ms\tremaining: 615ms\n",
      "303:\tlearn: 0.0307726\ttotal: 268ms\tremaining: 613ms\n",
      "304:\tlearn: 0.0306373\ttotal: 268ms\tremaining: 611ms\n",
      "305:\tlearn: 0.0305557\ttotal: 269ms\tremaining: 610ms\n",
      "306:\tlearn: 0.0304659\ttotal: 269ms\tremaining: 608ms\n",
      "307:\tlearn: 0.0304308\ttotal: 270ms\tremaining: 608ms\n",
      "308:\tlearn: 0.0303557\ttotal: 272ms\tremaining: 609ms\n",
      "309:\tlearn: 0.0302844\ttotal: 273ms\tremaining: 608ms\n",
      "310:\tlearn: 0.0301573\ttotal: 274ms\tremaining: 606ms\n",
      "311:\tlearn: 0.0300891\ttotal: 275ms\tremaining: 606ms\n",
      "312:\tlearn: 0.0299874\ttotal: 275ms\tremaining: 604ms\n",
      "313:\tlearn: 0.0299582\ttotal: 276ms\tremaining: 603ms\n",
      "314:\tlearn: 0.0298458\ttotal: 277ms\tremaining: 601ms\n",
      "315:\tlearn: 0.0297721\ttotal: 277ms\tremaining: 600ms\n",
      "316:\tlearn: 0.0297352\ttotal: 278ms\tremaining: 599ms\n",
      "317:\tlearn: 0.0296405\ttotal: 279ms\tremaining: 599ms\n",
      "318:\tlearn: 0.0295889\ttotal: 280ms\tremaining: 598ms\n",
      "319:\tlearn: 0.0295263\ttotal: 281ms\tremaining: 597ms\n",
      "320:\tlearn: 0.0294752\ttotal: 281ms\tremaining: 595ms\n",
      "321:\tlearn: 0.0293612\ttotal: 282ms\tremaining: 593ms\n",
      "322:\tlearn: 0.0293156\ttotal: 282ms\tremaining: 592ms\n",
      "323:\tlearn: 0.0292802\ttotal: 283ms\tremaining: 590ms\n",
      "324:\tlearn: 0.0291728\ttotal: 284ms\tremaining: 589ms\n",
      "325:\tlearn: 0.0290465\ttotal: 284ms\tremaining: 588ms\n",
      "326:\tlearn: 0.0289642\ttotal: 285ms\tremaining: 587ms\n",
      "327:\tlearn: 0.0289096\ttotal: 286ms\tremaining: 586ms\n",
      "328:\tlearn: 0.0288531\ttotal: 287ms\tremaining: 585ms\n",
      "329:\tlearn: 0.0288220\ttotal: 288ms\tremaining: 584ms\n",
      "330:\tlearn: 0.0287247\ttotal: 288ms\tremaining: 582ms\n",
      "331:\tlearn: 0.0286806\ttotal: 290ms\tremaining: 583ms\n",
      "332:\tlearn: 0.0286336\ttotal: 290ms\tremaining: 582ms\n",
      "333:\tlearn: 0.0286027\ttotal: 291ms\tremaining: 580ms\n",
      "334:\tlearn: 0.0285442\ttotal: 292ms\tremaining: 580ms\n",
      "335:\tlearn: 0.0284762\ttotal: 294ms\tremaining: 582ms\n",
      "336:\tlearn: 0.0284113\ttotal: 295ms\tremaining: 581ms\n",
      "337:\tlearn: 0.0283024\ttotal: 296ms\tremaining: 580ms\n",
      "338:\tlearn: 0.0282210\ttotal: 297ms\tremaining: 579ms\n",
      "339:\tlearn: 0.0281567\ttotal: 298ms\tremaining: 578ms\n"
     ]
    },
    {
     "name": "stdout",
     "output_type": "stream",
     "text": [
      "340:\tlearn: 0.0281313\ttotal: 299ms\tremaining: 579ms\n",
      "341:\tlearn: 0.0281021\ttotal: 312ms\tremaining: 601ms\n",
      "342:\tlearn: 0.0280382\ttotal: 314ms\tremaining: 601ms\n",
      "343:\tlearn: 0.0279704\ttotal: 314ms\tremaining: 600ms\n",
      "344:\tlearn: 0.0279257\ttotal: 315ms\tremaining: 598ms\n",
      "345:\tlearn: 0.0278767\ttotal: 316ms\tremaining: 597ms\n",
      "346:\tlearn: 0.0278328\ttotal: 317ms\tremaining: 596ms\n",
      "347:\tlearn: 0.0277576\ttotal: 317ms\tremaining: 595ms\n",
      "348:\tlearn: 0.0277132\ttotal: 320ms\tremaining: 596ms\n",
      "349:\tlearn: 0.0276887\ttotal: 321ms\tremaining: 596ms\n",
      "350:\tlearn: 0.0276415\ttotal: 322ms\tremaining: 595ms\n",
      "351:\tlearn: 0.0275538\ttotal: 323ms\tremaining: 594ms\n",
      "352:\tlearn: 0.0275097\ttotal: 323ms\tremaining: 592ms\n",
      "353:\tlearn: 0.0274058\ttotal: 324ms\tremaining: 591ms\n",
      "354:\tlearn: 0.0273507\ttotal: 325ms\tremaining: 590ms\n",
      "355:\tlearn: 0.0272859\ttotal: 326ms\tremaining: 589ms\n",
      "356:\tlearn: 0.0272341\ttotal: 328ms\tremaining: 590ms\n",
      "357:\tlearn: 0.0271786\ttotal: 329ms\tremaining: 590ms\n",
      "358:\tlearn: 0.0271360\ttotal: 330ms\tremaining: 590ms\n",
      "359:\tlearn: 0.0271099\ttotal: 331ms\tremaining: 588ms\n",
      "360:\tlearn: 0.0270378\ttotal: 332ms\tremaining: 587ms\n",
      "361:\tlearn: 0.0269899\ttotal: 333ms\tremaining: 587ms\n",
      "362:\tlearn: 0.0269183\ttotal: 333ms\tremaining: 585ms\n",
      "363:\tlearn: 0.0268700\ttotal: 334ms\tremaining: 584ms\n"
     ]
    },
    {
     "name": "stdout",
     "output_type": "stream",
     "text": [
      "364:\tlearn: 0.0267903\ttotal: 335ms\tremaining: 583ms\n",
      "365:\tlearn: 0.0267317\ttotal: 337ms\tremaining: 584ms\n",
      "366:\tlearn: 0.0266784\ttotal: 338ms\tremaining: 582ms\n",
      "367:\tlearn: 0.0266436\ttotal: 338ms\tremaining: 581ms\n",
      "368:\tlearn: 0.0265924\ttotal: 339ms\tremaining: 580ms\n",
      "369:\tlearn: 0.0265391\ttotal: 340ms\tremaining: 578ms\n",
      "370:\tlearn: 0.0265159\ttotal: 340ms\tremaining: 577ms\n",
      "371:\tlearn: 0.0264268\ttotal: 341ms\tremaining: 576ms\n",
      "372:\tlearn: 0.0263803\ttotal: 342ms\tremaining: 574ms\n",
      "373:\tlearn: 0.0263488\ttotal: 342ms\tremaining: 573ms\n",
      "374:\tlearn: 0.0263107\ttotal: 343ms\tremaining: 572ms\n",
      "375:\tlearn: 0.0262576\ttotal: 344ms\tremaining: 571ms\n",
      "376:\tlearn: 0.0262218\ttotal: 345ms\tremaining: 570ms\n",
      "377:\tlearn: 0.0261696\ttotal: 346ms\tremaining: 569ms\n",
      "378:\tlearn: 0.0261202\ttotal: 347ms\tremaining: 568ms\n",
      "379:\tlearn: 0.0260812\ttotal: 348ms\tremaining: 568ms\n",
      "380:\tlearn: 0.0260514\ttotal: 349ms\tremaining: 567ms\n",
      "381:\tlearn: 0.0260166\ttotal: 350ms\tremaining: 566ms\n",
      "382:\tlearn: 0.0259500\ttotal: 351ms\tremaining: 566ms\n",
      "383:\tlearn: 0.0258608\ttotal: 354ms\tremaining: 567ms\n",
      "384:\tlearn: 0.0258389\ttotal: 354ms\tremaining: 566ms\n",
      "385:\tlearn: 0.0257654\ttotal: 356ms\tremaining: 566ms\n",
      "386:\tlearn: 0.0257306\ttotal: 356ms\tremaining: 565ms\n",
      "387:\tlearn: 0.0256925\ttotal: 357ms\tremaining: 563ms\n",
      "388:\tlearn: 0.0256577\ttotal: 358ms\tremaining: 562ms\n",
      "389:\tlearn: 0.0256073\ttotal: 359ms\tremaining: 561ms\n",
      "390:\tlearn: 0.0255645\ttotal: 359ms\tremaining: 559ms\n",
      "391:\tlearn: 0.0255088\ttotal: 360ms\tremaining: 558ms\n",
      "392:\tlearn: 0.0254776\ttotal: 360ms\tremaining: 557ms\n",
      "393:\tlearn: 0.0254296\ttotal: 361ms\tremaining: 555ms\n",
      "394:\tlearn: 0.0253950\ttotal: 362ms\tremaining: 554ms\n",
      "395:\tlearn: 0.0253632\ttotal: 362ms\tremaining: 552ms\n",
      "396:\tlearn: 0.0253105\ttotal: 362ms\tremaining: 551ms\n",
      "397:\tlearn: 0.0252627\ttotal: 363ms\tremaining: 549ms\n",
      "398:\tlearn: 0.0252420\ttotal: 364ms\tremaining: 548ms\n",
      "399:\tlearn: 0.0252060\ttotal: 364ms\tremaining: 546ms\n",
      "400:\tlearn: 0.0251746\ttotal: 365ms\tremaining: 545ms\n",
      "401:\tlearn: 0.0251281\ttotal: 365ms\tremaining: 544ms\n",
      "402:\tlearn: 0.0250868\ttotal: 366ms\tremaining: 542ms\n",
      "403:\tlearn: 0.0250665\ttotal: 366ms\tremaining: 540ms\n",
      "404:\tlearn: 0.0250228\ttotal: 367ms\tremaining: 539ms\n",
      "405:\tlearn: 0.0249940\ttotal: 367ms\tremaining: 537ms\n",
      "406:\tlearn: 0.0249543\ttotal: 368ms\tremaining: 536ms\n",
      "407:\tlearn: 0.0249347\ttotal: 368ms\tremaining: 534ms\n",
      "408:\tlearn: 0.0249150\ttotal: 369ms\tremaining: 533ms\n",
      "409:\tlearn: 0.0248804\ttotal: 369ms\tremaining: 531ms\n",
      "410:\tlearn: 0.0248581\ttotal: 370ms\tremaining: 530ms\n",
      "411:\tlearn: 0.0248391\ttotal: 370ms\tremaining: 528ms\n",
      "412:\tlearn: 0.0248045\ttotal: 371ms\tremaining: 527ms\n",
      "413:\tlearn: 0.0247760\ttotal: 371ms\tremaining: 526ms\n",
      "414:\tlearn: 0.0247482\ttotal: 372ms\tremaining: 524ms\n",
      "415:\tlearn: 0.0247107\ttotal: 372ms\tremaining: 523ms\n",
      "416:\tlearn: 0.0246813\ttotal: 373ms\tremaining: 521ms\n",
      "417:\tlearn: 0.0246633\ttotal: 373ms\tremaining: 520ms\n",
      "418:\tlearn: 0.0246458\ttotal: 374ms\tremaining: 518ms\n",
      "419:\tlearn: 0.0246288\ttotal: 374ms\tremaining: 517ms\n",
      "420:\tlearn: 0.0245902\ttotal: 375ms\tremaining: 515ms\n",
      "421:\tlearn: 0.0245323\ttotal: 375ms\tremaining: 514ms\n",
      "422:\tlearn: 0.0244894\ttotal: 375ms\tremaining: 512ms\n",
      "423:\tlearn: 0.0244538\ttotal: 376ms\tremaining: 510ms\n",
      "424:\tlearn: 0.0244340\ttotal: 376ms\tremaining: 509ms\n",
      "425:\tlearn: 0.0243922\ttotal: 376ms\tremaining: 507ms\n",
      "426:\tlearn: 0.0243746\ttotal: 376ms\tremaining: 505ms\n",
      "427:\tlearn: 0.0243436\ttotal: 377ms\tremaining: 504ms\n",
      "428:\tlearn: 0.0243169\ttotal: 377ms\tremaining: 502ms\n",
      "429:\tlearn: 0.0242837\ttotal: 377ms\tremaining: 500ms\n",
      "430:\tlearn: 0.0242670\ttotal: 378ms\tremaining: 499ms\n",
      "431:\tlearn: 0.0242310\ttotal: 379ms\tremaining: 498ms\n",
      "432:\tlearn: 0.0241536\ttotal: 379ms\tremaining: 497ms\n",
      "433:\tlearn: 0.0240786\ttotal: 380ms\tremaining: 496ms\n",
      "434:\tlearn: 0.0240490\ttotal: 380ms\tremaining: 494ms\n",
      "435:\tlearn: 0.0240136\ttotal: 381ms\tremaining: 493ms\n",
      "436:\tlearn: 0.0239749\ttotal: 381ms\tremaining: 491ms\n",
      "437:\tlearn: 0.0239444\ttotal: 382ms\tremaining: 490ms\n",
      "438:\tlearn: 0.0239150\ttotal: 382ms\tremaining: 489ms\n",
      "439:\tlearn: 0.0238964\ttotal: 383ms\tremaining: 487ms\n",
      "440:\tlearn: 0.0238691\ttotal: 384ms\tremaining: 486ms\n",
      "441:\tlearn: 0.0237986\ttotal: 384ms\tremaining: 485ms\n",
      "442:\tlearn: 0.0237798\ttotal: 385ms\tremaining: 484ms\n",
      "443:\tlearn: 0.0237107\ttotal: 385ms\tremaining: 482ms\n",
      "444:\tlearn: 0.0236952\ttotal: 386ms\tremaining: 481ms\n",
      "445:\tlearn: 0.0236582\ttotal: 386ms\tremaining: 479ms\n",
      "446:\tlearn: 0.0236429\ttotal: 386ms\tremaining: 478ms\n",
      "447:\tlearn: 0.0236084\ttotal: 387ms\tremaining: 476ms\n",
      "448:\tlearn: 0.0235684\ttotal: 387ms\tremaining: 475ms\n",
      "449:\tlearn: 0.0235385\ttotal: 388ms\tremaining: 474ms\n",
      "450:\tlearn: 0.0235144\ttotal: 388ms\tremaining: 473ms\n",
      "451:\tlearn: 0.0234738\ttotal: 388ms\tremaining: 471ms\n",
      "452:\tlearn: 0.0234431\ttotal: 389ms\tremaining: 470ms\n",
      "453:\tlearn: 0.0233913\ttotal: 390ms\tremaining: 468ms\n",
      "454:\tlearn: 0.0233569\ttotal: 390ms\tremaining: 467ms\n",
      "455:\tlearn: 0.0233386\ttotal: 391ms\tremaining: 466ms\n",
      "456:\tlearn: 0.0232754\ttotal: 391ms\tremaining: 465ms\n",
      "457:\tlearn: 0.0232534\ttotal: 392ms\tremaining: 463ms\n",
      "458:\tlearn: 0.0232245\ttotal: 392ms\tremaining: 462ms\n",
      "459:\tlearn: 0.0231605\ttotal: 393ms\tremaining: 461ms\n",
      "460:\tlearn: 0.0231435\ttotal: 393ms\tremaining: 460ms\n",
      "461:\tlearn: 0.0230869\ttotal: 394ms\tremaining: 458ms\n",
      "462:\tlearn: 0.0230623\ttotal: 394ms\tremaining: 457ms\n",
      "463:\tlearn: 0.0230023\ttotal: 394ms\tremaining: 456ms\n",
      "464:\tlearn: 0.0229659\ttotal: 395ms\tremaining: 454ms\n",
      "465:\tlearn: 0.0228701\ttotal: 395ms\tremaining: 453ms\n",
      "466:\tlearn: 0.0228411\ttotal: 396ms\tremaining: 452ms\n",
      "467:\tlearn: 0.0228113\ttotal: 397ms\tremaining: 452ms\n",
      "468:\tlearn: 0.0227880\ttotal: 399ms\tremaining: 452ms\n",
      "469:\tlearn: 0.0227710\ttotal: 401ms\tremaining: 452ms\n",
      "470:\tlearn: 0.0227363\ttotal: 402ms\tremaining: 452ms\n",
      "471:\tlearn: 0.0226976\ttotal: 404ms\tremaining: 452ms\n",
      "472:\tlearn: 0.0226703\ttotal: 405ms\tremaining: 451ms\n",
      "473:\tlearn: 0.0225979\ttotal: 405ms\tremaining: 450ms\n",
      "474:\tlearn: 0.0225696\ttotal: 406ms\tremaining: 449ms\n",
      "475:\tlearn: 0.0225478\ttotal: 407ms\tremaining: 448ms\n",
      "476:\tlearn: 0.0224947\ttotal: 407ms\tremaining: 447ms\n",
      "477:\tlearn: 0.0224763\ttotal: 408ms\tremaining: 445ms\n",
      "478:\tlearn: 0.0224500\ttotal: 408ms\tremaining: 444ms\n",
      "479:\tlearn: 0.0224252\ttotal: 409ms\tremaining: 443ms\n",
      "480:\tlearn: 0.0223879\ttotal: 410ms\tremaining: 442ms\n",
      "481:\tlearn: 0.0223327\ttotal: 410ms\tremaining: 441ms\n",
      "482:\tlearn: 0.0223090\ttotal: 411ms\tremaining: 440ms\n",
      "483:\tlearn: 0.0222890\ttotal: 412ms\tremaining: 439ms\n",
      "484:\tlearn: 0.0222514\ttotal: 412ms\tremaining: 438ms\n",
      "485:\tlearn: 0.0222166\ttotal: 413ms\tremaining: 437ms\n",
      "486:\tlearn: 0.0221345\ttotal: 414ms\tremaining: 436ms\n",
      "487:\tlearn: 0.0220961\ttotal: 415ms\tremaining: 435ms\n",
      "488:\tlearn: 0.0220815\ttotal: 415ms\tremaining: 434ms\n",
      "489:\tlearn: 0.0220563\ttotal: 415ms\tremaining: 432ms\n",
      "490:\tlearn: 0.0220348\ttotal: 416ms\tremaining: 431ms\n",
      "491:\tlearn: 0.0220109\ttotal: 417ms\tremaining: 430ms\n",
      "492:\tlearn: 0.0219970\ttotal: 417ms\tremaining: 429ms\n",
      "493:\tlearn: 0.0219835\ttotal: 418ms\tremaining: 428ms\n",
      "494:\tlearn: 0.0219365\ttotal: 418ms\tremaining: 427ms\n",
      "495:\tlearn: 0.0219208\ttotal: 419ms\tremaining: 426ms\n",
      "496:\tlearn: 0.0218975\ttotal: 420ms\tremaining: 425ms\n",
      "497:\tlearn: 0.0218646\ttotal: 420ms\tremaining: 424ms\n",
      "498:\tlearn: 0.0218479\ttotal: 421ms\tremaining: 422ms\n",
      "499:\tlearn: 0.0218263\ttotal: 421ms\tremaining: 421ms\n",
      "500:\tlearn: 0.0217784\ttotal: 422ms\tremaining: 420ms\n",
      "501:\tlearn: 0.0217505\ttotal: 422ms\tremaining: 419ms\n",
      "502:\tlearn: 0.0217196\ttotal: 423ms\tremaining: 418ms\n",
      "503:\tlearn: 0.0216905\ttotal: 423ms\tremaining: 416ms\n",
      "504:\tlearn: 0.0216791\ttotal: 424ms\tremaining: 415ms\n",
      "505:\tlearn: 0.0216368\ttotal: 424ms\tremaining: 414ms\n",
      "506:\tlearn: 0.0216204\ttotal: 425ms\tremaining: 413ms\n",
      "507:\tlearn: 0.0215980\ttotal: 425ms\tremaining: 412ms\n",
      "508:\tlearn: 0.0215734\ttotal: 426ms\tremaining: 411ms\n",
      "509:\tlearn: 0.0215385\ttotal: 426ms\tremaining: 410ms\n",
      "510:\tlearn: 0.0215257\ttotal: 427ms\tremaining: 408ms\n",
      "511:\tlearn: 0.0215010\ttotal: 428ms\tremaining: 408ms\n",
      "512:\tlearn: 0.0214788\ttotal: 428ms\tremaining: 407ms\n",
      "513:\tlearn: 0.0214318\ttotal: 430ms\tremaining: 407ms\n",
      "514:\tlearn: 0.0214058\ttotal: 430ms\tremaining: 405ms\n",
      "515:\tlearn: 0.0213892\ttotal: 431ms\tremaining: 404ms\n",
      "516:\tlearn: 0.0213453\ttotal: 431ms\tremaining: 403ms\n",
      "517:\tlearn: 0.0213328\ttotal: 431ms\tremaining: 401ms\n",
      "518:\tlearn: 0.0212983\ttotal: 432ms\tremaining: 401ms\n",
      "519:\tlearn: 0.0212716\ttotal: 433ms\tremaining: 400ms\n",
      "520:\tlearn: 0.0212576\ttotal: 434ms\tremaining: 399ms\n",
      "521:\tlearn: 0.0212454\ttotal: 437ms\tremaining: 400ms\n",
      "522:\tlearn: 0.0211862\ttotal: 437ms\tremaining: 399ms\n",
      "523:\tlearn: 0.0211743\ttotal: 439ms\tremaining: 399ms\n",
      "524:\tlearn: 0.0211597\ttotal: 439ms\tremaining: 397ms\n",
      "525:\tlearn: 0.0211459\ttotal: 440ms\tremaining: 396ms\n",
      "526:\tlearn: 0.0210995\ttotal: 440ms\tremaining: 395ms\n",
      "527:\tlearn: 0.0210747\ttotal: 441ms\tremaining: 394ms\n",
      "528:\tlearn: 0.0210510\ttotal: 441ms\tremaining: 393ms\n",
      "529:\tlearn: 0.0210364\ttotal: 442ms\tremaining: 392ms\n",
      "530:\tlearn: 0.0210182\ttotal: 442ms\tremaining: 391ms\n",
      "531:\tlearn: 0.0210026\ttotal: 443ms\tremaining: 389ms\n",
      "532:\tlearn: 0.0209747\ttotal: 443ms\tremaining: 388ms\n",
      "533:\tlearn: 0.0209284\ttotal: 444ms\tremaining: 387ms\n",
      "534:\tlearn: 0.0208950\ttotal: 444ms\tremaining: 386ms\n",
      "535:\tlearn: 0.0208699\ttotal: 445ms\tremaining: 385ms\n",
      "536:\tlearn: 0.0208563\ttotal: 445ms\tremaining: 384ms\n",
      "537:\tlearn: 0.0208288\ttotal: 446ms\tremaining: 383ms\n",
      "538:\tlearn: 0.0207900\ttotal: 446ms\tremaining: 382ms\n",
      "539:\tlearn: 0.0207734\ttotal: 447ms\tremaining: 380ms\n",
      "540:\tlearn: 0.0207336\ttotal: 447ms\tremaining: 379ms\n",
      "541:\tlearn: 0.0207146\ttotal: 448ms\tremaining: 378ms\n"
     ]
    },
    {
     "name": "stdout",
     "output_type": "stream",
     "text": [
      "542:\tlearn: 0.0206946\ttotal: 450ms\tremaining: 378ms\n",
      "543:\tlearn: 0.0206808\ttotal: 450ms\tremaining: 378ms\n"
     ]
    },
    {
     "name": "stdout",
     "output_type": "stream",
     "text": [
      "544:\tlearn: 0.0206388\ttotal: 451ms\tremaining: 376ms\n",
      "545:\tlearn: 0.0206214\ttotal: 452ms\tremaining: 376ms\n",
      "546:\tlearn: 0.0206015\ttotal: 452ms\tremaining: 374ms\n",
      "547:\tlearn: 0.0205673\ttotal: 453ms\tremaining: 373ms\n",
      "548:\tlearn: 0.0205355\ttotal: 453ms\tremaining: 372ms\n",
      "549:\tlearn: 0.0205259\ttotal: 454ms\tremaining: 371ms\n",
      "550:\tlearn: 0.0205039\ttotal: 454ms\tremaining: 370ms\n",
      "551:\tlearn: 0.0204834\ttotal: 455ms\tremaining: 369ms\n",
      "552:\tlearn: 0.0204671\ttotal: 455ms\tremaining: 368ms\n",
      "553:\tlearn: 0.0204441\ttotal: 455ms\tremaining: 367ms\n",
      "554:\tlearn: 0.0204321\ttotal: 456ms\tremaining: 366ms\n",
      "555:\tlearn: 0.0203928\ttotal: 458ms\tremaining: 365ms\n",
      "556:\tlearn: 0.0203724\ttotal: 458ms\tremaining: 364ms\n",
      "557:\tlearn: 0.0203603\ttotal: 459ms\tremaining: 363ms\n",
      "558:\tlearn: 0.0203498\ttotal: 459ms\tremaining: 362ms\n",
      "559:\tlearn: 0.0203128\ttotal: 460ms\tremaining: 361ms\n",
      "560:\tlearn: 0.0202931\ttotal: 460ms\tremaining: 360ms\n",
      "561:\tlearn: 0.0202715\ttotal: 461ms\tremaining: 359ms\n",
      "562:\tlearn: 0.0202490\ttotal: 461ms\tremaining: 358ms\n",
      "563:\tlearn: 0.0202277\ttotal: 461ms\tremaining: 357ms\n",
      "564:\tlearn: 0.0202150\ttotal: 462ms\tremaining: 355ms\n",
      "565:\tlearn: 0.0201634\ttotal: 463ms\tremaining: 355ms\n",
      "566:\tlearn: 0.0201533\ttotal: 464ms\tremaining: 354ms\n",
      "567:\tlearn: 0.0201416\ttotal: 464ms\tremaining: 353ms\n",
      "568:\tlearn: 0.0201147\ttotal: 465ms\tremaining: 352ms\n",
      "569:\tlearn: 0.0200939\ttotal: 465ms\tremaining: 351ms\n",
      "570:\tlearn: 0.0200803\ttotal: 466ms\tremaining: 350ms\n",
      "571:\tlearn: 0.0200589\ttotal: 466ms\tremaining: 349ms\n",
      "572:\tlearn: 0.0200354\ttotal: 467ms\tremaining: 348ms\n",
      "573:\tlearn: 0.0200255\ttotal: 467ms\tremaining: 347ms\n",
      "574:\tlearn: 0.0200157\ttotal: 468ms\tremaining: 346ms\n",
      "575:\tlearn: 0.0199996\ttotal: 468ms\tremaining: 345ms\n",
      "576:\tlearn: 0.0199744\ttotal: 469ms\tremaining: 344ms\n",
      "577:\tlearn: 0.0199650\ttotal: 469ms\tremaining: 343ms\n",
      "578:\tlearn: 0.0199578\ttotal: 470ms\tremaining: 342ms\n",
      "579:\tlearn: 0.0199392\ttotal: 471ms\tremaining: 341ms\n",
      "580:\tlearn: 0.0199288\ttotal: 471ms\tremaining: 340ms\n",
      "581:\tlearn: 0.0198999\ttotal: 472ms\tremaining: 339ms\n",
      "582:\tlearn: 0.0198773\ttotal: 473ms\tremaining: 338ms\n",
      "583:\tlearn: 0.0198620\ttotal: 473ms\tremaining: 337ms\n",
      "584:\tlearn: 0.0198529\ttotal: 474ms\tremaining: 336ms\n",
      "585:\tlearn: 0.0198095\ttotal: 474ms\tremaining: 335ms\n",
      "586:\tlearn: 0.0197879\ttotal: 475ms\tremaining: 334ms\n",
      "587:\tlearn: 0.0197758\ttotal: 475ms\tremaining: 333ms\n",
      "588:\tlearn: 0.0197346\ttotal: 475ms\tremaining: 332ms\n",
      "589:\tlearn: 0.0197141\ttotal: 476ms\tremaining: 331ms\n",
      "590:\tlearn: 0.0196945\ttotal: 477ms\tremaining: 330ms\n",
      "591:\tlearn: 0.0196788\ttotal: 477ms\tremaining: 329ms\n",
      "592:\tlearn: 0.0196393\ttotal: 478ms\tremaining: 328ms\n",
      "593:\tlearn: 0.0196239\ttotal: 478ms\tremaining: 327ms\n",
      "594:\tlearn: 0.0196001\ttotal: 479ms\tremaining: 326ms\n",
      "595:\tlearn: 0.0195620\ttotal: 480ms\tremaining: 325ms\n",
      "596:\tlearn: 0.0195531\ttotal: 481ms\tremaining: 325ms\n",
      "597:\tlearn: 0.0195445\ttotal: 481ms\tremaining: 323ms\n",
      "598:\tlearn: 0.0195156\ttotal: 481ms\tremaining: 322ms\n",
      "599:\tlearn: 0.0194796\ttotal: 482ms\tremaining: 321ms\n",
      "600:\tlearn: 0.0194554\ttotal: 482ms\tremaining: 320ms\n",
      "601:\tlearn: 0.0194186\ttotal: 482ms\tremaining: 319ms\n",
      "602:\tlearn: 0.0194127\ttotal: 482ms\tremaining: 318ms\n",
      "603:\tlearn: 0.0193803\ttotal: 484ms\tremaining: 317ms\n",
      "604:\tlearn: 0.0193713\ttotal: 484ms\tremaining: 316ms\n",
      "605:\tlearn: 0.0193369\ttotal: 485ms\tremaining: 315ms\n",
      "606:\tlearn: 0.0193088\ttotal: 486ms\tremaining: 314ms\n",
      "607:\tlearn: 0.0192924\ttotal: 486ms\tremaining: 313ms\n",
      "608:\tlearn: 0.0192666\ttotal: 487ms\tremaining: 313ms\n",
      "609:\tlearn: 0.0192358\ttotal: 487ms\tremaining: 312ms\n",
      "610:\tlearn: 0.0192014\ttotal: 488ms\tremaining: 311ms\n",
      "611:\tlearn: 0.0191822\ttotal: 489ms\tremaining: 310ms\n",
      "612:\tlearn: 0.0191576\ttotal: 489ms\tremaining: 309ms\n",
      "613:\tlearn: 0.0191524\ttotal: 489ms\tremaining: 308ms\n",
      "614:\tlearn: 0.0191447\ttotal: 490ms\tremaining: 307ms\n",
      "615:\tlearn: 0.0191346\ttotal: 491ms\tremaining: 306ms\n",
      "616:\tlearn: 0.0191212\ttotal: 491ms\tremaining: 305ms\n",
      "617:\tlearn: 0.0190920\ttotal: 492ms\tremaining: 304ms\n",
      "618:\tlearn: 0.0190742\ttotal: 492ms\tremaining: 303ms\n",
      "619:\tlearn: 0.0190538\ttotal: 493ms\tremaining: 302ms\n",
      "620:\tlearn: 0.0190370\ttotal: 493ms\tremaining: 301ms\n",
      "621:\tlearn: 0.0190282\ttotal: 494ms\tremaining: 300ms\n",
      "622:\tlearn: 0.0190089\ttotal: 494ms\tremaining: 299ms\n",
      "623:\tlearn: 0.0189947\ttotal: 495ms\tremaining: 298ms\n",
      "624:\tlearn: 0.0189726\ttotal: 495ms\tremaining: 297ms\n",
      "625:\tlearn: 0.0189642\ttotal: 496ms\tremaining: 296ms\n",
      "626:\tlearn: 0.0189326\ttotal: 497ms\tremaining: 295ms\n",
      "627:\tlearn: 0.0189061\ttotal: 497ms\tremaining: 295ms\n",
      "628:\tlearn: 0.0188946\ttotal: 498ms\tremaining: 294ms\n",
      "629:\tlearn: 0.0188863\ttotal: 499ms\tremaining: 293ms\n",
      "630:\tlearn: 0.0188725\ttotal: 499ms\tremaining: 292ms\n",
      "631:\tlearn: 0.0188570\ttotal: 499ms\tremaining: 291ms\n",
      "632:\tlearn: 0.0188292\ttotal: 500ms\tremaining: 290ms\n",
      "633:\tlearn: 0.0188061\ttotal: 501ms\tremaining: 289ms\n",
      "634:\tlearn: 0.0187919\ttotal: 501ms\tremaining: 288ms\n",
      "635:\tlearn: 0.0187607\ttotal: 502ms\tremaining: 287ms\n",
      "636:\tlearn: 0.0187446\ttotal: 503ms\tremaining: 286ms\n",
      "637:\tlearn: 0.0187305\ttotal: 503ms\tremaining: 286ms\n",
      "638:\tlearn: 0.0187151\ttotal: 504ms\tremaining: 285ms\n",
      "639:\tlearn: 0.0186832\ttotal: 505ms\tremaining: 284ms\n",
      "640:\tlearn: 0.0186715\ttotal: 506ms\tremaining: 283ms\n",
      "641:\tlearn: 0.0186521\ttotal: 506ms\tremaining: 282ms\n",
      "642:\tlearn: 0.0186444\ttotal: 507ms\tremaining: 281ms\n",
      "643:\tlearn: 0.0186316\ttotal: 508ms\tremaining: 281ms\n",
      "644:\tlearn: 0.0186027\ttotal: 508ms\tremaining: 280ms\n",
      "645:\tlearn: 0.0185938\ttotal: 509ms\tremaining: 279ms\n",
      "646:\tlearn: 0.0185555\ttotal: 509ms\tremaining: 278ms\n",
      "647:\tlearn: 0.0185338\ttotal: 510ms\tremaining: 277ms\n",
      "648:\tlearn: 0.0185278\ttotal: 511ms\tremaining: 276ms\n",
      "649:\tlearn: 0.0185133\ttotal: 512ms\tremaining: 276ms\n",
      "650:\tlearn: 0.0185067\ttotal: 513ms\tremaining: 275ms\n",
      "651:\tlearn: 0.0184905\ttotal: 514ms\tremaining: 274ms\n",
      "652:\tlearn: 0.0184635\ttotal: 515ms\tremaining: 273ms\n",
      "653:\tlearn: 0.0184466\ttotal: 515ms\tremaining: 273ms\n",
      "654:\tlearn: 0.0184421\ttotal: 516ms\tremaining: 272ms\n",
      "655:\tlearn: 0.0184174\ttotal: 516ms\tremaining: 271ms\n",
      "656:\tlearn: 0.0184059\ttotal: 517ms\tremaining: 270ms\n",
      "657:\tlearn: 0.0183726\ttotal: 518ms\tremaining: 269ms\n",
      "658:\tlearn: 0.0183615\ttotal: 519ms\tremaining: 269ms\n",
      "659:\tlearn: 0.0183501\ttotal: 520ms\tremaining: 268ms\n",
      "660:\tlearn: 0.0183189\ttotal: 521ms\tremaining: 267ms\n",
      "661:\tlearn: 0.0182891\ttotal: 529ms\tremaining: 270ms\n",
      "662:\tlearn: 0.0182681\ttotal: 530ms\tremaining: 269ms\n",
      "663:\tlearn: 0.0182511\ttotal: 530ms\tremaining: 268ms\n",
      "664:\tlearn: 0.0182197\ttotal: 531ms\tremaining: 267ms\n",
      "665:\tlearn: 0.0181985\ttotal: 531ms\tremaining: 266ms\n",
      "666:\tlearn: 0.0181716\ttotal: 533ms\tremaining: 266ms\n",
      "667:\tlearn: 0.0181409\ttotal: 534ms\tremaining: 265ms\n",
      "668:\tlearn: 0.0181191\ttotal: 534ms\tremaining: 264ms\n",
      "669:\tlearn: 0.0181042\ttotal: 535ms\tremaining: 264ms\n",
      "670:\tlearn: 0.0180832\ttotal: 536ms\tremaining: 263ms\n",
      "671:\tlearn: 0.0180629\ttotal: 537ms\tremaining: 262ms\n",
      "672:\tlearn: 0.0180430\ttotal: 538ms\tremaining: 261ms\n",
      "673:\tlearn: 0.0180357\ttotal: 538ms\tremaining: 260ms\n"
     ]
    },
    {
     "name": "stdout",
     "output_type": "stream",
     "text": [
      "674:\tlearn: 0.0180187\ttotal: 540ms\tremaining: 260ms\n",
      "675:\tlearn: 0.0180134\ttotal: 541ms\tremaining: 259ms\n",
      "676:\tlearn: 0.0179947\ttotal: 542ms\tremaining: 258ms\n"
     ]
    },
    {
     "name": "stdout",
     "output_type": "stream",
     "text": [
      "677:\tlearn: 0.0179791\ttotal: 543ms\tremaining: 258ms\n",
      "678:\tlearn: 0.0179657\ttotal: 544ms\tremaining: 257ms\n",
      "679:\tlearn: 0.0178838\ttotal: 544ms\tremaining: 256ms\n",
      "680:\tlearn: 0.0178644\ttotal: 545ms\tremaining: 255ms\n",
      "681:\tlearn: 0.0178505\ttotal: 546ms\tremaining: 255ms\n",
      "682:\tlearn: 0.0178414\ttotal: 546ms\tremaining: 254ms\n",
      "683:\tlearn: 0.0178314\ttotal: 547ms\tremaining: 253ms\n",
      "684:\tlearn: 0.0178118\ttotal: 548ms\tremaining: 252ms\n",
      "685:\tlearn: 0.0177879\ttotal: 548ms\tremaining: 251ms\n",
      "686:\tlearn: 0.0177602\ttotal: 549ms\tremaining: 250ms\n",
      "687:\tlearn: 0.0177459\ttotal: 550ms\tremaining: 249ms\n",
      "688:\tlearn: 0.0177327\ttotal: 550ms\tremaining: 248ms\n",
      "689:\tlearn: 0.0177180\ttotal: 551ms\tremaining: 248ms\n",
      "690:\tlearn: 0.0176939\ttotal: 552ms\tremaining: 247ms\n",
      "691:\tlearn: 0.0176746\ttotal: 552ms\tremaining: 246ms\n",
      "692:\tlearn: 0.0176626\ttotal: 553ms\tremaining: 245ms\n",
      "693:\tlearn: 0.0176329\ttotal: 553ms\tremaining: 244ms\n",
      "694:\tlearn: 0.0176188\ttotal: 554ms\tremaining: 243ms\n",
      "695:\tlearn: 0.0176026\ttotal: 554ms\tremaining: 242ms\n",
      "696:\tlearn: 0.0175795\ttotal: 555ms\tremaining: 241ms\n",
      "697:\tlearn: 0.0175570\ttotal: 555ms\tremaining: 240ms\n",
      "698:\tlearn: 0.0175269\ttotal: 555ms\tremaining: 239ms\n",
      "699:\tlearn: 0.0175085\ttotal: 556ms\tremaining: 238ms\n",
      "700:\tlearn: 0.0175015\ttotal: 557ms\tremaining: 237ms\n",
      "701:\tlearn: 0.0174844\ttotal: 557ms\tremaining: 237ms\n",
      "702:\tlearn: 0.0174765\ttotal: 558ms\tremaining: 236ms\n",
      "703:\tlearn: 0.0174704\ttotal: 558ms\tremaining: 235ms\n",
      "704:\tlearn: 0.0174601\ttotal: 559ms\tremaining: 234ms\n",
      "705:\tlearn: 0.0174534\ttotal: 559ms\tremaining: 233ms\n",
      "706:\tlearn: 0.0174250\ttotal: 560ms\tremaining: 232ms\n",
      "707:\tlearn: 0.0174097\ttotal: 560ms\tremaining: 231ms\n",
      "708:\tlearn: 0.0174007\ttotal: 561ms\tremaining: 230ms\n",
      "709:\tlearn: 0.0173869\ttotal: 561ms\tremaining: 229ms\n",
      "710:\tlearn: 0.0173652\ttotal: 562ms\tremaining: 228ms\n",
      "711:\tlearn: 0.0173336\ttotal: 562ms\tremaining: 227ms\n",
      "712:\tlearn: 0.0173184\ttotal: 562ms\tremaining: 226ms\n",
      "713:\tlearn: 0.0173062\ttotal: 562ms\tremaining: 225ms\n",
      "714:\tlearn: 0.0172881\ttotal: 563ms\tremaining: 224ms\n",
      "715:\tlearn: 0.0172781\ttotal: 563ms\tremaining: 223ms\n",
      "716:\tlearn: 0.0172633\ttotal: 564ms\tremaining: 223ms\n",
      "717:\tlearn: 0.0172569\ttotal: 564ms\tremaining: 222ms\n",
      "718:\tlearn: 0.0172418\ttotal: 565ms\tremaining: 221ms\n",
      "719:\tlearn: 0.0172327\ttotal: 565ms\tremaining: 220ms\n",
      "720:\tlearn: 0.0172092\ttotal: 566ms\tremaining: 219ms\n",
      "721:\tlearn: 0.0172011\ttotal: 566ms\tremaining: 218ms\n",
      "722:\tlearn: 0.0171909\ttotal: 567ms\tremaining: 217ms\n",
      "723:\tlearn: 0.0171695\ttotal: 567ms\tremaining: 216ms\n",
      "724:\tlearn: 0.0171524\ttotal: 568ms\tremaining: 215ms\n",
      "725:\tlearn: 0.0171386\ttotal: 568ms\tremaining: 214ms\n",
      "726:\tlearn: 0.0171133\ttotal: 569ms\tremaining: 213ms\n",
      "727:\tlearn: 0.0170838\ttotal: 569ms\tremaining: 213ms\n",
      "728:\tlearn: 0.0170703\ttotal: 569ms\tremaining: 212ms\n",
      "729:\tlearn: 0.0170524\ttotal: 569ms\tremaining: 211ms\n",
      "730:\tlearn: 0.0170312\ttotal: 570ms\tremaining: 210ms\n",
      "731:\tlearn: 0.0170181\ttotal: 570ms\tremaining: 209ms\n",
      "732:\tlearn: 0.0170066\ttotal: 570ms\tremaining: 208ms\n",
      "733:\tlearn: 0.0169863\ttotal: 571ms\tremaining: 207ms\n",
      "734:\tlearn: 0.0169773\ttotal: 571ms\tremaining: 206ms\n",
      "735:\tlearn: 0.0169627\ttotal: 572ms\tremaining: 205ms\n",
      "736:\tlearn: 0.0169525\ttotal: 573ms\tremaining: 204ms\n",
      "737:\tlearn: 0.0169408\ttotal: 573ms\tremaining: 203ms\n",
      "738:\tlearn: 0.0169258\ttotal: 574ms\tremaining: 203ms\n",
      "739:\tlearn: 0.0169111\ttotal: 574ms\tremaining: 202ms\n",
      "740:\tlearn: 0.0168926\ttotal: 574ms\tremaining: 201ms\n",
      "741:\tlearn: 0.0168837\ttotal: 575ms\tremaining: 200ms\n",
      "742:\tlearn: 0.0168696\ttotal: 576ms\tremaining: 199ms\n",
      "743:\tlearn: 0.0168343\ttotal: 576ms\tremaining: 198ms\n",
      "744:\tlearn: 0.0168189\ttotal: 577ms\tremaining: 197ms\n",
      "745:\tlearn: 0.0168093\ttotal: 577ms\tremaining: 197ms\n",
      "746:\tlearn: 0.0168012\ttotal: 577ms\tremaining: 196ms\n",
      "747:\tlearn: 0.0167918\ttotal: 578ms\tremaining: 195ms\n",
      "748:\tlearn: 0.0167723\ttotal: 578ms\tremaining: 194ms\n",
      "749:\tlearn: 0.0167511\ttotal: 578ms\tremaining: 193ms\n",
      "750:\tlearn: 0.0167308\ttotal: 578ms\tremaining: 192ms\n",
      "751:\tlearn: 0.0167248\ttotal: 579ms\tremaining: 191ms\n",
      "752:\tlearn: 0.0167165\ttotal: 580ms\tremaining: 190ms\n",
      "753:\tlearn: 0.0167076\ttotal: 581ms\tremaining: 189ms\n",
      "754:\tlearn: 0.0166935\ttotal: 581ms\tremaining: 189ms\n",
      "755:\tlearn: 0.0166690\ttotal: 582ms\tremaining: 188ms\n",
      "756:\tlearn: 0.0166640\ttotal: 582ms\tremaining: 187ms\n",
      "757:\tlearn: 0.0166546\ttotal: 582ms\tremaining: 186ms\n",
      "758:\tlearn: 0.0166451\ttotal: 583ms\tremaining: 185ms\n",
      "759:\tlearn: 0.0166343\ttotal: 583ms\tremaining: 184ms\n",
      "760:\tlearn: 0.0166194\ttotal: 584ms\tremaining: 183ms\n",
      "761:\tlearn: 0.0166103\ttotal: 584ms\tremaining: 183ms\n",
      "762:\tlearn: 0.0165905\ttotal: 585ms\tremaining: 182ms\n",
      "763:\tlearn: 0.0165707\ttotal: 585ms\tremaining: 181ms\n",
      "764:\tlearn: 0.0165598\ttotal: 586ms\tremaining: 180ms\n",
      "765:\tlearn: 0.0165511\ttotal: 586ms\tremaining: 179ms\n",
      "766:\tlearn: 0.0165394\ttotal: 587ms\tremaining: 178ms\n",
      "767:\tlearn: 0.0165337\ttotal: 587ms\tremaining: 177ms\n",
      "768:\tlearn: 0.0165241\ttotal: 588ms\tremaining: 177ms\n",
      "769:\tlearn: 0.0165102\ttotal: 589ms\tremaining: 176ms\n",
      "770:\tlearn: 0.0164933\ttotal: 590ms\tremaining: 175ms\n",
      "771:\tlearn: 0.0164877\ttotal: 590ms\tremaining: 174ms\n",
      "772:\tlearn: 0.0164789\ttotal: 591ms\tremaining: 173ms\n",
      "773:\tlearn: 0.0164576\ttotal: 591ms\tremaining: 173ms\n",
      "774:\tlearn: 0.0164426\ttotal: 592ms\tremaining: 172ms\n",
      "775:\tlearn: 0.0164266\ttotal: 592ms\tremaining: 171ms\n",
      "776:\tlearn: 0.0164167\ttotal: 593ms\tremaining: 170ms\n",
      "777:\tlearn: 0.0164020\ttotal: 593ms\tremaining: 169ms\n",
      "778:\tlearn: 0.0163837\ttotal: 594ms\tremaining: 168ms\n",
      "779:\tlearn: 0.0163430\ttotal: 594ms\tremaining: 168ms\n",
      "780:\tlearn: 0.0163347\ttotal: 595ms\tremaining: 167ms\n",
      "781:\tlearn: 0.0163235\ttotal: 595ms\tremaining: 166ms\n",
      "782:\tlearn: 0.0163159\ttotal: 596ms\tremaining: 165ms\n",
      "783:\tlearn: 0.0162903\ttotal: 596ms\tremaining: 164ms\n",
      "784:\tlearn: 0.0162832\ttotal: 596ms\tremaining: 163ms\n",
      "785:\tlearn: 0.0162794\ttotal: 597ms\tremaining: 163ms\n",
      "786:\tlearn: 0.0162598\ttotal: 597ms\tremaining: 162ms\n",
      "787:\tlearn: 0.0162531\ttotal: 598ms\tremaining: 161ms\n",
      "788:\tlearn: 0.0162490\ttotal: 598ms\tremaining: 160ms\n",
      "789:\tlearn: 0.0162358\ttotal: 599ms\tremaining: 159ms\n",
      "790:\tlearn: 0.0162236\ttotal: 599ms\tremaining: 158ms\n",
      "791:\tlearn: 0.0162139\ttotal: 600ms\tremaining: 158ms\n",
      "792:\tlearn: 0.0162044\ttotal: 600ms\tremaining: 157ms\n",
      "793:\tlearn: 0.0161813\ttotal: 601ms\tremaining: 156ms\n",
      "794:\tlearn: 0.0161191\ttotal: 601ms\tremaining: 155ms\n",
      "795:\tlearn: 0.0161092\ttotal: 602ms\tremaining: 154ms\n",
      "796:\tlearn: 0.0161011\ttotal: 602ms\tremaining: 153ms\n",
      "797:\tlearn: 0.0160858\ttotal: 603ms\tremaining: 153ms\n",
      "798:\tlearn: 0.0160808\ttotal: 603ms\tremaining: 152ms\n",
      "799:\tlearn: 0.0160655\ttotal: 604ms\tremaining: 151ms\n",
      "800:\tlearn: 0.0160531\ttotal: 604ms\tremaining: 150ms\n",
      "801:\tlearn: 0.0160344\ttotal: 604ms\tremaining: 149ms\n",
      "802:\tlearn: 0.0160227\ttotal: 605ms\tremaining: 148ms\n",
      "803:\tlearn: 0.0160018\ttotal: 606ms\tremaining: 148ms\n",
      "804:\tlearn: 0.0159904\ttotal: 606ms\tremaining: 147ms\n",
      "805:\tlearn: 0.0159812\ttotal: 607ms\tremaining: 146ms\n",
      "806:\tlearn: 0.0159764\ttotal: 607ms\tremaining: 145ms\n",
      "807:\tlearn: 0.0159074\ttotal: 608ms\tremaining: 144ms\n",
      "808:\tlearn: 0.0158983\ttotal: 608ms\tremaining: 144ms\n",
      "809:\tlearn: 0.0158823\ttotal: 609ms\tremaining: 143ms\n",
      "810:\tlearn: 0.0158723\ttotal: 609ms\tremaining: 142ms\n",
      "811:\tlearn: 0.0158484\ttotal: 610ms\tremaining: 141ms\n",
      "812:\tlearn: 0.0158354\ttotal: 610ms\tremaining: 140ms\n",
      "813:\tlearn: 0.0158269\ttotal: 610ms\tremaining: 139ms\n",
      "814:\tlearn: 0.0158180\ttotal: 611ms\tremaining: 139ms\n",
      "815:\tlearn: 0.0158117\ttotal: 611ms\tremaining: 138ms\n",
      "816:\tlearn: 0.0158054\ttotal: 611ms\tremaining: 137ms\n",
      "817:\tlearn: 0.0158020\ttotal: 612ms\tremaining: 136ms\n",
      "818:\tlearn: 0.0157833\ttotal: 612ms\tremaining: 135ms\n",
      "819:\tlearn: 0.0157670\ttotal: 613ms\tremaining: 134ms\n",
      "820:\tlearn: 0.0157431\ttotal: 613ms\tremaining: 134ms\n",
      "821:\tlearn: 0.0157331\ttotal: 614ms\tremaining: 133ms\n",
      "822:\tlearn: 0.0157190\ttotal: 614ms\tremaining: 132ms\n",
      "823:\tlearn: 0.0157011\ttotal: 615ms\tremaining: 131ms\n",
      "824:\tlearn: 0.0156845\ttotal: 615ms\tremaining: 131ms\n",
      "825:\tlearn: 0.0156711\ttotal: 616ms\tremaining: 130ms\n",
      "826:\tlearn: 0.0156543\ttotal: 616ms\tremaining: 129ms\n",
      "827:\tlearn: 0.0156410\ttotal: 617ms\tremaining: 128ms\n",
      "828:\tlearn: 0.0156236\ttotal: 617ms\tremaining: 127ms\n",
      "829:\tlearn: 0.0156141\ttotal: 618ms\tremaining: 127ms\n",
      "830:\tlearn: 0.0155933\ttotal: 619ms\tremaining: 126ms\n",
      "831:\tlearn: 0.0155825\ttotal: 620ms\tremaining: 125ms\n",
      "832:\tlearn: 0.0155757\ttotal: 620ms\tremaining: 124ms\n",
      "833:\tlearn: 0.0155710\ttotal: 621ms\tremaining: 124ms\n",
      "834:\tlearn: 0.0155526\ttotal: 621ms\tremaining: 123ms\n",
      "835:\tlearn: 0.0155449\ttotal: 622ms\tremaining: 122ms\n",
      "836:\tlearn: 0.0155273\ttotal: 622ms\tremaining: 121ms\n",
      "837:\tlearn: 0.0155209\ttotal: 623ms\tremaining: 120ms\n",
      "838:\tlearn: 0.0154997\ttotal: 623ms\tremaining: 120ms\n",
      "839:\tlearn: 0.0154922\ttotal: 624ms\tremaining: 119ms\n",
      "840:\tlearn: 0.0154805\ttotal: 624ms\tremaining: 118ms\n",
      "841:\tlearn: 0.0154660\ttotal: 625ms\tremaining: 117ms\n",
      "842:\tlearn: 0.0154581\ttotal: 625ms\tremaining: 116ms\n",
      "843:\tlearn: 0.0154458\ttotal: 626ms\tremaining: 116ms\n",
      "844:\tlearn: 0.0154245\ttotal: 626ms\tremaining: 115ms\n",
      "845:\tlearn: 0.0154155\ttotal: 627ms\tremaining: 114ms\n",
      "846:\tlearn: 0.0154079\ttotal: 627ms\tremaining: 113ms\n",
      "847:\tlearn: 0.0154017\ttotal: 628ms\tremaining: 113ms\n",
      "848:\tlearn: 0.0153854\ttotal: 628ms\tremaining: 112ms\n",
      "849:\tlearn: 0.0153713\ttotal: 629ms\tremaining: 111ms\n",
      "850:\tlearn: 0.0153559\ttotal: 629ms\tremaining: 110ms\n",
      "851:\tlearn: 0.0153435\ttotal: 630ms\tremaining: 109ms\n",
      "852:\tlearn: 0.0153286\ttotal: 630ms\tremaining: 109ms\n",
      "853:\tlearn: 0.0153175\ttotal: 631ms\tremaining: 108ms\n",
      "854:\tlearn: 0.0153004\ttotal: 632ms\tremaining: 107ms\n",
      "855:\tlearn: 0.0152900\ttotal: 632ms\tremaining: 106ms\n",
      "856:\tlearn: 0.0152788\ttotal: 633ms\tremaining: 106ms\n",
      "857:\tlearn: 0.0152645\ttotal: 633ms\tremaining: 105ms\n",
      "858:\tlearn: 0.0152484\ttotal: 634ms\tremaining: 104ms\n",
      "859:\tlearn: 0.0152348\ttotal: 634ms\tremaining: 103ms\n",
      "860:\tlearn: 0.0152223\ttotal: 635ms\tremaining: 103ms\n",
      "861:\tlearn: 0.0152146\ttotal: 635ms\tremaining: 102ms\n",
      "862:\tlearn: 0.0152017\ttotal: 636ms\tremaining: 101ms\n",
      "863:\tlearn: 0.0151957\ttotal: 636ms\tremaining: 100ms\n",
      "864:\tlearn: 0.0151812\ttotal: 636ms\tremaining: 99.3ms\n",
      "865:\tlearn: 0.0151670\ttotal: 637ms\tremaining: 98.6ms\n",
      "866:\tlearn: 0.0151558\ttotal: 638ms\tremaining: 97.8ms\n",
      "867:\tlearn: 0.0151500\ttotal: 638ms\tremaining: 97ms\n",
      "868:\tlearn: 0.0151437\ttotal: 638ms\tremaining: 96.2ms\n",
      "869:\tlearn: 0.0151309\ttotal: 639ms\tremaining: 95.5ms\n",
      "870:\tlearn: 0.0151236\ttotal: 639ms\tremaining: 94.7ms\n",
      "871:\tlearn: 0.0151093\ttotal: 640ms\tremaining: 93.9ms\n",
      "872:\tlearn: 0.0151003\ttotal: 640ms\tremaining: 93.2ms\n",
      "873:\tlearn: 0.0150798\ttotal: 641ms\tremaining: 92.4ms\n",
      "874:\tlearn: 0.0150469\ttotal: 641ms\tremaining: 91.6ms\n",
      "875:\tlearn: 0.0150355\ttotal: 642ms\tremaining: 90.9ms\n",
      "876:\tlearn: 0.0150243\ttotal: 642ms\tremaining: 90.1ms\n",
      "877:\tlearn: 0.0150163\ttotal: 643ms\tremaining: 89.3ms\n",
      "878:\tlearn: 0.0150097\ttotal: 643ms\tremaining: 88.6ms\n",
      "879:\tlearn: 0.0149934\ttotal: 644ms\tremaining: 87.8ms\n",
      "880:\tlearn: 0.0149831\ttotal: 644ms\tremaining: 87ms\n",
      "881:\tlearn: 0.0149776\ttotal: 644ms\tremaining: 86.2ms\n",
      "882:\tlearn: 0.0149676\ttotal: 644ms\tremaining: 85.4ms\n",
      "883:\tlearn: 0.0149603\ttotal: 645ms\tremaining: 84.6ms\n",
      "884:\tlearn: 0.0149484\ttotal: 645ms\tremaining: 83.9ms\n",
      "885:\tlearn: 0.0149391\ttotal: 646ms\tremaining: 83.1ms\n",
      "886:\tlearn: 0.0149223\ttotal: 646ms\tremaining: 82.3ms\n",
      "887:\tlearn: 0.0149195\ttotal: 647ms\tremaining: 81.6ms\n",
      "888:\tlearn: 0.0149135\ttotal: 647ms\tremaining: 80.8ms\n",
      "889:\tlearn: 0.0148955\ttotal: 647ms\tremaining: 80ms\n",
      "890:\tlearn: 0.0148852\ttotal: 648ms\tremaining: 79.3ms\n",
      "891:\tlearn: 0.0148703\ttotal: 649ms\tremaining: 78.5ms\n"
     ]
    },
    {
     "name": "stdout",
     "output_type": "stream",
     "text": [
      "892:\tlearn: 0.0148542\ttotal: 649ms\tremaining: 77.8ms\n",
      "893:\tlearn: 0.0148446\ttotal: 652ms\tremaining: 77.3ms\n",
      "894:\tlearn: 0.0148291\ttotal: 652ms\tremaining: 76.5ms\n",
      "895:\tlearn: 0.0148145\ttotal: 653ms\tremaining: 75.8ms\n",
      "896:\tlearn: 0.0147585\ttotal: 654ms\tremaining: 75.1ms\n",
      "897:\tlearn: 0.0147446\ttotal: 655ms\tremaining: 74.4ms\n",
      "898:\tlearn: 0.0147321\ttotal: 656ms\tremaining: 73.7ms\n",
      "899:\tlearn: 0.0147147\ttotal: 656ms\tremaining: 72.9ms\n",
      "900:\tlearn: 0.0147031\ttotal: 657ms\tremaining: 72.1ms\n",
      "901:\tlearn: 0.0146960\ttotal: 657ms\tremaining: 71.4ms\n",
      "902:\tlearn: 0.0146828\ttotal: 658ms\tremaining: 70.6ms\n",
      "903:\tlearn: 0.0146626\ttotal: 658ms\tremaining: 69.9ms\n",
      "904:\tlearn: 0.0146564\ttotal: 659ms\tremaining: 69.1ms\n",
      "905:\tlearn: 0.0146494\ttotal: 659ms\tremaining: 68.4ms\n",
      "906:\tlearn: 0.0146445\ttotal: 660ms\tremaining: 67.6ms\n",
      "907:\tlearn: 0.0146286\ttotal: 660ms\tremaining: 66.9ms\n",
      "908:\tlearn: 0.0146089\ttotal: 661ms\tremaining: 66.1ms\n",
      "909:\tlearn: 0.0145996\ttotal: 661ms\tremaining: 65.4ms\n",
      "910:\tlearn: 0.0145942\ttotal: 662ms\tremaining: 64.6ms\n",
      "911:\tlearn: 0.0145847\ttotal: 662ms\tremaining: 63.9ms\n",
      "912:\tlearn: 0.0145764\ttotal: 663ms\tremaining: 63.2ms\n",
      "913:\tlearn: 0.0145645\ttotal: 663ms\tremaining: 62.4ms\n",
      "914:\tlearn: 0.0145603\ttotal: 664ms\tremaining: 61.7ms\n",
      "915:\tlearn: 0.0145542\ttotal: 664ms\tremaining: 60.9ms\n",
      "916:\tlearn: 0.0145489\ttotal: 665ms\tremaining: 60.2ms\n",
      "917:\tlearn: 0.0145413\ttotal: 665ms\tremaining: 59.4ms\n",
      "918:\tlearn: 0.0145365\ttotal: 666ms\tremaining: 58.7ms\n",
      "919:\tlearn: 0.0145200\ttotal: 666ms\tremaining: 57.9ms\n",
      "920:\tlearn: 0.0145110\ttotal: 666ms\tremaining: 57.2ms\n",
      "921:\tlearn: 0.0145085\ttotal: 667ms\tremaining: 56.4ms\n",
      "922:\tlearn: 0.0145004\ttotal: 668ms\tremaining: 55.7ms\n",
      "923:\tlearn: 0.0144948\ttotal: 668ms\tremaining: 55ms\n",
      "924:\tlearn: 0.0144787\ttotal: 669ms\tremaining: 54.3ms\n",
      "925:\tlearn: 0.0144630\ttotal: 670ms\tremaining: 53.6ms\n",
      "926:\tlearn: 0.0144580\ttotal: 671ms\tremaining: 52.8ms\n",
      "927:\tlearn: 0.0144452\ttotal: 671ms\tremaining: 52.1ms\n",
      "928:\tlearn: 0.0144351\ttotal: 672ms\tremaining: 51.3ms\n",
      "929:\tlearn: 0.0144301\ttotal: 672ms\tremaining: 50.6ms\n",
      "930:\tlearn: 0.0144201\ttotal: 673ms\tremaining: 49.9ms\n",
      "931:\tlearn: 0.0144176\ttotal: 673ms\tremaining: 49.1ms\n",
      "932:\tlearn: 0.0144125\ttotal: 674ms\tremaining: 48.4ms\n",
      "933:\tlearn: 0.0144081\ttotal: 674ms\tremaining: 47.6ms\n",
      "934:\tlearn: 0.0144059\ttotal: 675ms\tremaining: 46.9ms\n",
      "935:\tlearn: 0.0144032\ttotal: 676ms\tremaining: 46.2ms\n",
      "936:\tlearn: 0.0143930\ttotal: 676ms\tremaining: 45.5ms\n",
      "937:\tlearn: 0.0143861\ttotal: 676ms\tremaining: 44.7ms\n",
      "938:\tlearn: 0.0143640\ttotal: 677ms\tremaining: 44ms\n",
      "939:\tlearn: 0.0143566\ttotal: 677ms\tremaining: 43.2ms\n",
      "940:\tlearn: 0.0143369\ttotal: 678ms\tremaining: 42.5ms\n"
     ]
    },
    {
     "name": "stdout",
     "output_type": "stream",
     "text": [
      "941:\tlearn: 0.0143250\ttotal: 678ms\tremaining: 41.8ms\n",
      "942:\tlearn: 0.0143165\ttotal: 679ms\tremaining: 41ms\n",
      "943:\tlearn: 0.0143055\ttotal: 680ms\tremaining: 40.3ms\n",
      "944:\tlearn: 0.0142950\ttotal: 680ms\tremaining: 39.6ms\n",
      "945:\tlearn: 0.0142880\ttotal: 681ms\tremaining: 38.9ms\n",
      "946:\tlearn: 0.0142693\ttotal: 682ms\tremaining: 38.1ms\n",
      "947:\tlearn: 0.0142540\ttotal: 682ms\tremaining: 37.4ms\n",
      "948:\tlearn: 0.0142484\ttotal: 682ms\tremaining: 36.7ms\n",
      "949:\tlearn: 0.0142381\ttotal: 683ms\tremaining: 35.9ms\n",
      "950:\tlearn: 0.0142286\ttotal: 683ms\tremaining: 35.2ms\n",
      "951:\tlearn: 0.0142231\ttotal: 684ms\tremaining: 34.5ms\n",
      "952:\tlearn: 0.0142140\ttotal: 684ms\tremaining: 33.7ms\n",
      "953:\tlearn: 0.0142092\ttotal: 685ms\tremaining: 33ms\n",
      "954:\tlearn: 0.0141899\ttotal: 685ms\tremaining: 32.3ms\n",
      "955:\tlearn: 0.0141756\ttotal: 686ms\tremaining: 31.6ms\n",
      "956:\tlearn: 0.0141584\ttotal: 686ms\tremaining: 30.8ms\n",
      "957:\tlearn: 0.0141454\ttotal: 687ms\tremaining: 30.1ms\n",
      "958:\tlearn: 0.0141311\ttotal: 687ms\tremaining: 29.4ms\n",
      "959:\tlearn: 0.0141255\ttotal: 688ms\tremaining: 28.7ms\n",
      "960:\tlearn: 0.0141076\ttotal: 689ms\tremaining: 27.9ms\n",
      "961:\tlearn: 0.0140901\ttotal: 689ms\tremaining: 27.2ms\n",
      "962:\tlearn: 0.0140840\ttotal: 690ms\tremaining: 26.5ms\n",
      "963:\tlearn: 0.0140764\ttotal: 690ms\tremaining: 25.8ms\n",
      "964:\tlearn: 0.0140591\ttotal: 691ms\tremaining: 25.1ms\n",
      "965:\tlearn: 0.0140539\ttotal: 692ms\tremaining: 24.3ms\n",
      "966:\tlearn: 0.0140452\ttotal: 694ms\tremaining: 23.7ms\n",
      "967:\tlearn: 0.0140411\ttotal: 695ms\tremaining: 23ms\n",
      "968:\tlearn: 0.0140329\ttotal: 696ms\tremaining: 22.3ms\n",
      "969:\tlearn: 0.0140228\ttotal: 696ms\tremaining: 21.5ms\n",
      "970:\tlearn: 0.0140046\ttotal: 697ms\tremaining: 20.8ms\n",
      "971:\tlearn: 0.0140006\ttotal: 697ms\tremaining: 20.1ms\n",
      "972:\tlearn: 0.0139932\ttotal: 698ms\tremaining: 19.4ms\n",
      "973:\tlearn: 0.0139836\ttotal: 699ms\tremaining: 18.6ms\n",
      "974:\tlearn: 0.0139746\ttotal: 699ms\tremaining: 17.9ms\n",
      "975:\tlearn: 0.0139641\ttotal: 700ms\tremaining: 17.2ms\n",
      "976:\tlearn: 0.0139515\ttotal: 700ms\tremaining: 16.5ms\n",
      "977:\tlearn: 0.0139442\ttotal: 700ms\tremaining: 15.8ms\n",
      "978:\tlearn: 0.0139350\ttotal: 701ms\tremaining: 15ms\n",
      "979:\tlearn: 0.0139246\ttotal: 701ms\tremaining: 14.3ms\n",
      "980:\tlearn: 0.0139113\ttotal: 702ms\tremaining: 13.6ms\n",
      "981:\tlearn: 0.0138964\ttotal: 702ms\tremaining: 12.9ms\n",
      "982:\tlearn: 0.0138880\ttotal: 702ms\tremaining: 12.1ms\n",
      "983:\tlearn: 0.0138761\ttotal: 703ms\tremaining: 11.4ms\n",
      "984:\tlearn: 0.0138722\ttotal: 703ms\tremaining: 10.7ms\n",
      "985:\tlearn: 0.0138654\ttotal: 704ms\tremaining: 9.99ms\n",
      "986:\tlearn: 0.0138587\ttotal: 704ms\tremaining: 9.27ms\n",
      "987:\tlearn: 0.0138448\ttotal: 705ms\tremaining: 8.56ms\n",
      "988:\tlearn: 0.0138374\ttotal: 705ms\tremaining: 7.84ms\n",
      "989:\tlearn: 0.0138305\ttotal: 706ms\tremaining: 7.13ms\n",
      "990:\tlearn: 0.0138182\ttotal: 706ms\tremaining: 6.42ms\n",
      "991:\tlearn: 0.0138100\ttotal: 707ms\tremaining: 5.7ms\n",
      "992:\tlearn: 0.0137958\ttotal: 708ms\tremaining: 4.99ms\n",
      "993:\tlearn: 0.0137835\ttotal: 709ms\tremaining: 4.28ms\n",
      "994:\tlearn: 0.0137705\ttotal: 710ms\tremaining: 3.57ms\n",
      "995:\tlearn: 0.0137669\ttotal: 711ms\tremaining: 2.85ms\n",
      "996:\tlearn: 0.0137588\ttotal: 711ms\tremaining: 2.14ms\n",
      "997:\tlearn: 0.0137511\ttotal: 712ms\tremaining: 1.43ms\n",
      "998:\tlearn: 0.0137461\ttotal: 712ms\tremaining: 713us\n",
      "999:\tlearn: 0.0137347\ttotal: 713ms\tremaining: 0us\n"
     ]
    },
    {
     "data": {
      "text/plain": [
       "<catboost.core.CatBoostRegressor at 0x7fcb3dff4c40>"
      ]
     },
     "execution_count": 9,
     "metadata": {},
     "output_type": "execute_result"
    }
   ],
   "source": [
    "#Train the Model \n",
    "prior_model = ctb.CatBoostRegressor()\n",
    "prior_model.fit(X_train,Y_train)"
   ]
  },
  {
   "cell_type": "code",
   "execution_count": 10,
   "id": "af65dcda",
   "metadata": {
    "execution": {
     "iopub.execute_input": "2022-07-24T16:22:32.201276Z",
     "iopub.status.busy": "2022-07-24T16:22:32.200891Z",
     "iopub.status.idle": "2022-07-24T16:22:32.231351Z",
     "shell.execute_reply": "2022-07-24T16:22:32.230202Z"
    },
    "id": "af65dcda",
    "papermill": {
     "duration": 0.050192,
     "end_time": "2022-07-24T16:22:32.234983",
     "exception": false,
     "start_time": "2022-07-24T16:22:32.184791",
     "status": "completed"
    },
    "tags": []
   },
   "outputs": [
    {
     "data": {
      "application/scrapbook.scrap.json+json": {
       "data": 0.001171804715299223,
       "encoder": "json",
       "name": "Prior Model MSE",
       "version": 1
      }
     },
     "metadata": {
      "scrapbook": {
       "data": true,
       "display": false,
       "name": "Prior Model MSE"
      }
     },
     "output_type": "display_data"
    },
    {
     "data": {
      "application/scrapbook.scrap.json+json": {
       "data": 0.96976830729114,
       "encoder": "json",
       "name": "ABC Pre-generator MSE",
       "version": 1
      }
     },
     "metadata": {
      "scrapbook": {
       "data": true,
       "display": false,
       "name": "ABC Pre-generator MSE"
      }
     },
     "output_type": "display_data"
    },
    {
     "data": {
      "application/scrapbook.scrap.json+json": {
       "data": 0.019076690528588347,
       "encoder": "json",
       "name": "Prior Model MAE",
       "version": 1
      }
     },
     "metadata": {
      "scrapbook": {
       "data": true,
       "display": false,
       "name": "Prior Model MAE"
      }
     },
     "output_type": "display_data"
    },
    {
     "name": "stdout",
     "output_type": "stream",
     "text": [
      "Prior Model MAE 0.019076690528588347\n",
      "ABC Pre-generator MAE 0.8086935972672896\n"
     ]
    }
   ],
   "source": [
    "y_pred = prior_model.predict(X_test)\n",
    "y_abc = y_pred + np.random.normal(0,variance, y_pred.shape) + bias \n",
    "mse = mean_squared_error(y_pred,Y_test)\n",
    "sb.glue(\"Prior Model MSE\",mse)\n",
    "mse = mean_squared_error(y_abc,Y_test)\n",
    "sb.glue(\"ABC Pre-generator MSE\",mse)\n",
    "mae = mean_absolute_error(y_pred,Y_test)\n",
    "sb.glue(\"Prior Model MAE\",mae)\n",
    "print(\"Prior Model MAE\",mae)\n",
    "mae = mean_absolute_error(y_abc,Y_test)\n",
    "print(\"ABC Pre-generator MAE\",mae)"
   ]
  },
  {
   "cell_type": "markdown",
   "id": "25609da2",
   "metadata": {
    "papermill": {
     "duration": 0.012111,
     "end_time": "2022-07-24T16:22:32.257704",
     "exception": false,
     "start_time": "2022-07-24T16:22:32.245593",
     "status": "completed"
    },
    "tags": []
   },
   "source": [
    "# mGAN Model"
   ]
  },
  {
   "cell_type": "code",
   "execution_count": 11,
   "id": "dfc3464d",
   "metadata": {
    "execution": {
     "iopub.execute_input": "2022-07-24T16:22:32.297176Z",
     "iopub.status.busy": "2022-07-24T16:22:32.296837Z",
     "iopub.status.idle": "2022-07-24T16:22:32.302738Z",
     "shell.execute_reply": "2022-07-24T16:22:32.301126Z"
    },
    "papermill": {
     "duration": 0.034106,
     "end_time": "2022-07-24T16:22:32.306796",
     "exception": false,
     "start_time": "2022-07-24T16:22:32.272690",
     "status": "completed"
    },
    "tags": []
   },
   "outputs": [],
   "source": [
    "# gen = network.Generator(n_features+1).to(device)\n",
    "# disc = network.Discriminator(n_features+1).to(device)\n",
    "\n",
    "# criterion = torch.nn.BCELoss()\n",
    "# gen_opt = torch.optim.Adam(gen.parameters(), lr=0.01, betas=(0.5, 0.999))\n",
    "# disc_opt = torch.optim.Adam(disc.parameters(), lr=0.01, betas=(0.5, 0.999))"
   ]
  },
  {
   "cell_type": "code",
   "execution_count": 12,
   "id": "b75fdd85",
   "metadata": {
    "execution": {
     "iopub.execute_input": "2022-07-24T16:22:32.336100Z",
     "iopub.status.busy": "2022-07-24T16:22:32.335420Z",
     "iopub.status.idle": "2022-07-24T16:22:32.342999Z",
     "shell.execute_reply": "2022-07-24T16:22:32.341023Z"
    },
    "papermill": {
     "duration": 0.028107,
     "end_time": "2022-07-24T16:22:32.347874",
     "exception": false,
     "start_time": "2022-07-24T16:22:32.319767",
     "status": "completed"
    },
    "tags": []
   },
   "outputs": [],
   "source": [
    "#Training the ABC_GAN \n",
    "# ABC_train_test2.training_GAN(disc,gen,disc_opt,gen_opt,train_data,batch_size,n_epochs,criterion,prior_model,variance,bias,device)"
   ]
  },
  {
   "cell_type": "code",
   "execution_count": 13,
   "id": "1fa7c368",
   "metadata": {
    "execution": {
     "iopub.execute_input": "2022-07-24T16:22:32.386932Z",
     "iopub.status.busy": "2022-07-24T16:22:32.386271Z",
     "iopub.status.idle": "2022-07-24T16:22:32.395463Z",
     "shell.execute_reply": "2022-07-24T16:22:32.392900Z"
    },
    "papermill": {
     "duration": 0.039562,
     "end_time": "2022-07-24T16:22:32.402545",
     "exception": false,
     "start_time": "2022-07-24T16:22:32.362983",
     "status": "completed"
    },
    "tags": []
   },
   "outputs": [],
   "source": [
    "# ABC_GAN1_metrics=ABC_train_test2.test_generator(gen,test_data,prior_model,variance,bias,\"1\",device)\n",
    "# sb.glue(\"ABC_GAN_1 Metrics\",ABC_GAN1_metrics)\n",
    "\n",
    "# print(\"MAE\")\n",
    "# print(mean(ABC_GAN1_metrics[1]))"
   ]
  },
  {
   "cell_type": "code",
   "execution_count": 14,
   "id": "eb22ce5c",
   "metadata": {
    "execution": {
     "iopub.execute_input": "2022-07-24T16:22:32.448380Z",
     "iopub.status.busy": "2022-07-24T16:22:32.447944Z",
     "iopub.status.idle": "2022-07-24T16:22:32.457865Z",
     "shell.execute_reply": "2022-07-24T16:22:32.455269Z"
    },
    "papermill": {
     "duration": 0.038913,
     "end_time": "2022-07-24T16:22:32.463779",
     "exception": false,
     "start_time": "2022-07-24T16:22:32.424866",
     "status": "completed"
    },
    "tags": []
   },
   "outputs": [],
   "source": [
    "# sanityChecks.discProbVsError(train_data,disc,device)\n",
    "# sanityChecks.discProbVsError(test_data,disc,device)"
   ]
  },
  {
   "cell_type": "markdown",
   "id": "e7caaf27",
   "metadata": {
    "papermill": {
     "duration": 0.015477,
     "end_time": "2022-07-24T16:22:32.499274",
     "exception": false,
     "start_time": "2022-07-24T16:22:32.483797",
     "status": "completed"
    },
    "tags": []
   },
   "source": [
    "# mGAN Model with TabNet Generator"
   ]
  },
  {
   "cell_type": "code",
   "execution_count": 15,
   "id": "4dbe2976",
   "metadata": {
    "execution": {
     "iopub.execute_input": "2022-07-24T16:22:32.526625Z",
     "iopub.status.busy": "2022-07-24T16:22:32.525947Z",
     "iopub.status.idle": "2022-07-24T16:22:32.543934Z",
     "shell.execute_reply": "2022-07-24T16:22:32.543060Z"
    },
    "papermill": {
     "duration": 0.038608,
     "end_time": "2022-07-24T16:22:32.549066",
     "exception": false,
     "start_time": "2022-07-24T16:22:32.510458",
     "status": "completed"
    },
    "tags": []
   },
   "outputs": [],
   "source": [
    "gen2 = network.GeneratorTabnet(n_features+1).to(device)\n",
    "disc2 = network.Discriminator(n_features+1).to(device)\n",
    "\n",
    "criterion = torch.nn.BCELoss()\n",
    "gen_opt = torch.optim.Adam(gen2.parameters(), lr=0.01, betas=(0.5, 0.999))\n",
    "disc_opt = torch.optim.Adam(disc2.parameters(), lr=0.01, betas=(0.5, 0.999))"
   ]
  },
  {
   "cell_type": "code",
   "execution_count": 16,
   "id": "3feb6b81",
   "metadata": {
    "execution": {
     "iopub.execute_input": "2022-07-24T16:22:32.585772Z",
     "iopub.status.busy": "2022-07-24T16:22:32.585138Z",
     "iopub.status.idle": "2022-07-24T16:41:53.216323Z",
     "shell.execute_reply": "2022-07-24T16:41:53.214572Z"
    },
    "papermill": {
     "duration": 1160.666657,
     "end_time": "2022-07-24T16:41:53.235836",
     "exception": false,
     "start_time": "2022-07-24T16:22:32.569179",
     "status": "completed"
    },
    "tags": []
   },
   "outputs": [
    {
     "data": {
      "image/png": "[encoded data removed]",
      "text/plain": [
       "<Figure size 432x288 with 1 Axes>"
      ]
     },
     "metadata": {
      "needs_background": "light"
     },
     "output_type": "display_data"
    },
    {
     "data": {
      "image/png": "[encoded data removed]",
      "text/plain": [
       "<Figure size 432x288 with 1 Axes>"
      ]
     },
     "metadata": {
      "needs_background": "light"
     },
     "output_type": "display_data"
    }
   ],
   "source": [
    "#Training the ABC_GAN \n",
    "ABC_train_test2.training_GAN(disc2,gen2,disc_opt,gen_opt,train_data,batch_size,n_epochs,criterion,prior_model,variance,bias,device)"
   ]
  },
  {
   "cell_type": "code",
   "execution_count": 17,
   "id": "90dea7ee",
   "metadata": {
    "execution": {
     "iopub.execute_input": "2022-07-24T16:41:53.312188Z",
     "iopub.status.busy": "2022-07-24T16:41:53.310638Z",
     "iopub.status.idle": "2022-07-24T16:41:56.030541Z",
     "shell.execute_reply": "2022-07-24T16:41:56.028594Z"
    },
    "papermill": {
     "duration": 2.753319,
     "end_time": "2022-07-24T16:41:56.036824",
     "exception": false,
     "start_time": "2022-07-24T16:41:53.283505",
     "status": "completed"
    },
    "tags": []
   },
   "outputs": [
    {
     "data": {
      "application/scrapbook.scrap.json+json": {
       "data": 0.058875054342852354,
       "encoder": "json",
       "name": "ABC-GAN Model 1 MSE",
       "version": 1
      }
     },
     "metadata": {
      "scrapbook": {
       "data": true,
       "display": false,
       "name": "ABC-GAN Model 1 MSE"
      }
     },
     "output_type": "display_data"
    },
    {
     "data": {
      "application/scrapbook.scrap.json+json": {
       "data": 0.1366821483682309,
       "encoder": "json",
       "name": "ABC-GAN Model 1 MAE",
       "version": 1
      }
     },
     "metadata": {
      "scrapbook": {
       "data": true,
       "display": false,
       "name": "ABC-GAN Model 1 MAE"
      }
     },
     "output_type": "display_data"
    },
    {
     "data": {
      "application/scrapbook.scrap.json+json": {
       "data": 21.049050848707555,
       "encoder": "json",
       "name": "ABC-GAN Model 1 Manhattan Distance",
       "version": 1
      }
     },
     "metadata": {
      "scrapbook": {
       "data": true,
       "display": false,
       "name": "ABC-GAN Model 1 Manhattan Distance"
      }
     },
     "output_type": "display_data"
    },
    {
     "data": {
      "application/scrapbook.scrap.json+json": {
       "data": 3.011101663846787,
       "encoder": "json",
       "name": "ABC-GAN Model 1 Euclidean distance",
       "version": 1
      }
     },
     "metadata": {
      "scrapbook": {
       "data": true,
       "display": false,
       "name": "ABC-GAN Model 1 Euclidean distance"
      }
     },
     "output_type": "display_data"
    },
    {
     "data": {
      "application/scrapbook.scrap.json+json": {
       "data": [
        [
         0.05877526570602881,
         0.05896313786821681,
         0.05895461279190532,
         0.058880077724225266,
         0.05892825537523517,
         0.05883899466516676,
         0.05896372294709271,
         0.05898611263624894,
         0.05942797875875886,
         0.05894392645752083,
         0.0592519462348585,
         0.05889786863887408,
         0.05888793550592225,
         0.05881907313117683,
         0.058995276350075725,
         0.05853651317028704,
         0.05902599809247795,
         0.05904950191435474,
         0.058884108535628386,
         0.05893619473973586,
         0.05876289067402163,
         0.05875895955131396,
         0.058672632249897605,
         0.059012213163076394,
         0.05875977270798803,
         0.05890562210571188,
         0.058689937878481806,
         0.058721939915691336,
         0.05865628359021727,
         0.05896628973707362,
         0.05891276652671614,
         0.05882418414264983,
         0.058910403091684736,
         0.05889773722103412,
         0.0588040367166163,
         0.05880904134324404,
         0.058919057374493156,
         0.05857205749610149,
         0.05875826571822162,
         0.05904477242740564,
         0.05895594698089748,
         0.058794708243129934,
         0.0588590209400751,
         0.0586054973498339,
         0.05942872115297725,
         0.058933745250176646,
         0.058900586962888836,
         0.05858479456537868,
         0.05885331409747409,
         0.059199878518175424,
         0.05891600551660034,
         0.05894880460812291,
         0.059000726511522966,
         0.05893951373475396,
         0.05891039559947457,
         0.058933781666429944,
         0.0588775439932471,
         0.059055406137411524,
         0.05864780592048033,
         0.05895080959465199,
         0.05874916209648285,
         0.05837422284441104,
         0.0587187432803725,
         0.05912503000446845,
         0.058882169319751744,
         0.05901499535085959,
         0.05880862397846399,
         0.05897946602889766,
         0.058309941834586015,
         0.058852119425696896,
         0.05887575835090246,
         0.05894657686024134,
         0.059135947924852654,
         0.058871044135924616,
         0.059075270532012676,
         0.05889336095984655,
         0.05894744297134637,
         0.058706155915269814,
         0.058931648764148456,
         0.05868579078326801,
         0.05912102582146212,
         0.05872267594853919,
         0.058983588546054885,
         0.058668715059653334,
         0.05910190040060445,
         0.058853263414666575,
         0.059031199555689445,
         0.05912877749794936,
         0.05823918017618285,
         0.058803545493615404,
         0.058803605126535936,
         0.059069336555210454,
         0.058881593790583976,
         0.058961469055521576,
         0.05901664346444173,
         0.05882694348126147,
         0.0586461214677228,
         0.05900076537847101,
         0.058281663527964066,
         0.058877576942166415
        ],
        [
         0.13614233765847883,
         0.13686261818345105,
         0.1366447912674252,
         0.13653341476357989,
         0.13689208377830006,
         0.13645484655273038,
         0.13671750119318823,
         0.1369414267480954,
         0.13735209733199377,
         0.13666349474050396,
         0.1366990042076289,
         0.1365843689939999,
         0.1365902516628047,
         0.1367563618734092,
         0.13683736206987848,
         0.13655571986667134,
         0.13650506346595365,
         0.13705173559341724,
         0.13655153515615634,
         0.13693351113515628,
         0.1367524881520635,
         0.13670118248646523,
         0.13642275235434245,
         0.13720905353835264,
         0.13660650941023192,
         0.13687733085463186,
         0.13652120684213065,
         0.1368039155427318,
         0.1362748687796585,
         0.13721053068852657,
         0.13698147836008243,
         0.13700791321356187,
         0.1368093236966373,
         0.13676925331305761,
         0.1363172246530265,
         0.1362755683601483,
         0.13698109363919342,
         0.13656960755538244,
         0.13623716574549288,
         0.1369819250078751,
         0.13678772456024763,
         0.1362891665405848,
         0.13685577487355316,
         0.13656611932901205,
         0.1373975189741362,
         0.13670341785416587,
         0.1369809272106398,
         0.1363867890791266,
         0.13675404445256117,
         0.137319764134462,
         0.13675647585761624,
         0.13661365771013034,
         0.13681413793283237,
         0.13682376137366156,
         0.13648571208264534,
         0.13672504698639953,
         0.13630684202706272,
         0.136841201344384,
         0.1362266894550873,
         0.13666554413397203,
         0.13672744317052812,
         0.1361961281410866,
         0.1361905945852012,
         0.13712132595140825,
         0.13667095538422272,
         0.13684064477633734,
         0.1360573931052894,
         0.13672636699705543,
         0.13617326801812107,
         0.13614651501517405,
         0.1369007301287024,
         0.13706092244957563,
         0.13722257508424582,
         0.13630352951828148,
         0.13668323123174442,
         0.13687590053667884,
         0.13679872490707543,
         0.13653837994660262,
         0.136876056708589,
         0.1366529271079155,
         0.13724972867685092,
         0.13683056249585632,
         0.1366270145691641,
         0.136101926676929,
         0.13713217322267107,
         0.1363006816547993,
         0.13670459311068445,
         0.13709329357733588,
         0.13644843847285232,
         0.13635351981774166,
         0.13620566836763898,
         0.13694520390217568,
         0.13668027460913768,
         0.1368097002896202,
         0.13688681999148875,
         0.13646596262545943,
         0.13654092572290788,
         0.13642041771007435,
         0.13573430748293538,
         0.13703977673423368
        ],
        [
         20.96591999940574,
         21.07684320025146,
         21.043297855183482,
         21.026145873591304,
         21.08138090185821,
         21.01404636912048,
         21.054495183750987,
         21.08897971920669,
         21.15222298912704,
         21.046178190037608,
         21.05164664797485,
         21.033992825075984,
         21.034898756071925,
         21.060479728505015,
         21.072953758761287,
         21.029580859467387,
         21.02177977375686,
         21.105967281386256,
         21.028936414048076,
         21.087760714814067,
         21.05988317541778,
         21.051982102915645,
         21.009103862568736,
         21.130194244906306,
         21.037402449175715,
         21.079108951613307,
         21.02426585368812,
         21.0678029935807,
         20.98632979206741,
         21.13042172603309,
         21.095147667452693,
         21.09921863488853,
         21.068635849282146,
         21.06246501021087,
         20.99285259656608,
         20.98643752746284,
         21.095088420435786,
         21.031719563528895,
         20.980523524805903,
         21.095216451212764,
         21.065309582278132,
         20.988531647250056,
         21.075789330527186,
         21.031182376667857,
         21.15921792201698,
         21.052326349541545,
         21.095062790438533,
         21.003565518185496,
         21.060122845694423,
         21.14724367670715,
         21.0604972820729,
         21.038503287360072,
         21.069377241656184,
         21.07085925154388,
         21.01879966072738,
         21.055657235905528,
         20.99125367216766,
         21.073545007035136,
         20.978910176083446,
         21.046493796631694,
         21.056026248261333,
         20.974203733727336,
         20.973351566120982,
         21.11668419651687,
         21.0473271291703,
         21.07345929555595,
         20.952838538214564,
         21.055860517546535,
         20.970683274790645,
         20.966563312336802,
         21.08271243982017,
         21.107382057234645,
         21.132276562973857,
         20.99074354581535,
         21.04921760968864,
         21.07888868264854,
         21.067003635689616,
         21.026910511776805,
         21.078912733122706,
         21.044550774618983,
         21.13645821623504,
         21.071906624361873,
         21.04056024365127,
         20.959696708247066,
         21.118354676291347,
         20.99030497483909,
         21.052507339045405,
         21.112367210909724,
         21.013059524819255,
         20.998442051932216,
         20.975672928616405,
         21.089561400935054,
         21.0487622898072,
         21.068693844601512,
         21.080570278689265,
         21.01575824432075,
         21.027302561327815,
         21.00874432735145,
         20.90308335237205,
         21.104125617071986
        ],
        [
         3.008552960931291,
         3.0133574682910407,
         3.0131396200563656,
         3.0112342933638847,
         3.012465987822305,
         3.010183578859549,
         3.0133724187116795,
         3.0139444828965147,
         3.025212179145269,
         3.0128665211818144,
         3.020728342663108,
         3.011689188875009,
         3.0114352172862735,
         3.0096739461611506,
         3.014178587594249,
         3.0024361822067434,
         3.014963300977577,
         3.0155635119842246,
         3.011337363114065,
         3.0126689147530508,
         3.0082362214093714,
         3.0081355971601993,
         3.005925043390841,
         3.0146112232116704,
         3.008156411663156,
         3.0118874156049773,
         3.0063683129793333,
         3.007187846978713,
         3.0055062257286145,
         3.013438006581409,
         3.0120700597951378,
         3.009804704290309,
         3.0120096407746524,
         3.0116858289070016,
         3.0092892274354273,
         3.009417280281945,
         3.012230873567288,
         3.0033476079867327,
         3.008117836888397,
         3.0154427459032394,
         3.013173714716464,
         3.0090505262361433,
         3.0106958040910685,
         3.0042048185625463,
         3.025231075068233,
         3.012606308253238,
         3.011758687591833,
         3.0036741439557515,
         3.010549845295874,
         3.0194008166851605,
         3.0121528595933595,
         3.012991189773201,
         3.0143178138302766,
         3.012753742865837,
         3.012009449241334,
         3.0126072390257264,
         3.011169502860982,
         3.0157142678246847,
         3.0052890229982823,
         3.0130424287713584,
         3.0078847988010375,
         2.9982712215607346,
         3.0071059950020658,
         3.01749144500662,
         3.0112877768891115,
         3.0146822857529076,
         3.0094066014221896,
         3.013774671147503,
         2.9966199362825856,
         3.010519289351477,
         3.011123841033274,
         3.012934256912548,
         3.0177700343842155,
         3.0110032874330095,
         3.0162214212371663,
         3.0115739386268388,
         3.0129563915840767,
         3.006783665472385,
         3.0125527231367855,
         3.0062620944660288,
         3.0173892649946854,
         3.007206693274514,
         3.0138799969627943,
         3.0058246986786528,
         3.0169011686982867,
         3.010548548995457,
         3.0150961396904368,
         3.0175870715994595,
         2.9948011197961306,
         3.009276658271348,
         3.0092781841309613,
         3.016069931135949,
         3.011273060310196,
         3.013314824997601,
         3.0147243810212614,
         3.0098752957746053,
         3.005245864489179,
         3.014318806676649,
         2.9958932196102164,
         3.011170345412831
        ]
       ],
       "encoder": "json",
       "name": "ABC_GAN_2 Metrics",
       "version": 1
      }
     },
     "metadata": {
      "scrapbook": {
       "data": true,
       "display": false,
       "name": "ABC_GAN_2 Metrics"
      }
     },
     "output_type": "display_data"
    },
    {
     "name": "stdout",
     "output_type": "stream",
     "text": [
      "MAE\n",
      "0.1366821483682309\n"
     ]
    }
   ],
   "source": [
    "ABC_GAN2_metrics=ABC_train_test2.test_generator(gen2,test_data,prior_model,variance,bias,\"1\",device)\n",
    "sb.glue(\"ABC_GAN_2 Metrics\",ABC_GAN2_metrics)\n",
    "\n",
    "print(\"MAE\")\n",
    "print(mean(ABC_GAN2_metrics[1]))"
   ]
  },
  {
   "cell_type": "code",
   "execution_count": 18,
   "id": "59719d81",
   "metadata": {
    "execution": {
     "iopub.execute_input": "2022-07-24T16:41:56.075735Z",
     "iopub.status.busy": "2022-07-24T16:41:56.075247Z",
     "iopub.status.idle": "2022-07-24T16:41:57.459372Z",
     "shell.execute_reply": "2022-07-24T16:41:57.454838Z"
    },
    "papermill": {
     "duration": 1.405416,
     "end_time": "2022-07-24T16:41:57.462320",
     "exception": false,
     "start_time": "2022-07-24T16:41:56.056904",
     "status": "completed"
    },
    "tags": []
   },
   "outputs": [
    {
     "data": {
      "image/png": "[encoded data removed]",
      "text/plain": [
       "<Figure size 432x288 with 1 Axes>"
      ]
     },
     "metadata": {
      "needs_background": "light"
     },
     "output_type": "display_data"
    },
    {
     "data": {
      "image/png": "[encoded data removed]",
      "text/plain": [
       "<Figure size 432x288 with 1 Axes>"
      ]
     },
     "metadata": {
      "needs_background": "light"
     },
     "output_type": "display_data"
    },
    {
     "data": {
      "image/png": "[encoded data removed]",
      "text/plain": [
       "<Figure size 432x288 with 1 Axes>"
      ]
     },
     "metadata": {
      "needs_background": "light"
     },
     "output_type": "display_data"
    },
    {
     "data": {
      "image/png": "[encoded data removed]",
      "text/plain": [
       "<Figure size 432x288 with 1 Axes>"
      ]
     },
     "metadata": {
      "needs_background": "light"
     },
     "output_type": "display_data"
    }
   ],
   "source": [
    "sanityChecks.discProbVsError(train_data,disc2,device)\n",
    "sanityChecks.discProbVsError(test_data,disc2,device)"
   ]
  },
  {
   "cell_type": "markdown",
   "id": "130f3a4d",
   "metadata": {
    "id": "130f3a4d",
    "papermill": {
     "duration": 0.016985,
     "end_time": "2022-07-24T16:41:57.591839",
     "exception": false,
     "start_time": "2022-07-24T16:41:57.574854",
     "status": "completed"
    },
    "tags": []
   },
   "source": [
    "# skipGAN Model"
   ]
  },
  {
   "cell_type": "code",
   "execution_count": 19,
   "id": "4e43dad1",
   "metadata": {
    "execution": {
     "iopub.execute_input": "2022-07-24T16:41:57.634020Z",
     "iopub.status.busy": "2022-07-24T16:41:57.633356Z",
     "iopub.status.idle": "2022-07-24T16:41:57.647721Z",
     "shell.execute_reply": "2022-07-24T16:41:57.646843Z"
    },
    "id": "4e43dad1",
    "papermill": {
     "duration": 0.040207,
     "end_time": "2022-07-24T16:41:57.650759",
     "exception": false,
     "start_time": "2022-07-24T16:41:57.610552",
     "status": "completed"
    },
    "tags": []
   },
   "outputs": [],
   "source": [
    "#Generator\n",
    "gen3 = network.GeneratorWithSkipConnection(n_features+1).to(device)\n",
    "constraints=network.weightConstraint()\n",
    "#Discriminator \n",
    "disc3 = network.Discriminator(n_features+1).to(device)\n",
    "\n",
    "criterion = torch.nn.BCELoss()\n",
    "gen_opt = torch.optim.Adam(gen3.parameters(), lr=0.01, betas=(0.5, 0.999))\n",
    "disc_opt = torch.optim.Adam(disc3.parameters(), lr=0.01, betas=(0.5, 0.999))\n"
   ]
  },
  {
   "cell_type": "code",
   "execution_count": 20,
   "id": "26acbc37",
   "metadata": {
    "execution": {
     "iopub.execute_input": "2022-07-24T16:41:57.698233Z",
     "iopub.status.busy": "2022-07-24T16:41:57.697617Z",
     "iopub.status.idle": "2022-07-24T16:50:44.725057Z",
     "shell.execute_reply": "2022-07-24T16:50:44.723058Z"
    },
    "id": "26acbc37",
    "papermill": {
     "duration": 527.0553,
     "end_time": "2022-07-24T16:50:44.730193",
     "exception": false,
     "start_time": "2022-07-24T16:41:57.674893",
     "status": "completed"
    },
    "tags": []
   },
   "outputs": [
    {
     "data": {
      "image/png": "[encoded data removed]",
      "text/plain": [
       "<Figure size 432x288 with 1 Axes>"
      ]
     },
     "metadata": {
      "needs_background": "light"
     },
     "output_type": "display_data"
    },
    {
     "data": {
      "image/png": "[encoded data removed]",
      "text/plain": [
       "<Figure size 432x288 with 1 Axes>"
      ]
     },
     "metadata": {
      "needs_background": "light"
     },
     "output_type": "display_data"
    }
   ],
   "source": [
    "ABC_train_test2.training_GAN_skip_connection(disc3,gen3,disc_opt,gen_opt,train_data,batch_size,n_epochs,criterion,prior_model,variance,bias,device)"
   ]
  },
  {
   "cell_type": "code",
   "execution_count": 21,
   "id": "c5e0717b",
   "metadata": {
    "execution": {
     "iopub.execute_input": "2022-07-24T16:50:44.786432Z",
     "iopub.status.busy": "2022-07-24T16:50:44.785609Z",
     "iopub.status.idle": "2022-07-24T16:50:47.112939Z",
     "shell.execute_reply": "2022-07-24T16:50:47.109270Z"
    },
    "id": "c5e0717b",
    "papermill": {
     "duration": 2.362089,
     "end_time": "2022-07-24T16:50:47.116069",
     "exception": false,
     "start_time": "2022-07-24T16:50:44.753980",
     "status": "completed"
    },
    "tags": []
   },
   "outputs": [
    {
     "data": {
      "application/scrapbook.scrap.json+json": {
       "data": 0.014113615364508598,
       "encoder": "json",
       "name": "ABC-GAN Model 3 MSE",
       "version": 1
      }
     },
     "metadata": {
      "scrapbook": {
       "data": true,
       "display": false,
       "name": "ABC-GAN Model 3 MSE"
      }
     },
     "output_type": "display_data"
    },
    {
     "data": {
      "application/scrapbook.scrap.json+json": {
       "data": 0.07742167966972505,
       "encoder": "json",
       "name": "ABC-GAN Model 3 MAE",
       "version": 1
      }
     },
     "metadata": {
      "scrapbook": {
       "data": true,
       "display": false,
       "name": "ABC-GAN Model 3 MAE"
      }
     },
     "output_type": "display_data"
    },
    {
     "data": {
      "application/scrapbook.scrap.json+json": {
       "data": 11.922938669137658,
       "encoder": "json",
       "name": "ABC-GAN Model 3 Manhattan Distance",
       "version": 1
      }
     },
     "metadata": {
      "scrapbook": {
       "data": true,
       "display": false,
       "name": "ABC-GAN Model 3 Manhattan Distance"
      }
     },
     "output_type": "display_data"
    },
    {
     "data": {
      "application/scrapbook.scrap.json+json": {
       "data": 1.4742456230959373,
       "encoder": "json",
       "name": "ABC-GAN Model 3 Euclidean distance",
       "version": 1
      }
     },
     "metadata": {
      "scrapbook": {
       "data": true,
       "display": false,
       "name": "ABC-GAN Model 3 Euclidean distance"
      }
     },
     "output_type": "display_data"
    },
    {
     "data": {
      "application/scrapbook.scrap.json+json": {
       "data": [
        [
         0.014292840074053757,
         0.014375876180407905,
         0.014097402870899478,
         0.014181538934042382,
         0.014297472128399335,
         0.01414811508797308,
         0.014059979784212225,
         0.014299829291673468,
         0.013948568019791262,
         0.013923561606625156,
         0.014121958897762188,
         0.014104931048969564,
         0.014245102551336736,
         0.01393887370279327,
         0.014104960396056899,
         0.013942494839473327,
         0.014147144791146728,
         0.01385311037466076,
         0.013862731600453633,
         0.014207053188237681,
         0.014031158260154525,
         0.014203667671410064,
         0.01408448141751948,
         0.013999257077057013,
         0.013900848620038547,
         0.014345834086924839,
         0.014303183857918086,
         0.01399848116273518,
         0.01395166250295304,
         0.01411694885896489,
         0.013959692999064549,
         0.014256179564709993,
         0.014105877430898233,
         0.014091831148041918,
         0.014224352914804655,
         0.013751272413537753,
         0.013902270709128594,
         0.014018908576536414,
         0.014054450716350317,
         0.014083470606660542,
         0.0144448131080121,
         0.014209761583492016,
         0.01428248549682778,
         0.013881815985710427,
         0.013967915908367913,
         0.014041844142625182,
         0.01423892847652086,
         0.014262568758155127,
         0.014068520577780927,
         0.014077234598239362,
         0.014090013851375312,
         0.013896777977259498,
         0.014078398592653026,
         0.013850191002077239,
         0.013996124863913086,
         0.01396352972736254,
         0.014012796563678022,
         0.01422010067996922,
         0.01425229843397929,
         0.014228346516319176,
         0.01396192527672416,
         0.014120043883582204,
         0.014364898021928389,
         0.014128581850664975,
         0.014134361626437265,
         0.013940551200839714,
         0.013869561460070939,
         0.01464558341164976,
         0.014022336332523254,
         0.01389768221318842,
         0.013709043850185313,
         0.01408068112409311,
         0.013973163993582458,
         0.014448215676912615,
         0.014201739864148135,
         0.014115224414467954,
         0.014104648263664603,
         0.014353623348245154,
         0.014262903383299058,
         0.013914124586958806,
         0.014259666093593488,
         0.01446116072613276,
         0.014203736655723824,
         0.014189215704202089,
         0.014158453700038133,
         0.013893160764552832,
         0.014047603414031032,
         0.014322799953595495,
         0.014785904369118679,
         0.01449472198259036,
         0.014002883048236133,
         0.013961673100070373,
         0.014018864973855611,
         0.013838482422263683,
         0.013771546365780613,
         0.014391363502086382,
         0.014181608293224953,
         0.014355001567888673,
         0.01407423209807226,
         0.014098721123940571
        ],
        [
         0.07888596566611683,
         0.07803668748200326,
         0.07600484051826326,
         0.07751034503778467,
         0.07709698498781238,
         0.07772008299392152,
         0.07891288021119772,
         0.07858191956705474,
         0.07739815467896012,
         0.07663779477165504,
         0.07739511285848044,
         0.07705687183596484,
         0.07836397910224539,
         0.07646693800902599,
         0.07754345217647103,
         0.07559191453718132,
         0.07706904676198573,
         0.07630139201057035,
         0.07592550804233783,
         0.07725251759946733,
         0.07759573057826076,
         0.07814655698497187,
         0.07857648572316031,
         0.07750261268977608,
         0.07703650688341299,
         0.07883105237133704,
         0.07676292819200785,
         0.07573872319628279,
         0.0770079277625138,
         0.07739483588072774,
         0.07814724476064568,
         0.0780209760943597,
         0.07712489258884997,
         0.07711555870467579,
         0.07862956999716433,
         0.07649515616380936,
         0.07628370960569614,
         0.07746909059245478,
         0.07819333168157896,
         0.07670115552503955,
         0.07996770743183888,
         0.0776262672666412,
         0.07744298811227858,
         0.07628274983545015,
         0.0771922499497796,
         0.07653633581305092,
         0.07853596027359946,
         0.0763973556821803,
         0.07787162335226674,
         0.07722502844045301,
         0.07771392049292078,
         0.07757179578161472,
         0.07838260381204354,
         0.07520008129491047,
         0.07745286714672656,
         0.07697615742247987,
         0.07777866507070018,
         0.07737416472866551,
         0.07881555535721702,
         0.07731070706935285,
         0.07639958572803766,
         0.07651077219369737,
         0.07849068411130022,
         0.07599446079512308,
         0.0765365803517498,
         0.07556961973911369,
         0.07674817241389643,
         0.07971755481724228,
         0.07622389876368371,
         0.07647985112309069,
         0.07555458678972798,
         0.07674893338910559,
         0.07702492335932208,
         0.07899036530598805,
         0.07834790287805456,
         0.07565303223038261,
         0.07699679572425493,
         0.07866507327159891,
         0.07776912910162241,
         0.07646587460797716,
         0.07888783225426813,
         0.07943406138665877,
         0.07618666922842915,
         0.07771115327955454,
         0.07935811428038718,
         0.07659242291293748,
         0.07712734083028196,
         0.07805216098325206,
         0.07939706852828915,
         0.07876147101209922,
         0.07677904563629395,
         0.0767977446583765,
         0.07642358975702679,
         0.07682871667353751,
         0.07644939851983414,
         0.0803022671902141,
         0.0780158093586177,
         0.07844419969705405,
         0.07738993509200873,
         0.07815994983901839
        ],
        [
         12.148438712581992,
         12.017649872228503,
         11.704745439812541,
         11.936593135818839,
         11.872935688123107,
         11.968892781063914,
         12.152583552524447,
         12.10161561332643,
         11.91931582055986,
         11.802220394834876,
         11.918847380205989,
         11.866758262738585,
         12.068052781745791,
         11.775908453390002,
         11.94169163517654,
         11.641154838725924,
         11.868633201345801,
         11.750414369627833,
         11.692528238520026,
         11.89688771031797,
         11.949742509052157,
         12.034569775685668,
         12.100778801366687,
         11.935402354225516,
         11.8636220600456,
         12.139982065185905,
         11.821490941569209,
         11.66376337222755,
         11.859220875427127,
         11.918804725632071,
         12.034675693139434,
         12.015230318531394,
         11.877233458682895,
         11.875796040520072,
         12.108953779563308,
         11.780254049226642,
         11.747691279277205,
         11.930239951238036,
         12.04177307896316,
         11.81197795085609,
         12.315026944503188,
         11.954445159062743,
         11.9262201692909,
         11.747543474659324,
         11.887606492266059,
         11.786595715209842,
         12.094537882134318,
         11.765192775055766,
         11.99222999624908,
         11.892654379829764,
         11.9679437559098,
         11.946056550368667,
         12.070920987054706,
         11.580812519416213,
         11.927741540595889,
         11.8543282430619,
         11.977914420887828,
         11.915621368214488,
         12.13759552501142,
         11.905848888680339,
         11.7655362021178,
         11.782658917829394,
         12.087565353140235,
         11.703146962448955,
         11.786633374169469,
         11.637721439823508,
         11.81921855174005,
         12.276503441855311,
         11.738480409607291,
         11.777897072955966,
         11.63540636561811,
         11.81933574192226,
         11.8618381973356,
         12.164516257122159,
         12.0655770432204,
         11.650566963478923,
         11.857506541535258,
         12.114421283826232,
         11.976445881649852,
         11.775744689628482,
         12.148726167157292,
         12.232845453545451,
         11.732747061178088,
         11.967517605051398,
         12.221149599179626,
         11.795233128592372,
         11.877610487863421,
         12.020032791420817,
         12.227148553356528,
         12.12926653586328,
         11.823973027989268,
         11.82685267738998,
         11.769232822582126,
         11.831622367724776,
         11.773207372054458,
         12.366549147292972,
         12.014434641227126,
         12.080406753346324,
         11.918050004169345,
         12.03663227520883
        ],
        [
         1.4836095751255716,
         1.4879129449611013,
         1.4734313835800157,
         1.4778217063781838,
         1.4838499613416098,
         1.4760791725201783,
         1.471474392155257,
         1.4839722743089623,
         1.4656327899743011,
         1.4643184378475447,
         1.4747140978018,
         1.4738247458708624,
         1.4811299041292283,
         1.4651233907866477,
         1.4738262791091636,
         1.4653136883544398,
         1.4760285559014759,
         1.4606091187233348,
         1.461116239889852,
         1.4791504963960238,
         1.4699654322683227,
         1.4789742463603448,
         1.4727559669877421,
         1.468293427713541,
         1.4631236063593316,
         1.4863574433447782,
         1.4841463250365123,
         1.4682527367797473,
         1.4657953559261838,
         1.4744524828832541,
         1.4662171468973961,
         1.481705656655646,
         1.4738741887821796,
         1.4731401823310826,
         1.4800507926689261,
         1.4552305493236508,
         1.463198444916411,
         1.4693236269748768,
         1.4711850360569703,
         1.472703117884159,
         1.4914761877528797,
         1.4792914803573263,
         1.4830720705722558,
         1.46212163030283,
         1.4666489184152625,
         1.4705250755986032,
         1.4808088956324554,
         1.4820376475501187,
         1.4719212509432231,
         1.472377033279473,
         1.4730451904513309,
         1.4629093644166622,
         1.4724379047241911,
         1.460455207912894,
         1.4681291595233081,
         1.4664186230452172,
         1.469003291625453,
         1.479829552588831,
         1.4815039516764072,
         1.480258546171294,
         1.4663343727184195,
         1.474614104798832,
         1.4873447130295558,
         1.4750598648876616,
         1.4753615456800204,
         1.4652115495481586,
         1.4614761253099295,
         1.5018055284869818,
         1.4695032477706818,
         1.462956957955707,
         1.4529944091181282,
         1.4725572631006032,
         1.4669244203474487,
         1.4916518408276587,
         1.478873875311486,
         1.4743624248562714,
         1.473809971673536,
         1.4867609073518693,
         1.4820550330632312,
         1.4638221156929063,
         1.4818868305013704,
         1.492319922745939,
         1.4789778378939522,
         1.4782216405015594,
         1.4766183900405252,
         1.4627189606144908,
         1.4708266130855734,
         1.4851636922756044,
         1.508982860354708,
         1.4940505966395234,
         1.4684835679803725,
         1.4663211303840769,
         1.4693213419717839,
         1.4598377625711043,
         1.4563029012984265,
         1.488714203371924,
         1.477825320244799,
         1.4868322842388295,
         1.4722200049935228,
         1.4735002725099335
        ]
       ],
       "encoder": "json",
       "name": "ABC_GAN_3 Metrics",
       "version": 1
      }
     },
     "metadata": {
      "scrapbook": {
       "data": true,
       "display": false,
       "name": "ABC_GAN_3 Metrics"
      }
     },
     "output_type": "display_data"
    },
    {
     "name": "stdout",
     "output_type": "stream",
     "text": [
      "MAE\n",
      "0.07742167966972505\n"
     ]
    }
   ],
   "source": [
    "ABC_GAN3_metrics=ABC_train_test2.test_generator(gen3,test_data,prior_model,variance,bias,\"3\",device)\n",
    "sb.glue(\"ABC_GAN_3 Metrics\",ABC_GAN3_metrics)\n",
    "\n",
    "print(\"MAE\")\n",
    "print(mean(ABC_GAN3_metrics[1]))"
   ]
  },
  {
   "cell_type": "code",
   "execution_count": 22,
   "id": "c8e46b48",
   "metadata": {
    "execution": {
     "iopub.execute_input": "2022-07-24T16:50:47.175552Z",
     "iopub.status.busy": "2022-07-24T16:50:47.174230Z",
     "iopub.status.idle": "2022-07-24T16:50:49.743880Z",
     "shell.execute_reply": "2022-07-24T16:50:49.740684Z"
    },
    "id": "c8e46b48",
    "papermill": {
     "duration": 2.606293,
     "end_time": "2022-07-24T16:50:49.747057",
     "exception": false,
     "start_time": "2022-07-24T16:50:47.140764",
     "status": "completed"
    },
    "tags": []
   },
   "outputs": [
    {
     "data": {
      "image/png": "[encoded data removed]",
      "text/plain": [
       "<Figure size 432x288 with 1 Axes>"
      ]
     },
     "metadata": {
      "needs_background": "light"
     },
     "output_type": "display_data"
    },
    {
     "data": {
      "image/png": "[encoded data removed]",
      "text/plain": [
       "<Figure size 432x288 with 1 Axes>"
      ]
     },
     "metadata": {
      "needs_background": "light"
     },
     "output_type": "display_data"
    },
    {
     "data": {
      "image/png": "[encoded data removed]",
      "text/plain": [
       "<Figure size 432x288 with 1 Axes>"
      ]
     },
     "metadata": {
      "needs_background": "light"
     },
     "output_type": "display_data"
    },
    {
     "data": {
      "image/png": "[encoded data removed]",
      "text/plain": [
       "<Figure size 432x288 with 1 Axes>"
      ]
     },
     "metadata": {
      "needs_background": "light"
     },
     "output_type": "display_data"
    }
   ],
   "source": [
    "sanityChecks.discProbVsError(train_data,disc3,device)\n",
    "sanityChecks.discProbVsError(test_data,disc3,device)"
   ]
  },
  {
   "cell_type": "markdown",
   "id": "4fa44ccb",
   "metadata": {
    "id": "130f3a4d",
    "papermill": {
     "duration": 0.050311,
     "end_time": "2022-07-24T16:50:49.834379",
     "exception": false,
     "start_time": "2022-07-24T16:50:49.784068",
     "status": "completed"
    },
    "tags": []
   },
   "source": [
    "# skipGAN Model with TabNet Generator"
   ]
  },
  {
   "cell_type": "code",
   "execution_count": 23,
   "id": "a660287b",
   "metadata": {
    "execution": {
     "iopub.execute_input": "2022-07-24T16:50:49.911014Z",
     "iopub.status.busy": "2022-07-24T16:50:49.909887Z",
     "iopub.status.idle": "2022-07-24T16:50:49.930262Z",
     "shell.execute_reply": "2022-07-24T16:50:49.929203Z"
    },
    "id": "4e43dad1",
    "papermill": {
     "duration": 0.06683,
     "end_time": "2022-07-24T16:50:49.936177",
     "exception": false,
     "start_time": "2022-07-24T16:50:49.869347",
     "status": "completed"
    },
    "tags": []
   },
   "outputs": [],
   "source": [
    "#Generator\n",
    "gen4 = network.GeneratorTabnetskipConnection(n_features+1).to(device)\n",
    "constraints=network.weightConstraint()\n",
    "#Discriminator \n",
    "disc4 = network.Discriminator(n_features+1).to(device)\n",
    "\n",
    "criterion = torch.nn.BCELoss()\n",
    "gen_opt = torch.optim.Adam(gen4.parameters(), lr=0.01, betas=(0.5, 0.999))\n",
    "disc_opt = torch.optim.Adam(disc4.parameters(), lr=0.01, betas=(0.5, 0.999))\n"
   ]
  },
  {
   "cell_type": "code",
   "execution_count": 24,
   "id": "3270afa6",
   "metadata": {
    "execution": {
     "iopub.execute_input": "2022-07-24T16:50:50.002240Z",
     "iopub.status.busy": "2022-07-24T16:50:50.001473Z",
     "iopub.status.idle": "2022-07-24T17:14:29.028975Z",
     "shell.execute_reply": "2022-07-24T17:14:29.025049Z"
    },
    "id": "26acbc37",
    "papermill": {
     "duration": 1419.069318,
     "end_time": "2022-07-24T17:14:29.041988",
     "exception": false,
     "start_time": "2022-07-24T16:50:49.972670",
     "status": "completed"
    },
    "tags": []
   },
   "outputs": [
    {
     "data": {
      "image/png": "[encoded data removed]",
      "text/plain": [
       "<Figure size 432x288 with 1 Axes>"
      ]
     },
     "metadata": {
      "needs_background": "light"
     },
     "output_type": "display_data"
    },
    {
     "data": {
      "image/png": "[encoded data removed]",
      "text/plain": [
       "<Figure size 432x288 with 1 Axes>"
      ]
     },
     "metadata": {
      "needs_background": "light"
     },
     "output_type": "display_data"
    }
   ],
   "source": [
    "ABC_train_test2.training_GAN_skip_connection(disc4,gen4,disc_opt,gen_opt,train_data,batch_size,n_epochs,criterion,prior_model,variance,bias,device)"
   ]
  },
  {
   "cell_type": "code",
   "execution_count": 25,
   "id": "8b9108f2",
   "metadata": {
    "execution": {
     "iopub.execute_input": "2022-07-24T17:14:29.141141Z",
     "iopub.status.busy": "2022-07-24T17:14:29.138956Z",
     "iopub.status.idle": "2022-07-24T17:14:35.136149Z",
     "shell.execute_reply": "2022-07-24T17:14:35.134103Z"
    },
    "id": "c5e0717b",
    "papermill": {
     "duration": 6.060707,
     "end_time": "2022-07-24T17:14:35.140499",
     "exception": false,
     "start_time": "2022-07-24T17:14:29.079792",
     "status": "completed"
    },
    "tags": []
   },
   "outputs": [
    {
     "data": {
      "application/scrapbook.scrap.json+json": {
       "data": 0.008893072822784051,
       "encoder": "json",
       "name": "ABC-GAN Model 3 MSE",
       "version": 1
      }
     },
     "metadata": {
      "scrapbook": {
       "data": true,
       "display": false,
       "name": "ABC-GAN Model 3 MSE"
      }
     },
     "output_type": "display_data"
    },
    {
     "data": {
      "application/scrapbook.scrap.json+json": {
       "data": 0.06667553424738444,
       "encoder": "json",
       "name": "ABC-GAN Model 3 MAE",
       "version": 1
      }
     },
     "metadata": {
      "scrapbook": {
       "data": true,
       "display": false,
       "name": "ABC-GAN Model 3 MAE"
      }
     },
     "output_type": "display_data"
    },
    {
     "data": {
      "application/scrapbook.scrap.json+json": {
       "data": 10.268032274097203,
       "encoder": "json",
       "name": "ABC-GAN Model 3 Manhattan Distance",
       "version": 1
      }
     },
     "metadata": {
      "scrapbook": {
       "data": true,
       "display": false,
       "name": "ABC-GAN Model 3 Manhattan Distance"
      }
     },
     "output_type": "display_data"
    },
    {
     "data": {
      "application/scrapbook.scrap.json+json": {
       "data": 1.1701143011542887,
       "encoder": "json",
       "name": "ABC-GAN Model 3 Euclidean distance",
       "version": 1
      }
     },
     "metadata": {
      "scrapbook": {
       "data": true,
       "display": false,
       "name": "ABC-GAN Model 3 Euclidean distance"
      }
     },
     "output_type": "display_data"
    },
    {
     "data": {
      "application/scrapbook.scrap.json+json": {
       "data": [
        [
         0.008989360297939564,
         0.008824666586259876,
         0.008983456222741227,
         0.008822564703370492,
         0.009186339819139517,
         0.008921463698321254,
         0.008935289810959828,
         0.009309344735779317,
         0.009086514315719715,
         0.008979523889954951,
         0.009142399041010376,
         0.008685334857595858,
         0.009165308340804987,
         0.009121882630045024,
         0.00875476894908926,
         0.009549532327872414,
         0.008919656967095825,
         0.008962762728108264,
         0.00906431156668608,
         0.009245360065041685,
         0.00869393811172376,
         0.009040458254634341,
         0.008587955750037977,
         0.00855150437111146,
         0.008842384515222181,
         0.008116299431260503,
         0.0093932104862504,
         0.009075453817853584,
         0.008772510158025985,
         0.008715746987278299,
         0.008794059794339223,
         0.00910377474039121,
         0.009015593280897842,
         0.009027175615231751,
         0.008540414539716976,
         0.008656654708499573,
         0.00812059289337408,
         0.008442501131558562,
         0.008651308168087088,
         0.00886317844394983,
         0.00864560302828491,
         0.008819496193603275,
         0.00935187915167807,
         0.009052440789874524,
         0.009056262776664594,
         0.00840873535075615,
         0.009039327598729278,
         0.00846409843946881,
         0.008739096712597072,
         0.00902559831001762,
         0.008613321111529036,
         0.009232415331122883,
         0.008484538455461503,
         0.008543788555685366,
         0.009323060631762296,
         0.008487634760050433,
         0.009083734366299496,
         0.008826050609973822,
         0.008869773613192843,
         0.009066503055973025,
         0.009088954461623056,
         0.009173815708969203,
         0.00908905277488288,
         0.008175182693374219,
         0.008850814831899654,
         0.008473401618694712,
         0.00861994725189523,
         0.00898023915711033,
         0.009201878677581352,
         0.009169174008306108,
         0.009318366063658651,
         0.008767351320968422,
         0.00917156470378012,
         0.008864247953655138,
         0.008813644199818543,
         0.009481279504488013,
         0.009218218685710296,
         0.008661886600470806,
         0.008872787052563665,
         0.008511613269341188,
         0.00915259520864656,
         0.00893540948847223,
         0.008985304680683913,
         0.008494207043071248,
         0.008745691018156252,
         0.008884785583048817,
         0.00911612868326666,
         0.008816253782447842,
         0.008802188053654868,
         0.008803145974944622,
         0.008553687451571203,
         0.0090728250801731,
         0.008837568680759385,
         0.00881789414071132,
         0.009482974036767424,
         0.00918988960593716,
         0.009057479776567966,
         0.008966154437474911,
         0.008465061009641648,
         0.008836702407911264
        ],
        [
         0.06675444602627646,
         0.06583324564596663,
         0.06835644221683214,
         0.06732146674162381,
         0.06765875061852979,
         0.06704908383211919,
         0.06638937658787548,
         0.0668158952945045,
         0.06714275427307788,
         0.06640452365451432,
         0.06807318705968655,
         0.06551534611151202,
         0.06823558458308508,
         0.06576046307704278,
         0.06615607707773323,
         0.06851973060470123,
         0.06718027152653251,
         0.0676761098423755,
         0.06649782763818254,
         0.06842881439906823,
         0.06740266944632514,
         0.06794147521209021,
         0.06514014459711004,
         0.0645566891709512,
         0.06612472592961866,
         0.06368678127258241,
         0.06711443766419377,
         0.06703879370946776,
         0.06583259195428003,
         0.06463603231475337,
         0.06735267958228851,
         0.06738631516791783,
         0.0675970706483954,
         0.06712271061471918,
         0.06587314142470622,
         0.06590895151550119,
         0.06442338309262867,
         0.06416025188110479,
         0.06663888539248086,
         0.06650344203770547,
         0.06638883686830084,
         0.0659272742711685,
         0.06826746442004458,
         0.06823869873225302,
         0.06723203903136703,
         0.06419909710379003,
         0.06715353748869973,
         0.06551370425028848,
         0.06510118541440793,
         0.06782830742417605,
         0.06585819391509543,
         0.06858560555408914,
         0.06487680534989416,
         0.06514490093406919,
         0.06790176564948512,
         0.06528513916078713,
         0.06789112544630642,
         0.06658613445938795,
         0.06706294890299633,
         0.0666661054839368,
         0.06684527769926693,
         0.06868592604946394,
         0.06838797734348805,
         0.06318877483778573,
         0.06812693020207929,
         0.06422125897672656,
         0.06336924524421429,
         0.06760823202936293,
         0.06771620341225879,
         0.06888490444799135,
         0.06780199129618221,
         0.06531317782431066,
         0.06821350853696659,
         0.06753505390234195,
         0.06587405736231572,
         0.06875186632447816,
         0.06806657447588521,
         0.06459517582235011,
         0.06531166148601801,
         0.06526565170762214,
         0.06907572646855147,
         0.06523704672740264,
         0.06778588040743942,
         0.0642474681840508,
         0.06763376447964799,
         0.06588839612562548,
         0.06712908376395316,
         0.06701513332641357,
         0.06754213606624247,
         0.06770065846526391,
         0.06577493578147192,
         0.06845972722081782,
         0.06695645445256264,
         0.06482551669000418,
         0.06838642730825133,
         0.06732660211477574,
         0.06721348182431289,
         0.06678661504494292,
         0.06689526840996046,
         0.06599021359504044
        ],
        [
         10.280184688046575,
         10.13831982947886,
         10.52689210139215,
         10.367505878210068,
         10.419447595253587,
         10.325558910146356,
         10.223963994532824,
         10.289647875353694,
         10.339984158053994,
         10.226296642795205,
         10.48327080719173,
         10.089363301172853,
         10.508280025795102,
         10.127111313864589,
         10.188035869970918,
         10.552038513123989,
         10.345761815086007,
         10.422120915725827,
         10.240665456280112,
         10.538037417456508,
         10.380011094734073,
         10.462987182661891,
         10.031582267954946,
         9.941730132326484,
         10.183207793161273,
         9.807764315977693,
         10.33562340028584,
         10.323974231258035,
         10.138219160959125,
         9.95394897647202,
         10.372312655672431,
         10.377492535859346,
         10.409948879852891,
         10.336897434666753,
         10.14446377940476,
         10.149978533387184,
         9.921200996264815,
         9.880678789690137,
         10.262388350442052,
         10.241530073806643,
         10.22388087771833,
         10.152800237759948,
         10.513189520686865,
         10.508759604766965,
         10.353734010830522,
         9.886660953983665,
         10.341644773259759,
         10.089110454544425,
         10.025582553818822,
         10.445559343323112,
         10.142161862924695,
         10.562183255329728,
         9.9910280238837,
         10.032314743846655,
         10.456871910020709,
         10.053911430761218,
         10.455233318731189,
         10.254264706745744,
         10.327694131061435,
         10.266580244526267,
         10.294172765687108,
         10.577632611617446,
         10.53174851089716,
         9.731071325019002,
         10.49154725112021,
         9.89007388241589,
         9.758863767609,
         10.411667732521892,
         10.428295325487852,
         10.608275284990668,
         10.44150665961206,
         10.058229384943843,
         10.504880314692855,
         10.40039830096066,
         10.14460483379662,
         10.587787413969636,
         10.482252469286323,
         9.947657076641917,
         10.057995868846774,
         10.05091036297381,
         10.637661876156926,
         10.046505196020007,
         10.439025582745671,
         9.894110100343823,
         10.41559972986579,
         10.146813003346324,
         10.337878899648786,
         10.32033053226769,
         10.40148895420134,
         10.425901403650641,
         10.129340110346675,
         10.542797992005944,
         10.311293985694647,
         9.983129570260644,
         10.531509805470705,
         10.368296725675464,
         10.350876200944185,
         10.28513871692121,
         10.30187133513391,
         10.162492893636227
        ],
        [
         1.1765889196668022,
         1.1657609764801793,
         1.1762024733446828,
         1.165622136165514,
         1.1894100773692333,
         1.1721371120911892,
         1.1730450250897506,
         1.1973466871837977,
         1.1829299237997304,
         1.1759450153187703,
         1.186562030538479,
         1.1565213219261297,
         1.1880477618698535,
         1.1852299038696812,
         1.16113496982898,
         1.2126945116113752,
         1.1720184183419462,
         1.1748469943480608,
         1.181483804912135,
         1.1932248111803658,
         1.1570939759610968,
         1.1799282059573322,
         1.1500196457043022,
         1.147576434557265,
         1.1669306814649343,
         1.1179937890767184,
         1.2027279055890245,
         1.1822097478660258,
         1.1623108725018456,
         1.158544360842889,
         1.1637376028676913,
         1.1840529169003582,
         1.1783044450642914,
         1.1790610860959199,
         1.1468320884577716,
         1.1546102481395764,
         1.118289455185735,
         1.1402390864463552,
         1.1542536367217613,
         1.1683019645486665,
         1.15387298536532,
         1.1654194154101367,
         1.200078909638205,
         1.1807099057942543,
         1.180959130370881,
         1.1379566090218236,
         1.1798544190722469,
         1.14169661455143,
         1.1600952089117293,
         1.1789580737849472,
         1.1517167408592583,
         1.192389181850005,
         1.1430743292284502,
         1.1470586025027432,
         1.1982284161592038,
         1.1432828840876463,
         1.182748955784837,
         1.1658523894284254,
         1.1687365556153781,
         1.181626620646237,
         1.1830887486110038,
         1.1885990153038397,
         1.183095147201595,
         1.12204194876111,
         1.1674868239567189,
         1.1423238810770726,
         1.1521596576828514,
         1.1759918495444561,
         1.1904156065624847,
         1.1882982779080093,
         1.1979266980092864,
         1.161969063025835,
         1.1884531814009918,
         1.1683724512598246,
         1.1650327063100228,
         1.208353029412826,
         1.1914720632895197,
         1.1549591059741051,
         1.1689350735155501,
         1.1448966955487916,
         1.1872235097619868,
         1.173052880830495,
         1.1763234762705888,
         1.1437254411059377,
         1.160532815906583,
         1.1697251727604727,
         1.1848560322769455,
         1.1652051675550394,
         1.164275294018923,
         1.164338644957502,
         1.1477229053835099,
         1.1820385198235537,
         1.1666128650229026,
         1.1653135619521227,
         1.2084610054371565,
         1.1896398611825019,
         1.1810384776083576,
         1.1750692674779375,
         1.141761531794102,
         1.1665556869769804
        ]
       ],
       "encoder": "json",
       "name": "ABC_GAN_4 Metrics",
       "version": 1
      }
     },
     "metadata": {
      "scrapbook": {
       "data": true,
       "display": false,
       "name": "ABC_GAN_4 Metrics"
      }
     },
     "output_type": "display_data"
    },
    {
     "name": "stdout",
     "output_type": "stream",
     "text": [
      "MAE\n",
      "0.06667553424738444\n"
     ]
    }
   ],
   "source": [
    "ABC_GAN4_metrics=ABC_train_test2.test_generator(gen4,test_data,prior_model,variance,bias,\"3\",device)\n",
    "sb.glue(\"ABC_GAN_4 Metrics\",ABC_GAN4_metrics)\n",
    "\n",
    "print(\"MAE\")\n",
    "print(mean(ABC_GAN4_metrics[1]))"
   ]
  },
  {
   "cell_type": "code",
   "execution_count": 26,
   "id": "b39fb99f",
   "metadata": {
    "execution": {
     "iopub.execute_input": "2022-07-24T17:14:35.197178Z",
     "iopub.status.busy": "2022-07-24T17:14:35.196752Z",
     "iopub.status.idle": "2022-07-24T17:14:36.140575Z",
     "shell.execute_reply": "2022-07-24T17:14:36.138499Z"
    },
    "id": "c8e46b48",
    "papermill": {
     "duration": 0.976448,
     "end_time": "2022-07-24T17:14:36.144550",
     "exception": false,
     "start_time": "2022-07-24T17:14:35.168102",
     "status": "completed"
    },
    "tags": []
   },
   "outputs": [
    {
     "data": {
      "image/png": "[encoded data removed]",
      "text/plain": [
       "<Figure size 432x288 with 1 Axes>"
      ]
     },
     "metadata": {
      "needs_background": "light"
     },
     "output_type": "display_data"
    },
    {
     "data": {
      "image/png": "[encoded data removed]",
      "text/plain": [
       "<Figure size 432x288 with 1 Axes>"
      ]
     },
     "metadata": {
      "needs_background": "light"
     },
     "output_type": "display_data"
    },
    {
     "data": {
      "image/png": "[encoded data removed]",
      "text/plain": [
       "<Figure size 432x288 with 1 Axes>"
      ]
     },
     "metadata": {
      "needs_background": "light"
     },
     "output_type": "display_data"
    },
    {
     "data": {
      "image/png": "[encoded data removed]",
      "text/plain": [
       "<Figure size 432x288 with 1 Axes>"
      ]
     },
     "metadata": {
      "needs_background": "light"
     },
     "output_type": "display_data"
    }
   ],
   "source": [
    "sanityChecks.discProbVsError(train_data,disc4,device)\n",
    "sanityChecks.discProbVsError(test_data,disc4,device)"
   ]
  },
  {
   "cell_type": "markdown",
   "id": "a5bd74c3",
   "metadata": {
    "id": "a5bd74c3",
    "papermill": {
     "duration": 0.02523,
     "end_time": "2022-07-24T17:14:36.201885",
     "exception": false,
     "start_time": "2022-07-24T17:14:36.176655",
     "status": "completed"
    },
    "tags": []
   },
   "source": [
    "## Skip Connection Model Analysis - ABC-GAN "
   ]
  },
  {
   "cell_type": "markdown",
   "id": "5744a8bf",
   "metadata": {
    "id": "5744a8bf",
    "papermill": {
     "duration": 0.027114,
     "end_time": "2022-07-24T17:14:36.253853",
     "exception": false,
     "start_time": "2022-07-24T17:14:36.226739",
     "status": "completed"
    },
    "tags": []
   },
   "source": [
    "### Weight Analysis \n",
    "\n",
    "Study the weights of the skip connection layer\n",
    "\n",
    "Equation of the skip connection is \n",
    "\n",
    "$output = y_{gan} * w + y_{abc} * (1-w)$"
   ]
  },
  {
   "cell_type": "code",
   "execution_count": 27,
   "id": "52c31dea",
   "metadata": {
    "execution": {
     "iopub.execute_input": "2022-07-24T17:14:36.312440Z",
     "iopub.status.busy": "2022-07-24T17:14:36.311642Z",
     "iopub.status.idle": "2022-07-24T17:14:36.358127Z",
     "shell.execute_reply": "2022-07-24T17:14:36.356760Z"
    },
    "id": "52c31dea",
    "papermill": {
     "duration": 0.079282,
     "end_time": "2022-07-24T17:14:36.361967",
     "exception": false,
     "start_time": "2022-07-24T17:14:36.282685",
     "status": "completed"
    },
    "tags": []
   },
   "outputs": [
    {
     "name": "stdout",
     "output_type": "stream",
     "text": [
      "Weight of the node at skip connection\n",
      "Parameter containing:\n",
      "tensor([[0.9798]], requires_grad=True)\n"
     ]
    },
    {
     "data": {
      "application/scrapbook.scrap.json+json": {
       "data": 0.9798078536987305,
       "encoder": "json",
       "name": "Skip Connection Weight",
       "version": 1
      }
     },
     "metadata": {
      "scrapbook": {
       "data": true,
       "display": false,
       "name": "Skip Connection Weight"
      }
     },
     "output_type": "display_data"
    }
   ],
   "source": [
    "print(\"Weight of the node at skip connection\")\n",
    "for name,param in gen3.named_parameters():\n",
    "    if(name == \"skipNode.weight\"):\n",
    "        print(param)\n",
    "        sb.glue(\"Skip Connection Weight\",param.item())"
   ]
  },
  {
   "cell_type": "markdown",
   "id": "43d32e80",
   "metadata": {
    "id": "a5bd74c3",
    "papermill": {
     "duration": 0.026031,
     "end_time": "2022-07-24T17:14:36.419212",
     "exception": false,
     "start_time": "2022-07-24T17:14:36.393181",
     "status": "completed"
    },
    "tags": []
   },
   "source": [
    "## skipGAN Model Analysis (TabNet Generator) "
   ]
  },
  {
   "cell_type": "markdown",
   "id": "104f7d7a",
   "metadata": {
    "id": "5744a8bf",
    "papermill": {
     "duration": 0.027359,
     "end_time": "2022-07-24T17:14:36.473954",
     "exception": false,
     "start_time": "2022-07-24T17:14:36.446595",
     "status": "completed"
    },
    "tags": []
   },
   "source": [
    "### Weight Analysis \n",
    "\n",
    "Study the weights of the skip connection layer\n",
    "\n",
    "Equation of the skip connection is \n",
    "\n",
    "$output = y_{gan} * w + y_{abc} * (1-w)$"
   ]
  },
  {
   "cell_type": "code",
   "execution_count": 28,
   "id": "6bab7c66",
   "metadata": {
    "execution": {
     "iopub.execute_input": "2022-07-24T17:14:36.533571Z",
     "iopub.status.busy": "2022-07-24T17:14:36.532897Z",
     "iopub.status.idle": "2022-07-24T17:14:36.548293Z",
     "shell.execute_reply": "2022-07-24T17:14:36.546876Z"
    },
    "id": "52c31dea",
    "papermill": {
     "duration": 0.047847,
     "end_time": "2022-07-24T17:14:36.552087",
     "exception": false,
     "start_time": "2022-07-24T17:14:36.504240",
     "status": "completed"
    },
    "tags": []
   },
   "outputs": [
    {
     "name": "stdout",
     "output_type": "stream",
     "text": [
      "Weight of the node at skip connection\n",
      "Parameter containing:\n",
      "tensor([[0.9815]], requires_grad=True)\n"
     ]
    },
    {
     "data": {
      "application/scrapbook.scrap.json+json": {
       "data": 0.981548011302948,
       "encoder": "json",
       "name": "Skip Connection Weight",
       "version": 1
      }
     },
     "metadata": {
      "scrapbook": {
       "data": true,
       "display": false,
       "name": "Skip Connection Weight"
      }
     },
     "output_type": "display_data"
    }
   ],
   "source": [
    "print(\"Weight of the node at skip connection\")\n",
    "for name,param in gen4.named_parameters():\n",
    "    if(name == \"skipNode.weight\"):\n",
    "        print(param)\n",
    "        sb.glue(\"Skip Connection Weight\",param.item())"
   ]
  }
 ],
 "metadata": {
  "colab": {
   "collapsed_sections": [],
   "name": "ABC_GAN_Model-Catboost_Pre-gen.ipynb",
   "provenance": []
  },
  "interpreter": {
   "hash": "31f2aee4e71d21fbe5cf8b01ff0e069b9275f58929596ceb00d14d90e3e16cd6"
  },
  "kernelspec": {
   "display_name": "Python 3 (ipykernel)",
   "language": "python",
   "name": "python3"
  },
  "language_info": {
   "codemirror_mode": {
    "name": "ipython",
    "version": 3
   },
   "file_extension": ".py",
   "mimetype": "text/x-python",
   "name": "python",
   "nbconvert_exporter": "python",
   "pygments_lexer": "ipython3",
   "version": "3.8.13"
  },
  "papermill": {
   "default_parameters": {},
   "duration": 3141.480123,
   "end_time": "2022-07-24T17:14:38.418225",
   "environment_variables": {},
   "exception": null,
   "input_path": "ABC_GAN-Catboost.ipynb",
   "output_path": "./ABC_GAN_Catboost/ABC-GAN_output_1_3.ipynb",
   "parameters": {
    "bias": 0.1,
    "variance": 1
   },
   "start_time": "2022-07-24T16:22:16.938102",
   "version": "2.3.3"
  }
 },
 "nbformat": 4,
 "nbformat_minor": 5
}