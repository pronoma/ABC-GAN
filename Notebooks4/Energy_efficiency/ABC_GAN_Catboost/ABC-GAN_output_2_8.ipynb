{
 "cells": [
  {
   "cell_type": "markdown",
   "id": "622780e6",
   "metadata": {
    "id": "622780e6",
    "papermill": {
     "duration": 0.010676,
     "end_time": "2022-07-25T07:05:44.119693",
     "exception": false,
     "start_time": "2022-07-25T07:05:44.109017",
     "status": "completed"
    },
    "tags": []
   },
   "source": [
    "## Import Libraries "
   ]
  },
  {
   "cell_type": "code",
   "execution_count": 1,
   "id": "a62397e3",
   "metadata": {
    "execution": {
     "iopub.execute_input": "2022-07-25T07:05:44.137402Z",
     "iopub.status.busy": "2022-07-25T07:05:44.136996Z",
     "iopub.status.idle": "2022-07-25T07:05:44.148893Z",
     "shell.execute_reply": "2022-07-25T07:05:44.148150Z"
    },
    "id": "a62397e3",
    "papermill": {
     "duration": 0.023485,
     "end_time": "2022-07-25T07:05:44.151561",
     "exception": false,
     "start_time": "2022-07-25T07:05:44.128076",
     "status": "completed"
    },
    "tags": []
   },
   "outputs": [],
   "source": [
    "import warnings\n",
    "import sys\n",
    "sys.path.insert(0, '../../src')\n",
    "warnings.filterwarnings('ignore')"
   ]
  },
  {
   "cell_type": "code",
   "execution_count": 2,
   "id": "d6a4e155",
   "metadata": {
    "execution": {
     "iopub.execute_input": "2022-07-25T07:05:44.167368Z",
     "iopub.status.busy": "2022-07-25T07:05:44.166909Z",
     "iopub.status.idle": "2022-07-25T07:05:52.586296Z",
     "shell.execute_reply": "2022-07-25T07:05:52.585063Z"
    },
    "id": "d6a4e155",
    "papermill": {
     "duration": 8.431364,
     "end_time": "2022-07-25T07:05:52.589934",
     "exception": false,
     "start_time": "2022-07-25T07:05:44.158570",
     "status": "completed"
    },
    "tags": []
   },
   "outputs": [],
   "source": [
    "import ABC_train_test2\n",
    "import energyefficiencyDataset\n",
    "import network\n",
    "import dataset\n",
    "import sanityChecks\n",
    "import torch \n",
    "import scrapbook as sb\n",
    "from statistics import mean \n",
    "import catboost as ctb \n",
    "from sklearn.model_selection import train_test_split\n",
    "from sklearn.metrics import mean_squared_error,mean_absolute_error\n",
    "import numpy as np"
   ]
  },
  {
   "cell_type": "markdown",
   "id": "2fa5b0f7",
   "metadata": {
    "id": "2fa5b0f7",
    "papermill": {
     "duration": 0.010814,
     "end_time": "2022-07-25T07:05:52.611455",
     "exception": false,
     "start_time": "2022-07-25T07:05:52.600641",
     "status": "completed"
    },
    "tags": []
   },
   "source": [
    "## Parameters "
   ]
  },
  {
   "cell_type": "code",
   "execution_count": 3,
   "id": "783186fb",
   "metadata": {
    "execution": {
     "iopub.execute_input": "2022-07-25T07:05:52.633059Z",
     "iopub.status.busy": "2022-07-25T07:05:52.632381Z",
     "iopub.status.idle": "2022-07-25T07:05:52.637174Z",
     "shell.execute_reply": "2022-07-25T07:05:52.636049Z"
    },
    "id": "783186fb",
    "papermill": {
     "duration": 0.025256,
     "end_time": "2022-07-25T07:05:52.645276",
     "exception": false,
     "start_time": "2022-07-25T07:05:52.620020",
     "status": "completed"
    },
    "tags": [
     "parameters"
    ]
   },
   "outputs": [],
   "source": [
    "variance = 1\n",
    "bias = 1 "
   ]
  },
  {
   "cell_type": "code",
   "execution_count": 4,
   "id": "4bbcdd71",
   "metadata": {
    "execution": {
     "iopub.execute_input": "2022-07-25T07:05:52.676836Z",
     "iopub.status.busy": "2022-07-25T07:05:52.676482Z",
     "iopub.status.idle": "2022-07-25T07:05:52.681177Z",
     "shell.execute_reply": "2022-07-25T07:05:52.680333Z"
    },
    "papermill": {
     "duration": 0.024074,
     "end_time": "2022-07-25T07:05:52.684358",
     "exception": false,
     "start_time": "2022-07-25T07:05:52.660284",
     "status": "completed"
    },
    "tags": [
     "injected-parameters"
    ]
   },
   "outputs": [],
   "source": [
    "# Parameters\n",
    "variance = 0.01\n",
    "bias = 0.01\n"
   ]
  },
  {
   "cell_type": "markdown",
   "id": "391cdbfd",
   "metadata": {
    "id": "391cdbfd",
    "papermill": {
     "duration": 0.00966,
     "end_time": "2022-07-25T07:05:52.703391",
     "exception": false,
     "start_time": "2022-07-25T07:05:52.693731",
     "status": "completed"
    },
    "tags": []
   },
   "source": [
    "## Dataset \n"
   ]
  },
  {
   "cell_type": "code",
   "execution_count": 5,
   "id": "5b51f161",
   "metadata": {
    "execution": {
     "iopub.execute_input": "2022-07-25T07:05:52.728787Z",
     "iopub.status.busy": "2022-07-25T07:05:52.727986Z",
     "iopub.status.idle": "2022-07-25T07:05:52.733208Z",
     "shell.execute_reply": "2022-07-25T07:05:52.732272Z"
    },
    "id": "5b51f161",
    "papermill": {
     "duration": 0.023194,
     "end_time": "2022-07-25T07:05:52.736744",
     "exception": false,
     "start_time": "2022-07-25T07:05:52.713550",
     "status": "completed"
    },
    "tags": []
   },
   "outputs": [],
   "source": [
    "#Parameters \n",
    "n_features = 8\n",
    "n_samples= 768\n",
    "n_target = 1 "
   ]
  },
  {
   "cell_type": "code",
   "execution_count": 6,
   "id": "5d6eced4",
   "metadata": {
    "execution": {
     "iopub.execute_input": "2022-07-25T07:05:52.760497Z",
     "iopub.status.busy": "2022-07-25T07:05:52.760190Z",
     "iopub.status.idle": "2022-07-25T07:05:53.387961Z",
     "shell.execute_reply": "2022-07-25T07:05:53.387239Z"
    },
    "id": "5d6eced4",
    "papermill": {
     "duration": 0.641895,
     "end_time": "2022-07-25T07:05:53.390315",
     "exception": false,
     "start_time": "2022-07-25T07:05:52.748420",
     "status": "completed"
    },
    "tags": []
   },
   "outputs": [
    {
     "name": "stdout",
     "output_type": "stream",
     "text": [
      "     X1     X2     X3      X4   X5  X6   X7  X8     Y1     Y2\n",
      "0  0.98  514.5  294.0  110.25  7.0   2  0.0   0  15.55  21.33\n",
      "1  0.98  514.5  294.0  110.25  7.0   3  0.0   0  15.55  21.33\n",
      "2  0.98  514.5  294.0  110.25  7.0   4  0.0   0  15.55  21.33\n",
      "3  0.98  514.5  294.0  110.25  7.0   5  0.0   0  15.55  21.33\n",
      "4  0.90  563.5  318.5  122.50  7.0   2  0.0   0  20.84  28.28\n"
     ]
    }
   ],
   "source": [
    "X,Y = energyefficiencyDataset.energy_data()"
   ]
  },
  {
   "cell_type": "code",
   "execution_count": 7,
   "id": "fe007438",
   "metadata": {
    "execution": {
     "iopub.execute_input": "2022-07-25T07:05:53.405596Z",
     "iopub.status.busy": "2022-07-25T07:05:53.404944Z",
     "iopub.status.idle": "2022-07-25T07:05:53.410882Z",
     "shell.execute_reply": "2022-07-25T07:05:53.409971Z"
    },
    "id": "fe007438",
    "papermill": {
     "duration": 0.016072,
     "end_time": "2022-07-25T07:05:53.413132",
     "exception": false,
     "start_time": "2022-07-25T07:05:53.397060",
     "status": "completed"
    },
    "tags": []
   },
   "outputs": [],
   "source": [
    "#Train test split for dataset \n",
    "X_train,X_test,Y_train,Y_test = train_test_split(X,Y,test_size = 0.2)\n",
    "train_data = dataset.CustomDataset(X_train,Y_train)\n",
    "test_data = dataset.CustomDataset(X_test,Y_test)\n"
   ]
  },
  {
   "cell_type": "markdown",
   "id": "a9a1af34",
   "metadata": {
    "id": "a9a1af34",
    "papermill": {
     "duration": 0.006244,
     "end_time": "2022-07-25T07:05:53.426080",
     "exception": false,
     "start_time": "2022-07-25T07:05:53.419836",
     "status": "completed"
    },
    "tags": []
   },
   "source": [
    "## Training Parameters "
   ]
  },
  {
   "cell_type": "code",
   "execution_count": 8,
   "id": "952b7fc8",
   "metadata": {
    "execution": {
     "iopub.execute_input": "2022-07-25T07:05:53.441139Z",
     "iopub.status.busy": "2022-07-25T07:05:53.440721Z",
     "iopub.status.idle": "2022-07-25T07:05:53.445191Z",
     "shell.execute_reply": "2022-07-25T07:05:53.444388Z"
    },
    "id": "952b7fc8",
    "papermill": {
     "duration": 0.014773,
     "end_time": "2022-07-25T07:05:53.447662",
     "exception": false,
     "start_time": "2022-07-25T07:05:53.432889",
     "status": "completed"
    },
    "tags": []
   },
   "outputs": [],
   "source": [
    "batch_size = 32\n",
    "n_epochs = 1000\n",
    "#Select the device \n",
    "device = torch.device('cuda' if torch.cuda.is_available() else 'cpu')"
   ]
  },
  {
   "cell_type": "markdown",
   "id": "a95e1600",
   "metadata": {
    "id": "a95e1600",
    "papermill": {
     "duration": 0.006258,
     "end_time": "2022-07-25T07:05:53.460586",
     "exception": false,
     "start_time": "2022-07-25T07:05:53.454328",
     "status": "completed"
    },
    "tags": []
   },
   "source": [
    "# ABC Pre-generator Model \n",
    "\n",
    "1. The catboost model is used as a pre-generator model for the ABC-GAN. \n",
    "2. The model is first trained on the entire dataset \n",
    "3. It generats X,Y pairs and we add some Gaussian noise with mean 0 and variance 1 to it which is then feed as input to the generator.\n"
   ]
  },
  {
   "cell_type": "code",
   "execution_count": 9,
   "id": "ff8ce7bd",
   "metadata": {
    "execution": {
     "iopub.execute_input": "2022-07-25T07:05:53.475129Z",
     "iopub.status.busy": "2022-07-25T07:05:53.474827Z",
     "iopub.status.idle": "2022-07-25T07:05:55.019474Z",
     "shell.execute_reply": "2022-07-25T07:05:55.018229Z"
    },
    "id": "ff8ce7bd",
    "papermill": {
     "duration": 1.556115,
     "end_time": "2022-07-25T07:05:55.023406",
     "exception": false,
     "start_time": "2022-07-25T07:05:53.467291",
     "status": "completed"
    },
    "tags": []
   },
   "outputs": [
    {
     "name": "stdout",
     "output_type": "stream",
     "text": [
      "Learning rate set to 0.037906\n",
      "0:\tlearn: 0.9726035\ttotal: 49.8ms\tremaining: 49.7s\n",
      "1:\tlearn: 0.9401558\ttotal: 50.8ms\tremaining: 25.3s\n",
      "2:\tlearn: 0.9123537\ttotal: 51.2ms\tremaining: 17s\n",
      "3:\tlearn: 0.8818191\ttotal: 51.9ms\tremaining: 12.9s\n",
      "4:\tlearn: 0.8565114\ttotal: 52.4ms\tremaining: 10.4s\n",
      "5:\tlearn: 0.8284640\ttotal: 53.1ms\tremaining: 8.79s\n",
      "6:\tlearn: 0.8055109\ttotal: 53.5ms\tremaining: 7.59s\n",
      "7:\tlearn: 0.7822760\ttotal: 54.1ms\tremaining: 6.7s\n",
      "8:\tlearn: 0.7566542\ttotal: 54.6ms\tremaining: 6.02s\n",
      "9:\tlearn: 0.7347980\ttotal: 55.2ms\tremaining: 5.46s\n",
      "10:\tlearn: 0.7117841\ttotal: 55.8ms\tremaining: 5.02s\n",
      "11:\tlearn: 0.6898596\ttotal: 56.4ms\tremaining: 4.64s\n",
      "12:\tlearn: 0.6673750\ttotal: 57ms\tremaining: 4.33s\n",
      "13:\tlearn: 0.6464609\ttotal: 57.6ms\tremaining: 4.05s\n",
      "14:\tlearn: 0.6257213\ttotal: 58.2ms\tremaining: 3.82s\n",
      "15:\tlearn: 0.6062537\ttotal: 58.7ms\tremaining: 3.61s\n",
      "16:\tlearn: 0.5884768\ttotal: 59.2ms\tremaining: 3.42s\n",
      "17:\tlearn: 0.5712115\ttotal: 59.7ms\tremaining: 3.25s\n",
      "18:\tlearn: 0.5538083\ttotal: 60ms\tremaining: 3.1s\n",
      "19:\tlearn: 0.5380713\ttotal: 60.2ms\tremaining: 2.95s\n",
      "20:\tlearn: 0.5228352\ttotal: 60.4ms\tremaining: 2.81s\n",
      "21:\tlearn: 0.5083458\ttotal: 60.9ms\tremaining: 2.71s\n",
      "22:\tlearn: 0.4926832\ttotal: 62.8ms\tremaining: 2.67s\n",
      "23:\tlearn: 0.4766273\ttotal: 63.3ms\tremaining: 2.57s\n",
      "24:\tlearn: 0.4617777\ttotal: 63.7ms\tremaining: 2.48s\n",
      "25:\tlearn: 0.4485890\ttotal: 64.3ms\tremaining: 2.41s\n",
      "26:\tlearn: 0.4356024\ttotal: 64.8ms\tremaining: 2.33s\n",
      "27:\tlearn: 0.4242279\ttotal: 65.5ms\tremaining: 2.27s\n",
      "28:\tlearn: 0.4117579\ttotal: 65.9ms\tremaining: 2.21s\n",
      "29:\tlearn: 0.4014251\ttotal: 66.3ms\tremaining: 2.14s\n",
      "30:\tlearn: 0.3905322\ttotal: 67.1ms\tremaining: 2.1s\n",
      "31:\tlearn: 0.3802298\ttotal: 67.6ms\tremaining: 2.04s\n",
      "32:\tlearn: 0.3689005\ttotal: 68.1ms\tremaining: 2s\n",
      "33:\tlearn: 0.3580069\ttotal: 69.1ms\tremaining: 1.96s\n",
      "34:\tlearn: 0.3477672\ttotal: 69.8ms\tremaining: 1.93s\n",
      "35:\tlearn: 0.3394130\ttotal: 70.3ms\tremaining: 1.88s\n",
      "36:\tlearn: 0.3299790\ttotal: 70.6ms\tremaining: 1.84s\n",
      "37:\tlearn: 0.3208381\ttotal: 71.1ms\tremaining: 1.8s\n",
      "38:\tlearn: 0.3120148\ttotal: 71.6ms\tremaining: 1.76s\n",
      "39:\tlearn: 0.3034244\ttotal: 72.2ms\tremaining: 1.73s\n",
      "40:\tlearn: 0.2954522\ttotal: 72.7ms\tremaining: 1.7s\n",
      "41:\tlearn: 0.2880288\ttotal: 73.2ms\tremaining: 1.67s\n",
      "42:\tlearn: 0.2812341\ttotal: 73.8ms\tremaining: 1.64s\n",
      "43:\tlearn: 0.2740692\ttotal: 74.3ms\tremaining: 1.61s\n",
      "44:\tlearn: 0.2664934\ttotal: 74.8ms\tremaining: 1.59s\n",
      "45:\tlearn: 0.2597001\ttotal: 75.2ms\tremaining: 1.56s\n",
      "46:\tlearn: 0.2556854\ttotal: 75.5ms\tremaining: 1.53s\n",
      "47:\tlearn: 0.2501288\ttotal: 76ms\tremaining: 1.51s\n",
      "48:\tlearn: 0.2453707\ttotal: 76.3ms\tremaining: 1.48s\n",
      "49:\tlearn: 0.2398778\ttotal: 76.7ms\tremaining: 1.46s\n",
      "50:\tlearn: 0.2328744\ttotal: 77.2ms\tremaining: 1.44s\n",
      "51:\tlearn: 0.2278725\ttotal: 77.9ms\tremaining: 1.42s\n",
      "52:\tlearn: 0.2212835\ttotal: 78.3ms\tremaining: 1.4s\n",
      "53:\tlearn: 0.2155409\ttotal: 78.8ms\tremaining: 1.38s\n",
      "54:\tlearn: 0.2105921\ttotal: 79.3ms\tremaining: 1.36s\n",
      "55:\tlearn: 0.2061903\ttotal: 79.8ms\tremaining: 1.34s\n",
      "56:\tlearn: 0.2011868\ttotal: 80.3ms\tremaining: 1.33s\n",
      "57:\tlearn: 0.1959351\ttotal: 80.8ms\tremaining: 1.31s\n"
     ]
    },
    {
     "name": "stdout",
     "output_type": "stream",
     "text": [
      "58:\tlearn: 0.1909459\ttotal: 81.3ms\tremaining: 1.3s\n",
      "59:\tlearn: 0.1865995\ttotal: 82.4ms\tremaining: 1.29s\n",
      "60:\tlearn: 0.1815175\ttotal: 83.1ms\tremaining: 1.28s\n",
      "61:\tlearn: 0.1782351\ttotal: 83.6ms\tremaining: 1.26s\n",
      "62:\tlearn: 0.1741215\ttotal: 84.2ms\tremaining: 1.25s\n",
      "63:\tlearn: 0.1694715\ttotal: 84.7ms\tremaining: 1.24s\n",
      "64:\tlearn: 0.1665301\ttotal: 85.2ms\tremaining: 1.23s\n",
      "65:\tlearn: 0.1626470\ttotal: 85.6ms\tremaining: 1.21s\n",
      "66:\tlearn: 0.1599228\ttotal: 86ms\tremaining: 1.2s\n",
      "67:\tlearn: 0.1568720\ttotal: 86.5ms\tremaining: 1.19s\n",
      "68:\tlearn: 0.1531432\ttotal: 87ms\tremaining: 1.17s\n",
      "69:\tlearn: 0.1492162\ttotal: 87.5ms\tremaining: 1.16s\n",
      "70:\tlearn: 0.1457530\ttotal: 87.9ms\tremaining: 1.15s\n",
      "71:\tlearn: 0.1427518\ttotal: 88.4ms\tremaining: 1.14s\n",
      "72:\tlearn: 0.1396815\ttotal: 88.9ms\tremaining: 1.13s\n",
      "73:\tlearn: 0.1363953\ttotal: 89.4ms\tremaining: 1.12s\n",
      "74:\tlearn: 0.1329340\ttotal: 89.9ms\tremaining: 1.11s\n",
      "75:\tlearn: 0.1298761\ttotal: 90.3ms\tremaining: 1.1s\n",
      "76:\tlearn: 0.1272670\ttotal: 90.7ms\tremaining: 1.09s\n",
      "77:\tlearn: 0.1248217\ttotal: 91.2ms\tremaining: 1.08s\n",
      "78:\tlearn: 0.1221627\ttotal: 91.6ms\tremaining: 1.07s\n",
      "79:\tlearn: 0.1201062\ttotal: 92ms\tremaining: 1.06s\n",
      "80:\tlearn: 0.1172827\ttotal: 92.5ms\tremaining: 1.05s\n",
      "81:\tlearn: 0.1149638\ttotal: 93.1ms\tremaining: 1.04s\n",
      "82:\tlearn: 0.1123639\ttotal: 93.5ms\tremaining: 1.03s\n",
      "83:\tlearn: 0.1101112\ttotal: 94ms\tremaining: 1.02s\n",
      "84:\tlearn: 0.1078611\ttotal: 94.4ms\tremaining: 1.02s\n",
      "85:\tlearn: 0.1059713\ttotal: 95ms\tremaining: 1.01s\n",
      "86:\tlearn: 0.1038647\ttotal: 95.5ms\tremaining: 1s\n",
      "87:\tlearn: 0.1019085\ttotal: 95.9ms\tremaining: 994ms\n",
      "88:\tlearn: 0.1000390\ttotal: 96.4ms\tremaining: 987ms\n",
      "89:\tlearn: 0.0983268\ttotal: 96.9ms\tremaining: 980ms\n",
      "90:\tlearn: 0.0963072\ttotal: 97.3ms\tremaining: 972ms\n",
      "91:\tlearn: 0.0950633\ttotal: 97.7ms\tremaining: 964ms\n",
      "92:\tlearn: 0.0940987\ttotal: 98.1ms\tremaining: 957ms\n",
      "93:\tlearn: 0.0933457\ttotal: 98.5ms\tremaining: 949ms\n",
      "94:\tlearn: 0.0923914\ttotal: 98.9ms\tremaining: 942ms\n",
      "95:\tlearn: 0.0908632\ttotal: 99.3ms\tremaining: 935ms\n",
      "96:\tlearn: 0.0898403\ttotal: 99.8ms\tremaining: 929ms\n",
      "97:\tlearn: 0.0886543\ttotal: 100ms\tremaining: 922ms\n",
      "98:\tlearn: 0.0868163\ttotal: 101ms\tremaining: 916ms\n",
      "99:\tlearn: 0.0857506\ttotal: 101ms\tremaining: 909ms\n",
      "100:\tlearn: 0.0842774\ttotal: 101ms\tremaining: 902ms\n",
      "101:\tlearn: 0.0831363\ttotal: 102ms\tremaining: 896ms\n",
      "102:\tlearn: 0.0816666\ttotal: 102ms\tremaining: 890ms\n",
      "103:\tlearn: 0.0806283\ttotal: 103ms\tremaining: 885ms\n",
      "104:\tlearn: 0.0789995\ttotal: 103ms\tremaining: 878ms\n",
      "105:\tlearn: 0.0777201\ttotal: 103ms\tremaining: 872ms\n",
      "106:\tlearn: 0.0767468\ttotal: 104ms\tremaining: 866ms\n",
      "107:\tlearn: 0.0761270\ttotal: 104ms\tremaining: 861ms\n",
      "108:\tlearn: 0.0750763\ttotal: 105ms\tremaining: 855ms\n",
      "109:\tlearn: 0.0738891\ttotal: 105ms\tremaining: 849ms\n",
      "110:\tlearn: 0.0728121\ttotal: 105ms\tremaining: 843ms\n",
      "111:\tlearn: 0.0720521\ttotal: 106ms\tremaining: 838ms\n",
      "112:\tlearn: 0.0710451\ttotal: 106ms\tremaining: 833ms\n",
      "113:\tlearn: 0.0700025\ttotal: 107ms\tremaining: 828ms\n",
      "114:\tlearn: 0.0689846\ttotal: 107ms\tremaining: 823ms\n",
      "115:\tlearn: 0.0679515\ttotal: 107ms\tremaining: 817ms\n",
      "116:\tlearn: 0.0669966\ttotal: 108ms\tremaining: 813ms\n",
      "117:\tlearn: 0.0661072\ttotal: 108ms\tremaining: 807ms\n",
      "118:\tlearn: 0.0652623\ttotal: 108ms\tremaining: 803ms\n",
      "119:\tlearn: 0.0644039\ttotal: 109ms\tremaining: 798ms\n",
      "120:\tlearn: 0.0635802\ttotal: 109ms\tremaining: 793ms\n",
      "121:\tlearn: 0.0627403\ttotal: 110ms\tremaining: 789ms\n",
      "122:\tlearn: 0.0623692\ttotal: 110ms\tremaining: 785ms\n",
      "123:\tlearn: 0.0616976\ttotal: 110ms\tremaining: 780ms\n",
      "124:\tlearn: 0.0611196\ttotal: 111ms\tremaining: 776ms\n",
      "125:\tlearn: 0.0604070\ttotal: 111ms\tremaining: 772ms\n",
      "126:\tlearn: 0.0597919\ttotal: 112ms\tremaining: 769ms\n",
      "127:\tlearn: 0.0594346\ttotal: 112ms\tremaining: 765ms\n",
      "128:\tlearn: 0.0591351\ttotal: 113ms\tremaining: 761ms\n",
      "129:\tlearn: 0.0586425\ttotal: 113ms\tremaining: 757ms\n",
      "130:\tlearn: 0.0580546\ttotal: 113ms\tremaining: 752ms\n",
      "131:\tlearn: 0.0575887\ttotal: 114ms\tremaining: 748ms\n",
      "132:\tlearn: 0.0571111\ttotal: 114ms\tremaining: 744ms\n",
      "133:\tlearn: 0.0565935\ttotal: 115ms\tremaining: 740ms\n",
      "134:\tlearn: 0.0562518\ttotal: 115ms\tremaining: 736ms\n",
      "135:\tlearn: 0.0557854\ttotal: 115ms\tremaining: 732ms\n",
      "136:\tlearn: 0.0553712\ttotal: 116ms\tremaining: 728ms\n",
      "137:\tlearn: 0.0550264\ttotal: 116ms\tremaining: 725ms\n",
      "138:\tlearn: 0.0546370\ttotal: 116ms\tremaining: 721ms\n",
      "139:\tlearn: 0.0543375\ttotal: 117ms\tremaining: 717ms\n",
      "140:\tlearn: 0.0540679\ttotal: 117ms\tremaining: 713ms\n",
      "141:\tlearn: 0.0536924\ttotal: 117ms\tremaining: 710ms\n",
      "142:\tlearn: 0.0532957\ttotal: 118ms\tremaining: 706ms\n",
      "143:\tlearn: 0.0530511\ttotal: 118ms\tremaining: 703ms\n",
      "144:\tlearn: 0.0528066\ttotal: 119ms\tremaining: 699ms\n",
      "145:\tlearn: 0.0525371\ttotal: 119ms\tremaining: 696ms\n",
      "146:\tlearn: 0.0522676\ttotal: 119ms\tremaining: 693ms\n",
      "147:\tlearn: 0.0519260\ttotal: 120ms\tremaining: 689ms\n",
      "148:\tlearn: 0.0515894\ttotal: 120ms\tremaining: 686ms\n",
      "149:\tlearn: 0.0513872\ttotal: 120ms\tremaining: 683ms\n",
      "150:\tlearn: 0.0512077\ttotal: 121ms\tremaining: 679ms\n",
      "151:\tlearn: 0.0510245\ttotal: 121ms\tremaining: 676ms\n",
      "152:\tlearn: 0.0507819\ttotal: 122ms\tremaining: 673ms\n",
      "153:\tlearn: 0.0504563\ttotal: 122ms\tremaining: 670ms\n",
      "154:\tlearn: 0.0502169\ttotal: 122ms\tremaining: 667ms\n",
      "155:\tlearn: 0.0499162\ttotal: 123ms\tremaining: 664ms\n",
      "156:\tlearn: 0.0496544\ttotal: 123ms\tremaining: 661ms\n",
      "157:\tlearn: 0.0493516\ttotal: 124ms\tremaining: 659ms\n",
      "158:\tlearn: 0.0490545\ttotal: 124ms\tremaining: 656ms\n",
      "159:\tlearn: 0.0488091\ttotal: 124ms\tremaining: 653ms\n",
      "160:\tlearn: 0.0485363\ttotal: 125ms\tremaining: 651ms\n",
      "161:\tlearn: 0.0483092\ttotal: 125ms\tremaining: 648ms\n",
      "162:\tlearn: 0.0481130\ttotal: 126ms\tremaining: 646ms\n",
      "163:\tlearn: 0.0478737\ttotal: 126ms\tremaining: 644ms\n",
      "164:\tlearn: 0.0476434\ttotal: 127ms\tremaining: 641ms\n",
      "165:\tlearn: 0.0473395\ttotal: 127ms\tremaining: 639ms\n",
      "166:\tlearn: 0.0471581\ttotal: 128ms\tremaining: 636ms\n",
      "167:\tlearn: 0.0470321\ttotal: 128ms\tremaining: 633ms\n",
      "168:\tlearn: 0.0468446\ttotal: 128ms\tremaining: 630ms\n",
      "169:\tlearn: 0.0466280\ttotal: 129ms\tremaining: 628ms\n",
      "170:\tlearn: 0.0464204\ttotal: 129ms\tremaining: 626ms\n",
      "171:\tlearn: 0.0462466\ttotal: 130ms\tremaining: 624ms\n",
      "172:\tlearn: 0.0461426\ttotal: 130ms\tremaining: 621ms\n",
      "173:\tlearn: 0.0459153\ttotal: 130ms\tremaining: 619ms\n",
      "174:\tlearn: 0.0457127\ttotal: 131ms\tremaining: 617ms\n",
      "175:\tlearn: 0.0455071\ttotal: 131ms\tremaining: 615ms\n",
      "176:\tlearn: 0.0453410\ttotal: 132ms\tremaining: 613ms\n",
      "177:\tlearn: 0.0452264\ttotal: 132ms\tremaining: 612ms\n",
      "178:\tlearn: 0.0450812\ttotal: 133ms\tremaining: 610ms\n",
      "179:\tlearn: 0.0449171\ttotal: 134ms\tremaining: 608ms\n",
      "180:\tlearn: 0.0447434\ttotal: 134ms\tremaining: 607ms\n",
      "181:\tlearn: 0.0446016\ttotal: 135ms\tremaining: 606ms\n",
      "182:\tlearn: 0.0444308\ttotal: 135ms\tremaining: 604ms\n",
      "183:\tlearn: 0.0443052\ttotal: 136ms\tremaining: 603ms\n",
      "184:\tlearn: 0.0441455\ttotal: 137ms\tremaining: 602ms\n",
      "185:\tlearn: 0.0440528\ttotal: 138ms\tremaining: 602ms\n",
      "186:\tlearn: 0.0438116\ttotal: 141ms\tremaining: 614ms\n"
     ]
    },
    {
     "name": "stdout",
     "output_type": "stream",
     "text": [
      "187:\tlearn: 0.0436559\ttotal: 167ms\tremaining: 720ms\n",
      "188:\tlearn: 0.0435626\ttotal: 170ms\tremaining: 730ms\n",
      "189:\tlearn: 0.0434426\ttotal: 173ms\tremaining: 736ms\n",
      "190:\tlearn: 0.0433301\ttotal: 174ms\tremaining: 735ms\n",
      "191:\tlearn: 0.0432075\ttotal: 175ms\tremaining: 734ms\n",
      "192:\tlearn: 0.0430483\ttotal: 179ms\tremaining: 749ms\n",
      "193:\tlearn: 0.0429581\ttotal: 180ms\tremaining: 746ms\n",
      "194:\tlearn: 0.0428741\ttotal: 180ms\tremaining: 744ms\n",
      "195:\tlearn: 0.0427662\ttotal: 181ms\tremaining: 741ms\n",
      "196:\tlearn: 0.0426705\ttotal: 182ms\tremaining: 740ms\n",
      "197:\tlearn: 0.0424481\ttotal: 182ms\tremaining: 737ms\n",
      "198:\tlearn: 0.0423083\ttotal: 183ms\tremaining: 735ms\n",
      "199:\tlearn: 0.0422194\ttotal: 184ms\tremaining: 735ms\n",
      "200:\tlearn: 0.0420943\ttotal: 184ms\tremaining: 733ms\n",
      "201:\tlearn: 0.0419236\ttotal: 185ms\tremaining: 732ms\n",
      "202:\tlearn: 0.0416570\ttotal: 186ms\tremaining: 730ms\n",
      "203:\tlearn: 0.0414997\ttotal: 187ms\tremaining: 728ms\n",
      "204:\tlearn: 0.0413369\ttotal: 187ms\tremaining: 726ms\n",
      "205:\tlearn: 0.0411986\ttotal: 188ms\tremaining: 723ms\n",
      "206:\tlearn: 0.0409203\ttotal: 188ms\tremaining: 722ms\n",
      "207:\tlearn: 0.0408222\ttotal: 189ms\tremaining: 721ms\n",
      "208:\tlearn: 0.0406413\ttotal: 190ms\tremaining: 719ms\n",
      "209:\tlearn: 0.0405149\ttotal: 191ms\tremaining: 718ms\n",
      "210:\tlearn: 0.0404261\ttotal: 191ms\tremaining: 716ms\n",
      "211:\tlearn: 0.0402719\ttotal: 192ms\tremaining: 713ms\n",
      "212:\tlearn: 0.0401507\ttotal: 192ms\tremaining: 711ms\n",
      "213:\tlearn: 0.0399678\ttotal: 193ms\tremaining: 708ms\n",
      "214:\tlearn: 0.0397938\ttotal: 193ms\tremaining: 706ms\n",
      "215:\tlearn: 0.0395513\ttotal: 194ms\tremaining: 705ms\n",
      "216:\tlearn: 0.0393856\ttotal: 195ms\tremaining: 703ms\n",
      "217:\tlearn: 0.0392849\ttotal: 196ms\tremaining: 704ms\n",
      "218:\tlearn: 0.0391720\ttotal: 197ms\tremaining: 702ms\n",
      "219:\tlearn: 0.0390600\ttotal: 198ms\tremaining: 700ms\n",
      "220:\tlearn: 0.0389875\ttotal: 198ms\tremaining: 698ms\n",
      "221:\tlearn: 0.0388634\ttotal: 199ms\tremaining: 696ms\n",
      "222:\tlearn: 0.0387646\ttotal: 199ms\tremaining: 694ms\n",
      "223:\tlearn: 0.0387048\ttotal: 200ms\tremaining: 691ms\n",
      "224:\tlearn: 0.0384801\ttotal: 200ms\tremaining: 689ms\n",
      "225:\tlearn: 0.0382563\ttotal: 200ms\tremaining: 686ms\n",
      "226:\tlearn: 0.0380791\ttotal: 214ms\tremaining: 729ms\n",
      "227:\tlearn: 0.0380117\ttotal: 214ms\tremaining: 726ms\n",
      "228:\tlearn: 0.0379211\ttotal: 215ms\tremaining: 725ms\n",
      "229:\tlearn: 0.0378681\ttotal: 216ms\tremaining: 723ms\n"
     ]
    },
    {
     "name": "stdout",
     "output_type": "stream",
     "text": [
      "230:\tlearn: 0.0377672\ttotal: 218ms\tremaining: 725ms\n",
      "231:\tlearn: 0.0377074\ttotal: 218ms\tremaining: 722ms\n",
      "232:\tlearn: 0.0374715\ttotal: 219ms\tremaining: 722ms\n",
      "233:\tlearn: 0.0372949\ttotal: 220ms\tremaining: 721ms\n",
      "234:\tlearn: 0.0371819\ttotal: 221ms\tremaining: 719ms\n",
      "235:\tlearn: 0.0370905\ttotal: 222ms\tremaining: 719ms\n",
      "236:\tlearn: 0.0370082\ttotal: 222ms\tremaining: 716ms\n",
      "237:\tlearn: 0.0368357\ttotal: 224ms\tremaining: 716ms\n",
      "238:\tlearn: 0.0367720\ttotal: 224ms\tremaining: 715ms\n",
      "239:\tlearn: 0.0366714\ttotal: 225ms\tremaining: 714ms\n",
      "240:\tlearn: 0.0365861\ttotal: 226ms\tremaining: 712ms\n",
      "241:\tlearn: 0.0365344\ttotal: 227ms\tremaining: 710ms\n",
      "242:\tlearn: 0.0364839\ttotal: 227ms\tremaining: 708ms\n",
      "243:\tlearn: 0.0363530\ttotal: 228ms\tremaining: 705ms\n",
      "244:\tlearn: 0.0362383\ttotal: 229ms\tremaining: 705ms\n",
      "245:\tlearn: 0.0360705\ttotal: 229ms\tremaining: 702ms\n",
      "246:\tlearn: 0.0359673\ttotal: 230ms\tremaining: 700ms\n",
      "247:\tlearn: 0.0358511\ttotal: 231ms\tremaining: 699ms\n",
      "248:\tlearn: 0.0356989\ttotal: 231ms\tremaining: 697ms\n",
      "249:\tlearn: 0.0356364\ttotal: 232ms\tremaining: 695ms\n",
      "250:\tlearn: 0.0354519\ttotal: 232ms\tremaining: 692ms\n",
      "251:\tlearn: 0.0353259\ttotal: 236ms\tremaining: 702ms\n",
      "252:\tlearn: 0.0352495\ttotal: 237ms\tremaining: 699ms\n",
      "253:\tlearn: 0.0351368\ttotal: 237ms\tremaining: 697ms\n",
      "254:\tlearn: 0.0350520\ttotal: 238ms\tremaining: 694ms\n",
      "255:\tlearn: 0.0349767\ttotal: 238ms\tremaining: 692ms\n",
      "256:\tlearn: 0.0348935\ttotal: 239ms\tremaining: 690ms\n",
      "257:\tlearn: 0.0347512\ttotal: 239ms\tremaining: 687ms\n",
      "258:\tlearn: 0.0345741\ttotal: 239ms\tremaining: 685ms\n",
      "259:\tlearn: 0.0343991\ttotal: 247ms\tremaining: 703ms\n",
      "260:\tlearn: 0.0343004\ttotal: 248ms\tremaining: 701ms\n",
      "261:\tlearn: 0.0341981\ttotal: 248ms\tremaining: 700ms\n",
      "262:\tlearn: 0.0340954\ttotal: 249ms\tremaining: 698ms\n",
      "263:\tlearn: 0.0339323\ttotal: 250ms\tremaining: 696ms\n",
      "264:\tlearn: 0.0338040\ttotal: 250ms\tremaining: 694ms\n",
      "265:\tlearn: 0.0337035\ttotal: 252ms\tremaining: 694ms\n",
      "266:\tlearn: 0.0336240\ttotal: 253ms\tremaining: 694ms\n",
      "267:\tlearn: 0.0334900\ttotal: 254ms\tremaining: 693ms\n",
      "268:\tlearn: 0.0333425\ttotal: 254ms\tremaining: 691ms\n",
      "269:\tlearn: 0.0332688\ttotal: 255ms\tremaining: 689ms\n",
      "270:\tlearn: 0.0331551\ttotal: 259ms\tremaining: 697ms\n",
      "271:\tlearn: 0.0330300\ttotal: 260ms\tremaining: 695ms\n",
      "272:\tlearn: 0.0329456\ttotal: 260ms\tremaining: 694ms\n",
      "273:\tlearn: 0.0328527\ttotal: 261ms\tremaining: 693ms\n",
      "274:\tlearn: 0.0327126\ttotal: 262ms\tremaining: 691ms\n",
      "275:\tlearn: 0.0326234\ttotal: 263ms\tremaining: 690ms\n",
      "276:\tlearn: 0.0324897\ttotal: 264ms\tremaining: 688ms\n",
      "277:\tlearn: 0.0324104\ttotal: 264ms\tremaining: 685ms\n",
      "278:\tlearn: 0.0322930\ttotal: 265ms\tremaining: 685ms\n",
      "279:\tlearn: 0.0322572\ttotal: 266ms\tremaining: 684ms\n",
      "280:\tlearn: 0.0322011\ttotal: 267ms\tremaining: 682ms\n",
      "281:\tlearn: 0.0320897\ttotal: 268ms\tremaining: 682ms\n",
      "282:\tlearn: 0.0320236\ttotal: 268ms\tremaining: 680ms\n",
      "283:\tlearn: 0.0319300\ttotal: 270ms\tremaining: 680ms\n",
      "284:\tlearn: 0.0318186\ttotal: 271ms\tremaining: 680ms\n",
      "285:\tlearn: 0.0317626\ttotal: 272ms\tremaining: 678ms\n",
      "286:\tlearn: 0.0316939\ttotal: 272ms\tremaining: 675ms\n",
      "287:\tlearn: 0.0316025\ttotal: 273ms\tremaining: 674ms\n",
      "288:\tlearn: 0.0315289\ttotal: 274ms\tremaining: 673ms\n",
      "289:\tlearn: 0.0314696\ttotal: 274ms\tremaining: 671ms\n",
      "290:\tlearn: 0.0314090\ttotal: 275ms\tremaining: 669ms\n",
      "291:\tlearn: 0.0313739\ttotal: 275ms\tremaining: 668ms\n",
      "292:\tlearn: 0.0313166\ttotal: 276ms\tremaining: 667ms\n",
      "293:\tlearn: 0.0312100\ttotal: 277ms\tremaining: 665ms\n",
      "294:\tlearn: 0.0311334\ttotal: 278ms\tremaining: 664ms\n",
      "295:\tlearn: 0.0311099\ttotal: 279ms\tremaining: 663ms\n",
      "296:\tlearn: 0.0310235\ttotal: 280ms\tremaining: 662ms\n",
      "297:\tlearn: 0.0309680\ttotal: 281ms\tremaining: 662ms\n",
      "298:\tlearn: 0.0309108\ttotal: 281ms\tremaining: 660ms\n",
      "299:\tlearn: 0.0308406\ttotal: 282ms\tremaining: 657ms\n",
      "300:\tlearn: 0.0307869\ttotal: 282ms\tremaining: 656ms\n",
      "301:\tlearn: 0.0307323\ttotal: 283ms\tremaining: 655ms\n",
      "302:\tlearn: 0.0306512\ttotal: 284ms\tremaining: 653ms\n",
      "303:\tlearn: 0.0305697\ttotal: 284ms\tremaining: 651ms\n",
      "304:\tlearn: 0.0304605\ttotal: 285ms\tremaining: 650ms\n",
      "305:\tlearn: 0.0303390\ttotal: 287ms\tremaining: 651ms\n",
      "306:\tlearn: 0.0302387\ttotal: 288ms\tremaining: 651ms\n",
      "307:\tlearn: 0.0301908\ttotal: 291ms\tremaining: 654ms\n",
      "308:\tlearn: 0.0300934\ttotal: 293ms\tremaining: 656ms\n",
      "309:\tlearn: 0.0300001\ttotal: 294ms\tremaining: 653ms\n",
      "310:\tlearn: 0.0299077\ttotal: 295ms\tremaining: 654ms\n",
      "311:\tlearn: 0.0298294\ttotal: 297ms\tremaining: 654ms\n",
      "312:\tlearn: 0.0297491\ttotal: 297ms\tremaining: 652ms\n",
      "313:\tlearn: 0.0296821\ttotal: 297ms\tremaining: 650ms\n",
      "314:\tlearn: 0.0296306\ttotal: 298ms\tremaining: 648ms\n",
      "315:\tlearn: 0.0295577\ttotal: 299ms\tremaining: 648ms\n",
      "316:\tlearn: 0.0294790\ttotal: 300ms\tremaining: 647ms\n",
      "317:\tlearn: 0.0294072\ttotal: 301ms\tremaining: 645ms\n",
      "318:\tlearn: 0.0293567\ttotal: 302ms\tremaining: 644ms\n",
      "319:\tlearn: 0.0292857\ttotal: 303ms\tremaining: 644ms\n",
      "320:\tlearn: 0.0292155\ttotal: 304ms\tremaining: 643ms\n",
      "321:\tlearn: 0.0291424\ttotal: 307ms\tremaining: 646ms\n",
      "322:\tlearn: 0.0290820\ttotal: 308ms\tremaining: 645ms\n",
      "323:\tlearn: 0.0290383\ttotal: 309ms\tremaining: 644ms\n"
     ]
    },
    {
     "name": "stdout",
     "output_type": "stream",
     "text": [
      "324:\tlearn: 0.0289513\ttotal: 310ms\tremaining: 643ms\n",
      "325:\tlearn: 0.0288480\ttotal: 315ms\tremaining: 652ms\n",
      "326:\tlearn: 0.0288015\ttotal: 316ms\tremaining: 650ms\n",
      "327:\tlearn: 0.0287337\ttotal: 316ms\tremaining: 648ms\n",
      "328:\tlearn: 0.0286895\ttotal: 317ms\tremaining: 646ms\n",
      "329:\tlearn: 0.0286217\ttotal: 317ms\tremaining: 644ms\n",
      "330:\tlearn: 0.0285795\ttotal: 323ms\tremaining: 652ms\n",
      "331:\tlearn: 0.0285045\ttotal: 325ms\tremaining: 654ms\n",
      "332:\tlearn: 0.0284320\ttotal: 326ms\tremaining: 653ms\n",
      "333:\tlearn: 0.0283649\ttotal: 326ms\tremaining: 651ms\n",
      "334:\tlearn: 0.0282951\ttotal: 327ms\tremaining: 649ms\n",
      "335:\tlearn: 0.0281995\ttotal: 327ms\tremaining: 647ms\n",
      "336:\tlearn: 0.0281327\ttotal: 329ms\tremaining: 647ms\n",
      "337:\tlearn: 0.0280561\ttotal: 330ms\tremaining: 645ms\n",
      "338:\tlearn: 0.0279913\ttotal: 330ms\tremaining: 643ms\n",
      "339:\tlearn: 0.0279204\ttotal: 330ms\tremaining: 641ms\n",
      "340:\tlearn: 0.0278642\ttotal: 337ms\tremaining: 651ms\n",
      "341:\tlearn: 0.0278101\ttotal: 337ms\tremaining: 649ms\n",
      "342:\tlearn: 0.0277928\ttotal: 338ms\tremaining: 647ms\n",
      "343:\tlearn: 0.0277160\ttotal: 339ms\tremaining: 646ms\n",
      "344:\tlearn: 0.0276373\ttotal: 340ms\tremaining: 645ms\n",
      "345:\tlearn: 0.0275645\ttotal: 340ms\tremaining: 643ms\n",
      "346:\tlearn: 0.0275201\ttotal: 341ms\tremaining: 642ms\n",
      "347:\tlearn: 0.0274611\ttotal: 342ms\tremaining: 641ms\n",
      "348:\tlearn: 0.0274330\ttotal: 343ms\tremaining: 639ms\n",
      "349:\tlearn: 0.0273829\ttotal: 344ms\tremaining: 638ms\n",
      "350:\tlearn: 0.0273154\ttotal: 346ms\tremaining: 640ms\n",
      "351:\tlearn: 0.0272683\ttotal: 347ms\tremaining: 639ms\n",
      "352:\tlearn: 0.0272023\ttotal: 348ms\tremaining: 638ms\n",
      "353:\tlearn: 0.0271634\ttotal: 349ms\tremaining: 636ms\n",
      "354:\tlearn: 0.0270987\ttotal: 349ms\tremaining: 634ms\n",
      "355:\tlearn: 0.0270353\ttotal: 350ms\tremaining: 633ms\n",
      "356:\tlearn: 0.0269724\ttotal: 350ms\tremaining: 631ms\n",
      "357:\tlearn: 0.0269232\ttotal: 351ms\tremaining: 629ms\n",
      "358:\tlearn: 0.0268829\ttotal: 351ms\tremaining: 627ms\n",
      "359:\tlearn: 0.0268457\ttotal: 353ms\tremaining: 628ms\n",
      "360:\tlearn: 0.0267845\ttotal: 354ms\tremaining: 626ms\n",
      "361:\tlearn: 0.0267245\ttotal: 354ms\tremaining: 624ms\n",
      "362:\tlearn: 0.0266651\ttotal: 354ms\tremaining: 622ms\n",
      "363:\tlearn: 0.0266343\ttotal: 355ms\tremaining: 621ms\n"
     ]
    },
    {
     "name": "stdout",
     "output_type": "stream",
     "text": [
      "364:\tlearn: 0.0265663\ttotal: 356ms\tremaining: 619ms\n",
      "365:\tlearn: 0.0265455\ttotal: 359ms\tremaining: 621ms\n",
      "366:\tlearn: 0.0265107\ttotal: 361ms\tremaining: 623ms\n",
      "367:\tlearn: 0.0264432\ttotal: 363ms\tremaining: 623ms\n",
      "368:\tlearn: 0.0263907\ttotal: 365ms\tremaining: 624ms\n",
      "369:\tlearn: 0.0263355\ttotal: 366ms\tremaining: 622ms\n",
      "370:\tlearn: 0.0262943\ttotal: 366ms\tremaining: 621ms\n",
      "371:\tlearn: 0.0262111\ttotal: 367ms\tremaining: 620ms\n",
      "372:\tlearn: 0.0261364\ttotal: 368ms\tremaining: 619ms\n",
      "373:\tlearn: 0.0260812\ttotal: 369ms\tremaining: 617ms\n",
      "374:\tlearn: 0.0260513\ttotal: 369ms\tremaining: 615ms\n",
      "375:\tlearn: 0.0260223\ttotal: 370ms\tremaining: 614ms\n",
      "376:\tlearn: 0.0259956\ttotal: 371ms\tremaining: 613ms\n",
      "377:\tlearn: 0.0259351\ttotal: 373ms\tremaining: 613ms\n",
      "378:\tlearn: 0.0258800\ttotal: 373ms\tremaining: 612ms\n",
      "379:\tlearn: 0.0258201\ttotal: 375ms\tremaining: 611ms\n",
      "380:\tlearn: 0.0257674\ttotal: 376ms\tremaining: 611ms\n",
      "381:\tlearn: 0.0257092\ttotal: 378ms\tremaining: 611ms\n",
      "382:\tlearn: 0.0256565\ttotal: 378ms\tremaining: 610ms\n",
      "383:\tlearn: 0.0256085\ttotal: 379ms\tremaining: 608ms\n",
      "384:\tlearn: 0.0255848\ttotal: 380ms\tremaining: 606ms\n",
      "385:\tlearn: 0.0255309\ttotal: 380ms\tremaining: 604ms\n",
      "386:\tlearn: 0.0254770\ttotal: 381ms\tremaining: 603ms\n",
      "387:\tlearn: 0.0254404\ttotal: 381ms\tremaining: 601ms\n",
      "388:\tlearn: 0.0254035\ttotal: 382ms\tremaining: 600ms\n",
      "389:\tlearn: 0.0253402\ttotal: 383ms\tremaining: 599ms\n",
      "390:\tlearn: 0.0252875\ttotal: 383ms\tremaining: 597ms\n",
      "391:\tlearn: 0.0252522\ttotal: 385ms\tremaining: 597ms\n",
      "392:\tlearn: 0.0252026\ttotal: 387ms\tremaining: 597ms\n",
      "393:\tlearn: 0.0251375\ttotal: 388ms\tremaining: 596ms\n",
      "394:\tlearn: 0.0250882\ttotal: 389ms\tremaining: 595ms\n",
      "395:\tlearn: 0.0250197\ttotal: 390ms\tremaining: 595ms\n",
      "396:\tlearn: 0.0249836\ttotal: 390ms\tremaining: 593ms\n",
      "397:\tlearn: 0.0249350\ttotal: 392ms\tremaining: 593ms\n",
      "398:\tlearn: 0.0248902\ttotal: 392ms\tremaining: 591ms\n",
      "399:\tlearn: 0.0248450\ttotal: 393ms\tremaining: 590ms\n",
      "400:\tlearn: 0.0247816\ttotal: 393ms\tremaining: 588ms\n",
      "401:\tlearn: 0.0247549\ttotal: 394ms\tremaining: 586ms\n",
      "402:\tlearn: 0.0247290\ttotal: 395ms\tremaining: 585ms\n",
      "403:\tlearn: 0.0246801\ttotal: 396ms\tremaining: 584ms\n",
      "404:\tlearn: 0.0246287\ttotal: 397ms\tremaining: 584ms\n",
      "405:\tlearn: 0.0246055\ttotal: 398ms\tremaining: 583ms\n",
      "406:\tlearn: 0.0245554\ttotal: 399ms\tremaining: 581ms\n",
      "407:\tlearn: 0.0245138\ttotal: 400ms\tremaining: 581ms\n",
      "408:\tlearn: 0.0244652\ttotal: 401ms\tremaining: 580ms\n",
      "409:\tlearn: 0.0244170\ttotal: 402ms\tremaining: 578ms\n",
      "410:\tlearn: 0.0243589\ttotal: 403ms\tremaining: 578ms\n",
      "411:\tlearn: 0.0243110\ttotal: 405ms\tremaining: 577ms\n",
      "412:\tlearn: 0.0242640\ttotal: 406ms\tremaining: 576ms\n",
      "413:\tlearn: 0.0242233\ttotal: 407ms\tremaining: 576ms\n",
      "414:\tlearn: 0.0242053\ttotal: 407ms\tremaining: 574ms\n",
      "415:\tlearn: 0.0241827\ttotal: 409ms\tremaining: 574ms\n",
      "416:\tlearn: 0.0241397\ttotal: 409ms\tremaining: 572ms\n",
      "417:\tlearn: 0.0240955\ttotal: 411ms\tremaining: 572ms\n",
      "418:\tlearn: 0.0240546\ttotal: 411ms\tremaining: 570ms\n",
      "419:\tlearn: 0.0240277\ttotal: 413ms\tremaining: 570ms\n",
      "420:\tlearn: 0.0239994\ttotal: 414ms\tremaining: 569ms\n",
      "421:\tlearn: 0.0239580\ttotal: 414ms\tremaining: 568ms\n",
      "422:\tlearn: 0.0239130\ttotal: 415ms\tremaining: 566ms\n",
      "423:\tlearn: 0.0238666\ttotal: 416ms\tremaining: 565ms\n",
      "424:\tlearn: 0.0238422\ttotal: 416ms\tremaining: 563ms\n",
      "425:\tlearn: 0.0237975\ttotal: 417ms\tremaining: 562ms\n",
      "426:\tlearn: 0.0237407\ttotal: 418ms\tremaining: 560ms\n",
      "427:\tlearn: 0.0236995\ttotal: 418ms\tremaining: 559ms\n",
      "428:\tlearn: 0.0236436\ttotal: 419ms\tremaining: 558ms\n",
      "429:\tlearn: 0.0236099\ttotal: 419ms\tremaining: 556ms\n",
      "430:\tlearn: 0.0235790\ttotal: 420ms\tremaining: 555ms\n",
      "431:\tlearn: 0.0235555\ttotal: 421ms\tremaining: 554ms\n",
      "432:\tlearn: 0.0235024\ttotal: 422ms\tremaining: 553ms\n",
      "433:\tlearn: 0.0234717\ttotal: 423ms\tremaining: 551ms\n",
      "434:\tlearn: 0.0234488\ttotal: 424ms\tremaining: 550ms\n",
      "435:\tlearn: 0.0234173\ttotal: 424ms\tremaining: 549ms\n",
      "436:\tlearn: 0.0233717\ttotal: 425ms\tremaining: 548ms\n",
      "437:\tlearn: 0.0233437\ttotal: 426ms\tremaining: 546ms\n",
      "438:\tlearn: 0.0233158\ttotal: 431ms\tremaining: 551ms\n",
      "439:\tlearn: 0.0232835\ttotal: 444ms\tremaining: 566ms\n",
      "440:\tlearn: 0.0232472\ttotal: 447ms\tremaining: 567ms\n",
      "441:\tlearn: 0.0232072\ttotal: 448ms\tremaining: 566ms\n",
      "442:\tlearn: 0.0231648\ttotal: 451ms\tremaining: 567ms\n"
     ]
    },
    {
     "name": "stdout",
     "output_type": "stream",
     "text": [
      "443:\tlearn: 0.0231402\ttotal: 513ms\tremaining: 643ms\n"
     ]
    },
    {
     "name": "stdout",
     "output_type": "stream",
     "text": [
      "444:\tlearn: 0.0230887\ttotal: 567ms\tremaining: 708ms\n",
      "445:\tlearn: 0.0230676\ttotal: 568ms\tremaining: 705ms\n",
      "446:\tlearn: 0.0230471\ttotal: 570ms\tremaining: 705ms\n",
      "447:\tlearn: 0.0230056\ttotal: 574ms\tremaining: 708ms\n",
      "448:\tlearn: 0.0229852\ttotal: 576ms\tremaining: 707ms\n",
      "449:\tlearn: 0.0229472\ttotal: 576ms\tremaining: 704ms\n",
      "450:\tlearn: 0.0229102\ttotal: 583ms\tremaining: 710ms\n",
      "451:\tlearn: 0.0228897\ttotal: 587ms\tremaining: 712ms\n",
      "452:\tlearn: 0.0228644\ttotal: 588ms\tremaining: 710ms\n",
      "453:\tlearn: 0.0228266\ttotal: 589ms\tremaining: 708ms\n",
      "454:\tlearn: 0.0227878\ttotal: 591ms\tremaining: 708ms\n",
      "455:\tlearn: 0.0227645\ttotal: 593ms\tremaining: 707ms\n",
      "456:\tlearn: 0.0227410\ttotal: 593ms\tremaining: 705ms\n",
      "457:\tlearn: 0.0227164\ttotal: 594ms\tremaining: 703ms\n",
      "458:\tlearn: 0.0226698\ttotal: 594ms\tremaining: 700ms\n",
      "459:\tlearn: 0.0226450\ttotal: 596ms\tremaining: 700ms\n",
      "460:\tlearn: 0.0226060\ttotal: 597ms\tremaining: 698ms\n",
      "461:\tlearn: 0.0225882\ttotal: 598ms\tremaining: 697ms\n",
      "462:\tlearn: 0.0225516\ttotal: 599ms\tremaining: 694ms\n",
      "463:\tlearn: 0.0225282\ttotal: 599ms\tremaining: 692ms\n",
      "464:\tlearn: 0.0224781\ttotal: 601ms\tremaining: 692ms\n",
      "465:\tlearn: 0.0224311\ttotal: 602ms\tremaining: 690ms\n",
      "466:\tlearn: 0.0224080\ttotal: 603ms\tremaining: 688ms\n",
      "467:\tlearn: 0.0223621\ttotal: 604ms\tremaining: 687ms\n",
      "468:\tlearn: 0.0223451\ttotal: 604ms\tremaining: 684ms\n",
      "469:\tlearn: 0.0223233\ttotal: 605ms\tremaining: 682ms\n",
      "470:\tlearn: 0.0223098\ttotal: 605ms\tremaining: 680ms\n",
      "471:\tlearn: 0.0222851\ttotal: 609ms\tremaining: 681ms\n",
      "472:\tlearn: 0.0222600\ttotal: 610ms\tremaining: 680ms\n",
      "473:\tlearn: 0.0222329\ttotal: 611ms\tremaining: 678ms\n",
      "474:\tlearn: 0.0222034\ttotal: 611ms\tremaining: 676ms\n",
      "475:\tlearn: 0.0221515\ttotal: 613ms\tremaining: 675ms\n",
      "476:\tlearn: 0.0221132\ttotal: 613ms\tremaining: 672ms\n",
      "477:\tlearn: 0.0220719\ttotal: 614ms\tremaining: 671ms\n",
      "478:\tlearn: 0.0220568\ttotal: 615ms\tremaining: 668ms\n",
      "479:\tlearn: 0.0220374\ttotal: 616ms\tremaining: 667ms\n",
      "480:\tlearn: 0.0220133\ttotal: 619ms\tremaining: 668ms\n",
      "481:\tlearn: 0.0219942\ttotal: 620ms\tremaining: 666ms\n",
      "482:\tlearn: 0.0219571\ttotal: 621ms\tremaining: 664ms\n",
      "483:\tlearn: 0.0219439\ttotal: 623ms\tremaining: 664ms\n",
      "484:\tlearn: 0.0219023\ttotal: 624ms\tremaining: 662ms\n",
      "485:\tlearn: 0.0218644\ttotal: 625ms\tremaining: 661ms\n",
      "486:\tlearn: 0.0218390\ttotal: 625ms\tremaining: 659ms\n",
      "487:\tlearn: 0.0218204\ttotal: 626ms\tremaining: 657ms\n",
      "488:\tlearn: 0.0217733\ttotal: 627ms\tremaining: 655ms\n",
      "489:\tlearn: 0.0217423\ttotal: 627ms\tremaining: 653ms\n",
      "490:\tlearn: 0.0217046\ttotal: 629ms\tremaining: 652ms\n",
      "491:\tlearn: 0.0216822\ttotal: 630ms\tremaining: 651ms\n",
      "492:\tlearn: 0.0216643\ttotal: 631ms\tremaining: 649ms\n",
      "493:\tlearn: 0.0216325\ttotal: 631ms\tremaining: 647ms\n",
      "494:\tlearn: 0.0215942\ttotal: 632ms\tremaining: 644ms\n",
      "495:\tlearn: 0.0215749\ttotal: 639ms\tremaining: 650ms\n",
      "496:\tlearn: 0.0215506\ttotal: 640ms\tremaining: 648ms\n",
      "497:\tlearn: 0.0215127\ttotal: 641ms\tremaining: 646ms\n",
      "498:\tlearn: 0.0214807\ttotal: 641ms\tremaining: 644ms\n",
      "499:\tlearn: 0.0214483\ttotal: 642ms\tremaining: 642ms\n",
      "500:\tlearn: 0.0214309\ttotal: 642ms\tremaining: 640ms\n",
      "501:\tlearn: 0.0213961\ttotal: 643ms\tremaining: 638ms\n",
      "502:\tlearn: 0.0213590\ttotal: 644ms\tremaining: 636ms\n",
      "503:\tlearn: 0.0213452\ttotal: 644ms\tremaining: 634ms\n",
      "504:\tlearn: 0.0213147\ttotal: 646ms\tremaining: 633ms\n",
      "505:\tlearn: 0.0212788\ttotal: 646ms\tremaining: 631ms\n",
      "506:\tlearn: 0.0212405\ttotal: 647ms\tremaining: 629ms\n",
      "507:\tlearn: 0.0212065\ttotal: 647ms\tremaining: 627ms\n",
      "508:\tlearn: 0.0211886\ttotal: 651ms\tremaining: 628ms\n",
      "509:\tlearn: 0.0211699\ttotal: 652ms\tremaining: 626ms\n",
      "510:\tlearn: 0.0211445\ttotal: 652ms\tremaining: 624ms\n",
      "511:\tlearn: 0.0211149\ttotal: 654ms\tremaining: 624ms\n",
      "512:\tlearn: 0.0210838\ttotal: 656ms\tremaining: 622ms\n"
     ]
    },
    {
     "name": "stdout",
     "output_type": "stream",
     "text": [
      "513:\tlearn: 0.0210686\ttotal: 657ms\tremaining: 621ms\n",
      "514:\tlearn: 0.0210357\ttotal: 658ms\tremaining: 620ms\n",
      "515:\tlearn: 0.0210193\ttotal: 659ms\tremaining: 618ms\n",
      "516:\tlearn: 0.0209912\ttotal: 659ms\tremaining: 616ms\n",
      "517:\tlearn: 0.0209746\ttotal: 660ms\tremaining: 614ms\n",
      "518:\tlearn: 0.0209604\ttotal: 660ms\tremaining: 612ms\n",
      "519:\tlearn: 0.0209364\ttotal: 661ms\tremaining: 610ms\n",
      "520:\tlearn: 0.0209170\ttotal: 661ms\tremaining: 608ms\n",
      "521:\tlearn: 0.0209009\ttotal: 662ms\tremaining: 606ms\n",
      "522:\tlearn: 0.0208684\ttotal: 663ms\tremaining: 605ms\n"
     ]
    },
    {
     "name": "stdout",
     "output_type": "stream",
     "text": [
      "523:\tlearn: 0.0208376\ttotal: 666ms\tremaining: 605ms\n",
      "524:\tlearn: 0.0208137\ttotal: 667ms\tremaining: 603ms\n",
      "525:\tlearn: 0.0207848\ttotal: 668ms\tremaining: 602ms\n",
      "526:\tlearn: 0.0207519\ttotal: 670ms\tremaining: 601ms\n",
      "527:\tlearn: 0.0207409\ttotal: 671ms\tremaining: 600ms\n",
      "528:\tlearn: 0.0207173\ttotal: 674ms\tremaining: 600ms\n",
      "529:\tlearn: 0.0207053\ttotal: 675ms\tremaining: 598ms\n",
      "530:\tlearn: 0.0206874\ttotal: 675ms\tremaining: 596ms\n",
      "531:\tlearn: 0.0206714\ttotal: 676ms\tremaining: 595ms\n",
      "532:\tlearn: 0.0206549\ttotal: 677ms\tremaining: 593ms\n",
      "533:\tlearn: 0.0206261\ttotal: 677ms\tremaining: 591ms\n",
      "534:\tlearn: 0.0206037\ttotal: 678ms\tremaining: 589ms\n",
      "535:\tlearn: 0.0205843\ttotal: 678ms\tremaining: 587ms\n",
      "536:\tlearn: 0.0205528\ttotal: 679ms\tremaining: 586ms\n",
      "537:\tlearn: 0.0205326\ttotal: 679ms\tremaining: 583ms\n",
      "538:\tlearn: 0.0204965\ttotal: 680ms\tremaining: 582ms\n",
      "539:\tlearn: 0.0204769\ttotal: 681ms\tremaining: 580ms\n",
      "540:\tlearn: 0.0204609\ttotal: 681ms\tremaining: 578ms\n",
      "541:\tlearn: 0.0204299\ttotal: 682ms\tremaining: 576ms\n",
      "542:\tlearn: 0.0204147\ttotal: 682ms\tremaining: 574ms\n",
      "543:\tlearn: 0.0203996\ttotal: 683ms\tremaining: 572ms\n",
      "544:\tlearn: 0.0203747\ttotal: 683ms\tremaining: 570ms\n",
      "545:\tlearn: 0.0203416\ttotal: 683ms\tremaining: 568ms\n",
      "546:\tlearn: 0.0203124\ttotal: 684ms\tremaining: 566ms\n",
      "547:\tlearn: 0.0203000\ttotal: 684ms\tremaining: 564ms\n",
      "548:\tlearn: 0.0202830\ttotal: 685ms\tremaining: 563ms\n",
      "549:\tlearn: 0.0202682\ttotal: 686ms\tremaining: 561ms\n",
      "550:\tlearn: 0.0202538\ttotal: 686ms\tremaining: 559ms\n",
      "551:\tlearn: 0.0202398\ttotal: 687ms\tremaining: 557ms\n",
      "552:\tlearn: 0.0202207\ttotal: 687ms\tremaining: 556ms\n",
      "553:\tlearn: 0.0202024\ttotal: 689ms\tremaining: 555ms\n",
      "554:\tlearn: 0.0201904\ttotal: 690ms\tremaining: 553ms\n",
      "555:\tlearn: 0.0201587\ttotal: 691ms\tremaining: 552ms\n",
      "556:\tlearn: 0.0201437\ttotal: 691ms\tremaining: 550ms\n",
      "557:\tlearn: 0.0201261\ttotal: 693ms\tremaining: 549ms\n",
      "558:\tlearn: 0.0200958\ttotal: 695ms\tremaining: 548ms\n",
      "559:\tlearn: 0.0200710\ttotal: 696ms\tremaining: 547ms\n",
      "560:\tlearn: 0.0200519\ttotal: 697ms\tremaining: 546ms\n",
      "561:\tlearn: 0.0200203\ttotal: 698ms\tremaining: 544ms\n",
      "562:\tlearn: 0.0199997\ttotal: 699ms\tremaining: 542ms\n",
      "563:\tlearn: 0.0199729\ttotal: 699ms\tremaining: 540ms\n",
      "564:\tlearn: 0.0199260\ttotal: 701ms\tremaining: 539ms\n",
      "565:\tlearn: 0.0198971\ttotal: 701ms\tremaining: 538ms\n",
      "566:\tlearn: 0.0198643\ttotal: 702ms\tremaining: 536ms\n",
      "567:\tlearn: 0.0198384\ttotal: 703ms\tremaining: 535ms\n",
      "568:\tlearn: 0.0198167\ttotal: 704ms\tremaining: 533ms\n",
      "569:\tlearn: 0.0198056\ttotal: 704ms\tremaining: 531ms\n",
      "570:\tlearn: 0.0197763\ttotal: 705ms\tremaining: 530ms\n",
      "571:\tlearn: 0.0197460\ttotal: 706ms\tremaining: 528ms\n",
      "572:\tlearn: 0.0197222\ttotal: 706ms\tremaining: 526ms\n",
      "573:\tlearn: 0.0197019\ttotal: 707ms\tremaining: 525ms\n",
      "574:\tlearn: 0.0196874\ttotal: 707ms\tremaining: 523ms\n",
      "575:\tlearn: 0.0196559\ttotal: 708ms\tremaining: 521ms\n",
      "576:\tlearn: 0.0196424\ttotal: 709ms\tremaining: 519ms\n",
      "577:\tlearn: 0.0196124\ttotal: 709ms\tremaining: 518ms\n",
      "578:\tlearn: 0.0195997\ttotal: 710ms\tremaining: 516ms\n",
      "579:\tlearn: 0.0195865\ttotal: 710ms\tremaining: 514ms\n",
      "580:\tlearn: 0.0195507\ttotal: 711ms\tremaining: 513ms\n",
      "581:\tlearn: 0.0195359\ttotal: 712ms\tremaining: 511ms\n",
      "582:\tlearn: 0.0195041\ttotal: 712ms\tremaining: 509ms\n",
      "583:\tlearn: 0.0194823\ttotal: 712ms\tremaining: 507ms\n",
      "584:\tlearn: 0.0194681\ttotal: 713ms\tremaining: 506ms\n",
      "585:\tlearn: 0.0194424\ttotal: 713ms\tremaining: 504ms\n",
      "586:\tlearn: 0.0194276\ttotal: 713ms\tremaining: 502ms\n",
      "587:\tlearn: 0.0193948\ttotal: 714ms\tremaining: 501ms\n",
      "588:\tlearn: 0.0193736\ttotal: 715ms\tremaining: 499ms\n",
      "589:\tlearn: 0.0193601\ttotal: 716ms\tremaining: 497ms\n",
      "590:\tlearn: 0.0193315\ttotal: 716ms\tremaining: 496ms\n",
      "591:\tlearn: 0.0193261\ttotal: 717ms\tremaining: 494ms\n",
      "592:\tlearn: 0.0192972\ttotal: 718ms\tremaining: 492ms\n",
      "593:\tlearn: 0.0192511\ttotal: 718ms\tremaining: 491ms\n",
      "594:\tlearn: 0.0192203\ttotal: 719ms\tremaining: 489ms\n",
      "595:\tlearn: 0.0192092\ttotal: 720ms\tremaining: 488ms\n",
      "596:\tlearn: 0.0191928\ttotal: 720ms\tremaining: 486ms\n",
      "597:\tlearn: 0.0191803\ttotal: 721ms\tremaining: 485ms\n",
      "598:\tlearn: 0.0191527\ttotal: 721ms\tremaining: 483ms\n",
      "599:\tlearn: 0.0191424\ttotal: 722ms\tremaining: 481ms\n"
     ]
    },
    {
     "name": "stdout",
     "output_type": "stream",
     "text": [
      "600:\tlearn: 0.0191126\ttotal: 724ms\tremaining: 481ms\n",
      "601:\tlearn: 0.0190949\ttotal: 725ms\tremaining: 479ms\n",
      "602:\tlearn: 0.0190756\ttotal: 725ms\tremaining: 477ms\n",
      "603:\tlearn: 0.0190472\ttotal: 726ms\tremaining: 476ms\n",
      "604:\tlearn: 0.0190184\ttotal: 726ms\tremaining: 474ms\n",
      "605:\tlearn: 0.0190062\ttotal: 727ms\tremaining: 473ms\n",
      "606:\tlearn: 0.0189817\ttotal: 727ms\tremaining: 471ms\n",
      "607:\tlearn: 0.0189654\ttotal: 728ms\tremaining: 469ms\n",
      "608:\tlearn: 0.0189414\ttotal: 728ms\tremaining: 468ms\n",
      "609:\tlearn: 0.0189144\ttotal: 729ms\tremaining: 466ms\n",
      "610:\tlearn: 0.0188859\ttotal: 729ms\tremaining: 464ms\n",
      "611:\tlearn: 0.0188628\ttotal: 730ms\tremaining: 463ms\n",
      "612:\tlearn: 0.0188391\ttotal: 730ms\tremaining: 461ms\n",
      "613:\tlearn: 0.0188232\ttotal: 731ms\tremaining: 459ms\n",
      "614:\tlearn: 0.0187926\ttotal: 731ms\tremaining: 458ms\n",
      "615:\tlearn: 0.0187701\ttotal: 733ms\tremaining: 457ms\n",
      "616:\tlearn: 0.0187418\ttotal: 733ms\tremaining: 455ms\n",
      "617:\tlearn: 0.0187259\ttotal: 734ms\tremaining: 454ms\n",
      "618:\tlearn: 0.0186998\ttotal: 734ms\tremaining: 452ms\n",
      "619:\tlearn: 0.0186807\ttotal: 735ms\tremaining: 450ms\n",
      "620:\tlearn: 0.0186520\ttotal: 735ms\tremaining: 449ms\n",
      "621:\tlearn: 0.0186447\ttotal: 736ms\tremaining: 447ms\n",
      "622:\tlearn: 0.0186329\ttotal: 736ms\tremaining: 446ms\n",
      "623:\tlearn: 0.0186021\ttotal: 737ms\tremaining: 444ms\n",
      "624:\tlearn: 0.0185772\ttotal: 737ms\tremaining: 442ms\n",
      "625:\tlearn: 0.0185721\ttotal: 738ms\tremaining: 441ms\n",
      "626:\tlearn: 0.0185595\ttotal: 738ms\tremaining: 439ms\n",
      "627:\tlearn: 0.0185350\ttotal: 739ms\tremaining: 438ms\n",
      "628:\tlearn: 0.0185198\ttotal: 740ms\tremaining: 436ms\n",
      "629:\tlearn: 0.0184923\ttotal: 740ms\tremaining: 435ms\n",
      "630:\tlearn: 0.0184779\ttotal: 741ms\tremaining: 433ms\n",
      "631:\tlearn: 0.0184546\ttotal: 741ms\tremaining: 432ms\n",
      "632:\tlearn: 0.0184262\ttotal: 742ms\tremaining: 430ms\n",
      "633:\tlearn: 0.0183967\ttotal: 742ms\tremaining: 429ms\n",
      "634:\tlearn: 0.0183861\ttotal: 743ms\tremaining: 427ms\n",
      "635:\tlearn: 0.0183610\ttotal: 743ms\tremaining: 426ms\n",
      "636:\tlearn: 0.0183336\ttotal: 744ms\tremaining: 424ms\n",
      "637:\tlearn: 0.0183250\ttotal: 745ms\tremaining: 423ms\n",
      "638:\tlearn: 0.0183010\ttotal: 745ms\tremaining: 421ms\n",
      "639:\tlearn: 0.0182906\ttotal: 746ms\tremaining: 419ms\n",
      "640:\tlearn: 0.0182771\ttotal: 746ms\tremaining: 418ms\n",
      "641:\tlearn: 0.0182700\ttotal: 747ms\tremaining: 416ms\n",
      "642:\tlearn: 0.0182490\ttotal: 747ms\tremaining: 415ms\n",
      "643:\tlearn: 0.0182279\ttotal: 748ms\tremaining: 413ms\n",
      "644:\tlearn: 0.0182001\ttotal: 748ms\tremaining: 412ms\n",
      "645:\tlearn: 0.0181882\ttotal: 749ms\tremaining: 410ms\n",
      "646:\tlearn: 0.0181647\ttotal: 749ms\tremaining: 409ms\n",
      "647:\tlearn: 0.0181367\ttotal: 750ms\tremaining: 407ms\n",
      "648:\tlearn: 0.0181129\ttotal: 750ms\tremaining: 406ms\n",
      "649:\tlearn: 0.0180895\ttotal: 751ms\tremaining: 404ms\n",
      "650:\tlearn: 0.0180720\ttotal: 751ms\tremaining: 403ms\n",
      "651:\tlearn: 0.0180558\ttotal: 752ms\tremaining: 401ms\n",
      "652:\tlearn: 0.0180360\ttotal: 752ms\tremaining: 400ms\n",
      "653:\tlearn: 0.0180157\ttotal: 753ms\tremaining: 398ms\n",
      "654:\tlearn: 0.0179883\ttotal: 753ms\tremaining: 397ms\n",
      "655:\tlearn: 0.0179629\ttotal: 754ms\tremaining: 395ms\n",
      "656:\tlearn: 0.0179436\ttotal: 754ms\tremaining: 394ms\n",
      "657:\tlearn: 0.0179161\ttotal: 754ms\tremaining: 392ms\n",
      "658:\tlearn: 0.0178906\ttotal: 755ms\tremaining: 391ms\n",
      "659:\tlearn: 0.0178632\ttotal: 755ms\tremaining: 389ms\n",
      "660:\tlearn: 0.0178451\ttotal: 756ms\tremaining: 388ms\n",
      "661:\tlearn: 0.0178314\ttotal: 757ms\tremaining: 386ms\n",
      "662:\tlearn: 0.0178079\ttotal: 757ms\tremaining: 385ms\n",
      "663:\tlearn: 0.0177839\ttotal: 758ms\tremaining: 384ms\n",
      "664:\tlearn: 0.0177646\ttotal: 758ms\tremaining: 382ms\n",
      "665:\tlearn: 0.0177502\ttotal: 759ms\tremaining: 381ms\n",
      "666:\tlearn: 0.0177247\ttotal: 759ms\tremaining: 379ms\n",
      "667:\tlearn: 0.0176917\ttotal: 760ms\tremaining: 378ms\n",
      "668:\tlearn: 0.0176870\ttotal: 760ms\tremaining: 376ms\n",
      "669:\tlearn: 0.0176718\ttotal: 761ms\tremaining: 375ms\n",
      "670:\tlearn: 0.0176583\ttotal: 761ms\tremaining: 373ms\n",
      "671:\tlearn: 0.0176464\ttotal: 762ms\tremaining: 372ms\n",
      "672:\tlearn: 0.0176351\ttotal: 762ms\tremaining: 370ms\n",
      "673:\tlearn: 0.0176168\ttotal: 762ms\tremaining: 369ms\n",
      "674:\tlearn: 0.0176000\ttotal: 763ms\tremaining: 367ms\n",
      "675:\tlearn: 0.0175828\ttotal: 763ms\tremaining: 366ms\n",
      "676:\tlearn: 0.0175661\ttotal: 764ms\tremaining: 364ms\n",
      "677:\tlearn: 0.0175584\ttotal: 764ms\tremaining: 363ms\n",
      "678:\tlearn: 0.0175330\ttotal: 765ms\tremaining: 362ms\n",
      "679:\tlearn: 0.0175080\ttotal: 765ms\tremaining: 360ms\n",
      "680:\tlearn: 0.0174998\ttotal: 766ms\tremaining: 359ms\n",
      "681:\tlearn: 0.0174955\ttotal: 766ms\tremaining: 357ms\n",
      "682:\tlearn: 0.0174805\ttotal: 767ms\tremaining: 356ms\n",
      "683:\tlearn: 0.0174733\ttotal: 767ms\tremaining: 354ms\n",
      "684:\tlearn: 0.0174665\ttotal: 767ms\tremaining: 353ms\n",
      "685:\tlearn: 0.0174495\ttotal: 768ms\tremaining: 351ms\n",
      "686:\tlearn: 0.0174327\ttotal: 768ms\tremaining: 350ms\n",
      "687:\tlearn: 0.0174163\ttotal: 769ms\tremaining: 349ms\n",
      "688:\tlearn: 0.0173979\ttotal: 769ms\tremaining: 347ms\n",
      "689:\tlearn: 0.0173784\ttotal: 770ms\tremaining: 346ms\n",
      "690:\tlearn: 0.0173723\ttotal: 771ms\tremaining: 345ms\n",
      "691:\tlearn: 0.0173531\ttotal: 771ms\tremaining: 343ms\n",
      "692:\tlearn: 0.0173370\ttotal: 772ms\tremaining: 342ms\n",
      "693:\tlearn: 0.0173322\ttotal: 772ms\tremaining: 340ms\n",
      "694:\tlearn: 0.0173154\ttotal: 773ms\tremaining: 339ms\n"
     ]
    },
    {
     "name": "stdout",
     "output_type": "stream",
     "text": [
      "695:\tlearn: 0.0173029\ttotal: 773ms\tremaining: 338ms\n",
      "696:\tlearn: 0.0172835\ttotal: 774ms\tremaining: 337ms\n",
      "697:\tlearn: 0.0172663\ttotal: 775ms\tremaining: 335ms\n",
      "698:\tlearn: 0.0172592\ttotal: 776ms\tremaining: 334ms\n",
      "699:\tlearn: 0.0172417\ttotal: 776ms\tremaining: 333ms\n",
      "700:\tlearn: 0.0172238\ttotal: 777ms\tremaining: 331ms\n",
      "701:\tlearn: 0.0172095\ttotal: 777ms\tremaining: 330ms\n",
      "702:\tlearn: 0.0171849\ttotal: 777ms\tremaining: 328ms\n",
      "703:\tlearn: 0.0171657\ttotal: 778ms\tremaining: 327ms\n",
      "704:\tlearn: 0.0171455\ttotal: 778ms\tremaining: 326ms\n",
      "705:\tlearn: 0.0171347\ttotal: 779ms\tremaining: 324ms\n",
      "706:\tlearn: 0.0171240\ttotal: 779ms\tremaining: 323ms\n",
      "707:\tlearn: 0.0171052\ttotal: 780ms\tremaining: 322ms\n",
      "708:\tlearn: 0.0170991\ttotal: 780ms\tremaining: 320ms\n",
      "709:\tlearn: 0.0170799\ttotal: 781ms\tremaining: 319ms\n",
      "710:\tlearn: 0.0170637\ttotal: 781ms\tremaining: 318ms\n",
      "711:\tlearn: 0.0170487\ttotal: 782ms\tremaining: 316ms\n",
      "712:\tlearn: 0.0170282\ttotal: 782ms\tremaining: 315ms\n",
      "713:\tlearn: 0.0170072\ttotal: 783ms\tremaining: 314ms\n",
      "714:\tlearn: 0.0169876\ttotal: 784ms\tremaining: 312ms\n",
      "715:\tlearn: 0.0169766\ttotal: 784ms\tremaining: 311ms\n",
      "716:\tlearn: 0.0169723\ttotal: 785ms\tremaining: 310ms\n",
      "717:\tlearn: 0.0169505\ttotal: 785ms\tremaining: 308ms\n",
      "718:\tlearn: 0.0169312\ttotal: 786ms\tremaining: 307ms\n",
      "719:\tlearn: 0.0169097\ttotal: 787ms\tremaining: 306ms\n",
      "720:\tlearn: 0.0168987\ttotal: 788ms\tremaining: 305ms\n",
      "721:\tlearn: 0.0168886\ttotal: 788ms\tremaining: 304ms\n",
      "722:\tlearn: 0.0168822\ttotal: 789ms\tremaining: 302ms\n",
      "723:\tlearn: 0.0168706\ttotal: 789ms\tremaining: 301ms\n",
      "724:\tlearn: 0.0168480\ttotal: 790ms\tremaining: 300ms\n",
      "725:\tlearn: 0.0168273\ttotal: 790ms\tremaining: 298ms\n",
      "726:\tlearn: 0.0168131\ttotal: 790ms\tremaining: 297ms\n",
      "727:\tlearn: 0.0167904\ttotal: 791ms\tremaining: 296ms\n",
      "728:\tlearn: 0.0167722\ttotal: 792ms\tremaining: 294ms\n",
      "729:\tlearn: 0.0167668\ttotal: 792ms\tremaining: 293ms\n",
      "730:\tlearn: 0.0167563\ttotal: 793ms\tremaining: 292ms\n",
      "731:\tlearn: 0.0167499\ttotal: 794ms\tremaining: 291ms\n",
      "732:\tlearn: 0.0167336\ttotal: 794ms\tremaining: 289ms\n",
      "733:\tlearn: 0.0167100\ttotal: 795ms\tremaining: 288ms\n",
      "734:\tlearn: 0.0166841\ttotal: 796ms\tremaining: 287ms\n",
      "735:\tlearn: 0.0166706\ttotal: 796ms\tremaining: 286ms\n",
      "736:\tlearn: 0.0166613\ttotal: 797ms\tremaining: 284ms\n",
      "737:\tlearn: 0.0166387\ttotal: 798ms\tremaining: 283ms\n",
      "738:\tlearn: 0.0166327\ttotal: 799ms\tremaining: 282ms\n",
      "739:\tlearn: 0.0166178\ttotal: 800ms\tremaining: 281ms\n",
      "740:\tlearn: 0.0165950\ttotal: 800ms\tremaining: 280ms\n",
      "741:\tlearn: 0.0165876\ttotal: 801ms\tremaining: 278ms\n",
      "742:\tlearn: 0.0165777\ttotal: 801ms\tremaining: 277ms\n",
      "743:\tlearn: 0.0165559\ttotal: 802ms\tremaining: 276ms\n",
      "744:\tlearn: 0.0165488\ttotal: 802ms\tremaining: 275ms\n",
      "745:\tlearn: 0.0165226\ttotal: 803ms\tremaining: 273ms\n",
      "746:\tlearn: 0.0165070\ttotal: 803ms\tremaining: 272ms\n",
      "747:\tlearn: 0.0164908\ttotal: 805ms\tremaining: 271ms\n",
      "748:\tlearn: 0.0164737\ttotal: 805ms\tremaining: 270ms\n",
      "749:\tlearn: 0.0164513\ttotal: 806ms\tremaining: 269ms\n",
      "750:\tlearn: 0.0164381\ttotal: 807ms\tremaining: 267ms\n",
      "751:\tlearn: 0.0164270\ttotal: 807ms\tremaining: 266ms\n",
      "752:\tlearn: 0.0164110\ttotal: 808ms\tremaining: 265ms\n",
      "753:\tlearn: 0.0163982\ttotal: 808ms\tremaining: 264ms\n",
      "754:\tlearn: 0.0163925\ttotal: 809ms\tremaining: 262ms\n",
      "755:\tlearn: 0.0163705\ttotal: 809ms\tremaining: 261ms\n",
      "756:\tlearn: 0.0163652\ttotal: 813ms\tremaining: 261ms\n",
      "757:\tlearn: 0.0163524\ttotal: 813ms\tremaining: 260ms\n",
      "758:\tlearn: 0.0163496\ttotal: 814ms\tremaining: 258ms\n",
      "759:\tlearn: 0.0163274\ttotal: 814ms\tremaining: 257ms\n",
      "760:\tlearn: 0.0163150\ttotal: 815ms\tremaining: 256ms\n",
      "761:\tlearn: 0.0162976\ttotal: 815ms\tremaining: 255ms\n",
      "762:\tlearn: 0.0162764\ttotal: 816ms\tremaining: 253ms\n",
      "763:\tlearn: 0.0162595\ttotal: 816ms\tremaining: 252ms\n",
      "764:\tlearn: 0.0162391\ttotal: 817ms\tremaining: 251ms\n",
      "765:\tlearn: 0.0162286\ttotal: 817ms\tremaining: 250ms\n",
      "766:\tlearn: 0.0162176\ttotal: 818ms\tremaining: 248ms\n",
      "767:\tlearn: 0.0161978\ttotal: 819ms\tremaining: 247ms\n",
      "768:\tlearn: 0.0161926\ttotal: 819ms\tremaining: 246ms\n",
      "769:\tlearn: 0.0161837\ttotal: 819ms\tremaining: 245ms\n",
      "770:\tlearn: 0.0161473\ttotal: 820ms\tremaining: 244ms\n",
      "771:\tlearn: 0.0161291\ttotal: 821ms\tremaining: 242ms\n",
      "772:\tlearn: 0.0161113\ttotal: 821ms\tremaining: 241ms\n",
      "773:\tlearn: 0.0161014\ttotal: 821ms\tremaining: 240ms\n",
      "774:\tlearn: 0.0160727\ttotal: 823ms\tremaining: 239ms\n",
      "775:\tlearn: 0.0160681\ttotal: 824ms\tremaining: 238ms\n",
      "776:\tlearn: 0.0160591\ttotal: 824ms\tremaining: 237ms\n",
      "777:\tlearn: 0.0160399\ttotal: 825ms\tremaining: 235ms\n",
      "778:\tlearn: 0.0160348\ttotal: 825ms\tremaining: 234ms\n",
      "779:\tlearn: 0.0160234\ttotal: 826ms\tremaining: 233ms\n",
      "780:\tlearn: 0.0160093\ttotal: 826ms\tremaining: 232ms\n",
      "781:\tlearn: 0.0160065\ttotal: 827ms\tremaining: 230ms\n",
      "782:\tlearn: 0.0159869\ttotal: 828ms\tremaining: 229ms\n",
      "783:\tlearn: 0.0159726\ttotal: 829ms\tremaining: 228ms\n",
      "784:\tlearn: 0.0159544\ttotal: 829ms\tremaining: 227ms\n",
      "785:\tlearn: 0.0159366\ttotal: 830ms\tremaining: 226ms\n",
      "786:\tlearn: 0.0159291\ttotal: 830ms\tremaining: 225ms\n",
      "787:\tlearn: 0.0159205\ttotal: 831ms\tremaining: 223ms\n",
      "788:\tlearn: 0.0158989\ttotal: 831ms\tremaining: 222ms\n",
      "789:\tlearn: 0.0158873\ttotal: 832ms\tremaining: 221ms\n",
      "790:\tlearn: 0.0158701\ttotal: 832ms\tremaining: 220ms\n",
      "791:\tlearn: 0.0158588\ttotal: 833ms\tremaining: 219ms\n",
      "792:\tlearn: 0.0158355\ttotal: 833ms\tremaining: 218ms\n",
      "793:\tlearn: 0.0158253\ttotal: 834ms\tremaining: 216ms\n",
      "794:\tlearn: 0.0158169\ttotal: 834ms\tremaining: 215ms\n",
      "795:\tlearn: 0.0158086\ttotal: 835ms\tremaining: 214ms\n",
      "796:\tlearn: 0.0157992\ttotal: 836ms\tremaining: 213ms\n",
      "797:\tlearn: 0.0157903\ttotal: 836ms\tremaining: 212ms\n",
      "798:\tlearn: 0.0157794\ttotal: 837ms\tremaining: 211ms\n",
      "799:\tlearn: 0.0157658\ttotal: 839ms\tremaining: 210ms\n",
      "800:\tlearn: 0.0157407\ttotal: 839ms\tremaining: 209ms\n",
      "801:\tlearn: 0.0157277\ttotal: 840ms\tremaining: 207ms\n",
      "802:\tlearn: 0.0157247\ttotal: 841ms\tremaining: 206ms\n",
      "803:\tlearn: 0.0157047\ttotal: 842ms\tremaining: 205ms\n",
      "804:\tlearn: 0.0156922\ttotal: 842ms\tremaining: 204ms\n",
      "805:\tlearn: 0.0156748\ttotal: 843ms\tremaining: 203ms\n",
      "806:\tlearn: 0.0156661\ttotal: 847ms\tremaining: 202ms\n",
      "807:\tlearn: 0.0156551\ttotal: 847ms\tremaining: 201ms\n",
      "808:\tlearn: 0.0156499\ttotal: 848ms\tremaining: 200ms\n",
      "809:\tlearn: 0.0156337\ttotal: 849ms\tremaining: 199ms\n",
      "810:\tlearn: 0.0156217\ttotal: 850ms\tremaining: 198ms\n",
      "811:\tlearn: 0.0156151\ttotal: 851ms\tremaining: 197ms\n",
      "812:\tlearn: 0.0155990\ttotal: 852ms\tremaining: 196ms\n",
      "813:\tlearn: 0.0155877\ttotal: 852ms\tremaining: 195ms\n",
      "814:\tlearn: 0.0155777\ttotal: 853ms\tremaining: 194ms\n",
      "815:\tlearn: 0.0155552\ttotal: 853ms\tremaining: 192ms\n",
      "816:\tlearn: 0.0155396\ttotal: 854ms\tremaining: 191ms\n",
      "817:\tlearn: 0.0155164\ttotal: 856ms\tremaining: 190ms\n",
      "818:\tlearn: 0.0155090\ttotal: 856ms\tremaining: 189ms\n",
      "819:\tlearn: 0.0154994\ttotal: 857ms\tremaining: 188ms\n",
      "820:\tlearn: 0.0154827\ttotal: 857ms\tremaining: 187ms\n",
      "821:\tlearn: 0.0154752\ttotal: 866ms\tremaining: 188ms\n",
      "822:\tlearn: 0.0154681\ttotal: 867ms\tremaining: 186ms\n"
     ]
    },
    {
     "name": "stdout",
     "output_type": "stream",
     "text": [
      "823:\tlearn: 0.0154440\ttotal: 881ms\tremaining: 188ms\n",
      "824:\tlearn: 0.0154374\ttotal: 881ms\tremaining: 187ms\n",
      "825:\tlearn: 0.0154231\ttotal: 883ms\tremaining: 186ms\n",
      "826:\tlearn: 0.0154142\ttotal: 883ms\tremaining: 185ms\n",
      "827:\tlearn: 0.0154066\ttotal: 886ms\tremaining: 184ms\n",
      "828:\tlearn: 0.0153859\ttotal: 887ms\tremaining: 183ms\n",
      "829:\tlearn: 0.0153759\ttotal: 887ms\tremaining: 182ms\n",
      "830:\tlearn: 0.0153675\ttotal: 888ms\tremaining: 181ms\n",
      "831:\tlearn: 0.0153597\ttotal: 889ms\tremaining: 179ms\n",
      "832:\tlearn: 0.0153487\ttotal: 890ms\tremaining: 178ms\n",
      "833:\tlearn: 0.0153387\ttotal: 891ms\tremaining: 177ms\n",
      "834:\tlearn: 0.0153237\ttotal: 892ms\tremaining: 176ms\n",
      "835:\tlearn: 0.0153164\ttotal: 892ms\tremaining: 175ms\n",
      "836:\tlearn: 0.0152976\ttotal: 893ms\tremaining: 174ms\n",
      "837:\tlearn: 0.0152905\ttotal: 898ms\tremaining: 174ms\n",
      "838:\tlearn: 0.0152770\ttotal: 900ms\tremaining: 173ms\n"
     ]
    },
    {
     "name": "stdout",
     "output_type": "stream",
     "text": [
      "839:\tlearn: 0.0152593\ttotal: 902ms\tremaining: 172ms\n",
      "840:\tlearn: 0.0152492\ttotal: 904ms\tremaining: 171ms\n",
      "841:\tlearn: 0.0152333\ttotal: 904ms\tremaining: 170ms\n",
      "842:\tlearn: 0.0152237\ttotal: 906ms\tremaining: 169ms\n",
      "843:\tlearn: 0.0151956\ttotal: 907ms\tremaining: 168ms\n",
      "844:\tlearn: 0.0151750\ttotal: 908ms\tremaining: 167ms\n",
      "845:\tlearn: 0.0151595\ttotal: 910ms\tremaining: 166ms\n",
      "846:\tlearn: 0.0151449\ttotal: 911ms\tremaining: 165ms\n",
      "847:\tlearn: 0.0151381\ttotal: 913ms\tremaining: 164ms\n",
      "848:\tlearn: 0.0151201\ttotal: 914ms\tremaining: 163ms\n",
      "849:\tlearn: 0.0151125\ttotal: 914ms\tremaining: 161ms\n",
      "850:\tlearn: 0.0151080\ttotal: 916ms\tremaining: 160ms\n",
      "851:\tlearn: 0.0150928\ttotal: 918ms\tremaining: 159ms\n",
      "852:\tlearn: 0.0150780\ttotal: 919ms\tremaining: 158ms\n",
      "853:\tlearn: 0.0150719\ttotal: 921ms\tremaining: 157ms\n",
      "854:\tlearn: 0.0150669\ttotal: 922ms\tremaining: 156ms\n",
      "855:\tlearn: 0.0150452\ttotal: 923ms\tremaining: 155ms\n",
      "856:\tlearn: 0.0150366\ttotal: 924ms\tremaining: 154ms\n",
      "857:\tlearn: 0.0150202\ttotal: 925ms\tremaining: 153ms\n",
      "858:\tlearn: 0.0150077\ttotal: 925ms\tremaining: 152ms\n",
      "859:\tlearn: 0.0149980\ttotal: 926ms\tremaining: 151ms\n",
      "860:\tlearn: 0.0149884\ttotal: 926ms\tremaining: 149ms\n",
      "861:\tlearn: 0.0149726\ttotal: 926ms\tremaining: 148ms\n",
      "862:\tlearn: 0.0149686\ttotal: 927ms\tremaining: 147ms\n",
      "863:\tlearn: 0.0149600\ttotal: 929ms\tremaining: 146ms\n",
      "864:\tlearn: 0.0149438\ttotal: 929ms\tremaining: 145ms\n",
      "865:\tlearn: 0.0149381\ttotal: 930ms\tremaining: 144ms\n",
      "866:\tlearn: 0.0149359\ttotal: 932ms\tremaining: 143ms\n",
      "867:\tlearn: 0.0149264\ttotal: 932ms\tremaining: 142ms\n",
      "868:\tlearn: 0.0149223\ttotal: 933ms\tremaining: 141ms\n",
      "869:\tlearn: 0.0149061\ttotal: 934ms\tremaining: 140ms\n",
      "870:\tlearn: 0.0148962\ttotal: 936ms\tremaining: 139ms\n",
      "871:\tlearn: 0.0148859\ttotal: 937ms\tremaining: 137ms\n",
      "872:\tlearn: 0.0148832\ttotal: 937ms\tremaining: 136ms\n",
      "873:\tlearn: 0.0148714\ttotal: 938ms\tremaining: 135ms\n",
      "874:\tlearn: 0.0148576\ttotal: 938ms\tremaining: 134ms\n",
      "875:\tlearn: 0.0148415\ttotal: 940ms\tremaining: 133ms\n",
      "876:\tlearn: 0.0148346\ttotal: 941ms\tremaining: 132ms\n",
      "877:\tlearn: 0.0148185\ttotal: 941ms\tremaining: 131ms\n",
      "878:\tlearn: 0.0148125\ttotal: 942ms\tremaining: 130ms\n",
      "879:\tlearn: 0.0148022\ttotal: 942ms\tremaining: 129ms\n",
      "880:\tlearn: 0.0147832\ttotal: 943ms\tremaining: 127ms\n",
      "881:\tlearn: 0.0147748\ttotal: 944ms\tremaining: 126ms\n",
      "882:\tlearn: 0.0147648\ttotal: 946ms\tremaining: 125ms\n",
      "883:\tlearn: 0.0147517\ttotal: 946ms\tremaining: 124ms\n",
      "884:\tlearn: 0.0147452\ttotal: 946ms\tremaining: 123ms\n",
      "885:\tlearn: 0.0147400\ttotal: 947ms\tremaining: 122ms\n",
      "886:\tlearn: 0.0147309\ttotal: 948ms\tremaining: 121ms\n",
      "887:\tlearn: 0.0147221\ttotal: 948ms\tremaining: 120ms\n",
      "888:\tlearn: 0.0147135\ttotal: 949ms\tremaining: 118ms\n",
      "889:\tlearn: 0.0147076\ttotal: 949ms\tremaining: 117ms\n",
      "890:\tlearn: 0.0146967\ttotal: 949ms\tremaining: 116ms\n",
      "891:\tlearn: 0.0146844\ttotal: 950ms\tremaining: 115ms\n",
      "892:\tlearn: 0.0146694\ttotal: 951ms\tremaining: 114ms\n",
      "893:\tlearn: 0.0146604\ttotal: 952ms\tremaining: 113ms\n",
      "894:\tlearn: 0.0146363\ttotal: 953ms\tremaining: 112ms\n",
      "895:\tlearn: 0.0146297\ttotal: 953ms\tremaining: 111ms\n",
      "896:\tlearn: 0.0146181\ttotal: 954ms\tremaining: 109ms\n",
      "897:\tlearn: 0.0146044\ttotal: 954ms\tremaining: 108ms\n",
      "898:\tlearn: 0.0145914\ttotal: 956ms\tremaining: 107ms\n",
      "899:\tlearn: 0.0145832\ttotal: 957ms\tremaining: 106ms\n",
      "900:\tlearn: 0.0145684\ttotal: 958ms\tremaining: 105ms\n",
      "901:\tlearn: 0.0145520\ttotal: 959ms\tremaining: 104ms\n",
      "902:\tlearn: 0.0145433\ttotal: 959ms\tremaining: 103ms\n",
      "903:\tlearn: 0.0145293\ttotal: 960ms\tremaining: 102ms\n",
      "904:\tlearn: 0.0145209\ttotal: 961ms\tremaining: 101ms\n",
      "905:\tlearn: 0.0145078\ttotal: 961ms\tremaining: 99.7ms\n",
      "906:\tlearn: 0.0145008\ttotal: 962ms\tremaining: 98.6ms\n",
      "907:\tlearn: 0.0144873\ttotal: 962ms\tremaining: 97.5ms\n",
      "908:\tlearn: 0.0144736\ttotal: 963ms\tremaining: 96.4ms\n",
      "909:\tlearn: 0.0144646\ttotal: 964ms\tremaining: 95.3ms\n",
      "910:\tlearn: 0.0144482\ttotal: 965ms\tremaining: 94.2ms\n",
      "911:\tlearn: 0.0144393\ttotal: 965ms\tremaining: 93.1ms\n",
      "912:\tlearn: 0.0144354\ttotal: 966ms\tremaining: 92ms\n",
      "913:\tlearn: 0.0144303\ttotal: 967ms\tremaining: 90.9ms\n",
      "914:\tlearn: 0.0144201\ttotal: 967ms\tremaining: 89.9ms\n",
      "915:\tlearn: 0.0144136\ttotal: 968ms\tremaining: 88.8ms\n",
      "916:\tlearn: 0.0143979\ttotal: 969ms\tremaining: 87.7ms\n",
      "917:\tlearn: 0.0143847\ttotal: 970ms\tremaining: 86.6ms\n",
      "918:\tlearn: 0.0143791\ttotal: 970ms\tremaining: 85.5ms\n",
      "919:\tlearn: 0.0143662\ttotal: 971ms\tremaining: 84.4ms\n",
      "920:\tlearn: 0.0143587\ttotal: 972ms\tremaining: 83.3ms\n",
      "921:\tlearn: 0.0143456\ttotal: 972ms\tremaining: 82.3ms\n",
      "922:\tlearn: 0.0143368\ttotal: 973ms\tremaining: 81.2ms\n",
      "923:\tlearn: 0.0143298\ttotal: 973ms\tremaining: 80ms\n",
      "924:\tlearn: 0.0143266\ttotal: 974ms\tremaining: 78.9ms\n",
      "925:\tlearn: 0.0143127\ttotal: 974ms\tremaining: 77.8ms\n",
      "926:\tlearn: 0.0142950\ttotal: 974ms\tremaining: 76.7ms\n",
      "927:\tlearn: 0.0142868\ttotal: 975ms\tremaining: 75.6ms\n",
      "928:\tlearn: 0.0142785\ttotal: 975ms\tremaining: 74.5ms\n",
      "929:\tlearn: 0.0142631\ttotal: 976ms\tremaining: 73.4ms\n",
      "930:\tlearn: 0.0142521\ttotal: 976ms\tremaining: 72.4ms\n",
      "931:\tlearn: 0.0142350\ttotal: 977ms\tremaining: 71.3ms\n",
      "932:\tlearn: 0.0142267\ttotal: 977ms\tremaining: 70.2ms\n",
      "933:\tlearn: 0.0142239\ttotal: 978ms\tremaining: 69.1ms\n",
      "934:\tlearn: 0.0142104\ttotal: 978ms\tremaining: 68ms\n",
      "935:\tlearn: 0.0141996\ttotal: 979ms\tremaining: 66.9ms\n",
      "936:\tlearn: 0.0141840\ttotal: 979ms\tremaining: 65.8ms\n",
      "937:\tlearn: 0.0141661\ttotal: 979ms\tremaining: 64.7ms\n",
      "938:\tlearn: 0.0141527\ttotal: 980ms\tremaining: 63.7ms\n",
      "939:\tlearn: 0.0141448\ttotal: 980ms\tremaining: 62.6ms\n",
      "940:\tlearn: 0.0141427\ttotal: 981ms\tremaining: 61.5ms\n",
      "941:\tlearn: 0.0141384\ttotal: 981ms\tremaining: 60.4ms\n",
      "942:\tlearn: 0.0141251\ttotal: 982ms\tremaining: 59.3ms\n",
      "943:\tlearn: 0.0141129\ttotal: 982ms\tremaining: 58.3ms\n",
      "944:\tlearn: 0.0140966\ttotal: 983ms\tremaining: 57.2ms\n",
      "945:\tlearn: 0.0140846\ttotal: 984ms\tremaining: 56.1ms\n",
      "946:\tlearn: 0.0140795\ttotal: 984ms\tremaining: 55.1ms\n",
      "947:\tlearn: 0.0140655\ttotal: 985ms\tremaining: 54ms\n",
      "948:\tlearn: 0.0140601\ttotal: 985ms\tremaining: 52.9ms\n",
      "949:\tlearn: 0.0140524\ttotal: 986ms\tremaining: 51.9ms\n",
      "950:\tlearn: 0.0140300\ttotal: 986ms\tremaining: 50.8ms\n",
      "951:\tlearn: 0.0140183\ttotal: 987ms\tremaining: 49.8ms\n",
      "952:\tlearn: 0.0140114\ttotal: 987ms\tremaining: 48.7ms\n",
      "953:\tlearn: 0.0140059\ttotal: 988ms\tremaining: 47.6ms\n",
      "954:\tlearn: 0.0139978\ttotal: 989ms\tremaining: 46.6ms\n",
      "955:\tlearn: 0.0139860\ttotal: 989ms\tremaining: 45.5ms\n",
      "956:\tlearn: 0.0139837\ttotal: 990ms\tremaining: 44.5ms\n",
      "957:\tlearn: 0.0139689\ttotal: 990ms\tremaining: 43.4ms\n",
      "958:\tlearn: 0.0139634\ttotal: 990ms\tremaining: 42.3ms\n",
      "959:\tlearn: 0.0139608\ttotal: 991ms\tremaining: 41.3ms\n",
      "960:\tlearn: 0.0139529\ttotal: 991ms\tremaining: 40.2ms\n",
      "961:\tlearn: 0.0139355\ttotal: 992ms\tremaining: 39.2ms\n",
      "962:\tlearn: 0.0139313\ttotal: 992ms\tremaining: 38.1ms\n",
      "963:\tlearn: 0.0139198\ttotal: 993ms\tremaining: 37.1ms\n",
      "964:\tlearn: 0.0139069\ttotal: 993ms\tremaining: 36ms\n",
      "965:\tlearn: 0.0138956\ttotal: 994ms\tremaining: 35ms\n",
      "966:\tlearn: 0.0138741\ttotal: 994ms\tremaining: 33.9ms\n",
      "967:\tlearn: 0.0138613\ttotal: 995ms\tremaining: 32.9ms\n",
      "968:\tlearn: 0.0138457\ttotal: 995ms\tremaining: 31.8ms\n",
      "969:\tlearn: 0.0138323\ttotal: 995ms\tremaining: 30.8ms\n",
      "970:\tlearn: 0.0138184\ttotal: 996ms\tremaining: 29.7ms\n",
      "971:\tlearn: 0.0138064\ttotal: 996ms\tremaining: 28.7ms\n",
      "972:\tlearn: 0.0137909\ttotal: 997ms\tremaining: 27.7ms\n",
      "973:\tlearn: 0.0137828\ttotal: 997ms\tremaining: 26.6ms\n",
      "974:\tlearn: 0.0137755\ttotal: 998ms\tremaining: 25.6ms\n",
      "975:\tlearn: 0.0137616\ttotal: 998ms\tremaining: 24.5ms\n",
      "976:\tlearn: 0.0137505\ttotal: 999ms\tremaining: 23.5ms\n",
      "977:\tlearn: 0.0137440\ttotal: 999ms\tremaining: 22.5ms\n",
      "978:\tlearn: 0.0137361\ttotal: 999ms\tremaining: 21.4ms\n",
      "979:\tlearn: 0.0137245\ttotal: 999ms\tremaining: 20.4ms\n",
      "980:\tlearn: 0.0137174\ttotal: 1s\tremaining: 19.4ms\n"
     ]
    },
    {
     "name": "stdout",
     "output_type": "stream",
     "text": [
      "981:\tlearn: 0.0137106\ttotal: 1s\tremaining: 18.3ms\n",
      "982:\tlearn: 0.0137036\ttotal: 1s\tremaining: 17.3ms\n",
      "983:\tlearn: 0.0136944\ttotal: 1s\tremaining: 16.3ms\n",
      "984:\tlearn: 0.0136817\ttotal: 1s\tremaining: 15.3ms\n",
      "985:\tlearn: 0.0136790\ttotal: 1s\tremaining: 14.2ms\n",
      "986:\tlearn: 0.0136707\ttotal: 1s\tremaining: 13.2ms\n",
      "987:\tlearn: 0.0136645\ttotal: 1s\tremaining: 12.2ms\n",
      "988:\tlearn: 0.0136552\ttotal: 1s\tremaining: 11.2ms\n",
      "989:\tlearn: 0.0136394\ttotal: 1s\tremaining: 10.2ms\n",
      "990:\tlearn: 0.0136316\ttotal: 1.01s\tremaining: 9.14ms\n",
      "991:\tlearn: 0.0136225\ttotal: 1.01s\tremaining: 8.12ms\n",
      "992:\tlearn: 0.0136127\ttotal: 1.01s\tremaining: 7.1ms\n",
      "993:\tlearn: 0.0136062\ttotal: 1.01s\tremaining: 6.08ms\n",
      "994:\tlearn: 0.0136035\ttotal: 1.01s\tremaining: 5.07ms\n",
      "995:\tlearn: 0.0135902\ttotal: 1.01s\tremaining: 4.05ms\n",
      "996:\tlearn: 0.0135771\ttotal: 1.01s\tremaining: 3.04ms\n",
      "997:\tlearn: 0.0135699\ttotal: 1.01s\tremaining: 2.02ms\n",
      "998:\tlearn: 0.0135596\ttotal: 1.01s\tremaining: 1.01ms\n",
      "999:\tlearn: 0.0135454\ttotal: 1.01s\tremaining: 0us\n"
     ]
    },
    {
     "data": {
      "text/plain": [
       "<catboost.core.CatBoostRegressor at 0x7f89405d1190>"
      ]
     },
     "execution_count": 9,
     "metadata": {},
     "output_type": "execute_result"
    }
   ],
   "source": [
    "#Train the Model \n",
    "prior_model = ctb.CatBoostRegressor()\n",
    "prior_model.fit(X_train,Y_train)"
   ]
  },
  {
   "cell_type": "code",
   "execution_count": 10,
   "id": "af65dcda",
   "metadata": {
    "execution": {
     "iopub.execute_input": "2022-07-25T07:05:55.056441Z",
     "iopub.status.busy": "2022-07-25T07:05:55.056066Z",
     "iopub.status.idle": "2022-07-25T07:05:55.082295Z",
     "shell.execute_reply": "2022-07-25T07:05:55.081474Z"
    },
    "id": "af65dcda",
    "papermill": {
     "duration": 0.047895,
     "end_time": "2022-07-25T07:05:55.087359",
     "exception": false,
     "start_time": "2022-07-25T07:05:55.039464",
     "status": "completed"
    },
    "tags": []
   },
   "outputs": [
    {
     "data": {
      "application/scrapbook.scrap.json+json": {
       "data": 0.0009527295255646219,
       "encoder": "json",
       "name": "Prior Model MSE",
       "version": 1
      }
     },
     "metadata": {
      "scrapbook": {
       "data": true,
       "display": false,
       "name": "Prior Model MSE"
      }
     },
     "output_type": "display_data"
    },
    {
     "data": {
      "application/scrapbook.scrap.json+json": {
       "data": 0.0011493797701214816,
       "encoder": "json",
       "name": "ABC Pre-generator MSE",
       "version": 1
      }
     },
     "metadata": {
      "scrapbook": {
       "data": true,
       "display": false,
       "name": "ABC Pre-generator MSE"
      }
     },
     "output_type": "display_data"
    },
    {
     "data": {
      "application/scrapbook.scrap.json+json": {
       "data": 0.022131235729072943,
       "encoder": "json",
       "name": "Prior Model MAE",
       "version": 1
      }
     },
     "metadata": {
      "scrapbook": {
       "data": true,
       "display": false,
       "name": "Prior Model MAE"
      }
     },
     "output_type": "display_data"
    },
    {
     "name": "stdout",
     "output_type": "stream",
     "text": [
      "Prior Model MAE 0.022131235729072943\n",
      "ABC Pre-generator MAE 0.025674469861029406\n"
     ]
    }
   ],
   "source": [
    "y_pred = prior_model.predict(X_test)\n",
    "y_abc = y_pred + np.random.normal(0,variance, y_pred.shape) + bias \n",
    "mse = mean_squared_error(y_pred,Y_test)\n",
    "sb.glue(\"Prior Model MSE\",mse)\n",
    "mse = mean_squared_error(y_abc,Y_test)\n",
    "sb.glue(\"ABC Pre-generator MSE\",mse)\n",
    "mae = mean_absolute_error(y_pred,Y_test)\n",
    "sb.glue(\"Prior Model MAE\",mae)\n",
    "print(\"Prior Model MAE\",mae)\n",
    "mae = mean_absolute_error(y_abc,Y_test)\n",
    "print(\"ABC Pre-generator MAE\",mae)"
   ]
  },
  {
   "cell_type": "markdown",
   "id": "25609da2",
   "metadata": {
    "papermill": {
     "duration": 0.015724,
     "end_time": "2022-07-25T07:05:55.114830",
     "exception": false,
     "start_time": "2022-07-25T07:05:55.099106",
     "status": "completed"
    },
    "tags": []
   },
   "source": [
    "# mGAN Model"
   ]
  },
  {
   "cell_type": "code",
   "execution_count": 11,
   "id": "dfc3464d",
   "metadata": {
    "execution": {
     "iopub.execute_input": "2022-07-25T07:05:55.162054Z",
     "iopub.status.busy": "2022-07-25T07:05:55.160926Z",
     "iopub.status.idle": "2022-07-25T07:05:55.188686Z",
     "shell.execute_reply": "2022-07-25T07:05:55.176383Z"
    },
    "papermill": {
     "duration": 0.062822,
     "end_time": "2022-07-25T07:05:55.194464",
     "exception": false,
     "start_time": "2022-07-25T07:05:55.131642",
     "status": "completed"
    },
    "tags": []
   },
   "outputs": [],
   "source": [
    "# gen = network.Generator(n_features+1).to(device)\n",
    "# disc = network.Discriminator(n_features+1).to(device)\n",
    "\n",
    "# criterion = torch.nn.BCELoss()\n",
    "# gen_opt = torch.optim.Adam(gen.parameters(), lr=0.01, betas=(0.5, 0.999))\n",
    "# disc_opt = torch.optim.Adam(disc.parameters(), lr=0.01, betas=(0.5, 0.999))"
   ]
  },
  {
   "cell_type": "code",
   "execution_count": 12,
   "id": "b75fdd85",
   "metadata": {
    "execution": {
     "iopub.execute_input": "2022-07-25T07:05:55.232367Z",
     "iopub.status.busy": "2022-07-25T07:05:55.231605Z",
     "iopub.status.idle": "2022-07-25T07:05:55.241339Z",
     "shell.execute_reply": "2022-07-25T07:05:55.239192Z"
    },
    "papermill": {
     "duration": 0.05856,
     "end_time": "2022-07-25T07:05:55.267643",
     "exception": false,
     "start_time": "2022-07-25T07:05:55.209083",
     "status": "completed"
    },
    "tags": []
   },
   "outputs": [],
   "source": [
    "#Training the ABC_GAN \n",
    "# ABC_train_test2.training_GAN(disc,gen,disc_opt,gen_opt,train_data,batch_size,n_epochs,criterion,prior_model,variance,bias,device)"
   ]
  },
  {
   "cell_type": "code",
   "execution_count": 13,
   "id": "1fa7c368",
   "metadata": {
    "execution": {
     "iopub.execute_input": "2022-07-25T07:05:55.350323Z",
     "iopub.status.busy": "2022-07-25T07:05:55.349585Z",
     "iopub.status.idle": "2022-07-25T07:05:55.362252Z",
     "shell.execute_reply": "2022-07-25T07:05:55.359627Z"
    },
    "papermill": {
     "duration": 0.054736,
     "end_time": "2022-07-25T07:05:55.371844",
     "exception": false,
     "start_time": "2022-07-25T07:05:55.317108",
     "status": "completed"
    },
    "tags": []
   },
   "outputs": [],
   "source": [
    "# ABC_GAN1_metrics=ABC_train_test2.test_generator(gen,test_data,prior_model,variance,bias,\"1\",device)\n",
    "# sb.glue(\"ABC_GAN_1 Metrics\",ABC_GAN1_metrics)\n",
    "\n",
    "# print(\"MAE\")\n",
    "# print(mean(ABC_GAN1_metrics[1]))"
   ]
  },
  {
   "cell_type": "code",
   "execution_count": 14,
   "id": "eb22ce5c",
   "metadata": {
    "execution": {
     "iopub.execute_input": "2022-07-25T07:05:55.412245Z",
     "iopub.status.busy": "2022-07-25T07:05:55.411786Z",
     "iopub.status.idle": "2022-07-25T07:05:55.416804Z",
     "shell.execute_reply": "2022-07-25T07:05:55.415720Z"
    },
    "papermill": {
     "duration": 0.0276,
     "end_time": "2022-07-25T07:05:55.419558",
     "exception": false,
     "start_time": "2022-07-25T07:05:55.391958",
     "status": "completed"
    },
    "tags": []
   },
   "outputs": [],
   "source": [
    "# sanityChecks.discProbVsError(train_data,disc,device)\n",
    "# sanityChecks.discProbVsError(test_data,disc,device)"
   ]
  },
  {
   "cell_type": "markdown",
   "id": "0f4f7544",
   "metadata": {
    "papermill": {
     "duration": 0.010647,
     "end_time": "2022-07-25T07:05:55.443242",
     "exception": false,
     "start_time": "2022-07-25T07:05:55.432595",
     "status": "completed"
    },
    "tags": []
   },
   "source": [
    "# mGAN Model with TabNet Generator"
   ]
  },
  {
   "cell_type": "code",
   "execution_count": 15,
   "id": "9a66da71",
   "metadata": {
    "execution": {
     "iopub.execute_input": "2022-07-25T07:05:55.466677Z",
     "iopub.status.busy": "2022-07-25T07:05:55.466284Z",
     "iopub.status.idle": "2022-07-25T07:05:55.482697Z",
     "shell.execute_reply": "2022-07-25T07:05:55.481334Z"
    },
    "papermill": {
     "duration": 0.030054,
     "end_time": "2022-07-25T07:05:55.485179",
     "exception": false,
     "start_time": "2022-07-25T07:05:55.455125",
     "status": "completed"
    },
    "tags": []
   },
   "outputs": [],
   "source": [
    "gen2 = network.GeneratorTabnet(n_features+1).to(device)\n",
    "disc2 = network.Discriminator(n_features+1).to(device)\n",
    "\n",
    "criterion = torch.nn.BCELoss()\n",
    "gen_opt = torch.optim.Adam(gen2.parameters(), lr=0.01, betas=(0.5, 0.999))\n",
    "disc_opt = torch.optim.Adam(disc2.parameters(), lr=0.01, betas=(0.5, 0.999))"
   ]
  },
  {
   "cell_type": "code",
   "execution_count": 16,
   "id": "380814f3",
   "metadata": {
    "execution": {
     "iopub.execute_input": "2022-07-25T07:05:55.509178Z",
     "iopub.status.busy": "2022-07-25T07:05:55.508867Z",
     "iopub.status.idle": "2022-07-25T07:30:46.631063Z",
     "shell.execute_reply": "2022-07-25T07:30:46.624959Z"
    },
    "papermill": {
     "duration": 1491.147829,
     "end_time": "2022-07-25T07:30:46.642900",
     "exception": false,
     "start_time": "2022-07-25T07:05:55.495071",
     "status": "completed"
    },
    "tags": []
   },
   "outputs": [
    {
     "data": {
      "image/png": "[encoded data removed]",
      "text/plain": [
       "<Figure size 432x288 with 1 Axes>"
      ]
     },
     "metadata": {
      "needs_background": "light"
     },
     "output_type": "display_data"
    },
    {
     "data": {
      "image/png": "[encoded data removed]",
      "text/plain": [
       "<Figure size 432x288 with 1 Axes>"
      ]
     },
     "metadata": {
      "needs_background": "light"
     },
     "output_type": "display_data"
    }
   ],
   "source": [
    "#Training the ABC_GAN \n",
    "ABC_train_test2.training_GAN(disc2,gen2,disc_opt,gen_opt,train_data,batch_size,n_epochs,criterion,prior_model,variance,bias,device)"
   ]
  },
  {
   "cell_type": "code",
   "execution_count": 17,
   "id": "bc00f35b",
   "metadata": {
    "execution": {
     "iopub.execute_input": "2022-07-25T07:30:46.681382Z",
     "iopub.status.busy": "2022-07-25T07:30:46.680771Z",
     "iopub.status.idle": "2022-07-25T07:30:49.503624Z",
     "shell.execute_reply": "2022-07-25T07:30:49.500215Z"
    },
    "papermill": {
     "duration": 2.848257,
     "end_time": "2022-07-25T07:30:49.509200",
     "exception": false,
     "start_time": "2022-07-25T07:30:46.660943",
     "status": "completed"
    },
    "tags": []
   },
   "outputs": [
    {
     "data": {
      "application/scrapbook.scrap.json+json": {
       "data": 0.002819210422584016,
       "encoder": "json",
       "name": "ABC-GAN Model 1 MSE",
       "version": 1
      }
     },
     "metadata": {
      "scrapbook": {
       "data": true,
       "display": false,
       "name": "ABC-GAN Model 1 MSE"
      }
     },
     "output_type": "display_data"
    },
    {
     "data": {
      "application/scrapbook.scrap.json+json": {
       "data": 0.03546163614331321,
       "encoder": "json",
       "name": "ABC-GAN Model 1 MAE",
       "version": 1
      }
     },
     "metadata": {
      "scrapbook": {
       "data": true,
       "display": false,
       "name": "ABC-GAN Model 1 MAE"
      }
     },
     "output_type": "display_data"
    },
    {
     "data": {
      "application/scrapbook.scrap.json+json": {
       "data": 5.461091966070235,
       "encoder": "json",
       "name": "ABC-GAN Model 1 Manhattan Distance",
       "version": 1
      }
     },
     "metadata": {
      "scrapbook": {
       "data": true,
       "display": false,
       "name": "ABC-GAN Model 1 Manhattan Distance"
      }
     },
     "output_type": "display_data"
    },
    {
     "data": {
      "application/scrapbook.scrap.json+json": {
       "data": 0.6588676540461306,
       "encoder": "json",
       "name": "ABC-GAN Model 1 Euclidean distance",
       "version": 1
      }
     },
     "metadata": {
      "scrapbook": {
       "data": true,
       "display": false,
       "name": "ABC-GAN Model 1 Euclidean distance"
      }
     },
     "output_type": "display_data"
    },
    {
     "data": {
      "application/scrapbook.scrap.json+json": {
       "data": [
        [
         0.0027991669979338415,
         0.002923805378998957,
         0.002802903006520993,
         0.0028941174380444834,
         0.002783817223470434,
         0.002901812569969158,
         0.002745431514985608,
         0.002733834466529832,
         0.002887109893176089,
         0.002868668333185427,
         0.002749601703774774,
         0.0028065411539491244,
         0.0028437541750066437,
         0.0028037379112753496,
         0.0028806335470670224,
         0.0028507851464997765,
         0.002828015033813361,
         0.002945078629227969,
         0.0028641241193312875,
         0.0028269580400553025,
         0.0028375023961133717,
         0.0028341441055620025,
         0.0027821746585020173,
         0.0027946723086779454,
         0.0028801534554753383,
         0.002929937214443553,
         0.0027990731361258693,
         0.00276305752913552,
         0.0027670157370135737,
         0.002869982941436675,
         0.0029368556149079695,
         0.002713035177042143,
         0.002841809494484267,
         0.0028937128998919003,
         0.0028052519917050544,
         0.0030000450065313863,
         0.002818516548293199,
         0.00288632382402185,
         0.0027965261037769754,
         0.002782634822053679,
         0.002851872603643594,
         0.0027702034061568206,
         0.0028002316931819296,
         0.002808986911507038,
         0.002826871799737786,
         0.0026822542324742263,
         0.0027821412797611883,
         0.0027998647027277944,
         0.0028174073856270065,
         0.0027667130522012174,
         0.002776396742161228,
         0.0027543641308487117,
         0.00278883298001738,
         0.0027476828007935946,
         0.0028230916808730873,
         0.002782089551151977,
         0.0027987444359904566,
         0.002908294307260662,
         0.0027525550902276195,
         0.002825072289639601,
         0.002805652295895488,
         0.0028344573195668086,
         0.0028183678997977446,
         0.002867071755353024,
         0.002909437609529594,
         0.0028365908871789574,
         0.002972972584972087,
         0.0029174094356988903,
         0.0028808916680185584,
         0.002872820382271231,
         0.0028455857821475827,
         0.002799422569891524,
         0.0028238025832532797,
         0.0027777904414849394,
         0.0028336940455563307,
         0.0027618149795952856,
         0.002954790694143738,
         0.002765393162598669,
         0.002817307206087324,
         0.00274416949783892,
         0.002741112510647898,
         0.002764522532186734,
         0.002804072842915667,
         0.002831150545038275,
         0.0027605611417257656,
         0.0027504769629152345,
         0.0027190366838467013,
         0.002881125183352545,
         0.0028820944289677363,
         0.0028177439883959802,
         0.0027384881660660106,
         0.002780909459355901,
         0.0027893095784999973,
         0.002763974406749518,
         0.002718327191383413,
         0.0028343188990499076,
         0.0028640166025916255,
         0.0028104470307385304,
         0.002718388254039659,
         0.0027755307250618795
        ],
        [
         0.03543090946101523,
         0.035880232592681784,
         0.03518899626933135,
         0.03609353047493216,
         0.03550797217078023,
         0.035206591057312955,
         0.034508399326692925,
         0.03466762142715516,
         0.035726261942030546,
         0.03625612947847936,
         0.03515720735122631,
         0.03592932916113308,
         0.03559521029328371,
         0.0353530068676193,
         0.03595667095346884,
         0.035708179866725746,
         0.0356145194888889,
         0.036429634728989045,
         0.03556170798354335,
         0.035622317489091455,
         0.035717960060029835,
         0.035079277326147275,
         0.035340874032540756,
         0.035037213718736325,
         0.03572614931247451,
         0.03610010740238351,
         0.03550740312059204,
         0.03522409421282929,
         0.035197673438044336,
         0.03599973434171119,
         0.036220781601868667,
         0.03473600000143051,
         0.03525366222897133,
         0.035885279296667544,
         0.03482079109201183,
         0.03656682889763411,
         0.035612107677893204,
         0.035805525088852104,
         0.03553066383321564,
         0.03522406552325596,
         0.03567085540913916,
         0.035332969498711744,
         0.035219683469115914,
         0.03555550227885122,
         0.03612778268077157,
         0.03459576860844315,
         0.03533968310077469,
         0.035485429568337154,
         0.035573212792734045,
         0.03562007747687303,
         0.03564856094973428,
         0.03489301024706333,
         0.03536715677806309,
         0.03525135714512367,
         0.03568716168210104,
         0.03517409080228248,
         0.035155735861558415,
         0.035639764474970956,
         0.03546475111083551,
         0.035665324852838146,
         0.03612349932263424,
         0.035018532161975834,
         0.035323858382059384,
         0.03615516279037897,
         0.035534700983530516,
         0.035619643795025815,
         0.03587323354629727,
         0.035161615385637654,
         0.03588369730618093,
         0.0359234061430801,
         0.03542424491667128,
         0.03547089919447899,
         0.03570990970769486,
         0.034994670661625926,
         0.03559090884087922,
         0.03492910361715725,
         0.03651308815007086,
         0.0351910177473124,
         0.035303927135544935,
         0.03499448942867192,
         0.034812331828591114,
         0.035031523894179954,
         0.035381487244135375,
         0.03583221021410707,
         0.03535424168040226,
         0.03518107141573708,
         0.034940999872111654,
         0.03566358673882175,
         0.03602239920140861,
         0.03523106171519726,
         0.03481999504101741,
         0.034832614776376,
         0.03522531330198437,
         0.035212079232389275,
         0.034271454269235786,
         0.03595827994021503,
         0.03567719091842701,
         0.03511501456816475,
         0.03481978763427053,
         0.03559286224764663
        ],
        [
         5.4563600569963455,
         5.525555819272995,
         5.419105425477028,
         5.558403693139553,
         5.468227714300156,
         5.421815022826195,
         5.314293496310711,
         5.338813699781895,
         5.501844339072704,
         5.5834439396858215,
         5.414209932088852,
         5.533116690814495,
         5.481662385165691,
         5.444363057613373,
         5.537327326834202,
         5.499059699475765,
         5.484636001288891,
         5.610163748264313,
         5.476503029465675,
         5.485836893320084,
         5.500565849244595,
         5.402208708226681,
         5.442494601011276,
         5.395730912685394,
         5.501826994121075,
         5.55941653996706,
         5.468140080571175,
         5.424510508775711,
         5.420441709458828,
         5.543959088623524,
         5.578000366687775,
         5.349344000220299,
         5.429063983261585,
         5.526333011686802,
         5.362401828169823,
         5.631291650235653,
         5.484264582395554,
         5.514050863683224,
         5.471722230315208,
         5.424506090581417,
         5.493311733007431,
         5.441277302801609,
         5.423831254243851,
         5.4755473509430885,
         5.563678532838821,
         5.327748365700245,
         5.442311197519302,
         5.464756153523922,
         5.478274770081043,
         5.485491931438446,
         5.489878386259079,
         5.373523578047752,
         5.446542143821716,
         5.428709000349045,
         5.49582289904356,
         5.416809983551502,
         5.4139833226799965,
         5.488523729145527,
         5.461571671068668,
         5.492460027337074,
         5.563018895685673,
         5.392853952944279,
         5.439874190837145,
         5.567895069718361,
         5.472343951463699,
         5.485425144433975,
         5.52447796612978,
         5.414888769388199,
         5.526089385151863,
         5.532204546034336,
         5.4553337171673775,
         5.462518475949764,
         5.499326094985008,
         5.389179281890392,
         5.4809999614953995,
         5.379081957042217,
         5.623015575110912,
         5.419416733086109,
         5.43680477887392,
         5.389151372015476,
         5.361099101603031,
         5.3948546797037125,
         5.4487490355968475,
         5.518160372972488,
         5.444553218781948,
         5.41788499802351,
         5.380913980305195,
         5.492192357778549,
         5.547449477016926,
         5.425583504140377,
         5.362279236316681,
         5.364222675561905,
         5.424698248505592,
         5.422660201787949,
         5.277803957462311,
         5.537575110793114,
         5.494287401437759,
         5.407712243497372,
         5.362247295677662,
         5.481300786137581
        ],
        [
         0.656560520958892,
         0.6710186497898843,
         0.6569985258767579,
         0.6676032395508955,
         0.654757857848569,
         0.6684901912333869,
         0.6502280010179381,
         0.6488532251947231,
         0.6667945137365167,
         0.6646615103272911,
         0.650721647389508,
         0.6574247772241059,
         0.6617689498238967,
         0.6570963691395684,
         0.6660462193033765,
         0.6625865321306837,
         0.6599350840857438,
         0.6734553503396549,
         0.6641348615883812,
         0.659811744491197,
         0.6610411250455294,
         0.6606498257447347,
         0.6545646625118947,
         0.6560331817342806,
         0.6659907147574973,
         0.6717219149501579,
         0.6565495129564745,
         0.6523119341901312,
         0.6527790005048342,
         0.6648137882003109,
         0.6725145089110177,
         0.6463802420127722,
         0.6615426381954357,
         0.6675565793124599,
         0.6572737684729084,
         0.679710917233079,
         0.6588258862834343,
         0.6667037339773678,
         0.6562507295094263,
         0.6546187918141875,
         0.6627128948203086,
         0.653154900883512,
         0.6566853742470721,
         0.6577111709345401,
         0.6598016801733829,
         0.6427030043504005,
         0.6545607359773599,
         0.656642341172179,
         0.6586962406045438,
         0.6527432956675905,
         0.6538846215448327,
         0.6512849423644782,
         0.6553474490090554,
         0.6504945436529146,
         0.6593603861731879,
         0.6545546507950306,
         0.6565109619363033,
         0.669236373277889,
         0.6510710283026372,
         0.6595916407933764,
         0.6573206626661794,
         0.6606863304271464,
         0.658808512823607,
         0.6644765235313929,
         0.669367904718741,
         0.6609349412957068,
         0.6766371095984179,
         0.670284307661778,
         0.6660760593767486,
         0.6651423448178364,
         0.6619820318186346,
         0.6565904932020374,
         0.6594434000132271,
         0.6540487198891842,
         0.6605973683081662,
         0.6521652450550198,
         0.6745648722681427,
         0.6525875780615159,
         0.6586845297541517,
         0.6500785357687129,
         0.6497163432143109,
         0.6524848427026922,
         0.6571356159949122,
         0.6603008283622658,
         0.6520171898238327,
         0.650825208707335,
         0.6470947761436434,
         0.6661030537659258,
         0.666215086935917,
         0.6587355874802734,
         0.6494052491119591,
         0.6544158133333948,
         0.6554034445202432,
         0.6524201549917245,
         0.6470103457233475,
         0.660670197945757,
         0.664122395947547,
         0.6578820887771104,
         0.6470176126830764,
         0.653782633341946
        ]
       ],
       "encoder": "json",
       "name": "ABC_GAN_2 Metrics",
       "version": 1
      }
     },
     "metadata": {
      "scrapbook": {
       "data": true,
       "display": false,
       "name": "ABC_GAN_2 Metrics"
      }
     },
     "output_type": "display_data"
    },
    {
     "name": "stdout",
     "output_type": "stream",
     "text": [
      "MAE\n",
      "0.03546163614331321\n"
     ]
    }
   ],
   "source": [
    "ABC_GAN2_metrics=ABC_train_test2.test_generator(gen2,test_data,prior_model,variance,bias,\"1\",device)\n",
    "sb.glue(\"ABC_GAN_2 Metrics\",ABC_GAN2_metrics)\n",
    "\n",
    "print(\"MAE\")\n",
    "print(mean(ABC_GAN2_metrics[1]))"
   ]
  },
  {
   "cell_type": "code",
   "execution_count": 18,
   "id": "8e4e8856",
   "metadata": {
    "execution": {
     "iopub.execute_input": "2022-07-25T07:30:49.713357Z",
     "iopub.status.busy": "2022-07-25T07:30:49.701250Z",
     "iopub.status.idle": "2022-07-25T07:30:52.879482Z",
     "shell.execute_reply": "2022-07-25T07:30:52.877782Z"
    },
    "papermill": {
     "duration": 3.265883,
     "end_time": "2022-07-25T07:30:52.882581",
     "exception": false,
     "start_time": "2022-07-25T07:30:49.616698",
     "status": "completed"
    },
    "tags": []
   },
   "outputs": [
    {
     "data": {
      "image/png": "[encoded data removed]",
      "text/plain": [
       "<Figure size 432x288 with 1 Axes>"
      ]
     },
     "metadata": {
      "needs_background": "light"
     },
     "output_type": "display_data"
    },
    {
     "data": {
      "image/png": "[encoded data removed]",
      "text/plain": [
       "<Figure size 432x288 with 1 Axes>"
      ]
     },
     "metadata": {
      "needs_background": "light"
     },
     "output_type": "display_data"
    },
    {
     "data": {
      "image/png": "[encoded data removed]",
      "text/plain": [
       "<Figure size 432x288 with 1 Axes>"
      ]
     },
     "metadata": {
      "needs_background": "light"
     },
     "output_type": "display_data"
    },
    {
     "data": {
      "image/png": "[encoded data removed]",
      "text/plain": [
       "<Figure size 432x288 with 1 Axes>"
      ]
     },
     "metadata": {
      "needs_background": "light"
     },
     "output_type": "display_data"
    }
   ],
   "source": [
    "sanityChecks.discProbVsError(train_data,disc2,device)\n",
    "sanityChecks.discProbVsError(test_data,disc2,device)"
   ]
  },
  {
   "cell_type": "markdown",
   "id": "130f3a4d",
   "metadata": {
    "id": "130f3a4d",
    "papermill": {
     "duration": 0.033434,
     "end_time": "2022-07-25T07:30:52.946487",
     "exception": false,
     "start_time": "2022-07-25T07:30:52.913053",
     "status": "completed"
    },
    "tags": []
   },
   "source": [
    "# skipGAN Model"
   ]
  },
  {
   "cell_type": "code",
   "execution_count": 19,
   "id": "4e43dad1",
   "metadata": {
    "execution": {
     "iopub.execute_input": "2022-07-25T07:30:53.014314Z",
     "iopub.status.busy": "2022-07-25T07:30:53.013194Z",
     "iopub.status.idle": "2022-07-25T07:30:53.042945Z",
     "shell.execute_reply": "2022-07-25T07:30:53.040683Z"
    },
    "id": "4e43dad1",
    "papermill": {
     "duration": 0.078024,
     "end_time": "2022-07-25T07:30:53.051100",
     "exception": false,
     "start_time": "2022-07-25T07:30:52.973076",
     "status": "completed"
    },
    "tags": []
   },
   "outputs": [],
   "source": [
    "#Generator\n",
    "gen3 = network.GeneratorWithSkipConnection(n_features+1).to(device)\n",
    "constraints=network.weightConstraint()\n",
    "#Discriminator \n",
    "disc3 = network.Discriminator(n_features+1).to(device)\n",
    "\n",
    "criterion = torch.nn.BCELoss()\n",
    "gen_opt = torch.optim.Adam(gen3.parameters(), lr=0.01, betas=(0.5, 0.999))\n",
    "disc_opt = torch.optim.Adam(disc3.parameters(), lr=0.01, betas=(0.5, 0.999))\n"
   ]
  },
  {
   "cell_type": "code",
   "execution_count": 20,
   "id": "26acbc37",
   "metadata": {
    "execution": {
     "iopub.execute_input": "2022-07-25T07:30:53.160024Z",
     "iopub.status.busy": "2022-07-25T07:30:53.154749Z",
     "iopub.status.idle": "2022-07-25T07:41:04.539632Z",
     "shell.execute_reply": "2022-07-25T07:41:04.537396Z"
    },
    "id": "26acbc37",
    "papermill": {
     "duration": 611.456101,
     "end_time": "2022-07-25T07:41:04.544260",
     "exception": false,
     "start_time": "2022-07-25T07:30:53.088159",
     "status": "completed"
    },
    "tags": []
   },
   "outputs": [
    {
     "data": {
      "image/png": "[encoded data removed]",
      "text/plain": [
       "<Figure size 432x288 with 1 Axes>"
      ]
     },
     "metadata": {
      "needs_background": "light"
     },
     "output_type": "display_data"
    },
    {
     "data": {
      "image/png": "[encoded data removed]",
      "text/plain": [
       "<Figure size 432x288 with 1 Axes>"
      ]
     },
     "metadata": {
      "needs_background": "light"
     },
     "output_type": "display_data"
    }
   ],
   "source": [
    "ABC_train_test2.training_GAN_skip_connection(disc3,gen3,disc_opt,gen_opt,train_data,batch_size,n_epochs,criterion,prior_model,variance,bias,device)"
   ]
  },
  {
   "cell_type": "code",
   "execution_count": 21,
   "id": "c5e0717b",
   "metadata": {
    "execution": {
     "iopub.execute_input": "2022-07-25T07:41:04.594180Z",
     "iopub.status.busy": "2022-07-25T07:41:04.593496Z",
     "iopub.status.idle": "2022-07-25T07:41:06.681895Z",
     "shell.execute_reply": "2022-07-25T07:41:06.680899Z"
    },
    "id": "c5e0717b",
    "papermill": {
     "duration": 2.121246,
     "end_time": "2022-07-25T07:41:06.684631",
     "exception": false,
     "start_time": "2022-07-25T07:41:04.563385",
     "status": "completed"
    },
    "tags": []
   },
   "outputs": [
    {
     "data": {
      "application/scrapbook.scrap.json+json": {
       "data": 906169991.8016509,
       "encoder": "json",
       "name": "ABC-GAN Model 3 MSE",
       "version": 1
      }
     },
     "metadata": {
      "scrapbook": {
       "data": true,
       "display": false,
       "name": "ABC-GAN Model 3 MSE"
      }
     },
     "output_type": "display_data"
    },
    {
     "data": {
      "application/scrapbook.scrap.json+json": {
       "data": 23647.03248136192,
       "encoder": "json",
       "name": "ABC-GAN Model 3 MAE",
       "version": 1
      }
     },
     "metadata": {
      "scrapbook": {
       "data": true,
       "display": false,
       "name": "ABC-GAN Model 3 MAE"
      }
     },
     "output_type": "display_data"
    },
    {
     "data": {
      "application/scrapbook.scrap.json+json": {
       "data": 3641643.0021297354,
       "encoder": "json",
       "name": "ABC-GAN Model 3 Manhattan Distance",
       "version": 1
      }
     },
     "metadata": {
      "scrapbook": {
       "data": true,
       "display": false,
       "name": "ABC-GAN Model 3 Manhattan Distance"
      }
     },
     "output_type": "display_data"
    },
    {
     "data": {
      "application/scrapbook.scrap.json+json": {
       "data": 373564.15157519036,
       "encoder": "json",
       "name": "ABC-GAN Model 3 Euclidean distance",
       "version": 1
      }
     },
     "metadata": {
      "scrapbook": {
       "data": true,
       "display": false,
       "name": "ABC-GAN Model 3 Euclidean distance"
      }
     },
     "output_type": "display_data"
    },
    {
     "data": {
      "application/scrapbook.scrap.json+json": {
       "data": [
        [
         905685100.5115594,
         906539806.6781505,
         906288926.4100049,
         906730143.3023943,
         906191123.6730666,
         906308819.2280902,
         905707768.976108,
         906263052.573348,
         906308114.2645614,
         906008474.8546402,
         906137047.5630711,
         905703335.539262,
         905997758.7978405,
         906253883.9254277,
         905948752.1250087,
         906651866.1601586,
         906351804.2653815,
         906119089.2242988,
         906298770.7185209,
         906089207.1668955,
         906393462.7452384,
         906225547.1054386,
         906185766.5161878,
         906400387.8654385,
         906175904.3720479,
         905892665.4706968,
         906016987.8872126,
         905573950.5186565,
         906133319.7340938,
         905989088.5373527,
         906606602.1855001,
         905497438.8788302,
         906122144.1529573,
         906097808.8948122,
         905799535.6800716,
         906139295.1140214,
         905830348.1979232,
         905840015.4866202,
         905925935.2966393,
         906465014.1159006,
         906230087.7237775,
         905669450.1248716,
         906339641.5728445,
         906497391.5693791,
         905797758.8092463,
         906457216.0042781,
         906318863.3992056,
         906362439.698644,
         906223121.457959,
         906535576.3960966,
         906066409.7145299,
         906069422.3986361,
         905930471.2712953,
         906017903.5336735,
         906260160.8400974,
         906341023.8934742,
         905902137.0193613,
         906431689.3237184,
         906362842.3349502,
         905969728.8180867,
         906318370.3494389,
         906233842.5565207,
         906654353.8881477,
         906578150.3893286,
         906317292.7106799,
         906158794.2741462,
         905856636.266466,
         906464286.5547779,
         905755307.8346602,
         905992802.6717933,
         905812204.274896,
         906250421.7814283,
         906321323.4004911,
         906619169.6831181,
         906207049.8275114,
         906413062.2235897,
         906614905.026141,
         906767253.8677605,
         906540225.2359338,
         906557390.7500868,
         906160672.284839,
         906491487.3969113,
         905868462.2705327,
         905831831.7707915,
         906114463.293107,
         906482280.1471118,
         905786900.878756,
         905778502.5815576,
         906251737.167654,
         906165070.1601794,
         906555007.8641064,
         906356168.4048953,
         905912362.010229,
         906065971.795152,
         906295634.5400716,
         905869016.6410637,
         906224989.7719771,
         906111656.8395036,
         905826867.4259635,
         905739852.736216
        ],
        [
         23642.270676718806,
         23651.703458780496,
         23647.762640687455,
         23653.01929906814,
         23646.67360545511,
         23649.133696389566,
         23641.832848555758,
         23648.382857750665,
         23648.286190745795,
         23644.78117635101,
         23646.94973325797,
         23642.14684827674,
         23644.986314718502,
         23648.088084896568,
         23645.407208400018,
         23653.290875392206,
         23649.489704151336,
         23645.8919908295,
         23648.169226777147,
         23646.176606482404,
         23650.0123505723,
         23647.981555561644,
         23647.332677340255,
         23649.995799740318,
         23647.163798611564,
         23643.754400148697,
         23645.47645238845,
         23639.772430092387,
         23647.29583747114,
         23644.391973390884,
         23652.63369004825,
         23639.400475508883,
         23646.162547787193,
         23645.893278116433,
         23642.80705684259,
         23647.029247005943,
         23642.386443764262,
         23642.925289074225,
         23643.909522979968,
         23650.47855770501,
         23646.689065580922,
         23641.603927086602,
         23649.212747221547,
         23650.300393705922,
         23642.673584845837,
         23650.787316329195,
         23649.305311395652,
         23650.12043194405,
         23647.708763290437,
         23650.145977931268,
         23646.037779245187,
         23646.825407022683,
         23643.710857509697,
         23644.86061717386,
         23648.723844522683,
         23649.054347515783,
         23644.112735173047,
         23649.899548091576,
         23649.377573849997,
         23646.1663937947,
         23648.54277144537,
         23647.802633775424,
         23652.484456713228,
         23651.90491125868,
         23648.880259396872,
         23647.570735058904,
         23642.916427086602,
         23650.078309759596,
         23642.768002269233,
         23644.837509422236,
         23643.866157897784,
         23648.528501901437,
         23648.004882088633,
         23652.05183476974,
         23647.500807793785,
         23649.95745856489,
         23651.92569808904,
         23654.962986606184,
         23650.531235008173,
         23651.587582347358,
         23646.687209160973,
         23650.131231203384,
         23643.659310545918,
         23643.452149298962,
         23645.586724684512,
         23650.493501013654,
         23641.475635944153,
         23642.449758623232,
         23648.996644720533,
         23647.28328008224,
         23651.813169870187,
         23649.221409457747,
         23643.212173332544,
         23645.236527152552,
         23648.570433846446,
         23643.53687243715,
         23646.445768350808,
         23646.27999052512,
         23642.14847640935,
         23641.301657212924
        ],
        [
         3640909.6842146963,
         3642362.3326521963,
         3641755.446665868,
         3642564.972056493,
         3641587.735240087,
         3641966.589243993,
         3640842.258677587,
         3641850.9600936025,
         3641836.0733748525,
         3641296.3011580557,
         3641630.2589217275,
         3640890.614634618,
         3641327.8924666494,
         3641805.5650740713,
         3641392.7100936025,
         3642606.7948103994,
         3642021.4144393057,
         3641467.366587743,
         3641818.0609236807,
         3641511.19739829,
         3642101.901988134,
         3641789.159556493,
         3641689.2323103994,
         3642099.353160009,
         3641663.2249861807,
         3641138.1776228994,
         3641403.3736678213,
         3640524.9542342275,
         3641683.5589705557,
         3641236.3639021963,
         3642505.5882674307,
         3640467.673228368,
         3641509.0323592275,
         3641467.5648299307,
         3640992.286753759,
         3641642.504038915,
         3640927.5123396963,
         3641010.4945174307,
         3641162.066538915,
         3642173.6978865713,
         3641590.116099462,
         3640807.004771337,
         3641978.763072118,
         3642146.260630712,
         3640971.732066259,
         3642221.2467146963,
         3641993.0179549307,
         3642118.546519384,
         3641747.1495467275,
         3642122.480601415,
         3641489.818003759,
         3641611.112681493,
         3641131.472056493,
         3641308.5350447744,
         3641903.472056493,
         3641954.3695174307,
         3641193.3612166494,
         3642084.5304061025,
         3642004.1463728994,
         3641509.624644384,
         3641875.586802587,
         3641761.605601415,
         3642482.606333837,
         3642393.356333837,
         3641927.559947118,
         3641725.8931990713,
         3641009.129771337,
         3642112.0597029775,
         3640986.272349462,
         3641304.9764510244,
         3641155.388316259,
         3641873.3892928213,
         3641792.7518416494,
         3642415.98255454,
         3641715.124400243,
         3642093.448618993,
         3642396.557505712,
         3642864.2999373525,
         3642181.810191259,
         3642344.487681493,
         3641589.83021079,
         3642120.2096053213,
         3641123.5338240713,
         3641091.63099204,
         3641420.355601415,
         3642175.9991561025,
         3640787.2479353994,
         3640937.2628279775,
         3641945.483286962,
         3641681.625132665,
         3642379.228160009,
         3641980.097056493,
         3641054.674693212,
         3641366.425181493,
         3641879.8468123525,
         3641104.6783553213,
         3641552.6483260244,
         3641527.118540868,
         3640890.86536704,
         3640760.45521079
        ],
        [
         373464.19571195863,
         373640.37553299183,
         373588.67042128136,
         373679.5981433409,
         373568.5118497707,
         373592.7704883031,
         373468.8694152709,
         373583.33755173767,
         373592.6251905174,
         373530.86234957166,
         373557.3655072444,
         373467.9553496475,
         373528.65332510637,
         373581.4477788156,
         373518.5508475468,
         373663.4680948413,
         373601.62989054085,
         373553.6638028625,
         373590.6994166908,
         373547.50421292067,
         373610.2156830923,
         373575.60714564536,
         373567.40763012634,
         373611.64292789047,
         373565.3748318965,
         373506.9885323262,
         373532.61722991575,
         373441.27835561126,
         373556.5971028359,
         373526.8660146849,
         373654.14053181186,
         373425.50205809437,
         373554.2935097326,
         373549.27729792375,
         373487.78894996137,
         373557.8287863331,
         373494.14134960703,
         373496.13436411833,
         373513.84718064,
         373624.9619255233,
         373576.5430396584,
         373460.96893682244,
         373599.1231282777,
         373631.63450340275,
         373487.42262173165,
         373623.35481693165,
         373594.84065425437,
         373603.82186694926,
         373575.10717996955,
         373639.5037532821,
         373542.80490465567,
         373543.4259217928,
         373514.7822721071,
         373532.8059811959,
         373582.7415304071,
         373599.4080289677,
         373508.9411258874,
         373618.09398883866,
         373603.90485055477,
         373522.87512009946,
         373594.73903390765,
         373577.3169689297,
         373663.98073506466,
         373648.27734107996,
         373594.51692636585,
         373561.84804958134,
         373499.5608900173,
         373624.8119831388,
         373478.6706179319,
         373527.6316572258,
         373490.40075794986,
         373580.7341851825,
         373595.3476740251,
         373656.73034377454,
         373571.7945367888,
         373614.25505785074,
         373655.85151851387,
         373687.245026687,
         373640.4617895842,
         373643.99924997234,
         373562.2351521434,
         373630.4177380695,
         373501.99890986143,
         373494.44720464305,
         373552.7102660862,
         373628.52024792647,
         373485.18409078615,
         373483.45264222875,
         373581.005303828,
         373563.1416570265,
         373643.5081880486,
         373602.5293468367,
         373511.04903278995,
         373542.7146344223,
         373590.05302493135,
         373502.1131971327,
         373575.4922701494,
         373552.1317745136,
         373493.42374879704,
         373475.48423072865
        ]
       ],
       "encoder": "json",
       "name": "ABC_GAN_3 Metrics",
       "version": 1
      }
     },
     "metadata": {
      "scrapbook": {
       "data": true,
       "display": false,
       "name": "ABC_GAN_3 Metrics"
      }
     },
     "output_type": "display_data"
    },
    {
     "name": "stdout",
     "output_type": "stream",
     "text": [
      "MAE\n",
      "23647.03248136192\n"
     ]
    }
   ],
   "source": [
    "ABC_GAN3_metrics=ABC_train_test2.test_generator(gen3,test_data,prior_model,variance,bias,\"3\",device)\n",
    "sb.glue(\"ABC_GAN_3 Metrics\",ABC_GAN3_metrics)\n",
    "\n",
    "print(\"MAE\")\n",
    "print(mean(ABC_GAN3_metrics[1]))"
   ]
  },
  {
   "cell_type": "code",
   "execution_count": 22,
   "id": "c8e46b48",
   "metadata": {
    "execution": {
     "iopub.execute_input": "2022-07-25T07:41:06.740031Z",
     "iopub.status.busy": "2022-07-25T07:41:06.739633Z",
     "iopub.status.idle": "2022-07-25T07:41:08.588774Z",
     "shell.execute_reply": "2022-07-25T07:41:08.587502Z"
    },
    "id": "c8e46b48",
    "papermill": {
     "duration": 1.887478,
     "end_time": "2022-07-25T07:41:08.591803",
     "exception": false,
     "start_time": "2022-07-25T07:41:06.704325",
     "status": "completed"
    },
    "tags": []
   },
   "outputs": [
    {
     "data": {
      "image/png": "[encoded data removed]",
      "text/plain": [
       "<Figure size 432x288 with 1 Axes>"
      ]
     },
     "metadata": {
      "needs_background": "light"
     },
     "output_type": "display_data"
    },
    {
     "data": {
      "image/png": "[encoded data removed]",
      "text/plain": [
       "<Figure size 432x288 with 1 Axes>"
      ]
     },
     "metadata": {
      "needs_background": "light"
     },
     "output_type": "display_data"
    },
    {
     "data": {
      "image/png": "[encoded data removed]",
      "text/plain": [
       "<Figure size 432x288 with 1 Axes>"
      ]
     },
     "metadata": {
      "needs_background": "light"
     },
     "output_type": "display_data"
    },
    {
     "data": {
      "image/png": "[encoded data removed]",
      "text/plain": [
       "<Figure size 432x288 with 1 Axes>"
      ]
     },
     "metadata": {
      "needs_background": "light"
     },
     "output_type": "display_data"
    }
   ],
   "source": [
    "sanityChecks.discProbVsError(train_data,disc3,device)\n",
    "sanityChecks.discProbVsError(test_data,disc3,device)"
   ]
  },
  {
   "cell_type": "markdown",
   "id": "f1be8881",
   "metadata": {
    "id": "130f3a4d",
    "papermill": {
     "duration": 0.023401,
     "end_time": "2022-07-25T07:41:08.641297",
     "exception": false,
     "start_time": "2022-07-25T07:41:08.617896",
     "status": "completed"
    },
    "tags": []
   },
   "source": [
    "# skipGAN Model with TabNet Generator"
   ]
  },
  {
   "cell_type": "code",
   "execution_count": 23,
   "id": "7dbfe00c",
   "metadata": {
    "execution": {
     "iopub.execute_input": "2022-07-25T07:41:08.692436Z",
     "iopub.status.busy": "2022-07-25T07:41:08.692049Z",
     "iopub.status.idle": "2022-07-25T07:41:08.713173Z",
     "shell.execute_reply": "2022-07-25T07:41:08.711870Z"
    },
    "id": "4e43dad1",
    "papermill": {
     "duration": 0.050504,
     "end_time": "2022-07-25T07:41:08.719297",
     "exception": false,
     "start_time": "2022-07-25T07:41:08.668793",
     "status": "completed"
    },
    "tags": []
   },
   "outputs": [],
   "source": [
    "#Generator\n",
    "gen4 = network.GeneratorTabnetskipConnection(n_features+1).to(device)\n",
    "constraints=network.weightConstraint()\n",
    "#Discriminator \n",
    "disc4 = network.Discriminator(n_features+1).to(device)\n",
    "\n",
    "criterion = torch.nn.BCELoss()\n",
    "gen_opt = torch.optim.Adam(gen4.parameters(), lr=0.01, betas=(0.5, 0.999))\n",
    "disc_opt = torch.optim.Adam(disc4.parameters(), lr=0.01, betas=(0.5, 0.999))\n"
   ]
  },
  {
   "cell_type": "code",
   "execution_count": 24,
   "id": "3ed96ffa",
   "metadata": {
    "execution": {
     "iopub.execute_input": "2022-07-25T07:41:08.784962Z",
     "iopub.status.busy": "2022-07-25T07:41:08.784555Z"
    },
    "id": "26acbc37",
    "papermill": {
     "duration": 1019.283325,
     "end_time": "2022-07-25T07:58:08.041323",
     "exception": false,
     "start_time": "2022-07-25T07:41:08.757998",
     "status": "completed"
    },
    "tags": []
   },
   "outputs": [],
   "source": [
    "ABC_train_test2.training_GAN_skip_connection(disc4,gen4,disc_opt,gen_opt,train_data,batch_size,n_epochs,criterion,prior_model,variance,bias,device)"
   ]
  },
  {
   "cell_type": "code",
   "execution_count": null,
   "id": "b91a7b0c",
   "metadata": {
    "id": "c5e0717b",
    "papermill": {
     "duration": null,
     "end_time": null,
     "exception": null,
     "start_time": null,
     "status": "completed"
    },
    "tags": []
   },
   "outputs": [],
   "source": [
    "ABC_GAN4_metrics=ABC_train_test2.test_generator(gen4,test_data,prior_model,variance,bias,\"3\",device)\n",
    "sb.glue(\"ABC_GAN_4 Metrics\",ABC_GAN4_metrics)\n",
    "\n",
    "print(\"MAE\")\n",
    "print(mean(ABC_GAN4_metrics[1]))"
   ]
  },
  {
   "cell_type": "code",
   "execution_count": null,
   "id": "0a9cdc5f",
   "metadata": {
    "id": "c8e46b48",
    "papermill": {
     "duration": null,
     "end_time": null,
     "exception": null,
     "start_time": null,
     "status": "completed"
    },
    "tags": []
   },
   "outputs": [],
   "source": [
    "sanityChecks.discProbVsError(train_data,disc4,device)\n",
    "sanityChecks.discProbVsError(test_data,disc4,device)"
   ]
  },
  {
   "cell_type": "markdown",
   "id": "a5bd74c3",
   "metadata": {
    "id": "a5bd74c3",
    "papermill": {
     "duration": null,
     "end_time": null,
     "exception": null,
     "start_time": null,
     "status": "completed"
    },
    "tags": []
   },
   "source": [
    "## Skip Connection Model Analysis - ABC-GAN "
   ]
  },
  {
   "cell_type": "markdown",
   "id": "5744a8bf",
   "metadata": {
    "id": "5744a8bf",
    "papermill": {
     "duration": null,
     "end_time": null,
     "exception": null,
     "start_time": null,
     "status": "completed"
    },
    "tags": []
   },
   "source": [
    "### Weight Analysis \n",
    "\n",
    "Study the weights of the skip connection layer\n",
    "\n",
    "Equation of the skip connection is \n",
    "\n",
    "$output = y_{gan} * w + y_{abc} * (1-w)$"
   ]
  },
  {
   "cell_type": "code",
   "execution_count": null,
   "id": "52c31dea",
   "metadata": {
    "id": "52c31dea",
    "papermill": {
     "duration": null,
     "end_time": null,
     "exception": null,
     "start_time": null,
     "status": "completed"
    },
    "tags": []
   },
   "outputs": [],
   "source": [
    "print(\"Weight of the node at skip connection\")\n",
    "for name,param in gen3.named_parameters():\n",
    "    if(name == \"skipNode.weight\"):\n",
    "        print(param)\n",
    "        sb.glue(\"Skip Connection Weight\",param.item())"
   ]
  },
  {
   "cell_type": "markdown",
   "id": "e27793ae",
   "metadata": {
    "id": "a5bd74c3",
    "papermill": {
     "duration": null,
     "end_time": null,
     "exception": null,
     "start_time": null,
     "status": "completed"
    },
    "tags": []
   },
   "source": [
    "## skipGAN Model Analysis (TabNet Generator) "
   ]
  },
  {
   "cell_type": "markdown",
   "id": "a86b6bef",
   "metadata": {
    "id": "5744a8bf",
    "papermill": {
     "duration": null,
     "end_time": null,
     "exception": null,
     "start_time": null,
     "status": "completed"
    },
    "tags": []
   },
   "source": [
    "### Weight Analysis \n",
    "\n",
    "Study the weights of the skip connection layer\n",
    "\n",
    "Equation of the skip connection is \n",
    "\n",
    "$output = y_{gan} * w + y_{abc} * (1-w)$"
   ]
  },
  {
   "cell_type": "code",
   "execution_count": null,
   "id": "299ad8af",
   "metadata": {
    "id": "52c31dea",
    "papermill": {
     "duration": null,
     "end_time": null,
     "exception": null,
     "start_time": null,
     "status": "completed"
    },
    "tags": []
   },
   "outputs": [],
   "source": [
    "print(\"Weight of the node at skip connection\")\n",
    "for name,param in gen4.named_parameters():\n",
    "    if(name == \"skipNode.weight\"):\n",
    "        print(param)\n",
    "        sb.glue(\"Skip Connection Weight\",param.item())"
   ]
  }
 ],
 "metadata": {
  "colab": {
   "collapsed_sections": [],
   "name": "ABC_GAN_Model-Catboost_Pre-gen.ipynb",
   "provenance": []
  },
  "interpreter": {
   "hash": "31f2aee4e71d21fbe5cf8b01ff0e069b9275f58929596ceb00d14d90e3e16cd6"
  },
  "kernelspec": {
   "display_name": "Python 3 (ipykernel)",
   "language": "python",
   "name": "python3"
  },
  "language_info": {
   "codemirror_mode": {
    "name": "ipython",
    "version": 3
   },
   "file_extension": ".py",
   "mimetype": "text/x-python",
   "name": "python",
   "nbconvert_exporter": "python",
   "pygments_lexer": "ipython3",
   "version": "3.8.9"
  },
  "papermill": {
   "default_parameters": {},
   "duration": 3149.7221,
   "end_time": "2022-07-25T07:58:09.529945",
   "environment_variables": {},
   "exception": null,
   "input_path": "ABC_GAN-Catboost.ipynb",
   "output_path": "./ABC_GAN_Catboost/ABC-GAN_output_2_8.ipynb",
   "parameters": {
    "bias": 0.01,
    "variance": 0.01
   },
   "start_time": "2022-07-25T07:05:39.807845",
   "version": "2.3.3"
  }
 },
 "nbformat": 4,
 "nbformat_minor": 5
}